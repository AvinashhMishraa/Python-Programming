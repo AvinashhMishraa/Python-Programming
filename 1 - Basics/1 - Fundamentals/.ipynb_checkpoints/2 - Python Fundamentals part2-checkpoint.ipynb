{
 "cells": [
  {
   "cell_type": "markdown",
   "id": "450a93a1-248e-4d8f-a2b9-71f8e1375234",
   "metadata": {},
   "source": [
    "<br>\n",
    "\n",
    "# <u>Strings</u>\n",
    "\n",
    "<br>\n"
   ]
  },
  {
   "cell_type": "markdown",
   "id": "e6cd03e7-196d-4d7a-aeae-844c5c91aa25",
   "metadata": {},
   "source": [
    "\n",
    "### 1. <span style=\"background-color: yellow;\">Introduction to Python string</span>\n",
    "\n",
    "<br>\n",
    "\n",
    "In Python, anything inside quotes is a string. And you can use either **single** or **double** quotes.\n"
   ]
  },
  {
   "cell_type": "code",
   "execution_count": 1,
   "id": "9846f0c5-d146-4b49-b139-31b38412acac",
   "metadata": {},
   "outputs": [
    {
     "name": "stdout",
     "output_type": "stream",
     "text": [
      "This is a string in Python\n",
      "This is also a string\n"
     ]
    }
   ],
   "source": [
    "\n",
    "message1 = 'This is a string in Python'\n",
    "print(message1)\n",
    "\n",
    "message2 = \"This is also a string\"\n",
    "print(message2)\n"
   ]
  },
  {
   "cell_type": "code",
   "execution_count": 2,
   "id": "68ee33df-81c9-4023-aef0-c51ea3aadf9d",
   "metadata": {},
   "outputs": [],
   "source": [
    "\n",
    "x = \"John\"\n",
    "# is the same as\n",
    "x = 'John'\n"
   ]
  },
  {
   "cell_type": "markdown",
   "id": "6b9e1001-44a0-4ea6-9609-2d289d69ee6e",
   "metadata": {},
   "source": [
    "<br>\n",
    "\n",
    "If a string contains a **single quote**, you should place it in **double-quotes** like this:"
   ]
  },
  {
   "cell_type": "code",
   "execution_count": 3,
   "id": "42f76b44-219e-45bf-b542-01f9b0aaffac",
   "metadata": {},
   "outputs": [
    {
     "name": "stdout",
     "output_type": "stream",
     "text": [
      "It's a string\n"
     ]
    }
   ],
   "source": [
    "\n",
    "message = \"It's a string\"\n",
    "print(message)\n"
   ]
  },
  {
   "cell_type": "markdown",
   "id": "368853f1-ed51-4517-90f5-3b5a6b07b131",
   "metadata": {},
   "source": [
    "<br>\n",
    "\n",
    "And when a string contains **double quotes**, you can use the **single quotes**:"
   ]
  },
  {
   "cell_type": "code",
   "execution_count": 4,
   "id": "68ac1f45-2b89-478f-a058-8a2b4cb33fde",
   "metadata": {},
   "outputs": [
    {
     "name": "stdout",
     "output_type": "stream",
     "text": [
      "Mummy says \"Never Give Up.\"\n"
     ]
    }
   ],
   "source": [
    "\n",
    "message = 'Mummy says \"Never Give Up.\"'\n",
    "print(message)\n"
   ]
  },
  {
   "cell_type": "markdown",
   "id": "4e153c1f-de37-487f-8739-0420e3769fc9",
   "metadata": {},
   "source": [
    "<br>\n",
    "\n",
    "<span style=\"background-color: #C9FF71;color: black\">**Note:**</span> <br>\n",
    "\n",
    "To **escape** the quotes, you use the **backslash** (<span style=\"background-color: #FFF971;color: red\">  **\\\\**  </span>). For example:"
   ]
  },
  {
   "cell_type": "code",
   "execution_count": 5,
   "id": "001b7642-1767-48dd-b3e6-4fe5386d0e03",
   "metadata": {},
   "outputs": [
    {
     "name": "stdout",
     "output_type": "stream",
     "text": [
      "It's also a valid string\n"
     ]
    }
   ],
   "source": [
    "\n",
    "message = 'It\\'s also a valid string'\n",
    "print(message)\n"
   ]
  },
  {
   "cell_type": "markdown",
   "id": "f5d06870-68b7-4900-941c-3a5ef180424b",
   "metadata": {},
   "source": [
    "The Python interpreter will treat the backslash character (<span style=\"background-color: #FFF971;color: red\">  **\\\\**  </span>) special. If you don’t want it to do so, you can use **raw strings** by adding the letter <span style=\"background-color: #FFF971;color: red\">  **r**  </span> before the first quote. For example:"
   ]
  },
  {
   "cell_type": "code",
   "execution_count": 6,
   "id": "ad7c04c8-9fcc-4c7f-a51c-e30b208859e6",
   "metadata": {},
   "outputs": [
    {
     "name": "stdout",
     "output_type": "stream",
     "text": [
      "C:\\python\\bin\n"
     ]
    }
   ],
   "source": [
    "\n",
    "message = r'C:\\python\\bin'\n",
    "print(message)\n"
   ]
  },
  {
   "cell_type": "markdown",
   "id": "64572c4b-0654-4ea6-a042-11f14d6706b8",
   "metadata": {},
   "source": [
    "<br>\n",
    "\n",
    "<span style=\"background-color: #C9FF71;color: black\">**Creating multiline strings:**</span> <br>\n",
    "\n",
    "\n",
    "To span a string multiple lines, you use triple-quotes <span style=\"background-color: #FFF971;color: red\"> **“””**…**”””** </span> or <span style=\"background-color: #FFF971;color: red\"> **”’**…**”’** </span>. For example:"
   ]
  },
  {
   "cell_type": "code",
   "execution_count": 7,
   "id": "5c1486f2-797c-49aa-8291-bd7129c0bfe8",
   "metadata": {},
   "outputs": [
    {
     "name": "stdout",
     "output_type": "stream",
     "text": [
      "\n",
      "Usage: mysql command\n",
      "    -h hostname     \n",
      "    -d database name\n",
      "    -u username\n",
      "    -p password \n",
      "\n"
     ]
    }
   ],
   "source": [
    "\n",
    "# using triple-single quotes\n",
    "\n",
    "help_message = '''\n",
    "Usage: mysql command\n",
    "    -h hostname     \n",
    "    -d database name\n",
    "    -u username\n",
    "    -p password \n",
    "'''\n",
    "\n",
    "print(help_message)\n"
   ]
  },
  {
   "cell_type": "code",
   "execution_count": 8,
   "id": "219f69fa-72cd-4711-935a-d1afb3d7c63f",
   "metadata": {},
   "outputs": [
    {
     "name": "stdout",
     "output_type": "stream",
     "text": [
      "\n",
      "Usage: mysql command\n",
      "    -h hostname     \n",
      "    -d database name\n",
      "    -u username\n",
      "    -p password \n",
      "\n"
     ]
    }
   ],
   "source": [
    "\n",
    "# using triple-double quotes\n",
    "\n",
    "help_message = \"\"\"\n",
    "Usage: mysql command\n",
    "    -h hostname     \n",
    "    -d database name\n",
    "    -u username\n",
    "    -p password \n",
    "\"\"\"\n",
    "\n",
    "print(help_message)\n"
   ]
  },
  {
   "cell_type": "markdown",
   "id": "d27ba513-df3f-4aa4-9aff-f0b23c569917",
   "metadata": {},
   "source": [
    "<br>\n",
    "\n",
    "### 2. <span style=\"background-color: yellow;\">String Formatting</span> <br>\n",
    "\n",
    "<span style=\"background-color: #CAFEFD\">Using the value of variables in Python strings with : </span>\n",
    "\n",
    "1. ⇒ **format strings** widely known as **f-strings**\n",
    "2. ⇒ **.format()** method\n",
    "\n",
    "<br>\n",
    "\n",
    "#### <span style=\"background-color: #C9FF71;color: black\">**f-strings**</span>\n",
    "\n",
    "Also known as **formatted string literals**"
   ]
  },
  {
   "cell_type": "code",
   "execution_count": 9,
   "id": "3fed942e-0599-40f4-9be4-84eaac133dad",
   "metadata": {},
   "outputs": [],
   "source": [
    "\n",
    "name = 'Avinash'\n",
    "message = 'Hi'\n"
   ]
  },
  {
   "cell_type": "code",
   "execution_count": 10,
   "id": "3863e2a4-1cc8-45c7-b19f-9d9af41c94fd",
   "metadata": {},
   "outputs": [
    {
     "data": {
      "text/plain": [
       "'Hi Avinash'"
      ]
     },
     "execution_count": 10,
     "metadata": {},
     "output_type": "execute_result"
    }
   ],
   "source": [
    "\n",
    "# To do it, you place the letter f before the opening quotation mark and put the brace around the variable name:\n",
    "\n",
    "message = f'Hi {name}'\n",
    "message\n"
   ]
  },
  {
   "cell_type": "code",
   "execution_count": 11,
   "id": "0d91e5f8-b2bc-4c33-8a7f-618e8521df18",
   "metadata": {},
   "outputs": [
    {
     "name": "stdout",
     "output_type": "stream",
     "text": [
      "message ⇒  Hi Avinash\n"
     ]
    }
   ],
   "source": [
    "\n",
    "print('message ⇒ ', message)\n"
   ]
  },
  {
   "cell_type": "code",
   "execution_count": 12,
   "id": "f78b360c-9b54-4a6e-874c-e642aebb1c0a",
   "metadata": {},
   "outputs": [
    {
     "name": "stdout",
     "output_type": "stream",
     "text": [
      "I am from India\n"
     ]
    }
   ],
   "source": [
    "\n",
    "# Using the value of 1 variable in Python strings with single quotes\n",
    "\n",
    "country = 'India'\n",
    "print(f'I am from {country}')\n"
   ]
  },
  {
   "cell_type": "code",
   "execution_count": 13,
   "id": "61a2a616-6430-48e0-a236-37ed8b59f057",
   "metadata": {},
   "outputs": [
    {
     "name": "stdout",
     "output_type": "stream",
     "text": [
      "My country's name is India\n"
     ]
    }
   ],
   "source": [
    "\n",
    "# Using the value of 1 variable in Python strings with double quotes\n",
    "\n",
    "print(f\"My country's name is {country}\")\n"
   ]
  },
  {
   "cell_type": "code",
   "execution_count": 14,
   "id": "e3f8dfc3-5ec3-449b-aeef-77ae0c06c281",
   "metadata": {},
   "outputs": [
    {
     "name": "stdout",
     "output_type": "stream",
     "text": [
      "I am Avinash and my country's name is India\n"
     ]
    }
   ],
   "source": [
    "\n",
    "# Using the value of multiple variables in Python strings\n",
    "\n",
    "name = 'Avinash'\n",
    "country = 'India'\n",
    "print(f\"I am {name} and my country's name is {country}\")\n"
   ]
  },
  {
   "cell_type": "markdown",
   "id": "4953258b-e53c-4157-b79d-b506ad142394",
   "metadata": {},
   "source": [
    "<br>\n",
    "\n",
    "<span style=\"color: red\"><font size=\"+2\">↳⭐</font></span>&nbsp;&nbsp;<span style=\"background-color: #CAFEFD\">Most Important **f-string** Trick :</span>"
   ]
  },
  {
   "cell_type": "code",
   "execution_count": 16,
   "id": "dc673ab8-4dbf-407c-be53-da6c1cff4411",
   "metadata": {},
   "outputs": [
    {
     "name": "stdout",
     "output_type": "stream",
     "text": [
      "15\n",
      "15\n",
      "\n",
      "a + b = 15\n",
      "a + b = 15\n",
      "a + b = 15\n"
     ]
    }
   ],
   "source": [
    "\n",
    "a = 5\n",
    "b = 10\n",
    "\n",
    "print(a + b)\n",
    "print(f\"{a + b}\")\n",
    "\n",
    "print()\n",
    "\n",
    "print(\"a + b =\", a + b)\n",
    "print (f\"a + b = {a + b}\")\n",
    "print(f\"{a + b = }\")           # We can write like this also\n"
   ]
  },
  {
   "cell_type": "code",
   "execution_count": 192,
   "id": "cfeb3e40-3b35-47c4-8031-54655eef8a61",
   "metadata": {},
   "outputs": [
    {
     "name": "stdout",
     "output_type": "stream",
     "text": [
      "True\n",
      "True\n",
      "\n",
      "bool(a) = True\n",
      "bool(a) = True\n",
      "bool(a) = True\n"
     ]
    }
   ],
   "source": [
    "a = 5\n",
    "\n",
    "print(bool(a))\n",
    "print(f\"{bool(a)}\")\n",
    "\n",
    "print()\n",
    "\n",
    "print(\"bool(a) =\", bool(a))\n",
    "print(f\"bool(a) = {bool(a)}\")\n",
    "print(f\"{bool(a) = }\")          # We can write like this also\n"
   ]
  },
  {
   "cell_type": "code",
   "execution_count": 17,
   "id": "588bd434-1e0e-4af3-8a98-b691e7711305",
   "metadata": {},
   "outputs": [
    {
     "name": "stdout",
     "output_type": "stream",
     "text": [
      "Avinash\n",
      "Avinash\n",
      "\n",
      "name = Avinash\n",
      "name = Avinash\n",
      "name = 'Avinash'\n"
     ]
    }
   ],
   "source": [
    "\n",
    "name = \"Avinash\"\n",
    "\n",
    "print(name)\n",
    "print(f\"{name}\")\n",
    "\n",
    "print()\n",
    "\n",
    "print(\"name =\", name)\n",
    "print(f\"name = {name}\")\n",
    "print(f\"{name = }\")             # We can write like this also but it will give the result in single inverted comma\n"
   ]
  },
  {
   "cell_type": "markdown",
   "id": "b336b341-b097-43c7-9cbb-197d414562b1",
   "metadata": {},
   "source": [
    "<br>\n",
    "\n",
    "<span style=\"color: red\"><font size=\"+2\">↳⭐</font></span>&nbsp;&nbsp;<span style=\"background-color: #CAFEFD\">We can use **underscore** <span style=\"background-color: yellow; color: red; font-size: larger\">&nbsp;**_**&nbsp;</span> in a **fstring** to enhance the **readability of a number** :</span> "
   ]
  },
  {
   "cell_type": "code",
   "execution_count": 18,
   "id": "b0e9fa97-8fa5-4150-8f71-74a3dcf9e0ba",
   "metadata": {},
   "outputs": [
    {
     "name": "stdout",
     "output_type": "stream",
     "text": [
      "n = 15\n",
      "n = 15\n",
      "n = 15\n"
     ]
    }
   ],
   "source": [
    "\n",
    "n = 1_5\n",
    "\n",
    "print(f\"n = {n}\")\n",
    "print(f\"n = {n:_}\")\n",
    "print(f\"n = {n:,}\")\n"
   ]
  },
  {
   "cell_type": "code",
   "execution_count": 19,
   "id": "fe1770c0-a521-46cf-88d4-74423e593731",
   "metadata": {},
   "outputs": [
    {
     "name": "stdout",
     "output_type": "stream",
     "text": [
      "n = 1000000\n",
      "n = 1_000_000\n",
      "n = 1,000,000\n"
     ]
    }
   ],
   "source": [
    "\n",
    "n = 1000000    \n",
    "\n",
    "print(f\"n = {n}\")\n",
    "print(f\"n = {n:_}\")     # we can use an underscore to make it more readable\n",
    "print(f\"n = {n:,}\")     # we can use a comma too to make it more readable\n"
   ]
  },
  {
   "cell_type": "code",
   "execution_count": 20,
   "id": "e7995c79-d648-4d0f-84eb-3f460317f557",
   "metadata": {},
   "outputs": [
    {
     "name": "stdout",
     "output_type": "stream",
     "text": [
      "n = 1000000\n",
      "n = 1_000_000\n",
      "n = 1,000,000\n"
     ]
    }
   ],
   "source": [
    "\n",
    "n = 10_00_000           # underscore is allowed to represent an integer even if it is not used in a fstring\n",
    "\n",
    "print(f\"n = {n}\")\n",
    "print(f\"n = {n:_}\")     # we can use an underscore to make it more readable\n",
    "print(f\"n = {n:,}\")     # we can use a comma too to make it more readable\n"
   ]
  },
  {
   "cell_type": "code",
   "execution_count": 21,
   "id": "8ae5c5b0-766c-4739-8a79-6b17bf2ba8c7",
   "metadata": {},
   "outputs": [
    {
     "name": "stdout",
     "output_type": "stream",
     "text": [
      "n = (10, 0, 0)\n"
     ]
    },
    {
     "ename": "TypeError",
     "evalue": "unsupported format string passed to tuple.__format__",
     "output_type": "error",
     "traceback": [
      "\u001b[1;31m---------------------------------------------------------------------------\u001b[0m",
      "\u001b[1;31mTypeError\u001b[0m                                 Traceback (most recent call last)",
      "Cell \u001b[1;32mIn[21], line 5\u001b[0m\n\u001b[0;32m      2\u001b[0m n \u001b[38;5;241m=\u001b[39m \u001b[38;5;241m10\u001b[39m,\u001b[38;5;241m00\u001b[39m,\u001b[38;5;241m000\u001b[39m           \u001b[38;5;66;03m#TypeError: unsupported format string passed to tuple.__format__\u001b[39;00m\n\u001b[0;32m      4\u001b[0m \u001b[38;5;28mprint\u001b[39m(\u001b[38;5;124mf\u001b[39m\u001b[38;5;124m\"\u001b[39m\u001b[38;5;124mn = \u001b[39m\u001b[38;5;132;01m{\u001b[39;00mn\u001b[38;5;132;01m}\u001b[39;00m\u001b[38;5;124m\"\u001b[39m)\n\u001b[1;32m----> 5\u001b[0m \u001b[38;5;28mprint\u001b[39m(\u001b[38;5;124mf\u001b[39m\u001b[38;5;124m\"\u001b[39m\u001b[38;5;124mn = \u001b[39m\u001b[38;5;132;01m{\u001b[39;00mn\u001b[38;5;132;01m:\u001b[39;00m\u001b[38;5;124m_\u001b[39m\u001b[38;5;132;01m}\u001b[39;00m\u001b[38;5;124m\"\u001b[39m)     \u001b[38;5;66;03m# we can use an underscore to make it more readable\u001b[39;00m\n\u001b[0;32m      6\u001b[0m \u001b[38;5;28mprint\u001b[39m(\u001b[38;5;124mf\u001b[39m\u001b[38;5;124m\"\u001b[39m\u001b[38;5;124mn = \u001b[39m\u001b[38;5;132;01m{\u001b[39;00mn\u001b[38;5;132;01m:\u001b[39;00m\u001b[38;5;124m,\u001b[39m\u001b[38;5;132;01m}\u001b[39;00m\u001b[38;5;124m\"\u001b[39m)     \u001b[38;5;66;03m# we can use a comma too to make it more readable\u001b[39;00m\n",
      "\u001b[1;31mTypeError\u001b[0m: unsupported format string passed to tuple.__format__"
     ]
    }
   ],
   "source": [
    "\n",
    "# But comma is not allowed to represent an integer even if it is not used in a fstring\n",
    "n = 10,00,000           #TypeError: unsupported format string passed to tuple.__format__\n",
    "\n",
    "print(f\"n = {n}\")\n",
    "print(f\"n = {n:_}\")     # we can use an underscore to make it more readable\n",
    "print(f\"n = {n:,}\")     # we can use a comma too to make it more readable\n"
   ]
  },
  {
   "cell_type": "code",
   "execution_count": 22,
   "id": "e0920848-5642-43d8-8b85-dc220983be73",
   "metadata": {},
   "outputs": [
    {
     "name": "stdout",
     "output_type": "stream",
     "text": [
      "n = 1000000\n",
      "n = 1_000_000\n",
      "n = 1,000,000\n",
      "\n",
      "n = 1000000\n",
      "n = 1_000_000\n",
      "n = 1,000,000\n"
     ]
    }
   ],
   "source": [
    "\n",
    "# Even explicit mentioning of data type supports this\n",
    "\n",
    "n: int = 1000000        \n",
    "\n",
    "print(f\"n = {n}\")\n",
    "print(f\"n = {n:_}\")     # we can use an underscore to make it more readable\n",
    "print(f\"n = {n:,}\")     # we can use a comma too to make it more readable\n",
    "\n",
    "print()\n",
    "\n",
    "n: int = 10_00_000        \n",
    "\n",
    "print(f\"n = {n}\")\n",
    "print(f\"n = {n:_}\")     # we can use an underscore to make it more readable\n",
    "print(f\"n = {n:,}\")     # we can use a comma too to make it more readable\n"
   ]
  },
  {
   "cell_type": "markdown",
   "id": "ea2ac9ca-8c63-440f-861e-e85562e9e912",
   "metadata": {},
   "source": [
    "<br>\n",
    "\n",
    "<span style=\"color: red\"><font size=\"+2\">↳⭐</font></span>&nbsp;&nbsp;We can use an <span style=\"background-color: yellow; color: red; font-size: larger\">&nbsp;**>**&nbsp;</span> or <span style=\"background-color: yellow; color: red; font-size: larger\">&nbsp;**<**&nbsp;</span> or <span style=\"background-color: yellow; color: red; font-size: larger\">&nbsp;**^**&nbsp;</span> symbol to <span style=\"background-color: #CAFEFD\">**align** a text in a way you want to print it</span> :"
   ]
  },
  {
   "cell_type": "code",
   "execution_count": 23,
   "id": "a9db90b4-c247-458f-814b-6c672a3e6a30",
   "metadata": {},
   "outputs": [
    {
     "name": "stdout",
     "output_type": "stream",
     "text": [
      "                 var\n"
     ]
    }
   ],
   "source": [
    "\n",
    "str_var = 'var'\n",
    "\n",
    "# This fstring {str_var:>20} has right alignment and 20 character spaces in total\n",
    "print(f\"{str_var:>20}\")    # 20 - len(str_var) = 20 - 3 = 17 white spaces (default) to be prefixed before the string\n"
   ]
  },
  {
   "cell_type": "code",
   "execution_count": 24,
   "id": "b9a4bad0-82c2-46f4-b103-ada267c6752a",
   "metadata": {},
   "outputs": [
    {
     "name": "stdout",
     "output_type": "stream",
     "text": [
      "var                 \n"
     ]
    }
   ],
   "source": [
    "\n",
    "str_var = 'var'\n",
    "\n",
    "# This fstring {str_var:<20} has left alignment and 20 character spaces in total\n",
    "print(f\"{str_var:<20}\")\n"
   ]
  },
  {
   "cell_type": "code",
   "execution_count": 25,
   "id": "9786fdf8-9066-4519-a315-958d943ec56d",
   "metadata": {},
   "outputs": [
    {
     "name": "stdout",
     "output_type": "stream",
     "text": [
      "var                 : variable\n"
     ]
    }
   ],
   "source": [
    "\n",
    "str_var1 = 'var'\n",
    "str_var2 = 'variable'\n",
    "\n",
    "# This fstring {str_var1:<20} has left alignment and 20 character spaces in total\n",
    "print(f\"{str_var1:<20}: {str_var2}\")\n"
   ]
  },
  {
   "cell_type": "code",
   "execution_count": 26,
   "id": "f673cf66-daf0-45e0-a5ef-c3d0103b8b96",
   "metadata": {},
   "outputs": [
    {
     "name": "stdout",
     "output_type": "stream",
     "text": [
      "var                 : variable\n",
      "\n"
     ]
    }
   ],
   "source": [
    "\n",
    "# since left arrow is deafult, we don't need to even mention it\n",
    "\n",
    "str_var1 = 'var'\n",
    "str_var2 = 'variable'\n",
    "\n",
    "# This fstring {str_var1:20} has left alignment and 20 character spaces in total\n",
    "print(f\"{str_var1:20}: {str_var2}\")\n",
    "print()\n"
   ]
  },
  {
   "cell_type": "code",
   "execution_count": 27,
   "id": "0f0e89b3-2e24-4e53-8be3-a2f47b5bfd70",
   "metadata": {},
   "outputs": [
    {
     "name": "stdout",
     "output_type": "stream",
     "text": [
      "        var         \n"
     ]
    }
   ],
   "source": [
    "\n",
    "str_var = 'var'\n",
    "\n",
    "# This fstring {str_var:^20} has center alignment and 20 character spaces in total\n",
    "print(f\"{str_var:^20}\")    # var will be placed in the center of 20 space width string\n"
   ]
  },
  {
   "cell_type": "markdown",
   "id": "348f389f-5cdf-4e9b-a02e-11d7a2dd3aeb",
   "metadata": {},
   "source": [
    "<br>\n",
    "\n",
    "We can use a **fill element** too in this :"
   ]
  },
  {
   "cell_type": "code",
   "execution_count": 28,
   "id": "0a5804ac-b59b-4270-b213-e93e9db8ca72",
   "metadata": {},
   "outputs": [
    {
     "name": "stdout",
     "output_type": "stream",
     "text": [
      "_________________var\n",
      "var#################\n",
      "||||||||var|||||||||\n"
     ]
    }
   ],
   "source": [
    "\n",
    "str_var = 'var'\n",
    "\n",
    "print(f\"{str_var:_>20}\")     # fill the spaces with _ \n",
    "print(f\"{str_var:#<20}\")     # fill the spaces with #\n",
    "print(f\"{str_var:|^20}\")     # fill the spaces with |\n"
   ]
  },
  {
   "cell_type": "markdown",
   "id": "47444977-dee6-406e-acb6-a9fc1e3e8349",
   "metadata": {},
   "source": [
    "<br>\n",
    "\n",
    "<span style=\"color: red\"><font size=\"+2\">↳⭐</font></span>&nbsp;&nbsp; We can also use <span style=\"background-color: #CAFEFD\">**date-format specifiers**</span> like <span style=\"background-color: yellow; color: red\">&nbsp;**%d**&nbsp;</span> or <span style=\"background-color: yellow; color: red\">&nbsp;**%m**&nbsp;</span> or <span style=\"background-color: yellow; color: red\">&nbsp;**%Y**&nbsp;</span> or others in a **format string** to make it more **readable** :\n",
    "\n",
    "<span style=\"background-color: yellow; color: red\">&nbsp;**%Y**&nbsp;</span>&nbsp;: &nbsp;**Year** with century as a decimal number (e.g., **2022**)                                      <br>\n",
    "<span style=\"background-color: yellow; color: red\">&nbsp;**%m**&nbsp;</span>&nbsp;: &nbsp;**Month** as a zero-padded decimal number (e.g., **01** for January, **02** for February)     <br>\n",
    "<span style=\"background-color: yellow; color: red\">&nbsp;**%d**&nbsp;</span>&nbsp;: &nbsp;**Day of the month** as a zero-padded decimal number (e.g., **01** to **31**)                  <br>\n",
    "<span style=\"background-color: yellow; color: red\">&nbsp;**%I**&nbsp;</span>&nbsp;: &nbsp;**Hour (12-hour clock)** as a zero-padded decimal number (e.g., **00** to **12**)           <br>\n",
    "<span style=\"background-color: yellow; color: red\">&nbsp;**%H**&nbsp;</span>&nbsp;: &nbsp;**Hour (24-hour clock)** as a zero-padded decimal number (e.g., **00** to **23**)           <br>\n",
    "<span style=\"background-color: yellow; color: red\">&nbsp;**%M**&nbsp;</span>&nbsp;: &nbsp;**Minute** as a zero-padded decimal number (e.g., **00** to **59**)                            <br>\n",
    "<span style=\"background-color: yellow; color: red\">&nbsp;**%S**&nbsp;</span>&nbsp;: &nbsp;**Second** as a zero-padded decimal number (e.g., **00** to **59**)                            <br>\n",
    "<span style=\"background-color: yellow; color: red\">&nbsp;**%b**&nbsp;</span>&nbsp;: &nbsp;Abbreviated month name (e.g., **Jan**, **Feb**)                                                  <br>\n",
    "<span style=\"background-color: yellow; color: red\">&nbsp;**%B**&nbsp;</span>&nbsp;: &nbsp;Full month name (e.g., **January**, **February**)                                                <br>\n",
    "<span style=\"background-color: yellow; color: red\">&nbsp;**%a**&nbsp;</span>&nbsp;: &nbsp;Abbreviated weekday name (e.g., **Sun**, **Mon**)                                                <br>\n",
    "<span style=\"background-color: yellow; color: red\">&nbsp;**%A**&nbsp;</span>&nbsp;: &nbsp;Full weekday name (e.g., **Sunday**, **Monday**)                                                <br>\n",
    "<span style=\"background-color: yellow; color: red\">&nbsp;**%p**&nbsp;</span>&nbsp;: &nbsp;**AM** or **PM** designation (e.g., AM, PM)                                                     <br>\n",
    "<span style=\"background-color: yellow; color: red\">&nbsp;**%Z**&nbsp;</span>&nbsp;: &nbsp;**Time zone** name (e.g., **UTC**, **GMT**)                                                     <br>\n",
    "\n",
    "<br>"
   ]
  },
  {
   "cell_type": "code",
   "execution_count": 29,
   "id": "d2eecc19-14f2-464d-a29e-ac06899de5e2",
   "metadata": {},
   "outputs": [
    {
     "name": "stdout",
     "output_type": "stream",
     "text": [
      "%d.%m.%Y  ==============>  14.04.2024\n",
      "%d.%m.%Y (%H:%M:%S)  ===>  14.04.2024 (14:39:47)\n",
      "%d.%m.%Y (%I:%M:%S)  ===>  14.04.2024 (02:39:47)\n",
      "%c  ====================>  Sun Apr 14 14:39:47 2024\n",
      "%H %p  =================>  14 PM\n",
      "%I %p  =================>  02 PM\n"
     ]
    }
   ],
   "source": [
    "\n",
    "from datetime import datetime\n",
    "\n",
    "# Get the current date and time\n",
    "now = datetime.now()\n",
    "\n",
    "\n",
    "print(f\"%d.%m.%Y  ==============>  {now:%d.%m.%Y}\")\n",
    "print(f\"%d.%m.%Y (%H:%M:%S)  ===>  {now:%d.%m.%Y (%H:%M:%S)}\")    # Global Time\n",
    "print(f\"%d.%m.%Y (%I:%M:%S)  ===>  {now:%d.%m.%Y (%I:%M:%S)}\")    # Global Time\n",
    "print(f\"%c  ====================>  {now:%c}\")                     # Local Time of your system\n",
    "print(f\"%H %p  =================>  {now:%H %p}\")\n",
    "print(f\"%I %p  =================>  {now:%I %p}\")\n"
   ]
  },
  {
   "cell_type": "code",
   "execution_count": 30,
   "id": "0d5d543e-1415-4a06-a37d-e0125fad2294",
   "metadata": {},
   "outputs": [
    {
     "name": "stdout",
     "output_type": "stream",
     "text": [
      "Formatted Date: 2024-04-14\n",
      "Formatted Time: 14:39:54\n",
      "Formatted Datetime: 2024-04-14 14:39:54\n"
     ]
    }
   ],
   "source": [
    "\n",
    "from datetime import datetime\n",
    "\n",
    "# Get the current date and time\n",
    "now = datetime.now()\n",
    "\n",
    "# Format the date and time using f-strings with strftime format specifiers\n",
    "formatted_date = f\"{now:%Y-%m-%d}\"\n",
    "formatted_time = f\"{now:%H:%M:%S}\"\n",
    "formatted_datetime = f\"{now:%Y-%m-%d %H:%M:%S}\"\n",
    "\n",
    "print(\"Formatted Date:\", formatted_date)\n",
    "print(\"Formatted Time:\", formatted_time)\n",
    "print(\"Formatted Datetime:\", formatted_datetime)\n"
   ]
  },
  {
   "cell_type": "markdown",
   "id": "0360819c-f32c-4c28-8a75-deb268175b3d",
   "metadata": {},
   "source": [
    "<br>\n",
    "\n",
    "<span style=\"color: red\"><font size=\"+2\">↳⭐</font></span>&nbsp;&nbsp; We can also use <span style=\"background-color: yellow; color: red\">&nbsp;**.1f**&nbsp;</span> , <span style=\"background-color: yellow; color: red\">&nbsp;**.2f**&nbsp;</span> , <span style=\"background-color: yellow; color: red\">&nbsp;**.3f**&nbsp;</span>...... to <span style=\"background-color: #CAFEFD\">**round the decimal point** upto the specified number</span> :\n"
   ]
  },
  {
   "cell_type": "code",
   "execution_count": 31,
   "id": "49362f9f-f6b8-46ba-94e2-37ff1b42f1d3",
   "metadata": {},
   "outputs": [
    {
     "name": "stdout",
     "output_type": "stream",
     "text": [
      "1234.5678\n",
      "1234.57\n"
     ]
    }
   ],
   "source": [
    "\n",
    "# n: float = 124.5678\n",
    "n = 1234.5678\n",
    "\n",
    "print(n)\n",
    "print(round(n,2))\n"
   ]
  },
  {
   "cell_type": "code",
   "execution_count": 32,
   "id": "695d35be-8fa9-4df8-85d3-2981eadf5feb",
   "metadata": {},
   "outputs": [
    {
     "name": "stdout",
     "output_type": "stream",
     "text": [
      "1234.57\n"
     ]
    }
   ],
   "source": [
    "\n",
    "print(f\"{n:.2f}\")\n"
   ]
  },
  {
   "cell_type": "code",
   "execution_count": 33,
   "id": "a9d0d5f3-7b4f-43f4-b349-73fee9cc9f1f",
   "metadata": {},
   "outputs": [
    {
     "name": "stdout",
     "output_type": "stream",
     "text": [
      "1235\n"
     ]
    }
   ],
   "source": [
    "\n",
    "print(f\"{n:.0f}\")\n"
   ]
  },
  {
   "cell_type": "code",
   "execution_count": 34,
   "id": "eb6a91d1-701d-426a-8c80-23307e19a0b5",
   "metadata": {},
   "outputs": [
    {
     "name": "stdout",
     "output_type": "stream",
     "text": [
      "1234.568\n"
     ]
    }
   ],
   "source": [
    "\n",
    "print(f\"{n:.3f}\")\n"
   ]
  },
  {
   "cell_type": "code",
   "execution_count": 35,
   "id": "19bd1137-1183-4a62-9325-497d15728bfa",
   "metadata": {},
   "outputs": [
    {
     "name": "stdout",
     "output_type": "stream",
     "text": [
      "1_234.568\n"
     ]
    }
   ],
   "source": [
    "\n",
    "print(f\"{n:_.3f}\")     # using _ and .3f both\n"
   ]
  },
  {
   "cell_type": "code",
   "execution_count": 36,
   "id": "bf66d45d-6c2e-4451-906c-5e05bcd1ea2b",
   "metadata": {},
   "outputs": [
    {
     "name": "stdout",
     "output_type": "stream",
     "text": [
      "1,234.568\n"
     ]
    }
   ],
   "source": [
    "\n",
    "print(f\"{n:,.3f}\")     # using , and .3f both\n"
   ]
  },
  {
   "cell_type": "code",
   "execution_count": null,
   "id": "3d616d6d-1d7f-46e3-805c-0a27d606e6a2",
   "metadata": {},
   "outputs": [],
   "source": []
  },
  {
   "cell_type": "markdown",
   "id": "3c1fe71c-1315-4ade-9235-247b7b45528e",
   "metadata": {},
   "source": [
    "<br>\n",
    "\n",
    "#### <span style=\"background-color: #C9FF71;color: black\">**.format()**</span>\n",
    "\n",
    "The format() method takes unlimited number of arguments, and are placed into the respective placeholders:"
   ]
  },
  {
   "cell_type": "code",
   "execution_count": 37,
   "id": "0b5c922b-48e4-4aba-b6e0-a1a97340da5d",
   "metadata": {},
   "outputs": [
    {
     "name": "stdout",
     "output_type": "stream",
     "text": [
      "My country's name is India\n"
     ]
    }
   ],
   "source": [
    "\n",
    "# Using the value of 1 variable in Python strings\n",
    "\n",
    "country = 'India'\n",
    "print(\"My country's name is {}\".format(country))\n"
   ]
  },
  {
   "cell_type": "code",
   "execution_count": 38,
   "id": "0afd00ae-5910-4dea-a010-923648f71168",
   "metadata": {},
   "outputs": [
    {
     "name": "stdout",
     "output_type": "stream",
     "text": [
      "I am Avinash and my country's name is India\n"
     ]
    }
   ],
   "source": [
    "\n",
    "# Using the value of multiple variables in Python strings\n",
    "\n",
    "name = 'Avinash'\n",
    "country = 'India'\n",
    "print(\"I am {} and my country's name is {}\".format(name,country))\n"
   ]
  },
  {
   "cell_type": "markdown",
   "id": "2c24a4d0-8f6e-490d-a379-8232b922031d",
   "metadata": {},
   "source": [
    "<br>\n",
    "\n",
    "You can use index numbers <span style=\"background-color:yellow;color:red\">&nbsp;**{0}**&nbsp;</span> to be sure the arguments are placed in the correct **placeholders**:"
   ]
  },
  {
   "cell_type": "code",
   "execution_count": 39,
   "id": "171108d6-2020-4126-9cfb-e731ee2a2540",
   "metadata": {},
   "outputs": [
    {
     "name": "stdout",
     "output_type": "stream",
     "text": [
      "The price is just 49.95\n"
     ]
    }
   ],
   "source": [
    "\n",
    "price = 49.95\n",
    "print(\"The price is just {0}\".format(price))\n"
   ]
  },
  {
   "cell_type": "code",
   "execution_count": 40,
   "id": "5c95e0b8-0714-4ccc-b9a8-d77641fb20b5",
   "metadata": {},
   "outputs": [
    {
     "ename": "IndexError",
     "evalue": "Replacement index 1 out of range for positional args tuple",
     "output_type": "error",
     "traceback": [
      "\u001b[1;31m---------------------------------------------------------------------------\u001b[0m",
      "\u001b[1;31mIndexError\u001b[0m                                Traceback (most recent call last)",
      "Cell \u001b[1;32mIn[40], line 2\u001b[0m\n\u001b[0;32m      1\u001b[0m price \u001b[38;5;241m=\u001b[39m \u001b[38;5;241m49.95\u001b[39m\n\u001b[1;32m----> 2\u001b[0m \u001b[38;5;28mprint\u001b[39m(\u001b[38;5;124;43m\"\u001b[39;49m\u001b[38;5;124;43mThe price is just \u001b[39;49m\u001b[38;5;132;43;01m{1}\u001b[39;49;00m\u001b[38;5;124;43m\"\u001b[39;49m\u001b[38;5;241;43m.\u001b[39;49m\u001b[43mformat\u001b[49m\u001b[43m(\u001b[49m\u001b[43mprice\u001b[49m\u001b[43m)\u001b[49m)\n",
      "\u001b[1;31mIndexError\u001b[0m: Replacement index 1 out of range for positional args tuple"
     ]
    }
   ],
   "source": [
    "\n",
    "price = 49.95\n",
    "print(\"The price is just {1}\".format(price))\n"
   ]
  },
  {
   "cell_type": "code",
   "execution_count": 41,
   "id": "bea910e6-f106-4d77-ab94-239f5b8773d0",
   "metadata": {},
   "outputs": [
    {
     "name": "stdout",
     "output_type": "stream",
     "text": [
      "I want to pay 49.95 dollars for 3 pieces of item 567.\n"
     ]
    }
   ],
   "source": [
    "\n",
    "quantity = 3\n",
    "item_no = 567\n",
    "price = 49.95\n",
    "myorder = \"I want to pay {2} dollars for {0} pieces of item {1}.\"\n",
    "print(myorder.format(quantity, item_no, price))\n"
   ]
  },
  {
   "cell_type": "code",
   "execution_count": 42,
   "id": "9495d9f8-8fde-41ca-9f41-a32a22dbe0f4",
   "metadata": {},
   "outputs": [
    {
     "ename": "IndexError",
     "evalue": "Replacement index 2 out of range for positional args tuple",
     "output_type": "error",
     "traceback": [
      "\u001b[1;31m---------------------------------------------------------------------------\u001b[0m",
      "\u001b[1;31mIndexError\u001b[0m                                Traceback (most recent call last)",
      "Cell \u001b[1;32mIn[42], line 2\u001b[0m\n\u001b[0;32m      1\u001b[0m myorder \u001b[38;5;241m=\u001b[39m \u001b[38;5;124m\"\u001b[39m\u001b[38;5;124mI want to pay \u001b[39m\u001b[38;5;132;01m{2}\u001b[39;00m\u001b[38;5;124m dollars for \u001b[39m\u001b[38;5;132;01m{0}\u001b[39;00m\u001b[38;5;124m pieces of item \u001b[39m\u001b[38;5;132;01m{1}\u001b[39;00m\u001b[38;5;124m.\u001b[39m\u001b[38;5;124m\"\u001b[39m\n\u001b[1;32m----> 2\u001b[0m \u001b[38;5;28mprint\u001b[39m(\u001b[43mmyorder\u001b[49m\u001b[38;5;241;43m.\u001b[39;49m\u001b[43mformat\u001b[49m\u001b[43m(\u001b[49m\u001b[43mquantity\u001b[49m\u001b[43m \u001b[49m\u001b[38;5;241;43m=\u001b[39;49m\u001b[43m \u001b[49m\u001b[38;5;241;43m3\u001b[39;49m\u001b[43m,\u001b[49m\u001b[43m \u001b[49m\u001b[43mitem_no\u001b[49m\u001b[43m \u001b[49m\u001b[38;5;241;43m=\u001b[39;49m\u001b[43m \u001b[49m\u001b[38;5;241;43m567\u001b[39;49m\u001b[43m,\u001b[49m\u001b[43m \u001b[49m\u001b[43mprice\u001b[49m\u001b[43m \u001b[49m\u001b[38;5;241;43m=\u001b[39;49m\u001b[43m \u001b[49m\u001b[38;5;241;43m49.95\u001b[39;49m\u001b[43m)\u001b[49m)\n",
      "\u001b[1;31mIndexError\u001b[0m: Replacement index 2 out of range for positional args tuple"
     ]
    }
   ],
   "source": [
    "\n",
    "myorder = \"I want to pay {2} dollars for {0} pieces of item {1}.\"\n",
    "print(myorder.format(quantity = 3, item_no = 567, price = 49.95))\n"
   ]
  },
  {
   "cell_type": "code",
   "execution_count": 43,
   "id": "b008f8ff-a79f-4e5b-9937-9ad98e76762c",
   "metadata": {},
   "outputs": [
    {
     "ename": "IndexError",
     "evalue": "Replacement index 2 out of range for positional args tuple",
     "output_type": "error",
     "traceback": [
      "\u001b[1;31m---------------------------------------------------------------------------\u001b[0m",
      "\u001b[1;31mIndexError\u001b[0m                                Traceback (most recent call last)",
      "Cell \u001b[1;32mIn[43], line 1\u001b[0m\n\u001b[1;32m----> 1\u001b[0m \u001b[38;5;28mprint\u001b[39m(\u001b[38;5;124;43m\"\u001b[39;49m\u001b[38;5;124;43mI want to pay \u001b[39;49m\u001b[38;5;132;43;01m{2}\u001b[39;49;00m\u001b[38;5;124;43m dollars for \u001b[39;49m\u001b[38;5;132;43;01m{0}\u001b[39;49;00m\u001b[38;5;124;43m pieces of item \u001b[39;49m\u001b[38;5;132;43;01m{1}\u001b[39;49;00m\u001b[38;5;124;43m.\u001b[39;49m\u001b[38;5;124;43m\"\u001b[39;49m\u001b[38;5;241;43m.\u001b[39;49m\u001b[43mformat\u001b[49m\u001b[43m(\u001b[49m\u001b[43mquantity\u001b[49m\u001b[43m \u001b[49m\u001b[38;5;241;43m=\u001b[39;49m\u001b[43m \u001b[49m\u001b[38;5;241;43m3\u001b[39;49m\u001b[43m,\u001b[49m\u001b[43m \u001b[49m\u001b[43mitem_no\u001b[49m\u001b[43m \u001b[49m\u001b[38;5;241;43m=\u001b[39;49m\u001b[43m \u001b[49m\u001b[38;5;241;43m567\u001b[39;49m\u001b[43m,\u001b[49m\u001b[43m \u001b[49m\u001b[43mprice\u001b[49m\u001b[43m \u001b[49m\u001b[38;5;241;43m=\u001b[39;49m\u001b[43m \u001b[49m\u001b[38;5;241;43m49.95\u001b[39;49m\u001b[43m)\u001b[49m)\n",
      "\u001b[1;31mIndexError\u001b[0m: Replacement index 2 out of range for positional args tuple"
     ]
    }
   ],
   "source": [
    "\n",
    "print(\"I want to pay {2} dollars for {0} pieces of item {1}.\".format(quantity = 3, item_no = 567, price = 49.95))\n"
   ]
  },
  {
   "cell_type": "code",
   "execution_count": 44,
   "id": "9056f137-cb9d-475f-b8e7-82f2e3ec0a9d",
   "metadata": {},
   "outputs": [
    {
     "ename": "IndexError",
     "evalue": "Replacement index 0 out of range for positional args tuple",
     "output_type": "error",
     "traceback": [
      "\u001b[1;31m---------------------------------------------------------------------------\u001b[0m",
      "\u001b[1;31mIndexError\u001b[0m                                Traceback (most recent call last)",
      "Cell \u001b[1;32mIn[44], line 1\u001b[0m\n\u001b[1;32m----> 1\u001b[0m \u001b[38;5;28mprint\u001b[39m(\u001b[38;5;124;43m\"\u001b[39;49m\u001b[38;5;124;43mI want to pay \u001b[39;49m\u001b[38;5;132;43;01m{}\u001b[39;49;00m\u001b[38;5;124;43m dollars for \u001b[39;49m\u001b[38;5;132;43;01m{}\u001b[39;49;00m\u001b[38;5;124;43m pieces of item \u001b[39;49m\u001b[38;5;132;43;01m{}\u001b[39;49;00m\u001b[38;5;124;43m.\u001b[39;49m\u001b[38;5;124;43m\"\u001b[39;49m\u001b[38;5;241;43m.\u001b[39;49m\u001b[43mformat\u001b[49m\u001b[43m(\u001b[49m\u001b[43mquantity\u001b[49m\u001b[43m \u001b[49m\u001b[38;5;241;43m=\u001b[39;49m\u001b[43m \u001b[49m\u001b[38;5;241;43m3\u001b[39;49m\u001b[43m,\u001b[49m\u001b[43m \u001b[49m\u001b[43mitem_no\u001b[49m\u001b[43m \u001b[49m\u001b[38;5;241;43m=\u001b[39;49m\u001b[43m \u001b[49m\u001b[38;5;241;43m567\u001b[39;49m\u001b[43m,\u001b[49m\u001b[43m \u001b[49m\u001b[43mprice\u001b[49m\u001b[43m \u001b[49m\u001b[38;5;241;43m=\u001b[39;49m\u001b[43m \u001b[49m\u001b[38;5;241;43m49.95\u001b[39;49m\u001b[43m)\u001b[49m)\n",
      "\u001b[1;31mIndexError\u001b[0m: Replacement index 0 out of range for positional args tuple"
     ]
    }
   ],
   "source": [
    "\n",
    "print(\"I want to pay {} dollars for {} pieces of item {}.\".format(quantity = 3, item_no = 567, price = 49.95))\n"
   ]
  },
  {
   "cell_type": "markdown",
   "id": "5ec3ca9f-0333-4b7b-9348-84cdad27dada",
   "metadata": {},
   "source": [
    "<br>\n",
    "\n",
    "<br>\n",
    "\n",
    "Placing the variable within the **placeholder** also works in the **.format()** method like it works in format string (**fstring** i.e., <span style=\"background-color:yellow\"><span style=\"color: red\">&nbsp;&nbsp;**f\"**</span>**.....{variable1}.....{variable2}...**<span style=\"color: red\">**\"**&nbsp;&nbsp;</span></span>) \n",
    "\n"
   ]
  },
  {
   "cell_type": "code",
   "execution_count": 45,
   "id": "09aa4eae-e1e4-453e-8e71-acc997e13ddd",
   "metadata": {},
   "outputs": [
    {
     "name": "stdout",
     "output_type": "stream",
     "text": [
      "I want to pay 49.95 dollars for 3 pieces of item 567.\n"
     ]
    }
   ],
   "source": [
    "\n",
    "print(\"I want to pay {price} dollars for {quantity} pieces of item {item_no}.\".format(quantity = 3, item_no = 567, price = 49.95))\n"
   ]
  },
  {
   "cell_type": "code",
   "execution_count": 46,
   "id": "13955491-3f3a-46fc-982e-7415a270c2d9",
   "metadata": {},
   "outputs": [
    {
     "name": "stdout",
     "output_type": "stream",
     "text": [
      "For only 99.00 rupees!\n"
     ]
    }
   ],
   "source": [
    "\n",
    "txt = \"For only {price:.2f} rupees!\"\n",
    "print(txt.format(price = 99))\n"
   ]
  },
  {
   "cell_type": "code",
   "execution_count": 47,
   "id": "acb8db26-4537-4bbd-b298-18232810ac24",
   "metadata": {},
   "outputs": [
    {
     "name": "stdout",
     "output_type": "stream",
     "text": [
      "For only 99.00 rupees!\n"
     ]
    }
   ],
   "source": [
    "\n",
    "print(\"For only {price:.2f} rupees!\".format(price = 99))\n"
   ]
  },
  {
   "cell_type": "code",
   "execution_count": null,
   "id": "1947eec8-5d90-4c60-b544-9dcd075a9bd3",
   "metadata": {},
   "outputs": [],
   "source": []
  },
  {
   "cell_type": "markdown",
   "id": "965b99b5-1cc8-41da-a8ba-3e38ef182ad6",
   "metadata": {},
   "source": [
    "<br>\n",
    "\n",
    "<span style=\"background-color: #CAFEFD\">&nbsp;It is advised to prefer **fstrings** because they are more readable.&nbsp;</span>\n",
    "\n",
    "<br>"
   ]
  },
  {
   "cell_type": "markdown",
   "id": "238c9b2d-2513-4d3e-905b-0ffb3a68c212",
   "metadata": {},
   "source": [
    "<br>\n",
    "\n",
    "### 3. <span style=\"background-color: yellow;\">Concatenating Python strings</span> <br>\n",
    "\n",
    "\n",
    "When you place the **string literals** next to each other, Python **automatically** concatenates them into one string. For example:\n"
   ]
  },
  {
   "cell_type": "code",
   "execution_count": 48,
   "id": "42f99e7a-9c1d-46c9-8b18-9129fc7581d7",
   "metadata": {},
   "outputs": [
    {
     "name": "stdout",
     "output_type": "stream",
     "text": [
      "Good Morning!\n"
     ]
    }
   ],
   "source": [
    "\n",
    "greeting = 'Good ' 'Morning!'\n",
    "print(greeting)\n"
   ]
  },
  {
   "cell_type": "markdown",
   "id": "2df6555b-680e-4711-80ed-821ec0063645",
   "metadata": {},
   "source": [
    "<br>\n",
    "\n",
    "To <span style=\"background-color: #CAFEFD\">**concatenate two string variables** </span>, you use the operator <span style=\"background-color: #FFF971;color: red\">  **+**  </span>:"
   ]
  },
  {
   "cell_type": "code",
   "execution_count": 49,
   "id": "d6993270-4cc5-44aa-91c4-8fe1d80a349a",
   "metadata": {},
   "outputs": [
    {
     "name": "stdout",
     "output_type": "stream",
     "text": [
      "Good Afternoon!\n"
     ]
    }
   ],
   "source": [
    "\n",
    "greeting = 'Good '\n",
    "time = 'Afternoon'\n",
    "\n",
    "greeting = greeting + time + '!'\n",
    "print(greeting)\n"
   ]
  },
  {
   "cell_type": "code",
   "execution_count": 50,
   "id": "1461531e-9e18-4561-b745-4ff03dc7be9c",
   "metadata": {},
   "outputs": [
    {
     "name": "stdout",
     "output_type": "stream",
     "text": [
      "Good Night\n"
     ]
    }
   ],
   "source": [
    "\n",
    "greeting = 'Good'\n",
    "time = 'Night'\n",
    "message = greeting + ' ' + time\n",
    "print(message)\n"
   ]
  },
  {
   "cell_type": "markdown",
   "id": "f4321847-10af-4333-8bf3-ae95d8eb7739",
   "metadata": {},
   "source": [
    "\n",
    "<br>\n",
    "\n",
    "**string + integer** ====> error\n",
    "\n",
    "but\n",
    "\n",
    "**string * intege**r ====> repeat the string integer number of times\n",
    "\n",
    "<br>\n",
    "\n"
   ]
  },
  {
   "cell_type": "code",
   "execution_count": 51,
   "id": "d36a3d28-ccd3-46e4-8f16-33bd7a25c98b",
   "metadata": {},
   "outputs": [
    {
     "ename": "TypeError",
     "evalue": "can only concatenate str (not \"int\") to str",
     "output_type": "error",
     "traceback": [
      "\u001b[1;31m---------------------------------------------------------------------------\u001b[0m",
      "\u001b[1;31mTypeError\u001b[0m                                 Traceback (most recent call last)",
      "Cell \u001b[1;32mIn[51], line 4\u001b[0m\n\u001b[0;32m      1\u001b[0m string1 \u001b[38;5;241m=\u001b[39m \u001b[38;5;124m\"\u001b[39m\u001b[38;5;124mabc\u001b[39m\u001b[38;5;124m\"\u001b[39m\n\u001b[0;32m      2\u001b[0m string2 \u001b[38;5;241m=\u001b[39m \u001b[38;5;124m\"\u001b[39m\u001b[38;5;124mdef\u001b[39m\u001b[38;5;124m\"\u001b[39m\n\u001b[1;32m----> 4\u001b[0m \u001b[43mstring1\u001b[49m\u001b[43m \u001b[49m\u001b[38;5;241;43m+\u001b[39;49m\u001b[43m \u001b[49m\u001b[38;5;241;43m4\u001b[39;49m \u001b[38;5;241m+\u001b[39m string2\n",
      "\u001b[1;31mTypeError\u001b[0m: can only concatenate str (not \"int\") to str"
     ]
    }
   ],
   "source": [
    "\n",
    "string1 = \"abc\"\n",
    "string2 = \"def\"\n",
    "\n",
    "string1 + 4 + string2\n"
   ]
  },
  {
   "cell_type": "code",
   "execution_count": 52,
   "id": "b999683e-c2b4-43ea-851a-eb69f069c3c3",
   "metadata": {},
   "outputs": [
    {
     "data": {
      "text/plain": [
       "'abc4def'"
      ]
     },
     "execution_count": 52,
     "metadata": {},
     "output_type": "execute_result"
    }
   ],
   "source": [
    "\n",
    "string1 = \"abc\"\n",
    "string2 = \"def\"\n",
    "\n",
    "string1 + str(4) + string2\n"
   ]
  },
  {
   "cell_type": "code",
   "execution_count": 53,
   "id": "62bdaa66-1c75-4b04-ad80-de106837df25",
   "metadata": {},
   "outputs": [
    {
     "data": {
      "text/plain": [
       "'Avinash Kumar Mishra'"
      ]
     },
     "execution_count": 53,
     "metadata": {},
     "output_type": "execute_result"
    }
   ],
   "source": [
    "\n",
    "name = \"Avinash\"\n",
    "name = name + \" Kumar Mishra\"\n",
    "name\n"
   ]
  },
  {
   "cell_type": "markdown",
   "id": "05491608-6761-4141-a3ca-de34b390fb78",
   "metadata": {},
   "source": [
    "<br>\n",
    "\n",
    "<br>\n",
    "\n",
    "### 4. <span style=\"background-color: yellow;\">Accessing string elements</span> <br>\n",
    "\n",
    "<span style=\"background-color: #CAFEFD\">**Strings are Arrays** </span>. Like many other popular programming languages, strings in Python are arrays of bytes representing unicode characters.\n",
    "\n",
    "However, Python does not have a character data type, a single character is simply a string with a length of 1.\n",
    "\n",
    "**Square brackets** can be used to access elements of the string.\n",
    "\n",
    "Since a string is a **sequence** of characters, you can access its elements using an **index**. The **first** character in the string has an **index of zero**.\n"
   ]
  },
  {
   "cell_type": "code",
   "execution_count": 54,
   "id": "5717b718-dd04-43d3-9f31-97ecfad58cad",
   "metadata": {},
   "outputs": [
    {
     "name": "stdout",
     "output_type": "stream",
     "text": [
      "P\n",
      "y\n"
     ]
    }
   ],
   "source": [
    "\n",
    "str = \"Python String\"\n",
    "print(str[0])            #  P\n",
    "print(str[1])            #  y\n"
   ]
  },
  {
   "cell_type": "markdown",
   "id": "e2b0535f-f7fc-4c10-8c78-214b648d6d9c",
   "metadata": {},
   "source": [
    "<br>\n",
    "\n",
    "If you use a **negative index**, Python returns the character **starting from the end of the string**. For example:"
   ]
  },
  {
   "cell_type": "code",
   "execution_count": 55,
   "id": "4cad4678-9d35-4cb6-8135-0c58a8427055",
   "metadata": {},
   "outputs": [
    {
     "name": "stdout",
     "output_type": "stream",
     "text": [
      "g\n",
      "n\n"
     ]
    }
   ],
   "source": [
    "\n",
    "str = \"Python String\"\n",
    "print(str[-1])           #  g\n",
    "print(str[-2])           #  n\n"
   ]
  },
  {
   "cell_type": "markdown",
   "id": "2e7a80a6-86c0-42b5-86a7-772bf2f2969b",
   "metadata": {},
   "source": [
    "<br>\n",
    "\n",
    "The following illustrates the indexes of the string <span style=\"background-color: #FFF971;color: red\">  \"Python String\"  </span> : <br>\n",
    "\n",
    "\n",
    "\n",
    "<div style=\"text-align: left; margin-left: -200px\">\n",
    "  \n",
    "|    |  P  |  y  |  t  |  h  |  o  |  n  |     |  S  |  t  |  r  |  i  |  n  |  g  |    |\n",
    "|----|-----|-----|-----|-----|-----|-----|-----|-----|-----|-----|-----|-----|-----|----|\n",
    "|    |  0  |  1  |  2  |  3  |  4  |  5  |  6  |  7  |  8  |  9  | 10  |  11 |  12 | 13 |\n",
    "|-14 | -13 | -12 | -11 | -10 |  -9 |  -8 |  -7 |  -6 |  -5 |  -4 |  -3 |  -2 |  -1 |    |\n",
    "\n",
    "</div>\n",
    "\n",
    "\n",
    "\n",
    "\n",
    "\n"
   ]
  },
  {
   "cell_type": "markdown",
   "id": "9d3fc16e-ec80-4f03-b9e6-4a57cbf9730d",
   "metadata": {},
   "source": [
    "<br>\n",
    "\n",
    "<br>\n",
    "\n",
    "### 4. <span style=\"background-color: yellow;\">Getting the length of a string</span> <br>\n",
    "\n",
    "To get the length of a string, you use the <span style=\"background-color: #FFF971;color: red\"> **len()** </span> function. For example:\n"
   ]
  },
  {
   "cell_type": "code",
   "execution_count": 56,
   "id": "08d48149-1841-4392-bdeb-a28d13c3d9c0",
   "metadata": {},
   "outputs": [
    {
     "name": "stdout",
     "output_type": "stream",
     "text": [
      "13\n"
     ]
    }
   ],
   "source": [
    "\n",
    "str = \"Python String\"\n",
    "str_len = len(str)\n",
    "print(str_len)\n"
   ]
  },
  {
   "cell_type": "markdown",
   "id": "22e96f8c-452a-44e1-8f8e-d424f3e3a97d",
   "metadata": {},
   "source": [
    "<br>\n",
    "\n",
    "<br>\n",
    "\n",
    "### 5. <span style=\"background-color: yellow;\">Slicing strings</span> <br>\n",
    "\n",
    "Slicing allows you to get a <span style=\"color: blue\"> **substring** </span> from a string. <br>\n",
    "\n",
    "**string**[<span style=\"background-color: #FFF971;color: red\"> **start**</span> **:** <span style=\"background-color: #FFF971;color: red\"> **end**</span>] <br>\n",
    "\n",
    "**string**[<span style=\"background-color: #FFF971;color: red\"> **start**</span> **:** <span style=\"background-color: #FFF971;color: red\"> **end**</span> **:**<span style=\"background-color: #FFF971;color: red\"> **step**</span>] \n",
    "\n",
    "<br>\n",
    "\n",
    "<font size=\"+2\">↳⭐</font> &nbsp;<span style=\"background-color: #CAFEFD\">**Note :** </span> \n",
    "<br>\n",
    "&nbsp;&nbsp;&nbsp;&nbsp;&nbsp;&nbsp;⇒ The substring always **includes** the character at the <span style=\"background-color: #FFF971;color: red\"> **start**</span> and **excludes** the string at the <span style=\"background-color: #FFF971;color: red\"> **end**</span>. \n",
    "<br>\n",
    "&nbsp;&nbsp;&nbsp;&nbsp;&nbsp;&nbsp;⇒ The <span style=\"background-color: #FFF971;color: red\"> **start**</span>, <span style=\"background-color: #FFF971;color: red\"> **end**</span> and <span style=\"background-color: #FFF971;color: red\"> **step**</span> all are **optional**. \n",
    "<br>\n",
    "&nbsp;&nbsp;&nbsp;&nbsp;&nbsp;&nbsp;⇒ If you omit the start, it <span style=\"color: blue\"> defaults </span> to **zero**. \n",
    "<br>\n",
    "&nbsp;&nbsp;&nbsp;&nbsp;&nbsp;&nbsp;⇒ If you omit the end, it <span style=\"color: blue\"> defaults </span> to the **string’s length**.\n",
    "<br>\n",
    "&nbsp;&nbsp;&nbsp;&nbsp;&nbsp;&nbsp;⇒ If you omit the step, it <span style=\"color: blue\"> defaults </span> to **1**.\n",
    "<br>\n",
    "&nbsp;&nbsp;&nbsp;&nbsp;&nbsp;&nbsp;⇒ <span style=\"color: blue\">default</span> is **positive slicing** i.e, **left to right** slicing.\n",
    "\n",
    "<br>\n"
   ]
  },
  {
   "cell_type": "code",
   "execution_count": 57,
   "id": "be11f3b4-9da3-431e-b00a-5ef1e0f19932",
   "metadata": {},
   "outputs": [
    {
     "name": "stdout",
     "output_type": "stream",
     "text": [
      "str[1] ⇒ y\n",
      "str[1:] ⇒ ython String\n",
      "str[1::] ⇒ ython String\n"
     ]
    }
   ],
   "source": [
    "\n",
    "str = \"Python String\"\n",
    "\n",
    "# String[start]\n",
    "print('str[1] ⇒', str[1])            # slice to the end\n",
    "\n",
    "# String[start:]\n",
    "print('str[1:] ⇒', str[1:])          # slice to the end\n",
    "\n",
    "# String[start::]\n",
    "print('str[1::] ⇒', str[1::])        # slice to the end\n"
   ]
  },
  {
   "cell_type": "code",
   "execution_count": 58,
   "id": "e9ddb854-97d7-432b-83c2-e362b2b87409",
   "metadata": {},
   "outputs": [
    {
     "name": "stdout",
     "output_type": "stream",
     "text": [
      "Python S\n",
      "Python S\n"
     ]
    }
   ],
   "source": [
    "\n",
    "str = \"Python String\"\n",
    "\n",
    "# String[:end]\n",
    "print(str[:8])         # slice from the start\n",
    "\n",
    "# String[:end:]\n",
    "print(str[:8:])        # slice from the start\n"
   ]
  },
  {
   "cell_type": "code",
   "execution_count": 59,
   "id": "f5b24c2f-39f8-47f6-a4fa-a6eea1dd8ac1",
   "metadata": {},
   "outputs": [
    {
     "name": "stdout",
     "output_type": "stream",
     "text": [
      "Pto tig\n"
     ]
    }
   ],
   "source": [
    "\n",
    "# String[::step]\n",
    "\n",
    "str = \"Python String\"\n",
    "print(str[::2])\n"
   ]
  },
  {
   "cell_type": "code",
   "execution_count": 60,
   "id": "3f7b97b1-1bc7-44f8-80cb-03d5cd90381c",
   "metadata": {},
   "outputs": [
    {
     "name": "stdout",
     "output_type": "stream",
     "text": [
      "ython S\n",
      "ython S\n"
     ]
    }
   ],
   "source": [
    "\n",
    "str = \"Python String\"\n",
    "\n",
    "# String[start:end]\n",
    "print(str[1:8])\n",
    "\n",
    "# String[start:end:]\n",
    "print(str[1:8:])\n"
   ]
  },
  {
   "cell_type": "code",
   "execution_count": 61,
   "id": "20bdb8eb-3abd-40c5-93fd-8802d7e33f0c",
   "metadata": {},
   "outputs": [
    {
     "name": "stdout",
     "output_type": "stream",
     "text": [
      "Pto t\n"
     ]
    }
   ],
   "source": [
    "\n",
    "str = \"Python String\"\n",
    "\n",
    "# String[:end:step]\n",
    "print(str[:9:2])\n"
   ]
  },
  {
   "cell_type": "code",
   "execution_count": 62,
   "id": "e9dfe637-246b-421f-ae8b-c8a9a39f7bf3",
   "metadata": {},
   "outputs": [
    {
     "name": "stdout",
     "output_type": "stream",
     "text": [
      "to tig\n"
     ]
    }
   ],
   "source": [
    "\n",
    "# String[start::step]\n",
    "\n",
    "str = \"Python String\"\n",
    "print(str[2::2])\n"
   ]
  },
  {
   "cell_type": "code",
   "execution_count": 63,
   "id": "332aa70b-9cd5-414c-9ae9-733b778b5516",
   "metadata": {},
   "outputs": [
    {
     "name": "stdout",
     "output_type": "stream",
     "text": [
      "Pto t\n"
     ]
    }
   ],
   "source": [
    "\n",
    "# String[start:end:step]\n",
    "\n",
    "str = \"Python String\"\n",
    "print(str[0:9:2])\n"
   ]
  },
  {
   "cell_type": "markdown",
   "id": "2050824e-6c7a-439b-80f4-4ea4ed237f62",
   "metadata": {},
   "source": [
    "<br>\n",
    "\n",
    "<span style=\"background-color: #CAFEFD\">&nbsp;Use **negative indexes** to start the slice from the end of the string :&nbsp;</span> \n",
    "\n"
   ]
  },
  {
   "cell_type": "code",
   "execution_count": 64,
   "id": "3bd12415-c630-49fb-b47b-e7aed5cf84f5",
   "metadata": {},
   "outputs": [
    {
     "name": "stdout",
     "output_type": "stream",
     "text": [
      "orl\n"
     ]
    }
   ],
   "source": [
    "\n",
    "b = \"Hello, World!\"\n",
    "print(b[-5:-2])\n"
   ]
  },
  {
   "cell_type": "markdown",
   "id": "6053eb3e-d07b-4a14-a3cf-088532f48eda",
   "metadata": {},
   "source": [
    "<br>\n",
    "\n",
    "<span style=\"color: red\"><font size=\"+2\">↳⭐</font></span> &nbsp;<span style=\"background-color: #CAFEFD\">&nbsp; To **reverse a string**, use **negavtive slicing** with **step = -1** :&nbsp;</span> \n",
    "\n",
    "&nbsp;&nbsp;&nbsp;&nbsp;&nbsp;&nbsp;&nbsp;&nbsp;⇒ If you omit the start, it <span style=\"color: blue\"> defaults </span> to **-1**. \n",
    "<br>\n",
    "&nbsp;&nbsp;&nbsp;&nbsp;&nbsp;&nbsp;&nbsp;&nbsp;⇒ If you omit the end, it <span style=\"color: blue\"> defaults </span> to **-(string’s length + 1)**.\n",
    "<br>\n",
    "&nbsp;&nbsp;&nbsp;&nbsp;&nbsp;&nbsp;&nbsp;&nbsp;⇒ **right to left** slicing\n",
    "<br>\n"
   ]
  },
  {
   "cell_type": "code",
   "execution_count": 65,
   "id": "068cc52f-1a96-43ba-9fb6-f2b956221ccc",
   "metadata": {},
   "outputs": [
    {
     "name": "stdout",
     "output_type": "stream",
     "text": [
      "hsanivA\n"
     ]
    }
   ],
   "source": [
    "\n",
    "name = \"Avinash\"\n",
    "reversed_name = name[-1::-1]\n",
    "print(reversed_name)\n"
   ]
  },
  {
   "cell_type": "code",
   "execution_count": 66,
   "id": "c75c2225-7232-453f-9278-3423042c70ea",
   "metadata": {},
   "outputs": [
    {
     "name": "stdout",
     "output_type": "stream",
     "text": [
      "hsanivA\n"
     ]
    }
   ],
   "source": [
    "\n",
    "name = \"Avinash\"\n",
    "reversed_name = name[::-1]   # if step = -1, the default start will also automatically becomes -1 (i..e., starting from the end of the string)\n",
    "print(reversed_name)\n"
   ]
  },
  {
   "cell_type": "code",
   "execution_count": 67,
   "id": "82bf3c16-0514-47c4-8093-c09502cc9850",
   "metadata": {},
   "outputs": [
    {
     "name": "stdout",
     "output_type": "stream",
     "text": [
      "['a', 'b', 'c', 'd', 'e']\n",
      "\n",
      "['e', 'd', 'c', 'b', 'a']\n",
      "\n",
      "['d', 'c', 'b', 'a']\n",
      "\n",
      "[]\n",
      "\n"
     ]
    }
   ],
   "source": [
    "\n",
    "name = ['a', 'b', 'c', 'd', 'e']\n",
    "\n",
    "print(name[::], end=\"\\n\"*2)      # ['a', 'b', 'c', 'd', 'e']   ===> [0:5:1] ======> 0 to (5-1) from left to right\n",
    "\n",
    "print(name[::-1], end=\"\\n\"*2)    # ['e', 'd', 'c', 'b', 'a']   ===> [4:-6:-1] ====> 4 to (-5-1) from right to left\n",
    "\n",
    "print(name[3::-1], end=\"\\n\"*2)   # ['d', 'c', 'b', 'a']  =========> [3:-6:-1] ====> 3 to -6 from right to left\n",
    "\n",
    "print(name[:-1:-1], end=\"\\n\"*2)  # []  ===========================> [-1:-1:-1] ===> -1 to -2 from right to left         \n",
    "\n"
   ]
  },
  {
   "cell_type": "markdown",
   "id": "6d6dd3a2-b241-4662-9b44-3b73ea97148c",
   "metadata": {},
   "source": [
    "<span style=\"color: red\"><font size=\"+2\">↳⭐</font></span> &nbsp;<span style=\"color: red\">**Reverse an integer**</span>"
   ]
  },
  {
   "cell_type": "code",
   "execution_count": 2,
   "id": "6bb19436-72b9-4609-a97b-a02dd96b6672",
   "metadata": {},
   "outputs": [
    {
     "name": "stdout",
     "output_type": "stream",
     "text": [
      "-356432\n"
     ]
    }
   ],
   "source": [
    "\n",
    "number = -234653\n",
    "\n",
    "if number >= 0:\n",
    "    print(int(str(number)[::-1]))\n",
    "else:\n",
    "    print(-int(str(number)[-1:0:-1]))\n"
   ]
  },
  {
   "cell_type": "markdown",
   "id": "22e5a189-6f2c-4202-9e4a-5d75cb11aed4",
   "metadata": {},
   "source": [
    "<br>\n",
    "\n",
    "<br>\n",
    "\n",
    "### 6. <span style=\"background-color: yellow;\">Python strings are immutable</span> <br>\n",
    "\n",
    "String object does not support item assignment. It means that you **cannot change** the string. For example, you’ll get an <span style=\"color: red;\">**error**</span> if you update one or more characters in a string: \n",
    "<br>"
   ]
  },
  {
   "cell_type": "code",
   "execution_count": 68,
   "id": "49e5f4a7-fa28-4b1c-9a1f-0f7ae81d5a22",
   "metadata": {},
   "outputs": [
    {
     "ename": "TypeError",
     "evalue": "'str' object does not support item assignment",
     "output_type": "error",
     "traceback": [
      "\u001b[1;31m---------------------------------------------------------------------------\u001b[0m",
      "\u001b[1;31mTypeError\u001b[0m                                 Traceback (most recent call last)",
      "Cell \u001b[1;32mIn[68], line 2\u001b[0m\n\u001b[0;32m      1\u001b[0m \u001b[38;5;28mstr\u001b[39m \u001b[38;5;241m=\u001b[39m \u001b[38;5;124m\"\u001b[39m\u001b[38;5;124mPython String\u001b[39m\u001b[38;5;124m\"\u001b[39m\n\u001b[1;32m----> 2\u001b[0m \u001b[38;5;28;43mstr\u001b[39;49m\u001b[43m[\u001b[49m\u001b[38;5;241;43m0\u001b[39;49m\u001b[43m]\u001b[49m \u001b[38;5;241m=\u001b[39m \u001b[38;5;124m'\u001b[39m\u001b[38;5;124mJ\u001b[39m\u001b[38;5;124m'\u001b[39m\n",
      "\u001b[1;31mTypeError\u001b[0m: 'str' object does not support item assignment"
     ]
    }
   ],
   "source": [
    "\n",
    "str = \"Python String\"\n",
    "str[0] = 'J'\n"
   ]
  },
  {
   "cell_type": "markdown",
   "id": "fd91871c-852e-46c4-97c7-a9a8ca697604",
   "metadata": {},
   "source": [
    "<br>\n",
    "\n",
    "When want to modify a string, you need to create a new one from the existing string. For example:"
   ]
  },
  {
   "cell_type": "code",
   "execution_count": 69,
   "id": "2a6308ea-aee4-4de8-b8d4-34f701c115c9",
   "metadata": {},
   "outputs": [
    {
     "name": "stdout",
     "output_type": "stream",
     "text": [
      "str ⇒ Python String\n",
      "new_str ⇒ Jython String\n"
     ]
    }
   ],
   "source": [
    "\n",
    "str = \"Python String\" \n",
    "print('str ⇒', str)\n",
    "\n",
    "# let us madify it to \"Jython Strings\"\n",
    "\n",
    "new_str = \"J\" + str[1:]\n",
    "print('new_str ⇒', new_str)\n"
   ]
  },
  {
   "cell_type": "code",
   "execution_count": 70,
   "id": "67cce799-d5b1-43a4-b60a-329435aa1627",
   "metadata": {},
   "outputs": [
    {
     "name": "stdout",
     "output_type": "stream",
     "text": [
      "str ⇒ Python String\n",
      "new_str ⇒ Python Strings\n"
     ]
    }
   ],
   "source": [
    "\n",
    "str = \"Python String\" \n",
    "print('str ⇒', str)\n",
    "\n",
    "# let us madify it to \"Python Strings\"\n",
    "\n",
    "new_str = str[:len(str)] + 's'\n",
    "print('new_str ⇒', new_str)\n"
   ]
  },
  {
   "cell_type": "markdown",
   "id": "d09b14e3-97cc-4555-bc2e-5b8c9421d1ba",
   "metadata": {},
   "source": [
    "\n",
    "<span style=\"background-color: #C3FFF8\">&nbsp;So concatenation does not modify the string itself, it rathers creates a **new string object taking different address** in the RAM.&nbsp;</span>\n",
    "\n",
    "<br>"
   ]
  },
  {
   "cell_type": "markdown",
   "id": "2e57d33d-2b49-4242-a4e2-2ffca5b33b63",
   "metadata": {},
   "source": [
    "<br>\n",
    "\n",
    "### 7. <span style=\"background-color: yellow;\">Looping Through a String</span> <br>\n",
    "\n",
    "Since **strings are arrays**, we can loop through the characters in a string, with a <span style=\"background-color: yellow;color:red\"><strong> &nbsp;&nbsp; for &nbsp;&nbsp;</strong></span> loop.\n"
   ]
  },
  {
   "cell_type": "code",
   "execution_count": 71,
   "id": "4c536a8e-1b12-4c05-96c5-cf175d802904",
   "metadata": {},
   "outputs": [
    {
     "name": "stdout",
     "output_type": "stream",
     "text": [
      "D\n",
      "a\n",
      "t\n",
      "a\n",
      " \n",
      "E\n",
      "n\n",
      "g\n",
      "i\n",
      "n\n",
      "e\n",
      "e\n",
      "r\n",
      "i\n",
      "n\n",
      "g\n"
     ]
    }
   ],
   "source": [
    "\n",
    "for x in \"Data Engineering\":\n",
    "    print(x)\n",
    "    "
   ]
  },
  {
   "cell_type": "markdown",
   "id": "f85192c6-ac23-4b59-99af-749d8daf1240",
   "metadata": {},
   "source": [
    "<br>\n",
    "\n",
    "<br>\n",
    "\n",
    "### 8. <span style=\"background-color: yellow;\">Check String</span> <br>\n",
    "\n",
    "To check if a certain phrase or character is present in a string, we can use the **keyword** <span style=\"background-color: yellow;color:red\"><strong> &nbsp;&nbsp; in &nbsp;&nbsp;</strong></span>."
   ]
  },
  {
   "cell_type": "code",
   "execution_count": 72,
   "id": "9793ad9b-8e20-41b7-bcdc-4c9ffa85584a",
   "metadata": {},
   "outputs": [
    {
     "name": "stdout",
     "output_type": "stream",
     "text": [
      "True\n"
     ]
    }
   ],
   "source": [
    "\n",
    "# Check if \"free\" is present in the following text:\n",
    "\n",
    "txt = \"The best things in life are free!\"\n",
    "print(\"free\" in txt)\n"
   ]
  },
  {
   "cell_type": "markdown",
   "id": "ff901c58-aa51-430a-858c-8ed880a93c44",
   "metadata": {},
   "source": [
    "<br>\n",
    "\n",
    "Generally we use it (<span style=\"background-color: yellow;color:red\"><strong> &nbsp;&nbsp; in &nbsp;&nbsp;</strong></span>) in an <span style=\"background-color: yellow;color:red\"><strong> &nbsp;&nbsp; if &nbsp;&nbsp;</strong></span> statement:"
   ]
  },
  {
   "cell_type": "code",
   "execution_count": 73,
   "id": "606b9a28-e24d-4459-80a4-9ebfca5dc8c0",
   "metadata": {},
   "outputs": [
    {
     "name": "stdout",
     "output_type": "stream",
     "text": [
      "Yes, 'free' is present.\n"
     ]
    }
   ],
   "source": [
    "\n",
    "# Print only if \"free\" is present:\n",
    "\n",
    "txt = \"The best things in life are free!\"\n",
    "if \"free\" in txt:\n",
    "    print(\"Yes, 'free' is present.\")\n",
    "    "
   ]
  },
  {
   "cell_type": "markdown",
   "id": "0201c8bb-f826-4302-bd60-f2b1336365f4",
   "metadata": {},
   "source": [
    "<br>\n",
    "\n",
    "<br>\n",
    "\n",
    "### 9. <span style=\"background-color: yellow;\">Check if NOT</span> <br>\n",
    "\n",
    "To check if a certain phrase or character is **NOT** present in a string, we can use the keyword <span style=\"background-color: yellow;color:red\"><strong>&nbsp; not in &nbsp;</strong></span>."
   ]
  },
  {
   "cell_type": "code",
   "execution_count": 74,
   "id": "7a8474bd-108c-4a01-a79e-2af2a877c264",
   "metadata": {},
   "outputs": [
    {
     "name": "stdout",
     "output_type": "stream",
     "text": [
      "True\n"
     ]
    }
   ],
   "source": [
    "\n",
    "# Check if \"expensive\" is NOT present in the following text:\n",
    "\n",
    "txt = \"The best things in life are free!\"\n",
    "print(\"expensive\" not in txt)\n"
   ]
  },
  {
   "cell_type": "markdown",
   "id": "ebf1494f-312f-4010-8064-dedf9d906fbc",
   "metadata": {},
   "source": [
    "<br>\n",
    "\n",
    "Generally we use it (<span style=\"background-color: yellow;color:red\"><strong> &nbsp;not in &nbsp;</strong></span>) in an <span style=\"background-color: yellow;color:red\"><strong> &nbsp;&nbsp; if &nbsp;&nbsp;</strong></span> statement:"
   ]
  },
  {
   "cell_type": "code",
   "execution_count": 75,
   "id": "d3318d71-446e-4071-a9ac-57dbbc5b59d4",
   "metadata": {},
   "outputs": [
    {
     "name": "stdout",
     "output_type": "stream",
     "text": [
      "No, 'expensive' is NOT present.\n"
     ]
    }
   ],
   "source": [
    "\n",
    "txt = \"The best things in life are free!\"\n",
    "if \"expensive\" not in txt:\n",
    "    print(\"No, 'expensive' is NOT present.\")\n",
    "    "
   ]
  },
  {
   "cell_type": "markdown",
   "id": "ab296736-1e92-4e82-becf-10abcc5ddc12",
   "metadata": {},
   "source": [
    "<br>\n",
    "\n",
    "<br>\n",
    "\n",
    "### 10. <span style=\"background-color: yellow;\">Modify Strings</span> <br>\n",
    "\n",
    "<font size=\"+1\">↳⭐</font> &nbsp;Here by modifying a string, we do not mean mutating the string itself. So the following methods will rather create a **new copy of string** which will be a **different string object with different address in the memeory**.\n",
    "\n",
    "Some built-in methods that we can use on Python strings :  <br>\n",
    "\n",
    "&nbsp;&nbsp;&nbsp;&nbsp;&nbsp;&nbsp;&nbsp;⇒ <span style=\"background-color: yellow;color:red\"><strong>&nbsp; upper() &nbsp;</strong></span>       <br>\n",
    "\n",
    "&nbsp;&nbsp;&nbsp;&nbsp;&nbsp;&nbsp;&nbsp;⇒ <span style=\"background-color: yellow;color:red\"><strong>&nbsp; lower() &nbsp;</strong></span>       <br>\n",
    "\n",
    "&nbsp;&nbsp;&nbsp;&nbsp;&nbsp;&nbsp;&nbsp;⇒ <span style=\"background-color: yellow;color:red\"><strong>&nbsp; strip() &nbsp;</strong></span>       <br>\n",
    "\n",
    "&nbsp;&nbsp;&nbsp;&nbsp;&nbsp;&nbsp;&nbsp;⇒ <span style=\"background-color: yellow;color:red\"><strong>&nbsp; replace() &nbsp;</strong></span>     <br>\n",
    "\n",
    "&nbsp;&nbsp;&nbsp;&nbsp;&nbsp;&nbsp;&nbsp;⇒ <span style=\"background-color: yellow;color:red\"><strong>&nbsp; split() &nbsp;</strong></span>       <br>\n",
    "\n",
    "<br>\n",
    "\n",
    "<br>\n",
    "\n",
    "<span style=\"background-color: #F5C0FF\">**Upper Case**</span>\n"
   ]
  },
  {
   "cell_type": "code",
   "execution_count": 76,
   "id": "22fd0102-fe7e-4349-8b77-1ad18f5c8d9a",
   "metadata": {},
   "outputs": [
    {
     "name": "stdout",
     "output_type": "stream",
     "text": [
      "HELLO, WORLD!\n"
     ]
    }
   ],
   "source": [
    "\n",
    "# The upper() method returns the string in upper case:\n",
    "\n",
    "a = \"Hello, World!\"\n",
    "print(a.upper())\n"
   ]
  },
  {
   "cell_type": "markdown",
   "id": "3b78f139-d914-442e-80b1-02e8b8908314",
   "metadata": {},
   "source": [
    "we can verify that the original value of the <span style=\"background-color: #CAFEFD\">varaible &nbsp;<font size=\"+1\">**a**</font> &nbsp;is still not changed</span> :"
   ]
  },
  {
   "cell_type": "code",
   "execution_count": 77,
   "id": "c09aea7f-124a-47bd-a687-c8287f10abf4",
   "metadata": {},
   "outputs": [
    {
     "name": "stdout",
     "output_type": "stream",
     "text": [
      "Hello, World!\n"
     ]
    }
   ],
   "source": [
    "\n",
    "print(a)\n"
   ]
  },
  {
   "cell_type": "markdown",
   "id": "47354b38-92e2-4678-b10f-94f30e225e45",
   "metadata": {},
   "source": [
    "<br>\n",
    "\n",
    "<br>\n",
    "\n",
    "<span style=\"background-color: #F5C0FF\">**Lower Case**</span>"
   ]
  },
  {
   "cell_type": "code",
   "execution_count": 78,
   "id": "2d711ce9-10c4-4685-ba02-0993960a061e",
   "metadata": {},
   "outputs": [
    {
     "name": "stdout",
     "output_type": "stream",
     "text": [
      "hello, world!\n"
     ]
    }
   ],
   "source": [
    "\n",
    "# The lower() method returns the string in lower case:\n",
    "\n",
    "a = \"Hello, World!\"\n",
    "print(a.lower())\n"
   ]
  },
  {
   "cell_type": "markdown",
   "id": "506bcd19-6d67-4dbf-8883-c6ad579204ed",
   "metadata": {},
   "source": [
    "we can verify that the original value of the <span style=\"background-color: #CAFEFD\">varaible &nbsp;<font size=\"+1\">**a**</font> &nbsp;is still not changed</span> :"
   ]
  },
  {
   "cell_type": "code",
   "execution_count": 79,
   "id": "99660632-30fe-446d-9a98-bd936bdd27c2",
   "metadata": {},
   "outputs": [
    {
     "name": "stdout",
     "output_type": "stream",
     "text": [
      "Hello, World!\n"
     ]
    }
   ],
   "source": [
    "\n",
    "print(a)\n"
   ]
  },
  {
   "cell_type": "markdown",
   "id": "f31a5e80-40fd-4998-9dc0-13840bdf39ce",
   "metadata": {},
   "source": [
    "<br>\n",
    "\n",
    "<br>\n",
    "\n",
    "<span style=\"background-color: #F5C0FF\">**Remove Whitespace**</span>\n",
    "\n",
    "Whitespace is the space before and/or after the actual text, and very often you want to remove this space."
   ]
  },
  {
   "cell_type": "code",
   "execution_count": 80,
   "id": "cfc88dee-51cf-49c9-988c-63611ebc357d",
   "metadata": {},
   "outputs": [
    {
     "name": "stdout",
     "output_type": "stream",
     "text": [
      "Hello, World!\n"
     ]
    }
   ],
   "source": [
    "\n",
    "# The strip() method removes any whitespace from the beginning or the end:\n",
    "\n",
    "a = \" Hello, World! \"\n",
    "print(a.strip()) # returns \"Hello, World!\"\n"
   ]
  },
  {
   "cell_type": "markdown",
   "id": "cef9dc5c-a8e1-41da-ad8a-232cdeae5d69",
   "metadata": {},
   "source": [
    "we can verify that the original value of the <span style=\"background-color: #CAFEFD\">varaible &nbsp;<font size=\"+1\">**a**</font> &nbsp;is still not changed</span> :"
   ]
  },
  {
   "cell_type": "code",
   "execution_count": 81,
   "id": "f640a8f8-59df-4c61-9c12-31bc17df44a9",
   "metadata": {},
   "outputs": [
    {
     "name": "stdout",
     "output_type": "stream",
     "text": [
      " Hello, World! \n"
     ]
    }
   ],
   "source": [
    "\n",
    "print(a)\n"
   ]
  },
  {
   "cell_type": "markdown",
   "id": "caf914d5-c3ab-49cf-a244-5c30045757d0",
   "metadata": {},
   "source": [
    "<br>\n",
    "\n",
    "<br>\n",
    "\n",
    "<span style=\"background-color: #F5C0FF\">**Replace String**</span>"
   ]
  },
  {
   "cell_type": "code",
   "execution_count": 82,
   "id": "b5bf5b95-24d4-4d3e-a30c-83e6e71d6631",
   "metadata": {},
   "outputs": [
    {
     "name": "stdout",
     "output_type": "stream",
     "text": [
      "Jello, World!\n"
     ]
    }
   ],
   "source": [
    "\n",
    "# The replace() method replaces a string with another string:\n",
    "\n",
    "a = \"Hello, World!\"\n",
    "print(a.replace(\"H\", \"J\"))\n"
   ]
  },
  {
   "cell_type": "markdown",
   "id": "013070fb-1c37-4875-b74b-5b24d80dcc74",
   "metadata": {},
   "source": [
    "we can verify that the original value of the <span style=\"background-color: #CAFEFD\">varaible &nbsp;<font size=\"+1\">**a**</font> &nbsp;is still not changed</span> :"
   ]
  },
  {
   "cell_type": "code",
   "execution_count": 83,
   "id": "8744dcd8-5700-4d34-a32e-4967c09bdc11",
   "metadata": {},
   "outputs": [
    {
     "name": "stdout",
     "output_type": "stream",
     "text": [
      "Hello, World!\n"
     ]
    }
   ],
   "source": [
    "\n",
    "print(a)\n"
   ]
  },
  {
   "cell_type": "code",
   "execution_count": 84,
   "id": "ee832046-7337-40d9-a5bf-58fe572c381f",
   "metadata": {},
   "outputs": [
    {
     "name": "stdout",
     "output_type": "stream",
     "text": [
      "Avinash Kumar Mishra\n"
     ]
    }
   ],
   "source": [
    "\n",
    "name = \"Avinash Mishra\"\n",
    "print(name.replace(\"Mishra\", \"Kumar Mishra\"))\n"
   ]
  },
  {
   "cell_type": "markdown",
   "id": "27df0ea1-8586-4b89-9784-6ba0aae5a0cc",
   "metadata": {},
   "source": [
    "<br>\n",
    "\n",
    "<br>\n",
    "\n",
    "<span style=\"background-color: #F5C0FF\">**Split String**</span>\n",
    "\n",
    "The <span style=\"background-color: yellow;color:red\"><strong>&nbsp; split() &nbsp;</strong></span> method returns a list where the text between the specified separator becomes the list items."
   ]
  },
  {
   "cell_type": "code",
   "execution_count": 85,
   "id": "ae846812-aa92-4f9a-a98f-6277f37c4c6c",
   "metadata": {},
   "outputs": [
    {
     "name": "stdout",
     "output_type": "stream",
     "text": [
      "['Hello', ' How are you?']\n"
     ]
    }
   ],
   "source": [
    "\n",
    "# The split() method splits the string into substrings if it finds instances of the separator:\n",
    "\n",
    "a = \"Hello, How are you?\"\n",
    "print(a.split(\",\")) \n"
   ]
  },
  {
   "cell_type": "markdown",
   "id": "43e1fbdc-7d63-4477-a121-fd73be2321f6",
   "metadata": {},
   "source": [
    "we can verify that the original value of the <span style=\"background-color: #CAFEFD\">varaible &nbsp;<font size=\"+1\">**a**</font> &nbsp;is still not changed</span> :"
   ]
  },
  {
   "cell_type": "code",
   "execution_count": 86,
   "id": "71a9f6a1-c5ff-4fd4-be6a-55bb238a6981",
   "metadata": {},
   "outputs": [
    {
     "name": "stdout",
     "output_type": "stream",
     "text": [
      "Hello, How are you?\n"
     ]
    }
   ],
   "source": [
    "\n",
    "print(a)\n"
   ]
  },
  {
   "cell_type": "code",
   "execution_count": 87,
   "id": "5f6d6146-260f-4a11-9f5d-624d596ae619",
   "metadata": {},
   "outputs": [
    {
     "name": "stdout",
     "output_type": "stream",
     "text": [
      "['Hello,', 'How', 'are', 'you?']\n"
     ]
    }
   ],
   "source": [
    "\n",
    "a = \"Hello, How are you?\"\n",
    "print(a.split(\" \")) \n"
   ]
  },
  {
   "cell_type": "code",
   "execution_count": 88,
   "id": "e267e23c-f19a-4e4a-92df-e442fea6bde4",
   "metadata": {},
   "outputs": [
    {
     "name": "stdout",
     "output_type": "stream",
     "text": [
      "['Avinash', 'Kumar', 'Mishra']\n"
     ]
    }
   ],
   "source": [
    "\n",
    "a = \"Avinash Kumar Mishra\"\n",
    "print(a.split(\" \"))\n"
   ]
  },
  {
   "cell_type": "code",
   "execution_count": 89,
   "id": "b755cce0-6ff3-4bab-a253-d1ec78ca5d28",
   "metadata": {},
   "outputs": [
    {
     "name": "stdout",
     "output_type": "stream",
     "text": [
      "['a', 'e', 'i', 'o', 'u']\n"
     ]
    }
   ],
   "source": [
    "\n",
    "vowels = \"a,e,i,o,u\"\n",
    "print(vowels.split(\",\"))\n"
   ]
  },
  {
   "cell_type": "markdown",
   "id": "33db5679-7d54-471d-aa27-f90087d266bf",
   "metadata": {},
   "source": [
    "<br>\n",
    "\n",
    "<span style=\"background-color: #CAFEFD\">However, passing an empty separator \"\" in the **string.split( )** method is not allowed:</spn>"
   ]
  },
  {
   "cell_type": "code",
   "execution_count": 90,
   "id": "e35c9e1d-7722-4552-8e73-a2ae4ee5ab93",
   "metadata": {},
   "outputs": [
    {
     "ename": "ValueError",
     "evalue": "empty separator",
     "output_type": "error",
     "traceback": [
      "\u001b[1;31m---------------------------------------------------------------------------\u001b[0m",
      "\u001b[1;31mValueError\u001b[0m                                Traceback (most recent call last)",
      "Cell \u001b[1;32mIn[90], line 2\u001b[0m\n\u001b[0;32m      1\u001b[0m vowels \u001b[38;5;241m=\u001b[39m \u001b[38;5;124m\"\u001b[39m\u001b[38;5;124maeiou\u001b[39m\u001b[38;5;124m\"\u001b[39m\n\u001b[1;32m----> 2\u001b[0m \u001b[38;5;28mprint\u001b[39m(\u001b[43mvowels\u001b[49m\u001b[38;5;241;43m.\u001b[39;49m\u001b[43msplit\u001b[49m\u001b[43m(\u001b[49m\u001b[38;5;124;43m\"\u001b[39;49m\u001b[38;5;124;43m\"\u001b[39;49m\u001b[43m)\u001b[49m)\n",
      "\u001b[1;31mValueError\u001b[0m: empty separator"
     ]
    }
   ],
   "source": [
    "\n",
    "vowels = \"aeiou\"\n",
    "print(vowels.split(\"\"))\n"
   ]
  },
  {
   "cell_type": "markdown",
   "id": "64e283e9-fc07-4592-ac29-2958e4016901",
   "metadata": {},
   "source": [
    "<br>\n",
    "\n",
    "<br>\n",
    "\n",
    "\n",
    "### 11. <span style=\"background-color: yellow;\">Python - Escape Characters</span> <br>\n",
    "\n",
    "\n",
    "<span style=\"background-color: #F5C0FF\">**Escape Character**</span>\n",
    "\n",
    "To insert characters that are illegal in a string, use an escape character.\n",
    "\n",
    "An escape character is a **backslash** <span style=\"background-color: yellow;color:red\"><strong>&nbsp; \\\\ &nbsp;</strong></span> followed by the character you want to insert.\n",
    "\n"
   ]
  },
  {
   "cell_type": "code",
   "execution_count": 91,
   "id": "67263543-7e95-43c5-8176-f3795fc300cc",
   "metadata": {},
   "outputs": [
    {
     "ename": "SyntaxError",
     "evalue": "invalid syntax (525732392.py, line 3)",
     "output_type": "error",
     "traceback": [
      "\u001b[1;36m  Cell \u001b[1;32mIn[91], line 3\u001b[1;36m\u001b[0m\n\u001b[1;33m    txt = \"AI can't replace humans, they are here to \"assist\" us\"\u001b[0m\n\u001b[1;37m                                                      ^\u001b[0m\n\u001b[1;31mSyntaxError\u001b[0m\u001b[1;31m:\u001b[0m invalid syntax\n"
     ]
    }
   ],
   "source": [
    "\n",
    "# You will get an error if you use double quotes inside a string that is surrounded by double quotes:\n",
    "\n",
    "txt = \"AI can't replace humans, they are here to \"assist\" us\"\n"
   ]
  },
  {
   "cell_type": "markdown",
   "id": "e7f42338-7cff-4e84-aac6-769d24cfa6e7",
   "metadata": {},
   "source": [
    "<br>\n",
    "\n",
    "To fix this problem, use the escape character <span style=\"background-color: yellow;color:red\"><strong>&nbsp; \\\\\" &nbsp;</strong></span> :"
   ]
  },
  {
   "cell_type": "code",
   "execution_count": 92,
   "id": "fef70f1a-5cef-4416-b201-b9ee82801fa1",
   "metadata": {},
   "outputs": [],
   "source": [
    "\n",
    "txt = \"AI can't replace humans, they are here to \\\"assist\\\" us\"\n"
   ]
  },
  {
   "cell_type": "code",
   "execution_count": 93,
   "id": "689b59c7-23d7-4ae1-9272-04a97ee462da",
   "metadata": {},
   "outputs": [
    {
     "name": "stdout",
     "output_type": "stream",
     "text": [
      "AI can't replace humans, they are here to \"assist\" us\n"
     ]
    }
   ],
   "source": [
    "\n",
    "print(txt)\n"
   ]
  },
  {
   "cell_type": "markdown",
   "id": "00fd87c6-0be4-4c59-986d-532ef9160a29",
   "metadata": {},
   "source": [
    "<br>\n",
    "\n",
    "<span style=\"background-color: #F5C0FF\">**Other Escape Characters**</span>\n",
    "\n",
    "<head>\n",
    "    <style>\n",
    "        table {\n",
    "            border-collapse: collapse;\n",
    "            width: 100%;\n",
    "        }\n",
    "        th, td {\n",
    "            border: 1px solid black;\n",
    "            padding: 8px;\n",
    "            text-align: left;\n",
    "        }\n",
    "    </style>\n",
    "</head>\n",
    "<body>\n",
    "\n",
    "<table>\n",
    "    <thead>\n",
    "        <tr>\n",
    "            <th>Code</th>\n",
    "            <th>Result</th>\n",
    "        </tr>\n",
    "    </thead>\n",
    "    <tbody>\n",
    "        <tr>\n",
    "            <td><span style=\"color:red\"><strong>\\\\'</strong></span></td>\n",
    "            <td><span style=\"color:blue\"><strong>Single Quote</strong></span></td>\n",
    "        </tr>\n",
    "        <tr>\n",
    "            <td><span style=\"color:red\"><strong>\\\\\\\\</strong></span></td>\n",
    "            <td><span style=\"color:blue\"><strong>Backslash</strong></span></td>\n",
    "        </tr>\n",
    "        <tr>\n",
    "            <td><span style=\"color:red\"><strong>\\\\n</strong></span></td>\n",
    "            <td><span style=\"color:blue\"><strong>New Line</strong></span></td>\n",
    "        </tr>\n",
    "        <tr>\n",
    "            <td><span style=\"color:red\"><strong>\\\\r</strong></span></td>\n",
    "            <td><span style=\"color:blue\"><strong>Carriage Return</strong></span></td>\n",
    "        </tr>\n",
    "        <tr>\n",
    "            <td><span style=\"color:red\"><strong>\\\\t</strong></span></td>\n",
    "            <td><span style=\"color:blue\"><strong>Tab</strong></span></td>\n",
    "        </tr>\n",
    "        <tr>\n",
    "            <td><span style=\"color:red\"><strong>\\\\b</strong></span></td>\n",
    "            <td><span style=\"color:blue\"><strong>Backspace</strong></span></td>\n",
    "        </tr>\n",
    "        <tr>\n",
    "            <td><span style=\"color:red\"><strong>\\\\f</strong></span></td>\n",
    "            <td><span style=\"color:blue\"><strong>Form Feed</strong></span></td>\n",
    "        </tr>\n",
    "        <tr>\n",
    "            <td><span style=\"color:red\"><strong>\\\\\\\\\\o</strong></span></td>\n",
    "            <td><span style=\"color:blue\"><strong>Octal Value</strong></span></td>\n",
    "        </tr>\n",
    "        <tr>\n",
    "            <td><span style=\"color:red\"><strong>\\\\xhh</strong></span></td>\n",
    "            <td><span style=\"color:blue\"><strong>Hex Value</strong></span></td>\n",
    "        </tr>\n",
    "    </tbody>\n",
    "</table>\n",
    "\n",
    "</body>\n",
    "</html>"
   ]
  },
  {
   "cell_type": "code",
   "execution_count": 94,
   "id": "e5751b71-8c18-42dc-8dc0-ef86185dbc7c",
   "metadata": {},
   "outputs": [
    {
     "name": "stdout",
     "output_type": "stream",
     "text": [
      "It's alright.\n"
     ]
    }
   ],
   "source": [
    "\n",
    "# Single Quote\n",
    "\n",
    "txt = 'It\\'s alright.'\n",
    "print(txt) \n"
   ]
  },
  {
   "cell_type": "code",
   "execution_count": 95,
   "id": "ffb35552-7f0e-4edc-8edf-d1c1397c1d13",
   "metadata": {},
   "outputs": [
    {
     "name": "stdout",
     "output_type": "stream",
     "text": [
      "This will insert one \\ (backslash).\n"
     ]
    }
   ],
   "source": [
    "\n",
    "# Backslash\n",
    "\n",
    "txt = \"This will insert one \\\\ (backslash).\"\n",
    "print(txt)\n"
   ]
  },
  {
   "cell_type": "code",
   "execution_count": 96,
   "id": "e5a1afb7-f085-4533-a2d1-fd940baf1b11",
   "metadata": {},
   "outputs": [
    {
     "name": "stdout",
     "output_type": "stream",
     "text": [
      "Hello\n",
      "World!\n"
     ]
    }
   ],
   "source": [
    "\n",
    "# New Line\n",
    "\n",
    "txt = \"Hello\\nWorld!\"\n",
    "print(txt)\n"
   ]
  },
  {
   "cell_type": "code",
   "execution_count": 97,
   "id": "a93200e0-7d9c-4184-9337-b50e86d36b04",
   "metadata": {},
   "outputs": [
    {
     "name": "stdout",
     "output_type": "stream",
     "text": [
      "World!\n"
     ]
    }
   ],
   "source": [
    "\n",
    "# Carriage Return\n",
    "\n",
    "txt = \"Hello\\rWorld!\"\n",
    "print(txt)\n"
   ]
  },
  {
   "cell_type": "code",
   "execution_count": 98,
   "id": "57336df8-8c6e-4adf-b830-7017f68d3bfd",
   "metadata": {},
   "outputs": [
    {
     "name": "stdout",
     "output_type": "stream",
     "text": [
      "Hello\tWorld!\n"
     ]
    }
   ],
   "source": [
    "\n",
    "# Tab   (one tab is equal to four spaces)\n",
    "\n",
    "txt = \"Hello\\tWorld!\" \n",
    "print(txt) \n"
   ]
  },
  {
   "cell_type": "code",
   "execution_count": 99,
   "id": "86004a1a-3748-47a7-8882-e257c9d840af",
   "metadata": {},
   "outputs": [
    {
     "name": "stdout",
     "output_type": "stream",
     "text": [
      "HelloWorld!\n"
     ]
    }
   ],
   "source": [
    "\n",
    "# Backspace\n",
    "\n",
    "# This example erases one character (backspace):\n",
    "txt = \"Hello \\bWorld!\"\n",
    "print(txt) \n"
   ]
  },
  {
   "cell_type": "code",
   "execution_count": 100,
   "id": "6095618f-a7ce-422b-abdb-1229d1203fe2",
   "metadata": {},
   "outputs": [
    {
     "name": "stdout",
     "output_type": "stream",
     "text": [
      "Hello\n"
     ]
    }
   ],
   "source": [
    "\n",
    "# Octal value\n",
    "\n",
    "# A backslash followed by three integers will result in a octal value:\n",
    "txt = \"\\110\\145\\154\\154\\157\"\n",
    "print(txt) \n"
   ]
  },
  {
   "cell_type": "code",
   "execution_count": 101,
   "id": "6dc700a3-f68a-425e-8cb6-b1584d539ce6",
   "metadata": {},
   "outputs": [
    {
     "name": "stdout",
     "output_type": "stream",
     "text": [
      "Hello\n"
     ]
    }
   ],
   "source": [
    "\n",
    "# Hex value\n",
    "\n",
    "#A backslash followed by an 'x' and a hex number represents a hex value:\n",
    "txt = \"\\x48\\x65\\x6c\\x6c\\x6f\"\n",
    "print(txt)\n"
   ]
  },
  {
   "cell_type": "markdown",
   "id": "ae200880-3836-49ca-b947-cbc3ba34aa79",
   "metadata": {},
   "source": [
    "<br>\n",
    "\n",
    "### 12. <span style=\"background-color: yellow;\">Python - String Methods</span> <br>\n",
    "\n",
    "\n"
   ]
  },
  {
   "cell_type": "markdown",
   "id": "6985f93e-d723-45b0-8767-92057d7fe5f7",
   "metadata": {},
   "source": [
    "| <span style=\"color: #00871A\">Method</span>         | <span style=\"color: #00871A\">Description</span>              |\n",
    "|----------------|--------------------------------------------------------------------------------------------------|\n",
    "| <span style=\"background-color: yellow; color:red\"><strong>&nbsp;capitalize(&nbsp;)&nbsp;</strong></span> | <span style=\"color:blue\">Converts the **first character to upper case** and the rest to lowercase</span> |\n",
    "| <span style=\"background-color: yellow; color:red\"><strong>&nbsp;casefold(&nbsp;)&nbsp;</strong></span> | <span style=\"color:blue\">Converts the **string into lower case**</span> |\n",
    "| <span style=\"background-color: yellow;color:red\"><strong>&nbsp;center(&nbsp;</strong></span>&nbsp;**length[, fillchar]**&nbsp;<span style=\"background-color: yellow;color:red\"><strong>&nbsp;)&nbsp;</strong></span> | <span style=\"color:blue\">Returns a **center aligned string** of specified length, **padded with fillchar** <br> (whitespace <span style=\"background-color: yellow\">**\"&nbsp;&nbsp;\"**</span> by default)</span> |\n",
    "| <span style=\"background-color: yellow;color:red\"><strong>&nbsp;count(&nbsp;</strong></span>&nbsp;**substring[, start[, end]]**&nbsp;<span style=\"background-color: yellow;color:red\"><strong>&nbsp;)&nbsp;</strong></span> | <span style=\"color:blue\">Returns the **number of occurrences** of **substring** in the string</span> |\n",
    "| <span style=\"background-color: yellow;color:red\"><strong>&nbsp;encode(&nbsp;</strong></span>&nbsp;**[encoding[, errors]]**&nbsp;<span style=\"background-color: yellow;color:red\"><strong>&nbsp;)&nbsp;</strong></span> | <span style=\"color:blue\">Returns an encoded version of the string</span> |\n",
    "| <span style=\"background-color: yellow;color:red\"><strong>endswith(&nbsp;</strong></span>&nbsp;**suffix[, start[, end]]**<span style=\"background-color: yellow;color:red\"><strong>&nbsp;)&nbsp;</strong></span> | <span style=\"color:blue\">Returns **True if the string ends with the specified suffix**; otherwise, False</span> |\n",
    "| <span style=\"background-color: yellow;color:red\"><strong>&nbsp;expandtabs(&nbsp;</strong></span>&nbsp;**tabsize**&nbsp;<span style=\"background-color: yellow;color:red\"><strong>&nbsp;)&nbsp;</strong></span> | <span style=\"color:blue\">Sets the tab size of the string to the specified number of **whitespaces**. Default tabsize is **8**</span> |\n",
    "| <span style=\"background-color: yellow;color:red\"><strong>&nbsp;find(&nbsp;</strong></span>&nbsp;**substring[, start[, end]]**&nbsp;<span style=\"background-color: yellow;color:red\"><strong>&nbsp;)&nbsp;</strong></span> | <span style=\"color:blue\">Returns the **lowest index** in the string where **substring** is found, or **-1** if not found</span> |\n",
    "| <span style=\"background-color: yellow;color:red\"><strong>&nbsp;format(&nbsp;</strong></span>&nbsp;***args, kwargs**&nbsp;<span style=\"background-color: yellow;color:red\"><strong>&nbsp;)&nbsp;</strong></span> | <span style=\"color:blue\">Formats the string using positional and keyword arguments</span> |\n",
    "| <span style=\"background-color: yellow;color:red\"><strong>&nbsp;format_map(&nbsp;</strong></span>&nbsp;**mapping**<span style=\"background-color: yellow;color:red\"><strong>&nbsp;)&nbsp;</strong></span> | <span style=\"color:blue\">Formats the string using the values from a mapping object</span>  |\n",
    "| <span style=\"background-color: yellow;color:red\"><strong>&nbsp;index(&nbsp;</strong></span>&nbsp;**substring[, start[, end]]**<span style=\"background-color: yellow;color:red\"><strong>&nbsp;)&nbsp;</strong></span> | <span style=\"color:blue\">Returns the **lowest index** in the string where **substring** is found, or raises **ValueError** if not found</span> |\n",
    "| <span style=\"background-color:yellow;color:red\"><strong>&nbsp;isalnum(&nbsp;)&nbsp;</strong></span> | <span style=\"color:blue\">Returns **True** if **all characters** in the string are alphanumeric (**letters** and **digits**); otherwise, False</span> |\n",
    "| <span style=\"background-color:yellow;color:red\"><strong>&nbsp;isalpha(&nbsp;)&nbsp;</strong></span> | <span style=\"color:blue\">Returns **True** if **all characters** in the string are alphabetic (**letters**); otherwise, False</span> |\n",
    "| <span style=\"background-color:yellow;color:red\"><strong>&nbsp;isascii(&nbsp;)&nbsp;</strong></span> | <span style=\"color:blue\">Returns **True** if **all characters** in the string are **ascii characters**; otherwise, False</span> |\n",
    "| <span style=\"background-color:yellow;color:red\"><strong>&nbsp;isdecimal(&nbsp;)&nbsp;</strong></span> | <span style=\"color:blue\">Returns **True** if **all characters** in the string are decimals (**0-9**); otherwise, False</span> |\n",
    "| <span style=\"background-color:yellow;color:red\"><strong>&nbsp;isdigit(&nbsp;)&nbsp;</strong></span> | <span style=\"color:blue\">Returns **True** if **all characters** in the string are **digits**</span> |\n",
    "| <span style=\"background-color:yellow;color:red\"><strong>&nbsp;isidentifier(&nbsp;)&nbsp;</strong></span> | <span style=\"color:blue\">Returns **True** if the string is a **valid identifier**; otherwise, False</span> |\n",
    "| <span style=\"background-color:yellow;color:red\"><strong>&nbsp;islower(&nbsp;)&nbsp;</strong></span> | <span style=\"color:blue\">Returns **True** if **all characters** in the string are **lower** case; otherwise, False</span> |\n",
    "| <span style=\"background-color:yellow;color:red\"><strong>&nbsp;isnumeric(&nbsp;)&nbsp;</strong></span> | <span style=\"color:blue\">Returns **True** if **all characters** in the string are **numeric**; otherwise, False</span> |\n",
    "| <span style=\"background-color:yellow;color:red\"><strong>&nbsp;isprintable(&nbsp;)&nbsp;</strong></span> | <span style=\"color:blue\">Returns **True** if **all characters** in the string are **printable**; otherwise False</span> |\n",
    "| <span style=\"background-color:yellow;color:red\"><strong>&nbsp;isspace(&nbsp;)&nbsp;</strong></span> | <span style=\"color:blue\">Returns **True** if **all characters** in the string are **whitespaces**; otherwise False;</span> |\n",
    "| <span style=\"background-color:yellow;color:red\"><strong>&nbsp;istitle(&nbsp;)&nbsp;</strong></span> | <span style=\"color:blue\">Returns **True** if the string is in **title case**; otherwise False</span> |\n",
    "| <span style=\"background-color:yellow;color:red\"><strong>&nbsp;isupper(&nbsp;)&nbsp;</strong></span> | <span style=\"color:blue\">Returns **True** if **all characters** in the string are **upper case**; otherwise False</span> |\n",
    "| <span style=\"background-color: yellow;color:red\"><strong>&nbsp;join(&nbsp;</strong></span>&nbsp;**iterable**&nbsp;<span style=\"background-color: yellow;color:red\"><strong>&nbsp;)&nbsp;</strong></span> | <span style=\"color:blue\">Joins the elements of an iterable to the **end of the string** <br> Or in simple words, it **concatenates** the strings in the iterable using the string as a **separator**</span> |\n",
    "| <span style=\"background-color: yellow;color:red\"><strong>&nbsp;ljust(&nbsp;</strong></span>&nbsp;**length[, fillchar]**&nbsp;<span style=\"background-color: yellow;color:red\"><strong>&nbsp;)&nbsp;</strong></span> | <span style=\"color:blue\">Returns a **left-justified string** of specified length, **padded with fillchar** on the **right side** <br> (whitespace <span style=\"background-color: yellow\">**\"&nbsp;&nbsp;\"**</span> by default)</span> |\n",
    "| <span style=\"background-color:yellow;color:red\"><strong>&nbsp;lower(&nbsp;)&nbsp;</strong></span> | <span style=\"color:blue\">Returns a **copy** of the string converted to **lowercase**</span> |\n",
    "| <span style=\"background-color: yellow;color:red\"><strong>&nbsp;lstrip(&nbsp;</strong></span>&nbsp;**[chars]**&nbsp;<span style=\"background-color: yellow;color:red\"><strong>&nbsp;)&nbsp;</strong></span> | <span style=\"color:blue\">Returns a **copy** (left trim version) of the string with **leading characters removed** from the **left side** <br> (whitespace <span style=\"background-color: yellow\">**\"&nbsp;&nbsp;\"**</span> by default)</span> |\n",
    "|  <span style=\"background-color: yellow;color:red\"><strong>&nbsp;maketrans(&nbsp;</strong></span>&nbsp;**x[, y[, z]]**&nbsp;<span style=\"background-color: yellow;color:red\"><strong>&nbsp;)&nbsp;</strong></span> | <span style=\"color:blue\">Returns a **translation table** usable for **str.translate()**</span> |\n",
    "| <span style=\"background-color: yellow;color:red\"><strong>&nbsp;partition(&nbsp;</strong></span>&nbsp;**separator**&nbsp;<span style=\"background-color: yellow;color:red\"><strong>&nbsp;)&nbsp;</strong></span> | <span style=\"color:blue\">Splits the string at the **first occurrence** of **separator** and returns a **tuple** containing <br> the **left part** before the separator, the **separator** itself, and the **right part** after the separator</span> |\n",
    "| <span style=\"background-color: yellow;color:red\"><strong>&nbsp;replace(&nbsp;</strong></span>&nbsp;**old, new[, count]**&nbsp;<span style=\"background-color: yellow;color:red\"><strong>&nbsp;)&nbsp;</strong></span> | <span style=\"color:blue\">Returns a **copy** of the string with **all occurrences of old** replaced by **new** (**up to count** if specified)</span> |\n",
    "| <span style=\"background-color: yellow;color:red\"><strong>&nbsp;rfind(&nbsp;</strong></span>&nbsp;**substring[, start[, end]]**&nbsp;<span style=\"background-color: yellow;color:red\"><strong>&nbsp;)&nbsp;</strong></span> | <span style=\"color:blue\">Searches for the **last occurrence** of the **substring** within the string and <br> returns the **highest index** in the string where **substring** is found, or **-1** if not found</span> |\n",
    "| <span style=\"background-color: yellow;color:red\"><strong>&nbsp;rindex(&nbsp;</strong></span>&nbsp;**substring[, start[, end]]**&nbsp;<span style=\"background-color: yellow;color:red\"><strong>&nbsp;)&nbsp;</strong></span> | <span style=\"color:blue\">Searches for the **last occurrence** of the **substring** within the string and <br> returns the **highest index** in the string where **substring** is found, or raises a **ValueError** if not found</span> |\n",
    "| <span style=\"background-color: yellow;color:red\"><strong>&nbsp;rjust(&nbsp;</strong></span>&nbsp;**length[, fillchar]**&nbsp;<span style=\"background-color: yellow;color:red\"><strong>&nbsp;)&nbsp;</strong></span> | <span style=\"color:blue\">Returns a **right-justified string** of specified length, **padded with fillchar** on the **left side** <br> (whitespace <span style=\"background-color: yellow\">**\"&nbsp;&nbsp;\"**</span> by default)</span> |\n",
    "| <span style=\"background-color: yellow;color:red\"><strong>&nbsp;rpartition(&nbsp;</strong></span>&nbsp;**separator**&nbsp;<span style=\"background-color: yellow;color:red\"><strong>&nbsp;)&nbsp;</strong></span> | <span style=\"color:blue\">Splits the string at the **last occurrence** of **separator** and returns a **tuple** containing <br> the **left part** before the separator, the **separator** itself, and the **right part** after the separator</span> |\n",
    "| <span style=\"background-color: yellow;color:red\"><strong>&nbsp;rsplit(&nbsp;</strong></span>&nbsp;**separator**&nbsp;=&nbsp;<span style=\"background-color:#E8DAEF\">None</span>**&nbsp;, maxsplit**&nbsp;=&nbsp;<span style=\"background-color:#E8DAEF\">-1</span>&nbsp;<span style=\"background-color: yellow;color:red\"><strong>&nbsp;)&nbsp;</strong></span> | <span style=\"color:blue\"><span style=\"color:blue\">Splits a string into a list of strings from the **right side** <br> Here **maxsplit** represents the **maximum number of splits** <br> Default **separator** is any **whitespace** and default **maxsplit** is **-1**, which is **\"all occurrences\"**</span></span> |\n",
    "| <span style=\"background-color: yellow;color:red\"><strong>&nbsp;rstrip(&nbsp;</strong></span>&nbsp;**[chars]**&nbsp;<span style=\"background-color: yellow;color:red\"><strong>&nbsp;)&nbsp;</strong></span> | <span style=\"color:blue\">Returns a **copy** (right trim version) of the string with **trailing characters removed** from the **right side** <br> (whitespace <span style=\"background-color: yellow\">**\"&nbsp;&nbsp;\"**</span> by default)</span> |\n",
    "| <span style=\"background-color: yellow;color:red\"><strong>&nbsp;split(&nbsp;</strong></span>&nbsp;**separator**&nbsp;=&nbsp;<span style=\"background-color:#E8DAEF\">None</span>**&nbsp;, maxsplit**&nbsp;=&nbsp;<span style=\"background-color:#E8DAEF\">-1</span>&nbsp;<span style=\"background-color: yellow;color:red\"><strong>&nbsp;)&nbsp;</strong></span> | <span style=\"color:blue\"><span style=\"color:blue\">Splits a string into a list of strings from the **left side** <br> Here **maxsplit** represents the **maximum number of splits** <br> Default **separator** is any **whitespace** and default **maxsplit** is **-1**, which is **\"all occurrences\"**</span></span> |\n",
    "| <span style=\"background-color: yellow;color:red\"><strong>&nbsp;splitlines(&nbsp;</strong></span>&nbsp;**keeplinebreaks**&nbsp;<span style=\"background-color: yellow;color:red\"><strong>&nbsp;)&nbsp;</strong></span> | <span style=\"color:blue\">Splits a string into a **list of lines** <br> In other words, it splits the string at **line breaks** and returns a **list** <br> The parameter **keeplinesbreak** specifies if the line breaks should be included (**True**), or not (**False**) <br> Default value is **False**</span> |\n",
    "| <span style=\"background-color: yellow;color:red\"><strong>startswith(&nbsp;</strong></span>&nbsp;**prefix[, start[, end]]**<span style=\"background-color: yellow;color:red\"><strong>&nbsp;)&nbsp;</strong></span> | <span style=\"color:blue\">Returns **True if the string starts with the specified prefix**; otherwise, False</span> |\n",
    "| <span style=\"background-color: yellow;color:red\"><strong>&nbsp;strip(&nbsp;</strong></span>&nbsp;**[chars]**&nbsp;<span style=\"background-color: yellow;color:red\"><strong>&nbsp;)&nbsp;</strong></span> | <span style=\"color:blue\">Returns a **copy** (trimmed from **both left and right side**) of the string with **leading** and **trailing** characters removed <br> (whitespace <span style=\"background-color: yellow\">**\"&nbsp;&nbsp;\"**</span> by default)</span> |\n",
    "| <span style=\"background-color: yellow;color:red\"><strong>swapcase(&nbsp;)</strong></span> | <span style=\"color:blue\">**Swaps** cases, returns a **copy** of the string with **uppercase** characters converted to **lowercase** and **vice versa**</span> |\n",
    "| <span style=\"background-color: yellow;color:red\"><strong>title(&nbsp;)</strong></span> | <span style=\"color:blue\">Returns a **copy** of the string with the first character of each word capitalized<br>Converts the **first character** of **each word** to **upper case**</span> |\n",
    "| <span style=\"background-color: yellow;color:red\"><strong>translate(&nbsp;)</strong></span> | <span style=\"color:blue\">Returns a **translated string** using a **translation table**</span> |\n",
    "| <span style=\"background-color: yellow;color:red\"><strong>upper(&nbsp;)</strong></span> | <span style=\"color:blue\">Returns a **copy** of the string converted to **uppercase**</span> |\n",
    "| <span style=\"background-color: yellow;color:red\"><strong>&nbsp;zfill(&nbsp;</strong></span>&nbsp;**length**&nbsp;<span style=\"background-color: yellow;color:red\"><strong>&nbsp;)&nbsp;</strong></span> | <span style=\"color:blue\">Pads a numeric string with **zeros** on the **left side** to make it a **specified length** <br> In other words, it fills the string with a specified number of **0** values at the **beginning**</span> |\n",
    "\n"
   ]
  },
  {
   "cell_type": "markdown",
   "id": "32d44818-1f5c-4d41-8ef0-d8552823220d",
   "metadata": {},
   "source": [
    "<br>\n",
    "<br>\n",
    "<br>\n",
    "\n",
    "| Python Built-in Functions | <span style=\"color: blue\">String Methods</span> |\n",
    "|---------------------------|----------------|\n",
    "| Python built-in functions are general-purpose functions provided by the Python language itself. They **can operate on various data types**, including **strings**, **lists**, **tuples**, **dictionaries**, and more. Built-in functions are not tied to any specific data type and can be applied to a wide range of objects. | <span style=\"color: blue\">String methods, on the other hand, **are specific to string objects**. They are built-in functions that are associated with string objects and are used to perform various operations on strings, such as manipulation, searching, formatting, and validation. String methods are applied directly to string objects using the **dot notation**.</span> |\n"
   ]
  },
  {
   "cell_type": "code",
   "execution_count": 102,
   "id": "4c0659df-9806-4c15-aea8-77bd417ec662",
   "metadata": {},
   "outputs": [
    {
     "name": "stdout",
     "output_type": "stream",
     "text": [
      "5\n",
      "3\n"
     ]
    }
   ],
   "source": [
    "\n",
    "# Example of built-in functions\n",
    "print(len(\"hello\"))       # Output: 5\n",
    "print(max([1, 2, 3]))     # Output: 3\n"
   ]
  },
  {
   "cell_type": "code",
   "execution_count": 103,
   "id": "2c1583ee-7da2-41c4-9a91-be9fbb189e38",
   "metadata": {},
   "outputs": [
    {
     "name": "stdout",
     "output_type": "stream",
     "text": [
      "HELLO\n",
      "2\n"
     ]
    }
   ],
   "source": [
    "\n",
    "# Example of string methods\n",
    "s = \"hello\"\n",
    "print(s.upper())          # Output: HELLO\n",
    "print(s.find(\"l\"))        # Output: 2\n"
   ]
  },
  {
   "cell_type": "markdown",
   "id": "6a7344ee-23e9-4bf9-b7a8-bb5d8fcb4238",
   "metadata": {},
   "source": [
    "<br>\n",
    "\n",
    "<br>\n",
    "\n",
    "\n",
    "<span style=\"color: #F7D205\">⁃⁃⁃⁃⁃⁃⁃⁃⁃⁃⁃⁃⁃⁃⁃⁃⁃⁃⁃⁃⁃⁃⁃⁃⁃⁃⁃⁃⁃⁃⁃⁃⁃⁃⁃⁃⁃⁃⁃⁃⁃⁃⁃⁃⁃⁃⁃⁃⁃⁃⁃⁃⁃⁃⁃⁃⁃⁃⁃⁃⁃⁃⁃⁃⁃⁃⁃⁃⁃⁃⁃⁃⁃⁃⁃⁃⁃⁃⁃⁃⁃⁃⁃⁃⁃⁃⁃⁃⁃⁃⁃⁃⁃⁃⁃⁃⁃⁃⁃⁃⁃⁃⁃⁃⁃⁃⁃⁃⁃⁃⁃⁃⁃⁃⁃⁃⁃⁃⁃⁃⁃⁃⁃⁃⁃⁃⁃⁃⁃⁃⁃⁃⁃⁃⁃⁃⁃⁃⁃⁃⁃⁃⁃⁃⁃⁃⁃⁃⁃⁃⁃⁃⁃⁃⁃⁃⁃⁃⁃⁃⁃⁃⁃⁃⁃⁃⁃⁃⁃⁃⁃⁃⁃⁃⁃⁃⁃⁃⁃⁃⁃⁃⁃⁃⁃⁃⁃⁃</span>\n",
    "\n",
    "<br>\n",
    "\n",
    "<font size=\"+1\"><span style=\"background-color: yellow; color:red\"><strong>&nbsp;string.capitalize(&nbsp;)&nbsp;</strong></span></font>\n",
    "\n",
    "<span style=\"color: blue\">Converts the first character to upper case and the rest to lowercase</span>\n"
   ]
  },
  {
   "cell_type": "code",
   "execution_count": 104,
   "id": "6e078507-ef01-4ca6-8667-ccecbfada273",
   "metadata": {},
   "outputs": [
    {
     "name": "stdout",
     "output_type": "stream",
     "text": [
      "Python is fun!\n"
     ]
    }
   ],
   "source": [
    "\n",
    "txt = \"python is FUN!\"\n",
    "\n",
    "x = txt.capitalize()\n",
    "\n",
    "print (x)\n"
   ]
  },
  {
   "cell_type": "markdown",
   "id": "21399bbd-0c4c-44c6-a388-a5dbe5b63c74",
   "metadata": {},
   "source": [
    "<br>\n",
    "\n",
    "Let's see what happens if the first character is a number:\n"
   ]
  },
  {
   "cell_type": "code",
   "execution_count": 105,
   "id": "9ea3c607-811d-408b-8b2f-903eeeff77a1",
   "metadata": {},
   "outputs": [
    {
     "name": "stdout",
     "output_type": "stream",
     "text": [
      "36 is my age.\n"
     ]
    }
   ],
   "source": [
    "\n",
    "txt = \"36 is my age.\"\n",
    "\n",
    "x = txt.capitalize()\n",
    "\n",
    "print (x)\n"
   ]
  },
  {
   "cell_type": "markdown",
   "id": "816c73d6-b903-40cf-a2dc-032a359a909a",
   "metadata": {},
   "source": [
    "<br>\n",
    "\n",
    "<br>\n",
    "\n",
    "\n",
    "<span style=\"color: #F7D205\">⁃⁃⁃⁃⁃⁃⁃⁃⁃⁃⁃⁃⁃⁃⁃⁃⁃⁃⁃⁃⁃⁃⁃⁃⁃⁃⁃⁃⁃⁃⁃⁃⁃⁃⁃⁃⁃⁃⁃⁃⁃⁃⁃⁃⁃⁃⁃⁃⁃⁃⁃⁃⁃⁃⁃⁃⁃⁃⁃⁃⁃⁃⁃⁃⁃⁃⁃⁃⁃⁃⁃⁃⁃⁃⁃⁃⁃⁃⁃⁃⁃⁃⁃⁃⁃⁃⁃⁃⁃⁃⁃⁃⁃⁃⁃⁃⁃⁃⁃⁃⁃⁃⁃⁃⁃⁃⁃⁃⁃⁃⁃⁃⁃⁃⁃⁃⁃⁃⁃⁃⁃⁃⁃⁃⁃⁃⁃⁃⁃⁃⁃⁃⁃⁃⁃⁃⁃⁃⁃⁃⁃⁃⁃⁃⁃⁃⁃⁃⁃⁃⁃⁃⁃⁃⁃⁃⁃⁃⁃⁃⁃⁃⁃⁃⁃⁃⁃⁃⁃⁃⁃⁃⁃⁃⁃⁃⁃⁃⁃⁃⁃⁃⁃⁃⁃⁃⁃⁃</span>\n",
    "\n",
    "<br>\n",
    "\n",
    "<font size=\"+1\"><span style=\"background-color: yellow; color:red\"><strong>&nbsp;string.casefold(&nbsp;)&nbsp;</strong></span></font>\n",
    "\n",
    "<span style=\"color: blue\">The **casefold( )** method returns a string where all the characters are lower case.</span>\n",
    "\n",
    "This method is similar to the **lower( )** method, but the casefold() method is stronger, more aggressive, meaning that it will convert more characters into lower case, and will find more matches when comparing two strings and both are converted using the casefold() method.\n"
   ]
  },
  {
   "cell_type": "code",
   "execution_count": 106,
   "id": "e437f4af-f0de-4a84-a759-d8d3958abd48",
   "metadata": {},
   "outputs": [
    {
     "name": "stdout",
     "output_type": "stream",
     "text": [
      "hello, and welcome to my world!\n"
     ]
    }
   ],
   "source": [
    "\n",
    "txt = \"Hello, And Welcome To My World!\"\n",
    "\n",
    "x = txt.casefold()\n",
    "\n",
    "print(x)\n"
   ]
  },
  {
   "cell_type": "markdown",
   "id": "a0b2f012-bb85-41fb-9758-7f35e2eca733",
   "metadata": {},
   "source": [
    "<br>\n",
    "\n",
    "<br>\n",
    "\n",
    "\n",
    "<span style=\"color: #F7D205\">⁃⁃⁃⁃⁃⁃⁃⁃⁃⁃⁃⁃⁃⁃⁃⁃⁃⁃⁃⁃⁃⁃⁃⁃⁃⁃⁃⁃⁃⁃⁃⁃⁃⁃⁃⁃⁃⁃⁃⁃⁃⁃⁃⁃⁃⁃⁃⁃⁃⁃⁃⁃⁃⁃⁃⁃⁃⁃⁃⁃⁃⁃⁃⁃⁃⁃⁃⁃⁃⁃⁃⁃⁃⁃⁃⁃⁃⁃⁃⁃⁃⁃⁃⁃⁃⁃⁃⁃⁃⁃⁃⁃⁃⁃⁃⁃⁃⁃⁃⁃⁃⁃⁃⁃⁃⁃⁃⁃⁃⁃⁃⁃⁃⁃⁃⁃⁃⁃⁃⁃⁃⁃⁃⁃⁃⁃⁃⁃⁃⁃⁃⁃⁃⁃⁃⁃⁃⁃⁃⁃⁃⁃⁃⁃⁃⁃⁃⁃⁃⁃⁃⁃⁃⁃⁃⁃⁃⁃⁃⁃⁃⁃⁃⁃⁃⁃⁃⁃⁃⁃⁃⁃⁃⁃⁃⁃⁃⁃⁃⁃⁃⁃⁃⁃⁃⁃⁃⁃</span>\n",
    "\n",
    "<br>\n",
    "\n",
    "<font size=\"+1\"><span style=\"background-color: yellow;color:red\"><strong>&nbsp;string.center(&nbsp;</strong></span>&nbsp;**length[, fillchar]**&nbsp;<span style=\"background-color: yellow;color:red\"><strong>&nbsp;)&nbsp;</strong></span></font>\n",
    "\n",
    "<span style=\"color: blue\">The **center( )** method will center align the string, using a specified character (space is default) as the fill character.</span>\n"
   ]
  },
  {
   "cell_type": "code",
   "execution_count": 107,
   "id": "d7079f07-9933-4910-93be-fe6ec7f0d5ac",
   "metadata": {},
   "outputs": [
    {
     "name": "stdout",
     "output_type": "stream",
     "text": [
      "       banana       \n"
     ]
    }
   ],
   "source": [
    "\n",
    "# Print the word \"banana\", taking up the space of 20 characters, with \"banana\" in the middle:\n",
    "\n",
    "txt = \"banana\"\n",
    "\n",
    "x = txt.center(20)         # Output ===>  \"       banana       \"\n",
    "\n",
    "print(x)\n"
   ]
  },
  {
   "cell_type": "code",
   "execution_count": 108,
   "id": "11ad0026-a316-471c-ad6a-f0426e5a2a1f",
   "metadata": {},
   "outputs": [
    {
     "name": "stdout",
     "output_type": "stream",
     "text": [
      "OOOOOOObananaOOOOOOO\n"
     ]
    }
   ],
   "source": [
    "\n",
    "# Using the letter \"O\" as the padding character:\n",
    "\n",
    "txt = \"banana\"\n",
    "\n",
    "x = txt.center(20, \"O\")    # # Output ===>  \"OOOOOOObananaOOOOOOO\"\n",
    "\n",
    "print(x)\n",
    "\n"
   ]
  },
  {
   "cell_type": "markdown",
   "id": "16e6c017-3809-4dd3-acea-d419084db685",
   "metadata": {},
   "source": [
    "<br>\n",
    "\n",
    "<br>\n",
    "\n",
    "\n",
    "<span style=\"color: #F7D205\">⁃⁃⁃⁃⁃⁃⁃⁃⁃⁃⁃⁃⁃⁃⁃⁃⁃⁃⁃⁃⁃⁃⁃⁃⁃⁃⁃⁃⁃⁃⁃⁃⁃⁃⁃⁃⁃⁃⁃⁃⁃⁃⁃⁃⁃⁃⁃⁃⁃⁃⁃⁃⁃⁃⁃⁃⁃⁃⁃⁃⁃⁃⁃⁃⁃⁃⁃⁃⁃⁃⁃⁃⁃⁃⁃⁃⁃⁃⁃⁃⁃⁃⁃⁃⁃⁃⁃⁃⁃⁃⁃⁃⁃⁃⁃⁃⁃⁃⁃⁃⁃⁃⁃⁃⁃⁃⁃⁃⁃⁃⁃⁃⁃⁃⁃⁃⁃⁃⁃⁃⁃⁃⁃⁃⁃⁃⁃⁃⁃⁃⁃⁃⁃⁃⁃⁃⁃⁃⁃⁃⁃⁃⁃⁃⁃⁃⁃⁃⁃⁃⁃⁃⁃⁃⁃⁃⁃⁃⁃⁃⁃⁃⁃⁃⁃⁃⁃⁃⁃⁃⁃⁃⁃⁃⁃⁃⁃⁃⁃⁃⁃⁃⁃⁃⁃⁃⁃⁃</span>\n",
    "\n",
    "<br>\n",
    "\n",
    "<font size=\"+1\"><span style=\"background-color: yellow;color:red\"><strong>&nbsp;string.count(&nbsp;</strong></span>&nbsp;**substring[, start[, end]]**&nbsp;<span style=\"background-color: yellow;color:red\"><strong>&nbsp;)&nbsp;</strong></span></font>\n",
    "\n",
    "<span style=\"color:blue\">Returns the **number of occurrences** of **substring** in the string</span>\n"
   ]
  },
  {
   "cell_type": "code",
   "execution_count": 109,
   "id": "61180358-de8f-4499-9f0a-47af0d446438",
   "metadata": {},
   "outputs": [
    {
     "name": "stdout",
     "output_type": "stream",
     "text": [
      "1\n"
     ]
    }
   ],
   "source": [
    "\n",
    "txt = \"I love apples, apple are my favorite fruit\"\n",
    "\n",
    "x = txt.count(\"apple\", 10, 24)\n",
    "\n",
    "print(x)\n"
   ]
  },
  {
   "cell_type": "markdown",
   "id": "4d5cfdd9-2b63-4b66-8d4e-2cb5fc3bd196",
   "metadata": {},
   "source": [
    "<br>\n",
    "\n",
    "<br>\n",
    "\n",
    "\n",
    "<span style=\"color: #F7D205\">⁃⁃⁃⁃⁃⁃⁃⁃⁃⁃⁃⁃⁃⁃⁃⁃⁃⁃⁃⁃⁃⁃⁃⁃⁃⁃⁃⁃⁃⁃⁃⁃⁃⁃⁃⁃⁃⁃⁃⁃⁃⁃⁃⁃⁃⁃⁃⁃⁃⁃⁃⁃⁃⁃⁃⁃⁃⁃⁃⁃⁃⁃⁃⁃⁃⁃⁃⁃⁃⁃⁃⁃⁃⁃⁃⁃⁃⁃⁃⁃⁃⁃⁃⁃⁃⁃⁃⁃⁃⁃⁃⁃⁃⁃⁃⁃⁃⁃⁃⁃⁃⁃⁃⁃⁃⁃⁃⁃⁃⁃⁃⁃⁃⁃⁃⁃⁃⁃⁃⁃⁃⁃⁃⁃⁃⁃⁃⁃⁃⁃⁃⁃⁃⁃⁃⁃⁃⁃⁃⁃⁃⁃⁃⁃⁃⁃⁃⁃⁃⁃⁃⁃⁃⁃⁃⁃⁃⁃⁃⁃⁃⁃⁃⁃⁃⁃⁃⁃⁃⁃⁃⁃⁃⁃⁃⁃⁃⁃⁃⁃⁃⁃⁃⁃⁃⁃⁃⁃</span>\n",
    "\n",
    "<br>\n",
    "\n",
    "<font size=\"+1\"><span style=\"background-color: yellow;color:red\"><strong>&nbsp;string.encode(&nbsp;</strong></span>&nbsp;**[encoding = encoding[, errors = errors]]**&nbsp;<span style=\"background-color: yellow;color:red\"><strong>&nbsp;)&nbsp;</strong></span></font>\n",
    "\n",
    "<span style=\"color:blue\">The **encode( )** method encodes the string, using the specified encoding. If no encoding is specified, **UTF-8** will be used.</span>\n",
    "\n",
    "![Paramter Values](string_encoding.png)\n"
   ]
  },
  {
   "cell_type": "code",
   "execution_count": 110,
   "id": "0c614498-bf6e-4a14-af51-cf444053c764",
   "metadata": {},
   "outputs": [
    {
     "name": "stdout",
     "output_type": "stream",
     "text": [
      "b'My name is St\\xc3\\xa5le'\n"
     ]
    }
   ],
   "source": [
    "\n",
    "txt = \"My name is Ståle\"\n",
    "\n",
    "x = txt.encode()\n",
    "\n",
    "print(x)\n"
   ]
  },
  {
   "cell_type": "code",
   "execution_count": 111,
   "id": "35071b05-82a0-4576-9325-404334e3bc0d",
   "metadata": {},
   "outputs": [
    {
     "name": "stdout",
     "output_type": "stream",
     "text": [
      "b'My name is St\\\\xe5le'\n",
      "b'My name is Stle'\n",
      "b'My name is St\\\\N{LATIN SMALL LETTER A WITH RING ABOVE}le'\n",
      "b'My name is St?le'\n",
      "b'My name is St&#229;le'\n"
     ]
    }
   ],
   "source": [
    "\n",
    "txt = \"My name is Ståle\"\n",
    "\n",
    "print(txt.encode(encoding=\"ascii\",errors=\"backslashreplace\"))\n",
    "print(txt.encode(encoding=\"ascii\",errors=\"ignore\"))\n",
    "print(txt.encode(encoding=\"ascii\",errors=\"namereplace\"))\n",
    "print(txt.encode(encoding=\"ascii\",errors=\"replace\"))\n",
    "print(txt.encode(encoding=\"ascii\",errors=\"xmlcharrefreplace\"))\n"
   ]
  },
  {
   "cell_type": "markdown",
   "id": "ca404c39-d83a-4c4b-af5b-97f36bb5a81b",
   "metadata": {},
   "source": [
    "<br>\n",
    "\n",
    "<br>\n",
    "\n",
    "\n",
    "<span style=\"color: #F7D205\">⁃⁃⁃⁃⁃⁃⁃⁃⁃⁃⁃⁃⁃⁃⁃⁃⁃⁃⁃⁃⁃⁃⁃⁃⁃⁃⁃⁃⁃⁃⁃⁃⁃⁃⁃⁃⁃⁃⁃⁃⁃⁃⁃⁃⁃⁃⁃⁃⁃⁃⁃⁃⁃⁃⁃⁃⁃⁃⁃⁃⁃⁃⁃⁃⁃⁃⁃⁃⁃⁃⁃⁃⁃⁃⁃⁃⁃⁃⁃⁃⁃⁃⁃⁃⁃⁃⁃⁃⁃⁃⁃⁃⁃⁃⁃⁃⁃⁃⁃⁃⁃⁃⁃⁃⁃⁃⁃⁃⁃⁃⁃⁃⁃⁃⁃⁃⁃⁃⁃⁃⁃⁃⁃⁃⁃⁃⁃⁃⁃⁃⁃⁃⁃⁃⁃⁃⁃⁃⁃⁃⁃⁃⁃⁃⁃⁃⁃⁃⁃⁃⁃⁃⁃⁃⁃⁃⁃⁃⁃⁃⁃⁃⁃⁃⁃⁃⁃⁃⁃⁃⁃⁃⁃⁃⁃⁃⁃⁃⁃⁃⁃⁃⁃⁃⁃⁃⁃⁃</span>\n",
    "\n",
    "<br>\n",
    "\n",
    "<font size=\"+1\"><span style=\"background-color: yellow;color:red\"><strong>string.endswith(&nbsp;</strong></span>&nbsp;**suffix[, start[, end]]**<span style=\"background-color: yellow;color:red\"><strong>&nbsp;)&nbsp;</strong></span></font>\n",
    "\n",
    "\n",
    "<span style=\"color:blue\">Returns **True if the string ends with the specified suffix**; otherwise, False</span>\n"
   ]
  },
  {
   "cell_type": "code",
   "execution_count": 112,
   "id": "23b0d319-7ef6-4c55-876d-9ec2e2ede470",
   "metadata": {},
   "outputs": [
    {
     "name": "stdout",
     "output_type": "stream",
     "text": [
      "True\n"
     ]
    }
   ],
   "source": [
    "\n",
    "# Check if the string ends with a punctuation sign (.):\n",
    "\n",
    "txt = \"Hello, welcome to my world.\"\n",
    "\n",
    "x = txt.endswith(\".\")\n",
    "\n",
    "print(x)\n"
   ]
  },
  {
   "cell_type": "code",
   "execution_count": 113,
   "id": "c5502399-d596-42e3-bc38-38b3c6752c9f",
   "metadata": {},
   "outputs": [
    {
     "name": "stdout",
     "output_type": "stream",
     "text": [
      "True\n"
     ]
    }
   ],
   "source": [
    "\n",
    "# Check if the string ends with the phrase \"my world.\":\n",
    "\n",
    "txt = \"Hello, welcome to my world.\"\n",
    "\n",
    "x = txt.endswith(\"my world.\")\n",
    "\n",
    "print(x)\n"
   ]
  },
  {
   "cell_type": "markdown",
   "id": "af5cc549-0095-4094-bc70-ed7c775b8576",
   "metadata": {},
   "source": [
    "<br>\n",
    "\n",
    "<br>\n",
    "\n",
    "\n",
    "<span style=\"color: #F7D205\">⁃⁃⁃⁃⁃⁃⁃⁃⁃⁃⁃⁃⁃⁃⁃⁃⁃⁃⁃⁃⁃⁃⁃⁃⁃⁃⁃⁃⁃⁃⁃⁃⁃⁃⁃⁃⁃⁃⁃⁃⁃⁃⁃⁃⁃⁃⁃⁃⁃⁃⁃⁃⁃⁃⁃⁃⁃⁃⁃⁃⁃⁃⁃⁃⁃⁃⁃⁃⁃⁃⁃⁃⁃⁃⁃⁃⁃⁃⁃⁃⁃⁃⁃⁃⁃⁃⁃⁃⁃⁃⁃⁃⁃⁃⁃⁃⁃⁃⁃⁃⁃⁃⁃⁃⁃⁃⁃⁃⁃⁃⁃⁃⁃⁃⁃⁃⁃⁃⁃⁃⁃⁃⁃⁃⁃⁃⁃⁃⁃⁃⁃⁃⁃⁃⁃⁃⁃⁃⁃⁃⁃⁃⁃⁃⁃⁃⁃⁃⁃⁃⁃⁃⁃⁃⁃⁃⁃⁃⁃⁃⁃⁃⁃⁃⁃⁃⁃⁃⁃⁃⁃⁃⁃⁃⁃⁃⁃⁃⁃⁃⁃⁃⁃⁃⁃⁃⁃⁃</span>\n",
    "\n",
    "<br>\n",
    "\n",
    "<font size=\"+1\"><span style=\"background-color: yellow;color:red\"><strong>&nbsp;string.expandtabs(&nbsp;</strong></span>&nbsp;**tabsize**&nbsp;<span style=\"background-color: yellow;color:red\"><strong>&nbsp;)&nbsp;</strong></span></font>\n",
    "\n",
    "<span style=\"color:blue\">Sets the tab size of the string to the specified number of **whitespaces**. Default tabsize is **8**</span>"
   ]
  },
  {
   "cell_type": "code",
   "execution_count": 114,
   "id": "3759c8c1-afbd-4802-9d08-9fa8fe635c71",
   "metadata": {},
   "outputs": [
    {
     "name": "stdout",
     "output_type": "stream",
     "text": [
      "H e l l o\n"
     ]
    }
   ],
   "source": [
    "# Set the tab size to 2 whitespaces:\n",
    "\n",
    "txt = \"H\\te\\tl\\tl\\to\"\n",
    "\n",
    "x =  txt.expandtabs(2)\n",
    "\n",
    "print(x)\n"
   ]
  },
  {
   "cell_type": "code",
   "execution_count": 115,
   "id": "7725d8d2-67b9-4fe9-8b21-c0ded29a65c0",
   "metadata": {},
   "outputs": [
    {
     "name": "stdout",
     "output_type": "stream",
     "text": [
      "H\te\tl\tl\to\n",
      "H       e       l       l       o\n",
      "H e l l o\n",
      "H   e   l   l   o\n",
      "H         e         l         l         o\n"
     ]
    }
   ],
   "source": [
    "\n",
    "txt = \"H\\te\\tl\\tl\\to\"\n",
    "\n",
    "print(txt)\n",
    "print(txt.expandtabs())\n",
    "print(txt.expandtabs(2))\n",
    "print(txt.expandtabs(4))\n",
    "print(txt.expandtabs(10))\n"
   ]
  },
  {
   "cell_type": "markdown",
   "id": "ef4dc0e6-a49b-4ba8-bec8-7aa1d32a2d1a",
   "metadata": {},
   "source": [
    "<br>\n",
    "\n",
    "<br>\n",
    "\n",
    "\n",
    "<span style=\"color: #F7D205\">⁃⁃⁃⁃⁃⁃⁃⁃⁃⁃⁃⁃⁃⁃⁃⁃⁃⁃⁃⁃⁃⁃⁃⁃⁃⁃⁃⁃⁃⁃⁃⁃⁃⁃⁃⁃⁃⁃⁃⁃⁃⁃⁃⁃⁃⁃⁃⁃⁃⁃⁃⁃⁃⁃⁃⁃⁃⁃⁃⁃⁃⁃⁃⁃⁃⁃⁃⁃⁃⁃⁃⁃⁃⁃⁃⁃⁃⁃⁃⁃⁃⁃⁃⁃⁃⁃⁃⁃⁃⁃⁃⁃⁃⁃⁃⁃⁃⁃⁃⁃⁃⁃⁃⁃⁃⁃⁃⁃⁃⁃⁃⁃⁃⁃⁃⁃⁃⁃⁃⁃⁃⁃⁃⁃⁃⁃⁃⁃⁃⁃⁃⁃⁃⁃⁃⁃⁃⁃⁃⁃⁃⁃⁃⁃⁃⁃⁃⁃⁃⁃⁃⁃⁃⁃⁃⁃⁃⁃⁃⁃⁃⁃⁃⁃⁃⁃⁃⁃⁃⁃⁃⁃⁃⁃⁃⁃⁃⁃⁃⁃⁃⁃⁃⁃⁃⁃⁃⁃</span>\n",
    "\n",
    "<br>\n",
    "\n",
    "<font size=\"+1\"><span style=\"background-color: yellow;color:red\"><strong>&nbsp;string.find(&nbsp;</strong></span>&nbsp;**substring[, start[, end]]**&nbsp;<span style=\"background-color: yellow;color:red\"><strong>&nbsp;)&nbsp;</strong></span></font>\n",
    "\n",
    "<span style=\"color:blue\">Returns the **lowest index** in the string where **substring** is found, or **-1** if not found</span>\n",
    "\n",
    "&nbsp;&nbsp;&nbsp;&nbsp;&nbsp;&nbsp;&nbsp;&nbsp;<span style=\"color:blue\">**start** ===> Where to start the search. Default is **0**</span> <br>\n",
    "&nbsp;&nbsp;&nbsp;&nbsp;&nbsp;&nbsp;&nbsp;&nbsp;<span style=\"color:blue\">**end** ===> Where to end the search. Default is to the **end of the string**</span>\n",
    "\n",
    "<br>\n",
    "\n",
    "The **find( )** method is almost the same as the index() method, the only difference is that <span style=\"background-color: #CAFEFD\">the **index( )** method raises an exception if the value is not found<span>."
   ]
  },
  {
   "cell_type": "code",
   "execution_count": 116,
   "id": "b7f685b5-a840-47e3-83d3-cb16b7011ec2",
   "metadata": {},
   "outputs": [
    {
     "name": "stdout",
     "output_type": "stream",
     "text": [
      "7\n"
     ]
    }
   ],
   "source": [
    "\n",
    "# Where in the text is the word \"welcome\"?:\n",
    "\n",
    "txt = \"Hello, welcome to my world.\"\n",
    "\n",
    "x = txt.find(\"welcome\")\n",
    "\n",
    "print(x)\n"
   ]
  },
  {
   "cell_type": "code",
   "execution_count": 117,
   "id": "58e69975-2afd-4af4-8471-d6cabf606f32",
   "metadata": {},
   "outputs": [
    {
     "name": "stdout",
     "output_type": "stream",
     "text": [
      "1\n"
     ]
    }
   ],
   "source": [
    "\n",
    "# Where in the text is the first occurrence of the letter \"e\"?:\n",
    "\n",
    "txt = \"Hello, welcome to my world.\"\n",
    "\n",
    "x = txt.find(\"e\")\n",
    "\n",
    "print(x)"
   ]
  },
  {
   "cell_type": "code",
   "execution_count": 119,
   "id": "6f6fcb50-39b6-49a5-bf9f-806831c8fef4",
   "metadata": {},
   "outputs": [
    {
     "name": "stdout",
     "output_type": "stream",
     "text": [
      "8\n"
     ]
    }
   ],
   "source": [
    "\n",
    "# Where in the text is the first occurrence of the letter \"e\" when you only search between position 5 and 10?:\n",
    "\n",
    "txt = \"Hello, welcome to my world.\"\n",
    "\n",
    "x = txt.find(\"e\", 5, 10)\n",
    "\n",
    "print(x)\n"
   ]
  },
  {
   "cell_type": "code",
   "execution_count": 120,
   "id": "45d1aec9-d105-4db9-a54c-d5438d37a6f4",
   "metadata": {},
   "outputs": [
    {
     "name": "stdout",
     "output_type": "stream",
     "text": [
      "-1\n"
     ]
    },
    {
     "ename": "ValueError",
     "evalue": "substring not found",
     "output_type": "error",
     "traceback": [
      "\u001b[1;31m---------------------------------------------------------------------------\u001b[0m",
      "\u001b[1;31mValueError\u001b[0m                                Traceback (most recent call last)",
      "Cell \u001b[1;32mIn[120], line 6\u001b[0m\n\u001b[0;32m      3\u001b[0m txt \u001b[38;5;241m=\u001b[39m \u001b[38;5;124m\"\u001b[39m\u001b[38;5;124mHello, welcome to my world.\u001b[39m\u001b[38;5;124m\"\u001b[39m\n\u001b[0;32m      5\u001b[0m \u001b[38;5;28mprint\u001b[39m(txt\u001b[38;5;241m.\u001b[39mfind(\u001b[38;5;124m\"\u001b[39m\u001b[38;5;124mq\u001b[39m\u001b[38;5;124m\"\u001b[39m))\n\u001b[1;32m----> 6\u001b[0m \u001b[38;5;28mprint\u001b[39m(\u001b[43mtxt\u001b[49m\u001b[38;5;241;43m.\u001b[39;49m\u001b[43mindex\u001b[49m\u001b[43m(\u001b[49m\u001b[38;5;124;43m\"\u001b[39;49m\u001b[38;5;124;43mq\u001b[39;49m\u001b[38;5;124;43m\"\u001b[39;49m\u001b[43m)\u001b[49m)\n",
      "\u001b[1;31mValueError\u001b[0m: substring not found"
     ]
    }
   ],
   "source": [
    "\n",
    "# If the value is not found, the find() method returns -1, but the index() method will raise an exception:\n",
    "\n",
    "txt = \"Hello, welcome to my world.\"\n",
    "\n",
    "print(txt.find(\"q\"))\n",
    "print(txt.index(\"q\"))\n"
   ]
  },
  {
   "cell_type": "markdown",
   "id": "b7116a4c-a192-4740-b99d-e5918198c0c5",
   "metadata": {},
   "source": [
    "<br>\n",
    "\n",
    "<br>\n",
    "\n",
    "\n",
    "<span style=\"color: #F7D205\">⁃⁃⁃⁃⁃⁃⁃⁃⁃⁃⁃⁃⁃⁃⁃⁃⁃⁃⁃⁃⁃⁃⁃⁃⁃⁃⁃⁃⁃⁃⁃⁃⁃⁃⁃⁃⁃⁃⁃⁃⁃⁃⁃⁃⁃⁃⁃⁃⁃⁃⁃⁃⁃⁃⁃⁃⁃⁃⁃⁃⁃⁃⁃⁃⁃⁃⁃⁃⁃⁃⁃⁃⁃⁃⁃⁃⁃⁃⁃⁃⁃⁃⁃⁃⁃⁃⁃⁃⁃⁃⁃⁃⁃⁃⁃⁃⁃⁃⁃⁃⁃⁃⁃⁃⁃⁃⁃⁃⁃⁃⁃⁃⁃⁃⁃⁃⁃⁃⁃⁃⁃⁃⁃⁃⁃⁃⁃⁃⁃⁃⁃⁃⁃⁃⁃⁃⁃⁃⁃⁃⁃⁃⁃⁃⁃⁃⁃⁃⁃⁃⁃⁃⁃⁃⁃⁃⁃⁃⁃⁃⁃⁃⁃⁃⁃⁃⁃⁃⁃⁃⁃⁃⁃⁃⁃⁃⁃⁃⁃⁃⁃⁃⁃⁃⁃⁃⁃⁃</span>\n",
    "\n",
    "<br>\n",
    "\n",
    "\n",
    "<font size=\"+1\"><span style=\"background-color: yellow;color:red\"><strong>&nbsp;string.format(&nbsp;</strong></span>&nbsp;***args, kwargs**&nbsp;<span style=\"background-color: yellow;color:red\"><strong>&nbsp;)&nbsp;</strong></span></font>\n",
    "\n",
    "<font size=\"+1\"><span style=\"background-color: yellow;color:red\"><strong>&nbsp;string.format(&nbsp;</strong></span>&nbsp;**value1, value2.....**&nbsp;<span style=\"background-color: yellow;color:red\"><strong>&nbsp;)&nbsp;</strong></span></font>\n",
    " \n",
    "<span style=\"color:blue\">Formats the string using **positional** and **keyword arguments**</span>\n",
    "\n",
    "<span style=\"color:blue\">The format( ) method formats the specified value(s) and insert them inside the string's **placeholder**.<span>\n",
    "\n",
    "<span style=\"color:blue\">The placeholder is defined using **curly brackets**: <span style=\"background-color: #FDE1FE\">&nbsp;**{ }**&nbsp;</span>.</span>\n",
    "\n",
    "<span style=\"color:blue\">The format() method returns the formatted string.</span>\n",
    "\n",
    "\n",
    "**Parameter Values :**<font size=\"+2\">↴</font>\n",
    "\n",
    "\n",
    "&nbsp;&nbsp;&nbsp;&nbsp;&nbsp;&nbsp;&nbsp;&nbsp;&nbsp;&nbsp;&nbsp;&nbsp;&nbsp;&nbsp;&nbsp;&nbsp;<font size=\"+1\">↳</font>&nbsp;<span style=\"color:blue\">The values are either a <span style=\"background-color: #FDE1FE\">&nbsp;list of values separated by commas&nbsp;</span>, a <span style=\"background-color: #FDE1FE\">&nbsp;key=value list&nbsp;</span>, or a <span style=\"background-color: #FDE1FE\">&nbsp;combination of both</span>.</span>\n",
    "\n",
    "&nbsp;&nbsp;&nbsp;&nbsp;&nbsp;&nbsp;&nbsp;&nbsp;&nbsp;&nbsp;&nbsp;&nbsp;&nbsp;&nbsp;&nbsp;&nbsp;<font size=\"+1\">↳</font>&nbsp;<span style=\"color:blue\">The values can be of any data type.</span>\n",
    "\n",
    "&nbsp;&nbsp;&nbsp;&nbsp;&nbsp;&nbsp;&nbsp;&nbsp;&nbsp;&nbsp;&nbsp;&nbsp;&nbsp;&nbsp;&nbsp;&nbsp;<font size=\"+1\">↳</font>&nbsp;<span style=\"color:blue\">The placeholders can be identified using named indexes <span style=\"background-color: #FDE1FE\">&nbsp;**{variable_name}**&nbsp;</span>, numbered indexes <span style=\"background-color: #FDE1FE\">&nbsp;**{0}**&nbsp;</span>, or even empty placeholders <span style=\"background-color: #FDE1FE\">&nbsp;**{ }**&nbsp;</span>.</span>\n",
    "\n",
    "**Formating Types**<font size=\"+2\">↴</font> <br>\n",
    "\n",
    "&nbsp;&nbsp;&nbsp;&nbsp;&nbsp;&nbsp;&nbsp;&nbsp;&nbsp;&nbsp;&nbsp;&nbsp;&nbsp;&nbsp;&nbsp;&nbsp;<font size=\"+1\">↳</font>&nbsp;<span style=\"color:blue\">**Inside the placeholders** you can add a **formatting type** to format the result:</span>\n",
    "\n",
    "\n",
    "| Format Type | Description |\n",
    "|-------------|-------------|\n",
    "| **<span style=\"background-color: #FBF3FF; color: red\">&nbsp;&nbsp;<font size=\"+2\">:<</font>&nbsp;&nbsp;</span>**          |  Left aligns the result (within the available space) |\n",
    "| **<span style=\"background-color: #FBF3FF; color: red\">&nbsp;&nbsp;<font size=\"+2\">:></font>&nbsp;&nbsp;</span>**          |  Right aligns the result (within the available space) |\n",
    "| **<span style=\"background-color: #FBF3FF; color: red\">&nbsp;&nbsp;<font size=\"+2\">:^</font>&nbsp;&nbsp;</span>**          |  Center aligns the result (within the available space) |\n",
    "| **<span style=\"background-color: #FBF3FF; color: red\">&nbsp;&nbsp;<font size=\"+2\">:=</font>&nbsp;&nbsp;</span>**          |  Places the sign to the left most position |\n",
    "| **<span style=\"background-color: #FBF3FF; color: red\">&nbsp;&nbsp;<font size=\"+2\">:+</font>&nbsp;&nbsp;</span>**          |  Use a plus sign to indicate if the result is positive or negative |\n",
    "| **<span style=\"background-color: #FBF3FF; color: red\">&nbsp;&nbsp;<font size=\"+2\">:-</font>&nbsp;&nbsp;</span>**          |  Use a minus sign for negative values only |\n",
    "| **<span style=\"background-color: #FBF3FF; color: red\">&nbsp;&nbsp;<font size=\"+2\">: </font>&nbsp;&nbsp;</span>**          |  Use a space to insert an extra space before positive numbers (and a minus sign before negative numbers) |\n",
    "| **<span style=\"background-color: #FBF3FF; color: red\">&nbsp;&nbsp;<font size=\"+2\">:,</font>&nbsp;&nbsp;</span>**          |  Use a comma as a thousand separator |\n",
    "| **<span style=\"background-color: #FBF3FF; color: red\">&nbsp;&nbsp;<font size=\"+2\">:_</font>&nbsp;&nbsp;</span>**          |  Use a underscore as a thousand separator |\n",
    "| **<span style=\"background-color: #FBF3FF; color: red\">&nbsp;&nbsp;<font size=\"+2\">:b</font>&nbsp;&nbsp;</span>**          | Binary format |\n",
    "| **<span style=\"background-color: #FBF3FF; color: red\">&nbsp;&nbsp;<font size=\"+2\">:c</font>&nbsp;&nbsp;</span>**          | Converts the value into the corresponding unicode character |\n",
    "| **<span style=\"background-color: #FBF3FF; color: red\">&nbsp;&nbsp;<font size=\"+2\">:d</font>&nbsp;&nbsp;</span>**          | Decimal format |\n",
    "| **<span style=\"background-color: #FBF3FF; color: red\">&nbsp;&nbsp;<font size=\"+2\">:e</font>&nbsp;&nbsp;</span>**          | Scientific format, with a lower case e |\n",
    "| **<span style=\"background-color: #FBF3FF; color: red\">&nbsp;&nbsp;<font size=\"+2\">:E</font>&nbsp;&nbsp;</span>**          | Scientific format, with an upper case E |\n",
    "| **<span style=\"background-color: #FBF3FF; color: red\">&nbsp;&nbsp;<font size=\"+2\">:f</font>&nbsp;&nbsp;</span>**          | Fix point number format |\n",
    "| **<span style=\"background-color: #FBF3FF; color: red\">&nbsp;&nbsp;<font size=\"+2\">:F</font>&nbsp;&nbsp;</span>**          | Fix point number format, in uppercase format (show <span style=\"color: red\">**inf**</span> and <span style=\"color: red\">**nan**</span> as <span style=\"color: red\">**INF**</span> and <span style=\"color: red\">**NAN**</span>) |\n",
    "| **<span style=\"background-color: #FBF3FF; color: red\">&nbsp;&nbsp;<font size=\"+2\">:g</font>&nbsp;&nbsp;</span>**          | General format |\n",
    "| **<span style=\"background-color: #FBF3FF; color: red\">&nbsp;&nbsp;<font size=\"+2\">:G</font>&nbsp;&nbsp;</span>**          | General format (using a upper case E for scientific notations) |\n",
    "| **<span style=\"background-color: #FBF3FF; color: red\">&nbsp;&nbsp;<font size=\"+2\">:o</font>&nbsp;&nbsp;</span>**          | Octal format |\n",
    "| **<span style=\"background-color: #FBF3FF; color: red\">&nbsp;&nbsp;<font size=\"+2\">:x</font>&nbsp;&nbsp;</span>**          | Hex format, lower case |\n",
    "| **<span style=\"background-color: #FBF3FF; color: red\">&nbsp;&nbsp;<font size=\"+2\">:X</font>&nbsp;&nbsp;</span>**          | Hex format, upper case |\n",
    "| **<span style=\"background-color: #FBF3FF; color: red\">&nbsp;&nbsp;<font size=\"+2\">:n</font>&nbsp;&nbsp;</span>**          | Number format |\n",
    "| **<span style=\"background-color: #FBF3FF; color: red\">&nbsp;&nbsp;<font size=\"+2\">:%</font>&nbsp;&nbsp;</span>**          | Percentage format |\n",
    "\n"
   ]
  },
  {
   "cell_type": "code",
   "execution_count": 121,
   "id": "975fa441-8934-4aa8-82d1-0b2c944acf85",
   "metadata": {},
   "outputs": [
    {
     "name": "stdout",
     "output_type": "stream",
     "text": [
      "For only 49.00 dollars!\n"
     ]
    }
   ],
   "source": [
    "\n",
    "# Insert the price inside the placeholder, the price should be in fixed point, two-decimal format:\n",
    "\n",
    "txt = \"For only {price:.2f} dollars!\"\n",
    "print(txt.format(price = 49))\n"
   ]
  },
  {
   "cell_type": "code",
   "execution_count": 122,
   "id": "3eeb0a44-95d8-476d-a5fc-cdfea0b2cae4",
   "metadata": {},
   "outputs": [
    {
     "name": "stdout",
     "output_type": "stream",
     "text": [
      "My name is Avinash, I'm 30\n",
      "\n",
      "My name is Avinash, I'm 30\n",
      "\n",
      "My name is Avinash, I'm 30\n",
      "\n"
     ]
    }
   ],
   "source": [
    "\n",
    "# Using different placeholder values:\n",
    "\n",
    "txt1 = \"My name is {fname}, I'm {age}\".format(fname = \"Avinash\", age = 30)\n",
    "txt2 = \"My name is {0}, I'm {1}\".format(\"Avinash\",30)\n",
    "txt3 = \"My name is {}, I'm {}\".format(\"Avinash\",30)\n",
    "\n",
    "\n",
    "print(txt1, end=\"\\n\"*2)\n",
    "print(txt2, end=\"\\n\"*2)\n",
    "print(txt3, end=\"\\n\"*2)\n"
   ]
  },
  {
   "cell_type": "code",
   "execution_count": 123,
   "id": "0250bceb-a341-41d5-b3f4-aaf16b036713",
   "metadata": {},
   "outputs": [
    {
     "name": "stdout",
     "output_type": "stream",
     "text": [
      "We have 49       chickens.\n"
     ]
    }
   ],
   "source": [
    "\n",
    "txt = \"We have {:<8} chickens.\"\n",
    "print(txt.format(49))\n"
   ]
  },
  {
   "cell_type": "code",
   "execution_count": 124,
   "id": "c884e7e1-022c-4973-a52a-08eda10814f6",
   "metadata": {},
   "outputs": [
    {
     "name": "stdout",
     "output_type": "stream",
     "text": [
      "We have       49 chickens.\n"
     ]
    }
   ],
   "source": [
    "\n",
    "txt = \"We have {:>8} chickens.\"\n",
    "print(txt.format(49))\n"
   ]
  },
  {
   "cell_type": "code",
   "execution_count": 125,
   "id": "3007b2c9-7ac3-41c1-8a54-ede94b2bd919",
   "metadata": {},
   "outputs": [
    {
     "name": "stdout",
     "output_type": "stream",
     "text": [
      "We have    49    chickens.\n"
     ]
    }
   ],
   "source": [
    "\n",
    "txt = \"We have {:^8} chickens.\"\n",
    "print(txt.format(49))\n"
   ]
  },
  {
   "cell_type": "code",
   "execution_count": 126,
   "id": "34bd38ed-5c0e-44db-92b7-f4e3440c26f0",
   "metadata": {},
   "outputs": [
    {
     "name": "stdout",
     "output_type": "stream",
     "text": [
      "The temperature is -      5 degrees celsius.\n"
     ]
    }
   ],
   "source": [
    "\n",
    "# Use \"=\" to place the plus/minus sign at the left most position:\n",
    "\n",
    "txt = \"The temperature is {:=8} degrees celsius.\"\n",
    "\n",
    "print(txt.format(-5))\n"
   ]
  },
  {
   "cell_type": "code",
   "execution_count": 127,
   "id": "d4d511e6-558f-4d24-9bcf-cd620de55e71",
   "metadata": {},
   "outputs": [
    {
     "name": "stdout",
     "output_type": "stream",
     "text": [
      "The temperature is between -3 and +7 degrees celsius.\n"
     ]
    }
   ],
   "source": [
    "\n",
    "# Use \"+\" to always indicate if the number is positive or negative:\n",
    "\n",
    "txt = \"The temperature is between {:+} and {:+} degrees celsius.\"\n",
    "\n",
    "print(txt.format(-3, 7))\n"
   ]
  },
  {
   "cell_type": "code",
   "execution_count": 128,
   "id": "06bc00c5-e9ae-46bc-a35c-21cdd7d7325c",
   "metadata": {},
   "outputs": [
    {
     "name": "stdout",
     "output_type": "stream",
     "text": [
      "The temperature is between -3 and 7 degrees celsius.\n"
     ]
    }
   ],
   "source": [
    "\n",
    "# Use \"-\" to always indicate if the number is negative (positive numbers are displayed without any sign):\n",
    "\n",
    "txt = \"The temperature is between {:-} and {:-} degrees celsius.\"\n",
    "\n",
    "print(txt.format(-3, 7))\n"
   ]
  },
  {
   "cell_type": "code",
   "execution_count": 129,
   "id": "2fbf1885-e0bd-475a-b19a-b0449bcc5f3c",
   "metadata": {},
   "outputs": [
    {
     "name": "stdout",
     "output_type": "stream",
     "text": [
      "The temperature is between -3 and  7 degrees celsius.\n"
     ]
    }
   ],
   "source": [
    "\n",
    "# Use \" \" (a space) to insert a space before positive numbers and a minus sign before negative numbers:\n",
    "\n",
    "txt = \"The temperature is between {: } and {: } degrees celsius.\"\n",
    "\n",
    "print(txt.format(-3, 7))\n"
   ]
  },
  {
   "cell_type": "code",
   "execution_count": 130,
   "id": "8e5f3e64-5411-47ea-8953-dfa810712396",
   "metadata": {},
   "outputs": [
    {
     "name": "stdout",
     "output_type": "stream",
     "text": [
      "The universe is 13,800,000,000 years old.\n"
     ]
    }
   ],
   "source": [
    "\n",
    "# Use \",\" to add a comma as a thousand separator:\n",
    "\n",
    "txt = \"The universe is {:,} years old.\"\n",
    "\n",
    "print(txt.format(13800000000))\n"
   ]
  },
  {
   "cell_type": "code",
   "execution_count": 131,
   "id": "26a3ff30-f6be-4068-8027-8daa94a79801",
   "metadata": {},
   "outputs": [
    {
     "name": "stdout",
     "output_type": "stream",
     "text": [
      "The binary version of 5 is 101\n"
     ]
    }
   ],
   "source": [
    "\n",
    "# Use \"b\" to convert the number into binary format:\n",
    "\n",
    "txt = \"The binary version of {0} is {0:b}\"\n",
    "\n",
    "print(txt.format(5))\n"
   ]
  },
  {
   "cell_type": "code",
   "execution_count": 132,
   "id": "0212cbe9-7c55-4aed-b8ce-25bc808c3723",
   "metadata": {},
   "outputs": [
    {
     "name": "stdout",
     "output_type": "stream",
     "text": [
      "We have 5 apples.\n",
      "The temperature is -5 degree celsius\n",
      "My net worth is 11111111111111111111111111111011 USD\n",
      "My net worth is 4294967291 USD\n",
      "My net worth is -4294967291 USD\n"
     ]
    }
   ],
   "source": [
    "\n",
    "# Use \"d\" to convert a number, in this case a binary number, into decimal number format:\n",
    "\n",
    "txt = \"We have {:d} apples.\"\n",
    "print(txt.format(0b101))                                                               #  5\n",
    "\n",
    "txt = \"The temperature is {:d} degree celsius\"\n",
    "print(txt.format(-0b101))                                                              #  -5\n",
    "\n",
    "\n",
    "print(\"My net worth is {:d} USD\".format(11111111111111111111111111111011))             #  11111111111111111111111111111011\n",
    "print(\"My net worth is {:d} USD\".format(0b11111111111111111111111111111011))           #  4294967291\n",
    "print(\"My net worth is {:d} USD\".format(-0b11111111111111111111111111111011))          #  -4294967291\n"
   ]
  },
  {
   "cell_type": "code",
   "execution_count": 133,
   "id": "7bc5c422-0f38-409b-8722-abf9e6a640fc",
   "metadata": {},
   "outputs": [
    {
     "name": "stdout",
     "output_type": "stream",
     "text": [
      "We have 5.000000e+00 apples.\n",
      "We have 5.000000E+00 apples.\n"
     ]
    }
   ],
   "source": [
    "\n",
    "# Use \"e\" to convert a number into scientific number format (with a lower-case e):\n",
    "\n",
    "txt = \"We have {:e} apples.\"\n",
    "print(txt.format(5))\n",
    "\n",
    "\n",
    "#Use \"E\" to convert a number into scientific number format (with an upper-case E):\n",
    "\n",
    "txt = \"We have {:E} apples.\"\n",
    "print(txt.format(5))\n"
   ]
  },
  {
   "cell_type": "code",
   "execution_count": 134,
   "id": "fc5a2526-7d1c-460b-ac68-b14575f5e3cb",
   "metadata": {},
   "outputs": [
    {
     "name": "stdout",
     "output_type": "stream",
     "text": [
      "The price is 45.00 dollars.\n",
      "The price is 45.000000 dollars.\n"
     ]
    }
   ],
   "source": [
    "\n",
    "# Use \"f\" to convert a number into a fixed point number, default with 6 decimals, but use a period followed by a number to specify the number of decimals:\n",
    "\n",
    "txt = \"The price is {:.2f} dollars.\"\n",
    "print(txt.format(45))\n",
    "\n",
    "# without the \".2\" inside the placeholder, this number will be displayed like this:\n",
    "\n",
    "txt = \"The price is {:f} dollars.\"\n",
    "print(txt.format(45))\n"
   ]
  },
  {
   "cell_type": "code",
   "execution_count": 135,
   "id": "435cef51-19ed-4772-927a-8f658e438edf",
   "metadata": {},
   "outputs": [
    {
     "name": "stdout",
     "output_type": "stream",
     "text": [
      "The price is INF dollars.\n",
      "The price is inf dollars.\n"
     ]
    }
   ],
   "source": [
    "\n",
    "# Use \"F\" to convert a number into a fixed point number, but display inf and nan as INF and NAN:\n",
    "\n",
    "x = float('inf')\n",
    "\n",
    "txt = \"The price is {:F} dollars.\"\n",
    "print(txt.format(x))\n",
    "\n",
    "# same example, but with a lower case f:\n",
    "\n",
    "txt = \"The price is {:f} dollars.\"\n",
    "print(txt.format(x))\n"
   ]
  },
  {
   "cell_type": "code",
   "execution_count": 136,
   "id": "da86b596-e1af-4a6d-9562-cc9a8ef6973f",
   "metadata": {},
   "outputs": [
    {
     "name": "stdout",
     "output_type": "stream",
     "text": [
      "The octal version of 10 is 12\n"
     ]
    }
   ],
   "source": [
    "\n",
    "# Use \"o\" to convert the number into octal format:\n",
    "\n",
    "txt = \"The octal version of {0} is {0:o}\"\n",
    "\n",
    "print(txt.format(10))\n"
   ]
  },
  {
   "cell_type": "code",
   "execution_count": 137,
   "id": "7418a23b-e34f-478d-8cc5-7d61713e7d59",
   "metadata": {},
   "outputs": [
    {
     "name": "stdout",
     "output_type": "stream",
     "text": [
      "The octal version of 10 is 12\n"
     ]
    }
   ],
   "source": [
    "\n",
    "# Use \"o\" to convert the number into octal format:\n",
    "\n",
    "txt = \"The octal version of {0} is {0:o}\"\n",
    "\n",
    "print(txt.format(10))\n"
   ]
  },
  {
   "cell_type": "code",
   "execution_count": 138,
   "id": "e4da0b5c-2cdf-48f8-a1b0-838e3d5d11fe",
   "metadata": {},
   "outputs": [
    {
     "name": "stdout",
     "output_type": "stream",
     "text": [
      "The Hexadecimal version of 255 is ff\n",
      "The Hexadecimal version of 255 is FF\n"
     ]
    }
   ],
   "source": [
    "\n",
    "# Use \"x\" to convert the number into Hex format:\n",
    "\n",
    "txt = \"The Hexadecimal version of {0} is {0:x}\"\n",
    "print(txt.format(255))\n",
    "\n",
    "\n",
    "\n",
    "#Use \"X\" to convert the number into upper-case Hex format:\n",
    "\n",
    "txt = \"The Hexadecimal version of {0} is {0:X}\"\n",
    "print(txt.format(255))\n"
   ]
  },
  {
   "cell_type": "code",
   "execution_count": 139,
   "id": "40fee027-8782-4e9c-857d-780ecf32cc10",
   "metadata": {},
   "outputs": [
    {
     "name": "stdout",
     "output_type": "stream",
     "text": [
      "You scored 25.000000%\n",
      "You scored 25%\n"
     ]
    }
   ],
   "source": [
    "\n",
    "#Use \"%\" to convert the number into a percentage format:\n",
    "\n",
    "txt = \"You scored {:%}\"\n",
    "print(txt.format(0.25))\n",
    "\n",
    "\n",
    "\n",
    "#Or, without any decimals:\n",
    "\n",
    "txt = \"You scored {:.0%}\"\n",
    "print(txt.format(0.25))\n"
   ]
  },
  {
   "cell_type": "markdown",
   "id": "b3f16504-6782-4f0d-8e2f-e21b840814dd",
   "metadata": {},
   "source": [
    "<br>\n",
    "\n",
    "<br>\n",
    "\n",
    "<span style=\"color: #F7D205\">⁃⁃⁃⁃⁃⁃⁃⁃⁃⁃⁃⁃⁃⁃⁃⁃⁃⁃⁃⁃⁃⁃⁃⁃⁃⁃⁃⁃⁃⁃⁃⁃⁃⁃⁃⁃⁃⁃⁃⁃⁃⁃⁃⁃⁃⁃⁃⁃⁃⁃⁃⁃⁃⁃⁃⁃⁃⁃⁃⁃⁃⁃⁃⁃⁃⁃⁃⁃⁃⁃⁃⁃⁃⁃⁃⁃⁃⁃⁃⁃⁃⁃⁃⁃⁃⁃⁃⁃⁃⁃⁃⁃⁃⁃⁃⁃⁃⁃⁃⁃⁃⁃⁃⁃⁃⁃⁃⁃⁃⁃⁃⁃⁃⁃⁃⁃⁃⁃⁃⁃⁃⁃⁃⁃⁃⁃⁃⁃⁃⁃⁃⁃⁃⁃⁃⁃⁃⁃⁃⁃⁃⁃⁃⁃⁃⁃⁃⁃⁃⁃⁃⁃⁃⁃⁃⁃⁃⁃⁃⁃⁃⁃⁃⁃⁃⁃⁃⁃⁃⁃⁃⁃⁃⁃⁃⁃⁃⁃⁃⁃⁃⁃⁃⁃⁃⁃⁃⁃</span>\n",
    "\n",
    "<br>\n",
    "\n",
    "<font size=\"+1\"><span style=\"background-color: yellow;color:red\"><strong>&nbsp;string.format_map(&nbsp;</strong></span>&nbsp;**mapping**<span style=\"background-color: yellow;color:red\"><strong>&nbsp;)&nbsp;</strong></span></font>\n",
    "\n",
    "<span style=\"color:blue\">Formats the string using the values from a mapping object</span>\n",
    "\n",
    "<span style=\"color:blue\">Similar to the format() method, but it takes a single argument - a dictionary. It formats a string using the values in the dictionary to replace placeholders in the string.</span>\n",
    "\n",
    "\n"
   ]
  },
  {
   "cell_type": "code",
   "execution_count": 140,
   "id": "deeba916-2a6b-47a0-9ee9-22c7787f8c4d",
   "metadata": {},
   "outputs": [
    {
     "name": "stdout",
     "output_type": "stream",
     "text": [
      "Hello, Aman. You are 25 years old.\n"
     ]
    }
   ],
   "source": [
    "\n",
    "# Define a dictionary with values to replace placeholders\n",
    "data = {'name': 'Aman', 'age': 25}\n",
    "\n",
    "# Format a string using format_map()\n",
    "message = \"Hello, {name}. You are {age} years old.\".format_map(data)\n",
    "\n",
    "print(message)\n"
   ]
  },
  {
   "cell_type": "markdown",
   "id": "29de4668-bd8a-4f3f-927e-6ad3ba86613d",
   "metadata": {},
   "source": [
    "<br>\n",
    "\n",
    "<br>\n",
    "\n",
    "<span style=\"color: #F7D205\">⁃⁃⁃⁃⁃⁃⁃⁃⁃⁃⁃⁃⁃⁃⁃⁃⁃⁃⁃⁃⁃⁃⁃⁃⁃⁃⁃⁃⁃⁃⁃⁃⁃⁃⁃⁃⁃⁃⁃⁃⁃⁃⁃⁃⁃⁃⁃⁃⁃⁃⁃⁃⁃⁃⁃⁃⁃⁃⁃⁃⁃⁃⁃⁃⁃⁃⁃⁃⁃⁃⁃⁃⁃⁃⁃⁃⁃⁃⁃⁃⁃⁃⁃⁃⁃⁃⁃⁃⁃⁃⁃⁃⁃⁃⁃⁃⁃⁃⁃⁃⁃⁃⁃⁃⁃⁃⁃⁃⁃⁃⁃⁃⁃⁃⁃⁃⁃⁃⁃⁃⁃⁃⁃⁃⁃⁃⁃⁃⁃⁃⁃⁃⁃⁃⁃⁃⁃⁃⁃⁃⁃⁃⁃⁃⁃⁃⁃⁃⁃⁃⁃⁃⁃⁃⁃⁃⁃⁃⁃⁃⁃⁃⁃⁃⁃⁃⁃⁃⁃⁃⁃⁃⁃⁃⁃⁃⁃⁃⁃⁃⁃⁃⁃⁃⁃⁃⁃⁃</span>\n",
    "\n",
    "<br>\n",
    "\n",
    "<font size=\"+1\"><span style=\"background-color: yellow;color:red\"><strong>&nbsp;string.index(&nbsp;</strong></span>&nbsp;**substring[, start[, end]]**<span style=\"background-color: yellow;color:red\"><strong>&nbsp;)&nbsp;</strong></span></font>\n",
    "\n",
    "<span style=\"color:blue\">Returns the **lowest index** (i.e., first occurrence) in the string where **substring** is found, or raises **ValueError** if not found</span>\n"
   ]
  },
  {
   "cell_type": "code",
   "execution_count": 141,
   "id": "c7112d7c-cd63-46a8-9839-d85d4bb48b38",
   "metadata": {},
   "outputs": [
    {
     "name": "stdout",
     "output_type": "stream",
     "text": [
      "7\n"
     ]
    }
   ],
   "source": [
    "\n",
    "# Where in the text is the word \"welcome\"?:\n",
    "\n",
    "txt = \"Hello, welcome to my world.\"\n",
    "\n",
    "x = txt.index(\"welcome\")\n",
    "\n",
    "print(x)\n"
   ]
  },
  {
   "cell_type": "code",
   "execution_count": 142,
   "id": "3fe59bf0-1eae-4d71-8c17-5a978cac65a4",
   "metadata": {},
   "outputs": [
    {
     "name": "stdout",
     "output_type": "stream",
     "text": [
      "1\n"
     ]
    }
   ],
   "source": [
    "\n",
    "# Where in the text is the first occurrence of the letter \"e\"?:\n",
    "\n",
    "txt = \"Hello, welcome to my world.\"\n",
    "\n",
    "x = txt.index(\"e\")\n",
    "\n",
    "print(x)\n"
   ]
  },
  {
   "cell_type": "code",
   "execution_count": 143,
   "id": "47bd444f-7418-461f-b7eb-f0a23d067b4e",
   "metadata": {},
   "outputs": [
    {
     "name": "stdout",
     "output_type": "stream",
     "text": [
      "8\n"
     ]
    }
   ],
   "source": [
    "\n",
    "# Where in the text is the first occurrence of the letter \"e\" when you only search between position 5 and 10?:\n",
    "\n",
    "txt = \"Hello, welcome to my world.\"\n",
    "\n",
    "x = txt.index(\"e\", 5, 10)\n",
    "\n",
    "print(x)\n",
    "     "
   ]
  },
  {
   "cell_type": "code",
   "execution_count": 144,
   "id": "bfdc6564-8999-4c0a-9235-b5d0d4180367",
   "metadata": {},
   "outputs": [
    {
     "name": "stdout",
     "output_type": "stream",
     "text": [
      "-1\n"
     ]
    },
    {
     "ename": "ValueError",
     "evalue": "substring not found",
     "output_type": "error",
     "traceback": [
      "\u001b[1;31m---------------------------------------------------------------------------\u001b[0m",
      "\u001b[1;31mValueError\u001b[0m                                Traceback (most recent call last)",
      "Cell \u001b[1;32mIn[144], line 6\u001b[0m\n\u001b[0;32m      3\u001b[0m txt \u001b[38;5;241m=\u001b[39m \u001b[38;5;124m\"\u001b[39m\u001b[38;5;124mHello, welcome to my world.\u001b[39m\u001b[38;5;124m\"\u001b[39m\n\u001b[0;32m      5\u001b[0m \u001b[38;5;28mprint\u001b[39m(txt\u001b[38;5;241m.\u001b[39mfind(\u001b[38;5;124m\"\u001b[39m\u001b[38;5;124mq\u001b[39m\u001b[38;5;124m\"\u001b[39m))\n\u001b[1;32m----> 6\u001b[0m \u001b[38;5;28mprint\u001b[39m(\u001b[43mtxt\u001b[49m\u001b[38;5;241;43m.\u001b[39;49m\u001b[43mindex\u001b[49m\u001b[43m(\u001b[49m\u001b[38;5;124;43m\"\u001b[39;49m\u001b[38;5;124;43mq\u001b[39;49m\u001b[38;5;124;43m\"\u001b[39;49m\u001b[43m)\u001b[49m)\n",
      "\u001b[1;31mValueError\u001b[0m: substring not found"
     ]
    }
   ],
   "source": [
    "\n",
    "# If the value is not found, the find() method returns -1, but the index() method will raise an exception:\n",
    "\n",
    "txt = \"Hello, welcome to my world.\"\n",
    "\n",
    "print(txt.find(\"q\"))\n",
    "print(txt.index(\"q\"))\n"
   ]
  },
  {
   "cell_type": "markdown",
   "id": "4496acc9-8c20-484a-970d-94f147bf7615",
   "metadata": {},
   "source": [
    "<br>\n",
    "\n",
    "<br>\n",
    "\n",
    "\n",
    "<span style=\"color: #F7D205\">⁃⁃⁃⁃⁃⁃⁃⁃⁃⁃⁃⁃⁃⁃⁃⁃⁃⁃⁃⁃⁃⁃⁃⁃⁃⁃⁃⁃⁃⁃⁃⁃⁃⁃⁃⁃⁃⁃⁃⁃⁃⁃⁃⁃⁃⁃⁃⁃⁃⁃⁃⁃⁃⁃⁃⁃⁃⁃⁃⁃⁃⁃⁃⁃⁃⁃⁃⁃⁃⁃⁃⁃⁃⁃⁃⁃⁃⁃⁃⁃⁃⁃⁃⁃⁃⁃⁃⁃⁃⁃⁃⁃⁃⁃⁃⁃⁃⁃⁃⁃⁃⁃⁃⁃⁃⁃⁃⁃⁃⁃⁃⁃⁃⁃⁃⁃⁃⁃⁃⁃⁃⁃⁃⁃⁃⁃⁃⁃⁃⁃⁃⁃⁃⁃⁃⁃⁃⁃⁃⁃⁃⁃⁃⁃⁃⁃⁃⁃⁃⁃⁃⁃⁃⁃⁃⁃⁃⁃⁃⁃⁃⁃⁃⁃⁃⁃⁃⁃⁃⁃⁃⁃⁃⁃⁃⁃⁃⁃⁃⁃⁃⁃⁃⁃⁃⁃⁃⁃</span>\n",
    "\n",
    "<br>\n",
    "\n",
    "<font size=\"+1\"><span style=\"background-color:yellow;color:red\"><strong>&nbsp;string.isalnum(&nbsp;)&nbsp;</strong></span></font>\n",
    "\n",
    "<span style=\"color:blue\">Returns **True** if **all characters** in the string are alphanumeric (**letters** and **digits**); otherwise, False</span>\n"
   ]
  },
  {
   "cell_type": "code",
   "execution_count": 145,
   "id": "1d1f6122-9602-4acb-840f-7992b5480372",
   "metadata": {},
   "outputs": [
    {
     "name": "stdout",
     "output_type": "stream",
     "text": [
      "True\n"
     ]
    }
   ],
   "source": [
    "\n",
    "# Check if all the characters in the text are alphanumeric:\n",
    "\n",
    "txt = \"Company12\"\n",
    "\n",
    "x = txt.isalnum()\n",
    "\n",
    "print(x)\n"
   ]
  },
  {
   "cell_type": "code",
   "execution_count": 146,
   "id": "6a58ab3b-8c77-4516-876a-582158a85fa2",
   "metadata": {},
   "outputs": [
    {
     "name": "stdout",
     "output_type": "stream",
     "text": [
      "False\n"
     ]
    }
   ],
   "source": [
    "\n",
    "# Check if all the characters in the text is alphanumeric:\n",
    "\n",
    "txt = \"Company 12\"\n",
    "\n",
    "x = txt.isalnum()\n",
    "\n",
    "print(x)\n"
   ]
  },
  {
   "cell_type": "markdown",
   "id": "ecf6bb40-bb51-44fb-8b4c-61f3898f411d",
   "metadata": {},
   "source": [
    "<br>\n",
    "\n",
    "<br>\n",
    "\n",
    "\n",
    "<span style=\"color: #F7D205\">⁃⁃⁃⁃⁃⁃⁃⁃⁃⁃⁃⁃⁃⁃⁃⁃⁃⁃⁃⁃⁃⁃⁃⁃⁃⁃⁃⁃⁃⁃⁃⁃⁃⁃⁃⁃⁃⁃⁃⁃⁃⁃⁃⁃⁃⁃⁃⁃⁃⁃⁃⁃⁃⁃⁃⁃⁃⁃⁃⁃⁃⁃⁃⁃⁃⁃⁃⁃⁃⁃⁃⁃⁃⁃⁃⁃⁃⁃⁃⁃⁃⁃⁃⁃⁃⁃⁃⁃⁃⁃⁃⁃⁃⁃⁃⁃⁃⁃⁃⁃⁃⁃⁃⁃⁃⁃⁃⁃⁃⁃⁃⁃⁃⁃⁃⁃⁃⁃⁃⁃⁃⁃⁃⁃⁃⁃⁃⁃⁃⁃⁃⁃⁃⁃⁃⁃⁃⁃⁃⁃⁃⁃⁃⁃⁃⁃⁃⁃⁃⁃⁃⁃⁃⁃⁃⁃⁃⁃⁃⁃⁃⁃⁃⁃⁃⁃⁃⁃⁃⁃⁃⁃⁃⁃⁃⁃⁃⁃⁃⁃⁃⁃⁃⁃⁃⁃⁃⁃</span>\n",
    "\n",
    "<br>\n",
    "\n",
    "<font size=\"+1\"><span style=\"background-color:yellow;color:red\"><strong>&nbsp;string.isalpha(&nbsp;)&nbsp;</strong></span></font>\n",
    "\n",
    "<span style=\"color:blue\">Returns **True** if **all characters** in the string are alphabetic (**letters**); otherwise, False</span>\n"
   ]
  },
  {
   "cell_type": "code",
   "execution_count": 147,
   "id": "9bbc053c-fbbc-4d1a-80fe-71d00438b8d2",
   "metadata": {},
   "outputs": [
    {
     "name": "stdout",
     "output_type": "stream",
     "text": [
      "True\n"
     ]
    }
   ],
   "source": [
    "# Check if all the characters in the text are letters:\n",
    "\n",
    "txt = \"CompanyX\"\n",
    "\n",
    "x = txt.isalpha()\n",
    "\n",
    "print(x)\n"
   ]
  },
  {
   "cell_type": "code",
   "execution_count": 148,
   "id": "e8683867-f81b-4855-b58f-798fc55d02d4",
   "metadata": {},
   "outputs": [
    {
     "name": "stdout",
     "output_type": "stream",
     "text": [
      "False\n"
     ]
    }
   ],
   "source": [
    "# Check if all the characters in the text is alphabetic:\n",
    "\n",
    "txt = \"Company10\"\n",
    "\n",
    "x = txt.isalpha()\n",
    "\n",
    "print(x)"
   ]
  },
  {
   "cell_type": "markdown",
   "id": "8e88c76f-2564-4ec8-903a-c565a752985b",
   "metadata": {},
   "source": [
    "\n",
    "<br>\n",
    "\n",
    "<br>\n",
    "\n",
    "\n",
    "<span style=\"color: #F7D205\">⁃⁃⁃⁃⁃⁃⁃⁃⁃⁃⁃⁃⁃⁃⁃⁃⁃⁃⁃⁃⁃⁃⁃⁃⁃⁃⁃⁃⁃⁃⁃⁃⁃⁃⁃⁃⁃⁃⁃⁃⁃⁃⁃⁃⁃⁃⁃⁃⁃⁃⁃⁃⁃⁃⁃⁃⁃⁃⁃⁃⁃⁃⁃⁃⁃⁃⁃⁃⁃⁃⁃⁃⁃⁃⁃⁃⁃⁃⁃⁃⁃⁃⁃⁃⁃⁃⁃⁃⁃⁃⁃⁃⁃⁃⁃⁃⁃⁃⁃⁃⁃⁃⁃⁃⁃⁃⁃⁃⁃⁃⁃⁃⁃⁃⁃⁃⁃⁃⁃⁃⁃⁃⁃⁃⁃⁃⁃⁃⁃⁃⁃⁃⁃⁃⁃⁃⁃⁃⁃⁃⁃⁃⁃⁃⁃⁃⁃⁃⁃⁃⁃⁃⁃⁃⁃⁃⁃⁃⁃⁃⁃⁃⁃⁃⁃⁃⁃⁃⁃⁃⁃⁃⁃⁃⁃⁃⁃⁃⁃⁃⁃⁃⁃⁃⁃⁃⁃⁃</span>\n",
    "\n",
    "<br>\n",
    "\n",
    "<font size=\"+1\"><span style=\"background-color:yellow;color:red\"><strong>&nbsp;string.isascii(&nbsp;)&nbsp;</strong></span></font>\n",
    "\n",
    "<span style=\"color:blue\">Returns **True** if **all characters** in the string are **ascii characters**; otherwise, False</span>\n"
   ]
  },
  {
   "cell_type": "code",
   "execution_count": 149,
   "id": "84818acc-f382-4076-913a-b21b9d75d5e2",
   "metadata": {},
   "outputs": [
    {
     "name": "stdout",
     "output_type": "stream",
     "text": [
      "True\n"
     ]
    }
   ],
   "source": [
    "\n",
    "# Check if all the characters in the text are ascii characters:\n",
    "\n",
    "txt = \"Company123\"\n",
    "\n",
    "x = txt.isascii()\n",
    "\n",
    "print(x)\n"
   ]
  },
  {
   "cell_type": "markdown",
   "id": "a53c8511-0184-4697-8070-96c570949b05",
   "metadata": {},
   "source": [
    "<br>\n",
    "\n",
    "<br>\n",
    "\n",
    "\n",
    "<span style=\"color: #F7D205\">⁃⁃⁃⁃⁃⁃⁃⁃⁃⁃⁃⁃⁃⁃⁃⁃⁃⁃⁃⁃⁃⁃⁃⁃⁃⁃⁃⁃⁃⁃⁃⁃⁃⁃⁃⁃⁃⁃⁃⁃⁃⁃⁃⁃⁃⁃⁃⁃⁃⁃⁃⁃⁃⁃⁃⁃⁃⁃⁃⁃⁃⁃⁃⁃⁃⁃⁃⁃⁃⁃⁃⁃⁃⁃⁃⁃⁃⁃⁃⁃⁃⁃⁃⁃⁃⁃⁃⁃⁃⁃⁃⁃⁃⁃⁃⁃⁃⁃⁃⁃⁃⁃⁃⁃⁃⁃⁃⁃⁃⁃⁃⁃⁃⁃⁃⁃⁃⁃⁃⁃⁃⁃⁃⁃⁃⁃⁃⁃⁃⁃⁃⁃⁃⁃⁃⁃⁃⁃⁃⁃⁃⁃⁃⁃⁃⁃⁃⁃⁃⁃⁃⁃⁃⁃⁃⁃⁃⁃⁃⁃⁃⁃⁃⁃⁃⁃⁃⁃⁃⁃⁃⁃⁃⁃⁃⁃⁃⁃⁃⁃⁃⁃⁃⁃⁃⁃⁃⁃</span>\n",
    "\n",
    "<br>\n",
    "\n",
    "<font size=\"+1\"><span style=\"background-color:yellow;color:red\"><strong>&nbsp;string.isdecimal(&nbsp;)&nbsp;</strong></span></font>\n",
    "\n",
    "<span style=\"color:blue\">Returns **True** if **all characters** in the string are decimals (**0-9**); otherwise, False</span>\n",
    "\n",
    "This method can also be used on unicode objects.\n"
   ]
  },
  {
   "cell_type": "code",
   "execution_count": 150,
   "id": "6a457011-4c10-49c7-baeb-c5c9c352c930",
   "metadata": {},
   "outputs": [
    {
     "name": "stdout",
     "output_type": "stream",
     "text": [
      "True\n"
     ]
    }
   ],
   "source": [
    "\n",
    "# Check if all the characters in a string are decimals (0-9):\n",
    "\n",
    "txt = \"1234\"\n",
    "\n",
    "x = txt.isdecimal()\n",
    "\n",
    "print(x)\n"
   ]
  },
  {
   "cell_type": "code",
   "execution_count": 151,
   "id": "e7b5d345-e43f-4e89-8f12-788c23e66ecd",
   "metadata": {},
   "outputs": [
    {
     "name": "stdout",
     "output_type": "stream",
     "text": [
      "True\n",
      "False\n"
     ]
    }
   ],
   "source": [
    "\n",
    "# Check if all the characters in the unicode are decimals:\n",
    "\n",
    "a = \"\\u0030\" #unicode for 0\n",
    "b = \"\\u0047\" #unicode for G\n",
    "\n",
    "print(a.isdecimal())\n",
    "print(b.isdecimal())\n"
   ]
  },
  {
   "cell_type": "markdown",
   "id": "34d161c0-ba8e-43ef-ab32-6f8ea18073f8",
   "metadata": {},
   "source": [
    "<br>\n",
    "\n",
    "<br>\n",
    "\n",
    "\n",
    "<span style=\"color: #F7D205\">⁃⁃⁃⁃⁃⁃⁃⁃⁃⁃⁃⁃⁃⁃⁃⁃⁃⁃⁃⁃⁃⁃⁃⁃⁃⁃⁃⁃⁃⁃⁃⁃⁃⁃⁃⁃⁃⁃⁃⁃⁃⁃⁃⁃⁃⁃⁃⁃⁃⁃⁃⁃⁃⁃⁃⁃⁃⁃⁃⁃⁃⁃⁃⁃⁃⁃⁃⁃⁃⁃⁃⁃⁃⁃⁃⁃⁃⁃⁃⁃⁃⁃⁃⁃⁃⁃⁃⁃⁃⁃⁃⁃⁃⁃⁃⁃⁃⁃⁃⁃⁃⁃⁃⁃⁃⁃⁃⁃⁃⁃⁃⁃⁃⁃⁃⁃⁃⁃⁃⁃⁃⁃⁃⁃⁃⁃⁃⁃⁃⁃⁃⁃⁃⁃⁃⁃⁃⁃⁃⁃⁃⁃⁃⁃⁃⁃⁃⁃⁃⁃⁃⁃⁃⁃⁃⁃⁃⁃⁃⁃⁃⁃⁃⁃⁃⁃⁃⁃⁃⁃⁃⁃⁃⁃⁃⁃⁃⁃⁃⁃⁃⁃⁃⁃⁃⁃⁃⁃</span>\n",
    "\n",
    "<br>\n",
    "\n",
    "<font size=\"+1\"><span style=\"background-color:yellow;color:red\"><strong>&nbsp;string.isdigit(&nbsp;)&nbsp;</strong></span></font>\n",
    "\n",
    "<span style=\"color:blue\">Returns **True** if **all characters** in the string are **digits**, otherwise False.</span>\n",
    "\n",
    "**Exponents**, like <span style=\"background-color: #CAFEFD\">&nbsp;²&nbsp;</span>, are also considered to be a digit."
   ]
  },
  {
   "cell_type": "code",
   "execution_count": 152,
   "id": "ea5119d5-2fa4-4b61-a719-7d0fd2cc79bb",
   "metadata": {},
   "outputs": [
    {
     "name": "stdout",
     "output_type": "stream",
     "text": [
      "True\n"
     ]
    }
   ],
   "source": [
    "\n",
    "# Check if all the characters in the text are digits:\n",
    "\n",
    "txt = \"50800\"\n",
    "\n",
    "x = txt.isdigit()\n",
    "\n",
    "print(x)\n"
   ]
  },
  {
   "cell_type": "code",
   "execution_count": 153,
   "id": "9ec266b6-d90c-40f6-99bd-038f71b70402",
   "metadata": {},
   "outputs": [
    {
     "name": "stdout",
     "output_type": "stream",
     "text": [
      "True\n",
      "True\n"
     ]
    }
   ],
   "source": [
    "\n",
    "# Check if all the characters in the text are digits:\n",
    "\n",
    "a = \"\\u0030\" #unicode for 0\n",
    "b = \"\\u00B2\" #unicode for ²\n",
    "\n",
    "print(a.isdigit())\n",
    "print(b.isdigit())\n"
   ]
  },
  {
   "cell_type": "markdown",
   "id": "f86d3609-bcf7-4992-8c2f-067b99b1baf8",
   "metadata": {},
   "source": [
    "<br>\n",
    "\n",
    "<br>\n",
    "\n",
    "\n",
    "<span style=\"color: #F7D205\">⁃⁃⁃⁃⁃⁃⁃⁃⁃⁃⁃⁃⁃⁃⁃⁃⁃⁃⁃⁃⁃⁃⁃⁃⁃⁃⁃⁃⁃⁃⁃⁃⁃⁃⁃⁃⁃⁃⁃⁃⁃⁃⁃⁃⁃⁃⁃⁃⁃⁃⁃⁃⁃⁃⁃⁃⁃⁃⁃⁃⁃⁃⁃⁃⁃⁃⁃⁃⁃⁃⁃⁃⁃⁃⁃⁃⁃⁃⁃⁃⁃⁃⁃⁃⁃⁃⁃⁃⁃⁃⁃⁃⁃⁃⁃⁃⁃⁃⁃⁃⁃⁃⁃⁃⁃⁃⁃⁃⁃⁃⁃⁃⁃⁃⁃⁃⁃⁃⁃⁃⁃⁃⁃⁃⁃⁃⁃⁃⁃⁃⁃⁃⁃⁃⁃⁃⁃⁃⁃⁃⁃⁃⁃⁃⁃⁃⁃⁃⁃⁃⁃⁃⁃⁃⁃⁃⁃⁃⁃⁃⁃⁃⁃⁃⁃⁃⁃⁃⁃⁃⁃⁃⁃⁃⁃⁃⁃⁃⁃⁃⁃⁃⁃⁃⁃⁃⁃⁃</span>\n",
    "\n",
    "<br>\n",
    "\n",
    "<font size=\"+1\"><span style=\"background-color:yellow;color:red\"><strong>&nbsp;string.isidentifier(&nbsp;)&nbsp;</strong></span></font>\n",
    "\n",
    "<span style=\"color:blue\">Returns **True** if the string is a **valid identifier**; otherwise, False</span>\n",
    "\n",
    "A string is considered a valid identifier if it only contains **alphanumeric** letters ( <span style=\"background-color: #FBF3FF; color: red\">**a - z**</span> ) and ( <span style=\"background-color: #FBF3FF; color: red\">**0 - 9**</span> ), or **underscores** ( <span style=\"background-color: #FBF3FF; color: red\"><font size=\"+2\">**_**</font></span> ). A valid identifier cannot start with a number, or contain any spaces.\n"
   ]
  },
  {
   "cell_type": "code",
   "execution_count": 154,
   "id": "afcdee3a-a820-4cef-97a3-4fdc7430304d",
   "metadata": {},
   "outputs": [
    {
     "name": "stdout",
     "output_type": "stream",
     "text": [
      "True\n",
      "True\n",
      "False\n",
      "False\n"
     ]
    }
   ],
   "source": [
    "\n",
    "# Check if the strings are valid identifiers:\n",
    "\n",
    "a = \"MyFolder\"\n",
    "b = \"Demo002\"\n",
    "c = \"2bring\"\n",
    "d = \"my demo\"\n",
    "\n",
    "print(a.isidentifier())\n",
    "print(b.isidentifier())\n",
    "print(c.isidentifier())\n",
    "print(d.isidentifier())\n"
   ]
  },
  {
   "cell_type": "markdown",
   "id": "e77672a2-b1c9-44d3-8ebe-1c462647135e",
   "metadata": {},
   "source": [
    "<br>\n",
    "\n",
    "<br>\n",
    "\n",
    "\n",
    "<span style=\"color: #F7D205\">⁃⁃⁃⁃⁃⁃⁃⁃⁃⁃⁃⁃⁃⁃⁃⁃⁃⁃⁃⁃⁃⁃⁃⁃⁃⁃⁃⁃⁃⁃⁃⁃⁃⁃⁃⁃⁃⁃⁃⁃⁃⁃⁃⁃⁃⁃⁃⁃⁃⁃⁃⁃⁃⁃⁃⁃⁃⁃⁃⁃⁃⁃⁃⁃⁃⁃⁃⁃⁃⁃⁃⁃⁃⁃⁃⁃⁃⁃⁃⁃⁃⁃⁃⁃⁃⁃⁃⁃⁃⁃⁃⁃⁃⁃⁃⁃⁃⁃⁃⁃⁃⁃⁃⁃⁃⁃⁃⁃⁃⁃⁃⁃⁃⁃⁃⁃⁃⁃⁃⁃⁃⁃⁃⁃⁃⁃⁃⁃⁃⁃⁃⁃⁃⁃⁃⁃⁃⁃⁃⁃⁃⁃⁃⁃⁃⁃⁃⁃⁃⁃⁃⁃⁃⁃⁃⁃⁃⁃⁃⁃⁃⁃⁃⁃⁃⁃⁃⁃⁃⁃⁃⁃⁃⁃⁃⁃⁃⁃⁃⁃⁃⁃⁃⁃⁃⁃⁃⁃</span>\n",
    "\n",
    "<br>\n",
    "\n",
    "<font size=\"+1\"><span style=\"background-color:yellow;color:red\"><strong>&nbsp;string.islower(&nbsp;)&nbsp;</strong></span></font>\n",
    "\n",
    "<span style=\"color:blue\">Returns **True** if **all characters** in the string are **lower** case; otherwise, False</span>\n",
    "\n",
    "Numbers, symbols and spaces are not checked, only alphabet characters.\n"
   ]
  },
  {
   "cell_type": "code",
   "execution_count": 155,
   "id": "1de4d00f-14dc-45cc-a513-96a17023ed13",
   "metadata": {},
   "outputs": [
    {
     "name": "stdout",
     "output_type": "stream",
     "text": [
      "False\n",
      "True\n",
      "False\n"
     ]
    }
   ],
   "source": [
    "\n",
    "# Check if all the characters in the texts are in lower case:\n",
    "\n",
    "a = \"Hello world!\"\n",
    "b = \"hello 123\"\n",
    "c = \"mynameisPeter\"\n",
    "\n",
    "print(a.islower())\n",
    "print(b.islower())\n",
    "print(c.islower())\n"
   ]
  },
  {
   "cell_type": "markdown",
   "id": "414844f2-e70b-4f00-bec5-10f6c1f83d58",
   "metadata": {},
   "source": [
    "<br>\n",
    "\n",
    "<br>\n",
    "\n",
    "\n",
    "<span style=\"color: #F7D205\">⁃⁃⁃⁃⁃⁃⁃⁃⁃⁃⁃⁃⁃⁃⁃⁃⁃⁃⁃⁃⁃⁃⁃⁃⁃⁃⁃⁃⁃⁃⁃⁃⁃⁃⁃⁃⁃⁃⁃⁃⁃⁃⁃⁃⁃⁃⁃⁃⁃⁃⁃⁃⁃⁃⁃⁃⁃⁃⁃⁃⁃⁃⁃⁃⁃⁃⁃⁃⁃⁃⁃⁃⁃⁃⁃⁃⁃⁃⁃⁃⁃⁃⁃⁃⁃⁃⁃⁃⁃⁃⁃⁃⁃⁃⁃⁃⁃⁃⁃⁃⁃⁃⁃⁃⁃⁃⁃⁃⁃⁃⁃⁃⁃⁃⁃⁃⁃⁃⁃⁃⁃⁃⁃⁃⁃⁃⁃⁃⁃⁃⁃⁃⁃⁃⁃⁃⁃⁃⁃⁃⁃⁃⁃⁃⁃⁃⁃⁃⁃⁃⁃⁃⁃⁃⁃⁃⁃⁃⁃⁃⁃⁃⁃⁃⁃⁃⁃⁃⁃⁃⁃⁃⁃⁃⁃⁃⁃⁃⁃⁃⁃⁃⁃⁃⁃⁃⁃⁃</span>\n",
    "\n",
    "<br>\n",
    "\n",
    "<font size=\"+1\"><span style=\"background-color:yellow;color:red\"><strong>&nbsp;string.isnumeric(&nbsp;)&nbsp;</strong></span></font>\n",
    "\n",
    "<span style=\"color:blue\">Returns **True** if **all characters** in the string are **numeric** ( <span style=\"background-color: #FBF3FF; color: red\">**0 - 9**</span> ); otherwise, False</span>\n",
    "\n",
    "Exponents, like <span style=\"background-color: #CAFEFD\">&nbsp;²&nbsp;</span> and <span style=\"background-color: #CAFEFD\">&nbsp;¾&nbsp;</span> are also considered to be numeric values.\n",
    "\n",
    "<span style=\"background-color: #FBF3FF; color: red\">**\"-1\"**</span> and <span style=\"background-color: #FBF3FF; color: red\">**\"1.5\"**</span> are **NOT** considered numeric values, because all the characters in the string must be numeric, and the <span style=\"background-color: #FBF3FF; color: red\">&nbsp;**-**&nbsp;</span> and the <span style=\"background-color: #FBF3FF; color: red\">&nbsp;**.**&nbsp;</span> are not.\n"
   ]
  },
  {
   "cell_type": "code",
   "execution_count": 156,
   "id": "d5e56f58-78c8-43c7-9de9-eea3124193c6",
   "metadata": {},
   "outputs": [
    {
     "name": "stdout",
     "output_type": "stream",
     "text": [
      "True\n"
     ]
    }
   ],
   "source": [
    "\n",
    "# Check if all the characters in the text are numeric:\n",
    "\n",
    "txt = \"565543\"\n",
    "\n",
    "x = txt.isnumeric()\n",
    "\n",
    "print(x)\n"
   ]
  },
  {
   "cell_type": "code",
   "execution_count": 157,
   "id": "4e79b73b-bff7-40d5-b5ba-7c68e14c84f5",
   "metadata": {},
   "outputs": [
    {
     "name": "stdout",
     "output_type": "stream",
     "text": [
      "True\n",
      "True\n",
      "False\n",
      "False\n",
      "False\n"
     ]
    }
   ],
   "source": [
    "\n",
    "# Check if the characters are numeric:\n",
    "\n",
    "a = \"\\u0030\" #unicode for 0\n",
    "b = \"\\u00B2\" #unicode for &sup2;\n",
    "c = \"10km2\"\n",
    "d = \"-1\"\n",
    "e = \"1.5\"\n",
    "\n",
    "print(a.isnumeric())\n",
    "print(b.isnumeric())\n",
    "print(c.isnumeric())\n",
    "print(d.isnumeric())\n",
    "print(e.isnumeric())\n"
   ]
  },
  {
   "cell_type": "markdown",
   "id": "63027f6a-0b89-4753-b534-98454584fec4",
   "metadata": {},
   "source": [
    "<br>\n",
    "\n",
    "<br>\n",
    "\n",
    "\n",
    "<span style=\"color: #F7D205\">⁃⁃⁃⁃⁃⁃⁃⁃⁃⁃⁃⁃⁃⁃⁃⁃⁃⁃⁃⁃⁃⁃⁃⁃⁃⁃⁃⁃⁃⁃⁃⁃⁃⁃⁃⁃⁃⁃⁃⁃⁃⁃⁃⁃⁃⁃⁃⁃⁃⁃⁃⁃⁃⁃⁃⁃⁃⁃⁃⁃⁃⁃⁃⁃⁃⁃⁃⁃⁃⁃⁃⁃⁃⁃⁃⁃⁃⁃⁃⁃⁃⁃⁃⁃⁃⁃⁃⁃⁃⁃⁃⁃⁃⁃⁃⁃⁃⁃⁃⁃⁃⁃⁃⁃⁃⁃⁃⁃⁃⁃⁃⁃⁃⁃⁃⁃⁃⁃⁃⁃⁃⁃⁃⁃⁃⁃⁃⁃⁃⁃⁃⁃⁃⁃⁃⁃⁃⁃⁃⁃⁃⁃⁃⁃⁃⁃⁃⁃⁃⁃⁃⁃⁃⁃⁃⁃⁃⁃⁃⁃⁃⁃⁃⁃⁃⁃⁃⁃⁃⁃⁃⁃⁃⁃⁃⁃⁃⁃⁃⁃⁃⁃⁃⁃⁃⁃⁃⁃</span>\n",
    "\n",
    "<br>\n",
    "\n",
    "<font size=\"+1\"><span style=\"background-color:yellow;color:red\"><strong>&nbsp;string.isprintable(&nbsp;)&nbsp;</strong></span></font>\n",
    "\n",
    "<span style=\"color:blue\">Returns **True** if **all characters** in the string are **printable**; otherwise False</span>\n",
    "\n",
    "Example of none printable character can be **carriage return** and **line feed**."
   ]
  },
  {
   "cell_type": "code",
   "execution_count": 158,
   "id": "c84e0580-6b70-46eb-b637-a4ae4a5b0bb6",
   "metadata": {},
   "outputs": [
    {
     "name": "stdout",
     "output_type": "stream",
     "text": [
      "True\n"
     ]
    }
   ],
   "source": [
    "\n",
    "# Check if all the characters in the text are printable:\n",
    "\n",
    "txt = \"Hello! Are you #1?\"\n",
    "\n",
    "x = txt.isprintable()\n",
    "\n",
    "print(x)\n"
   ]
  },
  {
   "cell_type": "code",
   "execution_count": 159,
   "id": "0138f045-017d-4630-a0c2-3448b17248a2",
   "metadata": {},
   "outputs": [
    {
     "name": "stdout",
     "output_type": "stream",
     "text": [
      "False\n"
     ]
    }
   ],
   "source": [
    "\n",
    "# Check if all the characters in the text are printable:\n",
    "\n",
    "txt = \"Hello!\\nAre you #1?\"\n",
    "\n",
    "x = txt.isprintable()\n",
    "\n",
    "print(x)\n"
   ]
  },
  {
   "cell_type": "markdown",
   "id": "161cec4a-acdc-45e9-8fbd-678b7116401b",
   "metadata": {},
   "source": [
    "<br>\n",
    "\n",
    "<br>\n",
    "\n",
    "\n",
    "<span style=\"color: #F7D205\">⁃⁃⁃⁃⁃⁃⁃⁃⁃⁃⁃⁃⁃⁃⁃⁃⁃⁃⁃⁃⁃⁃⁃⁃⁃⁃⁃⁃⁃⁃⁃⁃⁃⁃⁃⁃⁃⁃⁃⁃⁃⁃⁃⁃⁃⁃⁃⁃⁃⁃⁃⁃⁃⁃⁃⁃⁃⁃⁃⁃⁃⁃⁃⁃⁃⁃⁃⁃⁃⁃⁃⁃⁃⁃⁃⁃⁃⁃⁃⁃⁃⁃⁃⁃⁃⁃⁃⁃⁃⁃⁃⁃⁃⁃⁃⁃⁃⁃⁃⁃⁃⁃⁃⁃⁃⁃⁃⁃⁃⁃⁃⁃⁃⁃⁃⁃⁃⁃⁃⁃⁃⁃⁃⁃⁃⁃⁃⁃⁃⁃⁃⁃⁃⁃⁃⁃⁃⁃⁃⁃⁃⁃⁃⁃⁃⁃⁃⁃⁃⁃⁃⁃⁃⁃⁃⁃⁃⁃⁃⁃⁃⁃⁃⁃⁃⁃⁃⁃⁃⁃⁃⁃⁃⁃⁃⁃⁃⁃⁃⁃⁃⁃⁃⁃⁃⁃⁃⁃</span>\n",
    "\n",
    "<br>\n",
    "\n",
    "<font size=\"+1\"><span style=\"background-color:yellow;color:red\"><strong>&nbsp;string.isspace(&nbsp;)&nbsp;</strong></span></font>\n",
    "\n",
    "<span style=\"color:blue\">Returns **True** if **all characters** in the string are **whitespaces**; otherwise False;</span>"
   ]
  },
  {
   "cell_type": "code",
   "execution_count": 160,
   "id": "b2690d39-d40d-4e4f-9e13-11b84a97559b",
   "metadata": {},
   "outputs": [
    {
     "name": "stdout",
     "output_type": "stream",
     "text": [
      "True\n"
     ]
    }
   ],
   "source": [
    "\n",
    "# Check if all the characters in the text are whitespaces:\n",
    "\n",
    "txt = \"   \"\n",
    "\n",
    "x = txt.isspace()\n",
    "\n",
    "print(x)\n"
   ]
  },
  {
   "cell_type": "code",
   "execution_count": 161,
   "id": "7da28f82-d9d5-46cd-af94-c5cc9d7b2f91",
   "metadata": {},
   "outputs": [
    {
     "name": "stdout",
     "output_type": "stream",
     "text": [
      "False\n"
     ]
    }
   ],
   "source": [
    "\n",
    "# Check if all the characters in the text are whitespaces:\n",
    "\n",
    "txt = \"   s   \"\n",
    "\n",
    "x = txt.isspace()\n",
    "\n",
    "print(x)\n"
   ]
  },
  {
   "cell_type": "markdown",
   "id": "5e8173e0-ed76-4193-ba2f-456868fbb531",
   "metadata": {},
   "source": [
    "<br>\n",
    "\n",
    "<br>\n",
    "\n",
    "\n",
    "<span style=\"color: #F7D205\">⁃⁃⁃⁃⁃⁃⁃⁃⁃⁃⁃⁃⁃⁃⁃⁃⁃⁃⁃⁃⁃⁃⁃⁃⁃⁃⁃⁃⁃⁃⁃⁃⁃⁃⁃⁃⁃⁃⁃⁃⁃⁃⁃⁃⁃⁃⁃⁃⁃⁃⁃⁃⁃⁃⁃⁃⁃⁃⁃⁃⁃⁃⁃⁃⁃⁃⁃⁃⁃⁃⁃⁃⁃⁃⁃⁃⁃⁃⁃⁃⁃⁃⁃⁃⁃⁃⁃⁃⁃⁃⁃⁃⁃⁃⁃⁃⁃⁃⁃⁃⁃⁃⁃⁃⁃⁃⁃⁃⁃⁃⁃⁃⁃⁃⁃⁃⁃⁃⁃⁃⁃⁃⁃⁃⁃⁃⁃⁃⁃⁃⁃⁃⁃⁃⁃⁃⁃⁃⁃⁃⁃⁃⁃⁃⁃⁃⁃⁃⁃⁃⁃⁃⁃⁃⁃⁃⁃⁃⁃⁃⁃⁃⁃⁃⁃⁃⁃⁃⁃⁃⁃⁃⁃⁃⁃⁃⁃⁃⁃⁃⁃⁃⁃⁃⁃⁃⁃⁃</span>\n",
    "\n",
    "<br>\n",
    "\n",
    "<font size=\"+1\"><span style=\"background-color:yellow;color:red\"><strong>&nbsp;istitle(&nbsp;)&nbsp;</strong></span></font>\n",
    "\n",
    "<span style=\"color:blue\">Returns **True** if the string is in **title case**; otherwise False</span>\n",
    "\n",
    "<span style=\"color:blue\">returns True if all words in a text start with a **upper case** letter, AND the rest of the word are **lower case** letters, otherwise False.</span>\n",
    "\n",
    "Symbols and numbers are ignored.\n",
    "\n"
   ]
  },
  {
   "cell_type": "code",
   "execution_count": 162,
   "id": "512aeced-969e-4042-b022-53530f653049",
   "metadata": {},
   "outputs": [
    {
     "name": "stdout",
     "output_type": "stream",
     "text": [
      "a1 ===> False\n",
      "a2 ===> True\n",
      "b ====> True\n",
      "c ====> True\n",
      "d ====> True\n"
     ]
    }
   ],
   "source": [
    "\n",
    "# Check if each word start with an upper case letter and remaining characters of each word in lower case:\n",
    "\n",
    "a1 = \"HELLO, AND WELCOME TO MY WORLD\"\n",
    "a2 = \"Hello, And Welcome To My World!\"\n",
    "b = \"Hello\"\n",
    "c = \"22 Names\"\n",
    "d = \"This Is %'!?\"\n",
    "\n",
    "print(\"a1 ===>\", a1.istitle())\n",
    "print(\"a2 ===>\", a2.istitle())\n",
    "print(\"b ====>\", b.istitle())\n",
    "print(\"c ====>\", c.istitle())\n",
    "print(\"d ====>\", d.istitle())\n"
   ]
  },
  {
   "cell_type": "markdown",
   "id": "6cb9d934-5497-43cf-9cc5-a8a5d18c91bb",
   "metadata": {},
   "source": [
    "<br>\n",
    "\n",
    "<br>\n",
    "\n",
    "\n",
    "<span style=\"color: #F7D205\">⁃⁃⁃⁃⁃⁃⁃⁃⁃⁃⁃⁃⁃⁃⁃⁃⁃⁃⁃⁃⁃⁃⁃⁃⁃⁃⁃⁃⁃⁃⁃⁃⁃⁃⁃⁃⁃⁃⁃⁃⁃⁃⁃⁃⁃⁃⁃⁃⁃⁃⁃⁃⁃⁃⁃⁃⁃⁃⁃⁃⁃⁃⁃⁃⁃⁃⁃⁃⁃⁃⁃⁃⁃⁃⁃⁃⁃⁃⁃⁃⁃⁃⁃⁃⁃⁃⁃⁃⁃⁃⁃⁃⁃⁃⁃⁃⁃⁃⁃⁃⁃⁃⁃⁃⁃⁃⁃⁃⁃⁃⁃⁃⁃⁃⁃⁃⁃⁃⁃⁃⁃⁃⁃⁃⁃⁃⁃⁃⁃⁃⁃⁃⁃⁃⁃⁃⁃⁃⁃⁃⁃⁃⁃⁃⁃⁃⁃⁃⁃⁃⁃⁃⁃⁃⁃⁃⁃⁃⁃⁃⁃⁃⁃⁃⁃⁃⁃⁃⁃⁃⁃⁃⁃⁃⁃⁃⁃⁃⁃⁃⁃⁃⁃⁃⁃⁃⁃⁃</span>\n",
    "\n",
    "<br>\n",
    "\n",
    "<font size=\"+1\"><span style=\"background-color:yellow;color:red\"><strong>&nbsp;string.isupper(&nbsp;)&nbsp;</strong></span></font>\n",
    "\n",
    "<span style=\"color:blue\">Returns **True** if **all characters** in the string are **upper** case; otherwise, False</span>\n",
    "\n",
    "Numbers, symbols and spaces are not checked, only alphabet characters.\n"
   ]
  },
  {
   "cell_type": "code",
   "execution_count": 163,
   "id": "4fd7f51d-8fce-45db-8143-6eca64db80d0",
   "metadata": {},
   "outputs": [
    {
     "name": "stdout",
     "output_type": "stream",
     "text": [
      "True\n",
      "False\n",
      "False\n"
     ]
    }
   ],
   "source": [
    "\n",
    "# Check if all the characters in the text are in upper case:\n",
    "\n",
    "a = \"THIS IS NOW!\"\n",
    "b = \"Hello World!\"\n",
    "c = \"hello 123\"\n",
    "\n",
    "print(a.isupper())\n",
    "print(b.isupper())\n",
    "print(c.isupper())\n"
   ]
  },
  {
   "cell_type": "markdown",
   "id": "466058c9-c7dd-4533-a7ed-2806319d3548",
   "metadata": {},
   "source": [
    "<br>\n",
    "\n",
    "<br>\n",
    "\n",
    "\n",
    "<span style=\"color: #F7D205\">⁃⁃⁃⁃⁃⁃⁃⁃⁃⁃⁃⁃⁃⁃⁃⁃⁃⁃⁃⁃⁃⁃⁃⁃⁃⁃⁃⁃⁃⁃⁃⁃⁃⁃⁃⁃⁃⁃⁃⁃⁃⁃⁃⁃⁃⁃⁃⁃⁃⁃⁃⁃⁃⁃⁃⁃⁃⁃⁃⁃⁃⁃⁃⁃⁃⁃⁃⁃⁃⁃⁃⁃⁃⁃⁃⁃⁃⁃⁃⁃⁃⁃⁃⁃⁃⁃⁃⁃⁃⁃⁃⁃⁃⁃⁃⁃⁃⁃⁃⁃⁃⁃⁃⁃⁃⁃⁃⁃⁃⁃⁃⁃⁃⁃⁃⁃⁃⁃⁃⁃⁃⁃⁃⁃⁃⁃⁃⁃⁃⁃⁃⁃⁃⁃⁃⁃⁃⁃⁃⁃⁃⁃⁃⁃⁃⁃⁃⁃⁃⁃⁃⁃⁃⁃⁃⁃⁃⁃⁃⁃⁃⁃⁃⁃⁃⁃⁃⁃⁃⁃⁃⁃⁃⁃⁃⁃⁃⁃⁃⁃⁃⁃⁃⁃⁃⁃⁃⁃</span>\n",
    "\n",
    "<br>\n",
    "\n",
    "<font size=\"+1\"><span style=\"background-color: yellow;color:red\"><strong>&nbsp;string.join(&nbsp;</strong></span>&nbsp;**iterable**&nbsp;<span style=\"background-color: yellow;color:red\"><strong>&nbsp;)&nbsp;</strong></span></font>\n",
    "\n",
    "<span style=\"color:blue\">Joins all the elements of an iterable to the **end of the string** <br> Or in simple words, it **concatenates** the strings in the iterable using the string as a **separator**. It takes all items in an iterable and joins them into one string.</span>\n",
    "\n",
    "A string must be specified as the separator.\n",
    "\n",
    "**separator.join(iterable)** ===> Any iterable object where all the returned values are strings"
   ]
  },
  {
   "cell_type": "code",
   "execution_count": 164,
   "id": "079308b3-d09f-4daa-bce8-864b012a8577",
   "metadata": {},
   "outputs": [
    {
     "name": "stdout",
     "output_type": "stream",
     "text": [
      "Avinash_Kumar_Mishra\n"
     ]
    }
   ],
   "source": [
    "\n",
    "# Join all items in a tuple into a string, using an underscore character as separator:\n",
    "\n",
    "myTuple = (\"Avinash\", \"Kumar\", \"Mishra\")\n",
    "\n",
    "x = \"_\".join(myTuple)\n",
    "\n",
    "print(x)\n"
   ]
  },
  {
   "cell_type": "code",
   "execution_count": 165,
   "id": "d11b3a6b-2525-450d-84ce-f937eac7ff60",
   "metadata": {},
   "outputs": [
    {
     "name": "stdout",
     "output_type": "stream",
     "text": [
      "A_v_i_n_a_s_h\n",
      "A_v_i_n_a_s_h\n"
     ]
    }
   ],
   "source": [
    "\n",
    "# Join all items in a tuple (iterable) into a string, using an underscore character as separator:\n",
    "my_string1 = (\"Avinash\")\n",
    "\n",
    "# Join all characters of a string (iterable) into a string, using an underscore character as separator:\n",
    "my_string2 = \"Avinash\"\n",
    "\n",
    "x = \"_\".join(my_string1)\n",
    "y = \"_\".join(my_string2)\n",
    "\n",
    "print(x)\n",
    "print(y)\n"
   ]
  },
  {
   "cell_type": "code",
   "execution_count": 166,
   "id": "1b9acb0f-817e-4dd0-bd62-b887cdaa9037",
   "metadata": {},
   "outputs": [
    {
     "name": "stdout",
     "output_type": "stream",
     "text": [
      "123_456\n"
     ]
    }
   ],
   "source": [
    "\n",
    "roll_nos_str_tuple = (\"123\", \"456\")\n",
    "x = \"_\".join(roll_nos_str_tuple)\n",
    "print(x)\n"
   ]
  },
  {
   "cell_type": "code",
   "execution_count": 167,
   "id": "12887f63-728d-4daa-9cac-6f96c507bbdc",
   "metadata": {},
   "outputs": [
    {
     "ename": "NameError",
     "evalue": "name 'roll_no' is not defined",
     "output_type": "error",
     "traceback": [
      "\u001b[1;31m---------------------------------------------------------------------------\u001b[0m",
      "\u001b[1;31mNameError\u001b[0m                                 Traceback (most recent call last)",
      "Cell \u001b[1;32mIn[167], line 2\u001b[0m\n\u001b[0;32m      1\u001b[0m roll_no_int \u001b[38;5;241m=\u001b[39m \u001b[38;5;241m123\u001b[39m\n\u001b[1;32m----> 2\u001b[0m x \u001b[38;5;241m=\u001b[39m \u001b[38;5;124m\"\u001b[39m\u001b[38;5;124m_\u001b[39m\u001b[38;5;124m\"\u001b[39m\u001b[38;5;241m.\u001b[39mjoin(\u001b[43mroll_no\u001b[49m)\n\u001b[0;32m      3\u001b[0m \u001b[38;5;28mprint\u001b[39m(x)\n",
      "\u001b[1;31mNameError\u001b[0m: name 'roll_no' is not defined"
     ]
    }
   ],
   "source": [
    "\n",
    "roll_no_int = 123\n",
    "x = \"_\".join(roll_no)\n",
    "print(x)\n"
   ]
  },
  {
   "cell_type": "code",
   "execution_count": 168,
   "id": "27ad3649-9f7d-47ed-9b9e-c0de8613499f",
   "metadata": {},
   "outputs": [
    {
     "ename": "TypeError",
     "evalue": "sequence item 0: expected str instance, int found",
     "output_type": "error",
     "traceback": [
      "\u001b[1;31m---------------------------------------------------------------------------\u001b[0m",
      "\u001b[1;31mTypeError\u001b[0m                                 Traceback (most recent call last)",
      "Cell \u001b[1;32mIn[168], line 2\u001b[0m\n\u001b[0;32m      1\u001b[0m roll_nos_str_tuple \u001b[38;5;241m=\u001b[39m (\u001b[38;5;241m123\u001b[39m, \u001b[38;5;241m456\u001b[39m)\n\u001b[1;32m----> 2\u001b[0m y \u001b[38;5;241m=\u001b[39m \u001b[38;5;124;43m\"\u001b[39;49m\u001b[38;5;124;43m_\u001b[39;49m\u001b[38;5;124;43m\"\u001b[39;49m\u001b[38;5;241;43m.\u001b[39;49m\u001b[43mjoin\u001b[49m\u001b[43m(\u001b[49m\u001b[43mroll_nos_str_tuple\u001b[49m\u001b[43m)\u001b[49m\n\u001b[0;32m      3\u001b[0m \u001b[38;5;28mprint\u001b[39m(y)\n",
      "\u001b[1;31mTypeError\u001b[0m: sequence item 0: expected str instance, int found"
     ]
    }
   ],
   "source": [
    "\n",
    "roll_nos_str_tuple = (123, 456)\n",
    "y = \"_\".join(roll_nos_str_tuple)\n",
    "print(y)\n"
   ]
  },
  {
   "cell_type": "markdown",
   "id": "171b9535-9b4b-46f2-8910-31156e4be5d6",
   "metadata": {},
   "source": [
    "<br>\n",
    "\n",
    "<div style=\"border: 1px solid pink; padding: 10px; background-color: #ffffcc\">\n",
    "\n",
    "Rememeber these 2 methods in combo. They are extensively used for string manipulation\n",
    "\n",
    "**Join** ====> to join    <br>\n",
    "**Split** ===> to split\n",
    "\n",
    "</div>"
   ]
  },
  {
   "cell_type": "code",
   "execution_count": 169,
   "id": "923c4530-1cd5-417a-bcc6-d5c2deb8877e",
   "metadata": {},
   "outputs": [
    {
     "name": "stdout",
     "output_type": "stream",
     "text": [
      "Avinash Kumar Mishra\n",
      "['Avinash', 'Kumar', 'Mishra']\n"
     ]
    }
   ],
   "source": [
    "\n",
    "name_list = [\"Avinash\", \"Kumar\", \"Mishra\"]\n",
    "print(\" \".join(name_list))\n",
    "print(\" \".join(name_list).split(\" \"))\n"
   ]
  },
  {
   "cell_type": "markdown",
   "id": "47129ad9-bf4b-4a8d-a5dc-048ef3d1e5ce",
   "metadata": {},
   "source": [
    "<br>\n",
    "\n",
    "<div style=\"border: 1px solid pink; padding: 10px; background-color: #ffffcc\">\n",
    "\n",
    "Note: When using a dictionary as an iterable, the returned values are the **keys**, not the values.\n",
    "\n",
    "</div>"
   ]
  },
  {
   "cell_type": "code",
   "execution_count": 170,
   "id": "c1f32eb5-0879-41a0-9b2d-def5c665c3fe",
   "metadata": {},
   "outputs": [
    {
     "name": "stdout",
     "output_type": "stream",
     "text": [
      "nameTESTcountry\n"
     ]
    }
   ],
   "source": [
    "\n",
    "# Join all items in a dictionary into a string, using the word \"TEST\" as separator:\n",
    "\n",
    "myDict = {\"name\": \"Avinash\", \"country\": \"India\"}\n",
    "mySeparator = \"TEST\"\n",
    "\n",
    "x = mySeparator.join(myDict)\n",
    "\n",
    "print(x)\n"
   ]
  },
  {
   "cell_type": "markdown",
   "id": "fe68cb23-9ff9-49e0-ba48-e5036aa315f2",
   "metadata": {},
   "source": [
    "<br>\n",
    "\n",
    "<br>\n",
    "\n",
    "\n",
    "<span style=\"color: #F7D205\">⁃⁃⁃⁃⁃⁃⁃⁃⁃⁃⁃⁃⁃⁃⁃⁃⁃⁃⁃⁃⁃⁃⁃⁃⁃⁃⁃⁃⁃⁃⁃⁃⁃⁃⁃⁃⁃⁃⁃⁃⁃⁃⁃⁃⁃⁃⁃⁃⁃⁃⁃⁃⁃⁃⁃⁃⁃⁃⁃⁃⁃⁃⁃⁃⁃⁃⁃⁃⁃⁃⁃⁃⁃⁃⁃⁃⁃⁃⁃⁃⁃⁃⁃⁃⁃⁃⁃⁃⁃⁃⁃⁃⁃⁃⁃⁃⁃⁃⁃⁃⁃⁃⁃⁃⁃⁃⁃⁃⁃⁃⁃⁃⁃⁃⁃⁃⁃⁃⁃⁃⁃⁃⁃⁃⁃⁃⁃⁃⁃⁃⁃⁃⁃⁃⁃⁃⁃⁃⁃⁃⁃⁃⁃⁃⁃⁃⁃⁃⁃⁃⁃⁃⁃⁃⁃⁃⁃⁃⁃⁃⁃⁃⁃⁃⁃⁃⁃⁃⁃⁃⁃⁃⁃⁃⁃⁃⁃⁃⁃⁃⁃⁃⁃⁃⁃⁃⁃⁃</span>\n",
    "\n",
    "<br>\n",
    "\n",
    "<font size=\"+1\"><span style=\"background-color: yellow;color:red\"><strong>&nbsp;string.ljust(&nbsp;</strong></span>&nbsp;**length[, fillchar]**&nbsp;<span style=\"background-color: yellow;color:red\"><strong>&nbsp;)&nbsp;</strong></span></font>\n",
    "\n",
    "\n",
    "<span style=\"color:blue\">Returns a **left-justified string** of specified length, **padded with fillchar** on the **right side**</span> \n",
    "\n",
    "<span style=\"color:blue\">(whitespace <span style=\"background-color: yellow\">**\"&nbsp;&nbsp;\"**</span> by default)</span>\n"
   ]
  },
  {
   "cell_type": "code",
   "execution_count": 171,
   "id": "4a5ca6f9-8125-42e1-8390-f2bf6203a829",
   "metadata": {},
   "outputs": [
    {
     "name": "stdout",
     "output_type": "stream",
     "text": [
      "banana               is my favorite fruit.\n"
     ]
    }
   ],
   "source": [
    "\n",
    "# Return a 20 characters long, left justified version of the word \"banana\":\n",
    "\n",
    "txt = \"banana\"\n",
    "\n",
    "x = txt.ljust(20)\n",
    "\n",
    "print(x, \"is my favorite fruit.\")\n"
   ]
  },
  {
   "cell_type": "markdown",
   "id": "fb071deb-c749-45b9-a420-2259fbd97a29",
   "metadata": {},
   "source": [
    "<br>\n",
    "\n",
    "<div style=\"border: 1px solid pink; padding: 10px; background-color: #ffffcc\">\n",
    "\n",
    "Note: In the result, there are actually 14 whitespaces to the right of the word banana.\n",
    "\n",
    "</div>\n"
   ]
  },
  {
   "cell_type": "code",
   "execution_count": 172,
   "id": "2a17ac7f-aa65-416c-be1f-78d432a9934c",
   "metadata": {},
   "outputs": [
    {
     "name": "stdout",
     "output_type": "stream",
     "text": [
      "bananaOOOOOOOOOOOOOO\n"
     ]
    }
   ],
   "source": [
    "\n",
    "# Using the letter \"O\" as the padding character:\n",
    "\n",
    "txt = \"banana\"\n",
    "\n",
    "x = txt.ljust(20, \"O\")\n",
    "\n",
    "print(x)\n"
   ]
  },
  {
   "cell_type": "markdown",
   "id": "e910da78-7ea9-44f6-b426-0e2721f7c969",
   "metadata": {},
   "source": [
    "<br>\n",
    "\n",
    "<br>\n",
    "\n",
    "\n",
    "<span style=\"color: #F7D205\">⁃⁃⁃⁃⁃⁃⁃⁃⁃⁃⁃⁃⁃⁃⁃⁃⁃⁃⁃⁃⁃⁃⁃⁃⁃⁃⁃⁃⁃⁃⁃⁃⁃⁃⁃⁃⁃⁃⁃⁃⁃⁃⁃⁃⁃⁃⁃⁃⁃⁃⁃⁃⁃⁃⁃⁃⁃⁃⁃⁃⁃⁃⁃⁃⁃⁃⁃⁃⁃⁃⁃⁃⁃⁃⁃⁃⁃⁃⁃⁃⁃⁃⁃⁃⁃⁃⁃⁃⁃⁃⁃⁃⁃⁃⁃⁃⁃⁃⁃⁃⁃⁃⁃⁃⁃⁃⁃⁃⁃⁃⁃⁃⁃⁃⁃⁃⁃⁃⁃⁃⁃⁃⁃⁃⁃⁃⁃⁃⁃⁃⁃⁃⁃⁃⁃⁃⁃⁃⁃⁃⁃⁃⁃⁃⁃⁃⁃⁃⁃⁃⁃⁃⁃⁃⁃⁃⁃⁃⁃⁃⁃⁃⁃⁃⁃⁃⁃⁃⁃⁃⁃⁃⁃⁃⁃⁃⁃⁃⁃⁃⁃⁃⁃⁃⁃⁃⁃⁃</span>\n",
    "\n",
    "<br>\n",
    "\n",
    "<font size=\"+1\"><span style=\"background-color:yellow;color:red\"><strong>&nbsp;string.lower(&nbsp;)&nbsp;</strong></span></font>\n",
    "\n",
    "<span style=\"color:blue\">Returns a **copy** of the string converted to **lowercase**</span>\n",
    "\n",
    "<span style=\"color:blue\">Returns a string where all characters are lower case.</span>\n",
    "\n",
    "Symbols and Numbers are ignored.\n"
   ]
  },
  {
   "cell_type": "code",
   "execution_count": 173,
   "id": "d0d3d86e-3d1b-4f09-90a0-489166cc13de",
   "metadata": {},
   "outputs": [
    {
     "name": "stdout",
     "output_type": "stream",
     "text": [
      "hello my friends\n"
     ]
    }
   ],
   "source": [
    "\n",
    "# Lower case the string:\n",
    "\n",
    "txt = \"Hello my FRIENDS\"\n",
    "\n",
    "x = txt.lower()\n",
    "\n",
    "print(x)\n"
   ]
  },
  {
   "cell_type": "markdown",
   "id": "0a8b48c4-1f56-453e-a18a-9f6d7cf07a05",
   "metadata": {},
   "source": [
    "<br>\n",
    "\n",
    "<br>\n",
    "\n",
    "\n",
    "<span style=\"color: #F7D205\">⁃⁃⁃⁃⁃⁃⁃⁃⁃⁃⁃⁃⁃⁃⁃⁃⁃⁃⁃⁃⁃⁃⁃⁃⁃⁃⁃⁃⁃⁃⁃⁃⁃⁃⁃⁃⁃⁃⁃⁃⁃⁃⁃⁃⁃⁃⁃⁃⁃⁃⁃⁃⁃⁃⁃⁃⁃⁃⁃⁃⁃⁃⁃⁃⁃⁃⁃⁃⁃⁃⁃⁃⁃⁃⁃⁃⁃⁃⁃⁃⁃⁃⁃⁃⁃⁃⁃⁃⁃⁃⁃⁃⁃⁃⁃⁃⁃⁃⁃⁃⁃⁃⁃⁃⁃⁃⁃⁃⁃⁃⁃⁃⁃⁃⁃⁃⁃⁃⁃⁃⁃⁃⁃⁃⁃⁃⁃⁃⁃⁃⁃⁃⁃⁃⁃⁃⁃⁃⁃⁃⁃⁃⁃⁃⁃⁃⁃⁃⁃⁃⁃⁃⁃⁃⁃⁃⁃⁃⁃⁃⁃⁃⁃⁃⁃⁃⁃⁃⁃⁃⁃⁃⁃⁃⁃⁃⁃⁃⁃⁃⁃⁃⁃⁃⁃⁃⁃⁃</span>\n",
    "\n",
    "<br>\n",
    "\n",
    "<font size=\"+1\"><span style=\"background-color: yellow;color:red\"><strong>&nbsp;string.lstrip(&nbsp;</strong></span>&nbsp;**[chars]**&nbsp;<span style=\"background-color: yellow;color:red\"><strong>&nbsp;)&nbsp;</strong></span></font>\n",
    "\n",
    "<span style=\"color:blue\">Returns a **copy** (left trim version) of the string with **leading characters removed** from the **left side**</span>\n",
    "\n",
    "<span style=\"color:blue\">(whitespace <span style=\"background-color: yellow\">**\"&nbsp;&nbsp;\"**</span> by default)</span>\n"
   ]
  },
  {
   "cell_type": "code",
   "execution_count": 174,
   "id": "a89f8ef3-a83f-415a-b6bc-e8190f2962be",
   "metadata": {},
   "outputs": [
    {
     "name": "stdout",
     "output_type": "stream",
     "text": [
      "Of all fruits banana      is my favorite\n"
     ]
    }
   ],
   "source": [
    "\n",
    "# Remove spaces to the left of the string:\n",
    "\n",
    "txt = \"     banana     \"\n",
    "\n",
    "x = txt.lstrip()\n",
    "\n",
    "print(\"Of all fruits\", x, \"is my favorite\")\n"
   ]
  },
  {
   "cell_type": "code",
   "execution_count": 175,
   "id": "aaa6dd0d-71b6-4651-8764-0ae6d61cef87",
   "metadata": {},
   "outputs": [
    {
     "name": "stdout",
     "output_type": "stream",
     "text": [
      "banana\n"
     ]
    }
   ],
   "source": [
    "\n",
    "# Remove the leading characters:\n",
    "\n",
    "txt = \",,,,,ssaaww.....banana\"\n",
    "\n",
    "x = txt.lstrip(\",.asw\")\n",
    "\n",
    "print(x)\n"
   ]
  },
  {
   "cell_type": "code",
   "execution_count": 176,
   "id": "ddbe7e73-09fe-40f6-b867-ad13a8cad204",
   "metadata": {},
   "outputs": [
    {
     "name": "stdout",
     "output_type": "stream",
     "text": [
      "banana\n"
     ]
    }
   ],
   "source": [
    "\n",
    "# Remove the leading characters:\n",
    "\n",
    "txt = \",,,,,ssaaww.....banana\"\n",
    "\n",
    "x = txt.lstrip(\",saw.\")\n",
    "\n",
    "print(x)\n"
   ]
  },
  {
   "cell_type": "markdown",
   "id": "53386e57-8050-402e-a260-9e349381b3d1",
   "metadata": {},
   "source": [
    "<br>\n",
    "\n",
    "<br>\n",
    "\n",
    "\n",
    "<span style=\"color: #F7D205\">⁃⁃⁃⁃⁃⁃⁃⁃⁃⁃⁃⁃⁃⁃⁃⁃⁃⁃⁃⁃⁃⁃⁃⁃⁃⁃⁃⁃⁃⁃⁃⁃⁃⁃⁃⁃⁃⁃⁃⁃⁃⁃⁃⁃⁃⁃⁃⁃⁃⁃⁃⁃⁃⁃⁃⁃⁃⁃⁃⁃⁃⁃⁃⁃⁃⁃⁃⁃⁃⁃⁃⁃⁃⁃⁃⁃⁃⁃⁃⁃⁃⁃⁃⁃⁃⁃⁃⁃⁃⁃⁃⁃⁃⁃⁃⁃⁃⁃⁃⁃⁃⁃⁃⁃⁃⁃⁃⁃⁃⁃⁃⁃⁃⁃⁃⁃⁃⁃⁃⁃⁃⁃⁃⁃⁃⁃⁃⁃⁃⁃⁃⁃⁃⁃⁃⁃⁃⁃⁃⁃⁃⁃⁃⁃⁃⁃⁃⁃⁃⁃⁃⁃⁃⁃⁃⁃⁃⁃⁃⁃⁃⁃⁃⁃⁃⁃⁃⁃⁃⁃⁃⁃⁃⁃⁃⁃⁃⁃⁃⁃⁃⁃⁃⁃⁃⁃⁃⁃</span>\n",
    "\n",
    "<br>\n",
    "\n",
    "<font size=\"+1\"><span style=\"background-color: yellow;color:red\"><strong>&nbsp;string.maketrans(&nbsp;</strong></span>&nbsp;**x[, y[, z]]**&nbsp;<span style=\"background-color: yellow;color:red\"><strong>&nbsp;)&nbsp;</strong></span></font>\n",
    "\n",
    "<span style=\"color:blue\">Returns a **translation table** usable for **string.translate()**</span>\n",
    "\n",
    "<span style=\"color:blue\">returns a **mapping table** that can be used with the **string.translate()** method **to replace specified characters**.</span>\n",
    "\n",
    "\n",
    "| Parameter  |  Description  |\n",
    "|------------|---------------|\n",
    "|     x      | Required. If only one parameter is specified, this has to be a dictionary describing how to perform the replace. If two or more parameters are specified, this parameter has to be a string specifying the characters you want to replace. |\n",
    "|     y      | Optional. A string with the same length as parameter x. Each character in the first parameter will be replaced with the corresponding character in this string. |\n",
    "|     z      | Optional. A string describing which characters to remove from the original string. |\n"
   ]
  },
  {
   "cell_type": "code",
   "execution_count": 177,
   "id": "0f5960a8-fba0-4e7f-8c7c-d58aeedeb633",
   "metadata": {},
   "outputs": [
    {
     "name": "stdout",
     "output_type": "stream",
     "text": [
      "{83: 80}\n",
      "{83: 80}\n",
      "Hello Pam!\n",
      "Hello Pam!\n"
     ]
    }
   ],
   "source": [
    "\n",
    "# Create a mapping table, and use it in the translate() method to replace any \"S\" characters with a \"P\" character:\n",
    "\n",
    "txt = \"Hello Sam!\"\n",
    "mytable1 = str.maketrans(\"S\", \"P\")\n",
    "mytable2 = txt.maketrans(\"S\", \"P\")\n",
    "print(mytable1)                       # {83: 80}\n",
    "print(mytable2)                       # {83: 80}\n",
    "print(txt.translate(mytable1))        # Hello Pam!\n",
    "print(txt.translate(mytable2))        # Hello Pam!\n"
   ]
  },
  {
   "cell_type": "code",
   "execution_count": 178,
   "id": "53f8c7ad-7276-4142-807c-bd20c9aa6fbf",
   "metadata": {},
   "outputs": [
    {
     "name": "stdout",
     "output_type": "stream",
     "text": [
      "Hi Isha!\n"
     ]
    }
   ],
   "source": [
    "\n",
    "# Use a mapping table to replace many characters:\n",
    "\n",
    "txt = \"Hi Aman!\"\n",
    "x = \"Aman\"\n",
    "y = \"Isha\"\n",
    "mytable = str.maketrans(x, y)\n",
    "print(txt.translate(mytable))\n"
   ]
  },
  {
   "cell_type": "code",
   "execution_count": 179,
   "id": "830361ed-4111-4bc2-84c8-3cc8923d4361",
   "metadata": {},
   "outputs": [
    {
     "name": "stdout",
     "output_type": "stream",
     "text": [
      "Hi Joe!\n"
     ]
    }
   ],
   "source": [
    "\n",
    "# Use a mapping table to replace many characters:\n",
    "\n",
    "txt = \"Hi Sam!\"\n",
    "x = \"mSa\"\n",
    "y = \"eJo\"\n",
    "mytable = str.maketrans(x, y)\n",
    "print(txt.translate(mytable))\n"
   ]
  },
  {
   "cell_type": "code",
   "execution_count": 180,
   "id": "b55395d8-73b9-42f1-9e38-92127fcf7f40",
   "metadata": {},
   "outputs": [
    {
     "name": "stdout",
     "output_type": "stream",
     "text": [
      "Ha Aman   !\n"
     ]
    }
   ],
   "source": [
    "\n",
    "# Use a mapping table to replace many characters:\n",
    "\n",
    "txt = \"Hi Avinash!\"\n",
    "x = \"viasah\"\n",
    "y = \"ma    \"\n",
    "mytable = str.maketrans(x, y)\n",
    "print(txt.translate(mytable))\n"
   ]
  },
  {
   "cell_type": "code",
   "execution_count": 181,
   "id": "994aa4ba-73c9-4889-883e-5f0cc0cb9997",
   "metadata": {},
   "outputs": [
    {
     "name": "stdout",
     "output_type": "stream",
     "text": [
      "a Aman   \n",
      "9\n"
     ]
    }
   ],
   "source": [
    "\n",
    "# The third parameter in the mapping table describes characters that you want to remove from the string:\n",
    "\n",
    "txt = \"Hi Avinash!\"\n",
    "x = \"viasah\"\n",
    "y = \"ma    \"\n",
    "z = \"H!\"\n",
    "mytable = str.maketrans(x, y, z)\n",
    "print(txt.translate(mytable))\n",
    "print(len(txt.translate(mytable)))\n"
   ]
  },
  {
   "cell_type": "code",
   "execution_count": 182,
   "id": "f9bb4de8-b1eb-4daf-adc4-537e6e90b492",
   "metadata": {},
   "outputs": [
    {
     "name": "stdout",
     "output_type": "stream",
     "text": [
      "G i Joe!\n"
     ]
    }
   ],
   "source": [
    "\n",
    "# The third parameter in the mapping table describes characters that you want to remove from the string:\n",
    "\n",
    "txt = \"Good night Sam!\"\n",
    "x = \"mSa\"\n",
    "y = \"eJo\"\n",
    "z = \"odnght\"\n",
    "mytable = str.maketrans(x, y, z)\n",
    "print(txt.translate(mytable))\n"
   ]
  },
  {
   "cell_type": "code",
   "execution_count": 183,
   "id": "cd8c9944-e2d1-49b4-ae0a-986a2af44ce2",
   "metadata": {},
   "outputs": [
    {
     "name": "stdout",
     "output_type": "stream",
     "text": [
      "{109: 101, 83: 74, 97: 111, 111: None, 100: None, 110: None, 103: None, 104: None, 116: None}\n"
     ]
    }
   ],
   "source": [
    "\n",
    "# The maketrans() method itself returns a dictionary describing each replacement, in unicode:\n",
    "\n",
    "txt = \"Good night Sam!\"\n",
    "x = \"mSa\"\n",
    "y = \"eJo\"\n",
    "z = \"odnght\"\n",
    "print(str.maketrans(x, y, z))\n"
   ]
  },
  {
   "cell_type": "markdown",
   "id": "b366107c-c790-481b-9e15-0b3fb055fc7c",
   "metadata": {},
   "source": [
    "<br>\n",
    "\n",
    "<br>\n",
    "\n",
    "\n",
    "<span style=\"color: #F7D205\">⁃⁃⁃⁃⁃⁃⁃⁃⁃⁃⁃⁃⁃⁃⁃⁃⁃⁃⁃⁃⁃⁃⁃⁃⁃⁃⁃⁃⁃⁃⁃⁃⁃⁃⁃⁃⁃⁃⁃⁃⁃⁃⁃⁃⁃⁃⁃⁃⁃⁃⁃⁃⁃⁃⁃⁃⁃⁃⁃⁃⁃⁃⁃⁃⁃⁃⁃⁃⁃⁃⁃⁃⁃⁃⁃⁃⁃⁃⁃⁃⁃⁃⁃⁃⁃⁃⁃⁃⁃⁃⁃⁃⁃⁃⁃⁃⁃⁃⁃⁃⁃⁃⁃⁃⁃⁃⁃⁃⁃⁃⁃⁃⁃⁃⁃⁃⁃⁃⁃⁃⁃⁃⁃⁃⁃⁃⁃⁃⁃⁃⁃⁃⁃⁃⁃⁃⁃⁃⁃⁃⁃⁃⁃⁃⁃⁃⁃⁃⁃⁃⁃⁃⁃⁃⁃⁃⁃⁃⁃⁃⁃⁃⁃⁃⁃⁃⁃⁃⁃⁃⁃⁃⁃⁃⁃⁃⁃⁃⁃⁃⁃⁃⁃⁃⁃⁃⁃⁃</span>\n",
    "\n",
    "<br>\n",
    "\n",
    "<font size=\"+1\"><span style=\"background-color: yellow;color:red\"><strong>&nbsp;string.partition(&nbsp;</strong></span>&nbsp;**separator**&nbsp;<span style=\"background-color: yellow;color:red\"><strong>&nbsp;)&nbsp;</strong></span></font>\n",
    "\n",
    "\n",
    "<span style=\"color:blue\">Splits the string at the **first occurrence** of **separator** and returns a **tuple** containing the **left part** before the separator, the **separator** itself, and the **right part** after the separator.</span>\n",
    "\n",
    "The first element contains the part before the specified string i.e., everything before the \"match\"\n",
    "\n",
    "The second element contains the specified string i.e., the \"match\"\n",
    "\n",
    "The third element contains the part after the string i.e., everything after the \"match\"\n",
    "\n"
   ]
  },
  {
   "cell_type": "code",
   "execution_count": 185,
   "id": "0f5b2c59-20d3-4529-a3d4-347171d42fc6",
   "metadata": {},
   "outputs": [
    {
     "name": "stdout",
     "output_type": "stream",
     "text": [
      "('I could eat ', 'bananas', ' all day')\n"
     ]
    }
   ],
   "source": [
    "\n",
    "# Search for the word \"bananas\", and return a tuple with three elements:\n",
    "\n",
    "txt = \"I could eat bananas all day\"\n",
    "\n",
    "x = txt.partition(\"bananas\")\n",
    "\n",
    "print(x)\n"
   ]
  },
  {
   "cell_type": "markdown",
   "id": "c6a0eb4f-b7c2-41b7-b0c9-40239c5e8468",
   "metadata": {},
   "source": [
    "<br>\n",
    "\n",
    "<div style=\"border: 1px solid pink; padding: 10px; background-color: #ffffcc\">\n",
    "\n",
    "If the specified value is not found, the **string.partition( )** method returns a tuple containing: 1 - the whole string, 2 - an empty string, 3 - an empty string:\n",
    "\n",
    "</div>\n"
   ]
  },
  {
   "cell_type": "code",
   "execution_count": 186,
   "id": "a0ebd4a2-e4c8-426a-bb55-0f1a028f3f8c",
   "metadata": {},
   "outputs": [
    {
     "name": "stdout",
     "output_type": "stream",
     "text": [
      "('I could eat bananas all day', '', '')\n"
     ]
    }
   ],
   "source": [
    "\n",
    "txt = \"I could eat bananas all day\"\n",
    "\n",
    "x = txt.partition(\"apples\")\n",
    "\n",
    "print(x)\n"
   ]
  },
  {
   "cell_type": "markdown",
   "id": "460641ff-85e0-433c-a741-1aea43e29bae",
   "metadata": {},
   "source": [
    "<br>\n",
    "\n",
    "<br>\n",
    "\n",
    "\n",
    "<span style=\"color: #F7D205\">⁃⁃⁃⁃⁃⁃⁃⁃⁃⁃⁃⁃⁃⁃⁃⁃⁃⁃⁃⁃⁃⁃⁃⁃⁃⁃⁃⁃⁃⁃⁃⁃⁃⁃⁃⁃⁃⁃⁃⁃⁃⁃⁃⁃⁃⁃⁃⁃⁃⁃⁃⁃⁃⁃⁃⁃⁃⁃⁃⁃⁃⁃⁃⁃⁃⁃⁃⁃⁃⁃⁃⁃⁃⁃⁃⁃⁃⁃⁃⁃⁃⁃⁃⁃⁃⁃⁃⁃⁃⁃⁃⁃⁃⁃⁃⁃⁃⁃⁃⁃⁃⁃⁃⁃⁃⁃⁃⁃⁃⁃⁃⁃⁃⁃⁃⁃⁃⁃⁃⁃⁃⁃⁃⁃⁃⁃⁃⁃⁃⁃⁃⁃⁃⁃⁃⁃⁃⁃⁃⁃⁃⁃⁃⁃⁃⁃⁃⁃⁃⁃⁃⁃⁃⁃⁃⁃⁃⁃⁃⁃⁃⁃⁃⁃⁃⁃⁃⁃⁃⁃⁃⁃⁃⁃⁃⁃⁃⁃⁃⁃⁃⁃⁃⁃⁃⁃⁃⁃</span>\n",
    "\n",
    "<br>\n",
    "\n",
    "<font size=\"+1\"><span style=\"background-color: yellow;color:red\"><strong>&nbsp;string.replace(&nbsp;</strong></span>&nbsp;**old, new[, count]**&nbsp;<span style=\"background-color: yellow;color:red\"><strong>&nbsp;)&nbsp;</strong></span></font>\n",
    "\n",
    "<span style=\"color:blue\">Returns a **copy** of the string with **all occurrences of old** replaced by **new** (**up to count** if specified)</span>\n",
    "\n",
    "<span style=\"color:blue\">Replaces a specified phrase with another specified phrase.</span>\n",
    "\n",
    "All occurrences of the specified phrase will be replaced, if nothing else is specified.\n"
   ]
  },
  {
   "cell_type": "code",
   "execution_count": 187,
   "id": "3a18ea6e-8098-42e6-bb32-548d84faf7cb",
   "metadata": {},
   "outputs": [
    {
     "name": "stdout",
     "output_type": "stream",
     "text": [
      "I like apples\n"
     ]
    }
   ],
   "source": [
    "\n",
    "# Replace the word \"bananas\":\n",
    "\n",
    "txt = \"I like bananas\"\n",
    "\n",
    "x = txt.replace(\"bananas\", \"apples\")\n",
    "\n",
    "print(x)\n"
   ]
  },
  {
   "cell_type": "code",
   "execution_count": 188,
   "id": "b15665e5-bc1d-4529-b57e-beb3861aeb3c",
   "metadata": {},
   "outputs": [
    {
     "name": "stdout",
     "output_type": "stream",
     "text": [
      "three three was a race horse, two two was three too.\n"
     ]
    }
   ],
   "source": [
    "\n",
    "# Replace all occurrence of the word \"one\":\n",
    "\n",
    "txt = \"one one was a race horse, two two was one too.\"\n",
    "\n",
    "x = txt.replace(\"one\", \"three\")\n",
    "\n",
    "print(x)\n"
   ]
  },
  {
   "cell_type": "code",
   "execution_count": 189,
   "id": "32e0173c-5867-4b24-9883-87771ea5f21d",
   "metadata": {},
   "outputs": [
    {
     "name": "stdout",
     "output_type": "stream",
     "text": [
      "three three was a race horse, two two was one too.\n"
     ]
    }
   ],
   "source": [
    "\n",
    "# Replace the two first occurrence of the word \"one\":\n",
    "\n",
    "txt = \"one one was a race horse, two two was one too.\"\n",
    "\n",
    "x = txt.replace(\"one\", \"three\", 2)\n",
    "\n",
    "print(x)\n"
   ]
  },
  {
   "cell_type": "markdown",
   "id": "bfd7c796-aebe-4d0a-ad56-df1df7b7e936",
   "metadata": {},
   "source": [
    "<br>\n",
    "\n",
    "<br>\n",
    "\n",
    "\n",
    "<span style=\"color: #F7D205\">⁃⁃⁃⁃⁃⁃⁃⁃⁃⁃⁃⁃⁃⁃⁃⁃⁃⁃⁃⁃⁃⁃⁃⁃⁃⁃⁃⁃⁃⁃⁃⁃⁃⁃⁃⁃⁃⁃⁃⁃⁃⁃⁃⁃⁃⁃⁃⁃⁃⁃⁃⁃⁃⁃⁃⁃⁃⁃⁃⁃⁃⁃⁃⁃⁃⁃⁃⁃⁃⁃⁃⁃⁃⁃⁃⁃⁃⁃⁃⁃⁃⁃⁃⁃⁃⁃⁃⁃⁃⁃⁃⁃⁃⁃⁃⁃⁃⁃⁃⁃⁃⁃⁃⁃⁃⁃⁃⁃⁃⁃⁃⁃⁃⁃⁃⁃⁃⁃⁃⁃⁃⁃⁃⁃⁃⁃⁃⁃⁃⁃⁃⁃⁃⁃⁃⁃⁃⁃⁃⁃⁃⁃⁃⁃⁃⁃⁃⁃⁃⁃⁃⁃⁃⁃⁃⁃⁃⁃⁃⁃⁃⁃⁃⁃⁃⁃⁃⁃⁃⁃⁃⁃⁃⁃⁃⁃⁃⁃⁃⁃⁃⁃⁃⁃⁃⁃⁃⁃</span>\n",
    "\n",
    "<br>\n",
    "\n",
    "<font size=\"+1\"><span style=\"background-color: yellow;color:red\"><strong>&nbsp;string.rfind(&nbsp;</strong></span>&nbsp;**substring[, start[, end]]**&nbsp;<span style=\"background-color: yellow;color:red\"><strong>&nbsp;)&nbsp;</strong></span></font>\n",
    "\n",
    "<span style=\"color:blue\">Searches for the **last occurrence** of the **substring** within the string and returns the **highest index** in the string where **substring** is found, or **-1** if not found</span>"
   ]
  },
  {
   "cell_type": "code",
   "execution_count": 190,
   "id": "e13e082e-fdad-430f-9274-7e60ec0a8603",
   "metadata": {},
   "outputs": [
    {
     "name": "stdout",
     "output_type": "stream",
     "text": [
      "13\n"
     ]
    }
   ],
   "source": [
    "\n",
    "# Where in the text is the last occurrence of the letter \"e\"?:\n",
    "\n",
    "txt = \"Hello, welcome to my world.\"\n",
    "\n",
    "x = txt.rfind(\"e\")\n",
    "\n",
    "print(x)\n"
   ]
  },
  {
   "cell_type": "code",
   "execution_count": 191,
   "id": "a9fba6f2-828d-4eff-8133-f6bd82b935d2",
   "metadata": {},
   "outputs": [
    {
     "name": "stdout",
     "output_type": "stream",
     "text": [
      "53\n",
      "5\n",
      "77\n"
     ]
    }
   ],
   "source": [
    "\n",
    "txt = \"Data Engineering is Awesome. Data Analytics is cool. Data Science is fun. AI is future.\"\n",
    "\n",
    "a = txt.rfind(\"Data\")          # Where in the text is the last occurrence of the string \"Data\"?\n",
    "print(a)                       #  53\n",
    "\n",
    "\n",
    "b = txt.rfind(\"Engineering\")   #  Where in the text is the last occurrence of the string \"Engineering\"?\n",
    "print(b)                       #  5\n",
    "\n",
    "\n",
    "c = txt.rfind(\"is\")            #  Where in the text is the last occurrence of the string \"is\"?\n",
    "print(c)                       # 77\n"
   ]
  },
  {
   "cell_type": "code",
   "execution_count": 192,
   "id": "36fdc52c-d441-45f3-9c79-5e2b65762b12",
   "metadata": {},
   "outputs": [
    {
     "name": "stdout",
     "output_type": "stream",
     "text": [
      "0\n",
      "53\n",
      "5\n",
      "5\n",
      "-1\n",
      "-1\n"
     ]
    }
   ],
   "source": [
    "\n",
    "txt = \"Data Engineering is Awesome. Data Analytics is cool. Data Science is fun. AI is future.\"\n",
    "\n",
    "print(txt.find(\"Data\"))                       #  0    <====  first occurrence of the string \"Data\"\n",
    "print(txt.rfind(\"Data\"))                      #  53   <====  last occurrence of the string \"Data\"\n",
    "\n",
    "\n",
    "print(txt.find(\"Engineering\"))                #  5    <====  first occurrence of the string \"Engineering\"\n",
    "print(txt.rfind(\"Engineering\"))               #  5    <====  last occurrence of the string \"Engineering\"\n",
    "\n",
    "\n",
    "print(txt.find(\"Internet of Things\"))         #  -1   <====  first occurrence of the string \"Internet of Things\"\n",
    "print(txt.rfind(\"Internet of Things\"))        #  -1   <====  last occurrence of the string \"Internet of Things\"\n"
   ]
  },
  {
   "cell_type": "markdown",
   "id": "cb9c6a54-2b7e-496d-94dc-ebfcb7b081f5",
   "metadata": {},
   "source": [
    "\n",
    "<br>\n",
    "\n",
    "<div style=\"border: 1px solid pink; padding: 10px; background-color: #ffffcc\">\n",
    "\n",
    "**Note** - If the value is not found, <span style=\"background-color: #CAFEFD\">&nbsp;**find( )** and **rfind( )** returns **-1**&nbsp;</span> but <span style=\"background-color: #CAFEFD\">&nbsp;**index( )** and **rindex( )** raises an **exception** (ValueError)&nbsp;</span>\n",
    "\n",
    "</div>\n"
   ]
  },
  {
   "cell_type": "code",
   "execution_count": 193,
   "id": "7d588b06-d8a8-4683-b627-7344d6353d48",
   "metadata": {},
   "outputs": [
    {
     "name": "stdout",
     "output_type": "stream",
     "text": [
      "-1\n"
     ]
    },
    {
     "ename": "ValueError",
     "evalue": "substring not found",
     "output_type": "error",
     "traceback": [
      "\u001b[1;31m---------------------------------------------------------------------------\u001b[0m",
      "\u001b[1;31mValueError\u001b[0m                                Traceback (most recent call last)",
      "Cell \u001b[1;32mIn[193], line 6\u001b[0m\n\u001b[0;32m      3\u001b[0m txt \u001b[38;5;241m=\u001b[39m \u001b[38;5;124m\"\u001b[39m\u001b[38;5;124mHello, welcome to my world.\u001b[39m\u001b[38;5;124m\"\u001b[39m\n\u001b[0;32m      5\u001b[0m \u001b[38;5;28mprint\u001b[39m(txt\u001b[38;5;241m.\u001b[39mrfind(\u001b[38;5;124m\"\u001b[39m\u001b[38;5;124mq\u001b[39m\u001b[38;5;124m\"\u001b[39m))       \u001b[38;5;66;03m#  -1   \u001b[39;00m\n\u001b[1;32m----> 6\u001b[0m \u001b[38;5;28mprint\u001b[39m(\u001b[43mtxt\u001b[49m\u001b[38;5;241;43m.\u001b[39;49m\u001b[43mrindex\u001b[49m\u001b[43m(\u001b[49m\u001b[38;5;124;43m\"\u001b[39;49m\u001b[38;5;124;43mq\u001b[39;49m\u001b[38;5;124;43m\"\u001b[39;49m\u001b[43m)\u001b[49m)      \u001b[38;5;66;03m#  ValueError: substring not found\u001b[39;00m\n",
      "\u001b[1;31mValueError\u001b[0m: substring not found"
     ]
    }
   ],
   "source": [
    "\n",
    "# If the value is not found, the rfind() method returns -1, but the rindex() method will raise an exception:\n",
    "\n",
    "txt = \"Hello, welcome to my world.\"\n",
    "\n",
    "print(txt.rfind(\"q\"))       #  -1   \n",
    "print(txt.rindex(\"q\"))      #  ValueError: substring not found\n"
   ]
  },
  {
   "cell_type": "markdown",
   "id": "6bc4359c-7034-414a-b34a-2fca4d1acc96",
   "metadata": {},
   "source": [
    "<br>\n",
    "\n",
    "<br>\n",
    "\n",
    "\n",
    "<span style=\"color: #F7D205\">⁃⁃⁃⁃⁃⁃⁃⁃⁃⁃⁃⁃⁃⁃⁃⁃⁃⁃⁃⁃⁃⁃⁃⁃⁃⁃⁃⁃⁃⁃⁃⁃⁃⁃⁃⁃⁃⁃⁃⁃⁃⁃⁃⁃⁃⁃⁃⁃⁃⁃⁃⁃⁃⁃⁃⁃⁃⁃⁃⁃⁃⁃⁃⁃⁃⁃⁃⁃⁃⁃⁃⁃⁃⁃⁃⁃⁃⁃⁃⁃⁃⁃⁃⁃⁃⁃⁃⁃⁃⁃⁃⁃⁃⁃⁃⁃⁃⁃⁃⁃⁃⁃⁃⁃⁃⁃⁃⁃⁃⁃⁃⁃⁃⁃⁃⁃⁃⁃⁃⁃⁃⁃⁃⁃⁃⁃⁃⁃⁃⁃⁃⁃⁃⁃⁃⁃⁃⁃⁃⁃⁃⁃⁃⁃⁃⁃⁃⁃⁃⁃⁃⁃⁃⁃⁃⁃⁃⁃⁃⁃⁃⁃⁃⁃⁃⁃⁃⁃⁃⁃⁃⁃⁃⁃⁃⁃⁃⁃⁃⁃⁃⁃⁃⁃⁃⁃⁃⁃</span>\n",
    "\n",
    "<br>\n",
    "\n",
    "\n",
    "<font size=\"+1\"><span style=\"background-color: yellow;color:red\"><strong>&nbsp;string.rindex(&nbsp;</strong></span>&nbsp;**substring[, start[, end]]**&nbsp;<span style=\"background-color: yellow;color:red\"><strong>&nbsp;)&nbsp;</strong></span></font>\n",
    "\n",
    "\n",
    "<span style=\"color:blue\">Searches for the **last occurrence** of the **substring** within the string and returns the **highest index** in the string where **substring** is found, or raises a **ValueError** if not found</span>"
   ]
  },
  {
   "cell_type": "code",
   "execution_count": 194,
   "id": "9b953dae-ab45-4704-a8f7-7328f18c2933",
   "metadata": {},
   "outputs": [
    {
     "name": "stdout",
     "output_type": "stream",
     "text": [
      "13\n"
     ]
    }
   ],
   "source": [
    "\n",
    "\n",
    "# Where in the text is the last occurrence of the letter \"e\"?:\n",
    "\n",
    "txt = \"Hello, welcome to my world.\"\n",
    "\n",
    "x = txt.rindex(\"e\")\n",
    "\n",
    "print(x)\n"
   ]
  },
  {
   "cell_type": "code",
   "execution_count": 195,
   "id": "c0e3a167-4f2c-4d13-b313-73acbe812872",
   "metadata": {},
   "outputs": [
    {
     "name": "stdout",
     "output_type": "stream",
     "text": [
      "53\n",
      "5\n",
      "77\n"
     ]
    }
   ],
   "source": [
    "\n",
    "txt = \"Data Engineering is Awesome. Data Analytics is cool. Data Science is fun. AI is future.\"\n",
    "\n",
    "a = txt.rindex(\"Data\")          # Where in the text is the last occurrence of the string \"Data\"?\n",
    "print(a)                       #  53\n",
    "\n",
    "\n",
    "b = txt.rindex(\"Engineering\")   #  Where in the text is the last occurrence of the string \"Engineering\"?\n",
    "print(b)                       #  5\n",
    "\n",
    "\n",
    "c = txt.rindex(\"is\")            #  Where in the text is the last occurrence of the string \"is\"?\n",
    "print(c)                       # 77\n"
   ]
  },
  {
   "cell_type": "markdown",
   "id": "896d8fd2-185f-483a-829e-46533626ddc5",
   "metadata": {},
   "source": [
    "<br>\n",
    "\n",
    "<br>\n",
    "\n",
    "\n",
    "<span style=\"color: #F7D205\">⁃⁃⁃⁃⁃⁃⁃⁃⁃⁃⁃⁃⁃⁃⁃⁃⁃⁃⁃⁃⁃⁃⁃⁃⁃⁃⁃⁃⁃⁃⁃⁃⁃⁃⁃⁃⁃⁃⁃⁃⁃⁃⁃⁃⁃⁃⁃⁃⁃⁃⁃⁃⁃⁃⁃⁃⁃⁃⁃⁃⁃⁃⁃⁃⁃⁃⁃⁃⁃⁃⁃⁃⁃⁃⁃⁃⁃⁃⁃⁃⁃⁃⁃⁃⁃⁃⁃⁃⁃⁃⁃⁃⁃⁃⁃⁃⁃⁃⁃⁃⁃⁃⁃⁃⁃⁃⁃⁃⁃⁃⁃⁃⁃⁃⁃⁃⁃⁃⁃⁃⁃⁃⁃⁃⁃⁃⁃⁃⁃⁃⁃⁃⁃⁃⁃⁃⁃⁃⁃⁃⁃⁃⁃⁃⁃⁃⁃⁃⁃⁃⁃⁃⁃⁃⁃⁃⁃⁃⁃⁃⁃⁃⁃⁃⁃⁃⁃⁃⁃⁃⁃⁃⁃⁃⁃⁃⁃⁃⁃⁃⁃⁃⁃⁃⁃⁃⁃⁃</span>\n",
    "\n",
    "<br>\n",
    "\n",
    "<font size=\"+1\"><span style=\"background-color: yellow;color:red\"><strong>&nbsp;string.rjust(&nbsp;</strong></span>&nbsp;**length[, fillchar]**&nbsp;<span style=\"background-color: yellow;color:red\"><strong>&nbsp;)&nbsp;</strong></span></font>\n",
    "\n",
    "<span style=\"color:blue\">Returns a **right-justified string** of specified length, **padded with fillchar** on the **left side**</span>\n",
    "\n",
    "<span style=\"color:blue\">(whitespace <span style=\"background-color: yellow\">**\"&nbsp;&nbsp;\"**</span> by default)</span>\n"
   ]
  },
  {
   "cell_type": "code",
   "execution_count": 196,
   "id": "ba96bca6-57d1-4e25-b730-57b03075d954",
   "metadata": {},
   "outputs": [
    {
     "name": "stdout",
     "output_type": "stream",
     "text": [
      "              banana is my favorite fruit.\n"
     ]
    }
   ],
   "source": [
    "\n",
    "# Return a 20 characters long, right justified version of the word \"banana\":\n",
    "\n",
    "txt = \"banana\"\n",
    "\n",
    "x = txt.rjust(20)\n",
    "\n",
    "print(x, \"is my favorite fruit.\")\n"
   ]
  },
  {
   "cell_type": "markdown",
   "id": "0c4e923b-af52-45af-918c-763340ca04b2",
   "metadata": {},
   "source": [
    "<br>\n",
    "\n",
    "**Note**: In the result, there are actually **14 whitespaces** to the left of the word banana.\n",
    "\n",
    "<br>"
   ]
  },
  {
   "cell_type": "code",
   "execution_count": 197,
   "id": "3817a5e6-ef56-4023-93d1-0181795e9dee",
   "metadata": {},
   "outputs": [
    {
     "name": "stdout",
     "output_type": "stream",
     "text": [
      "OOOOOOOOOOOOOObanana\n"
     ]
    }
   ],
   "source": [
    "\n",
    "# Using the letter \"O\" as the padding character:\n",
    "\n",
    "txt = \"banana\"\n",
    "\n",
    "x = txt.rjust(20, \"O\")\n",
    "\n",
    "print(x)\n"
   ]
  },
  {
   "cell_type": "markdown",
   "id": "54eb74f6-2871-420d-b6de-803958b8000d",
   "metadata": {},
   "source": [
    "<br>\n",
    "\n",
    "<br>\n",
    "\n",
    "\n",
    "<span style=\"color: #F7D205\">⁃⁃⁃⁃⁃⁃⁃⁃⁃⁃⁃⁃⁃⁃⁃⁃⁃⁃⁃⁃⁃⁃⁃⁃⁃⁃⁃⁃⁃⁃⁃⁃⁃⁃⁃⁃⁃⁃⁃⁃⁃⁃⁃⁃⁃⁃⁃⁃⁃⁃⁃⁃⁃⁃⁃⁃⁃⁃⁃⁃⁃⁃⁃⁃⁃⁃⁃⁃⁃⁃⁃⁃⁃⁃⁃⁃⁃⁃⁃⁃⁃⁃⁃⁃⁃⁃⁃⁃⁃⁃⁃⁃⁃⁃⁃⁃⁃⁃⁃⁃⁃⁃⁃⁃⁃⁃⁃⁃⁃⁃⁃⁃⁃⁃⁃⁃⁃⁃⁃⁃⁃⁃⁃⁃⁃⁃⁃⁃⁃⁃⁃⁃⁃⁃⁃⁃⁃⁃⁃⁃⁃⁃⁃⁃⁃⁃⁃⁃⁃⁃⁃⁃⁃⁃⁃⁃⁃⁃⁃⁃⁃⁃⁃⁃⁃⁃⁃⁃⁃⁃⁃⁃⁃⁃⁃⁃⁃⁃⁃⁃⁃⁃⁃⁃⁃⁃⁃⁃</span>\n",
    "\n",
    "<br>\n",
    "\n",
    "<font size=\"+1\"><span style=\"background-color: yellow;color:red\"><strong>&nbsp;string.rpartition(&nbsp;</strong></span>&nbsp;**separator**&nbsp;<span style=\"background-color: yellow;color:red\"><strong>&nbsp;)&nbsp;</strong></span></font>\n",
    "\n",
    "<span style=\"color:blue\">Splits the string at the **last occurrence** of **separator** and returns a **tuple** containing the **left part** before the separator, the **separator** itself, and the **right part** after the separator</span>\n",
    "\n",
    "The first element contains the part before the specified string i.e., everything before the \"match\"\n",
    "\n",
    "The second element contains the specified string i.e., the \"match\"\n",
    "\n",
    "The third element contains the part after the string i.e., everything after the \"match\"\n"
   ]
  },
  {
   "cell_type": "code",
   "execution_count": 198,
   "id": "be089ac6-b5c2-437b-9d63-49ee890a39b8",
   "metadata": {},
   "outputs": [
    {
     "name": "stdout",
     "output_type": "stream",
     "text": [
      "('I could eat bananas all day, ', 'bananas', ' are my favorite fruit')\n"
     ]
    }
   ],
   "source": [
    "\n",
    "# Search for the last occurrence of the word \"bananas\", and return a tuple with three elements:\n",
    "\n",
    "txt = \"I could eat bananas all day, bananas are my favorite fruit\"\n",
    "\n",
    "x = txt.rpartition(\"bananas\")\n",
    "\n",
    "print(x)\n"
   ]
  },
  {
   "cell_type": "code",
   "execution_count": 199,
   "id": "104c2549-90a1-46bb-bd19-2d1f88bf320d",
   "metadata": {},
   "outputs": [
    {
     "name": "stdout",
     "output_type": "stream",
     "text": [
      "('', '', 'I could eat bananas all day, bananas are my favorite fruit')\n"
     ]
    }
   ],
   "source": [
    "\n",
    "# If the specified value is not found, the rpartition() method returns a tuple containing: 1 - an empty string, 2 - an empty string, 3 - the whole string:\n",
    "\n",
    "txt = \"I could eat bananas all day, bananas are my favorite fruit\"\n",
    "\n",
    "x = txt.rpartition(\"apples\")\n",
    "\n",
    "print(x)"
   ]
  },
  {
   "cell_type": "markdown",
   "id": "4bde58fd-c905-41ae-9123-a34d48fe4c3e",
   "metadata": {},
   "source": [
    "<br>\n",
    "\n",
    "<br>\n",
    "\n",
    "<span style=\"color: #F7D205\">⁃⁃⁃⁃⁃⁃⁃⁃⁃⁃⁃⁃⁃⁃⁃⁃⁃⁃⁃⁃⁃⁃⁃⁃⁃⁃⁃⁃⁃⁃⁃⁃⁃⁃⁃⁃⁃⁃⁃⁃⁃⁃⁃⁃⁃⁃⁃⁃⁃⁃⁃⁃⁃⁃⁃⁃⁃⁃⁃⁃⁃⁃⁃⁃⁃⁃⁃⁃⁃⁃⁃⁃⁃⁃⁃⁃⁃⁃⁃⁃⁃⁃⁃⁃⁃⁃⁃⁃⁃⁃⁃⁃⁃⁃⁃⁃⁃⁃⁃⁃⁃⁃⁃⁃⁃⁃⁃⁃⁃⁃⁃⁃⁃⁃⁃⁃⁃⁃⁃⁃⁃⁃⁃⁃⁃⁃⁃⁃⁃⁃⁃⁃⁃⁃⁃⁃⁃⁃⁃⁃⁃⁃⁃⁃⁃⁃⁃⁃⁃⁃⁃⁃⁃⁃⁃⁃⁃⁃⁃⁃⁃⁃⁃⁃⁃⁃⁃⁃⁃⁃⁃⁃⁃⁃⁃⁃⁃⁃⁃⁃⁃⁃⁃⁃⁃⁃⁃⁃</span>\n",
    "\n",
    "<br>\n",
    "\n",
    "<font size=\"+1\"><span style=\"background-color: yellow;color:red\"><strong>&nbsp;string.rsplit(&nbsp;</strong></span>&nbsp;**separator**&nbsp;=&nbsp;<span style=\"background-color:#E8DAEF\">None</span>**&nbsp;, maxsplit**&nbsp;=&nbsp;<span style=\"background-color:#E8DAEF\">-1</span>&nbsp;<span style=\"background-color: yellow;color:red\"><strong>&nbsp;)&nbsp;</strong></span></font>\n",
    "\n",
    "<span style=\"color:blue\"><span style=\"color:blue\">Splits a string into a list of strings from the **right side** <br> Here **maxsplit** represents the **maximum number of splits** <br> Default **separator** is any **whitespace** and default **maxsplit** is **-1**, which is **\"all occurrences\"**</span>\n",
    "</span>\n"
   ]
  },
  {
   "cell_type": "code",
   "execution_count": 200,
   "id": "31f4e8e2-d3b0-426e-9226-5cdd1421def0",
   "metadata": {},
   "outputs": [
    {
     "name": "stdout",
     "output_type": "stream",
     "text": [
      "['apple', 'banana', 'cherry']\n"
     ]
    }
   ],
   "source": [
    "\n",
    "# Split a string into a list, using comma, followed by a space (, ) as the separator:\n",
    "\n",
    "txt = \"apple, banana, cherry\"\n",
    "\n",
    "x = txt.rsplit(\", \")\n",
    "\n",
    "print(x)\n"
   ]
  },
  {
   "cell_type": "markdown",
   "id": "bea57752-0a8e-46b1-8623-3ab7bcdb2296",
   "metadata": {},
   "source": [
    "<br>\n",
    "\n",
    "<div style=\"border: 1px solid pink; padding: 10px; background-color: #ffffcc\">\n",
    "\n",
    "**Note** - When maxsplit is specified, the list will contain the specified number of elements plus one.\n",
    "\n",
    "</div>\n"
   ]
  },
  {
   "cell_type": "code",
   "execution_count": 201,
   "id": "accd3295-7405-4307-9207-0e0fbcf55ed1",
   "metadata": {},
   "outputs": [
    {
     "name": "stdout",
     "output_type": "stream",
     "text": [
      "['apple, banana', 'cherry']\n"
     ]
    }
   ],
   "source": [
    "\n",
    "# Split the string into a list with maximum 2 items:\n",
    "\n",
    "txt = \"apple, banana, cherry\"\n",
    "\n",
    "# setting the maxsplit parameter to 1, will return a list with 2 elements!\n",
    "x = txt.rsplit(\", \", 1)\n",
    "\n",
    "print(x)\n"
   ]
  },
  {
   "cell_type": "markdown",
   "id": "49f1fbed-5a7e-4393-a002-0a5db173b8de",
   "metadata": {},
   "source": [
    "<br>\n",
    "\n",
    "<br>\n",
    "\n",
    "<span style=\"color: #F7D205\">⁃⁃⁃⁃⁃⁃⁃⁃⁃⁃⁃⁃⁃⁃⁃⁃⁃⁃⁃⁃⁃⁃⁃⁃⁃⁃⁃⁃⁃⁃⁃⁃⁃⁃⁃⁃⁃⁃⁃⁃⁃⁃⁃⁃⁃⁃⁃⁃⁃⁃⁃⁃⁃⁃⁃⁃⁃⁃⁃⁃⁃⁃⁃⁃⁃⁃⁃⁃⁃⁃⁃⁃⁃⁃⁃⁃⁃⁃⁃⁃⁃⁃⁃⁃⁃⁃⁃⁃⁃⁃⁃⁃⁃⁃⁃⁃⁃⁃⁃⁃⁃⁃⁃⁃⁃⁃⁃⁃⁃⁃⁃⁃⁃⁃⁃⁃⁃⁃⁃⁃⁃⁃⁃⁃⁃⁃⁃⁃⁃⁃⁃⁃⁃⁃⁃⁃⁃⁃⁃⁃⁃⁃⁃⁃⁃⁃⁃⁃⁃⁃⁃⁃⁃⁃⁃⁃⁃⁃⁃⁃⁃⁃⁃⁃⁃⁃⁃⁃⁃⁃⁃⁃⁃⁃⁃⁃⁃⁃⁃⁃⁃⁃⁃⁃⁃⁃⁃⁃</span>\n",
    "\n",
    "<br>\n",
    "\n",
    "<font size=\"+1\"><span style=\"background-color: yellow;color:red\"><strong>&nbsp;string.rstrip(&nbsp;</strong></span>&nbsp;**[chars]**&nbsp;<span style=\"background-color: yellow;color:red\"><strong>&nbsp;)&nbsp;</strong></span></font>\n",
    "\n",
    "<span style=\"color:blue\">Returns a **copy** (right trim version) of the string with **trailing characters removed** from the **right side** <br> (whitespace <span style=\"background-color: yellow\">**\"&nbsp;&nbsp;\"**</span> by default)</span>\n"
   ]
  },
  {
   "cell_type": "code",
   "execution_count": 202,
   "id": "9f44e43a-fd0f-484d-90da-97afa340a988",
   "metadata": {},
   "outputs": [
    {
     "name": "stdout",
     "output_type": "stream",
     "text": [
      "of all fruits      banana is my favorite\n"
     ]
    }
   ],
   "source": [
    "\n",
    "# Remove any white spaces at the end of the string:\n",
    "\n",
    "txt = \"     banana     \"\n",
    "\n",
    "x = txt.rstrip()\n",
    "\n",
    "print(\"of all fruits\", x, \"is my favorite\")\n"
   ]
  },
  {
   "cell_type": "code",
   "execution_count": 203,
   "id": "9e5cce06-b710-4a5c-82af-5d36dd172cd8",
   "metadata": {},
   "outputs": [
    {
     "name": "stdout",
     "output_type": "stream",
     "text": [
      "banana\n"
     ]
    }
   ],
   "source": [
    "\n",
    "# Remove the trailing characters if they are commas, periods, s, q, or w:\n",
    "\n",
    "txt = \"banana,,,,,ssqqqww.....\"\n",
    "\n",
    "x = txt.rstrip(\",.qsw\")\n",
    "\n",
    "print(x)\n"
   ]
  },
  {
   "cell_type": "markdown",
   "id": "eb0d720c-288b-4a70-9b0f-7d40b91669ff",
   "metadata": {},
   "source": [
    "<br>\n",
    "\n",
    "<br>\n",
    "\n",
    "<span style=\"color: #F7D205\">⁃⁃⁃⁃⁃⁃⁃⁃⁃⁃⁃⁃⁃⁃⁃⁃⁃⁃⁃⁃⁃⁃⁃⁃⁃⁃⁃⁃⁃⁃⁃⁃⁃⁃⁃⁃⁃⁃⁃⁃⁃⁃⁃⁃⁃⁃⁃⁃⁃⁃⁃⁃⁃⁃⁃⁃⁃⁃⁃⁃⁃⁃⁃⁃⁃⁃⁃⁃⁃⁃⁃⁃⁃⁃⁃⁃⁃⁃⁃⁃⁃⁃⁃⁃⁃⁃⁃⁃⁃⁃⁃⁃⁃⁃⁃⁃⁃⁃⁃⁃⁃⁃⁃⁃⁃⁃⁃⁃⁃⁃⁃⁃⁃⁃⁃⁃⁃⁃⁃⁃⁃⁃⁃⁃⁃⁃⁃⁃⁃⁃⁃⁃⁃⁃⁃⁃⁃⁃⁃⁃⁃⁃⁃⁃⁃⁃⁃⁃⁃⁃⁃⁃⁃⁃⁃⁃⁃⁃⁃⁃⁃⁃⁃⁃⁃⁃⁃⁃⁃⁃⁃⁃⁃⁃⁃⁃⁃⁃⁃⁃⁃⁃⁃⁃⁃⁃⁃⁃</span>\n",
    "\n",
    "<br>\n",
    "\n",
    "<font size=\"+1\"><span style=\"background-color: yellow;color:red\"><strong>&nbsp;string.split(&nbsp;</strong></span>&nbsp;**separator**&nbsp;=&nbsp;<span style=\"background-color:#E8DAEF\">None</span>**&nbsp;, maxsplit**&nbsp;=&nbsp;<span style=\"background-color:#E8DAEF\">-1</span>&nbsp;<span style=\"background-color: yellow;color:red\"><strong>&nbsp;)&nbsp;</strong></span></font>\n",
    "\n",
    "\n",
    "<span style=\"color:blue\"><span style=\"color:blue\">Splits a string into a list of strings from the **left side** <br> Here **maxsplit** represents the **maximum number of splits** <br> Default **separator** is any **whitespace** and default **maxsplit** is **-1**, which is **\"all occurrences\"**</span></span>\n"
   ]
  },
  {
   "cell_type": "code",
   "execution_count": 204,
   "id": "e643805d-7c90-4905-96c4-4dfcbfd9c027",
   "metadata": {},
   "outputs": [
    {
     "name": "stdout",
     "output_type": "stream",
     "text": [
      "['welcome', 'to', 'the', 'jungle']\n"
     ]
    }
   ],
   "source": [
    "\n",
    "# Split a string into a list where each word is a list item:\n",
    "\n",
    "txt = \"welcome to the jungle\"\n",
    "\n",
    "x = txt.split()\n",
    "\n",
    "print(x)\n"
   ]
  },
  {
   "cell_type": "markdown",
   "id": "08c3c122-594e-4e4e-8eda-969c14d4c94e",
   "metadata": {},
   "source": [
    "<br>\n",
    "\n",
    "<div style=\"border: 1px solid pink; padding: 10px; background-color: #ffffcc\">\n",
    "\n",
    "**Note** - When maxsplit is specified, the list will contain the specified number of elements plus one.\n",
    "\n",
    "</div>"
   ]
  },
  {
   "cell_type": "code",
   "execution_count": 205,
   "id": "2b14b115-8eb3-4490-97e6-fd932810b454",
   "metadata": {},
   "outputs": [
    {
     "name": "stdout",
     "output_type": "stream",
     "text": [
      "['hello', 'my name is Peter', 'I am 26 years old']\n"
     ]
    }
   ],
   "source": [
    "\n",
    "# Split the string, using comma, followed by a space, as a separator:\n",
    "\n",
    "txt = \"hello, my name is Peter, I am 26 years old\"\n",
    "\n",
    "x = txt.split(\", \")\n",
    "\n",
    "print(x)\n"
   ]
  },
  {
   "cell_type": "code",
   "execution_count": 206,
   "id": "41b9bc67-c2a8-4f8c-b0d8-f4b538780a75",
   "metadata": {},
   "outputs": [
    {
     "name": "stdout",
     "output_type": "stream",
     "text": [
      "['apple', 'banana', 'cherry', 'orange']\n"
     ]
    }
   ],
   "source": [
    "\n",
    "# Use a hash character as a separator:\n",
    "\n",
    "txt = \"apple#banana#cherry#orange\"\n",
    "\n",
    "x = txt.split(\"#\")\n",
    "\n",
    "print(x)\n"
   ]
  },
  {
   "cell_type": "code",
   "execution_count": 207,
   "id": "fe36d24f-a643-4b43-9ec3-f59e1a1a225d",
   "metadata": {},
   "outputs": [
    {
     "name": "stdout",
     "output_type": "stream",
     "text": [
      "['apple', 'banana#cherry#orange']\n"
     ]
    }
   ],
   "source": [
    "\n",
    "# Split the string into a list with max 2 items:\n",
    "\n",
    "txt = \"apple#banana#cherry#orange\"\n",
    "\n",
    "# setting the maxsplit parameter to 1, will return a list with 2 elements!\n",
    "x = txt.split(\"#\", 1)\n",
    "\n",
    "print(x)\n"
   ]
  },
  {
   "cell_type": "markdown",
   "id": "ee16761e-f0e0-41ee-8560-c24a361dfcd3",
   "metadata": {},
   "source": [
    "<br>\n",
    "\n",
    "<br>\n",
    "\n",
    "<span style=\"color: #F7D205\">⁃⁃⁃⁃⁃⁃⁃⁃⁃⁃⁃⁃⁃⁃⁃⁃⁃⁃⁃⁃⁃⁃⁃⁃⁃⁃⁃⁃⁃⁃⁃⁃⁃⁃⁃⁃⁃⁃⁃⁃⁃⁃⁃⁃⁃⁃⁃⁃⁃⁃⁃⁃⁃⁃⁃⁃⁃⁃⁃⁃⁃⁃⁃⁃⁃⁃⁃⁃⁃⁃⁃⁃⁃⁃⁃⁃⁃⁃⁃⁃⁃⁃⁃⁃⁃⁃⁃⁃⁃⁃⁃⁃⁃⁃⁃⁃⁃⁃⁃⁃⁃⁃⁃⁃⁃⁃⁃⁃⁃⁃⁃⁃⁃⁃⁃⁃⁃⁃⁃⁃⁃⁃⁃⁃⁃⁃⁃⁃⁃⁃⁃⁃⁃⁃⁃⁃⁃⁃⁃⁃⁃⁃⁃⁃⁃⁃⁃⁃⁃⁃⁃⁃⁃⁃⁃⁃⁃⁃⁃⁃⁃⁃⁃⁃⁃⁃⁃⁃⁃⁃⁃⁃⁃⁃⁃⁃⁃⁃⁃⁃⁃⁃⁃⁃⁃⁃⁃⁃</span>\n",
    "\n",
    "<br>\n",
    "\n",
    "<font size=\"+1\"><span style=\"background-color: yellow;color:red\"><strong>&nbsp;string.splitlines(&nbsp;</strong></span>&nbsp;**keeplinebreaks**&nbsp;<span style=\"background-color: yellow;color:red\"><strong>&nbsp;)&nbsp;</strong></span></font>\n",
    "\n",
    "<span style=\"color:blue\">Splits a string into a **list of lines** <br> In other words, it splits the string at **line breaks** and returns a **list** <br> The parameter **keeplinesbreak** specifies if the line breaks should be included (**True**), or not (**False**) <br> Default value is **False**</span>\n"
   ]
  },
  {
   "cell_type": "code",
   "execution_count": 208,
   "id": "317b4f99-c633-4967-910d-5e28bfcf4a4c",
   "metadata": {},
   "outputs": [
    {
     "name": "stdout",
     "output_type": "stream",
     "text": [
      "['Thank you for the music', 'Welcome to the jungle']\n"
     ]
    }
   ],
   "source": [
    "\n",
    "# Split a string into a list where each line is a list item:\n",
    "\n",
    "txt = \"Thank you for the music\\nWelcome to the jungle\"\n",
    "\n",
    "x = txt.splitlines()\n",
    "\n",
    "print(x)\n"
   ]
  },
  {
   "cell_type": "code",
   "execution_count": 209,
   "id": "7b3fa7b3-bbdf-4cce-a1c2-988fff45fb67",
   "metadata": {},
   "outputs": [
    {
     "name": "stdout",
     "output_type": "stream",
     "text": [
      "['Thank you for the music\\n', 'Welcome to the jungle']\n",
      "['Thank you for the music', 'Welcome to the jungle']\n"
     ]
    }
   ],
   "source": [
    "\n",
    "# Split a string into a list where each line is a list item:\n",
    "\n",
    "txt = \"Thank you for the music\\nWelcome to the jungle\"\n",
    "\n",
    "x = txt.splitlines(True)\n",
    "y = txt.splitlines(False)\n",
    "\n",
    "print(x)\n",
    "print(y)\n"
   ]
  },
  {
   "cell_type": "markdown",
   "id": "d109270b-9451-4630-8c09-0b9fbb23117d",
   "metadata": {},
   "source": [
    "<br>\n",
    "\n",
    "<br>\n",
    "\n",
    "<span style=\"color: #F7D205\">⁃⁃⁃⁃⁃⁃⁃⁃⁃⁃⁃⁃⁃⁃⁃⁃⁃⁃⁃⁃⁃⁃⁃⁃⁃⁃⁃⁃⁃⁃⁃⁃⁃⁃⁃⁃⁃⁃⁃⁃⁃⁃⁃⁃⁃⁃⁃⁃⁃⁃⁃⁃⁃⁃⁃⁃⁃⁃⁃⁃⁃⁃⁃⁃⁃⁃⁃⁃⁃⁃⁃⁃⁃⁃⁃⁃⁃⁃⁃⁃⁃⁃⁃⁃⁃⁃⁃⁃⁃⁃⁃⁃⁃⁃⁃⁃⁃⁃⁃⁃⁃⁃⁃⁃⁃⁃⁃⁃⁃⁃⁃⁃⁃⁃⁃⁃⁃⁃⁃⁃⁃⁃⁃⁃⁃⁃⁃⁃⁃⁃⁃⁃⁃⁃⁃⁃⁃⁃⁃⁃⁃⁃⁃⁃⁃⁃⁃⁃⁃⁃⁃⁃⁃⁃⁃⁃⁃⁃⁃⁃⁃⁃⁃⁃⁃⁃⁃⁃⁃⁃⁃⁃⁃⁃⁃⁃⁃⁃⁃⁃⁃⁃⁃⁃⁃⁃⁃⁃</span>\n",
    "\n",
    "<br>\n",
    "\n",
    "<font size=\"+1\"><span style=\"background-color: yellow;color:red\"><strong>string.startswith(&nbsp;</strong></span>&nbsp;**prefix[, start[, end]]**<span style=\"background-color: yellow;color:red\"><strong>&nbsp;)&nbsp;</strong></span></font>\n",
    "\n",
    "<span style=\"color:blue\">Returns **True if the string starts with the specified prefix**; otherwise, False</span>\n"
   ]
  },
  {
   "cell_type": "code",
   "execution_count": 210,
   "id": "29c21bfb-fb79-4068-beca-1a10274438af",
   "metadata": {},
   "outputs": [
    {
     "name": "stdout",
     "output_type": "stream",
     "text": [
      "True\n"
     ]
    }
   ],
   "source": [
    "\n",
    "# Check if the string starts with \"Hello\":\n",
    "\n",
    "txt = \"Hello, welcome to my world.\"\n",
    "\n",
    "x = txt.startswith(\"Hello\")\n",
    "\n",
    "print(x)\n"
   ]
  },
  {
   "cell_type": "code",
   "execution_count": 211,
   "id": "c999c9fb-3772-4a8a-8c4d-2e9e080e4cc5",
   "metadata": {},
   "outputs": [
    {
     "name": "stdout",
     "output_type": "stream",
     "text": [
      "True\n"
     ]
    }
   ],
   "source": [
    "\n",
    "# Check if position 7 to 20 starts with the characters \"wel\":\n",
    "\n",
    "txt = \"Hello, welcome to my world.\"\n",
    "\n",
    "x = txt.startswith(\"wel\", 7, 20)\n",
    "\n",
    "print(x)\n"
   ]
  },
  {
   "cell_type": "markdown",
   "id": "b7384b50-d616-4d3a-8a34-eeb50d1cf996",
   "metadata": {},
   "source": [
    "<br>\n",
    "\n",
    "<br>\n",
    "\n",
    "<span style=\"color: #F7D205\">⁃⁃⁃⁃⁃⁃⁃⁃⁃⁃⁃⁃⁃⁃⁃⁃⁃⁃⁃⁃⁃⁃⁃⁃⁃⁃⁃⁃⁃⁃⁃⁃⁃⁃⁃⁃⁃⁃⁃⁃⁃⁃⁃⁃⁃⁃⁃⁃⁃⁃⁃⁃⁃⁃⁃⁃⁃⁃⁃⁃⁃⁃⁃⁃⁃⁃⁃⁃⁃⁃⁃⁃⁃⁃⁃⁃⁃⁃⁃⁃⁃⁃⁃⁃⁃⁃⁃⁃⁃⁃⁃⁃⁃⁃⁃⁃⁃⁃⁃⁃⁃⁃⁃⁃⁃⁃⁃⁃⁃⁃⁃⁃⁃⁃⁃⁃⁃⁃⁃⁃⁃⁃⁃⁃⁃⁃⁃⁃⁃⁃⁃⁃⁃⁃⁃⁃⁃⁃⁃⁃⁃⁃⁃⁃⁃⁃⁃⁃⁃⁃⁃⁃⁃⁃⁃⁃⁃⁃⁃⁃⁃⁃⁃⁃⁃⁃⁃⁃⁃⁃⁃⁃⁃⁃⁃⁃⁃⁃⁃⁃⁃⁃⁃⁃⁃⁃⁃⁃</span>\n",
    "\n",
    "<br>\n",
    "\n",
    "<font size=\"+1\"><span style=\"background-color: yellow;color:red\"><strong>&nbsp;string.strip(&nbsp;</strong></span>&nbsp;**[chars]**&nbsp;<span style=\"background-color: yellow;color:red\"><strong>&nbsp;)&nbsp;</strong></span></font>\n",
    "\n",
    "<span style=\"color:blue\">Returns a **copy** (trimmed from **both left and right side**) of the string with **leading** and **trailing** characters removed <br> (whitespace <span style=\"background-color: yellow\">**\"&nbsp;&nbsp;\"**</span> by default)</span>\n"
   ]
  },
  {
   "cell_type": "code",
   "execution_count": 212,
   "id": "89b827d5-f0d7-49a3-9ced-58fbce0647c4",
   "metadata": {},
   "outputs": [
    {
     "name": "stdout",
     "output_type": "stream",
     "text": [
      "banana\n"
     ]
    }
   ],
   "source": [
    "\n",
    "# Remove the leading and trailing characters:\n",
    "\n",
    "txt = \",,,,,rrttgg.....banana....rrr\"\n",
    "\n",
    "x = txt.strip(\",.grt\")    #  ====>  , . g r t   (all these characters will be removed from both sides)\n",
    "\n",
    "print(x)\n"
   ]
  },
  {
   "cell_type": "code",
   "execution_count": 213,
   "id": "ac4cdd07-3c3a-4254-b265-540e9870c0f1",
   "metadata": {},
   "outputs": [
    {
     "name": "stdout",
     "output_type": "stream",
     "text": [
      "banana\n"
     ]
    }
   ],
   "source": [
    "\n",
    "# Remove the leading and trailing characters:\n",
    "\n",
    "txt = \",,,,,rrttgg.....banana....rrr\"\n",
    "\n",
    "x = txt.strip(\",rtg.\")    #  ====>  , . g r t   (all these characters will be removed from both sides)\n",
    "\n",
    "print(x)\n"
   ]
  },
  {
   "cell_type": "markdown",
   "id": "0be2976d-e62c-4686-b837-17c75b127497",
   "metadata": {},
   "source": [
    "<br>\n",
    "\n",
    "<br>\n",
    "\n",
    "<span style=\"color: #F7D205\">⁃⁃⁃⁃⁃⁃⁃⁃⁃⁃⁃⁃⁃⁃⁃⁃⁃⁃⁃⁃⁃⁃⁃⁃⁃⁃⁃⁃⁃⁃⁃⁃⁃⁃⁃⁃⁃⁃⁃⁃⁃⁃⁃⁃⁃⁃⁃⁃⁃⁃⁃⁃⁃⁃⁃⁃⁃⁃⁃⁃⁃⁃⁃⁃⁃⁃⁃⁃⁃⁃⁃⁃⁃⁃⁃⁃⁃⁃⁃⁃⁃⁃⁃⁃⁃⁃⁃⁃⁃⁃⁃⁃⁃⁃⁃⁃⁃⁃⁃⁃⁃⁃⁃⁃⁃⁃⁃⁃⁃⁃⁃⁃⁃⁃⁃⁃⁃⁃⁃⁃⁃⁃⁃⁃⁃⁃⁃⁃⁃⁃⁃⁃⁃⁃⁃⁃⁃⁃⁃⁃⁃⁃⁃⁃⁃⁃⁃⁃⁃⁃⁃⁃⁃⁃⁃⁃⁃⁃⁃⁃⁃⁃⁃⁃⁃⁃⁃⁃⁃⁃⁃⁃⁃⁃⁃⁃⁃⁃⁃⁃⁃⁃⁃⁃⁃⁃⁃⁃</span>\n",
    "\n",
    "<br>\n",
    "\n",
    "<font size=\"+1\"><span style=\"background-color: yellow;color:red\"><strong>string.swapcase(&nbsp;)</strong></span></font>\n",
    "\n",
    "<span style=\"color:blue\">**Swaps** cases, returns a **copy** of the string with **uppercase** characters converted to **lowercase** and **vice versa**</span>\n"
   ]
  },
  {
   "cell_type": "code",
   "execution_count": 214,
   "id": "c603a2d9-cff6-4c5f-bd92-499acccc0af7",
   "metadata": {},
   "outputs": [
    {
     "name": "stdout",
     "output_type": "stream",
     "text": [
      "hELLO mY nAME iS avinash\n"
     ]
    }
   ],
   "source": [
    "\n",
    "# Make the lower case letters upper case and the upper case letters lower case:\n",
    "\n",
    "txt = \"Hello My Name Is AVINASH\"\n",
    "\n",
    "x = txt.swapcase()\n",
    "\n",
    "print(x)\n"
   ]
  },
  {
   "cell_type": "code",
   "execution_count": 215,
   "id": "ff51ff13-fba4-4c9b-bc96-8f62a54cc9f7",
   "metadata": {},
   "outputs": [
    {
     "name": "stdout",
     "output_type": "stream",
     "text": [
      "123_ONE_two_THREE\n"
     ]
    }
   ],
   "source": [
    "\n",
    "txt = \"123_one_TWO_three\"\n",
    "\n",
    "x = txt.swapcase()\n",
    "\n",
    "print(x)\n"
   ]
  },
  {
   "cell_type": "markdown",
   "id": "e8475914-ccc9-48b2-8488-f046d2d0e287",
   "metadata": {},
   "source": [
    "<br>\n",
    "\n",
    "<br>\n",
    "\n",
    "<span style=\"color: #F7D205\">⁃⁃⁃⁃⁃⁃⁃⁃⁃⁃⁃⁃⁃⁃⁃⁃⁃⁃⁃⁃⁃⁃⁃⁃⁃⁃⁃⁃⁃⁃⁃⁃⁃⁃⁃⁃⁃⁃⁃⁃⁃⁃⁃⁃⁃⁃⁃⁃⁃⁃⁃⁃⁃⁃⁃⁃⁃⁃⁃⁃⁃⁃⁃⁃⁃⁃⁃⁃⁃⁃⁃⁃⁃⁃⁃⁃⁃⁃⁃⁃⁃⁃⁃⁃⁃⁃⁃⁃⁃⁃⁃⁃⁃⁃⁃⁃⁃⁃⁃⁃⁃⁃⁃⁃⁃⁃⁃⁃⁃⁃⁃⁃⁃⁃⁃⁃⁃⁃⁃⁃⁃⁃⁃⁃⁃⁃⁃⁃⁃⁃⁃⁃⁃⁃⁃⁃⁃⁃⁃⁃⁃⁃⁃⁃⁃⁃⁃⁃⁃⁃⁃⁃⁃⁃⁃⁃⁃⁃⁃⁃⁃⁃⁃⁃⁃⁃⁃⁃⁃⁃⁃⁃⁃⁃⁃⁃⁃⁃⁃⁃⁃⁃⁃⁃⁃⁃⁃⁃</span>\n",
    "\n",
    "<br>\n",
    "\n",
    "<font size=\"+1\"><span style=\"background-color: yellow;color:red\"><strong>string.title(&nbsp;)</strong></span></font>\n",
    "\n",
    "<span style=\"color:blue\">Returns a **copy** of the string with the first character of each word capitalized<br>Converts the **first character** of **each word** to **upper case**<br>If the word contains a number or a symbol, the first letter after that will be converted to upper case.</span>\n"
   ]
  },
  {
   "cell_type": "code",
   "execution_count": 216,
   "id": "6d59e04b-2de0-42bc-9a02-08f8c8c6be4a",
   "metadata": {},
   "outputs": [
    {
     "name": "stdout",
     "output_type": "stream",
     "text": [
      "Welcome To My World\n"
     ]
    }
   ],
   "source": [
    "\n",
    "# Make the first letter in each word upper case:\n",
    "\n",
    "txt = \"Welcome to my world\"\n",
    "\n",
    "x = txt.title()\n",
    "\n",
    "print(x)\n"
   ]
  },
  {
   "cell_type": "markdown",
   "id": "ef7f68ad-a12d-4558-ac30-5efb7d17f329",
   "metadata": {},
   "source": [
    "<br>\n",
    "\n",
    "<span style=\"background-color: #CAFEFD\">&nbsp;**Note** that the first letter after a non-alphabet letter is converted into a upper case letter.</span>\n"
   ]
  },
  {
   "cell_type": "code",
   "execution_count": 217,
   "id": "65148370-6a56-43a3-89a9-9f21d0d5c455",
   "metadata": {},
   "outputs": [
    {
     "name": "stdout",
     "output_type": "stream",
     "text": [
      "Welcome To My 2Nd World\n"
     ]
    }
   ],
   "source": [
    "\n",
    "# Make the first letter in each word upper case:\n",
    "\n",
    "txt = \"Welcome to my 2nd world\"\n",
    "\n",
    "x = txt.title()\n",
    "\n",
    "print(x)\n"
   ]
  },
  {
   "cell_type": "code",
   "execution_count": 218,
   "id": "21d89801-e979-404b-a271-78d39e4b52ad",
   "metadata": {},
   "outputs": [
    {
     "name": "stdout",
     "output_type": "stream",
     "text": [
      "Hello B2B2B2 And 3G3G3G\n"
     ]
    }
   ],
   "source": [
    "\n",
    "txt = \"hello b2b2b2 and 3g3g3g\"\n",
    "\n",
    "x = txt.title()\n",
    "\n",
    "print(x)\n"
   ]
  },
  {
   "cell_type": "markdown",
   "id": "af963ad2-ec82-4df0-b299-673871b49741",
   "metadata": {},
   "source": [
    "<br>\n",
    "\n",
    "<br>\n",
    "\n",
    "<span style=\"color: #F7D205\">⁃⁃⁃⁃⁃⁃⁃⁃⁃⁃⁃⁃⁃⁃⁃⁃⁃⁃⁃⁃⁃⁃⁃⁃⁃⁃⁃⁃⁃⁃⁃⁃⁃⁃⁃⁃⁃⁃⁃⁃⁃⁃⁃⁃⁃⁃⁃⁃⁃⁃⁃⁃⁃⁃⁃⁃⁃⁃⁃⁃⁃⁃⁃⁃⁃⁃⁃⁃⁃⁃⁃⁃⁃⁃⁃⁃⁃⁃⁃⁃⁃⁃⁃⁃⁃⁃⁃⁃⁃⁃⁃⁃⁃⁃⁃⁃⁃⁃⁃⁃⁃⁃⁃⁃⁃⁃⁃⁃⁃⁃⁃⁃⁃⁃⁃⁃⁃⁃⁃⁃⁃⁃⁃⁃⁃⁃⁃⁃⁃⁃⁃⁃⁃⁃⁃⁃⁃⁃⁃⁃⁃⁃⁃⁃⁃⁃⁃⁃⁃⁃⁃⁃⁃⁃⁃⁃⁃⁃⁃⁃⁃⁃⁃⁃⁃⁃⁃⁃⁃⁃⁃⁃⁃⁃⁃⁃⁃⁃⁃⁃⁃⁃⁃⁃⁃⁃⁃⁃</span>\n",
    "\n",
    "<br>\n",
    "\n",
    "<font size=\"+1\"><span style=\"background-color: yellow;color:red\"><strong>string.translate(&nbsp;)</strong></span></font>\n",
    "\n",
    "<span style=\"color:blue\">Returns a **translated string** using a **translation table**</span>\n",
    "\n",
    "<span style=\"color:blue\">The **translate( )** method returns a string where **some specified characters are replaced with the character described** in a **dictionary**, or in a **mapping table**.</span>\n",
    "\n",
    "<span style=\"color:blue\">Use the **maketrans( )** method to create a mapping table.</span>\n",
    "\n",
    "<span style=\"color:blue\">If a character is not specified in the dictionary/table, the character will not be replaced.</span>\n",
    "\n",
    "<span style=\"color:blue\">If you use a dictionary, you must use **ascii codes instead of characters**.</span>\n"
   ]
  },
  {
   "cell_type": "code",
   "execution_count": 219,
   "id": "9b78c0c9-7220-4e40-9cc4-e31e360a8c5d",
   "metadata": {},
   "outputs": [
    {
     "name": "stdout",
     "output_type": "stream",
     "text": [
      "Hello Pam!\n"
     ]
    }
   ],
   "source": [
    "\n",
    "# Replace any \"S\" characters with a \"P\" character:\n",
    "\n",
    "#use a dictionary with ascii codes to replace 83 (S) with 80 (P):\n",
    "mydict = {83:  80}\n",
    "txt = \"Hello Sam!\"\n",
    "print(txt.translate(mydict))\n"
   ]
  },
  {
   "cell_type": "code",
   "execution_count": 220,
   "id": "b4f7e860-58cc-48f7-8839-9cc11f757aaf",
   "metadata": {},
   "outputs": [
    {
     "name": "stdout",
     "output_type": "stream",
     "text": [
      "Hello Pam!\n"
     ]
    }
   ],
   "source": [
    "\n",
    "# Use a mapping table to replace \"S\" with \"P\":\n",
    "\n",
    "txt = \"Hello Sam!\"\n",
    "mytable = str.maketrans(\"S\", \"P\")\n",
    "print(txt.translate(mytable))\n"
   ]
  },
  {
   "cell_type": "code",
   "execution_count": 221,
   "id": "314e99a4-cda5-435f-a2ba-4903d05897c4",
   "metadata": {},
   "outputs": [
    {
     "name": "stdout",
     "output_type": "stream",
     "text": [
      "Hi Joe!\n"
     ]
    }
   ],
   "source": [
    "\n",
    "# Use a mapping table to replace many characters:\n",
    "\n",
    "txt = \"Hi Sam!\"\n",
    "x = \"mSa\"\n",
    "y = \"eJo\"\n",
    "mytable = str.maketrans(x, y)\n",
    "print(txt.translate(mytable))\n"
   ]
  },
  {
   "cell_type": "code",
   "execution_count": 222,
   "id": "f3a21f65-2098-4c36-903c-1526dbb7f4fd",
   "metadata": {},
   "outputs": [
    {
     "name": "stdout",
     "output_type": "stream",
     "text": [
      "G i Joe!\n"
     ]
    }
   ],
   "source": [
    "\n",
    "# he third parameter in the mapping table describes characters that you want to remove from the string:\n",
    "\n",
    "txt = \"Good night Sam!\"\n",
    "x = \"mSa\"\n",
    "y = \"eJo\"\n",
    "z = \"odnght\"\n",
    "mytable = str.maketrans(x, y, z)\n",
    "print(txt.translate(mytable))\n"
   ]
  },
  {
   "cell_type": "code",
   "execution_count": 223,
   "id": "3fba430f-f439-49c8-a7c6-079ed01887f8",
   "metadata": {},
   "outputs": [
    {
     "name": "stdout",
     "output_type": "stream",
     "text": [
      "G i Joe!\n"
     ]
    }
   ],
   "source": [
    "\n",
    "# The same example as above, but using a dictionary instead of a mapping table:\n",
    "\n",
    "txt = \"Good night Sam!\"\n",
    "mydict = {109: 101, 83: 74, 97: 111, 111: None, 100: None, 110: None, 103: None, 104: None, 116: None}\n",
    "print(txt.translate(mydict))\n"
   ]
  },
  {
   "cell_type": "markdown",
   "id": "37ed4f5c-ca68-4d77-beee-bc50e1523c75",
   "metadata": {},
   "source": [
    "<br>\n",
    "\n",
    "<br>\n",
    "\n",
    "<span style=\"color: #F7D205\">⁃⁃⁃⁃⁃⁃⁃⁃⁃⁃⁃⁃⁃⁃⁃⁃⁃⁃⁃⁃⁃⁃⁃⁃⁃⁃⁃⁃⁃⁃⁃⁃⁃⁃⁃⁃⁃⁃⁃⁃⁃⁃⁃⁃⁃⁃⁃⁃⁃⁃⁃⁃⁃⁃⁃⁃⁃⁃⁃⁃⁃⁃⁃⁃⁃⁃⁃⁃⁃⁃⁃⁃⁃⁃⁃⁃⁃⁃⁃⁃⁃⁃⁃⁃⁃⁃⁃⁃⁃⁃⁃⁃⁃⁃⁃⁃⁃⁃⁃⁃⁃⁃⁃⁃⁃⁃⁃⁃⁃⁃⁃⁃⁃⁃⁃⁃⁃⁃⁃⁃⁃⁃⁃⁃⁃⁃⁃⁃⁃⁃⁃⁃⁃⁃⁃⁃⁃⁃⁃⁃⁃⁃⁃⁃⁃⁃⁃⁃⁃⁃⁃⁃⁃⁃⁃⁃⁃⁃⁃⁃⁃⁃⁃⁃⁃⁃⁃⁃⁃⁃⁃⁃⁃⁃⁃⁃⁃⁃⁃⁃⁃⁃⁃⁃⁃⁃⁃⁃</span>\n",
    "\n",
    "<br>\n",
    "\n",
    "<font size=\"+1\"><span style=\"background-color: yellow;color:red\"><strong>string.upper(&nbsp;)</strong></span></font>\n",
    "\n",
    "<span style=\"color:blue\">Returns a **copy** of the string converted to **uppercase**</span>\n",
    "\n",
    "Symbols and Numbers are ignored.\n"
   ]
  },
  {
   "cell_type": "code",
   "execution_count": 224,
   "id": "9c2766a8-0b7b-4053-99f6-af7153cf4ca5",
   "metadata": {},
   "outputs": [
    {
     "name": "stdout",
     "output_type": "stream",
     "text": [
      "HELLO MY FRIENDS\n"
     ]
    }
   ],
   "source": [
    "\n",
    "# Upper case the string:\n",
    "\n",
    "txt = \"Hello my friends\"\n",
    "\n",
    "x = txt.upper()\n",
    "\n",
    "print(x)\n"
   ]
  },
  {
   "cell_type": "markdown",
   "id": "7dfd4239-c336-4afd-9c44-5aea9798ee0d",
   "metadata": {},
   "source": [
    "<br>\n",
    "\n",
    "<br>\n",
    "\n",
    "<span style=\"color: #F7D205\">⁃⁃⁃⁃⁃⁃⁃⁃⁃⁃⁃⁃⁃⁃⁃⁃⁃⁃⁃⁃⁃⁃⁃⁃⁃⁃⁃⁃⁃⁃⁃⁃⁃⁃⁃⁃⁃⁃⁃⁃⁃⁃⁃⁃⁃⁃⁃⁃⁃⁃⁃⁃⁃⁃⁃⁃⁃⁃⁃⁃⁃⁃⁃⁃⁃⁃⁃⁃⁃⁃⁃⁃⁃⁃⁃⁃⁃⁃⁃⁃⁃⁃⁃⁃⁃⁃⁃⁃⁃⁃⁃⁃⁃⁃⁃⁃⁃⁃⁃⁃⁃⁃⁃⁃⁃⁃⁃⁃⁃⁃⁃⁃⁃⁃⁃⁃⁃⁃⁃⁃⁃⁃⁃⁃⁃⁃⁃⁃⁃⁃⁃⁃⁃⁃⁃⁃⁃⁃⁃⁃⁃⁃⁃⁃⁃⁃⁃⁃⁃⁃⁃⁃⁃⁃⁃⁃⁃⁃⁃⁃⁃⁃⁃⁃⁃⁃⁃⁃⁃⁃⁃⁃⁃⁃⁃⁃⁃⁃⁃⁃⁃⁃⁃⁃⁃⁃⁃⁃</span>\n",
    "\n",
    "<br>\n",
    "\n",
    "<font size=\"+1\"><span style=\"background-color: yellow;color:red\"><strong>&nbsp;string.zfill(&nbsp;</strong></span>&nbsp;**length**&nbsp;<span style=\"background-color: yellow;color:red\"><strong>&nbsp;)&nbsp;</strong></span></font>\n",
    "\n",
    "<span style=\"color:blue\">Pads a numeric string with **zeros** on the **left side** to make it a **specified length**. <br> In other words, it fills the string with a specified number of **0** values at the **beginning**</span>\n",
    "\n",
    "If the value of the length parameter is less than the length of the string, no filling is done.\n"
   ]
  },
  {
   "cell_type": "code",
   "execution_count": 225,
   "id": "f2fb7c8d-1a2b-4007-bd11-e167abc31594",
   "metadata": {},
   "outputs": [
    {
     "name": "stdout",
     "output_type": "stream",
     "text": [
      "0000000050\n"
     ]
    }
   ],
   "source": [
    "\n",
    "# Fill the string with zeros until it is 10 characters long:\n",
    "\n",
    "txt = \"50\"\n",
    "\n",
    "x = txt.zfill(10)    # total 10 spaces including txt\n",
    "\n",
    "print(x)\n"
   ]
  },
  {
   "cell_type": "code",
   "execution_count": 226,
   "id": "ae17c6b1-6610-403a-ac0d-110ea507afb6",
   "metadata": {},
   "outputs": [
    {
     "name": "stdout",
     "output_type": "stream",
     "text": [
      "00000hello\n",
      "welcome to the jungle\n",
      "000010.000\n"
     ]
    }
   ],
   "source": [
    "\n",
    "# Fill the strings with zeros until they are 10 characters long:\n",
    "\n",
    "a = \"hello\"\n",
    "b = \"welcome to the jungle\"\n",
    "c = \"10.000\"\n",
    "\n",
    "print(a.zfill(10))     #  len(a) < 10  ====>  so (10 - len(a)) = (10 - 5) = 5 number of zeros to be filled in the left side\n",
    "print(b.zfill(10))     #  len(b) > 10  ====>  so no zero filling in the left side\n",
    "print(c.zfill(10))     #  len(c) < 10  ====>  so (10 - len(c)) = (10 - 6) = 4 number of zeros to be filled in the left side\n"
   ]
  },
  {
   "cell_type": "code",
   "execution_count": null,
   "id": "43c96429-5a60-42d8-9b11-a400eced47b6",
   "metadata": {},
   "outputs": [],
   "source": []
  },
  {
   "cell_type": "markdown",
   "id": "9bb45446-88ce-4856-86bd-189b539439b4",
   "metadata": {},
   "source": [
    "<br>\n",
    "\n",
    "<br>\n",
    "\n",
    "<span style=\"color: #F7D205\">⁃⁃⁃⁃⁃⁃⁃⁃⁃⁃⁃⁃⁃⁃⁃⁃⁃⁃⁃⁃⁃⁃⁃⁃⁃⁃⁃⁃⁃⁃⁃⁃⁃⁃⁃⁃⁃⁃⁃⁃⁃⁃⁃⁃⁃⁃⁃⁃⁃⁃⁃⁃⁃⁃⁃⁃⁃⁃⁃⁃⁃⁃⁃⁃⁃⁃⁃⁃⁃⁃⁃⁃⁃⁃⁃⁃⁃⁃⁃⁃⁃⁃⁃⁃⁃⁃⁃⁃⁃⁃⁃⁃⁃⁃⁃⁃⁃⁃⁃⁃⁃⁃⁃⁃⁃⁃⁃⁃⁃⁃⁃⁃⁃⁃⁃⁃⁃⁃⁃⁃⁃⁃⁃⁃⁃⁃⁃⁃⁃⁃⁃⁃⁃⁃⁃⁃⁃⁃⁃⁃⁃⁃⁃⁃⁃⁃⁃⁃⁃⁃⁃⁃⁃⁃⁃⁃⁃⁃⁃⁃⁃⁃⁃⁃⁃⁃⁃⁃⁃⁃⁃⁃⁃⁃⁃⁃⁃⁃⁃⁃⁃⁃⁃⁃⁃⁃⁃⁃</span>\n",
    "\n",
    "<br>\n",
    "\n",
    "\n",
    "🔶 ➜ string.<span style=\"color: blue\">**split**</span>( **separator** = None , **maxsplit** = -1 ) <br> \n",
    "&nbsp;&nbsp;&nbsp;&nbsp;&nbsp;&nbsp;&nbsp;&nbsp;&nbsp;&nbsp;&nbsp;string.<span style=\"color: blue\">**rsplit**</span>( **separator** = None , **maxsplit** = -1 ) <br>\n",
    "&nbsp;&nbsp;&nbsp;&nbsp;&nbsp;&nbsp;&nbsp;&nbsp;&nbsp;&nbsp;&nbsp;string.<span style=\"color: blue\">**splitlines**</span>( **keeplinebreaks**  ) <br>\n",
    "&nbsp;&nbsp;&nbsp;&nbsp;&nbsp;&nbsp;&nbsp;&nbsp;&nbsp;&nbsp;&nbsp;string.<span style=\"color: blue\">**partition**</span>( **separator** ) <br>\n",
    "&nbsp;&nbsp;&nbsp;&nbsp;&nbsp;&nbsp;&nbsp;&nbsp;&nbsp;&nbsp;&nbsp;string.<span style=\"color: blue\">**rpartition**</span>( **separator** ) <br>\n",
    "&nbsp;&nbsp;&nbsp;&nbsp;&nbsp;&nbsp;&nbsp;&nbsp;&nbsp;&nbsp;&nbsp;string.<span style=\"color: blue\">**join**</span>( **iterable** )  <br>\n",
    "\n",
    "<br>\n",
    "\n",
    "🔶 ➜ string.<span style=\"color: blue\">**capitalize( )**</span>  &nbsp;&nbsp;&nbsp;&nbsp;&nbsp;&nbsp;  string.<span style=\"color: blue\">**casefold( )**</span>   &nbsp;&nbsp;&nbsp;&nbsp;&nbsp;&nbsp;  string.<span style=\"color: blue\">**lower( )**</span>  &nbsp;&nbsp;&nbsp;&nbsp;&nbsp;&nbsp;  string.<span style=\"color: blue\">**upper( )**</span>  &nbsp;&nbsp;&nbsp;&nbsp;&nbsp;&nbsp; string.<span style=\"color: blue\">**title( )**</span>  &nbsp;&nbsp;&nbsp;&nbsp;&nbsp;&nbsp;  string.<span style=\"color: blue\">**swapcase( )**</span>\n",
    "\n",
    "<br>\n",
    "\n",
    "🔶 ➜ string.<span style=\"color: blue\">**count**</span>( **substring**[, **start**[, **end**]] )\n",
    "\n",
    "<br>\n",
    "\n",
    "🔶 ➜ string.<span style=\"color: blue\">**find**</span>( **substring**[, **start**[, **end**]] )   <br>\n",
    "&nbsp;&nbsp;&nbsp;&nbsp;&nbsp;&nbsp;&nbsp;&nbsp;&nbsp;&nbsp;&nbsp;string.<span style=\"color: blue\">**rfind**</span>( **substring**[, **start**[, **end**]] )  <br>\n",
    "&nbsp;&nbsp;&nbsp;&nbsp;&nbsp;&nbsp;&nbsp;&nbsp;&nbsp;&nbsp;&nbsp;string.<span style=\"color: blue\">**index**</span>( **substring**[, **start**[, **end**]] )  <br>\n",
    "&nbsp;&nbsp;&nbsp;&nbsp;&nbsp;&nbsp;&nbsp;&nbsp;&nbsp;&nbsp;&nbsp;string.<span style=\"color: blue\">**rindex**</span>( **substring**[, **start**[, **end**]] )  <br>\n",
    "&nbsp;&nbsp;&nbsp;&nbsp;&nbsp;&nbsp;&nbsp;&nbsp;&nbsp;&nbsp;&nbsp;string.<span style=\"color: blue\">**translate(&nbsp;)**\n",
    "\n",
    "<br>\n",
    "\n",
    "🔶 ➜ string.<span style=\"color: blue\">**format**</span>( ***args**, **kwargs** )    &nbsp;&nbsp;&nbsp;&nbsp;&nbsp;&nbsp;&nbsp;|&nbsp;&nbsp;&nbsp;&nbsp;&nbsp;&nbsp;&nbsp;   string.<span style=\"color: blue\">**format**</span>( **value1**, **value2**..... )  <br>\n",
    "&nbsp;&nbsp;&nbsp;&nbsp;&nbsp;&nbsp;&nbsp;&nbsp;&nbsp;&nbsp;&nbsp;string.<span style=\"color: blue\">**format_map**</span>( **mapping** )  <br>\n",
    "&nbsp;&nbsp;&nbsp;&nbsp;&nbsp;&nbsp;&nbsp;&nbsp;&nbsp;&nbsp;&nbsp;string.<span style=\"color: blue\">**strip**</span>( [**chars**] )       <br>\n",
    "&nbsp;&nbsp;&nbsp;&nbsp;&nbsp;&nbsp;&nbsp;&nbsp;&nbsp;&nbsp;&nbsp;string.<span style=\"color: blue\">**lstrip**</span>( [**chars**] )      <br>\n",
    "&nbsp;&nbsp;&nbsp;&nbsp;&nbsp;&nbsp;&nbsp;&nbsp;&nbsp;&nbsp;&nbsp;string.<span style=\"color: blue\">**rstrip**</span>( [**chars**] )      <br>\n",
    "&nbsp;&nbsp;&nbsp;&nbsp;&nbsp;&nbsp;&nbsp;&nbsp;&nbsp;&nbsp;&nbsp;string.<span style=\"color: blue\">**center**</span>( **length**[, **fillchar**]  )  <br>\n",
    "&nbsp;&nbsp;&nbsp;&nbsp;&nbsp;&nbsp;&nbsp;&nbsp;&nbsp;&nbsp;&nbsp;string.<span style=\"color: blue\">**expandtabs**</span>( **tabsize** )     <br>\n",
    "&nbsp;&nbsp;&nbsp;&nbsp;&nbsp;&nbsp;&nbsp;&nbsp;&nbsp;&nbsp;&nbsp;string.<span style=\"color: blue\">**ljust**</span>( **length**[, **fillchar**] )   <br>\n",
    "&nbsp;&nbsp;&nbsp;&nbsp;&nbsp;&nbsp;&nbsp;&nbsp;&nbsp;&nbsp;&nbsp;string.<span style=\"color: blue\">**rjust**</span>( **length**[, **fillchar**] )   <br>\n",
    "&nbsp;&nbsp;&nbsp;&nbsp;&nbsp;&nbsp;&nbsp;&nbsp;&nbsp;&nbsp;&nbsp;string.<span style=\"color: blue\">**zfill**</span>( **length** )  <br>\n",
    "\n",
    "<br>\n",
    "\n",
    "🔶 ➜ string.<span style=\"color: blue\">**startswith**</span>( **prefix**[, **start**[, **end**]] )  <br>\n",
    "&nbsp;&nbsp;&nbsp;&nbsp;&nbsp;&nbsp;&nbsp;&nbsp;&nbsp;&nbsp;&nbsp;string.<span style=\"color: blue\">**endswith**</span>( **suffix**[, **start**[, **end**]] )  <br>\n",
    "&nbsp;&nbsp;&nbsp;&nbsp;&nbsp;&nbsp;&nbsp;&nbsp;&nbsp;&nbsp;&nbsp;string.<span style=\"color: blue\">**islower**</span>(&nbsp;)        <br>\n",
    "&nbsp;&nbsp;&nbsp;&nbsp;&nbsp;&nbsp;&nbsp;&nbsp;&nbsp;&nbsp;&nbsp;string.<span style=\"color: blue\">**isupper**</span>(&nbsp;)        <br>\n",
    "&nbsp;&nbsp;&nbsp;&nbsp;&nbsp;&nbsp;&nbsp;&nbsp;&nbsp;&nbsp;&nbsp;string.<span style=\"color: blue\">**istitle**</span>(&nbsp;)        <br>\n",
    "&nbsp;&nbsp;&nbsp;&nbsp;&nbsp;&nbsp;&nbsp;&nbsp;&nbsp;&nbsp;&nbsp;string.<span style=\"color: blue\">**isalnum**</span>(&nbsp;)        <br>\n",
    "&nbsp;&nbsp;&nbsp;&nbsp;&nbsp;&nbsp;&nbsp;&nbsp;&nbsp;&nbsp;&nbsp;string.<span style=\"color: blue\">**isalpha**</span>(&nbsp;)        <br>\n",
    "&nbsp;&nbsp;&nbsp;&nbsp;&nbsp;&nbsp;&nbsp;&nbsp;&nbsp;&nbsp;&nbsp;string.<span style=\"color: blue\">**isascii**</span>(&nbsp;)        <br>\n",
    "&nbsp;&nbsp;&nbsp;&nbsp;&nbsp;&nbsp;&nbsp;&nbsp;&nbsp;&nbsp;&nbsp;string.<span style=\"color: blue\">**isspace**</span>(&nbsp;)        <br>\n",
    "&nbsp;&nbsp;&nbsp;&nbsp;&nbsp;&nbsp;&nbsp;&nbsp;&nbsp;&nbsp;&nbsp;string.<span style=\"color: blue\">**isdecimal**</span>(&nbsp;)      <br>\n",
    "&nbsp;&nbsp;&nbsp;&nbsp;&nbsp;&nbsp;&nbsp;&nbsp;&nbsp;&nbsp;&nbsp;string.<span style=\"color: blue\">**isdigit**</span>(&nbsp;)        <br>\n",
    "&nbsp;&nbsp;&nbsp;&nbsp;&nbsp;&nbsp;&nbsp;&nbsp;&nbsp;&nbsp;&nbsp;string.<span style=\"color: blue\">**isidentifier**</span>(&nbsp;)   <br>\n",
    "&nbsp;&nbsp;&nbsp;&nbsp;&nbsp;&nbsp;&nbsp;&nbsp;&nbsp;&nbsp;&nbsp;string.<span style=\"color: blue\">**isnumeric**</span>(&nbsp;)      <br>\n",
    "&nbsp;&nbsp;&nbsp;&nbsp;&nbsp;&nbsp;&nbsp;&nbsp;&nbsp;&nbsp;&nbsp;string.<span style=\"color: blue\">**isprintable**</span>(&nbsp;)    <br>\n",
    "\n",
    "<br>\n",
    "\n",
    "🔶 ➜ string.<span style=\"color: blue\">**encode**</span>( [**encoding**[, **errors**]] )  <br>\n",
    "\n",
    "\n",
    "\n",
    "    "
   ]
  },
  {
   "cell_type": "code",
   "execution_count": null,
   "id": "7ccdccaa-4a3c-4ab0-8a92-429aaa4a7d1f",
   "metadata": {},
   "outputs": [],
   "source": []
  },
  {
   "cell_type": "markdown",
   "id": "063080c4-9528-4cf5-8a21-c6e107f7acac",
   "metadata": {},
   "source": [
    "<br>\n",
    "\n",
    "### <span style=\"background-color: #CAFEFD;\">Summary :</span>\n",
    "\n",
    "&nbsp;&nbsp;&nbsp;&nbsp;&nbsp;&nbsp;⇒ In Python, a string is a series of characters. Also, Python strings are **immutable**. <br>\n",
    "&nbsp;&nbsp;&nbsp;&nbsp;&nbsp;&nbsp;⇒ Use quotes, either **single** quotes or **double** quotes to create string literals. <br>\n",
    "&nbsp;&nbsp;&nbsp;&nbsp;&nbsp;&nbsp;⇒ Use the **backslash character** <span style=\"background-color: yellow;color: red\"><strong> \\\\ </strong></span> to escape quotes in strings. <br>\n",
    "&nbsp;&nbsp;&nbsp;&nbsp;&nbsp;&nbsp;⇒ Use **raw strings** <span style=\"background-color: yellow;color: red\"><strong> r'...' </strong></span> to escape the backslash character. <br>\n",
    "&nbsp;&nbsp;&nbsp;&nbsp;&nbsp;&nbsp;⇒ Use **f-strings** or **.format()** to insert substitute variables in literal strings. <br>\n",
    "&nbsp;&nbsp;&nbsp;&nbsp;&nbsp;&nbsp;⇒ Place literal strings <span style=\"color: blue\">next to each other</span> to **concatenate** them. And use the <span style=\"background-color: yellow;color: red\"><strong> + </strong></span> operator to **concatenate** string variables. <br>\n",
    "&nbsp;&nbsp;&nbsp;&nbsp;&nbsp;&nbsp;⇒ Use the <span style=\"background-color: yellow;color: red\"><strong> len() </strong></span> function to get the size of a string. <br>\n",
    "&nbsp;&nbsp;&nbsp;&nbsp;&nbsp;&nbsp;⇒ Use the <span style=\"background-color: yellow;color: red\"><strong> str[n] </strong></span> to access the character at the position n of the string str. <br>\n",
    "&nbsp;&nbsp;&nbsp;&nbsp;&nbsp;&nbsp;⇒ Use **slicing** to extract a **substring** from a string. <br>\n",
    "&nbsp;&nbsp;&nbsp;&nbsp;&nbsp;&nbsp;⇒ use <span style=\"background-color: yellow;color:red\"><strong> &nbsp;&nbsp; for &nbsp;&nbsp;</strong></span> loop to loop through the characters in a string. <br>\n",
    "&nbsp;&nbsp;&nbsp;&nbsp;&nbsp;&nbsp;⇒ use <span style=\"background-color: yellow;color:red\"><strong> &nbsp;&nbsp; in &nbsp;&nbsp;</strong></span> and <span style=\"background-color: yellow;color:red\"><strong> &nbsp;&nbsp; not in &nbsp;&nbsp;</strong></span> to **check** if a certain phrase or character is **present or not** in a string.\n",
    "\n",
    "<br>"
   ]
  },
  {
   "cell_type": "code",
   "execution_count": null,
   "id": "940e19b6-266e-4cbc-94f0-3b0dbde0d239",
   "metadata": {},
   "outputs": [],
   "source": []
  },
  {
   "cell_type": "markdown",
   "id": "86d58351-867f-4371-bdfd-67dc7895a41e",
   "metadata": {},
   "source": [
    "<br>\n",
    "\n",
    "<br>\n",
    "\n",
    "<span style=\"color: blue\"> █ █ █ █ █ █ █ █ █ █ █ █ █ █ █ █ █ █ █ █ █ █ █ █ █ █ █ █ █ █  █ █ █ █ █ █ █ █ █ █ █ █ █ █ █ █ █ █ █ █ █ █ █ █  █ █ █ █ █ █ █ █ █ █ █ █ █ █ █ █ █ █ █ █ █ █ █ █  </span>\n",
    "\n",
    "<br>\n",
    "\n",
    "<br>"
   ]
  },
  {
   "cell_type": "markdown",
   "id": "a9b43edb-4491-4547-9010-306faa58de71",
   "metadata": {},
   "source": [
    "<br>\n",
    "\n",
    "# <u>Numbers</u>\n",
    "\n",
    "<br>\n"
   ]
  },
  {
   "cell_type": "markdown",
   "id": "94d81dbd-8539-4b10-abd0-81f52e4dd251",
   "metadata": {},
   "source": [
    "\n",
    "Python supports **integers**, **floats**, and **complex numbers**. \n",
    "\n",
    "### <span style=\"background-color: yellow;\">Underscores in numbers</span>\n",
    "\n",
    "When a number is large, it’ll become difficult to read. For example:\n"
   ]
  },
  {
   "cell_type": "code",
   "execution_count": 229,
   "id": "68b42758-b9f3-4114-8eec-1c77c5c075c7",
   "metadata": {},
   "outputs": [],
   "source": [
    "\n",
    "count = 10000000000\n"
   ]
  },
  {
   "cell_type": "markdown",
   "id": "52878681-a412-41fb-85da-423129eb3f79",
   "metadata": {},
   "source": [
    "To make the long numbers **more readable**, you can group digits using **underscores**, like this:"
   ]
  },
  {
   "cell_type": "code",
   "execution_count": 230,
   "id": "3212e130-3652-4069-8dab-d6518e5ee472",
   "metadata": {},
   "outputs": [],
   "source": [
    "\n",
    "count = 10_000_000_000\n"
   ]
  },
  {
   "cell_type": "markdown",
   "id": "3f42772e-4288-401d-84e5-904711f5f77f",
   "metadata": {},
   "source": [
    "When storing these values, Python just **ignores** the **underscores**. It does so when displaying the numbers with underscores on the screen:"
   ]
  },
  {
   "cell_type": "code",
   "execution_count": 231,
   "id": "17aacdc5-eb64-4a0a-a1b3-681eb3a6bc04",
   "metadata": {},
   "outputs": [
    {
     "name": "stdout",
     "output_type": "stream",
     "text": [
      "10000000000\n"
     ]
    }
   ],
   "source": [
    "\n",
    "count = 10_000_000_000\n",
    "print(count)\n"
   ]
  },
  {
   "cell_type": "markdown",
   "id": "98f02856-cc5d-477d-ac98-941df29e1342",
   "metadata": {},
   "source": [
    "<br>\n",
    "\n",
    "<span style=\"background-color: #CAFEFD\"> **Note :**</span>\n",
    "\n",
    "&nbsp;&nbsp;&nbsp;&nbsp;&nbsp;&nbsp;⇒ The underscores also work for both **integers** and **floats**. <br>\n",
    "\n",
    "&nbsp;&nbsp;&nbsp;&nbsp;&nbsp;&nbsp;⇒ Use the underscores to <span style=\"color: blue;\">group</span> numbers for the **large** numbers. <br>\n",
    "\n",
    "<br>"
   ]
  },
  {
   "cell_type": "code",
   "execution_count": null,
   "id": "28eb4d36-e378-41f4-8c3c-cedbdd0b23be",
   "metadata": {},
   "outputs": [],
   "source": []
  },
  {
   "cell_type": "markdown",
   "id": "e9430592-e4ea-4930-87b5-48c9aa414339",
   "metadata": {},
   "source": [
    "<br>\n",
    "\n",
    "# <u>Boolean</u>\n",
    "\n",
    "<br>\n"
   ]
  },
  {
   "cell_type": "markdown",
   "id": "a6425487-8bee-4f6c-84e7-cf8103e9fe20",
   "metadata": {},
   "source": [
    "The boolean data type has two values: <span style=\"background-color: yellow;color: red\"><strong> True </strong></span> and  <span style=\"background-color: yellow;color: red\"><strong> False </strong></span> which start with the capital letters (<span style=\"background-color: yellow;color: red\"><strong> T </strong></span>) and (<span style=\"background-color: yellow;color: red\"><strong> F </strong></span>) respectively."
   ]
  },
  {
   "cell_type": "code",
   "execution_count": 232,
   "id": "f1c9fd40-106f-4708-961f-f9ddfdc73b97",
   "metadata": {},
   "outputs": [],
   "source": [
    "\n",
    "is_active = True\n",
    "is_admin = False\n"
   ]
  },
  {
   "cell_type": "markdown",
   "id": "69dd226d-915a-4d53-bac4-12c7a8cc38b1",
   "metadata": {},
   "source": [
    "<br>\n",
    "\n",
    "When you compare two **numbers**, Python returns the result as a boolean value. For example:"
   ]
  },
  {
   "cell_type": "code",
   "execution_count": 233,
   "id": "5137b6f3-23ea-4dcb-bb2b-52e5834afc7f",
   "metadata": {},
   "outputs": [
    {
     "name": "stdout",
     "output_type": "stream",
     "text": [
      "20 > 10 returns True\n",
      "20 < 10 returns False\n"
     ]
    }
   ],
   "source": [
    "\n",
    "print(\"20 > 10 returns\", 20 > 10)\n",
    "\n",
    "print(\"20 < 10 returns\", 20 < 10)\n"
   ]
  },
  {
   "cell_type": "markdown",
   "id": "d26f2ae2-a2a8-485c-8631-f97b5215dd9e",
   "metadata": {},
   "source": [
    "<br>\n",
    "\n",
    "Also, comparing two strings results in a boolean value:"
   ]
  },
  {
   "cell_type": "code",
   "execution_count": 234,
   "id": "88452cca-4ad0-4aa8-b2d9-2b810572b0b3",
   "metadata": {},
   "outputs": [
    {
     "name": "stdout",
     "output_type": "stream",
     "text": [
      "'a' < 'b' returns  True\n",
      "'a' > 'b' returns  False\n"
     ]
    }
   ],
   "source": [
    "\n",
    "print(\"'a' < 'b' returns \", 'a' < 'b')\n",
    "\n",
    "print(\"'a' > 'b' returns \", 'a' > 'b')\n"
   ]
  },
  {
   "cell_type": "markdown",
   "id": "a5ab83ae-bf72-46c0-85cb-b3d38b87a3be",
   "metadata": {},
   "source": [
    "<br>\n",
    "\n",
    "### 1. <span style=\"background-color: yellow;\">The bool() function</span> <br>\n",
    "\n",
    "To find out if a value is <span style=\"background-color: yellow;color: red\"><strong> True </strong></span> or <span style=\"background-color: yellow;color: red\"><strong> False </strong></span>, you use the <span style=\"color: red\"><strong> bool() </strong></span> function. For example:\n"
   ]
  },
  {
   "cell_type": "code",
   "execution_count": 235,
   "id": "296779ea-6f15-4050-a6f2-6d048dc50947",
   "metadata": {},
   "outputs": [
    {
     "data": {
      "text/plain": [
       "True"
      ]
     },
     "execution_count": 235,
     "metadata": {},
     "output_type": "execute_result"
    }
   ],
   "source": [
    "\n",
    "bool('Hi')\n"
   ]
  },
  {
   "cell_type": "code",
   "execution_count": 236,
   "id": "d11879ff-7c40-4c98-8f2d-b65537aab058",
   "metadata": {},
   "outputs": [
    {
     "data": {
      "text/plain": [
       "False"
      ]
     },
     "execution_count": 236,
     "metadata": {},
     "output_type": "execute_result"
    }
   ],
   "source": [
    "\n",
    "bool('')\n"
   ]
  },
  {
   "cell_type": "code",
   "execution_count": 238,
   "id": "7606293e-453c-4408-a1bb-19273008ffa6",
   "metadata": {},
   "outputs": [
    {
     "data": {
      "text/plain": [
       "True"
      ]
     },
     "execution_count": 238,
     "metadata": {},
     "output_type": "execute_result"
    }
   ],
   "source": [
    "\n",
    "bool(100)\n",
    "    "
   ]
  },
  {
   "cell_type": "code",
   "execution_count": 239,
   "id": "b553eba6-9a21-4b9e-be94-aff0b0d02c5f",
   "metadata": {},
   "outputs": [
    {
     "data": {
      "text/plain": [
       "False"
      ]
     },
     "execution_count": 239,
     "metadata": {},
     "output_type": "execute_result"
    }
   ],
   "source": [
    "\n",
    "bool(0)\n"
   ]
  },
  {
   "cell_type": "code",
   "execution_count": 240,
   "id": "a21cb1ed-d798-4f07-a234-5afcf182a132",
   "metadata": {},
   "outputs": [
    {
     "data": {
      "text/plain": [
       "True"
      ]
     },
     "execution_count": 240,
     "metadata": {},
     "output_type": "execute_result"
    }
   ],
   "source": [
    "\n",
    "bool(-100)\n"
   ]
  },
  {
   "cell_type": "markdown",
   "id": "2ab07ae8-2fc9-4dcd-960c-67dfa8060395",
   "metadata": {},
   "source": [
    "<br>\n",
    "\n",
    "### 2. <span style=\"background-color: yellow;\">Falsy and Truthy values</span> <br>\n",
    "\n",
    "When a value evaluates to <span style=\"background-color: yellow;color: red\"><strong> True </strong></span>, it’s **truthy**. And if a value evaluates to <span style=\"background-color: yellow;color: red\"><strong> False </strong></span>, it’s **falsy**.\n",
    "\n",
    "<br>\n",
    "\n",
    "The following are **falsy** values in Python:\n",
    "\n",
    "&nbsp;&nbsp;&nbsp;&nbsp;&nbsp;&nbsp;⇒ The number zero (<span style=\"background-color: #CAFEFD\"><strong> 0 </strong></span>) <br>\n",
    "&nbsp;&nbsp;&nbsp;&nbsp;&nbsp;&nbsp;⇒ An empty string <span style=\"background-color: #CAFEFD\"><strong> '' </strong></span> <br>\n",
    "&nbsp;&nbsp;&nbsp;&nbsp;&nbsp;&nbsp;⇒ <span style=\"background-color: #CAFEFD\"><strong> False </strong></span> <br>\n",
    "&nbsp;&nbsp;&nbsp;&nbsp;&nbsp;&nbsp;⇒ <span style=\"background-color: #CAFEFD\"><strong> None </strong></span> <br>\n",
    "&nbsp;&nbsp;&nbsp;&nbsp;&nbsp;&nbsp;⇒ An empty list <span style=\"background-color: #CAFEFD\"><strong> [] </strong></span> <br>\n",
    "&nbsp;&nbsp;&nbsp;&nbsp;&nbsp;&nbsp;⇒ An empty tuple <span style=\"background-color: #CAFEFD\"><strong> () </strong></span> <br>\n",
    "&nbsp;&nbsp;&nbsp;&nbsp;&nbsp;&nbsp;⇒ An empty dictionary <span style=\"background-color: #CAFEFD\"><strong> {} </strong></span> \n",
    "\n",
    "<br>\n",
    "\n",
    "The truthy values are the other values that aren’t falsy.\n"
   ]
  },
  {
   "cell_type": "markdown",
   "id": "ffb58578-c67a-4f79-9629-76609ef61f3a",
   "metadata": {},
   "source": [
    "<br>\n",
    "\n",
    "# <u>Constants</u>\n",
    "\n",
    "<br>\n"
   ]
  },
  {
   "cell_type": "markdown",
   "id": "8cc8866c-c9f3-4f82-b53e-f64ea3ad817d",
   "metadata": {},
   "source": [
    "Sometimes, you may want to store values in variables. But you don’t want to change these values throughout the execution of the program.\n",
    "\n",
    "The bad news is that <span style=\"color: blue\">Python doesn’t support constants</span>.\n",
    "\n",
    "To work around this, you use **all capital letters** to name a variable to indicate that the variable should be treated as a constant. For example:"
   ]
  },
  {
   "cell_type": "code",
   "execution_count": 241,
   "id": "90b4b0c5-0655-4089-bc8d-cfa9d1eed690",
   "metadata": {},
   "outputs": [],
   "source": [
    "\n",
    "FILE_SIZE_LIMIT = 2000\n"
   ]
  },
  {
   "cell_type": "markdown",
   "id": "8c413751-d25a-42a9-961f-50c447074126",
   "metadata": {},
   "source": [
    "<br>\n",
    "\n",
    "<span style=\"background-color: #CAFEFD\"> **Note :**</span>\n",
    "When encountering variables like these, you should not change their values. These variables are <span style=\"color: blue\"><strong> constant by convention </strong></span>, **not by rules**."
   ]
  },
  {
   "cell_type": "markdown",
   "id": "b3d9ded4-14ef-420c-9f2a-2e97b56a162c",
   "metadata": {},
   "source": [
    "<br>\n",
    "\n",
    "# <u>Type Conversion</u>\n",
    "\n",
    "<br>\n"
   ]
  },
  {
   "cell_type": "markdown",
   "id": "3f7f0176-cadd-4193-991c-12aede58a719",
   "metadata": {},
   "source": [
    "### 1. <span style=\"background-color: yellow;\">Introduction to type conversion in Python</span> <br>\n",
    "\n",
    "To get input from users, you use the <span style=\"background-color: yellow;color: red\"><strong> input() </strong></span> function. For example:"
   ]
  },
  {
   "cell_type": "code",
   "execution_count": 242,
   "id": "e1ab20f3-7ce3-4d14-a267-13058e7bf7e8",
   "metadata": {},
   "outputs": [
    {
     "name": "stdin",
     "output_type": "stream",
     "text": [
      "Enter a value: 2\n"
     ]
    },
    {
     "name": "stdout",
     "output_type": "stream",
     "text": [
      "You entered  2\n"
     ]
    }
   ],
   "source": [
    "\n",
    "value = input('Enter a value:')\n",
    "print(\"You entered \",value)\n"
   ]
  },
  {
   "cell_type": "markdown",
   "id": "37f15045-3495-43c9-86e7-ef51f089b68e",
   "metadata": {},
   "source": [
    "However, the <span style=\"background-color: yellow;color: red\"><strong> input() </strong></span> function <span style = \"background-color: #CAFEFD\">returns a **string**, not an integer</span>.\n",
    "\n",
    "Let's verify:"
   ]
  },
  {
   "cell_type": "code",
   "execution_count": 244,
   "id": "2829000c-7c64-4826-84c1-eb67dd638ad0",
   "metadata": {},
   "outputs": [
    {
     "name": "stdin",
     "output_type": "stream",
     "text": [
      "Enter your current salary ($):  1200000\n",
      "Enter the hike rate (%):  80\n"
     ]
    },
    {
     "ename": "TypeError",
     "evalue": "can't multiply sequence by non-int of type 'str'",
     "output_type": "error",
     "traceback": [
      "\u001b[1;31m---------------------------------------------------------------------------\u001b[0m",
      "\u001b[1;31mTypeError\u001b[0m                                 Traceback (most recent call last)",
      "Cell \u001b[1;32mIn[244], line 4\u001b[0m\n\u001b[0;32m      1\u001b[0m salary \u001b[38;5;241m=\u001b[39m \u001b[38;5;28minput\u001b[39m(\u001b[38;5;124m\"\u001b[39m\u001b[38;5;124mEnter your current salary ($): \u001b[39m\u001b[38;5;124m\"\u001b[39m)\n\u001b[0;32m      2\u001b[0m hike \u001b[38;5;241m=\u001b[39m \u001b[38;5;28minput\u001b[39m(\u001b[38;5;124m\"\u001b[39m\u001b[38;5;124mEnter the hike rate (\u001b[39m\u001b[38;5;124m%\u001b[39m\u001b[38;5;124m): \u001b[39m\u001b[38;5;124m\"\u001b[39m)\n\u001b[1;32m----> 4\u001b[0m new_salary \u001b[38;5;241m=\u001b[39m salary \u001b[38;5;241m+\u001b[39m (\u001b[43msalary\u001b[49m\u001b[43m \u001b[49m\u001b[38;5;241;43m*\u001b[39;49m\u001b[43m \u001b[49m\u001b[43mhike\u001b[49m\u001b[38;5;241m/\u001b[39m\u001b[38;5;241m100\u001b[39m)\n\u001b[0;32m      6\u001b[0m \u001b[38;5;28mprint\u001b[39m(\u001b[38;5;124mf\u001b[39m\u001b[38;5;124m\"\u001b[39m\u001b[38;5;124mYour new salary is $\u001b[39m\u001b[38;5;132;01m{\u001b[39;00mnew_salary\u001b[38;5;132;01m}\u001b[39;00m\u001b[38;5;124m\"\u001b[39m)\n",
      "\u001b[1;31mTypeError\u001b[0m: can't multiply sequence by non-int of type 'str'"
     ]
    }
   ],
   "source": [
    "\n",
    "salary = input(\"Enter your current salary ($): \")\n",
    "hike = input(\"Enter the hike rate (%): \")\n",
    "\n",
    "new_salary = salary + (salary * hike/100)\n",
    "\n",
    "print(f\"Your new salary is ${new_salary}\")\n"
   ]
  },
  {
   "cell_type": "markdown",
   "id": "7f6def76-6eeb-4bac-9f09-6a8b060ad518",
   "metadata": {},
   "source": [
    "<br>\n",
    "\n",
    "<span style=\"color: blue\">Since the input values are **strings**, you cannot apply the **multiply** operator.</span>\n",
    "\n",
    "To solve this issue, you need to **convert the strings to numbers** before performing calculations.\n",
    "\n",
    "<span style=\"background-color: #CAFEFD\"> **Note :**</span> The <span style=\"background-color: yellow;color: red\"><strong> float() </strong></span> function converts a string to a float."
   ]
  },
  {
   "cell_type": "code",
   "execution_count": 245,
   "id": "b75b09e1-15ad-4b5e-9669-dece593e5893",
   "metadata": {},
   "outputs": [
    {
     "name": "stdin",
     "output_type": "stream",
     "text": [
      "Enter your current salary ($):  1200000\n",
      "Enter the hike rate (%):  80\n"
     ]
    },
    {
     "name": "stdout",
     "output_type": "stream",
     "text": [
      "Your new salary is $2160000.0\n"
     ]
    }
   ],
   "source": [
    "\n",
    "salary = input(\"Enter your current salary ($): \")\n",
    "hike = input(\"Enter the hike rate (%): \")\n",
    "\n",
    "new_salary = float(salary) + (float(salary) * float(hike)/100)\n",
    "\n",
    "print(f\"Your new salary is ${new_salary}\")\n"
   ]
  },
  {
   "cell_type": "code",
   "execution_count": 246,
   "id": "a0a912d1-cf72-4f1b-9a00-ffa451b87596",
   "metadata": {},
   "outputs": [
    {
     "name": "stdin",
     "output_type": "stream",
     "text": [
      "Enter your current salary ($):  1200000\n",
      "Enter the hike rate (%):  80\n"
     ]
    },
    {
     "name": "stdout",
     "output_type": "stream",
     "text": [
      "Your new salary is $2160000.0\n"
     ]
    }
   ],
   "source": [
    "\n",
    "# Instead of converting the input type so many times in an expression, we can convert it right away in the begining itself:\n",
    "\n",
    "salary = float(input(\"Enter your current salary ($): \"))\n",
    "hike = float(input(\"Enter the hike rate (%): \"))\n",
    "\n",
    "new_salary = salary + (salary * hike / 100)\n",
    "\n",
    "print(f\"Your new salary is ${new_salary}\")\n"
   ]
  },
  {
   "cell_type": "markdown",
   "id": "3763b8cf-cc8c-4038-80f5-85334335daaa",
   "metadata": {},
   "source": [
    "<br>\n",
    "\n",
    "### 2. <span style=\"background-color: yellow;\">Type conversion functions</span> <br>\n",
    "\n",
    "&nbsp;&nbsp;&nbsp;&nbsp;&nbsp;&nbsp;Most important ones:\n",
    "\n",
    "\n",
    "&nbsp;&nbsp;&nbsp;&nbsp;&nbsp;&nbsp;⇒ <span style=\"background-color: yellow;color: red\"><strong> int( </strong></span><span style=\"color: blue\">**str**</span><span style=\"background-color: yellow;color: red\"><strong> ) </strong></span> – convert a string to an integer. <br>\n",
    "\n",
    "&nbsp;&nbsp;&nbsp;&nbsp;&nbsp;&nbsp;⇒ <span style=\"background-color: yellow;color: red\"><strong> float( </strong></span><span style=\"color: blue\">**str**</span><span style=\"background-color: yellow;color: red\"><strong> ) </strong></span> – convert a string to a floating-point number. <br>\n",
    "\n",
    "&nbsp;&nbsp;&nbsp;&nbsp;&nbsp;&nbsp;⇒ <span style=\"background-color: yellow;color: red\"><strong> bool( </strong></span><span style=\"color: blue\">**val**</span><span style=\"background-color: yellow;color: red\"><strong> ) </strong></span> - convert a value to a boolean value, either True or False. <br>\n",
    "\n",
    "&nbsp;&nbsp;&nbsp;&nbsp;&nbsp;&nbsp;⇒ <span style=\"background-color: yellow;color: red\"><strong> str( </strong></span><span style=\"color: blue\">**val**</span><span style=\"background-color: yellow;color: red\"><strong> ) </strong></span> - return the string representation of a value. <br>\n",
    "\n",
    "<br>\n",
    "\n"
   ]
  },
  {
   "cell_type": "code",
   "execution_count": 247,
   "id": "388f80c6-a6c3-473c-a889-7a814d611acd",
   "metadata": {},
   "outputs": [
    {
     "data": {
      "text/plain": [
       "10"
      ]
     },
     "execution_count": 247,
     "metadata": {},
     "output_type": "execute_result"
    }
   ],
   "source": [
    "\n",
    "int(\"10\")\n"
   ]
  },
  {
   "cell_type": "code",
   "execution_count": 248,
   "id": "950e5828-b4a6-4001-8674-66db3c96e815",
   "metadata": {},
   "outputs": [
    {
     "data": {
      "text/plain": [
       "10"
      ]
     },
     "execution_count": 248,
     "metadata": {},
     "output_type": "execute_result"
    }
   ],
   "source": [
    "\n",
    "int(10.5)\n"
   ]
  },
  {
   "cell_type": "code",
   "execution_count": 249,
   "id": "ab8d95c9-e57b-49f1-96b1-69c3fadf7e98",
   "metadata": {},
   "outputs": [
    {
     "ename": "ValueError",
     "evalue": "invalid literal for int() with base 10: '10.5'",
     "output_type": "error",
     "traceback": [
      "\u001b[1;31m---------------------------------------------------------------------------\u001b[0m",
      "\u001b[1;31mValueError\u001b[0m                                Traceback (most recent call last)",
      "Cell \u001b[1;32mIn[249], line 3\u001b[0m\n\u001b[0;32m      1\u001b[0m \u001b[38;5;66;03m# ValueError: invalid literal for int() with base 10: '10.5'\u001b[39;00m\n\u001b[1;32m----> 3\u001b[0m \u001b[38;5;28;43mint\u001b[39;49m\u001b[43m(\u001b[49m\u001b[38;5;124;43m\"\u001b[39;49m\u001b[38;5;124;43m10.5\u001b[39;49m\u001b[38;5;124;43m\"\u001b[39;49m\u001b[43m)\u001b[49m\n",
      "\u001b[1;31mValueError\u001b[0m: invalid literal for int() with base 10: '10.5'"
     ]
    }
   ],
   "source": [
    "\n",
    "# ValueError: invalid literal for int() with base 10: '10.5'\n",
    "\n",
    "int(\"10.5\")\n"
   ]
  },
  {
   "cell_type": "code",
   "execution_count": 250,
   "id": "05051887-5195-4a5d-8f90-27b4f591b41b",
   "metadata": {},
   "outputs": [
    {
     "ename": "ValueError",
     "evalue": "invalid literal for int() with base 10: 'ten'",
     "output_type": "error",
     "traceback": [
      "\u001b[1;31m---------------------------------------------------------------------------\u001b[0m",
      "\u001b[1;31mValueError\u001b[0m                                Traceback (most recent call last)",
      "Cell \u001b[1;32mIn[250], line 3\u001b[0m\n\u001b[0;32m      1\u001b[0m \u001b[38;5;66;03m# ValueError: invalid literal for int() with base 10: 'ten'\u001b[39;00m\n\u001b[1;32m----> 3\u001b[0m \u001b[38;5;28;43mint\u001b[39;49m\u001b[43m(\u001b[49m\u001b[38;5;124;43m\"\u001b[39;49m\u001b[38;5;124;43mten\u001b[39;49m\u001b[38;5;124;43m\"\u001b[39;49m\u001b[43m)\u001b[49m\n",
      "\u001b[1;31mValueError\u001b[0m: invalid literal for int() with base 10: 'ten'"
     ]
    }
   ],
   "source": [
    "\n",
    "# ValueError: invalid literal for int() with base 10: 'ten'\n",
    "\n",
    "int(\"ten\")\n"
   ]
  },
  {
   "cell_type": "code",
   "execution_count": 251,
   "id": "15d831f7-ea6e-46ab-b80d-ed160041c07c",
   "metadata": {},
   "outputs": [
    {
     "data": {
      "text/plain": [
       "10.0"
      ]
     },
     "execution_count": 251,
     "metadata": {},
     "output_type": "execute_result"
    }
   ],
   "source": [
    "\n",
    "float(10)\n"
   ]
  },
  {
   "cell_type": "code",
   "execution_count": 252,
   "id": "79e18b98-0614-447d-8905-033860b66934",
   "metadata": {},
   "outputs": [
    {
     "data": {
      "text/plain": [
       "10.0"
      ]
     },
     "execution_count": 252,
     "metadata": {},
     "output_type": "execute_result"
    }
   ],
   "source": [
    "\n",
    "float(\"10\")\n"
   ]
  },
  {
   "cell_type": "code",
   "execution_count": 253,
   "id": "f3a9a586-ace5-41ec-88da-4c15008840b2",
   "metadata": {},
   "outputs": [
    {
     "data": {
      "text/plain": [
       "10.5"
      ]
     },
     "execution_count": 253,
     "metadata": {},
     "output_type": "execute_result"
    }
   ],
   "source": [
    "\n",
    "float(\"10.5\")\n"
   ]
  },
  {
   "cell_type": "code",
   "execution_count": 254,
   "id": "5cb1a836-665f-4289-8a61-1df0c2567f84",
   "metadata": {},
   "outputs": [
    {
     "ename": "ValueError",
     "evalue": "could not convert string to float: 'ten'",
     "output_type": "error",
     "traceback": [
      "\u001b[1;31m---------------------------------------------------------------------------\u001b[0m",
      "\u001b[1;31mValueError\u001b[0m                                Traceback (most recent call last)",
      "Cell \u001b[1;32mIn[254], line 1\u001b[0m\n\u001b[1;32m----> 1\u001b[0m \u001b[38;5;28;43mfloat\u001b[39;49m\u001b[43m(\u001b[49m\u001b[38;5;124;43m\"\u001b[39;49m\u001b[38;5;124;43mten\u001b[39;49m\u001b[38;5;124;43m\"\u001b[39;49m\u001b[43m)\u001b[49m\n",
      "\u001b[1;31mValueError\u001b[0m: could not convert string to float: 'ten'"
     ]
    }
   ],
   "source": [
    "\n",
    "float(\"ten\")\n"
   ]
  },
  {
   "cell_type": "code",
   "execution_count": 255,
   "id": "da70d780-1f7a-47b3-9ae3-43617c6712ba",
   "metadata": {},
   "outputs": [
    {
     "data": {
      "text/plain": [
       "True"
      ]
     },
     "execution_count": 255,
     "metadata": {},
     "output_type": "execute_result"
    }
   ],
   "source": [
    "\n",
    "bool(4)\n"
   ]
  },
  {
   "cell_type": "code",
   "execution_count": 256,
   "id": "8d61725c-35dc-43c8-9baf-33c07695ce75",
   "metadata": {},
   "outputs": [
    {
     "data": {
      "text/plain": [
       "True"
      ]
     },
     "execution_count": 256,
     "metadata": {},
     "output_type": "execute_result"
    }
   ],
   "source": [
    "\n",
    "bool(\"4\")\n"
   ]
  },
  {
   "cell_type": "code",
   "execution_count": 257,
   "id": "f2647376-366d-4f0c-a84a-a8337fb4d96f",
   "metadata": {},
   "outputs": [
    {
     "data": {
      "text/plain": [
       "False"
      ]
     },
     "execution_count": 257,
     "metadata": {},
     "output_type": "execute_result"
    }
   ],
   "source": [
    "\n",
    "bool(\"\")\n"
   ]
  },
  {
   "cell_type": "code",
   "execution_count": 258,
   "id": "01c29edc-8f6a-4b4f-8e71-fe23193d43ef",
   "metadata": {},
   "outputs": [
    {
     "data": {
      "text/plain": [
       "False"
      ]
     },
     "execution_count": 258,
     "metadata": {},
     "output_type": "execute_result"
    }
   ],
   "source": [
    "\n",
    "bool([])\n"
   ]
  },
  {
   "cell_type": "code",
   "execution_count": 259,
   "id": "8dae2944-60c2-4c0b-8a55-08f73d649f79",
   "metadata": {},
   "outputs": [
    {
     "data": {
      "text/plain": [
       "False"
      ]
     },
     "execution_count": 259,
     "metadata": {},
     "output_type": "execute_result"
    }
   ],
   "source": [
    "\n",
    "bool({})\n"
   ]
  },
  {
   "cell_type": "code",
   "execution_count": null,
   "id": "ec45c113-51d0-4fd2-a388-8934c93e9540",
   "metadata": {},
   "outputs": [],
   "source": []
  },
  {
   "cell_type": "markdown",
   "id": "d256c1e3-7920-41fc-8db6-8eaf57b04970",
   "metadata": {},
   "source": [
    "<br>\n",
    "\n",
    "\n",
    "================================================================================================================\n",
    "<br>\n",
    "\n",
    "<br>\n",
    "\n",
    "<span style=\"background-color: yellow;color: red\"><strong> int( </strong></span><span style=\"color: blue\">**str**</span><span style=\"background-color: yellow;color: red\"><strong> ) </strong></span>\n",
    "\n",
    "<br>"
   ]
  },
  {
   "cell_type": "code",
   "execution_count": 260,
   "id": "368d506a-8bab-495d-aa8f-5890a361d92d",
   "metadata": {},
   "outputs": [
    {
     "name": "stdout",
     "output_type": "stream",
     "text": [
      "3\n"
     ]
    },
    {
     "ename": "ValueError",
     "evalue": "invalid literal for int() with base 10: 'five'",
     "output_type": "error",
     "traceback": [
      "\u001b[1;31m---------------------------------------------------------------------------\u001b[0m",
      "\u001b[1;31mValueError\u001b[0m                                Traceback (most recent call last)",
      "Cell \u001b[1;32mIn[260], line 6\u001b[0m\n\u001b[0;32m      2\u001b[0m \u001b[38;5;28mprint\u001b[39m(\u001b[38;5;28mint\u001b[39m(\u001b[38;5;241m3.14\u001b[39m))                      \u001b[38;5;66;03m# Output: 3\u001b[39;00m\n\u001b[0;32m      5\u001b[0m \u001b[38;5;66;03m# convert a STRING to an INTEGER\u001b[39;00m\n\u001b[1;32m----> 6\u001b[0m \u001b[38;5;28mprint\u001b[39m(\u001b[38;5;28;43mint\u001b[39;49m\u001b[43m(\u001b[49m\u001b[38;5;124;43m'\u001b[39;49m\u001b[38;5;124;43mfive\u001b[39;49m\u001b[38;5;124;43m'\u001b[39;49m\u001b[43m)\u001b[49m)                    \u001b[38;5;66;03m# ValueError: invalid literal for int() with base 10: 'five'\u001b[39;00m\n\u001b[0;32m      7\u001b[0m \u001b[38;5;28mprint\u001b[39m(\u001b[38;5;28mint\u001b[39m(\u001b[38;5;124m\"\u001b[39m\u001b[38;5;124m5\u001b[39m\u001b[38;5;124m\"\u001b[39m))                       \u001b[38;5;66;03m# Output: 5\u001b[39;00m\n\u001b[0;32m     10\u001b[0m \u001b[38;5;66;03m# convert a BOOLEAN to an INTEGER\u001b[39;00m\n",
      "\u001b[1;31mValueError\u001b[0m: invalid literal for int() with base 10: 'five'"
     ]
    }
   ],
   "source": [
    "\n",
    "# convert a FLOAT to an INTEGER\n",
    "print(int(3.14))                      # Output: 3\n",
    "\n",
    "\n",
    "# convert a STRING to an INTEGER\n",
    "print(int('five'))                    # ValueError: invalid literal for int() with base 10: 'five'\n",
    "print(int(\"5\"))                       # Output: 5\n",
    "\n",
    "\n",
    "# convert a BOOLEAN to an INTEGER\n",
    "print(int(True))                      # Output: 1\n",
    "\n",
    "\n",
    "# convert a LIST to an INTEGER\n",
    "print(int([1,2,3]))                   # Output: TypeError: int() argument must be a string, a bytes-like object or a real number, not 'list'\n",
    "\n",
    "\n",
    "# convert an INTEGER to an INTEGER\n",
    "print(int(10))                        # Output: 10\n"
   ]
  },
  {
   "cell_type": "markdown",
   "id": "989e435f-4a0a-4924-a802-a0846b10ae18",
   "metadata": {},
   "source": [
    "<br>\n",
    "\n",
    "<br>\n",
    "\n",
    "<span style=\"background-color: #CAFEFD\"> However, it's important to note that if you **overwrite** the built-in '<span style=\"background-color: #CAFEFD;color: red\">**int**</span>' function with some value (**assigned to a variable named '<span style=\"background-color: #CAFEFD;color: red\">int</span>'**), you might encounter a '<span style=\"background-color: yellow;color: red\">**TypeError**</span>' when trying to call '<span style=\"background-color: #CAFEFD;color: red\">**int()**</span>.'</span>\n",
    "\n",
    "For Example:\n"
   ]
  },
  {
   "cell_type": "code",
   "execution_count": 261,
   "id": "cb805e8d-f751-4cee-9c49-c41564feab8e",
   "metadata": {},
   "outputs": [],
   "source": [
    "int = 5"
   ]
  },
  {
   "cell_type": "markdown",
   "id": "18a27a44-e09c-493f-bb66-c223333a1499",
   "metadata": {},
   "source": [
    "<br>\n",
    "\n",
    "As soon as the Python Interpreter interprets the **data type** of the value <span style=\"color: red\">**5**</span> assigned, it first creates an <span style=\"background-color: yellow\">**int object** (inside a portion of the RAM allocated for the **HEAP**) holding the value <span style=\"color: red\">**5**</span></span> and then creates a <span style=\"background-color: yellow\">**variable** (inside another portion of the RAM allocated for the **STACK**) with the name <span style=\"color: blue\"> **int** </span> for holding the <span style=\"color: red\">**address**</span> of this **int object**</span>.\n",
    "\n",
    "<br>\n"
   ]
  },
  {
   "cell_type": "code",
   "execution_count": 262,
   "id": "ed15abf7-f950-4fe1-8fd6-0ee26b0cd653",
   "metadata": {},
   "outputs": [
    {
     "ename": "TypeError",
     "evalue": "'int' object is not callable",
     "output_type": "error",
     "traceback": [
      "\u001b[1;31m---------------------------------------------------------------------------\u001b[0m",
      "\u001b[1;31mTypeError\u001b[0m                                 Traceback (most recent call last)",
      "Cell \u001b[1;32mIn[262], line 2\u001b[0m\n\u001b[0;32m      1\u001b[0m \u001b[38;5;66;03m# convert a FLOAT to an INTEGER\u001b[39;00m\n\u001b[1;32m----> 2\u001b[0m \u001b[38;5;28mprint\u001b[39m(\u001b[38;5;28;43mint\u001b[39;49m\u001b[43m(\u001b[49m\u001b[38;5;241;43m3.14\u001b[39;49m\u001b[43m)\u001b[49m)                     \u001b[38;5;66;03m# TypeError: 'int' object is not callable\u001b[39;00m\n\u001b[0;32m      5\u001b[0m \u001b[38;5;66;03m# convert a STRING to an INTEGER\u001b[39;00m\n\u001b[0;32m      6\u001b[0m \u001b[38;5;28mprint\u001b[39m(\u001b[38;5;28mint\u001b[39m(\u001b[38;5;124m'\u001b[39m\u001b[38;5;124mfive\u001b[39m\u001b[38;5;124m'\u001b[39m))                   \u001b[38;5;66;03m# TypeError: 'int' object is not callable\u001b[39;00m\n",
      "\u001b[1;31mTypeError\u001b[0m: 'int' object is not callable"
     ]
    }
   ],
   "source": [
    "\n",
    "# convert a FLOAT to an INTEGER\n",
    "print(int(3.14))                     # TypeError: 'int' object is not callable\n",
    "\n",
    "\n",
    "# convert a STRING to an INTEGER\n",
    "print(int('five'))                   # TypeError: 'int' object is not callable\n",
    "print(int(\"5\"))                      # TypeError: 'int' object is not callable\n",
    "\n",
    "\n",
    "# convert a BOOLEAN to an INTEGER\n",
    "print(int(True))                     # TypeError: 'int' object is not callable\n",
    "\n",
    "\n",
    "# convert a LIST to an INTEGER\n",
    "print(int([1,2,3]))                  # TypeError: 'int' object is not callable\n",
    "\n",
    "\n",
    "# convert an INTEGER to an INTEGER\n",
    "print(int(10))                       # TypeError: 'int' object is not callable          # even FLOAT ⇒ FLOAT throws error\n"
   ]
  },
  {
   "cell_type": "code",
   "execution_count": null,
   "id": "62226bdb-9c00-4152-9d68-8b37631f3972",
   "metadata": {},
   "outputs": [],
   "source": []
  },
  {
   "cell_type": "markdown",
   "id": "38c268d4-b236-4dc3-95c8-1ae98af13bbe",
   "metadata": {},
   "source": [
    "<br>\n",
    "\n",
    "\n",
    "================================================================================================================\n",
    "<br>\n",
    "\n",
    "<br>\n",
    "\n",
    "<span style=\"background-color: yellow;color: red\"><strong> float( </strong></span><span style=\"color: blue\">**str**</span><span style=\"background-color: yellow;color: red\"><strong> ) </strong></span>\n",
    "\n",
    "<br>"
   ]
  },
  {
   "cell_type": "code",
   "execution_count": 263,
   "id": "3867e6a0-ba23-45ac-9592-0d4bf47a787a",
   "metadata": {},
   "outputs": [
    {
     "name": "stdout",
     "output_type": "stream",
     "text": [
      "4.0\n"
     ]
    },
    {
     "ename": "ValueError",
     "evalue": "could not convert string to float: 'three point one four'",
     "output_type": "error",
     "traceback": [
      "\u001b[1;31m---------------------------------------------------------------------------\u001b[0m",
      "\u001b[1;31mValueError\u001b[0m                                Traceback (most recent call last)",
      "Cell \u001b[1;32mIn[263], line 6\u001b[0m\n\u001b[0;32m      2\u001b[0m \u001b[38;5;28mprint\u001b[39m(\u001b[38;5;28mfloat\u001b[39m(\u001b[38;5;241m4\u001b[39m))                        \u001b[38;5;66;03m# Output: 4.0\u001b[39;00m\n\u001b[0;32m      5\u001b[0m \u001b[38;5;66;03m# convert a STRING to a FLOAT\u001b[39;00m\n\u001b[1;32m----> 6\u001b[0m \u001b[38;5;28mprint\u001b[39m(\u001b[38;5;28;43mfloat\u001b[39;49m\u001b[43m(\u001b[49m\u001b[38;5;124;43m'\u001b[39;49m\u001b[38;5;124;43mthree point one four\u001b[39;49m\u001b[38;5;124;43m'\u001b[39;49m\u001b[43m)\u001b[49m)   \u001b[38;5;66;03m# ValueError: could not convert string to float: 'three point one four'\u001b[39;00m\n\u001b[0;32m      7\u001b[0m \u001b[38;5;28mprint\u001b[39m(\u001b[38;5;28mfloat\u001b[39m(\u001b[38;5;124m\"\u001b[39m\u001b[38;5;124m3.14\u001b[39m\u001b[38;5;124m\"\u001b[39m))                   \u001b[38;5;66;03m# Output: 3.14\u001b[39;00m\n\u001b[0;32m     10\u001b[0m \u001b[38;5;66;03m# convert a BOOLEAN to a FLOAT\u001b[39;00m\n",
      "\u001b[1;31mValueError\u001b[0m: could not convert string to float: 'three point one four'"
     ]
    }
   ],
   "source": [
    "\n",
    "# convert an INTEGER to a FLOAT\n",
    "print(float(4))                        # Output: 4.0\n",
    "\n",
    "\n",
    "# convert a STRING to a FLOAT\n",
    "print(float('three point one four'))   # ValueError: could not convert string to float: 'three point one four'\n",
    "print(float(\"3.14\"))                   # Output: 3.14\n",
    "\n",
    "\n",
    "# convert a BOOLEAN to a FLOAT\n",
    "print(float(True))                      # Output: 1.0\n",
    "\n",
    "\n",
    "# convert a LIST to a FLOAT\n",
    "print(float([1,2,3]))                  # TypeError: float() argument must be a string or a real number, not 'list'\n",
    "\n",
    "\n",
    "# convert a FLOAT to a FLOAT\n",
    "print(float(3.14))                     # Output: 3.14\n"
   ]
  },
  {
   "cell_type": "markdown",
   "id": "52600595-a6e5-48b4-9418-f3ed88092472",
   "metadata": {},
   "source": [
    "<br>\n",
    "\n",
    "<br>\n",
    "\n",
    "<span style=\"background-color: #CAFEFD\"> Now if you try to **overwrite** the built-in '<span style=\"background-color: #CAFEFD;color: red\">**float**</span>' function with some value (**assigned to a variable named '<span style=\"background-color: #CAFEFD;color: red\">float</span>'**), you might encounter a '<span style=\"background-color: yellow;color: red\">**TypeError**</span>' when trying to call '<span style=\"background-color: #CAFEFD;color: red\">**float()**</span>.'</span>\n",
    "\n",
    "For Example:\n"
   ]
  },
  {
   "cell_type": "code",
   "execution_count": 264,
   "id": "5611b894-ff21-466f-acc9-f8883e8c7211",
   "metadata": {},
   "outputs": [],
   "source": [
    "float = 3.14"
   ]
  },
  {
   "cell_type": "markdown",
   "id": "65e91209-16bb-46dc-b806-2e7891ff9095",
   "metadata": {},
   "source": [
    "<br>\n",
    "\n",
    "As soon as the Python Interpreter interprets the **data type** of the value <span style=\"color: red\">**3.14**</span> assigned, it first creates an <span style=\"background-color: yellow\">**int object** (inside a portion of the RAM allocated for the **HEAP**) holding the value <span style=\"color: red\">**3.14**</span></span> and then creates a <span style=\"background-color: yellow\">**variable** (inside another portion of the RAM allocated for the **STACK**) with the name <span style=\"color: blue\"> **float** </span> for holding the <span style=\"color: red\">**address**</span> of this **int object**</span>.\n",
    "\n",
    "<br>\n"
   ]
  },
  {
   "cell_type": "code",
   "execution_count": 265,
   "id": "32cef53a-6824-4dc8-9b51-36ac9f0f3f53",
   "metadata": {},
   "outputs": [
    {
     "ename": "TypeError",
     "evalue": "'float' object is not callable",
     "output_type": "error",
     "traceback": [
      "\u001b[1;31m---------------------------------------------------------------------------\u001b[0m",
      "\u001b[1;31mTypeError\u001b[0m                                 Traceback (most recent call last)",
      "Cell \u001b[1;32mIn[265], line 2\u001b[0m\n\u001b[0;32m      1\u001b[0m \u001b[38;5;66;03m# convert an INTEGER to a FLOAT\u001b[39;00m\n\u001b[1;32m----> 2\u001b[0m \u001b[38;5;28mprint\u001b[39m(\u001b[38;5;28;43mfloat\u001b[39;49m\u001b[43m(\u001b[49m\u001b[38;5;241;43m4\u001b[39;49m\u001b[43m)\u001b[49m)                        \u001b[38;5;66;03m# TypeError: 'float' object is not callable\u001b[39;00m\n\u001b[0;32m      5\u001b[0m \u001b[38;5;66;03m# convert a STRING to a FLOAT\u001b[39;00m\n\u001b[0;32m      6\u001b[0m \u001b[38;5;28mprint\u001b[39m(\u001b[38;5;28mfloat\u001b[39m(\u001b[38;5;124m'\u001b[39m\u001b[38;5;124mthree point one four\u001b[39m\u001b[38;5;124m'\u001b[39m))   \u001b[38;5;66;03m# TypeError: 'float' object is not callable\u001b[39;00m\n",
      "\u001b[1;31mTypeError\u001b[0m: 'float' object is not callable"
     ]
    }
   ],
   "source": [
    "\n",
    "# convert an INTEGER to a FLOAT\n",
    "print(float(4))                        # TypeError: 'float' object is not callable\n",
    "\n",
    "\n",
    "# convert a STRING to a FLOAT\n",
    "print(float('three point one four'))   # TypeError: 'float' object is not callable\n",
    "print(float(\"3.14\"))                   # TypeError: 'float' object is not callable\n",
    "\n",
    "\n",
    "# convert a BOOLEAN to a FLOAT\n",
    "print(float(True))                    # TypeError: 'float' object is not callable\n",
    "\n",
    "\n",
    "# convert a LIST to a FLOAT\n",
    "print(float([1,2,3]))                  # TypeError: 'float' object is not callable\n",
    "\n",
    "\n",
    "# convert a FLOAT to a FLOAT\n",
    "print(float(3.14))                     # TypeError: 'float' object is not callable          # even FLOAT ⇒ FLOAT throws error\n"
   ]
  },
  {
   "cell_type": "code",
   "execution_count": null,
   "id": "3372ac5d-d768-42a4-a137-e0bf2e74eec6",
   "metadata": {},
   "outputs": [],
   "source": []
  },
  {
   "cell_type": "markdown",
   "id": "857b4189-c412-4f99-9762-ffbe1b4dbb60",
   "metadata": {},
   "source": [
    "<br>\n",
    "\n",
    "\n",
    "================================================================================================================\n",
    "<br>\n",
    "\n",
    "<br>\n",
    "\n",
    "<span style=\"background-color: yellow;color: red\"><strong> bool( </strong></span><span style=\"color: blue\">**val**</span><span style=\"background-color: yellow;color: red\"><strong> ) </strong></span>\n",
    "\n",
    "<br>"
   ]
  },
  {
   "cell_type": "code",
   "execution_count": 266,
   "id": "4ab5ff6d-c133-46d8-87d8-c218ae5a3dfc",
   "metadata": {},
   "outputs": [
    {
     "name": "stdout",
     "output_type": "stream",
     "text": [
      "True\n",
      "True\n",
      "True\n",
      "True\n",
      "True\n",
      "True\n",
      "False\n"
     ]
    }
   ],
   "source": [
    "\n",
    "# convert an INTEGER to a BOOLEAN\n",
    "print(bool(4))                       # Output: True          # Because 4 is a truthy value\n",
    "\n",
    "\n",
    "# convert a FLOAT to a BOOLEAN\n",
    "print(bool(3.14))                    # Output: True          # Because 3.14 is a truthy value\n",
    "\n",
    "\n",
    "# convert a STRING to a BOOLEAN\n",
    "print(bool('true'))                  # Output: True          # Because 'true' is a truthy value\n",
    "print(bool('false'))                 # Output: True          # Because 'false' is a truthy value\n",
    "print(bool('Data Engineering'))      # Output: True          # Because 'Data Engineering' is a truthy value\n",
    "\n",
    "\n",
    "# convert a LIST to a BOOLEAN\n",
    "print(bool([1,2,3]))                 # Output: True          # Because [1,2,3] is a truthy value\n",
    "\n",
    "\n",
    "# convert a BOOLEAN to a BOOLEAN\n",
    "print(bool(False))                   # Output: False         # Because False is a falsy value\n"
   ]
  },
  {
   "cell_type": "markdown",
   "id": "4a258ab5-8632-4e7e-9995-bc0d0f85439a",
   "metadata": {},
   "source": [
    "<br>\n",
    "\n",
    "<br>\n",
    "\n",
    "<span style=\"background-color: #CAFEFD\"> Now if you try to **overwrite** the built-in '<span style=\"background-color: #CAFEFD;color: red\">**bool**</span>' function with some value (**assigned to a variable named '<span style=\"background-color: #CAFEFD;color: red\">bool</span>'**), you might encounter a '<span style=\"background-color: yellow;color: red\">**TypeError**</span>' when trying to call '<span style=\"background-color: #CAFEFD;color: red\">**bool()**</span>.'</span>\n",
    "\n",
    "For Example:\n"
   ]
  },
  {
   "cell_type": "code",
   "execution_count": 267,
   "id": "3db1c78a-4b6a-411d-8729-c2938dfec177",
   "metadata": {},
   "outputs": [],
   "source": [
    "\n",
    "bool = True\n"
   ]
  },
  {
   "cell_type": "markdown",
   "id": "a94f8d65-7359-4512-acbb-e788c695642b",
   "metadata": {},
   "source": [
    "<br>\n",
    "\n",
    "As soon as the Python Interpreter interprets the **data type** of the value <span style=\"color: red\">**True**</span> assigned, it first creates an <span style=\"background-color: yellow\">**int object** (inside a portion of the RAM allocated for the **HEAP**) holding the value <span style=\"color: red\">**True**</span></span> and then creates a <span style=\"background-color: yellow\">**variable** (inside another portion of the RAM allocated for the **STACK**) with the name <span style=\"color: blue\"> **bool** </span> for holding the <span style=\"color: red\">**address**</span> of this **int object**</span>.\n",
    "\n",
    "<br>\n",
    "\n"
   ]
  },
  {
   "cell_type": "code",
   "execution_count": 268,
   "id": "b58c1152-7c5f-44ce-9bb7-2e4ce1176899",
   "metadata": {},
   "outputs": [
    {
     "ename": "TypeError",
     "evalue": "'bool' object is not callable",
     "output_type": "error",
     "traceback": [
      "\u001b[1;31m---------------------------------------------------------------------------\u001b[0m",
      "\u001b[1;31mTypeError\u001b[0m                                 Traceback (most recent call last)",
      "Cell \u001b[1;32mIn[268], line 2\u001b[0m\n\u001b[0;32m      1\u001b[0m \u001b[38;5;66;03m# convert an INTEGER to a BOOLEAN\u001b[39;00m\n\u001b[1;32m----> 2\u001b[0m \u001b[38;5;28mprint\u001b[39m(\u001b[38;5;28;43mbool\u001b[39;49m\u001b[43m(\u001b[49m\u001b[38;5;241;43m4\u001b[39;49m\u001b[43m)\u001b[49m)                        \u001b[38;5;66;03m# TypeError: 'bool' object is not callable\u001b[39;00m\n\u001b[0;32m      5\u001b[0m \u001b[38;5;66;03m# convert a FLOAT to a BOOLEAN\u001b[39;00m\n\u001b[0;32m      6\u001b[0m \u001b[38;5;28mprint\u001b[39m(\u001b[38;5;28mbool\u001b[39m(\u001b[38;5;241m3.14\u001b[39m))                     \u001b[38;5;66;03m# TypeError: 'bool' object is not callable\u001b[39;00m\n",
      "\u001b[1;31mTypeError\u001b[0m: 'bool' object is not callable"
     ]
    }
   ],
   "source": [
    "\n",
    "# convert an INTEGER to a BOOLEAN\n",
    "print(bool(4))                        # TypeError: 'bool' object is not callable\n",
    "\n",
    "\n",
    "# convert a FLOAT to a BOOLEAN\n",
    "print(bool(3.14))                     # TypeError: 'bool' object is not callable\n",
    "\n",
    "\n",
    "# convert a STRING to a BOOLEAN\n",
    "print(bool('true'))                   # TypeError: 'bool' object is not callable\n",
    "print(bool('false'))                  # TypeError: 'bool' object is not callable\n",
    "print(bool('Data Engineering'))       # TypeError: 'bool' object is not callable  \n",
    "\n",
    "\n",
    "# convert a LIST to a BOOLEAN\n",
    "print(bool([1,2,3]))                  # TypeError: 'bool' object is not callable\n",
    "\n",
    "\n",
    "# convert a BOOLEAN to a BOOLEAN\n",
    "print(bool(False))                    # TypeError: 'bool' object is not callable          # even BOOLEAN ⇒ BOOLEAN throws error\n"
   ]
  },
  {
   "cell_type": "code",
   "execution_count": null,
   "id": "f6b5a521-0f78-4466-aacf-98c3320cdc48",
   "metadata": {},
   "outputs": [],
   "source": []
  },
  {
   "cell_type": "markdown",
   "id": "27ba5d28-6dc7-4879-9e0e-4bd568739949",
   "metadata": {},
   "source": [
    "<br>\n",
    "\n",
    "\n",
    "================================================================================================================\n",
    "<br>\n",
    "\n",
    "<br>\n",
    "\n",
    "<span style=\"background-color: yellow;color: red\"><strong> str( </strong></span><span style=\"color: blue\">**val**</span><span style=\"background-color: yellow;color: red\"><strong> ) </strong></span>\n",
    "\n",
    "<br>\n"
   ]
  },
  {
   "cell_type": "code",
   "execution_count": 269,
   "id": "fdecb1e3-43d1-42cd-82d8-a57b5cce8e33",
   "metadata": {},
   "outputs": [
    {
     "ename": "TypeError",
     "evalue": "'str' object is not callable",
     "output_type": "error",
     "traceback": [
      "\u001b[1;31m---------------------------------------------------------------------------\u001b[0m",
      "\u001b[1;31mTypeError\u001b[0m                                 Traceback (most recent call last)",
      "Cell \u001b[1;32mIn[269], line 2\u001b[0m\n\u001b[0;32m      1\u001b[0m \u001b[38;5;66;03m# convert an INTEGER to a STRING\u001b[39;00m\n\u001b[1;32m----> 2\u001b[0m \u001b[38;5;28mprint\u001b[39m(\u001b[38;5;28;43mstr\u001b[39;49m\u001b[43m(\u001b[49m\u001b[38;5;241;43m4\u001b[39;49m\u001b[43m)\u001b[49m)                            \u001b[38;5;66;03m# Output: 4\u001b[39;00m\n\u001b[0;32m      5\u001b[0m \u001b[38;5;66;03m# convert a FLOAT to a STRING\u001b[39;00m\n\u001b[0;32m      6\u001b[0m \u001b[38;5;28mprint\u001b[39m(\u001b[38;5;28mstr\u001b[39m(\u001b[38;5;241m3.14\u001b[39m))                         \u001b[38;5;66;03m# Output: 3.14\u001b[39;00m\n",
      "\u001b[1;31mTypeError\u001b[0m: 'str' object is not callable"
     ]
    }
   ],
   "source": [
    "\n",
    "# convert an INTEGER to a STRING\n",
    "print(str(4))                            # Output: 4\n",
    "\n",
    "\n",
    "# convert a FLOAT to a STRING\n",
    "print(str(3.14))                         # Output: 3.14\n",
    "\n",
    "\n",
    "# convert a BOOLEAN to a STRING\n",
    "print(str(True))                         # Output: True\n",
    "\n",
    "\n",
    "# convert a LIST to a STRING\n",
    "print(str([1,2,3]))                      # Output: [1,2,3]\n",
    "\n",
    "\n",
    "# convert a STRING to a STRING\n",
    "print(str(\"Data Engineering is fun\"))   # Output: Data Engineering is fun\n",
    "print(str(\"Data Science is also fun\"))  # Output: Data Engineering is also fun\n",
    "print(str(\"three point one four\"))        # Output: three point one four\n",
    "print(str(\"3.14\"))                      # Output: 3.14\n"
   ]
  },
  {
   "cell_type": "markdown",
   "id": "5d39aea1-30c0-4235-8419-6023fdf44f0b",
   "metadata": {},
   "source": [
    "<br>\n",
    "\n",
    "<br>\n",
    "\n",
    "<span style=\"background-color: #CAFEFD\"> Now if you try to **overwrite** the built-in '<span style=\"background-color: #CAFEFD;color: red\">**str**</span>' function with some value (**assigned to a variable named '<span style=\"background-color: #CAFEFD;color: red\">str</span>'**), you might encounter a '<span style=\"background-color: yellow;color: red\">**TypeError**</span>' when trying to call '<span style=\"background-color: #CAFEFD;color: red\">**str()**</span>.'</span>\n",
    "\n",
    "For Example:"
   ]
  },
  {
   "cell_type": "code",
   "execution_count": 270,
   "id": "95301a74-96af-43ab-83df-ec1bff0fae1d",
   "metadata": {},
   "outputs": [],
   "source": [
    "\n",
    "str = \"Data Engineering is fun.\"\n"
   ]
  },
  {
   "cell_type": "markdown",
   "id": "2ec62c9d-1b58-4e7f-b5eb-3fcd8802ca24",
   "metadata": {},
   "source": [
    "<br>\n",
    "\n",
    "As soon as the Python Interpreter interprets the **data type** of the value <span style=\"color: red\">**\"Data Engineering is fun\"**</span> assigned, it first creates an <span style=\"background-color: yellow\">**int object** (inside a portion of the RAM allocated for the **HEAP**) holding the value <span style=\"color: red\">**\"Data Engineering is Fun\"**</span></span> and then creates a <span style=\"background-color: yellow\">**variable** (inside another portion of the RAM allocated for the **STACK**) with the name <span style=\"color: blue\"> **str** </span> for holding the <span style=\"color: red\">**address**</span> of this **int object**</span>.\n",
    "\n",
    "<br>"
   ]
  },
  {
   "cell_type": "code",
   "execution_count": 271,
   "id": "973757f2-1874-483f-b842-34d080e47826",
   "metadata": {},
   "outputs": [
    {
     "ename": "TypeError",
     "evalue": "'str' object is not callable",
     "output_type": "error",
     "traceback": [
      "\u001b[1;31m---------------------------------------------------------------------------\u001b[0m",
      "\u001b[1;31mTypeError\u001b[0m                                 Traceback (most recent call last)",
      "Cell \u001b[1;32mIn[271], line 2\u001b[0m\n\u001b[0;32m      1\u001b[0m \u001b[38;5;66;03m# convert an INTEGER to a STRING\u001b[39;00m\n\u001b[1;32m----> 2\u001b[0m \u001b[38;5;28mprint\u001b[39m(\u001b[38;5;28;43mstr\u001b[39;49m\u001b[43m(\u001b[49m\u001b[38;5;241;43m4\u001b[39;49m\u001b[43m)\u001b[49m)                            \u001b[38;5;66;03m# TypeError: 'str' object is not callable\u001b[39;00m\n\u001b[0;32m      5\u001b[0m \u001b[38;5;66;03m# convert a FLOAT to a STRING\u001b[39;00m\n\u001b[0;32m      6\u001b[0m \u001b[38;5;28mprint\u001b[39m(\u001b[38;5;28mstr\u001b[39m(\u001b[38;5;241m3.14\u001b[39m))                         \u001b[38;5;66;03m# TypeError: 'str' object is not callable\u001b[39;00m\n",
      "\u001b[1;31mTypeError\u001b[0m: 'str' object is not callable"
     ]
    }
   ],
   "source": [
    "\n",
    "# convert an INTEGER to a STRING\n",
    "print(str(4))                            # TypeError: 'str' object is not callable\n",
    "\n",
    "\n",
    "# convert a FLOAT to a STRING\n",
    "print(str(3.14))                         # TypeError: 'str' object is not callable\n",
    "\n",
    "\n",
    "# convert a BOOLEAN to a STRING\n",
    "print(str(True))                         # TypeError: 'str' object is not callable\n",
    "\n",
    "\n",
    "# convert a LIST to a STRING\n",
    "print(str([1,2,3]))                      # TypeError: 'str' object is not callable\n",
    "\n",
    "\n",
    "# convert a STRING to a STRING\n",
    "print(str(\"Data Science is also fun\"))   # TypeError: 'str' object is not callable\n",
    "print(str(\"Data Science is also fun\"))   # TypeError: 'str' object is not callable\n",
    "print(str(\"three point one four\"))       # TypeError: 'str' object is not callable\n",
    "print(str(\"3.14\"))                       # TypeError: 'str' object is not callable\n"
   ]
  },
  {
   "cell_type": "code",
   "execution_count": null,
   "id": "c8431310-3711-4485-aa83-8f5a3c56a542",
   "metadata": {},
   "outputs": [],
   "source": []
  },
  {
   "cell_type": "markdown",
   "id": "2882319d-b799-42f1-b6f0-626597a66495",
   "metadata": {},
   "source": [
    "<br>\n",
    "\n",
    "<span style=\"background-color: #C9FF71;color: black\">**Note**</span> :-\n",
    "\n",
    "<div style=\"margin-left: 20px\">\n",
    "\n",
    "You can <span style=\"color: blue\">**avoid**</span> these kind of <span style=\"background-color: yellow;color: red\">**TypeError**</span>s and <span style=\"color: blue\">**restore**</span> the original functionality of these **Type Conversion Functions** <span style=\"color: red\">**int()**</span>, <span style=\"color: red\">**float()**</span>, <span style=\"color: red\">**boolean()**</span> and <span style=\"color: red\">**str()**</span>\n",
    "by <span style=\"color: blue\">**deleting the variable you've assigned**</span>.\n",
    "\n",
    "</div>\n"
   ]
  },
  {
   "cell_type": "code",
   "execution_count": 272,
   "id": "3f857870-336c-4eae-a5c6-49041b999914",
   "metadata": {},
   "outputs": [
    {
     "name": "stdout",
     "output_type": "stream",
     "text": [
      "3\n",
      "5\n",
      "1\n",
      "10\n"
     ]
    }
   ],
   "source": [
    "\n",
    "int = 5                               # creating a variable with the name int to point to the int object holding the value 5 \n",
    "\n",
    "del int                               # deleting the variable assigned\n",
    "\n",
    "\n",
    "# convert a FLOAT to an INTEGER\n",
    "print(int(3.14))                      # Output: 3\n",
    "\n",
    "\n",
    "# convert a STRING to an INTEGER\n",
    "#print(int('five'))                   # ValueError: invalid literal for int() with base 10: 'five'\n",
    "print(int(\"5\"))                       # Output: 5\n",
    "\n",
    "\n",
    "# convert a BOOLEAN to an INTEGER\n",
    "print(int(True))                      # Output: 1\n",
    "\n",
    "\n",
    "# convert a LIST to an INTEGER\n",
    "#print(int([1,2,3]))                   # TypeError: int() argument must be a string, a bytes-like object or a real number, not 'list'\n",
    "\n",
    "\n",
    "# convert an INTEGER to an INTEGER\n",
    "print(int(10))                         # Output: 10\n"
   ]
  },
  {
   "cell_type": "code",
   "execution_count": 273,
   "id": "15604a45-97f1-4008-af8a-9bf73c9c84be",
   "metadata": {},
   "outputs": [
    {
     "name": "stdout",
     "output_type": "stream",
     "text": [
      "4.0\n",
      "3.14\n",
      "1.0\n",
      "3.14\n"
     ]
    }
   ],
   "source": [
    "\n",
    "float = 3.14                           # creating a variable with the name float to point to the float object holding the value 3.14 \n",
    "\n",
    "\n",
    "del float                              # deleting the variable assigned\n",
    "\n",
    "\n",
    "# convert an INTEGER to a FLOAT\n",
    "print(float(4))                        # Output: 4.0\n",
    "\n",
    "\n",
    "# convert a STRING to a FLOAT\n",
    "#print(float('three point one four'))   # ValueError: could not convert string to float: 'three point one four'\n",
    "print(float(\"3.14\"))                   # Output: 3.14\n",
    "\n",
    "\n",
    "# convert a BOOLEAN to a FLOAT\n",
    "print(float(True))                      # Output: 1.0\n",
    "\n",
    "\n",
    "# convert a LIST to a FLOAT\n",
    "#print(float([1,2,3]))                  # TypeError: float() argument must be a string or a real number, not 'list'\n",
    "\n",
    "\n",
    "# convert a FLOAT to a FLOAT\n",
    "print(float(3.14))                     # Output: 3.14\n"
   ]
  },
  {
   "cell_type": "code",
   "execution_count": 274,
   "id": "4cf647a5-105d-49ad-84f1-f48eef94185e",
   "metadata": {},
   "outputs": [
    {
     "name": "stdout",
     "output_type": "stream",
     "text": [
      "True\n",
      "True\n",
      "True\n",
      "True\n",
      "True\n",
      "True\n",
      "False\n"
     ]
    }
   ],
   "source": [
    "\n",
    "bool = True                          # creating a variable with the name bool to point to the bool object holding the value True \n",
    "\n",
    "\n",
    "del bool                             # deleting the variable assigned\n",
    "\n",
    "\n",
    "# convert an INTEGER to a BOOLEAN\n",
    "print(bool(4))                       # Output: True          # Because 4 is a truthy value\n",
    "\n",
    "\n",
    "# convert a FLOAT to a BOOLEAN\n",
    "print(bool(3.14))                    # Output: True          # Because 3.14 is a truthy value\n",
    "\n",
    "\n",
    "# convert a STRING to a BOOLEAN\n",
    "print(bool('true'))                  # Output: True          # Because 'true' is a truthy value\n",
    "print(bool('false'))                 # Output: True          # Because 'false' is a truthy value\n",
    "print(bool('Data Engineering'))      # Output: True          # Because 'Data Engineering' is a truthy value\n",
    "\n",
    "\n",
    "# convert a LIST to a BOOLEAN\n",
    "print(bool([1,2,3]))                 # Output: True          # Because [1,2,3] is a truthy value\n",
    "\n",
    "\n",
    "# convert a BOOLEAN to a BOOLEAN\n",
    "print(bool(False))                   # Output: False         # Because False is a falsy value\n"
   ]
  },
  {
   "cell_type": "code",
   "execution_count": 275,
   "id": "8ad9c7cd-fd65-44b1-b58e-3aa9189527f8",
   "metadata": {},
   "outputs": [
    {
     "name": "stdout",
     "output_type": "stream",
     "text": [
      "4\n",
      "3.14\n",
      "True\n",
      "[1, 2, 3]\n",
      "Data Science is also fun\n",
      "three point one four\n",
      "3.14\n"
     ]
    }
   ],
   "source": [
    "\n",
    "str = \"Data Engineering is fun.\"         # creating a variable with the name str to point to the str object holding the value \"Data Engineering is fun\"\n",
    "\n",
    "\n",
    "del str                                  # deleting the variable assigned\n",
    "\n",
    "\n",
    "# convert an INTEGER to a STRING\n",
    "print(str(4))                            # Output: 4\n",
    "\n",
    "\n",
    "# convert a FLOAT to a STRING\n",
    "print(str(3.14))                         # Output: 3.14\n",
    "\n",
    "\n",
    "# convert a BOOLEAN to a STRING\n",
    "print(str(True))                         # Output: True\n",
    "\n",
    "\n",
    "# convert a LIST to a STRING\n",
    "print(str([1,2,3]))                      # Output: [1,2,3]\n",
    "\n",
    "\n",
    "# convert a STRING to a STRING\n",
    "print(str(\"Data Science is also fun\"))   # Output: Data Science is also fun\n",
    "print(str(\"three point one four\"))       # Output: three point one four\n",
    "print(str(\"3.14\"))                       # Output: 3.14\n"
   ]
  },
  {
   "cell_type": "code",
   "execution_count": null,
   "id": "6790eeb6-3156-41a0-b8e2-95ba1410797b",
   "metadata": {},
   "outputs": [],
   "source": []
  },
  {
   "cell_type": "markdown",
   "id": "eb682925-3633-4745-b5cf-c72940f2422a",
   "metadata": {},
   "source": [
    "<br>\n",
    "\n",
    "### 3. <span style=\"background-color: yellow;\">Getting the type of a value</span> <br>\n",
    "\n",
    "We already saw previously that to get the type of value, you use the <span style=\"background-color: yellow;color:red\"><strong>&nbsp;type(&nbsp;</strong></span>&nbsp;**value**&nbsp;<span style=\"background-color: yellow;color:red\"><strong>&nbsp;)&nbsp;</strong></span> function. For example:"
   ]
  },
  {
   "cell_type": "code",
   "execution_count": 276,
   "id": "809b052b-dc47-49c3-a5e8-e021f2789a39",
   "metadata": {},
   "outputs": [
    {
     "data": {
      "text/plain": [
       "int"
      ]
     },
     "execution_count": 276,
     "metadata": {},
     "output_type": "execute_result"
    }
   ],
   "source": [
    "\n",
    "type(100)\n"
   ]
  },
  {
   "cell_type": "code",
   "execution_count": 277,
   "id": "ffd2c09c-c029-4b16-85c8-3fc57b16267a",
   "metadata": {},
   "outputs": [
    {
     "data": {
      "text/plain": [
       "float"
      ]
     },
     "execution_count": 277,
     "metadata": {},
     "output_type": "execute_result"
    }
   ],
   "source": [
    "\n",
    "type(2.0)\n"
   ]
  },
  {
   "cell_type": "code",
   "execution_count": 278,
   "id": "96c1c99d-371f-412e-a838-ff9a7fa8a097",
   "metadata": {},
   "outputs": [
    {
     "data": {
      "text/plain": [
       "str"
      ]
     },
     "execution_count": 278,
     "metadata": {},
     "output_type": "execute_result"
    }
   ],
   "source": [
    "\n",
    "type('Hello')\n"
   ]
  },
  {
   "cell_type": "code",
   "execution_count": 279,
   "id": "85035812-1aba-41e3-95ad-d1ab5724a929",
   "metadata": {},
   "outputs": [
    {
     "data": {
      "text/plain": [
       "bool"
      ]
     },
     "execution_count": 279,
     "metadata": {},
     "output_type": "execute_result"
    }
   ],
   "source": [
    "\n",
    "type(True)\n"
   ]
  },
  {
   "cell_type": "markdown",
   "id": "39c9ea47-02ea-4e84-abb2-9ca1410a46d6",
   "metadata": {},
   "source": [
    "<br>\n",
    "\n",
    "\n",
    "<span style=\"background-color: #C9FF71;color: black\">**Note**</span> :-\n",
    "\n",
    "&nbsp;&nbsp;&nbsp;&nbsp;&nbsp;&nbsp; We will learn more about it in the topic <span style=\"color: blue\">**class**</span> later.\n",
    "\n",
    "<br>\n",
    "\n",
    "<br>\n",
    "\n",
    "### <span style=\"background-color: #CAFEFD;\">Summary :</span>\n",
    "\n",
    "<br>\n",
    "\n",
    "\n",
    "&nbsp;&nbsp;&nbsp;&nbsp;&nbsp;&nbsp;⇒ Use the <span style=\"background-color: yellow;color: red\"> **input()**</span> function to **get an input string** from users. <br>\n",
    "&nbsp;&nbsp;&nbsp;&nbsp;&nbsp;&nbsp;⇒ Use <span style=\"color: blue\"> **type conversion functions**</span> such as <span style=\"background-color: yellow;color: red\"> **int()**</span>, <span style=\"background-color: yellow;color: red\"> **float()**</span>, <span style=\"background-color: yellow;color: red\"> **bool()**</span>, and <span style=\"background-color: yellow;color: red\"> **str()**</span> to **convert a value from one type to another**. <br>\n",
    "&nbsp;&nbsp;&nbsp;&nbsp;&nbsp;&nbsp;⇒ Use the <span style=\"background-color: yellow;color: red\"> **type()**</span> function to get the **type of a value**.\n",
    "\n",
    "\n",
    "<br>"
   ]
  },
  {
   "cell_type": "code",
   "execution_count": null,
   "id": "7db8f23b-cf6d-42ed-9314-62b12fccda7d",
   "metadata": {},
   "outputs": [],
   "source": []
  },
  {
   "cell_type": "markdown",
   "id": "f12de1fd-41b4-4ed0-a299-957c71009f64",
   "metadata": {},
   "source": [
    "<br>\n",
    "\n",
    "# <u>Debugging in Python</u>\n",
    "\n",
    "<br> \n"
   ]
  },
  {
   "cell_type": "markdown",
   "id": "9b79dcdb-6957-40fc-ab0d-cd883a22deb0",
   "metadata": {},
   "source": [
    "\n",
    "##### 1. using <span style=\"background-color: white;color:red\">**print()**</span> statement\n",
    "##### 2. using <span style=\"color:red\">**logging**</span> statement\n",
    "##### 3. using <span style=\"color:red\">**logger.info()**</span> statement from <span style=\"color: blue\"> **loguru**</span> module\n",
    "\n",
    "<br>\n"
   ]
  },
  {
   "cell_type": "markdown",
   "id": "78e2af9e-46ad-4ed7-be9d-02a52fdabdd5",
   "metadata": {},
   "source": [
    "#### <span style=\"background-color: yellow\">How <span style=\"color:red\">**print()**</span> statement is used for debugging?</span> \n",
    "\n",
    "<br>\n"
   ]
  },
  {
   "cell_type": "code",
   "execution_count": 280,
   "id": "9fff4856-0803-415f-920b-451ce6ad0042",
   "metadata": {},
   "outputs": [
    {
     "name": "stdout",
     "output_type": "stream",
     "text": [
      "200\n"
     ]
    }
   ],
   "source": [
    "\n",
    "length_of_land = 100\n",
    "\n",
    "if length_of_land == 100:\n",
    "    length_of_land = 200\n",
    "else:\n",
    "    length_of_land = 300\n",
    "\n",
    "print(length_of_land)    # use it anywhere for dubbugging\n"
   ]
  },
  {
   "cell_type": "code",
   "execution_count": 281,
   "id": "f0de0865-8b11-48fa-81cf-e2c9cef5827b",
   "metadata": {},
   "outputs": [
    {
     "name": "stdout",
     "output_type": "stream",
     "text": [
      "300\n"
     ]
    }
   ],
   "source": [
    "\n",
    "length_of_land = 100\n",
    "\n",
    "if length_of_land == '100':\n",
    "    length_of_land = 200\n",
    "else:\n",
    "    length_of_land = 300\n",
    "\n",
    "print(length_of_land)    # use it anywhere for dubbugging\n"
   ]
  },
  {
   "cell_type": "code",
   "execution_count": 282,
   "id": "548022b1-e23f-43d4-8c13-ef36042084ff",
   "metadata": {},
   "outputs": [
    {
     "name": "stdout",
     "output_type": "stream",
     "text": [
      "200\n"
     ]
    }
   ],
   "source": [
    "\n",
    "length_of_land = 100\n",
    "\n",
    "if length_of_land == int('100'):  # type casting into Integer\n",
    "    length_of_land = 200\n",
    "else:\n",
    "    length_of_land = 300\n",
    "\n",
    "print(length_of_land)    # use it anywhere for dubbugging\n"
   ]
  },
  {
   "cell_type": "code",
   "execution_count": 283,
   "id": "dd0e3845-4a92-409a-a2e5-7a696cb0ab61",
   "metadata": {},
   "outputs": [
    {
     "name": "stdout",
     "output_type": "stream",
     "text": [
      "length_of_land =  200\n"
     ]
    }
   ],
   "source": [
    "\n",
    "print('length_of_land = ',length_of_land)   # better code readability\n"
   ]
  },
  {
   "cell_type": "code",
   "execution_count": 284,
   "id": "aaf460c0-5df9-4611-96fd-13cb6aa5b909",
   "metadata": {},
   "outputs": [
    {
     "name": "stdout",
     "output_type": "stream",
     "text": [
      "length_of_land =  200\n"
     ]
    }
   ],
   "source": [
    "\n",
    "print(\"length_of_land = \",length_of_land)   # string with double quotes also possible \n"
   ]
  },
  {
   "cell_type": "code",
   "execution_count": 285,
   "id": "8e89e79d-705b-4923-8be0-5cb19f71b97d",
   "metadata": {},
   "outputs": [
    {
     "name": "stdout",
     "output_type": "stream",
     "text": [
      "length_of_land = 100 \n",
      "breadth_of_land = 50\n"
     ]
    }
   ],
   "source": [
    "\n",
    "print(\"length_of_land = 100 \\nbreadth_of_land = 50\")    # \\n is the new line character. It is a kind of escape sequence.\n"
   ]
  },
  {
   "cell_type": "code",
   "execution_count": 286,
   "id": "93480b9f-91fc-44d9-b3c5-361a8f804166",
   "metadata": {},
   "outputs": [
    {
     "name": "stdout",
     "output_type": "stream",
     "text": [
      "length_of_land = 100 \n",
      " breadth_of_land = 50\n"
     ]
    }
   ],
   "source": [
    "\n",
    "print(\"length_of_land = 100 \\n breadth_of_land = 50\") # here the newline character is followed by a space\n"
   ]
  },
  {
   "cell_type": "code",
   "execution_count": 287,
   "id": "1139ed11-f19d-4839-9fde-5218dc7c76a2",
   "metadata": {},
   "outputs": [
    {
     "name": "stdout",
     "output_type": "stream",
     "text": [
      "length_of_land = 100\n",
      "         breadth_of_land = 50\n"
     ]
    }
   ],
   "source": [
    "\n",
    "# multi line string\n",
    "\n",
    "print('''length_of_land = 100\n",
    "         breadth_of_land = 50''')\n"
   ]
  },
  {
   "cell_type": "code",
   "execution_count": 288,
   "id": "08f58207-975c-4408-aded-911c16464aa3",
   "metadata": {},
   "outputs": [
    {
     "name": "stdout",
     "output_type": "stream",
     "text": [
      "length_of_land = 100\n",
      "breadth_of_land = 50\n"
     ]
    }
   ],
   "source": [
    "\n",
    "print('''length_of_land = 100\n",
    "breadth_of_land = 50''')\n"
   ]
  },
  {
   "cell_type": "code",
   "execution_count": 289,
   "id": "8d7ea22a-32a2-428b-80e6-5468eb078b7a",
   "metadata": {},
   "outputs": [
    {
     "name": "stdout",
     "output_type": "stream",
     "text": [
      "length_of_land = 100 \n",
      "\n",
      "breadth_of_land = 50\n"
     ]
    }
   ],
   "source": [
    "\n",
    "print('''length_of_land = 100 \\n\n",
    "breadth_of_land = 50''')\n"
   ]
  },
  {
   "cell_type": "code",
   "execution_count": 290,
   "id": "18b96bc5-c4ff-4902-a7b9-6ed140d32483",
   "metadata": {},
   "outputs": [
    {
     "name": "stdout",
     "output_type": "stream",
     "text": [
      "length_of_land =  100 \n",
      "breadth_of_land =  50\n"
     ]
    }
   ],
   "source": [
    "\n",
    "length_of_land = 100\n",
    "breadth_of_land = 50\n",
    "\n",
    "print(\"length_of_land = \",length_of_land,\"\\nbreadth_of_land = \",breadth_of_land)  # to check the value of multiple variables at a time when debugging\n"
   ]
  },
  {
   "cell_type": "markdown",
   "id": "ad01d21f-840f-4114-9363-67c4cf4c12d9",
   "metadata": {},
   "source": [
    "<br>\n",
    "\n",
    "**Note** - <span style=\"color: blue\">Every print statement puts a new line character <span style=\"background-color: yellow;color: red\">&nbsp;**\\n**&nbsp;</span> by **default** at the **end of the string printed**. <br>\n",
    "We can avoid it by explicitly mentioning what end character we want by using by usng the <span style=\"background-color: #CAFEFD;color: red;\">&nbsp;&nbsp;**end**&nbsp;&nbsp;</span> keyword.</span>"
   ]
  },
  {
   "cell_type": "code",
   "execution_count": 291,
   "id": "c6d744dc-ee06-4954-a91e-8d4d5d1d2654",
   "metadata": {},
   "outputs": [
    {
     "name": "stdout",
     "output_type": "stream",
     "text": [
      "Avinash\n",
      "Kumar\n",
      "Mishra\n"
     ]
    }
   ],
   "source": [
    "\n",
    "print(\"Avinash\")\n",
    "print(\"Kumar\")\n",
    "print(\"Mishra\")\n"
   ]
  },
  {
   "cell_type": "code",
   "execution_count": 292,
   "id": "fbc0b66c-9710-43d5-8bc6-abdee6c15f9e",
   "metadata": {},
   "outputs": [
    {
     "name": "stdout",
     "output_type": "stream",
     "text": [
      "AvinashKumarMishra"
     ]
    }
   ],
   "source": [
    "\n",
    "print(\"Avinash\", end='')\n",
    "print(\"Kumar\", end='')\n",
    "print(\"Mishra\",end='')\n"
   ]
  },
  {
   "cell_type": "code",
   "execution_count": 293,
   "id": "8b2fdcd0-29e5-4047-9c58-2fb2d5bae62b",
   "metadata": {},
   "outputs": [
    {
     "name": "stdout",
     "output_type": "stream",
     "text": [
      "Avinash Kumar Mishra"
     ]
    }
   ],
   "source": [
    "\n",
    "print(\"Avinash \", end='')\n",
    "print(\"Kumar \", end='')\n",
    "print(\"Mishra\",end='')\n"
   ]
  },
  {
   "cell_type": "code",
   "execution_count": 294,
   "id": "c24805ef-80a0-43a0-ba60-9825a9bb1168",
   "metadata": {},
   "outputs": [
    {
     "name": "stdout",
     "output_type": "stream",
     "text": [
      "Avinash_Kumar_Mishra"
     ]
    }
   ],
   "source": [
    "\n",
    "print(\"Avinash\", end='_')\n",
    "print(\"Kumar\", end='_')\n",
    "print(\"Mishra\",end='')\n"
   ]
  },
  {
   "cell_type": "markdown",
   "id": "6034a2a3-0065-49e5-9416-d20ada948927",
   "metadata": {},
   "source": [
    "<br>\n",
    "\n",
    "<br>\n",
    "\n",
    "<span style=\"background-color: #CAFEFD;\">But if we have 1000 lines of code, then how we gonna know which line the value of a variable is coming from? That's why we need to import a **module** named <span style=\"color:red\">**logging**</span>  which is very useful to debug a Python Program.</span>\n",
    "\n",
    "<br>\n",
    "\n",
    "\n",
    "#### <span style=\"background-color: yellow\">How <span style=\"color:red\">**logging**</span> statement is used for debugging?</span> \n",
    "\n",
    "<br>\n",
    "\n",
    "\n"
   ]
  },
  {
   "cell_type": "code",
   "execution_count": 296,
   "id": "8f3989f9-d1ee-4a6b-a8ec-2da822403488",
   "metadata": {},
   "outputs": [
    {
     "name": "stderr",
     "output_type": "stream",
     "text": [
      "2024-04-14 15:21:27,563 - DEBUG - 10 - This is a debug message\n",
      "2024-04-14 15:21:27,565 - INFO - 11 - This is an info message which is also used for debugging\n"
     ]
    }
   ],
   "source": [
    "\n",
    "# Logging                                                                                                                                   # line-1\n",
    "                                                                                                                                            # line-2\n",
    "import logging                                                                                                                              # line-3\n",
    "                                                                                                                                            # line-4\n",
    "# Configure basic logging                                                                                                                   # line-5\n",
    "logging.basicConfig(level=logging.DEBUG, format='%(asctime)s - %(levelname)s - %(lineno)d - %(message)s')                                   # line-6\n",
    "                                                                                                                                            # line-7\n",
    "                                                                                                                                            # line-8\n",
    "                                                                                                                                            # line-9\n",
    "logging.debug(\"This is a debug message\")  # Will include the line number where this statement is located                                    # line-10\n",
    "logging.info(\"This is an info message which is also used for debugging\")  # Will include the line number where this statement is located    # line-11\n"
   ]
  },
  {
   "cell_type": "markdown",
   "id": "730fe36f-5053-43ca-9d7b-7803677bf19b",
   "metadata": {},
   "source": [
    "Here, **10** represents the **line number** where the logging statement is located.\n",
    "\n",
    "<br>\n",
    "\n",
    "\n",
    "<span style=\"background-color: #CAFEFD;\">Since there will be so many files in real scenarios, you might want to know which line of which file is this value coming from. For that we can go for the following configuration:</span>\n",
    "\n",
    "<br>\n",
    "\n"
   ]
  },
  {
   "cell_type": "code",
   "execution_count": 298,
   "id": "f9ad2ac8-4bbb-487d-9bf6-32027434d994",
   "metadata": {},
   "outputs": [
    {
     "name": "stderr",
     "output_type": "stream",
     "text": [
      "2024-04-14 15:21:52,115 - DEBUG - 6 - This is a debug message\n",
      "2024-04-14 15:21:52,116 - INFO - 7 - This is an info message which is also used for debugging\n"
     ]
    }
   ],
   "source": [
    "\n",
    "logging.basicConfig(level=logging.DEBUG, format='%(asctime)s - %(levelname)s - %(filename)s:%(lineno)d - %(message)s')                       # line-1\n",
    "                                                                                                                                             # line-2\n",
    "# logging.basicConfig(level=logging.DEBUG, format='%(asctime)s - %(levelname)s - %(filename)s - %(lineno)d - %(message)s')                   # line-3\n",
    "                                                                                                                                             # line-4\n",
    "                                                                                                                                             # line-5\n",
    "logging.debug(\"This is a debug message\")  # Will include the line number where this statement is located                                     # line-6\n",
    "logging.info(\"This is an info message which is also used for debugging\")  # Will include the line number where this statement is located     # line-7\n"
   ]
  },
  {
   "cell_type": "code",
   "execution_count": 299,
   "id": "b0ea79ca-c0ce-411a-b610-43a12a15272f",
   "metadata": {},
   "outputs": [
    {
     "name": "stderr",
     "output_type": "stream",
     "text": [
      "2024-04-14 15:21:59,166 - DEBUG - 4 - Data Engineering is my 1st priority\n",
      "2024-04-14 15:21:59,168 - INFO - 5 - Data Engineering is my 1st priority\n"
     ]
    }
   ],
   "source": [
    "\n",
    "tech_domain = \"Data Engineering\"                                                 # line-1\n",
    "choice_priority = 1                                                              # line-2\n",
    "                                                                                 # line-3\n",
    "logging.debug(f\"{tech_domain} is my {choice_priority}st priority\")               # line-4\n",
    "logging.info(f\"{tech_domain} is my {choice_priority}st priority\")                # line-5\n"
   ]
  },
  {
   "cell_type": "markdown",
   "id": "77deaf31-b05d-479b-89c8-7d622535a490",
   "metadata": {},
   "source": [
    "<br>\n",
    "\n",
    "<br>\n",
    "\n",
    "<span style=\"background-color: #CAFEFD;\">This **works fine** in an **Integrated Development Environment (IDE)** like **VsCode**</span> because we already have a proper **project folder structure** there. But in a <span style=\"color: blue\"> **Jupyter Notebook environment**</span>, you may <span style=\"color: blue\"> **face challenges with getting the filename**</span> and the line number to appear in the logging output due to the way Jupyter handles code execution. However, you can achieve this by creating a <span style=\"color: blue\"> **custom logging formatter**</span> and attaching it to your logger.\n",
    "\n",
    "<br>"
   ]
  },
  {
   "cell_type": "code",
   "execution_count": 300,
   "id": "8b5c2fb9-1570-43d9-8b64-421334820d8b",
   "metadata": {},
   "outputs": [
    {
     "name": "stderr",
     "output_type": "stream",
     "text": [
      "2024-04-14 15:22:09,741 - DEBUG - 22 - This is a debug message\n",
      "2024-04-14 15:22:09,741 - DEBUG - C:\\Users\\user\\AppData\\Local\\Programs\\Python\\Python311\\Lib\\logging\\__init__.py - 1634 - This is a debug message\n",
      "2024-04-14 15:22:09,992 - INFO - 23 - This is an info message which is also used for debugging\n",
      "2024-04-14 15:22:09,992 - INFO - C:\\Users\\user\\AppData\\Local\\Programs\\Python\\Python311\\Lib\\logging\\__init__.py - 1634 - This is an info message which is also used for debugging\n"
     ]
    }
   ],
   "source": [
    "\n",
    "import logging                                                                                                                           # line-1\n",
    "import inspect                                                                                                                           # line-2\n",
    "                                                                                                                                         # line-3\n",
    "# Custom formatter to include filename and line number                                                                                   # line-4\n",
    "class MyFormatter(logging.Formatter):                                                                                                    # line-5\n",
    "    def format(self, record):                                                                                                            # line-6\n",
    "        record.filename = inspect.getframeinfo(inspect.stack()[6][0]).filename                                                           # line-7             \n",
    "        record.lineno = inspect.getframeinfo(inspect.stack()[6][0]).lineno                                                               # line-8\n",
    "        return super().format(record)                                                                                                    # line-9                                                                                               # line-9\n",
    "                                                                                                                                         # line-10\n",
    "# Configure logging                                                                                                                      # line-11\n",
    "logger = logging.getLogger()                                                                                                             # line-12\n",
    "logger.setLevel(logging.DEBUG)                                                                                                           # line-13\n",
    "                                                                                                                                         # line-14\n",
    "# Create and add the custom formatter to the logger                                                                                      # line-15\n",
    "formatter = MyFormatter('%(asctime)s - %(levelname)s - %(filename)s - %(lineno)d - %(message)s')                                         # line-16\n",
    "stream_handler = logging.StreamHandler()                                                                                                 # line-17\n",
    "stream_handler.setFormatter(formatter)                                                                                                   # line-18\n",
    "logger.addHandler(stream_handler)                                                                                                        # line-19\n",
    "                                                                                                                                         # line-20\n",
    "# Test logging                                                                                                                           # line-21\n",
    "logging.debug(\"This is a debug message\")                                                                                                 # line-22\n",
    "logging.info(\"This is an info message which is also used for debugging\")                                                                 # line-23\n"
   ]
  },
  {
   "cell_type": "code",
   "execution_count": 301,
   "id": "897da95c-80bc-402c-9d7c-efe16d329e8e",
   "metadata": {},
   "outputs": [
    {
     "name": "stderr",
     "output_type": "stream",
     "text": [
      "2024-04-14 15:22:16,047 - DEBUG - 4 - Data Engineering is my 1st priority\n",
      "2024-04-14 15:22:16,047 - DEBUG - C:\\Users\\user\\AppData\\Local\\Programs\\Python\\Python311\\Lib\\logging\\__init__.py - 1634 - Data Engineering is my 1st priority\n",
      "2024-04-14 15:22:16,104 - INFO - 5 - Data Engineering is my 1st priority\n",
      "2024-04-14 15:22:16,104 - INFO - C:\\Users\\user\\AppData\\Local\\Programs\\Python\\Python311\\Lib\\logging\\__init__.py - 1634 - Data Engineering is my 1st priority\n"
     ]
    }
   ],
   "source": [
    "\n",
    "tech_domain = \"Data Engineering\"                                                 # line-1\n",
    "choice_priority = 1                                                              # line-2\n",
    "                                                                                 # line-3\n",
    "logging.debug(f\"{tech_domain} is my {choice_priority}st priority\")               # line-4\n",
    "logging.info(f\"{tech_domain} is my {choice_priority}st priority\")                # line-5\n"
   ]
  },
  {
   "cell_type": "markdown",
   "id": "17201e05-6cd8-4210-908c-463f1ac80ae9",
   "metadata": {},
   "source": [
    "<br>\n",
    "\n",
    "\n",
    "#### <span style=\"background-color: yellow\">How <span style=\"color:red\">**logger.info()**</span> from <span style=\"color: blue\"> **loguru**</span> module statement is used for debugging?</span> \n",
    "\n",
    "<br>"
   ]
  },
  {
   "cell_type": "code",
   "execution_count": 140,
   "id": "bb105a95-65c8-4ec4-946a-d154b7d060d4",
   "metadata": {},
   "outputs": [
    {
     "name": "stdout",
     "output_type": "stream",
     "text": [
      "Requirement already satisfied: loguru in c:\\users\\user\\appdata\\local\\programs\\python\\python311\\lib\\site-packages (0.7.0)\n",
      "Requirement already satisfied: colorama>=0.3.4 in c:\\users\\user\\appdata\\roaming\\python\\python311\\site-packages (from loguru) (0.4.6)\n",
      "Requirement already satisfied: win32-setctime>=1.0.0 in c:\\users\\user\\appdata\\local\\programs\\python\\python311\\lib\\site-packages (from loguru) (1.1.0)\n",
      "Note: you may need to restart the kernel to use updated packages.\n"
     ]
    }
   ],
   "source": [
    "pip install loguru"
   ]
  },
  {
   "cell_type": "code",
   "execution_count": 302,
   "id": "bbf29db7-b037-4832-a55b-5bd484ad922e",
   "metadata": {},
   "outputs": [
    {
     "name": "stderr",
     "output_type": "stream",
     "text": [
      "\u001b[32m2024-04-14 15:22:40.964\u001b[0m | \u001b[1mINFO    \u001b[0m | \u001b[36m__main__\u001b[0m:\u001b[36m<module>\u001b[0m:\u001b[36m3\u001b[0m - \u001b[1mThis is a debug message\u001b[0m\n"
     ]
    }
   ],
   "source": [
    "\n",
    "from loguru import logger                        # line-1\n",
    "                                                 # line-2\n",
    "logger.info(\"This is a debug message\")           # line-3\n"
   ]
  },
  {
   "cell_type": "markdown",
   "id": "c9dcd0c1-627a-41cb-b1d9-0ec33496fadc",
   "metadata": {},
   "source": [
    "It's coming from <span style=\"background-color: yellow\">&nbsp;line number **3**&nbsp;</span> of <span style=\"color: blue\">**\\__main\\__:\\<module\\>**</span>. It's **not showing the filename** because we have not maintained any **project folder structure** here.\n",
    "\n",
    "<br>"
   ]
  },
  {
   "cell_type": "code",
   "execution_count": 303,
   "id": "90b1b1c3-5b09-4b68-8e7f-0ce9cf0d91bb",
   "metadata": {},
   "outputs": [
    {
     "name": "stderr",
     "output_type": "stream",
     "text": [
      "\u001b[32m2024-04-14 15:22:58.815\u001b[0m | \u001b[1mINFO    \u001b[0m | \u001b[36m__main__\u001b[0m:\u001b[36m<module>\u001b[0m:\u001b[36m4\u001b[0m - \u001b[1mData Engineering is my 1st priority\u001b[0m\n"
     ]
    }
   ],
   "source": [
    "\n",
    "tech_domain = \"Data Engineering\"                                                 # line-1\n",
    "choice_priority = 1                                                              # line-2\n",
    "                                                                                 # line-3\n",
    "logger.info(f\"{tech_domain} is my {choice_priority}st priority\")                 # line-4\n"
   ]
  },
  {
   "cell_type": "markdown",
   "id": "b62023db-c38d-4bf5-af6b-1a362bbe3cb8",
   "metadata": {},
   "source": [
    "It's coming from <span style=\"background-color: yellow\">&nbsp;line number **4**&nbsp;</span> of <span style=\"color: blue\">**\\__main\\__:\\<module\\>**</span>. It's **not showing the filename** because we have not maintained any **project folder structure** here.\n",
    "\n",
    "\n",
    "\n",
    "<br>"
   ]
  },
  {
   "cell_type": "code",
   "execution_count": null,
   "id": "670c2b1a-168f-44a8-bbb2-8f83d521ef8c",
   "metadata": {},
   "outputs": [],
   "source": []
  },
  {
   "cell_type": "markdown",
   "id": "cd61aeab-985c-4849-96a0-9bc861539c2f",
   "metadata": {},
   "source": [
    "<br>\n",
    "\n",
    "### <span style=\"background-color: #CAFEFD;\">Summary :</span>\n",
    "\n",
    "<br>\n",
    "\n",
    "<div style=\"border: 1px solid red; padding: 10px; margin-left:50px\">\n",
    "<span style=\"background-color:yellow;color:red\"><strong>logging</strong></span> ⇒ <strong>logging.debug()</strong> \n",
    "<br>\n",
    "<br>\n",
    "<br>\n",
    "<span style=\"background-color:#F5E3FA;color:blue\"><strong>import logging</strong></span>\n",
    "<br>\n",
    "<br>\n",
    "<span style=\"color:blue\"><strong>logging.basicConfig(level=logging.DEBUG, format='%(asctime)s - %(levelname)s - %(lineno)d - %(message)s')</strong></span>\n",
    "<br>\n",
    "<br>\n",
    "<span style=\"background-color:#F5E3FA;color:blue\"><strong>logging.basicConfig(level=logging.DEBUG, format='%(asctime)s - %(levelname)s - %(filename)s - %(lineno)d - %(message)s')</strong></span>\n",
    "<br>\n",
    "<br>\n",
    "<span style=\"color:blue\"><strong>logging.basicConfig(level=logging.DEBUG, format='%(asctime)s - %(levelname)s - %(filename)s:%(lineno)d - %(message)s')</strong></span>\n",
    "<br>\n",
    "<br>\n",
    "<span style=\"color:blue\"><strong>logging.debug(\"This is a debug message\")</strong></span>\n",
    "<br>\n",
    "<br>\n",
    "<span style=\"background-color:#F5E3FA;color:blue\"><strong>logging.info(\"This is an info message which is also used for debugging\")</strong></span>\n",
    "</div>\n",
    "\n",
    "\n",
    "<br>\n",
    "\n",
    "\n",
    "<div style=\"border: 1px solid red; padding: 10px; margin-left:50px\">\n",
    "<span style=\"background-color:yellow;color:red\"><strong>loguru</strong></span> ⇒ <strong>logger.info()</strong> \n",
    "<br>\n",
    "<br>\n",
    "<br>\n",
    "<span style=\"background-color:#F5E3FA;color:black\"><strong>\\$ pip install loguru</strong></span>\n",
    "<br>\n",
    "<br>\n",
    "<span style=\"background-color:#F5E3FA;color:blue\"><strong>from loguru import logger</strong></span>\n",
    "<br>\n",
    "<br>\n",
    "<span style=\"background-color:#F5E3FA;color:blue\"><strong>logger.info(\"This is a debug message\") </strong></span>\n",
    "<br>\n",
    "<br>\n",
    "\n",
    "</div>"
   ]
  },
  {
   "cell_type": "code",
   "execution_count": null,
   "id": "50b01167-4a39-421b-b385-7d510480e361",
   "metadata": {},
   "outputs": [],
   "source": []
  },
  {
   "cell_type": "code",
   "execution_count": null,
   "id": "4150b1bc-db83-4a16-af54-e729d70f09bc",
   "metadata": {},
   "outputs": [],
   "source": []
  }
 ],
 "metadata": {
  "kernelspec": {
   "display_name": "Python 3 (ipykernel)",
   "language": "python",
   "name": "python3"
  },
  "language_info": {
   "codemirror_mode": {
    "name": "ipython",
    "version": 3
   },
   "file_extension": ".py",
   "mimetype": "text/x-python",
   "name": "python",
   "nbconvert_exporter": "python",
   "pygments_lexer": "ipython3",
   "version": "3.11.3"
  }
 },
 "nbformat": 4,
 "nbformat_minor": 5
}
