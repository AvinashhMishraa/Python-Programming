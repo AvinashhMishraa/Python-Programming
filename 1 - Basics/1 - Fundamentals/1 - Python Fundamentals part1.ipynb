{
 "cells": [
  {
   "cell_type": "markdown",
   "id": "fcae68fd-ca66-41eb-94c0-63452b0da7ae",
   "metadata": {},
   "source": [
    "|    <span style=\"background-color: yellow;\">C/C++/Java</span>   |      <span style=\"background-color: yellow;\">Python</span>     | \n",
    "|-----------------|-----------------|\n",
    "| **The entire code** is first compiled into **machine level code** by a **compiler** and then run in the RAM   | **Each line of the code** is parsed  by a parser first and then interpreted by the **interpreter** into **byte level code** and run sequentially. Python runs on an interpreter system, meaning that code can be executed as soon as it is written. This means that prototyping can be very quick.  |\n",
    "| You will have different different compilers based on different different platforms and hence **platform dependent**    | You can run the same piece of Python code on different different platforms without having to be bothered about anything and hence **platform independent**    |\n",
    "| Compile-time error  | **No** Compile-time error  |\n",
    "| Not so easy to read and write  | Clean code and easy readability  |\n",
    "| Data type of a variable is explicitly defined before it's use and hence **Statically Typed Language**  | The Python Interpreter can interpret the data type of a avriable by looking at the assigned value during the run time and hence **Dynamically Typed Language**  |\n",
    "| use **semicolon**(<span style=\"color:red\"><strong>;</strong></span>) to separate the statements | uses **whitespace** and **indentation** to construct the code structure  |\n",
    "| Relatively faster   | Relatively slower  |\n",
    "| Doing AI/ML is not so easy because of unavailability of Libraies and other AI/ML related modules | A really good support from AI and ML applications |\n",
    "\n",
    "<br>"
   ]
  },
  {
   "cell_type": "code",
   "execution_count": 1,
   "id": "968b13e4-5ea7-4470-91cb-4518f17fb740",
   "metadata": {},
   "outputs": [
    {
     "name": "stdout",
     "output_type": "stream",
     "text": [
      "Programming is easy\n"
     ]
    }
   ],
   "source": [
    "print('Programming is easy')"
   ]
  },
  {
   "cell_type": "markdown",
   "id": "372d70b2-e40a-4e2e-9370-892d81bfaf6d",
   "metadata": {},
   "source": [
    "<br> \n",
    "\n",
    "**Let's verify how Python is an <span style=\"background-color: #CAFEFD\">Interpretd Language</span> where code is executed <span style=\"background-color: #CAFEFD\">line by line</span>**"
   ]
  },
  {
   "cell_type": "code",
   "execution_count": 2,
   "id": "b0a061fe-dcac-475d-b381-1b41371c6baf",
   "metadata": {},
   "outputs": [
    {
     "name": "stdout",
     "output_type": "stream",
     "text": [
      "value\n",
      "a = 9\n",
      "\n",
      "\n"
     ]
    },
    {
     "ename": "NameError",
     "evalue": "name 'value' is not defined",
     "output_type": "error",
     "traceback": [
      "\u001b[1;31m---------------------------------------------------------------------------\u001b[0m",
      "\u001b[1;31mNameError\u001b[0m                                 Traceback (most recent call last)",
      "Cell \u001b[1;32mIn[2], line 6\u001b[0m\n\u001b[0;32m      4\u001b[0m \u001b[38;5;28mprint\u001b[39m(\u001b[38;5;124m\"\u001b[39m\u001b[38;5;124ma =\u001b[39m\u001b[38;5;124m\"\u001b[39m, a)             \u001b[38;5;66;03m# this line (line 4) gets executed without any error\u001b[39;00m\n\u001b[0;32m      5\u001b[0m \u001b[38;5;28mprint\u001b[39m(\u001b[38;5;124m\"\u001b[39m\u001b[38;5;130;01m\\n\u001b[39;00m\u001b[38;5;124m\"\u001b[39m)                 \u001b[38;5;66;03m# this line (line 5) gets executed without any error             # no error upto this line (line 5)\u001b[39;00m\n\u001b[1;32m----> 6\u001b[0m \u001b[38;5;28mprint\u001b[39m(\u001b[43mvalue\u001b[49m)                \u001b[38;5;66;03m# this line (line 6) gets executed & it throws an error in the run time.\u001b[39;00m\n",
      "\u001b[1;31mNameError\u001b[0m: name 'value' is not defined"
     ]
    }
   ],
   "source": [
    "\n",
    "print (\"value\")             # this line (line 1) gets executed without any error\n",
    "a = 5                       # this line (line 2) gets executed without any error\n",
    "a = a + 4                   # this line (line 3) gets executed without any error\n",
    "print(\"a =\", a)             # this line (line 4) gets executed without any error\n",
    "print(\"\\n\")                 # this line (line 5) gets executed without any error             # no error upto this line (line 5)\n",
    "print(value)                # this line (line 6) gets executed & it throws an error in the run time.\n"
   ]
  },
  {
   "cell_type": "markdown",
   "id": "0926b1e4-fff0-49c4-a5d0-1def03d205c6",
   "metadata": {},
   "source": [
    "<br>\n",
    "\n",
    "As we can see, **it runs line by line and wherever it fails, before that it already ran**. Had it been C/C++/Java, it would have caught this error at the compile time itself.\n",
    "\n",
    "<br>\n",
    "\n",
    "<br>\n",
    "\n",
    "<span style=\"color: blue\"> █ █ █ █ █ █ █ █ █ █ █ █ █ █ █ █ █ █ █ █ █ █ █ █ █ █ █ █ █ █  █ █ █ █ █ █ █ █ █ █ █ █ █ █ █ █ █ █ █ █ █ █ █ █  █ █ █ █ █ █ █ █ █ █ █ █ █ █ █ █ █ █ █ █ █ █ █ █  </span>\n",
    "\n",
    "<br>\n",
    "\n",
    "<br>"
   ]
  },
  {
   "cell_type": "markdown",
   "id": "28add1b4-54b1-4aa6-9c25-6c4a2065c0a8",
   "metadata": {},
   "source": [
    "<br>\n",
    "\n",
    "# <u> Installation </u>\n",
    "\n",
    "<br>"
   ]
  },
  {
   "cell_type": "markdown",
   "id": "aa5b37f5-2cf4-4660-993e-c9c00b7075ac",
   "metadata": {},
   "source": [
    "\n",
    "<span style=\"background-color: #CAFEFD\">Where do we write Python code?</span> <br>\n",
    "&nbsp;&nbsp;&nbsp;&nbsp;&nbsp;&nbsp;⇒ **IDE** (&nbsp;<span style=\"background-color: yellow\">&nbsp;visual studio code&nbsp;</span>&nbsp;**,** &nbsp;<span style=\"background-color: yellow\">&nbsp;pycharm&nbsp;</span>&nbsp;) <br>\n",
    "&nbsp;&nbsp;&nbsp;&nbsp;&nbsp;&nbsp;⇒ **Jupyter Notebooks** (&nbsp;<span style=\"background-color: yellow\">&nbsp;set locally&nbsp;</span>**,** &nbsp;<span style=\"background-color: #F5C0FF\">&nbsp;databricks community edition&nbsp;</span>**,** &nbsp;<span style=\"background-color: #F5C0FF\">&nbsp;google colab&nbsp;</span>&nbsp;) <br>\n",
    "&nbsp;&nbsp;&nbsp;&nbsp;&nbsp;&nbsp;⇒ **Terminal**(&nbsp;<span style=\"background-color: yellow\">&nbsp;set locally&nbsp;</span>&nbsp;)\n",
    "\n",
    "\n",
    "\n",
    "<br>\n",
    "\n",
    "<div style=\"border: 1px solid pink; padding: 10px; background-color: #fff6f6\">\n",
    "    \n",
    "<span style=\"color:black\"><strong>\\\\$ py --version<br>\n",
    "\\\\$ py -m pip install --upgrade pip<br>\n",
    "\\\\$ pip --version<br>\n",
    "\\\\$ py -m pip install jupyter<br>\n",
    "\\\\$ jupyter --version<br>\n",
    "\\\\$ jupyter notebook\n",
    "</strong>\n",
    "</span>\n",
    "</div>\n",
    "\n",
    "<br> \n",
    "\n",
    "**Jupyter notebook** is a **browser-based interpreter** that allows us to interactively work with Python. It is an open-source web application that allows you to create & share documents that contain live code, equations, visualizations, and narrative text.\n",
    "\n",
    "However for making a **full fledged application**, we generally use IDEs (Integrated Development Environment) such as **Visual Studio Code** & **PyCharm**.\n",
    "\n",
    "<br>\n",
    "\n",
    "<br>\n",
    "\n",
    "<span style=\"color: blue\"> █ █ █ █ █ █ █ █ █ █ █ █ █ █ █ █ █ █ █ █ █ █ █ █ █ █ █ █ █ █  █ █ █ █ █ █ █ █ █ █ █ █ █ █ █ █ █ █ █ █ █ █ █ █  █ █ █ █ █ █ █ █ █ █ █ █ █ █ █ █ █ █ █ █ █ █ █ █  </span>\n",
    "\n",
    "<br>\n",
    "\n",
    "<br>"
   ]
  },
  {
   "cell_type": "markdown",
   "id": "20c81080-8035-4d2b-b3d8-6678f71cdf8a",
   "metadata": {},
   "source": [
    "<br>\n",
    "\n",
    "# <u> Python Syntax </u> \n",
    "\n",
    "<br>"
   ]
  },
  {
   "cell_type": "markdown",
   "id": "01e6a3bf-91d2-43c0-b39b-93a5f4d17f4a",
   "metadata": {},
   "source": [
    "\n",
    "### 1. <span style=\"background-color: yellow;\">Whitespace and indentation</span>\n",
    "Unlike **C**/**C++**/**Java** which use **semicolon** (**;**) to separate the statements, **Python** uses **whitespace** and **indentation** to construct the code structure.\n",
    "\n",
    "<div style=\"border: 1px solid pink; padding: 10px; background-color: #fff6f6\">\n",
    "<strong># define main function to print out something</strong><br>\n",
    "<span style=\"color:blue\">def main():<br>\n",
    "&nbsp;&nbsp;&nbsp;&nbsp;&nbsp;&nbsp;i = 1<br>\n",
    "&nbsp;&nbsp;&nbsp;&nbsp;&nbsp;&nbsp;max = 10<br>\n",
    "&nbsp;&nbsp;&nbsp;&nbsp;&nbsp;&nbsp;while (i < max):<br>\n",
    "&nbsp;&nbsp;&nbsp;&nbsp;&nbsp;&nbsp;&nbsp;&nbsp;&nbsp;&nbsp;&nbsp;&nbsp;print(i)<br>\n",
    "&nbsp;&nbsp;&nbsp;&nbsp;&nbsp;&nbsp;&nbsp;&nbsp;&nbsp;&nbsp;&nbsp;&nbsp;i = i + 1</span>\n",
    "\n",
    "<strong># call function main </strong><br>\n",
    "<span style=\"color:blue\">main()</span>\n",
    "</div>\n",
    "\n",
    "<br>\n",
    "\n",
    "=================================================================================================================\n",
    "\n",
    "<br>\n",
    "\n",
    "### 2. <span style=\"background-color: yellow;\">Comments</span>\n",
    "To document the code when necessary. They are ignored by the Python interpreter.\n",
    "\n",
    "##### 2.1 - <span style=\"background-color: #F5C0FF;\">Python block comments</span>\n",
    "\n",
    "<div style=\"border: 1px solid pink; padding: 10px; background-color: #fff6f6; margin-left: 70px\">\n",
    "<strong># increase price by 5% </strong><br>\n",
    "<span style=\"color:blue\">price = price * 1.05</span>\n",
    "</div>\n",
    "\n",
    "##### 2.2 - <span style=\"background-color: #F5C0FF;\">Python inline comments</span>\n",
    "\n",
    "<div style=\"border: 1px solid pink; padding: 10px; background-color: #fff6f6; margin-left: 70px\">\n",
    "<span style=\"color:blue\">salary = salary * 1.02</span>\n",
    "&nbsp;&nbsp;<strong># increase price by 5% </strong>\n",
    "</div>\n",
    "\n",
    "##### 2.3 - <span style=\"background-color: #F5C0FF;\">Python docstrings</span>\n",
    "\n",
    "&nbsp;&nbsp;&nbsp;&nbsp;&nbsp;&nbsp;&nbsp;&nbsp;A documentation string is a string literal that you put as the first lines in a code block, for example, a function.\n",
    "\n",
    "&nbsp;&nbsp;&nbsp;&nbsp;&nbsp;&nbsp;&nbsp;&nbsp;Unlike a regular comment, a documentation string can be accessed at <span style=\"color:red\">run-time</span> using  **obj.__doc__** attribute where **obj** is the name of the function.\n",
    "\n",
    "&nbsp;&nbsp;&nbsp;&nbsp;&nbsp;&nbsp;&nbsp;&nbsp;Use docstrings for **functions**, **modules**, and **classes**.\n",
    "\n",
    "&nbsp;&nbsp;&nbsp;&nbsp;&nbsp;&nbsp;&nbsp;&nbsp;Typically, you use a documentation string to automatically generate the code documentation.\n",
    "\n",
    "&nbsp;&nbsp;&nbsp;&nbsp;&nbsp;&nbsp;&nbsp;&nbsp;Documentation strings is called docstrings.\n",
    "\n",
    "&nbsp;&nbsp;&nbsp;&nbsp;&nbsp;&nbsp;&nbsp;&nbsp;Technically speaking, docstrings are not the comments. They create anonymous variables that reference the strings. Also, they’re not ignored by the Python interpreter.\n",
    "\n",
    "&nbsp;&nbsp;&nbsp;&nbsp;&nbsp;&nbsp;&nbsp;&nbsp;Python provides two kinds of docstrings: **one-line docstrings** and **multi-line docstrings**.\n",
    "\n",
    "\n",
    "&nbsp;&nbsp;&nbsp;&nbsp;&nbsp;&nbsp;&nbsp;&nbsp;<span style=\"color:green\"><strong>2.3.1 - One-line doctrings</strong></span>\n",
    " \n",
    "&nbsp;&nbsp;&nbsp;&nbsp;&nbsp;&nbsp;&nbsp;&nbsp;A one-line docstring begins with triple quotes (<span style=\"background-color: #EFEAF1;color:red\"><strong>\"\"\"</strong></span>) and also ends with triple quotes (<span style=\"background-color: #EFEAF1;color:red\"><strong>\"\"\"</strong></span>). Also, there won’t be any blank line either before or after the one-line docstring.\n",
    "\n",
    "\n",
    "<div style=\"border: 1px solid pink; padding: 10px; margin-left: 70px; background-color: #fff6f6\">\n",
    "<span style=\"color:blue\">def quicksort():<br></span>\n",
    "<span style=\"color:green\">\"\"\" sort the list using quicksort algorithm \"\"\"</span><br>\n",
    "<span style=\"color:blue\">...</span><br>\n",
    "</div>\n",
    "\n",
    "<br>\n",
    "\n",
    "&nbsp;&nbsp;&nbsp;&nbsp;&nbsp;&nbsp;&nbsp;&nbsp;<span style=\"color:green\"><strong>2.3.2 - Multi-line doctrings</strong></span>\n",
    "\n",
    "&nbsp;&nbsp;&nbsp;&nbsp;&nbsp;&nbsp;&nbsp;&nbsp;Unlike a one-line docstring, a multi-line docstring can span multiple lines. A multi-line docstring also starts with triple quotes (<span style=\"background-color: #EFEAF1;color:red\"><strong>\"\"\"</strong></span>) and ends with triple quotes (<span style=\"background-color: #EFEAF1;color:red\"><strong>\"\"\"</strong></span>).\n",
    "\n",
    "\n",
    "<div style=\"border: 1px solid pink; padding: 10px; margin-left: 70px; background-color: #fff6f6\">\n",
    "<span style=\"color:blue\">def increase(salary, percentage, rating):</span><br>\n",
    "&nbsp;&nbsp;&nbsp;&nbsp;&nbsp;&nbsp;<span style=\"color:green\">\"\"\" increase salary base on rating and percentage<br>\n",
    "&nbsp;&nbsp;&nbsp;&nbsp;&nbsp;&nbsp;rating 1 - 2 no increase<br>\n",
    "&nbsp;&nbsp;&nbsp;&nbsp;&nbsp;&nbsp;rating 3 - 4 increase 5%<br>\n",
    "&nbsp;&nbsp;&nbsp;&nbsp;&nbsp;&nbsp;rating 4 - 6 increase 10%<br>\n",
    "&nbsp;&nbsp;&nbsp;&nbsp;&nbsp;&nbsp;\"\"\"\n",
    "</span>\n",
    "</div>\n",
    "\n",
    "<br>\n",
    "\n",
    "##### 2.4 - <span style=\"background-color: #F5C0FF;\">Python multiline comments</span>\n",
    "&nbsp;&nbsp;&nbsp;&nbsp;&nbsp;&nbsp;&nbsp;&nbsp;&nbsp;**Python doesn’t support multiline comments.**\n",
    "\n",
    "&nbsp;&nbsp;&nbsp;&nbsp;&nbsp;&nbsp;&nbsp;&nbsp;&nbsp;To add a multiline comment you could insert a <span style=\"background-color: #EFEAF1;color:red\">&nbsp;**#**&nbsp;</span> for each line:\n",
    "\n",
    "<div style=\"border: 1px solid pink; background-color: #fff6f6; padding: 10px; margin-left: 70px\">\n",
    "<span style=\"color: green\"># This is a comment</span><br>\n",
    "<span style=\"color: green\"># written in</span><br>\n",
    "<span style=\"color: green\"># more than just one line</span><br>\n",
    "<span style=\"color: blue\">print(\"Hello, World!\")</span><br>\n",
    "</div>\n",
    "\n",
    "<br>\n",
    "\n",
    "=================================================================================================================\n",
    "\n",
    "<br>\n",
    "\n",
    "### 3. <span style=\"background-color: yellow;\">Continuation of statements</span>\n",
    "\n",
    "Python uses a **newline character** to separate statements. It means a Python statement ends with a **newline character**. It places each statement on one line. \n",
    "\n",
    "However, a long statement can span multiple lines by using the **backslash** (<span style=\"background-color: #EFEAF1;color:red\"><strong>  \\\\  </strong></span>) character.\n",
    "\n",
    "The following example illustrates how to use the **backslash** (<span style=\"background-color: #EFEAF1;color:red\"><strong>  \\\\  </strong></span>) character to continue a statement in the second line:\n",
    "\n",
    "\n",
    "<div style=\"border: 1px solid pink; padding: 10px; background-color: #fff6f6; margin-left: 70px\">\n",
    "<span style=\"color:blue\">if (a == True) and (b == False) and \\<br>\n",
    "&nbsp;&nbsp;&nbsp;&nbsp;&nbsp;&nbsp;(c == True):<br>\n",
    "&nbsp;&nbsp;&nbsp;&nbsp;&nbsp;&nbsp;&nbsp;print(\"Continuation of statements\")<br>\n",
    "</span>\n",
    "</div>\n"
   ]
  },
  {
   "cell_type": "code",
   "execution_count": 5,
   "id": "eee3776c-692d-46fe-8fa0-e984c4c78fd1",
   "metadata": {},
   "outputs": [
    {
     "ename": "IndentationError",
     "evalue": "unexpected indent (3349833937.py, line 15)",
     "output_type": "error",
     "traceback": [
      "\u001b[1;36m  Cell \u001b[1;32mIn[5], line 15\u001b[1;36m\u001b[0m\n\u001b[1;33m    + data_engineering_course_fee * data_engineering_enrollments\u001b[0m\n\u001b[1;37m    ^\u001b[0m\n\u001b[1;31mIndentationError\u001b[0m\u001b[1;31m:\u001b[0m unexpected indent\n"
     ]
    }
   ],
   "source": [
    "\n",
    "# Data Science\n",
    "data_science_course_fee = 5000\n",
    "data_science_enrollments = 30\n",
    "\n",
    "# Data Engineering\n",
    "data_engineering_course_fee = 4000\n",
    "data_engineering_enrollments = 20\n",
    "\n",
    "# Data Analytics\n",
    "data_analytics_course_fee = 2000\n",
    "data_analytics_enrollments = 50\n",
    "\n",
    "\n",
    "total_revenue = data_science_course_fee * data_science_enrollments \n",
    "                + data_engineering_course_fee * data_engineering_enrollments \n",
    "                + data_analytics_course_fee * data_analytics_enrollments\n",
    "\n",
    "\n",
    "# print(\"The total_revenue is\", total_revenue)\n",
    "print(f\"The total_revenue is {total_revenue}\")\n"
   ]
  },
  {
   "cell_type": "markdown",
   "id": "7d7f21be-bf39-45f6-bc7b-f0e15f8cdfe1",
   "metadata": {},
   "source": [
    "<br>\n",
    "\n",
    "We can solve this problem using **backslash** (<span style=\"background-color: #EFEAF1;color:red\"><strong>  \\\\  </strong></span>) :\n"
   ]
  },
  {
   "cell_type": "code",
   "execution_count": 4,
   "id": "0adaaf44-3d82-465f-af93-678496402520",
   "metadata": {},
   "outputs": [
    {
     "name": "stdout",
     "output_type": "stream",
     "text": [
      "The total_revenue is 330000\n"
     ]
    }
   ],
   "source": [
    "\n",
    "# Data Science\n",
    "data_science_course_fee = 5000\n",
    "data_science_enrollments = 30\n",
    "\n",
    "# Data Engineering\n",
    "data_engineering_course_fee = 4000\n",
    "data_engineering_enrollments = 20\n",
    "\n",
    "# Data Analytics\n",
    "data_analytics_course_fee = 2000\n",
    "data_analytics_enrollments = 50\n",
    "\n",
    "# redability enhanced\n",
    "total_revenue = data_science_course_fee * data_science_enrollments \\\n",
    "                + data_engineering_course_fee * data_engineering_enrollments \\\n",
    "                + data_analytics_course_fee * data_analytics_enrollments\n",
    "\n",
    "\n",
    "# print(\"The total_revenue is\", total_revenue)\n",
    "print(f\"The total_revenue is {total_revenue}\")\n"
   ]
  },
  {
   "cell_type": "markdown",
   "id": "e8c7c587-59a2-44fb-839a-b16b6cc0b50f",
   "metadata": {},
   "source": [
    "<br>\n",
    "\n",
    "=================================================================================================================\n",
    "\n",
    "<br>\n",
    "\n",
    "<div style=\"background-color: #fff6f6; padding: 10px;\">\n",
    "<strong>Tokens</strong> are the smallest meaningful component in a python program  <br>\n",
    "<br>\n",
    "&nbsp;&nbsp;&nbsp;&nbsp;&nbsp;&nbsp;&nbsp;&nbsp;➜ 1. <strong>Identifiers</strong><br>\n",
    "&nbsp;&nbsp;&nbsp;&nbsp;&nbsp;&nbsp;&nbsp;&nbsp;➜ 2. <strong>Keywords</strong><br>\n",
    "&nbsp;&nbsp;&nbsp;&nbsp;&nbsp;&nbsp;&nbsp;&nbsp;➜ 3. <strong>Literals</strong><br>\n",
    "&nbsp;&nbsp;&nbsp;&nbsp;&nbsp;&nbsp;&nbsp;&nbsp;➜ 4. <strong>Operators</strong><br>\n",
    "</div>\n",
    "\n",
    "<br>\n",
    "\n",
    "### 4. <span style=\"background-color: yellow;\">Python Keywords</span>\n",
    "\n",
    "Keywords are **reserved words** in Python, having a specific meaning in the language.\n",
    "\n",
    "Python provides a special module for listing its keywords called <span style=\"color:red\"><strong>keyword</strong></span>."
   ]
  },
  {
   "cell_type": "code",
   "execution_count": 6,
   "id": "1f2b1278-90af-4f19-9313-f445a71f345c",
   "metadata": {},
   "outputs": [
    {
     "name": "stdout",
     "output_type": "stream",
     "text": [
      "['False', 'None', 'True', 'and', 'as', 'assert', 'async', 'await', 'break', 'class', 'continue', 'def', 'del', 'elif', 'else', 'except', 'finally', 'for', 'from', 'global', 'if', 'import', 'in', 'is', 'lambda', 'nonlocal', 'not', 'or', 'pass', 'raise', 'return', 'try', 'while', 'with', 'yield']\n"
     ]
    }
   ],
   "source": [
    "\n",
    "# To find the current keyword list\n",
    "\n",
    "import keyword\n",
    "\n",
    "print(keyword.kwlist)\n"
   ]
  },
  {
   "cell_type": "markdown",
   "id": "dc0871a3-48ea-47c9-bd77-dbeee9ee8e89",
   "metadata": {},
   "source": [
    "<br>\n",
    "\n",
    "=================================================================================================================\n",
    "\n",
    "<br>\n",
    "\n",
    "### 5. <span style=\"background-color: yellow;\">Python Identifiers</span>\n",
    "\n",
    "Identifiers are names that identify **variables**, **functions**, **modules**, **classes**, and other **objects** in Python.\n",
    "\n",
    "&nbsp;&nbsp;&nbsp;&nbsp;&nbsp;&nbsp;&nbsp;&nbsp;1. The name of an identifier <span style=\"color:blue\">needs to begin</span> with a **letter** or **underscore**(<span style=\"background-color: #EFEAF1;color:red\"><strong>  _  </strong></span>). The following characters can be alphanumeric or underscore.\n",
    "\n",
    "&nbsp;&nbsp;&nbsp;&nbsp;&nbsp;&nbsp;&nbsp;&nbsp;2. Python identifiers are **case-sensitive**.\n",
    "\n",
    "&nbsp;&nbsp;&nbsp;&nbsp;&nbsp;&nbsp;&nbsp;&nbsp;3. In addition, you **cannot use Python keywords** for naming identifiers.\n",
    "\n",
    "\n",
    "=================================================================================================================\n",
    "\n",
    "<br>\n",
    "\n",
    "<div style=\"background-color: #fff6f6; padding: 10px;\">\n",
    "    <strong>Literals are constant in Python</strong>\n",
    "</div>\n",
    "\n",
    "<br>\n",
    "\n",
    "### 6. <span style=\"background-color: yellow;\">String literals</span>\n",
    "\n",
    "Python uses single quotes (<span style=\"background-color: #EFEAF1;color:red\"><strong>  '  </strong></span>), double quotes (<span style=\"background-color: #EFEAF1;color:red\"><strong>  \"  </strong></span>), triple single quotes (<span style=\"background-color: #EFEAF1;color:red\"><strong>  '''  </strong></span>) and triple-double quotes (<span style=\"background-color: #EFEAF1;color:red\"><strong>  \"\"\"  </strong></span>) to denote a string literal.\n",
    "\n",
    "<br>"
   ]
  },
  {
   "cell_type": "code",
   "execution_count": 8,
   "id": "95ef43b8-6213-40c7-ac10-c6e49461a343",
   "metadata": {},
   "outputs": [
    {
     "name": "stdout",
     "output_type": "stream",
     "text": [
      "This is a string\n"
     ]
    }
   ],
   "source": [
    "\n",
    "s = 'This is a string'\n",
    "print(s)\n"
   ]
  },
  {
   "cell_type": "code",
   "execution_count": 9,
   "id": "045d29e1-1be7-456e-a824-1e4142a75c63",
   "metadata": {},
   "outputs": [
    {
     "data": {
      "text/plain": [
       "'This is a string'"
      ]
     },
     "execution_count": 9,
     "metadata": {},
     "output_type": "execute_result"
    }
   ],
   "source": [
    "\n",
    "s\n"
   ]
  },
  {
   "cell_type": "code",
   "execution_count": 10,
   "id": "042ea12f-a91d-49b9-b4be-9c692319b507",
   "metadata": {},
   "outputs": [
    {
     "name": "stdout",
     "output_type": "stream",
     "text": [
      "Another string using double quotes\n"
     ]
    }
   ],
   "source": [
    "\n",
    "s = \"Another string using double quotes\"\n",
    "print(s)\n"
   ]
  },
  {
   "cell_type": "code",
   "execution_count": 11,
   "id": "de53d31f-a83d-43c5-a8b6-11df36764802",
   "metadata": {},
   "outputs": [
    {
     "data": {
      "text/plain": [
       "'Another string using double quotes'"
      ]
     },
     "execution_count": 11,
     "metadata": {},
     "output_type": "execute_result"
    }
   ],
   "source": [
    "\n",
    "s\n"
   ]
  },
  {
   "cell_type": "code",
   "execution_count": 12,
   "id": "ca5a6d4b-b026-43cb-986f-cf8e1852ac6b",
   "metadata": {},
   "outputs": [
    {
     "name": "stdout",
     "output_type": "stream",
     "text": [
      " string can span\n",
      "        multiple lines \n"
     ]
    }
   ],
   "source": [
    "\n",
    "s = ''' string can span\n",
    "        multiple lines '''\n",
    "print(s)\n"
   ]
  },
  {
   "cell_type": "code",
   "execution_count": 13,
   "id": "238883e6-45dc-4684-ba6f-7d8beebfc363",
   "metadata": {},
   "outputs": [
    {
     "data": {
      "text/plain": [
       "' string can span\\n        multiple lines '"
      ]
     },
     "execution_count": 13,
     "metadata": {},
     "output_type": "execute_result"
    }
   ],
   "source": [
    "\n",
    "s\n"
   ]
  },
  {
   "cell_type": "code",
   "execution_count": 14,
   "id": "ae869ff9-b1e3-49f7-8a84-5bb46cc59827",
   "metadata": {},
   "outputs": [
    {
     "name": "stdout",
     "output_type": "stream",
     "text": [
      "This is line 1\n",
      "This is line 2\n",
      "This is line 3\n"
     ]
    }
   ],
   "source": [
    "\n",
    "s = '''This is line 1\n",
    "This is line 2\n",
    "This is line 3'''\n",
    "print(s)\n"
   ]
  },
  {
   "cell_type": "code",
   "execution_count": 15,
   "id": "109b7a8e-1924-42ac-900a-f5001f20f703",
   "metadata": {},
   "outputs": [
    {
     "data": {
      "text/plain": [
       "'This is line 1\\nThis is line 2\\nThis is line 3'"
      ]
     },
     "execution_count": 15,
     "metadata": {},
     "output_type": "execute_result"
    }
   ],
   "source": [
    "\n",
    "s\n"
   ]
  },
  {
   "cell_type": "code",
   "execution_count": 16,
   "id": "8fa794d1-9abf-4f85-85fd-de9126d81696",
   "metadata": {},
   "outputs": [
    {
     "name": "stdout",
     "output_type": "stream",
     "text": [
      "string can span\n",
      "multiple lines\n",
      "with triple-double quotes too\n"
     ]
    }
   ],
   "source": [
    "\n",
    "s = \"\"\"string can span\n",
    "multiple lines\n",
    "with triple-double quotes too\"\"\"\n",
    "print(s)\n"
   ]
  },
  {
   "cell_type": "code",
   "execution_count": 17,
   "id": "d9337eba-13f1-4bed-968c-077fb8fad803",
   "metadata": {},
   "outputs": [
    {
     "data": {
      "text/plain": [
       "'string can span\\nmultiple lines\\nwith triple-double quotes too'"
      ]
     },
     "execution_count": 17,
     "metadata": {},
     "output_type": "execute_result"
    }
   ],
   "source": [
    "\n",
    "s\n"
   ]
  },
  {
   "cell_type": "code",
   "execution_count": null,
   "id": "49524eed-c0ca-4410-b34c-ea800abf0120",
   "metadata": {},
   "outputs": [],
   "source": []
  },
  {
   "cell_type": "markdown",
   "id": "9d21efe7-4a68-499f-9d2a-c86b83c52143",
   "metadata": {},
   "source": [
    "<br>\n",
    "\n",
    "<br>\n",
    "\n",
    "<span style=\"color: blue\"> █ █ █ █ █ █ █ █ █ █ █ █ █ █ █ █ █ █ █ █ █ █ █ █ █ █ █ █ █ █  █ █ █ █ █ █ █ █ █ █ █ █ █ █ █ █ █ █ █ █ █ █ █ █  █ █ █ █ █ █ █ █ █ █ █ █ █ █ █ █ █ █ █ █ █ █ █ █  </span>\n",
    "\n",
    "<br>\n",
    "\n",
    "<br>"
   ]
  },
  {
   "cell_type": "markdown",
   "id": "fe09fea2-212b-43e3-af60-7af38f35493f",
   "metadata": {},
   "source": [
    "<br>\n",
    "\n",
    "# <u>Variables in RAM (Random Access Memory)</u>\n",
    "\n",
    "<br>"
   ]
  },
  {
   "cell_type": "markdown",
   "id": "07010fc3-b7e8-4418-9b23-58a86e3446ed",
   "metadata": {},
   "source": [
    "\n",
    "Data/Value can be stored in **temporary** storage spaces called **Variables**\n",
    "\n",
    "<br>\n",
    "\n",
    "### 1. <span style=\"background-color: yellow;\">Naming Convention of Variables</span>\n",
    "\n",
    "&nbsp;&nbsp;&nbsp;&nbsp; 1. Variable names <span style=\"color: green\"><strong>can</strong></span> contain only **letters**, **numbers**, and **underscores** (<span style=\"background-color: #EFEAF1\"><strong> _  </strong></span>). <span style=\"color:red\"> They can start with a **letter** or an **underscore** (<span style=\"background-color: #EFEAF1\"><strong> _  </strong></span>), not with a **number**. <br> </span>\n",
    "&nbsp;&nbsp;&nbsp;&nbsp; 2. Variable names <span style=\"color: green\"><strong>cannot</strong></span> contain spaces. To separate words in variables, you use **underscores** for example <span style=\"color: blue\">sorted_list</span>. <br>\n",
    "&nbsp;&nbsp;&nbsp;&nbsp; 3. Variable names <span style=\"color: green\"><strong>cannot</strong></span> be the same as **keywords**, **reserved words**, and **built-in functions** in Python.\n",
    "\n",
    "<br>\n",
    "\n",
    "<span style=\"background-color: #CAFEFD\">The Python Interpreter creates an **object** in the **HEAP** part of the RAM and all **variables** (i.e, **parameters used inside a function**) in the **STACK** part of the RAM. It is important to note that HEAP & STACK size are not fixed in the memory. To optimize the memorry usage, the CPU decides upon looking at a program as to how much of the RAM space should be given to the HEAP memory and how much to the STACK memory.</span>\n",
    "\n",
    "<br>\n",
    "\n",
    "<span style=\"background-color: #CAFEFD\">when a variable say ***variable_name*** is assigned a value in a line of a Python Program, the Python Interpreter **automatically interprets the data type of the value at that line itself** and creates an **object** (of the same data type holding the value assigned to the variable) in the **HEAP** part of the RAM and a **variable** with the name ***variable_name*** holding the address of that object is created in the **Stack** part of the RAM.</span>\n",
    "\n",
    "<br>"
   ]
  },
  {
   "cell_type": "code",
   "execution_count": 18,
   "id": "3000490c-847b-4cc6-8d53-5c9b33402674",
   "metadata": {},
   "outputs": [
    {
     "data": {
      "text/plain": [
       "10"
      ]
     },
     "execution_count": 18,
     "metadata": {},
     "output_type": "execute_result"
    }
   ],
   "source": [
    "\n",
    "length = 10    \n",
    "'''\n",
    "The data type of the value assigned is dynamically interpreted by the Python Interpreter in this line itself and then \n",
    "accordingly an int object holding the value 10 is created in the Heap part of the RAM and then a variable named 'length' holding \n",
    "the address of that int object is also created in the Stack part of the RAM thus pointing to that object holding the value.\n",
    "'''\n",
    "\n",
    "length         # print(length)\n"
   ]
  },
  {
   "cell_type": "code",
   "execution_count": 19,
   "id": "d6327443-7ffa-4a21-8457-63125d377682",
   "metadata": {},
   "outputs": [
    {
     "data": {
      "text/plain": [
       "140727665419336"
      ]
     },
     "execution_count": 19,
     "metadata": {},
     "output_type": "execute_result"
    }
   ],
   "source": [
    "\n",
    "# The address of the int object, the variable 'a' is pointing to :\n",
    "id(length)   # print(id(length))\n"
   ]
  },
  {
   "cell_type": "markdown",
   "id": "7c88d618-0c20-4049-a583-ee9b26f47bf7",
   "metadata": {},
   "source": [
    "\n",
    "<br>\n",
    "\n",
    "<span style=\"color: red; font-size: larger\">↳⭐</span>&nbsp;&nbsp;However, there is an <span style=\"color: red;\">**exception**</span> in case of **Python Integers** which we will go into much depth later. <br>\n",
    "&nbsp;&nbsp;&nbsp;&nbsp;&nbsp;&nbsp;⇒ For efficient memory utilization, Python uses a **variable number of bits to store integers**. <br>\n",
    "&nbsp;&nbsp;&nbsp;&nbsp;&nbsp;&nbsp;⇒ Python considers (**-5** to **256**) as <span style=\"background-color: #CAFEFD\">small integers</span> and others as <span style=\"background-color: #CAFEFD\">large integers</span>. <br>\n",
    "&nbsp;&nbsp;&nbsp;&nbsp;&nbsp;&nbsp;⇒ <span style=\"background-color: #CAFEFD\">Memory allocation of **small integers** &nbsp;:</span> <br>\n",
    "&nbsp;&nbsp;&nbsp;&nbsp;&nbsp;&nbsp;&nbsp;&nbsp;&nbsp;&nbsp;&nbsp;&nbsp;&nbsp;&nbsp;&nbsp;&nbsp;&nbsp;&nbsp;&nbsp;&nbsp; Here the variables **a** and **b** are pointing (holding the address of) to **the same int object** in the memory. &nbsp;\n",
    "<div style=\"border: 1px solid pink; padding: 10px; background-color: #fff6f6; margin-left: 80px; width: 270px\">\n",
    "<span style=\"color:blue\">a = 42<br>\n",
    "b = 42<br>\n",
    "    <br>\n",
    "&nbsp;&nbsp;&nbsp;&nbsp;&nbsp;&nbsp;&nbsp; a =======> █ 42 █ <======= b<br>\n",
    "</span>\n",
    "</div> <br>\n",
    "    \n",
    "&nbsp;&nbsp;&nbsp;&nbsp;&nbsp;&nbsp;⇒ <span style=\"background-color: #CAFEFD\">Memory allocation of **large integers** &nbsp;:</span> <br>\n",
    "&nbsp;&nbsp;&nbsp;&nbsp;&nbsp;&nbsp;&nbsp;&nbsp;&nbsp;&nbsp;&nbsp;&nbsp;&nbsp;&nbsp;&nbsp;&nbsp;&nbsp;&nbsp;&nbsp;&nbsp; Here the variables **a** and **b** are pointing (holding the address of) to **the different int objects** in the memory. &nbsp;\n",
    "<div style=\"border: 1px solid pink; padding: 10px; background-color: #fff6f6; margin-left: 80px; width: 270px\">\n",
    "<span style=\"color:blue\">a = 671<br>\n",
    "b = 671<br>\n",
    "    <br>\n",
    "&nbsp;&nbsp;&nbsp;&nbsp;&nbsp;&nbsp;&nbsp; a =======> █ 671 █ <br>\n",
    "<br>\n",
    "&nbsp;&nbsp;&nbsp;&nbsp;&nbsp;&nbsp;&nbsp; b =======> █ 671 █ <br>\n",
    "</span>\n",
    "</div>\n",
    "<br>\n"
   ]
  },
  {
   "cell_type": "code",
   "execution_count": 21,
   "id": "58731731-d94b-4b79-982d-78c52c58d9e3",
   "metadata": {},
   "outputs": [
    {
     "name": "stdout",
     "output_type": "stream",
     "text": [
      "a == b returns True\n",
      "a is b returns True\n",
      "\n",
      "To confirm:\n",
      "The address of the int object, the variable 'a' is pointing to : 140727665420360\n",
      "The address of the int object, the variable 'b' is pointing to : 140727665420360\n",
      "Both addresses same: True\n"
     ]
    }
   ],
   "source": [
    "\n",
    "a = 42\n",
    "b = 42\n",
    "\n",
    "print(\"a == b returns\", a == b)   # True because the value of a is same as the value of b\n",
    "print(\"a is b returns\", a is b)   # True because 42 falls in the range [-5,256] and hence is considered as a small integer.\n",
    "\n",
    "print(\"\\nTo confirm:\")\n",
    "# id ====> identity of an object\n",
    "print(\"The address of the int object, the variable 'a' is pointing to :\", id(a))\n",
    "print(\"The address of the int object, the variable 'b' is pointing to :\", id(b))\n",
    "print(\"Both addresses same:\",id(a) == id(b))\n"
   ]
  },
  {
   "cell_type": "code",
   "execution_count": 22,
   "id": "2ae88048-195e-447a-aec4-1f984f9a0af0",
   "metadata": {},
   "outputs": [
    {
     "name": "stdout",
     "output_type": "stream",
     "text": [
      "a == b returns True\n",
      "a is b returns False\n",
      "\n",
      "To confirm:\n",
      "The address of the int object, the variable 'a' is pointing to : 2436220326960\n",
      "The address of the int object, the variable 'b' is pointing to : 2436220326864\n",
      "Both addresses same: False\n"
     ]
    }
   ],
   "source": [
    "\n",
    "a = 671\n",
    "b = 671\n",
    "\n",
    "print(\"a == b returns\", a == b)   # True because the value of a is same as the value of b\n",
    "print(\"a is b returns\", a is b)   # False because 671 is greater than the numbers in the range [-5,256] and hence is considered as a large integer\n",
    "\n",
    "print(\"\\nTo confirm:\")\n",
    "# id ====> identity of an object\n",
    "print(\"The address of the int object, the variable 'a' is pointing to :\", id(a))\n",
    "print(\"The address of the int object, the variable 'b' is pointing to :\", id(b))\n",
    "print(\"Both addresses same:\",id(a) == id(b))\n"
   ]
  },
  {
   "cell_type": "code",
   "execution_count": null,
   "id": "ef728152-e1ac-4b4c-8d27-2aaef629f19f",
   "metadata": {},
   "outputs": [],
   "source": []
  },
  {
   "cell_type": "markdown",
   "id": "dffc4aa8-edc5-42c4-880d-66b1a3ebe3eb",
   "metadata": {},
   "source": [
    "<br>\n",
    "\n",
    "<br>\n",
    "\n",
    "**The Python interpreter <span style=\"background-color: yellow\">never overwrites a variable</span>, rather the variable starts pointing to the <span style=\"background-color: #CAFEFD\">new location</span> the new value is stored at.**"
   ]
  },
  {
   "cell_type": "code",
   "execution_count": 23,
   "id": "fb1694f9-842d-461f-a543-b3fc27038f30",
   "metadata": {},
   "outputs": [
    {
     "name": "stdout",
     "output_type": "stream",
     "text": [
      "Step-1 =====> length =  10    |    address = 140727665419336\n",
      "Step-2 =====> length =  20    |    address = 140727665419656\n"
     ]
    }
   ],
   "source": [
    "\n",
    "# Step-1\n",
    "length = 10\n",
    "print(\"Step-1 =====> length = \",length,\"   |   \",\"address =\", id(length))\n",
    "\n",
    "# Step-2 \n",
    "length = 20\n",
    "print(\"Step-2 =====> length = \",length,\"   |   \",\"address =\", id(length))\n"
   ]
  },
  {
   "cell_type": "code",
   "execution_count": 24,
   "id": "e8e00498-d173-415a-8c6b-e2ec078affae",
   "metadata": {},
   "outputs": [
    {
     "data": {
      "text/plain": [
       "140727665419656"
      ]
     },
     "execution_count": 24,
     "metadata": {},
     "output_type": "execute_result"
    }
   ],
   "source": [
    "\n",
    "breadth = 20\n",
    "id(breadth)\n"
   ]
  },
  {
   "cell_type": "code",
   "execution_count": 25,
   "id": "36f86b9e-a61b-451f-9a04-547feda20d4b",
   "metadata": {},
   "outputs": [
    {
     "data": {
      "text/plain": [
       "True"
      ]
     },
     "execution_count": 25,
     "metadata": {},
     "output_type": "execute_result"
    }
   ],
   "source": [
    "\n",
    "id(length) == id(breadth)\n"
   ]
  },
  {
   "cell_type": "code",
   "execution_count": 26,
   "id": "52170f44-2e74-4c9c-8bc8-122176c6df4c",
   "metadata": {},
   "outputs": [
    {
     "name": "stdout",
     "output_type": "stream",
     "text": [
      "140727665419656 140727665419656\n"
     ]
    }
   ],
   "source": [
    "\n",
    "length = 20\n",
    "breadth = 20\n",
    "print(id(length),id(breadth))\n"
   ]
  },
  {
   "cell_type": "code",
   "execution_count": 27,
   "id": "997ec251-3a9b-4a68-9aa3-5d4d663c4df1",
   "metadata": {},
   "outputs": [
    {
     "data": {
      "text/plain": [
       "True"
      ]
     },
     "execution_count": 27,
     "metadata": {},
     "output_type": "execute_result"
    }
   ],
   "source": [
    "\n",
    "id(length) == id(breadth)\n"
   ]
  },
  {
   "cell_type": "code",
   "execution_count": 28,
   "id": "aaaf610a-20b3-41f7-9c1f-e16685010801",
   "metadata": {},
   "outputs": [
    {
     "data": {
      "text/plain": [
       "(20, 20)"
      ]
     },
     "execution_count": 28,
     "metadata": {},
     "output_type": "execute_result"
    }
   ],
   "source": [
    "\n",
    "# print(length,breadth) ---- 20 20\n",
    "length,breadth\n"
   ]
  },
  {
   "cell_type": "code",
   "execution_count": 29,
   "id": "8012dfb2-a341-4a45-8836-8d54c4f767dc",
   "metadata": {},
   "outputs": [
    {
     "data": {
      "text/plain": [
       "(140727665419656, 140727665419656)"
      ]
     },
     "execution_count": 29,
     "metadata": {},
     "output_type": "execute_result"
    }
   ],
   "source": [
    "\n",
    "id(length),id(breadth)\n"
   ]
  },
  {
   "cell_type": "code",
   "execution_count": 30,
   "id": "5e491cd5-6c15-4944-8f80-e941d8e88d6c",
   "metadata": {},
   "outputs": [
    {
     "data": {
      "text/plain": [
       "140727665419976"
      ]
     },
     "execution_count": 30,
     "metadata": {},
     "output_type": "execute_result"
    }
   ],
   "source": [
    "\n",
    "length = 30\n",
    "id(length)\n"
   ]
  },
  {
   "cell_type": "code",
   "execution_count": 31,
   "id": "efcde04c-faac-4613-92f5-ef8d79df6755",
   "metadata": {},
   "outputs": [
    {
     "data": {
      "text/plain": [
       "False"
      ]
     },
     "execution_count": 31,
     "metadata": {},
     "output_type": "execute_result"
    }
   ],
   "source": [
    "\n",
    "id(length) == id(breadth)\n"
   ]
  },
  {
   "cell_type": "markdown",
   "id": "cc91b090-ffd4-4024-885d-672af78f7bde",
   "metadata": {},
   "source": [
    "<br>\n",
    "\n",
    "<div style=\"border: 1px solid pink; padding: 10px; background-color: #fff6f6 \">\n",
    "\n",
    "<font size=\"+2\">⭐</font> **snake_case**, **camelCase**, **PascalCase**\n",
    "\n",
    "&nbsp;&nbsp;&nbsp;&nbsp;&nbsp;&nbsp;&nbsp;&nbsp;&nbsp;&nbsp;➜ &nbsp;&nbsp;**<span style=\"color: blue\">snake_case</span>**   &nbsp;&nbsp;=====>&nbsp;&nbsp;   length_garden = 10   <br>\n",
    "&nbsp;&nbsp;&nbsp;&nbsp;&nbsp;&nbsp;&nbsp;&nbsp;&nbsp;&nbsp;➜ &nbsp;&nbsp;**<span style=\"color: blue\">camelCase**</span>    &nbsp;&nbsp;=====>&nbsp;&nbsp;   &nbsp;lengthGarden = 10    <br>\n",
    "&nbsp;&nbsp;&nbsp;&nbsp;&nbsp;&nbsp;&nbsp;&nbsp;&nbsp;&nbsp;➜ &nbsp;&nbsp;**<span style=\"color: blue\">PascalCase**</span>   &nbsp;&nbsp;=====>&nbsp;&nbsp;   LengthGarden = 10    <br>\n",
    "\n",
    "</div>"
   ]
  },
  {
   "cell_type": "code",
   "execution_count": 37,
   "id": "cf96eb42-110c-4bc3-98c0-f7b5e1c52f92",
   "metadata": {},
   "outputs": [
    {
     "data": {
      "text/plain": [
       "(10, 20, 30)"
      ]
     },
     "execution_count": 37,
     "metadata": {},
     "output_type": "execute_result"
    }
   ],
   "source": [
    "\n",
    "# Case-Sensitivity\n",
    "\n",
    "length = 10\n",
    "Length = 20\n",
    "LENGTH = 30\n",
    "\n",
    "length,Length,LENGTH\n"
   ]
  },
  {
   "cell_type": "code",
   "execution_count": 38,
   "id": "2258b402-10d5-4d34-9a8c-1d87dbf77e77",
   "metadata": {},
   "outputs": [
    {
     "name": "stdout",
     "output_type": "stream",
     "text": [
      "id(x) = 2436221849856\n",
      "id(x) = 2436221849856\n",
      "x == y returns True\n",
      "x is y returns True\n",
      "\n",
      "id(a) = 2436220326576\n",
      "id(b) = 2436220326576\n",
      "a == b returns True\n",
      "a is b returns True\n"
     ]
    }
   ],
   "source": [
    "\n",
    "x = [1, 2, 3]\n",
    "y = x\n",
    "a = 10000\n",
    "b = a             # b will be the same object as a\n",
    "\n",
    "\n",
    "print(\"id(x) =\", id(x))\n",
    "print(\"id(x) =\", id(y))\n",
    "print(\"x == y returns\", x == y)\n",
    "print(\"x is y returns\", x is y)\n",
    "print()\n",
    "print(\"id(a) =\", id(a))\n",
    "print(\"id(b) =\", id(b))\n",
    "print(\"a == b returns\", a == b)\n",
    "print(\"a is b returns\", a is b)\n"
   ]
  },
  {
   "cell_type": "code",
   "execution_count": 39,
   "id": "c1affeb0-de88-484a-9583-80fb2a1f0e60",
   "metadata": {},
   "outputs": [
    {
     "name": "stdout",
     "output_type": "stream",
     "text": [
      "id(x) = 2436221805504\n",
      "id(x) = 2436221805504\n",
      "x == y returns True\n",
      "x is y returns True\n",
      "\n",
      "id(a) = 2436220337136\n",
      "id(b) = 2436220327632\n",
      "a == b returns True\n",
      "a is b returns False\n"
     ]
    }
   ],
   "source": [
    "\n",
    "x = [1, 2, 3]\n",
    "y = x\n",
    "a = 10000 \n",
    "b = a + 1 -1      # b will not be the same object as a\n",
    "\n",
    "\n",
    "print(\"id(x) =\", id(x))\n",
    "print(\"id(x) =\", id(y))\n",
    "print(\"x == y returns\", x == y)\n",
    "print(\"x is y returns\", x is y)\n",
    "print()\n",
    "print(\"id(a) =\", id(a))\n",
    "print(\"id(b) =\", id(b))\n",
    "print(\"a == b returns\", a == b)\n",
    "print(\"a is b returns\", a is b)\n"
   ]
  },
  {
   "cell_type": "markdown",
   "id": "356a367f-c28e-46b6-86ee-7d0fa480d9f9",
   "metadata": {},
   "source": [
    "<br>\n",
    "\n",
    "As we can see **Python has it's own way of efficiently handling memory**, it's designed to handle large data sets in data science in an optimized way."
   ]
  },
  {
   "cell_type": "code",
   "execution_count": null,
   "id": "279a4e27-8c67-4ac9-82a9-6e5ea34ede01",
   "metadata": {},
   "outputs": [],
   "source": []
  },
  {
   "cell_type": "markdown",
   "id": "6ccb6dfa-41f3-4603-9cad-b2cca362e179",
   "metadata": {},
   "source": [
    "<br>\n",
    "\n",
    "### 2. <span style=\"background-color: yellow;\">Data Types</span>\n",
    "\n",
    "<br>\n",
    "\n",
    "Variables can store data of different types, and different types can do different things.\n",
    "\n",
    "Python has the following **data types built-in by default**, in these categories:\n",
    "\n",
    "\n",
    "&nbsp;&nbsp;&nbsp;&nbsp;&nbsp;&nbsp;⇒ <span style=\"color: blue\">**Text**</span> Types: &nbsp;&nbsp;<span style=\"background-color: #C5FFF9;color: red\">&nbsp;&nbsp;**str**&nbsp;&nbsp;</span><br>\n",
    "\n",
    "&nbsp;&nbsp;&nbsp;&nbsp;&nbsp;&nbsp;⇒ <span style=\"color: blue\">**Numeric**</span> Types: &nbsp;&nbsp;<span style=\"background-color: #C5FFF9;color: red\">&nbsp;&nbsp;**int**&nbsp;&nbsp;</span>**,**&nbsp;&nbsp;<span style=\"background-color: #C5FFF9;color: red\">&nbsp;&nbsp;**float**&nbsp;&nbsp;</span>**,**&nbsp;&nbsp;<span style=\"background-color: #C5FFF9;color: red\">&nbsp;&nbsp;**complex**&nbsp;&nbsp;</span><br>\n",
    "\n",
    "&nbsp;&nbsp;&nbsp;&nbsp;&nbsp;&nbsp;⇒ <span style=\"color: blue\">**Sequence**</span> Types: &nbsp;&nbsp;<span style=\"background-color: #C5FFF9;color: red\">&nbsp;&nbsp;**list**&nbsp;&nbsp;</span>**,**&nbsp;&nbsp;<span style=\"background-color: #C5FFF9;color: red\">&nbsp;&nbsp;**tuple**&nbsp;&nbsp;</span>**,**&nbsp;&nbsp;<span style=\"background-color: #C5FFF9;color: red\">&nbsp;&nbsp;**range**&nbsp;&nbsp;</span><br>\n",
    "\n",
    "&nbsp;&nbsp;&nbsp;&nbsp;&nbsp;&nbsp;⇒ <span style=\"color: blue\">**Mapping**</span> Types: &nbsp;&nbsp;<span style=\"background-color: #C5FFF9;color: red\">&nbsp;&nbsp;**dict**&nbsp;&nbsp;</span><br>\n",
    "\n",
    "&nbsp;&nbsp;&nbsp;&nbsp;&nbsp;&nbsp;⇒ <span style=\"color: blue\">**Set**</span> Types: &nbsp;&nbsp;<span style=\"background-color: #C5FFF9;color: red\">&nbsp;&nbsp;**set**&nbsp;&nbsp;</span>**,**&nbsp;&nbsp;<span style=\"background-color: #C5FFF9;color: red\">&nbsp;&nbsp;**frozenset**&nbsp;&nbsp;</span><br>\n",
    "\n",
    "&nbsp;&nbsp;&nbsp;&nbsp;&nbsp;&nbsp;⇒ <span style=\"color: blue\">**Boolean**</span> Types: &nbsp;&nbsp;<span style=\"background-color: #C5FFF9;color: red\">&nbsp;&nbsp;**bool**&nbsp;&nbsp;</span><br>\n",
    "\n",
    "&nbsp;&nbsp;&nbsp;&nbsp;&nbsp;&nbsp;⇒ <span style=\"color: blue\">**Binary**</span> Types: &nbsp;&nbsp;<span style=\"background-color: #C5FFF9;color: red\">&nbsp;&nbsp;**bytes**&nbsp;&nbsp;</span>**,**&nbsp;&nbsp;<span style=\"background-color: #C5FFF9;color: red\">&nbsp;&nbsp;**bytearray**&nbsp;&nbsp;</span>**,**&nbsp;&nbsp;<span style=\"background-color: #C5FFF9;color: red\">&nbsp;&nbsp;**memoryview**&nbsp;&nbsp;</span><br>\n",
    "\n",
    "&nbsp;&nbsp;&nbsp;&nbsp;&nbsp;&nbsp;⇒ <span style=\"color: blue\">**None**</span> Types: &nbsp;&nbsp;<span style=\"background-color: #C5FFF9;color: red\">&nbsp;&nbsp;**NoneType**&nbsp;&nbsp;</span><br>\n",
    "\n",
    "<br>\n",
    "\n",
    "Unlike C/C++, in **Python** we don't have to declare a variable with it's data type. The Python Interpreter automatically itself interprets the data type of the variable by interpreting the value assigned to that variable. In other words, **the data type of a variable is decided at the run time only**. That is why, Python is called **Dynamically Typed Language**.\n"
   ]
  },
  {
   "cell_type": "code",
   "execution_count": 41,
   "id": "7ed71572-9a31-44e6-b232-05ec06c45423",
   "metadata": {},
   "outputs": [
    {
     "name": "stdout",
     "output_type": "stream",
     "text": [
      "length_of_land =  100\n",
      "bricks_cost_per_piece =  10.5\n",
      "labour_mistry1 =  Jagmohan\n",
      "is_home =  True\n",
      "complex_variable1 =  (5+3j)\n",
      "complex_variable2 =  (2+5j)\n",
      "total_income =  None\n"
     ]
    }
   ],
   "source": [
    "\n",
    "# 5 main simple datatypes\n",
    "\n",
    "length_of_land = 100                   # The python interpreter automatically interprets it as INTEGER type without we having to explicitly inform like in the case of C/C++\n",
    "bricks_cost_per_piece = 10.5           # The python interpreter automatically interprets it as FLOAT type just by looking at the value\n",
    "labour_mistry1 = 'Jagmohan'            # The python interpreter automatically interprets it as STRING type just by looking at the value\n",
    "is_home = True                         # The python interpreter automatically interprets it as BOOLEAN type just by looking at the value\n",
    "complex_variable1 = complex(5,3)       # The python interpreter automatically interprets it as COMPLEX type just by looking at the value\n",
    "complex_variable2 = 2+5j               # The python interpreter automatically interprets it as COMPLEX type just by looking at the value\n",
    "total_income = None                    # The python interpreter automatically interprets it as NONE (or UNKNOWN) type just by looking at the value\n",
    "\n",
    "\n",
    "print(\"length_of_land = \", length_of_land)\n",
    "print(\"bricks_cost_per_piece = \", bricks_cost_per_piece)\n",
    "print(\"labour_mistry1 = \", labour_mistry1)\n",
    "print(\"is_home = \", is_home)\n",
    "print(\"complex_variable1 = \", complex_variable1)\n",
    "print(\"complex_variable2 = \", complex_variable2)\n",
    "print(\"total_income = \", total_income)\n"
   ]
  },
  {
   "cell_type": "markdown",
   "id": "dca04020-2839-42d4-8eaf-fac457a1b29a",
   "metadata": {},
   "source": [
    "\n",
    "<br>\n",
    "\n",
    "#### <span style=\"background-color: #F5C0FF\">**Getting the Data Type**</span>\n"
   ]
  },
  {
   "cell_type": "code",
   "execution_count": 42,
   "id": "864ed2df-fe6d-4dbe-9054-198664b78ee7",
   "metadata": {},
   "outputs": [
    {
     "name": "stdout",
     "output_type": "stream",
     "text": [
      "Data Engineering is awesome\n",
      "<class 'str'>\n"
     ]
    }
   ],
   "source": [
    "\n",
    "x = \"Data Engineering is awesome\"\n",
    "\n",
    "#display x:\n",
    "print(x)\n",
    "\n",
    "#display the data type of x:\n",
    "print(type(x)) \n"
   ]
  },
  {
   "cell_type": "code",
   "execution_count": 43,
   "id": "b160ed3e-28d2-4cf4-950c-7ee193233ed4",
   "metadata": {},
   "outputs": [
    {
     "data": {
      "text/plain": [
       "(int, float, str, bool, complex, complex, NoneType)"
      ]
     },
     "execution_count": 43,
     "metadata": {},
     "output_type": "execute_result"
    }
   ],
   "source": [
    "\n",
    "type(length_of_land), type(bricks_cost_per_piece), type(labour_mistry1), type(is_home), type(complex_variable1), type(complex_variable2), type(total_income)\n"
   ]
  },
  {
   "cell_type": "code",
   "execution_count": 44,
   "id": "fe14ad5a-d8b3-489f-9116-2eb2418faf11",
   "metadata": {},
   "outputs": [
    {
     "name": "stdout",
     "output_type": "stream",
     "text": [
      "length_of_land =         100         |  data type ===>  <class 'int'>\n",
      "bricks_cost_per_piece =  10.5        |  data type ===>  <class 'float'>\n",
      "labour_mistry1 =         Jagmohan    |  data type ===>  <class 'str'>\n",
      "is_home =                True        |  data type ===>  <class 'bool'>\n",
      "complex_variable1 =      (5+3j)      |  data type ===>  <class 'complex'>\n",
      "complex_variable2 =      (2+5j)      |  data type ===>  <class 'complex'>\n",
      "total_income =           None        |  data type ===>  <class 'NoneType'>\n"
     ]
    }
   ],
   "source": [
    "\n",
    "print(\"length_of_land =        \", length_of_land, \"        |  data type ===> \", type(length_of_land))\n",
    "print(\"bricks_cost_per_piece = \", bricks_cost_per_piece, \"       |  data type ===> \", type(bricks_cost_per_piece))\n",
    "print(\"labour_mistry1 =        \", labour_mistry1, \"   |  data type ===> \", type(labour_mistry1))\n",
    "print(\"is_home =               \", is_home, \"       |  data type ===> \", type(is_home))\n",
    "print(\"complex_variable1 =     \", complex_variable1, \"     |  data type ===> \", type(complex_variable1))\n",
    "print(\"complex_variable2 =     \", complex_variable2, \"     |  data type ===> \", type(complex_variable2))\n",
    "print(\"total_income =          \", total_income, \"       |  data type ===> \", type(total_income))\n"
   ]
  },
  {
   "cell_type": "code",
   "execution_count": 45,
   "id": "e26f9a61-679f-4d0b-a545-79fe607139ce",
   "metadata": {},
   "outputs": [
    {
     "name": "stdout",
     "output_type": "stream",
     "text": [
      "<class 'float'>\n",
      "<class 'float'>\n",
      "<class 'float'>\n"
     ]
    }
   ],
   "source": [
    "\n",
    "x = 1.10\n",
    "y = 1.0\n",
    "z = -35.59\n",
    "\n",
    "print(type(x))\n",
    "print(type(y))\n",
    "print(type(z))\n"
   ]
  },
  {
   "cell_type": "code",
   "execution_count": 46,
   "id": "d768d1f0-5373-48c4-8b87-d33c0edd409b",
   "metadata": {},
   "outputs": [
    {
     "name": "stdout",
     "output_type": "stream",
     "text": [
      "<class 'float'>\n",
      "<class 'float'>\n",
      "<class 'float'>\n"
     ]
    }
   ],
   "source": [
    "\n",
    "x = 35e3\n",
    "y = 12E4\n",
    "z = -87.7e100\n",
    "\n",
    "print(type(x))\n",
    "print(type(y))\n",
    "print(type(z))\n"
   ]
  },
  {
   "cell_type": "code",
   "execution_count": 48,
   "id": "91669935-4ba0-40d9-bd9d-aaa0cceeaafb",
   "metadata": {},
   "outputs": [
    {
     "data": {
      "text/plain": [
       "complex"
      ]
     },
     "execution_count": 48,
     "metadata": {},
     "output_type": "execute_result"
    }
   ],
   "source": [
    "\n",
    "type(1+2j)\n"
   ]
  },
  {
   "cell_type": "code",
   "execution_count": 49,
   "id": "9da6c1a6-4f1a-481b-b901-42e5b6efe30f",
   "metadata": {},
   "outputs": [
    {
     "ename": "SyntaxError",
     "evalue": "invalid decimal literal (2037641924.py, line 2)",
     "output_type": "error",
     "traceback": [
      "\u001b[1;36m  Cell \u001b[1;32mIn[49], line 2\u001b[1;36m\u001b[0m\n\u001b[1;33m    type(1+2i)\u001b[0m\n\u001b[1;37m           ^\u001b[0m\n\u001b[1;31mSyntaxError\u001b[0m\u001b[1;31m:\u001b[0m invalid decimal literal\n"
     ]
    }
   ],
   "source": [
    "\n",
    "# SyntaxError: invalid decimal literal\n",
    "type(1+2i)\n"
   ]
  },
  {
   "cell_type": "code",
   "execution_count": 50,
   "id": "74d657e5-63f1-44d3-84fd-e2b75613ba47",
   "metadata": {},
   "outputs": [
    {
     "name": "stdout",
     "output_type": "stream",
     "text": [
      "<class 'complex'>\n",
      "<class 'complex'>\n",
      "<class 'complex'>\n"
     ]
    }
   ],
   "source": [
    "\n",
    "x = 3+5j\n",
    "y = 5j\n",
    "z = -5j\n",
    "\n",
    "print(type(x))\n",
    "print(type(y))\n",
    "print(type(z))\n"
   ]
  },
  {
   "cell_type": "code",
   "execution_count": null,
   "id": "c578363a-f907-428c-99fc-996a7009fe25",
   "metadata": {},
   "outputs": [],
   "source": []
  },
  {
   "cell_type": "code",
   "execution_count": 51,
   "id": "0bccf067-dc49-4b73-a42b-d02b5f93b7ea",
   "metadata": {},
   "outputs": [
    {
     "data": {
      "text/plain": [
       "int"
      ]
     },
     "execution_count": 51,
     "metadata": {},
     "output_type": "execute_result"
    }
   ],
   "source": [
    "\n",
    "n = 1000\n",
    "type(n)\n"
   ]
  },
  {
   "cell_type": "markdown",
   "id": "b294c098-016b-48c8-adff-f688e2c023f6",
   "metadata": {},
   "source": [
    "<br>\n",
    "\n",
    "<span style=\"background-color: #C9FF71;color: black\">**Note**</span> : Just like C/C++/Java, <span style=\"background-color: #C5FFF9\">**Python** also allows us to **explicitly** mention the data type of a variable :</span>\n"
   ]
  },
  {
   "cell_type": "code",
   "execution_count": 54,
   "id": "442eb144-9e95-4cd6-b49c-b7161d4c45dd",
   "metadata": {},
   "outputs": [
    {
     "data": {
      "text/plain": [
       "int"
      ]
     },
     "execution_count": 54,
     "metadata": {},
     "output_type": "execute_result"
    }
   ],
   "source": [
    "\n",
    "num = 10000000         # The Python Interpreter dynamically interprets the data type of the variable n by looking at the value\n",
    "type(num)\n"
   ]
  },
  {
   "cell_type": "code",
   "execution_count": 55,
   "id": "f4e48232-e896-4072-842e-d3e70de417ea",
   "metadata": {},
   "outputs": [
    {
     "data": {
      "text/plain": [
       "int"
      ]
     },
     "execution_count": 55,
     "metadata": {},
     "output_type": "execute_result"
    }
   ],
   "source": [
    "\n",
    "num: int = 10000000    # Explicitly mentioning INT thereby defininng the data type pf the variable\n",
    "type(num)\n"
   ]
  },
  {
   "cell_type": "code",
   "execution_count": 56,
   "id": "f3a62d08-3771-451a-89ee-d7228092b237",
   "metadata": {},
   "outputs": [
    {
     "data": {
      "text/plain": [
       "str"
      ]
     },
     "execution_count": 56,
     "metadata": {},
     "output_type": "execute_result"
    }
   ],
   "source": [
    "\n",
    "name = \"Avinash\"     # The Python Interpreter dynamically interprets the data type of the variable name by looking at the value\n",
    "type(name)\n"
   ]
  },
  {
   "cell_type": "code",
   "execution_count": 57,
   "id": "037048db-febf-4f4c-b245-def1a42f3746",
   "metadata": {},
   "outputs": [
    {
     "data": {
      "text/plain": [
       "str"
      ]
     },
     "execution_count": 57,
     "metadata": {},
     "output_type": "execute_result"
    }
   ],
   "source": [
    "\n",
    "name: str = \"Avinash\"   # Explicitly mentioning STR thereby defininng the data type pf the variable\n",
    "type(name)\n"
   ]
  },
  {
   "cell_type": "markdown",
   "id": "b3c5cdcd-7c24-4f92-bed3-6c2ce12efd6d",
   "metadata": {},
   "source": [
    "<br>\n",
    "\n",
    "#### <span style=\"background-color: #F5C0FF\">**Setting the Data Type**</span>\n",
    "\n",
    "<br>\n",
    "\n",
    "<span style=\"background-color: #C5FFF9\">In Python, the data type is set when you assign a value to a variable. That's why Python is called **Dynamically Typed Language**.</span>\n"
   ]
  },
  {
   "cell_type": "code",
   "execution_count": 59,
   "id": "f70c437d-8f60-4a89-b82f-46dfdf8ba8ab",
   "metadata": {},
   "outputs": [],
   "source": [
    "\n",
    "x_str = \"Hello World\"\n",
    "\n",
    "x_int = 20\n",
    "\n",
    "x_float = 20.5\n",
    "\n",
    "x_complex = 1j\n",
    "\n",
    "x_list = [\"apple\", \"banana\", \"cherry\"]\n",
    "\n",
    "x_tuple = (\"apple\", \"banana\", \"cherry\")\n",
    "\n",
    "x_range = range(6)\n",
    "\n",
    "x_dict = {\"name\" : \"John\", \"age\" : 36}\n",
    "\n",
    "x_set = {\"apple\", \"banana\", \"cherry\"}\n",
    "\n",
    "x_frozenset = frozenset({\"apple\", \"banana\", \"cherry\"})\n",
    "\n",
    "x_bool = True\n",
    "\n",
    "x_bytes = b\"Hello\"\n",
    "\n",
    "x_bytearray = bytearray(5)\n",
    "\n",
    "x_memoryview = memoryview(bytes(5))\n",
    "\n",
    "x_none = None\n"
   ]
  },
  {
   "cell_type": "markdown",
   "id": "55a12cfb-4539-4aad-a2b5-fd5f48056f23",
   "metadata": {},
   "source": [
    "\n",
    "<br>\n",
    "\n",
    "#### <span style=\"background-color: #F5C0FF\">**Setting the Specific Data Type**</span>\n"
   ]
  },
  {
   "cell_type": "code",
   "execution_count": 60,
   "id": "9b095969-a23c-49e4-9688-5b545c40e9b8",
   "metadata": {},
   "outputs": [],
   "source": [
    "\n",
    "x_str = str(\"Hello World\")\n",
    "\n",
    "x_int = int(20)\n",
    "\n",
    "x_float = float(20.5)\n",
    "\n",
    "x_complex = complex(1j)\n",
    "\n",
    "x_list = list((\"apple\", \"banana\", \"cherry\"))\n",
    "\n",
    "x_tuple = tuple((\"apple\", \"banana\", \"cherry\"))\n",
    "\n",
    "x_range = range(6)\n",
    "\n",
    "x_dict = dict(name=\"John\", age=36)\n",
    "\n",
    "x_set = set((\"apple\", \"banana\", \"cherry\"))\n",
    "\n",
    "x_frozenset = frozenset((\"apple\", \"banana\", \"cherry\"))\n",
    "\n",
    "x_bool = bool(5)\n",
    "\n",
    "x_bytes = bytes(5)\n",
    "\n",
    "x_bytearray = bytearray(5)\n",
    "\n",
    "x_memoryview = memoryview(bytes(5))\n"
   ]
  },
  {
   "cell_type": "markdown",
   "id": "93a6a5bb-d848-4e49-964a-62dc11f3544f",
   "metadata": {},
   "source": [
    "<br>\n",
    "<br>\n",
    "\n",
    "\n",
    "<span style=\"background-color: #C9FF71;color: black\">**Note:**</span> <br>\n",
    "\n",
    "&nbsp;&nbsp;&nbsp;&nbsp;&nbsp;&nbsp;'&nbsp;<span style=\"background-color: #FFF971;color: red\">**True**</span>&nbsp;' is the keyword, not '**true**' or '**TRUE**'. <br>\n",
    "&nbsp;&nbsp;&nbsp;&nbsp;&nbsp;&nbsp;'&nbsp;<span style=\"background-color: #FFF971;color: red\">**False**</span>&nbsp;' is the keyword, not '**false**' or '**FALSE**'\n"
   ]
  },
  {
   "cell_type": "code",
   "execution_count": 63,
   "id": "f1f41213-1d15-4141-a9eb-4da6216a0a22",
   "metadata": {},
   "outputs": [
    {
     "ename": "NameError",
     "evalue": "name 'true' is not defined",
     "output_type": "error",
     "traceback": [
      "\u001b[1;31m---------------------------------------------------------------------------\u001b[0m",
      "\u001b[1;31mNameError\u001b[0m                                 Traceback (most recent call last)",
      "Cell \u001b[1;32mIn[63], line 2\u001b[0m\n\u001b[0;32m      1\u001b[0m \u001b[38;5;66;03m#  NameError: name 'true' is not defined\u001b[39;00m\n\u001b[1;32m----> 2\u001b[0m is_office \u001b[38;5;241m=\u001b[39m \u001b[43mtrue\u001b[49m\n",
      "\u001b[1;31mNameError\u001b[0m: name 'true' is not defined"
     ]
    }
   ],
   "source": [
    "\n",
    "#  NameError: name 'true' is not defined\n",
    "is_office = true\n"
   ]
  },
  {
   "cell_type": "code",
   "execution_count": 64,
   "id": "277783fb-979e-429b-b3d0-e8cff54e527f",
   "metadata": {},
   "outputs": [
    {
     "ename": "NameError",
     "evalue": "name 'TRUE' is not defined",
     "output_type": "error",
     "traceback": [
      "\u001b[1;31m---------------------------------------------------------------------------\u001b[0m",
      "\u001b[1;31mNameError\u001b[0m                                 Traceback (most recent call last)",
      "Cell \u001b[1;32mIn[64], line 2\u001b[0m\n\u001b[0;32m      1\u001b[0m \u001b[38;5;66;03m# NameError: name 'TRUE' is not defined\u001b[39;00m\n\u001b[1;32m----> 2\u001b[0m is_office \u001b[38;5;241m=\u001b[39m \u001b[43mTRUE\u001b[49m\n",
      "\u001b[1;31mNameError\u001b[0m: name 'TRUE' is not defined"
     ]
    }
   ],
   "source": [
    "\n",
    "# NameError: name 'TRUE' is not defined\n",
    "is_office = TRUE\n"
   ]
  },
  {
   "cell_type": "code",
   "execution_count": 65,
   "id": "900211c5-e43c-4612-90c5-9895912a3a4c",
   "metadata": {},
   "outputs": [
    {
     "data": {
      "text/plain": [
       "(True, 'yes', 'true')"
      ]
     },
     "execution_count": 65,
     "metadata": {},
     "output_type": "execute_result"
    }
   ],
   "source": [
    "\n",
    "is_home = True\n",
    "\n",
    "true = 'yes'       \n",
    "is_office1 = true\n",
    "\n",
    "is_office2 = 'true'\n",
    "\n",
    "is_home, is_office1, is_office2\n"
   ]
  },
  {
   "cell_type": "code",
   "execution_count": 66,
   "id": "1e7b7579-d629-4b09-8d84-c07619058435",
   "metadata": {},
   "outputs": [
    {
     "data": {
      "text/plain": [
       "(bool, str, str)"
      ]
     },
     "execution_count": 66,
     "metadata": {},
     "output_type": "execute_result"
    }
   ],
   "source": [
    "\n",
    "type(is_home), type(is_office1), type(is_office2)\n"
   ]
  },
  {
   "cell_type": "markdown",
   "id": "8c042717-f183-4650-abdf-d3fcfc2acb85",
   "metadata": {},
   "source": [
    "\n",
    "<br>\n",
    "\n",
    "#### <span style=\"background-color: #F5C0FF\">**Getting the size of a value**</span>\n",
    "\n",
    "&nbsp;&nbsp;&nbsp;&nbsp;&nbsp;&nbsp;&nbsp;&nbsp;&nbsp;&nbsp;<span style=\"color: red\"><font size=\"+2\">↳⭐</font></span>&nbsp;In Python, **integers** are represented using a <span style=\"background-color: #E8DAEF\">&nbsp;variable-length <span style=\"color: blue\">**two's complement format**</span>&nbsp;</span> to ensure **efficient memory utilization**. <br>\n",
    "\n",
    "&nbsp;&nbsp;&nbsp;&nbsp;&nbsp;&nbsp;&nbsp;&nbsp;&nbsp;&nbsp;&nbsp;&nbsp;&nbsp;&nbsp;&nbsp;&nbsp;&nbsp;&nbsp;&nbsp;&nbsp;&nbsp;&nbsp;&nbsp;&nbsp;&nbsp;&nbsp;&nbsp; ⇒ &nbsp; It means unlike C/C++/Java, **Python uses a variable number of bits to store integers** with <span style=\"background-color: yellow;color: red\">&nbsp;**+0b**&nbsp;</span> (for representing **positive** numbers) <br>\n",
    "&nbsp;&nbsp;&nbsp;&nbsp;&nbsp;&nbsp;&nbsp;&nbsp;&nbsp;&nbsp;&nbsp;&nbsp;&nbsp;&nbsp;&nbsp;&nbsp;&nbsp;&nbsp;&nbsp;&nbsp;&nbsp;&nbsp;&nbsp;&nbsp;&nbsp;&nbsp;&nbsp;&nbsp;&nbsp;&nbsp;&nbsp;&nbsp;&nbsp;&nbsp;and <span style=\"background-color: yellow;color: red\">&nbsp;**-0b**&nbsp;</span> (for representing **negative** numbers) in the begining of their **binary representations**. <br>\n",
    "&nbsp;&nbsp;&nbsp;&nbsp;&nbsp;&nbsp;&nbsp;&nbsp;&nbsp;&nbsp;&nbsp;&nbsp;&nbsp;&nbsp;&nbsp;&nbsp;&nbsp;&nbsp;&nbsp;&nbsp;&nbsp;&nbsp;&nbsp;&nbsp;&nbsp;&nbsp;&nbsp;&nbsp;&nbsp;&nbsp;&nbsp;&nbsp;&nbsp;&nbsp;For example, <span style=\"background-color: #EFEAF1;color:red\"><strong> &nbsp; 8 bits &nbsp;</strong></span>**,** <span style=\"background-color: #EFEAF1;color:red\"><strong> &nbsp; 16 bits &nbsp;</strong></span>**,** <span style=\"background-color: #EFEAF1;color:red\"><strong> &nbsp; 32 bits &nbsp;</strong></span>**,** <span style=\"background-color: #EFEAF1;color:red\"><strong> &nbsp; 64 bits &nbsp;</strong></span>**,** <span style=\"background-color: #EFEAF1;color:red\"><strong> &nbsp; 128 bits &nbsp;</strong></span>**,** and so on. <br> <br>\n",
    "\n",
    "<div style=\"border: 1px solid pink; padding: 5px; margin-left: 130px; width: 780px\">\n",
    "\n",
    "**n-bit system** ===> [ &nbsp;<span style=\"background-color:yellow\"><strong>&nbsp; -( 2 ** (n - 1) ) &nbsp;</strong></span>&nbsp;&nbsp;**,**&nbsp;&nbsp;  <span style=\"background-color:yellow\"><strong>&nbsp; (2 ** (n - 1)) - 1 &nbsp;</strong></span> ]\n",
    "\n",
    "<br>\n",
    "\n",
    "&nbsp;&nbsp;&nbsp;&nbsp;&nbsp;&nbsp;&nbsp;&nbsp;&nbsp;&nbsp;&nbsp;&nbsp;&nbsp;&nbsp;&nbsp;&nbsp;&nbsp;&nbsp;8-bits &nbsp;&nbsp;~ **[&nbsp;**<span style=\"background-color: #EFEAF1;color:red\"><strong>&nbsp;-(2 ** 7)&nbsp;</strong></span>&nbsp;**,** &nbsp;<span style=\"background-color: #EFEAF1;color:red\"><strong>&nbsp;((2 ** 7) - 1) &nbsp;</strong></span><strong>]</strong> =======> &nbsp;&nbsp;[&nbsp;<span style=\"background-color: #CAFEFD\">&nbsp;-128</span> , <span style=\"background-color: #CAFEFD\">127</span>&nbsp;] <br>\n",
    "&nbsp;&nbsp;&nbsp;&nbsp;&nbsp;&nbsp;&nbsp;&nbsp;&nbsp;&nbsp;&nbsp;&nbsp;&nbsp;&nbsp;&nbsp;&nbsp;&nbsp;&nbsp;16-bits ~ **[&nbsp;**<span style=\"background-color: #EFEAF1;color:red\"><strong>&nbsp;-(2 ** 15)&nbsp;</strong></span>&nbsp;**,** &nbsp;<span style=\"background-color: #EFEAF1;color:red\"><strong>&nbsp;((2 ** 15) - 1) &nbsp;</strong></span><strong>]</strong>  ======>&nbsp;[&nbsp;<span style=\"background-color: #CAFEFD\">-32,768</span> , <span style=\"background-color: #CAFEFD\">32,767</span>&nbsp;] <br>\n",
    "&nbsp;&nbsp;&nbsp;&nbsp;&nbsp;&nbsp;&nbsp;&nbsp;&nbsp;&nbsp;&nbsp;&nbsp;&nbsp;&nbsp;&nbsp;&nbsp;&nbsp;&nbsp;32-bits ~  **[&nbsp;**<span style=\"background-color: #EFEAF1;color:red\"><strong>&nbsp;-(2 ** 31)&nbsp;</strong></span>&nbsp;**,** &nbsp;<span style=\"background-color: #EFEAF1;color:red\"><strong>&nbsp;((2 ** 31) - 1) &nbsp;</strong></span><strong>]</strong> ======> [&nbsp;<span style=\"background-color: #CAFEFD\">-2,147,483,648</span> , <span style=\"background-color: #CAFEFD\">2,147,483,647</span>&nbsp;] <br>\n",
    "&nbsp;&nbsp;&nbsp;&nbsp;&nbsp;&nbsp;&nbsp;&nbsp;&nbsp;&nbsp;&nbsp;&nbsp;&nbsp;&nbsp;&nbsp;&nbsp;&nbsp;&nbsp;64-bits ~ **[&nbsp;**<span style=\"background-color: #EFEAF1;color:red\"><strong>&nbsp;-(2 ** 63)&nbsp;</strong></span>&nbsp;**,** &nbsp;<span style=\"background-color: #EFEAF1;color:red\"><strong>&nbsp;((2 ** 63) - 1) &nbsp;</strong></span><strong>]</strong> ======> [&nbsp;<span style=\"background-color: #CAFEFD\">-9,223,372,036,854,775,808</span> , <span style=\"background-color: #CAFEFD\">9,223,372,036,854,775,807</span>&nbsp;] <br>\n",
    "\n",
    "</div>\n",
    "\n",
    "<br>  <br>\n",
    "&nbsp;&nbsp;&nbsp;&nbsp;&nbsp;&nbsp;&nbsp;&nbsp;&nbsp;&nbsp;&nbsp;&nbsp;&nbsp;&nbsp;&nbsp;&nbsp;&nbsp;&nbsp;&nbsp;&nbsp;&nbsp;&nbsp;&nbsp;&nbsp;&nbsp;&nbsp;&nbsp; ⇒ &nbsp; It’s important to note that the <span style=\"background-color: #C5FFF9\">bigger the integer numbers</span> are, the <span style=\"background-color: #C5FFF9\">slower the calculations</span> such as <span style=\"background-color: yellow;font-size: larger\"><strong>&nbsp;+&nbsp;</strong></span>, <span style=\"background-color: yellow;font-size: larger\"><strong>&nbsp;-&nbsp;</strong></span>, … will be. <br>\n",
    "\n",
    "&nbsp;&nbsp;&nbsp;&nbsp;&nbsp;&nbsp;&nbsp;&nbsp;&nbsp;&nbsp;&nbsp;&nbsp;&nbsp;&nbsp;&nbsp;&nbsp;&nbsp;&nbsp;&nbsp;&nbsp;&nbsp;&nbsp;&nbsp;&nbsp;&nbsp;&nbsp;&nbsp; ⇒ &nbsp; Use <span style=\"color: red\">**sys.getsizeof()**</span> to get the size of an integer. \n",
    "\n",
    "&nbsp;&nbsp;&nbsp;&nbsp;&nbsp;&nbsp;&nbsp;&nbsp;&nbsp;&nbsp;&nbsp;&nbsp;&nbsp;&nbsp;&nbsp;&nbsp;&nbsp;&nbsp;&nbsp;&nbsp;&nbsp;&nbsp;&nbsp;&nbsp;&nbsp;&nbsp;&nbsp;&nbsp;&nbsp;&nbsp;&nbsp;&nbsp;&nbsp;&nbsp;The <span style=\"color: red\">**getsizeof()**</span> function from <span style=\"color: red\">**sys**</span> module returns the number of bytes that Python uses to represent an integer **along with it's overhead**.\n"
   ]
  },
  {
   "cell_type": "code",
   "execution_count": 67,
   "id": "ee365b3f-39ae-4c73-b7c0-8aea08184c8c",
   "metadata": {},
   "outputs": [
    {
     "name": "stdout",
     "output_type": "stream",
     "text": [
      "getsizeof(0) : 28\n",
      "\n",
      "getsizeof(100) : 28\n",
      "\n",
      "getsizeof(2**64) : 36\n"
     ]
    }
   ],
   "source": [
    "\n",
    "from sys import getsizeof\n",
    "\n",
    "\n",
    "print(\"getsizeof(0) :\",getsizeof(0))  # 28 bytes\n",
    "print()\n",
    "print(\"getsizeof(100) :\",getsizeof(100))  # 28 bytes\n",
    "print()\n",
    "print(\"getsizeof(2**64) :\",getsizeof(2**64))  # 36 bytes\n"
   ]
  },
  {
   "cell_type": "code",
   "execution_count": 68,
   "id": "ef3a0539-5a7a-43e7-b4c5-0fc2255bf3f9",
   "metadata": {},
   "outputs": [
    {
     "name": "stdout",
     "output_type": "stream",
     "text": [
      "getsizeof(-(2 ** 31)) : 32\n",
      "\n",
      "getsizeof((2 ** 31) - 1) : 32\n"
     ]
    }
   ],
   "source": [
    "\n",
    "print(\"getsizeof(-(2 ** 31)) :\",getsizeof(-(2**31)))  # 32 bytes\n",
    "print()\n",
    "print(\"getsizeof((2 ** 31) - 1) :\",getsizeof((2 ** 31) - 1))  # 32 bytes\n"
   ]
  },
  {
   "cell_type": "code",
   "execution_count": 69,
   "id": "0a011bbf-7b07-4461-a5b3-d3b122c31025",
   "metadata": {},
   "outputs": [
    {
     "name": "stdout",
     "output_type": "stream",
     "text": [
      "size of integer 0 in bytes:     28\n",
      "size of integer 1 in bytes:     28\n",
      "size of string '1' in bytes:    50\n",
      "size of list [1,2,3] in bytes:  88\n"
     ]
    }
   ],
   "source": [
    "\n",
    "import sys\n",
    "\n",
    "print(\"size of integer 0 in bytes:    \",sys.getsizeof(0))\n",
    "\n",
    "print(\"size of integer 1 in bytes:    \",sys.getsizeof(1))\n",
    "\n",
    "print(\"size of string '1' in bytes:   \",sys.getsizeof(\"1\"))\n",
    "\n",
    "print(\"size of list [1,2,3] in bytes: \",sys.getsizeof([1,2,3]))\n"
   ]
  },
  {
   "cell_type": "code",
   "execution_count": 70,
   "id": "3fa37df3-2000-4e7a-9e51-45c0cb09b5bb",
   "metadata": {},
   "outputs": [
    {
     "name": "stdout",
     "output_type": "stream",
     "text": [
      "size of integer 0 in bytes:     28\n",
      "size of integer 1 in bytes:     28\n",
      "size of string '1' in bytes:    50\n",
      "size of list [1,2,3] in bytes:  88\n"
     ]
    }
   ],
   "source": [
    "\n",
    "from sys import getsizeof\n",
    "\n",
    "print(\"size of integer 0 in bytes:    \",getsizeof(0))\n",
    "\n",
    "print(\"size of integer 1 in bytes:    \",getsizeof(1))\n",
    "\n",
    "print(\"size of string '1' in bytes:   \",getsizeof(\"1\"))\n",
    "\n",
    "print(\"size of list [1,2,3] in bytes: \",getsizeof([1,2,3]))\n"
   ]
  },
  {
   "cell_type": "code",
   "execution_count": null,
   "id": "f79848de-df46-4b40-ac68-dc80dcad4f44",
   "metadata": {},
   "outputs": [],
   "source": []
  },
  {
   "cell_type": "markdown",
   "id": "cd0a3d11-98e9-4902-9fec-d9f1eb32efc3",
   "metadata": {},
   "source": [
    "<br>\n",
    "\n",
    "### 3. <span style=\"background-color: yellow;\">Assign Multiple Values</span>\n",
    "<br>\n",
    "\n",
    "<span style=\"background-color: #F5C0FF\">**Many Values to Multiple Variables**</span>\n"
   ]
  },
  {
   "cell_type": "code",
   "execution_count": 71,
   "id": "eba41df2-5307-41ed-84ea-a1e32de8700a",
   "metadata": {},
   "outputs": [
    {
     "name": "stdout",
     "output_type": "stream",
     "text": [
      "Orange\n",
      "Banana\n",
      "Cherry\n"
     ]
    }
   ],
   "source": [
    "\n",
    "# Python allows you to assign values to multiple variables in one line:\n",
    "\n",
    "x, y, z = \"Orange\", \"Banana\", \"Cherry\"\n",
    "print(x)\n",
    "print(y)\n",
    "print(z)\n"
   ]
  },
  {
   "cell_type": "markdown",
   "id": "96ae21b9-7965-4b76-8707-168932c83270",
   "metadata": {},
   "source": [
    "<br>\n",
    "\n",
    "<span style=\"background-color: #C9FF71;color: black\">**Note:**</span> Make sure the **number of variables** <span style=\"color: blue\">**matches**</span> the **number of values**, or else you will get an <span style=\"color: red\">**error**</span>.\n"
   ]
  },
  {
   "cell_type": "code",
   "execution_count": 72,
   "id": "e03ae52a-df74-4dc7-aa12-db7793616deb",
   "metadata": {},
   "outputs": [
    {
     "ename": "ValueError",
     "evalue": "too many values to unpack (expected 3)",
     "output_type": "error",
     "traceback": [
      "\u001b[1;31m---------------------------------------------------------------------------\u001b[0m",
      "\u001b[1;31mValueError\u001b[0m                                Traceback (most recent call last)",
      "Cell \u001b[1;32mIn[72], line 1\u001b[0m\n\u001b[1;32m----> 1\u001b[0m x, y, z \u001b[38;5;241m=\u001b[39m \u001b[38;5;124m\"\u001b[39m\u001b[38;5;124mOrange\u001b[39m\u001b[38;5;124m\"\u001b[39m, \u001b[38;5;124m\"\u001b[39m\u001b[38;5;124mBanana\u001b[39m\u001b[38;5;124m\"\u001b[39m, \u001b[38;5;124m\"\u001b[39m\u001b[38;5;124mCherry\u001b[39m\u001b[38;5;124m\"\u001b[39m, \u001b[38;5;124m\"\u001b[39m\u001b[38;5;124mMango\u001b[39m\u001b[38;5;124m\"\u001b[39m\n",
      "\u001b[1;31mValueError\u001b[0m: too many values to unpack (expected 3)"
     ]
    }
   ],
   "source": [
    "\n",
    "x, y, z = \"Orange\", \"Banana\", \"Cherry\", \"Mango\"\n"
   ]
  },
  {
   "cell_type": "markdown",
   "id": "2a4df16f-9e55-4b20-a25d-b5055e2a5a2a",
   "metadata": {},
   "source": [
    "<br>\n",
    "<br>\n",
    "\n",
    "<span style=\"background-color: #F5C0FF\">**One Value to Multiple Variables**</span>\n"
   ]
  },
  {
   "cell_type": "code",
   "execution_count": 73,
   "id": "45428e6e-30e7-430a-adc3-d2ab7047a5ad",
   "metadata": {},
   "outputs": [
    {
     "name": "stdout",
     "output_type": "stream",
     "text": [
      "Orange\n",
      "Orange\n",
      "Orange\n"
     ]
    }
   ],
   "source": [
    "\n",
    "# You can assign the same value to multiple variables in one line:\n",
    "\n",
    "x = y = z = \"Orange\"\n",
    "print(x)\n",
    "print(y)\n",
    "print(z)\n"
   ]
  },
  {
   "cell_type": "markdown",
   "id": "10393c55-45cf-4ca0-9350-d7ac125aebaf",
   "metadata": {},
   "source": [
    "<br>\n",
    "<br>\n",
    "\n",
    "<span style=\"background-color: #F5C0FF\">**Unpack a Collection**</span>\n",
    "\n",
    "If you have a collection of values in a **list**, **tuple** etc. Python allows you to extract the values into **variables**. This is called <span style=\"color: blue\">**unpacking**</span>."
   ]
  },
  {
   "cell_type": "code",
   "execution_count": 75,
   "id": "076ee142-0241-477f-a05d-45f08ab004f7",
   "metadata": {},
   "outputs": [
    {
     "name": "stdout",
     "output_type": "stream",
     "text": [
      "apple\n",
      "banana\n",
      "cherry\n"
     ]
    }
   ],
   "source": [
    "\n",
    "fruits = [\"apple\", \"banana\", \"cherry\"]    # list\n",
    "x, y, z = fruits\n",
    "print(x)\n",
    "print(y)\n",
    "print(z)\n"
   ]
  },
  {
   "cell_type": "code",
   "execution_count": 76,
   "id": "8fcd48df-daf7-4ab5-af53-c976b57fd610",
   "metadata": {},
   "outputs": [
    {
     "name": "stdout",
     "output_type": "stream",
     "text": [
      "apple\n",
      "banana\n",
      "cherry\n"
     ]
    }
   ],
   "source": [
    "\n",
    "fruits = (\"apple\", \"banana\", \"cherry\")    # tuple\n",
    "x, y, z = fruits\n",
    "print(x)\n",
    "print(y)\n",
    "print(z)\n"
   ]
  },
  {
   "cell_type": "markdown",
   "id": "86434b5d-5e78-475d-baee-b778a5ceaea8",
   "metadata": {},
   "source": [
    "<br>\n",
    "\n",
    "### 4. <span style=\"background-color: yellow;\">Global Variables</span>\n",
    "<br>\n",
    "\n",
    "Variables that are <span style=\"color: blue;\">**created**</span> **outside of a function** (as in all of the examples above) are known as **global** variables.\n",
    "\n",
    "Global variables <span style=\"color: blue;\">**can be used**</span> by everyone, both **inside** of functions and **outside**.\n"
   ]
  },
  {
   "cell_type": "code",
   "execution_count": 77,
   "id": "ffd40d0d-5805-4557-92f5-05a1c144a6d3",
   "metadata": {},
   "outputs": [
    {
     "name": "stdout",
     "output_type": "stream",
     "text": [
      "Python is awesome\n"
     ]
    }
   ],
   "source": [
    "\n",
    "x = \"awesome\"\n",
    "\n",
    "def myfunc():\n",
    "  print(\"Python is \" + x)\n",
    "\n",
    "myfunc()\n"
   ]
  },
  {
   "cell_type": "markdown",
   "id": "0bd0633a-fe8c-4e83-b48f-4ad545546287",
   "metadata": {},
   "source": [
    "<br>\n",
    "\n",
    "<span style=\"background-color: #CAFEFD\">If you create a variable with the same name inside a function, this variable will be local, and can only be used inside the function. The global variable with the same name will remain as it was, global and with the original value.</span>\n"
   ]
  },
  {
   "cell_type": "code",
   "execution_count": 78,
   "id": "39f9fde1-842f-42df-bbb7-b5c1d44aa924",
   "metadata": {},
   "outputs": [
    {
     "name": "stdout",
     "output_type": "stream",
     "text": [
      "Python is fantastic\n",
      "Python is awesome\n"
     ]
    }
   ],
   "source": [
    "\n",
    "# Create a variable inside a function, with the same name as the global variable\n",
    "\n",
    "x = \"awesome\"\n",
    "\n",
    "def myfunc():\n",
    "  x = \"fantastic\"\n",
    "  print(\"Python is \" + x)\n",
    "\n",
    "myfunc()\n",
    "\n",
    "print(\"Python is \" + x)\n"
   ]
  },
  {
   "cell_type": "markdown",
   "id": "f3ffabdd-1b1c-4493-83e3-418971f5bb5c",
   "metadata": {},
   "source": [
    "<br>\n",
    "\n",
    "### 5. <span style=\"background-color: yellow;\">The global Keyword</span>\n",
    "<br>\n",
    "\n",
    "<span style=\"background-color: #CAFEFD\">Normally, when you create a variable inside a function, that variable is local, and can only be used inside that function. To create a global variable inside a function, you can use the **global** keyword.</span>\n"
   ]
  },
  {
   "cell_type": "code",
   "execution_count": 79,
   "id": "2d964d20-4264-4bcb-a141-221f4e6b76c6",
   "metadata": {},
   "outputs": [
    {
     "name": "stdout",
     "output_type": "stream",
     "text": [
      "Python is fantastic\n"
     ]
    }
   ],
   "source": [
    "\n",
    "# If you use the global keyword, the variable belongs to the global scope:\n",
    "\n",
    "def myfunc():\n",
    "  global x\n",
    "  x = \"fantastic\"\n",
    "\n",
    "myfunc()\n",
    "\n",
    "print(\"Python is \" + x)\n"
   ]
  },
  {
   "cell_type": "markdown",
   "id": "1204ca6a-67cc-4d2f-9aba-8615c926e69a",
   "metadata": {},
   "source": [
    "<br>\n",
    "\n",
    "<span style=\"background-color: #CAFEFD\">To change the value of a global variable inside a function, refer to the variable by using the **global** keyword:</span>\n"
   ]
  },
  {
   "cell_type": "code",
   "execution_count": 81,
   "id": "8faac536-41b7-4127-86a1-37128130310f",
   "metadata": {},
   "outputs": [
    {
     "name": "stdout",
     "output_type": "stream",
     "text": [
      "Python is fantastic\n",
      "Python is fantastic\n"
     ]
    }
   ],
   "source": [
    "\n",
    "# overwiting a global variable inide a funtion\n",
    "\n",
    "x = \"awesome\"\n",
    "\n",
    "def myfunc():\n",
    "  global x\n",
    "  x = \"fantastic\"\n",
    "  print(\"Python is \" + x)\n",
    "\n",
    "myfunc()\n",
    "\n",
    "print(\"Python is \" + x)\n"
   ]
  },
  {
   "cell_type": "code",
   "execution_count": null,
   "id": "2a9fef50-6616-4ab9-9a0b-0d4a1356313b",
   "metadata": {},
   "outputs": [],
   "source": []
  },
  {
   "cell_type": "markdown",
   "id": "766733cc-6a96-4800-b8e2-a219982b8134",
   "metadata": {},
   "source": [
    "<br>\n",
    "\n",
    "<br>\n",
    "\n",
    "<span style=\"color: blue\"> █ █ █ █ █ █ █ █ █ █ █ █ █ █ █ █ █ █ █ █ █ █ █ █ █ █ █ █ █ █  █ █ █ █ █ █ █ █ █ █ █ █ █ █ █ █ █ █ █ █ █ █ █ █  █ █ █ █ █ █ █ █ █ █ █ █ █ █ █ █ █ █ █ █ █ █ █ █  </span>\n",
    "\n",
    "<br>\n",
    "\n",
    "<br>"
   ]
  },
  {
   "cell_type": "markdown",
   "id": "935b3bfa-79ae-4c48-a7c9-ac549580896b",
   "metadata": {},
   "source": [
    "<br>\n",
    "\n",
    "# <u>Operators</u>\n",
    "\n",
    "<br>"
   ]
  },
  {
   "cell_type": "markdown",
   "id": "7580f986-1d7b-451f-aed5-390992acccc0",
   "metadata": {},
   "source": [
    "Python operators are **special symbols** or **keywords** that allow us to perform different operations on variables or values\n",
    "\n",
    "### 1. &nbsp;<span style=\"background-color: #C9FF71;color: black\">Types of Operators in Python :</span>\n",
    "\n",
    "&nbsp;&nbsp;&nbsp;&nbsp;&nbsp;&nbsp;&nbsp;&nbsp;&nbsp;&nbsp;&nbsp;&nbsp;⇒ <span style=\"color: blue\">&nbsp;&nbsp;**Arithmetic operators**</span> <br>\n",
    "&nbsp;&nbsp;&nbsp;&nbsp;&nbsp;&nbsp;&nbsp;&nbsp;&nbsp;&nbsp;&nbsp;&nbsp;⇒ <span style=\"color: blue\">&nbsp;&nbsp;**Assignment operators**</span> <br>\n",
    "&nbsp;&nbsp;&nbsp;&nbsp;&nbsp;&nbsp;&nbsp;&nbsp;&nbsp;&nbsp;&nbsp;&nbsp;⇒ <span style=\"color: blue\">&nbsp;&nbsp;**Comparison operators**</span> <br>\n",
    "&nbsp;&nbsp;&nbsp;&nbsp;&nbsp;&nbsp;&nbsp;&nbsp;&nbsp;&nbsp;&nbsp;&nbsp;⇒ <span style=\"color: blue\">&nbsp;&nbsp;**Logical operators**</span> <br>\n",
    "&nbsp;&nbsp;&nbsp;&nbsp;&nbsp;&nbsp;&nbsp;&nbsp;&nbsp;&nbsp;&nbsp;&nbsp;⇒ <span style=\"color: blue\">&nbsp;&nbsp;**Identity operators**</span> <br>\n",
    "&nbsp;&nbsp;&nbsp;&nbsp;&nbsp;&nbsp;&nbsp;&nbsp;&nbsp;&nbsp;&nbsp;&nbsp;⇒ <span style=\"color: blue\">&nbsp;&nbsp;**Membership operators**</span> <br>\n",
    "&nbsp;&nbsp;&nbsp;&nbsp;&nbsp;&nbsp;&nbsp;&nbsp;&nbsp;&nbsp;&nbsp;&nbsp;⇒ <span style=\"color: blue\">&nbsp;&nbsp;**Bitwise operators**</span> <br>\n",
    "\n",
    "<br>\n",
    "\n",
    "### &nbsp;&nbsp;&nbsp;&nbsp;&nbsp;&nbsp;&nbsp;&nbsp;&nbsp;&nbsp;&nbsp;&nbsp;&nbsp;<span style=\"background-color: yellow;\">Python Arithmetic Operators</span>\n",
    "\n",
    "&nbsp;&nbsp;&nbsp;&nbsp;&nbsp;&nbsp;&nbsp;&nbsp;&nbsp;&nbsp;&nbsp;&nbsp;&nbsp;&nbsp;&nbsp;&nbsp;&nbsp;&nbsp;**Arithmetic operators** are used with numeric values to perform common <span style=\"background-color: #CAFEFD\">**mathematical operations**</span>&nbsp;:\n",
    "\n",
    "<div style=\"text-align: left; margin-left: -600px\">\n",
    "\n",
    "| <span style=\"color: red\"><strong>Operator</strong></span> | <span style=\"color: red\"><strong>Name</strong></span> | <span style=\"color: red\"><strong>Example</strong></span>      |\n",
    "|-------------------|----------------|-----------------|\n",
    "|  <span style=\"background-color: yellow;font-size: larger\"><strong>&nbsp;+&nbsp;</strong></span>   |  Addition          |    <span style=\"color: blue; font-size: larger\">**x + y**</span>    |\n",
    "|  <span style=\"background-color: yellow;font-size: larger\"><strong>&nbsp;-&nbsp;</strong></span>   |  Substraction      |    <span style=\"color: blue; font-size: larger\">**x - y**</span>    |\n",
    "|  <span style=\"background-color: yellow;font-size: larger\"><strong>&nbsp;*&nbsp;</strong></span>   |  Multiplication    |    <span style=\"color: blue; font-size: larger\">**x * y**</span>    |\n",
    "|  <span style=\"background-color: yellow;font-size: larger\"><strong>&nbsp;\\\\&nbsp;</strong></span>  |  Division          |    <span style=\"color: blue; font-size: larger\">**x \\ y**</span>    |\n",
    "|  <span style=\"background-color: yellow;font-size: larger\"><strong>&nbsp;%&nbsp;</strong></span>   |  Modulus           |    <span style=\"color: blue; font-size: larger\">**x % y**</span>    |\n",
    "|  <span style=\"background-color: yellow;font-size: larger\"><strong>&nbsp;**&nbsp;</strong></span>  |  Exponentiation    |    <span style=\"color: blue; font-size: larger\">**x ** y**</span>   |\n",
    "|  <span style=\"background-color: yellow;font-size: larger\"><strong>&nbsp;\\\\&nbsp;</strong></span>  |  Floor Division    |    <span style=\"color: blue; font-size: larger\">**x \\\\ y**</span>   |\n",
    "\n",
    "</div>\n",
    "\n",
    "<br>\n",
    "\n",
    "### &nbsp;&nbsp;&nbsp;&nbsp;&nbsp;&nbsp;&nbsp;&nbsp;&nbsp;&nbsp;&nbsp;&nbsp;&nbsp;<span style=\"background-color: yellow;\">Python Assignment Operators</span>\n",
    "\n",
    "&nbsp;&nbsp;&nbsp;&nbsp;&nbsp;&nbsp;&nbsp;&nbsp;&nbsp;&nbsp;&nbsp;&nbsp;&nbsp;&nbsp;&nbsp;&nbsp;&nbsp;&nbsp;**Assignments operators** are used to <span style=\"background-color: #CAFEFD\">**assign values to variables**</span> :\n",
    "\n",
    "<div style=\"text-align: left; margin-left: -620px\">\n",
    "\n",
    "| <span style=\"color: red\"><strong>Operator</strong></span> | <span style=\"color: red\"><strong>Example</strong></span> | <span style=\"color: red\"><strong>Same As</strong></span>      |\n",
    "|-------------------|----------------|-----------------|\n",
    "|  <span style=\"background-color: yellow;font-size: larger\"><strong>&nbsp;=&nbsp;</strong></span>    |    <span style=\"color: blue; font-size: larger\">**x=5**</span>        |    x = 5         |\n",
    "|  <span style=\"background-color: yellow;font-size: larger\"><strong>&nbsp;+=&nbsp;</strong></span>   |    <span style=\"color: blue; font-size: larger\">**x += 3**</span>     |    x = x + 3     |\n",
    "|  <span style=\"background-color: yellow;font-size: larger\"><strong>&nbsp;-=&nbsp;</strong></span>   |    <span style=\"color: blue; font-size: larger\">**x -= 3**</span>     |    x = x - 3     |\n",
    "|  <span style=\"background-color: yellow;font-size: larger\"><strong>&nbsp;*=&nbsp;</strong></span>   |    <span style=\"color: blue; font-size: larger\"><strong>x *= 3</strong></span>     |    x = x * 3     |\n",
    "|  <span style=\"background-color: yellow;font-size: larger\"><strong>&nbsp;/=&nbsp;</strong></span>   |    <span style=\"color: blue; font-size: larger\">**x /= 3**</span>     |    x = x / 3     |\n",
    "|  <span style=\"background-color: yellow;font-size: larger\"><strong>&nbsp;%=&nbsp;</strong></span>   |    <span style=\"color: blue; font-size: larger\">**x %= 3**</span>     |    x = x % 3     |\n",
    "|  <span style=\"background-color: yellow;font-size: larger\"><strong>&nbsp;//=&nbsp;</strong></span>  |    <span style=\"color: blue; font-size: larger\">**x //= 3**</span>    |    x = x // 3    |\n",
    "|  <span style=\"background-color: yellow;font-size: larger\"><strong>&nbsp;**=&nbsp;</strong></span>  |    <span style=\"color: blue; font-size: larger\"><strong>x **= 3</strong></span>    |    x = x ** 3    |\n",
    "|  <span style=\"background-color: yellow;font-size: larger\"><strong>&nbsp;&=&nbsp;</strong></span>   |    <span style=\"color: blue; font-size: larger\">**x &= 3**</span>     |    x = x & 3     |\n",
    "|  <span style=\"background-color: yellow;font-size: larger\"><strong>&nbsp;\\|=&nbsp;</strong></span>  |    <span style=\"color: blue; font-size: larger\">**x \\|= 3**</span>     |    x = x \\| 3     |\n",
    "|  <span style=\"background-color: yellow;font-size: larger\"><strong>&nbsp;^=&nbsp;</strong></span>   |    <span style=\"color: blue; font-size: larger\">**x ^= 3**</span>     |    x = x ^ 3     |\n",
    "|  <span style=\"background-color: yellow;font-size: larger\"><strong>&nbsp;>>=&nbsp;</strong></span>  |    <span style=\"color: blue; font-size: larger\">**x >>= 3**</span>    |    x = x >> 3    |\n",
    "|  <span style=\"background-color: yellow;font-size: larger\"><strong>&nbsp;<<=&nbsp;</strong></span>  |    <span style=\"color: blue; font-size: larger\">**x <<= 3**</span>    |    x = x << 3    |\n",
    "\n",
    "</div>\n",
    "\n",
    "<br>\n",
    "\n",
    "### &nbsp;&nbsp;&nbsp;&nbsp;&nbsp;&nbsp;&nbsp;&nbsp;&nbsp;&nbsp;&nbsp;&nbsp;&nbsp;<span style=\"background-color: yellow;\">Python Comparison Operators</span>\n",
    "\n",
    "&nbsp;&nbsp;&nbsp;&nbsp;&nbsp;&nbsp;&nbsp;&nbsp;&nbsp;&nbsp;&nbsp;&nbsp;&nbsp;&nbsp;&nbsp;&nbsp;&nbsp;&nbsp;**Comparison operators** are used to <span style=\"background-color: #CAFEFD\">**compare two values**</span> :\n",
    "\n",
    "<div style=\"text-align: left; margin-left: -550px\">\n",
    "\n",
    "| <span style=\"color: red\"><strong>Operator</strong></span> | <span style=\"color: red\"><strong>Name</strong></span> | <span style=\"color: red\"><strong>Example</strong></span>      |\n",
    "|-------------------|----------------|-----------------|\n",
    "|  <span style=\"background-color: yellow;font-size: larger\"><strong>&nbsp;==&nbsp;</strong></span>  |   Equal                                  |   <span style=\"color: blue; font-size: larger\">**x == y**</span>       |\n",
    "|  <span style=\"background-color: yellow;font-size: larger\"><strong>&nbsp;!=&nbsp;</strong></span>  |   Not equal                              |   <span style=\"color: blue; font-size: larger\">**x != y**</span>       |\n",
    "|  <span style=\"background-color: yellow;font-size: larger\"><strong>&nbsp;>&nbsp;</strong></span>   |   Greater than                           |   <span style=\"color: blue; font-size: larger\">**x > y**</span>        |\n",
    "|  <span style=\"background-color: yellow;font-size: larger\"><strong>&nbsp;<&nbsp;</strong></span>   |   Lesser than                            |   <span style=\"color: blue; font-size: larger\">**x < y**</span>        |\n",
    "|  <span style=\"background-color: yellow;font-size: larger\"><strong>&nbsp;>=&nbsp;</strong></span>  |   Greater than or equal to               |   <span style=\"color: blue; font-size: larger\">**x >= y**</span>       |\n",
    "|  <span style=\"background-color: yellow;font-size: larger\"><strong>&nbsp;<=&nbsp;</strong></span>  |   Less than or equal to                  |   <span style=\"color: blue; font-size: larger\">**x <= y**</span>       |\n",
    "</div>\n",
    "\n",
    "<br>\n",
    "\n",
    "### &nbsp;&nbsp;&nbsp;&nbsp;&nbsp;&nbsp;&nbsp;&nbsp;&nbsp;&nbsp;&nbsp;&nbsp;&nbsp;<span style=\"background-color: yellow;\">Python Logical Operators</span>\n",
    "\n",
    "&nbsp;&nbsp;&nbsp;&nbsp;&nbsp;&nbsp;&nbsp;&nbsp;&nbsp;&nbsp;&nbsp;&nbsp;&nbsp;&nbsp;&nbsp;&nbsp;&nbsp;&nbsp;**Logical operators** are used to <span style=\"background-color: #CAFEFD\">**combine conditional statements**</span> :\n",
    "\n",
    "<div style=\"text-align: left; margin-left: -310px\">\n",
    "\n",
    "| <span style=\"color: red\"><strong>Operator</strong></span> | <span style=\"color: red\"><strong>Description</strong></span> | <span style=\"color: red\"><strong>Example</strong></span>      |\n",
    "|-------------------|----------------|-----------------|\n",
    "|  <span style=\"background-color: yellow;font-size: larger\"><strong>&nbsp;and&nbsp;</strong></span>  |   Returns True if both statements are true   |   <span style=\"color: blue; font-size: larger\">**x < 5 and  x < 10**</span>   |\n",
    "|  <span style=\"background-color: yellow;font-size: larger\"><strong>&nbsp;or&nbsp;</strong></span>  |   Returns True if one of the statements is true   |   <span style=\"color: blue; font-size: larger\">**x < 5 or x < 4**</span>   |\n",
    "|  <span style=\"background-color: yellow;font-size: larger\"><strong>&nbsp;not&nbsp;</strong></span>  |   Reverse the result, returns False if the result is true   |   <span style=\"color: blue; font-size: larger\">**not(x < 5 and x < 10)**</span>   |\n",
    "\n",
    "</div>\n",
    "\n",
    "<br>\n",
    "\n",
    "### &nbsp;&nbsp;&nbsp;&nbsp;&nbsp;&nbsp;&nbsp;&nbsp;&nbsp;&nbsp;&nbsp;&nbsp;&nbsp;<span style=\"background-color: yellow;\">Python Identity Operators</span>\n",
    "\n",
    "&nbsp;&nbsp;&nbsp;&nbsp;&nbsp;&nbsp;&nbsp;&nbsp;&nbsp;&nbsp;&nbsp;&nbsp;&nbsp;&nbsp;&nbsp;&nbsp;&nbsp;&nbsp;**Identity operators** are used to <span style=\"background-color: #CAFEFD\">compare the objects</span>, not if they are equal, but <span style=\"background-color: #CAFEFD\">**if they are actually the same object, with the same memory location**</span> :\n",
    "\n",
    "<div style=\"text-align: left; margin-left: -310px\">\n",
    "\n",
    "| <span style=\"color: red\"><strong>Operator</strong></span> | <span style=\"color: red\"><strong>Description</strong></span> | <span style=\"color: red\"><strong>Example</strong></span>      |\n",
    "|-------------------|----------------|-----------------|\n",
    "|  <span style=\"background-color: yellow;font-size: larger\"><strong>&nbsp;and&nbsp;</strong></span>  |   Returns True if both statements are true   |   <span style=\"color: blue; font-size: larger\">**x < 5 and  x < 10**</span>   |\n",
    "|  <span style=\"background-color: yellow;font-size: larger\"><strong>&nbsp;or&nbsp;</strong></span>  |   Returns True if one of the statements is true   |   <span style=\"color: blue; font-size: larger\">**x < 5 or x < 4**</span>   |\n",
    "|  <span style=\"background-color: yellow;font-size: larger\"><strong>&nbsp;not&nbsp;</strong></span>  |   Reverse the result, returns False if the result is true   |   <span style=\"color: blue; font-size: larger\">**not(x < 5 and x < 10)**</span>   |\n",
    "\n",
    "</div>\n",
    "\n",
    "<br>\n",
    "\n",
    "### &nbsp;&nbsp;&nbsp;&nbsp;&nbsp;&nbsp;&nbsp;&nbsp;&nbsp;&nbsp;&nbsp;&nbsp;&nbsp;<span style=\"background-color: yellow;\">Python Membership Operators</span>\n",
    "\n",
    "&nbsp;&nbsp;&nbsp;&nbsp;&nbsp;&nbsp;&nbsp;&nbsp;&nbsp;&nbsp;&nbsp;&nbsp;&nbsp;&nbsp;&nbsp;&nbsp;&nbsp;&nbsp;**Membership operators** are used to <span style=\"background-color: #CAFEFD\">**test if a sequence is presented in an object**</span> :\n",
    "\n",
    "<div style=\"text-align: left; margin-left: -200px\">\n",
    "\n",
    "| <span style=\"color: red\"><strong>Operator</strong></span> | <span style=\"color: red\"><strong>Description</strong></span> | <span style=\"color: red\"><strong>Example</strong></span>      |\n",
    "|-------------------|----------------|-----------------|\n",
    "|  <span style=\"background-color: yellow;font-size: larger\"><strong>&nbsp;in&nbsp;</strong></span>  |   Returns True if a sequence with the specified value is present in the object   |   <span style=\"color: blue; font-size: larger\">**x in y**</span>   |\n",
    "|  <span style=\"background-color: yellow;font-size: larger\"><strong>&nbsp;not in&nbsp;</strong></span>  |   Returns True if a sequence with the specified value is not present in the object   |   <span style=\"color: blue; font-size: larger\">**x not in y**</span>   |\n",
    "\n",
    "</div\n",
    "\n",
    "<br>\n",
    "<br>\n",
    "\n",
    "### &nbsp;&nbsp;&nbsp;&nbsp;&nbsp;&nbsp;&nbsp;&nbsp;&nbsp;&nbsp;&nbsp;&nbsp;&nbsp;<span style=\"background-color: yellow;\">Python Bitwise Operators</span>\n",
    "\n",
    "&nbsp;&nbsp;&nbsp;&nbsp;&nbsp;&nbsp;&nbsp;&nbsp;&nbsp;&nbsp;&nbsp;&nbsp;&nbsp;&nbsp;&nbsp;&nbsp;&nbsp;&nbsp;**Bitwise operators** are used to <span style=\"background-color: #CAFEFD\">**compare (binary) numbers**</span> :\n",
    "\n",
    "\n",
    "\n",
    "| <span style=\"color: red\"><strong>Operator</strong></span> | <span style=\"color: red\"><strong>Name</strong></span> | <span style=\"color: red\"><strong>Description</strong></span>      |   <span style=\"color: red\"><strong>Example</strong></span>      |\n",
    "|-------------------|----------------|-----------------|-----------------------------------------------|\n",
    "|  <span style=\"background-color: yellow;font-size: larger\"><strong>&nbsp;&&nbsp;</strong></span>   |   AND   | Sets each bit to 1 if both bits are 1  | <span style=\"color: blue; font-size: larger\">**x & y**</span>   |\n",
    "|  <span style=\"background-color: yellow;font-size: larger\"><strong>&nbsp;\\|&nbsp;</strong></span>  |   OR    | Sets each bit to 1 if both bits are 1  | <span style=\"color: blue; font-size: larger\"><strong>x \\| y</strong></span>   |\n",
    "|  <span style=\"background-color: yellow;font-size: larger\"><strong>&nbsp;^&nbsp;</strong></span>   |   XOR   | Sets each bit to 1 if only one of two bits is 1  | <span style=\"color: blue; font-size: larger\"><strong>x ^ y</strong></span>   |\n",
    "|  <span style=\"background-color: yellow;font-size: larger\"><strong>&nbsp;~&nbsp;</strong></span>   |   NOT   | Inverts all the bits  | <span style=\"color: blue; font-size: larger\"><strong>~x</strong></span>   |\n",
    "|  <span style=\"background-color: yellow;font-size: larger\"><strong>&nbsp;<<&nbsp;</strong></span>  |   Zero fill left shift   | Shift left by pushing zeros in from the right and let the leftmost bits fall off  | <span style=\"color: blue; font-size: larger\"><strong>x << 2</strong></span>   |\n",
    "|  <span style=\"background-color: yellow;font-size: larger\"><strong>&nbsp;>>&nbsp;</strong></span>  |   Signed right shift   | Shift right by pushing copies of the leftmost bit in from the left, and let the rightmost bits fall off  | <span style=\"color: blue; font-size: larger\"><strong>x >> 2</strong></span>   |\n",
    "\n",
    "<br>\n",
    "\n"
   ]
  },
  {
   "cell_type": "markdown",
   "id": "503042c4-314b-4fa0-9ac3-1568f17819a0",
   "metadata": {},
   "source": [
    "<br>\n",
    "\n",
    "#### Examples of Arithmetic Operators :\n"
   ]
  },
  {
   "cell_type": "code",
   "execution_count": 83,
   "id": "ff68e5a3-11fd-440c-b69d-b6dc839b804d",
   "metadata": {},
   "outputs": [
    {
     "name": "stdout",
     "output_type": "stream",
     "text": [
      "Addition:        13\n",
      "Subtraction:     7\n",
      "Multiplication:  30\n",
      "Division:        3.3333333333333335\n",
      "Floor Division:  3\n",
      "Modulus:         1\n",
      "Exponentiation:  1000\n"
     ]
    }
   ],
   "source": [
    "\n",
    "a = 10\n",
    "b = 3\n",
    "\n",
    "addition_result = a + b\n",
    "subtraction_result = a - b\n",
    "multiplication_result = a * b\n",
    "division_result = a / b\n",
    "floor_division_result = a // b\n",
    "modulus_result = a % b\n",
    "exponentiation_result = a ** b\n",
    "\n",
    "print(\"Addition:       \", addition_result)\n",
    "print(\"Subtraction:    \", subtraction_result)\n",
    "print(\"Multiplication: \", multiplication_result)\n",
    "print(\"Division:       \", division_result)\n",
    "print(\"Floor Division: \", floor_division_result)\n",
    "print(\"Modulus:        \", modulus_result)\n",
    "print(\"Exponentiation: \", exponentiation_result)\n"
   ]
  },
  {
   "cell_type": "code",
   "execution_count": 84,
   "id": "fffcfe03-c3bf-47ff-9b7e-e279cc014d0b",
   "metadata": {},
   "outputs": [
    {
     "name": "stdout",
     "output_type": "stream",
     "text": [
      "a - b =  7\n",
      "b - a =  -7\n"
     ]
    }
   ],
   "source": [
    "\n",
    "a = 10\n",
    "b = 3\n",
    "\n",
    "print('a - b = ', a-b)\n",
    "print('b - a = ', b-a)\n"
   ]
  },
  {
   "cell_type": "markdown",
   "id": "dbdc150c-569e-40f9-b453-c921bd7ed319",
   "metadata": {},
   "source": [
    "<br>\n",
    "\n",
    "#### Examples of Assignment Operators :\n"
   ]
  },
  {
   "cell_type": "code",
   "execution_count": 85,
   "id": "f549bcac-15ff-4e59-84e0-ede3d7447095",
   "metadata": {},
   "outputs": [
    {
     "name": "stdout",
     "output_type": "stream",
     "text": [
      "if (x = 5) then (x += 3)   returns   8\n",
      "if (x = 5) then (x -= 3)   returns   2\n",
      "if (x = 5) then (x *= 3)   returns   15\n",
      "if (x = 5) then (x /= 3)   returns   1.6666666666666667\n",
      "if (x = 5) then (x %= 3)   returns   2\n",
      "if (x = 5) then (x //= 3)  returns   1\n",
      "if (x = 5) then (x **= 3)  returns   125\n",
      "if (x = 5) then (x &= 3)   returns   1\n",
      "if (x = 5) then (x |= 3)   returns   7\n",
      "if (x = 5) then (x ^= 3)   returns   6\n",
      "if (x = 5) then (x <<= 3)  returns   40\n",
      "if (x = 5) then (x >>= 3)  returns   0\n"
     ]
    }
   ],
   "source": [
    "\n",
    "# Also known as short-hand operators\n",
    "\n",
    "x = 5\n",
    "x += 3\n",
    "print(\"if (x = 5) then (x += 3)   returns  \",x)\n",
    "\n",
    "\n",
    "x = 5\n",
    "x -= 3\n",
    "print(\"if (x = 5) then (x -= 3)   returns  \",x)\n",
    "\n",
    "\n",
    "x = 5\n",
    "x *= 3\n",
    "print(\"if (x = 5) then (x *= 3)   returns  \",x)\n",
    "\n",
    "\n",
    "x = 5\n",
    "x /= 3\n",
    "print(\"if (x = 5) then (x /= 3)   returns  \",x)\n",
    "\n",
    "\n",
    "x = 5\n",
    "x%=3\n",
    "print(\"if (x = 5) then (x %= 3)   returns  \",x)\n",
    "\n",
    "\n",
    "x = 5\n",
    "x//=3\n",
    "print(\"if (x = 5) then (x //= 3)  returns  \",x)\n",
    "\n",
    "\n",
    "x = 5\n",
    "x **= 3\n",
    "print(\"if (x = 5) then (x **= 3)  returns  \",x)\n",
    "\n",
    "\n",
    "x = 5\n",
    "x &= 3\n",
    "print(\"if (x = 5) then (x &= 3)   returns  \",x)\n",
    "\n",
    "\n",
    "x = 5\n",
    "x |= 3\n",
    "print(\"if (x = 5) then (x |= 3)   returns  \",x)\n",
    "\n",
    "\n",
    "x = 5\n",
    "x ^= 3\n",
    "print(\"if (x = 5) then (x ^= 3)   returns  \",x)\n",
    "\n",
    "\n",
    "x = 5\n",
    "x <<= 3\n",
    "print(\"if (x = 5) then (x <<= 3)  returns  \",x)\n",
    "\n",
    "\n",
    "x = 5\n",
    "x >>= 3\n",
    "print(\"if (x = 5) then (x >>= 3)  returns  \",x)\n",
    "\n"
   ]
  },
  {
   "cell_type": "markdown",
   "id": "0e202b17-a31e-4b44-b75b-dc63792e16f2",
   "metadata": {},
   "source": [
    "<br>\n",
    "\n",
    "#### Examples of Comparison Operators :"
   ]
  },
  {
   "cell_type": "code",
   "execution_count": 86,
   "id": "ac24222c-445f-46c0-b697-cb268f5c78ab",
   "metadata": {},
   "outputs": [
    {
     "name": "stdout",
     "output_type": "stream",
     "text": [
      "a Equal To b:                   False\n",
      "a Not Equal To b:               True\n",
      "a Greater Than b:               True\n",
      "a Less Than b:                  False\n",
      "a Greater Than Or Equal To b:   True\n",
      "a Less Than Or Equal To b:      False\n"
     ]
    }
   ],
   "source": [
    "\n",
    "# Comparison / Relational Operators with numbers on both sides\n",
    "\n",
    "a = 10\n",
    "b = 3\n",
    "\n",
    "# Equal to\n",
    "print(\"a Equal To b:                  \", a == b)  # False\n",
    "\n",
    "# Not equal to\n",
    "print(\"a Not Equal To b:              \", a != b)  # True\n",
    "\n",
    "# Greater than\n",
    "print(\"a Greater Than b:              \", a > b)  # True\n",
    "\n",
    "# Less than\n",
    "print(\"a Less Than b:                 \", a < b)  # False\n",
    "\n",
    "# Greater than or equal to\n",
    "print(\"a Greater Than Or Equal To b:  \", a >= b)  # True\n",
    "\n",
    "# Less than or equal to\n",
    "print(\"a Less Than Or Equal To b:     \", a <= b)  # False\n"
   ]
  },
  {
   "cell_type": "code",
   "execution_count": 87,
   "id": "bdf30b0e-b39a-4d56-8ce1-5b1fcb92eec3",
   "metadata": {},
   "outputs": [
    {
     "data": {
      "text/plain": [
       "True"
      ]
     },
     "execution_count": 87,
     "metadata": {},
     "output_type": "execute_result"
    }
   ],
   "source": [
    "\n",
    "a == (b * (a//b)) + (a % b)   # Dividend = (Divisor * Quotient) + Remainder\n"
   ]
  },
  {
   "cell_type": "code",
   "execution_count": 88,
   "id": "91c34efe-36fe-401b-9727-d85160341c1b",
   "metadata": {},
   "outputs": [
    {
     "name": "stdout",
     "output_type": "stream",
     "text": [
      "a Equal To b:                   False\n",
      "a Not Equal To b:               True\n",
      "a Greater Than b:               True\n",
      "a Less Than b:                  False\n",
      "a Greater Than Or Equal To b:   True\n",
      "a Less Than Or Equal To b:      False\n"
     ]
    }
   ],
   "source": [
    "\n",
    "# Comparison / Relational Operators on strings on both sides\n",
    "\n",
    "# Comparison between two strings is done on the basis of Dictionary order\n",
    "\n",
    "a = 'Avinash@15'\n",
    "b = 'Aman@25'\n",
    "\n",
    "# Equal to\n",
    "print(\"a Equal To b:                  \", a == b)  # False\n",
    "\n",
    "# Not equal to\n",
    "print(\"a Not Equal To b:              \", a != b)  # True\n",
    "\n",
    "# Greater than\n",
    "print(\"a Greater Than b:              \", a > b)  # True\n",
    "\n",
    "# Less than\n",
    "print(\"a Less Than b:                 \", a < b)  # False\n",
    "\n",
    "# Greater than or equal to\n",
    "print(\"a Greater Than Or Equal To b:  \", a >= b)  # True\n",
    "\n",
    "# Less than or equal to\n",
    "print(\"a Less Than Or Equal To b:     \", a <= b)  # False\n"
   ]
  },
  {
   "cell_type": "markdown",
   "id": "2d9319f0-10ee-498a-b8d7-ed4d66c7f536",
   "metadata": {},
   "source": [
    "<br>\n",
    "<br>\n",
    "\n",
    "<span style=\"background-color: #F5C0FF;color: black\">**Note:**</span> <br>\n",
    "\n",
    "**Only** Equal To (<span style=\"background-color: #FFF971;color: red;font-size: larger\"><strong>&nbsp;==&nbsp;</strong></span>) and Not Equal To (<span style=\"background-color: #FFF971;color: red;font-size: larger\"><strong>&nbsp;!=&nbsp;</strong></span>) operators **are allowed** to <span style=\"background-color: #CAFEFD\">**compare a string with a number and vice-versa**</span></span>.\n"
   ]
  },
  {
   "cell_type": "code",
   "execution_count": 89,
   "id": "417c7091-688d-4cbd-91b1-bbb79e505761",
   "metadata": {},
   "outputs": [
    {
     "name": "stdout",
     "output_type": "stream",
     "text": [
      "a==b returns  False\n",
      "a!=b returns  True\n"
     ]
    }
   ],
   "source": [
    "\n",
    "a= 1\n",
    "b ='1'\n",
    "\n",
    "print('a==b returns ',a==b)\n",
    "print('a!=b returns ',a!=b)\n"
   ]
  },
  {
   "cell_type": "markdown",
   "id": "757cd99e-7b12-4450-bc42-dd7e2c4d2383",
   "metadata": {},
   "source": [
    "<br>\n",
    "\n",
    "But other **comparison** operators are <span style=\"background-color: #CAFEFD\">&nbsp;**not supported**&nbsp;</span> between instances of '**int**' and '**str**'\n"
   ]
  },
  {
   "cell_type": "code",
   "execution_count": 90,
   "id": "2b0c18dc-f84e-4cca-bcae-1c24be3bd577",
   "metadata": {},
   "outputs": [
    {
     "ename": "TypeError",
     "evalue": "'<' not supported between instances of 'int' and 'str'",
     "output_type": "error",
     "traceback": [
      "\u001b[1;31m---------------------------------------------------------------------------\u001b[0m",
      "\u001b[1;31mTypeError\u001b[0m                                 Traceback (most recent call last)",
      "Cell \u001b[1;32mIn[90], line 1\u001b[0m\n\u001b[1;32m----> 1\u001b[0m \u001b[38;5;28mprint\u001b[39m(\u001b[38;5;124m'\u001b[39m\u001b[38;5;124ma<b returns \u001b[39m\u001b[38;5;124m'\u001b[39m,\u001b[43ma\u001b[49m\u001b[38;5;241;43m<\u001b[39;49m\u001b[43mb\u001b[49m)\n\u001b[0;32m      2\u001b[0m \u001b[38;5;28mprint\u001b[39m(\u001b[38;5;124m'\u001b[39m\u001b[38;5;124ma<=b returns \u001b[39m\u001b[38;5;124m'\u001b[39m,a\u001b[38;5;241m<\u001b[39m\u001b[38;5;241m=\u001b[39mb)\n\u001b[0;32m      3\u001b[0m \u001b[38;5;28mprint\u001b[39m(\u001b[38;5;124m'\u001b[39m\u001b[38;5;124ma>b returns \u001b[39m\u001b[38;5;124m'\u001b[39m,a\u001b[38;5;241m>\u001b[39mb)\n",
      "\u001b[1;31mTypeError\u001b[0m: '<' not supported between instances of 'int' and 'str'"
     ]
    }
   ],
   "source": [
    "\n",
    "print('a<b returns ',a<b)\n",
    "print('a<=b returns ',a<=b)\n",
    "print('a>b returns ',a>b)\n",
    "print('a>=b returns ',a>=b)\n"
   ]
  },
  {
   "cell_type": "markdown",
   "id": "12e399f2-826d-4a58-b839-0a470ad93cb2",
   "metadata": {},
   "source": [
    "<br>\n",
    "\n",
    "#### Examples of Logical Operators :"
   ]
  },
  {
   "cell_type": "code",
   "execution_count": 91,
   "id": "38893568-9162-4c48-8eee-c1ba01ae4956",
   "metadata": {},
   "outputs": [
    {
     "name": "stdout",
     "output_type": "stream",
     "text": [
      "price > 9 and price < 10       ⇒  True\n",
      "price > 10 and price < 20      ⇒  False\n",
      "price > 10 or price < 20       ⇒  True\n",
      "price > 10 or price < 5        ⇒  False\n",
      "not a                          ⇒  False\n",
      "not price > 10                 ⇒  True\n",
      "not (price > 5 and price < 10) ⇒  False\n"
     ]
    }
   ],
   "source": [
    "\n",
    "price = 9.99\n",
    "\n",
    "# and\n",
    "print('price > 9 and price < 10       ⇒ ', price > 9 and price < 10)\n",
    "print('price > 10 and price < 20      ⇒ ', price > 10 and price < 20)\n",
    "\n",
    "# or\n",
    "print('price > 10 or price < 20       ⇒ ', price > 10 or price < 20)\n",
    "print('price > 10 or price < 5        ⇒ ', price > 10 or price < 5)\n",
    "\n",
    "# not\n",
    "print('not a                          ⇒ ', not a)\n",
    "print('not price > 10                 ⇒ ', not price > 10)\n",
    "\n",
    "\n",
    "# combination of logical operators\n",
    "print('not (price > 5 and price < 10) ⇒ ', not (price > 5 and price < 10))\n"
   ]
  },
  {
   "cell_type": "code",
   "execution_count": 92,
   "id": "6af9e84c-5b82-4548-a712-a3968b41e563",
   "metadata": {},
   "outputs": [
    {
     "name": "stdout",
     "output_type": "stream",
     "text": [
      "a and b ⇒  1\n"
     ]
    }
   ],
   "source": [
    "\n",
    "# As we know logical operators are reserved words (keyword) and hence Case-Sensitive\n",
    "\n",
    "print('a and b ⇒ ', a and b)\n"
   ]
  },
  {
   "cell_type": "code",
   "execution_count": 93,
   "id": "495d748d-99fe-4ea9-a9f8-27c55df5d679",
   "metadata": {},
   "outputs": [
    {
     "ename": "SyntaxError",
     "evalue": "invalid syntax. Perhaps you forgot a comma? (3020783215.py, line 1)",
     "output_type": "error",
     "traceback": [
      "\u001b[1;36m  Cell \u001b[1;32mIn[93], line 1\u001b[1;36m\u001b[0m\n\u001b[1;33m    print('a AND b ⇒ ', a AND b)\u001b[0m\n\u001b[1;37m                        ^\u001b[0m\n\u001b[1;31mSyntaxError\u001b[0m\u001b[1;31m:\u001b[0m invalid syntax. Perhaps you forgot a comma?\n"
     ]
    }
   ],
   "source": [
    "\n",
    "print('a AND b ⇒ ', a AND b)\n"
   ]
  },
  {
   "cell_type": "code",
   "execution_count": 94,
   "id": "388be0a1-c18b-4095-99af-8aab0b5a21e6",
   "metadata": {},
   "outputs": [
    {
     "ename": "SyntaxError",
     "evalue": "invalid syntax. Perhaps you forgot a comma? (734417793.py, line 1)",
     "output_type": "error",
     "traceback": [
      "\u001b[1;36m  Cell \u001b[1;32mIn[94], line 1\u001b[1;36m\u001b[0m\n\u001b[1;33m    print('a And b ⇒ ', a And b)\u001b[0m\n\u001b[1;37m                        ^\u001b[0m\n\u001b[1;31mSyntaxError\u001b[0m\u001b[1;31m:\u001b[0m invalid syntax. Perhaps you forgot a comma?\n"
     ]
    }
   ],
   "source": [
    "\n",
    "print('a And b ⇒ ', a And b)\n"
   ]
  },
  {
   "cell_type": "markdown",
   "id": "5f35671f-f9fd-4ace-9c36-57085f4dfde7",
   "metadata": {},
   "source": [
    "<br>\n",
    "\n",
    "#### Examples of Identity Operators :\n"
   ]
  },
  {
   "cell_type": "code",
   "execution_count": 95,
   "id": "20b8c658-9493-49a8-b092-a7b8d9270e5b",
   "metadata": {},
   "outputs": [
    {
     "name": "stdout",
     "output_type": "stream",
     "text": [
      "True\n",
      "True\n",
      "True\n"
     ]
    }
   ],
   "source": [
    "\n",
    "x = \"apple\"\n",
    "y = \"apple\"\n",
    "z = x\n",
    "\n",
    "print(x is z)       # returns True because z is the same object as x\n",
    "\n",
    "print(x is y)       # returns True because x is the same object as y\n",
    "\n",
    "print(x == y)       # to demonstrate the difference betweeen \"is\" and \"==\": this comparison returns True because x is equal to y\n"
   ]
  },
  {
   "cell_type": "code",
   "execution_count": 96,
   "id": "339bde04-ca2f-4ffc-adf9-ff75b455c0c3",
   "metadata": {},
   "outputs": [
    {
     "name": "stdout",
     "output_type": "stream",
     "text": [
      "True\n",
      "False\n",
      "True\n"
     ]
    }
   ],
   "source": [
    "\n",
    "x = [\"apple\", \"banana\"]\n",
    "y = [\"apple\", \"banana\"]\n",
    "z = x\n",
    "\n",
    "print(x is z)       # returns True because z is the same object as x\n",
    "\n",
    "print(x is y)       # returns False because x is not the same object as y, even if they have the same content\n",
    "\n",
    "print(x == y)       # to demonstrate the difference betweeen \"is\" and \"==\": this comparison returns True because x is equal to y\n"
   ]
  },
  {
   "cell_type": "code",
   "execution_count": 97,
   "id": "e81ec4d8-9af8-4ee8-9498-4f1609709215",
   "metadata": {},
   "outputs": [
    {
     "name": "stdout",
     "output_type": "stream",
     "text": [
      "False\n",
      "True\n",
      "False\n"
     ]
    }
   ],
   "source": [
    "\n",
    "x = [\"apple\", \"banana\"]\n",
    "y = [\"apple\", \"banana\"]\n",
    "z = x\n",
    "\n",
    "print(x is not z)       # returns False because z is the same object as x\n",
    "\n",
    "print(x is not y)       # returns True because x is not the same object as y, even if they have the same content\n",
    "\n",
    "print(x != y)           # to demonstrate the difference betweeen \"is not\" and \"!=\": this comparison returns False because x is equal to y\n"
   ]
  },
  {
   "cell_type": "markdown",
   "id": "14fabd5d-d259-4a07-aaee-7057bb8d9283",
   "metadata": {},
   "source": [
    "<br>\n",
    "\n",
    "#### Examples of Membership Operators :"
   ]
  },
  {
   "cell_type": "code",
   "execution_count": 98,
   "id": "9dab38ae-cc66-4101-8f60-1354da0809f8",
   "metadata": {},
   "outputs": [
    {
     "name": "stdout",
     "output_type": "stream",
     "text": [
      "True\n"
     ]
    }
   ],
   "source": [
    "\n",
    "name = \"Avinash Mishra\"\n",
    "\n",
    "print(\"Kumar\" not in name)\n"
   ]
  },
  {
   "cell_type": "code",
   "execution_count": 99,
   "id": "0098bc6b-8e45-40b8-9092-96017c6fa54a",
   "metadata": {},
   "outputs": [
    {
     "name": "stdout",
     "output_type": "stream",
     "text": [
      "True\n"
     ]
    }
   ],
   "source": [
    "\n",
    "x = [\"apple\", \"banana\"]\n",
    "\n",
    "print(\"banana\" in x) \n"
   ]
  },
  {
   "cell_type": "code",
   "execution_count": 100,
   "id": "840e6b61-e47e-44fc-9242-2245d7c30f73",
   "metadata": {},
   "outputs": [
    {
     "name": "stdout",
     "output_type": "stream",
     "text": [
      "True\n"
     ]
    }
   ],
   "source": [
    "\n",
    "x = [\"apple\", \"banana\"]\n",
    "\n",
    "print(\"pineapple\" not in x)\n"
   ]
  },
  {
   "cell_type": "markdown",
   "id": "da89bfa8-6f9a-48a6-9d78-d67960911053",
   "metadata": {},
   "source": [
    "<br>\n",
    "\n",
    "#### Examples of Bitwise Operators :"
   ]
  },
  {
   "cell_type": "code",
   "execution_count": 101,
   "id": "7177b5f2-0686-4561-9829-939160627d55",
   "metadata": {},
   "outputs": [
    {
     "name": "stdout",
     "output_type": "stream",
     "text": [
      "2\n",
      "----------------------------------------------------------------------\n",
      "\n",
      "The & operator compares each bit and set it to 1 if both are 1, otherwise it is set to 0:\n",
      "\n",
      "6 = 0000000000000110\n",
      "3 = 0000000000000011\n",
      "--------------------\n",
      "2 = 0000000000000010\n",
      "====================\n",
      "\n",
      "Decimal numbers and their binary values:\n",
      "0 = 0000000000000000\n",
      "1 = 0000000000000001\n",
      "2 = 0000000000000010\n",
      "3 = 0000000000000011\n",
      "4 = 0000000000000100\n",
      "5 = 0000000000000101\n",
      "6 = 0000000000000110\n",
      "7 = 0000000000000111\n",
      "\n",
      "----------------------------------------------------------------------\n"
     ]
    }
   ],
   "source": [
    "\n",
    "# AND\n",
    "print(6 & 3)\n",
    "\n",
    "print(\"----------\"*7)\n",
    "\n",
    "print(\n",
    "\"\"\"\n",
    "The & operator compares each bit and set it to 1 if both are 1, otherwise it is set to 0:\n",
    "\n",
    "6 = 0000000000000110\n",
    "3 = 0000000000000011\n",
    "--------------------\n",
    "2 = 0000000000000010\n",
    "====================\n",
    "\n",
    "Decimal numbers and their binary values:\n",
    "0 = 0000000000000000\n",
    "1 = 0000000000000001\n",
    "2 = 0000000000000010\n",
    "3 = 0000000000000011\n",
    "4 = 0000000000000100\n",
    "5 = 0000000000000101\n",
    "6 = 0000000000000110\n",
    "7 = 0000000000000111\n",
    "\"\"\"\n",
    "    )\n",
    "\n",
    "print(\"----------\"*7)\n"
   ]
  },
  {
   "cell_type": "code",
   "execution_count": 102,
   "id": "558fb7d1-cf6e-44a9-a96e-61c816260ec3",
   "metadata": {},
   "outputs": [
    {
     "name": "stdout",
     "output_type": "stream",
     "text": [
      "7\n",
      "----------------------------------------------------------------------\n",
      "\n",
      "The | operator compares each bit and set it to 1 if one or both is 1, otherwise it is set to 0:\n",
      "\n",
      "6 = 0000000000000110\n",
      "3 = 0000000000000011\n",
      "--------------------\n",
      "7 = 0000000000000111\n",
      "====================\n",
      "\n",
      "Decimal numbers and their binary values:\n",
      "0 = 0000000000000000\n",
      "1 = 0000000000000001\n",
      "2 = 0000000000000010\n",
      "3 = 0000000000000011\n",
      "4 = 0000000000000100\n",
      "5 = 0000000000000101\n",
      "6 = 0000000000000110\n",
      "7 = 0000000000000111\n",
      "\n",
      "----------------------------------------------------------------------\n"
     ]
    }
   ],
   "source": [
    "\n",
    "# OR\n",
    "print(6 | 3)\n",
    "\n",
    "print(\"----------\"*7)\n",
    "\n",
    "print(\"\"\"\n",
    "The | operator compares each bit and set it to 1 if one or both is 1, otherwise it is set to 0:\n",
    "\n",
    "6 = 0000000000000110\n",
    "3 = 0000000000000011\n",
    "--------------------\n",
    "7 = 0000000000000111\n",
    "====================\n",
    "\n",
    "Decimal numbers and their binary values:\n",
    "0 = 0000000000000000\n",
    "1 = 0000000000000001\n",
    "2 = 0000000000000010\n",
    "3 = 0000000000000011\n",
    "4 = 0000000000000100\n",
    "5 = 0000000000000101\n",
    "6 = 0000000000000110\n",
    "7 = 0000000000000111\n",
    "\"\"\"\n",
    "    )\n",
    "\n",
    "print(\"----------\"*7)\n"
   ]
  },
  {
   "cell_type": "code",
   "execution_count": 103,
   "id": "b10e5bd9-e2d7-4993-9550-2df5367ca169",
   "metadata": {},
   "outputs": [
    {
     "name": "stdout",
     "output_type": "stream",
     "text": [
      "5\n",
      "----------------------------------------------------------------------\n",
      "\n",
      "The ^ operator compares each bit and set it to 1 if only one is 1, otherwise (if both are 1 or both are 0) it is set to 0:\n",
      "\n",
      "6 = 0000000000000110\n",
      "3 = 0000000000000011\n",
      "--------------------\n",
      "5 = 0000000000000101\n",
      "====================\n",
      "\n",
      "Decimal numbers and their binary values:\n",
      "0 = 0000000000000000\n",
      "1 = 0000000000000001\n",
      "2 = 0000000000000010\n",
      "3 = 0000000000000011\n",
      "4 = 0000000000000100\n",
      "5 = 0000000000000101\n",
      "6 = 0000000000000110\n",
      "7 = 0000000000000111\n",
      "\n",
      "----------------------------------------------------------------------\n"
     ]
    }
   ],
   "source": [
    "\n",
    "# XOR\n",
    "print(6 ^ 3)\n",
    "\n",
    "print(\"----------\"*7)\n",
    "\n",
    "print(\"\"\"\n",
    "The ^ operator compares each bit and set it to 1 if only one is 1, otherwise (if both are 1 or both are 0) it is set to 0:\n",
    "\n",
    "6 = 0000000000000110\n",
    "3 = 0000000000000011\n",
    "--------------------\n",
    "5 = 0000000000000101\n",
    "====================\n",
    "\n",
    "Decimal numbers and their binary values:\n",
    "0 = 0000000000000000\n",
    "1 = 0000000000000001\n",
    "2 = 0000000000000010\n",
    "3 = 0000000000000011\n",
    "4 = 0000000000000100\n",
    "5 = 0000000000000101\n",
    "6 = 0000000000000110\n",
    "7 = 0000000000000111\n",
    "\"\"\"\n",
    "    )\n",
    "\n",
    "print(\"----------\"*7)\n"
   ]
  },
  {
   "cell_type": "code",
   "execution_count": 104,
   "id": "e531768d-4c3a-4ff3-9b2a-c430b997c02d",
   "metadata": {},
   "outputs": [
    {
     "name": "stdout",
     "output_type": "stream",
     "text": [
      "-4\n",
      "----------------------------------------------------------------------\n",
      "\n",
      "The ~ operator inverts each bit (0 becomes 1 and 1 becomes 0).\n",
      "\n",
      "Inverted 3 becomes -4:\n",
      " 3 = 0000000000000011\n",
      "-4 = 1111111111111100\n",
      "\n",
      "Decimal numbers and their binary values:\n",
      " 4 = 0000000000000100\n",
      " 3 = 0000000000000011\n",
      " 2 = 0000000000000010\n",
      " 1 = 0000000000000001\n",
      " 0 = 0000000000000000\n",
      "-1 = 1111111111111111\n",
      "-2 = 1111111111111110\n",
      "-3 = 1111111111111101\n",
      "-4 = 1111111111111100\n",
      "\n",
      "----------------------------------------------------------------------\n"
     ]
    }
   ],
   "source": [
    "\n",
    "# NOT\n",
    "print(~3)\n",
    "\n",
    "print(\"----------\"*7)\n",
    "\n",
    "print(\"\"\"\n",
    "The ~ operator inverts each bit (0 becomes 1 and 1 becomes 0).\n",
    "\n",
    "Inverted 3 becomes -4:\n",
    " 3 = 0000000000000011\n",
    "-4 = 1111111111111100\n",
    "\n",
    "Decimal numbers and their binary values:\n",
    " 4 = 0000000000000100\n",
    " 3 = 0000000000000011\n",
    " 2 = 0000000000000010\n",
    " 1 = 0000000000000001\n",
    " 0 = 0000000000000000\n",
    "-1 = 1111111111111111\n",
    "-2 = 1111111111111110\n",
    "-3 = 1111111111111101\n",
    "-4 = 1111111111111100\n",
    "\"\"\"\n",
    "    )\n",
    "\n",
    "print(\"----------\"*7)\n"
   ]
  },
  {
   "cell_type": "code",
   "execution_count": 105,
   "id": "836c4bc3-5dbd-48bd-8e93-08a0c26ff476",
   "metadata": {},
   "outputs": [
    {
     "name": "stdout",
     "output_type": "stream",
     "text": [
      "12\n",
      "----------------------------------------------------------------------\n",
      "\n",
      "The << operator inserts the specified number of 0's (in this case 2) from the right and let the same amount of leftmost bits fall off:\n",
      "\n",
      "If you push 00 in from the left:\n",
      " 3 = 0000000000000011\n",
      "becomes\n",
      "12 = 0000000000001100\n",
      "\n",
      "Decimal numbers and their binary values:\n",
      " 0 = 0000000000000000\n",
      " 1 = 0000000000000001\n",
      " 2 = 0000000000000010\n",
      " 3 = 0000000000000011\n",
      " 4 = 0000000000000100\n",
      " 5 = 0000000000000101\n",
      " 6 = 0000000000000110\n",
      " 7 = 0000000000000111\n",
      " 8 = 0000000000001000\n",
      " 9 = 0000000000001001\n",
      "10 = 0000000000001010\n",
      "11 = 0000000000001011\n",
      "12 = 0000000000001100\n",
      "\n",
      "----------------------------------------------------------------------\n"
     ]
    }
   ],
   "source": [
    "\n",
    "# Zero fill left shift\n",
    "print(3 << 2)\n",
    "\n",
    "print(\"----------\"*7)\n",
    "\n",
    "print(\"\"\"\n",
    "The << operator inserts the specified number of 0's (in this case 2) from the right and let the same amount of leftmost bits fall off:\n",
    "\n",
    "If you push 00 in from the left:\n",
    " 3 = 0000000000000011\n",
    "becomes\n",
    "12 = 0000000000001100\n",
    "\n",
    "Decimal numbers and their binary values:\n",
    " 0 = 0000000000000000\n",
    " 1 = 0000000000000001\n",
    " 2 = 0000000000000010\n",
    " 3 = 0000000000000011\n",
    " 4 = 0000000000000100\n",
    " 5 = 0000000000000101\n",
    " 6 = 0000000000000110\n",
    " 7 = 0000000000000111\n",
    " 8 = 0000000000001000\n",
    " 9 = 0000000000001001\n",
    "10 = 0000000000001010\n",
    "11 = 0000000000001011\n",
    "12 = 0000000000001100\n",
    "\"\"\"\n",
    "    )\n",
    "\n",
    "print(\"----------\"*7)\n"
   ]
  },
  {
   "cell_type": "code",
   "execution_count": 106,
   "id": "96a1542d-bbed-4ba1-ba6c-c2c5d54f412d",
   "metadata": {},
   "outputs": [
    {
     "name": "stdout",
     "output_type": "stream",
     "text": [
      "2\n",
      "----------------------------------------------------------------------\n",
      "\n",
      "The >> operator moves each bit the specified number of times to the right. Empty holes at the left are filled with 0's.\n",
      "\n",
      "If you move each bit 2 times to the right, 8 becomes 2:\n",
      " 8 = 0000000000001000\n",
      "becomes\n",
      " 2 = 0000000000000010\n",
      "\n",
      "Decimal numbers and their binary values:\n",
      " 0 = 0000000000000000\n",
      " 1 = 0000000000000001\n",
      " 2 = 0000000000000010\n",
      " 3 = 0000000000000011\n",
      " 4 = 0000000000000100\n",
      " 5 = 0000000000000101\n",
      " 6 = 0000000000000110\n",
      " 7 = 0000000000000111\n",
      " 8 = 0000000000001000\n",
      " 9 = 0000000000001001\n",
      "10 = 0000000000001010\n",
      "11 = 0000000000001011\n",
      "12 = 0000000000001100\n",
      "\n",
      "----------------------------------------------------------------------\n"
     ]
    }
   ],
   "source": [
    "\n",
    "# Signed right shift\n",
    "print(8 >> 2)\n",
    "\n",
    "print(\"----------\"*7)\n",
    "\n",
    "print(\"\"\"\n",
    "The >> operator moves each bit the specified number of times to the right. Empty holes at the left are filled with 0's.\n",
    "\n",
    "If you move each bit 2 times to the right, 8 becomes 2:\n",
    " 8 = 0000000000001000\n",
    "becomes\n",
    " 2 = 0000000000000010\n",
    "\n",
    "Decimal numbers and their binary values:\n",
    " 0 = 0000000000000000\n",
    " 1 = 0000000000000001\n",
    " 2 = 0000000000000010\n",
    " 3 = 0000000000000011\n",
    " 4 = 0000000000000100\n",
    " 5 = 0000000000000101\n",
    " 6 = 0000000000000110\n",
    " 7 = 0000000000000111\n",
    " 8 = 0000000000001000\n",
    " 9 = 0000000000001001\n",
    "10 = 0000000000001010\n",
    "11 = 0000000000001011\n",
    "12 = 0000000000001100\n",
    "\"\"\"\n",
    "     )\n",
    "\n",
    "print(\"----------\"*7)\n"
   ]
  },
  {
   "cell_type": "code",
   "execution_count": null,
   "id": "a91b1fbf-6e1b-4e5d-9c75-c8fe0c86ae2a",
   "metadata": {},
   "outputs": [],
   "source": []
  },
  {
   "cell_type": "markdown",
   "id": "8d305318-5e59-405e-af05-00b067277fb2",
   "metadata": {},
   "source": [
    "### 2. <span style=\"background-color: #C9FF71;color: black\">Operator Precedence</span>\n",
    "\n",
    "&nbsp;&nbsp;&nbsp;&nbsp;&nbsp;&nbsp;&nbsp;&nbsp;&nbsp;&nbsp;&nbsp;&nbsp;&nbsp;&nbsp;&nbsp;&nbsp;&nbsp;&nbsp;Operator precedence describes the <span style=\"background-color: #CAFEFD\">**order in which operations are performed**</span>.\n",
    "\n",
    "| <span style=\"color: red\"><strong>Operator</strong></span> | <span style=\"color: red\"><strong>Description</strong></span> |\n",
    "|-----------------------------------------------------------|--------------------------------------------------------------|\n",
    "| <span style=\"background-color: yellow;font-size: larger\"><strong>&nbsp;()&nbsp;</strong></span> | **Parenthesis**            |\n",
    "| <span style=\"background-color: yellow;font-size: larger\"><strong>&nbsp;**&nbsp;</strong></span> | **Exponentiation**         |\n",
    "| <span style=\"background-color: yellow;font-size: larger\"><strong>&nbsp;+x&nbsp;</strong></span>&nbsp;&nbsp;&nbsp;&nbsp;<span style=\"background-color: yellow;font-size: larger\"><strong>&nbsp;-x&nbsp;</strong></span>&nbsp;&nbsp;&nbsp;&nbsp;<span style=\"background-color: yellow;font-size: larger\"><strong>&nbsp;~x&nbsp;</strong></span> | **Unary Plus**, &nbsp;&nbsp;**Unary Minus**, &nbsp;&nbsp;and &nbsp;&nbsp;**Bitwise NOT**  |\n",
    "| <span style=\"background-color: yellow;font-size: larger\"><strong>&nbsp;*&nbsp;</strong></span>&nbsp;&nbsp;&nbsp;&nbsp;<span style=\"background-color: yellow;font-size: larger\"><strong>&nbsp;/&nbsp;</strong></span>&nbsp;&nbsp;&nbsp;&nbsp;<span style=\"background-color: yellow;font-size: larger\"><strong>&nbsp;//&nbsp;</strong></span>&nbsp;&nbsp;&nbsp;&nbsp;<span style=\"background-color: yellow;font-size: larger\"><strong>&nbsp;%&nbsp;</strong></span> | **Multiplication**, &nbsp;&nbsp;**Division**, &nbsp;&nbsp;**Floor Division**, &nbsp;&nbsp;and &nbsp;&nbsp; **Modulus**  |\n",
    "| <span style=\"background-color: yellow;font-size: larger\"><strong>&nbsp;+&nbsp;</strong></span>&nbsp;&nbsp;&nbsp;&nbsp;<span style=\"background-color: yellow;font-size: larger\"><strong>&nbsp;-&nbsp;</strong></span> | **Addition** &nbsp;&nbsp;and &nbsp;&nbsp;**Subtraction**  |\n",
    "| <span style=\"background-color: yellow;font-size: larger\"><strong>&nbsp;<<&nbsp;</strong></span>&nbsp;&nbsp;&nbsp;&nbsp;<span style=\"background-color: yellow;font-size: larger\"><strong>&nbsp;>>&nbsp;</strong></span> | **Bitwise Left Shift** &nbsp;&nbsp;and &nbsp;&nbsp;**Bitwise Right Shift**  |\n",
    "| <span style=\"background-color: yellow;font-size: larger\"><strong>&nbsp;&&nbsp;</strong></span> | **Bitwise AND**            |\n",
    "| <span style=\"background-color: yellow;font-size: larger\"><strong>&nbsp;^&nbsp;</strong></span> | **Bitwise XOR**            |\n",
    "| <span style=\"background-color: yellow;font-size: larger\"><strong>&nbsp;\\|&nbsp;</strong></span> | **Bitwise OR**            |\n",
    "| <span style=\"background-color: yellow;font-size: larger\"><strong>&nbsp;==&nbsp;</strong></span>&nbsp;&nbsp;&nbsp;&nbsp;<span style=\"background-color: yellow;font-size: larger\"><strong>&nbsp;!=&nbsp;</strong></span>&nbsp;&nbsp;&nbsp;&nbsp;<span style=\"background-color: yellow;font-size: larger\"><strong>&nbsp;>&nbsp;</strong></span>&nbsp;&nbsp;&nbsp;&nbsp;<span style=\"background-color: yellow;font-size: larger\"><strong>&nbsp;>=&nbsp;</strong></span>&nbsp;&nbsp;&nbsp;&nbsp;<span style=\"background-color: yellow;font-size: larger\"><strong>&nbsp;<&nbsp;</strong></span>&nbsp;&nbsp;&nbsp;&nbsp;<span style=\"background-color: yellow;font-size: larger\"><strong>&nbsp;<=&nbsp;</strong></span>&nbsp;&nbsp;&nbsp;&nbsp;<span style=\"background-color: yellow;font-size: larger\"><strong>&nbsp;is&nbsp;</strong></span>&nbsp;&nbsp;&nbsp;&nbsp;<span style=\"background-color: yellow;font-size: larger\"><strong>&nbsp;is not&nbsp;</strong></span>&nbsp;&nbsp;&nbsp;&nbsp;<span style=\"background-color: yellow;font-size: larger\"><strong>&nbsp;in&nbsp;</strong></span>&nbsp;&nbsp;&nbsp;&nbsp;<span style=\"background-color: yellow;font-size: larger\"><strong>&nbsp;not in&nbsp;</strong></span> | **Comparisons**, &nbsp;&nbsp;**Identity**, &nbsp;&nbsp;and &nbsp;&nbsp;**Membership** operators |\n",
    "| <span style=\"background-color: yellow;font-size: larger\"><strong>&nbsp;not&nbsp;</strong></span> | **Logical NOT**  |\n",
    "| <span style=\"background-color: yellow;font-size: larger\"><strong>&nbsp;and&nbsp;</strong></span> | **AND**  |\n",
    "| <span style=\"background-color: yellow;font-size: larger\"><strong>&nbsp;or&nbsp;</strong></span> | **OR**  |\n",
    "\n",
    "<br>\n",
    "\n",
    "&nbsp;&nbsp;&nbsp;&nbsp;&nbsp;&nbsp;&nbsp;&nbsp;&nbsp;&nbsp;&nbsp;&nbsp;&nbsp;&nbsp;&nbsp;&nbsp;&nbsp;&nbsp;&nbsp;<span style=\"background-color: #CAFEFD\">If two operators have the **same precedence**, the expression is evaluated from **left to right**</span> <span style=\"color: blue\">**except**</span> in the case of <span style=\"background-color: #E8DAEF\">**Exponentiation**</span> operator i.e., <span style=\"background-color: yellow;font-size: larger\"><strong>&nbsp;**&nbsp;</strong></span> <br> \n",
    "&nbsp;&nbsp;&nbsp;&nbsp;&nbsp;&nbsp;&nbsp;&nbsp;&nbsp;&nbsp;&nbsp;&nbsp;&nbsp;&nbsp;&nbsp;&nbsp;&nbsp;&nbsp;&nbsp;where it is from <span style=\"background-color: #E8DAEF\">**right to left**</span>&nbsp;. \n",
    "\n",
    "<br>\n",
    "&nbsp;&nbsp;&nbsp;&nbsp;&nbsp;&nbsp;&nbsp;&nbsp;&nbsp;&nbsp;&nbsp;&nbsp;&nbsp;&nbsp;&nbsp;&nbsp;&nbsp;&nbsp;&nbsp;Examples :\n",
    "\n",
    "<div style=\"text-align: left; margin-left: -300px\">\n",
    "  \n",
    "|     Expression          |    Means    |    Evaluation              |\n",
    "|-------------------------|-------------|----------------------------|\n",
    "|     a <span style=\"color: red;font-size: larger\"><strong>+</strong></span> b <span style=\"color: red;font-size: larger\"><strong>-</strong></span> c <span style=\"color: red;font-size: larger\"><strong>+</strong></span> d       |    means    |    (((a <span style=\"color: red;font-size: larger\"><strong>+</strong></span> b) <span style=\"color: red;font-size: larger\"><strong>-</strong></span> c) <span style=\"color: red;font-size: larger\"><strong>+</strong></span> d)     |\n",
    "| 100 <span style=\"color: red;font-size: larger\"><strong>+</strong></span> 5 <span style=\"color: red;font-size: larger\"><strong>*</strong></span> 3 | means | 100 <span style=\"color: red;font-size: larger\"><strong>+</strong></span> (5 <span style=\"color: red;font-size: larger\"><strong>*</strong></span> 3) |\n",
    "|     a <span style=\"color: red\"><strong>or</strong></span> b <span style=\"color: red\"><strong>and</strong></span> c        |    means    |    a <span style=\"color: red\"><strong>or</strong></span> (b <span style=\"color: red\"><strong>and</strong></span> c)          |\n",
    "|     a <span style=\"color: red\"><strong>and</strong></span> b <span style=\"color: red\"><strong>or</strong></span> c <span style=\"color: red\"><strong>and</strong></span> d  |    means    |    (a <span style=\"color: red\"><strong>and</strong></span> b) <span style=\"color: red\"><strong>or</strong></span> (c <span style=\"color: red\"><strong>and</strong></span> d)  |\n",
    "|     a <span style=\"color: red\"><strong>and</strong></span> b <span style=\"color: red\"><strong>and</strong></span> c <span style=\"color: red\"><strong>or</strong></span> d  |    means    |    ((a <span style=\"color: red\"><strong>and</strong></span> b) <span style=\"color: red\"><strong>and</strong></span> c) <span style=\"color: red\"><strong>or</strong></span> d  |\n",
    "|     not a <span style=\"color: red\"><strong>and</strong></span> b <span style=\"color: red\"><strong>or</strong></span> c    |    means    |    ((not a) <span style=\"color: red\"><strong>and</strong></span> b) <span style=\"color: red\"><strong>or</strong></span> c    |\n",
    "| a <span style=\"color: red;font-size: larger\"><strong>&nbsp;\\**&nbsp;</strong></span>&nbsp;b <span style=\"color: red;font-size: larger\"><strong>&nbsp;**&nbsp;</strong></span> c |  means  |  a <span style=\"color: red;font-size: larger\"><strong>&nbsp;\\**&nbsp;</strong></span>&nbsp;(b <span style=\"color: red;font-size: larger\"><strong>&nbsp;**&nbsp;</strong></span> c) |\n",
    "\n",
    "</div>\n"
   ]
  },
  {
   "cell_type": "code",
   "execution_count": 107,
   "id": "43c99841-bfb1-481c-9823-d580fd5272e5",
   "metadata": {},
   "outputs": [
    {
     "name": "stdout",
     "output_type": "stream",
     "text": [
      "115\n"
     ]
    }
   ],
   "source": [
    "\n",
    "print(100 + 5 * 3)\n"
   ]
  },
  {
   "cell_type": "code",
   "execution_count": 108,
   "id": "bdce5fb1-dbea-4f06-8e30-8156d5bbcd20",
   "metadata": {},
   "outputs": [
    {
     "name": "stdout",
     "output_type": "stream",
     "text": [
      "5\n"
     ]
    }
   ],
   "source": [
    "\n",
    "print(5 + 4 - 7 + 3)\n"
   ]
  },
  {
   "cell_type": "code",
   "execution_count": 109,
   "id": "55e19b6d-a2cd-4ef1-924d-ca0a9e174595",
   "metadata": {},
   "outputs": [
    {
     "name": "stdout",
     "output_type": "stream",
     "text": [
      "2 ** 2 ** 3 returns 256\n",
      "\n",
      "\n",
      "2 ** (2 ** 3) returns 256\n",
      "\n",
      "\n",
      "(2 ** 2) ** 3 returns 64\n"
     ]
    }
   ],
   "source": [
    "\n",
    "# Exponentiation operator precedence is from Right to Left also known as Right Side Binding\n",
    "\n",
    "print(f\"2 ** 2 ** 3 returns {2**2**3}\")\n",
    "print(\"\\n\")\n",
    "print(f\"2 ** (2 ** 3) returns {2**(2**3)}\")\n",
    "print(\"\\n\")\n",
    "print(f\"(2 ** 2) ** 3 returns {(2**2)**3}\")\n"
   ]
  },
  {
   "cell_type": "markdown",
   "id": "cfaa0ca0-b458-41c2-89ff-1ed7b7aab210",
   "metadata": {},
   "source": [
    "<br>\n",
    "\n",
    "### 3. <span style=\"background-color: #C9FF71;color: black\">Type Errors </span> <br>\n",
    "\n",
    "Any operation involving different different multiple data types is valid  **only if it makes sense**."
   ]
  },
  {
   "cell_type": "code",
   "execution_count": 110,
   "id": "2bcccf36-0144-4fee-aae6-10a211641446",
   "metadata": {},
   "outputs": [
    {
     "name": "stdout",
     "output_type": "stream",
     "text": [
      "length + 10 =  15\n",
      "length =  10\n"
     ]
    }
   ],
   "source": [
    "\n",
    "length = 10\n",
    "\n",
    "print(\"length + 10 = \", length + 5)        # INTEGER + INTEGER is valid\n",
    "\n",
    "print(\"length = \", length)                 # The value of the variable (\"length\") does not get updated because we never assigned the sum to the variable\n"
   ]
  },
  {
   "cell_type": "code",
   "execution_count": 111,
   "id": "41078a88-7c39-44b2-a0bd-a3740e73f26f",
   "metadata": {},
   "outputs": [
    {
     "name": "stdout",
     "output_type": "stream",
     "text": [
      "length + 5.5 =  15.5\n"
     ]
    }
   ],
   "source": [
    "\n",
    "print(\"length + 5.5 = \", length + 5.5)      # INTEGER + FLOAT is valid\n"
   ]
  },
  {
   "cell_type": "code",
   "execution_count": 112,
   "id": "95ae2adf-c971-4409-97e4-a3a28af1fbd3",
   "metadata": {},
   "outputs": [
    {
     "name": "stdout",
     "output_type": "stream",
     "text": [
      "length =  11.0\n"
     ]
    }
   ],
   "source": [
    "\n",
    "# To update the value of the variable called \"length\"\n",
    "\n",
    "# let's updateit by 10%\n",
    "length = length + (length * 0.1)\n",
    "\n",
    "print(\"length = \",length)\n"
   ]
  },
  {
   "cell_type": "code",
   "execution_count": 113,
   "id": "d93c050b-c716-4b74-8ada-e750c0523f65",
   "metadata": {},
   "outputs": [
    {
     "name": "stdout",
     "output_type": "stream",
     "text": [
      "55000.9\n"
     ]
    }
   ],
   "source": [
    "\n",
    "tuition_fee = 50000.50\n",
    "increased_fee = 5000.40\n",
    "\n",
    "print(tuition_fee + increased_fee)          # FLOAT + FLOAT is valid\n"
   ]
  },
  {
   "cell_type": "code",
   "execution_count": 114,
   "id": "d9387051-ba9f-4a15-8263-610d8ba701be",
   "metadata": {},
   "outputs": [
    {
     "name": "stdout",
     "output_type": "stream",
     "text": [
      "Avinash Mishra\n"
     ]
    }
   ],
   "source": [
    "\n",
    "print(\"Avinash\"+\" Mishra\")                  # STRING + STRING is valid\n"
   ]
  },
  {
   "cell_type": "markdown",
   "id": "2084da96-f522-49fa-afdc-f025f0e860c8",
   "metadata": {},
   "source": [
    "<br>\n",
    "\n",
    "<span style=\"background-color: #CAFEFD\">Does **STRING + INTEGER** make sense? **NO**</span>"
   ]
  },
  {
   "cell_type": "code",
   "execution_count": 115,
   "id": "7e6bcc2a-6eaf-4be1-9fb4-4bb1a361fcb9",
   "metadata": {},
   "outputs": [
    {
     "ename": "TypeError",
     "evalue": "can only concatenate str (not \"int\") to str",
     "output_type": "error",
     "traceback": [
      "\u001b[1;31m---------------------------------------------------------------------------\u001b[0m",
      "\u001b[1;31mTypeError\u001b[0m                                 Traceback (most recent call last)",
      "Cell \u001b[1;32mIn[115], line 1\u001b[0m\n\u001b[1;32m----> 1\u001b[0m \u001b[38;5;28mprint\u001b[39m(\u001b[38;5;124;43m\"\u001b[39;49m\u001b[38;5;124;43mavinash\u001b[39;49m\u001b[38;5;124;43m\"\u001b[39;49m\u001b[38;5;241;43m+\u001b[39;49m\u001b[38;5;241;43m15\u001b[39;49m)                         \u001b[38;5;66;03m# STRING + INTEGER is not valid and hence it will throw a TypeError\u001b[39;00m\n",
      "\u001b[1;31mTypeError\u001b[0m: can only concatenate str (not \"int\") to str"
     ]
    }
   ],
   "source": [
    "\n",
    "print(\"avinash\"+15)                         # STRING + INTEGER is not valid and hence it will throw a TypeError\n"
   ]
  },
  {
   "cell_type": "markdown",
   "id": "8ee05f5e-907e-4bcf-a58e-d0d38e27ae96",
   "metadata": {},
   "source": [
    "<br>\n",
    "\n",
    "<span style=\"background-color: #CAFEFD\">Does **STRING * FLOAT** make sense? **NO**</span>"
   ]
  },
  {
   "cell_type": "code",
   "execution_count": 116,
   "id": "8430fddc-6fce-490b-ab73-9385da8a5f11",
   "metadata": {},
   "outputs": [
    {
     "ename": "TypeError",
     "evalue": "can't multiply sequence by non-int of type 'float'",
     "output_type": "error",
     "traceback": [
      "\u001b[1;31m---------------------------------------------------------------------------\u001b[0m",
      "\u001b[1;31mTypeError\u001b[0m                                 Traceback (most recent call last)",
      "Cell \u001b[1;32mIn[116], line 2\u001b[0m\n\u001b[0;32m      1\u001b[0m length \u001b[38;5;241m=\u001b[39m \u001b[38;5;124m\"\u001b[39m\u001b[38;5;124m10\u001b[39m\u001b[38;5;124m\"\u001b[39m\n\u001b[1;32m----> 2\u001b[0m length \u001b[38;5;241m=\u001b[39m length \u001b[38;5;241m+\u001b[39m (\u001b[43mlength\u001b[49m\u001b[43m \u001b[49m\u001b[38;5;241;43m*\u001b[39;49m\u001b[43m \u001b[49m\u001b[38;5;241;43m0.1\u001b[39;49m)\n\u001b[0;32m      3\u001b[0m \u001b[38;5;28mprint\u001b[39m(length)\n",
      "\u001b[1;31mTypeError\u001b[0m: can't multiply sequence by non-int of type 'float'"
     ]
    }
   ],
   "source": [
    "\n",
    "length = \"10\"\n",
    "length = length + (length * 0.1)\n",
    "print(length)\n"
   ]
  },
  {
   "cell_type": "code",
   "execution_count": 117,
   "id": "3de15341-f497-4eef-8866-ad9f144b62f1",
   "metadata": {},
   "outputs": [
    {
     "data": {
      "text/plain": [
       "('10', 10)"
      ]
     },
     "execution_count": 117,
     "metadata": {},
     "output_type": "execute_result"
    }
   ],
   "source": [
    "\n",
    "# TYPE CONVERSION\n",
    "\n",
    "length = '10'\n",
    "\n",
    "length, int(length)\n"
   ]
  },
  {
   "cell_type": "code",
   "execution_count": 118,
   "id": "2e99e8f8-5832-4765-b21e-4cf0a44272a0",
   "metadata": {},
   "outputs": [
    {
     "name": "stdout",
     "output_type": "stream",
     "text": [
      "The value of the length is updated to  11\n"
     ]
    }
   ],
   "source": [
    "\n",
    "#length = int(length) + (int(length) * 0.1)                      # result will be of FLOAT type\n",
    "length = int(int(length) + (int(length) * 0.1))                  # result will be of INTEGER type\n",
    "\n",
    "print(\"The value of the length is updated to \", length)\n"
   ]
  },
  {
   "cell_type": "markdown",
   "id": "a03fcf3d-625b-4264-a5f0-7a2f3d45f443",
   "metadata": {},
   "source": [
    "<br>\n",
    "\n",
    "**However, if you are thinking <span style=\"background-color: yellow\">&nbsp;STRING * INTEGER&nbsp;</span> too does not make sense, then you are <span style=\"background-color: #E8DAEF\">&nbsp;wrong&nbsp;</span>:**"
   ]
  },
  {
   "cell_type": "code",
   "execution_count": 119,
   "id": "56b751b7-68b2-4b5b-b386-ef64f8208019",
   "metadata": {},
   "outputs": [
    {
     "name": "stdout",
     "output_type": "stream",
     "text": [
      "Avinash Avinash Avinash Avinash Avinash \n"
     ]
    }
   ],
   "source": [
    "\n",
    "print(\"Avinash \"*5)\n"
   ]
  },
  {
   "cell_type": "code",
   "execution_count": 120,
   "id": "a0db047b-5bf1-44ae-9b36-8ad67e6e3ac7",
   "metadata": {},
   "outputs": [
    {
     "name": "stdout",
     "output_type": "stream",
     "text": [
      "\n",
      "\n",
      "\n",
      "-----------------------------------------------------------------\n",
      "The value of the length is updated to  11\n",
      "-----------------------------------------------------------------\n",
      "\n",
      "\n",
      "\n"
     ]
    }
   ],
   "source": [
    "\n",
    "# We can use this concept (STRING * INTEGER) for better readability while debugging\n",
    "\n",
    "print(\"\\n\"*2)\n",
    "print(\"-------------\"*5)\n",
    "print(\"The value of the length is updated to \", length)\n",
    "print(\"-------------\"*5)\n",
    "print(\"\\n\"*2)\n"
   ]
  },
  {
   "cell_type": "markdown",
   "id": "d08a5faf-198d-494c-9779-ba726768fcf5",
   "metadata": {},
   "source": [
    "<span style=\"background-color: #CAFEFD\">Does **comparing an INTEGER with a STRING** make sense? **NO**</span>"
   ]
  },
  {
   "cell_type": "code",
   "execution_count": 121,
   "id": "0969459e-0fa6-4ae5-8ea8-df374709d58d",
   "metadata": {},
   "outputs": [
    {
     "ename": "TypeError",
     "evalue": "'<' not supported between instances of 'int' and 'str'",
     "output_type": "error",
     "traceback": [
      "\u001b[1;31m---------------------------------------------------------------------------\u001b[0m",
      "\u001b[1;31mTypeError\u001b[0m                                 Traceback (most recent call last)",
      "Cell \u001b[1;32mIn[121], line 4\u001b[0m\n\u001b[0;32m      1\u001b[0m a\u001b[38;5;241m=\u001b[39m \u001b[38;5;241m1\u001b[39m\n\u001b[0;32m      2\u001b[0m b \u001b[38;5;241m=\u001b[39m\u001b[38;5;124m'\u001b[39m\u001b[38;5;124m1\u001b[39m\u001b[38;5;124m'\u001b[39m\n\u001b[1;32m----> 4\u001b[0m \u001b[38;5;28mprint\u001b[39m(\u001b[38;5;124m'\u001b[39m\u001b[38;5;124ma<b returns \u001b[39m\u001b[38;5;124m'\u001b[39m,\u001b[43ma\u001b[49m\u001b[38;5;241;43m<\u001b[39;49m\u001b[43mb\u001b[49m)                    \u001b[38;5;66;03m# Comparing an INTEGER with a STRING not valid and hence it will throw a TypeError\u001b[39;00m\n",
      "\u001b[1;31mTypeError\u001b[0m: '<' not supported between instances of 'int' and 'str'"
     ]
    }
   ],
   "source": [
    "\n",
    "a= 1\n",
    "b ='1'\n",
    "\n",
    "print('a<b returns ',a<b)                    # Comparing an INTEGER with a STRING not valid and hence it will throw a TypeError\n"
   ]
  },
  {
   "cell_type": "code",
   "execution_count": 122,
   "id": "6c034194-bc45-4053-9a06-7291454a6155",
   "metadata": {},
   "outputs": [
    {
     "name": "stdout",
     "output_type": "stream",
     "text": [
      "a<b returns  False\n"
     ]
    }
   ],
   "source": [
    "\n",
    "# let do the TYPE CONVERSION of b from '1' to 1 and then compare with a :\n",
    "\n",
    "print('a<b returns ',a < int(b))\n"
   ]
  },
  {
   "cell_type": "markdown",
   "id": "e20f6773-7459-4ccf-8a05-75e8ad71a6c0",
   "metadata": {},
   "source": [
    "<br>\n",
    "\n",
    "<br>\n",
    "\n",
    "<span style=\"color: blue\"> █ █ █ █ █ █ █ █ █ █ █ █ █ █ █ █ █ █ █ █ █ █ █ █ █ █ █ █ █ █  █ █ █ █ █ █ █ █ █ █ █ █ █ █ █ █ █ █ █ █ █ █ █ █  █ █ █ █ █ █ █ █ █ █ █ █ █ █ █ █ █ █ █ █ █ █ █ █  </span>\n",
    "\n",
    "<br>\n",
    "\n",
    "<br>"
   ]
  },
  {
   "cell_type": "markdown",
   "id": "ec657973-cad3-4c43-b697-4afd9e0842c5",
   "metadata": {},
   "source": [
    "<br>\n",
    "\n",
    "# <u>Bit Manipulation</u>\n",
    "\n",
    "<br>\n",
    "\n",
    "<br>\n",
    "\n",
    "⇒ &nbsp; In Python, **integers** are represented using a <span style=\"background-color: #FBE2FF\">&nbsp;variable-length <span style=\"color: blue\">**two's complement format**</span>&nbsp;</span> to ensure **efficient memory utilization**. <br>\n",
    "\n",
    "⇒ &nbsp; It means unlike C/C++/Java which follows the **fixed-length two's complement format** with **Most Significant Bit** representing the **Sign** bit and the remaining bits &nbsp;&nbsp;&nbsp;&nbsp;&nbsp;&nbsp;representing the **Magnitude** (**only** in the case of **positive integers**), <br> \n",
    "\n",
    "&nbsp;&nbsp;&nbsp;&nbsp;&nbsp;&nbsp;<span style=\"background-color: #B7FEFF\">**Python uses a variable number of bits to store integers** with <span style=\"background-color: yellow;color: red\">&nbsp;**0b**&nbsp;</span> (representing **positive**</span> <span style=\"background-color: #B7FEFF\">numbers) and <span style=\"background-color: yellow;color: red\">&nbsp;**-0b**&nbsp;</span> (representing **negative** numbers) in the begining </span> <br>\n",
    "&nbsp;&nbsp;&nbsp;&nbsp;&nbsp;&nbsp;<span style=\"background-color: #B7FEFF\">of their **binary representations** like &nbsp; <span style=\"background-color: yellow;color: red\">&nbsp;**0b**&nbsp;</span><span style=\"background-color: #C70039;color: white\">&nbsp;**magnitude**&nbsp;</span> &nbsp;&nbsp; and  &nbsp;&nbsp;<span style=\"background-color: yellow;color: red\">&nbsp;**-0b**&nbsp;</span><span style=\"background-color: #C70039;color: white\">&nbsp;**magnitude**&nbsp;</span>&nbsp;&nbsp;&nbsp;&nbsp; </span> <br>\n",
    "\n",
    "⇒ &nbsp; For example, <span style=\"background-color: #FBE2FF;color:red\"><strong> &nbsp; 8 bits &nbsp;</strong></span>**,** <span style=\"background-color: #FBE2FF;color:red\"><strong> &nbsp; 16 bits &nbsp;</strong></span>**,** <span style=\"background-color: #FBE2FF;color:red\"><strong> &nbsp; 32 bits &nbsp;</strong></span>**,** <span style=\"background-color: #FBE2FF;color:red\"><strong> &nbsp; 64 bits &nbsp;</strong></span>**,** <span style=\"background-color: #FBE2FF;color:red\"><strong> &nbsp; 128 bits &nbsp;</strong></span>**,** and so on. <br>  <br>\n",
    "\n",
    "<div style=\"border: 1px solid pink; padding: 5px; margin-left: 130px; width: 780px\">\n",
    "\n",
    "**n-bit system** ===> [ &nbsp;<span style=\"background-color:yellow\"><strong>&nbsp; -( 2 ** (n - 1) ) &nbsp;</strong></span>&nbsp;&nbsp;**,**&nbsp;&nbsp;  <span style=\"background-color:yellow\"><strong>&nbsp; (2 ** (n - 1)) - 1 &nbsp;</strong></span> ]\n",
    "\n",
    "<br>\n",
    "\n",
    "&nbsp;&nbsp;&nbsp;&nbsp;&nbsp;&nbsp;&nbsp;&nbsp;&nbsp;&nbsp;&nbsp;&nbsp;&nbsp;&nbsp;&nbsp;&nbsp;&nbsp;&nbsp;8-bits &nbsp;&nbsp;~ **[&nbsp;**<span style=\"background-color: #FBE2FF;color:red\"><strong>&nbsp;-(2 ** 7)&nbsp;</strong></span>&nbsp;**,** &nbsp;<span style=\"background-color: #FBE2FF;color:red\"><strong>&nbsp;((2 ** 7) - 1) &nbsp;</strong></span><strong>]</strong> =======> &nbsp;&nbsp;[&nbsp;<span style=\"background-color: #CAFEFD\">&nbsp;-128</span> , <span style=\"background-color: #CAFEFD\">127</span>&nbsp;] <br>\n",
    "&nbsp;&nbsp;&nbsp;&nbsp;&nbsp;&nbsp;&nbsp;&nbsp;&nbsp;&nbsp;&nbsp;&nbsp;&nbsp;&nbsp;&nbsp;&nbsp;&nbsp;&nbsp;16-bits ~ **[&nbsp;**<span style=\"background-color: #FBE2FF;color:red\"><strong>&nbsp;-(2 ** 15)&nbsp;</strong></span>&nbsp;**,** &nbsp;<span style=\"background-color: #FBE2FF;color:red\"><strong>&nbsp;((2 ** 15) - 1) &nbsp;</strong></span><strong>]</strong>  ======>&nbsp;[&nbsp;<span style=\"background-color: #CAFEFD\">-32,768</span> , <span style=\"background-color: #CAFEFD\">32,767</span>&nbsp;] <br>\n",
    "&nbsp;&nbsp;&nbsp;&nbsp;&nbsp;&nbsp;&nbsp;&nbsp;&nbsp;&nbsp;&nbsp;&nbsp;&nbsp;&nbsp;&nbsp;&nbsp;&nbsp;&nbsp;32-bits ~  **[&nbsp;**<span style=\"background-color: #FBE2FF;color:red\"><strong>&nbsp;-(2 ** 31)&nbsp;</strong></span>&nbsp;**,** &nbsp;<span style=\"background-color: #FBE2FF;color:red\"><strong>&nbsp;((2 ** 31) - 1) &nbsp;</strong></span><strong>]</strong> ======> [&nbsp;<span style=\"background-color: #CAFEFD\">-2,147,483,648</span> , <span style=\"background-color: #CAFEFD\">2,147,483,647</span>&nbsp;] <br>\n",
    "&nbsp;&nbsp;&nbsp;&nbsp;&nbsp;&nbsp;&nbsp;&nbsp;&nbsp;&nbsp;&nbsp;&nbsp;&nbsp;&nbsp;&nbsp;&nbsp;&nbsp;&nbsp;64-bits ~ **[&nbsp;**<span style=\"background-color: #FBE2FF;color:red\"><strong>&nbsp;-(2 ** 63)&nbsp;</strong></span>&nbsp;**,** &nbsp;<span style=\"background-color: #FBE2FF;color:red\"><strong>&nbsp;((2 ** 63) - 1) &nbsp;</strong></span><strong>]</strong> ======> [&nbsp;<span style=\"background-color: #CAFEFD\">-9,223,372,036,854,775,808</span> , <span style=\"background-color: #CAFEFD\">9,223,372,036,854,775,807</span>&nbsp;] <br>\n",
    "\n",
    "</div>\n",
    "\n",
    "<br>"
   ]
  },
  {
   "cell_type": "markdown",
   "id": "09f5aece-6dce-4958-9982-b21262b77de1",
   "metadata": {},
   "source": [
    "<br>\n",
    "\n",
    "<br>\n",
    "\n",
    "| <span style=\"background-color: #FBE2FF; color: blue\">decimal number</span> | <span style=\"background-color: #FBE2FF;color: blue\">variable-length 2's complement binary representation</span> | <span style=\"background-color: #FBE2FF; color: blue\">fixed-length (32) 2's complement binary representation</span> |\n",
    "|----------------|------------------------------------------------------|--------------------------------------------------------|\n",
    "|     .....      |                       .....                          |                      ......                            |\n",
    "|       16       |   &nbsp;<span style=\"color: red;font-size: larger\">**0b**</span><span style=\"background-color: yellow;font-size: larger\">**10000**</span>                                                                          |  &nbsp;         <span style=\"color: red;font-size: larger\">**0b**</span><span style=\"font-size: larger\">000000000000000000000000000</span><span style=\"background-color: yellow;font-size: larger\">**10000**</span>   |\n",
    "|       15       |   &nbsp;&nbsp;&nbsp;&nbsp;<span style=\"color: red;font-size: larger\">**0b**</span><span style=\"background-color: yellow;font-size: larger\">**1111**</span>                                                 |  &nbsp;         <span style=\"color: red;font-size: larger\">**0b**</span><span style=\"font-size: larger\">0000000000000000000000000000</span><span style=\"background-color: yellow;font-size: larger\">**1111**</span>   |\n",
    "|       14       |   &nbsp;&nbsp;&nbsp;&nbsp;<span style=\"color: red;font-size: larger\">**0b**</span><span style=\"background-color: yellow;font-size: larger\">**1110**</span>                                                 |  &nbsp;         <span style=\"color: red;font-size: larger\">**0b**</span><span style=\"font-size: larger\">0000000000000000000000000000</span><span style=\"background-color: yellow;font-size: larger\">**1110**</span>   |\n",
    "|       13       |   &nbsp;&nbsp;&nbsp;&nbsp;<span style=\"color: red;font-size: larger\">**0b**</span><span style=\"background-color: yellow;font-size: larger\">**1101**</span>                                                 |  &nbsp;         <span style=\"color: red;font-size: larger\">**0b**</span><span style=\"font-size: larger\">0000000000000000000000000000</span><span style=\"background-color: yellow;font-size: larger\">**1101**</span>   |\n",
    "|       12       |   &nbsp;&nbsp;&nbsp;&nbsp;<span style=\"color: red;font-size: larger\">**0b**</span><span style=\"background-color: yellow;font-size: larger\">**1100**</span>                                                 |  &nbsp;         <span style=\"color: red;font-size: larger\">**0b**</span><span style=\"font-size: larger\">0000000000000000000000000000</span><span style=\"background-color: yellow;font-size: larger\">**1100**</span>   |\n",
    "|       11       |   &nbsp;&nbsp;&nbsp;&nbsp;<span style=\"color: red;font-size: larger\">**0b**</span><span style=\"background-color: yellow;font-size: larger\">**1011**</span>                                                 |  &nbsp;         <span style=\"color: red;font-size: larger\">**0b**</span><span style=\"font-size: larger\">0000000000000000000000000000</span><span style=\"background-color: yellow;font-size: larger\">**1011**</span>   |\n",
    "|       10       |   &nbsp;&nbsp;&nbsp;&nbsp;&nbsp;<span style=\"color: red;font-size: larger\">**0b**</span><span style=\"background-color: yellow;font-size: larger\">**1010**</span>                                                 |  &nbsp;         <span style=\"color: red;font-size: larger\">**0b**</span><span style=\"font-size: larger\">0000000000000000000000000000</span><span style=\"background-color: yellow;font-size: larger\">**1010**</span>   |\n",
    "|       9       |   &nbsp;&nbsp;&nbsp;&nbsp;&nbsp;<span style=\"color: red;font-size: larger\">**0b**</span><span style=\"background-color: yellow;font-size: larger\">**1001**</span>                                                 |  &nbsp;         <span style=\"color: red;font-size: larger\">**0b**</span><span style=\"font-size: larger\">0000000000000000000000000000</span><span style=\"background-color: yellow;font-size: larger\">**1001**</span>   |\n",
    "|       8       |   &nbsp;&nbsp;&nbsp;&nbsp;&nbsp;<span style=\"color: red;font-size: larger\">**0b**</span><span style=\"background-color: yellow;font-size: larger\">**1000**</span>                                                 |  &nbsp;         <span style=\"color: red;font-size: larger\">**0b**</span><span style=\"font-size: larger\">0000000000000000000000000000</span><span style=\"background-color: yellow;font-size: larger\">**1000**</span>   |\n",
    "|       7       |   &nbsp;&nbsp;&nbsp;&nbsp;&nbsp;&nbsp;&nbsp;&nbsp;<span style=\"color: red;font-size: larger\">**0b**</span><span style=\"background-color: yellow;font-size: larger\">**111**</span>                                | &nbsp;          <span style=\"color: red;font-size: larger\">**0b**</span><span style=\"font-size: larger\">00000000000000000000000000000</span><span style=\"background-color: yellow;font-size: larger\">**111**</span>   |\n",
    "|       6       |   &nbsp;&nbsp;&nbsp;&nbsp;&nbsp;&nbsp;&nbsp;&nbsp;<span style=\"color: red;font-size: larger\">**0b**</span><span style=\"background-color: yellow;font-size: larger\">**110**</span>                                 |  &nbsp;         <span style=\"color: red;font-size: larger\">**0b**</span><span style=\"font-size: larger\">00000000000000000000000000000</span><span style=\"background-color: yellow;font-size: larger\">**110**</span>   |\n",
    "|       5       |   &nbsp;&nbsp;&nbsp;&nbsp;&nbsp;&nbsp;&nbsp;&nbsp;<span style=\"color: red;font-size: larger\">**0b**</span><span style=\"background-color: yellow;font-size: larger\">**101**</span>                                 |  &nbsp;         <span style=\"color: red;font-size: larger\">**0b**</span><span style=\"font-size: larger\">00000000000000000000000000000</span><span style=\"background-color: yellow;font-size: larger\">**101**</span>   |\n",
    "|       4       |   &nbsp;&nbsp;&nbsp;&nbsp;&nbsp;&nbsp;&nbsp;&nbsp;<span style=\"color: red;font-size: larger\">**0b**</span><span style=\"background-color: yellow;font-size: larger\">**100**</span>                                 |  &nbsp;         <span style=\"color: red;font-size: larger\">**0b**</span><span style=\"font-size: larger\">00000000000000000000000000000</span><span style=\"background-color: yellow;font-size: larger\">**100**</span>   |\n",
    "|       3       |   &nbsp;&nbsp;&nbsp;&nbsp;&nbsp;&nbsp;&nbsp;&nbsp;&nbsp;&nbsp;&nbsp;<span style=\"color: red;font-size: larger\">**0b**</span><span style=\"background-color: yellow;font-size: larger\">**11**</span>         |  &nbsp;          <span style=\"color: red;font-size: larger\">**0b**</span><span style=\"font-size: larger\">000000000000000000000000000000</span><span style=\"background-color: yellow;font-size: larger\">**11**</span>   |\n",
    "|       2       |   &nbsp;&nbsp;&nbsp;&nbsp;&nbsp;&nbsp;&nbsp;&nbsp;&nbsp;&nbsp;&nbsp;<span style=\"color: red;font-size: larger\">**0b**</span><span style=\"background-color: yellow;font-size: larger\">**10**</span>         |  &nbsp;          <span style=\"color: red;font-size: larger\">**0b**</span><span style=\"font-size: larger\">000000000000000000000000000000</span><span style=\"background-color: yellow;font-size: larger\">**10**</span>   |\n",
    "|       1       |   &nbsp;&nbsp;&nbsp;&nbsp;&nbsp;&nbsp;&nbsp;&nbsp;&nbsp;&nbsp;&nbsp;&nbsp;&nbsp;&nbsp;<span style=\"color: red;font-size: larger\">**0b**</span><span style=\"background-color: yellow;font-size: larger\">**1**</span>    | &nbsp;          <span style=\"color: red;font-size: larger\">**0b**</span><span style=\"font-size: larger\">0000000000000000000000000000000</span><span style=\"background-color: yellow;font-size: larger\">**1**</span>   |\n",
    "|       0       |   &nbsp;&nbsp;&nbsp;&nbsp;&nbsp;&nbsp;&nbsp;&nbsp;&nbsp;&nbsp;&nbsp;&nbsp;&nbsp;&nbsp;<span style=\"color: red;font-size: larger\">**0b**</span><span style=\"background-color: yellow;font-size: larger\">**0**</span>    | &nbsp;          <span style=\"color: red;font-size: larger\">**0b**</span><span style=\"font-size: larger\">0000000000000000000000000000000</span><span style=\"background-color: yellow;font-size: larger\">**0**</span>   |\n",
    "|       -1       |  &nbsp;&nbsp;&nbsp;&nbsp;&nbsp;&nbsp;&nbsp;&nbsp;&nbsp;&nbsp;&nbsp;&nbsp;&nbsp;<span style=\"color: red;font-size: larger\">**-0b**</span><span style=\"background-color: yellow;font-size: larger\">**1**</span>          |           <span style=\"color: red;font-size: larger\">**-0b**</span><span style=\"font-size: larger\">1111111111111111111111111111111</span><span style=\"background-color: yellow;font-size: larger\">**1**</span>   |\n",
    "|       -2       |   &nbsp;&nbsp;&nbsp;&nbsp;&nbsp;&nbsp;&nbsp;&nbsp;&nbsp;&nbsp;&nbsp;<span style=\"color: red;font-size: larger\">**-0b**</span><span style=\"background-color: yellow;font-size: larger\">**10**</span>         |           <span style=\"color: red;font-size: larger\">**-0b**</span><span style=\"font-size: larger\">111111111111111111111111111111</span><span style=\"background-color: yellow;font-size: larger\">**10**</span>   |\n",
    "|       -3       |   &nbsp;&nbsp;&nbsp;&nbsp;&nbsp;&nbsp;&nbsp;&nbsp;&nbsp;&nbsp;&nbsp;<span style=\"color: red;font-size: larger\">**-0b**</span><span style=\"background-color: yellow;font-size: larger\">**11**</span>         |          <span style=\"color: red;font-size: larger\">**-0b**</span><span style=\"font-size: larger\">11111111111111111111111111111</span><span style=\"background-color: yellow;font-size: larger\">**101**</span>   |\n",
    "|       -4       |   &nbsp;&nbsp;&nbsp;&nbsp;&nbsp;&nbsp;&nbsp;&nbsp;&nbsp;<span style=\"color: red;font-size: larger\">**-0b**</span><span style=\"background-color: yellow;font-size: larger\">**100**</span>                                 |    <span style=\"color: red;font-size: larger\">**-0b**</span><span style=\"font-size: larger\">11111111111111111111111111111</span><span style=\"background-color: yellow;font-size: larger\">**100**</span>   |\n",
    "|       -5       |   &nbsp;&nbsp;&nbsp;&nbsp;&nbsp;&nbsp;&nbsp;&nbsp;&nbsp;<span style=\"color: red;font-size: larger\">**-0b**</span><span style=\"background-color: yellow;font-size: larger\">**101**</span>                                 |   <span style=\"color: red;font-size: larger\">**-0b**</span><span style=\"font-size: larger\">1111111111111111111111111111</span><span style=\"background-color: yellow;font-size: larger\">**1011**</span>   |\n",
    "|       -6       |   &nbsp;&nbsp;&nbsp;&nbsp;&nbsp;&nbsp;&nbsp;&nbsp;&nbsp;<span style=\"color: red;font-size: larger\">**-0b**</span><span style=\"background-color: yellow;font-size: larger\">**110**</span>                                 |   <span style=\"color: red;font-size: larger\">**-0b**</span><span style=\"font-size: larger\">1111111111111111111111111111</span><span style=\"background-color: yellow;font-size: larger\">**1010**</span>   |\n",
    "|       -7       |   &nbsp;&nbsp;&nbsp;&nbsp;&nbsp;&nbsp;&nbsp;&nbsp;&nbsp;<span style=\"color: red;font-size: larger\">**-0b**</span><span style=\"background-color: yellow;font-size: larger\">**111**</span>                                 |  <span style=\"color: red;font-size: larger\">**-0b**</span><span style=\"font-size: larger\">1111111111111111111111111111</span><span style=\"background-color: yellow;font-size: larger\">**1001**</span>   |\n",
    "|       -8       |   &nbsp;&nbsp;&nbsp;&nbsp;&nbsp;&nbsp;&nbsp;<span style=\"color: red;font-size: larger\">**-0b**</span><span style=\"background-color: yellow;font-size: larger\">**1000**</span>                                            |    <span style=\"color: red;font-size: larger\">**-0b**</span><span style=\"font-size: larger\">1111111111111111111111111111</span><span style=\"background-color: yellow;font-size: larger\">**1000**</span>   |\n",
    "|       -9       |   &nbsp;&nbsp;&nbsp;&nbsp;&nbsp;&nbsp;&nbsp;<span style=\"color: red;font-size: larger\">**-0b**</span><span style=\"background-color: yellow;font-size: larger\">**1001**</span>                                            |    <span style=\"color: red;font-size: larger\">**-0b**</span><span style=\"font-size: larger\">111111111111111111111111111</span><span style=\"background-color: yellow;font-size: larger\">**10111**</span>   |\n",
    "|       -10       |   &nbsp;&nbsp;&nbsp;&nbsp;&nbsp;&nbsp;&nbsp;<span style=\"color: red;font-size: larger\">**-0b**</span><span style=\"background-color: yellow;font-size: larger\">**1010**</span>                                            |    <span style=\"color: red;font-size: larger\">**-0b**</span><span style=\"font-size: larger\">111111111111111111111111111</span><span style=\"background-color: yellow;font-size: larger\">**10110**</span>   |\n",
    "|       -11       |   &nbsp;&nbsp;&nbsp;&nbsp;&nbsp;&nbsp;&nbsp;<span style=\"color: red;font-size: larger\">**-0b**</span><span style=\"background-color: yellow;font-size: larger\">**1011**</span>                                            |    <span style=\"color: red;font-size: larger\">**-0b**</span><span style=\"font-size: larger\">111111111111111111111111111</span><span style=\"background-color: yellow;font-size: larger\">**10101**</span>   |\n",
    "|       -12       |   &nbsp;&nbsp;&nbsp;&nbsp;&nbsp;&nbsp;&nbsp;<span style=\"color: red;font-size: larger\">**-0b**</span><span style=\"background-color: yellow;font-size: larger\">**1100**</span>                                            |    <span style=\"color: red;font-size: larger\">**-0b**</span><span style=\"font-size: larger\">111111111111111111111111111</span><span style=\"background-color: yellow;font-size: larger\">**10100**</span>   |\n",
    "|       -13       |   &nbsp;&nbsp;&nbsp;&nbsp;&nbsp;&nbsp;&nbsp;<span style=\"color: red;font-size: larger\">**-0b**</span><span style=\"background-color: yellow;font-size: larger\">**1101**</span>                                            |    <span style=\"color: red;font-size: larger\">**-0b**</span><span style=\"font-size: larger\">111111111111111111111111111</span><span style=\"background-color: yellow;font-size: larger\">**10011**</span>   |\n",
    "|       -14       |   &nbsp;&nbsp;&nbsp;&nbsp;&nbsp;&nbsp;&nbsp;<span style=\"color: red;font-size: larger\">**-0b**</span><span style=\"background-color: yellow;font-size: larger\">**1110**</span>                                            |    <span style=\"color: red;font-size: larger\">**-0b**</span><span style=\"font-size: larger\">111111111111111111111111111</span><span style=\"background-color: yellow;font-size: larger\">**10010**</span>   |\n",
    "|       -15       |   &nbsp;&nbsp;&nbsp;&nbsp;&nbsp;&nbsp;&nbsp;<span style=\"color: red;font-size: larger\">**-0b**</span><span style=\"background-color: yellow;font-size: larger\">**1111**</span>                                            |    <span style=\"color: red;font-size: larger\">**-0b**</span><span style=\"font-size: larger\">111111111111111111111111111</span><span style=\"background-color: yellow;font-size: larger\">**10010**</span>   |\n",
    "|       -16       |   &nbsp;&nbsp;&nbsp;&nbsp;&nbsp;<span style=\"color: red;font-size: larger\">**-0b**</span><span style=\"background-color: yellow;font-size: larger\">**10000**</span>                                            |    <span style=\"color: red;font-size: larger\">**-0b**</span><span style=\"font-size: larger\">111111111111111111111111111</span><span style=\"background-color: yellow;font-size: larger\">**10000**</span>   |\n",
    "\n",
    "<br>\n",
    "\n",
    "<br>\n",
    "\n",
    "⇒ &nbsp; Use <span style=\"background-color: #FBE2FF\"><span style=\"color: red\">**bin()**</span> to find the **binary representation**</span> of a number (in decimal system) and <span style=\"background-color: #FBE2FF\"><span style=\"color: red\">**int.bit_length()**</span> to find the **bit length**</span> of that decimal number. <br>\n",
    "\n",
    "⇒ &nbsp; But remember &nbsp;<span style=\"background-color: yellow;color: red;font-size: larger\">&nbsp;**0b**&nbsp;</span><span style=\"background-color: black;color: #00FFFF; font-size: larger\">&nbsp;**magnitude**&nbsp;</span>&nbsp;</span> and <span style=\"background-color: yellow;color: red; font-size: larger\">&nbsp;**-0b**&nbsp;</span><span style=\"background-color: black;color: #00FFFF; font-size: larger\">&nbsp;**magnitude**&nbsp;</span>&nbsp;</span> are just for string representations. **Actual working is same across all programming languages**. <br>\n",
    "\n",
    "⇒ &nbsp; <span style=\"color: #8702CA\">Therefore, one can always solve **all bit manipulation related questions** with the same technique in **Python** too like we do in **C** / **C** / **Java** .</span>\n",
    "\n",
    "\n",
    "<br>\n"
   ]
  },
  {
   "cell_type": "markdown",
   "id": "de2b39bc-7ed0-420a-be95-fe7cf254afc5",
   "metadata": {},
   "source": [
    "<br>\n",
    "\n",
    "<span style=\"background-color: #B7FEFF\">**Variable-Length 2's Complement Binary Representation**</span> of any number in **Python** :"
   ]
  },
  {
   "cell_type": "code",
   "execution_count": 123,
   "id": "615ecac6-2e06-4fc8-981c-8c68e625aa3a",
   "metadata": {},
   "outputs": [
    {
     "name": "stdin",
     "output_type": "stream",
     "text": [
      "Enter the number you want to see the binary representation of : -5\n"
     ]
    },
    {
     "name": "stdout",
     "output_type": "stream",
     "text": [
      "binary representation ====>  -0b101\n",
      "bit length            ====>  3\n",
      "\n",
      "\n"
     ]
    }
   ],
   "source": [
    "\n",
    "# Variable-Length Binary Representation of any number in Python\n",
    "\n",
    "num = int(input(\"Enter the number you want to see the binary representation of :\"))\n",
    "\n",
    "print(\"binary representation ====> \", bin(num))\n",
    "print(\"bit length            ====> \", num.bit_length())\n",
    "\n",
    "print()\n",
    "print()\n"
   ]
  },
  {
   "cell_type": "markdown",
   "id": "9f2a59df-2304-48a5-8faf-1ff8c35be873",
   "metadata": {},
   "source": [
    "<span style=\"background-color: #C9FF71; font-size: larger\">**Internal Working of Bit system**</span> : - <span style=\"background-color: #B7FEFF\">**Fixed-Length 2's Complement Binary Representation**</span> of any number in **C** / **C++** / **Java** / **Python** :"
   ]
  },
  {
   "cell_type": "code",
   "execution_count": 124,
   "id": "60629bb2-922c-42aa-8141-f4400b50e127",
   "metadata": {},
   "outputs": [
    {
     "name": "stdin",
     "output_type": "stream",
     "text": [
      "Enter the number you want to see the binary representation of : -5\n"
     ]
    },
    {
     "name": "stdout",
     "output_type": "stream",
     "text": [
      "binary representation ======> -0b11111111111111111111111111111011\n",
      "\n",
      "\n"
     ]
    }
   ],
   "source": [
    "\n",
    "# Convert any number to its binary representation in a fixed n-bit system in Python\n",
    "\n",
    "\n",
    "num = int(input(\"Enter the number you want to see the binary representation of :\"))\n",
    "\n",
    "\n",
    "binary_representation = \"\"\n",
    "for i in range(0,32):\n",
    "    if (num & (1 << i)) == 0:\n",
    "        binary_representation = binary_representation + '0'\n",
    "    else:\n",
    "        binary_representation = binary_representation + '1'\n",
    "\n",
    "\n",
    "if num > 0:\n",
    "    binary_representation = \"0b\" + binary_representation[::-1]\n",
    "else:\n",
    "    binary_representation = \"-0b\" + binary_representation[::-1]\n",
    "\n",
    "\n",
    "print(\"binary representation ======>\", binary_representation)\n",
    "\n",
    "\n",
    "print()\n",
    "print()\n"
   ]
  },
  {
   "cell_type": "markdown",
   "id": "2a567995-2c2b-47f7-a3e7-aa6db83b8c43",
   "metadata": {},
   "source": [
    "<br>\n",
    "\n",
    "<span style=\"background-color: #C9FF71; font-size: larger\">**Significant Bits**<span>\n"
   ]
  },
  {
   "cell_type": "code",
   "execution_count": 125,
   "id": "34f4503e-4e8a-422c-b150-fd84524b0cdf",
   "metadata": {},
   "outputs": [
    {
     "name": "stdin",
     "output_type": "stream",
     "text": [
      "Enter the number you want to see the binary representation of : -5\n",
      "Enter the number of bits you want to see the result in : 32\n"
     ]
    },
    {
     "name": "stdout",
     "output_type": "stream",
     "text": [
      "type(binary_representation) ===>  <class 'str'>\n",
      "binary representation ======> -0b11111111111111111111111111111011\n",
      "\n",
      "\n"
     ]
    }
   ],
   "source": [
    "\n",
    "# Convert any number to its binary representation upto n-bit system in Python. Display only significant bits\n",
    "\n",
    "# Each and every 1 is always significant in a binary representation, so 1 is alway significant. \n",
    "# While 0s to the left side of the leftmost 1 (most significant 1) are insignificant and should not be displayed as per the question.\n",
    "\n",
    "num = int(input(\"Enter the number you want to see the binary representation of :\"))\n",
    "num_bits = int(input(\"Enter the number of bits you want to see the result in :\"))\n",
    "\n",
    "binary_representation = bin(num & ((1 << num_bits) - 1))                    \n",
    "\n",
    "print(\"type(binary_representation) ===> \", type(binary_representation))     # bin() returns a string class\n",
    "\n",
    "if num < 0:\n",
    "    print(\"binary representation ======>\", \"-\" + binary_representation)     # - sign is concatenated for negative numbers\n",
    "else:\n",
    "    print(\"binary representation ======>\", binary_representation)\n",
    "\n",
    "\n",
    "print()\n",
    "print()\n"
   ]
  },
  {
   "cell_type": "code",
   "execution_count": null,
   "id": "770aefce-7959-453b-b4d1-6ba62e9e6492",
   "metadata": {},
   "outputs": [],
   "source": []
  },
  {
   "cell_type": "code",
   "execution_count": null,
   "id": "4f05e2a6-aa0c-4425-b3cb-27895483c937",
   "metadata": {},
   "outputs": [],
   "source": []
  },
  {
   "cell_type": "code",
   "execution_count": null,
   "id": "8589c6d4-5445-4d24-a215-9496983a37cf",
   "metadata": {},
   "outputs": [],
   "source": []
  },
  {
   "cell_type": "code",
   "execution_count": null,
   "id": "3a5628ca-bda6-4d7e-819e-36493caaec3f",
   "metadata": {},
   "outputs": [],
   "source": []
  },
  {
   "cell_type": "code",
   "execution_count": 126,
   "id": "aee9b752-9238-4041-bff0-c95ddc72eaaf",
   "metadata": {},
   "outputs": [
    {
     "name": "stdout",
     "output_type": "stream",
     "text": [
      "1 << 0 ====> 1\n",
      "1 << 1 ====> 2\n",
      "1 << 2 ====> 4\n",
      "1 << 3 ====> 8\n",
      "\n",
      "1 >> 0 ====> 1\n",
      "1 >> 1 ====> 0\n",
      "1 >> 2 ====> 0\n",
      "1 >> 3 ====> 0\n"
     ]
    }
   ],
   "source": [
    "\n",
    "print(\"1 << 0 ====>\", 1 << 0)  # 1  ===> 1\n",
    "print(\"1 << 1 ====>\", 1 << 1)  # 2  ===> 10\n",
    "print(\"1 << 2 ====>\", 1 << 2)  # 4  ===> 100\n",
    "print(\"1 << 3 ====>\", 1 << 3)  # 8  ===> 1000\n",
    "\n",
    "print()\n",
    "\n",
    "print(\"1 >> 0 ====>\", 1 >> 0)  # 1  ===> 00000001\n",
    "print(\"1 >> 1 ====>\", 1 >> 1)  # 0  ===> 00000000\n",
    "print(\"1 >> 2 ====>\", 1 >> 2)  # 0  ===> 00000000\n",
    "print(\"1 >> 3 ====>\", 1 >> 3)  # 0  ===> 00000000\n"
   ]
  },
  {
   "cell_type": "code",
   "execution_count": null,
   "id": "4ae47682-ed90-4323-a46e-d317c2692a8f",
   "metadata": {},
   "outputs": [],
   "source": []
  },
  {
   "cell_type": "code",
   "execution_count": null,
   "id": "2bd85c59-3023-4da0-8e2e-a2cbea79fed3",
   "metadata": {},
   "outputs": [],
   "source": []
  },
  {
   "cell_type": "code",
   "execution_count": null,
   "id": "3c33e186-6b0b-4cff-b4e6-87d53255850a",
   "metadata": {},
   "outputs": [],
   "source": []
  },
  {
   "cell_type": "code",
   "execution_count": null,
   "id": "18027cd0-51d1-419b-89d1-57a61babc7b5",
   "metadata": {},
   "outputs": [],
   "source": []
  },
  {
   "cell_type": "code",
   "execution_count": null,
   "id": "04b56de2-30f3-4683-b034-fbcc3241f815",
   "metadata": {},
   "outputs": [],
   "source": []
  },
  {
   "cell_type": "markdown",
   "id": "e04a740c-27cf-4990-b878-2fd71b6f8d2b",
   "metadata": {},
   "source": [
    "<br>\n",
    "\n",
    "<br>\n",
    "\n",
    "<span style=\"color: blue\"> █ █ █ █ █ █ █ █ █ █ █ █ █ █ █ █ █ █ █ █ █ █ █ █ █ █ █ █ █ █  █ █ █ █ █ █ █ █ █ █ █ █ █ █ █ █ █ █ █ █ █ █ █ █  █ █ █ █ █ █ █ █ █ █ █ █ █ █ █ █ █ █ █ █ █ █ █ █  </span>\n",
    "\n",
    "<br>\n",
    "\n",
    "<br>"
   ]
  },
  {
   "cell_type": "markdown",
   "id": "128398ba-5f58-430b-8b7a-d5ba8eef973b",
   "metadata": {},
   "source": [
    "<br>\n",
    "\n",
    "# <u>Math related Functions</u>\n",
    "\n",
    "<br>"
   ]
  },
  {
   "cell_type": "code",
   "execution_count": 129,
   "id": "2c5a5b22-19df-48ac-900e-f1ea98625eed",
   "metadata": {},
   "outputs": [
    {
     "name": "stdout",
     "output_type": "stream",
     "text": [
      "ceil value of total sales =  20001\n",
      "floor value of total sales =  20000\n",
      "absolute value of total sales =  20000.6\n"
     ]
    }
   ],
   "source": [
    "\n",
    "import math\n",
    "total_sales = 20000.60\n",
    "\n",
    "print(\"ceil value of total sales = \",math.ceil(total_sales))       # ceil() returns upper value\n",
    "print(\"floor value of total sales = \",math.floor(total_sales))     # floor() returns lower value\n",
    "print(\"absolute value of total sales = \",math.fabs(total_sales))   # fabs() returns absolute value\n"
   ]
  },
  {
   "cell_type": "markdown",
   "id": "31559660-46e6-4e18-af1c-e2a82da0a746",
   "metadata": {},
   "source": [
    "<br>\n",
    "\n",
    "There are many functions in Math module which we can use as and when required."
   ]
  },
  {
   "cell_type": "code",
   "execution_count": 4,
   "id": "51aeccc6-bd6b-468e-8a5e-833d220159a8",
   "metadata": {},
   "outputs": [
    {
     "name": "stdout",
     "output_type": "stream",
     "text": [
      "2.0\n"
     ]
    }
   ],
   "source": [
    "\n",
    "import math\n",
    "\n",
    "print(math.sqrt(4))\n"
   ]
  },
  {
   "cell_type": "markdown",
   "id": "c6e8ff51-684d-4727-abc9-1ff451f1f551",
   "metadata": {},
   "source": [
    "\n",
    "<font size=\"+1\">↳⭐</font> &nbsp; However, remember that <span style=\"background-color: #CAFEFD\">instead of importing **math** module for finding the square root of a number</span>, we can directly use &nbsp;<span style=\"background-color: #FEEBFF\"><strong><font size=\"+1\">&nbsp;n\\*\\*(1/2)&nbsp;</font></strong></span> &nbsp;&nbsp;or&nbsp;&nbsp; <span style=\"background-color: #FEEBFF\"><strong><font size=\"+1\">&nbsp;n\\*\\*0.5&nbsp;</font></strong></span> &nbsp;&nbsp;or&nbsp;&nbsp; <span style=\"background-color: #FEEBFF\"><strong><font size=\"+1\">&nbsp;n\\*\\*.5&nbsp;</font></strong></span>\n"
   ]
  },
  {
   "cell_type": "code",
   "execution_count": null,
   "id": "7354cd6e-2959-4f31-a3e6-cfbdf6cac352",
   "metadata": {},
   "outputs": [],
   "source": []
  },
  {
   "cell_type": "code",
   "execution_count": null,
   "id": "a5c8b552-7fe4-4ac8-b0b6-5de8989c7ead",
   "metadata": {},
   "outputs": [],
   "source": []
  },
  {
   "cell_type": "code",
   "execution_count": null,
   "id": "80d3bc43-b42a-4a6f-9244-cec859c3a188",
   "metadata": {},
   "outputs": [],
   "source": []
  },
  {
   "cell_type": "code",
   "execution_count": null,
   "id": "9c17f342-24b4-4d25-a42c-d9ee7f49b938",
   "metadata": {},
   "outputs": [],
   "source": []
  }
 ],
 "metadata": {
  "kernelspec": {
   "display_name": "Python 3 (ipykernel)",
   "language": "python",
   "name": "python3"
  },
  "language_info": {
   "codemirror_mode": {
    "name": "ipython",
    "version": 3
   },
   "file_extension": ".py",
   "mimetype": "text/x-python",
   "name": "python",
   "nbconvert_exporter": "python",
   "pygments_lexer": "ipython3",
   "version": "3.11.3"
  }
 },
 "nbformat": 4,
 "nbformat_minor": 5
}
