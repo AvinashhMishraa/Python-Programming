{
 "cells": [
  {
   "cell_type": "markdown",
   "id": "73b987f4-6a57-4736-afc8-f04cf373cc8a",
   "metadata": {},
   "source": [
    "# <u>Python if Statement</u>\n",
    "\n",
    "To execute a block of code based on a condition\n",
    "\n",
    "<br>\n",
    "\n",
    "### 1. <span style=\"background-color: yellow;\">The simple Python if statement</span>\n",
    "\n",
    "We use the <span style=\"background-color: #FFF862;color:red\"><strong> &nbsp;&nbsp; if &nbsp;&nbsp;</strong></span> statement when you want to run a code block based on a condition.\n",
    "\n",
    "<br>\n",
    "\n",
    "<div style=\"border: 1px solid pink; background-color: #FAF2FC; padding: 10px; margin-left: 50px\">\n",
    "<span style=\"color:red\"><strong>if</strong> &nbsp;<span style=\"color:blue\"><strong>if-condition: &nbsp;</strong></span></span><br>\n",
    "<span style=\"color: blue\"><strong>&nbsp;&nbsp;&nbsp;&nbsp;&nbsp;&nbsp;&nbsp;&nbsp;&nbsp; if-block </strong></span><br>\n",
    "</div>\n",
    "\n",
    "<br>\n",
    "\n",
    "&nbsp;&nbsp;&nbsp;&nbsp;&nbsp;&nbsp;&nbsp;&nbsp;&nbsp;&nbsp;&nbsp;&nbsp;&nbsp;&nbsp;<span style=\"background-color: #C9FF71;color: black\">**Note**</span>&nbsp; that the colon (<span style=\"background-color: #EFEAF1;color:red\"><strong> &nbsp; : &nbsp;</strong></span>) that follows the <span style=\"background-color: #EFEAF1;color:red\"><strong> &nbsp; condition &nbsp;</strong></span> is very important. If you forget it, you’ll get a **syntax error**.\n",
    "\n",
    "<br>"
   ]
  },
  {
   "cell_type": "code",
   "execution_count": 3,
   "id": "a3c670a3-17c1-401f-a3ab-59cc27d40ac3",
   "metadata": {},
   "outputs": [
    {
     "name": "stdin",
     "output_type": "stream",
     "text": [
      "Enter your age: 25\n"
     ]
    },
    {
     "name": "stdout",
     "output_type": "stream",
     "text": [
      "You're eligible to vote.\n",
      "Let's go and vote.\n"
     ]
    }
   ],
   "source": [
    "age = input('Enter your age:')\n",
    "if int(age) >= 18:\n",
    "    print(\"You're eligible to vote.\")\n",
    "    print(\"Let's go and vote.\")"
   ]
  },
  {
   "cell_type": "markdown",
   "id": "1cbff5f4-5b86-477e-b7dc-1a6d8740aeed",
   "metadata": {},
   "source": [
    "<br>\n",
    "\n",
    "In this example, **indentation** is very important. Any statement that follows the if statement needs to have four spaces. <br>\n",
    "\n",
    "<span style=\"color:blue\">Any statement that follows the <span style=\"background-color: #FFF862;color:red\"><strong> &nbsp;&nbsp; if &nbsp;&nbsp;</strong></span> statement needs to have **four spaces**.</span>\n",
    "\n",
    "<span style=\"background-color: #CAFEFD\">If you don’t use the **indentation** correctly, the program will work differently. For example:</span>\n",
    "\n",
    "<br>"
   ]
  },
  {
   "cell_type": "code",
   "execution_count": 5,
   "id": "dfb91657-8822-445e-9ab6-be96d3f1c57c",
   "metadata": {},
   "outputs": [
    {
     "name": "stdin",
     "output_type": "stream",
     "text": [
      "Enter your age: 12\n"
     ]
    },
    {
     "name": "stdout",
     "output_type": "stream",
     "text": [
      "Let's go and vote.\n"
     ]
    }
   ],
   "source": [
    "age = input('Enter your age:')\n",
    "if int(age) >= 18:\n",
    "    print(\"You're eligible to vote.\")\n",
    "print(\"Let's go and vote.\")  # this print statement always executes regardless of the condition in the if statement. The reason is that it doesn’t belong to the if block:"
   ]
  },
  {
   "cell_type": "markdown",
   "id": "ec759eb3-9e6b-4311-b424-168f135c4fa9",
   "metadata": {},
   "source": [
    "<br>\n",
    "\n",
    "<br>\n",
    "\n",
    "### 2. <span style=\"background-color: yellow;\">Python if…else statement</span>\n",
    "\n",
    "We use the <span style=\"background-color: #FFF862;color:red\"><strong> &nbsp; if-else &nbsp;</strong></span> to perform an action when a condition is **True** and another action when the condition is **False**.\n",
    "\n",
    "<br>\n",
    "\n",
    "<div style=\"border: 1px solid pink; background-color: #FAF2FC; padding: 10px; margin-left: 50px\">\n",
    "<span style=\"color:red\"><strong>if</strong> &nbsp;<span style=\"color:blue\"><strong>if-condition: &nbsp;</strong></span></span><br>\n",
    "<span style=\"color: blue\"><strong>&nbsp;&nbsp;&nbsp;&nbsp;&nbsp;&nbsp;&nbsp;&nbsp;&nbsp; if-block </strong></span><br>\n",
    "<span style=\"color: red\"><strong>else</strong></span><br>\n",
    "<span style=\"color: blue\"><strong>&nbsp;&nbsp;&nbsp;&nbsp;&nbsp;&nbsp;&nbsp;&nbsp;&nbsp; else-block </strong></span><br>\n",
    "</div>\n",
    "\n",
    "<br>\n",
    "\n",
    "<br>\n",
    "\n"
   ]
  },
  {
   "cell_type": "code",
   "execution_count": 6,
   "id": "4d0ff8ae-1cfa-4fd7-bff1-251ff15da1dd",
   "metadata": {},
   "outputs": [
    {
     "name": "stdin",
     "output_type": "stream",
     "text": [
      "Enter your age: 12\n"
     ]
    },
    {
     "name": "stdout",
     "output_type": "stream",
     "text": [
      "You're not eligible to vote.\n"
     ]
    }
   ],
   "source": [
    "age = input('Enter your age:')\n",
    "if int(age) >= 18:\n",
    "    print(\"You're eligible to vote.\")\n",
    "else:\n",
    "    print(\"You're not eligible to vote.\")"
   ]
  },
  {
   "cell_type": "markdown",
   "id": "a7709988-1f33-4e1b-af06-23c24440298b",
   "metadata": {},
   "source": [
    "<br>\n",
    "\n",
    "<br>\n",
    "\n",
    "### 3. <span style=\"background-color: yellow;\">Python if…elif…else statement</span>\n",
    "\n",
    "\n",
    "If you want to check **multiple condition**s and perform an action accordingly, you can use the <span style=\"background-color: #FFF862;color:red\"><strong> &nbsp; if...elif...else &nbsp;</strong></span> statement. The <span style=\"background-color: #EFEAF1;color:red\"><strong> &nbsp; elif &nbsp;</strong></span> stands for <span style=\"background-color: #EFEAF1;color:red\"><strong> &nbsp; else if &nbsp;</strong></span>\n",
    "\n",
    "\n"
   ]
  },
  {
   "cell_type": "markdown",
   "id": "a9773042-07bd-4d51-bc2e-c8452bdb0b07",
   "metadata": {},
   "source": [
    "<br>\n",
    "\n",
    "<div style=\"border: 1px solid pink; background-color: #FAF2FC; padding: 10px; margin-left: 50px\">\n",
    "<span style=\"color:red\"><strong>if</strong> &nbsp;<span style=\"color:blue\"><strong>if-condition: &nbsp;</strong></span></span><br>\n",
    "<span style=\"color: blue\"><strong>&nbsp;&nbsp;&nbsp;&nbsp;&nbsp;&nbsp;&nbsp;&nbsp;&nbsp; if-block </strong></span><br>\n",
    "<span style=\"color:red\"><strong>elif</strong> &nbsp;<span style=\"color:blue\"><strong>elif-condition1: &nbsp;</strong></span></span><br>\n",
    "<span style=\"color: blue\"><strong>&nbsp;&nbsp;&nbsp;&nbsp;&nbsp;&nbsp;&nbsp;&nbsp;&nbsp; elif-block1 </strong></span><br>\n",
    "<span style=\"color:red\"><strong>elif</strong> &nbsp;<span style=\"color:blue\"><strong>elif-condition2: &nbsp;</strong></span></span><br>\n",
    "<span style=\"color: blue\"><strong>&nbsp;&nbsp;&nbsp;&nbsp;&nbsp;&nbsp;&nbsp;&nbsp;&nbsp; elif-block2 </strong></span><br>\n",
    "<span style=\"color: blue\"><strong>.....</strong></span><br>\n",
    "<span style=\"color: red\"><strong>else</strong></span><br>\n",
    "<span style=\"color: blue\"><strong>&nbsp;&nbsp;&nbsp;&nbsp;&nbsp;&nbsp;&nbsp;&nbsp;&nbsp; else-block </strong></span><br>\n",
    "</div>\n",
    "\n",
    "<br>\n"
   ]
  },
  {
   "cell_type": "code",
   "execution_count": 8,
   "id": "0155e27f-6ba7-4f2f-a3aa-3732bae2af97",
   "metadata": {},
   "outputs": [
    {
     "name": "stdin",
     "output_type": "stream",
     "text": [
      "Enter your age: 25\n"
     ]
    },
    {
     "name": "stdout",
     "output_type": "stream",
     "text": [
      "You'll pay $18 for the ticket\n"
     ]
    }
   ],
   "source": [
    "age = input('Enter your age:')\n",
    "\n",
    "# convert the string to int\n",
    "your_age = int(age)\n",
    "\n",
    "# determine the ticket price\n",
    "if your_age < 5:\n",
    "    ticket_price = 5\n",
    "elif your_age < 16:\n",
    "    ticket_price = 10\n",
    "else:\n",
    "    ticket_price = 18\n",
    "\n",
    "# show the ticket price\n",
    "print(f\"You'll pay ${ticket_price} for the ticket\")\n"
   ]
  },
  {
   "cell_type": "code",
   "execution_count": null,
   "id": "f4253f37-44d1-49d8-a7b7-e72d40c357e1",
   "metadata": {},
   "outputs": [],
   "source": []
  },
  {
   "cell_type": "markdown",
   "id": "d187344b-1fc3-4409-b858-19d09457d346",
   "metadata": {},
   "source": [
    "<br>\n",
    "\n",
    "<br>\n",
    "\n",
    "# <u>Python Ternary Operator</u>\n",
    "\n",
    "We use the **ternary operator** ( <span style=\"background-color: #FFF862;color:red\"><strong> &nbsp; value_if_true &nbsp; if condition &nbsp; else &nbsp; value_if_false &nbsp;</strong></span> ) to make our code more concise.\n",
    "\n",
    "<br>\n",
    "\n",
    "Let us consider the following example:\n"
   ]
  },
  {
   "cell_type": "code",
   "execution_count": 9,
   "id": "e0b5016f-ec2d-43bc-9b79-2f24e6884856",
   "metadata": {},
   "outputs": [
    {
     "name": "stdin",
     "output_type": "stream",
     "text": [
      "Enter your age: 18\n"
     ]
    },
    {
     "name": "stdout",
     "output_type": "stream",
     "text": [
      "The ticket price is 20\n"
     ]
    }
   ],
   "source": [
    "age = input('Enter your age:')\n",
    "\n",
    "if int(age) >= 18:\n",
    "    ticket_price = 20\n",
    "else:\n",
    "    ticket_price = 5\n",
    "\n",
    "print(f\"The ticket price is {ticket_price}\")"
   ]
  },
  {
   "cell_type": "markdown",
   "id": "c9edc43d-4206-4f4c-8c7a-35c2a8848ff7",
   "metadata": {},
   "source": [
    "<br>\n",
    "\n",
    "<span style=\"background-color: #CAFEFD\">To make it **more concise**, you can use an alternative syntax like this:</span>"
   ]
  },
  {
   "cell_type": "code",
   "execution_count": 10,
   "id": "48130d14-6a3f-4c4c-a7c3-219077c98b32",
   "metadata": {},
   "outputs": [
    {
     "name": "stdin",
     "output_type": "stream",
     "text": [
      "Enter your age: 18\n"
     ]
    },
    {
     "name": "stdout",
     "output_type": "stream",
     "text": [
      "The ticket price is 20\n"
     ]
    }
   ],
   "source": [
    "age = input('Enter your age:')\n",
    "\n",
    "ticket_price = 20 if int(age) >= 18 else 5\n",
    "\n",
    "print(f\"The ticket price is {ticket_price}\")"
   ]
  },
  {
   "cell_type": "code",
   "execution_count": null,
   "id": "312797a4-bd76-49eb-9529-da1ac5420d6e",
   "metadata": {},
   "outputs": [],
   "source": []
  },
  {
   "cell_type": "markdown",
   "id": "c5349b30-c071-4a8b-8b95-6791602e0642",
   "metadata": {},
   "source": [
    "<br>\n",
    "\n",
    "<br>\n",
    "\n",
    "# <u>Python for Loop Statement With range() Function</u>\n",
    "\n",
    "<br>\n",
    "\n",
    "⇒ We use the <span style=\"background-color: #FFF862;color:red\"><strong> &nbsp; for &nbsp;</strong></span> loop statement to run a code block a **fixed number of times**.\n",
    "\n",
    "⇒ We use different variations of **Range** function i.e., <span style=\"background-color: #FFF862;color:red\"><strong> &nbsp; range(n) &nbsp;</strong></span> or <span style=\"background-color: #FFF862;color:red\"><strong> &nbsp; range(start, stop) &nbsp;</strong></span> or <span style=\"background-color: #FFF862;color:red\"><strong> &nbsp; range(start, stop, step) &nbsp;</strong></span> to **customize the loop**. <br>\n",
    "\n",
    "<br>\n",
    "\n",
    "<span style=\"background-color: #CAFEFD\">Specifying only **the number of times you want a loop** to execute a statement :</span>\n"
   ]
  },
  {
   "cell_type": "code",
   "execution_count": 15,
   "id": "8543d53f-c106-44fc-a3ea-74d69b68f069",
   "metadata": {},
   "outputs": [
    {
     "name": "stdout",
     "output_type": "stream",
     "text": [
      "0\n",
      "1\n",
      "2\n",
      "3\n",
      "4\n"
     ]
    }
   ],
   "source": [
    "# Range(n)\n",
    "\n",
    "\n",
    "for index in range(5):\n",
    "    print(index)"
   ]
  },
  {
   "cell_type": "markdown",
   "id": "3caeda29-fd33-4478-a4d7-7e5ae54ba420",
   "metadata": {},
   "source": [
    "Here, the variable named <span style=\"color: blue\"> **index** </span> which is used to execute the <span style=\"background-color: #EFEAF1;color:red\"><strong> &nbsp; for &nbsp;</strong></span> loop is called a **loop counter**.\n",
    "\n",
    "As we can see in the output, the <span style=\"background-color: #FFF862;color:red\"><strong> &nbsp; range(n) &nbsp;</strong></span> generates a sequence of <span style=\"background-color: #EFEAF1;color:red\"><strong> &nbsp; n &nbsp;</strong></span> integers starting at **zero**. It **increases the value by one** until it reaches <span style=\"background-color: #EFEAF1;color:red\"><strong> &nbsp; n &nbsp;</strong></span>.\n",
    "\n",
    "By **default**, the <span style=\"background-color: #FFF862;color:red\"><strong> &nbsp; range() &nbsp;</strong></span> function uses **zero** as the **starting number** for the sequence.\n",
    "\n",
    "\n",
    "So the <span style=\"background-color: #FFF862;color:red\"><strong> &nbsp; range(n) &nbsp;</strong></span> generates a sequence of numbers: <span style=\"background-color: #EFEAF1;color:red\"><strong> &nbsp; 0 &nbsp;</strong></span>, <span style=\"background-color: #EFEAF1;color:red\"><strong> &nbsp; 1 &nbsp;</strong></span>, <span style=\"background-color: #EFEAF1;color:red\"><strong> &nbsp; 2 &nbsp;</strong></span>, …<span style=\"background-color: #EFEAF1;color:red\"><strong> n-1 </strong></span>. &nbsp; Note that it’s **always short of the final number** (<span style=\"background-color: #EFEAF1;color:red\"><strong> n </strong></span>).\n"
   ]
  },
  {
   "cell_type": "code",
   "execution_count": 21,
   "id": "a279d9f8-7855-4607-8916-1484c9ea088f",
   "metadata": {},
   "outputs": [
    {
     "name": "stdout",
     "output_type": "stream",
     "text": [
      "1\n",
      "2\n",
      "3\n",
      "4\n",
      "5\n"
     ]
    }
   ],
   "source": [
    "# If you want to show 5 numbers from 1 to 5 on the screen, you can do something like this:\n",
    "\n",
    "for index in range(5):\n",
    "    print(index + 1)"
   ]
  },
  {
   "cell_type": "markdown",
   "id": "6a2c44be-b73f-404a-a687-1ac8d7a40c18",
   "metadata": {},
   "source": [
    "<span style=\"background-color: #CAFEFD\">Specifying the **starting value** for the sequence :</span>\n"
   ]
  },
  {
   "cell_type": "code",
   "execution_count": 22,
   "id": "c174d19d-8593-47ad-aea4-75b6ff313c90",
   "metadata": {},
   "outputs": [
    {
     "name": "stdout",
     "output_type": "stream",
     "text": [
      "1\n",
      "2\n",
      "3\n",
      "4\n",
      "5\n"
     ]
    }
   ],
   "source": [
    "# range(start, stop)\n",
    "\n",
    "for index in range(1, 6):\n",
    "    print(index)"
   ]
  },
  {
   "cell_type": "markdown",
   "id": "3a97fb8d-d50b-496f-b28d-bddf06891380",
   "metadata": {},
   "source": [
    "<span style=\"background-color: #CAFEFD\">Specifying the **increment** for the sequence :</span> <br>\n",
    "\n",
    "By **default**, the <span style=\"background-color: #FFF862;color:red\"><strong> &nbsp; range(start, stop) &nbsp;</strong></span> increases the start value by **one** in each loop iteration.\n",
    "\n",
    "To increase the start value by a different number, you use the **range()** function: <span style=\"background-color: #FFF862;color:red\"><strong> &nbsp; range(start, stop, step) &nbsp;</strong></span>\n",
    "\n"
   ]
  },
  {
   "cell_type": "code",
   "execution_count": 24,
   "id": "4012a8b1-a02a-41e6-9e3b-5529543d9cbf",
   "metadata": {},
   "outputs": [
    {
     "name": "stdout",
     "output_type": "stream",
     "text": [
      "0\n",
      "2\n",
      "4\n",
      "6\n",
      "8\n",
      "10\n"
     ]
    }
   ],
   "source": [
    "# range(start, stop, step)\n",
    "\n",
    "# The following example shows all the odd numbers from 0 to 10:\n",
    "\n",
    "for index in range(0, 11, 2):\n",
    "    print(index)"
   ]
  },
  {
   "cell_type": "code",
   "execution_count": 3,
   "id": "401ce47a-9793-4bfd-a6a2-c686019f14b5",
   "metadata": {},
   "outputs": [
    {
     "name": "stdout",
     "output_type": "stream",
     "text": [
      "-1\n",
      "-2\n",
      "-3\n",
      "-4\n",
      "-5\n"
     ]
    }
   ],
   "source": [
    "# Negative counting upto -5\n",
    "\n",
    "for i in  range(-1,-6,-1):\n",
    "    print(i)"
   ]
  },
  {
   "cell_type": "code",
   "execution_count": 30,
   "id": "5645c7d8-6101-416c-bc49-c2cedef8ffe6",
   "metadata": {},
   "outputs": [
    {
     "name": "stdout",
     "output_type": "stream",
     "text": [
      "5050\n"
     ]
    }
   ],
   "source": [
    "# calculate the sum of numbers from 1 to 100:\n",
    "\n",
    "sum = 0\n",
    "\n",
    "for num in range (1,101):\n",
    "    sum = sum + num\n",
    "    \n",
    "print(sum)"
   ]
  },
  {
   "cell_type": "code",
   "execution_count": 31,
   "id": "0e9fdf2e-342c-42b8-9a39-602dc40afda9",
   "metadata": {},
   "outputs": [
    {
     "name": "stdout",
     "output_type": "stream",
     "text": [
      "5050\n"
     ]
    }
   ],
   "source": [
    "# we can write the above program (sum of numbers from 1 to 100) concisely in the following way:\n",
    "\n",
    "sum = 0\n",
    "\n",
    "for num in range(101):\n",
    "    sum += num\n",
    "\n",
    "print(sum)"
   ]
  },
  {
   "cell_type": "markdown",
   "id": "f2883e64-7bba-47b9-aa4a-2dd01d0da690",
   "metadata": {},
   "source": [
    "<br>\n",
    "\n",
    "By the way, if you’re a mathematician, you can use the simple formula:"
   ]
  },
  {
   "cell_type": "code",
   "execution_count": 36,
   "id": "bf9e7dbf-30da-4311-8d4a-904a7d8c2913",
   "metadata": {},
   "outputs": [
    {
     "name": "stdout",
     "output_type": "stream",
     "text": [
      "5050.0\n"
     ]
    }
   ],
   "source": [
    "# Step-1\n",
    "\n",
    "n = 100\n",
    "sum = n * (n+1)/2\n",
    "print(sum)"
   ]
  },
  {
   "cell_type": "code",
   "execution_count": 37,
   "id": "af18bff3-5711-4fa8-ac7b-5b8bcca43e17",
   "metadata": {},
   "outputs": [
    {
     "name": "stdout",
     "output_type": "stream",
     "text": [
      "5050\n"
     ]
    }
   ],
   "source": [
    "# Step-2  \n",
    "\n",
    "n = 100\n",
    "sum = n * (n+1)/2\n",
    "print(int(sum))        # converting the float type result into the integer type"
   ]
  },
  {
   "cell_type": "code",
   "execution_count": null,
   "id": "51c0476e-05c3-44df-88c5-1a0e05b027f3",
   "metadata": {},
   "outputs": [],
   "source": []
  },
  {
   "cell_type": "markdown",
   "id": "88f22ea8-3406-4a67-8492-c3810287c7da",
   "metadata": {},
   "source": [
    "<br>\n",
    "\n",
    "<br>\n",
    "\n",
    "# <u>Python while Loop</u>\n",
    "\n",
    "Python <span style=\"background-color: #FFF862;color:red\"><strong> &nbsp; while &nbsp;</strong></span> statement allows you to execute a code block repeatedly as long as a condition is **True**.\n",
    "\n",
    "<div style=\"border: 1px solid pink; background-color: #EFEAF1; padding-top: 20px; padding-bottom: 20px\">\n",
    "<span style=\"color:red\">&nbsp; <strong>while</strong> &nbsp;<span style=\"color:blue\"><strong>condition: &nbsp;</strong></span></span><br>\n",
    "<span style=\"color: blue\"><strong>&nbsp;&nbsp;&nbsp;&nbsp;&nbsp;&nbsp;&nbsp;&nbsp;&nbsp; body </strong></span><br>\n",
    "</div>\n",
    "\n",
    "<br>\n",
    "\n",
    "The <span style=\"background-color: #EFEAF1;color:red\"><strong> &nbsp; condition &nbsp;</strong></span> is an expression that evaluates to a boolean value, either **True** or **False**.\n",
    "\n",
    "The <span style=\"background-color: #FFF862;color:red\"><strong> &nbsp; while &nbsp;</strong></span> statement checks the condition at the beginning of each iteration. It’ll execute the body as long as the <span style=\"background-color: #EFEAF1;color:red\"><strong> &nbsp; condition &nbsp;</strong></span> is True.\n",
    "\n",
    "In the body of the loop, you need to do something to stop the loop at some time.\n",
    "\n",
    "Otherwise, you’ll get an **indefinite loop** that will run forever until you close the application.\n",
    "\n",
    "Because the <span style=\"background-color: #FFF862;color:red\"><strong> &nbsp; while &nbsp;</strong></span> statement checks the condition at the beginning of each iteration, it’s called a **pretest loop**.\n",
    "\n",
    "If the <span style=\"background-color: #EFEAF1;color:red\"><strong> &nbsp; condition &nbsp;</strong></span> is <span style=\"background-color: #EFEAF1;color:red\"><strong> &nbsp; False &nbsp;</strong></span> from the beginning, the <span style=\"background-color: #FFF862;color:red\"><strong> &nbsp; while &nbsp;</strong></span> statement will do nothing.\n",
    "\n",
    "<br>\n",
    "\n",
    "<br>\n",
    "\n",
    "<span style=\"background-color: #CAFEFD\">**Example-1**: Simple Python <span style=\"color:red\"><strong> &nbsp; while &nbsp;</strong></span> statement example</span>\n",
    "\n",
    "The following example uses a <span style=\"background-color: #FFF862;color:red\"><strong> while</strong></span> statement to show **5 numbers** from **0 to 4** to the screen:\n"
   ]
  },
  {
   "cell_type": "code",
   "execution_count": 41,
   "id": "9a718f6f-0b00-4a84-ac83-aa8d5c2d1322",
   "metadata": {},
   "outputs": [
    {
     "name": "stdout",
     "output_type": "stream",
     "text": [
      "0\n",
      "1\n",
      "2\n",
      "3\n",
      "4\n"
     ]
    }
   ],
   "source": [
    "max = 5\n",
    "counter = 0\n",
    "\n",
    "while counter < max:\n",
    "    print(counter)\n",
    "    counter += 1"
   ]
  },
  {
   "cell_type": "markdown",
   "id": "77270717-dfbd-4022-8870-26769cc0f3bf",
   "metadata": {},
   "source": [
    "<br>\n",
    "\n",
    "<span style=\"background-color: #CAFEFD\">**Example-2**: Using the Python while statement to build a simple command prompt program</span>\n",
    "\n",
    "\n",
    "The following example uses the <span style=\"background-color: #FFF862;color:red\"><strong> while</strong></span> statement to prompt users for input and echo the command that you entered back. It’ll run as long as you don’t enter the <span style=\"background-color: #EFEAF1;color:red\"><strong> quit </strong></span> command:\n",
    "\n",
    "\n",
    "\n"
   ]
  },
  {
   "cell_type": "code",
   "execution_count": 5,
   "id": "11a3b8bc-bf43-4bc7-9c29-e91d8621a494",
   "metadata": {},
   "outputs": [
    {
     "name": "stdin",
     "output_type": "stream",
     "text": [
      "> abort\n"
     ]
    },
    {
     "name": "stdout",
     "output_type": "stream",
     "text": [
      "Echo: abort\n"
     ]
    },
    {
     "name": "stdin",
     "output_type": "stream",
     "text": [
      "> end\n"
     ]
    },
    {
     "name": "stdout",
     "output_type": "stream",
     "text": [
      "Echo: end\n"
     ]
    },
    {
     "name": "stdin",
     "output_type": "stream",
     "text": [
      "> stop\n"
     ]
    },
    {
     "name": "stdout",
     "output_type": "stream",
     "text": [
      "Echo: stop\n"
     ]
    },
    {
     "name": "stdin",
     "output_type": "stream",
     "text": [
      "> quit\n"
     ]
    },
    {
     "name": "stdout",
     "output_type": "stream",
     "text": [
      "Echo: quit\n"
     ]
    }
   ],
   "source": [
    "command = ''\n",
    "\n",
    "while command.lower() != 'quit':    # The command.lower() returns the command in lowercase so that you can enter Quit, QUIT or quit to echo the input command.\n",
    "    command = input('>')\n",
    "    print(f\"Echo: {command}\")\n"
   ]
  },
  {
   "cell_type": "markdown",
   "id": "b699fce6-a636-48c9-9625-983dcf7e52a1",
   "metadata": {},
   "source": [
    "<br>\n",
    "\n",
    "\n",
    "<div style=\"border: 1px solid pink; padding: 10px; background-color: #fff6e6\">\n",
    "With the <strong>else</strong> statement we can run a block of code once when the condition no longer is true:\n",
    "</div>\n",
    "\n",
    "<br>"
   ]
  },
  {
   "cell_type": "code",
   "execution_count": 2,
   "id": "1d010b2d-4ca8-4449-afb2-bb0bbbcf903b",
   "metadata": {},
   "outputs": [
    {
     "name": "stdout",
     "output_type": "stream",
     "text": [
      "1\n",
      "2\n",
      "3\n",
      "4\n",
      "5\n",
      "i is no longer less than 6\n"
     ]
    }
   ],
   "source": [
    "i = 1\n",
    "while i < 6:\n",
    "  print(i)\n",
    "  i += 1\n",
    "else:\n",
    "  print(\"i is no longer less than 6\")"
   ]
  },
  {
   "cell_type": "code",
   "execution_count": null,
   "id": "75089044-0d42-4d78-a2a4-5bdf65062540",
   "metadata": {},
   "outputs": [],
   "source": []
  },
  {
   "cell_type": "markdown",
   "id": "22d5606b-76ce-446b-be68-5985d6d9a16f",
   "metadata": {},
   "source": [
    "<br>\n",
    "\n",
    "<br>\n",
    "\n",
    "# <u> Python break </u>\n",
    "\n",
    "<span style=\"background-color: #fff6e6\">We use the Python <span style=\"background-color: #FFF862;color:red\"><strong> &nbsp;break&nbsp;</strong></span> statement to **exit** or **terminate** a <span style=\"background-color: #EFEAF1;color:red\"><strong> &nbsp;for </strong></span> &nbsp;loop or a <span style=\"background-color: #EFEAF1;color:red\"><strong> &nbsp;while </strong></span> &nbsp;loop **prematurely**.</span>\n",
    "\n",
    "Typically, you use the <span style=\"background-color: #FFF862;color:red\"><strong> &nbsp;break&nbsp;</strong></span> statement with the <span style=\"background-color: #EFEAF1;color:red\"><strong> &nbsp;if&nbsp; </strong></span> &nbsp;statement to terminate a loop when a condition is **True**.\n",
    "\n",
    "<br>\n",
    "\n",
    "<br>\n",
    "\n",
    "### 1. <span style=\"background-color: yellow;\">Using Python break with for loop</span> \n",
    "\n",
    "<br>\n",
    "\n",
    "<div style=\"border: 1px solid pink; background-color: #FAF2FC; padding: 10px; margin-left: 50px\">\n",
    "<span style=\"color:red\"><strong>for</strong> &nbsp;<span style=\"color:blue\"><strong>index in range(n):</strong></span></span><br>\n",
    "&nbsp;&nbsp;&nbsp;&nbsp;&nbsp;&nbsp;&nbsp;&nbsp;&nbsp;&nbsp;<span style=\"color: green\"># more code here</span><br>\n",
    "&nbsp;&nbsp;&nbsp;&nbsp;&nbsp;&nbsp;&nbsp;&nbsp;&nbsp;&nbsp;<span style=\"color:red\"><strong>if</strong> &nbsp;<span style=\"color:blue\"><strong>condition: &nbsp;</strong></span></span><br>\n",
    "&nbsp;&nbsp;&nbsp;&nbsp;&nbsp;&nbsp;&nbsp;&nbsp;&nbsp;&nbsp;&nbsp;&nbsp;&nbsp;&nbsp;&nbsp;&nbsp;&nbsp;&nbsp;&nbsp; <span style=\"color: red\"><strong>break</strong></span><br>\n",
    "</div>\n",
    "\n",
    "<br>"
   ]
  },
  {
   "cell_type": "code",
   "execution_count": 2,
   "id": "a4cc05ac-4e0b-4d55-9587-36ff4bf9666d",
   "metadata": {},
   "outputs": [
    {
     "name": "stdout",
     "output_type": "stream",
     "text": [
      "0\n",
      "1\n",
      "2\n",
      "3\n"
     ]
    }
   ],
   "source": [
    "# This example shows how to use the break statement inside a for loop:\n",
    "\n",
    "for index in range(0, 10):\n",
    "    print(index)\n",
    "    if index == 3:\n",
    "        break"
   ]
  },
  {
   "cell_type": "markdown",
   "id": "ec4a2482-42da-42e2-8cc0-fe5b88a829e1",
   "metadata": {},
   "source": [
    "<br>\n",
    "\n",
    "<span style=\"background-color: #CAFEFD\">When you use the <span style=\"color: red\"><strong>break</strong></span> statement in a **nested loop**, it’ll <span style=\"color: blue\">**terminate the innermost loop**</span>. For example:</span>\n"
   ]
  },
  {
   "cell_type": "code",
   "execution_count": 3,
   "id": "eca8e0ee-30a7-40d1-870c-14f4c35c54de",
   "metadata": {},
   "outputs": [
    {
     "name": "stdout",
     "output_type": "stream",
     "text": [
      "(0,0)\n",
      "(0,1)\n",
      "(1,0)\n",
      "(1,1)\n",
      "(2,0)\n",
      "(2,1)\n",
      "(3,0)\n",
      "(3,1)\n",
      "(4,0)\n",
      "(4,1)\n"
     ]
    }
   ],
   "source": [
    "for x in range(5):\n",
    "    for y in range(5):\n",
    "        # terminate the innermost loop\n",
    "        if y > 1:\n",
    "            break\n",
    "        # show coordinates on the screen\n",
    "        print(f\"({x},{y})\")"
   ]
  },
  {
   "cell_type": "markdown",
   "id": "19bc875f-10d2-4403-98d2-12dd7a059f03",
   "metadata": {},
   "source": [
    "<br>\n",
    "\n",
    "<br>\n",
    "\n",
    "### 2. <span style=\"background-color: yellow;\">Using Python break statement with a while loop</span> \n",
    "\n",
    "<br>\n",
    "\n",
    "<div style=\"border: 1px solid pink; background-color: #FAF2FC; padding: 10px; margin-left: 50px\">\n",
    "<span style=\"color:red\"><strong>while</strong> &nbsp;<span style=\"color:blue\"><strong>condition:</strong></span></span><br>\n",
    "&nbsp;&nbsp;&nbsp;&nbsp;&nbsp;&nbsp;&nbsp;&nbsp;&nbsp;&nbsp;<span style=\"color: green\"># more code here</span><br>\n",
    "&nbsp;&nbsp;&nbsp;&nbsp;&nbsp;&nbsp;&nbsp;&nbsp;&nbsp;&nbsp;<span style=\"color:red\"><strong>if</strong> &nbsp;<span style=\"color:blue\"><strong>condition: &nbsp;</strong></span></span><br>\n",
    "&nbsp;&nbsp;&nbsp;&nbsp;&nbsp;&nbsp;&nbsp;&nbsp;&nbsp;&nbsp;&nbsp;&nbsp;&nbsp;&nbsp;&nbsp;&nbsp;&nbsp;&nbsp;&nbsp; <span style=\"color: red\"><strong>break</strong></span><br>\n",
    "</div>\n",
    "\n",
    "<br>\n"
   ]
  },
  {
   "cell_type": "code",
   "execution_count": 7,
   "id": "0d569736-2e4d-485c-8197-9dc81ad39d10",
   "metadata": {},
   "outputs": [
    {
     "name": "stdout",
     "output_type": "stream",
     "text": [
      "-- Help: type quit to exit --\n"
     ]
    },
    {
     "name": "stdin",
     "output_type": "stream",
     "text": [
      "Enter your favorite color: red\n",
      "Enter your favorite color: QUIT\n"
     ]
    }
   ],
   "source": [
    "# The following program will prompt you for entering your favorite color. The program will stop once you enter quit:\n",
    "\n",
    "print('-- Help: type quit to exit --')\n",
    "while True:\n",
    "    color = input('Enter your favorite color:')\n",
    "    if color.lower() == 'quit':    # The color.lower() returns the color in lowercase so that you can enter Quit, QUIT or quit to exit the program.\n",
    "        break"
   ]
  },
  {
   "cell_type": "code",
   "execution_count": null,
   "id": "b56163ef-e42e-4c8f-a880-ad15b1ad99b3",
   "metadata": {},
   "outputs": [],
   "source": []
  },
  {
   "cell_type": "markdown",
   "id": "0dfc5694-165e-42ae-b2b0-4bbbf4b7df38",
   "metadata": {},
   "source": [
    "<br>\n",
    "\n",
    "<br>\n",
    "\n",
    "# <u> Python continue </u>\n",
    "\n",
    "<span style=\"background-color: #fff6e6\">We use the Python <span style=\"background-color: #FFF862;color:red\"><strong> &nbsp;continue&nbsp;</strong></span> statement inside a <span style=\"background-color: #EFEAF1;color:red\"><strong> &nbsp;for </strong></span> &nbsp;loop or a <span style=\"background-color: #EFEAF1;color:red\"><strong> &nbsp;while </strong></span> &nbsp;loop to **skip the current iteration** and **start the next one**, thus controlling the flow of the loop.</span>\n",
    "\n",
    "Typically, you use the <span style=\"background-color: #FFF862;color:red\"><strong> &nbsp;continue&nbsp;</strong></span> statement with an <span style=\"background-color: #EFEAF1;color:red\"><strong> &nbsp;if&nbsp;</strong></span>&nbsp;statement to **skip the current iteration** <span style=\"color:blue\"><strong>once a condition</strong></span> is **True**.\n",
    "\n",
    "<br>\n",
    "\n",
    "<br>\n",
    "\n",
    "<span style=\"background-color: #CAFEFD\">The following shows how to use the <span style=\"background-color: #FFF862;color:red\"><strong> &nbsp;continue&nbsp;</strong></span> statement in a <span style=\"background-color: #EFEAF1;color:red\"><strong> &nbsp;for </strong></span>&nbsp;loop:</span>\n",
    "\n",
    "\n",
    "<div style=\"border: 1px solid pink; background-color: #FAF2FC; padding: 10px; margin-left: 50px\">\n",
    "<span style=\"color:red\"><strong>for</strong> &nbsp;<span style=\"color:blue\"><strong>index in range(n):</strong></span></span><br>\n",
    "&nbsp;&nbsp;&nbsp;&nbsp;&nbsp;&nbsp;&nbsp;&nbsp;&nbsp;&nbsp;<span style=\"color: green\"># some code here</span><br>\n",
    "&nbsp;&nbsp;&nbsp;&nbsp;&nbsp;&nbsp;&nbsp;&nbsp;&nbsp;&nbsp;<span style=\"color:red\"><strong>if</strong> &nbsp;<span style=\"color:blue\"><strong>condition: &nbsp;</strong></span></span><br>\n",
    "&nbsp;&nbsp;&nbsp;&nbsp;&nbsp;&nbsp;&nbsp;&nbsp;&nbsp;&nbsp;&nbsp;&nbsp;&nbsp;&nbsp;&nbsp;&nbsp;&nbsp;&nbsp;&nbsp; <span style=\"color: red\"><strong>continue</strong></span><br>\n",
    "&nbsp;&nbsp;&nbsp;&nbsp;&nbsp;&nbsp;&nbsp;&nbsp;&nbsp;&nbsp;<span style=\"color: green\"># more code here</span><br>\n",
    "</div>\n",
    "\n",
    "<br>\n",
    "\n",
    "<br>\n",
    "\n",
    "<span style=\"background-color: #CAFEFD\">And the following illustrates how to use the <span style=\"background-color: #FFF862;color:red\"><strong> &nbsp;continue&nbsp;</strong></span> statement in a <span style=\"background-color: #EFEAF1;color:red\"><strong> &nbsp;while </strong></span>&nbsp;loop:</span>\n",
    "\n",
    "\n",
    "<div style=\"border: 1px solid pink; background-color: #FAF2FC; padding: 10px; margin-left: 50px\">\n",
    "<span style=\"color:red\"><strong>while</strong> &nbsp;<span style=\"color:blue\"><strong>condition1:</strong></span></span><br>\n",
    "&nbsp;&nbsp;&nbsp;&nbsp;&nbsp;&nbsp;&nbsp;&nbsp;&nbsp;&nbsp;<span style=\"color: green\"># some code here</span><br>\n",
    "&nbsp;&nbsp;&nbsp;&nbsp;&nbsp;&nbsp;&nbsp;&nbsp;&nbsp;&nbsp;<span style=\"color:red\"><strong>if</strong> &nbsp;<span style=\"color:blue\"><strong>condition2: &nbsp;</strong></span></span><br>\n",
    "&nbsp;&nbsp;&nbsp;&nbsp;&nbsp;&nbsp;&nbsp;&nbsp;&nbsp;&nbsp;&nbsp;&nbsp;&nbsp;&nbsp;&nbsp;&nbsp;&nbsp;&nbsp;&nbsp; <span style=\"color: red\"><strong>continue</strong></span><br>\n",
    "&nbsp;&nbsp;&nbsp;&nbsp;&nbsp;&nbsp;&nbsp;&nbsp;&nbsp;&nbsp;<span style=\"color: green\"># more code here</span><br>\n",
    "</div>\n",
    "\n",
    "<br>\n",
    "\n",
    "<br>"
   ]
  },
  {
   "cell_type": "markdown",
   "id": "0cc2f4a9-f63f-4b0f-b831-03ebdf8d8018",
   "metadata": {},
   "source": [
    "### 1. <span style=\"background-color: yellow;\">Using Python continue in a for loop example</span> "
   ]
  },
  {
   "cell_type": "code",
   "execution_count": 15,
   "id": "69571015-b6d0-4c98-b24c-894d2dc29ec8",
   "metadata": {},
   "outputs": [
    {
     "name": "stdout",
     "output_type": "stream",
     "text": [
      "0\n",
      "2\n",
      "4\n",
      "6\n",
      "8\n"
     ]
    }
   ],
   "source": [
    "# Display even numbers from 0 to 9:\n",
    "\n",
    "for index in range(10):\n",
    "    if index % 2:         # if (index % 2) != 0:\n",
    "        continue\n",
    "\n",
    "    print(index)"
   ]
  },
  {
   "cell_type": "markdown",
   "id": "b9c5c938-00cc-4266-9e10-e08082af5710",
   "metadata": {},
   "source": [
    "### 2. <span style=\"background-color: yellow;\">Using Python continue in a while loop example</span> \n"
   ]
  },
  {
   "cell_type": "code",
   "execution_count": 18,
   "id": "33b92fcf-2174-4dbd-a093-e21aa9b32750",
   "metadata": {},
   "outputs": [
    {
     "name": "stdout",
     "output_type": "stream",
     "text": [
      "1\n",
      "3\n",
      "5\n",
      "7\n",
      "9\n"
     ]
    }
   ],
   "source": [
    "# Display the odd numbers between 0 and 9 \n",
    "\n",
    "counter = 0\n",
    "while counter < 10:\n",
    "    counter += 1\n",
    "\n",
    "    if not counter % 2:       # if (counter % 2) == 0:\n",
    "        continue\n",
    "\n",
    "    print(counter)"
   ]
  },
  {
   "cell_type": "code",
   "execution_count": null,
   "id": "56c99afb-0bd5-43e2-8208-a1820fc5f656",
   "metadata": {},
   "outputs": [],
   "source": []
  },
  {
   "cell_type": "markdown",
   "id": "6e6d0652-4408-40b3-a441-12458b2c3b87",
   "metadata": {},
   "source": [
    "<br>\n",
    "\n",
    "<br>\n",
    "\n",
    "# <u> Python pass </u>\n",
    "\n",
    "Use the Python <span style=\"background-color: #FFF862;color:red\"><strong> &nbsp;pass&nbsp;</strong></span> statement <span style=\"background-color: #CAFEFD\">to create a **placeholder** for the code that you’ll implement later</span>.\n",
    "\n",
    "<br>\n",
    "\n",
    "Suppose that you have the following <span style=\"background-color: #FBE2FF; color: blue\"><strong>&nbsp;if . . . else&nbsp;</strong></span> statement :"
   ]
  },
  {
   "cell_type": "code",
   "execution_count": 3,
   "id": "d0f41c58-022f-4ad1-b01a-763353bfb491",
   "metadata": {},
   "outputs": [
    {
     "ename": "SyntaxError",
     "evalue": "incomplete input (2426564306.py, line 6)",
     "output_type": "error",
     "traceback": [
      "\u001b[1;36m  Cell \u001b[1;32mIn[3], line 6\u001b[1;36m\u001b[0m\n\u001b[1;33m    # implement later\u001b[0m\n\u001b[1;37m                     ^\u001b[0m\n\u001b[1;31mSyntaxError\u001b[0m\u001b[1;31m:\u001b[0m incomplete input\n"
     ]
    }
   ],
   "source": [
    "counter = 1\n",
    "max = 10\n",
    "if counter <= max:\n",
    "    counter += 1\n",
    "else:\n",
    "    # implement later\n"
   ]
  },
  {
   "cell_type": "markdown",
   "id": "f21ed70a-d321-4314-805d-6e75b7ba578e",
   "metadata": {},
   "source": [
    "<br>\n",
    "\n",
    "In the <span style=\"background-color: #FBE2FF; color: red\"><strong>&nbsp;else&nbsp;</strong></span> clause, you haven’t got any code yet. But you’ll write code for this else clause later. <br>\n",
    "\n",
    "In this case, if you run the code, you’ll get a syntax error (&nbsp;<span style=\"background-color: #FBE2FF; color: red\"><strong>&nbsp;SyntaxError&nbsp;</strong></span>&nbsp;).\n",
    "\n",
    "This is where the Python <span style=\"background-color: #FBE2FF; color: red\"><strong>&nbsp;pass&nbsp;</strong></span> statement comes into play :"
   ]
  },
  {
   "cell_type": "code",
   "execution_count": 4,
   "id": "2f3af95c-ba43-4343-bb52-869f1464319b",
   "metadata": {},
   "outputs": [],
   "source": [
    "counter = 1\n",
    "max = 10\n",
    "if counter <= max:\n",
    "    counter += 1\n",
    "else:\n",
    "    pass"
   ]
  },
  {
   "cell_type": "markdown",
   "id": "63725719-d542-440e-998a-4f9f6950fd37",
   "metadata": {},
   "source": [
    "<br>\n",
    "\n",
    "The <span style=\"background-color: #FBE2FF; color: red\"><strong>&nbsp;pass&nbsp;</strong></span> statement is a statement that does nothing. It’s just a placeholder for the code that you’ll write in the future.\n",
    "\n",
    "Technically, you can use the <span style=\"background-color: #FBE2FF; color: red\"><strong>&nbsp;pass&nbsp;</strong></span> statement in many statement in Python.\n",
    "\n",
    "<br>\n",
    "\n",
    "<strong>⇒ &nbsp;1) Using the Python <span style=\"background-color: #FBE2FF; color: red\">&nbsp;pass&nbsp;</span> statement with the <span style=\"background-color: yellow\">&nbsp;if statement&nbsp;</span> example</strong> \n",
    "\n",
    "<br>\n",
    "\n",
    "<div style=\"border: 1px solid pink; padding: 10px; width: 200px; background-color: #FAF2FC; margin-left: 50px; color: blue\">\n",
    "if condition:  <br>\n",
    "&nbsp;&nbsp;&nbsp;&nbsp;&nbsp;&nbsp;pass\n",
    "</div>\n",
    "\n",
    "<br>\n",
    "<br>\n",
    "\n",
    "<strong>⇒ &nbsp;2) Using the Python <span style=\"background-color: #FBE2FF; color: red\">&nbsp;pass&nbsp;</span> statement with the <span style=\"background-color: yellow\">&nbsp;for statement&nbsp;</span> example</strong> \n",
    "\n",
    "<br>\n",
    "\n",
    "<div style=\"border: 1px solid pink; padding: 10px; width: 200px; background-color: #FAF2FC; margin-left: 50px; color: blue\">\n",
    "for i in range(1,100):  <br>\n",
    "&nbsp;&nbsp;&nbsp;&nbsp;&nbsp;&nbsp;pass\n",
    "</div>\n",
    "\n",
    "\n",
    "<br>\n",
    "<br>\n",
    "\n",
    "<strong>⇒ &nbsp;3) Using the Python <span style=\"background-color: #FBE2FF; color: red\">&nbsp;pass&nbsp;</span> statement with the <span style=\"background-color: yellow\">&nbsp;while statement&nbsp;</span> example</strong> \n",
    "\n",
    "<br>\n",
    "\n",
    "<div style=\"border: 1px solid pink; padding: 10px; width: 200px; background-color: #FAF2FC; margin-left: 50px; color: blue\">\n",
    "while condition:  <br>\n",
    "&nbsp;&nbsp;&nbsp;&nbsp;&nbsp;&nbsp;pass\n",
    "</div>\n",
    "\n",
    "<br>\n",
    "<br>\n",
    "\n",
    "<strong>⇒ &nbsp;3) Using the Python <span style=\"background-color: #FBE2FF; color: red\">&nbsp;pass&nbsp;</span> statement with the <span style=\"background-color: yellow\">&nbsp;functions&nbsp;</span> and <span style=\"background-color: yellow\">&nbsp;classes&nbsp;</span></strong> \n",
    "\n",
    "<br>\n",
    "\n",
    "&nbsp;&nbsp;&nbsp;&nbsp;&nbsp;&nbsp;&nbsp;&nbsp;&nbsp;&nbsp;&nbsp;&nbsp;&nbsp;Later, you’ll learn how to define a <span style=\"color: blue\">**function**</span> :\n",
    "\n",
    "<div style=\"border: 1px solid pink; padding: 10px; width: 200px; background-color: #FAF2FC; margin-left: 100px; color: blue\">\n",
    "def fn():  <br>\n",
    "&nbsp;&nbsp;&nbsp;&nbsp;&nbsp;&nbsp;pass\n",
    "</div>\n",
    "\n",
    "<br>\n",
    "\n",
    "&nbsp;&nbsp;&nbsp;&nbsp;&nbsp;&nbsp;&nbsp;&nbsp;&nbsp;&nbsp;&nbsp;&nbsp;&nbsp;and a <span style=\"color: blue\">**class**</span> :\n",
    "\n",
    "<br>\n",
    "\n",
    "<div style=\"border: 1px solid pink; padding: 10px; width: 200px; background-color: #FAF2FC; margin-left: 100px; color: blue\">\n",
    "class Stream:  <br>\n",
    "&nbsp;&nbsp;&nbsp;&nbsp;&nbsp;&nbsp;pass\n",
    "</div>\n",
    "\n",
    "<br>\n",
    "\n",
    "&nbsp;&nbsp;&nbsp;&nbsp;&nbsp;&nbsp;&nbsp;&nbsp;&nbsp;&nbsp;&nbsp;&nbsp;&nbsp;In these examples, you use the <span style=\"background-color: #FBE2FF; color: red\">&nbsp;**pass**&nbsp;</span> statement to mark the function and class **empty**."
   ]
  },
  {
   "cell_type": "code",
   "execution_count": null,
   "id": "e2eaa699-5a25-4c00-bea6-f330ba70612a",
   "metadata": {},
   "outputs": [],
   "source": []
  },
  {
   "cell_type": "code",
   "execution_count": null,
   "id": "fd4d5feb-96a8-44d1-89f2-ef7193c3f6b2",
   "metadata": {},
   "outputs": [],
   "source": []
  }
 ],
 "metadata": {
  "kernelspec": {
   "display_name": "Python 3 (ipykernel)",
   "language": "python",
   "name": "python3"
  },
  "language_info": {
   "codemirror_mode": {
    "name": "ipython",
    "version": 3
   },
   "file_extension": ".py",
   "mimetype": "text/x-python",
   "name": "python",
   "nbconvert_exporter": "python",
   "pygments_lexer": "ipython3",
   "version": "3.11.3"
  }
 },
 "nbformat": 4,
 "nbformat_minor": 5
}
