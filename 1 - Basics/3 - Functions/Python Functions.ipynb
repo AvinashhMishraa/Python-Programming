{
 "cells": [
  {
   "cell_type": "markdown",
   "id": "5d9685f7-6a32-4e81-85b7-026d227b5dc4",
   "metadata": {},
   "source": [
    "# <u>Python Functions</u>\n",
    "\n",
    "A function is a named code block that performs a job or returns a value. It only runs when it is called. \n",
    "\n",
    "<br>\n",
    "\n",
    "### 1. <span style=\"background-color: yellow;\">Why do you need functions in Python?</span>\n",
    "\n",
    "Sometimes, you need to perform a task multiple times in a program. And you don’t want to copy the code for that same task all over places. <br>\n",
    "\n",
    "To do so, you wrap the code in a function and use this function to perform the task whenever you need it. <br>\n",
    "\n",
    "For example, whenever you want to display a value on the screen, you need to call the <span style=\"background-color: #FBE2FF; color: red;\"><strong>&nbsp;print( )&nbsp;</strong></span> function which is one of the Python built-in functions. <br>\n",
    "\n",
    "In practice, you use functions to divide a large program into smaller and more manageable parts. The functions will make your program easier to develop, read, test, and maintain.\n",
    "\n",
    "<br>\n",
    "\n",
    "<br>\n",
    "\n",
    "Let's now see how to define **user-defined Python functions** : <br>\n",
    "\n",
    "### 2. <span style=\"background-color: yellow;\">Defining a Python function</span>\n",
    "\n",
    "Here’s a simple function that shows a greeting:"
   ]
  },
  {
   "cell_type": "code",
   "execution_count": 1,
   "id": "bbde2221-1d3f-4c7d-9ae8-96c09370db42",
   "metadata": {},
   "outputs": [],
   "source": [
    "\n",
    "def greet():\n",
    "    \"\"\" Display a greeting to users \"\"\"\n",
    "    print('Hi')\n",
    "    "
   ]
  },
  {
   "cell_type": "markdown",
   "id": "4023fc37-9a36-4cd6-930b-106cd7d4358b",
   "metadata": {},
   "source": [
    "<br>\n",
    "\n",
    "<span style=\"background-color: #F5C0FF; font-size: larger\"><strong>&nbsp;1) Function definition&nbsp;</strong></span>\n",
    "\n",
    "A function definition starts with the &nbsp;<span style=\"background-color: #FBE2FF; color: red;\"><strong>&nbsp;def&nbsp;</strong></span>&nbsp; keyword and the name of the function ( &nbsp;<span style=\"background-color: #FFF862; color: red;\"><strong>&nbsp;greet&nbsp;</strong></span>&nbsp; ).\n",
    "\n",
    "If the function needs some information to do its job, you need to specify it inside the parentheses &nbsp;<span style=\"background-color: #FBE2FF; color: red;\"><strong>&nbsp;( )&nbsp;</strong></span>&nbsp;. The &nbsp;<span style=\"background-color: #FFF862; color: red;\"><strong>&nbsp;greet( )&nbsp;</strong></span>&nbsp; function in this example doesn’t need any information, so its parentheses are empty.\n",
    "\n",
    "The function definition always ends in a colon ( &nbsp;<span style=\"background-color: #FBE2FF; color: red; font-size: larger\"><strong>&nbsp;:&nbsp;</strong></span>&nbsp; ).\n",
    "\n",
    "<span style=\"background-color: #F5C0FF; font-size: larger\"><strong>&nbsp;2) Function body&nbsp;</strong></span>\n",
    "\n",
    "All the indented lines that follow the function definition make up the function’s body. <br>\n",
    "\n",
    "The text string surrounded by **triple quotes** is called a <span style=\"color: blue\">**docstring**</span>. It describes what the function does. Python uses the docstring to generate documentation for the function automatically. <br>\n",
    "\n",
    "The line <span style=\"background-color: #FBE2FF; color: red;\"><strong>&nbsp;print('Hi')&nbsp;</strong></span> is the only line of actual code in the function body. The <span style=\"background-color: #FBE2FF; color: red;\"><strong>&nbsp;greet( )&nbsp;</strong></span> function does one task: <span style=\"background-color: #FBE2FF; color: red;\"><strong>&nbsp;print('Hi')&nbsp;</strong></span>.\n",
    "\n",
    "<br>\n",
    "\n",
    "<br>\n"
   ]
  },
  {
   "cell_type": "markdown",
   "id": "f4e19e10-77f1-482e-8803-5bc7de0dc7c5",
   "metadata": {},
   "source": [
    "### 3. <span style=\"background-color: yellow;\">Calling a function</span>\n",
    "\n",
    "To call a function, you write the function’s name, followed by the information that the function needs in parentheses.\n",
    "\n",
    "The following example calls the <span style=\"background-color: #FBE2FF; color: red;\"><strong>&nbsp;greet( )&nbsp;</strong></span> function. Since the <span style=\"background-color: #FBE2FF; color: red;\"><strong>&nbsp;greet( )&nbsp;</strong></span> function doesn’t need any information, you need to specify **empty parentheses** like this:"
   ]
  },
  {
   "cell_type": "code",
   "execution_count": 2,
   "id": "aa21e483-f694-4b6a-af6e-54af8d056a2a",
   "metadata": {},
   "outputs": [
    {
     "name": "stdout",
     "output_type": "stream",
     "text": [
      "Hi\n"
     ]
    }
   ],
   "source": [
    "\n",
    "greet()\n"
   ]
  },
  {
   "cell_type": "markdown",
   "id": "9bb7e6ed-aab3-4a01-b610-5599dd6d7870",
   "metadata": {},
   "source": [
    "<br>\n",
    "\n",
    "<br>\n",
    "\n",
    "### 4. <span style=\"background-color: yellow;\">Passing information to Python functions</span>\n",
    "\n",
    "Suppose that you want to greet users by their names. To do it, you need to specify a name in parentheses of the function definition as follows: \n",
    "\n",
    "<br>\n",
    "\n",
    "<div style=\"border: 1px solid pink; padding: 10px; background-color: #fff6f6; color: blue\">\n",
    "def greet(name):\n",
    "</div>\n",
    "\n",
    "<br>\n",
    "\n",
    "The name is called a function parameter or simply a **parameter**. <br>\n",
    "\n",
    "When you add a parameter to the function definition, you can use it as a variable inside the function body: <br>\n"
   ]
  },
  {
   "cell_type": "code",
   "execution_count": 5,
   "id": "a0b214e1-ddb5-4f1c-9249-42d9abb5e735",
   "metadata": {},
   "outputs": [],
   "source": [
    "\n",
    "def greet(name):\n",
    "    print(f\"Hi {name}\")\n"
   ]
  },
  {
   "cell_type": "markdown",
   "id": "88ef93b8-e157-498c-8b48-ef734d844061",
   "metadata": {},
   "source": [
    "<br>\n",
    "\n",
    "And you can access the <span style=\"background-color: #FBE2FF; color: red;\"><strong>&nbsp;name&nbsp;</strong></span> parameter **only within the body of the <span style=\"background-color: #FBE2FF; color: red;\"><strong>&nbsp;greet( )&nbsp;</strong></span> function, not the outside**.\n",
    "\n",
    "When you call a function with a parameter, you need to pass the information. For example:"
   ]
  },
  {
   "cell_type": "code",
   "execution_count": 6,
   "id": "c257a367-dea0-484a-ad67-f525d2bf5917",
   "metadata": {},
   "outputs": [
    {
     "name": "stdout",
     "output_type": "stream",
     "text": [
      "Hi Avinash\n"
     ]
    }
   ],
   "source": [
    "\n",
    "greet('Avinash')\n"
   ]
  },
  {
   "cell_type": "markdown",
   "id": "1b933ae9-94fe-4556-aaff-b2cf9c12e7ce",
   "metadata": {},
   "source": [
    "<br>\n",
    "\n",
    "<span style=\"background-color: #CAFEFD\">The value that you pass into a function is called an **argument**.</span> In this example <span style=\"background-color: #FBE2FF; color: red;\"><strong>&nbsp;'Avinash'&nbsp;</strong></span> is an argument.\n",
    "\n",
    "Also, you can call the function by passing a variable into it:"
   ]
  },
  {
   "cell_type": "code",
   "execution_count": 7,
   "id": "e84f8711-be71-400c-9fc0-d84287442094",
   "metadata": {},
   "outputs": [
    {
     "name": "stdout",
     "output_type": "stream",
     "text": [
      "Hi Aman\n"
     ]
    }
   ],
   "source": [
    "\n",
    "first_name = 'Aman'\n",
    "greet(first_name)\n"
   ]
  },
  {
   "cell_type": "markdown",
   "id": "8d86379f-6929-4644-b678-578554e87dc7",
   "metadata": {},
   "source": [
    "<br>\n",
    "\n",
    "In this example, the <span style=\"background-color: #FBE2FF; color: red;\"><strong>&nbsp;first_name&nbsp;</strong></span> variable is also the **argument** of the <span style=\"background-color: #FBE2FF; color: red;\"><strong>&nbsp;greet( )&nbsp;</strong></span> function.\n",
    "\n",
    "<br>\n",
    "\n",
    "<span style=\"background-color: #F5C0FF; font-size: larger\"><strong>&nbsp;Parameters vs. Arguments&nbsp;</strong></span>\n",
    "\n",
    "Sometimes, parameters and arguments are used interchangeably. It’s important to distinguish between the parameters and arguments of a function.\n",
    "\n",
    "A parameter is a piece of information that a function needs. And you specify the parameter in the function definition. For example, the <span style=\"background-color: #FBE2FF; color: red;\"><strong>&nbsp;greet( )&nbsp;</strong></span> function has a parameter called <span style=\"background-color: #FBE2FF; color: red;\"><strong>&nbsp;name&nbsp;</strong></span>.\n",
    "\n",
    "An argument is a piece of data that you pass into the function. For example, the text string <span style=\"background-color: #FBE2FF; color: red;\"><strong>&nbsp;'Avinash'&nbsp;</strong></span> or the variable <span style=\"background-color: #FBE2FF; color: red;\"><strong>&nbsp;'Aman'&nbsp;</strong></span> is the function argument.\n",
    "\n"
   ]
  },
  {
   "cell_type": "markdown",
   "id": "7b82531a-f412-4e0b-83d9-1702db8a5349",
   "metadata": {},
   "source": [
    "\n",
    "<div style=\"border: 1px solid pink; padding: 10px; background-color: #fff6f6\">\n",
    "\n",
    "From a function's perspective:\n",
    "\n",
    "A parameter is the variable listed inside the parentheses in the function definition.\n",
    "\n",
    "An argument is the actual value that is passed to the function when calling it.\n",
    "\n",
    "</div>\n"
   ]
  },
  {
   "cell_type": "markdown",
   "id": "e2cf2044-2953-4c64-8a67-7490a70e67a1",
   "metadata": {},
   "source": [
    "<br>\n",
    "\n",
    "<br>\n",
    "\n",
    "### 5. <span style=\"background-color: yellow;\">Returning a value</span>\n",
    "\n",
    "A function can perform a task like the <span style=\"background-color: #FBE2FF; color: red;\"><strong>&nbsp;greet( )&nbsp;</strong></span> function. Or it can return a value. The value that a function returns is called a **return value**.\n",
    "\n",
    "To return a value from a function, you use the <span style=\"background-color: #FBE2FF; color: red;\"><strong>&nbsp;return&nbsp;</strong></span> statement inside the function body.\n",
    "\n",
    "<div style=\"border: 1px solid pink; padding: 10px; background-color: #fff6f6; color: blue\">\n",
    "return value\n",
    "</div>\n",
    "\n",
    "<br>\n",
    "\n",
    "The following example modifies the <span style=\"background-color: #FBE2FF; color: red;\"><strong>&nbsp;greet( )&nbsp;</strong></span> function to return a greeting instead of displaying it on the screen:"
   ]
  },
  {
   "cell_type": "code",
   "execution_count": 8,
   "id": "8431d0a0-e24b-475f-9455-9b62521bb6d7",
   "metadata": {},
   "outputs": [],
   "source": [
    "\n",
    "def greet(name):\n",
    "    return f\"Hi {name}\"\n"
   ]
  },
  {
   "cell_type": "markdown",
   "id": "50d6b309-9e96-46f0-a51d-9717a29a5985",
   "metadata": {},
   "source": [
    "<br>\n",
    "\n",
    "When you call the <span style=\"background-color: #FBE2FF; color: red;\"><strong>&nbsp;greet( )&nbsp;</strong></span> function, you can assign its return value to a variable:"
   ]
  },
  {
   "cell_type": "code",
   "execution_count": 9,
   "id": "0449a034-158f-4cf3-86bf-f6b24d5c408d",
   "metadata": {},
   "outputs": [],
   "source": [
    "\n",
    "greeting = greet('John')\n"
   ]
  },
  {
   "cell_type": "markdown",
   "id": "1a60afaf-9994-46dd-8e76-178301a9eac5",
   "metadata": {},
   "source": [
    "<br>\n",
    "\n",
    "And show it on the screen:\n"
   ]
  },
  {
   "cell_type": "code",
   "execution_count": 10,
   "id": "dae19b14-0d1b-4290-9de4-f9c8212c2bf1",
   "metadata": {},
   "outputs": [
    {
     "name": "stdout",
     "output_type": "stream",
     "text": [
      "Hi John\n"
     ]
    }
   ],
   "source": [
    "\n",
    "print(greeting)\n"
   ]
  },
  {
   "cell_type": "markdown",
   "id": "609a42e9-1c79-4347-b827-85741426fb65",
   "metadata": {},
   "source": [
    "<br>\n",
    "\n",
    "The new <span style=\"background-color: #FBE2FF; color: red;\"><strong>&nbsp;greet( )&nbsp;</strong></span> function is better than the old one because it doesn’t depend on the <span style=\"background-color: #FBE2FF; color: red;\"><strong>&nbsp;print( )&nbsp;</strong></span> function.\n",
    "\n",
    "Later, you can reuse the <span style=\"background-color: #FBE2FF; color: red;\"><strong>&nbsp;greet( )&nbsp;</strong></span> function in other applications. For example, you can use it in a web application to greet users after they log in.\n",
    "\n",
    "<br>\n",
    "\n",
    "<br>\n",
    "\n",
    "### 6. <span style=\"background-color: yellow;\">Python functions with multiple parameters</span>\n",
    "\n",
    "<span style=\"background-color: #CAFEFD\">&nbsp;A function can have **zero**, **one**, or **multiple** parameters.&nbsp;</span>"
   ]
  },
  {
   "cell_type": "code",
   "execution_count": 123,
   "id": "59844959-c0f2-4ae2-9804-8ba3debce08e",
   "metadata": {},
   "outputs": [
    {
     "name": "stdout",
     "output_type": "stream",
     "text": [
      "30\n"
     ]
    }
   ],
   "source": [
    "\n",
    "# Calculate the sum of two numbers:\n",
    "\n",
    "def add(a, b):       # Avoid naming a custom function with a name matching with a keyword in python.  That's why we don't use the name sum()\n",
    "    return a + b\n",
    "\n",
    "\n",
    "total = add(10,20)\n",
    "print(total)\n"
   ]
  },
  {
   "cell_type": "markdown",
   "id": "d0b12933-4b95-446a-9199-c34d2c055757",
   "metadata": {},
   "source": [
    "<br>\n",
    "\n",
    "In this example, the <span style=\"background-color: #FBE2FF; color: red;\"><strong>&nbsp;sum( )&nbsp;</strong></span> function has two parameters <span style=\"background-color: #FBE2FF; color: red;\"><strong>&nbsp;a&nbsp;</strong></span> and <span style=\"background-color: #FBE2FF; color: red;\"><strong>&nbsp;b&nbsp;</strong></span>, and returns the sum of them.\n",
    "\n",
    "When a function has multiple parameters, you need to use a **comma** to separate them. <br>\n",
    "\n",
    "When you call the function, you need to pass all the arguments. <span style=\"background-color: #CAFEFD\">&nbsp;If you pass more or fewer arguments to the function, you’ll get an error.</span> <br>\n",
    "\n",
    "<br>\n",
    "\n",
    "In the following function call, **a will be 10** and **b will be 20** inside the function body:"
   ]
  },
  {
   "cell_type": "code",
   "execution_count": 124,
   "id": "6e40176f-181a-4346-857c-05eaf08f7c6a",
   "metadata": {},
   "outputs": [
    {
     "data": {
      "text/plain": [
       "30"
      ]
     },
     "execution_count": 124,
     "metadata": {},
     "output_type": "execute_result"
    }
   ],
   "source": [
    "\n",
    "total = add(10, 20)\n",
    "total"
   ]
  },
  {
   "cell_type": "code",
   "execution_count": null,
   "id": "00bfa2fc-97af-435d-bace-c9b449eca027",
   "metadata": {},
   "outputs": [],
   "source": []
  },
  {
   "cell_type": "markdown",
   "id": "d408897a-b363-4433-bdc1-adc3ae454efb",
   "metadata": {},
   "source": [
    "<br>\n",
    "\n",
    "<br>\n",
    "\n",
    "<span style=\"color: blue\"> █ █ █ █ █ █ █ █ █ █ █ █ █ █ █ █ █ █ █ █ █ █ █ █ █ █ █ █ █ █  █ █ █ █ █ █ █ █ █ █ █ █ █ █ █ █ █ █ █ █ █ █ █ █  █ █ █ █ █ █ █ █ █ █ █ █ █ █ █ █ █ █ █ █ █ █ █ █  </span>\n",
    "\n",
    "<br>\n",
    "\n",
    "<br>\n",
    "\n",
    "<br>\n",
    "\n",
    "# <u>Python Default Parameters</u>\n",
    "\n",
    "&nbsp;&nbsp;&nbsp;&nbsp;&nbsp;&nbsp; ⇒ Use Python default parameters to simplify the function calls. <br>\n",
    "\n",
    "&nbsp;&nbsp;&nbsp;&nbsp;&nbsp;&nbsp; ⇒ <span style=\"background-color: #CAFEFD\">&nbsp;Place default parameters after the non-default parameters.</span>\n",
    "\n",
    "<br>\n",
    "\n",
    "### 1. <span style=\"background-color: yellow;\">Introduction to Python default parameters</span>\n",
    "\n",
    "When you define a function, you can specify a default value for each parameter.\n",
    "\n",
    "To specify default values for parameters, you use the following syntax:\n",
    "\n",
    "<div style=\"border: 1px solid pink; padding: 10px; background-color: #fff6f6\">\n",
    "\n",
    "**<span style=\"color: green\">def</span> &nbsp;<span style=\"color: blue\">function_name(</span>&nbsp;param1, &nbsp;param2<span style=\"color: red\"> = value2</span>, &nbsp;param3<span style=\"color: red\"> = value3</span>, &nbsp;...&nbsp;<span style=\"color: blue\">):</span>**\n",
    "\n",
    "</div>\n",
    "\n",
    "<br>\n",
    "\n",
    "However, when you call a function and pass an argument to the parameter that has a default value, the function will use that argument instead of the default value.\n",
    "\n",
    "To use default parameters, you need to <span style=\"background-color: #CAFEFD\">place parameters with the default values after other parameters</span>. Otherwise, you’ll get a **syntax error**.\n",
    "\n",
    "For example, you cannot do something like this:"
   ]
  },
  {
   "cell_type": "code",
   "execution_count": 125,
   "id": "424e5464-4e59-4137-84da-3f33fe7d2a31",
   "metadata": {},
   "outputs": [
    {
     "ename": "SyntaxError",
     "evalue": "non-default argument follows default argument (1913890463.py, line 1)",
     "output_type": "error",
     "traceback": [
      "\u001b[1;36m  Cell \u001b[1;32mIn[125], line 1\u001b[1;36m\u001b[0m\n\u001b[1;33m    def function_name(param1=value1, param2, param3):\u001b[0m\n\u001b[1;37m                                     ^\u001b[0m\n\u001b[1;31mSyntaxError\u001b[0m\u001b[1;31m:\u001b[0m non-default argument follows default argument\n"
     ]
    }
   ],
   "source": [
    "\n",
    "def function_name(param1=value1, param2, param3):\n",
    "    "
   ]
  },
  {
   "cell_type": "code",
   "execution_count": null,
   "id": "a66bf38c-57a5-4b64-b831-d0989ca52d0d",
   "metadata": {},
   "outputs": [],
   "source": []
  },
  {
   "cell_type": "markdown",
   "id": "55558d2c-5fc2-429b-8df0-79731bd45da1",
   "metadata": {},
   "source": [
    "<br>\n",
    "\n",
    "<br>\n",
    "\n",
    "### 2. <span style=\"background-color: yellow;\">Python default parameters example</span>\n",
    "\n",
    "The following example defines the <span style=\"background-color: #FBE2FF; color: red;\"><strong>&nbsp;greet( )&nbsp;</strong></span> function that returns a greeting message:\n"
   ]
  },
  {
   "cell_type": "code",
   "execution_count": 126,
   "id": "b9e90b12-fda8-4264-929b-407d8b709cd1",
   "metadata": {},
   "outputs": [],
   "source": [
    "\n",
    "def greet(name, message='Hi'):\n",
    "    return f\"{message} {name}\"\n",
    "    "
   ]
  },
  {
   "cell_type": "markdown",
   "id": "955884a1-ad74-445c-98fb-7a834ed20cd3",
   "metadata": {},
   "source": [
    "<br>\n",
    "\n",
    "The <span style=\"background-color: #FBE2FF; color: red;\"><strong>&nbsp;greet( )&nbsp;</strong></span> function has **two parameters**: <span style=\"background-color: #FBE2FF; color: red;\"><strong>&nbsp;name&nbsp;</strong></span> and <span style=\"background-color: #FBE2FF; color: red;\"><strong>&nbsp;message&nbsp;</strong></span>. And the <span style=\"background-color: #FBE2FF; color: red;\"><strong>&nbsp;message&nbsp;</strong></span> parameter has a default value of <span style=\"background-color: #FBE2FF; color: red;\"><strong>&nbsp;&nbsp;' Hi '&nbsp;&nbsp;</strong></span>.\n",
    "\n",
    "<br>\n",
    "\n",
    "↳⭐ <span style=\"background-color: #CAFEFD\">&nbsp;The following calls the <span style=\"background-color: #FBE2FF; color: red;\"><strong>&nbsp;greet( )&nbsp;</strong></span> function and **passes the two arguments** : &nbsp;</span>"
   ]
  },
  {
   "cell_type": "code",
   "execution_count": 127,
   "id": "e23e945f-08ea-45fa-ae06-d8570e163903",
   "metadata": {},
   "outputs": [
    {
     "name": "stdout",
     "output_type": "stream",
     "text": [
      "Hello John\n"
     ]
    }
   ],
   "source": [
    "\n",
    "def greet(name, message='Hi'):\n",
    "    return f\"{message} {name}\"\n",
    "\n",
    "\n",
    "greeting = greet('John', 'Hello')\n",
    "print(greeting)\n"
   ]
  },
  {
   "cell_type": "markdown",
   "id": "ceb5d947-ecf7-4c61-85e9-0a4d917c544b",
   "metadata": {},
   "source": [
    "Since we pass the second argument to the <span style=\"background-color: #FBE2FF; color: red;\"><strong>&nbsp;greet( )&nbsp;</strong></span> function, the function uses the argument <span style=\"background-color: #FBE2FF; color: red;\"><strong>&nbsp;' Hello '&nbsp;</strong></span> instead of the default value <span style=\"background-color: #FBE2FF; color: red;\"><strong>&nbsp;' Hi '&nbsp;</strong></span>.\n",
    "\n",
    "<br>\n",
    "\n",
    "<br>\n",
    "\n",
    "↳⭐ <span style=\"background-color: #CAFEFD\">&nbsp;The following example calls the <span style=\"background-color: #FBE2FF; color: red;\"><strong>&nbsp;greet( )&nbsp;</strong></span> function **without passing the second argument** :&nbsp;</span>"
   ]
  },
  {
   "cell_type": "code",
   "execution_count": 128,
   "id": "2e77112e-b1d4-427e-b975-3a16c2d44ae8",
   "metadata": {},
   "outputs": [
    {
     "name": "stdout",
     "output_type": "stream",
     "text": [
      "Hi John\n"
     ]
    }
   ],
   "source": [
    "\n",
    "def greet(name, message='Hi'):\n",
    "    return f\"{message} {name}\"\n",
    "\n",
    "\n",
    "greeting = greet('John')\n",
    "print(greeting)\n"
   ]
  },
  {
   "cell_type": "markdown",
   "id": "fe3d4d10-c0f8-4395-8407-623cecfbb2db",
   "metadata": {},
   "source": [
    "As you can see, in this case, the <span style=\"background-color: #FBE2FF; color: red;\"><strong>&nbsp;greet( )&nbsp;</strong></span> function uses the **default value of the message parameter**.\n"
   ]
  },
  {
   "cell_type": "markdown",
   "id": "80c3212e-877c-4ab0-9212-fc06c02a266c",
   "metadata": {},
   "source": [
    "<br>\n",
    "\n",
    "<br>\n",
    "\n",
    "### 3. <span style=\"background-color: yellow;\">Multiple default parameters</span>\n",
    "\n",
    "The following redefines the <span style=\"background-color: #FBE2FF; color: red;\"><strong>&nbsp;greet( )&nbsp;</strong></span> function with the two parameters that have default values:\n"
   ]
  },
  {
   "cell_type": "code",
   "execution_count": 129,
   "id": "735cefaa-04d4-4537-afa6-a2c3cdec5914",
   "metadata": {},
   "outputs": [],
   "source": [
    "\n",
    "def greet(name='there', message='Hi'):\n",
    "    return f\"{message} {name}\"\n",
    "    "
   ]
  },
  {
   "cell_type": "markdown",
   "id": "f38b7aa3-5a39-45e1-8afc-7923d288039b",
   "metadata": {},
   "source": [
    "<br>\n",
    "\n",
    "↳⭐ In this example, since both the parameters have thier own default values, you can call the <span style=\"background-color: #FBE2FF; color: red;\"><strong>&nbsp;greet( )&nbsp;</strong></span> function **without passing any parameters** :\n"
   ]
  },
  {
   "cell_type": "code",
   "execution_count": 130,
   "id": "3b543583-8578-478a-a547-9254c97d05ef",
   "metadata": {},
   "outputs": [
    {
     "name": "stdout",
     "output_type": "stream",
     "text": [
      "Hi there\n"
     ]
    }
   ],
   "source": [
    "\n",
    "def greet(name='there', message='Hi'):\n",
    "    return f\"{message} {name}\"\n",
    "\n",
    "\n",
    "greeting = greet()\n",
    "print(greeting)\n"
   ]
  },
  {
   "cell_type": "markdown",
   "id": "cf723c0a-7084-4743-95c8-60f67944f670",
   "metadata": {},
   "source": [
    "<br>\n",
    "\n",
    "↳⭐ Suppose that you want the <span style=\"background-color: #FBE2FF; color: red;\"><strong>&nbsp;greet( )&nbsp;</strong></span> function to return a greeting like **Hello there**. You may come up with the following function call:\n"
   ]
  },
  {
   "cell_type": "code",
   "execution_count": 131,
   "id": "0891b046-e3f2-4c2d-a6b1-19f91f93c285",
   "metadata": {},
   "outputs": [
    {
     "name": "stdout",
     "output_type": "stream",
     "text": [
      "Hi Hello\n"
     ]
    }
   ],
   "source": [
    "\n",
    "def greet(name='there', message='Hi'):\n",
    "    return f\"{message} {name}\"\n",
    "\n",
    "\n",
    "greeting = greet('Hello')\n",
    "print(greeting)\n"
   ]
  },
  {
   "cell_type": "markdown",
   "id": "63dfe118-cae1-4760-81f8-10b65321e014",
   "metadata": {},
   "source": [
    "<br>\n",
    "\n",
    "Unfortuntely, it returns an unexpected value: <span style=\"background-color: #FBE2FF; color: red;\"><strong>&nbsp;' Hi Hello '&nbsp;</strong></span>\n",
    "\n",
    "<span style=\"background-color: #CAFEFD\">&nbsp;Because when you pass the 'Hello' argument, the <span style=\"background-color: #FBE2FF; color: red;\"><strong>&nbsp;greet( )&nbsp;</strong></span> function treats it as the **first argument**, not the second one.&nbsp;</span>\n",
    "\n",
    "To resolve this, you need to call the <span style=\"background-color: #FBE2FF; color: red;\"><strong>&nbsp;greet( )&nbsp;</strong></span> function using <span style=\"color: blue\">**keyword arguments**</span> like this :\n",
    "\n"
   ]
  },
  {
   "cell_type": "code",
   "execution_count": 132,
   "id": "bfa98508-b28a-4361-9ded-ee634bfb72c9",
   "metadata": {},
   "outputs": [
    {
     "name": "stdout",
     "output_type": "stream",
     "text": [
      "Hello there\n"
     ]
    }
   ],
   "source": [
    "\n",
    "def greet(name='there', message='Hi'):\n",
    "    return f\"{message} {name}\"\n",
    "\n",
    "\n",
    "greeting = greet(message='Hello')    # using keyword argument - to make function calls more obvious without leaving any confusion\n",
    "print(greeting)\n"
   ]
  },
  {
   "cell_type": "code",
   "execution_count": null,
   "id": "ecd8622b-15be-45ff-8147-45195eca38f7",
   "metadata": {},
   "outputs": [],
   "source": []
  },
  {
   "cell_type": "markdown",
   "id": "45d0dcdf-cb9a-4524-8a1f-650f9201a858",
   "metadata": {},
   "source": [
    "<br>\n",
    "\n",
    "<br>\n",
    "\n",
    "<span style=\"color: blue\"> █ █ █ █ █ █ █ █ █ █ █ █ █ █ █ █ █ █ █ █ █ █ █ █ █ █ █ █ █ █  █ █ █ █ █ █ █ █ █ █ █ █ █ █ █ █ █ █ █ █ █ █ █ █  █ █ █ █ █ █ █ █ █ █ █ █ █ █ █ █ █ █ █ █ █ █ █ █  </span>\n",
    "\n",
    "<br>\n",
    "\n",
    "<br>\n",
    "\n",
    "<br>\n",
    "\n",
    "# <u>Python Keyword Arguments</u>\n",
    "\n",
    "⭐ Use the Python keyword arguments to make your function call more readable and obvious, especially for functions that accept many arguments.\n",
    "\n",
    "⭐ <span style=\"background-color: #CAFEFD\">&nbsp;All the arguments after the first keyword argument must also be keyword arguments too.&nbsp;</span>\n",
    "\n",
    "⭐ <span style=\"background-color: #CAFEFD\">&nbsp;When you use the keyword arguments, their names that matter, not their positions.&nbsp;</span>\n",
    "\n",
    "<br>\n",
    "\n",
    "<br>\n",
    "\n",
    "### 1. <span style=\"background-color: yellow;\">Introduction to the Python keyword arguments</span> \n",
    "<br>"
   ]
  },
  {
   "cell_type": "code",
   "execution_count": 133,
   "id": "cb0c394c-f72c-48e0-b0d5-2d7632c4d560",
   "metadata": {},
   "outputs": [],
   "source": [
    "\n",
    "# A simple function that calculates the net price from the selling price and discount:\n",
    "\n",
    "def get_net_price(price, discount):\n",
    "    return price * (1-discount)\n"
   ]
  },
  {
   "cell_type": "markdown",
   "id": "42df230d-b5da-4a39-9bec-df7bae15371d",
   "metadata": {},
   "source": [
    "<br>\n",
    "\n",
    "The following shows how to call the <span style=\"background-color: #FBE2FF; color: red;\"><strong>&nbsp;get_net_price()&nbsp;</strong></span> function to calculate the net price from the price <span style=\"background-color: #FBE2FF; color: red;\"><strong>&nbsp;100&nbsp;</strong></span> and discount <span style=\"background-color: #FBE2FF; color: red;\"><strong>&nbsp;10%&nbsp;</strong></span> :"
   ]
  },
  {
   "cell_type": "code",
   "execution_count": 134,
   "id": "23521d05-c554-481e-ace7-bfe89ef4195c",
   "metadata": {},
   "outputs": [
    {
     "name": "stdout",
     "output_type": "stream",
     "text": [
      "90.0\n"
     ]
    }
   ],
   "source": [
    "\n",
    "# passing each argument as a positional argument i.e., passing the price argument first and the discount argument second\n",
    "net_price = get_net_price(100, 0.1)        # 100 will go to price and 0.1 will go to tax\n",
    "print(net_price)\n"
   ]
  },
  {
   "cell_type": "markdown",
   "id": "ed7b1ed3-63a3-4001-a7a1-5c2a97561fa8",
   "metadata": {},
   "source": [
    "<br>\n",
    "\n",
    "<span style=\"background-color: #CAFEFD\">&nbsp;However, the function call <span style=\"background-color: #FBE2FF; color: red;\"><strong>&nbsp;get_net_price(100, 0.1)&nbsp;</strong></span> has a **readability issue**. Because by looking at that function call only, you don’t know **which argument is price and which one is the discount**.&nbsp;</span>\n",
    "\n",
    "<span style=\"background-color: #CAFEFD\">&nbsp;On top of that, when you call the <span style=\"background-color: #FBE2FF; color: red;\"><strong>&nbsp;get_net_price()&nbsp;</strong></span> function, **you need to know the position of each argument**.&nbsp;</span>\n",
    "\n",
    "If you don’t, the function will calculate the net_price **incorrectly**. For example:\n",
    "\n"
   ]
  },
  {
   "cell_type": "code",
   "execution_count": 135,
   "id": "31096e97-2847-4a48-ac2c-100eb3c61a3a",
   "metadata": {},
   "outputs": [
    {
     "name": "stdout",
     "output_type": "stream",
     "text": [
      "-9.9\n"
     ]
    }
   ],
   "source": [
    "\n",
    "net_price = get_net_price(0.1, 100)     # 0.1 will go to price and 100 will go to tax\n",
    "print(net_price)\n"
   ]
  },
  {
   "cell_type": "markdown",
   "id": "96612919-ea41-49ad-93dd-5c12e3e7578f",
   "metadata": {},
   "source": [
    "\n",
    "To improve the readability, Python introduces the keyword arguments.\n",
    "\n",
    "The following shows the <span style=\"background-color: #CAFEFD\">&nbsp;**keyword argument syntax**:\n",
    "\n",
    "<div style=\"border: 1px solid pink; padding: 10px; background-color: #fff6f6\">\n",
    "\n",
    "**fn(parameter1=value1, parameter2=value2)**\n",
    "\n",
    "</div>\n",
    "\n",
    "<br>\n",
    "\n",
    "<span style=\"color: blue\">By using the keyword argument syntax, you don’t need to specify the arguments in the same order as defined in the function.</span>\n",
    "\n",
    "Therefore, you can call a function by swapping the argument positions like this:\n",
    "\n",
    "<div style=\"border: 1px solid pink; padding: 10px; background-color: #fff6f6\">\n",
    "    \n",
    "**fn(parameter2=value2, parameter1=value1)**\n",
    "\n",
    "</div>\n",
    "\n"
   ]
  },
  {
   "cell_type": "code",
   "execution_count": 136,
   "id": "e62e7779-6180-48e2-85e4-79703d48fbea",
   "metadata": {},
   "outputs": [
    {
     "name": "stdout",
     "output_type": "stream",
     "text": [
      "90.0\n",
      "90.0\n"
     ]
    }
   ],
   "source": [
    "\n",
    "# The following shows how to use the keyword argument syntax to call the get_net_price() function:\n",
    "\n",
    "net_price = get_net_price(price=100, discount=0.1)\n",
    "print(net_price)\n",
    "\n",
    "# or\n",
    "\n",
    "net_price = get_net_price(discount=0.1, price=100)\n",
    "print(net_price)\n"
   ]
  },
  {
   "cell_type": "markdown",
   "id": "6a96dbe0-676e-49f9-9309-1816cac2d20c",
   "metadata": {},
   "source": [
    "Both of them returns the same result.\n",
    "\n",
    "**When you use the keyword arguments, their names that matter, not their positions.**\n",
    "\n",
    "<span style=\"background-color: #C9FF71;color: black\">**Note**</span> that you can call a function by mixing positional and keyword arguments. For example:"
   ]
  },
  {
   "cell_type": "code",
   "execution_count": 137,
   "id": "dcaa275a-63ed-421a-a336-4e5451094c17",
   "metadata": {},
   "outputs": [
    {
     "name": "stdout",
     "output_type": "stream",
     "text": [
      "90.0\n"
     ]
    }
   ],
   "source": [
    "\n",
    "net_price = get_net_price(100, discount=0.1)\n",
    "print(net_price)\n"
   ]
  },
  {
   "cell_type": "markdown",
   "id": "531d9276-a820-4e19-8a7f-0d65e4e18065",
   "metadata": {},
   "source": [
    "<br>\n",
    "\n",
    "<br>\n",
    "\n",
    "### 2. <span style=\"background-color: yellow;\">Keyword arguments and default parameters</span> \n",
    "<br>"
   ]
  },
  {
   "cell_type": "code",
   "execution_count": 138,
   "id": "49a5944f-e225-4592-b023-1aae3b148a91",
   "metadata": {},
   "outputs": [],
   "source": [
    "\n",
    "def get_net_price(price, tax=0.07, discount=0.05):       # tax and discount parameters have default values of 7% and 5% respectively\n",
    "    return price * (1 + tax - discount)\n",
    "    "
   ]
  },
  {
   "cell_type": "code",
   "execution_count": 139,
   "id": "cace0bb0-a94e-488e-b009-b54579c6627a",
   "metadata": {},
   "outputs": [
    {
     "name": "stdout",
     "output_type": "stream",
     "text": [
      "102.0\n"
     ]
    }
   ],
   "source": [
    "\n",
    "# It uses the default values for tax and discount parameters:\n",
    "net_price = get_net_price(100)    # The first and the only argument 100 will go to price\n",
    "print(net_price)\n"
   ]
  },
  {
   "cell_type": "markdown",
   "id": "cdbc2876-dfec-41a1-a1f2-e4f667bf12c1",
   "metadata": {},
   "source": [
    "<br>\n",
    "\n",
    "Suppose that you want to use the default value for the tax parameter but not discount. The following function call doesn’t work correctly."
   ]
  },
  {
   "cell_type": "code",
   "execution_count": 140,
   "id": "5feb7c91-caa5-4065-a08f-8b2e01383bf2",
   "metadata": {},
   "outputs": [
    {
     "name": "stdout",
     "output_type": "stream",
     "text": [
      "101.0\n"
     ]
    }
   ],
   "source": [
    "\n",
    "net_price = get_net_price(100, 0.06)\n",
    "\n",
    "print(net_price)\n"
   ]
  },
  {
   "cell_type": "markdown",
   "id": "1024e910-e4f6-4ad1-8049-a797bd7a82d1",
   "metadata": {},
   "source": [
    ".... because Python will assign <span style=\"background-color: #E8DAEF\">&nbsp;100 to price&nbsp;</span> and <span style=\"background-color: #E8DAEF\">&nbsp;0.1 to tax&nbsp;</span>, not discount.\n",
    "\n",
    "To fix this, you must use keyword arguments:"
   ]
  },
  {
   "cell_type": "code",
   "execution_count": 141,
   "id": "cbc22e03-c977-4e4e-9322-5a2ad8a127c5",
   "metadata": {},
   "outputs": [
    {
     "name": "stdout",
     "output_type": "stream",
     "text": [
      "101.0\n"
     ]
    }
   ],
   "source": [
    "\n",
    "net_price = get_net_price(price=100, discount=0.06)\n",
    "print(net_price)\n"
   ]
  },
  {
   "cell_type": "markdown",
   "id": "f716f0f2-e965-42a3-8146-e85dbfc14e19",
   "metadata": {},
   "source": [
    "Or you can mix the positional and keyword arguments:"
   ]
  },
  {
   "cell_type": "code",
   "execution_count": 142,
   "id": "8f0bcd78-5284-4378-829f-9fa13f809c45",
   "metadata": {},
   "outputs": [
    {
     "name": "stdout",
     "output_type": "stream",
     "text": [
      "101.0\n"
     ]
    }
   ],
   "source": [
    "\n",
    "net_price = get_net_price(100, discount=0.06)\n",
    "print(net_price)\n"
   ]
  },
  {
   "cell_type": "markdown",
   "id": "e8c41ef8-333a-41b6-9158-106b90f32015",
   "metadata": {},
   "source": [
    "<br>\n",
    "\n",
    "<br>\n",
    "\n",
    "### 3. <span style=\"background-color: yellow;\">Python keyword argument requirements</span> \n",
    "<br>\n",
    "\n",
    "<span style=\"background-color: #CAFEFD\">&nbsp;Once you use a keyword argument, you need to use keyword arguments for the **remaining** parameters.&nbsp;</span>\n",
    "\n",
    "The following will result in an **error because it uses the positional argument after a keyword argument**:"
   ]
  },
  {
   "cell_type": "code",
   "execution_count": 143,
   "id": "bf8a6309-7079-4eb1-8da8-b0f760bd2c4c",
   "metadata": {},
   "outputs": [
    {
     "ename": "SyntaxError",
     "evalue": "positional argument follows keyword argument (3204237438.py, line 1)",
     "output_type": "error",
     "traceback": [
      "\u001b[1;36m  Cell \u001b[1;32mIn[143], line 1\u001b[1;36m\u001b[0m\n\u001b[1;33m    net_price = get_net_price(100, tax=0.08, 0.06)\u001b[0m\n\u001b[1;37m                                                 ^\u001b[0m\n\u001b[1;31mSyntaxError\u001b[0m\u001b[1;31m:\u001b[0m positional argument follows keyword argument\n"
     ]
    }
   ],
   "source": [
    "\n",
    "net_price = get_net_price(100, tax=0.08, 0.06)\n"
   ]
  },
  {
   "cell_type": "markdown",
   "id": "5ab36531-d174-4c2b-b031-20e5cf20577f",
   "metadata": {},
   "source": [
    "<br>\n",
    "\n",
    "To fix this, you need to use the keyword argument for the third argument like this:\n"
   ]
  },
  {
   "cell_type": "code",
   "execution_count": 144,
   "id": "d954100d-c5ea-4d20-af59-f00fd215fabb",
   "metadata": {},
   "outputs": [
    {
     "name": "stdout",
     "output_type": "stream",
     "text": [
      "102.0\n"
     ]
    }
   ],
   "source": [
    "\n",
    "net_price = get_net_price(100, tax=0.08, discount=0.06)\n",
    "print(net_price)\n"
   ]
  },
  {
   "cell_type": "markdown",
   "id": "cbe94ae4-efa0-4208-9748-a7c9f45f7032",
   "metadata": {},
   "source": [
    "<br>\n",
    "\n",
    "<br>\n",
    "\n",
    "<span style=\"color: blue\"> █ █ █ █ █ █ █ █ █ █ █ █ █ █ █ █ █ █ █ █ █ █ █ █ █ █ █ █ █ █  █ █ █ █ █ █ █ █ █ █ █ █ █ █ █ █ █ █ █ █ █ █ █ █  █ █ █ █ █ █ █ █ █ █ █ █ █ █ █ █ █ █ █ █ █ █ █ █  </span>\n",
    "\n",
    "<br>\n",
    "\n",
    "<br>\n",
    "\n",
    "<br>\n",
    "\n",
    "# <u>Python Recursive Functions</u>\n",
    "\n",
    "A recursive function is a function that calls itself until it doesn’t. \n",
    "\n",
    "And a recursive function always has a condition that stops calling itself.\n",
    "\n",
    "The expected output will be:\n",
    "<br>\n",
    "\n",
    "Typically, you use a recursive function to **divide a big problem that’s difficult to solve into smaller problems that are easier to solve**.\n",
    "\n",
    "In programming, you’ll often find the recursive functions used in data structures and algorithms like **trees**, **graphs**, and **binary searches**.\n",
    "\n",
    "<br>\n",
    "\n",
    "### <span style=\"background-color: yellow;\">Python recursive function examples :</span>\n",
    "\n",
    "<br>\n",
    "\n",
    "<span style=\"background-color: #F5C0FF\"> **1) A simple recursive function example in Python**</span>\n",
    "\n",
    "Suppose you need to develop a countdown function that counts down from a specified number to zero."
   ]
  },
  {
   "cell_type": "code",
   "execution_count": 145,
   "id": "b4bef583-7c79-4e7b-9e8b-994fbe4162b4",
   "metadata": {},
   "outputs": [],
   "source": [
    "\n",
    "def count_down(start):\n",
    "    \"\"\" Count down from a number  \"\"\"\n",
    "    print(start)\n",
    "    "
   ]
  },
  {
   "cell_type": "code",
   "execution_count": 146,
   "id": "dfd2765e-11bb-4949-b6c6-505fcc9f6945",
   "metadata": {},
   "outputs": [
    {
     "name": "stdout",
     "output_type": "stream",
     "text": [
      "3\n"
     ]
    }
   ],
   "source": [
    "\n",
    "count_down(3)\n"
   ]
  },
  {
   "cell_type": "code",
   "execution_count": 147,
   "id": "c1fa8f9c-1b89-4841-82f7-e017dc81856a",
   "metadata": {},
   "outputs": [
    {
     "name": "stdout",
     "output_type": "stream",
     "text": [
      "2\n"
     ]
    }
   ],
   "source": [
    "\n",
    "count_down(2)\n"
   ]
  },
  {
   "cell_type": "code",
   "execution_count": 148,
   "id": "a2064688-8d9c-41bb-8852-0f9fca419031",
   "metadata": {},
   "outputs": [
    {
     "name": "stdout",
     "output_type": "stream",
     "text": [
      "1\n"
     ]
    }
   ],
   "source": [
    "\n",
    "count_down(1)\n"
   ]
  },
  {
   "cell_type": "markdown",
   "id": "d494fdba-7de7-4391-9dd0-b7d51144ca56",
   "metadata": {},
   "source": [
    "Let us now define a logic to call the function <span style=\"background-color: #FBE2FF; color: red;\"><strong>&nbsp;count_down( )&nbsp;</strong></span> **recursively** exactly 3 number of times.\n",
    "\n",
    "\n",
    "The following defines a recursive <span style=\"background-color: #FBE2FF; color: red;\"><strong>&nbsp;count_down( )&nbsp;</strong></span> function and calls it by passing the number 3:\n"
   ]
  },
  {
   "cell_type": "code",
   "execution_count": 1,
   "id": "40074acf-82b5-4ecb-af18-0597074c6fd8",
   "metadata": {},
   "outputs": [
    {
     "name": "stdout",
     "output_type": "stream",
     "text": [
      "3\n",
      "2\n",
      "1\n",
      "0\n",
      "-1\n",
      "-2\n",
      "-3\n",
      "-4\n",
      "-5\n",
      "-6\n",
      "-7\n",
      "-8\n",
      "-9\n",
      "-10\n",
      "-11\n",
      "-12\n",
      "-13\n",
      "-14\n",
      "-15\n",
      "-16\n",
      "-17\n",
      "-18\n",
      "-19\n",
      "-20\n",
      "-21\n",
      "-22\n",
      "-23\n",
      "-24\n",
      "-25\n",
      "-26\n",
      "-27\n",
      "-28\n",
      "-29\n",
      "-30\n",
      "-31\n",
      "-32\n",
      "-33\n",
      "-34\n",
      "-35\n",
      "-36\n",
      "-37\n",
      "-38\n",
      "-39\n",
      "-40\n",
      "-41\n",
      "-42\n",
      "-43\n",
      "-44\n",
      "-45\n",
      "-46\n",
      "-47\n",
      "-48\n",
      "-49\n",
      "-50\n",
      "-51\n",
      "-52\n",
      "-53\n",
      "-54\n",
      "-55\n",
      "-56\n",
      "-57\n",
      "-58\n",
      "-59\n",
      "-60\n",
      "-61\n",
      "-62\n",
      "-63\n",
      "-64\n",
      "-65\n",
      "-66\n",
      "-67\n",
      "-68\n",
      "-69\n",
      "-70\n",
      "-71\n",
      "-72\n",
      "-73\n",
      "-74\n",
      "-75\n",
      "-76\n",
      "-77\n",
      "-78\n",
      "-79\n",
      "-80\n",
      "-81\n",
      "-82\n",
      "-83\n",
      "-84\n",
      "-85\n",
      "-86\n",
      "-87\n",
      "-88\n",
      "-89\n",
      "-90\n",
      "-91\n",
      "-92\n",
      "-93\n",
      "-94\n",
      "-95\n",
      "-96\n",
      "-97\n",
      "-98\n",
      "-99\n",
      "-100\n",
      "-101\n",
      "-102\n",
      "-103\n",
      "-104\n",
      "-105\n",
      "-106\n",
      "-107\n",
      "-108\n",
      "-109\n",
      "-110\n",
      "-111\n",
      "-112\n",
      "-113\n",
      "-114\n",
      "-115\n",
      "-116\n",
      "-117\n",
      "-118\n",
      "-119\n",
      "-120\n",
      "-121\n",
      "-122\n",
      "-123\n",
      "-124\n",
      "-125\n",
      "-126\n",
      "-127\n",
      "-128\n",
      "-129\n",
      "-130\n",
      "-131\n",
      "-132\n",
      "-133\n",
      "-134\n",
      "-135\n",
      "-136\n",
      "-137\n",
      "-138\n",
      "-139\n",
      "-140\n",
      "-141\n",
      "-142\n",
      "-143\n",
      "-144\n",
      "-145\n",
      "-146\n",
      "-147\n",
      "-148\n",
      "-149\n",
      "-150\n",
      "-151\n",
      "-152\n",
      "-153\n",
      "-154\n",
      "-155\n",
      "-156\n",
      "-157\n",
      "-158\n",
      "-159\n",
      "-160\n",
      "-161\n",
      "-162\n",
      "-163\n",
      "-164\n",
      "-165\n",
      "-166\n",
      "-167\n",
      "-168\n",
      "-169\n",
      "-170\n",
      "-171\n",
      "-172\n",
      "-173\n",
      "-174\n",
      "-175\n",
      "-176\n",
      "-177\n",
      "-178\n",
      "-179\n",
      "-180\n",
      "-181\n",
      "-182\n",
      "-183\n",
      "-184\n",
      "-185\n",
      "-186\n",
      "-187\n",
      "-188\n",
      "-189\n",
      "-190\n",
      "-191\n",
      "-192\n",
      "-193\n",
      "-194\n",
      "-195\n",
      "-196\n",
      "-197\n",
      "-198\n",
      "-199\n",
      "-200\n",
      "-201\n",
      "-202\n",
      "-203\n",
      "-204\n",
      "-205\n",
      "-206\n",
      "-207\n",
      "-208\n",
      "-209\n",
      "-210\n",
      "-211\n",
      "-212\n",
      "-213\n",
      "-214\n",
      "-215\n",
      "-216\n",
      "-217\n",
      "-218\n",
      "-219\n",
      "-220\n",
      "-221\n",
      "-222\n",
      "-223\n",
      "-224\n",
      "-225\n",
      "-226\n",
      "-227\n",
      "-228\n",
      "-229\n",
      "-230\n",
      "-231\n",
      "-232\n",
      "-233\n",
      "-234\n",
      "-235\n",
      "-236\n",
      "-237\n",
      "-238\n",
      "-239\n",
      "-240\n",
      "-241\n",
      "-242\n",
      "-243\n",
      "-244\n",
      "-245\n",
      "-246\n",
      "-247\n",
      "-248\n",
      "-249\n",
      "-250\n",
      "-251\n",
      "-252\n",
      "-253\n",
      "-254\n",
      "-255\n",
      "-256\n",
      "-257\n",
      "-258\n",
      "-259\n",
      "-260\n",
      "-261\n",
      "-262\n",
      "-263\n",
      "-264\n",
      "-265\n",
      "-266\n",
      "-267\n",
      "-268\n",
      "-269\n",
      "-270\n",
      "-271\n",
      "-272\n",
      "-273\n",
      "-274\n",
      "-275\n",
      "-276\n",
      "-277\n",
      "-278\n",
      "-279\n",
      "-280\n",
      "-281\n",
      "-282\n",
      "-283\n",
      "-284\n",
      "-285\n",
      "-286\n",
      "-287\n",
      "-288\n",
      "-289\n",
      "-290\n",
      "-291\n",
      "-292\n",
      "-293\n",
      "-294\n",
      "-295\n",
      "-296\n",
      "-297\n",
      "-298\n",
      "-299\n",
      "-300\n",
      "-301\n",
      "-302\n",
      "-303\n",
      "-304\n",
      "-305\n",
      "-306\n",
      "-307\n",
      "-308\n",
      "-309\n",
      "-310\n",
      "-311\n",
      "-312\n",
      "-313\n",
      "-314\n",
      "-315\n",
      "-316\n",
      "-317\n",
      "-318\n",
      "-319\n",
      "-320\n",
      "-321\n",
      "-322\n",
      "-323\n",
      "-324\n",
      "-325\n",
      "-326\n",
      "-327\n",
      "-328\n",
      "-329\n",
      "-330\n",
      "-331\n",
      "-332\n",
      "-333\n",
      "-334\n",
      "-335\n",
      "-336\n",
      "-337\n",
      "-338\n",
      "-339\n",
      "-340\n",
      "-341\n",
      "-342\n",
      "-343\n",
      "-344\n",
      "-345\n",
      "-346\n",
      "-347\n",
      "-348\n",
      "-349\n",
      "-350\n",
      "-351\n",
      "-352\n",
      "-353\n",
      "-354\n",
      "-355\n",
      "-356\n",
      "-357\n",
      "-358\n",
      "-359\n",
      "-360\n",
      "-361\n",
      "-362\n",
      "-363\n",
      "-364\n",
      "-365\n",
      "-366\n",
      "-367\n",
      "-368\n",
      "-369\n",
      "-370\n",
      "-371\n",
      "-372\n",
      "-373\n",
      "-374\n",
      "-375\n",
      "-376\n",
      "-377\n",
      "-378\n",
      "-379\n",
      "-380\n",
      "-381\n",
      "-382\n",
      "-383\n",
      "-384\n",
      "-385\n",
      "-386\n",
      "-387\n",
      "-388\n",
      "-389\n",
      "-390\n",
      "-391\n",
      "-392\n",
      "-393\n",
      "-394\n",
      "-395\n",
      "-396\n",
      "-397\n",
      "-398\n",
      "-399\n",
      "-400\n",
      "-401\n",
      "-402\n",
      "-403\n",
      "-404\n",
      "-405\n",
      "-406\n",
      "-407\n",
      "-408\n",
      "-409\n",
      "-410\n",
      "-411\n",
      "-412\n",
      "-413\n",
      "-414\n",
      "-415\n",
      "-416\n",
      "-417\n",
      "-418\n",
      "-419\n",
      "-420\n",
      "-421\n",
      "-422\n",
      "-423\n",
      "-424\n",
      "-425\n",
      "-426\n",
      "-427\n",
      "-428\n",
      "-429\n",
      "-430\n",
      "-431\n",
      "-432\n",
      "-433\n",
      "-434\n",
      "-435\n",
      "-436\n",
      "-437\n",
      "-438\n",
      "-439\n",
      "-440\n",
      "-441\n",
      "-442\n",
      "-443\n",
      "-444\n",
      "-445\n",
      "-446\n",
      "-447\n",
      "-448\n",
      "-449\n",
      "-450\n",
      "-451\n",
      "-452\n",
      "-453\n",
      "-454\n",
      "-455\n",
      "-456\n",
      "-457\n",
      "-458\n",
      "-459\n",
      "-460\n",
      "-461\n",
      "-462\n",
      "-463\n",
      "-464\n",
      "-465\n",
      "-466\n",
      "-467\n",
      "-468\n",
      "-469\n",
      "-470\n",
      "-471\n",
      "-472\n",
      "-473\n",
      "-474\n",
      "-475\n",
      "-476\n",
      "-477\n",
      "-478\n",
      "-479\n",
      "-480\n",
      "-481\n",
      "-482\n",
      "-483\n",
      "-484\n",
      "-485\n",
      "-486\n",
      "-487\n",
      "-488\n",
      "-489\n",
      "-490\n",
      "-491\n",
      "-492\n",
      "-493\n",
      "-494\n",
      "-495\n",
      "-496\n",
      "-497\n",
      "-498\n",
      "-499\n",
      "-500\n",
      "-501\n",
      "-502\n",
      "-503\n",
      "-504\n",
      "-505\n",
      "-506\n",
      "-507\n",
      "-508\n",
      "-509\n",
      "-510\n",
      "-511\n",
      "-512\n",
      "-513\n",
      "-514\n",
      "-515\n",
      "-516\n",
      "-517\n",
      "-518\n",
      "-519\n",
      "-520\n",
      "-521\n",
      "-522\n",
      "-523\n",
      "-524\n",
      "-525\n",
      "-526\n",
      "-527\n",
      "-528\n",
      "-529\n",
      "-530\n",
      "-531\n",
      "-532\n",
      "-533\n",
      "-534\n",
      "-535\n",
      "-536\n",
      "-537\n",
      "-538\n",
      "-539\n",
      "-540\n",
      "-541\n",
      "-542\n",
      "-543\n",
      "-544\n",
      "-545\n",
      "-546\n",
      "-547\n",
      "-548\n",
      "-549\n",
      "-550\n",
      "-551\n",
      "-552\n",
      "-553\n",
      "-554\n",
      "-555\n",
      "-556\n",
      "-557\n",
      "-558\n",
      "-559\n",
      "-560\n",
      "-561\n",
      "-562\n",
      "-563\n",
      "-564\n",
      "-565\n",
      "-566\n",
      "-567\n",
      "-568\n",
      "-569\n",
      "-570\n",
      "-571\n",
      "-572\n",
      "-573\n",
      "-574\n",
      "-575\n",
      "-576\n",
      "-577\n",
      "-578\n",
      "-579\n",
      "-580\n",
      "-581\n",
      "-582\n",
      "-583\n",
      "-584\n",
      "-585\n",
      "-586\n",
      "-587\n",
      "-588\n",
      "-589\n",
      "-590\n",
      "-591\n",
      "-592\n",
      "-593\n",
      "-594\n",
      "-595\n",
      "-596\n",
      "-597\n",
      "-598\n",
      "-599\n",
      "-600\n",
      "-601\n",
      "-602\n",
      "-603\n",
      "-604\n",
      "-605\n",
      "-606\n",
      "-607\n",
      "-608\n",
      "-609\n",
      "-610\n",
      "-611\n",
      "-612\n",
      "-613\n",
      "-614\n",
      "-615\n",
      "-616\n",
      "-617\n",
      "-618\n",
      "-619\n",
      "-620\n",
      "-621\n",
      "-622\n",
      "-623\n",
      "-624\n",
      "-625\n",
      "-626\n",
      "-627\n",
      "-628\n",
      "-629\n",
      "-630\n",
      "-631\n",
      "-632\n",
      "-633\n",
      "-634\n",
      "-635\n",
      "-636\n",
      "-637\n",
      "-638\n",
      "-639\n",
      "-640\n",
      "-641\n",
      "-642\n",
      "-643\n",
      "-644\n",
      "-645\n",
      "-646\n",
      "-647\n",
      "-648\n",
      "-649\n",
      "-650\n",
      "-651\n",
      "-652\n",
      "-653\n",
      "-654\n",
      "-655\n",
      "-656\n",
      "-657\n",
      "-658\n",
      "-659\n",
      "-660\n",
      "-661\n",
      "-662\n",
      "-663\n",
      "-664\n",
      "-665\n",
      "-666\n",
      "-667\n",
      "-668\n",
      "-669\n",
      "-670\n",
      "-671\n",
      "-672\n",
      "-673\n",
      "-674\n",
      "-675\n",
      "-676\n",
      "-677\n",
      "-678\n",
      "-679\n",
      "-680\n",
      "-681\n",
      "-682\n",
      "-683\n",
      "-684\n",
      "-685\n",
      "-686\n",
      "-687\n",
      "-688\n",
      "-689\n",
      "-690\n",
      "-691\n",
      "-692\n",
      "-693\n",
      "-694\n",
      "-695\n",
      "-696\n",
      "-697\n",
      "-698\n",
      "-699\n",
      "-700\n",
      "-701\n",
      "-702\n",
      "-703\n",
      "-704\n",
      "-705\n",
      "-706\n",
      "-707\n",
      "-708\n",
      "-709\n",
      "-710\n",
      "-711\n",
      "-712\n",
      "-713\n",
      "-714\n",
      "-715\n",
      "-716\n",
      "-717\n",
      "-718\n",
      "-719\n",
      "-720\n",
      "-721\n",
      "-722\n",
      "-723\n",
      "-724\n",
      "-725\n",
      "-726\n",
      "-727\n",
      "-728\n",
      "-729\n",
      "-730\n",
      "-731\n",
      "-732\n",
      "-733\n",
      "-734\n",
      "-735\n",
      "-736\n",
      "-737\n",
      "-738\n",
      "-739\n",
      "-740\n",
      "-741\n",
      "-742\n",
      "-743\n",
      "-744\n",
      "-745\n",
      "-746\n",
      "-747\n",
      "-748\n",
      "-749\n",
      "-750\n",
      "-751\n",
      "-752\n",
      "-753\n",
      "-754\n",
      "-755\n",
      "-756\n",
      "-757\n",
      "-758\n",
      "-759\n",
      "-760\n",
      "-761\n",
      "-762\n",
      "-763\n",
      "-764\n",
      "-765\n",
      "-766\n",
      "-767\n",
      "-768\n",
      "-769\n",
      "-770\n",
      "-771\n",
      "-772\n",
      "-773\n",
      "-774\n",
      "-775\n",
      "-776\n",
      "-777\n",
      "-778\n",
      "-779\n",
      "-780\n",
      "-781\n",
      "-782\n",
      "-783\n",
      "-784\n",
      "-785\n",
      "-786\n",
      "-787\n",
      "-788\n",
      "-789\n",
      "-790\n",
      "-791\n",
      "-792\n",
      "-793\n",
      "-794\n",
      "-795\n",
      "-796\n",
      "-797\n",
      "-798\n",
      "-799\n",
      "-800\n",
      "-801\n",
      "-802\n",
      "-803\n",
      "-804\n",
      "-805\n",
      "-806\n",
      "-807\n",
      "-808\n",
      "-809\n",
      "-810\n",
      "-811\n",
      "-812\n",
      "-813\n",
      "-814\n",
      "-815\n",
      "-816\n",
      "-817\n",
      "-818\n",
      "-819\n",
      "-820\n",
      "-821\n",
      "-822\n",
      "-823\n",
      "-824\n",
      "-825\n",
      "-826\n",
      "-827\n",
      "-828\n",
      "-829\n",
      "-830\n",
      "-831\n",
      "-832\n",
      "-833\n",
      "-834\n",
      "-835\n",
      "-836\n",
      "-837\n",
      "-838\n",
      "-839\n",
      "-840\n",
      "-841\n",
      "-842\n",
      "-843\n",
      "-844\n",
      "-845\n",
      "-846\n",
      "-847\n",
      "-848\n",
      "-849\n",
      "-850\n",
      "-851\n",
      "-852\n",
      "-853\n",
      "-854\n",
      "-855\n",
      "-856\n",
      "-857\n",
      "-858\n",
      "-859\n",
      "-860\n",
      "-861\n",
      "-862\n",
      "-863\n",
      "-864\n",
      "-865\n",
      "-866\n",
      "-867\n",
      "-868\n",
      "-869\n",
      "-870\n",
      "-871\n",
      "-872\n",
      "-873\n",
      "-874\n",
      "-875\n",
      "-876\n",
      "-877\n",
      "-878\n",
      "-879\n",
      "-880\n",
      "-881\n",
      "-882\n",
      "-883\n",
      "-884\n",
      "-885\n",
      "-886\n",
      "-887\n",
      "-888\n",
      "-889\n",
      "-890\n",
      "-891\n",
      "-892\n",
      "-893\n",
      "-894\n",
      "-895\n",
      "-896\n",
      "-897\n",
      "-898\n",
      "-899\n",
      "-900\n",
      "-901\n",
      "-902\n",
      "-903\n",
      "-904\n",
      "-905\n",
      "-906\n",
      "-907\n",
      "-908\n",
      "-909\n",
      "-910\n",
      "-911\n",
      "-912\n",
      "-913\n",
      "-914\n",
      "-915\n",
      "-916\n",
      "-917\n",
      "-918\n",
      "-919\n",
      "-920\n",
      "-921\n",
      "-922\n",
      "-923\n",
      "-924\n",
      "-925\n",
      "-926\n",
      "-927\n",
      "-928\n",
      "-929\n",
      "-930\n",
      "-931\n",
      "-932\n",
      "-933\n",
      "-934\n",
      "-935\n",
      "-936\n",
      "-937\n",
      "-938\n",
      "-939\n",
      "-940\n",
      "-941\n",
      "-942\n",
      "-943\n",
      "-944\n",
      "-945\n",
      "-946\n",
      "-947\n",
      "-948\n",
      "-949\n",
      "-950\n",
      "-951\n",
      "-952\n",
      "-953\n",
      "-954\n",
      "-955\n",
      "-956\n",
      "-957\n",
      "-958\n",
      "-959\n",
      "-960\n",
      "-961\n",
      "-962\n",
      "-963\n",
      "-964\n",
      "-965\n",
      "-966\n",
      "-967\n",
      "-968\n",
      "-969\n",
      "-970\n",
      "-971\n",
      "-972\n",
      "-973\n",
      "-974\n",
      "-975\n",
      "-976\n",
      "-977\n",
      "-978\n",
      "-979\n",
      "-980\n",
      "-981\n",
      "-982\n",
      "-983\n",
      "-984\n",
      "-985\n",
      "-986\n",
      "-987\n",
      "-988\n",
      "-989\n",
      "-990\n",
      "-991\n",
      "-992\n",
      "-993\n",
      "-994\n",
      "-995\n",
      "-996\n",
      "-997\n",
      "-998\n",
      "-999\n",
      "-1000\n",
      "-1001\n",
      "-1002\n",
      "-1003\n",
      "-1004\n",
      "-1005\n",
      "-1006\n",
      "-1007\n",
      "-1008\n",
      "-1009\n",
      "-1010\n",
      "-1011\n",
      "-1012\n",
      "-1013\n",
      "-1014\n",
      "-1015\n",
      "-1016\n",
      "-1017\n",
      "-1018\n",
      "-1019\n",
      "-1020\n",
      "-1021\n",
      "-1022\n",
      "-1023\n",
      "-1024\n",
      "-1025\n",
      "-1026\n",
      "-1027\n",
      "-1028\n",
      "-1029\n",
      "-1030\n",
      "-1031\n",
      "-1032\n",
      "-1033\n",
      "-1034\n",
      "-1035\n",
      "-1036\n",
      "-1037\n",
      "-1038\n",
      "-1039\n",
      "-1040\n",
      "-1041\n",
      "-1042\n",
      "-1043\n",
      "-1044\n",
      "-1045\n",
      "-1046\n",
      "-1047\n",
      "-1048\n",
      "-1049\n",
      "-1050\n",
      "-1051\n",
      "-1052\n",
      "-1053\n",
      "-1054\n",
      "-1055\n",
      "-1056\n",
      "-1057\n",
      "-1058\n",
      "-1059\n",
      "-1060\n",
      "-1061\n",
      "-1062\n",
      "-1063\n",
      "-1064\n",
      "-1065\n",
      "-1066\n",
      "-1067\n",
      "-1068\n",
      "-1069\n",
      "-1070\n",
      "-1071\n",
      "-1072\n",
      "-1073\n",
      "-1074\n",
      "-1075\n",
      "-1076\n",
      "-1077\n",
      "-1078\n",
      "-1079\n",
      "-1080\n",
      "-1081\n",
      "-1082\n",
      "-1083\n",
      "-1084\n",
      "-1085\n",
      "-1086\n",
      "-1087\n",
      "-1088\n",
      "-1089\n",
      "-1090\n",
      "-1091\n",
      "-1092\n",
      "-1093\n",
      "-1094\n",
      "-1095\n",
      "-1096\n",
      "-1097\n",
      "-1098\n",
      "-1099\n",
      "-1100\n",
      "-1101\n",
      "-1102\n",
      "-1103\n",
      "-1104\n",
      "-1105\n",
      "-1106\n",
      "-1107\n",
      "-1108\n",
      "-1109\n",
      "-1110\n",
      "-1111\n",
      "-1112\n",
      "-1113\n",
      "-1114\n",
      "-1115\n",
      "-1116\n",
      "-1117\n",
      "-1118\n",
      "-1119\n",
      "-1120\n",
      "-1121\n",
      "-1122\n",
      "-1123\n",
      "-1124\n",
      "-1125\n",
      "-1126\n",
      "-1127\n",
      "-1128\n",
      "-1129\n",
      "-1130\n",
      "-1131\n",
      "-1132\n",
      "-1133\n",
      "-1134\n",
      "-1135\n",
      "-1136\n",
      "-1137\n",
      "-1138\n",
      "-1139\n",
      "-1140\n",
      "-1141\n",
      "-1142\n",
      "-1143\n",
      "-1144\n",
      "-1145\n",
      "-1146\n",
      "-1147\n",
      "-1148\n",
      "-1149\n",
      "-1150\n",
      "-1151\n",
      "-1152\n",
      "-1153\n",
      "-1154\n",
      "-1155\n",
      "-1156\n",
      "-1157\n",
      "-1158\n",
      "-1159\n",
      "-1160\n",
      "-1161\n",
      "-1162\n",
      "-1163\n",
      "-1164\n",
      "-1165\n",
      "-1166\n",
      "-1167\n",
      "-1168\n",
      "-1169\n",
      "-1170\n",
      "-1171\n",
      "-1172\n",
      "-1173\n",
      "-1174\n",
      "-1175\n",
      "-1176\n",
      "-1177\n",
      "-1178\n",
      "-1179\n",
      "-1180\n",
      "-1181\n",
      "-1182\n",
      "-1183\n",
      "-1184\n",
      "-1185\n",
      "-1186\n",
      "-1187\n",
      "-1188\n",
      "-1189\n",
      "-1190\n",
      "-1191\n",
      "-1192\n",
      "-1193\n",
      "-1194\n",
      "-1195\n",
      "-1196\n",
      "-1197\n",
      "-1198\n",
      "-1199\n",
      "-1200\n",
      "-1201\n",
      "-1202\n",
      "-1203\n",
      "-1204\n",
      "-1205\n",
      "-1206\n",
      "-1207\n",
      "-1208\n",
      "-1209\n",
      "-1210\n",
      "-1211\n",
      "-1212\n",
      "-1213\n",
      "-1214\n",
      "-1215\n",
      "-1216\n",
      "-1217\n",
      "-1218\n",
      "-1219\n",
      "-1220\n",
      "-1221\n",
      "-1222\n",
      "-1223\n",
      "-1224\n",
      "-1225\n",
      "-1226\n",
      "-1227\n",
      "-1228\n",
      "-1229\n",
      "-1230\n",
      "-1231\n",
      "-1232\n",
      "-1233\n",
      "-1234\n",
      "-1235\n",
      "-1236\n",
      "-1237\n",
      "-1238\n",
      "-1239\n",
      "-1240\n",
      "-1241\n",
      "-1242\n",
      "-1243\n",
      "-1244\n",
      "-1245\n",
      "-1246\n",
      "-1247\n",
      "-1248\n",
      "-1249\n",
      "-1250\n",
      "-1251\n",
      "-1252\n",
      "-1253\n",
      "-1254\n",
      "-1255\n",
      "-1256\n",
      "-1257\n",
      "-1258\n",
      "-1259\n",
      "-1260\n",
      "-1261\n",
      "-1262\n",
      "-1263\n",
      "-1264\n",
      "-1265\n",
      "-1266\n",
      "-1267\n",
      "-1268\n",
      "-1269\n",
      "-1270\n",
      "-1271\n",
      "-1272\n",
      "-1273\n",
      "-1274\n",
      "-1275\n",
      "-1276\n",
      "-1277\n",
      "-1278\n",
      "-1279\n",
      "-1280\n",
      "-1281\n",
      "-1282\n",
      "-1283\n",
      "-1284\n",
      "-1285\n",
      "-1286\n",
      "-1287\n",
      "-1288\n",
      "-1289\n",
      "-1290\n",
      "-1291\n",
      "-1292\n",
      "-1293\n",
      "-1294\n",
      "-1295\n",
      "-1296\n",
      "-1297\n",
      "-1298\n",
      "-1299\n",
      "-1300\n",
      "-1301\n",
      "-1302\n",
      "-1303\n",
      "-1304\n",
      "-1305\n",
      "-1306\n",
      "-1307\n",
      "-1308\n",
      "-1309\n",
      "-1310\n",
      "-1311\n",
      "-1312\n",
      "-1313\n",
      "-1314\n",
      "-1315\n",
      "-1316\n",
      "-1317\n",
      "-1318\n",
      "-1319\n",
      "-1320\n",
      "-1321\n",
      "-1322\n",
      "-1323\n",
      "-1324\n",
      "-1325\n",
      "-1326\n",
      "-1327\n",
      "-1328\n",
      "-1329\n",
      "-1330\n",
      "-1331\n",
      "-1332\n",
      "-1333\n",
      "-1334\n",
      "-1335\n",
      "-1336\n",
      "-1337\n",
      "-1338\n",
      "-1339\n",
      "-1340\n",
      "-1341\n",
      "-1342\n",
      "-1343\n",
      "-1344\n",
      "-1345\n",
      "-1346\n",
      "-1347\n",
      "-1348\n",
      "-1349\n",
      "-1350\n",
      "-1351\n",
      "-1352\n",
      "-1353\n",
      "-1354\n",
      "-1355\n",
      "-1356\n",
      "-1357\n",
      "-1358\n",
      "-1359\n",
      "-1360\n",
      "-1361\n",
      "-1362\n",
      "-1363\n",
      "-1364\n",
      "-1365\n",
      "-1366\n",
      "-1367\n",
      "-1368\n",
      "-1369\n",
      "-1370\n",
      "-1371\n",
      "-1372\n",
      "-1373\n",
      "-1374\n",
      "-1375\n",
      "-1376\n",
      "-1377\n",
      "-1378\n",
      "-1379\n",
      "-1380\n",
      "-1381\n",
      "-1382\n",
      "-1383\n",
      "-1384\n",
      "-1385\n",
      "-1386\n",
      "-1387\n",
      "-1388\n",
      "-1389\n",
      "-1390\n",
      "-1391\n",
      "-1392\n",
      "-1393\n",
      "-1394\n",
      "-1395\n",
      "-1396\n",
      "-1397\n",
      "-1398\n",
      "-1399\n",
      "-1400\n",
      "-1401\n",
      "-1402\n",
      "-1403\n",
      "-1404\n",
      "-1405\n",
      "-1406\n",
      "-1407\n",
      "-1408\n",
      "-1409\n",
      "-1410\n",
      "-1411\n",
      "-1412\n",
      "-1413\n",
      "-1414\n",
      "-1415\n",
      "-1416\n",
      "-1417\n",
      "-1418\n",
      "-1419\n",
      "-1420\n",
      "-1421\n",
      "-1422\n",
      "-1423\n",
      "-1424\n",
      "-1425\n",
      "-1426\n",
      "-1427\n",
      "-1428\n",
      "-1429\n",
      "-1430\n",
      "-1431\n",
      "-1432\n",
      "-1433\n",
      "-1434\n",
      "-1435\n",
      "-1436\n",
      "-1437\n",
      "-1438\n",
      "-1439\n",
      "-1440\n",
      "-1441\n",
      "-1442\n",
      "-1443\n",
      "-1444\n",
      "-1445\n",
      "-1446\n",
      "-1447\n",
      "-1448\n",
      "-1449\n",
      "-1450\n",
      "-1451\n",
      "-1452\n",
      "-1453\n",
      "-1454\n",
      "-1455\n",
      "-1456\n",
      "-1457\n",
      "-1458\n",
      "-1459\n",
      "-1460\n",
      "-1461\n",
      "-1462\n",
      "-1463\n",
      "-1464\n",
      "-1465\n",
      "-1466\n",
      "-1467\n",
      "-1468\n",
      "-1469\n",
      "-1470\n",
      "-1471\n",
      "-1472\n",
      "-1473\n",
      "-1474\n",
      "-1475\n",
      "-1476\n",
      "-1477\n",
      "-1478\n",
      "-1479\n",
      "-1480\n",
      "-1481\n",
      "-1482\n",
      "-1483\n",
      "-1484\n",
      "-1485\n",
      "-1486\n",
      "-1487\n",
      "-1488\n",
      "-1489\n",
      "-1490\n",
      "-1491\n",
      "-1492\n",
      "-1493\n",
      "-1494\n",
      "-1495\n",
      "-1496\n",
      "-1497\n",
      "-1498\n",
      "-1499\n",
      "-1500\n",
      "-1501\n",
      "-1502\n",
      "-1503\n",
      "-1504\n",
      "-1505\n",
      "-1506\n",
      "-1507\n",
      "-1508\n",
      "-1509\n",
      "-1510\n",
      "-1511\n",
      "-1512\n",
      "-1513\n",
      "-1514\n",
      "-1515\n",
      "-1516\n",
      "-1517\n",
      "-1518\n",
      "-1519\n",
      "-1520\n",
      "-1521\n",
      "-1522\n",
      "-1523\n",
      "-1524\n",
      "-1525\n",
      "-1526\n",
      "-1527\n",
      "-1528\n",
      "-1529\n",
      "-1530\n",
      "-1531\n",
      "-1532\n",
      "-1533\n",
      "-1534\n",
      "-1535\n",
      "-1536\n",
      "-1537\n",
      "-1538\n",
      "-1539\n",
      "-1540\n",
      "-1541\n",
      "-1542\n",
      "-1543\n",
      "-1544\n",
      "-1545\n",
      "-1546\n",
      "-1547\n",
      "-1548\n",
      "-1549\n",
      "-1550\n",
      "-1551\n",
      "-1552\n",
      "-1553\n",
      "-1554\n",
      "-1555\n",
      "-1556\n",
      "-1557\n",
      "-1558\n",
      "-1559\n",
      "-1560\n",
      "-1561\n",
      "-1562\n",
      "-1563\n",
      "-1564\n",
      "-1565\n",
      "-1566\n",
      "-1567\n",
      "-1568\n",
      "-1569\n",
      "-1570\n",
      "-1571\n",
      "-1572\n",
      "-1573\n",
      "-1574\n",
      "-1575\n",
      "-1576\n",
      "-1577\n",
      "-1578\n",
      "-1579\n",
      "-1580\n",
      "-1581\n",
      "-1582\n",
      "-1583\n",
      "-1584\n",
      "-1585\n",
      "-1586\n",
      "-1587\n",
      "-1588\n",
      "-1589\n",
      "-1590\n",
      "-1591\n",
      "-1592\n",
      "-1593\n",
      "-1594\n",
      "-1595\n",
      "-1596\n",
      "-1597\n",
      "-1598\n",
      "-1599\n",
      "-1600\n",
      "-1601\n",
      "-1602\n",
      "-1603\n",
      "-1604\n",
      "-1605\n",
      "-1606\n",
      "-1607\n",
      "-1608\n",
      "-1609\n",
      "-1610\n",
      "-1611\n",
      "-1612\n",
      "-1613\n",
      "-1614\n",
      "-1615\n",
      "-1616\n",
      "-1617\n",
      "-1618\n",
      "-1619\n",
      "-1620\n",
      "-1621\n",
      "-1622\n",
      "-1623\n",
      "-1624\n",
      "-1625\n",
      "-1626\n",
      "-1627\n",
      "-1628\n",
      "-1629\n",
      "-1630\n",
      "-1631\n",
      "-1632\n",
      "-1633\n",
      "-1634\n",
      "-1635\n",
      "-1636\n",
      "-1637\n",
      "-1638\n",
      "-1639\n",
      "-1640\n",
      "-1641\n",
      "-1642\n",
      "-1643\n",
      "-1644\n",
      "-1645\n",
      "-1646\n",
      "-1647\n",
      "-1648\n",
      "-1649\n",
      "-1650\n",
      "-1651\n",
      "-1652\n",
      "-1653\n",
      "-1654\n",
      "-1655\n",
      "-1656\n",
      "-1657\n",
      "-1658\n",
      "-1659\n",
      "-1660\n",
      "-1661\n",
      "-1662\n",
      "-1663\n",
      "-1664\n",
      "-1665\n",
      "-1666\n",
      "-1667\n",
      "-1668\n",
      "-1669\n",
      "-1670\n",
      "-1671\n",
      "-1672\n",
      "-1673\n",
      "-1674\n",
      "-1675\n",
      "-1676\n",
      "-1677\n",
      "-1678\n",
      "-1679\n",
      "-1680\n",
      "-1681\n",
      "-1682\n",
      "-1683\n",
      "-1684\n",
      "-1685\n",
      "-1686\n",
      "-1687\n",
      "-1688\n",
      "-1689\n",
      "-1690\n",
      "-1691\n",
      "-1692\n",
      "-1693\n",
      "-1694\n",
      "-1695\n",
      "-1696\n",
      "-1697\n",
      "-1698\n",
      "-1699\n",
      "-1700\n",
      "-1701\n",
      "-1702\n",
      "-1703\n",
      "-1704\n",
      "-1705\n",
      "-1706\n",
      "-1707\n",
      "-1708\n",
      "-1709\n",
      "-1710\n",
      "-1711\n",
      "-1712\n",
      "-1713\n",
      "-1714\n",
      "-1715\n",
      "-1716\n",
      "-1717\n",
      "-1718\n",
      "-1719\n",
      "-1720\n",
      "-1721\n",
      "-1722\n",
      "-1723\n",
      "-1724\n",
      "-1725\n",
      "-1726\n",
      "-1727\n",
      "-1728\n",
      "-1729\n",
      "-1730\n",
      "-1731\n",
      "-1732\n",
      "-1733\n",
      "-1734\n",
      "-1735\n",
      "-1736\n",
      "-1737\n",
      "-1738\n",
      "-1739\n",
      "-1740\n",
      "-1741\n",
      "-1742\n",
      "-1743\n",
      "-1744\n",
      "-1745\n",
      "-1746\n",
      "-1747\n",
      "-1748\n",
      "-1749\n",
      "-1750\n",
      "-1751\n",
      "-1752\n",
      "-1753\n",
      "-1754\n",
      "-1755\n",
      "-1756\n",
      "-1757\n",
      "-1758\n",
      "-1759\n",
      "-1760\n",
      "-1761\n",
      "-1762\n",
      "-1763\n",
      "-1764\n",
      "-1765\n",
      "-1766\n",
      "-1767\n",
      "-1768\n",
      "-1769\n",
      "-1770\n",
      "-1771\n",
      "-1772\n",
      "-1773\n",
      "-1774\n",
      "-1775\n",
      "-1776\n",
      "-1777\n",
      "-1778\n",
      "-1779\n",
      "-1780\n",
      "-1781\n",
      "-1782\n",
      "-1783\n",
      "-1784\n",
      "-1785\n",
      "-1786\n",
      "-1787\n",
      "-1788\n",
      "-1789\n",
      "-1790\n",
      "-1791\n",
      "-1792\n",
      "-1793\n",
      "-1794\n",
      "-1795\n",
      "-1796\n",
      "-1797\n",
      "-1798\n",
      "-1799\n",
      "-1800\n",
      "-1801\n",
      "-1802\n",
      "-1803\n",
      "-1804\n",
      "-1805\n",
      "-1806\n",
      "-1807\n",
      "-1808\n",
      "-1809\n",
      "-1810\n",
      "-1811\n",
      "-1812\n",
      "-1813\n",
      "-1814\n",
      "-1815\n",
      "-1816\n",
      "-1817\n",
      "-1818\n",
      "-1819\n",
      "-1820\n",
      "-1821\n",
      "-1822\n",
      "-1823\n",
      "-1824\n",
      "-1825\n",
      "-1826\n",
      "-1827\n",
      "-1828\n",
      "-1829\n",
      "-1830\n",
      "-1831\n",
      "-1832\n",
      "-1833\n",
      "-1834\n",
      "-1835\n",
      "-1836\n",
      "-1837\n",
      "-1838\n",
      "-1839\n",
      "-1840\n",
      "-1841\n",
      "-1842\n",
      "-1843\n",
      "-1844\n",
      "-1845\n",
      "-1846\n",
      "-1847\n",
      "-1848\n",
      "-1849\n",
      "-1850\n",
      "-1851\n",
      "-1852\n",
      "-1853\n",
      "-1854\n",
      "-1855\n",
      "-1856\n",
      "-1857\n",
      "-1858\n",
      "-1859\n",
      "-1860\n",
      "-1861\n",
      "-1862\n",
      "-1863\n",
      "-1864\n",
      "-1865\n",
      "-1866\n",
      "-1867\n",
      "-1868\n",
      "-1869\n",
      "-1870\n",
      "-1871\n",
      "-1872\n",
      "-1873\n",
      "-1874\n",
      "-1875\n",
      "-1876\n",
      "-1877\n",
      "-1878\n",
      "-1879\n",
      "-1880\n",
      "-1881\n",
      "-1882\n",
      "-1883\n",
      "-1884\n",
      "-1885\n",
      "-1886\n",
      "-1887\n",
      "-1888\n",
      "-1889\n",
      "-1890\n",
      "-1891\n",
      "-1892\n",
      "-1893\n",
      "-1894\n",
      "-1895\n",
      "-1896\n",
      "-1897\n",
      "-1898\n",
      "-1899\n",
      "-1900\n",
      "-1901\n",
      "-1902\n",
      "-1903\n",
      "-1904\n",
      "-1905\n",
      "-1906\n",
      "-1907\n",
      "-1908\n",
      "-1909\n",
      "-1910\n",
      "-1911\n",
      "-1912\n",
      "-1913\n",
      "-1914\n",
      "-1915\n",
      "-1916\n",
      "-1917\n",
      "-1918\n",
      "-1919\n",
      "-1920\n",
      "-1921\n",
      "-1922\n",
      "-1923\n",
      "-1924\n",
      "-1925\n",
      "-1926\n",
      "-1927\n",
      "-1928\n",
      "-1929\n",
      "-1930\n",
      "-1931\n",
      "-1932\n",
      "-1933\n",
      "-1934\n",
      "-1935\n",
      "-1936\n",
      "-1937\n",
      "-1938\n",
      "-1939\n",
      "-1940\n",
      "-1941\n",
      "-1942\n",
      "-1943\n",
      "-1944\n",
      "-1945\n",
      "-1946\n",
      "-1947\n",
      "-1948\n",
      "-1949\n",
      "-1950\n",
      "-1951\n",
      "-1952\n",
      "-1953\n",
      "-1954\n",
      "-1955\n",
      "-1956\n",
      "-1957\n",
      "-1958\n",
      "-1959\n",
      "-1960\n",
      "-1961\n",
      "-1962\n",
      "-1963\n",
      "-1964\n",
      "-1965\n",
      "-1966\n",
      "-1967\n",
      "-1968\n",
      "-1969\n",
      "-1970\n",
      "-1971\n",
      "-1972\n",
      "-1973\n",
      "-1974\n",
      "-1975\n",
      "-1976\n",
      "-1977\n",
      "-1978\n",
      "-1979\n",
      "-1980\n",
      "-1981\n",
      "-1982\n",
      "-1983\n",
      "-1984\n",
      "-1985\n",
      "-1986\n",
      "-1987\n",
      "-1988\n",
      "-1989\n",
      "-1990\n",
      "-1991\n",
      "-1992\n",
      "-1993\n",
      "-1994\n",
      "-1995\n",
      "-1996\n",
      "-1997\n",
      "-1998\n",
      "-1999\n",
      "-2000\n",
      "-2001\n",
      "-2002\n",
      "-2003\n",
      "-2004\n",
      "-2005\n",
      "-2006\n",
      "-2007\n",
      "-2008\n",
      "-2009\n",
      "-2010\n",
      "-2011\n",
      "-2012\n",
      "-2013\n",
      "-2014\n",
      "-2015\n",
      "-2016\n",
      "-2017\n",
      "-2018\n",
      "-2019\n",
      "-2020\n",
      "-2021\n",
      "-2022\n",
      "-2023\n",
      "-2024\n",
      "-2025\n",
      "-2026\n",
      "-2027\n",
      "-2028\n",
      "-2029\n",
      "-2030\n",
      "-2031\n",
      "-2032\n",
      "-2033\n",
      "-2034\n",
      "-2035\n",
      "-2036\n",
      "-2037\n",
      "-2038\n",
      "-2039\n",
      "-2040\n",
      "-2041\n",
      "-2042\n",
      "-2043\n",
      "-2044\n",
      "-2045\n",
      "-2046\n",
      "-2047\n",
      "-2048\n",
      "-2049\n",
      "-2050\n",
      "-2051\n",
      "-2052\n",
      "-2053\n",
      "-2054\n",
      "-2055\n",
      "-2056\n",
      "-2057\n",
      "-2058\n",
      "-2059\n",
      "-2060\n",
      "-2061\n",
      "-2062\n",
      "-2063\n",
      "-2064\n",
      "-2065\n",
      "-2066\n",
      "-2067\n",
      "-2068\n",
      "-2069\n",
      "-2070\n",
      "-2071\n",
      "-2072\n",
      "-2073\n",
      "-2074\n",
      "-2075\n",
      "-2076\n",
      "-2077\n",
      "-2078\n",
      "-2079\n",
      "-2080\n",
      "-2081\n",
      "-2082\n",
      "-2083\n",
      "-2084\n",
      "-2085\n",
      "-2086\n",
      "-2087\n",
      "-2088\n",
      "-2089\n",
      "-2090\n",
      "-2091\n",
      "-2092\n",
      "-2093\n",
      "-2094\n",
      "-2095\n",
      "-2096\n",
      "-2097\n",
      "-2098\n",
      "-2099\n",
      "-2100\n",
      "-2101\n",
      "-2102\n",
      "-2103\n",
      "-2104\n",
      "-2105\n",
      "-2106\n",
      "-2107\n",
      "-2108\n",
      "-2109\n",
      "-2110\n",
      "-2111\n",
      "-2112\n",
      "-2113\n",
      "-2114\n",
      "-2115\n",
      "-2116\n",
      "-2117\n",
      "-2118\n",
      "-2119\n",
      "-2120\n",
      "-2121\n",
      "-2122\n",
      "-2123\n",
      "-2124\n",
      "-2125\n",
      "-2126\n",
      "-2127\n",
      "-2128\n",
      "-2129\n",
      "-2130\n",
      "-2131\n",
      "-2132\n",
      "-2133\n",
      "-2134\n",
      "-2135\n",
      "-2136\n",
      "-2137\n",
      "-2138\n",
      "-2139\n",
      "-2140\n",
      "-2141\n",
      "-2142\n",
      "-2143\n",
      "-2144\n",
      "-2145\n",
      "-2146\n",
      "-2147\n",
      "-2148\n",
      "-2149\n",
      "-2150\n",
      "-2151\n",
      "-2152\n",
      "-2153\n",
      "-2154\n",
      "-2155\n",
      "-2156\n",
      "-2157\n",
      "-2158\n",
      "-2159\n",
      "-2160\n",
      "-2161\n",
      "-2162\n",
      "-2163\n",
      "-2164\n",
      "-2165\n",
      "-2166\n",
      "-2167\n",
      "-2168\n",
      "-2169\n",
      "-2170\n",
      "-2171\n",
      "-2172\n",
      "-2173\n",
      "-2174\n",
      "-2175\n",
      "-2176\n",
      "-2177\n",
      "-2178\n",
      "-2179\n",
      "-2180\n",
      "-2181\n",
      "-2182\n",
      "-2183\n",
      "-2184\n",
      "-2185\n",
      "-2186\n",
      "-2187\n",
      "-2188\n",
      "-2189\n",
      "-2190\n",
      "-2191\n",
      "-2192\n",
      "-2193\n",
      "-2194\n",
      "-2195\n",
      "-2196\n",
      "-2197\n",
      "-2198\n",
      "-2199\n",
      "-2200\n",
      "-2201\n",
      "-2202\n",
      "-2203\n",
      "-2204\n",
      "-2205\n",
      "-2206\n",
      "-2207\n",
      "-2208\n",
      "-2209\n",
      "-2210\n",
      "-2211\n",
      "-2212\n",
      "-2213\n",
      "-2214\n",
      "-2215\n",
      "-2216\n",
      "-2217\n",
      "-2218\n",
      "-2219\n",
      "-2220\n",
      "-2221\n",
      "-2222\n",
      "-2223\n",
      "-2224\n",
      "-2225\n",
      "-2226\n",
      "-2227\n",
      "-2228\n",
      "-2229\n",
      "-2230\n",
      "-2231\n",
      "-2232\n",
      "-2233\n",
      "-2234\n",
      "-2235\n",
      "-2236\n",
      "-2237\n",
      "-2238\n",
      "-2239\n",
      "-2240\n",
      "-2241\n",
      "-2242\n",
      "-2243\n",
      "-2244\n",
      "-2245\n",
      "-2246\n",
      "-2247\n",
      "-2248\n",
      "-2249\n",
      "-2250\n",
      "-2251\n",
      "-2252\n",
      "-2253\n",
      "-2254\n",
      "-2255\n",
      "-2256\n",
      "-2257\n",
      "-2258\n",
      "-2259\n",
      "-2260\n",
      "-2261\n",
      "-2262\n",
      "-2263\n",
      "-2264\n",
      "-2265\n",
      "-2266\n",
      "-2267\n",
      "-2268\n",
      "-2269\n",
      "-2270\n",
      "-2271\n",
      "-2272\n",
      "-2273\n",
      "-2274\n",
      "-2275\n",
      "-2276\n",
      "-2277\n",
      "-2278\n",
      "-2279\n",
      "-2280\n",
      "-2281\n",
      "-2282\n",
      "-2283\n",
      "-2284\n",
      "-2285\n",
      "-2286\n",
      "-2287\n",
      "-2288\n",
      "-2289\n",
      "-2290\n",
      "-2291\n",
      "-2292\n",
      "-2293\n",
      "-2294\n",
      "-2295\n",
      "-2296\n",
      "-2297\n",
      "-2298\n",
      "-2299\n",
      "-2300\n",
      "-2301\n",
      "-2302\n",
      "-2303\n",
      "-2304\n",
      "-2305\n",
      "-2306\n",
      "-2307\n",
      "-2308\n",
      "-2309\n",
      "-2310\n",
      "-2311\n",
      "-2312\n",
      "-2313\n",
      "-2314\n",
      "-2315\n",
      "-2316\n",
      "-2317\n",
      "-2318\n",
      "-2319\n",
      "-2320\n",
      "-2321\n",
      "-2322\n",
      "-2323\n",
      "-2324\n",
      "-2325\n",
      "-2326\n",
      "-2327\n",
      "-2328\n",
      "-2329\n",
      "-2330\n",
      "-2331\n",
      "-2332\n",
      "-2333\n",
      "-2334\n",
      "-2335\n",
      "-2336\n",
      "-2337\n",
      "-2338\n",
      "-2339\n",
      "-2340\n",
      "-2341\n",
      "-2342\n",
      "-2343\n",
      "-2344\n",
      "-2345\n",
      "-2346\n",
      "-2347\n",
      "-2348\n",
      "-2349\n",
      "-2350\n",
      "-2351\n",
      "-2352\n",
      "-2353\n",
      "-2354\n",
      "-2355\n",
      "-2356\n",
      "-2357\n",
      "-2358\n",
      "-2359\n",
      "-2360\n",
      "-2361\n",
      "-2362\n",
      "-2363\n",
      "-2364\n",
      "-2365\n",
      "-2366\n",
      "-2367\n",
      "-2368\n",
      "-2369\n",
      "-2370\n",
      "-2371\n",
      "-2372\n",
      "-2373\n",
      "-2374\n",
      "-2375\n",
      "-2376\n",
      "-2377\n",
      "-2378\n",
      "-2379\n",
      "-2380\n",
      "-2381\n",
      "-2382\n",
      "-2383\n",
      "-2384\n",
      "-2385\n",
      "-2386\n",
      "-2387\n",
      "-2388\n",
      "-2389\n",
      "-2390\n",
      "-2391\n",
      "-2392\n",
      "-2393\n",
      "-2394\n",
      "-2395\n",
      "-2396\n",
      "-2397\n",
      "-2398\n",
      "-2399\n",
      "-2400\n",
      "-2401\n",
      "-2402\n",
      "-2403\n",
      "-2404\n",
      "-2405\n",
      "-2406\n",
      "-2407\n",
      "-2408\n",
      "-2409\n",
      "-2410\n",
      "-2411\n",
      "-2412\n",
      "-2413\n",
      "-2414\n",
      "-2415\n",
      "-2416\n",
      "-2417\n",
      "-2418\n",
      "-2419\n",
      "-2420\n",
      "-2421\n",
      "-2422\n",
      "-2423\n",
      "-2424\n",
      "-2425\n",
      "-2426\n",
      "-2427\n",
      "-2428\n",
      "-2429\n",
      "-2430\n",
      "-2431\n",
      "-2432\n",
      "-2433\n",
      "-2434\n",
      "-2435\n",
      "-2436\n",
      "-2437\n",
      "-2438\n",
      "-2439\n",
      "-2440\n",
      "-2441\n",
      "-2442\n",
      "-2443\n",
      "-2444\n",
      "-2445\n",
      "-2446\n",
      "-2447\n",
      "-2448\n",
      "-2449\n",
      "-2450\n",
      "-2451\n",
      "-2452\n",
      "-2453\n",
      "-2454\n",
      "-2455\n",
      "-2456\n",
      "-2457\n",
      "-2458\n",
      "-2459\n",
      "-2460\n",
      "-2461\n",
      "-2462\n",
      "-2463\n",
      "-2464\n",
      "-2465\n",
      "-2466\n",
      "-2467\n",
      "-2468\n",
      "-2469\n",
      "-2470\n",
      "-2471\n",
      "-2472\n",
      "-2473\n",
      "-2474\n",
      "-2475\n",
      "-2476\n",
      "-2477\n",
      "-2478\n",
      "-2479\n",
      "-2480\n",
      "-2481\n",
      "-2482\n",
      "-2483\n",
      "-2484\n",
      "-2485\n",
      "-2486\n",
      "-2487\n",
      "-2488\n",
      "-2489\n",
      "-2490\n",
      "-2491\n",
      "-2492\n",
      "-2493\n",
      "-2494\n",
      "-2495\n",
      "-2496\n",
      "-2497\n",
      "-2498\n",
      "-2499\n",
      "-2500\n",
      "-2501\n",
      "-2502\n",
      "-2503\n",
      "-2504\n",
      "-2505\n",
      "-2506\n",
      "-2507\n",
      "-2508\n",
      "-2509\n",
      "-2510\n",
      "-2511\n",
      "-2512\n",
      "-2513\n",
      "-2514\n",
      "-2515\n",
      "-2516\n",
      "-2517\n",
      "-2518\n",
      "-2519\n",
      "-2520\n",
      "-2521\n",
      "-2522\n",
      "-2523\n",
      "-2524\n",
      "-2525\n",
      "-2526\n",
      "-2527\n",
      "-2528\n",
      "-2529\n",
      "-2530\n",
      "-2531\n",
      "-2532\n",
      "-2533\n",
      "-2534\n",
      "-2535\n",
      "-2536\n",
      "-2537\n",
      "-2538\n",
      "-2539\n",
      "-2540\n",
      "-2541\n",
      "-2542\n",
      "-2543\n",
      "-2544\n",
      "-2545\n",
      "-2546\n",
      "-2547\n",
      "-2548\n",
      "-2549\n",
      "-2550\n",
      "-2551\n",
      "-2552\n",
      "-2553\n",
      "-2554\n",
      "-2555\n",
      "-2556\n",
      "-2557\n",
      "-2558\n",
      "-2559\n",
      "-2560\n",
      "-2561\n",
      "-2562\n",
      "-2563\n",
      "-2564\n",
      "-2565\n",
      "-2566\n",
      "-2567\n",
      "-2568\n",
      "-2569\n",
      "-2570\n",
      "-2571\n",
      "-2572\n",
      "-2573\n",
      "-2574\n",
      "-2575\n",
      "-2576\n",
      "-2577\n",
      "-2578\n",
      "-2579\n",
      "-2580\n",
      "-2581\n",
      "-2582\n",
      "-2583\n",
      "-2584\n",
      "-2585\n",
      "-2586\n",
      "-2587\n",
      "-2588\n",
      "-2589\n",
      "-2590\n",
      "-2591\n",
      "-2592\n",
      "-2593\n",
      "-2594\n",
      "-2595\n",
      "-2596\n",
      "-2597\n",
      "-2598\n",
      "-2599\n",
      "-2600\n",
      "-2601\n",
      "-2602\n",
      "-2603\n",
      "-2604\n",
      "-2605\n",
      "-2606\n",
      "-2607\n",
      "-2608\n",
      "-2609\n",
      "-2610\n",
      "-2611\n",
      "-2612\n",
      "-2613\n",
      "-2614\n",
      "-2615\n",
      "-2616\n",
      "-2617\n",
      "-2618\n",
      "-2619\n",
      "-2620\n",
      "-2621\n",
      "-2622\n",
      "-2623\n",
      "-2624\n",
      "-2625\n",
      "-2626\n",
      "-2627\n",
      "-2628\n",
      "-2629\n",
      "-2630\n",
      "-2631\n",
      "-2632\n",
      "-2633\n",
      "-2634\n",
      "-2635\n",
      "-2636\n",
      "-2637\n",
      "-2638\n",
      "-2639\n",
      "-2640\n",
      "-2641\n",
      "-2642\n",
      "-2643\n",
      "-2644\n",
      "-2645\n",
      "-2646\n",
      "-2647\n",
      "-2648\n",
      "-2649\n",
      "-2650\n",
      "-2651\n",
      "-2652\n",
      "-2653\n",
      "-2654\n",
      "-2655\n",
      "-2656\n",
      "-2657\n",
      "-2658\n",
      "-2659\n",
      "-2660\n",
      "-2661\n",
      "-2662\n",
      "-2663\n",
      "-2664\n",
      "-2665\n",
      "-2666\n",
      "-2667\n",
      "-2668\n",
      "-2669\n",
      "-2670\n",
      "-2671\n",
      "-2672\n",
      "-2673\n",
      "-2674\n",
      "-2675\n",
      "-2676\n",
      "-2677\n",
      "-2678\n",
      "-2679\n",
      "-2680\n",
      "-2681\n",
      "-2682\n",
      "-2683\n",
      "-2684\n",
      "-2685\n",
      "-2686\n",
      "-2687\n",
      "-2688\n",
      "-2689\n",
      "-2690\n",
      "-2691\n",
      "-2692\n",
      "-2693\n",
      "-2694\n",
      "-2695\n",
      "-2696\n",
      "-2697\n",
      "-2698\n",
      "-2699\n",
      "-2700\n",
      "-2701\n",
      "-2702\n",
      "-2703\n",
      "-2704\n",
      "-2705\n",
      "-2706\n",
      "-2707\n",
      "-2708\n",
      "-2709\n",
      "-2710\n",
      "-2711\n",
      "-2712\n",
      "-2713\n",
      "-2714\n",
      "-2715\n",
      "-2716\n",
      "-2717\n",
      "-2718\n",
      "-2719\n",
      "-2720\n",
      "-2721\n",
      "-2722\n",
      "-2723\n",
      "-2724\n",
      "-2725\n",
      "-2726\n",
      "-2727\n",
      "-2728\n",
      "-2729\n",
      "-2730\n",
      "-2731\n",
      "-2732\n",
      "-2733\n",
      "-2734\n",
      "-2735\n",
      "-2736\n",
      "-2737\n",
      "-2738\n",
      "-2739\n",
      "-2740\n",
      "-2741\n",
      "-2742\n",
      "-2743\n",
      "-2744\n",
      "-2745\n",
      "-2746\n",
      "-2747\n",
      "-2748\n",
      "-2749\n",
      "-2750\n",
      "-2751\n",
      "-2752\n",
      "-2753\n",
      "-2754\n",
      "-2755\n",
      "-2756\n",
      "-2757\n",
      "-2758\n",
      "-2759\n",
      "-2760\n",
      "-2761\n",
      "-2762\n",
      "-2763\n",
      "-2764\n",
      "-2765\n",
      "-2766\n",
      "-2767\n",
      "-2768\n",
      "-2769\n",
      "-2770\n",
      "-2771\n",
      "-2772\n",
      "-2773\n",
      "-2774\n",
      "-2775\n",
      "-2776\n",
      "-2777\n",
      "-2778\n",
      "-2779\n",
      "-2780\n",
      "-2781\n",
      "-2782\n",
      "-2783\n",
      "-2784\n",
      "-2785\n",
      "-2786\n",
      "-2787\n",
      "-2788\n",
      "-2789\n",
      "-2790\n",
      "-2791\n",
      "-2792\n",
      "-2793\n",
      "-2794\n",
      "-2795\n",
      "-2796\n",
      "-2797\n",
      "-2798\n",
      "-2799\n",
      "-2800\n",
      "-2801\n",
      "-2802\n",
      "-2803\n",
      "-2804\n",
      "-2805\n",
      "-2806\n",
      "-2807\n",
      "-2808\n",
      "-2809\n",
      "-2810\n",
      "-2811\n",
      "-2812\n",
      "-2813\n",
      "-2814\n",
      "-2815\n",
      "-2816\n",
      "-2817\n",
      "-2818\n",
      "-2819\n",
      "-2820\n",
      "-2821\n",
      "-2822\n",
      "-2823\n",
      "-2824\n",
      "-2825\n",
      "-2826\n",
      "-2827\n",
      "-2828\n",
      "-2829\n",
      "-2830\n",
      "-2831\n",
      "-2832\n",
      "-2833\n",
      "-2834\n",
      "-2835\n",
      "-2836\n",
      "-2837\n",
      "-2838\n",
      "-2839\n",
      "-2840\n",
      "-2841\n",
      "-2842\n",
      "-2843\n",
      "-2844\n",
      "-2845\n",
      "-2846\n",
      "-2847\n",
      "-2848\n",
      "-2849\n",
      "-2850\n",
      "-2851\n",
      "-2852\n",
      "-2853\n",
      "-2854\n",
      "-2855\n",
      "-2856\n",
      "-2857\n",
      "-2858\n",
      "-2859\n",
      "-2860\n",
      "-2861\n",
      "-2862\n",
      "-2863\n",
      "-2864\n",
      "-2865\n",
      "-2866\n",
      "-2867\n",
      "-2868\n",
      "-2869\n",
      "-2870\n",
      "-2871\n",
      "-2872\n",
      "-2873\n",
      "-2874\n",
      "-2875\n",
      "-2876\n",
      "-2877\n",
      "-2878\n",
      "-2879\n",
      "-2880\n",
      "-2881\n",
      "-2882\n",
      "-2883\n",
      "-2884\n",
      "-2885\n",
      "-2886\n",
      "-2887\n",
      "-2888\n",
      "-2889\n",
      "-2890\n",
      "-2891\n",
      "-2892\n",
      "-2893\n",
      "-2894\n",
      "-2895\n",
      "-2896\n",
      "-2897\n",
      "-2898\n",
      "-2899\n",
      "-2900\n",
      "-2901\n",
      "-2902\n",
      "-2903\n",
      "-2904\n",
      "-2905\n",
      "-2906\n",
      "-2907\n",
      "-2908\n",
      "-2909\n",
      "-2910\n",
      "-2911\n",
      "-2912\n",
      "-2913\n",
      "-2914\n",
      "-2915\n",
      "-2916\n",
      "-2917\n",
      "-2918\n",
      "-2919\n",
      "-2920\n",
      "-2921\n",
      "-2922\n",
      "-2923\n",
      "-2924\n",
      "-2925\n",
      "-2926\n",
      "-2927\n",
      "-2928\n",
      "-2929\n",
      "-2930\n",
      "-2931\n",
      "-2932\n",
      "-2933\n",
      "-2934\n",
      "-2935\n",
      "-2936\n",
      "-2937\n",
      "-2938\n",
      "-2939\n",
      "-2940\n",
      "-2941\n",
      "-2942\n",
      "-2943\n",
      "-2944\n",
      "-2945\n",
      "-2946\n",
      "-2947\n",
      "-2948\n",
      "-2949\n",
      "-2950\n",
      "-2951\n",
      "-2952\n",
      "-2953\n",
      "-2954\n",
      "-2955\n",
      "-2956\n",
      "-2957\n",
      "-2958\n",
      "-2959\n",
      "-2960\n",
      "-2961\n",
      "-2962\n",
      "-2963\n",
      "-2964\n",
      "-2965\n"
     ]
    },
    {
     "ename": "RecursionError",
     "evalue": "maximum recursion depth exceeded while calling a Python object",
     "output_type": "error",
     "traceback": [
      "\u001b[1;31m---------------------------------------------------------------------------\u001b[0m",
      "\u001b[1;31mRecursionError\u001b[0m                            Traceback (most recent call last)",
      "Cell \u001b[1;32mIn[1], line 7\u001b[0m\n\u001b[0;32m      3\u001b[0m     \u001b[38;5;28mprint\u001b[39m(start)\n\u001b[0;32m      4\u001b[0m     count_down(start\u001b[38;5;241m-\u001b[39m\u001b[38;5;241m1\u001b[39m)\n\u001b[1;32m----> 7\u001b[0m \u001b[43mcount_down\u001b[49m\u001b[43m(\u001b[49m\u001b[38;5;241;43m3\u001b[39;49m\u001b[43m)\u001b[49m\n",
      "Cell \u001b[1;32mIn[1], line 4\u001b[0m, in \u001b[0;36mcount_down\u001b[1;34m(start)\u001b[0m\n\u001b[0;32m      2\u001b[0m \u001b[38;5;250m\u001b[39m\u001b[38;5;124;03m\"\"\" Count down from a number  \"\"\"\u001b[39;00m\n\u001b[0;32m      3\u001b[0m \u001b[38;5;28mprint\u001b[39m(start)\n\u001b[1;32m----> 4\u001b[0m \u001b[43mcount_down\u001b[49m\u001b[43m(\u001b[49m\u001b[43mstart\u001b[49m\u001b[38;5;241;43m-\u001b[39;49m\u001b[38;5;241;43m1\u001b[39;49m\u001b[43m)\u001b[49m\n",
      "Cell \u001b[1;32mIn[1], line 4\u001b[0m, in \u001b[0;36mcount_down\u001b[1;34m(start)\u001b[0m\n\u001b[0;32m      2\u001b[0m \u001b[38;5;250m\u001b[39m\u001b[38;5;124;03m\"\"\" Count down from a number  \"\"\"\u001b[39;00m\n\u001b[0;32m      3\u001b[0m \u001b[38;5;28mprint\u001b[39m(start)\n\u001b[1;32m----> 4\u001b[0m \u001b[43mcount_down\u001b[49m\u001b[43m(\u001b[49m\u001b[43mstart\u001b[49m\u001b[38;5;241;43m-\u001b[39;49m\u001b[38;5;241;43m1\u001b[39;49m\u001b[43m)\u001b[49m\n",
      "    \u001b[1;31m[... skipping similar frames: count_down at line 4 (2966 times)]\u001b[0m\n",
      "Cell \u001b[1;32mIn[1], line 4\u001b[0m, in \u001b[0;36mcount_down\u001b[1;34m(start)\u001b[0m\n\u001b[0;32m      2\u001b[0m \u001b[38;5;250m\u001b[39m\u001b[38;5;124;03m\"\"\" Count down from a number  \"\"\"\u001b[39;00m\n\u001b[0;32m      3\u001b[0m \u001b[38;5;28mprint\u001b[39m(start)\n\u001b[1;32m----> 4\u001b[0m \u001b[43mcount_down\u001b[49m\u001b[43m(\u001b[49m\u001b[43mstart\u001b[49m\u001b[38;5;241;43m-\u001b[39;49m\u001b[38;5;241;43m1\u001b[39;49m\u001b[43m)\u001b[49m\n",
      "Cell \u001b[1;32mIn[1], line 3\u001b[0m, in \u001b[0;36mcount_down\u001b[1;34m(start)\u001b[0m\n\u001b[0;32m      1\u001b[0m \u001b[38;5;28;01mdef\u001b[39;00m \u001b[38;5;21mcount_down\u001b[39m(start):\n\u001b[0;32m      2\u001b[0m \u001b[38;5;250m    \u001b[39m\u001b[38;5;124;03m\"\"\" Count down from a number  \"\"\"\u001b[39;00m\n\u001b[1;32m----> 3\u001b[0m     \u001b[38;5;28mprint\u001b[39m(start)\n\u001b[0;32m      4\u001b[0m     count_down(start\u001b[38;5;241m-\u001b[39m\u001b[38;5;241m1\u001b[39m)\n",
      "File \u001b[1;32m~\\AppData\\Local\\Programs\\Python\\Python311\\Lib\\site-packages\\ipykernel\\iostream.py:681\u001b[0m, in \u001b[0;36mOutStream.write\u001b[1;34m(self, string)\u001b[0m\n\u001b[0;32m    678\u001b[0m     msg \u001b[38;5;241m=\u001b[39m \u001b[38;5;124m\"\u001b[39m\u001b[38;5;124mI/O operation on closed file\u001b[39m\u001b[38;5;124m\"\u001b[39m\n\u001b[0;32m    679\u001b[0m     \u001b[38;5;28;01mraise\u001b[39;00m \u001b[38;5;167;01mValueError\u001b[39;00m(msg)\n\u001b[1;32m--> 681\u001b[0m is_child \u001b[38;5;241m=\u001b[39m \u001b[38;5;129;01mnot\u001b[39;00m \u001b[38;5;28;43mself\u001b[39;49m\u001b[38;5;241;43m.\u001b[39;49m\u001b[43m_is_master_process\u001b[49m\u001b[43m(\u001b[49m\u001b[43m)\u001b[49m\n\u001b[0;32m    682\u001b[0m \u001b[38;5;66;03m# only touch the buffer in the IO thread to avoid races\u001b[39;00m\n\u001b[0;32m    683\u001b[0m \u001b[38;5;28;01mwith\u001b[39;00m \u001b[38;5;28mself\u001b[39m\u001b[38;5;241m.\u001b[39m_buffer_lock:\n",
      "File \u001b[1;32m~\\AppData\\Local\\Programs\\Python\\Python311\\Lib\\site-packages\\ipykernel\\iostream.py:551\u001b[0m, in \u001b[0;36mOutStream._is_master_process\u001b[1;34m(self)\u001b[0m\n\u001b[0;32m    550\u001b[0m \u001b[38;5;28;01mdef\u001b[39;00m \u001b[38;5;21m_is_master_process\u001b[39m(\u001b[38;5;28mself\u001b[39m):\n\u001b[1;32m--> 551\u001b[0m     \u001b[38;5;28;01mreturn\u001b[39;00m \u001b[43mos\u001b[49m\u001b[38;5;241;43m.\u001b[39;49m\u001b[43mgetpid\u001b[49m\u001b[43m(\u001b[49m\u001b[43m)\u001b[49m \u001b[38;5;241m==\u001b[39m \u001b[38;5;28mself\u001b[39m\u001b[38;5;241m.\u001b[39m_master_pid\n",
      "\u001b[1;31mRecursionError\u001b[0m: maximum recursion depth exceeded while calling a Python object"
     ]
    }
   ],
   "source": [
    "\n",
    "def count_down(start):\n",
    "    \"\"\" Count down from a number  \"\"\"\n",
    "    print(start)\n",
    "    count_down(start-1)\n",
    "\n",
    "\n",
    "count_down(3)\n"
   ]
  },
  {
   "cell_type": "markdown",
   "id": "34b50eb7-2eaf-4cad-ac91-0319d87f3ce4",
   "metadata": {},
   "source": [
    "If you scroll down the output tab, you'll see the following error :\n",
    "\n",
    "<div style=\"border: 1px solid pink; padding: 10px; background-color: #fff6f6; margin-left: 50px\">\n",
    "    \n",
    "**RecursionError**: maximum recursion depth exceeded while calling a Python object\n",
    "\n",
    "</div>\n",
    "\n",
    "<br>\n",
    "\n",
    "<span style=\"background-color: #CAFEFD\">&nbsp;The reason is that the <span style=\"background-color: #FBE2FF; color: red;\"><strong>&nbsp;count_down( )&nbsp;</strong></span> calls itself **indefinitely** until the system stops it.&nbsp;</span>\n",
    "\n",
    "Since you need to stop counting down the number when it reaches zero **to avoid this infinite loop**, you add a condition like this:"
   ]
  },
  {
   "cell_type": "code",
   "execution_count": null,
   "id": "6b12f54f-0b22-413c-a7f4-503fc526f5e9",
   "metadata": {},
   "outputs": [],
   "source": [
    "\n",
    "def count_down(start):\n",
    "    \"\"\" Count down from a number  \"\"\"\n",
    "    print(start)\n",
    "\n",
    "    # call the count_down if the next number is greater than 0\n",
    "    next = start - 1\n",
    "    if next > 0:\n",
    "        count_down(next)\n",
    "\n",
    "\n",
    "count_down(3)\n"
   ]
  },
  {
   "cell_type": "markdown",
   "id": "3f96e85f-8abc-4ad2-81af-e4eb3e0d40c2",
   "metadata": {},
   "source": [
    "<br>\n",
    "\n",
    "<span style=\"background-color: #F5C0FF\"> **2) Using a recursive function to calculate the sum of a sequence**</span>\n",
    "\n",
    "Suppose that you need to calculate a sum of a sequence e.g., from 1 to 100. A simple way to do this is to use a <span style=\"color: blue\">for loop with the range( ) function</span> :\n"
   ]
  },
  {
   "cell_type": "code",
   "execution_count": 150,
   "id": "e654f9ea-cd52-4b5f-aa8c-7e86e49035b4",
   "metadata": {},
   "outputs": [
    {
     "name": "stdout",
     "output_type": "stream",
     "text": [
      "5050\n"
     ]
    }
   ],
   "source": [
    "\n",
    "\n",
    "def total_sum(n):   # Avoid naming a custom function with a name matching with a keyword in python.  That's why we don't use the name sum()\n",
    "    total = 0\n",
    "    #for index in range(n+1):        # To calculate 0 + 1 + 2 + 3 + 4 + .... + 99 + 100\n",
    "    for index in range(1,n+1):       # To calculate 1 + 2 + 3 + 4 + .... + 99 + 100\n",
    "        total += index\n",
    "\n",
    "    return total\n",
    "\n",
    "\n",
    "result = total_sum(100)\n",
    "print(result)\n",
    "\n"
   ]
  },
  {
   "cell_type": "markdown",
   "id": "d5f1a0a8-f0f3-4fbd-830a-f1363e13e762",
   "metadata": {},
   "source": [
    "<br>\n",
    "\n",
    "To apply the **recursion** technique, you can calculate the sum of the sequence from 1 to n as follows : \n",
    "\n",
    "<div style=\"color: #DA00CA; font-size: larger\">\n",
    "sum(n) = n + sum(n-1)        <br>\n",
    "sum(n-1) = n-1 + sum(n-2)    <br>\n",
    "…                            <br>\n",
    "sum(0) = 0                   <br>\n",
    "\n",
    "</div>\n",
    "\n",
    "<br>"
   ]
  },
  {
   "cell_type": "code",
   "execution_count": 151,
   "id": "0619d19b-6abc-477c-a13e-3edf072d93b5",
   "metadata": {},
   "outputs": [
    {
     "name": "stdout",
     "output_type": "stream",
     "text": [
      "5050\n"
     ]
    }
   ],
   "source": [
    "\n",
    "# write a recursive function in python to calculate the sum of sequence [1, 2, 3, 4, ..., 100]\n",
    "\n",
    "def total_sum(n):      # Avoid naming a custom function with a name matching with a keyword in python.  That's why we don't use the name sum()\n",
    "    if n > 0:\n",
    "        return n + total_sum(n-1)\n",
    "    return 0  # base condition\n",
    "\n",
    "result = total_sum(100)\n",
    "print(result)\n"
   ]
  },
  {
   "cell_type": "code",
   "execution_count": 152,
   "id": "ae365ec5-c161-4609-bd05-207adf04768a",
   "metadata": {},
   "outputs": [
    {
     "name": "stdout",
     "output_type": "stream",
     "text": [
      "sum of sequence from 1 to 100 is 5050\n",
      "\n",
      "sum of sequence from 1 to 100 is 5562\n"
     ]
    }
   ],
   "source": [
    "\n",
    "# write a recursive function in python to calculate the sum of sequence [3, 6, 7, 8..., 104, 105]\n",
    "\n",
    "def total_sum(start, end):      # Avoid naming a custom function with a name matching with a keyword in python.  That's why we don't use the name sum()\n",
    "    if end > start:\n",
    "        return end + total_sum(start,end-1)\n",
    "    return start   # base condition\n",
    "\n",
    "\n",
    "print(f\"sum of sequence from 1 to 100 is {sum(1,100)}\")      # 1 + 2 + 3 + 4 + .... + 99 + 100\n",
    "print()\n",
    "print(f\"sum of sequence from 1 to 100 is {sum(3,105)}\")      # 3 + 4 + 5 + 6 + .... + 104 + 105\n"
   ]
  },
  {
   "cell_type": "markdown",
   "id": "d4121628-bb6d-4ff1-9295-e1cf10ff22ae",
   "metadata": {},
   "source": [
    "<br>\n",
    "\n",
    "As you can see, the recursive function is much shorter and more readable.\n",
    "\n",
    "If you use the <span style=\"color: blue\">ternary operator</span>, the <span style=\"background-color: #FBE2FF; color: red;\"><strong>&nbsp;sum( )&nbsp;</strong></span> will be even more concise:"
   ]
  },
  {
   "cell_type": "code",
   "execution_count": 155,
   "id": "94ec8a96-8be4-4639-8313-ca074ad41e94",
   "metadata": {},
   "outputs": [
    {
     "name": "stdout",
     "output_type": "stream",
     "text": [
      "5050\n"
     ]
    }
   ],
   "source": [
    "\n",
    "\n",
    "def total_sum(n):    # Avoid naming a custom function with a name matching with a keyword in python.  That's why we don't use the name sum()\n",
    "    return n + total_sum(n-1) if n > 0 else 0\n",
    "\n",
    "\n",
    "result = total_sum(100)\n",
    "print(result)\n",
    "\n"
   ]
  },
  {
   "cell_type": "code",
   "execution_count": 157,
   "id": "e366337f-7e92-4562-91c4-a41a10778b26",
   "metadata": {},
   "outputs": [
    {
     "name": "stdout",
     "output_type": "stream",
     "text": [
      "sum of sequence from 1 to 100 is 5050\n",
      "\n",
      "sum of sequence from 1 to 100 is 5562\n"
     ]
    }
   ],
   "source": [
    "\n",
    "\n",
    "def total_sum(start, end):   # Avoid naming a custom function with a name matching with a keyword in python.  That's why we don't use the name sum()\n",
    "    return end + total_sum(start,end-1) if end > start else start\n",
    "\n",
    "\n",
    "print(f\"sum of sequence from 1 to 100 is {total_sum(1,100)}\")      # 1 + 2 + 3 + 4 + .... + 99 + 100\n",
    "print()\n",
    "print(f\"sum of sequence from 1 to 100 is {total_sum(3,105)}\")      # 3 + 4 + 5 + 6 + .... + 104 + 105\n",
    "\n"
   ]
  },
  {
   "cell_type": "code",
   "execution_count": null,
   "id": "1b3e394e-3dda-48ce-a697-6a0a31927537",
   "metadata": {},
   "outputs": [],
   "source": []
  },
  {
   "cell_type": "markdown",
   "id": "b48b926e-ad2e-4e85-9955-3c18e7d00bdd",
   "metadata": {},
   "source": [
    "<br>\n",
    "\n",
    "<br>\n",
    "\n",
    "<span style=\"color: blue\"> █ █ █ █ █ █ █ █ █ █ █ █ █ █ █ █ █ █ █ █ █ █ █ █ █ █ █ █ █ █  █ █ █ █ █ █ █ █ █ █ █ █ █ █ █ █ █ █ █ █ █ █ █ █  █ █ █ █ █ █ █ █ █ █ █ █ █ █ █ █ █ █ █ █ █ █ █ █  </span>\n",
    "\n",
    "<br>\n",
    "\n",
    "<br>\n",
    "\n",
    "<br>\n",
    "\n",
    "# <u>Python Lambda Expressions</u>\n",
    "\n",
    "<br>\n",
    "\n",
    "### 1. <span style=\"background-color: yellow;\">What are Python lambda expressions</span> \n",
    "\n",
    "<br>\n",
    "\n",
    "<div style=\"border: 1px solid pink; padding: 10px; background-color: #fff6f6\">\n",
    "    \n",
    "Lambda expressions are **anonymous functions** defined using the <span style=\"background-color: #FBE2FF; color: red;\"><strong>&nbsp;lambda&nbsp;</strong></span> keyword, typically used for short, one-time operations where defining a named function with the <span style=\"background-color: #FBE2FF; color: red;\"><strong>&nbsp;def&nbsp;</strong></span> keyword is unnecessary. <br>\n",
    "\n",
    "A lambda expression typically contains one or more arguments, **but it can have only one expression**.\n",
    "\n",
    "A lambda expression is also sometimes known as **lambda operator** or **lambda function**.\n",
    "\n",
    "Lambda expressions are used to create small one-line functions in cases where a normal function would be an overkill.\n",
    "\n",
    "</div>\n",
    "\n",
    "<br>\n",
    "\n",
    "<br>\n",
    "\n",
    "The following shows the <span style=\"background-color: #CAFEFD\">lambda expression **syntax**</span> :\n",
    "\n",
    "<div style=\"border: 1px solid pink; padding: 10px; background-color: #fff6f6\">\n",
    "\n",
    "**<span style=\"font-size: larger\"><span style=\"color: green\">lambda</span> &nbsp;paramters<span style=\"color: red\">:</span> &nbsp;expression</span>**\n",
    "\n",
    "</div>\n",
    "\n",
    "<br>\n",
    "\n",
    "It’s equivalent to the following function without the &nbsp;<span style=\"background-color: #FBE2FF; color: red;\"><strong>&nbsp;\"anonymous\"&nbsp;</strong></span>&nbsp; name:\n",
    "\n",
    "<br>\n",
    "\n",
    "<div style=\"border: 1px solid pink; padding: 10px; background-color: #fff6f6\">\n",
    "\n",
    "**<span style=\"color: green\">def</span> &nbsp;<span style=\"color: blue\">anonymous(</span>&nbsp;parameters&nbsp;<span style=\"color: blue\">):</span>** <br>\n",
    "&nbsp;&nbsp;&nbsp;&nbsp;&nbsp;&nbsp;&nbsp;&nbsp;&nbsp;**return expression**\n",
    "\n",
    "</div>\n"
   ]
  },
  {
   "cell_type": "markdown",
   "id": "66ccd833-a87c-4d76-b6fb-b21eb1f6fa45",
   "metadata": {},
   "source": [
    "<br>\n",
    "\n",
    "<br>\n",
    "\n",
    "### 2. <span style=\"background-color: yellow;\">Important Characteristics through Python Lambda Expression examples</span>\n",
    "\n",
    "<br>\n",
    "\n",
    "<font size=\"+2\"><span style=\"color: #F7057E\">••••••••••••••••••••••••••••••••••••••••••••••••••••••••••••••••••••••••••••••••••••••••••••••••••••••••••••</span></font>\n",
    "<br>\n",
    "\n",
    "<span style=\"font-size: larger; color: #08B61A\">**No Statements Allowed**</span>\n",
    "\n",
    "<br>\n",
    "\n",
    "A **lambda function can not contain any statements in its body**. Statements such as **return**, **raise**, **pass**, or **assert** in a lambda function will raise a **SyntaxError**. <br>\n",
    "Here is an example of a lambda function containing assert:\n",
    "\n",
    "<br>\n",
    "\n",
    "\n",
    "<div style=\"border: 1px solid pink; padding: 10px; background-color: #fff6f6\">\n",
    "    \n",
    "<font size=\"+1\">doubler &nbsp;=&nbsp; <span style=\"color: blue\">lambda</span> &nbsp;x&nbsp;: &nbsp;<span style=\"color: blue\">assert</span> &nbsp;x*2</font>\n",
    "\n",
    "</div>\n",
    "\n",
    "<br>\n",
    "\n",
    "<br>\n",
    "\n",
    "<br>\n",
    "\n",
    "<font size=\"+2\"><span style=\"color: #F7057E\">••••••••••••••••••••••••••••••••••••••••••••••••••••••••••••••••••••••••••••••••••••••••••••••••••••••••••••</span></font>\n",
    "<br>\n",
    "\n"
   ]
  },
  {
   "cell_type": "markdown",
   "id": "a1356b75-3f0e-489a-8aa4-169b720161fe",
   "metadata": {},
   "source": [
    "\n",
    "<span style=\"font-size: larger; color: #08B61A\">**Single Expression Only**</span>\n",
    "\n",
    "<br>\n",
    "\n",
    "Unlike a normal function, **a lambda function contains only a single expression**.\n",
    "\n",
    "Although, you can spread the expression over multiple lines using parentheses or a multiline string, but it should only remain as a single expression.\n",
    "\n",
    "<br>\n",
    "\n",
    "<font size=\"+1\">↳⭐</font> **2.1** ===> <span style=\"background-color: #CAFEFD\">&nbsp;**check if a number is odd or even** using multiline lambda expression&nbsp;</span>\n"
   ]
  },
  {
   "cell_type": "code",
   "execution_count": 158,
   "id": "2ee82395-2713-471e-bcc4-0b3a2d558009",
   "metadata": {},
   "outputs": [
    {
     "name": "stdout",
     "output_type": "stream",
     "text": [
      "even\n",
      "odd\n"
     ]
    }
   ],
   "source": [
    "\n",
    "evenOdd = (lambda x:\n",
    "           'odd' if x%2 else 'even')\n",
    "\n",
    "print(evenOdd(2))   # Prints even\n",
    "\n",
    "print(evenOdd(3))   # Prints odd\n"
   ]
  },
  {
   "cell_type": "markdown",
   "id": "9a3d578c-7469-4438-bb53-2ee99dfaa939",
   "metadata": {},
   "source": [
    "<br>\n",
    "\n",
    "<br>\n",
    "\n",
    "<font size=\"+2\"><span style=\"color: #F7057E\">••••••••••••••••••••••••••••••••••••••••••••••••••••••••••••••••••••••••••••••••••••••••••••••••••••••••••••</span></font>\n",
    "<br>\n",
    "\n",
    "<span style=\"font-size: larger; color: #08B61A\">**Immediately Invoked Function Expression (IIFE)**</span>\n",
    "\n",
    "<br>\n",
    "\n",
    "**A lambda function can be immediately invoked**. For this reason it is often referred to as an Immediately Invoked Function Expression (IIFE).\n",
    "\n",
    "Here’s the same previously seen ‘doubler’ lambda function that is defined and then **called immediately with 3 as an argument**.\n",
    "\n",
    "<br>\n",
    "\n",
    "<font size=\"+1\">↳⭐</font> **2.2** ===> <span style=\"background-color: #CAFEFD\">&nbsp;**double a number** using lambda function&nbsp;</span>\n"
   ]
  },
  {
   "cell_type": "code",
   "execution_count": 159,
   "id": "7e8c34fd-e5cd-498c-a069-828adfe03882",
   "metadata": {},
   "outputs": [
    {
     "name": "stdout",
     "output_type": "stream",
     "text": [
      "6\n"
     ]
    }
   ],
   "source": [
    "\n",
    "print((lambda x: x*2)(3))   # Prints 6\n"
   ]
  },
  {
   "cell_type": "markdown",
   "id": "19d0322d-8a57-462a-a70d-e8af2ee77f7a",
   "metadata": {},
   "source": [
    "<br>\n",
    "\n",
    "<br>\n",
    "\n",
    "<font size=\"+2\"><span style=\"color: #F7057E\">••••••••••••••••••••••••••••••••••••••••••••••••••••••••••••••••••••••••••••••••••••••••••••••••••••••••••••</span></font>\n",
    "<br>"
   ]
  },
  {
   "cell_type": "markdown",
   "id": "dbdc25c4-519a-48ac-b08b-2c19d19bf88e",
   "metadata": {},
   "source": [
    "<font size=\"+1\">↳⭐</font> **2.3** ===> <span style=\"background-color: #CAFEFD\">&nbsp;**calculate the square of a number** using lambda function&nbsp;</span>"
   ]
  },
  {
   "cell_type": "code",
   "execution_count": 160,
   "id": "643e0758-8169-4fce-8289-a7c04d1985e8",
   "metadata": {},
   "outputs": [
    {
     "name": "stdout",
     "output_type": "stream",
     "text": [
      "25\n"
     ]
    }
   ],
   "source": [
    "\n",
    "# Calculating the square of a number\n",
    "\n",
    "square = lambda x: x**2\n",
    "\n",
    "result = square(5)\n",
    "\n",
    "print(result)  \n"
   ]
  },
  {
   "cell_type": "markdown",
   "id": "5ff2124d-15c9-4292-a39d-166d9fbaf513",
   "metadata": {},
   "source": [
    "<br>\n",
    "\n",
    "<br>\n",
    "\n",
    "🔶  ➜ <span style=\"color: blue\">**Unlike a regular function where we can return value(s), a lambda function <span style=\"background-color: #FBE2FF\"><span style = \"color: red\">does not return any value, rather it returns the whole function itself</span>**.\n",
    "\n",
    "To confirm, let's check:"
   ]
  },
  {
   "cell_type": "code",
   "execution_count": 161,
   "id": "be4105eb-e459-4494-a489-41b70bad6e25",
   "metadata": {},
   "outputs": [
    {
     "data": {
      "text/plain": [
       "function"
      ]
     },
     "execution_count": 161,
     "metadata": {},
     "output_type": "execute_result"
    }
   ],
   "source": [
    "\n",
    "type(square)\n"
   ]
  },
  {
   "cell_type": "code",
   "execution_count": 162,
   "id": "e994e4c3-6c0a-4422-8e76-ab3096a6383e",
   "metadata": {},
   "outputs": [
    {
     "name": "stdout",
     "output_type": "stream",
     "text": [
      "<class 'function'>\n"
     ]
    }
   ],
   "source": [
    "\n",
    "print(type(square))\n"
   ]
  },
  {
   "cell_type": "markdown",
   "id": "3b853e7c-f476-4c18-aead-50310dc25d79",
   "metadata": {},
   "source": [
    "<br>\n",
    "\n",
    "<font size=\"+1\">↳⭐</font> **2.4** ===> <span style=\"background-color: #CAFEFD\">&nbsp;**check if a number is even** using lambda function&nbsp;</span>"
   ]
  },
  {
   "cell_type": "code",
   "execution_count": 163,
   "id": "4329a5e6-4015-447c-ac73-62ceef0d0a97",
   "metadata": {},
   "outputs": [
    {
     "name": "stdout",
     "output_type": "stream",
     "text": [
      "False\n"
     ]
    }
   ],
   "source": [
    "\n",
    "# Checking if a number is even:\n",
    "\n",
    "is_even = lambda x: x % 2 == 0\n",
    "\n",
    "# Call the lambda function\n",
    "result = is_even(7)\n",
    "\n",
    "print(result)  # Output: False  ===> 7 is not an even number\n"
   ]
  },
  {
   "cell_type": "markdown",
   "id": "103d4e36-08f4-4a5a-a138-a358292ac353",
   "metadata": {},
   "source": [
    "<br>\n",
    "\n",
    "<font size=\"+1\">↳⭐</font> **2.5** ===> <span style=\"background-color: #CAFEFD\">&nbsp;**convert a temperature from Celsius to Fahrenheit** using lambda function&nbsp;</span>"
   ]
  },
  {
   "cell_type": "code",
   "execution_count": 164,
   "id": "8014358f-c87f-4429-a59e-f86e4a4714ef",
   "metadata": {},
   "outputs": [
    {
     "name": "stdout",
     "output_type": "stream",
     "text": [
      "77.0\n"
     ]
    }
   ],
   "source": [
    "\n",
    "# Converting temperature from Celsius to Fahrenheit:\n",
    "\n",
    "celsius_to_fahrenheit = lambda celsius: celsius * 9/5 + 32\n",
    "\n",
    "# Call the lambda function\n",
    "result = celsius_to_fahrenheit(25)\n",
    "\n",
    "print(result)  # Output: 77.0\n"
   ]
  },
  {
   "cell_type": "markdown",
   "id": "0409e778-7da1-48fb-8fdd-6786f22a1875",
   "metadata": {},
   "source": [
    "<br>\n",
    "\n",
    "<font size=\"+1\">↳⭐</font> **2.6** ===> <span style=\"background-color: #CAFEFD\">&nbsp;**add a number to 10** using lambda function&nbsp;</span>"
   ]
  },
  {
   "cell_type": "code",
   "execution_count": 165,
   "id": "cabb8f62-6b82-4c43-b0fa-9084824da0c7",
   "metadata": {},
   "outputs": [
    {
     "name": "stdout",
     "output_type": "stream",
     "text": [
      "15\n"
     ]
    }
   ],
   "source": [
    "\n",
    "x = lambda a: a + 10\n",
    "\n",
    "print(x(5))\n"
   ]
  },
  {
   "cell_type": "markdown",
   "id": "53c8ce75-5b9a-4e75-a28f-a96786963164",
   "metadata": {},
   "source": [
    "<br>\n",
    "\n",
    "<br>\n",
    "\n",
    "<font size=\"+2\"><span style=\"color: #F7057E\">••••••••••••••••••••••••••••••••••••••••••••••••••••••••••••••••••••••••••••••••••••••••••••••••••••••••••••</span></font>\n",
    "<br>\n",
    "\n",
    "<span style=\"font-size: larger; color: #08B61A\">**Multiple Arguments**</span>\n"
   ]
  },
  {
   "cell_type": "markdown",
   "id": "ec31687f-df5a-4eb6-a8f8-17e2c75c8c1b",
   "metadata": {},
   "source": [
    "<br>\n",
    "\n",
    "🔶  ➜ <span style=\"color: blue\">**Lambda functions can take <span style=\"background-color: #FBE2FF\"><span style = \"color: red\">any</span> number of arguments, just separate them with a comma <span style=\"background-color: yellow\">&nbsp;&nbsp;<font size=\"+1\">,&nbsp;&nbsp;</font></span></span> :**</span>\n",
    "\n",
    "<font size=\"+1\">↳⭐</font> **2.7** ===> <span style=\"background-color: #CAFEFD\">&nbsp;**add 2 numbers** using lambda function&nbsp;</span>"
   ]
  },
  {
   "cell_type": "code",
   "execution_count": 166,
   "id": "f150396d-ace4-44c2-96a9-7d8fd9d71951",
   "metadata": {},
   "outputs": [
    {
     "name": "stdout",
     "output_type": "stream",
     "text": [
      "7\n"
     ]
    }
   ],
   "source": [
    "\n",
    "add = lambda x, y: x + y\n",
    "\n",
    "result = add(3, 4)\n",
    "\n",
    "print(result) \n"
   ]
  },
  {
   "cell_type": "markdown",
   "id": "a7be213c-a799-4318-bb0e-b877caf50093",
   "metadata": {},
   "source": [
    "<br>\n",
    "\n",
    "<font size=\"+1\">↳⭐</font> **2.8** ===> <span style=\"background-color: #CAFEFD\">&nbsp;**add 3 numbers** using lambda function&nbsp;</span>"
   ]
  },
  {
   "cell_type": "code",
   "execution_count": 167,
   "id": "b4e1b898-7fd5-4b1b-8e4f-2741a6e642f4",
   "metadata": {},
   "outputs": [
    {
     "name": "stdout",
     "output_type": "stream",
     "text": [
      "13\n"
     ]
    }
   ],
   "source": [
    "\n",
    "x = lambda a, b, c : a + b + c\n",
    "\n",
    "print(x(5, 6, 2))\n"
   ]
  },
  {
   "cell_type": "markdown",
   "id": "4a39ce5e-6a81-4067-b9f3-9cb58c65bb74",
   "metadata": {},
   "source": [
    "<br>\n",
    "\n",
    "<br>\n",
    "\n",
    "<font size=\"+2\"><span style=\"color: #F7057E\">••••••••••••••••••••••••••••••••••••••••••••••••••••••••••••••••••••••••••••••••••••••••••••••••••••••••••••</span></font>\n",
    "<br>"
   ]
  },
  {
   "cell_type": "markdown",
   "id": "09f2ddbf-1fea-4456-81d7-fec4a288fbb3",
   "metadata": {},
   "source": [
    "<br>\n",
    "\n",
    "🔶  ➜ **<span style=\"color: blue\">Lambda functions can have  <span style=\"background-color: #FBE2FF\"><span style = \"color: red\">default arguments</span></span>:**\n",
    "\n",
    "<br>\n",
    "\n",
    "<font size=\"+1\">↳⭐</font> **2.9** ===> <span style=\"background-color: #CAFEFD\">&nbsp;Given a number, use lambda function to calculate **3 times the number** and if not given any number, calculate **3 times 2**&nbsp;</span>"
   ]
  },
  {
   "cell_type": "code",
   "execution_count": 60,
   "id": "4645996d-7bc4-451f-8e75-bc1874bcdd0c",
   "metadata": {},
   "outputs": [
    {
     "name": "stdout",
     "output_type": "stream",
     "text": [
      "2 **  3 = 8\n",
      "5 **  3 = 125\n"
     ]
    }
   ],
   "source": [
    "\n",
    "result = lambda x=2: x**3        # 2 is the default value of x\n",
    "\n",
    "print(\"2 **  3 =\",result()) \n",
    "\n",
    "print(\"5 **  3 =\",result(5))     # it overwrites the default value with 5 \n"
   ]
  },
  {
   "cell_type": "markdown",
   "id": "d22982dd-17b4-41f7-8a69-34ac1d3a28dd",
   "metadata": {},
   "source": [
    "<br>\n",
    "\n",
    "<br>\n",
    "\n",
    "<font size=\"+2\"><span style=\"color: #F7057E\">••••••••••••••••••••••••••••••••••••••••••••••••••••••••••••••••••••••••••••••••••••••••••••••••••••••••••••</span></font>\n",
    "<br>\n",
    "\n",
    "<span style=\"font-size: larger; color: #08B61A\">**Ways to Pass Arguments**</span>\n",
    "\n",
    "<br>\n",
    "\n",
    "Like a normal function, a lambda function supports all the different ways of passing arguments. This includes: <br>\n",
    "\n",
    "\n",
    "<div style=\"border: 1px solid pink; padding: 10px; background-color: #fff6f6\">\n",
    "    \n",
    "<font size=\"+1\"><span style=\"color: red\">➜</span>&nbsp;&nbsp;Positional arguments</font>                         <br>\n",
    "<font size=\"+1\"><span style=\"color: red\">➜</span>&nbsp;&nbsp;Keyword arguments</font>                            <br>\n",
    "<font size=\"+1\"><span style=\"color: red\">➜</span>&nbsp;&nbsp;Default argument</font>                             <br>\n",
    "<font size=\"+1\"><span style=\"color: red\">➜</span>&nbsp;&nbsp;Variable list of arguments (*args)</font>           <br>\n",
    "<font size=\"+1\"><span style=\"color: red\">➜</span>&nbsp;&nbsp;Variable list of keyword arguments (**args)</font>  <br>\n",
    "\n",
    "</div>\n",
    "\n",
    "\n",
    "<br>\n",
    "\n",
    "The following examples illustrate various options for passing arguments to the lambda function:\n",
    "\n",
    "<font size=\"+1\">↳⭐</font> **2.10** ===> <span style=\"background-color: #CAFEFD\">&nbsp;**Caculate the sum of 3 numbers** using lambda function&nbsp;</span>\n"
   ]
  },
  {
   "cell_type": "code",
   "execution_count": 24,
   "id": "a791c4bb-2c04-4465-b245-8144f69070cf",
   "metadata": {},
   "outputs": [
    {
     "name": "stdout",
     "output_type": "stream",
     "text": [
      "sum of values passed through positional arguments ======================================> 9\n",
      "sum of values passed through keyword arguments =========================================> 9\n",
      "sum of values passed through default arguments =========================================> 9\n",
      "sum of values passed through variable list of arguments ================================> 9\n",
      "sum of values passed through variable list of keyword arguments ========================> 9\n",
      "sum of values passed through variable list of both positional and keyword arguments ====> 9\n"
     ]
    }
   ],
   "source": [
    "\n",
    "# Positional arguments\n",
    "add = lambda x, y, z: x+y+z\n",
    "print(\"sum of values passed through positional arguments ======================================>\", add(2, 3, 4))  \n",
    "\n",
    "\n",
    "# Keyword arguments\n",
    "add = lambda x, y, z: x+y+z\n",
    "print(\"sum of values passed through keyword arguments =========================================>\", add(2, z=3, y=4))   \n",
    "\n",
    "\n",
    "# Default arguments\n",
    "add = lambda x, y=3, z=4: x+y+z\n",
    "print(\"sum of values passed through default arguments =========================================>\", add(2)) \n",
    "\n",
    "\n",
    "# *args\n",
    "add = lambda *args: sum(args)                                      # using the built-in function sum( )\n",
    "print(\"sum of values passed through variable list of arguments ================================>\", add(2, 3, 4)) \n",
    "\n",
    "\n",
    "# **kwargs\n",
    "add = lambda **kwargs: sum(kwargs.values())                        # using the built-in function sum( )\n",
    "print(\"sum of values passed through variable list of keyword arguments ========================>\", add(x=2, y=3, z=4))  \n",
    "\n",
    "\n",
    "# using both *args and **kwargs\n",
    "add = lambda *args, **kwargs: sum(args) + sum(kwargs.values())     # using the built-in function sum( )\n",
    "print(\"sum of values passed through variable list of both positional and keyword arguments ====>\", add(2, x=3, y=4))   \n"
   ]
  },
  {
   "cell_type": "markdown",
   "id": "231e03b2-fa43-4d3a-b6b5-fe2ce90487dd",
   "metadata": {},
   "source": [
    "<br>\n",
    "\n",
    "**<font size=\"+1\">⚠️</font> &nbsp;Avoid naming a custom function with a name matching with a keyword in python**. <br>\n",
    "Let's use the name sum( ) while defining a custom function and see how it will cause problems when we mean to call built-in function with the same name i.e, sum() :\n",
    "\n"
   ]
  },
  {
   "cell_type": "code",
   "execution_count": 30,
   "id": "092fc91e-75bf-41d8-938c-cf799a713fc1",
   "metadata": {},
   "outputs": [
    {
     "name": "stdout",
     "output_type": "stream",
     "text": [
      "5050\n",
      "\n"
     ]
    },
    {
     "ename": "TypeError",
     "evalue": "'>' not supported between instances of 'tuple' and 'int'",
     "output_type": "error",
     "traceback": [
      "\u001b[1;31m---------------------------------------------------------------------------\u001b[0m",
      "\u001b[1;31mTypeError\u001b[0m                                 Traceback (most recent call last)",
      "Cell \u001b[1;32mIn[30], line 13\u001b[0m\n\u001b[0;32m     11\u001b[0m \u001b[38;5;66;03m# definign a lambda function\u001b[39;00m\n\u001b[0;32m     12\u001b[0m add \u001b[38;5;241m=\u001b[39m \u001b[38;5;28;01mlambda\u001b[39;00m \u001b[38;5;241m*\u001b[39margs: \u001b[38;5;28msum\u001b[39m(args)       \u001b[38;5;66;03m# I intended to use the built-in function sum( ) here but ended up calling the custom function sum() defined above\u001b[39;00m\n\u001b[1;32m---> 13\u001b[0m \u001b[38;5;28mprint\u001b[39m(\u001b[43madd\u001b[49m\u001b[43m(\u001b[49m\u001b[38;5;241;43m2\u001b[39;49m\u001b[43m,\u001b[49m\u001b[43m \u001b[49m\u001b[38;5;241;43m3\u001b[39;49m\u001b[43m,\u001b[49m\u001b[43m \u001b[49m\u001b[38;5;241;43m4\u001b[39;49m\u001b[43m)\u001b[49m)\n",
      "Cell \u001b[1;32mIn[30], line 12\u001b[0m, in \u001b[0;36m<lambda>\u001b[1;34m(*args)\u001b[0m\n\u001b[0;32m      8\u001b[0m \u001b[38;5;28mprint\u001b[39m(result, end\u001b[38;5;241m=\u001b[39m\u001b[38;5;124m\"\u001b[39m\u001b[38;5;130;01m\\n\u001b[39;00m\u001b[38;5;130;01m\\n\u001b[39;00m\u001b[38;5;124m\"\u001b[39m)           \u001b[38;5;66;03m#  5050\u001b[39;00m\n\u001b[0;32m     11\u001b[0m \u001b[38;5;66;03m# definign a lambda function\u001b[39;00m\n\u001b[1;32m---> 12\u001b[0m add \u001b[38;5;241m=\u001b[39m \u001b[38;5;28;01mlambda\u001b[39;00m \u001b[38;5;241m*\u001b[39margs: \u001b[38;5;28;43msum\u001b[39;49m\u001b[43m(\u001b[49m\u001b[43margs\u001b[49m\u001b[43m)\u001b[49m       \u001b[38;5;66;03m# I intended to use the built-in function sum( ) here but ended up calling the custom function sum() defined above\u001b[39;00m\n\u001b[0;32m     13\u001b[0m \u001b[38;5;28mprint\u001b[39m(add(\u001b[38;5;241m2\u001b[39m, \u001b[38;5;241m3\u001b[39m, \u001b[38;5;241m4\u001b[39m))\n",
      "Cell \u001b[1;32mIn[30], line 3\u001b[0m, in \u001b[0;36msum\u001b[1;34m(n)\u001b[0m\n\u001b[0;32m      2\u001b[0m \u001b[38;5;28;01mdef\u001b[39;00m \u001b[38;5;21msum\u001b[39m(n):        \u001b[38;5;66;03m# it will overwrite the built-in sum() function\u001b[39;00m\n\u001b[1;32m----> 3\u001b[0m     \u001b[38;5;28;01mif\u001b[39;00m \u001b[43mn\u001b[49m\u001b[43m \u001b[49m\u001b[38;5;241;43m>\u001b[39;49m\u001b[43m \u001b[49m\u001b[38;5;241;43m0\u001b[39;49m:\n\u001b[0;32m      4\u001b[0m         \u001b[38;5;28;01mreturn\u001b[39;00m n \u001b[38;5;241m+\u001b[39m \u001b[38;5;28msum\u001b[39m(n\u001b[38;5;241m-\u001b[39m\u001b[38;5;241m1\u001b[39m)\n\u001b[0;32m      5\u001b[0m     \u001b[38;5;28;01mreturn\u001b[39;00m \u001b[38;5;241m0\u001b[39m\n",
      "\u001b[1;31mTypeError\u001b[0m: '>' not supported between instances of 'tuple' and 'int'"
     ]
    }
   ],
   "source": [
    "\n",
    "# defining a custom function sum()\n",
    "def sum(n):        # it will overwrite the built-in sum() function\n",
    "    if n > 0:\n",
    "        return n + sum(n-1)\n",
    "    return 0       # base condition\n",
    "\n",
    "result = sum(100)\n",
    "print(result, end=\"\\n\\n\")           #  5050\n",
    "\n",
    "\n",
    "# definign a lambda function\n",
    "add = lambda *args: sum(args)       # I intended to use the built-in function sum( ) here but ended up calling the custom function sum() defined above\n",
    "print(add(2, 3, 4))\n"
   ]
  },
  {
   "cell_type": "markdown",
   "id": "54c75344-35bb-4878-a004-963e0bcfb31d",
   "metadata": {},
   "source": [
    "<br>\n",
    "\n",
    "<span style=\"background-color: #F1FFEC\">I intended to use the built-in function sum( ) here but ended up calling the custom function sum( ) defined above. <br>\n",
    "And since it takes only 1 paramter i.e, int, so on passing 3 positional arguments with tuple unpacking operator *, it's throwing the **TypeError** as expected.</span>  <br>\n"
   ]
  },
  {
   "cell_type": "code",
   "execution_count": 102,
   "id": "e2904d84-8185-44ab-84bc-23f7c71734e5",
   "metadata": {},
   "outputs": [
    {
     "name": "stdout",
     "output_type": "stream",
     "text": [
      "7\n",
      "\n"
     ]
    },
    {
     "ename": "TypeError",
     "evalue": "sum() missing 1 required positional argument: 'b'",
     "output_type": "error",
     "traceback": [
      "\u001b[1;31m---------------------------------------------------------------------------\u001b[0m",
      "\u001b[1;31mTypeError\u001b[0m                                 Traceback (most recent call last)",
      "Cell \u001b[1;32mIn[102], line 11\u001b[0m\n\u001b[0;32m      9\u001b[0m \u001b[38;5;66;03m# definign a lambda function\u001b[39;00m\n\u001b[0;32m     10\u001b[0m add \u001b[38;5;241m=\u001b[39m \u001b[38;5;28;01mlambda\u001b[39;00m \u001b[38;5;241m*\u001b[39margs: \u001b[38;5;28msum\u001b[39m(args)       \u001b[38;5;66;03m# I intended to use the built-in function sum( ) here but ended up calling the custom function sum() defined above\u001b[39;00m\n\u001b[1;32m---> 11\u001b[0m \u001b[38;5;28mprint\u001b[39m(\u001b[43madd\u001b[49m\u001b[43m(\u001b[49m\u001b[38;5;241;43m2\u001b[39;49m\u001b[43m,\u001b[49m\u001b[43m \u001b[49m\u001b[38;5;241;43m3\u001b[39;49m\u001b[43m,\u001b[49m\u001b[43m \u001b[49m\u001b[38;5;241;43m4\u001b[39;49m\u001b[43m)\u001b[49m)\n",
      "Cell \u001b[1;32mIn[102], line 10\u001b[0m, in \u001b[0;36m<lambda>\u001b[1;34m(*args)\u001b[0m\n\u001b[0;32m      5\u001b[0m \u001b[38;5;28mprint\u001b[39m(result, end\u001b[38;5;241m=\u001b[39m\u001b[38;5;124m\"\u001b[39m\u001b[38;5;130;01m\\n\u001b[39;00m\u001b[38;5;130;01m\\n\u001b[39;00m\u001b[38;5;124m\"\u001b[39m)           \u001b[38;5;66;03m#  7\u001b[39;00m\n\u001b[0;32m      9\u001b[0m \u001b[38;5;66;03m# definign a lambda function\u001b[39;00m\n\u001b[1;32m---> 10\u001b[0m add \u001b[38;5;241m=\u001b[39m \u001b[38;5;28;01mlambda\u001b[39;00m \u001b[38;5;241m*\u001b[39margs: \u001b[38;5;28;43msum\u001b[39;49m\u001b[43m(\u001b[49m\u001b[43margs\u001b[49m\u001b[43m)\u001b[49m       \u001b[38;5;66;03m# I intended to use the built-in function sum( ) here but ended up calling the custom function sum() defined above\u001b[39;00m\n\u001b[0;32m     11\u001b[0m \u001b[38;5;28mprint\u001b[39m(add(\u001b[38;5;241m2\u001b[39m, \u001b[38;5;241m3\u001b[39m, \u001b[38;5;241m4\u001b[39m))\n",
      "\u001b[1;31mTypeError\u001b[0m: sum() missing 1 required positional argument: 'b'"
     ]
    }
   ],
   "source": [
    "\n",
    "def sum(a, b):   \n",
    "    return a + b\n",
    "\n",
    "result = sum(2,5)\n",
    "print(result, end=\"\\n\\n\")           #  7\n",
    "\n",
    "\n",
    "\n",
    "# definign a lambda function\n",
    "add = lambda *args: sum(args)       # I intended to use the built-in function sum( ) here but ended up calling the custom function sum() defined above\n",
    "print(add(2, 3, 4))\n"
   ]
  },
  {
   "cell_type": "markdown",
   "id": "09a84016-62f6-4a26-8d67-2de071e2db83",
   "metadata": {},
   "source": [
    "<br>\n",
    "\n",
    "<span style=\"background-color: #F1FFEC\">I intended to use the built-in function sum( ) here but ended up calling the custom function sum( ) defined above. <br>\n",
    "And since it takes only 1 paramter but passing 3 positional arguments, it's throwing the **TypeError** as expected.</span> \n",
    "\n",
    "<br>\n",
    "\n",
    "Whenever, you face a situation like this, always remember there might be another sum( ) function defined somewhere in your code or in a module you've imported that has different arguments. This could be conflicting with the built-in sum( ) function.  <br>\n",
    "\n",
    "<br>\n",
    "\n",
    "To troubleshoot, you can **try running the code in a fresh environment** or <span style=\"background-color: yellow\">**check if there are any other occurrences of the sum( ) function in your code or imported modules**</span>. Additionally, you can explicitly use the **built-in** sum() function to ensure there's no confusion:\n"
   ]
  },
  {
   "cell_type": "code",
   "execution_count": 103,
   "id": "4e5c7e16-b6a9-461a-af8f-959ce85d5019",
   "metadata": {},
   "outputs": [
    {
     "name": "stdout",
     "output_type": "stream",
     "text": [
      "7\n",
      "\n",
      "9\n"
     ]
    }
   ],
   "source": [
    "\n",
    "# defining a custom function sum()\n",
    "def sum(a, b):   \n",
    "    return a + b\n",
    "\n",
    "result = sum(2,5)\n",
    "print(result, end=\"\\n\\n\")           #  7\n",
    "\n",
    "\n",
    "\n",
    "# definign a lambda function\n",
    "add = lambda *args: __builtins__.sum(args)\n",
    "print(add(2, 3, 4))\n"
   ]
  },
  {
   "cell_type": "markdown",
   "id": "ac3a41f9-6389-475c-ae99-8b505014188d",
   "metadata": {},
   "source": [
    "<br> \n",
    "\n",
    "Also if you think you have mistakenly named a custom function same as some built-in function name, then **delete the custom function and rename it**: \n",
    "\n",
    "<br>"
   ]
  },
  {
   "cell_type": "code",
   "execution_count": 105,
   "id": "177424c3-7088-4178-81a2-d35cca43da35",
   "metadata": {},
   "outputs": [
    {
     "name": "stdout",
     "output_type": "stream",
     "text": [
      "7\n",
      "\n",
      "9\n"
     ]
    }
   ],
   "source": [
    "\n",
    "def sum(a, b):   \n",
    "    return a + b\n",
    "\n",
    "result = sum(2,5)\n",
    "print(result, end=\"\\n\\n\")           #  7\n",
    "\n",
    "\n",
    "del sum     # deleting the custom function\n",
    "\n",
    "\n",
    "# definign a lambda function\n",
    "add = lambda *args: __builtins__.sum(args)\n",
    "print(add(2, 3, 4))\n"
   ]
  },
  {
   "cell_type": "markdown",
   "id": "270ef4c6-eeb3-40e9-8fec-d7ed8cf08b27",
   "metadata": {},
   "source": [
    "<br>\n",
    "\n",
    "<br>\n",
    "\n",
    "<font size=\"+2\"><span style=\"color: #F7057E\">••••••••••••••••••••••••••••••••••••••••••••••••••••••••••••••••••••••••••••••••••••••••••••••••••••••••••••</span></font>\n",
    "<br>"
   ]
  },
  {
   "cell_type": "markdown",
   "id": "f715621b-be3e-4f03-85b2-e91834bca8a2",
   "metadata": {},
   "source": [
    "\n",
    "🔶  ➜ <span style=\"color: blue\">**In Python, you can a <span style=\"background-color: #F6DCF4\"><span style = \"color: red\">pass</span> a function to another function</span> or <span style=\"background-color: #F6DCF4\"><span style = \"color: red\">return</span> a function from another function</span>.**</span>\n",
    "\n",
    "#### ↳ &nbsp; 1) &nbsp; <span style=\"background-color: #F5C0FF;\">&nbsp;Functions that accept a function example&nbsp;</span>\n",
    "\n",
    "<br>\n",
    "\n",
    "The following defines a function called **get_full_name()** that format the **full name** from the **first name** and **last name** :"
   ]
  },
  {
   "cell_type": "code",
   "execution_count": 32,
   "id": "85595dc6-c29b-4896-b872-8d3fc9eaa9b0",
   "metadata": {},
   "outputs": [
    {
     "name": "stdout",
     "output_type": "stream",
     "text": [
      "Avinash Mishra\n",
      "\n",
      "Mishra, Avinash\n",
      "\n"
     ]
    }
   ],
   "source": [
    "\n",
    "def get_full_name(first_name, last_name, formatter):\n",
    "    return formatter(first_name, last_name)\n",
    "\n",
    "\n",
    "def first_last(first_name, last_name):\n",
    "    return f\"{first_name} {last_name}\"\n",
    "\n",
    "\n",
    "def last_first(first_name, last_name):\n",
    "    return f\"{last_name}, {first_name}\"\n",
    "\n",
    "\n",
    "full_name = get_full_name('Avinash', 'Mishra', first_last)\n",
    "print(full_name, end=\"\\n\\n\") # Avinash Mishra\n",
    "\n",
    "\n",
    "full_name = get_full_name('Avinash', 'Mishra', last_first)\n",
    "print(full_name, end=\"\\n\\n\") #  Mishra, Avinash\n"
   ]
  },
  {
   "cell_type": "markdown",
   "id": "9482acf7-ad27-4ada-9f45-992b4fd9ea89",
   "metadata": {},
   "source": [
    "<font size=\"+1\">↳⭐</font> **2.11** ===> <span style=\"background-color: #CAFEFD\">&nbsp;Instead of defining the **first_last** and **last_first** functions, you can use **lambda expressions** as follows :&nbsp;</span>"
   ]
  },
  {
   "cell_type": "code",
   "execution_count": 33,
   "id": "e8e9b7b3-d272-4c27-a7cc-ee2989e33183",
   "metadata": {},
   "outputs": [
    {
     "name": "stdout",
     "output_type": "stream",
     "text": [
      "Avinash Mishra\n",
      "\n",
      "Mishra, Avinash\n",
      "\n"
     ]
    }
   ],
   "source": [
    "\n",
    "def get_full_name(first_name, last_name, formatter):\n",
    "    return formatter(first_name, last_name)\n",
    "\n",
    "\n",
    "# first_last\n",
    "full_name = get_full_name(\n",
    "    'Avinash',\n",
    "    'Mishra',\n",
    "    lambda first_name, last_name: f\"{first_name} {last_name}\"\n",
    ")\n",
    "\n",
    "print(full_name, end = \"\\n\\n\")\n",
    "\n",
    "\n",
    "# last_first\n",
    "full_name = get_full_name(\n",
    "    'Avinash',\n",
    "    'Mishra',\n",
    "    lambda first_name, last_name: f\"{last_name}, {first_name}\"\n",
    ")\n",
    "\n",
    "print(full_name, end = \"\\n\\n\")\n"
   ]
  },
  {
   "cell_type": "markdown",
   "id": "133b174f-9ac1-4c82-82c4-f9f668eb77ca",
   "metadata": {},
   "source": [
    "<br>\n",
    "\n",
    "#### ↳ &nbsp; 2) &nbsp; <span style=\"background-color: #F5C0FF;\">&nbsp;Functions that return a function example&nbsp;</span>\n",
    "\n",
    "<br>\n"
   ]
  },
  {
   "cell_type": "code",
   "execution_count": 34,
   "id": "e273aac8-f76d-4c7d-8069-2393b660d679",
   "metadata": {},
   "outputs": [],
   "source": [
    "\n",
    "def times(n):\n",
    "    return lambda x: x * n      # n  times  x\n",
    "\n",
    "\n",
    "double = times(2)               # 2  times  2\n"
   ]
  },
  {
   "cell_type": "markdown",
   "id": "909c77c5-fd8d-4af5-9959-4af1dac78145",
   "metadata": {},
   "source": [
    "<br>\n",
    "\n",
    "<span style=\"background-color: yellow\">Since the **times( )** function returns a function, the **double is also a function**.</span>"
   ]
  },
  {
   "cell_type": "code",
   "execution_count": 35,
   "id": "e0756776-9fc0-4c2a-843f-3fadd893f8ec",
   "metadata": {},
   "outputs": [
    {
     "name": "stdout",
     "output_type": "stream",
     "text": [
      "4\n",
      "6\n"
     ]
    }
   ],
   "source": [
    "\n",
    "result = double(2)\n",
    "print(result)        #  2 times 2  ====>  4\n",
    "\n",
    "result = double(3)\n",
    "print(result)        #  2 times 3  ====>  6\n"
   ]
  },
  {
   "cell_type": "code",
   "execution_count": 36,
   "id": "61c48548-d33a-4268-bbbe-59d4319be0ef",
   "metadata": {},
   "outputs": [
    {
     "name": "stdout",
     "output_type": "stream",
     "text": [
      "6\n",
      "9\n"
     ]
    }
   ],
   "source": [
    "\n",
    "triple = times(3)\n",
    "\n",
    "print(triple(2))    #  3 times 2  ====>  6\n",
    "print(triple(3))    #  3 times 3  ====>  9\n"
   ]
  },
  {
   "cell_type": "markdown",
   "id": "069e7fb3-79ed-41aa-9afa-a5e8a812079c",
   "metadata": {},
   "source": [
    "<br>\n",
    "\n",
    "<font size=\"+1\">↳⭐</font> **2.12** ===> <span style=\"background-color: #CAFEFD\">&nbsp;**calculate n times of a number** using lambda function&nbsp;</span>"
   ]
  },
  {
   "cell_type": "code",
   "execution_count": 37,
   "id": "215c97f3-2145-474a-94d7-76ea4650467e",
   "metadata": {},
   "outputs": [
    {
     "name": "stdout",
     "output_type": "stream",
     "text": [
      "4\n",
      "10\n",
      "9\n",
      "15\n"
     ]
    }
   ],
   "source": [
    "\n",
    "# To Summarise:\n",
    "\n",
    "def times(n):\n",
    "    return lambda x: x * n     # n  times  x\n",
    "\n",
    "\n",
    "double = times(2)              # 2  times  x\n",
    "triple = times(3)              # 3  times  x\n",
    "\n",
    "\n",
    "print(double(2))               # 2  times  2  ====>   4\n",
    "print(double(5))               # 2  times  5  ====>  10\n",
    "print(triple(3))               # 3  times  3  ====>   9\n",
    "print(triple(5))               # 3  times  5  ====>  15\n"
   ]
  },
  {
   "cell_type": "markdown",
   "id": "05da71c6-b35c-4ff0-a031-de3356c965be",
   "metadata": {},
   "source": [
    "<br>\n",
    "\n",
    "#### &nbsp; ↳ 3) &nbsp; <span style=\"background-color: #F5C0FF;\">&nbsp;Python lambda in a loop&nbsp;</span>\n",
    "\n",
    "<br>\n",
    "\n",
    "See the following example :"
   ]
  },
  {
   "cell_type": "code",
   "execution_count": 38,
   "id": "2bb7c6ce-00ea-422a-a95d-1d9605627e88",
   "metadata": {},
   "outputs": [
    {
     "name": "stdout",
     "output_type": "stream",
     "text": [
      "3\n",
      "3\n",
      "3\n"
     ]
    }
   ],
   "source": [
    "\n",
    "callables = []\n",
    "for i in (1, 2, 3):\n",
    "    callables.append(lambda: i)\n",
    "\n",
    "\n",
    "for f in callables:\n",
    "    print(f())\n",
    "    "
   ]
  },
  {
   "cell_type": "markdown",
   "id": "de3030eb-4cf8-4e9e-92eb-9df59c9e2895",
   "metadata": {},
   "source": [
    "<br>\n",
    "\n",
    "But the **expected output** was :\n",
    "\n",
    "<div style=\"border: 1px solid pink; padding: 10px; background-color: #fff6f6;\">\n",
    "\n",
    "1 <br>\n",
    "2 <br>\n",
    "3\n",
    "\n",
    "</div>\n",
    "\n",
    "<br>\n",
    "\n",
    "The problem is that all the lambda expressions reference the <span style=\"background-color: #FBE2FF; color: red;\"><strong>&nbsp;&nbsp;i&nbsp;&nbsp;</strong></span> variable, not the current value of <span style=\"background-color: #FBE2FF; color: red;\"><strong>&nbsp;&nbsp;i&nbsp;&nbsp;</strong></span>. When you call the lambda expressions, the value of the variable <span style=\"background-color: #FBE2FF; color: red;\"><strong>&nbsp;&nbsp;i&nbsp;&nbsp;</strong></span> is 3.\n",
    "\n",
    "<br>\n",
    "\n",
    "To fix this, you need to <span style=\"background-color: yellow\">**bind the <span style=\"background-color: #FBE2FF; color: red;\"><strong>&nbsp;&nbsp;i&nbsp;&nbsp;</strong></span> variable to each lambda expression at the time the lambda expression is created**</span>. One way to do it is to use the <span style=\"color: blue\">default argument</span> :\n",
    "\n",
    "<br>\n"
   ]
  },
  {
   "cell_type": "markdown",
   "id": "32338602-64ec-43b3-bba4-81c0f7a0bf99",
   "metadata": {},
   "source": [
    "<font size=\"+1\">↳⭐</font> **2.13** ===> <span style=\"background-color: #CAFEFD\">&nbsp;Use lambda function to **append elements in a list** and then **display them using a for loop**&nbsp;</span>\n"
   ]
  },
  {
   "cell_type": "code",
   "execution_count": 39,
   "id": "2acab748-fde0-4e93-8872-7649425bd1ee",
   "metadata": {},
   "outputs": [
    {
     "name": "stdout",
     "output_type": "stream",
     "text": [
      "1\n",
      "2\n",
      "3\n"
     ]
    }
   ],
   "source": [
    "\n",
    "callables = []\n",
    "for i in (1, 2, 3):\n",
    "    callables.append(lambda a=i: a)\n",
    "\n",
    "\n",
    "for f in callables:\n",
    "    print(f())\n"
   ]
  },
  {
   "cell_type": "markdown",
   "id": "119be9a5-d33a-413f-91cd-80d7e79ffa3d",
   "metadata": {},
   "source": [
    "<br>\n",
    "\n",
    "<font size=\"+1\">↳⭐</font> **2.14** ===> <span style=\"background-color: #CAFEFD\">&nbsp;**Create a list containing the squares of each number** using a lambda function in a loop&nbsp;</span>"
   ]
  },
  {
   "cell_type": "code",
   "execution_count": 40,
   "id": "f77d62fd-2f0f-4be0-b947-ea1445857ca0",
   "metadata": {},
   "outputs": [
    {
     "name": "stdout",
     "output_type": "stream",
     "text": [
      "[1, 4, 9, 16, 25]\n"
     ]
    }
   ],
   "source": [
    "\n",
    "# List of numbers\n",
    "numbers = [1, 2, 3, 4, 5]\n",
    "\n",
    "# Create a list containing the squares of each number using a lambda function in a loop\n",
    "squared_numbers = [(lambda x: x**2)(num) for num in numbers]\n",
    "\n",
    "# Print the squared numbers\n",
    "print(squared_numbers)  # Output: [1, 4, 9, 16, 25]\n"
   ]
  },
  {
   "cell_type": "markdown",
   "id": "4a9fd26b-4224-4e37-8f88-d689157975de",
   "metadata": {},
   "source": [
    "<br>\n",
    "\n",
    "<font size=\"+1\">↳⭐</font> **2.15** ===> <span style=\"background-color: #CAFEFD\">&nbsp;Using a **lambda function in a loop** to calculate <span style=\"color: blue\">**2 ** exponent**</span> for each element in a list &nbsp;</span>"
   ]
  },
  {
   "cell_type": "code",
   "execution_count": 41,
   "id": "2d843b8f-1245-4105-a781-d899ac4de3b1",
   "metadata": {},
   "outputs": [
    {
     "name": "stdout",
     "output_type": "stream",
     "text": [
      "2 ** 0   = 1\n",
      "2 ** 1   = 2\n",
      "2 ** 2   = 4\n",
      "2 ** 5   = 32\n",
      "2 ** -1   = 0.5\n",
      "2 ** 10   = 1024\n",
      "2 ** 3   = 8\n"
     ]
    }
   ],
   "source": [
    "\n",
    "# List of numbers\n",
    "numbers = [0, 1, 2, 5, -1, 10, 3]\n",
    "\n",
    "\n",
    "# Create a list of lambda functions where each function squares its argument and is bound to the current value of i\n",
    "lambda_functions = [lambda x, i=i: x**i for i in numbers]\n",
    "'''\n",
    "The default argument i=i in the lambda function binds the current value of i from the loop to each lambda expression at the time of creation.\n",
    "'''\n",
    "\n",
    "\n",
    "# Test the lambda functions\n",
    "for i, func in enumerate(lambda_functions):\n",
    "    print(f\"2 ** {numbers[i]}   = {func(2)}\")\n",
    "    "
   ]
  },
  {
   "cell_type": "markdown",
   "id": "8b0b29ce-61f1-48a5-b3a6-0061e6f85d59",
   "metadata": {},
   "source": [
    "<br>\n",
    "\n",
    "<br>\n",
    "\n",
    "<font size=\"+2\"><span style=\"color: #F7057E\">••••••••••••••••••••••••••••••••••••••••••••••••••••••••••••••••••••••••••••••••••••••••••••••••••••••••••••</span></font>\n",
    "<br>\n",
    "\n",
    "<span style=\"font-size: larger; color: #08B61A\">**if else in a Lambda**</span>\n",
    "\n",
    "<br>\n",
    "\n",
    "Generally if else statement is used to implement selection logic in a function. But as it is a statement, you cannot use it in a lambda function. <br>\n",
    "You can use the <span style=\"color: blue\">**if else ternary expression**</span> instead.\n",
    "\n",
    "<br>\n",
    "\n",
    "<font size=\"+1\">↳⭐</font> **2.16** ===> <span style=\"background-color: #CAFEFD\">&nbsp;**Given two numbers, find minimum of them** using lambda function&nbsp;</span>"
   ]
  },
  {
   "cell_type": "code",
   "execution_count": 42,
   "id": "687f5c9a-a1fe-44f7-bf33-8cafec4cddf8",
   "metadata": {},
   "outputs": [
    {
     "name": "stdout",
     "output_type": "stream",
     "text": [
      "2\n",
      "a\n"
     ]
    }
   ],
   "source": [
    "\n",
    "# A lambda function that returns the smallest item\n",
    "find_min = lambda x, y: x if x < y else y\n",
    "\n",
    "\n",
    "print(find_min(2, 4))          # Prints 2\n",
    "\n",
    "\n",
    "print(find_min('a', 'x'))      # Prints a\n"
   ]
  },
  {
   "cell_type": "markdown",
   "id": "ed4ec1f1-c3fe-4342-abed-e0bce8c85f9d",
   "metadata": {},
   "source": [
    "<br>\n",
    "\n",
    "<font size=\"+1\">↳⭐</font> **2.17** ===> <span style=\"background-color: #CAFEFD\">&nbsp;**Filter out even numbers from a list** by using a lambda function in a loop"
   ]
  },
  {
   "cell_type": "code",
   "execution_count": 43,
   "id": "2880196d-a50e-425e-89ff-769b9f5a3485",
   "metadata": {},
   "outputs": [
    {
     "name": "stdout",
     "output_type": "stream",
     "text": [
      "[2, 4, 6, 8, 10]\n"
     ]
    }
   ],
   "source": [
    "\n",
    "# List of numbers\n",
    "numbers = [1, 2, 3, 4, 5, 6, 7, 8, 9, 10]\n",
    "\n",
    "\n",
    "# Filter out even numbers using a lambda function in a loop\n",
    "even_numbers = [num for num in numbers if (lambda x: x % 2 == 0)(num)]\n",
    "\n",
    "\n",
    "# Print the even numbers\n",
    "print(even_numbers)  # Output: [2, 4, 6, 8, 10]\n"
   ]
  },
  {
   "cell_type": "markdown",
   "id": "b005e058-6f3c-4ad0-932b-b24540fdab97",
   "metadata": {},
   "source": [
    "<br>\n",
    "\n",
    "<br>\n",
    "\n",
    "<font size=\"+2\"><span style=\"color: #F7057E\">••••••••••••••••••••••••••••••••••••••••••••••••••••••••••••••••••••••••••••••••••••••••••••••••••••••••••••</span></font>\n",
    "<br>"
   ]
  },
  {
   "cell_type": "markdown",
   "id": "0248ec22-7f37-4e28-a480-e56f923dfaba",
   "metadata": {},
   "source": [
    "\n",
    "**<span style=\"font-size: larger; color: #08B61A\">&nbsp;Multiple operations in a lambda expression&nbsp;</span> &nbsp;or&nbsp; <span style=\"font-size: larger; color: #08B61A\">&nbsp;Return Multiple Values&nbsp;</span>**\n",
    "\n",
    "<br>\n",
    "\n",
    "<br>\n",
    "\n",
    "\n",
    "<div style=\"border: 1px solid pink; padding: 10px; background-color: #fff6f6\">\n",
    "    \n",
    "<span style=\"color: red\">➜</span>&nbsp;&nbsp;**Python can have only one expression, but can have multiple operations within that one expression**.                        <br>\n",
    "<span style=\"color: red\">➜</span>&nbsp;&nbsp;**To return multiple values pack them in a <span style=\"color: blue\">tuple</span>**. Then use multiple assignment to unpack the parts of the returned tuple.                          <br>\n",
    "\n",
    "</div>\n",
    "\n",
    "<br>\n",
    "Let see a couple of examples:\n",
    "\n",
    "<br>\n",
    "\n",
    "<br>\n",
    "\n",
    "<font size=\"+1\">↳⭐</font> **2.18** ===> <span style=\"background-color: #CAFEFD\">&nbsp;Given a number, calculate it's **double**, **square** and **addition of 10** using a single lambda function&nbsp;</span>"
   ]
  },
  {
   "cell_type": "code",
   "execution_count": 44,
   "id": "71e96f1a-51a5-4651-b05d-49d35b9a15f6",
   "metadata": {},
   "outputs": [
    {
     "name": "stdout",
     "output_type": "stream",
     "text": [
      "(10, 25, 15)\n"
     ]
    }
   ],
   "source": [
    "\n",
    "# Define a lambda function with multiple lines of code\n",
    "multi_line_lambda = lambda x: (\n",
    "    x * 2,           # Double the input\n",
    "    x ** 2,          # Square the input\n",
    "    x + 10           # Add 10 to the input\n",
    ")\n",
    "\n",
    "\n",
    "# Call the lambda function with an input\n",
    "result = multi_line_lambda(5)\n",
    "\n",
    "\n",
    "# Print the result\n",
    "print(result)  # Output: (10, 25, 15)\n"
   ]
  },
  {
   "cell_type": "markdown",
   "id": "bb359183-af21-47d8-ba6e-fc3a7a23b782",
   "metadata": {},
   "source": [
    "<br>\n",
    "\n",
    "<font size=\"+1\">↳⭐</font> **2.19** ===> <span style=\"background-color: #CAFEFD\">&nbsp;Given a number, **calculate the number raised to the power 2 and 3** using a single lambda function&nbsp;</span>"
   ]
  },
  {
   "cell_type": "code",
   "execution_count": 45,
   "id": "f497169d-2210-4e74-92da-d475bfd32613",
   "metadata": {},
   "outputs": [
    {
     "name": "stdout",
     "output_type": "stream",
     "text": [
      "4\n",
      "8\n"
     ]
    }
   ],
   "source": [
    "\n",
    "# Return multiple values by packing them in a tuple\n",
    "findSquareCube = lambda num: (num**2, num**3)\n",
    "\n",
    "\n",
    "x, y = findSquareCube(2)\n",
    "\n",
    "\n",
    "print(x)    # Prints 4\n",
    "print(y)    # Prints 8\n"
   ]
  },
  {
   "cell_type": "markdown",
   "id": "d8a22591-0eaf-4e21-aeef-7e4bc6433494",
   "metadata": {},
   "source": [
    "<br>\n",
    "\n",
    "<br>\n",
    "\n",
    "<font size=\"+2\"><span style=\"color: #F7057E\">••••••••••••••••••••••••••••••••••••••••••••••••••••••••••••••••••••••••••••••••••••••••••••••••••••••••••••</span></font>\n",
    "<br>\n",
    "\n",
    "<span style=\"font-size: larger; color: #08B61A\">**Lambdas with Map, Filter, and Reduce**</span>\n",
    "\n",
    "<br>\n",
    "\n",
    "The Python core library has three methods called <span style=\"background-color: yellow\">&nbsp;**map( )**&nbsp;</span> **,** <span style=\"background-color: yellow\">&nbsp;**filter( )**&nbsp;</span> **,** and <span style=\"background-color: yellow\">&nbsp;**reduce( )**&nbsp;</span> . These methods are possibly the **best reasons to use lambda functions**.\n",
    "\n",
    "<br>\n",
    "\n",
    "<span style=\"color: #F7D205\">⁃⁃⁃⁃⁃⁃⁃⁃⁃⁃⁃⁃⁃⁃⁃⁃⁃⁃⁃⁃⁃⁃⁃⁃⁃⁃⁃⁃⁃⁃⁃⁃⁃⁃⁃⁃⁃⁃⁃⁃⁃⁃⁃⁃⁃⁃⁃⁃⁃⁃⁃⁃⁃⁃⁃⁃⁃⁃⁃⁃⁃⁃⁃⁃⁃⁃⁃⁃⁃⁃⁃⁃⁃⁃⁃⁃⁃⁃⁃⁃⁃⁃⁃⁃⁃⁃⁃⁃⁃⁃⁃⁃⁃⁃⁃⁃⁃⁃⁃⁃⁃⁃⁃⁃⁃⁃⁃⁃⁃⁃⁃⁃⁃⁃⁃⁃⁃⁃⁃⁃⁃⁃⁃⁃⁃⁃⁃⁃⁃⁃⁃⁃⁃⁃⁃⁃⁃⁃⁃⁃⁃⁃⁃⁃⁃⁃⁃⁃⁃⁃⁃⁃⁃⁃⁃⁃⁃⁃⁃⁃⁃⁃⁃⁃⁃⁃⁃⁃⁃⁃⁃⁃⁃⁃⁃⁃⁃⁃⁃⁃⁃⁃⁃⁃⁃⁃⁃⁃</span>\n",
    "\n",
    "<br>\n",
    "\n",
    "<font size=\"+2\"><span style=\"color: red\">↳</span></font>&nbsp;&nbsp;**with &nbsp;<span style=\"color: red; font-size: larger\">map( )</span>**\n",
    "\n",
    "<br>\n",
    "\n",
    "<div style=\"border: 1px solid pink; padding: 10px; background-color: #fff6f6\">\n",
    "\n",
    "**<span style=\"background-color: white; font-size: larger\"><span style=\"color: blue\">&nbsp;map</span><span style=\"color: black\">(&nbsp;function, iterable1, iterable2, .....&nbsp;)&nbsp;</span>** </span>\n",
    "\n",
    "<br>\n",
    "\n",
    "&nbsp;&nbsp;&nbsp;&nbsp;&nbsp;&nbsp;&nbsp;&nbsp;where, **function** ======================> The function to be applied to each item of the iterable(s). <br>\n",
    "&nbsp;&nbsp;&nbsp;&nbsp;&nbsp;&nbsp;&nbsp;&nbsp;&nbsp;&nbsp;&nbsp;&nbsp;&nbsp;&nbsp;&nbsp;&nbsp;&nbsp;&nbsp;&nbsp;&nbsp;**iterable1, iterable2, ... (optional):**  =====> &nbsp;iterable object (e.g., list, tuple, set) from which elements will be filtered.\n",
    "\n",
    "<br>\n",
    "\n",
    "🔶  ➜ The <span style=\"color: blue\">**map()**</span> function in Python is used to apply a specified function to each item of an iterable (such as a list, tuple, or set) and returns an iterator of the results.\n",
    "\n",
    "🔶  ➜ It is used for **transforming** each element of an iterable according to the logic of the function used in it.\n",
    "\n",
    "</div>\n",
    "\n",
    "<br>\n",
    "\n",
    "<br>\n",
    "\n",
    "<span style=\"background-color: yellow\">Here’s a **map( )** function **without a lambda** :</span>\n",
    "\n",
    "<font size=\"+1\">↳⭐</font> **2.20 ➜ A** ===> <span style=\"background-color: #CAFEFD\">&nbsp;Given a list of numbers, **calculate the double of each number in the list** using <span style=\"color: red\">**map( )**</span> but without using lambda functions&nbsp;</span>\n"
   ]
  },
  {
   "cell_type": "code",
   "execution_count": 46,
   "id": "fee8efe3-17a6-4704-aeb8-c4a425f180cc",
   "metadata": {},
   "outputs": [
    {
     "name": "stdout",
     "output_type": "stream",
     "text": [
      "[2, 4, 6, 8, 10, 12]\n"
     ]
    }
   ],
   "source": [
    "\n",
    "# Double each item of the list\n",
    "def doubler(x):\n",
    "    return x*2\n",
    "\n",
    "\n",
    "L = [1, 2, 3, 4, 5, 6]\n",
    "\n",
    "\n",
    "mod_list = map(doubler, L)\n",
    "\n",
    "\n",
    "print(list(mod_list))    # Prints [2, 4, 6, 8, 10, 12]\n"
   ]
  },
  {
   "cell_type": "markdown",
   "id": "cfa670b6-b0b2-4d94-9289-7cb9cb8cb140",
   "metadata": {},
   "source": [
    "<br>\n",
    "\n",
    "In the above example the doubler function is passed in as an argument, but **what if you don’t want to create a new function every time you use the <span style=\"color: red\">map( )</span>?** You can use a lambda instead!\n",
    "\n",
    "<br>\n",
    "\n",
    "<font size=\"+1\">↳⭐</font> **2.20 ➜ B** ===> <span style=\"background-color: #CAFEFD\">&nbsp;Given a list of numbers, **calculate the double of each number in the list** using both <span style=\"color: red\">**map( )**</span> and <span style=\"color: red\">**lambda**</span> functions&nbsp;</span>\n"
   ]
  },
  {
   "cell_type": "code",
   "execution_count": 47,
   "id": "cb1114d6-4999-4580-8e0f-92e53a6fe736",
   "metadata": {},
   "outputs": [
    {
     "name": "stdout",
     "output_type": "stream",
     "text": [
      "[2, 4, 6, 8, 10, 12]\n"
     ]
    }
   ],
   "source": [
    "\n",
    "# Double each item of the list\n",
    "L = [1, 2, 3, 4, 5, 6]\n",
    "\n",
    "\n",
    "doubler = map(lambda x: x*2, L)     # both map() and lambda functions are used\n",
    "\n",
    "\n",
    "print(list(doubler))  # Prints [2, 4, 6, 8, 10, 12]\n"
   ]
  },
  {
   "cell_type": "markdown",
   "id": "e9d9dee2-f223-43e2-b317-39ed143e7d43",
   "metadata": {},
   "source": [
    "As you can see, the entire doubler function is no longer needed. Instead, <span style=\"color: blue\">the lambda function is used to create more concise code.</span>"
   ]
  },
  {
   "cell_type": "markdown",
   "id": "aedf2aa0-9db8-432d-b12f-eae230fa2853",
   "metadata": {},
   "source": [
    "<br>\n",
    "\n",
    "<font size=\"+1\">↳⭐</font> **2.21 ➜ A** ===> <span style=\"background-color: #CAFEFD\">&nbsp;Given a list of numbers, **calculate the absolute value of each number in the list** using <span style=\"color: red\">**map( )**</span> but without using lambda functions&nbsp;</span>"
   ]
  },
  {
   "cell_type": "code",
   "execution_count": 48,
   "id": "63fb3ca3-f234-42c2-a36d-dfae404b7c91",
   "metadata": {},
   "outputs": [
    {
     "name": "stdout",
     "output_type": "stream",
     "text": [
      "[1, 2, 3, 4, 5]\n"
     ]
    }
   ],
   "source": [
    "\n",
    "# Function to find absolute value of a number\n",
    "def absolute(x):\n",
    "    return abs(x)\n",
    "\n",
    "\n",
    "# List of numbers\n",
    "numbers = [-1, 2, -3, 4, -5]\n",
    "\n",
    "\n",
    "# Apply the absolute function to each element of the list using map\n",
    "absolute_values = map(absolute, numbers)\n",
    "# absolute_values = list(map(absolute, numbers))\n",
    "\n",
    "\n",
    "# Convert the result to a list and print it\n",
    "print(list(absolute_values))  # Output: [1, 4, 9, 16, 25]\n"
   ]
  },
  {
   "cell_type": "markdown",
   "id": "c41a45e7-c800-4e93-a05d-968f8915961e",
   "metadata": {},
   "source": [
    "<br>\n",
    "\n",
    "<font size=\"+1\">↳⭐</font> **2.21 ➜ B** ===> <span style=\"background-color: #CAFEFD\">&nbsp;Given a list of numbers, **calculate the absolute value of each number in the list** using both <span style=\"color: red\">**map( )**</span> and <span style=\"color: red\">**lambda**</span> functions&nbsp;</span>"
   ]
  },
  {
   "cell_type": "code",
   "execution_count": 2,
   "id": "73b19645-13b7-4208-92d8-41bd8d268164",
   "metadata": {},
   "outputs": [
    {
     "name": "stdout",
     "output_type": "stream",
     "text": [
      "[1, 2, 3, 4, 5]\n",
      "\n",
      "\n"
     ]
    }
   ],
   "source": [
    "\n",
    "numbers = [-1, 2, -3, 4, -5]\n",
    "\n",
    "absolute_values = list(map(lambda x: abs(x), numbers))   # using both map() and lambda functions\n",
    "\n",
    "print(absolute_values, end=\"\\n\\n\\n\")   # Output: [1, 2, 3, 4, 5]\n"
   ]
  },
  {
   "cell_type": "markdown",
   "id": "6ff0bfad-6a4f-4bed-9406-4848c99ed00a",
   "metadata": {},
   "source": [
    "<br>\n",
    "\n",
    "<font size=\"+1\">↳⭐</font> **2.21 ➜ C** ===> <span style=\"background-color: #CAFEFD\">&nbsp;**How does <span style=\"color: red\">**map( )**</span> react when we pass multiple iterables in it ?**&nbsp;</span>"
   ]
  },
  {
   "cell_type": "code",
   "execution_count": 3,
   "id": "84c423c5-6802-4639-b629-36d0ffa4f77f",
   "metadata": {},
   "outputs": [
    {
     "name": "stdout",
     "output_type": "stream",
     "text": [
      "[1, 2, 3, 4, 5]\n",
      "[0, 2, 6, 3, 5]\n"
     ]
    }
   ],
   "source": [
    "\n",
    "# iterables\n",
    "number_list1 = [-1, 2, -3, 4, -5]\n",
    "number_list2 = [0, -2, 6, -3, 5, 8]\n",
    "\n",
    "\n",
    "# since the number of iterables passed in this map() function are 2, so number of paramters in the lambda function must also be 2 otherwise it'd throw Error\n",
    "absolute_values_list1 = list(map(lambda x, y: abs(x), number_list1, number_list2))   \n",
    "absolute_values_list2 = list(map(lambda x, y: abs(y), number_list1, number_list2))\n",
    "\n",
    "\n",
    "print(absolute_values_list1)    # Output: [1, 2, 3, 4, 5]\n",
    "print(absolute_values_list2)    # Output: [0, 2, 6, 3, 5]    # It did not include abs(8) in the output because it maps each element at the same position of both the iterables thus ignoring the extra elements of the longer iterable.    \n"
   ]
  },
  {
   "cell_type": "markdown",
   "id": "ca42ca02-daa4-4adc-984f-76958f2dcce2",
   "metadata": {},
   "source": [
    "<br>\n",
    "\n",
    "<br>\n",
    "\n",
    "<font size=\"+1\">↳⭐</font> **2.22** ===> <span style=\"background-color: #CAFEFD\">&nbsp;**Mapping each string element in a list of strings to their lengths** using both <span style=\"color: red\">**map( )**</span> and <span style=\"color: red\">**lambda**</span> functions&nbsp;</span>"
   ]
  },
  {
   "cell_type": "code",
   "execution_count": 4,
   "id": "ea0bf754-f603-4da2-ab11-2f4239c00633",
   "metadata": {},
   "outputs": [
    {
     "name": "stdout",
     "output_type": "stream",
     "text": [
      "[5, 6, 6, 4]\n",
      "\n",
      "\n"
     ]
    }
   ],
   "source": [
    "\n",
    "# Finding the length of each string element in a list of strings\n",
    "\n",
    "strings = ['apple', 'banana', 'cherry', 'date']\n",
    "\n",
    "lengths = list(map(lambda x: len(x), strings))    # using both map( ) and lambda functions\n",
    "\n",
    "print(lengths, end=\"\\n\\n\\n\")  # Output: [5, 6, 6, 4]\n"
   ]
  },
  {
   "cell_type": "markdown",
   "id": "b86bda2e-1845-4b09-8894-13e783214026",
   "metadata": {},
   "source": [
    "<span style=\"color: blue\">Now let us try to display each string elements with their corresponding lengths :</span>\n",
    "\n",
    "↳ **Method-1** <span style=\"background-color: yellow\">&nbsp;(using for loop and without using any map function)&nbsp;</span>"
   ]
  },
  {
   "cell_type": "code",
   "execution_count": 5,
   "id": "ca13023c-8ddc-44b2-a125-41dc83b44570",
   "metadata": {},
   "outputs": [
    {
     "name": "stdout",
     "output_type": "stream",
     "text": [
      "['apple ======> 5', 'banana ======> 6', 'cherry ======> 6', 'date ======> 4']\n",
      "\n",
      "\n"
     ]
    }
   ],
   "source": [
    "\n",
    "strings = ['apple', 'banana', 'cherry', 'date']\n",
    "\n",
    "a = [(lambda x: f\"{x} ======> {len(x)}\")(item) for item in strings]\n",
    "\n",
    "print(a, end=\"\\n\\n\\n\")\n"
   ]
  },
  {
   "cell_type": "markdown",
   "id": "5b3c63ff-e3e0-4e66-80af-ae05a286eaca",
   "metadata": {},
   "source": [
    "↳ **Method-2** <span style=\"background-color: yellow\">&nbsp;(using map function)&nbsp;</span>"
   ]
  },
  {
   "cell_type": "code",
   "execution_count": 6,
   "id": "acc4eebd-3a66-4dd9-9e5c-479272d37096",
   "metadata": {},
   "outputs": [
    {
     "name": "stdout",
     "output_type": "stream",
     "text": [
      "['apple ======> 5', 'banana ======> 6', 'cherry ======> 6', 'date ======> 4']\n",
      "\n",
      "\n"
     ]
    }
   ],
   "source": [
    "\n",
    "strings = ['apple', 'banana', 'cherry', 'date']\n",
    "\n",
    "lengths = list(map(lambda x: f\"{x} ======> {len(x)}\", strings))\n",
    "\n",
    "print(lengths, end=\"\\n\\n\\n\")\n"
   ]
  },
  {
   "cell_type": "markdown",
   "id": "4a323ddb-e0b3-4c6a-ba00-8bb45c34a9b7",
   "metadata": {},
   "source": [
    "<br>\n",
    "\n",
    "<span style=\"color: #F7D205\">⁃⁃⁃⁃⁃⁃⁃⁃⁃⁃⁃⁃⁃⁃⁃⁃⁃⁃⁃⁃⁃⁃⁃⁃⁃⁃⁃⁃⁃⁃⁃⁃⁃⁃⁃⁃⁃⁃⁃⁃⁃⁃⁃⁃⁃⁃⁃⁃⁃⁃⁃⁃⁃⁃⁃⁃⁃⁃⁃⁃⁃⁃⁃⁃⁃⁃⁃⁃⁃⁃⁃⁃⁃⁃⁃⁃⁃⁃⁃⁃⁃⁃⁃⁃⁃⁃⁃⁃⁃⁃⁃⁃⁃⁃⁃⁃⁃⁃⁃⁃⁃⁃⁃⁃⁃⁃⁃⁃⁃⁃⁃⁃⁃⁃⁃⁃⁃⁃⁃⁃⁃⁃⁃⁃⁃⁃⁃⁃⁃⁃⁃⁃⁃⁃⁃⁃⁃⁃⁃⁃⁃⁃⁃⁃⁃⁃⁃⁃⁃⁃⁃⁃⁃⁃⁃⁃⁃⁃⁃⁃⁃⁃⁃⁃⁃⁃⁃⁃⁃⁃⁃⁃⁃⁃⁃⁃⁃⁃⁃⁃⁃⁃⁃⁃⁃⁃⁃⁃</span>\n",
    "\n",
    "<br>\n",
    "\n",
    "<font size=\"+2\"><span style=\"color: red\">↳</span></font>&nbsp;&nbsp;**with &nbsp;<span style=\"color: red; font-size: larger\">filter( )</span>**\n",
    "\n",
    "<br>\n",
    "\n",
    "<div style=\"border: 1px solid pink; padding: 10px; background-color: #fff6f6\">\n",
    "\n",
    "**<span style=\"background-color: white; font-size: larger\"><span style=\"color: blue\">&nbsp;filter</span><span style=\"color: black\">(&nbsp;function, iterable1, iterable2, .....&nbsp;)&nbsp;</span>** </span>\n",
    "\n",
    "<br>\n",
    "\n",
    "**<span style=\"background-color: white; font-size: larger\"><span style=\"color: blue\">&nbsp;filter</span><span style=\"color: black\">(&nbsp;function, iterable&nbsp;)&nbsp;</span>** </span>\n",
    "\n",
    "&nbsp;&nbsp;&nbsp;&nbsp;&nbsp;&nbsp;&nbsp;&nbsp;where, **function** =====> takes one argument and returns <span style=\"background-color: yellow\">&nbsp;**True**&nbsp;</span> or <span style=\"background-color: yellow\">&nbsp;**False**&nbsp;</span> <br>\n",
    "&nbsp;&nbsp;&nbsp;&nbsp;&nbsp;&nbsp;&nbsp;&nbsp;&nbsp;&nbsp;&nbsp;&nbsp;&nbsp;&nbsp;&nbsp;&nbsp;&nbsp;&nbsp;&nbsp;&nbsp;**iterable**  =====> &nbsp;iterable object (e.g., list, tuple, set) from which elements will be filtered.\n",
    "\n",
    "<br>\n",
    "\n",
    "🔶  ➜ The <span style=\"color: blue\">**filter( )**</span> function returns an iterator containing only the elements for which the function evaluates to <span style=\"background-color: yellow\">&nbsp;**True**&nbsp;</span>. \n",
    "\n",
    "🔶  ➜ To get the filtered elements as a list, you can use the <span style=\"color: blue\">**list( )**</span> function to convert the iterator to a list.\n",
    "\n",
    "\n",
    "</div>\n",
    "\n",
    "<br>\n",
    "\n",
    "<br>\n",
    "\n",
    "<br>\n",
    "\n",
    "<font size=\"+1\">↳⭐</font> **2.23 ➜ A** ===> <span style=\"background-color: #CAFEFD\">&nbsp;**Given a list of ages, filter the values above 18** using <span style=\"color: red\">**filter( )**</span> but without using lambda functions&nbsp;</span>"
   ]
  },
  {
   "cell_type": "code",
   "execution_count": 7,
   "id": "f45c781b-e67d-49b8-bfd8-2147b51a04ab",
   "metadata": {},
   "outputs": [
    {
     "name": "stdout",
     "output_type": "stream",
     "text": [
      "[19, 24, 42]\n"
     ]
    }
   ],
   "source": [
    "\n",
    "# Filter the values above 18\n",
    "def check_age(age):\n",
    "    if age > 18:\n",
    "        return True\n",
    "    else:\n",
    "        return False\n",
    "\n",
    "\n",
    "age = [5, 11, 16, 19, 24, 42]\n",
    "\n",
    "\n",
    "adults = filter(check_age, age)\n",
    "\n",
    "\n",
    "print(list(adults))    # Prints [19, 24, 42]\n"
   ]
  },
  {
   "cell_type": "markdown",
   "id": "4db2f056-9aa4-4172-91a6-578edff04c53",
   "metadata": {},
   "source": [
    "<br>\n",
    "\n",
    "Here’s what the above code looks like, with the **check_age** function replaced by a lambda:\n",
    "\n",
    "<font size=\"+1\">↳⭐</font> **2.23 ➜ B** ===> <span style=\"background-color: #CAFEFD\">&nbsp;**Given a list of ages, filter the values above 18** using both <span style=\"color: red\">**filter( )**</span> and <span style=\"color: red\">**lambda**</span> functions&nbsp;</span>"
   ]
  },
  {
   "cell_type": "code",
   "execution_count": 8,
   "id": "83fd26f2-a164-4b64-8152-1b9857a489c7",
   "metadata": {},
   "outputs": [
    {
     "name": "stdout",
     "output_type": "stream",
     "text": [
      "[19, 24, 42]\n"
     ]
    }
   ],
   "source": [
    "\n",
    "# Filter the values above 18\n",
    "age = [5, 11, 16, 19, 24, 42]\n",
    "\n",
    "adults = filter(lambda x: x > 18, age)    # using both filter() and lambda functions\n",
    "\n",
    "print(list(adults))  # Prints [19, 24, 42]\n"
   ]
  },
  {
   "cell_type": "markdown",
   "id": "5d50de8f-3aab-4bc6-a209-4836db6b74d6",
   "metadata": {},
   "source": [
    "<br>\n",
    "\n",
    "<br>\n",
    "\n",
    "<font size=\"+1\">↳⭐</font> **2.24** ===> <span style=\"background-color: #CAFEFD\">&nbsp;**Filter out negative numbers from a list** using both <span style=\"color: red\">**filter( )**</span> and <span style=\"color: red\">**lambda**</span> functions&nbsp;</span>"
   ]
  },
  {
   "cell_type": "code",
   "execution_count": 9,
   "id": "c2fca04d-56c0-4e69-a8df-0cb081c308f5",
   "metadata": {},
   "outputs": [
    {
     "name": "stdout",
     "output_type": "stream",
     "text": [
      "[1, 0, 3, 4, 6]\n"
     ]
    }
   ],
   "source": [
    "\n",
    "numbers = [1, -2, 0, 3, 4, -5, 6]\n",
    "\n",
    "positive_numbers = list(filter(lambda x: x >= 0, numbers))\n",
    "\n",
    "print(positive_numbers) \n"
   ]
  },
  {
   "cell_type": "markdown",
   "id": "d5e8a754-8bc7-48a9-81a2-966b4f9a9330",
   "metadata": {},
   "source": [
    "<br>\n",
    "\n",
    "<br>\n",
    "\n",
    "<font size=\"+1\">↳⭐</font> **2.25** ===> <span style=\"background-color: #CAFEFD\">&nbsp;**Filter out even numbers from a given list of numbers** using both <span style=\"color: red\">**filter( )**</span> and <span style=\"color: red\">**lambda**</span> functions&nbsp;</span>"
   ]
  },
  {
   "cell_type": "code",
   "execution_count": 10,
   "id": "5d5915a9-0b7e-49fa-8718-5134a86b230f",
   "metadata": {},
   "outputs": [
    {
     "name": "stdout",
     "output_type": "stream",
     "text": [
      "[2, 4, 6]\n"
     ]
    }
   ],
   "source": [
    "\n",
    "numbers = [1, 2, 3, 4, 5, 6]\n",
    "\n",
    "filtered_numbers = list(filter(lambda x: x % 2 == 0, numbers))\n",
    "\n",
    "print(filtered_numbers) \n"
   ]
  },
  {
   "cell_type": "markdown",
   "id": "0dd7e207-05ff-48ff-a526-ca2f091ecfa0",
   "metadata": {},
   "source": [
    "<br>\n",
    "\n",
    "<span style=\"color: #F7D205\">⁃⁃⁃⁃⁃⁃⁃⁃⁃⁃⁃⁃⁃⁃⁃⁃⁃⁃⁃⁃⁃⁃⁃⁃⁃⁃⁃⁃⁃⁃⁃⁃⁃⁃⁃⁃⁃⁃⁃⁃⁃⁃⁃⁃⁃⁃⁃⁃⁃⁃⁃⁃⁃⁃⁃⁃⁃⁃⁃⁃⁃⁃⁃⁃⁃⁃⁃⁃⁃⁃⁃⁃⁃⁃⁃⁃⁃⁃⁃⁃⁃⁃⁃⁃⁃⁃⁃⁃⁃⁃⁃⁃⁃⁃⁃⁃⁃⁃⁃⁃⁃⁃⁃⁃⁃⁃⁃⁃⁃⁃⁃⁃⁃⁃⁃⁃⁃⁃⁃⁃⁃⁃⁃⁃⁃⁃⁃⁃⁃⁃⁃⁃⁃⁃⁃⁃⁃⁃⁃⁃⁃⁃⁃⁃⁃⁃⁃⁃⁃⁃⁃⁃⁃⁃⁃⁃⁃⁃⁃⁃⁃⁃⁃⁃⁃⁃⁃⁃⁃⁃⁃⁃⁃⁃⁃⁃⁃⁃⁃⁃⁃⁃⁃⁃⁃⁃⁃⁃</span>\n",
    "\n",
    "<br>\n",
    "\n",
    "<font size=\"+2\"><span style=\"color: red\">↳</span></font>&nbsp;&nbsp;**with &nbsp;<span style=\"color: red; font-size: larger\">reduce( )</span>**\n",
    "\n",
    "<br>\n",
    "\n",
    "<div style=\"border: 1px solid pink; padding: 10px; background-color: #fff6f6\">\n",
    "\n",
    "\n",
    "**<span style=\"background-color: white; font-size: larger\"><span style=\"color: blue\">&nbsp;functools.reduce</span><span style=\"color: black\">(&nbsp;<span style=\"background-color: yellow\">function</span>, <span style=\"background-color: yellow\">iterable[, initializer]</span>&nbsp;)&nbsp;</span>** </span>\n",
    "\n",
    "<br>\n",
    "\n",
    "&nbsp;&nbsp;&nbsp;&nbsp;&nbsp;&nbsp;&nbsp;&nbsp;where, **function** ====> The function to be applied **cumulatively** to the items of the iterable. <br> \n",
    "\n",
    "&nbsp;&nbsp;&nbsp;&nbsp;&nbsp;&nbsp;&nbsp;&nbsp;&nbsp;&nbsp;&nbsp;&nbsp;&nbsp;&nbsp;&nbsp;&nbsp;&nbsp;&nbsp;&nbsp;&nbsp;&nbsp;&nbsp;&nbsp;&nbsp;&nbsp;&nbsp;&nbsp;&nbsp;&nbsp;&nbsp;&nbsp;&nbsp;&nbsp;&nbsp;&nbsp;&nbsp;&nbsp;&nbsp;&nbsp;&nbsp;&nbsp;&nbsp;&nbsp;&nbsp;&nbsp;&nbsp;&nbsp;&nbsp;&nbsp;<span style=\"background-color: yellow\">It should take two arguments and return a single result.</span> <br>\n",
    "\n",
    "&nbsp;&nbsp;&nbsp;&nbsp;&nbsp;&nbsp;&nbsp;&nbsp;&nbsp;&nbsp;&nbsp;&nbsp;&nbsp;&nbsp;&nbsp;&nbsp;&nbsp;&nbsp;&nbsp;&nbsp;&nbsp;&nbsp;&nbsp;&nbsp;&nbsp;&nbsp;&nbsp;&nbsp;&nbsp;&nbsp;&nbsp;&nbsp;&nbsp;&nbsp;&nbsp;&nbsp;&nbsp;&nbsp;&nbsp;&nbsp;&nbsp;&nbsp;&nbsp;&nbsp;&nbsp;&nbsp;&nbsp;&nbsp;&nbsp;If the iterable is empty and an initializer is not provided, the first two items in the iterable are used as the initial arguments to the function. <br>\n",
    "\n",
    "&nbsp;&nbsp;&nbsp;&nbsp;&nbsp;&nbsp;&nbsp;&nbsp;&nbsp;&nbsp;&nbsp;&nbsp;&nbsp;&nbsp;&nbsp;&nbsp;&nbsp;&nbsp;&nbsp;&nbsp;**iterable**  ====> &nbsp;The iterable (e.g., list, tuple, etc.) containing the items to be reduced. <br>\n",
    "\n",
    "&nbsp;&nbsp;&nbsp;&nbsp;&nbsp;&nbsp;&nbsp;&nbsp;&nbsp;&nbsp;&nbsp;&nbsp;&nbsp;&nbsp;&nbsp;&nbsp;&nbsp;&nbsp;&nbsp;&nbsp;**initializer (optional)** ====>  An optional initializer value. If provided, it will be placed before the items of the iterable in the calculation, <br>\n",
    "&nbsp;&nbsp;&nbsp;&nbsp;&nbsp;&nbsp;&nbsp;&nbsp;&nbsp;&nbsp;&nbsp;&nbsp;&nbsp;&nbsp;&nbsp;&nbsp;&nbsp;&nbsp;&nbsp;&nbsp;&nbsp;&nbsp;&nbsp;&nbsp;&nbsp;&nbsp;&nbsp;&nbsp;&nbsp;&nbsp;&nbsp;&nbsp;&nbsp;&nbsp;&nbsp;&nbsp;&nbsp;&nbsp;&nbsp;&nbsp;&nbsp;&nbsp;&nbsp;&nbsp;&nbsp;&nbsp;&nbsp;&nbsp;&nbsp;&nbsp;&nbsp;&nbsp;&nbsp;&nbsp;&nbsp;&nbsp;&nbsp;&nbsp;&nbsp;&nbsp;&nbsp;&nbsp;&nbsp;&nbsp;&nbsp;&nbsp;&nbsp;&nbsp;&nbsp;and serve as the initial value when the iterable is empty.\n",
    "\n",
    "<br>\n",
    "\n",
    "🔶  ➜ The <span style=\"color: blue\">**reduce()**</span> function is part of the **functools** module and is used to apply a specified function (typically a binary function) **cumulatively** to the items of an iterable, from **left to right**, so as to **reduce the iterable to a single value**.\n",
    "\n",
    "\n",
    "🔶  ➜ It applies a rolling calculation to all items in a list.\n",
    "\n",
    "</div>\n",
    "\n",
    "<br>\n",
    "\n",
    "<br>\n",
    "\n",
    "<font size=\"+1\">↳⭐</font> **2.26 ➜ A** ===> <span style=\"background-color: #CAFEFD\">&nbsp;**Calculate the sum of all the numbers in a list** using python built-in functions&nbsp;</span>\n",
    "\n"
   ]
  },
  {
   "cell_type": "code",
   "execution_count": 11,
   "id": "1e36bdee-86f8-43ef-b10f-bb81aed1e1e5",
   "metadata": {},
   "outputs": [
    {
     "name": "stdout",
     "output_type": "stream",
     "text": [
      "365\n"
     ]
    }
   ],
   "source": [
    "\n",
    "# using built-in sum() function \n",
    "# without using reduce() function\n",
    "\n",
    "scores = [75, 65, 80, 95, 50]\n",
    "total_scores = sum(scores)\n",
    "print(total_scores)\n"
   ]
  },
  {
   "cell_type": "markdown",
   "id": "5dd0a051-77b9-4829-841e-12609ca0eae1",
   "metadata": {},
   "source": [
    "<br>\n",
    "\n",
    "<font size=\"+1\">↳⭐</font> **2.26 ➜ B** ===> <span style=\"background-color: #CAFEFD\">&nbsp;**Calculate the sum of all the numbers in a list** using <span style=\"color: red\">**reduce( )**</span> but without using lambda functions&nbsp;</span>"
   ]
  },
  {
   "cell_type": "code",
   "execution_count": 59,
   "id": "5efbaf2e-0645-408e-9d28-92b04aa067ce",
   "metadata": {},
   "outputs": [
    {
     "name": "stdout",
     "output_type": "stream",
     "text": [
      "365\n"
     ]
    }
   ],
   "source": [
    "\n",
    "# Calculate the sum of all the numbers in a list using reduce() function\n",
    "\n",
    "from functools import reduce\n",
    "\n",
    "def add_all(a,b):\n",
    "    return a + b\n",
    "\n",
    "scores = [75, 65, 80, 95, 50]\n",
    "\n",
    "total_scores = reduce(add_all, scores)\n",
    "\n",
    "print(total_scores)\n"
   ]
  },
  {
   "cell_type": "markdown",
   "id": "48d97eed-b6e7-4627-b726-4399002696c8",
   "metadata": {},
   "source": [
    "<br>\n",
    "\n",
    "<font size=\"+1\">↳⭐</font> **2.26 ➜ C** ===> <span style=\"background-color: #CAFEFD\">&nbsp;**Calculate the sum of all the numbers in a list** using both <span style=\"color: red\">**reduce( )**</span> and <span style=\"color: red\">**lambda**</span> functions&nbsp;</span>"
   ]
  },
  {
   "cell_type": "code",
   "execution_count": 60,
   "id": "b455f57e-e818-4803-b4a7-e4f244571951",
   "metadata": {},
   "outputs": [
    {
     "name": "stdout",
     "output_type": "stream",
     "text": [
      "365\n"
     ]
    }
   ],
   "source": [
    "\n",
    "# Calculate the sum of all the numbers in a list using both lambda function and reduce() function \n",
    "\n",
    "import functools\n",
    "\n",
    "scores = [75, 65, 80, 95, 50]\n",
    "\n",
    "total = functools.reduce(lambda a, b: a + b, scores)\n",
    "\n",
    "print(total) \n"
   ]
  },
  {
   "cell_type": "markdown",
   "id": "494d5fa8-d199-44f4-a743-58df94283b2d",
   "metadata": {},
   "source": [
    "<br>\n",
    "\n",
    "**<span style=\"color: #F703FF; font-size: larger\">calculate the factorial of a number</span>**"
   ]
  },
  {
   "cell_type": "markdown",
   "id": "8339553c-5fec-4413-adcf-1b4bdf824c06",
   "metadata": {},
   "source": [
    "Let's first find all the numbers used for calculating the factorial of a number. \n",
    "\n",
    "Here is <span style=\"background-color: yellow\">one way</span> of finding those numbers (let's say **factors**) :"
   ]
  },
  {
   "cell_type": "code",
   "execution_count": 61,
   "id": "890f9dfd-e490-44e8-85f1-f06b8b6c71ab",
   "metadata": {},
   "outputs": [
    {
     "name": "stdout",
     "output_type": "stream",
     "text": [
      "[1, 2, 3, 4, 5]\n",
      "<class 'list'>\n"
     ]
    }
   ],
   "source": [
    "\n",
    "factors = [i+1 for i in range(5)]      \n",
    "\n",
    "print(factors)                         # [1, 2, 3, 4, 5]\n",
    "\n",
    "print(type(factors))                   # <class 'list'>\n"
   ]
  },
  {
   "cell_type": "markdown",
   "id": "8d40cff2-219d-4372-8666-cf2e2c607a0c",
   "metadata": {},
   "source": [
    "<br>\n",
    "<span style=\"background-color: yellow\">Another way</span> of finding those numbers (let's say <strong>factors</strong>) :"
   ]
  },
  {
   "cell_type": "code",
   "execution_count": 62,
   "id": "7f95272d-57a7-445f-a6a0-9a99de97b538",
   "metadata": {},
   "outputs": [
    {
     "name": "stdout",
     "output_type": "stream",
     "text": [
      "range(1, 6)\n",
      "<class 'range'>\n",
      "1, 2, 3, 4, 5\n"
     ]
    }
   ],
   "source": [
    "\n",
    "factors = range(1,5+1)                        \n",
    "\n",
    "print(factors)                         # range(1,6) \n",
    "\n",
    "print(type(factors))                   # <class 'range'>\n",
    "\n",
    "print(f\"{factors[0]}, {factors[1]}, {factors[2]}, {factors[3]}, {factors[4]}\")       # 1, 2, 3, 4, 5              \n"
   ]
  },
  {
   "cell_type": "markdown",
   "id": "c0de3e84-8277-4323-87bb-3e2c7a40ad19",
   "metadata": {},
   "source": [
    "<br>\n",
    "\n",
    "<br>\n",
    "\n",
    "<font size=\"+1\">↳⭐</font> **2.27 ➜ A** ===> <span style=\"background-color: #CAFEFD\">&nbsp;**Find the factorial of a number** using <span style=\"color: red\">**reduce( )**</span> but without using lambda functions&nbsp;</span>\n",
    "\n",
    "<br>\n",
    "\n",
    "<span style=\"color: blue\">**Solution-1**</span>"
   ]
  },
  {
   "cell_type": "code",
   "execution_count": 63,
   "id": "79eaa77d-6896-44ab-ad91-a063616c0114",
   "metadata": {},
   "outputs": [
    {
     "name": "stdout",
     "output_type": "stream",
     "text": [
      "120\n"
     ]
    }
   ],
   "source": [
    "\n",
    "from functools import reduce \n",
    "\n",
    "n = 5 \n",
    "\n",
    "factors = [i+1 for i in range(n)]                    # [1, 2, 3, 4, 5] \n",
    "\n",
    "factorial = reduce(lambda a , b: a * b, factors) \n",
    "'''\n",
    "factorial = reduce(lambda a , b: a * b, [i+1 for i in range(n)]) \n",
    "'''\n",
    "\n",
    "print(factorial) \n"
   ]
  },
  {
   "cell_type": "markdown",
   "id": "fb4f460f-1a0f-4f1b-a9a3-16ac5dfd9552",
   "metadata": {},
   "source": [
    "<br>\n",
    "\n",
    "<span style=\"color: blue\">**Solution-2**</span>"
   ]
  },
  {
   "cell_type": "code",
   "execution_count": 64,
   "id": "d7dde3ff-3450-47c0-8ac4-02ce93955338",
   "metadata": {},
   "outputs": [
    {
     "name": "stdout",
     "output_type": "stream",
     "text": [
      "120\n"
     ]
    }
   ],
   "source": [
    "\n",
    "from functools import reduce \n",
    "\n",
    "n = 5 \n",
    "\n",
    "factors = range(1,6)                    # 1, 2, 3, 4, 5\n",
    "\n",
    "factorial = reduce(lambda a , b: a * b, range(1,6)) \n",
    "\n",
    "print(factorial) \n"
   ]
  },
  {
   "cell_type": "markdown",
   "id": "d87bc3ff-fa48-45a6-8684-3a9fd8435b61",
   "metadata": {},
   "source": [
    "<br>\n",
    "\n",
    "<br>\n",
    "\n",
    "<font size=\"+1\">↳⭐</font> **2.27 ➜ B** ===> <span style=\"background-color: #CAFEFD\">&nbsp;**Find the factorial of a number** using both <span style=\"color: red\">**reduce( )**</span> and <span style=\"color: red\">**lambda**</span> functions&nbsp;</span>\n",
    "\n",
    "<br>\n",
    "\n",
    "<span style=\"color: blue\">**Solution-1**</span>"
   ]
  },
  {
   "cell_type": "code",
   "execution_count": 65,
   "id": "5c712e63-f0a9-4d1b-89f7-e7b36b21b378",
   "metadata": {},
   "outputs": [
    {
     "name": "stdout",
     "output_type": "stream",
     "text": [
      "120\n",
      "120\n"
     ]
    }
   ],
   "source": [
    "\n",
    "from functools import reduce \n",
    "\n",
    "n = 5 \n",
    "\n",
    "'''\n",
    "factors = [i+1 for i in range(n)]                    # [1, 2, 3, 4, 5] \n",
    "factors = range(1,6)                                 # 1, 2, 3, 4, 5\n",
    "\n",
    "factorial = reduce(lambda a , b: a * b, factors) \n",
    "'''\n",
    "\n",
    "factorial_method1 = reduce(lambda a , b: a * b, [i+1 for i in range(n)]) \n",
    "factorial_method2 = reduce(lambda a , b: a * b, range(1,6)) \n",
    "\n",
    "print(factorial_method1) \n",
    "print(factorial_method2)\n"
   ]
  },
  {
   "cell_type": "markdown",
   "id": "353ab7fc-4663-492f-895e-531c58b48a5c",
   "metadata": {},
   "source": [
    "<br>\n",
    "\n",
    "Let's try to make it like a function where we pass a number as a paramter and it gives a result. Also let's try to keep it a in a single line"
   ]
  },
  {
   "cell_type": "code",
   "execution_count": 66,
   "id": "366399b5-9c88-4d24-b3f9-2432c4ebe59c",
   "metadata": {},
   "outputs": [
    {
     "ename": "TypeError",
     "evalue": "'int' object is not callable",
     "output_type": "error",
     "traceback": [
      "\u001b[1;31m---------------------------------------------------------------------------\u001b[0m",
      "\u001b[1;31mTypeError\u001b[0m                                 Traceback (most recent call last)",
      "Cell \u001b[1;32mIn[66], line 5\u001b[0m\n\u001b[0;32m      1\u001b[0m \u001b[38;5;28;01mfrom\u001b[39;00m \u001b[38;5;21;01mfunctools\u001b[39;00m \u001b[38;5;28;01mimport\u001b[39;00m reduce\n\u001b[0;32m      3\u001b[0m factorial \u001b[38;5;241m=\u001b[39m reduce(\u001b[38;5;28;01mlambda\u001b[39;00m a , b: a \u001b[38;5;241m*\u001b[39m b, \u001b[38;5;28mrange\u001b[39m(\u001b[38;5;241m1\u001b[39m,n\u001b[38;5;241m+\u001b[39m\u001b[38;5;241m1\u001b[39m))\n\u001b[1;32m----> 5\u001b[0m \u001b[38;5;28mprint\u001b[39m(\u001b[43mfactorial\u001b[49m\u001b[43m(\u001b[49m\u001b[38;5;241;43m5\u001b[39;49m\u001b[43m)\u001b[49m)\n",
      "\u001b[1;31mTypeError\u001b[0m: 'int' object is not callable"
     ]
    }
   ],
   "source": [
    "\n",
    "from functools import reduce\n",
    "\n",
    "factorial = reduce(lambda a , b: a * b, range(1,n+1))\n",
    "\n",
    "print(factorial(5))\n"
   ]
  },
  {
   "cell_type": "markdown",
   "id": "c419d804-73cf-476c-9d83-16682efb5ccf",
   "metadata": {},
   "source": [
    "<br>\n",
    "\n",
    "<span style=\"background-color: yellow\">You **can't** call a function with a **filter( )** or **map( )** or **reduce( )** function. **To call it like function without any name, you have to use lambda functions**.</span>\n",
    "\n",
    "<br>\n",
    "\n",
    "<span style=\"color: blue\">**Solution-2**</span>"
   ]
  },
  {
   "cell_type": "code",
   "execution_count": 67,
   "id": "18e00e71-9c94-406c-b4b0-0330a66c83dc",
   "metadata": {},
   "outputs": [
    {
     "name": "stdout",
     "output_type": "stream",
     "text": [
      "120\n"
     ]
    }
   ],
   "source": [
    "\n",
    "from functools import reduce\n",
    "\n",
    "factorial = lambda n: reduce(lambda a , b: a * b, range(1,n+1))\n",
    "\n",
    "print(factorial(5))\n"
   ]
  },
  {
   "cell_type": "markdown",
   "id": "6a851398-0383-4c72-a1cf-4478c150deb9",
   "metadata": {},
   "source": [
    "<br>\n",
    "\n",
    "<br>\n",
    "\n",
    "<font size=\"+1\">↳⭐</font> **2.28** ===> <span style=\"background-color: #CAFEFD\">&nbsp;**Find the maximum element in a list of values** using both <span style=\"color: red\">**reduce( )**</span> and <span style=\"color: red\">**lambda**</span> functions&nbsp;</span>"
   ]
  },
  {
   "cell_type": "code",
   "execution_count": 68,
   "id": "a08af7e1-2bc9-44c8-80c0-c36e47a8c336",
   "metadata": {},
   "outputs": [
    {
     "name": "stdout",
     "output_type": "stream",
     "text": [
      "Maximum element in [4, 6, 8, 1, 3, 8, 5, 4] : 8\n"
     ]
    }
   ],
   "source": [
    "\n",
    "# Using reduce() to find maximum element in a list of values\n",
    "\n",
    "from functools import reduce\n",
    "\n",
    "numbers = [4, 6, 8, 1, 3, 8, 5, 4]\n",
    "\n",
    "max_num = reduce(lambda x, y: x if x > y else y, numbers)\n",
    "\n",
    "print(\"Maximum element in\", numbers, \":\", max_num)\n"
   ]
  },
  {
   "cell_type": "markdown",
   "id": "64297292-cee8-4c2a-a737-4c0f1cb9cc86",
   "metadata": {},
   "source": [
    "<br>\n",
    "\n",
    "<br>\n",
    "\n",
    "<br>\n",
    "\n",
    "<font size=\"+2\"><span style=\"color: #F7057E\">••••••••••••••••••••••••••••••••••••••••••••••••••••••••••••••••••••••••••••••••••••••••••••••••••••••••••••</span></font>\n",
    "<br>\n",
    "\n",
    "<br>\n",
    "\n",
    "<span style=\"font-size: larger; color: #08B61A\">**List Comprehension in a Lambda**</span>\n",
    "\n",
    "<br>\n",
    "\n",
    "<span style=\"background-color: yellow\">List comprehension is **an expression, not a statement**, so you can safely use it in a lambda function</span>.\n",
    "\n",
    "<br>\n",
    "\n",
    "<font size=\"+1\">↳⭐</font> **2.29** ===> <span style=\"background-color: #CAFEFD\">&nbsp;**Flatten a nested list** with <span style=\"color: red\">**lambda**</span>&nbsp;</span>\n"
   ]
  },
  {
   "cell_type": "code",
   "execution_count": 69,
   "id": "0a87c15d-7c57-42e9-ad54-9850ad27e9dd",
   "metadata": {},
   "outputs": [
    {
     "name": "stdout",
     "output_type": "stream",
     "text": [
      "[1, 2, 3, 4, 5, 6, 7, 8, 9]\n",
      "['a', 'b', 'c', 'd', 'e']\n"
     ]
    }
   ],
   "source": [
    "\n",
    "# Flatten a nested list with lambda\n",
    "flatten = lambda l: [item for sublist in l for item in sublist]\n",
    "\n",
    "###############################################################################################\n",
    "\n",
    "number_list = [[1, 2, 3], [4, 5, 6], [7], [8, 9]]\n",
    "\n",
    "print(flatten(number_list))                           # Prints [1, 2, 3, 4, 5, 6, 7, 8, 9]\n",
    "\n",
    "\n",
    "################################################################################################\n",
    "\n",
    "string_list = [['a', 'b', 'c'], ['d', 'e']]\n",
    "\n",
    "print(flatten(string_list))                           # Prints ['a', 'b', 'c', 'd', 'e']\n"
   ]
  },
  {
   "cell_type": "markdown",
   "id": "ea117fdd-07cd-4894-9037-783f31e59c3b",
   "metadata": {},
   "source": [
    "<br>\n",
    "\n",
    "<br>\n",
    "\n",
    "<br>\n",
    "\n",
    "<font size=\"+2\"><span style=\"color: #F7057E\">••••••••••••••••••••••••••••••••••••••••••••••••••••••••••••••••••••••••••••••••••••••••••••••••••••••••••••</span></font>\n",
    "<br>\n",
    "\n",
    "<br>\n",
    "\n",
    "<span style=\"font-size: larger; color: #08B61A\">**Jump Table Using a Lambda**</span>\n",
    "\n",
    "<br>\n",
    "\n",
    "<span style=\"background-color: yellow\">The jump table is **a list or dictionary of functions to be called on demand**. Here’s how a lambda function is used to implement a jump table.</span>\n",
    "\n",
    "<br>\n",
    "\n",
    "<font size=\"+1\">↳⭐</font> **2.30** ===> <span style=\"background-color: #CAFEFD\">&nbsp;**create a dictionary of functions** using <span style=\"color: red\">**lambda**</span> function&nbsp;</span>"
   ]
  },
  {
   "cell_type": "code",
   "execution_count": 70,
   "id": "4238d349-842a-426d-910c-a945d54328ad",
   "metadata": {},
   "outputs": [
    {
     "name": "stdout",
     "output_type": "stream",
     "text": [
      "9\n",
      "27\n"
     ]
    }
   ],
   "source": [
    "\n",
    "# dictionary of functions\n",
    "exponent = {'square':lambda x: x ** 2,\n",
    "            'cube':lambda x: x ** 3}\n",
    "\n",
    "\n",
    "print(exponent['square'](3))               # Prints 9\n",
    "\n",
    "\n",
    "print(exponent['cube'](3))                 # Prints 27\n"
   ]
  },
  {
   "cell_type": "markdown",
   "id": "f4570d68-0076-4448-a105-b69ce48073f7",
   "metadata": {},
   "source": [
    "<br>\n",
    "\n",
    "<font size=\"+1\">↳⭐</font> **2.31** ===> <span style=\"background-color: #CAFEFD\">&nbsp;**create a list of functions** using <span style=\"color: red\">**lambda**</span> function&nbsp;</span>"
   ]
  },
  {
   "cell_type": "code",
   "execution_count": 71,
   "id": "b8533c44-2e26-4dcf-a700-7659e738dfad",
   "metadata": {},
   "outputs": [
    {
     "name": "stdout",
     "output_type": "stream",
     "text": [
      "9\n",
      "27\n"
     ]
    }
   ],
   "source": [
    "\n",
    "# list of functions\n",
    "exponent = [lambda x: x ** 2,\n",
    "            lambda x: x ** 3]\n",
    "\n",
    "\n",
    "print(exponent[0](3))                      # Prints 9\n",
    "\n",
    "\n",
    "print(exponent[1](3))                      # Prints 27\n"
   ]
  },
  {
   "cell_type": "markdown",
   "id": "52ce68cd-45a4-4a6b-9964-9f04cb823875",
   "metadata": {},
   "source": [
    "<br>\n",
    "\n",
    "<br>\n",
    "\n",
    "<br>\n",
    "\n",
    "<font size=\"+2\"><span style=\"color: #F7057E\">••••••••••••••••••••••••••••••••••••••••••••••••••••••••••••••••••••••••••••••••••••••••••••••••••••••••••••</span></font>\n",
    "<br>\n",
    "\n",
    "<br>\n",
    "\n",
    "<span style=\"font-size: larger; color: #08B61A\">**Lambda Key Functions**</span>\n",
    "\n",
    "<br>\n",
    "\n",
    "In Python, <span style=\"color: blue\">key functions</span> are **higher-order functions** <span style=\"color: blue\">that take another function (which can be a lambda function) as a key argument</span>. This function directly changes the behavior of the key function itself. Here are some key functions:\n",
    "\n",
    "<font size=\"+2\"><span style=\"color: red\">↳</span></font>&nbsp;<span style=\"background-color: yellow\">List method</span> ➜ <span style=\"color: blue; font-size: larger\"><strong>sort( )</strong></span>  <br>\n",
    "<font size=\"+2\"><span style=\"color: red\">↳</span></font>&nbsp;<span style=\"background-color: yellow\">Built-in functions</span> ➜ <span style=\"color: blue; font-size: larger\"><strong>sorted( )</strong></span>&nbsp;**,**&nbsp;<span style=\"color: blue; font-size: larger\"><strong>min( )</strong></span>&nbsp;**,**&nbsp;<span style=\"color: blue; font-size: larger\"><strong>max( )</strong></span>  <br>\n",
    "<font size=\"+2\"><span style=\"color: red\">↳</span></font>&nbsp;<span style=\"background-color: yellow\">In the Heap queue algorithm module heapq</span> ➜ <span style=\"color: blue; font-size: larger\"><strong>nlargest( )</strong></span> &nbsp;and&nbsp; <span style=\"color: blue; font-size: larger\"><strong>nsmallest( )</strong></span>   <br>\n",
    "<font size=\"+2\"><span style=\"color: red\">↳</span></font>&nbsp;<span style=\"background-color: yellow\">functions in Itertools module</span> ➜ <span style=\"color: blue; font-size: larger\"><strong>groupby( )</span>\n"
   ]
  },
  {
   "cell_type": "markdown",
   "id": "d3b0ff48-4334-40a2-989d-f8b307519cd6",
   "metadata": {},
   "source": [
    "<span style=\"color: #F7D205\">⁃⁃⁃⁃⁃⁃⁃⁃⁃⁃⁃⁃⁃⁃⁃⁃⁃⁃⁃⁃⁃⁃⁃⁃⁃⁃⁃⁃⁃⁃⁃⁃⁃⁃⁃⁃⁃⁃⁃⁃⁃⁃⁃⁃⁃⁃⁃⁃⁃⁃⁃⁃⁃⁃⁃⁃⁃⁃⁃⁃⁃⁃⁃⁃⁃⁃⁃⁃⁃⁃⁃⁃⁃⁃⁃⁃⁃⁃⁃⁃⁃⁃⁃⁃⁃⁃⁃⁃⁃⁃⁃⁃⁃⁃⁃⁃⁃⁃⁃⁃⁃⁃⁃⁃⁃⁃⁃⁃⁃⁃⁃⁃⁃⁃⁃⁃⁃⁃⁃⁃⁃⁃⁃⁃⁃⁃⁃⁃⁃⁃⁃⁃⁃⁃⁃⁃⁃⁃⁃⁃⁃⁃⁃⁃⁃⁃⁃⁃⁃⁃⁃⁃⁃⁃⁃⁃⁃⁃⁃⁃⁃⁃⁃⁃⁃⁃⁃⁃⁃⁃⁃⁃⁃⁃⁃⁃⁃⁃⁃⁃⁃⁃⁃⁃⁃⁃⁃⁃</span>\n",
    "\n",
    "<br>\n",
    "\n",
    "<font size=\"+2\"><span style=\"color: red\">↳</span></font>&nbsp;&nbsp;**with &nbsp;<span style=\"color: red; font-size: larger\">sorted( )</span>**\n",
    "\n",
    "<br>\n",
    "\n",
    "<div style=\"border: 1px solid pink; padding: 10px; background-color: #fff6f6\">\n",
    "\n",
    "**<span style=\"background-color: white; font-size: larger\"><span style=\"color: blue\">&nbsp;sorted</span><span style=\"color: black\">(&nbsp;<span style=\"background-color: yellow\">iterable</span>, <span style=\"background-color: yellow\">key</span> = None, <span style=\"background-color: yellow\">reverse</span> = False&nbsp;)&nbsp;</span>** </span>\n",
    "\n",
    "<br>\n",
    "\n",
    "&nbsp;&nbsp;&nbsp;&nbsp;&nbsp;&nbsp;&nbsp;&nbsp;where, **iterable** ============> &nbsp;The iterable object (e.g., list, tuple, set) to be sorted. <br>\n",
    "<br>\n",
    "&nbsp;&nbsp;&nbsp;&nbsp;&nbsp;&nbsp;&nbsp;&nbsp;&nbsp;&nbsp;&nbsp;&nbsp;&nbsp;&nbsp;&nbsp;&nbsp;&nbsp;&nbsp;&nbsp;&nbsp;**key** (optional)  ========> &nbsp;A **function** that takes an element of the iterable as input and returns a value based on which the sorting will be done. <br>\n",
    "&nbsp;&nbsp;&nbsp;&nbsp;&nbsp;&nbsp;&nbsp;&nbsp;&nbsp;&nbsp;&nbsp;&nbsp;&nbsp;&nbsp;&nbsp;&nbsp;&nbsp;&nbsp;&nbsp;&nbsp;&nbsp;&nbsp;&nbsp;&nbsp;&nbsp;&nbsp;&nbsp;&nbsp;&nbsp;&nbsp;&nbsp;&nbsp;&nbsp;&nbsp;&nbsp;&nbsp;&nbsp;&nbsp;&nbsp;&nbsp;&nbsp;&nbsp;&nbsp;&nbsp;&nbsp;&nbsp;&nbsp;&nbsp;&nbsp;&nbsp;&nbsp;&nbsp;&nbsp;&nbsp;&nbsp;&nbsp;&nbsp;&nbsp;&nbsp;&nbsp;&nbsp;&nbsp;&nbsp;&nbsp;&nbsp;&nbsp;&nbsp;&nbsp;If not specified or **'None'**, the elements are sorted based on their natural order. <br>\n",
    "<br>\n",
    "&nbsp;&nbsp;&nbsp;&nbsp;&nbsp;&nbsp;&nbsp;&nbsp;&nbsp;&nbsp;&nbsp;&nbsp;&nbsp;&nbsp;&nbsp;&nbsp;&nbsp;&nbsp;&nbsp;&nbsp;**reverse** (optional)  =====>\n",
    "&nbsp;A boolean value indicating whether the sorting should be done in reverse order (&nbsp;**<span style=\"background-color: yellow\">True</span>**&nbsp;) or not (&nbsp;**<span style=\"background-color: yellow\">False</span>**&nbsp;). <br>\n",
    "&nbsp;&nbsp;&nbsp;&nbsp;&nbsp;&nbsp;&nbsp;&nbsp;&nbsp;&nbsp;&nbsp;&nbsp;&nbsp;&nbsp;&nbsp;&nbsp;&nbsp;&nbsp;&nbsp;&nbsp;&nbsp;&nbsp;&nbsp;&nbsp;&nbsp;&nbsp;&nbsp;&nbsp;&nbsp;&nbsp;&nbsp;&nbsp;&nbsp;&nbsp;&nbsp;&nbsp;&nbsp;&nbsp;&nbsp;&nbsp;&nbsp;&nbsp;&nbsp;&nbsp;&nbsp;&nbsp;&nbsp;&nbsp;&nbsp;&nbsp;&nbsp;&nbsp;&nbsp;&nbsp;&nbsp;&nbsp;&nbsp;&nbsp;&nbsp;&nbsp;&nbsp;&nbsp;&nbsp;&nbsp;&nbsp;&nbsp; Default is False (ascending order).\n",
    "\n",
    "<br>\n",
    "\n",
    "&nbsp;🔶  ➜ The <span style=\"color: blue\">**sorted( )**</span> function returns a new sorted list containing the elements of the original iterable.\n",
    "\n",
    "</div>\n",
    "\n",
    "<br>\n",
    "\n",
    "<br>\n",
    "\n",
    "In the following example, a lambda is assigned to the key argument so that the list of students is **sorted by their age** rather than by name.\n",
    "\n",
    "<br>\n",
    "\n",
    "<font size=\"+1\">↳⭐</font> **2.32 ➜ A** ===> <span style=\"background-color: #CAFEFD\">&nbsp;**Given a list of tuples by the age of students, sort them by their age** using <span style=\"color: red\">**lambda**</span> function&nbsp;</span>\n",
    "\n",
    "<span style=\"color: blue\">Sort in ascending order of age <font size=\"+2\">↴</font></span>\n"
   ]
  },
  {
   "cell_type": "code",
   "execution_count": 72,
   "id": "b569e072-22ee-4da4-af62-1db73de341c0",
   "metadata": {},
   "outputs": [
    {
     "name": "stdout",
     "output_type": "stream",
     "text": [
      "[('Aman', 25), ('Radha', 28), ('Avinash', 30)]\n"
     ]
    }
   ],
   "source": [
    "\n",
    "# Sort the list of tuples by the age of students\n",
    "L = [('Avinash', 30),\n",
    "    ('Aman', 25),\n",
    "    ('Radha', 28)]\n",
    "\n",
    "\n",
    "x = sorted(L, key=lambda student: student[1])\n",
    "\n",
    "\n",
    "print(x)     # Prints [('Aman', 25), ('Radha', 28), ('Avinash', 30)]\n"
   ]
  },
  {
   "cell_type": "markdown",
   "id": "99a7db3a-4b00-405d-aad9-46a81b2b20ce",
   "metadata": {},
   "source": [
    "<span style=\"color: blue\">Sort in descending order of age <font size=\"+2\">↴</font></span>"
   ]
  },
  {
   "cell_type": "code",
   "execution_count": 73,
   "id": "260f0686-ceb5-4318-8cfa-b0607e66e19d",
   "metadata": {},
   "outputs": [
    {
     "name": "stdout",
     "output_type": "stream",
     "text": [
      "[('Avinash', 30), ('Radha', 28), ('Aman', 25)]\n"
     ]
    }
   ],
   "source": [
    "\n",
    "# Sort the list of tuples by the age of students\n",
    "L = [('Avinash', 30),\n",
    "    ('Aman', 25),\n",
    "    ('Radha', 28)]\n",
    "\n",
    "\n",
    "x = sorted(L, key=lambda student: student[1], reverse= True)\n",
    "\n",
    "\n",
    "print(x)     # Prints [('Avinash', 30), ('Radha', 28), ('Aman', 25)]\n"
   ]
  },
  {
   "cell_type": "markdown",
   "id": "b6928421-f009-42ce-ad4d-3646c28dbf0d",
   "metadata": {},
   "source": [
    "<br>\n",
    "\n",
    "we can sort a list of tuples based on the value of any specific element (either 1st or 2nd) in each tuple.\n",
    "\n",
    "<br>\n",
    "\n",
    "<font size=\"+1\">↳⭐</font> **2.32 ➜ B** ===> <span style=\"background-color: #CAFEFD\">&nbsp;**Given a list of tuples by the age of students, sort them by their name in dictionary or ascending order** using <span style=\"color: red\">**lambda**</span> function&nbsp;</span>\n"
   ]
  },
  {
   "cell_type": "code",
   "execution_count": 74,
   "id": "3203ed37-7364-4489-834a-af4d87c2c189",
   "metadata": {},
   "outputs": [
    {
     "name": "stdout",
     "output_type": "stream",
     "text": [
      "[('Aman', 25), ('Avinash', 30), ('Radha', 28)]\n"
     ]
    }
   ],
   "source": [
    "\n",
    "# Sort the list of tuples by the age of students\n",
    "L = [('Avinash', 30), ('Aman', 25), ('Radha', 28)]\n",
    "\n",
    "\n",
    "x = sorted(L, key=lambda student: student[0])\n",
    "\n",
    "\n",
    "print(x)     # Prints [('Aman', 25), ('Avinash', 30), ('Radha', 28)]\n"
   ]
  },
  {
   "cell_type": "markdown",
   "id": "13f048dc-acc2-4e10-9527-bda5509c56d8",
   "metadata": {},
   "source": [
    "<br>\n",
    "\n",
    "<font size=\"+1\">↳⭐</font> **2.33** ===> <span style=\"background-color: #CAFEFD\">&nbsp;**sort a list of strings by their lengths** using <span style=\"color: red\">**lambda**</span> functions &nbsp;</span>"
   ]
  },
  {
   "cell_type": "code",
   "execution_count": 75,
   "id": "43ea538b-7c0e-46f8-af47-f8281d1f70ce",
   "metadata": {},
   "outputs": [
    {
     "name": "stdout",
     "output_type": "stream",
     "text": [
      "['date', 'apple', 'mango', 'banana', 'cherry']\n",
      "['banana', 'cherry', 'apple', 'mango', 'date']\n"
     ]
    }
   ],
   "source": [
    "\n",
    "words = ['apple', 'banana', 'cherry', 'date', 'mango']\n",
    "\n",
    "sorted_words = sorted(words, key=lambda x: len(x))                            # Sorting a list of strings by length\n",
    "reverse_sorted_words = sorted(words, key=lambda x: len(x), reverse = True)    # Sorting a list of strings by length in reverse order\n",
    "\n",
    "print(sorted_words) \n",
    "print(reverse_sorted_words) \n"
   ]
  },
  {
   "cell_type": "markdown",
   "id": "9c169532-ae39-4d3a-8989-7b334be78a42",
   "metadata": {},
   "source": [
    "<br>\n",
    "\n",
    "<br>\n",
    "\n",
    "<span style=\"background-color: yellow\">&nbsp;Notice - if we remove the lambda function from the second argument of the sorted( ) function, it'd throw a **typerror** :&nbsp;</span>"
   ]
  },
  {
   "cell_type": "code",
   "execution_count": 76,
   "id": "2be776e6-0eea-4db4-8bc6-6bee1d7be496",
   "metadata": {},
   "outputs": [
    {
     "ename": "TypeError",
     "evalue": "'int' object is not callable",
     "output_type": "error",
     "traceback": [
      "\u001b[1;31m---------------------------------------------------------------------------\u001b[0m",
      "\u001b[1;31mTypeError\u001b[0m                                 Traceback (most recent call last)",
      "Cell \u001b[1;32mIn[76], line 3\u001b[0m\n\u001b[0;32m      1\u001b[0m words \u001b[38;5;241m=\u001b[39m [\u001b[38;5;124m'\u001b[39m\u001b[38;5;124mapple\u001b[39m\u001b[38;5;124m'\u001b[39m, \u001b[38;5;124m'\u001b[39m\u001b[38;5;124mbanana\u001b[39m\u001b[38;5;124m'\u001b[39m, \u001b[38;5;124m'\u001b[39m\u001b[38;5;124mcherry\u001b[39m\u001b[38;5;124m'\u001b[39m, \u001b[38;5;124m'\u001b[39m\u001b[38;5;124mdate\u001b[39m\u001b[38;5;124m'\u001b[39m, \u001b[38;5;124m'\u001b[39m\u001b[38;5;124mmango\u001b[39m\u001b[38;5;124m'\u001b[39m]\n\u001b[1;32m----> 3\u001b[0m sorted_words \u001b[38;5;241m=\u001b[39m \u001b[38;5;28;43msorted\u001b[39;49m\u001b[43m(\u001b[49m\u001b[43mwords\u001b[49m\u001b[43m,\u001b[49m\u001b[43m \u001b[49m\u001b[43mkey\u001b[49m\u001b[43m \u001b[49m\u001b[38;5;241;43m=\u001b[39;49m\u001b[43m \u001b[49m\u001b[38;5;28;43mlen\u001b[39;49m\u001b[43m(\u001b[49m\u001b[43mx\u001b[49m\u001b[43m)\u001b[49m\u001b[43m)\u001b[49m \n",
      "\u001b[1;31mTypeError\u001b[0m: 'int' object is not callable"
     ]
    }
   ],
   "source": [
    "\n",
    "words = ['apple', 'banana', 'cherry', 'date', 'mango']\n",
    "\n",
    "sorted_words = sorted(words, key = len(x)) \n"
   ]
  },
  {
   "cell_type": "markdown",
   "id": "452696b0-14e0-4ad1-a855-449ab1673fbe",
   "metadata": {},
   "source": [
    "<br>\n",
    "\n",
    "<br>\n",
    "\n",
    "<font size=\"+1\">↳⭐</font> **2.34** ===> <span style=\"background-color: #CAFEFD\">&nbsp;**sort a list of dictionaries based on a specific key** using <span style=\"color: red\">**lambda**</span> functions &nbsp;</span>"
   ]
  },
  {
   "cell_type": "code",
   "execution_count": 77,
   "id": "4fa017f0-407e-4368-bac7-6cab31397bcb",
   "metadata": {},
   "outputs": [
    {
     "name": "stdout",
     "output_type": "stream",
     "text": [
      "{'name': 'Bob', 'age': 25}\n",
      "{'name': 'Alice', 'age': 30}\n",
      "{'name': 'Charlie', 'age': 35}\n"
     ]
    }
   ],
   "source": [
    "\n",
    "# List of dictionaries\n",
    "data = [\n",
    "    {'name': 'Alice', 'age': 30},\n",
    "    {'name': 'Bob', 'age': 25},\n",
    "    {'name': 'Charlie', 'age': 35}\n",
    "]\n",
    "\n",
    "# Sort the list of dictionaries based on the 'age' key\n",
    "sorted_data = sorted(data, key=lambda x: x['age'])\n",
    "\n",
    "# Print the sorted list\n",
    "for item in sorted_data:\n",
    "    print(item)\n"
   ]
  },
  {
   "cell_type": "markdown",
   "id": "9eb61ca4-f2c2-4e47-af55-2a5fd3b0659a",
   "metadata": {},
   "source": [
    "<br>\n",
    "\n",
    "<br>\n",
    "\n",
    "<span style=\"color: #F7D205\">⁃⁃⁃⁃⁃⁃⁃⁃⁃⁃⁃⁃⁃⁃⁃⁃⁃⁃⁃⁃⁃⁃⁃⁃⁃⁃⁃⁃⁃⁃⁃⁃⁃⁃⁃⁃⁃⁃⁃⁃⁃⁃⁃⁃⁃⁃⁃⁃⁃⁃⁃⁃⁃⁃⁃⁃⁃⁃⁃⁃⁃⁃⁃⁃⁃⁃⁃⁃⁃⁃⁃⁃⁃⁃⁃⁃⁃⁃⁃⁃⁃⁃⁃⁃⁃⁃⁃⁃⁃⁃⁃⁃⁃⁃⁃⁃⁃⁃⁃⁃⁃⁃⁃⁃⁃⁃⁃⁃⁃⁃⁃⁃⁃⁃⁃⁃⁃⁃⁃⁃⁃⁃⁃⁃⁃⁃⁃⁃⁃⁃⁃⁃⁃⁃⁃⁃⁃⁃⁃⁃⁃⁃⁃⁃⁃⁃⁃⁃⁃⁃⁃⁃⁃⁃⁃⁃⁃⁃⁃⁃⁃⁃⁃⁃⁃⁃⁃⁃⁃⁃⁃⁃⁃⁃⁃⁃⁃⁃⁃⁃⁃⁃⁃⁃⁃⁃⁃⁃</span>\n",
    "\n",
    "<br>\n",
    "\n",
    "<font size=\"+2\"><span style=\"color: red\">↳</span></font>&nbsp;&nbsp;**with &nbsp;<span style=\"color: red; font-size: larger\">sort( )</span>**\n",
    "\n",
    "<br>\n",
    "\n",
    "<div style=\"border: 1px solid pink; padding: 10px; background-color: #fff6f6\">\n",
    "\n",
    "**<span style=\"background-color: white; font-size: larger\"><span style=\"background-color: #CAFEFD\">list</span>.<span style=\"color: blue\">sort</span><span style=\"color: black\">(&nbsp;<span style=\"background-color: yellow\">reverse</span> = True | False , <span style=\"background-color: yellow\">key</span> = <span style=\"color: #FF00A2\">lambda</span> x: expression&nbsp;)&nbsp;</span>** </span>\n",
    "\n",
    "<br>\n",
    "\n",
    "&nbsp;&nbsp;&nbsp;&nbsp;&nbsp;&nbsp;&nbsp;&nbsp;where, **reverse** (optional)  =====>\n",
    "&nbsp;A boolean value indicating whether the sorting should be done in reverse order (&nbsp;**<span style=\"background-color: yellow\">True</span>**&nbsp;) or not (&nbsp;**<span style=\"background-color: yellow\">False</span>**&nbsp;). <br>\n",
    "&nbsp;&nbsp;&nbsp;&nbsp;&nbsp;&nbsp;&nbsp;&nbsp;&nbsp;&nbsp;&nbsp;&nbsp;&nbsp;&nbsp;&nbsp;&nbsp;&nbsp;&nbsp;&nbsp;&nbsp;&nbsp;&nbsp;&nbsp;&nbsp;&nbsp;&nbsp;&nbsp;&nbsp;&nbsp;&nbsp;&nbsp;&nbsp;&nbsp;&nbsp;&nbsp;&nbsp;&nbsp;&nbsp;&nbsp;&nbsp;&nbsp;&nbsp;&nbsp;&nbsp;&nbsp;&nbsp;&nbsp;&nbsp;&nbsp;&nbsp;&nbsp;&nbsp;&nbsp;&nbsp;&nbsp;&nbsp;&nbsp;&nbsp;&nbsp;&nbsp;&nbsp;&nbsp;&nbsp;&nbsp;&nbsp;&nbsp; Default is False (ascending order). <br>\n",
    "\n",
    "&nbsp;&nbsp;&nbsp;&nbsp;&nbsp;&nbsp;&nbsp;&nbsp;&nbsp;&nbsp;&nbsp;&nbsp;&nbsp;&nbsp;&nbsp;&nbsp;&nbsp;&nbsp;&nbsp;&nbsp;**key** (optional)  =======> &nbsp;A **function** to specify the sorting criteria(s) <br>\n",
    "\n",
    "<br>\n",
    "\n",
    "<br>\n",
    "\n",
    "&nbsp;🔶  ➜ The <span style=\"color: blue\">**sort( )**</span> method sorts the list ascending by default.\n",
    "\n",
    "&nbsp;🔶  ➜ The parameters can be in any order.\n",
    "\n",
    "</div>\n",
    "\n",
    "<br>\n",
    "\n",
    "<br>\n",
    "\n",
    "<font size=\"+1\">↳⭐</font> **2.35** ===> <span style=\"background-color: #CAFEFD\">&nbsp;**Sort a list of integers in descending order of their absolute values** using <span style=\"color: red\">**list.sort( )**</span> functions and <span style=\"color: red\">**lambda**</span> functions &nbsp;</span>"
   ]
  },
  {
   "cell_type": "code",
   "execution_count": 78,
   "id": "72b88c46-57b9-4bc3-a1f6-e2eb63b5ae74",
   "metadata": {},
   "outputs": [
    {
     "name": "stdout",
     "output_type": "stream",
     "text": [
      "[7, -5, 4, -2, 1]\n"
     ]
    }
   ],
   "source": [
    "\n",
    "# Sorting a list of integers in descending order of their absolute values\n",
    "numbers = [4, -2, 7, -5, 1]\n",
    "\n",
    "\n",
    "numbers.sort(key=lambda x: abs(x), reverse=True)\n",
    "\n",
    "\n",
    "print(numbers)  # Output: [-7, 4, -5, 2, 1]\n"
   ]
  },
  {
   "cell_type": "markdown",
   "id": "530185a3-033e-4722-a6e8-40bb661611da",
   "metadata": {},
   "source": [
    "<br>\n",
    "Let's reverse the parameters :"
   ]
  },
  {
   "cell_type": "code",
   "execution_count": 79,
   "id": "7b4e4f08-9e07-4688-81a7-26e6bb46adf4",
   "metadata": {},
   "outputs": [
    {
     "name": "stdout",
     "output_type": "stream",
     "text": [
      "[7, -5, 4, -2, 1]\n"
     ]
    }
   ],
   "source": [
    "\n",
    "# Sorting a list of integers in descending order of their absolute values\n",
    "numbers = [4, -2, 7, -5, 1]\n",
    "\n",
    "\n",
    "numbers.sort(reverse=True , key=lambda x: abs(x))\n",
    "\n",
    "\n",
    "print(numbers)  # Output: [-7, 4, -5, 2, 1]\n"
   ]
  },
  {
   "cell_type": "markdown",
   "id": "abc08edb-b0dc-430a-8ebc-3fb07f05d49b",
   "metadata": {},
   "source": [
    "<br>\n",
    "\n",
    "Similar to <span style=\"color: red\">**sorting( )**</span>, we can use <span style=\"color: red\">**list.sort( )**</span> also to sort a list of tuples based on the value of any specific element (either 1st or 2nd) in each tuple :\n",
    "\n",
    "<br>\n",
    "\n",
    "<font size=\"+1\">↳⭐</font> **2.36** ===> <span style=\"background-color: #CAFEFD\">&nbsp;**Sort a list of tuples storing student informations based on their age and name** using <span style=\"color: red\">**list.sort( )**</span> functions and <span style=\"color: red\">**lambda**</span> functions &nbsp;</span>\n"
   ]
  },
  {
   "cell_type": "code",
   "execution_count": 80,
   "id": "04d7d113-2665-4281-9ad6-7f0bde38994f",
   "metadata": {},
   "outputs": [
    {
     "name": "stdout",
     "output_type": "stream",
     "text": [
      "Sorted by age: [('David', 20), ('Bob', 25), ('Alice', 30), ('Charlie', 35)]\n",
      "Sorted by name: [('Alice', 30), ('Bob', 25), ('Charlie', 35), ('David', 20)]\n"
     ]
    }
   ],
   "source": [
    "# List of tuples (name, age)\n",
    "people = [(\"Alice\", 30), (\"Bob\", 25), (\"Charlie\", 35), (\"David\", 20)]\n",
    "\n",
    "# Sorting the list based on the age (second element of each tuple)\n",
    "people.sort(key=lambda x: x[1])\n",
    "\n",
    "print(\"Sorted by age:\", people)\n",
    "\n",
    "# Sorting the list based on the name (first element of each tuple)\n",
    "people.sort(key=lambda x: x[0])\n",
    "\n",
    "print(\"Sorted by name:\", people)\n"
   ]
  },
  {
   "cell_type": "markdown",
   "id": "2ef3083b-f5ec-4a94-9478-c73b8e72f30a",
   "metadata": {},
   "source": [
    "<br>\n",
    "\n",
    "<br>\n",
    "\n",
    "<br>\n",
    "\n",
    "<span style=\"color: #F7D205\">⁃⁃⁃⁃⁃⁃⁃⁃⁃⁃⁃⁃⁃⁃⁃⁃⁃⁃⁃⁃⁃⁃⁃⁃⁃⁃⁃⁃⁃⁃⁃⁃⁃⁃⁃⁃⁃⁃⁃⁃⁃⁃⁃⁃⁃⁃⁃⁃⁃⁃⁃⁃⁃⁃⁃⁃⁃⁃⁃⁃⁃⁃⁃⁃⁃⁃⁃⁃⁃⁃⁃⁃⁃⁃⁃⁃⁃⁃⁃⁃⁃⁃⁃⁃⁃⁃⁃⁃⁃⁃⁃⁃⁃⁃⁃⁃⁃⁃⁃⁃⁃⁃⁃⁃⁃⁃⁃⁃⁃⁃⁃⁃⁃⁃⁃⁃⁃⁃⁃⁃⁃⁃⁃⁃⁃⁃⁃⁃⁃⁃⁃⁃⁃⁃⁃⁃⁃⁃⁃⁃⁃⁃⁃⁃⁃⁃⁃⁃⁃⁃⁃⁃⁃⁃⁃⁃⁃⁃⁃⁃⁃⁃⁃⁃⁃⁃⁃⁃⁃⁃⁃⁃⁃⁃⁃⁃⁃⁃⁃⁃⁃⁃⁃⁃⁃⁃⁃⁃</span>\n",
    "\n",
    "<br>\n",
    "\n",
    "<font size=\"+2\"><span style=\"color: red\">↳</span></font>&nbsp;&nbsp;**with &nbsp;<span style=\"color: red; font-size: larger\">max( )</span> <font size=\"+1\">/</font> <span style=\"color: red; font-size: larger\">min( )</span>**\n",
    "\n",
    "<br>\n",
    "\n",
    "<div style=\"border: 1px solid pink; padding: 10px; background-color: #fff6f6\">\n",
    "\n",
    "**<span style=\"background-color: white; font-size: larger\"><span style=\"color: blue\">&nbsp;min</span><span style=\"color: black\">(&nbsp;<span style=\"background-color: yellow\">n1</span>,&nbsp;&nbsp;<span style=\"background-color: yellow\">n2</span>,&nbsp;&nbsp;<span style=\"background-color: yellow\">n3</span>, .....)&nbsp;</span>**\n",
    "\n",
    "**<span style=\"background-color: white; font-size: larger\"><span style=\"color: blue\">&nbsp;min</span><span style=\"color: black\">(&nbsp; <span style=\"background-color: yellow\">iterable</span>, <span style=\"background-color: yellow\">\\*iterables</span>, <span style=\"background-color: yellow\">key</span> = None, <span style=\"background-color: yellow\">default</span> = object()&nbsp;)&nbsp;</span>** </span>\n",
    "\n",
    "<br>\n",
    "\n",
    "&nbsp;&nbsp;&nbsp;&nbsp;&nbsp;&nbsp;&nbsp;&nbsp;where, **iterable** ==============> The sequence or collection of elements from which to find the minimum element. <br>\n",
    "\n",
    "&nbsp;&nbsp;&nbsp;&nbsp;&nbsp;&nbsp;&nbsp;&nbsp;&nbsp;&nbsp;&nbsp;&nbsp;&nbsp;&nbsp;&nbsp;&nbsp;&nbsp;&nbsp;&nbsp;<strong>*iterables (optional):</strong>  =====> &nbsp;Additional iterables, separated by commas, from which the smallest item will be found. <br>\n",
    "&nbsp;&nbsp;&nbsp;&nbsp;&nbsp;&nbsp;&nbsp;&nbsp;&nbsp;&nbsp;&nbsp;&nbsp;&nbsp;&nbsp;&nbsp;&nbsp;&nbsp;&nbsp;&nbsp;&nbsp;&nbsp;&nbsp;&nbsp;&nbsp;&nbsp;&nbsp;&nbsp;&nbsp;&nbsp;&nbsp;&nbsp;&nbsp;&nbsp;&nbsp;&nbsp;&nbsp;&nbsp;&nbsp;&nbsp;&nbsp;&nbsp;&nbsp;&nbsp;&nbsp;&nbsp;&nbsp;&nbsp;&nbsp;&nbsp;&nbsp;&nbsp;&nbsp;&nbsp;&nbsp;&nbsp;&nbsp;&nbsp;&nbsp;&nbsp;&nbsp;&nbsp;&nbsp;&nbsp;&nbsp;&nbsp;&nbsp;&nbsp;&nbsp;&nbsp;&nbsp;&nbsp;&nbsp;&nbsp;You can pass multiple iterables, and all elements will be considered in finding the minimum value.        <br>\n",
    "\n",
    "&nbsp;&nbsp;&nbsp;&nbsp;&nbsp;&nbsp;&nbsp;&nbsp;&nbsp;&nbsp;&nbsp;&nbsp;&nbsp;&nbsp;&nbsp;&nbsp;&nbsp;&nbsp;&nbsp;&nbsp;**key (optional):** =========> A function that takes an element from the iterables and returns a value based on which the comparison will be made. <br>\n",
    "&nbsp;&nbsp;&nbsp;&nbsp;&nbsp;&nbsp;&nbsp;&nbsp;&nbsp;&nbsp;&nbsp;&nbsp;&nbsp;&nbsp;&nbsp;&nbsp;&nbsp;&nbsp;&nbsp;&nbsp;&nbsp;&nbsp;&nbsp;&nbsp;&nbsp;&nbsp;&nbsp;&nbsp;&nbsp;&nbsp;&nbsp;&nbsp;&nbsp;&nbsp;&nbsp;&nbsp;&nbsp;&nbsp;&nbsp;&nbsp;&nbsp;&nbsp;&nbsp;&nbsp;&nbsp;&nbsp;&nbsp;&nbsp;&nbsp;&nbsp;&nbsp;&nbsp;&nbsp;&nbsp;&nbsp;&nbsp;&nbsp;&nbsp;&nbsp;&nbsp;&nbsp;&nbsp;&nbsp;&nbsp;&nbsp;&nbsp;&nbsp;&nbsp;&nbsp;&nbsp;&nbsp;&nbsp;&nbsp;If provided, the function will be applied to each element before comparison. <br>\n",
    "&nbsp;&nbsp;&nbsp;&nbsp;&nbsp;&nbsp;&nbsp;&nbsp;&nbsp;&nbsp;&nbsp;&nbsp;&nbsp;&nbsp;&nbsp;&nbsp;&nbsp;&nbsp;&nbsp;&nbsp;&nbsp;&nbsp;&nbsp;&nbsp;&nbsp;&nbsp;&nbsp;&nbsp;&nbsp;&nbsp;&nbsp;&nbsp;&nbsp;&nbsp;&nbsp;&nbsp;&nbsp;&nbsp;&nbsp;&nbsp;&nbsp;&nbsp;&nbsp;&nbsp;&nbsp;&nbsp;&nbsp;&nbsp;&nbsp;&nbsp;&nbsp;&nbsp;&nbsp;&nbsp;&nbsp;&nbsp;&nbsp;&nbsp;&nbsp;&nbsp;&nbsp;&nbsp;&nbsp;&nbsp;&nbsp;&nbsp;&nbsp;&nbsp;&nbsp;&nbsp;&nbsp;&nbsp;&nbsp;The default is **None**, meaning that the elements are compared directly. <br>\n",
    "\n",
    "&nbsp;&nbsp;&nbsp;&nbsp;&nbsp;&nbsp;&nbsp;&nbsp;&nbsp;&nbsp;&nbsp;&nbsp;&nbsp;&nbsp;&nbsp;&nbsp;&nbsp;&nbsp;&nbsp;&nbsp;**default (optional):** =======> If the iterable is empty, this value will be returned. If not provided, and the iterable is empty, a **ValueError** will be raised.\n",
    "\n",
    "\n",
    "\n",
    "<br>\n",
    "\n",
    "The <span style=\"color: blue\">**min( )**</span> function returns the smallest item from the provided iterables.\n",
    "\n",
    "An element at index = n (let say nth element) in the 1st iterable will be compared **only with** the nth element of the 2nd iterable and so on. \n",
    "\n",
    "</div>\n"
   ]
  },
  {
   "cell_type": "code",
   "execution_count": 81,
   "id": "666697f9-daf6-4c8e-9f70-5b083e4af98b",
   "metadata": {},
   "outputs": [
    {
     "name": "stdout",
     "output_type": "stream",
     "text": [
      "1\n"
     ]
    }
   ],
   "source": [
    "\n",
    "min_value = min(2,4,1)\n",
    "\n",
    "print(min_value)\n"
   ]
  },
  {
   "cell_type": "code",
   "execution_count": null,
   "id": "578f384b-fa64-45f7-b0b2-1de25acffe09",
   "metadata": {},
   "outputs": [],
   "source": []
  },
  {
   "cell_type": "code",
   "execution_count": 82,
   "id": "0f94a0cf-e216-485f-a14e-50c8fdde6a42",
   "metadata": {},
   "outputs": [
    {
     "name": "stdout",
     "output_type": "stream",
     "text": [
      "1\n"
     ]
    }
   ],
   "source": [
    "\n",
    "numbers = [2, 4, 1]\n",
    "\n",
    "min_value = min(numbers)\n",
    "\n",
    "print(min_value)\n"
   ]
  },
  {
   "cell_type": "code",
   "execution_count": null,
   "id": "45100adf-f284-4e4c-8358-93fc32ef7fc4",
   "metadata": {},
   "outputs": [],
   "source": []
  },
  {
   "cell_type": "markdown",
   "id": "84f94c4c-978b-4ca7-b77b-6bbde88fafc5",
   "metadata": {},
   "source": [
    "<br>\n",
    "\n",
    "**<span style=\"color: #F703FF; font-size: larger\">Custom comparison based on the last digit</span>**"
   ]
  },
  {
   "cell_type": "code",
   "execution_count": null,
   "id": "0a5c0786-a52d-4dc9-b774-d8b9789eecab",
   "metadata": {},
   "outputs": [],
   "source": []
  },
  {
   "cell_type": "code",
   "execution_count": 83,
   "id": "1e8b63d1-f4d2-412c-aa89-a2a9e6e76925",
   "metadata": {},
   "outputs": [
    {
     "ename": "TypeError",
     "evalue": "'int' object is not iterable",
     "output_type": "error",
     "traceback": [
      "\u001b[1;31m---------------------------------------------------------------------------\u001b[0m",
      "\u001b[1;31mTypeError\u001b[0m                                 Traceback (most recent call last)",
      "Cell \u001b[1;32mIn[83], line 12\u001b[0m\n\u001b[0;32m      9\u001b[0m numbers \u001b[38;5;241m=\u001b[39m [\u001b[38;5;241m12\u001b[39m, \u001b[38;5;241m45\u001b[39m, \u001b[38;5;241m67\u001b[39m, \u001b[38;5;241m89\u001b[39m, \u001b[38;5;241m23\u001b[39m, \u001b[38;5;241m56\u001b[39m]\n\u001b[0;32m     11\u001b[0m \u001b[38;5;66;03m# Using a custom comparison function to find the minimum value\u001b[39;00m\n\u001b[1;32m---> 12\u001b[0m min_value \u001b[38;5;241m=\u001b[39m \u001b[38;5;28;43mmin\u001b[39;49m\u001b[43m(\u001b[49m\u001b[43mnumbers\u001b[49m\u001b[43m,\u001b[49m\u001b[43m \u001b[49m\u001b[43mkey\u001b[49m\u001b[38;5;241;43m=\u001b[39;49m\u001b[43mcustom_comparison\u001b[49m\u001b[43m)\u001b[49m\n\u001b[0;32m     14\u001b[0m \u001b[38;5;28mprint\u001b[39m(min_value)  \u001b[38;5;66;03m# Output: 12\u001b[39;00m\n",
      "Cell \u001b[1;32mIn[83], line 3\u001b[0m, in \u001b[0;36mcustom_comparison\u001b[1;34m(numbers)\u001b[0m\n\u001b[0;32m      2\u001b[0m \u001b[38;5;28;01mdef\u001b[39;00m \u001b[38;5;21mcustom_comparison\u001b[39m(numbers):\n\u001b[1;32m----> 3\u001b[0m \u001b[43m    \u001b[49m\u001b[38;5;28;43;01mfor\u001b[39;49;00m\u001b[43m \u001b[49m\u001b[43mn\u001b[49m\u001b[43m \u001b[49m\u001b[38;5;129;43;01min\u001b[39;49;00m\u001b[43m \u001b[49m\u001b[43mnumbers\u001b[49m\u001b[43m:\u001b[49m\n\u001b[0;32m      4\u001b[0m \u001b[43m        \u001b[49m\u001b[38;5;28;43mmin\u001b[39;49m\u001b[43m \u001b[49m\u001b[38;5;241;43m=\u001b[39;49m\u001b[43m \u001b[49m\u001b[38;5;28;43mfloat\u001b[39;49m\u001b[43m(\u001b[49m\u001b[38;5;124;43m'\u001b[39;49m\u001b[38;5;124;43minf\u001b[39;49m\u001b[38;5;124;43m'\u001b[39;49m\u001b[43m)\u001b[49m\n\u001b[0;32m      5\u001b[0m \u001b[43m        \u001b[49m\u001b[38;5;28;43;01mif\u001b[39;49;00m\u001b[43m \u001b[49m\u001b[43m(\u001b[49m\u001b[43mn\u001b[49m\u001b[43m \u001b[49m\u001b[38;5;241;43m%\u001b[39;49m\u001b[43m \u001b[49m\u001b[38;5;241;43m10\u001b[39;49m\u001b[43m)\u001b[49m\u001b[43m \u001b[49m\u001b[38;5;241;43m<\u001b[39;49m\u001b[43m \u001b[49m\u001b[38;5;28;43mmin\u001b[39;49m\u001b[43m:\u001b[49m\n",
      "\u001b[1;31mTypeError\u001b[0m: 'int' object is not iterable"
     ]
    }
   ],
   "source": [
    "\n",
    "# Custom comparison based on the last digit\n",
    "def custom_comparison(numbers):\n",
    "    for n in numbers:\n",
    "        min = float('inf')\n",
    "        if (n % 10) < min:\n",
    "            min = (n % 10)\n",
    "    return min  \n",
    "\n",
    "numbers = [12, 45, 67, 89, 23, 56]\n",
    "\n",
    "# Using a custom comparison function to find the minimum value\n",
    "min_value = min(numbers, key=custom_comparison)\n",
    "\n",
    "print(min_value)  # Output: 12\n"
   ]
  },
  {
   "cell_type": "markdown",
   "id": "a0ad52a2-638d-4ced-93a1-2b5b37060cab",
   "metadata": {},
   "source": [
    "<br>\n",
    "\n",
    "We are getting this **error** because <span style=\"background-color: yellow\">the **key** parameter in the **min( )** should take a function which should take **each element of an iterator** and do the operation we want, **and not the whole iterable itself**.</span>\n",
    "\n",
    "<br>\n",
    "\n",
    "<font size=\"+1\">↳⭐</font> **2.37** ===> <span style=\"background-color: #CAFEFD\">&nbsp;**Custom comparison based on the last digit** using <span style=\"color: red\">**min( )**</span> but without using <span style=\"color: red\">**lambda**</span> functions&nbsp;</span>"
   ]
  },
  {
   "cell_type": "code",
   "execution_count": 84,
   "id": "3a8a63f5-0839-4a12-8676-4f2f9fc375e2",
   "metadata": {},
   "outputs": [
    {
     "name": "stdout",
     "output_type": "stream",
     "text": [
      "12\n"
     ]
    }
   ],
   "source": [
    "\n",
    "def custom_comparison(x):\n",
    "    return x % 10  # Custom comparison based on the last digit\n",
    "\n",
    "numbers = [12, 45, 67, 89, 23, 56]\n",
    "\n",
    "# Using a custom comparison function to find the minimum value\n",
    "min_value = min(numbers, key=custom_comparison)\n",
    "\n",
    "print(min_value)  # Output: 12\n"
   ]
  },
  {
   "cell_type": "markdown",
   "id": "f45cd671-8ffa-4ebf-9032-28ab98c82104",
   "metadata": {},
   "source": [
    "<br>\n",
    "\n",
    "<font size=\"+1\">↳⭐</font> **2.38** ===> <span style=\"background-color: #CAFEFD\">&nbsp;**Custom comparison based on the last digit** using both <span style=\"color: red\">**min( )**</span> and <span style=\"color: red\">**lambda**</span> functions&nbsp;</span>"
   ]
  },
  {
   "cell_type": "code",
   "execution_count": 85,
   "id": "3620701a-7fc0-4fbb-87cf-c9e75e779c89",
   "metadata": {},
   "outputs": [
    {
     "name": "stdout",
     "output_type": "stream",
     "text": [
      "12\n"
     ]
    }
   ],
   "source": [
    "\n",
    "numbers = [12, 45, 67, 89, 23, 56]\n",
    "\n",
    "min_value = min(numbers, key = lambda x: x % 10)\n",
    "\n",
    "print(min_value)\n"
   ]
  },
  {
   "cell_type": "markdown",
   "id": "843fe72d-1199-44b2-ada9-45f805259a0e",
   "metadata": {},
   "source": [
    "<br>\n",
    "\n",
    "<br>\n",
    "\n",
    "**<span style=\"color: #F703FF; font-size: larger\">Find the smallest even number</span>**\n",
    "\n",
    "<br>\n",
    "\n",
    "<font size=\"+1\">↳⭐</font> **2.39** ===> <span style=\"background-color: #CAFEFD\">&nbsp;**Find the smallest even number in a list of numbers** using <span style=\"color: red\">**min( )**</span> but without using <span style=\"color: red\">**lambda**</span> functions&nbsp;</span>"
   ]
  },
  {
   "cell_type": "code",
   "execution_count": 86,
   "id": "1dd0e8ab-fc5b-4706-9c7a-b50d2a64677b",
   "metadata": {},
   "outputs": [
    {
     "name": "stdout",
     "output_type": "stream",
     "text": [
      "2\n"
     ]
    }
   ],
   "source": [
    "\n",
    "def even_min(n):\n",
    "    min = float('inf')          # Initialize min_val with positive infinity   # Note - int('inf') is invalid and will throw ValueError\n",
    "    if (n % 2 == 0) and (n < min):\n",
    "        min = n\n",
    "    return min\n",
    "\n",
    "\n",
    "numbers = [2, 4, 1]\n",
    "\n",
    "\n",
    "min_value = min(numbers, key=even_min)  \n",
    "\n",
    "\n",
    "print(min_value)\n"
   ]
  },
  {
   "cell_type": "markdown",
   "id": "fc1a35e6-109f-49b4-be2a-ebf252ae2b4f",
   "metadata": {},
   "source": [
    "<br>\n",
    "\n",
    "<font size=\"+1\">↳⭐</font> **2.40** ===> <span style=\"background-color: #CAFEFD\">&nbsp;**Find the smallest even number in a list of numbers** using both <span style=\"color: red\">**min( )**</span> and <span style=\"color: red\">**lambda**</span> functions&nbsp;</span>\n"
   ]
  },
  {
   "cell_type": "code",
   "execution_count": 87,
   "id": "23a6832d-7537-42af-a361-6b508d357b75",
   "metadata": {},
   "outputs": [
    {
     "name": "stdout",
     "output_type": "stream",
     "text": [
      "2\n"
     ]
    }
   ],
   "source": [
    "\n",
    "numbers = [2, 4, 1]\n",
    "\n",
    "min_value = min(numbers, key = lambda n: n if (n % 2 == 0) else float('inf'))  # using ternary operator to write if-else conditions in a lambda function\n",
    "\n",
    "print(min_value)\n"
   ]
  },
  {
   "cell_type": "markdown",
   "id": "8b9ac54c-aea8-4f10-a43f-d20bf626f8fd",
   "metadata": {},
   "source": [
    "<br>\n",
    "\n",
    "<br>\n",
    "\n",
    "**<span style=\"color: #F703FF; font-size: larger\">Find the maximum value in a list of dictionaries</span>**\n",
    "\n",
    "<br>\n",
    "\n",
    "<font size=\"+1\">↳⭐</font> **2.41** ===> <span style=\"background-color: #CAFEFD\">&nbsp;**Given a list of dictionaries, find the dictionary with the maximum value of a specific key** using both <span style=\"color: red\">**min( )**</span> and <span style=\"color: red\">**lambda**</span> functions&nbsp;</span>"
   ]
  },
  {
   "cell_type": "code",
   "execution_count": 88,
   "id": "35e798d7-d4d9-4d75-a974-169a16ad7061",
   "metadata": {},
   "outputs": [
    {
     "name": "stdout",
     "output_type": "stream",
     "text": [
      "{'name': 'Bob', 'age': 25}\n",
      "{'name': 'Charlie', 'age': 35}\n"
     ]
    }
   ],
   "source": [
    "\n",
    "# Find the maximum value in a list of dictionaries\n",
    "\n",
    "# Given a list of dictionaries, find the dictionary with the maximum value of a specific key.\n",
    "\n",
    "data = [{'name': 'Alice', 'age': 30}, {'name': 'Bob', 'age': 25}, {'name': 'Charlie', 'age': 35}]\n",
    "\n",
    "min_age_person = min(data, key=lambda x: x['age'])\n",
    "max_age_person = max(data, key=lambda x: x['age'])\n",
    "\n",
    "print(min_age_person)  # Output: {'name': 'Bob', 'age': 25}\n",
    "print(max_age_person)  # Output: {'name': 'Charlie', 'age': 35}\n"
   ]
  },
  {
   "cell_type": "markdown",
   "id": "d8f24080-6f47-4cae-b370-30fe11afcaa0",
   "metadata": {},
   "source": [
    "<br>\n",
    "\n",
    "<br>\n",
    "\n",
    "<br>\n",
    "\n",
    "<span style=\"color: #F7D205\">⁃⁃⁃⁃⁃⁃⁃⁃⁃⁃⁃⁃⁃⁃⁃⁃⁃⁃⁃⁃⁃⁃⁃⁃⁃⁃⁃⁃⁃⁃⁃⁃⁃⁃⁃⁃⁃⁃⁃⁃⁃⁃⁃⁃⁃⁃⁃⁃⁃⁃⁃⁃⁃⁃⁃⁃⁃⁃⁃⁃⁃⁃⁃⁃⁃⁃⁃⁃⁃⁃⁃⁃⁃⁃⁃⁃⁃⁃⁃⁃⁃⁃⁃⁃⁃⁃⁃⁃⁃⁃⁃⁃⁃⁃⁃⁃⁃⁃⁃⁃⁃⁃⁃⁃⁃⁃⁃⁃⁃⁃⁃⁃⁃⁃⁃⁃⁃⁃⁃⁃⁃⁃⁃⁃⁃⁃⁃⁃⁃⁃⁃⁃⁃⁃⁃⁃⁃⁃⁃⁃⁃⁃⁃⁃⁃⁃⁃⁃⁃⁃⁃⁃⁃⁃⁃⁃⁃⁃⁃⁃⁃⁃⁃⁃⁃⁃⁃⁃⁃⁃⁃⁃⁃⁃⁃⁃⁃⁃⁃⁃⁃⁃⁃⁃⁃⁃⁃⁃</span>\n",
    "\n",
    "<br>\n",
    "\n",
    "<font size=\"+2\"><span style=\"color: red\">↳</span></font>&nbsp;&nbsp;**with &nbsp;<span style=\"color: red; font-size: larger\">groupby( )</span>**\n",
    "\n",
    "<br>\n",
    "\n",
    "<div style=\"border: 1px solid pink; padding: 10px; background-color: #fff6f6\">\n",
    "\n",
    "**<span style=\"background-color: white; font-size: larger\"><span style=\"color: blue\">&nbsp;itertools.groupby</span><span style=\"color: black\">(&nbsp; <span style=\"background-color: yellow\">iterable</span>, <span style=\"background-color: yellow\">key</span> = None&nbsp;)&nbsp;**</span>\n",
    "\n",
    "<br>\n",
    "\n",
    "&nbsp;&nbsp;&nbsp;&nbsp;&nbsp;&nbsp;&nbsp;&nbsp;where, **iterable** =========> The iterable (such as a list, tuple, or iterator) whose elements you want to group.\n",
    "<br>\n",
    "&nbsp;&nbsp;&nbsp;&nbsp;&nbsp;&nbsp;&nbsp;&nbsp;&nbsp;&nbsp;&nbsp;&nbsp;&nbsp;&nbsp;&nbsp;&nbsp;&nbsp;&nbsp;&nbsp;&nbsp;**key (optional):**  ====> &nbsp;A function that calculates a key value for each element in the iterable. <br>\n",
    "&nbsp;&nbsp;&nbsp;&nbsp;&nbsp;&nbsp;&nbsp;&nbsp;&nbsp;&nbsp;&nbsp;&nbsp;&nbsp;&nbsp;&nbsp;&nbsp;&nbsp;&nbsp;&nbsp;&nbsp;&nbsp;&nbsp;&nbsp;&nbsp;&nbsp;&nbsp;&nbsp;&nbsp;&nbsp;&nbsp;&nbsp;&nbsp;&nbsp;&nbsp;&nbsp;&nbsp;&nbsp;&nbsp;&nbsp;&nbsp;&nbsp;&nbsp;&nbsp;&nbsp;&nbsp;&nbsp;&nbsp;&nbsp;&nbsp;&nbsp;&nbsp;&nbsp;&nbsp;&nbsp;&nbsp;&nbsp;&nbsp;&nbsp;&nbsp;&nbsp;&nbsp;If not specified or set to **None**, the elements themselves are used as the keys.\n",
    "\n",
    "<br>\n",
    "\n",
    "🔶  ➜ The <span style=\"color: blue\">**groupby()**</span> function returns an iterator that yields **consecutive** keys and groups of elements from the iterable.\n",
    "\n",
    "🔶  ➜ It groups **consecutive** elements in an iterable based on a key function.\n",
    "\n",
    "</div>\n",
    "\n",
    "<br>\n",
    "\n",
    "<br>\n",
    "\n",
    "<font size=\"+1\">↳⭐</font> **2.42** ===> <span style=\"background-color: #CAFEFD\">&nbsp;**Group consecutive elements by their values** using <span style=\"color: red\">**itertools.groupby( )**</span>&nbsp;</span>"
   ]
  },
  {
   "cell_type": "code",
   "execution_count": 89,
   "id": "1b3de1b9-8e27-47b3-a7c7-84426bf81270",
   "metadata": {},
   "outputs": [
    {
     "name": "stdout",
     "output_type": "stream",
     "text": [
      "1 [1, 1]\n",
      "2 [2]\n",
      "3 [3, 3, 3]\n",
      "4 [4, 4]\n",
      "5 [5]\n"
     ]
    }
   ],
   "source": [
    "\n",
    "from itertools import groupby\n",
    "\n",
    "\n",
    "# Sample list of integers\n",
    "numbers = [1, 1, 2, 3, 3, 3, 4, 4, 5]\n",
    "\n",
    "\n",
    "# Group consecutive elements by their values\n",
    "for key, group in groupby(numbers):\n",
    "    print(key, list(group))\n"
   ]
  },
  {
   "cell_type": "markdown",
   "id": "5e0d9c77-2fcf-4758-90f4-b00e939ccee4",
   "metadata": {},
   "source": [
    "<br>\n",
    "\n",
    "<span style=\"color: blue\">Let's check and compare the result with a case when the list of numbers is not sorted</span>\n"
   ]
  },
  {
   "cell_type": "code",
   "execution_count": 90,
   "id": "41a7c64e-7ae8-4e53-9bda-5e33a6c7e741",
   "metadata": {},
   "outputs": [
    {
     "name": "stdout",
     "output_type": "stream",
     "text": [
      "1 [1]\n",
      "2 [2]\n",
      "3 [3, 3, 3]\n",
      "4 [4, 4]\n",
      "1 [1]\n",
      "5 [5]\n"
     ]
    }
   ],
   "source": [
    "\n",
    "from itertools import groupby\n",
    "\n",
    "\n",
    "# Sample list of integers\n",
    "numbers = [1, 2, 3, 3, 3, 4, 4, 1, 5]\n",
    "\n",
    "\n",
    "# Group consecutive elements by their values\n",
    "for key, group in groupby(numbers):\n",
    "    print(key, list(group))\n",
    "    "
   ]
  },
  {
   "cell_type": "markdown",
   "id": "f6256b68-5102-4550-b889-db342083b3f0",
   "metadata": {},
   "source": [
    "<br>\n",
    "\n",
    "<span style=\"background-color: yellow\">As we can see <span style=\"color: red\">**groupby( )**</span> function groups **consecutive** elements in an iterable based on a key function, therefore it's advised to **sort the list before applying <span style=\"color: red\">**groupby( )**</span> on it**.</span>"
   ]
  },
  {
   "cell_type": "code",
   "execution_count": 91,
   "id": "d9def7cf-29fa-4560-97cd-b0772ca529a9",
   "metadata": {},
   "outputs": [
    {
     "name": "stdout",
     "output_type": "stream",
     "text": [
      "1 [1, 1]\n",
      "2 [2]\n",
      "3 [3, 3, 3]\n",
      "4 [4, 4]\n",
      "5 [5]\n"
     ]
    }
   ],
   "source": [
    "\n",
    "from itertools import groupby\n",
    "\n",
    "\n",
    "# Sample list of integers\n",
    "numbers = [1, 2, 3, 3, 3, 4, 4, 1, 5]\n",
    "\n",
    "\n",
    "numbers.sort()  # sorting the list\n",
    "\n",
    "\n",
    "# Group consecutive elements by their values\n",
    "for key, group in groupby(numbers):\n",
    "    print(key, list(group))\n",
    "    "
   ]
  },
  {
   "cell_type": "markdown",
   "id": "d18cccd0-f432-4610-ab3b-f2ee814cd03a",
   "metadata": {},
   "source": [
    "<br>\n",
    "\n",
    "<font size=\"+1\">↳⭐</font> **2.43** ===> <span style=\"background-color: #CAFEFD\">&nbsp;**Group consecutive elements into odd-even category** <span style=\"color: red\">**itertools.groupby( )**</span> and <span style=\"color: red\">**lambda**</span> function&nbsp;</span>"
   ]
  },
  {
   "cell_type": "code",
   "execution_count": 92,
   "id": "f188a9ae-9f26-4c13-b74a-a6bfd6ee874c",
   "metadata": {},
   "outputs": [
    {
     "name": "stdout",
     "output_type": "stream",
     "text": [
      "odd ====> <itertools._grouper object at 0x00000259F8A431F0>\n",
      "even ====> <itertools._grouper object at 0x00000259F8A43370>\n",
      "odd ====> <itertools._grouper object at 0x00000259F8A431F0>\n",
      "even ====> <itertools._grouper object at 0x00000259F8A43370>\n",
      "odd ====> <itertools._grouper object at 0x00000259F8A431F0>\n"
     ]
    }
   ],
   "source": [
    "\n",
    "from itertools import groupby\n",
    "\n",
    "numbers = [1, 2, 3, 4, 5]\n",
    "\n",
    "for key, group in groupby(numbers, key = lambda x: \"even\" if x % 2 == 0 else \"odd\"):\n",
    "    print(f\"{key} ====> {group}\")\n",
    "    "
   ]
  },
  {
   "cell_type": "code",
   "execution_count": 93,
   "id": "0caeaea3-bd4e-4ba6-80cc-48e2a0be8347",
   "metadata": {},
   "outputs": [
    {
     "name": "stdout",
     "output_type": "stream",
     "text": [
      "odd ====> [1]\n",
      "even ====> [2]\n",
      "odd ====> [3]\n",
      "even ====> [4]\n",
      "odd ====> [5]\n"
     ]
    }
   ],
   "source": [
    "\n",
    "from itertools import groupby\n",
    "\n",
    "numbers = [1, 2, 3, 4, 5]\n",
    "\n",
    "for key, group in groupby(numbers, key = lambda x: \"even\" if x % 2 == 0 else \"odd\"):\n",
    "    print(f\"{key} ====> {list(group)}\")\n"
   ]
  },
  {
   "cell_type": "code",
   "execution_count": 94,
   "id": "7047eb78-88dc-44df-9636-4642b5023f24",
   "metadata": {},
   "outputs": [
    {
     "name": "stdout",
     "output_type": "stream",
     "text": [
      "dict_items([('odd', <itertools._grouper object at 0x00000259F8AD8490>), ('even', <itertools._grouper object at 0x00000259F8A40100>)])\n",
      "\n",
      "odd group: <itertools._grouper object at 0x00000259F8AD8490>\n",
      "even group: <itertools._grouper object at 0x00000259F8A40100>\n"
     ]
    }
   ],
   "source": [
    "\n",
    "from itertools import groupby\n",
    "\n",
    "numbers = [1, 2, 3, 4, 5]\n",
    "\n",
    "grouped_numbers = {key:group for (key, group) in groupby(numbers, key = lambda x: \"even\" if x % 2 == 0 else \"odd\")}\n",
    "\n",
    "print(grouped_numbers.items(),end = \"\\n\\n\")\n",
    "\n",
    "for key, group in grouped_numbers.items():\n",
    "    print(f\"{key} group:\", group)\n"
   ]
  },
  {
   "cell_type": "markdown",
   "id": "4990797b-9ba0-44db-a2b5-2d361aad391d",
   "metadata": {},
   "source": [
    "<br>\n",
    "\n",
    "<span style=\"color: blue\">**Solution**</span>"
   ]
  },
  {
   "cell_type": "code",
   "execution_count": 95,
   "id": "2f6867fa-6904-4cca-833c-d385a6358050",
   "metadata": {},
   "outputs": [
    {
     "name": "stdout",
     "output_type": "stream",
     "text": [
      "{'odd': [5], 'even': [4]}\n",
      "{'odd': [1, 3, 5], 'even': [2, 4]}\n",
      "{'even': [2, 4], 'odd': [1, 3, 5]}\n"
     ]
    }
   ],
   "source": [
    "\n",
    "from itertools import groupby\n",
    "\n",
    "numbers_list1 = [1, 2, 3, 4, 5]\n",
    "numbers_list2 = [1, 3, 5, 2, 4]\n",
    "numbers_list3 = [2, 4, 1, 3, 5]\n",
    "\n",
    "\n",
    "# numbers_list1 as input\n",
    "print({key:list(group) for (key, group) in groupby(numbers_list1, key = lambda x: \"even\" if x % 2 == 0 else \"odd\")})  # {'odd': [5], 'even': [4]}\n",
    "\n",
    "\n",
    "# numbers_list2 as input\n",
    "print({key:list(group) for (key, group) in groupby(numbers_list2, key = lambda x: \"even\" if x % 2 == 0 else \"odd\")})  # {'odd': [1, 3, 5], 'even': [2, 4]}\n",
    "\n",
    "\n",
    "# numbers_list3 as input\n",
    "print({key:list(group) for (key, group) in groupby(numbers_list3, key = lambda x: \"even\" if x % 2 == 0 else \"odd\")})  # {'even': [2, 4], 'odd': [1, 3, 5]}\n"
   ]
  },
  {
   "cell_type": "markdown",
   "id": "91987e22-d737-4ec2-b5c0-1ed6a9f62d5a",
   "metadata": {},
   "source": [
    "<br>\n",
    "\n",
    "As you can see, **it worked only when all odd numbers are in one side and even numbers are in other side**.\n",
    "\n",
    "<br>\n",
    "\n",
    "<br>\n",
    "\n",
    "<font size=\"+1\">↳⭐</font> **2.44** ===> <span style=\"background-color: #CAFEFD\">&nbsp;**Group consecutive strings as per their lengths** using  <span style=\"color: red\">**itertools.groupby( )**</span>&nbsp;</span>"
   ]
  },
  {
   "cell_type": "code",
   "execution_count": 96,
   "id": "d5c38a64-0aa2-4b99-af66-05660b090914",
   "metadata": {},
   "outputs": [
    {
     "name": "stdout",
     "output_type": "stream",
     "text": [
      "[(3, ['aaa', 'bbb', 'ccc']), (1, ['a', 'b']), (2, ['aa', 'bb'])]\n"
     ]
    }
   ],
   "source": [
    "\n",
    "from itertools import groupby\n",
    "\n",
    "l = ['aaa', 'bbb', 'ccc', 'a', 'b', 'aa', 'bb']\n",
    "\n",
    "print([(k, list(g)) for k, g in groupby(l, len)])\n"
   ]
  },
  {
   "cell_type": "markdown",
   "id": "19ce699c-65e8-4256-bb6e-fa5601c236d6",
   "metadata": {},
   "source": [
    "<br>\n",
    "\n",
    "<font size=\"+1\">↳⭐</font> **2.45** ===> <span style=\"background-color: #CAFEFD\">&nbsp;**Given a list of lists, group consecutive lists as per the name (string value) in it** using  <span style=\"color: red\">**itertools.groupby( )**</span>&nbsp;</span>"
   ]
  },
  {
   "cell_type": "code",
   "execution_count": 97,
   "id": "07fb87c5-0f99-419a-bbc7-fc4cff90ee5d",
   "metadata": {},
   "outputs": [
    {
     "name": "stdout",
     "output_type": "stream",
     "text": [
      "Alice [[0, 'Alice', 0], [1, 'Alice', 10]]\n",
      "Bob [[2, 'Bob', 20], [3, 'Bob', 30]]\n",
      "Alice [[4, 'Alice', 40]]\n"
     ]
    }
   ],
   "source": [
    "\n",
    "import itertools\n",
    "\n",
    "l = [[0, 'Alice', 0],\n",
    "     [1, 'Alice', 10],\n",
    "     [2, 'Bob', 20],\n",
    "     [3, 'Bob', 30],\n",
    "     [4, 'Alice', 40]]\n",
    "\n",
    "for k, g in itertools.groupby(l, lambda x: x[1]):\n",
    "    print(k, list(g))\n"
   ]
  },
  {
   "cell_type": "code",
   "execution_count": null,
   "id": "c7464f62-d2f8-4966-ad90-be1e06dc32a2",
   "metadata": {},
   "outputs": [],
   "source": []
  },
  {
   "cell_type": "markdown",
   "id": "4d2b24ba-4656-42b2-a0cd-08369dff4582",
   "metadata": {},
   "source": [
    "<br>\n",
    "\n",
    "<br>\n",
    "\n",
    "####  <font size=\"+2\">↳⭐</font> <span style=\"background-color: #F5C0FF;\">&nbsp;Some Practice Questions&nbsp;</span>\n",
    "\n",
    "<br>\n",
    "\n",
    "\n",
    "<div style=\"border: 1px solid pink; padding: 10px; background-color: #FAF2FC; margin-left: 100px\">\n",
    "\n",
    "<span style=\"color: blue\">**sorted**</span>( **iterable**, **key** = None, **reverse** = False ) <br>\n",
    "\n",
    "<span style=\"color: blue\">**filter**</span>( **function**, **iterable** )  <br>\n",
    "\n",
    "<span style=\"color: blue\">**map**</span>( **function**, **iterable1**, **iterable2**, ..... )    <br>\n",
    "\n",
    "<span style=\"color: blue\">**functools.reduce**</span>( **function**, **iterable**[, **initializer**] )   <br>\n",
    "\n",
    "<span style=\"color: blue\">**min**</span>( **n1**,  **n2**,  **n3**, .....)    &nbsp;&nbsp;<===================================>&nbsp;&nbsp;    <span style=\"color: blue\">**max**</span>( **n1**,  **n2**,  **n3**, .....)  <br>\n",
    "\n",
    "<span style=\"color: blue\">**min**</span>( **iterable**, ***iterables**, **key** = None, **default** = object( ) )   &nbsp;&nbsp;<==========>&nbsp;&nbsp;   <span style=\"color: blue\">**max**</span>( **iterable**, ***iterables**, **key** = None, **default** = object( ) )\n",
    "\n",
    "<span style=\"color: blue\">**itertools.groupby**</span>(**iterable**, **key** = None) \n",
    "\n",
    "</div>\n",
    "\n",
    "<br>\n"
   ]
  },
  {
   "cell_type": "markdown",
   "id": "ca3f2d91-fbf6-4afa-93b2-e213a91f17a8",
   "metadata": {},
   "source": [
    "<br>\n",
    "\n",
    "**<span style=\"color: red; font-size: larger\">▷</span>&nbsp;&nbsp;<span style=\"background-color: yellow; font-size: larger\">&nbsp;Finding the second highest value in a list&nbsp;</span>**&nbsp;&nbsp;<span style=\"color: red\"><font size=\"+2\">↴</font>&nbsp;</span>"
   ]
  },
  {
   "cell_type": "code",
   "execution_count": 12,
   "id": "19516d6e-db9d-4f20-999b-066f579a11a1",
   "metadata": {},
   "outputs": [
    {
     "name": "stdout",
     "output_type": "stream",
     "text": [
      "Method - 1A =====================> 4\n",
      "Method - 1B =====================> 4\n",
      "Method - 2 ======================> 4\n"
     ]
    }
   ],
   "source": [
    "\n",
    "numbers = [1, 4, 2, 3, 4, 5]\n",
    "\n",
    "'''\n",
    "# using list.sort()\n",
    "\n",
    "numbers.sort(reverse=True)\n",
    "numbers[2-1]\n",
    "'''\n",
    "\n",
    "\n",
    "# Method-1\n",
    "print(\"Method - 1A =====================>\", sorted(numbers, key = None, reverse = True)[2-1])\n",
    "print(\"Method - 1B =====================>\", sorted(numbers, reverse = True)[2-1])\n",
    "\n",
    "\n",
    "# Method-2\n",
    "print(\"Method - 2 ======================>\", sorted(numbers, key = lambda x: -x)[2-1])\n"
   ]
  },
  {
   "cell_type": "code",
   "execution_count": null,
   "id": "c158ae87-6e20-4da7-b3ae-3ab4726a05d7",
   "metadata": {},
   "outputs": [],
   "source": []
  },
  {
   "cell_type": "markdown",
   "id": "e50a6267-c995-4b0d-9a69-363c45ae1c31",
   "metadata": {},
   "source": [
    "<br>\n",
    "\n",
    "**<span style=\"color: red; font-size: larger\">▷</span>&nbsp;&nbsp;<span style=\"background-color: yellow; font-size: larger\">&nbsp;Calculating the sum of squares of numbers in a list&nbsp;</span>**&nbsp;&nbsp;<span style=\"color: red\"><font size=\"+2\">↴</font>&nbsp;</span>\n"
   ]
  },
  {
   "cell_type": "code",
   "execution_count": 13,
   "id": "8dcab7d8-29e3-4b53-a816-b1a8b5576ae6",
   "metadata": {},
   "outputs": [
    {
     "name": "stdout",
     "output_type": "stream",
     "text": [
      "The sum of squares of list is :  46\n",
      "The sum of squares of list is :  46\n"
     ]
    }
   ],
   "source": [
    "\n",
    "from functools import reduce\n",
    "\n",
    "\n",
    "numbers = [1,4,0,-2,5]\n",
    "\n",
    "\n",
    "# Method-1  ( using sum() )\n",
    "result = sum(map(lambda x: x**2, numbers))\n",
    "#result = sum(list(map(lambda x: x**2, numbers)))\n",
    "print(\"The sum of squares of list is : \", result)\n",
    "\n",
    "\n",
    "# Method-2  (using reduce() )\n",
    "result = reduce(lambda a,b: a + b, map(lambda x: x**2, numbers))\n",
    "#result = reduce(lambda a,b: a + b, list(map(lambda x: x**2, numbers)))\n",
    "print(\"The sum of squares of list is : \", result)\n"
   ]
  },
  {
   "cell_type": "code",
   "execution_count": null,
   "id": "2302c844-009b-4a9e-bd99-fa08480969dc",
   "metadata": {},
   "outputs": [],
   "source": []
  },
  {
   "cell_type": "code",
   "execution_count": 14,
   "id": "f9b0a6b5-683f-4462-96da-56e1203cd96f",
   "metadata": {},
   "outputs": [
    {
     "name": "stdout",
     "output_type": "stream",
     "text": [
      "The sum of squares of list is :  46\n"
     ]
    }
   ],
   "source": [
    "from functools import reduce\n",
    "import operator\n",
    "\n",
    "'''\n",
    "operator.add() takes 2 operands to add\n",
    "operator.add(4,5)  ===========>  9\n",
    "'''\n",
    "\n",
    "numbers = [1,4,0,-2,5]\n",
    "\n",
    " \n",
    "# using reduce() and operator.add() to calculate sum of squares\n",
    "result = reduce(operator.add, map(lambda x: x*x, numbers))\n",
    "#result = reduce(operator.add, list(map(lambda x: x*x, numbers)))\n",
    " \n",
    "# printing result\n",
    "print(\"The sum of squares of list is : \", result)\n"
   ]
  },
  {
   "cell_type": "code",
   "execution_count": null,
   "id": "966b0ad6-9731-4b19-8c20-a7dd7d321633",
   "metadata": {},
   "outputs": [],
   "source": []
  },
  {
   "cell_type": "markdown",
   "id": "4d813934-5ffb-497b-9e83-714e8df77119",
   "metadata": {},
   "source": [
    "<br>\n",
    "\n",
    "<br>\n",
    "\n",
    "**<span style=\"color: red; font-size: larger\">▷</span>&nbsp;&nbsp;<span style=\"background-color: yellow; font-size: larger\">&nbsp;Removing duplicate elements from a list&nbsp;</span>**&nbsp;&nbsp;<span style=\"color: red\"><font size=\"+2\">↴</font>&nbsp;</span>\n",
    "\n",
    "Given a list of elements, **remove duplicate elements while preserving the order**.\n",
    "\n"
   ]
  },
  {
   "cell_type": "code",
   "execution_count": 15,
   "id": "79294ec9-57cf-4496-acfa-ff44d7ac05ae",
   "metadata": {},
   "outputs": [],
   "source": [
    "\n",
    "# Original list with duplicate elements\n",
    "original_list = [1, 2, 2, 3, 4, 4, 5]\n"
   ]
  },
  {
   "attachments": {},
   "cell_type": "markdown",
   "id": "6aa45184-b47e-4666-a36e-81588d20d901",
   "metadata": {},
   "source": [
    "<br>\n",
    "\n",
    "<font size=\"+2\"><span style=\"color: red\">↳</span></font>&nbsp;&nbsp; <span style=\"color: blue\">**Case1: &nbsp;Target&nbsp;&nbsp;&nbsp;==========>&nbsp;&nbsp;&nbsp;&nbsp;[1, 3, 5]**</span> \n",
    "&nbsp;&nbsp;&nbsp;&nbsp;<span style=\"background-color: #CAFEFD\">i.e., elements having only 1 occurrence in the list</span>\n"
   ]
  },
  {
   "cell_type": "code",
   "execution_count": 16,
   "id": "25bf0d99-9aff-4819-8824-88aeec9b9d00",
   "metadata": {},
   "outputs": [
    {
     "name": "stdout",
     "output_type": "stream",
     "text": [
      "[1, 3, 5]\n"
     ]
    }
   ],
   "source": [
    "\n",
    "# removing duplicates using using filter() and a lambda function \n",
    "\n",
    "original_list = [1, 2, 2, 3, 4, 4, 5]\n",
    "\n",
    "unique_list = list(filter(lambda x: original_list.count(x) == 1, original_list))\n",
    "\n",
    "print(unique_list)   # it shows elements having only 1 occurrence in the list\n"
   ]
  },
  {
   "cell_type": "markdown",
   "id": "905386ad-7854-4780-8724-2d97c2c31ad8",
   "metadata": {},
   "source": [
    "<br>\n",
    "\n",
    "<font size=\"+2\"><span style=\"color: red\">↳</span></font>&nbsp;&nbsp;  <span style=\"color: blue\">**Case2: &nbsp;Target&nbsp;&nbsp;&nbsp;==========>&nbsp;&nbsp;&nbsp;&nbsp;[1, 2, 3, 4, 5]**</span> \n",
    "&nbsp;&nbsp;&nbsp;&nbsp;<span style=\"background-color: #CAFEFD\">i.e., all elements irrespective of it's occurrence in the list</span>\n"
   ]
  },
  {
   "cell_type": "code",
   "execution_count": 17,
   "id": "b535aa9b-23e9-419d-bc50-5dcc3a4b3216",
   "metadata": {},
   "outputs": [
    {
     "name": "stdout",
     "output_type": "stream",
     "text": [
      "[1, 2, 3, 4, 5]\n"
     ]
    }
   ],
   "source": [
    "\n",
    "# method-1  ( removing duplicates using itertools.groupby() )\n",
    "\n",
    "import itertools\n",
    "\n",
    "original_list = [1, 2, 2, 3, 4, 4, 5]\n",
    "\n",
    "original_list.sort()   # sorting the list before applying itertools.groupby() function on it\n",
    "\n",
    "unique_list = [key for key, group in itertools.groupby(original_list,key = None)]\n",
    "\n",
    "print(unique_list)\n"
   ]
  },
  {
   "cell_type": "code",
   "execution_count": 18,
   "id": "292db4ac-fb0e-4339-9039-d8d615eafd05",
   "metadata": {},
   "outputs": [
    {
     "name": "stdout",
     "output_type": "stream",
     "text": [
      "[1, 2, 3, 4, 5]\n"
     ]
    }
   ],
   "source": [
    "\n",
    "# method -2A  ( using lambda function and the concept of dictionary )\n",
    "\n",
    "original_list = [1, 2, 2, 3, 4, 4, 5]\n",
    "\n",
    "\n",
    "# defining a lambda function for passing a variable list of keyword arguments to store different key-value pairs within the same dictionary\n",
    "add_to_dict = lambda key, value: {**{key: None}}     \n",
    "\n",
    "\n",
    "my_dict = {}\n",
    "for n in original_list:\n",
    "    my_dict = {**my_dict, **add_to_dict(n, None)}   # calling the lambda function multiple times & passing a variable list of keyword arguments usng **\n",
    "\n",
    "\n",
    "unique_list = list(my_dict.keys())\n",
    "print(unique_list)\n"
   ]
  },
  {
   "cell_type": "markdown",
   "id": "46e3cda1-bfe3-401c-bec3-3a39e82fd39d",
   "metadata": {},
   "source": [
    "Let's try a slightly different way of writing the same above solution"
   ]
  },
  {
   "cell_type": "code",
   "execution_count": 19,
   "id": "b9d46736-fc40-49b1-8962-0488a9214219",
   "metadata": {},
   "outputs": [
    {
     "name": "stdout",
     "output_type": "stream",
     "text": [
      "[1, 2, 3, 4, 5]\n"
     ]
    }
   ],
   "source": [
    "\n",
    "# method -2B  ( using lambda function and the concept of dictionary )\n",
    "\n",
    "\n",
    "original_list = [1, 2, 2, 3, 4, 4, 5]\n",
    "\n",
    "\n",
    "my_dict = {}\n",
    "# defining a lambda function and calling it within the loop multiple times\n",
    "for n in original_list:\n",
    "    my_dict = (lambda d, key, value: {**d, key: value})(my_dict, n, None)     # passing a variable list of keyword arguments usng **\n",
    "\n",
    "\n",
    "print(list(my_dict.keys()))\n"
   ]
  },
  {
   "cell_type": "code",
   "execution_count": null,
   "id": "403d92ff-75b6-4fdb-ae51-3b1347e130aa",
   "metadata": {},
   "outputs": [],
   "source": []
  },
  {
   "cell_type": "markdown",
   "id": "4334f12b-20bb-44f8-8b4a-e3e1c9830edf",
   "metadata": {},
   "source": [
    "<br>\n",
    "\n",
    "<br>\n",
    "\n",
    "**<span style=\"color: red; font-size: larger\">▷</span>&nbsp;&nbsp;<span style=\"background-color: yellow; font-size: larger\">&nbsp;Get the list of keys in a dictionary&nbsp;</span>**&nbsp;&nbsp;<span style=\"color: red\"><font size=\"+2\">↴</font>&nbsp;</span>\n",
    "\n",
    "<br>\n",
    "\n",
    "<span style=\"color: blue\">using built-in dictionary functions **dict.keys()**</span>\n"
   ]
  },
  {
   "cell_type": "code",
   "execution_count": 20,
   "id": "11aee636-4dd1-4c7d-83bc-d9435f5fe810",
   "metadata": {},
   "outputs": [
    {
     "data": {
      "text/plain": [
       "['a', 'b', 'c']"
      ]
     },
     "execution_count": 20,
     "metadata": {},
     "output_type": "execute_result"
    }
   ],
   "source": [
    "\n",
    "# Sample dictionary\n",
    "my_dict = {'a': 1, 'b': 2, 'c': 3}\n",
    "\n",
    "\n",
    "list(my_dict.keys())\n"
   ]
  },
  {
   "cell_type": "markdown",
   "id": "643c0ba1-b06e-4f2b-8175-b6e1fefb4aa8",
   "metadata": {},
   "source": [
    "<br>\n",
    "\n",
    "<span style=\"color: blue\">using **lambda** function</span>"
   ]
  },
  {
   "cell_type": "code",
   "execution_count": 21,
   "id": "321fa2bb-9c09-4200-872e-412626c5c255",
   "metadata": {},
   "outputs": [
    {
     "name": "stdout",
     "output_type": "stream",
     "text": [
      "['a', 'b', 'c']\n"
     ]
    }
   ],
   "source": [
    "\n",
    "# Sample dictionary\n",
    "my_dict = {'a': 1, 'b': 2, 'c': 3}\n",
    "\n",
    "\n",
    "# Define a lambda function to extract keys from a dictionary\n",
    "get_keys = lambda d: [key for key in d]\n",
    "\n",
    "\n",
    "# Call the lambda function to get the keys of the dictionary\n",
    "keys_list = get_keys(my_dict)\n",
    "\n",
    "\n",
    "# Print the list of keys\n",
    "print(keys_list)  # Output: ['a', 'b', 'c']\n"
   ]
  },
  {
   "cell_type": "code",
   "execution_count": null,
   "id": "207b4b22-25c3-4e26-8d1a-6c740a363a4f",
   "metadata": {},
   "outputs": [],
   "source": []
  },
  {
   "cell_type": "markdown",
   "id": "8091060a-3131-4cf9-bd6c-e2f574efb389",
   "metadata": {},
   "source": [
    "<br>\n",
    "\n",
    "<br>\n",
    "\n",
    "**<span style=\"color: red; font-size: larger\">▷</span>&nbsp;&nbsp;<span style=\"background-color: yellow; font-size: larger\">&nbsp;WORD COUNT - calculate occurrences of each word in a string&nbsp;</span>**&nbsp;&nbsp;<span style=\"color: red\"><font size=\"+2\">↴</font>&nbsp;</span>\n",
    "\n",
    "<br>\n",
    "\n",
    "\n",
    "<font size=\"+2\">↳</font>&nbsp;&nbsp;**<span style=\"background-color: #CAFEFD\">without using any </span><span style=\"color: red; background-color: #CAFEFD\">lambda&nbsp;</span><span style=\"background-color: #CAFEFD\">or&nbsp;</span><span style=\"color: red; background-color: #CAFEFD\">reduce( )</span><span style=\"background-color: #CAFEFD\">&nbsp;functions</span>**\n",
    "\n",
    "\n",
    "<br>\n",
    "\n",
    "<span style=\"color: blue\">**Solution - 1**</span>&nbsp;&nbsp;</span>&nbsp;<span style=\"color: green\">( without using any <span style=\"color: red\">**lambda**</span> or <span style=\"color: red\">**reduce( )**</span> functions )</span>"
   ]
  },
  {
   "cell_type": "code",
   "execution_count": 22,
   "id": "bd7873c6-1b0d-4e6a-a790-e9f733bf2900",
   "metadata": {},
   "outputs": [
    {
     "name": "stdout",
     "output_type": "stream",
     "text": [
      "TOTAL WORD COUNT = 13\n",
      "\n",
      "---------------------\n",
      "\n",
      "This : 2\n",
      "is : 2\n",
      "a : 2\n",
      "sample : 1\n",
      "string : 1\n",
      "with : 1\n",
      "repeated : 1\n",
      "words. : 1\n",
      "just : 1\n",
      "sample. : 1\n"
     ]
    }
   ],
   "source": [
    "\n",
    "# Define the input string\n",
    "input_string = \"This is a sample string with repeated words. This is just a sample.\"\n",
    "\n",
    "\n",
    "words = input_string.split()                                # splitting the input string into a list of words\n",
    "\n",
    "\n",
    "# calculating the total_word_count and also the total number of occurrences of each word in the input string\n",
    "total_word_count = 0\n",
    "word_dict = {}      # initializing an empty dictionary\n",
    "for word in words:\n",
    "    total_word_count = total_word_count + 1\n",
    "    word_dict[word] = word_dict.get(word, 0) + 1      # default value = 0 \n",
    "\n",
    "\n",
    "print(f\"TOTAL WORD COUNT = {total_word_count}\", end=\"\\n\\n---------------------\\n\\n\")\n",
    "\n",
    "for key, value in word_dict.items():\n",
    "    print(f\"{key} : {value}\")\n"
   ]
  },
  {
   "cell_type": "markdown",
   "id": "72c1030f-4ffd-4abb-8670-1309415c21bf",
   "metadata": {},
   "source": [
    "<br>\n",
    "\n",
    "<br>\n",
    "\n",
    "<span style=\"color: red\">------------------------------------------------------------------------------------------------------------------------------------------------------------------------------------------------</span>\n",
    "\n",
    "<font size=\"+2\">↳</font>&nbsp;&nbsp;**<span style=\"background-color: #CAFEFD\">using </span><span style=\"color: red; background-color: #CAFEFD\">lambda&nbsp;</span><span style=\"background-color: #CAFEFD\">function but without using&nbsp;</span><span style=\"color: red; background-color: #CAFEFD\">reduce( )</span>**\n"
   ]
  },
  {
   "cell_type": "code",
   "execution_count": 23,
   "id": "fda8827c-8e6c-4169-b949-483d924422f4",
   "metadata": {},
   "outputs": [
    {
     "name": "stdout",
     "output_type": "stream",
     "text": [
      "TOTAL WORD COUNT = 13\n",
      "\n",
      "{'This': 2, 'is': 2, 'a': 2, 'sample': 1, 'string': 1, 'with': 1, 'repeated': 1, 'words.': 1, 'just': 1, 'sample.': 1}\n",
      "{'This': 2, 'is': 2, 'a': 2, 'sample': 1, 'string': 1, 'with': 1, 'repeated': 1, 'words.': 1, 'just': 1, 'sample.': 1}\n"
     ]
    }
   ],
   "source": [
    "\n",
    "# Define the input string\n",
    "input_string = \"This is a sample string with repeated words. This is just a sample.\"\n",
    "\n",
    "\n",
    "# splitting the input string into a list of words\n",
    "words = input_string.split() \n",
    "\n",
    "\n",
    "# calculating the total word count in the input string\n",
    "total_word_count = (lambda x : len(x))(words)\n",
    "print(f\"TOTAL WORD COUNT = {total_word_count}\", end=\"\\n\\n\")\n",
    "\n",
    "\n",
    "# calculating the total number of occurrences of each word in the input string and holding the information in a dictionary\n",
    "word_count_dict1 = (lambda word_list: {word: word_list.count(word) for word in word_list})(words)\n",
    "''' \n",
    "Although we don't need to typecast it into dictionary format, but still let's do it to check if there is any difference in the output\n",
    "'''\n",
    "word_count_dict2 = dict((lambda word_list: {word: word_list.count(word) for word in word_list})(words))\n",
    "\n",
    "\n",
    "# print the word counts\n",
    "print(word_count_dict1)\n",
    "print(word_count_dict2)\n"
   ]
  },
  {
   "cell_type": "markdown",
   "id": "96647ca7-45ae-4dca-8ae3-9035049eb7fe",
   "metadata": {},
   "source": [
    "<br>\n",
    "\n",
    "\n",
    "\n",
    "As expected the output in both the cases are **exactly the same**. Let's now go for the solution :\n",
    "\n",
    "<br>\n",
    "\n",
    "<span style=\"color: blue\">**Solution - 2**</span>&nbsp;<span style=\"color: green\">( using <span style=\"color: red\">**lambda**</span> function but without using <span style=\"color: red\">**reduce( )**</span> )</span>"
   ]
  },
  {
   "cell_type": "code",
   "execution_count": 24,
   "id": "396fbda3-7493-49bc-a3eb-6f491208c23a",
   "metadata": {},
   "outputs": [
    {
     "name": "stdout",
     "output_type": "stream",
     "text": [
      "TOTAL WORD COUNT = 13\n",
      "\n",
      "---------------------\n",
      "\n",
      "This: 2\n",
      "is: 2\n",
      "a: 2\n",
      "sample: 1\n",
      "string: 1\n",
      "with: 1\n",
      "repeated: 1\n",
      "words.: 1\n",
      "just: 1\n",
      "sample.: 1\n"
     ]
    }
   ],
   "source": [
    "# Define the input string\n",
    "input_string = \"This is a sample string with repeated words. This is just a sample.\"\n",
    "\n",
    "\n",
    "# splitting the input string into a list of words\n",
    "words = input_string.split()\n",
    "\n",
    "\n",
    "# calculating the total word count in the input string\n",
    "total_word_count = (lambda x : len(x))(words)\n",
    "print(f\"TOTAL WORD COUNT = {total_word_count}\", end=\"\\n\\n---------------------\\n\\n\")\n",
    "\n",
    "\n",
    "# calculating the total number of occurrences of each word in the input string and holding the information in a dictionary\n",
    "word_count_dict = (lambda word_list: {word: word_list.count(word) for word in word_list})(words)\n",
    "\n",
    "\n",
    "# printing the word counts\n",
    "for word, count in word_count_dict.items():\n",
    "    print(f\"{word}: {count}\")\n"
   ]
  },
  {
   "cell_type": "markdown",
   "id": "7374a6bd-6eb6-4e24-a9c4-8ce7a11ca39d",
   "metadata": {},
   "source": [
    "<br>\n",
    "\n",
    "<br>\n",
    "\n",
    "<span style=\"color: red\">------------------------------------------------------------------------------------------------------------------------------------------------------------------------------------------------</span>\n",
    "\n",
    "\n",
    "<font size=\"+2\">↳</font>&nbsp;&nbsp;**<span style=\"background-color: #CAFEFD\">using </span><span style=\"color: red; background-color: #CAFEFD\">reduce( )&nbsp;</span><span style=\"background-color: #CAFEFD\">but without using&nbsp;</span><span style=\"color: red; background-color: #CAFEFD\">lambda</span><span style=\"background-color: #CAFEFD\">&nbsp;function</span>**\n",
    "\n",
    "<br>\n",
    "\n",
    "<span style=\"color: blue\">**Solution - 3**</span>&nbsp;<span style=\"color: green\">( using <span style=\"color: red\">**reduce( )**</span> function but without using <span style=\"color: red\">**lambda**</span> )</span>\n"
   ]
  },
  {
   "cell_type": "code",
   "execution_count": 26,
   "id": "dc4cc53c-93a6-4b80-954f-b389bf31d941",
   "metadata": {},
   "outputs": [
    {
     "name": "stdout",
     "output_type": "stream",
     "text": [
      "TOTAL WORD COUNT = 13\n",
      "\n",
      "---------------------\n",
      "\n",
      "This: 2\n",
      "is: 2\n",
      "a: 2\n",
      "sample: 1\n",
      "string: 1\n",
      "with: 1\n",
      "repeated: 1\n",
      "words.: 1\n",
      "just: 1\n",
      "sample.: 1\n"
     ]
    }
   ],
   "source": [
    "\n",
    "from functools import reduce\n",
    "\n",
    "\n",
    "# Define a function to count word occurrences and also the total word count\n",
    "def count_words(word_dict, word):\n",
    "    word_dict[word] = word_dict.get(word, 0) + 1\n",
    "    return word_dict\n",
    "\n",
    "\n",
    "# Input text\n",
    "input_string = \"This is a sample string with repeated words. This is just a sample.\"\n",
    "\n",
    "\n",
    "# Split the text into words\n",
    "words = input_string.split()\n",
    "\n",
    "\n",
    "# Use reduce function to count word occurrences\n",
    "word_count_dict = reduce(count_words, words, {})\n",
    "\n",
    "\n",
    "# print the total word count\n",
    "print(f\"TOTAL WORD COUNT = {len(words)}\", end=\"\\n\\n---------------------\\n\\n\")\n",
    "\n",
    "# Print the word counts\n",
    "for word, count in word_count_dict.items():\n",
    "    print(f\"{word}: {count}\")\n"
   ]
  },
  {
   "cell_type": "markdown",
   "id": "4ca6f735-013b-4c32-8217-45449511a57e",
   "metadata": {},
   "source": [
    "<br>\n",
    "\n",
    "<br>\n",
    "\n",
    "Here we are initializing the **list** ( i.e., <span style=\"color: blue\">words</span> ) with an **empty dictionary** ( <span style=\"background-color: yellow; color: red; font-size: larger\">**{ }**</span> ) and then the <span style=\"color: red\">**reduce( )**</span> function ( i.e., **<span style=\"background-color: #FCE5F4\"><span style=\"color: blue\">count_words</span>(word_dict, word)</span>** ) will keep taking 2 arguments (starting from the left) in each step to convert it into a single dictionary, thus converting the whole list into a single dictionary containg key value pairs representing the occurrence of each word in the input string.\n",
    "\n",
    "<br>\n",
    "\n",
    "**<font size=\"+1\">[</font>&nbsp;<span style=\"background-color: yellow; color: red; font-size: larger\">{ }</span>&nbsp;&nbsp;,&nbsp;&nbsp;<span style=\"background-color: #CAFEFD; color: red; font-size: larger\">This</span>&nbsp;&nbsp;,&nbsp;&nbsp;<span style=\"background-color: #CAFEFD; color: red; font-size: larger\">is</span>&nbsp;&nbsp;,&nbsp;&nbsp;<span style=\"background-color: #CAFEFD; color: red; font-size: larger\">a</span>&nbsp;&nbsp;,&nbsp;&nbsp;<span style=\"background-color: #CAFEFD; color: red; font-size: larger\">sample</span>&nbsp;&nbsp;,&nbsp;&nbsp;<span style=\"background-color: #CAFEFD; color: red; font-size: larger\">string</span>&nbsp;&nbsp;,&nbsp;&nbsp;<span style=\"background-color: #CAFEFD; color: red; font-size: larger\">with</span>&nbsp;&nbsp;,&nbsp;&nbsp;<span style=\"background-color: #CAFEFD; color: red; font-size: larger\">repeated</span>&nbsp;&nbsp;,&nbsp;&nbsp;<span style=\"background-color: #CAFEFD; color: red; font-size: larger\">words.</span>&nbsp;&nbsp;,&nbsp;&nbsp;<span style=\"background-color: #CAFEFD; color: red; font-size: larger\">This</span>&nbsp;&nbsp;,&nbsp;&nbsp;<span style=\"background-color: #CAFEFD; color: red; font-size: larger\">is</span>&nbsp;&nbsp;,&nbsp;&nbsp;<span style=\"background-color: #CAFEFD; color: red; font-size: larger\">just</span>&nbsp;&nbsp;,&nbsp;&nbsp;<span style=\"background-color: #CAFEFD; color: red; font-size: larger\">a</span>&nbsp;&nbsp;,&nbsp;&nbsp;<span style=\"background-color: #CAFEFD; color: red; font-size: larger\">sample.</span>&nbsp;<font size=\"+1\">]</font>**\n",
    "\n",
    "<br>\n",
    "\n",
    "Now let's try to do it using lambda function.\n",
    "\n",
    "<br>\n",
    "\n",
    "<br>\n",
    "\n",
    "<span style=\"color: red\">------------------------------------------------------------------------------------------------------------------------------------------------------------------------------------------------</span>\n",
    "\n",
    "\n",
    "<font size=\"+2\">↳</font>&nbsp;&nbsp;**<span style=\"background-color: #CAFEFD\">using both </span><span style=\"color: red; background-color: #CAFEFD\">reduce()&nbsp;</span><span style=\"background-color: #CAFEFD\">and&nbsp;</span><span style=\"color: red; background-color: #CAFEFD\">lambda</span><span style=\"background-color: #CAFEFD\">&nbsp;functions</span>**\n",
    "\n"
   ]
  },
  {
   "cell_type": "markdown",
   "id": "9b6e7853-15ec-40dd-9dd5-1fa662b39dbf",
   "metadata": {},
   "source": [
    "**Attempt - 1**"
   ]
  },
  {
   "cell_type": "code",
   "execution_count": 27,
   "id": "683348c7-7ddc-416d-8642-276536097e19",
   "metadata": {},
   "outputs": [
    {
     "name": "stdout",
     "output_type": "stream",
     "text": [
      "sample.: 1\n"
     ]
    }
   ],
   "source": [
    "\n",
    "from functools import reduce\n",
    "\n",
    "\n",
    "# Input text\n",
    "input_string = \"This is a sample string with repeated words. This is just a sample.\"\n",
    "\n",
    "\n",
    "# Split the text into words\n",
    "words = input_string.split()\n",
    "\n",
    "\n",
    "# Use reduce function to count word occurrences\n",
    "word_count_dict = reduce(lambda word_dict, word: {word : word_dict.get(word, 0) + 1}, words, {}) \n",
    "'''\n",
    "key ======> word\n",
    "value ====> word_dict.get(word, 0) + 1\n",
    "'''\n",
    "\n",
    "\n",
    "# Print the word counts\n",
    "for word, count in word_count_dict.items():\n",
    "    print(f\"{word}: {count}\")\n"
   ]
  },
  {
   "cell_type": "markdown",
   "id": "2d013281-2b99-4ed6-af04-a9e364da9e96",
   "metadata": {},
   "source": [
    "<br>\n",
    "\n",
    "To merge all the key : value pairs (i.e, <span style=\"color: blue\">**word**</span> <span style=\"font-size: greater; color: red\">**:**</span> <span style=\"color: blue\">**word_count**</span> pairs) in a dictionary, we need to pass a variable number of keyword arguments. <br>\n",
    "**Python will pack them as a dictionary and assign the dictionary to the kwargs argument**.\n",
    "\n",
    "<br>\n"
   ]
  },
  {
   "cell_type": "markdown",
   "id": "06a308a0-d2e7-41f7-9e9c-10083808321d",
   "metadata": {},
   "source": [
    "**Attempt - 2**\n",
    "\n",
    "<span style=\"color: blue\">**Solution - 4**</span>&nbsp;<span style=\"color: green\">( using both <span style=\"color: red\">**lambda**</span> and <span style=\"color: red\">**reduce( )**</span> function )</span>"
   ]
  },
  {
   "cell_type": "code",
   "execution_count": 28,
   "id": "ed34c1e7-3527-403e-a495-a83cae7e544c",
   "metadata": {},
   "outputs": [
    {
     "name": "stdout",
     "output_type": "stream",
     "text": [
      "TOTAL WORD COUNT = 13\n",
      "\n",
      "-------------------\n",
      "\n",
      "This: 2\n",
      "is: 2\n",
      "a: 2\n",
      "sample: 1\n",
      "string: 1\n",
      "with: 1\n",
      "repeated: 1\n",
      "words.: 1\n",
      "just: 1\n",
      "sample.: 1\n"
     ]
    }
   ],
   "source": [
    "\n",
    "from functools import reduce\n",
    "\n",
    "\n",
    "# Input text\n",
    "input_string = \"This is a sample string with repeated words. This is just a sample.\"\n",
    "\n",
    "\n",
    "# Split the text into words\n",
    "words = input_string.split()\n",
    "\n",
    "\n",
    "# Use reduce function to count word occurrences\n",
    "word_count_dict = reduce(lambda word_dict, word: {**word_dict, word : word_dict.get(word, 0) + 1}, words, {})\n",
    "\n",
    "\n",
    "# print the total word count\n",
    "print(f\"TOTAL WORD COUNT = {len(words)}\", end=\"\\n\\n-------------------\\n\\n\")\n",
    "\n",
    "\n",
    "# Print the word counts\n",
    "for word, count in word_count_dict.items():\n",
    "    print(f\"{word}: {count}\")\n"
   ]
  },
  {
   "cell_type": "markdown",
   "id": "7dc77293-83f8-4ad1-bb95-fc0e712d5297",
   "metadata": {},
   "source": [
    "<br>\n",
    "\n",
    "<u><span style=\"color: #B900FF\">**Explaination**</span></u>\n",
    "\n",
    "The lambda function needs to return a dictionary with updated word counts. <span style=\"background-color: #FBEFFF\">Using <span style=\"color: #F600F2\"><strong>**word_dict</strong></span> ensures that the existing counts are preserved while adding the updated count for the current word.</span>\n",
    "\n",
    "<span style=\"background-color: #FBEFFF\"> <span style=\"color: #F600F2\"><strong>**word_dict</strong></span> used here in this lambda expression is a **dictionary unpacking operator**</span>. It's used to unpack the contents of the word_dict dictionary and merge them with the new key-value pair being added.\n",
    "\n",
    "This ensures that the original counts of words are preserved while updating the count of the current word. \n",
    "\n",
    "<span style=\"background-color: #FBEFFF\">Without <span style=\"color: #F600F2\"><strong>**word_dict</strong></span>, we would overwrite the entire dictionary with each iteration, losing all previous counts.</span>\n",
    "\n",
    "<br>\n",
    "\n",
    "<br>\n"
   ]
  },
  {
   "cell_type": "markdown",
   "id": "0fc3134a-2823-4f5a-aa7a-24caa9f68c3f",
   "metadata": {},
   "source": []
  },
  {
   "cell_type": "markdown",
   "id": "264f90e7-292e-49c5-b742-7a3faace7df9",
   "metadata": {},
   "source": [
    "<br>\n",
    "\n",
    "**<span style=\"color: red; font-size: larger\">▷</span>&nbsp;&nbsp;<span style=\"background-color: yellow; font-size: larger\">&nbsp;Given a list of strings, get all the strings starting with 'A'&nbsp;</span>**&nbsp;&nbsp;<span style=\"color: red\"><font size=\"+2\">↴</font>&nbsp;</span>\n",
    "\n",
    "&nbsp;&nbsp;&nbsp;&nbsp;&nbsp;&nbsp;&nbsp;<span style=\"color: blue\">If no such string is present in the list, then print **\"not found\"**</span>\n",
    "\n",
    "<br>"
   ]
  },
  {
   "cell_type": "code",
   "execution_count": 29,
   "id": "7a866cae-c37c-4030-a135-744ad25fb528",
   "metadata": {},
   "outputs": [
    {
     "name": "stdout",
     "output_type": "stream",
     "text": [
      "['Avinash', 'aman', 'Shashank', 'Radha', 'Gopal', 'Isha']\n"
     ]
    }
   ],
   "source": [
    "\n",
    "names = [\"Avinash\", \"aman\", \"Shashank\", \"Radha\", \"Gopal\", \"Isha\"]\n",
    "\n",
    "\n",
    "names_starting_with_A = list(filter(lambda x: x if x[0].capitalize() == 'A' else \"not found\", names))\n",
    "\n",
    "\n",
    "print(names_starting_with_A)\n"
   ]
  },
  {
   "cell_type": "markdown",
   "id": "76f764d3-34e1-4799-ab24-c600d688aea2",
   "metadata": {},
   "source": [
    "<br>\n",
    "\n",
    "We need to <span style=\"background-color: #FBEFFF\">replace **\"not found\"** with <span style=\"color: blue\">**False**</span> because the lambda function should return a boolean value</span> indicating whether the condition is met.\n"
   ]
  },
  {
   "cell_type": "code",
   "execution_count": 30,
   "id": "8cde1bc1-db23-4b2d-80f7-52bf8699416a",
   "metadata": {},
   "outputs": [
    {
     "name": "stdout",
     "output_type": "stream",
     "text": [
      "['Avinash', 'aman']\n"
     ]
    }
   ],
   "source": [
    "\n",
    "names = [\"Avinash\", \"aman\", \"Shashank\", \"Radha\", \"Gopal\", \"Isha\"]\n",
    "\n",
    "\n",
    "names_starting_with_A = list(filter(lambda x: x if x[0].capitalize() == 'A' else False, names))   # string function lower() can also be used here\n",
    "\n",
    "\n",
    "print(list(names_starting_with_A))\n"
   ]
  },
  {
   "cell_type": "markdown",
   "id": "e2d7cc37-0329-4aa2-abbb-8419aacb26ee",
   "metadata": {},
   "source": [
    "<br>\n",
    "\n",
    "<span style=\"color: blue\">**Solution**</span>\n",
    "\n",
    "**with input-1**"
   ]
  },
  {
   "cell_type": "code",
   "execution_count": 31,
   "id": "263ac83a-00d6-4887-9801-c5a8b30e61ef",
   "metadata": {},
   "outputs": [
    {
     "name": "stdout",
     "output_type": "stream",
     "text": [
      "['Avinash', 'aman']\n",
      "['Avinash', 'aman']\n"
     ]
    }
   ],
   "source": [
    "# input-1\n",
    "names = [\"Avinash\", \"aman\", \"Shashank\", \"Radha\", \"Gopal\", \"Isha\"]\n",
    "\n",
    "names_starting_with_A = list(filter(lambda x: x if x[0].capitalize() == 'A' else False, names))\n",
    "\n",
    "\n",
    "result_1 = (lambda name_list: \"not found\" if len(name_list) == 0 else name_list)(names_starting_with_A)  \n",
    "result_2 = (lambda name_list: [\"not found\"] if len(name_list) == 0 else name_list)(names_starting_with_A)\n",
    "\n",
    "\n",
    "print(list(result_1))\n",
    "print(list(result_2))\n"
   ]
  },
  {
   "cell_type": "markdown",
   "id": "d25c054f-ce1b-438f-9bf8-6b2fff653bf8",
   "metadata": {},
   "source": [
    "<br>\n",
    "\n",
    "**with input-2**"
   ]
  },
  {
   "cell_type": "code",
   "execution_count": 32,
   "id": "a79faa93-c5f6-4147-a79e-1f30c98e417b",
   "metadata": {},
   "outputs": [
    {
     "name": "stdout",
     "output_type": "stream",
     "text": [
      "['n', 'o', 't', ' ', 'f', 'o', 'u', 'n', 'd']\n",
      "['not found']\n"
     ]
    }
   ],
   "source": [
    "# input-2\n",
    "names = [\"Shashank\", \"Radha\", \"Gopal\", \"Isha\"]\n",
    "\n",
    "\n",
    "names_starting_with_A = list(filter(lambda x: x if x[0].capitalize() == 'A' else False, names))\n",
    "\n",
    "\n",
    "result_1 = (lambda name_list: \"not found\" if len(name_list) == 0 else name_list)(names_starting_with_A)  \n",
    "result_2 = (lambda name_list: [\"not found\"] if len(name_list) == 0 else name_list)(names_starting_with_A)\n",
    "\n",
    "\n",
    "print(list(result_1))\n",
    "print(list(result_2))\n"
   ]
  },
  {
   "cell_type": "code",
   "execution_count": null,
   "id": "090ff7aa-f173-4399-9153-00fc50fcda09",
   "metadata": {},
   "outputs": [],
   "source": []
  },
  {
   "cell_type": "markdown",
   "id": "317c2276-af40-4be9-a01b-0d0589d11861",
   "metadata": {},
   "source": [
    "<br>\n",
    "\n",
    "<br>\n",
    "\n",
    "**<span style=\"color: red; font-size: larger\">▷</span>**&nbsp;&nbsp;<span style=\"background-color: yellow; font-size: larger\">&nbsp;Given a list of integers like **[1, 2, 3]**, get a list of them in words i.e., **[\"one\", \"two\", \"three\"]**&nbsp;</span>&nbsp;&nbsp;<span style=\"color: red\"><font size=\"+2\">↴</font>&nbsp;</span>\n",
    "\n",
    "<br>"
   ]
  },
  {
   "cell_type": "code",
   "execution_count": 33,
   "id": "bb71c002-73df-48b0-bec5-ef9d6c3e5c96",
   "metadata": {},
   "outputs": [
    {
     "ename": "AttributeError",
     "evalue": "'int' object has no attribute 'get'",
     "output_type": "error",
     "traceback": [
      "\u001b[1;31m---------------------------------------------------------------------------\u001b[0m",
      "\u001b[1;31mAttributeError\u001b[0m                            Traceback (most recent call last)",
      "Cell \u001b[1;32mIn[33], line 11\u001b[0m\n\u001b[0;32m      7\u001b[0m \u001b[38;5;66;03m# transforming the given list of integers\u001b[39;00m\n\u001b[0;32m      9\u001b[0m result \u001b[38;5;241m=\u001b[39m \u001b[38;5;28mmap\u001b[39m(\u001b[38;5;28;01mlambda\u001b[39;00m digit, ref_dict: ref_dict\u001b[38;5;241m.\u001b[39mget(digit), digits, reference_dict)\n\u001b[1;32m---> 11\u001b[0m \u001b[38;5;28mprint\u001b[39m(\u001b[38;5;28;43mlist\u001b[39;49m\u001b[43m(\u001b[49m\u001b[43mresult\u001b[49m\u001b[43m)\u001b[49m)\n",
      "Cell \u001b[1;32mIn[33], line 9\u001b[0m, in \u001b[0;36m<lambda>\u001b[1;34m(digit, ref_dict)\u001b[0m\n\u001b[0;32m      4\u001b[0m reference_dict \u001b[38;5;241m=\u001b[39m {\u001b[38;5;241m1\u001b[39m: \u001b[38;5;124m\"\u001b[39m\u001b[38;5;124mone\u001b[39m\u001b[38;5;124m\"\u001b[39m, \u001b[38;5;241m2\u001b[39m: \u001b[38;5;124m\"\u001b[39m\u001b[38;5;124mtwo\u001b[39m\u001b[38;5;124m\"\u001b[39m, \u001b[38;5;241m3\u001b[39m: \u001b[38;5;124m\"\u001b[39m\u001b[38;5;124mthree\u001b[39m\u001b[38;5;124m\"\u001b[39m, \u001b[38;5;241m4\u001b[39m: \u001b[38;5;124m\"\u001b[39m\u001b[38;5;124mfour\u001b[39m\u001b[38;5;124m\"\u001b[39m, \u001b[38;5;241m5\u001b[39m: \u001b[38;5;124m\"\u001b[39m\u001b[38;5;124mfive\u001b[39m\u001b[38;5;124m\"\u001b[39m, \u001b[38;5;241m6\u001b[39m: \u001b[38;5;124m\"\u001b[39m\u001b[38;5;124msix\u001b[39m\u001b[38;5;124m\"\u001b[39m, \u001b[38;5;241m7\u001b[39m: \u001b[38;5;124m\"\u001b[39m\u001b[38;5;124mseven\u001b[39m\u001b[38;5;124m\"\u001b[39m, \u001b[38;5;241m8\u001b[39m: \u001b[38;5;124m\"\u001b[39m\u001b[38;5;124meight\u001b[39m\u001b[38;5;124m\"\u001b[39m, \u001b[38;5;241m9\u001b[39m: \u001b[38;5;124m\"\u001b[39m\u001b[38;5;124mnine\u001b[39m\u001b[38;5;124m\"\u001b[39m}\n\u001b[0;32m      7\u001b[0m \u001b[38;5;66;03m# transforming the given list of integers\u001b[39;00m\n\u001b[1;32m----> 9\u001b[0m result \u001b[38;5;241m=\u001b[39m \u001b[38;5;28mmap\u001b[39m(\u001b[38;5;28;01mlambda\u001b[39;00m digit, ref_dict: \u001b[43mref_dict\u001b[49m\u001b[38;5;241;43m.\u001b[39;49m\u001b[43mget\u001b[49m(digit), digits, reference_dict)\n\u001b[0;32m     11\u001b[0m \u001b[38;5;28mprint\u001b[39m(\u001b[38;5;28mlist\u001b[39m(result))\n",
      "\u001b[1;31mAttributeError\u001b[0m: 'int' object has no attribute 'get'"
     ]
    }
   ],
   "source": [
    "\n",
    "digits = [1,2,3]\n",
    "\n",
    "# create a dictionary with integers as keys and their corresponding words as values\n",
    "reference_dict = {1: \"one\", 2: \"two\", 3: \"three\", 4: \"four\", 5: \"five\", 6: \"six\", 7: \"seven\", 8: \"eight\", 9: \"nine\"}\n",
    "\n",
    "\n",
    "# transforming the given list of integers\n",
    "\n",
    "result = map(lambda digit, ref_dict: ref_dict.get(digit), digits, reference_dict)\n",
    "\n",
    "print(list(result))\n"
   ]
  },
  {
   "cell_type": "markdown",
   "id": "40563b58-de36-4c6a-bae1-231a6d606fc2",
   "metadata": {},
   "source": [
    "<br>\n",
    "\n",
    "In case of the second argument of the lambda function, map() is picking the 1st key from the reference_dict thus causing 1st element in digits list getting paired with 1st key of the reference_dict dictionary. And since the key itself is an integer, we end up doing <span style=\"background-color: #CAFEFD\">**int.get(digit)** which will rightly throw Attribute Error</span> as shown above.\n",
    "\n",
    "<br>\n",
    "\n",
    "<span style=\"color: blue\">**Solution**</span>"
   ]
  },
  {
   "cell_type": "code",
   "execution_count": 34,
   "id": "ba0c1971-afff-4cb2-ba45-211747aaf61f",
   "metadata": {},
   "outputs": [
    {
     "name": "stdout",
     "output_type": "stream",
     "text": [
      "['one', 'two', 'three']\n"
     ]
    }
   ],
   "source": [
    "\n",
    "digits = [1, 2, 3]\n",
    "\n",
    "# create a dictionary with integers as keys and their corresponding words as values\n",
    "reference_dict = {1: \"one\", 2: \"two\", 3: \"three\", 4: \"four\", 5: \"five\", 6: \"six\", 7: \"seven\", 8: \"eight\", 9: \"nine\"}\n",
    "\n",
    "# transforming the given list of integers\n",
    "result = map(lambda digit, ref_dict: ref_dict.get(digit), digits, [reference_dict]*len(digits))\n",
    "\n",
    "print(list(result))\n"
   ]
  },
  {
   "cell_type": "markdown",
   "id": "dc26248f-2986-409c-af98-91296d58d98a",
   "metadata": {},
   "source": [
    "<br>\n",
    "\n",
    "We created a **list** &nbsp;<span style=\"background-color: yellow\">[reference_dict] * len(digits)</span> &nbsp;to ensure that each element in digits is paired with the same dictionary reference_dict. And it worked.\n",
    "\n",
    "<br>"
   ]
  },
  {
   "cell_type": "code",
   "execution_count": null,
   "id": "389b4465-e956-4b99-8130-d26e0ce769ce",
   "metadata": {},
   "outputs": [],
   "source": []
  },
  {
   "cell_type": "markdown",
   "id": "ab50ea66-7f08-4b59-b60b-147cbd5ccd3b",
   "metadata": {},
   "source": [
    "<br>\n",
    "\n",
    "<br>\n",
    "\n",
    "**<span style=\"color: red; font-size: larger\">▷</span>**&nbsp;&nbsp;<span style=\"background-color: yellow; font-size: larger\">&nbsp;Given a list of integers like **[1, 2, 3]**, get a list like **[{1 ===> \"one\"}, {2 ===> \"two\"}, {3 ===> \"three\"}]**&nbsp;</span>&nbsp;&nbsp;<span style=\"color: red\"><font size=\"+2\">↴</font>&nbsp;</span>\n",
    "\n",
    "<br>"
   ]
  },
  {
   "cell_type": "code",
   "execution_count": 35,
   "id": "bffa5cbc-32d5-49b9-a64b-7390c54e9f15",
   "metadata": {},
   "outputs": [
    {
     "name": "stdout",
     "output_type": "stream",
     "text": [
      "['1 ====> one', '2 ====> two', '3 ====> three']\n"
     ]
    }
   ],
   "source": [
    "\n",
    "digits = [1, 2, 3]\n",
    "\n",
    "\n",
    "# create a dictionary with integers as keys and their corresponding words as values\n",
    "reference_dict = {1: \"one\", 2: \"two\", 3: \"three\", 4: \"four\", 5: \"five\", 6: \"six\", 7: \"seven\", 8: \"eight\", 9: \"nine\"}\n",
    "\n",
    "\n",
    "# transforming the given list of integers\n",
    "result = map(lambda digit, ref_dict: f\"{digit} ====> {ref_dict.get(digit)}\", digits, [reference_dict]*len(digits))\n",
    "\n",
    "\n",
    "print(list(result))\n"
   ]
  },
  {
   "cell_type": "code",
   "execution_count": null,
   "id": "5d64f7a4-0555-4aa6-be9c-58c675b6c6e5",
   "metadata": {},
   "outputs": [],
   "source": []
  },
  {
   "cell_type": "markdown",
   "id": "1a69f918-d92b-4f62-ae54-2c2a2cc8ac45",
   "metadata": {},
   "source": [
    "<br>\n",
    "\n",
    "<br>\n",
    "\n",
    "**<span style=\"color: red; font-size: larger\">▷</span>**&nbsp;&nbsp;<span style=\"background-color: yellow; font-size: larger\">&nbsp;Given a dictionary like &nbsp;**{1 : \"Aman\", &nbsp;2 : \"Avinash\", &nbsp;4: \"Radha\", &nbsp;5: \"Gopal\", &nbsp;6 : \"Isha\"]**, print all those names whose key is an even value&nbsp;</span>&nbsp;&nbsp;<span style=\"color: red\"><font size=\"+2\">↴</font>&nbsp;</span>\n",
    "\n",
    "<br>\n",
    "\n",
    "<span style=\"color: blue\">**Solution-1**</span>"
   ]
  },
  {
   "cell_type": "code",
   "execution_count": 36,
   "id": "bb5ac909-0b62-4e3e-9b5b-387ba7304538",
   "metadata": {},
   "outputs": [
    {
     "name": "stdout",
     "output_type": "stream",
     "text": [
      "[(2, 'Avinash'), (4, 'Radha'), (6, 'Isha')]\n"
     ]
    }
   ],
   "source": [
    "\n",
    "name_dict = {1 : \"Aman\", 2 : \"Avinash\", 4 : \"Radha\", 5 : \"Gopal\", 6 : \"Isha\"}\n",
    "\n",
    "result = filter(lambda x: x[1] if x[0] % 2 == 0 else False, name_dict.items())\n",
    "\n",
    "print(list(result))\n"
   ]
  },
  {
   "cell_type": "code",
   "execution_count": 37,
   "id": "13e383ce-0b81-4b4e-a8cb-6ad2710b56de",
   "metadata": {},
   "outputs": [
    {
     "name": "stdout",
     "output_type": "stream",
     "text": [
      "['Avinash', 'Radha', 'Isha']\n"
     ]
    }
   ],
   "source": [
    "\n",
    "name_dict = {1 : \"Aman\", 2 : \"Avinash\", 4 : \"Radha\", 5 : \"Gopal\", 6 : \"Isha\"}\n",
    "\n",
    "result = map(lambda x: x[1], list(filter(lambda x: x[1] if x[0] % 2 == 0 else False, name_dict.items())))    \n",
    "\n",
    "print(list(result))\n"
   ]
  },
  {
   "cell_type": "markdown",
   "id": "4c406bed-8b6c-42cd-a5e4-41898c714f59",
   "metadata": {},
   "source": [
    "<br>\n",
    "\n",
    "<span style=\"color: blue\">**Solution-2**</span>"
   ]
  },
  {
   "cell_type": "code",
   "execution_count": 38,
   "id": "f5f7a6bc-86c7-45a2-bdef-42795694b3aa",
   "metadata": {},
   "outputs": [
    {
     "name": "stdout",
     "output_type": "stream",
     "text": [
      "['Avinash', 'Radha', 'Isha']\n"
     ]
    }
   ],
   "source": [
    "\n",
    "name_dict = {1 : \"Aman\", 2 : \"Avinash\", 4 : \"Radha\", 5 : \"Gopal\", 6 : \"Isha\"}\n",
    "\n",
    "result = filter(lambda x: x if x else False, list(map(lambda key, value: value if key% 2 == 0 else False, list(name_dict.keys()), list(name_dict.values()))))          \n",
    "\n",
    "print(list(result))\n"
   ]
  },
  {
   "cell_type": "code",
   "execution_count": null,
   "id": "300282e4-40a9-4a70-9462-5fdd0237b099",
   "metadata": {},
   "outputs": [],
   "source": []
  },
  {
   "cell_type": "markdown",
   "id": "9ce63122-7d7a-4f17-8541-47995c141e5e",
   "metadata": {},
   "source": [
    "<br>\n",
    "\n",
    "<br>\n",
    "\n",
    "**<span style=\"color: red; font-size: larger\">▷</span>**&nbsp;&nbsp;<span style=\"background-color: yellow; font-size: larger\">&nbsp;**Reverse a list of strings**&nbsp;</span>&nbsp;&nbsp;<span style=\"color: red\"><font size=\"+2\">↴</font>&nbsp;</span>\n",
    "\n",
    "<br>\n",
    "\n",
    "<span style=\"color: blue\">**Solution - 1** &nbsp;( using <span style=\"color: red\">**slicing**</span> )</span>"
   ]
  },
  {
   "cell_type": "code",
   "execution_count": 39,
   "id": "577c10c5-1225-4b1e-a653-59970181bf00",
   "metadata": {},
   "outputs": [
    {
     "data": {
      "text/plain": [
       "['Avinash', 'Radha', 'Aman']"
      ]
     },
     "execution_count": 39,
     "metadata": {},
     "output_type": "execute_result"
    }
   ],
   "source": [
    "\n",
    "name = ['Aman', 'Radha', 'Avinash']\n",
    "\n",
    "name[::-1]\n"
   ]
  },
  {
   "cell_type": "markdown",
   "id": "dcedc1c1-c275-4281-8f3e-424244957561",
   "metadata": {},
   "source": [
    "<br>\n",
    "\n",
    "<span style=\"background-color: #CAFEFD\">Note - Slicing can be used for **lists**, **sets**, **tuples** and **strings** but not dictionary.</span>\n"
   ]
  },
  {
   "cell_type": "code",
   "execution_count": 40,
   "id": "ee0d5180-7c80-48e3-bbbb-0b8e8688c8a0",
   "metadata": {},
   "outputs": [
    {
     "data": {
      "text/plain": [
       "356432"
      ]
     },
     "execution_count": 40,
     "metadata": {},
     "output_type": "execute_result"
    }
   ],
   "source": [
    "\n",
    "number = 234653\n",
    "\n",
    "int(str(number)[::-1])    # We can reverse an intger too using this concept of slicing\n"
   ]
  },
  {
   "cell_type": "markdown",
   "id": "558255ec-21c1-4b79-a255-1bfe08c38fe4",
   "metadata": {},
   "source": [
    "<font size=\"+1\">↳⭐</font> &nbsp;<span style=\"color: #E200DE\">**Reverse an integer**</span>"
   ]
  },
  {
   "cell_type": "code",
   "execution_count": 41,
   "id": "caa5fc2b-2262-49c0-b3b8-07aa2497ad66",
   "metadata": {},
   "outputs": [
    {
     "name": "stdout",
     "output_type": "stream",
     "text": [
      "-356432\n"
     ]
    }
   ],
   "source": [
    "\n",
    "number = -234653\n",
    "\n",
    "if number >= 0:\n",
    "    print(int(str(number)[::-1]))\n",
    "else:\n",
    "    print(-int(str(number)[-1:0:-1]))\n"
   ]
  },
  {
   "cell_type": "markdown",
   "id": "2e08a8a5-0af2-4fbb-9cd0-1e2ffccbac0b",
   "metadata": {},
   "source": [
    "<br>\n",
    "\n",
    "<span style=\"color: blue\">**Solution - 2** &nbsp;( using **list.**<span style=\"color: red\">**reverse( )**</span> method )</span>"
   ]
  },
  {
   "cell_type": "code",
   "execution_count": 42,
   "id": "98ced04b-0d10-403f-9059-b1467e40d2f5",
   "metadata": {},
   "outputs": [
    {
     "name": "stdout",
     "output_type": "stream",
     "text": [
      "['Avinash', 'Radha', 'Aman']\n"
     ]
    }
   ],
   "source": [
    "\n",
    "names = ['Aman', 'Radha', 'Avinash']\n",
    "\n",
    "names.reverse()    # the original list itself is reversed\n",
    "\n",
    "print(names)\n"
   ]
  },
  {
   "cell_type": "markdown",
   "id": "bd7a833d-cc2d-4949-b143-e21b14c71682",
   "metadata": {},
   "source": [
    "<br>\n",
    "\n",
    "<span style=\"color: blue\">**Solution - 3** &nbsp;( using simple <span style=\"color: red\">**for loop**</span> )</span>"
   ]
  },
  {
   "cell_type": "code",
   "execution_count": 43,
   "id": "77f2d2ab-4e53-4068-91b0-005689c5ee5b",
   "metadata": {},
   "outputs": [
    {
     "name": "stdout",
     "output_type": "stream",
     "text": [
      "Avinash\n",
      "Radha\n",
      "Aman\n"
     ]
    }
   ],
   "source": [
    "\n",
    "names = ['Aman', 'Radha', 'Avinash']\n",
    "\n",
    "for i in range(-1,-len(names)-1,-1):\n",
    "    print(names[i])\n",
    "    "
   ]
  },
  {
   "cell_type": "code",
   "execution_count": 44,
   "id": "959d1a26-e9e8-480a-b59d-6c0ea92b4476",
   "metadata": {},
   "outputs": [
    {
     "name": "stdout",
     "output_type": "stream",
     "text": [
      "['Avinash', 'Radha', 'Aman']\n"
     ]
    }
   ],
   "source": [
    "\n",
    "names = ['Aman', 'Radha', 'Avinash']\n",
    "\n",
    "reversed_names = []\n",
    "\n",
    "for i in range(-1,-len(names)-1,-1):\n",
    "    reversed_names.append(names[i])      # using list.append() method\n",
    "\n",
    "print(reversed_names)\n"
   ]
  },
  {
   "cell_type": "code",
   "execution_count": 45,
   "id": "44e78332-dd4b-4ea8-b3dd-eda3510eb010",
   "metadata": {},
   "outputs": [
    {
     "name": "stdout",
     "output_type": "stream",
     "text": [
      "['Avinash', 'Aman', 'Radha']\n"
     ]
    }
   ],
   "source": [
    "\n",
    "names = ['Aman', 'Radha', 'Avinash']\n",
    "\n",
    "reversed_names = []\n",
    "\n",
    "for i in range(len(names)):\n",
    "    reversed_names.insert(len(names) - i -1, names[i])    # using list.insert() method\n",
    "\n",
    "\n",
    "print(reversed_names)\n"
   ]
  },
  {
   "cell_type": "markdown",
   "id": "35f9ef1d-ad6d-48fd-994c-57c20de4e470",
   "metadata": {},
   "source": [
    "<br>\n",
    "\n",
    "<span style=\"color: blue\">**Solution - 4** &nbsp;( using <span style=\"color: red\">**lambda**</span> function )</span>"
   ]
  },
  {
   "cell_type": "code",
   "execution_count": 46,
   "id": "4a8c6278-eb08-4978-bb27-e101db17b333",
   "metadata": {},
   "outputs": [
    {
     "name": "stdout",
     "output_type": "stream",
     "text": [
      "['Avinash', 'Radha', 'Aman']\n"
     ]
    }
   ],
   "source": [
    "\n",
    "reverse_name_func = lambda name_list: [name_list[i] for i in range(-1,-len(name_list)-1,-1)]\n",
    "\n",
    "names = ['Aman', 'Radha', 'Avinash']\n",
    "\n",
    "reversed_names = reverse_name_func(names)\n",
    "\n",
    "print(reversed_names)\n"
   ]
  },
  {
   "cell_type": "code",
   "execution_count": 47,
   "id": "e4ac6509-f911-495b-bee6-bc46d252bfd9",
   "metadata": {},
   "outputs": [
    {
     "name": "stdout",
     "output_type": "stream",
     "text": [
      "['Avinash', 'Radha', 'Aman']\n"
     ]
    }
   ],
   "source": [
    "\n",
    "names = ['Aman', 'Radha', 'Avinash']\n",
    "\n",
    "reversed_names = (lambda name_list: [name_list[i] for i in range(-1,-len(name_list)-1,-1)])(names)\n",
    "\n",
    "print(reversed_names)\n"
   ]
  },
  {
   "cell_type": "code",
   "execution_count": null,
   "id": "5c9152d8-9cc6-4d9a-8a85-393c2b4ab804",
   "metadata": {},
   "outputs": [],
   "source": []
  },
  {
   "cell_type": "markdown",
   "id": "7c9186df-1885-497d-b586-5762df2424bb",
   "metadata": {},
   "source": [
    "<br>\n",
    "\n",
    "<br>\n",
    "\n",
    "**<span style=\"color: red; font-size: larger\">▷</span>**&nbsp;&nbsp;<span style=\"background-color: yellow; font-size: larger\">&nbsp;**Given a list of names**&nbsp;</span>&nbsp;&nbsp;<span style=\"color: red\"><font size=\"+2\">↴</font>&nbsp;</span>\n",
    "\n",
    "&nbsp;&nbsp;&nbsp;&nbsp;&nbsp;&nbsp;&nbsp;Given Input ===>  [\"**Avinash Kumar Mishra**\", \"**Radha Jha**\", \"**Aman Kumar Mishra**\", \"**Isha Jha**\", \"**Gopal Krishna Jha**\"]\n",
    "\n",
    "&nbsp;&nbsp;&nbsp;&nbsp;&nbsp;&nbsp;&nbsp;&nbsp;&nbsp;&nbsp;&nbsp;&nbsp;&nbsp;&nbsp;<font size=\"+1\">➜</font>&nbsp;&nbsp;**<span style=\"background-color: yellow; font-size: larger\">get the largest name using <span style=\"color: red\">max( )</span>&nbsp;</span>**\n",
    "\n",
    "&nbsp;&nbsp;&nbsp;&nbsp;&nbsp;&nbsp;&nbsp;&nbsp;&nbsp;&nbsp;&nbsp;&nbsp;&nbsp;&nbsp;<font size=\"+1\">➜</font>&nbsp;&nbsp;**<span style=\"background-color: yellow; font-size: larger\">get the largest name using <span style=\"color: red\">sorted( )</span>&nbsp;</span>**\n",
    "\n",
    "&nbsp;&nbsp;&nbsp;&nbsp;&nbsp;&nbsp;&nbsp;&nbsp;&nbsp;&nbsp;&nbsp;&nbsp;&nbsp;&nbsp;<font size=\"+1\">➜</font>&nbsp;&nbsp;**<span style=\"background-color: yellow; font-size: larger\">get the largest name using <span style=\"color: red\">reduce( )</span>&nbsp;</span>**\n",
    "\n",
    "<br>\n"
   ]
  },
  {
   "cell_type": "markdown",
   "id": "44a5fdb1-e2fd-4b79-8afd-6c45e3e79313",
   "metadata": {},
   "source": [
    "<br>\n",
    "\n",
    "<span style=\"color: blue\">**Solution - 1** &nbsp;( using <span style=\"color: red\">**max( )**</span> function )</span>"
   ]
  },
  {
   "cell_type": "code",
   "execution_count": 48,
   "id": "a1091141-84d8-4380-8d36-b13f399097f8",
   "metadata": {},
   "outputs": [
    {
     "name": "stdout",
     "output_type": "stream",
     "text": [
      "Avinash Kumar Mishra\n"
     ]
    }
   ],
   "source": [
    "\n",
    "names = [\"Avinash Kumar Mishra\", \"Radha Jha\", \"Aman Kumar Mishra\", \"Isha Jha\", \"Gopal Krishna Jha\"]\n",
    "\n",
    "max_length = max(names, key = lambda x: len(x))\n",
    "\n",
    "print(max_length)\n"
   ]
  },
  {
   "cell_type": "markdown",
   "id": "e512bbab-580a-4c1f-ab9f-0c734f628016",
   "metadata": {},
   "source": [
    "<br>\n",
    "\n",
    "<span style=\"color: blue\">**Solution - 2** &nbsp;( using <span style=\"color: red\">**sorted( )**</span> function )</span>"
   ]
  },
  {
   "cell_type": "code",
   "execution_count": 49,
   "id": "120102a6-96eb-4d9e-8fa8-9d4f4eba399d",
   "metadata": {},
   "outputs": [
    {
     "name": "stdout",
     "output_type": "stream",
     "text": [
      "Avinash Kumar Mishra\n"
     ]
    }
   ],
   "source": [
    "\n",
    "names = [\"Avinash Kumar Mishra\", \"Radha Jha\", \"Aman Kumar Mishra\", \"Isha Jha\", \"Gopal Krishna Jha\"]\n",
    "\n",
    "sorted_names = sorted(names, key = lambda x: len(x), reverse = True)\n",
    "\n",
    "# print(sorted_names)       # Output - ['Avinash Kumar Mishra', 'Aman Kumar Mishra', 'Gopal Krishna Jha', 'Radha Jha', 'Isha Jha']\n",
    "\n",
    "print(sorted_names[0])      # displaying the first element\n"
   ]
  },
  {
   "cell_type": "markdown",
   "id": "af7646b1-0fa7-4438-a8f1-5f8761528877",
   "metadata": {},
   "source": [
    "<br>\n",
    "\n",
    "<span style=\"color: blue\">**Solution - 3** &nbsp;( using <span style=\"color: red\">**reduce( )**</span> function )</span>"
   ]
  },
  {
   "cell_type": "code",
   "execution_count": 50,
   "id": "2cd4157f-b581-4175-8a1a-bfb188308e06",
   "metadata": {},
   "outputs": [
    {
     "name": "stdout",
     "output_type": "stream",
     "text": [
      "Avinash Kumar Mishra\n"
     ]
    }
   ],
   "source": [
    "\n",
    "from functools import reduce\n",
    "\n",
    "names = [\"Avinash Kumar Mishra\", \"Radha Jha\", \"Aman Kumar Mishra\", \"Isha Jha\", \"Gopal Krishna Jha\"]\n",
    "\n",
    "result = reduce(lambda x , y: x if len(x) >= len(y) else y, names)\n",
    "\n",
    "print(result)\n"
   ]
  },
  {
   "cell_type": "code",
   "execution_count": null,
   "id": "e439d57b-fbaf-4187-9149-605d526bf37d",
   "metadata": {},
   "outputs": [],
   "source": []
  },
  {
   "cell_type": "markdown",
   "id": "fe779ce4-7de6-4d96-9522-b909caeb5da3",
   "metadata": {},
   "source": [
    "<br>\n",
    "\n",
    "<br>\n",
    "\n",
    "**<span style=\"color: red; font-size: larger\">▷</span>**&nbsp;&nbsp;<span style=\"background-color: yellow; font-size: larger\">&nbsp;**Given a dictionary of electricity consumption meter readings**&nbsp;</span>&nbsp;&nbsp;<span style=\"color: red\"><font size=\"+2\">↴</font>&nbsp;</span>\n",
    "\n",
    "&nbsp;&nbsp;&nbsp;&nbsp;&nbsp;&nbsp;&nbsp;Given Input ===> <span style=\"color: red; font-size: larger\"><strong>{</strong></span> <span style=\"background-color: #C3FFF8\">\"meter_1\" : 1.23</span> <span style=\"color: red; font-size: larger\"><strong>,</strong></span> <span style=\"background-color: #C3FFF8\">\"meter_2\" : 2.04</span> <span style=\"color: red; font-size: larger\"><strong>,</strong></span> <span style=\"background-color: #C3FFF8\">\"meter_3\" : 1.97</span> <span style=\"color: red; font-size: larger\"><strong>,</strong></span> <span style=\"background-color: #C3FFF8\">\"meter_4\" : 3.50</span> <span style=\"color: red; font-size: larger\"><strong>,</strong></span> <span style=\"background-color: #C3FFF8\">\"meter_5\" : 0.99</span> <span style=\"color: red; font-size: larger\"><strong>}</strong></span>\n",
    "\n",
    "\n",
    "&nbsp;&nbsp;&nbsp;&nbsp;&nbsp;&nbsp;&nbsp;&nbsp;&nbsp;&nbsp;&nbsp;&nbsp;&nbsp;&nbsp;<font size=\"+1\">➜</font>&nbsp;&nbsp;**<span style=\"background-color: yellow; font-size: larger\">&nbsp;<span style=\"color: red\">Average</span> power consumtion&nbsp;</span>**\n",
    "\n",
    "&nbsp;&nbsp;&nbsp;&nbsp;&nbsp;&nbsp;&nbsp;&nbsp;&nbsp;&nbsp;&nbsp;&nbsp;&nbsp;&nbsp;<font size=\"+1\">➜</font>&nbsp;&nbsp;**<span style=\"background-color: yellow; font-size: larger\">&nbsp;<span style=\"color: red\">Count</span> of <span style=\"color: red\">odd</span> meters&nbsp;</span>**\n",
    "\n",
    "&nbsp;&nbsp;&nbsp;&nbsp;&nbsp;&nbsp;&nbsp;&nbsp;&nbsp;&nbsp;&nbsp;&nbsp;&nbsp;&nbsp;<font size=\"+1\">➜</font>&nbsp;&nbsp;**<span style=\"background-color: yellow; font-size: larger\">&nbsp;<span style=\"color: red\">Sum</span> of readings of <span style=\"color: red\">odd</span> meters&nbsp;</span>**\n",
    "\n",
    "&nbsp;&nbsp;&nbsp;&nbsp;&nbsp;&nbsp;&nbsp;&nbsp;&nbsp;&nbsp;&nbsp;&nbsp;&nbsp;&nbsp;<font size=\"+1\">➜</font>&nbsp;&nbsp;**<span style=\"background-color: yellow; font-size: larger\">&nbsp;<span style=\"color: red\">Average</span> of readings of <span style=\"color: red\">odd</span> meters&nbsp;</span>**\n"
   ]
  },
  {
   "cell_type": "markdown",
   "id": "d4414f14-5ab1-4423-8f5b-dc821069df9c",
   "metadata": {},
   "source": [
    "<br>\n",
    "\n",
    "<font size=\"+1\">↳</font> &nbsp; <u>**Average power consumtion**</u>"
   ]
  },
  {
   "cell_type": "code",
   "execution_count": 51,
   "id": "ada75f93-6727-43c0-a2f6-7cdc24a52921",
   "metadata": {},
   "outputs": [
    {
     "name": "stdout",
     "output_type": "stream",
     "text": [
      "1.9460000000000002\n"
     ]
    }
   ],
   "source": [
    "\n",
    "meter_readings = { \"meter_1\" : 1.23, \"meter_2\" : 2.04,  \"meter_3\" : 1.97,  \"meter_4\" : 3.50, \"meter_5\" : 0.99}\n",
    "\n",
    "total_power_consumption = sum(meter_readings.values())\n",
    "\n",
    "total_number_of_readings = len(meter_readings)\n",
    "\n",
    "average_power_consumption = total_power_consumption / total_number_of_readings\n",
    "\n",
    "print(average_power_consumption)\n"
   ]
  },
  {
   "cell_type": "markdown",
   "id": "2c0f6670-43fb-4a1f-a174-1ee0e87140f5",
   "metadata": {},
   "source": [
    "<br>\n",
    "\n",
    "<span style=\"color: blue\">**Solution** &nbsp;( using <span style=\"color: red\">**lambda**</span> function )</span>"
   ]
  },
  {
   "cell_type": "code",
   "execution_count": 52,
   "id": "e7926ed1-65cf-4099-8cb7-2c618f3d7304",
   "metadata": {},
   "outputs": [
    {
     "name": "stdout",
     "output_type": "stream",
     "text": [
      "1.9460000000000002\n"
     ]
    }
   ],
   "source": [
    "\n",
    "meter_readings = { \"meter_1\" : 1.23, \"meter_2\" : 2.04,  \"meter_3\" : 1.97,  \"meter_4\" : 3.50, \"meter_5\" : 0.99}\n",
    "\n",
    "get_avg_func = lambda readings: sum(readings.values()) / len(readings)\n",
    "\n",
    "average_power_consumption = get_avg_func(meter_readings)\n",
    "\n",
    "print(average_power_consumption)\n"
   ]
  },
  {
   "cell_type": "markdown",
   "id": "f25fe45a-f9ec-4b89-90a7-41c406a15eba",
   "metadata": {},
   "source": [
    "<br>\n",
    "\n",
    "<font size=\"+1\">↳</font> &nbsp; <u>**Count of odd meters**</u>\n",
    "\n",
    "<span style=\"color: blue\">**Solution** &nbsp;( using <span style=\"color: red\">**filter( )**</span> and <span style=\"color: red\">**lambda**</span> function )</span>"
   ]
  },
  {
   "cell_type": "code",
   "execution_count": 53,
   "id": "d36adf85-f59f-4b19-a44a-a75d71ac6902",
   "metadata": {},
   "outputs": [
    {
     "name": "stdout",
     "output_type": "stream",
     "text": [
      "3\n"
     ]
    }
   ],
   "source": [
    "\n",
    "meter_readings = {\"meter_1\" : 1.23, \"meter_2\" : 2.04,  \"meter_3\" : 1.97,  \"meter_4\" : 3.50, \"meter_5\" : 0.99}\n",
    "\n",
    "odd_meter_count = len(list(filter(lambda x: x[6:] if int(x[6:]) % 2 != 0 else False, meter_readings)))\n",
    "\n",
    "# we could have also used meter_readings.keys() instead of meter_readings\n",
    "# odd_meter_count = len(list(filter(lambda x: x[6:] if int(x[6:]) % 2 != 0 else False, meter_readings.keys())))\n",
    "\n",
    "print(odd_meter_count)\n"
   ]
  },
  {
   "cell_type": "markdown",
   "id": "c46e460f-d2fd-48c6-89fa-a26686ba923c",
   "metadata": {},
   "source": [
    "<br>\n",
    "\n",
    "<font size=\"+1\">↳</font> &nbsp; <u>**Sum of readings of odd meters**</u>\n",
    "\n",
    "<span style=\"color: blue\">**Solution - 1** &nbsp;( using only <span style=\"color: red\">**lambda**</span>  function )</span>"
   ]
  },
  {
   "cell_type": "code",
   "execution_count": 54,
   "id": "0e1f7891-b1af-400a-a502-cfe21a4dd83c",
   "metadata": {},
   "outputs": [
    {
     "name": "stdout",
     "output_type": "stream",
     "text": [
      "{'meter_1': 1.23, 'meter_2': 0, 'meter_3': 1.97, 'meter_4': 0, 'meter_5': 0.99}\n",
      "4.19\n"
     ]
    }
   ],
   "source": [
    "\n",
    "meter_readings = {\"meter_1\": 1.23, \"meter_2\": 2.04, \"meter_3\": 1.97, \"meter_4\": 3.50, \"meter_5\": 0.99}\n",
    "\n",
    "\n",
    "# Define a lambda function to filter odd readings\n",
    "# odd_readings_func = lambda readings: {key: value if int(key[6:]) % 2 != False else 0 for key, value in readings.items()}\n",
    "odd_readings_func = lambda readings: {key: value if int(key[6:]) % 2 != 0 else 0 for key, value in readings.items()}\n",
    "\n",
    "\n",
    "# Apply the lambda function to meter_readings\n",
    "odd_readings_dict = odd_readings_func(meter_readings)\n",
    "\n",
    "\n",
    "odd_readings_sum = sum(odd_readings_dict.values())\n",
    "\n",
    "\n",
    "print(odd_readings_dict)\n",
    "print(odd_readings_sum)\n"
   ]
  },
  {
   "cell_type": "markdown",
   "id": "67e5b2f7-f1e8-44c9-bf61-2c15ac77bff1",
   "metadata": {},
   "source": [
    "<br>\n",
    "\n",
    "<span style=\"color: blue\">**Solution - 2** &nbsp;( using <span style=\"color: red\">**filter( )**</span> and <span style=\"color: red\">**lambda**</span> function )</span>"
   ]
  },
  {
   "cell_type": "code",
   "execution_count": 55,
   "id": "11be6b84-5557-4ac0-9c44-c80f1a95cd6a",
   "metadata": {},
   "outputs": [
    {
     "name": "stdout",
     "output_type": "stream",
     "text": [
      "[('meter_1', 1.23), ('meter_3', 1.97), ('meter_5', 0.99)]\n",
      "[1.23, 1.97, 0.99]\n",
      "4.19\n"
     ]
    }
   ],
   "source": [
    "\n",
    "meter_readings = {\"meter_1\": 1.23, \"meter_2\": 2.04, \"meter_3\": 1.97, \"meter_4\": 3.50, \"meter_5\": 0.99}\n",
    "\n",
    "\n",
    "# Filter odd meter readings and convert to list\n",
    "odd_readings_tuple_list = list(filter(lambda x: int(x[0][6:]) % 2 != 0, meter_readings.items()))     #  [('meter_1', 1.23), ('meter_3', 1.97), ('meter_5', 0.99)]\n",
    "\n",
    "\n",
    "# Extract readings from the filtered list of tuples\n",
    "odd_readings_list = [reading[1] for reading in odd_readings_tuple_list]                              #  [1.23, 1.97, 0.99]\n",
    "\n",
    "\n",
    "# add all the odd readings\n",
    "odd_readings_sum = (lambda x : sum(x))(odd_readings_list)                                            # 4.19\n",
    "\n",
    "\n",
    "print(odd_readings_tuple_list)\n",
    "print(odd_readings_list)\n",
    "print(odd_readings_sum)\n"
   ]
  },
  {
   "cell_type": "markdown",
   "id": "b9ee1427-5c57-416c-9e81-fb5973fba41c",
   "metadata": {},
   "source": [
    "<br>\n",
    "\n",
    "<span style=\"color: blue\">**Solution - 3** &nbsp;( using <span style=\"color: red\">**map( )**</span> and <span style=\"color: red\">**lambda**</span> function )</span>"
   ]
  },
  {
   "cell_type": "code",
   "execution_count": 56,
   "id": "0ab19fa8-8bb6-4523-baa3-f25beacdb517",
   "metadata": {},
   "outputs": [
    {
     "name": "stdout",
     "output_type": "stream",
     "text": [
      "4.19\n"
     ]
    }
   ],
   "source": [
    "\n",
    "meter_readings = {\"meter_1\": 1.23, \"meter_2\": 2.04, \"meter_3\": 1.97, \"meter_4\": 3.50, \"meter_5\": 0.99}\n",
    "\n",
    "odd_readings_list = list(map(lambda x: x[1] if int(x[0][6:]) % 2 != 0 else 0, meter_readings.items()))     # [1.23, 0, 1.97, 0, 0.99]\n",
    "\n",
    "odd_readings_sum = (lambda x: sum(x))(odd_readings_list)\n",
    "\n",
    "print(odd_readings_sum)\n"
   ]
  },
  {
   "cell_type": "code",
   "execution_count": 59,
   "id": "41f0c596-deca-46f1-9def-da065eaa6fdb",
   "metadata": {},
   "outputs": [
    {
     "name": "stdout",
     "output_type": "stream",
     "text": [
      "4.19\n"
     ]
    }
   ],
   "source": [
    "\n",
    "meter_readings = {\"meter_1\": 1.23, \"meter_2\": 2.04, \"meter_3\": 1.97, \"meter_4\": 3.50, \"meter_5\": 0.99}\n",
    "\n",
    "odd_readings_sum_func = lambda x: sum(list(map(lambda x: x[1] if int(x[0][6:]) % 2 != 0 else 0, meter_readings.items())))\n",
    "\n",
    "print(odd_readings_sum_func(meter_readings))\n"
   ]
  },
  {
   "cell_type": "markdown",
   "id": "01637237-0c76-49c9-b362-01ca31757e9d",
   "metadata": {},
   "source": [
    "<br>\n",
    "\n",
    "<span style=\"color: blue\">**Solution - 4** &nbsp;( using <span style=\"color: red\">**reduce()**</span> and <span style=\"color: red\">**lambda**</span> function )</span>"
   ]
  },
  {
   "cell_type": "code",
   "execution_count": 60,
   "id": "66d9883c-79f7-448b-8ede-570728a5d4d4",
   "metadata": {},
   "outputs": [
    {
     "name": "stdout",
     "output_type": "stream",
     "text": [
      "4.19\n"
     ]
    }
   ],
   "source": [
    "\n",
    "meter_readings = {\"meter_1\": 1.23, \"meter_2\": 2.04, \"meter_3\": 1.97, \"meter_4\": 3.50, \"meter_5\": 0.99}\n",
    "\n",
    "odd_readings_list = list(map(lambda x: x[1] if int(x[0][6:]) % 2 != 0 else 0, meter_readings.items()))      # [1.23, 0, 1.97, 0, 0.99]\n",
    "\n",
    "odd_readings_sum = reduce(lambda x,y: x+y , odd_readings_list)\n",
    "\n",
    "print(odd_readings_sum)\n"
   ]
  },
  {
   "cell_type": "markdown",
   "id": "63a3ee82-4e71-4b6e-8da1-362af8fdbdbe",
   "metadata": {},
   "source": [
    "<br>\n",
    "\n",
    "<font size=\"+1\">↳</font> &nbsp; <u>**Average of readings of odd meters**</u>\n",
    "\n",
    "<span style=\"color: blue\">**Solution**</span>\n",
    "\n"
   ]
  },
  {
   "cell_type": "code",
   "execution_count": 61,
   "id": "a52aef29-329e-4d0b-b2e1-ac074cb02ab0",
   "metadata": {},
   "outputs": [
    {
     "name": "stdout",
     "output_type": "stream",
     "text": [
      "0.8380000000000001\n"
     ]
    }
   ],
   "source": [
    "\n",
    "meter_readings = {\"meter_1\": 1.23, \"meter_2\": 2.04, \"meter_3\": 1.97, \"meter_4\": 3.50, \"meter_5\": 0.99}\n",
    "\n",
    "odd_readings_list = list(map(lambda x: x[1] if int(x[0][6:]) % 2 != 0 else 0, meter_readings.items()))\n",
    "\n",
    "odd_readings_avg = (lambda x: sum(x)/len(x))(odd_readings_list)\n",
    "\n",
    "print(odd_readings_avg)\n"
   ]
  },
  {
   "cell_type": "code",
   "execution_count": null,
   "id": "5b81e7fc-cff6-488d-bbb2-a500a0912ebd",
   "metadata": {},
   "outputs": [],
   "source": []
  },
  {
   "cell_type": "markdown",
   "id": "e0a6d358-a496-4bdf-9b0a-9b1ef372d0b2",
   "metadata": {},
   "source": [
    "<br>\n",
    "\n",
    "<br>\n",
    "\n",
    "<br>\n",
    "\n",
    "<font size=\"+2\"><span style=\"color: #F7057E\">••••••••••••••••••••••••••••••••••••••••••••••••••••••••••••••••••••••••••••••••••••••••••••••••••••••••••••</span></font>\n",
    "<br>\n",
    "\n",
    "<br>\n",
    "\n",
    "<span style=\"font-size: larger; color: #08B61A\">**Summary**</span>\n",
    "\n",
    "<br>\n",
    "\n",
    "✔️ Use Python lambda expressions to create <span style=\"background-color: #C3FFF8\">anonymous functions</span>, which are functions without names. \n",
    "\n",
    "<br>\n",
    "\n",
    "✔️ A lambda expression <span style=\"background-color: #C3FFF8\">accepts one or more arguments, contains an expression</span>, and returns the result of that expression.\n",
    "\n",
    "<br>\n",
    "\n",
    "✔️ <span style=\"background-color: #C3FFF8\">Use lambda expressions to pass anonymous functions to a function and return a function from another function.</span>\n",
    "\n",
    "<br>\n",
    "\n",
    "✔️ Lambda expressions can only contain a single expression, while regular functions can have multiple statements and a docstring. Regular functions are more suitable for complex operations or when the function needs to be reused multiple times. While lambda expressions are limited in scope and are suitable for short, simple operations, especially when passing functions as arguments to higher-order functions like <span style=\"background-color: #C3FFF8\">**sorted( )**</span>&nbsp;,&nbsp;<span style=\"background-color: #C3FFF8\">**groupby( )**</span> or &nbsp;<span style=\"background-color: #C3FFF8\">**min( )**</span>.\n",
    "<span style=\"background-color: yellow\">Unlike regular functions, lambda expressions can only access variables from the **enclosing scope** at the time of their definition, not when they are called</span>.\n",
    "\n",
    "<br>\n",
    "\n",
    "✔️ Lambda functions can be used in a variety of ways, including as arguments to other functions (such as the built-in <span style=\"background-color: #C3FFF8\">**map( )**</span>&nbsp;,&nbsp;<span style=\"background-color: #C3FFF8\">**filter( )**</span>&nbsp;,&nbsp;<span style=\"background-color: #C3FFF8\">**reduce( )**</span> functions), or to create short, throwaway functions for one-time use.\n"
   ]
  },
  {
   "cell_type": "code",
   "execution_count": null,
   "id": "ab35d069-4ee1-4a93-a220-c011e6f49d19",
   "metadata": {},
   "outputs": [],
   "source": []
  }
 ],
 "metadata": {
  "kernelspec": {
   "display_name": "Python 3 (ipykernel)",
   "language": "python",
   "name": "python3"
  },
  "language_info": {
   "codemirror_mode": {
    "name": "ipython",
    "version": 3
   },
   "file_extension": ".py",
   "mimetype": "text/x-python",
   "name": "python",
   "nbconvert_exporter": "python",
   "pygments_lexer": "ipython3",
   "version": "3.11.3"
  }
 },
 "nbformat": 4,
 "nbformat_minor": 5
}
