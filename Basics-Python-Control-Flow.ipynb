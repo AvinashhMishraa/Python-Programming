{
 "cells": [
  {
   "cell_type": "markdown",
   "id": "73b987f4-6a57-4736-afc8-f04cf373cc8a",
   "metadata": {},
   "source": [
    "# <u>Python if Statement</u>\n",
    "\n",
    "To execute a block of code based on a condition\n",
    "\n",
    "<br>\n",
    "\n",
    "### 1. <span style=\"background-color: yellow;\">The simple Python if statement</span>\n",
    "\n",
    "We use the <span style=\"background-color: #EFEAF1;color:red\"><strong> &nbsp;&nbsp; if &nbsp;&nbsp;</strong></span> statement when you want to run a code block based on a condition.\n",
    "\n",
    "<br>\n",
    "\n",
    "<div style=\"border: 1px solid pink; background-color: #FAF2FC; padding: 10px; margin-left: 50px\">\n",
    "<span style=\"color:red\"><strong>if</strong> &nbsp;<span style=\"color:blue\"><strong>if-condition: &nbsp;</strong></span></span><br>\n",
    "<span style=\"color: blue\"><strong>&nbsp;&nbsp;&nbsp;&nbsp;&nbsp;&nbsp;&nbsp;&nbsp;&nbsp; if-block </strong></span><br>\n",
    "</div>\n",
    "\n",
    "<br>\n",
    "\n",
    "&nbsp;&nbsp;&nbsp;&nbsp;&nbsp;&nbsp;&nbsp;&nbsp;&nbsp;&nbsp;&nbsp;&nbsp;&nbsp;&nbsp;<span style=\"background-color: #C9FF71;color: black\">**Note**</span>&nbsp; that the colon (<span style=\"background-color: #EFEAF1;color:red\"><strong> &nbsp; : &nbsp;</strong></span>) that follows the <span style=\"background-color: #EFEAF1;color:red\"><strong> &nbsp; condition &nbsp;</strong></span> is very important. If you forget it, you’ll get a **syntax error**.\n",
    "\n",
    "<br>"
   ]
  },
  {
   "cell_type": "code",
   "execution_count": 3,
   "id": "a3c670a3-17c1-401f-a3ab-59cc27d40ac3",
   "metadata": {},
   "outputs": [
    {
     "name": "stdin",
     "output_type": "stream",
     "text": [
      "Enter your age: 25\n"
     ]
    },
    {
     "name": "stdout",
     "output_type": "stream",
     "text": [
      "You're eligible to vote.\n",
      "Let's go and vote.\n"
     ]
    }
   ],
   "source": [
    "age = input('Enter your age:')\n",
    "if int(age) >= 18:\n",
    "    print(\"You're eligible to vote.\")\n",
    "    print(\"Let's go and vote.\")"
   ]
  },
  {
   "cell_type": "markdown",
   "id": "1cbff5f4-5b86-477e-b7dc-1a6d8740aeed",
   "metadata": {},
   "source": [
    "<br>\n",
    "\n",
    "In this example, **indentation** is very important. Any statement that follows the if statement needs to have four spaces. <br>\n",
    "\n",
    "<span style=\"color:blue\">Any statement that follows the <span style=\"background-color: #EFEAF1;color:red\"><strong> &nbsp;&nbsp; if &nbsp;&nbsp;</strong></span> statement needs to have **four spaces**.</span>\n",
    "\n",
    "<span style=\"background-color: #CAFEFD\">If you don’t use the **indentation** correctly, the program will work differently. For example:</span>\n",
    "\n",
    "<br>"
   ]
  },
  {
   "cell_type": "code",
   "execution_count": 5,
   "id": "dfb91657-8822-445e-9ab6-be96d3f1c57c",
   "metadata": {},
   "outputs": [
    {
     "name": "stdin",
     "output_type": "stream",
     "text": [
      "Enter your age: 12\n"
     ]
    },
    {
     "name": "stdout",
     "output_type": "stream",
     "text": [
      "Let's go and vote.\n"
     ]
    }
   ],
   "source": [
    "age = input('Enter your age:')\n",
    "if int(age) >= 18:\n",
    "    print(\"You're eligible to vote.\")\n",
    "print(\"Let's go and vote.\")  # this print statement always executes regardless of the condition in the if statement. The reason is that it doesn’t belong to the if block:"
   ]
  },
  {
   "cell_type": "markdown",
   "id": "ec759eb3-9e6b-4311-b424-168f135c4fa9",
   "metadata": {},
   "source": [
    "<br>\n",
    "\n",
    "<br>\n",
    "\n",
    "### 2. <span style=\"background-color: yellow;\">Python if…else statement</span>\n",
    "\n",
    "We use the <span style=\"background-color: #EFEAF1;color:red\"><strong> &nbsp; if-else &nbsp;</strong></span> to perform an action when a condition is **True** and another action when the condition is **False**.\n",
    "\n",
    "<br>\n",
    "\n",
    "<div style=\"border: 1px solid pink; background-color: #FAF2FC; padding: 10px; margin-left: 50px\">\n",
    "<span style=\"color:red\"><strong>if</strong> &nbsp;<span style=\"color:blue\"><strong>if-condition: &nbsp;</strong></span></span><br>\n",
    "<span style=\"color: blue\"><strong>&nbsp;&nbsp;&nbsp;&nbsp;&nbsp;&nbsp;&nbsp;&nbsp;&nbsp; if-block </strong></span><br>\n",
    "<span style=\"color: red\"><strong>else</strong></span><br>\n",
    "<span style=\"color: blue\"><strong>&nbsp;&nbsp;&nbsp;&nbsp;&nbsp;&nbsp;&nbsp;&nbsp;&nbsp; else-block </strong></span><br>\n",
    "</div>\n",
    "\n",
    "<br>\n",
    "\n",
    "<br>\n",
    "\n"
   ]
  },
  {
   "cell_type": "code",
   "execution_count": 6,
   "id": "4d0ff8ae-1cfa-4fd7-bff1-251ff15da1dd",
   "metadata": {},
   "outputs": [
    {
     "name": "stdin",
     "output_type": "stream",
     "text": [
      "Enter your age: 12\n"
     ]
    },
    {
     "name": "stdout",
     "output_type": "stream",
     "text": [
      "You're not eligible to vote.\n"
     ]
    }
   ],
   "source": [
    "age = input('Enter your age:')\n",
    "if int(age) >= 18:\n",
    "    print(\"You're eligible to vote.\")\n",
    "else:\n",
    "    print(\"You're not eligible to vote.\")"
   ]
  },
  {
   "cell_type": "markdown",
   "id": "a7709988-1f33-4e1b-af06-23c24440298b",
   "metadata": {},
   "source": [
    "<br>\n",
    "\n",
    "<br>\n",
    "\n",
    "### 3. <span style=\"background-color: yellow;\">Python if…elif…else statement</span>\n",
    "\n",
    "\n",
    "If you want to check **multiple condition**s and perform an action accordingly, you can use the <span style=\"background-color: #EFEAF1;color:red\"><strong> &nbsp; if...elif...else &nbsp;</strong></span> statement. The <span style=\"background-color: #EFEAF1;color:red\"><strong> &nbsp; elif &nbsp;</strong></span> stands for <span style=\"background-color: #EFEAF1;color:red\"><strong> &nbsp; else if &nbsp;</strong></span>\n",
    "\n",
    "\n"
   ]
  },
  {
   "cell_type": "markdown",
   "id": "a9773042-07bd-4d51-bc2e-c8452bdb0b07",
   "metadata": {},
   "source": [
    "<br>\n",
    "\n",
    "<div style=\"border: 1px solid pink; background-color: #FAF2FC; padding: 10px; margin-left: 50px\">\n",
    "<span style=\"color:red\"><strong>if</strong> &nbsp;<span style=\"color:blue\"><strong>if-condition: &nbsp;</strong></span></span><br>\n",
    "<span style=\"color: blue\"><strong>&nbsp;&nbsp;&nbsp;&nbsp;&nbsp;&nbsp;&nbsp;&nbsp;&nbsp; if-block </strong></span><br>\n",
    "<span style=\"color:red\"><strong>elif</strong> &nbsp;<span style=\"color:blue\"><strong>elif-condition1: &nbsp;</strong></span></span><br>\n",
    "<span style=\"color: blue\"><strong>&nbsp;&nbsp;&nbsp;&nbsp;&nbsp;&nbsp;&nbsp;&nbsp;&nbsp; elif-block1 </strong></span><br>\n",
    "<span style=\"color:red\"><strong>elif</strong> &nbsp;<span style=\"color:blue\"><strong>elif-condition2: &nbsp;</strong></span></span><br>\n",
    "<span style=\"color: blue\"><strong>&nbsp;&nbsp;&nbsp;&nbsp;&nbsp;&nbsp;&nbsp;&nbsp;&nbsp; elif-block2 </strong></span><br>\n",
    "<span style=\"color: blue\"><strong>.....</strong></span><br>\n",
    "<span style=\"color: red\"><strong>else</strong></span><br>\n",
    "<span style=\"color: blue\"><strong>&nbsp;&nbsp;&nbsp;&nbsp;&nbsp;&nbsp;&nbsp;&nbsp;&nbsp; else-block </strong></span><br>\n",
    "</div>\n",
    "\n",
    "<br>\n"
   ]
  },
  {
   "cell_type": "code",
   "execution_count": 8,
   "id": "0155e27f-6ba7-4f2f-a3aa-3732bae2af97",
   "metadata": {},
   "outputs": [
    {
     "name": "stdin",
     "output_type": "stream",
     "text": [
      "Enter your age: 25\n"
     ]
    },
    {
     "name": "stdout",
     "output_type": "stream",
     "text": [
      "You'll pay $18 for the ticket\n"
     ]
    }
   ],
   "source": [
    "age = input('Enter your age:')\n",
    "\n",
    "# convert the string to int\n",
    "your_age = int(age)\n",
    "\n",
    "# determine the ticket price\n",
    "if your_age < 5:\n",
    "    ticket_price = 5\n",
    "elif your_age < 16:\n",
    "    ticket_price = 10\n",
    "else:\n",
    "    ticket_price = 18\n",
    "\n",
    "# show the ticket price\n",
    "print(f\"You'll pay ${ticket_price} for the ticket\")\n"
   ]
  },
  {
   "cell_type": "code",
   "execution_count": null,
   "id": "f4253f37-44d1-49d8-a7b7-e72d40c357e1",
   "metadata": {},
   "outputs": [],
   "source": []
  },
  {
   "cell_type": "markdown",
   "id": "d187344b-1fc3-4409-b858-19d09457d346",
   "metadata": {},
   "source": [
    "<br>\n",
    "\n",
    "<br>\n",
    "\n",
    "# <u>Python Ternary Operator</u>\n",
    "\n",
    "We use the **ternary operator** ( <span style=\"background-color: #EFEAF1;color:red\"><strong> &nbsp; value_if_true &nbsp; if condition &nbsp; else &nbsp; value_if_false &nbsp;</strong></span> ) to make our code more concise.\n",
    "\n",
    "<br>\n",
    "\n",
    "Let us consider the following example:\n"
   ]
  },
  {
   "cell_type": "code",
   "execution_count": 9,
   "id": "e0b5016f-ec2d-43bc-9b79-2f24e6884856",
   "metadata": {},
   "outputs": [
    {
     "name": "stdin",
     "output_type": "stream",
     "text": [
      "Enter your age: 18\n"
     ]
    },
    {
     "name": "stdout",
     "output_type": "stream",
     "text": [
      "The ticket price is 20\n"
     ]
    }
   ],
   "source": [
    "age = input('Enter your age:')\n",
    "\n",
    "if int(age) >= 18:\n",
    "    ticket_price = 20\n",
    "else:\n",
    "    ticket_price = 5\n",
    "\n",
    "print(f\"The ticket price is {ticket_price}\")"
   ]
  },
  {
   "cell_type": "markdown",
   "id": "c9edc43d-4206-4f4c-8c7a-35c2a8848ff7",
   "metadata": {},
   "source": [
    "<br>\n",
    "\n",
    "<span style=\"background-color: #CAFEFD\">To make it **more concise**, you can use an alternative syntax like this:</span>"
   ]
  },
  {
   "cell_type": "code",
   "execution_count": 10,
   "id": "48130d14-6a3f-4c4c-a7c3-219077c98b32",
   "metadata": {},
   "outputs": [
    {
     "name": "stdin",
     "output_type": "stream",
     "text": [
      "Enter your age: 18\n"
     ]
    },
    {
     "name": "stdout",
     "output_type": "stream",
     "text": [
      "The ticket price is 20\n"
     ]
    }
   ],
   "source": [
    "age = input('Enter your age:')\n",
    "\n",
    "ticket_price = 20 if int(age) >= 18 else 5\n",
    "\n",
    "print(f\"The ticket price is {ticket_price}\")"
   ]
  },
  {
   "cell_type": "code",
   "execution_count": null,
   "id": "312797a4-bd76-49eb-9529-da1ac5420d6e",
   "metadata": {},
   "outputs": [],
   "source": []
  },
  {
   "cell_type": "markdown",
   "id": "c5349b30-c071-4a8b-8b95-6791602e0642",
   "metadata": {},
   "source": [
    "<br>\n",
    "\n",
    "<br>\n",
    "\n",
    "# <u>Python for Loop Statement With range() Function</u>\n",
    "\n",
    "<br>\n",
    "\n",
    "⇒ We use the <span style=\"background-color: #EFEAF1;color:red\"><strong> &nbsp; for &nbsp;</strong></span> loop statement to run a code block a **fixed number of times**.\n",
    "\n",
    "⇒ We use different variations of **Range()** function i.e., <span style=\"background-color: #EFEAF1;color:red\"><strong> &nbsp; range(n) &nbsp;</strong></span> or <span style=\"background-color: #EFEAF1;color:red\"><strong> &nbsp; range(start, stop) &nbsp;</strong></span> or <span style=\"background-color: #EFEAF1;color:red\"><strong> &nbsp; range(start, stop, step) &nbsp;</strong></span> to **customize the loop**. <br>\n",
    "\n",
    "<br>\n",
    "\n",
    "<span style=\"background-color: #CAFEFD\">Specifying only **the number of times you want a loop** to execute a statement :</span>\n"
   ]
  },
  {
   "cell_type": "code",
   "execution_count": 15,
   "id": "8543d53f-c106-44fc-a3ea-74d69b68f069",
   "metadata": {},
   "outputs": [
    {
     "name": "stdout",
     "output_type": "stream",
     "text": [
      "0\n",
      "1\n",
      "2\n",
      "3\n",
      "4\n"
     ]
    }
   ],
   "source": [
    "# Range(n)\n",
    "\n",
    "\n",
    "for index in range(5):\n",
    "    print(index)"
   ]
  },
  {
   "cell_type": "markdown",
   "id": "3caeda29-fd33-4478-a4d7-7e5ae54ba420",
   "metadata": {},
   "source": [
    "Here, the variable named <span style=\"color: blue\"> **index** </span> which is used to execute the <span style=\"background-color: #EFEAF1;color:red\"><strong> &nbsp; for &nbsp;</strong></span> loop is called a **loop counter**.\n",
    "\n",
    "As we can see in the output, the <span style=\"background-color: #EFEAF1;color:red\"><strong> &nbsp; range(n) &nbsp;</strong></span> generates a sequence of <span style=\"background-color: #EFEAF1;color:red\"><strong> &nbsp; n &nbsp;</strong></span> integers starting at **zero**. It **increases the value by one** until it reaches <span style=\"background-color: #EFEAF1;color:red\"><strong> &nbsp; n &nbsp;</strong></span>.\n",
    "\n",
    "By **default**, the <span style=\"background-color: #EFEAF1;color:red\"><strong> &nbsp; range() &nbsp;</strong></span> function uses **zero** as the **starting number** for the sequence.\n",
    "\n",
    "\n",
    "So the <span style=\"background-color: #EFEAF1;color:red\"><strong> &nbsp; range(n) &nbsp;</strong></span> generates a sequence of numbers: <span style=\"background-color: #EFEAF1;color:red\"><strong> &nbsp; 0 &nbsp;</strong></span>, <span style=\"background-color: #EFEAF1;color:red\"><strong> &nbsp; 1 &nbsp;</strong></span>, <span style=\"background-color: #EFEAF1;color:red\"><strong> &nbsp; 2 &nbsp;</strong></span>, …<span style=\"background-color: #EFEAF1;color:red\"><strong> n-1 </strong></span>. &nbsp; Note that it’s **always short of the final number** (<span style=\"background-color: #EFEAF1;color:red\"><strong> n </strong></span>).\n"
   ]
  },
  {
   "cell_type": "code",
   "execution_count": 21,
   "id": "a279d9f8-7855-4607-8916-1484c9ea088f",
   "metadata": {},
   "outputs": [
    {
     "name": "stdout",
     "output_type": "stream",
     "text": [
      "1\n",
      "2\n",
      "3\n",
      "4\n",
      "5\n"
     ]
    }
   ],
   "source": [
    "# If you want to show 5 numbers from 1 to 5 on the screen, you can do something like this:\n",
    "\n",
    "for index in range(5):\n",
    "    print(index + 1)"
   ]
  },
  {
   "cell_type": "markdown",
   "id": "6a2c44be-b73f-404a-a687-1ac8d7a40c18",
   "metadata": {},
   "source": [
    "<span style=\"background-color: #CAFEFD\">Specifying the **starting value** for the sequence :</span>\n"
   ]
  },
  {
   "cell_type": "code",
   "execution_count": 22,
   "id": "c174d19d-8593-47ad-aea4-75b6ff313c90",
   "metadata": {},
   "outputs": [
    {
     "name": "stdout",
     "output_type": "stream",
     "text": [
      "1\n",
      "2\n",
      "3\n",
      "4\n",
      "5\n"
     ]
    }
   ],
   "source": [
    "# range(start, stop)\n",
    "\n",
    "for index in range(1, 6):\n",
    "    print(index)"
   ]
  },
  {
   "cell_type": "markdown",
   "id": "3a97fb8d-d50b-496f-b28d-bddf06891380",
   "metadata": {},
   "source": [
    "<span style=\"background-color: #CAFEFD\">Specifying the **increment** for the sequence :</span> <br>\n",
    "\n",
    "By **default**, the <span style=\"background-color: #EFEAF1;color:red\"><strong> &nbsp; range(start, stop) &nbsp;</strong></span> increases the start value by **one** in each loop iteration.\n",
    "\n",
    "To increase the start value by a different number, you use the range() function: <span style=\"background-color: #EFEAF1;color:red\"><strong> &nbsp; range(start, stop, step) &nbsp;</strong></span>\n",
    "\n"
   ]
  },
  {
   "cell_type": "code",
   "execution_count": 24,
   "id": "4012a8b1-a02a-41e6-9e3b-5529543d9cbf",
   "metadata": {},
   "outputs": [
    {
     "name": "stdout",
     "output_type": "stream",
     "text": [
      "0\n",
      "2\n",
      "4\n",
      "6\n",
      "8\n",
      "10\n"
     ]
    }
   ],
   "source": [
    "# range(start, stop, step)\n",
    "\n",
    "# The following example shows all the odd numbers from 0 to 10:\n",
    "\n",
    "for index in range(0, 11, 2):\n",
    "    print(index)"
   ]
  },
  {
   "cell_type": "code",
   "execution_count": 30,
   "id": "5645c7d8-6101-416c-bc49-c2cedef8ffe6",
   "metadata": {},
   "outputs": [
    {
     "name": "stdout",
     "output_type": "stream",
     "text": [
      "5050\n"
     ]
    }
   ],
   "source": [
    "# calculate the sum of numbers from 1 to 100:\n",
    "\n",
    "sum = 0\n",
    "\n",
    "for num in range (1,101):\n",
    "    sum = sum + num\n",
    "    \n",
    "print(sum)"
   ]
  },
  {
   "cell_type": "code",
   "execution_count": 31,
   "id": "0e9fdf2e-342c-42b8-9a39-602dc40afda9",
   "metadata": {},
   "outputs": [
    {
     "name": "stdout",
     "output_type": "stream",
     "text": [
      "5050\n"
     ]
    }
   ],
   "source": [
    "# we can write the above program (sum of numbers from 1 to 100) concisely in the following way:\n",
    "\n",
    "sum = 0\n",
    "\n",
    "for num in range(101):\n",
    "    sum += num\n",
    "\n",
    "print(sum)"
   ]
  },
  {
   "cell_type": "markdown",
   "id": "f2883e64-7bba-47b9-aa4a-2dd01d0da690",
   "metadata": {},
   "source": [
    "<br>\n",
    "\n",
    "By the way, if you’re a mathematician, you can use the simple formula:"
   ]
  },
  {
   "cell_type": "code",
   "execution_count": 36,
   "id": "bf9e7dbf-30da-4311-8d4a-904a7d8c2913",
   "metadata": {},
   "outputs": [
    {
     "name": "stdout",
     "output_type": "stream",
     "text": [
      "5050.0\n"
     ]
    }
   ],
   "source": [
    "# Step-1\n",
    "\n",
    "n = 100\n",
    "sum = n * (n+1)/2\n",
    "print(sum)"
   ]
  },
  {
   "cell_type": "code",
   "execution_count": 37,
   "id": "af18bff3-5711-4fa8-ac7b-5b8bcca43e17",
   "metadata": {},
   "outputs": [
    {
     "name": "stdout",
     "output_type": "stream",
     "text": [
      "5050\n"
     ]
    }
   ],
   "source": [
    "# Step-2  \n",
    "\n",
    "n = 100\n",
    "sum = n * (n+1)/2\n",
    "print(int(sum))        # converting the float type result into the integer type"
   ]
  },
  {
   "cell_type": "code",
   "execution_count": null,
   "id": "51c0476e-05c3-44df-88c5-1a0e05b027f3",
   "metadata": {},
   "outputs": [],
   "source": []
  },
  {
   "cell_type": "markdown",
   "id": "88f22ea8-3406-4a67-8492-c3810287c7da",
   "metadata": {},
   "source": [
    "<br>\n",
    "\n",
    "<br>\n",
    "\n",
    "# <u>Python while Loop</u>\n",
    "\n",
    "Python <span style=\"background-color: #EFEAF1;color:red\"><strong> &nbsp; while &nbsp;</strong></span> statement allows you to execute a code block repeatedly as long as a condition is **True**.\n",
    "\n",
    "<div style=\"border: 1px solid pink; background-color: #EFEAF1; padding-top: 20px; padding-bottom: 20px\">\n",
    "<span style=\"color:red\">&nbsp; <strong>while</strong> &nbsp;<span style=\"color:blue\"><strong>condition: &nbsp;</strong></span></span><br>\n",
    "<span style=\"color: blue\"><strong>&nbsp;&nbsp;&nbsp;&nbsp;&nbsp;&nbsp;&nbsp;&nbsp;&nbsp; body </strong></span><br>\n",
    "</div>\n",
    "\n",
    "<br>\n",
    "\n",
    "The <span style=\"background-color: #EFEAF1;color:red\"><strong> &nbsp; condition &nbsp;</strong></span> is an expression that evaluates to a boolean value, either **True** or **False**.\n",
    "\n",
    "The <span style=\"background-color: #EFEAF1;color:red\"><strong> &nbsp; while &nbsp;</strong></span> statement checks the condition at the beginning of each iteration. It’ll execute the body as long as the <span style=\"background-color: #EFEAF1;color:red\"><strong> &nbsp; condition &nbsp;</strong></span> is True.\n",
    "\n",
    "In the body of the loop, you need to do something to stop the loop at some time.\n",
    "\n",
    "Otherwise, you’ll get an **indefinite loop** that will run forever until you close the application.\n",
    "\n",
    "Because the <span style=\"background-color: #EFEAF1;color:red\"><strong> &nbsp; while &nbsp;</strong></span> statement checks the condition at the beginning of each iteration, it’s called a **pretest loop**.\n",
    "\n",
    "If the <span style=\"background-color: #EFEAF1;color:red\"><strong> &nbsp; condition &nbsp;</strong></span> is <span style=\"background-color: #EFEAF1;color:red\"><strong> &nbsp; False &nbsp;</strong></span> from the beginning, the <span style=\"background-color: #EFEAF1;color:red\"><strong> &nbsp; while &nbsp;</strong></span> statement will do nothing.\n",
    "\n",
    "<br>\n",
    "\n",
    "<br>\n",
    "\n",
    "<span style=\"background-color: #CAFEFD\">**Example-1**: Simple Python <span style=\"color:red\"><strong> &nbsp; while &nbsp;</strong></span> statement example</span>\n",
    "\n",
    "The following example uses a <span style=\"color:red\"><strong> while</strong></span> statement to show **5 numbers** from **0 to 4** to the screen:\n"
   ]
  },
  {
   "cell_type": "code",
   "execution_count": 41,
   "id": "9a718f6f-0b00-4a84-ac83-aa8d5c2d1322",
   "metadata": {},
   "outputs": [
    {
     "name": "stdout",
     "output_type": "stream",
     "text": [
      "0\n",
      "1\n",
      "2\n",
      "3\n",
      "4\n"
     ]
    }
   ],
   "source": [
    "max = 5\n",
    "counter = 0\n",
    "\n",
    "while counter < max:\n",
    "    print(counter)\n",
    "    counter += 1"
   ]
  },
  {
   "cell_type": "markdown",
   "id": "77270717-dfbd-4022-8870-26769cc0f3bf",
   "metadata": {},
   "source": [
    "<br>\n",
    "\n",
    "<span style=\"background-color: #CAFEFD\">**Example-2**: Using the Python while statement to build a simple command prompt program</span>\n",
    "\n",
    "\n",
    "The following example uses the <span style=\"color:red\"><strong> while</strong></span> statement to prompt users for input and echo the command that you entered back. It’ll run as long as you don’t enter the <span style=\"color:red\"><strong> quit </strong></span> command:\n",
    "\n",
    "\n",
    "\n"
   ]
  },
  {
   "cell_type": "code",
   "execution_count": 42,
   "id": "11a3b8bc-bf43-4bc7-9c29-e91d8621a494",
   "metadata": {},
   "outputs": [
    {
     "name": "stdin",
     "output_type": "stream",
     "text": [
      "> abort\n"
     ]
    },
    {
     "name": "stdout",
     "output_type": "stream",
     "text": [
      "Echo: abort\n"
     ]
    },
    {
     "name": "stdin",
     "output_type": "stream",
     "text": [
      "> stop\n"
     ]
    },
    {
     "name": "stdout",
     "output_type": "stream",
     "text": [
      "Echo: stop\n"
     ]
    },
    {
     "name": "stdin",
     "output_type": "stream",
     "text": [
      "> end\n"
     ]
    },
    {
     "name": "stdout",
     "output_type": "stream",
     "text": [
      "Echo: end\n"
     ]
    },
    {
     "name": "stdin",
     "output_type": "stream",
     "text": [
      "> quit\n"
     ]
    },
    {
     "name": "stdout",
     "output_type": "stream",
     "text": [
      "Echo: quit\n"
     ]
    }
   ],
   "source": [
    "command = ''\n",
    "\n",
    "while command.lower() != 'quit':\n",
    "    command = input('>')\n",
    "    print(f\"Echo: {command}\")\n"
   ]
  },
  {
   "cell_type": "code",
   "execution_count": null,
   "id": "5adefb8d-c175-4e06-9db7-12819405a412",
   "metadata": {},
   "outputs": [],
   "source": []
  },
  {
   "cell_type": "code",
   "execution_count": null,
   "id": "75d83c80-1d58-4827-9530-7aae50a049a5",
   "metadata": {},
   "outputs": [],
   "source": []
  },
  {
   "cell_type": "code",
   "execution_count": null,
   "id": "c1e3a220-fd5d-4487-ac40-988cbf086ab0",
   "metadata": {},
   "outputs": [],
   "source": []
  },
  {
   "cell_type": "code",
   "execution_count": null,
   "id": "76d56bff-ed74-4b86-b151-f461f8e83347",
   "metadata": {},
   "outputs": [],
   "source": []
  },
  {
   "cell_type": "code",
   "execution_count": null,
   "id": "0d569736-2e4d-485c-8197-9dc81ad39d10",
   "metadata": {},
   "outputs": [],
   "source": []
  },
  {
   "cell_type": "code",
   "execution_count": null,
   "id": "b56163ef-e42e-4c8f-a880-ad15b1ad99b3",
   "metadata": {},
   "outputs": [],
   "source": []
  },
  {
   "cell_type": "code",
   "execution_count": null,
   "id": "84cacd5d-8340-4f8b-b6e2-6ed81d3cbf69",
   "metadata": {},
   "outputs": [],
   "source": []
  },
  {
   "cell_type": "code",
   "execution_count": null,
   "id": "bc8de52d-4d5d-4102-8001-3a39b1db6687",
   "metadata": {},
   "outputs": [],
   "source": []
  },
  {
   "cell_type": "code",
   "execution_count": null,
   "id": "69571015-b6d0-4c98-b24c-894d2dc29ec8",
   "metadata": {},
   "outputs": [],
   "source": []
  }
 ],
 "metadata": {
  "kernelspec": {
   "display_name": "Python 3 (ipykernel)",
   "language": "python",
   "name": "python3"
  },
  "language_info": {
   "codemirror_mode": {
    "name": "ipython",
    "version": 3
   },
   "file_extension": ".py",
   "mimetype": "text/x-python",
   "name": "python",
   "nbconvert_exporter": "python",
   "pygments_lexer": "ipython3",
   "version": "3.11.3"
  }
 },
 "nbformat": 4,
 "nbformat_minor": 5
}
