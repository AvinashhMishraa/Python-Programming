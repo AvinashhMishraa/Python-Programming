{
 "cells": [
  {
   "cell_type": "markdown",
   "id": "8cf94a4a-83f0-4cce-bef2-51e2fdd1aa38",
   "metadata": {},
   "source": [
    "# Bitwise Operators\n",
    "\n",
    "⇒ &nbsp; It is advised to always use **parenthesis** whiile using bitwise operators. <br>\n",
    "\n",
    "\n",
    "⇒ &nbsp; In Python, **integers** are represented using a <span style=\"background-color: #E8DAEF\">&nbsp;variable-length <span style=\"color: blue\">**two's complement format**</span>&nbsp;</span> to ensure **efficient memory utilization**. <br>\n",
    "\n",
    "<br>\n",
    "\n",
    "<br>\n",
    "\n",
    "<div style=\"border: 1px solid pink; padding: 5px; margin-left: 130px; width: 780px\">\n",
    "\n",
    "**n-bit system** ===> [ &nbsp;<span style=\"background-color:yellow\"><strong>&nbsp; -( 2 ** (n - 1) ) &nbsp;</strong></span>&nbsp;&nbsp;**,**&nbsp;&nbsp;  <span style=\"background-color:yellow\"><strong>&nbsp; (2 ** (n - 1)) - 1 &nbsp;</strong></span> ]\n",
    "\n",
    "<br>\n",
    "\n",
    "&nbsp;&nbsp;&nbsp;&nbsp;&nbsp;&nbsp;&nbsp;&nbsp;&nbsp;&nbsp;&nbsp;&nbsp;&nbsp;&nbsp;&nbsp;&nbsp;&nbsp;&nbsp;8-bits &nbsp;&nbsp;~ **[&nbsp;**<span style=\"background-color: #EFEAF1;color:red\"><strong>&nbsp;-(2 ** 7)&nbsp;</strong></span>&nbsp;**,** &nbsp;<span style=\"background-color: #EFEAF1;color:red\"><strong>&nbsp;((2 ** 7) - 1) &nbsp;</strong></span><strong>]</strong> =======> &nbsp;&nbsp;[&nbsp;<span style=\"background-color: #CAFEFD\">&nbsp;-128</span> , <span style=\"background-color: #CAFEFD\">127</span>&nbsp;] <br>\n",
    "&nbsp;&nbsp;&nbsp;&nbsp;&nbsp;&nbsp;&nbsp;&nbsp;&nbsp;&nbsp;&nbsp;&nbsp;&nbsp;&nbsp;&nbsp;&nbsp;&nbsp;&nbsp;16-bits ~ **[&nbsp;**<span style=\"background-color: #EFEAF1;color:red\"><strong>&nbsp;-(2 ** 15)&nbsp;</strong></span>&nbsp;**,** &nbsp;<span style=\"background-color: #EFEAF1;color:red\"><strong>&nbsp;((2 ** 15) - 1) &nbsp;</strong></span><strong>]</strong>  ======>&nbsp;[&nbsp;<span style=\"background-color: #CAFEFD\">-32,768</span> , <span style=\"background-color: #CAFEFD\">32,767</span>&nbsp;] <br>\n",
    "&nbsp;&nbsp;&nbsp;&nbsp;&nbsp;&nbsp;&nbsp;&nbsp;&nbsp;&nbsp;&nbsp;&nbsp;&nbsp;&nbsp;&nbsp;&nbsp;&nbsp;&nbsp;32-bits ~  **[&nbsp;**<span style=\"background-color: #EFEAF1;color:red\"><strong>&nbsp;-(2 ** 31)&nbsp;</strong></span>&nbsp;**,** &nbsp;<span style=\"background-color: #EFEAF1;color:red\"><strong>&nbsp;((2 ** 31) - 1) &nbsp;</strong></span><strong>]</strong> ======> [&nbsp;<span style=\"background-color: #CAFEFD\">-2,147,483,648</span> , <span style=\"background-color: #CAFEFD\">2,147,483,647</span>&nbsp;] <br>\n",
    "&nbsp;&nbsp;&nbsp;&nbsp;&nbsp;&nbsp;&nbsp;&nbsp;&nbsp;&nbsp;&nbsp;&nbsp;&nbsp;&nbsp;&nbsp;&nbsp;&nbsp;&nbsp;64-bits ~ **[&nbsp;**<span style=\"background-color: #EFEAF1;color:red\"><strong>&nbsp;-(2 ** 63)&nbsp;</strong></span>&nbsp;**,** &nbsp;<span style=\"background-color: #EFEAF1;color:red\"><strong>&nbsp;((2 ** 63) - 1) &nbsp;</strong></span><strong>]</strong> ======> [&nbsp;<span style=\"background-color: #CAFEFD\">-9,223,372,036,854,775,808</span> , <span style=\"background-color: #CAFEFD\">9,223,372,036,854,775,807</span>&nbsp;] <br>\n",
    "\n",
    "</div>\n",
    "\n",
    "<br>\n",
    "\n",
    "<br>\n",
    "\n",
    "<br>\n",
    "\n",
    "| <span style=\"background-color: #FBE2FF; color: blue\">decimal number</span> | <span style=\"background-color: #FBE2FF;color: blue\">variable-length 2's complement binary representation</span> | <span style=\"background-color: #FBE2FF; color: blue\">fixed-length (32) 2's complement binary representation</span> |\n",
    "|----------------|------------------------------------------------------|--------------------------------------------------------|\n",
    "|     .....      |                       .....                          |                      ......                            |\n",
    "|       16       |   &nbsp;<span style=\"color: red;font-size: larger\">**0b**</span><span style=\"background-color: yellow;font-size: larger\">**10000**</span>                                                                          |  &nbsp;         <span style=\"color: red;font-size: larger\">**0b**</span><span style=\"font-size: larger\">000000000000000000000000000</span><span style=\"background-color: yellow;font-size: larger\">**10000**</span>   |\n",
    "|       15       |   &nbsp;&nbsp;&nbsp;&nbsp;<span style=\"color: red;font-size: larger\">**0b**</span><span style=\"background-color: yellow;font-size: larger\">**1111**</span>                                                 |  &nbsp;         <span style=\"color: red;font-size: larger\">**0b**</span><span style=\"font-size: larger\">0000000000000000000000000000</span><span style=\"background-color: yellow;font-size: larger\">**1111**</span>   |\n",
    "|       14       |   &nbsp;&nbsp;&nbsp;&nbsp;<span style=\"color: red;font-size: larger\">**0b**</span><span style=\"background-color: yellow;font-size: larger\">**1110**</span>                                                 |  &nbsp;         <span style=\"color: red;font-size: larger\">**0b**</span><span style=\"font-size: larger\">0000000000000000000000000000</span><span style=\"background-color: yellow;font-size: larger\">**1110**</span>   |\n",
    "|       13       |   &nbsp;&nbsp;&nbsp;&nbsp;<span style=\"color: red;font-size: larger\">**0b**</span><span style=\"background-color: yellow;font-size: larger\">**1101**</span>                                                 |  &nbsp;         <span style=\"color: red;font-size: larger\">**0b**</span><span style=\"font-size: larger\">0000000000000000000000000000</span><span style=\"background-color: yellow;font-size: larger\">**1101**</span>   |\n",
    "|       12       |   &nbsp;&nbsp;&nbsp;&nbsp;<span style=\"color: red;font-size: larger\">**0b**</span><span style=\"background-color: yellow;font-size: larger\">**1100**</span>                                                 |  &nbsp;         <span style=\"color: red;font-size: larger\">**0b**</span><span style=\"font-size: larger\">0000000000000000000000000000</span><span style=\"background-color: yellow;font-size: larger\">**1100**</span>   |\n",
    "|       11       |   &nbsp;&nbsp;&nbsp;&nbsp;<span style=\"color: red;font-size: larger\">**0b**</span><span style=\"background-color: yellow;font-size: larger\">**1011**</span>                                                 |  &nbsp;         <span style=\"color: red;font-size: larger\">**0b**</span><span style=\"font-size: larger\">0000000000000000000000000000</span><span style=\"background-color: yellow;font-size: larger\">**1011**</span>   |\n",
    "|       10       |   &nbsp;&nbsp;&nbsp;&nbsp;&nbsp;<span style=\"color: red;font-size: larger\">**0b**</span><span style=\"background-color: yellow;font-size: larger\">**1010**</span>                                                 |  &nbsp;         <span style=\"color: red;font-size: larger\">**0b**</span><span style=\"font-size: larger\">0000000000000000000000000000</span><span style=\"background-color: yellow;font-size: larger\">**1010**</span>   |\n",
    "|       9       |   &nbsp;&nbsp;&nbsp;&nbsp;&nbsp;<span style=\"color: red;font-size: larger\">**0b**</span><span style=\"background-color: yellow;font-size: larger\">**1001**</span>                                                 |  &nbsp;         <span style=\"color: red;font-size: larger\">**0b**</span><span style=\"font-size: larger\">0000000000000000000000000000</span><span style=\"background-color: yellow;font-size: larger\">**1001**</span>   |\n",
    "|       8       |   &nbsp;&nbsp;&nbsp;&nbsp;&nbsp;<span style=\"color: red;font-size: larger\">**0b**</span><span style=\"background-color: yellow;font-size: larger\">**1000**</span>                                                 |  &nbsp;         <span style=\"color: red;font-size: larger\">**0b**</span><span style=\"font-size: larger\">0000000000000000000000000000</span><span style=\"background-color: yellow;font-size: larger\">**1000**</span>   |\n",
    "|       7       |   &nbsp;&nbsp;&nbsp;&nbsp;&nbsp;&nbsp;&nbsp;&nbsp;<span style=\"color: red;font-size: larger\">**0b**</span><span style=\"background-color: yellow;font-size: larger\">**111**</span>                                | &nbsp;          <span style=\"color: red;font-size: larger\">**0b**</span><span style=\"font-size: larger\">00000000000000000000000000000</span><span style=\"background-color: yellow;font-size: larger\">**111**</span>   |\n",
    "|       6       |   &nbsp;&nbsp;&nbsp;&nbsp;&nbsp;&nbsp;&nbsp;&nbsp;<span style=\"color: red;font-size: larger\">**0b**</span><span style=\"background-color: yellow;font-size: larger\">**110**</span>                                 |  &nbsp;         <span style=\"color: red;font-size: larger\">**0b**</span><span style=\"font-size: larger\">00000000000000000000000000000</span><span style=\"background-color: yellow;font-size: larger\">**110**</span>   |\n",
    "|       5       |   &nbsp;&nbsp;&nbsp;&nbsp;&nbsp;&nbsp;&nbsp;&nbsp;<span style=\"color: red;font-size: larger\">**0b**</span><span style=\"background-color: yellow;font-size: larger\">**101**</span>                                 |  &nbsp;         <span style=\"color: red;font-size: larger\">**0b**</span><span style=\"font-size: larger\">00000000000000000000000000000</span><span style=\"background-color: yellow;font-size: larger\">**101**</span>   |\n",
    "|       4       |   &nbsp;&nbsp;&nbsp;&nbsp;&nbsp;&nbsp;&nbsp;&nbsp;<span style=\"color: red;font-size: larger\">**0b**</span><span style=\"background-color: yellow;font-size: larger\">**100**</span>                                 |  &nbsp;         <span style=\"color: red;font-size: larger\">**0b**</span><span style=\"font-size: larger\">00000000000000000000000000000</span><span style=\"background-color: yellow;font-size: larger\">**100**</span>   |\n",
    "|       3       |   &nbsp;&nbsp;&nbsp;&nbsp;&nbsp;&nbsp;&nbsp;&nbsp;&nbsp;&nbsp;&nbsp;<span style=\"color: red;font-size: larger\">**0b**</span><span style=\"background-color: yellow;font-size: larger\">**11**</span>         |  &nbsp;          <span style=\"color: red;font-size: larger\">**0b**</span><span style=\"font-size: larger\">000000000000000000000000000000</span><span style=\"background-color: yellow;font-size: larger\">**11**</span>   |\n",
    "|       2       |   &nbsp;&nbsp;&nbsp;&nbsp;&nbsp;&nbsp;&nbsp;&nbsp;&nbsp;&nbsp;&nbsp;<span style=\"color: red;font-size: larger\">**0b**</span><span style=\"background-color: yellow;font-size: larger\">**10**</span>         |  &nbsp;          <span style=\"color: red;font-size: larger\">**0b**</span><span style=\"font-size: larger\">000000000000000000000000000000</span><span style=\"background-color: yellow;font-size: larger\">**10**</span>   |\n",
    "|       1       |   &nbsp;&nbsp;&nbsp;&nbsp;&nbsp;&nbsp;&nbsp;&nbsp;&nbsp;&nbsp;&nbsp;&nbsp;&nbsp;&nbsp;<span style=\"color: red;font-size: larger\">**0b**</span><span style=\"background-color: yellow;font-size: larger\">**1**</span>    | &nbsp;          <span style=\"color: red;font-size: larger\">**0b**</span><span style=\"font-size: larger\">0000000000000000000000000000000</span><span style=\"background-color: yellow;font-size: larger\">**1**</span>   |\n",
    "|       0       |   &nbsp;&nbsp;&nbsp;&nbsp;&nbsp;&nbsp;&nbsp;&nbsp;&nbsp;&nbsp;&nbsp;&nbsp;&nbsp;&nbsp;<span style=\"color: red;font-size: larger\">**0b**</span><span style=\"background-color: yellow;font-size: larger\">**0**</span>    | &nbsp;          <span style=\"color: red;font-size: larger\">**0b**</span><span style=\"font-size: larger\">0000000000000000000000000000000</span><span style=\"background-color: yellow;font-size: larger\">**0**</span>   |\n",
    "|       -1       |  &nbsp;&nbsp;&nbsp;&nbsp;&nbsp;&nbsp;&nbsp;&nbsp;&nbsp;&nbsp;&nbsp;&nbsp;&nbsp;<span style=\"color: red;font-size: larger\">**-0b**</span><span style=\"background-color: yellow;font-size: larger\">**1**</span>          |           <span style=\"color: red;font-size: larger\">**-0b**</span><span style=\"font-size: larger\">1111111111111111111111111111111</span><span style=\"background-color: yellow;font-size: larger\">**1**</span>   |\n",
    "|       -2       |   &nbsp;&nbsp;&nbsp;&nbsp;&nbsp;&nbsp;&nbsp;&nbsp;&nbsp;&nbsp;&nbsp;<span style=\"color: red;font-size: larger\">**-0b**</span><span style=\"background-color: yellow;font-size: larger\">**10**</span>         |           <span style=\"color: red;font-size: larger\">**-0b**</span><span style=\"font-size: larger\">111111111111111111111111111111</span><span style=\"background-color: yellow;font-size: larger\">**10**</span>   |\n",
    "|       -3       |   &nbsp;&nbsp;&nbsp;&nbsp;&nbsp;&nbsp;&nbsp;&nbsp;&nbsp;&nbsp;&nbsp;<span style=\"color: red;font-size: larger\">**-0b**</span><span style=\"background-color: yellow;font-size: larger\">**11**</span>         |          <span style=\"color: red;font-size: larger\">**-0b**</span><span style=\"font-size: larger\">11111111111111111111111111111</span><span style=\"background-color: yellow;font-size: larger\">**101**</span>   |\n",
    "|       -4       |   &nbsp;&nbsp;&nbsp;&nbsp;&nbsp;&nbsp;&nbsp;&nbsp;&nbsp;<span style=\"color: red;font-size: larger\">**-0b**</span><span style=\"background-color: yellow;font-size: larger\">**100**</span>                                 |    <span style=\"color: red;font-size: larger\">**-0b**</span><span style=\"font-size: larger\">11111111111111111111111111111</span><span style=\"background-color: yellow;font-size: larger\">**100**</span>   |\n",
    "|       -5       |   &nbsp;&nbsp;&nbsp;&nbsp;&nbsp;&nbsp;&nbsp;&nbsp;&nbsp;<span style=\"color: red;font-size: larger\">**-0b**</span><span style=\"background-color: yellow;font-size: larger\">**101**</span>                                 |   <span style=\"color: red;font-size: larger\">**-0b**</span><span style=\"font-size: larger\">1111111111111111111111111111</span><span style=\"background-color: yellow;font-size: larger\">**1011**</span>   |\n",
    "|       -6       |   &nbsp;&nbsp;&nbsp;&nbsp;&nbsp;&nbsp;&nbsp;&nbsp;&nbsp;<span style=\"color: red;font-size: larger\">**-0b**</span><span style=\"background-color: yellow;font-size: larger\">**110**</span>                                 |   <span style=\"color: red;font-size: larger\">**-0b**</span><span style=\"font-size: larger\">1111111111111111111111111111</span><span style=\"background-color: yellow;font-size: larger\">**1010**</span>   |\n",
    "|       -7       |   &nbsp;&nbsp;&nbsp;&nbsp;&nbsp;&nbsp;&nbsp;&nbsp;&nbsp;<span style=\"color: red;font-size: larger\">**-0b**</span><span style=\"background-color: yellow;font-size: larger\">**111**</span>                                 |  <span style=\"color: red;font-size: larger\">**-0b**</span><span style=\"font-size: larger\">1111111111111111111111111111</span><span style=\"background-color: yellow;font-size: larger\">**1001**</span>   |\n",
    "|       -8       |   &nbsp;&nbsp;&nbsp;&nbsp;&nbsp;&nbsp;&nbsp;<span style=\"color: red;font-size: larger\">**-0b**</span><span style=\"background-color: yellow;font-size: larger\">**1000**</span>                                            |    <span style=\"color: red;font-size: larger\">**-0b**</span><span style=\"font-size: larger\">1111111111111111111111111111</span><span style=\"background-color: yellow;font-size: larger\">**1000**</span>   |\n",
    "|       -9       |   &nbsp;&nbsp;&nbsp;&nbsp;&nbsp;&nbsp;&nbsp;<span style=\"color: red;font-size: larger\">**-0b**</span><span style=\"background-color: yellow;font-size: larger\">**1001**</span>                                            |    <span style=\"color: red;font-size: larger\">**-0b**</span><span style=\"font-size: larger\">111111111111111111111111111</span><span style=\"background-color: yellow;font-size: larger\">**10111**</span>   |\n",
    "|       -10       |   &nbsp;&nbsp;&nbsp;&nbsp;&nbsp;&nbsp;&nbsp;<span style=\"color: red;font-size: larger\">**-0b**</span><span style=\"background-color: yellow;font-size: larger\">**1010**</span>                                            |    <span style=\"color: red;font-size: larger\">**-0b**</span><span style=\"font-size: larger\">111111111111111111111111111</span><span style=\"background-color: yellow;font-size: larger\">**10110**</span>   |\n",
    "|       -11       |   &nbsp;&nbsp;&nbsp;&nbsp;&nbsp;&nbsp;&nbsp;<span style=\"color: red;font-size: larger\">**-0b**</span><span style=\"background-color: yellow;font-size: larger\">**1011**</span>                                            |    <span style=\"color: red;font-size: larger\">**-0b**</span><span style=\"font-size: larger\">111111111111111111111111111</span><span style=\"background-color: yellow;font-size: larger\">**10101**</span>   |\n",
    "|       -12       |   &nbsp;&nbsp;&nbsp;&nbsp;&nbsp;&nbsp;&nbsp;<span style=\"color: red;font-size: larger\">**-0b**</span><span style=\"background-color: yellow;font-size: larger\">**1100**</span>                                            |    <span style=\"color: red;font-size: larger\">**-0b**</span><span style=\"font-size: larger\">111111111111111111111111111</span><span style=\"background-color: yellow;font-size: larger\">**10100**</span>   |\n",
    "|       -13       |   &nbsp;&nbsp;&nbsp;&nbsp;&nbsp;&nbsp;&nbsp;<span style=\"color: red;font-size: larger\">**-0b**</span><span style=\"background-color: yellow;font-size: larger\">**1101**</span>                                            |    <span style=\"color: red;font-size: larger\">**-0b**</span><span style=\"font-size: larger\">111111111111111111111111111</span><span style=\"background-color: yellow;font-size: larger\">**10011**</span>   |\n",
    "|       -14       |   &nbsp;&nbsp;&nbsp;&nbsp;&nbsp;&nbsp;&nbsp;<span style=\"color: red;font-size: larger\">**-0b**</span><span style=\"background-color: yellow;font-size: larger\">**1110**</span>                                            |    <span style=\"color: red;font-size: larger\">**-0b**</span><span style=\"font-size: larger\">111111111111111111111111111</span><span style=\"background-color: yellow;font-size: larger\">**10010**</span>   |\n",
    "|       -15       |   &nbsp;&nbsp;&nbsp;&nbsp;&nbsp;&nbsp;&nbsp;<span style=\"color: red;font-size: larger\">**-0b**</span><span style=\"background-color: yellow;font-size: larger\">**1111**</span>                                            |    <span style=\"color: red;font-size: larger\">**-0b**</span><span style=\"font-size: larger\">111111111111111111111111111</span><span style=\"background-color: yellow;font-size: larger\">**10010**</span>   |\n",
    "|       -16       |   &nbsp;&nbsp;&nbsp;&nbsp;&nbsp;<span style=\"color: red;font-size: larger\">**-0b**</span><span style=\"background-color: yellow;font-size: larger\">**10000**</span>                                            |    <span style=\"color: red;font-size: larger\">**-0b**</span><span style=\"font-size: larger\">111111111111111111111111111</span><span style=\"background-color: yellow;font-size: larger\">**10000**</span>   |\n",
    "\n",
    "<br>\n",
    "\n",
    "<br>\n",
    "\n",
    "⇒ &nbsp; Use <span style=\"background-color: #FBE2FF\"><span style=\"color: red\">**bin()**</span> to find the **binary representation**</span> of a number (in decimal system) and <span style=\"background-color: #FBE2FF\"><span style=\"color: red\">**int.bit_length()**</span> to find the **bit length**</span> of that decimal number. <br>\n",
    "\n",
    "⇒ &nbsp; But remember &nbsp;<span style=\"background-color: yellow;color: red;font-size: larger\">&nbsp;**0b**&nbsp;</span><span style=\"background-color: black;color: #00FFFF; font-size: larger\">&nbsp;**magnitude**&nbsp;</span>&nbsp;</span> and <span style=\"background-color: yellow;color: red; font-size: larger\">&nbsp;**-0b**&nbsp;</span><span style=\"background-color: black;color: #00FFFF; font-size: larger\">&nbsp;**magnitude**&nbsp;</span>&nbsp;</span> are just for string representations. **Actual working is same across all programming languages**.\n",
    "\n",
    "⇒ &nbsp; <span style=\"color: #8702CA\">Therefore, one can always solve **all bit manipulation related questions** with the same technique in **Python** too like we do in **C** / **C** / **Java**.</span>\n",
    "\n",
    "\n",
    "<br>\n",
    "\n",
    "<br>\n",
    "\n",
    "<br>\n"
   ]
  },
  {
   "cell_type": "markdown",
   "id": "8279e92c-2d55-4001-8de5-a513f13bcfea",
   "metadata": {},
   "source": [
    "<br>\n",
    "\n",
    "### 1. Write a Python program to <span style =\"background-color: yellow\">check Least Significant Bit (LSB) of a number is set or not</span>.\n",
    "\n",
    "<br>\n",
    "\n",
    "#### <span style=\"background-color: #CAFEFD\">&nbsp;**Solution**&nbsp;</span> : &nbsp;&nbsp;&nbsp;&nbsp;&nbsp;&nbsp;<span style=\"background-color: #FBE2FF\">using **Biwise AND** ( <span style=\"color: red; font-size: larger\">&</span> ) Operator</span>"
   ]
  },
  {
   "cell_type": "code",
   "execution_count": 35,
   "id": "faad7dd0-3c49-483f-9c96-3e3c83961c17",
   "metadata": {},
   "outputs": [
    {
     "name": "stdin",
     "output_type": "stream",
     "text": [
      "Enter a number :  4\n"
     ]
    },
    {
     "name": "stdout",
     "output_type": "stream",
     "text": [
      "Least Significant Bit of 4 is 0\n",
      "\n",
      "\n",
      "\n",
      "      4  =======>  0 0 0 0 0 0 0 0 0 0 0 0 0 0 0 0 0 0 0 0 0 0 0 0 0 0 0 0 0 1 0 0\n",
      "  &   1  =======>  0 0 0 0 0 0 0 0 0 0 0 0 0 0 0 0 0 0 0 0 0 0 0 0 0 0 0 0 0 0 0 1\n",
      "-----------------------------------------------------------------------------------------------------\n",
      "  4 & 1  =======>  0 0 0 0 0 0 0 0 0 0 0 0 0 0 0 0 0 0 0 0 0 0 0 0 0 0 0 0 0 0 0 0   ==========> 0  \n",
      "-----------------------------------------------------------------------------------------------------\n",
      "\n",
      "\n"
     ]
    }
   ],
   "source": [
    "decimal_number = int(input(\"Enter a number : \"))\n",
    "\n",
    "\n",
    "print(f\"Least Significant Bit of {decimal_number} is {decimal_number & 1}\")\n",
    "\n",
    "print()\n",
    "\n",
    "print('''\n",
    "\n",
    "      4  =======>  0 0 0 0 0 0 0 0 0 0 0 0 0 0 0 0 0 0 0 0 0 0 0 0 0 0 0 0 0 1 0 0\n",
    "  &   1  =======>  0 0 0 0 0 0 0 0 0 0 0 0 0 0 0 0 0 0 0 0 0 0 0 0 0 0 0 0 0 0 0 1\n",
    "-----------------------------------------------------------------------------------------------------\n",
    "  4 & 1  =======>  0 0 0 0 0 0 0 0 0 0 0 0 0 0 0 0 0 0 0 0 0 0 0 0 0 0 0 0 0 0 0 0   ==========> 0  \n",
    "-----------------------------------------------------------------------------------------------------\n",
    "\n",
    "''')\n"
   ]
  },
  {
   "cell_type": "markdown",
   "id": "be3a5f56-f636-4d6b-b603-93ef278e2372",
   "metadata": {},
   "source": [
    "<br>\n",
    "\n",
    "**It is better to use <span style=\"color: blue\">functions</span> while solving a problem.**"
   ]
  },
  {
   "cell_type": "code",
   "execution_count": 34,
   "id": "f3602446-c753-47a7-8787-86f2bdb3bd2f",
   "metadata": {},
   "outputs": [
    {
     "name": "stdin",
     "output_type": "stream",
     "text": [
      "Enter a number :  -5\n"
     ]
    },
    {
     "name": "stdout",
     "output_type": "stream",
     "text": [
      "Least Significant Bit of -5 is 1\n",
      "\n",
      "\n",
      "      -5  =======>  1 1 1 1 1 1 1 1 1 1 1 1 1 1 1 1 1 1 1 1 1 1 1 1 1 1 1 1 1 0 1 1\n",
      "  &    1  =======>  0 0 0 0 0 0 0 0 0 0 0 0 0 0 0 0 0 0 0 0 0 0 0 0 0 0 0 0 0 0 0 1\n",
      "-----------------------------------------------------------------------------------------------------------\n",
      "  -5 & 1  =======>  0 0 0 0 0 0 0 0 0 0 0 0 0 0 0 0 0 0 0 0 0 0 0 0 0 0 0 0 0 0 0 1  ================> 1    \n",
      "-----------------------------------------------------------------------------------------------------------\n",
      "\n",
      "\n"
     ]
    }
   ],
   "source": [
    "def find_least_signicant_bit(decimal_number):\n",
    "    return (decimal_number & 1)  # since 1 is the unmasking bit in bitwise AND operation\n",
    "\n",
    "number = int(input(\"Enter a number : \"))\n",
    "\n",
    "least_signicant_bit = find_least_signicant_bit(number)\n",
    "\n",
    "print(f\"Least Significant Bit of {number} is {least_signicant_bit}\")\n",
    "\n",
    "print('''\n",
    "\n",
    "      -5  =======>  1 1 1 1 1 1 1 1 1 1 1 1 1 1 1 1 1 1 1 1 1 1 1 1 1 1 1 1 1 0 1 1\n",
    "  &    1  =======>  0 0 0 0 0 0 0 0 0 0 0 0 0 0 0 0 0 0 0 0 0 0 0 0 0 0 0 0 0 0 0 1\n",
    "-----------------------------------------------------------------------------------------------------------\n",
    "  -5 & 1  =======>  0 0 0 0 0 0 0 0 0 0 0 0 0 0 0 0 0 0 0 0 0 0 0 0 0 0 0 0 0 0 0 1  ================> 1    \n",
    "-----------------------------------------------------------------------------------------------------------\n",
    "\n",
    "''')\n"
   ]
  },
  {
   "cell_type": "markdown",
   "id": "e2182f89-63c8-4141-be69-29f562f4a495",
   "metadata": {},
   "source": [
    "<br>\n",
    "\n",
    "--------------------------------------------\n",
    "\n",
    "<br>\n",
    "\n",
    "### 2. Write a Python program to <span style =\"background-color: yellow\">check Most Significant Bit (MSB) of a number is set or not</span>.\n",
    "\n",
    "<br>\n",
    "\n",
    "#### <span style=\"background-color: #CAFEFD\">&nbsp;**Solution-1**&nbsp;</span> : &nbsp;&nbsp;&nbsp;&nbsp;(Assumption - <span style=\"color: blue\">**variable length two's complement system**</span> )\n"
   ]
  },
  {
   "cell_type": "code",
   "execution_count": 50,
   "id": "77b5c3cd-ea8a-4e0d-aa92-1007a648beb9",
   "metadata": {},
   "outputs": [
    {
     "name": "stdin",
     "output_type": "stream",
     "text": [
      "Enter the number: -5\n"
     ]
    },
    {
     "name": "stdout",
     "output_type": "stream",
     "text": [
      "Most Significant Bit of -5 is 1\n"
     ]
    }
   ],
   "source": [
    "# SOLUTION\n",
    "\n",
    "def find_most_significant_bit(decimal_number):\n",
    "    if decimal_number == 0:\n",
    "        return 0\n",
    "    else:\n",
    "        return 1\n",
    "\n",
    "\n",
    "number = int(input(\"Enter the number:\"))\n",
    "most_significant_bit = find_most_significant_bit(number)\n",
    "print(f\"Most Significant Bit of {number} is {most_significant_bit}\")\n"
   ]
  },
  {
   "cell_type": "markdown",
   "id": "51d8c48b-09bf-4800-abbd-b3086ca660f9",
   "metadata": {},
   "source": [
    "<br>\n",
    "\n",
    "**Let's try with another input for verifying :**"
   ]
  },
  {
   "cell_type": "code",
   "execution_count": 51,
   "id": "1a2bfa56-4d04-466e-aba8-05d720358abc",
   "metadata": {},
   "outputs": [
    {
     "name": "stdin",
     "output_type": "stream",
     "text": [
      "Enter the number: 6\n"
     ]
    },
    {
     "name": "stdout",
     "output_type": "stream",
     "text": [
      "Most Significant Bit of 6 is 1\n",
      "\n"
     ]
    }
   ],
   "source": [
    "number = int(input(\"Enter the number:\"))\n",
    "most_significant_bit = find_most_significant_bit(number)\n",
    "print(f\"Most Significant Bit of {number} is {most_significant_bit}\")\n",
    "\n",
    "print()"
   ]
  },
  {
   "cell_type": "markdown",
   "id": "16a9c690-f07a-4fff-bc7f-a6a2f10c1d3b",
   "metadata": {},
   "source": [
    "<br>\n",
    "\n",
    "**Let's try with another input for verifying :**"
   ]
  },
  {
   "cell_type": "code",
   "execution_count": 53,
   "id": "acde1c69-3e4c-40be-92e4-59c16f3346ec",
   "metadata": {},
   "outputs": [
    {
     "name": "stdin",
     "output_type": "stream",
     "text": [
      "Enter the number: 0\n"
     ]
    },
    {
     "name": "stdout",
     "output_type": "stream",
     "text": [
      "Most Significant Bit of 0 is 0\n",
      "\n"
     ]
    }
   ],
   "source": [
    "number = int(input(\"Enter the number:\"))\n",
    "most_significant_bit = find_most_significant_bit(number)\n",
    "print(f\"Most Significant Bit of {number} is {most_significant_bit}\")\n",
    "\n",
    "print()\n"
   ]
  },
  {
   "cell_type": "markdown",
   "id": "2b741142-bbd9-4f89-9855-67d85e50ff51",
   "metadata": {},
   "source": [
    "<br>\n",
    "\n",
    "#### <span style=\"background-color: #CAFEFD\">&nbsp;**Solution-2** &nbsp;</span> : &nbsp;&nbsp;&nbsp;&nbsp;(Assumption - <span style=\"color: blue\">**fixed length two's complement system**</span> )\n",
    "\n",
    "<span style=\"background-color: #FBE2FF\">using **Left Shift** ( <span style=\"color: red; font-size: larger\">**<<**</span> ) and **Biwise AND** ( <span style=\"color: red; font-size: larger\">**&**</span> ) Operator</span>\n",
    "\n",
    "<br>\n",
    "\n",
    "Now since we know that the <span style=\"color: red\">**getsizeof()**</span> function from <span style=\"color: red\">**sys**</span> module returns the number of bytes that Python uses to represent an integer **along with it's overhead**, <span style=\"background-color: #FFF862\"> so let's assume **32 bits fixed representation** with **two's complement format** for this question</span> :\n",
    "\n",
    "<br>"
   ]
  },
  {
   "cell_type": "code",
   "execution_count": 30,
   "id": "141ef39c-50f4-4db9-a153-b45a52a06f3f",
   "metadata": {},
   "outputs": [
    {
     "name": "stdin",
     "output_type": "stream",
     "text": [
      "Enter the number: -5\n"
     ]
    },
    {
     "name": "stdout",
     "output_type": "stream",
     "text": [
      "Most Significant Bit of -5 is 1\n",
      "\n",
      "\n",
      "\n",
      "        -5  =====================>  1 1 1 1 1 1 1 1 1 1 1 1 1 1 1 1 1 1 1 1 1 1 1 1 1 1 1 1 1 0 1 1\n",
      "    &   (1 << (32 - 1))  ========>  1 0 0 0 0 0 0 0 0 0 0 0 0 0 0 0 0 0 0 0 0 0 0 0 0 0 0 0 0 0 0 0\n",
      " -----------------------------------------------------------------------------------------------------\n",
      "   -5 & (1 << (32 - 1))  ========>  1 0 0 0 0 0 0 0 0 0 0 0 0 0 0 0 0 0 0 0 0 0 0 0 0 0 0 0 0 0 0 0   \n",
      " -----------------------------------------------------------------------------------------------------\n",
      "\n",
      "\n"
     ]
    }
   ],
   "source": [
    "# SOLUTION-2\n",
    "\n",
    "def find_most_significant_bit(decimal_number):\n",
    "    if (decimal_number & (1 << (32 -1))) == 0:         # since 0 is the masking bit and 1 is the unmasking bit in bitwise AND operation.\n",
    "        return 0\n",
    "    else:\n",
    "        return 1\n",
    "\n",
    "\n",
    "number = int(input(\"Enter the number:\"))\n",
    "most_significant_bit = find_most_significant_bit(number)\n",
    "print(f\"Most Significant Bit of {number} is {most_significant_bit}\")\n",
    "\n",
    "print()\n",
    "\n",
    "print('''\n",
    "\n",
    "        -5  =====================>  1 1 1 1 1 1 1 1 1 1 1 1 1 1 1 1 1 1 1 1 1 1 1 1 1 1 1 1 1 0 1 1\n",
    "    &   (1 << (32 - 1))  ========>  1 0 0 0 0 0 0 0 0 0 0 0 0 0 0 0 0 0 0 0 0 0 0 0 0 0 0 0 0 0 0 0\n",
    " -----------------------------------------------------------------------------------------------------\n",
    "   -5 & (1 << (32 - 1))  ========>  1 0 0 0 0 0 0 0 0 0 0 0 0 0 0 0 0 0 0 0 0 0 0 0 0 0 0 0 0 0 0 0   \n",
    " -----------------------------------------------------------------------------------------------------\n",
    "\n",
    "''')"
   ]
  },
  {
   "cell_type": "markdown",
   "id": "1053b9e1-e604-4b4f-bb18-2033209fa010",
   "metadata": {},
   "source": [
    "<br>\n",
    "\n",
    "**Let's try with another input for verifying :**"
   ]
  },
  {
   "cell_type": "code",
   "execution_count": 31,
   "id": "4083e006-ec6e-4166-8f28-bdc8d4bfd4a4",
   "metadata": {},
   "outputs": [
    {
     "name": "stdin",
     "output_type": "stream",
     "text": [
      "Enter the number: 8\n"
     ]
    },
    {
     "name": "stdout",
     "output_type": "stream",
     "text": [
      "Most Significant Bit of 8 is 0\n",
      "\n",
      "\n",
      "\n",
      "        8  =====================>   0 0 0 0 0 0 0 0 0 0 0 0 0 0 0 0 0 0 0 0 0 0 0 0 0 0 0 0 1 0 0 0\n",
      "    &   (1 << (32 - 1))  ========>  1 0 0 0 0 0 0 0 0 0 0 0 0 0 0 0 0 0 0 0 0 0 0 0 0 0 0 0 0 0 0 0\n",
      " -----------------------------------------------------------------------------------------------------\n",
      "    8 & (1 << (32 - 1))  ========>  0 0 0 0 0 0 0 0 0 0 0 0 0 0 0 0 0 0 0 0 0 0 0 0 0 0 0 0 0 0 0 0   \n",
      " -----------------------------------------------------------------------------------------------------\n",
      "\n",
      "\n"
     ]
    }
   ],
   "source": [
    "number = int(input(\"Enter the number:\"))\n",
    "most_significant_bit = find_most_significant_bit(number)\n",
    "print(f\"Most Significant Bit of {number} is {most_significant_bit}\")\n",
    "\n",
    "print()\n",
    "\n",
    "print('''\n",
    "\n",
    "        8  =====================>   0 0 0 0 0 0 0 0 0 0 0 0 0 0 0 0 0 0 0 0 0 0 0 0 0 0 0 0 1 0 0 0\n",
    "    &   (1 << (32 - 1))  ========>  1 0 0 0 0 0 0 0 0 0 0 0 0 0 0 0 0 0 0 0 0 0 0 0 0 0 0 0 0 0 0 0\n",
    " -----------------------------------------------------------------------------------------------------\n",
    "    8 & (1 << (32 - 1))  ========>  0 0 0 0 0 0 0 0 0 0 0 0 0 0 0 0 0 0 0 0 0 0 0 0 0 0 0 0 0 0 0 0   \n",
    " -----------------------------------------------------------------------------------------------------\n",
    "\n",
    "''')"
   ]
  },
  {
   "cell_type": "code",
   "execution_count": null,
   "id": "5d245ea8-3cb7-44e6-a2ea-6e6c75d3c60c",
   "metadata": {},
   "outputs": [],
   "source": []
  },
  {
   "cell_type": "markdown",
   "id": "f043cb28-2783-4dc5-83c8-54544d000aac",
   "metadata": {},
   "source": [
    "<br>\n",
    "\n",
    "--------------------------------------------\n",
    "\n",
    "<br>\n",
    "\n",
    "\n",
    "### 3. Write a Python program to <span style =\"background-color: yellow\">get nth bit of a number</span>.\n",
    "\n",
    "<br>\n",
    "\n",
    "#### <span style=\"background-color: #CAFEFD\">&nbsp;**Solution**&nbsp;</span> : &nbsp;&nbsp;&nbsp;&nbsp;&nbsp;&nbsp;<span style=\"background-color: #FBE2FF\">using **Left Shift** ( <span style=\"color: red; font-size: larger\"><<</span> ) and **Biwise AND** ( <span style=\"color: red; font-size: larger\">&</span> ) Operator</span>\n"
   ]
  },
  {
   "cell_type": "code",
   "execution_count": 23,
   "id": "cdb1c985-b346-4e8f-b5fd-277e2b9f714e",
   "metadata": {},
   "outputs": [
    {
     "name": "stdin",
     "output_type": "stream",
     "text": [
      "Enter a number : -5\n",
      "Enter the bit position from right you want to get the bit value of : 2\n"
     ]
    },
    {
     "name": "stdout",
     "output_type": "stream",
     "text": [
      "\n",
      "Starting from the right side of the binary representation of -5, the bit at position 2 is 1\n",
      "\n",
      "\n",
      "\n",
      "        -5 ==========> 1 1 1 1 1 1 1 1 1 1 1 1 1 1 1 1 1 1 1 1 1 1 1 1 1 1 1 1 1 0 1 1       \n",
      "    &   (1 << 1) ====> 0 0 0 0 0 0 0 0 0 0 0 0 0 0 0 0 0 0 0 0 0 0 0 0 0 0 0 0 0 0 1 0\n",
      "   ------------------------------------------------------------------------------------\n",
      "                       0 0 0 0 0 0 0 0 0 0 0 0 0 0 0 0 0 0 0 0 0 0 0 0 0 0 0 0 0 0 1 0\n",
      "   ------------------------------------------------------------------------------------\n",
      "\n",
      "\n"
     ]
    }
   ],
   "source": [
    "# SOLUTION-1\n",
    "\n",
    "def find_nth_bit(decimal_number,position):\n",
    "    if (decimal_number & (1 << (position - 1))) == 0:\n",
    "        return 0\n",
    "    else:\n",
    "        return 1\n",
    "\n",
    "\n",
    "number = int(input(\"Enter a number :\"))\n",
    "n = int(input(\"Enter the bit position from right you want to get the bit value of :\"))\n",
    "\n",
    "nth_bit = find_nth_bit(number,n)    # calling the function\n",
    "\n",
    "print()                             # just to give an empty line for better display of result\n",
    "print(f\"Starting from the right side of the binary representation of {number}, the bit at position {n} is {nth_bit}\")\n",
    "print()                             # just to give an empty line for better display of result\n",
    "\n",
    "print('''\n",
    "\n",
    "        -5 ==========> 1 1 1 1 1 1 1 1 1 1 1 1 1 1 1 1 1 1 1 1 1 1 1 1 1 1 1 1 1 0 1 1       \n",
    "    &   (1 << 1) ====> 0 0 0 0 0 0 0 0 0 0 0 0 0 0 0 0 0 0 0 0 0 0 0 0 0 0 0 0 0 0 1 0\n",
    "   ------------------------------------------------------------------------------------\n",
    "                       0 0 0 0 0 0 0 0 0 0 0 0 0 0 0 0 0 0 0 0 0 0 0 0 0 0 0 0 0 0 1 0\n",
    "   ------------------------------------------------------------------------------------\n",
    "\n",
    "''')"
   ]
  },
  {
   "cell_type": "markdown",
   "id": "9afa564d-2833-4b62-9541-573f1702acbc",
   "metadata": {},
   "source": [
    "<br>\n",
    "\n",
    "**Let's try with another input for verifying :**"
   ]
  },
  {
   "cell_type": "code",
   "execution_count": 84,
   "id": "8aa12487-e604-474d-9f8c-8429efdb8d5e",
   "metadata": {},
   "outputs": [
    {
     "name": "stdin",
     "output_type": "stream",
     "text": [
      "Enter a number : -5\n",
      "Enter the bit position from right you want to get the bit value of : 3\n"
     ]
    },
    {
     "name": "stdout",
     "output_type": "stream",
     "text": [
      "\n",
      "Starting from the right side of the binary representation of -5, the bit at position 3 is 0\n",
      "\n",
      "\n",
      "\n",
      "        -5 ========> 1 1 1 1 1 1 1 1 1 1 1 1 1 1 1 1 1 1 1 1 1 1 1 1 1 1 1 1 1 0 1 1       \n",
      "    &   1 << 2 ====> 0 0 0 0 0 0 0 0 0 0 0 0 0 0 0 0 0 0 0 0 0 0 0 0 0 0 0 0 0 1 0 0\n",
      "   ------------------------------------------------------------------------------------\n",
      "                     0 0 0 0 0 0 0 0 0 0 0 0 0 0 0 0 0 0 0 0 0 0 0 0 0 0 0 0 0 0 0 0\n",
      "   ------------------------------------------------------------------------------------\n",
      "\n",
      "\n"
     ]
    }
   ],
   "source": [
    "number = int(input(\"Enter a number :\"))\n",
    "n = int(input(\"Enter the bit position from right you want to get the bit value of :\"))\n",
    "\n",
    "nth_bit = find_nth_bit(number,n)\n",
    "\n",
    "nth_bit = find_nth_bit(number,n)    # calling the function\n",
    "\n",
    "print()                             # just to give an empty line for better display of result\n",
    "print(f\"Starting from the right side of the binary representation of {number}, the bit at position {n} is {nth_bit}\")\n",
    "print()                             # just to give an empty line for better display of result\n",
    "\n",
    "print('''\n",
    "\n",
    "        -5 ========> 1 1 1 1 1 1 1 1 1 1 1 1 1 1 1 1 1 1 1 1 1 1 1 1 1 1 1 1 1 0 1 1       \n",
    "    &   1 << 2 ====> 0 0 0 0 0 0 0 0 0 0 0 0 0 0 0 0 0 0 0 0 0 0 0 0 0 0 0 0 0 1 0 0\n",
    "   ------------------------------------------------------------------------------------\n",
    "                     0 0 0 0 0 0 0 0 0 0 0 0 0 0 0 0 0 0 0 0 0 0 0 0 0 0 0 0 0 0 0 0\n",
    "   ------------------------------------------------------------------------------------\n",
    "\n",
    "''')"
   ]
  },
  {
   "cell_type": "code",
   "execution_count": null,
   "id": "6a577ab1-2a9e-4254-87f7-50c32009b2d6",
   "metadata": {},
   "outputs": [],
   "source": []
  },
  {
   "cell_type": "markdown",
   "id": "e8ed477d-c7f3-47a9-9b45-7486180127d4",
   "metadata": {},
   "source": [
    "<br>\n",
    "\n",
    "--------------------------------------------\n",
    "\n",
    "<br>\n",
    "\n",
    "\n",
    "### 4. Write a Python program to <span style =\"background-color: yellow\">set nth bit of a number</span>.\n",
    "\n",
    "<br>\n",
    "\n",
    "#### <span style=\"background-color: #CAFEFD\">&nbsp;**Solution**&nbsp;</span> : &nbsp;&nbsp;&nbsp;&nbsp;&nbsp;&nbsp;<span style=\"background-color: #FBE2FF\">using **Left Shift** ( <span style=\"color: red; font-size: larger\"><<</span> ) and **Biwise OR** ( <span style=\"color: red; font-size: larger\">|</span> ) Operator</span>\n"
   ]
  },
  {
   "cell_type": "code",
   "execution_count": 95,
   "id": "dc5b29d0-b359-4592-90c5-9714fd848c7f",
   "metadata": {},
   "outputs": [
    {
     "name": "stdin",
     "output_type": "stream",
     "text": [
      "Enter a number : -5\n",
      "Enter the bit position from right you want to set the bit value at : 3\n"
     ]
    },
    {
     "name": "stdout",
     "output_type": "stream",
     "text": [
      "The new number after setting the bit at the 3 position from right = -1\n",
      "\n",
      "\n",
      "        -5  ==================>  1 1 1 1 1 1 1 1 1 1 1 1 1 1 1 1 1 1 1 1 1 1 1 1 1 1 1 1 1 0 1 1       \n",
      "    |   1 << (3 - 1)  ========>  0 0 0 0 0 0 0 0 0 0 0 0 0 0 0 0 0 0 0 0 0 0 0 0 0 0 0 0 0 1 0 0\n",
      "   --------------------------------------------------------------------------------------------------------------\n",
      "    -5 | (1 << (3 -1))  ======>  1 1 1 1 1 1 1 1 1 1 1 1 1 1 1 1 1 1 1 1 1 1 1 1 1 1 1 1 1 1 1 1  ========> -1\n",
      "   --------------------------------------------------------------------------------------------------------------\n",
      "\n",
      "\n"
     ]
    }
   ],
   "source": [
    "def set_nth_bit(decimal_number, position):\n",
    "    return (decimal_number | (1 << (position - 1)))\n",
    "\n",
    "\n",
    "number = int(input(\"Enter a number :\"))\n",
    "n = int(input(\"Enter the bit position from right you want to set the bit value at :\"))\n",
    "\n",
    "new_number = set_nth_bit(number, n)\n",
    "\n",
    "print(f\"The new number after setting the bit at the {n} position from right = {new_number}\")\n",
    "\n",
    "# Dry Run\n",
    "print('''\n",
    "\n",
    "        -5  ==================>  1 1 1 1 1 1 1 1 1 1 1 1 1 1 1 1 1 1 1 1 1 1 1 1 1 1 1 1 1 0 1 1       \n",
    "    |   1 << (3 - 1)  ========>  0 0 0 0 0 0 0 0 0 0 0 0 0 0 0 0 0 0 0 0 0 0 0 0 0 0 0 0 0 1 0 0\n",
    "   --------------------------------------------------------------------------------------------------------------\n",
    "    -5 | (1 << (3 -1))  ======>  1 1 1 1 1 1 1 1 1 1 1 1 1 1 1 1 1 1 1 1 1 1 1 1 1 1 1 1 1 1 1 1  ========> -1\n",
    "   --------------------------------------------------------------------------------------------------------------\n",
    "\n",
    "''')"
   ]
  },
  {
   "cell_type": "markdown",
   "id": "00a70242-7256-43d2-9a88-35ab633789e7",
   "metadata": {},
   "source": [
    "<br>\n",
    "\n",
    "**Let's try with another input for verifying :**"
   ]
  },
  {
   "cell_type": "code",
   "execution_count": 96,
   "id": "19d4f94b-af17-4045-9943-689138959f41",
   "metadata": {},
   "outputs": [
    {
     "name": "stdin",
     "output_type": "stream",
     "text": [
      "Enter a number : -5\n",
      "Enter the bit position from right you want to set the bit value at : 2\n"
     ]
    },
    {
     "name": "stdout",
     "output_type": "stream",
     "text": [
      "new number after setting the bit at the 2 position from right = -5\n",
      "\n",
      "\n",
      "        -5 ======================> 1 1 1 1 1 1 1 1 1 1 1 1 1 1 1 1 1 1 1 1 1 1 1 1 1 1 1 1 1 0 1 1       \n",
      "    |   1 << (2 - 1) ============> 0 0 0 0 0 0 0 0 0 0 0 0 0 0 0 0 0 0 0 0 0 0 0 0 0 0 0 0 0 0 1 0\n",
      "   ---------------------------------------------------------------------------------------------------------------\n",
      "    (-5 | (1 << (2 - 1))) =======> 1 1 1 1 1 1 1 1 1 1 1 1 1 1 1 1 1 1 1 1 1 1 1 1 1 1 1 1 1 0 1 1  =========>  -5\n",
      "   ---------------------------------------------------------------------------------------------------------------\n",
      "\n",
      "   So in this particular case, the new number is same as old number.\n",
      "\n"
     ]
    }
   ],
   "source": [
    "number = int(input(\"Enter a number :\"))\n",
    "n = int(input(\"Enter the bit position from right you want to set the bit value at :\"))\n",
    "\n",
    "new_number = set_nth_bit(number, n)\n",
    "\n",
    "print(f\"new number after setting the bit at the {n} position from right = {new_number}\")\n",
    "\n",
    "# Dry Run\n",
    "print('''\n",
    "\n",
    "        -5 ======================> 1 1 1 1 1 1 1 1 1 1 1 1 1 1 1 1 1 1 1 1 1 1 1 1 1 1 1 1 1 0 1 1       \n",
    "    |   1 << (2 - 1) ============> 0 0 0 0 0 0 0 0 0 0 0 0 0 0 0 0 0 0 0 0 0 0 0 0 0 0 0 0 0 0 1 0\n",
    "   ---------------------------------------------------------------------------------------------------------------\n",
    "    (-5 | (1 << (2 - 1))) =======> 1 1 1 1 1 1 1 1 1 1 1 1 1 1 1 1 1 1 1 1 1 1 1 1 1 1 1 1 1 0 1 1  =========>  -5\n",
    "   ---------------------------------------------------------------------------------------------------------------\n",
    "\n",
    "   So in this particular case, the new number is same as old number.\n",
    "''')"
   ]
  },
  {
   "cell_type": "markdown",
   "id": "557298a0-cb1e-4b72-8437-a4d2b96d088d",
   "metadata": {},
   "source": [
    "<br>\n",
    "\n",
    "**Let's try with another input for verifying :**"
   ]
  },
  {
   "cell_type": "code",
   "execution_count": 102,
   "id": "8ee67d33-c24b-4314-81aa-2d76809e447d",
   "metadata": {},
   "outputs": [
    {
     "name": "stdin",
     "output_type": "stream",
     "text": [
      "Enter a number : 8\n",
      "Enter the bit position from right you want to set the bit value at : 32\n"
     ]
    },
    {
     "name": "stdout",
     "output_type": "stream",
     "text": [
      "new number after setting the bit at the 32 position from right = 2147483656\n",
      "\n",
      "\n",
      "        8  =====================>  0 0 0 0 0 0 0 0 0 0 0 0 0 0 0 0 0 0 0 0 0 0 0 0 0 0 0 0 1 0 0 0     \n",
      "   |    1 << (32 - 1)  =========>  1 0 0 0 0 0 0 0 0 0 0 0 0 0 0 0 0 0 0 0 0 0 0 0 0 0 0 0 0 0 0 0\n",
      "  ----------------------------------------------------------------------------------------------------------------------------\n",
      "   (8 | (1 << (32 - 1)))  ======>  1 0 0 0 0 0 0 0 0 0 0 0 0 0 0 0 0 0 0 0 0 0 0 0 0 0 0 0 1 0 0 0  =========>  2147483656\n",
      "  ----------------------------------------------------------------------------------------------------------------------------\n",
      "  \n",
      "\n",
      "0b10000000000000000000000000001000\n"
     ]
    }
   ],
   "source": [
    "number = int(input(\"Enter a number :\"))\n",
    "n = int(input(\"Enter the bit position from right you want to set the bit value at :\"))\n",
    "\n",
    "new_number = set_nth_bit(number, n)\n",
    "\n",
    "print(f\"new number after setting the bit at the {n} position from right = {new_number}\")\n",
    "\n",
    "# Dry Run\n",
    "print('''\n",
    "\n",
    "        8  =====================>  0 0 0 0 0 0 0 0 0 0 0 0 0 0 0 0 0 0 0 0 0 0 0 0 0 0 0 0 1 0 0 0     \n",
    "   |    1 << (32 - 1)  =========>  1 0 0 0 0 0 0 0 0 0 0 0 0 0 0 0 0 0 0 0 0 0 0 0 0 0 0 0 0 0 0 0\n",
    "  ----------------------------------------------------------------------------------------------------------------------------\n",
    "   (8 | (1 << (32 - 1)))  ======>  1 0 0 0 0 0 0 0 0 0 0 0 0 0 0 0 0 0 0 0 0 0 0 0 0 0 0 0 1 0 0 0  =========>  2147483656\n",
    "  ----------------------------------------------------------------------------------------------------------------------------\n",
    "  \n",
    "''')\n",
    "\n",
    "# To Confirm\n",
    "print(bin(new_number))"
   ]
  },
  {
   "cell_type": "markdown",
   "id": "32175841-0289-435b-b41e-d342f178d96f",
   "metadata": {},
   "source": [
    "<br>\n",
    "\n",
    "--------------------------------------------\n",
    "\n",
    "<br>\n",
    "\n",
    "\n",
    "### 5. Write a Python program to <span style =\"background-color: yellow\">clear nth bit of a number</span>.\n",
    "\n",
    "<br>\n",
    "\n",
    "#### <span style=\"background-color: #CAFEFD\">&nbsp;**Solution**&nbsp;</span> : &nbsp;&nbsp;&nbsp;&nbsp;&nbsp;&nbsp;<span style=\"background-color: #FBE2FF\">using **Left Shift** ( <span style=\"color: red; font-size: larger\"><<</span> ) and **Biwise AND** ( <span style=\"color: red; font-size: larger\">&</span> ) Operator</span>\n"
   ]
  },
  {
   "cell_type": "code",
   "execution_count": 91,
   "id": "50e43309-e2fc-4723-95eb-2c6751131bd3",
   "metadata": {},
   "outputs": [
    {
     "name": "stdin",
     "output_type": "stream",
     "text": [
      "Enter a number : 11\n",
      "Enter the bit position from right you want to clear the bit value at : 2\n"
     ]
    },
    {
     "name": "stdout",
     "output_type": "stream",
     "text": [
      "The new number after clearing the bit at the 2 position from right = 9\n",
      "\n",
      "\n",
      "11  ===================>   11    =================> 0 0 0 0 0 0 0 0 0 0 0 0 0 0 0 0 0 0 0 0 0 0 0 0 0 0 0 0 1 0 1 1\n",
      "1 << (2 - 1)  =========>    2    =================> 0 0 0 0 0 0 0 0 0 0 0 0 0 0 0 0 0 0 0 0 0 0 0 0 0 0 0 0 0 0 1 0\n",
      "~(1 << (2 - 1))  ======>   -3    =================> 1 1 1 1 1 1 1 1 1 1 1 1 1 1 1 1 1 1 1 1 1 1 1 1 1 1 1 1 1 1 0 1\n",
      "\n",
      "\n",
      "\n",
      "         11  =====================>   11    =================> 0 0 0 0 0 0 0 0 0 0 0 0 0 0 0 0 0 0 0 0 0 0 0 0 0 0 0 0 1 0 1 1\n",
      "    &    (~(1 << (2 - 1)))  ======>   -3    =================> 1 1 1 1 1 1 1 1 1 1 1 1 1 1 1 1 1 1 1 1 1 1 1 1 1 1 1 1 1 1 0 1\n",
      "  ---------------------------------------------------------------------------------------------------------------------------------\n",
      "    11 & (~(1 << (2 - 1)))  ======>    9    <================  0 0 0 0 0 0 0 0 0 0 0 0 0 0 0 0 0 0 0 0 0 0 0 0 0 0 0 0 1 0 0 1      \n",
      "  ---------------------------------------------------------------------------------------------------------------------------------\n",
      "\n",
      "\n"
     ]
    }
   ],
   "source": [
    "def clear_nth_bit(decimal_number, position):\n",
    "    return (decimal_number & (~(1 << (position - 1))))\n",
    "\n",
    "\n",
    "number = int(input(\"Enter a number :\"))\n",
    "n = int(input(\"Enter the bit position from right you want to clear the bit value at :\"))\n",
    "\n",
    "new_number = clear_nth_bit(number, n)\n",
    "\n",
    "print(f\"The new number after clearing the bit at the {n} position from right = {new_number}\")\n",
    "\n",
    "\n",
    "# Dru Run\n",
    "print('''\n",
    "\n",
    "11  ===================>   11    =================> 0 0 0 0 0 0 0 0 0 0 0 0 0 0 0 0 0 0 0 0 0 0 0 0 0 0 0 0 1 0 1 1\n",
    "1 << (2 - 1)  =========>    2    =================> 0 0 0 0 0 0 0 0 0 0 0 0 0 0 0 0 0 0 0 0 0 0 0 0 0 0 0 0 0 0 1 0\n",
    "~(1 << (2 - 1))  ======>   -3    =================> 1 1 1 1 1 1 1 1 1 1 1 1 1 1 1 1 1 1 1 1 1 1 1 1 1 1 1 1 1 1 0 1\n",
    "\n",
    "\n",
    "\n",
    "         11  =====================>   11    =================> 0 0 0 0 0 0 0 0 0 0 0 0 0 0 0 0 0 0 0 0 0 0 0 0 0 0 0 0 1 0 1 1\n",
    "    &    (~(1 << (2 - 1)))  ======>   -3    =================> 1 1 1 1 1 1 1 1 1 1 1 1 1 1 1 1 1 1 1 1 1 1 1 1 1 1 1 1 1 1 0 1\n",
    "  ---------------------------------------------------------------------------------------------------------------------------------\n",
    "    11 & (~(1 << (2 - 1)))  ======>    9    <================  0 0 0 0 0 0 0 0 0 0 0 0 0 0 0 0 0 0 0 0 0 0 0 0 0 0 0 0 1 0 0 1      \n",
    "  ---------------------------------------------------------------------------------------------------------------------------------\n",
    "\n",
    "''')\n"
   ]
  },
  {
   "cell_type": "markdown",
   "id": "503961c3-ffc2-4011-96ea-432c577aed94",
   "metadata": {},
   "source": [
    "<br>\n",
    "\n",
    "**Let's try with another input for verifying :**"
   ]
  },
  {
   "cell_type": "code",
   "execution_count": 90,
   "id": "2ffa0bb4-3d31-416e-a3e1-70979c3b7a5f",
   "metadata": {},
   "outputs": [
    {
     "name": "stdin",
     "output_type": "stream",
     "text": [
      "Enter a number : -5\n",
      "Enter the bit position from right you want to clear the bit value at : 3\n"
     ]
    },
    {
     "name": "stdout",
     "output_type": "stream",
     "text": [
      "The new number after clearing the bit at the 3 position from right = -5\n",
      "\n",
      "\n",
      "-5  ===================>   -5    =================> 1 1 1 1 1 1 1 1 1 1 1 1 1 1 1 1 1 1 1 1 1 1 1 1 1 1 1 1 1 0 1 1\n",
      "1 << (3 - 1)  =========>    4    =================> 0 0 0 0 0 0 0 0 0 0 0 0 0 0 0 0 0 0 0 0 0 0 0 0 0 0 0 0 0 1 0 0\n",
      "~(1 << (3 - 1))  ======>   -5    =================> 1 1 1 1 1 1 1 1 1 1 1 1 1 1 1 1 1 1 1 1 1 1 1 1 1 1 1 1 1 0 1 1\n",
      "\n",
      "\n",
      "\n",
      "         -5  =====================>   -5    =================> 1 1 1 1 1 1 1 1 1 1 1 1 1 1 1 1 1 1 1 1 1 1 1 1 1 1 1 1 1 0 1 1\n",
      "    &    (~(1 << (3 - 1)))  ======>    4    =================> 1 1 1 1 1 1 1 1 1 1 1 1 1 1 1 1 1 1 1 1 1 1 1 1 1 1 1 1 1 0 1 1\n",
      "---------------------------------------------------------------------------------------------------------------------------------\n",
      " -5 & (~(1 << (3 - 1)))  =========>   -5    <================  1 1 1 1 1 1 1 1 1 1 1 1 1 1 1 1 1 1 1 1 1 1 1 1 1 1 1 1 1 0 1 1      \n",
      "---------------------------------------------------------------------------------------------------------------------------------\n",
      "\n",
      "\n"
     ]
    }
   ],
   "source": [
    "number = int(input(\"Enter a number :\"))\n",
    "n = int(input(\"Enter the bit position from right you want to clear the bit value at :\"))\n",
    "\n",
    "new_number = clear_nth_bit(number, n)\n",
    "\n",
    "print(f\"The new number after clearing the bit at the {n} position from right = {new_number}\")\n",
    "\n",
    "# Dry Run\n",
    "print('''\n",
    "\n",
    "-5  ===================>   -5    =================> 1 1 1 1 1 1 1 1 1 1 1 1 1 1 1 1 1 1 1 1 1 1 1 1 1 1 1 1 1 0 1 1\n",
    "1 << (3 - 1)  =========>    4    =================> 0 0 0 0 0 0 0 0 0 0 0 0 0 0 0 0 0 0 0 0 0 0 0 0 0 0 0 0 0 1 0 0\n",
    "~(1 << (3 - 1))  ======>   -5    =================> 1 1 1 1 1 1 1 1 1 1 1 1 1 1 1 1 1 1 1 1 1 1 1 1 1 1 1 1 1 0 1 1\n",
    "\n",
    "\n",
    "\n",
    "         -5  =====================>   -5    =================> 1 1 1 1 1 1 1 1 1 1 1 1 1 1 1 1 1 1 1 1 1 1 1 1 1 1 1 1 1 0 1 1\n",
    "    &    (~(1 << (3 - 1)))  ======>    4    =================> 1 1 1 1 1 1 1 1 1 1 1 1 1 1 1 1 1 1 1 1 1 1 1 1 1 1 1 1 1 0 1 1\n",
    "---------------------------------------------------------------------------------------------------------------------------------\n",
    " -5 & (~(1 << (3 - 1)))  =========>   -5    <================  1 1 1 1 1 1 1 1 1 1 1 1 1 1 1 1 1 1 1 1 1 1 1 1 1 1 1 1 1 0 1 1      \n",
    "---------------------------------------------------------------------------------------------------------------------------------\n",
    "\n",
    "''')\n"
   ]
  },
  {
   "cell_type": "code",
   "execution_count": null,
   "id": "00d3b66a-5758-4831-bc95-660dd0ba0f7e",
   "metadata": {},
   "outputs": [],
   "source": []
  },
  {
   "cell_type": "markdown",
   "id": "54bc38d2-c98b-4f3a-9bdd-3d5e42c0093e",
   "metadata": {},
   "source": [
    "<br>\n",
    "\n",
    "--------------------------------------------\n",
    "\n",
    "<br>\n",
    "\n",
    "\n",
    "### 6. Write a Python program to <span style =\"background-color: yellow\">toggle nth bit of a number</span>.\n",
    "\n",
    "<br>\n",
    "\n",
    "#### <span style=\"background-color: #CAFEFD\">&nbsp;**Solution**&nbsp;</span> : \n"
   ]
  },
  {
   "cell_type": "code",
   "execution_count": 85,
   "id": "053d8b77-6068-4b44-b109-c79e9b179852",
   "metadata": {},
   "outputs": [
    {
     "name": "stdin",
     "output_type": "stream",
     "text": [
      "Enter a number : -5\n",
      "Enter the bit position from right you want to toggle the bit value at : 3\n"
     ]
    },
    {
     "name": "stdout",
     "output_type": "stream",
     "text": [
      "The new number after toggling the bit at the 3 position from right = -1\n",
      "\n",
      "\n",
      "      -5  =================>  -5   =============>  1 1 1 1 1 1 1 1 1 1 1 1 1 1 1 1 1 1 1 1 1 1 1 1 1 1 1 1 1 0 1 1\n",
      "  ^   (1 << (3 -1))  ======>   4   =============>  0 0 0 0 0 0 0 0 0 0 0 0 0 0 0 0 0 0 0 0 0 0 0 0 0 0 0 0 0 1 0 0 \n",
      "---------------------------------------------------------------------------------------------------------------------\n",
      "  -5 ^ (1 << (3 -1))  =====>  -1   <=============  1 1 1 1 1 1 1 1 1 1 1 1 1 1 1 1 1 1 1 1 1 1 1 1 1 1 1 1 1 1 1 1   \n",
      "---------------------------------------------------------------------------------------------------------------------\n",
      "\n",
      "\n"
     ]
    }
   ],
   "source": [
    "def toggle_nth_bit(decimal_number, position):\n",
    "    return (decimal_number ^ (1 << (position - 1))) \n",
    "\n",
    "\n",
    "number = int(input(\"Enter a number :\"))\n",
    "n = int(input(\"Enter the bit position from right you want to toggle the bit value at :\"))\n",
    "\n",
    "new_number = toggle_nth_bit(number, n)\n",
    "\n",
    "print(f\"The new number after toggling the bit at the {n} position from right = {new_number}\")\n",
    "\n",
    "# Dry Run\n",
    "print('''\n",
    "\n",
    "      -5  =================>  -5   =============>  1 1 1 1 1 1 1 1 1 1 1 1 1 1 1 1 1 1 1 1 1 1 1 1 1 1 1 1 1 0 1 1\n",
    "  ^   (1 << (3 -1))  ======>   4   =============>  0 0 0 0 0 0 0 0 0 0 0 0 0 0 0 0 0 0 0 0 0 0 0 0 0 0 0 0 0 1 0 0 \n",
    "---------------------------------------------------------------------------------------------------------------------\n",
    "  -5 ^ (1 << (3 -1))  =====>  -1   <=============  1 1 1 1 1 1 1 1 1 1 1 1 1 1 1 1 1 1 1 1 1 1 1 1 1 1 1 1 1 1 1 1   \n",
    "---------------------------------------------------------------------------------------------------------------------\n",
    "\n",
    "''')\n"
   ]
  },
  {
   "cell_type": "markdown",
   "id": "b9864448-422f-485f-a1d4-af074f9c7606",
   "metadata": {},
   "source": [
    "<br>\n",
    "\n",
    "**Let's try with another input for verifying :**"
   ]
  },
  {
   "cell_type": "code",
   "execution_count": 87,
   "id": "0d7b6f9b-abed-4b39-897f-586d7f27cfb3",
   "metadata": {},
   "outputs": [
    {
     "name": "stdin",
     "output_type": "stream",
     "text": [
      "Enter a number : -5\n",
      "Enter the bit position from right you want to toggle the bit value at : 2\n"
     ]
    },
    {
     "name": "stdout",
     "output_type": "stream",
     "text": [
      "The new number after toggling the bit at the 2 position from right = -7\n",
      "\n",
      "\n",
      "      -5  =================>  -5   =============>  1 1 1 1 1 1 1 1 1 1 1 1 1 1 1 1 1 1 1 1 1 1 1 1 1 1 1 1 1 0 1 1\n",
      "  ^   (1 << (2 -1))  ======>   2   =============>  0 0 0 0 0 0 0 0 0 0 0 0 0 0 0 0 0 0 0 0 0 0 0 0 0 0 0 0 0 0 1 0 \n",
      "---------------------------------------------------------------------------------------------------------------------\n",
      "  -5 ^ (1 << (2 -1))  =====>  -7   <=============  1 1 1 1 1 1 1 1 1 1 1 1 1 1 1 1 1 1 1 1 1 1 1 1 1 1 1 1 1 0 0 1   \n",
      "---------------------------------------------------------------------------------------------------------------------\n",
      "\n",
      "\n"
     ]
    }
   ],
   "source": [
    "number = int(input(\"Enter a number :\"))\n",
    "n = int(input(\"Enter the bit position from right you want to toggle the bit value at :\"))\n",
    "\n",
    "new_number = toggle_nth_bit(number, n)\n",
    "\n",
    "print(f\"The new number after toggling the bit at the {n} position from right = {new_number}\")\n",
    "\n",
    "# Dry Run\n",
    "print('''\n",
    "\n",
    "      -5  =================>  -5   =============>  1 1 1 1 1 1 1 1 1 1 1 1 1 1 1 1 1 1 1 1 1 1 1 1 1 1 1 1 1 0 1 1\n",
    "  ^   (1 << (2 -1))  ======>   2   =============>  0 0 0 0 0 0 0 0 0 0 0 0 0 0 0 0 0 0 0 0 0 0 0 0 0 0 0 0 0 0 1 0 \n",
    "---------------------------------------------------------------------------------------------------------------------\n",
    "  -5 ^ (1 << (2 -1))  =====>  -7   <=============  1 1 1 1 1 1 1 1 1 1 1 1 1 1 1 1 1 1 1 1 1 1 1 1 1 1 1 1 1 0 0 1   \n",
    "---------------------------------------------------------------------------------------------------------------------\n",
    "\n",
    "''')\n"
   ]
  },
  {
   "cell_type": "code",
   "execution_count": null,
   "id": "4ad277d9-9c84-4290-9496-10aa333ff2ad",
   "metadata": {},
   "outputs": [],
   "source": []
  },
  {
   "cell_type": "markdown",
   "id": "6d8f7220-8ce8-4a96-8f1a-0516ec58e3db",
   "metadata": {},
   "source": [
    "<br>\n",
    "\n",
    "--------------------------------------------\n",
    "\n",
    "<br>\n",
    "\n",
    "\n",
    "### 7. Write a Python program to <span style =\"background-color: yellow\"> get highest set bit of a number</span>.\n",
    "\n",
    "<br>\n",
    "\n",
    "#### <span style=\"background-color: #CAFEFD\">&nbsp;**Solution**&nbsp;</span> : \n"
   ]
  },
  {
   "cell_type": "code",
   "execution_count": 44,
   "id": "b80c96dc-fadd-4d59-9b6b-f637d55262ea",
   "metadata": {},
   "outputs": [
    {
     "name": "stdin",
     "output_type": "stream",
     "text": [
      "Enter a number : -5\n"
     ]
    },
    {
     "name": "stdout",
     "output_type": "stream",
     "text": [
      "Highest set bit of -5 is at position 32 from right\n"
     ]
    }
   ],
   "source": [
    "\n",
    "def get_highest_set_bit_position(decimal_number):\n",
    "    for i in range(31,0,-1):\n",
    "        if (decimal_number & (1 << i)) != 0:\n",
    "            return i + 1\n",
    "            break\n",
    "\n",
    "\n",
    "number = int(input(\"Enter a number :\"))\n",
    "\n",
    "highest_set_bit_position = get_highest_set_bit_position(number)\n",
    "\n",
    "print(f\"Highest set bit of {number} is at position {highest_set_bit_position} from right\")\n"
   ]
  },
  {
   "cell_type": "markdown",
   "id": "021216d9-9982-4eab-8e50-fb9ee73fdf19",
   "metadata": {},
   "source": [
    "<br>\n",
    "\n",
    "<span style=\"background-color: #FBE2FF\">**-5 =====> <span style=\"color: red\">1</span> 1 1 1 1 1 1 1 1 1 1 1 1 1 1 1 1 1 1 1 1 1 1 1 1 1 1 1 1 0 1 1**</span>\n",
    "\n",
    "<br>\n",
    "\n",
    "**Let's try with another input for verifying :**"
   ]
  },
  {
   "cell_type": "code",
   "execution_count": 47,
   "id": "7e2735b3-aec1-423c-8a9e-9739f1259e43",
   "metadata": {},
   "outputs": [
    {
     "name": "stdin",
     "output_type": "stream",
     "text": [
      "Enter a number : 8\n"
     ]
    },
    {
     "name": "stdout",
     "output_type": "stream",
     "text": [
      "Highest set bit of 8 is at position 4 from right\n"
     ]
    }
   ],
   "source": [
    "number = int(input(\"Enter a number :\"))\n",
    "\n",
    "highest_set_bit_position = get_highest_set_bit_position(number)\n",
    "\n",
    "print(f\"Highest set bit of {number} is at position {highest_set_bit_position} from right\")"
   ]
  },
  {
   "cell_type": "markdown",
   "id": "97a402f5-6dab-4177-9771-32fd0a28ee74",
   "metadata": {},
   "source": [
    "<br>\n",
    "\n",
    "<span style=\"background-color: #FBE2FF\">**8 =====> 0 0 0 0 0 0 0 0 0 0 0 0 0 0 0 0 0 0 0 0 0 0 0 0 0 0 0 0 <span style=\"color: red\">1</span> 0 0 1**</span>\n",
    "\n",
    "<br>\n"
   ]
  },
  {
   "cell_type": "code",
   "execution_count": null,
   "id": "2e772e2f-b210-45d6-8a83-e37adaaa3259",
   "metadata": {},
   "outputs": [],
   "source": []
  },
  {
   "cell_type": "markdown",
   "id": "b23207c8-83b1-4d21-9a6d-82c797b46563",
   "metadata": {},
   "source": [
    "<br>\n",
    "\n",
    "--------------------------------------------\n",
    "\n",
    "<br>\n",
    "\n",
    "\n",
    "### 8. Write a Python program to <span style =\"background-color: yellow\"> get lowest set bit of a number</span>.\n",
    "\n",
    "<br>\n",
    "\n",
    "#### <span style=\"background-color: #CAFEFD\">&nbsp;**Solution**&nbsp;</span> : "
   ]
  },
  {
   "cell_type": "code",
   "execution_count": 51,
   "id": "2bc49832-ee3a-4e72-a62d-58954c03f3b9",
   "metadata": {},
   "outputs": [
    {
     "name": "stdin",
     "output_type": "stream",
     "text": [
      "Enter a number : -4\n"
     ]
    },
    {
     "name": "stdout",
     "output_type": "stream",
     "text": [
      "Lowest set bit of -4 is at position 3 from right\n"
     ]
    }
   ],
   "source": [
    "def get_lowest_set_bit_position(decimal_number):\n",
    "    for i in range(0,31):\n",
    "        if (decimal_number & (1 << i)) != 0:\n",
    "            return i + 1\n",
    "            break\n",
    "\n",
    "number = int(input(\"Enter a number :\"))\n",
    "\n",
    "highest_set_bit_position = get_lowest_set_bit_position(number)\n",
    "\n",
    "print(f\"Lowest set bit of {number} is at position {highest_set_bit_position} from right\")"
   ]
  },
  {
   "cell_type": "markdown",
   "id": "57b2bf3c-8bc8-4de3-98c0-c2df4c9d98b6",
   "metadata": {},
   "source": [
    "<br>\n",
    "\n",
    "<span style=\"background-color: #FBE2FF\">**-5 =====> 1 1 1 1 1 1 1 1 1 1 1 1 1 1 1 1 1 1 1 1 1 1 1 1 1 1 1 1 1 0 1 <span style=\"color: red\">1</span>**</span>\n",
    "\n",
    "<br>\n",
    "\n",
    "**Let's try with another input for verifying :**"
   ]
  },
  {
   "cell_type": "code",
   "execution_count": 53,
   "id": "c65649f5-f10f-4beb-8f8d-5c9e2ddab839",
   "metadata": {},
   "outputs": [
    {
     "name": "stdin",
     "output_type": "stream",
     "text": [
      "Enter a number : -6\n"
     ]
    },
    {
     "name": "stdout",
     "output_type": "stream",
     "text": [
      "Lowest set bit of -6 is at position 2 from right\n"
     ]
    }
   ],
   "source": [
    "number = int(input(\"Enter a number :\"))\n",
    "\n",
    "highest_set_bit_position = get_lowest_set_bit_position(number)\n",
    "\n",
    "print(f\"Lowest set bit of {number} is at position {highest_set_bit_position} from right\")"
   ]
  },
  {
   "cell_type": "markdown",
   "id": "c0f140e0-fcdc-4ebc-8d7c-a13222a3ba01",
   "metadata": {},
   "source": [
    "<br>\n",
    "\n",
    "<span style=\"background-color: #FBE2FF\">**-6 =====> 1 1 1 1 1 1 1 1 1 1 1 1 1 1 1 1 1 1 1 1 1 1 1 1 1 1 1 1 1 0 <span style=\"color: red\">1</span> 0**</span>\n",
    "\n",
    "<br>\n",
    "\n",
    "**Let's try with another input for verifying :**"
   ]
  },
  {
   "cell_type": "code",
   "execution_count": 55,
   "id": "f6e40ac5-fc1d-426e-9219-691d23438d5c",
   "metadata": {},
   "outputs": [
    {
     "name": "stdin",
     "output_type": "stream",
     "text": [
      "Enter a number : -4\n"
     ]
    },
    {
     "name": "stdout",
     "output_type": "stream",
     "text": [
      "Lowest set bit of -4 is at position 3 from right\n"
     ]
    }
   ],
   "source": [
    "number = int(input(\"Enter a number :\"))\n",
    "\n",
    "highest_set_bit_position = get_lowest_set_bit_position(number)\n",
    "\n",
    "print(f\"Lowest set bit of {number} is at position {highest_set_bit_position} from right\")"
   ]
  },
  {
   "cell_type": "markdown",
   "id": "8166b109-e273-4d76-a98f-94f03fbeb655",
   "metadata": {},
   "source": [
    "<br>\n",
    "\n",
    "<span style=\"background-color: #FBE2FF\">**-4 =====> 1 1 1 1 1 1 1 1 1 1 1 1 1 1 1 1 1 1 1 1 1 1 1 1 1 1 1 1 1 <span style=\"color: red\">1</span> 0 0**</span>\n",
    "\n",
    "<br>\n",
    "\n",
    "**Let's try with another input for verifying :**"
   ]
  },
  {
   "cell_type": "code",
   "execution_count": 56,
   "id": "6ed6ea55-ac52-4568-b1be-c126e3a56a3c",
   "metadata": {},
   "outputs": [
    {
     "name": "stdin",
     "output_type": "stream",
     "text": [
      "Enter a number : 16\n"
     ]
    },
    {
     "name": "stdout",
     "output_type": "stream",
     "text": [
      "Lowest set bit of 16 is at position 5 from right\n"
     ]
    }
   ],
   "source": [
    "number = int(input(\"Enter a number :\"))\n",
    "\n",
    "highest_set_bit_position = get_lowest_set_bit_position(number)\n",
    "\n",
    "print(f\"Lowest set bit of {number} is at position {highest_set_bit_position} from right\")"
   ]
  },
  {
   "cell_type": "markdown",
   "id": "b12f78cf-42ce-4be3-88af-645d36afe1d6",
   "metadata": {},
   "source": [
    "<br>\n",
    "\n",
    "<span style=\"background-color: #FBE2FF\">**16 =====> 0 0 0 0 0 0 0 0 0 0 0 0 0 0 0 0 0 0 0 0 0 0 0 0 0 0 0 <span style=\"color: red\">1</span> 0 0 0 0**</span>\n"
   ]
  },
  {
   "cell_type": "markdown",
   "id": "09aa7035-882f-4337-9b99-a783dc43e1c9",
   "metadata": {},
   "source": [
    "<br>\n",
    "\n",
    "--------------------------------------------\n",
    "\n",
    "<br>\n",
    "\n",
    "\n",
    "### 9. Write a Python program to <span style =\"background-color: yellow\"> count trailing zeros in a binary number</span>.\n",
    "\n",
    "<br>\n",
    "\n",
    "#### <span style=\"background-color: #CAFEFD\">&nbsp;**Solution**&nbsp;</span> : "
   ]
  },
  {
   "cell_type": "code",
   "execution_count": 65,
   "id": "7db42f0a-aabd-499a-ba30-85a6d96a731a",
   "metadata": {},
   "outputs": [
    {
     "name": "stdin",
     "output_type": "stream",
     "text": [
      "Enter a number : 8\n"
     ]
    },
    {
     "name": "stdout",
     "output_type": "stream",
     "text": [
      "count of trailing zeros in the binary representation of 8 is 3 \n"
     ]
    }
   ],
   "source": [
    "count = 0\n",
    "\n",
    "def count_trailing_zeros(decimal_number, count):\n",
    "    for i in range(0,31):\n",
    "        if (decimal_number & (1 << i)) == 0:\n",
    "            count = count + 1\n",
    "        else:\n",
    "            break\n",
    "    return count\n",
    "\n",
    "\n",
    "number = int(input(\"Enter a number :\"))\n",
    "\n",
    "trailing_zeros_count = count_trailing_zeros(number,count)\n",
    "\n",
    "print(f\"count of trailing zeros in the binary representation of {number} is {trailing_zeros_count} \")\n"
   ]
  },
  {
   "cell_type": "markdown",
   "id": "af6c0da4-499c-44e8-8d20-42b7dd97fb56",
   "metadata": {},
   "source": [
    "<br>\n",
    "\n",
    "<span style=\"background-color: #FBE2FF\">**8 =====> 0 0 0 0 0 0 0 0 0 0 0 0 0 0 0 0 0 0 0 0 0 0 0 0 0 0 0 0 1 <span style=\"color: red\">0 0 0</span>**\n",
    "\n",
    "<br>\n",
    "\n",
    "**Let's try with another input for verifying :**"
   ]
  },
  {
   "cell_type": "code",
   "execution_count": 66,
   "id": "e923f129-2b3a-4b7f-8b69-eea2c9d360de",
   "metadata": {},
   "outputs": [
    {
     "name": "stdin",
     "output_type": "stream",
     "text": [
      "Enter a number : -5\n"
     ]
    },
    {
     "name": "stdout",
     "output_type": "stream",
     "text": [
      "count of trailing zeros in the binary representation of -5 is 0 \n"
     ]
    }
   ],
   "source": [
    "number = int(input(\"Enter a number :\"))\n",
    "\n",
    "trailing_zeros_count = count_trailing_zeros(number,count)\n",
    "\n",
    "print(f\"count of trailing zeros in the binary representation of {number} is {trailing_zeros_count} \")"
   ]
  },
  {
   "cell_type": "markdown",
   "id": "99a3b905-c28a-412f-9aaf-24e9010a0779",
   "metadata": {},
   "source": [
    "<br>\n",
    "\n",
    "<span style=\"background-color: #FBE2FF\">**-5 =====> 1 1 1 1 1 1 1 1 1 1 1 1 1 1 1 1 1 1 1 1 1 1 1 1 1 1 1 1 1 0 1 1**\n",
    "\n",
    "<br>\n",
    "\n",
    "**Let's try with another input for verifying :**\n"
   ]
  },
  {
   "cell_type": "code",
   "execution_count": 68,
   "id": "7908e108-7c1b-457a-9657-8cb51faafef9",
   "metadata": {},
   "outputs": [
    {
     "name": "stdin",
     "output_type": "stream",
     "text": [
      "Enter a number : -16\n"
     ]
    },
    {
     "name": "stdout",
     "output_type": "stream",
     "text": [
      "count of trailing zeros in the binary representation of -16 is 4 \n"
     ]
    }
   ],
   "source": [
    "number = int(input(\"Enter a number :\"))\n",
    "\n",
    "trailing_zeros_count = count_trailing_zeros(number,count)\n",
    "\n",
    "print(f\"count of trailing zeros in the binary representation of {number} is {trailing_zeros_count} \")"
   ]
  },
  {
   "cell_type": "markdown",
   "id": "49a9c444-5aa7-4c9d-8bec-9ee40e7919d9",
   "metadata": {},
   "source": [
    "<br>\n",
    "\n",
    "<span style=\"background-color: #FBE2FF\">**-16 =====> 1 1 1 1 1 1 1 1 1 1 1 1 1 1 1 1 1 1 1 1 1 1 1 1 1 1 1 1 <span style=\"color: red\"> 0 0 0 0</span>**\n",
    "\n",
    "<br>"
   ]
  },
  {
   "cell_type": "markdown",
   "id": "4a48c948-92b2-4bec-bf62-f43da2b80668",
   "metadata": {},
   "source": [
    "<br>\n",
    "\n",
    "--------------------------------------------\n",
    "\n",
    "<br>\n",
    "\n",
    "\n",
    "### 10. Write a Python program to <span style =\"background-color: yellow\"> count leading zeros in a binary number</span>.\n",
    "\n",
    "<br>\n",
    "\n",
    "#### <span style=\"background-color: #CAFEFD\">&nbsp;**Solution**&nbsp;</span> : "
   ]
  },
  {
   "cell_type": "code",
   "execution_count": 72,
   "id": "d66e22b3-5527-4550-9a69-d9fd930b79ac",
   "metadata": {},
   "outputs": [
    {
     "name": "stdin",
     "output_type": "stream",
     "text": [
      "Enter a number : 0\n"
     ]
    },
    {
     "name": "stdout",
     "output_type": "stream",
     "text": [
      "count of leading zeros in the binary representation of 0 is 31 \n"
     ]
    }
   ],
   "source": [
    "count = 0\n",
    "\n",
    "def count_leading_zeros(decimal_number, count):\n",
    "    for i in range(31,0,-1):\n",
    "        if (decimal_number & (1 << i)) == 0:\n",
    "            count += 1\n",
    "        else:\n",
    "            break\n",
    "    return count\n",
    "\n",
    "number = int(input(\"Enter a number :\"))\n",
    "\n",
    "leading_zeros_count = count_leading_zeros(number,count)\n",
    "\n",
    "print(f\"count of leading zeros in the binary representation of {number} is {leading_zeros_count} \")\n"
   ]
  },
  {
   "cell_type": "markdown",
   "id": "1f77e224-7a40-4633-a1bc-6f745e891c16",
   "metadata": {},
   "source": [
    "<br>\n",
    "\n",
    "<span style=\"background-color: #FBE2FF\">**0 =====> <span style=\"color: red\">0 0 0 0 0 0 0 0 0 0 0 0 0 0 0 0 0 0 0 0 0 0 0 0 0 0 0 0 0 0 0 0</span>**\n",
    "\n",
    "<br>\n",
    "\n",
    "**Let's try with another input for verifying :**\n"
   ]
  },
  {
   "cell_type": "code",
   "execution_count": 73,
   "id": "5ab7a67f-7125-4225-aca8-3b6a46fa2c3d",
   "metadata": {},
   "outputs": [
    {
     "name": "stdin",
     "output_type": "stream",
     "text": [
      "Enter a number : -14\n"
     ]
    },
    {
     "name": "stdout",
     "output_type": "stream",
     "text": [
      "count of leading zeros in the binary representation of -14 is 0 \n"
     ]
    }
   ],
   "source": [
    "number = int(input(\"Enter a number :\"))\n",
    "\n",
    "leading_zeros_count = count_leading_zeros(number,count)\n",
    "\n",
    "print(f\"count of leading zeros in the binary representation of {number} is {leading_zeros_count} \")\n"
   ]
  },
  {
   "cell_type": "markdown",
   "id": "12a66bc8-86d6-4b38-8905-98b3315f1fd2",
   "metadata": {},
   "source": [
    "<br>\n",
    "\n",
    "<span style=\"background-color: #FBE2FF\">**-14 =====> 1 1 1 1 1 1 1 1 1 1 1 1 1 1 1 1 1 1 1 1 1 1 1 1 1 1 1 1 0 0 1 0**\n",
    "\n",
    "<br>\n",
    "\n",
    "**Let's try with another input for verifying :**"
   ]
  },
  {
   "cell_type": "code",
   "execution_count": 74,
   "id": "491e8b15-d95f-489d-9701-3fe59a80c273",
   "metadata": {},
   "outputs": [
    {
     "name": "stdin",
     "output_type": "stream",
     "text": [
      "Enter a number : 8\n"
     ]
    },
    {
     "name": "stdout",
     "output_type": "stream",
     "text": [
      "count of leading zeros in the binary representation of 8 is 28 \n"
     ]
    }
   ],
   "source": [
    "number = int(input(\"Enter a number :\"))\n",
    "\n",
    "leading_zeros_count = count_leading_zeros(number,count)\n",
    "\n",
    "print(f\"count of leading zeros in the binary representation of {number} is {leading_zeros_count} \")\n"
   ]
  },
  {
   "cell_type": "markdown",
   "id": "5fd8cb9e-894e-4dce-bc45-cada7d28b34d",
   "metadata": {},
   "source": [
    "<br>\n",
    "\n",
    "<span style=\"background-color: #FBE2FF\">**8 =====> <span style=\"color: red\">0 0 0 0 0 0 0 0 0 0 0 0 0 0 0 0 0 0 0 0 0 0 0 0 0 0 0 0</span> 1 0 0 0**\n",
    "\n",
    "<br>"
   ]
  },
  {
   "cell_type": "markdown",
   "id": "6925cf70-78a4-4aff-a586-cf463704ea55",
   "metadata": {},
   "source": [
    "<br>\n",
    "\n",
    "--------------------------------------------\n",
    "\n",
    "<br>\n",
    "\n",
    "\n",
    "### 11. Write a Python program to <span style =\"background-color: yellow\">flip bits of a binary number using bitwise operator</span>.\n",
    "\n",
    "<br>\n",
    "\n",
    "#### <span style=\"background-color: #CAFEFD\">&nbsp;**Solution**&nbsp;</span> : \n"
   ]
  },
  {
   "cell_type": "code",
   "execution_count": 79,
   "id": "eae86802-a1ed-4b1a-98ac-6ad46e950ffe",
   "metadata": {},
   "outputs": [
    {
     "name": "stdin",
     "output_type": "stream",
     "text": [
      "Enter a number : 10\n"
     ]
    },
    {
     "name": "stdout",
     "output_type": "stream",
     "text": [
      "flipped_number = -11\n",
      "\n",
      "\n",
      "10  ======>  0 0 0 0 0 0 0 0 0 0 0 0 0 0 0 0 0 0 0 0 0 0 0 0 0 0 0 0 1 0 1 0\n",
      "~ 10 =====>  1 1 1 1 1 1 1 1 1 1 1 1 1 1 1 1 1 1 1 1 1 1 1 1 1 1 1 1 0 1 0 1  ========> -11       \n",
      "\n",
      "\n"
     ]
    }
   ],
   "source": [
    "def flip_bits(decimal_number):\n",
    "    return (~(decimal_number))\n",
    "\n",
    "\n",
    "number = int(input(\"Enter a number :\"))\n",
    "flipped_number = flip_bits(number)\n",
    "\n",
    "print(f\"{flipped_number = }\")\n",
    "\n",
    "print('''\n",
    "\n",
    "10  ======>  0 0 0 0 0 0 0 0 0 0 0 0 0 0 0 0 0 0 0 0 0 0 0 0 0 0 0 0 1 0 1 0\n",
    "~ 10 =====>  1 1 1 1 1 1 1 1 1 1 1 1 1 1 1 1 1 1 1 1 1 1 1 1 1 1 1 1 0 1 0 1  ========> -11       \n",
    "\n",
    "''')\n"
   ]
  },
  {
   "cell_type": "markdown",
   "id": "4e96c9f4-cc11-43b2-95b0-7235558a6a51",
   "metadata": {},
   "source": [
    "**Let's try with another input for verifying :**"
   ]
  },
  {
   "cell_type": "code",
   "execution_count": 80,
   "id": "59c8161d-2c44-4e4e-b92c-3f138cb1fe33",
   "metadata": {},
   "outputs": [
    {
     "name": "stdin",
     "output_type": "stream",
     "text": [
      "Enter a number : 0\n"
     ]
    },
    {
     "name": "stdout",
     "output_type": "stream",
     "text": [
      "flipped_number = -1\n",
      "\n",
      "\n",
      "0  ======>  0 0 0 0 0 0 0 0 0 0 0 0 0 0 0 0 0 0 0 0 0 0 0 0 0 0 0 0 0 0 0 0\n",
      "~ 0 =====>  1 1 1 1 1 1 1 1 1 1 1 1 1 1 1 1 1 1 1 1 1 1 1 1 1 1 1 1 1 1 1 1  ========> -1  \n",
      "\n",
      "\n"
     ]
    }
   ],
   "source": [
    "number = int(input(\"Enter a number :\"))\n",
    "flipped_number = flip_bits(number)\n",
    "\n",
    "print(f\"{flipped_number = }\")\n",
    "\n",
    "print('''\n",
    "\n",
    "0  ======>  0 0 0 0 0 0 0 0 0 0 0 0 0 0 0 0 0 0 0 0 0 0 0 0 0 0 0 0 0 0 0 0\n",
    "~ 0 =====>  1 1 1 1 1 1 1 1 1 1 1 1 1 1 1 1 1 1 1 1 1 1 1 1 1 1 1 1 1 1 1 1  ========> -1  \n",
    "\n",
    "''')"
   ]
  },
  {
   "cell_type": "code",
   "execution_count": null,
   "id": "360dd552-450a-4e94-ae98-5bde986d93bc",
   "metadata": {},
   "outputs": [],
   "source": []
  },
  {
   "cell_type": "markdown",
   "id": "cff0d1ac-6a06-4ca5-9a1a-b9987528ff9b",
   "metadata": {},
   "source": [
    "<br>\n",
    "\n",
    "--------------------------------------------\n",
    "\n",
    "<br>\n",
    "\n",
    "\n",
    "### 12. Write a Python program to <span style =\"background-color: yellow\">count total zeros and ones in a binary number</span>.\n",
    "\n",
    "<br>\n",
    "\n",
    "#### <span style=\"background-color: #CAFEFD\">&nbsp;**Solution**&nbsp;</span> : \n",
    "\n"
   ]
  },
  {
   "cell_type": "code",
   "execution_count": 134,
   "id": "6d106b22-5c2d-4f1f-87cf-3539feebb372",
   "metadata": {},
   "outputs": [
    {
     "name": "stdin",
     "output_type": "stream",
     "text": [
      "Enter a number : -4\n"
     ]
    },
    {
     "name": "stdout",
     "output_type": "stream",
     "text": [
      "('11111111111111111111111111111100', 2, 30)\n",
      "count of zeros = 2 and count of ones = 30\n",
      "binary representation of -4 is 11111111111111111111111111111100\n"
     ]
    }
   ],
   "source": [
    "def count_total_zeros_and_ones_in_binary_representation(number):\n",
    "    binary_representation = \"\"\n",
    "    count_1 = 0\n",
    "    count_0 = 0\n",
    "    for i in range(0,32):\n",
    "        if (number & (1 << i)) == 0:\n",
    "            count_0 = count_0 + 1\n",
    "            binary_representation = binary_representation + \"0\"\n",
    "        else:\n",
    "            count_1 = count_1 + 1\n",
    "            binary_representation = binary_representation + \"1\"\n",
    "    return binary_representation[::-1], count_0, count_1\n",
    "\n",
    "\n",
    "num = int(input(\"Enter a number :\"))\n",
    "count = count_total_zeros_and_ones_in_binary_representation(num)\n",
    "\n",
    "\n",
    "print(count)   \n",
    "print(f\"count of zeros = {count[1]} and count of ones = {count[2]}\")\n",
    "\n",
    "\n",
    "# Just to confirm\n",
    "print(f\"binary representation of {num} is {count[0]}\")   # Binary Representation\n",
    "    "
   ]
  },
  {
   "cell_type": "markdown",
   "id": "d12aa55a-3a24-42ee-bdf9-1fedd79ecd7f",
   "metadata": {},
   "source": [
    "<br>\n",
    "\n",
    "**Let's try with another input for verifying :**"
   ]
  },
  {
   "cell_type": "code",
   "execution_count": 136,
   "id": "bda32f28-ab50-4541-ac58-65ce0758dcc9",
   "metadata": {},
   "outputs": [
    {
     "name": "stdin",
     "output_type": "stream",
     "text": [
      "Enter a number : 8\n"
     ]
    },
    {
     "name": "stdout",
     "output_type": "stream",
     "text": [
      "('00000000000000000000000000001000', 31, 1)\n",
      "count of zeros = 31 and count of ones = 1\n",
      "binary representation of 8 is 00000000000000000000000000001000\n"
     ]
    }
   ],
   "source": [
    "num = int(input(\"Enter a number :\"))\n",
    "count = count_total_zeros_and_ones_in_binary_representation(num)\n",
    "\n",
    "\n",
    "print(count)   \n",
    "print(f\"count of zeros = {count[1]} and count of ones = {count[2]}\")\n",
    "\n",
    "\n",
    "# Just to confirm\n",
    "print(f\"binary representation of {num} is {count[0]}\")   # Binary Representation\n"
   ]
  },
  {
   "cell_type": "code",
   "execution_count": null,
   "id": "e9862340-d2a3-45cf-b995-12fc183f7424",
   "metadata": {},
   "outputs": [],
   "source": []
  },
  {
   "cell_type": "code",
   "execution_count": null,
   "id": "8f8ca7f7-f7cb-47ac-94dc-45540e8f5611",
   "metadata": {},
   "outputs": [],
   "source": []
  },
  {
   "cell_type": "code",
   "execution_count": null,
   "id": "7a7642bd-d5fb-46b5-8801-14bca0fe29ee",
   "metadata": {},
   "outputs": [],
   "source": []
  },
  {
   "cell_type": "code",
   "execution_count": null,
   "id": "be828a68-d83b-43a5-be0c-1bf27b70e546",
   "metadata": {},
   "outputs": [],
   "source": []
  },
  {
   "cell_type": "code",
   "execution_count": null,
   "id": "92250406-3d96-4c17-9f87-91a98662910f",
   "metadata": {},
   "outputs": [],
   "source": []
  },
  {
   "cell_type": "code",
   "execution_count": null,
   "id": "9ba0c80e-d80a-4bc7-a27b-efea9a305e51",
   "metadata": {},
   "outputs": [],
   "source": []
  },
  {
   "cell_type": "markdown",
   "id": "473a4571-3c1c-4e28-a312-c6dd6238ebc5",
   "metadata": {},
   "source": [
    "<br>\n",
    "\n",
    "<br>\n",
    "\n",
    "<span style=\"color: red\"> █ █ █ █ █ █ █ █ █ █ █ █ █ █ █ █ █ █ █ █ █ █ █ █ █ █ █ █ █ █  █ █ █ █ █ █ █ █ █ █ █ █ █ █ █ █ █ █ █ █ █ █ █ █  █ █ █ █ █ █ █ █ █ █ █ █ █ █ █ █ █ █ █ █ █ █ █ █  </span>\n",
    "\n",
    " <br>\n",
    "\n",
    " <br>"
   ]
  },
  {
   "cell_type": "markdown",
   "id": "6d108aec-cf20-4b61-b00c-623d25779a4a",
   "metadata": {},
   "source": [
    "# Conditional Operators"
   ]
  },
  {
   "cell_type": "markdown",
   "id": "a7a983a3-43e5-4067-a0e7-d6713d2a1389",
   "metadata": {},
   "source": [
    "#### 1. Write a Python program to <span style =\"background-color: yellow\">find maximum between two numbers using conditional operator</span>."
   ]
  },
  {
   "cell_type": "code",
   "execution_count": 139,
   "id": "3817e0a5-7740-4b48-b1b4-390eee43258d",
   "metadata": {},
   "outputs": [
    {
     "name": "stdin",
     "output_type": "stream",
     "text": [
      "Enter the 1st number:  3\n",
      "Enter the 2nd number:  5\n"
     ]
    },
    {
     "name": "stdout",
     "output_type": "stream",
     "text": [
      "5 is greater than 3\n"
     ]
    }
   ],
   "source": [
    "n1 = int(input(\"Enter the 1st number: \"))\n",
    "n2 = int(input(\"Enter the 2nd number: \"))\n",
    "\n",
    "if n1 > n2:\n",
    "    print(f\"{n1} is greater than {n2}\")\n",
    "else:\n",
    "    print(f\"{n2} is greater than {n1}\")\n"
   ]
  },
  {
   "cell_type": "markdown",
   "id": "c3190d2a-baf2-4894-9eb4-aa1dae78e373",
   "metadata": {},
   "source": [
    "<br>\n",
    "\n",
    "--------------------------------------------\n",
    "\n",
    "<br>\n",
    "\n",
    "#### 2. Write a Python program to <span style =\"background-color: yellow\">find maximum between three numbers using conditional operator</span>.\n"
   ]
  },
  {
   "cell_type": "markdown",
   "id": "45d1d38f-91af-4bb1-8f61-efaa0ed6b773",
   "metadata": {},
   "source": [
    "<br>\n",
    "\n",
    "<span style=\"background-color: #CAFEFD\">**Solution-1**</span>"
   ]
  },
  {
   "cell_type": "code",
   "execution_count": 138,
   "id": "82c00371-4617-41c7-b44e-3c3e531970d9",
   "metadata": {},
   "outputs": [
    {
     "name": "stdin",
     "output_type": "stream",
     "text": [
      "Enter the 1st number:  3\n",
      "Enter the 2nd number:  5\n",
      "Enter the 3rd number:  1\n"
     ]
    },
    {
     "name": "stdout",
     "output_type": "stream",
     "text": [
      "The maximum number is: 5\n"
     ]
    }
   ],
   "source": [
    "\n",
    "def find_maximum(num1, num2, num3):\n",
    "    if num1 > num2 and num1 > num3:\n",
    "        return num1\n",
    "    elif num2 > num3:\n",
    "        return num2\n",
    "    else:\n",
    "        return num3\n",
    "\n",
    "\n",
    "number1 = int(input(\"Enter the 1st number: \"))\n",
    "number2 = int(input(\"Enter the 2nd number: \"))\n",
    "number3 = int(input(\"Enter the 3rd number: \"))\n",
    "\n",
    "\n",
    "maximum_number = find_maximum(number1, number2, number3)\n",
    "print(\"The maximum number is:\", maximum_number)\n"
   ]
  },
  {
   "cell_type": "markdown",
   "id": "fa056b42-d4d3-4ad9-b621-e2b639d3e2fe",
   "metadata": {},
   "source": [
    "<br>\n",
    "\n",
    "<span style=\"background-color: #CAFEFD\">**Solution-2**</span> : &nbsp;&nbsp;using built-in **MAX()** fnction"
   ]
  },
  {
   "cell_type": "code",
   "execution_count": 40,
   "id": "7b949a3f-042a-4b90-bd6b-fbefac8a0db2",
   "metadata": {},
   "outputs": [
    {
     "name": "stdin",
     "output_type": "stream",
     "text": [
      "Enter the 1st number:  3\n",
      "Enter the 2nd number:  5\n",
      "Enter the 3rd number:  1\n"
     ]
    },
    {
     "name": "stdout",
     "output_type": "stream",
     "text": [
      "The maximum number is: 5\n"
     ]
    }
   ],
   "source": [
    "def find_maximum(num1, num2, num3):\n",
    "    return max(num1,num2,num3)\n",
    "\n",
    "\n",
    "number1 = int(input(\"Enter the 1st number: \"))\n",
    "number2 = int(input(\"Enter the 2nd number: \"))\n",
    "number3 = int(input(\"Enter the 3rd number: \"))\n",
    "\n",
    "\n",
    "maximum_number = find_maximum(number1, number2, number3)\n",
    "print(\"The maximum number is:\", maximum_number)\n"
   ]
  },
  {
   "cell_type": "markdown",
   "id": "b2f64bee-a708-4201-99d3-2b8ca42884ef",
   "metadata": {},
   "source": [
    "<br>\n",
    "\n",
    "--------------------------------------------\n",
    "\n",
    "<br>\n",
    "\n",
    "#### 3. Write a Python program to <span style =\"background-color: yellow\">check even or odd number using conditional operator</span>.\n"
   ]
  },
  {
   "cell_type": "markdown",
   "id": "bab13175-6798-47d7-8615-b67580204ad4",
   "metadata": {},
   "source": [
    "<br>\n",
    "\n",
    "<span style=\"background-color: #CAFEFD\">**Solution-1**</span> : &nbsp;&nbsp;using <span style=\"background-color: #fff6e6\">**Modulus**</span> operator"
   ]
  },
  {
   "cell_type": "code",
   "execution_count": 45,
   "id": "1774c437-9212-4dcc-9f50-5e96d9633eba",
   "metadata": {},
   "outputs": [
    {
     "name": "stdin",
     "output_type": "stream",
     "text": [
      "Enter a number:  3\n"
     ]
    },
    {
     "name": "stdout",
     "output_type": "stream",
     "text": [
      "3 is an odd number\n"
     ]
    }
   ],
   "source": [
    "def find_odd_even(num):\n",
    "    if num % 2 == 0:\n",
    "        return \"even\"\n",
    "    else:\n",
    "        return \"odd\"\n",
    "\n",
    "number = int(input(\"Enter a number: \"))\n",
    "\n",
    "odd_even_flag = find_odd_even(number)\n",
    "print(f\"{number} is an {odd_even_flag} number\")"
   ]
  },
  {
   "cell_type": "markdown",
   "id": "fbd1f4f7-0413-4dcb-a8e6-e3a19ecf9aea",
   "metadata": {},
   "source": [
    "<br>\n",
    "\n",
    "<span style=\"background-color: #CAFEFD\">**Solution-2**</span>: &nbsp;&nbsp;using <span style=\"background-color: #fff6e6\">**Bitwise**</span> operator"
   ]
  },
  {
   "cell_type": "code",
   "execution_count": 56,
   "id": "8d0dd1de-86cd-4257-adc5-f573a4ba9025",
   "metadata": {},
   "outputs": [
    {
     "name": "stdin",
     "output_type": "stream",
     "text": [
      "Enter a number:  4\n"
     ]
    },
    {
     "name": "stdout",
     "output_type": "stream",
     "text": [
      "4 is an even number\n"
     ]
    }
   ],
   "source": [
    "# SOLUTION-2A\n",
    "\n",
    "def find_least_signicant_bit(decimal_number):\n",
    "    return decimal_number & 1\n",
    "\n",
    "\n",
    "def find_odd_even(lsb):\n",
    "    if lsb == 0:\n",
    "        return \"even\"\n",
    "    else:\n",
    "        return \"odd\" \n",
    "\n",
    "\n",
    "number = int(input(\"Enter a number: \"))\n",
    "\n",
    "least_significant_bit = find_least_signicant_bit(number)\n",
    "\n",
    "odd_even_flag = find_odd_even(least_significant_bit)\n",
    "\n",
    "print(f\"{number} is an {odd_even_flag} number\")"
   ]
  },
  {
   "cell_type": "markdown",
   "id": "d6bb927c-fdd1-428a-a1aa-404fedab1105",
   "metadata": {},
   "source": [
    "<br>\n",
    "\n",
    "<span style=\"background-color: #fff6e6\">We can **optimize** it by combining the work of 2 functions in 1 function only : &nbsp;</span>"
   ]
  },
  {
   "cell_type": "code",
   "execution_count": 57,
   "id": "ccc5c354-af71-4d8f-8681-a928036c494c",
   "metadata": {},
   "outputs": [
    {
     "name": "stdin",
     "output_type": "stream",
     "text": [
      "Enter a number:  4\n"
     ]
    },
    {
     "name": "stdout",
     "output_type": "stream",
     "text": [
      "4 is an even number\n"
     ]
    }
   ],
   "source": [
    "# SOLUTION-2B\n",
    "\n",
    "def find_odd_even(decimal_number):\n",
    "    if decimal_number & 1 == 0:\n",
    "        return \"even\"\n",
    "    else:\n",
    "        return \"odd\" \n",
    "\n",
    "\n",
    "number = int(input(\"Enter a number: \"))\n",
    "\n",
    "odd_even_flag = find_odd_even(number)\n",
    "\n",
    "print(f\"{number} is an {odd_even_flag} number\")"
   ]
  },
  {
   "cell_type": "code",
   "execution_count": null,
   "id": "45834813-d79d-4711-bd95-a81aadf6cebb",
   "metadata": {},
   "outputs": [],
   "source": []
  },
  {
   "cell_type": "markdown",
   "id": "80c2bcc9-f57e-4cee-885e-1272937b9863",
   "metadata": {},
   "source": [
    "<br>\n",
    "\n",
    "--------------------------------------------\n",
    "\n",
    "<br>\n",
    "\n",
    "#### 4. Write a Python program to <span style =\"background-color: yellow\">check leap year using conditional operator</span>.\n",
    "\n",
    "<br>\n",
    "\n",
    "<div style=\"border: 1px solid pink; padding: 10px; background-color: #fff6e6\">\n",
    "If a year is <strong>exactly divisible by 4</strong> and <strong>not divisible by 100</strong> then its Leap year. <br>\n",
    "Else if year is <strong>exactly divisible 400</strong> then its Leap year. <br>\n",
    "Else its a Common year.\n",
    "</div>\n",
    "\n",
    "<br>\n",
    "\n",
    "<span style=\"background-color: #CAFEFD\">**Solution**</span>"
   ]
  },
  {
   "cell_type": "code",
   "execution_count": 8,
   "id": "14b47b18-2d3a-40c9-90e2-4cf392cfa215",
   "metadata": {},
   "outputs": [
    {
     "name": "stdin",
     "output_type": "stream",
     "text": [
      "Enter a year:  2023\n"
     ]
    },
    {
     "name": "stdout",
     "output_type": "stream",
     "text": [
      "2023 is not a leap year\n"
     ]
    }
   ],
   "source": [
    "# Solution - 1 \n",
    "\n",
    "def is_leap_year(year):\n",
    "    if (year % 4 == 0 and year % 100) or (year % 400 == 0):\n",
    "        return True\n",
    "    else:\n",
    "        False\n",
    "\n",
    "year = int(input(\"Enter a year: \"))\n",
    "\n",
    "if is_leap_year(year):\n",
    "    print(f\"{year} is a leap year\")\n",
    "else:\n",
    "    print(f\"{year} is not a leap year\")\n",
    "    "
   ]
  },
  {
   "cell_type": "markdown",
   "id": "4e335715-b5d2-4a8b-bacf-f1d14dec9b6c",
   "metadata": {},
   "source": [
    "<br>\n",
    "\n",
    "**Let's do it using <span style=\"background-color: #FBE2FF; color: blue\">ternary operator</span> :**\n"
   ]
  },
  {
   "cell_type": "code",
   "execution_count": 7,
   "id": "118c7798-7a85-4e37-ac82-df2d8ba1157e",
   "metadata": {},
   "outputs": [
    {
     "name": "stdin",
     "output_type": "stream",
     "text": [
      "Enter a year:  2024\n"
     ]
    },
    {
     "name": "stdout",
     "output_type": "stream",
     "text": [
      "2024 is a leap year\n"
     ]
    }
   ],
   "source": [
    "# Solution - 2\n",
    "\n",
    "def is_leap_year(year):\n",
    "    return True if (year % 4 == 0 and year % 100) or (year % 400 == 0) else False\n",
    "\n",
    "year = int(input(\"Enter a year: \"))\n",
    "\n",
    "if is_leap_year(year):\n",
    "    print(f\"{year} is a leap year\")\n",
    "else:\n",
    "    print(f\"{year} is not a leap year\")\n",
    "    "
   ]
  },
  {
   "cell_type": "code",
   "execution_count": null,
   "id": "08bb82f1-302f-4ee9-af43-40a0acb2e859",
   "metadata": {},
   "outputs": [],
   "source": []
  },
  {
   "cell_type": "markdown",
   "id": "4a3571ae-819e-431f-a78e-557a9c4fcb6c",
   "metadata": {},
   "source": [
    "<br>\n",
    "\n",
    "--------------------------------------------\n",
    "\n",
    "<br>\n",
    "\n",
    "#### 5. Write a Python program to <span style =\"background-color: yellow\">check alphabets using conditional operator</span>.\n",
    "\n",
    "<br>\n",
    "\n",
    "<span style=\"background-color: #CAFEFD\">**Solution**</span>\n",
    "\n",
    "\n",
    "<div style=\"border: 1px solid pink; padding: 10px; background-color: #fff6e6\">\n",
    "String function ===========> <strong>ord()</strong>  : takes character as input and <span style=\"color: blue\">returns the ascii value of a character</span>. <br>\n",
    "Python Built-in Function =====><strong>chr()</strong>  : takes unicode or ascci value of a character as input and <span style=\"color: blue\">returns the character</span>.\n",
    "</div>\n",
    "\n",
    "\n"
   ]
  },
  {
   "cell_type": "code",
   "execution_count": 16,
   "id": "08554001-2145-4638-bf00-42c6a9f75f96",
   "metadata": {},
   "outputs": [
    {
     "name": "stdin",
     "output_type": "stream",
     "text": [
      "Enter a character : a\n"
     ]
    },
    {
     "name": "stdout",
     "output_type": "stream",
     "text": [
      "a is ALPHABET\n"
     ]
    }
   ],
   "source": [
    "def is_alphabet(char):\n",
    "    if (chr(ord(char)) >= 'A' and chr(ord(char)) <= 'Z') or (chr(ord(char)) >= 'a' and chr(ord(char)) <= 'z'):\n",
    "        return \"ALPHABET\"\n",
    "    else:\n",
    "        return \"NOT ALPHABET\"\n",
    "\n",
    "char = input(\"Enter a character :\")\n",
    "is_alphabet_or_not = is_alphabet(char)\n",
    "\n",
    "print(f\"{char} is {is_alphabet_or_not}\")\n"
   ]
  },
  {
   "cell_type": "markdown",
   "id": "1657678d-4aec-4dcf-84e8-ea3e9ee76337",
   "metadata": {},
   "source": [
    "<br>\n",
    "\n",
    "**Let's try with another input :**"
   ]
  },
  {
   "cell_type": "code",
   "execution_count": 17,
   "id": "a4ce5edc-084c-4beb-88c7-2e6e1a853d61",
   "metadata": {},
   "outputs": [
    {
     "name": "stdin",
     "output_type": "stream",
     "text": [
      "Enter a character : 1\n"
     ]
    },
    {
     "name": "stdout",
     "output_type": "stream",
     "text": [
      "1 is NOT ALPHABET\n"
     ]
    }
   ],
   "source": [
    "char = input(\"Enter a character :\")\n",
    "is_alphabet_or_not = is_alphabet(char)\n",
    "\n",
    "print(f\"{char} is {is_alphabet_or_not}\")"
   ]
  },
  {
   "cell_type": "markdown",
   "id": "7c9fc251-20fb-4a3c-850a-7a7a36872e5b",
   "metadata": {},
   "source": [
    "<br>\n",
    "\n",
    "**Let's do it using <span style=\"background-color: #FBE2FF; color: blue\">ternary operator</span> :**\n"
   ]
  },
  {
   "cell_type": "code",
   "execution_count": 19,
   "id": "5c468859-f45b-428f-aab7-8e236f6d2617",
   "metadata": {},
   "outputs": [
    {
     "name": "stdin",
     "output_type": "stream",
     "text": [
      "Enter a character : ?\n"
     ]
    },
    {
     "name": "stdout",
     "output_type": "stream",
     "text": [
      "? is NOT ALPHABET\n"
     ]
    }
   ],
   "source": [
    "\n",
    "def is_alphabet(char):\n",
    "    return \"ALPHABET\" if (chr(ord(char)) >= 'A' and chr(ord(char)) <= 'Z') or (chr(ord(char)) >= 'a' and chr(ord(char)) <= 'z') else \"NOT ALPHABET\"\n",
    "\n",
    "char = input(\"Enter a character :\")\n",
    "is_alphabet_or_not = is_alphabet(char)\n",
    "\n",
    "print(f\"{char} is {is_alphabet_or_not}\")\n"
   ]
  },
  {
   "cell_type": "code",
   "execution_count": null,
   "id": "23a614e7-9a6c-40d3-9f6c-272a54704610",
   "metadata": {},
   "outputs": [],
   "source": []
  },
  {
   "cell_type": "code",
   "execution_count": null,
   "id": "adffd8e1-cb88-4079-a136-2020d4191633",
   "metadata": {},
   "outputs": [],
   "source": []
  },
  {
   "cell_type": "code",
   "execution_count": null,
   "id": "642f7d42-e1b1-46ed-818e-7e6e05938b73",
   "metadata": {},
   "outputs": [],
   "source": []
  },
  {
   "cell_type": "code",
   "execution_count": null,
   "id": "0c45d702-f05a-48ef-9efc-7eeef8e5d7f2",
   "metadata": {},
   "outputs": [],
   "source": []
  },
  {
   "cell_type": "code",
   "execution_count": null,
   "id": "165e7a12-f2e6-49cd-b806-fda560b2672b",
   "metadata": {},
   "outputs": [],
   "source": []
  },
  {
   "cell_type": "code",
   "execution_count": null,
   "id": "37f649ef-7d33-4c2f-b7b0-4648c8d6b7ef",
   "metadata": {},
   "outputs": [],
   "source": []
  },
  {
   "cell_type": "code",
   "execution_count": null,
   "id": "b6dd463b-6b79-48ac-9847-f535cd535906",
   "metadata": {},
   "outputs": [],
   "source": []
  }
 ],
 "metadata": {
  "kernelspec": {
   "display_name": "Python 3 (ipykernel)",
   "language": "python",
   "name": "python3"
  },
  "language_info": {
   "codemirror_mode": {
    "name": "ipython",
    "version": 3
   },
   "file_extension": ".py",
   "mimetype": "text/x-python",
   "name": "python",
   "nbconvert_exporter": "python",
   "pygments_lexer": "ipython3",
   "version": "3.11.3"
  }
 },
 "nbformat": 4,
 "nbformat_minor": 5
}
