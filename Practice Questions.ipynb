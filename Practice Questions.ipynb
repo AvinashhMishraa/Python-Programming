{
 "cells": [
  {
   "cell_type": "markdown",
   "id": "8cf94a4a-83f0-4cce-bef2-51e2fdd1aa38",
   "metadata": {},
   "source": [
    "# Bitwise Operators\n",
    "\n",
    "It is advised to always use **parenthesis** whiile using bitwise operators"
   ]
  },
  {
   "cell_type": "markdown",
   "id": "8279e92c-2d55-4001-8de5-a513f13bcfea",
   "metadata": {},
   "source": [
    "<br>\n",
    "\n",
    "### 1. Write a Python program to <span style =\"background-color: yellow\">check Least Significant Bit (LSB) of a number is set or not</span>.\n",
    "\n",
    "<br>\n",
    "\n",
    "#### <span style=\"background-color: #CAFEFD\">**Solution**</span>"
   ]
  },
  {
   "cell_type": "code",
   "execution_count": 7,
   "id": "faad7dd0-3c49-483f-9c96-3e3c83961c17",
   "metadata": {},
   "outputs": [
    {
     "name": "stdin",
     "output_type": "stream",
     "text": [
      "Enter a number :  4\n"
     ]
    },
    {
     "name": "stdout",
     "output_type": "stream",
     "text": [
      "Least Significant Bit of 4 is 0\n"
     ]
    }
   ],
   "source": [
    "decimal_number = int(input(\"Enter a number : \"))\n",
    "\n",
    "\n",
    "print(f\"Least Significant Bit of {decimal_number} is {decimal_number & 1}\")\n"
   ]
  },
  {
   "cell_type": "markdown",
   "id": "be3a5f56-f636-4d6b-b603-93ef278e2372",
   "metadata": {},
   "source": [
    "<br>\n",
    "\n",
    "**It is better to use <span style=\"color: blue\">functions</span> while solving a problem.**"
   ]
  },
  {
   "cell_type": "code",
   "execution_count": 9,
   "id": "f3602446-c753-47a7-8787-86f2bdb3bd2f",
   "metadata": {},
   "outputs": [
    {
     "name": "stdin",
     "output_type": "stream",
     "text": [
      "Enter a number :  4\n"
     ]
    },
    {
     "name": "stdout",
     "output_type": "stream",
     "text": [
      "Least Significant Bit of 4 is 0\n"
     ]
    }
   ],
   "source": [
    "\n",
    "def find_least_signicant_bit(decimal_number):\n",
    "    return (decimal_number & 1)  # since 1 is the unmasking bit in bitwise AND operation\n",
    "\n",
    "number = int(input(\"Enter a number : \"))\n",
    "\n",
    "least_signicant_bit = find_least_signicant_bit(number)\n",
    "\n",
    "print(f\"Least Significant Bit of {number} is {least_signicant_bit}\")\n"
   ]
  },
  {
   "cell_type": "markdown",
   "id": "e2182f89-63c8-4141-be69-29f562f4a495",
   "metadata": {},
   "source": [
    "<br>\n",
    "\n",
    "--------------------------------------------\n",
    "\n",
    "<br>\n",
    "\n",
    "### 2. Write a Python program to <span style =\"background-color: yellow\">check Most Significant Bit (MSB) of a number is set or not</span>.\n",
    "\n",
    "<br>\n",
    "\n",
    "⇒ &nbsp; In Python, **integers** are represented using a <span style=\"background-color: #E8DAEF\">&nbsp;variable-length <span style=\"color: blue\">**two's complement format**</span>&nbsp;</span> to ensure **efficient memory utilization**. <br>\n",
    "\n",
    "⇒ &nbsp; It means unlike C/C++/Java which follows the **fixed-length two's complement format** with **Most Significant Bit** representing the **Sign** bit and the remaining bits &nbsp;&nbsp;&nbsp;&nbsp;&nbsp;&nbsp;representing the **Magnitude** (**only** in the case of **positive integers**), <span style=\"background-color: #B7FEFF\">**Python uses a variable number of bits to store integers** with <span style=\"background-color: yellow;color: red\">&nbsp;**+0b**&nbsp;</span> (representing **positive**</span> &nbsp;&nbsp;&nbsp;&nbsp;&nbsp;&nbsp;<span style=\"background-color: #B7FEFF\">numbers)\n",
    "and <span style=\"background-color: yellow;color: red\">&nbsp;**-0b**&nbsp;</span> (representing **negative** numbers) in the begining of their **binary representations** like &nbsp; <span style=\"background-color: yellow;color: red\">&nbsp;**+0b**&nbsp;</span><span style=\"background-color: #C70039;color: white\">&nbsp;**magnitude**&nbsp;</span> &nbsp;&nbsp; and  &nbsp;&nbsp;<span style=\"background-color: yellow;color: red\">&nbsp;**-0b**&nbsp;</span><span style=\"background-color: #C70039;color: white\">&nbsp;**magnitude**&nbsp;</span>&nbsp;&nbsp;&nbsp;&nbsp; </span> <br>\n",
    "\n",
    "⇒ &nbsp; For example, <span style=\"background-color: #EFEAF1;color:red\"><strong> &nbsp; 8 bits &nbsp;</strong></span>**,** <span style=\"background-color: #EFEAF1;color:red\"><strong> &nbsp; 16 bits &nbsp;</strong></span>**,** <span style=\"background-color: #EFEAF1;color:red\"><strong> &nbsp; 32 bits &nbsp;</strong></span>**,** <span style=\"background-color: #EFEAF1;color:red\"><strong> &nbsp; 64 bits &nbsp;</strong></span>**,** <span style=\"background-color: #EFEAF1;color:red\"><strong> &nbsp; 128 bits &nbsp;</strong></span>**,** and so on. <br>  <br>\n",
    "\n",
    "<div style=\"border: 1px solid pink; padding: 5px; margin-left: 130px; width: 780px\">\n",
    "\n",
    "&nbsp;&nbsp;&nbsp;&nbsp;&nbsp;&nbsp;&nbsp;&nbsp;&nbsp;&nbsp;&nbsp;&nbsp;&nbsp;&nbsp;&nbsp;&nbsp;&nbsp;&nbsp;8-bits &nbsp;&nbsp;~ **[&nbsp;**<span style=\"background-color: #EFEAF1;color:red\"><strong>&nbsp;-(2 ** 7)&nbsp;</strong></span>&nbsp;**,** &nbsp;<span style=\"background-color: #EFEAF1;color:red\"><strong>&nbsp;((2 ** 7) - 1) &nbsp;</strong></span><strong>]</strong> =======> &nbsp;&nbsp;[&nbsp;<span style=\"background-color: #CAFEFD\">&nbsp;-128</span> , <span style=\"background-color: #CAFEFD\">127</span>&nbsp;] <br>\n",
    "&nbsp;&nbsp;&nbsp;&nbsp;&nbsp;&nbsp;&nbsp;&nbsp;&nbsp;&nbsp;&nbsp;&nbsp;&nbsp;&nbsp;&nbsp;&nbsp;&nbsp;&nbsp;16-bits ~ **[&nbsp;**<span style=\"background-color: #EFEAF1;color:red\"><strong>&nbsp;-(2 ** 15)&nbsp;</strong></span>&nbsp;**,** &nbsp;<span style=\"background-color: #EFEAF1;color:red\"><strong>&nbsp;((2 ** 15) - 1) &nbsp;</strong></span><strong>]</strong>  ======>&nbsp;[&nbsp;<span style=\"background-color: #CAFEFD\">-32,768</span> , <span style=\"background-color: #CAFEFD\">32,767</span>&nbsp;] <br>\n",
    "&nbsp;&nbsp;&nbsp;&nbsp;&nbsp;&nbsp;&nbsp;&nbsp;&nbsp;&nbsp;&nbsp;&nbsp;&nbsp;&nbsp;&nbsp;&nbsp;&nbsp;&nbsp;32-bits ~  **[&nbsp;**<span style=\"background-color: #EFEAF1;color:red\"><strong>&nbsp;-(2 ** 31)&nbsp;</strong></span>&nbsp;**,** &nbsp;<span style=\"background-color: #EFEAF1;color:red\"><strong>&nbsp;((2 ** 31) - 1) &nbsp;</strong></span><strong>]</strong> ======> [&nbsp;<span style=\"background-color: #CAFEFD\">-2,147,483,648</span> , <span style=\"background-color: #CAFEFD\">2,147,483,647</span>&nbsp;] <br>\n",
    "&nbsp;&nbsp;&nbsp;&nbsp;&nbsp;&nbsp;&nbsp;&nbsp;&nbsp;&nbsp;&nbsp;&nbsp;&nbsp;&nbsp;&nbsp;&nbsp;&nbsp;&nbsp;64-bits ~ **[&nbsp;**<span style=\"background-color: #EFEAF1;color:red\"><strong>&nbsp;-(2 ** 63)&nbsp;</strong></span>&nbsp;**,** &nbsp;<span style=\"background-color: #EFEAF1;color:red\"><strong>&nbsp;((2 ** 63) - 1) &nbsp;</strong></span><strong>]</strong> ======> [&nbsp;<span style=\"background-color: #CAFEFD\">-9,223,372,036,854,775,808</span> , <span style=\"background-color: #CAFEFD\">9,223,372,036,854,775,807</span>&nbsp;] <br>\n",
    "\n",
    "</div>\n",
    "\n",
    "\n",
    "<br>\n",
    "\n",
    "#### <span style=\"background-color: #CAFEFD\">&nbsp;**Solution-1**&nbsp;</span> &nbsp;&nbsp;(Assumption - <span style=\"color: blue\">**variable length two's complement system**</span> )\n"
   ]
  },
  {
   "cell_type": "code",
   "execution_count": 18,
   "id": "77b5c3cd-ea8a-4e0d-aa92-1007a648beb9",
   "metadata": {},
   "outputs": [
    {
     "name": "stdin",
     "output_type": "stream",
     "text": [
      "Enter the number: 4\n"
     ]
    },
    {
     "name": "stdout",
     "output_type": "stream",
     "text": [
      "Most Significant Bit of 4 is 1\n",
      "To confirm ----> Bin Representation of 4 is 0b100\n"
     ]
    }
   ],
   "source": [
    "# SOLUTION\n",
    "\n",
    "def find_most_significant_bit(decimal_number):\n",
    "\n",
    "    if decimal_number == 0:\n",
    "        return 0\n",
    "    \n",
    "    bit_length = decimal_number.bit_length()\n",
    "    \n",
    "    if (decimal_number & (1 << (bit_length -1))) == 0:         # since 0 is the masking bit and 1 is the unmasking bit in bitwise AND operation.\n",
    "        return 0\n",
    "    else:\n",
    "        return 1\n",
    "\n",
    "\n",
    "number = int(input(\"Enter the number:\"))\n",
    "most_significant_bit = find_most_significant_bit(number)\n",
    "print(f\"Most Significant Bit of {number} is {most_significant_bit}\")\n",
    "\n",
    "# To confirm\n",
    "print(f\"To confirm ----> Bin Representation of {number} is {bin(number)}\")\n"
   ]
  },
  {
   "cell_type": "code",
   "execution_count": 48,
   "id": "1a2bfa56-4d04-466e-aba8-05d720358abc",
   "metadata": {},
   "outputs": [
    {
     "name": "stdin",
     "output_type": "stream",
     "text": [
      "Enter the number: 6\n"
     ]
    },
    {
     "name": "stdout",
     "output_type": "stream",
     "text": [
      "Most Significant Bit of 6 is 1\n",
      "To confirm ----> Bin Representation of 6 is 0b110\n"
     ]
    }
   ],
   "source": [
    "number = int(input(\"Enter the number:\"))\n",
    "most_significant_bit = find_most_significant_bit(number)\n",
    "print(f\"Most Significant Bit of {number} is {most_significant_bit}\")\n",
    "\n",
    "# To confirm\n",
    "print(f\"To confirm ----> Bin Representation of {number} is {bin(number)}\")\n"
   ]
  },
  {
   "cell_type": "code",
   "execution_count": 49,
   "id": "acde1c69-3e4c-40be-92e4-59c16f3346ec",
   "metadata": {},
   "outputs": [
    {
     "name": "stdin",
     "output_type": "stream",
     "text": [
      "Enter the number: -1\n"
     ]
    },
    {
     "name": "stdout",
     "output_type": "stream",
     "text": [
      "Most Significant Bit of -1 is 1\n",
      "To confirm ----> Bin Representation of -1 is -0b1\n"
     ]
    }
   ],
   "source": [
    "number = int(input(\"Enter the number:\"))\n",
    "most_significant_bit = find_most_significant_bit(number)\n",
    "print(f\"Most Significant Bit of {number} is {most_significant_bit}\")\n",
    "\n",
    "# To confirm\n",
    "print(f\"To confirm ----> Bin Representation of {number} is {bin(number)}\")\n"
   ]
  },
  {
   "cell_type": "markdown",
   "id": "2b741142-bbd9-4f89-9855-67d85e50ff51",
   "metadata": {},
   "source": [
    "<br>\n",
    "\n",
    "#### <span style=\"background-color: #CAFEFD\">&nbsp;**Solution-2**&nbsp;</span> &nbsp;&nbsp;(Assumption - <span style=\"color: blue\">**fixed length two's complement system**</span> )\n",
    "\n",
    "<br>\n",
    "\n",
    "\n",
    "Now since we know that the <span style=\"color: red\">**getsizeof()**</span> function from <span style=\"color: red\">**sys**</span> module returns the number of bytes that Python uses to represent an integer **along with it's overhead**, <span style=\"background-color: #FFF862\">let's assume **32 bits fixed representation** with **two's complement format** for this question</span> :\n",
    "\n",
    "<br>"
   ]
  },
  {
   "cell_type": "code",
   "execution_count": 31,
   "id": "480e8262-1090-4308-bf98-6eb293708efd",
   "metadata": {},
   "outputs": [
    {
     "name": "stdout",
     "output_type": "stream",
     "text": [
      "-(2 ** 31)     returns     -2147483648\n",
      "1 << 31        returns      2147483648\n"
     ]
    }
   ],
   "source": [
    "# Just To Confirm \n",
    "\n",
    "print(\"-(2 ** 31)     returns    \", -(2 ** 31))\n",
    "print(\"1 << 31        returns     \", 1 << 31)   "
   ]
  },
  {
   "cell_type": "markdown",
   "id": "85bf11b1-6ca2-43ad-9cc4-7843f5885818",
   "metadata": {},
   "source": [
    "<br>\n",
    "\n",
    "In **32 bits fixed representation** with **two's complement format**, <span style=\"background-color: #CAFEFD; color: red\">&nbsp;**1 << 31**&nbsp;</span> should have given a **negative number** to be exactly <span style=\"background-color: #CAFEFD; color: red\">&nbsp;**-(2 ** 31)**&nbsp;. \n",
    "\n",
    "But since it's not what we found here, this example validates that **Python does not have a fixed length representation** which can be verified by using <span style=\"color: red\">**int.bit_length()**</span> method too.\n",
    "\n",
    "<span style=\"color: #8702CA\">However we can always proceed with the assumption and solve **all bit manipulation related questions** with the same technique like we do in C/C++/Java.</span>\n",
    "\n"
   ]
  },
  {
   "cell_type": "code",
   "execution_count": 37,
   "id": "cba59192-805b-45f6-b31c-836f8ab6f977",
   "metadata": {},
   "outputs": [
    {
     "name": "stdout",
     "output_type": "stream",
     "text": [
      "-0b10000000000000000000000000000000\n",
      "32\n",
      "\n",
      "0b10000000000000000000000000000000\n",
      "32\n"
     ]
    }
   ],
   "source": [
    "# Just to confirm :\n",
    "\n",
    "print(bin(-(2**31)))\n",
    "print((-(2**31)).bit_length())\n",
    "\n",
    "print()\n",
    "\n",
    "print(bin(1 << 31))\n",
    "print((1 << 31).bit_length())"
   ]
  },
  {
   "cell_type": "code",
   "execution_count": 41,
   "id": "f5fcce6f-f4dd-4012-9fd3-91ae28c117ad",
   "metadata": {},
   "outputs": [
    {
     "name": "stdout",
     "output_type": "stream",
     "text": [
      "-0b100\n",
      "0b11\n"
     ]
    }
   ],
   "source": [
    "print(bin(-4))   # -( 2 ** (3 - 1) )     # smalles number in 3 bit system\n",
    "print(bin(3))    # (2 ** (3 - 1)) - 1    # largest number in 3 bit system"
   ]
  },
  {
   "cell_type": "markdown",
   "id": "dbeadc29-432a-4201-afaf-8142fadc169f",
   "metadata": {},
   "source": [
    "<br>\n",
    "\n",
    "<span style=\"background-color: yellow;color: red\">&nbsp;**-0b**&nbsp;</span><span style=\"background-color: #C70039;color: white\">&nbsp;**magnitude**&nbsp;</span>\n",
    "\n",
    "<span style=\"background-color: yellow;color: red\">&nbsp;**+0b**&nbsp;</span><span style=\"background-color: #C70039;color: white\">&nbsp;**magnitude**&nbsp;</span>"
   ]
  },
  {
   "cell_type": "code",
   "execution_count": null,
   "id": "0b2b1c04-1c46-4ee0-8d57-e924bb87b6dc",
   "metadata": {},
   "outputs": [],
   "source": []
  },
  {
   "cell_type": "code",
   "execution_count": 43,
   "id": "5b748f1e-fdf8-4260-b07a-bebd7eed7b12",
   "metadata": {},
   "outputs": [
    {
     "name": "stdout",
     "output_type": "stream",
     "text": [
      "011\n"
     ]
    }
   ],
   "source": [
    "num = 3\n",
    "\n",
    "str = \"\"\n",
    "for i in range(0,3):\n",
    "    if (num & (1 << i)) == 0:\n",
    "        str = str + '0'\n",
    "    else:\n",
    "        str = str + '1'\n",
    "        \n",
    "    \n",
    "print(str[::-1])"
   ]
  },
  {
   "cell_type": "code",
   "execution_count": 44,
   "id": "1ce07de1-d773-41bd-8eb9-6a46f9026870",
   "metadata": {},
   "outputs": [
    {
     "name": "stdout",
     "output_type": "stream",
     "text": [
      "00000000000000000000000000000011\n"
     ]
    }
   ],
   "source": [
    "num = 3\n",
    "\n",
    "str = \"\"\n",
    "for i in range(0,32):\n",
    "    if (num & (1 << i)) == 0:\n",
    "        str = str + '0'\n",
    "    else:\n",
    "        str = str + '1'\n",
    "        \n",
    "    \n",
    "print(str[::-1])"
   ]
  },
  {
   "cell_type": "code",
   "execution_count": null,
   "id": "bcbad04a-8de0-46bd-805c-76d14d739eac",
   "metadata": {},
   "outputs": [],
   "source": []
  },
  {
   "cell_type": "code",
   "execution_count": null,
   "id": "cdb1c985-b346-4e8f-b5fd-277e2b9f714e",
   "metadata": {},
   "outputs": [],
   "source": []
  },
  {
   "cell_type": "code",
   "execution_count": null,
   "id": "8aa12487-e604-474d-9f8c-8429efdb8d5e",
   "metadata": {},
   "outputs": [],
   "source": []
  },
  {
   "cell_type": "code",
   "execution_count": 3,
   "id": "522714ef-84ad-4925-9171-29a13b70de08",
   "metadata": {},
   "outputs": [
    {
     "name": "stdout",
     "output_type": "stream",
     "text": [
      "10000000000000000000000000000000\n"
     ]
    }
   ],
   "source": [
    "#num = -(2**31)\n",
    "num = 1 << 31\n",
    "\n",
    "str = \"\"\n",
    "for i in range(0,32):\n",
    "    if (num & (1 << i)) == 0:\n",
    "        str = str + '0'\n",
    "    else:\n",
    "        str = str + '1'\n",
    "        \n",
    "    \n",
    "print(str[::-1])\n",
    "\n"
   ]
  },
  {
   "cell_type": "code",
   "execution_count": 60,
   "id": "47fd500e-6440-4186-9e65-cc95c7daa92b",
   "metadata": {},
   "outputs": [],
   "source": [
    "a = 671\n",
    "b = 671\n"
   ]
  },
  {
   "cell_type": "code",
   "execution_count": 61,
   "id": "5258bb11-eaf6-4a0e-b6d4-f64c158b44df",
   "metadata": {},
   "outputs": [
    {
     "data": {
      "text/plain": [
       "True"
      ]
     },
     "execution_count": 61,
     "metadata": {},
     "output_type": "execute_result"
    }
   ],
   "source": [
    "a == b"
   ]
  },
  {
   "cell_type": "code",
   "execution_count": 62,
   "id": "2ffa0bb4-3d31-416e-a3e1-70979c3b7a5f",
   "metadata": {},
   "outputs": [
    {
     "data": {
      "text/plain": [
       "False"
      ]
     },
     "execution_count": 62,
     "metadata": {},
     "output_type": "execute_result"
    }
   ],
   "source": [
    "a is b"
   ]
  },
  {
   "cell_type": "code",
   "execution_count": 63,
   "id": "00d3b66a-5758-4831-bc95-660dd0ba0f7e",
   "metadata": {},
   "outputs": [
    {
     "data": {
      "text/plain": [
       "2536270646768"
      ]
     },
     "execution_count": 63,
     "metadata": {},
     "output_type": "execute_result"
    }
   ],
   "source": [
    "id(a)"
   ]
  },
  {
   "cell_type": "code",
   "execution_count": 64,
   "id": "708bc63c-6467-488c-aa7f-9ae19b1cc698",
   "metadata": {},
   "outputs": [
    {
     "data": {
      "text/plain": [
       "2536270646896"
      ]
     },
     "execution_count": 64,
     "metadata": {},
     "output_type": "execute_result"
    }
   ],
   "source": [
    "id(b)"
   ]
  },
  {
   "cell_type": "code",
   "execution_count": 65,
   "id": "053d8b77-6068-4b44-b109-c79e9b179852",
   "metadata": {},
   "outputs": [],
   "source": [
    "a = -6\n",
    "b = -6"
   ]
  },
  {
   "cell_type": "code",
   "execution_count": 66,
   "id": "89412492-0b2b-4725-9082-e000567f6746",
   "metadata": {},
   "outputs": [
    {
     "data": {
      "text/plain": [
       "False"
      ]
     },
     "execution_count": 66,
     "metadata": {},
     "output_type": "execute_result"
    }
   ],
   "source": [
    "a is b"
   ]
  },
  {
   "cell_type": "code",
   "execution_count": 67,
   "id": "0d7b6f9b-abed-4b39-897f-586d7f27cfb3",
   "metadata": {},
   "outputs": [
    {
     "data": {
      "text/plain": [
       "True"
      ]
     },
     "execution_count": 67,
     "metadata": {},
     "output_type": "execute_result"
    }
   ],
   "source": [
    "a = -5\n",
    "b =-5\n",
    "a is b"
   ]
  },
  {
   "cell_type": "code",
   "execution_count": 2,
   "id": "4ad277d9-9c84-4290-9496-10aa333ff2ad",
   "metadata": {},
   "outputs": [
    {
     "data": {
      "text/plain": [
       "-2147483648"
      ]
     },
     "execution_count": 2,
     "metadata": {},
     "output_type": "execute_result"
    }
   ],
   "source": [
    "-2**31"
   ]
  },
  {
   "cell_type": "code",
   "execution_count": null,
   "id": "35bdab21-926b-49be-af06-9127894bc113",
   "metadata": {},
   "outputs": [],
   "source": []
  },
  {
   "cell_type": "code",
   "execution_count": null,
   "id": "b80c96dc-fadd-4d59-9b6b-f637d55262ea",
   "metadata": {},
   "outputs": [],
   "source": []
  },
  {
   "cell_type": "code",
   "execution_count": null,
   "id": "7e2735b3-aec1-423c-8a9e-9739f1259e43",
   "metadata": {},
   "outputs": [],
   "source": []
  },
  {
   "cell_type": "code",
   "execution_count": null,
   "id": "219c2362-7a0b-4f3b-aef7-7dc0c7ecd9d1",
   "metadata": {},
   "outputs": [],
   "source": []
  },
  {
   "cell_type": "code",
   "execution_count": null,
   "id": "92250406-3d96-4c17-9f87-91a98662910f",
   "metadata": {},
   "outputs": [],
   "source": []
  },
  {
   "cell_type": "code",
   "execution_count": null,
   "id": "9ba0c80e-d80a-4bc7-a27b-efea9a305e51",
   "metadata": {},
   "outputs": [],
   "source": []
  },
  {
   "cell_type": "code",
   "execution_count": null,
   "id": "c79143d5-3be4-4ce3-a9b7-1d51349475f8",
   "metadata": {},
   "outputs": [],
   "source": []
  },
  {
   "cell_type": "markdown",
   "id": "6d108aec-cf20-4b61-b00c-623d25779a4a",
   "metadata": {},
   "source": [
    "# Conditional Operators"
   ]
  },
  {
   "cell_type": "markdown",
   "id": "a7a983a3-43e5-4067-a0e7-d6713d2a1389",
   "metadata": {},
   "source": [
    "#### 1. Write a Python program to <span style =\"background-color: yellow\">find maximum between two numbers using conditional operator</span>."
   ]
  },
  {
   "cell_type": "code",
   "execution_count": 10,
   "id": "3817e0a5-7740-4b48-b1b4-390eee43258d",
   "metadata": {},
   "outputs": [
    {
     "name": "stdin",
     "output_type": "stream",
     "text": [
      "Enter the 1st number:  6\n",
      "Enter the 2nd number:  4\n"
     ]
    },
    {
     "name": "stdout",
     "output_type": "stream",
     "text": [
      "6 is greater than 4\n"
     ]
    }
   ],
   "source": [
    "n1 = int(input(\"Enter the 1st number: \"))\n",
    "n2 = int(input(\"Enter the 2nd number: \"))\n",
    "\n",
    "if n1 > n2:\n",
    "    print(f\"{n1} is greater than {n2}\")\n",
    "else:\n",
    "    print(f\"{n2} is greater than {n1}\")\n"
   ]
  },
  {
   "cell_type": "markdown",
   "id": "c3190d2a-baf2-4894-9eb4-aa1dae78e373",
   "metadata": {},
   "source": [
    "<br>\n",
    "\n",
    "--------------------------------------------\n",
    "\n",
    "<br>\n",
    "\n",
    "#### 2. Write a Python program to <span style =\"background-color: yellow\">find maximum between three numbers using conditional operator</span>.\n"
   ]
  },
  {
   "cell_type": "markdown",
   "id": "45d1d38f-91af-4bb1-8f61-efaa0ed6b773",
   "metadata": {},
   "source": [
    "<br>\n",
    "\n",
    "<span style=\"background-color: #CAFEFD\">**Solution-1**</span>"
   ]
  },
  {
   "cell_type": "code",
   "execution_count": 38,
   "id": "82c00371-4617-41c7-b44e-3c3e531970d9",
   "metadata": {},
   "outputs": [
    {
     "name": "stdin",
     "output_type": "stream",
     "text": [
      "Enter the 1st number:  3\n",
      "Enter the 2nd number:  5\n",
      "Enter the 3rd number:  1\n"
     ]
    },
    {
     "name": "stdout",
     "output_type": "stream",
     "text": [
      "The maximum number is: 5\n"
     ]
    }
   ],
   "source": [
    "\n",
    "def find_maximum(num1, num2, num3):\n",
    "    if num1 > num2 and num1 > num3:\n",
    "        return num1\n",
    "    elif num2 > num3:\n",
    "        return num2\n",
    "    else:\n",
    "        return num3\n",
    "\n",
    "\n",
    "number1 = int(input(\"Enter the 1st number: \"))\n",
    "number2 = int(input(\"Enter the 2nd number: \"))\n",
    "number3 = int(input(\"Enter the 3rd number: \"))\n",
    "\n",
    "\n",
    "maximum_number = find_maximum(number1, number2, number3)\n",
    "print(\"The maximum number is:\", maximum_number)\n"
   ]
  },
  {
   "cell_type": "markdown",
   "id": "fa056b42-d4d3-4ad9-b621-e2b639d3e2fe",
   "metadata": {},
   "source": [
    "<br>\n",
    "\n",
    "<span style=\"background-color: #CAFEFD\">**Solution-2**</span> : &nbsp;&nbsp;using built-in **MAX()** fnction"
   ]
  },
  {
   "cell_type": "code",
   "execution_count": 40,
   "id": "7b949a3f-042a-4b90-bd6b-fbefac8a0db2",
   "metadata": {},
   "outputs": [
    {
     "name": "stdin",
     "output_type": "stream",
     "text": [
      "Enter the 1st number:  3\n",
      "Enter the 2nd number:  5\n",
      "Enter the 3rd number:  1\n"
     ]
    },
    {
     "name": "stdout",
     "output_type": "stream",
     "text": [
      "The maximum number is: 5\n"
     ]
    }
   ],
   "source": [
    "def find_maximum(num1, num2, num3):\n",
    "    return max(num1,num2,num3)\n",
    "\n",
    "\n",
    "number1 = int(input(\"Enter the 1st number: \"))\n",
    "number2 = int(input(\"Enter the 2nd number: \"))\n",
    "number3 = int(input(\"Enter the 3rd number: \"))\n",
    "\n",
    "\n",
    "maximum_number = find_maximum(number1, number2, number3)\n",
    "print(\"The maximum number is:\", maximum_number)\n"
   ]
  },
  {
   "cell_type": "markdown",
   "id": "b2f64bee-a708-4201-99d3-2b8ca42884ef",
   "metadata": {},
   "source": [
    "<br>\n",
    "\n",
    "--------------------------------------------\n",
    "\n",
    "<br>\n",
    "\n",
    "#### 3. Write a Python program to <span style =\"background-color: yellow\">check even or odd number using conditional operator</span>.\n"
   ]
  },
  {
   "cell_type": "markdown",
   "id": "bab13175-6798-47d7-8615-b67580204ad4",
   "metadata": {},
   "source": [
    "<br>\n",
    "\n",
    "<span style=\"background-color: #CAFEFD\">**Solution-1**</span> : &nbsp;&nbsp;using **Modulus** operator"
   ]
  },
  {
   "cell_type": "code",
   "execution_count": 45,
   "id": "1774c437-9212-4dcc-9f50-5e96d9633eba",
   "metadata": {},
   "outputs": [
    {
     "name": "stdin",
     "output_type": "stream",
     "text": [
      "Enter a number:  3\n"
     ]
    },
    {
     "name": "stdout",
     "output_type": "stream",
     "text": [
      "3 is an odd number\n"
     ]
    }
   ],
   "source": [
    "def find_odd_even(num):\n",
    "    if num % 2 == 0:\n",
    "        return \"even\"\n",
    "    else:\n",
    "        return \"odd\"\n",
    "\n",
    "number = int(input(\"Enter a number: \"))\n",
    "\n",
    "odd_even_flag = find_odd_even(number)\n",
    "print(f\"{number} is an {odd_even_flag} number\")"
   ]
  },
  {
   "cell_type": "markdown",
   "id": "fbd1f4f7-0413-4dcb-a8e6-e3a19ecf9aea",
   "metadata": {},
   "source": [
    "<br>\n",
    "\n",
    "<span style=\"background-color: #CAFEFD\">**Solution-2**</span>: &nbsp;&nbsp;using **Bitwise** operator"
   ]
  },
  {
   "cell_type": "code",
   "execution_count": 56,
   "id": "8d0dd1de-86cd-4257-adc5-f573a4ba9025",
   "metadata": {},
   "outputs": [
    {
     "name": "stdin",
     "output_type": "stream",
     "text": [
      "Enter a number:  4\n"
     ]
    },
    {
     "name": "stdout",
     "output_type": "stream",
     "text": [
      "4 is an even number\n"
     ]
    }
   ],
   "source": [
    "# SOLUTION-2A\n",
    "\n",
    "def find_least_signicant_bit(decimal_number):\n",
    "    return decimal_number & 1\n",
    "\n",
    "\n",
    "def find_odd_even(lsb):\n",
    "    if lsb == 0:\n",
    "        return \"even\"\n",
    "    else:\n",
    "        return \"odd\" \n",
    "\n",
    "\n",
    "number = int(input(\"Enter a number: \"))\n",
    "\n",
    "least_significant_bit = find_least_signicant_bit(number)\n",
    "\n",
    "odd_even_flag = find_odd_even(least_significant_bit)\n",
    "\n",
    "print(f\"{number} is an {odd_even_flag} number\")"
   ]
  },
  {
   "cell_type": "markdown",
   "id": "d6bb927c-fdd1-428a-a1aa-404fedab1105",
   "metadata": {},
   "source": [
    "<br>\n",
    "\n",
    "We can **optimize** it by combining the work of 2 functions in 1 function only :"
   ]
  },
  {
   "cell_type": "code",
   "execution_count": 57,
   "id": "ccc5c354-af71-4d8f-8681-a928036c494c",
   "metadata": {},
   "outputs": [
    {
     "name": "stdin",
     "output_type": "stream",
     "text": [
      "Enter a number:  4\n"
     ]
    },
    {
     "name": "stdout",
     "output_type": "stream",
     "text": [
      "4 is an even number\n"
     ]
    }
   ],
   "source": [
    "# SOLUTION-2B\n",
    "\n",
    "def find_odd_even(decimal_number):\n",
    "    if decimal_number & 1 == 0:\n",
    "        return \"even\"\n",
    "    else:\n",
    "        return \"odd\" \n",
    "\n",
    "\n",
    "number = int(input(\"Enter a number: \"))\n",
    "\n",
    "odd_even_flag = find_odd_even(number)\n",
    "\n",
    "print(f\"{number} is an {odd_even_flag} number\")"
   ]
  },
  {
   "cell_type": "code",
   "execution_count": null,
   "id": "45834813-d79d-4711-bd95-a81aadf6cebb",
   "metadata": {},
   "outputs": [],
   "source": []
  },
  {
   "cell_type": "code",
   "execution_count": null,
   "id": "a4ce5edc-084c-4beb-88c7-2e6e1a853d61",
   "metadata": {},
   "outputs": [],
   "source": []
  },
  {
   "cell_type": "code",
   "execution_count": null,
   "id": "b840d23e-baf7-4fcc-9090-14431681a084",
   "metadata": {},
   "outputs": [],
   "source": []
  },
  {
   "cell_type": "code",
   "execution_count": null,
   "id": "165e7a12-f2e6-49cd-b806-fda560b2672b",
   "metadata": {},
   "outputs": [],
   "source": []
  },
  {
   "cell_type": "code",
   "execution_count": null,
   "id": "37f649ef-7d33-4c2f-b7b0-4648c8d6b7ef",
   "metadata": {},
   "outputs": [],
   "source": []
  },
  {
   "cell_type": "code",
   "execution_count": null,
   "id": "b6dd463b-6b79-48ac-9847-f535cd535906",
   "metadata": {},
   "outputs": [],
   "source": []
  }
 ],
 "metadata": {
  "kernelspec": {
   "display_name": "Python 3 (ipykernel)",
   "language": "python",
   "name": "python3"
  },
  "language_info": {
   "codemirror_mode": {
    "name": "ipython",
    "version": 3
   },
   "file_extension": ".py",
   "mimetype": "text/x-python",
   "name": "python",
   "nbconvert_exporter": "python",
   "pygments_lexer": "ipython3",
   "version": "3.11.3"
  }
 },
 "nbformat": 4,
 "nbformat_minor": 5
}
