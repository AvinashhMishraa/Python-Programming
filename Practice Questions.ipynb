{
 "cells": [
  {
   "cell_type": "markdown",
   "id": "8cf94a4a-83f0-4cce-bef2-51e2fdd1aa38",
   "metadata": {},
   "source": [
    "# Bitwise Operators"
   ]
  },
  {
   "cell_type": "markdown",
   "id": "8279e92c-2d55-4001-8de5-a513f13bcfea",
   "metadata": {},
   "source": [
    "<br>\n",
    "\n",
    "#### 1. Write a Python program to <span style =\"background-color: yellow\">check Least Significant Bit (LSB) of a number is set or not</span>.\n",
    "\n",
    "<br>\n",
    "\n",
    "<span style=\"background-color: #CAFEFD\">**Solution**</span>"
   ]
  },
  {
   "cell_type": "code",
   "execution_count": 60,
   "id": "faad7dd0-3c49-483f-9c96-3e3c83961c17",
   "metadata": {},
   "outputs": [
    {
     "name": "stdin",
     "output_type": "stream",
     "text": [
      "Enter a number :  4\n"
     ]
    },
    {
     "name": "stdout",
     "output_type": "stream",
     "text": [
      "Least Significant Bit of 4 is 0\n"
     ]
    }
   ],
   "source": [
    "decimal_number = int(input(\"Enter a number : \"))\n",
    "\n",
    "\n",
    "print(f\"Least Significant Bit of {decimal_number} is {decimal_number & 1}\")\n"
   ]
  },
  {
   "cell_type": "markdown",
   "id": "be3a5f56-f636-4d6b-b603-93ef278e2372",
   "metadata": {},
   "source": [
    "<br>\n",
    "\n",
    "**It is better to use <span style=\"color: blue\">functions</span> while solving a problem.**"
   ]
  },
  {
   "cell_type": "code",
   "execution_count": 64,
   "id": "f3602446-c753-47a7-8787-86f2bdb3bd2f",
   "metadata": {},
   "outputs": [
    {
     "name": "stdin",
     "output_type": "stream",
     "text": [
      "Enter a number :  4\n"
     ]
    },
    {
     "name": "stdout",
     "output_type": "stream",
     "text": [
      "Least Significant Bit of 4 is 0\n"
     ]
    }
   ],
   "source": [
    "\n",
    "def find_least_signicant_bit(decimal_number):\n",
    "    return decimal_number & 1\n",
    "\n",
    "\n",
    "number = int(input(\"Enter a number : \"))\n",
    "\n",
    "least_signicant_bit = find_least_signicant_bit(number)\n",
    "\n",
    "print(f\"Least Significant Bit of {decimal_number} is {least_signicant_bit}\")\n"
   ]
  },
  {
   "cell_type": "markdown",
   "id": "e2182f89-63c8-4141-be69-29f562f4a495",
   "metadata": {},
   "source": [
    "<br>\n",
    "\n",
    "--------------------------------------------\n",
    "\n",
    "<br>\n",
    "\n",
    "#### 2. Write a Python program to <span style =\"background-color: yellow\">check Most Significant Bit (MSB) of a number is set or not</span>.\n",
    "\n",
    "<br>\n",
    "\n",
    "<span style=\"background-color: #CAFEFD\">**Solution**</span>\n"
   ]
  },
  {
   "cell_type": "code",
   "execution_count": 69,
   "id": "a553488f-b719-42cb-9b9a-2273fa0ba458",
   "metadata": {},
   "outputs": [
    {
     "ename": "SyntaxError",
     "evalue": "invalid decimal literal (4025507047.py, line 1)",
     "output_type": "error",
     "traceback": [
      "\u001b[1;36m  Cell \u001b[1;32mIn[69], line 1\u001b[1;36m\u001b[0m\n\u001b[1;33m    5.bit_length()\u001b[0m\n\u001b[1;37m     ^\u001b[0m\n\u001b[1;31mSyntaxError\u001b[0m\u001b[1;31m:\u001b[0m invalid decimal literal\n"
     ]
    }
   ],
   "source": [
    "\n",
    "5.bit_length()"
   ]
  },
  {
   "cell_type": "code",
   "execution_count": 67,
   "id": "548da610-a6f6-48be-8511-aef33e711bd9",
   "metadata": {},
   "outputs": [
    {
     "data": {
      "text/plain": [
       "3"
      ]
     },
     "execution_count": 67,
     "metadata": {},
     "output_type": "execute_result"
    }
   ],
   "source": [
    "int.bit_length(5)"
   ]
  },
  {
   "cell_type": "code",
   "execution_count": 68,
   "id": "93d8999c-23d4-4f82-9380-1a053b540937",
   "metadata": {},
   "outputs": [
    {
     "data": {
      "text/plain": [
       "3"
      ]
     },
     "execution_count": 68,
     "metadata": {},
     "output_type": "execute_result"
    }
   ],
   "source": [
    "num = 5\n",
    "num.bit_length()"
   ]
  },
  {
   "cell_type": "code",
   "execution_count": 72,
   "id": "d4581c81-a9ed-4b16-b625-fcf3b3857706",
   "metadata": {},
   "outputs": [
    {
     "data": {
      "text/plain": [
       "'0b101'"
      ]
     },
     "execution_count": 72,
     "metadata": {},
     "output_type": "execute_result"
    }
   ],
   "source": [
    "bin(5)"
   ]
  },
  {
   "cell_type": "code",
   "execution_count": 73,
   "id": "8fe8c5e5-1b05-4251-8a9b-53697da0fbf2",
   "metadata": {},
   "outputs": [
    {
     "data": {
      "text/plain": [
       "3"
      ]
     },
     "execution_count": 73,
     "metadata": {},
     "output_type": "execute_result"
    }
   ],
   "source": [
    "len(bin(5))-2"
   ]
  },
  {
   "cell_type": "code",
   "execution_count": 74,
   "id": "2e89354f-64a9-46f0-9925-1ad934f2eee2",
   "metadata": {},
   "outputs": [
    {
     "data": {
      "text/plain": [
       "'-0b100'"
      ]
     },
     "execution_count": 74,
     "metadata": {},
     "output_type": "execute_result"
    }
   ],
   "source": [
    "bin(-4)"
   ]
  },
  {
   "cell_type": "code",
   "execution_count": 76,
   "id": "289e3e89-1cec-43af-92bd-00527ce23f54",
   "metadata": {},
   "outputs": [
    {
     "data": {
      "text/plain": [
       "3"
      ]
     },
     "execution_count": 76,
     "metadata": {},
     "output_type": "execute_result"
    }
   ],
   "source": [
    "import math\n",
    "\n",
    "math.floor(math.log2(5)) + 1"
   ]
  },
  {
   "cell_type": "code",
   "execution_count": null,
   "id": "f0145bb6-e1ef-437f-8ee0-a7afcf4c83bf",
   "metadata": {},
   "outputs": [],
   "source": []
  },
  {
   "cell_type": "code",
   "execution_count": null,
   "id": "a2f8eba5-08e1-4208-b2fe-47665e58a842",
   "metadata": {},
   "outputs": [],
   "source": []
  },
  {
   "cell_type": "code",
   "execution_count": null,
   "id": "77b5c3cd-ea8a-4e0d-aa92-1007a648beb9",
   "metadata": {},
   "outputs": [],
   "source": []
  },
  {
   "cell_type": "code",
   "execution_count": null,
   "id": "831d6730-a51c-461d-a17f-98338682e071",
   "metadata": {},
   "outputs": [],
   "source": []
  },
  {
   "cell_type": "code",
   "execution_count": null,
   "id": "09a3ad75-3844-43a9-8259-624358bef12b",
   "metadata": {},
   "outputs": [],
   "source": []
  },
  {
   "cell_type": "code",
   "execution_count": null,
   "id": "1a2bfa56-4d04-466e-aba8-05d720358abc",
   "metadata": {},
   "outputs": [],
   "source": []
  },
  {
   "cell_type": "code",
   "execution_count": null,
   "id": "727d3aa6-d281-42b1-a10f-08b452176f2b",
   "metadata": {},
   "outputs": [],
   "source": []
  },
  {
   "cell_type": "code",
   "execution_count": null,
   "id": "acde1c69-3e4c-40be-92e4-59c16f3346ec",
   "metadata": {},
   "outputs": [],
   "source": []
  },
  {
   "cell_type": "code",
   "execution_count": null,
   "id": "82b75747-1516-4596-a71d-222dc91457ef",
   "metadata": {},
   "outputs": [],
   "source": []
  },
  {
   "cell_type": "code",
   "execution_count": null,
   "id": "54e9f5ed-7b49-42ce-abf7-464def0c645b",
   "metadata": {},
   "outputs": [],
   "source": []
  },
  {
   "cell_type": "code",
   "execution_count": null,
   "id": "38b6fe02-0c01-4a2e-9561-e6853e53efd4",
   "metadata": {},
   "outputs": [],
   "source": []
  },
  {
   "cell_type": "markdown",
   "id": "6d108aec-cf20-4b61-b00c-623d25779a4a",
   "metadata": {},
   "source": [
    "# Conditional Operators"
   ]
  },
  {
   "cell_type": "markdown",
   "id": "a7a983a3-43e5-4067-a0e7-d6713d2a1389",
   "metadata": {},
   "source": [
    "#### 1. Write a Python program to <span style =\"background-color: yellow\">find maximum between two numbers using conditional operator</span>."
   ]
  },
  {
   "cell_type": "code",
   "execution_count": 10,
   "id": "3817e0a5-7740-4b48-b1b4-390eee43258d",
   "metadata": {},
   "outputs": [
    {
     "name": "stdin",
     "output_type": "stream",
     "text": [
      "Enter the 1st number:  6\n",
      "Enter the 2nd number:  4\n"
     ]
    },
    {
     "name": "stdout",
     "output_type": "stream",
     "text": [
      "6 is greater than 4\n"
     ]
    }
   ],
   "source": [
    "n1 = int(input(\"Enter the 1st number: \"))\n",
    "n2 = int(input(\"Enter the 2nd number: \"))\n",
    "\n",
    "if n1 > n2:\n",
    "    print(f\"{n1} is greater than {n2}\")\n",
    "else:\n",
    "    print(f\"{n2} is greater than {n1}\")\n"
   ]
  },
  {
   "cell_type": "markdown",
   "id": "c3190d2a-baf2-4894-9eb4-aa1dae78e373",
   "metadata": {},
   "source": [
    "<br>\n",
    "\n",
    "--------------------------------------------\n",
    "\n",
    "<br>\n",
    "\n",
    "#### 2. Write a Python program to <span style =\"background-color: yellow\">find maximum between three numbers using conditional operator</span>.\n"
   ]
  },
  {
   "cell_type": "markdown",
   "id": "45d1d38f-91af-4bb1-8f61-efaa0ed6b773",
   "metadata": {},
   "source": [
    "<br>\n",
    "\n",
    "<span style=\"background-color: #CAFEFD\">**Solution-1**</span>"
   ]
  },
  {
   "cell_type": "code",
   "execution_count": 38,
   "id": "82c00371-4617-41c7-b44e-3c3e531970d9",
   "metadata": {},
   "outputs": [
    {
     "name": "stdin",
     "output_type": "stream",
     "text": [
      "Enter the 1st number:  3\n",
      "Enter the 2nd number:  5\n",
      "Enter the 3rd number:  1\n"
     ]
    },
    {
     "name": "stdout",
     "output_type": "stream",
     "text": [
      "The maximum number is: 5\n"
     ]
    }
   ],
   "source": [
    "\n",
    "def find_maximum(num1, num2, num3):\n",
    "    if num1 > num2 and num1 > num3:\n",
    "        return num1\n",
    "    elif num2 > num3:\n",
    "        return num2\n",
    "    else:\n",
    "        return num3\n",
    "\n",
    "\n",
    "number1 = int(input(\"Enter the 1st number: \"))\n",
    "number2 = int(input(\"Enter the 2nd number: \"))\n",
    "number3 = int(input(\"Enter the 3rd number: \"))\n",
    "\n",
    "\n",
    "maximum_number = find_maximum(number1, number2, number3)\n",
    "print(\"The maximum number is:\", maximum_number)\n"
   ]
  },
  {
   "cell_type": "markdown",
   "id": "fa056b42-d4d3-4ad9-b621-e2b639d3e2fe",
   "metadata": {},
   "source": [
    "<br>\n",
    "\n",
    "<span style=\"background-color: #CAFEFD\">**Solution-2**</span> : &nbsp;&nbsp;using built-in **MAX()** fnction"
   ]
  },
  {
   "cell_type": "code",
   "execution_count": 40,
   "id": "7b949a3f-042a-4b90-bd6b-fbefac8a0db2",
   "metadata": {},
   "outputs": [
    {
     "name": "stdin",
     "output_type": "stream",
     "text": [
      "Enter the 1st number:  3\n",
      "Enter the 2nd number:  5\n",
      "Enter the 3rd number:  1\n"
     ]
    },
    {
     "name": "stdout",
     "output_type": "stream",
     "text": [
      "The maximum number is: 5\n"
     ]
    }
   ],
   "source": [
    "def find_maximum(num1, num2, num3):\n",
    "    return max(num1,num2,num3)\n",
    "\n",
    "\n",
    "number1 = int(input(\"Enter the 1st number: \"))\n",
    "number2 = int(input(\"Enter the 2nd number: \"))\n",
    "number3 = int(input(\"Enter the 3rd number: \"))\n",
    "\n",
    "\n",
    "maximum_number = find_maximum(number1, number2, number3)\n",
    "print(\"The maximum number is:\", maximum_number)\n"
   ]
  },
  {
   "cell_type": "markdown",
   "id": "b2f64bee-a708-4201-99d3-2b8ca42884ef",
   "metadata": {},
   "source": [
    "<br>\n",
    "\n",
    "--------------------------------------------\n",
    "\n",
    "<br>\n",
    "\n",
    "#### 3. Write a Python program to <span style =\"background-color: yellow\">check even or odd number using conditional operator</span>.\n"
   ]
  },
  {
   "cell_type": "markdown",
   "id": "bab13175-6798-47d7-8615-b67580204ad4",
   "metadata": {},
   "source": [
    "<br>\n",
    "\n",
    "<span style=\"background-color: #CAFEFD\">**Solution-1**</span> : &nbsp;&nbsp;using **Modulus** operator"
   ]
  },
  {
   "cell_type": "code",
   "execution_count": 45,
   "id": "1774c437-9212-4dcc-9f50-5e96d9633eba",
   "metadata": {},
   "outputs": [
    {
     "name": "stdin",
     "output_type": "stream",
     "text": [
      "Enter a number:  3\n"
     ]
    },
    {
     "name": "stdout",
     "output_type": "stream",
     "text": [
      "3 is an odd number\n"
     ]
    }
   ],
   "source": [
    "def find_odd_even(num):\n",
    "    if num % 2 == 0:\n",
    "        return \"even\"\n",
    "    else:\n",
    "        return \"odd\"\n",
    "\n",
    "number = int(input(\"Enter a number: \"))\n",
    "\n",
    "odd_even_flag = find_odd_even(number)\n",
    "print(f\"{number} is an {odd_even_flag} number\")"
   ]
  },
  {
   "cell_type": "markdown",
   "id": "fbd1f4f7-0413-4dcb-a8e6-e3a19ecf9aea",
   "metadata": {},
   "source": [
    "<br>\n",
    "\n",
    "<span style=\"background-color: #CAFEFD\">**Solution-2**</span>: &nbsp;&nbsp;using **Bitwise** operator"
   ]
  },
  {
   "cell_type": "code",
   "execution_count": 56,
   "id": "8d0dd1de-86cd-4257-adc5-f573a4ba9025",
   "metadata": {},
   "outputs": [
    {
     "name": "stdin",
     "output_type": "stream",
     "text": [
      "Enter a number:  4\n"
     ]
    },
    {
     "name": "stdout",
     "output_type": "stream",
     "text": [
      "4 is an even number\n"
     ]
    }
   ],
   "source": [
    "# SOLUTION-2A\n",
    "\n",
    "def find_least_signicant_bit(decimal_number):\n",
    "    return decimal_number & 1\n",
    "\n",
    "\n",
    "def find_odd_even(lsb):\n",
    "    if lsb == 0:\n",
    "        return \"even\"\n",
    "    else:\n",
    "        return \"odd\" \n",
    "\n",
    "\n",
    "number = int(input(\"Enter a number: \"))\n",
    "\n",
    "least_significant_bit = find_least_signicant_bit(number)\n",
    "\n",
    "odd_even_flag = find_odd_even(least_significant_bit)\n",
    "\n",
    "print(f\"{number} is an {odd_even_flag} number\")"
   ]
  },
  {
   "cell_type": "markdown",
   "id": "d6bb927c-fdd1-428a-a1aa-404fedab1105",
   "metadata": {},
   "source": [
    "<br>\n",
    "\n",
    "We can **optimize** it by combining the work of 2 functions in 1 function only :"
   ]
  },
  {
   "cell_type": "code",
   "execution_count": 57,
   "id": "ccc5c354-af71-4d8f-8681-a928036c494c",
   "metadata": {},
   "outputs": [
    {
     "name": "stdin",
     "output_type": "stream",
     "text": [
      "Enter a number:  4\n"
     ]
    },
    {
     "name": "stdout",
     "output_type": "stream",
     "text": [
      "4 is an even number\n"
     ]
    }
   ],
   "source": [
    "# SOLUTION-2B\n",
    "\n",
    "def find_odd_even(decimal_number):\n",
    "    if decimal_number & 1 == 0:\n",
    "        return \"even\"\n",
    "    else:\n",
    "        return \"odd\" \n",
    "\n",
    "\n",
    "number = int(input(\"Enter a number: \"))\n",
    "\n",
    "odd_even_flag = find_odd_even(number)\n",
    "\n",
    "print(f\"{number} is an {odd_even_flag} number\")"
   ]
  },
  {
   "cell_type": "code",
   "execution_count": null,
   "id": "45834813-d79d-4711-bd95-a81aadf6cebb",
   "metadata": {},
   "outputs": [],
   "source": []
  },
  {
   "cell_type": "code",
   "execution_count": null,
   "id": "a4ce5edc-084c-4beb-88c7-2e6e1a853d61",
   "metadata": {},
   "outputs": [],
   "source": []
  },
  {
   "cell_type": "code",
   "execution_count": null,
   "id": "b840d23e-baf7-4fcc-9090-14431681a084",
   "metadata": {},
   "outputs": [],
   "source": []
  },
  {
   "cell_type": "code",
   "execution_count": null,
   "id": "165e7a12-f2e6-49cd-b806-fda560b2672b",
   "metadata": {},
   "outputs": [],
   "source": []
  },
  {
   "cell_type": "code",
   "execution_count": null,
   "id": "37f649ef-7d33-4c2f-b7b0-4648c8d6b7ef",
   "metadata": {},
   "outputs": [],
   "source": []
  },
  {
   "cell_type": "code",
   "execution_count": null,
   "id": "b6dd463b-6b79-48ac-9847-f535cd535906",
   "metadata": {},
   "outputs": [],
   "source": []
  }
 ],
 "metadata": {
  "kernelspec": {
   "display_name": "Python 3 (ipykernel)",
   "language": "python",
   "name": "python3"
  },
  "language_info": {
   "codemirror_mode": {
    "name": "ipython",
    "version": 3
   },
   "file_extension": ".py",
   "mimetype": "text/x-python",
   "name": "python",
   "nbconvert_exporter": "python",
   "pygments_lexer": "ipython3",
   "version": "3.11.3"
  }
 },
 "nbformat": 4,
 "nbformat_minor": 5
}
