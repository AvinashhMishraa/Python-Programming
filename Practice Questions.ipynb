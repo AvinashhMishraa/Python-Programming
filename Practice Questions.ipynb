{
 "cells": [
  {
   "cell_type": "markdown",
   "id": "8cf94a4a-83f0-4cce-bef2-51e2fdd1aa38",
   "metadata": {},
   "source": [
    "# Bitwise Operators\n",
    "\n",
    "⇒ &nbsp; It is advised to always use **parenthesis** whiile using bitwise operators. <br>\n",
    "\n",
    "\n",
    "⇒ &nbsp; In Python, **integers** are represented using a <span style=\"background-color: #E8DAEF\">&nbsp;variable-length <span style=\"color: blue\">**two's complement format**</span>&nbsp;</span> to ensure **efficient memory utilization**. <br>\n",
    "\n",
    "<br>\n",
    "\n",
    "<br>\n",
    "\n",
    "<div style=\"border: 1px solid pink; padding: 5px; margin-left: 130px; width: 780px\">\n",
    "\n",
    "**n-bit system** ===> [ &nbsp;<span style=\"background-color:yellow\"><strong>&nbsp; -( 2 ** (n - 1) ) &nbsp;</strong></span>&nbsp;&nbsp;**,**&nbsp;&nbsp;  <span style=\"background-color:yellow\"><strong>&nbsp; (2 ** (n - 1)) - 1 &nbsp;</strong></span> ]\n",
    "\n",
    "<br>\n",
    "\n",
    "&nbsp;&nbsp;&nbsp;&nbsp;&nbsp;&nbsp;&nbsp;&nbsp;&nbsp;&nbsp;&nbsp;&nbsp;&nbsp;&nbsp;&nbsp;&nbsp;&nbsp;&nbsp;8-bits &nbsp;&nbsp;~ **[&nbsp;**<span style=\"background-color: #EFEAF1;color:red\"><strong>&nbsp;-(2 ** 7)&nbsp;</strong></span>&nbsp;**,** &nbsp;<span style=\"background-color: #EFEAF1;color:red\"><strong>&nbsp;((2 ** 7) - 1) &nbsp;</strong></span><strong>]</strong> =======> &nbsp;&nbsp;[&nbsp;<span style=\"background-color: #CAFEFD\">&nbsp;-128</span> , <span style=\"background-color: #CAFEFD\">127</span>&nbsp;] <br>\n",
    "&nbsp;&nbsp;&nbsp;&nbsp;&nbsp;&nbsp;&nbsp;&nbsp;&nbsp;&nbsp;&nbsp;&nbsp;&nbsp;&nbsp;&nbsp;&nbsp;&nbsp;&nbsp;16-bits ~ **[&nbsp;**<span style=\"background-color: #EFEAF1;color:red\"><strong>&nbsp;-(2 ** 15)&nbsp;</strong></span>&nbsp;**,** &nbsp;<span style=\"background-color: #EFEAF1;color:red\"><strong>&nbsp;((2 ** 15) - 1) &nbsp;</strong></span><strong>]</strong>  ======>&nbsp;[&nbsp;<span style=\"background-color: #CAFEFD\">-32,768</span> , <span style=\"background-color: #CAFEFD\">32,767</span>&nbsp;] <br>\n",
    "&nbsp;&nbsp;&nbsp;&nbsp;&nbsp;&nbsp;&nbsp;&nbsp;&nbsp;&nbsp;&nbsp;&nbsp;&nbsp;&nbsp;&nbsp;&nbsp;&nbsp;&nbsp;32-bits ~  **[&nbsp;**<span style=\"background-color: #EFEAF1;color:red\"><strong>&nbsp;-(2 ** 31)&nbsp;</strong></span>&nbsp;**,** &nbsp;<span style=\"background-color: #EFEAF1;color:red\"><strong>&nbsp;((2 ** 31) - 1) &nbsp;</strong></span><strong>]</strong> ======> [&nbsp;<span style=\"background-color: #CAFEFD\">-2,147,483,648</span> , <span style=\"background-color: #CAFEFD\">2,147,483,647</span>&nbsp;] <br>\n",
    "&nbsp;&nbsp;&nbsp;&nbsp;&nbsp;&nbsp;&nbsp;&nbsp;&nbsp;&nbsp;&nbsp;&nbsp;&nbsp;&nbsp;&nbsp;&nbsp;&nbsp;&nbsp;64-bits ~ **[&nbsp;**<span style=\"background-color: #EFEAF1;color:red\"><strong>&nbsp;-(2 ** 63)&nbsp;</strong></span>&nbsp;**,** &nbsp;<span style=\"background-color: #EFEAF1;color:red\"><strong>&nbsp;((2 ** 63) - 1) &nbsp;</strong></span><strong>]</strong> ======> [&nbsp;<span style=\"background-color: #CAFEFD\">-9,223,372,036,854,775,808</span> , <span style=\"background-color: #CAFEFD\">9,223,372,036,854,775,807</span>&nbsp;] <br>\n",
    "\n",
    "</div>\n",
    "\n",
    "<br>\n",
    "\n",
    "<br>\n",
    "\n",
    "<br>\n",
    "\n",
    "| <span style=\"background-color: #FBE2FF; color: blue\">decimal number</span> | <span style=\"background-color: #FBE2FF;color: blue\">variable-length 2's complement binary representation</span> | <span style=\"background-color: #FBE2FF; color: blue\">fixed-length (32) 2's complement binary representation</span> |\n",
    "|----------------|------------------------------------------------------|--------------------------------------------------------|\n",
    "|     .....      |                       .....                          |                      ......                            |\n",
    "|       16       |   &nbsp;<span style=\"color: red;font-size: larger\">**0b**</span><span style=\"background-color: yellow;font-size: larger\">**10000**</span>                                                                          |  &nbsp;         <span style=\"color: red;font-size: larger\">**0b**</span><span style=\"font-size: larger\">000000000000000000000000000</span><span style=\"background-color: yellow;font-size: larger\">**10000**</span>   |\n",
    "|       15       |   &nbsp;&nbsp;&nbsp;&nbsp;<span style=\"color: red;font-size: larger\">**0b**</span><span style=\"background-color: yellow;font-size: larger\">**1111**</span>                                                 |  &nbsp;         <span style=\"color: red;font-size: larger\">**0b**</span><span style=\"font-size: larger\">0000000000000000000000000000</span><span style=\"background-color: yellow;font-size: larger\">**1111**</span>   |\n",
    "|       14       |   &nbsp;&nbsp;&nbsp;&nbsp;<span style=\"color: red;font-size: larger\">**0b**</span><span style=\"background-color: yellow;font-size: larger\">**1110**</span>                                                 |  &nbsp;         <span style=\"color: red;font-size: larger\">**0b**</span><span style=\"font-size: larger\">0000000000000000000000000000</span><span style=\"background-color: yellow;font-size: larger\">**1110**</span>   |\n",
    "|       13       |   &nbsp;&nbsp;&nbsp;&nbsp;<span style=\"color: red;font-size: larger\">**0b**</span><span style=\"background-color: yellow;font-size: larger\">**1101**</span>                                                 |  &nbsp;         <span style=\"color: red;font-size: larger\">**0b**</span><span style=\"font-size: larger\">0000000000000000000000000000</span><span style=\"background-color: yellow;font-size: larger\">**1101**</span>   |\n",
    "|       12       |   &nbsp;&nbsp;&nbsp;&nbsp;<span style=\"color: red;font-size: larger\">**0b**</span><span style=\"background-color: yellow;font-size: larger\">**1100**</span>                                                 |  &nbsp;         <span style=\"color: red;font-size: larger\">**0b**</span><span style=\"font-size: larger\">0000000000000000000000000000</span><span style=\"background-color: yellow;font-size: larger\">**1100**</span>   |\n",
    "|       11       |   &nbsp;&nbsp;&nbsp;&nbsp;<span style=\"color: red;font-size: larger\">**0b**</span><span style=\"background-color: yellow;font-size: larger\">**1011**</span>                                                 |  &nbsp;         <span style=\"color: red;font-size: larger\">**0b**</span><span style=\"font-size: larger\">0000000000000000000000000000</span><span style=\"background-color: yellow;font-size: larger\">**1011**</span>   |\n",
    "|       10       |   &nbsp;&nbsp;&nbsp;&nbsp;&nbsp;<span style=\"color: red;font-size: larger\">**0b**</span><span style=\"background-color: yellow;font-size: larger\">**1010**</span>                                                 |  &nbsp;         <span style=\"color: red;font-size: larger\">**0b**</span><span style=\"font-size: larger\">0000000000000000000000000000</span><span style=\"background-color: yellow;font-size: larger\">**1010**</span>   |\n",
    "|       9       |   &nbsp;&nbsp;&nbsp;&nbsp;&nbsp;<span style=\"color: red;font-size: larger\">**0b**</span><span style=\"background-color: yellow;font-size: larger\">**1001**</span>                                                 |  &nbsp;         <span style=\"color: red;font-size: larger\">**0b**</span><span style=\"font-size: larger\">0000000000000000000000000000</span><span style=\"background-color: yellow;font-size: larger\">**1001**</span>   |\n",
    "|       8       |   &nbsp;&nbsp;&nbsp;&nbsp;&nbsp;<span style=\"color: red;font-size: larger\">**0b**</span><span style=\"background-color: yellow;font-size: larger\">**1000**</span>                                                 |  &nbsp;         <span style=\"color: red;font-size: larger\">**0b**</span><span style=\"font-size: larger\">0000000000000000000000000000</span><span style=\"background-color: yellow;font-size: larger\">**1000**</span>   |\n",
    "|       7       |   &nbsp;&nbsp;&nbsp;&nbsp;&nbsp;&nbsp;&nbsp;&nbsp;<span style=\"color: red;font-size: larger\">**0b**</span><span style=\"background-color: yellow;font-size: larger\">**111**</span>                                | &nbsp;          <span style=\"color: red;font-size: larger\">**0b**</span><span style=\"font-size: larger\">00000000000000000000000000000</span><span style=\"background-color: yellow;font-size: larger\">**111**</span>   |\n",
    "|       6       |   &nbsp;&nbsp;&nbsp;&nbsp;&nbsp;&nbsp;&nbsp;&nbsp;<span style=\"color: red;font-size: larger\">**0b**</span><span style=\"background-color: yellow;font-size: larger\">**110**</span>                                 |  &nbsp;         <span style=\"color: red;font-size: larger\">**0b**</span><span style=\"font-size: larger\">00000000000000000000000000000</span><span style=\"background-color: yellow;font-size: larger\">**110**</span>   |\n",
    "|       5       |   &nbsp;&nbsp;&nbsp;&nbsp;&nbsp;&nbsp;&nbsp;&nbsp;<span style=\"color: red;font-size: larger\">**0b**</span><span style=\"background-color: yellow;font-size: larger\">**101**</span>                                 |  &nbsp;         <span style=\"color: red;font-size: larger\">**0b**</span><span style=\"font-size: larger\">00000000000000000000000000000</span><span style=\"background-color: yellow;font-size: larger\">**101**</span>   |\n",
    "|       4       |   &nbsp;&nbsp;&nbsp;&nbsp;&nbsp;&nbsp;&nbsp;&nbsp;<span style=\"color: red;font-size: larger\">**0b**</span><span style=\"background-color: yellow;font-size: larger\">**100**</span>                                 |  &nbsp;         <span style=\"color: red;font-size: larger\">**0b**</span><span style=\"font-size: larger\">00000000000000000000000000000</span><span style=\"background-color: yellow;font-size: larger\">**100**</span>   |\n",
    "|       3       |   &nbsp;&nbsp;&nbsp;&nbsp;&nbsp;&nbsp;&nbsp;&nbsp;&nbsp;&nbsp;&nbsp;<span style=\"color: red;font-size: larger\">**0b**</span><span style=\"background-color: yellow;font-size: larger\">**11**</span>         |  &nbsp;          <span style=\"color: red;font-size: larger\">**0b**</span><span style=\"font-size: larger\">000000000000000000000000000000</span><span style=\"background-color: yellow;font-size: larger\">**11**</span>   |\n",
    "|       2       |   &nbsp;&nbsp;&nbsp;&nbsp;&nbsp;&nbsp;&nbsp;&nbsp;&nbsp;&nbsp;&nbsp;<span style=\"color: red;font-size: larger\">**0b**</span><span style=\"background-color: yellow;font-size: larger\">**10**</span>         |  &nbsp;          <span style=\"color: red;font-size: larger\">**0b**</span><span style=\"font-size: larger\">000000000000000000000000000000</span><span style=\"background-color: yellow;font-size: larger\">**10**</span>   |\n",
    "|       1       |   &nbsp;&nbsp;&nbsp;&nbsp;&nbsp;&nbsp;&nbsp;&nbsp;&nbsp;&nbsp;&nbsp;&nbsp;&nbsp;&nbsp;<span style=\"color: red;font-size: larger\">**0b**</span><span style=\"background-color: yellow;font-size: larger\">**1**</span>    | &nbsp;          <span style=\"color: red;font-size: larger\">**0b**</span><span style=\"font-size: larger\">0000000000000000000000000000000</span><span style=\"background-color: yellow;font-size: larger\">**1**</span>   |\n",
    "|       0       |   &nbsp;&nbsp;&nbsp;&nbsp;&nbsp;&nbsp;&nbsp;&nbsp;&nbsp;&nbsp;&nbsp;&nbsp;&nbsp;&nbsp;<span style=\"color: red;font-size: larger\">**0b**</span><span style=\"background-color: yellow;font-size: larger\">**0**</span>    | &nbsp;          <span style=\"color: red;font-size: larger\">**0b**</span><span style=\"font-size: larger\">0000000000000000000000000000000</span><span style=\"background-color: yellow;font-size: larger\">**0**</span>   |\n",
    "|       -1       |  &nbsp;&nbsp;&nbsp;&nbsp;&nbsp;&nbsp;&nbsp;&nbsp;&nbsp;&nbsp;&nbsp;&nbsp;&nbsp;<span style=\"color: red;font-size: larger\">**-0b**</span><span style=\"background-color: yellow;font-size: larger\">**1**</span>          |           <span style=\"color: red;font-size: larger\">**-0b**</span><span style=\"font-size: larger\">1111111111111111111111111111111</span><span style=\"background-color: yellow;font-size: larger\">**1**</span>   |\n",
    "|       -2       |   &nbsp;&nbsp;&nbsp;&nbsp;&nbsp;&nbsp;&nbsp;&nbsp;&nbsp;&nbsp;&nbsp;<span style=\"color: red;font-size: larger\">**-0b**</span><span style=\"background-color: yellow;font-size: larger\">**10**</span>         |           <span style=\"color: red;font-size: larger\">**-0b**</span><span style=\"font-size: larger\">111111111111111111111111111111</span><span style=\"background-color: yellow;font-size: larger\">**10**</span>   |\n",
    "|       -3       |   &nbsp;&nbsp;&nbsp;&nbsp;&nbsp;&nbsp;&nbsp;&nbsp;&nbsp;&nbsp;&nbsp;<span style=\"color: red;font-size: larger\">**-0b**</span><span style=\"background-color: yellow;font-size: larger\">**11**</span>         |          <span style=\"color: red;font-size: larger\">**-0b**</span><span style=\"font-size: larger\">11111111111111111111111111111</span><span style=\"background-color: yellow;font-size: larger\">**101**</span>   |\n",
    "|       -4       |   &nbsp;&nbsp;&nbsp;&nbsp;&nbsp;&nbsp;&nbsp;&nbsp;&nbsp;<span style=\"color: red;font-size: larger\">**-0b**</span><span style=\"background-color: yellow;font-size: larger\">**100**</span>                                 |    <span style=\"color: red;font-size: larger\">**-0b**</span><span style=\"font-size: larger\">11111111111111111111111111111</span><span style=\"background-color: yellow;font-size: larger\">**100**</span>   |\n",
    "|       -5       |   &nbsp;&nbsp;&nbsp;&nbsp;&nbsp;&nbsp;&nbsp;&nbsp;&nbsp;<span style=\"color: red;font-size: larger\">**-0b**</span><span style=\"background-color: yellow;font-size: larger\">**101**</span>                                 |   <span style=\"color: red;font-size: larger\">**-0b**</span><span style=\"font-size: larger\">1111111111111111111111111111</span><span style=\"background-color: yellow;font-size: larger\">**1011**</span>   |\n",
    "|       -6       |   &nbsp;&nbsp;&nbsp;&nbsp;&nbsp;&nbsp;&nbsp;&nbsp;&nbsp;<span style=\"color: red;font-size: larger\">**-0b**</span><span style=\"background-color: yellow;font-size: larger\">**110**</span>                                 |   <span style=\"color: red;font-size: larger\">**-0b**</span><span style=\"font-size: larger\">1111111111111111111111111111</span><span style=\"background-color: yellow;font-size: larger\">**1010**</span>   |\n",
    "|       -7       |   &nbsp;&nbsp;&nbsp;&nbsp;&nbsp;&nbsp;&nbsp;&nbsp;&nbsp;<span style=\"color: red;font-size: larger\">**-0b**</span><span style=\"background-color: yellow;font-size: larger\">**111**</span>                                 |  <span style=\"color: red;font-size: larger\">**-0b**</span><span style=\"font-size: larger\">1111111111111111111111111111</span><span style=\"background-color: yellow;font-size: larger\">**1001**</span>   |\n",
    "|       -8       |   &nbsp;&nbsp;&nbsp;&nbsp;&nbsp;&nbsp;&nbsp;<span style=\"color: red;font-size: larger\">**-0b**</span><span style=\"background-color: yellow;font-size: larger\">**1000**</span>                                            |    <span style=\"color: red;font-size: larger\">**-0b**</span><span style=\"font-size: larger\">1111111111111111111111111111</span><span style=\"background-color: yellow;font-size: larger\">**1000**</span>   |\n",
    "|       -9       |   &nbsp;&nbsp;&nbsp;&nbsp;&nbsp;&nbsp;&nbsp;<span style=\"color: red;font-size: larger\">**-0b**</span><span style=\"background-color: yellow;font-size: larger\">**1001**</span>                                            |    <span style=\"color: red;font-size: larger\">**-0b**</span><span style=\"font-size: larger\">111111111111111111111111111</span><span style=\"background-color: yellow;font-size: larger\">**10111**</span>   |\n",
    "|       -10       |   &nbsp;&nbsp;&nbsp;&nbsp;&nbsp;&nbsp;&nbsp;<span style=\"color: red;font-size: larger\">**-0b**</span><span style=\"background-color: yellow;font-size: larger\">**1010**</span>                                            |    <span style=\"color: red;font-size: larger\">**-0b**</span><span style=\"font-size: larger\">111111111111111111111111111</span><span style=\"background-color: yellow;font-size: larger\">**10110**</span>   |\n",
    "|       -11       |   &nbsp;&nbsp;&nbsp;&nbsp;&nbsp;&nbsp;&nbsp;<span style=\"color: red;font-size: larger\">**-0b**</span><span style=\"background-color: yellow;font-size: larger\">**1011**</span>                                            |    <span style=\"color: red;font-size: larger\">**-0b**</span><span style=\"font-size: larger\">111111111111111111111111111</span><span style=\"background-color: yellow;font-size: larger\">**10101**</span>   |\n",
    "|       -12       |   &nbsp;&nbsp;&nbsp;&nbsp;&nbsp;&nbsp;&nbsp;<span style=\"color: red;font-size: larger\">**-0b**</span><span style=\"background-color: yellow;font-size: larger\">**1100**</span>                                            |    <span style=\"color: red;font-size: larger\">**-0b**</span><span style=\"font-size: larger\">111111111111111111111111111</span><span style=\"background-color: yellow;font-size: larger\">**10100**</span>   |\n",
    "|       -13       |   &nbsp;&nbsp;&nbsp;&nbsp;&nbsp;&nbsp;&nbsp;<span style=\"color: red;font-size: larger\">**-0b**</span><span style=\"background-color: yellow;font-size: larger\">**1101**</span>                                            |    <span style=\"color: red;font-size: larger\">**-0b**</span><span style=\"font-size: larger\">111111111111111111111111111</span><span style=\"background-color: yellow;font-size: larger\">**10011**</span>   |\n",
    "|       -14       |   &nbsp;&nbsp;&nbsp;&nbsp;&nbsp;&nbsp;&nbsp;<span style=\"color: red;font-size: larger\">**-0b**</span><span style=\"background-color: yellow;font-size: larger\">**1110**</span>                                            |    <span style=\"color: red;font-size: larger\">**-0b**</span><span style=\"font-size: larger\">111111111111111111111111111</span><span style=\"background-color: yellow;font-size: larger\">**10010**</span>   |\n",
    "|       -15       |   &nbsp;&nbsp;&nbsp;&nbsp;&nbsp;&nbsp;&nbsp;<span style=\"color: red;font-size: larger\">**-0b**</span><span style=\"background-color: yellow;font-size: larger\">**1111**</span>                                            |    <span style=\"color: red;font-size: larger\">**-0b**</span><span style=\"font-size: larger\">111111111111111111111111111</span><span style=\"background-color: yellow;font-size: larger\">**10010**</span>   |\n",
    "|       -16       |   &nbsp;&nbsp;&nbsp;&nbsp;&nbsp;<span style=\"color: red;font-size: larger\">**-0b**</span><span style=\"background-color: yellow;font-size: larger\">**10000**</span>                                            |    <span style=\"color: red;font-size: larger\">**-0b**</span><span style=\"font-size: larger\">111111111111111111111111111</span><span style=\"background-color: yellow;font-size: larger\">**10000**</span>   |\n",
    "\n",
    "<br>\n",
    "\n",
    "<br>\n",
    "\n",
    "⇒ &nbsp; Use <span style=\"background-color: #FBE2FF\"><span style=\"color: red\">**bin()**</span> to find the **binary representation**</span> of a number (in decimal system) and <span style=\"background-color: #FBE2FF\"><span style=\"color: red\">**int.bit_length()**</span> to find the **bit length**</span> of that decimal number. <br>\n",
    "\n",
    "⇒ &nbsp; But remember &nbsp;<span style=\"background-color: yellow;color: red;font-size: larger\">&nbsp;**0b**&nbsp;</span><span style=\"background-color: black;color: #00FFFF; font-size: larger\">&nbsp;**magnitude**&nbsp;</span>&nbsp;</span> and <span style=\"background-color: yellow;color: red; font-size: larger\">&nbsp;**-0b**&nbsp;</span><span style=\"background-color: black;color: #00FFFF; font-size: larger\">&nbsp;**magnitude**&nbsp;</span>&nbsp;</span> are just for string representations. **Actual working is same across all programming languages**.\n",
    "\n",
    "⇒ &nbsp; <span style=\"color: #8702CA\">Therefore, one can always solve **all bit manipulation related questions** with the same technique in **Python** too like we do in **C** / **C** / **Java**.</span>\n",
    "\n",
    "\n",
    "<br>\n",
    "\n",
    "<br>\n",
    "\n",
    "<br>\n"
   ]
  },
  {
   "cell_type": "markdown",
   "id": "8279e92c-2d55-4001-8de5-a513f13bcfea",
   "metadata": {},
   "source": [
    "<br>\n",
    "\n",
    "### 1. Write a Python program to <span style =\"background-color: yellow\">check Least Significant Bit (LSB) of a number is set or not</span>.\n",
    "\n",
    "<br>\n",
    "\n",
    "#### <span style=\"background-color: #CAFEFD\">**Solution**</span>"
   ]
  },
  {
   "cell_type": "code",
   "execution_count": 40,
   "id": "faad7dd0-3c49-483f-9c96-3e3c83961c17",
   "metadata": {},
   "outputs": [
    {
     "name": "stdin",
     "output_type": "stream",
     "text": [
      "Enter a number :  4\n"
     ]
    },
    {
     "name": "stdout",
     "output_type": "stream",
     "text": [
      "Least Significant Bit of 4 is 0\n"
     ]
    }
   ],
   "source": [
    "decimal_number = int(input(\"Enter a number : \"))\n",
    "\n",
    "\n",
    "print(f\"Least Significant Bit of {decimal_number} is {decimal_number & 1}\")\n"
   ]
  },
  {
   "cell_type": "markdown",
   "id": "be3a5f56-f636-4d6b-b603-93ef278e2372",
   "metadata": {},
   "source": [
    "<br>\n",
    "\n",
    "**It is better to use <span style=\"color: blue\">functions</span> while solving a problem.**"
   ]
  },
  {
   "cell_type": "code",
   "execution_count": 41,
   "id": "f3602446-c753-47a7-8787-86f2bdb3bd2f",
   "metadata": {},
   "outputs": [
    {
     "name": "stdin",
     "output_type": "stream",
     "text": [
      "Enter a number :  -5\n"
     ]
    },
    {
     "name": "stdout",
     "output_type": "stream",
     "text": [
      "Least Significant Bit of -5 is 1\n"
     ]
    }
   ],
   "source": [
    "\n",
    "def find_least_signicant_bit(decimal_number):\n",
    "    return (decimal_number & 1)  # since 1 is the unmasking bit in bitwise AND operation\n",
    "\n",
    "number = int(input(\"Enter a number : \"))\n",
    "\n",
    "least_signicant_bit = find_least_signicant_bit(number)\n",
    "\n",
    "print(f\"Least Significant Bit of {number} is {least_signicant_bit}\")\n"
   ]
  },
  {
   "cell_type": "markdown",
   "id": "e2182f89-63c8-4141-be69-29f562f4a495",
   "metadata": {},
   "source": [
    "<br>\n",
    "\n",
    "--------------------------------------------\n",
    "\n",
    "<br>\n",
    "\n",
    "### 2. Write a Python program to <span style =\"background-color: yellow\">check Most Significant Bit (MSB) of a number is set or not</span>.\n",
    "\n",
    "<br>\n",
    "\n",
    "#### <span style=\"background-color: #CAFEFD\">&nbsp;**Solution-1**&nbsp;</span> &nbsp;&nbsp;(Assumption - <span style=\"color: blue\">**variable length two's complement system**</span> )\n"
   ]
  },
  {
   "cell_type": "code",
   "execution_count": 50,
   "id": "77b5c3cd-ea8a-4e0d-aa92-1007a648beb9",
   "metadata": {},
   "outputs": [
    {
     "name": "stdin",
     "output_type": "stream",
     "text": [
      "Enter the number: -5\n"
     ]
    },
    {
     "name": "stdout",
     "output_type": "stream",
     "text": [
      "Most Significant Bit of -5 is 1\n"
     ]
    }
   ],
   "source": [
    "# SOLUTION\n",
    "\n",
    "def find_most_significant_bit(decimal_number):\n",
    "    if decimal_number == 0:\n",
    "        return 0\n",
    "    else:\n",
    "        return 1\n",
    "\n",
    "\n",
    "number = int(input(\"Enter the number:\"))\n",
    "most_significant_bit = find_most_significant_bit(number)\n",
    "print(f\"Most Significant Bit of {number} is {most_significant_bit}\")\n"
   ]
  },
  {
   "cell_type": "markdown",
   "id": "51d8c48b-09bf-4800-abbd-b3086ca660f9",
   "metadata": {},
   "source": [
    "<br>\n",
    "\n",
    "**Let's try with another input for verifying:**"
   ]
  },
  {
   "cell_type": "code",
   "execution_count": 51,
   "id": "1a2bfa56-4d04-466e-aba8-05d720358abc",
   "metadata": {},
   "outputs": [
    {
     "name": "stdin",
     "output_type": "stream",
     "text": [
      "Enter the number: 6\n"
     ]
    },
    {
     "name": "stdout",
     "output_type": "stream",
     "text": [
      "Most Significant Bit of 6 is 1\n",
      "\n"
     ]
    }
   ],
   "source": [
    "number = int(input(\"Enter the number:\"))\n",
    "most_significant_bit = find_most_significant_bit(number)\n",
    "print(f\"Most Significant Bit of {number} is {most_significant_bit}\")\n",
    "\n",
    "print()"
   ]
  },
  {
   "cell_type": "markdown",
   "id": "16a9c690-f07a-4fff-bc7f-a6a2f10c1d3b",
   "metadata": {},
   "source": [
    "<br>\n",
    "\n",
    "**Let's try with another input for verifying:**"
   ]
  },
  {
   "cell_type": "code",
   "execution_count": 53,
   "id": "acde1c69-3e4c-40be-92e4-59c16f3346ec",
   "metadata": {},
   "outputs": [
    {
     "name": "stdin",
     "output_type": "stream",
     "text": [
      "Enter the number: 0\n"
     ]
    },
    {
     "name": "stdout",
     "output_type": "stream",
     "text": [
      "Most Significant Bit of 0 is 0\n",
      "\n"
     ]
    }
   ],
   "source": [
    "number = int(input(\"Enter the number:\"))\n",
    "most_significant_bit = find_most_significant_bit(number)\n",
    "print(f\"Most Significant Bit of {number} is {most_significant_bit}\")\n",
    "\n",
    "print()\n"
   ]
  },
  {
   "cell_type": "markdown",
   "id": "2b741142-bbd9-4f89-9855-67d85e50ff51",
   "metadata": {},
   "source": [
    "<br>\n",
    "\n",
    "#### <span style=\"background-color: #CAFEFD\">&nbsp;**Solution-2**&nbsp;</span> &nbsp;&nbsp;(Assumption - <span style=\"color: blue\">**fixed length two's complement system**</span> )\n",
    "\n",
    "<span style=\"background-color: #FBE2FF\">using **Left Shift** Operator</span>\n",
    "\n",
    "<br>\n",
    "\n",
    "Now since we know that the <span style=\"color: red\">**getsizeof()**</span> function from <span style=\"color: red\">**sys**</span> module returns the number of bytes that Python uses to represent an integer **along with it's overhead**, <span style=\"background-color: #FFF862\"> so let's assume **32 bits fixed representation** with **two's complement format** for this question</span> :\n",
    "\n",
    "<br>"
   ]
  },
  {
   "cell_type": "code",
   "execution_count": 63,
   "id": "141ef39c-50f4-4db9-a153-b45a52a06f3f",
   "metadata": {},
   "outputs": [
    {
     "name": "stdin",
     "output_type": "stream",
     "text": [
      "Enter the number: -5\n"
     ]
    },
    {
     "name": "stdout",
     "output_type": "stream",
     "text": [
      "Most Significant Bit of -5 is 1\n",
      "\n"
     ]
    }
   ],
   "source": [
    "def find_most_significant_bit(decimal_number):\n",
    "    if (decimal_number & (1 << (32 -1))) == 0:         # since 0 is the masking bit and 1 is the unmasking bit in bitwise AND operation.\n",
    "        return 0\n",
    "    else:\n",
    "        return 1\n",
    "\n",
    "\n",
    "number = int(input(\"Enter the number:\"))\n",
    "most_significant_bit = find_most_significant_bit(number)\n",
    "print(f\"Most Significant Bit of {number} is {most_significant_bit}\")\n",
    "\n",
    "print()"
   ]
  },
  {
   "cell_type": "markdown",
   "id": "1053b9e1-e604-4b4f-bb18-2033209fa010",
   "metadata": {},
   "source": [
    "<br>\n",
    "\n",
    "**Let's try with another input for verifying:**"
   ]
  },
  {
   "cell_type": "code",
   "execution_count": 64,
   "id": "4083e006-ec6e-4166-8f28-bdc8d4bfd4a4",
   "metadata": {},
   "outputs": [
    {
     "name": "stdin",
     "output_type": "stream",
     "text": [
      "Enter the number: 8\n"
     ]
    },
    {
     "name": "stdout",
     "output_type": "stream",
     "text": [
      "Most Significant Bit of 8 is 0\n",
      "\n"
     ]
    }
   ],
   "source": [
    "number = int(input(\"Enter the number:\"))\n",
    "most_significant_bit = find_most_significant_bit(number)\n",
    "print(f\"Most Significant Bit of {number} is {most_significant_bit}\")\n",
    "\n",
    "print()"
   ]
  },
  {
   "cell_type": "markdown",
   "id": "73f12943-3e0e-4da5-9bf6-a34a8d419ac1",
   "metadata": {},
   "source": [
    "<br>\n",
    "\n",
    "**Let's try with another input for verifying:**"
   ]
  },
  {
   "cell_type": "code",
   "execution_count": 65,
   "id": "e9f4f3a2-202c-4f5c-8319-a6577759eb27",
   "metadata": {},
   "outputs": [
    {
     "name": "stdin",
     "output_type": "stream",
     "text": [
      "Enter the number: 0\n"
     ]
    },
    {
     "name": "stdout",
     "output_type": "stream",
     "text": [
      "Most Significant Bit of 0 is 0\n",
      "\n"
     ]
    }
   ],
   "source": [
    "number = int(input(\"Enter the number:\"))\n",
    "most_significant_bit = find_most_significant_bit(number)\n",
    "print(f\"Most Significant Bit of {number} is {most_significant_bit}\")\n",
    "\n",
    "print()"
   ]
  },
  {
   "cell_type": "code",
   "execution_count": null,
   "id": "5d245ea8-3cb7-44e6-a2ea-6e6c75d3c60c",
   "metadata": {},
   "outputs": [],
   "source": []
  },
  {
   "cell_type": "markdown",
   "id": "f043cb28-2783-4dc5-83c8-54544d000aac",
   "metadata": {},
   "source": [
    "<br>\n",
    "\n",
    "--------------------------------------------\n",
    "\n",
    "<br>\n",
    "\n",
    "\n",
    "### 3. Write a Python program to <span style =\"background-color: yellow\">get nth bit of a number</span>.\n",
    "\n",
    "<br>\n",
    "\n",
    "#### <span style=\"background-color: #CAFEFD\">**Solution-1**</span> : <span style=\"background-color: #FBE2FF\">using **Left Shift** Operator</span>\n"
   ]
  },
  {
   "cell_type": "code",
   "execution_count": 87,
   "id": "cdb1c985-b346-4e8f-b5fd-277e2b9f714e",
   "metadata": {},
   "outputs": [
    {
     "name": "stdin",
     "output_type": "stream",
     "text": [
      "Enter a number : -5\n",
      "Enter the bit position from right you want to get the bit value of : 2\n"
     ]
    },
    {
     "name": "stdout",
     "output_type": "stream",
     "text": [
      "\n",
      "Starting from the right side of the binary representation of -5, the bit at position 2 is 1\n",
      "\n",
      "\n",
      "\n",
      "        -5 ========> 1 1 1 1 1 1 1 1 1 1 1 1 1 1 1 1 1 1 1 1 1 1 1 1 1 1 1 1 1 0 1 1       \n",
      "    &   1 << 1 ====> 0 0 0 0 0 0 0 0 0 0 0 0 0 0 0 0 0 0 0 0 0 0 0 0 0 0 0 0 0 0 1 0\n",
      "   ------------------------------------------------------------------------------------\n",
      "                     0 0 0 0 0 0 0 0 0 0 0 0 0 0 0 0 0 0 0 0 0 0 0 0 0 0 0 0 0 0 1 0\n",
      "   ------------------------------------------------------------------------------------\n",
      "\n",
      "\n"
     ]
    }
   ],
   "source": [
    "# SOLUTION-1\n",
    "\n",
    "def find_nth_bit(decimal_number,position):\n",
    "    if (decimal_number & (1 << (position - 1))) == 0:\n",
    "        return 0\n",
    "    else:\n",
    "        return 1\n",
    "\n",
    "\n",
    "number = int(input(\"Enter a number :\"))\n",
    "n = int(input(\"Enter the bit position from right you want to get the bit value of :\"))\n",
    "\n",
    "nth_bit = find_nth_bit(number,n)    # calling the function\n",
    "\n",
    "print()                             # just to give an empty line for better display of result\n",
    "print(f\"Starting from the right side of the binary representation of {number}, the bit at position {n} is {nth_bit}\")\n",
    "print()                             # just to give an empty line for better display of result\n",
    "\n",
    "print('''\n",
    "\n",
    "        -5 ========> 1 1 1 1 1 1 1 1 1 1 1 1 1 1 1 1 1 1 1 1 1 1 1 1 1 1 1 1 1 0 1 1       \n",
    "    &   1 << 1 ====> 0 0 0 0 0 0 0 0 0 0 0 0 0 0 0 0 0 0 0 0 0 0 0 0 0 0 0 0 0 0 1 0\n",
    "   ------------------------------------------------------------------------------------\n",
    "                     0 0 0 0 0 0 0 0 0 0 0 0 0 0 0 0 0 0 0 0 0 0 0 0 0 0 0 0 0 0 1 0\n",
    "   ------------------------------------------------------------------------------------\n",
    "\n",
    "''')"
   ]
  },
  {
   "cell_type": "markdown",
   "id": "9afa564d-2833-4b62-9541-573f1702acbc",
   "metadata": {},
   "source": [
    "<br>\n",
    "\n",
    "**Let's try with another input for verifying:**"
   ]
  },
  {
   "cell_type": "code",
   "execution_count": 84,
   "id": "8aa12487-e604-474d-9f8c-8429efdb8d5e",
   "metadata": {},
   "outputs": [
    {
     "name": "stdin",
     "output_type": "stream",
     "text": [
      "Enter a number : -5\n",
      "Enter the bit position from right you want to get the bit value of : 3\n"
     ]
    },
    {
     "name": "stdout",
     "output_type": "stream",
     "text": [
      "\n",
      "Starting from the right side of the binary representation of -5, the bit at position 3 is 0\n",
      "\n",
      "\n",
      "\n",
      "        -5 ========> 1 1 1 1 1 1 1 1 1 1 1 1 1 1 1 1 1 1 1 1 1 1 1 1 1 1 1 1 1 0 1 1       \n",
      "    &   1 << 2 ====> 0 0 0 0 0 0 0 0 0 0 0 0 0 0 0 0 0 0 0 0 0 0 0 0 0 0 0 0 0 1 0 0\n",
      "   ------------------------------------------------------------------------------------\n",
      "                     0 0 0 0 0 0 0 0 0 0 0 0 0 0 0 0 0 0 0 0 0 0 0 0 0 0 0 0 0 0 0 0\n",
      "   ------------------------------------------------------------------------------------\n",
      "\n",
      "\n"
     ]
    }
   ],
   "source": [
    "number = int(input(\"Enter a number :\"))\n",
    "n = int(input(\"Enter the bit position from right you want to get the bit value of :\"))\n",
    "\n",
    "nth_bit = find_nth_bit(number,n)\n",
    "\n",
    "nth_bit = find_nth_bit(number,n)    # calling the function\n",
    "\n",
    "print()                             # just to give an empty line for better display of result\n",
    "print(f\"Starting from the right side of the binary representation of {number}, the bit at position {n} is {nth_bit}\")\n",
    "print()                             # just to give an empty line for better display of result\n",
    "\n",
    "print('''\n",
    "\n",
    "        -5 ========> 1 1 1 1 1 1 1 1 1 1 1 1 1 1 1 1 1 1 1 1 1 1 1 1 1 1 1 1 1 0 1 1       \n",
    "    &   1 << 2 ====> 0 0 0 0 0 0 0 0 0 0 0 0 0 0 0 0 0 0 0 0 0 0 0 0 0 0 0 0 0 1 0 0\n",
    "   ------------------------------------------------------------------------------------\n",
    "                     0 0 0 0 0 0 0 0 0 0 0 0 0 0 0 0 0 0 0 0 0 0 0 0 0 0 0 0 0 0 0 0\n",
    "   ------------------------------------------------------------------------------------\n",
    "\n",
    "''')"
   ]
  },
  {
   "cell_type": "code",
   "execution_count": null,
   "id": "6a577ab1-2a9e-4254-87f7-50c32009b2d6",
   "metadata": {},
   "outputs": [],
   "source": []
  },
  {
   "cell_type": "markdown",
   "id": "e8ed477d-c7f3-47a9-9b45-7486180127d4",
   "metadata": {},
   "source": [
    "<br>\n",
    "\n",
    "--------------------------------------------\n",
    "\n",
    "<br>\n",
    "\n",
    "\n",
    "### 4. Write a Python program to <span style =\"background-color: yellow\">set nth bit of a number</span>.\n",
    "\n",
    "<br>\n",
    "\n",
    "#### <span style=\"background-color: #CAFEFD\">**Solution**</span>\n"
   ]
  },
  {
   "cell_type": "code",
   "execution_count": 75,
   "id": "dc5b29d0-b359-4592-90c5-9714fd848c7f",
   "metadata": {},
   "outputs": [
    {
     "name": "stdin",
     "output_type": "stream",
     "text": [
      "Enter a number : -5\n",
      "Enter the bit position from right you want to set the bit value at : 3\n"
     ]
    },
    {
     "name": "stdout",
     "output_type": "stream",
     "text": [
      "\n",
      "The new number after setting the bit at the 3 position from right = -1\n",
      "\n",
      "\n",
      "\n",
      "        -5 ========> 1 1 1 1 1 1 1 1 1 1 1 1 1 1 1 1 1 1 1 1 1 1 1 1 1 1 1 1 1 0 1 1       \n",
      "    |   1 << 2 ====> 0 0 0 0 0 0 0 0 0 0 0 0 0 0 0 0 0 0 0 0 0 0 0 0 0 0 0 0 0 1 0 0\n",
      "   ------------------------------------------------------------------------------------\n",
      "                     1 1 1 1 1 1 1 1 1 1 1 1 1 1 1 1 1 1 1 1 1 1 1 1 1 1 1 1 1 1 1 1\n",
      "   ------------------------------------------------------------------------------------\n",
      "\n",
      "\n"
     ]
    }
   ],
   "source": [
    "def set_nth_bit(decimal_number, position):\n",
    "    return (decimal_number | (1 << (position - 1)))\n",
    "\n",
    "\n",
    "number = int(input(\"Enter a number :\"))\n",
    "n = int(input(\"Enter the bit position from right you want to set the bit value at :\"))\n",
    "\n",
    "new_number = set_nth_bit(number, n)\n",
    "\n",
    "print()                          # just to give an empty line for better display of result\n",
    "\n",
    "print(f\"The new number after setting the bit at the {n} position from right = {new_number}\")\n",
    "\n",
    "print()                          # just to give an empty line for better display of result\n",
    "\n",
    "\n",
    "print('''\n",
    "\n",
    "        -5 ========> 1 1 1 1 1 1 1 1 1 1 1 1 1 1 1 1 1 1 1 1 1 1 1 1 1 1 1 1 1 0 1 1       \n",
    "    |   1 << 2 ====> 0 0 0 0 0 0 0 0 0 0 0 0 0 0 0 0 0 0 0 0 0 0 0 0 0 0 0 0 0 1 0 0\n",
    "   ------------------------------------------------------------------------------------\n",
    "                     1 1 1 1 1 1 1 1 1 1 1 1 1 1 1 1 1 1 1 1 1 1 1 1 1 1 1 1 1 1 1 1\n",
    "   ------------------------------------------------------------------------------------\n",
    "\n",
    "''')"
   ]
  },
  {
   "cell_type": "markdown",
   "id": "00a70242-7256-43d2-9a88-35ab633789e7",
   "metadata": {},
   "source": [
    "<br>\n",
    "\n",
    "**Let's try with another input for verifying:**"
   ]
  },
  {
   "cell_type": "code",
   "execution_count": 77,
   "id": "19d4f94b-af17-4045-9943-689138959f41",
   "metadata": {},
   "outputs": [
    {
     "name": "stdin",
     "output_type": "stream",
     "text": [
      "Enter a number : -5\n",
      "Enter the bit position from right you want to set the bit value at : 2\n"
     ]
    },
    {
     "name": "stdout",
     "output_type": "stream",
     "text": [
      "\n",
      "new number after setting the bit at the 2 position from right = -5\n",
      "\n",
      "\n",
      "\n",
      "        -5 ========> 1 1 1 1 1 1 1 1 1 1 1 1 1 1 1 1 1 1 1 1 1 1 1 1 1 1 1 1 1 0 1 1       \n",
      "    |   1 << 1 ====> 0 0 0 0 0 0 0 0 0 0 0 0 0 0 0 0 0 0 0 0 0 0 0 0 0 0 0 0 0 0 1 0\n",
      "   ------------------------------------------------------------------------------------\n",
      "                     1 1 1 1 1 1 1 1 1 1 1 1 1 1 1 1 1 1 1 1 1 1 1 1 1 1 1 1 1 0 1 1\n",
      "   ------------------------------------------------------------------------------------\n",
      "\n",
      "   So in this particular case, the new number is same as old number.\n",
      "\n"
     ]
    }
   ],
   "source": [
    "number = int(input(\"Enter a number :\"))\n",
    "n = int(input(\"Enter the bit position from right you want to set the bit value at :\"))\n",
    "\n",
    "new_number = set_nth_bit(number, n)\n",
    "\n",
    "print()                             # just to give an empty line for better display of result\n",
    "\n",
    "print(f\"new number after setting the bit at the {n} position from right = {new_number}\")\n",
    "\n",
    "print()                             # just to give an empty line for better display of result\n",
    "\n",
    "\n",
    "print('''\n",
    "\n",
    "        -5 ========> 1 1 1 1 1 1 1 1 1 1 1 1 1 1 1 1 1 1 1 1 1 1 1 1 1 1 1 1 1 0 1 1       \n",
    "    |   1 << 1 ====> 0 0 0 0 0 0 0 0 0 0 0 0 0 0 0 0 0 0 0 0 0 0 0 0 0 0 0 0 0 0 1 0\n",
    "   ------------------------------------------------------------------------------------\n",
    "                     1 1 1 1 1 1 1 1 1 1 1 1 1 1 1 1 1 1 1 1 1 1 1 1 1 1 1 1 1 0 1 1\n",
    "   ------------------------------------------------------------------------------------\n",
    "\n",
    "   So in this particular case, the new number is same as old number.\n",
    "''')"
   ]
  },
  {
   "cell_type": "markdown",
   "id": "557298a0-cb1e-4b72-8437-a4d2b96d088d",
   "metadata": {},
   "source": [
    "<br>\n",
    "\n",
    "**Let's try with another input for verifying:**"
   ]
  },
  {
   "cell_type": "code",
   "execution_count": 79,
   "id": "8ee67d33-c24b-4314-81aa-2d76809e447d",
   "metadata": {},
   "outputs": [
    {
     "name": "stdin",
     "output_type": "stream",
     "text": [
      "Enter a number : 8\n",
      "Enter the bit position from right you want to set the bit value at : 31\n"
     ]
    },
    {
     "name": "stdout",
     "output_type": "stream",
     "text": [
      "\n",
      "new number after setting the bit at the 31 position from right = 1073741832\n",
      "\n",
      "\n",
      "\n",
      "         8 ========> 0 0 0 0 0 0 0 0 0 0 0 0 0 0 0 0 0 0 0 0 0 0 0 0 0 0 0 0 1 0 0 0     \n",
      "   |   1 << 31 ====> 1 0 0 0 0 0 0 0 0 0 0 0 0 0 0 0 0 0 0 0 0 0 0 0 0 0 0 0 0 0 0 0\n",
      "  --------------------------------------------------------------------------------------\n",
      "                     1 0 0 0 0 0 0 0 0 0 0 0 0 0 0 0 0 0 0 0 0 0 0 0 0 0 0 0 1 0 0 0\n",
      "  --------------------------------------------------------------------------------------\n",
      "  \n",
      "\n"
     ]
    }
   ],
   "source": [
    "number = int(input(\"Enter a number :\"))\n",
    "n = int(input(\"Enter the bit position from right you want to set the bit value at :\"))\n",
    "\n",
    "new_number = set_nth_bit(number, n)\n",
    "\n",
    "print()                             # just to give an empty line for better display of result\n",
    "\n",
    "print(f\"new number after setting the bit at the {n} position from right = {new_number}\")\n",
    "\n",
    "print()                             # just to give an empty line for better display of result\n",
    "\n",
    "\n",
    "print('''\n",
    "\n",
    "         8 ========> 0 0 0 0 0 0 0 0 0 0 0 0 0 0 0 0 0 0 0 0 0 0 0 0 0 0 0 0 1 0 0 0     \n",
    "   |   1 << 31 ====> 1 0 0 0 0 0 0 0 0 0 0 0 0 0 0 0 0 0 0 0 0 0 0 0 0 0 0 0 0 0 0 0\n",
    "  --------------------------------------------------------------------------------------\n",
    "                     1 0 0 0 0 0 0 0 0 0 0 0 0 0 0 0 0 0 0 0 0 0 0 0 0 0 0 0 1 0 0 0\n",
    "  --------------------------------------------------------------------------------------\n",
    "  \n",
    "''')"
   ]
  },
  {
   "cell_type": "code",
   "execution_count": null,
   "id": "9beee0c3-f2ab-41cb-b9f3-a2848f8a2da6",
   "metadata": {},
   "outputs": [],
   "source": []
  },
  {
   "cell_type": "code",
   "execution_count": null,
   "id": "50e43309-e2fc-4723-95eb-2c6751131bd3",
   "metadata": {},
   "outputs": [],
   "source": []
  },
  {
   "cell_type": "code",
   "execution_count": null,
   "id": "47fd500e-6440-4186-9e65-cc95c7daa92b",
   "metadata": {},
   "outputs": [],
   "source": []
  },
  {
   "cell_type": "code",
   "execution_count": null,
   "id": "5258bb11-eaf6-4a0e-b6d4-f64c158b44df",
   "metadata": {},
   "outputs": [],
   "source": []
  },
  {
   "cell_type": "code",
   "execution_count": null,
   "id": "2ffa0bb4-3d31-416e-a3e1-70979c3b7a5f",
   "metadata": {},
   "outputs": [],
   "source": []
  },
  {
   "cell_type": "code",
   "execution_count": null,
   "id": "00d3b66a-5758-4831-bc95-660dd0ba0f7e",
   "metadata": {},
   "outputs": [],
   "source": []
  },
  {
   "cell_type": "code",
   "execution_count": null,
   "id": "708bc63c-6467-488c-aa7f-9ae19b1cc698",
   "metadata": {},
   "outputs": [],
   "source": []
  },
  {
   "cell_type": "code",
   "execution_count": null,
   "id": "053d8b77-6068-4b44-b109-c79e9b179852",
   "metadata": {},
   "outputs": [],
   "source": []
  },
  {
   "cell_type": "code",
   "execution_count": null,
   "id": "89412492-0b2b-4725-9082-e000567f6746",
   "metadata": {},
   "outputs": [],
   "source": []
  },
  {
   "cell_type": "code",
   "execution_count": null,
   "id": "0d7b6f9b-abed-4b39-897f-586d7f27cfb3",
   "metadata": {},
   "outputs": [],
   "source": []
  },
  {
   "cell_type": "code",
   "execution_count": null,
   "id": "4ad277d9-9c84-4290-9496-10aa333ff2ad",
   "metadata": {},
   "outputs": [],
   "source": []
  },
  {
   "cell_type": "code",
   "execution_count": null,
   "id": "35bdab21-926b-49be-af06-9127894bc113",
   "metadata": {},
   "outputs": [],
   "source": []
  },
  {
   "cell_type": "code",
   "execution_count": null,
   "id": "b80c96dc-fadd-4d59-9b6b-f637d55262ea",
   "metadata": {},
   "outputs": [],
   "source": []
  },
  {
   "cell_type": "code",
   "execution_count": null,
   "id": "7e2735b3-aec1-423c-8a9e-9739f1259e43",
   "metadata": {},
   "outputs": [],
   "source": []
  },
  {
   "cell_type": "code",
   "execution_count": null,
   "id": "6275fab6-49ed-41fa-ae9f-d19bb324767d",
   "metadata": {},
   "outputs": [],
   "source": []
  },
  {
   "cell_type": "code",
   "execution_count": null,
   "id": "2e772e2f-b210-45d6-8a83-e37adaaa3259",
   "metadata": {},
   "outputs": [],
   "source": []
  },
  {
   "cell_type": "code",
   "execution_count": null,
   "id": "6ed6ea55-ac52-4568-b1be-c126e3a56a3c",
   "metadata": {},
   "outputs": [],
   "source": []
  },
  {
   "cell_type": "code",
   "execution_count": null,
   "id": "0fd613e6-c78d-4edf-b24d-dc282dc50b2a",
   "metadata": {},
   "outputs": [],
   "source": []
  },
  {
   "cell_type": "code",
   "execution_count": null,
   "id": "a9a2853d-bb3f-4f5a-a952-01a67529b769",
   "metadata": {},
   "outputs": [],
   "source": []
  },
  {
   "cell_type": "code",
   "execution_count": null,
   "id": "eae86802-a1ed-4b1a-98ac-6ad46e950ffe",
   "metadata": {},
   "outputs": [],
   "source": []
  },
  {
   "cell_type": "code",
   "execution_count": null,
   "id": "59c8161d-2c44-4e4e-b92c-3f138cb1fe33",
   "metadata": {},
   "outputs": [],
   "source": []
  },
  {
   "cell_type": "code",
   "execution_count": null,
   "id": "360dd552-450a-4e94-ae98-5bde986d93bc",
   "metadata": {},
   "outputs": [],
   "source": []
  },
  {
   "cell_type": "code",
   "execution_count": null,
   "id": "264ea0d5-bfd0-475c-abeb-6e1252d012f6",
   "metadata": {},
   "outputs": [],
   "source": []
  },
  {
   "cell_type": "code",
   "execution_count": null,
   "id": "219c2362-7a0b-4f3b-aef7-7dc0c7ecd9d1",
   "metadata": {},
   "outputs": [],
   "source": []
  },
  {
   "cell_type": "code",
   "execution_count": null,
   "id": "92250406-3d96-4c17-9f87-91a98662910f",
   "metadata": {},
   "outputs": [],
   "source": []
  },
  {
   "cell_type": "code",
   "execution_count": null,
   "id": "9ba0c80e-d80a-4bc7-a27b-efea9a305e51",
   "metadata": {},
   "outputs": [],
   "source": []
  },
  {
   "cell_type": "markdown",
   "id": "473a4571-3c1c-4e28-a312-c6dd6238ebc5",
   "metadata": {},
   "source": [
    "<br>\n",
    "\n",
    "<br>\n",
    "\n",
    "<span style=\"color: blue\"> █ █ █ █ █ █ █ █ █ █ █ █ █ █ █ █ █ █ █ █ █ █ █ █ █ █ █ █ █ █  █ █ █ █ █ █ █ █ █ █ █ █ █ █ █ █ █ █ █ █ █ █ █ █  █ █ █ █ █ █ █ █ █ █ █ █ █ █ █ █ █ █ █ █ █ █ █ █  </span>\n",
    "\n",
    " <br>\n",
    "\n",
    " <br>"
   ]
  },
  {
   "cell_type": "markdown",
   "id": "6d108aec-cf20-4b61-b00c-623d25779a4a",
   "metadata": {},
   "source": [
    "# Conditional Operators"
   ]
  },
  {
   "cell_type": "markdown",
   "id": "a7a983a3-43e5-4067-a0e7-d6713d2a1389",
   "metadata": {},
   "source": [
    "#### 1. Write a Python program to <span style =\"background-color: yellow\">find maximum between two numbers using conditional operator</span>."
   ]
  },
  {
   "cell_type": "code",
   "execution_count": 10,
   "id": "3817e0a5-7740-4b48-b1b4-390eee43258d",
   "metadata": {},
   "outputs": [
    {
     "name": "stdin",
     "output_type": "stream",
     "text": [
      "Enter the 1st number:  6\n",
      "Enter the 2nd number:  4\n"
     ]
    },
    {
     "name": "stdout",
     "output_type": "stream",
     "text": [
      "6 is greater than 4\n"
     ]
    }
   ],
   "source": [
    "n1 = int(input(\"Enter the 1st number: \"))\n",
    "n2 = int(input(\"Enter the 2nd number: \"))\n",
    "\n",
    "if n1 > n2:\n",
    "    print(f\"{n1} is greater than {n2}\")\n",
    "else:\n",
    "    print(f\"{n2} is greater than {n1}\")\n"
   ]
  },
  {
   "cell_type": "markdown",
   "id": "c3190d2a-baf2-4894-9eb4-aa1dae78e373",
   "metadata": {},
   "source": [
    "<br>\n",
    "\n",
    "--------------------------------------------\n",
    "\n",
    "<br>\n",
    "\n",
    "#### 2. Write a Python program to <span style =\"background-color: yellow\">find maximum between three numbers using conditional operator</span>.\n"
   ]
  },
  {
   "cell_type": "markdown",
   "id": "45d1d38f-91af-4bb1-8f61-efaa0ed6b773",
   "metadata": {},
   "source": [
    "<br>\n",
    "\n",
    "<span style=\"background-color: #CAFEFD\">**Solution-1**</span>"
   ]
  },
  {
   "cell_type": "code",
   "execution_count": 38,
   "id": "82c00371-4617-41c7-b44e-3c3e531970d9",
   "metadata": {},
   "outputs": [
    {
     "name": "stdin",
     "output_type": "stream",
     "text": [
      "Enter the 1st number:  3\n",
      "Enter the 2nd number:  5\n",
      "Enter the 3rd number:  1\n"
     ]
    },
    {
     "name": "stdout",
     "output_type": "stream",
     "text": [
      "The maximum number is: 5\n"
     ]
    }
   ],
   "source": [
    "\n",
    "def find_maximum(num1, num2, num3):\n",
    "    if num1 > num2 and num1 > num3:\n",
    "        return num1\n",
    "    elif num2 > num3:\n",
    "        return num2\n",
    "    else:\n",
    "        return num3\n",
    "\n",
    "\n",
    "number1 = int(input(\"Enter the 1st number: \"))\n",
    "number2 = int(input(\"Enter the 2nd number: \"))\n",
    "number3 = int(input(\"Enter the 3rd number: \"))\n",
    "\n",
    "\n",
    "maximum_number = find_maximum(number1, number2, number3)\n",
    "print(\"The maximum number is:\", maximum_number)\n"
   ]
  },
  {
   "cell_type": "markdown",
   "id": "fa056b42-d4d3-4ad9-b621-e2b639d3e2fe",
   "metadata": {},
   "source": [
    "<br>\n",
    "\n",
    "<span style=\"background-color: #CAFEFD\">**Solution-2**</span> : &nbsp;&nbsp;using built-in **MAX()** fnction"
   ]
  },
  {
   "cell_type": "code",
   "execution_count": 40,
   "id": "7b949a3f-042a-4b90-bd6b-fbefac8a0db2",
   "metadata": {},
   "outputs": [
    {
     "name": "stdin",
     "output_type": "stream",
     "text": [
      "Enter the 1st number:  3\n",
      "Enter the 2nd number:  5\n",
      "Enter the 3rd number:  1\n"
     ]
    },
    {
     "name": "stdout",
     "output_type": "stream",
     "text": [
      "The maximum number is: 5\n"
     ]
    }
   ],
   "source": [
    "def find_maximum(num1, num2, num3):\n",
    "    return max(num1,num2,num3)\n",
    "\n",
    "\n",
    "number1 = int(input(\"Enter the 1st number: \"))\n",
    "number2 = int(input(\"Enter the 2nd number: \"))\n",
    "number3 = int(input(\"Enter the 3rd number: \"))\n",
    "\n",
    "\n",
    "maximum_number = find_maximum(number1, number2, number3)\n",
    "print(\"The maximum number is:\", maximum_number)\n"
   ]
  },
  {
   "cell_type": "markdown",
   "id": "b2f64bee-a708-4201-99d3-2b8ca42884ef",
   "metadata": {},
   "source": [
    "<br>\n",
    "\n",
    "--------------------------------------------\n",
    "\n",
    "<br>\n",
    "\n",
    "#### 3. Write a Python program to <span style =\"background-color: yellow\">check even or odd number using conditional operator</span>.\n"
   ]
  },
  {
   "cell_type": "markdown",
   "id": "bab13175-6798-47d7-8615-b67580204ad4",
   "metadata": {},
   "source": [
    "<br>\n",
    "\n",
    "<span style=\"background-color: #CAFEFD\">**Solution-1**</span> : &nbsp;&nbsp;using **Modulus** operator"
   ]
  },
  {
   "cell_type": "code",
   "execution_count": 45,
   "id": "1774c437-9212-4dcc-9f50-5e96d9633eba",
   "metadata": {},
   "outputs": [
    {
     "name": "stdin",
     "output_type": "stream",
     "text": [
      "Enter a number:  3\n"
     ]
    },
    {
     "name": "stdout",
     "output_type": "stream",
     "text": [
      "3 is an odd number\n"
     ]
    }
   ],
   "source": [
    "def find_odd_even(num):\n",
    "    if num % 2 == 0:\n",
    "        return \"even\"\n",
    "    else:\n",
    "        return \"odd\"\n",
    "\n",
    "number = int(input(\"Enter a number: \"))\n",
    "\n",
    "odd_even_flag = find_odd_even(number)\n",
    "print(f\"{number} is an {odd_even_flag} number\")"
   ]
  },
  {
   "cell_type": "markdown",
   "id": "fbd1f4f7-0413-4dcb-a8e6-e3a19ecf9aea",
   "metadata": {},
   "source": [
    "<br>\n",
    "\n",
    "<span style=\"background-color: #CAFEFD\">**Solution-2**</span>: &nbsp;&nbsp;using **Bitwise** operator"
   ]
  },
  {
   "cell_type": "code",
   "execution_count": 56,
   "id": "8d0dd1de-86cd-4257-adc5-f573a4ba9025",
   "metadata": {},
   "outputs": [
    {
     "name": "stdin",
     "output_type": "stream",
     "text": [
      "Enter a number:  4\n"
     ]
    },
    {
     "name": "stdout",
     "output_type": "stream",
     "text": [
      "4 is an even number\n"
     ]
    }
   ],
   "source": [
    "# SOLUTION-2A\n",
    "\n",
    "def find_least_signicant_bit(decimal_number):\n",
    "    return decimal_number & 1\n",
    "\n",
    "\n",
    "def find_odd_even(lsb):\n",
    "    if lsb == 0:\n",
    "        return \"even\"\n",
    "    else:\n",
    "        return \"odd\" \n",
    "\n",
    "\n",
    "number = int(input(\"Enter a number: \"))\n",
    "\n",
    "least_significant_bit = find_least_signicant_bit(number)\n",
    "\n",
    "odd_even_flag = find_odd_even(least_significant_bit)\n",
    "\n",
    "print(f\"{number} is an {odd_even_flag} number\")"
   ]
  },
  {
   "cell_type": "markdown",
   "id": "d6bb927c-fdd1-428a-a1aa-404fedab1105",
   "metadata": {},
   "source": [
    "<br>\n",
    "\n",
    "We can **optimize** it by combining the work of 2 functions in 1 function only :"
   ]
  },
  {
   "cell_type": "code",
   "execution_count": 57,
   "id": "ccc5c354-af71-4d8f-8681-a928036c494c",
   "metadata": {},
   "outputs": [
    {
     "name": "stdin",
     "output_type": "stream",
     "text": [
      "Enter a number:  4\n"
     ]
    },
    {
     "name": "stdout",
     "output_type": "stream",
     "text": [
      "4 is an even number\n"
     ]
    }
   ],
   "source": [
    "# SOLUTION-2B\n",
    "\n",
    "def find_odd_even(decimal_number):\n",
    "    if decimal_number & 1 == 0:\n",
    "        return \"even\"\n",
    "    else:\n",
    "        return \"odd\" \n",
    "\n",
    "\n",
    "number = int(input(\"Enter a number: \"))\n",
    "\n",
    "odd_even_flag = find_odd_even(number)\n",
    "\n",
    "print(f\"{number} is an {odd_even_flag} number\")"
   ]
  },
  {
   "cell_type": "code",
   "execution_count": null,
   "id": "45834813-d79d-4711-bd95-a81aadf6cebb",
   "metadata": {},
   "outputs": [],
   "source": []
  },
  {
   "cell_type": "code",
   "execution_count": null,
   "id": "a4ce5edc-084c-4beb-88c7-2e6e1a853d61",
   "metadata": {},
   "outputs": [],
   "source": []
  },
  {
   "cell_type": "code",
   "execution_count": null,
   "id": "b840d23e-baf7-4fcc-9090-14431681a084",
   "metadata": {},
   "outputs": [],
   "source": []
  },
  {
   "cell_type": "code",
   "execution_count": null,
   "id": "165e7a12-f2e6-49cd-b806-fda560b2672b",
   "metadata": {},
   "outputs": [],
   "source": []
  },
  {
   "cell_type": "code",
   "execution_count": null,
   "id": "37f649ef-7d33-4c2f-b7b0-4648c8d6b7ef",
   "metadata": {},
   "outputs": [],
   "source": []
  },
  {
   "cell_type": "code",
   "execution_count": null,
   "id": "b6dd463b-6b79-48ac-9847-f535cd535906",
   "metadata": {},
   "outputs": [],
   "source": []
  }
 ],
 "metadata": {
  "kernelspec": {
   "display_name": "Python 3 (ipykernel)",
   "language": "python",
   "name": "python3"
  },
  "language_info": {
   "codemirror_mode": {
    "name": "ipython",
    "version": 3
   },
   "file_extension": ".py",
   "mimetype": "text/x-python",
   "name": "python",
   "nbconvert_exporter": "python",
   "pygments_lexer": "ipython3",
   "version": "3.11.3"
  }
 },
 "nbformat": 4,
 "nbformat_minor": 5
}
