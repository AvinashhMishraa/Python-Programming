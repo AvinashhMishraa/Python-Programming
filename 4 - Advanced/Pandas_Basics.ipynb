{
 "cells": [
  {
   "cell_type": "markdown",
   "id": "6b317e8d-0323-4461-9415-39be6dab3193",
   "metadata": {
    "jp-MarkdownHeadingCollapsed": true
   },
   "source": [
    "### Important &nbsp;&nbsp;Links"
   ]
  },
  {
   "cell_type": "markdown",
   "id": "df6da3a5-0f31-4186-8e51-a72928365d70",
   "metadata": {},
   "source": [
    "<br>\n",
    "\n",
    "<div style=\"background-color: yellow;\">\n",
    "    \n",
    "https://pandas.pydata.org/docs/\n",
    "\n",
    "https://www.youtube.com/watch?v=gtjxAH8uaP0   (Frecodingtutorial - Best for practice)\n",
    "\n",
    "https://www.geeksforgeeks.org/pandas-tutorial/?ref=outindfooter\n",
    "\n",
    "https://www.geeksforgeeks.org/how-to-learn-pandas/#saving-data\n",
    "\n",
    "https://www.learndatasci.com/tutorials/python-pandas-tutorial-complete-introduction-for-beginners/\n",
    "\n",
    "https://medium.com/analytics-vidhya/pandas-complete-guide-a-z-36ba8bd15232\n",
    "\n",
    "</div>\n",
    "\n",
    "\n",
    "\n",
    "<br><br>\n",
    "\n",
    "\n",
    "- https://deepnote.com/workspace/avi-chawla-695b-aee6f4ef-2d50-4fb6-9ef2-20ee1022995a/project/Pandas-Notebook-1-d693ac55-6455-40cf-ae34-867c6a02014e/notebook/6449493c84734151b11f4b6871f045d2#99f75bf946d04b9bb1daa9e14c2cfea9\n",
    "\n",
    "\n",
    "- https://deepnote.com/workspace/avi-chawla-695b-aee6f4ef-2d50-4fb6-9ef2-20ee1022995a/project/Pandas-Notebook-employee-dataset-7e3b6755-5d4b-464b-9b75-9c84667ae3bd/notebook/notebook-0de50f3b70834570b13b651dde44c491\n",
    "\n",
    "- https://deepnote.com/workspace/avi-chawla-695b-aee6f4ef-2d50-4fb6-9ef2-20ee1022995a/project/Pandas-Notebook-employee-part-2-adc5a3ee-5f61-4725-8e46-ccb07899acfc/notebook/notebook-78e3faf901da4f14881ef24e41c80bf6\n",
    "\n",
    "- https://deepnote.com/workspace/avi-chawla-695b-aee6f4ef-2d50-4fb6-9ef2-20ee1022995a/project/Pandas-after-employee-f84e02a1-fb6a-428e-af90-8dd99855749a/notebook/notebook-134ac20c38ef45e5a4432abd638e6c2e\n",
    "\n",
    "<br>\n",
    "\n",
    "<span style=\"color: red;\">-----------------------------------------------------------------------------------------------------------------------------------------------------------------------------------------------</span>\n",
    "\n",
    "<br>\n",
    "\n",
    "- https://www.youtube.com/watch?v=Gx5qb1uHss4\n",
    "\n",
    "\n",
    "- https://freedium.cfd/https://blog.stackademic.com/excel-sql-and-python-conditional-statements-24198bb5736f  &nbsp;&nbsp;<code style=\"background-color: yellow;\">Python SQL PANDAS NUMPY conditional statements</code>\n",
    "\n",
    "- https://kawsar34.medium.com/learn-pandas-in-15-questions-from-leetcode-c8d0d10c2f0a     &nbsp;&nbsp;<code style=\"background-color: yellow;\">PANDAS </code>\n",
    "\n",
    "- https://kawsar34.medium.com/leetcode-hard-pandas-part-1-6bc739562552    &nbsp;&nbsp;<code style=\"background-color: yellow;\">PANDAS </code>  <br>\n",
    "  https://kawsar34.medium.com/leetcode-30-days-of-pandas-part-1-of-3-6a63f59a8b47   <br>\n",
    "  https://kawsar34.medium.com/leetcode-30-days-of-pandas-part-2-of-3-721fa4bb5191   <br>\n",
    "  https://kawsar34.medium.com/leetcode-30-days-of-pandas-part-3-of-3-3db3f3a41e5f   <br>\n",
    "  https://medium.com/foundational-data-science-interview-questions/q-73-categorizing-foods-15d78ef7d525   <br>\n",
    "  https://medium.com/foundational-data-science-interview-questions/q-61-average-lifetime-value-of-a-customer-670cad0b2206\n",
    "  \n",
    "\n",
    "\n",
    "\n",
    "- https://freedium.cfd/https://medium.com/@thedatabeast/python-uncommon-things-with-pandas-part-2-b6c4eebdb8ab &nbsp;&nbsp;<code style=\"background-color: yellow;\">PANDAS </code> <br>\n",
    "  https://pythongeeks.org/pandas-interview-questions/               <br>\n",
    "  https://www.geeksforgeeks.org/pandas-interview-questions/         <br>\n",
    "\n",
    "\n",
    "\n",
    "- https://www.upgrad.com/blog/pandas-interview-questions-answers-for-freshers-experienced/     &nbsp;&nbsp;<code style=\"background-color: yellow;\">PANDAS </code> <br>\n",
    "\n",
    "  https://medium.com/foundational-data-science-interview-questions/q-85-retail-revenue-trends-69a3b6bcfef8   <br>\n",
    "  https://medium.com/foundational-data-science-interview-questions/q-84-user-messaging-29dcc336a0a0\n",
    "\n",
    "\n",
    "- https://medium.com/foundational-data-science-interview-questions/q-61-average-lifetime-value-of-a-customer-670cad0b2206 &nbsp;&nbsp;<code style=\"background-color: yellow;\">PANDAS </code> <br>\n",
    "\n",
    "- https://medium.com/foundational-data-science-interview-questions/q-88-filtering-strings-in-pandas-dataframes-aaac588396fa &nbsp;&nbsp;<code style=\"background-color: yellow;\">PANDAS </code>\n",
    "\n",
    "- https://medium.com/@sandeepmaths04/16-pandas-interview-questions-to-test-your-data-wrangling-skills-53387d72f9b2   &nbsp;&nbsp;<code style=\"background-color: yellow;\">PANDAS </code>\n",
    "\n",
    "- https://medium.com/@susovan_30602/top-20-python-pandas-interview-questions-and-expert-answers-d05c85897a71    &nbsp;&nbsp;<code style=\"background-color: yellow;\">PANDAS </code>\n",
    "\n",
    "- https://medium.com/@data_analyst/python-most-important-interview-questions-4f71783a17a1\n",
    "\n",
    "- https://freedium.cfd/https://medium.com/@roiyeho/master-level-questions-in-pandas-1fdfc74a19a5   &nbsp;&nbsp;<code style=\"background-color: yellow;\">PANDAS </code>   <br>\n",
    "  https://freedium.cfd/https://medium.com/@roiyeho/solutions-to-master-level-questions-in-pandas-62c6efe57473\n",
    "\n",
    "- https://medium.com/@khushbooalvi9/pandas-interview-questions-e7c4bc8cacfe  &nbsp;&nbsp;<code style=\"background-color: yellow;\">PANDAS </code>\n",
    "\n",
    "- https://adityadaria.medium.com/pandas-interview-questions-for-data-science-dd47787708ff    &nbsp;&nbsp;<code style=\"background-color: yellow;\">PANDAS </code>\n",
    "\n",
    "- https://freedium.cfd/https://medium.com/@kevinmenesesgonzalez/mastering-11-advanced-pandas-puzzles-to-ace-data-science-interview-questions-5aa44bf22496     &nbsp;&nbsp;<code style=\"background-color: yellow;\">PANDAS </code>\n",
    "\n",
    "- https://www.geeksforgeeks.org/pandas-interview-questions/    &nbsp;&nbsp;<code style=\"background-color: yellow;\">PANDAS </code>   <br>\n",
    "  https://www.datacamp.com/blog/top-python-pandas-interview-questions-and-answers\n",
    "\n",
    "  https://pythongeeks.org/pandas-interview-questions/\n",
    "\n",
    "\n",
    "- https://intellipaat.com/blog/interview-question/pandas-interview-questions/    &nbsp;&nbsp;<code style=\"background-color: yellow;\">PANDAS </code> \n",
    "\n",
    "\n",
    "\n",
    "\n",
    "- https://towardsdatascience.com/python-pandas-interview-questions-for-data-science-377dfac4a7a1   &nbsp;&nbsp;<code style=\"background-color: yellow;\">PANDAS </code>\n",
    "\n",
    "\n",
    "- https://www.datacamp.com/blog/top-python-pandas-interview-questions-and-answers     &nbsp;&nbsp;<code style=\"background-color: yellow;\">PANDAS </code>\n",
    "\n",
    "- https://medium.com/@sujathamudadla1213/interview-questions-on-pandas-series-df8a1c83ff93    &nbsp;&nbsp;<code style=\"background-color: yellow;\">PANDAS </code>\n",
    "\n",
    "\n",
    "- https://www.javatpoint.com/python-pandas-interview-questions     &nbsp;&nbsp;<code style=\"background-color: yellow;\">PANDAS </code>\n",
    "\n",
    "\n",
    "\n",
    "- https://www.interviewbit.com/pandas-interview-questions/      &nbsp;&nbsp;<code style=\"background-color: yellow;\">PANDAS </code>\n",
    "\n",
    "\n",
    "- https://mrmaheshrajput.medium.com/superchargd-analytics-with-pandasai-and-chatgpt-238e13ca1b9f   &nbsp;&nbsp;<code style=\"background-color: yellow;\">PANDAS </code>   <br>\n",
    "  https://python.plainenglish.io/most-asked-interview-questions-on-pandas-33af613f1ce9\n",
    "\n",
    "\n",
    "- https://medium.com/@upGrad/10-most-important-pandas-interview-questions-answers-4a81d92cfda2     &nbsp;&nbsp;<code style=\"background-color: yellow;\">PANDAS </code>\n",
    "\n",
    "\n",
    "- https://www.mlstack.cafe/blog/pandas-python-interview-questions    &nbsp;&nbsp;<code style=\"background-color: yellow;\">PANDAS </code>\n",
    "\n",
    "\n",
    "- https://ravi-chan.medium.com/beginners-guide-to-regex-in-pandas-308b79e477e6    &nbsp;&nbsp;<code style=\"background-color: yellow;\">PANDAS </code>\n",
    "\n",
    "- https://python.plainenglish.io/top-3-frequently-asked-pandas-analyst-interview-questions-you-should-practice-e02114a80afe     &nbsp;&nbsp;<code style=\"background-color: yellow;\">PANDAS </code>\n",
    "\n",
    "- https://pravash-techie.medium.com/python-libraries-you-should-use-part-2-d8543eb0fc20  &nbsp;&nbsp;<strong>(use it for beautifying notebook)</strong>  <br>\n",
    "  https://pravash-techie.medium.com/python-libraries-you-should-use-part-1-a68d38d23837  <br>\n",
    "  https://freedium.cfd/https://medium.com/pythoneers/debugging-in-python-replace-print-with-ic-and-do-it-like-a-pro-18f330c863cb\n",
    "\n",
    "- https://pravash-techie.medium.com/python-sched-for-automating-tasks-in-python-396618864658\n",
    "\n",
    "- https://pravash-techie.medium.com/python-hidden-features-part-1-3d9817a0385e\n",
    "\n",
    "-  https://medium.com/@stackerrors/example-story-6bd721732204      &nbsp;&nbsp;<code style=\"background-color: yellow;\">PANDAS </code>\n",
    "\n",
    "- https://medium.com/foundational-data-science-interview-questions/q-62-normalizing-student-grades-with-pandas-ba0930163c63   &nbsp;&nbsp;<code style=\"background-color: yellow;\">PANDAS </code>  <br>\n",
    "\n",
    "  https://medium.com/foundational-data-science-interview-questions/q-49-replacing-bad-data-with-pandas-9cdeb9736067\n",
    "\n",
    "- https://medium.com/codewithcorgis/ranking-hosts-by-beds-airbnb-data-interview-question-for-hospitable-data-scientist-%EF%B8%8F-%EF%B8%8F-d050189743a2 &nbsp;&nbsp;&nbsp;&nbsp;<code style=\"background-color: yellow;\">PANDAS</code> &nbsp;&nbsp;<code style=\"background-color: red; color: white\">SQL </code>  <br> <br>\n",
    "\n",
    "\n",
    "\n",
    "\n",
    "\n",
    "- https://freedium.cfd/https://tracyrenee61.medium.com/a-review-of-10-pandas-interview-questions-1d650b18943b  &nbsp;&nbsp;<codE style=\"background-color: yellow;\">PANDAS<code>\n",
    "\n",
    "- https://medium.com/foundational-data-science-interview-questions/q-48-retail-revenue-trends-f6a60242ccc7   &nbsp;&nbsp;<codE style=\"background-color: yellow;\">PANDAS<code>\n",
    "\n",
    "- https://freedium.cfd/https://medium.com/@poojatripathi0697/microsoft-software-engineer-2-data-interview-experience-r1-r2-86fd33241412  &nbsp;&nbsp;<strong>(Python Questions)</strong>\n",
    "\n",
    "- https://pravash-techie.medium.com/python-interesting-facts-about-dictionaries-cd916635e3e0  &nbsp;&nbsp;<strong>(Python Questions)</strong>\n",
    "\n",
    "\n",
    "- https://pravash-techie.medium.com/python-hidden-features-part-2-7d59bbef57ae &nbsp;&nbsp;<strong>(Python Questions)</strong>   <br>\n",
    "  https://freedium.cfd/https://towardsdatascience.com/10-most-frequently-asked-python-dictionary-questions-on-stack-overflow-2cb345f07496\n",
    "\n",
    "- https://freedium.cfd/https://python.plainenglish.io/10-most-frequent-python-data-types-that-are-commonly-used-in-data-engineering-tasks-d1d2af54ec55  &nbsp;&nbsp;<strong>(Python Questions)</strong>\n",
    "\n",
    "- https://freedium.cfd/https://python.plainenglish.io/6-effective-string-concatenation-techniques-in-python-fd2a407b7f79 &nbsp;&nbsp;<strong>(Python Questions)</strong>\n",
    "\n",
    "\n",
    "- https://rameshponnusamy.medium.com/python-basic-interview-questions-594964a7c15e   &nbsp;&nbsp;<strong>(Python Questions)</strong>\n",
    "\n",
    "- https://pravash-techie.medium.com/python-mastering-data-composition-with-chainmap-6c3ced04dc6a   &nbsp;&nbsp;<strong>(Python Important Questions)</strong>\n",
    "\n",
    "- https://freedium.cfd/https://python.plainenglish.io/python-going-beyond-the-basics-with-pandas-advanced-data-engineering-e23c40ca28c9  &nbsp;&nbsp;<strong>(PANDAS)</strong>\n",
    "\n",
    "- https://python.plainenglish.io/python-for-data-engineering-handling-missing-data-in-pandas-dataframe-84a9038ef628  &nbsp;&nbsp;<strong>(PANDAS)</strong>\n",
    "\n",
    "- https://freedium.cfd/https://python.plainenglish.io/why-i-stopped-using-python-list-comprehensions-and-what-i-use-instead-56361fec5628  &nbsp;;<code style=\"color: blue;\">Python</code>\n",
    "\n",
    "- https://pravash-techie.medium.com/python-simplify-your-data-cleaning-with-pyjanitor-79176e9ee586  &nbsp;&nbsp;(API on top on PANADAS)\n",
    "\n",
    "- https://freedium.cfd/https://python.plainenglish.io/optimizing-pandas-dataframe-processing-chunking-for-speed-and-memory-efficiency-68a4c696ac4a  &nbsp;&nbsp;<strong>(PANDAS)</strong>\n",
    "\n",
    "- https://freedium.cfd/https://python.plainenglish.io/must-know-python-interview-questions-for-data-analysis-roles-c977cb81c273  &nbsp;&nbsp;<strong>(PYTHON)</strong>\n",
    "\n",
    "- https://freedium.cfd/https://python.plainenglish.io/how-to-handle-missing-data-in-pandas-a-practical-guide-82625308c874  &nbsp;&nbsp;<strong>(PANDAS)</strong>\n",
    "\n",
    "- https://freedium.cfd/https://blog.stackademic.com/python-coding-questions-for-data-engineer-interview-part-i-easy-lev-d52c3c6e01e6  &nbsp;&nbsp;<strong>(Python Questions)</strong>\n",
    " https://freedium.cfd/https://medium.com/illuminations-mirror/python-coding-questions-for-data-engineer-interview-part-ii-easy-level-b45682509e0b\n",
    "\n",
    "\n",
    "\n",
    "\n",
    "\n",
    "- https://towardsdatascience.com/simplifying-the-python-code-for-data-engineering-projects-95f0c41dc58a   &nbsp;&nbsp;<strong>(Python Questions)</strong>\n",
    "\n",
    "- https://medium.com/itversity/quick-recap-of-python-collections-for-data-processing-718913410e5b   &nbsp;&nbsp;<strong>(Python Questions)</strong>\n",
    "\n",
    "- https://freedium.cfd/https://python.plainenglish.io/difference-between-a-list-a-tuple-and-a-dictionary-in-python-9a8d76fbdd4e  &nbsp;&nbsp;<strong>(Python Questions)</strong>\n",
    "\n",
    "- https://freedium.cfd/https://blog.varunsingh.in/top-10-python-interview-questions-and-answers-2cb4153cd072   &nbsp;&nbsp;<strong>(Python Questions)</strong>\n",
    "\n",
    "- https://pravash-techie.medium.com/python-context-manager-to-simplify-resource-handling-5959a36a0f58 &nbsp;&nbsp;<code>Python</code>\n",
    "\n",
    "- https://freedium.cfd/https://python.plainenglish.io/we-data-engineers-do-data-combining-guide-to-merging-data-in-python-17da86fb66f7  &nbsp;&nbsp;<strong>(Python Questions)</strong>\n",
    "\n",
    "- https://freedium.cfd/https://python.plainenglish.io/from-pandas-to-pyspark-scaling-your-data-analysis-workflows-made-easy-54f4230ef20f \n",
    "\n",
    "- https://freedium.cfd/https://python.plainenglish.io/15-advanced-python-shortcuts-every-developer-should-use-for-faster-coding-8bc56031b835  &nbsp;&nbsp;<span style=\"color: red;\">(Python tricks - Important)</span>\n",
    "\n",
    "- https://freedium.cfd/https://python.plainenglish.io/coding-problems-every-data-engineer-should-know-lessons-from-multiple-interviews-faa1ceffc5b5 &nbsp;&nbsp;<strong>(Python Interview Questions)</strong>\n",
    "\n",
    "- https://freedium.cfd/https://python.plainenglish.io/top-string-manipulation-interview-questions-for-data-engineer-roles-with-comprehensive-solutions-13845eb5971b  &nbsp;&nbsp;<strong>(Python Interview Questions)</strong>\n",
    "\n",
    "- https://freedium.cfd/https://blog.stackademic.com/20-python-scripts-that-will-give-you-superpowers-4c6f4b15fe63\n",
    "\n",
    "- https://freedium.cfd/https://premvishnoi.medium.com/agoda-data-engineer-first-round-interview-experience-01c993ea2b0a  &nbsp;&nbsp;<strong>(Python Interview Questions)</strong>\n",
    "\n",
    "- https://freedium.cfd/https://python.plainenglish.io/top-string-manipulation-interview-questions-for-data-engineer-roles-with-comprehensive-solutions-13845eb5971b  &nbsp;&nbsp;<strong>(Python Interview Questions)</strong>\n",
    "\n",
    "- https://freedium.cfd/https://medium.com/towards-data-engineering/array-problems-you-cant-miss-for-data-engineering-interviews-part-1-75b34b2c4e34  &nbsp;&nbsp;<strong>(Python Interview Questions)</strong>\n",
    "\n",
    "- https://freedium.cfd/p/01c993ea2b0a  &nbsp;&nbsp;<strong>(Python Interview Questions)</strong>\n",
    "\n",
    "- https://freedium.cfd/https://ai.gopubby.com/top-10-pandas-interview-questions-you-should-be-ready-to-answer-2c72ff7acb54\n",
    "\n",
    "  <div style=\"margin-left: 25px; color: red;\">\n",
    "  - What technique is better: <strong>mean</strong> vs. <strong>median</strong> vs. <strong>mode</strong>?   <br>\n",
    "  - What is the role of the <code>groupby()</code> function?                                                 <br>\n",
    "  - Why do you use feature selection?                                                                        <br>\n",
    "  - List out the data validation techniques.                                                                 <br>\n",
    "  - Pick any product or app that you like and describe how you would improve it.                             <br>\n",
    "  - How do you read the text in an image? Explain?\n",
    "      \n",
    "  </div> <br>\n",
    "\n",
    "- https://freedium.cfd/https://medium.com/towards-data-science/how-to-handle-large-datasets-in-python-1f077a7e7ecf\n",
    "- https://medium.com/@abhikshirsagar1999/interview-question-how-to-handle-api-which-contains-the-large-data-8a38a52933d8\n",
    "- https://pravash-techie.medium.com/python-parallelism-vs-concurrency-vs-threading-d74a79065dc8\n",
    "- https://freedium.cfd/https://medium.com/towards-data-engineering/an-introduction-in-great-expectations-with-python-4793a2609e4c  &nbsp;(Data Validation)\n",
    "- https://freedium.cfd/https://towardsdev.com/great-expectations-in-data-quality-management-the-essential-handbook-for-data-guys-1541ecb715ec\n",
    "- https://freedium.cfd/https://premvishnoi.medium.com/my-senior-data-engineer-interview-experience-at-smartnews-8ed43d14e0d4  &nbsp;&nbsp;<strong>(SQL + Python)</strong>\n"
   ]
  },
  {
   "cell_type": "markdown",
   "id": "920275a6-d1ef-47f8-ba4b-9d01762ebeb3",
   "metadata": {},
   "source": [
    "<br>\n",
    "\n",
    "<div style=\"background-color: #f9e9ff; padding: 20px;\">\n",
    "    \n",
    "How do you handle <strong>large data</strong> in context of <u>Python</u>, <u>Numpy</u>, <u>Pandas</u> & <u>Spark</u>? Ask in ChatGPT.\n",
    "\n",
    "- One way is to use batch processing by dividing the data into chunks.    <br>\n",
    "- Another way is to take care of the data types and file formats          <br>\n",
    "- You can also go with Data Compression                                   <br>\n",
    "- Indexing is yet another method                                          <br>\n",
    "- Distributed Computing like Spark can also be used.                      <br>\n",
    "- The concept of cache can also be invoked.                               <br>\n",
    "- Instead of storing all the columns of the intermeditae records for the processing, you can give each record a unique id like primary key and store it for the reference. You don't have to store all the columns.\n",
    "\n",
    "</div>\n",
    "\n",
    "<br>"
   ]
  },
  {
   "cell_type": "code",
   "execution_count": null,
   "id": "54e4225a-d0b8-4f84-9c2b-44bcaee4854c",
   "metadata": {},
   "outputs": [],
   "source": []
  },
  {
   "cell_type": "markdown",
   "id": "9345401a-f60b-4fde-915a-30ad534d8dfb",
   "metadata": {},
   "source": [
    "<br>\n",
    "\n",
    "## <code style=\"background-color: black; color: white;\">Introduction to Pandas Data Structures</code>"
   ]
  },
  {
   "cell_type": "code",
   "execution_count": 2,
   "id": "96fe5435-6ff4-4861-8b3b-b4164187fc01",
   "metadata": {},
   "outputs": [],
   "source": [
    "\n",
    "import numpy as np\n",
    "import pandas as pd\n"
   ]
  },
  {
   "cell_type": "code",
   "execution_count": 5,
   "id": "71727722-6cf0-4c88-b293-85d202c2a915",
   "metadata": {},
   "outputs": [],
   "source": [
    "\n",
    "from pandas import Series, DataFrame\n"
   ]
  },
  {
   "cell_type": "markdown",
   "id": "800ef761-bdaa-4e59-84f1-244b6e3e4b98",
   "metadata": {},
   "source": [
    "<br>\n",
    "\n",
    "<span style=\"color: red; font-size: 1rem;\">Introduction to <strong>pandas</strong> <u>Data Structures</u></span>\n",
    "\n",
    "- Series\n",
    "- Dataframes\n"
   ]
  },
  {
   "cell_type": "markdown",
   "id": "1f4198bb-0d61-49a6-8c67-a0fdd6388271",
   "metadata": {
    "jp-MarkdownHeadingCollapsed": true
   },
   "source": [
    "\n",
    "### <div style=\"color: black; background-color: #ffe9c8; padding: 10px;\"> <code style=\"font-size: 1.3rem; background-color: #ffe9c8; color: red;\"><strong>Series</strong></code> &nbsp;(1D array)</div>\n"
   ]
  },
  {
   "cell_type": "markdown",
   "id": "cb425e6a-5036-40df-b607-c5cacfd3b8ee",
   "metadata": {},
   "source": [
    "\n",
    "<span style=\"color: #a245ff;\">Similar to <strong>Numpy vector</strong></span>"
   ]
  },
  {
   "cell_type": "code",
   "execution_count": 3,
   "id": "e3f763e4-b0d8-4399-ae27-12e048b910a4",
   "metadata": {},
   "outputs": [
    {
     "data": {
      "text/plain": [
       "0    4\n",
       "1    7\n",
       "2   -5\n",
       "3    3\n",
       "dtype: int64"
      ]
     },
     "execution_count": 3,
     "metadata": {},
     "output_type": "execute_result"
    }
   ],
   "source": [
    "\n",
    "obj = pd.Series([4, 7, -5, 3])\n",
    "\n",
    "obj\n"
   ]
  },
  {
   "cell_type": "markdown",
   "id": "2365d842-6a62-4f48-a93e-09d43fa44647",
   "metadata": {},
   "source": [
    "\n",
    "<br>\n",
    "\n",
    "<code style=\"background-color: #ffff62;\"><span style=\"color: #a245ff; font-size: 0.8rem;\">obj</span>.<span style=\"font-size: 1rem;\"><strong>array</strong></span></code> &nbsp;&nbsp;&nbsp;&nbsp;&&nbsp;&nbsp;&nbsp;&nbsp; <code style=\"background-color: #ffff62;\"><span style=\"color: #a245ff; font-size: 0.8rem;\">obj</span>.<span style=\"font-size: 1rem;\"><strong>index</strong></span></code>\n"
   ]
  },
  {
   "cell_type": "code",
   "execution_count": 4,
   "id": "eb745958-6699-4f9d-95c6-0144b98a2458",
   "metadata": {},
   "outputs": [
    {
     "data": {
      "text/plain": [
       "<PandasArray>\n",
       "[4, 7, -5, 3]\n",
       "Length: 4, dtype: int64"
      ]
     },
     "execution_count": 4,
     "metadata": {},
     "output_type": "execute_result"
    }
   ],
   "source": [
    "\n",
    "obj.array\n"
   ]
  },
  {
   "cell_type": "code",
   "execution_count": 5,
   "id": "f8bbfd6c-6239-40e3-80f8-e97871787003",
   "metadata": {},
   "outputs": [
    {
     "data": {
      "text/plain": [
       "RangeIndex(start=0, stop=4, step=1)"
      ]
     },
     "execution_count": 5,
     "metadata": {},
     "output_type": "execute_result"
    }
   ],
   "source": [
    "\n",
    "obj.index\n"
   ]
  },
  {
   "cell_type": "markdown",
   "id": "cab3fd58-3ad6-4940-b7c3-170cae98aa39",
   "metadata": {
    "jp-MarkdownHeadingCollapsed": true
   },
   "source": [
    "\n",
    "<br>\n",
    "\n",
    "##### <span style=\"color: #ffb585;\">----------------------------------------------------------------------------------------------------------------------------------------------------------------------------------------------</span>\n",
    "\n",
    "<span style=\"font-size: 0.9rem; color: black; font-size: 1.3rem;\">🔶</span> &nbsp;&nbsp;<span style=\"color: #f76607;\">If you want to create a Series with an index identifying each data point with a label :</span>\n"
   ]
  },
  {
   "cell_type": "code",
   "execution_count": 6,
   "id": "5d7ebb87-6103-437a-9fce-715ab0b81d11",
   "metadata": {},
   "outputs": [
    {
     "data": {
      "text/plain": [
       "d    4\n",
       "b    7\n",
       "a   -5\n",
       "c    3\n",
       "dtype: int64"
      ]
     },
     "execution_count": 6,
     "metadata": {},
     "output_type": "execute_result"
    }
   ],
   "source": [
    "\n",
    "obj2 = pd.Series([4, 7, -5, 3], index=[\"d\", \"b\", \"a\", \"c\"])\n",
    "\n",
    "obj2\n"
   ]
  },
  {
   "cell_type": "code",
   "execution_count": 7,
   "id": "9f4f0637-f271-4f20-9f6c-a985a27e6ce3",
   "metadata": {},
   "outputs": [
    {
     "data": {
      "text/plain": [
       "Index(['d', 'b', 'a', 'c'], dtype='object')"
      ]
     },
     "execution_count": 7,
     "metadata": {},
     "output_type": "execute_result"
    }
   ],
   "source": [
    "\n",
    "obj2.index\n"
   ]
  },
  {
   "cell_type": "markdown",
   "id": "66f34154-c82b-4f47-8f1e-c7aa748664a4",
   "metadata": {
    "jp-MarkdownHeadingCollapsed": true
   },
   "source": [
    "<br>\n",
    "\n",
    "##### <span style=\"color: #ffb585;\">----------------------------------------------------------------------------------------------------------------------------------------------------------------------------------------------</span>\n",
    "\n",
    "<span style=\"font-size: 0.9rem; color: black; font-size: 1.3rem;\">🔶</span> &nbsp;&nbsp;<span style=\"color: #f76607;\">Compared with <strong>NumPy arrays</strong> , you can use labels in the index when selecting <strong>single values</strong> or a <strong>set of values</strong> :</span>"
   ]
  },
  {
   "cell_type": "code",
   "execution_count": 8,
   "id": "3958c7d6-ddd3-47e7-b8d2-ab2ad5f34084",
   "metadata": {},
   "outputs": [
    {
     "data": {
      "text/plain": [
       "-5"
      ]
     },
     "execution_count": 8,
     "metadata": {},
     "output_type": "execute_result"
    }
   ],
   "source": [
    "\n",
    "obj2[\"a\"]\n"
   ]
  },
  {
   "cell_type": "code",
   "execution_count": 9,
   "id": "cd176427-f90f-43f4-b85f-3620cc87c040",
   "metadata": {},
   "outputs": [
    {
     "data": {
      "text/plain": [
       "c    3\n",
       "a   -5\n",
       "d    6\n",
       "dtype: int64"
      ]
     },
     "execution_count": 9,
     "metadata": {},
     "output_type": "execute_result"
    }
   ],
   "source": [
    "\n",
    "obj2[\"d\"] = 6\n",
    "\n",
    "obj2[[\"c\", \"a\", \"d\"]]\n"
   ]
  },
  {
   "cell_type": "markdown",
   "id": "a1722acf-bd0f-4425-b617-f6caa206c01b",
   "metadata": {},
   "source": [
    "\n",
    "<span style=\"color: #a245ff;;\">Here &nbsp;<code>[\"c\", \"a\", \"d\"]</code>&nbsp; is interpreted as a list of indices, even though it contains strings instead of integers.</span> \n",
    "\n",
    "<br>\n"
   ]
  },
  {
   "cell_type": "code",
   "execution_count": 10,
   "id": "e0cf8a03-682e-4283-ab61-6ed977091df8",
   "metadata": {},
   "outputs": [
    {
     "data": {
      "text/plain": [
       "d    6\n",
       "b    7\n",
       "a   -5\n",
       "c    3\n",
       "dtype: int64"
      ]
     },
     "execution_count": 10,
     "metadata": {},
     "output_type": "execute_result"
    }
   ],
   "source": [
    "\n",
    "obj2\n"
   ]
  },
  {
   "cell_type": "markdown",
   "id": "6f336996-ae33-4b2f-94dd-87837f7e7e3f",
   "metadata": {
    "jp-MarkdownHeadingCollapsed": true
   },
   "source": [
    "<br>\n",
    "\n",
    "##### <span style=\"color: #ffb585;\">----------------------------------------------------------------------------------------------------------------------------------------------------------------------------------------------</span>\n",
    "\n",
    "<div style=\"display: flex;\">\n",
    "<div><span style=\"font-size: 0.9rem; color: black; font-size: 1.3rem;\">🔶</span>&nbsp;&nbsp;&nbsp;</div>\n",
    "<div><span style=\"color: #f76607;\">Using <strong>NumPy functions</strong> or <strong>NumPy-like operations</strong>, such as &nbsp;<code style=\"background-color: #ffead5;\">filtering with a Boolean array</code> , &nbsp;<code style=\"background-color: #ffead5;\">scalar multiplication</code> , or &nbsp;<code style=\"background-color: #ffead5;\">applying math functions</code> , will preserve the index-value link :</span></div>\n",
    "</div>"
   ]
  },
  {
   "cell_type": "code",
   "execution_count": 11,
   "id": "4ff14ce7-66c6-4563-9088-dd3cec0889bf",
   "metadata": {},
   "outputs": [
    {
     "data": {
      "text/plain": [
       "d    6\n",
       "b    7\n",
       "c    3\n",
       "dtype: int64"
      ]
     },
     "execution_count": 11,
     "metadata": {},
     "output_type": "execute_result"
    }
   ],
   "source": [
    "\n",
    "obj2[obj2 > 0]\n"
   ]
  },
  {
   "cell_type": "code",
   "execution_count": 12,
   "id": "b1770fac-7951-4cc4-9900-dd2895979c72",
   "metadata": {},
   "outputs": [
    {
     "data": {
      "text/plain": [
       "d    12\n",
       "b    14\n",
       "a   -10\n",
       "c     6\n",
       "dtype: int64"
      ]
     },
     "execution_count": 12,
     "metadata": {},
     "output_type": "execute_result"
    }
   ],
   "source": [
    "\n",
    "obj2 * 2\n"
   ]
  },
  {
   "cell_type": "code",
   "execution_count": 13,
   "id": "1008cf99-1584-4e43-a2d7-2e6f84b5e62f",
   "metadata": {},
   "outputs": [
    {
     "data": {
      "text/plain": [
       "d     403.428793\n",
       "b    1096.633158\n",
       "a       0.006738\n",
       "c      20.085537\n",
       "dtype: float64"
      ]
     },
     "execution_count": 13,
     "metadata": {},
     "output_type": "execute_result"
    }
   ],
   "source": [
    "\n",
    "np.exp(obj2)\n"
   ]
  },
  {
   "cell_type": "markdown",
   "id": "73f1db3c-e3bb-4590-ab6e-e9ce14f9f84e",
   "metadata": {},
   "source": [
    "\n",
    "<span style=\"color: #a245ff;\">For every array element &nbsp;<code>x</code> , it calculates &nbsp;<code> e<sup>x</sup> </code>&nbsp; where &nbsp;<code>e = 2.718</code> </span>\n"
   ]
  },
  {
   "cell_type": "markdown",
   "id": "d9e70e49-015b-42a4-b51a-789a90165020",
   "metadata": {
    "jp-MarkdownHeadingCollapsed": true
   },
   "source": [
    "<br>\n",
    "\n",
    "##### <span style=\"color: #ffb585;\">----------------------------------------------------------------------------------------------------------------------------------------------------------------------------------------------</span>\n",
    "\n",
    "<div style=\"display: flex;\">\n",
    "<div><span style=\"font-size: 0.9rem; color: black; font-size: 1.3rem;\">🔶</span>&nbsp;&nbsp;&nbsp;</div>\n",
    "<div><span style=\"color: #f76607;\">Another way to think about <strong>a Series is as a fixed-length, ordered dictionary, as it is a mapping of index values to data values</strong>. &nbsp;It can be used in many contexts where you might use a <strong>dictionary</strong> :</span></div>\n",
    "</div>\n"
   ]
  },
  {
   "cell_type": "code",
   "execution_count": 14,
   "id": "fc188835-a326-4773-a822-2f7c95c8d375",
   "metadata": {},
   "outputs": [
    {
     "data": {
      "text/plain": [
       "True"
      ]
     },
     "execution_count": 14,
     "metadata": {},
     "output_type": "execute_result"
    }
   ],
   "source": [
    "\n",
    "\"b\" in obj2\n"
   ]
  },
  {
   "cell_type": "code",
   "execution_count": 15,
   "id": "0035d7cd-9884-434b-8fee-f424213e0fa6",
   "metadata": {},
   "outputs": [
    {
     "data": {
      "text/plain": [
       "False"
      ]
     },
     "execution_count": 15,
     "metadata": {},
     "output_type": "execute_result"
    }
   ],
   "source": [
    "\n",
    "\"e\" in obj2\n"
   ]
  },
  {
   "cell_type": "code",
   "execution_count": 16,
   "id": "a333fd9f-303c-4570-b02b-174e86c72077",
   "metadata": {},
   "outputs": [
    {
     "data": {
      "text/plain": [
       "Delhi        35000\n",
       "Mumbai       71000\n",
       "Banglore     16000\n",
       "Hyderabad     5000\n",
       "dtype: int64"
      ]
     },
     "execution_count": 16,
     "metadata": {},
     "output_type": "execute_result"
    }
   ],
   "source": [
    "\n",
    "#sdata = {\"Ohio\": 35000, \"Texas\": 71000, \"Oregon\": 16000, \"Utah\": 5000}\n",
    "sdata = {\"Delhi\": 35000, \"Mumbai\": 71000, \"Banglore\": 16000, \"Hyderabad\": 5000}\n",
    "\n",
    "obj3 = pd.Series(sdata)\n",
    "\n",
    "obj3\n"
   ]
  },
  {
   "cell_type": "code",
   "execution_count": 43,
   "id": "d7111b94-4d46-4987-8621-874217515ed1",
   "metadata": {},
   "outputs": [
    {
     "data": {
      "text/plain": [
       "Alpha    A1\n",
       "Beta     B1\n",
       "Gamma    C1\n",
       "dtype: object"
      ]
     },
     "execution_count": 43,
     "metadata": {},
     "output_type": "execute_result"
    }
   ],
   "source": [
    "\n",
    "pd.Series({'Alpha': 'A1', 'Beta': 'B1', 'Gamma': 'C1'})\n"
   ]
  },
  {
   "cell_type": "markdown",
   "id": "0018b202-ce42-431a-b957-94023fd9b123",
   "metadata": {},
   "source": [
    "<br>\n",
    "\n",
    "<code style=\"background-color: #ffff62;\"><span style=\"color: #a245ff; font-size: 0.8rem;\">obj</span>.<span style=\"font-size: 1rem;\"><strong>to_dict()</strong></span></code>"
   ]
  },
  {
   "cell_type": "code",
   "execution_count": 17,
   "id": "da9cc7a9-3e48-44a2-bd14-74cf9379891a",
   "metadata": {},
   "outputs": [
    {
     "data": {
      "text/plain": [
       "{'Delhi': 35000, 'Mumbai': 71000, 'Banglore': 16000, 'Hyderabad': 5000}"
      ]
     },
     "execution_count": 17,
     "metadata": {},
     "output_type": "execute_result"
    }
   ],
   "source": [
    "\n",
    "obj3.to_dict()\n"
   ]
  },
  {
   "cell_type": "code",
   "execution_count": 18,
   "id": "4f40c3d1-b200-4cad-99fc-7af9a5ea917a",
   "metadata": {},
   "outputs": [
    {
     "data": {
      "text/plain": [
       "<bound method Series.keys of Delhi        35000\n",
       "Mumbai       71000\n",
       "Banglore     16000\n",
       "Hyderabad     5000\n",
       "dtype: int64>"
      ]
     },
     "execution_count": 18,
     "metadata": {},
     "output_type": "execute_result"
    }
   ],
   "source": [
    "\n",
    "obj3.keys                                                                # <bound method Series.keys\n"
   ]
  },
  {
   "cell_type": "code",
   "execution_count": 19,
   "id": "b2c2de59-4866-4987-95bb-0dd5f225a827",
   "metadata": {},
   "outputs": [
    {
     "name": "stdout",
     "output_type": "stream",
     "text": [
      "Index(['Delhi', 'Mumbai', 'Banglore', 'Hyderabad'], dtype='object')\n",
      "Index(['Delhi', 'Mumbai', 'Banglore', 'Hyderabad'], dtype='object')\n"
     ]
    }
   ],
   "source": [
    "\n",
    "print(obj3.keys())                                                       # METHOD - 1\n",
    "\n",
    "print(obj3.index)                                                        # METHOD - 2\n"
   ]
  },
  {
   "cell_type": "code",
   "execution_count": 20,
   "id": "ad3977a6-5c44-4bb9-8da4-9d84758d6626",
   "metadata": {},
   "outputs": [
    {
     "ename": "TypeError",
     "evalue": "'numpy.ndarray' object is not callable",
     "output_type": "error",
     "traceback": [
      "\u001b[1;31m---------------------------------------------------------------------------\u001b[0m",
      "\u001b[1;31mTypeError\u001b[0m                                 Traceback (most recent call last)",
      "Cell \u001b[1;32mIn[20], line 1\u001b[0m\n\u001b[1;32m----> 1\u001b[0m \u001b[43mobj3\u001b[49m\u001b[38;5;241;43m.\u001b[39;49m\u001b[43mvalues\u001b[49m\u001b[43m(\u001b[49m\u001b[43m)\u001b[49m\n",
      "\u001b[1;31mTypeError\u001b[0m: 'numpy.ndarray' object is not callable"
     ]
    }
   ],
   "source": [
    "\n",
    "obj3.values()\n"
   ]
  },
  {
   "cell_type": "code",
   "execution_count": 21,
   "id": "6ca1c7e7-eb1b-4f5e-805e-8ea477acdfa0",
   "metadata": {},
   "outputs": [
    {
     "name": "stdout",
     "output_type": "stream",
     "text": [
      "[35000 71000 16000  5000]\n",
      "\n",
      "\n",
      "<PandasArray>\n",
      "[35000, 71000, 16000, 5000]\n",
      "Length: 4, dtype: int64\n"
     ]
    }
   ],
   "source": [
    "\n",
    "print(obj3.values)                                                       # METHOD - 1\n",
    "\n",
    "print(\"\\n\")\n",
    "print(obj3.array)                                                        # METHOD - 2\n"
   ]
  },
  {
   "cell_type": "code",
   "execution_count": 22,
   "id": "3e9e4f7b-cc2a-411a-a3b3-faf46fd34542",
   "metadata": {},
   "outputs": [
    {
     "data": {
      "text/plain": [
       "<PandasArray>\n",
       "[True, True, True, True]\n",
       "Length: 4, dtype: bool"
      ]
     },
     "execution_count": 22,
     "metadata": {},
     "output_type": "execute_result"
    }
   ],
   "source": [
    "\n",
    "obj3.values == obj3.array\n"
   ]
  },
  {
   "cell_type": "markdown",
   "id": "109aa1d6-be37-4765-9927-10ce3dcbb29f",
   "metadata": {},
   "source": [
    "<br>\n",
    "\n",
    "<code style=\"background-color: #ffff62;\"><span style=\"color: #a245ff; font-size: 0.8rem;\">obj</span>.<span style=\"font-size: 1rem;\"><strong>keys()</strong></span></code> &nbsp;&nbsp;&nbsp;or&nbsp;&nbsp;&nbsp; <code style=\"background-color: #ffff62;\"><span style=\"color: #a245ff; font-size: 0.8rem;\">obj</span>.<span style=\"font-size: 1rem;\"><strong>index</strong></span></code> &nbsp;&nbsp;&nbsp;&nbsp;&nbsp;&nbsp;&nbsp;&nbsp;=======>&nbsp;&nbsp;&nbsp;&nbsp;&nbsp;&nbsp;&nbsp;&nbsp;returns the indexes of the Pandas array\n",
    "\n",
    "<code style=\"background-color: #ffff62;\"><span style=\"color: #a245ff; font-size: 0.8rem;\">obj</span>.<span style=\"font-size: 1rem;\"><strong>values</strong></span></code> &nbsp;&nbsp;&nbsp;or&nbsp;&nbsp;&nbsp; <code style=\"background-color: #ffff62;\"><span style=\"color: #a245ff; font-size: 0.8rem;\">obj</span>.<span style=\"font-size: 1rem;\"><strong>array</strong></span></code> &nbsp;&nbsp;&nbsp;&nbsp;&nbsp;&nbsp;&nbsp;&nbsp;=======>&nbsp;&nbsp;&nbsp;&nbsp;&nbsp;&nbsp;&nbsp;&nbsp;returns the Pandas array"
   ]
  },
  {
   "cell_type": "markdown",
   "id": "7f599f22-a503-43c2-b80b-9392860fed66",
   "metadata": {
    "jp-MarkdownHeadingCollapsed": true
   },
   "source": [
    "<br>\n",
    "\n",
    "##### <span style=\"color: #ffb585;\">----------------------------------------------------------------------------------------------------------------------------------------------------------------------------------------------</span>\n",
    "\n",
    "<span style=\"font-size: 0.9rem; color: black; font-size: 1.3rem;\">🔶</span> &nbsp;&nbsp;<span style=\"color: #f76607;\"><strong>Custom ordering</strong> of the dictionary keys when converted into a series</span>"
   ]
  },
  {
   "cell_type": "code",
   "execution_count": 23,
   "id": "d028188c-2e70-402e-a443-44bd277fd35b",
   "metadata": {},
   "outputs": [
    {
     "data": {
      "text/plain": [
       "Kolkata         NaN\n",
       "Delhi       35000.0\n",
       "Banglore    16000.0\n",
       "Mumbai      71000.0\n",
       "dtype: float64"
      ]
     },
     "execution_count": 23,
     "metadata": {},
     "output_type": "execute_result"
    }
   ],
   "source": [
    "\n",
    "sdata = {\"Delhi\": 35000, \"Mumbai\": 71000, \"Banglore\": 16000, \"Hyderabad\": 5000}\n",
    "cities = [\"Kolkata\", \"Delhi\", \"Banglore\", \"Mumbai\"]\n",
    "\n",
    "obj4 = pd.Series(sdata, index=cities)\n",
    "\n",
    "obj4\n"
   ]
  },
  {
   "cell_type": "markdown",
   "id": "f055e53d-25b4-480e-b78c-ec16587be024",
   "metadata": {},
   "source": [
    "<br>\n",
    "\n",
    "<code style=\"background-color: #dfdfdf;\">NaN</code> <span style=\"color: #a245ff;\">&nbsp;&nbsp;========>&nbsp;&nbsp; (Not a Number)</span>\n"
   ]
  },
  {
   "cell_type": "markdown",
   "id": "58948df8-a329-4138-b539-9a8fe9441953",
   "metadata": {
    "jp-MarkdownHeadingCollapsed": true
   },
   "source": [
    "<br>\n",
    "\n",
    "##### <span style=\"color: #ffb585;\">----------------------------------------------------------------------------------------------------------------------------------------------------------------------------------------------</span>\n",
    "\n",
    "<span style=\"font-size: 0.9rem; color: black; font-size: 1.3rem;\">🔶</span> &nbsp;&nbsp;<span style=\"color: #f76607;\">To detect <strong>missing data</strong> in Pandas &nbsp;&nbsp;======>&nbsp;&nbsp; <code style=\"background-color: #ffff62;\"><span style=\"color: #a245ff; font-size: 0.8rem;\">pd</span>.<span style=\"font-size: 1rem;\"><strong>isna(</strong><span style=\"color: #a245ff; font-size: 0.8rem;\">obj</span><strong>)</strong></span></code> &nbsp;&nbsp;&nbsp;&&nbsp;&nbsp;&nbsp; <code style=\"background-color: #ffff62;\"><span style=\"color: #a245ff; font-size: 0.8rem;\">pd</span>.<span style=\"font-size: 1rem;\"><strong>notna(</strong><span style=\"color: #a245ff; font-size: 0.8rem;\">obj</span><strong>)</strong></span></code> &nbsp;&nbsp;<strong>functions</strong></span>\n"
   ]
  },
  {
   "cell_type": "code",
   "execution_count": 24,
   "id": "9e6e2144-1813-4a18-9deb-49012f127917",
   "metadata": {},
   "outputs": [
    {
     "data": {
      "text/plain": [
       "Kolkata      True\n",
       "Delhi       False\n",
       "Banglore    False\n",
       "Mumbai      False\n",
       "dtype: bool"
      ]
     },
     "execution_count": 24,
     "metadata": {},
     "output_type": "execute_result"
    }
   ],
   "source": [
    "\n",
    "pd.isna(obj4)\n"
   ]
  },
  {
   "cell_type": "code",
   "execution_count": 25,
   "id": "8da9828f-c4fa-4de6-b4be-b49bb2e4ba3e",
   "metadata": {},
   "outputs": [
    {
     "data": {
      "text/plain": [
       "Kolkata     False\n",
       "Delhi        True\n",
       "Banglore     True\n",
       "Mumbai       True\n",
       "dtype: bool"
      ]
     },
     "execution_count": 25,
     "metadata": {},
     "output_type": "execute_result"
    }
   ],
   "source": [
    "\n",
    "pd.notna(obj4)\n"
   ]
  },
  {
   "cell_type": "markdown",
   "id": "9540ce84-4379-4aac-8b78-bd6dc1cc21e2",
   "metadata": {
    "jp-MarkdownHeadingCollapsed": true
   },
   "source": [
    "<br>\n",
    "\n",
    "##### <span style=\"color: #ffb585;\">----------------------------------------------------------------------------------------------------------------------------------------------------------------------------------------------</span>\n",
    "\n",
    "<span style=\"font-size: 0.9rem; color: black; font-size: 1.3rem;\">🔶</span> &nbsp;&nbsp;<span style=\"color: #f76607;\">By the way, <strong>Series</strong> also has these as <strong>instance methods</strong> :</span>\n"
   ]
  },
  {
   "cell_type": "code",
   "execution_count": 26,
   "id": "b4c65b9c-0be6-4f1f-9b6d-f9c0e1cc8cd2",
   "metadata": {},
   "outputs": [
    {
     "data": {
      "text/plain": [
       "Kolkata      True\n",
       "Delhi       False\n",
       "Banglore    False\n",
       "Mumbai      False\n",
       "dtype: bool"
      ]
     },
     "execution_count": 26,
     "metadata": {},
     "output_type": "execute_result"
    }
   ],
   "source": [
    "\n",
    "obj4.isna()\n"
   ]
  },
  {
   "cell_type": "code",
   "execution_count": 27,
   "id": "6973707c-e5f4-452e-8b88-c4e482bfebef",
   "metadata": {},
   "outputs": [
    {
     "data": {
      "text/plain": [
       "Kolkata     False\n",
       "Delhi        True\n",
       "Banglore     True\n",
       "Mumbai       True\n",
       "dtype: bool"
      ]
     },
     "execution_count": 27,
     "metadata": {},
     "output_type": "execute_result"
    }
   ],
   "source": [
    "\n",
    "obj4.notna()\n"
   ]
  },
  {
   "cell_type": "markdown",
   "id": "c7bfd6cc-b37a-4100-9ff1-cb5005a7dfba",
   "metadata": {},
   "source": [
    "<div style=\"margin-left: 120px;\">\n",
    "\n",
    "![](../media/pandas_isna_notna.PNG)\n",
    "\n",
    "</div>\n",
    "\n",
    "<span style=\"font-size: 1rem; color: blue;\"><strong>Note</strong></span> &nbsp;&nbsp;-&nbsp;&nbsp; <span style=\"color: blue;\">Refer the section &nbsp; <code style=\"background-color: blue; color: white;\">Data Cleaning & Preparation</code> &nbsp;for more details</span>\n"
   ]
  },
  {
   "cell_type": "markdown",
   "id": "26a20fbd-a153-4b64-a6a2-df802eb616de",
   "metadata": {
    "jp-MarkdownHeadingCollapsed": true
   },
   "source": [
    "<br>\n",
    "\n",
    "##### <span style=\"color: #ffb585;\">----------------------------------------------------------------------------------------------------------------------------------------------------------------------------------------------</span>\n",
    "\n",
    "\n",
    "<span style=\"font-size: 0.9rem; color: black; font-size: 1.3rem;\">🔶</span> &nbsp;&nbsp;<span style=\"color: #f76607;\">A useful <strong>Series</strong> feature for many applications is that <strong>it automatically aligns by index label in arithmetic operations</strong> :</span>\n"
   ]
  },
  {
   "cell_type": "code",
   "execution_count": 28,
   "id": "37196673-9258-4a28-b747-d6fe09a0b095",
   "metadata": {},
   "outputs": [
    {
     "data": {
      "text/plain": [
       "Delhi        35000\n",
       "Mumbai       71000\n",
       "Banglore     16000\n",
       "Hyderabad     5000\n",
       "dtype: int64"
      ]
     },
     "execution_count": 28,
     "metadata": {},
     "output_type": "execute_result"
    }
   ],
   "source": [
    "\n",
    "obj3\n"
   ]
  },
  {
   "cell_type": "code",
   "execution_count": 29,
   "id": "8d4c643c-c899-4e23-8e85-beb1edd4a1c3",
   "metadata": {},
   "outputs": [
    {
     "data": {
      "text/plain": [
       "Kolkata         NaN\n",
       "Delhi       35000.0\n",
       "Banglore    16000.0\n",
       "Mumbai      71000.0\n",
       "dtype: float64"
      ]
     },
     "execution_count": 29,
     "metadata": {},
     "output_type": "execute_result"
    }
   ],
   "source": [
    "\n",
    "obj4\n"
   ]
  },
  {
   "cell_type": "code",
   "execution_count": 30,
   "id": "fca213b2-add0-46fe-9e3a-9bad356b9d46",
   "metadata": {},
   "outputs": [
    {
     "data": {
      "text/plain": [
       "Banglore      32000.0\n",
       "Delhi         70000.0\n",
       "Hyderabad         NaN\n",
       "Kolkata           NaN\n",
       "Mumbai       142000.0\n",
       "dtype: float64"
      ]
     },
     "execution_count": 30,
     "metadata": {},
     "output_type": "execute_result"
    }
   ],
   "source": [
    "\n",
    "obj3 + obj4                                            # Banglore        32000.0      <---------      16000 + 16000.0\n",
    "                                                       # Delhi           70000.0      <---------      35000 + 35000.0\n",
    "                                                       # Hyderabad           Nan      <---------      5000 + Nan\n",
    "                                                       # Kolkata             Nan      <---------      Nan\n",
    "                                                       # Mumbai         142000.0      <---------      71000 + 71000.0\n"
   ]
  },
  {
   "cell_type": "code",
   "execution_count": 31,
   "id": "fa0a8d6c-7f57-4874-b4ba-6e7437461405",
   "metadata": {},
   "outputs": [
    {
     "name": "stdout",
     "output_type": "stream",
     "text": [
      "4\n",
      "4\n",
      "5\n"
     ]
    }
   ],
   "source": [
    "\n",
    "print(len(obj3))                                       #  4\n",
    "\n",
    "print(len(obj4))                                       #  4\n",
    "\n",
    "print(len(obj3 + obj4))                                #  5\n"
   ]
  },
  {
   "cell_type": "markdown",
   "id": "f85184c1-4085-45c9-90f5-37063b920920",
   "metadata": {},
   "source": [
    "<br>\n",
    "\n",
    "<span style=\"color: blue;\"><span style=\"font-size: 1rem;\"><strong>Note</strong></span> &nbsp;&nbsp;-&nbsp;&nbsp; <code style=\"background-color: blue; color: white; padding: 2px;\">Data alignment features</code> will be addressed in more detail later. <br>\n",
    "<span style=\"margin-left: 65px;\">If you have experience with databases, you can think about this as being <u>similar to a join operation</u>.</span></span>\n"
   ]
  },
  {
   "cell_type": "markdown",
   "id": "c8f57bf8-39fb-41d8-bab9-ead56339dcd7",
   "metadata": {
    "jp-MarkdownHeadingCollapsed": true
   },
   "source": [
    "<br>\n",
    "\n",
    "##### <span style=\"color: #ffb585;\">----------------------------------------------------------------------------------------------------------------------------------------------------------------------------------------------</span>\n",
    "\n",
    "<span style=\"font-size: 0.9rem; color: black; font-size: 1.3rem;\">🔶</span> &nbsp;&nbsp;<span style=\"color: #f76607;\">Both the <strong>Series object itself</strong> and its <strong>index</strong> have a &nbsp;<code style=\"background-color: #ffff62;\">name</code>&nbsp; attribute, which integrates with other areas of pandas functionality :</span>\n"
   ]
  },
  {
   "cell_type": "code",
   "execution_count": 32,
   "id": "f3114ffb-fc1e-4db6-8c6f-f22925c07d75",
   "metadata": {},
   "outputs": [
    {
     "data": {
      "text/plain": [
       "city\n",
       "Kolkata         NaN\n",
       "Delhi       35000.0\n",
       "Banglore    16000.0\n",
       "Mumbai      71000.0\n",
       "Name: population, dtype: float64"
      ]
     },
     "execution_count": 32,
     "metadata": {},
     "output_type": "execute_result"
    }
   ],
   "source": [
    "\n",
    "obj4.name = \"population\"\n",
    "\n",
    "obj4.index.name = \"city\"\n",
    "\n",
    "obj4\n"
   ]
  },
  {
   "cell_type": "markdown",
   "id": "6e8fcf98-be80-4272-9261-b2cdf27a44ec",
   "metadata": {
    "jp-MarkdownHeadingCollapsed": true
   },
   "source": [
    "<br>\n",
    "\n",
    "##### <span style=\"color: #ffb585;\">----------------------------------------------------------------------------------------------------------------------------------------------------------------------------------------------</span>\n",
    "\n",
    "<span style=\"font-size: 0.9rem; color: black; font-size: 1.3rem;\">🔶</span> &nbsp;&nbsp;<span style=\"color: #f76607;\">A <u>Series’s <strong>index</strong></u> can be altered <strong>in place</strong> by <strong>assignment</strong> :</span>"
   ]
  },
  {
   "cell_type": "code",
   "execution_count": 33,
   "id": "3197d1ee-84aa-4094-99a2-ce1279112126",
   "metadata": {},
   "outputs": [
    {
     "data": {
      "text/plain": [
       "0    4\n",
       "1    7\n",
       "2   -5\n",
       "3    3\n",
       "dtype: int64"
      ]
     },
     "execution_count": 33,
     "metadata": {},
     "output_type": "execute_result"
    }
   ],
   "source": [
    "\n",
    "obj = pd.Series([4, 7, -5, 3])\n",
    "\n",
    "obj\n"
   ]
  },
  {
   "cell_type": "code",
   "execution_count": 34,
   "id": "ced23b07-87a0-4756-b2e6-c5ed7d5e0478",
   "metadata": {},
   "outputs": [
    {
     "data": {
      "text/plain": [
       "record_1    4\n",
       "record_2    7\n",
       "record_3   -5\n",
       "record_4    3\n",
       "dtype: int64"
      ]
     },
     "execution_count": 34,
     "metadata": {},
     "output_type": "execute_result"
    }
   ],
   "source": [
    "\n",
    "obj.index = [\"record_1\", \"record_2\", \"record_3\", \"record_4\"]\n",
    "\n",
    "obj\n"
   ]
  },
  {
   "cell_type": "markdown",
   "id": "c23a702f-814c-4922-8b74-0150b91abbdf",
   "metadata": {
    "jp-MarkdownHeadingCollapsed": true
   },
   "source": [
    "<br>\n",
    "\n",
    "### <div style=\"color: black; background-color: #ffe9c8; padding: 10px;\"> <code style=\"font-size: 1.3rem; background-color: #ffe9c8; color: red;\"><strong>DataFrame</strong></code> &nbsp;(2D array)</div>\n"
   ]
  },
  {
   "cell_type": "markdown",
   "id": "b02b2e70-0c80-4773-905f-54cb071acc41",
   "metadata": {},
   "source": [
    "<br>\n",
    "\n",
    "<span style=\"color: #a245ff;\">A DataFrame represents a <strong>rectangular table of data</strong> and contains an ordered, named collection of columns, each of which can be a different value type (numeric, string, Boolean, etc.). &nbsp;<strong>The DataFrame has both a row and column index</strong> ; it can be thought of as <code>a dictionary of Series</code></span>\n",
    "\n",
    "<br>\n",
    "\n",
    "<div style=\"display: flex;\">\n",
    "<div><span style=\"color: blue; font-size: 1rem;\"><strong>Note</strong>&nbsp;&nbsp;&nbsp;&nbsp;-&nbsp;&nbsp;</span></div>\n",
    "<div style=\"margin-left: 20px;\">While a DataFrame is physically <strong>two-dimensional</strong>, you can use it to represent higher dimensional data in a tabular format using <code>hierarchical indexing</code>, a subject we will discuss in subsection &nbsp;<code style=\"background-color: blue; color: white; padding: 2px;\"><u>Data Wrangling</u> : Join, Combine, and Reshape</code>&nbsp; and an ingredient in some of the <u>more advanced data-handling features</u> in pandas</div>\n",
    "</div>\n"
   ]
  },
  {
   "cell_type": "markdown",
   "id": "f8c4b602-685c-4d28-8a39-870619b8e3e2",
   "metadata": {
    "jp-MarkdownHeadingCollapsed": true
   },
   "source": [
    "##### <span style=\"color: #ffb585;\">----------------------------------------------------------------------------------------------------------------------------------------------------------------------------------------------</span>\n",
    "\n",
    "<span style=\"color: black; font-size: 1.3rem;\">🔶</span> &nbsp;&nbsp;<span style=\"color: #f76607;\">There are many ways to construct a DataFrame, though one of the most common is &nbsp;<span style=\"background-color: #fff2dd; color: #f76607; padding: 2px;\">&nbsp;from a <strong>dictionary</strong> of <strong>equal-length</strong> <u>lists</u> or <u>NumPy arrays</u>&nbsp;</span> :</span>\n"
   ]
  },
  {
   "cell_type": "code",
   "execution_count": 35,
   "id": "eb0a4f1b-02e9-4ab6-ab11-df8c6a7eb404",
   "metadata": {},
   "outputs": [
    {
     "data": {
      "text/html": [
       "<div>\n",
       "<style scoped>\n",
       "    .dataframe tbody tr th:only-of-type {\n",
       "        vertical-align: middle;\n",
       "    }\n",
       "\n",
       "    .dataframe tbody tr th {\n",
       "        vertical-align: top;\n",
       "    }\n",
       "\n",
       "    .dataframe thead th {\n",
       "        text-align: right;\n",
       "    }\n",
       "</style>\n",
       "<table border=\"1\" class=\"dataframe\">\n",
       "  <thead>\n",
       "    <tr style=\"text-align: right;\">\n",
       "      <th></th>\n",
       "      <th>city</th>\n",
       "      <th>year</th>\n",
       "      <th>population</th>\n",
       "    </tr>\n",
       "  </thead>\n",
       "  <tbody>\n",
       "    <tr>\n",
       "      <th>0</th>\n",
       "      <td>Mumbai</td>\n",
       "      <td>2000</td>\n",
       "      <td>1.5</td>\n",
       "    </tr>\n",
       "    <tr>\n",
       "      <th>1</th>\n",
       "      <td>Mumbai</td>\n",
       "      <td>2001</td>\n",
       "      <td>1.7</td>\n",
       "    </tr>\n",
       "    <tr>\n",
       "      <th>2</th>\n",
       "      <td>Mumbai</td>\n",
       "      <td>2002</td>\n",
       "      <td>3.6</td>\n",
       "    </tr>\n",
       "    <tr>\n",
       "      <th>3</th>\n",
       "      <td>Delhi</td>\n",
       "      <td>2001</td>\n",
       "      <td>2.4</td>\n",
       "    </tr>\n",
       "    <tr>\n",
       "      <th>4</th>\n",
       "      <td>Delhi</td>\n",
       "      <td>2002</td>\n",
       "      <td>2.9</td>\n",
       "    </tr>\n",
       "    <tr>\n",
       "      <th>5</th>\n",
       "      <td>Delhi</td>\n",
       "      <td>2003</td>\n",
       "      <td>3.2</td>\n",
       "    </tr>\n",
       "  </tbody>\n",
       "</table>\n",
       "</div>"
      ],
      "text/plain": [
       "     city  year  population\n",
       "0  Mumbai  2000         1.5\n",
       "1  Mumbai  2001         1.7\n",
       "2  Mumbai  2002         3.6\n",
       "3   Delhi  2001         2.4\n",
       "4   Delhi  2002         2.9\n",
       "5   Delhi  2003         3.2"
      ]
     },
     "execution_count": 35,
     "metadata": {},
     "output_type": "execute_result"
    }
   ],
   "source": [
    "\n",
    "data = {\"city\": [\"Mumbai\", \"Mumbai\", \"Mumbai\", \"Delhi\", \"Delhi\", \"Delhi\"],\n",
    "        \"year\": [2000, 2001, 2002, 2001, 2002, 2003],\n",
    "        \"population\": [1.5, 1.7, 3.6, 2.4, 2.9, 3.2]}                                      # Each key-value pair in the dictionary data is a COLUMN\n",
    "\n",
    "\n",
    "frame = pd.DataFrame(data)\n",
    "\n",
    "\n",
    "frame\n"
   ]
  },
  {
   "cell_type": "markdown",
   "id": "c65af051-0be2-4732-8e85-87e6ae866ecf",
   "metadata": {},
   "source": [
    "<span style=\"color: #a245ff;\">As you can see similar to Series , the <strong>order</strong> of the &nbsp;<code style=\"background-color: #f9e5ff;\">index</code> &nbsp;or the <code style=\"background-color: #f9e5ff;\">keys</code> &nbsp;(or more popularly know as &nbsp;<code style=\"background-color: #f9e5ff;\">columns</code>&nbsp; in this context) <strong>depends on their insertion order in the dictionary.</strong></span>\n",
    "\n",
    "<br>\n",
    "\n",
    "\n",
    "<div style=\"margin-left: 35px;\">\n",
    "\n",
    "![](../media/pandas_dataframe_1.PNG)\n",
    "\n",
    "</div>\n"
   ]
  },
  {
   "cell_type": "markdown",
   "id": "82d4f833-745e-41fe-bc10-a56184bcd1cf",
   "metadata": {
    "jp-MarkdownHeadingCollapsed": true
   },
   "source": [
    "##### <span style=\"color: #ffb585;\">----------------------------------------------------------------------------------------------------------------------------------------------------------------------------------------------</span>\n",
    "\n",
    "<span style=\"font-size: 0.9rem; color: black; font-size: 1.3rem;\">🔶</span> &nbsp;&nbsp;<span style=\"color: #f76607;\">For <strong>large DataFrames</strong>, the &nbsp;<code style=\"background-color: #ffff62;\">head()</code>&nbsp; method selects <strong>only the first five rows</strong> :</span>"
   ]
  },
  {
   "cell_type": "code",
   "execution_count": 36,
   "id": "9e9633f5-292d-4c7e-b3dc-13edb3787c32",
   "metadata": {},
   "outputs": [
    {
     "data": {
      "text/html": [
       "<div>\n",
       "<style scoped>\n",
       "    .dataframe tbody tr th:only-of-type {\n",
       "        vertical-align: middle;\n",
       "    }\n",
       "\n",
       "    .dataframe tbody tr th {\n",
       "        vertical-align: top;\n",
       "    }\n",
       "\n",
       "    .dataframe thead th {\n",
       "        text-align: right;\n",
       "    }\n",
       "</style>\n",
       "<table border=\"1\" class=\"dataframe\">\n",
       "  <thead>\n",
       "    <tr style=\"text-align: right;\">\n",
       "      <th></th>\n",
       "      <th>city</th>\n",
       "      <th>year</th>\n",
       "      <th>population</th>\n",
       "    </tr>\n",
       "  </thead>\n",
       "  <tbody>\n",
       "    <tr>\n",
       "      <th>0</th>\n",
       "      <td>Mumbai</td>\n",
       "      <td>2000</td>\n",
       "      <td>1.5</td>\n",
       "    </tr>\n",
       "    <tr>\n",
       "      <th>1</th>\n",
       "      <td>Mumbai</td>\n",
       "      <td>2001</td>\n",
       "      <td>1.7</td>\n",
       "    </tr>\n",
       "    <tr>\n",
       "      <th>2</th>\n",
       "      <td>Mumbai</td>\n",
       "      <td>2002</td>\n",
       "      <td>3.6</td>\n",
       "    </tr>\n",
       "    <tr>\n",
       "      <th>3</th>\n",
       "      <td>Delhi</td>\n",
       "      <td>2001</td>\n",
       "      <td>2.4</td>\n",
       "    </tr>\n",
       "    <tr>\n",
       "      <th>4</th>\n",
       "      <td>Delhi</td>\n",
       "      <td>2002</td>\n",
       "      <td>2.9</td>\n",
       "    </tr>\n",
       "  </tbody>\n",
       "</table>\n",
       "</div>"
      ],
      "text/plain": [
       "     city  year  population\n",
       "0  Mumbai  2000         1.5\n",
       "1  Mumbai  2001         1.7\n",
       "2  Mumbai  2002         3.6\n",
       "3   Delhi  2001         2.4\n",
       "4   Delhi  2002         2.9"
      ]
     },
     "execution_count": 36,
     "metadata": {},
     "output_type": "execute_result"
    }
   ],
   "source": [
    "\n",
    "frame.head()\n"
   ]
  },
  {
   "cell_type": "markdown",
   "id": "6969b172-6922-4930-8c26-69430345b588",
   "metadata": {
    "jp-MarkdownHeadingCollapsed": true
   },
   "source": [
    "##### <span style=\"color: #ffb585;\">----------------------------------------------------------------------------------------------------------------------------------------------------------------------------------------------</span>\n",
    "\n",
    "<span style=\"font-size: 0.9rem; color: black; font-size: 1.3rem;\">🔶</span> &nbsp;&nbsp;<span style=\"color: #f76607;\">Similarly, &nbsp;<code style=\"background-color: #ffff62;\">tail</code>&nbsp; returns <strong>the last five rows</strong> :</span>"
   ]
  },
  {
   "cell_type": "code",
   "execution_count": 37,
   "id": "4b36cf83-3136-4bd1-8518-4e3d7bdce29a",
   "metadata": {},
   "outputs": [
    {
     "data": {
      "text/html": [
       "<div>\n",
       "<style scoped>\n",
       "    .dataframe tbody tr th:only-of-type {\n",
       "        vertical-align: middle;\n",
       "    }\n",
       "\n",
       "    .dataframe tbody tr th {\n",
       "        vertical-align: top;\n",
       "    }\n",
       "\n",
       "    .dataframe thead th {\n",
       "        text-align: right;\n",
       "    }\n",
       "</style>\n",
       "<table border=\"1\" class=\"dataframe\">\n",
       "  <thead>\n",
       "    <tr style=\"text-align: right;\">\n",
       "      <th></th>\n",
       "      <th>city</th>\n",
       "      <th>year</th>\n",
       "      <th>population</th>\n",
       "    </tr>\n",
       "  </thead>\n",
       "  <tbody>\n",
       "    <tr>\n",
       "      <th>1</th>\n",
       "      <td>Mumbai</td>\n",
       "      <td>2001</td>\n",
       "      <td>1.7</td>\n",
       "    </tr>\n",
       "    <tr>\n",
       "      <th>2</th>\n",
       "      <td>Mumbai</td>\n",
       "      <td>2002</td>\n",
       "      <td>3.6</td>\n",
       "    </tr>\n",
       "    <tr>\n",
       "      <th>3</th>\n",
       "      <td>Delhi</td>\n",
       "      <td>2001</td>\n",
       "      <td>2.4</td>\n",
       "    </tr>\n",
       "    <tr>\n",
       "      <th>4</th>\n",
       "      <td>Delhi</td>\n",
       "      <td>2002</td>\n",
       "      <td>2.9</td>\n",
       "    </tr>\n",
       "    <tr>\n",
       "      <th>5</th>\n",
       "      <td>Delhi</td>\n",
       "      <td>2003</td>\n",
       "      <td>3.2</td>\n",
       "    </tr>\n",
       "  </tbody>\n",
       "</table>\n",
       "</div>"
      ],
      "text/plain": [
       "     city  year  population\n",
       "1  Mumbai  2001         1.7\n",
       "2  Mumbai  2002         3.6\n",
       "3   Delhi  2001         2.4\n",
       "4   Delhi  2002         2.9\n",
       "5   Delhi  2003         3.2"
      ]
     },
     "execution_count": 37,
     "metadata": {},
     "output_type": "execute_result"
    }
   ],
   "source": [
    "\n",
    "frame.tail()\n"
   ]
  },
  {
   "cell_type": "markdown",
   "id": "543e23e5-aa48-4571-b165-88da7cc1bc5b",
   "metadata": {
    "jp-MarkdownHeadingCollapsed": true
   },
   "source": [
    "##### <span style=\"color: #ffb585;\">----------------------------------------------------------------------------------------------------------------------------------------------------------------------------------------------</span>\n",
    "\n",
    "<span style=\"font-size: 0.9rem; color: black; font-size: 1.3rem;\">🔶</span> &nbsp;&nbsp;<span style=\"color: #f76607;\">If you specify <strong>a sequence of columns</strong>, the DataFrame’s columns will be <strong>arranged in that order</strong> :</span>"
   ]
  },
  {
   "cell_type": "code",
   "execution_count": 38,
   "id": "3fe2ac13-d087-415f-8374-0c5ffbd1a959",
   "metadata": {},
   "outputs": [
    {
     "data": {
      "text/html": [
       "<div>\n",
       "<style scoped>\n",
       "    .dataframe tbody tr th:only-of-type {\n",
       "        vertical-align: middle;\n",
       "    }\n",
       "\n",
       "    .dataframe tbody tr th {\n",
       "        vertical-align: top;\n",
       "    }\n",
       "\n",
       "    .dataframe thead th {\n",
       "        text-align: right;\n",
       "    }\n",
       "</style>\n",
       "<table border=\"1\" class=\"dataframe\">\n",
       "  <thead>\n",
       "    <tr style=\"text-align: right;\">\n",
       "      <th></th>\n",
       "      <th>year</th>\n",
       "      <th>city</th>\n",
       "      <th>population</th>\n",
       "    </tr>\n",
       "  </thead>\n",
       "  <tbody>\n",
       "    <tr>\n",
       "      <th>0</th>\n",
       "      <td>2000</td>\n",
       "      <td>Mumbai</td>\n",
       "      <td>1.5</td>\n",
       "    </tr>\n",
       "    <tr>\n",
       "      <th>1</th>\n",
       "      <td>2001</td>\n",
       "      <td>Mumbai</td>\n",
       "      <td>1.7</td>\n",
       "    </tr>\n",
       "    <tr>\n",
       "      <th>2</th>\n",
       "      <td>2002</td>\n",
       "      <td>Mumbai</td>\n",
       "      <td>3.6</td>\n",
       "    </tr>\n",
       "    <tr>\n",
       "      <th>3</th>\n",
       "      <td>2001</td>\n",
       "      <td>Delhi</td>\n",
       "      <td>2.4</td>\n",
       "    </tr>\n",
       "    <tr>\n",
       "      <th>4</th>\n",
       "      <td>2002</td>\n",
       "      <td>Delhi</td>\n",
       "      <td>2.9</td>\n",
       "    </tr>\n",
       "    <tr>\n",
       "      <th>5</th>\n",
       "      <td>2003</td>\n",
       "      <td>Delhi</td>\n",
       "      <td>3.2</td>\n",
       "    </tr>\n",
       "  </tbody>\n",
       "</table>\n",
       "</div>"
      ],
      "text/plain": [
       "   year    city  population\n",
       "0  2000  Mumbai         1.5\n",
       "1  2001  Mumbai         1.7\n",
       "2  2002  Mumbai         3.6\n",
       "3  2001   Delhi         2.4\n",
       "4  2002   Delhi         2.9\n",
       "5  2003   Delhi         3.2"
      ]
     },
     "execution_count": 38,
     "metadata": {},
     "output_type": "execute_result"
    }
   ],
   "source": [
    "\n",
    "pd.DataFrame(data, columns=[\"year\", \"city\", \"population\"])\n"
   ]
  },
  {
   "cell_type": "markdown",
   "id": "4f8bdc48-d9a4-40e6-9378-f528900ad751",
   "metadata": {
    "jp-MarkdownHeadingCollapsed": true
   },
   "source": [
    "##### <span style=\"color: #ffb585;\">----------------------------------------------------------------------------------------------------------------------------------------------------------------------------------------------</span>\n",
    "\n",
    "<span style=\"font-size: 0.9rem; color: black; font-size: 1.3rem;\">🔶</span> &nbsp;&nbsp;<span style=\"color: #f76607;\"><strong>If you pass a column that isn’t contained in the dictionary</strong>, it will appear with <strong>missing values</strong> in the result :</span>"
   ]
  },
  {
   "cell_type": "code",
   "execution_count": 39,
   "id": "7a57bc1c-6b4c-4bae-9abd-8c04a9c8a254",
   "metadata": {},
   "outputs": [
    {
     "data": {
      "text/html": [
       "<div>\n",
       "<style scoped>\n",
       "    .dataframe tbody tr th:only-of-type {\n",
       "        vertical-align: middle;\n",
       "    }\n",
       "\n",
       "    .dataframe tbody tr th {\n",
       "        vertical-align: top;\n",
       "    }\n",
       "\n",
       "    .dataframe thead th {\n",
       "        text-align: right;\n",
       "    }\n",
       "</style>\n",
       "<table border=\"1\" class=\"dataframe\">\n",
       "  <thead>\n",
       "    <tr style=\"text-align: right;\">\n",
       "      <th></th>\n",
       "      <th>year</th>\n",
       "      <th>city</th>\n",
       "      <th>population</th>\n",
       "      <th>debt</th>\n",
       "    </tr>\n",
       "  </thead>\n",
       "  <tbody>\n",
       "    <tr>\n",
       "      <th>0</th>\n",
       "      <td>2000</td>\n",
       "      <td>Mumbai</td>\n",
       "      <td>1.5</td>\n",
       "      <td>NaN</td>\n",
       "    </tr>\n",
       "    <tr>\n",
       "      <th>1</th>\n",
       "      <td>2001</td>\n",
       "      <td>Mumbai</td>\n",
       "      <td>1.7</td>\n",
       "      <td>NaN</td>\n",
       "    </tr>\n",
       "    <tr>\n",
       "      <th>2</th>\n",
       "      <td>2002</td>\n",
       "      <td>Mumbai</td>\n",
       "      <td>3.6</td>\n",
       "      <td>NaN</td>\n",
       "    </tr>\n",
       "    <tr>\n",
       "      <th>3</th>\n",
       "      <td>2001</td>\n",
       "      <td>Delhi</td>\n",
       "      <td>2.4</td>\n",
       "      <td>NaN</td>\n",
       "    </tr>\n",
       "    <tr>\n",
       "      <th>4</th>\n",
       "      <td>2002</td>\n",
       "      <td>Delhi</td>\n",
       "      <td>2.9</td>\n",
       "      <td>NaN</td>\n",
       "    </tr>\n",
       "    <tr>\n",
       "      <th>5</th>\n",
       "      <td>2003</td>\n",
       "      <td>Delhi</td>\n",
       "      <td>3.2</td>\n",
       "      <td>NaN</td>\n",
       "    </tr>\n",
       "  </tbody>\n",
       "</table>\n",
       "</div>"
      ],
      "text/plain": [
       "   year    city  population debt\n",
       "0  2000  Mumbai         1.5  NaN\n",
       "1  2001  Mumbai         1.7  NaN\n",
       "2  2002  Mumbai         3.6  NaN\n",
       "3  2001   Delhi         2.4  NaN\n",
       "4  2002   Delhi         2.9  NaN\n",
       "5  2003   Delhi         3.2  NaN"
      ]
     },
     "execution_count": 39,
     "metadata": {},
     "output_type": "execute_result"
    }
   ],
   "source": [
    "\n",
    "data = {\"city\": [\"Mumbai\", \"Mumbai\", \"Mumbai\", \"Delhi\", \"Delhi\", \"Delhi\"],\n",
    "        \"year\": [2000, 2001, 2002, 2001, 2002, 2003],\n",
    "        \"population\": [1.5, 1.7, 3.6, 2.4, 2.9, 3.2]}\n",
    "\n",
    "\n",
    "frame2 = pd.DataFrame(data, columns=[\"year\", \"city\", \"population\", \"debt\"])\n",
    "\n",
    "\n",
    "frame2\n"
   ]
  },
  {
   "cell_type": "code",
   "execution_count": 40,
   "id": "3e0e29ce-a5a2-489c-b8f5-cbe922ac8ef9",
   "metadata": {},
   "outputs": [
    {
     "data": {
      "text/plain": [
       "Index(['year', 'city', 'population', 'debt'], dtype='object')"
      ]
     },
     "execution_count": 40,
     "metadata": {},
     "output_type": "execute_result"
    }
   ],
   "source": [
    "\n",
    "frame2.columns\n"
   ]
  },
  {
   "cell_type": "code",
   "execution_count": 41,
   "id": "f530f018-ac80-49de-ae4a-56644208b259",
   "metadata": {},
   "outputs": [
    {
     "data": {
      "text/plain": [
       "Index(['year', 'city', 'population', 'debt'], dtype='object')"
      ]
     },
     "execution_count": 41,
     "metadata": {},
     "output_type": "execute_result"
    }
   ],
   "source": [
    "\n",
    "frame2.keys()\n"
   ]
  },
  {
   "cell_type": "code",
   "execution_count": 42,
   "id": "addafd41-8e2e-4262-9e58-c46e3124785f",
   "metadata": {},
   "outputs": [
    {
     "name": "stdout",
     "output_type": "stream",
     "text": [
      "RangeIndex(start=0, stop=6, step=1)\n",
      "[0 1 2 3 4 5]\n",
      "[0, 1, 2, 3, 4, 5]\n",
      "<class 'pandas.core.indexes.range.RangeIndex'>\n"
     ]
    }
   ],
   "source": [
    "\n",
    "print(frame2.index)                     #  RangeIndex(start=0, stop=6, step=1)\n",
    "\n",
    "print(frame2.index.values)              #  [0 1 2 3 4 5]           ----------------------->           array([0, 1, 2, 3, 4, 5], dtype=int64)\n",
    "\n",
    "print(list(frame2.index))               #  [0, 1, 2, 3, 4, 5]\n",
    "\n",
    "print(type(frame2.index))               # <class 'pandas.core.indexes.range.RangeIndex'>\n"
   ]
  },
  {
   "cell_type": "code",
   "execution_count": 43,
   "id": "38cf79b9-3ae0-4d1c-8f19-f8bc75f92bde",
   "metadata": {},
   "outputs": [
    {
     "data": {
      "text/plain": [
       "array([[2000, 'Mumbai', 1.5, nan],\n",
       "       [2001, 'Mumbai', 1.7, nan],\n",
       "       [2002, 'Mumbai', 3.6, nan],\n",
       "       [2001, 'Delhi', 2.4, nan],\n",
       "       [2002, 'Delhi', 2.9, nan],\n",
       "       [2003, 'Delhi', 3.2, nan]], dtype=object)"
      ]
     },
     "execution_count": 43,
     "metadata": {},
     "output_type": "execute_result"
    }
   ],
   "source": [
    "\n",
    "frame2.values\n"
   ]
  },
  {
   "cell_type": "markdown",
   "id": "480545b3-fd0c-4f1c-b278-7e2b26ed9f57",
   "metadata": {},
   "source": [
    "<br>\n",
    "\n",
    "<div style=\"margin-left: 40px;\">\n",
    "\n",
    "![](../media/pandas_dataframe_2.PNG)\n",
    "\n",
    "</div>"
   ]
  },
  {
   "cell_type": "markdown",
   "id": "ec025d1d-01d3-4835-8991-f45f61f38947",
   "metadata": {
    "jp-MarkdownHeadingCollapsed": true
   },
   "source": [
    "##### <span style=\"color: #ffb585;\">----------------------------------------------------------------------------------------------------------------------------------------------------------------------------------------------</span>\n",
    "\n",
    "<span style=\"font-size: 0.9rem; color: black; font-size: 1.3rem;\">🔶</span> &nbsp;&nbsp;<span style=\"color: #f76607;\">A <strong>column in a DataFrame</strong> can be retrieved as a <strong>Series</strong> either by <strong>dictionary-like notation</strong> or by using the <strong>dot attribute notation</strong> :</span>\n"
   ]
  },
  {
   "cell_type": "markdown",
   "id": "ce602547-c2a3-44b1-bf54-7f76f2eb0073",
   "metadata": {},
   "source": [
    "\n",
    "<code style=\"background-color: #ffff62; margin-left: 40px;\">dataframe[\"colum1\"]</code> &nbsp;&nbsp;&nbsp;&nbsp;&&nbsp;&nbsp;&nbsp;&nbsp; <code style=\"background-color: #ffff62;\">dataframe.column1</code>\n"
   ]
  },
  {
   "cell_type": "code",
   "execution_count": 44,
   "id": "6b03986f-b221-45dd-a1e5-29896e9016db",
   "metadata": {},
   "outputs": [
    {
     "data": {
      "text/plain": [
       "0    Mumbai\n",
       "1    Mumbai\n",
       "2    Mumbai\n",
       "3     Delhi\n",
       "4     Delhi\n",
       "5     Delhi\n",
       "Name: city, dtype: object"
      ]
     },
     "execution_count": 44,
     "metadata": {},
     "output_type": "execute_result"
    }
   ],
   "source": [
    "\n",
    "frame2[\"city\"]                          # METHOD - 1\n"
   ]
  },
  {
   "cell_type": "code",
   "execution_count": 45,
   "id": "dd0debad-6732-4091-80eb-50460d23510c",
   "metadata": {},
   "outputs": [
    {
     "data": {
      "text/plain": [
       "0    Mumbai\n",
       "1    Mumbai\n",
       "2    Mumbai\n",
       "3     Delhi\n",
       "4     Delhi\n",
       "5     Delhi\n",
       "Name: city, dtype: object"
      ]
     },
     "execution_count": 45,
     "metadata": {},
     "output_type": "execute_result"
    }
   ],
   "source": [
    "\n",
    "frame2.city                             # METHOD - 2\n"
   ]
  },
  {
   "cell_type": "markdown",
   "id": "10e12d50-83c8-4724-89b1-d8488653cf70",
   "metadata": {
    "jp-MarkdownHeadingCollapsed": true
   },
   "source": [
    "##### <span style=\"color: #ffb585;\">----------------------------------------------------------------------------------------------------------------------------------------------------------------------------------------------</span>\n",
    "\n",
    "<div style=\"display: flex;\">\n",
    "<div><span style=\"font-size: 0.9rem; color: black; font-size: 1.3rem;\">🔶</span>&nbsp;&nbsp;&nbsp;</div>\n",
    "<div><span style=\"color: #f76607;\"><code style=\"background-color: #f9e5ff;\">frame2[column]</code> works for any column name, but <code style=\"background-color: #f9e5ff;\">frame2.column</code> works only when the column name is a valid Python variable name and does not conflict with any of the method names in DataFrame.</span></div>\n",
    "</div>\n"
   ]
  },
  {
   "cell_type": "markdown",
   "id": "782b0405-0746-4413-b4d4-acc8f93569dc",
   "metadata": {},
   "source": [
    "\n",
    "<span style=\"color: #f76607; margin-left: 42px;\">For example, <strong>if a column's name contains</strong> <span style=\"color: black;\">whitespace</span> <strong>or</strong> <span style=\"color: black;\">symbols</span> <span style=\"background-color: #fff1cd; padding: 2px;\">&nbsp;<strong>other than</strong> <span style=\"color: black;\"><strong>underscores</strong></span><strong>&nbsp;</span> , it</strong> <span style=\"color: black;\"><u><span style=\"color: #ff8843;\">cannot</span></u></span> <strong>be accessed with the dot attribute method.</strong></span>\n"
   ]
  },
  {
   "cell_type": "code",
   "execution_count": 46,
   "id": "c9e88aef-4040-4ce8-97ca-5e524aa44153",
   "metadata": {},
   "outputs": [
    {
     "data": {
      "text/html": [
       "<div>\n",
       "<style scoped>\n",
       "    .dataframe tbody tr th:only-of-type {\n",
       "        vertical-align: middle;\n",
       "    }\n",
       "\n",
       "    .dataframe tbody tr th {\n",
       "        vertical-align: top;\n",
       "    }\n",
       "\n",
       "    .dataframe thead th {\n",
       "        text-align: right;\n",
       "    }\n",
       "</style>\n",
       "<table border=\"1\" class=\"dataframe\">\n",
       "  <thead>\n",
       "    <tr style=\"text-align: right;\">\n",
       "      <th></th>\n",
       "      <th>Full_Name</th>\n",
       "      <th>Designation</th>\n",
       "      <th>Years of Experience</th>\n",
       "      <th>@portfolio</th>\n",
       "    </tr>\n",
       "  </thead>\n",
       "  <tbody>\n",
       "    <tr>\n",
       "      <th>0</th>\n",
       "      <td>Avinash Mishra</td>\n",
       "      <td>Data Engineer</td>\n",
       "      <td>1</td>\n",
       "      <td>avinash.com</td>\n",
       "    </tr>\n",
       "    <tr>\n",
       "      <th>1</th>\n",
       "      <td>Aman Mishra</td>\n",
       "      <td>Software Engineer</td>\n",
       "      <td>3</td>\n",
       "      <td>aman.com</td>\n",
       "    </tr>\n",
       "  </tbody>\n",
       "</table>\n",
       "</div>"
      ],
      "text/plain": [
       "        Full_Name        Designation  Years of Experience   @portfolio\n",
       "0  Avinash Mishra      Data Engineer                    1  avinash.com\n",
       "1     Aman Mishra  Software Engineer                    3     aman.com"
      ]
     },
     "execution_count": 46,
     "metadata": {},
     "output_type": "execute_result"
    }
   ],
   "source": [
    "\n",
    "data = {\"Full_Name\": [\"Avinash Mishra\", \"Aman Mishra\"],\n",
    "        \"Designation\": [\"Data Engineer\", \"Software Engineer\"],\n",
    "        \"Years of Experience\": [1, 3],\n",
    "        \"@portfolio\": ['avinash.com', 'aman.com']}\n",
    "\n",
    "\n",
    "frame = pd.DataFrame(data)\n",
    "\n",
    "\n",
    "frame\n"
   ]
  },
  {
   "cell_type": "markdown",
   "id": "0fd2701e-21c7-4bd8-aacc-3aa1ca51fba6",
   "metadata": {},
   "source": [
    "\n",
    "<br>\n",
    "\n",
    "<div style=\"margin-left: 80px;\">\n",
    "\n",
    "![](../media/pandas_dataframe_3.PNG)\n",
    "\n",
    "<span style=\"color: #a245ff; margin-left: 8px;\">Note that the returned Series have the same index as the DataFrame, and their <strong>name</strong> attribute has been appropriately set</span>\n",
    "\n",
    "</div>"
   ]
  },
  {
   "cell_type": "code",
   "execution_count": 47,
   "id": "a2343850-a6dd-4087-a035-94b43b19c7c1",
   "metadata": {},
   "outputs": [
    {
     "data": {
      "text/plain": [
       "0    1\n",
       "1    3\n",
       "Name: Years of Experience, dtype: int64"
      ]
     },
     "execution_count": 47,
     "metadata": {},
     "output_type": "execute_result"
    }
   ],
   "source": [
    "\n",
    "frame['Years of Experience']\n"
   ]
  },
  {
   "cell_type": "code",
   "execution_count": 48,
   "id": "90f2770c-355a-4121-877b-c7f53cc795bf",
   "metadata": {},
   "outputs": [
    {
     "data": {
      "text/plain": [
       "0    avinash.com\n",
       "1       aman.com\n",
       "Name: @portfolio, dtype: object"
      ]
     },
     "execution_count": 48,
     "metadata": {},
     "output_type": "execute_result"
    }
   ],
   "source": [
    "\n",
    "frame[\"@portfolio\"]\n"
   ]
  },
  {
   "cell_type": "code",
   "execution_count": 49,
   "id": "ff0816f8-8c70-432c-988a-5acb166ad6a3",
   "metadata": {},
   "outputs": [
    {
     "data": {
      "text/plain": [
       "'@portfolio'"
      ]
     },
     "execution_count": 49,
     "metadata": {},
     "output_type": "execute_result"
    }
   ],
   "source": [
    "\n",
    "frame['@portfolio'].name\n"
   ]
  },
  {
   "cell_type": "code",
   "execution_count": 50,
   "id": "76c2a60e-f709-448a-9f39-d4fad02ae780",
   "metadata": {},
   "outputs": [
    {
     "data": {
      "text/plain": [
       "dtype('O')"
      ]
     },
     "execution_count": 50,
     "metadata": {},
     "output_type": "execute_result"
    }
   ],
   "source": [
    "\n",
    "frame['@portfolio'].dtype\n"
   ]
  },
  {
   "cell_type": "markdown",
   "id": "1d3e1782-d4e7-419a-b846-24740290500d",
   "metadata": {
    "jp-MarkdownHeadingCollapsed": true
   },
   "source": [
    "##### <span style=\"color: #ffb585;\">----------------------------------------------------------------------------------------------------------------------------------------------------------------------------------------------</span>\n",
    "\n",
    "<span style=\"font-size: 0.9rem; color: black; font-size: 1.3rem;\">🔶</span> &nbsp;&nbsp;<span style=\"color: #f76607;\">Methods to find the <strong>type of a column</strong> of a pandas dataframe :</span>\n"
   ]
  },
  {
   "cell_type": "code",
   "execution_count": 51,
   "id": "c40f73b6-8019-4786-ae52-889ace14ea27",
   "metadata": {},
   "outputs": [
    {
     "data": {
      "text/html": [
       "<div>\n",
       "<style scoped>\n",
       "    .dataframe tbody tr th:only-of-type {\n",
       "        vertical-align: middle;\n",
       "    }\n",
       "\n",
       "    .dataframe tbody tr th {\n",
       "        vertical-align: top;\n",
       "    }\n",
       "\n",
       "    .dataframe thead th {\n",
       "        text-align: right;\n",
       "    }\n",
       "</style>\n",
       "<table border=\"1\" class=\"dataframe\">\n",
       "  <thead>\n",
       "    <tr style=\"text-align: right;\">\n",
       "      <th></th>\n",
       "      <th>name</th>\n",
       "      <th>age</th>\n",
       "      <th>height</th>\n",
       "      <th>is_student</th>\n",
       "    </tr>\n",
       "  </thead>\n",
       "  <tbody>\n",
       "    <tr>\n",
       "      <th>0</th>\n",
       "      <td>Avinash</td>\n",
       "      <td>25</td>\n",
       "      <td>5.5</td>\n",
       "      <td>True</td>\n",
       "    </tr>\n",
       "    <tr>\n",
       "      <th>1</th>\n",
       "      <td>Radha</td>\n",
       "      <td>30</td>\n",
       "      <td>6.0</td>\n",
       "      <td>False</td>\n",
       "    </tr>\n",
       "    <tr>\n",
       "      <th>2</th>\n",
       "      <td>Aman</td>\n",
       "      <td>35</td>\n",
       "      <td>5.8</td>\n",
       "      <td>True</td>\n",
       "    </tr>\n",
       "  </tbody>\n",
       "</table>\n",
       "</div>"
      ],
      "text/plain": [
       "      name  age  height  is_student\n",
       "0  Avinash   25     5.5        True\n",
       "1    Radha   30     6.0       False\n",
       "2     Aman   35     5.8        True"
      ]
     },
     "execution_count": 51,
     "metadata": {},
     "output_type": "execute_result"
    }
   ],
   "source": [
    "\n",
    "data = {\n",
    "    \"name\": [\"Avinash\", \"Radha\", \"Aman\"],\n",
    "    \"age\": [25, 30, 35],\n",
    "    \"height\": [5.5, 6.0, 5.8],\n",
    "    \"is_student\": [True, False, True],\n",
    "}\n",
    "\n",
    "df = pd.DataFrame(data)\n",
    "\n",
    "df\n"
   ]
  },
  {
   "cell_type": "markdown",
   "id": "871e8784-94c8-41f4-9d97-53d1f764b427",
   "metadata": {},
   "source": [
    "\n",
    "<span style=\"color: #a245ff;\">1. &nbsp;Using &nbsp;<code style=\"background-color: #ffff62;\"><span style=\"color: #a245ff; font-size: 0.8rem;\">df</span>.<span style=\"font-size: 1rem;\"><strong>dtypes</strong></span></code> &nbsp;<span style=\"fontsize: 0.8rem;\">property</span> &nbsp;&nbsp;&nbsp;&nbsp;&nbsp;&nbsp;&nbsp;&nbsp;===============================>&nbsp;&nbsp;&nbsp;&nbsp;&nbsp;&nbsp;&nbsp;&nbsp; This attribute returns the data types of <strong>all columns</strong> in the DataFrame</span>\n"
   ]
  },
  {
   "cell_type": "code",
   "execution_count": 52,
   "id": "974c8cae-1221-4431-8046-55d9edb1c9e9",
   "metadata": {},
   "outputs": [
    {
     "name": "stdout",
     "output_type": "stream",
     "text": [
      "name           object\n",
      "age             int64\n",
      "height        float64\n",
      "is_student       bool\n",
      "dtype: object\n"
     ]
    }
   ],
   "source": [
    "\n",
    "print(df.dtypes)\n"
   ]
  },
  {
   "cell_type": "markdown",
   "id": "cb09ad5f-b3eb-439c-adcb-aa9120a55f92",
   "metadata": {},
   "source": [
    "<br>\n",
    "\n",
    "<span style=\"color: #a245ff;\">2. &nbsp;Using &nbsp;<code style=\"background-color: #ffff62;\"><span style=\"color: #a245ff; font-size: 0.8rem;\">df[\"column1\"]</span>.<span style=\"font-size: 1rem;\"><strong>dtype</strong></span></code> &nbsp;<span style=\"fontsize: 0.8rem;\">property \n",
    "for a <strong>Specific Column</strong></span></span>\n"
   ]
  },
  {
   "cell_type": "code",
   "execution_count": 53,
   "id": "72e4a8f2-9ca0-41bb-9c1d-c613afd14b91",
   "metadata": {},
   "outputs": [
    {
     "name": "stdout",
     "output_type": "stream",
     "text": [
      "int64\n",
      "object\n"
     ]
    }
   ],
   "source": [
    "\n",
    "print(df[\"age\"].dtype)                        # OUTPUT: int64\n",
    "\n",
    "print(df[\"name\"].dtype)                       # OUTPUT: object\n"
   ]
  },
  {
   "cell_type": "markdown",
   "id": "62abab1a-dc0f-4fa1-a397-59146d8cbe6e",
   "metadata": {},
   "source": [
    "<br>\n",
    "\n",
    "<span style=\"color: #a245ff;\">3. &nbsp;Using &nbsp;<code style=\"background-color: #ffff62; font-size: 1rem;\"><strong>type(</strong><span style=\"color: #a245ff; font-size: 0.8rem;\">df[\"column1\"]</span><strong>)</strong></code> &nbsp;<span style=\"fontsize: 0.8rem;\">to Check the Type of a <strong>Column Object</strong>&nbsp;&nbsp;&nbsp;&nbsp;&nbsp;&nbsp;&nbsp; ======>&nbsp;&nbsp;&nbsp;&nbsp;&nbsp;&nbsp; checks the type of the column as a whole, which is usually a &nbsp;<code style=\"background-color: #f7deff;\">pandas.Series</code></span></span>\n"
   ]
  },
  {
   "cell_type": "code",
   "execution_count": 54,
   "id": "d315fa54-086b-432d-a48b-9d4ae84032e0",
   "metadata": {},
   "outputs": [
    {
     "name": "stdout",
     "output_type": "stream",
     "text": [
      "<class 'pandas.core.frame.DataFrame'>\n",
      "<class 'pandas.core.series.Series'>\n"
     ]
    }
   ],
   "source": [
    "\n",
    "print(type(df))                               # <class 'pandas.core.frame.DataFrame'>    ------------>     A dataframe is a collection of series\n",
    "\n",
    "print(type(df['name']))                       # <class 'pandas.core.series.Series'>\n"
   ]
  },
  {
   "cell_type": "markdown",
   "id": "bb59f8e6-aea0-4667-b309-28c48c488087",
   "metadata": {},
   "source": [
    "<br>\n",
    "\n",
    "<span style=\"color: #a245ff;\">4. &nbsp;Using &nbsp;<code style=\"background-color: #ffff62;\"><span style=\"color: #a245ff; font-size: 0.8rem;\">df</span>.<span style=\"font-size: 1rem;\"><strong>info()</strong></span></code> &nbsp;<span style=\"fontsize: 0.8rem;\">for an overview</span> &nbsp;&nbsp;&nbsp;&nbsp;&nbsp;&nbsp;&nbsp;&nbsp;===========================>&nbsp;&nbsp;&nbsp;&nbsp;&nbsp;&nbsp;&nbsp;&nbsp; This method provides a <strong>summary of the DataFrame</strong>, including column data types</span>\n"
   ]
  },
  {
   "cell_type": "code",
   "execution_count": 55,
   "id": "05b8aecc-5351-4f5b-b940-abcf7b031281",
   "metadata": {},
   "outputs": [
    {
     "name": "stdout",
     "output_type": "stream",
     "text": [
      "<class 'pandas.core.frame.DataFrame'>\n",
      "RangeIndex: 3 entries, 0 to 2\n",
      "Data columns (total 4 columns):\n",
      " #   Column      Non-Null Count  Dtype  \n",
      "---  ------      --------------  -----  \n",
      " 0   name        3 non-null      object \n",
      " 1   age         3 non-null      int64  \n",
      " 2   height      3 non-null      float64\n",
      " 3   is_student  3 non-null      bool   \n",
      "dtypes: bool(1), float64(1), int64(1), object(1)\n",
      "memory usage: 207.0+ bytes\n"
     ]
    }
   ],
   "source": [
    "\n",
    "df.info()\n"
   ]
  },
  {
   "cell_type": "markdown",
   "id": "439e2c18-99c0-49df-8cce-557898f90911",
   "metadata": {},
   "source": [
    "<br>\n",
    "\n",
    "<strong><u>Special Cases to Note</u></strong>\n",
    "\n",
    "<br>\n",
    "\n",
    "<span style=\"color: red;\">1. &nbsp;Object &nbsp;Columns <span style=\"font-size: 1rem;\">(</span>&nbsp;<code style=\"background-color: #c7feff;\">dtype('O')</code>&nbsp;<span style=\"font-size: 1rem;\">)</span> :</span>  <br>\n",
    "\n",
    "<div style=\"margin-left: 30px; color: #a245ff;\">\n",
    "\n",
    "- Columns with &nbsp;<code style=\"background-color: #c7feff;\">dtype('O')</code>&nbsp; can contain <u>strings</u>, &nbsp;<u>mixed types</u>, or <u>Python objects</u> . &nbsp;To check for string types :\n",
    "\n",
    "</div>"
   ]
  },
  {
   "cell_type": "code",
   "execution_count": 56,
   "id": "46304d1e-fc94-4d4c-9be8-eb9c49049d5f",
   "metadata": {},
   "outputs": [
    {
     "name": "stdout",
     "output_type": "stream",
     "text": [
      "[<class 'str'>]\n",
      "object\n"
     ]
    }
   ],
   "source": [
    "\n",
    "print(df[\"name\"].apply(type).unique())                    # Check unique types in the column     ------>     [<class 'str'>]\n",
    "\n",
    "\n",
    "print(df[\"name\"].dtype)                                   # object\n"
   ]
  },
  {
   "cell_type": "markdown",
   "id": "0557c6dc-8ed1-4876-a4b8-e98938be4e78",
   "metadata": {},
   "source": [
    "<br>\n",
    "\n",
    "<span style=\"color: red;\">2. &nbsp;Datetime &nbsp;Columns :</span>\n",
    "\n",
    "<div style=\"margin-left: 30px; color: #a245ff;\">\n",
    "\n",
    "- A column with datetime values will have &nbsp;<code style=\"background-color: #c7feff;\">datetime64</code>&nbsp; as its type\n",
    "\n",
    "</div>\n"
   ]
  },
  {
   "cell_type": "code",
   "execution_count": 57,
   "id": "57b63e27-be9c-40fa-af9b-1963117abca0",
   "metadata": {},
   "outputs": [
    {
     "name": "stdout",
     "output_type": "stream",
     "text": [
      "datetime64[ns]\n"
     ]
    }
   ],
   "source": [
    "\n",
    "df[\"date\"] = pd.to_datetime([\"2024-01-01\", \"2024-01-02\", \"2024-01-03\"])\n",
    "\n",
    "print(df[\"date\"].dtype)\n"
   ]
  },
  {
   "cell_type": "markdown",
   "id": "b5c293d3-8d14-468b-bc00-d14b2af83a35",
   "metadata": {},
   "source": [
    "<br>\n",
    "\n",
    "&nbsp;<code style=\"background-color: #c7feff; margin-left: 60px;\">datetime64</code> &nbsp;&nbsp;====> &nbsp;&nbsp; <code style=\"background-color: #ffff62;\">dtype\\('\\<M8[ns]')</code>"
   ]
  },
  {
   "cell_type": "code",
   "execution_count": 58,
   "id": "564f71ff-1c5f-47ba-b5d4-c06054eab0c0",
   "metadata": {},
   "outputs": [
    {
     "data": {
      "text/plain": [
       "dtype('<M8[ns]')"
      ]
     },
     "execution_count": 58,
     "metadata": {},
     "output_type": "execute_result"
    }
   ],
   "source": [
    "\n",
    "df[\"date\"].dtype\n",
    " "
   ]
  },
  {
   "cell_type": "code",
   "execution_count": 59,
   "id": "9ea8601a-d89e-4b28-816b-d8ce7f85133b",
   "metadata": {},
   "outputs": [
    {
     "data": {
      "text/plain": [
       "DatetimeIndex(['2024-01-01', '2024-01-02', '2024-01-03'], dtype='datetime64[ns]', freq=None)"
      ]
     },
     "execution_count": 59,
     "metadata": {},
     "output_type": "execute_result"
    }
   ],
   "source": [
    "\n",
    "pd.to_datetime([\"2024-01-01\", \"2024-01-02\", \"2024-01-03\"])\n"
   ]
  },
  {
   "cell_type": "code",
   "execution_count": 60,
   "id": "ef197480-c6a2-449e-9d0a-56164c11ffdc",
   "metadata": {},
   "outputs": [
    {
     "data": {
      "text/plain": [
       "pandas.core.indexes.datetimes.DatetimeIndex"
      ]
     },
     "execution_count": 60,
     "metadata": {},
     "output_type": "execute_result"
    }
   ],
   "source": [
    "\n",
    "type(pd.to_datetime([\"2024-01-01\", \"2024-01-02\", \"2024-01-03\"]))\n"
   ]
  },
  {
   "cell_type": "markdown",
   "id": "b148e253-7a05-474e-9753-7467ddee8e6b",
   "metadata": {},
   "source": [
    "<br>\n",
    "\n",
    "<span style=\"color: red;\">3. &nbsp;Category &nbsp;Columns :</span>\n",
    "\n",
    "<div style=\"margin-left: 30px; color: #a245ff;\">\n",
    "    \n",
    "- Categorical data has the type &nbsp;<code style=\"background-color: #c7feff;\">category</code>\n",
    "\n",
    "</div>"
   ]
  },
  {
   "cell_type": "code",
   "execution_count": 61,
   "id": "54c9c3d3-665a-42cd-95a8-bde5ef8253ec",
   "metadata": {},
   "outputs": [
    {
     "name": "stdout",
     "output_type": "stream",
     "text": [
      "category\n"
     ]
    }
   ],
   "source": [
    "\n",
    "df[\"category\"] = pd.Categorical([\"A\", \"B\", \"A\"])\n",
    "\n",
    "print(df[\"category\"].dtype)\n"
   ]
  },
  {
   "cell_type": "markdown",
   "id": "3578e923-313d-46cb-9c91-6d07dc74e4cf",
   "metadata": {},
   "source": [
    "<br>\n",
    "\n",
    "<div style=\"margin-left: 150px;\">\n",
    "\n",
    "![](../media/pandas_dataframe_4.PNG)\n",
    "\n",
    "</div>"
   ]
  },
  {
   "cell_type": "markdown",
   "id": "63e7db50-df94-455e-9933-f058f0d7c749",
   "metadata": {
    "jp-MarkdownHeadingCollapsed": true
   },
   "source": [
    "##### <span style=\"color: #ffb585;\">----------------------------------------------------------------------------------------------------------------------------------------------------------------------------------------------</span>\n",
    "\n",
    "<span style=\"font-size: 0.9rem; color: black; font-size: 1.3rem;\">🔶</span> &nbsp;&nbsp;<span style=\"color: #f76607;\">Rows can also be retrieved by <strong>position</strong> or <strong>name</strong> with the special &nbsp;<code style=\"background-color: #ffff62;\">iloc</code>&nbsp; and &nbsp;<code style=\"background-color: #ffff62;\">loc</code>&nbsp; attributes</span>  &nbsp;&nbsp;&nbsp;&nbsp;&nbsp;&nbsp;=====>&nbsp;&nbsp;&nbsp;&nbsp;&nbsp;&nbsp; <code style=\"background-color: #ffff62;\"><span style=\"color: #a245ff; font-size: 0.8rem;\">df</span>.<span style=\"font-size: 1rem;\"><strong>loc[]</strong></span></code> &nbsp;&nbsp;&nbsp;&&nbsp;&nbsp;&nbsp; <code style=\"background-color: #ffff62;\"><span style=\"color: #a245ff; font-size: 0.8rem;\">df</span>.<span style=\"font-size: 1rem;\"><strong>iloc[]</strong></span></code>\n",
    "<br><span style=\"color: blue; margin-left: 40px;\"><span style=\"font-size: 1.1rem;\">( </span> more on this later in <code style=\"background-color: blue; color: white;\">Selection on DataFrame with loc and iloc</code> &nbsp;<span style=\"font-size: 1.1rem;\">)</span></span>"
   ]
  },
  {
   "cell_type": "code",
   "execution_count": 62,
   "id": "3a6ca2df-f062-49e2-be7a-1cf421831a58",
   "metadata": {},
   "outputs": [
    {
     "data": {
      "text/html": [
       "<div>\n",
       "<style scoped>\n",
       "    .dataframe tbody tr th:only-of-type {\n",
       "        vertical-align: middle;\n",
       "    }\n",
       "\n",
       "    .dataframe tbody tr th {\n",
       "        vertical-align: top;\n",
       "    }\n",
       "\n",
       "    .dataframe thead th {\n",
       "        text-align: right;\n",
       "    }\n",
       "</style>\n",
       "<table border=\"1\" class=\"dataframe\">\n",
       "  <thead>\n",
       "    <tr style=\"text-align: right;\">\n",
       "      <th></th>\n",
       "      <th>year</th>\n",
       "      <th>city</th>\n",
       "      <th>population</th>\n",
       "      <th>debt</th>\n",
       "    </tr>\n",
       "  </thead>\n",
       "  <tbody>\n",
       "    <tr>\n",
       "      <th>0</th>\n",
       "      <td>2000</td>\n",
       "      <td>Mumbai</td>\n",
       "      <td>1.5</td>\n",
       "      <td>NaN</td>\n",
       "    </tr>\n",
       "    <tr>\n",
       "      <th>1</th>\n",
       "      <td>2001</td>\n",
       "      <td>Mumbai</td>\n",
       "      <td>1.7</td>\n",
       "      <td>NaN</td>\n",
       "    </tr>\n",
       "    <tr>\n",
       "      <th>2</th>\n",
       "      <td>2002</td>\n",
       "      <td>Mumbai</td>\n",
       "      <td>3.6</td>\n",
       "      <td>NaN</td>\n",
       "    </tr>\n",
       "    <tr>\n",
       "      <th>3</th>\n",
       "      <td>2001</td>\n",
       "      <td>Delhi</td>\n",
       "      <td>2.4</td>\n",
       "      <td>NaN</td>\n",
       "    </tr>\n",
       "    <tr>\n",
       "      <th>4</th>\n",
       "      <td>2002</td>\n",
       "      <td>Delhi</td>\n",
       "      <td>2.9</td>\n",
       "      <td>NaN</td>\n",
       "    </tr>\n",
       "    <tr>\n",
       "      <th>5</th>\n",
       "      <td>2003</td>\n",
       "      <td>Delhi</td>\n",
       "      <td>3.2</td>\n",
       "      <td>NaN</td>\n",
       "    </tr>\n",
       "  </tbody>\n",
       "</table>\n",
       "</div>"
      ],
      "text/plain": [
       "   year    city  population debt\n",
       "0  2000  Mumbai         1.5  NaN\n",
       "1  2001  Mumbai         1.7  NaN\n",
       "2  2002  Mumbai         3.6  NaN\n",
       "3  2001   Delhi         2.4  NaN\n",
       "4  2002   Delhi         2.9  NaN\n",
       "5  2003   Delhi         3.2  NaN"
      ]
     },
     "execution_count": 62,
     "metadata": {},
     "output_type": "execute_result"
    }
   ],
   "source": [
    "\n",
    "frame2\n"
   ]
  },
  {
   "cell_type": "code",
   "execution_count": 63,
   "id": "43237226-9f83-4cde-8c6a-27d327d35b3c",
   "metadata": {},
   "outputs": [
    {
     "data": {
      "text/plain": [
       "year            2001\n",
       "city          Mumbai\n",
       "population       1.7\n",
       "debt             NaN\n",
       "Name: 1, dtype: object"
      ]
     },
     "execution_count": 63,
     "metadata": {},
     "output_type": "execute_result"
    }
   ],
   "source": [
    "\n",
    "frame2.loc[1]\n"
   ]
  },
  {
   "cell_type": "code",
   "execution_count": 64,
   "id": "4706ad95-9daa-4056-ab73-dd67c86e0a0e",
   "metadata": {},
   "outputs": [
    {
     "data": {
      "text/plain": [
       "year            2002\n",
       "city          Mumbai\n",
       "population       3.6\n",
       "debt             NaN\n",
       "Name: 2, dtype: object"
      ]
     },
     "execution_count": 64,
     "metadata": {},
     "output_type": "execute_result"
    }
   ],
   "source": [
    "\n",
    "frame2.iloc[2]\n"
   ]
  },
  {
   "cell_type": "markdown",
   "id": "2cc2c88a-1986-4ff2-8547-263e1e6c1303",
   "metadata": {
    "jp-MarkdownHeadingCollapsed": true
   },
   "source": [
    "##### <span style=\"color: #ffb585;\">----------------------------------------------------------------------------------------------------------------------------------------------------------------------------------------------</span>\n",
    "\n",
    "<span style=\"font-size: 0.9rem; color: black; font-size: 1.3rem;\">🔶</span> &nbsp;&nbsp;<span style=\"color: #f76607;\"><strong>Columns can be modified by assignment.</strong> &nbsp;For example, the empty &nbsp;<code style=\"background-color: #ffead5;\">debt</code>&nbsp; column could be assigned a <span style=\"background-color: #ffead5; color: #f76607;\"> &nbsp;scalar value </span> &nbsp;or <span style=\"background-color: #ffead5; color: #f76607;\"> &nbsp;an array of values </span> &nbsp;:</span>\n"
   ]
  },
  {
   "cell_type": "markdown",
   "id": "bce69327-f07b-4e9b-9867-8d454a610d4e",
   "metadata": {},
   "source": [
    "<span style=\"color: #a245ff; margin-left: 42px;\">Assigning a <strong>scalar</strong> to a column :</span>"
   ]
  },
  {
   "cell_type": "code",
   "execution_count": 65,
   "id": "7f576aaf-a76a-4e53-a189-bf3002aa5624",
   "metadata": {},
   "outputs": [
    {
     "data": {
      "text/html": [
       "<div>\n",
       "<style scoped>\n",
       "    .dataframe tbody tr th:only-of-type {\n",
       "        vertical-align: middle;\n",
       "    }\n",
       "\n",
       "    .dataframe tbody tr th {\n",
       "        vertical-align: top;\n",
       "    }\n",
       "\n",
       "    .dataframe thead th {\n",
       "        text-align: right;\n",
       "    }\n",
       "</style>\n",
       "<table border=\"1\" class=\"dataframe\">\n",
       "  <thead>\n",
       "    <tr style=\"text-align: right;\">\n",
       "      <th></th>\n",
       "      <th>year</th>\n",
       "      <th>city</th>\n",
       "      <th>population</th>\n",
       "      <th>debt</th>\n",
       "    </tr>\n",
       "  </thead>\n",
       "  <tbody>\n",
       "    <tr>\n",
       "      <th>0</th>\n",
       "      <td>2000</td>\n",
       "      <td>Mumbai</td>\n",
       "      <td>1.5</td>\n",
       "      <td>16.5</td>\n",
       "    </tr>\n",
       "    <tr>\n",
       "      <th>1</th>\n",
       "      <td>2001</td>\n",
       "      <td>Mumbai</td>\n",
       "      <td>1.7</td>\n",
       "      <td>16.5</td>\n",
       "    </tr>\n",
       "    <tr>\n",
       "      <th>2</th>\n",
       "      <td>2002</td>\n",
       "      <td>Mumbai</td>\n",
       "      <td>3.6</td>\n",
       "      <td>16.5</td>\n",
       "    </tr>\n",
       "    <tr>\n",
       "      <th>3</th>\n",
       "      <td>2001</td>\n",
       "      <td>Delhi</td>\n",
       "      <td>2.4</td>\n",
       "      <td>16.5</td>\n",
       "    </tr>\n",
       "    <tr>\n",
       "      <th>4</th>\n",
       "      <td>2002</td>\n",
       "      <td>Delhi</td>\n",
       "      <td>2.9</td>\n",
       "      <td>16.5</td>\n",
       "    </tr>\n",
       "    <tr>\n",
       "      <th>5</th>\n",
       "      <td>2003</td>\n",
       "      <td>Delhi</td>\n",
       "      <td>3.2</td>\n",
       "      <td>16.5</td>\n",
       "    </tr>\n",
       "  </tbody>\n",
       "</table>\n",
       "</div>"
      ],
      "text/plain": [
       "   year    city  population  debt\n",
       "0  2000  Mumbai         1.5  16.5\n",
       "1  2001  Mumbai         1.7  16.5\n",
       "2  2002  Mumbai         3.6  16.5\n",
       "3  2001   Delhi         2.4  16.5\n",
       "4  2002   Delhi         2.9  16.5\n",
       "5  2003   Delhi         3.2  16.5"
      ]
     },
     "execution_count": 65,
     "metadata": {},
     "output_type": "execute_result"
    }
   ],
   "source": [
    "\n",
    "frame2[\"debt\"] = 16.5\n",
    "\n",
    "frame2\n"
   ]
  },
  {
   "cell_type": "markdown",
   "id": "6a07282c-8325-4237-bb45-b244d5599539",
   "metadata": {},
   "source": [
    "\n",
    "<span style=\"color: #a245ff; margin-left: 42px;\">Assigning a <strong>vector</strong> (array of values) to a column :</span>"
   ]
  },
  {
   "cell_type": "code",
   "execution_count": 66,
   "id": "806171c2-51fc-437b-bdb6-9fba75858bba",
   "metadata": {},
   "outputs": [
    {
     "data": {
      "text/html": [
       "<div>\n",
       "<style scoped>\n",
       "    .dataframe tbody tr th:only-of-type {\n",
       "        vertical-align: middle;\n",
       "    }\n",
       "\n",
       "    .dataframe tbody tr th {\n",
       "        vertical-align: top;\n",
       "    }\n",
       "\n",
       "    .dataframe thead th {\n",
       "        text-align: right;\n",
       "    }\n",
       "</style>\n",
       "<table border=\"1\" class=\"dataframe\">\n",
       "  <thead>\n",
       "    <tr style=\"text-align: right;\">\n",
       "      <th></th>\n",
       "      <th>year</th>\n",
       "      <th>city</th>\n",
       "      <th>population</th>\n",
       "      <th>debt</th>\n",
       "    </tr>\n",
       "  </thead>\n",
       "  <tbody>\n",
       "    <tr>\n",
       "      <th>0</th>\n",
       "      <td>2000</td>\n",
       "      <td>Mumbai</td>\n",
       "      <td>1.5</td>\n",
       "      <td>0.0</td>\n",
       "    </tr>\n",
       "    <tr>\n",
       "      <th>1</th>\n",
       "      <td>2001</td>\n",
       "      <td>Mumbai</td>\n",
       "      <td>1.7</td>\n",
       "      <td>1.0</td>\n",
       "    </tr>\n",
       "    <tr>\n",
       "      <th>2</th>\n",
       "      <td>2002</td>\n",
       "      <td>Mumbai</td>\n",
       "      <td>3.6</td>\n",
       "      <td>2.0</td>\n",
       "    </tr>\n",
       "    <tr>\n",
       "      <th>3</th>\n",
       "      <td>2001</td>\n",
       "      <td>Delhi</td>\n",
       "      <td>2.4</td>\n",
       "      <td>3.0</td>\n",
       "    </tr>\n",
       "    <tr>\n",
       "      <th>4</th>\n",
       "      <td>2002</td>\n",
       "      <td>Delhi</td>\n",
       "      <td>2.9</td>\n",
       "      <td>4.0</td>\n",
       "    </tr>\n",
       "    <tr>\n",
       "      <th>5</th>\n",
       "      <td>2003</td>\n",
       "      <td>Delhi</td>\n",
       "      <td>3.2</td>\n",
       "      <td>5.0</td>\n",
       "    </tr>\n",
       "  </tbody>\n",
       "</table>\n",
       "</div>"
      ],
      "text/plain": [
       "   year    city  population  debt\n",
       "0  2000  Mumbai         1.5   0.0\n",
       "1  2001  Mumbai         1.7   1.0\n",
       "2  2002  Mumbai         3.6   2.0\n",
       "3  2001   Delhi         2.4   3.0\n",
       "4  2002   Delhi         2.9   4.0\n",
       "5  2003   Delhi         3.2   5.0"
      ]
     },
     "execution_count": 66,
     "metadata": {},
     "output_type": "execute_result"
    }
   ],
   "source": [
    "\n",
    "frame2[\"debt\"] = np.arange(6.)                 #  np.arange(6.)  =  [0., 1., 2., 3., 4., 5.]\n",
    "                                               #  np.arange(6)   =  [0, 1, 2, 3, 4, 5]\n",
    "\n",
    "\n",
    "frame2\n"
   ]
  },
  {
   "cell_type": "markdown",
   "id": "8c11baa2-451e-4651-985b-ef1045ae470e",
   "metadata": {
    "jp-MarkdownHeadingCollapsed": true
   },
   "source": [
    "##### <span style=\"color: #ffb585;\">----------------------------------------------------------------------------------------------------------------------------------------------------------------------------------------------</span>\n",
    "\n",
    "<span style=\"font-size: 0.9rem; color: black; font-size: 1.3rem;\">🔶</span> &nbsp;&nbsp;<span style=\"color: #f76607;\"><strong>When you are assigning lists or arrays to a column</strong>, <u>the value’s length must <strong>match</strong> the length of the DataFrame</u>.</span>\n"
   ]
  },
  {
   "cell_type": "markdown",
   "id": "71cda422-b8e6-498a-8815-d5e72dae4cbf",
   "metadata": {},
   "source": [
    "<div style=\"margin-left: 80px;\">\n",
    "\n",
    "![](../media/pandas_dataframe_5.PNG)\n",
    "\n",
    "</div>\n"
   ]
  },
  {
   "cell_type": "markdown",
   "id": "5496c22e-8405-4440-9c68-004ce7774563",
   "metadata": {
    "jp-MarkdownHeadingCollapsed": true
   },
   "source": [
    "##### <span style=\"color: #ffb585;\">----------------------------------------------------------------------------------------------------------------------------------------------------------------------------------------------</span>\n",
    "\n",
    "<br>\n",
    "\n",
    "<span style=\"font-size: 0.9rem; color: black; font-size: 1.3rem;\">🔶</span> &nbsp;&nbsp;<span style=\"color: #f76607;\"><strong>If you assign a Series</strong>, its labels will be <strong>realigned exactly</strong> to the DataFrame’s index, <strong>inserting missing values if any index values not present</strong> :</span>"
   ]
  },
  {
   "cell_type": "code",
   "execution_count": 67,
   "id": "a98a6867-3add-4f65-a228-ad85c0094d71",
   "metadata": {},
   "outputs": [
    {
     "data": {
      "text/html": [
       "<div>\n",
       "<style scoped>\n",
       "    .dataframe tbody tr th:only-of-type {\n",
       "        vertical-align: middle;\n",
       "    }\n",
       "\n",
       "    .dataframe tbody tr th {\n",
       "        vertical-align: top;\n",
       "    }\n",
       "\n",
       "    .dataframe thead th {\n",
       "        text-align: right;\n",
       "    }\n",
       "</style>\n",
       "<table border=\"1\" class=\"dataframe\">\n",
       "  <thead>\n",
       "    <tr style=\"text-align: right;\">\n",
       "      <th></th>\n",
       "      <th>year</th>\n",
       "      <th>city</th>\n",
       "      <th>population</th>\n",
       "      <th>debt</th>\n",
       "    </tr>\n",
       "  </thead>\n",
       "  <tbody>\n",
       "    <tr>\n",
       "      <th>0</th>\n",
       "      <td>2000</td>\n",
       "      <td>Mumbai</td>\n",
       "      <td>1.5</td>\n",
       "      <td>NaN</td>\n",
       "    </tr>\n",
       "    <tr>\n",
       "      <th>1</th>\n",
       "      <td>2001</td>\n",
       "      <td>Mumbai</td>\n",
       "      <td>1.7</td>\n",
       "      <td>NaN</td>\n",
       "    </tr>\n",
       "    <tr>\n",
       "      <th>2</th>\n",
       "      <td>2002</td>\n",
       "      <td>Mumbai</td>\n",
       "      <td>3.6</td>\n",
       "      <td>-1.2</td>\n",
       "    </tr>\n",
       "    <tr>\n",
       "      <th>3</th>\n",
       "      <td>2001</td>\n",
       "      <td>Delhi</td>\n",
       "      <td>2.4</td>\n",
       "      <td>NaN</td>\n",
       "    </tr>\n",
       "    <tr>\n",
       "      <th>4</th>\n",
       "      <td>2002</td>\n",
       "      <td>Delhi</td>\n",
       "      <td>2.9</td>\n",
       "      <td>-1.5</td>\n",
       "    </tr>\n",
       "    <tr>\n",
       "      <th>5</th>\n",
       "      <td>2003</td>\n",
       "      <td>Delhi</td>\n",
       "      <td>3.2</td>\n",
       "      <td>-1.7</td>\n",
       "    </tr>\n",
       "  </tbody>\n",
       "</table>\n",
       "</div>"
      ],
      "text/plain": [
       "   year    city  population  debt\n",
       "0  2000  Mumbai         1.5   NaN\n",
       "1  2001  Mumbai         1.7   NaN\n",
       "2  2002  Mumbai         3.6  -1.2\n",
       "3  2001   Delhi         2.4   NaN\n",
       "4  2002   Delhi         2.9  -1.5\n",
       "5  2003   Delhi         3.2  -1.7"
      ]
     },
     "execution_count": 67,
     "metadata": {},
     "output_type": "execute_result"
    }
   ],
   "source": [
    "\n",
    "val = pd.Series([-1.2, -1.5, -1.7], index=[2, 4, 5])\n",
    "\n",
    "frame2[\"debt\"] = val\n",
    "\n",
    "frame2\n"
   ]
  },
  {
   "cell_type": "markdown",
   "id": "10082e2f-7fcd-4f7b-a827-f3ab51cfb83b",
   "metadata": {
    "jp-MarkdownHeadingCollapsed": true
   },
   "source": [
    "##### <span style=\"color: #ffb585;\">----------------------------------------------------------------------------------------------------------------------------------------------------------------------------------------------</span>\n",
    "\n",
    "<span style=\"font-size: 0.9rem; color: black; font-size: 1.3rem;\">🔶</span> &nbsp;&nbsp;<span style=\"color: #f76607;\">Assigning a column that <u>doesn’t exist</u> will create a <strong>new column</strong>.</span>"
   ]
  },
  {
   "cell_type": "markdown",
   "id": "a85b5866-09ab-49c8-bc88-28c22ad20f54",
   "metadata": {},
   "source": [
    "\n",
    "<code style=\"background-color: black; color: white;\">Example - 1</code>"
   ]
  },
  {
   "cell_type": "code",
   "execution_count": 68,
   "id": "d656a3e9-89c1-49ee-8a47-e830cc369845",
   "metadata": {},
   "outputs": [
    {
     "data": {
      "text/html": [
       "<div>\n",
       "<style scoped>\n",
       "    .dataframe tbody tr th:only-of-type {\n",
       "        vertical-align: middle;\n",
       "    }\n",
       "\n",
       "    .dataframe tbody tr th {\n",
       "        vertical-align: top;\n",
       "    }\n",
       "\n",
       "    .dataframe thead th {\n",
       "        text-align: right;\n",
       "    }\n",
       "</style>\n",
       "<table border=\"1\" class=\"dataframe\">\n",
       "  <thead>\n",
       "    <tr style=\"text-align: right;\">\n",
       "      <th></th>\n",
       "      <th>year</th>\n",
       "      <th>city</th>\n",
       "      <th>population</th>\n",
       "      <th>debt</th>\n",
       "      <th>gdp_growth_rate_in_percentage</th>\n",
       "    </tr>\n",
       "  </thead>\n",
       "  <tbody>\n",
       "    <tr>\n",
       "      <th>0</th>\n",
       "      <td>2000</td>\n",
       "      <td>Mumbai</td>\n",
       "      <td>1.5</td>\n",
       "      <td>NaN</td>\n",
       "      <td>5.5</td>\n",
       "    </tr>\n",
       "    <tr>\n",
       "      <th>1</th>\n",
       "      <td>2001</td>\n",
       "      <td>Mumbai</td>\n",
       "      <td>1.7</td>\n",
       "      <td>NaN</td>\n",
       "      <td>7.6</td>\n",
       "    </tr>\n",
       "    <tr>\n",
       "      <th>2</th>\n",
       "      <td>2002</td>\n",
       "      <td>Mumbai</td>\n",
       "      <td>3.6</td>\n",
       "      <td>-1.2</td>\n",
       "      <td>6.3</td>\n",
       "    </tr>\n",
       "    <tr>\n",
       "      <th>3</th>\n",
       "      <td>2001</td>\n",
       "      <td>Delhi</td>\n",
       "      <td>2.4</td>\n",
       "      <td>NaN</td>\n",
       "      <td>6.2</td>\n",
       "    </tr>\n",
       "    <tr>\n",
       "      <th>4</th>\n",
       "      <td>2002</td>\n",
       "      <td>Delhi</td>\n",
       "      <td>2.9</td>\n",
       "      <td>-1.5</td>\n",
       "      <td>7.9</td>\n",
       "    </tr>\n",
       "    <tr>\n",
       "      <th>5</th>\n",
       "      <td>2003</td>\n",
       "      <td>Delhi</td>\n",
       "      <td>3.2</td>\n",
       "      <td>-1.7</td>\n",
       "      <td>7.0</td>\n",
       "    </tr>\n",
       "  </tbody>\n",
       "</table>\n",
       "</div>"
      ],
      "text/plain": [
       "   year    city  population  debt  gdp_growth_rate_in_percentage\n",
       "0  2000  Mumbai         1.5   NaN                            5.5\n",
       "1  2001  Mumbai         1.7   NaN                            7.6\n",
       "2  2002  Mumbai         3.6  -1.2                            6.3\n",
       "3  2001   Delhi         2.4   NaN                            6.2\n",
       "4  2002   Delhi         2.9  -1.5                            7.9\n",
       "5  2003   Delhi         3.2  -1.7                            7.0"
      ]
     },
     "execution_count": 68,
     "metadata": {},
     "output_type": "execute_result"
    }
   ],
   "source": [
    "\n",
    "frame2[\"gdp_growth_rate_in_percentage\"] = pd.Series([5.5, 7.6, 6.3, 6.2, 7.9, 7.0])\n",
    "\n",
    "frame2\n"
   ]
  },
  {
   "cell_type": "markdown",
   "id": "5f0abf72-e7b6-4d50-aafe-c2a18af8bb37",
   "metadata": {},
   "source": [
    "<code style=\"background-color: black; color: white;\">Example - 2</code>"
   ]
  },
  {
   "cell_type": "code",
   "execution_count": 69,
   "id": "85ec375f-7dd9-4712-886b-ca9476541cf3",
   "metadata": {},
   "outputs": [
    {
     "data": {
      "text/plain": [
       "0     True\n",
       "1     True\n",
       "2     True\n",
       "3    False\n",
       "4    False\n",
       "5    False\n",
       "Name: city, dtype: bool"
      ]
     },
     "execution_count": 69,
     "metadata": {},
     "output_type": "execute_result"
    }
   ],
   "source": [
    "\n",
    "frame2[\"city\"] == \"Mumbai\"\n"
   ]
  },
  {
   "cell_type": "code",
   "execution_count": 70,
   "id": "c5fd4dc2-d02f-48b0-bb8f-b4a0c5a83cfb",
   "metadata": {},
   "outputs": [
    {
     "data": {
      "text/html": [
       "<div>\n",
       "<style scoped>\n",
       "    .dataframe tbody tr th:only-of-type {\n",
       "        vertical-align: middle;\n",
       "    }\n",
       "\n",
       "    .dataframe tbody tr th {\n",
       "        vertical-align: top;\n",
       "    }\n",
       "\n",
       "    .dataframe thead th {\n",
       "        text-align: right;\n",
       "    }\n",
       "</style>\n",
       "<table border=\"1\" class=\"dataframe\">\n",
       "  <thead>\n",
       "    <tr style=\"text-align: right;\">\n",
       "      <th></th>\n",
       "      <th>year</th>\n",
       "      <th>city</th>\n",
       "      <th>population</th>\n",
       "      <th>debt</th>\n",
       "      <th>gdp_growth_rate_in_percentage</th>\n",
       "      <th>western</th>\n",
       "    </tr>\n",
       "  </thead>\n",
       "  <tbody>\n",
       "    <tr>\n",
       "      <th>0</th>\n",
       "      <td>2000</td>\n",
       "      <td>Mumbai</td>\n",
       "      <td>1.5</td>\n",
       "      <td>NaN</td>\n",
       "      <td>5.5</td>\n",
       "      <td>True</td>\n",
       "    </tr>\n",
       "    <tr>\n",
       "      <th>1</th>\n",
       "      <td>2001</td>\n",
       "      <td>Mumbai</td>\n",
       "      <td>1.7</td>\n",
       "      <td>NaN</td>\n",
       "      <td>7.6</td>\n",
       "      <td>True</td>\n",
       "    </tr>\n",
       "    <tr>\n",
       "      <th>2</th>\n",
       "      <td>2002</td>\n",
       "      <td>Mumbai</td>\n",
       "      <td>3.6</td>\n",
       "      <td>-1.2</td>\n",
       "      <td>6.3</td>\n",
       "      <td>True</td>\n",
       "    </tr>\n",
       "    <tr>\n",
       "      <th>3</th>\n",
       "      <td>2001</td>\n",
       "      <td>Delhi</td>\n",
       "      <td>2.4</td>\n",
       "      <td>NaN</td>\n",
       "      <td>6.2</td>\n",
       "      <td>False</td>\n",
       "    </tr>\n",
       "    <tr>\n",
       "      <th>4</th>\n",
       "      <td>2002</td>\n",
       "      <td>Delhi</td>\n",
       "      <td>2.9</td>\n",
       "      <td>-1.5</td>\n",
       "      <td>7.9</td>\n",
       "      <td>False</td>\n",
       "    </tr>\n",
       "    <tr>\n",
       "      <th>5</th>\n",
       "      <td>2003</td>\n",
       "      <td>Delhi</td>\n",
       "      <td>3.2</td>\n",
       "      <td>-1.7</td>\n",
       "      <td>7.0</td>\n",
       "      <td>False</td>\n",
       "    </tr>\n",
       "  </tbody>\n",
       "</table>\n",
       "</div>"
      ],
      "text/plain": [
       "   year    city  population  debt  gdp_growth_rate_in_percentage  western\n",
       "0  2000  Mumbai         1.5   NaN                            5.5     True\n",
       "1  2001  Mumbai         1.7   NaN                            7.6     True\n",
       "2  2002  Mumbai         3.6  -1.2                            6.3     True\n",
       "3  2001   Delhi         2.4   NaN                            6.2    False\n",
       "4  2002   Delhi         2.9  -1.5                            7.9    False\n",
       "5  2003   Delhi         3.2  -1.7                            7.0    False"
      ]
     },
     "execution_count": 70,
     "metadata": {},
     "output_type": "execute_result"
    }
   ],
   "source": [
    "\n",
    "frame2[\"western\"] = frame2[\"city\"] == \"Mumbai\"                       # adds a new column of Boolean values where the city column equals \"Mumbai\"\n",
    "\n",
    "frame2\n"
   ]
  },
  {
   "cell_type": "markdown",
   "id": "68a6d173-1b21-45e8-b144-ed3672b5261d",
   "metadata": {},
   "source": [
    "\n",
    "<span style=\"color: #a245ff;\">However it is important to note here that <u>new columns</u> <strong>cannot be created</strong> with the <strong>dot attribute</strong> notation.</span>"
   ]
  },
  {
   "cell_type": "code",
   "execution_count": 71,
   "id": "2747ecd3-0141-45b3-a275-3acb8182f719",
   "metadata": {},
   "outputs": [
    {
     "name": "stderr",
     "output_type": "stream",
     "text": [
      "C:\\Users\\user\\AppData\\Local\\Temp\\ipykernel_9012\\3821651426.py:1: UserWarning: Pandas doesn't allow columns to be created via a new attribute name - see https://pandas.pydata.org/pandas-docs/stable/indexing.html#attribute-access\n",
      "  frame2.northern = frame2[\"city\"] == \"Delhi\"\n"
     ]
    }
   ],
   "source": [
    "\n",
    "frame2.northern = frame2[\"city\"] == \"Delhi\"\n"
   ]
  },
  {
   "cell_type": "markdown",
   "id": "a294bad1-93e7-49ec-9772-35b45af1af1c",
   "metadata": {
    "jp-MarkdownHeadingCollapsed": true
   },
   "source": [
    "##### <span style=\"color: #ffb585;\">----------------------------------------------------------------------------------------------------------------------------------------------------------------------------------------------</span>\n",
    "\n",
    "<span style=\"font-size: 0.9rem; color: black; font-size: 1.3rem;\">🔶</span> &nbsp;&nbsp;<span style=\"color: #f76607;\">The &nbsp;<code style=\"background-color: #ffff62;\">del</code>&nbsp; keyword will <strong>delete columns</strong> like with a dictionary.</span>"
   ]
  },
  {
   "cell_type": "code",
   "execution_count": 72,
   "id": "da64cb79-f6d0-41cf-830b-acdacd5de2ff",
   "metadata": {},
   "outputs": [
    {
     "data": {
      "text/plain": [
       "Index(['year', 'city', 'population', 'debt', 'gdp_growth_rate_in_percentage'], dtype='object')"
      ]
     },
     "execution_count": 72,
     "metadata": {},
     "output_type": "execute_result"
    }
   ],
   "source": [
    "\n",
    "del frame2[\"western\"]\n",
    "\n",
    "frame2.columns\n"
   ]
  },
  {
   "cell_type": "code",
   "execution_count": 73,
   "id": "debf5099-457d-4671-b0bb-1d60586e4b6d",
   "metadata": {},
   "outputs": [
    {
     "data": {
      "text/html": [
       "<div>\n",
       "<style scoped>\n",
       "    .dataframe tbody tr th:only-of-type {\n",
       "        vertical-align: middle;\n",
       "    }\n",
       "\n",
       "    .dataframe tbody tr th {\n",
       "        vertical-align: top;\n",
       "    }\n",
       "\n",
       "    .dataframe thead th {\n",
       "        text-align: right;\n",
       "    }\n",
       "</style>\n",
       "<table border=\"1\" class=\"dataframe\">\n",
       "  <thead>\n",
       "    <tr style=\"text-align: right;\">\n",
       "      <th></th>\n",
       "      <th>year</th>\n",
       "      <th>city</th>\n",
       "      <th>population</th>\n",
       "      <th>debt</th>\n",
       "      <th>gdp_growth_rate_in_percentage</th>\n",
       "    </tr>\n",
       "  </thead>\n",
       "  <tbody>\n",
       "    <tr>\n",
       "      <th>0</th>\n",
       "      <td>2000</td>\n",
       "      <td>Mumbai</td>\n",
       "      <td>1.5</td>\n",
       "      <td>NaN</td>\n",
       "      <td>5.5</td>\n",
       "    </tr>\n",
       "    <tr>\n",
       "      <th>1</th>\n",
       "      <td>2001</td>\n",
       "      <td>Mumbai</td>\n",
       "      <td>1.7</td>\n",
       "      <td>NaN</td>\n",
       "      <td>7.6</td>\n",
       "    </tr>\n",
       "    <tr>\n",
       "      <th>2</th>\n",
       "      <td>2002</td>\n",
       "      <td>Mumbai</td>\n",
       "      <td>3.6</td>\n",
       "      <td>-1.2</td>\n",
       "      <td>6.3</td>\n",
       "    </tr>\n",
       "    <tr>\n",
       "      <th>3</th>\n",
       "      <td>2001</td>\n",
       "      <td>Delhi</td>\n",
       "      <td>2.4</td>\n",
       "      <td>NaN</td>\n",
       "      <td>6.2</td>\n",
       "    </tr>\n",
       "    <tr>\n",
       "      <th>4</th>\n",
       "      <td>2002</td>\n",
       "      <td>Delhi</td>\n",
       "      <td>2.9</td>\n",
       "      <td>-1.5</td>\n",
       "      <td>7.9</td>\n",
       "    </tr>\n",
       "    <tr>\n",
       "      <th>5</th>\n",
       "      <td>2003</td>\n",
       "      <td>Delhi</td>\n",
       "      <td>3.2</td>\n",
       "      <td>-1.7</td>\n",
       "      <td>7.0</td>\n",
       "    </tr>\n",
       "  </tbody>\n",
       "</table>\n",
       "</div>"
      ],
      "text/plain": [
       "   year    city  population  debt  gdp_growth_rate_in_percentage\n",
       "0  2000  Mumbai         1.5   NaN                            5.5\n",
       "1  2001  Mumbai         1.7   NaN                            7.6\n",
       "2  2002  Mumbai         3.6  -1.2                            6.3\n",
       "3  2001   Delhi         2.4   NaN                            6.2\n",
       "4  2002   Delhi         2.9  -1.5                            7.9\n",
       "5  2003   Delhi         3.2  -1.7                            7.0"
      ]
     },
     "execution_count": 73,
     "metadata": {},
     "output_type": "execute_result"
    }
   ],
   "source": [
    "\n",
    "frame2\n"
   ]
  },
  {
   "cell_type": "markdown",
   "id": "2676fef6-b3e7-46f2-8258-3012ec5283b0",
   "metadata": {
    "jp-MarkdownHeadingCollapsed": true
   },
   "source": [
    "##### <span style=\"color: #ffb585;\">----------------------------------------------------------------------------------------------------------------------------------------------------------------------------------------------</span>\n",
    "\n",
    "<div style=\"display: flex;\">\n",
    "<div><span style=\"font-size: 0.9rem; color: black; font-size: 1.3rem;\">🔶</span>&nbsp;&nbsp;&nbsp;</div>\n",
    "<div><span style=\"color: #f76607;\">The column returned from indexing a DataFrame <u>is a <strong>view</strong></u> on the underlying data, <u>not a <strong>copy</strong></u>. &nbsp;Thus, <strong>any in-place modifications to the Series will be reflected in the DataFrame</strong>. &nbsp;The column can be explicitly copied with the Series’s &nbsp;<code style=\"background-color: #ffff62;\">copy</code>&nbsp; method.</span></div>\n",
    "</div>\n"
   ]
  },
  {
   "cell_type": "code",
   "execution_count": 74,
   "id": "7a55230a-38d8-4f10-97db-72baa37fa93b",
   "metadata": {},
   "outputs": [
    {
     "name": "stderr",
     "output_type": "stream",
     "text": [
      "C:\\Users\\user\\AppData\\Local\\Temp\\ipykernel_9012\\2669856102.py:1: SettingWithCopyWarning: \n",
      "A value is trying to be set on a copy of a slice from a DataFrame\n",
      "\n",
      "See the caveats in the documentation: https://pandas.pydata.org/pandas-docs/stable/user_guide/indexing.html#returning-a-view-versus-a-copy\n",
      "  frame2[\"gdp_growth_rate_in_percentage\"][2] = 8.0            # overwrites the gdp growth rate in the 3rd row\n"
     ]
    },
    {
     "data": {
      "text/html": [
       "<div>\n",
       "<style scoped>\n",
       "    .dataframe tbody tr th:only-of-type {\n",
       "        vertical-align: middle;\n",
       "    }\n",
       "\n",
       "    .dataframe tbody tr th {\n",
       "        vertical-align: top;\n",
       "    }\n",
       "\n",
       "    .dataframe thead th {\n",
       "        text-align: right;\n",
       "    }\n",
       "</style>\n",
       "<table border=\"1\" class=\"dataframe\">\n",
       "  <thead>\n",
       "    <tr style=\"text-align: right;\">\n",
       "      <th></th>\n",
       "      <th>year</th>\n",
       "      <th>city</th>\n",
       "      <th>population</th>\n",
       "      <th>debt</th>\n",
       "      <th>gdp_growth_rate_in_percentage</th>\n",
       "    </tr>\n",
       "  </thead>\n",
       "  <tbody>\n",
       "    <tr>\n",
       "      <th>0</th>\n",
       "      <td>2000</td>\n",
       "      <td>Mumbai</td>\n",
       "      <td>1.5</td>\n",
       "      <td>NaN</td>\n",
       "      <td>5.5</td>\n",
       "    </tr>\n",
       "    <tr>\n",
       "      <th>1</th>\n",
       "      <td>2001</td>\n",
       "      <td>Mumbai</td>\n",
       "      <td>1.7</td>\n",
       "      <td>NaN</td>\n",
       "      <td>7.6</td>\n",
       "    </tr>\n",
       "    <tr>\n",
       "      <th>2</th>\n",
       "      <td>2002</td>\n",
       "      <td>Mumbai</td>\n",
       "      <td>3.6</td>\n",
       "      <td>-1.2</td>\n",
       "      <td>8.0</td>\n",
       "    </tr>\n",
       "    <tr>\n",
       "      <th>3</th>\n",
       "      <td>2001</td>\n",
       "      <td>Delhi</td>\n",
       "      <td>2.4</td>\n",
       "      <td>NaN</td>\n",
       "      <td>6.2</td>\n",
       "    </tr>\n",
       "    <tr>\n",
       "      <th>4</th>\n",
       "      <td>2002</td>\n",
       "      <td>Delhi</td>\n",
       "      <td>2.9</td>\n",
       "      <td>-1.5</td>\n",
       "      <td>7.9</td>\n",
       "    </tr>\n",
       "    <tr>\n",
       "      <th>5</th>\n",
       "      <td>2003</td>\n",
       "      <td>Delhi</td>\n",
       "      <td>3.2</td>\n",
       "      <td>-1.7</td>\n",
       "      <td>7.0</td>\n",
       "    </tr>\n",
       "  </tbody>\n",
       "</table>\n",
       "</div>"
      ],
      "text/plain": [
       "   year    city  population  debt  gdp_growth_rate_in_percentage\n",
       "0  2000  Mumbai         1.5   NaN                            5.5\n",
       "1  2001  Mumbai         1.7   NaN                            7.6\n",
       "2  2002  Mumbai         3.6  -1.2                            8.0\n",
       "3  2001   Delhi         2.4   NaN                            6.2\n",
       "4  2002   Delhi         2.9  -1.5                            7.9\n",
       "5  2003   Delhi         3.2  -1.7                            7.0"
      ]
     },
     "execution_count": 74,
     "metadata": {},
     "output_type": "execute_result"
    }
   ],
   "source": [
    "\n",
    "frame2[\"gdp_growth_rate_in_percentage\"][2] = 8.0            # overwrites the gdp growth rate in the 3rd row\n",
    "\n",
    "frame2                                                      # the modification is reflected in the gdp column of the 3rd row\n"
   ]
  },
  {
   "cell_type": "markdown",
   "id": "9a7b3395-b2ba-49a6-9613-06627bb6554c",
   "metadata": {},
   "source": [
    "<br>\n",
    "\n",
    "<div style=\"display: flex; margin-left: 45px;\">\n",
    "<div><font size=+1>⭐</font>&nbsp;&nbsp;&nbsp;</div>\n",
    "<div><span style=\"color: #f76607;\"><span style=\"color: #a245ff;\">Although each record of a column can be accessed like &nbsp;<code style=\"background-color: #f1d9ff; font-size: 0.8rem;\">df['column_name'][index]</code> , but it's <strong>not recommended</strong> to access it like this specially while assigning a scalar value to it. &nbsp;Because <u>Chaining indexing operations</u>, like &nbsp;<code style=\"background-color: #f1d9ff; font-size: 0.8rem;\">df['column_name'][index]</code> , can lead to <strong>ambiguity</strong> about whether you're working with a <span style=\"color: red;\">copy</span> or a <span style=\"color: red;\">view</span>. &nbsp;<span style=\"color: red;\"><strong>Always avoid this</strong></span></span></div>\n",
    "</div>\n",
    "\n",
    "<br>\n",
    "\n",
    "<div style=\"margin-left: 180px;\">\n",
    "\n",
    "![](../media/pandas_dataframe_6.PNG)\n",
    "\n",
    "</div>\n",
    "\n",
    "<br>\n",
    "\n",
    "<span style=\"margin-left: 52px; color: #a245ff;\"><font size=\"+1\">↳</font> &nbsp;Use &nbsp;<code style=\"background-color: #ffff62; font-size: 0.9rem;\"><span style=\"color: #a245ff; font-size: 0.8rem;\">df</span>.<span style=\"font-size: 1rem;\"><strong>loc[</strong></span>row_index, column_name<span style=\"font-size: 1rem;\"><strong>]</strong></span></code>&nbsp; when working with <span style=\"color: red;\">view</span></span>\n",
    "\n",
    "<div style=\"border-radius: 8px; padding: 10px; background-color: #ffdef5; color: black; width:690px; margin-left: 190px;\">\n",
    "\n",
    "<pre> \n",
    "    \n",
    " df.loc[row_selection, column_selection]\n",
    "\n",
    "</pre>\n",
    "\n",
    "<div style=\"margin-left: 20px;\">\n",
    "    \n",
    "- <strong>row_selection</strong> &nbsp;&nbsp;=====> &nbsp;Specifies which rows to select &nbsp;<span style=\"font-size: 1rem;\">(</span> can be <span style=\"color: blue;\"><u>labels</u></span> , <span style=\"color: blue;\"><u>slices</u></span> , or <span style=\"color: blue;\"><u>boolean masks</u></span> <span style=\"font-size: 1rem;\">)</span>\n",
    "\n",
    "- <strong>column_selection</strong> &nbsp;&nbsp;==>&nbsp;&nbsp; Specifies which columns to select &nbsp;<span style=\"font-size: 1rem;\">(</span> can be <span style=\"color: blue;\"><u>labels</u></span> , <span style=\"color: blue;\"><u>slices</u></span> , or <span style=\"color: blue;\"><u>boolean masks</u></span> <span style=\"font-size: 1rem;\">)</span>\n",
    "\n",
    "</div>\n",
    "\n",
    "</div>\n"
   ]
  },
  {
   "cell_type": "code",
   "execution_count": 75,
   "id": "59439f17-a9fd-467f-8d50-69b80f830503",
   "metadata": {},
   "outputs": [
    {
     "data": {
      "text/html": [
       "<div>\n",
       "<style scoped>\n",
       "    .dataframe tbody tr th:only-of-type {\n",
       "        vertical-align: middle;\n",
       "    }\n",
       "\n",
       "    .dataframe tbody tr th {\n",
       "        vertical-align: top;\n",
       "    }\n",
       "\n",
       "    .dataframe thead th {\n",
       "        text-align: right;\n",
       "    }\n",
       "</style>\n",
       "<table border=\"1\" class=\"dataframe\">\n",
       "  <thead>\n",
       "    <tr style=\"text-align: right;\">\n",
       "      <th></th>\n",
       "      <th>year</th>\n",
       "      <th>city</th>\n",
       "      <th>population</th>\n",
       "      <th>debt</th>\n",
       "      <th>gdp_growth_rate_in_percentage</th>\n",
       "    </tr>\n",
       "  </thead>\n",
       "  <tbody>\n",
       "    <tr>\n",
       "      <th>0</th>\n",
       "      <td>2000</td>\n",
       "      <td>Mumbai</td>\n",
       "      <td>1.5</td>\n",
       "      <td>NaN</td>\n",
       "      <td>5.5</td>\n",
       "    </tr>\n",
       "    <tr>\n",
       "      <th>1</th>\n",
       "      <td>2001</td>\n",
       "      <td>Mumbai</td>\n",
       "      <td>1.7</td>\n",
       "      <td>NaN</td>\n",
       "      <td>7.6</td>\n",
       "    </tr>\n",
       "    <tr>\n",
       "      <th>2</th>\n",
       "      <td>2002</td>\n",
       "      <td>Mumbai</td>\n",
       "      <td>3.6</td>\n",
       "      <td>-1.2</td>\n",
       "      <td>8.1</td>\n",
       "    </tr>\n",
       "    <tr>\n",
       "      <th>3</th>\n",
       "      <td>2001</td>\n",
       "      <td>Delhi</td>\n",
       "      <td>2.4</td>\n",
       "      <td>NaN</td>\n",
       "      <td>6.2</td>\n",
       "    </tr>\n",
       "    <tr>\n",
       "      <th>4</th>\n",
       "      <td>2002</td>\n",
       "      <td>Delhi</td>\n",
       "      <td>2.9</td>\n",
       "      <td>-1.5</td>\n",
       "      <td>7.9</td>\n",
       "    </tr>\n",
       "    <tr>\n",
       "      <th>5</th>\n",
       "      <td>2003</td>\n",
       "      <td>Delhi</td>\n",
       "      <td>3.2</td>\n",
       "      <td>-1.7</td>\n",
       "      <td>7.0</td>\n",
       "    </tr>\n",
       "  </tbody>\n",
       "</table>\n",
       "</div>"
      ],
      "text/plain": [
       "   year    city  population  debt  gdp_growth_rate_in_percentage\n",
       "0  2000  Mumbai         1.5   NaN                            5.5\n",
       "1  2001  Mumbai         1.7   NaN                            7.6\n",
       "2  2002  Mumbai         3.6  -1.2                            8.1\n",
       "3  2001   Delhi         2.4   NaN                            6.2\n",
       "4  2002   Delhi         2.9  -1.5                            7.9\n",
       "5  2003   Delhi         3.2  -1.7                            7.0"
      ]
     },
     "execution_count": 75,
     "metadata": {},
     "output_type": "execute_result"
    }
   ],
   "source": [
    "\n",
    "frame2.loc[2, \"gdp_growth_rate_in_percentage\"] = 8.1\n",
    "\n",
    "frame2\n"
   ]
  },
  {
   "cell_type": "markdown",
   "id": "1c979a99-98c1-4367-938a-0ecf769a79dd",
   "metadata": {},
   "source": [
    "<br>\n",
    "\n",
    "\n",
    "<span style=\"margin-left: 52px; color: #a245ff;\"><font size=\"+1\">↳</font> &nbsp;However if you deliberately want to work with a <span style=\"color: red;\">copy</span> of a DataFrame slice, use the &nbsp;<code style=\"background-color: #ffff62;\">.copy()</code>&nbsp; method to make it <strong>explicit</strong> :</span>\n",
    "\n",
    "<div style=\"margin-left: 170px;\">\n",
    "\n",
    "![](../media/pandas_dataframe_7.PNG)\n",
    "\n",
    "</div>\n",
    "\n",
    "<span style=\"color: #1bb80e; font-size: 0.8rem;\">METHOD - 1</span>"
   ]
  },
  {
   "cell_type": "code",
   "execution_count": 76,
   "id": "71f4304a-1e82-4340-a046-e7bb6ee93015",
   "metadata": {},
   "outputs": [
    {
     "data": {
      "text/html": [
       "<div>\n",
       "<style scoped>\n",
       "    .dataframe tbody tr th:only-of-type {\n",
       "        vertical-align: middle;\n",
       "    }\n",
       "\n",
       "    .dataframe tbody tr th {\n",
       "        vertical-align: top;\n",
       "    }\n",
       "\n",
       "    .dataframe thead th {\n",
       "        text-align: right;\n",
       "    }\n",
       "</style>\n",
       "<table border=\"1\" class=\"dataframe\">\n",
       "  <thead>\n",
       "    <tr style=\"text-align: right;\">\n",
       "      <th></th>\n",
       "      <th>year</th>\n",
       "      <th>city</th>\n",
       "      <th>population</th>\n",
       "      <th>debt</th>\n",
       "      <th>gdp_growth_rate_in_percentage</th>\n",
       "    </tr>\n",
       "  </thead>\n",
       "  <tbody>\n",
       "    <tr>\n",
       "      <th>0</th>\n",
       "      <td>2000</td>\n",
       "      <td>Mumbai</td>\n",
       "      <td>1.5</td>\n",
       "      <td>NaN</td>\n",
       "      <td>5.5</td>\n",
       "    </tr>\n",
       "    <tr>\n",
       "      <th>1</th>\n",
       "      <td>2001</td>\n",
       "      <td>Mumbai</td>\n",
       "      <td>1.7</td>\n",
       "      <td>NaN</td>\n",
       "      <td>7.6</td>\n",
       "    </tr>\n",
       "    <tr>\n",
       "      <th>2</th>\n",
       "      <td>2002</td>\n",
       "      <td>Mumbai</td>\n",
       "      <td>3.6</td>\n",
       "      <td>-1.2</td>\n",
       "      <td>8.1</td>\n",
       "    </tr>\n",
       "    <tr>\n",
       "      <th>3</th>\n",
       "      <td>2001</td>\n",
       "      <td>Delhi</td>\n",
       "      <td>2.4</td>\n",
       "      <td>NaN</td>\n",
       "      <td>6.2</td>\n",
       "    </tr>\n",
       "    <tr>\n",
       "      <th>4</th>\n",
       "      <td>2002</td>\n",
       "      <td>Delhi</td>\n",
       "      <td>2.9</td>\n",
       "      <td>-1.5</td>\n",
       "      <td>7.9</td>\n",
       "    </tr>\n",
       "    <tr>\n",
       "      <th>5</th>\n",
       "      <td>2003</td>\n",
       "      <td>Delhi</td>\n",
       "      <td>3.2</td>\n",
       "      <td>-1.7</td>\n",
       "      <td>7.0</td>\n",
       "    </tr>\n",
       "  </tbody>\n",
       "</table>\n",
       "</div>"
      ],
      "text/plain": [
       "   year    city  population  debt  gdp_growth_rate_in_percentage\n",
       "0  2000  Mumbai         1.5   NaN                            5.5\n",
       "1  2001  Mumbai         1.7   NaN                            7.6\n",
       "2  2002  Mumbai         3.6  -1.2                            8.1\n",
       "3  2001   Delhi         2.4   NaN                            6.2\n",
       "4  2002   Delhi         2.9  -1.5                            7.9\n",
       "5  2003   Delhi         3.2  -1.7                            7.0"
      ]
     },
     "execution_count": 76,
     "metadata": {},
     "output_type": "execute_result"
    }
   ],
   "source": [
    "\n",
    "series = frame2[\"gdp_growth_rate_in_percentage\"].copy()\n",
    "\n",
    "series[2] = 9.0                                                          #  frame2[\"gdp_growth_rate_in_percentage\"].copy()[2]  =  9.0\n",
    "\n",
    "frame2\n"
   ]
  },
  {
   "cell_type": "markdown",
   "id": "4ea93bfb-2d86-4de2-9b41-efdbfa135250",
   "metadata": {},
   "source": [
    "\n",
    "<span style=\"color: #1bb80e; font-size: 0.8rem;\">METHOD - 2</span> &nbsp;<span style=\"color: blue;\">(preferred)</span>"
   ]
  },
  {
   "cell_type": "code",
   "execution_count": 77,
   "id": "0b4fdc5f-f93a-4b06-8f5e-3cf926f7783b",
   "metadata": {},
   "outputs": [
    {
     "data": {
      "text/html": [
       "<div>\n",
       "<style scoped>\n",
       "    .dataframe tbody tr th:only-of-type {\n",
       "        vertical-align: middle;\n",
       "    }\n",
       "\n",
       "    .dataframe tbody tr th {\n",
       "        vertical-align: top;\n",
       "    }\n",
       "\n",
       "    .dataframe thead th {\n",
       "        text-align: right;\n",
       "    }\n",
       "</style>\n",
       "<table border=\"1\" class=\"dataframe\">\n",
       "  <thead>\n",
       "    <tr style=\"text-align: right;\">\n",
       "      <th></th>\n",
       "      <th>year</th>\n",
       "      <th>city</th>\n",
       "      <th>population</th>\n",
       "      <th>debt</th>\n",
       "      <th>gdp_growth_rate_in_percentage</th>\n",
       "    </tr>\n",
       "  </thead>\n",
       "  <tbody>\n",
       "    <tr>\n",
       "      <th>0</th>\n",
       "      <td>2000</td>\n",
       "      <td>Mumbai</td>\n",
       "      <td>1.5</td>\n",
       "      <td>NaN</td>\n",
       "      <td>5.5</td>\n",
       "    </tr>\n",
       "    <tr>\n",
       "      <th>1</th>\n",
       "      <td>2001</td>\n",
       "      <td>Mumbai</td>\n",
       "      <td>1.7</td>\n",
       "      <td>NaN</td>\n",
       "      <td>7.6</td>\n",
       "    </tr>\n",
       "    <tr>\n",
       "      <th>2</th>\n",
       "      <td>2002</td>\n",
       "      <td>Mumbai</td>\n",
       "      <td>3.6</td>\n",
       "      <td>-1.2</td>\n",
       "      <td>8.1</td>\n",
       "    </tr>\n",
       "    <tr>\n",
       "      <th>3</th>\n",
       "      <td>2001</td>\n",
       "      <td>Delhi</td>\n",
       "      <td>2.4</td>\n",
       "      <td>NaN</td>\n",
       "      <td>6.2</td>\n",
       "    </tr>\n",
       "    <tr>\n",
       "      <th>4</th>\n",
       "      <td>2002</td>\n",
       "      <td>Delhi</td>\n",
       "      <td>2.9</td>\n",
       "      <td>-1.5</td>\n",
       "      <td>7.9</td>\n",
       "    </tr>\n",
       "    <tr>\n",
       "      <th>5</th>\n",
       "      <td>2003</td>\n",
       "      <td>Delhi</td>\n",
       "      <td>3.2</td>\n",
       "      <td>-1.7</td>\n",
       "      <td>7.0</td>\n",
       "    </tr>\n",
       "  </tbody>\n",
       "</table>\n",
       "</div>"
      ],
      "text/plain": [
       "   year    city  population  debt  gdp_growth_rate_in_percentage\n",
       "0  2000  Mumbai         1.5   NaN                            5.5\n",
       "1  2001  Mumbai         1.7   NaN                            7.6\n",
       "2  2002  Mumbai         3.6  -1.2                            8.1\n",
       "3  2001   Delhi         2.4   NaN                            6.2\n",
       "4  2002   Delhi         2.9  -1.5                            7.9\n",
       "5  2003   Delhi         3.2  -1.7                            7.0"
      ]
     },
     "execution_count": 77,
     "metadata": {},
     "output_type": "execute_result"
    }
   ],
   "source": [
    "\n",
    "df_slice = frame2[[\"gdp_growth_rate_in_percentage\"]].copy()\n",
    "\n",
    "df_slice.loc[2, \"gdp_growth_rate_in_percentage\"] = 10.0\n",
    "\n",
    "frame2\n"
   ]
  },
  {
   "attachments": {},
   "cell_type": "markdown",
   "id": "9fa8ddff-08e0-4ab1-b13c-90938c7400e2",
   "metadata": {},
   "source": [
    "<br>\n",
    "\n",
    "<code style=\"background-color: black; color: white;\">Best Practices</code>\n",
    "\n",
    "- Always use &nbsp;<code style=\"background-color: #ffff62;\">.loc[]</code>&nbsp; or &nbsp;<code style=\"background-color: #ffff62;\">.iloc[]</code>&nbsp; for <u>safe & explicit modifications</u>.\n",
    "- Avoid chained indexing.\n",
    "- Use &nbsp;<code style=\"background-color: #ffff62;\">.copy()</code>&nbsp; when working with <u>slices that should be independent</u>.\n",
    "\n",
    "\n",
    "\n",
    "<br>\n",
    "\n",
    "<span style=\"color: blue;\"><strong>NOTE &nbsp;&nbsp;- </strong></span> &nbsp;&nbsp;The ambiguity stems from how Pandas handles slicing.</span> <br>\n",
    "<span style=\"margin-left: 67px;\">We will cover this <strong>slicing</strong> technique in more details in the section &nbsp;<code style=\"background-color: blue; color: white;\">Indexing, Selection, and Filtering</code>&nbsp; later on."
   ]
  },
  {
   "cell_type": "markdown",
   "id": "e6685d5f-89f3-4f78-bc60-d8c901476d80",
   "metadata": {
    "jp-MarkdownHeadingCollapsed": true
   },
   "source": [
    "##### <span style=\"color: #ffb585;\">----------------------------------------------------------------------------------------------------------------------------------------------------------------------------------------------</span>\n",
    "\n",
    "<span style=\"font-size: 0.9rem; color: black; font-size: 1.3rem;\">🔶</span> &nbsp;&nbsp;<span style=\"color: #f76607;\">Another common form of data is a <strong>nested dictionary of dictionaries</strong> :</span>"
   ]
  },
  {
   "cell_type": "code",
   "execution_count": 78,
   "id": "449b9f58-1962-4b26-9b2b-3ff4e37d5333",
   "metadata": {},
   "outputs": [],
   "source": [
    "\n",
    "populations = {\"Mumbai\": {2000: 1.5, 2001: 1.7, 2002: 3.6}, \n",
    "               \"Delhi\": {2001: 2.4, 2002: 2.9}}\n"
   ]
  },
  {
   "cell_type": "markdown",
   "id": "d5e9436a-2fad-4673-b921-39e4e72fecdb",
   "metadata": {},
   "source": [
    "<br>\n",
    "\n",
    "<span style=\"color: #a245ff; margin-left: 40px;\">If the <strong>nested dictionary</strong> is passed to the DataFrame ,</span> <br>\n",
    "<span style=\"color: #a245ff; margin-left: 90px;\">pandas will interpret <code style=\"background-color: #f1ddff;\">the <span style=\"color: red;\">outer</span> dictionary keys as the <span style=\"color: red;\">columns</span></code> , and <code style=\"background-color: #f1ddff;\">the <span style=\"color: red;\">inner</span> keys as the <span style=\"color: red;\">row indices</span></code> :</span>\n"
   ]
  },
  {
   "cell_type": "code",
   "execution_count": 79,
   "id": "77d6defd-4f53-4d46-9023-3169a1fb63de",
   "metadata": {},
   "outputs": [
    {
     "data": {
      "text/html": [
       "<div>\n",
       "<style scoped>\n",
       "    .dataframe tbody tr th:only-of-type {\n",
       "        vertical-align: middle;\n",
       "    }\n",
       "\n",
       "    .dataframe tbody tr th {\n",
       "        vertical-align: top;\n",
       "    }\n",
       "\n",
       "    .dataframe thead th {\n",
       "        text-align: right;\n",
       "    }\n",
       "</style>\n",
       "<table border=\"1\" class=\"dataframe\">\n",
       "  <thead>\n",
       "    <tr style=\"text-align: right;\">\n",
       "      <th></th>\n",
       "      <th>Mumbai</th>\n",
       "      <th>Delhi</th>\n",
       "    </tr>\n",
       "  </thead>\n",
       "  <tbody>\n",
       "    <tr>\n",
       "      <th>2000</th>\n",
       "      <td>1.5</td>\n",
       "      <td>NaN</td>\n",
       "    </tr>\n",
       "    <tr>\n",
       "      <th>2001</th>\n",
       "      <td>1.7</td>\n",
       "      <td>2.4</td>\n",
       "    </tr>\n",
       "    <tr>\n",
       "      <th>2002</th>\n",
       "      <td>3.6</td>\n",
       "      <td>2.9</td>\n",
       "    </tr>\n",
       "  </tbody>\n",
       "</table>\n",
       "</div>"
      ],
      "text/plain": [
       "      Mumbai  Delhi\n",
       "2000     1.5    NaN\n",
       "2001     1.7    2.4\n",
       "2002     3.6    2.9"
      ]
     },
     "execution_count": 79,
     "metadata": {},
     "output_type": "execute_result"
    }
   ],
   "source": [
    "\n",
    "frame3 = pd.DataFrame(populations)\n",
    "\n",
    "frame3\n"
   ]
  },
  {
   "cell_type": "markdown",
   "id": "8986fc70-b0d8-4e70-9678-7a389b4e0ad8",
   "metadata": {
    "jp-MarkdownHeadingCollapsed": true
   },
   "source": [
    "##### <span style=\"color: #ffb585;\">----------------------------------------------------------------------------------------------------------------------------------------------------------------------------------------------</span>\n",
    "\n",
    "<span style=\"font-size: 0.9rem; color: black; font-size: 1.3rem;\">🔶</span> &nbsp;&nbsp;<span style=\"color: #f76607;\">You can <strong>transpose</strong> the DataFrame (swap rows and columns) with similar syntax to a NumPy array :</span>"
   ]
  },
  {
   "cell_type": "code",
   "execution_count": 80,
   "id": "9b7d3560-b295-4ef3-b610-32e05fd8834d",
   "metadata": {},
   "outputs": [
    {
     "data": {
      "text/html": [
       "<div>\n",
       "<style scoped>\n",
       "    .dataframe tbody tr th:only-of-type {\n",
       "        vertical-align: middle;\n",
       "    }\n",
       "\n",
       "    .dataframe tbody tr th {\n",
       "        vertical-align: top;\n",
       "    }\n",
       "\n",
       "    .dataframe thead th {\n",
       "        text-align: right;\n",
       "    }\n",
       "</style>\n",
       "<table border=\"1\" class=\"dataframe\">\n",
       "  <thead>\n",
       "    <tr style=\"text-align: right;\">\n",
       "      <th></th>\n",
       "      <th>2000</th>\n",
       "      <th>2001</th>\n",
       "      <th>2002</th>\n",
       "    </tr>\n",
       "  </thead>\n",
       "  <tbody>\n",
       "    <tr>\n",
       "      <th>Mumbai</th>\n",
       "      <td>1.5</td>\n",
       "      <td>1.7</td>\n",
       "      <td>3.6</td>\n",
       "    </tr>\n",
       "    <tr>\n",
       "      <th>Delhi</th>\n",
       "      <td>NaN</td>\n",
       "      <td>2.4</td>\n",
       "      <td>2.9</td>\n",
       "    </tr>\n",
       "  </tbody>\n",
       "</table>\n",
       "</div>"
      ],
      "text/plain": [
       "        2000  2001  2002\n",
       "Mumbai   1.5   1.7   3.6\n",
       "Delhi    NaN   2.4   2.9"
      ]
     },
     "execution_count": 80,
     "metadata": {},
     "output_type": "execute_result"
    }
   ],
   "source": [
    "\n",
    "frame3.T                                            # Method - 1\n"
   ]
  },
  {
   "cell_type": "code",
   "execution_count": 81,
   "id": "a07315da-1a3f-4f28-be23-3a8accf65c88",
   "metadata": {},
   "outputs": [
    {
     "data": {
      "text/html": [
       "<div>\n",
       "<style scoped>\n",
       "    .dataframe tbody tr th:only-of-type {\n",
       "        vertical-align: middle;\n",
       "    }\n",
       "\n",
       "    .dataframe tbody tr th {\n",
       "        vertical-align: top;\n",
       "    }\n",
       "\n",
       "    .dataframe thead th {\n",
       "        text-align: right;\n",
       "    }\n",
       "</style>\n",
       "<table border=\"1\" class=\"dataframe\">\n",
       "  <thead>\n",
       "    <tr style=\"text-align: right;\">\n",
       "      <th></th>\n",
       "      <th>2000</th>\n",
       "      <th>2001</th>\n",
       "      <th>2002</th>\n",
       "    </tr>\n",
       "  </thead>\n",
       "  <tbody>\n",
       "    <tr>\n",
       "      <th>Mumbai</th>\n",
       "      <td>1.5</td>\n",
       "      <td>1.7</td>\n",
       "      <td>3.6</td>\n",
       "    </tr>\n",
       "    <tr>\n",
       "      <th>Delhi</th>\n",
       "      <td>NaN</td>\n",
       "      <td>2.4</td>\n",
       "      <td>2.9</td>\n",
       "    </tr>\n",
       "  </tbody>\n",
       "</table>\n",
       "</div>"
      ],
      "text/plain": [
       "        2000  2001  2002\n",
       "Mumbai   1.5   1.7   3.6\n",
       "Delhi    NaN   2.4   2.9"
      ]
     },
     "execution_count": 81,
     "metadata": {},
     "output_type": "execute_result"
    }
   ],
   "source": [
    "\n",
    "np.transpose(frame3)                                # Method - 2\n"
   ]
  },
  {
   "cell_type": "markdown",
   "id": "08a239fb-7a0e-4101-a982-1fc382a6aa65",
   "metadata": {},
   "source": [
    "<br>\n",
    "\n",
    "<div style=\"display: flex;\">\n",
    "\n",
    "<div><code style=\"background-color: #ff4423; color: white;\">Warning</code>&nbsp;&nbsp;&nbsp;<span style=\"color: #a245ff;\">===></span>&nbsp;&nbsp;&nbsp;</div>\n",
    "\n",
    "<div><span style=\"color: black?;\">Note that <strong>transposing discards the column data types if all the columns do not have the same data type</strong> , so transposing and then transposing back may lose the previous type information. &nbsp;The columns become arrays of pure Python objects <span style=\"font-size: 1rem;\">(</span> <code style=\"background-color: #9bfff1; font-size: 0.75rem;\">dtype('O')</code> <span style=\"font-size: 1rem;\">)</span> in this case. &nbsp;<u>This happens because of how Pandas handles heterogeneous data when rearranging it</u>.</span></div>\n",
    "\n",
    "</div>"
   ]
  },
  {
   "cell_type": "markdown",
   "id": "40450b9c-e916-4b37-a4e5-9c2d079d79e8",
   "metadata": {},
   "source": [
    "\n",
    "<div style=\"margin-left: 127px;\">\n",
    "\n",
    "In a DataFrame, each column typically has a consistent data type ( e.g., &nbsp;<code>int64</code> , <code>float64</code> , <code>object</code> ). \n",
    "\n",
    "When you transpose, columns become rows, and if the original columns have different types, Pandas cannot maintain their individual data types in the transposed structure. &nbsp;<u>The transposed DataFrame rows are forced into a single data type to ensure consistency</u>. &nbsp;<span style=\"background-color: #ffefc4; padding: 4px;\">This type is <code style=\"background-color: #9bfff1; font-size: 0.8rem;\">object</code> because Python objects can represent any data type</span>\n",
    "\n",
    "<span style=\"color: red;\">Transposing back does not restore the original types, as the type information is lost when the columns become <code style=\"background-color: #9bfff1; font-size: 0.8rem;\">arrays of objects</code></span>\n",
    "\n",
    "</div>\n",
    "\n",
    "<br>\n",
    "\n",
    "<span style=\"color: #1ec410;\">If the columns have <strong>mixed data types :</strong></span>"
   ]
  },
  {
   "cell_type": "code",
   "execution_count": 82,
   "id": "1f46bd75-3033-4e5e-bfb2-28e559ead470",
   "metadata": {},
   "outputs": [
    {
     "name": "stdout",
     "output_type": "stream",
     "text": [
      "int_column         int64\n",
      "float_column     float64\n",
      "string_column     object\n",
      "dtype: object\n"
     ]
    }
   ],
   "source": [
    "\n",
    "data = {\n",
    "    \"int_column\": [1, 2, 3],\n",
    "    \"float_column\": [1.1, 2.2, 3.3],\n",
    "    \"string_column\": [\"a\", \"b\", \"c\"]\n",
    "}\n",
    "\n",
    "\n",
    "df = pd.DataFrame(data)\n",
    "print(df.dtypes)\n"
   ]
  },
  {
   "cell_type": "code",
   "execution_count": 83,
   "id": "a389b942-f339-45c0-8709-a9eaa766a980",
   "metadata": {},
   "outputs": [
    {
     "name": "stdout",
     "output_type": "stream",
     "text": [
      "0    object\n",
      "1    object\n",
      "2    object\n",
      "dtype: object\n"
     ]
    }
   ],
   "source": [
    "\n",
    "print(df.T.dtypes)\n"
   ]
  },
  {
   "cell_type": "code",
   "execution_count": 84,
   "id": "db732353-a346-45ae-a80c-cc25023e21e3",
   "metadata": {},
   "outputs": [
    {
     "name": "stdout",
     "output_type": "stream",
     "text": [
      "int_column       object\n",
      "float_column     object\n",
      "string_column    object\n",
      "dtype: object\n"
     ]
    }
   ],
   "source": [
    "\n",
    "print(df.T.T.dtypes)\n"
   ]
  },
  {
   "cell_type": "markdown",
   "id": "4b9eaec5-65fc-4cec-a1fa-1e2a97bea39d",
   "metadata": {},
   "source": [
    "\n",
    "<span style=\"color: #a245ff;\">Once data types of the columns of a dataframe are changed to enforce a first time transposition, transposing it back does not restore original types of those columns.</span>\n",
    "\n",
    "<br>\n",
    "\n",
    "<span style=\"color: #1ec410;\">If the columns have <strong>same data types :</strong></span>"
   ]
  },
  {
   "cell_type": "code",
   "execution_count": 85,
   "id": "2691c69a-9fb8-49d3-b402-e8dc977579e6",
   "metadata": {},
   "outputs": [
    {
     "name": "stdout",
     "output_type": "stream",
     "text": [
      "int_column1    int64\n",
      "int_column2    int64\n",
      "int_column3    int64\n",
      "dtype: object\n"
     ]
    }
   ],
   "source": [
    "\n",
    "data = {\n",
    "    \"int_column1\": [1, 2, 3],\n",
    "    \"int_column2\": [4, 5, 6],\n",
    "    \"int_column3\": [7, 8, 9],\n",
    "}\n",
    "\n",
    "\n",
    "df = pd.DataFrame(data)\n",
    "print(df.dtypes)\n"
   ]
  },
  {
   "cell_type": "code",
   "execution_count": 86,
   "id": "54daf66f-2564-45d7-ac14-08eafef749f2",
   "metadata": {},
   "outputs": [
    {
     "name": "stdout",
     "output_type": "stream",
     "text": [
      "0    int64\n",
      "1    int64\n",
      "2    int64\n",
      "dtype: object\n"
     ]
    }
   ],
   "source": [
    "\n",
    "print(df.T.dtypes)\n"
   ]
  },
  {
   "cell_type": "code",
   "execution_count": 87,
   "id": "02aa809c-ac30-4f11-9774-d27b9fdd0f14",
   "metadata": {},
   "outputs": [
    {
     "name": "stdout",
     "output_type": "stream",
     "text": [
      "int_column1    int64\n",
      "int_column2    int64\n",
      "int_column3    int64\n",
      "dtype: object\n"
     ]
    }
   ],
   "source": [
    "\n",
    "print(df.T.T.dtypes)\n"
   ]
  },
  {
   "cell_type": "markdown",
   "id": "ad591c8e-b5a6-44ce-b130-700fb728e324",
   "metadata": {
    "jp-MarkdownHeadingCollapsed": true
   },
   "source": [
    "##### <span style=\"color: #ffb585;\">----------------------------------------------------------------------------------------------------------------------------------------------------------------------------------------------</span>\n",
    "\n",
    "<span style=\"font-size: 0.9rem; color: black; font-size: 1.3rem;\">🔶</span> &nbsp;&nbsp;<span style=\"color: #f76607;\">The keys in the inner dictionaries are combined to form the index in the result. &nbsp;This isn’t true if an explicit index is specified :</span>\n"
   ]
  },
  {
   "cell_type": "code",
   "execution_count": 88,
   "id": "b4f473b1-75bd-4334-b39e-77ce6c1256fe",
   "metadata": {},
   "outputs": [
    {
     "data": {
      "text/html": [
       "<div>\n",
       "<style scoped>\n",
       "    .dataframe tbody tr th:only-of-type {\n",
       "        vertical-align: middle;\n",
       "    }\n",
       "\n",
       "    .dataframe tbody tr th {\n",
       "        vertical-align: top;\n",
       "    }\n",
       "\n",
       "    .dataframe thead th {\n",
       "        text-align: right;\n",
       "    }\n",
       "</style>\n",
       "<table border=\"1\" class=\"dataframe\">\n",
       "  <thead>\n",
       "    <tr style=\"text-align: right;\">\n",
       "      <th></th>\n",
       "      <th>Mumbai</th>\n",
       "      <th>Delhi</th>\n",
       "    </tr>\n",
       "  </thead>\n",
       "  <tbody>\n",
       "    <tr>\n",
       "      <th>2000</th>\n",
       "      <td>1.5</td>\n",
       "      <td>NaN</td>\n",
       "    </tr>\n",
       "    <tr>\n",
       "      <th>2001</th>\n",
       "      <td>1.7</td>\n",
       "      <td>2.4</td>\n",
       "    </tr>\n",
       "    <tr>\n",
       "      <th>2002</th>\n",
       "      <td>3.6</td>\n",
       "      <td>2.9</td>\n",
       "    </tr>\n",
       "  </tbody>\n",
       "</table>\n",
       "</div>"
      ],
      "text/plain": [
       "      Mumbai  Delhi\n",
       "2000     1.5    NaN\n",
       "2001     1.7    2.4\n",
       "2002     3.6    2.9"
      ]
     },
     "execution_count": 88,
     "metadata": {},
     "output_type": "execute_result"
    }
   ],
   "source": [
    "\n",
    "populations = {\"Mumbai\": {2000: 1.5, 2001: 1.7, 2002: 3.6}, \n",
    "               \"Delhi\": {2001: 2.4, 2002: 2.9}}\n",
    "\n",
    "frame3 = pd.DataFrame(populations)\n",
    "\n",
    "frame3\n"
   ]
  },
  {
   "cell_type": "code",
   "execution_count": 89,
   "id": "43d8eecc-7a5e-4b4f-b1ca-0daaab7a09c7",
   "metadata": {},
   "outputs": [
    {
     "data": {
      "text/plain": [
       "Int64Index([2000, 2001, 2002], dtype='int64')"
      ]
     },
     "execution_count": 89,
     "metadata": {},
     "output_type": "execute_result"
    }
   ],
   "source": [
    "\n",
    "frame3.index\n"
   ]
  },
  {
   "cell_type": "code",
   "execution_count": 90,
   "id": "0b3fac9e-3d9d-4e53-af30-7c28d5eb3f31",
   "metadata": {},
   "outputs": [
    {
     "data": {
      "text/html": [
       "<div>\n",
       "<style scoped>\n",
       "    .dataframe tbody tr th:only-of-type {\n",
       "        vertical-align: middle;\n",
       "    }\n",
       "\n",
       "    .dataframe tbody tr th {\n",
       "        vertical-align: top;\n",
       "    }\n",
       "\n",
       "    .dataframe thead th {\n",
       "        text-align: right;\n",
       "    }\n",
       "</style>\n",
       "<table border=\"1\" class=\"dataframe\">\n",
       "  <thead>\n",
       "    <tr style=\"text-align: right;\">\n",
       "      <th></th>\n",
       "      <th>Mumbai</th>\n",
       "      <th>Delhi</th>\n",
       "    </tr>\n",
       "  </thead>\n",
       "  <tbody>\n",
       "    <tr>\n",
       "      <th>2001</th>\n",
       "      <td>1.7</td>\n",
       "      <td>2.4</td>\n",
       "    </tr>\n",
       "    <tr>\n",
       "      <th>2002</th>\n",
       "      <td>3.6</td>\n",
       "      <td>2.9</td>\n",
       "    </tr>\n",
       "    <tr>\n",
       "      <th>2003</th>\n",
       "      <td>NaN</td>\n",
       "      <td>NaN</td>\n",
       "    </tr>\n",
       "  </tbody>\n",
       "</table>\n",
       "</div>"
      ],
      "text/plain": [
       "      Mumbai  Delhi\n",
       "2001     1.7    2.4\n",
       "2002     3.6    2.9\n",
       "2003     NaN    NaN"
      ]
     },
     "execution_count": 90,
     "metadata": {},
     "output_type": "execute_result"
    }
   ],
   "source": [
    "\n",
    "pd.DataFrame(populations, index=[2001, 2002, 2003])\n"
   ]
  },
  {
   "cell_type": "markdown",
   "id": "6a1fdade-4f8b-485c-9d11-1748c22e6e62",
   "metadata": {
    "jp-MarkdownHeadingCollapsed": true
   },
   "source": [
    "##### <span style=\"color: #ffb585;\">----------------------------------------------------------------------------------------------------------------------------------------------------------------------------------------------</span>\n",
    "\n",
    "<span style=\"font-size: 0.9rem; color: black; font-size: 1.3rem;\">🔶</span> &nbsp;&nbsp;<span style=\"color: #f76607;\">Dictionaries of Series are treated in much the same way :</span>\n"
   ]
  },
  {
   "cell_type": "code",
   "execution_count": 91,
   "id": "b41cfdfa-4845-449f-84d1-d567811a4985",
   "metadata": {},
   "outputs": [
    {
     "data": {
      "text/html": [
       "<div>\n",
       "<style scoped>\n",
       "    .dataframe tbody tr th:only-of-type {\n",
       "        vertical-align: middle;\n",
       "    }\n",
       "\n",
       "    .dataframe tbody tr th {\n",
       "        vertical-align: top;\n",
       "    }\n",
       "\n",
       "    .dataframe thead th {\n",
       "        text-align: right;\n",
       "    }\n",
       "</style>\n",
       "<table border=\"1\" class=\"dataframe\">\n",
       "  <thead>\n",
       "    <tr style=\"text-align: right;\">\n",
       "      <th></th>\n",
       "      <th>Mumbai</th>\n",
       "      <th>Delhi</th>\n",
       "    </tr>\n",
       "  </thead>\n",
       "  <tbody>\n",
       "    <tr>\n",
       "      <th>2000</th>\n",
       "      <td>1.5</td>\n",
       "      <td>NaN</td>\n",
       "    </tr>\n",
       "    <tr>\n",
       "      <th>2001</th>\n",
       "      <td>1.7</td>\n",
       "      <td>2.4</td>\n",
       "    </tr>\n",
       "    <tr>\n",
       "      <th>2002</th>\n",
       "      <td>3.6</td>\n",
       "      <td>2.9</td>\n",
       "    </tr>\n",
       "  </tbody>\n",
       "</table>\n",
       "</div>"
      ],
      "text/plain": [
       "      Mumbai  Delhi\n",
       "2000     1.5    NaN\n",
       "2001     1.7    2.4\n",
       "2002     3.6    2.9"
      ]
     },
     "execution_count": 91,
     "metadata": {},
     "output_type": "execute_result"
    }
   ],
   "source": [
    "\n",
    "frame3\n"
   ]
  },
  {
   "cell_type": "markdown",
   "id": "88ce4d49-f626-480b-9ec5-0c8668606160",
   "metadata": {},
   "source": [
    "\n",
    "<div style=\"margin-left: 170px;\">\n",
    "\n",
    "![](../media/pandas_dataframe_8.PNG)\n",
    "\n",
    "</div>\n"
   ]
  },
  {
   "cell_type": "code",
   "execution_count": 92,
   "id": "422cc5c6-4db0-4ee3-bb33-c520e28b31a3",
   "metadata": {},
   "outputs": [
    {
     "data": {
      "text/html": [
       "<div>\n",
       "<style scoped>\n",
       "    .dataframe tbody tr th:only-of-type {\n",
       "        vertical-align: middle;\n",
       "    }\n",
       "\n",
       "    .dataframe tbody tr th {\n",
       "        vertical-align: top;\n",
       "    }\n",
       "\n",
       "    .dataframe thead th {\n",
       "        text-align: right;\n",
       "    }\n",
       "</style>\n",
       "<table border=\"1\" class=\"dataframe\">\n",
       "  <thead>\n",
       "    <tr style=\"text-align: right;\">\n",
       "      <th></th>\n",
       "      <th>Mumbai</th>\n",
       "      <th>Delhi</th>\n",
       "    </tr>\n",
       "  </thead>\n",
       "  <tbody>\n",
       "    <tr>\n",
       "      <th>2000</th>\n",
       "      <td>1.5</td>\n",
       "      <td>NaN</td>\n",
       "    </tr>\n",
       "    <tr>\n",
       "      <th>2001</th>\n",
       "      <td>1.7</td>\n",
       "      <td>2.4</td>\n",
       "    </tr>\n",
       "  </tbody>\n",
       "</table>\n",
       "</div>"
      ],
      "text/plain": [
       "      Mumbai  Delhi\n",
       "2000     1.5    NaN\n",
       "2001     1.7    2.4"
      ]
     },
     "execution_count": 92,
     "metadata": {},
     "output_type": "execute_result"
    }
   ],
   "source": [
    "\n",
    "pdata = {\"Mumbai\": frame3[\"Mumbai\"][:-1], \n",
    "         \"Delhi\": frame3[\"Delhi\"][:2]}\n",
    "\n",
    "\n",
    "pd.DataFrame(pdata)\n"
   ]
  },
  {
   "cell_type": "markdown",
   "id": "81fed39d-49aa-414b-aa93-a147588222ea",
   "metadata": {
    "jp-MarkdownHeadingCollapsed": true
   },
   "source": [
    "##### <span style=\"color: #ffb585;\">----------------------------------------------------------------------------------------------------------------------------------------------------------------------------------------------</span>\n",
    "\n",
    "<span style=\"font-size: 0.9rem; color: black; font-size: 1.3rem;\">🔶</span> &nbsp;&nbsp;<span style=\"color: #f76607;\">List of all possible data inputs to the <strong>DataFrame</strong> constructor :</span>\n"
   ]
  },
  {
   "cell_type": "markdown",
   "id": "eb37a72e-fc2d-4164-acb0-9e75ae359028",
   "metadata": {},
   "source": [
    "<span style=\"color: blck; margin-left: 70px;\">The Pandas DataFrame constructor can accept a wide variety of input data structures and formats to create a DataFrame.</span> <br>\n",
    "<span style=\"color: black; margin-left: 70px;\">Here’s a detailed breakdown of the possible data inputs :</span>\n"
   ]
  },
  {
   "cell_type": "markdown",
   "id": "310a95ec-3b83-4e77-bfaa-1dd8ca56c6bc",
   "metadata": {
    "jp-MarkdownHeadingCollapsed": true
   },
   "source": [
    "\n",
    "###### <span style=\"color: blue; font-size: 1rem;\"><strong>1. &nbsp;Dictionaries</strong></span>\n"
   ]
  },
  {
   "cell_type": "markdown",
   "id": "c0d52e58-7f6e-4b57-a93f-8b5a48897c3e",
   "metadata": {},
   "source": [
    "\n",
    "<span style=\"margin-left: 70px;\">Dictionaries are the most common input for creating a DataFrame.</span>\n",
    "\n",
    "<span style=\"color: red;\">a. &nbsp;<u>Dictionary of Lists</u></span> <br> \n",
    "<span style=\"color: #a245ff; margin-left: 70px;\">Each key represents a column name, and the corresponding list represents column values.</span>"
   ]
  },
  {
   "cell_type": "code",
   "execution_count": 93,
   "id": "9a6108c6-f257-4531-95fb-3cb4c8b5d9ae",
   "metadata": {},
   "outputs": [
    {
     "data": {
      "text/html": [
       "<div>\n",
       "<style scoped>\n",
       "    .dataframe tbody tr th:only-of-type {\n",
       "        vertical-align: middle;\n",
       "    }\n",
       "\n",
       "    .dataframe tbody tr th {\n",
       "        vertical-align: top;\n",
       "    }\n",
       "\n",
       "    .dataframe thead th {\n",
       "        text-align: right;\n",
       "    }\n",
       "</style>\n",
       "<table border=\"1\" class=\"dataframe\">\n",
       "  <thead>\n",
       "    <tr style=\"text-align: right;\">\n",
       "      <th></th>\n",
       "      <th>col1</th>\n",
       "      <th>col2</th>\n",
       "    </tr>\n",
       "  </thead>\n",
       "  <tbody>\n",
       "    <tr>\n",
       "      <th>0</th>\n",
       "      <td>1</td>\n",
       "      <td>4</td>\n",
       "    </tr>\n",
       "    <tr>\n",
       "      <th>1</th>\n",
       "      <td>2</td>\n",
       "      <td>5</td>\n",
       "    </tr>\n",
       "    <tr>\n",
       "      <th>2</th>\n",
       "      <td>3</td>\n",
       "      <td>6</td>\n",
       "    </tr>\n",
       "  </tbody>\n",
       "</table>\n",
       "</div>"
      ],
      "text/plain": [
       "   col1  col2\n",
       "0     1     4\n",
       "1     2     5\n",
       "2     3     6"
      ]
     },
     "execution_count": 93,
     "metadata": {},
     "output_type": "execute_result"
    }
   ],
   "source": [
    "\n",
    "data = {\"col1\": [1, 2, 3], \"col2\": [4, 5, 6]}\n",
    "\n",
    "df = pd.DataFrame(data)\n",
    "\n",
    "df\n"
   ]
  },
  {
   "cell_type": "code",
   "execution_count": 206,
   "id": "4d1a2d85-9c99-4891-a148-ac83fffd0efc",
   "metadata": {},
   "outputs": [
    {
     "data": {
      "text/html": [
       "<div>\n",
       "<style scoped>\n",
       "    .dataframe tbody tr th:only-of-type {\n",
       "        vertical-align: middle;\n",
       "    }\n",
       "\n",
       "    .dataframe tbody tr th {\n",
       "        vertical-align: top;\n",
       "    }\n",
       "\n",
       "    .dataframe thead th {\n",
       "        text-align: right;\n",
       "    }\n",
       "</style>\n",
       "<table border=\"1\" class=\"dataframe\">\n",
       "  <thead>\n",
       "    <tr style=\"text-align: right;\">\n",
       "      <th></th>\n",
       "      <th>col1</th>\n",
       "      <th>col2</th>\n",
       "    </tr>\n",
       "  </thead>\n",
       "  <tbody>\n",
       "    <tr>\n",
       "      <th>a</th>\n",
       "      <td>1</td>\n",
       "      <td>10</td>\n",
       "    </tr>\n",
       "    <tr>\n",
       "      <th>b</th>\n",
       "      <td>2</td>\n",
       "      <td>20</td>\n",
       "    </tr>\n",
       "    <tr>\n",
       "      <th>c</th>\n",
       "      <td>3</td>\n",
       "      <td>30</td>\n",
       "    </tr>\n",
       "  </tbody>\n",
       "</table>\n",
       "</div>"
      ],
      "text/plain": [
       "   col1  col2\n",
       "a     1    10\n",
       "b     2    20\n",
       "c     3    30"
      ]
     },
     "execution_count": 206,
     "metadata": {},
     "output_type": "execute_result"
    }
   ],
   "source": [
    "\n",
    "df = pd.DataFrame({'col1': [1, 2, 3], \n",
    "                   'col2': [10, 20, 30]}, index=['a', 'b', 'c'])\n",
    "\n",
    "\n",
    "df\n"
   ]
  },
  {
   "cell_type": "markdown",
   "id": "fddffa97-bf17-4f34-b2df-cb3bf895ea60",
   "metadata": {},
   "source": [
    "\n",
    "<span style=\"color: red;\">b. &nbsp;<u>Dictionary of Arrays</u></span> <br>\n",
    "<span style=\"color: #a245ff; margin-left: 70px;\">Similar to lists, but values can be NumPy arrays.</span>"
   ]
  },
  {
   "cell_type": "code",
   "execution_count": 94,
   "id": "427cc82f-65c8-450c-af81-bac33e251e96",
   "metadata": {},
   "outputs": [
    {
     "data": {
      "text/html": [
       "<div>\n",
       "<style scoped>\n",
       "    .dataframe tbody tr th:only-of-type {\n",
       "        vertical-align: middle;\n",
       "    }\n",
       "\n",
       "    .dataframe tbody tr th {\n",
       "        vertical-align: top;\n",
       "    }\n",
       "\n",
       "    .dataframe thead th {\n",
       "        text-align: right;\n",
       "    }\n",
       "</style>\n",
       "<table border=\"1\" class=\"dataframe\">\n",
       "  <thead>\n",
       "    <tr style=\"text-align: right;\">\n",
       "      <th></th>\n",
       "      <th>col1</th>\n",
       "      <th>col2</th>\n",
       "    </tr>\n",
       "  </thead>\n",
       "  <tbody>\n",
       "    <tr>\n",
       "      <th>0</th>\n",
       "      <td>1</td>\n",
       "      <td>4</td>\n",
       "    </tr>\n",
       "    <tr>\n",
       "      <th>1</th>\n",
       "      <td>2</td>\n",
       "      <td>5</td>\n",
       "    </tr>\n",
       "    <tr>\n",
       "      <th>2</th>\n",
       "      <td>3</td>\n",
       "      <td>6</td>\n",
       "    </tr>\n",
       "  </tbody>\n",
       "</table>\n",
       "</div>"
      ],
      "text/plain": [
       "   col1  col2\n",
       "0     1     4\n",
       "1     2     5\n",
       "2     3     6"
      ]
     },
     "execution_count": 94,
     "metadata": {},
     "output_type": "execute_result"
    }
   ],
   "source": [
    "\n",
    "data = {\"col1\": np.array([1, 2, 3]), \n",
    "        \"col2\": np.array([4, 5, 6])}\n",
    "\n",
    "df = pd.DataFrame(data)\n",
    "\n",
    "df\n"
   ]
  },
  {
   "cell_type": "markdown",
   "id": "8a1f5b47-5dce-498b-bf13-2e555c7d4056",
   "metadata": {},
   "source": [
    "<span style=\"color: red;\">c. &nbsp;<u>Dictionary of Series</u></span> <br>\n",
    "<span style=\"color: #a245ff; margin-left: 70px;\">Each key is a column name, and the corresponding value is a Pandas Series.</span>"
   ]
  },
  {
   "cell_type": "code",
   "execution_count": 95,
   "id": "129c06be-dfac-4be9-b9a9-eecbc719fade",
   "metadata": {},
   "outputs": [
    {
     "data": {
      "text/html": [
       "<div>\n",
       "<style scoped>\n",
       "    .dataframe tbody tr th:only-of-type {\n",
       "        vertical-align: middle;\n",
       "    }\n",
       "\n",
       "    .dataframe tbody tr th {\n",
       "        vertical-align: top;\n",
       "    }\n",
       "\n",
       "    .dataframe thead th {\n",
       "        text-align: right;\n",
       "    }\n",
       "</style>\n",
       "<table border=\"1\" class=\"dataframe\">\n",
       "  <thead>\n",
       "    <tr style=\"text-align: right;\">\n",
       "      <th></th>\n",
       "      <th>col1</th>\n",
       "      <th>col2</th>\n",
       "    </tr>\n",
       "  </thead>\n",
       "  <tbody>\n",
       "    <tr>\n",
       "      <th>0</th>\n",
       "      <td>1</td>\n",
       "      <td>4</td>\n",
       "    </tr>\n",
       "    <tr>\n",
       "      <th>1</th>\n",
       "      <td>2</td>\n",
       "      <td>5</td>\n",
       "    </tr>\n",
       "    <tr>\n",
       "      <th>2</th>\n",
       "      <td>3</td>\n",
       "      <td>6</td>\n",
       "    </tr>\n",
       "  </tbody>\n",
       "</table>\n",
       "</div>"
      ],
      "text/plain": [
       "   col1  col2\n",
       "0     1     4\n",
       "1     2     5\n",
       "2     3     6"
      ]
     },
     "execution_count": 95,
     "metadata": {},
     "output_type": "execute_result"
    }
   ],
   "source": [
    "\n",
    "data = {\"col1\": pd.Series([1, 2, 3]), \n",
    "        \"col2\": pd.Series([4, 5, 6])}\n",
    "\n",
    "df = pd.DataFrame(data)\n",
    "\n",
    "df\n"
   ]
  },
  {
   "cell_type": "markdown",
   "id": "bb4ff9e7-3515-49fe-8d0f-6901a4a72e06",
   "metadata": {},
   "source": [
    "\n",
    "<span style=\"color: red;\">d. &nbsp;<u>Dictionary of Dictionaries</u></span> <br>\n",
    "<span style=\"color: #a245ff; margin-left: 70px;\">Inner dictionaries represent rows, with keys as column names</span> &nbsp;&nbsp;&nbsp;=======>&nbsp;&nbsp;&nbsp; <code style=\"background-color: #f2d2ff;\">Outer keys  ➜  column names</code> &nbsp;, &nbsp;<code style=\"background-color: #f2d2ff;\">Inner keys  ➜  index</code>\n"
   ]
  },
  {
   "cell_type": "code",
   "execution_count": 96,
   "id": "c2e9cc32-6cd1-4a48-9769-655645856088",
   "metadata": {},
   "outputs": [
    {
     "data": {
      "text/html": [
       "<div>\n",
       "<style scoped>\n",
       "    .dataframe tbody tr th:only-of-type {\n",
       "        vertical-align: middle;\n",
       "    }\n",
       "\n",
       "    .dataframe tbody tr th {\n",
       "        vertical-align: top;\n",
       "    }\n",
       "\n",
       "    .dataframe thead th {\n",
       "        text-align: right;\n",
       "    }\n",
       "</style>\n",
       "<table border=\"1\" class=\"dataframe\">\n",
       "  <thead>\n",
       "    <tr style=\"text-align: right;\">\n",
       "      <th></th>\n",
       "      <th>col1</th>\n",
       "      <th>col2</th>\n",
       "    </tr>\n",
       "  </thead>\n",
       "  <tbody>\n",
       "    <tr>\n",
       "      <th>row1</th>\n",
       "      <td>1</td>\n",
       "      <td>2</td>\n",
       "    </tr>\n",
       "    <tr>\n",
       "      <th>row2</th>\n",
       "      <td>4</td>\n",
       "      <td>5</td>\n",
       "    </tr>\n",
       "  </tbody>\n",
       "</table>\n",
       "</div>"
      ],
      "text/plain": [
       "      col1  col2\n",
       "row1     1     2\n",
       "row2     4     5"
      ]
     },
     "execution_count": 96,
     "metadata": {},
     "output_type": "execute_result"
    }
   ],
   "source": [
    "\n",
    "data = {\"col1\": {\"row1\": 1, \"row2\": 4}, \n",
    "        \"col2\": {\"row1\": 2, \"row2\": 5}}\n",
    "\n",
    "df = pd.DataFrame(data)\n",
    "\n",
    "df\n"
   ]
  },
  {
   "cell_type": "code",
   "execution_count": 97,
   "id": "82c05ea6-731d-4ebe-9bc0-7612a4da31fc",
   "metadata": {},
   "outputs": [
    {
     "data": {
      "text/html": [
       "<div>\n",
       "<style scoped>\n",
       "    .dataframe tbody tr th:only-of-type {\n",
       "        vertical-align: middle;\n",
       "    }\n",
       "\n",
       "    .dataframe tbody tr th {\n",
       "        vertical-align: top;\n",
       "    }\n",
       "\n",
       "    .dataframe thead th {\n",
       "        text-align: right;\n",
       "    }\n",
       "</style>\n",
       "<table border=\"1\" class=\"dataframe\">\n",
       "  <thead>\n",
       "    <tr style=\"text-align: right;\">\n",
       "      <th></th>\n",
       "      <th>col1</th>\n",
       "      <th>col2</th>\n",
       "    </tr>\n",
       "  </thead>\n",
       "  <tbody>\n",
       "    <tr>\n",
       "      <th>row1</th>\n",
       "      <td>1</td>\n",
       "      <td>4</td>\n",
       "    </tr>\n",
       "    <tr>\n",
       "      <th>row2</th>\n",
       "      <td>2</td>\n",
       "      <td>5</td>\n",
       "    </tr>\n",
       "  </tbody>\n",
       "</table>\n",
       "</div>"
      ],
      "text/plain": [
       "      col1  col2\n",
       "row1     1     4\n",
       "row2     2     5"
      ]
     },
     "execution_count": 97,
     "metadata": {},
     "output_type": "execute_result"
    }
   ],
   "source": [
    "\n",
    "data = {\"row1\": {\"col1\": 1, \"col2\": 4}, \n",
    "        \"row2\": {\"col1\": 2, \"col2\": 5}}\n",
    "\n",
    "df = pd.DataFrame(data).T\n",
    "\n",
    "df\n"
   ]
  },
  {
   "cell_type": "markdown",
   "id": "4987d858-66d6-4b0a-99a2-e8ff9f88b997",
   "metadata": {
    "jp-MarkdownHeadingCollapsed": true
   },
   "source": [
    "<br>\n",
    "\n",
    "###### <span style=\"color: blue; font-size: 1rem;\"><strong>2. &nbsp;Lists</strong></span>\n"
   ]
  },
  {
   "cell_type": "markdown",
   "id": "45201ea2-db53-4eaa-b38c-c0df71d75219",
   "metadata": {},
   "source": [
    "<br>\n",
    "\n",
    "<span style=\"color: red;\">a. &nbsp;<u>List of Lists</u></span> <br>\n",
    "<span style=\"color: #a245ff; margin-left: 70px;\">Each inner list represents a row. &nbsp;Column names can be specified separately.</span>"
   ]
  },
  {
   "cell_type": "code",
   "execution_count": 98,
   "id": "2cbd8194-24c7-4c71-83ee-e2a1ef2dd54d",
   "metadata": {},
   "outputs": [
    {
     "data": {
      "text/html": [
       "<div>\n",
       "<style scoped>\n",
       "    .dataframe tbody tr th:only-of-type {\n",
       "        vertical-align: middle;\n",
       "    }\n",
       "\n",
       "    .dataframe tbody tr th {\n",
       "        vertical-align: top;\n",
       "    }\n",
       "\n",
       "    .dataframe thead th {\n",
       "        text-align: right;\n",
       "    }\n",
       "</style>\n",
       "<table border=\"1\" class=\"dataframe\">\n",
       "  <thead>\n",
       "    <tr style=\"text-align: right;\">\n",
       "      <th></th>\n",
       "      <th>col1</th>\n",
       "      <th>col2</th>\n",
       "      <th>col3</th>\n",
       "    </tr>\n",
       "  </thead>\n",
       "  <tbody>\n",
       "    <tr>\n",
       "      <th>0</th>\n",
       "      <td>1</td>\n",
       "      <td>2</td>\n",
       "      <td>3</td>\n",
       "    </tr>\n",
       "    <tr>\n",
       "      <th>1</th>\n",
       "      <td>4</td>\n",
       "      <td>5</td>\n",
       "      <td>6</td>\n",
       "    </tr>\n",
       "  </tbody>\n",
       "</table>\n",
       "</div>"
      ],
      "text/plain": [
       "   col1  col2  col3\n",
       "0     1     2     3\n",
       "1     4     5     6"
      ]
     },
     "execution_count": 98,
     "metadata": {},
     "output_type": "execute_result"
    }
   ],
   "source": [
    "\n",
    "data = [[1, 2, 3], \n",
    "        [4, 5, 6]]\n",
    "\n",
    "df = pd.DataFrame(data, columns=[\"col1\", \"col2\", \"col3\"])\n",
    "\n",
    "df\n"
   ]
  },
  {
   "cell_type": "markdown",
   "id": "b3db48a3-27d0-428d-82cf-9d3b4dc5a83e",
   "metadata": {},
   "source": [
    "<br>\n",
    "\n",
    "<span style=\"color: red;\">b. &nbsp;<u>List of Dictionaries</u></span> <br>\n",
    "<span style=\"color: #a245ff; margin-left: 70px;\">Each dictionary represents a row, with keys as column names.</span>"
   ]
  },
  {
   "cell_type": "code",
   "execution_count": 99,
   "id": "d46e6e9c-ec27-4fa2-b276-1f72b0b7e63e",
   "metadata": {},
   "outputs": [
    {
     "data": {
      "text/html": [
       "<div>\n",
       "<style scoped>\n",
       "    .dataframe tbody tr th:only-of-type {\n",
       "        vertical-align: middle;\n",
       "    }\n",
       "\n",
       "    .dataframe tbody tr th {\n",
       "        vertical-align: top;\n",
       "    }\n",
       "\n",
       "    .dataframe thead th {\n",
       "        text-align: right;\n",
       "    }\n",
       "</style>\n",
       "<table border=\"1\" class=\"dataframe\">\n",
       "  <thead>\n",
       "    <tr style=\"text-align: right;\">\n",
       "      <th></th>\n",
       "      <th>col1</th>\n",
       "      <th>col2</th>\n",
       "    </tr>\n",
       "  </thead>\n",
       "  <tbody>\n",
       "    <tr>\n",
       "      <th>0</th>\n",
       "      <td>1</td>\n",
       "      <td>4</td>\n",
       "    </tr>\n",
       "    <tr>\n",
       "      <th>1</th>\n",
       "      <td>2</td>\n",
       "      <td>5</td>\n",
       "    </tr>\n",
       "  </tbody>\n",
       "</table>\n",
       "</div>"
      ],
      "text/plain": [
       "   col1  col2\n",
       "0     1     4\n",
       "1     2     5"
      ]
     },
     "execution_count": 99,
     "metadata": {},
     "output_type": "execute_result"
    }
   ],
   "source": [
    "\n",
    "data = [{\"col1\": 1, \"col2\": 4}, \n",
    "        {\"col1\": 2, \"col2\": 5}]\n",
    "\n",
    "df = pd.DataFrame(data)\n",
    "\n",
    "df\n"
   ]
  },
  {
   "cell_type": "markdown",
   "id": "374278d9-3294-4e88-abbb-a8d7d7451d4a",
   "metadata": {
    "jp-MarkdownHeadingCollapsed": true
   },
   "source": [
    "<br>\n",
    "\n",
    "###### <span style=\"color: blue; font-size: 1rem;\"><strong>3. &nbsp;Arrays</strong></span>\n"
   ]
  },
  {
   "cell_type": "markdown",
   "id": "75589403-fc7e-49b5-b709-ff6026b4d485",
   "metadata": {},
   "source": [
    "\n",
    "<span style=\"margin-left: 70px;\">NumPy arrays can be directly passed to the constructor. &nbsp;Specify column names separately if needed.</span>\n",
    "\n",
    "<br>\n",
    "\n",
    "<span style=\"color: red;\">a. &nbsp;<u>2D Array</u></span> <br> \n",
    "<span style=\"color: #a245ff; margin-left: 70px;\">Each row in the array represents a row in the DataFrame.</span>\n"
   ]
  },
  {
   "cell_type": "code",
   "execution_count": 100,
   "id": "e8518479-4a3d-4ce3-9a32-6d043747dabd",
   "metadata": {},
   "outputs": [
    {
     "data": {
      "text/html": [
       "<div>\n",
       "<style scoped>\n",
       "    .dataframe tbody tr th:only-of-type {\n",
       "        vertical-align: middle;\n",
       "    }\n",
       "\n",
       "    .dataframe tbody tr th {\n",
       "        vertical-align: top;\n",
       "    }\n",
       "\n",
       "    .dataframe thead th {\n",
       "        text-align: right;\n",
       "    }\n",
       "</style>\n",
       "<table border=\"1\" class=\"dataframe\">\n",
       "  <thead>\n",
       "    <tr style=\"text-align: right;\">\n",
       "      <th></th>\n",
       "      <th>col1</th>\n",
       "      <th>col2</th>\n",
       "      <th>col3</th>\n",
       "    </tr>\n",
       "  </thead>\n",
       "  <tbody>\n",
       "    <tr>\n",
       "      <th>0</th>\n",
       "      <td>1</td>\n",
       "      <td>2</td>\n",
       "      <td>3</td>\n",
       "    </tr>\n",
       "    <tr>\n",
       "      <th>1</th>\n",
       "      <td>4</td>\n",
       "      <td>5</td>\n",
       "      <td>6</td>\n",
       "    </tr>\n",
       "  </tbody>\n",
       "</table>\n",
       "</div>"
      ],
      "text/plain": [
       "   col1  col2  col3\n",
       "0     1     2     3\n",
       "1     4     5     6"
      ]
     },
     "execution_count": 100,
     "metadata": {},
     "output_type": "execute_result"
    }
   ],
   "source": [
    "\n",
    "data = np.array([[1, 2, 3], \n",
    "                 [4, 5, 6]])\n",
    "\n",
    "df = pd.DataFrame(data, columns=[\"col1\", \"col2\", \"col3\"])\n",
    "\n",
    "df\n"
   ]
  },
  {
   "cell_type": "markdown",
   "id": "21abf917-5b9b-4c4b-b2b2-be5f147b8c33",
   "metadata": {},
   "source": [
    "<br>\n",
    "\n",
    "<span style=\"color: red;\">b. &nbsp;<u>Structured / Record Array</span> <br>\n",
    "<span style=\"color: #a245ff; margin-left: 70px;\">Structured NumPy arrays can also be used.</span>\n"
   ]
  },
  {
   "cell_type": "code",
   "execution_count": 101,
   "id": "c6429aa6-ee54-42d8-96b6-f0592386f60f",
   "metadata": {},
   "outputs": [
    {
     "data": {
      "text/html": [
       "<div>\n",
       "<style scoped>\n",
       "    .dataframe tbody tr th:only-of-type {\n",
       "        vertical-align: middle;\n",
       "    }\n",
       "\n",
       "    .dataframe tbody tr th {\n",
       "        vertical-align: top;\n",
       "    }\n",
       "\n",
       "    .dataframe thead th {\n",
       "        text-align: right;\n",
       "    }\n",
       "</style>\n",
       "<table border=\"1\" class=\"dataframe\">\n",
       "  <thead>\n",
       "    <tr style=\"text-align: right;\">\n",
       "      <th></th>\n",
       "      <th>col1</th>\n",
       "      <th>col2</th>\n",
       "    </tr>\n",
       "  </thead>\n",
       "  <tbody>\n",
       "    <tr>\n",
       "      <th>0</th>\n",
       "      <td>1</td>\n",
       "      <td>4</td>\n",
       "    </tr>\n",
       "    <tr>\n",
       "      <th>1</th>\n",
       "      <td>2</td>\n",
       "      <td>5</td>\n",
       "    </tr>\n",
       "  </tbody>\n",
       "</table>\n",
       "</div>"
      ],
      "text/plain": [
       "   col1  col2\n",
       "0     1     4\n",
       "1     2     5"
      ]
     },
     "execution_count": 101,
     "metadata": {},
     "output_type": "execute_result"
    }
   ],
   "source": [
    "\n",
    "data = np.array([(1, 4), \n",
    "                 (2, 5)], dtype=[(\"col1\", \"int32\"), (\"col2\", \"int32\")])\n",
    "\n",
    "df = pd.DataFrame(data)\n",
    "\n",
    "df\n"
   ]
  },
  {
   "cell_type": "markdown",
   "id": "5a99d037-d6e9-43cc-aaad-920af5aa5ad6",
   "metadata": {
    "jp-MarkdownHeadingCollapsed": true
   },
   "source": [
    "<br>\n",
    "\n",
    "###### <span style=\"color: blue; font-size: 1rem;\"><strong>4. &nbsp;Series</strong></span>\n"
   ]
  },
  {
   "cell_type": "markdown",
   "id": "edca87cb-1875-4613-8660-dde3337fef07",
   "metadata": {},
   "source": [
    "\n",
    "<span style=\"margin-left: 70px;\">A Pandas Series can be used to create a one-column DataFrame.</span>"
   ]
  },
  {
   "cell_type": "code",
   "execution_count": 102,
   "id": "443c495e-4904-4bd2-9d9e-8a87490a3f22",
   "metadata": {},
   "outputs": [
    {
     "data": {
      "text/html": [
       "<div>\n",
       "<style scoped>\n",
       "    .dataframe tbody tr th:only-of-type {\n",
       "        vertical-align: middle;\n",
       "    }\n",
       "\n",
       "    .dataframe tbody tr th {\n",
       "        vertical-align: top;\n",
       "    }\n",
       "\n",
       "    .dataframe thead th {\n",
       "        text-align: right;\n",
       "    }\n",
       "</style>\n",
       "<table border=\"1\" class=\"dataframe\">\n",
       "  <thead>\n",
       "    <tr style=\"text-align: right;\">\n",
       "      <th></th>\n",
       "      <th>col1</th>\n",
       "    </tr>\n",
       "  </thead>\n",
       "  <tbody>\n",
       "    <tr>\n",
       "      <th>0</th>\n",
       "      <td>1</td>\n",
       "    </tr>\n",
       "    <tr>\n",
       "      <th>1</th>\n",
       "      <td>2</td>\n",
       "    </tr>\n",
       "    <tr>\n",
       "      <th>2</th>\n",
       "      <td>3</td>\n",
       "    </tr>\n",
       "  </tbody>\n",
       "</table>\n",
       "</div>"
      ],
      "text/plain": [
       "   col1\n",
       "0     1\n",
       "1     2\n",
       "2     3"
      ]
     },
     "execution_count": 102,
     "metadata": {},
     "output_type": "execute_result"
    }
   ],
   "source": [
    "\n",
    "data = pd.Series([1, 2, 3], name=\"col1\")\n",
    "\n",
    "df = pd.DataFrame(data)\n",
    "\n",
    "df\n"
   ]
  },
  {
   "cell_type": "markdown",
   "id": "a9f96000-ff78-4997-80d0-5739103d941c",
   "metadata": {
    "jp-MarkdownHeadingCollapsed": true
   },
   "source": [
    "<br>\n",
    "\n",
    "###### <span style=\"color: blue; font-size: 1rem;\"><strong>5. &nbsp;Scalar Values</strong></span>\n"
   ]
  },
  {
   "cell_type": "markdown",
   "id": "3b40d791-69c3-4015-8fb6-66def1563035",
   "metadata": {},
   "source": [
    "\n",
    "<span style=\"margin-left: 70px;\">If a scalar value is passed, it must be combined with the &nbsp;<code>index</code>&nbsp; and &nbsp;<code>columns</code>&nbsp; parameters <u>to create a DataFrame of constants</u>.</span>\n"
   ]
  },
  {
   "cell_type": "code",
   "execution_count": 103,
   "id": "84c570be-b9ae-4925-91b6-f76fce49e050",
   "metadata": {},
   "outputs": [
    {
     "data": {
      "text/html": [
       "<div>\n",
       "<style scoped>\n",
       "    .dataframe tbody tr th:only-of-type {\n",
       "        vertical-align: middle;\n",
       "    }\n",
       "\n",
       "    .dataframe tbody tr th {\n",
       "        vertical-align: top;\n",
       "    }\n",
       "\n",
       "    .dataframe thead th {\n",
       "        text-align: right;\n",
       "    }\n",
       "</style>\n",
       "<table border=\"1\" class=\"dataframe\">\n",
       "  <thead>\n",
       "    <tr style=\"text-align: right;\">\n",
       "      <th></th>\n",
       "      <th>col1</th>\n",
       "      <th>col2</th>\n",
       "    </tr>\n",
       "  </thead>\n",
       "  <tbody>\n",
       "    <tr>\n",
       "      <th>0</th>\n",
       "      <td>5</td>\n",
       "      <td>5</td>\n",
       "    </tr>\n",
       "    <tr>\n",
       "      <th>1</th>\n",
       "      <td>5</td>\n",
       "      <td>5</td>\n",
       "    </tr>\n",
       "    <tr>\n",
       "      <th>2</th>\n",
       "      <td>5</td>\n",
       "      <td>5</td>\n",
       "    </tr>\n",
       "  </tbody>\n",
       "</table>\n",
       "</div>"
      ],
      "text/plain": [
       "   col1  col2\n",
       "0     5     5\n",
       "1     5     5\n",
       "2     5     5"
      ]
     },
     "execution_count": 103,
     "metadata": {},
     "output_type": "execute_result"
    }
   ],
   "source": [
    "\n",
    "df = pd.DataFrame(5,  index=range(3), columns=[\"col1\", \"col2\"])\n",
    "\n",
    "df\n"
   ]
  },
  {
   "cell_type": "markdown",
   "id": "89b94a52-1fdf-4c34-8966-ad861300defc",
   "metadata": {
    "jp-MarkdownHeadingCollapsed": true
   },
   "source": [
    "<br>\n",
    "\n",
    "###### <span style=\"color: blue; font-size: 1rem;\"><strong>6. &nbsp; DataFrame</strong></span>"
   ]
  },
  {
   "cell_type": "markdown",
   "id": "ea79d08c-6441-42fb-a89f-e8e5b0b35ab3",
   "metadata": {},
   "source": [
    "\n",
    "<span style=\"margin-left: 70px;\">Passing an existing DataFrame creates a <span style=\"color: blue;\"><strong>view</strong></span> (also known as <span style=\"color: blue;\">shallow copy</span>) of it.</span>\n",
    "\n",
    "<span style=\"color: #1ec410;\">Create &nbsp;a &nbsp;<strong>view</strong> &nbsp;&nbsp;(<u>shallow &nbsp;copy</u>)</span>"
   ]
  },
  {
   "cell_type": "code",
   "execution_count": 104,
   "id": "252258dc-8caa-4790-802a-84768d067001",
   "metadata": {},
   "outputs": [],
   "source": [
    "\n",
    "original_df = pd.DataFrame({\"col1\": [1, 2, 3]})\n",
    "\n",
    "new_df = pd.DataFrame(original_df)\n",
    "\n",
    "new_df.loc[0, 'col1'] = 10\n"
   ]
  },
  {
   "cell_type": "code",
   "execution_count": 105,
   "id": "d3f8afce-b01f-40fd-9919-9de2380f0083",
   "metadata": {},
   "outputs": [
    {
     "data": {
      "text/html": [
       "<div>\n",
       "<style scoped>\n",
       "    .dataframe tbody tr th:only-of-type {\n",
       "        vertical-align: middle;\n",
       "    }\n",
       "\n",
       "    .dataframe tbody tr th {\n",
       "        vertical-align: top;\n",
       "    }\n",
       "\n",
       "    .dataframe thead th {\n",
       "        text-align: right;\n",
       "    }\n",
       "</style>\n",
       "<table border=\"1\" class=\"dataframe\">\n",
       "  <thead>\n",
       "    <tr style=\"text-align: right;\">\n",
       "      <th></th>\n",
       "      <th>col1</th>\n",
       "    </tr>\n",
       "  </thead>\n",
       "  <tbody>\n",
       "    <tr>\n",
       "      <th>0</th>\n",
       "      <td>10</td>\n",
       "    </tr>\n",
       "    <tr>\n",
       "      <th>1</th>\n",
       "      <td>2</td>\n",
       "    </tr>\n",
       "    <tr>\n",
       "      <th>2</th>\n",
       "      <td>3</td>\n",
       "    </tr>\n",
       "  </tbody>\n",
       "</table>\n",
       "</div>"
      ],
      "text/plain": [
       "   col1\n",
       "0    10\n",
       "1     2\n",
       "2     3"
      ]
     },
     "execution_count": 105,
     "metadata": {},
     "output_type": "execute_result"
    }
   ],
   "source": [
    "\n",
    "new_df\n"
   ]
  },
  {
   "cell_type": "code",
   "execution_count": 106,
   "id": "78349c31-275f-4917-a092-35020292c9a2",
   "metadata": {},
   "outputs": [
    {
     "data": {
      "text/html": [
       "<div>\n",
       "<style scoped>\n",
       "    .dataframe tbody tr th:only-of-type {\n",
       "        vertical-align: middle;\n",
       "    }\n",
       "\n",
       "    .dataframe tbody tr th {\n",
       "        vertical-align: top;\n",
       "    }\n",
       "\n",
       "    .dataframe thead th {\n",
       "        text-align: right;\n",
       "    }\n",
       "</style>\n",
       "<table border=\"1\" class=\"dataframe\">\n",
       "  <thead>\n",
       "    <tr style=\"text-align: right;\">\n",
       "      <th></th>\n",
       "      <th>col1</th>\n",
       "    </tr>\n",
       "  </thead>\n",
       "  <tbody>\n",
       "    <tr>\n",
       "      <th>0</th>\n",
       "      <td>10</td>\n",
       "    </tr>\n",
       "    <tr>\n",
       "      <th>1</th>\n",
       "      <td>2</td>\n",
       "    </tr>\n",
       "    <tr>\n",
       "      <th>2</th>\n",
       "      <td>3</td>\n",
       "    </tr>\n",
       "  </tbody>\n",
       "</table>\n",
       "</div>"
      ],
      "text/plain": [
       "   col1\n",
       "0    10\n",
       "1     2\n",
       "2     3"
      ]
     },
     "execution_count": 106,
     "metadata": {},
     "output_type": "execute_result"
    }
   ],
   "source": [
    "\n",
    "original_df\n"
   ]
  },
  {
   "cell_type": "markdown",
   "id": "56b138a7-4e3e-4e76-80f2-b386c81d5559",
   "metadata": {},
   "source": [
    "\n",
    "<span style=\"color: #1ec410;\">Create &nbsp;a &nbsp;<strong>copy</strong> &nbsp;&nbsp;(<u>deep &nbsp;copy</u>)</span>\n"
   ]
  },
  {
   "cell_type": "code",
   "execution_count": 107,
   "id": "983f1181-8011-45c6-a1fe-f9ba1a990ed5",
   "metadata": {},
   "outputs": [],
   "source": [
    "\n",
    "original_df = pd.DataFrame({\"col1\": [1, 2, 3]})\n",
    "\n",
    "new_df = original_df.copy()\n",
    "\n",
    "new_df.loc[0, 'col1'] = 10\n"
   ]
  },
  {
   "cell_type": "code",
   "execution_count": 108,
   "id": "f44f0750-5f64-4c71-8ee7-7e5aa394645e",
   "metadata": {},
   "outputs": [
    {
     "data": {
      "text/html": [
       "<div>\n",
       "<style scoped>\n",
       "    .dataframe tbody tr th:only-of-type {\n",
       "        vertical-align: middle;\n",
       "    }\n",
       "\n",
       "    .dataframe tbody tr th {\n",
       "        vertical-align: top;\n",
       "    }\n",
       "\n",
       "    .dataframe thead th {\n",
       "        text-align: right;\n",
       "    }\n",
       "</style>\n",
       "<table border=\"1\" class=\"dataframe\">\n",
       "  <thead>\n",
       "    <tr style=\"text-align: right;\">\n",
       "      <th></th>\n",
       "      <th>col1</th>\n",
       "    </tr>\n",
       "  </thead>\n",
       "  <tbody>\n",
       "    <tr>\n",
       "      <th>0</th>\n",
       "      <td>10</td>\n",
       "    </tr>\n",
       "    <tr>\n",
       "      <th>1</th>\n",
       "      <td>2</td>\n",
       "    </tr>\n",
       "    <tr>\n",
       "      <th>2</th>\n",
       "      <td>3</td>\n",
       "    </tr>\n",
       "  </tbody>\n",
       "</table>\n",
       "</div>"
      ],
      "text/plain": [
       "   col1\n",
       "0    10\n",
       "1     2\n",
       "2     3"
      ]
     },
     "execution_count": 108,
     "metadata": {},
     "output_type": "execute_result"
    }
   ],
   "source": [
    "\n",
    "new_df\n"
   ]
  },
  {
   "cell_type": "code",
   "execution_count": 109,
   "id": "4b78fd2a-4d03-405c-b95c-f8c94d16e213",
   "metadata": {},
   "outputs": [
    {
     "data": {
      "text/html": [
       "<div>\n",
       "<style scoped>\n",
       "    .dataframe tbody tr th:only-of-type {\n",
       "        vertical-align: middle;\n",
       "    }\n",
       "\n",
       "    .dataframe tbody tr th {\n",
       "        vertical-align: top;\n",
       "    }\n",
       "\n",
       "    .dataframe thead th {\n",
       "        text-align: right;\n",
       "    }\n",
       "</style>\n",
       "<table border=\"1\" class=\"dataframe\">\n",
       "  <thead>\n",
       "    <tr style=\"text-align: right;\">\n",
       "      <th></th>\n",
       "      <th>col1</th>\n",
       "    </tr>\n",
       "  </thead>\n",
       "  <tbody>\n",
       "    <tr>\n",
       "      <th>0</th>\n",
       "      <td>1</td>\n",
       "    </tr>\n",
       "    <tr>\n",
       "      <th>1</th>\n",
       "      <td>2</td>\n",
       "    </tr>\n",
       "    <tr>\n",
       "      <th>2</th>\n",
       "      <td>3</td>\n",
       "    </tr>\n",
       "  </tbody>\n",
       "</table>\n",
       "</div>"
      ],
      "text/plain": [
       "   col1\n",
       "0     1\n",
       "1     2\n",
       "2     3"
      ]
     },
     "execution_count": 109,
     "metadata": {},
     "output_type": "execute_result"
    }
   ],
   "source": [
    "\n",
    "original_df\n"
   ]
  },
  {
   "cell_type": "markdown",
   "id": "41a7e2aa-03d8-423d-bfa3-e4bdbf74d1b0",
   "metadata": {
    "jp-MarkdownHeadingCollapsed": true
   },
   "source": [
    "<br>\n",
    "\n",
    "###### <span style=\"color: blue; font-size: 1rem;\"><strong>7. &nbsp; Other Inputs</strong></span>"
   ]
  },
  {
   "cell_type": "markdown",
   "id": "89f55f58-f37b-4f7c-9f45-183916148be5",
   "metadata": {},
   "source": [
    "<br>\n",
    "\n",
    "<span style=\"color: red;\">a. &nbsp;<u>Iterable</u></span> <br>\n",
    "<span style=\"color: #a245ff; margin-left: 70px;\">Any iterable that can be converted into a DataFrame. For example, a generator.</span>"
   ]
  },
  {
   "cell_type": "code",
   "execution_count": 110,
   "id": "bbebb5a5-fcf4-4787-aeb6-3ee474d50ad4",
   "metadata": {},
   "outputs": [
    {
     "data": {
      "text/html": [
       "<div>\n",
       "<style scoped>\n",
       "    .dataframe tbody tr th:only-of-type {\n",
       "        vertical-align: middle;\n",
       "    }\n",
       "\n",
       "    .dataframe tbody tr th {\n",
       "        vertical-align: top;\n",
       "    }\n",
       "\n",
       "    .dataframe thead th {\n",
       "        text-align: right;\n",
       "    }\n",
       "</style>\n",
       "<table border=\"1\" class=\"dataframe\">\n",
       "  <thead>\n",
       "    <tr style=\"text-align: right;\">\n",
       "      <th></th>\n",
       "      <th>col1</th>\n",
       "      <th>col2</th>\n",
       "    </tr>\n",
       "  </thead>\n",
       "  <tbody>\n",
       "    <tr>\n",
       "      <th>0</th>\n",
       "      <td>0</td>\n",
       "      <td>0</td>\n",
       "    </tr>\n",
       "    <tr>\n",
       "      <th>1</th>\n",
       "      <td>1</td>\n",
       "      <td>2</td>\n",
       "    </tr>\n",
       "    <tr>\n",
       "      <th>2</th>\n",
       "      <td>2</td>\n",
       "      <td>4</td>\n",
       "    </tr>\n",
       "  </tbody>\n",
       "</table>\n",
       "</div>"
      ],
      "text/plain": [
       "   col1  col2\n",
       "0     0     0\n",
       "1     1     2\n",
       "2     2     4"
      ]
     },
     "execution_count": 110,
     "metadata": {},
     "output_type": "execute_result"
    }
   ],
   "source": [
    "\n",
    "data = ((i, i * 2) for i in range(3))                          # <generator object <genexpr> at 0x0000014F078103C0>\n",
    "\n",
    "df = pd.DataFrame(data, columns=[\"col1\", \"col2\"])\n",
    "\n",
    "df\n"
   ]
  },
  {
   "cell_type": "markdown",
   "id": "e422b6f5-578a-47b1-84f7-4899a636c8cf",
   "metadata": {},
   "source": [
    "\n",
    "<span style=\"color: red;\">b. &nbsp;<u>Records</u></span> <br>\n",
    "<span style=\"color: #a245ff; margin-left: 70px;\">A list of tuples, with each tuple representing a row.</span>"
   ]
  },
  {
   "cell_type": "code",
   "execution_count": 111,
   "id": "6c11824e-6182-4ff1-8ce6-c24c0195496d",
   "metadata": {},
   "outputs": [
    {
     "data": {
      "text/html": [
       "<div>\n",
       "<style scoped>\n",
       "    .dataframe tbody tr th:only-of-type {\n",
       "        vertical-align: middle;\n",
       "    }\n",
       "\n",
       "    .dataframe tbody tr th {\n",
       "        vertical-align: top;\n",
       "    }\n",
       "\n",
       "    .dataframe thead th {\n",
       "        text-align: right;\n",
       "    }\n",
       "</style>\n",
       "<table border=\"1\" class=\"dataframe\">\n",
       "  <thead>\n",
       "    <tr style=\"text-align: right;\">\n",
       "      <th></th>\n",
       "      <th>id</th>\n",
       "      <th>name</th>\n",
       "    </tr>\n",
       "  </thead>\n",
       "  <tbody>\n",
       "    <tr>\n",
       "      <th>0</th>\n",
       "      <td>1</td>\n",
       "      <td>Alice</td>\n",
       "    </tr>\n",
       "    <tr>\n",
       "      <th>1</th>\n",
       "      <td>2</td>\n",
       "      <td>Bob</td>\n",
       "    </tr>\n",
       "    <tr>\n",
       "      <th>2</th>\n",
       "      <td>3</td>\n",
       "      <td>Charlie</td>\n",
       "    </tr>\n",
       "  </tbody>\n",
       "</table>\n",
       "</div>"
      ],
      "text/plain": [
       "   id     name\n",
       "0   1    Alice\n",
       "1   2      Bob\n",
       "2   3  Charlie"
      ]
     },
     "execution_count": 111,
     "metadata": {},
     "output_type": "execute_result"
    }
   ],
   "source": [
    "\n",
    "data = [(1, \"Alice\"), \n",
    "        (2, \"Bob\"), \n",
    "        (3, \"Charlie\")]\n",
    "\n",
    "df = pd.DataFrame(data, columns=[\"id\", \"name\"])\n",
    "\n",
    "df\n"
   ]
  },
  {
   "cell_type": "markdown",
   "id": "9918ee45-4df7-473c-a4a6-04037f43a829",
   "metadata": {},
   "source": [
    "\n",
    "<span style=\"color: red;\">c. &nbsp;<u>Zip</u></span> <br>\n",
    "<span style=\"color: #a245ff; margin-left: 70px;\">Combine multiple sequences into a DataFrame using zip.</span>"
   ]
  },
  {
   "cell_type": "code",
   "execution_count": 112,
   "id": "83d80b31-965b-41fb-b8e3-c1679ef9763a",
   "metadata": {},
   "outputs": [
    {
     "data": {
      "text/html": [
       "<div>\n",
       "<style scoped>\n",
       "    .dataframe tbody tr th:only-of-type {\n",
       "        vertical-align: middle;\n",
       "    }\n",
       "\n",
       "    .dataframe tbody tr th {\n",
       "        vertical-align: top;\n",
       "    }\n",
       "\n",
       "    .dataframe thead th {\n",
       "        text-align: right;\n",
       "    }\n",
       "</style>\n",
       "<table border=\"1\" class=\"dataframe\">\n",
       "  <thead>\n",
       "    <tr style=\"text-align: right;\">\n",
       "      <th></th>\n",
       "      <th>id</th>\n",
       "      <th>name</th>\n",
       "    </tr>\n",
       "  </thead>\n",
       "  <tbody>\n",
       "    <tr>\n",
       "      <th>0</th>\n",
       "      <td>1</td>\n",
       "      <td>Alice</td>\n",
       "    </tr>\n",
       "    <tr>\n",
       "      <th>1</th>\n",
       "      <td>2</td>\n",
       "      <td>Bob</td>\n",
       "    </tr>\n",
       "    <tr>\n",
       "      <th>2</th>\n",
       "      <td>3</td>\n",
       "      <td>Charlie</td>\n",
       "    </tr>\n",
       "  </tbody>\n",
       "</table>\n",
       "</div>"
      ],
      "text/plain": [
       "   id     name\n",
       "0   1    Alice\n",
       "1   2      Bob\n",
       "2   3  Charlie"
      ]
     },
     "execution_count": 112,
     "metadata": {},
     "output_type": "execute_result"
    }
   ],
   "source": [
    "\n",
    "data = zip([1, 2, 3], [\"Alice\", \"Bob\", \"Charlie\"])\n",
    "\n",
    "df = pd.DataFrame(data, columns=[\"id\", \"name\"])\n",
    "\n",
    "df\n"
   ]
  },
  {
   "cell_type": "markdown",
   "id": "fa461b52-84ca-4b2d-a584-ce98cdc86c6f",
   "metadata": {
    "jp-MarkdownHeadingCollapsed": true
   },
   "source": [
    "<br>\n",
    "\n",
    "###### <span style=\"color: blue; font-size: 1rem;\"><strong>8. &nbsp; From Files or External Data</strong></span>"
   ]
  },
  {
   "cell_type": "markdown",
   "id": "3fa9e928-2642-4541-a867-6835d2791c71",
   "metadata": {},
   "source": [
    "<br>\n",
    "\n",
    "<span style=\"color: red;\">a. &nbsp;&nbsp;CSV , &nbsp;Excel , &nbsp;JSON , etc.</span> <br>"
   ]
  },
  {
   "cell_type": "markdown",
   "id": "3aa3c043-0237-4904-b7a1-04b0318ed8d3",
   "metadata": {},
   "source": [
    "\n",
    "<div style=\"margin-left: 80px;\">\n",
    "\n",
    "![](../media/pandas_dataframe_9.PNG)\n",
    "\n",
    "</div>\n",
    "\n",
    "<strong>Key &nbsp;Points</strong>\n",
    "1. &nbsp;<span style=\"color: blue;\"><strong>Data Alignment</strong></span> &nbsp;&nbsp;========>&nbsp;&nbsp; Pandas aligns data by index if dictionaries or Series are used, filling missing values with &nbsp;<code>NaN</code>\n",
    "2. &nbsp;&nbsp;<span style=\"color: blue;\"><strong>Column Names</strong></span> &nbsp;&nbsp;&nbsp;========>&nbsp; If not provided, columns will default to integers (&nbsp;<code>0, 1, 2, ...</code> )\n",
    "3. &nbsp;&nbsp;<span style=\"color: blue;\"><strong>Index</strong></span> &nbsp;&nbsp;===============>&nbsp; The &nbsp;<code>index</code>&nbsp; parameter can be used to set custom row labels."
   ]
  },
  {
   "cell_type": "markdown",
   "id": "41c60b00-1398-4803-9744-2e9bdf8cd5c5",
   "metadata": {
    "jp-MarkdownHeadingCollapsed": true
   },
   "source": [
    "##### <span style=\"color: #ffb585;\">----------------------------------------------------------------------------------------------------------------------------------------------------------------------------------------------</span>\n",
    "\n",
    "<span style=\"font-size: 0.9rem; color: black; font-size: 1.3rem;\">🔶</span> &nbsp;&nbsp;<span style=\"color: red;\">If a DataFrame’s &nbsp;<code style=\"background-color: #fdf0d2;\">index</code>&nbsp; and &nbsp;<code style=\"background-color: #fdf0d2;\">columns</code>&nbsp; have their &nbsp;<code style=\"background-color: #fdf0d2;\">name</code>&nbsp; attributes set , these will also be displayed :</span>"
   ]
  },
  {
   "cell_type": "code",
   "execution_count": 113,
   "id": "4e0fd7e1-2995-4bf2-999f-1c4ec25c1d6b",
   "metadata": {},
   "outputs": [
    {
     "data": {
      "text/html": [
       "<div>\n",
       "<style scoped>\n",
       "    .dataframe tbody tr th:only-of-type {\n",
       "        vertical-align: middle;\n",
       "    }\n",
       "\n",
       "    .dataframe tbody tr th {\n",
       "        vertical-align: top;\n",
       "    }\n",
       "\n",
       "    .dataframe thead th {\n",
       "        text-align: right;\n",
       "    }\n",
       "</style>\n",
       "<table border=\"1\" class=\"dataframe\">\n",
       "  <thead>\n",
       "    <tr style=\"text-align: right;\">\n",
       "      <th></th>\n",
       "      <th>Mumbai</th>\n",
       "      <th>Delhi</th>\n",
       "    </tr>\n",
       "  </thead>\n",
       "  <tbody>\n",
       "    <tr>\n",
       "      <th>2000</th>\n",
       "      <td>1.5</td>\n",
       "      <td>NaN</td>\n",
       "    </tr>\n",
       "    <tr>\n",
       "      <th>2001</th>\n",
       "      <td>1.7</td>\n",
       "      <td>2.4</td>\n",
       "    </tr>\n",
       "    <tr>\n",
       "      <th>2002</th>\n",
       "      <td>3.6</td>\n",
       "      <td>2.9</td>\n",
       "    </tr>\n",
       "  </tbody>\n",
       "</table>\n",
       "</div>"
      ],
      "text/plain": [
       "      Mumbai  Delhi\n",
       "2000     1.5    NaN\n",
       "2001     1.7    2.4\n",
       "2002     3.6    2.9"
      ]
     },
     "execution_count": 113,
     "metadata": {},
     "output_type": "execute_result"
    }
   ],
   "source": [
    "\n",
    "frame3\n"
   ]
  },
  {
   "cell_type": "code",
   "execution_count": 114,
   "id": "2a5a9ba8-9730-4099-be31-e33635818ffd",
   "metadata": {},
   "outputs": [
    {
     "name": "stdout",
     "output_type": "stream",
     "text": [
      "None\n",
      "None\n"
     ]
    }
   ],
   "source": [
    "\n",
    "print(frame3.index.name)                          # None         <-------         Int64Index([2000, 2001, 2002], dtype='int64')\n",
    "\n",
    "print(frame3.columns.name)                        # None         <-------         Index(['Mumbai', 'Delhi'], dtype='object')\n"
   ]
  },
  {
   "cell_type": "code",
   "execution_count": 115,
   "id": "72ee1cca-5215-48c5-a486-7d89c48ff3da",
   "metadata": {},
   "outputs": [
    {
     "data": {
      "text/html": [
       "<div>\n",
       "<style scoped>\n",
       "    .dataframe tbody tr th:only-of-type {\n",
       "        vertical-align: middle;\n",
       "    }\n",
       "\n",
       "    .dataframe tbody tr th {\n",
       "        vertical-align: top;\n",
       "    }\n",
       "\n",
       "    .dataframe thead th {\n",
       "        text-align: right;\n",
       "    }\n",
       "</style>\n",
       "<table border=\"1\" class=\"dataframe\">\n",
       "  <thead>\n",
       "    <tr style=\"text-align: right;\">\n",
       "      <th>state</th>\n",
       "      <th>Mumbai</th>\n",
       "      <th>Delhi</th>\n",
       "    </tr>\n",
       "    <tr>\n",
       "      <th>year</th>\n",
       "      <th></th>\n",
       "      <th></th>\n",
       "    </tr>\n",
       "  </thead>\n",
       "  <tbody>\n",
       "    <tr>\n",
       "      <th>2000</th>\n",
       "      <td>1.5</td>\n",
       "      <td>NaN</td>\n",
       "    </tr>\n",
       "    <tr>\n",
       "      <th>2001</th>\n",
       "      <td>1.7</td>\n",
       "      <td>2.4</td>\n",
       "    </tr>\n",
       "    <tr>\n",
       "      <th>2002</th>\n",
       "      <td>3.6</td>\n",
       "      <td>2.9</td>\n",
       "    </tr>\n",
       "  </tbody>\n",
       "</table>\n",
       "</div>"
      ],
      "text/plain": [
       "state  Mumbai  Delhi\n",
       "year                \n",
       "2000      1.5    NaN\n",
       "2001      1.7    2.4\n",
       "2002      3.6    2.9"
      ]
     },
     "execution_count": 115,
     "metadata": {},
     "output_type": "execute_result"
    }
   ],
   "source": [
    "\n",
    "frame3.index.name = \"year\"\n",
    "\n",
    "frame3.columns.name = \"state\"\n",
    "\n",
    "frame3\n"
   ]
  },
  {
   "cell_type": "code",
   "execution_count": 116,
   "id": "8a048a92-728b-4bc0-9cfd-454e355a327f",
   "metadata": {},
   "outputs": [
    {
     "name": "stdout",
     "output_type": "stream",
     "text": [
      "year\n",
      "state\n"
     ]
    }
   ],
   "source": [
    "\n",
    "print(frame3.index.name)                          # year         <-------         Int64Index([2000, 2001, 2002], dtype='int64', name='year')\n",
    "\n",
    "print(frame3.columns.name)                        # state        <-------         Index(['Mumbai', 'Delhi'], dtype='object', name='state')\n"
   ]
  },
  {
   "cell_type": "markdown",
   "id": "c4ee59f3-018f-4ca1-b362-d29783b176a7",
   "metadata": {},
   "source": [
    "<br>\n",
    "\n",
    "<strong>Note</strong> &nbsp;&nbsp;-&nbsp;&nbsp; <span style=\"color: #a245ff;\"> Unlike Series , DataFrame does not have a name attribute </span>"
   ]
  },
  {
   "cell_type": "code",
   "execution_count": 117,
   "id": "5e3e0ae6-f353-40f0-87bb-1d7ce20a9f71",
   "metadata": {},
   "outputs": [
    {
     "ename": "AttributeError",
     "evalue": "'DataFrame' object has no attribute 'name'",
     "output_type": "error",
     "traceback": [
      "\u001b[1;31m---------------------------------------------------------------------------\u001b[0m",
      "\u001b[1;31mAttributeError\u001b[0m                            Traceback (most recent call last)",
      "\u001b[1;32m~\\AppData\\Local\\Temp\\ipykernel_9012\\4149451709.py\u001b[0m in \u001b[0;36m?\u001b[1;34m()\u001b[0m\n\u001b[1;32m----> 1\u001b[1;33m \u001b[0mframe3\u001b[0m\u001b[1;33m.\u001b[0m\u001b[0mname\u001b[0m\u001b[1;33m\u001b[0m\u001b[1;33m\u001b[0m\u001b[0m\n\u001b[0m",
      "\u001b[1;32m~\\AppData\\Local\\Programs\\Python\\Python311\\Lib\\site-packages\\pandas\\core\\generic.py\u001b[0m in \u001b[0;36m?\u001b[1;34m(self, name)\u001b[0m\n\u001b[0;32m   5898\u001b[0m             \u001b[1;32mand\u001b[0m \u001b[0mname\u001b[0m \u001b[1;32mnot\u001b[0m \u001b[1;32min\u001b[0m \u001b[0mself\u001b[0m\u001b[1;33m.\u001b[0m\u001b[0m_accessors\u001b[0m\u001b[1;33m\u001b[0m\u001b[1;33m\u001b[0m\u001b[0m\n\u001b[0;32m   5899\u001b[0m             \u001b[1;32mand\u001b[0m \u001b[0mself\u001b[0m\u001b[1;33m.\u001b[0m\u001b[0m_info_axis\u001b[0m\u001b[1;33m.\u001b[0m\u001b[0m_can_hold_identifiers_and_holds_name\u001b[0m\u001b[1;33m(\u001b[0m\u001b[0mname\u001b[0m\u001b[1;33m)\u001b[0m\u001b[1;33m\u001b[0m\u001b[1;33m\u001b[0m\u001b[0m\n\u001b[0;32m   5900\u001b[0m         ):\n\u001b[0;32m   5901\u001b[0m             \u001b[1;32mreturn\u001b[0m \u001b[0mself\u001b[0m\u001b[1;33m[\u001b[0m\u001b[0mname\u001b[0m\u001b[1;33m]\u001b[0m\u001b[1;33m\u001b[0m\u001b[1;33m\u001b[0m\u001b[0m\n\u001b[1;32m-> 5902\u001b[1;33m         \u001b[1;32mreturn\u001b[0m \u001b[0mobject\u001b[0m\u001b[1;33m.\u001b[0m\u001b[0m__getattribute__\u001b[0m\u001b[1;33m(\u001b[0m\u001b[0mself\u001b[0m\u001b[1;33m,\u001b[0m \u001b[0mname\u001b[0m\u001b[1;33m)\u001b[0m\u001b[1;33m\u001b[0m\u001b[1;33m\u001b[0m\u001b[0m\n\u001b[0m",
      "\u001b[1;31mAttributeError\u001b[0m: 'DataFrame' object has no attribute 'name'"
     ]
    }
   ],
   "source": [
    "\n",
    "frame3.name\n"
   ]
  },
  {
   "cell_type": "markdown",
   "id": "ce3f604b-d4dc-4f3e-94d7-8e818e936f48",
   "metadata": {
    "jp-MarkdownHeadingCollapsed": true
   },
   "source": [
    "##### <span style=\"color: #ffb585;\">----------------------------------------------------------------------------------------------------------------------------------------------------------------------------------------------</span>\n",
    "\n",
    "<span style=\"font-size: 0.9rem; color: black; font-size: 1.3rem;\">🔶</span> &nbsp;&nbsp;<span style=\"color: #f76607;\">DataFrame's &nbsp;<code style=\"background-color: #ffff62;\"><span style=\"color: #a245ff; font-size: 0.8rem;\">df</span>.to_numpy()</code>&nbsp; method returns the data contained in the DataFrame as a <strong>two-dimensional ndarray</strong> :</span>"
   ]
  },
  {
   "cell_type": "code",
   "execution_count": 118,
   "id": "dec486fb-2aa7-4d5c-86c9-9af3a9a16ac7",
   "metadata": {},
   "outputs": [
    {
     "data": {
      "text/plain": [
       "array([[1.5, nan],\n",
       "       [1.7, 2.4],\n",
       "       [3.6, 2.9]])"
      ]
     },
     "execution_count": 118,
     "metadata": {},
     "output_type": "execute_result"
    }
   ],
   "source": [
    "\n",
    "frame3.to_numpy()\n"
   ]
  },
  {
   "cell_type": "markdown",
   "id": "dd898c45-1c77-451c-872d-36c398ddf273",
   "metadata": {},
   "source": [
    "<br>\n",
    "\n",
    "<span style=\"color: #a245ff;\">If the DataFrame’s columns are <strong>different data types</strong>, the data type of the returned array will be chosen <strong>to accommodate all of the columns</strong> :</span>"
   ]
  },
  {
   "cell_type": "code",
   "execution_count": 119,
   "id": "be47c7ba-7603-4a33-a897-27440afedb70",
   "metadata": {},
   "outputs": [
    {
     "data": {
      "text/plain": [
       "array([[2000, 'Mumbai', 1.5, nan, 5.5],\n",
       "       [2001, 'Mumbai', 1.7, nan, 7.6],\n",
       "       [2002, 'Mumbai', 3.6, -1.2, 8.1],\n",
       "       [2001, 'Delhi', 2.4, nan, 6.2],\n",
       "       [2002, 'Delhi', 2.9, -1.5, 7.9],\n",
       "       [2003, 'Delhi', 3.2, -1.7, 7.0]], dtype=object)"
      ]
     },
     "execution_count": 119,
     "metadata": {},
     "output_type": "execute_result"
    }
   ],
   "source": [
    "\n",
    "frame2.to_numpy()\n"
   ]
  },
  {
   "cell_type": "markdown",
   "id": "fb473132-aea7-41e4-8fcc-cd1e0ddd62a0",
   "metadata": {},
   "source": [
    "<br>\n",
    "\n",
    "### <div style=\"color: black; background-color: #ffe9c8; padding: 10px;\"> <code style=\"font-size: 1.3rem; background-color: #ffe9c8; color: red;\"><strong>Index Objects</strong></code></div>\n"
   ]
  },
  {
   "cell_type": "markdown",
   "id": "65d2fc7c-5951-41c5-ad14-f9a5d476b0c2",
   "metadata": {
    "jp-MarkdownHeadingCollapsed": true
   },
   "source": [
    "##### <span style=\"color: #ffb585;\">----------------------------------------------------------------------------------------------------------------------------------------------------------------------------------------------</span>\n",
    "\n",
    "<div style=\"display: flex;\">\n",
    "<div><span style=\"font-size: 0.9rem; color: black; font-size: 1.3rem;\">🔶</span>&nbsp;&nbsp;&nbsp;</div>\n",
    "<div><span style=\"color: #f76607;\">pandas’s Index objects are responsible for holding the <u>axis labels</u> <span style=\"font-size: 1rem;\">(</span> including a <strong>DataFrame's column names</strong> <span style=\"font-size: 1rem;\">)</span> and other <u>metadata</u> <span style=\"font-size: 1rem;\">(</span> like the axis name or names <span style=\"font-size: 1rem;\">)</span>. <br>\n",
    "Any array or other sequence of labels you use when constructing a Series or DataFrame is <u>internally converted to an Index</u> :</span></div>\n",
    "</div>\n"
   ]
  },
  {
   "cell_type": "code",
   "execution_count": 120,
   "id": "8cc37700-adfd-4727-b3f6-01d0e3784968",
   "metadata": {},
   "outputs": [
    {
     "data": {
      "text/plain": [
       "a    0\n",
       "b    1\n",
       "c    2\n",
       "dtype: int32"
      ]
     },
     "execution_count": 120,
     "metadata": {},
     "output_type": "execute_result"
    }
   ],
   "source": [
    "\n",
    "obj = pd.Series(np.arange(3), index=[\"a\", \"b\", \"c\"])\n",
    "\n",
    "obj\n"
   ]
  },
  {
   "cell_type": "code",
   "execution_count": 121,
   "id": "ef63b39f-130c-4878-813b-91cf00a8a753",
   "metadata": {},
   "outputs": [
    {
     "data": {
      "text/plain": [
       "Index(['a', 'b', 'c'], dtype='object')"
      ]
     },
     "execution_count": 121,
     "metadata": {},
     "output_type": "execute_result"
    }
   ],
   "source": [
    "\n",
    "index = obj.index\n",
    "\n",
    "index\n"
   ]
  },
  {
   "cell_type": "code",
   "execution_count": 122,
   "id": "df989b76-68dd-40c3-a649-2c3a45789409",
   "metadata": {},
   "outputs": [
    {
     "data": {
      "text/plain": [
       "Index(['b', 'c'], dtype='object')"
      ]
     },
     "execution_count": 122,
     "metadata": {},
     "output_type": "execute_result"
    }
   ],
   "source": [
    "\n",
    "index[1:]\n"
   ]
  },
  {
   "cell_type": "markdown",
   "id": "dfb963a0-9516-497e-bf87-6be5b6cbcec1",
   "metadata": {
    "jp-MarkdownHeadingCollapsed": true
   },
   "source": [
    "##### <span style=\"color: #ffb585;\">----------------------------------------------------------------------------------------------------------------------------------------------------------------------------------------------</span>\n",
    "\n",
    "<span style=\"font-size: 0.9rem; color: black; font-size: 1.3rem;\">🔶</span> &nbsp;&nbsp;<span style=\"color: #f76607;\">Index objects are <strong>immutable</strong> and thus <u>can’t be modified</u> by the user :</span>"
   ]
  },
  {
   "cell_type": "code",
   "execution_count": 125,
   "id": "df59d090-0b20-44a4-a421-f204781e14d0",
   "metadata": {},
   "outputs": [
    {
     "ename": "TypeError",
     "evalue": "Index does not support mutable operations",
     "output_type": "error",
     "traceback": [
      "\u001b[1;31m---------------------------------------------------------------------------\u001b[0m",
      "\u001b[1;31mTypeError\u001b[0m                                 Traceback (most recent call last)",
      "Cell \u001b[1;32mIn[125], line 1\u001b[0m\n\u001b[1;32m----> 1\u001b[0m \u001b[43mindex\u001b[49m\u001b[43m[\u001b[49m\u001b[38;5;241;43m1\u001b[39;49m\u001b[43m]\u001b[49m \u001b[38;5;241m=\u001b[39m \u001b[38;5;124m\"\u001b[39m\u001b[38;5;124md\u001b[39m\u001b[38;5;124m\"\u001b[39m\n",
      "File \u001b[1;32m~\\AppData\\Local\\Programs\\Python\\Python311\\Lib\\site-packages\\pandas\\core\\indexes\\base.py:5302\u001b[0m, in \u001b[0;36mIndex.__setitem__\u001b[1;34m(self, key, value)\u001b[0m\n\u001b[0;32m   5300\u001b[0m \u001b[38;5;129m@final\u001b[39m\n\u001b[0;32m   5301\u001b[0m \u001b[38;5;28;01mdef\u001b[39;00m \u001b[38;5;21m__setitem__\u001b[39m(\u001b[38;5;28mself\u001b[39m, key, value):\n\u001b[1;32m-> 5302\u001b[0m     \u001b[38;5;28;01mraise\u001b[39;00m \u001b[38;5;167;01mTypeError\u001b[39;00m(\u001b[38;5;124m\"\u001b[39m\u001b[38;5;124mIndex does not support mutable operations\u001b[39m\u001b[38;5;124m\"\u001b[39m)\n",
      "\u001b[1;31mTypeError\u001b[0m: Index does not support mutable operations"
     ]
    }
   ],
   "source": [
    "\n",
    "index[1] = \"d\"\n"
   ]
  },
  {
   "cell_type": "markdown",
   "id": "d25698d3-940b-4364-91a6-06d3f7699700",
   "metadata": {
    "jp-MarkdownHeadingCollapsed": true
   },
   "source": [
    "\n",
    "##### <span style=\"color: #ffb585;\">----------------------------------------------------------------------------------------------------------------------------------------------------------------------------------------------</span>\n",
    "\n",
    "<span style=\"font-size: 0.9rem; color: black; font-size: 1.3rem;\">🔶</span> &nbsp;&nbsp;<span style=\"color: #f76607;\"><strong>Immutability</strong> <u>makes it safer to share Index objects</u> among data structures :</span>"
   ]
  },
  {
   "cell_type": "code",
   "execution_count": 5,
   "id": "5335b882-cece-4d76-806a-8205df979dde",
   "metadata": {},
   "outputs": [
    {
     "data": {
      "text/plain": [
       "Int64Index([0, 1, 2], dtype='int64')"
      ]
     },
     "execution_count": 5,
     "metadata": {},
     "output_type": "execute_result"
    }
   ],
   "source": [
    "\n",
    "labels = pd.Index(np.arange(3))\n",
    "\n",
    "labels\n"
   ]
  },
  {
   "cell_type": "code",
   "execution_count": 127,
   "id": "c5e0afb7-1fe3-47df-a361-9be4f0c746dc",
   "metadata": {},
   "outputs": [
    {
     "data": {
      "text/plain": [
       "0    1.5\n",
       "1   -2.5\n",
       "2    0.0\n",
       "dtype: float64"
      ]
     },
     "execution_count": 127,
     "metadata": {},
     "output_type": "execute_result"
    }
   ],
   "source": [
    "\n",
    "obj2 = pd.Series([1.5, -2.5, 0], index=labels)\n",
    "\n",
    "obj2\n"
   ]
  },
  {
   "cell_type": "markdown",
   "id": "593c5823-9bf5-4ac9-9bbb-29e961bc945d",
   "metadata": {},
   "source": [
    "\n",
    "<br>\n",
    "\n",
    "<div style=\"padding: 10px; background-color: #fff6f6; color: #a245ff;\">\n",
    "Some users will not often take advantage of the capabilities provided by an Index, but because some operations will yield results containing indexed data, it's important to understand how they work .\n",
    "</div>\n",
    "\n",
    "<span style=\"color: #a245ff;\"></span>"
   ]
  },
  {
   "cell_type": "markdown",
   "id": "8d9dd075-66e7-4fc4-885d-f0c3f3ff851c",
   "metadata": {
    "jp-MarkdownHeadingCollapsed": true
   },
   "source": [
    "\n",
    "##### <span style=\"color: #ffb585;\">----------------------------------------------------------------------------------------------------------------------------------------------------------------------------------------------</span>\n",
    "\n",
    "<span style=\"font-size: 0.9rem; color: black; font-size: 1.3rem;\">🔶</span> &nbsp;&nbsp;<span style=\"color: #f76607;\">In addition to being array-like, an Index also behaves like a fixed-size set :</span>\n"
   ]
  },
  {
   "cell_type": "code",
   "execution_count": 128,
   "id": "e79369dc-3f4a-466e-a83c-0f47b4f74e40",
   "metadata": {},
   "outputs": [
    {
     "data": {
      "text/html": [
       "<div>\n",
       "<style scoped>\n",
       "    .dataframe tbody tr th:only-of-type {\n",
       "        vertical-align: middle;\n",
       "    }\n",
       "\n",
       "    .dataframe tbody tr th {\n",
       "        vertical-align: top;\n",
       "    }\n",
       "\n",
       "    .dataframe thead th {\n",
       "        text-align: right;\n",
       "    }\n",
       "</style>\n",
       "<table border=\"1\" class=\"dataframe\">\n",
       "  <thead>\n",
       "    <tr style=\"text-align: right;\">\n",
       "      <th>state</th>\n",
       "      <th>Mumbai</th>\n",
       "      <th>Delhi</th>\n",
       "    </tr>\n",
       "    <tr>\n",
       "      <th>year</th>\n",
       "      <th></th>\n",
       "      <th></th>\n",
       "    </tr>\n",
       "  </thead>\n",
       "  <tbody>\n",
       "    <tr>\n",
       "      <th>2000</th>\n",
       "      <td>1.5</td>\n",
       "      <td>NaN</td>\n",
       "    </tr>\n",
       "    <tr>\n",
       "      <th>2001</th>\n",
       "      <td>1.7</td>\n",
       "      <td>2.4</td>\n",
       "    </tr>\n",
       "    <tr>\n",
       "      <th>2002</th>\n",
       "      <td>3.6</td>\n",
       "      <td>2.9</td>\n",
       "    </tr>\n",
       "  </tbody>\n",
       "</table>\n",
       "</div>"
      ],
      "text/plain": [
       "state  Mumbai  Delhi\n",
       "year                \n",
       "2000      1.5    NaN\n",
       "2001      1.7    2.4\n",
       "2002      3.6    2.9"
      ]
     },
     "execution_count": 128,
     "metadata": {},
     "output_type": "execute_result"
    }
   ],
   "source": [
    "\n",
    "frame3\n"
   ]
  },
  {
   "cell_type": "code",
   "execution_count": 129,
   "id": "b0295086-d601-4344-ae55-b518e4b65fc7",
   "metadata": {},
   "outputs": [
    {
     "data": {
      "text/plain": [
       "Index(['Mumbai', 'Delhi'], dtype='object', name='state')"
      ]
     },
     "execution_count": 129,
     "metadata": {},
     "output_type": "execute_result"
    }
   ],
   "source": [
    "\n",
    "frame3.columns\n"
   ]
  },
  {
   "cell_type": "code",
   "execution_count": 130,
   "id": "3109edaf-74d4-4361-a174-c19e56060cc8",
   "metadata": {},
   "outputs": [
    {
     "data": {
      "text/plain": [
       "True"
      ]
     },
     "execution_count": 130,
     "metadata": {},
     "output_type": "execute_result"
    }
   ],
   "source": [
    "\n",
    "\"Mumbai\" in frame3.columns\n"
   ]
  },
  {
   "cell_type": "code",
   "execution_count": 131,
   "id": "ffe008dc-78a0-43a2-bc14-1063a24d4a2d",
   "metadata": {},
   "outputs": [
    {
     "data": {
      "text/plain": [
       "False"
      ]
     },
     "execution_count": 131,
     "metadata": {},
     "output_type": "execute_result"
    }
   ],
   "source": [
    "\n",
    "2003 in frame3.index\n"
   ]
  },
  {
   "cell_type": "markdown",
   "id": "0b6c07e1-9387-4e2f-a721-287a1e64ec5c",
   "metadata": {
    "jp-MarkdownHeadingCollapsed": true
   },
   "source": [
    "\n",
    "##### <span style=\"color: #ffb585;\">----------------------------------------------------------------------------------------------------------------------------------------------------------------------------------------------</span>\n",
    "\n",
    "<span style=\"font-size: 0.9rem; color: black; font-size: 1.3rem;\">🔶</span> &nbsp;&nbsp;<span style=\"color: #f76607;\">Unlike Python sets , a pandas Index <u>can contain <strong>duplicate labels</strong></u> :</span>\n"
   ]
  },
  {
   "cell_type": "code",
   "execution_count": 132,
   "id": "692af4eb-8d32-4e3d-b4d2-6f8eb9e3013f",
   "metadata": {},
   "outputs": [
    {
     "data": {
      "text/plain": [
       "Index(['foo', 'foo', 'bar', 'bar'], dtype='object')"
      ]
     },
     "execution_count": 132,
     "metadata": {},
     "output_type": "execute_result"
    }
   ],
   "source": [
    "\n",
    "pd.Index([\"foo\", \"foo\", \"bar\", \"bar\"])\n"
   ]
  },
  {
   "cell_type": "markdown",
   "id": "184e741f-5a79-486c-90e0-b7150f4633a2",
   "metadata": {
    "jp-MarkdownHeadingCollapsed": true
   },
   "source": [
    "\n",
    "##### <span style=\"color: #ffb585;\">----------------------------------------------------------------------------------------------------------------------------------------------------------------------------------------------</span>\n",
    "\n",
    "<span style=\"font-size: 0.9rem; color: black; font-size: 1.3rem;\">🔶</span> &nbsp;&nbsp;<span style=\"color: #f76607;\">Selections with duplicate index labels will select <strong>all occurrences</strong> of that label :</span>\n"
   ]
  },
  {
   "cell_type": "markdown",
   "id": "83d75253-dbf8-4008-8256-8434da95757a",
   "metadata": {},
   "source": [
    "<br>\n",
    "\n",
    "<span style=\"background-color: #1ec410; color: white; padding:5px;\"> <font size=\"+1\">↳</font> &nbsp;<strong>Series</strong> &nbsp;with &nbsp;duplicate &nbsp;index &nbsp;labels</span>"
   ]
  },
  {
   "cell_type": "code",
   "execution_count": 133,
   "id": "8d2e9654-8586-4bb4-9401-910fec68665d",
   "metadata": {},
   "outputs": [
    {
     "name": "stdout",
     "output_type": "stream",
     "text": [
      "a    10\n",
      "b    20\n",
      "a    30\n",
      "c    40\n",
      "dtype: int64\n"
     ]
    }
   ],
   "source": [
    "\n",
    "data = pd.Series([10, 20, 30, 40], index=[\"a\", \"b\", \"a\", \"c\"])                         # Creating a Series with duplicate index labels\n",
    "\n",
    "print(data)\n"
   ]
  },
  {
   "cell_type": "markdown",
   "id": "c2670e96-2896-4b72-8ff7-bf8cccb23fd2",
   "metadata": {},
   "source": [
    "\n",
    "<span style=\"color: #a245ff;\">Notice that the label &nbsp;<code style=\"background-color: #f5d2fd;\">\"a\"</code>&nbsp; is duplicated.</span>"
   ]
  },
  {
   "cell_type": "code",
   "execution_count": 134,
   "id": "0daeb10f-0f01-48d9-8daf-454af8081b89",
   "metadata": {},
   "outputs": [
    {
     "name": "stdout",
     "output_type": "stream",
     "text": [
      "a    10\n",
      "a    30\n",
      "dtype: int64\n"
     ]
    }
   ],
   "source": [
    "\n",
    "print(data[\"a\"])                                                                       # Selecting the duplicate label 'a'\n"
   ]
  },
  {
   "cell_type": "markdown",
   "id": "3bc70f70-3179-428c-a02a-315937f2882a",
   "metadata": {},
   "source": [
    "\n",
    "<span style=\"color: #a245ff;\">Here, both values corresponding to the label &nbsp;<code style=\"background-color: #f5d2fd;\">\"a\"</code>&nbsp; are included in the result.</span>\n",
    "\n",
    "<br>\n",
    "\n",
    "<span style=\"background-color: #1ec410; color: white; padding:5px;\"> <font size=\"+1\">↳</font> &nbsp;<strong>Dataframe</strong> &nbsp;with &nbsp;duplicate &nbsp;index &nbsp;labels</span>\n"
   ]
  },
  {
   "cell_type": "code",
   "execution_count": 26,
   "id": "1c6ac3dd-4f77-49ae-acd1-e6f83f48de6e",
   "metadata": {},
   "outputs": [
    {
     "data": {
      "text/html": [
       "<div>\n",
       "<style scoped>\n",
       "    .dataframe tbody tr th:only-of-type {\n",
       "        vertical-align: middle;\n",
       "    }\n",
       "\n",
       "    .dataframe tbody tr th {\n",
       "        vertical-align: top;\n",
       "    }\n",
       "\n",
       "    .dataframe thead th {\n",
       "        text-align: right;\n",
       "    }\n",
       "</style>\n",
       "<table border=\"1\" class=\"dataframe\">\n",
       "  <thead>\n",
       "    <tr style=\"text-align: right;\">\n",
       "      <th></th>\n",
       "      <th>col1</th>\n",
       "      <th>col2</th>\n",
       "    </tr>\n",
       "  </thead>\n",
       "  <tbody>\n",
       "    <tr>\n",
       "      <th>a</th>\n",
       "      <td>1</td>\n",
       "      <td>10</td>\n",
       "    </tr>\n",
       "    <tr>\n",
       "      <th>b</th>\n",
       "      <td>2</td>\n",
       "      <td>20</td>\n",
       "    </tr>\n",
       "    <tr>\n",
       "      <th>a</th>\n",
       "      <td>3</td>\n",
       "      <td>30</td>\n",
       "    </tr>\n",
       "    <tr>\n",
       "      <th>c</th>\n",
       "      <td>4</td>\n",
       "      <td>40</td>\n",
       "    </tr>\n",
       "  </tbody>\n",
       "</table>\n",
       "</div>"
      ],
      "text/plain": [
       "   col1  col2\n",
       "a     1    10\n",
       "b     2    20\n",
       "a     3    30\n",
       "c     4    40"
      ]
     },
     "execution_count": 26,
     "metadata": {},
     "output_type": "execute_result"
    }
   ],
   "source": [
    "\n",
    "df = pd.DataFrame({\"col1\": [1, 2, 3, 4], \n",
    "                   \"col2\": [10, 20, 30, 40]\n",
    "                  }, index=[\"a\", \"b\", \"a\", \"c\"])                                       # Creating a DataFrame with duplicate index labels\n",
    "\n",
    "\n",
    "df\n"
   ]
  },
  {
   "cell_type": "markdown",
   "id": "1c2151d1-b39f-4e80-9363-58e321220933",
   "metadata": {},
   "source": [
    "\n",
    "<span style=\"color: #a245ff;\">Notice that the label &nbsp;<code style=\"background-color: #f5d2fd;\">\"a\"</code>&nbsp; is duplicated.</span>"
   ]
  },
  {
   "cell_type": "code",
   "execution_count": 27,
   "id": "e0f10493-eb14-48a5-99b0-72453f1b1911",
   "metadata": {},
   "outputs": [
    {
     "data": {
      "text/html": [
       "<div>\n",
       "<style scoped>\n",
       "    .dataframe tbody tr th:only-of-type {\n",
       "        vertical-align: middle;\n",
       "    }\n",
       "\n",
       "    .dataframe tbody tr th {\n",
       "        vertical-align: top;\n",
       "    }\n",
       "\n",
       "    .dataframe thead th {\n",
       "        text-align: right;\n",
       "    }\n",
       "</style>\n",
       "<table border=\"1\" class=\"dataframe\">\n",
       "  <thead>\n",
       "    <tr style=\"text-align: right;\">\n",
       "      <th></th>\n",
       "      <th>col1</th>\n",
       "      <th>col2</th>\n",
       "    </tr>\n",
       "  </thead>\n",
       "  <tbody>\n",
       "    <tr>\n",
       "      <th>a</th>\n",
       "      <td>1</td>\n",
       "      <td>10</td>\n",
       "    </tr>\n",
       "    <tr>\n",
       "      <th>a</th>\n",
       "      <td>3</td>\n",
       "      <td>30</td>\n",
       "    </tr>\n",
       "  </tbody>\n",
       "</table>\n",
       "</div>"
      ],
      "text/plain": [
       "   col1  col2\n",
       "a     1    10\n",
       "a     3    30"
      ]
     },
     "execution_count": 27,
     "metadata": {},
     "output_type": "execute_result"
    }
   ],
   "source": [
    "\n",
    "df.loc[\"a\"]\n"
   ]
  },
  {
   "cell_type": "markdown",
   "id": "fd8da1f5-7e26-4beb-8b07-2135da7ce317",
   "metadata": {},
   "source": [
    "\n",
    "<span style=\"color: #a245ff;\">Here, both values corresponding to the label &nbsp;<code style=\"background-color: #f5d2fd;\">\"a\"</code>&nbsp; are included in the result.</span>\n",
    "\n",
    "<br>\n",
    "\n",
    "<span style=\"background-color: #1ec410; color: white; padding:5px;\"> <font size=\"+1\">↳</font> &nbsp;Key &nbsp;Implications &nbsp;of &nbsp;Duplicate &nbsp;Index &nbsp;Labels</span>\n",
    "\n",
    "<div style=\"margin-left: 30px;\">\n",
    "    \n",
    "1. &nbsp;<span style=\"color: blue;\"><strong>Selection Behavior</strong></span> :\n",
    "\n",
    "<div style=\"margin-left: 40px;\">\n",
    "    \n",
    "- Duplicate index labels return <span style=\"color: red;\">all matching rows or elements</span>\n",
    "- This contrasts with sets or dictionaries, which enforce uniqueness and overwrite duplicate keys\n",
    "\n",
    "</div>\n",
    "\n",
    "2. &nbsp;<span style=\"color: blue;\"><strong>Operations on Duplicate Index</strong></span> :\n",
    "\n",
    "<div style=\"margin-left: 40px;\">\n",
    "\n",
    "- Some operations <span style=\"font-size: 1rem;\">( </span>e.g., &nbsp;<code style=\"background-color: #ffff62;\">.groupby()</code> , &nbsp;<code style=\"background-color: #ffff62;\">.reset_index()</code> , &nbsp;<code style=\"background-color: #ffff62;\">.reindex()</code> <span style=\"font-size: 1rem;\">)</span> may be impacted by duplicate index labels. \n",
    "\n",
    "</div>\n",
    "\n",
    "</div>"
   ]
  },
  {
   "cell_type": "code",
   "execution_count": 28,
   "id": "57ee91cb-9fd7-42c1-8a45-03205c62868a",
   "metadata": {},
   "outputs": [
    {
     "name": "stdout",
     "output_type": "stream",
     "text": [
      "False\n"
     ]
    }
   ],
   "source": [
    "\n",
    "print(df.index.is_unique)\n"
   ]
  },
  {
   "cell_type": "code",
   "execution_count": 29,
   "id": "5f16c59d-9d95-4c40-85ca-55b175ca98ad",
   "metadata": {},
   "outputs": [
    {
     "data": {
      "text/html": [
       "<div>\n",
       "<style scoped>\n",
       "    .dataframe tbody tr th:only-of-type {\n",
       "        vertical-align: middle;\n",
       "    }\n",
       "\n",
       "    .dataframe tbody tr th {\n",
       "        vertical-align: top;\n",
       "    }\n",
       "\n",
       "    .dataframe thead th {\n",
       "        text-align: right;\n",
       "    }\n",
       "</style>\n",
       "<table border=\"1\" class=\"dataframe\">\n",
       "  <thead>\n",
       "    <tr style=\"text-align: right;\">\n",
       "      <th></th>\n",
       "      <th>col1</th>\n",
       "      <th>col2</th>\n",
       "    </tr>\n",
       "  </thead>\n",
       "  <tbody>\n",
       "    <tr>\n",
       "      <th>a</th>\n",
       "      <td>4</td>\n",
       "      <td>40</td>\n",
       "    </tr>\n",
       "    <tr>\n",
       "      <th>b</th>\n",
       "      <td>2</td>\n",
       "      <td>20</td>\n",
       "    </tr>\n",
       "    <tr>\n",
       "      <th>c</th>\n",
       "      <td>4</td>\n",
       "      <td>40</td>\n",
       "    </tr>\n",
       "  </tbody>\n",
       "</table>\n",
       "</div>"
      ],
      "text/plain": [
       "   col1  col2\n",
       "a     4    40\n",
       "b     2    20\n",
       "c     4    40"
      ]
     },
     "execution_count": 29,
     "metadata": {},
     "output_type": "execute_result"
    }
   ],
   "source": [
    "\n",
    "grouped = df.groupby(df.index).sum()\n",
    "\n",
    "grouped\n"
   ]
  },
  {
   "cell_type": "code",
   "execution_count": 30,
   "id": "554e0567-2717-47e3-8b0f-3bbb6c2fbb99",
   "metadata": {},
   "outputs": [
    {
     "data": {
      "text/html": [
       "<div>\n",
       "<style scoped>\n",
       "    .dataframe tbody tr th:only-of-type {\n",
       "        vertical-align: middle;\n",
       "    }\n",
       "\n",
       "    .dataframe tbody tr th {\n",
       "        vertical-align: top;\n",
       "    }\n",
       "\n",
       "    .dataframe thead th {\n",
       "        text-align: right;\n",
       "    }\n",
       "</style>\n",
       "<table border=\"1\" class=\"dataframe\">\n",
       "  <thead>\n",
       "    <tr style=\"text-align: right;\">\n",
       "      <th></th>\n",
       "      <th>index</th>\n",
       "      <th>col1</th>\n",
       "      <th>col2</th>\n",
       "    </tr>\n",
       "  </thead>\n",
       "  <tbody>\n",
       "    <tr>\n",
       "      <th>0</th>\n",
       "      <td>a</td>\n",
       "      <td>1</td>\n",
       "      <td>10</td>\n",
       "    </tr>\n",
       "    <tr>\n",
       "      <th>1</th>\n",
       "      <td>b</td>\n",
       "      <td>2</td>\n",
       "      <td>20</td>\n",
       "    </tr>\n",
       "    <tr>\n",
       "      <th>2</th>\n",
       "      <td>a</td>\n",
       "      <td>3</td>\n",
       "      <td>30</td>\n",
       "    </tr>\n",
       "    <tr>\n",
       "      <th>3</th>\n",
       "      <td>c</td>\n",
       "      <td>4</td>\n",
       "      <td>40</td>\n",
       "    </tr>\n",
       "  </tbody>\n",
       "</table>\n",
       "</div>"
      ],
      "text/plain": [
       "  index  col1  col2\n",
       "0     a     1    10\n",
       "1     b     2    20\n",
       "2     a     3    30\n",
       "3     c     4    40"
      ]
     },
     "execution_count": 30,
     "metadata": {},
     "output_type": "execute_result"
    }
   ],
   "source": [
    "\n",
    "df = df.reset_index(drop=False)           # drop = False   ---->   default   ---->   to retain the current index as a column in the resulting DataFrame\n",
    "\n",
    "df\n"
   ]
  },
  {
   "cell_type": "markdown",
   "id": "df05e654-8d19-4a43-bde7-9727fde209fa",
   "metadata": {},
   "source": [
    "\n",
    "<br>\n",
    "\n",
    "<span style=\"background-color: #1ec410; color: white; padding:5px;\"> <font size=\"+1\">↳</font> &nbsp;Ensuring &nbsp;Unique &nbsp;Index &nbsp;Labels</span>\n",
    "\n",
    "<div style=\"margin-left: 40px;\">\n",
    "\n",
    "To drop rows with duplicate index labels :\n",
    "\n",
    "&nbsp;&nbsp;&nbsp;&nbsp;&nbsp;&nbsp;&nbsp;&nbsp;Method - 1 &nbsp;&nbsp;<span style=\"font-size: 1rem;\">➜</span>&nbsp;&nbsp; <code style=\"padding: 7px; background-color: #cdffc2;\">df.<span style=\"color: red;\">reset_index()</span>.<span style=\"color: red;\">drop_duplicates(</span>subset=\"index\"<span style=\"color: red;\">)</span>.set_index(\"index\")</code>\n",
    "\n",
    "&nbsp;&nbsp;&nbsp;&nbsp;&nbsp;&nbsp;&nbsp;&nbsp;Method - 2 &nbsp;&nbsp;<span style=\"font-size: 1rem;\">➜</span>&nbsp;&nbsp; <code style=\"padding: 7px; background-color: #cdffc2;\">df.loc[~df.index.<span style=\"color: red;\">duplicated(</span>keep='first'<span style=\"color: red;\">)</span>]                         </code>\n",
    "\n",
    "</div>\n"
   ]
  },
  {
   "cell_type": "code",
   "execution_count": 140,
   "id": "64b8b4c0-c9f8-4fce-bf4e-50488e215f1a",
   "metadata": {},
   "outputs": [
    {
     "data": {
      "text/html": [
       "<div>\n",
       "<style scoped>\n",
       "    .dataframe tbody tr th:only-of-type {\n",
       "        vertical-align: middle;\n",
       "    }\n",
       "\n",
       "    .dataframe tbody tr th {\n",
       "        vertical-align: top;\n",
       "    }\n",
       "\n",
       "    .dataframe thead th {\n",
       "        text-align: right;\n",
       "    }\n",
       "</style>\n",
       "<table border=\"1\" class=\"dataframe\">\n",
       "  <thead>\n",
       "    <tr style=\"text-align: right;\">\n",
       "      <th></th>\n",
       "      <th>col1</th>\n",
       "      <th>col2</th>\n",
       "    </tr>\n",
       "  </thead>\n",
       "  <tbody>\n",
       "    <tr>\n",
       "      <th>a</th>\n",
       "      <td>1</td>\n",
       "      <td>10</td>\n",
       "    </tr>\n",
       "    <tr>\n",
       "      <th>b</th>\n",
       "      <td>2</td>\n",
       "      <td>20</td>\n",
       "    </tr>\n",
       "    <tr>\n",
       "      <th>a</th>\n",
       "      <td>3</td>\n",
       "      <td>30</td>\n",
       "    </tr>\n",
       "    <tr>\n",
       "      <th>c</th>\n",
       "      <td>4</td>\n",
       "      <td>40</td>\n",
       "    </tr>\n",
       "  </tbody>\n",
       "</table>\n",
       "</div>"
      ],
      "text/plain": [
       "   col1  col2\n",
       "a     1    10\n",
       "b     2    20\n",
       "a     3    30\n",
       "c     4    40"
      ]
     },
     "execution_count": 140,
     "metadata": {},
     "output_type": "execute_result"
    }
   ],
   "source": [
    "\n",
    "df = pd.DataFrame({\"col1\": [1, 2, 3, 4], \n",
    "                   \"col2\": [10, 20, 30, 40]\n",
    "                  }, index=[\"a\", \"b\", \"a\", \"c\"])                                       # Creating a DataFrame with duplicate index labels\n",
    "\n",
    "df\n"
   ]
  },
  {
   "cell_type": "markdown",
   "id": "f657d510-b476-4f61-bcf1-8111388db8fb",
   "metadata": {},
   "source": [
    "\n",
    "<div style=\"margin-left: 40px;\">\n",
    "\n",
    "1. &nbsp;&nbsp;<code style=\"background-color: #ffff62;\">.drop_duplicates()</code>  &nbsp;&nbsp;&  &nbsp;&nbsp;<code style=\"background-color: #ffff62;\">.reset_index()</code>\n",
    "\n",
    "<div style=\"margin-left: 60px;\">\n",
    "<code>drop_duplicates()</code>&nbsp; can't be used directly in isolation because it operates on the data, <strong>not the index</strong>. <br>\n",
    "<code>drop_duplicates()</code>&nbsp; is <span style=\"color: red;\">primarily used to <strong>remove duplicate rows</strong> based on the data content</span> of the DataFrame or Series, not on the index.\n",
    "\n",
    "</div>\n",
    "\n",
    "</div>"
   ]
  },
  {
   "cell_type": "code",
   "execution_count": 141,
   "id": "e42a829d-d214-4774-a3fb-008566575a35",
   "metadata": {},
   "outputs": [
    {
     "data": {
      "text/html": [
       "<div>\n",
       "<style scoped>\n",
       "    .dataframe tbody tr th:only-of-type {\n",
       "        vertical-align: middle;\n",
       "    }\n",
       "\n",
       "    .dataframe tbody tr th {\n",
       "        vertical-align: top;\n",
       "    }\n",
       "\n",
       "    .dataframe thead th {\n",
       "        text-align: right;\n",
       "    }\n",
       "</style>\n",
       "<table border=\"1\" class=\"dataframe\">\n",
       "  <thead>\n",
       "    <tr style=\"text-align: right;\">\n",
       "      <th></th>\n",
       "      <th>col1</th>\n",
       "      <th>col2</th>\n",
       "    </tr>\n",
       "  </thead>\n",
       "  <tbody>\n",
       "    <tr>\n",
       "      <th>a</th>\n",
       "      <td>1</td>\n",
       "      <td>10</td>\n",
       "    </tr>\n",
       "    <tr>\n",
       "      <th>b</th>\n",
       "      <td>2</td>\n",
       "      <td>20</td>\n",
       "    </tr>\n",
       "    <tr>\n",
       "      <th>a</th>\n",
       "      <td>3</td>\n",
       "      <td>30</td>\n",
       "    </tr>\n",
       "    <tr>\n",
       "      <th>c</th>\n",
       "      <td>4</td>\n",
       "      <td>40</td>\n",
       "    </tr>\n",
       "  </tbody>\n",
       "</table>\n",
       "</div>"
      ],
      "text/plain": [
       "   col1  col2\n",
       "a     1    10\n",
       "b     2    20\n",
       "a     3    30\n",
       "c     4    40"
      ]
     },
     "execution_count": 141,
     "metadata": {},
     "output_type": "execute_result"
    }
   ],
   "source": [
    "# STEP-1\n",
    "\n",
    "df.drop_duplicates()                       # cannot remove duplicates based on index\n"
   ]
  },
  {
   "cell_type": "code",
   "execution_count": 142,
   "id": "60e9d4c0-bf36-4fcc-b737-577b07c94113",
   "metadata": {},
   "outputs": [
    {
     "data": {
      "text/html": [
       "<div>\n",
       "<style scoped>\n",
       "    .dataframe tbody tr th:only-of-type {\n",
       "        vertical-align: middle;\n",
       "    }\n",
       "\n",
       "    .dataframe tbody tr th {\n",
       "        vertical-align: top;\n",
       "    }\n",
       "\n",
       "    .dataframe thead th {\n",
       "        text-align: right;\n",
       "    }\n",
       "</style>\n",
       "<table border=\"1\" class=\"dataframe\">\n",
       "  <thead>\n",
       "    <tr style=\"text-align: right;\">\n",
       "      <th></th>\n",
       "      <th>index</th>\n",
       "      <th>col1</th>\n",
       "      <th>col2</th>\n",
       "    </tr>\n",
       "  </thead>\n",
       "  <tbody>\n",
       "    <tr>\n",
       "      <th>0</th>\n",
       "      <td>a</td>\n",
       "      <td>1</td>\n",
       "      <td>10</td>\n",
       "    </tr>\n",
       "    <tr>\n",
       "      <th>1</th>\n",
       "      <td>b</td>\n",
       "      <td>2</td>\n",
       "      <td>20</td>\n",
       "    </tr>\n",
       "    <tr>\n",
       "      <th>2</th>\n",
       "      <td>a</td>\n",
       "      <td>3</td>\n",
       "      <td>30</td>\n",
       "    </tr>\n",
       "    <tr>\n",
       "      <th>3</th>\n",
       "      <td>c</td>\n",
       "      <td>4</td>\n",
       "      <td>40</td>\n",
       "    </tr>\n",
       "  </tbody>\n",
       "</table>\n",
       "</div>"
      ],
      "text/plain": [
       "  index  col1  col2\n",
       "0     a     1    10\n",
       "1     b     2    20\n",
       "2     a     3    30\n",
       "3     c     4    40"
      ]
     },
     "execution_count": 142,
     "metadata": {},
     "output_type": "execute_result"
    }
   ],
   "source": [
    "# STEP-2\n",
    "\n",
    "df.reset_index()                           # converts the index into a new column named \"index\" (lowercase)\n",
    "                                           # Column names are case-sensitive in Pandas\n",
    "                                           # df.reset_index(names=\"Index\")     ------------------------------------>     custom name of the index column\n"
   ]
  },
  {
   "cell_type": "code",
   "execution_count": 143,
   "id": "354427a5-9fa5-4d2e-9499-a50268923fe6",
   "metadata": {},
   "outputs": [
    {
     "data": {
      "text/html": [
       "<div>\n",
       "<style scoped>\n",
       "    .dataframe tbody tr th:only-of-type {\n",
       "        vertical-align: middle;\n",
       "    }\n",
       "\n",
       "    .dataframe tbody tr th {\n",
       "        vertical-align: top;\n",
       "    }\n",
       "\n",
       "    .dataframe thead th {\n",
       "        text-align: right;\n",
       "    }\n",
       "</style>\n",
       "<table border=\"1\" class=\"dataframe\">\n",
       "  <thead>\n",
       "    <tr style=\"text-align: right;\">\n",
       "      <th></th>\n",
       "      <th>index</th>\n",
       "      <th>col1</th>\n",
       "      <th>col2</th>\n",
       "    </tr>\n",
       "  </thead>\n",
       "  <tbody>\n",
       "    <tr>\n",
       "      <th>0</th>\n",
       "      <td>a</td>\n",
       "      <td>1</td>\n",
       "      <td>10</td>\n",
       "    </tr>\n",
       "    <tr>\n",
       "      <th>1</th>\n",
       "      <td>b</td>\n",
       "      <td>2</td>\n",
       "      <td>20</td>\n",
       "    </tr>\n",
       "    <tr>\n",
       "      <th>3</th>\n",
       "      <td>c</td>\n",
       "      <td>4</td>\n",
       "      <td>40</td>\n",
       "    </tr>\n",
       "  </tbody>\n",
       "</table>\n",
       "</div>"
      ],
      "text/plain": [
       "  index  col1  col2\n",
       "0     a     1    10\n",
       "1     b     2    20\n",
       "3     c     4    40"
      ]
     },
     "execution_count": 143,
     "metadata": {},
     "output_type": "execute_result"
    }
   ],
   "source": [
    "# STEP-3\n",
    "\n",
    "df.reset_index().drop_duplicates(subset=\"index\")\n"
   ]
  },
  {
   "cell_type": "code",
   "execution_count": 144,
   "id": "0d2bcd54-39ea-420f-8278-042d25827b56",
   "metadata": {},
   "outputs": [
    {
     "data": {
      "text/html": [
       "<div>\n",
       "<style scoped>\n",
       "    .dataframe tbody tr th:only-of-type {\n",
       "        vertical-align: middle;\n",
       "    }\n",
       "\n",
       "    .dataframe tbody tr th {\n",
       "        vertical-align: top;\n",
       "    }\n",
       "\n",
       "    .dataframe thead th {\n",
       "        text-align: right;\n",
       "    }\n",
       "</style>\n",
       "<table border=\"1\" class=\"dataframe\">\n",
       "  <thead>\n",
       "    <tr style=\"text-align: right;\">\n",
       "      <th></th>\n",
       "      <th>col1</th>\n",
       "      <th>col2</th>\n",
       "    </tr>\n",
       "    <tr>\n",
       "      <th>index</th>\n",
       "      <th></th>\n",
       "      <th></th>\n",
       "    </tr>\n",
       "  </thead>\n",
       "  <tbody>\n",
       "    <tr>\n",
       "      <th>a</th>\n",
       "      <td>1</td>\n",
       "      <td>10</td>\n",
       "    </tr>\n",
       "    <tr>\n",
       "      <th>b</th>\n",
       "      <td>2</td>\n",
       "      <td>20</td>\n",
       "    </tr>\n",
       "    <tr>\n",
       "      <th>c</th>\n",
       "      <td>4</td>\n",
       "      <td>40</td>\n",
       "    </tr>\n",
       "  </tbody>\n",
       "</table>\n",
       "</div>"
      ],
      "text/plain": [
       "       col1  col2\n",
       "index            \n",
       "a         1    10\n",
       "b         2    20\n",
       "c         4    40"
      ]
     },
     "execution_count": 144,
     "metadata": {},
     "output_type": "execute_result"
    }
   ],
   "source": [
    "# STEP-4\n",
    "\n",
    "df.reset_index().drop_duplicates(subset=\"index\").set_index(\"index\")                # If you want to restore the index after removing duplicates\n"
   ]
  },
  {
   "cell_type": "markdown",
   "id": "395d8bdd-adf1-4393-afff-5df388501449",
   "metadata": {},
   "source": [
    "\n",
    "<div style=\"margin-left: 40px;\">\n",
    "\n",
    "2. &nbsp;&nbsp;<code style=\"background-color: #ffff62;\">.duplicated(keep=\"False\")</code>\n",
    "\n",
    "<div style=\"margin-left: 50px;\">\n",
    "\n",
    "- <code>keep = <span style=\"color: red;\">'first'</span></code> &nbsp;&nbsp;:&nbsp;&nbsp; Keeps &nbsp;the &nbsp;<strong>first</strong> &nbsp;occurrence <br>\n",
    "- <code>keep = <span style=\"color: red;\">'last'</span> </code> &nbsp;&nbsp;:&nbsp;&nbsp; Keeps &nbsp;the &nbsp;<strong>last</strong> &nbsp;occurrence\n",
    "- <code>keep =  <span style=\"color: red;\">False</span> </code> &nbsp;&nbsp;:&nbsp;&nbsp; Removes &nbsp;<strong>all</strong> &nbsp;duplicates\n",
    "\n",
    "</div>\n",
    "\n",
    "</div>\n"
   ]
  },
  {
   "cell_type": "code",
   "execution_count": 145,
   "id": "6a698825-b088-41c7-b777-05136a0541c4",
   "metadata": {},
   "outputs": [
    {
     "data": {
      "text/plain": [
       "Index(['a', 'b', 'a', 'c'], dtype='object')"
      ]
     },
     "execution_count": 145,
     "metadata": {},
     "output_type": "execute_result"
    }
   ],
   "source": [
    "\n",
    "df.index\n"
   ]
  },
  {
   "cell_type": "code",
   "execution_count": 146,
   "id": "1c9cd945-ef3d-4859-94b5-6b60c2469dc4",
   "metadata": {},
   "outputs": [
    {
     "data": {
      "text/plain": [
       "array([False, False,  True, False])"
      ]
     },
     "execution_count": 146,
     "metadata": {},
     "output_type": "execute_result"
    }
   ],
   "source": [
    "\n",
    "df.index.duplicated(keep='first')\n"
   ]
  },
  {
   "cell_type": "code",
   "execution_count": 147,
   "id": "86a4f46e-997a-4886-b902-984ce598ffec",
   "metadata": {},
   "outputs": [
    {
     "data": {
      "text/plain": [
       "array([ True,  True, False,  True])"
      ]
     },
     "execution_count": 147,
     "metadata": {},
     "output_type": "execute_result"
    }
   ],
   "source": [
    "\n",
    "~df.index.duplicated(keep='first')\n"
   ]
  },
  {
   "cell_type": "code",
   "execution_count": 148,
   "id": "f4045a08-279c-4787-b748-8abaf453f4ff",
   "metadata": {},
   "outputs": [
    {
     "data": {
      "text/html": [
       "<div>\n",
       "<style scoped>\n",
       "    .dataframe tbody tr th:only-of-type {\n",
       "        vertical-align: middle;\n",
       "    }\n",
       "\n",
       "    .dataframe tbody tr th {\n",
       "        vertical-align: top;\n",
       "    }\n",
       "\n",
       "    .dataframe thead th {\n",
       "        text-align: right;\n",
       "    }\n",
       "</style>\n",
       "<table border=\"1\" class=\"dataframe\">\n",
       "  <thead>\n",
       "    <tr style=\"text-align: right;\">\n",
       "      <th></th>\n",
       "      <th>col1</th>\n",
       "      <th>col2</th>\n",
       "    </tr>\n",
       "  </thead>\n",
       "  <tbody>\n",
       "    <tr>\n",
       "      <th>a</th>\n",
       "      <td>1</td>\n",
       "      <td>10</td>\n",
       "    </tr>\n",
       "    <tr>\n",
       "      <th>b</th>\n",
       "      <td>2</td>\n",
       "      <td>20</td>\n",
       "    </tr>\n",
       "    <tr>\n",
       "      <th>c</th>\n",
       "      <td>4</td>\n",
       "      <td>40</td>\n",
       "    </tr>\n",
       "  </tbody>\n",
       "</table>\n",
       "</div>"
      ],
      "text/plain": [
       "   col1  col2\n",
       "a     1    10\n",
       "b     2    20\n",
       "c     4    40"
      ]
     },
     "execution_count": 148,
     "metadata": {},
     "output_type": "execute_result"
    }
   ],
   "source": [
    "\n",
    "df.loc[~df.index.duplicated(keep='first')]\n"
   ]
  },
  {
   "cell_type": "code",
   "execution_count": 370,
   "id": "38eb9880-6769-4c7b-9b5c-f510301064dc",
   "metadata": {},
   "outputs": [
    {
     "name": "stdout",
     "output_type": "stream",
     "text": [
      "\n",
      "DataFrame after removing duplicate index labels (keeping the first) :\n",
      "\n"
     ]
    },
    {
     "data": {
      "text/html": [
       "<div>\n",
       "<style scoped>\n",
       "    .dataframe tbody tr th:only-of-type {\n",
       "        vertical-align: middle;\n",
       "    }\n",
       "\n",
       "    .dataframe tbody tr th {\n",
       "        vertical-align: top;\n",
       "    }\n",
       "\n",
       "    .dataframe thead th {\n",
       "        text-align: right;\n",
       "    }\n",
       "</style>\n",
       "<table border=\"1\" class=\"dataframe\">\n",
       "  <thead>\n",
       "    <tr style=\"text-align: right;\">\n",
       "      <th></th>\n",
       "      <th>col1</th>\n",
       "      <th>col2</th>\n",
       "    </tr>\n",
       "  </thead>\n",
       "  <tbody>\n",
       "    <tr>\n",
       "      <th>a</th>\n",
       "      <td>1</td>\n",
       "      <td>10</td>\n",
       "    </tr>\n",
       "    <tr>\n",
       "      <th>b</th>\n",
       "      <td>2</td>\n",
       "      <td>20</td>\n",
       "    </tr>\n",
       "    <tr>\n",
       "      <th>c</th>\n",
       "      <td>3</td>\n",
       "      <td>30</td>\n",
       "    </tr>\n",
       "  </tbody>\n",
       "</table>\n",
       "</div>"
      ],
      "text/plain": [
       "   col1  col2\n",
       "a     1    10\n",
       "b     2    20\n",
       "c     3    30"
      ]
     },
     "execution_count": 370,
     "metadata": {},
     "output_type": "execute_result"
    }
   ],
   "source": [
    "\n",
    "# Drop rows with duplicate index labels\n",
    "\n",
    "print(\"\\nDataFrame after removing duplicate index labels (keeping the first) :\\n\")\n",
    "df.loc[~df.index.duplicated(keep='first')]\n"
   ]
  },
  {
   "cell_type": "markdown",
   "id": "743138c8-8569-4f7a-9c36-d73f17ac6e88",
   "metadata": {
    "jp-MarkdownHeadingCollapsed": true
   },
   "source": [
    "\n",
    "##### <span style=\"color: #ffb585;\">----------------------------------------------------------------------------------------------------------------------------------------------------------------------------------------------</span>\n",
    "\n",
    "<span style=\"font-size: 0.9rem; color: black; font-size: 1.3rem;\">🔶</span> &nbsp;&nbsp;<span style=\"color: #f76607;\"><strong>Pandas Index <u>Methods</u></strong> and <strong>Properties :</strong></span>\n"
   ]
  },
  {
   "cell_type": "markdown",
   "id": "668bc3da-271e-4272-b52b-87baadf4865a",
   "metadata": {},
   "source": [
    "<span style=\"color: #a245ff; margin-left: 42px;\">Pandas Index provides a variety of methods and properties to <strong>manipulate</strong> , <strong>query</strong> , and <strong>modify</strong> <u>index objects</u></span> <br>\n",
    "\n",
    "<br>\n",
    "\n",
    "<span style=\"color: black; margin-left: 370px;\">Table &nbsp;-&nbsp; Some <u>important</u> Index methods and properties</span>\n",
    "\n",
    "| Method / Property | Description |\n",
    "|-------------------|-------------|\n",
    "| <code style=\"background-color: yellow;\">append()      </code>\t| &nbsp;&nbsp;&nbsp;&nbsp;&nbsp;&nbsp; Concatenate with additional Index objects, producing a new Index |\n",
    "| <code style=\"background-color: yellow;\">difference()  </code> | &nbsp;&nbsp;&nbsp;&nbsp;&nbsp;&nbsp; Compute set difference as an Index |\n",
    "| <code style=\"background-color: yellow;\">intersection()</code> | &nbsp;&nbsp;&nbsp;&nbsp;&nbsp;&nbsp; Compute set intersection  |\n",
    "| <code style=\"background-color: yellow;\">union()       </code> | &nbsp;&nbsp;&nbsp;&nbsp;&nbsp;&nbsp; Compute set union  |\n",
    "| <code style=\"background-color: yellow;\">isin()        </code> | &nbsp;&nbsp;&nbsp;&nbsp;&nbsp;&nbsp; Compute Boolean array indicating whether each value is contained in the passed collection |\n",
    "| <code style=\"background-color: yellow;\">delete()      </code> | &nbsp;&nbsp;&nbsp;&nbsp;&nbsp;&nbsp; Compute new Index with element at Index &nbsp;<code style=\"background-color: #56dbff;\"> i </code>&nbsp; deleted   |\n",
    "| <code style=\"background-color: yellow;\">drop()        </code> | &nbsp;&nbsp;&nbsp;&nbsp;&nbsp;&nbsp; Compute new Index by deleting passed values   |\n",
    "| <code style=\"background-color: yellow;\">insert()      </code> | &nbsp;&nbsp;&nbsp;&nbsp;&nbsp;&nbsp; Compute new Index by inserting element at Index &nbsp;<code style=\"background-color: #56dbff;\"> i </code>    |\n",
    "| <code style=\"background-color: yellow;\">is_monotonic()</code> | &nbsp;&nbsp;&nbsp;&nbsp;&nbsp;&nbsp; Returns &nbsp;<code style=\"background-color: #56dbff;\">True</code>&nbsp; if each element is greater than or equal to the previous element |\n",
    " <code style=\"background-color: yellow;\">is_unique()   </code> | &nbsp;&nbsp;&nbsp;&nbsp;&nbsp;&nbsp; Returns True if the Index has no duplicate values  |\n",
    "|<code style=\"background-color: yellow;\">unique()      </code> | &nbsp;&nbsp;&nbsp;&nbsp;&nbsp;&nbsp; Compute the array of unique values in the Index |\n",
    "\n",
    "<span style=\"color: #a245ff; margin-left: 42px;\">Here's a categorized list of the most commonly used ones :</span>\n",
    "\n",
    "<br>\n",
    "\n",
    "<span style=\"color: blue; margin-left: 42px;\"><strong>1. &nbsp;Basic &nbsp;Properties</strong></span>\n",
    "\n",
    "<div style=\"margin-left: 150px;\">\n",
    "\n",
    "![](../media/pandas_dataframe_10.PNG)\n",
    "\n",
    "</div>"
   ]
  },
  {
   "cell_type": "code",
   "execution_count": 366,
   "id": "6647ad62-2b27-49f8-8e2a-23cddfcd3b06",
   "metadata": {},
   "outputs": [
    {
     "name": "stdout",
     "output_type": "stream",
     "text": [
      ".name  ------------------------->  numbers\n",
      ".dtype  ------------------------>  int64\n",
      ".nlevels  ---------------------->  1\n",
      ".size  ------------------------->  5\n",
      ".shape  ------------------------>  (5,)\n",
      ".is_unique  -------------------->  True\n",
      ".has_duplicates  --------------->  False\n",
      ".empty  ------------------------>  False\n"
     ]
    }
   ],
   "source": [
    "\n",
    "index = pd.Index([10, 20, 30, 40, 50], name=\"numbers\")\n",
    "\n",
    "\n",
    "print(\".name  -------------------------> \", index.name)\n",
    "print(\".dtype  ------------------------> \", index.dtype)\n",
    "print(\".nlevels  ----------------------> \", index.nlevels)\n",
    "print(\".size  -------------------------> \", index.size)\n",
    "print(\".shape  ------------------------> \", index.shape)\n",
    "print(\".is_unique  --------------------> \", index.is_unique)\n",
    "print(\".has_duplicates  ---------------> \", index.has_duplicates)\n",
    "print(\".empty  ------------------------> \", index.empty)\n"
   ]
  },
  {
   "cell_type": "markdown",
   "id": "94ab1d9a-4196-4c68-b17e-cb5ad15569f7",
   "metadata": {},
   "source": [
    "<br>\n",
    "\n",
    "<span style=\"color: blue; margin-left: 42px;\"><strong>2. &nbsp;Selection &nbsp;and &nbsp;Query &nbsp;Methods</strong></span>\n",
    "\n",
    "<div style=\"margin-left: 150px;\">\n",
    "\n",
    "![](../media/pandas_dataframe_11.PNG)\n",
    "\n",
    "</div>"
   ]
  },
  {
   "cell_type": "code",
   "execution_count": 368,
   "id": "baeefb38-6f80-472c-8368-24ccf5855291",
   "metadata": {},
   "outputs": [
    {
     "name": "stdout",
     "output_type": "stream",
     "text": [
      ".get_loc(30)  --------------------------->  2\n",
      ".get_indexer([10, 30, 100])  ------------>  [ 0  2  3 -1]\n",
      ".get_level_values(0)  ------------------->  Int64Index([10, 20, 30, 40, 50], dtype='int64', name='numbers')\n",
      ".slice_locs(1, 3)  ---------------------->  (0, 0)\n",
      ".where(index > 20)  --------------------->  Float64Index([nan, nan, 30.0, 40.0, 50.0], dtype='float64', name='numbers')\n"
     ]
    }
   ],
   "source": [
    "\n",
    "index = pd.Index([10, 20, 30, 40, 50], name=\"numbers\")\n",
    "\n",
    "\n",
    "print(\".get_loc(30)  ---------------------------> \", index.get_loc(30))\n",
    "print(\".get_indexer([10, 30, 100])  ------------> \", index.get_indexer([10, 30, 40, 100]))\n",
    "print(\".get_level_values(0)  -------------------> \", index.get_level_values(0))\n",
    "print(\".slice_locs(1, 3)  ----------------------> \", index.slice_locs(1, 3))\n",
    "print(\".where(index > 20)  ---------------------> \", index.where(index > 20))\n"
   ]
  },
  {
   "cell_type": "markdown",
   "id": "21c64f66-d76b-4c98-82ea-203449ed452a",
   "metadata": {},
   "source": [
    "<br>\n",
    "\n",
    "<span style=\"color: blue; margin-left: 42px;\"><strong>3. &nbsp;Transformation &nbsp;Methods</strong></span>\n",
    "\n",
    "<div style=\"margin-left: 150px;\">\n",
    "\n",
    "![](../media/pandas_dataframe_12.PNG)\n",
    "\n",
    "</div>"
   ]
  },
  {
   "cell_type": "code",
   "execution_count": 387,
   "id": "65b33325-392c-47d8-9dd3-b5d9a75a1688",
   "metadata": {},
   "outputs": [
    {
     "name": "stdout",
     "output_type": "stream",
     "text": [
      ".append(pd.Index([60, 70, 80, 90]))  ------>  Int64Index([10, 20, 30, 40, 50, 60, 70, 80, 90], dtype='int64')\n",
      ".astype(float)  --------------------------->  Float64Index([10.0, 20.0, 30.0, 40.0, 50.0], dtype='float64', name='numbers')\n",
      ".sort_values()  --------------------------->  Int64Index([10, 20, 30, 40, 50], dtype='int64', name='numbers')\n",
      ".sortlevel(0)  ---------------------------->  (Int64Index([10, 20, 30, 40, 50], dtype='int64', name='numbers'), array([0, 1, 2, 3, 4], dtype=int64))\n",
      ".to_list()  ------------------------------->  [10, 20, 30, 40, 50]\n",
      ".to_numpy()  ------------------------------>  [10 20 30 40 50]\n"
     ]
    }
   ],
   "source": [
    "\n",
    "index = pd.Index([10, 20, 30, 40, 50], name=\"numbers\")\n",
    "\n",
    "print(\".append(pd.Index([60, 70, 80, 90]))  ------> \", index.append(pd.Index([60, 70, 80, 90])))\n",
    "print(\".astype(float)  ---------------------------> \", index.astype(float))\n",
    "print(\".sort_values()  ---------------------------> \", index.sort_values())\n",
    "print(\".sortlevel(0)  ----------------------------> \", index.sortlevel())\n",
    "print(\".to_list()  -------------------------------> \", index.to_list())\n",
    "print(\".to_numpy()  ------------------------------> \", index.to_numpy())\n"
   ]
  },
  {
   "cell_type": "code",
   "execution_count": 298,
   "id": "4e0527ec-3329-48c8-b309-00ec910d36c3",
   "metadata": {},
   "outputs": [
    {
     "data": {
      "text/html": [
       "<div>\n",
       "<style scoped>\n",
       "    .dataframe tbody tr th:only-of-type {\n",
       "        vertical-align: middle;\n",
       "    }\n",
       "\n",
       "    .dataframe tbody tr th {\n",
       "        vertical-align: top;\n",
       "    }\n",
       "\n",
       "    .dataframe thead th {\n",
       "        text-align: right;\n",
       "    }\n",
       "</style>\n",
       "<table border=\"1\" class=\"dataframe\">\n",
       "  <thead>\n",
       "    <tr style=\"text-align: right;\">\n",
       "      <th></th>\n",
       "      <th>numbers</th>\n",
       "    </tr>\n",
       "    <tr>\n",
       "      <th>numbers</th>\n",
       "      <th></th>\n",
       "    </tr>\n",
       "  </thead>\n",
       "  <tbody>\n",
       "    <tr>\n",
       "      <th>10</th>\n",
       "      <td>10</td>\n",
       "    </tr>\n",
       "    <tr>\n",
       "      <th>20</th>\n",
       "      <td>20</td>\n",
       "    </tr>\n",
       "    <tr>\n",
       "      <th>30</th>\n",
       "      <td>30</td>\n",
       "    </tr>\n",
       "    <tr>\n",
       "      <th>40</th>\n",
       "      <td>40</td>\n",
       "    </tr>\n",
       "    <tr>\n",
       "      <th>50</th>\n",
       "      <td>50</td>\n",
       "    </tr>\n",
       "  </tbody>\n",
       "</table>\n",
       "</div>"
      ],
      "text/plain": [
       "         numbers\n",
       "numbers         \n",
       "10            10\n",
       "20            20\n",
       "30            30\n",
       "40            40\n",
       "50            50"
      ]
     },
     "execution_count": 298,
     "metadata": {},
     "output_type": "execute_result"
    }
   ],
   "source": [
    "\n",
    "index.to_frame()\n"
   ]
  },
  {
   "cell_type": "markdown",
   "id": "9c7c455c-f4bb-4489-9764-f38703e9973a",
   "metadata": {},
   "source": [
    "<br>\n",
    "\n",
    "<code style=\"background-color: #ffff62; margin-left: 155px;\">Index.<span style=\"font-size: 1rem;\"><strong>map</strong>(</span><span style=\"color: #a245ff; font-size: 0.8rem;\">func</span><span style=\"font-size: 1rem;\">)</span></code>\n",
    "\n",
    "<div style=\"margin-left: 190px;\">\n",
    "\n",
    "- <code style=\"background-color: #ffff62;\">func</code> &nbsp;➜&nbsp; A function, dictionary, or Series.\n",
    "- This &nbsp;<code style=\"background-color: #f3d7ff;\">index.map(func)</code>&nbsp; method applies a function (&nbsp;<code style=\"background-color: #f3d7ff;\">func</code>&nbsp;) <span style=\"color: blue;\"><strong>element-wise to each value</strong></span> in the index of a Pandas Series or DataFrame. <br>\n",
    "- This is a versatile method <span style=\"color: blue;\"><strong>for transforming or mapping the values</strong></span> in an index.\n",
    "- <code style=\"background-color: #f3d7ff;\">Inplace Update</code> &nbsp;:&nbsp; To permanently update the index , you need to reassign the result back to the index.\n",
    "\n",
    "</div>\n",
    "\n"
   ]
  },
  {
   "cell_type": "code",
   "execution_count": 63,
   "id": "8469502f-2cfe-42f7-b26e-bd8dede19886",
   "metadata": {},
   "outputs": [
    {
     "data": {
      "text/html": [
       "<div>\n",
       "<style scoped>\n",
       "    .dataframe tbody tr th:only-of-type {\n",
       "        vertical-align: middle;\n",
       "    }\n",
       "\n",
       "    .dataframe tbody tr th {\n",
       "        vertical-align: top;\n",
       "    }\n",
       "\n",
       "    .dataframe thead th {\n",
       "        text-align: right;\n",
       "    }\n",
       "</style>\n",
       "<table border=\"1\" class=\"dataframe\">\n",
       "  <thead>\n",
       "    <tr style=\"text-align: right;\">\n",
       "      <th></th>\n",
       "      <th>value</th>\n",
       "    </tr>\n",
       "  </thead>\n",
       "  <tbody>\n",
       "    <tr>\n",
       "      <th>A</th>\n",
       "      <td>10</td>\n",
       "    </tr>\n",
       "    <tr>\n",
       "      <th>B</th>\n",
       "      <td>20</td>\n",
       "    </tr>\n",
       "    <tr>\n",
       "      <th>C</th>\n",
       "      <td>30</td>\n",
       "    </tr>\n",
       "  </tbody>\n",
       "</table>\n",
       "</div>"
      ],
      "text/plain": [
       "   value\n",
       "A     10\n",
       "B     20\n",
       "C     30"
      ]
     },
     "execution_count": 63,
     "metadata": {},
     "output_type": "execute_result"
    }
   ],
   "source": [
    "# Basic Transformation\n",
    "\n",
    "\n",
    "df = pd.DataFrame({'value': [10, 20, 30]}, index=['a', 'b', 'c'])\n",
    "df.index = df.index.map(str.upper)\n",
    "df\n"
   ]
  },
  {
   "cell_type": "code",
   "execution_count": 70,
   "id": "5e6b9f5a-9eb3-4ca6-8a9f-cbf3a130dc31",
   "metadata": {},
   "outputs": [
    {
     "data": {
      "text/html": [
       "<div>\n",
       "<style scoped>\n",
       "    .dataframe tbody tr th:only-of-type {\n",
       "        vertical-align: middle;\n",
       "    }\n",
       "\n",
       "    .dataframe tbody tr th {\n",
       "        vertical-align: top;\n",
       "    }\n",
       "\n",
       "    .dataframe thead th {\n",
       "        text-align: right;\n",
       "    }\n",
       "</style>\n",
       "<table border=\"1\" class=\"dataframe\">\n",
       "  <thead>\n",
       "    <tr style=\"text-align: right;\">\n",
       "      <th></th>\n",
       "      <th>value</th>\n",
       "    </tr>\n",
       "  </thead>\n",
       "  <tbody>\n",
       "    <tr>\n",
       "      <th>index_A</th>\n",
       "      <td>10</td>\n",
       "    </tr>\n",
       "    <tr>\n",
       "      <th>index_B</th>\n",
       "      <td>20</td>\n",
       "    </tr>\n",
       "    <tr>\n",
       "      <th>index_C</th>\n",
       "      <td>30</td>\n",
       "    </tr>\n",
       "  </tbody>\n",
       "</table>\n",
       "</div>"
      ],
      "text/plain": [
       "         value\n",
       "index_A     10\n",
       "index_B     20\n",
       "index_C     30"
      ]
     },
     "execution_count": 70,
     "metadata": {},
     "output_type": "execute_result"
    }
   ],
   "source": [
    "# Using a Custom Function\n",
    "\n",
    "\n",
    "df = pd.DataFrame({'value': [10, 20, 30]}, index=['a', 'b', 'c'])\n",
    "df.index = df.index.map(lambda x: f\"index_{x.upper()}\")                                    # adds a prefix to each index\n",
    "df\n"
   ]
  },
  {
   "cell_type": "code",
   "execution_count": 65,
   "id": "da04add1-9225-44e1-ae20-f45f7228ca7e",
   "metadata": {},
   "outputs": [
    {
     "data": {
      "text/html": [
       "<div>\n",
       "<style scoped>\n",
       "    .dataframe tbody tr th:only-of-type {\n",
       "        vertical-align: middle;\n",
       "    }\n",
       "\n",
       "    .dataframe tbody tr th {\n",
       "        vertical-align: top;\n",
       "    }\n",
       "\n",
       "    .dataframe thead th {\n",
       "        text-align: right;\n",
       "    }\n",
       "</style>\n",
       "<table border=\"1\" class=\"dataframe\">\n",
       "  <thead>\n",
       "    <tr style=\"text-align: right;\">\n",
       "      <th></th>\n",
       "      <th>value</th>\n",
       "    </tr>\n",
       "  </thead>\n",
       "  <tbody>\n",
       "    <tr>\n",
       "      <th>Alpha</th>\n",
       "      <td>10</td>\n",
       "    </tr>\n",
       "    <tr>\n",
       "      <th>Beta</th>\n",
       "      <td>20</td>\n",
       "    </tr>\n",
       "    <tr>\n",
       "      <th>Gamma</th>\n",
       "      <td>30</td>\n",
       "    </tr>\n",
       "  </tbody>\n",
       "</table>\n",
       "</div>"
      ],
      "text/plain": [
       "       value\n",
       "Alpha     10\n",
       "Beta      20\n",
       "Gamma     30"
      ]
     },
     "execution_count": 65,
     "metadata": {},
     "output_type": "execute_result"
    }
   ],
   "source": [
    "# Mapping with a dictionary\n",
    "\n",
    "\n",
    "mapping = {'index_A': 'Alpha', 'index_B': 'Beta', 'index_C': 'Gamma'}\n",
    "df.index = df.index.map(mapping)\n",
    "df\n"
   ]
  },
  {
   "cell_type": "code",
   "execution_count": 66,
   "id": "fbe53044-b7fb-4a35-b29c-5bfa9f2989e2",
   "metadata": {},
   "outputs": [
    {
     "data": {
      "text/html": [
       "<div>\n",
       "<style scoped>\n",
       "    .dataframe tbody tr th:only-of-type {\n",
       "        vertical-align: middle;\n",
       "    }\n",
       "\n",
       "    .dataframe tbody tr th {\n",
       "        vertical-align: top;\n",
       "    }\n",
       "\n",
       "    .dataframe thead th {\n",
       "        text-align: right;\n",
       "    }\n",
       "</style>\n",
       "<table border=\"1\" class=\"dataframe\">\n",
       "  <thead>\n",
       "    <tr style=\"text-align: right;\">\n",
       "      <th></th>\n",
       "      <th>value</th>\n",
       "    </tr>\n",
       "  </thead>\n",
       "  <tbody>\n",
       "    <tr>\n",
       "      <th>A1</th>\n",
       "      <td>10</td>\n",
       "    </tr>\n",
       "    <tr>\n",
       "      <th>B1</th>\n",
       "      <td>20</td>\n",
       "    </tr>\n",
       "    <tr>\n",
       "      <th>C1</th>\n",
       "      <td>30</td>\n",
       "    </tr>\n",
       "  </tbody>\n",
       "</table>\n",
       "</div>"
      ],
      "text/plain": [
       "    value\n",
       "A1     10\n",
       "B1     20\n",
       "C1     30"
      ]
     },
     "execution_count": 66,
     "metadata": {},
     "output_type": "execute_result"
    }
   ],
   "source": [
    "# Mapping with a Series\n",
    "\n",
    "\n",
    "map_series = pd.Series({'Alpha': 'A1', 'Beta': 'B1', 'Gamma': 'C1'})                       # creates a Series for mapping\n",
    "df.index = df.index.map(map_series)                                                        # maps using a Series\n",
    "df\n"
   ]
  },
  {
   "cell_type": "code",
   "execution_count": 67,
   "id": "018c9fce-16fa-44e2-945a-044229724c6d",
   "metadata": {},
   "outputs": [
    {
     "data": {
      "text/html": [
       "<div>\n",
       "<style scoped>\n",
       "    .dataframe tbody tr th:only-of-type {\n",
       "        vertical-align: middle;\n",
       "    }\n",
       "\n",
       "    .dataframe tbody tr th {\n",
       "        vertical-align: top;\n",
       "    }\n",
       "\n",
       "    .dataframe thead th {\n",
       "        text-align: right;\n",
       "    }\n",
       "</style>\n",
       "<table border=\"1\" class=\"dataframe\">\n",
       "  <thead>\n",
       "    <tr style=\"text-align: right;\">\n",
       "      <th></th>\n",
       "      <th>value</th>\n",
       "    </tr>\n",
       "  </thead>\n",
       "  <tbody>\n",
       "    <tr>\n",
       "      <th>1</th>\n",
       "      <td>10</td>\n",
       "    </tr>\n",
       "    <tr>\n",
       "      <th>4</th>\n",
       "      <td>20</td>\n",
       "    </tr>\n",
       "    <tr>\n",
       "      <th>9</th>\n",
       "      <td>30</td>\n",
       "    </tr>\n",
       "  </tbody>\n",
       "</table>\n",
       "</div>"
      ],
      "text/plain": [
       "   value\n",
       "1     10\n",
       "4     20\n",
       "9     30"
      ]
     },
     "execution_count": 67,
     "metadata": {},
     "output_type": "execute_result"
    }
   ],
   "source": [
    "# Applying Mathematical Operations\n",
    "\n",
    "\n",
    "df_numeric = pd.DataFrame({'value': [10, 20, 30]}, index=[1, 2, 3])                        # creates a Dataframe\n",
    "df_numeric.index = df_numeric.index.map(lambda x: x ** 2)                                  # squares the index values\n",
    "df_numeric\n"
   ]
  },
  {
   "cell_type": "code",
   "execution_count": 68,
   "id": "fded7e4f-ebf2-458b-b1c0-039c1ce746d1",
   "metadata": {},
   "outputs": [
    {
     "data": {
      "text/html": [
       "<div>\n",
       "<style scoped>\n",
       "    .dataframe tbody tr th:only-of-type {\n",
       "        vertical-align: middle;\n",
       "    }\n",
       "\n",
       "    .dataframe tbody tr th {\n",
       "        vertical-align: top;\n",
       "    }\n",
       "\n",
       "    .dataframe thead th {\n",
       "        text-align: right;\n",
       "    }\n",
       "</style>\n",
       "<table border=\"1\" class=\"dataframe\">\n",
       "  <thead>\n",
       "    <tr style=\"text-align: right;\">\n",
       "      <th></th>\n",
       "      <th>value</th>\n",
       "    </tr>\n",
       "  </thead>\n",
       "  <tbody>\n",
       "    <tr>\n",
       "      <th>A1</th>\n",
       "      <td>10</td>\n",
       "    </tr>\n",
       "    <tr>\n",
       "      <th>Other</th>\n",
       "      <td>20</td>\n",
       "    </tr>\n",
       "    <tr>\n",
       "      <th>Other</th>\n",
       "      <td>30</td>\n",
       "    </tr>\n",
       "  </tbody>\n",
       "</table>\n",
       "</div>"
      ],
      "text/plain": [
       "       value\n",
       "A1        10\n",
       "Other     20\n",
       "Other     30"
      ]
     },
     "execution_count": 68,
     "metadata": {},
     "output_type": "execute_result"
    }
   ],
   "source": [
    "# Filtering or Conditional Mapping\n",
    "\n",
    "\n",
    "df.index = df.index.map(lambda x: x if 'A' in x else 'Other')                              # conditionally rename index values\n",
    "df\n"
   ]
  },
  {
   "cell_type": "markdown",
   "id": "1ff8f84d-28f8-49b9-90fa-8a5f676ad220",
   "metadata": {},
   "source": [
    "\n",
    "<span style=\"color: blue; margin-left: 42px;\"><strong>4. &nbsp;Boolean &nbsp;/ &nbsp;Logical &nbsp;Methods</strong></span>\n",
    "\n",
    "<div style=\"margin-left: 150px;\">\n",
    "\n",
    "![](../media/pandas_dataframe_13.PNG)\n",
    "\n",
    "</div>"
   ]
  },
  {
   "cell_type": "code",
   "execution_count": 45,
   "id": "b972bf87-fee2-455e-8554-581edefd5fcf",
   "metadata": {},
   "outputs": [
    {
     "name": "stdout",
     "output_type": "stream",
     "text": [
      ".isin([20, 40, 60, 80, 100])  ---------------------------------->  [False  True False  True False]\n",
      ".duplicated(keep='first')  ------------------------------------->  [False False False False False]\n",
      ".equals(pd.Index([10, 20, 30, 40, 50], name='numbers'))  ------->  True\n"
     ]
    }
   ],
   "source": [
    "\n",
    "index = pd.Index([10, 20, 30, 40, 50], name=\"numbers\")\n",
    "\n",
    "\n",
    "print(\".isin([20, 40, 60, 80, 100])  ----------------------------------> \", index.isin([20, 40, 60, 80, 100]))\n",
    "print(\".duplicated(keep='first')  -------------------------------------> \", index.duplicated(keep=\"first\"))\n",
    "print(\".equals(pd.Index([10, 20, 30, 40, 50], name='numbers'))  -------> \", index.equals(pd.Index([10, 20, 30, 40, 50], name=\"numbers\")))\n"
   ]
  },
  {
   "cell_type": "markdown",
   "id": "96edaa15-d3d2-4f0c-b38d-d493620b5221",
   "metadata": {},
   "source": [
    "<br>\n",
    "\n",
    "<span style=\"color: blue; margin-left: 42px;\"><strong>5. &nbsp;String &nbsp;Operations &nbsp;(For &nbsp;String-Based &nbsp;Index)</strong></span>\n",
    "\n",
    "<span style=\"color: #a245ff; margin-left: 62px;\">String methods can be accessed using &nbsp;<code style=\"background-color: #b6fffe;\">.str</code>&nbsp; on the index.</span>\n",
    "\n",
    "<div style=\"margin-left: 150px;\">\n",
    "\n",
    "![](../media/pandas_dataframe_14.PNG)\n",
    "\n",
    "</div>\n"
   ]
  },
  {
   "cell_type": "code",
   "execution_count": 42,
   "id": "ed15ecb1-48e2-424d-8a4e-510d582a2f11",
   "metadata": {},
   "outputs": [
    {
     "name": "stdout",
     "output_type": "stream",
     "text": [
      "index.str.lower() -------------->  Index(['apple', 'banana', 'cherry'], dtype='object', name='fruits')\n",
      "index.str.upper() -------------->  Index(['APPLE', 'BANANA', 'CHERRY'], dtype='object', name='fruits')\n",
      "index.str.len() ---------------->  Int64Index([5, 6, 6], dtype='int64', name='fruits')\n"
     ]
    }
   ],
   "source": [
    "\n",
    "index = pd.Index([\"Apple\", \"Banana\", \"Cherry\"], name=\"fruits\")\n",
    "\n",
    "\n",
    "print(\"index.str.lower() --------------> \", index.str.lower())\n",
    "print(\"index.str.upper() --------------> \", index.str.upper())\n",
    "print(\"index.str.len() ----------------> \", index.str.len())\n"
   ]
  },
  {
   "cell_type": "markdown",
   "id": "d59a51a6-940c-4adb-8adc-da29316062a1",
   "metadata": {},
   "source": [
    "<br>\n",
    "\n",
    "<code style=\"background-color: yellow; margin-left: 155px;\">.str.contains(<span style=\"color: #a245ff; font-size: 0.7rem;\">pattern</span>)</code>\n",
    "\n",
    "<br>\n",
    "\n",
    "<div style=\"margin-left: 190px;\">\n",
    "\n",
    "![](../media/pandas_dataframe_18.PNG)\n",
    "\n",
    "</div>\n",
    "\n",
    "<br>\n",
    "\n",
    "<div style=\"margin-left: 500px;\">\n",
    "    \n",
    "<code style=\"background-color: #f2d2ff;\">Index.str.contains()</code> works similar to <code style=\"background-color: #f2d2ff;\">Series.str.contains()</code>\n",
    "- <code style=\"background-color: #f2d2ff;\">Index.str.contains() </code> &nbsp;operates directly on Index objects\n",
    "- <code style=\"background-color: #f2d2ff;\">Series.str.contains()</code> &nbsp;works on the Series values\n",
    "\n",
    "</div>\n",
    "\n",
    "<br>\n",
    "\n",
    "<span style=\"color: #2da6fa; margin-left: 155px;\"><strong><u>Example - 1</u></strong>   &nbsp;&nbsp;&nbsp;&nbsp;&nbsp;➜&nbsp;&nbsp;&nbsp;&nbsp; Basic Substring Search</span>"
   ]
  },
  {
   "cell_type": "code",
   "execution_count": 34,
   "id": "35464b53-5c5b-4c51-9f77-0b437b312f21",
   "metadata": {},
   "outputs": [
    {
     "data": {
      "text/html": [
       "<div>\n",
       "<style scoped>\n",
       "    .dataframe tbody tr th:only-of-type {\n",
       "        vertical-align: middle;\n",
       "    }\n",
       "\n",
       "    .dataframe tbody tr th {\n",
       "        vertical-align: top;\n",
       "    }\n",
       "\n",
       "    .dataframe thead th {\n",
       "        text-align: right;\n",
       "    }\n",
       "</style>\n",
       "<table border=\"1\" class=\"dataframe\">\n",
       "  <thead>\n",
       "    <tr style=\"text-align: right;\">\n",
       "      <th></th>\n",
       "      <th>count</th>\n",
       "    </tr>\n",
       "  </thead>\n",
       "  <tbody>\n",
       "    <tr>\n",
       "      <th>apple</th>\n",
       "      <td>10</td>\n",
       "    </tr>\n",
       "    <tr>\n",
       "      <th>banana</th>\n",
       "      <td>20</td>\n",
       "    </tr>\n",
       "    <tr>\n",
       "      <th>cherry</th>\n",
       "      <td>30</td>\n",
       "    </tr>\n",
       "  </tbody>\n",
       "</table>\n",
       "</div>"
      ],
      "text/plain": [
       "        count\n",
       "apple      10\n",
       "banana     20\n",
       "cherry     30"
      ]
     },
     "execution_count": 34,
     "metadata": {},
     "output_type": "execute_result"
    }
   ],
   "source": [
    "\n",
    "df = pd.DataFrame({'count': [10, 20, 30]}, index=['apple', 'banana', 'cherry'])\n",
    "df\n"
   ]
  },
  {
   "cell_type": "code",
   "execution_count": 5,
   "id": "c60df12b-b286-428f-9e2e-dc41705d81e0",
   "metadata": {},
   "outputs": [
    {
     "data": {
      "text/plain": [
       "array([ True, False, False])"
      ]
     },
     "execution_count": 5,
     "metadata": {},
     "output_type": "execute_result"
    }
   ],
   "source": [
    "\n",
    "df.index.str.contains('app')\n"
   ]
  },
  {
   "cell_type": "markdown",
   "id": "f7e45a76-e998-4f93-a4e2-d406d42b9eb8",
   "metadata": {},
   "source": [
    "<br>\n",
    "\n",
    "<span style=\"color: #2da6fa; margin-left: 155px;\"><strong><u>Example - 2</u></strong> &nbsp;&nbsp;&nbsp;&nbsp;&nbsp;➜&nbsp;&nbsp;&nbsp;&nbsp; Case-Insensitive Matching</span>\n"
   ]
  },
  {
   "cell_type": "code",
   "execution_count": 19,
   "id": "d994bcfd-1b35-4bf9-a741-5ea949853326",
   "metadata": {},
   "outputs": [
    {
     "data": {
      "text/plain": [
       "array([ True, False, False])"
      ]
     },
     "execution_count": 19,
     "metadata": {},
     "output_type": "execute_result"
    }
   ],
   "source": [
    "\n",
    "index = pd.Index(['apple', 'banana', 'cherry'], name=\"fruits\")\n",
    "index.str.contains('app')\n"
   ]
  },
  {
   "cell_type": "markdown",
   "id": "84e1b53b-cfbd-4306-a177-62242bdf447c",
   "metadata": {},
   "source": [
    "\n",
    "<br>\n",
    "\n",
    "<span style=\"color: #2da6fa; margin-left: 155px;\"><u><strong>Example - 3</u></strong> &nbsp;&nbsp;&nbsp;&nbsp;&nbsp;➜&nbsp;&nbsp;&nbsp;&nbsp; Using Regular Expressions</span>"
   ]
  },
  {
   "cell_type": "code",
   "execution_count": 28,
   "id": "0134ef49-a3a7-4952-a75a-7c8063d2997b",
   "metadata": {},
   "outputs": [
    {
     "data": {
      "text/plain": [
       "array([False,  True, False])"
      ]
     },
     "execution_count": 28,
     "metadata": {},
     "output_type": "execute_result"
    }
   ],
   "source": [
    "\n",
    "df = pd.DataFrame({'count': [10, 20, 30]}, index=['apple', 'banana', 'cherry'])\n",
    "df.index.str.contains(r'a$', regex=True)                                                  # Match strings ending with 'a'\n"
   ]
  },
  {
   "cell_type": "markdown",
   "id": "9f499174-f519-426c-8b0e-33ab4f72d075",
   "metadata": {},
   "source": [
    "<br>\n",
    "\n",
    "<span style=\"color: #2da6fa; margin-left: 155px;\"><u><strong>Example - 4</strong></u> &nbsp;&nbsp;&nbsp;&nbsp;&nbsp;➜&nbsp;&nbsp;&nbsp;&nbsp; Handling Missing Data (&nbsp;<code style=\"background-color: #a2fff4;\">NaN</code>&nbsp;)</span>\n",
    "\n"
   ]
  },
  {
   "cell_type": "code",
   "execution_count": 21,
   "id": "b9500f73-8e13-4370-8bd9-536b55a82df6",
   "metadata": {},
   "outputs": [
    {
     "data": {
      "text/plain": [
       "Index([True, False, None, False], dtype='object')"
      ]
     },
     "execution_count": 21,
     "metadata": {},
     "output_type": "execute_result"
    }
   ],
   "source": [
    "\n",
    "index_with_nan = pd.Index(['apple', 'banana', None, 'cherry'])\n",
    "index_with_nan.str.contains('app', na=None)\n"
   ]
  },
  {
   "cell_type": "markdown",
   "id": "e25ce636-c699-42b6-8a2c-a6b1fc46fed4",
   "metadata": {},
   "source": [
    "<br>\n",
    "\n",
    "<span style=\"color: #2da6fa; margin-left: 250px;\">Specify &nbsp;<code style=\"background-color: #a2fff4;\">na=False</code>&nbsp; to treat &nbsp;<code style=\"background-color: #a2fff4;\">NaN</code>&nbsp; as <strong>not containing the pattern</strong> :</span>\n"
   ]
  },
  {
   "cell_type": "code",
   "execution_count": 13,
   "id": "ab648d5a-fea1-4d12-849b-1e804bb3367f",
   "metadata": {},
   "outputs": [
    {
     "data": {
      "text/plain": [
       "array([ True, False, False, False])"
      ]
     },
     "execution_count": 13,
     "metadata": {},
     "output_type": "execute_result"
    }
   ],
   "source": [
    "\n",
    "index_with_nan.str.contains('app', na=False)\n"
   ]
  },
  {
   "cell_type": "markdown",
   "id": "d84d5e0d-d3e3-4f95-b3bc-ddc5a3bab12e",
   "metadata": {},
   "source": [
    "<br>\n",
    "\n",
    "<span style=\"color: #2da6fa; margin-left: 155px;\"><strong><u>Example - 5</u></strong> &nbsp;&nbsp;&nbsp;&nbsp;&nbsp;➜&nbsp;&nbsp;&nbsp;&nbsp; Filtering Rows Based on Index</span>"
   ]
  },
  {
   "cell_type": "code",
   "execution_count": 31,
   "id": "9c8a77b1-b1e5-4dd8-ab66-6bcbcece0a1c",
   "metadata": {},
   "outputs": [
    {
     "data": {
      "text/html": [
       "<div>\n",
       "<style scoped>\n",
       "    .dataframe tbody tr th:only-of-type {\n",
       "        vertical-align: middle;\n",
       "    }\n",
       "\n",
       "    .dataframe tbody tr th {\n",
       "        vertical-align: top;\n",
       "    }\n",
       "\n",
       "    .dataframe thead th {\n",
       "        text-align: right;\n",
       "    }\n",
       "</style>\n",
       "<table border=\"1\" class=\"dataframe\">\n",
       "  <thead>\n",
       "    <tr style=\"text-align: right;\">\n",
       "      <th></th>\n",
       "      <th>count</th>\n",
       "    </tr>\n",
       "  </thead>\n",
       "  <tbody>\n",
       "    <tr>\n",
       "      <th>apple</th>\n",
       "      <td>10</td>\n",
       "    </tr>\n",
       "  </tbody>\n",
       "</table>\n",
       "</div>"
      ],
      "text/plain": [
       "       count\n",
       "apple     10"
      ]
     },
     "execution_count": 31,
     "metadata": {},
     "output_type": "execute_result"
    }
   ],
   "source": [
    "\n",
    "df = pd.DataFrame({'count': [10, 20, 30]}, index=['apple', 'banana', 'cherry'])\n",
    "df[df.index.str.contains('app')]                                                           # Filter rows where index contains 'app'\n"
   ]
  },
  {
   "cell_type": "markdown",
   "id": "f9d00e78-22d4-45d0-9142-1720df47a994",
   "metadata": {},
   "source": [
    "<br>\n",
    "\n",
    "<code style=\"background-color: yellow; margin-left: 155px;\">.str.replace(<span style=\"color: #a245ff; font-size: 0.7rem;\">old</span>, <span style=\"color: #a245ff; font-size: 0.7rem;\">new</span>)</code>\n",
    "\n",
    "<br>\n",
    "\n",
    "<span style=\"color: #2da6fa; margin-left: 155px;\"><strong><u>Example - 1</u></strong></span>"
   ]
  },
  {
   "cell_type": "code",
   "execution_count": 32,
   "id": "d5d24ef7-1e52-43a8-b4b1-4278997ab026",
   "metadata": {},
   "outputs": [
    {
     "data": {
      "text/plain": [
       "Index(['avocado', 'banana', 'cherry'], dtype='object')"
      ]
     },
     "execution_count": 32,
     "metadata": {},
     "output_type": "execute_result"
    }
   ],
   "source": [
    "\n",
    "df = pd.DataFrame({'count': [10, 20, 30]}, index=['apple', 'banana', 'cherry'])\n",
    "df.index.str.replace('apple', 'avocado')\n"
   ]
  },
  {
   "cell_type": "code",
   "execution_count": 33,
   "id": "5674c70b-e12a-4736-951e-3a5badb9cd6f",
   "metadata": {},
   "outputs": [
    {
     "data": {
      "text/html": [
       "<div>\n",
       "<style scoped>\n",
       "    .dataframe tbody tr th:only-of-type {\n",
       "        vertical-align: middle;\n",
       "    }\n",
       "\n",
       "    .dataframe tbody tr th {\n",
       "        vertical-align: top;\n",
       "    }\n",
       "\n",
       "    .dataframe thead th {\n",
       "        text-align: right;\n",
       "    }\n",
       "</style>\n",
       "<table border=\"1\" class=\"dataframe\">\n",
       "  <thead>\n",
       "    <tr style=\"text-align: right;\">\n",
       "      <th></th>\n",
       "      <th>count</th>\n",
       "    </tr>\n",
       "  </thead>\n",
       "  <tbody>\n",
       "    <tr>\n",
       "      <th>apple</th>\n",
       "      <td>10</td>\n",
       "    </tr>\n",
       "    <tr>\n",
       "      <th>banana</th>\n",
       "      <td>20</td>\n",
       "    </tr>\n",
       "    <tr>\n",
       "      <th>cherry</th>\n",
       "      <td>30</td>\n",
       "    </tr>\n",
       "  </tbody>\n",
       "</table>\n",
       "</div>"
      ],
      "text/plain": [
       "        count\n",
       "apple      10\n",
       "banana     20\n",
       "cherry     30"
      ]
     },
     "execution_count": 33,
     "metadata": {},
     "output_type": "execute_result"
    }
   ],
   "source": [
    "\n",
    "df\n"
   ]
  },
  {
   "cell_type": "markdown",
   "id": "ab95869b-6ac8-4b33-9969-bfa73f3ba8de",
   "metadata": {},
   "source": [
    "<span style=\"color: #2da6fa; margin-left: 155px;\"><strong><u>Example - 2</u></strong></span>"
   ]
  },
  {
   "cell_type": "code",
   "execution_count": 30,
   "id": "7e091107-699e-47f1-b0a8-058582786950",
   "metadata": {},
   "outputs": [
    {
     "data": {
      "text/plain": [
       "Index(['10', '20', '30', '40'], dtype='object', name='numbers')"
      ]
     },
     "execution_count": 30,
     "metadata": {},
     "output_type": "execute_result"
    }
   ],
   "source": [
    "\n",
    "index = pd.Index([\"ten\", \"20\", \"30\", \"40\"], name=\"numbers\")\n",
    "index.str.replace(\"ten\", \"10\")\n"
   ]
  },
  {
   "cell_type": "markdown",
   "id": "7c2fff05-5be5-4e2e-84e4-a9756d1b7f8b",
   "metadata": {},
   "source": [
    "<br>\n",
    "\n",
    "<span style=\"color: blue; margin-left: 42px;\"><strong>6. &nbsp;Numeric &nbsp;and &nbsp;Statistical &nbsp;Methods</strong></span>\n",
    "\n",
    "<div style=\"margin-left: 150px;\">\n",
    "\n",
    "![](../media/pandas_dataframe_15.PNG)\n",
    "\n",
    "</div>"
   ]
  },
  {
   "cell_type": "code",
   "execution_count": 47,
   "id": "581a8a08-3e47-4d61-a772-7d8e98325f9e",
   "metadata": {},
   "outputs": [
    {
     "name": "stdout",
     "output_type": "stream",
     "text": [
      ".min()  ------------------------->  10\n",
      ".max()  ------------------------->  50\n",
      ".unique()  ---------------------->  Int64Index([10, 20, 30, 40, 50], dtype='int64', name='numbers')\n",
      "\n",
      "\n",
      ".value_counts()  ----------------> \n",
      "10    1\n",
      "20    1\n",
      "30    1\n",
      "40    1\n",
      "50    1\n",
      "Name: numbers, dtype: int64\n",
      "\n",
      "\n",
      ".argmin()  ---------------------->  0\n",
      ".argmax()  ---------------------->  4\n",
      ".sortlevel(0)  ------------------>  (Int64Index([10, 20, 30, 40, 50], dtype='int64', name='numbers'), array([0, 1, 2, 3, 4], dtype=int64))\n"
     ]
    }
   ],
   "source": [
    "\n",
    "index = pd.Index([10, 20, 30, 40, 50], name=\"numbers\")\n",
    "\n",
    "print(\".min()  -------------------------> \", index.min())\n",
    "print(\".max()  -------------------------> \", index.max())\n",
    "print(\".unique()  ----------------------> \", index.unique())\n",
    "\n",
    "\n",
    "print(\"\\n\\n.value_counts()  ----------------> \")\n",
    "print(index.value_counts())\n",
    "\n",
    "\n",
    "print(\"\\n\\n.argmin()  ----------------------> \", index.argmin())\n",
    "print(\".argmax()  ----------------------> \", index.argmax())\n",
    "\n",
    "print(\".sortlevel(0)  ------------------> \", index.sortlevel(0))\n"
   ]
  },
  {
   "cell_type": "markdown",
   "id": "ee91713c-6d72-47bb-823d-96da5ade863c",
   "metadata": {},
   "source": [
    "<br>\n",
    "\n",
    "<span style=\"color: blue; margin-left: 42px;\"><strong>7. &nbsp;Utility &nbsp;Methods</strong></span>\n",
    "\n",
    "<div style=\"margin-left: 150px;\">\n",
    "\n",
    "![](../media/pandas_dataframe_16.PNG)\n",
    "\n",
    "</div>\n",
    "\n",
    "<br>\n",
    "\n",
    "<code style=\"background-color: #ffff82; margin-left: 155px;\">Index.where(<span style=\"color: red; font-size: 0.8rem;\">condition</span>, <span style=\"color: #a245ff; font-size: 0.8rem;\"><span style=\"color: red;\">other</span>=nan</span>)</code>\n",
    "\n",
    "<div style=\"margin-left: 180px;\">\n",
    "\n",
    "- <code style=\"background-color: #ffff82; font-size: 0.8rem; color: red;\">condition</code> &nbsp;&nbsp;:&nbsp;&nbsp; A boolean array or condition that determines which values to keep\n",
    "\n",
    "- <code style=\"background-color: #ffff82; font-size: 0.8rem; color: red;\">other    </code> &nbsp;&nbsp;:&nbsp;&nbsp; The value to replace the elements that do not satisfy the condition. Default is &nbsp;<code style=\"background-color: #f8ebff;\">NaN</code>\n",
    "\n",
    "- <span style=\"color: #a245ff;\">Similar to &nbsp;<code style=\"background-color: #a2fff4; font-size: 0.8rem; color: black;\">Series.where()</code> &nbsp; & &nbsp; <code style=\"background-color: #a2fff4; font-size: 0.8rem; color: black;\">Dataframe.where()</code></span>\n",
    "\n",
    "- <span style=\"color: #a245ff;\">It doesn't modify the original &nbsp;<code style=\"background-color: #f8ebff;\">Index</code> ; &nbsp;instead, it returns a new &nbsp;<code style=\"background-color: #f8ebff;\">Index</code>&nbsp; object with the applied changes</span>\n",
    "\n",
    "- <span style=\"background-color: #f8ebff;\"><strong>&nbsp;.where( )&nbsp;</strong></span> &nbsp;<span style=\"color: #a245ff;\">is not supported for</span> <strong>MultiIndex</strong> <span style=\"color: #a245ff;\">operations</span>\n",
    "\n",
    "</div>\n",
    "\n",
    "<br>"
   ]
  },
  {
   "cell_type": "code",
   "execution_count": 68,
   "id": "cb0b5f14-8bf2-4c8d-8a0b-78d0ca981269",
   "metadata": {},
   "outputs": [
    {
     "data": {
      "text/plain": [
       "Float64Index([nan, nan, nan, 25.0, 30.0], dtype='float64')"
      ]
     },
     "execution_count": 68,
     "metadata": {},
     "output_type": "execute_result"
    }
   ],
   "source": [
    "\n",
    "index = pd.Index([10, 15, 20, 25, 30])\n",
    "index.where(index > 20)                                                 # Apply a condition to keep only values greater than 20\n"
   ]
  },
  {
   "cell_type": "code",
   "execution_count": 69,
   "id": "aca1de71-fc74-4a87-9e0a-79621c007cf3",
   "metadata": {},
   "outputs": [
    {
     "data": {
      "text/plain": [
       "Int64Index([0, 0, 0, 25, 30], dtype='int64')"
      ]
     },
     "execution_count": 69,
     "metadata": {},
     "output_type": "execute_result"
    }
   ],
   "source": [
    "\n",
    "index = pd.Index([10, 15, 20, 25, 30])\n",
    "index.where(index > 20, other=0)                                        # Replace values that do not meet the condition with 0\n"
   ]
  },
  {
   "cell_type": "code",
   "execution_count": 70,
   "id": "b3b0e17a-4d69-453a-9941-a04fec9e1be4",
   "metadata": {},
   "outputs": [
    {
     "data": {
      "text/plain": [
       "Float64Index([5.0, nan, 15.0, nan, 25.0], dtype='float64')"
      ]
     },
     "execution_count": 70,
     "metadata": {},
     "output_type": "execute_result"
    }
   ],
   "source": [
    "\n",
    "index = pd.Index([5, 10, 15, 20, 25])\n",
    "condition = [True, False, True, False, True]                            # Boolean array\n",
    "index.where(condition)                                                  # Apply the condition array to filter values\n"
   ]
  },
  {
   "cell_type": "markdown",
   "id": "db41f9ac-9992-42b5-b57b-7169fc2d02d2",
   "metadata": {},
   "source": [
    "<br>\n",
    "\n",
    "<span style=\"color: blue; margin-left: 42px;\"><strong>8. &nbsp;MultiIndex &nbsp;Methods</strong></span>\n",
    "\n",
    "<div style=\"margin-left: 155px;\">\n",
    "    \n",
    "A &nbsp;<code style=\"background-color: #f3d7ff;\">MultiIndex</code>&nbsp; in Pandas is a <strong>hierarchical index</strong> that allows you to have <span style=\"color: red;\">multiple levels (or tiers) of indexing</span> in your DataFrame or Series. <br>\n",
    "This is particularly useful for working with <strong>high-dimensional data</strong> in a compact and intuitive way.\n",
    "\n",
    "</div>\n",
    "\n",
    "<span style=\"color: #09cc2c; background-color: white; margin-left: 156px;\"><strong><u>Creating &nbsp;a &nbsp;MultiIndex</u></strong> &nbsp;<font size=\"+1\">↴</font></span>\n"
   ]
  },
  {
   "cell_type": "code",
   "execution_count": 4,
   "id": "f7fd62fe-b7eb-4ba5-8aca-0155f968c534",
   "metadata": {},
   "outputs": [
    {
     "data": {
      "text/plain": [
       "MultiIndex([('A', 1),\n",
       "            ('A', 2),\n",
       "            ('B', 1),\n",
       "            ('B', 2)],\n",
       "           names=['letter', 'number'])"
      ]
     },
     "execution_count": 4,
     "metadata": {},
     "output_type": "execute_result"
    }
   ],
   "source": [
    "# from Lists or Arrays\n",
    "\n",
    "\n",
    "arrays = [['A', 'A', 'B', 'B'], \n",
    "          [1, 2, 1, 2]]\n",
    "multi_index = pd.MultiIndex.from_arrays(arrays, names=('letter', 'number'))\n",
    "multi_index\n"
   ]
  },
  {
   "cell_type": "code",
   "execution_count": 5,
   "id": "0129c796-37f0-4beb-b970-c590a497a2e0",
   "metadata": {},
   "outputs": [
    {
     "data": {
      "text/plain": [
       "MultiIndex([('A', 1),\n",
       "            ('A', 2),\n",
       "            ('B', 1),\n",
       "            ('B', 2)],\n",
       "           names=['letter', 'number'])"
      ]
     },
     "execution_count": 5,
     "metadata": {},
     "output_type": "execute_result"
    }
   ],
   "source": [
    "# from Tuples\n",
    "\n",
    "\n",
    "tuples = [('A', 1), \n",
    "          ('A', 2), \n",
    "          ('B', 1), \n",
    "          ('B', 2)]\n",
    "multi_index = pd.MultiIndex.from_tuples(tuples, names=('letter', 'number'))\n",
    "multi_index\n"
   ]
  },
  {
   "cell_type": "code",
   "execution_count": 6,
   "id": "c9999302-9c54-4115-8b0b-631f534b2569",
   "metadata": {},
   "outputs": [
    {
     "data": {
      "text/plain": [
       "MultiIndex([('A', 1),\n",
       "            ('A', 2),\n",
       "            ('B', 1),\n",
       "            ('B', 2)],\n",
       "           names=['letter', 'number'])"
      ]
     },
     "execution_count": 6,
     "metadata": {},
     "output_type": "execute_result"
    }
   ],
   "source": [
    "# from Cartesian Product\n",
    "\n",
    "\n",
    "letters = ['A', 'B']\n",
    "numbers = [1, 2]\n",
    "multi_index = pd.MultiIndex.from_product([letters, numbers], names=('letter', 'number'))\n",
    "multi_index\n"
   ]
  },
  {
   "cell_type": "code",
   "execution_count": 7,
   "id": "be5eaeb5-45d0-4127-ad68-4a97c049a3d8",
   "metadata": {},
   "outputs": [
    {
     "data": {
      "text/plain": [
       "MultiIndex([('A', 1),\n",
       "            ('A', 2),\n",
       "            ('B', 1),\n",
       "            ('B', 2)],\n",
       "           names=['letter', 'number'])"
      ]
     },
     "execution_count": 7,
     "metadata": {},
     "output_type": "execute_result"
    }
   ],
   "source": [
    "# from DataFrame\n",
    "\n",
    "\n",
    "data = {'letter': ['A', 'A', 'B', 'B'], \n",
    "        'number': [1, 2, 1, 2]\n",
    "       }\n",
    "df = pd.DataFrame(data)\n",
    "multi_index = pd.MultiIndex.from_frame(df)\n",
    "multi_index\n"
   ]
  },
  {
   "cell_type": "markdown",
   "id": "3258dc97-ea59-4ea3-8848-26edbaa8e265",
   "metadata": {},
   "source": [
    "<br>\n",
    "\n",
    "<span style=\"color: #09cc2c; background-color: white; margin-left: 156px;\"><strong><u>Using &nbsp;MultiIndex &nbsp;in &nbsp;DataFrame</u></strong> &nbsp;<font size=\"+1\">↴</font></span>\n"
   ]
  },
  {
   "cell_type": "code",
   "execution_count": 8,
   "id": "6d54fc56-952e-45c4-ad66-5f14955fcfe3",
   "metadata": {},
   "outputs": [
    {
     "data": {
      "text/html": [
       "<div>\n",
       "<style scoped>\n",
       "    .dataframe tbody tr th:only-of-type {\n",
       "        vertical-align: middle;\n",
       "    }\n",
       "\n",
       "    .dataframe tbody tr th {\n",
       "        vertical-align: top;\n",
       "    }\n",
       "\n",
       "    .dataframe thead th {\n",
       "        text-align: right;\n",
       "    }\n",
       "</style>\n",
       "<table border=\"1\" class=\"dataframe\">\n",
       "  <thead>\n",
       "    <tr style=\"text-align: right;\">\n",
       "      <th></th>\n",
       "      <th></th>\n",
       "      <th>value</th>\n",
       "    </tr>\n",
       "    <tr>\n",
       "      <th>letter</th>\n",
       "      <th>number</th>\n",
       "      <th></th>\n",
       "    </tr>\n",
       "  </thead>\n",
       "  <tbody>\n",
       "    <tr>\n",
       "      <th rowspan=\"2\" valign=\"top\">A</th>\n",
       "      <th>1</th>\n",
       "      <td>1</td>\n",
       "    </tr>\n",
       "    <tr>\n",
       "      <th>2</th>\n",
       "      <td>2</td>\n",
       "    </tr>\n",
       "    <tr>\n",
       "      <th rowspan=\"2\" valign=\"top\">B</th>\n",
       "      <th>1</th>\n",
       "      <td>3</td>\n",
       "    </tr>\n",
       "    <tr>\n",
       "      <th>2</th>\n",
       "      <td>4</td>\n",
       "    </tr>\n",
       "  </tbody>\n",
       "</table>\n",
       "</div>"
      ],
      "text/plain": [
       "               value\n",
       "letter number       \n",
       "A      1           1\n",
       "       2           2\n",
       "B      1           3\n",
       "       2           4"
      ]
     },
     "execution_count": 8,
     "metadata": {},
     "output_type": "execute_result"
    }
   ],
   "source": [
    "# Creating a DataFrame with MultiIndex\n",
    "\n",
    "\n",
    "index = pd.MultiIndex.from_product([['A', 'B'], [1, 2]], names=['letter', 'number'])           #  [('A', 1),\n",
    "                                                                                               #   ('A', 2),\n",
    "                                                                                               #   ('B', 1),\n",
    "                                                                                               #   ('B', 2)]\n",
    "\n",
    "data = np.arange(1, 5).reshape(4, 1)                                                           #  array([[1]\n",
    "                                                                                               #         [2]\n",
    "                                                                                               #         [3]\n",
    "                                                                                               #         [4]])\n",
    "\n",
    "df = pd.DataFrame(data, index=index, columns=['value'])\n",
    "df\n"
   ]
  },
  {
   "cell_type": "markdown",
   "id": "0394b3e4-c93d-4d49-9040-8a5bb96acb11",
   "metadata": {},
   "source": [
    "\n",
    "<span style=\"color: #09cc2c; background-color: white; margin-left: 156px;\"><strong><u>Accessing &nbsp;Data &nbsp;in &nbsp;MultiIndex</u></strong> &nbsp;<font size=\"+1\">↴</font></span>\n",
    "\n",
    "<span style=\"color: blue; margin-left: 158px;\"><font size=\"+1\">↳</font> &nbsp;using &nbsp;<code style=\"color: black; background-color: yellow;\">.loc</code></span>"
   ]
  },
  {
   "cell_type": "code",
   "execution_count": 15,
   "id": "c9fabe47-b41c-4b19-9236-f4cfacbc5ad7",
   "metadata": {},
   "outputs": [
    {
     "data": {
      "text/html": [
       "<div>\n",
       "<style scoped>\n",
       "    .dataframe tbody tr th:only-of-type {\n",
       "        vertical-align: middle;\n",
       "    }\n",
       "\n",
       "    .dataframe tbody tr th {\n",
       "        vertical-align: top;\n",
       "    }\n",
       "\n",
       "    .dataframe thead th {\n",
       "        text-align: right;\n",
       "    }\n",
       "</style>\n",
       "<table border=\"1\" class=\"dataframe\">\n",
       "  <thead>\n",
       "    <tr style=\"text-align: right;\">\n",
       "      <th></th>\n",
       "      <th>value</th>\n",
       "    </tr>\n",
       "    <tr>\n",
       "      <th>number</th>\n",
       "      <th></th>\n",
       "    </tr>\n",
       "  </thead>\n",
       "  <tbody>\n",
       "    <tr>\n",
       "      <th>1</th>\n",
       "      <td>1</td>\n",
       "    </tr>\n",
       "    <tr>\n",
       "      <th>2</th>\n",
       "      <td>2</td>\n",
       "    </tr>\n",
       "  </tbody>\n",
       "</table>\n",
       "</div>"
      ],
      "text/plain": [
       "        value\n",
       "number       \n",
       "1           1\n",
       "2           2"
      ]
     },
     "execution_count": 15,
     "metadata": {},
     "output_type": "execute_result"
    }
   ],
   "source": [
    "\n",
    "df.loc['A']                              # Access rows for letter 'A'    <-----------     df.loc[group]\n"
   ]
  },
  {
   "cell_type": "code",
   "execution_count": 16,
   "id": "69886c7f-11bb-4ffb-9e61-5e13b29e0203",
   "metadata": {},
   "outputs": [
    {
     "data": {
      "text/plain": [
       "value    1\n",
       "Name: (A, 1), dtype: int32"
      ]
     },
     "execution_count": 16,
     "metadata": {},
     "output_type": "execute_result"
    }
   ],
   "source": [
    "\n",
    "df.loc[('A', 1)]                         # Access specific cell      <---------------     df.loc[group, subgroup]\n"
   ]
  },
  {
   "cell_type": "markdown",
   "id": "3797ce7a-f530-4219-9faa-34a131e9ee4a",
   "metadata": {},
   "source": [
    "<br>\n",
    "\n",
    "<span style=\"color: blue; margin-left: 158px;\"><font size=\"+1\">↳</font> &nbsp;Indexing &nbsp;Specific &nbsp;Levels</span>\n"
   ]
  },
  {
   "cell_type": "code",
   "execution_count": 13,
   "id": "e6eaf6fc-27a5-4a68-a24a-b91e8b6b4135",
   "metadata": {},
   "outputs": [
    {
     "data": {
      "text/html": [
       "<div>\n",
       "<style scoped>\n",
       "    .dataframe tbody tr th:only-of-type {\n",
       "        vertical-align: middle;\n",
       "    }\n",
       "\n",
       "    .dataframe tbody tr th {\n",
       "        vertical-align: top;\n",
       "    }\n",
       "\n",
       "    .dataframe thead th {\n",
       "        text-align: right;\n",
       "    }\n",
       "</style>\n",
       "<table border=\"1\" class=\"dataframe\">\n",
       "  <thead>\n",
       "    <tr style=\"text-align: right;\">\n",
       "      <th></th>\n",
       "      <th>value</th>\n",
       "    </tr>\n",
       "    <tr>\n",
       "      <th>letter</th>\n",
       "      <th></th>\n",
       "    </tr>\n",
       "  </thead>\n",
       "  <tbody>\n",
       "    <tr>\n",
       "      <th>A</th>\n",
       "      <td>1</td>\n",
       "    </tr>\n",
       "    <tr>\n",
       "      <th>B</th>\n",
       "      <td>3</td>\n",
       "    </tr>\n",
       "  </tbody>\n",
       "</table>\n",
       "</div>"
      ],
      "text/plain": [
       "        value\n",
       "letter       \n",
       "A           1\n",
       "B           3"
      ]
     },
     "execution_count": 13,
     "metadata": {},
     "output_type": "execute_result"
    }
   ],
   "source": [
    "\n",
    "df.xs(1, level='number')                 # Access all rows where the second level (number) is 1\n"
   ]
  },
  {
   "cell_type": "markdown",
   "id": "99ffa5f2-8402-4943-860a-767cbf1a31d3",
   "metadata": {},
   "source": [
    "\n",
    "<span style=\"color: blue; margin-left: 158px;\"><font size=\"+1\">↳</font> &nbsp;Slicing</span>\n"
   ]
  },
  {
   "cell_type": "code",
   "execution_count": 14,
   "id": "3b2a285a-02bc-4e50-99e9-7e19710532d3",
   "metadata": {},
   "outputs": [
    {
     "data": {
      "text/html": [
       "<div>\n",
       "<style scoped>\n",
       "    .dataframe tbody tr th:only-of-type {\n",
       "        vertical-align: middle;\n",
       "    }\n",
       "\n",
       "    .dataframe tbody tr th {\n",
       "        vertical-align: top;\n",
       "    }\n",
       "\n",
       "    .dataframe thead th {\n",
       "        text-align: right;\n",
       "    }\n",
       "</style>\n",
       "<table border=\"1\" class=\"dataframe\">\n",
       "  <thead>\n",
       "    <tr style=\"text-align: right;\">\n",
       "      <th></th>\n",
       "      <th></th>\n",
       "      <th>value</th>\n",
       "    </tr>\n",
       "    <tr>\n",
       "      <th>letter</th>\n",
       "      <th>number</th>\n",
       "      <th></th>\n",
       "    </tr>\n",
       "  </thead>\n",
       "  <tbody>\n",
       "    <tr>\n",
       "      <th rowspan=\"2\" valign=\"top\">A</th>\n",
       "      <th>1</th>\n",
       "      <td>1</td>\n",
       "    </tr>\n",
       "    <tr>\n",
       "      <th>2</th>\n",
       "      <td>2</td>\n",
       "    </tr>\n",
       "    <tr>\n",
       "      <th rowspan=\"2\" valign=\"top\">B</th>\n",
       "      <th>1</th>\n",
       "      <td>3</td>\n",
       "    </tr>\n",
       "    <tr>\n",
       "      <th>2</th>\n",
       "      <td>4</td>\n",
       "    </tr>\n",
       "  </tbody>\n",
       "</table>\n",
       "</div>"
      ],
      "text/plain": [
       "               value\n",
       "letter number       \n",
       "A      1           1\n",
       "       2           2\n",
       "B      1           3\n",
       "       2           4"
      ]
     },
     "execution_count": 14,
     "metadata": {},
     "output_type": "execute_result"
    }
   ],
   "source": [
    "\n",
    "df.loc['A':'B']                          # Slice for rows from 'A' to 'B'\n"
   ]
  },
  {
   "cell_type": "markdown",
   "id": "1d7f26d3-254d-47b6-9a65-ed3b954fa8a0",
   "metadata": {},
   "source": [
    "<div style=\"margin-left: 150px;\">\n",
    "\n",
    "![](../media/pandas_dataframe_20.PNG)\n",
    "\n",
    "</div>\n",
    "\n",
    "<span style=\"color: #09cc2c; background-color: white; margin-left: 156px;\"><strong><u>MultiIndex &nbsp;Operations</u></strong> &nbsp;<font size=\"+1\">↴</font></span>\n",
    "\n",
    "<span style=\"color: blue; margin-left: 158px;\"><font size=\"+1\">↳</font> &nbsp;Dropping a Level</span>\n"
   ]
  },
  {
   "cell_type": "code",
   "execution_count": 114,
   "id": "c80d7a19-fea5-4b66-92a2-292368ce7cad",
   "metadata": {},
   "outputs": [
    {
     "data": {
      "text/html": [
       "<div>\n",
       "<style scoped>\n",
       "    .dataframe tbody tr th:only-of-type {\n",
       "        vertical-align: middle;\n",
       "    }\n",
       "\n",
       "    .dataframe tbody tr th {\n",
       "        vertical-align: top;\n",
       "    }\n",
       "\n",
       "    .dataframe thead th {\n",
       "        text-align: right;\n",
       "    }\n",
       "</style>\n",
       "<table border=\"1\" class=\"dataframe\">\n",
       "  <thead>\n",
       "    <tr style=\"text-align: right;\">\n",
       "      <th></th>\n",
       "      <th>value</th>\n",
       "    </tr>\n",
       "    <tr>\n",
       "      <th>number</th>\n",
       "      <th></th>\n",
       "    </tr>\n",
       "  </thead>\n",
       "  <tbody>\n",
       "    <tr>\n",
       "      <th>1</th>\n",
       "      <td>1</td>\n",
       "    </tr>\n",
       "    <tr>\n",
       "      <th>2</th>\n",
       "      <td>2</td>\n",
       "    </tr>\n",
       "    <tr>\n",
       "      <th>1</th>\n",
       "      <td>3</td>\n",
       "    </tr>\n",
       "    <tr>\n",
       "      <th>2</th>\n",
       "      <td>4</td>\n",
       "    </tr>\n",
       "  </tbody>\n",
       "</table>\n",
       "</div>"
      ],
      "text/plain": [
       "        value\n",
       "number       \n",
       "1           1\n",
       "2           2\n",
       "1           3\n",
       "2           4"
      ]
     },
     "execution_count": 114,
     "metadata": {},
     "output_type": "execute_result"
    }
   ],
   "source": [
    "\n",
    "df.droplevel('letter')\n"
   ]
  },
  {
   "cell_type": "markdown",
   "id": "2362ef4e-4e51-48bc-8af5-43a73d2c4217",
   "metadata": {},
   "source": [
    "\n",
    "<span style=\"color: blue; margin-left: 158px;\"><font size=\"+1\">↳</font> &nbsp;Swapping Levels</span>\n"
   ]
  },
  {
   "cell_type": "code",
   "execution_count": 115,
   "id": "cca65c3d-dae9-4518-b9f5-d4978cc7c000",
   "metadata": {},
   "outputs": [
    {
     "data": {
      "text/html": [
       "<div>\n",
       "<style scoped>\n",
       "    .dataframe tbody tr th:only-of-type {\n",
       "        vertical-align: middle;\n",
       "    }\n",
       "\n",
       "    .dataframe tbody tr th {\n",
       "        vertical-align: top;\n",
       "    }\n",
       "\n",
       "    .dataframe thead th {\n",
       "        text-align: right;\n",
       "    }\n",
       "</style>\n",
       "<table border=\"1\" class=\"dataframe\">\n",
       "  <thead>\n",
       "    <tr style=\"text-align: right;\">\n",
       "      <th></th>\n",
       "      <th></th>\n",
       "      <th>value</th>\n",
       "    </tr>\n",
       "    <tr>\n",
       "      <th>number</th>\n",
       "      <th>letter</th>\n",
       "      <th></th>\n",
       "    </tr>\n",
       "  </thead>\n",
       "  <tbody>\n",
       "    <tr>\n",
       "      <th>1</th>\n",
       "      <th>A</th>\n",
       "      <td>1</td>\n",
       "    </tr>\n",
       "    <tr>\n",
       "      <th>2</th>\n",
       "      <th>A</th>\n",
       "      <td>2</td>\n",
       "    </tr>\n",
       "    <tr>\n",
       "      <th>1</th>\n",
       "      <th>B</th>\n",
       "      <td>3</td>\n",
       "    </tr>\n",
       "    <tr>\n",
       "      <th>2</th>\n",
       "      <th>B</th>\n",
       "      <td>4</td>\n",
       "    </tr>\n",
       "  </tbody>\n",
       "</table>\n",
       "</div>"
      ],
      "text/plain": [
       "               value\n",
       "number letter       \n",
       "1      A           1\n",
       "2      A           2\n",
       "1      B           3\n",
       "2      B           4"
      ]
     },
     "execution_count": 115,
     "metadata": {},
     "output_type": "execute_result"
    }
   ],
   "source": [
    "\n",
    "df.swaplevel('letter', 'number')\n"
   ]
  },
  {
   "cell_type": "markdown",
   "id": "4bbabd62-0e0e-4438-bd93-5bf4ad4ec7b6",
   "metadata": {},
   "source": [
    "\n",
    "<span style=\"color: blue; margin-left: 158px;\"><font size=\"+1\">↳</font> &nbsp;Getting Values of a Level</span>\n"
   ]
  },
  {
   "cell_type": "code",
   "execution_count": 116,
   "id": "a0f421c4-3e0b-4ce1-8ab5-96ead70ddbed",
   "metadata": {},
   "outputs": [
    {
     "data": {
      "text/plain": [
       "Index(['A', 'A', 'B', 'B'], dtype='object', name='letter')"
      ]
     },
     "execution_count": 116,
     "metadata": {},
     "output_type": "execute_result"
    }
   ],
   "source": [
    "\n",
    "df.index.get_level_values('letter')\n"
   ]
  },
  {
   "cell_type": "markdown",
   "id": "8fc39086-42c1-4225-8458-3103043254e3",
   "metadata": {},
   "source": [
    "<br>\n",
    "\n",
    "<span style=\"color: #09cc2c; background-color: white; margin-left: 156px;\"><strong><u>Why &nbsp;use &nbsp;MultiIndex</u></strong> &nbsp;<font size=\"+1\">↴</font></span>\n",
    "\n",
    "<div style=\"margin-left: 190px;\">\n",
    "\n",
    "- <strong>Hierarchical Data Representation</strong> : MultiIndex allows organizing data hierarchically, making it easier to model datasets with multiple dimensions (e.g., time series across multiple locations).\n",
    "\n",
    "- <strong>Enhanced Grouping</strong> : MultiIndex works seamlessly with operations like &nbsp;<code style=\"background-color: yellow;\">.groupby()</code>&nbsp; and &nbsp;<code style=\"background-color: yellow;\">.pivot_table()</code> , making advanced data aggregation intuitive.\n",
    "\n",
    "- <strong>Compact Representation</strong> : Saves space and provides a clearer representation compared to a flat structure.\n",
    "\n",
    "</div>\n",
    "\n",
    "<br>\n",
    "\n",
    "<span style=\"color: #09cc2c; background-color: white; margin-left: 156px;\"><strong><u>Using &nbsp;MultiIndex &nbsp;for &nbsp;Enhanced &nbsp;Grouping &nbsp;in &nbsp;Pandas</u></strong> &nbsp;<font size=\"+1\">↴</font></span>\n",
    "\n",
    "<span style=\"margin-left: 200px;\">A MultiIndex allows hierarchical organization of data, enabling <strong>grouping</strong> and <strong>aggregation</strong> at different levels of granularity.</span>\n",
    "\n",
    "<span style=\"margin-left: 200px; color: blue;\"><u>Example 1</u> &nbsp;: &nbsp;&nbsp;Grouping with MultiIndex</span>\n",
    "\n",
    "<code style=\"background-color: #11e2bf; color: white; padding: 3px; margin-left: 288px; font-size: 1rem;\"> <font size=\"+1\">↳</font>  <strong>DATA SETUP</strong>  ====>  Create a DataFrame with a MultiIndex </code>\n"
   ]
  },
  {
   "cell_type": "code",
   "execution_count": 20,
   "id": "157c7939-5942-4f07-9e1d-3ca12a0760f0",
   "metadata": {},
   "outputs": [
    {
     "name": "stdout",
     "output_type": "stream",
     "text": [
      "Original DataFrame:\n",
      "\n",
      "                Value\n",
      "Group Subgroup       \n",
      "A     1            10\n",
      "      2            20\n",
      "      3            30\n",
      "B     1            15\n",
      "      2            25\n",
      "C     1             5\n",
      "      2            10\n",
      "      3            15\n"
     ]
    }
   ],
   "source": [
    "\n",
    "# Create a DataFrame with a MultiIndex\n",
    "\n",
    "arrays = [\n",
    "            ['A', 'A', 'A', 'B', 'B', 'C', 'C', 'C'],                                   # First level\n",
    "            [1, 2, 3, 1, 2, 1, 2, 3],                                                   # Second level\n",
    "         ]\n",
    "\n",
    "multi_index = pd.MultiIndex.from_arrays(arrays, names=('Group', 'Subgroup'))\n",
    "\n",
    "data = {\n",
    "        'Value': [10, 20, 30, 15, 25, 5, 10, 15]\n",
    "       }\n",
    "\n",
    "\n",
    "df = pd.DataFrame(data, index=multi_index)\n",
    "print(\"Original DataFrame:\\n\")\n",
    "print(df)\n"
   ]
  },
  {
   "cell_type": "markdown",
   "id": "c3a305bc-08f7-49de-835f-a9795796d998",
   "metadata": {},
   "source": [
    "<br>\n",
    "\n",
    "<code style=\"background-color: #11e2bf; color: white; padding: 3px; margin-left: 287px;\"> <font size=\"+1\">↳</font>  <span style=\"font-size: 1rem;\">Grouping at the Top Level</span> </code> &nbsp;<span style=\"font-size: 1rem;\">(</span> <code style=\"background-color: #43d7ff;\">Group</code> <span style=\"font-size: 1rem;\">)</span></span>\n"
   ]
  },
  {
   "cell_type": "code",
   "execution_count": 21,
   "id": "9b5013f6-1ec7-4ffb-bd3e-88a46385ac1f",
   "metadata": {},
   "outputs": [
    {
     "name": "stdout",
     "output_type": "stream",
     "text": [
      "Sum of Values by Group:\n",
      "\n",
      "       Value\n",
      "Group       \n",
      "A         60\n",
      "B         40\n",
      "C         30\n"
     ]
    }
   ],
   "source": [
    "\n",
    "grouped_df = df.groupby(level='Group').sum()\n",
    "print(\"Sum of Values by Group:\\n\")\n",
    "print(grouped_df)\n"
   ]
  },
  {
   "cell_type": "markdown",
   "id": "7192f575-97e7-4621-8570-2b1921a6281a",
   "metadata": {},
   "source": [
    "<br>\n",
    "\n",
    "<code style=\"background-color: #11e2bf; color: white; padding: 3px; margin-left: 287px; font-size: 1rem;\"> <font size=\"+1\">↳</font>  Grouping at the Second Level </code> &nbsp;<span style=\"font-size: 1rem;\">(</span> <code style=\"background-color: #43d7ff;\">Subgroup</code> <span style=\"font-size: 1rem;\">)</span>\n"
   ]
  },
  {
   "cell_type": "code",
   "execution_count": 22,
   "id": "dae0bdd4-4c27-4e51-9617-95d2ad3b3dda",
   "metadata": {},
   "outputs": [
    {
     "name": "stdout",
     "output_type": "stream",
     "text": [
      "Sum of Values by Subgroup:\n",
      "\n",
      "          Value\n",
      "Subgroup       \n",
      "1            30\n",
      "2            55\n",
      "3            45\n"
     ]
    }
   ],
   "source": [
    "\n",
    "subgrouped_df = df.groupby(level='Subgroup').sum()\n",
    "print(\"Sum of Values by Subgroup:\\n\")\n",
    "print(subgrouped_df)\n"
   ]
  },
  {
   "cell_type": "markdown",
   "id": "6627e52d-16df-4785-aff7-c5b379ea4e4a",
   "metadata": {},
   "source": [
    "<br>\n",
    "\n",
    "<code style=\"background-color: #11e2bf; color: white; padding: 3px; margin-left: 287px; font-size: 1rem;\"> <font size=\"+1\">↳</font>  Aggregating with Multiple Functions </strong></code>\n"
   ]
  },
  {
   "cell_type": "code",
   "execution_count": 23,
   "id": "31b1976b-4565-40c7-acc2-02f1da299b45",
   "metadata": {},
   "outputs": [
    {
     "name": "stdout",
     "output_type": "stream",
     "text": [
      "Aggregated Statistics by Group:\n",
      "\n",
      "      Value            \n",
      "        sum  mean count\n",
      "Group                  \n",
      "A        60  20.0     3\n",
      "B        40  20.0     2\n",
      "C        30  10.0     3\n"
     ]
    }
   ],
   "source": [
    "\n",
    "aggregated = df.groupby(level='Group').agg(['sum', 'mean', 'count'])\n",
    "print(\"Aggregated Statistics by Group:\\n\")\n",
    "print(aggregated)\n"
   ]
  },
  {
   "cell_type": "markdown",
   "id": "bc437704-bc0d-422c-9f91-0a7631c9f1a6",
   "metadata": {},
   "source": [
    "<br>\n",
    "\n",
    "<code style=\"background-color: #11e2bf; color: white; padding: 3px; margin-left: 287px; font-size: 1rem;\"> <font size=\"+1\">↳</font>  Combining MultiIndex Grouping with Columns </code>\n",
    "\n",
    "<span style=\"color: #a245ff; margin-left: 335px;\">If your DataFrame has additional columns, MultiIndex allows grouping both by index levels and columns</span>\n"
   ]
  },
  {
   "cell_type": "code",
   "execution_count": 25,
   "id": "c379d3d9-b4d7-470d-8e28-c409faea3e66",
   "metadata": {},
   "outputs": [
    {
     "name": "stdout",
     "output_type": "stream",
     "text": [
      "                Value  Weight\n",
      "Group Subgroup               \n",
      "A     1            10       1\n",
      "      2            20       2\n",
      "      3            30       3\n",
      "B     1            15       1\n",
      "      2            25       1\n",
      "C     1             5       1\n",
      "      2            10       2\n",
      "      3            15       3\n"
     ]
    }
   ],
   "source": [
    "\n",
    "df['Weight'] = [1, 2, 3, 1, 1, 1, 2, 3]                                # Add another column for weights\n",
    "print(df)\n"
   ]
  },
  {
   "cell_type": "code",
   "execution_count": 60,
   "id": "2c4d6852-e3dc-4499-8765-2e37c6fe4c09",
   "metadata": {},
   "outputs": [
    {
     "name": "stdout",
     "output_type": "stream",
     "text": [
      "Weighted Average by Group:\n",
      "\n",
      "Group\n",
      "A    23.333333\n",
      "B    20.000000\n",
      "C    11.666667\n",
      "dtype: float64\n"
     ]
    }
   ],
   "source": [
    "\n",
    "weighted_avg = df.groupby(level='Group').apply(\n",
    "    lambda g: np.average(g['Value'], weights=g['Weight'])\n",
    ")\n",
    "print(\"Weighted Average by Group:\\n\")\n",
    "print(weighted_avg)\n"
   ]
  },
  {
   "cell_type": "markdown",
   "id": "1896aaa4-0c22-487a-87e0-91e6c8e0a435",
   "metadata": {},
   "source": [
    "\n",
    "<div style=\"margin-left: 150px;\">\n",
    "\n",
    "![](../media/pandas_dataframe_21.PNG)\n",
    "\n",
    "&nbsp;&nbsp;&nbsp;&nbsp;<strong>Note</strong> &nbsp;: &nbsp;&nbsp;&nbsp;&nbsp;<code style=\"background-color: yellow;\"><span style=\"color: #a245ff; font-size: 0.8rem;\">df</span>.groupby(<span style=\"color: #a245ff; font-size: 0.8rem;\">level</span>)</code> &nbsp;&nbsp;&nbsp;====>&nbsp;&nbsp;&nbsp; <span style=\"color: #14dd0b;\">Groups the DataFrame by a specific level in the MultiIndex</span>\n",
    "\n",
    "</div>\n",
    "\n",
    "<br>\n",
    "\n",
    "<code style=\"background-color: #11e2bf; color: white; padding: 3px; margin-left: 287px; font-size: 1rem;\"> <font size=\"+1\">↳</font>  Grouping with a Flat Index </code>\n",
    "\n",
    "<span style=\"color: #a245ff; margin-left: 335px;\">If you don't need hierarchical grouping after aggregation, you can reset the index.</span>"
   ]
  },
  {
   "cell_type": "code",
   "execution_count": 73,
   "id": "cd03d480-fedd-413c-a7eb-3069b2abe0ec",
   "metadata": {},
   "outputs": [
    {
     "name": "stdout",
     "output_type": "stream",
     "text": [
      "                Value  Weight\n",
      "Group Subgroup               \n",
      "A     1            10       1\n",
      "      2            20       2\n",
      "      3            30       3\n",
      "B     1            15       1\n",
      "      2            25       1\n",
      "C     1             5       1\n",
      "      2            10       2\n",
      "      3            15       3\n"
     ]
    }
   ],
   "source": [
    "\n",
    "print(df)\n"
   ]
  },
  {
   "cell_type": "code",
   "execution_count": 71,
   "id": "f83ea9e3-1892-4bdb-ad78-7d546915603f",
   "metadata": {},
   "outputs": [
    {
     "data": {
      "text/plain": [
       "<pandas.core.groupby.generic.DataFrameGroupBy object at 0x0000024A9789E990>"
      ]
     },
     "execution_count": 71,
     "metadata": {},
     "output_type": "execute_result"
    }
   ],
   "source": [
    "\n",
    "df.groupby(level='Group')\n"
   ]
  },
  {
   "cell_type": "code",
   "execution_count": 72,
   "id": "56b8c2c7-925a-4a4b-9fd1-144c2d4c46b8",
   "metadata": {},
   "outputs": [
    {
     "data": {
      "text/html": [
       "<div>\n",
       "<style scoped>\n",
       "    .dataframe tbody tr th:only-of-type {\n",
       "        vertical-align: middle;\n",
       "    }\n",
       "\n",
       "    .dataframe tbody tr th {\n",
       "        vertical-align: top;\n",
       "    }\n",
       "\n",
       "    .dataframe thead th {\n",
       "        text-align: right;\n",
       "    }\n",
       "</style>\n",
       "<table border=\"1\" class=\"dataframe\">\n",
       "  <thead>\n",
       "    <tr style=\"text-align: right;\">\n",
       "      <th></th>\n",
       "      <th>Value</th>\n",
       "      <th>Weight</th>\n",
       "    </tr>\n",
       "    <tr>\n",
       "      <th>Group</th>\n",
       "      <th></th>\n",
       "      <th></th>\n",
       "    </tr>\n",
       "  </thead>\n",
       "  <tbody>\n",
       "    <tr>\n",
       "      <th>A</th>\n",
       "      <td>60</td>\n",
       "      <td>6</td>\n",
       "    </tr>\n",
       "    <tr>\n",
       "      <th>B</th>\n",
       "      <td>40</td>\n",
       "      <td>2</td>\n",
       "    </tr>\n",
       "    <tr>\n",
       "      <th>C</th>\n",
       "      <td>30</td>\n",
       "      <td>6</td>\n",
       "    </tr>\n",
       "  </tbody>\n",
       "</table>\n",
       "</div>"
      ],
      "text/plain": [
       "       Value  Weight\n",
       "Group               \n",
       "A         60       6\n",
       "B         40       2\n",
       "C         30       6"
      ]
     },
     "execution_count": 72,
     "metadata": {},
     "output_type": "execute_result"
    }
   ],
   "source": [
    "\n",
    "df.groupby(level='Group').sum()\n"
   ]
  },
  {
   "cell_type": "code",
   "execution_count": 84,
   "id": "9e8dc954-c406-46d5-87ec-c4cc3162d28b",
   "metadata": {},
   "outputs": [
    {
     "data": {
      "text/html": [
       "<div>\n",
       "<style scoped>\n",
       "    .dataframe tbody tr th:only-of-type {\n",
       "        vertical-align: middle;\n",
       "    }\n",
       "\n",
       "    .dataframe tbody tr th {\n",
       "        vertical-align: top;\n",
       "    }\n",
       "\n",
       "    .dataframe thead th {\n",
       "        text-align: right;\n",
       "    }\n",
       "</style>\n",
       "<table border=\"1\" class=\"dataframe\">\n",
       "  <thead>\n",
       "    <tr style=\"text-align: right;\">\n",
       "      <th></th>\n",
       "      <th>Group</th>\n",
       "      <th>Value</th>\n",
       "      <th>Weight</th>\n",
       "    </tr>\n",
       "  </thead>\n",
       "  <tbody>\n",
       "    <tr>\n",
       "      <th>0</th>\n",
       "      <td>A</td>\n",
       "      <td>60</td>\n",
       "      <td>6</td>\n",
       "    </tr>\n",
       "    <tr>\n",
       "      <th>1</th>\n",
       "      <td>B</td>\n",
       "      <td>40</td>\n",
       "      <td>2</td>\n",
       "    </tr>\n",
       "    <tr>\n",
       "      <th>2</th>\n",
       "      <td>C</td>\n",
       "      <td>30</td>\n",
       "      <td>6</td>\n",
       "    </tr>\n",
       "  </tbody>\n",
       "</table>\n",
       "</div>"
      ],
      "text/plain": [
       "  Group  Value  Weight\n",
       "0     A     60       6\n",
       "1     B     40       2\n",
       "2     C     30       6"
      ]
     },
     "execution_count": 84,
     "metadata": {},
     "output_type": "execute_result"
    }
   ],
   "source": [
    "\n",
    "df.groupby(level='Group').sum().reset_index()                                   # Flat Index after Grouping on DataFrame \"df\"\n"
   ]
  },
  {
   "cell_type": "markdown",
   "id": "e1feaf15-3a37-482e-8b45-82cfd060b5b8",
   "metadata": {},
   "source": [
    "\n",
    "<span style=\"color: #a245ff; margin-left: 150px;\">We will cover this &nbsp;<code style=\"background-color: #a1ffef;\">multi index</code>&nbsp; and &nbsp;<code style=\"background-color: yellow;\">groupby()</code>&nbsp; in more details in subsequent sections later on.</span>\n"
   ]
  },
  {
   "cell_type": "code",
   "execution_count": null,
   "id": "0ba9edec-d1fa-46aa-9691-10ada9253681",
   "metadata": {},
   "outputs": [],
   "source": []
  },
  {
   "cell_type": "markdown",
   "id": "1be5a246-ac6e-4c48-91b8-6c6dbca30130",
   "metadata": {},
   "source": [
    "<br>\n",
    "\n",
    "## <code style=\"background-color: black; color: white;\">Essential Functionality</code>"
   ]
  },
  {
   "cell_type": "markdown",
   "id": "3af1c28c-9186-47eb-859a-a163bd2db693",
   "metadata": {
    "jp-MarkdownHeadingCollapsed": true
   },
   "source": [
    "<br>\n",
    "\n",
    "### <div style=\"color: black; background-color: #ffe9c8; padding: 10px;\"> <code style=\"font-size: 1.3rem; background-color: #ffe9c8; color: red;\"><strong>Reindexing</strong></code></div>\n"
   ]
  },
  {
   "cell_type": "markdown",
   "id": "ccb811d0-f138-404d-ba0d-39d1a5b154b7",
   "metadata": {},
   "source": [
    "\n",
    "<div style=\"margin-left: 60px;\">\n",
    "\n",
    "![](../media/pandas_reindex_1.PNG)\n",
    "\n",
    "</div>\n",
    "\n",
    "<br>\n",
    "\n",
    "<code style=\"color: white; background-color: #abb2b9; margin-left: 150px; padding: 3px;\">parameters :</code>\n",
    "\n",
    "| Argument | Description |\n",
    "|----------|-------------|\n",
    "| <code style=\"background-color: #ffcd6f;\">labels</code>       |   <br>&nbsp;&nbsp;&nbsp;&nbsp;New sequence to use as an index. Can be Index instance or any other sequence-like Python data structure. <br> &nbsp;&nbsp;&nbsp;&nbsp;An Index will be used exactly as is without any copying.  <br><br>|\n",
    "| <code style=\"background-color: #ffcd6f;\">index</code>\t       |   <br>&nbsp;&nbsp;&nbsp;&nbsp;Use the passed sequence as the new index labels.     <br><br>|\n",
    "| <code style=\"background-color: #ffcd6f;\">columns</code>      |   <br>&nbsp;&nbsp;&nbsp;&nbsp;Use the passed sequence as the new column labels.    <br><br>|\n",
    "| <code style=\"background-color: #ffcd6f;\">axis</code>\t       |   <br>&nbsp;&nbsp;&nbsp;&nbsp;The axis to reindex, whether &nbsp;<code style=\"background-color: #2cf718;\">\"index\"</code>&nbsp; (rows) or \"columns\". The default is &nbsp;<code style=\"background-color: #2cf718;\">\"index\"</code> <br> &nbsp;&nbsp;&nbsp;&nbsp;You can alternately do &nbsp;<code style=\"background-color: #51d2ff;\">reindex(index=new_labels)</code>&nbsp; or &nbsp;<code style=\"background-color: #51d2ff;\">reindex(columns=new_labels)</code>    <br><br>|\n",
    "| <code style=\"background-color: #ffcd6f;\">method</code>       |\t<br>&nbsp;&nbsp;&nbsp;&nbsp;Interpolation (fill) method ; &nbsp;<code style=\"background-color: #2cf718;\">\"ffill\"</code> <span style=\"color: red;\">fills forward</span>, while &nbsp;<code style=\"background-color: #2cf718;\">\"bfill\"</code> <span style=\"color: red;\">fills backward</span>.     <br><br>|\n",
    "| <code style=\"background-color: #ffcd6f;\">fill_value</code>   | <br>&nbsp;&nbsp;&nbsp;&nbsp;Substitute value to use when introducing missing data by reindexing. <br> &nbsp;&nbsp;&nbsp;&nbsp;Use &nbsp;<code style=\"background-color: #2cf718;\">fill_value=\"missing\"</code>&nbsp; (the default behavior) when you want absent labels to have null values in the result. <br><br>     |\n",
    "| <code style=\"background-color: #ffcd6f;\">limit</code>\t       |    <br>&nbsp;&nbsp;&nbsp;&nbsp;When forward filling or backfilling, the maximum size gap (in number of elements) to fill. <br><br>|\n",
    "| <code style=\"background-color: #ffcd6f;\">tolerance</code>    |\t<br>&nbsp;&nbsp;&nbsp;&nbsp;When forward filling or backfilling, the maximum size gap (in absolute numeric distance) to fill for inexact matches. <br><br>|\n",
    "| <code style=\"background-color: #ffcd6f;\">level</code>        |    <br>&nbsp;&nbsp;&nbsp;&nbsp;Match simple Index on level of MultiIndex ; otherwise select subset of.  <br><br>|\n",
    "| <code style=\"background-color: #ffcd6f;\">copy</code>         |\t<br>&nbsp;&nbsp;&nbsp;&nbsp;If &nbsp;<code style=\"background-color: #2cf718;\">True</code> , always copy underlying data even if the new index is equivalent to the old index <br> &nbsp;&nbsp;&nbsp;&nbsp;If &nbsp;<code style=\"background-color: #2cf718;\">False</code> , do not copy the data when the indexes are equivalent <br><br>|\n",
    "\n",
    "<br>\n",
    "\n",
    "<code style=\"background-color: yellow; padding: 3px; margin-left: 60px;\"> <span style=\"color: #a245ff; font-size: 0.7rem;\">obj</span>.reindex() </code>&nbsp;&nbsp;&nbsp;&nbsp;&nbsp;&nbsp;&nbsp;&nbsp;=====>&nbsp;&nbsp;&nbsp;&nbsp;&nbsp;To create a new object with the <strong>values rearranged to align with the new index</strong>\n",
    "\n"
   ]
  },
  {
   "cell_type": "markdown",
   "id": "a84fbc31-71ee-4827-b1c4-731655bce977",
   "metadata": {
    "jp-MarkdownHeadingCollapsed": true
   },
   "source": [
    "##### <span style=\"color: #ffb585;\">----------------------------------------------------------------------------------------------------------------------------------------------------------------------------------------------</span>\n",
    "\n",
    "<span style=\"font-size: 0.9rem; color: black; font-size: 1.3rem;\">🔶</span> &nbsp;&nbsp;<span style=\"color: #f76607; font-size: 1rem;\">Reindexing &nbsp;Series</span>\n"
   ]
  },
  {
   "cell_type": "markdown",
   "id": "79944f9a-709a-4dc6-a090-b3453f1e9bf6",
   "metadata": {},
   "source": [
    "<div style=\"color: #a245ff; margin-left: 45px;\">Calling &nbsp;<code style=\"background-color: #f0caff; padding: 2px;\"><span style=\"color: #a245ff; font-size: 0.7rem;\">obj</span>.reindex()</code>&nbsp; on a Series rearranges the data according to the new index, introducing <strong>missing values</strong> if any index values were not already present :</div>"
   ]
  },
  {
   "cell_type": "code",
   "execution_count": 44,
   "id": "244af83f-c9ab-4982-a024-33b9cf68d282",
   "metadata": {},
   "outputs": [
    {
     "name": "stdout",
     "output_type": "stream",
     "text": [
      "Original Series :\n",
      "d    4.5\n",
      "b    7.2\n",
      "a   -5.3\n",
      "c    3.6\n",
      "dtype: float64\n",
      "\n",
      "\n",
      "Reindexed DataFrame:\n",
      "a   -5.3\n",
      "b    7.2\n",
      "c    3.6\n",
      "d    4.5\n",
      "e    NaN\n",
      "dtype: float64\n"
     ]
    }
   ],
   "source": [
    "\n",
    "series1 = pd.Series([4.5, 7.2, -5.3, 3.6], index=[\"d\", \"b\", \"a\", \"c\"])\n",
    "print(\"Original Series :\")\n",
    "print(series1)\n",
    "\n",
    "\n",
    "# Reindex with additional and missing labels\n",
    "series2 = series1.reindex([\"a\", \"b\", \"c\", \"d\", \"e\"])                      # series1.reindex(index=[\"a\", \"b\", \"c\", \"d\", \"e\"])\n",
    "print(\"\\n\\nReindexed DataFrame:\")\n",
    "print(series2)\n"
   ]
  },
  {
   "cell_type": "markdown",
   "id": "ea407a00-2bac-4617-b482-092c0b2dc129",
   "metadata": {
    "jp-MarkdownHeadingCollapsed": true
   },
   "source": [
    "##### <span style=\"color: #ffb585;\">----------------------------------------------------------------------------------------------------------------------------------------------------------------------------------------------</span>\n",
    "\n",
    "<span style=\"font-size: 0.9rem; color: black; font-size: 1.3rem;\">🔶</span> &nbsp;&nbsp;<span style=\"color: #f76607; font-size: 1rem;\">Reindexing &nbsp;DataFrame</span>\n"
   ]
  },
  {
   "cell_type": "markdown",
   "id": "9d7758fd-f232-448e-8acc-63933d950e85",
   "metadata": {},
   "source": [
    "\n",
    "<div style=\"color: #a245ff; margin-left: 50px;\">\n",
    "\n",
    "- With DataFrame, &nbsp;<code style=\"background-color: #fffa63; padding: 2px;\"><span style=\"color: #a245ff; font-size: 0.7rem;\">obj</span>.reindex()</code>&nbsp; can alter the <strong>(row) index</strong> , <strong>columns</strong> , or <strong>both</strong>.\n",
    "\n",
    "- Calling it on a DataFrame rearranges the data according to the new index, introducing <strong>missing values</strong> if any index values were not already present :\n",
    "\n",
    "</div>\n"
   ]
  },
  {
   "cell_type": "code",
   "execution_count": 100,
   "id": "b26f57fb-ac66-4e67-8dd2-f634e82b8db6",
   "metadata": {},
   "outputs": [
    {
     "name": "stdout",
     "output_type": "stream",
     "text": [
      "Original DataFrame :\n",
      "   col1\n",
      "a     1\n",
      "b     2\n",
      "c     3\n",
      "\n",
      "\n",
      "Reindexed DataFrame :\n",
      "   col1\n",
      "a   1.0\n",
      "b   2.0\n",
      "d   NaN\n"
     ]
    }
   ],
   "source": [
    "\n",
    "df = pd.DataFrame({'col1': [1, 2, 3]}, index=['a', 'b', 'c'])\n",
    "print(\"Original DataFrame :\")\n",
    "print(df)\n",
    "\n",
    "\n",
    "# Reindex with additional and missing labels\n",
    "df_reindexed = df.reindex(['a', 'b', 'd'])                                #  df.reindex(index=['a', 'b', 'd'])\n",
    "print(\"\\n\\nReindexed DataFrame :\")\n",
    "print(df_reindexed)\n"
   ]
  },
  {
   "cell_type": "markdown",
   "id": "ca44f3e5-29c9-4f34-af78-73b90b0917c6",
   "metadata": {
    "jp-MarkdownHeadingCollapsed": true
   },
   "source": [
    "<br>\n",
    "\n",
    "###### <code style=\"color: white; background-color: #16ca27; font-size: 1rem; padding: 1px;\">&nbsp;▷ &nbsp;Reindexing <u>rows</u>&nbsp;</code>\n"
   ]
  },
  {
   "cell_type": "code",
   "execution_count": 28,
   "id": "e27311d2-df7f-4630-9d02-a2e57987d417",
   "metadata": {},
   "outputs": [
    {
     "data": {
      "text/html": [
       "<div>\n",
       "<style scoped>\n",
       "    .dataframe tbody tr th:only-of-type {\n",
       "        vertical-align: middle;\n",
       "    }\n",
       "\n",
       "    .dataframe tbody tr th {\n",
       "        vertical-align: top;\n",
       "    }\n",
       "\n",
       "    .dataframe thead th {\n",
       "        text-align: right;\n",
       "    }\n",
       "</style>\n",
       "<table border=\"1\" class=\"dataframe\">\n",
       "  <thead>\n",
       "    <tr style=\"text-align: right;\">\n",
       "      <th></th>\n",
       "      <th>Delhi</th>\n",
       "      <th>Mumbai</th>\n",
       "      <th>Bangalore</th>\n",
       "    </tr>\n",
       "  </thead>\n",
       "  <tbody>\n",
       "    <tr>\n",
       "      <th>a</th>\n",
       "      <td>0</td>\n",
       "      <td>1</td>\n",
       "      <td>2</td>\n",
       "    </tr>\n",
       "    <tr>\n",
       "      <th>c</th>\n",
       "      <td>3</td>\n",
       "      <td>4</td>\n",
       "      <td>5</td>\n",
       "    </tr>\n",
       "    <tr>\n",
       "      <th>d</th>\n",
       "      <td>6</td>\n",
       "      <td>7</td>\n",
       "      <td>8</td>\n",
       "    </tr>\n",
       "  </tbody>\n",
       "</table>\n",
       "</div>"
      ],
      "text/plain": [
       "   Delhi  Mumbai  Bangalore\n",
       "a      0       1          2\n",
       "c      3       4          5\n",
       "d      6       7          8"
      ]
     },
     "execution_count": 28,
     "metadata": {},
     "output_type": "execute_result"
    }
   ],
   "source": [
    "\n",
    "df = pd.DataFrame(np.arange(9).reshape((3, 3)), index=[\"a\", \"c\", \"d\"], columns=[\"Delhi\", \"Mumbai\", \"Bangalore\"])\n",
    "df\n"
   ]
  },
  {
   "cell_type": "markdown",
   "id": "f23eaf9e-e71b-4365-a084-169fbbeaf9fa",
   "metadata": {},
   "source": [
    "\n",
    "<div style=\"color: #14bf02; margin-left: 50px;\">When passed only a sequence</u>, it reindexes the <strong>rows</strong> in the result.<br>Or you can explicitly pass the &nbsp;<code style=\"background-color: #ffcd6f;;\">index</code>&nbsp; parameter to index the <strong>rows</strong> of the dataframe.</div>\n"
   ]
  },
  {
   "cell_type": "code",
   "execution_count": 19,
   "id": "977cc961-3381-416a-a944-facf9c4e4fa0",
   "metadata": {},
   "outputs": [
    {
     "data": {
      "text/html": [
       "<div>\n",
       "<style scoped>\n",
       "    .dataframe tbody tr th:only-of-type {\n",
       "        vertical-align: middle;\n",
       "    }\n",
       "\n",
       "    .dataframe tbody tr th {\n",
       "        vertical-align: top;\n",
       "    }\n",
       "\n",
       "    .dataframe thead th {\n",
       "        text-align: right;\n",
       "    }\n",
       "</style>\n",
       "<table border=\"1\" class=\"dataframe\">\n",
       "  <thead>\n",
       "    <tr style=\"text-align: right;\">\n",
       "      <th></th>\n",
       "      <th>Delhi</th>\n",
       "      <th>Mumbai</th>\n",
       "      <th>Bangalore</th>\n",
       "    </tr>\n",
       "  </thead>\n",
       "  <tbody>\n",
       "    <tr>\n",
       "      <th>a</th>\n",
       "      <td>0.0</td>\n",
       "      <td>1.0</td>\n",
       "      <td>2.0</td>\n",
       "    </tr>\n",
       "    <tr>\n",
       "      <th>b</th>\n",
       "      <td>NaN</td>\n",
       "      <td>NaN</td>\n",
       "      <td>NaN</td>\n",
       "    </tr>\n",
       "    <tr>\n",
       "      <th>c</th>\n",
       "      <td>3.0</td>\n",
       "      <td>4.0</td>\n",
       "      <td>5.0</td>\n",
       "    </tr>\n",
       "    <tr>\n",
       "      <th>d</th>\n",
       "      <td>6.0</td>\n",
       "      <td>7.0</td>\n",
       "      <td>8.0</td>\n",
       "    </tr>\n",
       "  </tbody>\n",
       "</table>\n",
       "</div>"
      ],
      "text/plain": [
       "   Delhi  Mumbai  Bangalore\n",
       "a    0.0     1.0        2.0\n",
       "b    NaN     NaN        NaN\n",
       "c    3.0     4.0        5.0\n",
       "d    6.0     7.0        8.0"
      ]
     },
     "execution_count": 19,
     "metadata": {},
     "output_type": "execute_result"
    }
   ],
   "source": [
    "\n",
    "df_row_reindexed = df.reindex(index=[\"a\", \"b\", \"c\", \"d\"])                   #   --------->   df1.reindex([\"a\", \"b\", \"c\", \"d\"])\n",
    "df_row_reindexed\n"
   ]
  },
  {
   "cell_type": "markdown",
   "id": "0e10add4-e769-43b8-a1ff-f80d16bd0542",
   "metadata": {
    "jp-MarkdownHeadingCollapsed": true
   },
   "source": [
    "<br>\n",
    "\n",
    "###### <code style=\"color: white; background-color: #16ca27; font-size: 1rem; padding: 1px;\">&nbsp;▷ &nbsp;Reindexing <u>columns</u>&nbsp;</code>\n"
   ]
  },
  {
   "cell_type": "code",
   "execution_count": 24,
   "id": "85f7c15f-b02f-4ab0-ab11-5d4d751fb9e2",
   "metadata": {},
   "outputs": [
    {
     "data": {
      "text/html": [
       "<div>\n",
       "<style scoped>\n",
       "    .dataframe tbody tr th:only-of-type {\n",
       "        vertical-align: middle;\n",
       "    }\n",
       "\n",
       "    .dataframe tbody tr th {\n",
       "        vertical-align: top;\n",
       "    }\n",
       "\n",
       "    .dataframe thead th {\n",
       "        text-align: right;\n",
       "    }\n",
       "</style>\n",
       "<table border=\"1\" class=\"dataframe\">\n",
       "  <thead>\n",
       "    <tr style=\"text-align: right;\">\n",
       "      <th></th>\n",
       "      <th>Delhi</th>\n",
       "      <th>Mumbai</th>\n",
       "      <th>Bangalore</th>\n",
       "    </tr>\n",
       "  </thead>\n",
       "  <tbody>\n",
       "    <tr>\n",
       "      <th>a</th>\n",
       "      <td>0</td>\n",
       "      <td>1</td>\n",
       "      <td>2</td>\n",
       "    </tr>\n",
       "    <tr>\n",
       "      <th>c</th>\n",
       "      <td>3</td>\n",
       "      <td>4</td>\n",
       "      <td>5</td>\n",
       "    </tr>\n",
       "    <tr>\n",
       "      <th>d</th>\n",
       "      <td>6</td>\n",
       "      <td>7</td>\n",
       "      <td>8</td>\n",
       "    </tr>\n",
       "  </tbody>\n",
       "</table>\n",
       "</div>"
      ],
      "text/plain": [
       "   Delhi  Mumbai  Bangalore\n",
       "a      0       1          2\n",
       "c      3       4          5\n",
       "d      6       7          8"
      ]
     },
     "execution_count": 24,
     "metadata": {},
     "output_type": "execute_result"
    }
   ],
   "source": [
    "\n",
    "df\n"
   ]
  },
  {
   "cell_type": "markdown",
   "id": "647c83d9-8fa0-4ddd-a41e-313f69433805",
   "metadata": {},
   "source": [
    "\n",
    "<span style=\"margin-left: 50px; color: #44d611;\">The <strong>columns</strong> can be reindexed with the &nbsp;<code style=\"background-color: #ffcd6f;\">columns</code>&nbsp; keyword :</span>\n"
   ]
  },
  {
   "cell_type": "code",
   "execution_count": 20,
   "id": "6aca2691-d45a-4fd8-a7e0-1731c4bcda83",
   "metadata": {},
   "outputs": [
    {
     "data": {
      "text/html": [
       "<div>\n",
       "<style scoped>\n",
       "    .dataframe tbody tr th:only-of-type {\n",
       "        vertical-align: middle;\n",
       "    }\n",
       "\n",
       "    .dataframe tbody tr th {\n",
       "        vertical-align: top;\n",
       "    }\n",
       "\n",
       "    .dataframe thead th {\n",
       "        text-align: right;\n",
       "    }\n",
       "</style>\n",
       "<table border=\"1\" class=\"dataframe\">\n",
       "  <thead>\n",
       "    <tr style=\"text-align: right;\">\n",
       "      <th></th>\n",
       "      <th>Mumbai</th>\n",
       "      <th>Kolkata</th>\n",
       "      <th>Bangalore</th>\n",
       "    </tr>\n",
       "  </thead>\n",
       "  <tbody>\n",
       "    <tr>\n",
       "      <th>a</th>\n",
       "      <td>1</td>\n",
       "      <td>NaN</td>\n",
       "      <td>2</td>\n",
       "    </tr>\n",
       "    <tr>\n",
       "      <th>c</th>\n",
       "      <td>4</td>\n",
       "      <td>NaN</td>\n",
       "      <td>5</td>\n",
       "    </tr>\n",
       "    <tr>\n",
       "      <th>d</th>\n",
       "      <td>7</td>\n",
       "      <td>NaN</td>\n",
       "      <td>8</td>\n",
       "    </tr>\n",
       "  </tbody>\n",
       "</table>\n",
       "</div>"
      ],
      "text/plain": [
       "   Mumbai  Kolkata  Bangalore\n",
       "a       1      NaN          2\n",
       "c       4      NaN          5\n",
       "d       7      NaN          8"
      ]
     },
     "execution_count": 20,
     "metadata": {},
     "output_type": "execute_result"
    }
   ],
   "source": [
    "\n",
    "states = [\"Mumbai\", \"Kolkata\", \"Bangalore\"]\n",
    "df_column_reindexed = df.reindex(columns=states)\n",
    "df_column_reindexed\n"
   ]
  },
  {
   "cell_type": "markdown",
   "id": "654f14d1-fc81-42b1-89fe-909cafb48099",
   "metadata": {},
   "source": [
    "\n",
    "<span style=\"color: #a245ff; margin-left: 50px;\">Because &nbsp;<code style=\"background-color: #f1d3ff;\">\"Kolkata\"</code>&nbsp; was not in &nbsp;<code style=\"background-color: #f1d3ff;\">states</code> , the data for that column is dropped from the result.</span>"
   ]
  },
  {
   "cell_type": "markdown",
   "id": "d69ab89c-f856-48a0-8119-ffa7fe690997",
   "metadata": {
    "jp-MarkdownHeadingCollapsed": true
   },
   "source": [
    "<br>\n",
    "\n",
    "###### <code style=\"color: white; background-color: #16ca27; font-size: 1rem; padding: 1px;\">&nbsp;▷ &nbsp;Reindexing both <u>rows</u> & <u>columns</u>&nbsp;</code>\n"
   ]
  },
  {
   "cell_type": "code",
   "execution_count": 25,
   "id": "8631d702-50f9-435a-876b-03e9498cf7f1",
   "metadata": {},
   "outputs": [
    {
     "data": {
      "text/html": [
       "<div>\n",
       "<style scoped>\n",
       "    .dataframe tbody tr th:only-of-type {\n",
       "        vertical-align: middle;\n",
       "    }\n",
       "\n",
       "    .dataframe tbody tr th {\n",
       "        vertical-align: top;\n",
       "    }\n",
       "\n",
       "    .dataframe thead th {\n",
       "        text-align: right;\n",
       "    }\n",
       "</style>\n",
       "<table border=\"1\" class=\"dataframe\">\n",
       "  <thead>\n",
       "    <tr style=\"text-align: right;\">\n",
       "      <th></th>\n",
       "      <th>Delhi</th>\n",
       "      <th>Mumbai</th>\n",
       "      <th>Bangalore</th>\n",
       "    </tr>\n",
       "  </thead>\n",
       "  <tbody>\n",
       "    <tr>\n",
       "      <th>a</th>\n",
       "      <td>0</td>\n",
       "      <td>1</td>\n",
       "      <td>2</td>\n",
       "    </tr>\n",
       "    <tr>\n",
       "      <th>c</th>\n",
       "      <td>3</td>\n",
       "      <td>4</td>\n",
       "      <td>5</td>\n",
       "    </tr>\n",
       "    <tr>\n",
       "      <th>d</th>\n",
       "      <td>6</td>\n",
       "      <td>7</td>\n",
       "      <td>8</td>\n",
       "    </tr>\n",
       "  </tbody>\n",
       "</table>\n",
       "</div>"
      ],
      "text/plain": [
       "   Delhi  Mumbai  Bangalore\n",
       "a      0       1          2\n",
       "c      3       4          5\n",
       "d      6       7          8"
      ]
     },
     "execution_count": 25,
     "metadata": {},
     "output_type": "execute_result"
    }
   ],
   "source": [
    "\n",
    "df\n"
   ]
  },
  {
   "cell_type": "code",
   "execution_count": 27,
   "id": "909c6b9f-70a1-405f-a7dd-b0d3514d34e2",
   "metadata": {},
   "outputs": [
    {
     "data": {
      "text/html": [
       "<div>\n",
       "<style scoped>\n",
       "    .dataframe tbody tr th:only-of-type {\n",
       "        vertical-align: middle;\n",
       "    }\n",
       "\n",
       "    .dataframe tbody tr th {\n",
       "        vertical-align: top;\n",
       "    }\n",
       "\n",
       "    .dataframe thead th {\n",
       "        text-align: right;\n",
       "    }\n",
       "</style>\n",
       "<table border=\"1\" class=\"dataframe\">\n",
       "  <thead>\n",
       "    <tr style=\"text-align: right;\">\n",
       "      <th></th>\n",
       "      <th>Delhi</th>\n",
       "      <th>Mumbai</th>\n",
       "      <th>Kolkata</th>\n",
       "      <th>Bangalore</th>\n",
       "    </tr>\n",
       "  </thead>\n",
       "  <tbody>\n",
       "    <tr>\n",
       "      <th>d</th>\n",
       "      <td>6.0</td>\n",
       "      <td>7.0</td>\n",
       "      <td>NaN</td>\n",
       "      <td>8.0</td>\n",
       "    </tr>\n",
       "    <tr>\n",
       "      <th>c</th>\n",
       "      <td>3.0</td>\n",
       "      <td>4.0</td>\n",
       "      <td>NaN</td>\n",
       "      <td>5.0</td>\n",
       "    </tr>\n",
       "    <tr>\n",
       "      <th>b</th>\n",
       "      <td>NaN</td>\n",
       "      <td>NaN</td>\n",
       "      <td>NaN</td>\n",
       "      <td>NaN</td>\n",
       "    </tr>\n",
       "    <tr>\n",
       "      <th>a</th>\n",
       "      <td>0.0</td>\n",
       "      <td>1.0</td>\n",
       "      <td>NaN</td>\n",
       "      <td>2.0</td>\n",
       "    </tr>\n",
       "  </tbody>\n",
       "</table>\n",
       "</div>"
      ],
      "text/plain": [
       "   Delhi  Mumbai  Kolkata  Bangalore\n",
       "d    6.0     7.0      NaN        8.0\n",
       "c    3.0     4.0      NaN        5.0\n",
       "b    NaN     NaN      NaN        NaN\n",
       "a    0.0     1.0      NaN        2.0"
      ]
     },
     "execution_count": 27,
     "metadata": {},
     "output_type": "execute_result"
    }
   ],
   "source": [
    "\n",
    "df_row_column_reindexed = df.reindex(index=['d', 'c', 'b','a'], columns=['Delhi', 'Mumbai', 'Kolkata', 'Bangalore'])\n",
    "df_row_column_reindexed\n"
   ]
  },
  {
   "cell_type": "markdown",
   "id": "23d8f74b-38aa-4f48-b1ef-344a8d5568a8",
   "metadata": {
    "jp-MarkdownHeadingCollapsed": true
   },
   "source": [
    "\n",
    "<br>\n",
    "\n",
    "###### <code style=\"color: white; background-color: #16ca27; font-size: 1rem; padding: 1px;\">&nbsp;▷ &nbsp;Reindexing through <u>axis</u>&nbsp;</code>\n"
   ]
  },
  {
   "cell_type": "markdown",
   "id": "e3a64567-bc10-4797-9280-40d93ab466ba",
   "metadata": {},
   "source": [
    "\n",
    "<span style=\"margin-left: 41px; color: #44d611;\">Another way to <strong>reindex a particular axis</strong> is to pass the new axis labels as a positional argument and then specify the axis to reindex with the axis keyword :</span> \n",
    "\n",
    "<span style=\"color:red; margin-left: 43px;\"><font size=\"+1\">↳</font> &nbsp;reindexing &nbsp;the &nbsp;<strong>rows</strong> &nbsp;axis</span>\n"
   ]
  },
  {
   "cell_type": "code",
   "execution_count": 38,
   "id": "a08b3cd4-6af0-4552-9dc3-601ae6cd586c",
   "metadata": {},
   "outputs": [
    {
     "name": "stdout",
     "output_type": "stream",
     "text": [
      "Original DataFrame -------> \n",
      "   Delhi  Mumbai  Bangalore\n",
      "a      0       1          2\n",
      "c      3       4          5\n",
      "d      6       7          8\n",
      "\n",
      "\n",
      "Rowwise Reindexed DataFrame -------> \n",
      "   Delhi  Mumbai  Bangalore\n",
      "a    0.0     1.0        2.0\n",
      "b    NaN     NaN        NaN\n",
      "c    3.0     4.0        5.0\n",
      "d    6.0     7.0        8.0\n"
     ]
    }
   ],
   "source": [
    "\n",
    "print('Original DataFrame -------> ')\n",
    "print(df)\n",
    "\n",
    "\n",
    "indices = [\"a\", \"b\", \"c\", \"d\"]\n",
    "df_row_reindexed = df.reindex(indices, axis=\"rows\")\n",
    "print('\\n\\nRowwise Reindexed DataFrame -------> ')\n",
    "print(df_row_reindexed)\n"
   ]
  },
  {
   "cell_type": "markdown",
   "id": "d2ea1cc8-d50b-4b7d-8f9c-f50659ce7cd0",
   "metadata": {},
   "source": [
    "<br>\n",
    "\n",
    "<span style=\"color:red; margin-left: 43px;\"><font size=\"+1\">↳</font> &nbsp;reindexing &nbsp;the &nbsp;<strong>columns</strong> &nbsp;axis</span>\n"
   ]
  },
  {
   "cell_type": "code",
   "execution_count": 43,
   "id": "2928c728-a695-400a-be4b-4558a5c6cf95",
   "metadata": {},
   "outputs": [
    {
     "name": "stdout",
     "output_type": "stream",
     "text": [
      "Original DataFrame -------> \n",
      "   Delhi  Mumbai  Bangalore\n",
      "a      0       1          2\n",
      "c      3       4          5\n",
      "d      6       7          8\n",
      "\n",
      "\n",
      "Columnwise Reindexed DataFrame -------> \n",
      "   Mumbai  Kolkata  Bangalore\n",
      "a       1      NaN          2\n",
      "c       4      NaN          5\n",
      "d       7      NaN          8\n"
     ]
    }
   ],
   "source": [
    "\n",
    "print('Original DataFrame -------> ')\n",
    "print(df)\n",
    "\n",
    "\n",
    "states = [\"Mumbai\", \"Kolkata\", \"Bangalore\"]\n",
    "df_reindexed = df.reindex(states, axis=\"columns\")\n",
    "print('\\n\\nColumnwise Reindexed DataFrame -------> ')\n",
    "print(df_reindexed)\n"
   ]
  },
  {
   "cell_type": "markdown",
   "id": "1a2244e6-1cce-4a30-9cbd-6e6720afa60a",
   "metadata": {},
   "source": [
    "<BR>\n",
    "\n",
    "<div style=\"margin-left: 50px;\">\n",
    "\n",
    "&nbsp;<span style=\"color: blue;\"><strong>NOTE &nbsp;-</strong></span> \n",
    "\n",
    "![](../media/pandas_reindex_2.PNG)\n",
    "\n",
    "</div>"
   ]
  },
  {
   "cell_type": "markdown",
   "id": "49ed57f2-b295-4597-9280-0412de4cfcc3",
   "metadata": {
    "jp-MarkdownHeadingCollapsed": true
   },
   "source": [
    "\n",
    "<br>\n",
    "\n",
    "###### <code style=\"color: white; background-color: #16ca27; font-size: 1rem; padding: 1px;\">&nbsp;▷ &nbsp;Reindexing with intepolation (<u>fill</u>) methods&nbsp;</code>\n"
   ]
  },
  {
   "cell_type": "markdown",
   "id": "142b792a-d966-4763-8360-255372ed1e02",
   "metadata": {},
   "source": [
    "\n",
    "<div style=\"color: #44d611; margin-left: 41px;\">\n",
    "\n",
    "For ordered data like time series, you may want to do some interpolation or filling of values when reindexing. \n",
    "<br> The &nbsp;<code style=\"background-color: #ffcd6f;\">method</code>&nbsp; option allows us to do this, using a method such as &nbsp;<code style=\"background-color: #ffcd6f;\">ffill</code> , which <strong>forward-fills</strong> the values :</span>\n",
    "\n",
    "</div>\n",
    "\n",
    "<br>\n",
    "\n",
    "<code style=\"background-color: #eed4ff; margin-left: 45px;\">Example - 1</code> &nbsp;&nbsp;<span style=\"color: red;\">(dataframe)</span>"
   ]
  },
  {
   "cell_type": "code",
   "execution_count": 73,
   "id": "2a71d5bd-b42b-4b56-8820-07bc41357d51",
   "metadata": {},
   "outputs": [
    {
     "data": {
      "text/html": [
       "<div>\n",
       "<style scoped>\n",
       "    .dataframe tbody tr th:only-of-type {\n",
       "        vertical-align: middle;\n",
       "    }\n",
       "\n",
       "    .dataframe tbody tr th {\n",
       "        vertical-align: top;\n",
       "    }\n",
       "\n",
       "    .dataframe thead th {\n",
       "        text-align: right;\n",
       "    }\n",
       "</style>\n",
       "<table border=\"1\" class=\"dataframe\">\n",
       "  <thead>\n",
       "    <tr style=\"text-align: right;\">\n",
       "      <th></th>\n",
       "      <th>A</th>\n",
       "    </tr>\n",
       "  </thead>\n",
       "  <tbody>\n",
       "    <tr>\n",
       "      <th>a</th>\n",
       "      <td>1.0</td>\n",
       "    </tr>\n",
       "    <tr>\n",
       "      <th>b</th>\n",
       "      <td>NaN</td>\n",
       "    </tr>\n",
       "    <tr>\n",
       "      <th>c</th>\n",
       "      <td>3.0</td>\n",
       "    </tr>\n",
       "  </tbody>\n",
       "</table>\n",
       "</div>"
      ],
      "text/plain": [
       "     A\n",
       "a  1.0\n",
       "b  NaN\n",
       "c  3.0"
      ]
     },
     "execution_count": 73,
     "metadata": {},
     "output_type": "execute_result"
    }
   ],
   "source": [
    "\n",
    "df = pd.DataFrame({'A': [1, np.nan, 3]}, index=['a', 'b', 'c'])\n",
    "df\n"
   ]
  },
  {
   "cell_type": "code",
   "execution_count": 74,
   "id": "718713fd-8b99-4624-9952-337b6cd7125e",
   "metadata": {},
   "outputs": [
    {
     "name": "stdout",
     "output_type": "stream",
     "text": [
      "Reindexed DataFrame with Forward Fill:\n"
     ]
    },
    {
     "data": {
      "text/html": [
       "<div>\n",
       "<style scoped>\n",
       "    .dataframe tbody tr th:only-of-type {\n",
       "        vertical-align: middle;\n",
       "    }\n",
       "\n",
       "    .dataframe tbody tr th {\n",
       "        vertical-align: top;\n",
       "    }\n",
       "\n",
       "    .dataframe thead th {\n",
       "        text-align: right;\n",
       "    }\n",
       "</style>\n",
       "<table border=\"1\" class=\"dataframe\">\n",
       "  <thead>\n",
       "    <tr style=\"text-align: right;\">\n",
       "      <th></th>\n",
       "      <th>A</th>\n",
       "    </tr>\n",
       "  </thead>\n",
       "  <tbody>\n",
       "    <tr>\n",
       "      <th>a</th>\n",
       "      <td>1.0</td>\n",
       "    </tr>\n",
       "    <tr>\n",
       "      <th>b</th>\n",
       "      <td>NaN</td>\n",
       "    </tr>\n",
       "    <tr>\n",
       "      <th>d</th>\n",
       "      <td>3.0</td>\n",
       "    </tr>\n",
       "  </tbody>\n",
       "</table>\n",
       "</div>"
      ],
      "text/plain": [
       "     A\n",
       "a  1.0\n",
       "b  NaN\n",
       "d  3.0"
      ]
     },
     "execution_count": 74,
     "metadata": {},
     "output_type": "execute_result"
    }
   ],
   "source": [
    "\n",
    "df_reindexed = df.reindex(['a', 'b', 'd'], method='ffill')          # Reindex with a missing row and forward fill\n",
    "print(\"Reindexed DataFrame with Forward Fill:\")\n",
    "df_reindexed\n"
   ]
  },
  {
   "cell_type": "markdown",
   "id": "df7542b0-3d3f-44ba-ae7b-b85a09b1aec2",
   "metadata": {},
   "source": [
    "<code style=\"background-color: #eed4ff; margin-left: 45px;\">Example - 2</code> &nbsp;&nbsp;<span style=\"color: red;\">(series)</span>"
   ]
  },
  {
   "cell_type": "code",
   "execution_count": 53,
   "id": "27f370cb-ce69-4308-9ffe-d226c984f7cd",
   "metadata": {},
   "outputs": [
    {
     "data": {
      "text/plain": [
       "0      blue\n",
       "2    purple\n",
       "4    yellow\n",
       "dtype: object"
      ]
     },
     "execution_count": 53,
     "metadata": {},
     "output_type": "execute_result"
    }
   ],
   "source": [
    "\n",
    "obj = pd.Series([\"blue\", \"purple\", \"yellow\"], index=[0, 2, 4])\n",
    "obj\n"
   ]
  },
  {
   "cell_type": "code",
   "execution_count": 68,
   "id": "9972d340-621c-4d78-9579-d5c2227270b5",
   "metadata": {},
   "outputs": [
    {
     "data": {
      "text/plain": [
       "0      blue\n",
       "1      blue\n",
       "2    purple\n",
       "3    purple\n",
       "4    yellow\n",
       "5    yellow\n",
       "dtype: object"
      ]
     },
     "execution_count": 68,
     "metadata": {},
     "output_type": "execute_result"
    }
   ],
   "source": [
    "\n",
    "obj.reindex(np.arange(6), method=\"ffill\")                             # ffill  ------>  forward fill missing values\n"
   ]
  },
  {
   "cell_type": "code",
   "execution_count": 69,
   "id": "866b4224-8b54-4e51-905b-bea5b6177a20",
   "metadata": {},
   "outputs": [
    {
     "data": {
      "text/plain": [
       "0      blue\n",
       "1    purple\n",
       "2    purple\n",
       "3    yellow\n",
       "4    yellow\n",
       "5       NaN\n",
       "dtype: object"
      ]
     },
     "execution_count": 69,
     "metadata": {},
     "output_type": "execute_result"
    }
   ],
   "source": [
    "\n",
    "obj.reindex(np.arange(6), method=\"bfill\")                             # bfill  ------>  backward fill missing values\n"
   ]
  },
  {
   "cell_type": "markdown",
   "id": "dbc833ff-24a6-4017-9ba0-b8c1de45a56c",
   "metadata": {
    "jp-MarkdownHeadingCollapsed": true
   },
   "source": [
    "\n",
    "<br>\n",
    "\n",
    "###### <code style=\"color: white; background-color: #16ca27; font-size: 1rem; padding: 1px;\">&nbsp;▷ &nbsp;Reindexing with <u>loc</u> operator&nbsp;</code>\n"
   ]
  },
  {
   "cell_type": "markdown",
   "id": "92373bdf-68f1-44bc-9cde-ae5fe7773887",
   "metadata": {},
   "source": [
    "<br>\n",
    "\n",
    "<div style=\"margin-left: 41px; color: #a245ff;\">As we'll explore later in &nbsp;<code style=\"background-color: blue; color: white;\">Selection on DataFrame with loc and iloc</code> , &nbsp;you can also reindex by using the &nbsp;<code style=\"background-color: yellow;\">loc</code>&nbsp; operator, and many users prefer to always do it this way. &nbsp;<br><br><span style=\"color: #44d611;\">⭐ &nbsp;However this works only if all of the new index labels <strong>already exist</strong> in the DataFrame ( whereas <u>reindex will insert missing data for new labels</u> )</span></div>"
   ]
  },
  {
   "cell_type": "code",
   "execution_count": 3,
   "id": "c8adc262-91d8-4545-ac44-9907555b2849",
   "metadata": {},
   "outputs": [
    {
     "data": {
      "text/html": [
       "<div>\n",
       "<style scoped>\n",
       "    .dataframe tbody tr th:only-of-type {\n",
       "        vertical-align: middle;\n",
       "    }\n",
       "\n",
       "    .dataframe tbody tr th {\n",
       "        vertical-align: top;\n",
       "    }\n",
       "\n",
       "    .dataframe thead th {\n",
       "        text-align: right;\n",
       "    }\n",
       "</style>\n",
       "<table border=\"1\" class=\"dataframe\">\n",
       "  <thead>\n",
       "    <tr style=\"text-align: right;\">\n",
       "      <th></th>\n",
       "      <th>Delhi</th>\n",
       "      <th>Mumbai</th>\n",
       "      <th>Bangalore</th>\n",
       "    </tr>\n",
       "  </thead>\n",
       "  <tbody>\n",
       "    <tr>\n",
       "      <th>a</th>\n",
       "      <td>0</td>\n",
       "      <td>1</td>\n",
       "      <td>2</td>\n",
       "    </tr>\n",
       "    <tr>\n",
       "      <th>c</th>\n",
       "      <td>3</td>\n",
       "      <td>4</td>\n",
       "      <td>5</td>\n",
       "    </tr>\n",
       "    <tr>\n",
       "      <th>d</th>\n",
       "      <td>6</td>\n",
       "      <td>7</td>\n",
       "      <td>8</td>\n",
       "    </tr>\n",
       "  </tbody>\n",
       "</table>\n",
       "</div>"
      ],
      "text/plain": [
       "   Delhi  Mumbai  Bangalore\n",
       "a      0       1          2\n",
       "c      3       4          5\n",
       "d      6       7          8"
      ]
     },
     "execution_count": 3,
     "metadata": {},
     "output_type": "execute_result"
    }
   ],
   "source": [
    "\n",
    "df = pd.DataFrame(np.arange(9).reshape((3, 3)), index=[\"a\", \"c\", \"d\"], columns=[\"Delhi\", \"Mumbai\", \"Bangalore\"])\n",
    "df\n"
   ]
  },
  {
   "cell_type": "code",
   "execution_count": 4,
   "id": "c50c04d3-ba55-4b6a-9b53-3bb7b4d943ae",
   "metadata": {},
   "outputs": [
    {
     "data": {
      "text/html": [
       "<div>\n",
       "<style scoped>\n",
       "    .dataframe tbody tr th:only-of-type {\n",
       "        vertical-align: middle;\n",
       "    }\n",
       "\n",
       "    .dataframe tbody tr th {\n",
       "        vertical-align: top;\n",
       "    }\n",
       "\n",
       "    .dataframe thead th {\n",
       "        text-align: right;\n",
       "    }\n",
       "</style>\n",
       "<table border=\"1\" class=\"dataframe\">\n",
       "  <thead>\n",
       "    <tr style=\"text-align: right;\">\n",
       "      <th></th>\n",
       "      <th>Bangalore</th>\n",
       "      <th>Mumbai</th>\n",
       "    </tr>\n",
       "  </thead>\n",
       "  <tbody>\n",
       "    <tr>\n",
       "      <th>d</th>\n",
       "      <td>8</td>\n",
       "      <td>7</td>\n",
       "    </tr>\n",
       "    <tr>\n",
       "      <th>c</th>\n",
       "      <td>5</td>\n",
       "      <td>4</td>\n",
       "    </tr>\n",
       "    <tr>\n",
       "      <th>a</th>\n",
       "      <td>2</td>\n",
       "      <td>1</td>\n",
       "    </tr>\n",
       "  </tbody>\n",
       "</table>\n",
       "</div>"
      ],
      "text/plain": [
       "   Bangalore  Mumbai\n",
       "d          8       7\n",
       "c          5       4\n",
       "a          2       1"
      ]
     },
     "execution_count": 4,
     "metadata": {},
     "output_type": "execute_result"
    }
   ],
   "source": [
    "\n",
    "df.loc[[\"d\", \"c\", \"a\"], [\"Bangalore\", \"Mumbai\"]]                           #  df.loc[[row_array],[column_array]]\n"
   ]
  },
  {
   "cell_type": "markdown",
   "id": "2d533b7d-f505-469c-8f18-db90af6bdcd4",
   "metadata": {},
   "source": [
    "\n",
    "<br>\n",
    "\n",
    "###### <code style=\"color: white; background-color: #16ca27; font-size: 1rem; padding: 1px;\">&nbsp;▷ &nbsp;Reindexing with <u>MultiIndex</u>&nbsp;</code>\n"
   ]
  },
  {
   "cell_type": "code",
   "execution_count": 26,
   "id": "82f96c62-8fd8-402a-82cc-4ea89e84b739",
   "metadata": {},
   "outputs": [
    {
     "data": {
      "text/plain": [
       "MultiIndex([('A', 1),\n",
       "            ('A', 2),\n",
       "            ('B', 1)],\n",
       "           names=['Group', 'Subgroup'])"
      ]
     },
     "execution_count": 26,
     "metadata": {},
     "output_type": "execute_result"
    }
   ],
   "source": [
    "\n",
    "letter_number_array = [['A', 'A', 'B'], [1, 2, 1]]\n",
    "index = pd.MultiIndex.from_arrays(letter_number_array, names=('Group', 'Subgroup'))\n",
    "index\n"
   ]
  },
  {
   "cell_type": "code",
   "execution_count": 28,
   "id": "50f0dd5d-b573-4648-94c0-806d91e44450",
   "metadata": {},
   "outputs": [
    {
     "data": {
      "text/html": [
       "<div>\n",
       "<style scoped>\n",
       "    .dataframe tbody tr th:only-of-type {\n",
       "        vertical-align: middle;\n",
       "    }\n",
       "\n",
       "    .dataframe tbody tr th {\n",
       "        vertical-align: top;\n",
       "    }\n",
       "\n",
       "    .dataframe thead th {\n",
       "        text-align: right;\n",
       "    }\n",
       "</style>\n",
       "<table border=\"1\" class=\"dataframe\">\n",
       "  <thead>\n",
       "    <tr style=\"text-align: right;\">\n",
       "      <th></th>\n",
       "      <th></th>\n",
       "      <th>Value</th>\n",
       "    </tr>\n",
       "    <tr>\n",
       "      <th>Group</th>\n",
       "      <th>Subgroup</th>\n",
       "      <th></th>\n",
       "    </tr>\n",
       "  </thead>\n",
       "  <tbody>\n",
       "    <tr>\n",
       "      <th rowspan=\"2\" valign=\"top\">A</th>\n",
       "      <th>1</th>\n",
       "      <td>10</td>\n",
       "    </tr>\n",
       "    <tr>\n",
       "      <th>2</th>\n",
       "      <td>20</td>\n",
       "    </tr>\n",
       "    <tr>\n",
       "      <th>B</th>\n",
       "      <th>1</th>\n",
       "      <td>30</td>\n",
       "    </tr>\n",
       "  </tbody>\n",
       "</table>\n",
       "</div>"
      ],
      "text/plain": [
       "                Value\n",
       "Group Subgroup       \n",
       "A     1            10\n",
       "      2            20\n",
       "B     1            30"
      ]
     },
     "execution_count": 28,
     "metadata": {},
     "output_type": "execute_result"
    }
   ],
   "source": [
    "\n",
    "df = pd.DataFrame({\"Value\": [10, 20, 30]}, index=index)\n",
    "df                                                                                                      # Original MultiIndex DataFrame\n"
   ]
  },
  {
   "cell_type": "code",
   "execution_count": 29,
   "id": "50b9ac6a-0f92-47e9-9822-b62321ab50d1",
   "metadata": {},
   "outputs": [
    {
     "data": {
      "text/html": [
       "<div>\n",
       "<style scoped>\n",
       "    .dataframe tbody tr th:only-of-type {\n",
       "        vertical-align: middle;\n",
       "    }\n",
       "\n",
       "    .dataframe tbody tr th {\n",
       "        vertical-align: top;\n",
       "    }\n",
       "\n",
       "    .dataframe thead th {\n",
       "        text-align: right;\n",
       "    }\n",
       "</style>\n",
       "<table border=\"1\" class=\"dataframe\">\n",
       "  <thead>\n",
       "    <tr style=\"text-align: right;\">\n",
       "      <th></th>\n",
       "      <th></th>\n",
       "      <th>Value</th>\n",
       "    </tr>\n",
       "    <tr>\n",
       "      <th>Group</th>\n",
       "      <th>Subgroup</th>\n",
       "      <th></th>\n",
       "    </tr>\n",
       "  </thead>\n",
       "  <tbody>\n",
       "    <tr>\n",
       "      <th rowspan=\"2\" valign=\"top\">A</th>\n",
       "      <th>1</th>\n",
       "      <td>10.0</td>\n",
       "    </tr>\n",
       "    <tr>\n",
       "      <th>3</th>\n",
       "      <td>NaN</td>\n",
       "    </tr>\n",
       "    <tr>\n",
       "      <th>B</th>\n",
       "      <th>2</th>\n",
       "      <td>NaN</td>\n",
       "    </tr>\n",
       "  </tbody>\n",
       "</table>\n",
       "</div>"
      ],
      "text/plain": [
       "                Value\n",
       "Group Subgroup       \n",
       "A     1          10.0\n",
       "      3           NaN\n",
       "B     2           NaN"
      ]
     },
     "execution_count": 29,
     "metadata": {},
     "output_type": "execute_result"
    }
   ],
   "source": [
    "\n",
    "# Reindex MultiIndex\n",
    "\n",
    "new_letter_number_array = [['A', 'A', 'B'], [1, 3, 2]]\n",
    "new_index = pd.MultiIndex.from_arrays(new_letter_number_array, names=('Group', 'Subgroup'))\n",
    "new_df = df.reindex(new_index)\n",
    "new_df                                                                                                  # Reindexed MultiIndex DataFrame\n"
   ]
  },
  {
   "cell_type": "markdown",
   "id": "961e38df-59bc-4489-8689-f9adad7b8daf",
   "metadata": {},
   "source": [
    "<span style=\"color: red;\">Let's &nbsp;summarise &nbsp;it :</span>"
   ]
  },
  {
   "cell_type": "code",
   "execution_count": 36,
   "id": "819bb7f8-c2d4-4b97-a486-0851af2c2933",
   "metadata": {},
   "outputs": [
    {
     "name": "stdout",
     "output_type": "stream",
     "text": [
      "Original MultiIndex DataFrame:\n",
      "                 Value\n",
      "Group Subgroup       \n",
      "A     1            10\n",
      "      2            20\n",
      "B     1            30\n",
      "\n",
      "\n",
      "Reindexed MultiIndex DataFrame:\n",
      "                 Value\n",
      "Group Subgroup       \n",
      "A     1          10.0\n",
      "      3           NaN\n",
      "B     2           NaN\n"
     ]
    }
   ],
   "source": [
    "\n",
    "index = pd.MultiIndex.from_arrays([['A', 'A', 'B'], [1, 2, 1]], names=('Group', 'Subgroup'))\n",
    "\n",
    "\n",
    "df = pd.DataFrame({\"Value\": [10, 20, 30]}, index=index)\n",
    "print(\"Original MultiIndex DataFrame:\\n\", df)\n",
    "\n",
    "\n",
    "# Reindex MultiIndex\n",
    "new_index = pd.MultiIndex.from_arrays([['A', 'A', 'B'], [1, 3, 2]], names=('Group', 'Subgroup'))\n",
    "new_df = df.reindex(new_index)\n",
    "print(\"\\n\\nReindexed MultiIndex DataFrame:\\n\", new_df)\n"
   ]
  },
  {
   "cell_type": "markdown",
   "id": "4d37c29e-28d0-47a4-9da7-11258d921ddb",
   "metadata": {
    "jp-MarkdownHeadingCollapsed": true
   },
   "source": [
    "\n",
    "##### <span style=\"color: #ffb585;\">----------------------------------------------------------------------------------------------------------------------------------------------------------------------------------------------</span>\n",
    "\n",
    "<span style=\"font-size: 0.9rem; color: black; font-size: 1.3rem;\">🔶</span> &nbsp;&nbsp;<span style=\"color: #f76607;\">Difference between &nbsp;<code style=\"background-color: yellow; padding: 2px;\"><span style=\"font-size: 0.7rem; color: #85929e;\">dataframe</span>.reindex()</code>&nbsp; and &nbsp;<code style=\"background-color: yellow; padding: 2px;\"><span style=\"font-size: 0.7rem; color: #85929e;\">index</span>.reset_index()</code></span> \n"
   ]
  },
  {
   "cell_type": "markdown",
   "id": "5f0fc4c7-04a5-4d97-bd72-912f0360f742",
   "metadata": {},
   "source": [
    "\n",
    "<div style=\"margin-left: 80px;\">\n",
    "\n",
    "![](../media/pandas_reindex_3.PNG)\n",
    "\n",
    "</div>\n"
   ]
  },
  {
   "cell_type": "markdown",
   "id": "20b818b3-776e-45f5-b11a-26e19fe4deb0",
   "metadata": {
    "jp-MarkdownHeadingCollapsed": true
   },
   "source": [
    "<br>\n",
    "\n",
    "### <div style=\"color: black; background-color: #ffe9c8; padding: 10px;\"> <code style=\"font-size: 1.3rem; background-color: #ffe9c8; color: red;\"><strong>Dropping Entries from an Axis</strong></code></div>\n"
   ]
  },
  {
   "cell_type": "markdown",
   "id": "71e897fa-31e5-4a02-890e-5726b2cc252a",
   "metadata": {},
   "source": [
    "\n",
    "Dropping one or more entries from an axis is simple <u>if you <strong>already have</strong> an index array or list without those entries</u> , since you can use the &nbsp;<code style=\"background-color: #9fefff;\">reindex method</code>&nbsp; or &nbsp;<code style=\"background-color: #9fefff;\">.loc-based indexing</code> <br>\n",
    "\n",
    "As that can require a bit of munging and set logic , <span style=\"color: blue;\">dropping entries from an axis (rows or columns) in a pandas <strong>Series</strong> or <strong>DataFrame</strong> can be done using the &nbsp;<code style=\"background-color: yellow;\">drop()</code>&nbsp; method. </span> &nbsp;However it is important to note that <u>this method returns a <strong>new object</strong> with indicated value(s) deleted from an axis</u>.\n"
   ]
  },
  {
   "cell_type": "markdown",
   "id": "7922706e-0c78-4204-b3a5-788cc7463da0",
   "metadata": {
    "jp-MarkdownHeadingCollapsed": true
   },
   "source": [
    "\n",
    "##### <span style=\"color: #ffb585;\">----------------------------------------------------------------------------------------------------------------------------------------------------------------------------------------------</span>\n",
    "\n",
    "<span style=\"font-size: 0.9rem; color: black; font-size: 1.3rem;\">🔶</span> &nbsp;&nbsp;<span style=\"color: #f76607; font-size: 1rem;\">Dropping one or more entry in a <strong>Series</strong></span>\n"
   ]
  },
  {
   "cell_type": "code",
   "execution_count": 50,
   "id": "b83a05dc-0dd8-462f-aa14-0807a44f214e",
   "metadata": {},
   "outputs": [
    {
     "data": {
      "text/plain": [
       "a    0.0\n",
       "b    1.0\n",
       "c    2.0\n",
       "d    3.0\n",
       "e    4.0\n",
       "dtype: float64"
      ]
     },
     "execution_count": 50,
     "metadata": {},
     "output_type": "execute_result"
    }
   ],
   "source": [
    "\n",
    "obj = pd.Series(np.arange(5.), index=[\"a\", \"b\", \"c\", \"d\", \"e\"])\n",
    "obj\n"
   ]
  },
  {
   "cell_type": "code",
   "execution_count": 48,
   "id": "fed1b47d-2672-4246-b961-65d0492931f9",
   "metadata": {},
   "outputs": [
    {
     "data": {
      "text/plain": [
       "a    0.0\n",
       "b    1.0\n",
       "d    3.0\n",
       "e    4.0\n",
       "dtype: float64"
      ]
     },
     "execution_count": 48,
     "metadata": {},
     "output_type": "execute_result"
    }
   ],
   "source": [
    "\n",
    "new_obj = obj.drop(\"c\")                                     # dropping one entry\n",
    "new_obj\n"
   ]
  },
  {
   "cell_type": "code",
   "execution_count": 49,
   "id": "8246c5f5-5096-42aa-9375-40dbe0c2706f",
   "metadata": {},
   "outputs": [
    {
     "data": {
      "text/plain": [
       "a    0.0\n",
       "b    1.0\n",
       "e    4.0\n",
       "dtype: float64"
      ]
     },
     "execution_count": 49,
     "metadata": {},
     "output_type": "execute_result"
    }
   ],
   "source": [
    "\n",
    "obj.drop([\"d\", \"c\"])                                        # dropping more than one entry\n"
   ]
  },
  {
   "cell_type": "code",
   "execution_count": 43,
   "id": "1c27c041-9291-4511-8e28-40be87d55c8c",
   "metadata": {},
   "outputs": [
    {
     "data": {
      "text/plain": [
       "a    0.0\n",
       "b    1.0\n",
       "c    2.0\n",
       "d    3.0\n",
       "e    4.0\n",
       "dtype: float64"
      ]
     },
     "execution_count": 43,
     "metadata": {},
     "output_type": "execute_result"
    }
   ],
   "source": [
    "\n",
    "obj\n"
   ]
  },
  {
   "cell_type": "markdown",
   "id": "1ecba55f-9123-4db3-8357-b56cd3bd9dfd",
   "metadata": {
    "jp-MarkdownHeadingCollapsed": true
   },
   "source": [
    "\n",
    "##### <span style=\"color: #ffb585;\">----------------------------------------------------------------------------------------------------------------------------------------------------------------------------------------------</span>\n",
    "\n",
    "<span style=\"font-size: 0.9rem; color: black; font-size: 1.3rem;\">🔶</span> &nbsp;&nbsp;<span style=\"color: #f76607; font-size: 1rem;\">Dropping one or more entry in a <strong>DataFrame</strong></span>\n"
   ]
  },
  {
   "cell_type": "markdown",
   "id": "c14ab766-a5c5-4532-a514-ae8ae825cc13",
   "metadata": {},
   "source": [
    "\n",
    "<div style=\"margin-left: 75px;\">\n",
    "\n",
    "![](../media/pandas_drop_2.PNG)\n",
    "\n",
    "</div>\n"
   ]
  },
  {
   "cell_type": "markdown",
   "id": "ae6122fe-812b-4954-bb6a-ba802b41d4bf",
   "metadata": {},
   "source": [
    "<br>\n",
    "\n",
    "<span style=\"color: #07d129;\">With DataFrame, index values can be deleted from either axis.</span> &nbsp;To illustrate this, consider the following dataframe for an example :\n"
   ]
  },
  {
   "cell_type": "code",
   "execution_count": 15,
   "id": "bbf6f60b-cf1e-4ec1-a913-3d3fbbdfd988",
   "metadata": {},
   "outputs": [
    {
     "data": {
      "text/html": [
       "<div>\n",
       "<style scoped>\n",
       "    .dataframe tbody tr th:only-of-type {\n",
       "        vertical-align: middle;\n",
       "    }\n",
       "\n",
       "    .dataframe tbody tr th {\n",
       "        vertical-align: top;\n",
       "    }\n",
       "\n",
       "    .dataframe thead th {\n",
       "        text-align: right;\n",
       "    }\n",
       "</style>\n",
       "<table border=\"1\" class=\"dataframe\">\n",
       "  <thead>\n",
       "    <tr style=\"text-align: right;\">\n",
       "      <th></th>\n",
       "      <th>one</th>\n",
       "      <th>two</th>\n",
       "      <th>three</th>\n",
       "      <th>four</th>\n",
       "    </tr>\n",
       "  </thead>\n",
       "  <tbody>\n",
       "    <tr>\n",
       "      <th>Mumbai</th>\n",
       "      <td>0</td>\n",
       "      <td>1</td>\n",
       "      <td>2</td>\n",
       "      <td>3</td>\n",
       "    </tr>\n",
       "    <tr>\n",
       "      <th>Delhi</th>\n",
       "      <td>4</td>\n",
       "      <td>5</td>\n",
       "      <td>6</td>\n",
       "      <td>7</td>\n",
       "    </tr>\n",
       "    <tr>\n",
       "      <th>Bangalore</th>\n",
       "      <td>8</td>\n",
       "      <td>9</td>\n",
       "      <td>10</td>\n",
       "      <td>11</td>\n",
       "    </tr>\n",
       "    <tr>\n",
       "      <th>Kolkata</th>\n",
       "      <td>12</td>\n",
       "      <td>13</td>\n",
       "      <td>14</td>\n",
       "      <td>15</td>\n",
       "    </tr>\n",
       "  </tbody>\n",
       "</table>\n",
       "</div>"
      ],
      "text/plain": [
       "           one  two  three  four\n",
       "Mumbai       0    1      2     3\n",
       "Delhi        4    5      6     7\n",
       "Bangalore    8    9     10    11\n",
       "Kolkata     12   13     14    15"
      ]
     },
     "execution_count": 15,
     "metadata": {},
     "output_type": "execute_result"
    }
   ],
   "source": [
    "\n",
    "df = pd.DataFrame(np.arange(16).reshape((4, 4)), \n",
    "                    index=[\"Mumbai\", \"Delhi\", \"Bangalore\", \"Kolkata\"], \n",
    "                    columns=[\"one\", \"two\", \"three\", \"four\"])\n",
    "\n",
    "df\n"
   ]
  },
  {
   "cell_type": "markdown",
   "id": "569ad9bf-43d9-48e5-aa57-5804a97746eb",
   "metadata": {},
   "source": [
    "<br>\n",
    "\n",
    "![](../media/pandas_drop_3.PNG)\n",
    "\n",
    "<span style=\"color: #a245ff;\">However the original &nbsp;<code style=\"background-color: #f3d6ff;\">df</code>&nbsp; remains unchanged.</span>"
   ]
  },
  {
   "cell_type": "markdown",
   "id": "c979f290-871f-4c23-b669-9ad38b4a08ea",
   "metadata": {},
   "source": [
    "\n",
    "<br>\n",
    "\n",
    "![](../media/pandas_drop_4.PNG)\n"
   ]
  },
  {
   "cell_type": "markdown",
   "id": "229abeba-9701-4e57-b62f-5fa8f1bd4c1e",
   "metadata": {},
   "source": [
    "<span style=\"color: #a245ff;\">However the original &nbsp;<code style=\"background-color: #f3d6ff;\">df</code>&nbsp; remains unchanged.</span>"
   ]
  },
  {
   "cell_type": "markdown",
   "id": "1df67c36-c836-4f17-af15-5e7897866282",
   "metadata": {},
   "source": [
    "\n",
    "<br>\n",
    "\n",
    "![](../media/pandas_drop_5.PNG)\n"
   ]
  },
  {
   "cell_type": "markdown",
   "id": "c6dbc4f8-aa8a-42dd-a480-79c3665b6ea3",
   "metadata": {},
   "source": [
    "<span style=\"color: #a245ff;\">As you can see the original &nbsp;<code style=\"background-color: #f3d6ff;\">df</code>&nbsp; is changed.</span>"
   ]
  },
  {
   "cell_type": "markdown",
   "id": "d60010da-e052-496e-b4b5-762a143b7f5e",
   "metadata": {},
   "source": [
    "\n",
    "<br>\n",
    "\n",
    "![](../media/pandas_drop_6.PNG)\n"
   ]
  },
  {
   "cell_type": "code",
   "execution_count": 79,
   "id": "e14fe61b-6a2c-4d83-8945-2dc561cd683f",
   "metadata": {},
   "outputs": [
    {
     "data": {
      "text/html": [
       "<div>\n",
       "<style scoped>\n",
       "    .dataframe tbody tr th:only-of-type {\n",
       "        vertical-align: middle;\n",
       "    }\n",
       "\n",
       "    .dataframe tbody tr th {\n",
       "        vertical-align: top;\n",
       "    }\n",
       "\n",
       "    .dataframe thead th {\n",
       "        text-align: right;\n",
       "    }\n",
       "</style>\n",
       "<table border=\"1\" class=\"dataframe\">\n",
       "  <thead>\n",
       "    <tr style=\"text-align: right;\">\n",
       "      <th></th>\n",
       "      <th></th>\n",
       "      <th>Value</th>\n",
       "    </tr>\n",
       "    <tr>\n",
       "      <th>Group</th>\n",
       "      <th>Subgroup</th>\n",
       "      <th></th>\n",
       "    </tr>\n",
       "  </thead>\n",
       "  <tbody>\n",
       "    <tr>\n",
       "      <th rowspan=\"2\" valign=\"top\">Group1</th>\n",
       "      <th>A</th>\n",
       "      <td>10</td>\n",
       "    </tr>\n",
       "    <tr>\n",
       "      <th>B</th>\n",
       "      <td>20</td>\n",
       "    </tr>\n",
       "    <tr>\n",
       "      <th rowspan=\"2\" valign=\"top\">Group2</th>\n",
       "      <th>A</th>\n",
       "      <td>30</td>\n",
       "    </tr>\n",
       "    <tr>\n",
       "      <th>B</th>\n",
       "      <td>40</td>\n",
       "    </tr>\n",
       "  </tbody>\n",
       "</table>\n",
       "</div>"
      ],
      "text/plain": [
       "                 Value\n",
       "Group  Subgroup       \n",
       "Group1 A            10\n",
       "       B            20\n",
       "Group2 A            30\n",
       "       B            40"
      ]
     },
     "execution_count": 79,
     "metadata": {},
     "output_type": "execute_result"
    }
   ],
   "source": [
    "\n",
    "arrays = [\n",
    "    [\"Group1\", \"Group1\", \"Group2\", \"Group2\"],\n",
    "    [\"A\", \"B\", \"A\", \"B\"]\n",
    "]\n",
    "\n",
    "index = pd.MultiIndex.from_arrays(arrays, names=[\"Group\", \"Subgroup\"])\n",
    "\n",
    "df = pd.DataFrame({\"Value\": [10, 20, 30, 40]}, index=index)\n",
    "\n",
    "df                                                                              # Original MultiIndex DataFrame\n"
   ]
  },
  {
   "cell_type": "code",
   "execution_count": 80,
   "id": "3bf3f644-380d-4bb4-aca3-834540b77fec",
   "metadata": {},
   "outputs": [
    {
     "data": {
      "text/html": [
       "<div>\n",
       "<style scoped>\n",
       "    .dataframe tbody tr th:only-of-type {\n",
       "        vertical-align: middle;\n",
       "    }\n",
       "\n",
       "    .dataframe tbody tr th {\n",
       "        vertical-align: top;\n",
       "    }\n",
       "\n",
       "    .dataframe thead th {\n",
       "        text-align: right;\n",
       "    }\n",
       "</style>\n",
       "<table border=\"1\" class=\"dataframe\">\n",
       "  <thead>\n",
       "    <tr style=\"text-align: right;\">\n",
       "      <th></th>\n",
       "      <th></th>\n",
       "      <th>Value</th>\n",
       "    </tr>\n",
       "    <tr>\n",
       "      <th>Group</th>\n",
       "      <th>Subgroup</th>\n",
       "      <th></th>\n",
       "    </tr>\n",
       "  </thead>\n",
       "  <tbody>\n",
       "    <tr>\n",
       "      <th>Group1</th>\n",
       "      <th>B</th>\n",
       "      <td>20</td>\n",
       "    </tr>\n",
       "    <tr>\n",
       "      <th>Group2</th>\n",
       "      <th>B</th>\n",
       "      <td>40</td>\n",
       "    </tr>\n",
       "  </tbody>\n",
       "</table>\n",
       "</div>"
      ],
      "text/plain": [
       "                 Value\n",
       "Group  Subgroup       \n",
       "Group1 B            20\n",
       "Group2 B            40"
      ]
     },
     "execution_count": 80,
     "metadata": {},
     "output_type": "execute_result"
    }
   ],
   "source": [
    "\n",
    "new_df = df.drop(labels=\"A\", level=\"Subgroup\")                                  # Drop a specific level\n",
    "\n",
    "new_df                                                                          # After dropping 'A' in Subgroup level\n"
   ]
  },
  {
   "cell_type": "markdown",
   "id": "f8526693-2835-411c-8877-477b8e342cde",
   "metadata": {},
   "source": [
    "<br><br>\n",
    "\n",
    "<code style=\"background-color: black; color: white; padding: 5px;\">Example</code>\n"
   ]
  },
  {
   "cell_type": "code",
   "execution_count": 104,
   "id": "a16e0c87-155b-4fd4-9457-3c0c28863c0c",
   "metadata": {},
   "outputs": [
    {
     "data": {
      "text/html": [
       "<div>\n",
       "<style scoped>\n",
       "    .dataframe tbody tr th:only-of-type {\n",
       "        vertical-align: middle;\n",
       "    }\n",
       "\n",
       "    .dataframe tbody tr th {\n",
       "        vertical-align: top;\n",
       "    }\n",
       "\n",
       "    .dataframe thead th {\n",
       "        text-align: right;\n",
       "    }\n",
       "</style>\n",
       "<table border=\"1\" class=\"dataframe\">\n",
       "  <thead>\n",
       "    <tr style=\"text-align: right;\">\n",
       "      <th></th>\n",
       "      <th>Name</th>\n",
       "      <th>Age</th>\n",
       "      <th>City</th>\n",
       "    </tr>\n",
       "  </thead>\n",
       "  <tbody>\n",
       "    <tr>\n",
       "      <th>0</th>\n",
       "      <td>Alice</td>\n",
       "      <td>25</td>\n",
       "      <td>New York</td>\n",
       "    </tr>\n",
       "    <tr>\n",
       "      <th>1</th>\n",
       "      <td>Bob</td>\n",
       "      <td>30</td>\n",
       "      <td>Los Angeles</td>\n",
       "    </tr>\n",
       "    <tr>\n",
       "      <th>2</th>\n",
       "      <td>Charlie</td>\n",
       "      <td>35</td>\n",
       "      <td>Chicago</td>\n",
       "    </tr>\n",
       "  </tbody>\n",
       "</table>\n",
       "</div>"
      ],
      "text/plain": [
       "      Name  Age         City\n",
       "0    Alice   25     New York\n",
       "1      Bob   30  Los Angeles\n",
       "2  Charlie   35      Chicago"
      ]
     },
     "execution_count": 104,
     "metadata": {},
     "output_type": "execute_result"
    }
   ],
   "source": [
    "\n",
    "# create this dataframe everytime you drop in-place\n",
    "\n",
    "df = pd.DataFrame({\n",
    "    \"Name\": [\"Alice\", \"Bob\", \"Charlie\"],\n",
    "    \"Age\": [25, 30, 35],\n",
    "    \"City\": [\"New York\", \"Los Angeles\", \"Chicago\"]\n",
    "})\n",
    "\n",
    "df                                                   # Original DataFrame\n"
   ]
  },
  {
   "cell_type": "markdown",
   "id": "b4bbd338-75af-47ae-86d7-519e2d3f7e40",
   "metadata": {},
   "source": [
    "<br>\n",
    "\n",
    "<span style=\"color: blue;\"><strong>Dropping &nbsp;rows</strong> &nbsp;&nbsp;&nbsp;&nbsp;&nbsp;=================>&nbsp;&nbsp;&nbsp;&nbsp; To drop the 2nd row of the dataframe</span>\n"
   ]
  },
  {
   "cell_type": "code",
   "execution_count": 105,
   "id": "45cb2216-1669-4bd1-bb8d-353c7f2069ed",
   "metadata": {},
   "outputs": [
    {
     "data": {
      "text/html": [
       "<div>\n",
       "<style scoped>\n",
       "    .dataframe tbody tr th:only-of-type {\n",
       "        vertical-align: middle;\n",
       "    }\n",
       "\n",
       "    .dataframe tbody tr th {\n",
       "        vertical-align: top;\n",
       "    }\n",
       "\n",
       "    .dataframe thead th {\n",
       "        text-align: right;\n",
       "    }\n",
       "</style>\n",
       "<table border=\"1\" class=\"dataframe\">\n",
       "  <thead>\n",
       "    <tr style=\"text-align: right;\">\n",
       "      <th></th>\n",
       "      <th>Name</th>\n",
       "      <th>Age</th>\n",
       "      <th>City</th>\n",
       "    </tr>\n",
       "  </thead>\n",
       "  <tbody>\n",
       "    <tr>\n",
       "      <th>0</th>\n",
       "      <td>Alice</td>\n",
       "      <td>25</td>\n",
       "      <td>New York</td>\n",
       "    </tr>\n",
       "    <tr>\n",
       "      <th>2</th>\n",
       "      <td>Charlie</td>\n",
       "      <td>35</td>\n",
       "      <td>Chicago</td>\n",
       "    </tr>\n",
       "  </tbody>\n",
       "</table>\n",
       "</div>"
      ],
      "text/plain": [
       "      Name  Age      City\n",
       "0    Alice   25  New York\n",
       "2  Charlie   35   Chicago"
      ]
     },
     "execution_count": 105,
     "metadata": {},
     "output_type": "execute_result"
    }
   ],
   "source": [
    "\n",
    "df = pd.DataFrame({\n",
    "    \"Name\": [\"Alice\", \"Bob\", \"Charlie\"],\n",
    "    \"Age\": [25, 30, 35],\n",
    "    \"City\": [\"New York\", \"Los Angeles\", \"Chicago\"]\n",
    "})\n",
    "\n",
    "\n",
    "# new_df = df.drop(index=1, axis=0)                  # new_df = df.drop(index=1)            # new_df = df.drop(1)           ------>         METHOD 1   \n",
    "new_df = df.drop(index=[1], axis=0)                  # new_df = df.drop(index=[1])          # new_df = df.drop([1])         ------>         METHOD 2  \n",
    "new_df\n"
   ]
  },
  {
   "cell_type": "markdown",
   "id": "182384bc-78ab-4a1c-8904-d1980bf9c99b",
   "metadata": {},
   "source": [
    "<br>\n",
    "\n",
    "<span style=\"color: blue;\"><strong>Dropping &nbsp;rows &nbsp;in-place</strong> &nbsp;&nbsp;&nbsp;&nbsp;&nbsp;===========>&nbsp;&nbsp;&nbsp;&nbsp; To drop the 2nd row of the dataframe in-place</span>\n"
   ]
  },
  {
   "cell_type": "code",
   "execution_count": 106,
   "id": "b880d288-42e1-499c-9e21-c8ddc2d7cbce",
   "metadata": {},
   "outputs": [
    {
     "data": {
      "text/html": [
       "<div>\n",
       "<style scoped>\n",
       "    .dataframe tbody tr th:only-of-type {\n",
       "        vertical-align: middle;\n",
       "    }\n",
       "\n",
       "    .dataframe tbody tr th {\n",
       "        vertical-align: top;\n",
       "    }\n",
       "\n",
       "    .dataframe thead th {\n",
       "        text-align: right;\n",
       "    }\n",
       "</style>\n",
       "<table border=\"1\" class=\"dataframe\">\n",
       "  <thead>\n",
       "    <tr style=\"text-align: right;\">\n",
       "      <th></th>\n",
       "      <th>Name</th>\n",
       "      <th>Age</th>\n",
       "      <th>City</th>\n",
       "    </tr>\n",
       "  </thead>\n",
       "  <tbody>\n",
       "    <tr>\n",
       "      <th>0</th>\n",
       "      <td>Alice</td>\n",
       "      <td>25</td>\n",
       "      <td>New York</td>\n",
       "    </tr>\n",
       "    <tr>\n",
       "      <th>2</th>\n",
       "      <td>Charlie</td>\n",
       "      <td>35</td>\n",
       "      <td>Chicago</td>\n",
       "    </tr>\n",
       "  </tbody>\n",
       "</table>\n",
       "</div>"
      ],
      "text/plain": [
       "      Name  Age      City\n",
       "0    Alice   25  New York\n",
       "2  Charlie   35   Chicago"
      ]
     },
     "execution_count": 106,
     "metadata": {},
     "output_type": "execute_result"
    }
   ],
   "source": [
    "\n",
    "df = pd.DataFrame({\n",
    "    \"Name\": [\"Alice\", \"Bob\", \"Charlie\"],\n",
    "    \"Age\": [25, 30, 35],\n",
    "    \"City\": [\"New York\", \"Los Angeles\", \"Chicago\"]\n",
    "})\n",
    "\n",
    "\n",
    "# df.drop(index=1, axis=0, inplace=True)             # df.drop(1, inplace=True)            --------------------------------------->         METHOD 1\n",
    "df.drop(index=[1], axis=0, inplace=True)             # df.drop([1], inplace=True)          --------------------------------------->         METHOD 2\n",
    "df\n"
   ]
  },
  {
   "cell_type": "markdown",
   "id": "55e7d901-3d26-4495-8c6d-951454f2b696",
   "metadata": {},
   "source": [
    "<br>\n",
    "\n",
    "<span style=\"color: blue;\"><strong>Dropping &nbsp;columns</strong> &nbsp;&nbsp;&nbsp;&nbsp;&nbsp;===============>&nbsp;&nbsp;&nbsp;&nbsp; To drop the 2nd column of the dataframe</span>\n"
   ]
  },
  {
   "cell_type": "code",
   "execution_count": 107,
   "id": "2065d181-f197-4856-b45e-38dbf3028f40",
   "metadata": {},
   "outputs": [
    {
     "data": {
      "text/html": [
       "<div>\n",
       "<style scoped>\n",
       "    .dataframe tbody tr th:only-of-type {\n",
       "        vertical-align: middle;\n",
       "    }\n",
       "\n",
       "    .dataframe tbody tr th {\n",
       "        vertical-align: top;\n",
       "    }\n",
       "\n",
       "    .dataframe thead th {\n",
       "        text-align: right;\n",
       "    }\n",
       "</style>\n",
       "<table border=\"1\" class=\"dataframe\">\n",
       "  <thead>\n",
       "    <tr style=\"text-align: right;\">\n",
       "      <th></th>\n",
       "      <th>Name</th>\n",
       "      <th>City</th>\n",
       "    </tr>\n",
       "  </thead>\n",
       "  <tbody>\n",
       "    <tr>\n",
       "      <th>0</th>\n",
       "      <td>Alice</td>\n",
       "      <td>New York</td>\n",
       "    </tr>\n",
       "    <tr>\n",
       "      <th>1</th>\n",
       "      <td>Bob</td>\n",
       "      <td>Los Angeles</td>\n",
       "    </tr>\n",
       "    <tr>\n",
       "      <th>2</th>\n",
       "      <td>Charlie</td>\n",
       "      <td>Chicago</td>\n",
       "    </tr>\n",
       "  </tbody>\n",
       "</table>\n",
       "</div>"
      ],
      "text/plain": [
       "      Name         City\n",
       "0    Alice     New York\n",
       "1      Bob  Los Angeles\n",
       "2  Charlie      Chicago"
      ]
     },
     "execution_count": 107,
     "metadata": {},
     "output_type": "execute_result"
    }
   ],
   "source": [
    "\n",
    "df = pd.DataFrame({\n",
    "    \"Name\": [\"Alice\", \"Bob\", \"Charlie\"],\n",
    "    \"Age\": [25, 30, 35],\n",
    "    \"City\": [\"New York\", \"Los Angeles\", \"Chicago\"]\n",
    "})\n",
    "\n",
    "\n",
    "# new_df = df.drop(columns='Age', axis=1)                       # new_df = df.drop(columns='Age')            --------------------->         METHOD 1\n",
    "new_df = df.drop(columns=['Age'], axis=1)                       # new_df = df.drop(columns=[\"Age\"])          --------------------->         METHOD 2\n",
    "new_df\n"
   ]
  },
  {
   "cell_type": "markdown",
   "id": "e8587ce0-1c19-420a-8e8f-37feb4bf3217",
   "metadata": {},
   "source": [
    "<br>\n",
    "\n",
    "<span style=\"color: blue;\"><strong>Dropping &nbsp;columns &nbsp;in-place</strong> &nbsp;&nbsp;&nbsp;&nbsp;&nbsp;=========>&nbsp;&nbsp;&nbsp;&nbsp; To drop the 2nd column of the dataframe in-place</span>\n"
   ]
  },
  {
   "cell_type": "code",
   "execution_count": 110,
   "id": "1ced6c83-d20d-4384-ba60-a7287e7c089b",
   "metadata": {},
   "outputs": [
    {
     "data": {
      "text/html": [
       "<div>\n",
       "<style scoped>\n",
       "    .dataframe tbody tr th:only-of-type {\n",
       "        vertical-align: middle;\n",
       "    }\n",
       "\n",
       "    .dataframe tbody tr th {\n",
       "        vertical-align: top;\n",
       "    }\n",
       "\n",
       "    .dataframe thead th {\n",
       "        text-align: right;\n",
       "    }\n",
       "</style>\n",
       "<table border=\"1\" class=\"dataframe\">\n",
       "  <thead>\n",
       "    <tr style=\"text-align: right;\">\n",
       "      <th></th>\n",
       "      <th>Name</th>\n",
       "      <th>City</th>\n",
       "    </tr>\n",
       "  </thead>\n",
       "  <tbody>\n",
       "    <tr>\n",
       "      <th>0</th>\n",
       "      <td>Alice</td>\n",
       "      <td>New York</td>\n",
       "    </tr>\n",
       "    <tr>\n",
       "      <th>1</th>\n",
       "      <td>Bob</td>\n",
       "      <td>Los Angeles</td>\n",
       "    </tr>\n",
       "    <tr>\n",
       "      <th>2</th>\n",
       "      <td>Charlie</td>\n",
       "      <td>Chicago</td>\n",
       "    </tr>\n",
       "  </tbody>\n",
       "</table>\n",
       "</div>"
      ],
      "text/plain": [
       "      Name         City\n",
       "0    Alice     New York\n",
       "1      Bob  Los Angeles\n",
       "2  Charlie      Chicago"
      ]
     },
     "execution_count": 110,
     "metadata": {},
     "output_type": "execute_result"
    }
   ],
   "source": [
    "\n",
    "df = pd.DataFrame({\n",
    "    \"Name\": [\"Alice\", \"Bob\", \"Charlie\"],\n",
    "    \"Age\": [25, 30, 35],\n",
    "    \"City\": [\"New York\", \"Los Angeles\", \"Chicago\"]\n",
    "})\n",
    "\n",
    "\n",
    "# df.drop(columns='Age', axis=1, inplace=True)                  # df.drop(columns='Age', inplace=True)          ------------------>         METHOD 1\n",
    "df.drop(columns=['Age'], axis=1, inplace=True)                  # df.drop(columns=[\"Age\"], inplace=True)        ------------------>         METHOD 2\n",
    "df\n"
   ]
  },
  {
   "cell_type": "markdown",
   "id": "33c2003a-173b-4627-90ce-cffc14b746fe",
   "metadata": {},
   "source": [
    "\n",
    "<br>\n",
    "\n",
    "### <div style=\"color: black; background-color: #ffe9c8; padding: 10px;\"> <code style=\"font-size: 1.3rem; background-color: #ffe9c8; color: red;\"><strong>Indexing, Selection, and Filtering</strong></code></div>\n"
   ]
  },
  {
   "cell_type": "markdown",
   "id": "4e6b71e5-2525-4139-9b68-33429e442c0e",
   "metadata": {
    "jp-MarkdownHeadingCollapsed": true
   },
   "source": [
    "\n",
    "##### <span style=\"color: #ffb585;\">----------------------------------------------------------------------------------------------------------------------------------------------------------------------------------------------</span>\n",
    "\n",
    "<span style=\"font-size: 0.9rem; color: black; font-size: 1.3rem;\">🔶</span> &nbsp;&nbsp;<span style=\"color: #f76607;\">Series indexing ( <code style=\"background-color: #ffdba3;\">obj[...]</code> ) works analogously to NumPy array indexing, except you can use the Series’s index values instead of only integers :</span>"
   ]
  },
  {
   "cell_type": "code",
   "execution_count": 3,
   "id": "69eb3bfa-c45c-436e-92a4-6c6103214913",
   "metadata": {},
   "outputs": [
    {
     "data": {
      "text/plain": [
       "a    0.0\n",
       "b    1.0\n",
       "c    2.0\n",
       "d    3.0\n",
       "dtype: float64"
      ]
     },
     "execution_count": 3,
     "metadata": {},
     "output_type": "execute_result"
    }
   ],
   "source": [
    "\n",
    "obj = pd.Series(np.arange(4.), index=[\"a\", \"b\", \"c\", \"d\"])\n",
    "obj\n"
   ]
  },
  {
   "cell_type": "code",
   "execution_count": 4,
   "id": "b19ffe9d-6f88-4334-af34-c3556b87af5b",
   "metadata": {},
   "outputs": [
    {
     "data": {
      "text/plain": [
       "1.0"
      ]
     },
     "execution_count": 4,
     "metadata": {},
     "output_type": "execute_result"
    }
   ],
   "source": [
    "\n",
    "obj[\"b\"]\n"
   ]
  },
  {
   "cell_type": "code",
   "execution_count": 5,
   "id": "5f1162ae-a035-404d-a282-2f7432f40a1d",
   "metadata": {},
   "outputs": [
    {
     "data": {
      "text/plain": [
       "1.0"
      ]
     },
     "execution_count": 5,
     "metadata": {},
     "output_type": "execute_result"
    }
   ],
   "source": [
    "\n",
    "obj[1]\n"
   ]
  },
  {
   "cell_type": "code",
   "execution_count": 6,
   "id": "ad18b5c3-dd5c-4d25-a626-852b77b97189",
   "metadata": {},
   "outputs": [
    {
     "data": {
      "text/plain": [
       "c    2.0\n",
       "d    3.0\n",
       "dtype: float64"
      ]
     },
     "execution_count": 6,
     "metadata": {},
     "output_type": "execute_result"
    }
   ],
   "source": [
    "\n",
    "obj[2:4]\n"
   ]
  },
  {
   "cell_type": "code",
   "execution_count": 7,
   "id": "4a80c150-dfa5-4de8-b29a-129a35ae956a",
   "metadata": {},
   "outputs": [
    {
     "data": {
      "text/plain": [
       "b    1.0\n",
       "a    0.0\n",
       "d    3.0\n",
       "dtype: float64"
      ]
     },
     "execution_count": 7,
     "metadata": {},
     "output_type": "execute_result"
    }
   ],
   "source": [
    "\n",
    "obj[[\"b\", \"a\", \"d\"]]\n"
   ]
  },
  {
   "cell_type": "code",
   "execution_count": 8,
   "id": "f8195870-cb79-40b1-a73d-70b5aa321bc1",
   "metadata": {},
   "outputs": [
    {
     "data": {
      "text/plain": [
       "b    1.0\n",
       "d    3.0\n",
       "dtype: float64"
      ]
     },
     "execution_count": 8,
     "metadata": {},
     "output_type": "execute_result"
    }
   ],
   "source": [
    "\n",
    "obj[[1, 3]]\n"
   ]
  },
  {
   "cell_type": "code",
   "execution_count": 9,
   "id": "64392ad5-618a-4e6a-a616-2087fff6e51b",
   "metadata": {},
   "outputs": [
    {
     "data": {
      "text/plain": [
       "a    0.0\n",
       "b    1.0\n",
       "dtype: float64"
      ]
     },
     "execution_count": 9,
     "metadata": {},
     "output_type": "execute_result"
    }
   ],
   "source": [
    "\n",
    "obj[obj < 2]\n"
   ]
  },
  {
   "cell_type": "markdown",
   "id": "25b8b82e-1ecc-4edb-9ba1-0d654730fb41",
   "metadata": {
    "jp-MarkdownHeadingCollapsed": true
   },
   "source": [
    "\n",
    "##### <span style=\"color: #ffb585;\">----------------------------------------------------------------------------------------------------------------------------------------------------------------------------------------------</span>\n",
    "\n",
    "<span style=\"font-size: 0.9rem; color: black; font-size: 1.3rem;\">🔶</span> &nbsp;&nbsp;<span style=\"color: #f76607;\">While you can select data by label this way, <strong>the preferred way to select index values is with the special</strong> &nbsp;<code style=\"background-color: yellow;\">loc</code>&nbsp; <strong>operator</strong> &nbsp;:</span>\n"
   ]
  },
  {
   "cell_type": "code",
   "execution_count": 10,
   "id": "322a1325-2785-4224-bbaa-8d3e2c28b421",
   "metadata": {},
   "outputs": [
    {
     "data": {
      "text/plain": [
       "b    1.0\n",
       "a    0.0\n",
       "d    3.0\n",
       "dtype: float64"
      ]
     },
     "execution_count": 10,
     "metadata": {},
     "output_type": "execute_result"
    }
   ],
   "source": [
    "\n",
    "obj.loc[[\"b\", \"a\", \"d\"]]\n"
   ]
  },
  {
   "cell_type": "markdown",
   "id": "9f19d430-313d-4be9-a9f5-1338673fa4b7",
   "metadata": {
    "jp-MarkdownHeadingCollapsed": true
   },
   "source": [
    "\n",
    "<br>\n",
    "\n",
    "###### <code style=\"color: white; background-color: #6a7eff; font-size: 0.9rem; padding: 3px;\">▷ &nbsp;Reasons to prefer <span style=\"background-color: white; color: black;\">loc</span> </code>\n"
   ]
  },
  {
   "cell_type": "markdown",
   "id": "c49fe460-e985-4118-9c20-2abb7d476b8a",
   "metadata": {},
   "source": [
    "<br>\n",
    "\n",
    "\n",
    "<div style=\"color: #4c6dff;\">The reason to prefer &nbsp;<code style=\"background-color: yellow;\">loc</code>&nbsp; is because of the different treatment of integers when indexing with &nbsp;<code style=\"background-color: yellow;\">[]</code>&nbsp; <br>\n",
    "Regular &nbsp;<code style=\"background-color: yellow;\">[]</code>-based indexing will treat <strong>integers as labels</strong> if the index contains integers, so the behavior differs depending on the data type of the index <br>\n",
    "For example &nbsp;:</div>\n"
   ]
  },
  {
   "cell_type": "code",
   "execution_count": 29,
   "id": "75cb9b14-92ca-4792-a02c-5ea9249a1f01",
   "metadata": {},
   "outputs": [
    {
     "name": "stdout",
     "output_type": "stream",
     "text": [
      "------------- obj1 -------------\n",
      "2    1\n",
      "0    2\n",
      "1    3\n",
      "dtype: int64\n",
      "\n",
      "------------- obj2 -------------\n",
      "a    1\n",
      "b    2\n",
      "c    3\n",
      "dtype: int64\n"
     ]
    }
   ],
   "source": [
    "\n",
    "obj1 = pd.Series([1, 2, 3], index=[2, 0, 1])\n",
    "obj2 = pd.Series([1, 2, 3], index=[\"a\", \"b\", \"c\"])\n",
    "\n",
    "\n",
    "print('------------- obj1 -------------')\n",
    "print(obj1)\n",
    "print('\\n------------- obj2 -------------')\n",
    "print(obj2)\n"
   ]
  },
  {
   "cell_type": "code",
   "execution_count": 47,
   "id": "a9912d2f-d9f0-48a9-87ac-bf2a569810d0",
   "metadata": {},
   "outputs": [
    {
     "data": {
      "text/plain": [
       "0    2\n",
       "1    3\n",
       "2    1\n",
       "dtype: int64"
      ]
     },
     "execution_count": 47,
     "metadata": {},
     "output_type": "execute_result"
    }
   ],
   "source": [
    "\n",
    "obj1[[0, 1, 2]]                                                   # here obj1 takes [0, 1, 2] as a list of row-labels, not as a list of indices\n"
   ]
  },
  {
   "cell_type": "markdown",
   "id": "d5af0a37-0cd8-45df-843e-6a1ac312efb2",
   "metadata": {},
   "source": [
    "\n",
    "<div style=\"color: #37d26d;\"><font size=\"+2\">↳</font> &nbsp;Since the index of the pandas object &nbsp;<code>obj1</code>&nbsp; is of <strong>integer</strong> type, therefore it takes &nbsp;<code>[0, 1, 2]</code>&nbsp; as a &nbsp;<code style=\"background-color: #3cff80;\">list of row-labels</code> , <span style=\"color: red;\"><u><span style=\"color: #1bc25b;\"><strong>not as a list of indices</span></strong></u></span></div>\n",
    "\n",
    "<br>"
   ]
  },
  {
   "cell_type": "code",
   "execution_count": 138,
   "id": "b809ed94-ebcd-4efa-93a1-00925163db2e",
   "metadata": {},
   "outputs": [
    {
     "data": {
      "text/plain": [
       "a    1\n",
       "b    2\n",
       "c    3\n",
       "dtype: int64"
      ]
     },
     "execution_count": 138,
     "metadata": {},
     "output_type": "execute_result"
    }
   ],
   "source": [
    "\n",
    "obj2[[0, 1, 2]]\n"
   ]
  },
  {
   "cell_type": "markdown",
   "id": "b7aba279-2d33-4294-ba0a-59268ca25be6",
   "metadata": {},
   "source": [
    "\n",
    "<div style=\"color: #37d26d;\"><font size=\"+2\">↳</font> &nbsp;Since the index of the pandas object &nbsp;<code>obj2</code>&nbsp; is of <strong>string</strong> type, therefore it takes &nbsp;<code>[0, 1, 2]</code>&nbsp; as a &nbsp;<code style=\"background-color: #3cff80;\">list of indices</code> only , <span style=\"color: red;\"><u><span style=\"color: #1bc25b;\"><strong>not as a list of row-labels</span></strong></u></span></div>\n",
    "\n",
    "<br>\n",
    "\n",
    "<div style=\"background-color: #c4ffd3; padding: 10px; margin-left: 25px; margin-right: 105px;;\">Only when you explicitly define the index of a pandas object as a list of integers, it will consider any list of integers as a &nbsp;<code style=\"background-color: white;\">list of row-labels</code><br>Otherwise it will behave as a normal indexing like that in a numpy array or a Python list\n",
    "</div>\n"
   ]
  },
  {
   "cell_type": "markdown",
   "id": "265fbed3-4a65-409f-9ce7-1a48c2436cca",
   "metadata": {
    "jp-MarkdownHeadingCollapsed": true
   },
   "source": [
    "\n",
    "<br>\n",
    "\n",
    "###### <code style=\"color: white; background-color: #6a7eff; font-size: 0.9rem; padding: 3px;\">▷ &nbsp;When does <span style=\"background-color: white; color: black;\">loc</span> fail? </code>\n"
   ]
  },
  {
   "cell_type": "markdown",
   "id": "cf1b5913-70b2-478e-ba8b-919928eaabd0",
   "metadata": {},
   "source": [
    "<br>\n",
    "\n",
    "<div style=\"color: #4c6dff;\">When using &nbsp;<code style=\"background-color: yellow;\">loc</code> , the expression &nbsp;<code>obj.loc[[0, 1, 2]]</code>&nbsp; will <span style=\"color: red;\">fail</span> when the index does not contain integers :</div>\n"
   ]
  },
  {
   "cell_type": "code",
   "execution_count": 48,
   "id": "15e6d3dc-1f58-4f88-83d0-ef2768fdbf77",
   "metadata": {},
   "outputs": [
    {
     "ename": "KeyError",
     "evalue": "\"None of [Int64Index([0, 1, 2], dtype='int64')] are in the [index]\"",
     "output_type": "error",
     "traceback": [
      "\u001b[1;31m---------------------------------------------------------------------------\u001b[0m",
      "\u001b[1;31mKeyError\u001b[0m                                  Traceback (most recent call last)",
      "Cell \u001b[1;32mIn[48], line 1\u001b[0m\n\u001b[1;32m----> 1\u001b[0m \u001b[43mobj2\u001b[49m\u001b[38;5;241;43m.\u001b[39;49m\u001b[43mloc\u001b[49m\u001b[43m[\u001b[49m\u001b[43m[\u001b[49m\u001b[38;5;241;43m0\u001b[39;49m\u001b[43m,\u001b[49m\u001b[43m \u001b[49m\u001b[38;5;241;43m1\u001b[39;49m\u001b[43m,\u001b[49m\u001b[43m \u001b[49m\u001b[38;5;241;43m2\u001b[39;49m\u001b[43m]\u001b[49m\u001b[43m]\u001b[49m                                               \u001b[38;5;66;03m# throws ERROR because the obj2 has a string type index, not an integer type\u001b[39;00m\n",
      "File \u001b[1;32m~\\AppData\\Local\\Programs\\Python\\Python311\\Lib\\site-packages\\pandas\\core\\indexing.py:1073\u001b[0m, in \u001b[0;36m_LocationIndexer.__getitem__\u001b[1;34m(self, key)\u001b[0m\n\u001b[0;32m   1070\u001b[0m axis \u001b[38;5;241m=\u001b[39m \u001b[38;5;28mself\u001b[39m\u001b[38;5;241m.\u001b[39maxis \u001b[38;5;129;01mor\u001b[39;00m \u001b[38;5;241m0\u001b[39m\n\u001b[0;32m   1072\u001b[0m maybe_callable \u001b[38;5;241m=\u001b[39m com\u001b[38;5;241m.\u001b[39mapply_if_callable(key, \u001b[38;5;28mself\u001b[39m\u001b[38;5;241m.\u001b[39mobj)\n\u001b[1;32m-> 1073\u001b[0m \u001b[38;5;28;01mreturn\u001b[39;00m \u001b[38;5;28;43mself\u001b[39;49m\u001b[38;5;241;43m.\u001b[39;49m\u001b[43m_getitem_axis\u001b[49m\u001b[43m(\u001b[49m\u001b[43mmaybe_callable\u001b[49m\u001b[43m,\u001b[49m\u001b[43m \u001b[49m\u001b[43maxis\u001b[49m\u001b[38;5;241;43m=\u001b[39;49m\u001b[43maxis\u001b[49m\u001b[43m)\u001b[49m\n",
      "File \u001b[1;32m~\\AppData\\Local\\Programs\\Python\\Python311\\Lib\\site-packages\\pandas\\core\\indexing.py:1301\u001b[0m, in \u001b[0;36m_LocIndexer._getitem_axis\u001b[1;34m(self, key, axis)\u001b[0m\n\u001b[0;32m   1298\u001b[0m     \u001b[38;5;28;01mif\u001b[39;00m \u001b[38;5;28mhasattr\u001b[39m(key, \u001b[38;5;124m\"\u001b[39m\u001b[38;5;124mndim\u001b[39m\u001b[38;5;124m\"\u001b[39m) \u001b[38;5;129;01mand\u001b[39;00m key\u001b[38;5;241m.\u001b[39mndim \u001b[38;5;241m>\u001b[39m \u001b[38;5;241m1\u001b[39m:\n\u001b[0;32m   1299\u001b[0m         \u001b[38;5;28;01mraise\u001b[39;00m \u001b[38;5;167;01mValueError\u001b[39;00m(\u001b[38;5;124m\"\u001b[39m\u001b[38;5;124mCannot index with multidimensional key\u001b[39m\u001b[38;5;124m\"\u001b[39m)\n\u001b[1;32m-> 1301\u001b[0m     \u001b[38;5;28;01mreturn\u001b[39;00m \u001b[38;5;28;43mself\u001b[39;49m\u001b[38;5;241;43m.\u001b[39;49m\u001b[43m_getitem_iterable\u001b[49m\u001b[43m(\u001b[49m\u001b[43mkey\u001b[49m\u001b[43m,\u001b[49m\u001b[43m \u001b[49m\u001b[43maxis\u001b[49m\u001b[38;5;241;43m=\u001b[39;49m\u001b[43maxis\u001b[49m\u001b[43m)\u001b[49m\n\u001b[0;32m   1303\u001b[0m \u001b[38;5;66;03m# nested tuple slicing\u001b[39;00m\n\u001b[0;32m   1304\u001b[0m \u001b[38;5;28;01mif\u001b[39;00m is_nested_tuple(key, labels):\n",
      "File \u001b[1;32m~\\AppData\\Local\\Programs\\Python\\Python311\\Lib\\site-packages\\pandas\\core\\indexing.py:1239\u001b[0m, in \u001b[0;36m_LocIndexer._getitem_iterable\u001b[1;34m(self, key, axis)\u001b[0m\n\u001b[0;32m   1236\u001b[0m \u001b[38;5;28mself\u001b[39m\u001b[38;5;241m.\u001b[39m_validate_key(key, axis)\n\u001b[0;32m   1238\u001b[0m \u001b[38;5;66;03m# A collection of keys\u001b[39;00m\n\u001b[1;32m-> 1239\u001b[0m keyarr, indexer \u001b[38;5;241m=\u001b[39m \u001b[38;5;28;43mself\u001b[39;49m\u001b[38;5;241;43m.\u001b[39;49m\u001b[43m_get_listlike_indexer\u001b[49m\u001b[43m(\u001b[49m\u001b[43mkey\u001b[49m\u001b[43m,\u001b[49m\u001b[43m \u001b[49m\u001b[43maxis\u001b[49m\u001b[43m)\u001b[49m\n\u001b[0;32m   1240\u001b[0m \u001b[38;5;28;01mreturn\u001b[39;00m \u001b[38;5;28mself\u001b[39m\u001b[38;5;241m.\u001b[39mobj\u001b[38;5;241m.\u001b[39m_reindex_with_indexers(\n\u001b[0;32m   1241\u001b[0m     {axis: [keyarr, indexer]}, copy\u001b[38;5;241m=\u001b[39m\u001b[38;5;28;01mTrue\u001b[39;00m, allow_dups\u001b[38;5;241m=\u001b[39m\u001b[38;5;28;01mTrue\u001b[39;00m\n\u001b[0;32m   1242\u001b[0m )\n",
      "File \u001b[1;32m~\\AppData\\Local\\Programs\\Python\\Python311\\Lib\\site-packages\\pandas\\core\\indexing.py:1432\u001b[0m, in \u001b[0;36m_LocIndexer._get_listlike_indexer\u001b[1;34m(self, key, axis)\u001b[0m\n\u001b[0;32m   1429\u001b[0m ax \u001b[38;5;241m=\u001b[39m \u001b[38;5;28mself\u001b[39m\u001b[38;5;241m.\u001b[39mobj\u001b[38;5;241m.\u001b[39m_get_axis(axis)\n\u001b[0;32m   1430\u001b[0m axis_name \u001b[38;5;241m=\u001b[39m \u001b[38;5;28mself\u001b[39m\u001b[38;5;241m.\u001b[39mobj\u001b[38;5;241m.\u001b[39m_get_axis_name(axis)\n\u001b[1;32m-> 1432\u001b[0m keyarr, indexer \u001b[38;5;241m=\u001b[39m \u001b[43max\u001b[49m\u001b[38;5;241;43m.\u001b[39;49m\u001b[43m_get_indexer_strict\u001b[49m\u001b[43m(\u001b[49m\u001b[43mkey\u001b[49m\u001b[43m,\u001b[49m\u001b[43m \u001b[49m\u001b[43maxis_name\u001b[49m\u001b[43m)\u001b[49m\n\u001b[0;32m   1434\u001b[0m \u001b[38;5;28;01mreturn\u001b[39;00m keyarr, indexer\n",
      "File \u001b[1;32m~\\AppData\\Local\\Programs\\Python\\Python311\\Lib\\site-packages\\pandas\\core\\indexes\\base.py:6070\u001b[0m, in \u001b[0;36mIndex._get_indexer_strict\u001b[1;34m(self, key, axis_name)\u001b[0m\n\u001b[0;32m   6067\u001b[0m \u001b[38;5;28;01melse\u001b[39;00m:\n\u001b[0;32m   6068\u001b[0m     keyarr, indexer, new_indexer \u001b[38;5;241m=\u001b[39m \u001b[38;5;28mself\u001b[39m\u001b[38;5;241m.\u001b[39m_reindex_non_unique(keyarr)\n\u001b[1;32m-> 6070\u001b[0m \u001b[38;5;28;43mself\u001b[39;49m\u001b[38;5;241;43m.\u001b[39;49m\u001b[43m_raise_if_missing\u001b[49m\u001b[43m(\u001b[49m\u001b[43mkeyarr\u001b[49m\u001b[43m,\u001b[49m\u001b[43m \u001b[49m\u001b[43mindexer\u001b[49m\u001b[43m,\u001b[49m\u001b[43m \u001b[49m\u001b[43maxis_name\u001b[49m\u001b[43m)\u001b[49m\n\u001b[0;32m   6072\u001b[0m keyarr \u001b[38;5;241m=\u001b[39m \u001b[38;5;28mself\u001b[39m\u001b[38;5;241m.\u001b[39mtake(indexer)\n\u001b[0;32m   6073\u001b[0m \u001b[38;5;28;01mif\u001b[39;00m \u001b[38;5;28misinstance\u001b[39m(key, Index):\n\u001b[0;32m   6074\u001b[0m     \u001b[38;5;66;03m# GH 42790 - Preserve name from an Index\u001b[39;00m\n",
      "File \u001b[1;32m~\\AppData\\Local\\Programs\\Python\\Python311\\Lib\\site-packages\\pandas\\core\\indexes\\base.py:6130\u001b[0m, in \u001b[0;36mIndex._raise_if_missing\u001b[1;34m(self, key, indexer, axis_name)\u001b[0m\n\u001b[0;32m   6128\u001b[0m     \u001b[38;5;28;01mif\u001b[39;00m use_interval_msg:\n\u001b[0;32m   6129\u001b[0m         key \u001b[38;5;241m=\u001b[39m \u001b[38;5;28mlist\u001b[39m(key)\n\u001b[1;32m-> 6130\u001b[0m     \u001b[38;5;28;01mraise\u001b[39;00m \u001b[38;5;167;01mKeyError\u001b[39;00m(\u001b[38;5;124mf\u001b[39m\u001b[38;5;124m\"\u001b[39m\u001b[38;5;124mNone of [\u001b[39m\u001b[38;5;132;01m{\u001b[39;00mkey\u001b[38;5;132;01m}\u001b[39;00m\u001b[38;5;124m] are in the [\u001b[39m\u001b[38;5;132;01m{\u001b[39;00maxis_name\u001b[38;5;132;01m}\u001b[39;00m\u001b[38;5;124m]\u001b[39m\u001b[38;5;124m\"\u001b[39m)\n\u001b[0;32m   6132\u001b[0m not_found \u001b[38;5;241m=\u001b[39m \u001b[38;5;28mlist\u001b[39m(ensure_index(key)[missing_mask\u001b[38;5;241m.\u001b[39mnonzero()[\u001b[38;5;241m0\u001b[39m]]\u001b[38;5;241m.\u001b[39munique())\n\u001b[0;32m   6133\u001b[0m \u001b[38;5;28;01mraise\u001b[39;00m \u001b[38;5;167;01mKeyError\u001b[39;00m(\u001b[38;5;124mf\u001b[39m\u001b[38;5;124m\"\u001b[39m\u001b[38;5;132;01m{\u001b[39;00mnot_found\u001b[38;5;132;01m}\u001b[39;00m\u001b[38;5;124m not in index\u001b[39m\u001b[38;5;124m\"\u001b[39m)\n",
      "\u001b[1;31mKeyError\u001b[0m: \"None of [Int64Index([0, 1, 2], dtype='int64')] are in the [index]\""
     ]
    }
   ],
   "source": [
    "\n",
    "obj2.loc[[0, 1, 2]]                                               # throws ERROR because the obj2 has a string type index, not an integer type\n"
   ]
  },
  {
   "cell_type": "markdown",
   "id": "97710317-f8c6-49cb-9f64-eb6c240f0842",
   "metadata": {
    "jp-MarkdownHeadingCollapsed": true
   },
   "source": [
    "\n",
    "<br>\n",
    "\n",
    "###### <code style=\"color: white; background-color: #6a7eff; font-size: 0.9rem; padding: 3px;\">▷ &nbsp;If <span style=\"background-color: white; color: black;\">loc</span> is already there, then why is <span style=\"background-color: white; color: black;\">iloc</span> introduced? </code>\n"
   ]
  },
  {
   "cell_type": "markdown",
   "id": "328039df-4b53-4763-97d0-7d72939a18a8",
   "metadata": {},
   "source": [
    "<br>\n",
    "\n",
    "<div style=\"color: #4c6dff;\">Since &nbsp;<code style=\"background-color: yellow;\">loc</code>&nbsp; operator indexes <u>exclusively with labels</u> , <span style=\"background-color: #f2f4f4; padding: 1px;;\">&nbsp;there is also an &nbsp;<code style=\"background-color: yellow;\">iloc</code>&nbsp; operator that indexes exclusively with integers to work consistently whether or not the index contains integers : &nbsp;</span></div>\n"
   ]
  },
  {
   "cell_type": "code",
   "execution_count": 9,
   "id": "91ae141d-128f-4551-b59c-462fda324eae",
   "metadata": {},
   "outputs": [
    {
     "data": {
      "text/plain": [
       "2    1\n",
       "0    2\n",
       "1    3\n",
       "dtype: int64"
      ]
     },
     "execution_count": 9,
     "metadata": {},
     "output_type": "execute_result"
    }
   ],
   "source": [
    "\n",
    "obj1.iloc[[0, 1, 2]]\n"
   ]
  },
  {
   "cell_type": "code",
   "execution_count": 10,
   "id": "c397244c-2dfe-4386-bcb9-7d5a88014024",
   "metadata": {},
   "outputs": [
    {
     "data": {
      "text/plain": [
       "a    1\n",
       "b    2\n",
       "c    3\n",
       "dtype: int64"
      ]
     },
     "execution_count": 10,
     "metadata": {},
     "output_type": "execute_result"
    }
   ],
   "source": [
    "\n",
    "obj2.iloc[[0, 1, 2]]\n"
   ]
  },
  {
   "cell_type": "markdown",
   "id": "1792a382-aa8b-45a1-a3b3-fe03ed1be7a3",
   "metadata": {},
   "source": [
    "\n",
    "<br>\n",
    "\n",
    "<div style=\"margin-left: 25px;\">\n",
    "\n",
    "![](../media/pandas_indexing_selecting_filtering_1.PNG)\n",
    "\n",
    "</div>\n"
   ]
  },
  {
   "cell_type": "code",
   "execution_count": 51,
   "id": "9c24eeae-a547-474f-8456-f53deaec4da9",
   "metadata": {},
   "outputs": [
    {
     "data": {
      "text/plain": [
       "b    6\n",
       "dtype: int64"
      ]
     },
     "execution_count": 51,
     "metadata": {},
     "output_type": "execute_result"
    }
   ],
   "source": [
    "\n",
    "obj2.iloc[1:2]                         # row-index  2  is  excluded\n"
   ]
  },
  {
   "cell_type": "code",
   "execution_count": 52,
   "id": "76bf7a54-94fc-4e56-9f15-53650db367ab",
   "metadata": {},
   "outputs": [
    {
     "data": {
      "text/plain": [
       "b    6\n",
       "c    3\n",
       "dtype: int64"
      ]
     },
     "execution_count": 52,
     "metadata": {},
     "output_type": "execute_result"
    }
   ],
   "source": [
    "\n",
    "obj2.loc[\"b\":\"c\"]                      # row-label  \"c\"  is  included\n"
   ]
  },
  {
   "cell_type": "markdown",
   "id": "d7224536-831f-4afc-b117-27e8094cc8cc",
   "metadata": {},
   "source": [
    "\n",
    "<br>\n",
    "\n",
    "###### <code style=\"color: white; background-color: #6a7eff; font-size: 0.9rem; padding: 3px;\">▷ &nbsp;Assigning values using <span style=\"background-color: white; color: black;\">loc</span> and <span style=\"background-color: white; color: black;\">iloc</span> operator </code>\n"
   ]
  },
  {
   "cell_type": "markdown",
   "id": "949212cc-2233-48a8-8a3e-da0d9bb7cc9f",
   "metadata": {},
   "source": [
    "<br>\n",
    "\n",
    "<div style=\"color: #4c6dff;\">Assigning values using these &nbsp;<code style=\"background-color: yellow;\">loc</code>&nbsp; & &nbsp;<code style=\"background-color: yellow;\">iloc</code>&nbsp; methods modifies the corresponding section of the Series :</div>"
   ]
  },
  {
   "cell_type": "code",
   "execution_count": 53,
   "id": "deccb000-b074-410d-b515-7234466b49b7",
   "metadata": {},
   "outputs": [
    {
     "name": "stdout",
     "output_type": "stream",
     "text": [
      "------------- ORIGINAL obj2 -------------\n",
      "a    1\n",
      "b    2\n",
      "c    3\n",
      "dtype: int64\n",
      "\n",
      "------------- MODIFIED obj2 -------------\n"
     ]
    },
    {
     "data": {
      "text/plain": [
       "a    1\n",
       "b    5\n",
       "c    5\n",
       "dtype: int64"
      ]
     },
     "execution_count": 53,
     "metadata": {},
     "output_type": "execute_result"
    }
   ],
   "source": [
    "\n",
    "obj2 = pd.Series([1, 2, 3], index=[\"a\", \"b\", \"c\"])\n",
    "print('------------- ORIGINAL obj2 -------------')\n",
    "print(obj2)\n",
    "\n",
    "\n",
    "obj2.loc[\"b\":\"c\"] = 5                                             # row-label  \"c\"  is included     ------>     obj2.loc[\"c\"]  is updated\n",
    "print('\\n------------- MODIFIED obj2 -------------')\n",
    "obj2\n"
   ]
  },
  {
   "cell_type": "code",
   "execution_count": 54,
   "id": "29956645-a937-4128-a954-3d9cfcf654c6",
   "metadata": {},
   "outputs": [
    {
     "name": "stdout",
     "output_type": "stream",
     "text": [
      "------------- ORIGINAL obj2 -------------\n",
      "a    1\n",
      "b    2\n",
      "c    3\n",
      "dtype: int64\n",
      "\n",
      "------------- MODIFIED obj2 -------------\n"
     ]
    },
    {
     "data": {
      "text/plain": [
       "a    1\n",
       "b    6\n",
       "c    3\n",
       "dtype: int64"
      ]
     },
     "execution_count": 54,
     "metadata": {},
     "output_type": "execute_result"
    }
   ],
   "source": [
    "\n",
    "obj2 = pd.Series([1, 2, 3], index=[\"a\", \"b\", \"c\"])\n",
    "print('------------- ORIGINAL obj2 -------------')\n",
    "print(obj2)\n",
    "\n",
    "\n",
    "obj2.iloc[1:2] = 6                                                # row-index 2  is  not included     ------>     obj2.loc[\"c\"]  is  not  updated\n",
    "print('\\n------------- MODIFIED obj2 -------------')\n",
    "obj2\n"
   ]
  },
  {
   "cell_type": "markdown",
   "id": "aeb20020-a7a3-4822-aa1a-8590fdc4430d",
   "metadata": {},
   "source": [
    "<br>\n",
    "\n",
    "<strong>NOTE &nbsp;-</strong>\n",
    "\n",
    "<div style=\"margin-left: 60px;\">\n",
    "\n",
    "![](../media/pandas_indexing_selecting_filtering_2.PNG)\n",
    "\n",
    "</div>"
   ]
  },
  {
   "cell_type": "markdown",
   "id": "82d0040c-52d8-4f1c-8122-4a3793e4c1a8",
   "metadata": {},
   "source": [
    "\n",
    "##### <span style=\"color: #ffb585;\">----------------------------------------------------------------------------------------------------------------------------------------------------------------------------------------------</span>\n",
    "\n",
    "<span style=\"font-size: 0.9rem; color: black; font-size: 1.3rem;\">🔶</span> &nbsp;&nbsp;<span style=\"color: #f76607;\">Indexing into a DataFrame retrieves one or more columns either with a single value or sequence :</span>\n"
   ]
  },
  {
   "cell_type": "code",
   "execution_count": 7,
   "id": "37d83a9c-4cd1-48ef-bbf6-e2a29fc52afe",
   "metadata": {},
   "outputs": [
    {
     "data": {
      "text/html": [
       "<div>\n",
       "<style scoped>\n",
       "    .dataframe tbody tr th:only-of-type {\n",
       "        vertical-align: middle;\n",
       "    }\n",
       "\n",
       "    .dataframe tbody tr th {\n",
       "        vertical-align: top;\n",
       "    }\n",
       "\n",
       "    .dataframe thead th {\n",
       "        text-align: right;\n",
       "    }\n",
       "</style>\n",
       "<table border=\"1\" class=\"dataframe\">\n",
       "  <thead>\n",
       "    <tr style=\"text-align: right;\">\n",
       "      <th></th>\n",
       "      <th>one</th>\n",
       "      <th>two</th>\n",
       "      <th>three</th>\n",
       "      <th>four</th>\n",
       "    </tr>\n",
       "  </thead>\n",
       "  <tbody>\n",
       "    <tr>\n",
       "      <th>Delhi</th>\n",
       "      <td>0</td>\n",
       "      <td>1</td>\n",
       "      <td>2</td>\n",
       "      <td>3</td>\n",
       "    </tr>\n",
       "    <tr>\n",
       "      <th>Mumbai</th>\n",
       "      <td>4</td>\n",
       "      <td>5</td>\n",
       "      <td>6</td>\n",
       "      <td>7</td>\n",
       "    </tr>\n",
       "    <tr>\n",
       "      <th>Bangalore</th>\n",
       "      <td>8</td>\n",
       "      <td>9</td>\n",
       "      <td>10</td>\n",
       "      <td>11</td>\n",
       "    </tr>\n",
       "    <tr>\n",
       "      <th>Kolkata</th>\n",
       "      <td>12</td>\n",
       "      <td>13</td>\n",
       "      <td>14</td>\n",
       "      <td>15</td>\n",
       "    </tr>\n",
       "  </tbody>\n",
       "</table>\n",
       "</div>"
      ],
      "text/plain": [
       "           one  two  three  four\n",
       "Delhi        0    1      2     3\n",
       "Mumbai       4    5      6     7\n",
       "Bangalore    8    9     10    11\n",
       "Kolkata     12   13     14    15"
      ]
     },
     "execution_count": 7,
     "metadata": {},
     "output_type": "execute_result"
    }
   ],
   "source": [
    "\n",
    "df = pd.DataFrame(np.arange(16).reshape((4, 4)),\n",
    "                    index=[\"Delhi\", \"Mumbai\", \"Bangalore\", \"Kolkata\"],\n",
    "                    columns=[\"one\", \"two\", \"three\", \"four\"])\n",
    "\n",
    "df\n"
   ]
  },
  {
   "cell_type": "code",
   "execution_count": 8,
   "id": "13f2709f-1c42-4521-a02d-ae7a77f1c7ee",
   "metadata": {},
   "outputs": [
    {
     "data": {
      "text/plain": [
       "Delhi         1\n",
       "Mumbai        5\n",
       "Bangalore     9\n",
       "Kolkata      13\n",
       "Name: two, dtype: int32"
      ]
     },
     "execution_count": 8,
     "metadata": {},
     "output_type": "execute_result"
    }
   ],
   "source": [
    "\n",
    "df[\"two\"]\n"
   ]
  },
  {
   "cell_type": "code",
   "execution_count": 9,
   "id": "4007ba49-5cc0-477c-86da-a5848c8af085",
   "metadata": {},
   "outputs": [
    {
     "data": {
      "text/html": [
       "<div>\n",
       "<style scoped>\n",
       "    .dataframe tbody tr th:only-of-type {\n",
       "        vertical-align: middle;\n",
       "    }\n",
       "\n",
       "    .dataframe tbody tr th {\n",
       "        vertical-align: top;\n",
       "    }\n",
       "\n",
       "    .dataframe thead th {\n",
       "        text-align: right;\n",
       "    }\n",
       "</style>\n",
       "<table border=\"1\" class=\"dataframe\">\n",
       "  <thead>\n",
       "    <tr style=\"text-align: right;\">\n",
       "      <th></th>\n",
       "      <th>three</th>\n",
       "      <th>one</th>\n",
       "    </tr>\n",
       "  </thead>\n",
       "  <tbody>\n",
       "    <tr>\n",
       "      <th>Delhi</th>\n",
       "      <td>2</td>\n",
       "      <td>0</td>\n",
       "    </tr>\n",
       "    <tr>\n",
       "      <th>Mumbai</th>\n",
       "      <td>6</td>\n",
       "      <td>4</td>\n",
       "    </tr>\n",
       "    <tr>\n",
       "      <th>Bangalore</th>\n",
       "      <td>10</td>\n",
       "      <td>8</td>\n",
       "    </tr>\n",
       "    <tr>\n",
       "      <th>Kolkata</th>\n",
       "      <td>14</td>\n",
       "      <td>12</td>\n",
       "    </tr>\n",
       "  </tbody>\n",
       "</table>\n",
       "</div>"
      ],
      "text/plain": [
       "           three  one\n",
       "Delhi          2    0\n",
       "Mumbai         6    4\n",
       "Bangalore     10    8\n",
       "Kolkata       14   12"
      ]
     },
     "execution_count": 9,
     "metadata": {},
     "output_type": "execute_result"
    }
   ],
   "source": [
    "\n",
    "df[[\"three\", \"one\"]]\n"
   ]
  },
  {
   "cell_type": "markdown",
   "id": "d3a25bd4-3354-47fb-ae6f-d12f6b4c1b97",
   "metadata": {
    "jp-MarkdownHeadingCollapsed": true
   },
   "source": [
    "\n",
    "<br>\n",
    "\n",
    "###### <code style=\"color: white; background-color: #6a7eff; font-size: 0.9rem; padding: 3px;\">▷ Indexing like this has a few special cases </code>\n"
   ]
  },
  {
   "cell_type": "markdown",
   "id": "2d338512-20c4-47ef-8ef7-9fd5c318b4d9",
   "metadata": {},
   "source": [
    "<br>\n",
    "\n",
    "<div style=\"color: #4c6dff;\"><span style=\"font-size: 0.8rem; color: #4c6dff;\">■</span> &nbsp;The first is slicing or selecting data with a Boolean array :</div>"
   ]
  },
  {
   "cell_type": "code",
   "execution_count": 10,
   "id": "3bd36b4a-bee5-4ec5-b48d-cc5376bb4e47",
   "metadata": {},
   "outputs": [
    {
     "data": {
      "text/html": [
       "<div>\n",
       "<style scoped>\n",
       "    .dataframe tbody tr th:only-of-type {\n",
       "        vertical-align: middle;\n",
       "    }\n",
       "\n",
       "    .dataframe tbody tr th {\n",
       "        vertical-align: top;\n",
       "    }\n",
       "\n",
       "    .dataframe thead th {\n",
       "        text-align: right;\n",
       "    }\n",
       "</style>\n",
       "<table border=\"1\" class=\"dataframe\">\n",
       "  <thead>\n",
       "    <tr style=\"text-align: right;\">\n",
       "      <th></th>\n",
       "      <th>one</th>\n",
       "      <th>two</th>\n",
       "      <th>three</th>\n",
       "      <th>four</th>\n",
       "    </tr>\n",
       "  </thead>\n",
       "  <tbody>\n",
       "    <tr>\n",
       "      <th>Delhi</th>\n",
       "      <td>0</td>\n",
       "      <td>1</td>\n",
       "      <td>2</td>\n",
       "      <td>3</td>\n",
       "    </tr>\n",
       "    <tr>\n",
       "      <th>Mumbai</th>\n",
       "      <td>4</td>\n",
       "      <td>5</td>\n",
       "      <td>6</td>\n",
       "      <td>7</td>\n",
       "    </tr>\n",
       "  </tbody>\n",
       "</table>\n",
       "</div>"
      ],
      "text/plain": [
       "        one  two  three  four\n",
       "Delhi     0    1      2     3\n",
       "Mumbai    4    5      6     7"
      ]
     },
     "execution_count": 10,
     "metadata": {},
     "output_type": "execute_result"
    }
   ],
   "source": [
    "\n",
    "df[:2]\n"
   ]
  },
  {
   "cell_type": "code",
   "execution_count": 11,
   "id": "638c5bcf-26e9-4135-9a26-2f9baf76b41b",
   "metadata": {},
   "outputs": [
    {
     "data": {
      "text/plain": [
       "Delhi        False\n",
       "Mumbai        True\n",
       "Bangalore     True\n",
       "Kolkata       True\n",
       "Name: three, dtype: bool"
      ]
     },
     "execution_count": 11,
     "metadata": {},
     "output_type": "execute_result"
    }
   ],
   "source": [
    "\n",
    "df[\"three\"] > 5                           # bollean array\n"
   ]
  },
  {
   "cell_type": "code",
   "execution_count": 12,
   "id": "bbaa1dd4-5fc8-419d-a659-502135e7b73c",
   "metadata": {},
   "outputs": [
    {
     "data": {
      "text/html": [
       "<div>\n",
       "<style scoped>\n",
       "    .dataframe tbody tr th:only-of-type {\n",
       "        vertical-align: middle;\n",
       "    }\n",
       "\n",
       "    .dataframe tbody tr th {\n",
       "        vertical-align: top;\n",
       "    }\n",
       "\n",
       "    .dataframe thead th {\n",
       "        text-align: right;\n",
       "    }\n",
       "</style>\n",
       "<table border=\"1\" class=\"dataframe\">\n",
       "  <thead>\n",
       "    <tr style=\"text-align: right;\">\n",
       "      <th></th>\n",
       "      <th>one</th>\n",
       "      <th>two</th>\n",
       "      <th>three</th>\n",
       "      <th>four</th>\n",
       "    </tr>\n",
       "  </thead>\n",
       "  <tbody>\n",
       "    <tr>\n",
       "      <th>Mumbai</th>\n",
       "      <td>4</td>\n",
       "      <td>5</td>\n",
       "      <td>6</td>\n",
       "      <td>7</td>\n",
       "    </tr>\n",
       "    <tr>\n",
       "      <th>Bangalore</th>\n",
       "      <td>8</td>\n",
       "      <td>9</td>\n",
       "      <td>10</td>\n",
       "      <td>11</td>\n",
       "    </tr>\n",
       "    <tr>\n",
       "      <th>Kolkata</th>\n",
       "      <td>12</td>\n",
       "      <td>13</td>\n",
       "      <td>14</td>\n",
       "      <td>15</td>\n",
       "    </tr>\n",
       "  </tbody>\n",
       "</table>\n",
       "</div>"
      ],
      "text/plain": [
       "           one  two  three  four\n",
       "Mumbai       4    5      6     7\n",
       "Bangalore    8    9     10    11\n",
       "Kolkata     12   13     14    15"
      ]
     },
     "execution_count": 12,
     "metadata": {},
     "output_type": "execute_result"
    }
   ],
   "source": [
    "\n",
    "df[df[\"three\"] > 5]\n"
   ]
  },
  {
   "cell_type": "markdown",
   "id": "9aec4df1-8389-444d-aa37-8152f417ea11",
   "metadata": {},
   "source": [
    "\n",
    "<div style=\"color: #37d26d;\"><font size=\"+2\">↳</font> &nbsp;The row selection syntax &nbsp;<code style=\"background-color: #6aff7e;\">df[:2]</code>&nbsp; is provided as a convenience. &nbsp;Passing a single <span style=\"color: red;\"><u><strong>element</strong> (column)</u></span> or a list to the &nbsp;<code style=\"background-color: #6aff7e;\">[]</code>&nbsp; operator selects columns.</div>"
   ]
  },
  {
   "cell_type": "markdown",
   "id": "3a50be54-1472-4e32-a1a0-38cc897384ad",
   "metadata": {},
   "source": [
    "\n",
    "<br>\n",
    "\n",
    "<div style=\"margin-left: 17px;\">\n",
    "\n",
    "![](../media/pandas_indexing_selecting_filtering_3.PNG)\n",
    "\n",
    "</div>\n"
   ]
  },
  {
   "cell_type": "markdown",
   "id": "9423d07a-3061-490f-a658-d473ad372dca",
   "metadata": {},
   "source": [
    "<br>\n",
    "\n",
    "<div style=\"display: flex;\">\n",
    "<div><span style=\"font-size: 0.8rem; color: #4c6dff;\">■</span>&nbsp;&nbsp;</div>\n",
    "<div style=\"color: #4c6dff;\">Another use case is indexing with a Boolean DataFrame, such as one produced by a scalar comparison.</div>\n",
    "</div>\n",
    "\n",
    "<span style=\"color: #e0a9ff; margin-left: 19px;\">Consider a DataFrame with all Boolean values produced by comparing with a scalar value :</span>"
   ]
  },
  {
   "cell_type": "code",
   "execution_count": 13,
   "id": "17008f41-780b-41a1-81ca-d58580020278",
   "metadata": {},
   "outputs": [
    {
     "data": {
      "text/html": [
       "<div>\n",
       "<style scoped>\n",
       "    .dataframe tbody tr th:only-of-type {\n",
       "        vertical-align: middle;\n",
       "    }\n",
       "\n",
       "    .dataframe tbody tr th {\n",
       "        vertical-align: top;\n",
       "    }\n",
       "\n",
       "    .dataframe thead th {\n",
       "        text-align: right;\n",
       "    }\n",
       "</style>\n",
       "<table border=\"1\" class=\"dataframe\">\n",
       "  <thead>\n",
       "    <tr style=\"text-align: right;\">\n",
       "      <th></th>\n",
       "      <th>one</th>\n",
       "      <th>two</th>\n",
       "      <th>three</th>\n",
       "      <th>four</th>\n",
       "    </tr>\n",
       "  </thead>\n",
       "  <tbody>\n",
       "    <tr>\n",
       "      <th>Delhi</th>\n",
       "      <td>True</td>\n",
       "      <td>True</td>\n",
       "      <td>True</td>\n",
       "      <td>True</td>\n",
       "    </tr>\n",
       "    <tr>\n",
       "      <th>Mumbai</th>\n",
       "      <td>True</td>\n",
       "      <td>False</td>\n",
       "      <td>False</td>\n",
       "      <td>False</td>\n",
       "    </tr>\n",
       "    <tr>\n",
       "      <th>Bangalore</th>\n",
       "      <td>False</td>\n",
       "      <td>False</td>\n",
       "      <td>False</td>\n",
       "      <td>False</td>\n",
       "    </tr>\n",
       "    <tr>\n",
       "      <th>Kolkata</th>\n",
       "      <td>False</td>\n",
       "      <td>False</td>\n",
       "      <td>False</td>\n",
       "      <td>False</td>\n",
       "    </tr>\n",
       "  </tbody>\n",
       "</table>\n",
       "</div>"
      ],
      "text/plain": [
       "             one    two  three   four\n",
       "Delhi       True   True   True   True\n",
       "Mumbai      True  False  False  False\n",
       "Bangalore  False  False  False  False\n",
       "Kolkata    False  False  False  False"
      ]
     },
     "execution_count": 13,
     "metadata": {},
     "output_type": "execute_result"
    }
   ],
   "source": [
    "\n",
    "df < 5\n"
   ]
  },
  {
   "cell_type": "markdown",
   "id": "d08e17c0-56de-457f-81ee-1efd4f4d9cdd",
   "metadata": {},
   "source": [
    "\n",
    "<div style=\"color: #37d26d;\"><font size=\"+2\">↳</font> &nbsp;We can use this DataFrame to assign the value 0 to each location with the value &nbsp;<code style=\"background-color: #f5e2ff;\">True</code> , like so :</div>\n"
   ]
  },
  {
   "cell_type": "code",
   "execution_count": 14,
   "id": "880ec974-7e4c-47c9-93a8-50ddce5d6d64",
   "metadata": {},
   "outputs": [
    {
     "data": {
      "text/html": [
       "<div>\n",
       "<style scoped>\n",
       "    .dataframe tbody tr th:only-of-type {\n",
       "        vertical-align: middle;\n",
       "    }\n",
       "\n",
       "    .dataframe tbody tr th {\n",
       "        vertical-align: top;\n",
       "    }\n",
       "\n",
       "    .dataframe thead th {\n",
       "        text-align: right;\n",
       "    }\n",
       "</style>\n",
       "<table border=\"1\" class=\"dataframe\">\n",
       "  <thead>\n",
       "    <tr style=\"text-align: right;\">\n",
       "      <th></th>\n",
       "      <th>one</th>\n",
       "      <th>two</th>\n",
       "      <th>three</th>\n",
       "      <th>four</th>\n",
       "    </tr>\n",
       "  </thead>\n",
       "  <tbody>\n",
       "    <tr>\n",
       "      <th>Delhi</th>\n",
       "      <td>0</td>\n",
       "      <td>0</td>\n",
       "      <td>0</td>\n",
       "      <td>0</td>\n",
       "    </tr>\n",
       "    <tr>\n",
       "      <th>Mumbai</th>\n",
       "      <td>0</td>\n",
       "      <td>5</td>\n",
       "      <td>6</td>\n",
       "      <td>7</td>\n",
       "    </tr>\n",
       "    <tr>\n",
       "      <th>Bangalore</th>\n",
       "      <td>8</td>\n",
       "      <td>9</td>\n",
       "      <td>10</td>\n",
       "      <td>11</td>\n",
       "    </tr>\n",
       "    <tr>\n",
       "      <th>Kolkata</th>\n",
       "      <td>12</td>\n",
       "      <td>13</td>\n",
       "      <td>14</td>\n",
       "      <td>15</td>\n",
       "    </tr>\n",
       "  </tbody>\n",
       "</table>\n",
       "</div>"
      ],
      "text/plain": [
       "           one  two  three  four\n",
       "Delhi        0    0      0     0\n",
       "Mumbai       0    5      6     7\n",
       "Bangalore    8    9     10    11\n",
       "Kolkata     12   13     14    15"
      ]
     },
     "execution_count": 14,
     "metadata": {},
     "output_type": "execute_result"
    }
   ],
   "source": [
    "\n",
    "df[df < 5] = 0\n",
    "\n",
    "df\n"
   ]
  },
  {
   "cell_type": "markdown",
   "id": "3222554f-953e-4055-b234-539e2c9b5ac5",
   "metadata": {},
   "source": [
    "##### <span style=\"color: #ffb585;\">----------------------------------------------------------------------------------------------------------------------------------------------------------------------------------------------</span>\n",
    "\n",
    "<div style=\"background-color: #ffdeb7; padding: 4px; margin-top: 27px;\">Selection &nbsp;on &nbsp;DataFrame &nbsp;with &nbsp;<code style=\"background-color: white;\">loc</code> &nbsp;and &nbsp;<code style=\"background-color: white;\">iloc</code></div>\n",
    "\n",
    "<br>"
   ]
  },
  {
   "cell_type": "markdown",
   "id": "035c4409-f08d-450c-98ea-fb3a817ec8c5",
   "metadata": {},
   "source": [
    "Like Series, DataFrame has special attributes <code style=\"background-color: yellow;\">loc</code> and <code style=\"background-color: yellow;\">iloc</code> for label-based and integer-based indexing, respectively. Since DataFrame is two-dimensional, you can select a subset of the rows and columns with NumPy-like notation using either axis labels ( <code style=\"background-color: yellow;\">loc</code> ) or integers ( <code style=\"background-color: yellow;\">iloc</code> )\n",
    "\n",
    "As a first example, let's select a single row by label:"
   ]
  },
  {
   "cell_type": "code",
   "execution_count": 22,
   "id": "38538814-f33e-4d55-9802-ab8f048623e7",
   "metadata": {},
   "outputs": [
    {
     "data": {
      "text/html": [
       "<div>\n",
       "<style scoped>\n",
       "    .dataframe tbody tr th:only-of-type {\n",
       "        vertical-align: middle;\n",
       "    }\n",
       "\n",
       "    .dataframe tbody tr th {\n",
       "        vertical-align: top;\n",
       "    }\n",
       "\n",
       "    .dataframe thead th {\n",
       "        text-align: right;\n",
       "    }\n",
       "</style>\n",
       "<table border=\"1\" class=\"dataframe\">\n",
       "  <thead>\n",
       "    <tr style=\"text-align: right;\">\n",
       "      <th></th>\n",
       "      <th>one</th>\n",
       "      <th>two</th>\n",
       "      <th>three</th>\n",
       "      <th>four</th>\n",
       "    </tr>\n",
       "  </thead>\n",
       "  <tbody>\n",
       "    <tr>\n",
       "      <th>Delhi</th>\n",
       "      <td>0</td>\n",
       "      <td>0</td>\n",
       "      <td>0</td>\n",
       "      <td>0</td>\n",
       "    </tr>\n",
       "    <tr>\n",
       "      <th>Mumbai</th>\n",
       "      <td>0</td>\n",
       "      <td>5</td>\n",
       "      <td>6</td>\n",
       "      <td>7</td>\n",
       "    </tr>\n",
       "    <tr>\n",
       "      <th>Bangalore</th>\n",
       "      <td>8</td>\n",
       "      <td>9</td>\n",
       "      <td>10</td>\n",
       "      <td>11</td>\n",
       "    </tr>\n",
       "    <tr>\n",
       "      <th>Kolkata</th>\n",
       "      <td>12</td>\n",
       "      <td>13</td>\n",
       "      <td>14</td>\n",
       "      <td>15</td>\n",
       "    </tr>\n",
       "  </tbody>\n",
       "</table>\n",
       "</div>"
      ],
      "text/plain": [
       "           one  two  three  four\n",
       "Delhi        0    0      0     0\n",
       "Mumbai       0    5      6     7\n",
       "Bangalore    8    9     10    11\n",
       "Kolkata     12   13     14    15"
      ]
     },
     "execution_count": 22,
     "metadata": {},
     "output_type": "execute_result"
    }
   ],
   "source": [
    "\n",
    "df\n"
   ]
  },
  {
   "cell_type": "code",
   "execution_count": 20,
   "id": "f9cf4462-1373-48c4-987b-bc693990a3a4",
   "metadata": {},
   "outputs": [
    {
     "data": {
      "text/plain": [
       "one      0\n",
       "two      5\n",
       "three    6\n",
       "four     7\n",
       "Name: Mumbai, dtype: int32"
      ]
     },
     "execution_count": 20,
     "metadata": {},
     "output_type": "execute_result"
    }
   ],
   "source": [
    "\n",
    "df.loc[\"Mumbai\"]                                      # returns a series\n"
   ]
  },
  {
   "cell_type": "markdown",
   "id": "699f6d79-469c-4d22-a087-7a8b6617e428",
   "metadata": {},
   "source": [
    "<br>\n",
    "\n",
    "↳ The result of selecting a single row is a Series with an index that contains the DataFrame's column labels. \n",
    "\n",
    "To select multiple rows, pass a sequence of labels (thus creating a new dataframe) :"
   ]
  },
  {
   "cell_type": "code",
   "execution_count": 19,
   "id": "7dd9e3e4-3af8-475d-a7ec-5456e34928c3",
   "metadata": {},
   "outputs": [
    {
     "data": {
      "text/html": [
       "<div>\n",
       "<style scoped>\n",
       "    .dataframe tbody tr th:only-of-type {\n",
       "        vertical-align: middle;\n",
       "    }\n",
       "\n",
       "    .dataframe tbody tr th {\n",
       "        vertical-align: top;\n",
       "    }\n",
       "\n",
       "    .dataframe thead th {\n",
       "        text-align: right;\n",
       "    }\n",
       "</style>\n",
       "<table border=\"1\" class=\"dataframe\">\n",
       "  <thead>\n",
       "    <tr style=\"text-align: right;\">\n",
       "      <th></th>\n",
       "      <th>one</th>\n",
       "      <th>two</th>\n",
       "      <th>three</th>\n",
       "      <th>four</th>\n",
       "    </tr>\n",
       "  </thead>\n",
       "  <tbody>\n",
       "    <tr>\n",
       "      <th>Mumbai</th>\n",
       "      <td>0</td>\n",
       "      <td>5</td>\n",
       "      <td>6</td>\n",
       "      <td>7</td>\n",
       "    </tr>\n",
       "    <tr>\n",
       "      <th>Kolkata</th>\n",
       "      <td>12</td>\n",
       "      <td>13</td>\n",
       "      <td>14</td>\n",
       "      <td>15</td>\n",
       "    </tr>\n",
       "  </tbody>\n",
       "</table>\n",
       "</div>"
      ],
      "text/plain": [
       "         one  two  three  four\n",
       "Mumbai     0    5      6     7\n",
       "Kolkata   12   13     14    15"
      ]
     },
     "execution_count": 19,
     "metadata": {},
     "output_type": "execute_result"
    }
   ],
   "source": [
    "\n",
    "df.loc[[\"Mumbai\", \"Kolkata\"]]\n"
   ]
  },
  {
   "cell_type": "markdown",
   "id": "f3f794c2-0e31-4c92-aa5f-a3e825474577",
   "metadata": {},
   "source": [
    "\n",
    "<br>\n",
    "\n",
    "<div style=\"margin-left: 180px;\">\n",
    "\n",
    "![](../media/pandas_indexing_selecting_filtering_4.PNG)\n",
    "\n",
    "</div>\n",
    "\n",
    "You can combine both row and column selection in loc by separating the selections with a comma :"
   ]
  },
  {
   "cell_type": "code",
   "execution_count": 25,
   "id": "7febb019-56e9-4336-b9ca-d112dc4ac5cb",
   "metadata": {},
   "outputs": [
    {
     "data": {
      "text/plain": [
       "two      5\n",
       "three    6\n",
       "Name: Mumbai, dtype: int32"
      ]
     },
     "execution_count": 25,
     "metadata": {},
     "output_type": "execute_result"
    }
   ],
   "source": [
    "\n",
    "df.loc[\"Mumbai\", [\"two\", \"three\"]]\n"
   ]
  },
  {
   "cell_type": "code",
   "execution_count": 27,
   "id": "081f6684-b42a-43dd-9966-f3801caa1114",
   "metadata": {},
   "outputs": [
    {
     "data": {
      "text/html": [
       "<div>\n",
       "<style scoped>\n",
       "    .dataframe tbody tr th:only-of-type {\n",
       "        vertical-align: middle;\n",
       "    }\n",
       "\n",
       "    .dataframe tbody tr th {\n",
       "        vertical-align: top;\n",
       "    }\n",
       "\n",
       "    .dataframe thead th {\n",
       "        text-align: right;\n",
       "    }\n",
       "</style>\n",
       "<table border=\"1\" class=\"dataframe\">\n",
       "  <thead>\n",
       "    <tr style=\"text-align: right;\">\n",
       "      <th></th>\n",
       "      <th>two</th>\n",
       "      <th>three</th>\n",
       "      <th>four</th>\n",
       "    </tr>\n",
       "  </thead>\n",
       "  <tbody>\n",
       "    <tr>\n",
       "      <th>Mumbai</th>\n",
       "      <td>5</td>\n",
       "      <td>6</td>\n",
       "      <td>7</td>\n",
       "    </tr>\n",
       "    <tr>\n",
       "      <th>Kolkata</th>\n",
       "      <td>13</td>\n",
       "      <td>14</td>\n",
       "      <td>15</td>\n",
       "    </tr>\n",
       "  </tbody>\n",
       "</table>\n",
       "</div>"
      ],
      "text/plain": [
       "         two  three  four\n",
       "Mumbai     5      6     7\n",
       "Kolkata   13     14    15"
      ]
     },
     "execution_count": 27,
     "metadata": {},
     "output_type": "execute_result"
    }
   ],
   "source": [
    "\n",
    "df.loc[[\"Mumbai\", \"Kolkata\"], [\"two\", \"three\", \"four\"]]\n"
   ]
  },
  {
   "cell_type": "markdown",
   "id": "d1c7592a-38a8-429c-af60-fcc711b9f6bc",
   "metadata": {},
   "source": [
    "Similarlyy, let's now perform some similar selections with integers using <code style=\"background-color: yellow;\">iloc</code> :"
   ]
  },
  {
   "cell_type": "code",
   "execution_count": 28,
   "id": "f6baa31c-380b-40e5-bd5a-cb00b2af260e",
   "metadata": {},
   "outputs": [
    {
     "data": {
      "text/plain": [
       "one       8\n",
       "two       9\n",
       "three    10\n",
       "four     11\n",
       "Name: Bangalore, dtype: int32"
      ]
     },
     "execution_count": 28,
     "metadata": {},
     "output_type": "execute_result"
    }
   ],
   "source": [
    "\n",
    "df.iloc[2]\n"
   ]
  },
  {
   "cell_type": "code",
   "execution_count": 29,
   "id": "6c8091b5-9381-4ae1-8df2-2285cd3e1e25",
   "metadata": {},
   "outputs": [
    {
     "data": {
      "text/html": [
       "<div>\n",
       "<style scoped>\n",
       "    .dataframe tbody tr th:only-of-type {\n",
       "        vertical-align: middle;\n",
       "    }\n",
       "\n",
       "    .dataframe tbody tr th {\n",
       "        vertical-align: top;\n",
       "    }\n",
       "\n",
       "    .dataframe thead th {\n",
       "        text-align: right;\n",
       "    }\n",
       "</style>\n",
       "<table border=\"1\" class=\"dataframe\">\n",
       "  <thead>\n",
       "    <tr style=\"text-align: right;\">\n",
       "      <th></th>\n",
       "      <th>one</th>\n",
       "      <th>two</th>\n",
       "      <th>three</th>\n",
       "      <th>four</th>\n",
       "    </tr>\n",
       "  </thead>\n",
       "  <tbody>\n",
       "    <tr>\n",
       "      <th>Bangalore</th>\n",
       "      <td>8</td>\n",
       "      <td>9</td>\n",
       "      <td>10</td>\n",
       "      <td>11</td>\n",
       "    </tr>\n",
       "    <tr>\n",
       "      <th>Mumbai</th>\n",
       "      <td>0</td>\n",
       "      <td>5</td>\n",
       "      <td>6</td>\n",
       "      <td>7</td>\n",
       "    </tr>\n",
       "  </tbody>\n",
       "</table>\n",
       "</div>"
      ],
      "text/plain": [
       "           one  two  three  four\n",
       "Bangalore    8    9     10    11\n",
       "Mumbai       0    5      6     7"
      ]
     },
     "execution_count": 29,
     "metadata": {},
     "output_type": "execute_result"
    }
   ],
   "source": [
    "\n",
    "df.iloc[[2, 1]]\n"
   ]
  },
  {
   "cell_type": "code",
   "execution_count": 30,
   "id": "1838ca80-ad3f-41a6-a764-da865ef896ab",
   "metadata": {},
   "outputs": [
    {
     "data": {
      "text/plain": [
       "four    11\n",
       "one      8\n",
       "two      9\n",
       "Name: Bangalore, dtype: int32"
      ]
     },
     "execution_count": 30,
     "metadata": {},
     "output_type": "execute_result"
    }
   ],
   "source": [
    "\n",
    "df.iloc[2, [3, 0, 1]]\n"
   ]
  },
  {
   "cell_type": "code",
   "execution_count": 31,
   "id": "2b5db683-0876-47c8-a35c-a55b125503c9",
   "metadata": {},
   "outputs": [
    {
     "data": {
      "text/html": [
       "<div>\n",
       "<style scoped>\n",
       "    .dataframe tbody tr th:only-of-type {\n",
       "        vertical-align: middle;\n",
       "    }\n",
       "\n",
       "    .dataframe tbody tr th {\n",
       "        vertical-align: top;\n",
       "    }\n",
       "\n",
       "    .dataframe thead th {\n",
       "        text-align: right;\n",
       "    }\n",
       "</style>\n",
       "<table border=\"1\" class=\"dataframe\">\n",
       "  <thead>\n",
       "    <tr style=\"text-align: right;\">\n",
       "      <th></th>\n",
       "      <th>four</th>\n",
       "      <th>one</th>\n",
       "      <th>two</th>\n",
       "    </tr>\n",
       "  </thead>\n",
       "  <tbody>\n",
       "    <tr>\n",
       "      <th>Mumbai</th>\n",
       "      <td>7</td>\n",
       "      <td>0</td>\n",
       "      <td>5</td>\n",
       "    </tr>\n",
       "    <tr>\n",
       "      <th>Bangalore</th>\n",
       "      <td>11</td>\n",
       "      <td>8</td>\n",
       "      <td>9</td>\n",
       "    </tr>\n",
       "  </tbody>\n",
       "</table>\n",
       "</div>"
      ],
      "text/plain": [
       "           four  one  two\n",
       "Mumbai        7    0    5\n",
       "Bangalore    11    8    9"
      ]
     },
     "execution_count": 31,
     "metadata": {},
     "output_type": "execute_result"
    }
   ],
   "source": [
    "\n",
    "df.iloc[[1, 2], [3, 0, 1]]\n"
   ]
  },
  {
   "cell_type": "code",
   "execution_count": null,
   "id": "00f5835e-7d1f-4524-a1f5-8f7e3e1de3cf",
   "metadata": {},
   "outputs": [],
   "source": [
    "\n"
   ]
  },
  {
   "cell_type": "code",
   "execution_count": null,
   "id": "edcdc58f-f54a-4e68-9c33-be7fd14d580d",
   "metadata": {},
   "outputs": [],
   "source": []
  },
  {
   "cell_type": "code",
   "execution_count": null,
   "id": "0850abac-96b9-4d2f-8361-bdcf05d73c6c",
   "metadata": {},
   "outputs": [],
   "source": []
  },
  {
   "cell_type": "code",
   "execution_count": null,
   "id": "68822d40-cca4-4ba5-87b2-83227c50c68f",
   "metadata": {},
   "outputs": [],
   "source": []
  },
  {
   "cell_type": "code",
   "execution_count": null,
   "id": "e2309d77-0a40-4c59-a9c6-3e03bf9fc8d2",
   "metadata": {},
   "outputs": [],
   "source": []
  }
 ],
 "metadata": {
  "kernelspec": {
   "display_name": "Python 3 (ipykernel)",
   "language": "python",
   "name": "python3"
  },
  "language_info": {
   "codemirror_mode": {
    "name": "ipython",
    "version": 3
   },
   "file_extension": ".py",
   "mimetype": "text/x-python",
   "name": "python",
   "nbconvert_exporter": "python",
   "pygments_lexer": "ipython3",
   "version": "3.11.3"
  }
 },
 "nbformat": 4,
 "nbformat_minor": 5
}
