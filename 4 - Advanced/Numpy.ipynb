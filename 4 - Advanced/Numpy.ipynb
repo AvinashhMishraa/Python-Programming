{
 "cells": [
  {
   "cell_type": "markdown",
   "id": "992ee97e-982d-4221-9297-462b1a7fde70",
   "metadata": {},
   "source": [
    "https://wesmckinney.com/book/numpy-basics"
   ]
  },
  {
   "cell_type": "markdown",
   "id": "f16e178f-dd06-4d81-92b8-608dedb4db47",
   "metadata": {
    "jp-MarkdownHeadingCollapsed": true
   },
   "source": [
    "<br><br>\n",
    "\n",
    "## What &nbsp;is &nbsp;Numpy?"
   ]
  },
  {
   "cell_type": "markdown",
   "id": "335e4100-f31d-4b66-952f-411bdaed3d14",
   "metadata": {},
   "source": [
    "<br>\n",
    "\n",
    "NumPy (**Numerical Python**) is a Python library that performs numerical calculations.\n",
    "\n",
    "NumPy is very fast because it is written in the C programming language.\n",
    "\n",
    "NumPy is built on <span style=\"color: blue;\">linear algebra</span>. It’s about matrices and vectors and performing the mathematical calculations on them.\n",
    "\n",
    "The key concept in NumPy is the NumPy array data type. &nbsp;A NumPy array may have one or more dimensions :\n",
    "\n",
    "<div style=\"margin-left: 60px;\">\n",
    "    \n",
    "- <u>One dimension</u> arrays (**1D**) represent <span style=\"color: red;\">vectors</span>\n",
    "- <u>Two-dimensional</u> arrays (**2D**) represent <span style=\"color: red;\">matrices</span>\n",
    "- And <u>higher dimensional</u> arrays represent <span style=\"color: red;\">tensors</span>\n",
    "\n",
    "![](../media/numpy_01.PNG)\n",
    "\n",
    "</div>\n",
    "\n",
    "<div style=\"margin-left: 65px;\">\n",
    "\n",
    "![](../media/numpy_02.PNG)\n",
    "\n",
    "</div>\n",
    "\n",
    "<br>\n",
    "\n",
    "NumPy internally stores data in a contiguous block of memory, independent of other built-in Python objects. NumPy's library of algorithms written in the **C language** can operate on this memory without any type checking or other overhead. &nbsp;<span style=\"background-color: #ffeeb0; padding: 2px;\">NumPy arrays also use much less memory than built-in Python sequences.</code>\n",
    "\n",
    "NumPy operations perform complex computations on entire arrays without the need for Python &nbsp;<code>for</code>&nbsp; loops, which can be slow for large sequences. &nbsp;<span style=\"background-color: #ffeeb0; padding: 2px;\">NumPy is faster than regular Python code because its C-based algorithms avoid overhead present with regular interpreted Python code.</code>\n",
    "\n",
    "A NumPy array can contain either integer or float numbers, but not both at the same time. This restriction allows Numpy to **speed up the linear algebra calculations**.\n",
    "\n",
    "<u>Expressing conditional logic as array expressions</u> instead of loops with &nbsp;<code>if-elif-else</code>&nbsp; branches and <u>group-wise data manipulations</u> make it developer friendly over traditional Python syntax.\n",
    "\n",
    "<br>\n",
    "\n",
    "<span style=\"font-size: 0.7rem; color: red;\">■</span> &nbsp;<span style=\"color: #a245ff;\">To give you an idea of the performance difference, consider a NumPy array of one million integers, and the equivalent Python list :</span>"
   ]
  },
  {
   "cell_type": "code",
   "execution_count": 19,
   "id": "ff9fd8d1-a023-4bbd-9ad3-fc7336874637",
   "metadata": {},
   "outputs": [],
   "source": [
    "\n",
    "# pip install numpy\n",
    "import numpy as np\n",
    "\n",
    "my_arr = np.arange(1_000_000)\n",
    "\n",
    "my_list = list(range(1_000_000))\n"
   ]
  },
  {
   "cell_type": "markdown",
   "id": "17d41a4c-6c27-4702-8d4b-dbc17e661d2c",
   "metadata": {},
   "source": [
    "<br>\n",
    "\n",
    "<span style=\"font-size: 0.7rem; color: red;\">■</span> &nbsp;<span style=\"color: #a245ff;\">Now let's multiply each sequence by 2 :</span>"
   ]
  },
  {
   "cell_type": "code",
   "execution_count": 20,
   "id": "abc83254-2d56-47ec-800b-343e2c949658",
   "metadata": {},
   "outputs": [
    {
     "name": "stdout",
     "output_type": "stream",
     "text": [
      "2.34 ms ± 90.9 µs per loop (mean ± std. dev. of 7 runs, 100 loops each)\n"
     ]
    }
   ],
   "source": [
    "\n",
    "%timeit my_arr2 = my_arr * 2\n"
   ]
  },
  {
   "cell_type": "code",
   "execution_count": 21,
   "id": "c58d9092-c355-485b-87b2-7c9b5d1d756a",
   "metadata": {},
   "outputs": [
    {
     "name": "stdout",
     "output_type": "stream",
     "text": [
      "111 ms ± 6.24 ms per loop (mean ± std. dev. of 7 runs, 10 loops each)\n"
     ]
    }
   ],
   "source": [
    "\n",
    "%timeit my_list2 = [x * 2 for x in my_list]\n"
   ]
  },
  {
   "cell_type": "markdown",
   "id": "f8bf4909-0831-434f-9df2-5bd1c4b35af7",
   "metadata": {},
   "source": [
    "<br>\n",
    "\n",
    "<span style=\"font-size: 0.7rem; color: red;\">■</span> &nbsp;<span style=\"color: #a245ff;\">Let's compare a piece of code with and without numpy :</span>"
   ]
  },
  {
   "cell_type": "code",
   "execution_count": 18,
   "id": "102cf091-48ed-43ff-b6bf-cd51e2a14d82",
   "metadata": {},
   "outputs": [
    {
     "name": "stdout",
     "output_type": "stream",
     "text": [
      "[77.9  82.58 87.08]\n",
      "[77.9, 82.58, 87.08000000000001]\n"
     ]
    }
   ],
   "source": [
    "\n",
    "import numpy as np\n",
    "tc = np.array([25.5, 28.1, 30.6])       # temperature in celsius\n",
    "\n",
    "\n",
    "tk =  tc * 9 / 5 + 32                   # temperature in kelvin   ------>   METHOD-1 (using numpy)    ----------->   better code-readability\n",
    "print(tk)\n",
    "\n",
    "\n",
    "tk = [c*9/5 + 32 for c in tc]           # temperature in kelvin   ------>   METHOD-2 (using simple python)   ---->   lesser code-readability\n",
    "print(tk)\n"
   ]
  },
  {
   "cell_type": "markdown",
   "id": "774cadb1-6baf-4b69-b8cf-91883a22d9c8",
   "metadata": {},
   "source": [
    "<br>\n",
    "\n",
    "Use <code style=\"color: red;\">np</code> as the alias for the NumPy module to follow the convention."
   ]
  },
  {
   "cell_type": "markdown",
   "id": "3bf9bcd9-ec2a-4491-af92-98f73688b048",
   "metadata": {},
   "source": [
    "<br>\n",
    "\n",
    "<span style=\"color: #06fff0; font-size: 0.7rem;\">■■■■■■■■■■■■■■■■■■■■■■■■■■■■■■■■■■■■■■■■■■■■■■■■■■■■■■■■■■■■■■■■■■■■■■■■■■■■■■■■■■■■■■■■■■■■■■■■■■■■■■■■■■■■■■■</span>\n"
   ]
  },
  {
   "cell_type": "markdown",
   "id": "55599f77-0d6e-4cb7-8214-411897cba0bb",
   "metadata": {},
   "source": [
    "<br><br>\n",
    "\n",
    "## Create &nbsp;Numpy &nbsp;Array"
   ]
  },
  {
   "cell_type": "markdown",
   "id": "18c99c91-3175-4dad-8374-5f612045eef5",
   "metadata": {},
   "source": [
    "<br>\n",
    "\n",
    "https://numpy.org/doc/stable/reference/routines.array-creation.html\n",
    "\n",
    "A NumPy array is a grid of values with the <span style=\"color: red;\">same type</span> and <u>indexed by a tuple of **non-negative integers**</u> .\n",
    "\n",
    "The easiest way to create an array is to use the &nbsp;<code style=\"background-color: yellow; padding: 5px;\">numpy.<span style=\"color: red;\">array()</span></code>&nbsp; function. &nbsp;However, there are other ways too.\n",
    "\n",
    "<br>\n",
    "\n",
    "<div style=\"background-color: #fff7e7; padding-top: 15px; padding-bottom: 4px;\">\n",
    "\n",
    "&nbsp;&nbsp;&nbsp;&nbsp;**creating arrays from :**\n",
    "\n",
    "<div style=\"margin-left: 70px;\">\n",
    "    \n",
    "<span>**<u>existing data</u>** :</span> <br>\n",
    "- <code style=\"background-color: yellow; padding: 2px;\">numpy.<span style=\"color: red;\">array()</span>  </code>\n",
    "\n",
    "<br>\n",
    "\n",
    "**<u>shape or value</u>** : <br>\n",
    "- <code style=\"background-color: yellow;\">numpy.<span style=\"color: red;\">zeros()</span>   </code>\n",
    "- <code style=\"background-color: yellow;\">numpy.<span style=\"color: red;\">ones()    </span></code>\n",
    "- <code style=\"background-color: yellow;\">numpy.<span style=\"color: red;\">eye()     </span></code>\n",
    "- <code style=\"background-color: yellow;\">numpy.<span style=\"color: red;\">identity()</span></code>\n",
    "- <code style=\"background-color: yellow;\">numpy.<span style=\"color: red;\">empty()   </span></code>\n",
    "\n",
    "\n",
    "<br>\n",
    "\n",
    "**<u>numerical ranges</u>** : <br>\n",
    "- <code style=\"background-color: yellow;\">numpy.<span style=\"color: red;\">arange()</span>  </code>\n",
    "- <code style=\"background-color: yellow;\">numpy.<span style=\"color: red;\">linspace()</span></code>\n",
    "\n",
    "</div>\n",
    "\n",
    "</div>\n"
   ]
  },
  {
   "cell_type": "markdown",
   "id": "af5301d6-ffee-4180-bd18-6a3d7e74a46c",
   "metadata": {},
   "source": [
    "\n",
    "### <div style=\"color: white; background-color: #af87ff; padding: 5px;\"> <code style=\"font-size: 1.2rem; background-color: #af87ff; color: white;\"><strong>numpy.array()</strong></code> </div>\n"
   ]
  },
  {
   "cell_type": "markdown",
   "id": "97fda42d-8b6f-4ac0-94f6-8910f4b34ef3",
   "metadata": {},
   "source": [
    "\n",
    "<span style=\"font-size: 1rem; color: blue;\">■</span> &nbsp;&nbsp;<span style=\"color: blue; font-size: 1rem;\"><strong><u>Creating &nbsp;one-dimensional &nbsp;arrays</u></strong></span> &nbsp;&nbsp;<span style=\"color: red; font-size: 1rem;\">( **1D - vector** )</span>\n"
   ]
  },
  {
   "cell_type": "code",
   "execution_count": 54,
   "id": "9eac146b-9b1d-4910-89f8-95d3f98654f2",
   "metadata": {},
   "outputs": [
    {
     "name": "stdout",
     "output_type": "stream",
     "text": [
      "[1 2 3]\n",
      "<class 'numpy.ndarray'>\n"
     ]
    }
   ],
   "source": [
    "\n",
    "import numpy as np\n",
    "a = np.array([1, 2, 3])\n",
    "\n",
    "print(a)\n",
    "print(type(a))\n"
   ]
  },
  {
   "cell_type": "markdown",
   "id": "46a2e07c-c564-43c3-8b02-59108c1f067e",
   "metadata": {},
   "source": [
    "<br>\n",
    "\n",
    "<code style=\"background-color: #c2ffa7; padding: 5px;\"> numpy.<span style=\"color: red;\">ndim</span> </code> &nbsp;====>&nbsp; <span style=\"color: blue;\">Getting the **dimension** of an array</span>\n",
    "\n",
    "<span style=\"margin-left: 167px;\"><span style=\"color: red;\">ndim</span> is not an attribute, rather it's a **property**.</span>\n"
   ]
  },
  {
   "cell_type": "code",
   "execution_count": 55,
   "id": "4f385833-81f5-4cde-bad9-95c1fa306502",
   "metadata": {},
   "outputs": [
    {
     "data": {
      "text/plain": [
       "1"
      ]
     },
     "execution_count": 55,
     "metadata": {},
     "output_type": "execute_result"
    }
   ],
   "source": [
    "\n",
    "a.ndim\n"
   ]
  },
  {
   "cell_type": "markdown",
   "id": "6fb3d14b-ae14-45e3-abe0-7270ba323f08",
   "metadata": {},
   "source": [
    "<br>\n",
    "\n",
    "<code style=\"background-color: #c2ffa7; padding: 5px;\"> numpy.<span style=\"color: red;\">dtype</span> </code> &nbsp;====>&nbsp; <span style=\"color: blue;\">Getting the **data type** of array elements</span>\n",
    "\n",
    "<span style=\"margin-left: 175px;\"><span style=\"color: red;\">dtype</span> is not an attribute, rather it's a **property**.</span>"
   ]
  },
  {
   "cell_type": "code",
   "execution_count": 56,
   "id": "5344d06e-375f-4d72-81d6-15a31bf1f409",
   "metadata": {},
   "outputs": [
    {
     "data": {
      "text/plain": [
       "dtype('int32')"
      ]
     },
     "execution_count": 56,
     "metadata": {},
     "output_type": "execute_result"
    }
   ],
   "source": [
    "\n",
    "a.dtype                  # Note  ------>  all elements of this array have the same data type 'int32'\n"
   ]
  },
  {
   "cell_type": "markdown",
   "id": "0e0b0d3e-5d9a-474e-8312-ed843cd5b02a",
   "metadata": {},
   "source": [
    "<br>\n",
    "\n",
    "<code style=\"background-color: #c2ffa7; padding: 5px;\"> numpy.<span style=\"color: red;\">shape</span> </code> &nbsp;====>&nbsp; <span style=\"color: blue;\">Getting the **shape** of an array</span>\n",
    "\n",
    "<span style=\"margin-left: 175px;\"><span style=\"color: red;\">shape</span> is not an attribute, rather it's a **property**.</span>"
   ]
  },
  {
   "cell_type": "code",
   "execution_count": 57,
   "id": "2f513573-5520-4a82-9dea-ca445fec4c85",
   "metadata": {},
   "outputs": [
    {
     "data": {
      "text/plain": [
       "(3,)"
      ]
     },
     "execution_count": 57,
     "metadata": {},
     "output_type": "execute_result"
    }
   ],
   "source": [
    "\n",
    "a.shape\n"
   ]
  },
  {
   "cell_type": "markdown",
   "id": "bd17f8c2-e901-48e2-adf1-dac0d176cd00",
   "metadata": {},
   "source": [
    "<br>\n",
    "\n",
    "<code style=\"background-color: #c2ffa7; padding: 5px;\"> numpy.<span style=\"color: red;\">size</span> </code> &nbsp;====>&nbsp; <span style=\"color: blue;\">Getting the **size** of an array</span>\n",
    "\n",
    "<span style=\"margin-left: 168px;\"><span style=\"color: red;\">size</span> is not an attribute, rather it's a **property**.</span>\n",
    "\n",
    "<span style=\"margin-left: 168px;\">returns the **total number of elements of the array** which is actually <u>the product of the elements of the array’s shape</u></span>\n"
   ]
  },
  {
   "cell_type": "code",
   "execution_count": 58,
   "id": "7b2b8fe1-41ca-4e76-8b08-b41cc18d4535",
   "metadata": {},
   "outputs": [
    {
     "data": {
      "text/plain": [
       "3"
      ]
     },
     "execution_count": 58,
     "metadata": {},
     "output_type": "execute_result"
    }
   ],
   "source": [
    "\n",
    "a.size\n"
   ]
  },
  {
   "cell_type": "markdown",
   "id": "1d325dab-d012-4831-9252-d3ddb94dc4c7",
   "metadata": {},
   "source": [
    "<br>\n",
    "\n",
    "<span style=\"font-size: 1rem; color: blue;\">■</span> &nbsp;&nbsp;<span style=\"color: blue; font-size: 1rem;\"><strong><u>Creating &nbsp;two-dimensional &nbsp;arrays</u></strong></span> &nbsp;&nbsp;<span style=\"color: red; font-size: 1rem;\">( **2D - matrix** )</span>"
   ]
  },
  {
   "cell_type": "code",
   "execution_count": 60,
   "id": "162977e8-e177-4b8e-bc4a-90c56c70b68c",
   "metadata": {},
   "outputs": [
    {
     "name": "stdout",
     "output_type": "stream",
     "text": [
      "[[1 2 3]\n",
      " [4 5 6]]\n",
      "<class 'numpy.ndarray'>\n"
     ]
    }
   ],
   "source": [
    "\n",
    "import numpy as np\n",
    "\n",
    "b = np.array(\n",
    "    [\n",
    "        [1, 2, 3],\n",
    "        [4, 5, 6]\n",
    "    ]\n",
    ")\n",
    "\n",
    "print(b)\n",
    "print(type(b))\n"
   ]
  },
  {
   "cell_type": "code",
   "execution_count": 61,
   "id": "728b680d-d607-49e7-8afc-527ba81f3ae3",
   "metadata": {},
   "outputs": [
    {
     "data": {
      "text/plain": [
       "2"
      ]
     },
     "execution_count": 61,
     "metadata": {},
     "output_type": "execute_result"
    }
   ],
   "source": [
    "\n",
    "b.ndim                     # to get the dimesnion of the array \"b\"\n"
   ]
  },
  {
   "cell_type": "markdown",
   "id": "3b075c2c-103a-440b-a5e1-37840d5f28aa",
   "metadata": {},
   "source": [
    "&nbsp;<span style=\"font-size: 1.2rem;\">⭐</span>&nbsp;&nbsp;<span style=\"color: black;\">A good tip to get the number of dimensions of an array is that you count the square brackets ( <code style=\"color: red;\">[</code> ) <u>until you encounter the first number</u>.</span>  <br>\n",
    "&nbsp;&nbsp;&nbsp;&nbsp;&nbsp;&nbsp;&nbsp;&nbsp;&nbsp;&nbsp;<span style=\"color: black;\">The number of square brackets is the number of dimensions or axes.</span>\n",
    "\n"
   ]
  },
  {
   "cell_type": "code",
   "execution_count": 62,
   "id": "052f4e2d-0f95-4075-958a-283cd5e70845",
   "metadata": {},
   "outputs": [
    {
     "data": {
      "text/plain": [
       "dtype('int32')"
      ]
     },
     "execution_count": 62,
     "metadata": {},
     "output_type": "execute_result"
    }
   ],
   "source": [
    "\n",
    "b.dtype                    # to get the data type of array elements\n",
    "                           # Note  ------>  all elements of this array have the same data type 'int32'\n"
   ]
  },
  {
   "cell_type": "code",
   "execution_count": 63,
   "id": "6da23329-2e31-40b1-8aec-7b9b9e1b2037",
   "metadata": {},
   "outputs": [
    {
     "data": {
      "text/plain": [
       "(2, 3)"
      ]
     },
     "execution_count": 63,
     "metadata": {},
     "output_type": "execute_result"
    }
   ],
   "source": [
    "\n",
    "b.shape                    # to get the shape of the array \"b\"\n"
   ]
  },
  {
   "cell_type": "markdown",
   "id": "b8fd22d1-21b4-4194-95ff-e7bc758cab98",
   "metadata": {},
   "source": [
    "&nbsp;<span style=\"color: #a245ff;\">(2, 3) &nbsp;&nbsp;=======>&nbsp;&nbsp;  2 rows & 3 columns</span>"
   ]
  },
  {
   "cell_type": "code",
   "execution_count": 65,
   "id": "3dcd84ee-a549-492d-87dc-223a1b5a2515",
   "metadata": {},
   "outputs": [
    {
     "data": {
      "text/plain": [
       "6"
      ]
     },
     "execution_count": 65,
     "metadata": {},
     "output_type": "execute_result"
    }
   ],
   "source": [
    "\n",
    "b.size             # (2,3)  =========>  2*3  = 6\n"
   ]
  },
  {
   "cell_type": "markdown",
   "id": "72ee0886-3d43-4f5e-b634-25544d3bb4f8",
   "metadata": {},
   "source": [
    "<br>\n",
    "\n",
    "<span style=\"font-size: 1rem; color: blue;\">■</span> &nbsp;&nbsp;<span style=\"color: blue; font-size: 1rem;\"><strong><u>Creating &nbsp;three-dimensional &nbsp;arrays</u></strong></span> &nbsp;&nbsp;<span style=\"color: red; font-size: 1rem;\">( **3D - tensor** )</span>"
   ]
  },
  {
   "cell_type": "code",
   "execution_count": 63,
   "id": "c328f842-c1ba-4075-8153-a7e3e34ab01e",
   "metadata": {},
   "outputs": [
    {
     "name": "stdout",
     "output_type": "stream",
     "text": [
      "[[[ 1  2  3]\n",
      "  [ 4  5  6]]\n",
      "\n",
      " [[ 7  8  9]\n",
      "  [10 11 12]]]\n",
      "<class 'numpy.ndarray'>\n"
     ]
    }
   ],
   "source": [
    "\n",
    "import numpy as np\n",
    "\n",
    "\n",
    "c = np.array(\n",
    "    [\n",
    "        [\n",
    "            [1, 2, 3],\n",
    "            [4, 5, 6]\n",
    "        ],\n",
    "        [\n",
    "            [7, 8, 9],\n",
    "            [10, 11, 12]\n",
    "        ],\n",
    "    ]\n",
    ")\n",
    "\n",
    "\n",
    "print(c)\n",
    "print(type(c))\n"
   ]
  },
  {
   "cell_type": "code",
   "execution_count": 64,
   "id": "272340c5-99af-4603-b6c6-284d1c48ab1d",
   "metadata": {},
   "outputs": [
    {
     "data": {
      "text/plain": [
       "3"
      ]
     },
     "execution_count": 64,
     "metadata": {},
     "output_type": "execute_result"
    }
   ],
   "source": [
    "\n",
    "c.ndim                     # to get the dimesnion of the array \"b\"\n"
   ]
  },
  {
   "cell_type": "code",
   "execution_count": 65,
   "id": "40b7a2c2-8c56-45e0-8f10-7edce6dfc597",
   "metadata": {},
   "outputs": [
    {
     "data": {
      "text/plain": [
       "dtype('int32')"
      ]
     },
     "execution_count": 65,
     "metadata": {},
     "output_type": "execute_result"
    }
   ],
   "source": [
    "\n",
    "c.dtype                    # to get the data type of array elements\n",
    "                           # Note  ------>  all elements of this array have the same data type 'int32'\n"
   ]
  },
  {
   "cell_type": "code",
   "execution_count": 66,
   "id": "e2def9dc-1f14-421f-a9c5-ba055fcb5a59",
   "metadata": {},
   "outputs": [
    {
     "data": {
      "text/plain": [
       "(2, 2, 3)"
      ]
     },
     "execution_count": 66,
     "metadata": {},
     "output_type": "execute_result"
    }
   ],
   "source": [
    "\n",
    "c.shape                    # to get the shape of the array \"c\"\n"
   ]
  },
  {
   "cell_type": "code",
   "execution_count": 67,
   "id": "bc78d2a2-cd8a-4892-84c6-ba8210193b16",
   "metadata": {},
   "outputs": [
    {
     "data": {
      "text/plain": [
       "12"
      ]
     },
     "execution_count": 67,
     "metadata": {},
     "output_type": "execute_result"
    }
   ],
   "source": [
    "\n",
    "c.size                     # (2,2,3)  =========>  2*2*3  = 12\n"
   ]
  },
  {
   "cell_type": "markdown",
   "id": "f3023998-ee00-4574-bbe0-d6e57be45fef",
   "metadata": {},
   "source": [
    "<br>\n",
    "\n",
    "<span style=\"font-size: 1rem; color: blue;\">■</span> &nbsp;&nbsp;<span style=\"color: blue; font-size: 1rem;\"><strong><u>Comparing &nbsp;the &nbsp;shape &nbsp;representations &nbsp;with &nbsp;respect &nbsp;to &nbsp;dimensions</span>"
   ]
  },
  {
   "cell_type": "code",
   "execution_count": 2,
   "id": "766c5813-ec35-4a3c-a4b4-d25e122af0e1",
   "metadata": {},
   "outputs": [
    {
     "name": "stdout",
     "output_type": "stream",
     "text": [
      "(3,)\n",
      "(2, 3)\n",
      "(2, 2, 3)\n"
     ]
    }
   ],
   "source": [
    "\n",
    "import numpy as np\n",
    "\n",
    "\n",
    "a = np.array([1, 2, 3])\n",
    "print(a.shape)                              # OUTPUT: (3,)\n",
    "\n",
    "\n",
    "\n",
    "\n",
    "b = np.array(\n",
    "    [\n",
    "        [1, 2, 3],\n",
    "        [4, 5, 6]\n",
    "    ]\n",
    ")\n",
    "print(b.shape)                              # OUTPUT: (2, 3)\n",
    "\n",
    "\n",
    "\n",
    "\n",
    "c = np.array(\n",
    "    [\n",
    "        [\n",
    "            [1, 2, 3],\n",
    "            [4, 5, 6]\n",
    "        ],\n",
    "        [\n",
    "            [7, 8, 9],\n",
    "            [10, 11, 12]\n",
    "        ],\n",
    "    ]\n",
    ")\n",
    "print(c.shape)                              # OUTPUT: (2, 2, 3)\n"
   ]
  },
  {
   "cell_type": "markdown",
   "id": "68e7340b-960b-416e-823e-65e10adbb793",
   "metadata": {},
   "source": [
    "<br>\n",
    "\n",
    "<div>\n",
    "\n",
    "<code style=\"padding: 5px; background-color: #c2ffa7;\">numpy.<span style=\"color: red;\">shape</span></code>\n",
    "\n",
    "&nbsp;&nbsp;&nbsp;&nbsp;&nbsp;&nbsp;&nbsp;&nbsp;&nbsp;&nbsp;**1D** &nbsp;&nbsp;===>&nbsp;&nbsp; <code>(columns, )</code> &nbsp;&nbsp;&nbsp;&nbsp;&nbsp;&nbsp;&nbsp;&nbsp;&nbsp;&nbsp;&nbsp;&nbsp;&nbsp;&nbsp;&nbsp;&nbsp;&nbsp;&nbsp;&nbsp;&nbsp;&nbsp;&nbsp;&nbsp;&nbsp;&nbsp;&nbsp;====>&nbsp;&nbsp; **vector**              <br>\n",
    "&nbsp;&nbsp;&nbsp;&nbsp;&nbsp;&nbsp;&nbsp;&nbsp;&nbsp;&nbsp;**2D** &nbsp;&nbsp;===>&nbsp;&nbsp; <code>(rows, columns)</code>  &nbsp;&nbsp;&nbsp;&nbsp;&nbsp;&nbsp;&nbsp;&nbsp;&nbsp;&nbsp;&nbsp;&nbsp;&nbsp;&nbsp;&nbsp;&nbsp;&nbsp;&nbsp;====>&nbsp;&nbsp; **matrix**         <br>\n",
    "&nbsp;&nbsp;&nbsp;&nbsp;&nbsp;&nbsp;&nbsp;&nbsp;&nbsp;&nbsp;**3D** &nbsp;&nbsp;===>&nbsp;&nbsp; <code>(depths, rows, columns)</code>  &nbsp;&nbsp;====>&nbsp;&nbsp; **tensor**\n",
    "\n",
    "<div>"
   ]
  },
  {
   "cell_type": "markdown",
   "id": "07aa0a32-2028-49b7-94f9-d9df32dda391",
   "metadata": {},
   "source": [
    "<div style=\"margin-left: 70px;\">\n",
    "\n",
    "![](../media/numpy_03.PNG)\n",
    "\n",
    "</div>"
   ]
  },
  {
   "cell_type": "code",
   "execution_count": 61,
   "id": "c62768dd-551c-4c09-9e0e-5dbb6311a3b2",
   "metadata": {},
   "outputs": [
    {
     "name": "stdout",
     "output_type": "stream",
     "text": [
      "a =  [1 2 3]\n",
      "shape of a =  (3,)\n",
      "b =  [[1 2 3]]\n",
      "shape of b =  (1, 3)\n"
     ]
    }
   ],
   "source": [
    "\n",
    "a = np.array([1,2,3])\n",
    "print(\"a = \", a)                               # 1D array   ====>   [1, 2, 3]\n",
    "print(\"shape of a = \", a.shape)                # (3, )\n",
    "\n",
    "\n",
    "\n",
    "b = np.array(\n",
    "    [\n",
    "        [1, 2, 3]\n",
    "    ]\n",
    ")\n",
    "print(\"b = \", b)                              # 2D array   ====>   [[1, 2, 3]]\n",
    "print(\"shape of b = \", b.shape)               # (1, 3)\n"
   ]
  },
  {
   "cell_type": "markdown",
   "id": "edb83370-13fa-4a02-b726-c2e8499912ca",
   "metadata": {},
   "source": [
    "<br>\n",
    "\n",
    "<span style=\"color: #06fff0; font-size: 0.7rem;\">■■■■■■■■■■■■■■■■■■■■■■■■■■■■■■■■■■■■■■■■■■■■■■■■■■■■■■■■■■■■■■■■■■■■■■■■■■■■■■■■■■■■■■■■■■■■■■■■■■■■■■■■■■■■■■■</span>\n",
    "\n",
    "<br>\n",
    "\n",
    "<span style=\"color: #a245ff;\">Let's do some practice</span>\n",
    "\n",
    "<span style=\"font-size: 0.7rem; color: red;\">■</span> &nbsp;<span style=\"color: black;\">The type of the array can also be explicitly specified at creation time :</span> &nbsp;&nbsp;<code style=\"padding: 5px;\">numpy.<span style=\"color: red;\">array(</span>object, dtype=None, *,<span style=\"color: red;\">)</span></code>"
   ]
  },
  {
   "cell_type": "code",
   "execution_count": 53,
   "id": "688b743c-f30a-428e-afd5-074803c2e9db",
   "metadata": {},
   "outputs": [
    {
     "name": "stdout",
     "output_type": "stream",
     "text": [
      "[1 3 5]\n",
      "int64\n"
     ]
    }
   ],
   "source": [
    "\n",
    "a = np.array([1, 3, 5], dtype=\"int64\")                        # numpy.array(object, dtype=None, *,)\n",
    "\n",
    "print(a)\n",
    "print(a.dtype)\n"
   ]
  },
  {
   "cell_type": "code",
   "execution_count": 74,
   "id": "8b27d6a3-9159-4b6b-be94-7f02fb1cf476",
   "metadata": {},
   "outputs": [
    {
     "name": "stdout",
     "output_type": "stream",
     "text": [
      "[[1.+0.j 2.+0.j]\n",
      " [3.+0.j 4.+0.j]]\n"
     ]
    }
   ],
   "source": [
    "\n",
    "a = np.array([[1, 2], [3, 4]], dtype=complex)         \n",
    "\n",
    "print(a)\n"
   ]
  },
  {
   "cell_type": "code",
   "execution_count": 33,
   "id": "01cac890-769e-4664-884b-b7632f1ea04f",
   "metadata": {},
   "outputs": [
    {
     "ename": "TypeError",
     "evalue": "array() takes from 1 to 2 positional arguments but 4 were given",
     "output_type": "error",
     "traceback": [
      "\u001b[1;31m---------------------------------------------------------------------------\u001b[0m",
      "\u001b[1;31mTypeError\u001b[0m                                 Traceback (most recent call last)",
      "Cell \u001b[1;32mIn[33], line 1\u001b[0m\n\u001b[1;32m----> 1\u001b[0m a \u001b[38;5;241m=\u001b[39m \u001b[43mnp\u001b[49m\u001b[38;5;241;43m.\u001b[39;49m\u001b[43marray\u001b[49m\u001b[43m(\u001b[49m\u001b[38;5;241;43m1\u001b[39;49m\u001b[43m,\u001b[49m\u001b[43m \u001b[49m\u001b[38;5;241;43m2\u001b[39;49m\u001b[43m,\u001b[49m\u001b[43m \u001b[49m\u001b[38;5;241;43m3\u001b[39;49m\u001b[43m,\u001b[49m\u001b[43m \u001b[49m\u001b[38;5;241;43m4\u001b[39;49m\u001b[43m)\u001b[49m    \n",
      "\u001b[1;31mTypeError\u001b[0m: array() takes from 1 to 2 positional arguments but 4 were given"
     ]
    }
   ],
   "source": [
    "\n",
    "a = np.array(1, 2, 3, 4)    \n"
   ]
  },
  {
   "cell_type": "code",
   "execution_count": 44,
   "id": "1d82f731-5693-4c85-840b-501cb93f0db7",
   "metadata": {},
   "outputs": [
    {
     "name": "stdout",
     "output_type": "stream",
     "text": [
      "[[1 2 3]\n",
      " [4 5 6]]\n",
      "<class 'numpy.ndarray'>\n",
      "\n",
      "\n",
      "[[1 2 3]\n",
      " [4 5 6]]\n",
      "<class 'numpy.ndarray'>\n"
     ]
    }
   ],
   "source": [
    "\n",
    "a = np.array([(1, 2, 3), (4, 5, 6)])           # Method-1\n",
    "b = np.array([[1, 2, 3], [4, 5, 6]])           # Method-2\n",
    "\n",
    "print(a)\n",
    "print(type(a))\n",
    "\n",
    "print(\"\\n\")\n",
    "\n",
    "print(b)\n",
    "print(type(b))\n"
   ]
  },
  {
   "cell_type": "code",
   "execution_count": 46,
   "id": "e799787f-41ee-4e3a-8dcd-db7ec047feac",
   "metadata": {},
   "outputs": [
    {
     "name": "stdout",
     "output_type": "stream",
     "text": [
      "[[1.5 2.  3. ]\n",
      " [4.  5.  6. ]]\n",
      "<class 'numpy.ndarray'>\n",
      "\n",
      "\n",
      "[[1.5 2.  3. ]\n",
      " [4.  5.  6. ]]\n",
      "<class 'numpy.ndarray'>\n"
     ]
    }
   ],
   "source": [
    "\n",
    "a = np.array([(1.5, 2, 3), (4, 5, 6)])         # Method-1\n",
    "b = np.array([[1.5, 2, 3], [4, 5, 6]])         # Method-2\n",
    "\n",
    "print(a)\n",
    "print(type(a))\n",
    "\n",
    "print(\"\\n\")\n",
    "\n",
    "print(b)\n",
    "print(type(b))\n"
   ]
  },
  {
   "cell_type": "markdown",
   "id": "3f41bb5d-dbf4-495f-8faf-38740f32bba6",
   "metadata": {
    "jp-MarkdownHeadingCollapsed": true
   },
   "source": [
    "<br>\n",
    "\n",
    "### <div style=\"color: white; background-color: #af87ff; padding: 5px;\"> <code style=\"font-size: 1.2rem; background-color: #af87ff; color: white;\"><strong>numpy.zeros()</strong></code> </div>"
   ]
  },
  {
   "cell_type": "markdown",
   "id": "e9e697ff-8885-4696-8014-b5ecdb0dec24",
   "metadata": {},
   "source": [
    "<code style=\"background-color: yellow; padding: 6px;\">numpy.<span style=\"color: red;\">zeros(</span>shape, dtype<span style=\"color: #9b96a1;\">=float</span>, order<span style=\"color: #9b96a1;\">='C'</span>, *<span style=\"color: red;\">)</span></code> &nbsp;&nbsp;&nbsp;&nbsp;====>&nbsp;&nbsp;&nbsp;&nbsp;Returns a new array of given shape and type, **filled with zeros**.\n",
    "\n",
    "<span style=\"margin-left: 364px;\"> &nbsp;&nbsp;&nbsp;&nbsp;====>&nbsp;&nbsp;&nbsp;&nbsp;order {'C', 'F'}</span>\n",
    "\n",
    "<span style=\"margin-left: 364px;\"> &nbsp;&nbsp;&nbsp;&nbsp;====>&nbsp;&nbsp;&nbsp;&nbsp;Whether to store multi-dimensional data in **row-major (C)** or **column-major (F)** order <U>in memory</U></span>"
   ]
  },
  {
   "cell_type": "code",
   "execution_count": 86,
   "id": "9b88de10-0008-4517-8411-ceb849a0ae74",
   "metadata": {},
   "outputs": [
    {
     "data": {
      "text/plain": [
       "array([0., 0., 0., 0., 0.])"
      ]
     },
     "execution_count": 86,
     "metadata": {},
     "output_type": "execute_result"
    }
   ],
   "source": [
    "\n",
    "np.zeros(5)\n"
   ]
  },
  {
   "cell_type": "code",
   "execution_count": 77,
   "id": "97d7d620-a07f-4a38-b708-9917048b69be",
   "metadata": {},
   "outputs": [
    {
     "data": {
      "text/plain": [
       "array([0, 0, 0, 0, 0])"
      ]
     },
     "execution_count": 77,
     "metadata": {},
     "output_type": "execute_result"
    }
   ],
   "source": [
    "\n",
    "np.zeros((5,), dtype=int)\n"
   ]
  },
  {
   "cell_type": "code",
   "execution_count": 78,
   "id": "8dd3fe7e-4104-4943-b558-62cabef6528e",
   "metadata": {},
   "outputs": [
    {
     "data": {
      "text/plain": [
       "array([[0.],\n",
       "       [0.]])"
      ]
     },
     "execution_count": 78,
     "metadata": {},
     "output_type": "execute_result"
    }
   ],
   "source": [
    "\n",
    "np.zeros((2, 1))\n"
   ]
  },
  {
   "cell_type": "code",
   "execution_count": 85,
   "id": "a46882ce-ad80-495f-a9bd-64626577484e",
   "metadata": {},
   "outputs": [
    {
     "data": {
      "text/plain": [
       "array([[0., 0., 0., 0.],\n",
       "       [0., 0., 0., 0.],\n",
       "       [0., 0., 0., 0.]])"
      ]
     },
     "execution_count": 85,
     "metadata": {},
     "output_type": "execute_result"
    }
   ],
   "source": [
    "\n",
    "s = (3,4)                                                       # tuple\n",
    "np.zeros(s)\n"
   ]
  },
  {
   "cell_type": "code",
   "execution_count": 89,
   "id": "a97029dc-e588-4c17-a742-899eafd4f7fe",
   "metadata": {},
   "outputs": [
    {
     "data": {
      "text/plain": [
       "array([[[0., 0.],\n",
       "        [0., 0.],\n",
       "        [0., 0.]],\n",
       "\n",
       "       [[0., 0.],\n",
       "        [0., 0.],\n",
       "        [0., 0.]]])"
      ]
     },
     "execution_count": 89,
     "metadata": {},
     "output_type": "execute_result"
    }
   ],
   "source": [
    "\n",
    "np.zeros((2, 3, 2))                                             # 2 layers, each having a 2D array of 3 rows and 2 columns \n"
   ]
  },
  {
   "cell_type": "code",
   "execution_count": 86,
   "id": "827db285-7ec1-4dd9-9af6-bc69d2316ef4",
   "metadata": {},
   "outputs": [
    {
     "data": {
      "text/plain": [
       "array([(0, 0), (0, 0)], dtype=[('x', '<i4'), ('y', '<i4')])"
      ]
     },
     "execution_count": 86,
     "metadata": {},
     "output_type": "execute_result"
    }
   ],
   "source": [
    "\n",
    "np.zeros((2,), dtype=[('x', 'i4'), ('y', 'i4')])                # custom dtype\n"
   ]
  },
  {
   "cell_type": "markdown",
   "id": "5a6925ba-395d-4d21-80f1-34368075c2f1",
   "metadata": {
    "jp-MarkdownHeadingCollapsed": true
   },
   "source": [
    "<br>\n",
    "\n",
    "### <div style=\"color: white; background-color: #af87ff; padding: 5px;\"> <code style=\"font-size: 1.2rem; background-color: #af87ff; color: white;\"><strong>numpy.ones()</strong></code> </div>"
   ]
  },
  {
   "cell_type": "markdown",
   "id": "97ff8c29-a3d2-4ca2-aff9-220cad6cb345",
   "metadata": {},
   "source": [
    "<code style=\"background-color: yellow; padding: 6px;\">numpy.<span style=\"color: red;\">ones(</span>shape<span style=\"color: red;\">,</span> dtype<span style=\"color: #9b96a1;\">=float</span><span style=\"color: red;\">,</span> order<span style=\"color: #9b96a1;\">='C'</span><span style=\"color: red;\">,</span> *<span style=\"color: red;\">)</span></code> &nbsp;&nbsp;&nbsp;&nbsp;====>&nbsp;&nbsp;&nbsp;&nbsp;Returns a new array of given shape and type, **filled with ones**.\n",
    "\n",
    "<span style=\"margin-left: 355px;\"> &nbsp;&nbsp;&nbsp;&nbsp;====>&nbsp;&nbsp;&nbsp;&nbsp;order {'C', 'F'}</span>\n",
    "\n",
    "<span style=\"margin-left: 355px;\"> &nbsp;&nbsp;&nbsp;&nbsp;====>&nbsp;&nbsp;&nbsp;&nbsp;Whether to store multi-dimensional data in **row-major (C)** or **column-major (F)** order <u>in memory</u></span>"
   ]
  },
  {
   "cell_type": "code",
   "execution_count": 87,
   "id": "747da0d2-c40c-4b73-853e-99e89b5df216",
   "metadata": {},
   "outputs": [
    {
     "data": {
      "text/plain": [
       "array([1., 1., 1., 1., 1.])"
      ]
     },
     "execution_count": 87,
     "metadata": {},
     "output_type": "execute_result"
    }
   ],
   "source": [
    "\n",
    "np.ones(5)\n"
   ]
  },
  {
   "cell_type": "code",
   "execution_count": 88,
   "id": "b1311a39-5903-406c-acc2-a04d78ec4483",
   "metadata": {},
   "outputs": [
    {
     "data": {
      "text/plain": [
       "array([1, 1, 1, 1, 1])"
      ]
     },
     "execution_count": 88,
     "metadata": {},
     "output_type": "execute_result"
    }
   ],
   "source": [
    "\n",
    "np.ones((5,), dtype=int)\n"
   ]
  },
  {
   "cell_type": "code",
   "execution_count": 89,
   "id": "12a7bbb6-e814-40d0-a53a-6c225033fb1e",
   "metadata": {},
   "outputs": [
    {
     "data": {
      "text/plain": [
       "array([[1.],\n",
       "       [1.]])"
      ]
     },
     "execution_count": 89,
     "metadata": {},
     "output_type": "execute_result"
    }
   ],
   "source": [
    "\n",
    "np.ones((2, 1))\n"
   ]
  },
  {
   "cell_type": "code",
   "execution_count": 110,
   "id": "bc60881a-6cc0-4d90-a357-41938fced494",
   "metadata": {},
   "outputs": [
    {
     "data": {
      "text/plain": [
       "array([[1., 1., 1., 1.],\n",
       "       [1., 1., 1., 1.],\n",
       "       [1., 1., 1., 1.]])"
      ]
     },
     "execution_count": 110,
     "metadata": {},
     "output_type": "execute_result"
    }
   ],
   "source": [
    "\n",
    "s = (3,4)                                                          # tuple\n",
    "np.ones(s)\n"
   ]
  },
  {
   "cell_type": "code",
   "execution_count": 111,
   "id": "5f32d3da-4649-4212-a27e-7eb3919921d0",
   "metadata": {},
   "outputs": [
    {
     "data": {
      "text/plain": [
       "array([(1, 1), (1, 1)], dtype=[('x', '<i4'), ('y', '<i4')])"
      ]
     },
     "execution_count": 111,
     "metadata": {},
     "output_type": "execute_result"
    }
   ],
   "source": [
    "\n",
    "np.ones((2,), dtype=[('x', 'i4'), ('y', 'i4')])                    # custom dtype\n"
   ]
  },
  {
   "cell_type": "code",
   "execution_count": 112,
   "id": "f81e68a1-68fd-4d55-8712-58d8a98e8ea9",
   "metadata": {},
   "outputs": [
    {
     "data": {
      "text/plain": [
       "array([[[1, 1, 1, 1],\n",
       "        [1, 1, 1, 1],\n",
       "        [1, 1, 1, 1]],\n",
       "\n",
       "       [[1, 1, 1, 1],\n",
       "        [1, 1, 1, 1],\n",
       "        [1, 1, 1, 1]]], dtype=int16)"
      ]
     },
     "execution_count": 112,
     "metadata": {},
     "output_type": "execute_result"
    }
   ],
   "source": [
    "\n",
    "np.ones((2, 3, 4), dtype=np.int16)                                 # (depth, rows, columns)\n"
   ]
  },
  {
   "cell_type": "markdown",
   "id": "cef42511-7d5c-4aed-a402-ab7831b364db",
   "metadata": {
    "jp-MarkdownHeadingCollapsed": true
   },
   "source": [
    "<br>\n",
    "\n",
    "### <div style=\"color: white; background-color: #af87ff; padding: 5px;\"> <code style=\"font-size: 1.2rem; background-color: #af87ff; color: white;\"><strong>numpy.eye()</strong></code> </div>"
   ]
  },
  {
   "cell_type": "markdown",
   "id": "ba733a40-50da-4543-8aa6-488093397a92",
   "metadata": {},
   "source": [
    "<code style=\"background-color: yellow; padding: 6px;\">numpy.<span style=\"color: red;\">eye(</span>num_rows<span style=\"color: red;\">,</span> num_columns<span style=\"color: #9b96a1;\">=None</span><span style=\"color: red;\">,</span> k<span style=\"color: #9b96a1;\">=0</span><span style=\"color: red;\">,</span> dtype<span style=\"color: #9b96a1;\">=float</span><span style=\"color: red;\">,</span> order<span style=\"color: #9b96a1;\">='C'</span><span style=\"color: red;\">,</span> *<span style=\"color: red;\">)</span></code> &nbsp;&nbsp;&nbsp;&nbsp;====>&nbsp;&nbsp;&nbsp;&nbsp;Return a 2-D array with ones on the diagonal and zeros elsewhere.\n",
    "\n",
    "<div style=\"display: flex; margin-left: 525px;\">\n",
    "<div>====></div>\n",
    "<div style=\"margin-left: 15px;\"><strong>k</strong> = Index of the diagonal: 0 (default) refers to the <u>main diagonal</u>, <u>a positive value refers to an upper diagonal</u>, and <u>a negative value to a lower diagonal</u>.</div>\n",
    "</div>\n",
    "\n",
    "<br>\n",
    "\n",
    "<span style=\"margin-left: 510px;\"> &nbsp;&nbsp;&nbsp;&nbsp;====>&nbsp;&nbsp;&nbsp;&nbsp;order {'C', 'F'}</span>\n"
   ]
  },
  {
   "cell_type": "code",
   "execution_count": 95,
   "id": "94481013-d0f1-4713-8a3f-0b879244006a",
   "metadata": {},
   "outputs": [
    {
     "data": {
      "text/plain": [
       "array([[1, 0],\n",
       "       [0, 1]])"
      ]
     },
     "execution_count": 95,
     "metadata": {},
     "output_type": "execute_result"
    }
   ],
   "source": [
    "\n",
    "np.eye(2, dtype=int)\n"
   ]
  },
  {
   "cell_type": "code",
   "execution_count": 96,
   "id": "c7243ede-46b4-46a3-a75b-692d4679fd8e",
   "metadata": {},
   "outputs": [
    {
     "data": {
      "text/plain": [
       "array([[0., 1., 0.],\n",
       "       [0., 0., 1.],\n",
       "       [0., 0., 0.]])"
      ]
     },
     "execution_count": 96,
     "metadata": {},
     "output_type": "execute_result"
    }
   ],
   "source": [
    "\n",
    "np.eye(3, k=1)\n"
   ]
  },
  {
   "cell_type": "markdown",
   "id": "b2758785-8ac4-40b9-abec-6bd84c186fea",
   "metadata": {
    "jp-MarkdownHeadingCollapsed": true
   },
   "source": [
    "<br>\n",
    "\n",
    "### <div style=\"color: white; background-color: #af87ff; padding: 5px;\"> <code style=\"font-size: 1.2rem; background-color: #af87ff; color: white;\"><strong>numpy.identity()</strong></code> </div>"
   ]
  },
  {
   "cell_type": "markdown",
   "id": "dba2063a-9ab7-4cca-bfbd-e90d76e81eb0",
   "metadata": {},
   "source": [
    "<code style=\"background-color: yellow; padding: 6px;\">numpy.<span style=\"color: red;\">identity(</span>n<span style=\"color: red;\">,</span> dtype<span style=\"color: #9b96a1;\">=None</span><span style=\"color: red;\">,</span> *<span style=\"color: red;\">)</span></code> &nbsp;&nbsp;&nbsp;&nbsp;====>&nbsp;&nbsp;&nbsp;&nbsp;Returns the **identity array** which is <u>a square array with ones on the main diagonal</u>. <br>\n",
    "<span style=\"margin-left: 342px;\">It actually returns &nbsp;<code>n x n</code>&nbsp; array with its **main diagonal set to one**, and **all other elements 0**.</span>\n",
    "\n",
    "<span style=\"margin-left: 264px;\"> &nbsp;&nbsp;&nbsp;&nbsp;====>&nbsp;&nbsp;&nbsp;&nbsp;**n** &nbsp;=&nbsp; Number of rows (and columns) in &nbsp;<code>n x n</code>&nbsp; output.</span>\n",
    "\n"
   ]
  },
  {
   "cell_type": "code",
   "execution_count": 98,
   "id": "3c973a43-1e76-46ae-98bf-98907f527e81",
   "metadata": {},
   "outputs": [
    {
     "data": {
      "text/plain": [
       "array([[1., 0., 0.],\n",
       "       [0., 1., 0.],\n",
       "       [0., 0., 1.]])"
      ]
     },
     "execution_count": 98,
     "metadata": {},
     "output_type": "execute_result"
    }
   ],
   "source": [
    "\n",
    "np.identity(3)\n"
   ]
  },
  {
   "cell_type": "markdown",
   "id": "f4dc1e89-a7b2-4953-9bc8-1a19665f87e0",
   "metadata": {
    "jp-MarkdownHeadingCollapsed": true
   },
   "source": [
    "<br>\n",
    "\n",
    "### <div style=\"color: white; background-color: #af87ff; padding: 5px;\"> <code style=\"font-size: 1.2rem; background-color: #af87ff; color: white;\"><strong>numpy.empty()</strong></code> </div>"
   ]
  },
  {
   "cell_type": "markdown",
   "id": "df317108-4788-4ced-ba39-ad7a58dd4883",
   "metadata": {},
   "source": [
    "<code style=\"background-color: yellow; padding: 6px;\">numpy.<span style=\"color: red;\">empty(</span>shape<span style=\"color: red;\">,</span> dtype<span style=\"color: #9b96a1;\">=float</span><span style=\"color: red;\">,</span> order<span style=\"color: #9b96a1;\">='C'</span><span style=\"color: red;\">,</span> *<span style=\"color: red;\">)</span></code> &nbsp;&nbsp;&nbsp;&nbsp;====>&nbsp;&nbsp;&nbsp;&nbsp;Return a new array of given shape and type, <u>without initializing entries</u>.\n",
    "\n",
    "<span style=\"margin-left: 364px;\"> &nbsp;&nbsp;&nbsp;&nbsp;====>&nbsp;&nbsp;&nbsp;&nbsp;order {'C', 'F'}</span>\n",
    "\n",
    "<span style=\"margin-left: 364px;\"> &nbsp;&nbsp;&nbsp;&nbsp;====>&nbsp;&nbsp;&nbsp;&nbsp;Whether to store multi-dimensional data in **row-major (C)** or **column-major (F)** order <u>in memory</u></span>\n",
    "\n"
   ]
  },
  {
   "cell_type": "code",
   "execution_count": 103,
   "id": "d417767e-5e02-404a-92ec-f2870e2a61cb",
   "metadata": {},
   "outputs": [
    {
     "data": {
      "text/plain": [
       "array([[1., 1.],\n",
       "       [1., 1.]])"
      ]
     },
     "execution_count": 103,
     "metadata": {},
     "output_type": "execute_result"
    }
   ],
   "source": [
    "\n",
    "np.empty([2, 2])                          # uninitialized\n"
   ]
  },
  {
   "cell_type": "code",
   "execution_count": 107,
   "id": "7f97e9a2-d6e8-477a-a870-5fe5aa36f292",
   "metadata": {},
   "outputs": [
    {
     "data": {
      "text/plain": [
       "array([[-2102209360,         434],\n",
       "       [          0,           0]])"
      ]
     },
     "execution_count": 107,
     "metadata": {},
     "output_type": "execute_result"
    }
   ],
   "source": [
    "\n",
    "np.empty([2, 2], dtype=int)               # uninitialized     \n",
    "                                          # the ouput will keep on changing everytime you execute this line\n"
   ]
  },
  {
   "cell_type": "code",
   "execution_count": 11,
   "id": "c075513d-576f-4ca3-b20d-8d2bf917e37a",
   "metadata": {},
   "outputs": [
    {
     "data": {
      "text/plain": [
       "array([[0.53222222, 0.33722222, 0.53222222],\n",
       "       [4.03322222, 5.49222222, 0.33722222]])"
      ]
     },
     "execution_count": 11,
     "metadata": {},
     "output_type": "execute_result"
    }
   ],
   "source": [
    "\n",
    "np.empty((2, 3)) \n"
   ]
  },
  {
   "cell_type": "markdown",
   "id": "6698ec81-63ea-483f-8488-d3be6a2c01aa",
   "metadata": {},
   "source": [
    "<br>\n",
    "\n",
    "<code style=\"color:white; background-color: red;\">Caution</code> <br>\n",
    "It’s not safe to assume that <code>numpy.<span style=\"color: red;\">empty()</span></code> will return an array of all zeros. &nbsp;This function returns **uninitialized memory** and thus **may contain nonzero \"garbage\" values** . You should use this function only if you intend to populate the new array with data.\n",
    "\n",
    "<br>"
   ]
  },
  {
   "cell_type": "markdown",
   "id": "f990ff44-83be-4315-bc95-f1da835738b3",
   "metadata": {
    "jp-MarkdownHeadingCollapsed": true
   },
   "source": [
    "<br>\n",
    "\n",
    "### <div style=\"color: white; background-color: #af87ff; padding: 5px;\"> <code style=\"font-size: 1.2rem; background-color: #af87ff; color: white;\"><strong>numpy.arange()</strong></code> </div>"
   ]
  },
  {
   "cell_type": "markdown",
   "id": "e25a8b0d-719a-4695-b0cc-cbe6f9e9cb8b",
   "metadata": {},
   "source": [
    "\n",
    "<code style=\"background-color: yellow; padding: 6px;\">numpy.<span style=\"color: red;\">arange(</span>[start<span style=\"color: red;\">,</span> ]stop<span style=\"color: red;\">,</span> [step, ]dtype<span style=\"color: #9b96a1;\">=None</span><span style=\"color: red;\">,</span> *<span style=\"color: red;\">)</span></code> &nbsp;&nbsp;&nbsp;&nbsp;====>&nbsp;&nbsp;&nbsp;&nbsp;Return **evenly spaced values** within a given interval.\n",
    "\n",
    "<br>\n",
    "\n",
    "For integer arguments the function is roughly equivalent to the Python built-in &nbsp;<code style=\"color: red; background-color: #c1dbff;\">range</code> , but returns an <u><span style=\"color: blue;\">**ndarray**</span></u> rather than a <u>range instance</u>.\n",
    "\n",
    "<br>\n",
    "\n",
    "When using a **non-integer step**, such as <code style=\"color: blue;\">0.1</code> , it is often better to use &nbsp;<code style=\"background-color: #faf300;\">numpy.<span style=\"color: red;\">linspace()</span></code>.&nbsp; \n",
    "<span style=\"color: #a245ff;\">When <code style=\"color: red;\">arange()</code> is used with floating point arguments, it is generally not possible to predict the number of elements obtained, due to the finite floating point precision. &nbsp;For this reason, it is usually better to use the function <code style=\"color: red;\">linspace()</code> that receives as an argument the number of elements that we want, instead of the step :</span>\n",
    "\n",
    "<br>"
   ]
  },
  {
   "cell_type": "code",
   "execution_count": 33,
   "id": "f7c027c1-a136-4951-b8e8-e0c26fdbe0e4",
   "metadata": {},
   "outputs": [
    {
     "data": {
      "text/plain": [
       "array([0, 1, 2])"
      ]
     },
     "execution_count": 33,
     "metadata": {},
     "output_type": "execute_result"
    }
   ],
   "source": [
    "\n",
    "np.arange(3)                            # arange(stop)   =======>   [0, stop)   =======>   \"0\" included, but \"stop\" excluded\n",
    "                                        "
   ]
  },
  {
   "cell_type": "code",
   "execution_count": 32,
   "id": "de82d823-f33c-45a8-84c8-61e692e73f27",
   "metadata": {},
   "outputs": [
    {
     "data": {
      "text/plain": [
       "array([0., 1., 2.])"
      ]
     },
     "execution_count": 32,
     "metadata": {},
     "output_type": "execute_result"
    }
   ],
   "source": [
    "\n",
    "np.arange(3.0)                          # it accepts float arguments\n"
   ]
  },
  {
   "cell_type": "code",
   "execution_count": 31,
   "id": "1b1dae37-ffec-405e-9530-911fcec64cb2",
   "metadata": {},
   "outputs": [
    {
     "data": {
      "text/plain": [
       "array([3, 4, 5, 6])"
      ]
     },
     "execution_count": 31,
     "metadata": {},
     "output_type": "execute_result"
    }
   ],
   "source": [
    "\n",
    "np.arange(3,7)                          # arange(start, stop)\n"
   ]
  },
  {
   "cell_type": "code",
   "execution_count": 30,
   "id": "a8956d2f-2b18-4a46-8bc6-6cfb83f15837",
   "metadata": {},
   "outputs": [
    {
     "data": {
      "text/plain": [
       "array([3, 5])"
      ]
     },
     "execution_count": 30,
     "metadata": {},
     "output_type": "execute_result"
    }
   ],
   "source": [
    "\n",
    "np.arange(3,7,2)                        # arange(start, stop, step)\n"
   ]
  },
  {
   "cell_type": "code",
   "execution_count": 29,
   "id": "c63105da-018c-4d40-98a3-c2222821b838",
   "metadata": {},
   "outputs": [
    {
     "data": {
      "text/plain": [
       "array([10, 15, 20, 25])"
      ]
     },
     "execution_count": 29,
     "metadata": {},
     "output_type": "execute_result"
    }
   ],
   "source": [
    "\n",
    "np.arange(10, 30, 5)                    # arange(start, stop, step)\n"
   ]
  },
  {
   "cell_type": "code",
   "execution_count": 34,
   "id": "acde6bed-aa86-4660-95d6-7d2c5d2ddc65",
   "metadata": {},
   "outputs": [
    {
     "data": {
      "text/plain": [
       "array([0. , 0.3, 0.6, 0.9, 1.2, 1.5, 1.8])"
      ]
     },
     "execution_count": 34,
     "metadata": {},
     "output_type": "execute_result"
    }
   ],
   "source": [
    "\n",
    "np.arange(0, 2, 0.3)                    # it accepts float arguments\n"
   ]
  },
  {
   "cell_type": "markdown",
   "id": "0db398c4-7132-4910-bd39-a389eeb3080a",
   "metadata": {},
   "source": [
    "<br>\n",
    "\n",
    "<code style=\"background-color: red; color: white;\"> Warning </code>\n",
    "\n",
    "However, **the length of the output <u>might not be numerically stable</u> while handlling float values values** (due to precision error while type casting).<br>\n",
    "Also, the built-in &nbsp;<code style=\"color: red;\">range()</code>&nbsp; generates Python built-in integers that have arbitrary size, while &nbsp;<code>numpy.<span style=\"color: red;\">arange()</span></code> produces numpy.int32 or numpy.int64 numbers. **This may result in incorrect results for large integer values**:\n",
    "\n",
    "https://numpy.org/doc/stable/reference/generated/numpy.arange.html"
   ]
  },
  {
   "cell_type": "code",
   "execution_count": 119,
   "id": "9d8bb89a-e9c6-4ae9-92d7-f8ee7fb1bbcf",
   "metadata": {},
   "outputs": [
    {
     "data": {
      "text/plain": [
       "array([0, 0, 0, 0, 0, 0, 0, 0, 0, 0])"
      ]
     },
     "execution_count": 119,
     "metadata": {},
     "output_type": "execute_result"
    }
   ],
   "source": [
    "\n",
    "np.arange(0, 5, 0.5, dtype=int)\n"
   ]
  },
  {
   "cell_type": "code",
   "execution_count": 120,
   "id": "0a4ae4a2-047d-4b98-97ea-5338f61f38e7",
   "metadata": {},
   "outputs": [
    {
     "data": {
      "text/plain": [
       "array([-3, -2, -1,  0,  1,  2,  3,  4,  5,  6,  7,  8])"
      ]
     },
     "execution_count": 120,
     "metadata": {},
     "output_type": "execute_result"
    }
   ],
   "source": [
    "\n",
    "np.arange(-3, 3, 0.5, dtype=int)\n"
   ]
  },
  {
   "cell_type": "code",
   "execution_count": 3,
   "id": "6775f114-38c6-4b3b-9fc3-db53e72e49a8",
   "metadata": {},
   "outputs": [
    {
     "name": "stdout",
     "output_type": "stream",
     "text": [
      "[0, 1, 7776, 8801, 6176, 625, 6576, 4001]\n",
      "[0, 1, 0, 6897, 0, 3617, 0, 1537]\n"
     ]
    }
   ],
   "source": [
    "\n",
    "power = 40\n",
    "modulo = 10000\n",
    "x1 = [(n ** power) % modulo for n in range(8)]\n",
    "x2 = [(n ** power) % modulo for n in np.arange(8)]\n",
    "print(x1)\n",
    "print(x2)\n"
   ]
  },
  {
   "cell_type": "markdown",
   "id": "234b472a-8b4d-4e88-9901-d13b420bb7f3",
   "metadata": {
    "jp-MarkdownHeadingCollapsed": true
   },
   "source": [
    "<br>\n",
    "\n",
    "### <div style=\"color: white; background-color: #af87ff; padding: 5px;\"> <code style=\"font-size: 1.2rem; background-color: #af87ff; color: white;\"><strong>numpy.linspace()</strong></code> </div>"
   ]
  },
  {
   "cell_type": "markdown",
   "id": "451839be-86f5-4591-9d3c-3327e0ec200d",
   "metadata": {},
   "source": [
    "<code style=\"background-color: yellow; padding: 6px;\">numpy.<span style=\"color: red;\">empty(</span>start<span style=\"color: red;\">,</span> stop<span style=\"color: red;\">,</span> num=50<span style=\"color: red;\">,</span> endpoint<span style=\"color: #9b96a1;\">=True</span><span style=\"color: red;\">,</span> retstep<span style=\"color: #9b96a1;\">=False</span><span style=\"color: red;\">,</span> dtype<span style=\"color: #9b96a1;\">=None</span><span style=\"color: red;\">,</span> axis<span style=\"color: #9b96a1;\">=0</span><span style=\"color: red;\">,</span> *<span style=\"color: red;\">)</span></code> \n",
    "\n",
    "<span style=\"margin-left: 450px;\"> &nbsp;&nbsp;==>&nbsp;&nbsp; Return **evenly** spaced numbers over a specified interval</span>\n",
    "\n",
    "<span style=\"margin-left: 450px;\"> &nbsp;&nbsp;==>&nbsp;&nbsp; Returns &nbsp;<code>num</code>&nbsp; evenly spaced samples, calculated over the interval &nbsp;<code>[start, stop]</code></span>\n",
    "\n",
    "<span style=\"margin-left: 450px;\"> &nbsp;&nbsp;==>&nbsp;&nbsp; The endpoint of the interval can optionally be excluded</span>\n",
    "\n",
    "<span style=\"margin-left: 450px;\"> &nbsp;&nbsp;==>&nbsp;&nbsp; <code>retstep</code> &nbsp;➜ &nbsp;If True, return (samples, step), where step is the spacing between samples.</span>\n"
   ]
  },
  {
   "cell_type": "code",
   "execution_count": 15,
   "id": "bfb8946e-02cd-4e2a-ba82-7ec5a6653713",
   "metadata": {},
   "outputs": [
    {
     "data": {
      "text/plain": [
       "array([0.  , 0.25, 0.5 , 0.75, 1.  , 1.25, 1.5 , 1.75, 2.  ])"
      ]
     },
     "execution_count": 15,
     "metadata": {},
     "output_type": "execute_result"
    }
   ],
   "source": [
    "\n",
    "np.linspace(0, 2, 9)                                                  # 9 numbers from 0 to 2\n"
   ]
  },
  {
   "cell_type": "code",
   "execution_count": 16,
   "id": "2f6fe256-75d8-43bc-9586-1a83b5db264f",
   "metadata": {},
   "outputs": [
    {
     "data": {
      "text/plain": [
       "array([2.  , 2.25, 2.5 , 2.75, 3.  ])"
      ]
     },
     "execution_count": 16,
     "metadata": {},
     "output_type": "execute_result"
    }
   ],
   "source": [
    "\n",
    "np.linspace(2.0, 3.0, num=5)                                          # 5 numbers from 2.0 to 3.0\n"
   ]
  },
  {
   "cell_type": "code",
   "execution_count": 17,
   "id": "b2484829-a884-47bf-93f2-05a69cee8482",
   "metadata": {},
   "outputs": [
    {
     "data": {
      "text/plain": [
       "array([2. , 2.2, 2.4, 2.6, 2.8])"
      ]
     },
     "execution_count": 17,
     "metadata": {},
     "output_type": "execute_result"
    }
   ],
   "source": [
    "\n",
    "np.linspace(2.0, 3.0, num=5, endpoint=False)                          # 5 numbers from 2.0 to 3.0, with 3.0 excluded\n"
   ]
  },
  {
   "cell_type": "code",
   "execution_count": 18,
   "id": "38d5b2d1-b0a8-4d8b-977a-8300910696a5",
   "metadata": {},
   "outputs": [
    {
     "data": {
      "text/plain": [
       "(array([2.  , 2.25, 2.5 , 2.75, 3.  ]), 0.25)"
      ]
     },
     "execution_count": 18,
     "metadata": {},
     "output_type": "execute_result"
    }
   ],
   "source": [
    "\n",
    "np.linspace(2.0, 3.0, num=5, retstep=True)                            # 5 numbers from 2.0 to 3.0\n"
   ]
  },
  {
   "cell_type": "code",
   "execution_count": 24,
   "id": "f2431607-2f05-49b4-a315-789f36e7c219",
   "metadata": {},
   "outputs": [
    {
     "data": {
      "text/plain": [
       "array([0.        , 0.06346652, 0.12693304, 0.19039955, 0.25386607,\n",
       "       0.31733259, 0.38079911, 0.44426563, 0.50773215, 0.57119866,\n",
       "       0.63466518, 0.6981317 , 0.76159822, 0.82506474, 0.88853126,\n",
       "       0.95199777, 1.01546429, 1.07893081, 1.14239733, 1.20586385,\n",
       "       1.26933037, 1.33279688, 1.3962634 , 1.45972992, 1.52319644,\n",
       "       1.58666296, 1.65012947, 1.71359599, 1.77706251, 1.84052903,\n",
       "       1.90399555, 1.96746207, 2.03092858, 2.0943951 , 2.15786162,\n",
       "       2.22132814, 2.28479466, 2.34826118, 2.41172769, 2.47519421,\n",
       "       2.53866073, 2.60212725, 2.66559377, 2.72906028, 2.7925268 ,\n",
       "       2.85599332, 2.91945984, 2.98292636, 3.04639288, 3.10985939,\n",
       "       3.17332591, 3.23679243, 3.30025895, 3.36372547, 3.42719199,\n",
       "       3.4906585 , 3.55412502, 3.61759154, 3.68105806, 3.74452458,\n",
       "       3.8079911 , 3.87145761, 3.93492413, 3.99839065, 4.06185717,\n",
       "       4.12532369, 4.1887902 , 4.25225672, 4.31572324, 4.37918976,\n",
       "       4.44265628, 4.5061228 , 4.56958931, 4.63305583, 4.69652235,\n",
       "       4.75998887, 4.82345539, 4.88692191, 4.95038842, 5.01385494,\n",
       "       5.07732146, 5.14078798, 5.2042545 , 5.26772102, 5.33118753,\n",
       "       5.39465405, 5.45812057, 5.52158709, 5.58505361, 5.64852012,\n",
       "       5.71198664, 5.77545316, 5.83891968, 5.9023862 , 5.96585272,\n",
       "       6.02931923, 6.09278575, 6.15625227, 6.21971879, 6.28318531])"
      ]
     },
     "execution_count": 24,
     "metadata": {},
     "output_type": "execute_result"
    }
   ],
   "source": [
    "\n",
    "from numpy import pi\n",
    "x = np.linspace(0, 2 * pi, 100)                                       # useful to evaluate function at lots of points\n",
    "x\n"
   ]
  },
  {
   "cell_type": "code",
   "execution_count": 23,
   "id": "7570fe97-aee4-4ba2-91a3-15bc2857f354",
   "metadata": {},
   "outputs": [
    {
     "data": {
      "text/plain": [
       "array([ 0.00000000e+00,  6.34239197e-02,  1.26592454e-01,  1.89251244e-01,\n",
       "        2.51147987e-01,  3.12033446e-01,  3.71662456e-01,  4.29794912e-01,\n",
       "        4.86196736e-01,  5.40640817e-01,  5.92907929e-01,  6.42787610e-01,\n",
       "        6.90079011e-01,  7.34591709e-01,  7.76146464e-01,  8.14575952e-01,\n",
       "        8.49725430e-01,  8.81453363e-01,  9.09631995e-01,  9.34147860e-01,\n",
       "        9.54902241e-01,  9.71811568e-01,  9.84807753e-01,  9.93838464e-01,\n",
       "        9.98867339e-01,  9.99874128e-01,  9.96854776e-01,  9.89821442e-01,\n",
       "        9.78802446e-01,  9.63842159e-01,  9.45000819e-01,  9.22354294e-01,\n",
       "        8.95993774e-01,  8.66025404e-01,  8.32569855e-01,  7.95761841e-01,\n",
       "        7.55749574e-01,  7.12694171e-01,  6.66769001e-01,  6.18158986e-01,\n",
       "        5.67059864e-01,  5.13677392e-01,  4.58226522e-01,  4.00930535e-01,\n",
       "        3.42020143e-01,  2.81732557e-01,  2.20310533e-01,  1.58001396e-01,\n",
       "        9.50560433e-02,  3.17279335e-02, -3.17279335e-02, -9.50560433e-02,\n",
       "       -1.58001396e-01, -2.20310533e-01, -2.81732557e-01, -3.42020143e-01,\n",
       "       -4.00930535e-01, -4.58226522e-01, -5.13677392e-01, -5.67059864e-01,\n",
       "       -6.18158986e-01, -6.66769001e-01, -7.12694171e-01, -7.55749574e-01,\n",
       "       -7.95761841e-01, -8.32569855e-01, -8.66025404e-01, -8.95993774e-01,\n",
       "       -9.22354294e-01, -9.45000819e-01, -9.63842159e-01, -9.78802446e-01,\n",
       "       -9.89821442e-01, -9.96854776e-01, -9.99874128e-01, -9.98867339e-01,\n",
       "       -9.93838464e-01, -9.84807753e-01, -9.71811568e-01, -9.54902241e-01,\n",
       "       -9.34147860e-01, -9.09631995e-01, -8.81453363e-01, -8.49725430e-01,\n",
       "       -8.14575952e-01, -7.76146464e-01, -7.34591709e-01, -6.90079011e-01,\n",
       "       -6.42787610e-01, -5.92907929e-01, -5.40640817e-01, -4.86196736e-01,\n",
       "       -4.29794912e-01, -3.71662456e-01, -3.12033446e-01, -2.51147987e-01,\n",
       "       -1.89251244e-01, -1.26592454e-01, -6.34239197e-02, -2.44929360e-16])"
      ]
     },
     "execution_count": 23,
     "metadata": {},
     "output_type": "execute_result"
    }
   ],
   "source": [
    "\n",
    "f = np.sin(x)\n",
    "f\n"
   ]
  },
  {
   "cell_type": "markdown",
   "id": "c6076858-14ea-4746-932e-244b64cd96d5",
   "metadata": {},
   "source": [
    "<br>\n",
    "\n",
    "<span style=\"color: #a245ff;\">Let's see the graphical representation.</span>\n"
   ]
  },
  {
   "cell_type": "code",
   "execution_count": 10,
   "id": "819cefd6-1a0e-4316-86da-32f7b5ff7587",
   "metadata": {},
   "outputs": [
    {
     "data": {
      "image/png": "[encoded data removed]",
      "text/plain": [
       "<Figure size 640x480 with 1 Axes>"
      ]
     },
     "metadata": {},
     "output_type": "display_data"
    }
   ],
   "source": [
    "\n",
    "import matplotlib.pyplot as plt\n",
    "N = 8\n",
    "y = np.zeros(N)\n",
    "x1 = np.linspace(0, 10, N, endpoint=True)\n",
    "x2 = np.linspace(0, 10, N, endpoint=False)\n",
    "plt.plot(x1, y, 'o')\n",
    "plt.plot(x2, y + 0.5, 'o')\n",
    "plt.ylim([-0.5, 1])\n",
    "plt.show()\n"
   ]
  },
  {
   "cell_type": "markdown",
   "id": "4eb97adb-75c0-4e7f-8dd4-3b4b5b44f3d0",
   "metadata": {},
   "source": [
    "<br>\n",
    "\n",
    "<span style=\"color: #06fff0; font-size: 0.7rem;\">■■■■■■■■■■■■■■■■■■■■■■■■■■■■■■■■■■■■■■■■■■■■■■■■■■■■■■■■■■■■■■■■■■■■■■■■■■■■■■■■■■■■■■■■■■■■■■■■■■■■■■■■■■■■■■■</span>\n",
    "\n",
    "<br>\n",
    "\n",
    "<span style=\"background-color: blue; color: white; padding:2px;\">&nbsp;&nbsp;Note :&nbsp;&nbsp;</span>&nbsp;&nbsp;&nbsp;&nbsp;&nbsp; <code style=\"background-color: #c2ffa7;\">  numpy_array.<span style=\"color: red;\">ndim</span>  </code>  &nbsp;&nbsp;&nbsp;&nbsp;=&nbsp;&nbsp;&nbsp;&nbsp; <code style=\"background-color: yellow;\">  numpy.<span style=\"color: red;\">ndim()</span>  </code> <br>\n",
    "&nbsp;&nbsp;&nbsp;&nbsp;&nbsp;&nbsp;&nbsp;&nbsp;&nbsp;&nbsp;&nbsp;&nbsp;&nbsp;&nbsp;&nbsp;&nbsp;&nbsp;&nbsp;&nbsp;&nbsp;&nbsp;<code style=\"background-color: #c2ffa7;\">  numpy_array.<span style=\"color: red;\">shape</span> </code> &nbsp;&nbsp;&nbsp;&nbsp;=&nbsp;&nbsp;&nbsp;&nbsp; <code style=\"background-color: yellow;\">  numpy.<span style=\"color: red;\">shape()</span> </code> <br>\n",
    "&nbsp;&nbsp;&nbsp;&nbsp;&nbsp;&nbsp;&nbsp;&nbsp;&nbsp;&nbsp;&nbsp;&nbsp;&nbsp;&nbsp;&nbsp;&nbsp;&nbsp;&nbsp;&nbsp;&nbsp;&nbsp;<code style=\"background-color: #c2ffa7;\">  numpy_array.<span style=\"color: red;\">size</span>  </code>  &nbsp;&nbsp;&nbsp;&nbsp;=&nbsp;&nbsp;&nbsp;&nbsp; <code style=\"background-color: yellow;\">  numpy.<span style=\"color: red;\">size()</span>  </code>\n"
   ]
  },
  {
   "cell_type": "code",
   "execution_count": 37,
   "id": "a3ecdb40-d8a9-4025-9b2d-0c0a7786d216",
   "metadata": {},
   "outputs": [
    {
     "data": {
      "text/plain": [
       "2"
      ]
     },
     "execution_count": 37,
     "metadata": {},
     "output_type": "execute_result"
    }
   ],
   "source": [
    "\n",
    "np.ndim([[1,2,3],[4,5,6]])\n"
   ]
  },
  {
   "cell_type": "code",
   "execution_count": 38,
   "id": "b52c36f1-6455-443b-8e5b-78233879b5e8",
   "metadata": {},
   "outputs": [
    {
     "data": {
      "text/plain": [
       "2"
      ]
     },
     "execution_count": 38,
     "metadata": {},
     "output_type": "execute_result"
    }
   ],
   "source": [
    "\n",
    "np.ndim(np.array([[1,2,3],[4,5,6]]))\n"
   ]
  },
  {
   "cell_type": "code",
   "execution_count": 39,
   "id": "d6203a58-bfb8-4ce1-831e-3869477f4d63",
   "metadata": {},
   "outputs": [
    {
     "data": {
      "text/plain": [
       "0"
      ]
     },
     "execution_count": 39,
     "metadata": {},
     "output_type": "execute_result"
    }
   ],
   "source": [
    "\n",
    "np.ndim(1)\n"
   ]
  },
  {
   "cell_type": "code",
   "execution_count": 40,
   "id": "a7fea47f-7b5a-4a77-92e0-b999ca3a3c51",
   "metadata": {},
   "outputs": [
    {
     "data": {
      "text/plain": [
       "(3, 3)"
      ]
     },
     "execution_count": 40,
     "metadata": {},
     "output_type": "execute_result"
    }
   ],
   "source": [
    "\n",
    "np.shape(np.eye(3))\n"
   ]
  },
  {
   "cell_type": "code",
   "execution_count": 41,
   "id": "2fc18141-1384-4e59-aa0e-350ecdae338d",
   "metadata": {},
   "outputs": [
    {
     "data": {
      "text/plain": [
       "(1, 2)"
      ]
     },
     "execution_count": 41,
     "metadata": {},
     "output_type": "execute_result"
    }
   ],
   "source": [
    "\n",
    "np.shape([[1, 3]])\n"
   ]
  },
  {
   "cell_type": "code",
   "execution_count": 42,
   "id": "18d95c40-b782-44b7-9448-139dbd63ffb4",
   "metadata": {},
   "outputs": [
    {
     "data": {
      "text/plain": [
       "(1,)"
      ]
     },
     "execution_count": 42,
     "metadata": {},
     "output_type": "execute_result"
    }
   ],
   "source": [
    "\n",
    "np.shape([0])\n"
   ]
  },
  {
   "cell_type": "code",
   "execution_count": 43,
   "id": "c322c0d9-09e0-4d57-847a-f1264ca974f7",
   "metadata": {},
   "outputs": [
    {
     "data": {
      "text/plain": [
       "()"
      ]
     },
     "execution_count": 43,
     "metadata": {},
     "output_type": "execute_result"
    }
   ],
   "source": [
    "\n",
    "np.shape(0)\n"
   ]
  },
  {
   "cell_type": "code",
   "execution_count": 46,
   "id": "4f49fe1e-44f4-4f0b-9f53-5c91d84a0a9d",
   "metadata": {},
   "outputs": [
    {
     "name": "stdout",
     "output_type": "stream",
     "text": [
      "(3,)\n",
      "(3,)\n"
     ]
    }
   ],
   "source": [
    "\n",
    "a = np.array([(1, 2), (3, 4), (5, 6)], dtype=[('x', 'i4'), ('y', 'i4')])\n",
    "print(np.shape(a))                                                               # METHOD-1\n",
    "print(a.shape)                                                                   # METHOD-2\n"
   ]
  },
  {
   "cell_type": "markdown",
   "id": "96cf00c1-4ada-423c-aa6d-b27170f677c1",
   "metadata": {
    "jp-MarkdownHeadingCollapsed": true
   },
   "source": [
    "<br>\n",
    "\n",
    "### <div style=\"color: white; background-color: #af87ff; padding: 5px;\"> <code style=\"font-size: 1.2rem; background-color: #af87ff; color: white;\"><strong>numpy.fromfunction()</strong></code> </div>"
   ]
  },
  {
   "cell_type": "markdown",
   "id": "e50cd87d-f44b-45c8-b96b-b7459cb90793",
   "metadata": {},
   "source": [
    "\n",
    "<code style=\"background-color: yellow; padding: 6px;\">numpy.<span style=\"color: red;\">fromfunction(<span style=\"color: black;\">function</span>, <span style=\"color: black;\">shape</span>, <span style=\"color: black;\">dtype</span><span style=\"color: #9b96a1;\">=float</span>)</span></code> &nbsp;generates an array by <strong>applying a function over each coordinate</strong> in a grid defined by the shape of the array. \n",
    "\n",
    "<span style=\"margin-left: 388px;\">The resulting array, therefore, has a value &nbsp;<code>fn(x, y, z)</code>&nbsp; at coordinate &nbsp;<code>(x, y, z)</code></span>\n",
    "\n",
    "<span style=\"margin-left: 388px;\">It is often used to create arrays based on mathematical calculations involving the indices of the array.</span>\n",
    "\n",
    "<br>\n",
    "\n",
    "<code style=\"background-color: black; color: white;\">Example - 1</code> &nbsp;<code style=\"background-color: white; color:  #a245ff;\">let's create a 1D array</code>"
   ]
  },
  {
   "cell_type": "code",
   "execution_count": 21,
   "id": "fc79e762-47c2-4b44-8f38-94ad2339c0d2",
   "metadata": {},
   "outputs": [
    {
     "name": "stdout",
     "output_type": "stream",
     "text": [
      "[[ 0  1  2  3]\n",
      " [10 11 12 13]\n",
      " [20 21 22 23]\n",
      " [30 31 32 33]\n",
      " [40 41 42 43]]\n"
     ]
    }
   ],
   "source": [
    "\n",
    "def f(x, y):\n",
    "    return 10 * x + y\n",
    "\n",
    "\n",
    "b = np.fromfunction(f, (5, 4), dtype=int)       # it takes a function as its first argument and a shape tuple as its second argument\n",
    "                                                # it creates an array of the given shape and applies the given function to each coordinate in the array\n",
    "                                                # but exactly how?\n",
    "\n",
    "                                                # Basically it creates an empty array of size (5,4)\n",
    "                                                #              and then computes  10*x+y  for every ccoordinate (x,y) and that will be the result\n",
    "\n",
    "                                                # EXAMPLE:\n",
    "                                                #           ==> The element at position (0, 0) is calculated as 10 * 0 + 0 = 0\n",
    "                                                #           ==> The element at position (1, 1) is calculated as 10 * 1 + 1 = 11\n",
    "                                                #           ==> The element at position (2, 3) is calculated as 10 * 2 + 3 = 23\n",
    "\n",
    "\n",
    "print(b)\n"
   ]
  },
  {
   "cell_type": "markdown",
   "id": "20beafb4-46f3-4f9a-a82d-00579f8ad910",
   "metadata": {},
   "source": [
    "<br>\n",
    "\n",
    "<code style=\"background-color: black; color: white;\">Example - 2</code> &nbsp;<code style=\"background-color: white; color:  #a245ff;\">let's create a 3D array</code>"
   ]
  },
  {
   "cell_type": "code",
   "execution_count": 24,
   "id": "f7bbb0fa-846f-432c-b5f0-1b11388aa9ca",
   "metadata": {},
   "outputs": [
    {
     "name": "stdout",
     "output_type": "stream",
     "text": [
      "[[[0 1 2 3]\n",
      "  [1 2 3 4]\n",
      "  [2 3 4 5]]\n",
      "\n",
      " [[1 2 3 4]\n",
      "  [2 3 4 5]\n",
      "  [3 4 5 6]]]\n"
     ]
    }
   ],
   "source": [
    "\n",
    "def f(x, y, z):\n",
    "    return x + y + z\n",
    "\n",
    "array_3d = np.fromfunction(f, (2, 3, 4), dtype=int)                # Create a 3D array with shape (2, 3, 4)\n",
    "\n",
    "print(array_3d)\n"
   ]
  },
  {
   "cell_type": "markdown",
   "id": "fd275bba-d4af-4526-a74d-a0b5e092c8b3",
   "metadata": {},
   "source": [
    "<br>\n",
    "\n",
    "<code style=\"background-color: black; color: white;\">Example - 3</code> &nbsp;<code style=\"background-color: white; color:  #a245ff;\">let's create a 1D array using a <span style=\"font-size: 1rem;\"><strong>lambda function</strong></span></code>"
   ]
  },
  {
   "cell_type": "code",
   "execution_count": 26,
   "id": "de015f9d-bc1b-46b4-b1c7-781ff4e6494b",
   "metadata": {},
   "outputs": [
    {
     "name": "stdout",
     "output_type": "stream",
     "text": [
      "[[0 0 0 0]\n",
      " [0 1 2 3]\n",
      " [0 2 4 6]\n",
      " [0 3 6 9]]\n"
     ]
    }
   ],
   "source": [
    "\n",
    "arr = np.fromfunction(lambda i, j: i * j, (4, 4), dtype = int) \n",
    "\t\n",
    "print(arr) \n"
   ]
  },
  {
   "cell_type": "markdown",
   "id": "52570e4f-f7e6-407d-9b28-90576f606c6c",
   "metadata": {},
   "source": [
    "<br>\n",
    "\n",
    "### <div style=\"color: white; background-color: #af87ff; padding: 5px;\"> <code style=\"font-size: 1.2rem; background-color: #af87ff; color: white;\"><strong>numpy.fromiter()</strong></code> </div>"
   ]
  },
  {
   "cell_type": "markdown",
   "id": "e7d89155-a8e8-40fb-98f8-8f7d6810d367",
   "metadata": {},
   "source": [
    "<code style=\"background-color: yellow; padding: 6px;\">numpy.<span style=\"color: red;\">fromiter(<span style=\"color: black;\">iterable</span>, <span style=\"color: black;\">dtype</span>, <span style=\"color: black;\">count</span><span style=\"color: #9b96a1;\">=-1</span>)</span></code> &nbsp;====>&nbsp;&nbsp;to create a NumPy array from an <strong>iterable object</strong> (that provides elements one at a time)\n",
    "\n",
    "<span style=\"margin-left: 336px;\">====>&nbsp;&nbsp;<strong><u>count</u></strong> :&nbsp; [int, optional] &nbsp;Number of items to read</span>\n",
    "\n",
    "<code style=\"background-color: black; color: white;\">Example - 1</code>"
   ]
  },
  {
   "cell_type": "code",
   "execution_count": 34,
   "id": "ddd7d36b-7522-4df7-a70a-73fbfa6afdd0",
   "metadata": {},
   "outputs": [
    {
     "data": {
      "text/plain": [
       "array([1, 2, 3, 4, 5, 6])"
      ]
     },
     "execution_count": 34,
     "metadata": {},
     "output_type": "execute_result"
    }
   ],
   "source": [
    "\n",
    "iterable=[1, 2, 3, 4, 5, 6]\n",
    "\n",
    "arr = np.fromiter(my_iterable, dtype=int)\n",
    "\n",
    "arr\n"
   ]
  },
  {
   "cell_type": "code",
   "execution_count": 35,
   "id": "c086be9a-ec35-47c7-b29d-05cc24a54f5a",
   "metadata": {},
   "outputs": [
    {
     "data": {
      "text/plain": [
       "numpy.ndarray"
      ]
     },
     "execution_count": 35,
     "metadata": {},
     "output_type": "execute_result"
    }
   ],
   "source": [
    "\n",
    "type(arr)\n"
   ]
  },
  {
   "cell_type": "markdown",
   "id": "0730837c-acc0-4601-b2f6-e99a91827a95",
   "metadata": {},
   "source": [
    "<br>\n",
    "\n",
    "<code style=\"background-color: black; color: white;\">Example - 2</code>"
   ]
  },
  {
   "cell_type": "code",
   "execution_count": 37,
   "id": "94ce8d09-9e29-4df9-9870-9fe9efde2a56",
   "metadata": {},
   "outputs": [
    {
     "name": "stdout",
     "output_type": "stream",
     "text": [
      "[ 0  1  8 27]\n"
     ]
    }
   ],
   "source": [
    "\n",
    "iterable = (x*x*x for x in range(4))\n",
    "\n",
    "arr = np.fromiter(iterable, int)\n",
    "\n",
    "print (arr)\n"
   ]
  },
  {
   "cell_type": "markdown",
   "id": "950a2b5b-66f6-486b-acb5-59bf94d4fc1b",
   "metadata": {},
   "source": [
    "<br>\n",
    "\n",
    "<span style=\"color: #06fff0; font-size: 0.7rem;\">■■■■■■■■■■■■■■■■■■■■■■■■■■■■■■■■■■■■■■■■■■■■■■■■■■■■■■■■■■■■■■■■■■■■■■■■■■■■■■■■■■■■■■■■■■■■■■■■■■■■■■■■■■■■■■■</span>\n",
    "\n",
    "<br>\n",
    "\n",
    "<span style=\"background-color: blue; color: white; padding:2px;\">&nbsp;&nbsp;Note :&nbsp;&nbsp;</span>&nbsp;&nbsp;&nbsp;&nbsp;<span style=\"color: blue;\">How to copy the content of one array into another?</span>\n",
    "\n",
    "<code style=\"margin-left: 120px; background-color: #faf300;\">numpy.<span style=\"color: red;\">copyto(</span>dst, src, casting='same_kind', where=True<span style=\"color: red;\">)</span></code>\n",
    "\n",
    "<span style=\"margin-left: 170px;\">↳ &nbsp;Copies values from one array to another, with broadcasting if necessary.</span>\n",
    "\n",
    "<span style=\"margin-left: 170px;\">↳ &nbsp;Raises a TypeError if the casting rule is violated, and if where is provided, it selects which elements to copy.</span>\n",
    "\n",
    "<div style=\"display: flex; margin-left: 170px;\">\n",
    "\n",
    "<div>↳</div>\n",
    "\n",
    "<div>&nbsp;&nbsp;<strong><u>where</u></strong>&nbsp;&nbsp;&nbsp;:&nbsp;&nbsp;&nbsp; </div>\n",
    "\n",
    "<div>array_like of boolean value, (optional). <br>A boolean array which is broadcasted to match the dimensions of <code>dst</code> , and selects elements to copy from <code>src</code> to <code>dst</code> wherever it contains the value True.</div>\n",
    "\n",
    "</div>\n"
   ]
  },
  {
   "cell_type": "code",
   "execution_count": 50,
   "id": "1af1ba1d-d427-4f2d-a1ef-6323d7618985",
   "metadata": {},
   "outputs": [
    {
     "name": "stdout",
     "output_type": "stream",
     "text": [
      "[1 2 3]\n"
     ]
    }
   ],
   "source": [
    "\n",
    "A = np.array([4, 5, 6])\n",
    "B = [1, 2, 3]\n",
    "\n",
    "np.copyto(A, B)\n",
    "print(A)\n"
   ]
  },
  {
   "cell_type": "code",
   "execution_count": 51,
   "id": "31821019-0798-4ca9-a64c-0f502e82e6ae",
   "metadata": {},
   "outputs": [
    {
     "name": "stdout",
     "output_type": "stream",
     "text": [
      "[[4 5 6]\n",
      " [7 8 9]]\n"
     ]
    }
   ],
   "source": [
    "\n",
    "A = np.array([[1, 2, 3], [4, 5, 6]])\n",
    "B = [[4, 5, 6], [7, 8, 9]]\n",
    "\n",
    "np.copyto(A, B)\n",
    "print(A)\n"
   ]
  },
  {
   "cell_type": "markdown",
   "id": "63f7d57a-2b2e-488c-8a6c-9d63bde16dda",
   "metadata": {},
   "source": [
    "<br>\n",
    "\n",
    "<span style=\"color: #06fff0; font-size: 0.7rem;\">■■■■■■■■■■■■■■■■■■■■■■■■■■■■■■■■■■■■■■■■■■■■■■■■■■■■■■■■■■■■■■■■■■■■■■■■■■■■■■■■■■■■■■■■■■■■■■■■■■■■■■■■■■■■■■■</span>\n",
    "\n",
    "<br>"
   ]
  },
  {
   "cell_type": "markdown",
   "id": "7f8236a9-f809-4d29-ad26-93676d3c03ee",
   "metadata": {},
   "source": [
    "<span style=\"font-size: 1.1rem;\">**Data &nbsp;Types &nbsp;for &nbsp;ndarrays**</span>"
   ]
  },
  {
   "cell_type": "markdown",
   "id": "d2486c7a-76cf-4a0f-9a3c-9695c6907796",
   "metadata": {},
   "source": [
    "The data type or &nbsp;<code style=\"color:red;\">dtype</code>&nbsp; is a special object containing the information (or metadata, data about data) the ndarray needs to interpret a chunk of memory as a particular type of data:\n"
   ]
  },
  {
   "cell_type": "code",
   "execution_count": 4,
   "id": "db874180-89f5-46b4-812e-21138ba9ba1b",
   "metadata": {},
   "outputs": [],
   "source": [
    "\n",
    "arr1 = np.array([1, 2, 3], dtype=np.float64)\n",
    "\n",
    "arr2 = np.array([1, 2, 3], dtype=np.int32)\n"
   ]
  },
  {
   "cell_type": "code",
   "execution_count": 5,
   "id": "03b7ae25-e8da-4db1-9d24-c6f8161c7ff1",
   "metadata": {},
   "outputs": [
    {
     "data": {
      "text/plain": [
       "dtype('float64')"
      ]
     },
     "execution_count": 5,
     "metadata": {},
     "output_type": "execute_result"
    }
   ],
   "source": [
    "\n",
    "arr1.dtype\n"
   ]
  },
  {
   "cell_type": "code",
   "execution_count": 7,
   "id": "5e00fa47-b4ac-473f-9e5c-8228d058bd62",
   "metadata": {},
   "outputs": [
    {
     "data": {
      "text/plain": [
       "dtype('int32')"
      ]
     },
     "execution_count": 7,
     "metadata": {},
     "output_type": "execute_result"
    }
   ],
   "source": [
    "\n",
    "arr2.dtype\n"
   ]
  },
  {
   "cell_type": "markdown",
   "id": "1279936c-46ec-4feb-ba46-7d9f362f2080",
   "metadata": {},
   "source": [
    "<br>\n",
    "\n",
    "You can explicitly convert or cast an array from one data type to another using ndarray’s &nbsp;<code style=\"color: red;\">astype</code>&nbsp; method :\n"
   ]
  },
  {
   "cell_type": "code",
   "execution_count": 12,
   "id": "b8d69d67-876c-44f1-bb43-2f5df2de37ba",
   "metadata": {},
   "outputs": [
    {
     "name": "stdout",
     "output_type": "stream",
     "text": [
      "int32\n",
      "[1. 2. 3. 4. 5.]\n",
      "float64\n"
     ]
    }
   ],
   "source": [
    "\n",
    "arr = np.array([1, 2, 3, 4, 5])\n",
    "print(arr.dtype)                               # int32\n",
    "\n",
    "float_arr = arr.astype(np.float64)\n",
    "print(float_arr)                               # [1. 2. 3. 4. 5.]\n",
    "print(float_arr.dtype)                         # float64\n"
   ]
  },
  {
   "cell_type": "code",
   "execution_count": 13,
   "id": "afc969a6-f174-4e19-9043-bb7e4c8f5ad7",
   "metadata": {},
   "outputs": [
    {
     "name": "stdout",
     "output_type": "stream",
     "text": [
      "[ 3.7 -1.2 -2.6  0.5 12.9 10.1]\n",
      "[ 3 -1 -2  0 12 10]\n"
     ]
    }
   ],
   "source": [
    "\n",
    "arr = np.array([3.7, -1.2, -2.6, 0.5, 12.9, 10.1])\n",
    "print(arr)\n",
    "print(arr.astype(np.int32))                              # floating-point number  ====>  integer data type\n",
    "                                                         # the decimal part is truncated\n"
   ]
  },
  {
   "cell_type": "code",
   "execution_count": 14,
   "id": "8f418a17-834a-48bc-8c53-e0b62b9dcf3a",
   "metadata": {},
   "outputs": [
    {
     "name": "stdout",
     "output_type": "stream",
     "text": [
      "[ 1.25 -9.6  42.  ]\n"
     ]
    }
   ],
   "source": [
    "\n",
    "numeric_strings = np.array([\"1.25\", \"-9.6\", \"42\"], dtype=np.string_)\n",
    "print(numeric_strings.astype(float))\n"
   ]
  },
  {
   "cell_type": "markdown",
   "id": "1ed2af3a-ee67-4940-9fb9-93d71b5bcc5e",
   "metadata": {},
   "source": [
    "<br>\n",
    "\n",
    "<span style=\"color: #06fff0; font-size: 0.7rem;\">■■■■■■■■■■■■■■■■■■■■■■■■■■■■■■■■■■■■■■■■■■■■■■■■■■■■■■■■■■■■■■■■■■■■■■■■■■■■■■■■■■■■■■■■■■■■■■■■■■■■■■■■■■■■■■■</span>\n",
    "\n",
    "<br>"
   ]
  },
  {
   "cell_type": "markdown",
   "id": "a396b957-2560-4449-99ca-09f76d9bcfba",
   "metadata": {},
   "source": [
    "<span style=\"font-size: 1.1rem;\">**Pseudorandom &nbsp;Number &nbsp;Generation**</span>"
   ]
  },
  {
   "cell_type": "markdown",
   "id": "668447d0-673d-4f4a-9a63-475ecf2c9330",
   "metadata": {},
   "source": [
    "The &nbsp;<code style=\"background-color: #e8daef;\">numpy.<span style=\"color: red;\">random</span></code>&nbsp; module supplements the built-in Python &nbsp;<code style=\"background-color: #e8daef; color: red;\">random</code>&nbsp; module with functions for efficiently generating whole arrays of sample values from <u>many kinds of probability distributions</u>."
   ]
  },
  {
   "cell_type": "code",
   "execution_count": 4,
   "id": "1296d943-6b13-4d49-9da5-908ee5c33d61",
   "metadata": {},
   "outputs": [
    {
     "data": {
      "text/plain": [
       "array([[ 0.0678969 ,  0.44448769, -0.55749404, -0.77751578],\n",
       "       [-1.1745059 , -0.40200252, -0.29515461, -1.03408454],\n",
       "       [-0.19347574, -1.17022861, -1.25640209,  0.41591736],\n",
       "       [-1.78728238,  0.23928977,  1.51435793, -0.30126397]])"
      ]
     },
     "execution_count": 4,
     "metadata": {},
     "output_type": "execute_result"
    }
   ],
   "source": [
    "\n",
    "samples = np.random.standard_normal(size=(4, 4))\n",
    "samples\n"
   ]
  },
  {
   "cell_type": "markdown",
   "id": "d4ecf4b8-7fe4-40ae-9f5c-ad3f3c13c75c",
   "metadata": {},
   "source": [
    "<br>\n",
    "\n",
    "Python’s built-in &nbsp;<code style=\"background-color: #e8daef; color: red;\">random</code>&nbsp; module, by contrast, <u>samples only one value at a time</u>. &nbsp;Therefore as you can see from this benchmark, &nbsp;<code style=\"background-color: #e8daef;\">numpy.<span style=\"color: red;\">random</span></code>&nbsp; is well over an order of magnitude <u>faster for generating very large samples</u> :\n"
   ]
  },
  {
   "cell_type": "code",
   "execution_count": 5,
   "id": "fa43542b-aa37-43be-bf86-dcc2213feada",
   "metadata": {},
   "outputs": [],
   "source": [
    "\n",
    "from random import normalvariate\n",
    "\n",
    "N = 1_000_000\n"
   ]
  },
  {
   "cell_type": "code",
   "execution_count": 6,
   "id": "ed79be1f-0ff1-4172-89b4-14d2aac3e63b",
   "metadata": {},
   "outputs": [
    {
     "name": "stdout",
     "output_type": "stream",
     "text": [
      "1.49 s ± 126 ms per loop (mean ± std. dev. of 7 runs, 1 loop each)\n"
     ]
    }
   ],
   "source": [
    "\n",
    "%timeit samples = [normalvariate(0, 1) for _ in range(N)]\n"
   ]
  },
  {
   "cell_type": "code",
   "execution_count": 7,
   "id": "2e6d5f64-ab1f-4084-84d1-a6daeab9332e",
   "metadata": {},
   "outputs": [
    {
     "name": "stdout",
     "output_type": "stream",
     "text": [
      "43.2 ms ± 915 µs per loop (mean ± std. dev. of 7 runs, 10 loops each)\n"
     ]
    }
   ],
   "source": [
    "\n",
    "%timeit np.random.standard_normal(N)\n"
   ]
  },
  {
   "cell_type": "markdown",
   "id": "ea89dd76-60bf-4a30-b9e4-797763f31de0",
   "metadata": {},
   "source": [
    "<br>\n",
    "\n",
    "These random numbers are <u>not truly random</u> (rather, <strong>pseudorandom</strong>) but instead are generated by a <u>configurable random number generator</u> that determines deterministically what values are created. \n",
    "\n",
    "Functions like &nbsp;<code style=\"background-color: #e8daef;\">numpy.<span style=\"color: red;\">random</span>.<span style=\"color: blue;\">standard_normal</span></code>&nbsp; use the &nbsp;<code style=\"background-color: #e8daef;\">numpy.<span style=\"color: red;\">random</span></code>&nbsp; module's default random number generator, but your code can be configured to use an <strong>explicit generator</strong> :"
   ]
  },
  {
   "cell_type": "code",
   "execution_count": 8,
   "id": "f2d91565-a6bb-452b-ae57-0b8564944390",
   "metadata": {},
   "outputs": [
    {
     "data": {
      "text/plain": [
       "Generator(PCG64) at 0x1ECB8BE0120"
      ]
     },
     "execution_count": 8,
     "metadata": {},
     "output_type": "execute_result"
    }
   ],
   "source": [
    "\n",
    "rng = np.random.default_rng(seed=12345)\n",
    "rng\n"
   ]
  },
  {
   "cell_type": "code",
   "execution_count": 9,
   "id": "9ca0029f-472b-49af-bce7-13d3f816ea62",
   "metadata": {},
   "outputs": [
    {
     "data": {
      "text/plain": [
       "array([[-1.42382504,  1.26372846, -0.87066174],\n",
       "       [-0.25917323, -0.07534331, -0.74088465]])"
      ]
     },
     "execution_count": 9,
     "metadata": {},
     "output_type": "execute_result"
    }
   ],
   "source": [
    "\n",
    "data = rng.standard_normal((2, 3))\n",
    "data\n"
   ]
  },
  {
   "cell_type": "code",
   "execution_count": 10,
   "id": "432454df-c5b4-4cdf-a26a-a2ead2980a58",
   "metadata": {},
   "outputs": [
    {
     "data": {
      "text/plain": [
       "numpy.random._generator.Generator"
      ]
     },
     "execution_count": 10,
     "metadata": {},
     "output_type": "execute_result"
    }
   ],
   "source": [
    "\n",
    "type(rng)\n"
   ]
  },
  {
   "cell_type": "markdown",
   "id": "15f33ef1-feca-417e-bce4-c76bdb8e77e0",
   "metadata": {},
   "source": [
    "<br>\n",
    "\n",
    "<span style=\"color: #06fff0; font-size: 0.7rem;\">■■■■■■■■■■■■■■■■■■■■■■■■■■■■■■■■■■■■■■■■■■■■■■■■■■■■■■■■■■■■■■■■■■■■■■■■■■■■■■■■■■■■■■■■■■■■■■■■■■■■■■■■■■■■■■■</span>\n",
    "\n",
    "<br>\n",
    "\n",
    "Now let's see some important <u>numpy methods</u> around **array manipulation** &nbsp;&nbsp;&nbsp;===>&nbsp;&nbsp;&nbsp; https://numpy.org/doc/stable/reference/routines.array-manipulation.html"
   ]
  },
  {
   "cell_type": "markdown",
   "id": "bf6f6b29-5eaa-4735-9def-fa6b532f7634",
   "metadata": {
    "jp-MarkdownHeadingCollapsed": true
   },
   "source": [
    "<br><br>\n",
    "\n",
    "## Array &nbsp;Indexing &nbsp;& &nbsp;Slicing"
   ]
  },
  {
   "cell_type": "markdown",
   "id": "5c9490a0-08b5-428a-8ae2-f71b985030a6",
   "metadata": {
    "jp-MarkdownHeadingCollapsed": true
   },
   "source": [
    "<br>\n",
    "\n",
    "### <div style=\"color: white; background-color: #af87ff; padding: 5px;\"> <code style=\"font-size: 1.2rem; background-color: #af87ff; color: white;\"><strong>Numpy Array Indexing</strong></code> </div>\n"
   ]
  },
  {
   "cell_type": "markdown",
   "id": "1ed5c477-1d14-40a6-8082-31e6c971c987",
   "metadata": {},
   "source": [
    "\n",
    "- Like a **list**, you can use the square bracket notation (&nbsp;<code style=\"color: red;\">[]</code>&nbsp;) to access elements of a numpy array.\n",
    "\n",
    "- Use zero and positive indexes to start selecting from the beginning of the array.\n",
    "\n",
    "- Use <u>negative indexes</u> to start selecting from the <u>end of the array</u>.\n",
    "\n",
    "<br>\n",
    "\n",
    "<u>**NumPy &nbsp;array &nbsp;indexing &nbsp;on &nbsp;1-D &nbsp;arrays**</u>\n",
    "\n",
    "<br>\n",
    "\n",
    "<div style=\"margin-left: 140px;\">\n",
    "\n",
    "![](../media/numpy_04.PNG)\n",
    "\n",
    "</div>"
   ]
  },
  {
   "cell_type": "code",
   "execution_count": 70,
   "id": "c4accc5e-3124-4eb6-b5e3-904039b34fb8",
   "metadata": {},
   "outputs": [
    {
     "name": "stdout",
     "output_type": "stream",
     "text": [
      "[0 1 2 3 4]\n",
      "(5,)\n",
      "0\n",
      "1\n",
      "4\n"
     ]
    }
   ],
   "source": [
    "\n",
    "a = np.arange(0, 5)\n",
    "print(a)                      # [0 1 2 3 4]\n",
    "print(a.shape)                # shape   =   (axis-0, )   =   (columns)   =   (5, )\n",
    "\n",
    "print(a[0])                   # 0    --------->    the first element\n",
    "print(a[1])                   # 1    --------->    the second element\n",
    "print(a[-1])                  # 4    --------->    the last element\n"
   ]
  },
  {
   "cell_type": "markdown",
   "id": "eb92497e-995c-4ef1-bf3d-f1d4079854eb",
   "metadata": {},
   "source": [
    "<br>\n",
    "\n",
    "<u>**NumPy &nbsp;array &nbsp;indexing &nbsp;on &nbsp;2-D &nbsp;arrays**</u>\n",
    "\n",
    "<br>\n",
    "\n",
    "<div style=\"margin-left: 100px;\">\n",
    "\n",
    "![](../media/numpy_05.PNG)\n",
    "\n",
    "</div>"
   ]
  },
  {
   "cell_type": "code",
   "execution_count": 69,
   "id": "7e677732-858e-4319-9207-b6af186b408b",
   "metadata": {},
   "outputs": [
    {
     "name": "stdout",
     "output_type": "stream",
     "text": [
      "(2, 3)\n",
      "[1 2 3]\n",
      "[4 5 6]\n",
      "1\n",
      "4\n",
      "3\n",
      "6\n",
      "3\n",
      "6\n"
     ]
    }
   ],
   "source": [
    "\n",
    "a = np.array([\n",
    "    [1, 2, 3],\n",
    "    [4, 5, 6]\n",
    "])\n",
    "\n",
    "print(a.shape)                # shape   =   (axis-0, axis-1)   =   (rows, columns)   =   (2, 3)\n",
    "\n",
    "print(a[0])                   # [1 2 3]\n",
    "print(a[1])                   # [4 5 6]\n",
    "\n",
    "print(a[0, 0])                # 1\n",
    "print(a[1, 0])                # 4\n",
    "print(a[0, 2])                # 3\n",
    "print(a[1, 2])                # 6\n",
    "print(a[0, -1])               # 3\n",
    "print(a[1, -1])               # 6\n"
   ]
  },
  {
   "cell_type": "markdown",
   "id": "e994204e-862e-478d-ac13-5fb0d0f90ef3",
   "metadata": {},
   "source": [
    "<br>\n",
    "\n",
    "<u>**NumPy &nbsp;array &nbsp;indexing &nbsp;on &nbsp;3-D &nbsp;arrays**</u>\n",
    "\n",
    "<br>\n",
    "\n",
    "<div style=\"margin-left: 100px;\">\n",
    "\n",
    "![](../media/numpy_06.PNG)\n",
    "\n",
    "</div>"
   ]
  },
  {
   "cell_type": "code",
   "execution_count": 73,
   "id": "883fe0ac-8b8f-473f-928b-6fd100932ad5",
   "metadata": {},
   "outputs": [
    {
     "name": "stdout",
     "output_type": "stream",
     "text": [
      "(2, 3, 2)\n"
     ]
    }
   ],
   "source": [
    "\n",
    "a = np.array([\n",
    "    [[1, 2], [3, 4], [5, 6]],\n",
    "    [[5, 6], [7, 8], [9, 10]],\n",
    "])\n",
    "\n",
    "print(a.shape)                       # shape   =   (axis-0, axis-1, axis-2)   =   (layers, rows, columns)   =   (2, 3, 2)\n"
   ]
  },
  {
   "cell_type": "code",
   "execution_count": 84,
   "id": "9f4b011b-1e49-4b58-bdde-df639f9ad8da",
   "metadata": {},
   "outputs": [
    {
     "name": "stdout",
     "output_type": "stream",
     "text": [
      "[[1 2]\n",
      " [3 4]\n",
      " [5 6]]\n"
     ]
    }
   ],
   "source": [
    "\n",
    "print(a[0])                          # [[1, 2], [3, 4], [5, 6]]\n"
   ]
  },
  {
   "cell_type": "code",
   "execution_count": 78,
   "id": "cf09491f-b44b-4098-affe-4fafc79f4322",
   "metadata": {},
   "outputs": [
    {
     "name": "stdout",
     "output_type": "stream",
     "text": [
      "[1 2]\n"
     ]
    }
   ],
   "source": [
    "\n",
    "print(a[0,0])                        # [1, 2]\n"
   ]
  },
  {
   "cell_type": "code",
   "execution_count": 82,
   "id": "35cfb94d-b39b-40b8-8dd5-505fbdcc9425",
   "metadata": {},
   "outputs": [
    {
     "name": "stdout",
     "output_type": "stream",
     "text": [
      "2\n"
     ]
    }
   ],
   "source": [
    "\n",
    "print(a[0,0,1])                      # 2\n"
   ]
  },
  {
   "cell_type": "markdown",
   "id": "4bec5b36-5eaa-4959-82b5-2381c8944ad4",
   "metadata": {
    "jp-MarkdownHeadingCollapsed": true
   },
   "source": [
    "<br>\n",
    "\n",
    "### <div style=\"color: white; background-color: #af87ff; padding: 5px;\"> <code style=\"font-size: 1.2rem; background-color: #af87ff; color: white;\"><strong>Numpy Array Slicing</strong></code> </div>\n"
   ]
  },
  {
   "cell_type": "markdown",
   "id": "c226b044-02a1-42b5-bfeb-aa7c1dcb7cd8",
   "metadata": {},
   "source": [
    "\n",
    "Slicing is to extract one or more elements from a numpy array.\n",
    "\n",
    "NumPy arrays use brackets &nbsp;<code style=\"background-color: yellow;\">[]</code>&nbsp; and &nbsp;<code style=\"background-color: yellow;\">:</code>&nbsp; notations for slicing like lists.\n",
    "\n",
    "<br>\n",
    "\n",
    "<span style=\"color: #06fff0; font-size: 0.7rem;\">■■■■■■■■■■■■■■■■■■■■■■■■■■■■■■■■■■■■■■■■■■■■■■■■■■■■■■■■■■■■■■■■■■■■■■■■■■■■■■■■■■■■■■■■■■■■■■■■■■■■■■■■■■■■■■■</span>\n",
    "\n",
    "<br>\n",
    "\n",
    "<code style=\"background-color: #6e07dc; color: white; padding: 6px;\">&nbsp;Numpy array slicing on one-dimensional arrays&nbsp; :&nbsp;</code>\n",
    "\n",
    "<br>\n",
    "\n",
    "<code style=\"background-color: #f9dc10;\">arr[start:stop:step]</code>\n",
    "\n",
    "<br>\n",
    "\n",
    "| Slicing Expression | Meaning |\n",
    "|--------------------|---------|\n",
    "| <code style=\"background-color: yellow;\">arr[m:n]</code> &nbsp;&nbsp;&nbsp;&nbsp;&nbsp;&nbsp;&nbsp;&nbsp;           | Select elements with an index starting at <span style=\"color: red;\">m</span> and ending at <span style=\"color: red;\">n-1</span> |\n",
    "| <code style=\"background-color: yellow;\">arr[:]</code> &nbsp;&nbsp;&nbsp;or&nbsp;&nbsp;&nbsp; <code style=\"background-color: yellow;\">a[0:-1]</code> | Select all elements in a given axis |\n",
    "| <code style=\"background-color: yellow;\">arr[:n]</code>\t| Select elements starting with index <span style=\"color: red;\">0</span> and up to element with index <span style=\"color: red;\">n-1</span> |\n",
    "| <code style=\"background-color: yellow;\">arr[m:]</code> | Select elements starting with index <span style=\"color: red;\">m</span> and up to the <span style=\"color: red;\">last element</span> |\n",
    "| <code style=\"background-color: yellow;\">arr[m:-1]</code> | Select elements starting with index <span style=\"color: red;\">m</span> and up to the <span style=\"color: red;\">second last element</span> |\n",
    "| <code style=\"background-color: yellow;\">arr[m:n:k]</code> | Select elements with index m through n (exclusive), with an increment k |\n",
    "| <code style=\"background-color: yellow;\">arr[::-1]</code> | Select all elements in reverse order |"
   ]
  },
  {
   "cell_type": "markdown",
   "id": "13a83b28-36fa-4d5a-b906-9b77bb5d8768",
   "metadata": {},
   "source": [
    "<br>\n",
    "\n",
    "<span style=\"color: red;\">Positive &nbsp;Slicing</span>"
   ]
  },
  {
   "cell_type": "code",
   "execution_count": 39,
   "id": "48070e22-1d02-47f6-9c01-c5cd5751324f",
   "metadata": {},
   "outputs": [
    {
     "name": "stdout",
     "output_type": "stream",
     "text": [
      "[0 1 2 3 4 5 6 7 8 9]\n",
      "[2 3 4]\n",
      "[0 2 4]\n",
      "[0 1 2 3 4 5 6 7 8 9]\n",
      "[0 1 2]\n",
      "[7 8 9]\n",
      "[2 3 4 5 6 7 8 9]\n",
      "[0 1 2 3 4 5 6 7 8]\n",
      "[5 6 7 8]\n"
     ]
    }
   ],
   "source": [
    "\n",
    "a = np.arange(0, 10)\n",
    "\n",
    "print(a)                       #  [0 1 2 3 4 5 6 7 8 9]\n",
    "     \n",
    "print(a[2:5])                  #  [2 3 4]\n",
    "\n",
    "print(a[0:5:2])                #  [0 2 4]\n",
    "\n",
    "print(a[:])                    #  [0 1 2 3 4 5 6 7 8 9]\n",
    "      \n",
    "print(a[:3])                   #  [0 1 2]\n",
    "\n",
    "print(a[-3:])                  #  [7 8 9]\n",
    "\n",
    "print(a[2:])                   #  [2 3 4 5 6 7 8 9]\n",
    "\n",
    "print(a[0:-1])                 #  [0 1 2 3 4 5 6 7 8]\n",
    "\n",
    "print(a[5:-1])                 #  [5 6 7 8]\n"
   ]
  },
  {
   "cell_type": "markdown",
   "id": "0f7404bc-ef10-4f31-a60c-9b088e1da45e",
   "metadata": {},
   "source": [
    "<br>\n",
    "\n",
    "<span style=\"color: red;\">Negative &nbsp;Slicing</span>"
   ]
  },
  {
   "cell_type": "code",
   "execution_count": 41,
   "id": "067d55fe-5a41-4b26-bd61-457d6717d371",
   "metadata": {},
   "outputs": [
    {
     "name": "stdout",
     "output_type": "stream",
     "text": [
      "[0 1 2 3 4 5 6 7 8 9]\n",
      "[9 8 7 6 5 4 3 2 1 0]\n",
      "[7 6 5]\n",
      "[]\n",
      "[]\n",
      "[50 40 30 20 10]\n"
     ]
    }
   ],
   "source": [
    "\n",
    "print(a)                         #  [0 1 2 3 4 5 6 7 8 9]\n",
    "\n",
    "print(a[::-1])                   #  [9 8 7 6 5 4 3 2 1 0]\n",
    "\n",
    "print(a[-3:-6:-1])               #  [7 6 5]\n",
    "\n",
    "print(arr[-6:-3:-1])             #  []\n",
    "\n",
    "print(arr[-8:-3:-1])             #  []\n",
    "\n",
    "print(arr[-3::-1])               #  [50 40 30 20 10]\n"
   ]
  },
  {
   "cell_type": "markdown",
   "id": "741d57f3-7291-4b09-bad2-df10b8ab62f2",
   "metadata": {},
   "source": [
    "<br>\n",
    "\n",
    "<span style=\"color: #a245ff;\">Let's consider another example and dive deep into this :</span> "
   ]
  },
  {
   "cell_type": "code",
   "execution_count": 34,
   "id": "9d715ebf-087f-45bd-a73f-0dbd82177296",
   "metadata": {},
   "outputs": [
    {
     "data": {
      "text/plain": [
       "array([0, 1, 2, 3, 4, 5, 6, 7, 8, 9])"
      ]
     },
     "execution_count": 34,
     "metadata": {},
     "output_type": "execute_result"
    }
   ],
   "source": [
    "\n",
    "arr = np.arange(10)\n",
    "arr\n"
   ]
  },
  {
   "cell_type": "code",
   "execution_count": 35,
   "id": "bf176fde-3ee8-4da0-a7a3-5db4e0f8d9eb",
   "metadata": {},
   "outputs": [
    {
     "data": {
      "text/plain": [
       "5"
      ]
     },
     "execution_count": 35,
     "metadata": {},
     "output_type": "execute_result"
    }
   ],
   "source": [
    "\n",
    "arr[5]\n"
   ]
  },
  {
   "cell_type": "code",
   "execution_count": 36,
   "id": "52750174-6209-4a40-82fa-c8873df8d085",
   "metadata": {},
   "outputs": [
    {
     "data": {
      "text/plain": [
       "array([5, 6, 7])"
      ]
     },
     "execution_count": 36,
     "metadata": {},
     "output_type": "execute_result"
    }
   ],
   "source": [
    "\n",
    "arr_slice = arr[5:8]\n",
    "arr_slice\n"
   ]
  },
  {
   "cell_type": "code",
   "execution_count": 37,
   "id": "14fbbcd6-8539-4e76-8f0e-ed24b42cc5fe",
   "metadata": {},
   "outputs": [
    {
     "data": {
      "text/plain": [
       "array([ 0,  1,  2,  3,  4, 12, 12, 12,  8,  9])"
      ]
     },
     "execution_count": 37,
     "metadata": {},
     "output_type": "execute_result"
    }
   ],
   "source": [
    "\n",
    "arr[5:8] = 12            # Assigns a sclar 12 to a slice\n",
    "arr\n"
   ]
  },
  {
   "cell_type": "markdown",
   "id": "a5ae2aa3-fff6-460e-b17a-541df9665381",
   "metadata": {},
   "source": [
    "<br>\n",
    "\n",
    "<span style=\"font-size: 1.5rem;\">⭐</span> &nbsp;As you can see, if you assign a **scalar value** to a <span style=\"color: red;\">slice</span>, as in &nbsp;<code>arr[5:8] = 12</code>&nbsp;, the value is propagated (or &nbsp;<span style=\"background-color: #f9dc10;\">&nbsp;broadcast&nbsp;</span>&nbsp; henceforth) to the <u>entire selection</u>.\n",
    "\n",
    "<br>\n",
    "\n",
    "<div style=\"display: flex;\">\n",
    "<div><span style=\"font-size: 1.5rem;\">⭐&nbsp;&nbsp;</span></div>\n",
    "<div> An important first distinction from <u>Python's built-in <span style=\"color: red;\">lists</span></u> is that <u>numpy array <span style=\"color: red;\">slices</span></u> are <span style=\"color: blue;\"><strong>views</strong></span> on the original array. &nbsp;<span style=\"color: blue;\">This means that the data is not copied, and any modifications to the view will be reflected in the source array.</span></div>\n",
    "</div>\n",
    "\n",
    "<br>"
   ]
  },
  {
   "cell_type": "code",
   "execution_count": 38,
   "id": "31cd1aaf-c05e-4b86-b788-9c73ee13b106",
   "metadata": {},
   "outputs": [
    {
     "data": {
      "text/plain": [
       "array([12, 12, 12])"
      ]
     },
     "execution_count": 38,
     "metadata": {},
     "output_type": "execute_result"
    }
   ],
   "source": [
    "\n",
    "arr_slice = arr[5:8]\n",
    "arr_slice\n"
   ]
  },
  {
   "cell_type": "markdown",
   "id": "81d07df9-6424-4b93-b751-73eebe0631a6",
   "metadata": {},
   "source": [
    "\n",
    "<span style=\"color:  #a245ff;\">Now, when I change values in &nbsp;<code>arr_slice</code> , the mutations are reflected in the original array &nbsp;<code>arr</code> &nbsp;:</span>\n"
   ]
  },
  {
   "cell_type": "code",
   "execution_count": 39,
   "id": "af16ebaa-6ef2-4a3b-b5c0-4206e66b55cf",
   "metadata": {},
   "outputs": [
    {
     "data": {
      "text/plain": [
       "array([    0,     1,     2,     3,     4,    12, 12345,    12,     8,\n",
       "           9])"
      ]
     },
     "execution_count": 39,
     "metadata": {},
     "output_type": "execute_result"
    }
   ],
   "source": [
    "\n",
    "arr_slice[1] = 12345\n",
    "arr                           # 12345 is reflected in the original array \"arr\"\n"
   ]
  },
  {
   "cell_type": "markdown",
   "id": "aba6898e-54c3-4004-91bb-40d8f382dd01",
   "metadata": {},
   "source": [
    "\n",
    "<span style=\"font-size: 1.5rem;\">⭐</span> &nbsp;The \"bare\" slice &nbsp;<code style=\"background-color: yellow;\">[:]</code>&nbsp; will assign <u>to all values in an array</u> :\n"
   ]
  },
  {
   "cell_type": "code",
   "execution_count": 40,
   "id": "a94b3472-73c9-43a0-b72a-08bf4c723974",
   "metadata": {},
   "outputs": [
    {
     "data": {
      "text/plain": [
       "array([   12, 12345,    12])"
      ]
     },
     "execution_count": 40,
     "metadata": {},
     "output_type": "execute_result"
    }
   ],
   "source": [
    "\n",
    "arr_slice\n"
   ]
  },
  {
   "cell_type": "code",
   "execution_count": 41,
   "id": "cc761e22-a2f8-4d32-8980-b1ca41425cce",
   "metadata": {},
   "outputs": [
    {
     "data": {
      "text/plain": [
       "array([ 0,  1,  2,  3,  4, 64, 64, 64,  8,  9])"
      ]
     },
     "execution_count": 41,
     "metadata": {},
     "output_type": "execute_result"
    }
   ],
   "source": [
    "\n",
    "arr_slice[:] = 64             # assigns the sclar 64 to all values in the \"arr_slice\" \n",
    "arr                           # it is reflected in the original array \"arr\"\n"
   ]
  },
  {
   "cell_type": "markdown",
   "id": "370e8bb9-abf2-45e3-a09c-553a48896247",
   "metadata": {},
   "source": [
    "\n",
    "<div style=\"display: flex;\">\n",
    "<div><span style=\"font-size: 1.5rem;\">⭐&nbsp;&nbsp;</span></div>\n",
    "<div>If you want a copy of a slice of an ndarray instead of a view, you will need to explicitly copy the array — for example, &nbsp;<code style=\"padding: 3px;\">arr[5:8].<span style=\"color: red;\">copy()</span></code>&nbsp; <br>As you will see, pandas works this way, too.</div>\n",
    "</div>\n",
    "\n",
    "<br>\n",
    "\n",
    "<br>\n",
    "\n",
    "<span style=\"color: #06fff0; font-size: 0.7rem;\">■■■■■■■■■■■■■■■■■■■■■■■■■■■■■■■■■■■■■■■■■■■■■■■■■■■■■■■■■■■■■■■■■■■■■■■■■■■■■■■■■■■■■■■■■■■■■■■■■■■■■■■■■■■■■■■</span>\n",
    "\n",
    "<br>\n",
    "\n",
    "<br>\n",
    "\n",
    "<code style=\"background-color: #6e07dc; color: white; padding: 4px;\">&nbsp;Numpy array slicing on multidimensional arrays&nbsp;:</code>\n",
    "\n",
    "\n",
    "To slice a multidimensional array, you apply the square brackets &nbsp;<code style=\"background-color: yellow;\">[]</code>&nbsp; and the &nbsp;<code style=\"background-color: yellow;\">:</code>&nbsp; notation <u>to each dimension (or axis)</u>. &nbsp;The slice returns a reduced array where each element matches the selection rules.\n",
    "\n",
    "<span style=\"color: blue;\">===> &nbsp;**1D array slicing**</span> &nbsp;&nbsp;===>&nbsp;&nbsp;&nbsp;<code style=\"color: red; background-color: #fff4c5;\">arr[m:n:p]</code>&nbsp;\n",
    "\n",
    "<span style=\"color: blue;\">===> &nbsp;Multi Dimensional array slicing</span> &nbsp;&nbsp;===>&nbsp;&nbsp;&nbsp;<code style=\"color: red; background-color: #fff4c5;\">arr[m:n:p, i:j:k, ...]</code>\n",
    "\n",
    "<span style=\"margin-left: 80px;\">For example, <span style=\"color: blue;\">**3D array slicing :**</span></span> &nbsp;<span style=\"color: black\"><font size=\"+1\">↴</font>&nbsp;</span>\n",
    "\n",
    "<code style=\"padding: 9px; font-size: 0.8rem; margin-left: 80px; background-color: #fff4c5;\">arr[ <code style=\"background-color: #f9dc10; padding:1px;\">start_depth_index : stop_row_index : step</code> , <code style=\"background-color: #f9dc10; padding:1px;\">start_row_index : stop_row_index : step</code> , <code style=\"background-color: #f9dc10; padding:1px;\">start_column_index : stop_column_index : step</code> ]</code>\n",
    "\n",
    "<br><br>\n",
    "\n",
    "<code style=\"background-color: black; color: white;\">Example - 1</code>\n"
   ]
  },
  {
   "cell_type": "code",
   "execution_count": 42,
   "id": "46c35a2e-70a3-4327-8f91-4767f61a240c",
   "metadata": {},
   "outputs": [
    {
     "name": "stdout",
     "output_type": "stream",
     "text": [
      "[[1 2 3]\n",
      " [4 5 6]]\n"
     ]
    }
   ],
   "source": [
    "\n",
    "a = np.array([\n",
    "    [1, 2, 3],\n",
    "    [4, 5, 6],\n",
    "    [7, 8, 9]\n",
    "])                                # 2D array\n",
    "\n",
    "print(a[0:2, :])                  # Slice rows from index 0 to 2 (excluding 2) and columns from index 0 to the last index\n"
   ]
  },
  {
   "cell_type": "markdown",
   "id": "cbd87862-3b5c-4e8e-9377-bedc6d8e6a7e",
   "metadata": {},
   "source": [
    "\n",
    "<div style=\"margin-left: 160px;\">\n",
    "\n",
    "![](../media/numpy_07.PNG)\n",
    "\n",
    "</div>\n",
    "\n",
    "<span style=\"color:  #a245ff;\">In the expression &nbsp;<code style=\"background-color: #f6c5ff;\">a[0:2, :]</code> &nbsp;<span style=\"color: black\"><font size=\"+2\">↴</font>&nbsp;</span></span>\n",
    "\n",
    "<span style=\"font-size: 0.7rem; color: black; margin-left: 30px;\">■</span> &nbsp;<span style=\"color:  #a245ff;\">First, the &nbsp;<code style=\"background-color: #f6c5ff;\">0:2</code>&nbsp; selects the element at index 0 and 1, not 2 that returns :</span>\n"
   ]
  },
  {
   "cell_type": "code",
   "execution_count": 72,
   "id": "827d7c1b-0ad3-4fdb-a17c-a9f6fe529e4c",
   "metadata": {},
   "outputs": [
    {
     "name": "stdout",
     "output_type": "stream",
     "text": [
      "[1 2 3]\n",
      "[4 5 6]\n"
     ]
    }
   ],
   "source": [
    "\n",
    "print(a[0])\n",
    "print(a[1])\n"
   ]
  },
  {
   "cell_type": "markdown",
   "id": "e03f6443-f689-4f4d-b5ad-52b9515f554b",
   "metadata": {},
   "source": [
    "<br>\n",
    "\n",
    "<div style=\"display: flex;\">\n",
    "\n",
    "<span style=\"font-size: 0.7rem; color: black; margin-left: 30px;\">■</span> &nbsp; <span style=\"color:  #a245ff;\">Then, the &nbsp;<code style=\"background-color: #f6c5ff;\"> : </code>&nbsp; select all elements. &nbsp;Therefore the whole expression returns :</span>\n"
   ]
  },
  {
   "cell_type": "code",
   "execution_count": 73,
   "id": "db8ba8cf-ebb2-4a2a-9f91-0e2d273376af",
   "metadata": {},
   "outputs": [
    {
     "name": "stdout",
     "output_type": "stream",
     "text": [
      "[1 2 3]\n",
      "[4 5 6]\n"
     ]
    }
   ],
   "source": [
    "\n",
    "print(a[0][:])\n",
    "print(a[1][:])\n"
   ]
  },
  {
   "cell_type": "markdown",
   "id": "c830c02b-b91a-4fc6-87af-cd658fb7681e",
   "metadata": {},
   "source": [
    "<br>\n",
    "\n",
    "<code style=\"background-color: black; color: white;\">Example - 2</code>\n"
   ]
  },
  {
   "cell_type": "code",
   "execution_count": 44,
   "id": "44fcf90e-7e5a-4312-9a29-08af279176ea",
   "metadata": {},
   "outputs": [
    {
     "name": "stdout",
     "output_type": "stream",
     "text": [
      "[[5 6]\n",
      " [8 9]]\n"
     ]
    }
   ],
   "source": [
    "\n",
    "a = np.array([\n",
    "    [1, 2, 3],\n",
    "    [4, 5, 6],\n",
    "    [7, 8, 9]\n",
    "])                                # 2D array                     \n",
    "\n",
    "print(a[1:, 1:])                  # Slice rows from index 1 to the last index and columns from the index 1 to the last index\n"
   ]
  },
  {
   "cell_type": "markdown",
   "id": "2d6ee1ca-9de1-49ed-be4f-52c40dd81f1d",
   "metadata": {},
   "source": [
    "\n",
    "<div style=\"margin-left: 160px;\">\n",
    "\n",
    "![](../media/numpy_08.PNG)\n",
    "\n",
    "</div>\n",
    "\n",
    "<span style=\"color:  #a245ff;\">In the expression &nbsp;<code style=\"background-color: #f6c5ff;\">a[1:, 1:]</code> &nbsp;<span style=\"color: black\"><font size=\"+2\">↴</font>&nbsp;</span></span>\n",
    "\n",
    "<span style=\"font-size: 0.7rem; color: black; margin-left: 30px;\">■</span> &nbsp;<span style=\"color:  #a245ff;\">First, &nbsp;<code style=\"background-color: #f6c5ff;\"> 1: </code>&nbsp; selects the elements starting at index 1 to the last element of the first axis (or row), which returns :</span>"
   ]
  },
  {
   "cell_type": "code",
   "execution_count": 64,
   "id": "1944a4c7-1e4c-4aea-bd19-c0c1c0525802",
   "metadata": {},
   "outputs": [
    {
     "name": "stdout",
     "output_type": "stream",
     "text": [
      "[4 5 6]\n",
      "[7 8 9]\n"
     ]
    }
   ],
   "source": [
    "\n",
    "print(a[1])\n",
    "print(a[2])\n"
   ]
  },
  {
   "cell_type": "markdown",
   "id": "173d6b63-99e5-4c5c-a552-a684f5b20e0d",
   "metadata": {},
   "source": [
    "<br>\n",
    "\n",
    "<span style=\"font-size: 0.7rem; color: black; margin-left: 30px;\">■</span> &nbsp;<span style=\"color:  #a245ff;\">Second, &nbsp;<code style=\"background-color: #f6c5ff;\"> 1: </code>&nbsp; selects the elements starting at index 1 to the last elements of the second axis (or column), which returns :</span>\n"
   ]
  },
  {
   "cell_type": "code",
   "execution_count": 66,
   "id": "34bc4f45-26d6-486f-84cc-09ed32f24264",
   "metadata": {},
   "outputs": [
    {
     "name": "stdout",
     "output_type": "stream",
     "text": [
      "[5 6]\n",
      "[8 9]\n"
     ]
    }
   ],
   "source": [
    "\n",
    "print(a[1][1:])\n",
    "print(a[2][1:])\n"
   ]
  },
  {
   "cell_type": "markdown",
   "id": "6d096a70-e6b2-498e-bc2a-0d0616bfca3c",
   "metadata": {},
   "source": [
    "<br>\n",
    "\n",
    "<code style=\"background-color: black; color: white;\">Example - 3</code>"
   ]
  },
  {
   "cell_type": "code",
   "execution_count": 60,
   "id": "34c6cb15-5a2c-4f1e-a91a-047dbdf33aa3",
   "metadata": {},
   "outputs": [
    {
     "name": "stdout",
     "output_type": "stream",
     "text": [
      "[1 2 3]\n"
     ]
    }
   ],
   "source": [
    "\n",
    "arr2d = np.array([[1, 2, 3], [4, 5, 6], [7, 8, 9]])\n",
    "\n",
    "print(arr2d[0])             # [1 2 3]\n"
   ]
  },
  {
   "cell_type": "markdown",
   "id": "053e02e2-ba08-4822-813c-76138a308ab2",
   "metadata": {},
   "source": [
    "<br>\n",
    "\n",
    "<div style=\"display: flex;\">\n",
    "<div><span style=\"font-size: 1.5rem;\">⭐&nbsp;&nbsp;</span></div>\n",
    "<div>Thus, individual elements can be accessed recursively. &nbsp;But that is a bit too much work, so <u>you can pass a <strong>comma-separated list of indices</strong> to select individual elements</u>. &nbsp;So the following are equivalent :</div>\n",
    "</div>\n"
   ]
  },
  {
   "cell_type": "code",
   "execution_count": 147,
   "id": "8d97824c-4966-4578-8663-41707f58ec09",
   "metadata": {},
   "outputs": [
    {
     "name": "stdout",
     "output_type": "stream",
     "text": [
      "3\n",
      "3\n"
     ]
    }
   ],
   "source": [
    "\n",
    "print(arr2d[0][2])          # METHOD - 1\n",
    "print(arr2d[0, 2])          # METHOD - 2\n"
   ]
  },
  {
   "cell_type": "markdown",
   "id": "f285f21c-c142-4bd4-b593-bc8d16af89b0",
   "metadata": {},
   "source": [
    "\n",
    "<div style=\"margin-left: 160px;\">\n",
    "\n",
    "![](../media/numpy_09.PNG)\n",
    "\n",
    "</div>\n"
   ]
  },
  {
   "cell_type": "code",
   "execution_count": 148,
   "id": "31309db6-65cf-41c0-a5d4-bbd110ea964d",
   "metadata": {},
   "outputs": [
    {
     "data": {
      "text/plain": [
       "array([[9, 8, 7],\n",
       "       [6, 5, 4],\n",
       "       [3, 2, 1]])"
      ]
     },
     "execution_count": 148,
     "metadata": {},
     "output_type": "execute_result"
    }
   ],
   "source": [
    "\n",
    "arr2d[::-1, ::-1]                # Slice rows from the last index to the first index and columns from the last index to the first index\n"
   ]
  },
  {
   "cell_type": "markdown",
   "id": "29cf12a8-6fee-4892-8b41-0bb9a222beee",
   "metadata": {},
   "source": [
    "\n",
    "<br>\n",
    "\n",
    "<code style=\"background-color: black; color: white;\">Example - 4</code>"
   ]
  },
  {
   "cell_type": "code",
   "execution_count": 149,
   "id": "8e9cb900-2c41-40ce-88d7-27dcd18625aa",
   "metadata": {},
   "outputs": [
    {
     "data": {
      "text/plain": [
       "array([[ 1,  2,  3,  4],\n",
       "       [ 5,  6,  7,  8],\n",
       "       [ 9, 10, 11, 12]])"
      ]
     },
     "execution_count": 149,
     "metadata": {},
     "output_type": "execute_result"
    }
   ],
   "source": [
    "\n",
    "arr2d = np.array([[1, 2, 3, 4], [5, 6, 7, 8], [9, 10, 11, 12]])\n",
    "\n",
    "arr2d\n"
   ]
  },
  {
   "cell_type": "code",
   "execution_count": 150,
   "id": "dc32b554-bd2e-4f6a-9425-c11c48d2bd7a",
   "metadata": {},
   "outputs": [
    {
     "name": "stdout",
     "output_type": "stream",
     "text": [
      "[[2 3]\n",
      " [6 7]]\n"
     ]
    }
   ],
   "source": [
    "\n",
    "print(arr2d[0:2, 1:3])           # Slice rows from index 0 to 2 (excluding 2) and columns from index 1 to 3 (excluding 3)\n",
    "                                                                  "
   ]
  },
  {
   "cell_type": "code",
   "execution_count": 66,
   "id": "cb9fed3b-038d-4f66-87a6-60f3afc7a2dd",
   "metadata": {},
   "outputs": [
    {
     "name": "stdout",
     "output_type": "stream",
     "text": [
      "[[1 2]\n",
      " [4 5]\n",
      " [7 8]]\n"
     ]
    }
   ],
   "source": [
    "\n",
    "print(arr2d[:, :2])              # Slice all rows and the first two columns\n"
   ]
  },
  {
   "cell_type": "code",
   "execution_count": 67,
   "id": "f8d3c341-9940-479c-8ee6-5c882fff82b7",
   "metadata": {},
   "outputs": [
    {
     "name": "stdout",
     "output_type": "stream",
     "text": [
      "[8 9]\n"
     ]
    }
   ],
   "source": [
    "\n",
    "print(arr2d[-1, -2:])            # Slice the last row and last two columns                         \n"
   ]
  },
  {
   "cell_type": "markdown",
   "id": "d5f1394d-4553-4aa7-9b16-7c7a1c36d0f2",
   "metadata": {},
   "source": [
    "<br>\n",
    "\n",
    "<code style=\"background-color: black; color: white;\">Example - 5</code>"
   ]
  },
  {
   "cell_type": "code",
   "execution_count": 172,
   "id": "1736d51e-e10f-4c7c-851b-2b2598f7ac0d",
   "metadata": {},
   "outputs": [
    {
     "data": {
      "text/plain": [
       "array([[[ 1,  2,  3],\n",
       "        [ 4,  5,  6]],\n",
       "\n",
       "       [[ 7,  8,  9],\n",
       "        [10, 11, 12]]])"
      ]
     },
     "execution_count": 172,
     "metadata": {},
     "output_type": "execute_result"
    }
   ],
   "source": [
    "\n",
    "arr3d = np.array([[[1, 2, 3], [4, 5, 6]], [[7, 8, 9], [10, 11, 12]]])\n",
    "\n",
    "arr3d\n"
   ]
  },
  {
   "cell_type": "code",
   "execution_count": 173,
   "id": "52d8259d-c6bb-4976-9520-6e159bc21ccb",
   "metadata": {},
   "outputs": [
    {
     "data": {
      "text/plain": [
       "array([[1, 2, 3],\n",
       "       [4, 5, 6]])"
      ]
     },
     "execution_count": 173,
     "metadata": {},
     "output_type": "execute_result"
    }
   ],
   "source": [
    "\n",
    "arr3d[0]                                 # 2D array\n"
   ]
  },
  {
   "cell_type": "markdown",
   "id": "7d2bfb20-b69f-41ce-bdb5-6b7580342d13",
   "metadata": {},
   "source": [
    "<br>\n",
    "\n",
    "<span style=\"font-size: 1.5rem;\">⭐&nbsp;&nbsp;</span><span style=\"color: black;\">Both <strong>scalar values</strong> and <strong>arrays</strong> can be assigned to &nbsp;<code style=\"background-color: #f6c5ff;\">arr3d[0]</code> :</span>"
   ]
  },
  {
   "cell_type": "code",
   "execution_count": 174,
   "id": "e33e2ebc-4d71-454e-948d-99383e34960e",
   "metadata": {},
   "outputs": [
    {
     "data": {
      "text/plain": [
       "array([[[42, 42, 42],\n",
       "        [42, 42, 42]],\n",
       "\n",
       "       [[ 7,  8,  9],\n",
       "        [10, 11, 12]]])"
      ]
     },
     "execution_count": 174,
     "metadata": {},
     "output_type": "execute_result"
    }
   ],
   "source": [
    "\n",
    "old_values = arr3d[0].copy()\n",
    "\n",
    "arr3d[0] = 42                            # assigns  a  scalar  value  to  the  array  \"arr3d[0\"\n",
    "\n",
    "arr3d\n"
   ]
  },
  {
   "cell_type": "code",
   "execution_count": 175,
   "id": "4f4444f6-2230-4173-a442-6dff6ae33c0d",
   "metadata": {},
   "outputs": [
    {
     "data": {
      "text/plain": [
       "array([[[ 1,  2,  3],\n",
       "        [ 4,  5,  6]],\n",
       "\n",
       "       [[ 7,  8,  9],\n",
       "        [10, 11, 12]]])"
      ]
     },
     "execution_count": 175,
     "metadata": {},
     "output_type": "execute_result"
    }
   ],
   "source": [
    "\n",
    "arr3d[0] = old_values                    # assigns  an  array  to  the  array  \"arr3d[0]\"\n",
    "\n",
    "arr3d\n"
   ]
  },
  {
   "cell_type": "code",
   "execution_count": 176,
   "id": "2edec2ae-430d-471a-b3d4-431d432c6b12",
   "metadata": {},
   "outputs": [
    {
     "data": {
      "text/plain": [
       "array([7, 8, 9])"
      ]
     },
     "execution_count": 176,
     "metadata": {},
     "output_type": "execute_result"
    }
   ],
   "source": [
    "\n",
    "arr3d[1, 0]                              # 1D array\n"
   ]
  },
  {
   "cell_type": "code",
   "execution_count": 177,
   "id": "947c0aa7-6f34-4fb0-82ed-7a0966178aa8",
   "metadata": {},
   "outputs": [
    {
     "data": {
      "text/plain": [
       "array([[ 7,  8,  9],\n",
       "       [10, 11, 12]])"
      ]
     },
     "execution_count": 177,
     "metadata": {},
     "output_type": "execute_result"
    }
   ],
   "source": [
    "\n",
    "x = arr3d[1]\n",
    "\n",
    "x\n"
   ]
  },
  {
   "cell_type": "code",
   "execution_count": 178,
   "id": "ac152d7e-5dad-49f5-856d-a8bd0da881af",
   "metadata": {},
   "outputs": [
    {
     "data": {
      "text/plain": [
       "array([7, 8, 9])"
      ]
     },
     "execution_count": 178,
     "metadata": {},
     "output_type": "execute_result"
    }
   ],
   "source": [
    "\n",
    "x[0]\n"
   ]
  },
  {
   "cell_type": "markdown",
   "id": "09fed0ab-6305-4c1c-a4b1-99a49ad269be",
   "metadata": {},
   "source": [
    "<br>\n",
    "\n",
    "<span style=\"font-size: 1.5rem;\">⭐&nbsp;&nbsp;</span>Note that in all of these cases where subsections of the array have been selected, the returned arrays are **views**.\n",
    "\n",
    "<span style=\"color: red;\"><u>Caution</u> :-</span> &nbsp;This multidimensional indexing syntax for NumPy arrays will not work with regular Python objects, such as lists of lists."
   ]
  },
  {
   "cell_type": "code",
   "execution_count": 146,
   "id": "d3b021be-38af-434a-94ef-033308a8ad84",
   "metadata": {},
   "outputs": [
    {
     "data": {
      "text/plain": [
       "array([[ 0,  0,  0],\n",
       "       [10, 11, 12]])"
      ]
     },
     "execution_count": 146,
     "metadata": {},
     "output_type": "execute_result"
    }
   ],
   "source": [
    "\n",
    "x[0] = 0                               # scaler value 0 is broadcasted to the 1st row of the array \"x\"\n",
    "\n",
    "x\n"
   ]
  },
  {
   "cell_type": "code",
   "execution_count": 140,
   "id": "a8709045-b1a2-4d96-8028-8fbef2e16f19",
   "metadata": {},
   "outputs": [
    {
     "data": {
      "text/plain": [
       "array([[[ 1,  2,  3],\n",
       "        [ 4,  5,  6]],\n",
       "\n",
       "       [[ 0,  0,  0],\n",
       "        [10, 11, 12]]])"
      ]
     },
     "execution_count": 140,
     "metadata": {},
     "output_type": "execute_result"
    }
   ],
   "source": [
    "\n",
    "arr3d                                  # the change is reflected in the original array\n"
   ]
  },
  {
   "cell_type": "code",
   "execution_count": 141,
   "id": "24c7bb17-d1ff-407a-a2ca-d12015fc11ea",
   "metadata": {},
   "outputs": [
    {
     "data": {
      "text/plain": [
       "array([[ 0,  0,  0],\n",
       "       [10, 11, 12]])"
      ]
     },
     "execution_count": 141,
     "metadata": {},
     "output_type": "execute_result"
    }
   ],
   "source": [
    "\n",
    "arr3d[1, :, :]                         # is equivalent to  =========>  arr3d[1::, ::, ::]\n",
    "                                       # Slice the 2nd layer with all rows and all columns\n"
   ]
  },
  {
   "cell_type": "code",
   "execution_count": 142,
   "id": "489146f5-63a0-4626-8987-45a8f6bdbbb5",
   "metadata": {},
   "outputs": [
    {
     "data": {
      "text/plain": [
       "array([[ 0,  0,  0],\n",
       "       [10, 11, 12]])"
      ]
     },
     "execution_count": 142,
     "metadata": {},
     "output_type": "execute_result"
    }
   ],
   "source": [
    "\n",
    "\n",
    "arr3d[-1, :, :]                        # is equivalent to  =========>  arr3d[-1::, ::, ::]\n",
    "                                       # Slice the last layer with all rows and all columns\n"
   ]
  },
  {
   "cell_type": "code",
   "execution_count": 143,
   "id": "857a64e4-3c36-47ee-8db3-0d95024cdbbf",
   "metadata": {},
   "outputs": [
    {
     "data": {
      "text/plain": [
       "12"
      ]
     },
     "execution_count": 143,
     "metadata": {},
     "output_type": "execute_result"
    }
   ],
   "source": [
    "\n",
    "arr3d[-1, -1, -1]                      # Slice the last layer with last row and the last column\n"
   ]
  },
  {
   "cell_type": "code",
   "execution_count": 144,
   "id": "5e61a5b5-a8c5-4791-b22d-4515464a4e68",
   "metadata": {},
   "outputs": [
    {
     "data": {
      "text/plain": [
       "array([[[ 0,  0,  0],\n",
       "        [10, 11, 12]],\n",
       "\n",
       "       [[ 1,  2,  3],\n",
       "        [ 4,  5,  6]]])"
      ]
     },
     "execution_count": 144,
     "metadata": {},
     "output_type": "execute_result"
    }
   ],
   "source": [
    "\n",
    "arr3d[-1::-1, :, :]                    # Slice from last layer to the start layer with step = -1, and the slice all rows and all columns\n"
   ]
  },
  {
   "cell_type": "code",
   "execution_count": 145,
   "id": "52936205-886b-46d6-b6bd-d3a7586d6286",
   "metadata": {},
   "outputs": [
    {
     "data": {
      "text/plain": [
       "array([12,  6])"
      ]
     },
     "execution_count": 145,
     "metadata": {},
     "output_type": "execute_result"
    }
   ],
   "source": [
    "\n",
    "arr3d[-1::-1, -1, -1]                  # Slice the last layer with all rows and all columns\n"
   ]
  },
  {
   "cell_type": "markdown",
   "id": "6908a4d8-c4ca-4681-91f7-5afd32045001",
   "metadata": {
    "jp-MarkdownHeadingCollapsed": true
   },
   "source": [
    "<br>\n",
    "\n",
    "### <div style=\"color: white; background-color: #af87ff; padding: 5px;\"> <code style=\"font-size: 1.2rem; background-color: #af87ff; color: white;\"><strong>Fancy Indexing</strong></code> </div>\n"
   ]
  },
  {
   "cell_type": "markdown",
   "id": "627b4d68-f87f-4c57-aa3f-0f175528afe5",
   "metadata": {},
   "source": [
    "\n",
    "Besides using indexing & slicing, NumPy provides you with a convenient way to index an array called fancy indexing.\n",
    "\n",
    "Fancy indexing allows you to index a numpy array using the following:\n",
    "\n",
    "- Another numpy array\n",
    "- A Python list\n",
    "- A sequence of integers\n",
    "\n",
    "<br>\n",
    "\n",
    "<span style=\"font-size: 1.5rem;\">⭐&nbsp;</span> <span style=\"color: red;\">fancy indexing</span> &nbsp;&nbsp;&nbsp;====>&nbsp;&nbsp;&nbsp;  indexing using integer arrays &nbsp;&nbsp;&nbsp;====>&nbsp;&nbsp;&nbsp; <code style=\"background-color: #f9dc10; padding:1px;\"> array1[array2] </code>\n",
    "\n",
    "<br>\n",
    "\n",
    "<code style=\"background-color: black; color: white;\">Example - 1</code>"
   ]
  },
  {
   "cell_type": "code",
   "execution_count": 156,
   "id": "a39a3250-4541-40e2-bc11-2b099c892ce8",
   "metadata": {},
   "outputs": [
    {
     "name": "stdout",
     "output_type": "stream",
     "text": [
      "arr           =  [1 2 3 4 5 6 7 8 9]\n",
      "indices       =  [2, 3, 4]\n",
      "arr[indices]  =  [3 4 5]\n"
     ]
    }
   ],
   "source": [
    "\n",
    "arr = np.arange(1,10)\n",
    "print(\"arr           = \", arr)\n",
    "\n",
    "indices = [2,3,4]\n",
    "print(\"indices       = \", indices)\n",
    "\n",
    "print(\"arr[indices]  = \", arr[indices])                # array1[array2]\n"
   ]
  },
  {
   "cell_type": "markdown",
   "id": "1793d8db-cabd-457b-baa1-6bed4d76ce2b",
   "metadata": {},
   "source": [
    "<br>\n",
    "\n",
    "<div style=\"margin-left: 160px;\">\n",
    "\n",
    "![](../media/numpy_10.PNG)\n",
    "\n",
    "</div>\n",
    "\n",
    "<br>\n",
    "\n",
    "<code style=\"background-color: black; color: white;\">Example - 2</code>"
   ]
  },
  {
   "cell_type": "code",
   "execution_count": 164,
   "id": "92b5218d-a700-4186-8560-792117650167",
   "metadata": {},
   "outputs": [
    {
     "data": {
      "text/plain": [
       "(8, 4)"
      ]
     },
     "execution_count": 164,
     "metadata": {},
     "output_type": "execute_result"
    }
   ],
   "source": [
    "\n",
    "arr = np.array([[0, 0, 0, 0],\n",
    "                [1, 1, 1, 1],\n",
    "                [2, 2, 2, 2],\n",
    "                [3, 3, 3, 3],\n",
    "                [4, 4, 4, 4],\n",
    "                [5, 5, 5, 5],\n",
    "                [6, 6, 6, 6],\n",
    "                [7, 7, 7, 7]])\n",
    "\n",
    "arr.shape\n"
   ]
  },
  {
   "cell_type": "code",
   "execution_count": 166,
   "id": "ddffb560-75c2-4cda-92e4-d16af56c74de",
   "metadata": {},
   "outputs": [
    {
     "data": {
      "text/plain": [
       "array([[4, 4, 4, 4],\n",
       "       [3, 3, 3, 3],\n",
       "       [0, 0, 0, 0],\n",
       "       [6, 6, 6, 6]])"
      ]
     },
     "execution_count": 166,
     "metadata": {},
     "output_type": "execute_result"
    }
   ],
   "source": [
    "\n",
    "arr[[4, 3, 0, 6]]\n"
   ]
  },
  {
   "cell_type": "code",
   "execution_count": 167,
   "id": "ba8aa281-e455-4777-a80b-a2438b72f9a1",
   "metadata": {},
   "outputs": [
    {
     "data": {
      "text/plain": [
       "array([[5, 5, 5, 5],\n",
       "       [3, 3, 3, 3],\n",
       "       [1, 1, 1, 1]])"
      ]
     },
     "execution_count": 167,
     "metadata": {},
     "output_type": "execute_result"
    }
   ],
   "source": [
    "\n",
    "arr[[-3, -5, -7]]\n"
   ]
  },
  {
   "cell_type": "markdown",
   "id": "dd94e1ec-ce70-4f9f-8d4a-e56f100fd85c",
   "metadata": {},
   "source": [
    "<br>\n",
    "\n",
    "<code style=\"background-color: black; color: white;\">Example - 3</code>\n",
    "\n",
    "Passing **multiple index arrays** does something slightly different; <span style=\"color: blue;\">it selects a one-dimensional array of elements corresponding to each tuple of indices :</span>"
   ]
  },
  {
   "cell_type": "code",
   "execution_count": 17,
   "id": "820097e8-fd7c-4a37-863a-8f6a494739f2",
   "metadata": {},
   "outputs": [
    {
     "name": "stdout",
     "output_type": "stream",
     "text": [
      "(8, 4)\n"
     ]
    }
   ],
   "source": [
    "\n",
    "arr = np.array([[ 0,  1,  2,  3],\n",
    "                [ 4,  5,  6,  7],\n",
    "                [ 8,  9, 10, 11],\n",
    "                [12, 13, 14, 15],\n",
    "                [16, 17, 18, 19],\n",
    "                [20, 21, 22, 23],\n",
    "                [24, 25, 26, 27],\n",
    "                [28, 29, 30, 31]])\n",
    "\n",
    "\n",
    "print(arr.shape)\n"
   ]
  },
  {
   "cell_type": "code",
   "execution_count": 18,
   "id": "d017f875-b61f-4637-b083-59317953420c",
   "metadata": {},
   "outputs": [
    {
     "data": {
      "text/plain": [
       "array([ 4, 23, 29, 10])"
      ]
     },
     "execution_count": 18,
     "metadata": {},
     "output_type": "execute_result"
    }
   ],
   "source": [
    "\n",
    "arr[[1, 5, 7, 2], [0, 3, 1, 2]]                    # [arr(1,0) , arr(5,3), arr(7,1), arr(2,2)]    -------->    [4, 23, 29, 10]\n"
   ]
  },
  {
   "cell_type": "markdown",
   "id": "6643fe98-9135-4050-a0b4-a4ba0b34de2a",
   "metadata": {},
   "source": [
    "\n",
    "<span style=\"color:  #a245ff;\">Here the elements at index &nbsp;<code style=\"background-color: #f6c5ff;\">(1,0)</code>&nbsp;, &nbsp;<code style=\"background-color: #f6c5ff;\">(5,3)</code>&nbsp; , &nbsp;<code style=\"background-color: #f6c5ff;\">(7,1)</code>&nbsp; and &nbsp;<code style=\"background-color: #f6c5ff;\">(2,3)</code>&nbsp; are selected.</span>\n",
    "\n",
    "<span style=\"color:  #a245ff;\">Now let's look at another scenario of <strong>fancy indexing</strong> :</span>"
   ]
  },
  {
   "cell_type": "code",
   "execution_count": 19,
   "id": "d9862966-1e6b-4d72-a414-20bb567476a0",
   "metadata": {},
   "outputs": [
    {
     "data": {
      "text/plain": [
       "array([[ 4,  5,  6,  7],\n",
       "       [20, 21, 22, 23],\n",
       "       [28, 29, 30, 31],\n",
       "       [ 8,  9, 10, 11]])"
      ]
     },
     "execution_count": 19,
     "metadata": {},
     "output_type": "execute_result"
    }
   ],
   "source": [
    "\n",
    "arr[[1, 5, 7, 2]]\n"
   ]
  },
  {
   "cell_type": "code",
   "execution_count": 20,
   "id": "95133aab-d1e3-43bf-bb31-7b98033d96e7",
   "metadata": {},
   "outputs": [
    {
     "data": {
      "text/plain": [
       "array([[ 4,  7,  5,  6],\n",
       "       [20, 23, 21, 22],\n",
       "       [28, 31, 29, 30],\n",
       "       [ 8, 11,  9, 10]])"
      ]
     },
     "execution_count": 20,
     "metadata": {},
     "output_type": "execute_result"
    }
   ],
   "source": [
    "\n",
    "arr[[1, 5, 7, 2]][:, [0, 3, 1, 2]]                # the columns of  \"arr[[1, 5, 7, 2]]\"  are rearanged in the order [0, 3, 1, 2]\n"
   ]
  },
  {
   "cell_type": "markdown",
   "id": "988c693c-7b67-49d1-99c8-cfc7b53dd527",
   "metadata": {},
   "source": [
    "<br>\n",
    "\n",
    "<span style=\"color:  #a245ff;\">How does it work ? &nbsp;&nbsp;&nbsp;====>&nbsp;&nbsp;&nbsp; The columns of &nbsp;<code style=\"background-color: #edd4ff;\">arr[[1, 5, 7, 2]]</code>&nbsp; are rearranged in the order &nbsp;<code style=\"background-color: #edd4ff;\">[0, 3, 1, 2]</code></span>\n",
    "\n",
    "<div style=\"margin-left: 140px;\">\n",
    "\n",
    "![](../media/numpy_11.PNG)\n",
    "\n",
    "</div>"
   ]
  },
  {
   "cell_type": "markdown",
   "id": "86c0db01-aa09-4bff-931a-ed5da7bcf5cb",
   "metadata": {},
   "source": [
    "<div style=\"display: flex;\">\n",
    "<div><span style=\"font-size: 1.5rem;\">⭐&nbsp;&nbsp;</span></div>\n",
    "<div>Keep in mind that <span style=\"color: blue;\">fancy indexing</span>, unlike slicing, <span style=\"color: blue;\">always copies the data into a new array when assigning the result to a new variable</span>. &nbsp;If you assign values with fancy indexing, the indexed values will be modified :</div>\n",
    "</div>"
   ]
  },
  {
   "cell_type": "code",
   "execution_count": 12,
   "id": "c87f94a0-7da5-4bb5-ae1a-d6f66797b0a0",
   "metadata": {},
   "outputs": [
    {
     "data": {
      "text/plain": [
       "array([ 4, 23, 29, 10])"
      ]
     },
     "execution_count": 12,
     "metadata": {},
     "output_type": "execute_result"
    }
   ],
   "source": [
    "\n",
    "arr[[1, 5, 7, 2], [0, 3, 1, 2]]\n"
   ]
  },
  {
   "cell_type": "code",
   "execution_count": 22,
   "id": "f28634ac-91e7-4d54-bac0-a5de18270a02",
   "metadata": {},
   "outputs": [
    {
     "data": {
      "text/plain": [
       "array([[ 0,  1,  2,  3],\n",
       "       [ 0,  5,  6,  7],\n",
       "       [ 8,  9,  0, 11],\n",
       "       [12, 13, 14, 15],\n",
       "       [16, 17, 18, 19],\n",
       "       [20, 21, 22,  0],\n",
       "       [24, 25, 26, 27],\n",
       "       [28,  0, 30, 31]])"
      ]
     },
     "execution_count": 22,
     "metadata": {},
     "output_type": "execute_result"
    }
   ],
   "source": [
    "\n",
    "arr[[1, 5, 7, 2], [0, 3, 1, 2]] = 0                # arr(1,0)  =  arr(5,3)  =  arr(7,1)  =  arr(2,2)  =  0\n",
    "\n",
    "arr\n"
   ]
  },
  {
   "cell_type": "markdown",
   "id": "669cd10a-2b5e-46d6-9430-6780f687f55b",
   "metadata": {
    "jp-MarkdownHeadingCollapsed": true
   },
   "source": [
    "<br>\n",
    "\n",
    "### <div style=\"color: white; background-color: #af87ff; padding: 5px;\"> <code style=\"font-size: 1.2rem; background-color: #af87ff; color: white;\"><strong>Boolean Indexing</strong></code> </div>\n"
   ]
  },
  {
   "cell_type": "markdown",
   "id": "6d6468b2-6dbd-4cf6-a183-18755d7084dd",
   "metadata": {},
   "source": [
    "Numpy allows you &nbsp;<span style=\"color: blue; background-color: white;\">to use an array of boolean values as an index of another array</span>. &nbsp;<u>Each element of the boolean array indicates whether or not to select the elements from the array</u>.\n",
    "\n",
    "If the value is &nbsp;<code style=\"color: red;\">True</code> , the element of that index is selected. In case the value is <code style=\"color: red;\">False</code>, the element of that index is not selected.\n",
    "\n",
    "<span style=\"font-size: 1.5rem;\">⭐&nbsp;</span> <span style=\"color: red;\">boolean indexing</span> &nbsp;&nbsp;&nbsp;====>&nbsp;&nbsp;&nbsp;  indexing using boolean arrays &nbsp;&nbsp;&nbsp;====>&nbsp;&nbsp;&nbsp; <code style=\"background-color: #f9dc10; padding:1px;\"> array[booleanarray] </code>\n"
   ]
  },
  {
   "cell_type": "code",
   "execution_count": 23,
   "id": "742be5e6-cf03-4e05-9fab-08dc2b90ff82",
   "metadata": {},
   "outputs": [
    {
     "name": "stdout",
     "output_type": "stream",
     "text": [
      "[1 2]\n"
     ]
    }
   ],
   "source": [
    "\n",
    "a = np.array([1, 2, 3])\n",
    "b = np.array([True, True, False])\n",
    "c = a[b]\n",
    "print(c)\n"
   ]
  },
  {
   "cell_type": "markdown",
   "id": "df1bf73a-fd8b-4eb6-b933-ffa9b5b341bc",
   "metadata": {},
   "source": [
    "<br>\n",
    "\n",
    "<span style=\"color:  #a245ff;\">How does it work ?</span>\n",
    "\n",
    "<div style=\"margin-left: 80px;\">\n",
    "\n",
    "![](../media/numpy_12.PNG)\n",
    "\n",
    "</div>"
   ]
  },
  {
   "cell_type": "markdown",
   "id": "229a3d66-ad33-4b03-bb1b-bd69be48c8fa",
   "metadata": {},
   "source": [
    "\n",
    "<span style=\"font-size: 1.5rem;\">⭐&nbsp;</span>Typically, you’ll use boolean indexing to filter an array. &nbsp;<span style=\"color:  #a245ff;\">For example :</span>\n"
   ]
  },
  {
   "cell_type": "code",
   "execution_count": 29,
   "id": "fdbc332a-41a0-4dd5-bdf4-21a39f3777fd",
   "metadata": {},
   "outputs": [
    {
     "name": "stdout",
     "output_type": "stream",
     "text": [
      "[False False False False False  True  True  True  True]\n",
      "[6 7 8 9]\n"
     ]
    }
   ],
   "source": [
    "\n",
    "a = np.arange(1, 10)\n",
    "b = a > 5                       # [1  2  3  4  5  6  7  8  9] > 5     ------>     [(1>5)  (2>5)  (3>5)  (4>5)  (5>5)  (6>5)  (7>5)  (8>5)  (9>5)]\n",
    "print(b)\n",
    "\n",
    "c = a[b]\n",
    "print(c)                        # The array \"c\" contains only numbers from array \"a\", which are greater than \"5\"\n"
   ]
  },
  {
   "cell_type": "markdown",
   "id": "3306e835-33fb-4df0-8a61-90766b7c7995",
   "metadata": {},
   "source": [
    "<br>\n",
    "\n",
    "<code style=\"background-color: black; color: white;\">Example - 1</code>"
   ]
  },
  {
   "cell_type": "code",
   "execution_count": 94,
   "id": "bab6cd10-8b01-4571-9d59-ddc9fe7c88a3",
   "metadata": {},
   "outputs": [
    {
     "name": "stdout",
     "output_type": "stream",
     "text": [
      "['Bob' 'Joe' 'Will' 'Bob' 'Will' 'Joe' 'Joe']\n",
      "[[  4   7]\n",
      " [  0   2]\n",
      " [ -5   6]\n",
      " [  0   0]\n",
      " [  1   2]\n",
      " [-12  -4]\n",
      " [  3   4]]\n"
     ]
    }
   ],
   "source": [
    "\n",
    "names = np.array([\"Bob\", \"Joe\", \"Will\", \"Bob\", \"Will\", \"Joe\", \"Joe\"])\n",
    "data = np.array([[4, 7], [0, 2], [-5, 6], [0, 0], [1, 2], [-12, -4], [3, 4]])\n",
    "\n",
    "print(names)\n",
    "print(data)\n"
   ]
  },
  {
   "cell_type": "markdown",
   "id": "49a097b2-c3b4-452e-9e21-e2cbba1a0837",
   "metadata": {},
   "source": [
    "\n",
    "<span style=\"color:  #a245ff;\">Suppose each name corresponds to a row in the data array.</span> \n",
    "\n",
    "<span style=\"color:  #a245ff;\">Like <strong>arithmetic operations on numpy arrays</strong> (<span style=\"color: black;\"><u>which we will see later on</span></u>), comparisons (such as &nbsp;<code style=\"background-color: #edd4ff;\">==</code>&nbsp;) with arrays are also vectorized. &nbsp;Thus, comparing names with the string \"Bob\" yields a <span style=\"color: #0bcd0b;\">Boolean array</span> :</span>\n"
   ]
  },
  {
   "cell_type": "code",
   "execution_count": 95,
   "id": "9faf94cc-3d26-42a0-914b-38f7affbfcf1",
   "metadata": {},
   "outputs": [
    {
     "data": {
      "text/plain": [
       "array([ True, False, False,  True, False, False, False])"
      ]
     },
     "execution_count": 95,
     "metadata": {},
     "output_type": "execute_result"
    }
   ],
   "source": [
    "\n",
    "names == \"Bob\"                     # comparing two numpy arrays\n"
   ]
  },
  {
   "cell_type": "code",
   "execution_count": 96,
   "id": "7806403f-3db7-4d03-800a-aac5496fc36d",
   "metadata": {},
   "outputs": [
    {
     "data": {
      "text/plain": [
       "array([[4, 7],\n",
       "       [0, 0]])"
      ]
     },
     "execution_count": 96,
     "metadata": {},
     "output_type": "execute_result"
    }
   ],
   "source": [
    "\n",
    "data[names == \"Bob\"]               # selects only the rows in data where names is \"Bob\"\n"
   ]
  },
  {
   "cell_type": "markdown",
   "id": "367f323e-e8f4-49ee-be4f-cef16f0f2476",
   "metadata": {},
   "source": [
    "<br>\n",
    "\n",
    "<div style=\"display: flex;\">\n",
    "<div><span style=\"font-size: 1.5rem;\">⭐&nbsp;&nbsp;</span></div>\n",
    "<div><u>The Boolean array must be of the same length as the array axis it’s indexing</u>. You can even mix and match Boolean arrays with slices or integers (or sequences of integers; more on this later).</div>\n",
    "</div>\n"
   ]
  },
  {
   "cell_type": "code",
   "execution_count": 97,
   "id": "97de664e-07cc-493d-b243-097f7a2848e0",
   "metadata": {},
   "outputs": [
    {
     "data": {
      "text/plain": [
       "array([[7],\n",
       "       [0]])"
      ]
     },
     "execution_count": 97,
     "metadata": {},
     "output_type": "execute_result"
    }
   ],
   "source": [
    "\n",
    "data[names == \"Bob\", 1:]           # selects all columns starting from index 1 onward in the filtered rows from the above result\n",
    "                                   # slice columns from index 1 to index -1 (last column) in the above filtered rows\n"
   ]
  },
  {
   "cell_type": "code",
   "execution_count": 98,
   "id": "651eca98-9a14-414e-8c84-431e29f06c6b",
   "metadata": {},
   "outputs": [
    {
     "data": {
      "text/plain": [
       "array([7, 0])"
      ]
     },
     "execution_count": 98,
     "metadata": {},
     "output_type": "execute_result"
    }
   ],
   "source": [
    "\n",
    "data[names == \"Bob\", 1]            # selects only the column at index 1 instead of slicing from 1 onward\n",
    "                                   # returns a 1D array instead of a 2D array\n"
   ]
  },
  {
   "cell_type": "markdown",
   "id": "45635842-a6ea-460f-9715-fda2dd9bfbef",
   "metadata": {},
   "source": [
    "<br>\n",
    "\n",
    "<span style=\"color:  #a245ff;\">To select everything but \"Bob\" you can either use &nbsp;<code style=\"background-color: #edd4ff;\"> != </code>&nbsp; or negate the condition using &nbsp;<code style=\"background-color: #edd4ff;\"> ~ </code>&nbsp; :</span>\n"
   ]
  },
  {
   "cell_type": "code",
   "execution_count": 99,
   "id": "77fbf475-94d3-44b4-b00e-76fcfcbe6cc7",
   "metadata": {},
   "outputs": [
    {
     "data": {
      "text/plain": [
       "array([False,  True,  True, False,  True,  True,  True])"
      ]
     },
     "execution_count": 99,
     "metadata": {},
     "output_type": "execute_result"
    }
   ],
   "source": [
    "\n",
    "names != \"Bob\"\n"
   ]
  },
  {
   "cell_type": "code",
   "execution_count": 100,
   "id": "dbfa51be-8fd6-401c-a7d5-f8fb7d3050ab",
   "metadata": {},
   "outputs": [
    {
     "data": {
      "text/plain": [
       "array([False,  True,  True, False,  True,  True,  True])"
      ]
     },
     "execution_count": 100,
     "metadata": {},
     "output_type": "execute_result"
    }
   ],
   "source": [
    "\n",
    "~(names == \"Bob\")\n"
   ]
  },
  {
   "cell_type": "code",
   "execution_count": 101,
   "id": "1bc4c84a-8155-47a8-8d9a-3e59730f290b",
   "metadata": {},
   "outputs": [
    {
     "data": {
      "text/plain": [
       "array([[  0,   2],\n",
       "       [ -5,   6],\n",
       "       [  1,   2],\n",
       "       [-12,  -4],\n",
       "       [  3,   4]])"
      ]
     },
     "execution_count": 101,
     "metadata": {},
     "output_type": "execute_result"
    }
   ],
   "source": [
    "\n",
    "data[~(names == \"Bob\")]\n"
   ]
  },
  {
   "cell_type": "markdown",
   "id": "6c87f62c-90c4-425c-bb6f-924a3b66dcc8",
   "metadata": {},
   "source": [
    "\n",
    "<span style=\"font-size: 1.5rem;\">⭐&nbsp;&nbsp;</span>The &nbsp;<code style=\"background-color: #edd4ff;\"> ~ </code>&nbsp; operator can be useful when you want <span style=\"color: blue;\">to invert a Boolean array referenced by a variable</span> :</span>\n"
   ]
  },
  {
   "cell_type": "code",
   "execution_count": 116,
   "id": "34b87937-6ed1-437c-bc35-0212bde52e56",
   "metadata": {},
   "outputs": [
    {
     "data": {
      "text/plain": [
       "array([[0, 2],\n",
       "       [7, 7],\n",
       "       [7, 7],\n",
       "       [0, 0],\n",
       "       [3, 4]])"
      ]
     },
     "execution_count": 116,
     "metadata": {},
     "output_type": "execute_result"
    }
   ],
   "source": [
    "\n",
    "cond = names == \"Bob\"\n",
    "\n",
    "data[~cond]\n"
   ]
  },
  {
   "cell_type": "markdown",
   "id": "b679dc14-cde5-4480-ad86-45b2cea6f492",
   "metadata": {},
   "source": [
    "\n",
    "<br>\n",
    "\n",
    "<div style=\"display: flex;\">\n",
    "<div><span style=\"font-size: 1.5rem;\">⭐&nbsp;&nbsp;</span></div>\n",
    "<div>\n",
    "The Python keywords and and or do not work with Boolean arrays. &nbsp;Use &nbsp;<code style=\"background-color: #edd4ff;\"> & </code>&nbsp; (and) and &nbsp;Use &nbsp;<code style=\"background-color: #edd4ff;\"> | </code>&nbsp; (or) instead.  <br>\n",
    "To select two of the three names to combine multiple Boolean conditions, use <strong>Boolean arithmetic operators</strong> like &nbsp;<code style=\"background-color: #edd4ff;\"> & </code>&nbsp; (and) and &nbsp;<code style=\"background-color: #edd4ff;\"> | </code>&nbsp; (or) &nbsp;:&nbsp;<span style=\"color: black;\"><font size=\"+1\">↴</font>&nbsp;</span>\n",
    "</div>\n",
    "</div>\n"
   ]
  },
  {
   "cell_type": "code",
   "execution_count": 117,
   "id": "d02d9627-6a7b-4d9f-9488-7f209d30fc9b",
   "metadata": {},
   "outputs": [
    {
     "data": {
      "text/plain": [
       "array([ True, False,  True,  True,  True, False, False])"
      ]
     },
     "execution_count": 117,
     "metadata": {},
     "output_type": "execute_result"
    }
   ],
   "source": [
    "\n",
    "mask = (names == \"Bob\") | (names == \"Will\")\n",
    "\n",
    "mask\n"
   ]
  },
  {
   "cell_type": "code",
   "execution_count": 118,
   "id": "42150e31-a1cd-4b02-9ab3-75867f00d777",
   "metadata": {},
   "outputs": [
    {
     "data": {
      "text/plain": [
       "array([[7, 7],\n",
       "       [7, 7],\n",
       "       [7, 7],\n",
       "       [7, 7]])"
      ]
     },
     "execution_count": 118,
     "metadata": {},
     "output_type": "execute_result"
    }
   ],
   "source": [
    "\n",
    "data[mask]\n"
   ]
  },
  {
   "cell_type": "markdown",
   "id": "d952e2d6-d4dd-4304-8dad-20182ed02d09",
   "metadata": {},
   "source": [
    "<br>\n",
    "\n",
    "<span style=\"color: #a245ff;\">To set all of the negative values in data to 0, we only need to do :</span>"
   ]
  },
  {
   "cell_type": "code",
   "execution_count": 119,
   "id": "100b1b99-1d03-4727-9df9-61b9b01dadac",
   "metadata": {},
   "outputs": [
    {
     "data": {
      "text/plain": [
       "array([[7, 7],\n",
       "       [0, 2],\n",
       "       [7, 7],\n",
       "       [7, 7],\n",
       "       [7, 7],\n",
       "       [0, 0],\n",
       "       [3, 4]])"
      ]
     },
     "execution_count": 119,
     "metadata": {},
     "output_type": "execute_result"
    }
   ],
   "source": [
    "\n",
    "data\n"
   ]
  },
  {
   "cell_type": "code",
   "execution_count": 120,
   "id": "214fad8b-2693-47e1-98a8-b141a024bede",
   "metadata": {},
   "outputs": [
    {
     "data": {
      "text/plain": [
       "array([[False, False],\n",
       "       [False, False],\n",
       "       [False, False],\n",
       "       [False, False],\n",
       "       [False, False],\n",
       "       [False, False],\n",
       "       [False, False]])"
      ]
     },
     "execution_count": 120,
     "metadata": {},
     "output_type": "execute_result"
    }
   ],
   "source": [
    "\n",
    "data < 0\n"
   ]
  },
  {
   "cell_type": "code",
   "execution_count": 121,
   "id": "f4279a15-3f16-447f-9340-72017fde61cf",
   "metadata": {},
   "outputs": [
    {
     "data": {
      "text/plain": [
       "array([[7, 7],\n",
       "       [0, 2],\n",
       "       [7, 7],\n",
       "       [7, 7],\n",
       "       [7, 7],\n",
       "       [0, 0],\n",
       "       [3, 4]])"
      ]
     },
     "execution_count": 121,
     "metadata": {},
     "output_type": "execute_result"
    }
   ],
   "source": [
    "\n",
    "data[data < 0] = 0\n",
    "\n",
    "data\n"
   ]
  },
  {
   "cell_type": "markdown",
   "id": "c2805524-f7ad-467f-b9b0-fccfd6149641",
   "metadata": {},
   "source": [
    "<br>\n",
    "\n",
    "<span style=\"color: #a245ff;\">You can also set whole rows or columns using a one-dimensional Boolean array</span>\n",
    "                               "
   ]
  },
  {
   "cell_type": "code",
   "execution_count": 122,
   "id": "1ddaf945-6768-4c45-9c2a-580d5d872e32",
   "metadata": {},
   "outputs": [
    {
     "data": {
      "text/plain": [
       "array([ True, False,  True,  True,  True, False, False])"
      ]
     },
     "execution_count": 122,
     "metadata": {},
     "output_type": "execute_result"
    }
   ],
   "source": [
    "\n",
    "names != \"Joe\"\n"
   ]
  },
  {
   "cell_type": "code",
   "execution_count": 123,
   "id": "e4bd35e0-647a-44c8-891b-2add3ccd2aa2",
   "metadata": {},
   "outputs": [
    {
     "data": {
      "text/plain": [
       "array([[7, 7],\n",
       "       [7, 7],\n",
       "       [7, 7],\n",
       "       [7, 7]])"
      ]
     },
     "execution_count": 123,
     "metadata": {},
     "output_type": "execute_result"
    }
   ],
   "source": [
    "\n",
    "data[names != \"Joe\"]\n"
   ]
  },
  {
   "cell_type": "code",
   "execution_count": 124,
   "id": "e9f9e2c8-15e4-426c-b2c7-379fd5d904d7",
   "metadata": {},
   "outputs": [
    {
     "data": {
      "text/plain": [
       "array([[7, 7],\n",
       "       [0, 2],\n",
       "       [7, 7],\n",
       "       [7, 7],\n",
       "       [7, 7],\n",
       "       [0, 0],\n",
       "       [3, 4]])"
      ]
     },
     "execution_count": 124,
     "metadata": {},
     "output_type": "execute_result"
    }
   ],
   "source": [
    "\n",
    "data[names != \"Joe\"] = 7           # set whole rows or columns using a one-dimensional Boolean array\n",
    "\n",
    "data\n",
    "                                   "
   ]
  },
  {
   "cell_type": "markdown",
   "id": "8f07eb2b-00a4-4492-b426-6d447d7b632c",
   "metadata": {},
   "source": [
    "<br>\n",
    "\n",
    "<span style=\"font-size: 1.5rem;\">⭐&nbsp;&nbsp;</span><span style=\"color: blue;\">As we will see later, these types of operations on two-dimensional data are convenient to do with <span style=\"color: red;\">pandas</span></span>\n"
   ]
  },
  {
   "cell_type": "markdown",
   "id": "a40cd99d-53aa-48b7-bfeb-540a8f5098d4",
   "metadata": {
    "jp-MarkdownHeadingCollapsed": true
   },
   "source": [
    "<br>\n",
    "\n",
    "### <div style=\"color: white; background-color: #af87ff; padding: 10px;\"> <code style=\"font-size: 1.2rem; background-color: #af87ff; color: white;\"><strong>View &nbsp;vs&nbsp; Copy</strong></code> <br><br><div style=\"color: black; background-color: white; padding-top: 7px; padding-bottom: 8px;\"><code style=\"background-color: white;\">numpy.copy()</code></div></div>\n"
   ]
  },
  {
   "cell_type": "markdown",
   "id": "90a188f1-02a1-45f0-9b8d-d0615641c396",
   "metadata": {},
   "source": [
    "<code style=\"background-color: yellow; padding: 6px;\">numpy.<span style=\"color: red;\">copy(<span style=\"color: black;\">arr</span>, <span style=\"color: black;\">order</span><span style=\"color: #9b96a1;\">='K'</span>)</code> &nbsp;&nbsp;===>&nbsp;&nbsp; creates a new array that is a copy of the source array, ensuring no shared memory between the original and the copied array.\n",
    "\n",
    "<span style=\"margin-left: 217px;\"> &nbsp;&nbsp;===>&nbsp;&nbsp; <code style=\"background-color: #c2ffc4;\">order</code> : &nbsp;Memory layout of the copy ( <code>'C'</code> for row-major , <code>'F'</code> for column-major , <code>'K'</code> for matching the layout of a ).</span>\n",
    "\n",
    "<br>\n",
    "\n",
    "When you **slice** an array, you get a subarray. &nbsp;The subarray is a **view** of the original array. &nbsp;In other words, if you change elements in the subarray, the change will be reflected in the original array. &nbsp;<span style=\"color: #a245ff;\">For example :</span>\n"
   ]
  },
  {
   "cell_type": "code",
   "execution_count": 135,
   "id": "0c7abee8-e7fa-4089-9260-410231f7f7c4",
   "metadata": {},
   "outputs": [
    {
     "name": "stdout",
     "output_type": "stream",
     "text": [
      "[[1 2]\n",
      " [4 5]]\n"
     ]
    }
   ],
   "source": [
    "\n",
    "a = np.array(\n",
    "    [[1, 2, 3],\n",
    "     [4, 5, 6]]\n",
    ")\n",
    "\n",
    " b = a[0:, 0:2]                   # slice rows from index 0 onward and then slice columns from index 0 to index 2 (excluding the index 2)\n",
    "\n",
    "print(b)\n"
   ]
  },
  {
   "cell_type": "code",
   "execution_count": 141,
   "id": "fcf857d0-7f68-4d3c-aaec-952615fb5f8d",
   "metadata": {},
   "outputs": [],
   "source": [
    "\n",
    " b[0, 0] = 0                     # change the element at index [0,0] in the subarray \"b\" to zero\n"
   ]
  },
  {
   "cell_type": "code",
   "execution_count": 137,
   "id": "c908d99b-ce00-4d1d-9f41-6bd14b2f3d93",
   "metadata": {},
   "outputs": [
    {
     "name": "stdout",
     "output_type": "stream",
     "text": [
      "[[0 2]\n",
      " [4 5]]\n"
     ]
    }
   ],
   "source": [
    "\n",
    "print(b)\n"
   ]
  },
  {
   "cell_type": "markdown",
   "id": "2f1bd5b3-2d32-46b7-91d9-13712d4d88c3",
   "metadata": {},
   "source": [
    "<br>\n",
    "\n",
    "<code style=\"color: #a245ff; background-color: white;\">Let's now check if the change in the array \"b\" is reflected in the array \"a\" or not :</span>\n"
   ]
  },
  {
   "cell_type": "code",
   "execution_count": 139,
   "id": "6c80f212-e926-41d4-91c0-465ad50bf301",
   "metadata": {},
   "outputs": [
    {
     "name": "stdout",
     "output_type": "stream",
     "text": [
      "[[0 2 3]\n",
      " [4 5 6]]\n"
     ]
    }
   ],
   "source": [
    "\n",
    "print(a)                         # Since \"b\" is a view of array \"a\", the change is also reflected in array \"a\"\n"
   ]
  },
  {
   "cell_type": "markdown",
   "id": "cfb4f32d-ae2a-49fa-9eb6-dc981aaca42d",
   "metadata": {},
   "source": [
    "<br>\n",
    "\n",
    "<span style=\"color: #a245ff; background-color: white;\">As &nbsp;you &nbsp;can &nbsp;see, &nbsp;<strong>yes &nbsp;it's &nbsp;reflected</strong>.</span>\n",
    "\n",
    "<span style=\"color:  #a245ff;\">How does it work ?</span>\n",
    "\n",
    "<div style=\"margin-left: 80px;\">\n",
    "\n",
    "![](../media/numpy_13.PNG)\n",
    "\n",
    "</div>\n",
    "\n",
    "<span style=\"font-size: 1.5rem;\">⭐&nbsp;&nbsp;</span>The reason numpy <strong>creates a view</strong> <u>instead of a new array</u> is that it doesn’t have to copy data therefore <strong>improving performance</strong>.\n",
    "\n",
    "<span style=\"font-size: 1.5rem;\">⭐&nbsp;&nbsp;</span>However, if you want a copy of an array rather than a view, you can use &nbsp;<code style=\"background-color: #f9dc10; color: red; padding:1px;\"> copy() </code>&nbsp; method. &nbsp;<span style=\"color: #a245ff;\">For example :</span>"
   ]
  },
  {
   "cell_type": "code",
   "execution_count": 152,
   "id": "da8b3bee-37b9-49fb-97a0-06b90ae1b1a3",
   "metadata": {},
   "outputs": [
    {
     "name": "stdout",
     "output_type": "stream",
     "text": [
      "[[1 2]\n",
      " [4 5]]\n"
     ]
    }
   ],
   "source": [
    "\n",
    "a = np.array([\n",
    "    [1, 2, 3],\n",
    "    [4, 5, 6]\n",
    "])\n",
    "\n",
    "b = a[0:, 0:2].copy()               # make a copy\n",
    "print(b)\n"
   ]
  },
  {
   "cell_type": "code",
   "execution_count": 153,
   "id": "7dd4d42c-6001-45d6-b8cb-9014d866fb26",
   "metadata": {},
   "outputs": [
    {
     "name": "stdout",
     "output_type": "stream",
     "text": [
      "[[0 2]\n",
      " [4 5]]\n"
     ]
    }
   ],
   "source": [
    "\n",
    "b[0, 0] = 0                         # the element at (0,0) in the array \"b\" is changed to 0\n",
    "print(b)\n"
   ]
  },
  {
   "cell_type": "code",
   "execution_count": 154,
   "id": "5134c1e9-380a-478d-8632-f3d7c29ccb3b",
   "metadata": {},
   "outputs": [
    {
     "name": "stdout",
     "output_type": "stream",
     "text": [
      "[[1 2 3]\n",
      " [4 5 6]]\n"
     ]
    }
   ],
   "source": [
    "\n",
    "print(a)                            # the change is not reflected in the array \"a\" \n"
   ]
  },
  {
   "cell_type": "markdown",
   "id": "20e827dc-1919-4e0d-b815-387b56471261",
   "metadata": {},
   "source": [
    "<br>\n",
    "\n",
    "<code style=\"color: #a245ff; background-color: white;\">As you can see - because both arrays are independent, the change doesn't affect array \"a\"</code>\n",
    "\n",
    "<br>\n",
    "\n",
    "<span style=\"color: #06fff0; font-size: 0.7rem;\">■■■■■■■■■■■■■■■■■■■■■■■■■■■■■■■■■■■■■■■■■■■■■■■■■■■■■■■■■■■■■■■■■■■■■■■■■■■■■■■■■■■■■■■■■■■■■■■■■■■■■■■■■■■■■■■</span>\n",
    "\n",
    "<br>\n",
    "\n",
    "<span style=\"font-size: 1rem;\">Differences between &nbsp;<code style=\"background-color: yellow;\">numpy.<span style=\"color: red;\">copy()</span></code>&nbsp; and &nbsp;<code style=\"background-color: yellow;\">numpy.<span style=\"color: red;\">copyto()</span></code></span>\n",
    "\n",
    "<br>\n",
    "\n",
    "<div style=\"margin-left: 80px;\">\n",
    "\n",
    "![](../media/numpy_36.PNG)\n",
    "\n",
    "</div>"
   ]
  },
  {
   "cell_type": "code",
   "execution_count": 100,
   "id": "23d7a04e-a2f7-46a3-9170-ca64b6e7f1c1",
   "metadata": {},
   "outputs": [
    {
     "name": "stdout",
     "output_type": "stream",
     "text": [
      "Original array: [1 2 3]\n",
      "Copied array: [99  2  3]\n"
     ]
    }
   ],
   "source": [
    "\n",
    "a = np.array([1, 2, 3])\n",
    "b = np.copy(a)\n",
    "b[0] = 99                                      # Modify 'b'', does not affect 'a'\n",
    "\n",
    "print(\"Original array:\", a)                    # OUTPUT :  [1   2  3]\n",
    "print(\"Copied array:\", b)                      # OUTPUT :  [99  2  3]\n"
   ]
  },
  {
   "cell_type": "code",
   "execution_count": 101,
   "id": "acadbb4e-8100-4cb7-a186-92d2b80218eb",
   "metadata": {},
   "outputs": [
    {
     "name": "stdout",
     "output_type": "stream",
     "text": [
      "Destination array after copy: [1 2 3]\n"
     ]
    }
   ],
   "source": [
    "\n",
    "a = np.array([1, 2, 3])\n",
    "b = np.array([0, 0, 0])\n",
    "\n",
    "np.copyto(b, a)                                # Copies elements of 'a' into 'b''\n",
    "print(\"Destination array after copy:\", b)      # OUTPUT :  [1 2 3]\n"
   ]
  },
  {
   "cell_type": "markdown",
   "id": "4713aed2-3673-456c-b1ae-e045306d0108",
   "metadata": {},
   "source": [
    "\n",
    "- Use &nbsp;<code style=\"background-color: yellow;\">numpy.<span style=\"color: red;\">copy()</span></code>&nbsp; when you need a separate copy of an array.\n",
    "  \n",
    "- Use &nbsp;<code style=\"background-color: yellow;\">numpy.<span style=\"color: red;\">copyto()</span></code>&nbsp; when you want to copy data into an existing array that already has allocated memory."
   ]
  },
  {
   "cell_type": "markdown",
   "id": "a062ff68-2c53-4c69-a1a5-9d5fcfc9898e",
   "metadata": {
    "jp-MarkdownHeadingCollapsed": true
   },
   "source": [
    "<br>\n",
    "\n",
    "### <div style=\"color: white; background-color: #af87ff; padding: 5px;\"> <code style=\"font-size: 1.2rem; background-color: #af87ff; color: white;\"><strong>Iteration over an Array</strong></code> </div>\n"
   ]
  },
  {
   "cell_type": "code",
   "execution_count": 3,
   "id": "5499f6d1-5d48-4b04-b2c2-902d2b4becc6",
   "metadata": {},
   "outputs": [
    {
     "name": "stdout",
     "output_type": "stream",
     "text": [
      "10\n",
      "20\n",
      "30\n",
      "40\n"
     ]
    }
   ],
   "source": [
    "\n",
    "# Iterating Over 1D Array\n",
    "\n",
    "arr = np.array([10, 20, 30, 40])\n",
    "\n",
    "for element in arr:\n",
    "    print(element)\n"
   ]
  },
  {
   "cell_type": "code",
   "execution_count": 4,
   "id": "6d2fdf5e-db9f-4364-ba45-9b4f85d73153",
   "metadata": {},
   "outputs": [
    {
     "name": "stdout",
     "output_type": "stream",
     "text": [
      "[1 2 3]\n",
      "[4 5 6]\n"
     ]
    }
   ],
   "source": [
    "\n",
    "# Iterating Over 2D Array\n",
    "\n",
    "arr_2d = np.array([[1, 2, 3], [4, 5, 6]])\n",
    "\n",
    "for row in arr_2d:\n",
    "    print(row)\n"
   ]
  },
  {
   "cell_type": "markdown",
   "id": "8f7a4e5f-366c-463a-9d22-db7350b873b0",
   "metadata": {},
   "source": [
    "<br>\n",
    "\n",
    "<span style=\"color: #06fff0; font-size: 0.7rem;\">■■■■■■■■■■■■■■■■■■■■■■■■■■■■■■■■■■■■■■■■■■■■■■■■■■■■■■■■■■■■■■■■■■■■■■■■■■■■■■■■■■■■■■■■■■■■■■■■■■■■■■■■■■■■■■■</span>\n"
   ]
  },
  {
   "cell_type": "markdown",
   "id": "aa809b12-189c-4d46-8ac9-af730e44a213",
   "metadata": {},
   "source": [
    "<br>\n",
    "\n",
    "<span style=\"font-size: 1.5rem;\">⭐&nbsp;&nbsp;</span><span style=\"color: black;\">To iterate over each element, you can use the &nbsp;<code style=\"background-color: yellow; padding:1px;\"> numpy.<span style=\"color: red;\">flat()</span> </code>&nbsp; attribute or nested loops.</span>\n"
   ]
  },
  {
   "cell_type": "code",
   "execution_count": 6,
   "id": "3756dd36-d8f1-4d24-9990-943f92f13ef5",
   "metadata": {},
   "outputs": [
    {
     "name": "stdout",
     "output_type": "stream",
     "text": [
      "1\n",
      "2\n",
      "3\n",
      "4\n",
      "5\n",
      "6\n"
     ]
    }
   ],
   "source": [
    "\n",
    "for element in arr_2d.flat:\n",
    "    print(element)\n"
   ]
  },
  {
   "cell_type": "markdown",
   "id": "d4ef6a0b-88d4-419a-9b98-d32d2fdd9556",
   "metadata": {},
   "source": [
    "<br>\n",
    "\n",
    "<span style=\"color: #06fff0; font-size: 0.7rem;\">■■■■■■■■■■■■■■■■■■■■■■■■■■■■■■■■■■■■■■■■■■■■■■■■■■■■■■■■■■■■■■■■■■■■■■■■■■■■■■■■■■■■■■■■■■■■■■■■■■■■■■■■■■■■■■■</span>\n"
   ]
  },
  {
   "cell_type": "markdown",
   "id": "b6967549-ef0a-451c-9b12-fb4f7695ff88",
   "metadata": {},
   "source": [
    "<br>\n",
    "\n",
    "<span style=\"font-size: 1.5rem;\">⭐&nbsp;&nbsp;</span><span style=\"color: black;\"><code style=\"background-color: yellow; padding:1px;\"> numpy.<span style=\"color: red;\">nditer()</span> </code>&nbsp; is an efficient iterator that works with <strong>multi-dimensional arrays</strong> and can iterate over every element regardless of the array's shape.</span>\n"
   ]
  },
  {
   "cell_type": "code",
   "execution_count": 7,
   "id": "1f2cb662-a293-456a-8e6f-6f2552a14219",
   "metadata": {},
   "outputs": [
    {
     "name": "stdout",
     "output_type": "stream",
     "text": [
      "1\n",
      "2\n",
      "3\n",
      "4\n",
      "5\n",
      "6\n"
     ]
    }
   ],
   "source": [
    "\n",
    "for element in np.nditer(arr_2d):\n",
    "    print(element)\n"
   ]
  },
  {
   "cell_type": "markdown",
   "id": "2050be2f-3abf-4243-9cb5-d9292b5bb330",
   "metadata": {},
   "source": [
    "<br>\n",
    "\n",
    "<span style=\"color: #a245ff;\"><strong>Modifying</strong> elements with &nbsp;<code>numpy.<span style=\"color: red;\">nditer()</span></code></span>"
   ]
  },
  {
   "cell_type": "code",
   "execution_count": 16,
   "id": "16f25631-29ec-4eb6-b121-4b15bee65a54",
   "metadata": {},
   "outputs": [
    {
     "name": "stdout",
     "output_type": "stream",
     "text": [
      "[[ 2  4  6  8]\n",
      " [10 12 14 16]]\n"
     ]
    }
   ],
   "source": [
    "\n",
    "arr_1d = np.array([1, 2, 3, 4])\n",
    "for x in np.nditer(arr_1d, op_flags=['readwrite']):\n",
    "    x[...] = x * 2\n",
    "print(arr)                                                    # OUTPUT: [2 4 6 8]\n"
   ]
  },
  {
   "cell_type": "code",
   "execution_count": 17,
   "id": "bf564c0f-cbae-4b70-a6e6-2f8f5cd9340d",
   "metadata": {},
   "outputs": [
    {
     "name": "stdout",
     "output_type": "stream",
     "text": [
      "[[ 2  4  6  8]\n",
      " [10 12 14 16]]\n"
     ]
    }
   ],
   "source": [
    "\n",
    "arr_2d = np.array([[1, 2, 3, 4], [5, 6, 7, 8]])\n",
    "for x in np.nditer(arr_2d, op_flags=['readwrite']):\n",
    "    x[...] = x * 2\n",
    "print(arr)                                                    # OUTPUT: [[2 4 6 8], [10, 12 14 16]\n"
   ]
  },
  {
   "cell_type": "markdown",
   "id": "f89a2899-4fb3-4bca-bd5c-63f257d93808",
   "metadata": {
    "jp-MarkdownHeadingCollapsed": true
   },
   "source": [
    "<br><br>\n",
    "\n",
    "## Aggregate &nbsp;Functions"
   ]
  },
  {
   "cell_type": "markdown",
   "id": "a4f5ed98-b09a-430e-9ca6-fa2744afd476",
   "metadata": {},
   "source": [
    "<br>\n",
    "\n",
    "The <strong>aggregate functions</strong> are basically <span>universal functions (popularly known as <u>ufunc</u>) that performs element-wise operations on data in ndarrays and produce one or more scalar results.\n",
    "\n",
    "Many <u>ufuncs</u> are simple element-wise transformations, like &nbsp;<code style=\"background-color: yellow;\">numpy.<span style=\"color:red;\">sum()</span></code>&nbsp; and &nbsp;<code style=\"background-color: yellow;\">numpy.<span style=\"color:red;\">sqrt()</span></code>\n"
   ]
  },
  {
   "cell_type": "code",
   "execution_count": 56,
   "id": "8909e7f2-02e3-402a-acc0-c93400c2eede",
   "metadata": {},
   "outputs": [],
   "source": [
    "\n",
    "arr = np.arange(10)             # [0, 1, 2, 3, 4, 5, 6, 7, 8, 9]\n"
   ]
  },
  {
   "cell_type": "code",
   "execution_count": 58,
   "id": "8a36901a-16f4-442b-b704-c67d71bdb2ac",
   "metadata": {},
   "outputs": [
    {
     "data": {
      "text/plain": [
       "45"
      ]
     },
     "execution_count": 58,
     "metadata": {},
     "output_type": "execute_result"
    }
   ],
   "source": [
    "\n",
    "np.sum(arr)\n"
   ]
  },
  {
   "cell_type": "code",
   "execution_count": 59,
   "id": "f37d8793-f4d7-4316-af99-3ce5959f01a4",
   "metadata": {},
   "outputs": [
    {
     "data": {
      "text/plain": [
       "array([0.        , 1.        , 1.41421356, 1.73205081, 2.        ,\n",
       "       2.23606798, 2.44948974, 2.64575131, 2.82842712, 3.        ])"
      ]
     },
     "execution_count": 59,
     "metadata": {},
     "output_type": "execute_result"
    }
   ],
   "source": [
    "\n",
    "np.sqrt(arr)\n"
   ]
  },
  {
   "cell_type": "markdown",
   "id": "3e2ff62e-b05d-4f4f-87b7-10cb29124931",
   "metadata": {},
   "source": [
    "<br>\n",
    "\n",
    "<span style=\"color: #a245ff;\">These are referred to as <strong>unary ufuncs</strong>. &nbsp;Others, such as &nbsp;<code style=\"background-color: yellow;\">numpy.<span style=\"color: red;\">add()</span></code>&nbsp; or &nbsp;<code style=\"background-color: yellow;\">numpy.<span style=\"color: red;\">maximum()</span></code>&nbsp;, take two arrays (thus, <strong>binary ufuncs</strong>) and return a single array as the result :</span>\n"
   ]
  },
  {
   "cell_type": "code",
   "execution_count": 50,
   "id": "2affa7aa-737b-4301-bf11-172c23de587d",
   "metadata": {},
   "outputs": [],
   "source": [
    "\n",
    "x = np.array([2,  6,  10,  14,  18,  22,   26,   30])\n",
    "\n",
    "y = np.array([2,  4,   8,  16,  32,  64,  128,  512])\n"
   ]
  },
  {
   "cell_type": "code",
   "execution_count": 54,
   "id": "3c05dfa6-c7c2-4851-89d6-5b6aee14cb0f",
   "metadata": {},
   "outputs": [
    {
     "data": {
      "text/plain": [
       "array([  4,  10,  18,  30,  50,  86, 154, 542])"
      ]
     },
     "execution_count": 54,
     "metadata": {},
     "output_type": "execute_result"
    }
   ],
   "source": [
    "\n",
    "np.add(x, y)\n"
   ]
  },
  {
   "cell_type": "code",
   "execution_count": 52,
   "id": "41182f9d-0d95-4ad7-b445-8fdee88cfe9e",
   "metadata": {},
   "outputs": [
    {
     "data": {
      "text/plain": [
       "array([  2,   6,  10,  16,  32,  64, 128, 512])"
      ]
     },
     "execution_count": 52,
     "metadata": {},
     "output_type": "execute_result"
    }
   ],
   "source": [
    "\n",
    "np.maximum(x, y)\n"
   ]
  },
  {
   "cell_type": "markdown",
   "id": "df511e95-f023-4585-ba78-bf80bdb035c0",
   "metadata": {},
   "source": [
    "<br>\n",
    "\n",
    "<span style=\"color: #a245ff;\">Let's see some of these functions in details :</span>\n",
    "\n",
    "<br>"
   ]
  },
  {
   "cell_type": "markdown",
   "id": "829c8187-3ab5-4e04-a2b2-e74e26f96c6c",
   "metadata": {},
   "source": [
    "\n",
    "### <div style=\"color: white; background-color: #af87ff; padding: 5px;\"> <code style=\"font-size: 1.2rem; background-color: #af87ff; color: white;\"><strong>numpy.sum()</strong></code> </div>\n"
   ]
  },
  {
   "cell_type": "markdown",
   "id": "1d6cafb6-a48d-491f-92a8-9e3e190c53c0",
   "metadata": {},
   "source": [
    "<code style=\"background-color: yellow; padding: 6px;\">numpy.<span style=\"color: red;\">sum(<span style=\"color: black;\">arr</span>, <span style=\"color: black;\">axis</span><span style=\"color: #9b96a1;\">=None</span>, <span style=\"color: black;\">where</span><span style=\"color: #9b96a1;\">=\\<no value></span>)</code> &nbsp;&nbsp;&nbsp;&nbsp;====>&nbsp;&nbsp;&nbsp;&nbsp;takes an array and returns the sum of all elements of the array along a given axis.</span>\n",
    "\n",
    "<br>\n",
    "\n",
    "<code style=\"color: white; background-color: black;\">Example - 1</code> &nbsp;&nbsp;<span style=\"color: #2fbd0b;\">1D array</span>"
   ]
  },
  {
   "cell_type": "code",
   "execution_count": 62,
   "id": "7366f9e7-de71-470f-8d4f-a829a6de77b9",
   "metadata": {},
   "outputs": [
    {
     "name": "stdout",
     "output_type": "stream",
     "text": [
      "6\n"
     ]
    }
   ],
   "source": [
    "\n",
    "a = np.array([1, 2, 3])\n",
    "total = np.sum(a)                      # axis = None   ----->    sum of all the elements in the array\n",
    "print(total)\n"
   ]
  },
  {
   "cell_type": "markdown",
   "id": "3b22eb5a-a6ec-4876-89e3-72cb450b0aaf",
   "metadata": {},
   "source": [
    "<br>\n",
    "\n",
    "Use the axis argument to specify the axis that you want to sum up.\n",
    "\n",
    "<code style=\"color: white; background-color: black;\">Example - 2</code> &nbsp;&nbsp;<span style=\"color: #2fbd0b;\">2D array</span>\n",
    "\n",
    "<u><span style=\"color: #a245ff;\">Case-1 :</span></u> &nbsp;&nbsp;<span style=\"color: red;\">axis = None</span> &nbsp;<span style=\"color: blue;\">(default)</span>"
   ]
  },
  {
   "cell_type": "code",
   "execution_count": 65,
   "id": "65eede50-5cc1-4685-a788-1c4d1d52e5dc",
   "metadata": {},
   "outputs": [
    {
     "name": "stdout",
     "output_type": "stream",
     "text": [
      "21\n"
     ]
    }
   ],
   "source": [
    "\n",
    "a = np.array([\n",
    "    [1, 2, 3],\n",
    "    [4, 5, 6]\n",
    "])\n",
    "\n",
    "total = np.sum(a, axis=None)           # sum of all the elements in the array\n",
    "print(total)\n"
   ]
  },
  {
   "cell_type": "markdown",
   "id": "d9cb7ed1-1a1a-4c10-a074-cb66a86afa2c",
   "metadata": {},
   "source": [
    "\n",
    "<u><span style=\"color: #a245ff;\">Case-2 :</span></u> &nbsp;&nbsp;<span style=\"color: red;\">axis = 0</span>"
   ]
  },
  {
   "cell_type": "code",
   "execution_count": 3,
   "id": "756f6635-1047-4163-9dbb-5ce6d53f1395",
   "metadata": {},
   "outputs": [
    {
     "name": "stdout",
     "output_type": "stream",
     "text": [
      "[5 7 9]\n"
     ]
    }
   ],
   "source": [
    "\n",
    "a = np.array([\n",
    "    [1, 2, 3],\n",
    "    [4, 5, 6]\n",
    "])\n",
    "\n",
    "total = np.sum(a, axis=0)              # sum of all elemnts for each column\n",
    "print(total)\n"
   ]
  },
  {
   "cell_type": "markdown",
   "id": "b5770503-ebc9-4746-b150-75c33bfcb299",
   "metadata": {},
   "source": [
    "<div style=\"margin-left: 90px;\">\n",
    "\n",
    "![](../media/numpy_14.PNG)\n",
    "\n",
    "</div>"
   ]
  },
  {
   "cell_type": "markdown",
   "id": "df1a0d50-7257-410f-885c-79d1e105c7f6",
   "metadata": {},
   "source": [
    "\n",
    "<u><span style=\"color: #a245ff;\">Case-3 :</span></u> &nbsp;&nbsp;<span style=\"color: red;\">axis = 1</span>"
   ]
  },
  {
   "cell_type": "code",
   "execution_count": 21,
   "id": "0ab9bdbf-87b0-4f8f-81d3-0ab2cb56395d",
   "metadata": {},
   "outputs": [
    {
     "name": "stdout",
     "output_type": "stream",
     "text": [
      "[ 6 15]\n"
     ]
    }
   ],
   "source": [
    "\n",
    "a = np.array([\n",
    "    [1, 2, 3],\n",
    "    [4, 5, 6]\n",
    "])\n",
    "\n",
    "total = np.sum(a, axis=1)              # sum of all elemnts for each row\n",
    "print(total)\n"
   ]
  },
  {
   "cell_type": "markdown",
   "id": "994931dc-b061-4953-83f9-93e60f76f324",
   "metadata": {},
   "source": [
    "<div style=\"margin-left: 80px;\">\n",
    "\n",
    "![](../media/numpy_15.PNG)\n",
    "\n",
    "</div>\n",
    "\n",
    "<u><span style=\"color: #a245ff;\">Case-4 :</span></u> &nbsp;&nbsp;<span style=\"color: red;\">axis = (0, 1)</span> &nbsp;<span style=\"color: blue;\">(sum of array along multiple axes)</span>"
   ]
  },
  {
   "cell_type": "code",
   "execution_count": 48,
   "id": "96cf5906-5cfb-403f-b0b1-b630c3f1e354",
   "metadata": {},
   "outputs": [
    {
     "name": "stdout",
     "output_type": "stream",
     "text": [
      "21\n"
     ]
    }
   ],
   "source": [
    "\n",
    "a = np.array([\n",
    "    [1, 2, 3],\n",
    "    [4, 5, 6]\n",
    "])\n",
    "\n",
    "total = np.sum(a, axis=(0,1))              # sum of all elemnts of array along first and second axes\n",
    "print(total)\n"
   ]
  },
  {
   "cell_type": "markdown",
   "id": "b7bda3dd-4315-4ea1-8a45-402682dab331",
   "metadata": {},
   "source": [
    "<div style=\"margin-left: 90px;\">\n",
    "\n",
    "![](../media/numpy_16.PNG)\n",
    "\n",
    "</div>\n",
    "\n",
    "<span style=\"font-size: 1.5rem;\">⭐&nbsp;&nbsp;</span>Note that while finding the sum along given axis, it <strong>does not matter</strong> whether the axis passed in the parameter is <span style=\"color: red;\">(0, 1)</span> or <span style=\"color: red;\">(1, 0)</span>"
   ]
  },
  {
   "cell_type": "code",
   "execution_count": 85,
   "id": "9e983631-015a-49c5-be9a-5054f5fed8cb",
   "metadata": {},
   "outputs": [
    {
     "name": "stdout",
     "output_type": "stream",
     "text": [
      "21\n"
     ]
    }
   ],
   "source": [
    "\n",
    "a = np.array([\n",
    "    [1, 2, 3],\n",
    "    [4, 5, 6]\n",
    "])\n",
    "\n",
    "total = np.sum(a, axis=(1,0))                  # sum of all the elemnts of array along first and second axes\n",
    "print(total)\n"
   ]
  },
  {
   "cell_type": "markdown",
   "id": "7aa15e91-f939-416c-9c44-f51b3d976e99",
   "metadata": {},
   "source": [
    "<br>\n",
    "\n",
    "<code style=\"color: white; background-color: black;\">Example - 3</code> &nbsp;&nbsp;<span style=\"color: #2fbd0b;\">3D array</span>\n",
    "\n",
    "<u><span style=\"color: #a245ff;\">Case-1 :</span></u> &nbsp;&nbsp;<span style=\"color: red;\">axis = None</span> &nbsp;<span style=\"color: blue;\">(default)</span>"
   ]
  },
  {
   "cell_type": "code",
   "execution_count": 71,
   "id": "b508d598-8a6f-40dc-bf5c-2fc5c9e423cd",
   "metadata": {},
   "outputs": [
    {
     "name": "stdout",
     "output_type": "stream",
     "text": [
      "78\n"
     ]
    }
   ],
   "source": [
    "\n",
    "array = np.array([[[1, 2, 3], \n",
    "                   [4, 5, 6]], \n",
    "                  [[7, 8, 9], \n",
    "                   [10, 11, 12]]])\n",
    "\n",
    "\n",
    "total = np.sum(array, axis=None)               # finds the sum of all the elements of the array\n",
    "\n",
    "print(total)\n"
   ]
  },
  {
   "cell_type": "markdown",
   "id": "45667ed4-20c2-4505-b67f-3e05ed423396",
   "metadata": {},
   "source": [
    "\n",
    "<u><span style=\"color: #a245ff;\">Case-2 :</span></u> &nbsp;&nbsp;<span style=\"color: red;\">axis = 0</span>"
   ]
  },
  {
   "cell_type": "code",
   "execution_count": 60,
   "id": "caeed7a5-ac25-458f-9e93-714d3409c132",
   "metadata": {},
   "outputs": [
    {
     "name": "stdout",
     "output_type": "stream",
     "text": [
      "[[ 8 10 12]\n",
      " [14 16 18]]\n"
     ]
    }
   ],
   "source": [
    " \n",
    "array = np.array([[[1, 2, 3], \n",
    "                   [4, 5, 6]], \n",
    "                  [[7, 8, 9], \n",
    "                   [10, 11, 12]]])\n",
    "\n",
    "total = np.sum(array, axis=0)                  # finds the total value of the array along the axis = 0\n",
    "\n",
    "# Print the minimum value.\n",
    "print(total)\n"
   ]
  },
  {
   "cell_type": "markdown",
   "id": "deb1e5fd-e567-40e9-88a9-196369c0282b",
   "metadata": {},
   "source": [
    "<div style=\"margin-left: 90px;\">\n",
    "\n",
    "![](../media/numpy_17.PNG)\n",
    "\n",
    "</div>"
   ]
  },
  {
   "cell_type": "markdown",
   "id": "c2c2d69d-cd2d-48d4-9519-66ecdb7c2f42",
   "metadata": {},
   "source": [
    "\n",
    "<u><span style=\"color: #a245ff;\">Case-3 :</span></u> &nbsp;&nbsp;<span style=\"color: red;\">axis = 1</span>"
   ]
  },
  {
   "cell_type": "code",
   "execution_count": 43,
   "id": "0a2a455a-facf-41e0-9f81-3bb81c9039ea",
   "metadata": {},
   "outputs": [
    {
     "name": "stdout",
     "output_type": "stream",
     "text": [
      "[[ 5  7  9]\n",
      " [17 19 21]]\n"
     ]
    }
   ],
   "source": [
    "\n",
    "array = np.array([[[1, 2, 3], \n",
    "                   [4, 5, 6]], \n",
    "                  [[7, 8, 9], \n",
    "                   [10, 11, 12]]])\n",
    "\n",
    "total = np.sum(array, axis=1)                  # finds the total value of the array along the axis = 1\n",
    "\n",
    "print(total)\n"
   ]
  },
  {
   "cell_type": "markdown",
   "id": "7146c5d6-576d-4b47-8fc5-5ad530865ecf",
   "metadata": {},
   "source": [
    "<div style=\"margin-left: 90px;\">\n",
    "\n",
    "![](../media/numpy_18.PNG)\n",
    "\n",
    "</div>"
   ]
  },
  {
   "cell_type": "markdown",
   "id": "3b6cff99-85a1-4ae9-9440-311db0bf8dd5",
   "metadata": {},
   "source": [
    "\n",
    "<u><span style=\"color: #a245ff;\">Case-4 :</span></u> &nbsp;&nbsp;<span style=\"color: red;\">axis = 2</span>"
   ]
  },
  {
   "cell_type": "code",
   "execution_count": 87,
   "id": "30cca47f-37b5-4ea8-baff-4c0415989ff6",
   "metadata": {},
   "outputs": [
    {
     "name": "stdout",
     "output_type": "stream",
     "text": [
      "[[ 6 15]\n",
      " [24 33]]\n"
     ]
    }
   ],
   "source": [
    "\n",
    "array = np.array([[[1, 2, 3], \n",
    "                   [4, 5, 6]], \n",
    "                  [[7, 8, 9], \n",
    "                   [10, 11, 12]]])\n",
    "\n",
    "total = np.sum(array, axis=2)                  # finds the total value of the array along the axis = 2\n",
    "\n",
    "# Print the minimum value.\n",
    "print(total)\n"
   ]
  },
  {
   "cell_type": "markdown",
   "id": "2200153f-a5ee-490f-85fd-6378d98eb898",
   "metadata": {},
   "source": [
    "<div style=\"margin-left: 90px;\">\n",
    "\n",
    "![](../media/numpy_19.PNG)\n",
    "\n",
    "</div>"
   ]
  },
  {
   "cell_type": "markdown",
   "id": "69edd0c5-04af-40d2-a9e5-1f27b87fbcc3",
   "metadata": {},
   "source": [
    "\n",
    "<u><span style=\"color: #a245ff;\">Case-5A :</span></u> &nbsp;&nbsp;<span style=\"color: red;\">axis = (0, 1)</span>"
   ]
  },
  {
   "cell_type": "code",
   "execution_count": 55,
   "id": "4e5c1744-f1b3-493c-9a3c-846b13dcc222",
   "metadata": {},
   "outputs": [
    {
     "name": "stdout",
     "output_type": "stream",
     "text": [
      "[22 26 30]\n"
     ]
    }
   ],
   "source": [
    "\n",
    "array = np.array([[[1, 2, 3], \n",
    "                   [4, 5, 6]], \n",
    "                  [[7, 8, 9], \n",
    "                   [10, 11, 12]]])\n",
    "\n",
    "total = np.sum(array, axis=(0,1))              # finds the minimum value of the array along the first and second axes\n",
    "\n",
    "print(total)\n"
   ]
  },
  {
   "cell_type": "markdown",
   "id": "5b732c6a-447a-4a66-97d2-9b83316a34b8",
   "metadata": {},
   "source": [
    "<div style=\"margin-left: 90px;\">\n",
    "\n",
    "![](../media/numpy_20A.PNG)\n",
    "\n",
    "</div>"
   ]
  },
  {
   "cell_type": "markdown",
   "id": "23b6b4e8-c190-4c1d-9ef1-fa90c66a8dac",
   "metadata": {},
   "source": [
    "\n",
    "<u><span style=\"color: #a245ff;\">Case-5B :</span></u> &nbsp;&nbsp;<span style=\"color: red;\">axis = (1, 0)</span>"
   ]
  },
  {
   "cell_type": "code",
   "execution_count": 75,
   "id": "3d61c04d-b3bf-4449-b857-4dc6f03cdca1",
   "metadata": {},
   "outputs": [
    {
     "name": "stdout",
     "output_type": "stream",
     "text": [
      "[22 26 30]\n"
     ]
    }
   ],
   "source": [
    "\n",
    "array = np.array([[[1, 2, 3], \n",
    "                   [4, 5, 6]], \n",
    "                  [[7, 8, 9], \n",
    "                   [10, 11, 12]]])\n",
    "\n",
    "total = np.sum(array, axis=(1,0))              # finds the minimum value of the array along the first and second axes\n",
    "\n",
    "print(total)\n"
   ]
  },
  {
   "cell_type": "markdown",
   "id": "5bbbf0cd-90ec-455c-8e5c-98b27b0d9330",
   "metadata": {},
   "source": [
    "<div style=\"margin-left: 85px;\">\n",
    "\n",
    "![](../media/numpy_20B.PNG)\n",
    "\n",
    "</div>"
   ]
  },
  {
   "cell_type": "markdown",
   "id": "a25bf14c-c056-46ad-8bb2-4d96268f5b81",
   "metadata": {},
   "source": [
    "\n",
    "<u><span style=\"color: #a245ff;\">Case-6 :</span></u> &nbsp;&nbsp;<span style=\"color: red;\">axis = (0, 2)</span>"
   ]
  },
  {
   "cell_type": "code",
   "execution_count": 72,
   "id": "c83fcd90-304e-44b1-912e-6a71889627a0",
   "metadata": {},
   "outputs": [
    {
     "name": "stdout",
     "output_type": "stream",
     "text": [
      "[30 48]\n"
     ]
    }
   ],
   "source": [
    "\n",
    "array = np.array([[[1, 2, 3], \n",
    "                   [4, 5, 6]], \n",
    "                  [[7, 8, 9], \n",
    "                   [10, 11, 12]]])\n",
    "\n",
    "total = np.sum(array, axis=(0, 2))             # finds the minimum value of the array along the first and third axes\n",
    "\n",
    "print(total)\n"
   ]
  },
  {
   "cell_type": "markdown",
   "id": "5820973a-9f03-4464-8822-f10a7e5a3491",
   "metadata": {},
   "source": [
    "<div style=\"margin-left: 85px;\">\n",
    "\n",
    "![](../media/numpy_21.PNG)\n",
    "\n",
    "</div>"
   ]
  },
  {
   "cell_type": "markdown",
   "id": "ddd16151-6e1e-47d0-b8ce-40a6a27b1f94",
   "metadata": {},
   "source": [
    "\n",
    "<u><span style=\"color: #a245ff;\">Case-7 :</span></u> &nbsp;&nbsp;<span style=\"color: red;\">axis = (1, 2)</span>"
   ]
  },
  {
   "cell_type": "code",
   "execution_count": 57,
   "id": "1172d9ad-b986-4e08-aa07-0cb43f0e9c8e",
   "metadata": {},
   "outputs": [
    {
     "name": "stdout",
     "output_type": "stream",
     "text": [
      "[21 57]\n"
     ]
    }
   ],
   "source": [
    "\n",
    "array = np.array([[[1, 2, 3], \n",
    "                   [4, 5, 6]], \n",
    "                  [[7, 8, 9], \n",
    "                   [10, 11, 12]]])\n",
    "\n",
    "total = np.sum(array, axis=(1, 2))             # finds the minimum value of the array along the second and third axes\n",
    "\n",
    "print(total)\n"
   ]
  },
  {
   "cell_type": "markdown",
   "id": "ea687edc-bf30-4f83-a7ba-8271ee03f0b5",
   "metadata": {},
   "source": [
    "<div style=\"margin-left: 90px;\">\n",
    "\n",
    "![](../media/numpy_22.PNG)\n",
    "\n",
    "</div>"
   ]
  },
  {
   "cell_type": "markdown",
   "id": "bbd1df70-f69a-4248-811d-0f9b638d6e40",
   "metadata": {},
   "source": [
    "<br>\n",
    "\n",
    "<code style=\"color: white; background-color: black;\">Example - 4</code> &nbsp;&nbsp;<span style=\"color: #2fbd0b;\">Selecting numbers to include in the sum</span>\n",
    "\n",
    "To select specific number to include in the sum, you use the <span style=\"color: red;\">where</span> argument."
   ]
  },
  {
   "cell_type": "code",
   "execution_count": 82,
   "id": "33b311d7-93e7-46ba-989a-5264b543559d",
   "metadata": {},
   "outputs": [
    {
     "name": "stdout",
     "output_type": "stream",
     "text": [
      "7.0\n"
     ]
    }
   ],
   "source": [
    "\n",
    "# 1D array\n",
    "\n",
    "a = np.array([np.nan, 3, 4])                          # \"NaN\" stands for \"Not a Number\" and is used to represent undefined or missing values in datasets\n",
    "total = np.sum(a, where=[False, True, True])          # \"NaN\" = 0 while calculating SUM\n",
    "print(total)\n"
   ]
  },
  {
   "cell_type": "code",
   "execution_count": 84,
   "id": "9a4ab404-f5ed-4bc5-86a7-6e0348cb1810",
   "metadata": {},
   "outputs": [
    {
     "name": "stdout",
     "output_type": "stream",
     "text": [
      "[3. 6.]\n"
     ]
    }
   ],
   "source": [
    "\n",
    "# 2D array\n",
    "\n",
    "a = np.array([\n",
    "    [np.nan, 2],\n",
    "    [3, 4]\n",
    "])\n",
    "total = np.sum(a, axis=0, where=[[False, True], [True, True]])           # \"NaN\" = 0 while calculating SUM\n",
    "print(total)\n"
   ]
  },
  {
   "cell_type": "markdown",
   "id": "2e3279b6-96f3-41cb-acd2-3588c9982b8e",
   "metadata": {},
   "source": [
    "<br>\n",
    "\n",
    "<span style=\"font-size: 1.5rem;\">⭐</span> &nbsp;<strong>NaN</strong> stands for <strong>Not a Number</strong> and is used <span style=\"color: red;\">to represent undefined or missing values in datasets.</span> &nbsp;It is a special floating-point value defined by the IEEE 754 standard.\n",
    "\n",
    "<span style=\"font-size: 1.5rem;\">⭐</span> &nbsp;<strong>NaN</strong> = 0 &nbsp;while calculating SUM.\n",
    "\n",
    "<div style=\"display: flex;\">\n",
    "<div><span style=\"font-size: 1.5rem;\">⭐&nbsp;&nbsp;</span></div>\n",
    "<div>The where argument uses a boolean list to specify which element in the array a should be included in the sum. <br>If the value of the &nbsp;<code style=\"background-color: #e8daef;\">where</code>&nbsp; list is &nbsp;<code style=\"background-color: #e8daef;\">True</code>, the corresponding element of the input array will be included in the sum.</div>\n",
    "</div>\n",
    "\n",
    "<span style=\"font-size: 1.5rem;\">⭐</span> &nbsp;The <code style=\"background-color: yellow;\">sum()</code> function returns 0 if the array is empty. &nbsp;<span style=\"color: #a245ff;\">For example :</span>"
   ]
  },
  {
   "cell_type": "code",
   "execution_count": 89,
   "id": "e622f1c2-6f30-4ca3-9c9b-2c5eb5e329d9",
   "metadata": {},
   "outputs": [
    {
     "name": "stdout",
     "output_type": "stream",
     "text": [
      "result=0.0\n"
     ]
    }
   ],
   "source": [
    "\n",
    "result = np.sum(np.array([]))\n",
    "\n",
    "print(f'result={result}')\n"
   ]
  },
  {
   "cell_type": "markdown",
   "id": "4fe7626f-f92a-4b9d-9e11-c54e527c4964",
   "metadata": {
    "jp-MarkdownHeadingCollapsed": true
   },
   "source": [
    "<br>\n",
    "\n",
    "### <div style=\"color: white; background-color: #af87ff; padding: 5px;\"> <code style=\"font-size: 1.2rem; background-color: #af87ff; color: white;\"><strong>numpy.cumsum()</strong></code> </div>\n"
   ]
  },
  {
   "cell_type": "markdown",
   "id": "b31da164-a924-4e0f-8905-0806b51231e7",
   "metadata": {},
   "source": [
    "<code style=\"background-color: yellow; padding: 6px;\">numpy.<span style=\"color: red;\">cumsum(<span style=\"color: black;\">arr</span>, <span style=\"color: black;\">axis</span><span style=\"color: #9b96a1;\">=None</span>, <span style=\"color: black;\">where</span><span style=\"color: #9b96a1;\">=\\<no value></span>)</code> &nbsp;&nbsp;&nbsp;&nbsp;====>&nbsp;&nbsp;&nbsp;&nbsp;takes an array and returns the cumulative sum of the elements along a given axis. (<u>None</u>, be default)</span>\n",
    "\n",
    "<br>\n",
    "\n",
    "<code style=\"color: white; background-color: black;\">Example - 1</code> &nbsp;&nbsp;<span style=\"color: #2fbd0b;\">1D array</span>"
   ]
  },
  {
   "cell_type": "code",
   "execution_count": 28,
   "id": "d04b2e70-38ac-4e12-b469-8edcdb56139f",
   "metadata": {},
   "outputs": [
    {
     "name": "stdout",
     "output_type": "stream",
     "text": [
      "[1 3 6]\n"
     ]
    }
   ],
   "source": [
    "\n",
    "a = np.array([1, 2, 3])\n",
    "cumulative_total = np.cumsum(a)                        # cumulative of all the elements in the array\n",
    "print(cumulative_total)\n"
   ]
  },
  {
   "cell_type": "markdown",
   "id": "e93c938d-578d-4e85-bed7-51441d1abf93",
   "metadata": {},
   "source": [
    "<br>\n",
    "\n",
    "<code style=\"color: white; background-color: black;\">Example - 2</code> &nbsp;&nbsp;<span style=\"color: #2fbd0b;\">2D array</span>\n",
    "\n",
    "<u><span style=\"color: #a245ff;\">Case-1 :</span></u> &nbsp;&nbsp;<span style=\"color: red;\">axis = None</span> &nbsp;<span style=\"color: blue;\">(default)</span>"
   ]
  },
  {
   "cell_type": "code",
   "execution_count": 30,
   "id": "beda629f-84d7-4c98-bdff-67a7fa88263a",
   "metadata": {},
   "outputs": [
    {
     "name": "stdout",
     "output_type": "stream",
     "text": [
      "[ 1  3  6 10 15 21]\n"
     ]
    }
   ],
   "source": [
    "\n",
    "a = np.array([\n",
    "    [1, 2, 3],\n",
    "    [4, 5, 6]\n",
    "])\n",
    "cumulative_total = np.cumsum(a, axis=None)\n",
    "print(cumulative_total)\n"
   ]
  },
  {
   "cell_type": "markdown",
   "id": "42513d27-64bc-4bd3-aae1-47ef9224755f",
   "metadata": {},
   "source": [
    "<u><span style=\"color: #a245ff;\">Case-2 :</span></u> &nbsp;&nbsp;<span style=\"color: red;\">axis = 0</span>"
   ]
  },
  {
   "cell_type": "code",
   "execution_count": 35,
   "id": "f35bd86f-e975-43bb-b8df-211920dcf7e2",
   "metadata": {},
   "outputs": [
    {
     "name": "stdout",
     "output_type": "stream",
     "text": [
      "[[1 2 3]\n",
      " [5 7 9]]\n"
     ]
    }
   ],
   "source": [
    "\n",
    "a = np.array([\n",
    "    [1, 2, 3],\n",
    "    [4, 5, 6]\n",
    "])\n",
    "cumulative_total = np.cumsum(a, axis=0)\n",
    "print(cumulative_total)\n"
   ]
  },
  {
   "cell_type": "markdown",
   "id": "41415af7-70f9-44a2-bd7e-ea38fcf401c3",
   "metadata": {},
   "source": [
    "<u><span style=\"color: #a245ff;\">Case-3 :</span></u> &nbsp;&nbsp;<span style=\"color: red;\">axis = 1</span>"
   ]
  },
  {
   "cell_type": "code",
   "execution_count": 36,
   "id": "0b0b852f-f9e8-44e8-8480-6826b7dfb344",
   "metadata": {},
   "outputs": [
    {
     "name": "stdout",
     "output_type": "stream",
     "text": [
      "[[ 1  3  6]\n",
      " [ 4  9 15]]\n"
     ]
    }
   ],
   "source": [
    "\n",
    "a = np.array([\n",
    "    [1, 2, 3],\n",
    "    [4, 5, 6]\n",
    "])\n",
    "cumulative_total = np.cumsum(a, axis=1)\n",
    "print(cumulative_total)\n"
   ]
  },
  {
   "cell_type": "markdown",
   "id": "881edb09-676b-435b-ba6c-92aedb704d50",
   "metadata": {},
   "source": [
    "<br>\n",
    "\n",
    "Similarly there is &nbsp;<code style=\"color: white; background-color: #af87ff;\">numpy.cumprod()</code>&nbsp; method as well."
   ]
  },
  {
   "cell_type": "code",
   "execution_count": null,
   "id": "a7285b4c-c9d2-475a-8639-389fffa60a31",
   "metadata": {},
   "outputs": [],
   "source": []
  },
  {
   "cell_type": "markdown",
   "id": "443dbe4e-bbf7-49a1-92b9-44e4eb9edc1b",
   "metadata": {},
   "source": [
    "<br>\n",
    "\n",
    "### <div style=\"color: white; background-color: #af87ff; padding: 5px;\"> <code style=\"font-size: 1.2rem; background-color: #af87ff; color: white;\"><strong>numpy.mean()</strong></code> </div>\n"
   ]
  },
  {
   "cell_type": "markdown",
   "id": "b27247c9-c96e-4586-b349-a69ea4a77a96",
   "metadata": {},
   "source": [
    "<code style=\"background-color: yellow; padding: 6px;\">numpy.<span style=\"color: red;\">mean(<span style=\"color: black;\">arr</span>, <span style=\"color: black;\">axis</span><span style=\"color: #9b96a1;\">=None</span>, <span style=\"color: black;\">where</span><span style=\"color: #9b96a1;\">=\\<no value></span>)</code> &nbsp;&nbsp;&nbsp;&nbsp;====>&nbsp;&nbsp;&nbsp;&nbsp;takes an array and returns the average of all elements of the array.</span>\n",
    "\n",
    "<br>\n",
    "\n",
    "<code style=\"color: white; background-color: black;\">Example - 1</code> &nbsp;&nbsp;<span style=\"color: #2fbd0b;\">1D array</span>\n"
   ]
  },
  {
   "cell_type": "code",
   "execution_count": 8,
   "id": "bef58870-9b2d-4283-80b5-5f2df3a6d802",
   "metadata": {},
   "outputs": [
    {
     "name": "stdout",
     "output_type": "stream",
     "text": [
      "2.0\n"
     ]
    }
   ],
   "source": [
    "\n",
    "a = np.array([1, 2, 3])\n",
    "average = np.mean(a)\n",
    "print(average)\n"
   ]
  },
  {
   "cell_type": "markdown",
   "id": "553d6a8b-5e45-4f99-a526-0f48368e8d0f",
   "metadata": {},
   "source": [
    "<br>\n",
    "\n",
    "<code style=\"color: white; background-color: black;\">Example - 2</code> &nbsp;&nbsp;<span style=\"color: #2fbd0b;\">2D array</span>\n",
    "\n",
    "<u><span style=\"color: #a245ff;\">Case-1 :</span></u> &nbsp;&nbsp;<span style=\"color: red;\">axis = None</span> &nbsp;<span style=\"color: blue;\">(default)</span>"
   ]
  },
  {
   "cell_type": "code",
   "execution_count": 40,
   "id": "2bad24f9-eb6b-48d3-a2b1-59c90eeba8b6",
   "metadata": {},
   "outputs": [
    {
     "name": "stdout",
     "output_type": "stream",
     "text": [
      "3.5\n"
     ]
    }
   ],
   "source": [
    "\n",
    "a = np.array([\n",
    "    [1, 2, 3],\n",
    "    [4, 5, 6]\n",
    "])\n",
    "average = np.mean(a, axis=None)\n",
    "print(average)\n"
   ]
  },
  {
   "cell_type": "markdown",
   "id": "acbcd9d8-41b8-42ad-b06d-42865a8f6d6d",
   "metadata": {},
   "source": [
    "<u><span style=\"color: #a245ff;\">Case-2 :</span></u> &nbsp;&nbsp;<span style=\"color: red;\">axis = 0</span>"
   ]
  },
  {
   "cell_type": "code",
   "execution_count": 32,
   "id": "98460f22-629c-4dac-9803-042110647f36",
   "metadata": {},
   "outputs": [
    {
     "name": "stdout",
     "output_type": "stream",
     "text": [
      "[2.5 3.5 4.5]\n"
     ]
    }
   ],
   "source": [
    "\n",
    "a = np.array([\n",
    "    [1, 2, 3],\n",
    "    [4, 5, 6]\n",
    "])\n",
    "average = np.mean(a, axis=0)\n",
    "print(average)\n"
   ]
  },
  {
   "cell_type": "markdown",
   "id": "08d6a3c8-6050-4bd0-9643-e3d2ba5e6019",
   "metadata": {},
   "source": [
    "<div style=\"margin-left: 100px;\">\n",
    "\n",
    "![](../media/numpy_23.PNG)\n",
    "\n",
    "</div>\n",
    "\n",
    "<u><span style=\"color: #a245ff;\">Case-3 :</span></u> &nbsp;&nbsp;<span style=\"color: red;\">axis = 1</span>"
   ]
  },
  {
   "cell_type": "code",
   "execution_count": 16,
   "id": "ae9905cb-62ec-48cd-9b7a-1bca296cf68a",
   "metadata": {},
   "outputs": [
    {
     "name": "stdout",
     "output_type": "stream",
     "text": [
      "[2. 5.]\n"
     ]
    }
   ],
   "source": [
    "\n",
    "a = np.array([\n",
    "    [1, 2, 3],\n",
    "    [4, 5, 6]\n",
    "])\n",
    "average = np.mean(a, axis=1)\n",
    "print(average)\n"
   ]
  },
  {
   "cell_type": "markdown",
   "id": "bcd28bf2-1099-4c18-93a9-0def7dac332c",
   "metadata": {},
   "source": [
    "<div style=\"margin-left: 90px;\">\n",
    "\n",
    "![](../media/numpy_24.PNG)\n",
    "\n",
    "</div>\n",
    "<br>\n",
    "\n",
    "<span style=\"color: #06fff0; font-size: 0.7rem;\">■■■■■■■■■■■■■■■■■■■■■■■■■■■■■■■■■■■■■■■■■■■■■■■■■■■■■■■■■■■■■■■■■■■■■■■■■■■■■■■■■■■■■■■■■■■■■■■■■■■■■■■■■■■■■■■</span>\n",
    "\n",
    "<br>\n"
   ]
  },
  {
   "cell_type": "markdown",
   "id": "c13b4b50-58bd-45a8-9e00-6fbba0ba5385",
   "metadata": {},
   "source": [
    "\n",
    "<span style=\"color: white; font-size: 1rem; background-color: #af87ff; padding: 7px;\"> <strong>mean( )</strong></span>  &nbsp;&nbsp;&nbsp;&&nbsp;&nbsp;&nbsp;<span style=\"color: white; font-size: 1rem; background-color: #af87ff; padding: 7px;\"> <strong>nanmean( )</strong></span>\n",
    "\n",
    "<br>\n",
    "\n",
    "<code style=\"background-color: yellow;\">numpy.<span style=\"color: red;\">mean()</span></code>  &nbsp;========> &nbsp;does not ignore **NAN**\n",
    "\n",
    "<code style=\"background-color: yellow;\">numpy.<span style=\"color: red;\">nanmean()</span></code>  &nbsp;&nbsp;=====> &nbsp; ignores **Nan**"
   ]
  },
  {
   "cell_type": "code",
   "execution_count": 39,
   "id": "2bb73215-a179-4624-ae84-05cb0c7a013c",
   "metadata": {},
   "outputs": [
    {
     "data": {
      "text/plain": [
       "nan"
      ]
     },
     "execution_count": 39,
     "metadata": {},
     "output_type": "execute_result"
    }
   ],
   "source": [
    "\n",
    "arr = np.array([1, 2, np.nan, 4])         # array with a NaN value\n",
    "\n",
    "mean_value = np.mean(arr)                 # calculate the mean\n",
    "mean_value\n"
   ]
  },
  {
   "cell_type": "code",
   "execution_count": 40,
   "id": "a76a3b33-4445-4ca3-b203-e85a302dd678",
   "metadata": {},
   "outputs": [
    {
     "data": {
      "text/plain": [
       "2.3333333333333335"
      ]
     },
     "execution_count": 40,
     "metadata": {},
     "output_type": "execute_result"
    }
   ],
   "source": [
    "\n",
    "arr = np.array([1, 2, np.nan, 4])         # array with a NaN value\n",
    "\n",
    "nanmean_value = np.nanmean(arr)           # calculate the mean, ignoring NaN values\n",
    "nanmean_value\n"
   ]
  },
  {
   "cell_type": "markdown",
   "id": "b13c18d4-1dfd-47a1-8169-6e47a1d984c6",
   "metadata": {
    "jp-MarkdownHeadingCollapsed": true
   },
   "source": [
    "<br>\n",
    "\n",
    "### <div style=\"color: white; background-color: #af87ff; padding: 5px;\"> <code style=\"font-size: 1.2rem; background-color: #af87ff; color: white;\"><strong>numpy.var()</strong></code> </div>\n"
   ]
  },
  {
   "cell_type": "markdown",
   "id": "84f9cd2a-3c80-44be-a958-b2bfe417797b",
   "metadata": {},
   "source": [
    "<code style=\"background-color: yellow; padding: 6px;\">numpy.<span style=\"color: red;\">var(<span style=\"color: black;\">arr</span>, <span style=\"color: black;\">axis</span><span style=\"color: #9b96a1;\">=None</span>, <span style=\"color: black;\">where</span><span style=\"color: #9b96a1;\">=\\<no value></span>)</code> &nbsp;&nbsp;==>&nbsp;&nbsp;takes an array & returns the average of the squared difference of each number by the mean along a given axis.</span>\n",
    "\n",
    "<br>\n",
    "\n",
    "<code style=\"color: white; background-color: black;\">Example - 1</code>"
   ]
  },
  {
   "cell_type": "code",
   "execution_count": 17,
   "id": "01378968-154e-418f-9410-2b47c1912e8a",
   "metadata": {},
   "outputs": [
    {
     "name": "stdout",
     "output_type": "stream",
     "text": [
      "0.667\n"
     ]
    }
   ],
   "source": [
    "\n",
    "a = np.array([1, 2, 3])\n",
    "result = np.var(a)\n",
    "print(round(result,3))\n"
   ]
  },
  {
   "cell_type": "markdown",
   "id": "c5f5367d-7339-4912-90cd-f7bcbd603392",
   "metadata": {},
   "source": [
    "<br>\n",
    "\n",
    "<code style=\"color: white; background-color: black;\">Example - 2</code>\n",
    "\n",
    "<span style=\"color: #a245ff;\">Let's calculate the variance of daily stock returns to assess their volatility.</span>"
   ]
  },
  {
   "cell_type": "code",
   "execution_count": 46,
   "id": "1fe6c4bb-07db-428c-801d-dde2f6a76291",
   "metadata": {},
   "outputs": [
    {
     "data": {
      "text/plain": [
       "0.000664"
      ]
     },
     "execution_count": 46,
     "metadata": {},
     "output_type": "execute_result"
    }
   ],
   "source": [
    "\n",
    "stock_returns = np.array([0.02, -0.01, 0.03, 0.05, -0.02])           # daily stock returns as a NumPy array\n",
    "\n",
    "volatility = np.var(stock_returns)                                   # calculate the variance of the stock returns\n",
    "volatility\n"
   ]
  },
  {
   "cell_type": "markdown",
   "id": "77065648-0c53-47ff-a392-b5b270f84a22",
   "metadata": {
    "jp-MarkdownHeadingCollapsed": true
   },
   "source": [
    "<br>\n",
    "\n",
    "### <div style=\"color: white; background-color: #af87ff; padding: 5px;\"> <code style=\"font-size: 1.2rem; background-color: #af87ff; color: white;\"><strong>numpy.std()</strong></code> </div>\n"
   ]
  },
  {
   "cell_type": "markdown",
   "id": "dabdd438-4bd9-4368-a061-571b48428e9e",
   "metadata": {},
   "source": [
    "<code style=\"background-color: yellow; padding: 6px;\">numpy.<span style=\"color: red;\">std(<span style=\"color: black;\">arr</span>, <span style=\"color: black;\">axis</span><span style=\"color: #9b96a1;\">=None</span>, <span style=\"color: black;\">where</span><span style=\"color: #9b96a1;\">=\\<no value></span>)</code> &nbsp;&nbsp;&nbsp;&nbsp;====>&nbsp;&nbsp;&nbsp;&nbsp;average of the squared difference of each number by the mean</span>\n",
    "\n",
    "<span style=\"margin-left: 348px;\">&nbsp;&nbsp;&nbsp;&nbsp;====>&nbsp;&nbsp;&nbsp;&nbsp;It measures how spread out the elements of an array is.</span> <span style=\"margin-left: 427px;\">The more spread out elements is, the greater their standard deviation.</span>\n",
    "\n",
    "<br>\n"
   ]
  },
  {
   "cell_type": "code",
   "execution_count": 25,
   "id": "825e0946-9e3e-49e6-8f4a-d6dcf4488bd5",
   "metadata": {},
   "outputs": [
    {
     "name": "stdout",
     "output_type": "stream",
     "text": [
      "109.6\n"
     ]
    }
   ],
   "source": [
    "\n",
    "diameters = np.array([591, 239, 210, 207, 201, 182, 176, 176, 175, 170, 170, 169, 168, ])\n",
    "result = np.std(diameters)\n",
    "print(round(result, 1))\n"
   ]
  },
  {
   "cell_type": "markdown",
   "id": "901a1635-f78f-4502-b36b-33ed65d1c084",
   "metadata": {
    "jp-MarkdownHeadingCollapsed": true
   },
   "source": [
    "<br>\n",
    "\n",
    "### <div style=\"color: white; background-color: #af87ff; padding: 5px;\"> <code style=\"font-size: 1.2rem; background-color: #af87ff; color: white;\"><strong>numpy.prod()</strong></code> </div>\n"
   ]
  },
  {
   "cell_type": "markdown",
   "id": "4285d4c5-8344-4edd-9e6b-79e46fadb44b",
   "metadata": {},
   "source": [
    "\n",
    "<code style=\"background-color: yellow; padding: 6px;\">numpy.<span style=\"color: red;\">prod(<span style=\"color: black;\">arr</span>, <span style=\"color: black;\">axis</span><span style=\"color: #9b96a1;\">=None</span>, <span style=\"color: black;\">where</span><span style=\"color: #9b96a1;\">=\\<no value></span>)</code> &nbsp;&nbsp;&nbsp;&nbsp;====>&nbsp;&nbsp;&nbsp;&nbsp;takes an array and calculates the product of numbers in an array along a given axis.</span>\n",
    "\n",
    "<br>\n",
    "\n",
    "<code style=\"color: white; background-color: black;\">Example - 1</code> &nbsp;<span style=\"color: #2fbd0b;\">1D array</span>"
   ]
  },
  {
   "cell_type": "code",
   "execution_count": 46,
   "id": "e90b8502-f7e9-40ae-98b5-a1031ade20fd",
   "metadata": {},
   "outputs": [
    {
     "name": "stdout",
     "output_type": "stream",
     "text": [
      "[1 2 3 4]\n",
      "result=24\n"
     ]
    }
   ],
   "source": [
    "\n",
    "a = np.arange(1, 5)                        # [1   2   3   4]\n",
    "result = np.prod(a)                        # 1*2*3*4  =  24\n",
    "\n",
    "print(a)\n",
    "print(f'result={result}')\n"
   ]
  },
  {
   "cell_type": "markdown",
   "id": "4d0c265e-3c57-440e-a69c-1157bfd67068",
   "metadata": {},
   "source": [
    "<br>\n",
    "\n",
    "<code style=\"color: white; background-color: black;\">Example - 2</code> &nbsp;<span style=\"color: #2fbd0b;\">2D array</span>\n",
    "\n",
    "<u><span style=\"color: #a245ff;\">Case-1 :</span></u> &nbsp;&nbsp;<span style=\"color: red;\">axis = None</span> &nbsp;<span style=\"color: blue;\">(default)</span>"
   ]
  },
  {
   "cell_type": "code",
   "execution_count": 50,
   "id": "b8cdd797-625e-437d-9082-61bbc0625dfc",
   "metadata": {},
   "outputs": [
    {
     "name": "stdout",
     "output_type": "stream",
     "text": [
      "24\n"
     ]
    }
   ],
   "source": [
    "\n",
    "a = np.array([\n",
    "    [1, 2],\n",
    "    [3, 4]\n",
    "])\n",
    "result = np.product(a, axis=None)          # 1*2*3*4  =  24\n",
    "print(result)\n"
   ]
  },
  {
   "cell_type": "markdown",
   "id": "0a337d13-7146-41c6-9521-96e725f81e7e",
   "metadata": {},
   "source": [
    "<u><span style=\"color: #a245ff;\">Case-2 :</span></u> &nbsp;&nbsp;<span style=\"color: red;\">axis = 0</span>"
   ]
  },
  {
   "cell_type": "code",
   "execution_count": 51,
   "id": "ed2059c5-1092-46ef-9867-267d1e66a152",
   "metadata": {},
   "outputs": [
    {
     "name": "stdout",
     "output_type": "stream",
     "text": [
      "[3 8]\n"
     ]
    }
   ],
   "source": [
    "\n",
    "a = np.array([\n",
    "    [1, 2],\n",
    "    [3, 4]\n",
    "])\n",
    "result = np.product(a, axis=0)\n",
    "print(result)\n"
   ]
  },
  {
   "cell_type": "markdown",
   "id": "d23e8ee8-73fd-4dfa-a5e6-931f884511dc",
   "metadata": {},
   "source": [
    "<div style=\"margin-left: 90px;\">\n",
    "\n",
    "![](../media/numpy_25.PNG)\n",
    "\n",
    "</div>\n",
    "\n",
    "<u><span style=\"color: #a245ff;\">Case-3 :</span></u> &nbsp;&nbsp;<span style=\"color: red;\">axis = 1</span>"
   ]
  },
  {
   "cell_type": "code",
   "execution_count": 52,
   "id": "b25a12e0-a334-4950-9b2d-bb1a3ee51753",
   "metadata": {},
   "outputs": [
    {
     "name": "stdout",
     "output_type": "stream",
     "text": [
      "[ 2 12]\n"
     ]
    }
   ],
   "source": [
    "\n",
    "a = np.array([\n",
    "    [1, 2],\n",
    "    [3, 4]\n",
    "])\n",
    "result = np.product(a, axis=1)\n",
    "print(result)\n"
   ]
  },
  {
   "cell_type": "markdown",
   "id": "744fa798-cd5b-4986-814c-669473055e15",
   "metadata": {},
   "source": [
    "<div style=\"margin-left: 100px;\">\n",
    "\n",
    "![](../media/numpy_26.PNG)\n",
    "\n",
    "</div>\n",
    "\n",
    "<br>\n",
    "\n",
    "<code style=\"color: white; background-color: black;\">Example - 3</code> &nbsp;&nbsp;<span style=\"color: #2fbd0b;\">Selecting numbers to include in the product</span>\n",
    "\n",
    "To select specific number to include in the product, you use the where argument."
   ]
  },
  {
   "cell_type": "code",
   "execution_count": 90,
   "id": "625437eb-b3a7-4202-b171-42f5021a504d",
   "metadata": {},
   "outputs": [
    {
     "name": "stdout",
     "output_type": "stream",
     "text": [
      "12.0\n"
     ]
    }
   ],
   "source": [
    "\n",
    "# 1D array\n",
    "\n",
    "a = np.array([np.nan, 3, 4])                         # \"NaN\" stands for \"Not a Number\" and is used to represent undefined or missing values in datasets.\n",
    "result = np.prod(a, where=[False, True, True])       # \"NaN\" = 1 while calculating product\n",
    "print(result)\n"
   ]
  },
  {
   "cell_type": "code",
   "execution_count": 91,
   "id": "a93a577f-811a-447d-9059-ba5a93afcafc",
   "metadata": {},
   "outputs": [
    {
     "name": "stdout",
     "output_type": "stream",
     "text": [
      "[3. 8.]\n"
     ]
    }
   ],
   "source": [
    "\n",
    "# 2D array\n",
    "\n",
    "a = np.array([\n",
    "    [np.nan, 2],\n",
    "    [3, 4]\n",
    "])\n",
    "result = np.product(a, axis=0, where=[[False, True], [True, True]])\n",
    "print(result)\n"
   ]
  },
  {
   "cell_type": "markdown",
   "id": "d253c9ef-8da0-43cc-a0de-0a8688cc7683",
   "metadata": {},
   "source": [
    "<br>\n",
    "\n",
    "<span style=\"font-size: 1.5rem;\">⭐</span> &nbsp;<code style=\"background-color: #e8daef;\">NaN = 1</code> &nbsp;while calculating PRODUCT\n",
    "\n",
    "<br>"
   ]
  },
  {
   "cell_type": "markdown",
   "id": "cb511174-3b33-4f4d-b88f-aa5c80a6530c",
   "metadata": {},
   "source": [
    "<code style=\"color: white; background-color: black;\">Example - 4</code> &nbsp;&nbsp;<span style=\"color: #2fbd0b;\">Special Cases</span>"
   ]
  },
  {
   "cell_type": "code",
   "execution_count": 56,
   "id": "91a6b46b-8587-4699-a7ce-61b08102c5d1",
   "metadata": {},
   "outputs": [
    {
     "name": "stdout",
     "output_type": "stream",
     "text": [
      "result=0\n"
     ]
    }
   ],
   "source": [
    "\n",
    "result = np.prod(np.arange(1, 100))\n",
    "print(f'result={result}')\n"
   ]
  },
  {
   "cell_type": "markdown",
   "id": "e1c4c40f-26fc-4fc3-9fdb-7adb353e0fd8",
   "metadata": {},
   "source": [
    "\n",
    "<span style=\"font-size: 1.5rem;\">⭐</span> &nbsp;The <code style=\"background-color: yellow;\">prod()</code> function returns 1 if the array is empty. &nbsp;<span style=\"color: #a245ff;\">For example :</span>"
   ]
  },
  {
   "cell_type": "code",
   "execution_count": 86,
   "id": "c0630e10-0017-49c1-93a5-aacea9c9d775",
   "metadata": {},
   "outputs": [
    {
     "name": "stdout",
     "output_type": "stream",
     "text": [
      "result=1.0\n"
     ]
    }
   ],
   "source": [
    "\n",
    "result = np.prod(np.array([]))\n",
    "\n",
    "print(f'result={result}')\n"
   ]
  },
  {
   "cell_type": "code",
   "execution_count": 88,
   "id": "eb1016a5-ec37-4f80-89bf-c7e9fed27d5d",
   "metadata": {},
   "outputs": [
    {
     "name": "stdout",
     "output_type": "stream",
     "text": [
      "result=0.0\n"
     ]
    }
   ],
   "source": [
    "\n",
    "\n",
    "result = np.sum(np.array([]))\n",
    "\n",
    "print(f'result={result}')\n"
   ]
  },
  {
   "cell_type": "markdown",
   "id": "00e0d55a-734e-4c8a-8fb7-9cc2059bec31",
   "metadata": {
    "jp-MarkdownHeadingCollapsed": true
   },
   "source": [
    "<br>\n",
    "\n",
    "### <div style=\"color: white; background-color: #af87ff; padding: 5px;\"> <code style=\"font-size: 1.2rem; background-color: #af87ff; color: white;\"><strong>numpy.amin()</strong></code> </div>\n"
   ]
  },
  {
   "cell_type": "markdown",
   "id": "6fa8f025-066c-4137-a652-0be99ed5c298",
   "metadata": {},
   "source": [
    "<code style=\"background-color: yellow; padding: 6px;\">numpy.<span style=\"color: red;\">amin(<span style=\"color: black;\">arr</span>, <span style=\"color: black;\">axis</span><span style=\"color: #9b96a1;\">=None</span>, <span style=\"color: black;\">out</span><span style=\"color: #9b96a1;\">=None</span>, <span style=\"color: black;\">keepdims</span><span style=\"color: #9b96a1;\">=\\<no value></span>, <span style=\"color: black;\">initial</span><span style=\"color: #9b96a1;\">=\\<no value></span>, <span style=\"color: black;\">where</span><span style=\"color: #9b96a1;\">=\\<no value></span>)</code>\n",
    "\n",
    "========>&nbsp;&nbsp;&nbsp;&nbsp;returns the minimum element of an array or minimum element along an axis.</span>\n",
    "\n",
    "========>&nbsp;&nbsp;&nbsp;&nbsp;It is equivalent to &nbsp;<code style=\"background-color: #efd0ff; padding: 6px;\">ndarray.<span style=\"color: red;\">min(<span style=\"color: black;\">arr</span>, <span style=\"color: black;\">axis</span><span style=\"color: #9b96a1;\">=None</span>, <span style=\"color: black;\">out</span><span style=\"color: #9b96a1;\">=None</span>, <span style=\"color: black;\">keepdims</span><span style=\"color: #9b96a1;\">=\\<no value></span>, <span style=\"color: black;\">initial</span><span style=\"color: #9b96a1;\">=\\<no value></span>, <span style=\"color: black;\">where</span><span style=\"color: #9b96a1;\">=\\<no value></span>)</code> \n",
    "\n",
    "<br>\n",
    "\n",
    "<code style=\"color: white; background-color: black;\">Example - 1</code> &nbsp;<span style=\"color: #2fbd0b;\">1D array</span>"
   ]
  },
  {
   "cell_type": "code",
   "execution_count": 5,
   "id": "b3dc1262-a022-453d-9ddb-42d24dbf4740",
   "metadata": {},
   "outputs": [
    {
     "name": "stdout",
     "output_type": "stream",
     "text": [
      "1\n"
     ]
    }
   ],
   "source": [
    "\n",
    "a = np.array([1, 2, 3])\n",
    "min = np.amin(a)\n",
    "print(min)\n"
   ]
  },
  {
   "cell_type": "markdown",
   "id": "a057da5c-3717-4104-939d-30d09f9d8e90",
   "metadata": {},
   "source": [
    "<code style=\"color: white; background-color: black;\">Example - 2</code> &nbsp;<span style=\"color: #2fbd0b;\">2D array</span>\n",
    "\n",
    "<u><span style=\"color: #a245ff;\">Case-1 :</span></u> &nbsp;&nbsp;<span style=\"color: red;\">axis = None</span> &nbsp;<span style=\"color: blue;\">(default)</span>"
   ]
  },
  {
   "cell_type": "code",
   "execution_count": 7,
   "id": "a6c963a4-718b-4624-9077-fd465d8aa1ed",
   "metadata": {},
   "outputs": [
    {
     "name": "stdout",
     "output_type": "stream",
     "text": [
      "1\n"
     ]
    }
   ],
   "source": [
    "\n",
    "a = np.array([\n",
    "    [1, 2],\n",
    "    [3, 4]]\n",
    ")\n",
    "min = np.amin(a)\n",
    "print(min)\n"
   ]
  },
  {
   "cell_type": "markdown",
   "id": "940f5fcb-06c0-4b12-88d3-8b59ff0d5f9e",
   "metadata": {},
   "source": [
    "<u><span style=\"color: #a245ff;\">Case-2 :</span></u> &nbsp;&nbsp;<span style=\"color: red;\">axis = 0</span>"
   ]
  },
  {
   "cell_type": "code",
   "execution_count": 18,
   "id": "4ab9c295-b1b4-4af1-b41d-b6fb4f50a15a",
   "metadata": {},
   "outputs": [
    {
     "name": "stdout",
     "output_type": "stream",
     "text": [
      "[1 2]\n"
     ]
    }
   ],
   "source": [
    "\n",
    "a = np.array([\n",
    "    [1, 2],\n",
    "    [3, 4]]\n",
    ")\n",
    "min = np.amin(a, axis=0)\n",
    "print(min)\n"
   ]
  },
  {
   "cell_type": "markdown",
   "id": "bd5875c4-0b8d-4466-9b94-45d40f414bd0",
   "metadata": {},
   "source": [
    "<u><span style=\"color: #a245ff;\">Case-3 :</span></u> &nbsp;&nbsp;<span style=\"color: red;\">axis = 1</span>"
   ]
  },
  {
   "cell_type": "code",
   "execution_count": 19,
   "id": "1b43621a-3195-426c-9ce7-6be0c60b8374",
   "metadata": {},
   "outputs": [
    {
     "name": "stdout",
     "output_type": "stream",
     "text": [
      "[1 2]\n"
     ]
    }
   ],
   "source": [
    "\n",
    "a = np.array([\n",
    "    [1, 2],\n",
    "    [3, 4]]\n",
    ")\n",
    "min = np.amin(a, axis=0)\n",
    "print(min)\n"
   ]
  },
  {
   "cell_type": "markdown",
   "id": "ce74363c-f010-4412-ad99-9e2326a9cfc4",
   "metadata": {
    "jp-MarkdownHeadingCollapsed": true
   },
   "source": [
    "<br>\n",
    "\n",
    "### <div style=\"color: white; background-color: #af87ff; padding: 5px;\"> <code style=\"font-size: 1.2rem; background-color: #af87ff; color: white;\"><strong>numpy.amax()</strong></code> </div>\n"
   ]
  },
  {
   "cell_type": "markdown",
   "id": "f93fa9f0-deca-46ed-93c2-b0214bfdb5a0",
   "metadata": {},
   "source": [
    "<code style=\"background-color: yellow; padding: 6px;\">numpy.<span style=\"color: red;\">amax(<span style=\"color: black;\">arr</span>, <span style=\"color: black;\">axis</span><span style=\"color: #9b96a1;\">=None</span>, <span style=\"color: black;\">out</span><span style=\"color: #9b96a1;\">=None</span>, <span style=\"color: black;\">keepdims</span><span style=\"color: #9b96a1;\">=\\<no value></span>, <span style=\"color: black;\">initial</span><span style=\"color: #9b96a1;\">=\\<no value></span>, <span style=\"color: black;\">where</span><span style=\"color: #9b96a1;\">=\\<no value></span>)</code>\n",
    "\n",
    "========>&nbsp;&nbsp;&nbsp;&nbsp;returns the maximum element of an array or minimum element along an axis.</span>\n",
    "\n",
    "========>&nbsp;&nbsp;&nbsp;&nbsp;It is equivalent to &nbsp;<code style=\"background-color: #efd0ff; padding: 6px;\">ndarray.<span style=\"color: red;\">max(<span style=\"color: black;\">arr</span>, <span style=\"color: black;\">axis</span><span style=\"color: #9b96a1;\">=None</span>, <span style=\"color: black;\">out</span><span style=\"color: #9b96a1;\">=None</span>, <span style=\"color: black;\">keepdims</span><span style=\"color: #9b96a1;\">=\\<no value></span>, <span style=\"color: black;\">initial</span><span style=\"color: #9b96a1;\">=\\<no value></span>, <span style=\"color: black;\">where</span><span style=\"color: #9b96a1;\">=\\<no value></span>)</code> \n",
    "\n",
    "<br>\n",
    "\n",
    "<code style=\"color: white; background-color: black;\">Example - 1</code> &nbsp;<span style=\"color: #2fbd0b;\">1D array</span>"
   ]
  },
  {
   "cell_type": "code",
   "execution_count": 6,
   "id": "8984302b-028e-4bf5-88bc-ad4bb6dba0ed",
   "metadata": {},
   "outputs": [
    {
     "name": "stdout",
     "output_type": "stream",
     "text": [
      "3\n"
     ]
    }
   ],
   "source": [
    "\n",
    "a = np.array([1, 2, 3])\n",
    "min = np.amax(a)\n",
    "print(min)\n"
   ]
  },
  {
   "cell_type": "markdown",
   "id": "bed6bdb8-b397-4609-880a-64be64f89f9c",
   "metadata": {},
   "source": [
    "<br>\n",
    "\n",
    "<code style=\"color: white; background-color: black;\">Example - 2</code> &nbsp;<span style=\"color: #2fbd0b;\">2D array</span>\n",
    "\n",
    "<u><span style=\"color: #a245ff;\">Case-1 :</span></u> &nbsp;&nbsp;<span style=\"color: red;\">axis = None</span> &nbsp;<span style=\"color: blue;\">(default)</span>"
   ]
  },
  {
   "cell_type": "code",
   "execution_count": 15,
   "id": "4d2bfd63-f137-4664-8a08-600cfa586068",
   "metadata": {},
   "outputs": [
    {
     "name": "stdout",
     "output_type": "stream",
     "text": [
      "4\n"
     ]
    }
   ],
   "source": [
    "\n",
    "a = np.array([\n",
    "    [1, 2],\n",
    "    [3, 4]]\n",
    ")\n",
    "max = np.amax(a)\n",
    "print(max)\n"
   ]
  },
  {
   "cell_type": "markdown",
   "id": "62d90b37-c8b4-4d0a-869b-13b7c0da8e87",
   "metadata": {},
   "source": [
    "<u><span style=\"color: #a245ff;\">Case-2 :</span></u> &nbsp;&nbsp;<span style=\"color: red;\">axis = 0</span>"
   ]
  },
  {
   "cell_type": "code",
   "execution_count": 16,
   "id": "d3f88cc9-a4c4-467c-860d-8dea74711de4",
   "metadata": {},
   "outputs": [
    {
     "name": "stdout",
     "output_type": "stream",
     "text": [
      "[3 4]\n"
     ]
    }
   ],
   "source": [
    "\n",
    "a = np.array([\n",
    "    [1, 2],\n",
    "    [3, 4]]\n",
    ")\n",
    "max = np.amax(a, axis=0)\n",
    "print(max)\n"
   ]
  },
  {
   "cell_type": "markdown",
   "id": "3bbb383b-0a76-4d72-bc8e-cfb563cbf757",
   "metadata": {},
   "source": [
    "<u><span style=\"color: #a245ff;\">Case-3 :</span></u> &nbsp;&nbsp;<span style=\"color: red;\">axis = 1</span>"
   ]
  },
  {
   "cell_type": "code",
   "execution_count": 17,
   "id": "67eb0f13-32e1-43b8-bb57-ef9747223c71",
   "metadata": {},
   "outputs": [
    {
     "name": "stdout",
     "output_type": "stream",
     "text": [
      "[2 4]\n"
     ]
    }
   ],
   "source": [
    "\n",
    "a = np.array([\n",
    "    [1, 2],\n",
    "    [3, 4]]\n",
    ")\n",
    "max = np.amax(a, axis=1)\n",
    "print(max)\n"
   ]
  },
  {
   "cell_type": "markdown",
   "id": "8ced4607-ab67-4f89-ad2f-bcfb43d94f8f",
   "metadata": {
    "jp-MarkdownHeadingCollapsed": true
   },
   "source": [
    "<br>\n",
    "\n",
    "### <div style=\"color: white; background-color: #af87ff; padding: 5px;\"> <code style=\"font-size: 1.2rem; background-color: #af87ff; color: white;\"><strong>numpy.all()</strong></code> </div>\n"
   ]
  },
  {
   "cell_type": "markdown",
   "id": "7fad1e94-71fb-44ea-a268-4b2296c142c5",
   "metadata": {},
   "source": [
    "<code style=\"background-color: yellow; padding: 6px;\">numpy.<span style=\"color: red;\">all(<span style=\"color: black;\">arr</span>, <span style=\"color: black;\">axis</span><span style=\"color: #9b96a1;\">=None</span>, <span style=\"color: black;\">out</span><span style=\"color: #9b96a1;\">=None</span>, <span style=\"color: black;\">keepdims</span><span style=\"color: #9b96a1;\">=\\<no value></span>, <span style=\"color: black;\">initial</span><span style=\"color: #9b96a1;\">=\\<no value></span>, <span style=\"color: black;\">where</span><span style=\"color: #9b96a1;\">=\\<no value></span>)</code>\n",
    "\n",
    "========>&nbsp;&nbsp;&nbsp;&nbsp;returns &nbsp;<code style=\"background-color: #efd0ff;\">True</code>&nbsp; if <strong>all</strong> elements in an array (or along a given axis) evaluate &nbsp;<code style=\"background-color: #efd0ff;\">True</code>&nbsp;</span>\n",
    "\n",
    "========>&nbsp;&nbsp;&nbsp;&nbsp;In this syntax, a is a numpy <strong>array</strong> or an <strong>array-like object</strong> e.g., a <span style=\"color: blue;\"><strong>list</strong></span>.\n",
    "\n",
    "========>&nbsp;&nbsp;&nbsp;&nbsp;NaN  &nbsp;<span style=\"font-size: 1.2rem;\">(</span><code style=\"background-color: #bfffee\">np.<span style=\"color: red;\">nan</span></code><span style=\"font-size: 1.2rem;\">)</span> , &nbsp;&nbsp;<u>positive infinity</u> &nbsp;<span style=\"font-size: 1.2rem;\">(</span><code style=\"background-color: #bfffee\">np.<span style=\"color: red;\">inf</span></code><span style=\"font-size: 1.2rem;\">)</span> &nbsp;& &nbsp;<u>negative infinity</u> &nbsp;<span style=\"font-size: 1.2rem;\">(</span><code style=\"background-color: #bfffee\">-np.<span style=\"color: red;\">inf</span></code><span style=\"font-size: 1.2rem;\">)</span> &nbsp;evaluate to &nbsp;<code style=\"background-color: #efd0ff;\">True</code>&nbsp; because these are **not equal to zero**\n",
    "\n",
    "<br>\n",
    "\n",
    "<div style=\"display: flex;\">\n",
    "<div><span style=\"font-size: 1.5rem;\">⭐&nbsp;&nbsp;</span></div>\n",
    "<div>If the input array contains all numbers, the &nbsp;<code style=\"background-color: yellow; color: red;\">all()</code>&nbsp; function returns &nbsp;<span style=\"background-color: #FFFFBA; padding: 5px;\">&nbsp;<code style=\"background-color: #efd0ff;\">True</code>&nbsp; if all numbers are nonzero</span> &nbsp;or&nbsp; &nbsp;<span style=\"background-color: #FFFFBA; padding: 5px;\"><code style=\"background-color: #efd0ff;\">False</code>&nbsp; if least one number is zero</span>. <br>The reason is that &nbsp;<u>all non-zero numbers evaluate to True</u> &nbsp;while&nbsp; <u>zero evaluates to False</u> .</div>\n",
    "</div>\n",
    "\n",
    "<br><br>\n",
    "\n",
    "<code style=\"color: white; background-color: black;\">Example - 1</code> &nbsp;<span style=\"color: #2fbd0b;\">1D array</span>\n"
   ]
  },
  {
   "cell_type": "code",
   "execution_count": 99,
   "id": "8df17c9a-d7c0-45d3-9fdd-269d03c9181b",
   "metadata": {},
   "outputs": [
    {
     "name": "stdout",
     "output_type": "stream",
     "text": [
      "False\n"
     ]
    }
   ],
   "source": [
    "\n",
    "result = np.all([0, 1, 2, 3])                      # the result is False because the array has zero at index 0\n",
    "print(result)\n"
   ]
  },
  {
   "cell_type": "code",
   "execution_count": 100,
   "id": "5fddcf9c-7544-455a-98a3-8527a80802c9",
   "metadata": {},
   "outputs": [
    {
     "name": "stdout",
     "output_type": "stream",
     "text": [
      "True\n"
     ]
    }
   ],
   "source": [
    "\n",
    "result = np.all(np.array([-1, 2, 3]))              # the result is True because the array does not has any zero\n",
    "print(result)\n"
   ]
  },
  {
   "cell_type": "markdown",
   "id": "de6b9f04-21f3-478b-a33f-cf89bb3e7f12",
   "metadata": {},
   "source": [
    "<span style=\"color: #a245ff;\">You can pass an array-like object e.g., a <span style=\"color: blue;\"><strong>list</strong></span> to the &nbsp;<code style=\"background-color: yellow; color: red;\">all()</code>&nbsp; function</span>"
   ]
  },
  {
   "cell_type": "code",
   "execution_count": 97,
   "id": "38e73143-b795-433f-985e-f40a2ea987b1",
   "metadata": {},
   "outputs": [
    {
     "name": "stdout",
     "output_type": "stream",
     "text": [
      "True\n"
     ]
    }
   ],
   "source": [
    "\n",
    "result = np.all([-1, 2, 3])\n",
    "print(result)\n"
   ]
  },
  {
   "cell_type": "markdown",
   "id": "a030007f-5136-426f-84c8-980aa32343d1",
   "metadata": {},
   "source": [
    "<br>\n",
    "\n",
    "<code style=\"color: white; background-color: black;\">Example - 2</code> &nbsp;<span style=\"color: #2fbd0b;\">2D array</span>\n",
    "\n",
    "<u><span style=\"color: #a245ff;\">Case-1 :</span></u> &nbsp;&nbsp;<span style=\"color: red;\">axis = None</span> &nbsp;<span style=\"color: blue;\">(default)</span>"
   ]
  },
  {
   "cell_type": "code",
   "execution_count": 102,
   "id": "cdbcd6d6-5c5e-4b97-8191-c8012698e1b5",
   "metadata": {},
   "outputs": [
    {
     "name": "stdout",
     "output_type": "stream",
     "text": [
      "False\n"
     ]
    }
   ],
   "source": [
    "\n",
    "a = np.array([[0, 1], [2, 3]])\n",
    "result = np.all(a, axis=None)\n",
    "print(result)\n"
   ]
  },
  {
   "cell_type": "markdown",
   "id": "a706820a-303b-44c7-a4c3-caa534b4a100",
   "metadata": {},
   "source": [
    "<u><span style=\"color: #a245ff;\">Case-2 :</span></u> &nbsp;&nbsp;<span style=\"color: red;\">axis = 0</span>"
   ]
  },
  {
   "cell_type": "code",
   "execution_count": 104,
   "id": "421e49cb-5be0-4ab0-8a2a-7f6ddecd4662",
   "metadata": {},
   "outputs": [
    {
     "name": "stdout",
     "output_type": "stream",
     "text": [
      "[False  True]\n"
     ]
    }
   ],
   "source": [
    "\n",
    "a = np.array([\n",
    "    [0, 1],\n",
    "    [2, 3]]\n",
    ")\n",
    "result = np.all(a, axis=0)\n",
    "print(result)\n"
   ]
  },
  {
   "cell_type": "markdown",
   "id": "97c7a74a-aed8-465b-b684-29ae32407eef",
   "metadata": {},
   "source": [
    "<div style=\"margin-left: 100px;\">\n",
    "\n",
    "![](../media/numpy_27.PNG)\n",
    "\n",
    "</div>"
   ]
  },
  {
   "cell_type": "markdown",
   "id": "d3e54c6a-f3fe-4cc4-8c41-5938e2b4d9fc",
   "metadata": {},
   "source": [
    "<u><span style=\"color: #a245ff;\">Case-3 :</span></u> &nbsp;&nbsp;<span style=\"color: red;\">axis = 1</span>"
   ]
  },
  {
   "cell_type": "code",
   "execution_count": 105,
   "id": "c1182b16-0d36-4966-ad84-271102acdb91",
   "metadata": {},
   "outputs": [
    {
     "name": "stdout",
     "output_type": "stream",
     "text": [
      "[False  True]\n"
     ]
    }
   ],
   "source": [
    "\n",
    "a = np.array([\n",
    "    [0, 1],\n",
    "    [2, 3]]\n",
    ")\n",
    "result = np.all(a, axis=1)\n",
    "print(result)\n"
   ]
  },
  {
   "cell_type": "markdown",
   "id": "248fd380-54a8-4578-8da8-025769f360c8",
   "metadata": {},
   "source": [
    "<div style=\"margin-left: 100px;\">\n",
    "\n",
    "![](../media/numpy_28.PNG)\n",
    "\n",
    "</div>"
   ]
  },
  {
   "cell_type": "markdown",
   "id": "54df6422-97f9-45cd-bb17-9c7cf4a57298",
   "metadata": {
    "jp-MarkdownHeadingCollapsed": true
   },
   "source": [
    "<br>\n",
    "\n",
    "### <div style=\"color: white; background-color: #af87ff; padding: 5px;\"> <code style=\"font-size: 1.2rem; background-color: #af87ff; color: white;\"><strong>numpy.any()</strong></code> </div>\n"
   ]
  },
  {
   "cell_type": "markdown",
   "id": "eafc3369-5e73-4d59-ac2d-748cf4e8d5ca",
   "metadata": {},
   "source": [
    "<code style=\"background-color: yellow; padding: 6px;\">numpy.<span style=\"color: red;\">any(<span style=\"color: black;\">arr</span>, <span style=\"color: black;\">axis</span><span style=\"color: #9b96a1;\">=None</span>, <span style=\"color: black;\">out</span><span style=\"color: #9b96a1;\">=None</span>, <span style=\"color: black;\">keepdims</span><span style=\"color: #9b96a1;\">=\\<no value></span>, <span style=\"color: black;\">initial</span><span style=\"color: #9b96a1;\">=\\<no value></span>, <span style=\"color: black;\">where</span><span style=\"color: #9b96a1;\">=\\<no value></span>)</code>\n",
    "\n",
    "<br>\n",
    "\n",
    "========>&nbsp;&nbsp;&nbsp;&nbsp;returns &nbsp;<code style=\"background-color: #efd0ff;\">True</code>&nbsp; if <strong>any</strong> element in an array (or along a given axis) evaluate &nbsp;<code style=\"background-color: #efd0ff;\">True</code>&nbsp;</span>\n",
    "\n",
    "========>&nbsp;&nbsp;&nbsp;&nbsp;In this syntax, a is a numpy <strong>array</strong> or an <strong>array-like object</strong> e.g., a <span style=\"color: blue;\"><strong>list</strong></span>\n",
    "\n",
    "========>&nbsp;&nbsp;&nbsp;&nbsp;NaN  &nbsp;<span style=\"font-size: 1.2rem;\">(</span><code style=\"background-color: #bfffee\">np.<span style=\"color: red;\">nan</span></code><span style=\"font-size: 1.2rem;\">)</span> , &nbsp;&nbsp;<u>positive infinity</u> &nbsp;<span style=\"font-size: 1.2rem;\">(</span><code style=\"background-color: #bfffee\">np.<span style=\"color: red;\">inf</span></code><span style=\"font-size: 1.2rem;\">)</span> &nbsp;& &nbsp;<u>negative infinity</u> &nbsp;<span style=\"font-size: 1.2rem;\">(</span><code style=\"background-color: #bfffee\">-np.<span style=\"color: red;\">inf</span></code><span style=\"font-size: 1.2rem;\">)</span> &nbsp;evaluate to &nbsp;<code style=\"background-color: #efd0ff;\">True</code>&nbsp; because these are **not equal to zero**\n",
    "\n",
    "\n",
    "<br>\n",
    "\n",
    "<div style=\"display: flex;\">\n",
    "<div><span style=\"font-size: 1.5rem;\">⭐&nbsp;&nbsp;</span></div>\n",
    "<div>Typically, the input array contains numbers. In the boolean context, &nbsp;<u>all non-zero numbers evaluate to True</u>&nbsp; while &nbsp;<u>zero evaluates to False</u> . <br>Therefore, the &nbsp;<code style=\"background-color: yellow; color: red;\">any()</code>&nbsp; function returns &nbsp;&nbsp;<span style=\"background-color: #FFFFBA; padding: 5px;\"><code style=\"background-color: #efd0ff;\">True</code>&nbsp; if any number in the array is nonzero</span> &nbsp;or&nbsp; &nbsp;<span style=\"background-color: #FFFFBA; padding: 5px;\"><code style=\"background-color: #efd0ff;\">False</code>&nbsp; if all numbers are zero</span>.</div>\n",
    "</div>\n",
    "\n",
    "<br><br>\n",
    "\n",
    "<code style=\"color: white; background-color: black;\">Example - 1</code> &nbsp;<span style=\"color: #2fbd0b;\">1D array</span>\n"
   ]
  },
  {
   "cell_type": "code",
   "execution_count": 107,
   "id": "0ff53aa8-329a-46af-be71-96425adeb319",
   "metadata": {},
   "outputs": [
    {
     "name": "stdout",
     "output_type": "stream",
     "text": [
      "True\n"
     ]
    }
   ],
   "source": [
    "\n",
    "result = np.any([0, 1, 2, 3])\n",
    "print(result)\n"
   ]
  },
  {
   "cell_type": "code",
   "execution_count": 108,
   "id": "cc349b0d-74cf-47b3-85cb-861f8b6d9fda",
   "metadata": {},
   "outputs": [
    {
     "name": "stdout",
     "output_type": "stream",
     "text": [
      "False\n"
     ]
    }
   ],
   "source": [
    "\n",
    "result = np.any(np.array([0, 0]))\n",
    "print(result)\n"
   ]
  },
  {
   "cell_type": "markdown",
   "id": "8253929f-0b4b-4168-aed8-5c042d87c32d",
   "metadata": {},
   "source": [
    "<span style=\"color: #a245ff;\">You can pass an array-like object e.g., a <span style=\"color: blue;\"><strong>list</strong></span> to the &nbsp;<code style=\"background-color: yellow; color: red;\">any()</code>&nbsp; function</span>"
   ]
  },
  {
   "cell_type": "code",
   "execution_count": 110,
   "id": "74272d3c-5ade-4d9d-b247-f949659a4071",
   "metadata": {},
   "outputs": [
    {
     "name": "stdout",
     "output_type": "stream",
     "text": [
      "False\n"
     ]
    }
   ],
   "source": [
    "\n",
    "result = np.any([0, 0])\n",
    "print(result)\n"
   ]
  },
  {
   "cell_type": "markdown",
   "id": "e20adb40-4366-4158-bdc0-a6601af3a383",
   "metadata": {},
   "source": [
    "<br>\n",
    "\n",
    "<code style=\"color: white; background-color: black;\">Example - 2</code> &nbsp;<span style=\"color: #2fbd0b;\">2D array</span>\n",
    "\n",
    "<u><span style=\"color: #a245ff;\">Case-1 :</span></u> &nbsp;&nbsp;<span style=\"color: red;\">axis = None</span> &nbsp;<span style=\"color: blue;\">(default)</span>"
   ]
  },
  {
   "cell_type": "code",
   "execution_count": 111,
   "id": "df8c4b4b-d377-4432-aff6-8361d266c7f1",
   "metadata": {},
   "outputs": [
    {
     "name": "stdout",
     "output_type": "stream",
     "text": [
      "True\n"
     ]
    }
   ],
   "source": [
    "\n",
    "a = np.array([[0, 1], [2, 3]])\n",
    "result = np.any(a)\n",
    "print(result)\n"
   ]
  },
  {
   "cell_type": "markdown",
   "id": "7a199e53-aa06-4cee-a2f9-14ce1ac45392",
   "metadata": {},
   "source": [
    "<u><span style=\"color: #a245ff;\">Case-2 :</span></u> &nbsp;&nbsp;<span style=\"color: red;\">axis = 0</span>"
   ]
  },
  {
   "cell_type": "code",
   "execution_count": 113,
   "id": "74b7702a-01a1-48aa-a074-650df497c403",
   "metadata": {},
   "outputs": [
    {
     "name": "stdout",
     "output_type": "stream",
     "text": [
      "[False  True]\n"
     ]
    }
   ],
   "source": [
    "\n",
    "a = np.array([\n",
    "    [0, 0],\n",
    "    [0, 1]\n",
    "])\n",
    "result = np.any(a, axis=0)\n",
    "print(result)\n"
   ]
  },
  {
   "cell_type": "markdown",
   "id": "8e0c20ca-d391-48b2-9395-dc2d1c277541",
   "metadata": {},
   "source": [
    "<u><span style=\"color: #a245ff;\">Case-3 :</span></u> &nbsp;&nbsp;<span style=\"color: red;\">axis = 1</span>"
   ]
  },
  {
   "cell_type": "code",
   "execution_count": 114,
   "id": "c93f9f5d-0797-4852-b3a9-39ad41d70a7d",
   "metadata": {},
   "outputs": [
    {
     "name": "stdout",
     "output_type": "stream",
     "text": [
      "[False  True]\n"
     ]
    }
   ],
   "source": [
    "\n",
    "a = np.array([\n",
    "    [0, 0],\n",
    "    [0, 1]\n",
    "])\n",
    "result = np.any(a, axis=1)\n",
    "print(result)\n"
   ]
  },
  {
   "cell_type": "markdown",
   "id": "1006255a-a1bf-4cc7-bfdb-a7afe53e82e8",
   "metadata": {
    "jp-MarkdownHeadingCollapsed": true
   },
   "source": [
    "<br>\n",
    "\n",
    "### <div style=\"color: white; background-color: #af87ff; padding: 5px;\"> <code style=\"font-size: 1.2rem; background-color: #af87ff; color: white;\"><strong>numpy.where()</strong></code> </div>\n"
   ]
  },
  {
   "cell_type": "markdown",
   "id": "ae008ede-3606-4337-8fd1-5f19078a3222",
   "metadata": {},
   "source": [
    "\n",
    "<code style=\"background-color: yellow;\">numpy.<span style=\"color: red;\">where</span>(condition)</code> &nbsp;:&nbsp;&nbsp; Returns the indices where the condition is &nbsp;<code style=\"background-color: #efd0ff;\">True</code>\n",
    "\n",
    "<code style=\"background-color: yellow;\">numpy.<span style=\"color: red;\">where</span>(condition, x, y)</code> &nbsp;:&nbsp;&nbsp; Returns an array where elements are chosen from &nbsp;<code style=\"background-color: #efd0ff;\">x</code>&nbsp; if the condition is &nbsp;<code style=\"background-color: #efd0ff;\">True</code>&nbsp;, otherwise from &nbsp;<code style=\"background-color: #efd0ff;\">y</code>\n",
    "\n",
    "<br>\n",
    "\n",
    "<code style=\"color: white; background-color: black;\">Example - 1</code> &nbsp;&nbsp;<span style=\"color: #a245ff;\">Find indices in the <strong>1D array</strong> below where the elements are greater than 20</span>\n"
   ]
  },
  {
   "cell_type": "code",
   "execution_count": 34,
   "id": "6577d0bc-39e8-4c0b-b762-ffa16bc517f0",
   "metadata": {},
   "outputs": [
    {
     "name": "stdout",
     "output_type": "stream",
     "text": [
      "(array([3, 4], dtype=int64),)\n"
     ]
    }
   ],
   "source": [
    "\n",
    "arr = np.array([10, 15, 20, 25, 30])                        # 1D array\n",
    "\n",
    "indices = np.where(arr > 20)\n",
    "print(indices)\n"
   ]
  },
  {
   "cell_type": "markdown",
   "id": "919b6128-b312-4673-9e6a-27a1c54c4613",
   "metadata": {},
   "source": [
    "<br>\n",
    "\n",
    "<code style=\"color: white; background-color: black;\">Example - 2</code> &nbsp;&nbsp;<span style=\"color: #a245ff;\">Replace values greater than 20 with 1, and others with 0</span>\n"
   ]
  },
  {
   "cell_type": "code",
   "execution_count": 35,
   "id": "109afb0c-195c-417e-8005-0135adbb5a47",
   "metadata": {},
   "outputs": [
    {
     "name": "stdout",
     "output_type": "stream",
     "text": [
      "[0 0 0 1 1]\n"
     ]
    }
   ],
   "source": [
    "\n",
    "arr = np.array([10, 15, 20, 25, 30])                       # 1D array\n",
    "\n",
    "result = np.where(arr > 20, 1, 0)\n",
    "print(result)\n"
   ]
  },
  {
   "cell_type": "markdown",
   "id": "c5d69fa8-859f-4643-ba1f-059986a26f6e",
   "metadata": {},
   "source": [
    "<br>\n",
    "\n",
    "<code style=\"color: white; background-color: black;\">Example - 3</code> &nbsp;&nbsp;<span style=\"color: #a245ff;\">Find the indices in the <strong>2D array</strong> below where the elements are greater than 5</span>\n"
   ]
  },
  {
   "cell_type": "code",
   "execution_count": 36,
   "id": "7c4abcaf-88fb-4f1f-b850-18728ac0c38d",
   "metadata": {},
   "outputs": [
    {
     "name": "stdout",
     "output_type": "stream",
     "text": [
      "(array([1, 2, 2, 2], dtype=int64), array([2, 0, 1, 2], dtype=int64))\n"
     ]
    }
   ],
   "source": [
    "\n",
    "arr = np.array([[1, 2, 3], [4, 5, 6], [7, 8, 9]])         # Multi-Dimensional Array\n",
    "\n",
    "indices = np.where(arr > 5)\n",
    "print(indices)                                            # OUTPUT: (array([1, 2, 2, 2], dtype=int64), array([2, 0, 1, 2], dtype=int64))\n",
    "                                                          # resultant coordinates = (1,2) , (2,0) , (2,1) , (2,2) \n"
   ]
  },
  {
   "cell_type": "markdown",
   "id": "ac5ab562-1034-440f-a21a-b27aff40c138",
   "metadata": {},
   "source": [
    "<br>\n",
    "\n",
    "<code style=\"color: white; background-color: black;\">Example - 4</code> &nbsp;&nbsp;<span style=\"color: #a245ff;\"><u>Filter & Replace</u> negative values with 0</span>\n"
   ]
  },
  {
   "cell_type": "code",
   "execution_count": 37,
   "id": "529f948b-0738-41dd-b8fe-4c8ebfa5dadc",
   "metadata": {},
   "outputs": [
    {
     "name": "stdout",
     "output_type": "stream",
     "text": [
      "[3 0 5 0 7]\n"
     ]
    }
   ],
   "source": [
    "\n",
    "arr = np.array([3, -1, 5, -2, 7])\n",
    "\n",
    "modified_arr = np.where(arr < 0, 0, arr)                  # All negative values (-1 and -2) are replaced with 0, while the other values remain unchanged\n",
    "print(modified_arr)\n"
   ]
  },
  {
   "cell_type": "markdown",
   "id": "33781451-537e-4c6f-b290-5cfe4f9475f5",
   "metadata": {},
   "source": [
    "<br>\n",
    "\n",
    "<code style=\"color: white; background-color: black;\">Example - 5</code> &nbsp;&nbsp;<span style=\"color: #a245ff;\">Real world use case in <strong>data cleaning</strong></span>\n"
   ]
  },
  {
   "cell_type": "code",
   "execution_count": 38,
   "id": "26fa27c0-98d1-4f37-b982-92915c00e185",
   "metadata": {},
   "outputs": [
    {
     "name": "stdout",
     "output_type": "stream",
     "text": [
      "[45.         63.33333333 56.         63.33333333 89.        ]\n"
     ]
    }
   ],
   "source": [
    "\n",
    "data = np.array([45, np.nan, 56, np.nan, 89])\n",
    "\n",
    "mean_value = np.nanmean(data)                             # Replace NaN values with the mean of the data\n",
    "clean_data = np.where(np.isnan(data), mean_value, data)\n",
    "print(clean_data)\n"
   ]
  },
  {
   "cell_type": "markdown",
   "id": "2dbae217-d23b-4591-b8a4-9c2e56623937",
   "metadata": {
    "jp-MarkdownHeadingCollapsed": true
   },
   "source": [
    "<br>\n",
    "\n",
    "### <div style=\"color: white; background-color: #af87ff; padding: 5px;\"> <code style=\"font-size: 1.2rem; background-color: #af87ff; color: white;\"><strong>numpy.unique()</strong></code> </div>\n"
   ]
  },
  {
   "cell_type": "markdown",
   "id": "40680051-bcbd-4f48-8033-ff979a69a308",
   "metadata": {},
   "source": [
    "<code style=\"background-color: yellow;\">numpy.<span style=\"color: red;\">unique</span>()</code> &nbsp;&nbsp;&nbsp;===>&nbsp;&nbsp; filters out the duplicate elements and return a subarray with no duplicate elements \n",
    "\n",
    "<br>\n",
    "\n",
    "<code style=\"color: white; background-color: black;\">Example - 1</code>"
   ]
  },
  {
   "cell_type": "code",
   "execution_count": 48,
   "id": "7a379bf2-907e-4607-b9b1-85572d0cc343",
   "metadata": {},
   "outputs": [
    {
     "data": {
      "text/plain": [
       "array([1, 2, 3])"
      ]
     },
     "execution_count": 48,
     "metadata": {},
     "output_type": "execute_result"
    }
   ],
   "source": [
    "\n",
    "arr = np.array([1, 2, 3, 1])                             # 1D array\n",
    "\n",
    "unique_elements = np.unique(arr)                         # accessing unique elements via ufunc \"np.unique\" is more streamlined and quicker\n",
    "unique_elements\n"
   ]
  },
  {
   "cell_type": "markdown",
   "id": "3755db63-652e-4aad-bbf4-1333cd7aab6f",
   "metadata": {},
   "source": [
    "<br>\n",
    "\n",
    "<code style=\"color: white; background-color: black;\">Example - 2</code>"
   ]
  },
  {
   "cell_type": "code",
   "execution_count": 49,
   "id": "55f3ed68-bf1b-457d-90f1-30491186237c",
   "metadata": {},
   "outputs": [
    {
     "data": {
      "text/plain": [
       "array([1, 3, 4, 5])"
      ]
     },
     "execution_count": 49,
     "metadata": {},
     "output_type": "execute_result"
    }
   ],
   "source": [
    "\n",
    "arr = np.array([[1, 5, 3], \n",
    "                [4, 5, 5]])                              # 2D array\n",
    "\n",
    "unique_elements = np.unique(arr)                         # accessing unique elements via ufunc \"np.unique\" is more streamlined and quicker\n",
    "unique_elements\n"
   ]
  },
  {
   "cell_type": "markdown",
   "id": "2dfce6eb-e912-4946-880f-bc22f297adc7",
   "metadata": {
    "jp-MarkdownHeadingCollapsed": true
   },
   "source": [
    "<br>\n",
    "\n",
    "### <div style=\"color: white; background-color: #af87ff; padding: 5px;\"> <code style=\"font-size: 1.2rem; background-color: #af87ff; color: white;\"><strong>numpy.nonzero()</strong></code> </div>\n"
   ]
  },
  {
   "cell_type": "markdown",
   "id": "4dfa5b92-a5ec-4426-a7d0-f457e9d1b38e",
   "metadata": {},
   "source": [
    "<code style=\"background-color: yellow;\">numpy.<span style=\"color: red;\">nonzero</span>()</code> &nbsp;&nbsp;&nbsp;===>&nbsp;&nbsp;  Return the indices that are nonzero\n",
    "\n",
    "<br>\n",
    "\n",
    "<code style=\"color: white; background-color: black;\">Example - 1</code>"
   ]
  },
  {
   "cell_type": "code",
   "execution_count": 51,
   "id": "6b208d61-96e3-4d3d-90e9-6d367fa5c753",
   "metadata": {},
   "outputs": [
    {
     "data": {
      "text/plain": [
       "array([[3, 0, 0],\n",
       "       [0, 4, 0],\n",
       "       [5, 6, 0]])"
      ]
     },
     "execution_count": 51,
     "metadata": {},
     "output_type": "execute_result"
    }
   ],
   "source": [
    "\n",
    "x = np.array([[3, 0, 0], \n",
    "              [0, 4, 0], \n",
    "              [5, 6, 0]])\n",
    "\n",
    "x\n"
   ]
  },
  {
   "cell_type": "markdown",
   "id": "3df6ae4c-508f-4883-b0f5-6c87ee5408f2",
   "metadata": {},
   "source": [
    "<br>\n",
    "\n",
    "<code style=\"color: white; background-color: black;\">Example - 2</code>\n",
    "\n",
    "<span style=\"font-size: 1.5rem;\">⭐</span> &nbsp;A common use for <span style=\"color: red;\">nonzero</span> is <u>to find the indices of an array, where a condition is **True**</u>\n"
   ]
  },
  {
   "cell_type": "code",
   "execution_count": 54,
   "id": "c75d05a4-c071-4204-bcc9-43468f9e8db7",
   "metadata": {},
   "outputs": [
    {
     "data": {
      "text/plain": [
       "array([[False, False, False],\n",
       "       [ True,  True,  True],\n",
       "       [ True,  True,  True]])"
      ]
     },
     "execution_count": 54,
     "metadata": {},
     "output_type": "execute_result"
    }
   ],
   "source": [
    "\n",
    "a = np.array([[1, 2, 3], \n",
    "              [4, 5, 6], \n",
    "              [7, 8, 9]])\n",
    "\n",
    "a > 3\n"
   ]
  },
  {
   "cell_type": "markdown",
   "id": "30b1a90d-d6f6-4431-9b1e-e0d65c53500e",
   "metadata": {},
   "source": [
    "<br>\n",
    "\n",
    "<strong><span style=\"color: #a245ff;\"><u>METHOD - 1</u></span></strong>"
   ]
  },
  {
   "cell_type": "code",
   "execution_count": 57,
   "id": "76976220-03b5-4e9e-9a4b-83c7c7b0f297",
   "metadata": {},
   "outputs": [
    {
     "data": {
      "text/plain": [
       "(array([1, 1, 1, 2, 2, 2], dtype=int64),\n",
       " array([0, 1, 2, 0, 1, 2], dtype=int64))"
      ]
     },
     "execution_count": 57,
     "metadata": {},
     "output_type": "execute_result"
    }
   ],
   "source": [
    "\n",
    "np.nonzero(a > 3)                             # (1,0) , (1,1) , (1,2) , (2,0) , (2,1) , (2,2)\n"
   ]
  },
  {
   "cell_type": "markdown",
   "id": "655b205b-7ede-4cff-ae39-426a62bf04b4",
   "metadata": {},
   "source": [
    "<br>\n",
    "\n",
    "<strong><span style=\"color: #a245ff;\"><u>METHOD - 2</u></span></strong>"
   ]
  },
  {
   "cell_type": "code",
   "execution_count": 65,
   "id": "69fcac38-b1bd-465c-9608-8d1129389058",
   "metadata": {},
   "outputs": [
    {
     "data": {
      "text/plain": [
       "(array([1, 1, 1, 2, 2, 2], dtype=int64),\n",
       " array([0, 1, 2, 0, 1, 2], dtype=int64))"
      ]
     },
     "execution_count": 65,
     "metadata": {},
     "output_type": "execute_result"
    }
   ],
   "source": [
    "\n",
    "(a > 3).nonzero()                             # (1,0) , (1,1) , (1,2) , (2,0) , (2,1) , (2,2)\n"
   ]
  },
  {
   "cell_type": "markdown",
   "id": "ce1b9861-3554-4d3f-911b-906d39d5ca95",
   "metadata": {},
   "source": [
    "<br>\n",
    "\n",
    "<span style=\"color: #a245ff;\">To find all the elements in the array a greater than 3 :</span>"
   ]
  },
  {
   "cell_type": "code",
   "execution_count": 67,
   "id": "1ff87aa6-9fe0-448d-a6e5-9b9ce70d99b1",
   "metadata": {},
   "outputs": [
    {
     "data": {
      "text/plain": [
       "array([4, 5, 6, 7, 8, 9])"
      ]
     },
     "execution_count": 67,
     "metadata": {},
     "output_type": "execute_result"
    }
   ],
   "source": [
    "\n",
    "a = np.array([[1, 2, 3], \n",
    "              [4, 5, 6], \n",
    "              [7, 8, 9]])\n",
    "\n",
    "a[np.nonzero(a > 3)]\n"
   ]
  },
  {
   "cell_type": "markdown",
   "id": "c203508a-cfb8-4da8-9392-d9c94b0bb3b4",
   "metadata": {},
   "source": [
    "<br><br>\n",
    "\n",
    "## Array &nbsp;Operations"
   ]
  },
  {
   "cell_type": "markdown",
   "id": "1f6e0215-70d1-4998-b4b3-a67011673db9",
   "metadata": {
    "jp-MarkdownHeadingCollapsed": true
   },
   "source": [
    "<br>\n",
    "\n",
    "### <div style=\"color: white; background-color: #af87ff; padding: 5px;\"> <code style=\"font-size: 1.2rem; background-color: #af87ff; color: white;\"><strong>numpy.reshape()</strong></code> </div>\n"
   ]
  },
  {
   "cell_type": "markdown",
   "id": "7268d28b-a0f5-4ae3-8d84-b0d339786644",
   "metadata": {},
   "source": [
    "<code style=\"background-color: yellow; padding: 6px;\">numpy.<span style=\"color: red;\">reshape(<span style=\"color: black;\">arr</span>, <span style=\"color: black;\">newshape</span>, <span style=\"color: black;\">order</span><span style=\"color: #9b96a1;\">='C'</span>)</code> &nbsp;&nbsp;&nbsp;&nbsp;====>&nbsp;&nbsp;&nbsp;&nbsp;changes the shape of an array without changing its elements.</span>\n",
    "\n",
    "<br>\n",
    "\n",
    "The &nbsp;<code style=\"color: red; background-color: #efd0ff;\">reshape()</code>&nbsp; <strong>function</strong> is equivalent to calling the &nbsp;<code style=\"color: red; background-color: #efd0ff;\">reshape()</code>&nbsp; <strong>method</strong> on the array &nbsp;<code style=\"background-color: #efd0ff;\">arr</code> &nbsp;&nbsp;&nbsp;===>&nbsp;&nbsp;&nbsp; <code style=\"background-color: yellow; padding: 6px;\">arr.<span style=\"color: red;\">reshape(<span style=\"color: black;\">newshape</span>, <span style=\"color: black;\">order</span><span style=\"color: #9b96a1;\">='C'</span>)</code>\n",
    "\n",
    "<br>\n",
    "\n",
    "<code style=\"color: white; background-color: black;\">Example - 1</code> &nbsp;&nbsp;<span style=\"color: #2fbd0b;\">1D array</span>"
   ]
  },
  {
   "cell_type": "code",
   "execution_count": 71,
   "id": "f3de8c12-0087-4b06-93c3-8e850ed5b3e9",
   "metadata": {},
   "outputs": [
    {
     "name": "stdout",
     "output_type": "stream",
     "text": [
      "[1 2 3 4]\n"
     ]
    }
   ],
   "source": [
    "\n",
    "a = np.arange(1, 5)\n",
    "print(a)\n"
   ]
  },
  {
   "cell_type": "code",
   "execution_count": 79,
   "id": "f3cd03a6-41ff-4db2-9f2b-d5c7f1c6cd6c",
   "metadata": {},
   "outputs": [
    {
     "name": "stdout",
     "output_type": "stream",
     "text": [
      "[[1 2]\n",
      " [3 4]]\n"
     ]
    }
   ],
   "source": [
    "\n",
    "b = np.reshape(a, (2, 2))                # reshape to a 2D array with 2 rows and 2 columns\n",
    "print(b)\n"
   ]
  },
  {
   "cell_type": "code",
   "execution_count": 84,
   "id": "4784ac7e-0196-41a6-8e72-fa30f275d691",
   "metadata": {},
   "outputs": [
    {
     "data": {
      "text/plain": [
       "(2, 2)"
      ]
     },
     "execution_count": 84,
     "metadata": {},
     "output_type": "execute_result"
    }
   ],
   "source": [
    "\n",
    "b.shape\n"
   ]
  },
  {
   "cell_type": "markdown",
   "id": "c1fa7e3a-c4b4-488c-b37b-58f7773f71ee",
   "metadata": {},
   "source": [
    "<div style=\"margin-left: 90px;\">\n",
    "\n",
    "![](../media/numpy_29.PNG)\n",
    "\n",
    "</div>\n",
    "\n",
    "<u>**NOTE**</u> &nbsp;-&nbsp; <span style=\"color: red;\">reshape( )</span> <span style=\"color: blue;\">can not only change shape but also dimensions.</span> &nbsp;&nbsp;<span style=\"color: #a245ff;\">For example, in the above example, the 1D array is converted into a 2D array.</span>\n",
    "\n",
    "\n",
    "<span style=\"font-size: 1.5rem;\">⭐&nbsp;&nbsp;</span>The shape of the original array &nbsp;<code style=\"background-color: #efd0ff;\"> a </code>&nbsp; remains unchanged"
   ]
  },
  {
   "cell_type": "code",
   "execution_count": 83,
   "id": "081fb60b-b5a7-4b2f-b670-14a822ee1af6",
   "metadata": {},
   "outputs": [
    {
     "data": {
      "text/plain": [
       "(4,)"
      ]
     },
     "execution_count": 83,
     "metadata": {},
     "output_type": "execute_result"
    }
   ],
   "source": [
    "\n",
    "a.shape\n"
   ]
  },
  {
   "cell_type": "markdown",
   "id": "fe036304-b14d-4646-ba66-beaf33d0600f",
   "metadata": {},
   "source": [
    "<br>\n",
    "\n",
    "<span style=\"font-size: 1.5rem;\">⭐&nbsp;&nbsp;</span>However the new shape must be compatible with the original shape (i.e., <u>the total number of elements must remain the same</u>), otherwise it will throw <strong><span style=\"color: red;\">error</span>"
   ]
  },
  {
   "cell_type": "code",
   "execution_count": 86,
   "id": "1856d3ae-c4af-440e-bd8c-da9543195550",
   "metadata": {},
   "outputs": [
    {
     "ename": "ValueError",
     "evalue": "cannot reshape array of size 4 into shape (2,3)",
     "output_type": "error",
     "traceback": [
      "\u001b[1;31m---------------------------------------------------------------------------\u001b[0m",
      "\u001b[1;31mValueError\u001b[0m                                Traceback (most recent call last)",
      "Cell \u001b[1;32mIn[86], line 1\u001b[0m\n\u001b[1;32m----> 1\u001b[0m b \u001b[38;5;241m=\u001b[39m \u001b[43mnp\u001b[49m\u001b[38;5;241;43m.\u001b[39;49m\u001b[43mreshape\u001b[49m\u001b[43m(\u001b[49m\u001b[43ma\u001b[49m\u001b[43m,\u001b[49m\u001b[43m \u001b[49m\u001b[43m(\u001b[49m\u001b[38;5;241;43m2\u001b[39;49m\u001b[43m,\u001b[49m\u001b[43m \u001b[49m\u001b[38;5;241;43m3\u001b[39;49m\u001b[43m)\u001b[49m\u001b[43m)\u001b[49m                \u001b[38;5;66;03m# reshape to a 2D array with 2 rows and 3 columns\u001b[39;00m\n",
      "File \u001b[1;32m<__array_function__ internals>:180\u001b[0m, in \u001b[0;36mreshape\u001b[1;34m(*args, **kwargs)\u001b[0m\n",
      "File \u001b[1;32m~\\AppData\\Local\\Programs\\Python\\Python311\\Lib\\site-packages\\numpy\\core\\fromnumeric.py:298\u001b[0m, in \u001b[0;36mreshape\u001b[1;34m(a, newshape, order)\u001b[0m\n\u001b[0;32m    198\u001b[0m \u001b[38;5;129m@array_function_dispatch\u001b[39m(_reshape_dispatcher)\n\u001b[0;32m    199\u001b[0m \u001b[38;5;28;01mdef\u001b[39;00m \u001b[38;5;21mreshape\u001b[39m(a, newshape, order\u001b[38;5;241m=\u001b[39m\u001b[38;5;124m'\u001b[39m\u001b[38;5;124mC\u001b[39m\u001b[38;5;124m'\u001b[39m):\n\u001b[0;32m    200\u001b[0m \u001b[38;5;250m    \u001b[39m\u001b[38;5;124;03m\"\"\"\u001b[39;00m\n\u001b[0;32m    201\u001b[0m \u001b[38;5;124;03m    Gives a new shape to an array without changing its data.\u001b[39;00m\n\u001b[0;32m    202\u001b[0m \n\u001b[1;32m   (...)\u001b[0m\n\u001b[0;32m    296\u001b[0m \u001b[38;5;124;03m           [5, 6]])\u001b[39;00m\n\u001b[0;32m    297\u001b[0m \u001b[38;5;124;03m    \"\"\"\u001b[39;00m\n\u001b[1;32m--> 298\u001b[0m     \u001b[38;5;28;01mreturn\u001b[39;00m \u001b[43m_wrapfunc\u001b[49m\u001b[43m(\u001b[49m\u001b[43ma\u001b[49m\u001b[43m,\u001b[49m\u001b[43m \u001b[49m\u001b[38;5;124;43m'\u001b[39;49m\u001b[38;5;124;43mreshape\u001b[39;49m\u001b[38;5;124;43m'\u001b[39;49m\u001b[43m,\u001b[49m\u001b[43m \u001b[49m\u001b[43mnewshape\u001b[49m\u001b[43m,\u001b[49m\u001b[43m \u001b[49m\u001b[43morder\u001b[49m\u001b[38;5;241;43m=\u001b[39;49m\u001b[43morder\u001b[49m\u001b[43m)\u001b[49m\n",
      "File \u001b[1;32m~\\AppData\\Local\\Programs\\Python\\Python311\\Lib\\site-packages\\numpy\\core\\fromnumeric.py:57\u001b[0m, in \u001b[0;36m_wrapfunc\u001b[1;34m(obj, method, *args, **kwds)\u001b[0m\n\u001b[0;32m     54\u001b[0m     \u001b[38;5;28;01mreturn\u001b[39;00m _wrapit(obj, method, \u001b[38;5;241m*\u001b[39margs, \u001b[38;5;241m*\u001b[39m\u001b[38;5;241m*\u001b[39mkwds)\n\u001b[0;32m     56\u001b[0m \u001b[38;5;28;01mtry\u001b[39;00m:\n\u001b[1;32m---> 57\u001b[0m     \u001b[38;5;28;01mreturn\u001b[39;00m \u001b[43mbound\u001b[49m\u001b[43m(\u001b[49m\u001b[38;5;241;43m*\u001b[39;49m\u001b[43margs\u001b[49m\u001b[43m,\u001b[49m\u001b[43m \u001b[49m\u001b[38;5;241;43m*\u001b[39;49m\u001b[38;5;241;43m*\u001b[39;49m\u001b[43mkwds\u001b[49m\u001b[43m)\u001b[49m\n\u001b[0;32m     58\u001b[0m \u001b[38;5;28;01mexcept\u001b[39;00m \u001b[38;5;167;01mTypeError\u001b[39;00m:\n\u001b[0;32m     59\u001b[0m     \u001b[38;5;66;03m# A TypeError occurs if the object does have such a method in its\u001b[39;00m\n\u001b[0;32m     60\u001b[0m     \u001b[38;5;66;03m# class, but its signature is not identical to that of NumPy's. This\u001b[39;00m\n\u001b[1;32m   (...)\u001b[0m\n\u001b[0;32m     64\u001b[0m     \u001b[38;5;66;03m# Call _wrapit from within the except clause to ensure a potential\u001b[39;00m\n\u001b[0;32m     65\u001b[0m     \u001b[38;5;66;03m# exception has a traceback chain.\u001b[39;00m\n\u001b[0;32m     66\u001b[0m     \u001b[38;5;28;01mreturn\u001b[39;00m _wrapit(obj, method, \u001b[38;5;241m*\u001b[39margs, \u001b[38;5;241m*\u001b[39m\u001b[38;5;241m*\u001b[39mkwds)\n",
      "\u001b[1;31mValueError\u001b[0m: cannot reshape array of size 4 into shape (2,3)"
     ]
    }
   ],
   "source": [
    "\n",
    "b = np.reshape(a, (2, 3))                # reshape to a 2D array with 2 rows and 3 columns\n"
   ]
  },
  {
   "cell_type": "markdown",
   "id": "e74be45c-c483-487e-9081-1aea194f75bb",
   "metadata": {},
   "source": [
    "<br>\n",
    "\n",
    "<br>\n",
    "\n",
    "<span style=\"color: #06fff0; font-size: 0.7rem;\">■■■■■■■■■■■■■■■■■■■■■■■■■■■■■■■■■■■■■■■■■■■■■■■■■■■■■■■■■■■■■■■■■■■■■■■■■■■■■■■■■■■■■■■■■■■■■■■■■■■■■■■■■■■■■■■</span>\n"
   ]
  },
  {
   "cell_type": "markdown",
   "id": "54967bf9-4270-490a-800a-aee55e2ba96e",
   "metadata": {},
   "source": [
    "<div style=\"background-color: #c4ffb9; padding: 10px;\"><code style=\"background-color: #c4ffb9;\">Numpy <span style=\"color: red;\">reshape()</span> returns a <span style=\"color: blue; font-size: 1rem;\"><strong>view</strong></span></code></div>\n",
    "\n"
   ]
  },
  {
   "cell_type": "markdown",
   "id": "1cd0b983-6d59-4640-aa7d-6c083a949141",
   "metadata": {},
   "source": [
    "<span style=\"font-size: 1.5rem;\">⭐&nbsp;&nbsp;</span>Note that array &nbsp;<code style=\"background-color: #efd0ff;\"> b </code>&nbsp; is a <strong>view</strong> of array &nbsp;<code style=\"background-color: #efd0ff;\"> a </code>&nbsp;. &nbsp;&nbsp;It means that <span style=\"color: blue;\">if you change an element of array &nbsp;<code style=\"background-color: #c2e7ff; color: blue;\"> b </code>&nbsp;, the change is also reflected in array &nbsp;<code style=\"background-color: #c2e7ff; color: blue;\"> a </code>&nbsp;</span>"
   ]
  },
  {
   "cell_type": "code",
   "execution_count": 103,
   "id": "ce26aca4-fb4a-4ad8-b9eb-02bbe04a35cb",
   "metadata": {},
   "outputs": [
    {
     "name": "stdout",
     "output_type": "stream",
     "text": [
      "[[0 2]\n",
      " [3 4]]\n",
      "[0 2 3 4]\n"
     ]
    }
   ],
   "source": [
    "\n",
    "a = np.arange(1, 5)\n",
    "b = np.reshape(a, (2, 2))\n",
    "\n",
    "\n",
    "b[0, 0] = 0                        # change the element [0,0]\n",
    "\n",
    "\n",
    "print(b)\n",
    "print(a)                           # since the array \"b\" is a view, so the change is also reflected in the array \"a\"\n"
   ]
  },
  {
   "cell_type": "markdown",
   "id": "a1e10ce0-cd24-45fa-9e0d-56f6006a015c",
   "metadata": {
    "jp-MarkdownHeadingCollapsed": true
   },
   "source": [
    "<br>\n",
    "\n",
    "### <div style=\"color: white; background-color: #af87ff; padding: 5px;\"> <code style=\"font-size: 1.2rem; background-color: #af87ff; color: white;\"><strong>numpy.transpose()</strong></code> </div>\n"
   ]
  },
  {
   "cell_type": "markdown",
   "id": "d4b7ea5d-77df-46ee-bbb8-30e8aff056c6",
   "metadata": {},
   "source": [
    "<code style=\"background-color: yellow; padding: 6px;\">numpy.<span style=\"color: red;\">transpose(<span style=\"color: black;\">arr</span>, <span style=\"color: black;\">axes</span><span style=\"color: #9b96a1;\">='None'</span>)</code> &nbsp;&nbsp;&nbsp;&nbsp;====>&nbsp;&nbsp;&nbsp;&nbsp;reverses or permutes the axes of an array or any object that can be converted to a numpy array.</span>\n",
    "\n",
    "<span style=\"margin-left: 285px;\">====>&nbsp;&nbsp;&nbsp;&nbsp;is equivalent to &nbsp;<code style=\"background-color: yellow;\">ndarray.<span style=\"color: red;\">T</span></code>&nbsp; property method that returns an array transposed.</span>\n",
    "\n",
    "<span style=\"margin-left: 285px;\">====>&nbsp;&nbsp;&nbsp;&nbsp;is equivalent to &nbsp;<code style=\"background-color: yellow;\">ndarray.<span style=\"color: red;\">transpose(<span style=\"color: black;\">*axes</span>)</span></code>&nbsp; method that returns an array transposed.</span>\n",
    "\n",
    "<span style=\"margin-left: 285px;\">====>&nbsp;&nbsp;&nbsp;&nbsp;It is commonly used to switch the rows and columns of a 2D array.</span>\n",
    "\n",
    "<br>\n",
    "\n",
    "<code style=\"color: white; background-color: black;\">Example - 1</code> &nbsp;&nbsp;<span style=\"color: #2fbd0b;\">1D array</span>"
   ]
  },
  {
   "cell_type": "code",
   "execution_count": 105,
   "id": "996c8c96-2bae-4767-8325-71789f65bd95",
   "metadata": {},
   "outputs": [
    {
     "name": "stdout",
     "output_type": "stream",
     "text": [
      "[1 2 3]\n"
     ]
    }
   ],
   "source": [
    "\n",
    "a = np.array([1, 2, 3])\n",
    "b = np.transpose(a)\n",
    "print(b)\n"
   ]
  },
  {
   "cell_type": "code",
   "execution_count": 106,
   "id": "ec51777d-6bc4-430d-8132-12683a5f3969",
   "metadata": {},
   "outputs": [
    {
     "name": "stdout",
     "output_type": "stream",
     "text": [
      "(3,)\n",
      "(3,)\n"
     ]
    }
   ],
   "source": [
    "\n",
    "print(a.shape)\n",
    "print(b.shape)\n"
   ]
  },
  {
   "cell_type": "markdown",
   "id": "c8732152-ab59-4243-bb92-763ff1cf6711",
   "metadata": {},
   "source": [
    "<br>\n",
    "\n",
    "As you can see, the &nbsp;<code style=\"color: red; background-color: yellow;\">transpose()</code>&nbsp; function has <strong>no effect on a 1-D array</strong> because a transposed vector is simply the same vector.\n",
    "\n",
    "<br>\n",
    "\n",
    "<code style=\"color: white; background-color: black;\">Example - 2</code> &nbsp;&nbsp;<span style=\"color: #2fbd0b;\">2D array</span>"
   ]
  },
  {
   "cell_type": "code",
   "execution_count": 109,
   "id": "ec75a82e-720e-4a37-b385-78a4245df941",
   "metadata": {},
   "outputs": [
    {
     "name": "stdout",
     "output_type": "stream",
     "text": [
      "[[1 4]\n",
      " [2 5]\n",
      " [3 6]]\n"
     ]
    }
   ],
   "source": [
    "\n",
    "a = np.array([\n",
    "    [1, 2, 3],\n",
    "    [4, 5, 6]\n",
    "])\n",
    "\n",
    "b = np.transpose(a)\n",
    "print(b)\n"
   ]
  },
  {
   "cell_type": "markdown",
   "id": "790fe04e-675a-4163-ac4a-b0855579402e",
   "metadata": {},
   "source": [
    "<div style=\"margin-left: 90px;\">\n",
    "\n",
    "![](../media/numpy_30.PNG)\n",
    "\n",
    "</div>"
   ]
  },
  {
   "cell_type": "code",
   "execution_count": 110,
   "id": "8b473d2b-e710-47b9-9acc-fb1854137d32",
   "metadata": {},
   "outputs": [
    {
     "name": "stdout",
     "output_type": "stream",
     "text": [
      "(2, 3)\n",
      "(3, 2)\n"
     ]
    }
   ],
   "source": [
    "\n",
    "print(a.shape)\n",
    "print(b.shape)\n"
   ]
  },
  {
   "cell_type": "markdown",
   "id": "bc441907-ccee-4920-a471-209e6dafdb68",
   "metadata": {},
   "source": [
    "<br>\n",
    "\n",
    "Basically, it swaps rows and columns of the array.\n",
    "\n",
    "After the transposition, the first row of array &nbsp;<code style=\"background-color: #efd0ff;\"> a </code>&nbsp; becomes the first column of the transposed array &nbsp;<code style=\"background-color: #efd0ff;\"> b </code>&nbsp;, the second row of array &nbsp;<code style=\"background-color: #efd0ff;\"> a </code>&nbsp; becomes the second column of the transposed array &nbsp;<code style=\"background-color: #efd0ff;\"> b </code>\n"
   ]
  },
  {
   "cell_type": "code",
   "execution_count": 115,
   "id": "33c6425a-ab56-435d-bc98-0833b3a0e5cd",
   "metadata": {},
   "outputs": [
    {
     "data": {
      "text/plain": [
       "array([[1, 2, 3],\n",
       "       [4, 5, 6]])"
      ]
     },
     "execution_count": 115,
     "metadata": {},
     "output_type": "execute_result"
    }
   ],
   "source": [
    "\n",
    "b.T\n"
   ]
  },
  {
   "cell_type": "markdown",
   "id": "1211ac3d-d021-44eb-898e-7064fae0cfb4",
   "metadata": {
    "jp-MarkdownHeadingCollapsed": true
   },
   "source": [
    "<br>\n",
    "\n",
    "### <div style=\"color: white; background-color: #af87ff; padding: 5px;\"> <code style=\"font-size: 1.2rem; background-color: #af87ff; color: white;\"><strong>numpy.sort()</strong></code> </div>\n"
   ]
  },
  {
   "cell_type": "markdown",
   "id": "55b6ae17-5719-4b5c-88cf-7ddd99ec4971",
   "metadata": {},
   "source": [
    "<code style=\"background-color: yellow; padding: 6px;\">numpy.<span style=\"color: red;\">sort(<span style=\"color: black;\">arr</span>, <span style=\"color: black;\">axes</span><span style=\"color: #9b96a1;\">='-1'</span>, <span style=\"color: black;\">kind</span><span style=\"color: #9b96a1;\">='None'</span>, <span style=\"color: black;\">order</span><span style=\"color: #9b96a1;\">='None'</span>)</code> &nbsp;&nbsp;&nbsp;&nbsp;====>&nbsp;&nbsp;&nbsp;&nbsp;returns a <u>sorted</u> <strong>copy</strong> of an array or any object that can be converted into an array</span>\n",
    "\n",
    "<span style=\"margin-left: 440px;\">====>&nbsp;&nbsp;&nbsp;&nbsp;<code style=\"color: red;\">kind</code> specifies the sorting algorithm like &nbsp;<u>quicksort</u> , &nbsp;<u>mergesort</u> , &nbsp;<u>'heapsort</u> and &nbsp;<u>stable</u> </span>\n",
    "\n",
    "<div style=\"display: flex; margin-left: 440px;\">\n",
    "<div>====>&nbsp;&nbsp;&nbsp;&nbsp;</div>\n",
    "<div><code style=\"color: red;\">order</code> specifies which fields to compare first, second, etc when sorting an array with fields defined. The order can be a string that represents the field to sort or a list of strings that represent a list of fields to sort</div>\n",
    "</div>\n",
    "\n",
    "<br>\n",
    "\n",
    "<code style=\"color: white; background-color: black;\">Example - 1</code> &nbsp;&nbsp;<span style=\"color: #2fbd0b;\">1D array</span>"
   ]
  },
  {
   "cell_type": "code",
   "execution_count": 122,
   "id": "f456b9ca-ac4c-4966-9b7f-9cd645521c5f",
   "metadata": {},
   "outputs": [
    {
     "name": "stdout",
     "output_type": "stream",
     "text": [
      "[1 2 3]\n"
     ]
    }
   ],
   "source": [
    "\n",
    "a = np.array([2, 3, 1])\n",
    "b = np.sort(a)                       # sorts in ascending order by default\n",
    "print(b)\n"
   ]
  },
  {
   "cell_type": "code",
   "execution_count": 121,
   "id": "eb9c9a6c-0396-4fce-acd9-3004ac75d3bc",
   "metadata": {},
   "outputs": [
    {
     "name": "stdout",
     "output_type": "stream",
     "text": [
      "[3 2 1]\n"
     ]
    }
   ],
   "source": [
    "\n",
    "a = np.array([2, 3, 1])\n",
    "b = np.sort(a)[::-1]                 # sorts in descending order\n",
    "print(b)\n"
   ]
  },
  {
   "cell_type": "markdown",
   "id": "2fe95f13-4559-4005-85ec-13a7fc5b42a7",
   "metadata": {},
   "source": [
    "<br>\n",
    "\n",
    "<code style=\"color: white; background-color: black;\">Example - 2</code> &nbsp;&nbsp;<span style=\"color: #2fbd0b;\">2D array</span>\n",
    "\n",
    "<u><span style=\"color: #a245ff;\">Case-1 :</span></u> &nbsp;&nbsp;<span style=\"color: red;\">axis = None</span> <br>\n",
    "\n",
    "<span style=\"color: blue;\">The array will be flattened to 1D array before sorting all the elements in it and then returned as the sorted 1D array.</span>"
   ]
  },
  {
   "cell_type": "code",
   "execution_count": 126,
   "id": "aa5c257d-1c04-4b45-9b84-d16df0d1d978",
   "metadata": {},
   "outputs": [
    {
     "name": "stdout",
     "output_type": "stream",
     "text": [
      "[1 2 3 4 5 6]\n"
     ]
    }
   ],
   "source": [
    "\n",
    "a = np.array([\n",
    "    [2, 3, 1],\n",
    "    [5, 6, 4]\n",
    "])\n",
    "\n",
    "b = np.sort(a, axis = None)\n",
    "print(b)\n"
   ]
  },
  {
   "cell_type": "markdown",
   "id": "ef67a922-8044-4d84-ae92-3c6428449770",
   "metadata": {},
   "source": [
    "<br>\n",
    "\n",
    "<u><span style=\"color: #a245ff;\">Case-2 :</span></u> &nbsp;&nbsp;<span style=\"color: red;\">axis = 0</span>"
   ]
  },
  {
   "cell_type": "code",
   "execution_count": 127,
   "id": "86330ded-662d-40e9-b14c-3a70ba1c942b",
   "metadata": {},
   "outputs": [
    {
     "name": "stdout",
     "output_type": "stream",
     "text": [
      "[[2 3 1]\n",
      " [5 6 4]]\n"
     ]
    }
   ],
   "source": [
    "\n",
    "a = np.array([\n",
    "    [5, 3, 4],\n",
    "    [2, 6, 1]\n",
    "])\n",
    "\n",
    "b = np.sort(a, axis=0)\n",
    "print(b)\n"
   ]
  },
  {
   "cell_type": "markdown",
   "id": "e9e57603-1db4-4923-96c3-303499685ba4",
   "metadata": {},
   "source": [
    "<div style=\"margin-left: 90px;\">\n",
    "\n",
    "![](../media/numpy_31.PNG)\n",
    "\n",
    "</div>\n",
    "\n",
    "<br>\n",
    "\n",
    "<u><span style=\"color: #a245ff;\">Case-3 :</span></u> &nbsp;&nbsp;<span style=\"color: red;\">axis = 1</span>"
   ]
  },
  {
   "cell_type": "code",
   "execution_count": 128,
   "id": "7948dd9a-7994-4bf0-8fbb-48ca79236635",
   "metadata": {},
   "outputs": [
    {
     "name": "stdout",
     "output_type": "stream",
     "text": [
      "[[3 4 5]\n",
      " [1 2 6]]\n"
     ]
    }
   ],
   "source": [
    "\n",
    "a = np.array([\n",
    "    [5, 3, 4],\n",
    "    [2, 6, 1]\n",
    "])\n",
    "\n",
    "b = np.sort(a, axis=1)\n",
    "print(b)\n"
   ]
  },
  {
   "cell_type": "markdown",
   "id": "3a66c1a8-7b36-4605-a97a-6cb35f8c4523",
   "metadata": {},
   "source": [
    "<div style=\"margin-left: 90px;\">\n",
    "\n",
    "![](../media/numpy_32.PNG)\n",
    "\n",
    "</div>\n",
    "\n",
    "Since <span style=\"color: red;\">axis = 1</span> is the <strong>last axis</strong> in a 2D array, therefore it is also the <strong>deafault</strong> one (i.e, <span style=\"color: red;\">axis = -1</span>)"
   ]
  },
  {
   "cell_type": "code",
   "execution_count": 137,
   "id": "c875f9c2-8c22-4756-b9a8-cc38bd759603",
   "metadata": {},
   "outputs": [
    {
     "name": "stdout",
     "output_type": "stream",
     "text": [
      "[[3 4 5]\n",
      " [1 2 6]]\n"
     ]
    }
   ],
   "source": [
    "\n",
    "a = np.array([\n",
    "    [5, 3, 4],\n",
    "    [2, 6, 1]\n",
    "])\n",
    "\n",
    "b = np.sort(a)          # equivalent to  ------>  b = np.sort(a, axis = -1)\n",
    "print(b)\n"
   ]
  },
  {
   "cell_type": "code",
   "execution_count": 139,
   "id": "c69c2d71-2d24-43bb-ac52-7329a7fdb782",
   "metadata": {},
   "outputs": [
    {
     "name": "stdout",
     "output_type": "stream",
     "text": [
      "[[1 2 3]\n",
      " [4 5 6]]\n"
     ]
    }
   ],
   "source": [
    "\n",
    "a = np.array([\n",
    "    [2, 3, 1],\n",
    "    [5, 6, 4]\n",
    "])\n",
    "\n",
    "b = np.sort(a)          # equivalent to  ------>  b = np.sort(a, axis = -1)\n",
    "print(b)\n"
   ]
  },
  {
   "cell_type": "markdown",
   "id": "9fa010f1-a4e4-4692-a1be-0f11a57f8520",
   "metadata": {},
   "source": [
    "<br>\n",
    "\n",
    "<code style=\"color: white; background-color: black;\">Example - 3</code> &nbsp;&nbsp;<span style=\"color: #2fbd0b;\">Using the numpy <code style=\"background-color: yellow;\">np.<span style=\"color: red;\">sort()</span></code> function to sort a structured array</span>\n",
    "\n"
   ]
  },
  {
   "cell_type": "code",
   "execution_count": 11,
   "id": "d861d7ba-07a4-425c-b8b5-f9c0a9406683",
   "metadata": {},
   "outputs": [
    {
     "name": "stdout",
     "output_type": "stream",
     "text": [
      "[(b'Jane', 1. , 11000.) (b'Bob', 1. , 15500.) (b'Alice', 1.5, 12500.)]\n"
     ]
    }
   ],
   "source": [
    "\n",
    "dtype = [\n",
    "    ('name', 'S10'),\n",
    "    ('year_of_services', float),\n",
    "    ('salary', float)\n",
    "]                                                 # list of tuples\n",
    "\n",
    "employees = [\n",
    "    ('Alice', 1.5, 12500),\n",
    "    ('Bob', 1, 15500),\n",
    "    ('Jane', 1, 11000)\n",
    "]                                                 # list of tuples\n",
    "\n",
    "payroll = np.array(employees, dtype=dtype)\n",
    "\n",
    "result = np.sort(\n",
    "    payroll,\n",
    "    order=['year_of_services', 'salary']\n",
    ")\n",
    "\n",
    "print(result)\n"
   ]
  },
  {
   "cell_type": "markdown",
   "id": "96abdeb2-8a7e-4f34-a4f2-388634cb2aeb",
   "metadata": {},
   "source": [
    "\n",
    "<span style=\"color: #c658fc;\">By default, NumPy shows <strong>byte strings</strong> (e.g., b'Jane') for strings since we used 'S10'</span>\n",
    "\n",
    "<br>\n",
    "\n",
    "<div style=\"display: flex;\">\n",
    "<div><strong>Notice&nbsp;the&nbsp;Order&nbsp;:&nbsp;&nbsp;</strong></div>\n",
    "<div>The output is sorted based on the fields, which may be due to the way NumPy handles structured arrays internally. &nbsp;<u>Sorting behavior can vary by version and configuration</u>, but the structure and fields are preserved.</div>\n",
    "</div>\n",
    "\n",
    "<br>\n",
    "\n",
    "You can access each field in the structured array like this :"
   ]
  },
  {
   "cell_type": "code",
   "execution_count": 18,
   "id": "7e6f4ee2-0d3c-4215-a964-2015a1e9fcfe",
   "metadata": {},
   "outputs": [
    {
     "name": "stdout",
     "output_type": "stream",
     "text": [
      "[(b'Alice', 1.5, 12500.) (b'Bob', 1. , 15500.) (b'Jane', 1. , 11000.)]\n",
      "[b'Alice' b'Bob' b'Jane']\n",
      "[1.5 1.  1. ]\n",
      "[12500. 15500. 11000.]\n"
     ]
    }
   ],
   "source": [
    "\n",
    "print(payroll)                                    # OUTPUT:  [(b'Alice', 1.5, 12500.) (b'Bob', 1. , 15500.) (b'Jane', 1. , 11000.)]\n",
    "\n",
    "print(payroll['name'])                            # OUTPUT:  [b'Jane' b'Bob' b'Alice']\n",
    "print(payroll['year_of_services'])                # OUTPUT:  [1.  1.  1.5]\n",
    "print(payroll['salary'])                          # OUTPUT:  [11000. 15500. 12500.]\n"
   ]
  },
  {
   "cell_type": "markdown",
   "id": "26dfe242-2a09-4692-909e-f0113f904782",
   "metadata": {},
   "source": [
    "<br>\n",
    "\n",
    "<span style=\"color: #06fff0; font-size: 0.7rem;\">■■■■■■■■■■■■■■■■■■■■■■■■■■■■■■■■■■■■■■■■■■■■■■■■■■■■■■■■■■■■■■■■■■■■■■■■■■■■■■■■■■■■■■■■■■■■■■■■■■■■■■■■■■■■■■■</span>\n",
    "\n",
    "<br>"
   ]
  },
  {
   "cell_type": "markdown",
   "id": "0d843c4e-6798-4f84-8c2b-dbb5c9c96052",
   "metadata": {},
   "source": [
    "<code style=\"background-color: yellow; padding: 7px;\">np.<span style=\"color: red;\">argsort( <span style=\"background-color: white; color: black;\">arr</span> )</span></code>"
   ]
  },
  {
   "cell_type": "markdown",
   "id": "80bf516e-eedf-4811-879b-a529f65a6dcf",
   "metadata": {},
   "source": [
    "<div style=\"margin-left: 70px;\">\n",
    "    \n",
    "=====> &nbsp;&nbsp;It sorts a &nbsp;<u>one-dimensional array</u>&nbsp; or &nbsp;<u>each row of a multi-dimensional array individually</u>&nbsp; and returns the indices of the sorted elements.\n",
    "\n",
    "=====> &nbsp;&nbsp;It is typically used for sorting a <strong>single array</strong>.\n",
    "\n",
    "=====> &nbsp;&nbsp;It performs a <span style=\"color: blue;\"><strong>stable sort</strong></span>, &nbsp;meaning that when two elements have the same value, &nbsp;they <u>retain their relative order</u> in the sorted output.\n",
    "\n",
    "</div>"
   ]
  },
  {
   "cell_type": "code",
   "execution_count": 21,
   "id": "51541fb8-cb96-4231-9369-15789625525f",
   "metadata": {},
   "outputs": [
    {
     "data": {
      "text/plain": [
       "array([1, 2, 0, 3], dtype=int64)"
      ]
     },
     "execution_count": 21,
     "metadata": {},
     "output_type": "execute_result"
    }
   ],
   "source": [
    "\n",
    "arr = np.array([3, 1, 2, 4])\n",
    "\n",
    "sorted_indices = np.argsort(arr)\n",
    "sorted_indices                                    # OUTPUT: [1  2  0  3]   ---------->   [ arr[1]   arr[2]   arr[0]   arr[3] ]\n"
   ]
  },
  {
   "cell_type": "markdown",
   "id": "9c56faaa-aaeb-4f52-9518-92498584e85a",
   "metadata": {},
   "source": [
    "<br>\n",
    "\n",
    "<span style=\"color: #06fff0; font-size: 0.7rem;\">■■■■■■■■■■■■■■■■■■■■■■■■■■■■■■■■■■■■■■■■■■■■■■■■■■■■■■■■■■■■■■■■■■■■■■■■■■■■■■■■■■■■■■■■■■■■■■■■■■■■■■■■■■■■■■■</span>\n",
    "\n",
    "<br>"
   ]
  },
  {
   "cell_type": "markdown",
   "id": "de0fa789-c7cf-4643-a532-404bab1ae5ed",
   "metadata": {},
   "source": [
    "<code style=\"background-color: yellow; padding: 7px;\">np.<span style=\"color: red;\">lexsort( <span style=\"background-color: white; color: black;\">(arr1, arr2)</span> )</span></code>"
   ]
  },
  {
   "cell_type": "markdown",
   "id": "ceba59c7-c052-493a-9c0e-079518ae0ffd",
   "metadata": {},
   "source": [
    "<div style=\"margin-left: 70px;\">\n",
    "    \n",
    "=====> &nbsp;&nbsp;it is used to perform an indirect stable sort using <strong>multiple keys (or columns)</strong>, especially useful for structured or multi-dimensional data.\n",
    "\n",
    "=====> &nbsp;&nbsp;It sorts data in a <strong>lexicographical manner</strong>, &nbsp;which means <u>it first sorts using the last key, &nbsp;then the second-to-last key, &nbsp;and so on</u>.\n",
    "\n",
    "=====> &nbsp;&nbsp;It is <strong>specifically designed for sorting based on multiple criteria (arrays)</strong>. \n",
    "<br>&nbsp;&nbsp;&nbsp;&nbsp;&nbsp;&nbsp;&nbsp;&nbsp;&nbsp;&nbsp;&nbsp;&nbsp;&nbsp;&nbsp;&nbsp;&nbsp;&nbsp;&nbsp;<u>It allows you to sort by one array while breaking ties by looking at additional arrays</u>. \n",
    "<br>&nbsp;&nbsp;&nbsp;&nbsp;&nbsp;&nbsp;&nbsp;&nbsp;&nbsp;&nbsp;&nbsp;&nbsp;&nbsp;&nbsp;&nbsp;&nbsp;&nbsp;&nbsp;Typically used for <strong>Column wise sorting</strong>.\n",
    "\n",
    "</div>"
   ]
  },
  {
   "cell_type": "code",
   "execution_count": 23,
   "id": "75fe7b10-9eb3-40dc-8954-beaff5ea438c",
   "metadata": {},
   "outputs": [
    {
     "name": "stdout",
     "output_type": "stream",
     "text": [
      "[3 2 0 1]\n"
     ]
    }
   ],
   "source": [
    "\n",
    "# Two arrays that we want to sort by\n",
    "names = np.array(['Bob', 'Alice', 'Eve', 'Bob'])\n",
    "ages = np.array([25, 30, 22, 22])\n",
    "\n",
    "\n",
    "# Perform lexsort using the 'ages' array as the primary key and 'names' as the secondary key\n",
    "sorted_indices = np.lexsort((names, ages))\n",
    "print(sorted_indices)\n"
   ]
  },
  {
   "cell_type": "markdown",
   "id": "446ab080-2665-4877-8652-04544e1fb640",
   "metadata": {},
   "source": [
    "\n",
    "<span style=\"color: #a245ff;\"> The output &nbsp;<code>[3, 2, 0, 1]</code>&nbsp; indicates that the sorting happened by <strong>ages</strong> first, and <u>for equal ages, it sorted by <strong>names</strong></u> .</span>\n"
   ]
  },
  {
   "cell_type": "markdown",
   "id": "16e7a159-fc9b-4a52-8f93-2b74de4b7694",
   "metadata": {
    "jp-MarkdownHeadingCollapsed": true
   },
   "source": [
    "<br>\n",
    "\n",
    "### <div style=\"color: white; background-color: #af87ff; padding: 5px;\"> <code style=\"font-size: 1.2rem; background-color: #af87ff; color: white;\"><strong>numpy.flatten()</strong></code> </div>\n"
   ]
  },
  {
   "cell_type": "markdown",
   "id": "8d2eae3d-6014-41a5-b01e-e7484146f889",
   "metadata": {},
   "source": [
    "\n",
    "<code style=\"background-color: yellow; padding: 6px;\">ndarray.<span style=\"color: red;\">flatten(<span style=\"color: black;\">order</span><span style=\"color: #9b96a1;\">='C'</span>)</code> &nbsp;&nbsp;&nbsp;-&nbsp;&nbsp; returns a <code style=\"background-color: blue; color: white;\">copy</code> of the array <strong>collapsed into one dimension</strong></span>  <br>\n",
    "<span style=\"margin-left: 228px;\"> -&nbsp;&nbsp; <code style=\"background-color: yellow;\">'C'</code> means to flatten array elements into <span style=\"color: blue;\">row-major order</span> (C-style)  &nbsp;&nbsp;========>&nbsp;&nbsp;  **DEFAULT**</span>   <br>\n",
    "<span style=\"margin-left: 228px;\"> -&nbsp;&nbsp; <code style=\"background-color: yellow;\">'F'</code> means to flatten array elements into <span style=\"color: blue;\">column-major order</span> (Fortran-style)</span>  <br>\n",
    "<span style=\"margin-left: 228px;\"> -&nbsp;&nbsp; <code style=\"background-color: yellow;\">'A'</code> means to flatten array elements in &nbsp;<u><span style=\"color: blue;\">column-major order</span> if a is Fortran contiguous in memory</u> &nbsp;or&nbsp; <u>row-major otherwise</u></span>  <br>\n",
    "<span style=\"margin-left: 228px;\"> -&nbsp;&nbsp; <code style=\"background-color: yellow;\">'K'</code> means to flatten array elements in order of the elements laid out in memory\n",
    "\n",
    "<br>\n",
    "\n",
    "<code style=\"color: white; background-color: black;\">Example - 1</code> &nbsp;&nbsp;<span style=\"color: #2fbd0b;\">Using <span style=\"color: red;\">flatten( )</span> method with a multidimensional array</span>"
   ]
  },
  {
   "cell_type": "code",
   "execution_count": 33,
   "id": "ac70c9f9-99bb-471b-a6cb-97c4f6e3e192",
   "metadata": {},
   "outputs": [
    {
     "name": "stdout",
     "output_type": "stream",
     "text": [
      "[1 2 3 4]\n"
     ]
    }
   ],
   "source": [
    "\n",
    "a = np.array([[1, 2], \n",
    "              [3, 4]])\n",
    "\n",
    "\n",
    "b = a.flatten()                    # order = \"C\"   ----->   row major order\n",
    "print(b)\n"
   ]
  },
  {
   "cell_type": "markdown",
   "id": "3d452d49-79c9-4b66-bbdd-6cabf773dd8e",
   "metadata": {},
   "source": [
    "\n",
    "<div style=\"margin-left: 100px;\">\n",
    "\n",
    "![](../media/numpy_33.PNG)\n",
    "\n",
    "</div>\n",
    "\n",
    "<span style=\"font-size: 1.5rem;\">⭐&nbsp;&nbsp;</span><strong>Note</strong> that &nbsp;<code style=\"background-color: #efd0ff;\"> b </code>&nbsp; is a copy, not a view of the array &nbsp;<code style=\"background-color: #efd0ff;\"> a </code>&nbsp;. &nbsp;If you change elements in array &nbsp;<code style=\"background-color: #efd0ff;\"> b </code>&nbsp;, the elements in array &nbsp;<code style=\"background-color: #efd0ff;\"> a </code>&nbsp; are not changed. &nbsp;<span style=\"color: #a245ff;\">For example :</span>"
   ]
  },
  {
   "cell_type": "code",
   "execution_count": 32,
   "id": "19a4297d-6c44-489d-96c5-2fc29150f881",
   "metadata": {},
   "outputs": [
    {
     "name": "stdout",
     "output_type": "stream",
     "text": [
      "[0 2 3 4]\n",
      "[[1 2]\n",
      " [3 4]]\n"
     ]
    }
   ],
   "source": [
    "\n",
    "a = np.array([[1, 2], [3, 4]])\n",
    "b = a.flatten()\n",
    "\n",
    "b[0] = 0                           # change element at index 0\n",
    "print(b)\n",
    "\n",
    "print(a)                           # display the array 'a'    --------->    the change is not refllected in the original array 'a'\n"
   ]
  },
  {
   "cell_type": "markdown",
   "id": "33a873fc-b8d4-4f0a-a76c-dd95fe60aceb",
   "metadata": {},
   "source": [
    "\n",
    "<br>\n",
    "\n",
    "Also note that you <strong>cannot</strong> use <code>np.<span style=\"color: red;\">flatten( )</span></code> method like other methods :"
   ]
  },
  {
   "cell_type": "code",
   "execution_count": 29,
   "id": "35525097-d392-4ebb-9d79-a849f5309bcf",
   "metadata": {},
   "outputs": [
    {
     "ename": "AttributeError",
     "evalue": "module 'numpy' has no attribute 'flatten'",
     "output_type": "error",
     "traceback": [
      "\u001b[1;31m---------------------------------------------------------------------------\u001b[0m",
      "\u001b[1;31mAttributeError\u001b[0m                            Traceback (most recent call last)",
      "Cell \u001b[1;32mIn[29], line 1\u001b[0m\n\u001b[1;32m----> 1\u001b[0m c \u001b[38;5;241m=\u001b[39m \u001b[43mnp\u001b[49m\u001b[38;5;241;43m.\u001b[39;49m\u001b[43mflatten\u001b[49m(a)\n\u001b[0;32m      2\u001b[0m \u001b[38;5;28mprint\u001b[39m(c)\n",
      "File \u001b[1;32m~\\AppData\\Local\\Programs\\Python\\Python311\\Lib\\site-packages\\numpy\\__init__.py:311\u001b[0m, in \u001b[0;36m__getattr__\u001b[1;34m(attr)\u001b[0m\n\u001b[0;32m    308\u001b[0m     \u001b[38;5;28;01mfrom\u001b[39;00m \u001b[38;5;21;01m.\u001b[39;00m\u001b[38;5;21;01mtesting\u001b[39;00m \u001b[38;5;28;01mimport\u001b[39;00m Tester\n\u001b[0;32m    309\u001b[0m     \u001b[38;5;28;01mreturn\u001b[39;00m Tester\n\u001b[1;32m--> 311\u001b[0m \u001b[38;5;28;01mraise\u001b[39;00m \u001b[38;5;167;01mAttributeError\u001b[39;00m(\u001b[38;5;124m\"\u001b[39m\u001b[38;5;124mmodule \u001b[39m\u001b[38;5;132;01m{!r}\u001b[39;00m\u001b[38;5;124m has no attribute \u001b[39m\u001b[38;5;124m\"\u001b[39m\n\u001b[0;32m    312\u001b[0m                      \u001b[38;5;124m\"\u001b[39m\u001b[38;5;132;01m{!r}\u001b[39;00m\u001b[38;5;124m\"\u001b[39m\u001b[38;5;241m.\u001b[39mformat(\u001b[38;5;18m__name__\u001b[39m, attr))\n",
      "\u001b[1;31mAttributeError\u001b[0m: module 'numpy' has no attribute 'flatten'"
     ]
    }
   ],
   "source": [
    "\n",
    "c = np.flatten(a)\n",
    "print(c)\n"
   ]
  },
  {
   "cell_type": "markdown",
   "id": "65bb658c-df89-491a-966f-cf316f26fdd7",
   "metadata": {},
   "source": [
    "<br>\n",
    "\n",
    "<code style=\"color: white; background-color: black;\">Example - 2</code> &nbsp;&nbsp;<span style=\"color: #2fbd0b;\">Using <span style=\"color: red;\">flatten( )</span> method with a multidimensional array to flatten an array using <strong>column-major order</strong></span>"
   ]
  },
  {
   "cell_type": "code",
   "execution_count": 35,
   "id": "8addbdb0-5dba-4558-b5e5-468067437968",
   "metadata": {},
   "outputs": [
    {
     "name": "stdout",
     "output_type": "stream",
     "text": [
      "[1 3 2 4]\n"
     ]
    }
   ],
   "source": [
    "\n",
    "a = np.array([[1, 2], \n",
    "              [3, 4]])\n",
    "\n",
    "b = a.flatten(order='F')\n",
    "\n",
    "print(b)\n"
   ]
  },
  {
   "cell_type": "markdown",
   "id": "96861bad-e0b9-45a9-87e5-e65ca9d8a352",
   "metadata": {},
   "source": [
    "<div style=\"margin-left: 100px;\">\n",
    "\n",
    "![](../media/numpy_34.PNG)\n",
    "\n",
    "</div>"
   ]
  },
  {
   "cell_type": "markdown",
   "id": "b052a3dc-8abb-48b9-90e0-bc7a8cfd9e9f",
   "metadata": {
    "jp-MarkdownHeadingCollapsed": true
   },
   "source": [
    "<br>\n",
    "\n",
    "### <div style=\"color: white; background-color: #af87ff; padding: 5px;\"> <code style=\"font-size: 1.2rem; background-color: #af87ff; color: white;\"><strong>numpy.ravel()</strong></code> </div>\n"
   ]
  },
  {
   "cell_type": "markdown",
   "id": "ef19c23c-5fb3-47ae-8f56-59dfca97d265",
   "metadata": {},
   "source": [
    "\n",
    "<code style=\"background-color: yellow; padding: 6px;\">ndarray.<span style=\"color: red;\">ravel(<span style=\"color: black;\">order</span><span style=\"color: #9b96a1;\">='C'</span>)</code> &nbsp;&nbsp;&nbsp;-&nbsp;&nbsp; returns a contiguous flattened <code style=\"color: white; background-color: blue;\">view</code> version of the array  <br>\n",
    "<span style=\"margin-left: 212px;\"> -&nbsp;&nbsp; <code style=\"background-color: yellow;\">'C'</code> means to flatten array elements into <span style=\"color: blue;\">row-major order</span> (C-style)  &nbsp;&nbsp;========>&nbsp;&nbsp;  **DEFAULT**</span>   <br>\n",
    "<span style=\"margin-left: 212px;\"> -&nbsp;&nbsp; <code style=\"background-color: yellow;\">'F'</code> means to flatten array elements into <span style=\"color: blue;\">column-major order</span> (Fortran-style)</span>  <br>\n",
    "<span style=\"margin-left: 212px;\"> -&nbsp;&nbsp; <code style=\"background-color: yellow;\">'A'</code> means to flatten array elements in &nbsp;<u><span style=\"color: blue;\">column-major order</span> if a is Fortran contiguous in memory</u> &nbsp;or&nbsp; <u>row-major otherwise</u></span>  <br>\n",
    "<span style=\"margin-left: 212px;\"> -&nbsp;&nbsp; <code style=\"background-color: yellow;\">'K'</code> means to flatten array elements in order of the elements laid out in memory\n",
    "\n",
    "<br>\n",
    "\n",
    "<code style=\"color: white; background-color: black;\">Example - 1</code> &nbsp;&nbsp;<span style=\"color: #2fbd0b;\">Using <span style=\"color: red;\">flatten( )</span> function to flatten an array</span>"
   ]
  },
  {
   "cell_type": "code",
   "execution_count": 37,
   "id": "09836087-0ae6-448b-bb37-e72bb59e50c7",
   "metadata": {},
   "outputs": [
    {
     "name": "stdout",
     "output_type": "stream",
     "text": [
      "[1 2 3 4]\n"
     ]
    }
   ],
   "source": [
    "\n",
    "a = np.array([[1, 2], \n",
    "              [3, 4]])\n",
    "\n",
    "b = np.ravel(a)\n",
    "\n",
    "print(b)\n"
   ]
  },
  {
   "cell_type": "markdown",
   "id": "f4d36f3d-7528-4d70-95da-60e4d263daab",
   "metadata": {},
   "source": [
    "<div style=\"margin-left: 120px;\">\n",
    "\n",
    "![](../media/numpy_35.PNG)\n",
    "\n",
    "</div>\n",
    "\n",
    "<br>\n",
    "\n",
    "<code style=\"color: white; background-color: black;\">Example - 2</code> &nbsp;&nbsp;<span style=\"color: #2fbd0b;\"><span style=\"color: red;\">ravel( )</span> &nbsp;function &nbsp;<strong>vs</strong> &nbsp;<span style=\"color: red;\">flatten( )</span> &nbsp;method</span>"
   ]
  },
  {
   "cell_type": "code",
   "execution_count": 51,
   "id": "7e719b1b-a457-4972-bb57-b1bbc2b43295",
   "metadata": {},
   "outputs": [
    {
     "name": "stdout",
     "output_type": "stream",
     "text": [
      "[0 2 3 4]\n",
      "[[0 2]\n",
      " [3 4]]\n"
     ]
    }
   ],
   "source": [
    "\n",
    "a = np.array([[1, 2], \n",
    "              [3, 4]])\n",
    "\n",
    "b = np.ravel(a)\n",
    "\n",
    "b[0] = 0                            # change element of the array \"b\" at index 0\n",
    "\n",
    "print(b)\n",
    "print(a)                            # the change is reflected in the original array \"a\"\n"
   ]
  },
  {
   "cell_type": "code",
   "execution_count": 49,
   "id": "d657fc64-5a43-4957-a88b-0b27a5caac96",
   "metadata": {},
   "outputs": [
    {
     "name": "stdout",
     "output_type": "stream",
     "text": [
      "[0 2 3 4]\n",
      "[[1 2]\n",
      " [3 4]]\n"
     ]
    }
   ],
   "source": [
    "\n",
    "a = np.array([[1, 2], \n",
    "              [3, 4]])\n",
    "\n",
    "b = a.flatten()\n",
    "\n",
    "b[0] = 0                            # change element of the array \"b\" at index 0\n",
    "\n",
    "print(b)\n",
    "print(a)                            # the change is not reflected in the original array \"a\"\n"
   ]
  },
  {
   "cell_type": "markdown",
   "id": "a83e7dfe-caf6-46e6-a046-35fda8a20430",
   "metadata": {},
   "source": [
    "<br>\n",
    "\n",
    "| <code style=\"background-color: white; font-size: 1rem;\">flatten(&nbsp;)</code> | <code style=\"background-color: white; font-size: 1rem;\">ravel(&nbsp;)</code> |\n",
    "|-----------|---------|\n",
    "| <br>you can call the &nbsp;<code style=\"background-color: yellow;\">arr.<span style=\"color: red;\">flatten()</span></code>&nbsp; method on a <code style=\"background-color: blue; color: white;\">ndarray</code> &nbsp;&nbsp;&nbsp;&nbsp;&nbsp;&nbsp;&nbsp;<br><br>|&nbsp;&nbsp;&nbsp;&nbsp;&nbsp;&nbsp;&nbsp; you can call the <code style=\"background-color: yellow;\">np.<span style=\"color: red;\">ravel(<span style=\"color: black;\">arr</span>)</span></code> function on an <code style=\"background-color: blue; color: white;\">array</code> or an <code style=\"background-color: blue; color: white;\">array-like object</code> |\n",
    "| <br>returns a <strong>copy</strong> of the input array &nbsp;&nbsp;&nbsp;&nbsp;&nbsp;&nbsp;&nbsp;<br><br>|&nbsp;&nbsp;&nbsp;&nbsp;&nbsp;&nbsp;&nbsp; returns a <strong>view</strong> of the input array  |"
   ]
  },
  {
   "cell_type": "markdown",
   "id": "aa13c2aa-c9c7-4c4c-8ff5-79dc984b7329",
   "metadata": {
    "jp-MarkdownHeadingCollapsed": true
   },
   "source": [
    "<br>\n",
    "\n",
    "### <div style=\"color: white; background-color: #af87ff; padding: 5px;\"> <code style=\"font-size: 1.2rem; background-color: #af87ff; color: white;\"><strong>numpy.expand_dims()</strong></code> </div>\n"
   ]
  },
  {
   "cell_type": "markdown",
   "id": "fa6b3bbe-3d69-41ef-80f7-1ddc4ce02c03",
   "metadata": {},
   "source": [
    "\n",
    "<code style=\"background-color: yellow;\">numpy.<span style=\"color: red;\">expand_dims(<span style=\"color: black;\">arr</span>, <span style=\"color: black;\">axis</span>)</span></code>  &nbsp;&nbsp;&nbsp;=====>&nbsp;&nbsp;&nbsp; is used <u>to insert a new axis at a specified position</u> in the array.\n",
    "\n",
    "<div style=\"display: flex; margin-left: 230px;\">\n",
    "<div>&nbsp;&nbsp;&nbsp;=====>&nbsp;&nbsp;&nbsp;</div>\n",
    "<div>This helps to reshape an array temporarily without altering its data, &nbsp;and it’s especially helpful when you need to perform operations on arrays with different shapes.</div>\n",
    "</div>\n"
   ]
  },
  {
   "cell_type": "code",
   "execution_count": 83,
   "id": "05e89990-56c8-4469-a2d9-3280f48fab28",
   "metadata": {},
   "outputs": [
    {
     "name": "stdout",
     "output_type": "stream",
     "text": [
      "arr                 ===========>  [1 2 3]\n",
      "arr.shape           ===========>  (3,)\n",
      "arr.ndim            ===========>  1 \n",
      "\n",
      "arr_expanded        ===========>  [[1 2 3]]\n",
      "arr_expanded.shape  ===========>  (1, 3)\n",
      "arr_expanded.ndim   ===========>  2\n"
     ]
    }
   ],
   "source": [
    "\n",
    "arr = np.array([1, 2, 3])\n",
    "print('arr                 ===========> ', arr)\n",
    "print('arr.shape           ===========> ', arr.shape)                        #  OUTPUT:  (3,)\n",
    "print('arr.ndim            ===========> ', arr.ndim, \"\\n\")                   #  OUTPUT:  1\n",
    "\n",
    "\n",
    "arr_expanded = np.expand_dims(arr, axis=0)                                   #  adds a new axis at position 0 (turns it into a 2D row vector)\n",
    "print('arr_expanded        ===========> ', arr_expanded)                     #  OUTPUT:  [[1 2 3]]\n",
    "print('arr_expanded.shape  ===========> ', arr_expanded.shape)               #  OUTPUT:  (1, 3)\n",
    "print('arr_expanded.ndim   ===========> ', arr_expanded.ndim)                #  OUTPUT:  2\n"
   ]
  },
  {
   "cell_type": "markdown",
   "id": "e7692f4e-1e07-4d38-aea9-c4841860d223",
   "metadata": {
    "jp-MarkdownHeadingCollapsed": true
   },
   "source": [
    "<br>\n",
    "\n",
    "### <div style=\"color: white; background-color: #af87ff; padding: 5px;\"> <code style=\"font-size: 1.2rem; background-color: #af87ff; color: white;\"><strong>numpy.squeeze()</strong></code> </div>\n"
   ]
  },
  {
   "cell_type": "markdown",
   "id": "37ffa143-f46f-454a-857d-55b36c070cb5",
   "metadata": {},
   "source": [
    "\n",
    "<code style=\"background-color: yellow;\">numpy.<span style=\"color: red;\">squeeze(<span style=\"color: black;\">arr</span>, <span style=\"color: black;\">axis</span>)</span></code>  &nbsp;&nbsp;&nbsp;=====>&nbsp;&nbsp;&nbsp; removes all axes of length 1 from an array.\n",
    "\n",
    "<span style=\"margin-left: 198px;\">&nbsp;&nbsp;&nbsp;=====>&nbsp;&nbsp;&nbsp; It is commonly used to reduce the dimensionality of arrays.</span>\n"
   ]
  },
  {
   "cell_type": "code",
   "execution_count": 91,
   "id": "a29e9a92-9c63-40d6-b2df-354dfe9c8c44",
   "metadata": {},
   "outputs": [
    {
     "name": "stdout",
     "output_type": "stream",
     "text": [
      "arr                 ===========>  [[[1 2 3]]]\n",
      "arr.shape           ===========>  (1, 1, 3)\n",
      "arr.ndim            ===========>  3 \n",
      "\n",
      "squeezed_arr        ===========>  [1 2 3]\n",
      "squeezed_arr.shape  ===========>  (3,)\n",
      "squeezed_arr.ndim   ===========>  1\n"
     ]
    }
   ],
   "source": [
    "\n",
    "arr = np.array([[[1, 2, 3]]])\n",
    "print('arr                 ===========> ', arr)\n",
    "print('arr.shape           ===========> ', arr.shape)\n",
    "print('arr.ndim            ===========> ', arr.ndim, \"\\n\")\n",
    "\n",
    "\n",
    "squeezed_arr = np.squeeze(arr)                                           #  removes axes of length 1 from an array (turns it into a 2D row vector)\n",
    "print('squeezed_arr        ===========> ', squeezed_arr)\n",
    "print('squeezed_arr.shape  ===========> ', squeezed_arr.shape)\n",
    "print('squeezed_arr.ndim   ===========> ', squeezed_arr.ndim)\n"
   ]
  },
  {
   "cell_type": "markdown",
   "id": "1ab22f31-b145-41f8-84ef-8972fcb826b8",
   "metadata": {},
   "source": [
    "<br>\n",
    "\n",
    "<span style=\"color: #a245ff;\">Since &nbsp;<code>arr</code> has a shape of &nbsp;<code>(1, 1, 3)</code>&nbsp;, squeeze will remove both the first and second dimensions (because they are of length 1).</span>\n",
    "\n",
    "<span style=\"color: #a245ff;\">After removing these two dimensions, &nbsp;<code>squeezed_arr</code>&nbsp; has a shape of &nbsp;<code>(3,)</code> , which is a 1D array.</span>"
   ]
  },
  {
   "cell_type": "markdown",
   "id": "83e67b76-7dfb-4550-bd49-3d5af294b385",
   "metadata": {},
   "source": [
    "<br>\n",
    "\n",
    "### <div style=\"color: white; background-color: #af87ff; padding: 5px;\"> <code style=\"font-size: 1.2rem; background-color: #af87ff; color: white;\"><strong>numpy.insert()</strong></code> </div>\n"
   ]
  },
  {
   "cell_type": "markdown",
   "id": "a7bb4144-54cc-4385-b931-30bbc0ead535",
   "metadata": {},
   "source": [
    "<code style=\"background-color: yellow;\">numpy.<span style=\"color: red;\">insert(<span style=\"color: black;\">arr</span>, <span style=\"color: black;\">index_obj</span>, <span style=\"color: black;\">values</span>, <span style=\"color: black;\">axis</span>)</span></code>  &nbsp;&nbsp;&nbsp;=====>&nbsp;&nbsp;&nbsp; Insert values along the given axis before the given indices.\n",
    "\n",
    "<br>\n",
    "\n",
    "<code style=\"color: white; background-color: black;\">Example - 1</code> &nbsp;&nbsp;&nbsp;<span style=\"color: blue;\">axis = 0</span>"
   ]
  },
  {
   "cell_type": "code",
   "execution_count": 19,
   "id": "e2b8dc67-4bee-4291-ab94-63fa41fbfc03",
   "metadata": {},
   "outputs": [
    {
     "name": "stdout",
     "output_type": "stream",
     "text": [
      "[[0 1]\n",
      " [2 3]\n",
      " [4 5]]\n",
      "\n",
      "\n",
      "[0 6 1 2 3 4 5]\n"
     ]
    }
   ],
   "source": [
    "\n",
    "a = np.arange(6).reshape(3, 2)\n",
    "b = np.insert(a, 1, 6)                     # np.insert(a, 1, 6, axis=0)\n",
    "\n",
    "print(a)\n",
    "print(\"\\n\")\n",
    "print(b)\n"
   ]
  },
  {
   "cell_type": "markdown",
   "id": "86c9bc56-df38-45b5-a411-3f6677493d9e",
   "metadata": {},
   "source": [
    "<br>\n",
    "\n",
    "<div style=\"margin-left: 120px;\">\n",
    "\n",
    "![](../media/numpy_73.PNG)\n",
    "\n",
    "</div>\n",
    "\n",
    "<br>\n",
    "\n",
    "<code style=\"color: white; background-color: black;\">Example - 2A</code> &nbsp;&nbsp;&nbsp;<span style=\"color: blue;\">axis = 1</span>"
   ]
  },
  {
   "cell_type": "code",
   "execution_count": 20,
   "id": "b95ec3b8-c8ff-4881-be47-b7054d72ed40",
   "metadata": {},
   "outputs": [
    {
     "name": "stdout",
     "output_type": "stream",
     "text": [
      "[[0 1]\n",
      " [2 3]\n",
      " [4 5]]\n",
      "\n",
      "\n",
      "[[0 6 1]\n",
      " [2 6 3]\n",
      " [4 6 5]]\n"
     ]
    }
   ],
   "source": [
    "\n",
    "a = np.arange(6).reshape(3, 2)\n",
    "b = np.insert(a, 1, 6, axis=1)\n",
    "\n",
    "print(a)\n",
    "print(\"\\n\")\n",
    "print(b)\n"
   ]
  },
  {
   "cell_type": "markdown",
   "id": "4445db74-f7b8-475e-989e-bb2fbbbfed68",
   "metadata": {},
   "source": [
    "<div style=\"margin-left: 120px;\">\n",
    "\n",
    "![](../media/numpy_74.PNG)\n",
    "\n",
    "</div>\n",
    "\n",
    "<br>\n",
    "\n",
    "<code style=\"color: white; background-color: black;\">Example - 2B</code> &nbsp;&nbsp;&nbsp;<span style=\"color: blue;\">axis = 1</span>"
   ]
  },
  {
   "cell_type": "code",
   "execution_count": 21,
   "id": "35914b4e-0da6-46ad-9d93-644ae9159d60",
   "metadata": {},
   "outputs": [
    {
     "name": "stdout",
     "output_type": "stream",
     "text": [
      "[[[0 1]\n",
      "  [2 3]]\n",
      "\n",
      " [[4 5]\n",
      "  [6 7]]]\n",
      "\n",
      "\n",
      "[[[0 1]\n",
      "  [6 6]\n",
      "  [2 3]]\n",
      "\n",
      " [[4 5]\n",
      "  [6 6]\n",
      "  [6 7]]]\n"
     ]
    }
   ],
   "source": [
    "\n",
    "a = np.arange(8).reshape(2, 2, 2)\n",
    "b = np.insert(a, 1, 6, axis=1)\n",
    "\n",
    "print(a)\n",
    "print(\"\\n\")\n",
    "print(b)\n"
   ]
  },
  {
   "cell_type": "markdown",
   "id": "cda969c3-bfe2-40be-995f-c6ea8c076e4e",
   "metadata": {},
   "source": [
    "<div style=\"margin-left: 120px;\">\n",
    "\n",
    "![](../media/numpy_75.PNG)\n",
    "\n",
    "</div>\n",
    "\n",
    "<br>\n",
    "\n",
    "<code style=\"color: white; background-color: black;\">Example - 3</code> &nbsp;&nbsp;&nbsp;<span style=\"color: blue;\">axis = 2</span>"
   ]
  },
  {
   "cell_type": "code",
   "execution_count": 15,
   "id": "0f764aff-3076-4dff-aa0d-cf591d99a106",
   "metadata": {},
   "outputs": [
    {
     "name": "stdout",
     "output_type": "stream",
     "text": [
      "[[[0 1]\n",
      "  [2 3]]\n",
      "\n",
      " [[4 5]\n",
      "  [6 7]]]\n",
      "\n",
      "\n",
      "\n",
      "[[[0 6 1]\n",
      "  [2 6 3]]\n",
      "\n",
      " [[4 6 5]\n",
      "  [6 6 7]]]\n"
     ]
    }
   ],
   "source": [
    "\n",
    "a = np.arange(8).reshape(2, 2, 2)\n",
    "b = np.insert(a, 1, 6, axis=2)\n",
    "\n",
    "print(a)\n",
    "print(\"\\n\\n\")\n",
    "print(b)\n"
   ]
  },
  {
   "cell_type": "markdown",
   "id": "0257b904-1bd2-4f9f-80ed-181c19ff48f5",
   "metadata": {},
   "source": [
    "<div style=\"margin-left: 120px;\">\n",
    "\n",
    "![](../media/numpy_76.PNG)\n",
    "\n",
    "</div>\n",
    "\n",
    "<br>\n",
    "\n",
    "<span style=\"font-size: 1.2rem;\">⭐</span>&nbsp;&nbsp;Difference between sequence and scalars, showing how &nbsp;<code style=\"background-color: #b2fff0;\">obj=[1]</code>&nbsp; behaves different from <code style=\"background-color: #b2fff0;\">obj=1</code>&nbsp;:"
   ]
  },
  {
   "cell_type": "code",
   "execution_count": 23,
   "id": "a7b6296e-9efb-4ffb-9849-16e9ba72e092",
   "metadata": {},
   "outputs": [
    {
     "name": "stdout",
     "output_type": "stream",
     "text": [
      "[[0 1]\n",
      " [2 3]\n",
      " [4 5]]\n",
      "\n",
      "\n",
      "[[0 7 1]\n",
      " [2 8 3]\n",
      " [4 9 5]]\n"
     ]
    }
   ],
   "source": [
    "\n",
    "a = np.arange(6).reshape(3, 2)\n",
    "b = np.insert(a, [1], [[7],[8],[9]], axis=1)\n",
    "\n",
    "print(a)\n",
    "print(\"\\n\")\n",
    "print(b)\n"
   ]
  },
  {
   "cell_type": "markdown",
   "id": "dca87ece-b670-4cdb-9481-e87f428a752f",
   "metadata": {},
   "source": [
    "<div style=\"margin-left: 120px;\">\n",
    "\n",
    "![](../media/numpy_77.PNG)\n",
    "\n",
    "</div>"
   ]
  },
  {
   "cell_type": "code",
   "execution_count": 34,
   "id": "152f99a5-5e63-49ff-8cb0-5440499c94f0",
   "metadata": {},
   "outputs": [
    {
     "name": "stdout",
     "output_type": "stream",
     "text": [
      "[[0 1]\n",
      " [2 3]\n",
      " [4 5]]\n",
      "\n",
      "\n",
      "[[0 7 8 9 1]\n",
      " [2 7 8 9 3]\n",
      " [4 7 8 9 5]]\n"
     ]
    }
   ],
   "source": [
    "\n",
    "a = np.arange(6).reshape(3, 2)\n",
    "b = np.insert(a, 1, [[7],[8],[9]], axis=1)\n",
    "\n",
    "print(a)\n",
    "print(\"\\n\")\n",
    "print(b)\n"
   ]
  },
  {
   "cell_type": "markdown",
   "id": "f1281984-8635-44a9-96b8-52c328b1b955",
   "metadata": {},
   "source": [
    "<div style=\"margin-left: 120px;\">\n",
    "\n",
    "![](../media/numpy_78.PNG)\n",
    "\n",
    "</div>"
   ]
  },
  {
   "cell_type": "code",
   "execution_count": 33,
   "id": "1e281614-0fa7-42fd-9fb5-d0a9b71cab35",
   "metadata": {},
   "outputs": [
    {
     "name": "stdout",
     "output_type": "stream",
     "text": [
      "[[0 1]\n",
      " [2 3]\n",
      " [4 5]]\n",
      "\n",
      "\n",
      "[[0 1]\n",
      " [7 7]\n",
      " [8 8]\n",
      " [9 9]\n",
      " [2 3]\n",
      " [4 5]]\n"
     ]
    }
   ],
   "source": [
    "\n",
    "a = np.arange(6).reshape(3, 2)\n",
    "b = np.insert(a, [1], [[7],[8],[9]], axis=0)\n",
    "\n",
    "print(a)\n",
    "print(\"\\n\")\n",
    "print(b)\n"
   ]
  },
  {
   "cell_type": "markdown",
   "id": "fc1f2e95-8122-4af7-8cd0-be29c274abda",
   "metadata": {},
   "source": [
    "<div style=\"margin-left: 120px;\">\n",
    "\n",
    "![](../media/numpy_79.PNG)\n",
    "\n",
    "</div>"
   ]
  },
  {
   "cell_type": "code",
   "execution_count": 11,
   "id": "7cdfafa7-34d3-42f2-a2ad-de5407e2a87b",
   "metadata": {},
   "outputs": [
    {
     "name": "stdout",
     "output_type": "stream",
     "text": [
      "[[0 1]\n",
      " [2 3]\n",
      " [4 5]] \n",
      "\n",
      "[[0 7 1]\n",
      " [2 8 3]\n",
      " [4 9 5]] \n",
      "\n",
      "[[0 7 8 9 1]\n",
      " [2 7 8 9 3]\n",
      " [4 7 8 9 5]] \n",
      "\n",
      "[[0 7 1]\n",
      " [2 8 3]\n",
      " [4 9 5]]\n"
     ]
    }
   ],
   "source": [
    "\n",
    "a = np.arange(6).reshape(3, 2)\n",
    "b = np.insert(a, 1, [7, 8, 9], axis=1)\n",
    "c = np.insert(a, 1, [[7],[8],[9]], axis=1)\n",
    "d = np.insert(a, [1], [[7],[8],[9]], axis=1)\n",
    "\n",
    "print(a, \"\\n\")\n",
    "print(b, \"\\n\")\n",
    "print(c, \"\\n\")\n",
    "print(d)\n"
   ]
  },
  {
   "cell_type": "code",
   "execution_count": 9,
   "id": "cda43f51-0d97-475d-bc1b-f4d8bfb7a5eb",
   "metadata": {},
   "outputs": [
    {
     "name": "stdout",
     "output_type": "stream",
     "text": [
      "False\n",
      "True\n",
      "False\n"
     ]
    }
   ],
   "source": [
    "\n",
    "print(np.array_equal(b, c))\n",
    "\n",
    "print(np.array_equal(b, d))\n",
    "\n",
    "print(np.array_equal(c, d))\n"
   ]
  },
  {
   "cell_type": "markdown",
   "id": "c8487535-c351-4c88-8ff5-66cd76ff59c3",
   "metadata": {},
   "source": [
    "<br>\n",
    "\n",
    "### <div style=\"color: white; background-color: #af87ff; padding: 5px;\"> <code style=\"font-size: 1.2rem; background-color: #af87ff; color: white;\"><strong>numpy.append()</strong></code> </div>\n"
   ]
  },
  {
   "cell_type": "markdown",
   "id": "fe18d370-2175-4447-93e7-e6dd315587f1",
   "metadata": {},
   "source": [
    "\n",
    "<code style=\"background-color: yellow;\">numpy.<span style=\"color: red;\">append(<span style=\"color: black;\">arr</span>, <span style=\"color: black;\">values</span>, <span style=\"color: black;\">axis</span><span style=\"color: #9b96a1;\">='None'</span>)</span></code>"
   ]
  },
  {
   "cell_type": "code",
   "execution_count": 18,
   "id": "65296e2b-41f0-427e-b6de-ea7ee8ea29fb",
   "metadata": {},
   "outputs": [
    {
     "data": {
      "text/plain": [
       "array([1, 2, 3, 4, 5, 6, 7, 8, 9])"
      ]
     },
     "execution_count": 18,
     "metadata": {},
     "output_type": "execute_result"
    }
   ],
   "source": [
    "\n",
    "np.append([1, 2, 3], [[4, 5, 6], [7, 8, 9]])                # axis = None (by default) will flatten the input array and values before appending\n"
   ]
  },
  {
   "cell_type": "code",
   "execution_count": 15,
   "id": "7e97c2e1-a31f-4da8-81d9-3729d71c3e1a",
   "metadata": {},
   "outputs": [
    {
     "data": {
      "text/plain": [
       "array([[1, 2, 3],\n",
       "       [4, 5, 6],\n",
       "       [7, 8, 9]])"
      ]
     },
     "execution_count": 15,
     "metadata": {},
     "output_type": "execute_result"
    }
   ],
   "source": [
    "\n",
    "np.append([[1, 2, 3], [4, 5, 6]], [[7, 8, 9]], axis=0)\n"
   ]
  },
  {
   "cell_type": "code",
   "execution_count": 17,
   "id": "842f6bf3-a7a6-4f0b-8ba2-4c243deddbf1",
   "metadata": {},
   "outputs": [
    {
     "ename": "ValueError",
     "evalue": "all the input arrays must have same number of dimensions, but the array at index 0 has 2 dimension(s) and the array at index 1 has 1 dimension(s)",
     "output_type": "error",
     "traceback": [
      "\u001b[1;31m---------------------------------------------------------------------------\u001b[0m",
      "\u001b[1;31mValueError\u001b[0m                                Traceback (most recent call last)",
      "Cell \u001b[1;32mIn[17], line 1\u001b[0m\n\u001b[1;32m----> 1\u001b[0m \u001b[43mnp\u001b[49m\u001b[38;5;241;43m.\u001b[39;49m\u001b[43mappend\u001b[49m\u001b[43m(\u001b[49m\u001b[43m[\u001b[49m\u001b[43m[\u001b[49m\u001b[38;5;241;43m1\u001b[39;49m\u001b[43m,\u001b[49m\u001b[43m \u001b[49m\u001b[38;5;241;43m2\u001b[39;49m\u001b[43m,\u001b[49m\u001b[43m \u001b[49m\u001b[38;5;241;43m3\u001b[39;49m\u001b[43m]\u001b[49m\u001b[43m,\u001b[49m\u001b[43m \u001b[49m\u001b[43m[\u001b[49m\u001b[38;5;241;43m4\u001b[39;49m\u001b[43m,\u001b[49m\u001b[43m \u001b[49m\u001b[38;5;241;43m5\u001b[39;49m\u001b[43m,\u001b[49m\u001b[43m \u001b[49m\u001b[38;5;241;43m6\u001b[39;49m\u001b[43m]\u001b[49m\u001b[43m]\u001b[49m\u001b[43m,\u001b[49m\u001b[43m \u001b[49m\u001b[43m[\u001b[49m\u001b[38;5;241;43m7\u001b[39;49m\u001b[43m,\u001b[49m\u001b[43m \u001b[49m\u001b[38;5;241;43m8\u001b[39;49m\u001b[43m,\u001b[49m\u001b[43m \u001b[49m\u001b[38;5;241;43m9\u001b[39;49m\u001b[43m]\u001b[49m\u001b[43m,\u001b[49m\u001b[43m \u001b[49m\u001b[43maxis\u001b[49m\u001b[38;5;241;43m=\u001b[39;49m\u001b[38;5;241;43m0\u001b[39;49m\u001b[43m)\u001b[49m\n",
      "File \u001b[1;32m<__array_function__ internals>:180\u001b[0m, in \u001b[0;36mappend\u001b[1;34m(*args, **kwargs)\u001b[0m\n",
      "File \u001b[1;32m~\\AppData\\Local\\Programs\\Python\\Python311\\Lib\\site-packages\\numpy\\lib\\function_base.py:5444\u001b[0m, in \u001b[0;36mappend\u001b[1;34m(arr, values, axis)\u001b[0m\n\u001b[0;32m   5442\u001b[0m     values \u001b[38;5;241m=\u001b[39m ravel(values)\n\u001b[0;32m   5443\u001b[0m     axis \u001b[38;5;241m=\u001b[39m arr\u001b[38;5;241m.\u001b[39mndim\u001b[38;5;241m-\u001b[39m\u001b[38;5;241m1\u001b[39m\n\u001b[1;32m-> 5444\u001b[0m \u001b[38;5;28;01mreturn\u001b[39;00m \u001b[43mconcatenate\u001b[49m\u001b[43m(\u001b[49m\u001b[43m(\u001b[49m\u001b[43marr\u001b[49m\u001b[43m,\u001b[49m\u001b[43m \u001b[49m\u001b[43mvalues\u001b[49m\u001b[43m)\u001b[49m\u001b[43m,\u001b[49m\u001b[43m \u001b[49m\u001b[43maxis\u001b[49m\u001b[38;5;241;43m=\u001b[39;49m\u001b[43maxis\u001b[49m\u001b[43m)\u001b[49m\n",
      "File \u001b[1;32m<__array_function__ internals>:180\u001b[0m, in \u001b[0;36mconcatenate\u001b[1;34m(*args, **kwargs)\u001b[0m\n",
      "\u001b[1;31mValueError\u001b[0m: all the input arrays must have same number of dimensions, but the array at index 0 has 2 dimension(s) and the array at index 1 has 1 dimension(s)"
     ]
    }
   ],
   "source": [
    "\n",
    "np.append([[1, 2, 3], [4, 5, 6]], [7, 8, 9], axis=0)\n"
   ]
  },
  {
   "cell_type": "code",
   "execution_count": 20,
   "id": "ac28e3ae-8c2a-4b1c-80dd-f4232dec598a",
   "metadata": {},
   "outputs": [
    {
     "name": "stdout",
     "output_type": "stream",
     "text": [
      "[1 2]\n",
      "[1. 2.]\n",
      "float64\n"
     ]
    }
   ],
   "source": [
    "\n",
    "a = np.array([1, 2], dtype=int)\n",
    "\n",
    "print(a)\n",
    "\n",
    "c = np.append(a, [])\n",
    "\n",
    "print(c)\n",
    "\n",
    "print(c.dtype)\n"
   ]
  },
  {
   "cell_type": "markdown",
   "id": "217f7811-13ac-47cc-9e51-087044ad9369",
   "metadata": {},
   "source": [
    "<br>\n",
    "\n",
    "### <div style=\"color: white; background-color: #af87ff; padding: 5px;\"> <code style=\"font-size: 1.2rem; background-color: #af87ff; color: white;\"><strong>numpy.trim_zeros()</strong></code> </div>\n"
   ]
  },
  {
   "cell_type": "markdown",
   "id": "c4ae46f7-8bd7-4a32-ab93-7b611df03adc",
   "metadata": {},
   "source": [
    "\n",
    "\n",
    "<code style=\"background-color: yellow;\">numpy.<span style=\"color: red;\">trim(<span style=\"color: black;\">arr</span>, <span style=\"color: black;\">trim</span><span style=\"color: #9b96a1;\">='fb'</span>)</span></code>&nbsp;&nbsp;&nbsp;===>&nbsp;&nbsp;&nbsp;trims the leading and/or trailing zeros from a <strong>1-D</strong> array or sequence <br>\n",
    "<span style=\"margin-left: 222px;\">===>&nbsp;&nbsp;&nbsp;<code>'f'</code> ===> triming from <strong>front</strong> &nbsp;&nbsp;, &nbsp;&nbsp;<code>'b'</code> ===> triming from <strong>back</strong></span> <br>\n",
    "<span style=\"margin-left: 272px;\"><span style=\"color: blue;\">Default</span> is <code>'fb'</code>, trim zeros from <u>both front and back of the array</u></span>\n"
   ]
  },
  {
   "cell_type": "code",
   "execution_count": 21,
   "id": "dc3ad020-114d-496e-97b5-86563bb2b1ae",
   "metadata": {},
   "outputs": [
    {
     "data": {
      "text/plain": [
       "array([1, 2, 3, 0, 2, 1])"
      ]
     },
     "execution_count": 21,
     "metadata": {},
     "output_type": "execute_result"
    }
   ],
   "source": [
    "\n",
    "a = np.array((0, 0, 0, 1, 2, 3, 0, 2, 1, 0))\n",
    "np.trim_zeros(a)\n"
   ]
  },
  {
   "cell_type": "code",
   "execution_count": 24,
   "id": "b5ac4449-466e-4231-970b-b496e77c85cb",
   "metadata": {},
   "outputs": [
    {
     "data": {
      "text/plain": [
       "array([0, 0, 0, 1, 2, 3, 0, 2, 1])"
      ]
     },
     "execution_count": 24,
     "metadata": {},
     "output_type": "execute_result"
    }
   ],
   "source": [
    "\n",
    "np.trim_zeros(a, 'b')          # trimming zeros from back\n"
   ]
  },
  {
   "cell_type": "code",
   "execution_count": 23,
   "id": "a2cbd897-0f0c-4823-bc61-b07311271de8",
   "metadata": {},
   "outputs": [
    {
     "data": {
      "text/plain": [
       "[1, 2]"
      ]
     },
     "execution_count": 23,
     "metadata": {},
     "output_type": "execute_result"
    }
   ],
   "source": [
    "\n",
    "np.trim_zeros([0, 1, 2, 0])\n"
   ]
  },
  {
   "cell_type": "code",
   "execution_count": null,
   "id": "877bb0cc-3a5d-4cbf-a841-8e307bdca9a8",
   "metadata": {},
   "outputs": [],
   "source": []
  },
  {
   "cell_type": "markdown",
   "id": "03c4a0d9-781a-46d9-9fdb-05b5f5f62f0e",
   "metadata": {
    "jp-MarkdownHeadingCollapsed": true
   },
   "source": [
    "<br><br>\n",
    "\n",
    "## Arithmetic &nbsp;Operations\n"
   ]
  },
  {
   "cell_type": "markdown",
   "id": "9d7cf8c4-7bf1-4d34-bf45-a896fec5366f",
   "metadata": {},
   "source": [
    "<br><br>\n",
    "\n",
    "<code style=\"background-color: yellow;\">add()      </code> &nbsp;&nbsp;&nbsp;,&nbsp;&nbsp;&nbsp;<code style=\"background-color: yellow;\">+</code>    &nbsp;&nbsp;&nbsp;&nbsp;&nbsp;======>&nbsp;&nbsp;&nbsp; returns the **sum** between two <u>equal-sized arrays</u> by performing **element-wise additions**.<br>\n",
    "\n",
    "<code style=\"background-color: yellow;\">subtract() </code> &nbsp;&nbsp;&nbsp;,&nbsp;&nbsp;&nbsp;<code style=\"background-color: yellow;\">-</code>    &nbsp;&nbsp;&nbsp;&nbsp;&nbsp;======>&nbsp;&nbsp;&nbsp;  returns the **difference** between <u>two equal-sized arrays</u> by performing **element-wise subtractions**.<br>\n",
    "\n",
    "<code style=\"background-color: yellow;\">multiply() </code> &nbsp;&nbsp;&nbsp;,&nbsp;&nbsp;&nbsp;<code style=\"background-color: yellow;\">*</code>    &nbsp;&nbsp;&nbsp;&nbsp;&nbsp;======>&nbsp;&nbsp;&nbsp;  returns the **product** between <u>two equal-sized arrays</u> by performing **element-wise multiplications**.<br>\n",
    "\n",
    "<code style=\"background-color: yellow;\">divide()   </code> &nbsp;&nbsp;&nbsp;,&nbsp;&nbsp;&nbsp;<code style=\"background-color: yellow;\">/</code>    &nbsp;&nbsp;&nbsp;&nbsp;&nbsp;======>&nbsp;&nbsp;&nbsp;  returns the **quotient** of <u>two equal-sized arrays</u> by performing **element-wise divisions**.<br>\n",
    "\n",
    "<br>\n",
    "\n",
    "<div style=\"background-color: #cfffd0; padding: 20px;\">\n",
    "\n",
    "<span style=\"color: red; font-size: 1rem; margin-left: 20px;\">**Broadcasting**</span>   &nbsp;&nbsp;&nbsp;&nbsp;===>&nbsp;&nbsp;  To perform arithmetic operations on arrays of different shapes, NumPy uses a technique called <span style=\"color: red;\">broadcasting</span><br>\n",
    "\n",
    "<span style=\" margin-left: 122px;\"> &nbsp;&nbsp;&nbsp;&nbsp;===>&nbsp;&nbsp;  By definition, <span style=\"color: red;\">broadcasting</span> is a <span style=\"color: blue;\">set of rules for applying arithmetic operations on arrays of different shapes</span></span><br>\n",
    "\n",
    "<br>\n",
    "\n",
    "<div style=\"background-color: white; padding-left: 20px; padding-right: 20px; padding-top: 20px; padding-bottom: 10px;\">\n",
    "\n",
    "<u><strong>Broadcasting &nbsp;Rules :</strong></u>  <br>\n",
    " \n",
    "For two arrays to be compatible for broadcasting, they must follow these rules :\n",
    "\n",
    "<span style=\"margin-left: 33px;\"><span style=\"color: blue;\"><strong>1. Compatibility Check for Dimensions :</strong></span> &nbsp;Two dimensions are compatible if :</span>  <br>\n",
    "<span style=\"margin-left: 302px;\">➜ &nbsp;They are equal, or</span>   <br>\n",
    "<span style=\"margin-left: 302px;\">➜ &nbsp;One of them is 1</span>\n",
    "\n",
    "<div style=\"display: flex; margin-left: 33px;\">\n",
    "    <div><span style=\"color: blue;\"><strong>2.&nbsp;&nbsp;Shape&nbsp;Alignment&nbsp;:&nbsp;&nbsp;</strong></span></div>\n",
    "    <div>If the arrays don’t have the same number of dimensions, the smaller array is <u>\"left-padded\" with 1s in its shape until it matches the larger array’s shape</u>.</div>\n",
    "</div>\n",
    "\n",
    "<br>\n",
    "\n",
    "<span style=\"margin-left: 33px;\"><span style=\"color: blue;\"><strong>3. Resulting Shape&nbsp;:</strong></span> &nbsp;The resulting array shape is determined by taking the <u>maximum size along each dimension from the two arrays</u>.</span>\n",
    "\n",
    "<br>\n",
    "\n",
    "If these conditions are not met, a <span style=\"color: red;\">ValueError</span> is raised, indicating that <u>the arrays have incompatible shapes for broadcasting</u>.\n",
    "\n",
    "</div>\n",
    "    \n",
    "</div>\n"
   ]
  },
  {
   "cell_type": "markdown",
   "id": "c5fbce1d-c7b4-4596-8885-60e01d02eec4",
   "metadata": {},
   "source": [
    "<br>\n",
    "\n",
    "### <div style=\"color: white; background-color: #af87ff; padding: 5px;\"> <code style=\"font-size: 1.2rem; background-color: #af87ff; color: white;\"><strong>numpy.add()</strong>      ====>      +</code> </div>\n"
   ]
  },
  {
   "cell_type": "markdown",
   "id": "f72056f9-8243-4ed0-be08-3214128cf70e",
   "metadata": {},
   "source": [
    "<br>\n",
    "\n",
    "<code>a + b</code>&nbsp;&nbsp;&nbsp;&nbsp;   ====>   &nbsp;&nbsp;&nbsp;&nbsp;<code>np.<span style=\"color: red;\">add(<span style=\"color: black;\">a</span>, <span style=\"color: black;\">b</span>)</span></code>\n",
    "\n",
    "<br>\n",
    "\n",
    "<code style=\"color: white; background-color: black;\">Example - 1</code> &nbsp;&nbsp;<span style=\"color: #2fbd0b;\">Using NumPy &nbsp;<code style=\"background-color: yellow;\">add()</code>&nbsp; function and &nbsp;<code style=\"background-color: yellow;\">+</code>&nbsp; operator to add two 1D arrays</span>"
   ]
  },
  {
   "cell_type": "code",
   "execution_count": 14,
   "id": "fb7e15b2-6ed3-47c4-b415-06c54e39397e",
   "metadata": {},
   "outputs": [
    {
     "name": "stdout",
     "output_type": "stream",
     "text": [
      "[4 6]\n"
     ]
    }
   ],
   "source": [
    "\n",
    "a = np.array([1, 2])\n",
    "b = np.array([3, 4])\n",
    "\n",
    "c = a + b                    # c = np.add(a, b)    -------->    # [1+3, 2+4] = [4,6]\n",
    "print(c)\n"
   ]
  },
  {
   "cell_type": "markdown",
   "id": "08f8d9b1-8f18-4c4e-874c-b25f3b789256",
   "metadata": {},
   "source": [
    "<div style=\"margin-left: 120px;\">\n",
    "\n",
    "![](../media/numpy_37.PNG)\n",
    "\n",
    "</div>"
   ]
  },
  {
   "cell_type": "code",
   "execution_count": 16,
   "id": "db3b939e-e261-44a6-b414-8873621df190",
   "metadata": {},
   "outputs": [
    {
     "name": "stdout",
     "output_type": "stream",
     "text": [
      "[3 5]\n"
     ]
    }
   ],
   "source": [
    "\n",
    "a = np.array([1, 2])\n",
    "b = np.array([2, 3])\n",
    "\n",
    "c = np.add(a, b)                 # c = a + b    --------------->    # [1+2, 2+4] = [3,5]\n",
    "\n",
    "print(c)\n"
   ]
  },
  {
   "cell_type": "markdown",
   "id": "6995a06c-baa1-4a9d-b0df-24eed4587731",
   "metadata": {},
   "source": [
    "<br>\n",
    "\n",
    "<code style=\"color: white; background-color: black;\">Example - 2</code> &nbsp;&nbsp;<span style=\"color: #2fbd0b;\">Using NumPy &nbsp;<code style=\"background-color: yellow;\">add()</code>&nbsp; function and &nbsp;<code style=\"background-color: yellow;\">+</code>&nbsp; operator to add two 2D arrays</span>\n"
   ]
  },
  {
   "cell_type": "code",
   "execution_count": 17,
   "id": "15a37788-290f-4148-a063-a4c9884f0c1f",
   "metadata": {},
   "outputs": [
    {
     "name": "stdout",
     "output_type": "stream",
     "text": [
      "[[ 6  8]\n",
      " [10 12]]\n"
     ]
    }
   ],
   "source": [
    "\n",
    "a = np.array([[1, 2], \n",
    "              [3, 4]])\n",
    "\n",
    "b = np.array([[5, 6], \n",
    "              [7, 8]])\n",
    "\n",
    "c = a + b                        # c = np.add(a, b)                    \n",
    "print(c)\n"
   ]
  },
  {
   "cell_type": "markdown",
   "id": "d4e7685d-2a9d-45aa-9cb0-62bc5d37c848",
   "metadata": {},
   "source": [
    "<div style=\"margin-left: 120px;\">\n",
    "\n",
    "![](../media/numpy_38.PNG)\n",
    "\n",
    "</div>"
   ]
  },
  {
   "cell_type": "code",
   "execution_count": 21,
   "id": "d51d946e-a4cb-4b34-9722-036be70e19bb",
   "metadata": {},
   "outputs": [
    {
     "name": "stdout",
     "output_type": "stream",
     "text": [
      "[[ 6  8]\n",
      " [10 12]]\n"
     ]
    }
   ],
   "source": [
    "\n",
    "a = np.array([[1, 2], \n",
    "              [3, 4]])\n",
    "\n",
    "b = np.array([[5, 6], \n",
    "              [7, 8]])\n",
    "\n",
    "c = np.add(a, b)                 # c = a + b\n",
    "print(c)\n"
   ]
  },
  {
   "cell_type": "markdown",
   "id": "aec95bf4-1686-4c4c-b635-a3f82721f4e8",
   "metadata": {
    "jp-MarkdownHeadingCollapsed": true
   },
   "source": [
    "<br>\n",
    "\n",
    "### <div style=\"color: white; background-color: #af87ff; padding: 5px;\"> <code style=\"font-size: 1.2rem; background-color: #af87ff; color: white;\"><strong>numpy.subtract()</strong>      ====>      -</code> </div>\n"
   ]
  },
  {
   "cell_type": "markdown",
   "id": "0ab8af14-ea7a-4ece-89b9-cf1e6c95bfc0",
   "metadata": {},
   "source": [
    "<br>\n",
    "\n",
    "<code>b - a</code>&nbsp;&nbsp;&nbsp;&nbsp;   ====>   &nbsp;&nbsp;&nbsp;&nbsp;<code>np.<span style=\"color: red;\">subtract(<span style=\"color: black;\">b</span>, <span style=\"color: black;\">a</span>)</span></code>\n",
    "\n",
    "<code>a - b</code>&nbsp;&nbsp;&nbsp;&nbsp;   ====>   &nbsp;&nbsp;&nbsp;&nbsp;<code>np.<span style=\"color: red;\">subtract(<span style=\"color: black;\">a</span>, <span style=\"color: black;\">b</span>)</span></code>\n",
    "\n",
    "<br>\n",
    "\n",
    "<code style=\"color: white; background-color: black;\">Example - 1</code> &nbsp;&nbsp;<span style=\"color: #2fbd0b;\">Using NumPy &nbsp;<code style=\"background-color: yellow;\">subtract()</code>&nbsp; function and &nbsp;<code style=\"background-color: yellow;\">-</code>&nbsp; operator to add two 1D arrays</span>"
   ]
  },
  {
   "cell_type": "code",
   "execution_count": 20,
   "id": "893b8713-1dbd-4074-a17c-ba19de693c32",
   "metadata": {},
   "outputs": [
    {
     "name": "stdout",
     "output_type": "stream",
     "text": [
      "[2 2]\n"
     ]
    }
   ],
   "source": [
    "\n",
    "a = np.array([1, 2])\n",
    "b = np.array([3, 4])\n",
    "\n",
    "c = b - a                    # c = np.subtract(b, a)    -------->    # [3-1, 4-2] = [2,2]\n",
    "print(c)\n"
   ]
  },
  {
   "cell_type": "markdown",
   "id": "78c4dc02-ed9e-4741-b717-d0a3ddf69034",
   "metadata": {},
   "source": [
    "<div style=\"margin-left: 120px;\">\n",
    "\n",
    "![](../media/numpy_39.PNG)\n",
    "\n",
    "</div>"
   ]
  },
  {
   "cell_type": "code",
   "execution_count": 31,
   "id": "adc41ea0-0e3e-44d9-9186-944b5ca295e6",
   "metadata": {},
   "outputs": [
    {
     "name": "stdout",
     "output_type": "stream",
     "text": [
      "[2 2]\n"
     ]
    }
   ],
   "source": [
    "\n",
    "a = np.array([1, 2])\n",
    "b = np.array([3, 4])\n",
    "\n",
    "c = np.subtract(b, a)             # c = b - a    ------------------->    # [3-1, 4-2] = [2,2]\n",
    "print(c)\n"
   ]
  },
  {
   "cell_type": "markdown",
   "id": "ba21e598-c72d-4cdc-b627-d9b1ec8a08ec",
   "metadata": {},
   "source": [
    "<br>\n",
    "\n",
    "<code style=\"color: white; background-color: black;\">Example - 2</code> &nbsp;&nbsp;<span style=\"color: #2fbd0b;\">Using NumPy &nbsp;<code style=\"background-color: yellow;\">subtract()</code>&nbsp; function and &nbsp;<code style=\"background-color: yellow;\">-</code>&nbsp; operator to add two 2D arrays</span>\n"
   ]
  },
  {
   "cell_type": "code",
   "execution_count": 34,
   "id": "d19c0462-1ec5-44d7-a0b7-3133a6fa39b1",
   "metadata": {},
   "outputs": [
    {
     "name": "stdout",
     "output_type": "stream",
     "text": [
      "[[4 4]\n",
      " [4 4]]\n"
     ]
    }
   ],
   "source": [
    "\n",
    "a = np.array([[1, 2], \n",
    "              [3, 4]])\n",
    "\n",
    "b = np.array([[5, 6], \n",
    "              [7, 8]])\n",
    "\n",
    "c = b - a                         # c = np.subtract(b, a)\n",
    "print(c)\n"
   ]
  },
  {
   "cell_type": "markdown",
   "id": "8689ec87-bbb9-4ac9-a54f-6f2dec9de6bc",
   "metadata": {},
   "source": [
    "<div style=\"margin-left: 120px;\">\n",
    "\n",
    "![](../media/numpy_40.PNG)\n",
    "\n",
    "</div>"
   ]
  },
  {
   "cell_type": "markdown",
   "id": "22c81aed-3cd8-4cae-b13e-011d49c73a04",
   "metadata": {
    "jp-MarkdownHeadingCollapsed": true
   },
   "source": [
    "<br>\n",
    "\n",
    "### <div style=\"color: white; background-color: #af87ff; padding: 5px;\"> <code style=\"font-size: 1.2rem; background-color: #af87ff; color: white;\"><strong>numpy.multiply()</strong>      ====>      *</code> </div>\n"
   ]
  },
  {
   "cell_type": "markdown",
   "id": "f45328b5-3821-4fa9-b3ae-5ba0abc8749e",
   "metadata": {},
   "source": [
    "<br>\n",
    "\n",
    "<code>a * b</code>&nbsp;&nbsp;&nbsp;&nbsp;   ====>   &nbsp;&nbsp;&nbsp;&nbsp;<code>np.<span style=\"color: red;\">multiply(<span style=\"color: black;\">a</span>, <span style=\"color: black;\">b</span>)</span></code>\n",
    "\n",
    "<br>\n",
    "\n",
    "<code style=\"color: white; background-color: black;\">Example - 1</code> &nbsp;&nbsp;<span style=\"color: #2fbd0b;\">Using NumPy &nbsp;<code style=\"background-color: yellow;\">multiply()</code>&nbsp; function and &nbsp;<code style=\"background-color: yellow;\">*</code>&nbsp; operator to add two 1D arrays</span>"
   ]
  },
  {
   "cell_type": "code",
   "execution_count": 30,
   "id": "8fd29c40-b551-479e-87ab-8056514f5976",
   "metadata": {},
   "outputs": [
    {
     "name": "stdout",
     "output_type": "stream",
     "text": [
      "[3 8]\n"
     ]
    }
   ],
   "source": [
    "\n",
    "a = np.array([1, 2])\n",
    "b = np.array([3, 4])\n",
    "\n",
    "c = np.multiply(a, b)             # c = np.multiply(b, a)    -------->    # [1*3, 2*4] = [3,8]\n",
    "print(c)\n"
   ]
  },
  {
   "cell_type": "markdown",
   "id": "e14bdcbe-ad3b-4168-a027-282dd82af36d",
   "metadata": {},
   "source": [
    "<div style=\"margin-left: 120px;\">\n",
    "\n",
    "![](../media/numpy_41.PNG)\n",
    "\n",
    "</div>"
   ]
  },
  {
   "cell_type": "code",
   "execution_count": 32,
   "id": "80a657fc-4e53-4243-8782-335faba4607f",
   "metadata": {},
   "outputs": [
    {
     "name": "stdout",
     "output_type": "stream",
     "text": [
      "[3 8]\n"
     ]
    }
   ],
   "source": [
    "\n",
    "a = np.array([1, 2])\n",
    "b = np.array([3, 4])\n",
    "\n",
    "c = np.multiply(b, a)             # c = b * a    ------------------->    # [1*3, 2*4] = [3,8]\n",
    "print(c)\n"
   ]
  },
  {
   "cell_type": "markdown",
   "id": "44bc3b5f-9b60-405a-9f0e-8eff219ac9b0",
   "metadata": {},
   "source": [
    "<br>\n",
    "\n",
    "<code style=\"color: white; background-color: black;\">Example - 2</code> &nbsp;&nbsp;<span style=\"color: #2fbd0b;\">Using NumPy &nbsp;<code style=\"background-color: yellow;\">multiply()</code>&nbsp; function and &nbsp;<code style=\"background-color: yellow;\">*</code>&nbsp; operator to add two 2D arrays</span>\n"
   ]
  },
  {
   "cell_type": "code",
   "execution_count": 35,
   "id": "8685194d-49f2-4099-b0c5-73446ae485b4",
   "metadata": {},
   "outputs": [
    {
     "name": "stdout",
     "output_type": "stream",
     "text": [
      "[[ 5 12]\n",
      " [21 32]]\n"
     ]
    }
   ],
   "source": [
    "\n",
    "a = np.array([[1, 2], \n",
    "              [3, 4]])\n",
    "\n",
    "b = np.array([[5, 6], \n",
    "              [7, 8]])\n",
    "\n",
    "c = a*b                         # c = np.multiply(b, a)\n",
    "print(c)\n"
   ]
  },
  {
   "cell_type": "markdown",
   "id": "2a9b9b67-ab08-4382-b682-9f5cd6e97eca",
   "metadata": {},
   "source": [
    "<div style=\"margin-left: 120px;\">\n",
    "\n",
    "![](../media/numpy_42.PNG)\n",
    "\n",
    "</div>"
   ]
  },
  {
   "cell_type": "markdown",
   "id": "1ec039cb-1afc-451a-b4f1-5a3ab1aeb50a",
   "metadata": {
    "jp-MarkdownHeadingCollapsed": true
   },
   "source": [
    "<br>\n",
    "\n",
    "### <div style=\"color: white; background-color: #af87ff; padding: 5px;\"> <code style=\"font-size: 1.2rem; background-color: #af87ff; color: white;\"><strong>numpy.division()</strong>      ====>      /</code> </div>\n"
   ]
  },
  {
   "cell_type": "markdown",
   "id": "a87107a4-e9f8-40b5-9bce-aba3fae704c8",
   "metadata": {},
   "source": [
    "<br>\n",
    "\n",
    "<code>a / b</code>&nbsp;&nbsp;&nbsp;&nbsp;   ====>   &nbsp;&nbsp;&nbsp;&nbsp;<code>np.<span style=\"color: red;\">divide(<span style=\"color: black;\">a</span>, <span style=\"color: black;\">b</span>)</span></code>\n",
    "\n",
    "<br>\n",
    "\n",
    "<code style=\"color: white; background-color: black;\">Example - 1</code> &nbsp;&nbsp;<span style=\"color: #2fbd0b;\">Using NumPy &nbsp;<code style=\"background-color: yellow;\">divide()</code>&nbsp; function and &nbsp;<code style=\"background-color: yellow;\">/</code>&nbsp; operator to add two 1D arrays</span>"
   ]
  },
  {
   "cell_type": "code",
   "execution_count": 38,
   "id": "8c678385-a3f9-4854-8e28-30a44072910e",
   "metadata": {},
   "outputs": [
    {
     "name": "stdout",
     "output_type": "stream",
     "text": [
      "[4. 2.]\n"
     ]
    }
   ],
   "source": [
    "\n",
    "a = np.array([8, 6])\n",
    "b = np.array([2, 3])\n",
    "\n",
    "c = a/b                         # c = np.divide(a, b)    -------->    # [8/2, 6/3] = [4.,2.]\n",
    "print(c)\n"
   ]
  },
  {
   "cell_type": "markdown",
   "id": "80f1f990-5457-407a-b4d1-6893a2d2c810",
   "metadata": {},
   "source": [
    "<div style=\"margin-left: 120px;\">\n",
    "\n",
    "![](../media/numpy_43.PNG)\n",
    "\n",
    "</div>"
   ]
  },
  {
   "cell_type": "code",
   "execution_count": 39,
   "id": "34d6530b-5902-44ee-bd6a-f92f63798c66",
   "metadata": {},
   "outputs": [
    {
     "name": "stdout",
     "output_type": "stream",
     "text": [
      "[4. 2.]\n"
     ]
    }
   ],
   "source": [
    "\n",
    "a = np.array([8, 6])\n",
    "b = np.array([2, 3])\n",
    "\n",
    "c = np.divide(a, b)              # c = a/b    ------------------->    # [8/2, 6/3] = [4.,2.]\n",
    "print(c)\n"
   ]
  },
  {
   "cell_type": "markdown",
   "id": "43be064c-fa46-49b9-adc6-4dc174e7eabf",
   "metadata": {},
   "source": [
    "<br>\n",
    "\n",
    "<code style=\"color: white; background-color: black;\">Example - 2</code> &nbsp;&nbsp;<span style=\"color: #2fbd0b;\">Using NumPy &nbsp;<code style=\"background-color: yellow;\">divide()</code>&nbsp; function and &nbsp;<code style=\"background-color: yellow;\">/</code>&nbsp; operator to add two 2D arrays</span>\n"
   ]
  },
  {
   "cell_type": "code",
   "execution_count": 40,
   "id": "087e3586-6d65-40aa-9064-6948b0f6276b",
   "metadata": {},
   "outputs": [
    {
     "name": "stdout",
     "output_type": "stream",
     "text": [
      "[[2. 4.]\n",
      " [3. 4.]]\n"
     ]
    }
   ],
   "source": [
    "\n",
    "a = np.array([[10, 8], \n",
    "              [6, 4]])\n",
    "\n",
    "b = np.array([[5, 2], \n",
    "              [2, 1]])\n",
    "\n",
    "c = a/b\n",
    "print(c)\n"
   ]
  },
  {
   "cell_type": "markdown",
   "id": "48f293a7-67a9-47e7-b30f-fe9a14cbfeaf",
   "metadata": {},
   "source": [
    "<div style=\"margin-left: 120px;\">\n",
    "\n",
    "![](../media/numpy_44.PNG)\n",
    "\n",
    "</div>"
   ]
  },
  {
   "cell_type": "markdown",
   "id": "e410d28e-1737-41b5-a6ae-e7f4db86a817",
   "metadata": {},
   "source": [
    "<br>\n",
    "\n",
    "### <div style=\"color: white; background-color: #af87ff; padding: 5px;\"> <code style=\"font-size: 1.2rem; background-color: #af87ff; color: white;\"><strong>broadcasting</strong></code> </div>\n"
   ]
  },
  {
   "cell_type": "markdown",
   "id": "4718d852-5413-44a1-a29f-ec395ee74bee",
   "metadata": {},
   "source": [
    "The term broadcasting describes how NumPy treats arrays with different shapes during arithmetic operations. Subject to certain constraints, <span style=\"background-color: yellow;\">the smaller array is “broadcast” across the larger array so that they have compatible shapes</span>. <span style=\"color: blue;\">Broadcasting provides a means of vectorizing array operations so that looping occurs in C instead of Python.</span> <u>It does this without making needless copies of data and usually leads to efficient algorithm implementations</u>. There are, however, cases where broadcasting is a bad idea because it leads to inefficient use of memory that slows computation.\n"
   ]
  },
  {
   "cell_type": "code",
   "execution_count": 50,
   "id": "7146551b-dbdf-4707-a4b6-449a6c62abb7",
   "metadata": {},
   "outputs": [
    {
     "data": {
      "text/plain": [
       "array([2, 4, 6])"
      ]
     },
     "execution_count": 50,
     "metadata": {},
     "output_type": "execute_result"
    }
   ],
   "source": [
    "\n",
    "a = np.array([1, 2, 3])           # 1D array\n",
    "b = 2                             # scalar    =====>   will be broadcasted to the 1D array \"a\"\n",
    "a * b\n"
   ]
  },
  {
   "cell_type": "markdown",
   "id": "3a2c7554-9281-4761-88f4-b7c610f18dae",
   "metadata": {},
   "source": [
    "<div style=\"margin-left: 120px;\">\n",
    "\n",
    "![](../media/numpy_45.PNG)\n",
    "\n",
    "</div>"
   ]
  },
  {
   "cell_type": "markdown",
   "id": "05f4a060-a145-4d1c-af1b-cd8a62c47c7f",
   "metadata": {},
   "source": [
    "<br>\n",
    "\n",
    "<span style=\"color: white; background-color: black;\">EXAMPLE - 1 </span> &nbsp;&nbsp;&nbsp;(NumPy broadcasting on <strong>one array</strong>)"
   ]
  },
  {
   "cell_type": "code",
   "execution_count": 16,
   "id": "49abca1e-9787-4e78-98c0-469db782ebda",
   "metadata": {},
   "outputs": [
    {
     "name": "stdout",
     "output_type": "stream",
     "text": [
      "[[2. 3. 4.]\n",
      " [5. 6. 7.]]\n"
     ]
    }
   ],
   "source": [
    "\n",
    "a = np.array([\n",
    "    [1, 2, 3],\n",
    "    [4, 5, 6]\n",
    "])                           # a(2,3)\n",
    "\n",
    "\n",
    "b = np.ones(3)               # b(3,) ------------- 1D ==> 2D --------------->  b(1, 3)\n",
    "\n",
    "\n",
    "c = a + b                    # b(1,3) ----- stretched along the axis 0 ----->  b(2, 3)\n",
    "\n",
    "print(c)\n"
   ]
  },
  {
   "cell_type": "markdown",
   "id": "5be7fa53-fa3c-430d-9d09-ae0eebc66a99",
   "metadata": {},
   "source": [
    "<div style=\"margin-left: 60px;\">\n",
    "\n",
    "![](../media/numpy_46.PNG)\n",
    "\n",
    "</div>"
   ]
  },
  {
   "cell_type": "markdown",
   "id": "f872edb0-8e73-43ee-8d81-5149e3d3f0e8",
   "metadata": {},
   "source": [
    "\n",
    "<br>\n",
    "\n",
    "<span style=\"color: white; background-color: black;\">EXAMPLE - 2 </span> &nbsp;&nbsp;&nbsp;(NumPy broadcasting on <strong>both arrays</strong>)"
   ]
  },
  {
   "cell_type": "code",
   "execution_count": 15,
   "id": "b821dd9b-03d2-48e0-a985-0c7999ed95e1",
   "metadata": {},
   "outputs": [
    {
     "name": "stdout",
     "output_type": "stream",
     "text": [
      "\n",
      "\n",
      "[[2 3 4]\n",
      " [3 4 5]\n",
      " [4 5 6]]\n"
     ]
    }
   ],
   "source": [
    "\n",
    "a = np.array([\n",
    "    [1],\n",
    "    [2],\n",
    "    [3],\n",
    "])                                      # a(3, 1)\n",
    "\n",
    "\n",
    "b = np.array([1, 2, 3])                 # b(3,) --------------- 1D ==> 2D ---------------->  b(1, 3) \n",
    "\n",
    "\n",
    "print(\"\\n\")\n",
    "\n",
    "\n",
    "c = a + b                               # a(3, 1)  ----- stretched to the maximum length along the axis 1  ----->  a(3, 3)\n",
    "                                        # b(1, 3)  ----- stretched to the maximum length along the axis 0  ----->  b(3, 3)\n",
    "\n",
    "print(c)\n"
   ]
  },
  {
   "cell_type": "markdown",
   "id": "d5216aba-e8ed-4234-a982-e7eb56a6f617",
   "metadata": {},
   "source": [
    "<br>\n",
    "\n",
    "<div style=\"margin-left: 65px;\">\n",
    "\n",
    "![](../media/numpy_47.PNG)\n",
    "\n",
    "</div>"
   ]
  },
  {
   "cell_type": "markdown",
   "id": "1a56789a-9098-459a-a27c-a4fbc8bcfe0c",
   "metadata": {},
   "source": [
    "<br>\n",
    "\n",
    "<span style=\"color: white; background-color: black;\">EXAMPLE - 3 </span> &nbsp;&nbsp;&nbsp;(Broadcasting mismatch)"
   ]
  },
  {
   "cell_type": "code",
   "execution_count": 30,
   "id": "30c49fae-6a38-4f67-bc3a-3ffac3c7d2ec",
   "metadata": {},
   "outputs": [
    {
     "data": {
      "text/plain": [
       "array([[ 1,  2,  3],\n",
       "       [11, 12, 13],\n",
       "       [21, 22, 23],\n",
       "       [31, 32, 33]])"
      ]
     },
     "execution_count": 30,
     "metadata": {},
     "output_type": "execute_result"
    }
   ],
   "source": [
    "\n",
    "a = np.array([[ 0,  0,  0],\n",
    "              [10, 10, 10],\n",
    "              [20, 20, 20],\n",
    "              [30, 30, 30]])               # a     ----------->    (4, 3)    ------------>    (4, 3)\n",
    "b = np.array([1, 2, 3])                    # b     ----------->    (3,)      ------------>    (1, 3)\n",
    "a + b                                      # a+b   -------------------------------------->    (4, 3)\n"
   ]
  },
  {
   "cell_type": "markdown",
   "id": "d83b1702-80a0-494b-850c-1e955ecf8755",
   "metadata": {},
   "source": [
    "<br>\n",
    "\n",
    "<div style=\"margin-left: 80px;\">\n",
    "\n",
    "![](../media/numpy_48.PNG)\n",
    "\n",
    "</div>"
   ]
  },
  {
   "cell_type": "markdown",
   "id": "77a9f774-bd7f-45b5-b091-dc68734d8ff2",
   "metadata": {},
   "source": [
    "\n",
    "<span style=\"color: #a245ff;\">But if the array <code>b</code> is of shape <code>(4,)</code> , &nbsp;it will <strong>not remain broadcastable</strong> for the array <code>a</code></span>"
   ]
  },
  {
   "cell_type": "code",
   "execution_count": 31,
   "id": "29681d84-49a4-4800-9d66-17d3858c6e40",
   "metadata": {},
   "outputs": [
    {
     "ename": "ValueError",
     "evalue": "operands could not be broadcast together with shapes (4,3) (4,) ",
     "output_type": "error",
     "traceback": [
      "\u001b[1;31m---------------------------------------------------------------------------\u001b[0m",
      "\u001b[1;31mValueError\u001b[0m                                Traceback (most recent call last)",
      "Cell \u001b[1;32mIn[31], line 3\u001b[0m\n\u001b[0;32m      1\u001b[0m \u001b[38;5;66;03m# a     ----------->    (4, 3)    ------------>    (4, 3)\u001b[39;00m\n\u001b[0;32m      2\u001b[0m b \u001b[38;5;241m=\u001b[39m np\u001b[38;5;241m.\u001b[39marray([\u001b[38;5;241m1.0\u001b[39m, \u001b[38;5;241m2.0\u001b[39m, \u001b[38;5;241m3.0\u001b[39m, \u001b[38;5;241m4.0\u001b[39m])         \u001b[38;5;66;03m# b     ----------->    (4,)      ------------>    (1, 4)\u001b[39;00m\n\u001b[1;32m----> 3\u001b[0m \u001b[43ma\u001b[49m\u001b[43m \u001b[49m\u001b[38;5;241;43m+\u001b[39;49m\u001b[43m \u001b[49m\u001b[43mb\u001b[49m                                      \u001b[38;5;66;03m# a+b   -------------------------------------->    NOT BROADCASTABLE for element-by-element addition\u001b[39;00m\n",
      "\u001b[1;31mValueError\u001b[0m: operands could not be broadcast together with shapes (4,3) (4,) "
     ]
    }
   ],
   "source": [
    "\n",
    "                                           # a     ----------->    (4, 3)    ------------>    (4, 3)\n",
    "b = np.array([1.0, 2.0, 3.0, 4.0])         # b     ----------->    (4,)      ------------>    (1, 4)\n",
    "a + b                                      # a+b   -------------------------------------->    NOT BROADCASTABLE for element-by-element addition\n"
   ]
  },
  {
   "cell_type": "markdown",
   "id": "731dbe82-b35e-44dd-9b5e-c3928e0eef09",
   "metadata": {},
   "source": [
    "<br>\n",
    "\n",
    "<div style=\"margin-left: 85px;\">\n",
    "\n",
    "![](../media/numpy_49.PNG)\n",
    "\n",
    "</div>\n",
    "\n",
    "<br>\n",
    "\n",
    "<span style=\"color: #06fff0; font-size: 0.7rem;\">■■■■■■■■■■■■■■■■■■■■■■■■■■■■■■■■■■■■■■■■■■■■■■■■■■■■■■■■■■■■■■■■■■■■■■■■■■■■■■■■■■■■■■■■■■■■■■■■■■■■■■■■■■■■■■■</span>\n",
    "\n",
    "<br>"
   ]
  },
  {
   "cell_type": "markdown",
   "id": "de63ceb6-82ce-4901-a96e-0f4c1198a277",
   "metadata": {},
   "source": [
    "\n",
    "<code style=\"color: white; background-color: #9f9e9d;\">practice - 1 </code>"
   ]
  },
  {
   "cell_type": "code",
   "execution_count": 33,
   "id": "9dcbae7b-0de2-4ae6-8caa-7381c6931be5",
   "metadata": {},
   "outputs": [
    {
     "data": {
      "text/plain": [
       "array([[ 8, 10, 12, 14],\n",
       "       [16, 18, 20, 22]])"
      ]
     },
     "execution_count": 33,
     "metadata": {},
     "output_type": "execute_result"
    }
   ],
   "source": [
    "\n",
    "a = np.arange(8).reshape(2,4)\n",
    "b = np.arange(8,16).reshape(2,4)\n",
    "a + b                                   # same dimension  ===>  operation will take place\n"
   ]
  },
  {
   "cell_type": "markdown",
   "id": "6591c79f-6ca9-4555-821c-af7fd79037b1",
   "metadata": {},
   "source": [
    "<br>\n",
    "\n",
    "<code style=\"color: white; background-color: #9f9e9d;\">practice - 2 </code>"
   ]
  },
  {
   "cell_type": "code",
   "execution_count": 34,
   "id": "a0d6203d-1310-4111-8137-25c6f6ed8bd4",
   "metadata": {},
   "outputs": [
    {
     "data": {
      "text/plain": [
       "array([[ 0,  2,  4],\n",
       "       [ 3,  5,  7],\n",
       "       [ 6,  8, 10],\n",
       "       [ 9, 11, 13]])"
      ]
     },
     "execution_count": 34,
     "metadata": {},
     "output_type": "execute_result"
    }
   ],
   "source": [
    "\n",
    "a = np.arange(3).reshape(1,3)\n",
    "b = np.arange(12).reshape(4,3)\n",
    "\n",
    "a + b                                   # The smaller array \"a\" is broadcasted from (1,3) to (4,3) for element-by-element addition\n"
   ]
  },
  {
   "cell_type": "markdown",
   "id": "f0f00472-7ad0-4878-a9e9-99d68b93520a",
   "metadata": {},
   "source": [
    "<br>\n",
    "\n",
    "<code style=\"color: white; background-color: #9f9e9d;\">practice - 3</code>"
   ]
  },
  {
   "cell_type": "code",
   "execution_count": 36,
   "id": "0da4e2f0-cf0b-47b0-8786-b7af80b72eaf",
   "metadata": {},
   "outputs": [
    {
     "data": {
      "text/plain": [
       "array([[ 2,  4,  6],\n",
       "       [ 5,  7,  9],\n",
       "       [ 8, 10, 12],\n",
       "       [11, 13, 15]])"
      ]
     },
     "execution_count": 36,
     "metadata": {},
     "output_type": "execute_result"
    }
   ],
   "source": [
    "\n",
    "a = np.arange(1,13).reshape(4,3)\n",
    "b = np.arange(1,4).reshape(1,3)\n",
    "\n",
    "a + b                                   # The smaller array \"b\" is broadcasted from (1,3) to (4,3) for element-by-element addition\n"
   ]
  },
  {
   "cell_type": "markdown",
   "id": "ce8fcffb-3199-48d7-9a61-4721eb44da5e",
   "metadata": {},
   "source": [
    "<br>\n",
    "\n",
    "<code style=\"color: white; background-color: #9f9e9d;\">practice - 4</code>"
   ]
  },
  {
   "cell_type": "code",
   "execution_count": 40,
   "id": "03e66406-a3a8-4510-866c-fc2d5bd9ca72",
   "metadata": {},
   "outputs": [
    {
     "ename": "ValueError",
     "evalue": "operands could not be broadcast together with shapes (4,4) (1,3) ",
     "output_type": "error",
     "traceback": [
      "\u001b[1;31m---------------------------------------------------------------------------\u001b[0m",
      "\u001b[1;31mValueError\u001b[0m                                Traceback (most recent call last)",
      "Cell \u001b[1;32mIn[40], line 4\u001b[0m\n\u001b[0;32m      1\u001b[0m a \u001b[38;5;241m=\u001b[39m np\u001b[38;5;241m.\u001b[39marange(\u001b[38;5;241m16\u001b[39m)\u001b[38;5;241m.\u001b[39mreshape(\u001b[38;5;241m4\u001b[39m,\u001b[38;5;241m4\u001b[39m)\n\u001b[0;32m      2\u001b[0m b \u001b[38;5;241m=\u001b[39m np\u001b[38;5;241m.\u001b[39marange(\u001b[38;5;241m3\u001b[39m)\u001b[38;5;241m.\u001b[39mreshape(\u001b[38;5;241m1\u001b[39m,\u001b[38;5;241m3\u001b[39m)\n\u001b[1;32m----> 4\u001b[0m \u001b[43ma\u001b[49m\u001b[43m \u001b[49m\u001b[38;5;241;43m+\u001b[39;49m\u001b[43m \u001b[49m\u001b[43mb\u001b[49m                                  \u001b[38;5;66;03m# The smaller array \"b\" is first strecthed from (1,3) to (4,3)\u001b[39;00m\n\u001b[0;32m      5\u001b[0m                                        \u001b[38;5;66;03m# But the array b(4, 3) is now incompatible with the array a(4,4) for element-by-element addition\u001b[39;00m\n",
      "\u001b[1;31mValueError\u001b[0m: operands could not be broadcast together with shapes (4,4) (1,3) "
     ]
    }
   ],
   "source": [
    "\n",
    "a = np.arange(16).reshape(4,4)\n",
    "b = np.arange(3).reshape(1,3)\n",
    "\n",
    "a + b                                  # The smaller array \"b\" is first strecthed from (1,3) to (4,3)\n",
    "                                       # But the array b(4, 3) is now incompatible with the array a(4,4) for element-by-element addition\n"
   ]
  },
  {
   "cell_type": "markdown",
   "id": "0fccd00b-e40f-4d41-9b33-ed488d7bc931",
   "metadata": {},
   "source": [
    "<br>\n",
    "\n",
    "<code style=\"color: white; background-color: #9f9e9d;\">practice - 5</code>"
   ]
  },
  {
   "cell_type": "code",
   "execution_count": 42,
   "id": "047c174e-e2ac-416b-a4e0-14a60554ee19",
   "metadata": {},
   "outputs": [
    {
     "data": {
      "text/plain": [
       "array([[ 0,  1,  2,  3,  4],\n",
       "       [ 5,  6,  7,  8,  9],\n",
       "       [10, 11, 12, 13, 14],\n",
       "       [15, 16, 17, 18, 19]])"
      ]
     },
     "execution_count": 42,
     "metadata": {},
     "output_type": "execute_result"
    }
   ],
   "source": [
    "\n",
    "a = np.arange(1).reshape(1,1)\n",
    "b = np.arange(20).reshape(4,5)\n",
    "\n",
    "a + b                                   # The smaller array \"a\" is stretched from (1,1) to (4,5)\n",
    "                                        # The array \"b\" is now compatible with the array \"a\" for element-by-element addition\n"
   ]
  },
  {
   "cell_type": "markdown",
   "id": "a30d968b-1b42-456c-bde1-5022930e6b08",
   "metadata": {},
   "source": [
    "<br>\n",
    "\n",
    "<code style=\"color: white; background-color: #9f9e9d;\">practice - 6</code>"
   ]
  },
  {
   "cell_type": "code",
   "execution_count": 47,
   "id": "807feb9c-2a90-4580-b556-34f22ff4ca6d",
   "metadata": {},
   "outputs": [
    {
     "ename": "ValueError",
     "evalue": "operands could not be broadcast together with shapes (1,4) (4,5) ",
     "output_type": "error",
     "traceback": [
      "\u001b[1;31m---------------------------------------------------------------------------\u001b[0m",
      "\u001b[1;31mValueError\u001b[0m                                Traceback (most recent call last)",
      "Cell \u001b[1;32mIn[47], line 4\u001b[0m\n\u001b[0;32m      1\u001b[0m a \u001b[38;5;241m=\u001b[39m np\u001b[38;5;241m.\u001b[39marange(\u001b[38;5;241m4\u001b[39m)\u001b[38;5;241m.\u001b[39mreshape(\u001b[38;5;241m1\u001b[39m,\u001b[38;5;241m4\u001b[39m)\n\u001b[0;32m      2\u001b[0m b \u001b[38;5;241m=\u001b[39m np\u001b[38;5;241m.\u001b[39marange(\u001b[38;5;241m20\u001b[39m)\u001b[38;5;241m.\u001b[39mreshape(\u001b[38;5;241m4\u001b[39m,\u001b[38;5;241m5\u001b[39m)\n\u001b[1;32m----> 4\u001b[0m \u001b[43ma\u001b[49m\u001b[43m \u001b[49m\u001b[38;5;241;43m+\u001b[39;49m\u001b[43m \u001b[49m\u001b[43mb\u001b[49m                                   \u001b[38;5;66;03m# The smaller array \"a\" is stretched from (1,4) to (4,4)\u001b[39;00m\n\u001b[0;32m      5\u001b[0m                                         \u001b[38;5;66;03m# But the array  b(4,5)  is stil not compatible with the array  a(4,4)\u001b[39;00m\n",
      "\u001b[1;31mValueError\u001b[0m: operands could not be broadcast together with shapes (1,4) (4,5) "
     ]
    }
   ],
   "source": [
    "\n",
    "a = np.arange(4).reshape(1,4)\n",
    "b = np.arange(20).reshape(4,5)\n",
    "\n",
    "a + b                                   # The smaller array \"a\" is stretched from (1,4) to (4,4)\n",
    "                                        # But the array  b(4,5)  is stil not compatible with the array  a(4,4)\n"
   ]
  },
  {
   "cell_type": "markdown",
   "id": "80569d74-37d2-4696-b2ee-e0893853a2a4",
   "metadata": {},
   "source": [
    "<br>\n",
    "\n",
    "<code style=\"color: white; background-color: #9f9e9d;\">practice - 7</code>"
   ]
  },
  {
   "cell_type": "code",
   "execution_count": 46,
   "id": "69492e45-4b1c-43ee-82cb-9deed6974fbe",
   "metadata": {},
   "outputs": [
    {
     "data": {
      "text/plain": [
       "array([[ 0,  2,  4,  6,  8],\n",
       "       [ 5,  7,  9, 11, 13],\n",
       "       [10, 12, 14, 16, 18],\n",
       "       [15, 17, 19, 21, 23]])"
      ]
     },
     "execution_count": 46,
     "metadata": {},
     "output_type": "execute_result"
    }
   ],
   "source": [
    "\n",
    "a = np.arange(5).reshape(1,5)\n",
    "b = np.arange(20).reshape(4,5)\n",
    "\n",
    "a + b                                   # The smaller array \"a\" is broadcasted from (1,5) to (4,5)\n",
    "                                        # The array  b(4,5)  is now compatible with the array  a(4,5)\n"
   ]
  },
  {
   "cell_type": "markdown",
   "id": "c1ba98b4-264f-48db-9aa1-6f6796773fba",
   "metadata": {
    "jp-MarkdownHeadingCollapsed": true
   },
   "source": [
    "<br><br>\n",
    "\n",
    "## Joining &nbsp;& &nbsp;Splitting Arrays\n"
   ]
  },
  {
   "cell_type": "markdown",
   "id": "5c3999df-1a01-4fa5-b5f6-3d7aeb8ade4c",
   "metadata": {
    "jp-MarkdownHeadingCollapsed": true
   },
   "source": [
    "<br>\n",
    "\n",
    "### <div style=\"color: white; background-color: #af87ff; padding: 5px;\"> <code style=\"font-size: 1.2rem; background-color: #af87ff; color: white;\"><strong>numpy.concatenate()</strong></code> </div>\n"
   ]
  },
  {
   "cell_type": "markdown",
   "id": "1c778303-7ff0-4716-9be9-c2bd71a9d60c",
   "metadata": {},
   "source": [
    "\n",
    "<code style=\"background-color: yellow; padding: 8px;\">np.<span style=\"color: red;\">concatenate<span style=\"font-size: 1.1rem;\">(</span><span style=\"color: black; background-color: white;\">(a1,a2,...)</span>, <span style=\"background-color: white;\"><span style=\"color: black;\">axis</span><span style=\"color: #9b96a1;\">=0</span><span style=\"font-size: 1.1rem;\">)</span></span></span></code> &nbsp;&nbsp;&nbsp;&nbsp;====>&nbsp;&nbsp;&nbsp;&nbsp; joins the elements of two or more arrays into a single array and returns the concatenated array. <br>\n",
    "<span style=\"margin-left: 310px;\">====>&nbsp;&nbsp;&nbsp;&nbsp; <span style=\"color: blue;\">the arrays in the sequence must have the same shape.</span></span> <br>\n",
    "<span style=\"margin-left: 310px;\">====>&nbsp;&nbsp;&nbsp;&nbsp; If the &nbsp;<code>axis</code>&nbsp; is &nbsp;<code>None</code>&nbsp;, the function will <strong>flatten</strong> the arrays before joining.</span>\n"
   ]
  },
  {
   "cell_type": "markdown",
   "id": "13856764-481a-4a50-9dc5-a3864d88b495",
   "metadata": {},
   "source": [
    "<br>\n",
    "\n",
    "<code style=\"color: white; background-color: black;\">Example - 1</code> &nbsp;&nbsp;<span style=\"color: #2fbd0b;\">Using the <code style=\"background-color: yellow;\">concatenate()</code> function to join two <span style=\"color: red;\">1D</span> arrays</span>"
   ]
  },
  {
   "cell_type": "code",
   "execution_count": 51,
   "id": "db18702e-6d88-4d39-873a-3c826d99389f",
   "metadata": {},
   "outputs": [
    {
     "name": "stdout",
     "output_type": "stream",
     "text": [
      "[1 2 3 4]\n"
     ]
    }
   ],
   "source": [
    "\n",
    "a = np.array([1, 2])\n",
    "b = np.array([3, 4])\n",
    "\n",
    "c = np.concatenate((a, b))              # axis = 0 (default)\n",
    "print(c)\n"
   ]
  },
  {
   "cell_type": "markdown",
   "id": "a9e98465-7988-46fc-8c63-1cc50ac5e918",
   "metadata": {},
   "source": [
    "<div style=\"margin-left: 85px;\">\n",
    "\n",
    "![](../media/numpy_50.PNG)\n",
    "\n",
    "</div>"
   ]
  },
  {
   "cell_type": "markdown",
   "id": "6d86f789-26b1-4aaf-b996-d666d1c0cf28",
   "metadata": {},
   "source": [
    "<br>\n",
    "\n",
    "<code style=\"color: white; background-color: black;\">Example - 2</code> &nbsp;&nbsp;<span style=\"color: #2fbd0b;\">Using the <code style=\"background-color: yellow;\">concatenate()</code> function to join two <span style=\"color: red;\">2D</span> arrays</span>\n",
    "\n",
    "<u><span style=\"color: #a245ff;\">Case-1 :</span></u> &nbsp;&nbsp;<span style=\"color: red;\">axis = None</span> &nbsp;<span style=\"color: blue;\">(it will flatten the arrays before joining)</span>"
   ]
  },
  {
   "cell_type": "code",
   "execution_count": 4,
   "id": "8c7d6b62-e9b6-4c86-b297-7fcd608fcd39",
   "metadata": {},
   "outputs": [
    {
     "name": "stdout",
     "output_type": "stream",
     "text": [
      "[1 2 3 4 5 6 7 8]\n"
     ]
    }
   ],
   "source": [
    "\n",
    "a = np.array([\n",
    "    [1, 2],\n",
    "    [3, 4]\n",
    "])\n",
    "b = np.array([\n",
    "    [5, 6],\n",
    "    [7, 8]\n",
    "])\n",
    "\n",
    "c = np.concatenate((a, b), axis=None)            # both the arrays will be flattened before joining\n",
    "print(c)\n"
   ]
  },
  {
   "cell_type": "markdown",
   "id": "ec97a9ee-c1e2-425f-b9bc-a756df5a05c6",
   "metadata": {},
   "source": [
    "<br>\n",
    "\n",
    "<u><span style=\"color: #a245ff;\">Case-2 :</span></u> &nbsp;&nbsp;<span style=\"color: red;\">axis = 0</span> &nbsp;<span style=\"color: blue;\">(default)</span>"
   ]
  },
  {
   "cell_type": "code",
   "execution_count": 5,
   "id": "2cfbfb7f-a06e-4af6-86d6-09766865fa6e",
   "metadata": {},
   "outputs": [
    {
     "name": "stdout",
     "output_type": "stream",
     "text": [
      "[[1 2]\n",
      " [3 4]\n",
      " [5 6]\n",
      " [7 8]]\n"
     ]
    }
   ],
   "source": [
    "\n",
    "a = np.array([\n",
    "    [1, 2],\n",
    "    [3, 4]\n",
    "])\n",
    "b = np.array([\n",
    "    [5, 6],\n",
    "    [7, 8]\n",
    "])\n",
    "\n",
    "c = np.concatenate((a, b))                        # axis = 0  (default)\n",
    "print(c)\n"
   ]
  },
  {
   "cell_type": "markdown",
   "id": "b09f99b6-01a0-43fa-89d9-7b404aa1a048",
   "metadata": {},
   "source": [
    "<div style=\"margin-left: 85px;\">\n",
    "\n",
    "![](../media/numpy_51.PNG)\n",
    "\n",
    "</div>"
   ]
  },
  {
   "cell_type": "markdown",
   "id": "2ca8c4fe-9c63-4cfc-8f77-f5f14ce77eec",
   "metadata": {},
   "source": [
    "<br>\n",
    "\n",
    "<u><span style=\"color: #a245ff;\">Case-3 :</span></u> &nbsp;&nbsp;<span style=\"color: red;\">axis = 1</span>"
   ]
  },
  {
   "cell_type": "code",
   "execution_count": 6,
   "id": "c9d3a40c-e367-4007-aec0-158f7b0908ba",
   "metadata": {},
   "outputs": [
    {
     "name": "stdout",
     "output_type": "stream",
     "text": [
      "[[1 2 5 6]\n",
      " [3 4 7 8]]\n"
     ]
    }
   ],
   "source": [
    "\n",
    "a = np.array([\n",
    "    [1, 2],\n",
    "    [3, 4]\n",
    "])\n",
    "b = np.array([\n",
    "    [5, 6],\n",
    "    [7, 8]\n",
    "])\n",
    "\n",
    "c = np.concatenate((a, b), axis=1)\n",
    "print(c)\n"
   ]
  },
  {
   "cell_type": "markdown",
   "id": "b1b6c3d6-fc14-4b22-9d62-86d5865e1996",
   "metadata": {},
   "source": [
    "<div style=\"margin-left: 85px;\">\n",
    "\n",
    "![](../media/numpy_52.PNG)\n",
    "\n",
    "</div>"
   ]
  },
  {
   "cell_type": "markdown",
   "id": "99f0eed4-d72c-4954-884b-0736ecb7752b",
   "metadata": {},
   "source": [
    "<br>\n",
    "\n",
    "<code style=\"color: white; background-color: black;\">Example - 3</code> &nbsp;&nbsp;<span style=\"color: #2fbd0b;\">Using the <code style=\"background-color: yellow;\">concatenate()</code> function to join two <span style=\"color: red;\">3D</span> arrays</span>\n",
    "\n",
    "<u><span style=\"color: #a245ff;\">Case-1 :</span></u> &nbsp;&nbsp;<span style=\"color: red;\">axis = None</span> &nbsp;<span style=\"color: blue;\">(it will flatten the arrays before joining)</span>"
   ]
  },
  {
   "cell_type": "code",
   "execution_count": 26,
   "id": "31d5c386-7ef7-43e7-96a6-755bb7c56ada",
   "metadata": {},
   "outputs": [
    {
     "name": "stdout",
     "output_type": "stream",
     "text": [
      "[ 1  2  3  4  5  6  7  8 -1 -2 -3 -4 -5 -6 -7 -8]\n"
     ]
    }
   ],
   "source": [
    "\n",
    "a = np.array([ \n",
    "    [[1, 2], [3, 4]], \n",
    "    [[5, 6], [7, 8]] \n",
    "])                                               # 3D\n",
    "\n",
    "\n",
    "b = np.array([ \n",
    "    [[-1, -2], [-3, -4]], \n",
    "    [[-5, -6], [-7, -8]] \n",
    "])                                               # 3D\n",
    "\n",
    "\n",
    "c = np.concatenate((a, b), axis=None)\n",
    "print(c)\n"
   ]
  },
  {
   "cell_type": "markdown",
   "id": "ffbbae67-84f0-417c-8f22-0b071214035b",
   "metadata": {},
   "source": [
    "<br>\n",
    "\n",
    "<u><span style=\"color: #a245ff;\">Case-2 :</span></u> &nbsp;&nbsp;<span style=\"color: red;\">axis = 0</span> &nbsp;<span style=\"color: blue;\">(default)</span>"
   ]
  },
  {
   "cell_type": "code",
   "execution_count": 31,
   "id": "13aff5cc-18dd-4bf6-855f-60854af917cf",
   "metadata": {},
   "outputs": [
    {
     "name": "stdout",
     "output_type": "stream",
     "text": [
      "[[[ 1  2]\n",
      "  [ 3  4]]\n",
      "\n",
      " [[ 5  6]\n",
      "  [ 7  8]]\n",
      "\n",
      " [[-1 -2]\n",
      "  [-3 -4]]\n",
      "\n",
      " [[-5 -6]\n",
      "  [-7 -8]]]\n"
     ]
    }
   ],
   "source": [
    "\n",
    "a = np.array([ \n",
    "    [[1, 2], [3, 4]], \n",
    "    [[5, 6], [7, 8]] \n",
    "])                                          # 3D array\n",
    "\n",
    "\n",
    "b = np.array([ \n",
    "    [[-1, -2], [-3, -4]], \n",
    "    [[-5, -6], [-7, -8]] \n",
    "])                                          # 3D array\n",
    "\n",
    "\n",
    "c = np.concatenate((a, b), axis=0)\n",
    "print(c)\n"
   ]
  },
  {
   "cell_type": "markdown",
   "id": "cc3c3142-7943-4127-a6e9-fa54354a2bb6",
   "metadata": {},
   "source": [
    "<div style=\"margin-left: 100px;\">\n",
    "\n",
    "![](../media/numpy_53.PNG)\n",
    "\n",
    "</div>\n",
    "\n",
    "<br>\n",
    "\n",
    "<u><span style=\"color: #a245ff;\">Case-3 :</span></u> &nbsp;&nbsp;<span style=\"color: red;\">axis = 1</span>"
   ]
  },
  {
   "cell_type": "code",
   "execution_count": 32,
   "id": "b50128ab-8383-49f8-8922-5ea92016d7f2",
   "metadata": {},
   "outputs": [
    {
     "name": "stdout",
     "output_type": "stream",
     "text": [
      "[[[ 1  2]\n",
      "  [ 3  4]\n",
      "  [-1 -2]\n",
      "  [-3 -4]]\n",
      "\n",
      " [[ 5  6]\n",
      "  [ 7  8]\n",
      "  [-5 -6]\n",
      "  [-7 -8]]]\n"
     ]
    }
   ],
   "source": [
    "\n",
    "a = np.array([ \n",
    "    [[1, 2], [3, 4]], \n",
    "    [[5, 6], [7, 8]] \n",
    "])                                          # 3D array\n",
    "\n",
    "\n",
    "b = np.array([ \n",
    "    [[-1, -2], [-3, -4]], \n",
    "    [[-5, -6], [-7, -8]] \n",
    "])                                          # 3D array\n",
    "\n",
    "\n",
    "c = np.concatenate((a, b), axis=1)\n",
    "print(c)\n"
   ]
  },
  {
   "cell_type": "markdown",
   "id": "a9dfdd6e-1677-435e-b217-6e2b182f3d5a",
   "metadata": {},
   "source": [
    "<div style=\"margin-left: 100px;\">\n",
    "\n",
    "![](../media/numpy_54.PNG)\n",
    "\n",
    "</div>\n",
    "\n",
    "<br>\n",
    "\n",
    "<u><span style=\"color: #a245ff;\">Case-4 :</span></u> &nbsp;&nbsp;<span style=\"color: red;\">axis = 2</span>"
   ]
  },
  {
   "cell_type": "code",
   "execution_count": 33,
   "id": "a95942e0-10bb-4638-b07f-60c2ab34f5d5",
   "metadata": {},
   "outputs": [
    {
     "name": "stdout",
     "output_type": "stream",
     "text": [
      "[[[ 1  2 -1 -2]\n",
      "  [ 3  4 -3 -4]]\n",
      "\n",
      " [[ 5  6 -5 -6]\n",
      "  [ 7  8 -7 -8]]]\n"
     ]
    }
   ],
   "source": [
    "\n",
    "a = np.array([ \n",
    "    [[1, 2], [3, 4]], \n",
    "    [[5, 6], [7, 8]] \n",
    "])                                          # 3D array\n",
    "\n",
    "\n",
    "b = np.array([ \n",
    "    [[-1, -2], [-3, -4]], \n",
    "    [[-5, -6], [-7, -8]] \n",
    "])                                          # 3D array\n",
    "\n",
    "\n",
    "c = np.concatenate((a, b), axis=2)\n",
    "print(c)\n"
   ]
  },
  {
   "cell_type": "markdown",
   "id": "963b1757-7e11-41de-ab17-3df6df7e0cbf",
   "metadata": {},
   "source": [
    "<div style=\"margin-left: 100px;\">\n",
    "\n",
    "![](../media/numpy_55.PNG)\n",
    "\n",
    "</div>"
   ]
  },
  {
   "cell_type": "markdown",
   "id": "1cc1954f-fc51-4dc8-bc8f-729498e37ada",
   "metadata": {
    "jp-MarkdownHeadingCollapsed": true
   },
   "source": [
    "<br>\n",
    "\n",
    "### <div style=\"color: white; background-color: #af87ff; padding: 5px;\"> <code style=\"font-size: 1.2rem; background-color: #af87ff; color: white;\"><strong>numpy.stack()</strong></code> </div>\n"
   ]
  },
  {
   "cell_type": "markdown",
   "id": "3e811370-e0c9-43ff-959c-80b48130b121",
   "metadata": {},
   "source": [
    "\n",
    "<code style=\"background-color: yellow; padding: 8px;\">np.<span style=\"color: red;\">stack<span style=\"font-size: 1.1rem;\">(</span><span style=\"color: black; background-color: white;\">(a1,a2,...)</span>, <span style=\"background-color: white;\"><span style=\"color: black;\">axis</span><span style=\"color: #9b96a1;\">=0</span><span style=\"font-size: 1.1rem;\">)</span></span></span></code> &nbsp;&nbsp;&nbsp;==>&nbsp;&nbsp;&nbsp; stacks (or joins) one or more arrays into a **single array** along a new axis. <br>\n",
    "<span style=\"margin-left: 260px;\">==>&nbsp;&nbsp;&nbsp; The important thing to note is that this function creates a new dimension in the resulting array.</span> <br>\n",
    "<span style=\"margin-left: 260px;\">==>&nbsp;&nbsp;&nbsp; <span style=\"color: blue; background-color: #ebedef;\">&nbsp;(a1, a2, …)&nbsp;</span> is a sequence of arrays with **ndarray** type or **array-like objects**. &nbsp;All arrays <span style=\"color: blue;\">a1</span>, <span style=\"color: blue;\">a2</span>, ... **must have the same shape**.</span> <br>\n",
    "\n",
    "<br>\n",
    "\n",
    "Unlike the &nbsp;<code style=\"color: red;\">concatenate()</code>&nbsp; function, the <code style=\"background-color: yellow;\">stack()</code> function <u>joins 1D arrays to be one 2D array</u> and <u>joins 2D arrays to be one 3D array</u>.\n",
    "\n",
    "Besides the <code style=\"background-color: yellow;\">stack()</code> function, NumPy also has <code style=\"background-color: #b7fffd;\">vstack()</code> function that joins two or more arrays vertically and <code style=\"background-color: #b7fffd;\">hstack()</code> function that joins two or more arrays horizontally.\n",
    "\n",
    "<br>\n",
    "\n",
    "<code style=\"color: white; background-color: black;\">Example - 1</code> &nbsp;&nbsp;<span style=\"color: #2fbd0b;\">Using the <code style=\"background-color: yellow;\">stack()</code> function to join two <span style=\"color: red;\"><strong>1D</strong></span> arrays</span> &nbsp;&nbsp;&nbsp;&nbsp;&nbsp;<span style=\"color: #ff8cba;\">(since the result will be a <strong>2D</strong> array, so you can stack along two axis only <strong>0</strong> or <strong>1</strong>)</span>\n",
    "\n",
    "<u><span style=\"color: #a245ff;\">Case-1 :</span></u> &nbsp;&nbsp;<span style=\"color: red;\">axis = 0</span> &nbsp;<span style=\"color: blue;\">(default)</span>\n"
   ]
  },
  {
   "cell_type": "code",
   "execution_count": 14,
   "id": "85f7f913-d4bc-4d9c-b012-2a5593099d8b",
   "metadata": {},
   "outputs": [
    {
     "name": "stdout",
     "output_type": "stream",
     "text": [
      "[[1 2]\n",
      " [3 4]]\n"
     ]
    }
   ],
   "source": [
    "\n",
    "a = np.array([1, 2])\n",
    "b = np.array([3, 4])\n",
    "\n",
    "c = np.stack((a, b))            # axis = 0  (default)\n",
    "print(c)\n"
   ]
  },
  {
   "cell_type": "markdown",
   "id": "5000f021-7166-4120-b512-d3ac4b3c3a7d",
   "metadata": {},
   "source": [
    "<div style=\"margin-left: 140px;\">\n",
    "\n",
    "![](../media/numpy_56.PNG)\n",
    "\n",
    "</div>\n",
    "\n",
    "<br>\n",
    "\n",
    "<u><span style=\"color: #a245ff;\">Case-2 :</span></u> &nbsp;&nbsp;<span style=\"color: red;\">axis = 1</span>"
   ]
  },
  {
   "cell_type": "code",
   "execution_count": 19,
   "id": "9b83cf35-c55d-4598-9c74-b666f0555dc2",
   "metadata": {},
   "outputs": [
    {
     "name": "stdout",
     "output_type": "stream",
     "text": [
      "[[1 3]\n",
      " [2 4]]\n"
     ]
    }
   ],
   "source": [
    "\n",
    "a = np.array([1, 2])\n",
    "b = np.array([3, 4])\n",
    "\n",
    "c = np.stack((a, b), axis=1)\n",
    "print(c)\n"
   ]
  },
  {
   "cell_type": "markdown",
   "id": "64973e8f-c715-4250-a850-3a416e0387cb",
   "metadata": {},
   "source": [
    "<div style=\"margin-left: 100px;\">\n",
    "\n",
    "![](../media/numpy_57.PNG)\n",
    "\n",
    "</div>\n",
    "\n",
    "<br>\n",
    "\n",
    "<code style=\"color: white; background-color: black;\">Example - 2</code> &nbsp;&nbsp;<span style=\"color: #2fbd0b;\">Using the <code style=\"background-color: yellow; color: red;\">stack()</code> function to join two <span style=\"color: red;\"><strong>2D</strong></span> arrays</span> &nbsp;&nbsp;&nbsp;&nbsp;&nbsp;<span style=\"color: #ff8cba;\">(since the result will be a <strong>3D</strong> array, so you can stack along three axis <strong>0</strong> or <strong>1</strong> or <strong>2</strong>)</span>\n",
    "\n",
    "<u><span style=\"color: #a245ff;\">Case-1 :</span></u> &nbsp;&nbsp;<span style=\"color: red;\">axis = 0</span> &nbsp;<span style=\"color: blue;\">(default)</span>\n"
   ]
  },
  {
   "cell_type": "code",
   "execution_count": 10,
   "id": "63ed168d-e47b-4765-a674-76b2b713425c",
   "metadata": {},
   "outputs": [
    {
     "name": "stdout",
     "output_type": "stream",
     "text": [
      "[[[1 2]\n",
      "  [3 4]]\n",
      "\n",
      " [[5 6]\n",
      "  [7 8]]]\n",
      "(2, 2, 2)\n"
     ]
    }
   ],
   "source": [
    "\n",
    "a = np.array([\n",
    "    [1, 2],\n",
    "    [3, 4]\n",
    "])\n",
    "b = np.array([\n",
    "    [5, 6],\n",
    "    [7, 8]\n",
    "])\n",
    "\n",
    "c = np.stack((a, b))               # c = np.stack((a, b), axis = 0)\n",
    "print(c)\n",
    "print(c.shape)\n"
   ]
  },
  {
   "cell_type": "markdown",
   "id": "e0cd9ea9-db4f-4893-8093-f0280b89c3a8",
   "metadata": {},
   "source": [
    "<div style=\"margin-left: 120px;\">\n",
    "\n",
    "![](../media/numpy_58.PNG)\n",
    "\n",
    "</div>\n",
    "\n",
    "<br>\n",
    "\n",
    "<u><span style=\"color: #a245ff;\">Case-2 :</span></u> &nbsp;&nbsp;<span style=\"color: red;\">axis = 1</span>"
   ]
  },
  {
   "cell_type": "code",
   "execution_count": 12,
   "id": "d0ce25c6-570a-49d7-8c0e-69b5d498be56",
   "metadata": {},
   "outputs": [
    {
     "name": "stdout",
     "output_type": "stream",
     "text": [
      "[[[1 2]\n",
      "  [5 6]]\n",
      "\n",
      " [[3 4]\n",
      "  [7 8]]]\n",
      "(2, 2, 2)\n"
     ]
    }
   ],
   "source": [
    "\n",
    "a = np.array([\n",
    "    [1, 2],\n",
    "    [3, 4]\n",
    "])\n",
    "b = np.array([\n",
    "    [5, 6],\n",
    "    [7, 8]\n",
    "])\n",
    "\n",
    "c = np.stack((a, b), axis = 1)\n",
    "print(c)\n",
    "print(c.shape)\n"
   ]
  },
  {
   "cell_type": "markdown",
   "id": "92df1d57-ae2a-4055-a0de-3b5f44c27d1f",
   "metadata": {},
   "source": [
    "<div style=\"margin-left: 120px;\">\n",
    "\n",
    "![](../media/numpy_59.PNG)\n",
    "\n",
    "</div>\n",
    "\n",
    "<br>\n",
    "\n",
    "<u><span style=\"color: #a245ff;\">Case-3 :</span></u> &nbsp;&nbsp;<span style=\"color: red;\">axis = 2</span>"
   ]
  },
  {
   "cell_type": "code",
   "execution_count": 13,
   "id": "784e068c-0a54-43a7-b1e9-926b2b1e7261",
   "metadata": {},
   "outputs": [
    {
     "name": "stdout",
     "output_type": "stream",
     "text": [
      "[[[1 5]\n",
      "  [2 6]]\n",
      "\n",
      " [[3 7]\n",
      "  [4 8]]]\n",
      "(2, 2, 2)\n"
     ]
    }
   ],
   "source": [
    "\n",
    "a = np.array([\n",
    "    [1, 2],\n",
    "    [3, 4]\n",
    "])\n",
    "b = np.array([\n",
    "    [5, 6],\n",
    "    [7, 8]\n",
    "])\n",
    "\n",
    "c = np.stack((a, b), axis = 2)\n",
    "print(c)\n",
    "print(c.shape)\n"
   ]
  },
  {
   "cell_type": "markdown",
   "id": "822db2ac-2f60-4792-a23e-0ca196d6db50",
   "metadata": {},
   "source": [
    "<div style=\"margin-left: 100px;\">\n",
    "\n",
    "![](../media/numpy_60.PNG)\n",
    "\n",
    "</div>"
   ]
  },
  {
   "cell_type": "markdown",
   "id": "f5c4683e-82b4-4b37-bf21-05aa02ee3dd4",
   "metadata": {
    "jp-MarkdownHeadingCollapsed": true
   },
   "source": [
    "<br>\n",
    "\n",
    "### <div style=\"color: white; background-color: #af87ff; padding: 5px;\"> <code style=\"font-size: 1.2rem; background-color: #af87ff; color: white;\"><strong>numpy.vstack()</strong></code> </div>\n"
   ]
  },
  {
   "cell_type": "markdown",
   "id": "383cd26b-fea2-48b3-91d5-d5cf398dbe6e",
   "metadata": {},
   "source": [
    "<code style=\"background-color: yellow; padding: 8px;\">np.<span style=\"color: red;\">vstack<span style=\"font-size: 1.1rem;\">(</span><span style=\"color: black; background-color: white;\">(a1,a2,...)</span><span style=\"font-size: 1.1rem;\">)</span></span></span></code> &nbsp;&nbsp;&nbsp;==>&nbsp;&nbsp;&nbsp; stacks (or joins) one or more arrays into a **single array** <span style=\"color: blue;\">vertically ( row wise &nbsp;&nbsp;====>&nbsp;&nbsp; <code>axis = 0</code> )</span>. <br>\n",
    "<span style=\"margin-left: 205px;\">==>&nbsp;&nbsp;&nbsp; All arrays a1, a2, ... must have the same shape along all but the <span style=\"color: blue;\"><strong>1st axis</strong></span>. &nbsp;If they’re 1D arrays, then they must have the <strong>same length</strong>.</span> <br>\n",
    "\n",
    "<br>\n",
    "\n",
    "<code style=\"color: white; background-color: black;\">Example - 1</code> &nbsp;&nbsp;<span style=\"color: #2fbd0b;\">Using the <code style=\"background-color: yellow;\">vstack()</code> function to join elements of two <span style=\"color: red;\"><strong>1D</strong></span> arrays vertically (along the <strong>1st axis</strong>)</span>"
   ]
  },
  {
   "cell_type": "code",
   "execution_count": 9,
   "id": "8b7175a2-9086-4871-9be3-fde6ddb8fbab",
   "metadata": {},
   "outputs": [
    {
     "name": "stdout",
     "output_type": "stream",
     "text": [
      "[[1 2]\n",
      " [3 4]]\n",
      "(2, 2)\n"
     ]
    }
   ],
   "source": [
    "\n",
    "a = np.array([1, 2])                    # 1D array    =====>    (2, )\n",
    "b = np.array([3, 4])                    # 1D array    =====>    (2, )\n",
    "\n",
    "c = np.vstack((a, b))                   # 2D array    =====>    (2, 2)    =====>    2 rows, 2 columns\n",
    "print(c)\n",
    "\n",
    "print(c.shape)\n"
   ]
  },
  {
   "cell_type": "markdown",
   "id": "c8eaa611-d7bd-4797-9974-66edbeaed232",
   "metadata": {},
   "source": [
    "<div style=\"margin-left: 85px;\">\n",
    "\n",
    "![](../media/numpy_61.PNG)\n",
    "\n",
    "</div>\n",
    "\n",
    "<br>\n",
    "\n",
    "<strong>Note</strong> that for 1D arrays, <u>all input arrays must have the same length</u> or you’ll get an error."
   ]
  },
  {
   "cell_type": "code",
   "execution_count": 8,
   "id": "a980a808-cf4e-4655-9500-6b6228c8a1ea",
   "metadata": {},
   "outputs": [
    {
     "ename": "ValueError",
     "evalue": "all the input array dimensions for the concatenation axis must match exactly, but along dimension 1, the array at index 0 has size 2 and the array at index 1 has size 3",
     "output_type": "error",
     "traceback": [
      "\u001b[1;31m---------------------------------------------------------------------------\u001b[0m",
      "\u001b[1;31mValueError\u001b[0m                                Traceback (most recent call last)",
      "Cell \u001b[1;32mIn[8], line 4\u001b[0m\n\u001b[0;32m      1\u001b[0m a \u001b[38;5;241m=\u001b[39m np\u001b[38;5;241m.\u001b[39marray([\u001b[38;5;241m1\u001b[39m, \u001b[38;5;241m2\u001b[39m])                    \u001b[38;5;66;03m# 1D array    ====>    (2, )\u001b[39;00m\n\u001b[0;32m      2\u001b[0m b \u001b[38;5;241m=\u001b[39m np\u001b[38;5;241m.\u001b[39marray([\u001b[38;5;241m3\u001b[39m, \u001b[38;5;241m4\u001b[39m, \u001b[38;5;241m5\u001b[39m])                 \u001b[38;5;66;03m# 1D array    ====>    (3, )\u001b[39;00m\n\u001b[1;32m----> 4\u001b[0m c \u001b[38;5;241m=\u001b[39m \u001b[43mnp\u001b[49m\u001b[38;5;241;43m.\u001b[39;49m\u001b[43mvstack\u001b[49m\u001b[43m(\u001b[49m\u001b[43m(\u001b[49m\u001b[43ma\u001b[49m\u001b[43m,\u001b[49m\u001b[43m \u001b[49m\u001b[43mb\u001b[49m\u001b[43m)\u001b[49m\u001b[43m)\u001b[49m\n\u001b[0;32m      5\u001b[0m \u001b[38;5;28mprint\u001b[39m(c)\n",
      "File \u001b[1;32m<__array_function__ internals>:180\u001b[0m, in \u001b[0;36mvstack\u001b[1;34m(*args, **kwargs)\u001b[0m\n",
      "File \u001b[1;32m~\\AppData\\Local\\Programs\\Python\\Python311\\Lib\\site-packages\\numpy\\core\\shape_base.py:282\u001b[0m, in \u001b[0;36mvstack\u001b[1;34m(tup)\u001b[0m\n\u001b[0;32m    280\u001b[0m \u001b[38;5;28;01mif\u001b[39;00m \u001b[38;5;129;01mnot\u001b[39;00m \u001b[38;5;28misinstance\u001b[39m(arrs, \u001b[38;5;28mlist\u001b[39m):\n\u001b[0;32m    281\u001b[0m     arrs \u001b[38;5;241m=\u001b[39m [arrs]\n\u001b[1;32m--> 282\u001b[0m \u001b[38;5;28;01mreturn\u001b[39;00m \u001b[43m_nx\u001b[49m\u001b[38;5;241;43m.\u001b[39;49m\u001b[43mconcatenate\u001b[49m\u001b[43m(\u001b[49m\u001b[43marrs\u001b[49m\u001b[43m,\u001b[49m\u001b[43m \u001b[49m\u001b[38;5;241;43m0\u001b[39;49m\u001b[43m)\u001b[49m\n",
      "File \u001b[1;32m<__array_function__ internals>:180\u001b[0m, in \u001b[0;36mconcatenate\u001b[1;34m(*args, **kwargs)\u001b[0m\n",
      "\u001b[1;31mValueError\u001b[0m: all the input array dimensions for the concatenation axis must match exactly, but along dimension 1, the array at index 0 has size 2 and the array at index 1 has size 3"
     ]
    }
   ],
   "source": [
    "\n",
    "a = np.array([1, 2])                    # 1D array    ====>    (2, )\n",
    "b = np.array([3, 4, 5])                 # 1D array    ====>    (3, )\n",
    "\n",
    "c = np.vstack((a, b))\n",
    "print(c)\n"
   ]
  },
  {
   "cell_type": "markdown",
   "id": "2d411d8f-b3d7-4253-b06e-d95a87a2dd0b",
   "metadata": {},
   "source": [
    "<br>\n",
    "\n",
    "<code style=\"color: white; background-color: black;\">Example - 2</code> &nbsp;&nbsp;<span style=\"color: #2fbd0b;\">Using the <code style=\"background-color: yellow;\">vstack()</code> function to join elements of two <span style=\"color: red;\"><strong>2D</strong></span> arrays vertically (along the <strong>1st axis</strong>)</span>"
   ]
  },
  {
   "cell_type": "code",
   "execution_count": 7,
   "id": "f2af822b-868c-4bd5-83a7-9ed2aecc66fa",
   "metadata": {},
   "outputs": [
    {
     "name": "stdout",
     "output_type": "stream",
     "text": [
      "[[1 2]\n",
      " [3 4]\n",
      " [5 6]\n",
      " [7 8]]\n",
      "(4, 2)\n"
     ]
    }
   ],
   "source": [
    "\n",
    "a = np.array([\n",
    "    [1, 2],\n",
    "    [3, 4]\n",
    "])                                     # 2D array     ======>    (2, 2)    ======>    2 rows, 2 columns\n",
    "\n",
    "b = np.array([\n",
    "    [5, 6],\n",
    "    [7, 8]\n",
    "])                                     # 2D array     ======>    (2, 2)    ======>    2 rows, 2 columns\n",
    "\n",
    "c = np.vstack((a, b))                  # 2D array     ======>    (4, 2)    ======>    4 rows, 2 columns\n",
    "print(c)\n",
    "\n",
    "print(c.shape)\n"
   ]
  },
  {
   "cell_type": "markdown",
   "id": "9d3b5a5e-bf60-4b2b-a74f-60e3b46d426d",
   "metadata": {},
   "source": [
    "<div style=\"margin-left: 120px;\">\n",
    "\n",
    "![](../media/numpy_62.PNG)\n",
    "\n",
    "</div>\n",
    "\n",
    "<br>\n",
    "\n",
    "<code style=\"color: white; background-color: black;\">Example - 3</code> &nbsp;&nbsp;<span style=\"color: #2fbd0b;\">Using the <code style=\"background-color: yellow;\">vstack()</code> function to join elements of two <span style=\"color: red;\"><strong>3D</strong></span> arrays vertically (along the <strong>1st axis</strong>)</span>"
   ]
  },
  {
   "cell_type": "code",
   "execution_count": 6,
   "id": "34d4d2cd-c381-4de1-9902-9b0ca9d3f9ae",
   "metadata": {},
   "outputs": [
    {
     "name": "stdout",
     "output_type": "stream",
     "text": [
      "[[[ 1  2]\n",
      "  [ 3  4]]\n",
      "\n",
      " [[ 5  6]\n",
      "  [ 7  8]]\n",
      "\n",
      " [[-1 -2]\n",
      "  [-3 -4]]\n",
      "\n",
      " [[-5 -6]\n",
      "  [-7 -8]]]\n",
      "(4, 2, 2)\n"
     ]
    }
   ],
   "source": [
    "\n",
    "a = np.array([ \n",
    "    [[1, 2], [3, 4]], \n",
    "    [[5, 6], [7, 8]] \n",
    "])                                     # 3D array     ======>    (2, 2, 2)    ======>    2 layers, 2 rows, 2 columns\n",
    "\n",
    "b = np.array([ \n",
    "    [[-1, -2], [-3, -4]], \n",
    "    [[-5, -6], [-7, -8]] \n",
    "])                                     # 3D array     ======>    (2, 2, 2)    ======>    2 layers, 2 rows, 2 columns\n",
    "\n",
    "c = np.vstack((a, b))                  # 3D array     ======>    (4, 2, 2)    ======>    4 layers, 2 rows, 2 columns\n",
    "print(c)\n",
    "print(c.shape)                         \n"
   ]
  },
  {
   "cell_type": "markdown",
   "id": "1fb4f919-0411-4742-8bbb-aa37bdb82f3e",
   "metadata": {},
   "source": [
    "<div style=\"margin-left: 100px;\">\n",
    "\n",
    "![](../media/numpy_63.PNG)\n",
    "\n",
    "</div>"
   ]
  },
  {
   "cell_type": "markdown",
   "id": "066bdcaf-d8c4-4000-bcd6-6c8f0aa04c17",
   "metadata": {
    "jp-MarkdownHeadingCollapsed": true
   },
   "source": [
    "<br>\n",
    "\n",
    "### <div style=\"color: white; background-color: #af87ff; padding: 5px;\"> <code style=\"font-size: 1.2rem; background-color: #af87ff; color: white;\"><strong>numpy.hstack()</strong></code> </div>\n"
   ]
  },
  {
   "cell_type": "markdown",
   "id": "62e3b787-3bce-44b9-bd45-802e234b6fb1",
   "metadata": {},
   "source": [
    "<code style=\"background-color: yellow; padding: 8px;\">np.<span style=\"color: red;\">hstack<span style=\"font-size: 1.1rem;\">(</span><span style=\"color: black; background-color: white;\">(a1,a2,...)</span><span style=\"font-size: 1.1rem;\">)</span></span></span></code> &nbsp;&nbsp;&nbsp;==>&nbsp;&nbsp;&nbsp; stacks (or joins) one or more arrays into a **single array** <span style=\"color: blue;\">horizontally ( column wise &nbsp;&nbsp;====>&nbsp;&nbsp; <code>axis = 1</code> )</span>. <br>\n",
    "<span style=\"margin-left: 205px;\">==>&nbsp;&nbsp;&nbsp; All arrays a1, a2, ... must have the same shape along all but the <u>2nd axis</u>. &nbsp;If all arrays are 1D arrays, then they can have <strong>any length</strong>.</span> <br>\n",
    "\n",
    "<br>\n",
    "\n",
    "<code style=\"color: white; background-color: black;\">Example - 1</code> &nbsp;&nbsp;<span style=\"color: #2fbd0b;\">Using the <code style=\"background-color: yellow;\">hstack()</code> function to join elements of two <span style=\"color: red;\"><strong>1D</strong></span> arrays horizontally (along the <strong>2nd axis</strong>)</span>"
   ]
  },
  {
   "cell_type": "code",
   "execution_count": 11,
   "id": "376a53fb-000b-4bd5-b97e-44885951a79c",
   "metadata": {},
   "outputs": [
    {
     "name": "stdout",
     "output_type": "stream",
     "text": [
      "[1 2 3 4 5]\n",
      "(5,)\n"
     ]
    }
   ],
   "source": [
    "\n",
    "a = np.array([1, 2])                   # 1D array     ======>    (2, )\n",
    "b = np.array([3, 4, 5])                # 1D array     ======>    (3, )\n",
    "\n",
    "c = np.hstack((a, b))                  # 1D array     ======>    (5, )\n",
    "print(c)\n",
    "\n",
    "print(c.shape)\n"
   ]
  },
  {
   "cell_type": "markdown",
   "id": "4ff20127-1311-43be-825a-40a74f1c67c0",
   "metadata": {},
   "source": [
    "<div style=\"margin-left: 160px;\">\n",
    "\n",
    "![](../media/numpy_64.PNG)\n",
    "\n",
    "</div>\n",
    "\n",
    "<br>\n",
    "\n",
    "<strong>Note</strong> that for 1D arrays, the input arrays <u>can have different lengths</u> as shown in the above example.\n",
    "\n",
    "<br>\n",
    "\n",
    "<code style=\"color: white; background-color: black;\">Example - 2</code> &nbsp;&nbsp;<span style=\"color: #2fbd0b;\">Using the <code style=\"background-color: yellow;\">hstack()</code> function to join elements of two <span style=\"color: red;\"><strong>2D</strong></span> arrays horizontally (along the <strong>2nd axis</strong>)</span>"
   ]
  },
  {
   "cell_type": "code",
   "execution_count": 12,
   "id": "76341e9f-7675-4300-a118-89f1b703fe1c",
   "metadata": {},
   "outputs": [
    {
     "name": "stdout",
     "output_type": "stream",
     "text": [
      "[[1 2 5 6]\n",
      " [3 4 7 8]]\n",
      "(2, 4)\n"
     ]
    }
   ],
   "source": [
    "\n",
    "a = np.array([\n",
    "    [1, 2],\n",
    "    [3, 4]\n",
    "])                                     # 2D array     ======>    (2, 2)     ======>    2 rows, 2 columns\n",
    "\n",
    "b = np.array([\n",
    "    [5, 6],\n",
    "    [7, 8]\n",
    "])                                     # 2D array     ======>    (2, 2)     ======>    2 rows, 2 columns\n",
    "\n",
    "c = np.hstack((a, b))\n",
    "print(c)                               # 2D array     ======>    (2, 4)     ======>    2 rows, 4 columns\n",
    "\n",
    "print(c.shape)\n"
   ]
  },
  {
   "cell_type": "markdown",
   "id": "1eaf1da5-5188-4a77-b5ab-509814cdf838",
   "metadata": {},
   "source": [
    "<div style=\"margin-left: 100px;\">\n",
    "\n",
    "![](../media/numpy_65.PNG)\n",
    "\n",
    "</div>\n",
    "\n",
    "<br>\n",
    "\n",
    "<code style=\"color: white; background-color: black;\">Example - 3</code> &nbsp;&nbsp;<span style=\"color: #2fbd0b;\">Using the <code style=\"background-color: yellow;\">hstack()</code> function to join elements of two <span style=\"color: red;\"><strong>3D</strong></span> arrays horizontally (along the <strong>2nd axis</strong>)</span>"
   ]
  },
  {
   "cell_type": "code",
   "execution_count": 13,
   "id": "870db49f-2cc4-441a-9d1a-38221c036a0f",
   "metadata": {},
   "outputs": [
    {
     "name": "stdout",
     "output_type": "stream",
     "text": [
      "[[[ 1  2]\n",
      "  [ 3  4]\n",
      "  [-1 -2]\n",
      "  [-3 -4]]\n",
      "\n",
      " [[ 5  6]\n",
      "  [ 7  8]\n",
      "  [-5 -6]\n",
      "  [-7 -8]]]\n",
      "(2, 4, 2)\n"
     ]
    }
   ],
   "source": [
    "\n",
    "a = np.array([ \n",
    "    [[1, 2], [3, 4]], \n",
    "    [[5, 6], [7, 8]] \n",
    "])                                     # 3D array     ======>    (2, 2, 2)     ======>    2 layers, 2 rows, 2 columns\n",
    "\n",
    "\n",
    "b = np.array([ \n",
    "    [[-1, -2], [-3, -4]], \n",
    "    [[-5, -6], [-7, -8]] \n",
    "])                                     # 3D array     ======>    (2, 2, 2)     ======>    2 layers, 2 rows, 2 columns\n",
    "\n",
    "c = np.hstack((a, b))\n",
    "print(c)                               # 3D array     ======>    (2, 4, 2)     ======>    2 layers, 4 rows, 2 columns\n",
    "\n",
    "print(c.shape)\n"
   ]
  },
  {
   "cell_type": "markdown",
   "id": "4d210875-657e-4094-86f6-166c0127eae9",
   "metadata": {},
   "source": [
    "<div style=\"margin-left: 100px;\">\n",
    "\n",
    "![](../media/numpy_66.PNG)\n",
    "\n",
    "</div>"
   ]
  },
  {
   "cell_type": "markdown",
   "id": "96438980-ebcd-4fdc-bcb8-a2641cfa440a",
   "metadata": {
    "jp-MarkdownHeadingCollapsed": true
   },
   "source": [
    "<br>\n",
    "\n",
    "### <div style=\"color: white; background-color: #af87ff; padding: 5px;\"> <code style=\"font-size: 1.2rem; background-color: #af87ff; color: white;\"><strong>numpy.dstack()</strong></code> </div>\n"
   ]
  },
  {
   "cell_type": "markdown",
   "id": "ee3dacde-9c50-4477-a4f0-d4a1df057d0b",
   "metadata": {},
   "source": [
    "<code style=\"background-color: yellow; padding: 8px;\">np.<span style=\"color: red;\">hstack<span style=\"font-size: 1.1rem;\">(</span><span style=\"color: black; background-color: white;\">(a1,a2,...)</span><span style=\"font-size: 1.1rem;\">)</span></span></span></code> &nbsp;&nbsp;&nbsp;==>&nbsp;&nbsp;&nbsp; stacks (or joins) one or more arrays into a **single array** <span style=\"color: blue;\">along the <u>3rd axis</u> ( depth wise &nbsp;&nbsp;====>&nbsp;&nbsp; <code>axis = 0</code> )</span>. <br>\n",
    "\n",
    "<br>\n",
    "\n",
    "<code style=\"color: white; background-color: black;\">Example - 1</code> &nbsp;&nbsp;<span style=\"color: #2fbd0b;\">Using the <code style=\"background-color: yellow;\">hstack()</code> function to join elements of two <span style=\"color: red;\"><strong>1D</strong></span> arrays along the <strong>3rd axis<strong></span>\n"
   ]
  },
  {
   "cell_type": "code",
   "execution_count": 15,
   "id": "46e7f82d-6f51-47aa-9396-551e9b1cdafe",
   "metadata": {},
   "outputs": [
    {
     "name": "stdout",
     "output_type": "stream",
     "text": [
      "[[[1 4]\n",
      "  [2 5]\n",
      "  [3 6]]]\n",
      "(1, 3, 2)\n"
     ]
    }
   ],
   "source": [
    "\n",
    "a = np.array((1,2,3))                   # 1D array\n",
    "b = np.array((4,5,6))                   # 1D array\n",
    "c = np.dstack((a,b))                    # 3D array\n",
    "\n",
    "print(c)\n",
    "print(c.shape)                          # (1, 3, 2)    ======>    1 layer, 3 rows, 2 columns\n"
   ]
  },
  {
   "cell_type": "markdown",
   "id": "7210df01-ef91-4201-a82b-60b0277ec594",
   "metadata": {},
   "source": [
    "<div style=\"margin-left: 120px;\">\n",
    "\n",
    "![](../media/numpy_67.PNG)\n",
    "\n",
    "</div>\n",
    "\n",
    "<br>\n",
    "\n",
    "<code style=\"color: white; background-color: black;\">Example - 2A</code> &nbsp;&nbsp;<span style=\"color: #2fbd0b;\">Using the <code style=\"background-color: yellow;\">dstack()</code> function to join elements of two <span style=\"color: red;\"><strong>2D</strong></span> arrays along the <strong>3rd axis</strong></span>\n"
   ]
  },
  {
   "cell_type": "code",
   "execution_count": 3,
   "id": "b6a22411-f3a1-4b89-bcf5-931eb2667f21",
   "metadata": {},
   "outputs": [
    {
     "name": "stdout",
     "output_type": "stream",
     "text": [
      "[[[1 4]]\n",
      "\n",
      " [[2 5]]\n",
      "\n",
      " [[3 6]]]\n",
      "(3, 1, 2)\n"
     ]
    }
   ],
   "source": [
    "\n",
    "a = np.array([[1],[2],[3]])             # 2D array   ====>   shape = (3, 1)\n",
    "b = np.array([[4],[5],[6]])             # 2D array   ====>   shape = (3, 1)\n",
    "c = np.dstack((a,b))                    # 3D array   ====>   shape = (3, 1, 2)\n",
    "print(c)\n",
    "print(c.shape)\n"
   ]
  },
  {
   "cell_type": "markdown",
   "id": "8964011d-fed1-469b-a25d-13b0f8547d04",
   "metadata": {},
   "source": [
    "<div style=\"margin-left: 110px;\">\n",
    "\n",
    "![](../media/numpy_68.PNG)\n",
    "\n",
    "</div>\n",
    "\n",
    "<br>\n",
    "\n",
    "<code style=\"color: white; background-color: black;\">Example - 2B</code> &nbsp;&nbsp;<span style=\"color: #2fbd0b;\">Using the <code style=\"background-color: yellow;\">dstack()</code> function to join elements of two <span style=\"color: red;\"><strong>2D</strong></span> arrays along the <strong>3rd axis</strong></span>\n"
   ]
  },
  {
   "cell_type": "code",
   "execution_count": 4,
   "id": "97eba437-0701-472d-b3a4-414e8106d891",
   "metadata": {},
   "outputs": [
    {
     "name": "stdout",
     "output_type": "stream",
     "text": [
      "[[[1 5]\n",
      "  [2 6]]\n",
      "\n",
      " [[3 7]\n",
      "  [4 8]]]\n",
      "(2, 2, 2)\n"
     ]
    }
   ],
   "source": [
    "\n",
    "\n",
    "a = np.array([\n",
    "    [1, 2],\n",
    "    [3, 4]\n",
    "])                                 # 2D\n",
    "\n",
    "\n",
    "b = np.array([\n",
    "    [5, 6],\n",
    "    [7, 8]\n",
    "])                                 # 2D\n",
    "\n",
    "c = np.dstack((a,b))\n",
    "\n",
    "print(c)\n",
    "print(c.shape)\n"
   ]
  },
  {
   "cell_type": "markdown",
   "id": "ba2039ef-46d9-4fdf-a8b6-b3c9c1f37426",
   "metadata": {},
   "source": [
    "<div style=\"margin-left: 130px;\">\n",
    "\n",
    "![](../media/numpy_69.PNG)\n",
    "\n",
    "</div>\n",
    "\n",
    "<br>\n",
    "\n",
    "<code style=\"color: white; background-color: black;\">Example - 3</code> &nbsp;&nbsp;<span style=\"color: #2fbd0b;\">Using the <code style=\"background-color: yellow;\">dstack()</code> function to join elements of two <span style=\"color: red;\"><strong>3D</strong></span> arrays along the <strong>3rd axis</strong></span>\n"
   ]
  },
  {
   "cell_type": "code",
   "execution_count": 7,
   "id": "1c0abded-ae76-4362-86c4-545a3d862d8a",
   "metadata": {},
   "outputs": [
    {
     "name": "stdout",
     "output_type": "stream",
     "text": [
      "[[[ 1  2 -1 -2]\n",
      "  [ 3  4 -3 -4]]\n",
      "\n",
      " [[ 5  6 -5 -6]\n",
      "  [ 7  8 -7 -8]]]\n",
      "(2, 2, 4)\n"
     ]
    }
   ],
   "source": [
    "\n",
    "a = np.array([ \n",
    "    [[1, 2], [3, 4]], \n",
    "    [[5, 6], [7, 8]] \n",
    "])                                     # 3D array\n",
    "\n",
    "\n",
    "b = np.array([ \n",
    "    [[-1, -2], [-3, -4]], \n",
    "    [[-5, -6], [-7, -8]] \n",
    "])                                     # 3D array\n",
    "\n",
    "c = np.dstack((a,b))\n",
    "\n",
    "print(c)\n",
    "print(c.shape)\n"
   ]
  },
  {
   "cell_type": "markdown",
   "id": "f0e1d5dd-205e-4117-8df2-3bd05484a0c1",
   "metadata": {},
   "source": [
    "<div style=\"margin-left: 110px;\">\n",
    "\n",
    "![](../media/numpy_70.PNG)\n",
    "\n",
    "</div>"
   ]
  },
  {
   "cell_type": "markdown",
   "id": "bd212156-0031-45e0-9511-24ba4866069d",
   "metadata": {
    "jp-MarkdownHeadingCollapsed": true
   },
   "source": [
    "<br>\n",
    "\n",
    "### <div style=\"color: white; background-color: #af87ff; padding: 5px;\"> <code style=\"font-size: 1.2rem; background-color: #af87ff; color: white;\"><strong>numpy.column_stack()</strong></code> </div>\n"
   ]
  },
  {
   "cell_type": "markdown",
   "id": "4e1491e5-d312-49ca-b55d-017f7062a024",
   "metadata": {},
   "source": [
    "<code style=\"background-color: yellow;\">numpy.<span style=\"color: red;\">column_stack</span>(tup)</code>   &nbsp;&nbsp;&nbsp;====>&nbsp;&nbsp;   where tup = a sequence (tuple) of 1D or 2D arrays to be stacked as columns\n",
    "\n",
    "<u>Key Points</u>\n",
    "\n",
    "&nbsp;&nbsp;&nbsp;&nbsp;<span style=\"font-size: 0.7rem; color: red;\">■</span>&nbsp;&nbsp;&nbsp;If the input arrays are 1D, they are stacked as columns into a 2D array. &nbsp;1-D arrays are turned into 2-D columns first  <br>\n",
    "&nbsp;&nbsp;&nbsp;&nbsp;<span style=\"font-size: 0.7rem; color: red;\">■</span>&nbsp;&nbsp;&nbsp;If the input arrays are already 2D, they are concatenated along the second axis (i.e., axis=1) like hstack  <br>\n",
    "&nbsp;&nbsp;&nbsp;&nbsp;<span style=\"font-size: 0.7rem; color: red;\">■</span>&nbsp;&nbsp;&nbsp;**The resulting array will always be 2D**\n",
    "\n",
    "<br>\n",
    "\n",
    "<code style=\"color: white; background-color: black;\">Example - 1</code> &nbsp;&nbsp;<span style=\"color: #2fbd0b;\">Using the <code style=\"background-color: yellow;\">column_stack()</code> function to join two <span style=\"color: red;\"><strong>1D</strong></span> arrays along<strong> axis = 1</strong></span>\n"
   ]
  },
  {
   "cell_type": "code",
   "execution_count": 6,
   "id": "7ca572d1-8edd-4ec6-856c-94172f653a6c",
   "metadata": {},
   "outputs": [
    {
     "name": "stdout",
     "output_type": "stream",
     "text": [
      "[[1 4]\n",
      " [2 5]\n",
      " [3 6]]\n"
     ]
    },
    {
     "data": {
      "text/plain": [
       "(3, 2)"
      ]
     },
     "execution_count": 6,
     "metadata": {},
     "output_type": "execute_result"
    }
   ],
   "source": [
    "\n",
    "a = np.array([1, 2, 3])\n",
    "b = np.array([4, 5, 6])\n",
    "\n",
    "# Stack the 1D arrays as columns\n",
    "result = np.column_stack((a, b))\n",
    "\n",
    "print(result)\n",
    "result.shape\n"
   ]
  },
  {
   "cell_type": "markdown",
   "id": "61d2787c-94a6-4387-b8f7-b153f4eb72d7",
   "metadata": {},
   "source": [
    "<div style=\"margin-left: 110px;\">\n",
    "\n",
    "![](../media/numpy_71.PNG)\n",
    "\n",
    "</div>\n",
    "\n",
    "<br>\n",
    "\n",
    "<code style=\"color: white; background-color: black;\">Example - 2</code> &nbsp;&nbsp;<span style=\"color: #2fbd0b;\">Using the <code style=\"background-color: yellow;\">column_stack()</code> function to join two <span style=\"color: red;\"><strong>2D</strong></span> arrays along<strong> axis = 1</strong></span>\n"
   ]
  },
  {
   "cell_type": "code",
   "execution_count": 7,
   "id": "c1f2ccc4-c0c1-4af3-9d4d-eb4903be4a13",
   "metadata": {},
   "outputs": [
    {
     "name": "stdout",
     "output_type": "stream",
     "text": [
      "[[1 2 5 6]\n",
      " [3 4 7 8]]\n",
      "(2, 4)\n"
     ]
    }
   ],
   "source": [
    "\n",
    "a = np.array([\n",
    "    [1, 2],\n",
    "    [3, 4]\n",
    "])\n",
    "\n",
    "b = np.array([\n",
    "    [5, 6],\n",
    "    [7, 8]\n",
    "])\n",
    "\n",
    "c = np.column_stack((a, b))\n",
    "print(c)\n",
    "print(c.shape)\n"
   ]
  },
  {
   "cell_type": "markdown",
   "id": "30190c78-9b40-42e6-96a1-8204123cf261",
   "metadata": {},
   "source": [
    "<div style=\"margin-left: 110px;\">\n",
    "\n",
    "![](../media/numpy_72.PNG)\n",
    "\n",
    "</div>\n"
   ]
  },
  {
   "cell_type": "markdown",
   "id": "9b7c4451-4460-48e7-a526-33455e99bfdf",
   "metadata": {
    "jp-MarkdownHeadingCollapsed": true
   },
   "source": [
    "<br>\n",
    "\n",
    "### <div style=\"color: white; background-color: #af87ff; padding: 5px;\"> <code style=\"font-size: 1.2rem; background-color: #af87ff; color: white;\"><strong>numpy.split()</strong></code> </div>\n"
   ]
  },
  {
   "cell_type": "markdown",
   "id": "adc61403-3517-447e-b69b-1a3e12f49c44",
   "metadata": {},
   "source": [
    "\n",
    "<code style=\"background-color: yellow; padding: 6px;\">numpy.<span style=\"color: red;\">split(<span style=\"color: black;\">arr</span>, <span style=\"color: black;\">indices_or_sections</span>, <span style=\"color: black;\">axis</span><span style=\"color: #9b96a1;\">=0</span>)</span></code> &nbsp;&nbsp;&nbsp;&nbsp;====>&nbsp;&nbsp;&nbsp;&nbsp;splits an array into <strong>multiple sub-arrays</strong> as views.\n",
    "\n",
    "<div style=\"margin-left: 378px;\">\n",
    "    \n",
    "====>&nbsp;&nbsp;&nbsp;&nbsp;where, &nbsp;<code>arr</code> is the array to be split into subarrays, and <br>\n",
    "\n",
    "<code style=\"margin-left: 110px;\">indices_or_sections</code> can be an integer or a 1-D array of sorted integers\n",
    "\n",
    "<div style=\"margin-left: 140px;\">\n",
    "    \n",
    "- <u><span style=\"color: blue;\">If it is an integer</span></u>, the function splits the input array into N equal arrays along the axis. If the split is not possible, the function will raise an error.\n",
    "\n",
    "- <u><span style=\"color: blue;\">If indices_or_sections is a 1D array of sorted integers</span></u>, the indices indicate where along the axis the function splits the array.\n",
    "</div>\n",
    "\n",
    "</div>\n",
    "\n",
    "<br>\n",
    "\n",
    "<span style=\"font-size: 1.5rem;\">⭐&nbsp;</span>The following picture shows how the &nbsp;<code style=\"background-color: yellow;\">split()</code>&nbsp; function splits the array with indices 2, 3, and 4. &nbsp;It results in 4 arrays.\n",
    "\n",
    "<div style=\"margin-left: 130px;\">\n",
    "\n",
    "![](../media/numpy_split.PNG)\n",
    "\n",
    "</div>\n",
    "\n",
    "<br>\n",
    "\n",
    "<code style=\"color: white; background-color: black;\">Example - 1</code> &nbsp;&nbsp;<span style=\"color: #2fbd0b;\">Using the &nbsp;<code style=\"background-color: yellow;\">split()</code>&nbsp; function to split a <span style=\"color: red;\">**1D**</span> array</span>"
   ]
  },
  {
   "cell_type": "code",
   "execution_count": 69,
   "id": "2aa30cb5-17b4-4a69-93a3-a6ee53fe7ad5",
   "metadata": {},
   "outputs": [
    {
     "name": "stdout",
     "output_type": "stream",
     "text": [
      "[1 2 3 4 5 6]\n",
      "[array([1, 2]), array([3, 4]), array([5, 6])]\n",
      "[1 2]\n",
      "[3 4]\n",
      "[5 6]\n"
     ]
    }
   ],
   "source": [
    "\n",
    "a = np.arange(1,7)                              # [1,  2,  3,  4,  5,  6]\n",
    "\n",
    "results = np.split(a,3)                         # It is possible to split the array \"a\" into 3 equal parts, hence no error\n",
    "\n",
    "\n",
    "\n",
    "print(a)                                        # OUTPUT: [1 2 3 4 5 6]\n",
    "print(results)                                  # OUTPUT: [array([1, 2]), array([3, 4]), array([5, 6])]\n",
    "for row in results:\n",
    "    print(row)                                  # OUTPUT: [1 2]    <-----    1D array    =====>    (2,)\n",
    "                                                #         [3 4]    <-----    1D array    =====>    (2,)\n",
    "                                                #         [5 6]    <-----    1D array    =====>    (2,)\n"
   ]
  },
  {
   "cell_type": "code",
   "execution_count": 5,
   "id": "561cbe09-180d-4464-96ff-7af3dedd05ef",
   "metadata": {},
   "outputs": [
    {
     "ename": "ValueError",
     "evalue": "array split does not result in an equal division",
     "output_type": "error",
     "traceback": [
      "\u001b[1;31m---------------------------------------------------------------------------\u001b[0m",
      "\u001b[1;31mValueError\u001b[0m                                Traceback (most recent call last)",
      "Cell \u001b[1;32mIn[5], line 3\u001b[0m\n\u001b[0;32m      1\u001b[0m a \u001b[38;5;241m=\u001b[39m np\u001b[38;5;241m.\u001b[39marange(\u001b[38;5;241m1\u001b[39m,\u001b[38;5;241m7\u001b[39m)                             \u001b[38;5;66;03m# [1,  2,  3,  4,  5,  6]\u001b[39;00m\n\u001b[1;32m----> 3\u001b[0m results \u001b[38;5;241m=\u001b[39m \u001b[43mnp\u001b[49m\u001b[38;5;241;43m.\u001b[39;49m\u001b[43msplit\u001b[49m\u001b[43m(\u001b[49m\u001b[43ma\u001b[49m\u001b[43m,\u001b[49m\u001b[38;5;241;43m4\u001b[39;49m\u001b[43m)\u001b[49m                        \u001b[38;5;66;03m# It is not  possible to split the array \"a\" into 4 equal parts, hence the error\u001b[39;00m\n",
      "File \u001b[1;32m<__array_function__ internals>:180\u001b[0m, in \u001b[0;36msplit\u001b[1;34m(*args, **kwargs)\u001b[0m\n",
      "File \u001b[1;32m~\\AppData\\Local\\Programs\\Python\\Python311\\Lib\\site-packages\\numpy\\lib\\shape_base.py:872\u001b[0m, in \u001b[0;36msplit\u001b[1;34m(ary, indices_or_sections, axis)\u001b[0m\n\u001b[0;32m    870\u001b[0m     N \u001b[38;5;241m=\u001b[39m ary\u001b[38;5;241m.\u001b[39mshape[axis]\n\u001b[0;32m    871\u001b[0m     \u001b[38;5;28;01mif\u001b[39;00m N \u001b[38;5;241m%\u001b[39m sections:\n\u001b[1;32m--> 872\u001b[0m         \u001b[38;5;28;01mraise\u001b[39;00m \u001b[38;5;167;01mValueError\u001b[39;00m(\n\u001b[0;32m    873\u001b[0m             \u001b[38;5;124m'\u001b[39m\u001b[38;5;124marray split does not result in an equal division\u001b[39m\u001b[38;5;124m'\u001b[39m) \u001b[38;5;28;01mfrom\u001b[39;00m \u001b[38;5;28;01mNone\u001b[39;00m\n\u001b[0;32m    874\u001b[0m \u001b[38;5;28;01mreturn\u001b[39;00m array_split(ary, indices_or_sections, axis)\n",
      "\u001b[1;31mValueError\u001b[0m: array split does not result in an equal division"
     ]
    }
   ],
   "source": [
    "\n",
    "a = np.arange(1,7)                             # [1,  2,  3,  4,  5,  6]\n",
    "\n",
    "results = np.split(a,4)                        # It is not  possible to split the array \"a\" into 4 equal parts, hence the error\n"
   ]
  },
  {
   "cell_type": "markdown",
   "id": "ea776b83-57d7-426f-8a9d-08126d43fa7c",
   "metadata": {},
   "source": [
    "<br>\n",
    "\n",
    "<span style=\"color: #a245ff;\">In this example, the array has 6 elements therefore it cannot be split into 4 arrays of equal size. &nbsp;If you want to have a more flexible split, you can use the <code style=\"background-color: yellow;\">array_split()</code> function which we will see later.</span>\n",
    "\n",
    "<br>\n",
    "\n",
    "<code style=\"color: white; background-color: black;\">Example - 2</code> &nbsp;&nbsp;<span style=\"color: #2fbd0b;\">Using the &nbsp;<code style=\"background-color: yellow;\">split()</code>&nbsp; function to split a <span style=\"color: red;\">**2D**</span> array</span>"
   ]
  },
  {
   "cell_type": "code",
   "execution_count": 71,
   "id": "ff54413e-89c1-491e-939b-227516972380",
   "metadata": {},
   "outputs": [
    {
     "name": "stdout",
     "output_type": "stream",
     "text": [
      "[[1 2]\n",
      " [3 4]]\n",
      "[[5 6]\n",
      " [7 8]]\n"
     ]
    }
   ],
   "source": [
    "\n",
    "a = np.array([[1,2],\n",
    "              [3,4],\n",
    "              [5,6],\n",
    "              [7,8]]\n",
    "            )\n",
    "results = np.split(a,2)\n",
    "\n",
    "for row in results:                            \n",
    "    print(row)                                 # OUTPUT:  [ \n",
    "                                               #            [1 2]\n",
    "                                               #            [3 4]\n",
    "                                               #          ]          <-----    2D array     =====>    results[0]    =====>    (2,2)\n",
    "\n",
    "                                               #          [ \n",
    "                                               #            [5 6]\n",
    "                                               #            [7 8]\n",
    "                                               #          ]          <-----    2D array     =====>    results[1]    =====>    (2,2)\n"
   ]
  },
  {
   "cell_type": "code",
   "execution_count": 51,
   "id": "26ae4a18-1c55-4d8f-b109-d333f3e253fe",
   "metadata": {},
   "outputs": [
    {
     "name": "stdout",
     "output_type": "stream",
     "text": [
      "[[1 2]\n",
      " [3 4]]\n"
     ]
    }
   ],
   "source": [
    "\n",
    "print(results[0])\n"
   ]
  },
  {
   "cell_type": "code",
   "execution_count": 53,
   "id": "f600a296-3188-48db-a8df-fb838f91689c",
   "metadata": {},
   "outputs": [
    {
     "name": "stdout",
     "output_type": "stream",
     "text": [
      "[[5 6]\n",
      " [7 8]]\n"
     ]
    }
   ],
   "source": [
    "\n",
    "print(results[1])\n"
   ]
  },
  {
   "cell_type": "markdown",
   "id": "864f9d2e-6e5f-490c-b336-084844299938",
   "metadata": {},
   "source": [
    "<br>\n",
    "\n",
    "<code style=\"color: white; background-color: black;\">Example - 3</code> &nbsp;&nbsp;<span style=\"color: #2fbd0b;\">Using the &nbsp;<code style=\"background-color: yellow;\">split()</code>&nbsp; function using <span style=\"color: red;\">indices</span></span>\n"
   ]
  },
  {
   "cell_type": "code",
   "execution_count": 12,
   "id": "1c0cf7b4-93e5-43d2-adfe-7b2436fd1de0",
   "metadata": {},
   "outputs": [
    {
     "name": "stdout",
     "output_type": "stream",
     "text": [
      "[10 20]\n",
      "[30 40 50 60]\n"
     ]
    }
   ],
   "source": [
    "\n",
    "a = np.arange(10,70,10)                        # [10,  20,  30,  40,  50,  60]\n",
    "results = np.split(a, [2])\n",
    "\n",
    "for row in results:\n",
    "    print(row)\n"
   ]
  },
  {
   "cell_type": "code",
   "execution_count": 74,
   "id": "961f3ea3-e1be-4bf7-b2e9-e45e9b069bc5",
   "metadata": {},
   "outputs": [
    {
     "name": "stdout",
     "output_type": "stream",
     "text": [
      "[10 20]\n",
      "[30]\n",
      "[40 50 60]\n"
     ]
    }
   ],
   "source": [
    "\n",
    "a = np.arange(10,70,10)                        # [10,  20,  30,  40,  50,  60]\n",
    "results = np.split(a, [2, 3])\n",
    "\n",
    "for row in results:\n",
    "    print(row)\n"
   ]
  },
  {
   "cell_type": "code",
   "execution_count": 73,
   "id": "8fbe3b15-6aa3-4216-bc06-bd36c93daefc",
   "metadata": {},
   "outputs": [
    {
     "name": "stdout",
     "output_type": "stream",
     "text": [
      "[10 20]\n",
      "[30]\n",
      "[40]\n",
      "[50 60]\n"
     ]
    }
   ],
   "source": [
    "\n",
    "a = np.arange(10,70,10)                        # [10,  20,  30,  40,  50,  60]\n",
    "results = np.split(a, [2, 3, 4])\n",
    "\n",
    "for row in results:\n",
    "    print(row)\n"
   ]
  },
  {
   "cell_type": "code",
   "execution_count": 76,
   "id": "fe3d8ad2-0460-4b74-9d48-2de56181305b",
   "metadata": {},
   "outputs": [
    {
     "data": {
      "text/plain": [
       "[array([0., 1., 2.]),\n",
       " array([3., 4.]),\n",
       " array([5.]),\n",
       " array([6., 7.]),\n",
       " array([], dtype=float64)]"
      ]
     },
     "execution_count": 76,
     "metadata": {},
     "output_type": "execute_result"
    }
   ],
   "source": [
    "\n",
    "x = np.arange(8.0)                             # [0.,  1.,  2.,  3.,  4.,  5.,  6.,  7.]\n",
    "np.split(x, [3, 5, 6, 10])\n"
   ]
  },
  {
   "cell_type": "markdown",
   "id": "3b2059c0-7d59-4a0f-9873-79e820a73f5b",
   "metadata": {},
   "source": [
    "<br>\n",
    "\n",
    "<span style=\"color: #06fff0; font-size: 0.7rem;\">■■■■■■■■■■■■■■■■■■■■■■■■■■■■■■■■■■■■■■■■■■■■■■■■■■■■■■■■■■■■■■■■■■■■■■■■■■■■■■■■■■■■■■■■■■■■■■■■■■■■■■■■■■■■■■■</span>\n",
    "\n",
    "<br>\n",
    "\n",
    "<div style=\"font-size: 1rem; background-color: #f1c40f; color: black;\"><code style=\"font-size: 1rem; background-color: #f1c40f; color: black;\"><span style=\"color: white;\">numpy.</span><span style=\"color: black;\">array_split()</span></code></div>\n",
    "\n",
    "<br>\n",
    "\n",
    "=====> &nbsp;&nbsp;&nbsp;&nbsp;allows indices_or_sections to be an integer that does not equally divide the axis. <br>\n",
    "=====> &nbsp;&nbsp;&nbsp;&nbsp;For an array of length <code>l</code> that should be split into <code>n</code> sections, it returns <code>l % n</code> sub-arrays of size <code>l/n + 1</code> and the rest of size <code>l/n</code>.\n",
    "\n",
    "<br>\n",
    "\n",
    "<code style=\"color: white; background-color: black;\">Example - 1</code> &nbsp;&nbsp;<span style=\"color: #2fbd0b;\">Using the &nbsp;<code style=\"background-color: yellow;\">array_split()</code>&nbsp; function to split a <span style=\"color: red;\">**1D**</span> array</span>"
   ]
  },
  {
   "cell_type": "code",
   "execution_count": 68,
   "id": "722769e8-61db-4298-b1af-73d62a181dde",
   "metadata": {},
   "outputs": [
    {
     "name": "stdout",
     "output_type": "stream",
     "text": [
      "[1 2]\n",
      "[3 4]\n",
      "[5]\n",
      "[6]\n"
     ]
    }
   ],
   "source": [
    "\n",
    "a = np.arange(1,7)                             # [1,  2,  3,  4,  5,  6]\n",
    "# results = np.split(a,4)                      # It is not  possible to split the array \"a\" into 4 equal parts, hence it will throw error\n",
    "results = np.array_split(a,4)                  # returns (6%4) number of subarrays of size floor(6/(4+1)) and the remaining of size floor(6/4)\n",
    "\n",
    "for row in results:                            # OUTPUT: [1 2]    <-----    1D array    =====>    (2,)\n",
    "    print(row)                                 #         [3 4]    <-----    1D array    =====>    (2,)\n",
    "                                               #         [5]      <-----    1D array    =====>    (1,)\n",
    "                                               #         [6]      <-----    1D array    =====>    (1,)\n"
   ]
  },
  {
   "cell_type": "markdown",
   "id": "5d249ae6-bf49-4c3a-a189-c9edd4e40bc2",
   "metadata": {
    "jp-MarkdownHeadingCollapsed": true
   },
   "source": [
    "<br>\n",
    "\n",
    "### <div style=\"color: white; background-color: #af87ff; padding: 5px;\"> <code style=\"font-size: 1.2rem; background-color: #af87ff; color: white;\"><strong>numpy.vsplit()</strong></code> </div>\n"
   ]
  },
  {
   "cell_type": "markdown",
   "id": "d23dc572-aeb3-4452-be04-4418ce94d7ec",
   "metadata": {},
   "source": [
    "=====> &nbsp;&nbsp;&nbsp;&nbsp;<code style=\"background-color: yellow;\">vsplit()</code> is equivalent to split with <code>axis=1</code><br>\n",
    "=====> &nbsp;&nbsp;&nbsp;&nbsp;the array is always split along the <strong>first axis</strong><br>\n",
    "=====> &nbsp;&nbsp;&nbsp;&nbsp;<code style=\"background-color: yellow;\">vsplit()</code> only works on arrays of 2 or more dimensions\n",
    "\n",
    "<br>\n",
    "\n",
    "<code style=\"color: white; background-color: black;\">Example - 1</code> &nbsp;&nbsp;<span style=\"color: #2fbd0b;\">Using the &nbsp;<code style=\"background-color: yellow;\">vsplit()</code>&nbsp; function to split a <span style=\"color: red;\">**1D**</span> array</span>"
   ]
  },
  {
   "cell_type": "code",
   "execution_count": 21,
   "id": "ce52eb52-740b-4470-b80e-da3baee42ed1",
   "metadata": {},
   "outputs": [
    {
     "ename": "ValueError",
     "evalue": "vsplit only works on arrays of 2 or more dimensions",
     "output_type": "error",
     "traceback": [
      "\u001b[1;31m---------------------------------------------------------------------------\u001b[0m",
      "\u001b[1;31mValueError\u001b[0m                                Traceback (most recent call last)",
      "Cell \u001b[1;32mIn[21], line 2\u001b[0m\n\u001b[0;32m      1\u001b[0m a \u001b[38;5;241m=\u001b[39m np\u001b[38;5;241m.\u001b[39marange(\u001b[38;5;241m1\u001b[39m,\u001b[38;5;241m7\u001b[39m)                             \u001b[38;5;66;03m# [1 2 3 4 5 6]\u001b[39;00m\n\u001b[1;32m----> 2\u001b[0m results \u001b[38;5;241m=\u001b[39m \u001b[43mnp\u001b[49m\u001b[38;5;241;43m.\u001b[39;49m\u001b[43mvsplit\u001b[49m\u001b[43m(\u001b[49m\u001b[43ma\u001b[49m\u001b[43m,\u001b[49m\u001b[38;5;241;43m3\u001b[39;49m\u001b[43m)\u001b[49m                       \u001b[38;5;66;03m# It is possible to split the array \"a\" into 3 equal parts, hence no error\u001b[39;00m\n",
      "File \u001b[1;32m<__array_function__ internals>:180\u001b[0m, in \u001b[0;36mvsplit\u001b[1;34m(*args, **kwargs)\u001b[0m\n",
      "File \u001b[1;32m~\\AppData\\Local\\Programs\\Python\\Python311\\Lib\\site-packages\\numpy\\lib\\shape_base.py:996\u001b[0m, in \u001b[0;36mvsplit\u001b[1;34m(ary, indices_or_sections)\u001b[0m\n\u001b[0;32m    953\u001b[0m \u001b[38;5;250m\u001b[39m\u001b[38;5;124;03m\"\"\"\u001b[39;00m\n\u001b[0;32m    954\u001b[0m \u001b[38;5;124;03mSplit an array into multiple sub-arrays vertically (row-wise).\u001b[39;00m\n\u001b[0;32m    955\u001b[0m \n\u001b[1;32m   (...)\u001b[0m\n\u001b[0;32m    993\u001b[0m \n\u001b[0;32m    994\u001b[0m \u001b[38;5;124;03m\"\"\"\u001b[39;00m\n\u001b[0;32m    995\u001b[0m \u001b[38;5;28;01mif\u001b[39;00m _nx\u001b[38;5;241m.\u001b[39mndim(ary) \u001b[38;5;241m<\u001b[39m \u001b[38;5;241m2\u001b[39m:\n\u001b[1;32m--> 996\u001b[0m     \u001b[38;5;28;01mraise\u001b[39;00m \u001b[38;5;167;01mValueError\u001b[39;00m(\u001b[38;5;124m'\u001b[39m\u001b[38;5;124mvsplit only works on arrays of 2 or more dimensions\u001b[39m\u001b[38;5;124m'\u001b[39m)\n\u001b[0;32m    997\u001b[0m \u001b[38;5;28;01mreturn\u001b[39;00m split(ary, indices_or_sections, \u001b[38;5;241m0\u001b[39m)\n",
      "\u001b[1;31mValueError\u001b[0m: vsplit only works on arrays of 2 or more dimensions"
     ]
    }
   ],
   "source": [
    "\n",
    "a = np.arange(1,7)                             # [1 2 3 4 5 6]\n",
    "results = np.vsplit(a,3)                       # It is possible to split the array \"a\" into 3 equal parts, hence no error\n"
   ]
  },
  {
   "cell_type": "markdown",
   "id": "0020c60f-6cb8-401e-928b-8f477c1b8624",
   "metadata": {},
   "source": [
    "<br>\n",
    "\n",
    "<code style=\"color: white; background-color: black;\">Example - 2</code> &nbsp;&nbsp;<span style=\"color: #2fbd0b;\">Using the &nbsp;<code style=\"background-color: yellow;\">vsplit()</code>&nbsp; function to split a <span style=\"color: red;\">**2D**</span> array</span>"
   ]
  },
  {
   "cell_type": "code",
   "execution_count": 67,
   "id": "48c6d71d-a275-43cb-a68f-d314cf175031",
   "metadata": {},
   "outputs": [
    {
     "name": "stdout",
     "output_type": "stream",
     "text": [
      "[[1 2]\n",
      " [3 4]]\n",
      "[[5 6]\n",
      " [7 8]]\n"
     ]
    }
   ],
   "source": [
    "\n",
    "a = np.array([[1,2],\n",
    "              [3,4],\n",
    "              [5,6],\n",
    "              [7,8]]\n",
    "            )\n",
    "\n",
    "results = np.vsplit(a,2)\n",
    "\n",
    "for row in results:                            \n",
    "    print(row)                                 # OUTPUT:  [ \n",
    "                                               #            [1 2]\n",
    "                                               #            [3 4]\n",
    "                                               #          ]          <-----    2D array     =====>    results[0]    =====>    (2,2)\n",
    "\n",
    "                                               #          [ \n",
    "                                               #            [5 6]\n",
    "                                               #            [7 8]\n",
    "                                               #          ]          <-----    2D array     =====>    results[1]    =====>    (2,2)\n"
   ]
  },
  {
   "cell_type": "markdown",
   "id": "ed6de2fa-7520-443b-bdce-7f9def7da974",
   "metadata": {
    "jp-MarkdownHeadingCollapsed": true
   },
   "source": [
    "<br>\n",
    "\n",
    "### <div style=\"color: white; background-color: #af87ff; padding: 5px;\"> <code style=\"font-size: 1.2rem; background-color: #af87ff; color: white;\"><strong>numpy.hsplit()</strong></code> </div>\n"
   ]
  },
  {
   "cell_type": "markdown",
   "id": "49bd227c-7c03-48b4-925c-9a2411b6ed4c",
   "metadata": {},
   "source": [
    "=====> &nbsp;&nbsp;&nbsp;&nbsp;<code style=\"background-color: yellow;\">hsplit()</code> is equivalent to split with <code>axis=1</code><br>\n",
    "=====> &nbsp;&nbsp;&nbsp;&nbsp;the array is always split along the <strong>second axis</strong> except <span style=\"background-color: #b2fff0; padding: 5px;\">for 1-D arrays, where it is split at <code style=\"background-color: white;\">axis=0</code></span>\n",
    "\n",
    "<br>\n",
    "\n",
    "<code style=\"color: white; background-color: black;\">Example - 1</code> &nbsp;&nbsp;<span style=\"color: #2fbd0b;\">Using the &nbsp;<code style=\"background-color: yellow;\">hsplit()</code>&nbsp; function to split a <span style=\"color: red;\">**1D**</span> array</span>"
   ]
  },
  {
   "cell_type": "code",
   "execution_count": 60,
   "id": "0090b529-d58e-47b9-b454-a100e901c4d5",
   "metadata": {},
   "outputs": [
    {
     "name": "stdout",
     "output_type": "stream",
     "text": [
      "[array([1, 2]), array([3, 4]), array([5, 6])]\n",
      "[1 2]\n",
      "[3 4]\n",
      "[5 6]\n"
     ]
    }
   ],
   "source": [
    "\n",
    "a = np.arange(1,7)                             # [1 2 3 4 5 6]\n",
    "results = np.hsplit(a,3)                       # It is possible to split the array \"a\" into 3 equal parts, hence no error\n",
    "\n",
    "\n",
    "print(results)                                 # [array([1, 2]), array([3, 4]), array([5, 6])]\n",
    "for row in results:\n",
    "    print(row)                                 # OUTPUT: [1 2]    <-----    1D array     =====>    results[0]  \n",
    "                                               # OUTPUT: [3 4]    <-----    1D array     =====>    results[1]\n",
    "                                               # OUTPUT: [5 6]    <-----    1D array     =====>    results[2]\n"
   ]
  },
  {
   "cell_type": "markdown",
   "id": "2807eba5-bce9-4164-b1f1-dfe4e0aa5ffb",
   "metadata": {},
   "source": [
    "<br>\n",
    "\n",
    "<code style=\"color: white; background-color: black;\">Example - 2</code> &nbsp;&nbsp;<span style=\"color: #2fbd0b;\">Using the &nbsp;<code style=\"background-color: yellow;\">hsplit()</code>&nbsp; function to split a <span style=\"color: red;\">**2D**</span> array</span>"
   ]
  },
  {
   "cell_type": "code",
   "execution_count": 59,
   "id": "0bd5a320-e39d-4439-a4dd-1fa59e68bd27",
   "metadata": {},
   "outputs": [
    {
     "name": "stdout",
     "output_type": "stream",
     "text": [
      "[[1]\n",
      " [3]\n",
      " [5]\n",
      " [7]]\n",
      "[[2]\n",
      " [4]\n",
      " [6]\n",
      " [8]]\n"
     ]
    }
   ],
   "source": [
    "\n",
    "a = np.array([[1,2],[3,4],[5,6],[7,8]])\n",
    "results = np.hsplit(a,2)\n",
    "\n",
    "for row in results:\n",
    "    print(row)                                 # OUTPUT: [[1]\n",
    "                                               #          [3]\n",
    "                                               #          [5]\n",
    "                                               #          [7]]     <-----   2D array   =====>   results[0]   =====>   shape = (4,1)\n",
    "\n",
    "                                               #         [[2]\n",
    "                                               #          [4]\n",
    "                                               #          [5]        \n",
    "                                               #          [6]]     <-----   2D array   =====>   results[1]   =====>   shape = (4,1)\n"
   ]
  },
  {
   "cell_type": "markdown",
   "id": "ed732b3c-ff66-47f9-b96b-5c3d9b54afa0",
   "metadata": {
    "jp-MarkdownHeadingCollapsed": true
   },
   "source": [
    "<br>\n",
    "\n",
    "### <div style=\"color: white; background-color: #af87ff; padding: 5px;\"> <code style=\"font-size: 1.2rem; background-color: #af87ff; color: white;\"><strong>numpy.dsplit()</strong></code> </div>\n"
   ]
  },
  {
   "cell_type": "markdown",
   "id": "6d752581-1c7b-4d6e-8a82-ef61dfd60b24",
   "metadata": {},
   "source": [
    "=====> &nbsp;&nbsp;&nbsp;&nbsp;<code style=\"background-color: yellow;\">dsplit()</code> is equivalent to split with <code>axis=2</code><br>\n",
    "=====> &nbsp;&nbsp;&nbsp;&nbsp;the array is always split along the <strong>third axis</strong><br>\n",
    "=====> &nbsp;&nbsp;&nbsp;&nbsp;<code style=\"background-color: yellow;\">dsplit()</code> only works on arrays of 3 or more dimensions\n",
    "\n",
    "<br>\n",
    "\n",
    "<code style=\"color: white; background-color: black;\">Example - 1</code> &nbsp;&nbsp;<span style=\"color: #2fbd0b;\">Using the &nbsp;<code style=\"background-color: yellow;\">dsplit()</code>&nbsp; function to split a <span style=\"color: red;\">**1D**</span> array will throw error</span>"
   ]
  },
  {
   "cell_type": "code",
   "execution_count": 45,
   "id": "ed3cbb47-77a2-4af9-a863-815e18926d1f",
   "metadata": {},
   "outputs": [
    {
     "ename": "ValueError",
     "evalue": "dsplit only works on arrays of 3 or more dimensions",
     "output_type": "error",
     "traceback": [
      "\u001b[1;31m---------------------------------------------------------------------------\u001b[0m",
      "\u001b[1;31mValueError\u001b[0m                                Traceback (most recent call last)",
      "Cell \u001b[1;32mIn[45], line 2\u001b[0m\n\u001b[0;32m      1\u001b[0m a \u001b[38;5;241m=\u001b[39m np\u001b[38;5;241m.\u001b[39marange(\u001b[38;5;241m1\u001b[39m,\u001b[38;5;241m7\u001b[39m)                             \u001b[38;5;66;03m# [1 2 3 4 5 6]\u001b[39;00m\n\u001b[1;32m----> 2\u001b[0m results \u001b[38;5;241m=\u001b[39m \u001b[43mnp\u001b[49m\u001b[38;5;241;43m.\u001b[39;49m\u001b[43mdsplit\u001b[49m\u001b[43m(\u001b[49m\u001b[43ma\u001b[49m\u001b[43m,\u001b[49m\u001b[38;5;241;43m3\u001b[39;49m\u001b[43m)\u001b[49m                       \u001b[38;5;66;03m# It is a 1D array, hence dsplit() throws error\u001b[39;00m\n",
      "File \u001b[1;32m<__array_function__ internals>:180\u001b[0m, in \u001b[0;36mdsplit\u001b[1;34m(*args, **kwargs)\u001b[0m\n",
      "File \u001b[1;32m~\\AppData\\Local\\Programs\\Python\\Python311\\Lib\\site-packages\\numpy\\lib\\shape_base.py:1041\u001b[0m, in \u001b[0;36mdsplit\u001b[1;34m(ary, indices_or_sections)\u001b[0m\n\u001b[0;32m   1002\u001b[0m \u001b[38;5;250m\u001b[39m\u001b[38;5;124;03m\"\"\"\u001b[39;00m\n\u001b[0;32m   1003\u001b[0m \u001b[38;5;124;03mSplit array into multiple sub-arrays along the 3rd axis (depth).\u001b[39;00m\n\u001b[0;32m   1004\u001b[0m \n\u001b[1;32m   (...)\u001b[0m\n\u001b[0;32m   1038\u001b[0m \u001b[38;5;124;03marray([], shape=(2, 2, 0), dtype=float64)]\u001b[39;00m\n\u001b[0;32m   1039\u001b[0m \u001b[38;5;124;03m\"\"\"\u001b[39;00m\n\u001b[0;32m   1040\u001b[0m \u001b[38;5;28;01mif\u001b[39;00m _nx\u001b[38;5;241m.\u001b[39mndim(ary) \u001b[38;5;241m<\u001b[39m \u001b[38;5;241m3\u001b[39m:\n\u001b[1;32m-> 1041\u001b[0m     \u001b[38;5;28;01mraise\u001b[39;00m \u001b[38;5;167;01mValueError\u001b[39;00m(\u001b[38;5;124m'\u001b[39m\u001b[38;5;124mdsplit only works on arrays of 3 or more dimensions\u001b[39m\u001b[38;5;124m'\u001b[39m)\n\u001b[0;32m   1042\u001b[0m \u001b[38;5;28;01mreturn\u001b[39;00m split(ary, indices_or_sections, \u001b[38;5;241m2\u001b[39m)\n",
      "\u001b[1;31mValueError\u001b[0m: dsplit only works on arrays of 3 or more dimensions"
     ]
    }
   ],
   "source": [
    "\n",
    "a = np.arange(1,7)                             # [1 2 3 4 5 6]\n",
    "results = np.dsplit(a,3)                       # It is a 1D array, hence dsplit() throws error\n"
   ]
  },
  {
   "cell_type": "markdown",
   "id": "10fe0049-d39c-491d-8734-2633cf6f66b2",
   "metadata": {},
   "source": [
    "<br>\n",
    "\n",
    "<code style=\"color: white; background-color: black;\">Example - 2</code> &nbsp;&nbsp;<span style=\"color: #2fbd0b;\">Using the &nbsp;<code style=\"background-color: yellow;\">dsplit()</code>&nbsp; function to split a <span style=\"color: red;\">**2D**</span> array will throw error</span>"
   ]
  },
  {
   "cell_type": "code",
   "execution_count": 48,
   "id": "7da54558-25c0-4c44-a25c-5ee5a61f9c5a",
   "metadata": {},
   "outputs": [
    {
     "ename": "ValueError",
     "evalue": "dsplit only works on arrays of 3 or more dimensions",
     "output_type": "error",
     "traceback": [
      "\u001b[1;31m---------------------------------------------------------------------------\u001b[0m",
      "\u001b[1;31mValueError\u001b[0m                                Traceback (most recent call last)",
      "Cell \u001b[1;32mIn[48], line 6\u001b[0m\n\u001b[0;32m      1\u001b[0m a \u001b[38;5;241m=\u001b[39m np\u001b[38;5;241m.\u001b[39marray([[\u001b[38;5;241m1\u001b[39m,\u001b[38;5;241m2\u001b[39m],\n\u001b[0;32m      2\u001b[0m               [\u001b[38;5;241m3\u001b[39m,\u001b[38;5;241m4\u001b[39m],\n\u001b[0;32m      3\u001b[0m               [\u001b[38;5;241m5\u001b[39m,\u001b[38;5;241m6\u001b[39m],\n\u001b[0;32m      4\u001b[0m               [\u001b[38;5;241m7\u001b[39m,\u001b[38;5;241m8\u001b[39m]]\n\u001b[0;32m      5\u001b[0m             )                                  \u001b[38;5;66;03m# 2D array\u001b[39;00m\n\u001b[1;32m----> 6\u001b[0m results \u001b[38;5;241m=\u001b[39m \u001b[43mnp\u001b[49m\u001b[38;5;241;43m.\u001b[39;49m\u001b[43mdsplit\u001b[49m\u001b[43m(\u001b[49m\u001b[43ma\u001b[49m\u001b[43m,\u001b[49m\u001b[38;5;241;43m2\u001b[39;49m\u001b[43m)\u001b[49m\n",
      "File \u001b[1;32m<__array_function__ internals>:180\u001b[0m, in \u001b[0;36mdsplit\u001b[1;34m(*args, **kwargs)\u001b[0m\n",
      "File \u001b[1;32m~\\AppData\\Local\\Programs\\Python\\Python311\\Lib\\site-packages\\numpy\\lib\\shape_base.py:1041\u001b[0m, in \u001b[0;36mdsplit\u001b[1;34m(ary, indices_or_sections)\u001b[0m\n\u001b[0;32m   1002\u001b[0m \u001b[38;5;250m\u001b[39m\u001b[38;5;124;03m\"\"\"\u001b[39;00m\n\u001b[0;32m   1003\u001b[0m \u001b[38;5;124;03mSplit array into multiple sub-arrays along the 3rd axis (depth).\u001b[39;00m\n\u001b[0;32m   1004\u001b[0m \n\u001b[1;32m   (...)\u001b[0m\n\u001b[0;32m   1038\u001b[0m \u001b[38;5;124;03marray([], shape=(2, 2, 0), dtype=float64)]\u001b[39;00m\n\u001b[0;32m   1039\u001b[0m \u001b[38;5;124;03m\"\"\"\u001b[39;00m\n\u001b[0;32m   1040\u001b[0m \u001b[38;5;28;01mif\u001b[39;00m _nx\u001b[38;5;241m.\u001b[39mndim(ary) \u001b[38;5;241m<\u001b[39m \u001b[38;5;241m3\u001b[39m:\n\u001b[1;32m-> 1041\u001b[0m     \u001b[38;5;28;01mraise\u001b[39;00m \u001b[38;5;167;01mValueError\u001b[39;00m(\u001b[38;5;124m'\u001b[39m\u001b[38;5;124mdsplit only works on arrays of 3 or more dimensions\u001b[39m\u001b[38;5;124m'\u001b[39m)\n\u001b[0;32m   1042\u001b[0m \u001b[38;5;28;01mreturn\u001b[39;00m split(ary, indices_or_sections, \u001b[38;5;241m2\u001b[39m)\n",
      "\u001b[1;31mValueError\u001b[0m: dsplit only works on arrays of 3 or more dimensions"
     ]
    }
   ],
   "source": [
    "\n",
    "a = np.array([[1,2],\n",
    "              [3,4],\n",
    "              [5,6],\n",
    "              [7,8]]\n",
    "            )                                  # 2D array\n",
    "results = np.dsplit(a,2)\n"
   ]
  },
  {
   "cell_type": "markdown",
   "id": "9d45d745-1e55-4547-9ef2-73819ba9bbf1",
   "metadata": {},
   "source": [
    "<br>\n",
    "\n",
    "<code style=\"color: white; background-color: black;\">Example - 3</code> &nbsp;&nbsp;<span style=\"color: #2fbd0b;\">Using the &nbsp;<code style=\"background-color: yellow;\">dsplit()</code>&nbsp; function to split a <span style=\"color: red;\">**3D**</span> array</span>"
   ]
  },
  {
   "cell_type": "code",
   "execution_count": 57,
   "id": "1377d100-9bfc-4559-873f-f39693301397",
   "metadata": {},
   "outputs": [
    {
     "name": "stdout",
     "output_type": "stream",
     "text": [
      "[[[1]\n",
      "  [3]]\n",
      "\n",
      " [[5]\n",
      "  [7]]]\n",
      "[[[2]\n",
      "  [4]]\n",
      "\n",
      " [[6]\n",
      "  [8]]]\n"
     ]
    }
   ],
   "source": [
    "\n",
    "a = np.array([ \n",
    "    [[1, 2], [3, 4]],\n",
    "    [[5, 6], [7, 8]] \n",
    "])                                             # 3D array\n",
    "\n",
    "results = np.dsplit(a,2)\n",
    "\n",
    "for row in results:\n",
    "    print(row)                                 # OUTPUT: [ [ [1]\n",
    "                                               #             [3]\n",
    "                                               #           ]\n",
    "                                               #           [ [5]\n",
    "                                               #             [7]\n",
    "                                               #           ]\n",
    "                                               #         ]            ------->         results[0]         -------->         3D array (2, 2, 1)\n",
    "\n",
    "                                               #         [ [ [2]\n",
    "                                               #             [4]\n",
    "                                               #           ]\n",
    "                                               #           [ [6]\n",
    "                                               #             [8]\n",
    "                                               #           ]\n",
    "                                               #         ]            ------->         results[1]         -------->         3D array (2, 2, 1)\n"
   ]
  },
  {
   "cell_type": "code",
   "execution_count": null,
   "id": "2cdfa6f1-9ef7-4aa9-9064-0c10452b7f76",
   "metadata": {},
   "outputs": [],
   "source": []
  },
  {
   "cell_type": "code",
   "execution_count": null,
   "id": "7c00a084-aed2-456d-90da-5521a123d776",
   "metadata": {},
   "outputs": [],
   "source": []
  },
  {
   "cell_type": "code",
   "execution_count": null,
   "id": "f22d81f0-30fe-4265-a014-a9ba42d23549",
   "metadata": {},
   "outputs": [],
   "source": []
  }
 ],
 "metadata": {
  "kernelspec": {
   "display_name": "Python 3 (ipykernel)",
   "language": "python",
   "name": "python3"
  },
  "language_info": {
   "codemirror_mode": {
    "name": "ipython",
    "version": 3
   },
   "file_extension": ".py",
   "mimetype": "text/x-python",
   "name": "python",
   "nbconvert_exporter": "python",
   "pygments_lexer": "ipython3",
   "version": "3.11.3"
  }
 },
 "nbformat": 4,
 "nbformat_minor": 5
}
