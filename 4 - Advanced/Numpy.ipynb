{
 "cells": [
  {
   "cell_type": "markdown",
   "id": "992ee97e-982d-4221-9297-462b1a7fde70",
   "metadata": {},
   "source": [
    "https://wesmckinney.com/book/numpy-basics"
   ]
  },
  {
   "cell_type": "markdown",
   "id": "f16e178f-dd06-4d81-92b8-608dedb4db47",
   "metadata": {},
   "source": [
    "<br><br>\n",
    "\n",
    "## What &nbsp;is &nbsp;<strong>Numpy</strong>?"
   ]
  },
  {
   "cell_type": "markdown",
   "id": "335e4100-f31d-4b66-952f-411bdaed3d14",
   "metadata": {},
   "source": [
    "<br>\n",
    "\n",
    "NumPy (**Numerical Python**) is a Python library that performs numerical calculations.\n",
    "\n",
    "NumPy is very fast because it is written in the C programming language.\n",
    "\n",
    "NumPy is built on <span style=\"color: blue;\">linear algebra</span>. It’s about matrices and vectors and performing the mathematical calculations on them.\n",
    "\n",
    "The key concept in NumPy is the NumPy array data type. &nbsp;A NumPy array may have one or more dimensions :\n",
    "\n",
    "<div style=\"margin-left: 60px;\">\n",
    "    \n",
    "- <u>One dimension</u> arrays (**1D**) represent <span style=\"color: red;\">vectors</span>\n",
    "- <u>Two-dimensional</u> arrays (**2D**) represent <span style=\"color: red;\">matrices</span>\n",
    "- And <u>higher dimensional</u> arrays represent <span style=\"color: red;\">tensors</span>\n",
    "\n",
    "![](../media/numpy_01.PNG)\n",
    "\n",
    "![](../media/numpy_02.PNG)\n",
    "\n",
    "</div>\n",
    "\n",
    "<br>\n",
    "\n",
    "NumPy internally stores data in a contiguous block of memory, independent of other built-in Python objects. NumPy's library of algorithms written in the **C language** can operate on this memory without any type checking or other overhead. &nbsp;<span style=\"background-color: #ffeeb0; padding: 2px;\">NumPy arrays also use much less memory than built-in Python sequences.</code>\n",
    "\n",
    "NumPy operations perform complex computations on entire arrays without the need for Python &nbsp;<code>for</code>&nbsp; loops, which can be slow for large sequences. &nbsp;<span style=\"background-color: #ffeeb0; padding: 2px;\">NumPy is faster than regular Python code because its C-based algorithms avoid overhead present with regular interpreted Python code.</code>\n",
    "\n",
    "A NumPy array can contain either integer or float numbers, but not both at the same time. This restriction allows Numpy to **speed up the linear algebra calculations**.\n",
    "\n",
    "<u>Expressing conditional logic as array expressions</u> instead of loops with &nbsp;<code>if-elif-else</code>&nbsp; branches and <u>group-wise data manipulations</u> make it developer friendly over traditional Python syntax.\n",
    "\n",
    "<br>\n",
    "\n",
    "<span style=\"font-size: 0.7rem; color: red;\">■</span> &nbsp;<span style=\"color: #a245ff;\">To give you an idea of the performance difference, consider a NumPy array of one million integers, and the equivalent Python list :</span>"
   ]
  },
  {
   "cell_type": "code",
   "execution_count": 19,
   "id": "ff9fd8d1-a023-4bbd-9ad3-fc7336874637",
   "metadata": {},
   "outputs": [],
   "source": [
    "\n",
    "# pip install numpy\n",
    "import numpy as np\n",
    "\n",
    "my_arr = np.arange(1_000_000)\n",
    "\n",
    "my_list = list(range(1_000_000))\n"
   ]
  },
  {
   "cell_type": "markdown",
   "id": "17d41a4c-6c27-4702-8d4b-dbc17e661d2c",
   "metadata": {},
   "source": [
    "<br>\n",
    "\n",
    "<span style=\"font-size: 0.7rem; color: red;\">■</span> &nbsp;<span style=\"color: #a245ff;\">Now let's multiply each sequence by 2 :</span>"
   ]
  },
  {
   "cell_type": "code",
   "execution_count": 20,
   "id": "abc83254-2d56-47ec-800b-343e2c949658",
   "metadata": {},
   "outputs": [
    {
     "name": "stdout",
     "output_type": "stream",
     "text": [
      "2.34 ms ± 90.9 µs per loop (mean ± std. dev. of 7 runs, 100 loops each)\n"
     ]
    }
   ],
   "source": [
    "\n",
    "%timeit my_arr2 = my_arr * 2\n"
   ]
  },
  {
   "cell_type": "code",
   "execution_count": 21,
   "id": "c58d9092-c355-485b-87b2-7c9b5d1d756a",
   "metadata": {},
   "outputs": [
    {
     "name": "stdout",
     "output_type": "stream",
     "text": [
      "111 ms ± 6.24 ms per loop (mean ± std. dev. of 7 runs, 10 loops each)\n"
     ]
    }
   ],
   "source": [
    "\n",
    "%timeit my_list2 = [x * 2 for x in my_list]\n"
   ]
  },
  {
   "cell_type": "markdown",
   "id": "f8bf4909-0831-434f-9df2-5bd1c4b35af7",
   "metadata": {},
   "source": [
    "<br>\n",
    "\n",
    "<span style=\"font-size: 0.7rem; color: red;\">■</span> &nbsp;<span style=\"color: #a245ff;\">Let's compare a piece of code with and without numpy :</span>"
   ]
  },
  {
   "cell_type": "code",
   "execution_count": 18,
   "id": "102cf091-48ed-43ff-b6bf-cd51e2a14d82",
   "metadata": {},
   "outputs": [
    {
     "name": "stdout",
     "output_type": "stream",
     "text": [
      "[77.9  82.58 87.08]\n",
      "[77.9, 82.58, 87.08000000000001]\n"
     ]
    }
   ],
   "source": [
    "\n",
    "import numpy as np\n",
    "tc = np.array([25.5, 28.1, 30.6])       # temperature in celsius\n",
    "\n",
    "\n",
    "tk =  tc * 9 / 5 + 32                   # temperature in kelvin   ------>   METHOD-1 (using numpy)    ----------->   better code-readability\n",
    "print(tk)\n",
    "\n",
    "\n",
    "tk = [c*9/5 + 32 for c in tc]           # temperature in kelvin   ------>   METHOD-2 (using simple python)   ---->   lesser code-readability\n",
    "print(tk)\n"
   ]
  },
  {
   "cell_type": "markdown",
   "id": "774cadb1-6baf-4b69-b8cf-91883a22d9c8",
   "metadata": {},
   "source": [
    "<br>\n",
    "\n",
    "Use <code style=\"color: red;\">np</code> as the alias for the NumPy module to follow the convention."
   ]
  },
  {
   "cell_type": "markdown",
   "id": "3bf9bcd9-ec2a-4491-af92-98f73688b048",
   "metadata": {},
   "source": [
    "<br>\n",
    "\n",
    "<span style=\"color: #06fff0; font-size: 0.7rem;\">■■■■■■■■■■■■■■■■■■■■■■■■■■■■■■■■■■■■■■■■■■■■■■■■■■■■■■■■■■■■■■■■■■■■■■■■■■■■■■■■■■■■■■■■■■■■■■■■■■■■■■■■■■■■■■■</span>\n",
    "\n",
    "<br>"
   ]
  },
  {
   "cell_type": "markdown",
   "id": "55599f77-0d6e-4cb7-8214-411897cba0bb",
   "metadata": {},
   "source": [
    "<br><br>\n",
    "\n",
    "## <strong>Create</strong> &nbsp;Numpy &nbsp;Array"
   ]
  },
  {
   "cell_type": "markdown",
   "id": "18c99c91-3175-4dad-8374-5f612045eef5",
   "metadata": {},
   "source": [
    "<br>\n",
    "\n",
    "https://numpy.org/doc/stable/reference/routines.array-creation.html\n",
    "\n",
    "A NumPy array is a grid of values with the <span style=\"color: red;\">same type</span> and <u>indexed by a tuple of **non-negative integers**</u> .\n",
    "\n",
    "The easiest way to create an array is to use the &nbsp;<code style=\"background-color: yellow; padding: 5px;\">numpy.<span style=\"color: red;\">array()</span></code>&nbsp; function. &nbsp;However, there are other ways too.\n",
    "\n",
    "<br>\n",
    "\n",
    "<div style=\"background-color: #fff7e7; padding-top: 15px; padding-bottom: 4px;\">\n",
    "\n",
    "&nbsp;&nbsp;&nbsp;&nbsp;**creating arrays from :**\n",
    "\n",
    "<div style=\"margin-left: 70px;\">\n",
    "    \n",
    "<span>**<u>existing data</u>** :</span> <br>\n",
    "- <code style=\"background-color: yellow; padding: 2px;\">numpy.<span style=\"color: red;\">array()</span>  </code>\n",
    "\n",
    "<br>\n",
    "\n",
    "**<u>shape or value</u>** : <br>\n",
    "- <code style=\"background-color: yellow;\">numpy.<span style=\"color: red;\">zeros()</span>   </code>\n",
    "- <code style=\"background-color: yellow;\">numpy.<span style=\"color: red;\">ones()    </span></code>\n",
    "- <code style=\"background-color: yellow;\">numpy.<span style=\"color: red;\">eye()     </span></code>\n",
    "- <code style=\"background-color: yellow;\">numpy.<span style=\"color: red;\">identity()</span></code>\n",
    "- <code style=\"background-color: yellow;\">numpy.<span style=\"color: red;\">empty()   </span></code>\n",
    "\n",
    "\n",
    "<br>\n",
    "\n",
    "**<u>numerical ranges</u>** : <br>\n",
    "- <code style=\"background-color: yellow;\">numpy.<span style=\"color: red;\">arange()</span>  </code>\n",
    "- <code style=\"background-color: yellow;\">numpy.<span style=\"color: red;\">linspace()</span></code>\n",
    "\n",
    "</div>\n",
    "\n",
    "</div>\n"
   ]
  },
  {
   "cell_type": "markdown",
   "id": "af5301d6-ffee-4180-bd18-6a3d7e74a46c",
   "metadata": {},
   "source": [
    "\n",
    "### <div style=\"color: white; background-color: #af87ff; padding: 5px;\"> <code style=\"font-size: 1.2rem; background-color: #af87ff; color: white;\"><strong>numpy.array()</strong></code> </div>\n"
   ]
  },
  {
   "cell_type": "markdown",
   "id": "97fda42d-8b6f-4ac0-94f6-8910f4b34ef3",
   "metadata": {},
   "source": [
    "\n",
    "<span style=\"font-size: 1rem; color: blue;\">■</span> &nbsp;&nbsp;<span style=\"color: blue; font-size: 1rem;\"><strong><u>Creating &nbsp;one-dimensional &nbsp;arrays</u></strong></span> &nbsp;&nbsp;<span style=\"color: red; font-size: 1rem;\">( **1D - vector** )</span>\n"
   ]
  },
  {
   "cell_type": "code",
   "execution_count": 54,
   "id": "9eac146b-9b1d-4910-89f8-95d3f98654f2",
   "metadata": {},
   "outputs": [
    {
     "name": "stdout",
     "output_type": "stream",
     "text": [
      "[1 2 3]\n",
      "<class 'numpy.ndarray'>\n"
     ]
    }
   ],
   "source": [
    "\n",
    "import numpy as np\n",
    "a = np.array([1, 2, 3])\n",
    "\n",
    "print(a)\n",
    "print(type(a))\n"
   ]
  },
  {
   "cell_type": "markdown",
   "id": "46a2e07c-c564-43c3-8b02-59108c1f067e",
   "metadata": {},
   "source": [
    "<br>\n",
    "\n",
    "<code style=\"background-color: #c2ffa7; padding: 5px;\"> numpy.<span style=\"color: red;\">ndim</span> </code> &nbsp;====>&nbsp; <span style=\"color: blue;\">Getting the **dimension** of an array</span>\n",
    "\n",
    "<span style=\"margin-left: 167px;\"><span style=\"color: red;\">ndim</span> is not an attribute, rather it's a **property**.</span>\n"
   ]
  },
  {
   "cell_type": "code",
   "execution_count": 55,
   "id": "4f385833-81f5-4cde-bad9-95c1fa306502",
   "metadata": {},
   "outputs": [
    {
     "data": {
      "text/plain": [
       "1"
      ]
     },
     "execution_count": 55,
     "metadata": {},
     "output_type": "execute_result"
    }
   ],
   "source": [
    "\n",
    "a.ndim\n"
   ]
  },
  {
   "cell_type": "markdown",
   "id": "6fb3d14b-ae14-45e3-abe0-7270ba323f08",
   "metadata": {},
   "source": [
    "<br>\n",
    "\n",
    "<code style=\"background-color: #c2ffa7; padding: 5px;\"> numpy.<span style=\"color: red;\">dtype</span> </code> &nbsp;====>&nbsp; <span style=\"color: blue;\">Getting the **data type** of array elements</span>\n",
    "\n",
    "<span style=\"margin-left: 175px;\"><span style=\"color: red;\">dtype</span> is not an attribute, rather it's a **property**.</span>"
   ]
  },
  {
   "cell_type": "code",
   "execution_count": 56,
   "id": "5344d06e-375f-4d72-81d6-15a31bf1f409",
   "metadata": {},
   "outputs": [
    {
     "data": {
      "text/plain": [
       "dtype('int32')"
      ]
     },
     "execution_count": 56,
     "metadata": {},
     "output_type": "execute_result"
    }
   ],
   "source": [
    "\n",
    "a.dtype                  # Note  ------>  all elements of this array have the same data type 'int32'\n"
   ]
  },
  {
   "cell_type": "markdown",
   "id": "0e0b0d3e-5d9a-474e-8312-ed843cd5b02a",
   "metadata": {},
   "source": [
    "<br>\n",
    "\n",
    "<code style=\"background-color: #c2ffa7; padding: 5px;\"> numpy.<span style=\"color: red;\">shape</span> </code> &nbsp;====>&nbsp; <span style=\"color: blue;\">Getting the **shape** of an array</span>\n",
    "\n",
    "<span style=\"margin-left: 175px;\"><span style=\"color: red;\">shape</span> is not an attribute, rather it's a **property**.</span>"
   ]
  },
  {
   "cell_type": "code",
   "execution_count": 57,
   "id": "2f513573-5520-4a82-9dea-ca445fec4c85",
   "metadata": {},
   "outputs": [
    {
     "data": {
      "text/plain": [
       "(3,)"
      ]
     },
     "execution_count": 57,
     "metadata": {},
     "output_type": "execute_result"
    }
   ],
   "source": [
    "\n",
    "a.shape\n"
   ]
  },
  {
   "cell_type": "markdown",
   "id": "bd17f8c2-e901-48e2-adf1-dac0d176cd00",
   "metadata": {},
   "source": [
    "<br>\n",
    "\n",
    "<code style=\"background-color: #c2ffa7; padding: 5px;\"> numpy.<span style=\"color: red;\">size</span> </code> &nbsp;====>&nbsp; <span style=\"color: blue;\">Getting the **size** of an array</span>\n",
    "\n",
    "<span style=\"margin-left: 168px;\"><span style=\"color: red;\">size</span> is not an attribute, rather it's a **property**.</span>\n",
    "\n",
    "<span style=\"margin-left: 168px;\">returns the **total number of elements of the array** which is actually <u>the product of the elements of the array’s shape</u></span>\n"
   ]
  },
  {
   "cell_type": "code",
   "execution_count": 58,
   "id": "7b2b8fe1-41ca-4e76-8b08-b41cc18d4535",
   "metadata": {},
   "outputs": [
    {
     "data": {
      "text/plain": [
       "3"
      ]
     },
     "execution_count": 58,
     "metadata": {},
     "output_type": "execute_result"
    }
   ],
   "source": [
    "\n",
    "a.size\n"
   ]
  },
  {
   "cell_type": "markdown",
   "id": "1d325dab-d012-4831-9252-d3ddb94dc4c7",
   "metadata": {},
   "source": [
    "<br>\n",
    "\n",
    "<span style=\"font-size: 1rem; color: blue;\">■</span> &nbsp;&nbsp;<span style=\"color: blue; font-size: 1rem;\"><strong><u>Creating &nbsp;two-dimensional &nbsp;arrays</u></strong></span> &nbsp;&nbsp;<span style=\"color: red; font-size: 1rem;\">( **2D - matrix** )</span>"
   ]
  },
  {
   "cell_type": "code",
   "execution_count": 60,
   "id": "162977e8-e177-4b8e-bc4a-90c56c70b68c",
   "metadata": {},
   "outputs": [
    {
     "name": "stdout",
     "output_type": "stream",
     "text": [
      "[[1 2 3]\n",
      " [4 5 6]]\n",
      "<class 'numpy.ndarray'>\n"
     ]
    }
   ],
   "source": [
    "\n",
    "import numpy as np\n",
    "\n",
    "b = np.array(\n",
    "    [\n",
    "        [1, 2, 3],\n",
    "        [4, 5, 6]\n",
    "    ]\n",
    ")\n",
    "\n",
    "print(b)\n",
    "print(type(b))\n"
   ]
  },
  {
   "cell_type": "code",
   "execution_count": 61,
   "id": "728b680d-d607-49e7-8afc-527ba81f3ae3",
   "metadata": {},
   "outputs": [
    {
     "data": {
      "text/plain": [
       "2"
      ]
     },
     "execution_count": 61,
     "metadata": {},
     "output_type": "execute_result"
    }
   ],
   "source": [
    "\n",
    "b.ndim                     # to get the dimesnion of the array \"b\"\n"
   ]
  },
  {
   "cell_type": "markdown",
   "id": "3b075c2c-103a-440b-a5e1-37840d5f28aa",
   "metadata": {},
   "source": [
    "&nbsp;<span style=\"font-size: 1.2rem;\">⭐</span>&nbsp;&nbsp;<span style=\"color: black;\">A good tip to get the number of dimensions of an array is that you count the square brackets ( <code style=\"color: red;\">[</code> ) <u>until you encounter the first number</u>.</span>  <br>\n",
    "&nbsp;&nbsp;&nbsp;&nbsp;&nbsp;&nbsp;&nbsp;&nbsp;&nbsp;&nbsp;<span style=\"color: black;\">The number of square brackets is the number of dimensions or axes.</span>\n",
    "\n"
   ]
  },
  {
   "cell_type": "code",
   "execution_count": 62,
   "id": "052f4e2d-0f95-4075-958a-283cd5e70845",
   "metadata": {},
   "outputs": [
    {
     "data": {
      "text/plain": [
       "dtype('int32')"
      ]
     },
     "execution_count": 62,
     "metadata": {},
     "output_type": "execute_result"
    }
   ],
   "source": [
    "\n",
    "b.dtype                    # to get the data type of array elements\n",
    "                           # Note  ------>  all elements of this array have the same data type 'int32'\n"
   ]
  },
  {
   "cell_type": "code",
   "execution_count": 63,
   "id": "6da23329-2e31-40b1-8aec-7b9b9e1b2037",
   "metadata": {},
   "outputs": [
    {
     "data": {
      "text/plain": [
       "(2, 3)"
      ]
     },
     "execution_count": 63,
     "metadata": {},
     "output_type": "execute_result"
    }
   ],
   "source": [
    "\n",
    "b.shape                    # to get the shape of the array \"b\"\n"
   ]
  },
  {
   "cell_type": "markdown",
   "id": "b8fd22d1-21b4-4194-95ff-e7bc758cab98",
   "metadata": {},
   "source": [
    "&nbsp;<span style=\"color: #a245ff;\">(2, 3) &nbsp;&nbsp;=======>&nbsp;&nbsp;  2 rows & 3 columns</span>"
   ]
  },
  {
   "cell_type": "code",
   "execution_count": 65,
   "id": "3dcd84ee-a549-492d-87dc-223a1b5a2515",
   "metadata": {},
   "outputs": [
    {
     "data": {
      "text/plain": [
       "6"
      ]
     },
     "execution_count": 65,
     "metadata": {},
     "output_type": "execute_result"
    }
   ],
   "source": [
    "\n",
    "b.size             # (2,3)  =========>  2*3  = 6\n"
   ]
  },
  {
   "cell_type": "markdown",
   "id": "72ee0886-3d43-4f5e-b634-25544d3bb4f8",
   "metadata": {},
   "source": [
    "<br>\n",
    "\n",
    "<span style=\"font-size: 1rem; color: blue;\">■</span> &nbsp;&nbsp;<span style=\"color: blue; font-size: 1rem;\"><strong><u>Creating &nbsp;two-dimensional &nbsp;arrays</u></strong></span> &nbsp;&nbsp;<span style=\"color: red; font-size: 1rem;\">( **3D - tensor** )</span>"
   ]
  },
  {
   "cell_type": "code",
   "execution_count": 66,
   "id": "c328f842-c1ba-4075-8153-a7e3e34ab01e",
   "metadata": {},
   "outputs": [
    {
     "name": "stdout",
     "output_type": "stream",
     "text": [
      "[[[ 1  2  3]\n",
      "  [ 4  5  6]]\n",
      "\n",
      " [[ 7  8  9]\n",
      "  [10 11 12]]]\n",
      "<class 'numpy.ndarray'>\n"
     ]
    }
   ],
   "source": [
    "\n",
    "import numpy as np\n",
    "\n",
    "\n",
    "c = np.array(\n",
    "    [\n",
    "        [\n",
    "            [1, 2, 3],\n",
    "            [4, 5, 6]\n",
    "        ],\n",
    "        [\n",
    "            [7, 8, 9],\n",
    "            [10, 11, 12]\n",
    "        ],\n",
    "    ]\n",
    ")\n",
    "\n",
    "\n",
    "print(c)\n",
    "print(type(c))\n"
   ]
  },
  {
   "cell_type": "code",
   "execution_count": 67,
   "id": "272340c5-99af-4603-b6c6-284d1c48ab1d",
   "metadata": {},
   "outputs": [
    {
     "data": {
      "text/plain": [
       "3"
      ]
     },
     "execution_count": 67,
     "metadata": {},
     "output_type": "execute_result"
    }
   ],
   "source": [
    "\n",
    "c.ndim                     # to get the dimesnion of the array \"b\"\n"
   ]
  },
  {
   "cell_type": "code",
   "execution_count": 68,
   "id": "40b7a2c2-8c56-45e0-8f10-7edce6dfc597",
   "metadata": {},
   "outputs": [
    {
     "data": {
      "text/plain": [
       "dtype('int32')"
      ]
     },
     "execution_count": 68,
     "metadata": {},
     "output_type": "execute_result"
    }
   ],
   "source": [
    "\n",
    "c.dtype                    # to get the data type of array elements\n",
    "                           # Note  ------>  all elements of this array have the same data type 'int32'\n"
   ]
  },
  {
   "cell_type": "code",
   "execution_count": 69,
   "id": "e2def9dc-1f14-421f-a9c5-ba055fcb5a59",
   "metadata": {},
   "outputs": [
    {
     "data": {
      "text/plain": [
       "(2, 2, 3)"
      ]
     },
     "execution_count": 69,
     "metadata": {},
     "output_type": "execute_result"
    }
   ],
   "source": [
    "\n",
    "c.shape                    # to get the shape of the array \"c\"\n"
   ]
  },
  {
   "cell_type": "code",
   "execution_count": 73,
   "id": "bc78d2a2-cd8a-4892-84c6-ba8210193b16",
   "metadata": {},
   "outputs": [
    {
     "data": {
      "text/plain": [
       "12"
      ]
     },
     "execution_count": 73,
     "metadata": {},
     "output_type": "execute_result"
    }
   ],
   "source": [
    "\n",
    "c.size             # (2,2,3)  =========>  2*2*3  = 12\n"
   ]
  },
  {
   "cell_type": "markdown",
   "id": "f3023998-ee00-4574-bbe0-d6e57be45fef",
   "metadata": {},
   "source": [
    "<br>\n",
    "\n",
    "<span style=\"font-size: 1rem; color: blue;\">■</span> &nbsp;&nbsp;<span style=\"color: blue; font-size: 1rem;\"><strong><u>Comparing &nbsp;the &nbsp;shape &nbsp;representations &nbsp;with &nbsp;respect &nbsp;to &nbsp;dimensions</span>"
   ]
  },
  {
   "cell_type": "code",
   "execution_count": 2,
   "id": "766c5813-ec35-4a3c-a4b4-d25e122af0e1",
   "metadata": {},
   "outputs": [
    {
     "name": "stdout",
     "output_type": "stream",
     "text": [
      "(3,)\n",
      "(2, 3)\n",
      "(2, 2, 3)\n"
     ]
    }
   ],
   "source": [
    "\n",
    "import numpy as np\n",
    "\n",
    "\n",
    "a = np.array([1, 2, 3])\n",
    "print(a.shape)                              # OUTPUT: (3,)\n",
    "\n",
    "\n",
    "\n",
    "\n",
    "b = np.array(\n",
    "    [\n",
    "        [1, 2, 3],\n",
    "        [4, 5, 6]\n",
    "    ]\n",
    ")\n",
    "print(b.shape)                              # OUTPUT: (2, 3)\n",
    "\n",
    "\n",
    "\n",
    "\n",
    "c = np.array(\n",
    "    [\n",
    "        [\n",
    "            [1, 2, 3],\n",
    "            [4, 5, 6]\n",
    "        ],\n",
    "        [\n",
    "            [7, 8, 9],\n",
    "            [10, 11, 12]\n",
    "        ],\n",
    "    ]\n",
    ")\n",
    "print(c.shape)                              # OUTPUT: (2, 2, 3)\n"
   ]
  },
  {
   "cell_type": "markdown",
   "id": "68e7340b-960b-416e-823e-65e10adbb793",
   "metadata": {},
   "source": [
    "<br>\n",
    "\n",
    "<div>\n",
    "\n",
    "<code style=\"padding: 5px; background-color: #c2ffa7;\">numpy.<span style=\"color: red;\">shape</span></code>\n",
    "\n",
    "&nbsp;&nbsp;&nbsp;&nbsp;&nbsp;&nbsp;&nbsp;&nbsp;&nbsp;&nbsp;**1D** &nbsp;&nbsp;===>&nbsp;&nbsp; <code>(columns, )</code> &nbsp;&nbsp;&nbsp;&nbsp;&nbsp;&nbsp;&nbsp;&nbsp;&nbsp;&nbsp;&nbsp;&nbsp;&nbsp;&nbsp;&nbsp;&nbsp;&nbsp;&nbsp;&nbsp;&nbsp;&nbsp;&nbsp;&nbsp;&nbsp;&nbsp;&nbsp;====>&nbsp;&nbsp; **vector**              <br>\n",
    "&nbsp;&nbsp;&nbsp;&nbsp;&nbsp;&nbsp;&nbsp;&nbsp;&nbsp;&nbsp;**2D** &nbsp;&nbsp;===>&nbsp;&nbsp; <code>(rows, columns)</code>  &nbsp;&nbsp;&nbsp;&nbsp;&nbsp;&nbsp;&nbsp;&nbsp;&nbsp;&nbsp;&nbsp;&nbsp;&nbsp;&nbsp;&nbsp;&nbsp;&nbsp;&nbsp;====>&nbsp;&nbsp; **matrix**         <br>\n",
    "&nbsp;&nbsp;&nbsp;&nbsp;&nbsp;&nbsp;&nbsp;&nbsp;&nbsp;&nbsp;**3D** &nbsp;&nbsp;===>&nbsp;&nbsp; <code>(depths, rows, columns)</code>  &nbsp;&nbsp;====>&nbsp;&nbsp; **tensor**\n",
    "\n",
    "<div>"
   ]
  },
  {
   "cell_type": "markdown",
   "id": "07aa0a32-2028-49b7-94f9-d9df32dda391",
   "metadata": {},
   "source": [
    "<div style=\"margin-left: 70px;\">\n",
    "\n",
    "![](../media/numpy_03.PNG)\n",
    "\n",
    "</div>"
   ]
  },
  {
   "cell_type": "code",
   "execution_count": 22,
   "id": "c62768dd-551c-4c09-9e0e-5dbb6311a3b2",
   "metadata": {},
   "outputs": [
    {
     "name": "stdout",
     "output_type": "stream",
     "text": [
      "a =  [1 2 3]\n",
      "shape of a =  (3,)\n",
      "b =  [[1 2 3]]\n",
      "shape of b =  (1, 3)\n"
     ]
    }
   ],
   "source": [
    "\n",
    "a = np.array([1,2,3])\n",
    "print(\"a = \", a)                               # 1D array   ====>   [1, 2, 3]\n",
    "print(\"shape of a = \", a.shape)                # (3, )\n",
    "\n",
    "\n",
    "\n",
    "b = np.array(\n",
    "    [\n",
    "        [1, 2, 3]\n",
    "    ]\n",
    ")\n",
    "print(\"b = \", b)                              # 2D array   ====>   [[1, 2, 3]]\n",
    "print(\"shape of b = \", b.shape)               # (1, 3)\n"
   ]
  },
  {
   "cell_type": "markdown",
   "id": "edb83370-13fa-4a02-b726-c2e8499912ca",
   "metadata": {},
   "source": [
    "<br>\n",
    "\n",
    "<span style=\"color: #06fff0; font-size: 0.7rem;\">■■■■■■■■■■■■■■■■■■■■■■■■■■■■■■■■■■■■■■■■■■■■■■■■■■■■■■■■■■■■■■■■■■■■■■■■■■■■■■■■■■■■■■■■■■■■■■■■■■■■■■■■■■■■■■■</span>\n",
    "\n",
    "<br>\n",
    "\n",
    "<span style=\"color: #a245ff;\">Let's do some practice</span>\n",
    "\n",
    "<span style=\"font-size: 0.7rem; color: red;\">■</span> &nbsp;<span style=\"color: black;\">The type of the array can also be explicitly specified at creation time :</span> &nbsp;&nbsp;<code style=\"padding: 5px;\">numpy.<span style=\"color: red;\">array(</span>object, dtype=None, *,<span style=\"color: red;\">)</span></code>"
   ]
  },
  {
   "cell_type": "code",
   "execution_count": 53,
   "id": "688b743c-f30a-428e-afd5-074803c2e9db",
   "metadata": {},
   "outputs": [
    {
     "name": "stdout",
     "output_type": "stream",
     "text": [
      "[1 3 5]\n",
      "int64\n"
     ]
    }
   ],
   "source": [
    "\n",
    "a = np.array([1, 3, 5], dtype=\"int64\")                        # numpy.array(object, dtype=None, *,)\n",
    "\n",
    "print(a)\n",
    "print(a.dtype)\n"
   ]
  },
  {
   "cell_type": "code",
   "execution_count": 74,
   "id": "8b27d6a3-9159-4b6b-be94-7f02fb1cf476",
   "metadata": {},
   "outputs": [
    {
     "name": "stdout",
     "output_type": "stream",
     "text": [
      "[[1.+0.j 2.+0.j]\n",
      " [3.+0.j 4.+0.j]]\n"
     ]
    }
   ],
   "source": [
    "\n",
    "a = np.array([[1, 2], [3, 4]], dtype=complex)         \n",
    "\n",
    "print(a)\n"
   ]
  },
  {
   "cell_type": "code",
   "execution_count": 33,
   "id": "01cac890-769e-4664-884b-b7632f1ea04f",
   "metadata": {},
   "outputs": [
    {
     "ename": "TypeError",
     "evalue": "array() takes from 1 to 2 positional arguments but 4 were given",
     "output_type": "error",
     "traceback": [
      "\u001b[1;31m---------------------------------------------------------------------------\u001b[0m",
      "\u001b[1;31mTypeError\u001b[0m                                 Traceback (most recent call last)",
      "Cell \u001b[1;32mIn[33], line 1\u001b[0m\n\u001b[1;32m----> 1\u001b[0m a \u001b[38;5;241m=\u001b[39m \u001b[43mnp\u001b[49m\u001b[38;5;241;43m.\u001b[39;49m\u001b[43marray\u001b[49m\u001b[43m(\u001b[49m\u001b[38;5;241;43m1\u001b[39;49m\u001b[43m,\u001b[49m\u001b[43m \u001b[49m\u001b[38;5;241;43m2\u001b[39;49m\u001b[43m,\u001b[49m\u001b[43m \u001b[49m\u001b[38;5;241;43m3\u001b[39;49m\u001b[43m,\u001b[49m\u001b[43m \u001b[49m\u001b[38;5;241;43m4\u001b[39;49m\u001b[43m)\u001b[49m    \n",
      "\u001b[1;31mTypeError\u001b[0m: array() takes from 1 to 2 positional arguments but 4 were given"
     ]
    }
   ],
   "source": [
    "\n",
    "a = np.array(1, 2, 3, 4)    \n"
   ]
  },
  {
   "cell_type": "code",
   "execution_count": 44,
   "id": "1d82f731-5693-4c85-840b-501cb93f0db7",
   "metadata": {},
   "outputs": [
    {
     "name": "stdout",
     "output_type": "stream",
     "text": [
      "[[1 2 3]\n",
      " [4 5 6]]\n",
      "<class 'numpy.ndarray'>\n",
      "\n",
      "\n",
      "[[1 2 3]\n",
      " [4 5 6]]\n",
      "<class 'numpy.ndarray'>\n"
     ]
    }
   ],
   "source": [
    "\n",
    "a = np.array([(1, 2, 3), (4, 5, 6)])           # Method-1\n",
    "b = np.array([[1, 2, 3], [4, 5, 6]])           # Method-2\n",
    "\n",
    "print(a)\n",
    "print(type(a))\n",
    "\n",
    "print(\"\\n\")\n",
    "\n",
    "print(b)\n",
    "print(type(b))\n"
   ]
  },
  {
   "cell_type": "code",
   "execution_count": 46,
   "id": "e799787f-41ee-4e3a-8dcd-db7ec047feac",
   "metadata": {},
   "outputs": [
    {
     "name": "stdout",
     "output_type": "stream",
     "text": [
      "[[1.5 2.  3. ]\n",
      " [4.  5.  6. ]]\n",
      "<class 'numpy.ndarray'>\n",
      "\n",
      "\n",
      "[[1.5 2.  3. ]\n",
      " [4.  5.  6. ]]\n",
      "<class 'numpy.ndarray'>\n"
     ]
    }
   ],
   "source": [
    "\n",
    "a = np.array([(1.5, 2, 3), (4, 5, 6)])         # Method-1\n",
    "b = np.array([[1.5, 2, 3], [4, 5, 6]])         # Method-2\n",
    "\n",
    "print(a)\n",
    "print(type(a))\n",
    "\n",
    "print(\"\\n\")\n",
    "\n",
    "print(b)\n",
    "print(type(b))\n"
   ]
  },
  {
   "cell_type": "markdown",
   "id": "3f41bb5d-dbf4-495f-8faf-38740f32bba6",
   "metadata": {
    "jp-MarkdownHeadingCollapsed": true
   },
   "source": [
    "<br>\n",
    "\n",
    "### <div style=\"color: white; background-color: #af87ff; padding: 5px;\"> <code style=\"font-size: 1.2rem; background-color: #af87ff; color: white;\"><strong>numpy.zeros()</strong></code> </div>"
   ]
  },
  {
   "cell_type": "markdown",
   "id": "e9e697ff-8885-4696-8014-b5ecdb0dec24",
   "metadata": {},
   "source": [
    "<code style=\"background-color: yellow; padding: 6px;\">numpy.<span style=\"color: red;\">zeros(</span>shape, dtype<span style=\"color: #9b96a1;\">=float</span>, order<span style=\"color: #9b96a1;\">='C'</span>, *<span style=\"color: red;\">)</span></code> &nbsp;&nbsp;&nbsp;&nbsp;====>&nbsp;&nbsp;&nbsp;&nbsp;Returns a new array of given shape and type, **filled with zeros**.\n",
    "\n",
    "<span style=\"margin-left: 364px;\"> &nbsp;&nbsp;&nbsp;&nbsp;====>&nbsp;&nbsp;&nbsp;&nbsp;order {'C', 'F'}</span>\n",
    "\n",
    "<span style=\"margin-left: 364px;\"> &nbsp;&nbsp;&nbsp;&nbsp;====>&nbsp;&nbsp;&nbsp;&nbsp;Whether to store multi-dimensional data in **row-major (C)** or **column-major (F)** order <U>in memory</U></span>"
   ]
  },
  {
   "cell_type": "code",
   "execution_count": 86,
   "id": "9b88de10-0008-4517-8411-ceb849a0ae74",
   "metadata": {},
   "outputs": [
    {
     "data": {
      "text/plain": [
       "array([0., 0., 0., 0., 0.])"
      ]
     },
     "execution_count": 86,
     "metadata": {},
     "output_type": "execute_result"
    }
   ],
   "source": [
    "\n",
    "np.zeros(5)\n"
   ]
  },
  {
   "cell_type": "code",
   "execution_count": 77,
   "id": "97d7d620-a07f-4a38-b708-9917048b69be",
   "metadata": {},
   "outputs": [
    {
     "data": {
      "text/plain": [
       "array([0, 0, 0, 0, 0])"
      ]
     },
     "execution_count": 77,
     "metadata": {},
     "output_type": "execute_result"
    }
   ],
   "source": [
    "\n",
    "np.zeros((5,), dtype=int)\n"
   ]
  },
  {
   "cell_type": "code",
   "execution_count": 78,
   "id": "8dd3fe7e-4104-4943-b558-62cabef6528e",
   "metadata": {},
   "outputs": [
    {
     "data": {
      "text/plain": [
       "array([[0.],\n",
       "       [0.]])"
      ]
     },
     "execution_count": 78,
     "metadata": {},
     "output_type": "execute_result"
    }
   ],
   "source": [
    "\n",
    "np.zeros((2, 1))\n"
   ]
  },
  {
   "cell_type": "code",
   "execution_count": 85,
   "id": "a46882ce-ad80-495f-a9bd-64626577484e",
   "metadata": {},
   "outputs": [
    {
     "data": {
      "text/plain": [
       "array([[0., 0., 0., 0.],\n",
       "       [0., 0., 0., 0.],\n",
       "       [0., 0., 0., 0.]])"
      ]
     },
     "execution_count": 85,
     "metadata": {},
     "output_type": "execute_result"
    }
   ],
   "source": [
    "\n",
    "s = (3,4)                                                       # tuple\n",
    "np.zeros(s)\n"
   ]
  },
  {
   "cell_type": "code",
   "execution_count": 89,
   "id": "a97029dc-e588-4c17-a742-899eafd4f7fe",
   "metadata": {},
   "outputs": [
    {
     "data": {
      "text/plain": [
       "array([[[0., 0.],\n",
       "        [0., 0.],\n",
       "        [0., 0.]],\n",
       "\n",
       "       [[0., 0.],\n",
       "        [0., 0.],\n",
       "        [0., 0.]]])"
      ]
     },
     "execution_count": 89,
     "metadata": {},
     "output_type": "execute_result"
    }
   ],
   "source": [
    "\n",
    "np.zeros((2, 3, 2))                                             # 2 layers, each having a 2D array of 3 rows and 2 columns \n"
   ]
  },
  {
   "cell_type": "code",
   "execution_count": 86,
   "id": "827db285-7ec1-4dd9-9af6-bc69d2316ef4",
   "metadata": {},
   "outputs": [
    {
     "data": {
      "text/plain": [
       "array([(0, 0), (0, 0)], dtype=[('x', '<i4'), ('y', '<i4')])"
      ]
     },
     "execution_count": 86,
     "metadata": {},
     "output_type": "execute_result"
    }
   ],
   "source": [
    "\n",
    "np.zeros((2,), dtype=[('x', 'i4'), ('y', 'i4')])                # custom dtype\n"
   ]
  },
  {
   "cell_type": "markdown",
   "id": "5a6925ba-395d-4d21-80f1-34368075c2f1",
   "metadata": {},
   "source": [
    "<br>\n",
    "\n",
    "### <div style=\"color: white; background-color: #af87ff; padding: 5px;\"> <code style=\"font-size: 1.2rem; background-color: #af87ff; color: white;\"><strong>numpy.ones()</strong></code> </div>"
   ]
  },
  {
   "cell_type": "markdown",
   "id": "97ff8c29-a3d2-4ca2-aff9-220cad6cb345",
   "metadata": {},
   "source": [
    "<code style=\"background-color: yellow; padding: 6px;\">numpy.<span style=\"color: red;\">ones(</span>shape<span style=\"color: red;\">,</span> dtype<span style=\"color: #9b96a1;\">=float</span><span style=\"color: red;\">,</span> order<span style=\"color: #9b96a1;\">='C'</span><span style=\"color: red;\">,</span> *<span style=\"color: red;\">)</span></code> &nbsp;&nbsp;&nbsp;&nbsp;====>&nbsp;&nbsp;&nbsp;&nbsp;Returns a new array of given shape and type, **filled with ones**.\n",
    "\n",
    "<span style=\"margin-left: 355px;\"> &nbsp;&nbsp;&nbsp;&nbsp;====>&nbsp;&nbsp;&nbsp;&nbsp;order {'C', 'F'}</span>\n",
    "\n",
    "<span style=\"margin-left: 355px;\"> &nbsp;&nbsp;&nbsp;&nbsp;====>&nbsp;&nbsp;&nbsp;&nbsp;Whether to store multi-dimensional data in **row-major (C)** or **column-major (F)** order <u>in memory</u></span>"
   ]
  },
  {
   "cell_type": "code",
   "execution_count": 87,
   "id": "747da0d2-c40c-4b73-853e-99e89b5df216",
   "metadata": {},
   "outputs": [
    {
     "data": {
      "text/plain": [
       "array([1., 1., 1., 1., 1.])"
      ]
     },
     "execution_count": 87,
     "metadata": {},
     "output_type": "execute_result"
    }
   ],
   "source": [
    "\n",
    "np.ones(5)\n"
   ]
  },
  {
   "cell_type": "code",
   "execution_count": 88,
   "id": "b1311a39-5903-406c-acc2-a04d78ec4483",
   "metadata": {},
   "outputs": [
    {
     "data": {
      "text/plain": [
       "array([1, 1, 1, 1, 1])"
      ]
     },
     "execution_count": 88,
     "metadata": {},
     "output_type": "execute_result"
    }
   ],
   "source": [
    "\n",
    "np.ones((5,), dtype=int)\n"
   ]
  },
  {
   "cell_type": "code",
   "execution_count": 89,
   "id": "12a7bbb6-e814-40d0-a53a-6c225033fb1e",
   "metadata": {},
   "outputs": [
    {
     "data": {
      "text/plain": [
       "array([[1.],\n",
       "       [1.]])"
      ]
     },
     "execution_count": 89,
     "metadata": {},
     "output_type": "execute_result"
    }
   ],
   "source": [
    "\n",
    "np.ones((2, 1))\n"
   ]
  },
  {
   "cell_type": "code",
   "execution_count": 110,
   "id": "bc60881a-6cc0-4d90-a357-41938fced494",
   "metadata": {},
   "outputs": [
    {
     "data": {
      "text/plain": [
       "array([[1., 1., 1., 1.],\n",
       "       [1., 1., 1., 1.],\n",
       "       [1., 1., 1., 1.]])"
      ]
     },
     "execution_count": 110,
     "metadata": {},
     "output_type": "execute_result"
    }
   ],
   "source": [
    "\n",
    "s = (3,4)                                                          # tuple\n",
    "np.ones(s)\n"
   ]
  },
  {
   "cell_type": "code",
   "execution_count": 111,
   "id": "5f32d3da-4649-4212-a27e-7eb3919921d0",
   "metadata": {},
   "outputs": [
    {
     "data": {
      "text/plain": [
       "array([(1, 1), (1, 1)], dtype=[('x', '<i4'), ('y', '<i4')])"
      ]
     },
     "execution_count": 111,
     "metadata": {},
     "output_type": "execute_result"
    }
   ],
   "source": [
    "\n",
    "np.ones((2,), dtype=[('x', 'i4'), ('y', 'i4')])                    # custom dtype\n"
   ]
  },
  {
   "cell_type": "code",
   "execution_count": 112,
   "id": "f81e68a1-68fd-4d55-8712-58d8a98e8ea9",
   "metadata": {},
   "outputs": [
    {
     "data": {
      "text/plain": [
       "array([[[1, 1, 1, 1],\n",
       "        [1, 1, 1, 1],\n",
       "        [1, 1, 1, 1]],\n",
       "\n",
       "       [[1, 1, 1, 1],\n",
       "        [1, 1, 1, 1],\n",
       "        [1, 1, 1, 1]]], dtype=int16)"
      ]
     },
     "execution_count": 112,
     "metadata": {},
     "output_type": "execute_result"
    }
   ],
   "source": [
    "\n",
    "np.ones((2, 3, 4), dtype=np.int16)                                 # (depth, rows, columns)\n"
   ]
  },
  {
   "cell_type": "markdown",
   "id": "cef42511-7d5c-4aed-a402-ab7831b364db",
   "metadata": {},
   "source": [
    "<br>\n",
    "\n",
    "### <div style=\"color: white; background-color: #af87ff; padding: 5px;\"> <code style=\"font-size: 1.2rem; background-color: #af87ff; color: white;\"><strong>numpy.eye()</strong></code> </div>"
   ]
  },
  {
   "cell_type": "markdown",
   "id": "ba733a40-50da-4543-8aa6-488093397a92",
   "metadata": {},
   "source": [
    "<code style=\"background-color: yellow; padding: 6px;\">numpy.<span style=\"color: red;\">eye(</span>num_rows<span style=\"color: red;\">,</span> num_columns<span style=\"color: #9b96a1;\">=None</span><span style=\"color: red;\">,</span> k<span style=\"color: #9b96a1;\">=0</span><span style=\"color: red;\">,</span> dtype<span style=\"color: #9b96a1;\">=float</span><span style=\"color: red;\">,</span> order<span style=\"color: #9b96a1;\">='C'</span><span style=\"color: red;\">,</span> *<span style=\"color: red;\">)</span></code> &nbsp;&nbsp;&nbsp;&nbsp;====>&nbsp;&nbsp;&nbsp;&nbsp;Return a 2-D array with ones on the diagonal and zeros elsewhere.\n",
    "\n",
    "<div style=\"display: flex; margin-left: 525px;\">\n",
    "<div>====></div>\n",
    "<div style=\"margin-left: 15px;\"><strong>k</strong> = Index of the diagonal: 0 (default) refers to the <u>main diagonal</u>, <u>a positive value refers to an upper diagonal</u>, and <u>a negative value to a lower diagonal</u>.</div>\n",
    "</div>\n",
    "\n",
    "<br>\n",
    "\n",
    "<span style=\"margin-left: 510px;\"> &nbsp;&nbsp;&nbsp;&nbsp;====>&nbsp;&nbsp;&nbsp;&nbsp;order {'C', 'F'}</span>\n"
   ]
  },
  {
   "cell_type": "code",
   "execution_count": 95,
   "id": "94481013-d0f1-4713-8a3f-0b879244006a",
   "metadata": {},
   "outputs": [
    {
     "data": {
      "text/plain": [
       "array([[1, 0],\n",
       "       [0, 1]])"
      ]
     },
     "execution_count": 95,
     "metadata": {},
     "output_type": "execute_result"
    }
   ],
   "source": [
    "\n",
    "np.eye(2, dtype=int)\n"
   ]
  },
  {
   "cell_type": "code",
   "execution_count": 96,
   "id": "c7243ede-46b4-46a3-a75b-692d4679fd8e",
   "metadata": {},
   "outputs": [
    {
     "data": {
      "text/plain": [
       "array([[0., 1., 0.],\n",
       "       [0., 0., 1.],\n",
       "       [0., 0., 0.]])"
      ]
     },
     "execution_count": 96,
     "metadata": {},
     "output_type": "execute_result"
    }
   ],
   "source": [
    "\n",
    "np.eye(3, k=1)\n"
   ]
  },
  {
   "cell_type": "markdown",
   "id": "b2758785-8ac4-40b9-abec-6bd84c186fea",
   "metadata": {},
   "source": [
    "<br>\n",
    "\n",
    "### <div style=\"color: white; background-color: #af87ff; padding: 5px;\"> <code style=\"font-size: 1.2rem; background-color: #af87ff; color: white;\"><strong>numpy.identity()</strong></code> </div>"
   ]
  },
  {
   "cell_type": "markdown",
   "id": "dba2063a-9ab7-4cca-bfbd-e90d76e81eb0",
   "metadata": {},
   "source": [
    "<code style=\"background-color: yellow; padding: 6px;\">numpy.<span style=\"color: red;\">identity(</span>n<span style=\"color: red;\">,</span> dtype<span style=\"color: #9b96a1;\">=None</span><span style=\"color: red;\">,</span> *<span style=\"color: red;\">)</span></code> &nbsp;&nbsp;&nbsp;&nbsp;====>&nbsp;&nbsp;&nbsp;&nbsp;Returns the **identity array** which is <u>a square array with ones on the main diagonal</u>. <br>\n",
    "<span style=\"margin-left: 342px;\">It actually returns &nbsp;<code>n x n</code>&nbsp; array with its **main diagonal set to one**, and **all other elements 0**.</span>\n",
    "\n",
    "<span style=\"margin-left: 264px;\"> &nbsp;&nbsp;&nbsp;&nbsp;====>&nbsp;&nbsp;&nbsp;&nbsp;**n** &nbsp;=&nbsp; Number of rows (and columns) in &nbsp;<code>n x n</code>&nbsp; output.</span>\n",
    "\n"
   ]
  },
  {
   "cell_type": "code",
   "execution_count": 98,
   "id": "3c973a43-1e76-46ae-98bf-98907f527e81",
   "metadata": {},
   "outputs": [
    {
     "data": {
      "text/plain": [
       "array([[1., 0., 0.],\n",
       "       [0., 1., 0.],\n",
       "       [0., 0., 1.]])"
      ]
     },
     "execution_count": 98,
     "metadata": {},
     "output_type": "execute_result"
    }
   ],
   "source": [
    "\n",
    "np.identity(3)\n"
   ]
  },
  {
   "cell_type": "markdown",
   "id": "f4dc1e89-a7b2-4953-9bc8-1a19665f87e0",
   "metadata": {
    "jp-MarkdownHeadingCollapsed": true
   },
   "source": [
    "<br>\n",
    "\n",
    "### <div style=\"color: white; background-color: #af87ff; padding: 5px;\"> <code style=\"font-size: 1.2rem; background-color: #af87ff; color: white;\"><strong>numpy.empty()</strong></code> </div>"
   ]
  },
  {
   "cell_type": "markdown",
   "id": "df317108-4788-4ced-ba39-ad7a58dd4883",
   "metadata": {},
   "source": [
    "<code style=\"background-color: yellow; padding: 6px;\">numpy.<span style=\"color: red;\">empty(</span>shape<span style=\"color: red;\">,</span> dtype<span style=\"color: #9b96a1;\">=float</span><span style=\"color: red;\">,</span> order<span style=\"color: #9b96a1;\">='C'</span><span style=\"color: red;\">,</span> *<span style=\"color: red;\">)</span></code> &nbsp;&nbsp;&nbsp;&nbsp;====>&nbsp;&nbsp;&nbsp;&nbsp;Return a new array of given shape and type, <u>without initializing entries</u>.\n",
    "\n",
    "<span style=\"margin-left: 364px;\"> &nbsp;&nbsp;&nbsp;&nbsp;====>&nbsp;&nbsp;&nbsp;&nbsp;order {'C', 'F'}</span>\n",
    "\n",
    "<span style=\"margin-left: 364px;\"> &nbsp;&nbsp;&nbsp;&nbsp;====>&nbsp;&nbsp;&nbsp;&nbsp;Whether to store multi-dimensional data in **row-major (C)** or **column-major (F)** order <u>in memory</u></span>\n",
    "\n"
   ]
  },
  {
   "cell_type": "code",
   "execution_count": 103,
   "id": "d417767e-5e02-404a-92ec-f2870e2a61cb",
   "metadata": {},
   "outputs": [
    {
     "data": {
      "text/plain": [
       "array([[1., 1.],\n",
       "       [1., 1.]])"
      ]
     },
     "execution_count": 103,
     "metadata": {},
     "output_type": "execute_result"
    }
   ],
   "source": [
    "\n",
    "np.empty([2, 2])                          # uninitialized\n"
   ]
  },
  {
   "cell_type": "code",
   "execution_count": 107,
   "id": "7f97e9a2-d6e8-477a-a870-5fe5aa36f292",
   "metadata": {},
   "outputs": [
    {
     "data": {
      "text/plain": [
       "array([[-2102209360,         434],\n",
       "       [          0,           0]])"
      ]
     },
     "execution_count": 107,
     "metadata": {},
     "output_type": "execute_result"
    }
   ],
   "source": [
    "\n",
    "np.empty([2, 2], dtype=int)               # uninitialized     \n",
    "                                          # the ouput will keep on changing everytime you execute this line\n"
   ]
  },
  {
   "cell_type": "code",
   "execution_count": 11,
   "id": "c075513d-576f-4ca3-b20d-8d2bf917e37a",
   "metadata": {},
   "outputs": [
    {
     "data": {
      "text/plain": [
       "array([[0.53222222, 0.33722222, 0.53222222],\n",
       "       [4.03322222, 5.49222222, 0.33722222]])"
      ]
     },
     "execution_count": 11,
     "metadata": {},
     "output_type": "execute_result"
    }
   ],
   "source": [
    "\n",
    "np.empty((2, 3)) \n"
   ]
  },
  {
   "cell_type": "markdown",
   "id": "6698ec81-63ea-483f-8488-d3be6a2c01aa",
   "metadata": {},
   "source": [
    "<br>\n",
    "\n",
    "<code style=\"color:white; background-color: red;\">Caution</code> <br>\n",
    "It’s not safe to assume that <code>numpy.<span style=\"color: red;\">empty()</span></code> will return an array of all zeros. &nbsp;This function returns **uninitialized memory** and thus **may contain nonzero \"garbage\" values** . You should use this function only if you intend to populate the new array with data.\n",
    "\n",
    "<br>"
   ]
  },
  {
   "cell_type": "markdown",
   "id": "f990ff44-83be-4315-bc95-f1da835738b3",
   "metadata": {
    "jp-MarkdownHeadingCollapsed": true
   },
   "source": [
    "<br>\n",
    "\n",
    "### <div style=\"color: white; background-color: #af87ff; padding: 5px;\"> <code style=\"font-size: 1.2rem; background-color: #af87ff; color: white;\"><strong>numpy.arange()</strong></code> </div>"
   ]
  },
  {
   "cell_type": "markdown",
   "id": "e25a8b0d-719a-4695-b0cc-cbe6f9e9cb8b",
   "metadata": {},
   "source": [
    "\n",
    "<code style=\"background-color: yellow; padding: 6px;\">numpy.<span style=\"color: red;\">arange(</span>[start<span style=\"color: red;\">,</span> ]stop<span style=\"color: red;\">,</span> [step, ]dtype<span style=\"color: #9b96a1;\">=None</span><span style=\"color: red;\">,</span> *<span style=\"color: red;\">)</span></code> &nbsp;&nbsp;&nbsp;&nbsp;====>&nbsp;&nbsp;&nbsp;&nbsp;Return **evenly spaced values** within a given interval.\n",
    "\n",
    "<br>\n",
    "\n",
    "For integer arguments the function is roughly equivalent to the Python built-in &nbsp;<code style=\"color: red; background-color: #c1dbff;\">range</code> , but returns an <u><span style=\"color: blue;\">**ndarray**</span></u> rather than a <u>range instance</u>.\n",
    "\n",
    "<br>\n",
    "\n",
    "When using a **non-integer step**, such as <code style=\"color: blue;\">0.1</code> , it is often better to use &nbsp;<code style=\"background-color: #faf300;\">numpy.<span style=\"color: red;\">linspace()</span></code>.&nbsp; \n",
    "<span style=\"color: #a245ff;\">When <code style=\"color: red;\">arange()</code> is used with floating point arguments, it is generally not possible to predict the number of elements obtained, due to the finite floating point precision. &nbsp;For this reason, it is usually better to use the function <code style=\"color: red;\">linspace()</code> that receives as an argument the number of elements that we want, instead of the step :</span>\n",
    "\n",
    "<br>"
   ]
  },
  {
   "cell_type": "code",
   "execution_count": 33,
   "id": "f7c027c1-a136-4951-b8e8-e0c26fdbe0e4",
   "metadata": {},
   "outputs": [
    {
     "data": {
      "text/plain": [
       "array([0, 1, 2])"
      ]
     },
     "execution_count": 33,
     "metadata": {},
     "output_type": "execute_result"
    }
   ],
   "source": [
    "\n",
    "np.arange(3)                            # arange(stop)   =======>   [0, stop)   =======>   \"0\" included, but \"stop\" excluded\n",
    "                                        "
   ]
  },
  {
   "cell_type": "code",
   "execution_count": 32,
   "id": "de82d823-f33c-45a8-84c8-61e692e73f27",
   "metadata": {},
   "outputs": [
    {
     "data": {
      "text/plain": [
       "array([0., 1., 2.])"
      ]
     },
     "execution_count": 32,
     "metadata": {},
     "output_type": "execute_result"
    }
   ],
   "source": [
    "\n",
    "np.arange(3.0)                          # it accepts float arguments\n"
   ]
  },
  {
   "cell_type": "code",
   "execution_count": 31,
   "id": "1b1dae37-ffec-405e-9530-911fcec64cb2",
   "metadata": {},
   "outputs": [
    {
     "data": {
      "text/plain": [
       "array([3, 4, 5, 6])"
      ]
     },
     "execution_count": 31,
     "metadata": {},
     "output_type": "execute_result"
    }
   ],
   "source": [
    "\n",
    "np.arange(3,7)                          # arange(start, stop)\n"
   ]
  },
  {
   "cell_type": "code",
   "execution_count": 30,
   "id": "a8956d2f-2b18-4a46-8bc6-6cfb83f15837",
   "metadata": {},
   "outputs": [
    {
     "data": {
      "text/plain": [
       "array([3, 5])"
      ]
     },
     "execution_count": 30,
     "metadata": {},
     "output_type": "execute_result"
    }
   ],
   "source": [
    "\n",
    "np.arange(3,7,2)                        # arange(start, stop, step)\n"
   ]
  },
  {
   "cell_type": "code",
   "execution_count": 29,
   "id": "c63105da-018c-4d40-98a3-c2222821b838",
   "metadata": {},
   "outputs": [
    {
     "data": {
      "text/plain": [
       "array([10, 15, 20, 25])"
      ]
     },
     "execution_count": 29,
     "metadata": {},
     "output_type": "execute_result"
    }
   ],
   "source": [
    "\n",
    "np.arange(10, 30, 5)                    # arange(start, stop, step)\n"
   ]
  },
  {
   "cell_type": "code",
   "execution_count": 34,
   "id": "acde6bed-aa86-4660-95d6-7d2c5d2ddc65",
   "metadata": {},
   "outputs": [
    {
     "data": {
      "text/plain": [
       "array([0. , 0.3, 0.6, 0.9, 1.2, 1.5, 1.8])"
      ]
     },
     "execution_count": 34,
     "metadata": {},
     "output_type": "execute_result"
    }
   ],
   "source": [
    "\n",
    "np.arange(0, 2, 0.3)                    # it accepts float arguments\n"
   ]
  },
  {
   "cell_type": "markdown",
   "id": "0db398c4-7132-4910-bd39-a389eeb3080a",
   "metadata": {},
   "source": [
    "<br>\n",
    "\n",
    "<code style=\"background-color: red; color: white;\"> Warning </code>\n",
    "\n",
    "However, **the length of the output <u>might not be numerically stable</u> while handlling float values values** (due to precision error while type casting).<br>\n",
    "Also, the built-in &nbsp;<code style=\"color: red;\">range()</code>&nbsp; generates Python built-in integers that have arbitrary size, while &nbsp;<code>numpy.<span style=\"color: red;\">arange()</span></code> produces numpy.int32 or numpy.int64 numbers. **This may result in incorrect results for large integer values**:\n",
    "\n",
    "https://numpy.org/doc/stable/reference/generated/numpy.arange.html"
   ]
  },
  {
   "cell_type": "code",
   "execution_count": 119,
   "id": "9d8bb89a-e9c6-4ae9-92d7-f8ee7fb1bbcf",
   "metadata": {},
   "outputs": [
    {
     "data": {
      "text/plain": [
       "array([0, 0, 0, 0, 0, 0, 0, 0, 0, 0])"
      ]
     },
     "execution_count": 119,
     "metadata": {},
     "output_type": "execute_result"
    }
   ],
   "source": [
    "\n",
    "np.arange(0, 5, 0.5, dtype=int)\n"
   ]
  },
  {
   "cell_type": "code",
   "execution_count": 120,
   "id": "0a4ae4a2-047d-4b98-97ea-5338f61f38e7",
   "metadata": {},
   "outputs": [
    {
     "data": {
      "text/plain": [
       "array([-3, -2, -1,  0,  1,  2,  3,  4,  5,  6,  7,  8])"
      ]
     },
     "execution_count": 120,
     "metadata": {},
     "output_type": "execute_result"
    }
   ],
   "source": [
    "\n",
    "np.arange(-3, 3, 0.5, dtype=int)\n"
   ]
  },
  {
   "cell_type": "code",
   "execution_count": 3,
   "id": "6775f114-38c6-4b3b-9fc3-db53e72e49a8",
   "metadata": {},
   "outputs": [
    {
     "name": "stdout",
     "output_type": "stream",
     "text": [
      "[0, 1, 7776, 8801, 6176, 625, 6576, 4001]\n",
      "[0, 1, 0, 6897, 0, 3617, 0, 1537]\n"
     ]
    }
   ],
   "source": [
    "\n",
    "power = 40\n",
    "modulo = 10000\n",
    "x1 = [(n ** power) % modulo for n in range(8)]\n",
    "x2 = [(n ** power) % modulo for n in np.arange(8)]\n",
    "print(x1)\n",
    "print(x2)\n"
   ]
  },
  {
   "cell_type": "markdown",
   "id": "234b472a-8b4d-4e88-9901-d13b420bb7f3",
   "metadata": {
    "jp-MarkdownHeadingCollapsed": true
   },
   "source": [
    "<br>\n",
    "\n",
    "### <div style=\"color: white; background-color: #af87ff; padding: 5px;\"> <code style=\"font-size: 1.2rem; background-color: #af87ff; color: white;\"><strong>numpy.linspace()</strong></code> </div>"
   ]
  },
  {
   "cell_type": "markdown",
   "id": "451839be-86f5-4591-9d3c-3327e0ec200d",
   "metadata": {},
   "source": [
    "<code style=\"background-color: yellow; padding: 6px;\">numpy.<span style=\"color: red;\">empty(</span>start<span style=\"color: red;\">,</span> stop<span style=\"color: red;\">,</span> num=50<span style=\"color: red;\">,</span> endpoint<span style=\"color: #9b96a1;\">=True</span><span style=\"color: red;\">,</span> retstep<span style=\"color: #9b96a1;\">=False</span><span style=\"color: red;\">,</span> dtype<span style=\"color: #9b96a1;\">=None</span><span style=\"color: red;\">,</span> axis<span style=\"color: #9b96a1;\">=0</span><span style=\"color: red;\">,</span> *<span style=\"color: red;\">)</span></code> \n",
    "\n",
    "<span style=\"margin-left: 450px;\"> &nbsp;&nbsp;==>&nbsp;&nbsp; Return **evenly** spaced numbers over a specified interval</span>\n",
    "\n",
    "<span style=\"margin-left: 450px;\"> &nbsp;&nbsp;==>&nbsp;&nbsp; Returns &nbsp;<code>num</code>&nbsp; evenly spaced samples, calculated over the interval &nbsp;<code>[start, stop]</code></span>\n",
    "\n",
    "<span style=\"margin-left: 450px;\"> &nbsp;&nbsp;==>&nbsp;&nbsp; The endpoint of the interval can optionally be excluded</span>\n",
    "\n",
    "<span style=\"margin-left: 450px;\"> &nbsp;&nbsp;==>&nbsp;&nbsp; <code>retstep</code> &nbsp;➜ &nbsp;If True, return (samples, step), where step is the spacing between samples.</span>\n"
   ]
  },
  {
   "cell_type": "code",
   "execution_count": 15,
   "id": "bfb8946e-02cd-4e2a-ba82-7ec5a6653713",
   "metadata": {},
   "outputs": [
    {
     "data": {
      "text/plain": [
       "array([0.  , 0.25, 0.5 , 0.75, 1.  , 1.25, 1.5 , 1.75, 2.  ])"
      ]
     },
     "execution_count": 15,
     "metadata": {},
     "output_type": "execute_result"
    }
   ],
   "source": [
    "\n",
    "np.linspace(0, 2, 9)                                                  # 9 numbers from 0 to 2\n"
   ]
  },
  {
   "cell_type": "code",
   "execution_count": 16,
   "id": "2f6fe256-75d8-43bc-9586-1a83b5db264f",
   "metadata": {},
   "outputs": [
    {
     "data": {
      "text/plain": [
       "array([2.  , 2.25, 2.5 , 2.75, 3.  ])"
      ]
     },
     "execution_count": 16,
     "metadata": {},
     "output_type": "execute_result"
    }
   ],
   "source": [
    "\n",
    "np.linspace(2.0, 3.0, num=5)                                          # 5 numbers from 2.0 to 3.0\n"
   ]
  },
  {
   "cell_type": "code",
   "execution_count": 17,
   "id": "b2484829-a884-47bf-93f2-05a69cee8482",
   "metadata": {},
   "outputs": [
    {
     "data": {
      "text/plain": [
       "array([2. , 2.2, 2.4, 2.6, 2.8])"
      ]
     },
     "execution_count": 17,
     "metadata": {},
     "output_type": "execute_result"
    }
   ],
   "source": [
    "\n",
    "np.linspace(2.0, 3.0, num=5, endpoint=False)                          # 5 numbers from 2.0 to 3.0, with 3.0 excluded\n"
   ]
  },
  {
   "cell_type": "code",
   "execution_count": 18,
   "id": "38d5b2d1-b0a8-4d8b-977a-8300910696a5",
   "metadata": {},
   "outputs": [
    {
     "data": {
      "text/plain": [
       "(array([2.  , 2.25, 2.5 , 2.75, 3.  ]), 0.25)"
      ]
     },
     "execution_count": 18,
     "metadata": {},
     "output_type": "execute_result"
    }
   ],
   "source": [
    "\n",
    "np.linspace(2.0, 3.0, num=5, retstep=True)                            # 5 numbers from 2.0 to 3.0\n"
   ]
  },
  {
   "cell_type": "code",
   "execution_count": 24,
   "id": "f2431607-2f05-49b4-a315-789f36e7c219",
   "metadata": {},
   "outputs": [
    {
     "data": {
      "text/plain": [
       "array([0.        , 0.06346652, 0.12693304, 0.19039955, 0.25386607,\n",
       "       0.31733259, 0.38079911, 0.44426563, 0.50773215, 0.57119866,\n",
       "       0.63466518, 0.6981317 , 0.76159822, 0.82506474, 0.88853126,\n",
       "       0.95199777, 1.01546429, 1.07893081, 1.14239733, 1.20586385,\n",
       "       1.26933037, 1.33279688, 1.3962634 , 1.45972992, 1.52319644,\n",
       "       1.58666296, 1.65012947, 1.71359599, 1.77706251, 1.84052903,\n",
       "       1.90399555, 1.96746207, 2.03092858, 2.0943951 , 2.15786162,\n",
       "       2.22132814, 2.28479466, 2.34826118, 2.41172769, 2.47519421,\n",
       "       2.53866073, 2.60212725, 2.66559377, 2.72906028, 2.7925268 ,\n",
       "       2.85599332, 2.91945984, 2.98292636, 3.04639288, 3.10985939,\n",
       "       3.17332591, 3.23679243, 3.30025895, 3.36372547, 3.42719199,\n",
       "       3.4906585 , 3.55412502, 3.61759154, 3.68105806, 3.74452458,\n",
       "       3.8079911 , 3.87145761, 3.93492413, 3.99839065, 4.06185717,\n",
       "       4.12532369, 4.1887902 , 4.25225672, 4.31572324, 4.37918976,\n",
       "       4.44265628, 4.5061228 , 4.56958931, 4.63305583, 4.69652235,\n",
       "       4.75998887, 4.82345539, 4.88692191, 4.95038842, 5.01385494,\n",
       "       5.07732146, 5.14078798, 5.2042545 , 5.26772102, 5.33118753,\n",
       "       5.39465405, 5.45812057, 5.52158709, 5.58505361, 5.64852012,\n",
       "       5.71198664, 5.77545316, 5.83891968, 5.9023862 , 5.96585272,\n",
       "       6.02931923, 6.09278575, 6.15625227, 6.21971879, 6.28318531])"
      ]
     },
     "execution_count": 24,
     "metadata": {},
     "output_type": "execute_result"
    }
   ],
   "source": [
    "\n",
    "from numpy import pi\n",
    "x = np.linspace(0, 2 * pi, 100)                                       # useful to evaluate function at lots of points\n",
    "x\n"
   ]
  },
  {
   "cell_type": "code",
   "execution_count": 23,
   "id": "7570fe97-aee4-4ba2-91a3-15bc2857f354",
   "metadata": {},
   "outputs": [
    {
     "data": {
      "text/plain": [
       "array([ 0.00000000e+00,  6.34239197e-02,  1.26592454e-01,  1.89251244e-01,\n",
       "        2.51147987e-01,  3.12033446e-01,  3.71662456e-01,  4.29794912e-01,\n",
       "        4.86196736e-01,  5.40640817e-01,  5.92907929e-01,  6.42787610e-01,\n",
       "        6.90079011e-01,  7.34591709e-01,  7.76146464e-01,  8.14575952e-01,\n",
       "        8.49725430e-01,  8.81453363e-01,  9.09631995e-01,  9.34147860e-01,\n",
       "        9.54902241e-01,  9.71811568e-01,  9.84807753e-01,  9.93838464e-01,\n",
       "        9.98867339e-01,  9.99874128e-01,  9.96854776e-01,  9.89821442e-01,\n",
       "        9.78802446e-01,  9.63842159e-01,  9.45000819e-01,  9.22354294e-01,\n",
       "        8.95993774e-01,  8.66025404e-01,  8.32569855e-01,  7.95761841e-01,\n",
       "        7.55749574e-01,  7.12694171e-01,  6.66769001e-01,  6.18158986e-01,\n",
       "        5.67059864e-01,  5.13677392e-01,  4.58226522e-01,  4.00930535e-01,\n",
       "        3.42020143e-01,  2.81732557e-01,  2.20310533e-01,  1.58001396e-01,\n",
       "        9.50560433e-02,  3.17279335e-02, -3.17279335e-02, -9.50560433e-02,\n",
       "       -1.58001396e-01, -2.20310533e-01, -2.81732557e-01, -3.42020143e-01,\n",
       "       -4.00930535e-01, -4.58226522e-01, -5.13677392e-01, -5.67059864e-01,\n",
       "       -6.18158986e-01, -6.66769001e-01, -7.12694171e-01, -7.55749574e-01,\n",
       "       -7.95761841e-01, -8.32569855e-01, -8.66025404e-01, -8.95993774e-01,\n",
       "       -9.22354294e-01, -9.45000819e-01, -9.63842159e-01, -9.78802446e-01,\n",
       "       -9.89821442e-01, -9.96854776e-01, -9.99874128e-01, -9.98867339e-01,\n",
       "       -9.93838464e-01, -9.84807753e-01, -9.71811568e-01, -9.54902241e-01,\n",
       "       -9.34147860e-01, -9.09631995e-01, -8.81453363e-01, -8.49725430e-01,\n",
       "       -8.14575952e-01, -7.76146464e-01, -7.34591709e-01, -6.90079011e-01,\n",
       "       -6.42787610e-01, -5.92907929e-01, -5.40640817e-01, -4.86196736e-01,\n",
       "       -4.29794912e-01, -3.71662456e-01, -3.12033446e-01, -2.51147987e-01,\n",
       "       -1.89251244e-01, -1.26592454e-01, -6.34239197e-02, -2.44929360e-16])"
      ]
     },
     "execution_count": 23,
     "metadata": {},
     "output_type": "execute_result"
    }
   ],
   "source": [
    "\n",
    "f = np.sin(x)\n",
    "f\n"
   ]
  },
  {
   "cell_type": "markdown",
   "id": "c6076858-14ea-4746-932e-244b64cd96d5",
   "metadata": {},
   "source": [
    "<br>\n",
    "\n",
    "<span style=\"color: #a245ff;\">Let's see the graphical representation.</span>\n"
   ]
  },
  {
   "cell_type": "code",
   "execution_count": 10,
   "id": "819cefd6-1a0e-4316-86da-32f7b5ff7587",
   "metadata": {},
   "outputs": [
    {
     "data": {
      "image/png": "[encoded data removed]",
      "text/plain": [
       "<Figure size 640x480 with 1 Axes>"
      ]
     },
     "metadata": {},
     "output_type": "display_data"
    }
   ],
   "source": [
    "\n",
    "import matplotlib.pyplot as plt\n",
    "N = 8\n",
    "y = np.zeros(N)\n",
    "x1 = np.linspace(0, 10, N, endpoint=True)\n",
    "x2 = np.linspace(0, 10, N, endpoint=False)\n",
    "plt.plot(x1, y, 'o')\n",
    "plt.plot(x2, y + 0.5, 'o')\n",
    "plt.ylim([-0.5, 1])\n",
    "plt.show()\n"
   ]
  },
  {
   "cell_type": "markdown",
   "id": "4eb97adb-75c0-4e7f-8dd4-3b4b5b44f3d0",
   "metadata": {},
   "source": [
    "<br>\n",
    "\n",
    "<span style=\"color: #06fff0; font-size: 0.7rem;\">■■■■■■■■■■■■■■■■■■■■■■■■■■■■■■■■■■■■■■■■■■■■■■■■■■■■■■■■■■■■■■■■■■■■■■■■■■■■■■■■■■■■■■■■■■■■■■■■■■■■■■■■■■■■■■■</span>\n",
    "\n",
    "<br>\n",
    "\n",
    "<span style=\"background-color: blue; color: white; padding:2px;\">&nbsp;&nbsp;Note :&nbsp;&nbsp;</span>&nbsp;&nbsp;&nbsp;&nbsp;&nbsp; <code style=\"background-color: #c2ffa7;\">  numpy_array.<span style=\"color: red;\">ndim</span>  </code>  &nbsp;&nbsp;&nbsp;&nbsp;=&nbsp;&nbsp;&nbsp;&nbsp; <code style=\"background-color: yellow;\">  numpy.<span style=\"color: red;\">ndim()</span>  </code> <br>\n",
    "&nbsp;&nbsp;&nbsp;&nbsp;&nbsp;&nbsp;&nbsp;&nbsp;&nbsp;&nbsp;&nbsp;&nbsp;&nbsp;&nbsp;&nbsp;&nbsp;&nbsp;&nbsp;&nbsp;&nbsp;&nbsp;<code style=\"background-color: #c2ffa7;\">  numpy_array.<span style=\"color: red;\">shape</span> </code> &nbsp;&nbsp;&nbsp;&nbsp;=&nbsp;&nbsp;&nbsp;&nbsp; <code style=\"background-color: yellow;\">  numpy.<span style=\"color: red;\">shape()</span> </code> <br>\n",
    "&nbsp;&nbsp;&nbsp;&nbsp;&nbsp;&nbsp;&nbsp;&nbsp;&nbsp;&nbsp;&nbsp;&nbsp;&nbsp;&nbsp;&nbsp;&nbsp;&nbsp;&nbsp;&nbsp;&nbsp;&nbsp;<code style=\"background-color: #c2ffa7;\">  numpy_array.<span style=\"color: red;\">size</span>  </code>  &nbsp;&nbsp;&nbsp;&nbsp;=&nbsp;&nbsp;&nbsp;&nbsp; <code style=\"background-color: yellow;\">  numpy.<span style=\"color: red;\">size()</span>  </code>\n"
   ]
  },
  {
   "cell_type": "code",
   "execution_count": 37,
   "id": "a3ecdb40-d8a9-4025-9b2d-0c0a7786d216",
   "metadata": {},
   "outputs": [
    {
     "data": {
      "text/plain": [
       "2"
      ]
     },
     "execution_count": 37,
     "metadata": {},
     "output_type": "execute_result"
    }
   ],
   "source": [
    "\n",
    "np.ndim([[1,2,3],[4,5,6]])\n"
   ]
  },
  {
   "cell_type": "code",
   "execution_count": 38,
   "id": "b52c36f1-6455-443b-8e5b-78233879b5e8",
   "metadata": {},
   "outputs": [
    {
     "data": {
      "text/plain": [
       "2"
      ]
     },
     "execution_count": 38,
     "metadata": {},
     "output_type": "execute_result"
    }
   ],
   "source": [
    "\n",
    "np.ndim(np.array([[1,2,3],[4,5,6]]))\n"
   ]
  },
  {
   "cell_type": "code",
   "execution_count": 39,
   "id": "d6203a58-bfb8-4ce1-831e-3869477f4d63",
   "metadata": {},
   "outputs": [
    {
     "data": {
      "text/plain": [
       "0"
      ]
     },
     "execution_count": 39,
     "metadata": {},
     "output_type": "execute_result"
    }
   ],
   "source": [
    "\n",
    "np.ndim(1)\n"
   ]
  },
  {
   "cell_type": "code",
   "execution_count": 40,
   "id": "a7fea47f-7b5a-4a77-92e0-b999ca3a3c51",
   "metadata": {},
   "outputs": [
    {
     "data": {
      "text/plain": [
       "(3, 3)"
      ]
     },
     "execution_count": 40,
     "metadata": {},
     "output_type": "execute_result"
    }
   ],
   "source": [
    "\n",
    "np.shape(np.eye(3))\n"
   ]
  },
  {
   "cell_type": "code",
   "execution_count": 41,
   "id": "2fc18141-1384-4e59-aa0e-350ecdae338d",
   "metadata": {},
   "outputs": [
    {
     "data": {
      "text/plain": [
       "(1, 2)"
      ]
     },
     "execution_count": 41,
     "metadata": {},
     "output_type": "execute_result"
    }
   ],
   "source": [
    "\n",
    "np.shape([[1, 3]])\n"
   ]
  },
  {
   "cell_type": "code",
   "execution_count": 42,
   "id": "18d95c40-b782-44b7-9448-139dbd63ffb4",
   "metadata": {},
   "outputs": [
    {
     "data": {
      "text/plain": [
       "(1,)"
      ]
     },
     "execution_count": 42,
     "metadata": {},
     "output_type": "execute_result"
    }
   ],
   "source": [
    "\n",
    "np.shape([0])\n"
   ]
  },
  {
   "cell_type": "code",
   "execution_count": 43,
   "id": "c322c0d9-09e0-4d57-847a-f1264ca974f7",
   "metadata": {},
   "outputs": [
    {
     "data": {
      "text/plain": [
       "()"
      ]
     },
     "execution_count": 43,
     "metadata": {},
     "output_type": "execute_result"
    }
   ],
   "source": [
    "\n",
    "np.shape(0)\n"
   ]
  },
  {
   "cell_type": "code",
   "execution_count": 46,
   "id": "4f49fe1e-44f4-4f0b-9f53-5c91d84a0a9d",
   "metadata": {},
   "outputs": [
    {
     "name": "stdout",
     "output_type": "stream",
     "text": [
      "(3,)\n",
      "(3,)\n"
     ]
    }
   ],
   "source": [
    "\n",
    "a = np.array([(1, 2), (3, 4), (5, 6)], dtype=[('x', 'i4'), ('y', 'i4')])\n",
    "print(np.shape(a))                                                               # METHOD-1\n",
    "print(a.shape)                                                                   # METHOD-2\n"
   ]
  },
  {
   "cell_type": "markdown",
   "id": "96cf00c1-4ada-423c-aa6d-b27170f677c1",
   "metadata": {
    "jp-MarkdownHeadingCollapsed": true
   },
   "source": [
    "<br>\n",
    "\n",
    "### <div style=\"color: white; background-color: #af87ff; padding: 5px;\"> <code style=\"font-size: 1.2rem; background-color: #af87ff; color: white;\"><strong>numpy.fromfunction()</strong></code> </div>"
   ]
  },
  {
   "cell_type": "markdown",
   "id": "e50cd87d-f44b-45c8-b96b-b7459cb90793",
   "metadata": {},
   "source": [
    "\n",
    "<code style=\"background-color: yellow; padding: 6px;\">numpy.<span style=\"color: red;\">fromfunction(<span style=\"color: black;\">function</span>, <span style=\"color: black;\">shape</span>, <span style=\"color: black;\">dtype</span><span style=\"color: #9b96a1;\">=float</span>)</span></code> &nbsp;generates an array by <strong>applying a function over each coordinate</strong> in a grid defined by the shape of the array. \n",
    "\n",
    "<span style=\"margin-left: 388px;\">The resulting array, therefore, has a value &nbsp;<code>fn(x, y, z)</code>&nbsp; at coordinate &nbsp;<code>(x, y, z)</code></span>\n",
    "\n",
    "<span style=\"margin-left: 388px;\">It is often used to create arrays based on mathematical calculations involving the indices of the array.</span>\n",
    "\n",
    "<br>\n",
    "\n",
    "<code style=\"background-color: black; color: white;\">Example - 1</code> &nbsp;<code style=\"background-color: white; color:  #a245ff;\">let's create a 1D array</code>"
   ]
  },
  {
   "cell_type": "code",
   "execution_count": 21,
   "id": "fc79e762-47c2-4b44-8f38-94ad2339c0d2",
   "metadata": {},
   "outputs": [
    {
     "name": "stdout",
     "output_type": "stream",
     "text": [
      "[[ 0  1  2  3]\n",
      " [10 11 12 13]\n",
      " [20 21 22 23]\n",
      " [30 31 32 33]\n",
      " [40 41 42 43]]\n"
     ]
    }
   ],
   "source": [
    "\n",
    "def f(x, y):\n",
    "    return 10 * x + y\n",
    "\n",
    "\n",
    "b = np.fromfunction(f, (5, 4), dtype=int)       # it takes a function as its first argument and a shape tuple as its second argument\n",
    "                                                # it creates an array of the given shape and applies the given function to each coordinate in the array\n",
    "                                                # but exactly how?\n",
    "\n",
    "                                                # Basically it creates an empty array of size (5,4)\n",
    "                                                #              and then computes  10*x+y  for every ccoordinate (x,y) and that will be the result\n",
    "\n",
    "                                                # EXAMPLE:\n",
    "                                                #           ==> The element at position (0, 0) is calculated as 10 * 0 + 0 = 0\n",
    "                                                #           ==> The element at position (1, 1) is calculated as 10 * 1 + 1 = 11\n",
    "                                                #           ==> The element at position (2, 3) is calculated as 10 * 2 + 3 = 23\n",
    "\n",
    "\n",
    "print(b)\n"
   ]
  },
  {
   "cell_type": "markdown",
   "id": "20beafb4-46f3-4f9a-a82d-00579f8ad910",
   "metadata": {},
   "source": [
    "<br>\n",
    "\n",
    "<code style=\"background-color: black; color: white;\">Example - 2</code> &nbsp;<code style=\"background-color: white; color:  #a245ff;\">let's create a 3D array</code>"
   ]
  },
  {
   "cell_type": "code",
   "execution_count": 24,
   "id": "f7bbb0fa-846f-432c-b5f0-1b11388aa9ca",
   "metadata": {},
   "outputs": [
    {
     "name": "stdout",
     "output_type": "stream",
     "text": [
      "[[[0 1 2 3]\n",
      "  [1 2 3 4]\n",
      "  [2 3 4 5]]\n",
      "\n",
      " [[1 2 3 4]\n",
      "  [2 3 4 5]\n",
      "  [3 4 5 6]]]\n"
     ]
    }
   ],
   "source": [
    "\n",
    "def f(x, y, z):\n",
    "    return x + y + z\n",
    "\n",
    "array_3d = np.fromfunction(f, (2, 3, 4), dtype=int)                # Create a 3D array with shape (2, 3, 4)\n",
    "\n",
    "print(array_3d)\n"
   ]
  },
  {
   "cell_type": "markdown",
   "id": "fd275bba-d4af-4526-a74d-a0b5e092c8b3",
   "metadata": {},
   "source": [
    "<br>\n",
    "\n",
    "<code style=\"background-color: black; color: white;\">Example - 3</code> &nbsp;<code style=\"background-color: white; color:  #a245ff;\">let's create a 1D array using a <span style=\"font-size: 1rem;\"><strong>lambda function</strong></span></code>"
   ]
  },
  {
   "cell_type": "code",
   "execution_count": 26,
   "id": "de015f9d-bc1b-46b4-b1c7-781ff4e6494b",
   "metadata": {},
   "outputs": [
    {
     "name": "stdout",
     "output_type": "stream",
     "text": [
      "[[0 0 0 0]\n",
      " [0 1 2 3]\n",
      " [0 2 4 6]\n",
      " [0 3 6 9]]\n"
     ]
    }
   ],
   "source": [
    "\n",
    "arr = np.fromfunction(lambda i, j: i * j, (4, 4), dtype = int) \n",
    "\t\n",
    "print(arr) \n"
   ]
  },
  {
   "cell_type": "markdown",
   "id": "52570e4f-f7e6-407d-9b28-90576f606c6c",
   "metadata": {},
   "source": [
    "<br>\n",
    "\n",
    "### <div style=\"color: white; background-color: #af87ff; padding: 5px;\"> <code style=\"font-size: 1.2rem; background-color: #af87ff; color: white;\"><strong>numpy.fromiter()</strong></code> </div>"
   ]
  },
  {
   "cell_type": "markdown",
   "id": "e7d89155-a8e8-40fb-98f8-8f7d6810d367",
   "metadata": {},
   "source": [
    "<code style=\"background-color: yellow; padding: 6px;\">numpy.<span style=\"color: red;\">fromiter(<span style=\"color: black;\">iterable</span>, <span style=\"color: black;\">dtype</span>, <span style=\"color: black;\">count</span><span style=\"color: #9b96a1;\">=-1</span>)</span></code> &nbsp;====>&nbsp;&nbsp;to create a NumPy array from an <strong>iterable object</strong> (that provides elements one at a time)\n",
    "\n",
    "<span style=\"margin-left: 336px;\">====>&nbsp;&nbsp;<strong><u>count</u></strong> :&nbsp; [int, optional] &nbsp;Number of items to read</span>\n",
    "\n",
    "<code style=\"background-color: black; color: white;\">Example - 1</code>"
   ]
  },
  {
   "cell_type": "code",
   "execution_count": 34,
   "id": "ddd7d36b-7522-4df7-a70a-73fbfa6afdd0",
   "metadata": {},
   "outputs": [
    {
     "data": {
      "text/plain": [
       "array([1, 2, 3, 4, 5, 6])"
      ]
     },
     "execution_count": 34,
     "metadata": {},
     "output_type": "execute_result"
    }
   ],
   "source": [
    "\n",
    "iterable=[1, 2, 3, 4, 5, 6]\n",
    "\n",
    "arr = np.fromiter(my_iterable, dtype=int)\n",
    "\n",
    "arr\n"
   ]
  },
  {
   "cell_type": "code",
   "execution_count": 35,
   "id": "c086be9a-ec35-47c7-b29d-05cc24a54f5a",
   "metadata": {},
   "outputs": [
    {
     "data": {
      "text/plain": [
       "numpy.ndarray"
      ]
     },
     "execution_count": 35,
     "metadata": {},
     "output_type": "execute_result"
    }
   ],
   "source": [
    "\n",
    "type(arr)\n"
   ]
  },
  {
   "cell_type": "markdown",
   "id": "0730837c-acc0-4601-b2f6-e99a91827a95",
   "metadata": {},
   "source": [
    "<br>\n",
    "\n",
    "<code style=\"background-color: black; color: white;\">Example - 2</code>"
   ]
  },
  {
   "cell_type": "code",
   "execution_count": 37,
   "id": "94ce8d09-9e29-4df9-9870-9fe9efde2a56",
   "metadata": {},
   "outputs": [
    {
     "name": "stdout",
     "output_type": "stream",
     "text": [
      "[ 0  1  8 27]\n"
     ]
    }
   ],
   "source": [
    "\n",
    "iterable = (x*x*x for x in range(4))\n",
    "\n",
    "arr = np.fromiter(iterable, int)\n",
    "\n",
    "print (arr)\n"
   ]
  },
  {
   "cell_type": "markdown",
   "id": "950a2b5b-66f6-486b-acb5-59bf94d4fc1b",
   "metadata": {},
   "source": [
    "<br>\n",
    "\n",
    "<span style=\"color: #06fff0; font-size: 0.7rem;\">■■■■■■■■■■■■■■■■■■■■■■■■■■■■■■■■■■■■■■■■■■■■■■■■■■■■■■■■■■■■■■■■■■■■■■■■■■■■■■■■■■■■■■■■■■■■■■■■■■■■■■■■■■■■■■■</span>\n",
    "\n",
    "<br>\n",
    "\n",
    "<span style=\"background-color: blue; color: white; padding:2px;\">&nbsp;&nbsp;Note :&nbsp;&nbsp;</span>&nbsp;&nbsp;&nbsp;&nbsp;<span style=\"color: blue;\">How to copy the content of one array into another?</span>\n",
    "\n",
    "<code style=\"margin-left: 120px; background-color: #faf300;\">numpy.<span style=\"color: red;\">copyto(</span>dst, src, casting='same_kind', where=True<span style=\"color: red;\">)</span></code>\n",
    "\n",
    "<span style=\"margin-left: 170px;\">↳ &nbsp;Copies values from one array to another, with broadcasting if necessary.</span>\n",
    "\n",
    "<span style=\"margin-left: 170px;\">↳ &nbsp;Raises a TypeError if the casting rule is violated, and if where is provided, it selects which elements to copy.</span>\n",
    "\n",
    "<div style=\"display: flex; margin-left: 170px;\">\n",
    "\n",
    "<div>↳</div>\n",
    "\n",
    "<div>&nbsp;&nbsp;<strong><u>where</u></strong>&nbsp;&nbsp;&nbsp;:&nbsp;&nbsp;&nbsp; </div>\n",
    "\n",
    "<div>array_like of boolean value, (optional). <br>A boolean array which is broadcasted to match the dimensions of <code>dst</code> , and selects elements to copy from <code>src</code> to <code>dst</code> wherever it contains the value True.</div>\n",
    "\n",
    "</div>\n"
   ]
  },
  {
   "cell_type": "code",
   "execution_count": 50,
   "id": "1af1ba1d-d427-4f2d-a1ef-6323d7618985",
   "metadata": {},
   "outputs": [
    {
     "name": "stdout",
     "output_type": "stream",
     "text": [
      "[1 2 3]\n"
     ]
    }
   ],
   "source": [
    "\n",
    "A = np.array([4, 5, 6])\n",
    "B = [1, 2, 3]\n",
    "\n",
    "np.copyto(A, B)\n",
    "print(A)\n"
   ]
  },
  {
   "cell_type": "code",
   "execution_count": 51,
   "id": "31821019-0798-4ca9-a64c-0f502e82e6ae",
   "metadata": {},
   "outputs": [
    {
     "name": "stdout",
     "output_type": "stream",
     "text": [
      "[[4 5 6]\n",
      " [7 8 9]]\n"
     ]
    }
   ],
   "source": [
    "\n",
    "A = np.array([[1, 2, 3], [4, 5, 6]])\n",
    "B = [[4, 5, 6], [7, 8, 9]]\n",
    "\n",
    "np.copyto(A, B)\n",
    "print(A)\n"
   ]
  },
  {
   "cell_type": "markdown",
   "id": "63f7d57a-2b2e-488c-8a6c-9d63bde16dda",
   "metadata": {},
   "source": [
    "<br>\n",
    "\n",
    "<span style=\"color: #06fff0; font-size: 0.7rem;\">■■■■■■■■■■■■■■■■■■■■■■■■■■■■■■■■■■■■■■■■■■■■■■■■■■■■■■■■■■■■■■■■■■■■■■■■■■■■■■■■■■■■■■■■■■■■■■■■■■■■■■■■■■■■■■■</span>\n",
    "\n",
    "<br>"
   ]
  },
  {
   "cell_type": "markdown",
   "id": "7f8236a9-f809-4d29-ad26-93676d3c03ee",
   "metadata": {},
   "source": [
    "<span style=\"font-size: 1.1rem;\">**Data &nbsp;Types &nbsp;for &nbsp;ndarrays**</span>"
   ]
  },
  {
   "cell_type": "markdown",
   "id": "d2486c7a-76cf-4a0f-9a3c-9695c6907796",
   "metadata": {},
   "source": [
    "The data type or &nbsp;<code style=\"color:red;\">dtype</code>&nbsp; is a special object containing the information (or metadata, data about data) the ndarray needs to interpret a chunk of memory as a particular type of data:\n"
   ]
  },
  {
   "cell_type": "code",
   "execution_count": 4,
   "id": "db874180-89f5-46b4-812e-21138ba9ba1b",
   "metadata": {},
   "outputs": [],
   "source": [
    "\n",
    "arr1 = np.array([1, 2, 3], dtype=np.float64)\n",
    "\n",
    "arr2 = np.array([1, 2, 3], dtype=np.int32)\n"
   ]
  },
  {
   "cell_type": "code",
   "execution_count": 5,
   "id": "03b7ae25-e8da-4db1-9d24-c6f8161c7ff1",
   "metadata": {},
   "outputs": [
    {
     "data": {
      "text/plain": [
       "dtype('float64')"
      ]
     },
     "execution_count": 5,
     "metadata": {},
     "output_type": "execute_result"
    }
   ],
   "source": [
    "\n",
    "arr1.dtype\n"
   ]
  },
  {
   "cell_type": "code",
   "execution_count": 7,
   "id": "5e00fa47-b4ac-473f-9e5c-8228d058bd62",
   "metadata": {},
   "outputs": [
    {
     "data": {
      "text/plain": [
       "dtype('int32')"
      ]
     },
     "execution_count": 7,
     "metadata": {},
     "output_type": "execute_result"
    }
   ],
   "source": [
    "\n",
    "arr2.dtype\n"
   ]
  },
  {
   "cell_type": "markdown",
   "id": "1279936c-46ec-4feb-ba46-7d9f362f2080",
   "metadata": {},
   "source": [
    "<br>\n",
    "\n",
    "You can explicitly convert or cast an array from one data type to another using ndarray’s &nbsp;<code style=\"color: red;\">astype</code>&nbsp; method :\n"
   ]
  },
  {
   "cell_type": "code",
   "execution_count": 12,
   "id": "b8d69d67-876c-44f1-bb43-2f5df2de37ba",
   "metadata": {},
   "outputs": [
    {
     "name": "stdout",
     "output_type": "stream",
     "text": [
      "int32\n",
      "[1. 2. 3. 4. 5.]\n",
      "float64\n"
     ]
    }
   ],
   "source": [
    "\n",
    "arr = np.array([1, 2, 3, 4, 5])\n",
    "print(arr.dtype)                               # int32\n",
    "\n",
    "float_arr = arr.astype(np.float64)\n",
    "print(float_arr)                               # [1. 2. 3. 4. 5.]\n",
    "print(float_arr.dtype)                         # float64\n"
   ]
  },
  {
   "cell_type": "code",
   "execution_count": 13,
   "id": "afc969a6-f174-4e19-9043-bb7e4c8f5ad7",
   "metadata": {},
   "outputs": [
    {
     "name": "stdout",
     "output_type": "stream",
     "text": [
      "[ 3.7 -1.2 -2.6  0.5 12.9 10.1]\n",
      "[ 3 -1 -2  0 12 10]\n"
     ]
    }
   ],
   "source": [
    "\n",
    "arr = np.array([3.7, -1.2, -2.6, 0.5, 12.9, 10.1])\n",
    "print(arr)\n",
    "print(arr.astype(np.int32))                              # floating-point number  ====>  integer data type\n",
    "                                                         # the decimal part is truncated\n"
   ]
  },
  {
   "cell_type": "code",
   "execution_count": 14,
   "id": "8f418a17-834a-48bc-8c53-e0b62b9dcf3a",
   "metadata": {},
   "outputs": [
    {
     "name": "stdout",
     "output_type": "stream",
     "text": [
      "[ 1.25 -9.6  42.  ]\n"
     ]
    }
   ],
   "source": [
    "\n",
    "numeric_strings = np.array([\"1.25\", \"-9.6\", \"42\"], dtype=np.string_)\n",
    "print(numeric_strings.astype(float))\n"
   ]
  },
  {
   "cell_type": "markdown",
   "id": "15f33ef1-feca-417e-bce4-c76bdb8e77e0",
   "metadata": {},
   "source": [
    "<br>\n",
    "\n",
    "<span style=\"color: #06fff0; font-size: 0.7rem;\">■■■■■■■■■■■■■■■■■■■■■■■■■■■■■■■■■■■■■■■■■■■■■■■■■■■■■■■■■■■■■■■■■■■■■■■■■■■■■■■■■■■■■■■■■■■■■■■■■■■■■■■■■■■■■■■</span>\n",
    "\n",
    "<br>\n",
    "\n",
    "Now let's see some important <u>numpy methods</u> around **array manipulation** &nbsp;&nbsp;&nbsp;===>&nbsp;&nbsp;&nbsp; https://numpy.org/doc/stable/reference/routines.array-manipulation.html"
   ]
  },
  {
   "cell_type": "markdown",
   "id": "bf6f6b29-5eaa-4735-9def-fa6b532f7634",
   "metadata": {},
   "source": [
    "<br><br>\n",
    "\n",
    "## Array &nbsp;<strong>Indexing</strong> &nbsp;& &nbsp;<strong>Slicing</strong>"
   ]
  },
  {
   "cell_type": "markdown",
   "id": "5c9490a0-08b5-428a-8ae2-f71b985030a6",
   "metadata": {},
   "source": [
    "<br>\n",
    "\n",
    "### <div style=\"color: white; background-color: #af87ff; padding: 5px;\"> <code style=\"font-size: 1.2rem; background-color: #af87ff; color: white;\"><strong>Numpy Array Indexing</strong></code> </div>\n"
   ]
  },
  {
   "cell_type": "markdown",
   "id": "1ed5c477-1d14-40a6-8082-31e6c971c987",
   "metadata": {},
   "source": [
    "\n",
    "- Like a **list**, you can use the square bracket notation (&nbsp;<code style=\"color: red;\">[]</code>&nbsp;) to access elements of a numpy array.\n",
    "\n",
    "- Use zero and positive indexes to start selecting from the beginning of the array.\n",
    "\n",
    "- Use <u>negative indexes</u> to start selecting from the <u>end of the array</u>.\n",
    "\n",
    "<br>\n",
    "\n",
    "<u>**NumPy &nbsp;array &nbsp;indexing &nbsp;on &nbsp;1-D &nbsp;arrays**</u>\n",
    "\n",
    "<br>\n",
    "\n",
    "<div style=\"margin-left: 140px;\">\n",
    "\n",
    "![](../media/numpy_04.PNG)\n",
    "\n",
    "</div>"
   ]
  },
  {
   "cell_type": "code",
   "execution_count": 70,
   "id": "c4accc5e-3124-4eb6-b5e3-904039b34fb8",
   "metadata": {},
   "outputs": [
    {
     "name": "stdout",
     "output_type": "stream",
     "text": [
      "[0 1 2 3 4]\n",
      "(5,)\n",
      "0\n",
      "1\n",
      "4\n"
     ]
    }
   ],
   "source": [
    "\n",
    "a = np.arange(0, 5)\n",
    "print(a)                      # [0 1 2 3 4]\n",
    "print(a.shape)                # shape   =   (axis-0, )   =   (columns)   =   (5, )\n",
    "\n",
    "print(a[0])                   # 0    --------->    the first element\n",
    "print(a[1])                   # 1    --------->    the second element\n",
    "print(a[-1])                  # 4    --------->    the last element\n"
   ]
  },
  {
   "cell_type": "markdown",
   "id": "eb92497e-995c-4ef1-bf3d-f1d4079854eb",
   "metadata": {},
   "source": [
    "<br>\n",
    "\n",
    "<u>**NumPy &nbsp;array &nbsp;indexing &nbsp;on &nbsp;2-D &nbsp;arrays**</u>\n",
    "\n",
    "<br>\n",
    "\n",
    "<div style=\"margin-left: 100px;\">\n",
    "\n",
    "![](../media/numpy_05.PNG)\n",
    "\n",
    "</div>"
   ]
  },
  {
   "cell_type": "code",
   "execution_count": 65,
   "id": "7e677732-858e-4319-9207-b6af186b408b",
   "metadata": {},
   "outputs": [
    {
     "name": "stdout",
     "output_type": "stream",
     "text": [
      "(2, 3)\n",
      "[1 2 3]\n",
      "[4 5 6]\n",
      "1\n",
      "4\n",
      "3\n",
      "6\n",
      "3\n",
      "6\n"
     ]
    }
   ],
   "source": [
    "\n",
    "a = np.array([\n",
    "    [1, 2, 3],\n",
    "    [4, 5, 6]\n",
    "])\n",
    "\n",
    "print(a.shape)                # shape   =   (axis-2, axis-1, axis-0)   =   (layers, rows, columns)   =   (2, 3)\n",
    "\n",
    "\n",
    "print(a[0])                   # [1 2 3]\n",
    "print(a[1])                   # [4 5 6]\n",
    "\n",
    "print(a[0, 0])                # 1\n",
    "print(a[1, 0])                # 4\n",
    "print(a[0, 2])                # 3\n",
    "print(a[1, 2])                # 6\n",
    "print(a[0, -1])               # 3\n",
    "print(a[1, -1])               # 6\n"
   ]
  },
  {
   "cell_type": "markdown",
   "id": "e994204e-862e-478d-ac13-5fb0d0f90ef3",
   "metadata": {},
   "source": [
    "<br>\n",
    "\n",
    "<u>**NumPy &nbsp;array &nbsp;indexing &nbsp;on &nbsp;3-D &nbsp;arrays**</u>\n",
    "\n",
    "<br>\n",
    "\n",
    "<div style=\"margin-left: 100px;\">\n",
    "\n",
    "![](../media/numpy_06.PNG)\n",
    "\n",
    "</div>"
   ]
  },
  {
   "cell_type": "code",
   "execution_count": 73,
   "id": "883fe0ac-8b8f-473f-928b-6fd100932ad5",
   "metadata": {},
   "outputs": [
    {
     "name": "stdout",
     "output_type": "stream",
     "text": [
      "(2, 3, 2)\n"
     ]
    }
   ],
   "source": [
    "\n",
    "a = np.array([\n",
    "    [[1, 2], [3, 4], [5, 6]],\n",
    "    [[5, 6], [7, 8], [9, 10]],\n",
    "])\n",
    "\n",
    "print(a.shape)                       # shape   =   (axis-2, axis-1, axis-0)   =   (layers, rows, columns)   =   (2, 3, 2)\n"
   ]
  },
  {
   "cell_type": "code",
   "execution_count": 84,
   "id": "9f4b011b-1e49-4b58-bdde-df639f9ad8da",
   "metadata": {},
   "outputs": [
    {
     "name": "stdout",
     "output_type": "stream",
     "text": [
      "[[1 2]\n",
      " [3 4]\n",
      " [5 6]]\n"
     ]
    }
   ],
   "source": [
    "\n",
    "print(a[0])                          # [[1, 2], [3, 4], [5, 6]]\n"
   ]
  },
  {
   "cell_type": "code",
   "execution_count": 78,
   "id": "cf09491f-b44b-4098-affe-4fafc79f4322",
   "metadata": {},
   "outputs": [
    {
     "name": "stdout",
     "output_type": "stream",
     "text": [
      "[1 2]\n"
     ]
    }
   ],
   "source": [
    "\n",
    "print(a[0,0])                        # [1, 2]\n"
   ]
  },
  {
   "cell_type": "code",
   "execution_count": 82,
   "id": "35cfb94d-b39b-40b8-8dd5-505fbdcc9425",
   "metadata": {},
   "outputs": [
    {
     "name": "stdout",
     "output_type": "stream",
     "text": [
      "2\n"
     ]
    }
   ],
   "source": [
    "\n",
    "print(a[0,0,1])                      # 2\n"
   ]
  },
  {
   "cell_type": "markdown",
   "id": "4bec5b36-5eaa-4959-82b5-2381c8944ad4",
   "metadata": {},
   "source": [
    "<br>\n",
    "\n",
    "### <div style=\"color: white; background-color: #af87ff; padding: 5px;\"> <code style=\"font-size: 1.2rem; background-color: #af87ff; color: white;\"><strong>Numpy Array Slicing</strong></code> </div>\n"
   ]
  },
  {
   "cell_type": "markdown",
   "id": "c226b044-02a1-42b5-bfeb-aa7c1dcb7cd8",
   "metadata": {},
   "source": [
    "\n",
    "Slicing is to extract one or more elements from a numpy array.\n",
    "\n",
    "NumPy arrays use brackets &nbsp;<code style=\"background-color: yellow;\">[]</code>&nbsp; and &nbsp;<code style=\"background-color: yellow;\">:</code>&nbsp; notations for slicing like lists.\n",
    "\n",
    "<br>\n",
    "\n",
    "<span style=\"color: #06fff0; font-size: 0.7rem;\">■■■■■■■■■■■■■■■■■■■■■■■■■■■■■■■■■■■■■■■■■■■■■■■■■■■■■■■■■■■■■■■■■■■■■■■■■■■■■■■■■■■■■■■■■■■■■■■■■■■■■■■■■■■■■■■</span>\n",
    "\n",
    "<br>\n",
    "\n",
    "<code style=\"background-color: #6e07dc; color: white; padding: 6px;\">&nbsp;Numpy array slicing on one-dimensional arrays&nbsp; :&nbsp;</code>\n",
    "\n",
    "<br>\n",
    "\n",
    "<code style=\"background-color: #f9dc10;\">arr[start:stop:step]</code>\n",
    "\n",
    "<br>\n",
    "\n",
    "| Slicing Expression | Meaning |\n",
    "|--------------------|---------|\n",
    "| <code style=\"background-color: yellow;\">arr[m:n]</code> &nbsp;&nbsp;&nbsp;&nbsp;&nbsp;&nbsp;&nbsp;&nbsp;           | Select elements with an index starting at <span style=\"color: red;\">m</span> and ending at <span style=\"color: red;\">n-1</span> |\n",
    "| <code style=\"background-color: yellow;\">arr[:]</code> &nbsp;&nbsp;&nbsp;or&nbsp;&nbsp;&nbsp; <code style=\"background-color: yellow;\">a[0:-1]</code> | Select all elements in a given axis |\n",
    "| <code style=\"background-color: yellow;\">arr[:n]</code>\t| Select elements starting with index <span style=\"color: red;\">0</span> and up to element with index <span style=\"color: red;\">n-1</span> |\n",
    "| <code style=\"background-color: yellow;\">arr[m:]</code> | Select elements starting with index <span style=\"color: red;\">m</span> and up to the <span style=\"color: red;\">last element</span> |\n",
    "| <code style=\"background-color: yellow;\">arr[m:-1]</code> | Select elements starting with index <span style=\"color: red;\">m</span> and up to the <span style=\"color: red;\">second last element</span> |\n",
    "| <code style=\"background-color: yellow;\">arr[m:n:k]</code> | Select elements with index m through n (exclusive), with an increment k |\n",
    "| <code style=\"background-color: yellow;\">arr[::-1]</code> | Select all elements in reverse order |"
   ]
  },
  {
   "cell_type": "markdown",
   "id": "13a83b28-36fa-4d5a-b906-9b77bb5d8768",
   "metadata": {},
   "source": [
    "<br>\n",
    "\n",
    "<span style=\"color: red;\">Positive &nbsp;Slicing</span>"
   ]
  },
  {
   "cell_type": "code",
   "execution_count": 39,
   "id": "48070e22-1d02-47f6-9c01-c5cd5751324f",
   "metadata": {},
   "outputs": [
    {
     "name": "stdout",
     "output_type": "stream",
     "text": [
      "[0 1 2 3 4 5 6 7 8 9]\n",
      "[2 3 4]\n",
      "[0 2 4]\n",
      "[0 1 2 3 4 5 6 7 8 9]\n",
      "[0 1 2]\n",
      "[7 8 9]\n",
      "[2 3 4 5 6 7 8 9]\n",
      "[0 1 2 3 4 5 6 7 8]\n",
      "[5 6 7 8]\n"
     ]
    }
   ],
   "source": [
    "\n",
    "a = np.arange(0, 10)\n",
    "\n",
    "print(a)                       #  [0 1 2 3 4 5 6 7 8 9]\n",
    "     \n",
    "print(a[2:5])                  #  [2 3 4]\n",
    "\n",
    "print(a[0:5:2])                #  [0 2 4]\n",
    "\n",
    "print(a[:])                    #  [0 1 2 3 4 5 6 7 8 9]\n",
    "      \n",
    "print(a[:3])                   #  [0 1 2]\n",
    "\n",
    "print(a[-3:])                  #  [7 8 9]\n",
    "\n",
    "print(a[2:])                   #  [2 3 4 5 6 7 8 9]\n",
    "\n",
    "print(a[0:-1])                 #  [0 1 2 3 4 5 6 7 8]\n",
    "\n",
    "print(a[5:-1])                 #  [5 6 7 8]\n"
   ]
  },
  {
   "cell_type": "markdown",
   "id": "0f7404bc-ef10-4f31-a60c-9b088e1da45e",
   "metadata": {},
   "source": [
    "<br>\n",
    "\n",
    "<span style=\"color: red;\">Negative &nbsp;Slicing</span>"
   ]
  },
  {
   "cell_type": "code",
   "execution_count": 41,
   "id": "067d55fe-5a41-4b26-bd61-457d6717d371",
   "metadata": {},
   "outputs": [
    {
     "name": "stdout",
     "output_type": "stream",
     "text": [
      "[0 1 2 3 4 5 6 7 8 9]\n",
      "[9 8 7 6 5 4 3 2 1 0]\n",
      "[7 6 5]\n",
      "[]\n",
      "[]\n",
      "[50 40 30 20 10]\n"
     ]
    }
   ],
   "source": [
    "\n",
    "print(a)                         #  [0 1 2 3 4 5 6 7 8 9]\n",
    "\n",
    "print(a[::-1])                   #  [9 8 7 6 5 4 3 2 1 0]\n",
    "\n",
    "print(a[-3:-6:-1])               #  [7 6 5]\n",
    "\n",
    "print(arr[-6:-3:-1])             #  []\n",
    "\n",
    "print(arr[-8:-3:-1])             #  []\n",
    "\n",
    "print(arr[-3::-1])               #  [50 40 30 20 10]\n"
   ]
  },
  {
   "cell_type": "markdown",
   "id": "741d57f3-7291-4b09-bad2-df10b8ab62f2",
   "metadata": {},
   "source": [
    "<br>\n",
    "\n",
    "<span style=\"color: #a245ff;\">Let's consider another example and dive deep into this :</span> "
   ]
  },
  {
   "cell_type": "code",
   "execution_count": 34,
   "id": "9d715ebf-087f-45bd-a73f-0dbd82177296",
   "metadata": {},
   "outputs": [
    {
     "data": {
      "text/plain": [
       "array([0, 1, 2, 3, 4, 5, 6, 7, 8, 9])"
      ]
     },
     "execution_count": 34,
     "metadata": {},
     "output_type": "execute_result"
    }
   ],
   "source": [
    "\n",
    "arr = np.arange(10)\n",
    "arr\n"
   ]
  },
  {
   "cell_type": "code",
   "execution_count": 35,
   "id": "bf176fde-3ee8-4da0-a7a3-5db4e0f8d9eb",
   "metadata": {},
   "outputs": [
    {
     "data": {
      "text/plain": [
       "5"
      ]
     },
     "execution_count": 35,
     "metadata": {},
     "output_type": "execute_result"
    }
   ],
   "source": [
    "\n",
    "arr[5]\n"
   ]
  },
  {
   "cell_type": "code",
   "execution_count": 36,
   "id": "52750174-6209-4a40-82fa-c8873df8d085",
   "metadata": {},
   "outputs": [
    {
     "data": {
      "text/plain": [
       "array([5, 6, 7])"
      ]
     },
     "execution_count": 36,
     "metadata": {},
     "output_type": "execute_result"
    }
   ],
   "source": [
    "\n",
    "arr_slice = arr[5:8]\n",
    "arr_slice\n"
   ]
  },
  {
   "cell_type": "code",
   "execution_count": 37,
   "id": "14fbbcd6-8539-4e76-8f0e-ed24b42cc5fe",
   "metadata": {},
   "outputs": [
    {
     "data": {
      "text/plain": [
       "array([ 0,  1,  2,  3,  4, 12, 12, 12,  8,  9])"
      ]
     },
     "execution_count": 37,
     "metadata": {},
     "output_type": "execute_result"
    }
   ],
   "source": [
    "\n",
    "arr[5:8] = 12            # Assigns a sclar 12 to a slice\n",
    "arr\n"
   ]
  },
  {
   "cell_type": "markdown",
   "id": "a5ae2aa3-fff6-460e-b17a-541df9665381",
   "metadata": {},
   "source": [
    "<br>\n",
    "\n",
    "<span style=\"font-size: 1.5rem;\">⭐</span> &nbsp;As you can see, if you assign a **scalar value** to a <span style=\"color: red;\">slice</span>, as in &nbsp;<code>arr[5:8] = 12</code>&nbsp;, the value is propagated (or &nbsp;<span style=\"background-color: #f9dc10;\">&nbsp;broadcast&nbsp;</span>&nbsp; henceforth) to the <u>entire selection</u>.\n",
    "\n",
    "<br>\n",
    "\n",
    "<div style=\"display: flex;\">\n",
    "<div><span style=\"font-size: 1.5rem;\">⭐&nbsp;&nbsp;</span></div>\n",
    "<div> An important first distinction from <u>Python's built-in <span style=\"color: red;\">lists</span></u> is that <u>numpy array <span style=\"color: red;\">slices</span></u> are <span style=\"color: blue;\"><strong>views</strong></span> on the original array. &nbsp;<span style=\"color: blue;\">This means that the data is not copied, and any modifications to the view will be reflected in the source array.</span></div>\n",
    "</div>\n",
    "\n",
    "<br>"
   ]
  },
  {
   "cell_type": "code",
   "execution_count": 38,
   "id": "31cd1aaf-c05e-4b86-b788-9c73ee13b106",
   "metadata": {},
   "outputs": [
    {
     "data": {
      "text/plain": [
       "array([12, 12, 12])"
      ]
     },
     "execution_count": 38,
     "metadata": {},
     "output_type": "execute_result"
    }
   ],
   "source": [
    "\n",
    "arr_slice = arr[5:8]\n",
    "arr_slice\n"
   ]
  },
  {
   "cell_type": "markdown",
   "id": "81d07df9-6424-4b93-b751-73eebe0631a6",
   "metadata": {},
   "source": [
    "\n",
    "<span style=\"color:  #a245ff;\">Now, when I change values in &nbsp;<code>arr_slice</code> , the mutations are reflected in the original array &nbsp;<code>arr</code> &nbsp;:</span>\n"
   ]
  },
  {
   "cell_type": "code",
   "execution_count": 39,
   "id": "af16ebaa-6ef2-4a3b-b5c0-4206e66b55cf",
   "metadata": {},
   "outputs": [
    {
     "data": {
      "text/plain": [
       "array([    0,     1,     2,     3,     4,    12, 12345,    12,     8,\n",
       "           9])"
      ]
     },
     "execution_count": 39,
     "metadata": {},
     "output_type": "execute_result"
    }
   ],
   "source": [
    "\n",
    "arr_slice[1] = 12345\n",
    "arr                           # 12345 is reflected in the original array \"arr\"\n"
   ]
  },
  {
   "cell_type": "markdown",
   "id": "aba6898e-54c3-4004-91bb-40d8f382dd01",
   "metadata": {},
   "source": [
    "\n",
    "<span style=\"font-size: 1.5rem;\">⭐</span> &nbsp;The \"bare\" slice &nbsp;<code style=\"background-color: yellow;\">[:]</code>&nbsp; will assign <u>to all values in an array</u> :\n"
   ]
  },
  {
   "cell_type": "code",
   "execution_count": 40,
   "id": "a94b3472-73c9-43a0-b72a-08bf4c723974",
   "metadata": {},
   "outputs": [
    {
     "data": {
      "text/plain": [
       "array([   12, 12345,    12])"
      ]
     },
     "execution_count": 40,
     "metadata": {},
     "output_type": "execute_result"
    }
   ],
   "source": [
    "\n",
    "arr_slice\n"
   ]
  },
  {
   "cell_type": "code",
   "execution_count": 41,
   "id": "cc761e22-a2f8-4d32-8980-b1ca41425cce",
   "metadata": {},
   "outputs": [
    {
     "data": {
      "text/plain": [
       "array([ 0,  1,  2,  3,  4, 64, 64, 64,  8,  9])"
      ]
     },
     "execution_count": 41,
     "metadata": {},
     "output_type": "execute_result"
    }
   ],
   "source": [
    "\n",
    "arr_slice[:] = 64             # assigns the sclar 64 to all values in the \"arr_slice\" \n",
    "arr                           # it is reflected in the original array \"arr\"\n"
   ]
  },
  {
   "cell_type": "markdown",
   "id": "370e8bb9-abf2-45e3-a09c-553a48896247",
   "metadata": {},
   "source": [
    "\n",
    "<div style=\"display: flex;\">\n",
    "<div><span style=\"font-size: 1.5rem;\">⭐&nbsp;&nbsp;</span></div>\n",
    "<div>If you want a copy of a slice of an ndarray instead of a view, you will need to explicitly copy the array — for example, &nbsp;<code style=\"padding: 3px;\">arr[5:8].<span style=\"color: red;\">copy()</span></code>&nbsp; <br>As you will see, pandas works this way, too.</div>\n",
    "</div>\n",
    "\n",
    "<br>\n",
    "\n",
    "<br>\n",
    "\n",
    "<span style=\"color: #06fff0; font-size: 0.7rem;\">■■■■■■■■■■■■■■■■■■■■■■■■■■■■■■■■■■■■■■■■■■■■■■■■■■■■■■■■■■■■■■■■■■■■■■■■■■■■■■■■■■■■■■■■■■■■■■■■■■■■■■■■■■■■■■■</span>\n",
    "\n",
    "<br>\n",
    "\n",
    "<br>\n",
    "\n",
    "<code style=\"background-color: #6e07dc; color: white; padding: 4px;\">&nbsp;Numpy array slicing on multidimensional arrays&nbsp;:</code>\n",
    "\n",
    "\n",
    "To slice a multidimensional array, you apply the square brackets &nbsp;<code style=\"background-color: yellow;\">[]</code>&nbsp; and the &nbsp;<code style=\"background-color: yellow;\">:</code>&nbsp; notation <u>to each dimension (or axis)</u>. &nbsp;The slice returns a reduced array where each element matches the selection rules.\n",
    "\n",
    "<span style=\"color: blue;\">===> &nbsp;**1D array slicing**</span> &nbsp;&nbsp;===>&nbsp;&nbsp;&nbsp;<code style=\"color: red; background-color: #fff4c5;\">arr[m:n:p]</code>&nbsp;\n",
    "\n",
    "<span style=\"color: blue;\">===> &nbsp;Multi Dimensional array slicing</span> &nbsp;&nbsp;===>&nbsp;&nbsp;&nbsp;<code style=\"color: red; background-color: #fff4c5;\">arr[m:n:p, i:j:k, ...]</code>\n",
    "\n",
    "<span style=\"margin-left: 80px;\">For example, <span style=\"color: blue;\">**3D array slicing :**</span></span> &nbsp;<span style=\"color: black\"><font size=\"+1\">↴</font>&nbsp;</span>\n",
    "\n",
    "<code style=\"padding: 9px; font-size: 0.8rem; margin-left: 80px; background-color: #fff4c5;\">arr[ <code style=\"background-color: #f9dc10; padding:1px;\">start_depth_index : stop_row_index : step</code> , <code style=\"background-color: #f9dc10; padding:1px;\">start_row_index : stop_row_index : step</code> , <code style=\"background-color: #f9dc10; padding:1px;\">start_column_index : stop_column_index : step</code> ]</code>\n",
    "\n",
    "<br><br>\n",
    "\n",
    "<code style=\"background-color: black; color: white;\">Example - 1</code>\n"
   ]
  },
  {
   "cell_type": "code",
   "execution_count": 42,
   "id": "46c35a2e-70a3-4327-8f91-4767f61a240c",
   "metadata": {},
   "outputs": [
    {
     "name": "stdout",
     "output_type": "stream",
     "text": [
      "[[1 2 3]\n",
      " [4 5 6]]\n"
     ]
    }
   ],
   "source": [
    "\n",
    "a = np.array([\n",
    "    [1, 2, 3],\n",
    "    [4, 5, 6],\n",
    "    [7, 8, 9]\n",
    "])                                # 2D array\n",
    "\n",
    "print(a[0:2, :])                  # Slice rows from index 0 to 2 (excluding 2) and columns from index 0 to the last index\n"
   ]
  },
  {
   "cell_type": "markdown",
   "id": "cbd87862-3b5c-4e8e-9377-bedc6d8e6a7e",
   "metadata": {},
   "source": [
    "\n",
    "<div style=\"margin-left: 160px;\">\n",
    "\n",
    "![](../media/numpy_07.PNG)\n",
    "\n",
    "</div>\n",
    "\n",
    "<span style=\"color:  #a245ff;\">In the expression &nbsp;<code style=\"background-color: #f6c5ff;\">a[0:2, :]</code> &nbsp;<span style=\"color: black\"><font size=\"+2\">↴</font>&nbsp;</span></span>\n",
    "\n",
    "<span style=\"font-size: 0.7rem; color: black; margin-left: 30px;\">■</span> &nbsp;<span style=\"color:  #a245ff;\">First, the &nbsp;<code style=\"background-color: #f6c5ff;\">0:2</code>&nbsp; selects the element at index 0 and 1, not 2 that returns :</span>\n"
   ]
  },
  {
   "cell_type": "code",
   "execution_count": 72,
   "id": "827d7c1b-0ad3-4fdb-a17c-a9f6fe529e4c",
   "metadata": {},
   "outputs": [
    {
     "name": "stdout",
     "output_type": "stream",
     "text": [
      "[1 2 3]\n",
      "[4 5 6]\n"
     ]
    }
   ],
   "source": [
    "\n",
    "print(a[0])\n",
    "print(a[1])\n"
   ]
  },
  {
   "cell_type": "markdown",
   "id": "e03f6443-f689-4f4d-b5ad-52b9515f554b",
   "metadata": {},
   "source": [
    "<br>\n",
    "\n",
    "<div style=\"display: flex;\">\n",
    "\n",
    "<span style=\"font-size: 0.7rem; color: black; margin-left: 30px;\">■</span> &nbsp; <span style=\"color:  #a245ff;\">Then, the &nbsp;<code style=\"background-color: #f6c5ff;\"> : </code>&nbsp; select all elements. &nbsp;Therefore the whole expression returns :</span>\n"
   ]
  },
  {
   "cell_type": "code",
   "execution_count": 73,
   "id": "db8ba8cf-ebb2-4a2a-9f91-0e2d273376af",
   "metadata": {},
   "outputs": [
    {
     "name": "stdout",
     "output_type": "stream",
     "text": [
      "[1 2 3]\n",
      "[4 5 6]\n"
     ]
    }
   ],
   "source": [
    "\n",
    "print(a[0][:])\n",
    "print(a[1][:])\n"
   ]
  },
  {
   "cell_type": "markdown",
   "id": "c830c02b-b91a-4fc6-87af-cd658fb7681e",
   "metadata": {},
   "source": [
    "<br>\n",
    "\n",
    "<code style=\"background-color: black; color: white;\">Example - 2</code>\n"
   ]
  },
  {
   "cell_type": "code",
   "execution_count": 44,
   "id": "44fcf90e-7e5a-4312-9a29-08af279176ea",
   "metadata": {},
   "outputs": [
    {
     "name": "stdout",
     "output_type": "stream",
     "text": [
      "[[5 6]\n",
      " [8 9]]\n"
     ]
    }
   ],
   "source": [
    "\n",
    "a = np.array([\n",
    "    [1, 2, 3],\n",
    "    [4, 5, 6],\n",
    "    [7, 8, 9]\n",
    "])                                # 2D array                     \n",
    "\n",
    "print(a[1:, 1:])                  # Slice rows from index 1 to the last index and columns from the index 1 to the last index\n"
   ]
  },
  {
   "cell_type": "markdown",
   "id": "2d6ee1ca-9de1-49ed-be4f-52c40dd81f1d",
   "metadata": {},
   "source": [
    "\n",
    "<div style=\"margin-left: 160px;\">\n",
    "\n",
    "![](../media/numpy_08.PNG)\n",
    "\n",
    "</div>\n",
    "\n",
    "<span style=\"color:  #a245ff;\">In the expression &nbsp;<code style=\"background-color: #f6c5ff;\">a[1:, 1:]</code> &nbsp;<span style=\"color: black\"><font size=\"+2\">↴</font>&nbsp;</span></span>\n",
    "\n",
    "<span style=\"font-size: 0.7rem; color: black; margin-left: 30px;\">■</span> &nbsp;<span style=\"color:  #a245ff;\">First, &nbsp;<code style=\"background-color: #f6c5ff;\"> 1: </code>&nbsp; selects the elements starting at index 1 to the last element of the first axis (or row), which returns :</span>"
   ]
  },
  {
   "cell_type": "code",
   "execution_count": 64,
   "id": "1944a4c7-1e4c-4aea-bd19-c0c1c0525802",
   "metadata": {},
   "outputs": [
    {
     "name": "stdout",
     "output_type": "stream",
     "text": [
      "[4 5 6]\n",
      "[7 8 9]\n"
     ]
    }
   ],
   "source": [
    "\n",
    "print(a[1])\n",
    "print(a[2])\n"
   ]
  },
  {
   "cell_type": "markdown",
   "id": "173d6b63-99e5-4c5c-a552-a684f5b20e0d",
   "metadata": {},
   "source": [
    "<br>\n",
    "\n",
    "<span style=\"font-size: 0.7rem; color: black; margin-left: 30px;\">■</span> &nbsp;<span style=\"color:  #a245ff;\">Second, &nbsp;<code style=\"background-color: #f6c5ff;\"> 1: </code>&nbsp; selects the elements starting at index 1 to the last elements of the second axis (or column), which returns :</span>\n"
   ]
  },
  {
   "cell_type": "code",
   "execution_count": 66,
   "id": "34bc4f45-26d6-486f-84cc-09ed32f24264",
   "metadata": {},
   "outputs": [
    {
     "name": "stdout",
     "output_type": "stream",
     "text": [
      "[5 6]\n",
      "[8 9]\n"
     ]
    }
   ],
   "source": [
    "\n",
    "print(a[1][1:])\n",
    "print(a[2][1:])\n"
   ]
  },
  {
   "cell_type": "markdown",
   "id": "6d096a70-e6b2-498e-bc2a-0d0616bfca3c",
   "metadata": {},
   "source": [
    "<br>\n",
    "\n",
    "<code style=\"background-color: black; color: white;\">Example - 3</code>"
   ]
  },
  {
   "cell_type": "code",
   "execution_count": 60,
   "id": "34c6cb15-5a2c-4f1e-a91a-047dbdf33aa3",
   "metadata": {},
   "outputs": [
    {
     "name": "stdout",
     "output_type": "stream",
     "text": [
      "[1 2 3]\n"
     ]
    }
   ],
   "source": [
    "\n",
    "arr2d = np.array([[1, 2, 3], [4, 5, 6], [7, 8, 9]])\n",
    "\n",
    "print(arr2d[0])             # [1 2 3]\n"
   ]
  },
  {
   "cell_type": "markdown",
   "id": "053e02e2-ba08-4822-813c-76138a308ab2",
   "metadata": {},
   "source": [
    "<br>\n",
    "\n",
    "<div style=\"display: flex;\">\n",
    "<div><span style=\"font-size: 1.5rem;\">⭐&nbsp;&nbsp;</span></div>\n",
    "<div>Thus, individual elements can be accessed recursively. &nbsp;But that is a bit too much work, so <u>you can pass a <strong>comma-separated list of indices</strong> to select individual elements</u>. &nbsp;So the following are equivalent :</div>\n",
    "</div>\n"
   ]
  },
  {
   "cell_type": "code",
   "execution_count": 147,
   "id": "8d97824c-4966-4578-8663-41707f58ec09",
   "metadata": {},
   "outputs": [
    {
     "name": "stdout",
     "output_type": "stream",
     "text": [
      "3\n",
      "3\n"
     ]
    }
   ],
   "source": [
    "\n",
    "print(arr2d[0][2])          # METHOD - 1\n",
    "print(arr2d[0, 2])          # METHOD - 2\n"
   ]
  },
  {
   "cell_type": "markdown",
   "id": "f285f21c-c142-4bd4-b593-bc8d16af89b0",
   "metadata": {},
   "source": [
    "\n",
    "<div style=\"margin-left: 160px;\">\n",
    "\n",
    "![](../media/numpy_09.PNG)\n",
    "\n",
    "</div>\n"
   ]
  },
  {
   "cell_type": "code",
   "execution_count": 148,
   "id": "31309db6-65cf-41c0-a5d4-bbd110ea964d",
   "metadata": {},
   "outputs": [
    {
     "data": {
      "text/plain": [
       "array([[9, 8, 7],\n",
       "       [6, 5, 4],\n",
       "       [3, 2, 1]])"
      ]
     },
     "execution_count": 148,
     "metadata": {},
     "output_type": "execute_result"
    }
   ],
   "source": [
    "\n",
    "arr2d[::-1, ::-1]                # Slice rows from the last index to the first index and columns from the last index to the first index\n"
   ]
  },
  {
   "cell_type": "markdown",
   "id": "29cf12a8-6fee-4892-8b41-0bb9a222beee",
   "metadata": {},
   "source": [
    "\n",
    "<br>\n",
    "\n",
    "<code style=\"background-color: black; color: white;\">Example - 4</code>"
   ]
  },
  {
   "cell_type": "code",
   "execution_count": 149,
   "id": "8e9cb900-2c41-40ce-88d7-27dcd18625aa",
   "metadata": {},
   "outputs": [
    {
     "data": {
      "text/plain": [
       "array([[ 1,  2,  3,  4],\n",
       "       [ 5,  6,  7,  8],\n",
       "       [ 9, 10, 11, 12]])"
      ]
     },
     "execution_count": 149,
     "metadata": {},
     "output_type": "execute_result"
    }
   ],
   "source": [
    "\n",
    "arr2d = np.array([[1, 2, 3, 4], [5, 6, 7, 8], [9, 10, 11, 12]])\n",
    "\n",
    "arr2d\n"
   ]
  },
  {
   "cell_type": "code",
   "execution_count": 150,
   "id": "dc32b554-bd2e-4f6a-9425-c11c48d2bd7a",
   "metadata": {},
   "outputs": [
    {
     "name": "stdout",
     "output_type": "stream",
     "text": [
      "[[2 3]\n",
      " [6 7]]\n"
     ]
    }
   ],
   "source": [
    "\n",
    "print(arr2d[0:2, 1:3])           # Slice rows from index 0 to 2 (excluding 2) and columns from index 1 to 3 (excluding 3)\n",
    "                                                                  "
   ]
  },
  {
   "cell_type": "code",
   "execution_count": 66,
   "id": "cb9fed3b-038d-4f66-87a6-60f3afc7a2dd",
   "metadata": {},
   "outputs": [
    {
     "name": "stdout",
     "output_type": "stream",
     "text": [
      "[[1 2]\n",
      " [4 5]\n",
      " [7 8]]\n"
     ]
    }
   ],
   "source": [
    "\n",
    "print(arr2d[:, :2])              # Slice all rows and the first two columns\n"
   ]
  },
  {
   "cell_type": "code",
   "execution_count": 67,
   "id": "f8d3c341-9940-479c-8ee6-5c882fff82b7",
   "metadata": {},
   "outputs": [
    {
     "name": "stdout",
     "output_type": "stream",
     "text": [
      "[8 9]\n"
     ]
    }
   ],
   "source": [
    "\n",
    "print(arr2d[-1, -2:])            # Slice the last row and last two columns                         \n"
   ]
  },
  {
   "cell_type": "markdown",
   "id": "d5f1394d-4553-4aa7-9b16-7c7a1c36d0f2",
   "metadata": {},
   "source": [
    "<br>\n",
    "\n",
    "<code style=\"background-color: black; color: white;\">Example - 5</code>"
   ]
  },
  {
   "cell_type": "code",
   "execution_count": 172,
   "id": "1736d51e-e10f-4c7c-851b-2b2598f7ac0d",
   "metadata": {},
   "outputs": [
    {
     "data": {
      "text/plain": [
       "array([[[ 1,  2,  3],\n",
       "        [ 4,  5,  6]],\n",
       "\n",
       "       [[ 7,  8,  9],\n",
       "        [10, 11, 12]]])"
      ]
     },
     "execution_count": 172,
     "metadata": {},
     "output_type": "execute_result"
    }
   ],
   "source": [
    "\n",
    "arr3d = np.array([[[1, 2, 3], [4, 5, 6]], [[7, 8, 9], [10, 11, 12]]])\n",
    "\n",
    "arr3d\n"
   ]
  },
  {
   "cell_type": "code",
   "execution_count": 173,
   "id": "52d8259d-c6bb-4976-9520-6e159bc21ccb",
   "metadata": {},
   "outputs": [
    {
     "data": {
      "text/plain": [
       "array([[1, 2, 3],\n",
       "       [4, 5, 6]])"
      ]
     },
     "execution_count": 173,
     "metadata": {},
     "output_type": "execute_result"
    }
   ],
   "source": [
    "\n",
    "arr3d[0]                                 # 2D array\n"
   ]
  },
  {
   "cell_type": "markdown",
   "id": "7d2bfb20-b69f-41ce-bdb5-6b7580342d13",
   "metadata": {},
   "source": [
    "<br>\n",
    "\n",
    "<span style=\"font-size: 1.5rem;\">⭐&nbsp;&nbsp;</span><span style=\"color: black;\">Both <strong>scalar values</strong> and <strong>arrays</strong> can be assigned to &nbsp;<code style=\"background-color: #f6c5ff;\">arr3d[0]</code> :</span>"
   ]
  },
  {
   "cell_type": "code",
   "execution_count": 174,
   "id": "e33e2ebc-4d71-454e-948d-99383e34960e",
   "metadata": {},
   "outputs": [
    {
     "data": {
      "text/plain": [
       "array([[[42, 42, 42],\n",
       "        [42, 42, 42]],\n",
       "\n",
       "       [[ 7,  8,  9],\n",
       "        [10, 11, 12]]])"
      ]
     },
     "execution_count": 174,
     "metadata": {},
     "output_type": "execute_result"
    }
   ],
   "source": [
    "\n",
    "old_values = arr3d[0].copy()\n",
    "\n",
    "arr3d[0] = 42                            # assigns  a  scalar  value  to  the  array  \"arr3d[0\"\n",
    "\n",
    "arr3d\n"
   ]
  },
  {
   "cell_type": "code",
   "execution_count": 175,
   "id": "4f4444f6-2230-4173-a442-6dff6ae33c0d",
   "metadata": {},
   "outputs": [
    {
     "data": {
      "text/plain": [
       "array([[[ 1,  2,  3],\n",
       "        [ 4,  5,  6]],\n",
       "\n",
       "       [[ 7,  8,  9],\n",
       "        [10, 11, 12]]])"
      ]
     },
     "execution_count": 175,
     "metadata": {},
     "output_type": "execute_result"
    }
   ],
   "source": [
    "\n",
    "arr3d[0] = old_values                    # assigns  an  array  to  the  array  \"arr3d[0]\"\n",
    "\n",
    "arr3d\n"
   ]
  },
  {
   "cell_type": "code",
   "execution_count": 176,
   "id": "2edec2ae-430d-471a-b3d4-431d432c6b12",
   "metadata": {},
   "outputs": [
    {
     "data": {
      "text/plain": [
       "array([7, 8, 9])"
      ]
     },
     "execution_count": 176,
     "metadata": {},
     "output_type": "execute_result"
    }
   ],
   "source": [
    "\n",
    "arr3d[1, 0]                              # 1D array\n"
   ]
  },
  {
   "cell_type": "code",
   "execution_count": 177,
   "id": "947c0aa7-6f34-4fb0-82ed-7a0966178aa8",
   "metadata": {},
   "outputs": [
    {
     "data": {
      "text/plain": [
       "array([[ 7,  8,  9],\n",
       "       [10, 11, 12]])"
      ]
     },
     "execution_count": 177,
     "metadata": {},
     "output_type": "execute_result"
    }
   ],
   "source": [
    "\n",
    "x = arr3d[1]\n",
    "\n",
    "x\n"
   ]
  },
  {
   "cell_type": "code",
   "execution_count": 178,
   "id": "ac152d7e-5dad-49f5-856d-a8bd0da881af",
   "metadata": {},
   "outputs": [
    {
     "data": {
      "text/plain": [
       "array([7, 8, 9])"
      ]
     },
     "execution_count": 178,
     "metadata": {},
     "output_type": "execute_result"
    }
   ],
   "source": [
    "\n",
    "x[0]\n"
   ]
  },
  {
   "cell_type": "markdown",
   "id": "09fed0ab-6305-4c1c-a4b1-99a49ad269be",
   "metadata": {},
   "source": [
    "<br>\n",
    "\n",
    "<span style=\"font-size: 1.5rem;\">⭐&nbsp;&nbsp;</span>Note that in all of these cases where subsections of the array have been selected, the returned arrays are **views**.\n",
    "\n",
    "<span style=\"color: red;\"><u>Caution</u> :-</span> &nbsp;This multidimensional indexing syntax for NumPy arrays will not work with regular Python objects, such as lists of lists."
   ]
  },
  {
   "cell_type": "code",
   "execution_count": 146,
   "id": "d3b021be-38af-434a-94ef-033308a8ad84",
   "metadata": {},
   "outputs": [
    {
     "data": {
      "text/plain": [
       "array([[ 0,  0,  0],\n",
       "       [10, 11, 12]])"
      ]
     },
     "execution_count": 146,
     "metadata": {},
     "output_type": "execute_result"
    }
   ],
   "source": [
    "\n",
    "x[0] = 0                               # scaler value 0 is broadcasted to the 1st row of the array \"x\"\n",
    "\n",
    "x\n"
   ]
  },
  {
   "cell_type": "code",
   "execution_count": 140,
   "id": "a8709045-b1a2-4d96-8028-8fbef2e16f19",
   "metadata": {},
   "outputs": [
    {
     "data": {
      "text/plain": [
       "array([[[ 1,  2,  3],\n",
       "        [ 4,  5,  6]],\n",
       "\n",
       "       [[ 0,  0,  0],\n",
       "        [10, 11, 12]]])"
      ]
     },
     "execution_count": 140,
     "metadata": {},
     "output_type": "execute_result"
    }
   ],
   "source": [
    "\n",
    "arr3d                                  # the change is reflected in the original array\n"
   ]
  },
  {
   "cell_type": "code",
   "execution_count": 141,
   "id": "24c7bb17-d1ff-407a-a2ca-d12015fc11ea",
   "metadata": {},
   "outputs": [
    {
     "data": {
      "text/plain": [
       "array([[ 0,  0,  0],\n",
       "       [10, 11, 12]])"
      ]
     },
     "execution_count": 141,
     "metadata": {},
     "output_type": "execute_result"
    }
   ],
   "source": [
    "\n",
    "arr3d[1, :, :]                         # is equivalent to  =========>  arr3d[1::, ::, ::]\n",
    "                                       # Slice the 2nd layer with all rows and all columns\n"
   ]
  },
  {
   "cell_type": "code",
   "execution_count": 142,
   "id": "489146f5-63a0-4626-8987-45a8f6bdbbb5",
   "metadata": {},
   "outputs": [
    {
     "data": {
      "text/plain": [
       "array([[ 0,  0,  0],\n",
       "       [10, 11, 12]])"
      ]
     },
     "execution_count": 142,
     "metadata": {},
     "output_type": "execute_result"
    }
   ],
   "source": [
    "\n",
    "\n",
    "arr3d[-1, :, :]                        # is equivalent to  =========>  arr3d[-1::, ::, ::]\n",
    "                                       # Slice the last layer with all rows and all columns\n"
   ]
  },
  {
   "cell_type": "code",
   "execution_count": 143,
   "id": "857a64e4-3c36-47ee-8db3-0d95024cdbbf",
   "metadata": {},
   "outputs": [
    {
     "data": {
      "text/plain": [
       "12"
      ]
     },
     "execution_count": 143,
     "metadata": {},
     "output_type": "execute_result"
    }
   ],
   "source": [
    "\n",
    "arr3d[-1, -1, -1]                      # Slice the last layer with last row and the last column\n"
   ]
  },
  {
   "cell_type": "code",
   "execution_count": 144,
   "id": "5e61a5b5-a8c5-4791-b22d-4515464a4e68",
   "metadata": {},
   "outputs": [
    {
     "data": {
      "text/plain": [
       "array([[[ 0,  0,  0],\n",
       "        [10, 11, 12]],\n",
       "\n",
       "       [[ 1,  2,  3],\n",
       "        [ 4,  5,  6]]])"
      ]
     },
     "execution_count": 144,
     "metadata": {},
     "output_type": "execute_result"
    }
   ],
   "source": [
    "\n",
    "arr3d[-1::-1, :, :]                    # Slice from last layer to the start layer with step = -1, and the slice all rows and all columns\n"
   ]
  },
  {
   "cell_type": "code",
   "execution_count": 145,
   "id": "52936205-886b-46d6-b6bd-d3a7586d6286",
   "metadata": {},
   "outputs": [
    {
     "data": {
      "text/plain": [
       "array([12,  6])"
      ]
     },
     "execution_count": 145,
     "metadata": {},
     "output_type": "execute_result"
    }
   ],
   "source": [
    "\n",
    "arr3d[-1::-1, -1, -1]                  # Slice the last layer with all rows and all columns\n"
   ]
  },
  {
   "cell_type": "markdown",
   "id": "6908a4d8-c4ca-4681-91f7-5afd32045001",
   "metadata": {
    "jp-MarkdownHeadingCollapsed": true
   },
   "source": [
    "<br>\n",
    "\n",
    "### <div style=\"color: white; background-color: #af87ff; padding: 5px;\"> <code style=\"font-size: 1.2rem; background-color: #af87ff; color: white;\"><strong>Fancy Indexing</strong></code> </div>\n"
   ]
  },
  {
   "cell_type": "markdown",
   "id": "627b4d68-f87f-4c57-aa3f-0f175528afe5",
   "metadata": {},
   "source": [
    "\n",
    "Besides using indexing & slicing, NumPy provides you with a convenient way to index an array called fancy indexing.\n",
    "\n",
    "Fancy indexing allows you to index a numpy array using the following:\n",
    "\n",
    "- Another numpy array\n",
    "- A Python list\n",
    "- A sequence of integers\n",
    "\n",
    "<br>\n",
    "\n",
    "<span style=\"font-size: 1.5rem;\">⭐&nbsp;</span> <span style=\"color: red;\">fancy indexing</span> &nbsp;&nbsp;&nbsp;====>&nbsp;&nbsp;&nbsp;  indexing using integer arrays &nbsp;&nbsp;&nbsp;====>&nbsp;&nbsp;&nbsp; <code style=\"background-color: #f9dc10; padding:1px;\"> array1[array2] </code>\n",
    "\n",
    "<br>\n",
    "\n",
    "<code style=\"background-color: black; color: white;\">Example - 1</code>"
   ]
  },
  {
   "cell_type": "code",
   "execution_count": 156,
   "id": "a39a3250-4541-40e2-bc11-2b099c892ce8",
   "metadata": {},
   "outputs": [
    {
     "name": "stdout",
     "output_type": "stream",
     "text": [
      "arr           =  [1 2 3 4 5 6 7 8 9]\n",
      "indices       =  [2, 3, 4]\n",
      "arr[indices]  =  [3 4 5]\n"
     ]
    }
   ],
   "source": [
    "\n",
    "arr = np.arange(1,10)\n",
    "print(\"arr           = \", arr)\n",
    "\n",
    "indices = [2,3,4]\n",
    "print(\"indices       = \", indices)\n",
    "\n",
    "print(\"arr[indices]  = \", arr[indices])                # array1[array2]\n"
   ]
  },
  {
   "cell_type": "markdown",
   "id": "1793d8db-cabd-457b-baa1-6bed4d76ce2b",
   "metadata": {},
   "source": [
    "<br>\n",
    "\n",
    "<div style=\"margin-left: 160px;\">\n",
    "\n",
    "![](../media/numpy_10.PNG)\n",
    "\n",
    "</div>\n",
    "\n",
    "<br>\n",
    "\n",
    "<code style=\"background-color: black; color: white;\">Example - 2</code>"
   ]
  },
  {
   "cell_type": "code",
   "execution_count": 164,
   "id": "92b5218d-a700-4186-8560-792117650167",
   "metadata": {},
   "outputs": [
    {
     "data": {
      "text/plain": [
       "(8, 4)"
      ]
     },
     "execution_count": 164,
     "metadata": {},
     "output_type": "execute_result"
    }
   ],
   "source": [
    "\n",
    "arr = np.array([[0, 0, 0, 0],\n",
    "                [1, 1, 1, 1],\n",
    "                [2, 2, 2, 2],\n",
    "                [3, 3, 3, 3],\n",
    "                [4, 4, 4, 4],\n",
    "                [5, 5, 5, 5],\n",
    "                [6, 6, 6, 6],\n",
    "                [7, 7, 7, 7]])\n",
    "\n",
    "arr.shape\n"
   ]
  },
  {
   "cell_type": "code",
   "execution_count": 166,
   "id": "ddffb560-75c2-4cda-92e4-d16af56c74de",
   "metadata": {},
   "outputs": [
    {
     "data": {
      "text/plain": [
       "array([[4, 4, 4, 4],\n",
       "       [3, 3, 3, 3],\n",
       "       [0, 0, 0, 0],\n",
       "       [6, 6, 6, 6]])"
      ]
     },
     "execution_count": 166,
     "metadata": {},
     "output_type": "execute_result"
    }
   ],
   "source": [
    "\n",
    "arr[[4, 3, 0, 6]]\n"
   ]
  },
  {
   "cell_type": "code",
   "execution_count": 167,
   "id": "ba8aa281-e455-4777-a80b-a2438b72f9a1",
   "metadata": {},
   "outputs": [
    {
     "data": {
      "text/plain": [
       "array([[5, 5, 5, 5],\n",
       "       [3, 3, 3, 3],\n",
       "       [1, 1, 1, 1]])"
      ]
     },
     "execution_count": 167,
     "metadata": {},
     "output_type": "execute_result"
    }
   ],
   "source": [
    "\n",
    "arr[[-3, -5, -7]]\n"
   ]
  },
  {
   "cell_type": "markdown",
   "id": "dd94e1ec-ce70-4f9f-8d4a-e56f100fd85c",
   "metadata": {},
   "source": [
    "<br>\n",
    "\n",
    "<code style=\"background-color: black; color: white;\">Example - 3</code>\n",
    "\n",
    "Passing **multiple index arrays** does something slightly different; <span style=\"color: blue;\">it selects a one-dimensional array of elements corresponding to each tuple of indices :</span>"
   ]
  },
  {
   "cell_type": "code",
   "execution_count": 17,
   "id": "820097e8-fd7c-4a37-863a-8f6a494739f2",
   "metadata": {},
   "outputs": [
    {
     "name": "stdout",
     "output_type": "stream",
     "text": [
      "(8, 4)\n"
     ]
    }
   ],
   "source": [
    "\n",
    "arr = np.array([[ 0,  1,  2,  3],\n",
    "                [ 4,  5,  6,  7],\n",
    "                [ 8,  9, 10, 11],\n",
    "                [12, 13, 14, 15],\n",
    "                [16, 17, 18, 19],\n",
    "                [20, 21, 22, 23],\n",
    "                [24, 25, 26, 27],\n",
    "                [28, 29, 30, 31]])\n",
    "\n",
    "\n",
    "print(arr.shape)\n"
   ]
  },
  {
   "cell_type": "code",
   "execution_count": 18,
   "id": "d017f875-b61f-4637-b083-59317953420c",
   "metadata": {},
   "outputs": [
    {
     "data": {
      "text/plain": [
       "array([ 4, 23, 29, 10])"
      ]
     },
     "execution_count": 18,
     "metadata": {},
     "output_type": "execute_result"
    }
   ],
   "source": [
    "\n",
    "arr[[1, 5, 7, 2], [0, 3, 1, 2]]                    # [arr(1,0) , arr(5,3), arr(7,1), arr(2,2)]    -------->    [4, 23, 29, 10]\n"
   ]
  },
  {
   "cell_type": "markdown",
   "id": "6643fe98-9135-4050-a0b4-a4ba0b34de2a",
   "metadata": {},
   "source": [
    "\n",
    "<span style=\"color:  #a245ff;\">Here the elements at index &nbsp;<code style=\"background-color: #f6c5ff;\">(1,0)</code>&nbsp;, &nbsp;<code style=\"background-color: #f6c5ff;\">(5,3)</code>&nbsp; , &nbsp;<code style=\"background-color: #f6c5ff;\">(7,1)</code>&nbsp; and &nbsp;<code style=\"background-color: #f6c5ff;\">(2,3)</code>&nbsp; are selected.</span>\n",
    "\n",
    "<span style=\"color:  #a245ff;\">Now let's look at another scenario of <strong>fancy indexing</strong> :</span>"
   ]
  },
  {
   "cell_type": "code",
   "execution_count": 19,
   "id": "d9862966-1e6b-4d72-a414-20bb567476a0",
   "metadata": {},
   "outputs": [
    {
     "data": {
      "text/plain": [
       "array([[ 4,  5,  6,  7],\n",
       "       [20, 21, 22, 23],\n",
       "       [28, 29, 30, 31],\n",
       "       [ 8,  9, 10, 11]])"
      ]
     },
     "execution_count": 19,
     "metadata": {},
     "output_type": "execute_result"
    }
   ],
   "source": [
    "\n",
    "arr[[1, 5, 7, 2]]\n"
   ]
  },
  {
   "cell_type": "code",
   "execution_count": 20,
   "id": "95133aab-d1e3-43bf-bb31-7b98033d96e7",
   "metadata": {},
   "outputs": [
    {
     "data": {
      "text/plain": [
       "array([[ 4,  7,  5,  6],\n",
       "       [20, 23, 21, 22],\n",
       "       [28, 31, 29, 30],\n",
       "       [ 8, 11,  9, 10]])"
      ]
     },
     "execution_count": 20,
     "metadata": {},
     "output_type": "execute_result"
    }
   ],
   "source": [
    "\n",
    "arr[[1, 5, 7, 2]][:, [0, 3, 1, 2]]                # the columns of  \"arr[[1, 5, 7, 2]]\"  are rearanged in the order [0, 3, 1, 2]\n"
   ]
  },
  {
   "cell_type": "markdown",
   "id": "988c693c-7b67-49d1-99c8-cfc7b53dd527",
   "metadata": {},
   "source": [
    "<br>\n",
    "\n",
    "<span style=\"color:  #a245ff;\">How does it work ? &nbsp;&nbsp;&nbsp;====>&nbsp;&nbsp;&nbsp; The columns of &nbsp;<code style=\"background-color: #edd4ff;\">arr[[1, 5, 7, 2]]</code>&nbsp; are rearranged in the order &nbsp;<code style=\"background-color: #edd4ff;\">[0, 3, 1, 2]</code></span>\n",
    "\n",
    "<div style=\"margin-left: 140px;\">\n",
    "\n",
    "![](../media/numpy_11.PNG)\n",
    "\n",
    "</div>"
   ]
  },
  {
   "cell_type": "markdown",
   "id": "86c0db01-aa09-4bff-931a-ed5da7bcf5cb",
   "metadata": {},
   "source": [
    "<div style=\"display: flex;\">\n",
    "<div><span style=\"font-size: 1.5rem;\">⭐&nbsp;&nbsp;</span></div>\n",
    "<div>Keep in mind that <span style=\"color: blue;\">fancy indexing</span>, unlike slicing, <span style=\"color: blue;\">always copies the data into a new array when assigning the result to a new variable</span>. &nbsp;If you assign values with fancy indexing, the indexed values will be modified :</div>\n",
    "</div>"
   ]
  },
  {
   "cell_type": "code",
   "execution_count": 12,
   "id": "c87f94a0-7da5-4bb5-ae1a-d6f66797b0a0",
   "metadata": {},
   "outputs": [
    {
     "data": {
      "text/plain": [
       "array([ 4, 23, 29, 10])"
      ]
     },
     "execution_count": 12,
     "metadata": {},
     "output_type": "execute_result"
    }
   ],
   "source": [
    "\n",
    "arr[[1, 5, 7, 2], [0, 3, 1, 2]]\n"
   ]
  },
  {
   "cell_type": "code",
   "execution_count": 22,
   "id": "f28634ac-91e7-4d54-bac0-a5de18270a02",
   "metadata": {},
   "outputs": [
    {
     "data": {
      "text/plain": [
       "array([[ 0,  1,  2,  3],\n",
       "       [ 0,  5,  6,  7],\n",
       "       [ 8,  9,  0, 11],\n",
       "       [12, 13, 14, 15],\n",
       "       [16, 17, 18, 19],\n",
       "       [20, 21, 22,  0],\n",
       "       [24, 25, 26, 27],\n",
       "       [28,  0, 30, 31]])"
      ]
     },
     "execution_count": 22,
     "metadata": {},
     "output_type": "execute_result"
    }
   ],
   "source": [
    "\n",
    "arr[[1, 5, 7, 2], [0, 3, 1, 2]] = 0                # arr(1,0)  =  arr(5,3)  =  arr(7,1)  =  arr(2,2)  =  0\n",
    "\n",
    "arr\n"
   ]
  },
  {
   "cell_type": "markdown",
   "id": "669cd10a-2b5e-46d6-9430-6780f687f55b",
   "metadata": {
    "jp-MarkdownHeadingCollapsed": true
   },
   "source": [
    "<br>\n",
    "\n",
    "### <div style=\"color: white; background-color: #af87ff; padding: 5px;\"> <code style=\"font-size: 1.2rem; background-color: #af87ff; color: white;\"><strong>Boolean Indexing</strong></code> </div>\n"
   ]
  },
  {
   "cell_type": "markdown",
   "id": "6d6468b2-6dbd-4cf6-a183-18755d7084dd",
   "metadata": {},
   "source": [
    "Numpy allows you &nbsp;<span style=\"color: blue; background-color: white;\">to use an array of boolean values as an index of another array</span>. &nbsp;<u>Each element of the boolean array indicates whether or not to select the elements from the array</u>.\n",
    "\n",
    "If the value is &nbsp;<code style=\"color: red;\">True</code> , the element of that index is selected. In case the value is <code style=\"color: red;\">False</code>, the element of that index is not selected.\n",
    "\n",
    "<span style=\"font-size: 1.5rem;\">⭐&nbsp;</span> <span style=\"color: red;\">boolean indexing</span> &nbsp;&nbsp;&nbsp;====>&nbsp;&nbsp;&nbsp;  indexing using boolean arrays &nbsp;&nbsp;&nbsp;====>&nbsp;&nbsp;&nbsp; <code style=\"background-color: #f9dc10; padding:1px;\"> array[booleanarray] </code>\n"
   ]
  },
  {
   "cell_type": "code",
   "execution_count": 23,
   "id": "742be5e6-cf03-4e05-9fab-08dc2b90ff82",
   "metadata": {},
   "outputs": [
    {
     "name": "stdout",
     "output_type": "stream",
     "text": [
      "[1 2]\n"
     ]
    }
   ],
   "source": [
    "\n",
    "a = np.array([1, 2, 3])\n",
    "b = np.array([True, True, False])\n",
    "c = a[b]\n",
    "print(c)\n"
   ]
  },
  {
   "cell_type": "markdown",
   "id": "df1bf73a-fd8b-4eb6-b933-ffa9b5b341bc",
   "metadata": {},
   "source": [
    "<br>\n",
    "\n",
    "<span style=\"color:  #a245ff;\">How does it work ?</span>\n",
    "\n",
    "<div style=\"margin-left: 80px;\">\n",
    "\n",
    "![](../media/numpy_12.PNG)\n",
    "\n",
    "</div>"
   ]
  },
  {
   "cell_type": "markdown",
   "id": "229a3d66-ad33-4b03-bb1b-bd69be48c8fa",
   "metadata": {},
   "source": [
    "\n",
    "<span style=\"font-size: 1.5rem;\">⭐&nbsp;</span>Typically, you’ll use boolean indexing to filter an array. &nbsp;<span style=\"color:  #a245ff;\">For example :</span>\n"
   ]
  },
  {
   "cell_type": "code",
   "execution_count": 29,
   "id": "fdbc332a-41a0-4dd5-bdf4-21a39f3777fd",
   "metadata": {},
   "outputs": [
    {
     "name": "stdout",
     "output_type": "stream",
     "text": [
      "[False False False False False  True  True  True  True]\n",
      "[6 7 8 9]\n"
     ]
    }
   ],
   "source": [
    "\n",
    "a = np.arange(1, 10)\n",
    "b = a > 5                       # [1  2  3  4  5  6  7  8  9] > 5     ------>     [(1>5)  (2>5)  (3>5)  (4>5)  (5>5)  (6>5)  (7>5)  (8>5)  (9>5)]\n",
    "print(b)\n",
    "\n",
    "c = a[b]\n",
    "print(c)                        # The array \"c\" contains only numbers from array \"a\", which are greater than \"5\"\n"
   ]
  },
  {
   "cell_type": "markdown",
   "id": "3306e835-33fb-4df0-8a61-90766b7c7995",
   "metadata": {},
   "source": [
    "<br>\n",
    "\n",
    "<code style=\"background-color: black; color: white;\">Example - 1</code>"
   ]
  },
  {
   "cell_type": "code",
   "execution_count": 94,
   "id": "bab6cd10-8b01-4571-9d59-ddc9fe7c88a3",
   "metadata": {},
   "outputs": [
    {
     "name": "stdout",
     "output_type": "stream",
     "text": [
      "['Bob' 'Joe' 'Will' 'Bob' 'Will' 'Joe' 'Joe']\n",
      "[[  4   7]\n",
      " [  0   2]\n",
      " [ -5   6]\n",
      " [  0   0]\n",
      " [  1   2]\n",
      " [-12  -4]\n",
      " [  3   4]]\n"
     ]
    }
   ],
   "source": [
    "\n",
    "names = np.array([\"Bob\", \"Joe\", \"Will\", \"Bob\", \"Will\", \"Joe\", \"Joe\"])\n",
    "data = np.array([[4, 7], [0, 2], [-5, 6], [0, 0], [1, 2], [-12, -4], [3, 4]])\n",
    "\n",
    "print(names)\n",
    "print(data)\n"
   ]
  },
  {
   "cell_type": "markdown",
   "id": "49a097b2-c3b4-452e-9e21-e2cbba1a0837",
   "metadata": {},
   "source": [
    "\n",
    "<span style=\"color:  #a245ff;\">Suppose each name corresponds to a row in the data array.</span> \n",
    "\n",
    "<span style=\"color:  #a245ff;\">Like <strong>arithmetic operations on numpy arrays</strong> (<span style=\"color: black;\"><u>which we will see later on</span></u>), comparisons (such as &nbsp;<code style=\"background-color: #edd4ff;\">==</code>&nbsp;) with arrays are also vectorized. &nbsp;Thus, comparing names with the string \"Bob\" yields a <span style=\"color: #0bcd0b;\">Boolean array</span> :</span>\n"
   ]
  },
  {
   "cell_type": "code",
   "execution_count": 95,
   "id": "9faf94cc-3d26-42a0-914b-38f7affbfcf1",
   "metadata": {},
   "outputs": [
    {
     "data": {
      "text/plain": [
       "array([ True, False, False,  True, False, False, False])"
      ]
     },
     "execution_count": 95,
     "metadata": {},
     "output_type": "execute_result"
    }
   ],
   "source": [
    "\n",
    "names == \"Bob\"                     # comparing two numpy arrays\n"
   ]
  },
  {
   "cell_type": "code",
   "execution_count": 96,
   "id": "7806403f-3db7-4d03-800a-aac5496fc36d",
   "metadata": {},
   "outputs": [
    {
     "data": {
      "text/plain": [
       "array([[4, 7],\n",
       "       [0, 0]])"
      ]
     },
     "execution_count": 96,
     "metadata": {},
     "output_type": "execute_result"
    }
   ],
   "source": [
    "\n",
    "data[names == \"Bob\"]               # selects only the rows in data where names is \"Bob\"\n"
   ]
  },
  {
   "cell_type": "markdown",
   "id": "367f323e-e8f4-49ee-be4f-cef16f0f2476",
   "metadata": {},
   "source": [
    "<br>\n",
    "\n",
    "<div style=\"display: flex;\">\n",
    "<div><span style=\"font-size: 1.5rem;\">⭐&nbsp;&nbsp;</span></div>\n",
    "<div><u>The Boolean array must be of the same length as the array axis it’s indexing</u>. You can even mix and match Boolean arrays with slices or integers (or sequences of integers; more on this later).</div>\n",
    "</div>\n"
   ]
  },
  {
   "cell_type": "code",
   "execution_count": 97,
   "id": "97de664e-07cc-493d-b243-097f7a2848e0",
   "metadata": {},
   "outputs": [
    {
     "data": {
      "text/plain": [
       "array([[7],\n",
       "       [0]])"
      ]
     },
     "execution_count": 97,
     "metadata": {},
     "output_type": "execute_result"
    }
   ],
   "source": [
    "\n",
    "data[names == \"Bob\", 1:]           # selects all columns starting from index 1 onward in the filtered rows from the above result\n",
    "                                   # slice columns from index 1 to index -1 (last column) in the above filtered rows\n"
   ]
  },
  {
   "cell_type": "code",
   "execution_count": 98,
   "id": "651eca98-9a14-414e-8c84-431e29f06c6b",
   "metadata": {},
   "outputs": [
    {
     "data": {
      "text/plain": [
       "array([7, 0])"
      ]
     },
     "execution_count": 98,
     "metadata": {},
     "output_type": "execute_result"
    }
   ],
   "source": [
    "\n",
    "data[names == \"Bob\", 1]            # selects only the column at index 1 instead of slicing from 1 onward\n",
    "                                   # returns a 1D array instead of a 2D array\n"
   ]
  },
  {
   "cell_type": "markdown",
   "id": "45635842-a6ea-460f-9715-fda2dd9bfbef",
   "metadata": {},
   "source": [
    "<br>\n",
    "\n",
    "<span style=\"color:  #a245ff;\">To select everything but \"Bob\" you can either use &nbsp;<code style=\"background-color: #edd4ff;\"> != </code>&nbsp; or negate the condition using &nbsp;<code style=\"background-color: #edd4ff;\"> ~ </code>&nbsp; :</span>\n"
   ]
  },
  {
   "cell_type": "code",
   "execution_count": 99,
   "id": "77fbf475-94d3-44b4-b00e-76fcfcbe6cc7",
   "metadata": {},
   "outputs": [
    {
     "data": {
      "text/plain": [
       "array([False,  True,  True, False,  True,  True,  True])"
      ]
     },
     "execution_count": 99,
     "metadata": {},
     "output_type": "execute_result"
    }
   ],
   "source": [
    "\n",
    "names != \"Bob\"\n"
   ]
  },
  {
   "cell_type": "code",
   "execution_count": 100,
   "id": "dbfa51be-8fd6-401c-a7d5-f8fb7d3050ab",
   "metadata": {},
   "outputs": [
    {
     "data": {
      "text/plain": [
       "array([False,  True,  True, False,  True,  True,  True])"
      ]
     },
     "execution_count": 100,
     "metadata": {},
     "output_type": "execute_result"
    }
   ],
   "source": [
    "\n",
    "~(names == \"Bob\")\n"
   ]
  },
  {
   "cell_type": "code",
   "execution_count": 101,
   "id": "1bc4c84a-8155-47a8-8d9a-3e59730f290b",
   "metadata": {},
   "outputs": [
    {
     "data": {
      "text/plain": [
       "array([[  0,   2],\n",
       "       [ -5,   6],\n",
       "       [  1,   2],\n",
       "       [-12,  -4],\n",
       "       [  3,   4]])"
      ]
     },
     "execution_count": 101,
     "metadata": {},
     "output_type": "execute_result"
    }
   ],
   "source": [
    "\n",
    "data[~(names == \"Bob\")]\n"
   ]
  },
  {
   "cell_type": "markdown",
   "id": "6c87f62c-90c4-425c-bb6f-924a3b66dcc8",
   "metadata": {},
   "source": [
    "\n",
    "<span style=\"font-size: 1.5rem;\">⭐&nbsp;&nbsp;</span>The &nbsp;<code style=\"background-color: #edd4ff;\"> ~ </code>&nbsp; operator can be useful when you want <span style=\"color: blue;\">to invert a Boolean array referenced by a variable</span> :</span>\n"
   ]
  },
  {
   "cell_type": "code",
   "execution_count": 116,
   "id": "34b87937-6ed1-437c-bc35-0212bde52e56",
   "metadata": {},
   "outputs": [
    {
     "data": {
      "text/plain": [
       "array([[0, 2],\n",
       "       [7, 7],\n",
       "       [7, 7],\n",
       "       [0, 0],\n",
       "       [3, 4]])"
      ]
     },
     "execution_count": 116,
     "metadata": {},
     "output_type": "execute_result"
    }
   ],
   "source": [
    "\n",
    "cond = names == \"Bob\"\n",
    "\n",
    "data[~cond]\n"
   ]
  },
  {
   "cell_type": "markdown",
   "id": "b679dc14-cde5-4480-ad86-45b2cea6f492",
   "metadata": {},
   "source": [
    "\n",
    "<br>\n",
    "\n",
    "<div style=\"display: flex;\">\n",
    "<div><span style=\"font-size: 1.5rem;\">⭐&nbsp;&nbsp;</span></div>\n",
    "<div>\n",
    "The Python keywords and and or do not work with Boolean arrays. &nbsp;Use &nbsp;<code style=\"background-color: #edd4ff;\"> & </code>&nbsp; (and) and &nbsp;Use &nbsp;<code style=\"background-color: #edd4ff;\"> | </code>&nbsp; (or) instead.  <br>\n",
    "To select two of the three names to combine multiple Boolean conditions, use <strong>Boolean arithmetic operators</strong> like &nbsp;<code style=\"background-color: #edd4ff;\"> & </code>&nbsp; (and) and &nbsp;<code style=\"background-color: #edd4ff;\"> | </code>&nbsp; (or) &nbsp;:&nbsp;<span style=\"color: black;\"><font size=\"+1\">↴</font>&nbsp;</span>\n",
    "</div>\n",
    "</div>\n"
   ]
  },
  {
   "cell_type": "code",
   "execution_count": 117,
   "id": "d02d9627-6a7b-4d9f-9488-7f209d30fc9b",
   "metadata": {},
   "outputs": [
    {
     "data": {
      "text/plain": [
       "array([ True, False,  True,  True,  True, False, False])"
      ]
     },
     "execution_count": 117,
     "metadata": {},
     "output_type": "execute_result"
    }
   ],
   "source": [
    "\n",
    "mask = (names == \"Bob\") | (names == \"Will\")\n",
    "\n",
    "mask\n"
   ]
  },
  {
   "cell_type": "code",
   "execution_count": 118,
   "id": "42150e31-a1cd-4b02-9ab3-75867f00d777",
   "metadata": {},
   "outputs": [
    {
     "data": {
      "text/plain": [
       "array([[7, 7],\n",
       "       [7, 7],\n",
       "       [7, 7],\n",
       "       [7, 7]])"
      ]
     },
     "execution_count": 118,
     "metadata": {},
     "output_type": "execute_result"
    }
   ],
   "source": [
    "\n",
    "data[mask]\n"
   ]
  },
  {
   "cell_type": "markdown",
   "id": "d952e2d6-d4dd-4304-8dad-20182ed02d09",
   "metadata": {},
   "source": [
    "<br>\n",
    "\n",
    "<span style=\"color: #a245ff;\">To set all of the negative values in data to 0, we only need to do :</span>"
   ]
  },
  {
   "cell_type": "code",
   "execution_count": 119,
   "id": "100b1b99-1d03-4727-9df9-61b9b01dadac",
   "metadata": {},
   "outputs": [
    {
     "data": {
      "text/plain": [
       "array([[7, 7],\n",
       "       [0, 2],\n",
       "       [7, 7],\n",
       "       [7, 7],\n",
       "       [7, 7],\n",
       "       [0, 0],\n",
       "       [3, 4]])"
      ]
     },
     "execution_count": 119,
     "metadata": {},
     "output_type": "execute_result"
    }
   ],
   "source": [
    "\n",
    "data\n"
   ]
  },
  {
   "cell_type": "code",
   "execution_count": 120,
   "id": "214fad8b-2693-47e1-98a8-b141a024bede",
   "metadata": {},
   "outputs": [
    {
     "data": {
      "text/plain": [
       "array([[False, False],\n",
       "       [False, False],\n",
       "       [False, False],\n",
       "       [False, False],\n",
       "       [False, False],\n",
       "       [False, False],\n",
       "       [False, False]])"
      ]
     },
     "execution_count": 120,
     "metadata": {},
     "output_type": "execute_result"
    }
   ],
   "source": [
    "\n",
    "data < 0\n"
   ]
  },
  {
   "cell_type": "code",
   "execution_count": 121,
   "id": "f4279a15-3f16-447f-9340-72017fde61cf",
   "metadata": {},
   "outputs": [
    {
     "data": {
      "text/plain": [
       "array([[7, 7],\n",
       "       [0, 2],\n",
       "       [7, 7],\n",
       "       [7, 7],\n",
       "       [7, 7],\n",
       "       [0, 0],\n",
       "       [3, 4]])"
      ]
     },
     "execution_count": 121,
     "metadata": {},
     "output_type": "execute_result"
    }
   ],
   "source": [
    "\n",
    "data[data < 0] = 0\n",
    "\n",
    "data\n"
   ]
  },
  {
   "cell_type": "markdown",
   "id": "c2805524-f7ad-467f-b9b0-fccfd6149641",
   "metadata": {},
   "source": [
    "<br>\n",
    "\n",
    "<span style=\"color: #a245ff;\">You can also set whole rows or columns using a one-dimensional Boolean array</span>\n",
    "                               "
   ]
  },
  {
   "cell_type": "code",
   "execution_count": 122,
   "id": "1ddaf945-6768-4c45-9c2a-580d5d872e32",
   "metadata": {},
   "outputs": [
    {
     "data": {
      "text/plain": [
       "array([ True, False,  True,  True,  True, False, False])"
      ]
     },
     "execution_count": 122,
     "metadata": {},
     "output_type": "execute_result"
    }
   ],
   "source": [
    "\n",
    "names != \"Joe\"\n"
   ]
  },
  {
   "cell_type": "code",
   "execution_count": 123,
   "id": "e4bd35e0-647a-44c8-891b-2add3ccd2aa2",
   "metadata": {},
   "outputs": [
    {
     "data": {
      "text/plain": [
       "array([[7, 7],\n",
       "       [7, 7],\n",
       "       [7, 7],\n",
       "       [7, 7]])"
      ]
     },
     "execution_count": 123,
     "metadata": {},
     "output_type": "execute_result"
    }
   ],
   "source": [
    "\n",
    "data[names != \"Joe\"]\n"
   ]
  },
  {
   "cell_type": "code",
   "execution_count": 124,
   "id": "e9f9e2c8-15e4-426c-b2c7-379fd5d904d7",
   "metadata": {},
   "outputs": [
    {
     "data": {
      "text/plain": [
       "array([[7, 7],\n",
       "       [0, 2],\n",
       "       [7, 7],\n",
       "       [7, 7],\n",
       "       [7, 7],\n",
       "       [0, 0],\n",
       "       [3, 4]])"
      ]
     },
     "execution_count": 124,
     "metadata": {},
     "output_type": "execute_result"
    }
   ],
   "source": [
    "\n",
    "data[names != \"Joe\"] = 7           # set whole rows or columns using a one-dimensional Boolean array\n",
    "\n",
    "data\n",
    "                                   "
   ]
  },
  {
   "cell_type": "markdown",
   "id": "8f07eb2b-00a4-4492-b426-6d447d7b632c",
   "metadata": {},
   "source": [
    "<br>\n",
    "\n",
    "<span style=\"font-size: 1.5rem;\">⭐&nbsp;&nbsp;</span><span style=\"color: blue;\">As we will see later, these types of operations on two-dimensional data are convenient to do with <span style=\"color: red;\">pandas</span></span>\n"
   ]
  },
  {
   "cell_type": "markdown",
   "id": "a40cd99d-53aa-48b7-bfeb-540a8f5098d4",
   "metadata": {},
   "source": [
    "<br>\n",
    "\n",
    "### <div style=\"color: white; background-color: #af87ff; padding: 10px;\"> <code style=\"font-size: 1.2rem; background-color: #af87ff; color: white;\"><strong>View &nbsp;vs&nbsp; Copy</strong></code> <br><br><div style=\"color: black; background-color: white; padding-top: 7px; padding-bottom: 8px;\"><code style=\"background-color: white;\">numpy.copy()</code></div></div>\n"
   ]
  },
  {
   "cell_type": "markdown",
   "id": "90a188f1-02a1-45f0-9b8d-d0615641c396",
   "metadata": {},
   "source": [
    "\n",
    "When you **slice** an array, you get a subarray. &nbsp;The subarray is a **view** of the original array. &nbsp;In other words, if you change elements in the subarray, the change will be reflected in the original array. &nbsp;<span style=\"color: #a245ff;\">For example :</span>\n"
   ]
  },
  {
   "cell_type": "code",
   "execution_count": 135,
   "id": "0c7abee8-e7fa-4089-9260-410231f7f7c4",
   "metadata": {},
   "outputs": [
    {
     "name": "stdout",
     "output_type": "stream",
     "text": [
      "[[1 2]\n",
      " [4 5]]\n"
     ]
    }
   ],
   "source": [
    "\n",
    "a = np.array(\n",
    "    [[1, 2, 3],\n",
    "     [4, 5, 6]]\n",
    ")\n",
    "\n",
    " b = a[0:, 0:2]                   # slice rows from index 0 onward and then slice columns from index 0 to index 2 (excluding the index 2)\n",
    "\n",
    "print(b)\n"
   ]
  },
  {
   "cell_type": "code",
   "execution_count": 141,
   "id": "fcf857d0-7f68-4d3c-aaec-952615fb5f8d",
   "metadata": {},
   "outputs": [],
   "source": [
    "\n",
    " b[0, 0] = 0                     # change the element at index [0,0] in the subarray \"b\" to zero\n"
   ]
  },
  {
   "cell_type": "code",
   "execution_count": 137,
   "id": "c908d99b-ce00-4d1d-9f41-6bd14b2f3d93",
   "metadata": {},
   "outputs": [
    {
     "name": "stdout",
     "output_type": "stream",
     "text": [
      "[[0 2]\n",
      " [4 5]]\n"
     ]
    }
   ],
   "source": [
    "\n",
    "print(b)\n"
   ]
  },
  {
   "cell_type": "markdown",
   "id": "2f1bd5b3-2d32-46b7-91d9-13712d4d88c3",
   "metadata": {},
   "source": [
    "<br>\n",
    "\n",
    "<code style=\"color: #a245ff; background-color: white;\">Let's now check if the change in the array \"b\" is reflected in the array \"a\" or not :</span>\n"
   ]
  },
  {
   "cell_type": "code",
   "execution_count": 139,
   "id": "6c80f212-e926-41d4-91c0-465ad50bf301",
   "metadata": {},
   "outputs": [
    {
     "name": "stdout",
     "output_type": "stream",
     "text": [
      "[[0 2 3]\n",
      " [4 5 6]]\n"
     ]
    }
   ],
   "source": [
    "\n",
    "print(a)                         # Since \"b\" is a view of array \"a\", the change is also reflected in array \"a\"\n"
   ]
  },
  {
   "cell_type": "markdown",
   "id": "cfb4f32d-ae2a-49fa-9eb6-dc981aaca42d",
   "metadata": {},
   "source": [
    "<br>\n",
    "\n",
    "<span style=\"color: #a245ff; background-color: white;\">As &nbsp;you &nbsp;can &nbsp;see, &nbsp;<strong>yes &nbsp;it's &nbsp;reflected</strong>.</span>\n",
    "\n",
    "<span style=\"color:  #a245ff;\">How does it work ?</span>\n",
    "\n",
    "<div style=\"margin-left: 80px;\">\n",
    "\n",
    "![](../media/numpy_13.PNG)\n",
    "\n",
    "</div>\n",
    "\n",
    "<span style=\"font-size: 1.5rem;\">⭐&nbsp;&nbsp;</span>The reason numpy <strong>creates a view</strong> <u>instead of a new array</u> is that it doesn’t have to copy data therefore <strong>improving performance</strong>.\n",
    "\n",
    "<span style=\"font-size: 1.5rem;\">⭐&nbsp;&nbsp;</span>However, if you want a copy of an array rather than a view, you can use &nbsp;<code style=\"background-color: #f9dc10; color: red; padding:1px;\"> copy() </code>&nbsp; method. &nbsp;<span style=\"color: #a245ff;\">For example :</span>"
   ]
  },
  {
   "cell_type": "code",
   "execution_count": 152,
   "id": "da8b3bee-37b9-49fb-97a0-06b90ae1b1a3",
   "metadata": {},
   "outputs": [
    {
     "name": "stdout",
     "output_type": "stream",
     "text": [
      "[[1 2]\n",
      " [4 5]]\n"
     ]
    }
   ],
   "source": [
    "\n",
    "a = np.array([\n",
    "    [1, 2, 3],\n",
    "    [4, 5, 6]\n",
    "])\n",
    "\n",
    "b = a[0:, 0:2].copy()               # make a copy\n",
    "print(b)\n"
   ]
  },
  {
   "cell_type": "code",
   "execution_count": 153,
   "id": "7dd4d42c-6001-45d6-b8cb-9014d866fb26",
   "metadata": {},
   "outputs": [
    {
     "name": "stdout",
     "output_type": "stream",
     "text": [
      "[[0 2]\n",
      " [4 5]]\n"
     ]
    }
   ],
   "source": [
    "\n",
    "b[0, 0] = 0                         # the element at (0,0) in the array \"b\" is changed to 0\n",
    "print(b)\n"
   ]
  },
  {
   "cell_type": "code",
   "execution_count": 154,
   "id": "5134c1e9-380a-478d-8632-f3d7c29ccb3b",
   "metadata": {},
   "outputs": [
    {
     "name": "stdout",
     "output_type": "stream",
     "text": [
      "[[1 2 3]\n",
      " [4 5 6]]\n"
     ]
    }
   ],
   "source": [
    "\n",
    "print(a)                            # the change is not reflected in the array \"a\" \n"
   ]
  },
  {
   "cell_type": "markdown",
   "id": "20e827dc-1919-4e0d-b815-387b56471261",
   "metadata": {},
   "source": [
    "<br>\n",
    "\n",
    "<code style=\"color: #a245ff; background-color: white;\">As you can see - because both arrays are independent, the change doesn't affect array \"a\"</code>"
   ]
  },
  {
   "cell_type": "markdown",
   "id": "a062ff68-2c53-4c69-a1a5-9d5fcfc9898e",
   "metadata": {},
   "source": [
    "<br>\n",
    "\n",
    "### <div style=\"color: white; background-color: #af87ff; padding: 5px;\"> <code style=\"font-size: 1.2rem; background-color: #af87ff; color: white;\"><strong>Iteration over an Array</strong></code> </div>\n"
   ]
  },
  {
   "cell_type": "code",
   "execution_count": 3,
   "id": "5499f6d1-5d48-4b04-b2c2-902d2b4becc6",
   "metadata": {},
   "outputs": [
    {
     "name": "stdout",
     "output_type": "stream",
     "text": [
      "10\n",
      "20\n",
      "30\n",
      "40\n"
     ]
    }
   ],
   "source": [
    "\n",
    "# Iterating Over 1D Array\n",
    "\n",
    "arr = np.array([10, 20, 30, 40])\n",
    "\n",
    "for element in arr:\n",
    "    print(element)\n"
   ]
  },
  {
   "cell_type": "code",
   "execution_count": 4,
   "id": "6d2fdf5e-db9f-4364-ba45-9b4f85d73153",
   "metadata": {},
   "outputs": [
    {
     "name": "stdout",
     "output_type": "stream",
     "text": [
      "[1 2 3]\n",
      "[4 5 6]\n"
     ]
    }
   ],
   "source": [
    "\n",
    "# Iterating Over 2D Array\n",
    "\n",
    "arr_2d = np.array([[1, 2, 3], [4, 5, 6]])\n",
    "\n",
    "for row in arr_2d:\n",
    "    print(row)\n"
   ]
  },
  {
   "cell_type": "markdown",
   "id": "8f7a4e5f-366c-463a-9d22-db7350b873b0",
   "metadata": {},
   "source": [
    "<br>\n",
    "\n",
    "<span style=\"color: #06fff0; font-size: 0.7rem;\">■■■■■■■■■■■■■■■■■■■■■■■■■■■■■■■■■■■■■■■■■■■■■■■■■■■■■■■■■■■■■■■■■■■■■■■■■■■■■■■■■■■■■■■■■■■■■■■■■■■■■■■■■■■■■■■</span>\n"
   ]
  },
  {
   "cell_type": "markdown",
   "id": "aa809b12-189c-4d46-8ac9-af730e44a213",
   "metadata": {},
   "source": [
    "<br>\n",
    "\n",
    "<span style=\"font-size: 1.5rem;\">⭐&nbsp;&nbsp;</span><span style=\"color: black;\">To iterate over each element, you can use the &nbsp;<code style=\"background-color: yellow; padding:1px;\"> numpy.<span style=\"color: red;\">flat()</span> </code>&nbsp; attribute or nested loops.</span>\n"
   ]
  },
  {
   "cell_type": "code",
   "execution_count": 6,
   "id": "3756dd36-d8f1-4d24-9990-943f92f13ef5",
   "metadata": {},
   "outputs": [
    {
     "name": "stdout",
     "output_type": "stream",
     "text": [
      "1\n",
      "2\n",
      "3\n",
      "4\n",
      "5\n",
      "6\n"
     ]
    }
   ],
   "source": [
    "\n",
    "for element in arr_2d.flat:\n",
    "    print(element)\n"
   ]
  },
  {
   "cell_type": "markdown",
   "id": "d4ef6a0b-88d4-419a-9b98-d32d2fdd9556",
   "metadata": {},
   "source": [
    "<br>\n",
    "\n",
    "<span style=\"color: #06fff0; font-size: 0.7rem;\">■■■■■■■■■■■■■■■■■■■■■■■■■■■■■■■■■■■■■■■■■■■■■■■■■■■■■■■■■■■■■■■■■■■■■■■■■■■■■■■■■■■■■■■■■■■■■■■■■■■■■■■■■■■■■■■</span>\n"
   ]
  },
  {
   "cell_type": "markdown",
   "id": "b6967549-ef0a-451c-9b12-fb4f7695ff88",
   "metadata": {},
   "source": [
    "<br>\n",
    "\n",
    "<span style=\"font-size: 1.5rem;\">⭐&nbsp;&nbsp;</span><span style=\"color: black;\"><code style=\"background-color: yellow; padding:1px;\"> numpy.<span style=\"color: red;\">nditer()</span> </code>&nbsp; is an efficient iterator that works with <strong>multi-dimensional arrays</strong> and can iterate over every element regardless of the array's shape.</span>\n"
   ]
  },
  {
   "cell_type": "code",
   "execution_count": 7,
   "id": "1f2cb662-a293-456a-8e6f-6f2552a14219",
   "metadata": {},
   "outputs": [
    {
     "name": "stdout",
     "output_type": "stream",
     "text": [
      "1\n",
      "2\n",
      "3\n",
      "4\n",
      "5\n",
      "6\n"
     ]
    }
   ],
   "source": [
    "\n",
    "for element in np.nditer(arr_2d):\n",
    "    print(element)\n"
   ]
  },
  {
   "cell_type": "markdown",
   "id": "2050be2f-3abf-4243-9cb5-d9292b5bb330",
   "metadata": {},
   "source": [
    "<br>\n",
    "\n",
    "<span style=\"color: #a245ff;\"><strong>Modifying</strong> elements with &nbsp;<code>numpy.<span style=\"color: red;\">nditer()</span></code></span>"
   ]
  },
  {
   "cell_type": "code",
   "execution_count": 16,
   "id": "16f25631-29ec-4eb6-b121-4b15bee65a54",
   "metadata": {},
   "outputs": [
    {
     "name": "stdout",
     "output_type": "stream",
     "text": [
      "[[ 2  4  6  8]\n",
      " [10 12 14 16]]\n"
     ]
    }
   ],
   "source": [
    "\n",
    "arr_1d = np.array([1, 2, 3, 4])\n",
    "for x in np.nditer(arr_1d, op_flags=['readwrite']):\n",
    "    x[...] = x * 2\n",
    "print(arr)                                                    # OUTPUT: [2 4 6 8]\n"
   ]
  },
  {
   "cell_type": "code",
   "execution_count": 17,
   "id": "bf564c0f-cbae-4b70-a6e6-2f8f5cd9340d",
   "metadata": {},
   "outputs": [
    {
     "name": "stdout",
     "output_type": "stream",
     "text": [
      "[[ 2  4  6  8]\n",
      " [10 12 14 16]]\n"
     ]
    }
   ],
   "source": [
    "\n",
    "arr_2d = np.array([[1, 2, 3, 4], [5, 6, 7, 8]])\n",
    "for x in np.nditer(arr_2d, op_flags=['readwrite']):\n",
    "    x[...] = x * 2\n",
    "print(arr)                                                    # OUTPUT: [[2 4 6 8], [10, 12 14 16]\n"
   ]
  },
  {
   "cell_type": "markdown",
   "id": "f89a2899-4fb3-4bca-bd5c-63f257d93808",
   "metadata": {},
   "source": [
    "<br><br>\n",
    "\n",
    "## <strong>Aggregate &nbsp;Functions</strong>"
   ]
  },
  {
   "cell_type": "markdown",
   "id": "a4f5ed98-b09a-430e-9ca6-fa2744afd476",
   "metadata": {},
   "source": [
    "<br><br>\n",
    "\n",
    "The <strong>aggregate functions</strong> are basically <span>universal functions (popularly known as <u>ufunc</u>) that performs element-wise operations on data in ndarrays and produce one or more scalar results.\n",
    "\n",
    "Many <u>ufuncs</u> are simple element-wise transformations, like &nbsp;<code style=\"background-color: yellow;\">numpy.<span style=\"color:red;\">sum()</span></code>&nbsp; and &nbsp;<code style=\"background-color: yellow;\">numpy.<span style=\"color:red;\">sqrt()</span></code>\n"
   ]
  },
  {
   "cell_type": "code",
   "execution_count": 56,
   "id": "8909e7f2-02e3-402a-acc0-c93400c2eede",
   "metadata": {},
   "outputs": [],
   "source": [
    "\n",
    "arr = np.arange(10)             # [0, 1, 2, 3, 4, 5, 6, 7, 8, 9]\n"
   ]
  },
  {
   "cell_type": "code",
   "execution_count": 58,
   "id": "8a36901a-16f4-442b-b704-c67d71bdb2ac",
   "metadata": {},
   "outputs": [
    {
     "data": {
      "text/plain": [
       "45"
      ]
     },
     "execution_count": 58,
     "metadata": {},
     "output_type": "execute_result"
    }
   ],
   "source": [
    "\n",
    "np.sum(arr)\n"
   ]
  },
  {
   "cell_type": "code",
   "execution_count": 59,
   "id": "f37d8793-f4d7-4316-af99-3ce5959f01a4",
   "metadata": {},
   "outputs": [
    {
     "data": {
      "text/plain": [
       "array([0.        , 1.        , 1.41421356, 1.73205081, 2.        ,\n",
       "       2.23606798, 2.44948974, 2.64575131, 2.82842712, 3.        ])"
      ]
     },
     "execution_count": 59,
     "metadata": {},
     "output_type": "execute_result"
    }
   ],
   "source": [
    "\n",
    "np.sqrt(arr)\n"
   ]
  },
  {
   "cell_type": "markdown",
   "id": "3e2ff62e-b05d-4f4f-87b7-10cb29124931",
   "metadata": {},
   "source": [
    "<br>\n",
    "\n",
    "<span style=\"color: #a245ff;\">These are referred to as <strong>unary ufuncs</strong>. &nbsp;Others, such as &nbsp;<code style=\"background-color: yellow;\">numpy.<span style=\"color: red;\">add()</span></code>&nbsp; or &nbsp;<code style=\"background-color: yellow;\">numpy.<span style=\"color: red;\">maximum()</span></code>&nbsp;, take two arrays (thus, <strong>binary ufuncs</strong>) and return a single array as the result :</span>\n"
   ]
  },
  {
   "cell_type": "code",
   "execution_count": 50,
   "id": "2affa7aa-737b-4301-bf11-172c23de587d",
   "metadata": {},
   "outputs": [],
   "source": [
    "\n",
    "x = np.array([2,  6,  10,  14,  18,  22,   26,   30])\n",
    "\n",
    "y = np.array([2,  4,   8,  16,  32,  64,  128,  512])\n"
   ]
  },
  {
   "cell_type": "code",
   "execution_count": 54,
   "id": "3c05dfa6-c7c2-4851-89d6-5b6aee14cb0f",
   "metadata": {},
   "outputs": [
    {
     "data": {
      "text/plain": [
       "array([  4,  10,  18,  30,  50,  86, 154, 542])"
      ]
     },
     "execution_count": 54,
     "metadata": {},
     "output_type": "execute_result"
    }
   ],
   "source": [
    "\n",
    "np.add(x, y)\n"
   ]
  },
  {
   "cell_type": "code",
   "execution_count": 52,
   "id": "41182f9d-0d95-4ad7-b445-8fdee88cfe9e",
   "metadata": {},
   "outputs": [
    {
     "data": {
      "text/plain": [
       "array([  2,   6,  10,  16,  32,  64, 128, 512])"
      ]
     },
     "execution_count": 52,
     "metadata": {},
     "output_type": "execute_result"
    }
   ],
   "source": [
    "\n",
    "np.maximum(x, y)\n"
   ]
  },
  {
   "cell_type": "markdown",
   "id": "df511e95-f023-4585-ba78-bf80bdb035c0",
   "metadata": {},
   "source": [
    "<br>\n",
    "\n",
    "<span style=\"color: #a245ff;\">Let's see some of these functions in details :</span>"
   ]
  },
  {
   "cell_type": "markdown",
   "id": "829c8187-3ab5-4e04-a2b2-e74e26f96c6c",
   "metadata": {},
   "source": [
    "\n",
    "### <div style=\"color: white; background-color: #af87ff; padding: 5px;\"> <code style=\"font-size: 1.2rem; background-color: #af87ff; color: white;\"><strong>numpy.sum()</strong></code> </div>\n"
   ]
  },
  {
   "cell_type": "markdown",
   "id": "1d6cafb6-a48d-491f-92a8-9e3e190c53c0",
   "metadata": {},
   "source": [
    "<code style=\"background-color: yellow; padding: 6px;\">numpy.<span style=\"color: red;\">sum(<span style=\"color: black;\">arr</span>, <span style=\"color: black;\">axis</span><span style=\"color: #9b96a1;\">=None</span>, <span style=\"color: black;\">where</span><span style=\"color: #9b96a1;\">=\\<no value></span>)</code> &nbsp;&nbsp;&nbsp;&nbsp;====>&nbsp;&nbsp;&nbsp;&nbsp;takes an array and returns the sum of all elements of the array along a given axis.</span>\n",
    "\n",
    "<br>\n",
    "\n",
    "<code style=\"color: white; background-color: black;\">Example - 1</code> &nbsp;&nbsp;<span style=\"color: #2fbd0b;\">1D array</span>"
   ]
  },
  {
   "cell_type": "code",
   "execution_count": 62,
   "id": "7366f9e7-de71-470f-8d4f-a829a6de77b9",
   "metadata": {},
   "outputs": [
    {
     "name": "stdout",
     "output_type": "stream",
     "text": [
      "6\n"
     ]
    }
   ],
   "source": [
    "\n",
    "a = np.array([1, 2, 3])\n",
    "total = np.sum(a)                      # axis = None   ----->    sum of all the elements in the array\n",
    "print(total)\n"
   ]
  },
  {
   "cell_type": "markdown",
   "id": "3b22eb5a-a6ec-4876-89e3-72cb450b0aaf",
   "metadata": {},
   "source": [
    "<br>\n",
    "\n",
    "Use the axis argument to specify the axis that you want to sum up.\n",
    "\n",
    "<code style=\"color: white; background-color: black;\">Example - 2</code> &nbsp;&nbsp;<span style=\"color: #2fbd0b;\">2D array</span>\n",
    "\n",
    "<u><span style=\"color: #a245ff;\">Case-1 :</span></u> &nbsp;&nbsp;<span style=\"color: red;\">axis = None</span> &nbsp;<span style=\"color: blue;\">(default)</span>"
   ]
  },
  {
   "cell_type": "code",
   "execution_count": 65,
   "id": "65eede50-5cc1-4685-a788-1c4d1d52e5dc",
   "metadata": {},
   "outputs": [
    {
     "name": "stdout",
     "output_type": "stream",
     "text": [
      "21\n"
     ]
    }
   ],
   "source": [
    "\n",
    "a = np.array([\n",
    "    [1, 2, 3],\n",
    "    [4, 5, 6]\n",
    "])\n",
    "\n",
    "total = np.sum(a, axis=None)           # sum of all the elements in the array\n",
    "print(total)\n"
   ]
  },
  {
   "cell_type": "markdown",
   "id": "d9cb7ed1-1a1a-4c10-a074-cb66a86afa2c",
   "metadata": {},
   "source": [
    "\n",
    "<u><span style=\"color: #a245ff;\">Case-2 :</span></u> &nbsp;&nbsp;<span style=\"color: red;\">axis = 0</span>"
   ]
  },
  {
   "cell_type": "code",
   "execution_count": 3,
   "id": "756f6635-1047-4163-9dbb-5ce6d53f1395",
   "metadata": {},
   "outputs": [
    {
     "name": "stdout",
     "output_type": "stream",
     "text": [
      "[5 7 9]\n"
     ]
    }
   ],
   "source": [
    "\n",
    "a = np.array([\n",
    "    [1, 2, 3],\n",
    "    [4, 5, 6]\n",
    "])\n",
    "\n",
    "total = np.sum(a, axis=0)              # sum of all elemnts for each column\n",
    "print(total)\n"
   ]
  },
  {
   "cell_type": "markdown",
   "id": "b5770503-ebc9-4746-b150-75c33bfcb299",
   "metadata": {},
   "source": [
    "<div style=\"margin-left: 90px;\">\n",
    "\n",
    "![](../media/numpy_14.PNG)\n",
    "\n",
    "</div>"
   ]
  },
  {
   "cell_type": "markdown",
   "id": "df1a0d50-7257-410f-885c-79d1e105c7f6",
   "metadata": {},
   "source": [
    "\n",
    "<u><span style=\"color: #a245ff;\">Case-3 :</span></u> &nbsp;&nbsp;<span style=\"color: red;\">axis = 1</span>"
   ]
  },
  {
   "cell_type": "code",
   "execution_count": 21,
   "id": "0ab9bdbf-87b0-4f8f-81d3-0ab2cb56395d",
   "metadata": {},
   "outputs": [
    {
     "name": "stdout",
     "output_type": "stream",
     "text": [
      "[ 6 15]\n"
     ]
    }
   ],
   "source": [
    "\n",
    "a = np.array([\n",
    "    [1, 2, 3],\n",
    "    [4, 5, 6]\n",
    "])\n",
    "\n",
    "total = np.sum(a, axis=1)              # sum of all elemnts for each row\n",
    "print(total)\n"
   ]
  },
  {
   "cell_type": "markdown",
   "id": "994931dc-b061-4953-83f9-93e60f76f324",
   "metadata": {},
   "source": [
    "<div style=\"margin-left: 80px;\">\n",
    "\n",
    "![](../media/numpy_15.PNG)\n",
    "\n",
    "</div>\n",
    "\n",
    "<u><span style=\"color: #a245ff;\">Case-4 :</span></u> &nbsp;&nbsp;<span style=\"color: red;\">axis = (0, 1)</span> &nbsp;<span style=\"color: blue;\">(sum of array along multiple axes)</span>"
   ]
  },
  {
   "cell_type": "code",
   "execution_count": 48,
   "id": "96cf5906-5cfb-403f-b0b1-b630c3f1e354",
   "metadata": {},
   "outputs": [
    {
     "name": "stdout",
     "output_type": "stream",
     "text": [
      "21\n"
     ]
    }
   ],
   "source": [
    "\n",
    "a = np.array([\n",
    "    [1, 2, 3],\n",
    "    [4, 5, 6]\n",
    "])\n",
    "\n",
    "total = np.sum(a, axis=(0,1))              # sum of all elemnts of array along first and second axes\n",
    "print(total)\n"
   ]
  },
  {
   "cell_type": "markdown",
   "id": "b7bda3dd-4315-4ea1-8a45-402682dab331",
   "metadata": {},
   "source": [
    "<div style=\"margin-left: 90px;\">\n",
    "\n",
    "![](../media/numpy_14and15combined.PNG)\n",
    "\n",
    "</div>"
   ]
  },
  {
   "cell_type": "markdown",
   "id": "7aa15e91-f939-416c-9c44-f51b3d976e99",
   "metadata": {},
   "source": [
    "<code style=\"color: white; background-color: black;\">Example - 3</code> &nbsp;&nbsp;<span style=\"color: #2fbd0b;\">3D array</span>"
   ]
  },
  {
   "cell_type": "code",
   "execution_count": 59,
   "id": "b508d598-8a6f-40dc-bf5c-2fc5c9e423cd",
   "metadata": {},
   "outputs": [
    {
     "name": "stdout",
     "output_type": "stream",
     "text": [
      "78\n"
     ]
    },
    {
     "data": {
      "text/plain": [
       "(2, 2, 3)"
      ]
     },
     "execution_count": 59,
     "metadata": {},
     "output_type": "execute_result"
    }
   ],
   "source": [
    "\n",
    "array = np.array([[[1, 2, 3], \n",
    "                   [4, 5, 6]], \n",
    "                  [[7, 8, 9], \n",
    "                   [10, 11, 12]]])\n",
    "\n",
    "\n",
    "total = np.sum(array, axis=None)               # finds the sum of all the elements of the array\n",
    "\n",
    "print(total)\n",
    "\n",
    "array.shape"
   ]
  },
  {
   "cell_type": "code",
   "execution_count": 60,
   "id": "caeed7a5-ac25-458f-9e93-714d3409c132",
   "metadata": {},
   "outputs": [
    {
     "name": "stdout",
     "output_type": "stream",
     "text": [
      "[[ 8 10 12]\n",
      " [14 16 18]]\n"
     ]
    }
   ],
   "source": [
    " \n",
    "array = np.array([[[1, 2, 3], \n",
    "                   [4, 5, 6]], \n",
    "                  [[7, 8, 9], \n",
    "                   [10, 11, 12]]])\n",
    "\n",
    "total = np.sum(array, axis=0)                  # finds the total value of the array along the axis = 0\n",
    "\n",
    "# Print the minimum value.\n",
    "print(total)\n"
   ]
  },
  {
   "cell_type": "code",
   "execution_count": 43,
   "id": "0a2a455a-facf-41e0-9f81-3bb81c9039ea",
   "metadata": {},
   "outputs": [
    {
     "name": "stdout",
     "output_type": "stream",
     "text": [
      "[[ 5  7  9]\n",
      " [17 19 21]]\n"
     ]
    }
   ],
   "source": [
    "\n",
    "array = np.array([[[1, 2, 3], \n",
    "                   [4, 5, 6]], \n",
    "                  [[7, 8, 9], \n",
    "                   [10, 11, 12]]])\n",
    "\n",
    "total = np.sum(array, axis=1)                  # finds the total value of the array along the axis = 1\n",
    "\n",
    "print(total)\n"
   ]
  },
  {
   "cell_type": "code",
   "execution_count": 44,
   "id": "30cca47f-37b5-4ea8-baff-4c0415989ff6",
   "metadata": {},
   "outputs": [
    {
     "name": "stdout",
     "output_type": "stream",
     "text": [
      "[[ 6 15]\n",
      " [24 33]]\n"
     ]
    },
    {
     "data": {
      "text/plain": [
       "3"
      ]
     },
     "execution_count": 44,
     "metadata": {},
     "output_type": "execute_result"
    }
   ],
   "source": [
    "\n",
    "array = np.array([[[1, 2, 3], \n",
    "                   [4, 5, 6]], \n",
    "                  [[7, 8, 9], \n",
    "                   [10, 11, 12]]])\n",
    "\n",
    "total = np.sum(array, axis=2)                  # finds the total value of the array along the axis = 2\n",
    "\n",
    "# Print the minimum value.\n",
    "print(total)\n",
    "\n",
    "array.ndim\n"
   ]
  },
  {
   "cell_type": "code",
   "execution_count": 55,
   "id": "4e5c1744-f1b3-493c-9a3c-846b13dcc222",
   "metadata": {},
   "outputs": [
    {
     "name": "stdout",
     "output_type": "stream",
     "text": [
      "[22 26 30]\n"
     ]
    }
   ],
   "source": [
    "\n",
    "array = np.array([[[1, 2, 3], \n",
    "                   [4, 5, 6]], \n",
    "                  [[7, 8, 9], \n",
    "                   [10, 11, 12]]])\n",
    "\n",
    "total = np.sum(array, axis=(0,1))              # finds the minimum value of the array along the first and second axes\n",
    "\n",
    "print(total)\n"
   ]
  },
  {
   "cell_type": "code",
   "execution_count": 56,
   "id": "c83fcd90-304e-44b1-912e-6a71889627a0",
   "metadata": {},
   "outputs": [
    {
     "name": "stdout",
     "output_type": "stream",
     "text": [
      "[30 48]\n"
     ]
    }
   ],
   "source": [
    "\n",
    "array = np.array([[[1, 2, 3], \n",
    "                   [4, 5, 6]], \n",
    "                  [[7, 8, 9], \n",
    "                   [10, 11, 12]]])\n",
    "\n",
    "total = np.sum(array, axis=(0, 2))             # finds the minimum value of the array along the first and third axes\n",
    "\n",
    "print(total)\n"
   ]
  },
  {
   "cell_type": "code",
   "execution_count": 57,
   "id": "1172d9ad-b986-4e08-aa07-0cb43f0e9c8e",
   "metadata": {},
   "outputs": [
    {
     "name": "stdout",
     "output_type": "stream",
     "text": [
      "[21 57]\n"
     ]
    }
   ],
   "source": [
    "\n",
    "array = np.array([[[1, 2, 3], \n",
    "                   [4, 5, 6]], \n",
    "                  [[7, 8, 9], \n",
    "                   [10, 11, 12]]])\n",
    "\n",
    "total = np.sum(array, axis=(1, 2))             # finds the minimum value of the array along the second and third axes\n",
    "\n",
    "print(total)\n"
   ]
  },
  {
   "cell_type": "code",
   "execution_count": null,
   "id": "7e67df45-3ffa-4c1d-8a5c-55e9ac38c8d2",
   "metadata": {},
   "outputs": [],
   "source": []
  },
  {
   "cell_type": "code",
   "execution_count": null,
   "id": "436833f2-064d-4b68-92ee-3059c8df7035",
   "metadata": {},
   "outputs": [],
   "source": []
  },
  {
   "cell_type": "code",
   "execution_count": null,
   "id": "6a97a9fa-bbaa-4225-ac9a-9aa7dd25313f",
   "metadata": {},
   "outputs": [],
   "source": []
  },
  {
   "cell_type": "code",
   "execution_count": null,
   "id": "68d2f5e1-4627-43b0-a09f-b7b540453fee",
   "metadata": {},
   "outputs": [],
   "source": []
  },
  {
   "cell_type": "markdown",
   "id": "bbd1df70-f69a-4248-811d-0f9b638d6e40",
   "metadata": {},
   "source": [
    "<br>\n",
    "\n",
    "<code style=\"color: white; background-color: black;\">Example - 4</code> &nbsp;&nbsp;<span style=\"color: #2fbd0b;\">Selecting numbers to include in the sum</span>\n",
    "\n",
    "To select specific number to include in the sum, you use the <span style=\"color: red;\">where</span> argument."
   ]
  },
  {
   "cell_type": "code",
   "execution_count": 82,
   "id": "33b311d7-93e7-46ba-989a-5264b543559d",
   "metadata": {},
   "outputs": [
    {
     "name": "stdout",
     "output_type": "stream",
     "text": [
      "7.0\n"
     ]
    }
   ],
   "source": [
    "\n",
    "# 1D array\n",
    "\n",
    "a = np.array([np.nan, 3, 4])                          # \"NaN\" stands for \"Not a Number\" and is used to represent undefined or missing values in datasets\n",
    "total = np.sum(a, where=[False, True, True])          # \"NaN\" = 0 while calculating SUM\n",
    "print(total)\n"
   ]
  },
  {
   "cell_type": "code",
   "execution_count": 84,
   "id": "9a4ab404-f5ed-4bc5-86a7-6e0348cb1810",
   "metadata": {},
   "outputs": [
    {
     "name": "stdout",
     "output_type": "stream",
     "text": [
      "[3. 6.]\n"
     ]
    }
   ],
   "source": [
    "\n",
    "# 2D array\n",
    "\n",
    "a = np.array([\n",
    "    [np.nan, 2],\n",
    "    [3, 4]\n",
    "])\n",
    "total = np.sum(a, axis=0, where=[[False, True], [True, True]])           # \"NaN\" = 0 while calculating SUM\n",
    "print(total)\n"
   ]
  },
  {
   "cell_type": "markdown",
   "id": "2e3279b6-96f3-41cb-acd2-3588c9982b8e",
   "metadata": {},
   "source": [
    "<br>\n",
    "\n",
    "<span style=\"font-size: 1.5rem;\">⭐</span> &nbsp;<strong>NaN</strong> stands for <strong>Not a Number</strong> and is used <span style=\"color: red;\">to represent undefined or missing values in datasets.</span> &nbsp;It is a special floating-point value defined by the IEEE 754 standard.\n",
    "\n",
    "<span style=\"font-size: 1.5rem;\">⭐</span> &nbsp;<strong>NaN</strong> = 0 &nbsp;while calculating SUM.\n",
    "\n",
    "<div style=\"display: flex;\">\n",
    "<div><span style=\"font-size: 1.5rem;\">⭐&nbsp;&nbsp;</span></div>\n",
    "<div>The where argument uses a boolean list to specify which element in the array a should be included in the sum. <br>If the value of the &nbsp;<code style=\"background-color: #e8daef;\">where</code>&nbsp; list is &nbsp;<code style=\"background-color: #e8daef;\">True</code>, the corresponding element of the input array will be included in the sum.</div>\n",
    "</div>\n",
    "\n",
    "<span style=\"font-size: 1.5rem;\">⭐</span> &nbsp;The <code style=\"background-color: yellow;\">sum()</code> function returns 0 if the array is empty. &nbsp;<span style=\"color: #a245ff;\">For example :</span>"
   ]
  },
  {
   "cell_type": "code",
   "execution_count": 89,
   "id": "e622f1c2-6f30-4ca3-9c9b-2c5eb5e329d9",
   "metadata": {},
   "outputs": [
    {
     "name": "stdout",
     "output_type": "stream",
     "text": [
      "result=0.0\n"
     ]
    }
   ],
   "source": [
    "\n",
    "result = np.sum(np.array([]))\n",
    "\n",
    "print(f'result={result}')\n"
   ]
  },
  {
   "cell_type": "markdown",
   "id": "4fe7626f-f92a-4b9d-9e11-c54e527c4964",
   "metadata": {},
   "source": [
    "<br>\n",
    "\n",
    "### <div style=\"color: white; background-color: #af87ff; padding: 5px;\"> <code style=\"font-size: 1.2rem; background-color: #af87ff; color: white;\"><strong>numpy.cumsum()</strong></code> </div>\n"
   ]
  },
  {
   "cell_type": "markdown",
   "id": "b31da164-a924-4e0f-8905-0806b51231e7",
   "metadata": {},
   "source": [
    "<code style=\"background-color: yellow; padding: 6px;\">numpy.<span style=\"color: red;\">cumsum(<span style=\"color: black;\">arr</span>, <span style=\"color: black;\">axis</span><span style=\"color: #9b96a1;\">=None</span>, <span style=\"color: black;\">where</span><span style=\"color: #9b96a1;\">=\\<no value></span>)</code> &nbsp;&nbsp;&nbsp;&nbsp;====>&nbsp;&nbsp;&nbsp;&nbsp;takes an array and returns the cumulative sum of the elements along a given axis. (<u>None</u>, be default)</span>\n",
    "\n",
    "<br>\n",
    "\n",
    "<code style=\"color: white; background-color: black;\">Example - 1</code> &nbsp;&nbsp;<span style=\"color: #2fbd0b;\">1D array</span>"
   ]
  },
  {
   "cell_type": "code",
   "execution_count": 28,
   "id": "d04b2e70-38ac-4e12-b469-8edcdb56139f",
   "metadata": {},
   "outputs": [
    {
     "name": "stdout",
     "output_type": "stream",
     "text": [
      "[1 3 6]\n"
     ]
    }
   ],
   "source": [
    "\n",
    "a = np.array([1, 2, 3])\n",
    "cumulative_total = np.cumsum(a)                        # cumulative of all the elements in the array\n",
    "print(cumulative_total)\n"
   ]
  },
  {
   "cell_type": "markdown",
   "id": "e93c938d-578d-4e85-bed7-51441d1abf93",
   "metadata": {},
   "source": [
    "<br>\n",
    "\n",
    "<code style=\"color: white; background-color: black;\">Example - 2</code> &nbsp;&nbsp;<span style=\"color: #2fbd0b;\">2D array</span>\n",
    "\n",
    "<u><span style=\"color: #a245ff;\">Case-1 :</span></u> &nbsp;&nbsp;<span style=\"color: red;\">axis = None</span> &nbsp;<span style=\"color: blue;\">(default)</span>"
   ]
  },
  {
   "cell_type": "code",
   "execution_count": 30,
   "id": "beda629f-84d7-4c98-bdff-67a7fa88263a",
   "metadata": {},
   "outputs": [
    {
     "name": "stdout",
     "output_type": "stream",
     "text": [
      "[ 1  3  6 10 15 21]\n"
     ]
    }
   ],
   "source": [
    "\n",
    "a = np.array([\n",
    "    [1, 2, 3],\n",
    "    [4, 5, 6]\n",
    "])\n",
    "cumulative_total = np.cumsum(a, axis=None)\n",
    "print(cumulative_total)\n"
   ]
  },
  {
   "cell_type": "markdown",
   "id": "42513d27-64bc-4bd3-aae1-47ef9224755f",
   "metadata": {},
   "source": [
    "<u><span style=\"color: #a245ff;\">Case-2 :</span></u> &nbsp;&nbsp;<span style=\"color: red;\">axis = 0</span>"
   ]
  },
  {
   "cell_type": "code",
   "execution_count": 35,
   "id": "f35bd86f-e975-43bb-b8df-211920dcf7e2",
   "metadata": {},
   "outputs": [
    {
     "name": "stdout",
     "output_type": "stream",
     "text": [
      "[[1 2 3]\n",
      " [5 7 9]]\n"
     ]
    }
   ],
   "source": [
    "\n",
    "a = np.array([\n",
    "    [1, 2, 3],\n",
    "    [4, 5, 6]\n",
    "])\n",
    "cumulative_total = np.cumsum(a, axis=0)\n",
    "print(cumulative_total)\n"
   ]
  },
  {
   "cell_type": "markdown",
   "id": "41415af7-70f9-44a2-bd7e-ea38fcf401c3",
   "metadata": {},
   "source": [
    "<u><span style=\"color: #a245ff;\">Case-3 :</span></u> &nbsp;&nbsp;<span style=\"color: red;\">axis = 1</span>"
   ]
  },
  {
   "cell_type": "code",
   "execution_count": 36,
   "id": "0b0b852f-f9e8-44e8-8480-6826b7dfb344",
   "metadata": {},
   "outputs": [
    {
     "name": "stdout",
     "output_type": "stream",
     "text": [
      "[[ 1  3  6]\n",
      " [ 4  9 15]]\n"
     ]
    }
   ],
   "source": [
    "\n",
    "a = np.array([\n",
    "    [1, 2, 3],\n",
    "    [4, 5, 6]\n",
    "])\n",
    "cumulative_total = np.cumsum(a, axis=1)\n",
    "print(cumulative_total)\n"
   ]
  },
  {
   "cell_type": "markdown",
   "id": "443dbe4e-bbf7-49a1-92b9-44e4eb9edc1b",
   "metadata": {},
   "source": [
    "<br>\n",
    "\n",
    "### <div style=\"color: white; background-color: #af87ff; padding: 5px;\"> <code style=\"font-size: 1.2rem; background-color: #af87ff; color: white;\"><strong>numpy.mean()</strong></code> </div>\n"
   ]
  },
  {
   "cell_type": "markdown",
   "id": "b27247c9-c96e-4586-b349-a69ea4a77a96",
   "metadata": {},
   "source": [
    "<code style=\"background-color: yellow; padding: 6px;\">numpy.<span style=\"color: red;\">mean(<span style=\"color: black;\">arr</span>, <span style=\"color: black;\">axis</span><span style=\"color: #9b96a1;\">=None</span>, <span style=\"color: black;\">where</span><span style=\"color: #9b96a1;\">=\\<no value></span>)</code> &nbsp;&nbsp;&nbsp;&nbsp;====>&nbsp;&nbsp;&nbsp;&nbsp;takes an array and returns the average of all elements of the array.</span>\n",
    "\n",
    "<br>\n",
    "\n",
    "<code style=\"color: white; background-color: black;\">Example - 1</code> &nbsp;&nbsp;<span style=\"color: #2fbd0b;\">1D array</span>\n"
   ]
  },
  {
   "cell_type": "code",
   "execution_count": 8,
   "id": "bef58870-9b2d-4283-80b5-5f2df3a6d802",
   "metadata": {},
   "outputs": [
    {
     "name": "stdout",
     "output_type": "stream",
     "text": [
      "2.0\n"
     ]
    }
   ],
   "source": [
    "\n",
    "a = np.array([1, 2, 3])\n",
    "average = np.mean(a)\n",
    "print(average)\n"
   ]
  },
  {
   "cell_type": "markdown",
   "id": "553d6a8b-5e45-4f99-a526-0f48368e8d0f",
   "metadata": {},
   "source": [
    "<br>\n",
    "\n",
    "<code style=\"color: white; background-color: black;\">Example - 2</code> &nbsp;&nbsp;<span style=\"color: #2fbd0b;\">2D array</span>\n",
    "\n",
    "<u><span style=\"color: #a245ff;\">Case-1 :</span></u> &nbsp;&nbsp;<span style=\"color: red;\">axis = None</span> &nbsp;<span style=\"color: blue;\">(default)</span>"
   ]
  },
  {
   "cell_type": "code",
   "execution_count": 40,
   "id": "2bad24f9-eb6b-48d3-a2b1-59c90eeba8b6",
   "metadata": {},
   "outputs": [
    {
     "name": "stdout",
     "output_type": "stream",
     "text": [
      "3.5\n"
     ]
    }
   ],
   "source": [
    "\n",
    "a = np.array([\n",
    "    [1, 2, 3],\n",
    "    [4, 5, 6]\n",
    "])\n",
    "average = np.mean(a, axis=None)\n",
    "print(average)\n"
   ]
  },
  {
   "cell_type": "markdown",
   "id": "acbcd9d8-41b8-42ad-b06d-42865a8f6d6d",
   "metadata": {},
   "source": [
    "<u><span style=\"color: #a245ff;\">Case-2 :</span></u> &nbsp;&nbsp;<span style=\"color: red;\">axis = 0</span>"
   ]
  },
  {
   "cell_type": "code",
   "execution_count": 32,
   "id": "98460f22-629c-4dac-9803-042110647f36",
   "metadata": {},
   "outputs": [
    {
     "name": "stdout",
     "output_type": "stream",
     "text": [
      "[2.5 3.5 4.5]\n"
     ]
    }
   ],
   "source": [
    "\n",
    "a = np.array([\n",
    "    [1, 2, 3],\n",
    "    [4, 5, 6]\n",
    "])\n",
    "average = np.mean(a, axis=0)\n",
    "print(average)\n"
   ]
  },
  {
   "cell_type": "markdown",
   "id": "08d6a3c8-6050-4bd0-9643-e3d2ba5e6019",
   "metadata": {},
   "source": [
    "<div style=\"margin-left: 100px;\">\n",
    "\n",
    "![](../media/numpy_16.PNG)\n",
    "\n",
    "</div>\n",
    "\n",
    "<u><span style=\"color: #a245ff;\">Case-3 :</span></u> &nbsp;&nbsp;<span style=\"color: red;\">axis = 1</span>"
   ]
  },
  {
   "cell_type": "code",
   "execution_count": 16,
   "id": "ae9905cb-62ec-48cd-9b7a-1bca296cf68a",
   "metadata": {},
   "outputs": [
    {
     "name": "stdout",
     "output_type": "stream",
     "text": [
      "[2. 5.]\n"
     ]
    }
   ],
   "source": [
    "\n",
    "a = np.array([\n",
    "    [1, 2, 3],\n",
    "    [4, 5, 6]\n",
    "])\n",
    "average = np.mean(a, axis=1)\n",
    "print(average)\n"
   ]
  },
  {
   "cell_type": "markdown",
   "id": "bcd28bf2-1099-4c18-93a9-0def7dac332c",
   "metadata": {},
   "source": [
    "<div style=\"margin-left: 90px;\">\n",
    "\n",
    "![](../media/numpy_17.PNG)\n",
    "\n",
    "</div>\n"
   ]
  },
  {
   "cell_type": "markdown",
   "id": "b13c18d4-1dfd-47a1-8169-6e47a1d984c6",
   "metadata": {},
   "source": [
    "<br>\n",
    "\n",
    "### <div style=\"color: white; background-color: #af87ff; padding: 5px;\"> <code style=\"font-size: 1.2rem; background-color: #af87ff; color: white;\"><strong>numpy.var()</strong></code> </div>\n"
   ]
  },
  {
   "cell_type": "markdown",
   "id": "84f9cd2a-3c80-44be-a958-b2bfe417797b",
   "metadata": {},
   "source": [
    "<code style=\"background-color: yellow; padding: 6px;\">numpy.<span style=\"color: red;\">var(<span style=\"color: black;\">arr</span>, <span style=\"color: black;\">axis</span><span style=\"color: #9b96a1;\">=None</span>, <span style=\"color: black;\">where</span><span style=\"color: #9b96a1;\">=\\<no value></span>)</code> &nbsp;&nbsp;==>&nbsp;&nbsp;takes an array & returns the average of the squared difference of each number by the mean along a given axis.</span>\n",
    "\n",
    "<br>\n"
   ]
  },
  {
   "cell_type": "code",
   "execution_count": 17,
   "id": "01378968-154e-418f-9410-2b47c1912e8a",
   "metadata": {},
   "outputs": [
    {
     "name": "stdout",
     "output_type": "stream",
     "text": [
      "0.667\n"
     ]
    }
   ],
   "source": [
    "\n",
    "a = np.array([1, 2, 3])\n",
    "result = np.var(a)\n",
    "print(round(result,3))\n"
   ]
  },
  {
   "cell_type": "markdown",
   "id": "77065648-0c53-47ff-a392-b5b270f84a22",
   "metadata": {
    "jp-MarkdownHeadingCollapsed": true
   },
   "source": [
    "<br><br>\n",
    "\n",
    "### <div style=\"color: white; background-color: #af87ff; padding: 5px;\"> <code style=\"font-size: 1.2rem; background-color: #af87ff; color: white;\"><strong>numpy.std()</strong></code> </div>\n"
   ]
  },
  {
   "cell_type": "markdown",
   "id": "dabdd438-4bd9-4368-a061-571b48428e9e",
   "metadata": {},
   "source": [
    "<code style=\"background-color: yellow; padding: 6px;\">numpy.<span style=\"color: red;\">std(<span style=\"color: black;\">arr</span>, <span style=\"color: black;\">axis</span><span style=\"color: #9b96a1;\">=None</span>, <span style=\"color: black;\">where</span><span style=\"color: #9b96a1;\">=\\<no value></span>)</code> &nbsp;&nbsp;&nbsp;&nbsp;====>&nbsp;&nbsp;&nbsp;&nbsp;average of the squared difference of each number by the mean</span>\n",
    "\n",
    "<span style=\"margin-left: 348px;\">&nbsp;&nbsp;&nbsp;&nbsp;====>&nbsp;&nbsp;&nbsp;&nbsp;It measures how spread out the elements of an array is.</span> <span style=\"margin-left: 427px;\">The more spread out elements is, the greater their standard deviation.</span>\n",
    "\n",
    "<br>\n"
   ]
  },
  {
   "cell_type": "code",
   "execution_count": 25,
   "id": "825e0946-9e3e-49e6-8f4a-d6dcf4488bd5",
   "metadata": {},
   "outputs": [
    {
     "name": "stdout",
     "output_type": "stream",
     "text": [
      "109.6\n"
     ]
    }
   ],
   "source": [
    "\n",
    "diameters = np.array([591, 239, 210, 207, 201, 182, 176, 176, 175, 170, 170, 169, 168, ])\n",
    "result = np.std(diameters)\n",
    "print(round(result, 1))\n"
   ]
  },
  {
   "cell_type": "markdown",
   "id": "901a1635-f78f-4502-b36b-33ed65d1c084",
   "metadata": {},
   "source": [
    "<br><br>\n",
    "\n",
    "### <div style=\"color: white; background-color: #af87ff; padding: 5px;\"> <code style=\"font-size: 1.2rem; background-color: #af87ff; color: white;\"><strong>numpy.prod()</strong></code> </div>\n"
   ]
  },
  {
   "cell_type": "markdown",
   "id": "4285d4c5-8344-4edd-9e6b-79e46fadb44b",
   "metadata": {},
   "source": [
    "\n",
    "<code style=\"background-color: yellow; padding: 6px;\">numpy.<span style=\"color: red;\">prod(<span style=\"color: black;\">arr</span>, <span style=\"color: black;\">axis</span><span style=\"color: #9b96a1;\">=None</span>, <span style=\"color: black;\">where</span><span style=\"color: #9b96a1;\">=\\<no value></span>)</code> &nbsp;&nbsp;&nbsp;&nbsp;====>&nbsp;&nbsp;&nbsp;&nbsp;takes an array and calculates the product of numbers in an array along a given axis.</span>\n",
    "\n",
    "<br>\n",
    "\n",
    "<code style=\"color: white; background-color: black;\">Example - 1</code> &nbsp;<span style=\"color: #2fbd0b;\">1D array</span>"
   ]
  },
  {
   "cell_type": "code",
   "execution_count": 46,
   "id": "e90b8502-f7e9-40ae-98b5-a1031ade20fd",
   "metadata": {},
   "outputs": [
    {
     "name": "stdout",
     "output_type": "stream",
     "text": [
      "[1 2 3 4]\n",
      "result=24\n"
     ]
    }
   ],
   "source": [
    "\n",
    "a = np.arange(1, 5)                        # [1   2   3   4]\n",
    "result = np.prod(a)                        # 1*2*3*4  =  24\n",
    "\n",
    "print(a)\n",
    "print(f'result={result}')\n"
   ]
  },
  {
   "cell_type": "markdown",
   "id": "4d0c265e-3c57-440e-a69c-1157bfd67068",
   "metadata": {},
   "source": [
    "<br>\n",
    "\n",
    "<code style=\"color: white; background-color: black;\">Example - 2</code> &nbsp;<span style=\"color: #2fbd0b;\">2D array</span>\n",
    "\n",
    "<u><span style=\"color: #a245ff;\">Case-1 :</span></u> &nbsp;&nbsp;<span style=\"color: red;\">axis = None</span> &nbsp;<span style=\"color: blue;\">(default)</span>"
   ]
  },
  {
   "cell_type": "code",
   "execution_count": 50,
   "id": "b8cdd797-625e-437d-9082-61bbc0625dfc",
   "metadata": {},
   "outputs": [
    {
     "name": "stdout",
     "output_type": "stream",
     "text": [
      "24\n"
     ]
    }
   ],
   "source": [
    "\n",
    "a = np.array([\n",
    "    [1, 2],\n",
    "    [3, 4]\n",
    "])\n",
    "result = np.product(a, axis=None)          # 1*2*3*4  =  24\n",
    "print(result)\n"
   ]
  },
  {
   "cell_type": "markdown",
   "id": "0a337d13-7146-41c6-9521-96e725f81e7e",
   "metadata": {},
   "source": [
    "<u><span style=\"color: #a245ff;\">Case-2 :</span></u> &nbsp;&nbsp;<span style=\"color: red;\">axis = 0</span>"
   ]
  },
  {
   "cell_type": "code",
   "execution_count": 51,
   "id": "ed2059c5-1092-46ef-9867-267d1e66a152",
   "metadata": {},
   "outputs": [
    {
     "name": "stdout",
     "output_type": "stream",
     "text": [
      "[3 8]\n"
     ]
    }
   ],
   "source": [
    "\n",
    "a = np.array([\n",
    "    [1, 2],\n",
    "    [3, 4]\n",
    "])\n",
    "result = np.product(a, axis=0)\n",
    "print(result)\n"
   ]
  },
  {
   "cell_type": "markdown",
   "id": "d23e8ee8-73fd-4dfa-a5e6-931f884511dc",
   "metadata": {},
   "source": [
    "<div style=\"margin-left: 90px;\">\n",
    "\n",
    "![](../media/numpy_18.PNG)\n",
    "\n",
    "</div>\n",
    "\n",
    "<u><span style=\"color: #a245ff;\">Case-3 :</span></u> &nbsp;&nbsp;<span style=\"color: red;\">axis = 1</span>"
   ]
  },
  {
   "cell_type": "code",
   "execution_count": 52,
   "id": "b25a12e0-a334-4950-9b2d-bb1a3ee51753",
   "metadata": {},
   "outputs": [
    {
     "name": "stdout",
     "output_type": "stream",
     "text": [
      "[ 2 12]\n"
     ]
    }
   ],
   "source": [
    "\n",
    "a = np.array([\n",
    "    [1, 2],\n",
    "    [3, 4]\n",
    "])\n",
    "result = np.product(a, axis=1)\n",
    "print(result)\n"
   ]
  },
  {
   "cell_type": "markdown",
   "id": "744fa798-cd5b-4986-814c-669473055e15",
   "metadata": {},
   "source": [
    "<div style=\"margin-left: 100px;\">\n",
    "\n",
    "![](../media/numpy_19.PNG)\n",
    "\n",
    "</div>\n",
    "\n",
    "<br>\n",
    "\n",
    "<code style=\"color: white; background-color: black;\">Example - 3</code> &nbsp;&nbsp;<span style=\"color: #2fbd0b;\">Selecting numbers to include in the product</span>\n",
    "\n",
    "To select specific number to include in the product, you use the where argument."
   ]
  },
  {
   "cell_type": "code",
   "execution_count": 90,
   "id": "625437eb-b3a7-4202-b171-42f5021a504d",
   "metadata": {},
   "outputs": [
    {
     "name": "stdout",
     "output_type": "stream",
     "text": [
      "12.0\n"
     ]
    }
   ],
   "source": [
    "\n",
    "# 1D array\n",
    "\n",
    "a = np.array([np.nan, 3, 4])                         # \"NaN\" stands for \"Not a Number\" and is used to represent undefined or missing values in datasets.\n",
    "result = np.prod(a, where=[False, True, True])       # \"NaN\" = 1 while calculating product\n",
    "print(result)\n"
   ]
  },
  {
   "cell_type": "code",
   "execution_count": 91,
   "id": "a93a577f-811a-447d-9059-ba5a93afcafc",
   "metadata": {},
   "outputs": [
    {
     "name": "stdout",
     "output_type": "stream",
     "text": [
      "[3. 8.]\n"
     ]
    }
   ],
   "source": [
    "\n",
    "# 2D array\n",
    "\n",
    "a = np.array([\n",
    "    [np.nan, 2],\n",
    "    [3, 4]\n",
    "])\n",
    "result = np.product(a, axis=0, where=[[False, True], [True, True]])\n",
    "print(result)\n"
   ]
  },
  {
   "cell_type": "markdown",
   "id": "d253c9ef-8da0-43cc-a0de-0a8688cc7683",
   "metadata": {},
   "source": [
    "<br>\n",
    "\n",
    "<span style=\"font-size: 1.5rem;\">⭐</span> &nbsp;<code style=\"background-color: #e8daef;\">NaN = 1</code> &nbsp;while calculating PRODUCT\n",
    "\n",
    "<br>"
   ]
  },
  {
   "cell_type": "markdown",
   "id": "cb511174-3b33-4f4d-b88f-aa5c80a6530c",
   "metadata": {},
   "source": [
    "<code style=\"color: white; background-color: black;\">Example - 4</code> &nbsp;&nbsp;<span style=\"color: #2fbd0b;\">Special Cases</span>"
   ]
  },
  {
   "cell_type": "code",
   "execution_count": 56,
   "id": "91a6b46b-8587-4699-a7ce-61b08102c5d1",
   "metadata": {},
   "outputs": [
    {
     "name": "stdout",
     "output_type": "stream",
     "text": [
      "result=0\n"
     ]
    }
   ],
   "source": [
    "\n",
    "result = np.prod(np.arange(1, 100))\n",
    "print(f'result={result}')\n"
   ]
  },
  {
   "cell_type": "markdown",
   "id": "e1c4c40f-26fc-4fc3-9fdb-7adb353e0fd8",
   "metadata": {},
   "source": [
    "\n",
    "<span style=\"font-size: 1.5rem;\">⭐</span> &nbsp;The <code style=\"background-color: yellow;\">prod()</code> function returns 1 if the array is empty. &nbsp;<span style=\"color: #a245ff;\">For example :</span>"
   ]
  },
  {
   "cell_type": "code",
   "execution_count": 86,
   "id": "c0630e10-0017-49c1-93a5-aacea9c9d775",
   "metadata": {},
   "outputs": [
    {
     "name": "stdout",
     "output_type": "stream",
     "text": [
      "result=1.0\n"
     ]
    }
   ],
   "source": [
    "\n",
    "result = np.prod(np.array([]))\n",
    "\n",
    "print(f'result={result}')\n"
   ]
  },
  {
   "cell_type": "code",
   "execution_count": 88,
   "id": "eb1016a5-ec37-4f80-89bf-c7e9fed27d5d",
   "metadata": {},
   "outputs": [
    {
     "name": "stdout",
     "output_type": "stream",
     "text": [
      "result=0.0\n"
     ]
    }
   ],
   "source": [
    "\n",
    "\n",
    "result = np.sum(np.array([]))\n",
    "\n",
    "print(f'result={result}')\n"
   ]
  },
  {
   "cell_type": "markdown",
   "id": "00e0d55a-734e-4c8a-8fb7-9cc2059bec31",
   "metadata": {},
   "source": [
    "<br><br>\n",
    "\n",
    "### <div style=\"color: white; background-color: #af87ff; padding: 5px;\"> <code style=\"font-size: 1.2rem; background-color: #af87ff; color: white;\"><strong>numpy.amin()</strong></code> </div>\n"
   ]
  },
  {
   "cell_type": "markdown",
   "id": "6fa8f025-066c-4137-a652-0be99ed5c298",
   "metadata": {},
   "source": [
    "<code style=\"background-color: yellow; padding: 6px;\">numpy.<span style=\"color: red;\">amin(<span style=\"color: black;\">arr</span>, <span style=\"color: black;\">axis</span><span style=\"color: #9b96a1;\">=None</span>, <span style=\"color: black;\">out</span><span style=\"color: #9b96a1;\">=None</span>, <span style=\"color: black;\">keepdims</span><span style=\"color: #9b96a1;\">=\\<no value></span>, <span style=\"color: black;\">initial</span><span style=\"color: #9b96a1;\">=\\<no value></span>, <span style=\"color: black;\">where</span><span style=\"color: #9b96a1;\">=\\<no value></span>)</code>\n",
    "\n",
    "========>&nbsp;&nbsp;&nbsp;&nbsp;returns the minimum element of an array or minimum element along an axis.</span>\n",
    "\n",
    "========>&nbsp;&nbsp;&nbsp;&nbsp;It is equivalent to &nbsp;<code style=\"background-color: #efd0ff; padding: 6px;\">ndarray.<span style=\"color: red;\">min(<span style=\"color: black;\">arr</span>, <span style=\"color: black;\">axis</span><span style=\"color: #9b96a1;\">=None</span>, <span style=\"color: black;\">out</span><span style=\"color: #9b96a1;\">=None</span>, <span style=\"color: black;\">keepdims</span><span style=\"color: #9b96a1;\">=\\<no value></span>, <span style=\"color: black;\">initial</span><span style=\"color: #9b96a1;\">=\\<no value></span>, <span style=\"color: black;\">where</span><span style=\"color: #9b96a1;\">=\\<no value></span>)</code> \n",
    "\n",
    "<br>\n",
    "\n",
    "<code style=\"color: white; background-color: black;\">Example - 1</code> &nbsp;<span style=\"color: #2fbd0b;\">1D array</span>"
   ]
  },
  {
   "cell_type": "code",
   "execution_count": 5,
   "id": "b3dc1262-a022-453d-9ddb-42d24dbf4740",
   "metadata": {},
   "outputs": [
    {
     "name": "stdout",
     "output_type": "stream",
     "text": [
      "1\n"
     ]
    }
   ],
   "source": [
    "\n",
    "a = np.array([1, 2, 3])\n",
    "min = np.amin(a)\n",
    "print(min)\n"
   ]
  },
  {
   "cell_type": "markdown",
   "id": "a057da5c-3717-4104-939d-30d09f9d8e90",
   "metadata": {},
   "source": [
    "<code style=\"color: white; background-color: black;\">Example - 2</code> &nbsp;<span style=\"color: #2fbd0b;\">2D array</span>\n",
    "\n",
    "<u><span style=\"color: #a245ff;\">Case-1 :</span></u> &nbsp;&nbsp;<span style=\"color: red;\">axis = None</span> &nbsp;<span style=\"color: blue;\">(default)</span>"
   ]
  },
  {
   "cell_type": "code",
   "execution_count": 7,
   "id": "a6c963a4-718b-4624-9077-fd465d8aa1ed",
   "metadata": {},
   "outputs": [
    {
     "name": "stdout",
     "output_type": "stream",
     "text": [
      "1\n"
     ]
    }
   ],
   "source": [
    "\n",
    "a = np.array([\n",
    "    [1, 2],\n",
    "    [3, 4]]\n",
    ")\n",
    "min = np.amin(a)\n",
    "print(min)\n"
   ]
  },
  {
   "cell_type": "markdown",
   "id": "940f5fcb-06c0-4b12-88d3-8b59ff0d5f9e",
   "metadata": {},
   "source": [
    "<u><span style=\"color: #a245ff;\">Case-2 :</span></u> &nbsp;&nbsp;<span style=\"color: red;\">axis = 0</span>"
   ]
  },
  {
   "cell_type": "code",
   "execution_count": 18,
   "id": "4ab9c295-b1b4-4af1-b41d-b6fb4f50a15a",
   "metadata": {},
   "outputs": [
    {
     "name": "stdout",
     "output_type": "stream",
     "text": [
      "[1 2]\n"
     ]
    }
   ],
   "source": [
    "\n",
    "a = np.array([\n",
    "    [1, 2],\n",
    "    [3, 4]]\n",
    ")\n",
    "min = np.amin(a, axis=0)\n",
    "print(min)\n"
   ]
  },
  {
   "cell_type": "markdown",
   "id": "bd5875c4-0b8d-4466-9b94-45d40f414bd0",
   "metadata": {},
   "source": [
    "<u><span style=\"color: #a245ff;\">Case-3 :</span></u> &nbsp;&nbsp;<span style=\"color: red;\">axis = 1</span>"
   ]
  },
  {
   "cell_type": "code",
   "execution_count": 19,
   "id": "1b43621a-3195-426c-9ce7-6be0c60b8374",
   "metadata": {},
   "outputs": [
    {
     "name": "stdout",
     "output_type": "stream",
     "text": [
      "[1 2]\n"
     ]
    }
   ],
   "source": [
    "\n",
    "a = np.array([\n",
    "    [1, 2],\n",
    "    [3, 4]]\n",
    ")\n",
    "min = np.amin(a, axis=0)\n",
    "print(min)\n"
   ]
  },
  {
   "cell_type": "markdown",
   "id": "ce74363c-f010-4412-ad99-9e2326a9cfc4",
   "metadata": {},
   "source": [
    "<br><br>\n",
    "\n",
    "### <div style=\"color: white; background-color: #af87ff; padding: 5px;\"> <code style=\"font-size: 1.2rem; background-color: #af87ff; color: white;\"><strong>numpy.amax()</strong></code> </div>\n"
   ]
  },
  {
   "cell_type": "markdown",
   "id": "f93fa9f0-deca-46ed-93c2-b0214bfdb5a0",
   "metadata": {},
   "source": [
    "<code style=\"background-color: yellow; padding: 6px;\">numpy.<span style=\"color: red;\">amax(<span style=\"color: black;\">arr</span>, <span style=\"color: black;\">axis</span><span style=\"color: #9b96a1;\">=None</span>, <span style=\"color: black;\">out</span><span style=\"color: #9b96a1;\">=None</span>, <span style=\"color: black;\">keepdims</span><span style=\"color: #9b96a1;\">=\\<no value></span>, <span style=\"color: black;\">initial</span><span style=\"color: #9b96a1;\">=\\<no value></span>, <span style=\"color: black;\">where</span><span style=\"color: #9b96a1;\">=\\<no value></span>)</code>\n",
    "\n",
    "========>&nbsp;&nbsp;&nbsp;&nbsp;returns the maximum element of an array or minimum element along an axis.</span>\n",
    "\n",
    "========>&nbsp;&nbsp;&nbsp;&nbsp;It is equivalent to &nbsp;<code style=\"background-color: #efd0ff; padding: 6px;\">ndarray.<span style=\"color: red;\">max(<span style=\"color: black;\">arr</span>, <span style=\"color: black;\">axis</span><span style=\"color: #9b96a1;\">=None</span>, <span style=\"color: black;\">out</span><span style=\"color: #9b96a1;\">=None</span>, <span style=\"color: black;\">keepdims</span><span style=\"color: #9b96a1;\">=\\<no value></span>, <span style=\"color: black;\">initial</span><span style=\"color: #9b96a1;\">=\\<no value></span>, <span style=\"color: black;\">where</span><span style=\"color: #9b96a1;\">=\\<no value></span>)</code> \n",
    "\n",
    "<br>\n",
    "\n",
    "<code style=\"color: white; background-color: black;\">Example - 1</code> &nbsp;<span style=\"color: #2fbd0b;\">1D array</span>"
   ]
  },
  {
   "cell_type": "code",
   "execution_count": 6,
   "id": "8984302b-028e-4bf5-88bc-ad4bb6dba0ed",
   "metadata": {},
   "outputs": [
    {
     "name": "stdout",
     "output_type": "stream",
     "text": [
      "3\n"
     ]
    }
   ],
   "source": [
    "\n",
    "a = np.array([1, 2, 3])\n",
    "min = np.amax(a)\n",
    "print(min)\n"
   ]
  },
  {
   "cell_type": "markdown",
   "id": "bed6bdb8-b397-4609-880a-64be64f89f9c",
   "metadata": {},
   "source": [
    "<br>\n",
    "\n",
    "<code style=\"color: white; background-color: black;\">Example - 2</code> &nbsp;<span style=\"color: #2fbd0b;\">2D array</span>\n",
    "\n",
    "<u><span style=\"color: #a245ff;\">Case-1 :</span></u> &nbsp;&nbsp;<span style=\"color: red;\">axis = None</span> &nbsp;<span style=\"color: blue;\">(default)</span>"
   ]
  },
  {
   "cell_type": "code",
   "execution_count": 15,
   "id": "4d2bfd63-f137-4664-8a08-600cfa586068",
   "metadata": {},
   "outputs": [
    {
     "name": "stdout",
     "output_type": "stream",
     "text": [
      "4\n"
     ]
    }
   ],
   "source": [
    "\n",
    "a = np.array([\n",
    "    [1, 2],\n",
    "    [3, 4]]\n",
    ")\n",
    "max = np.amax(a)\n",
    "print(max)\n"
   ]
  },
  {
   "cell_type": "markdown",
   "id": "62d90b37-c8b4-4d0a-869b-13b7c0da8e87",
   "metadata": {},
   "source": [
    "<u><span style=\"color: #a245ff;\">Case-2 :</span></u> &nbsp;&nbsp;<span style=\"color: red;\">axis = 0</span>"
   ]
  },
  {
   "cell_type": "code",
   "execution_count": 16,
   "id": "d3f88cc9-a4c4-467c-860d-8dea74711de4",
   "metadata": {},
   "outputs": [
    {
     "name": "stdout",
     "output_type": "stream",
     "text": [
      "[3 4]\n"
     ]
    }
   ],
   "source": [
    "\n",
    "a = np.array([\n",
    "    [1, 2],\n",
    "    [3, 4]]\n",
    ")\n",
    "max = np.amax(a, axis=0)\n",
    "print(max)\n"
   ]
  },
  {
   "cell_type": "markdown",
   "id": "3bbb383b-0a76-4d72-bc8e-cfb563cbf757",
   "metadata": {},
   "source": [
    "<u><span style=\"color: #a245ff;\">Case-3 :</span></u> &nbsp;&nbsp;<span style=\"color: red;\">axis = 1</span>"
   ]
  },
  {
   "cell_type": "code",
   "execution_count": 17,
   "id": "67eb0f13-32e1-43b8-bb57-ef9747223c71",
   "metadata": {},
   "outputs": [
    {
     "name": "stdout",
     "output_type": "stream",
     "text": [
      "[2 4]\n"
     ]
    }
   ],
   "source": [
    "\n",
    "a = np.array([\n",
    "    [1, 2],\n",
    "    [3, 4]]\n",
    ")\n",
    "max = np.amax(a, axis=1)\n",
    "print(max)\n"
   ]
  },
  {
   "cell_type": "code",
   "execution_count": null,
   "id": "d1218b71-b7e6-49b0-9730-58c4446d9175",
   "metadata": {},
   "outputs": [],
   "source": []
  },
  {
   "cell_type": "code",
   "execution_count": null,
   "id": "8a9b754c-3c6c-4f39-b8f6-0d18317dbb1b",
   "metadata": {},
   "outputs": [],
   "source": []
  },
  {
   "cell_type": "code",
   "execution_count": null,
   "id": "8df17c9a-d7c0-45d3-9fdd-269d03c9181b",
   "metadata": {},
   "outputs": [],
   "source": []
  },
  {
   "cell_type": "code",
   "execution_count": null,
   "id": "e5b4a37c-f10b-4774-b722-9686a30ac920",
   "metadata": {},
   "outputs": [],
   "source": []
  },
  {
   "cell_type": "code",
   "execution_count": null,
   "id": "cdbcd6d6-5c5e-4b97-8191-c8012698e1b5",
   "metadata": {},
   "outputs": [],
   "source": []
  },
  {
   "cell_type": "code",
   "execution_count": null,
   "id": "74272d3c-5ade-4d9d-b247-f949659a4071",
   "metadata": {},
   "outputs": [],
   "source": []
  }
 ],
 "metadata": {
  "kernelspec": {
   "display_name": "Python 3 (ipykernel)",
   "language": "python",
   "name": "python3"
  },
  "language_info": {
   "codemirror_mode": {
    "name": "ipython",
    "version": 3
   },
   "file_extension": ".py",
   "mimetype": "text/x-python",
   "name": "python",
   "nbconvert_exporter": "python",
   "pygments_lexer": "ipython3",
   "version": "3.11.3"
  }
 },
 "nbformat": 4,
 "nbformat_minor": 5
}
