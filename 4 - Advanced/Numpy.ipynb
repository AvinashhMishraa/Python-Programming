{
 "cells": [
  {
   "cell_type": "markdown",
   "id": "992ee97e-982d-4221-9297-462b1a7fde70",
   "metadata": {},
   "source": [
    "https://wesmckinney.com/book/numpy-basics\n",
    "\n",
    "https://numpy.org/doc/stable//user/index.html\n",
    "\n",
    "https://numpy.org/numpy-tutorials/\n",
    "\n",
    "https://www.pythontutorial.net/python-numpy/"
   ]
  },
  {
   "cell_type": "markdown",
   "id": "f16e178f-dd06-4d81-92b8-608dedb4db47",
   "metadata": {},
   "source": [
    "<br><br>\n",
    "\n",
    "## What &nbsp;is &nbsp;Numpy?"
   ]
  },
  {
   "cell_type": "markdown",
   "id": "335e4100-f31d-4b66-952f-411bdaed3d14",
   "metadata": {},
   "source": [
    "<br>\n",
    "\n",
    "NumPy (**Numerical Python**) is a Python library that performs numerical calculations.\n",
    "\n",
    "NumPy is very fast because it is written in the C programming language.\n",
    "\n",
    "NumPy is built on <span style=\"color: blue;\">linear algebra</span>. It’s about matrices and vectors and performing the mathematical calculations on them.\n",
    "\n",
    "The key concept in NumPy is the NumPy array data type. &nbsp;A NumPy array may have one or more dimensions :\n",
    "\n",
    "<div style=\"margin-left: 60px;\">\n",
    "    \n",
    "- <u>One dimension</u> arrays (**1D**) represent <span style=\"color: red;\">vectors</span>\n",
    "- <u>Two-dimensional</u> arrays (**2D**) represent <span style=\"color: red;\">matrices</span>\n",
    "- And <u>higher dimensional</u> arrays represent <span style=\"color: red;\">tensors</span>\n",
    "\n",
    "![](../media/numpy_01.PNG)\n",
    "\n",
    "</div>\n",
    "\n",
    "<div style=\"margin-left: 65px;\">\n",
    "\n",
    "![](../media/numpy_02.PNG)\n",
    "\n",
    "</div>\n",
    "\n",
    "<br>\n",
    "\n",
    "NumPy internally stores data in a contiguous block of memory, independent of other built-in Python objects. NumPy's library of algorithms written in the **C language** can operate on this memory without any type checking or other overhead. &nbsp;<span style=\"background-color: #ffeeb0; padding: 2px;\">NumPy arrays also use much less memory than built-in Python sequences.</code>\n",
    "\n",
    "NumPy operations perform complex computations on entire arrays without the need for Python &nbsp;<code>for</code>&nbsp; loops, which can be slow for large sequences. &nbsp;<span style=\"background-color: #ffeeb0; padding: 2px;\">NumPy is faster than regular Python code because its C-based algorithms avoid overhead present with regular interpreted Python code.</code>\n",
    "\n",
    "A NumPy array can contain either integer or float numbers, but not both at the same time. This restriction allows Numpy to **speed up the linear algebra calculations**.\n",
    "\n",
    "<u>Expressing conditional logic as array expressions</u> instead of loops with &nbsp;<code>if-elif-else</code>&nbsp; branches and <u>group-wise data manipulations</u> make it developer friendly over traditional Python syntax.\n",
    "\n",
    "<br>\n",
    "\n",
    "<span style=\"font-size: 0.7rem; color: red;\">■</span> &nbsp;<span style=\"color: #a245ff;\">To give you an idea of the performance difference, consider a NumPy array of one million integers, and the equivalent Python list :</span>"
   ]
  },
  {
   "cell_type": "code",
   "execution_count": 19,
   "id": "ff9fd8d1-a023-4bbd-9ad3-fc7336874637",
   "metadata": {},
   "outputs": [],
   "source": [
    "\n",
    "# pip install numpy\n",
    "import numpy as np\n",
    "\n",
    "my_arr = np.arange(1_000_000)\n",
    "\n",
    "my_list = list(range(1_000_000))\n"
   ]
  },
  {
   "cell_type": "markdown",
   "id": "17d41a4c-6c27-4702-8d4b-dbc17e661d2c",
   "metadata": {},
   "source": [
    "<br>\n",
    "\n",
    "<span style=\"font-size: 0.7rem; color: red;\">■</span> &nbsp;<span style=\"color: #a245ff;\">Now let's multiply each sequence by 2 :</span>"
   ]
  },
  {
   "cell_type": "code",
   "execution_count": 20,
   "id": "abc83254-2d56-47ec-800b-343e2c949658",
   "metadata": {},
   "outputs": [
    {
     "name": "stdout",
     "output_type": "stream",
     "text": [
      "2.34 ms ± 90.9 µs per loop (mean ± std. dev. of 7 runs, 100 loops each)\n"
     ]
    }
   ],
   "source": [
    "\n",
    "%timeit my_arr2 = my_arr * 2\n"
   ]
  },
  {
   "cell_type": "code",
   "execution_count": 21,
   "id": "c58d9092-c355-485b-87b2-7c9b5d1d756a",
   "metadata": {},
   "outputs": [
    {
     "name": "stdout",
     "output_type": "stream",
     "text": [
      "111 ms ± 6.24 ms per loop (mean ± std. dev. of 7 runs, 10 loops each)\n"
     ]
    }
   ],
   "source": [
    "\n",
    "%timeit my_list2 = [x * 2 for x in my_list]\n"
   ]
  },
  {
   "cell_type": "markdown",
   "id": "f8bf4909-0831-434f-9df2-5bd1c4b35af7",
   "metadata": {},
   "source": [
    "<br>\n",
    "\n",
    "<span style=\"font-size: 0.7rem; color: red;\">■</span> &nbsp;<span style=\"color: #a245ff;\">Let's compare a piece of code with and without numpy :</span>"
   ]
  },
  {
   "cell_type": "code",
   "execution_count": 18,
   "id": "102cf091-48ed-43ff-b6bf-cd51e2a14d82",
   "metadata": {},
   "outputs": [
    {
     "name": "stdout",
     "output_type": "stream",
     "text": [
      "[77.9  82.58 87.08]\n",
      "[77.9, 82.58, 87.08000000000001]\n"
     ]
    }
   ],
   "source": [
    "\n",
    "import numpy as np\n",
    "tc = np.array([25.5, 28.1, 30.6])       # temperature in celsius\n",
    "\n",
    "\n",
    "tk =  tc * 9 / 5 + 32                   # temperature in kelvin   ------>   METHOD-1 (using numpy)    ----------->   better code-readability\n",
    "print(tk)\n",
    "\n",
    "\n",
    "tk = [c*9/5 + 32 for c in tc]           # temperature in kelvin   ------>   METHOD-2 (using simple python)   ---->   lesser code-readability\n",
    "print(tk)\n"
   ]
  },
  {
   "cell_type": "markdown",
   "id": "774cadb1-6baf-4b69-b8cf-91883a22d9c8",
   "metadata": {},
   "source": [
    "<br>\n",
    "\n",
    "Use <code style=\"color: red;\">np</code> as the alias for the NumPy module to follow the convention."
   ]
  },
  {
   "cell_type": "markdown",
   "id": "3bf9bcd9-ec2a-4491-af92-98f73688b048",
   "metadata": {},
   "source": [
    "<br>\n",
    "\n",
    "<span style=\"color: #06fff0; font-size: 0.7rem;\">■■■■■■■■■■■■■■■■■■■■■■■■■■■■■■■■■■■■■■■■■■■■■■■■■■■■■■■■■■■■■■■■■■■■■■■■■■■■■■■■■■■■■■■■■■■■■■■■■■■■■■■■■■■■■■■</span>\n"
   ]
  },
  {
   "cell_type": "markdown",
   "id": "55599f77-0d6e-4cb7-8214-411897cba0bb",
   "metadata": {},
   "source": [
    "<br><br>\n",
    "\n",
    "## Create &nbsp;Numpy &nbsp;Array"
   ]
  },
  {
   "cell_type": "markdown",
   "id": "18c99c91-3175-4dad-8374-5f612045eef5",
   "metadata": {},
   "source": [
    "<br>\n",
    "\n",
    "https://numpy.org/doc/stable/reference/routines.array-creation.html\n",
    "\n",
    "A NumPy array is a grid of values with the <span style=\"color: red;\">same type</span> and <u>indexed by a tuple of **non-negative integers**</u> .\n",
    "\n",
    "The easiest way to create an array is to use the &nbsp;<code style=\"background-color: yellow; padding: 5px;\">numpy.<span style=\"color: red; font-size: 1rem;\"><strong>array()</strong></span></code>&nbsp; function. &nbsp;However, there are other ways too.\n",
    "\n",
    "<br>\n",
    "\n",
    "<div style=\"background-color: #fff7e7; padding-top: 15px; padding-bottom: 4px;\">\n",
    "\n",
    "&nbsp;&nbsp;&nbsp;&nbsp;**creating arrays from :**\n",
    "\n",
    "<div style=\"margin-left: 70px;\">\n",
    "\n",
    "<span>**<u>existing data</u>** :</span> <br>\n",
    "- <code style=\"background-color: yellow; padding: 2px;\">numpy.<span style=\"color: red; font-size: 1rem;\"><strong>array()</strong></span>   </code>\n",
    "\n",
    "<br>\n",
    "\n",
    "**<u>shape or value</u>** : <br>\n",
    "- <code style=\"background-color: yellow;\">numpy.<span style=\"color: red; font-size: 1rem;\"><strong>zeros()</strong></span>   </code>\n",
    "- <code style=\"background-color: yellow;\">numpy.<span style=\"color: red; font-size: 1rem;\"><strong>ones()</strong>    </span></code>\n",
    "- <code style=\"background-color: yellow;\">numpy.<span style=\"color: red; font-size: 1rem;\"><strong>eye()</strong>     </span></code>\n",
    "- <code style=\"background-color: yellow;\">numpy.<span style=\"color: red; font-size: 1rem;\"><strong>identity()</strong></span></code>\n",
    "- <code style=\"background-color: yellow;\">numpy.<span style=\"color: red; font-size: 1rem;\"><strong>empty()</strong>   </span></code>\n",
    "\n",
    "<br>\n",
    "\n",
    "**<u>numerical ranges</u>** : <br>\n",
    "- <code style=\"background-color: yellow;\">numpy.<span style=\"color: red; font-size: 1rem;\"><strong>arange()</strong></span>  </code>\n",
    "- <code style=\"background-color: yellow;\">numpy.<span style=\"color: red; font-size: 1rem;\"><strong>linspace()</strong></span></code>\n",
    "\n",
    "</div>\n",
    "\n",
    "</div>\n"
   ]
  },
  {
   "cell_type": "markdown",
   "id": "af5301d6-ffee-4180-bd18-6a3d7e74a46c",
   "metadata": {},
   "source": [
    "\n",
    "### <div style=\"color: white; background-color: #af87ff; padding: 5px;\"> <code style=\"font-size: 1.2rem; background-color: #af87ff; color: white;\"><strong>numpy.array()</strong></code> </div>\n"
   ]
  },
  {
   "cell_type": "markdown",
   "id": "97fda42d-8b6f-4ac0-94f6-8910f4b34ef3",
   "metadata": {},
   "source": [
    "\n",
    "<span style=\"font-size: 1rem; color: blue;\">■</span> &nbsp;&nbsp;<span style=\"color: blue; font-size: 1rem;\"><strong><u>Creating &nbsp;one-dimensional &nbsp;arrays</u></strong></span> &nbsp;&nbsp;<span style=\"color: red; font-size: 1rem;\">( **1D - vector** )</span>\n"
   ]
  },
  {
   "cell_type": "code",
   "execution_count": 113,
   "id": "9eac146b-9b1d-4910-89f8-95d3f98654f2",
   "metadata": {},
   "outputs": [
    {
     "name": "stdout",
     "output_type": "stream",
     "text": [
      "[1 2 3]\n",
      "<class 'numpy.ndarray'>\n"
     ]
    }
   ],
   "source": [
    "\n",
    "import numpy as np\n",
    "a = np.array([1, 2, 3])\n",
    "\n",
    "print(a)\n",
    "print(type(a))\n"
   ]
  },
  {
   "cell_type": "markdown",
   "id": "46a2e07c-c564-43c3-8b02-59108c1f067e",
   "metadata": {},
   "source": [
    "<br>\n",
    "\n",
    "<code style=\"background-color: #c2ffa7; padding: 5px;\"> ndarray.<span style=\"color: red;\">ndim</span> </code> &nbsp;====>&nbsp; <span style=\"color: blue;\">Getting the **dimension** of an array</span>\n",
    "\n",
    "<span style=\"margin-left: 167px;\"><span style=\"color: red;\">ndim</span> is not an attribute, rather it's a **property**.</span>\n"
   ]
  },
  {
   "cell_type": "code",
   "execution_count": 114,
   "id": "4f385833-81f5-4cde-bad9-95c1fa306502",
   "metadata": {},
   "outputs": [
    {
     "data": {
      "text/plain": [
       "1"
      ]
     },
     "execution_count": 114,
     "metadata": {},
     "output_type": "execute_result"
    }
   ],
   "source": [
    "\n",
    "a.ndim\n"
   ]
  },
  {
   "cell_type": "markdown",
   "id": "6fb3d14b-ae14-45e3-abe0-7270ba323f08",
   "metadata": {},
   "source": [
    "<br>\n",
    "\n",
    "<code style=\"background-color: #c2ffa7; padding: 5px;\"> ndarray.<span style=\"color: red;\">dtype</span> </code> &nbsp;====>&nbsp; <span style=\"color: blue;\">Getting the **data type** of array elements</span>\n",
    "\n",
    "<span style=\"margin-left: 175px;\"><span style=\"color: red;\">dtype</span> is not an attribute, rather it's a **property**.</span>"
   ]
  },
  {
   "cell_type": "code",
   "execution_count": 115,
   "id": "5344d06e-375f-4d72-81d6-15a31bf1f409",
   "metadata": {},
   "outputs": [
    {
     "data": {
      "text/plain": [
       "dtype('int32')"
      ]
     },
     "execution_count": 115,
     "metadata": {},
     "output_type": "execute_result"
    }
   ],
   "source": [
    "\n",
    "a.dtype                                # Note  ------>  all elements of this array have the same data type 'int32'\n"
   ]
  },
  {
   "cell_type": "markdown",
   "id": "0e0b0d3e-5d9a-474e-8312-ed843cd5b02a",
   "metadata": {},
   "source": [
    "<br>\n",
    "\n",
    "<code style=\"background-color: #c2ffa7; padding: 5px;\"> ndarray.<span style=\"color: red;\">shape</span> </code> &nbsp;====>&nbsp; <span style=\"color: blue;\">Getting the **shape** of an array</span>\n",
    "\n",
    "<span style=\"margin-left: 175px;\"><span style=\"color: red;\">shape</span> is not an attribute, rather it's a **property**.</span>"
   ]
  },
  {
   "cell_type": "code",
   "execution_count": 116,
   "id": "2f513573-5520-4a82-9dea-ca445fec4c85",
   "metadata": {},
   "outputs": [
    {
     "data": {
      "text/plain": [
       "(3,)"
      ]
     },
     "execution_count": 116,
     "metadata": {},
     "output_type": "execute_result"
    }
   ],
   "source": [
    "\n",
    "a.shape\n"
   ]
  },
  {
   "cell_type": "markdown",
   "id": "bd17f8c2-e901-48e2-adf1-dac0d176cd00",
   "metadata": {},
   "source": [
    "<br>\n",
    "\n",
    "<code style=\"background-color: #c2ffa7; padding: 5px;\"> ndarray.<span style=\"color: red;\">size</span> </code> &nbsp;====>&nbsp; <span style=\"color: blue;\">Getting the **size** of an array</span>\n",
    "\n",
    "<span style=\"margin-left: 168px;\"><span style=\"color: red;\">size</span> is not an attribute, rather it's a **property**.</span>\n",
    "\n",
    "<span style=\"margin-left: 168px;\">returns the **total number of elements of the array** which is actually <u>the product of the elements of the array’s shape</u></span>\n"
   ]
  },
  {
   "cell_type": "code",
   "execution_count": 117,
   "id": "7b2b8fe1-41ca-4e76-8b08-b41cc18d4535",
   "metadata": {},
   "outputs": [
    {
     "data": {
      "text/plain": [
       "3"
      ]
     },
     "execution_count": 117,
     "metadata": {},
     "output_type": "execute_result"
    }
   ],
   "source": [
    "\n",
    "a.size\n"
   ]
  },
  {
   "cell_type": "code",
   "execution_count": 118,
   "id": "622660ee-1629-48ca-a2b6-dea9ddee843c",
   "metadata": {},
   "outputs": [
    {
     "name": "stdout",
     "output_type": "stream",
     "text": [
      "3\n",
      "1\n",
      "2\n",
      "3\n"
     ]
    }
   ],
   "source": [
    "\n",
    "print(len(a))                          # 3  -------->  for a 1D array it counts the number of columns\n",
    "\n",
    "print(a[0])                            # 1\n",
    "print(a[1])                            # 2\n",
    "print(a[2])                            # 3\n"
   ]
  },
  {
   "cell_type": "markdown",
   "id": "0b1be96a-e1af-4568-af24-1a850eda77fb",
   "metadata": {},
   "source": [
    "<br>\n",
    "\n",
    "<code style=\"background-color: #c2ffa7; padding: 5px;\"> ndarray.<span style=\"color: red;\">flags</span> </code> &nbsp;====>&nbsp; <span style=\"color: blue;\">Returns the **memory-layout** of an array as to how it is stored in the database</span>"
   ]
  },
  {
   "cell_type": "code",
   "execution_count": 119,
   "id": "64de0681-d4c1-4959-b3ad-e4d81b54e911",
   "metadata": {},
   "outputs": [
    {
     "data": {
      "text/plain": [
       "  C_CONTIGUOUS : True\n",
       "  F_CONTIGUOUS : True\n",
       "  OWNDATA : True\n",
       "  WRITEABLE : True\n",
       "  ALIGNED : True\n",
       "  WRITEBACKIFCOPY : False"
      ]
     },
     "execution_count": 119,
     "metadata": {},
     "output_type": "execute_result"
    }
   ],
   "source": [
    "\n",
    "a.flags\n"
   ]
  },
  {
   "cell_type": "markdown",
   "id": "1d325dab-d012-4831-9252-d3ddb94dc4c7",
   "metadata": {},
   "source": [
    "<br>\n",
    "\n",
    "<span style=\"font-size: 1rem; color: blue;\">■</span> &nbsp;&nbsp;<span style=\"color: blue; font-size: 1rem;\"><strong><u>Creating &nbsp;two-dimensional &nbsp;arrays</u></strong></span> &nbsp;&nbsp;<span style=\"color: red; font-size: 1rem;\">( **2D - matrix** )</span>"
   ]
  },
  {
   "cell_type": "code",
   "execution_count": 127,
   "id": "162977e8-e177-4b8e-bc4a-90c56c70b68c",
   "metadata": {},
   "outputs": [
    {
     "name": "stdout",
     "output_type": "stream",
     "text": [
      "[[1 2 3]\n",
      " [4 5 6]]\n",
      "<class 'numpy.ndarray'>\n"
     ]
    }
   ],
   "source": [
    "\n",
    "import numpy as np\n",
    "\n",
    "b = np.array(\n",
    "    [\n",
    "        [1, 2, 3],\n",
    "        [4, 5, 6]\n",
    "    ]\n",
    ")\n",
    "\n",
    "print(b)\n",
    "print(type(b))\n"
   ]
  },
  {
   "cell_type": "code",
   "execution_count": 156,
   "id": "728b680d-d607-49e7-8afc-527ba81f3ae3",
   "metadata": {},
   "outputs": [
    {
     "data": {
      "text/plain": [
       "2"
      ]
     },
     "execution_count": 156,
     "metadata": {},
     "output_type": "execute_result"
    }
   ],
   "source": [
    "\n",
    "b.ndim                                 # to get the dimesnion of the array \"b\"\n"
   ]
  },
  {
   "cell_type": "markdown",
   "id": "3b075c2c-103a-440b-a5e1-37840d5f28aa",
   "metadata": {},
   "source": [
    "&nbsp;<span style=\"font-size: 1.2rem;\">⭐</span>&nbsp;&nbsp;<span style=\"color: black;\">A good tip to get the number of dimensions of an array is that you count the square brackets ( <code style=\"color: red;\">[</code> ) <u>until you encounter the first number</u>.</span>  <br>\n",
    "&nbsp;&nbsp;&nbsp;&nbsp;&nbsp;&nbsp;&nbsp;&nbsp;&nbsp;&nbsp;<span style=\"color: black;\">The number of square brackets is the number of dimensions or axes.</span>\n",
    "\n"
   ]
  },
  {
   "cell_type": "code",
   "execution_count": 157,
   "id": "052f4e2d-0f95-4075-958a-283cd5e70845",
   "metadata": {},
   "outputs": [
    {
     "data": {
      "text/plain": [
       "dtype('int32')"
      ]
     },
     "execution_count": 157,
     "metadata": {},
     "output_type": "execute_result"
    }
   ],
   "source": [
    "\n",
    "b.dtype                                # to get the data type of array elements\n",
    "                                       # Note  ------>  all elements of this array have the same data type 'int32'\n"
   ]
  },
  {
   "cell_type": "code",
   "execution_count": 158,
   "id": "6da23329-2e31-40b1-8aec-7b9b9e1b2037",
   "metadata": {},
   "outputs": [
    {
     "data": {
      "text/plain": [
       "(2, 3)"
      ]
     },
     "execution_count": 158,
     "metadata": {},
     "output_type": "execute_result"
    }
   ],
   "source": [
    "\n",
    "b.shape                                # to get the shape of the array \"b\"\n"
   ]
  },
  {
   "cell_type": "markdown",
   "id": "b8fd22d1-21b4-4194-95ff-e7bc758cab98",
   "metadata": {},
   "source": [
    "&nbsp;<span style=\"color: #a245ff;\">(2, 3) &nbsp;&nbsp;=======>&nbsp;&nbsp;  2 rows & 3 columns</span>"
   ]
  },
  {
   "cell_type": "code",
   "execution_count": 159,
   "id": "3dcd84ee-a549-492d-87dc-223a1b5a2515",
   "metadata": {},
   "outputs": [
    {
     "data": {
      "text/plain": [
       "6"
      ]
     },
     "execution_count": 159,
     "metadata": {},
     "output_type": "execute_result"
    }
   ],
   "source": [
    "\n",
    "b.size                                 # (2,3)  =========>  2*3  = 6\n"
   ]
  },
  {
   "cell_type": "code",
   "execution_count": 168,
   "id": "67a81227-48d7-4dae-99c7-b5330a2e21d2",
   "metadata": {},
   "outputs": [
    {
     "name": "stdout",
     "output_type": "stream",
     "text": [
      "2\n",
      "[1 2 3]\n",
      "[4 5 6]\n"
     ]
    }
   ],
   "source": [
    "\n",
    "print(len(b))                          # 2   --------->   for a 2D array it counts the number of rows\n",
    "\n",
    "print(b[0])                            # [1 2 3]\n",
    "print(b[1])                            # [4 5 6]\n"
   ]
  },
  {
   "cell_type": "markdown",
   "id": "72ee0886-3d43-4f5e-b634-25544d3bb4f8",
   "metadata": {},
   "source": [
    "<br>\n",
    "\n",
    "<span style=\"font-size: 1rem; color: blue;\">■</span> &nbsp;&nbsp;<span style=\"color: blue; font-size: 1rem;\"><strong><u>Creating &nbsp;three-dimensional &nbsp;arrays</u></strong></span> &nbsp;&nbsp;<span style=\"color: red; font-size: 1rem;\">( **3D - tensor** )</span>"
   ]
  },
  {
   "cell_type": "code",
   "execution_count": 162,
   "id": "c328f842-c1ba-4075-8153-a7e3e34ab01e",
   "metadata": {},
   "outputs": [
    {
     "name": "stdout",
     "output_type": "stream",
     "text": [
      "[[[ 1  2  3]\n",
      "  [ 4  5  6]]\n",
      "\n",
      " [[ 7  8  9]\n",
      "  [10 11 12]]]\n",
      "<class 'numpy.ndarray'>\n"
     ]
    }
   ],
   "source": [
    "\n",
    "import numpy as np\n",
    "\n",
    "\n",
    "c = np.array(\n",
    "    [\n",
    "        [\n",
    "            [1, 2, 3],\n",
    "            [4, 5, 6]\n",
    "        ],\n",
    "        [\n",
    "            [7, 8, 9],\n",
    "            [10, 11, 12]\n",
    "        ],\n",
    "    ]\n",
    ")\n",
    "\n",
    "\n",
    "print(c)\n",
    "print(type(c))\n"
   ]
  },
  {
   "cell_type": "code",
   "execution_count": 161,
   "id": "272340c5-99af-4603-b6c6-284d1c48ab1d",
   "metadata": {},
   "outputs": [
    {
     "ename": "NameError",
     "evalue": "name 'c' is not defined",
     "output_type": "error",
     "traceback": [
      "\u001b[1;31m---------------------------------------------------------------------------\u001b[0m",
      "\u001b[1;31mNameError\u001b[0m                                 Traceback (most recent call last)",
      "Cell \u001b[1;32mIn[161], line 1\u001b[0m\n\u001b[1;32m----> 1\u001b[0m \u001b[43mc\u001b[49m\u001b[38;5;241m.\u001b[39mndim                                 \u001b[38;5;66;03m# to get the dimesnion of the array \"b\"\u001b[39;00m\n",
      "\u001b[1;31mNameError\u001b[0m: name 'c' is not defined"
     ]
    }
   ],
   "source": [
    "\n",
    "c.ndim                                 # to get the dimesnion of the array \"b\"\n"
   ]
  },
  {
   "cell_type": "code",
   "execution_count": 163,
   "id": "40b7a2c2-8c56-45e0-8f10-7edce6dfc597",
   "metadata": {},
   "outputs": [
    {
     "data": {
      "text/plain": [
       "dtype('int32')"
      ]
     },
     "execution_count": 163,
     "metadata": {},
     "output_type": "execute_result"
    }
   ],
   "source": [
    "\n",
    "c.dtype                               # to get the data type of array elements\n",
    "                                      # Note  ------>  all elements of this array have the same data type 'int32'\n"
   ]
  },
  {
   "cell_type": "code",
   "execution_count": 166,
   "id": "e2def9dc-1f14-421f-a9c5-ba055fcb5a59",
   "metadata": {},
   "outputs": [
    {
     "data": {
      "text/plain": [
       "(2, 2, 3)"
      ]
     },
     "execution_count": 166,
     "metadata": {},
     "output_type": "execute_result"
    }
   ],
   "source": [
    "\n",
    "c.shape                               # to get the shape of the array \"c\"\n"
   ]
  },
  {
   "cell_type": "code",
   "execution_count": 167,
   "id": "bc78d2a2-cd8a-4892-84c6-ba8210193b16",
   "metadata": {},
   "outputs": [
    {
     "data": {
      "text/plain": [
       "12"
      ]
     },
     "execution_count": 167,
     "metadata": {},
     "output_type": "execute_result"
    }
   ],
   "source": [
    "\n",
    "c.size                                # (2,2,3)  =========>  2*2*3  = 12\n"
   ]
  },
  {
   "cell_type": "code",
   "execution_count": 176,
   "id": "151bcd48-966d-4be8-949d-4732fad09b1f",
   "metadata": {},
   "outputs": [
    {
     "name": "stdout",
     "output_type": "stream",
     "text": [
      "2\n",
      "[[1 2 3]\n",
      " [4 5 6]]\n",
      "[[ 7  8  9]\n",
      " [10 11 12]]\n"
     ]
    }
   ],
   "source": [
    "\n",
    "print(len(c))                          # 2   --------->   for a 3D array it counts the number of layers (2D arrays)\n",
    "\n",
    "\n",
    "print(c[0])                            #  [[1 2 3]\n",
    "                                       #   [4 5 6]]\n",
    "\n",
    "\n",
    "print(c[1])                            #  [[7 8 9]\n",
    "                                       #   [10 11 12]\n"
   ]
  },
  {
   "cell_type": "markdown",
   "id": "f3023998-ee00-4574-bbe0-d6e57be45fef",
   "metadata": {},
   "source": [
    "<br>\n",
    "\n",
    "<span style=\"font-size: 1rem; color: blue;\">■</span> &nbsp;&nbsp;<span style=\"color: blue; font-size: 1rem;\"><strong><u>Comparing &nbsp;the &nbsp;shape &nbsp;representations &nbsp;with &nbsp;respect &nbsp;to &nbsp;dimensions</span>"
   ]
  },
  {
   "cell_type": "code",
   "execution_count": 2,
   "id": "766c5813-ec35-4a3c-a4b4-d25e122af0e1",
   "metadata": {},
   "outputs": [
    {
     "name": "stdout",
     "output_type": "stream",
     "text": [
      "(3,)\n",
      "(2, 3)\n",
      "(2, 2, 3)\n"
     ]
    }
   ],
   "source": [
    "\n",
    "import numpy as np\n",
    "\n",
    "\n",
    "a = np.array([1, 2, 3])\n",
    "print(a.shape)                              # OUTPUT: (3,)\n",
    "\n",
    "\n",
    "\n",
    "\n",
    "b = np.array(\n",
    "    [\n",
    "        [1, 2, 3],\n",
    "        [4, 5, 6]\n",
    "    ]\n",
    ")\n",
    "print(b.shape)                              # OUTPUT: (2, 3)\n",
    "\n",
    "\n",
    "\n",
    "\n",
    "c = np.array(\n",
    "    [\n",
    "        [\n",
    "            [1, 2, 3],\n",
    "            [4, 5, 6]\n",
    "        ],\n",
    "        [\n",
    "            [7, 8, 9],\n",
    "            [10, 11, 12]\n",
    "        ],\n",
    "    ]\n",
    ")\n",
    "print(c.shape)                              # OUTPUT: (2, 2, 3)\n"
   ]
  },
  {
   "cell_type": "markdown",
   "id": "68e7340b-960b-416e-823e-65e10adbb793",
   "metadata": {},
   "source": [
    "<br>\n",
    "\n",
    "<div>\n",
    "\n",
    "<code style=\"padding: 5px; background-color: #c2ffa7;\">numpy.<span style=\"color: red;\">shape</span></code>\n",
    "\n",
    "&nbsp;&nbsp;&nbsp;&nbsp;&nbsp;&nbsp;&nbsp;&nbsp;&nbsp;&nbsp;**1D** &nbsp;&nbsp;===>&nbsp;&nbsp; <code>(columns, )</code> &nbsp;&nbsp;&nbsp;&nbsp;&nbsp;&nbsp;&nbsp;&nbsp;&nbsp;&nbsp;&nbsp;&nbsp;&nbsp;&nbsp;&nbsp;&nbsp;&nbsp;&nbsp;&nbsp;&nbsp;&nbsp;&nbsp;&nbsp;&nbsp;&nbsp;&nbsp;====>&nbsp;&nbsp; **vector**              <br>\n",
    "&nbsp;&nbsp;&nbsp;&nbsp;&nbsp;&nbsp;&nbsp;&nbsp;&nbsp;&nbsp;**2D** &nbsp;&nbsp;===>&nbsp;&nbsp; <code>(rows, columns)</code>  &nbsp;&nbsp;&nbsp;&nbsp;&nbsp;&nbsp;&nbsp;&nbsp;&nbsp;&nbsp;&nbsp;&nbsp;&nbsp;&nbsp;&nbsp;&nbsp;&nbsp;&nbsp;====>&nbsp;&nbsp; **matrix**         <br>\n",
    "&nbsp;&nbsp;&nbsp;&nbsp;&nbsp;&nbsp;&nbsp;&nbsp;&nbsp;&nbsp;**3D** &nbsp;&nbsp;===>&nbsp;&nbsp; <code>(depths, rows, columns)</code>  &nbsp;&nbsp;====>&nbsp;&nbsp; **tensor**\n",
    "\n",
    "<div>"
   ]
  },
  {
   "cell_type": "markdown",
   "id": "07aa0a32-2028-49b7-94f9-d9df32dda391",
   "metadata": {},
   "source": [
    "<div style=\"margin-left: 70px;\">\n",
    "\n",
    "![](../media/numpy_03.PNG)\n",
    "\n",
    "</div>"
   ]
  },
  {
   "cell_type": "code",
   "execution_count": 9,
   "id": "c62768dd-551c-4c09-9e0e-5dbb6311a3b2",
   "metadata": {},
   "outputs": [
    {
     "name": "stdout",
     "output_type": "stream",
     "text": [
      "a =  [1 2 3]\n",
      "shape of a =  (3,)\n",
      "b =  [[1 2 3]]\n",
      "shape of b =  (1, 3)\n"
     ]
    }
   ],
   "source": [
    "\n",
    "a = np.array([1,2,3])\n",
    "print(\"a = \", a)                               # 1D array   ====>   [1, 2, 3]\n",
    "print(\"shape of a = \", a.shape)                # (3, )\n",
    "\n",
    "\n",
    "\n",
    "b = np.array(\n",
    "    [\n",
    "        [1, 2, 3]\n",
    "    ]\n",
    ")\n",
    "print(\"b = \", b)                               # 2D array   ====>   [[1, 2, 3]]\n",
    "print(\"shape of b = \", b.shape)                # (1, 3)\n"
   ]
  },
  {
   "cell_type": "markdown",
   "id": "edb83370-13fa-4a02-b726-c2e8499912ca",
   "metadata": {},
   "source": [
    "<br>\n",
    "\n",
    "<span style=\"color: #06fff0; font-size: 0.7rem;\">■■■■■■■■■■■■■■■■■■■■■■■■■■■■■■■■■■■■■■■■■■■■■■■■■■■■■■■■■■■■■■■■■■■■■■■■■■■■■■■■■■■■■■■■■■■■■■■■■■■■■■■■■■■■■■■</span>\n",
    "\n",
    "<br>\n",
    "\n",
    "<span style=\"color: #a245ff;\">Let's do some practice</span>\n",
    "\n",
    "<span style=\"font-size: 0.7rem; color: red;\">■</span> &nbsp;<span style=\"color: black;\">The type of the array can also be explicitly specified at creation time :</span> &nbsp;&nbsp;<code style=\"padding: 5px;\">numpy.<span style=\"color: red;\">array(</span>object, dtype=None, *,<span style=\"color: red;\">)</span></code>"
   ]
  },
  {
   "cell_type": "code",
   "execution_count": 53,
   "id": "688b743c-f30a-428e-afd5-074803c2e9db",
   "metadata": {},
   "outputs": [
    {
     "name": "stdout",
     "output_type": "stream",
     "text": [
      "[1 3 5]\n",
      "int64\n"
     ]
    }
   ],
   "source": [
    "\n",
    "a = np.array([1, 3, 5], dtype=\"int64\")                        # numpy.array(object, dtype=None, *,)\n",
    "\n",
    "print(a)\n",
    "print(a.dtype)\n"
   ]
  },
  {
   "cell_type": "code",
   "execution_count": 74,
   "id": "8b27d6a3-9159-4b6b-be94-7f02fb1cf476",
   "metadata": {},
   "outputs": [
    {
     "name": "stdout",
     "output_type": "stream",
     "text": [
      "[[1.+0.j 2.+0.j]\n",
      " [3.+0.j 4.+0.j]]\n"
     ]
    }
   ],
   "source": [
    "\n",
    "a = np.array([[1, 2], [3, 4]], dtype=complex)         \n",
    "\n",
    "print(a)\n"
   ]
  },
  {
   "cell_type": "code",
   "execution_count": 33,
   "id": "01cac890-769e-4664-884b-b7632f1ea04f",
   "metadata": {},
   "outputs": [
    {
     "ename": "TypeError",
     "evalue": "array() takes from 1 to 2 positional arguments but 4 were given",
     "output_type": "error",
     "traceback": [
      "\u001b[1;31m---------------------------------------------------------------------------\u001b[0m",
      "\u001b[1;31mTypeError\u001b[0m                                 Traceback (most recent call last)",
      "Cell \u001b[1;32mIn[33], line 1\u001b[0m\n\u001b[1;32m----> 1\u001b[0m a \u001b[38;5;241m=\u001b[39m \u001b[43mnp\u001b[49m\u001b[38;5;241;43m.\u001b[39;49m\u001b[43marray\u001b[49m\u001b[43m(\u001b[49m\u001b[38;5;241;43m1\u001b[39;49m\u001b[43m,\u001b[49m\u001b[43m \u001b[49m\u001b[38;5;241;43m2\u001b[39;49m\u001b[43m,\u001b[49m\u001b[43m \u001b[49m\u001b[38;5;241;43m3\u001b[39;49m\u001b[43m,\u001b[49m\u001b[43m \u001b[49m\u001b[38;5;241;43m4\u001b[39;49m\u001b[43m)\u001b[49m    \n",
      "\u001b[1;31mTypeError\u001b[0m: array() takes from 1 to 2 positional arguments but 4 were given"
     ]
    }
   ],
   "source": [
    "\n",
    "a = np.array(1, 2, 3, 4)    \n"
   ]
  },
  {
   "cell_type": "code",
   "execution_count": 44,
   "id": "1d82f731-5693-4c85-840b-501cb93f0db7",
   "metadata": {},
   "outputs": [
    {
     "name": "stdout",
     "output_type": "stream",
     "text": [
      "[[1 2 3]\n",
      " [4 5 6]]\n",
      "<class 'numpy.ndarray'>\n",
      "\n",
      "\n",
      "[[1 2 3]\n",
      " [4 5 6]]\n",
      "<class 'numpy.ndarray'>\n"
     ]
    }
   ],
   "source": [
    "\n",
    "a = np.array([(1, 2, 3), (4, 5, 6)])           # Method-1\n",
    "b = np.array([[1, 2, 3], [4, 5, 6]])           # Method-2\n",
    "\n",
    "print(a)\n",
    "print(type(a))\n",
    "\n",
    "print(\"\\n\")\n",
    "\n",
    "print(b)\n",
    "print(type(b))\n"
   ]
  },
  {
   "cell_type": "code",
   "execution_count": 46,
   "id": "e799787f-41ee-4e3a-8dcd-db7ec047feac",
   "metadata": {},
   "outputs": [
    {
     "name": "stdout",
     "output_type": "stream",
     "text": [
      "[[1.5 2.  3. ]\n",
      " [4.  5.  6. ]]\n",
      "<class 'numpy.ndarray'>\n",
      "\n",
      "\n",
      "[[1.5 2.  3. ]\n",
      " [4.  5.  6. ]]\n",
      "<class 'numpy.ndarray'>\n"
     ]
    }
   ],
   "source": [
    "\n",
    "a = np.array([(1.5, 2, 3), (4, 5, 6)])         # Method-1\n",
    "b = np.array([[1.5, 2, 3], [4, 5, 6]])         # Method-2\n",
    "\n",
    "print(a)\n",
    "print(type(a))\n",
    "\n",
    "print(\"\\n\")\n",
    "\n",
    "print(b)\n",
    "print(type(b))\n"
   ]
  },
  {
   "cell_type": "markdown",
   "id": "3f41bb5d-dbf4-495f-8faf-38740f32bba6",
   "metadata": {
    "jp-MarkdownHeadingCollapsed": true
   },
   "source": [
    "<br>\n",
    "\n",
    "### <div style=\"color: white; background-color: #af87ff; padding: 5px;\"> <code style=\"font-size: 1.2rem; background-color: #af87ff; color: white;\"><strong>numpy.zeros()</strong></code> </div>"
   ]
  },
  {
   "cell_type": "markdown",
   "id": "e9e697ff-8885-4696-8014-b5ecdb0dec24",
   "metadata": {},
   "source": [
    "<code style=\"background-color: yellow; padding: 6px;\">numpy.<span style=\"color: red;\"><span style=\"font-size: 1rem;\"><strong>zeros(</strong></span></span>shape, dtype<span style=\"color: #9b96a1;\">=float</span>, order<span style=\"color: #9b96a1;\">='C'</span>, *<span style=\"color: red;\"><span style=\"font-size: 1rem;\"><strong>)</strong></span></span></code> &nbsp;&nbsp;&nbsp;&nbsp;====>&nbsp;&nbsp;&nbsp;&nbsp;Returns a new array of given shape and type, **filled with zeros**.\n",
    "\n",
    "<span style=\"margin-left: 372px;\"> &nbsp;&nbsp;&nbsp;&nbsp;====>&nbsp;&nbsp;&nbsp;&nbsp;order {'C', 'F'}</span>\n",
    "\n",
    "<span style=\"margin-left: 372px;\"> &nbsp;&nbsp;&nbsp;&nbsp;====>&nbsp;&nbsp;&nbsp;&nbsp;Whether to store multi-dimensional data in **row-major (C)** or **column-major (F)** order <U>in memory</U></span>"
   ]
  },
  {
   "cell_type": "code",
   "execution_count": 86,
   "id": "9b88de10-0008-4517-8411-ceb849a0ae74",
   "metadata": {},
   "outputs": [
    {
     "data": {
      "text/plain": [
       "array([0., 0., 0., 0., 0.])"
      ]
     },
     "execution_count": 86,
     "metadata": {},
     "output_type": "execute_result"
    }
   ],
   "source": [
    "\n",
    "np.zeros(5)\n"
   ]
  },
  {
   "cell_type": "code",
   "execution_count": 77,
   "id": "97d7d620-a07f-4a38-b708-9917048b69be",
   "metadata": {},
   "outputs": [
    {
     "data": {
      "text/plain": [
       "array([0, 0, 0, 0, 0])"
      ]
     },
     "execution_count": 77,
     "metadata": {},
     "output_type": "execute_result"
    }
   ],
   "source": [
    "\n",
    "np.zeros((5,), dtype=int)\n"
   ]
  },
  {
   "cell_type": "code",
   "execution_count": 78,
   "id": "8dd3fe7e-4104-4943-b558-62cabef6528e",
   "metadata": {},
   "outputs": [
    {
     "data": {
      "text/plain": [
       "array([[0.],\n",
       "       [0.]])"
      ]
     },
     "execution_count": 78,
     "metadata": {},
     "output_type": "execute_result"
    }
   ],
   "source": [
    "\n",
    "np.zeros((2, 1))\n"
   ]
  },
  {
   "cell_type": "code",
   "execution_count": 85,
   "id": "a46882ce-ad80-495f-a9bd-64626577484e",
   "metadata": {},
   "outputs": [
    {
     "data": {
      "text/plain": [
       "array([[0., 0., 0., 0.],\n",
       "       [0., 0., 0., 0.],\n",
       "       [0., 0., 0., 0.]])"
      ]
     },
     "execution_count": 85,
     "metadata": {},
     "output_type": "execute_result"
    }
   ],
   "source": [
    "\n",
    "s = (3,4)                                                       # tuple\n",
    "np.zeros(s)\n"
   ]
  },
  {
   "cell_type": "code",
   "execution_count": 89,
   "id": "a97029dc-e588-4c17-a742-899eafd4f7fe",
   "metadata": {},
   "outputs": [
    {
     "data": {
      "text/plain": [
       "array([[[0., 0.],\n",
       "        [0., 0.],\n",
       "        [0., 0.]],\n",
       "\n",
       "       [[0., 0.],\n",
       "        [0., 0.],\n",
       "        [0., 0.]]])"
      ]
     },
     "execution_count": 89,
     "metadata": {},
     "output_type": "execute_result"
    }
   ],
   "source": [
    "\n",
    "np.zeros((2, 3, 2))                                             # 2 layers, each having a 2D array of 3 rows and 2 columns \n"
   ]
  },
  {
   "cell_type": "code",
   "execution_count": 86,
   "id": "827db285-7ec1-4dd9-9af6-bc69d2316ef4",
   "metadata": {},
   "outputs": [
    {
     "data": {
      "text/plain": [
       "array([(0, 0), (0, 0)], dtype=[('x', '<i4'), ('y', '<i4')])"
      ]
     },
     "execution_count": 86,
     "metadata": {},
     "output_type": "execute_result"
    }
   ],
   "source": [
    "\n",
    "np.zeros((2,), dtype=[('x', 'i4'), ('y', 'i4')])                # custom dtype\n"
   ]
  },
  {
   "cell_type": "markdown",
   "id": "5a6925ba-395d-4d21-80f1-34368075c2f1",
   "metadata": {
    "jp-MarkdownHeadingCollapsed": true
   },
   "source": [
    "<br>\n",
    "\n",
    "### <div style=\"color: white; background-color: #af87ff; padding: 5px;\"> <code style=\"font-size: 1.2rem; background-color: #af87ff; color: white;\"><strong>numpy.ones()</strong></code> </div>"
   ]
  },
  {
   "cell_type": "markdown",
   "id": "97ff8c29-a3d2-4ca2-aff9-220cad6cb345",
   "metadata": {},
   "source": [
    "<code style=\"background-color: yellow; padding: 6px;\">numpy.<span style=\"color: red;\"><span style=\"font-size: 1rem;\"><strong>ones(</strong></span></span>shape<span style=\"color: red;\">,</span> dtype<span style=\"color: #9b96a1;\">=float</span><span style=\"color: red;\">,</span> order<span style=\"color: #9b96a1;\">='C'</span><span style=\"color: red;\">,</span> *<span style=\"color: red;\"><span style=\"font-size: 1rem;\"><strong>)</strong></span></span></code> &nbsp;&nbsp;&nbsp;&nbsp;====>&nbsp;&nbsp;&nbsp;&nbsp;Returns a new array of given shape and type, **filled with ones**.\n",
    "\n",
    "<span style=\"margin-left: 362px;\"> &nbsp;&nbsp;&nbsp;&nbsp;====>&nbsp;&nbsp;&nbsp;&nbsp;order {'C', 'F'}</span>\n",
    "\n",
    "<span style=\"margin-left: 362px;\"> &nbsp;&nbsp;&nbsp;&nbsp;====>&nbsp;&nbsp;&nbsp;&nbsp;Whether to store multi-dimensional data in **row-major (C)** or **column-major (F)** order <u>in memory</u></span>"
   ]
  },
  {
   "cell_type": "code",
   "execution_count": 87,
   "id": "747da0d2-c40c-4b73-853e-99e89b5df216",
   "metadata": {},
   "outputs": [
    {
     "data": {
      "text/plain": [
       "array([1., 1., 1., 1., 1.])"
      ]
     },
     "execution_count": 87,
     "metadata": {},
     "output_type": "execute_result"
    }
   ],
   "source": [
    "\n",
    "np.ones(5)\n"
   ]
  },
  {
   "cell_type": "code",
   "execution_count": 88,
   "id": "b1311a39-5903-406c-acc2-a04d78ec4483",
   "metadata": {},
   "outputs": [
    {
     "data": {
      "text/plain": [
       "array([1, 1, 1, 1, 1])"
      ]
     },
     "execution_count": 88,
     "metadata": {},
     "output_type": "execute_result"
    }
   ],
   "source": [
    "\n",
    "np.ones((5,), dtype=int)\n"
   ]
  },
  {
   "cell_type": "code",
   "execution_count": 89,
   "id": "12a7bbb6-e814-40d0-a53a-6c225033fb1e",
   "metadata": {},
   "outputs": [
    {
     "data": {
      "text/plain": [
       "array([[1.],\n",
       "       [1.]])"
      ]
     },
     "execution_count": 89,
     "metadata": {},
     "output_type": "execute_result"
    }
   ],
   "source": [
    "\n",
    "np.ones((2, 1))\n"
   ]
  },
  {
   "cell_type": "code",
   "execution_count": 110,
   "id": "bc60881a-6cc0-4d90-a357-41938fced494",
   "metadata": {},
   "outputs": [
    {
     "data": {
      "text/plain": [
       "array([[1., 1., 1., 1.],\n",
       "       [1., 1., 1., 1.],\n",
       "       [1., 1., 1., 1.]])"
      ]
     },
     "execution_count": 110,
     "metadata": {},
     "output_type": "execute_result"
    }
   ],
   "source": [
    "\n",
    "s = (3,4)                                                          # tuple\n",
    "np.ones(s)\n"
   ]
  },
  {
   "cell_type": "code",
   "execution_count": 111,
   "id": "5f32d3da-4649-4212-a27e-7eb3919921d0",
   "metadata": {},
   "outputs": [
    {
     "data": {
      "text/plain": [
       "array([(1, 1), (1, 1)], dtype=[('x', '<i4'), ('y', '<i4')])"
      ]
     },
     "execution_count": 111,
     "metadata": {},
     "output_type": "execute_result"
    }
   ],
   "source": [
    "\n",
    "np.ones((2,), dtype=[('x', 'i4'), ('y', 'i4')])                    # custom dtype\n"
   ]
  },
  {
   "cell_type": "code",
   "execution_count": 112,
   "id": "f81e68a1-68fd-4d55-8712-58d8a98e8ea9",
   "metadata": {},
   "outputs": [
    {
     "data": {
      "text/plain": [
       "array([[[1, 1, 1, 1],\n",
       "        [1, 1, 1, 1],\n",
       "        [1, 1, 1, 1]],\n",
       "\n",
       "       [[1, 1, 1, 1],\n",
       "        [1, 1, 1, 1],\n",
       "        [1, 1, 1, 1]]], dtype=int16)"
      ]
     },
     "execution_count": 112,
     "metadata": {},
     "output_type": "execute_result"
    }
   ],
   "source": [
    "\n",
    "np.ones((2, 3, 4), dtype=np.int16)                                 # (depth, rows, columns)\n"
   ]
  },
  {
   "cell_type": "markdown",
   "id": "cef42511-7d5c-4aed-a402-ab7831b364db",
   "metadata": {
    "jp-MarkdownHeadingCollapsed": true
   },
   "source": [
    "<br>\n",
    "\n",
    "### <div style=\"color: white; background-color: #af87ff; padding: 5px;\"> <code style=\"font-size: 1.2rem; background-color: #af87ff; color: white;\"><strong>numpy.eye()</strong></code> </div>"
   ]
  },
  {
   "cell_type": "markdown",
   "id": "ba733a40-50da-4543-8aa6-488093397a92",
   "metadata": {},
   "source": [
    "<code style=\"background-color: yellow; padding: 6px;\">numpy.<span style=\"color: red;\"><span style=\"font-size: 1rem;\"><strong>eye(</strong></span></span>num_rows<span style=\"color: red;\">,</span> num_columns<span style=\"color: #9b96a1;\">=None</span><span style=\"color: red;\">,</span> k<span style=\"color: #9b96a1;\">=0</span><span style=\"color: red;\">,</span> dtype<span style=\"color: #9b96a1;\">=float</span><span style=\"color: red;\">,</span> order<span style=\"color: #9b96a1;\">='C'</span><span style=\"color: red;\">,</span> *<span style=\"color: red;\"><span style=\"font-size: 1rem;\"><strong>)</strong></span></span></code> &nbsp;&nbsp;&nbsp;&nbsp;====>&nbsp;&nbsp;&nbsp;&nbsp;Return a 2-D array with ones on the diagonal and zeros elsewhere.\n",
    "\n",
    "<div style=\"display: flex; margin-left: 568px;\">\n",
    "<div>====></div>\n",
    "<div style=\"margin-left: 15px;\"><strong>k</strong> = Index of the diagonal: &nbsp;<code>0 (default)</code> refers to the <u>main diagonal</u>, <u>a positive value refers to an upper diagonal</u>, and <u>a negative value to a lower diagonal</u>.</div>\n",
    "</div>\n",
    "\n",
    "<br>\n",
    "\n",
    "<span style=\"margin-left: 555px;\"> &nbsp;&nbsp;&nbsp;&nbsp;====>&nbsp;&nbsp;&nbsp;&nbsp;order {'C', 'F'}</span>\n"
   ]
  },
  {
   "cell_type": "code",
   "execution_count": 78,
   "id": "94481013-d0f1-4713-8a3f-0b879244006a",
   "metadata": {},
   "outputs": [
    {
     "data": {
      "text/plain": [
       "array([[1, 0],\n",
       "       [0, 1]])"
      ]
     },
     "execution_count": 78,
     "metadata": {},
     "output_type": "execute_result"
    }
   ],
   "source": [
    "\n",
    "np.eye(2, dtype=int)                       # returns a 2D array of shape (2,2)\n"
   ]
  },
  {
   "cell_type": "code",
   "execution_count": 80,
   "id": "e5e9a012-0547-4034-8d65-9d859866c32b",
   "metadata": {},
   "outputs": [
    {
     "data": {
      "text/plain": [
       "array([[1., 0., 0.],\n",
       "       [0., 1., 0.],\n",
       "       [0., 0., 1.]])"
      ]
     },
     "execution_count": 80,
     "metadata": {},
     "output_type": "execute_result"
    }
   ],
   "source": [
    "\n",
    "np.eye(3)                                 # returns a 2D array of shape (3,3)\n"
   ]
  },
  {
   "cell_type": "code",
   "execution_count": 79,
   "id": "c7243ede-46b4-46a3-a75b-692d4679fd8e",
   "metadata": {},
   "outputs": [
    {
     "data": {
      "text/plain": [
       "array([[0., 1., 0.],\n",
       "       [0., 0., 1.],\n",
       "       [0., 0., 0.]])"
      ]
     },
     "execution_count": 79,
     "metadata": {},
     "output_type": "execute_result"
    }
   ],
   "source": [
    "\n",
    "np.eye(3, k=1)                            # returns a 2D array of shape (3,3)\n"
   ]
  },
  {
   "cell_type": "code",
   "execution_count": 82,
   "id": "dd1291ae-8358-49ff-8fe7-8a9b6d0d4232",
   "metadata": {},
   "outputs": [
    {
     "data": {
      "text/plain": [
       "array([[0., 0., 1.],\n",
       "       [0., 0., 0.],\n",
       "       [0., 0., 0.]])"
      ]
     },
     "execution_count": 82,
     "metadata": {},
     "output_type": "execute_result"
    }
   ],
   "source": [
    "\n",
    "np.eye(3, k=2)                            # returns a 2D array of shape (3,3)\n"
   ]
  },
  {
   "cell_type": "markdown",
   "id": "b2758785-8ac4-40b9-abec-6bd84c186fea",
   "metadata": {
    "jp-MarkdownHeadingCollapsed": true
   },
   "source": [
    "<br>\n",
    "\n",
    "### <div style=\"color: white; background-color: #af87ff; padding: 5px;\"> <code style=\"font-size: 1.2rem; background-color: #af87ff; color: white;\"><strong>numpy.identity()</strong></code> </div>"
   ]
  },
  {
   "cell_type": "markdown",
   "id": "dba2063a-9ab7-4cca-bfbd-e90d76e81eb0",
   "metadata": {},
   "source": [
    "<code style=\"background-color: yellow; padding: 6px;\">numpy.<span style=\"color: red;\"><span style=\"font-size: 1rem;\"><strong>identity(</strong></span></span>n<span style=\"color: red;\">,</span> dtype<span style=\"color: #9b96a1;\">=None</span><span style=\"color: red;\">,</span> *<span style=\"color: red;\"><span style=\"font-size: 1rem;\"><strong>)</strong></span></span></code> &nbsp;&nbsp;&nbsp;&nbsp;====>&nbsp;&nbsp;&nbsp;&nbsp;Returns the **identity array** which is <u>a square array with ones on the main diagonal</u>. <br>\n",
    "<span style=\"margin-left: 354px;\">It actually returns &nbsp;<code>n x n</code>&nbsp; array with its **main diagonal set to one**, and **all other elements 0**.</span>\n",
    "\n",
    "<span style=\"margin-left: 275px;\"> &nbsp;&nbsp;&nbsp;&nbsp;====>&nbsp;&nbsp;&nbsp;&nbsp;**n** &nbsp;=&nbsp; Number of rows (and columns) in &nbsp;<code>n x n</code>&nbsp; output.</span>\n",
    "\n"
   ]
  },
  {
   "cell_type": "code",
   "execution_count": 83,
   "id": "3c973a43-1e76-46ae-98bf-98907f527e81",
   "metadata": {},
   "outputs": [
    {
     "data": {
      "text/plain": [
       "array([[1., 0., 0.],\n",
       "       [0., 1., 0.],\n",
       "       [0., 0., 1.]])"
      ]
     },
     "execution_count": 83,
     "metadata": {},
     "output_type": "execute_result"
    }
   ],
   "source": [
    "\n",
    "np.identity(3)\n"
   ]
  },
  {
   "cell_type": "markdown",
   "id": "f4dc1e89-a7b2-4953-9bc8-1a19665f87e0",
   "metadata": {
    "jp-MarkdownHeadingCollapsed": true
   },
   "source": [
    "<br>\n",
    "\n",
    "### <div style=\"color: white; background-color: #af87ff; padding: 5px;\"> <code style=\"font-size: 1.2rem; background-color: #af87ff; color: white;\"><strong>numpy.empty()</strong></code> </div>"
   ]
  },
  {
   "cell_type": "markdown",
   "id": "df317108-4788-4ced-ba39-ad7a58dd4883",
   "metadata": {},
   "source": [
    "<code style=\"background-color: yellow; padding: 6px;\">numpy.<span style=\"color: red;\"><span style=\"font-size: 1rem;\"><strong>empty(</strong></span></span>shape<span style=\"color: red;\">,</span> dtype<span style=\"color: #9b96a1;\">=float</span><span style=\"color: red;\">,</span> order<span style=\"color: #9b96a1;\">='C'</span><span style=\"color: red;\">,</span> *<span style=\"color: red;\"><span style=\"font-size: 1rem;\"><strong>)</strong></span></span></code> &nbsp;&nbsp;&nbsp;&nbsp;====>&nbsp;&nbsp;&nbsp;&nbsp;Return a new array of given shape and type, <u>without initializing entries</u>.\n",
    "\n",
    "<span style=\"margin-left: 370px;\"> &nbsp;&nbsp;&nbsp;&nbsp;====>&nbsp;&nbsp;&nbsp;&nbsp;order {'C', 'F'}</span>\n",
    "\n",
    "<span style=\"margin-left: 370px;\"> &nbsp;&nbsp;&nbsp;&nbsp;====>&nbsp;&nbsp;&nbsp;&nbsp;Whether to store multi-dimensional data in **row-major (C)** or **column-major (F)** order <u>in memory</u></span>\n",
    "\n"
   ]
  },
  {
   "cell_type": "code",
   "execution_count": 103,
   "id": "d417767e-5e02-404a-92ec-f2870e2a61cb",
   "metadata": {},
   "outputs": [
    {
     "data": {
      "text/plain": [
       "array([[1., 1.],\n",
       "       [1., 1.]])"
      ]
     },
     "execution_count": 103,
     "metadata": {},
     "output_type": "execute_result"
    }
   ],
   "source": [
    "\n",
    "np.empty([2, 2])                          # uninitialized\n"
   ]
  },
  {
   "cell_type": "code",
   "execution_count": 107,
   "id": "7f97e9a2-d6e8-477a-a870-5fe5aa36f292",
   "metadata": {},
   "outputs": [
    {
     "data": {
      "text/plain": [
       "array([[-2102209360,         434],\n",
       "       [          0,           0]])"
      ]
     },
     "execution_count": 107,
     "metadata": {},
     "output_type": "execute_result"
    }
   ],
   "source": [
    "\n",
    "np.empty([2, 2], dtype=int)               # uninitialized     \n",
    "                                          # the ouput will keep on changing everytime you execute this line\n"
   ]
  },
  {
   "cell_type": "code",
   "execution_count": 11,
   "id": "c075513d-576f-4ca3-b20d-8d2bf917e37a",
   "metadata": {},
   "outputs": [
    {
     "data": {
      "text/plain": [
       "array([[0.53222222, 0.33722222, 0.53222222],\n",
       "       [4.03322222, 5.49222222, 0.33722222]])"
      ]
     },
     "execution_count": 11,
     "metadata": {},
     "output_type": "execute_result"
    }
   ],
   "source": [
    "\n",
    "np.empty((2, 3)) \n"
   ]
  },
  {
   "cell_type": "markdown",
   "id": "6698ec81-63ea-483f-8488-d3be6a2c01aa",
   "metadata": {},
   "source": [
    "<br>\n",
    "\n",
    "<code style=\"color:white; background-color: red;\">Caution</code> <br>\n",
    "It’s not safe to assume that <code>numpy.<span style=\"color: red;\">empty()</span></code> will return an array of all zeros. &nbsp;This function returns **uninitialized memory** and thus **may contain nonzero \"garbage\" values** . You should use this function only if you intend to populate the new array with data.\n",
    "\n",
    "<br>"
   ]
  },
  {
   "cell_type": "markdown",
   "id": "f990ff44-83be-4315-bc95-f1da835738b3",
   "metadata": {
    "jp-MarkdownHeadingCollapsed": true
   },
   "source": [
    "<br>\n",
    "\n",
    "### <div style=\"color: white; background-color: #af87ff; padding: 5px;\"> <code style=\"font-size: 1.2rem; background-color: #af87ff; color: white;\"><strong>numpy.arange()</strong></code> </div>"
   ]
  },
  {
   "cell_type": "markdown",
   "id": "e25a8b0d-719a-4695-b0cc-cbe6f9e9cb8b",
   "metadata": {},
   "source": [
    "\n",
    "<code style=\"background-color: yellow; padding: 6px;\">numpy.<span style=\"color: red;\"><span style=\"font-size: 1rem;\"><strong>arange(</strong></span></span>[start<span style=\"color: red;\">,</span> ]stop<span style=\"color: red;\">,</span> [step, ]dtype<span style=\"color: #9b96a1;\">=None</span><span style=\"color: red;\">,</span> *<span style=\"color: red;\"><span style=\"font-size: 1rem;\"><strong>)</strong></span></span></code> &nbsp;&nbsp;&nbsp;&nbsp;====>&nbsp;&nbsp;&nbsp;&nbsp;Return **evenly spaced values** within a given interval.\n",
    "\n",
    "<br>\n",
    "\n",
    "For integer arguments the function is roughly equivalent to the Python built-in &nbsp;<code style=\"color: red; background-color: #bbffff;\">range</code> , but returns an <u><span style=\"color: blue;\">**ndarray**</span></u> rather than a <u>range instance</u>.\n",
    "\n",
    "<br>\n",
    "\n",
    "When using a **non-integer step**, such as <code style=\"color: blue; background-color: #eaeded;\">0.1</code> , it is often better to use &nbsp;<code style=\"background-color: yellow;\">numpy.<span style=\"color: red; font-size: 1rem;\"><strong>linspace()</strong></span></code>.&nbsp; \n",
    "<span style=\"color: #a245ff;\">When &nbsp;<code style=\"color: red; background-color: #eaeded;\">arange()</code>&nbsp; is used with floating point arguments, it is generally not possible to predict the number of elements obtained, due to the finite floating point precision. &nbsp;For this reason, it is usually better to use the function &nbsp;<code style=\"color: red; background-color: #eaeded;\">linspace()</code>&nbsp; that receives as an argument the number of elements that we want, instead of the step :</span>\n",
    "\n",
    "<br>"
   ]
  },
  {
   "cell_type": "code",
   "execution_count": 33,
   "id": "f7c027c1-a136-4951-b8e8-e0c26fdbe0e4",
   "metadata": {},
   "outputs": [
    {
     "data": {
      "text/plain": [
       "array([0, 1, 2])"
      ]
     },
     "execution_count": 33,
     "metadata": {},
     "output_type": "execute_result"
    }
   ],
   "source": [
    "\n",
    "np.arange(3)                            # arange(stop)   =======>   [0, stop)   =======>   \"0\" included, but \"stop\" excluded\n",
    "                                        "
   ]
  },
  {
   "cell_type": "code",
   "execution_count": 32,
   "id": "de82d823-f33c-45a8-84c8-61e692e73f27",
   "metadata": {},
   "outputs": [
    {
     "data": {
      "text/plain": [
       "array([0., 1., 2.])"
      ]
     },
     "execution_count": 32,
     "metadata": {},
     "output_type": "execute_result"
    }
   ],
   "source": [
    "\n",
    "np.arange(3.0)                          # it accepts float arguments\n"
   ]
  },
  {
   "cell_type": "code",
   "execution_count": 31,
   "id": "1b1dae37-ffec-405e-9530-911fcec64cb2",
   "metadata": {},
   "outputs": [
    {
     "data": {
      "text/plain": [
       "array([3, 4, 5, 6])"
      ]
     },
     "execution_count": 31,
     "metadata": {},
     "output_type": "execute_result"
    }
   ],
   "source": [
    "\n",
    "np.arange(3,7)                          # arange(start, stop)\n"
   ]
  },
  {
   "cell_type": "code",
   "execution_count": 30,
   "id": "a8956d2f-2b18-4a46-8bc6-6cfb83f15837",
   "metadata": {},
   "outputs": [
    {
     "data": {
      "text/plain": [
       "array([3, 5])"
      ]
     },
     "execution_count": 30,
     "metadata": {},
     "output_type": "execute_result"
    }
   ],
   "source": [
    "\n",
    "np.arange(3,7,2)                        # arange(start, stop, step)\n"
   ]
  },
  {
   "cell_type": "code",
   "execution_count": 29,
   "id": "c63105da-018c-4d40-98a3-c2222821b838",
   "metadata": {},
   "outputs": [
    {
     "data": {
      "text/plain": [
       "array([10, 15, 20, 25])"
      ]
     },
     "execution_count": 29,
     "metadata": {},
     "output_type": "execute_result"
    }
   ],
   "source": [
    "\n",
    "np.arange(10, 30, 5)                    # arange(start, stop, step)\n"
   ]
  },
  {
   "cell_type": "code",
   "execution_count": 34,
   "id": "acde6bed-aa86-4660-95d6-7d2c5d2ddc65",
   "metadata": {},
   "outputs": [
    {
     "data": {
      "text/plain": [
       "array([0. , 0.3, 0.6, 0.9, 1.2, 1.5, 1.8])"
      ]
     },
     "execution_count": 34,
     "metadata": {},
     "output_type": "execute_result"
    }
   ],
   "source": [
    "\n",
    "np.arange(0, 2, 0.3)                    # it accepts float arguments\n"
   ]
  },
  {
   "cell_type": "markdown",
   "id": "0db398c4-7132-4910-bd39-a389eeb3080a",
   "metadata": {},
   "source": [
    "<br>\n",
    "\n",
    "<code style=\"background-color: red; color: white;\"> Warning </code>\n",
    "\n",
    "However, **the length of the output <u>might not be numerically stable</u> while handlling float values values** (due to precision error while type casting).<br>\n",
    "Also, the built-in &nbsp;<code style=\"color: red;\">range()</code>&nbsp; generates Python built-in integers that have arbitrary size, while &nbsp;<code>numpy.<span style=\"color: red;\">arange()</span></code> produces numpy.int32 or numpy.int64 numbers. **This may result in incorrect results for large integer values**:\n",
    "\n",
    "https://numpy.org/doc/stable/reference/generated/numpy.arange.html"
   ]
  },
  {
   "cell_type": "code",
   "execution_count": 119,
   "id": "9d8bb89a-e9c6-4ae9-92d7-f8ee7fb1bbcf",
   "metadata": {},
   "outputs": [
    {
     "data": {
      "text/plain": [
       "array([0, 0, 0, 0, 0, 0, 0, 0, 0, 0])"
      ]
     },
     "execution_count": 119,
     "metadata": {},
     "output_type": "execute_result"
    }
   ],
   "source": [
    "\n",
    "np.arange(0, 5, 0.5, dtype=int)\n"
   ]
  },
  {
   "cell_type": "code",
   "execution_count": 120,
   "id": "0a4ae4a2-047d-4b98-97ea-5338f61f38e7",
   "metadata": {},
   "outputs": [
    {
     "data": {
      "text/plain": [
       "array([-3, -2, -1,  0,  1,  2,  3,  4,  5,  6,  7,  8])"
      ]
     },
     "execution_count": 120,
     "metadata": {},
     "output_type": "execute_result"
    }
   ],
   "source": [
    "\n",
    "np.arange(-3, 3, 0.5, dtype=int)\n"
   ]
  },
  {
   "cell_type": "code",
   "execution_count": 3,
   "id": "6775f114-38c6-4b3b-9fc3-db53e72e49a8",
   "metadata": {},
   "outputs": [
    {
     "name": "stdout",
     "output_type": "stream",
     "text": [
      "[0, 1, 7776, 8801, 6176, 625, 6576, 4001]\n",
      "[0, 1, 0, 6897, 0, 3617, 0, 1537]\n"
     ]
    }
   ],
   "source": [
    "\n",
    "power = 40\n",
    "modulo = 10000\n",
    "x1 = [(n ** power) % modulo for n in range(8)]\n",
    "x2 = [(n ** power) % modulo for n in np.arange(8)]\n",
    "print(x1)\n",
    "print(x2)\n"
   ]
  },
  {
   "cell_type": "markdown",
   "id": "234b472a-8b4d-4e88-9901-d13b420bb7f3",
   "metadata": {
    "jp-MarkdownHeadingCollapsed": true
   },
   "source": [
    "<br>\n",
    "\n",
    "### <div style=\"color: white; background-color: #af87ff; padding: 5px;\"> <code style=\"font-size: 1.2rem; background-color: #af87ff; color: white;\"><strong>numpy.linspace()</strong></code> </div>"
   ]
  },
  {
   "cell_type": "markdown",
   "id": "451839be-86f5-4591-9d3c-3327e0ec200d",
   "metadata": {},
   "source": [
    "<code style=\"background-color: yellow; padding: 6px;\">numpy.<span style=\"color: red;\"><span style=\"font-size: 1rem;\"><strong>empty(</strong></span></span>start<span style=\"color: red;\">,</span> stop<span style=\"color: red;\">,</span> num<span style=\"color: #9b96a1;\">=50</span><span style=\"color: red;\">,</span> endpoint<span style=\"color: #9b96a1;\">=True</span><span style=\"color: red;\">,</span> retstep<span style=\"color: #9b96a1;\">=False</span><span style=\"color: red;\">,</span> dtype<span style=\"color: #9b96a1;\">=None</span><span style=\"color: red;\">,</span> axis<span style=\"color: #9b96a1;\">=0</span><span style=\"color: red;\">,</span> *<span style=\"color: red;\"><span style=\"font-size: 1rem;\"><strong>)</strong></span></span></code> \n",
    "\n",
    "<span style=\"margin-left: 450px;\"> &nbsp;&nbsp;==>&nbsp;&nbsp; Return **evenly** spaced numbers over a specified interval</span>\n",
    "\n",
    "<span style=\"margin-left: 450px;\"> &nbsp;&nbsp;==>&nbsp;&nbsp; Returns &nbsp;<code>num</code>&nbsp; evenly spaced samples, calculated over the interval &nbsp;<code>[start, stop]</code></span>\n",
    "\n",
    "<span style=\"margin-left: 450px;\"> &nbsp;&nbsp;==>&nbsp;&nbsp; The endpoint of the interval can optionally be excluded</span>\n",
    "\n",
    "<span style=\"margin-left: 450px;\"> &nbsp;&nbsp;==>&nbsp;&nbsp; <code>retstep</code> &nbsp;➜ &nbsp;If True, return (samples, step), where step is the spacing between samples.</span>\n"
   ]
  },
  {
   "cell_type": "code",
   "execution_count": 15,
   "id": "bfb8946e-02cd-4e2a-ba82-7ec5a6653713",
   "metadata": {},
   "outputs": [
    {
     "data": {
      "text/plain": [
       "array([0.  , 0.25, 0.5 , 0.75, 1.  , 1.25, 1.5 , 1.75, 2.  ])"
      ]
     },
     "execution_count": 15,
     "metadata": {},
     "output_type": "execute_result"
    }
   ],
   "source": [
    "\n",
    "np.linspace(0, 2, 9)                                                  # 9 numbers from 0 to 2\n"
   ]
  },
  {
   "cell_type": "code",
   "execution_count": 16,
   "id": "2f6fe256-75d8-43bc-9586-1a83b5db264f",
   "metadata": {},
   "outputs": [
    {
     "data": {
      "text/plain": [
       "array([2.  , 2.25, 2.5 , 2.75, 3.  ])"
      ]
     },
     "execution_count": 16,
     "metadata": {},
     "output_type": "execute_result"
    }
   ],
   "source": [
    "\n",
    "np.linspace(2.0, 3.0, num=5)                                          # 5 numbers from 2.0 to 3.0\n"
   ]
  },
  {
   "cell_type": "code",
   "execution_count": 17,
   "id": "b2484829-a884-47bf-93f2-05a69cee8482",
   "metadata": {},
   "outputs": [
    {
     "data": {
      "text/plain": [
       "array([2. , 2.2, 2.4, 2.6, 2.8])"
      ]
     },
     "execution_count": 17,
     "metadata": {},
     "output_type": "execute_result"
    }
   ],
   "source": [
    "\n",
    "np.linspace(2.0, 3.0, num=5, endpoint=False)                          # 5 numbers from 2.0 to 3.0, with 3.0 excluded\n"
   ]
  },
  {
   "cell_type": "code",
   "execution_count": 18,
   "id": "38d5b2d1-b0a8-4d8b-977a-8300910696a5",
   "metadata": {},
   "outputs": [
    {
     "data": {
      "text/plain": [
       "(array([2.  , 2.25, 2.5 , 2.75, 3.  ]), 0.25)"
      ]
     },
     "execution_count": 18,
     "metadata": {},
     "output_type": "execute_result"
    }
   ],
   "source": [
    "\n",
    "np.linspace(2.0, 3.0, num=5, retstep=True)                            # 5 numbers from 2.0 to 3.0\n"
   ]
  },
  {
   "cell_type": "code",
   "execution_count": 24,
   "id": "f2431607-2f05-49b4-a315-789f36e7c219",
   "metadata": {},
   "outputs": [
    {
     "data": {
      "text/plain": [
       "array([0.        , 0.06346652, 0.12693304, 0.19039955, 0.25386607,\n",
       "       0.31733259, 0.38079911, 0.44426563, 0.50773215, 0.57119866,\n",
       "       0.63466518, 0.6981317 , 0.76159822, 0.82506474, 0.88853126,\n",
       "       0.95199777, 1.01546429, 1.07893081, 1.14239733, 1.20586385,\n",
       "       1.26933037, 1.33279688, 1.3962634 , 1.45972992, 1.52319644,\n",
       "       1.58666296, 1.65012947, 1.71359599, 1.77706251, 1.84052903,\n",
       "       1.90399555, 1.96746207, 2.03092858, 2.0943951 , 2.15786162,\n",
       "       2.22132814, 2.28479466, 2.34826118, 2.41172769, 2.47519421,\n",
       "       2.53866073, 2.60212725, 2.66559377, 2.72906028, 2.7925268 ,\n",
       "       2.85599332, 2.91945984, 2.98292636, 3.04639288, 3.10985939,\n",
       "       3.17332591, 3.23679243, 3.30025895, 3.36372547, 3.42719199,\n",
       "       3.4906585 , 3.55412502, 3.61759154, 3.68105806, 3.74452458,\n",
       "       3.8079911 , 3.87145761, 3.93492413, 3.99839065, 4.06185717,\n",
       "       4.12532369, 4.1887902 , 4.25225672, 4.31572324, 4.37918976,\n",
       "       4.44265628, 4.5061228 , 4.56958931, 4.63305583, 4.69652235,\n",
       "       4.75998887, 4.82345539, 4.88692191, 4.95038842, 5.01385494,\n",
       "       5.07732146, 5.14078798, 5.2042545 , 5.26772102, 5.33118753,\n",
       "       5.39465405, 5.45812057, 5.52158709, 5.58505361, 5.64852012,\n",
       "       5.71198664, 5.77545316, 5.83891968, 5.9023862 , 5.96585272,\n",
       "       6.02931923, 6.09278575, 6.15625227, 6.21971879, 6.28318531])"
      ]
     },
     "execution_count": 24,
     "metadata": {},
     "output_type": "execute_result"
    }
   ],
   "source": [
    "\n",
    "from numpy import pi\n",
    "x = np.linspace(0, 2 * pi, 100)                                       # useful to evaluate function at lots of points\n",
    "x\n"
   ]
  },
  {
   "cell_type": "code",
   "execution_count": 23,
   "id": "7570fe97-aee4-4ba2-91a3-15bc2857f354",
   "metadata": {},
   "outputs": [
    {
     "data": {
      "text/plain": [
       "array([ 0.00000000e+00,  6.34239197e-02,  1.26592454e-01,  1.89251244e-01,\n",
       "        2.51147987e-01,  3.12033446e-01,  3.71662456e-01,  4.29794912e-01,\n",
       "        4.86196736e-01,  5.40640817e-01,  5.92907929e-01,  6.42787610e-01,\n",
       "        6.90079011e-01,  7.34591709e-01,  7.76146464e-01,  8.14575952e-01,\n",
       "        8.49725430e-01,  8.81453363e-01,  9.09631995e-01,  9.34147860e-01,\n",
       "        9.54902241e-01,  9.71811568e-01,  9.84807753e-01,  9.93838464e-01,\n",
       "        9.98867339e-01,  9.99874128e-01,  9.96854776e-01,  9.89821442e-01,\n",
       "        9.78802446e-01,  9.63842159e-01,  9.45000819e-01,  9.22354294e-01,\n",
       "        8.95993774e-01,  8.66025404e-01,  8.32569855e-01,  7.95761841e-01,\n",
       "        7.55749574e-01,  7.12694171e-01,  6.66769001e-01,  6.18158986e-01,\n",
       "        5.67059864e-01,  5.13677392e-01,  4.58226522e-01,  4.00930535e-01,\n",
       "        3.42020143e-01,  2.81732557e-01,  2.20310533e-01,  1.58001396e-01,\n",
       "        9.50560433e-02,  3.17279335e-02, -3.17279335e-02, -9.50560433e-02,\n",
       "       -1.58001396e-01, -2.20310533e-01, -2.81732557e-01, -3.42020143e-01,\n",
       "       -4.00930535e-01, -4.58226522e-01, -5.13677392e-01, -5.67059864e-01,\n",
       "       -6.18158986e-01, -6.66769001e-01, -7.12694171e-01, -7.55749574e-01,\n",
       "       -7.95761841e-01, -8.32569855e-01, -8.66025404e-01, -8.95993774e-01,\n",
       "       -9.22354294e-01, -9.45000819e-01, -9.63842159e-01, -9.78802446e-01,\n",
       "       -9.89821442e-01, -9.96854776e-01, -9.99874128e-01, -9.98867339e-01,\n",
       "       -9.93838464e-01, -9.84807753e-01, -9.71811568e-01, -9.54902241e-01,\n",
       "       -9.34147860e-01, -9.09631995e-01, -8.81453363e-01, -8.49725430e-01,\n",
       "       -8.14575952e-01, -7.76146464e-01, -7.34591709e-01, -6.90079011e-01,\n",
       "       -6.42787610e-01, -5.92907929e-01, -5.40640817e-01, -4.86196736e-01,\n",
       "       -4.29794912e-01, -3.71662456e-01, -3.12033446e-01, -2.51147987e-01,\n",
       "       -1.89251244e-01, -1.26592454e-01, -6.34239197e-02, -2.44929360e-16])"
      ]
     },
     "execution_count": 23,
     "metadata": {},
     "output_type": "execute_result"
    }
   ],
   "source": [
    "\n",
    "f = np.sin(x)\n",
    "f\n"
   ]
  },
  {
   "cell_type": "markdown",
   "id": "c6076858-14ea-4746-932e-244b64cd96d5",
   "metadata": {},
   "source": [
    "<br>\n",
    "\n",
    "<span style=\"color: #a245ff;\">Let's see the graphical representation.</span>\n"
   ]
  },
  {
   "cell_type": "code",
   "execution_count": 10,
   "id": "819cefd6-1a0e-4316-86da-32f7b5ff7587",
   "metadata": {},
   "outputs": [
    {
     "data": {
      "image/png": "[encoded data removed]",
      "text/plain": [
       "<Figure size 640x480 with 1 Axes>"
      ]
     },
     "metadata": {},
     "output_type": "display_data"
    }
   ],
   "source": [
    "\n",
    "import matplotlib.pyplot as plt\n",
    "N = 8\n",
    "y = np.zeros(N)\n",
    "x1 = np.linspace(0, 10, N, endpoint=True)\n",
    "x2 = np.linspace(0, 10, N, endpoint=False)\n",
    "plt.plot(x1, y, 'o')\n",
    "plt.plot(x2, y + 0.5, 'o')\n",
    "plt.ylim([-0.5, 1])\n",
    "plt.show()\n"
   ]
  },
  {
   "cell_type": "markdown",
   "id": "4eb97adb-75c0-4e7f-8dd4-3b4b5b44f3d0",
   "metadata": {},
   "source": [
    "<br>\n",
    "\n",
    "<span style=\"color: #06fff0; font-size: 0.7rem;\">■■■■■■■■■■■■■■■■■■■■■■■■■■■■■■■■■■■■■■■■■■■■■■■■■■■■■■■■■■■■■■■■■■■■■■■■■■■■■■■■■■■■■■■■■■■■■■■■■■■■■■■■■■■■■■■</span>\n",
    "\n",
    "<br>\n",
    "\n",
    "<span style=\"background-color: blue; color: white; padding:3px;\">&nbsp;&nbsp;Note :&nbsp;&nbsp;</span>\n",
    "\n",
    "&nbsp;&nbsp;&nbsp;&nbsp;&nbsp;&nbsp;&nbsp;&nbsp;&nbsp;&nbsp;&nbsp;&nbsp;&nbsp;&nbsp;&nbsp;&nbsp;&nbsp; <code style=\"background-color: #c2ffa7; padding: 3px;\">numpy_array.<span style=\"color: red; font-size: 1rem;\"><strong>ndim</strong></span>  </code> &nbsp;&nbsp;&nbsp;&nbsp; = &nbsp;&nbsp;&nbsp;&nbsp; <code style=\"background-color: yellow; padding: 3px;\">numpy.<span style=\"color: red; font-size: 1rem;\"><strong>ndim()</strong></span> </code> \n",
    "\n",
    "<br>\n",
    "\n",
    "&nbsp;&nbsp;&nbsp;&nbsp;&nbsp;&nbsp;&nbsp;&nbsp;&nbsp;&nbsp;&nbsp;&nbsp;&nbsp;&nbsp;&nbsp;&nbsp;&nbsp; <code style=\"background-color: #c2ffa7; padding: 3px;\">numpy_array.<span style=\"color: red; font-size: 1rem;\"><strong>shape</strong></span> </code> &nbsp;&nbsp;&nbsp;&nbsp; = &nbsp;&nbsp;&nbsp;&nbsp; <code style=\"background-color: yellow; padding: 3px;\">numpy.<span style=\"color: red; font-size: 1rem;\"><strong>shape()</strong></span></code> \n",
    "\n",
    "<br>\n",
    "\n",
    "&nbsp;&nbsp;&nbsp;&nbsp;&nbsp;&nbsp;&nbsp;&nbsp;&nbsp;&nbsp;&nbsp;&nbsp;&nbsp;&nbsp;&nbsp;&nbsp;&nbsp; <code style=\"background-color: #c2ffa7; padding: 3px;\">numpy_array.<span style=\"color: red; font-size: 1rem;\"><strong>size</strong></span>  </code> &nbsp;&nbsp;&nbsp;&nbsp; = &nbsp;&nbsp;&nbsp;&nbsp; <code style=\"background-color: yellow; padding: 3px;\">numpy.<span style=\"color: red; font-size: 1rem;\"><strong>size()</strong></span> </code>\n"
   ]
  },
  {
   "cell_type": "code",
   "execution_count": 202,
   "id": "a3ecdb40-d8a9-4025-9b2d-0c0a7786d216",
   "metadata": {},
   "outputs": [
    {
     "data": {
      "text/plain": [
       "2"
      ]
     },
     "execution_count": 202,
     "metadata": {},
     "output_type": "execute_result"
    }
   ],
   "source": [
    "\n",
    "np.ndim([[1,2,3],[4,5,6]])\n"
   ]
  },
  {
   "cell_type": "code",
   "execution_count": 38,
   "id": "b52c36f1-6455-443b-8e5b-78233879b5e8",
   "metadata": {},
   "outputs": [
    {
     "data": {
      "text/plain": [
       "2"
      ]
     },
     "execution_count": 38,
     "metadata": {},
     "output_type": "execute_result"
    }
   ],
   "source": [
    "\n",
    "np.ndim(np.array([[1,2,3],[4,5,6]]))\n"
   ]
  },
  {
   "cell_type": "code",
   "execution_count": 39,
   "id": "d6203a58-bfb8-4ce1-831e-3869477f4d63",
   "metadata": {},
   "outputs": [
    {
     "data": {
      "text/plain": [
       "0"
      ]
     },
     "execution_count": 39,
     "metadata": {},
     "output_type": "execute_result"
    }
   ],
   "source": [
    "\n",
    "np.ndim(1)\n"
   ]
  },
  {
   "cell_type": "code",
   "execution_count": 40,
   "id": "a7fea47f-7b5a-4a77-92e0-b999ca3a3c51",
   "metadata": {},
   "outputs": [
    {
     "data": {
      "text/plain": [
       "(3, 3)"
      ]
     },
     "execution_count": 40,
     "metadata": {},
     "output_type": "execute_result"
    }
   ],
   "source": [
    "\n",
    "np.shape(np.eye(3))\n"
   ]
  },
  {
   "cell_type": "code",
   "execution_count": 41,
   "id": "2fc18141-1384-4e59-aa0e-350ecdae338d",
   "metadata": {},
   "outputs": [
    {
     "data": {
      "text/plain": [
       "(1, 2)"
      ]
     },
     "execution_count": 41,
     "metadata": {},
     "output_type": "execute_result"
    }
   ],
   "source": [
    "\n",
    "np.shape([[1, 3]])\n"
   ]
  },
  {
   "cell_type": "code",
   "execution_count": 42,
   "id": "18d95c40-b782-44b7-9448-139dbd63ffb4",
   "metadata": {},
   "outputs": [
    {
     "data": {
      "text/plain": [
       "(1,)"
      ]
     },
     "execution_count": 42,
     "metadata": {},
     "output_type": "execute_result"
    }
   ],
   "source": [
    "\n",
    "np.shape([0])\n"
   ]
  },
  {
   "cell_type": "code",
   "execution_count": 43,
   "id": "c322c0d9-09e0-4d57-847a-f1264ca974f7",
   "metadata": {},
   "outputs": [
    {
     "data": {
      "text/plain": [
       "()"
      ]
     },
     "execution_count": 43,
     "metadata": {},
     "output_type": "execute_result"
    }
   ],
   "source": [
    "\n",
    "np.shape(0)\n"
   ]
  },
  {
   "cell_type": "code",
   "execution_count": 46,
   "id": "4f49fe1e-44f4-4f0b-9f53-5c91d84a0a9d",
   "metadata": {},
   "outputs": [
    {
     "name": "stdout",
     "output_type": "stream",
     "text": [
      "(3,)\n",
      "(3,)\n"
     ]
    }
   ],
   "source": [
    "\n",
    "a = np.array([(1, 2), (3, 4), (5, 6)], dtype=[('x', 'i4'), ('y', 'i4')])\n",
    "print(np.shape(a))                                                               # METHOD-1\n",
    "print(a.shape)                                                                   # METHOD-2\n"
   ]
  },
  {
   "cell_type": "markdown",
   "id": "96cf00c1-4ada-423c-aa6d-b27170f677c1",
   "metadata": {
    "jp-MarkdownHeadingCollapsed": true
   },
   "source": [
    "<br>\n",
    "\n",
    "### <div style=\"color: white; background-color: #af87ff; padding: 5px;\"> <code style=\"font-size: 1.2rem; background-color: #af87ff; color: white;\"><strong>numpy.fromfunction()</strong></code> </div>"
   ]
  },
  {
   "cell_type": "markdown",
   "id": "e50cd87d-f44b-45c8-b96b-b7459cb90793",
   "metadata": {},
   "source": [
    "\n",
    "<code style=\"background-color: yellow; padding: 6px;\">numpy.<span style=\"color: red;\"><span style=\"font-size: 1rem;\"><strong>fromfunction(</strong></span><span style=\"color: black;\">function</span>, <span style=\"color: black;\">shape</span>, <span style=\"color: black;\">dtype</span><span style=\"color: #9b96a1;\">=float</span><span style=\"font-size: 1rem;\"><strong>)</strong></span></span></code> &nbsp;generates an array by <strong>applying a function over each coordinate</strong> in a grid of the shape of the array. \n",
    "\n",
    "<span style=\"margin-left: 405px;\">The resulting array, therefore, has a value &nbsp;<code>fn(x, y, z)</code>&nbsp; at coordinate &nbsp;<code>(x, y, z)</code></span>\n",
    "\n",
    "<span style=\"margin-left: 408px;\">It is often used to create arrays based on mathematical calculations involving the indices of the array.</span>\n",
    "\n",
    "<br>\n",
    "\n",
    "<code style=\"background-color: black; color: white;\">Example - 1</code> &nbsp;<code style=\"background-color: white; color:  #a245ff;\">let's create a 1D array</code>"
   ]
  },
  {
   "cell_type": "code",
   "execution_count": 21,
   "id": "fc79e762-47c2-4b44-8f38-94ad2339c0d2",
   "metadata": {},
   "outputs": [
    {
     "name": "stdout",
     "output_type": "stream",
     "text": [
      "[[ 0  1  2  3]\n",
      " [10 11 12 13]\n",
      " [20 21 22 23]\n",
      " [30 31 32 33]\n",
      " [40 41 42 43]]\n"
     ]
    }
   ],
   "source": [
    "\n",
    "def f(x, y):\n",
    "    return 10 * x + y\n",
    "\n",
    "\n",
    "b = np.fromfunction(f, (5, 4), dtype=int)       # it takes a function as its first argument and a shape tuple as its second argument\n",
    "                                                # it creates an array of the given shape and applies the given function to each coordinate in the array\n",
    "                                                # but exactly how?\n",
    "\n",
    "                                                # Basically it creates an empty array of size (5,4)\n",
    "                                                #              and then computes  10*x+y  for every ccoordinate (x,y) and that will be the result\n",
    "\n",
    "                                                # EXAMPLE:\n",
    "                                                #           ==> The element at position (0, 0) is calculated as 10 * 0 + 0 = 0\n",
    "                                                #           ==> The element at position (1, 1) is calculated as 10 * 1 + 1 = 11\n",
    "                                                #           ==> The element at position (2, 3) is calculated as 10 * 2 + 3 = 23\n",
    "\n",
    "\n",
    "print(b)\n"
   ]
  },
  {
   "cell_type": "markdown",
   "id": "20beafb4-46f3-4f9a-a82d-00579f8ad910",
   "metadata": {},
   "source": [
    "<br>\n",
    "\n",
    "<code style=\"background-color: black; color: white;\">Example - 2</code> &nbsp;<code style=\"background-color: white; color:  #a245ff;\">let's create a 3D array</code>"
   ]
  },
  {
   "cell_type": "code",
   "execution_count": 24,
   "id": "f7bbb0fa-846f-432c-b5f0-1b11388aa9ca",
   "metadata": {},
   "outputs": [
    {
     "name": "stdout",
     "output_type": "stream",
     "text": [
      "[[[0 1 2 3]\n",
      "  [1 2 3 4]\n",
      "  [2 3 4 5]]\n",
      "\n",
      " [[1 2 3 4]\n",
      "  [2 3 4 5]\n",
      "  [3 4 5 6]]]\n"
     ]
    }
   ],
   "source": [
    "\n",
    "def f(x, y, z):\n",
    "    return x + y + z\n",
    "\n",
    "array_3d = np.fromfunction(f, (2, 3, 4), dtype=int)                # Create a 3D array with shape (2, 3, 4)\n",
    "\n",
    "print(array_3d)\n"
   ]
  },
  {
   "cell_type": "markdown",
   "id": "fd275bba-d4af-4526-a74d-a0b5e092c8b3",
   "metadata": {},
   "source": [
    "<br>\n",
    "\n",
    "<code style=\"background-color: black; color: white;\">Example - 3</code> &nbsp;<code style=\"background-color: white; color:  #a245ff;\">let's create a 1D array using a <span style=\"font-size: 1rem;\"><strong>lambda function</strong></span></code>"
   ]
  },
  {
   "cell_type": "code",
   "execution_count": 26,
   "id": "de015f9d-bc1b-46b4-b1c7-781ff4e6494b",
   "metadata": {},
   "outputs": [
    {
     "name": "stdout",
     "output_type": "stream",
     "text": [
      "[[0 0 0 0]\n",
      " [0 1 2 3]\n",
      " [0 2 4 6]\n",
      " [0 3 6 9]]\n"
     ]
    }
   ],
   "source": [
    "\n",
    "arr = np.fromfunction(lambda i, j: i * j, (4, 4), dtype = int) \n",
    "\t\n",
    "print(arr) \n"
   ]
  },
  {
   "cell_type": "markdown",
   "id": "52570e4f-f7e6-407d-9b28-90576f606c6c",
   "metadata": {
    "jp-MarkdownHeadingCollapsed": true
   },
   "source": [
    "<br>\n",
    "\n",
    "### <div style=\"color: white; background-color: #af87ff; padding: 5px;\"> <code style=\"font-size: 1.2rem; background-color: #af87ff; color: white;\"><strong>numpy.fromiter()</strong></code> </div>"
   ]
  },
  {
   "cell_type": "markdown",
   "id": "e7d89155-a8e8-40fb-98f8-8f7d6810d367",
   "metadata": {},
   "source": [
    "\n",
    "<code style=\"background-color: yellow; padding: 6px;\">numpy.<span style=\"color: red;\"><span style=\"font-size: 1rem;\"><strong>fromiter(</strong></span><span style=\"color: black;\">iterable</span>, <span style=\"color: black;\">dtype</span>, <span style=\"color: black;\">count</span><span style=\"color: #9b96a1;\">=-1</span><span style=\"font-size: 1rem;\"><strong>)</strong></span></span></code> &nbsp;&nbsp;====>&nbsp;&nbsp;to create a NumPy array from an <strong>iterable object</strong> (that provides elements one at a time)\n",
    "\n",
    "<span style=\"margin-left: 352px;\">====>&nbsp;&nbsp;<strong><u>count</u></strong> :&nbsp; [int, optional] &nbsp;Number of items to read</span>\n",
    "\n",
    "<code style=\"background-color: black; color: white;\">Example - 1</code>"
   ]
  },
  {
   "cell_type": "code",
   "execution_count": 34,
   "id": "ddd7d36b-7522-4df7-a70a-73fbfa6afdd0",
   "metadata": {},
   "outputs": [
    {
     "data": {
      "text/plain": [
       "array([1, 2, 3, 4, 5, 6])"
      ]
     },
     "execution_count": 34,
     "metadata": {},
     "output_type": "execute_result"
    }
   ],
   "source": [
    "\n",
    "iterable=[1, 2, 3, 4, 5, 6]\n",
    "\n",
    "arr = np.fromiter(my_iterable, dtype=int)\n",
    "\n",
    "arr\n"
   ]
  },
  {
   "cell_type": "code",
   "execution_count": 35,
   "id": "c086be9a-ec35-47c7-b29d-05cc24a54f5a",
   "metadata": {},
   "outputs": [
    {
     "data": {
      "text/plain": [
       "numpy.ndarray"
      ]
     },
     "execution_count": 35,
     "metadata": {},
     "output_type": "execute_result"
    }
   ],
   "source": [
    "\n",
    "type(arr)\n"
   ]
  },
  {
   "cell_type": "markdown",
   "id": "0730837c-acc0-4601-b2f6-e99a91827a95",
   "metadata": {},
   "source": [
    "<br>\n",
    "\n",
    "<code style=\"background-color: black; color: white;\">Example - 2</code>"
   ]
  },
  {
   "cell_type": "code",
   "execution_count": 37,
   "id": "94ce8d09-9e29-4df9-9870-9fe9efde2a56",
   "metadata": {},
   "outputs": [
    {
     "name": "stdout",
     "output_type": "stream",
     "text": [
      "[ 0  1  8 27]\n"
     ]
    }
   ],
   "source": [
    "\n",
    "iterable = (x*x*x for x in range(4))\n",
    "\n",
    "arr = np.fromiter(iterable, int)\n",
    "\n",
    "print (arr)\n"
   ]
  },
  {
   "cell_type": "markdown",
   "id": "950a2b5b-66f6-486b-acb5-59bf94d4fc1b",
   "metadata": {},
   "source": [
    "<br>\n",
    "\n",
    "<span style=\"color: #06fff0; font-size: 0.7rem;\">■■■■■■■■■■■■■■■■■■■■■■■■■■■■■■■■■■■■■■■■■■■■■■■■■■■■■■■■■■■■■■■■■■■■■■■■■■■■■■■■■■■■■■■■■■■■■■■■■■■■■■■■■■■■■■■</span>\n",
    "\n",
    "<br>\n",
    "\n",
    "<span style=\"background-color: blue; color: white; padding:2px;\">&nbsp;&nbsp;Note :&nbsp;&nbsp;</span>&nbsp;&nbsp;&nbsp;&nbsp;<span style=\"color: blue;\">How to copy the content of one array into another?</span>\n",
    "\n",
    "<code style=\"margin-left: 120px; background-color: #faf300;\">numpy.<span style=\"color: red;\"><span style=\"font-size: 1rem;\"><strong>copyto(</strong></span></span>dst, src, casting='same_kind', where=True<span style=\"color: red; font-size: 1rem;\"><strong>)</strong></span></code>\n",
    "\n",
    "<span style=\"margin-left: 170px;\">↳ &nbsp;Copies values from one array to another, with broadcasting if necessary.</span>\n",
    "\n",
    "<span style=\"margin-left: 170px;\">↳ &nbsp;Raises a TypeError if the casting rule is violated, and if where is provided, it selects which elements to copy.</span>\n",
    "\n",
    "<div style=\"display: flex; margin-left: 170px;\">\n",
    "\n",
    "<div>↳</div>\n",
    "\n",
    "<div>&nbsp;&nbsp;<strong><u>where</u></strong>&nbsp;&nbsp;&nbsp;:&nbsp;&nbsp;&nbsp; </div>\n",
    "\n",
    "<div>array_like of boolean value, (optional). <br>A boolean array which is broadcasted to match the dimensions of <code>dst</code> , and selects elements to copy from <code>src</code> to <code>dst</code> wherever it contains the value True.</div>\n",
    "\n",
    "</div>\n"
   ]
  },
  {
   "cell_type": "code",
   "execution_count": 50,
   "id": "1af1ba1d-d427-4f2d-a1ef-6323d7618985",
   "metadata": {},
   "outputs": [
    {
     "name": "stdout",
     "output_type": "stream",
     "text": [
      "[1 2 3]\n"
     ]
    }
   ],
   "source": [
    "\n",
    "A = np.array([4, 5, 6])\n",
    "B = [1, 2, 3]\n",
    "\n",
    "np.copyto(A, B)\n",
    "print(A)\n"
   ]
  },
  {
   "cell_type": "code",
   "execution_count": 51,
   "id": "31821019-0798-4ca9-a64c-0f502e82e6ae",
   "metadata": {},
   "outputs": [
    {
     "name": "stdout",
     "output_type": "stream",
     "text": [
      "[[4 5 6]\n",
      " [7 8 9]]\n"
     ]
    }
   ],
   "source": [
    "\n",
    "A = np.array([[1, 2, 3], [4, 5, 6]])\n",
    "B = [[4, 5, 6], [7, 8, 9]]\n",
    "\n",
    "np.copyto(A, B)\n",
    "print(A)\n"
   ]
  },
  {
   "cell_type": "markdown",
   "id": "bb93a2f9-fb5b-434b-9cd8-6633888bd8b8",
   "metadata": {
    "jp-MarkdownHeadingCollapsed": true
   },
   "source": [
    "<br>\n",
    "\n",
    "### <div style=\"color: white; background-color: #73f86a; padding: 5px;\"> <code style=\"font-size: 1.2rem; background-color: #73f86a; color: white;\"><strong>Some Important Concepts</strong></code> </div>"
   ]
  },
  {
   "cell_type": "markdown",
   "id": "7f8236a9-f809-4d29-ad26-93676d3c03ee",
   "metadata": {},
   "source": [
    "<span style=\"font-size: 1.1rem; color: #ff0080;\">**Data &nbsp;Types &nbsp;for &nbsp;ndarrays**</span>"
   ]
  },
  {
   "cell_type": "markdown",
   "id": "d2486c7a-76cf-4a0f-9a3c-9695c6907796",
   "metadata": {},
   "source": [
    "The data type or &nbsp;<code style=\"color:red;\">dtype</code>&nbsp; is a special object containing the information (or metadata, data about data) the ndarray needs to interpret a chunk of memory as a particular type of data:\n"
   ]
  },
  {
   "cell_type": "code",
   "execution_count": 4,
   "id": "db874180-89f5-46b4-812e-21138ba9ba1b",
   "metadata": {},
   "outputs": [],
   "source": [
    "\n",
    "arr1 = np.array([1, 2, 3], dtype=np.float64)\n",
    "\n",
    "arr2 = np.array([1, 2, 3], dtype=np.int32)\n"
   ]
  },
  {
   "cell_type": "code",
   "execution_count": 5,
   "id": "03b7ae25-e8da-4db1-9d24-c6f8161c7ff1",
   "metadata": {},
   "outputs": [
    {
     "data": {
      "text/plain": [
       "dtype('float64')"
      ]
     },
     "execution_count": 5,
     "metadata": {},
     "output_type": "execute_result"
    }
   ],
   "source": [
    "\n",
    "arr1.dtype\n"
   ]
  },
  {
   "cell_type": "code",
   "execution_count": 7,
   "id": "5e00fa47-b4ac-473f-9e5c-8228d058bd62",
   "metadata": {},
   "outputs": [
    {
     "data": {
      "text/plain": [
       "dtype('int32')"
      ]
     },
     "execution_count": 7,
     "metadata": {},
     "output_type": "execute_result"
    }
   ],
   "source": [
    "\n",
    "arr2.dtype\n"
   ]
  },
  {
   "cell_type": "markdown",
   "id": "1279936c-46ec-4feb-ba46-7d9f362f2080",
   "metadata": {},
   "source": [
    "<br>\n",
    "\n",
    "You can explicitly convert or cast an array from one data type to another using ndarray’s &nbsp;<code style=\"color: red;\">astype</code>&nbsp; method :\n"
   ]
  },
  {
   "cell_type": "code",
   "execution_count": 10,
   "id": "b8d69d67-876c-44f1-bb43-2f5df2de37ba",
   "metadata": {},
   "outputs": [
    {
     "name": "stdout",
     "output_type": "stream",
     "text": [
      "int32\n",
      "[1. 2. 3. 4. 5.]\n",
      "float64\n"
     ]
    }
   ],
   "source": [
    "\n",
    "arr = np.array([1, 2, 3, 4, 5])\n",
    "print(arr.dtype)                                         # int32\n",
    "\n",
    "\n",
    "float_arr = arr.astype(np.float64)\n",
    "print(float_arr)                                         # [1. 2. 3. 4. 5.]\n",
    "print(float_arr.dtype)                                   # float64\n"
   ]
  },
  {
   "cell_type": "code",
   "execution_count": 13,
   "id": "afc969a6-f174-4e19-9043-bb7e4c8f5ad7",
   "metadata": {},
   "outputs": [
    {
     "name": "stdout",
     "output_type": "stream",
     "text": [
      "[ 3.7 -1.2 -2.6  0.5 12.9 10.1]\n",
      "[ 3 -1 -2  0 12 10]\n"
     ]
    }
   ],
   "source": [
    "\n",
    "arr = np.array([3.7, -1.2, -2.6, 0.5, 12.9, 10.1])\n",
    "print(arr)\n",
    "print(arr.astype(np.int32))                              # floating-point number  ====>  integer data type\n",
    "                                                         # the decimal part is truncated\n"
   ]
  },
  {
   "cell_type": "code",
   "execution_count": 14,
   "id": "8f418a17-834a-48bc-8c53-e0b62b9dcf3a",
   "metadata": {},
   "outputs": [
    {
     "name": "stdout",
     "output_type": "stream",
     "text": [
      "[ 1.25 -9.6  42.  ]\n"
     ]
    }
   ],
   "source": [
    "\n",
    "numeric_strings = np.array([\"1.25\", \"-9.6\", \"42\"], dtype=np.string_)\n",
    "print(numeric_strings.astype(float))\n"
   ]
  },
  {
   "cell_type": "markdown",
   "id": "3eee6514-ebe4-4bb0-820c-7ad2addaeb8f",
   "metadata": {},
   "source": [
    "<br>\n",
    "\n",
    "<span style=\"color: #06fff0; font-size: 0.7rem;\">■■■■■■■■■■■■■■■■■■■■■■■■■■■■■■■■■■■■■■■■■■■■■■■■■■■■■■■■■■■■■■■■■■■■■■■■■■■■■■■■■■■■■■■■■■■■■■■■■■■■■■■■■■■■■■■</span>\n"
   ]
  },
  {
   "cell_type": "markdown",
   "id": "49eae2b5-0240-4718-a5c8-a36c8579b5f3",
   "metadata": {},
   "source": [
    "<br>\n",
    "\n",
    "<span style=\"font-size: 1.1rem; color: #ff0080;\">**Structured &nbsp;Numpy &nbsp;Array**</span>\n",
    "\n",
    "<code style=\"background-color: black; color: white;\">Example - 1</code>"
   ]
  },
  {
   "cell_type": "code",
   "execution_count": 61,
   "id": "218935c5-c515-4f0e-b22d-804a10949ba4",
   "metadata": {},
   "outputs": [
    {
     "data": {
      "text/plain": [
       "array([(b'Alice', 1.8, 41), (b'Bob', 1.9, 38), (b'Jane', 1.7, 38)],\n",
       "      dtype=[('name', 'S10'), ('height', '<f8'), ('age', '<i4')])"
      ]
     },
     "execution_count": 61,
     "metadata": {},
     "output_type": "execute_result"
    }
   ],
   "source": [
    "\n",
    "# list of values\n",
    "dtype = [('name', 'S10'), ('height', float), ('age', int)]\n",
    "values = [('Alice', 1.8, 41), ('Bob', 1.9, 38), ('Jane', 1.7, 38)]\n",
    "\n",
    "\n",
    "arr = np.array(values, dtype=dtype)                                                  # creates a structured array\n",
    "arr\n"
   ]
  },
  {
   "cell_type": "markdown",
   "id": "ae266c17-2702-4138-acf5-c3073b8557b1",
   "metadata": {},
   "source": [
    "<br>\n",
    "\n",
    "<span style=\"color: #a245ff;\">Use &nbsp;the &nbsp;<code style=\"background-color: yellow; color: red;\">order</code> &nbsp;keyword &nbsp;to &nbsp;specify &nbsp;a &nbsp;field &nbsp;to &nbsp;use &nbsp;when &nbsp;sorting &nbsp;a &nbsp;structured &nbsp;array :</span>\n"
   ]
  },
  {
   "cell_type": "code",
   "execution_count": 36,
   "id": "5d102a6b-67c0-4f5e-af13-f0c5811d138b",
   "metadata": {},
   "outputs": [
    {
     "name": "stdout",
     "output_type": "stream",
     "text": [
      "arr   ------------->   [(b'Alice', 1.8, 41) (b'Bob', 1.9, 38) (b'Jane', 1.7, 38)]\n",
      "\n",
      "sorted_arr   ------>   [(b'Bob', 1.9, 38) (b'Jane', 1.7, 38) (b'Alice', 1.8, 41)]\n"
     ]
    }
   ],
   "source": [
    "\n",
    "sorted_arr = np.sort(arr, order='age')\n",
    "\n",
    "\n",
    "print('arr   ------------->  ', arr)\n",
    "print('\\nsorted_arr   ------>  ', sorted_arr)\n"
   ]
  },
  {
   "cell_type": "markdown",
   "id": "6f9be13f-94dd-4835-a7c7-b18e243d8240",
   "metadata": {},
   "source": [
    "<br>\n",
    "\n",
    "<span style=\"color: #a245ff;\">Sort &nbsp;by &nbsp;<code style=\"background-color: #eccfff;\">age</code> , &nbsp;then &nbsp;<code style=\"background-color: #eccfff;\">height</code> &nbsp;if &nbsp;<code style=\"background-color: #eccfff;\">ages</code> &nbsp;are &nbsp;equal :</span>\n"
   ]
  },
  {
   "cell_type": "code",
   "execution_count": 50,
   "id": "54be75fd-be12-4501-8bf7-226977d73853",
   "metadata": {},
   "outputs": [
    {
     "name": "stdout",
     "output_type": "stream",
     "text": [
      "\n",
      "arr   ------------->   [(b'Alice', 1.8, 41) (b'Bob', 1.9, 38) (b'Jane', 1.7, 38)]\n",
      "\n",
      "sorted_arr   ------>   [(b'Jane', 1.7, 38) (b'Bob', 1.9, 38) (b'Alice', 1.8, 41)]\n"
     ]
    }
   ],
   "source": [
    "\n",
    "sorted_arr = np.sort(arr, order=['age', 'height'])                           # sort by 'age', then by 'height' if 'ages' are equal\n",
    "\n",
    "\n",
    "print('\\narr   ------------->  ', arr)\n",
    "print('\\nsorted_arr   ------>  ', sorted_arr)\n"
   ]
  },
  {
   "cell_type": "code",
   "execution_count": 55,
   "id": "7a9fbaad-f3d9-4685-ac18-be1a89457fd6",
   "metadata": {},
   "outputs": [
    {
     "name": "stdout",
     "output_type": "stream",
     "text": [
      "[b'Jane' b'Bob' b'Alice']\n",
      "[38 38 41]\n",
      "[1.7 1.9 1.8]\n"
     ]
    }
   ],
   "source": [
    "\n",
    "print(sorted_arr['name'])                                                    #  [b'Jane' b'Bob' b'Alice']\n",
    "print(sorted_arr['age'])                                                     #  [38 38 41]\n",
    "print(sorted_arr['height'])                                                  #  [1.7 1.9 1.8]\n"
   ]
  },
  {
   "cell_type": "markdown",
   "id": "f14ab416-4e0e-4b31-96b6-b8b407181ba0",
   "metadata": {},
   "source": [
    "<br>\n",
    "\n",
    "<code style=\"background-color: black; color: white;\">Example - 2</code>"
   ]
  },
  {
   "cell_type": "code",
   "execution_count": 57,
   "id": "ad4fa5a7-4130-4b3a-afd5-219fcd5ab151",
   "metadata": {},
   "outputs": [
    {
     "name": "stdout",
     "output_type": "stream",
     "text": [
      "\n",
      "payroll   ------------->   [(b'Alice', 1.5, 12500.) (b'Bob', 1. , 15500.) (b'Jane', 1. , 11000.)]\n",
      "\n",
      "sorted_payroll   ------>   [(b'Jane', 1. , 11000.) (b'Bob', 1. , 15500.) (b'Alice', 1.5, 12500.)]\n"
     ]
    }
   ],
   "source": [
    "\n",
    "dtype = [\n",
    "    ('name', 'S10'),\n",
    "    ('year_of_services', float),\n",
    "    ('salary', float)\n",
    "]                                                                            # list  of  tuples\n",
    "\n",
    "\n",
    "employees = [\n",
    "    ('Alice', 1.5, 12500),\n",
    "    ('Bob', 1, 15500),\n",
    "    ('Jane', 1, 11000)\n",
    "]                                                                            # list  of  tuples\n",
    "\n",
    "\n",
    "payroll = np.array(employees, dtype=dtype)                                   # creates a structured array 'payroll'\n",
    "\n",
    "\n",
    "sorted_payroll = np.sort(payroll, order=['year_of_services', 'salary'])      # sort by 'year_of_services', then 'salary' if 'year_of_services' are equal\n",
    "\n",
    "\n",
    "print('\\npayroll   ------------->  ', payroll)\n",
    "print('\\nsorted_payroll   ------>  ', sorted_payroll)\n"
   ]
  },
  {
   "cell_type": "code",
   "execution_count": 56,
   "id": "e089d62e-c6a0-48b6-8e29-7a1c589671bb",
   "metadata": {},
   "outputs": [
    {
     "name": "stdout",
     "output_type": "stream",
     "text": [
      "[b'Alice' b'Bob' b'Jane']\n",
      "[1.5 1.  1. ]\n",
      "[12500. 15500. 11000.]\n"
     ]
    }
   ],
   "source": [
    "\n",
    "print(payroll['name'])                                                       #  [b'Alice' b'Bob' b'Jane']\n",
    "print(payroll['year_of_services'])                                           #  [1.5 1.  1. ]\n",
    "print(payroll['salary'])                                                     #  [12500. 15500. 11000.]\n"
   ]
  },
  {
   "cell_type": "markdown",
   "id": "1ed2af3a-ee67-4940-9fb9-93d71b5bcc5e",
   "metadata": {},
   "source": [
    "<br>\n",
    "\n",
    "<span style=\"color: #06fff0; font-size: 0.7rem;\">■■■■■■■■■■■■■■■■■■■■■■■■■■■■■■■■■■■■■■■■■■■■■■■■■■■■■■■■■■■■■■■■■■■■■■■■■■■■■■■■■■■■■■■■■■■■■■■■■■■■■■■■■■■■■■■</span>\n"
   ]
  },
  {
   "cell_type": "markdown",
   "id": "a396b957-2560-4449-99ca-09f76d9bcfba",
   "metadata": {},
   "source": [
    "<br>\n",
    "\n",
    "<span style=\"font-size: 1.1rem; color: #ff0080;\">**Pseudorandom &nbsp;Number &nbsp;Generation**</span>"
   ]
  },
  {
   "cell_type": "markdown",
   "id": "668447d0-673d-4f4a-9a63-475ecf2c9330",
   "metadata": {},
   "source": [
    "The &nbsp;<code style=\"background-color: yellow;\">numpy.<span style=\"color: red;\">random</span></code>&nbsp; module supplements the built-in Python &nbsp;<code style=\"background-color: #e8daef; color: red;\">random</code>&nbsp; module with functions for efficiently generating whole arrays of sample values from <u>many kinds of probability distributions</u>."
   ]
  },
  {
   "cell_type": "code",
   "execution_count": 4,
   "id": "1296d943-6b13-4d49-9da5-908ee5c33d61",
   "metadata": {},
   "outputs": [
    {
     "data": {
      "text/plain": [
       "array([[ 0.0678969 ,  0.44448769, -0.55749404, -0.77751578],\n",
       "       [-1.1745059 , -0.40200252, -0.29515461, -1.03408454],\n",
       "       [-0.19347574, -1.17022861, -1.25640209,  0.41591736],\n",
       "       [-1.78728238,  0.23928977,  1.51435793, -0.30126397]])"
      ]
     },
     "execution_count": 4,
     "metadata": {},
     "output_type": "execute_result"
    }
   ],
   "source": [
    "\n",
    "samples = np.random.standard_normal(size=(4, 4))\n",
    "samples\n"
   ]
  },
  {
   "cell_type": "markdown",
   "id": "d4ecf4b8-7fe4-40ae-9f5c-ad3f3c13c75c",
   "metadata": {},
   "source": [
    "<br>\n",
    "\n",
    "Python’s built-in &nbsp;<code style=\"background-color: #e8daef; color: red;\">random</code>&nbsp; module, by contrast, <u>samples only one value at a time</u>. &nbsp;Therefore as you can see from this benchmark, &nbsp;<code style=\"background-color: yellow;\">numpy.<span style=\"color: red;\">random</span></code>&nbsp; is well over an order of magnitude <u>faster for generating very large samples</u> :\n"
   ]
  },
  {
   "cell_type": "code",
   "execution_count": 5,
   "id": "fa43542b-aa37-43be-bf86-dcc2213feada",
   "metadata": {},
   "outputs": [],
   "source": [
    "\n",
    "from random import normalvariate\n",
    "\n",
    "N = 1_000_000\n"
   ]
  },
  {
   "cell_type": "code",
   "execution_count": 6,
   "id": "ed79be1f-0ff1-4172-89b4-14d2aac3e63b",
   "metadata": {},
   "outputs": [
    {
     "name": "stdout",
     "output_type": "stream",
     "text": [
      "1.49 s ± 126 ms per loop (mean ± std. dev. of 7 runs, 1 loop each)\n"
     ]
    }
   ],
   "source": [
    "\n",
    "%timeit samples = [normalvariate(0, 1) for _ in range(N)]\n"
   ]
  },
  {
   "cell_type": "code",
   "execution_count": 7,
   "id": "2e6d5f64-ab1f-4084-84d1-a6daeab9332e",
   "metadata": {},
   "outputs": [
    {
     "name": "stdout",
     "output_type": "stream",
     "text": [
      "43.2 ms ± 915 µs per loop (mean ± std. dev. of 7 runs, 10 loops each)\n"
     ]
    }
   ],
   "source": [
    "\n",
    "%timeit np.random.standard_normal(N)\n"
   ]
  },
  {
   "cell_type": "markdown",
   "id": "ea89dd76-60bf-4a30-b9e4-797763f31de0",
   "metadata": {},
   "source": [
    "<br>\n",
    "\n",
    "These random numbers are <u>not truly random</u> (rather, <strong>pseudorandom</strong>) but instead are generated by a <u>configurable random number generator</u> that determines deterministically what values are created. \n",
    "\n",
    "Functions like &nbsp;<code style=\"background-color: #dafefb;\">numpy.<span style=\"color: red;\">random</span>.<span style=\"color: blue;\">standard_normal</span></code>&nbsp; use the &nbsp;<code style=\"background-color: yellow;\">numpy.<span style=\"color: red;\">random</span></code>&nbsp; module's default random number generator, but your code can be configured to use an <strong>explicit generator</strong> :"
   ]
  },
  {
   "cell_type": "code",
   "execution_count": 8,
   "id": "f2d91565-a6bb-452b-ae57-0b8564944390",
   "metadata": {},
   "outputs": [
    {
     "data": {
      "text/plain": [
       "Generator(PCG64) at 0x1ECB8BE0120"
      ]
     },
     "execution_count": 8,
     "metadata": {},
     "output_type": "execute_result"
    }
   ],
   "source": [
    "\n",
    "rng = np.random.default_rng(seed=12345)\n",
    "rng\n"
   ]
  },
  {
   "cell_type": "code",
   "execution_count": 9,
   "id": "9ca0029f-472b-49af-bce7-13d3f816ea62",
   "metadata": {},
   "outputs": [
    {
     "data": {
      "text/plain": [
       "array([[-1.42382504,  1.26372846, -0.87066174],\n",
       "       [-0.25917323, -0.07534331, -0.74088465]])"
      ]
     },
     "execution_count": 9,
     "metadata": {},
     "output_type": "execute_result"
    }
   ],
   "source": [
    "\n",
    "data = rng.standard_normal((2, 3))\n",
    "data\n"
   ]
  },
  {
   "cell_type": "code",
   "execution_count": 10,
   "id": "432454df-c5b4-4cdf-a26a-a2ead2980a58",
   "metadata": {},
   "outputs": [
    {
     "data": {
      "text/plain": [
       "numpy.random._generator.Generator"
      ]
     },
     "execution_count": 10,
     "metadata": {},
     "output_type": "execute_result"
    }
   ],
   "source": [
    "\n",
    "type(rng)\n"
   ]
  },
  {
   "cell_type": "markdown",
   "id": "15f33ef1-feca-417e-bce4-c76bdb8e77e0",
   "metadata": {},
   "source": [
    "<br>\n",
    "\n",
    "<span style=\"color: #06fff0; font-size: 0.7rem;\">■■■■■■■■■■■■■■■■■■■■■■■■■■■■■■■■■■■■■■■■■■■■■■■■■■■■■■■■■■■■■■■■■■■■■■■■■■■■■■■■■■■■■■■■■■■■■■■■■■■■■■■■■■■■■■■</span>\n",
    "\n",
    "<br>\n",
    "\n",
    "Now let's see some important <u>numpy methods</u> around **array manipulation** &nbsp;&nbsp;&nbsp;===>&nbsp;&nbsp;&nbsp; https://numpy.org/doc/stable/reference/routines.array-manipulation.html"
   ]
  },
  {
   "cell_type": "markdown",
   "id": "bf6f6b29-5eaa-4735-9def-fa6b532f7634",
   "metadata": {
    "jp-MarkdownHeadingCollapsed": true
   },
   "source": [
    "<br><br>\n",
    "\n",
    "## Array &nbsp;Indexing &nbsp;& &nbsp;Slicing"
   ]
  },
  {
   "cell_type": "markdown",
   "id": "5c9490a0-08b5-428a-8ae2-f71b985030a6",
   "metadata": {
    "jp-MarkdownHeadingCollapsed": true
   },
   "source": [
    "<br>\n",
    "\n",
    "### <div style=\"color: white; background-color: #af87ff; padding: 5px;\"> <code style=\"font-size: 1.2rem; background-color: #af87ff; color: white;\"><strong>Numpy Array Indexing</strong></code> </div>\n"
   ]
  },
  {
   "cell_type": "markdown",
   "id": "1ed5c477-1d14-40a6-8082-31e6c971c987",
   "metadata": {},
   "source": [
    "\n",
    "- Like a **list**, you can use the square bracket notation (&nbsp;<code style=\"color: red;\">[]</code>&nbsp;) to access elements of a numpy array.\n",
    "\n",
    "- Use zero and positive indexes to start selecting from the beginning of the array.\n",
    "\n",
    "- Use <u>negative indexes</u> to start selecting from the <u>end of the array</u>.\n",
    "\n",
    "<br>\n",
    "\n",
    "<u>**NumPy &nbsp;array &nbsp;indexing &nbsp;on &nbsp;1-D &nbsp;arrays**</u>\n",
    "\n",
    "<br>\n",
    "\n",
    "<div style=\"margin-left: 140px;\">\n",
    "\n",
    "![](../media/numpy_04.PNG)\n",
    "\n",
    "</div>"
   ]
  },
  {
   "cell_type": "code",
   "execution_count": 70,
   "id": "c4accc5e-3124-4eb6-b5e3-904039b34fb8",
   "metadata": {},
   "outputs": [
    {
     "name": "stdout",
     "output_type": "stream",
     "text": [
      "[0 1 2 3 4]\n",
      "(5,)\n",
      "0\n",
      "1\n",
      "4\n"
     ]
    }
   ],
   "source": [
    "\n",
    "a = np.arange(0, 5)\n",
    "print(a)                      # [0 1 2 3 4]\n",
    "print(a.shape)                # shape   =   (axis-0, )   =   (columns)   =   (5, )\n",
    "\n",
    "print(a[0])                   # 0    --------->    the first element\n",
    "print(a[1])                   # 1    --------->    the second element\n",
    "print(a[-1])                  # 4    --------->    the last element\n"
   ]
  },
  {
   "cell_type": "markdown",
   "id": "eb92497e-995c-4ef1-bf3d-f1d4079854eb",
   "metadata": {},
   "source": [
    "<br>\n",
    "\n",
    "<u>**NumPy &nbsp;array &nbsp;indexing &nbsp;on &nbsp;2-D &nbsp;arrays**</u>\n",
    "\n",
    "<br>\n",
    "\n",
    "<div style=\"margin-left: 100px;\">\n",
    "\n",
    "![](../media/numpy_05.PNG)\n",
    "\n",
    "</div>"
   ]
  },
  {
   "cell_type": "code",
   "execution_count": 128,
   "id": "7e677732-858e-4319-9207-b6af186b408b",
   "metadata": {},
   "outputs": [
    {
     "name": "stdout",
     "output_type": "stream",
     "text": [
      "(2, 3)\n",
      "[1 2 3]\n",
      "[4 5 6]\n",
      "1\n",
      "2\n",
      "3\n",
      "4\n",
      "5\n",
      "6\n"
     ]
    }
   ],
   "source": [
    "\n",
    "a = np.array([\n",
    "    [1, 2, 3],\n",
    "    [4, 5, 6]\n",
    "])\n",
    "\n",
    "print(a.shape)             # shape   =   (axis 0, axis 1)   =   (rows, columns)   =   (2, 3)\n",
    "\n",
    "print(a[0])                # [1 2 3]\n",
    "print(a[1])                # [4 5 6]\n",
    "\n",
    "print(a[0, 0])             # 1       ----->       a[0, 0]   =  a[0][0]\n",
    "print(a[0, 1])             # 2       ----->       a[0, 1]   =  a[0][1]\n",
    "print(a[0, -1])            # 3       ----->       a[0, -1]  =  a[0][-1]  =  a[0, 2]  =  a[0][2]   ---->   last index along an axis can be denoted as -1\n",
    "\n",
    "print(a[1, 0])             # 4       ----->       a[1, 0]   =  a[1][0]\n",
    "print(a[1, 1])             # 5       ----->       a[1, 1]   =  a[1][1]\n",
    "print(a[1, -1])            # 6       ----->       a[1, -1]  =  a[1][-1]  =  a[1, 2]  =  a[1][2]   ---->   last index along an axis can be denoted as -1\n"
   ]
  },
  {
   "cell_type": "markdown",
   "id": "aba13e8a-f2b6-429f-a1d0-232aef5913a8",
   "metadata": {},
   "source": [
    "<br>\n",
    "\n",
    "<font size=\"+1\">⭐</font> <span style=\"color: blue;\">Accessing multiple elements of a numpy array at a time by <u>passing <strong>multiple indices</strong></u></span>\n",
    "\n",
    "<code style=\"background-color: #c8ffb6; padding: 8px; margin-left: 28px;\">numpy_array<font size=\"+1\">[</font> <span style=\"background-color: white;\">[list of x-coordinates]</span> , <span style=\"background-color: white;\">[list of y-cooridnates]</span> <font size=\"+1\">]</font></code>\n"
   ]
  },
  {
   "cell_type": "code",
   "execution_count": 223,
   "id": "4ac77453-b210-4ded-aa18-745b2f7954df",
   "metadata": {},
   "outputs": [
    {
     "name": "stdout",
     "output_type": "stream",
     "text": [
      "1st column  ------>  [1 4 7]\n",
      "2nd column  ------>  [2 5 8]\n",
      "3rd column  ------>  [3 6 9]\n"
     ]
    }
   ],
   "source": [
    "\n",
    "a = np.array([\n",
    "    [1, 2, 3],\n",
    "    [4, 5, 6],\n",
    "    [7, 8, 9]\n",
    "])\n",
    "\n",
    "first_column = a[[0, 1, 2], [0, 0, 0]]                     # arr[ x-coordinates-list , y-coordinates-list ]\n",
    "print(\"1st column  ------> \", first_column)\n",
    "\n",
    "second_column = a[[0, 1, 2], [1, 1, 1]]\n",
    "print(\"2nd column  ------> \", second_column)\n",
    "\n",
    "third_column = a[[0, 1, 2], [2, 2, 2]]\n",
    "print(\"3rd column  ------> \", third_column)\n"
   ]
  },
  {
   "cell_type": "markdown",
   "id": "e994204e-862e-478d-ac13-5fb0d0f90ef3",
   "metadata": {},
   "source": [
    "<br>\n",
    "\n",
    "<u>**NumPy &nbsp;array &nbsp;indexing &nbsp;on &nbsp;3-D &nbsp;arrays**</u>\n",
    "\n",
    "<br>\n",
    "\n",
    "<div style=\"margin-left: 100px;\">\n",
    "\n",
    "![](../media/numpy_06.PNG)\n",
    "\n",
    "</div>"
   ]
  },
  {
   "cell_type": "code",
   "execution_count": 73,
   "id": "883fe0ac-8b8f-473f-928b-6fd100932ad5",
   "metadata": {},
   "outputs": [
    {
     "name": "stdout",
     "output_type": "stream",
     "text": [
      "(2, 3, 2)\n"
     ]
    }
   ],
   "source": [
    "\n",
    "a = np.array([\n",
    "    [[1, 2], [3, 4], [5, 6]],\n",
    "    [[5, 6], [7, 8], [9, 10]],\n",
    "])\n",
    "\n",
    "print(a.shape)                       # shape   =   (axis-0, axis-1, axis-2)   =   (layers, rows, columns)   =   (2, 3, 2)\n"
   ]
  },
  {
   "cell_type": "code",
   "execution_count": 84,
   "id": "9f4b011b-1e49-4b58-bdde-df639f9ad8da",
   "metadata": {},
   "outputs": [
    {
     "name": "stdout",
     "output_type": "stream",
     "text": [
      "[[1 2]\n",
      " [3 4]\n",
      " [5 6]]\n"
     ]
    }
   ],
   "source": [
    "\n",
    "print(a[0])                          # [[1, 2], [3, 4], [5, 6]]\n"
   ]
  },
  {
   "cell_type": "code",
   "execution_count": 78,
   "id": "cf09491f-b44b-4098-affe-4fafc79f4322",
   "metadata": {},
   "outputs": [
    {
     "name": "stdout",
     "output_type": "stream",
     "text": [
      "[1 2]\n"
     ]
    }
   ],
   "source": [
    "\n",
    "print(a[0,0])                        # [1, 2]\n"
   ]
  },
  {
   "cell_type": "code",
   "execution_count": 82,
   "id": "35cfb94d-b39b-40b8-8dd5-505fbdcc9425",
   "metadata": {},
   "outputs": [
    {
     "name": "stdout",
     "output_type": "stream",
     "text": [
      "2\n"
     ]
    }
   ],
   "source": [
    "\n",
    "print(a[0,0,1])                      # 2\n"
   ]
  },
  {
   "cell_type": "markdown",
   "id": "4bec5b36-5eaa-4959-82b5-2381c8944ad4",
   "metadata": {
    "jp-MarkdownHeadingCollapsed": true
   },
   "source": [
    "<br>\n",
    "\n",
    "### <div style=\"color: white; background-color: #af87ff; padding: 5px;\"> <code style=\"font-size: 1.2rem; background-color: #af87ff; color: white;\"><strong>Numpy Array Slicing</strong></code> </div>\n"
   ]
  },
  {
   "cell_type": "markdown",
   "id": "c226b044-02a1-42b5-bfeb-aa7c1dcb7cd8",
   "metadata": {},
   "source": [
    "\n",
    "Slicing is to extract one or more elements from a numpy array.\n",
    "\n",
    "NumPy arrays use brackets &nbsp;<code style=\"background-color: yellow;\">[]</code>&nbsp; and &nbsp;<code style=\"background-color: yellow;\">:</code>&nbsp; notations for slicing like lists.\n",
    "\n",
    "<br>\n",
    "\n",
    "<span style=\"color: #06fff0; font-size: 0.7rem;\">■■■■■■■■■■■■■■■■■■■■■■■■■■■■■■■■■■■■■■■■■■■■■■■■■■■■■■■■■■■■■■■■■■■■■■■■■■■■■■■■■■■■■■■■■■■■■■■■■■■■■■■■■■■■■■■</span>\n",
    "\n",
    "<br>\n",
    "\n",
    "<code style=\"background-color: #6e07dc; color: white; padding: 6px;\">&nbsp;Numpy array slicing on one-dimensional arrays&nbsp; :&nbsp;</code>\n",
    "\n",
    "<br>\n",
    "\n",
    "<code style=\"background-color: #f9dc10;\">arr[start:stop:step]</code>\n",
    "\n",
    "<br>\n",
    "\n",
    "| Slicing Expression | Meaning |\n",
    "|--------------------|---------|\n",
    "| <code style=\"background-color: yellow;\">arr[m:n]</code> &nbsp;&nbsp;&nbsp;&nbsp;&nbsp;&nbsp;&nbsp;&nbsp;           | Select elements with an index starting at <span style=\"color: red;\">m</span> and ending at <span style=\"color: red;\">n-1</span> |\n",
    "| <code style=\"background-color: yellow;\">arr[:]</code> &nbsp;&nbsp;&nbsp;or&nbsp;&nbsp;&nbsp; <code style=\"background-color: yellow;\">a[0:-1]</code> | Select all elements in a given axis |\n",
    "| <code style=\"background-color: yellow;\">arr[:n]</code>\t| Select elements starting with index <span style=\"color: red;\">0</span> and up to element with index <span style=\"color: red;\">n-1</span> |\n",
    "| <code style=\"background-color: yellow;\">arr[m:]</code> | Select elements starting with index <span style=\"color: red;\">m</span> and up to the <span style=\"color: red;\">last element</span> |\n",
    "| <code style=\"background-color: yellow;\">arr[m:-1]</code> | Select elements starting with index <span style=\"color: red;\">m</span> and up to the <span style=\"color: red;\">second last element</span> |\n",
    "| <code style=\"background-color: yellow;\">arr[m:n:k]</code> | Select elements with index m through n (exclusive), with an increment k |\n",
    "| <code style=\"background-color: yellow;\">arr[::-1]</code> | Select all elements in reverse order |"
   ]
  },
  {
   "cell_type": "markdown",
   "id": "13a83b28-36fa-4d5a-b906-9b77bb5d8768",
   "metadata": {},
   "source": [
    "<br>\n",
    "\n",
    "<span style=\"color: red;\">Positive &nbsp;Slicing</span>"
   ]
  },
  {
   "cell_type": "code",
   "execution_count": 39,
   "id": "48070e22-1d02-47f6-9c01-c5cd5751324f",
   "metadata": {},
   "outputs": [
    {
     "name": "stdout",
     "output_type": "stream",
     "text": [
      "[0 1 2 3 4 5 6 7 8 9]\n",
      "[2 3 4]\n",
      "[0 2 4]\n",
      "[0 1 2 3 4 5 6 7 8 9]\n",
      "[0 1 2]\n",
      "[7 8 9]\n",
      "[2 3 4 5 6 7 8 9]\n",
      "[0 1 2 3 4 5 6 7 8]\n",
      "[5 6 7 8]\n"
     ]
    }
   ],
   "source": [
    "\n",
    "a = np.arange(0, 10)\n",
    "\n",
    "print(a)                       #  [0 1 2 3 4 5 6 7 8 9]\n",
    "     \n",
    "print(a[2:5])                  #  [2 3 4]\n",
    "\n",
    "print(a[0:5:2])                #  [0 2 4]\n",
    "\n",
    "print(a[:])                    #  [0 1 2 3 4 5 6 7 8 9]\n",
    "      \n",
    "print(a[:3])                   #  [0 1 2]\n",
    "\n",
    "print(a[-3:])                  #  [7 8 9]\n",
    "\n",
    "print(a[2:])                   #  [2 3 4 5 6 7 8 9]\n",
    "\n",
    "print(a[0:-1])                 #  [0 1 2 3 4 5 6 7 8]\n",
    "\n",
    "print(a[5:-1])                 #  [5 6 7 8]\n"
   ]
  },
  {
   "cell_type": "markdown",
   "id": "0f7404bc-ef10-4f31-a60c-9b088e1da45e",
   "metadata": {},
   "source": [
    "<br>\n",
    "\n",
    "<span style=\"color: red;\">Negative &nbsp;Slicing</span>"
   ]
  },
  {
   "cell_type": "code",
   "execution_count": 41,
   "id": "067d55fe-5a41-4b26-bd61-457d6717d371",
   "metadata": {},
   "outputs": [
    {
     "name": "stdout",
     "output_type": "stream",
     "text": [
      "[0 1 2 3 4 5 6 7 8 9]\n",
      "[9 8 7 6 5 4 3 2 1 0]\n",
      "[7 6 5]\n",
      "[]\n",
      "[]\n",
      "[50 40 30 20 10]\n"
     ]
    }
   ],
   "source": [
    "\n",
    "print(a)                         #  [0 1 2 3 4 5 6 7 8 9]\n",
    "\n",
    "print(a[::-1])                   #  [9 8 7 6 5 4 3 2 1 0]\n",
    "\n",
    "print(a[-3:-6:-1])               #  [7 6 5]\n",
    "\n",
    "print(arr[-6:-3:-1])             #  []\n",
    "\n",
    "print(arr[-8:-3:-1])             #  []\n",
    "\n",
    "print(arr[-3::-1])               #  [50 40 30 20 10]\n"
   ]
  },
  {
   "cell_type": "markdown",
   "id": "741d57f3-7291-4b09-bad2-df10b8ab62f2",
   "metadata": {},
   "source": [
    "<br>\n",
    "\n",
    "<span style=\"color: #a245ff;\">Let's consider another example and dive deep into this :</span> "
   ]
  },
  {
   "cell_type": "code",
   "execution_count": 34,
   "id": "9d715ebf-087f-45bd-a73f-0dbd82177296",
   "metadata": {},
   "outputs": [
    {
     "data": {
      "text/plain": [
       "array([0, 1, 2, 3, 4, 5, 6, 7, 8, 9])"
      ]
     },
     "execution_count": 34,
     "metadata": {},
     "output_type": "execute_result"
    }
   ],
   "source": [
    "\n",
    "arr = np.arange(10)\n",
    "arr\n"
   ]
  },
  {
   "cell_type": "code",
   "execution_count": 35,
   "id": "bf176fde-3ee8-4da0-a7a3-5db4e0f8d9eb",
   "metadata": {},
   "outputs": [
    {
     "data": {
      "text/plain": [
       "5"
      ]
     },
     "execution_count": 35,
     "metadata": {},
     "output_type": "execute_result"
    }
   ],
   "source": [
    "\n",
    "arr[5]\n"
   ]
  },
  {
   "cell_type": "code",
   "execution_count": 36,
   "id": "52750174-6209-4a40-82fa-c8873df8d085",
   "metadata": {},
   "outputs": [
    {
     "data": {
      "text/plain": [
       "array([5, 6, 7])"
      ]
     },
     "execution_count": 36,
     "metadata": {},
     "output_type": "execute_result"
    }
   ],
   "source": [
    "\n",
    "arr_slice = arr[5:8]\n",
    "arr_slice\n"
   ]
  },
  {
   "cell_type": "code",
   "execution_count": 37,
   "id": "14fbbcd6-8539-4e76-8f0e-ed24b42cc5fe",
   "metadata": {},
   "outputs": [
    {
     "data": {
      "text/plain": [
       "array([ 0,  1,  2,  3,  4, 12, 12, 12,  8,  9])"
      ]
     },
     "execution_count": 37,
     "metadata": {},
     "output_type": "execute_result"
    }
   ],
   "source": [
    "\n",
    "arr[5:8] = 12            # Assigns a sclar 12 to a slice\n",
    "arr\n"
   ]
  },
  {
   "cell_type": "markdown",
   "id": "a5ae2aa3-fff6-460e-b17a-541df9665381",
   "metadata": {},
   "source": [
    "<br>\n",
    "\n",
    "<span style=\"font-size: 1.5rem;\">⭐</span> &nbsp;As you can see, if you assign a **scalar value** to a <span style=\"color: red;\">slice</span>, as in &nbsp;<code>arr[5:8] = 12</code>&nbsp;, the value is propagated (or &nbsp;<span style=\"background-color: #f9dc10;\">&nbsp;broadcast&nbsp;</span>&nbsp; henceforth) to the <u>entire selection</u>.\n",
    "\n",
    "<br>\n",
    "\n",
    "<div style=\"display: flex;\">\n",
    "<div><span style=\"font-size: 1.5rem;\">⭐&nbsp;&nbsp;</span></div>\n",
    "<div> An important first distinction from <u>Python's built-in <span style=\"color: red;\">lists</span></u> is that <u>numpy array <span style=\"color: red;\">slices</span></u> are <span style=\"color: blue;\"><strong>views</strong></span> on the original array. &nbsp;<span style=\"color: blue;\">This means that the data is not copied, and any modifications to the view will be reflected in the source array.</span></div>\n",
    "</div>\n",
    "\n",
    "<br>"
   ]
  },
  {
   "cell_type": "code",
   "execution_count": 38,
   "id": "31cd1aaf-c05e-4b86-b788-9c73ee13b106",
   "metadata": {},
   "outputs": [
    {
     "data": {
      "text/plain": [
       "array([12, 12, 12])"
      ]
     },
     "execution_count": 38,
     "metadata": {},
     "output_type": "execute_result"
    }
   ],
   "source": [
    "\n",
    "arr_slice = arr[5:8]\n",
    "arr_slice\n"
   ]
  },
  {
   "cell_type": "markdown",
   "id": "81d07df9-6424-4b93-b751-73eebe0631a6",
   "metadata": {},
   "source": [
    "\n",
    "<span style=\"color:  #a245ff;\">Now, when I change values in &nbsp;<code>arr_slice</code> , the mutations are reflected in the original array &nbsp;<code>arr</code> &nbsp;:</span>\n"
   ]
  },
  {
   "cell_type": "code",
   "execution_count": 39,
   "id": "af16ebaa-6ef2-4a3b-b5c0-4206e66b55cf",
   "metadata": {},
   "outputs": [
    {
     "data": {
      "text/plain": [
       "array([    0,     1,     2,     3,     4,    12, 12345,    12,     8,\n",
       "           9])"
      ]
     },
     "execution_count": 39,
     "metadata": {},
     "output_type": "execute_result"
    }
   ],
   "source": [
    "\n",
    "arr_slice[1] = 12345\n",
    "arr                           # 12345 is reflected in the original array \"arr\"\n"
   ]
  },
  {
   "cell_type": "markdown",
   "id": "aba6898e-54c3-4004-91bb-40d8f382dd01",
   "metadata": {},
   "source": [
    "\n",
    "<span style=\"font-size: 1.5rem;\">⭐</span> &nbsp;The \"bare\" slice &nbsp;<code style=\"background-color: yellow;\">[:]</code>&nbsp; will assign <u>to all values in an array</u> :\n"
   ]
  },
  {
   "cell_type": "code",
   "execution_count": 40,
   "id": "a94b3472-73c9-43a0-b72a-08bf4c723974",
   "metadata": {},
   "outputs": [
    {
     "data": {
      "text/plain": [
       "array([   12, 12345,    12])"
      ]
     },
     "execution_count": 40,
     "metadata": {},
     "output_type": "execute_result"
    }
   ],
   "source": [
    "\n",
    "arr_slice\n"
   ]
  },
  {
   "cell_type": "code",
   "execution_count": 41,
   "id": "cc761e22-a2f8-4d32-8980-b1ca41425cce",
   "metadata": {},
   "outputs": [
    {
     "data": {
      "text/plain": [
       "array([ 0,  1,  2,  3,  4, 64, 64, 64,  8,  9])"
      ]
     },
     "execution_count": 41,
     "metadata": {},
     "output_type": "execute_result"
    }
   ],
   "source": [
    "\n",
    "arr_slice[:] = 64             # assigns the sclar 64 to all values in the \"arr_slice\" \n",
    "arr                           # it is reflected in the original array \"arr\"\n"
   ]
  },
  {
   "cell_type": "markdown",
   "id": "370e8bb9-abf2-45e3-a09c-553a48896247",
   "metadata": {},
   "source": [
    "\n",
    "<div style=\"display: flex;\">\n",
    "<div><span style=\"font-size: 1.5rem;\">⭐&nbsp;&nbsp;</span></div>\n",
    "<div>If you want a copy of a slice of an ndarray instead of a view, you will need to explicitly copy the array — for example, &nbsp;<code style=\"padding: 3px;\">arr[5:8].<span style=\"color: red;\">copy()</span></code>&nbsp; <br>As you will see, pandas works this way, too.</div>\n",
    "</div>\n",
    "\n",
    "<br>\n",
    "\n",
    "<br>\n",
    "\n",
    "<span style=\"color: #06fff0; font-size: 0.7rem;\">■■■■■■■■■■■■■■■■■■■■■■■■■■■■■■■■■■■■■■■■■■■■■■■■■■■■■■■■■■■■■■■■■■■■■■■■■■■■■■■■■■■■■■■■■■■■■■■■■■■■■■■■■■■■■■■</span>\n",
    "\n",
    "<br>\n",
    "\n",
    "<br>\n",
    "\n",
    "<code style=\"background-color: #6e07dc; color: white; padding: 6px;\">&nbsp;Numpy array slicing on multidimensional arrays&nbsp;:</code>\n",
    "\n",
    "<br>\n",
    "\n",
    "To slice a multidimensional array, you apply the square brackets &nbsp;<code style=\"background-color: yellow;\">[]</code>&nbsp; and the &nbsp;<code style=\"background-color: yellow;\">:</code>&nbsp; notation <u>to each dimension (or axis)</u>. &nbsp;The slice returns a reduced array where each element matches the selection rules.\n",
    "\n",
    "<br>\n",
    "\n",
    "<span style=\"color: black;\">==> &nbsp;**1D array slicing**</span> &nbsp;&nbsp;===>&nbsp;&nbsp;&nbsp;<code style=\"color: #ee0711; background-color: #fff4c5; padding: 6px;\"><span style=\"font-size: 1rem; color: black;\">arr[</span> m:n:p <span style=\"font-size: 1rem; color: black;\">]</span></code>&nbsp;\n",
    "\n",
    "<br>\n",
    "\n",
    "<span style=\"color: blue;\">==> &nbsp;<strong>Multi Dimensional array slicing</strong></span> &nbsp;&nbsp;===>&nbsp;&nbsp;&nbsp;<code style=\"color: #ee0711; background-color: #fff4c5; padding: 6px;\"><span style=\"font-size: 1rem; color: black;\">arr[</span> m:n:p <span style=\"color: black; font-size: 1ren;\">,</span> i:j:k <span style=\"font-size: 1rem; color: black;\">,</span> ... <span style=\"font-size: 1rem; color: black;\">]</span></code>\n",
    "\n",
    "<span style=\"margin-left: 60px;\">For example, <span style=\"color: black;\">**2D array slicing :**</span></span> &nbsp;<span style=\"color: black\"><font size=\"+1\">↴</font>&nbsp;</span>\n",
    "\n",
    "<code style=\"padding: 12px; font-size: 0.8rem; margin-left: 60px; background-color: #fff4c5;\"><span style=\"font-size: 1rem; color: black;\">arr[</span> <code style=\"background-color: #ffe50b; padding:1px;\">start_row_index : stop_row_index : step</code> , <code style=\"background-color: #ffe50b; padding:1px;\">start_column_index : stop_column_index : step</code> <span style=\"font-size: 1rem; color: black;\">]</span></code>\n",
    "\n",
    "<br>\n",
    "\n",
    "<span style=\"margin-left: 60px;\">For example, <span style=\"color: black;\">**3D array slicing :**</span></span> &nbsp;<span style=\"color: black\"><font size=\"+1\">↴</font>&nbsp;</span> \n",
    "\n",
    "<code style=\"padding: 12px; font-size: 0.8rem; margin-left: 60px; background-color: #fff4c5;\"><span style=\"font-size: 1rem; color: black;\">arr[</span> <code style=\"background-color: #ffe50b; padding:1px;\">start_depth_index : stop_row_index : step</code> , <code style=\"background-color: #ffe50b; padding:1px;\">start_row_index : stop_row_index : step</code> , <code style=\"background-color: #ffe50b; padding:1px;\">start_column_index : stop_column_index : step</code> <span style=\"font-size: 1rem; color: black;\">]</span></code>\n",
    "\n",
    "<br><br>\n",
    "\n",
    "<code style=\"background-color: black; color: white;\">Example - 1</code>\n"
   ]
  },
  {
   "cell_type": "code",
   "execution_count": 6,
   "id": "46c35a2e-70a3-4327-8f91-4767f61a240c",
   "metadata": {},
   "outputs": [
    {
     "name": "stdout",
     "output_type": "stream",
     "text": [
      "[[1 2 3]\n",
      " [4 5 6]]\n"
     ]
    }
   ],
   "source": [
    "\n",
    "a = np.array([\n",
    "    [1, 2, 3],\n",
    "    [4, 5, 6],\n",
    "    [7, 8, 9]\n",
    "])                                # 2D array\n",
    "\n",
    "print(a[0:2, :])                  # Slice rows from index 0 to 2 (excluding 2) and columns from index 0 to the last index\n"
   ]
  },
  {
   "cell_type": "markdown",
   "id": "cbd87862-3b5c-4e8e-9377-bedc6d8e6a7e",
   "metadata": {},
   "source": [
    "\n",
    "<div style=\"margin-left: 160px;\">\n",
    "\n",
    "![](../media/numpy_07.PNG)\n",
    "\n",
    "</div>\n",
    "\n",
    "<span style=\"color:  #a245ff;\">In the expression &nbsp;<code style=\"background-color: #f6c5ff;\">a[0:2, :]</code> &nbsp;<span style=\"color: black\"><font size=\"+2\">↴</font>&nbsp;</span></span>\n",
    "\n",
    "<span style=\"font-size: 0.7rem; color: black; margin-left: 30px;\">■</span> &nbsp;<span style=\"color:  #a245ff;\">First, the &nbsp;<code style=\"background-color: #f6c5ff;\">0:2</code>&nbsp; selects the element at index 0 and 1, not 2 that returns :</span>\n"
   ]
  },
  {
   "cell_type": "code",
   "execution_count": 72,
   "id": "827d7c1b-0ad3-4fdb-a17c-a9f6fe529e4c",
   "metadata": {},
   "outputs": [
    {
     "name": "stdout",
     "output_type": "stream",
     "text": [
      "[1 2 3]\n",
      "[4 5 6]\n"
     ]
    }
   ],
   "source": [
    "\n",
    "print(a[0])\n",
    "print(a[1])\n"
   ]
  },
  {
   "cell_type": "markdown",
   "id": "e03f6443-f689-4f4d-b5ad-52b9515f554b",
   "metadata": {},
   "source": [
    "<br>\n",
    "\n",
    "<div style=\"display: flex;\">\n",
    "\n",
    "<span style=\"font-size: 0.7rem; color: black; margin-left: 30px;\">■</span> &nbsp; <span style=\"color:  #a245ff;\">Then, the &nbsp;<code style=\"background-color: #f6c5ff;\"> : </code>&nbsp; select all elements. &nbsp;Therefore the whole expression returns :</span>\n"
   ]
  },
  {
   "cell_type": "code",
   "execution_count": 73,
   "id": "db8ba8cf-ebb2-4a2a-9f91-0e2d273376af",
   "metadata": {},
   "outputs": [
    {
     "name": "stdout",
     "output_type": "stream",
     "text": [
      "[1 2 3]\n",
      "[4 5 6]\n"
     ]
    }
   ],
   "source": [
    "\n",
    "print(a[0][:])\n",
    "print(a[1][:])\n"
   ]
  },
  {
   "cell_type": "markdown",
   "id": "c830c02b-b91a-4fc6-87af-cd658fb7681e",
   "metadata": {},
   "source": [
    "<br>\n",
    "\n",
    "<code style=\"background-color: black; color: white;\">Example - 2</code>\n"
   ]
  },
  {
   "cell_type": "code",
   "execution_count": 44,
   "id": "44fcf90e-7e5a-4312-9a29-08af279176ea",
   "metadata": {},
   "outputs": [
    {
     "name": "stdout",
     "output_type": "stream",
     "text": [
      "[[5 6]\n",
      " [8 9]]\n"
     ]
    }
   ],
   "source": [
    "\n",
    "a = np.array([\n",
    "    [1, 2, 3],\n",
    "    [4, 5, 6],\n",
    "    [7, 8, 9]\n",
    "])                                # 2D array                     \n",
    "\n",
    "print(a[1:, 1:])                  # Slice rows from index 1 to the last index and columns from the index 1 to the last index\n"
   ]
  },
  {
   "cell_type": "markdown",
   "id": "2d6ee1ca-9de1-49ed-be4f-52c40dd81f1d",
   "metadata": {},
   "source": [
    "\n",
    "<div style=\"margin-left: 160px;\">\n",
    "\n",
    "![](../media/numpy_08.PNG)\n",
    "\n",
    "</div>\n",
    "\n",
    "<span style=\"color:  #a245ff;\">In the expression &nbsp;<code style=\"background-color: #f6c5ff;\">a[1:, 1:]</code> &nbsp;<span style=\"color: black\"><font size=\"+2\">↴</font>&nbsp;</span></span>\n",
    "\n",
    "<span style=\"font-size: 0.7rem; color: black; margin-left: 30px;\">■</span> &nbsp;<span style=\"color:  #a245ff;\">First, &nbsp;<code style=\"background-color: #f6c5ff;\"> 1: </code>&nbsp; selects the elements starting at index 1 to the last element of the first axis (or row), which returns :</span>"
   ]
  },
  {
   "cell_type": "code",
   "execution_count": 64,
   "id": "1944a4c7-1e4c-4aea-bd19-c0c1c0525802",
   "metadata": {},
   "outputs": [
    {
     "name": "stdout",
     "output_type": "stream",
     "text": [
      "[4 5 6]\n",
      "[7 8 9]\n"
     ]
    }
   ],
   "source": [
    "\n",
    "print(a[1])\n",
    "print(a[2])\n"
   ]
  },
  {
   "cell_type": "markdown",
   "id": "173d6b63-99e5-4c5c-a552-a684f5b20e0d",
   "metadata": {},
   "source": [
    "<br>\n",
    "\n",
    "<span style=\"font-size: 0.7rem; color: black; margin-left: 30px;\">■</span> &nbsp;<span style=\"color:  #a245ff;\">Second, &nbsp;<code style=\"background-color: #f6c5ff;\"> 1: </code>&nbsp; selects the elements starting at index 1 to the last elements of the second axis (or column), which returns :</span>\n"
   ]
  },
  {
   "cell_type": "code",
   "execution_count": 66,
   "id": "34bc4f45-26d6-486f-84cc-09ed32f24264",
   "metadata": {},
   "outputs": [
    {
     "name": "stdout",
     "output_type": "stream",
     "text": [
      "[5 6]\n",
      "[8 9]\n"
     ]
    }
   ],
   "source": [
    "\n",
    "print(a[1][1:])\n",
    "print(a[2][1:])\n"
   ]
  },
  {
   "cell_type": "markdown",
   "id": "6d096a70-e6b2-498e-bc2a-0d0616bfca3c",
   "metadata": {},
   "source": [
    "<br>\n",
    "\n",
    "<code style=\"background-color: black; color: white;\">Example - 3</code>"
   ]
  },
  {
   "cell_type": "code",
   "execution_count": 60,
   "id": "34c6cb15-5a2c-4f1e-a91a-047dbdf33aa3",
   "metadata": {},
   "outputs": [
    {
     "name": "stdout",
     "output_type": "stream",
     "text": [
      "[1 2 3]\n"
     ]
    }
   ],
   "source": [
    "\n",
    "arr2d = np.array([[1, 2, 3], [4, 5, 6], [7, 8, 9]])\n",
    "\n",
    "print(arr2d[0])             # [1 2 3]\n"
   ]
  },
  {
   "cell_type": "markdown",
   "id": "053e02e2-ba08-4822-813c-76138a308ab2",
   "metadata": {},
   "source": [
    "<br>\n",
    "\n",
    "<div style=\"display: flex;\">\n",
    "<div><span style=\"font-size: 1.5rem;\">⭐&nbsp;&nbsp;</span></div>\n",
    "<div>Thus, individual elements can be accessed recursively. &nbsp;But that is a bit too much work, so <u>you can pass a <strong>comma-separated list of indices</strong> to select individual elements</u>. &nbsp;So the following are equivalent :</div>\n",
    "</div>\n"
   ]
  },
  {
   "cell_type": "code",
   "execution_count": 147,
   "id": "8d97824c-4966-4578-8663-41707f58ec09",
   "metadata": {},
   "outputs": [
    {
     "name": "stdout",
     "output_type": "stream",
     "text": [
      "3\n",
      "3\n"
     ]
    }
   ],
   "source": [
    "\n",
    "print(arr2d[0][2])          # METHOD - 1\n",
    "print(arr2d[0, 2])          # METHOD - 2\n"
   ]
  },
  {
   "cell_type": "markdown",
   "id": "f285f21c-c142-4bd4-b593-bc8d16af89b0",
   "metadata": {},
   "source": [
    "\n",
    "<div style=\"margin-left: 160px;\">\n",
    "\n",
    "![](../media/numpy_09.PNG)\n",
    "\n",
    "</div>\n"
   ]
  },
  {
   "cell_type": "code",
   "execution_count": 148,
   "id": "31309db6-65cf-41c0-a5d4-bbd110ea964d",
   "metadata": {},
   "outputs": [
    {
     "data": {
      "text/plain": [
       "array([[9, 8, 7],\n",
       "       [6, 5, 4],\n",
       "       [3, 2, 1]])"
      ]
     },
     "execution_count": 148,
     "metadata": {},
     "output_type": "execute_result"
    }
   ],
   "source": [
    "\n",
    "arr2d[::-1, ::-1]                # Slice rows from the last index to the first index and columns from the last index to the first index\n"
   ]
  },
  {
   "cell_type": "markdown",
   "id": "29cf12a8-6fee-4892-8b41-0bb9a222beee",
   "metadata": {},
   "source": [
    "\n",
    "<br>\n",
    "\n",
    "<code style=\"background-color: black; color: white;\">Example - 4</code>"
   ]
  },
  {
   "cell_type": "code",
   "execution_count": 149,
   "id": "8e9cb900-2c41-40ce-88d7-27dcd18625aa",
   "metadata": {},
   "outputs": [
    {
     "data": {
      "text/plain": [
       "array([[ 1,  2,  3,  4],\n",
       "       [ 5,  6,  7,  8],\n",
       "       [ 9, 10, 11, 12]])"
      ]
     },
     "execution_count": 149,
     "metadata": {},
     "output_type": "execute_result"
    }
   ],
   "source": [
    "\n",
    "arr2d = np.array([[1, 2, 3, 4], [5, 6, 7, 8], [9, 10, 11, 12]])\n",
    "\n",
    "arr2d\n"
   ]
  },
  {
   "cell_type": "code",
   "execution_count": 150,
   "id": "dc32b554-bd2e-4f6a-9425-c11c48d2bd7a",
   "metadata": {},
   "outputs": [
    {
     "name": "stdout",
     "output_type": "stream",
     "text": [
      "[[2 3]\n",
      " [6 7]]\n"
     ]
    }
   ],
   "source": [
    "\n",
    "print(arr2d[0:2, 1:3])           # Slice rows from index 0 to 2 (excluding 2) and columns from index 1 to 3 (excluding 3)\n",
    "                                                                  "
   ]
  },
  {
   "cell_type": "code",
   "execution_count": 66,
   "id": "cb9fed3b-038d-4f66-87a6-60f3afc7a2dd",
   "metadata": {},
   "outputs": [
    {
     "name": "stdout",
     "output_type": "stream",
     "text": [
      "[[1 2]\n",
      " [4 5]\n",
      " [7 8]]\n"
     ]
    }
   ],
   "source": [
    "\n",
    "print(arr2d[:, :2])              # Slice all rows and the first two columns\n"
   ]
  },
  {
   "cell_type": "code",
   "execution_count": 67,
   "id": "f8d3c341-9940-479c-8ee6-5c882fff82b7",
   "metadata": {},
   "outputs": [
    {
     "name": "stdout",
     "output_type": "stream",
     "text": [
      "[8 9]\n"
     ]
    }
   ],
   "source": [
    "\n",
    "print(arr2d[-1, -2:])            # Slice the last row and last two columns                         \n"
   ]
  },
  {
   "cell_type": "code",
   "execution_count": 140,
   "id": "9bc0c1f0-47fc-4320-a18c-bfcc6b11460e",
   "metadata": {},
   "outputs": [
    {
     "name": "stdout",
     "output_type": "stream",
     "text": [
      "[[2 1]\n",
      " [5 4]\n",
      " [8 7]]\n",
      "\n",
      "\n",
      "[[1 2]\n",
      " [4 5]\n",
      " [7 8]]\n"
     ]
    }
   ],
   "source": [
    "\n",
    "print(arr[:, [0, 1]])            # select all rows but with column 0 followed by column 1\n",
    "\n",
    "print(\"\\n\")\n",
    "\n",
    "print(arr[:, [1, 0]])            # select all rows but with column 1 followed by column 0\n"
   ]
  },
  {
   "cell_type": "markdown",
   "id": "d5f1394d-4553-4aa7-9b16-7c7a1c36d0f2",
   "metadata": {},
   "source": [
    "<br>\n",
    "\n",
    "<code style=\"background-color: black; color: white;\">Example - 5</code>"
   ]
  },
  {
   "cell_type": "code",
   "execution_count": 172,
   "id": "1736d51e-e10f-4c7c-851b-2b2598f7ac0d",
   "metadata": {},
   "outputs": [
    {
     "data": {
      "text/plain": [
       "array([[[ 1,  2,  3],\n",
       "        [ 4,  5,  6]],\n",
       "\n",
       "       [[ 7,  8,  9],\n",
       "        [10, 11, 12]]])"
      ]
     },
     "execution_count": 172,
     "metadata": {},
     "output_type": "execute_result"
    }
   ],
   "source": [
    "\n",
    "arr3d = np.array([[[1, 2, 3], [4, 5, 6]], [[7, 8, 9], [10, 11, 12]]])\n",
    "\n",
    "arr3d\n"
   ]
  },
  {
   "cell_type": "code",
   "execution_count": 173,
   "id": "52d8259d-c6bb-4976-9520-6e159bc21ccb",
   "metadata": {},
   "outputs": [
    {
     "data": {
      "text/plain": [
       "array([[1, 2, 3],\n",
       "       [4, 5, 6]])"
      ]
     },
     "execution_count": 173,
     "metadata": {},
     "output_type": "execute_result"
    }
   ],
   "source": [
    "\n",
    "arr3d[0]                                 # 2D array\n"
   ]
  },
  {
   "cell_type": "markdown",
   "id": "7d2bfb20-b69f-41ce-bdb5-6b7580342d13",
   "metadata": {},
   "source": [
    "<br>\n",
    "\n",
    "<span style=\"font-size: 1.5rem;\">⭐&nbsp;&nbsp;</span><span style=\"color: black;\">Both <strong>scalar values</strong> and <strong>arrays</strong> can be assigned to &nbsp;<code style=\"background-color: #f6c5ff;\">arr3d[0]</code> :</span>"
   ]
  },
  {
   "cell_type": "code",
   "execution_count": 174,
   "id": "e33e2ebc-4d71-454e-948d-99383e34960e",
   "metadata": {},
   "outputs": [
    {
     "data": {
      "text/plain": [
       "array([[[42, 42, 42],\n",
       "        [42, 42, 42]],\n",
       "\n",
       "       [[ 7,  8,  9],\n",
       "        [10, 11, 12]]])"
      ]
     },
     "execution_count": 174,
     "metadata": {},
     "output_type": "execute_result"
    }
   ],
   "source": [
    "\n",
    "old_values = arr3d[0].copy()\n",
    "\n",
    "arr3d[0] = 42                            # assigns  a  scalar  value  to  the  array  \"arr3d[0\"\n",
    "\n",
    "arr3d\n"
   ]
  },
  {
   "cell_type": "code",
   "execution_count": 175,
   "id": "4f4444f6-2230-4173-a442-6dff6ae33c0d",
   "metadata": {},
   "outputs": [
    {
     "data": {
      "text/plain": [
       "array([[[ 1,  2,  3],\n",
       "        [ 4,  5,  6]],\n",
       "\n",
       "       [[ 7,  8,  9],\n",
       "        [10, 11, 12]]])"
      ]
     },
     "execution_count": 175,
     "metadata": {},
     "output_type": "execute_result"
    }
   ],
   "source": [
    "\n",
    "arr3d[0] = old_values                    # assigns  an  array  to  the  array  \"arr3d[0]\"\n",
    "\n",
    "arr3d\n"
   ]
  },
  {
   "cell_type": "code",
   "execution_count": 176,
   "id": "2edec2ae-430d-471a-b3d4-431d432c6b12",
   "metadata": {},
   "outputs": [
    {
     "data": {
      "text/plain": [
       "array([7, 8, 9])"
      ]
     },
     "execution_count": 176,
     "metadata": {},
     "output_type": "execute_result"
    }
   ],
   "source": [
    "\n",
    "arr3d[1, 0]                              # 1D array\n"
   ]
  },
  {
   "cell_type": "code",
   "execution_count": 177,
   "id": "947c0aa7-6f34-4fb0-82ed-7a0966178aa8",
   "metadata": {},
   "outputs": [
    {
     "data": {
      "text/plain": [
       "array([[ 7,  8,  9],\n",
       "       [10, 11, 12]])"
      ]
     },
     "execution_count": 177,
     "metadata": {},
     "output_type": "execute_result"
    }
   ],
   "source": [
    "\n",
    "x = arr3d[1]\n",
    "\n",
    "x\n"
   ]
  },
  {
   "cell_type": "code",
   "execution_count": 178,
   "id": "ac152d7e-5dad-49f5-856d-a8bd0da881af",
   "metadata": {},
   "outputs": [
    {
     "data": {
      "text/plain": [
       "array([7, 8, 9])"
      ]
     },
     "execution_count": 178,
     "metadata": {},
     "output_type": "execute_result"
    }
   ],
   "source": [
    "\n",
    "x[0]\n"
   ]
  },
  {
   "cell_type": "markdown",
   "id": "09fed0ab-6305-4c1c-a4b1-99a49ad269be",
   "metadata": {},
   "source": [
    "<br>\n",
    "\n",
    "<span style=\"font-size: 1.5rem;\">⭐&nbsp;&nbsp;</span>Note that in all of these cases where subsections of the array have been selected, the returned arrays are **views**.\n",
    "\n",
    "<span style=\"color: red;\"><u>Caution</u> :-</span> &nbsp;This multidimensional indexing syntax for NumPy arrays will not work with regular Python objects, such as lists of lists."
   ]
  },
  {
   "cell_type": "code",
   "execution_count": 146,
   "id": "d3b021be-38af-434a-94ef-033308a8ad84",
   "metadata": {},
   "outputs": [
    {
     "data": {
      "text/plain": [
       "array([[ 0,  0,  0],\n",
       "       [10, 11, 12]])"
      ]
     },
     "execution_count": 146,
     "metadata": {},
     "output_type": "execute_result"
    }
   ],
   "source": [
    "\n",
    "x[0] = 0                               # scaler value 0 is broadcasted to the 1st row of the array \"x\"\n",
    "\n",
    "x\n"
   ]
  },
  {
   "cell_type": "code",
   "execution_count": 140,
   "id": "a8709045-b1a2-4d96-8028-8fbef2e16f19",
   "metadata": {},
   "outputs": [
    {
     "data": {
      "text/plain": [
       "array([[[ 1,  2,  3],\n",
       "        [ 4,  5,  6]],\n",
       "\n",
       "       [[ 0,  0,  0],\n",
       "        [10, 11, 12]]])"
      ]
     },
     "execution_count": 140,
     "metadata": {},
     "output_type": "execute_result"
    }
   ],
   "source": [
    "\n",
    "arr3d                                  # the change is reflected in the original array\n"
   ]
  },
  {
   "cell_type": "code",
   "execution_count": 141,
   "id": "24c7bb17-d1ff-407a-a2ca-d12015fc11ea",
   "metadata": {},
   "outputs": [
    {
     "data": {
      "text/plain": [
       "array([[ 0,  0,  0],\n",
       "       [10, 11, 12]])"
      ]
     },
     "execution_count": 141,
     "metadata": {},
     "output_type": "execute_result"
    }
   ],
   "source": [
    "\n",
    "arr3d[1, :, :]                         # is equivalent to  =========>  arr3d[1::, ::, ::]\n",
    "                                       # Slice the 2nd layer with all rows and all columns\n"
   ]
  },
  {
   "cell_type": "code",
   "execution_count": 142,
   "id": "489146f5-63a0-4626-8987-45a8f6bdbbb5",
   "metadata": {},
   "outputs": [
    {
     "data": {
      "text/plain": [
       "array([[ 0,  0,  0],\n",
       "       [10, 11, 12]])"
      ]
     },
     "execution_count": 142,
     "metadata": {},
     "output_type": "execute_result"
    }
   ],
   "source": [
    "\n",
    "\n",
    "arr3d[-1, :, :]                        # is equivalent to  =========>  arr3d[-1::, ::, ::]\n",
    "                                       # Slice the last layer with all rows and all columns\n"
   ]
  },
  {
   "cell_type": "code",
   "execution_count": 143,
   "id": "857a64e4-3c36-47ee-8db3-0d95024cdbbf",
   "metadata": {},
   "outputs": [
    {
     "data": {
      "text/plain": [
       "12"
      ]
     },
     "execution_count": 143,
     "metadata": {},
     "output_type": "execute_result"
    }
   ],
   "source": [
    "\n",
    "arr3d[-1, -1, -1]                      # Slice the last layer with last row and the last column\n"
   ]
  },
  {
   "cell_type": "code",
   "execution_count": 144,
   "id": "5e61a5b5-a8c5-4791-b22d-4515464a4e68",
   "metadata": {},
   "outputs": [
    {
     "data": {
      "text/plain": [
       "array([[[ 0,  0,  0],\n",
       "        [10, 11, 12]],\n",
       "\n",
       "       [[ 1,  2,  3],\n",
       "        [ 4,  5,  6]]])"
      ]
     },
     "execution_count": 144,
     "metadata": {},
     "output_type": "execute_result"
    }
   ],
   "source": [
    "\n",
    "arr3d[-1::-1, :, :]                    # Slice from last layer to the start layer with step = -1, and the slice all rows and all columns\n"
   ]
  },
  {
   "cell_type": "code",
   "execution_count": 145,
   "id": "52936205-886b-46d6-b6bd-d3a7586d6286",
   "metadata": {},
   "outputs": [
    {
     "data": {
      "text/plain": [
       "array([12,  6])"
      ]
     },
     "execution_count": 145,
     "metadata": {},
     "output_type": "execute_result"
    }
   ],
   "source": [
    "\n",
    "arr3d[-1::-1, -1, -1]                  # Slice the last layer with all rows and all columns\n"
   ]
  },
  {
   "cell_type": "markdown",
   "id": "6908a4d8-c4ca-4681-91f7-5afd32045001",
   "metadata": {
    "jp-MarkdownHeadingCollapsed": true
   },
   "source": [
    "<br>\n",
    "\n",
    "### <div style=\"color: white; background-color: #af87ff; padding: 5px;\"> <code style=\"font-size: 1.2rem; background-color: #af87ff; color: white;\"><strong>Fancy Indexing</strong></code> </div>\n"
   ]
  },
  {
   "cell_type": "markdown",
   "id": "627b4d68-f87f-4c57-aa3f-0f175528afe5",
   "metadata": {},
   "source": [
    "\n",
    "Besides using indexing & slicing, NumPy provides you with a convenient way to index an array called fancy indexing.\n",
    "\n",
    "Fancy indexing allows you to index a numpy array using the following:\n",
    "\n",
    "- Another numpy array\n",
    "- A Python list\n",
    "- A sequence of integers\n",
    "\n",
    "<br>\n",
    "\n",
    "<span style=\"font-size: 1.5rem;\">⭐&nbsp;</span> <span style=\"color: red;\">fancy indexing</span> &nbsp;&nbsp;&nbsp;====>&nbsp;&nbsp;&nbsp;  indexing using integer arrays &nbsp;&nbsp;&nbsp;====>&nbsp;&nbsp;&nbsp; <code style=\"background-color: #f9dc10; padding:1px;\"> array1[array2] </code>\n",
    "\n",
    "<br>\n",
    "\n",
    "<code style=\"background-color: black; color: white;\">Example - 1</code>"
   ]
  },
  {
   "cell_type": "code",
   "execution_count": 156,
   "id": "a39a3250-4541-40e2-bc11-2b099c892ce8",
   "metadata": {},
   "outputs": [
    {
     "name": "stdout",
     "output_type": "stream",
     "text": [
      "arr           =  [1 2 3 4 5 6 7 8 9]\n",
      "indices       =  [2, 3, 4]\n",
      "arr[indices]  =  [3 4 5]\n"
     ]
    }
   ],
   "source": [
    "\n",
    "arr = np.arange(1,10)\n",
    "print(\"arr           = \", arr)\n",
    "\n",
    "indices = [2,3,4]\n",
    "print(\"indices       = \", indices)\n",
    "\n",
    "print(\"arr[indices]  = \", arr[indices])                # array1[array2]\n"
   ]
  },
  {
   "cell_type": "markdown",
   "id": "1793d8db-cabd-457b-baa1-6bed4d76ce2b",
   "metadata": {},
   "source": [
    "<br>\n",
    "\n",
    "<div style=\"margin-left: 160px;\">\n",
    "\n",
    "![](../media/numpy_10.PNG)\n",
    "\n",
    "</div>\n",
    "\n",
    "<br>\n",
    "\n",
    "<code style=\"background-color: black; color: white;\">Example - 2</code>"
   ]
  },
  {
   "cell_type": "code",
   "execution_count": 164,
   "id": "92b5218d-a700-4186-8560-792117650167",
   "metadata": {},
   "outputs": [
    {
     "data": {
      "text/plain": [
       "(8, 4)"
      ]
     },
     "execution_count": 164,
     "metadata": {},
     "output_type": "execute_result"
    }
   ],
   "source": [
    "\n",
    "arr = np.array([[0, 0, 0, 0],\n",
    "                [1, 1, 1, 1],\n",
    "                [2, 2, 2, 2],\n",
    "                [3, 3, 3, 3],\n",
    "                [4, 4, 4, 4],\n",
    "                [5, 5, 5, 5],\n",
    "                [6, 6, 6, 6],\n",
    "                [7, 7, 7, 7]])\n",
    "\n",
    "arr.shape\n"
   ]
  },
  {
   "cell_type": "code",
   "execution_count": 166,
   "id": "ddffb560-75c2-4cda-92e4-d16af56c74de",
   "metadata": {},
   "outputs": [
    {
     "data": {
      "text/plain": [
       "array([[4, 4, 4, 4],\n",
       "       [3, 3, 3, 3],\n",
       "       [0, 0, 0, 0],\n",
       "       [6, 6, 6, 6]])"
      ]
     },
     "execution_count": 166,
     "metadata": {},
     "output_type": "execute_result"
    }
   ],
   "source": [
    "\n",
    "arr[[4, 3, 0, 6]]\n"
   ]
  },
  {
   "cell_type": "code",
   "execution_count": 167,
   "id": "ba8aa281-e455-4777-a80b-a2438b72f9a1",
   "metadata": {},
   "outputs": [
    {
     "data": {
      "text/plain": [
       "array([[5, 5, 5, 5],\n",
       "       [3, 3, 3, 3],\n",
       "       [1, 1, 1, 1]])"
      ]
     },
     "execution_count": 167,
     "metadata": {},
     "output_type": "execute_result"
    }
   ],
   "source": [
    "\n",
    "arr[[-3, -5, -7]]\n"
   ]
  },
  {
   "cell_type": "markdown",
   "id": "dd94e1ec-ce70-4f9f-8d4a-e56f100fd85c",
   "metadata": {},
   "source": [
    "<br>\n",
    "\n",
    "<code style=\"background-color: black; color: white;\">Example - 3</code>\n",
    "\n",
    "Passing **multiple index arrays** does something slightly different; <span style=\"color: blue;\">it selects a one-dimensional array of elements corresponding to each tuple of indices :</span>"
   ]
  },
  {
   "cell_type": "code",
   "execution_count": 17,
   "id": "820097e8-fd7c-4a37-863a-8f6a494739f2",
   "metadata": {},
   "outputs": [
    {
     "name": "stdout",
     "output_type": "stream",
     "text": [
      "(8, 4)\n"
     ]
    }
   ],
   "source": [
    "\n",
    "arr = np.array([[ 0,  1,  2,  3],\n",
    "                [ 4,  5,  6,  7],\n",
    "                [ 8,  9, 10, 11],\n",
    "                [12, 13, 14, 15],\n",
    "                [16, 17, 18, 19],\n",
    "                [20, 21, 22, 23],\n",
    "                [24, 25, 26, 27],\n",
    "                [28, 29, 30, 31]])\n",
    "\n",
    "\n",
    "print(arr.shape)\n"
   ]
  },
  {
   "cell_type": "code",
   "execution_count": 18,
   "id": "d017f875-b61f-4637-b083-59317953420c",
   "metadata": {},
   "outputs": [
    {
     "data": {
      "text/plain": [
       "array([ 4, 23, 29, 10])"
      ]
     },
     "execution_count": 18,
     "metadata": {},
     "output_type": "execute_result"
    }
   ],
   "source": [
    "\n",
    "arr[[1, 5, 7, 2], [0, 3, 1, 2]]                    # [arr(1,0) , arr(5,3), arr(7,1), arr(2,2)]    -------->    [4, 23, 29, 10]\n"
   ]
  },
  {
   "cell_type": "markdown",
   "id": "6643fe98-9135-4050-a0b4-a4ba0b34de2a",
   "metadata": {},
   "source": [
    "\n",
    "<span style=\"color:  #a245ff;\">Here the elements at index &nbsp;<code style=\"background-color: #f6c5ff;\">(1,0)</code>&nbsp;, &nbsp;<code style=\"background-color: #f6c5ff;\">(5,3)</code>&nbsp; , &nbsp;<code style=\"background-color: #f6c5ff;\">(7,1)</code>&nbsp; and &nbsp;<code style=\"background-color: #f6c5ff;\">(2,3)</code>&nbsp; are selected.</span>\n",
    "\n",
    "<span style=\"color:  #a245ff;\">Now let's look at another scenario of <strong>fancy indexing</strong> :</span>"
   ]
  },
  {
   "cell_type": "code",
   "execution_count": 19,
   "id": "d9862966-1e6b-4d72-a414-20bb567476a0",
   "metadata": {},
   "outputs": [
    {
     "data": {
      "text/plain": [
       "array([[ 4,  5,  6,  7],\n",
       "       [20, 21, 22, 23],\n",
       "       [28, 29, 30, 31],\n",
       "       [ 8,  9, 10, 11]])"
      ]
     },
     "execution_count": 19,
     "metadata": {},
     "output_type": "execute_result"
    }
   ],
   "source": [
    "\n",
    "arr[[1, 5, 7, 2]]\n"
   ]
  },
  {
   "cell_type": "code",
   "execution_count": 20,
   "id": "95133aab-d1e3-43bf-bb31-7b98033d96e7",
   "metadata": {},
   "outputs": [
    {
     "data": {
      "text/plain": [
       "array([[ 4,  7,  5,  6],\n",
       "       [20, 23, 21, 22],\n",
       "       [28, 31, 29, 30],\n",
       "       [ 8, 11,  9, 10]])"
      ]
     },
     "execution_count": 20,
     "metadata": {},
     "output_type": "execute_result"
    }
   ],
   "source": [
    "\n",
    "arr[[1, 5, 7, 2]][:, [0, 3, 1, 2]]                # the columns of  \"arr[[1, 5, 7, 2]]\"  are rearanged in the order [0, 3, 1, 2]\n"
   ]
  },
  {
   "cell_type": "markdown",
   "id": "988c693c-7b67-49d1-99c8-cfc7b53dd527",
   "metadata": {},
   "source": [
    "<br>\n",
    "\n",
    "<span style=\"color:  #a245ff;\">How does it work ? &nbsp;&nbsp;&nbsp;====>&nbsp;&nbsp;&nbsp; The columns of &nbsp;<code style=\"background-color: #edd4ff;\">arr[[1, 5, 7, 2]]</code>&nbsp; are rearranged in the order &nbsp;<code style=\"background-color: #edd4ff;\">[0, 3, 1, 2]</code></span>\n",
    "\n",
    "<div style=\"margin-left: 140px;\">\n",
    "\n",
    "![](../media/numpy_11.PNG)\n",
    "\n",
    "</div>"
   ]
  },
  {
   "cell_type": "markdown",
   "id": "86c0db01-aa09-4bff-931a-ed5da7bcf5cb",
   "metadata": {},
   "source": [
    "<div style=\"display: flex;\">\n",
    "<div><span style=\"font-size: 1.5rem;\">⭐&nbsp;&nbsp;</span></div>\n",
    "<div>Keep in mind that <span style=\"color: blue;\">fancy indexing</span>, unlike slicing, <span style=\"color: blue;\">always copies the data into a new array when assigning the result to a new variable</span>. &nbsp;If you assign values with fancy indexing, the indexed values will be modified :</div>\n",
    "</div>"
   ]
  },
  {
   "cell_type": "code",
   "execution_count": 12,
   "id": "c87f94a0-7da5-4bb5-ae1a-d6f66797b0a0",
   "metadata": {},
   "outputs": [
    {
     "data": {
      "text/plain": [
       "array([ 4, 23, 29, 10])"
      ]
     },
     "execution_count": 12,
     "metadata": {},
     "output_type": "execute_result"
    }
   ],
   "source": [
    "\n",
    "arr[[1, 5, 7, 2], [0, 3, 1, 2]]\n"
   ]
  },
  {
   "cell_type": "code",
   "execution_count": 22,
   "id": "f28634ac-91e7-4d54-bac0-a5de18270a02",
   "metadata": {},
   "outputs": [
    {
     "data": {
      "text/plain": [
       "array([[ 0,  1,  2,  3],\n",
       "       [ 0,  5,  6,  7],\n",
       "       [ 8,  9,  0, 11],\n",
       "       [12, 13, 14, 15],\n",
       "       [16, 17, 18, 19],\n",
       "       [20, 21, 22,  0],\n",
       "       [24, 25, 26, 27],\n",
       "       [28,  0, 30, 31]])"
      ]
     },
     "execution_count": 22,
     "metadata": {},
     "output_type": "execute_result"
    }
   ],
   "source": [
    "\n",
    "arr[[1, 5, 7, 2], [0, 3, 1, 2]] = 0                # arr(1,0)  =  arr(5,3)  =  arr(7,1)  =  arr(2,2)  =  0\n",
    "\n",
    "arr\n"
   ]
  },
  {
   "cell_type": "markdown",
   "id": "669cd10a-2b5e-46d6-9430-6780f687f55b",
   "metadata": {
    "jp-MarkdownHeadingCollapsed": true
   },
   "source": [
    "<br>\n",
    "\n",
    "### <div style=\"color: white; background-color: #af87ff; padding: 5px;\"> <code style=\"font-size: 1.2rem; background-color: #af87ff; color: white;\"><strong>Boolean Indexing</strong></code> </div>\n"
   ]
  },
  {
   "cell_type": "markdown",
   "id": "6d6468b2-6dbd-4cf6-a183-18755d7084dd",
   "metadata": {},
   "source": [
    "Numpy allows you &nbsp;<span style=\"color: blue; background-color: white;\">to use an array of boolean values as an index of another array</span>. &nbsp;<u>Each element of the boolean array indicates whether or not to select the elements from the array</u>.\n",
    "\n",
    "If the value is &nbsp;<code style=\"color: red;\">True</code> , the element of that index is selected. In case the value is <code style=\"color: red;\">False</code>, the element of that index is not selected.\n",
    "\n",
    "<span style=\"font-size: 1.5rem;\">⭐&nbsp;</span> <span style=\"color: red;\">boolean indexing</span> &nbsp;&nbsp;&nbsp;====>&nbsp;&nbsp;&nbsp;  indexing using boolean arrays &nbsp;&nbsp;&nbsp;====>&nbsp;&nbsp;&nbsp; <code style=\"background-color: #f9dc10; padding:1px;\"> array[booleanarray] </code>\n"
   ]
  },
  {
   "cell_type": "code",
   "execution_count": 23,
   "id": "742be5e6-cf03-4e05-9fab-08dc2b90ff82",
   "metadata": {},
   "outputs": [
    {
     "name": "stdout",
     "output_type": "stream",
     "text": [
      "[1 2]\n"
     ]
    }
   ],
   "source": [
    "\n",
    "a = np.array([1, 2, 3])\n",
    "b = np.array([True, True, False])\n",
    "c = a[b]\n",
    "print(c)\n"
   ]
  },
  {
   "cell_type": "markdown",
   "id": "df1bf73a-fd8b-4eb6-b933-ffa9b5b341bc",
   "metadata": {},
   "source": [
    "<br>\n",
    "\n",
    "<span style=\"color:  #a245ff;\">How does it work ?</span>\n",
    "\n",
    "<div style=\"margin-left: 80px;\">\n",
    "\n",
    "![](../media/numpy_12.PNG)\n",
    "\n",
    "</div>"
   ]
  },
  {
   "cell_type": "markdown",
   "id": "229a3d66-ad33-4b03-bb1b-bd69be48c8fa",
   "metadata": {},
   "source": [
    "\n",
    "<span style=\"font-size: 1.5rem;\">⭐&nbsp;</span>Typically, you’ll use boolean indexing to filter an array. &nbsp;<span style=\"color:  #a245ff;\">For example :</span>\n"
   ]
  },
  {
   "cell_type": "code",
   "execution_count": 29,
   "id": "fdbc332a-41a0-4dd5-bdf4-21a39f3777fd",
   "metadata": {},
   "outputs": [
    {
     "name": "stdout",
     "output_type": "stream",
     "text": [
      "[False False False False False  True  True  True  True]\n",
      "[6 7 8 9]\n"
     ]
    }
   ],
   "source": [
    "\n",
    "a = np.arange(1, 10)\n",
    "b = a > 5                       # [1  2  3  4  5  6  7  8  9] > 5     ------>     [(1>5)  (2>5)  (3>5)  (4>5)  (5>5)  (6>5)  (7>5)  (8>5)  (9>5)]\n",
    "print(b)\n",
    "\n",
    "c = a[b]\n",
    "print(c)                        # The array \"c\" contains only numbers from array \"a\", which are greater than \"5\"\n"
   ]
  },
  {
   "cell_type": "markdown",
   "id": "3306e835-33fb-4df0-8a61-90766b7c7995",
   "metadata": {},
   "source": [
    "<br>\n",
    "\n",
    "<code style=\"background-color: black; color: white;\">Example - 1</code>"
   ]
  },
  {
   "cell_type": "code",
   "execution_count": 94,
   "id": "bab6cd10-8b01-4571-9d59-ddc9fe7c88a3",
   "metadata": {},
   "outputs": [
    {
     "name": "stdout",
     "output_type": "stream",
     "text": [
      "['Bob' 'Joe' 'Will' 'Bob' 'Will' 'Joe' 'Joe']\n",
      "[[  4   7]\n",
      " [  0   2]\n",
      " [ -5   6]\n",
      " [  0   0]\n",
      " [  1   2]\n",
      " [-12  -4]\n",
      " [  3   4]]\n"
     ]
    }
   ],
   "source": [
    "\n",
    "names = np.array([\"Bob\", \"Joe\", \"Will\", \"Bob\", \"Will\", \"Joe\", \"Joe\"])\n",
    "data = np.array([[4, 7], [0, 2], [-5, 6], [0, 0], [1, 2], [-12, -4], [3, 4]])\n",
    "\n",
    "print(names)\n",
    "print(data)\n"
   ]
  },
  {
   "cell_type": "markdown",
   "id": "49a097b2-c3b4-452e-9e21-e2cbba1a0837",
   "metadata": {},
   "source": [
    "\n",
    "<span style=\"color:  #a245ff;\">Suppose each name corresponds to a row in the data array.</span> \n",
    "\n",
    "<span style=\"color:  #a245ff;\">Like <strong>arithmetic operations on numpy arrays</strong> (<span style=\"color: black;\"><u>which we will see later on</span></u>), comparisons (such as &nbsp;<code style=\"background-color: #edd4ff;\">==</code>&nbsp;) with arrays are also vectorized. &nbsp;Thus, comparing names with the string \"Bob\" yields a <span style=\"color: #0bcd0b;\">Boolean array</span> :</span>\n"
   ]
  },
  {
   "cell_type": "code",
   "execution_count": 95,
   "id": "9faf94cc-3d26-42a0-914b-38f7affbfcf1",
   "metadata": {},
   "outputs": [
    {
     "data": {
      "text/plain": [
       "array([ True, False, False,  True, False, False, False])"
      ]
     },
     "execution_count": 95,
     "metadata": {},
     "output_type": "execute_result"
    }
   ],
   "source": [
    "\n",
    "names == \"Bob\"                     # comparing two numpy arrays\n"
   ]
  },
  {
   "cell_type": "code",
   "execution_count": 96,
   "id": "7806403f-3db7-4d03-800a-aac5496fc36d",
   "metadata": {},
   "outputs": [
    {
     "data": {
      "text/plain": [
       "array([[4, 7],\n",
       "       [0, 0]])"
      ]
     },
     "execution_count": 96,
     "metadata": {},
     "output_type": "execute_result"
    }
   ],
   "source": [
    "\n",
    "data[names == \"Bob\"]               # selects only the rows in data where names is \"Bob\"\n"
   ]
  },
  {
   "cell_type": "markdown",
   "id": "367f323e-e8f4-49ee-be4f-cef16f0f2476",
   "metadata": {},
   "source": [
    "<br>\n",
    "\n",
    "<div style=\"display: flex;\">\n",
    "<div><span style=\"font-size: 1.5rem;\">⭐&nbsp;&nbsp;</span></div>\n",
    "<div><u>The Boolean array must be of the same length as the array axis it’s indexing</u>. You can even mix and match Boolean arrays with slices or integers (or sequences of integers; more on this later).</div>\n",
    "</div>\n"
   ]
  },
  {
   "cell_type": "code",
   "execution_count": 97,
   "id": "97de664e-07cc-493d-b243-097f7a2848e0",
   "metadata": {},
   "outputs": [
    {
     "data": {
      "text/plain": [
       "array([[7],\n",
       "       [0]])"
      ]
     },
     "execution_count": 97,
     "metadata": {},
     "output_type": "execute_result"
    }
   ],
   "source": [
    "\n",
    "data[names == \"Bob\", 1:]           # selects all columns starting from index 1 onward in the filtered rows from the above result\n",
    "                                   # slice columns from index 1 to index -1 (last column) in the above filtered rows\n"
   ]
  },
  {
   "cell_type": "code",
   "execution_count": 98,
   "id": "651eca98-9a14-414e-8c84-431e29f06c6b",
   "metadata": {},
   "outputs": [
    {
     "data": {
      "text/plain": [
       "array([7, 0])"
      ]
     },
     "execution_count": 98,
     "metadata": {},
     "output_type": "execute_result"
    }
   ],
   "source": [
    "\n",
    "data[names == \"Bob\", 1]            # selects only the column at index 1 instead of slicing from 1 onward\n",
    "                                   # returns a 1D array instead of a 2D array\n"
   ]
  },
  {
   "cell_type": "markdown",
   "id": "45635842-a6ea-460f-9715-fda2dd9bfbef",
   "metadata": {},
   "source": [
    "<br>\n",
    "\n",
    "<span style=\"color:  #a245ff;\">To select everything but \"Bob\" you can either use &nbsp;<code style=\"background-color: #edd4ff;\"> != </code>&nbsp; or negate the condition using &nbsp;<code style=\"background-color: #edd4ff;\"> ~ </code>&nbsp; :</span>\n"
   ]
  },
  {
   "cell_type": "code",
   "execution_count": 99,
   "id": "77fbf475-94d3-44b4-b00e-76fcfcbe6cc7",
   "metadata": {},
   "outputs": [
    {
     "data": {
      "text/plain": [
       "array([False,  True,  True, False,  True,  True,  True])"
      ]
     },
     "execution_count": 99,
     "metadata": {},
     "output_type": "execute_result"
    }
   ],
   "source": [
    "\n",
    "names != \"Bob\"\n"
   ]
  },
  {
   "cell_type": "code",
   "execution_count": 100,
   "id": "dbfa51be-8fd6-401c-a7d5-f8fb7d3050ab",
   "metadata": {},
   "outputs": [
    {
     "data": {
      "text/plain": [
       "array([False,  True,  True, False,  True,  True,  True])"
      ]
     },
     "execution_count": 100,
     "metadata": {},
     "output_type": "execute_result"
    }
   ],
   "source": [
    "\n",
    "~(names == \"Bob\")\n"
   ]
  },
  {
   "cell_type": "code",
   "execution_count": 101,
   "id": "1bc4c84a-8155-47a8-8d9a-3e59730f290b",
   "metadata": {},
   "outputs": [
    {
     "data": {
      "text/plain": [
       "array([[  0,   2],\n",
       "       [ -5,   6],\n",
       "       [  1,   2],\n",
       "       [-12,  -4],\n",
       "       [  3,   4]])"
      ]
     },
     "execution_count": 101,
     "metadata": {},
     "output_type": "execute_result"
    }
   ],
   "source": [
    "\n",
    "data[~(names == \"Bob\")]\n"
   ]
  },
  {
   "cell_type": "markdown",
   "id": "6c87f62c-90c4-425c-bb6f-924a3b66dcc8",
   "metadata": {},
   "source": [
    "\n",
    "<span style=\"font-size: 1.5rem;\">⭐&nbsp;&nbsp;</span>The &nbsp;<code style=\"background-color: #edd4ff;\"> ~ </code>&nbsp; operator can be useful when you want <span style=\"color: blue;\">to invert a Boolean array referenced by a variable</span> :</span>\n"
   ]
  },
  {
   "cell_type": "code",
   "execution_count": 116,
   "id": "34b87937-6ed1-437c-bc35-0212bde52e56",
   "metadata": {},
   "outputs": [
    {
     "data": {
      "text/plain": [
       "array([[0, 2],\n",
       "       [7, 7],\n",
       "       [7, 7],\n",
       "       [0, 0],\n",
       "       [3, 4]])"
      ]
     },
     "execution_count": 116,
     "metadata": {},
     "output_type": "execute_result"
    }
   ],
   "source": [
    "\n",
    "cond = names == \"Bob\"\n",
    "\n",
    "data[~cond]\n"
   ]
  },
  {
   "cell_type": "markdown",
   "id": "b679dc14-cde5-4480-ad86-45b2cea6f492",
   "metadata": {},
   "source": [
    "\n",
    "<br>\n",
    "\n",
    "<div style=\"display: flex;\">\n",
    "<div><span style=\"font-size: 1.5rem;\">⭐&nbsp;&nbsp;</span></div>\n",
    "<div>\n",
    "The Python keywords and and or do not work with Boolean arrays. &nbsp;Use &nbsp;<code style=\"background-color: #edd4ff;\"> & </code>&nbsp; (and) and &nbsp;Use &nbsp;<code style=\"background-color: #edd4ff;\"> | </code>&nbsp; (or) instead.  <br>\n",
    "To select two of the three names to combine multiple Boolean conditions, use <strong>Boolean arithmetic operators</strong> like &nbsp;<code style=\"background-color: #edd4ff;\"> & </code>&nbsp; (and) and &nbsp;<code style=\"background-color: #edd4ff;\"> | </code>&nbsp; (or) &nbsp;:&nbsp;<span style=\"color: black;\"><font size=\"+1\">↴</font>&nbsp;</span>\n",
    "</div>\n",
    "</div>\n"
   ]
  },
  {
   "cell_type": "code",
   "execution_count": 117,
   "id": "d02d9627-6a7b-4d9f-9488-7f209d30fc9b",
   "metadata": {},
   "outputs": [
    {
     "data": {
      "text/plain": [
       "array([ True, False,  True,  True,  True, False, False])"
      ]
     },
     "execution_count": 117,
     "metadata": {},
     "output_type": "execute_result"
    }
   ],
   "source": [
    "\n",
    "mask = (names == \"Bob\") | (names == \"Will\")\n",
    "\n",
    "mask\n"
   ]
  },
  {
   "cell_type": "code",
   "execution_count": 118,
   "id": "42150e31-a1cd-4b02-9ab3-75867f00d777",
   "metadata": {},
   "outputs": [
    {
     "data": {
      "text/plain": [
       "array([[7, 7],\n",
       "       [7, 7],\n",
       "       [7, 7],\n",
       "       [7, 7]])"
      ]
     },
     "execution_count": 118,
     "metadata": {},
     "output_type": "execute_result"
    }
   ],
   "source": [
    "\n",
    "data[mask]\n"
   ]
  },
  {
   "cell_type": "markdown",
   "id": "d952e2d6-d4dd-4304-8dad-20182ed02d09",
   "metadata": {},
   "source": [
    "<br>\n",
    "\n",
    "<span style=\"color: #a245ff;\">To set all of the negative values in data to 0, we only need to do :</span>"
   ]
  },
  {
   "cell_type": "code",
   "execution_count": 119,
   "id": "100b1b99-1d03-4727-9df9-61b9b01dadac",
   "metadata": {},
   "outputs": [
    {
     "data": {
      "text/plain": [
       "array([[7, 7],\n",
       "       [0, 2],\n",
       "       [7, 7],\n",
       "       [7, 7],\n",
       "       [7, 7],\n",
       "       [0, 0],\n",
       "       [3, 4]])"
      ]
     },
     "execution_count": 119,
     "metadata": {},
     "output_type": "execute_result"
    }
   ],
   "source": [
    "\n",
    "data\n"
   ]
  },
  {
   "cell_type": "code",
   "execution_count": 120,
   "id": "214fad8b-2693-47e1-98a8-b141a024bede",
   "metadata": {},
   "outputs": [
    {
     "data": {
      "text/plain": [
       "array([[False, False],\n",
       "       [False, False],\n",
       "       [False, False],\n",
       "       [False, False],\n",
       "       [False, False],\n",
       "       [False, False],\n",
       "       [False, False]])"
      ]
     },
     "execution_count": 120,
     "metadata": {},
     "output_type": "execute_result"
    }
   ],
   "source": [
    "\n",
    "data < 0\n"
   ]
  },
  {
   "cell_type": "code",
   "execution_count": 121,
   "id": "f4279a15-3f16-447f-9340-72017fde61cf",
   "metadata": {},
   "outputs": [
    {
     "data": {
      "text/plain": [
       "array([[7, 7],\n",
       "       [0, 2],\n",
       "       [7, 7],\n",
       "       [7, 7],\n",
       "       [7, 7],\n",
       "       [0, 0],\n",
       "       [3, 4]])"
      ]
     },
     "execution_count": 121,
     "metadata": {},
     "output_type": "execute_result"
    }
   ],
   "source": [
    "\n",
    "data[data < 0] = 0\n",
    "\n",
    "data\n"
   ]
  },
  {
   "cell_type": "markdown",
   "id": "c2805524-f7ad-467f-b9b0-fccfd6149641",
   "metadata": {},
   "source": [
    "<br>\n",
    "\n",
    "<span style=\"color: #a245ff;\">You can also set whole rows or columns using a one-dimensional Boolean array</span>\n",
    "                               "
   ]
  },
  {
   "cell_type": "code",
   "execution_count": 122,
   "id": "1ddaf945-6768-4c45-9c2a-580d5d872e32",
   "metadata": {},
   "outputs": [
    {
     "data": {
      "text/plain": [
       "array([ True, False,  True,  True,  True, False, False])"
      ]
     },
     "execution_count": 122,
     "metadata": {},
     "output_type": "execute_result"
    }
   ],
   "source": [
    "\n",
    "names != \"Joe\"\n"
   ]
  },
  {
   "cell_type": "code",
   "execution_count": 123,
   "id": "e4bd35e0-647a-44c8-891b-2add3ccd2aa2",
   "metadata": {},
   "outputs": [
    {
     "data": {
      "text/plain": [
       "array([[7, 7],\n",
       "       [7, 7],\n",
       "       [7, 7],\n",
       "       [7, 7]])"
      ]
     },
     "execution_count": 123,
     "metadata": {},
     "output_type": "execute_result"
    }
   ],
   "source": [
    "\n",
    "data[names != \"Joe\"]\n"
   ]
  },
  {
   "cell_type": "code",
   "execution_count": 124,
   "id": "e9f9e2c8-15e4-426c-b2c7-379fd5d904d7",
   "metadata": {},
   "outputs": [
    {
     "data": {
      "text/plain": [
       "array([[7, 7],\n",
       "       [0, 2],\n",
       "       [7, 7],\n",
       "       [7, 7],\n",
       "       [7, 7],\n",
       "       [0, 0],\n",
       "       [3, 4]])"
      ]
     },
     "execution_count": 124,
     "metadata": {},
     "output_type": "execute_result"
    }
   ],
   "source": [
    "\n",
    "data[names != \"Joe\"] = 7           # set whole rows or columns using a one-dimensional Boolean array\n",
    "\n",
    "data\n",
    "                                   "
   ]
  },
  {
   "cell_type": "markdown",
   "id": "8f07eb2b-00a4-4492-b426-6d447d7b632c",
   "metadata": {},
   "source": [
    "<br>\n",
    "\n",
    "<span style=\"font-size: 1.5rem;\">⭐&nbsp;&nbsp;</span><span style=\"color: blue;\">As we will see later, these types of operations on two-dimensional data are convenient to do with <span style=\"color: red;\">pandas</span></span>\n"
   ]
  },
  {
   "cell_type": "markdown",
   "id": "a40cd99d-53aa-48b7-bfeb-540a8f5098d4",
   "metadata": {
    "jp-MarkdownHeadingCollapsed": true
   },
   "source": [
    "<br>\n",
    "\n",
    "### <div style=\"color: white; background-color: #af87ff; padding: 10px;\"> <code style=\"font-size: 1.2rem; background-color: #af87ff; color: white;\"><strong>View &nbsp;vs&nbsp; Copy</strong></code> <br><br><div style=\"color: black; background-color: white; padding-top: 7px; padding-bottom: 8px;\"><code style=\"background-color: white;\">numpy.copy()</code></div></div>\n"
   ]
  },
  {
   "cell_type": "markdown",
   "id": "90a188f1-02a1-45f0-9b8d-d0615641c396",
   "metadata": {},
   "source": [
    "<code style=\"background-color: yellow; padding: 6px;\">numpy.<span style=\"color: red;\"><span style=\"font-size: 1rem;\"><strong>copy(</strong></span><span style=\"color: black;\">arr</span>, <span style=\"color: black;\">order</span><span style=\"color: #9b96a1;\">='K'</span><span style=\"font-size: 1rem;\"><strong>)</strong></span></code> &nbsp;&nbsp;===>&nbsp;&nbsp; creates a new array that is a copy of the source array, ensuring no shared memory between the original and the copied array.\n",
    "\n",
    "<span style=\"margin-left: 222px;\"> &nbsp;&nbsp;===>&nbsp;&nbsp; <code style=\"background-color: #c2ffc4;\">order</code> : &nbsp;Memory layout of the copy ( <code>'C'</code> for row-major , <code>'F'</code> for column-major , <code>'K'</code> for matching the layout of a ).</span>\n",
    "\n",
    "<br>\n",
    "\n",
    "When you **slice** an array, you get a subarray. &nbsp;The subarray is a **view** of the original array. &nbsp;In other words, if you change elements in the subarray, the change will be reflected in the original array. &nbsp;<span style=\"color: #a245ff;\">For example :</span>\n"
   ]
  },
  {
   "cell_type": "code",
   "execution_count": 135,
   "id": "0c7abee8-e7fa-4089-9260-410231f7f7c4",
   "metadata": {},
   "outputs": [
    {
     "name": "stdout",
     "output_type": "stream",
     "text": [
      "[[1 2]\n",
      " [4 5]]\n"
     ]
    }
   ],
   "source": [
    "\n",
    "a = np.array(\n",
    "    [[1, 2, 3],\n",
    "     [4, 5, 6]]\n",
    ")\n",
    "\n",
    " b = a[0:, 0:2]                   # slice rows from index 0 onward and then slice columns from index 0 to index 2 (excluding the index 2)\n",
    "\n",
    "print(b)\n"
   ]
  },
  {
   "cell_type": "code",
   "execution_count": 141,
   "id": "fcf857d0-7f68-4d3c-aaec-952615fb5f8d",
   "metadata": {},
   "outputs": [],
   "source": [
    "\n",
    " b[0, 0] = 0                     # change the element at index [0,0] in the subarray \"b\" to zero\n"
   ]
  },
  {
   "cell_type": "code",
   "execution_count": 137,
   "id": "c908d99b-ce00-4d1d-9f41-6bd14b2f3d93",
   "metadata": {},
   "outputs": [
    {
     "name": "stdout",
     "output_type": "stream",
     "text": [
      "[[0 2]\n",
      " [4 5]]\n"
     ]
    }
   ],
   "source": [
    "\n",
    "print(b)\n"
   ]
  },
  {
   "cell_type": "markdown",
   "id": "2f1bd5b3-2d32-46b7-91d9-13712d4d88c3",
   "metadata": {},
   "source": [
    "<br>\n",
    "\n",
    "<code style=\"color: #a245ff; background-color: white;\">Let's now check if the change in the array \"b\" is reflected in the array \"a\" or not :</span>\n"
   ]
  },
  {
   "cell_type": "code",
   "execution_count": 139,
   "id": "6c80f212-e926-41d4-91c0-465ad50bf301",
   "metadata": {},
   "outputs": [
    {
     "name": "stdout",
     "output_type": "stream",
     "text": [
      "[[0 2 3]\n",
      " [4 5 6]]\n"
     ]
    }
   ],
   "source": [
    "\n",
    "print(a)                         # Since \"b\" is a view of array \"a\", the change is also reflected in array \"a\"\n"
   ]
  },
  {
   "cell_type": "markdown",
   "id": "cfb4f32d-ae2a-49fa-9eb6-dc981aaca42d",
   "metadata": {},
   "source": [
    "<br>\n",
    "\n",
    "<span style=\"color: #a245ff; background-color: white;\">As &nbsp;you &nbsp;can &nbsp;see, &nbsp;<strong>yes &nbsp;it's &nbsp;reflected</strong>.</span>\n",
    "\n",
    "<span style=\"color:  #a245ff;\">How does it work ?</span>\n",
    "\n",
    "<div style=\"margin-left: 80px;\">\n",
    "\n",
    "![](../media/numpy_13.PNG)\n",
    "\n",
    "</div>\n",
    "\n",
    "<span style=\"font-size: 1.5rem;\">⭐&nbsp;&nbsp;</span>The reason numpy <strong>creates a view</strong> <u>instead of a new array</u> is that it doesn’t have to copy data therefore <strong>improving performance</strong>.\n",
    "\n",
    "<span style=\"font-size: 1.5rem;\">⭐&nbsp;&nbsp;</span>However, if you want a copy of an array rather than a view, you can use &nbsp;<code style=\"background-color: #f9dc10; color: red; padding:1px;\"> copy() </code>&nbsp; method. &nbsp;<span style=\"color: #a245ff;\">For example :</span>"
   ]
  },
  {
   "cell_type": "code",
   "execution_count": 152,
   "id": "da8b3bee-37b9-49fb-97a0-06b90ae1b1a3",
   "metadata": {},
   "outputs": [
    {
     "name": "stdout",
     "output_type": "stream",
     "text": [
      "[[1 2]\n",
      " [4 5]]\n"
     ]
    }
   ],
   "source": [
    "\n",
    "a = np.array([\n",
    "    [1, 2, 3],\n",
    "    [4, 5, 6]\n",
    "])\n",
    "\n",
    "b = a[0:, 0:2].copy()               # make a copy\n",
    "print(b)\n"
   ]
  },
  {
   "cell_type": "code",
   "execution_count": 153,
   "id": "7dd4d42c-6001-45d6-b8cb-9014d866fb26",
   "metadata": {},
   "outputs": [
    {
     "name": "stdout",
     "output_type": "stream",
     "text": [
      "[[0 2]\n",
      " [4 5]]\n"
     ]
    }
   ],
   "source": [
    "\n",
    "b[0, 0] = 0                         # the element at (0,0) in the array \"b\" is changed to 0\n",
    "print(b)\n"
   ]
  },
  {
   "cell_type": "code",
   "execution_count": 154,
   "id": "5134c1e9-380a-478d-8632-f3d7c29ccb3b",
   "metadata": {},
   "outputs": [
    {
     "name": "stdout",
     "output_type": "stream",
     "text": [
      "[[1 2 3]\n",
      " [4 5 6]]\n"
     ]
    }
   ],
   "source": [
    "\n",
    "print(a)                            # the change is not reflected in the array \"a\" \n"
   ]
  },
  {
   "cell_type": "markdown",
   "id": "20e827dc-1919-4e0d-b815-387b56471261",
   "metadata": {},
   "source": [
    "<br>\n",
    "\n",
    "<code style=\"color: #a245ff; background-color: white;\">As you can see - because both arrays are independent, the change doesn't affect array \"a\"</code>\n",
    "\n",
    "<br>\n",
    "\n",
    "<span style=\"color: #06fff0; font-size: 0.7rem;\">■■■■■■■■■■■■■■■■■■■■■■■■■■■■■■■■■■■■■■■■■■■■■■■■■■■■■■■■■■■■■■■■■■■■■■■■■■■■■■■■■■■■■■■■■■■■■■■■■■■■■■■■■■■■■■■</span>\n",
    "\n",
    "<br>\n",
    "\n",
    "<span style=\"font-size: 1rem;\">Differences between &nbsp;<code style=\"background-color: yellow;\">numpy.<span style=\"color: red;\">copy()</span></code>&nbsp; and &nbsp;<code style=\"background-color: yellow;\">numpy.<span style=\"color: red;\">copyto()</span></code></span>\n",
    "\n",
    "<br>\n",
    "\n",
    "<div style=\"margin-left: 80px;\">\n",
    "\n",
    "![](../media/numpy_36.PNG)\n",
    "\n",
    "</div>"
   ]
  },
  {
   "cell_type": "code",
   "execution_count": 100,
   "id": "23d7a04e-a2f7-46a3-9170-ca64b6e7f1c1",
   "metadata": {},
   "outputs": [
    {
     "name": "stdout",
     "output_type": "stream",
     "text": [
      "Original array: [1 2 3]\n",
      "Copied array: [99  2  3]\n"
     ]
    }
   ],
   "source": [
    "\n",
    "a = np.array([1, 2, 3])\n",
    "b = np.copy(a)\n",
    "b[0] = 99                                      # Modify 'b'', does not affect 'a'\n",
    "\n",
    "print(\"Original array:\", a)                    # OUTPUT :  [1   2  3]\n",
    "print(\"Copied array:\", b)                      # OUTPUT :  [99  2  3]\n"
   ]
  },
  {
   "cell_type": "code",
   "execution_count": 101,
   "id": "acadbb4e-8100-4cb7-a186-92d2b80218eb",
   "metadata": {},
   "outputs": [
    {
     "name": "stdout",
     "output_type": "stream",
     "text": [
      "Destination array after copy: [1 2 3]\n"
     ]
    }
   ],
   "source": [
    "\n",
    "a = np.array([1, 2, 3])\n",
    "b = np.array([0, 0, 0])\n",
    "\n",
    "np.copyto(b, a)                                # Copies elements of 'a' into 'b''\n",
    "print(\"Destination array after copy:\", b)      # OUTPUT :  [1 2 3]\n"
   ]
  },
  {
   "cell_type": "markdown",
   "id": "4713aed2-3673-456c-b1ae-e045306d0108",
   "metadata": {},
   "source": [
    "\n",
    "- Use &nbsp;<code style=\"background-color: yellow;\">numpy.<span style=\"color: red; font-size: 1rem;\"><strong>copy()</strong></span></code>&nbsp; when you need a separate copy of an array.\n",
    "  \n",
    "- Use &nbsp;<code style=\"background-color: yellow;\">numpy.<span style=\"color: red; font-size: 1rem;\"><strong>copyto()</strong></span></code>&nbsp; when you want to copy data into an existing array that already has allocated memory."
   ]
  },
  {
   "cell_type": "markdown",
   "id": "a062ff68-2c53-4c69-a1a5-9d5fcfc9898e",
   "metadata": {
    "jp-MarkdownHeadingCollapsed": true
   },
   "source": [
    "<br>\n",
    "\n",
    "### <div style=\"color: white; background-color: #af87ff; padding: 5px;\"> <code style=\"font-size: 1.2rem; background-color: #af87ff; color: white;\"><strong>Iteration over an Array</strong></code> </div>\n"
   ]
  },
  {
   "cell_type": "code",
   "execution_count": 3,
   "id": "5499f6d1-5d48-4b04-b2c2-902d2b4becc6",
   "metadata": {},
   "outputs": [
    {
     "name": "stdout",
     "output_type": "stream",
     "text": [
      "10\n",
      "20\n",
      "30\n",
      "40\n"
     ]
    }
   ],
   "source": [
    "\n",
    "# Iterating Over 1D Array\n",
    "\n",
    "arr = np.array([10, 20, 30, 40])\n",
    "\n",
    "for element in arr:\n",
    "    print(element)\n"
   ]
  },
  {
   "cell_type": "code",
   "execution_count": 4,
   "id": "6d2fdf5e-db9f-4364-ba45-9b4f85d73153",
   "metadata": {},
   "outputs": [
    {
     "name": "stdout",
     "output_type": "stream",
     "text": [
      "[1 2 3]\n",
      "[4 5 6]\n"
     ]
    }
   ],
   "source": [
    "\n",
    "# Iterating Over 2D Array\n",
    "\n",
    "arr_2d = np.array([[1, 2, 3], [4, 5, 6]])\n",
    "\n",
    "for row in arr_2d:\n",
    "    print(row)\n"
   ]
  },
  {
   "cell_type": "markdown",
   "id": "8f7a4e5f-366c-463a-9d22-db7350b873b0",
   "metadata": {},
   "source": [
    "<br>\n",
    "\n",
    "<span style=\"color: #06fff0; font-size: 0.7rem;\">■■■■■■■■■■■■■■■■■■■■■■■■■■■■■■■■■■■■■■■■■■■■■■■■■■■■■■■■■■■■■■■■■■■■■■■■■■■■■■■■■■■■■■■■■■■■■■■■■■■■■■■■■■■■■■■</span>\n"
   ]
  },
  {
   "cell_type": "markdown",
   "id": "aa809b12-189c-4d46-8ac9-af730e44a213",
   "metadata": {},
   "source": [
    "<br>\n",
    "\n",
    "<span style=\"font-size: 1.5rem;\">⭐&nbsp;&nbsp;</span><span style=\"color: black;\">To iterate over each element, you can use the &nbsp;<code style=\"background-color: yellow; padding:1px;\"> numpy.<span style=\"color: red; font-size: 1rem;\"><strong>flat()</strong></span> </code>&nbsp; attribute or nested loops.</span>\n"
   ]
  },
  {
   "cell_type": "code",
   "execution_count": 6,
   "id": "3756dd36-d8f1-4d24-9990-943f92f13ef5",
   "metadata": {},
   "outputs": [
    {
     "name": "stdout",
     "output_type": "stream",
     "text": [
      "1\n",
      "2\n",
      "3\n",
      "4\n",
      "5\n",
      "6\n"
     ]
    }
   ],
   "source": [
    "\n",
    "for element in arr_2d.flat:\n",
    "    print(element)\n"
   ]
  },
  {
   "cell_type": "markdown",
   "id": "d4ef6a0b-88d4-419a-9b98-d32d2fdd9556",
   "metadata": {},
   "source": [
    "<br>\n",
    "\n",
    "<span style=\"color: #06fff0; font-size: 0.7rem;\">■■■■■■■■■■■■■■■■■■■■■■■■■■■■■■■■■■■■■■■■■■■■■■■■■■■■■■■■■■■■■■■■■■■■■■■■■■■■■■■■■■■■■■■■■■■■■■■■■■■■■■■■■■■■■■■</span>\n"
   ]
  },
  {
   "cell_type": "markdown",
   "id": "b6967549-ef0a-451c-9b12-fb4f7695ff88",
   "metadata": {},
   "source": [
    "<br>\n",
    "\n",
    "<span style=\"font-size: 1.5rem;\">⭐&nbsp;&nbsp;</span><span style=\"color: black;\"><code style=\"background-color: yellow; padding:1px;\"> numpy.<span style=\"color: red; font-size: 1rem;\"><strong>nditer()</strong></span> </code>&nbsp; is an efficient iterator that works with <strong>multi-dimensional arrays</strong> and can iterate over every element regardless of the array's shape.</span>\n"
   ]
  },
  {
   "cell_type": "code",
   "execution_count": 7,
   "id": "1f2cb662-a293-456a-8e6f-6f2552a14219",
   "metadata": {},
   "outputs": [
    {
     "name": "stdout",
     "output_type": "stream",
     "text": [
      "1\n",
      "2\n",
      "3\n",
      "4\n",
      "5\n",
      "6\n"
     ]
    }
   ],
   "source": [
    "\n",
    "for element in np.nditer(arr_2d):\n",
    "    print(element)\n"
   ]
  },
  {
   "cell_type": "markdown",
   "id": "2050be2f-3abf-4243-9cb5-d9292b5bb330",
   "metadata": {},
   "source": [
    "<br>\n",
    "\n",
    "<span style=\"color: #a245ff;\"><strong>Modifying</strong> elements with &nbsp;<code>numpy.<span style=\"color: red;\">nditer()</span></code></span>"
   ]
  },
  {
   "cell_type": "code",
   "execution_count": 16,
   "id": "16f25631-29ec-4eb6-b121-4b15bee65a54",
   "metadata": {},
   "outputs": [
    {
     "name": "stdout",
     "output_type": "stream",
     "text": [
      "[[ 2  4  6  8]\n",
      " [10 12 14 16]]\n"
     ]
    }
   ],
   "source": [
    "\n",
    "arr_1d = np.array([1, 2, 3, 4])\n",
    "for x in np.nditer(arr_1d, op_flags=['readwrite']):\n",
    "    x[...] = x * 2\n",
    "print(arr)                                                    # OUTPUT: [2 4 6 8]\n"
   ]
  },
  {
   "cell_type": "code",
   "execution_count": 17,
   "id": "bf564c0f-cbae-4b70-a6e6-2f8f5cd9340d",
   "metadata": {},
   "outputs": [
    {
     "name": "stdout",
     "output_type": "stream",
     "text": [
      "[[ 2  4  6  8]\n",
      " [10 12 14 16]]\n"
     ]
    }
   ],
   "source": [
    "\n",
    "arr_2d = np.array([[1, 2, 3, 4], [5, 6, 7, 8]])\n",
    "for x in np.nditer(arr_2d, op_flags=['readwrite']):\n",
    "    x[...] = x * 2\n",
    "print(arr)                                                    # OUTPUT: [[2 4 6 8], [10, 12 14 16]\n"
   ]
  },
  {
   "cell_type": "markdown",
   "id": "f89a2899-4fb3-4bca-bd5c-63f257d93808",
   "metadata": {},
   "source": [
    "<br><br>\n",
    "\n",
    "## Aggregate &nbsp;Functions"
   ]
  },
  {
   "cell_type": "markdown",
   "id": "a4f5ed98-b09a-430e-9ca6-fa2744afd476",
   "metadata": {},
   "source": [
    "<br>\n",
    "\n",
    "The <strong>aggregate functions</strong> are basically <span>universal functions (popularly known as <span style=\"color: blue;\"><u>ufunc</u></span>) that performs element-wise operations on data in ndarrays and produce one or more scalar results.\n",
    "\n",
    "Many <u><span style=\"color: blue;\">ufuncs</span></u> are simple element-wise transformations, like &nbsp;<code style=\"background-color: #ffff2d;\">numpy.<span style=\"color:red; font-size: 1rem;\"><strong>sum()</strong></span></code>&nbsp; and &nbsp;<code style=\"background-color: #ffff2d;\">numpy.<span style=\"color:red; font-size: 1rem;\"><strong>sqrt()</strong></span></code>\n"
   ]
  },
  {
   "cell_type": "code",
   "execution_count": 56,
   "id": "8909e7f2-02e3-402a-acc0-c93400c2eede",
   "metadata": {},
   "outputs": [],
   "source": [
    "\n",
    "arr = np.arange(10)             # [0, 1, 2, 3, 4, 5, 6, 7, 8, 9]\n"
   ]
  },
  {
   "cell_type": "code",
   "execution_count": 58,
   "id": "8a36901a-16f4-442b-b704-c67d71bdb2ac",
   "metadata": {},
   "outputs": [
    {
     "data": {
      "text/plain": [
       "45"
      ]
     },
     "execution_count": 58,
     "metadata": {},
     "output_type": "execute_result"
    }
   ],
   "source": [
    "\n",
    "np.sum(arr)\n"
   ]
  },
  {
   "cell_type": "code",
   "execution_count": 59,
   "id": "f37d8793-f4d7-4316-af99-3ce5959f01a4",
   "metadata": {},
   "outputs": [
    {
     "data": {
      "text/plain": [
       "array([0.        , 1.        , 1.41421356, 1.73205081, 2.        ,\n",
       "       2.23606798, 2.44948974, 2.64575131, 2.82842712, 3.        ])"
      ]
     },
     "execution_count": 59,
     "metadata": {},
     "output_type": "execute_result"
    }
   ],
   "source": [
    "\n",
    "np.sqrt(arr)\n"
   ]
  },
  {
   "cell_type": "markdown",
   "id": "3e2ff62e-b05d-4f4f-87b7-10cb29124931",
   "metadata": {},
   "source": [
    "<br>\n",
    "\n",
    "<span style=\"color: #a245ff;\">These are referred to as <strong>unary ufuncs</strong>. &nbsp;Others, such as &nbsp;<code style=\"background-color: #ffff2d;\">numpy.<span style=\"color: red; font-size: 1rem;\"><strong>add()</strong></span></code>&nbsp; or &nbsp;<code style=\"background-color: #ffff2d;\">numpy.<span style=\"color: red; font-size: 1rem;\"><strong>maximum()</strong></span></code>&nbsp;, take two arrays (thus, <strong>binary ufuncs</strong>) and return a single array as the result :</span>\n"
   ]
  },
  {
   "cell_type": "code",
   "execution_count": 50,
   "id": "2affa7aa-737b-4301-bf11-172c23de587d",
   "metadata": {},
   "outputs": [],
   "source": [
    "\n",
    "x = np.array([2,  6,  10,  14,  18,  22,   26,   30])\n",
    "\n",
    "y = np.array([2,  4,   8,  16,  32,  64,  128,  512])\n"
   ]
  },
  {
   "cell_type": "code",
   "execution_count": 54,
   "id": "3c05dfa6-c7c2-4851-89d6-5b6aee14cb0f",
   "metadata": {},
   "outputs": [
    {
     "data": {
      "text/plain": [
       "array([  4,  10,  18,  30,  50,  86, 154, 542])"
      ]
     },
     "execution_count": 54,
     "metadata": {},
     "output_type": "execute_result"
    }
   ],
   "source": [
    "\n",
    "np.add(x, y)\n"
   ]
  },
  {
   "cell_type": "code",
   "execution_count": 52,
   "id": "41182f9d-0d95-4ad7-b445-8fdee88cfe9e",
   "metadata": {},
   "outputs": [
    {
     "data": {
      "text/plain": [
       "array([  2,   6,  10,  16,  32,  64, 128, 512])"
      ]
     },
     "execution_count": 52,
     "metadata": {},
     "output_type": "execute_result"
    }
   ],
   "source": [
    "\n",
    "np.maximum(x, y)\n"
   ]
  },
  {
   "cell_type": "markdown",
   "id": "df511e95-f023-4585-ba78-bf80bdb035c0",
   "metadata": {},
   "source": [
    "<br>\n",
    "\n",
    "<span style=\"color: #a245ff;\">Let's see some of these functions in details :</span>\n",
    "\n",
    "<br>"
   ]
  },
  {
   "cell_type": "markdown",
   "id": "829c8187-3ab5-4e04-a2b2-e74e26f96c6c",
   "metadata": {
    "jp-MarkdownHeadingCollapsed": true
   },
   "source": [
    "\n",
    "### <div style=\"color: white; background-color: #af87ff; padding: 5px;\"> <code style=\"font-size: 1.2rem; background-color: #af87ff; color: white;\"><strong>numpy.sum()</strong></code> </div>\n"
   ]
  },
  {
   "cell_type": "markdown",
   "id": "1d6cafb6-a48d-491f-92a8-9e3e190c53c0",
   "metadata": {},
   "source": [
    "<code style=\"background-color: yellow; padding: 6px;\">numpy.<span style=\"color: red;\"><span style=\"font-size: 1rem;\"><strong>sum(</strong></span><span style=\"color: black;\">arr</span>, <span style=\"color: black;\">axis</span><span style=\"color: #9b96a1;\">=None</span>, <span style=\"color: black;\">keepdims</span><span style=\"color: #9b96a1;\">=False</span>, <span style=\"color: black;\">where</span><span style=\"color: #9b96a1;\">=\\<no value></span><span style=\"font-size: 1rem;\"><strong>)</strong></span></code> &nbsp;&nbsp;&nbsp;&nbsp;====>&nbsp;&nbsp;&nbsp;&nbsp;takes an array and returns the sum of all elements of the array along a given axis.</span>\n",
    "\n",
    "<br>\n",
    "\n",
    "<code style=\"color: white; background-color: black;\">Example - 1</code> &nbsp;&nbsp;<span style=\"color: #2fbd0b;\">1D array</span>"
   ]
  },
  {
   "cell_type": "code",
   "execution_count": 62,
   "id": "7366f9e7-de71-470f-8d4f-a829a6de77b9",
   "metadata": {},
   "outputs": [
    {
     "name": "stdout",
     "output_type": "stream",
     "text": [
      "6\n"
     ]
    }
   ],
   "source": [
    "\n",
    "a = np.array([1, 2, 3])\n",
    "total = np.sum(a)                      # axis = None   ----->    sum of all the elements in the array\n",
    "print(total)\n"
   ]
  },
  {
   "cell_type": "markdown",
   "id": "3b22eb5a-a6ec-4876-89e3-72cb450b0aaf",
   "metadata": {},
   "source": [
    "<br>\n",
    "\n",
    "Use the axis argument to specify the axis that you want to sum up.\n",
    "\n",
    "<code style=\"color: white; background-color: black;\">Example - 2</code> &nbsp;&nbsp;<span style=\"color: #2fbd0b;\">2D array</span>\n",
    "\n",
    "<u><span style=\"color: #a245ff;\">Case-1 :</span></u> &nbsp;&nbsp;<span style=\"color: red;\">axis = None</span> &nbsp;<span style=\"color: blue;\">(default)</span>"
   ]
  },
  {
   "cell_type": "code",
   "execution_count": 65,
   "id": "65eede50-5cc1-4685-a788-1c4d1d52e5dc",
   "metadata": {},
   "outputs": [
    {
     "name": "stdout",
     "output_type": "stream",
     "text": [
      "21\n"
     ]
    }
   ],
   "source": [
    "\n",
    "a = np.array([\n",
    "    [1, 2, 3],\n",
    "    [4, 5, 6]\n",
    "])\n",
    "\n",
    "total = np.sum(a, axis=None)           # sum of all the elements in the array\n",
    "print(total)\n"
   ]
  },
  {
   "cell_type": "markdown",
   "id": "d9cb7ed1-1a1a-4c10-a074-cb66a86afa2c",
   "metadata": {},
   "source": [
    "\n",
    "<u><span style=\"color: #a245ff;\">Case-2 :</span></u> &nbsp;&nbsp;<span style=\"color: red;\">axis = 0</span>"
   ]
  },
  {
   "cell_type": "code",
   "execution_count": 3,
   "id": "756f6635-1047-4163-9dbb-5ce6d53f1395",
   "metadata": {},
   "outputs": [
    {
     "name": "stdout",
     "output_type": "stream",
     "text": [
      "[5 7 9]\n"
     ]
    }
   ],
   "source": [
    "\n",
    "a = np.array([\n",
    "    [1, 2, 3],\n",
    "    [4, 5, 6]\n",
    "])\n",
    "\n",
    "total = np.sum(a, axis=0)              # sum of all elemnts for each column\n",
    "print(total)\n"
   ]
  },
  {
   "cell_type": "markdown",
   "id": "b5770503-ebc9-4746-b150-75c33bfcb299",
   "metadata": {},
   "source": [
    "<div style=\"margin-left: 90px;\">\n",
    "\n",
    "![](../media/numpy_14.PNG)\n",
    "\n",
    "</div>"
   ]
  },
  {
   "cell_type": "markdown",
   "id": "df1a0d50-7257-410f-885c-79d1e105c7f6",
   "metadata": {},
   "source": [
    "\n",
    "<u><span style=\"color: #a245ff;\">Case-3 :</span></u> &nbsp;&nbsp;<span style=\"color: red;\">axis = 1</span>"
   ]
  },
  {
   "cell_type": "code",
   "execution_count": 21,
   "id": "0ab9bdbf-87b0-4f8f-81d3-0ab2cb56395d",
   "metadata": {},
   "outputs": [
    {
     "name": "stdout",
     "output_type": "stream",
     "text": [
      "[ 6 15]\n"
     ]
    }
   ],
   "source": [
    "\n",
    "a = np.array([\n",
    "    [1, 2, 3],\n",
    "    [4, 5, 6]\n",
    "])\n",
    "\n",
    "total = np.sum(a, axis=1)              # sum of all elemnts for each row\n",
    "print(total)\n"
   ]
  },
  {
   "cell_type": "markdown",
   "id": "994931dc-b061-4953-83f9-93e60f76f324",
   "metadata": {},
   "source": [
    "<div style=\"margin-left: 80px;\">\n",
    "\n",
    "![](../media/numpy_15.PNG)\n",
    "\n",
    "</div>\n",
    "\n",
    "<u><span style=\"color: #a245ff;\">Case-4 :</span></u> &nbsp;&nbsp;<span style=\"color: red;\">axis = (0, 1)</span> &nbsp;<span style=\"color: blue;\">(sum of array along multiple axes)</span>"
   ]
  },
  {
   "cell_type": "code",
   "execution_count": 48,
   "id": "96cf5906-5cfb-403f-b0b1-b630c3f1e354",
   "metadata": {},
   "outputs": [
    {
     "name": "stdout",
     "output_type": "stream",
     "text": [
      "21\n"
     ]
    }
   ],
   "source": [
    "\n",
    "a = np.array([\n",
    "    [1, 2, 3],\n",
    "    [4, 5, 6]\n",
    "])\n",
    "\n",
    "total = np.sum(a, axis=(0,1))              # sum of all elemnts of array along first and second axes\n",
    "print(total)\n"
   ]
  },
  {
   "cell_type": "markdown",
   "id": "b7bda3dd-4315-4ea1-8a45-402682dab331",
   "metadata": {},
   "source": [
    "<div style=\"margin-left: 90px;\">\n",
    "\n",
    "![](../media/numpy_16.PNG)\n",
    "\n",
    "</div>\n",
    "\n",
    "<span style=\"font-size: 1.5rem;\">⭐&nbsp;&nbsp;</span>Note that while finding the sum along given axis, it <strong>does not matter</strong> whether the axis passed in the parameter is <span style=\"color: red;\">(0, 1)</span> or <span style=\"color: red;\">(1, 0)</span>"
   ]
  },
  {
   "cell_type": "code",
   "execution_count": 85,
   "id": "9e983631-015a-49c5-be9a-5054f5fed8cb",
   "metadata": {},
   "outputs": [
    {
     "name": "stdout",
     "output_type": "stream",
     "text": [
      "21\n"
     ]
    }
   ],
   "source": [
    "\n",
    "a = np.array([\n",
    "    [1, 2, 3],\n",
    "    [4, 5, 6]\n",
    "])\n",
    "\n",
    "total = np.sum(a, axis=(1,0))                  # sum of all the elemnts of array along first and second axes\n",
    "print(total)\n"
   ]
  },
  {
   "cell_type": "markdown",
   "id": "7aa15e91-f939-416c-9c44-f51b3d976e99",
   "metadata": {},
   "source": [
    "<br>\n",
    "\n",
    "<code style=\"color: white; background-color: black;\">Example - 3</code> &nbsp;&nbsp;<span style=\"color: #2fbd0b;\">3D array</span>\n",
    "\n",
    "<u><span style=\"color: #a245ff;\">Case-1 :</span></u> &nbsp;&nbsp;<span style=\"color: red;\">axis = None</span> &nbsp;<span style=\"color: blue;\">(default)</span>"
   ]
  },
  {
   "cell_type": "code",
   "execution_count": 71,
   "id": "b508d598-8a6f-40dc-bf5c-2fc5c9e423cd",
   "metadata": {},
   "outputs": [
    {
     "name": "stdout",
     "output_type": "stream",
     "text": [
      "78\n"
     ]
    }
   ],
   "source": [
    "\n",
    "array = np.array([[[1, 2, 3], \n",
    "                   [4, 5, 6]], \n",
    "                  [[7, 8, 9], \n",
    "                   [10, 11, 12]]])\n",
    "\n",
    "\n",
    "total = np.sum(array, axis=None)               # finds the sum of all the elements of the array\n",
    "\n",
    "print(total)\n"
   ]
  },
  {
   "cell_type": "markdown",
   "id": "45667ed4-20c2-4505-b67f-3e05ed423396",
   "metadata": {},
   "source": [
    "\n",
    "<u><span style=\"color: #a245ff;\">Case-2 :</span></u> &nbsp;&nbsp;<span style=\"color: red;\">axis = 0</span>"
   ]
  },
  {
   "cell_type": "code",
   "execution_count": 60,
   "id": "caeed7a5-ac25-458f-9e93-714d3409c132",
   "metadata": {},
   "outputs": [
    {
     "name": "stdout",
     "output_type": "stream",
     "text": [
      "[[ 8 10 12]\n",
      " [14 16 18]]\n"
     ]
    }
   ],
   "source": [
    " \n",
    "array = np.array([[[1, 2, 3], \n",
    "                   [4, 5, 6]], \n",
    "                  [[7, 8, 9], \n",
    "                   [10, 11, 12]]])\n",
    "\n",
    "total = np.sum(array, axis=0)                  # finds the total value of the array along the axis = 0\n",
    "\n",
    "# Print the minimum value.\n",
    "print(total)\n"
   ]
  },
  {
   "cell_type": "markdown",
   "id": "deb1e5fd-e567-40e9-88a9-196369c0282b",
   "metadata": {},
   "source": [
    "<div style=\"margin-left: 90px;\">\n",
    "\n",
    "![](../media/numpy_17.PNG)\n",
    "\n",
    "</div>"
   ]
  },
  {
   "cell_type": "markdown",
   "id": "c2c2d69d-cd2d-48d4-9519-66ecdb7c2f42",
   "metadata": {},
   "source": [
    "\n",
    "<u><span style=\"color: #a245ff;\">Case-3 :</span></u> &nbsp;&nbsp;<span style=\"color: red;\">axis = 1</span>"
   ]
  },
  {
   "cell_type": "code",
   "execution_count": 43,
   "id": "0a2a455a-facf-41e0-9f81-3bb81c9039ea",
   "metadata": {},
   "outputs": [
    {
     "name": "stdout",
     "output_type": "stream",
     "text": [
      "[[ 5  7  9]\n",
      " [17 19 21]]\n"
     ]
    }
   ],
   "source": [
    "\n",
    "array = np.array([[[1, 2, 3], \n",
    "                   [4, 5, 6]], \n",
    "                  [[7, 8, 9], \n",
    "                   [10, 11, 12]]])\n",
    "\n",
    "total = np.sum(array, axis=1)                  # finds the total value of the array along the axis = 1\n",
    "\n",
    "print(total)\n"
   ]
  },
  {
   "cell_type": "markdown",
   "id": "7146c5d6-576d-4b47-8fc5-5ad530865ecf",
   "metadata": {},
   "source": [
    "<div style=\"margin-left: 90px;\">\n",
    "\n",
    "![](../media/numpy_18.PNG)\n",
    "\n",
    "</div>"
   ]
  },
  {
   "cell_type": "markdown",
   "id": "3b6cff99-85a1-4ae9-9440-311db0bf8dd5",
   "metadata": {},
   "source": [
    "\n",
    "<u><span style=\"color: #a245ff;\">Case-4 :</span></u> &nbsp;&nbsp;<span style=\"color: red;\">axis = 2</span>"
   ]
  },
  {
   "cell_type": "code",
   "execution_count": 87,
   "id": "30cca47f-37b5-4ea8-baff-4c0415989ff6",
   "metadata": {},
   "outputs": [
    {
     "name": "stdout",
     "output_type": "stream",
     "text": [
      "[[ 6 15]\n",
      " [24 33]]\n"
     ]
    }
   ],
   "source": [
    "\n",
    "array = np.array([[[1, 2, 3], \n",
    "                   [4, 5, 6]], \n",
    "                  [[7, 8, 9], \n",
    "                   [10, 11, 12]]])\n",
    "\n",
    "total = np.sum(array, axis=2)                  # finds the total value of the array along the axis = 2\n",
    "\n",
    "# Print the minimum value.\n",
    "print(total)\n"
   ]
  },
  {
   "cell_type": "markdown",
   "id": "2200153f-a5ee-490f-85fd-6378d98eb898",
   "metadata": {},
   "source": [
    "<div style=\"margin-left: 90px;\">\n",
    "\n",
    "![](../media/numpy_19.PNG)\n",
    "\n",
    "</div>"
   ]
  },
  {
   "cell_type": "markdown",
   "id": "69edd0c5-04af-40d2-a9e5-1f27b87fbcc3",
   "metadata": {},
   "source": [
    "\n",
    "<u><span style=\"color: #a245ff;\">Case-5A :</span></u> &nbsp;&nbsp;<span style=\"color: red;\">axis = (0, 1)</span>"
   ]
  },
  {
   "cell_type": "code",
   "execution_count": 55,
   "id": "4e5c1744-f1b3-493c-9a3c-846b13dcc222",
   "metadata": {},
   "outputs": [
    {
     "name": "stdout",
     "output_type": "stream",
     "text": [
      "[22 26 30]\n"
     ]
    }
   ],
   "source": [
    "\n",
    "array = np.array([[[1, 2, 3], \n",
    "                   [4, 5, 6]], \n",
    "                  [[7, 8, 9], \n",
    "                   [10, 11, 12]]])\n",
    "\n",
    "total = np.sum(array, axis=(0,1))              # finds the minimum value of the array along the first and second axes\n",
    "\n",
    "print(total)\n"
   ]
  },
  {
   "cell_type": "markdown",
   "id": "5b732c6a-447a-4a66-97d2-9b83316a34b8",
   "metadata": {},
   "source": [
    "<div style=\"margin-left: 90px;\">\n",
    "\n",
    "![](../media/numpy_20A.PNG)\n",
    "\n",
    "</div>"
   ]
  },
  {
   "cell_type": "markdown",
   "id": "23b6b4e8-c190-4c1d-9ef1-fa90c66a8dac",
   "metadata": {},
   "source": [
    "\n",
    "<u><span style=\"color: #a245ff;\">Case-5B :</span></u> &nbsp;&nbsp;<span style=\"color: red;\">axis = (1, 0)</span>"
   ]
  },
  {
   "cell_type": "code",
   "execution_count": 75,
   "id": "3d61c04d-b3bf-4449-b857-4dc6f03cdca1",
   "metadata": {},
   "outputs": [
    {
     "name": "stdout",
     "output_type": "stream",
     "text": [
      "[22 26 30]\n"
     ]
    }
   ],
   "source": [
    "\n",
    "array = np.array([[[1, 2, 3], \n",
    "                   [4, 5, 6]], \n",
    "                  [[7, 8, 9], \n",
    "                   [10, 11, 12]]])\n",
    "\n",
    "total = np.sum(array, axis=(1,0))              # finds the minimum value of the array along the first and second axes\n",
    "\n",
    "print(total)\n"
   ]
  },
  {
   "cell_type": "markdown",
   "id": "5bbbf0cd-90ec-455c-8e5c-98b27b0d9330",
   "metadata": {},
   "source": [
    "<div style=\"margin-left: 85px;\">\n",
    "\n",
    "![](../media/numpy_20B.PNG)\n",
    "\n",
    "</div>"
   ]
  },
  {
   "cell_type": "markdown",
   "id": "a25bf14c-c056-46ad-8bb2-4d96268f5b81",
   "metadata": {},
   "source": [
    "\n",
    "<u><span style=\"color: #a245ff;\">Case-6 :</span></u> &nbsp;&nbsp;<span style=\"color: red;\">axis = (0, 2)</span>"
   ]
  },
  {
   "cell_type": "code",
   "execution_count": 72,
   "id": "c83fcd90-304e-44b1-912e-6a71889627a0",
   "metadata": {},
   "outputs": [
    {
     "name": "stdout",
     "output_type": "stream",
     "text": [
      "[30 48]\n"
     ]
    }
   ],
   "source": [
    "\n",
    "array = np.array([[[1, 2, 3], \n",
    "                   [4, 5, 6]], \n",
    "                  [[7, 8, 9], \n",
    "                   [10, 11, 12]]])\n",
    "\n",
    "total = np.sum(array, axis=(0, 2))             # finds the minimum value of the array along the first and third axes\n",
    "\n",
    "print(total)\n"
   ]
  },
  {
   "cell_type": "markdown",
   "id": "5820973a-9f03-4464-8822-f10a7e5a3491",
   "metadata": {},
   "source": [
    "<div style=\"margin-left: 85px;\">\n",
    "\n",
    "![](../media/numpy_21.PNG)\n",
    "\n",
    "</div>"
   ]
  },
  {
   "cell_type": "markdown",
   "id": "ddd16151-6e1e-47d0-b8ce-40a6a27b1f94",
   "metadata": {},
   "source": [
    "\n",
    "<u><span style=\"color: #a245ff;\">Case-7 :</span></u> &nbsp;&nbsp;<span style=\"color: red;\">axis = (1, 2)</span>"
   ]
  },
  {
   "cell_type": "code",
   "execution_count": 57,
   "id": "1172d9ad-b986-4e08-aa07-0cb43f0e9c8e",
   "metadata": {},
   "outputs": [
    {
     "name": "stdout",
     "output_type": "stream",
     "text": [
      "[21 57]\n"
     ]
    }
   ],
   "source": [
    "\n",
    "array = np.array([[[1, 2, 3], \n",
    "                   [4, 5, 6]], \n",
    "                  [[7, 8, 9], \n",
    "                   [10, 11, 12]]])\n",
    "\n",
    "total = np.sum(array, axis=(1, 2))             # finds the minimum value of the array along the second and third axes\n",
    "\n",
    "print(total)\n"
   ]
  },
  {
   "cell_type": "markdown",
   "id": "ea687edc-bf30-4f83-a7ba-8271ee03f0b5",
   "metadata": {},
   "source": [
    "<div style=\"margin-left: 90px;\">\n",
    "\n",
    "![](../media/numpy_22.PNG)\n",
    "\n",
    "</div>"
   ]
  },
  {
   "cell_type": "markdown",
   "id": "bbd1df70-f69a-4248-811d-0f9b638d6e40",
   "metadata": {},
   "source": [
    "<br>\n",
    "\n",
    "<code style=\"color: white; background-color: black;\">Example - 4</code> &nbsp;&nbsp;<span style=\"color: #2fbd0b;\">Selecting numbers to include in the sum</span>\n",
    "\n",
    "To select specific number to include in the sum, you use the <span style=\"color: red;\">where</span> argument."
   ]
  },
  {
   "cell_type": "code",
   "execution_count": 82,
   "id": "33b311d7-93e7-46ba-989a-5264b543559d",
   "metadata": {},
   "outputs": [
    {
     "name": "stdout",
     "output_type": "stream",
     "text": [
      "7.0\n"
     ]
    }
   ],
   "source": [
    "\n",
    "# 1D array\n",
    "\n",
    "a = np.array([np.nan, 3, 4])                          # \"NaN\" stands for \"Not a Number\" and is used to represent undefined or missing values in datasets\n",
    "total = np.sum(a, where=[False, True, True])          # \"NaN\" = 0 while calculating SUM\n",
    "print(total)\n"
   ]
  },
  {
   "cell_type": "code",
   "execution_count": 84,
   "id": "9a4ab404-f5ed-4bc5-86a7-6e0348cb1810",
   "metadata": {},
   "outputs": [
    {
     "name": "stdout",
     "output_type": "stream",
     "text": [
      "[3. 6.]\n"
     ]
    }
   ],
   "source": [
    "\n",
    "# 2D array\n",
    "\n",
    "a = np.array([\n",
    "    [np.nan, 2],\n",
    "    [3, 4]\n",
    "])\n",
    "total = np.sum(a, axis=0, where=[[False, True], [True, True]])           # \"NaN\" = 0 while calculating SUM\n",
    "print(total)\n"
   ]
  },
  {
   "cell_type": "markdown",
   "id": "2e3279b6-96f3-41cb-acd2-3588c9982b8e",
   "metadata": {},
   "source": [
    "<br>\n",
    "\n",
    "<span style=\"font-size: 1.5rem;\">⭐</span> &nbsp;<strong>NaN</strong> stands for <strong>Not a Number</strong> and is used <span style=\"color: red;\">to represent undefined or missing values in datasets.</span> &nbsp;It is a special floating-point value defined by the IEEE 754 standard.\n",
    "\n",
    "<span style=\"font-size: 1.5rem;\">⭐</span> &nbsp;<strong>NaN</strong> = 0 &nbsp;while calculating SUM.\n",
    "\n",
    "<div style=\"display: flex;\">\n",
    "<div><span style=\"font-size: 1.5rem;\">⭐&nbsp;&nbsp;</span></div>\n",
    "<div>The where argument uses a boolean list to specify which element in the array a should be included in the sum. <br>If the value of the &nbsp;<code style=\"background-color: #e8daef;\">where</code>&nbsp; list is &nbsp;<code style=\"background-color: #e8daef;\">True</code>, the corresponding element of the input array will be included in the sum.</div>\n",
    "</div>\n",
    "\n",
    "<span style=\"font-size: 1.5rem;\">⭐</span> &nbsp;The <code style=\"background-color: yellow;\">sum()</code> function returns 0 if the array is empty. &nbsp;<span style=\"color: #a245ff;\">For example :</span>"
   ]
  },
  {
   "cell_type": "code",
   "execution_count": 89,
   "id": "e622f1c2-6f30-4ca3-9c9b-2c5eb5e329d9",
   "metadata": {},
   "outputs": [
    {
     "name": "stdout",
     "output_type": "stream",
     "text": [
      "result=0.0\n"
     ]
    }
   ],
   "source": [
    "\n",
    "result = np.sum(np.array([]))\n",
    "\n",
    "print(f'result={result}')\n"
   ]
  },
  {
   "cell_type": "markdown",
   "id": "340dd9ed-86e9-40e2-b9eb-30f778ac32ce",
   "metadata": {},
   "source": [
    "<br>\n",
    "\n",
    "<code style=\"color: white; background-color: black;\">Example - 5</code> &nbsp;&nbsp;<span style=\"color: #2fbd0b;\"><strong>Normalize</strong> the array along it's rows</span>\n"
   ]
  },
  {
   "cell_type": "code",
   "execution_count": 45,
   "id": "90f7def1-ed09-4702-9352-910903a28e4b",
   "metadata": {},
   "outputs": [
    {
     "name": "stdout",
     "output_type": "stream",
     "text": [
      "[[0.16666667 0.33333333 0.5       ]\n",
      " [0.         0.4        0.6       ]\n",
      " [0.29166667 0.33333333 0.375     ]]\n"
     ]
    }
   ],
   "source": [
    "\n",
    "arr =  np.array([[1, 2, 3],\n",
    "                 [0, 4, 6],\n",
    "                 [7, 8, 9]])\n",
    "\n",
    "\n",
    "normalized_arr = arr / np.sum(arr, axis=1, keepdims=True)\n",
    "print(normalized_arr)\n"
   ]
  },
  {
   "cell_type": "markdown",
   "id": "88392b6a-cad7-431f-83df-546b13f1aa6a",
   "metadata": {},
   "source": [
    "<br>\n",
    "\n",
    "<div style=\"display: flex\">\n",
    "\n",
    "<div><span style=\"font-size: 1.5rem;\">⭐</span>&nbsp;&nbsp;&nbsp;&nbsp;</div>\n",
    "\n",
    "<div><span style=\"color: #a245ff;\">Preserving dimensions using &nbsp;<code style=\"background-color: #f9e9ff; color: black;\">keepdims=True</code>&nbsp; is especially useful when combining the result with the original array, or in other words &nbsp;-&nbsp; <strong>when you want the result to align with the original array shape</strong>.\n",
    "<br>This is particularly important in <strong>broadcasting</strong> or when performing subsequent operations that require consistent dimensionality.</span></div>\n",
    "\n",
    "</div>\n"
   ]
  },
  {
   "cell_type": "markdown",
   "id": "4fe7626f-f92a-4b9d-9e11-c54e527c4964",
   "metadata": {
    "jp-MarkdownHeadingCollapsed": true
   },
   "source": [
    "<br>\n",
    "\n",
    "### <div style=\"color: white; background-color: #af87ff; padding: 5px;\"> <code style=\"font-size: 1.2rem; background-color: #af87ff; color: white;\"><strong>numpy.cumsum()</strong></code> </div>\n"
   ]
  },
  {
   "cell_type": "markdown",
   "id": "b31da164-a924-4e0f-8905-0806b51231e7",
   "metadata": {},
   "source": [
    "<code style=\"background-color: yellow; padding: 6px;\">numpy.<span style=\"color: red;\"><span style=\"font-size: 1rem;\"><strong>cumsum(</strong></span><span style=\"color: black;\">arr</span>, <span style=\"color: black;\">axis</span><span style=\"color: #9b96a1;\">=None</span>, <span style=\"color: black;\">where</span><span style=\"color: #9b96a1;\">=\\<no value></span><span style=\"font-size: 1rem;\"><strong>)</strong></span></code> &nbsp;&nbsp;&nbsp;&nbsp;====>&nbsp;&nbsp;&nbsp;&nbsp;takes an array and returns the cumulative sum of the elements along a given axis. (<u>None</u>, be default)</span>\n",
    "\n",
    "<br>\n",
    "\n",
    "<code style=\"color: white; background-color: black;\">Example - 1</code> &nbsp;&nbsp;<span style=\"color: #2fbd0b;\">1D array</span>"
   ]
  },
  {
   "cell_type": "code",
   "execution_count": 28,
   "id": "d04b2e70-38ac-4e12-b469-8edcdb56139f",
   "metadata": {},
   "outputs": [
    {
     "name": "stdout",
     "output_type": "stream",
     "text": [
      "[1 3 6]\n"
     ]
    }
   ],
   "source": [
    "\n",
    "a = np.array([1, 2, 3])\n",
    "cumulative_total = np.cumsum(a)                        # cumulative of all the elements in the array\n",
    "print(cumulative_total)\n"
   ]
  },
  {
   "cell_type": "markdown",
   "id": "e93c938d-578d-4e85-bed7-51441d1abf93",
   "metadata": {},
   "source": [
    "<br>\n",
    "\n",
    "<code style=\"color: white; background-color: black;\">Example - 2</code> &nbsp;&nbsp;<span style=\"color: #2fbd0b;\">2D array</span>\n",
    "\n",
    "<u><span style=\"color: #a245ff;\">Case-1 :</span></u> &nbsp;&nbsp;<span style=\"color: red;\">axis = None</span> &nbsp;<span style=\"color: blue;\">(default)</span>"
   ]
  },
  {
   "cell_type": "code",
   "execution_count": 30,
   "id": "beda629f-84d7-4c98-bdff-67a7fa88263a",
   "metadata": {},
   "outputs": [
    {
     "name": "stdout",
     "output_type": "stream",
     "text": [
      "[ 1  3  6 10 15 21]\n"
     ]
    }
   ],
   "source": [
    "\n",
    "a = np.array([\n",
    "    [1, 2, 3],\n",
    "    [4, 5, 6]\n",
    "])\n",
    "cumulative_total = np.cumsum(a, axis=None)\n",
    "print(cumulative_total)\n"
   ]
  },
  {
   "cell_type": "markdown",
   "id": "42513d27-64bc-4bd3-aae1-47ef9224755f",
   "metadata": {},
   "source": [
    "<u><span style=\"color: #a245ff;\">Case-2 :</span></u> &nbsp;&nbsp;<span style=\"color: red;\">axis = 0</span>"
   ]
  },
  {
   "cell_type": "code",
   "execution_count": 35,
   "id": "f35bd86f-e975-43bb-b8df-211920dcf7e2",
   "metadata": {},
   "outputs": [
    {
     "name": "stdout",
     "output_type": "stream",
     "text": [
      "[[1 2 3]\n",
      " [5 7 9]]\n"
     ]
    }
   ],
   "source": [
    "\n",
    "a = np.array([\n",
    "    [1, 2, 3],\n",
    "    [4, 5, 6]\n",
    "])\n",
    "cumulative_total = np.cumsum(a, axis=0)\n",
    "print(cumulative_total)\n"
   ]
  },
  {
   "cell_type": "markdown",
   "id": "41415af7-70f9-44a2-bd7e-ea38fcf401c3",
   "metadata": {},
   "source": [
    "<u><span style=\"color: #a245ff;\">Case-3 :</span></u> &nbsp;&nbsp;<span style=\"color: red;\">axis = 1</span>"
   ]
  },
  {
   "cell_type": "code",
   "execution_count": 36,
   "id": "0b0b852f-f9e8-44e8-8480-6826b7dfb344",
   "metadata": {},
   "outputs": [
    {
     "name": "stdout",
     "output_type": "stream",
     "text": [
      "[[ 1  3  6]\n",
      " [ 4  9 15]]\n"
     ]
    }
   ],
   "source": [
    "\n",
    "a = np.array([\n",
    "    [1, 2, 3],\n",
    "    [4, 5, 6]\n",
    "])\n",
    "cumulative_total = np.cumsum(a, axis=1)\n",
    "print(cumulative_total)\n"
   ]
  },
  {
   "cell_type": "markdown",
   "id": "881edb09-676b-435b-ba6c-92aedb704d50",
   "metadata": {},
   "source": [
    "<br>\n",
    "\n",
    "Similarly there is &nbsp;<code style=\"color: black; background-color: #ffff2d;\">numpy.<span style=\"color: red; font-size: 1rem;\"><strong>cumprod()</strong></span></code>&nbsp; method as well."
   ]
  },
  {
   "cell_type": "code",
   "execution_count": null,
   "id": "a7285b4c-c9d2-475a-8639-389fffa60a31",
   "metadata": {},
   "outputs": [],
   "source": []
  },
  {
   "cell_type": "markdown",
   "id": "443dbe4e-bbf7-49a1-92b9-44e4eb9edc1b",
   "metadata": {},
   "source": [
    "<br>\n",
    "\n",
    "### <div style=\"color: white; background-color: #af87ff; padding: 5px;\"> <code style=\"font-size: 1.2rem; background-color: #af87ff; color: white;\"><strong>numpy.mean()</strong></code> </div>\n"
   ]
  },
  {
   "cell_type": "markdown",
   "id": "b27247c9-c96e-4586-b349-a69ea4a77a96",
   "metadata": {},
   "source": [
    "<code style=\"background-color: yellow; padding: 6px;\">numpy.<span style=\"color: red;\"><span style=\"font-size: 1rem;\"><strong>mean(</strong></span><span style=\"color: black;\">arr</span>, <span style=\"color: black;\">axis</span><span style=\"color: #9b96a1;\">=None</span>, <span style=\"color: black;\">where</span><span style=\"color: #9b96a1;\">=\\<no value></span><span style=\"font-size: 1rem;\"><strong>)</strong></span></code> &nbsp;&nbsp;&nbsp;&nbsp;====>&nbsp;&nbsp;&nbsp;&nbsp;takes an array and returns the average of all elements of the array.</span>\n",
    "\n",
    "<br>\n",
    "\n",
    "<code style=\"color: white; background-color: black;\">Example - 1</code> &nbsp;&nbsp;<span style=\"color: #2fbd0b;\">1D array</span>\n"
   ]
  },
  {
   "cell_type": "code",
   "execution_count": 8,
   "id": "bef58870-9b2d-4283-80b5-5f2df3a6d802",
   "metadata": {},
   "outputs": [
    {
     "name": "stdout",
     "output_type": "stream",
     "text": [
      "2.0\n"
     ]
    }
   ],
   "source": [
    "\n",
    "a = np.array([1, 2, 3])\n",
    "average = np.mean(a)\n",
    "print(average)\n"
   ]
  },
  {
   "cell_type": "markdown",
   "id": "553d6a8b-5e45-4f99-a526-0f48368e8d0f",
   "metadata": {},
   "source": [
    "<br>\n",
    "\n",
    "<code style=\"color: white; background-color: black;\">Example - 2</code> &nbsp;&nbsp;<span style=\"color: #2fbd0b;\">2D array</span>\n",
    "\n",
    "<u><span style=\"color: #a245ff;\">Case-1 :</span></u> &nbsp;&nbsp;<span style=\"color: red;\">axis = None</span> &nbsp;<span style=\"color: blue;\">(default)</span>"
   ]
  },
  {
   "cell_type": "code",
   "execution_count": 40,
   "id": "2bad24f9-eb6b-48d3-a2b1-59c90eeba8b6",
   "metadata": {},
   "outputs": [
    {
     "name": "stdout",
     "output_type": "stream",
     "text": [
      "3.5\n"
     ]
    }
   ],
   "source": [
    "\n",
    "a = np.array([\n",
    "    [1, 2, 3],\n",
    "    [4, 5, 6]\n",
    "])\n",
    "average = np.mean(a, axis=None)\n",
    "print(average)\n"
   ]
  },
  {
   "cell_type": "markdown",
   "id": "acbcd9d8-41b8-42ad-b06d-42865a8f6d6d",
   "metadata": {},
   "source": [
    "<u><span style=\"color: #a245ff;\">Case-2 :</span></u> &nbsp;&nbsp;<span style=\"color: red;\">axis = 0</span>"
   ]
  },
  {
   "cell_type": "code",
   "execution_count": 32,
   "id": "98460f22-629c-4dac-9803-042110647f36",
   "metadata": {},
   "outputs": [
    {
     "name": "stdout",
     "output_type": "stream",
     "text": [
      "[2.5 3.5 4.5]\n"
     ]
    }
   ],
   "source": [
    "\n",
    "a = np.array([\n",
    "    [1, 2, 3],\n",
    "    [4, 5, 6]\n",
    "])\n",
    "average = np.mean(a, axis=0)\n",
    "print(average)\n"
   ]
  },
  {
   "cell_type": "markdown",
   "id": "08d6a3c8-6050-4bd0-9643-e3d2ba5e6019",
   "metadata": {},
   "source": [
    "<div style=\"margin-left: 100px;\">\n",
    "\n",
    "![](../media/numpy_23.PNG)\n",
    "\n",
    "</div>\n",
    "\n",
    "<u><span style=\"color: #a245ff;\">Case-3 :</span></u> &nbsp;&nbsp;<span style=\"color: red;\">axis = 1</span>"
   ]
  },
  {
   "cell_type": "code",
   "execution_count": 16,
   "id": "ae9905cb-62ec-48cd-9b7a-1bca296cf68a",
   "metadata": {},
   "outputs": [
    {
     "name": "stdout",
     "output_type": "stream",
     "text": [
      "[2. 5.]\n"
     ]
    }
   ],
   "source": [
    "\n",
    "a = np.array([\n",
    "    [1, 2, 3],\n",
    "    [4, 5, 6]\n",
    "])\n",
    "average = np.mean(a, axis=1)\n",
    "print(average)\n"
   ]
  },
  {
   "cell_type": "markdown",
   "id": "bcd28bf2-1099-4c18-93a9-0def7dac332c",
   "metadata": {},
   "source": [
    "<div style=\"margin-left: 90px;\">\n",
    "\n",
    "![](../media/numpy_24.PNG)\n",
    "\n",
    "</div>\n",
    "\n",
    "<span style=\"color: #06fff0; font-size: 0.7rem;\">■■■■■■■■■■■■■■■■■■■■■■■■■■■■■■■■■■■■■■■■■■■■■■■■■■■■■■■■■■■■■■■■■■■■■■■■■■■■■■■■■■■■■■■■■■■■■■■■■■■■■■■■■■■■■■■</span>\n",
    "\n",
    "<br>\n"
   ]
  },
  {
   "cell_type": "markdown",
   "id": "c13b4b50-58bd-45a8-9e00-6fbba0ba5385",
   "metadata": {},
   "source": [
    "\n",
    "<span style=\"color: white; font-size: 1rem; background-color: #af87ff; padding: 7px;\"> <strong>mean( )</strong></span>  &nbsp;&nbsp;&nbsp;&&nbsp;&nbsp;&nbsp;<span style=\"color: white; font-size: 1rem; background-color: #af87ff; padding: 7px;\"> <strong>nanmean( )</strong></span>\n",
    "\n",
    "<br>\n",
    "\n",
    "<code style=\"background-color: #ffff2d;\">numpy.<span style=\"color: red; font-size: 1rem;\"><strong>mean()</strong></span></code>  &nbsp;========> &nbsp;does not ignore **NAN**\n",
    "\n",
    "<code style=\"background-color: #ffff2d;\">numpy.<span style=\"color: red; font-size: 1rem;\"><strong>nanmean()</strong></span></code>  &nbsp;&nbsp;=====> &nbsp; ignores **Nan**"
   ]
  },
  {
   "cell_type": "code",
   "execution_count": 39,
   "id": "2bb73215-a179-4624-ae84-05cb0c7a013c",
   "metadata": {},
   "outputs": [
    {
     "data": {
      "text/plain": [
       "nan"
      ]
     },
     "execution_count": 39,
     "metadata": {},
     "output_type": "execute_result"
    }
   ],
   "source": [
    "\n",
    "arr = np.array([1, 2, np.nan, 4])         # array with a NaN value\n",
    "\n",
    "mean_value = np.mean(arr)                 # calculate the mean\n",
    "mean_value\n"
   ]
  },
  {
   "cell_type": "code",
   "execution_count": 40,
   "id": "a76a3b33-4445-4ca3-b203-e85a302dd678",
   "metadata": {},
   "outputs": [
    {
     "data": {
      "text/plain": [
       "2.3333333333333335"
      ]
     },
     "execution_count": 40,
     "metadata": {},
     "output_type": "execute_result"
    }
   ],
   "source": [
    "\n",
    "arr = np.array([1, 2, np.nan, 4])         # array with a NaN value\n",
    "\n",
    "nanmean_value = np.nanmean(arr)           # calculate the mean, ignoring NaN values\n",
    "nanmean_value\n"
   ]
  },
  {
   "cell_type": "markdown",
   "id": "bfd18310-76df-451c-8f34-f4c194ed5c08",
   "metadata": {},
   "source": [
    "<br>\n",
    "\n",
    "<span style=\"color: #06fff0; font-size: 0.7rem;\">■■■■■■■■■■■■■■■■■■■■■■■■■■■■■■■■■■■■■■■■■■■■■■■■■■■■■■■■■■■■■■■■■■■■■■■■■■■■■■■■■■■■■■■■■■■■■■■■■■■■■■■■■■■■■■■</span>\n",
    "\n",
    "<br>\n",
    "\n",
    "<span style=\"color: white; font-size: 1rem; background-color: #af87ff; padding: 7px;\"> <strong>mean( )</strong></span>  &nbsp;&nbsp;&nbsp;&&nbsp;&nbsp;&nbsp;<span style=\"color: white; font-size: 1rem; background-color: #af87ff; padding: 7px;\"> <strong>average( )</strong></span>\n",
    "\n",
    "<BR>\n",
    "\n",
    "<code style=\"background-color: #ffff2d;\">numpy.<span style=\"color: red; font-size: 1rem;\"><strong>mean()</strong></span></code>  &nbsp;========> &nbsp;ignores **weight** while caculating average\n",
    "\n",
    "<code style=\"background-color: #ffff2d;\">numpy.<span style=\"color: red; font-size: 1rem;\"><strong>average()</strong></span></code>  &nbsp;&nbsp;=====> &nbsp; calculates <span style=\"color: blue;\">weighted average</span>\n",
    "\n",
    "<div style=\"margin-left: 320px;\">\n",
    "\n",
    "![](../media/numpy_average.PNG)\n",
    "\n",
    "</div>"
   ]
  },
  {
   "cell_type": "code",
   "execution_count": 3,
   "id": "e6455104-d353-45cc-a6b1-ad3c79773361",
   "metadata": {},
   "outputs": [
    {
     "data": {
      "text/plain": [
       "30.0"
      ]
     },
     "execution_count": 3,
     "metadata": {},
     "output_type": "execute_result"
    }
   ],
   "source": [
    "\n",
    "values = np.array([10, 20, 30, 40, 50])\n",
    "\n",
    "np.mean(values)\n"
   ]
  },
  {
   "cell_type": "code",
   "execution_count": 22,
   "id": "65beb34d-7bb7-47f5-b72e-3e32afe4a4b0",
   "metadata": {},
   "outputs": [
    {
     "data": {
      "text/plain": [
       "36.666666666666664"
      ]
     },
     "execution_count": 22,
     "metadata": {},
     "output_type": "execute_result"
    }
   ],
   "source": [
    "\n",
    "values = np.array([10, 20, 30, 40, 50])\n",
    "\n",
    "weights = np.array([1, 2, 3, 4, 5])\n",
    "\n",
    "np.average(values, weights=weights)                 # It's essential to ensure that the shape of weights is compatible with the shape of values\n"
   ]
  },
  {
   "cell_type": "markdown",
   "id": "5e0e8b94-1c8d-4dfc-a81d-8cba88966af9",
   "metadata": {},
   "source": [
    "<br>\n",
    "\n",
    "<div style=\"margin-left: 120px;\">\n",
    "\n",
    "![](../media/numpy_average_2.PNG)\n",
    "\n",
    "&nbsp;&nbsp;&nbsp;&nbsp;&nbsp;&nbsp;&nbsp;&nbsp;&nbsp;&nbsp;1. &nbsp;<code style=\"background-color: #b4fff9; font-size: 1rem;\"> a        </code> &nbsp;(<strong>array_like</strong>) &nbsp;&nbsp;&nbsp;&nbsp;=============>&nbsp;&nbsp;&nbsp;&nbsp; The input array containing the data to compute the average.\n",
    "\n",
    "&nbsp;&nbsp;&nbsp;&nbsp;&nbsp;&nbsp;&nbsp;&nbsp;&nbsp;&nbsp;2. &nbsp;<code style=\"background-color: #b4fff9; font-size: 1rem;\"> axis     </code> &nbsp;(<strong>int</strong> &nbsp;or &nbsp;<strong>None</strong> , &nbsp;<span style=\"color: blue;\">optional</span>) &nbsp;&nbsp;&nbsp;&nbsp;====>&nbsp;&nbsp;&nbsp;&nbsp; The axis along which to compute the average.\n",
    "<span style=\"margin-left: 407px;\">If &nbsp;<code style=\"background-color: #f5ddff;\">None</code> (default) , the average is computed over the entire array.</span>\n",
    "\n",
    "&nbsp;&nbsp;&nbsp;&nbsp;&nbsp;&nbsp;&nbsp;&nbsp;&nbsp;&nbsp;3. &nbsp;<code style=\"background-color: #b4fff9; font-size: 1rem;\"> weights  </code> &nbsp;(<strong>array_like</strong> , &nbsp;<span style=\"color: blue;\">optional</span>)  &nbsp;&nbsp;&nbsp;&nbsp;======>&nbsp;&nbsp;&nbsp;&nbsp; An array of weights associated with the values in &nbsp;<code style=\"background-color: #f5ddff;\">a</code>\n",
    "<span style=\"margin-left: 405px;\">The shape of &nbsp;<code style=\"background-color: #f5ddff;\">weights</code>&nbsp; <span style=\"color: red;\">must</span> be the same as &nbsp;<code style=\"background-color: #f5ddff;\">a</code>, or it must be broadcastable to &nbsp;<code style=\"background-color: #f5ddff;\">a</code></span>\n",
    "<span style=\"margin-left: 407px;\">If weights is &nbsp;<code style=\"background-color: #f5ddff;\">None</code> , all elements of a are assigned equal weights</span>\n",
    "\n",
    "&nbsp;&nbsp;&nbsp;&nbsp;&nbsp;&nbsp;&nbsp;&nbsp;&nbsp;&nbsp;4. &nbsp;<code style=\"background-color: #b4fff9; font-size: 1rem;\"> returned </code> &nbsp;(<strong>bool</strong> , &nbsp;<span style=\"color: blue;\">optional</span>)  &nbsp;&nbsp;&nbsp;&nbsp;==========>&nbsp;&nbsp;&nbsp; If &nbsp;<code style=\"background-color: #f5ddff;\">True</code> , returns a tuple &nbsp;<code style=\"background-color: #ffff5d;\">(average, sum_of_weights)</code>\n",
    "\n",
    "</div>\n"
   ]
  },
  {
   "cell_type": "code",
   "execution_count": 18,
   "id": "aea10c2b-3705-4985-ab7f-ecb4dca2c37c",
   "metadata": {},
   "outputs": [
    {
     "name": "stdout",
     "output_type": "stream",
     "text": [
      "[2. 3.]\n"
     ]
    }
   ],
   "source": [
    "\n",
    "data = np.array([[1, 2], [3, 4]])\n",
    "result = np.average(data, axis=0)                                                         # Simple Average (No weights)\n",
    "print(result)\n"
   ]
  },
  {
   "cell_type": "code",
   "execution_count": 19,
   "id": "b2780ade-e185-4100-b219-92ed30ad1e5f",
   "metadata": {},
   "outputs": [
    {
     "name": "stdout",
     "output_type": "stream",
     "text": [
      "2.8333333333333335\n"
     ]
    }
   ],
   "source": [
    "\n",
    "data = np.array([1, 2, 3, 4])\n",
    "weights = np.array([1, 1, 2, 2])\n",
    "result = np.average(data, weights=weights)                                                # Weighted Average\n",
    "print(result)\n"
   ]
  },
  {
   "cell_type": "code",
   "execution_count": 20,
   "id": "572cd603-a042-498a-a11e-a39bd5e04d2b",
   "metadata": {},
   "outputs": [
    {
     "name": "stdout",
     "output_type": "stream",
     "text": [
      "[2. 3.]\n"
     ]
    }
   ],
   "source": [
    "\n",
    "data = np.array([[1, 2], [3, 4]])\n",
    "result = np.average(data, axis=0)                                                         # Average along an Axis\n",
    "print(result)\n"
   ]
  },
  {
   "cell_type": "code",
   "execution_count": 21,
   "id": "c87d3d91-6d49-4d06-b039-37c94b543b76",
   "metadata": {},
   "outputs": [
    {
     "name": "stdout",
     "output_type": "stream",
     "text": [
      "2.8333333333333335\n",
      "6.0\n"
     ]
    }
   ],
   "source": [
    "\n",
    "data = np.array([1, 2, 3, 4])\n",
    "weights = np.array([1, 1, 2, 2])\n",
    "average, sum_of_weights = np.average(data, weights=weights, returned=True)                # Return the Sum of Weights\n",
    "print(average)         # Output: 3.0\n",
    "print(sum_of_weights)  # Output: 6.0\n"
   ]
  },
  {
   "cell_type": "markdown",
   "id": "b13c18d4-1dfd-47a1-8169-6e47a1d984c6",
   "metadata": {
    "jp-MarkdownHeadingCollapsed": true
   },
   "source": [
    "<br>\n",
    "\n",
    "### <div style=\"color: white; background-color: #af87ff; padding: 5px;\"> <code style=\"font-size: 1.2rem; background-color: #af87ff; color: white;\"><strong>numpy.var()</strong></code> </div>\n"
   ]
  },
  {
   "cell_type": "markdown",
   "id": "84f9cd2a-3c80-44be-a958-b2bfe417797b",
   "metadata": {},
   "source": [
    "<code style=\"background-color: yellow; padding: 6px;\">numpy.<span style=\"color: red;\"><span style=\"font-size: 1rem;\"><strong>var(</strong></span><span style=\"color: black;\">arr</span>, <span style=\"color: black;\">axis</span><span style=\"color: #9b96a1;\">=None</span>, <span style=\"color: black;\">where</span><span style=\"color: #9b96a1;\">=\\<no value></span><span style=\"font-size: 1rem;\"><strong>)</strong></span></code> &nbsp;==>&nbsp;takes an array & returns the average of the squared difference of each number by the mean along a given axis.</span>\n",
    "\n",
    "<br>\n",
    "\n",
    "<code style=\"color: white; background-color: black;\">Example - 1</code>"
   ]
  },
  {
   "cell_type": "code",
   "execution_count": 17,
   "id": "01378968-154e-418f-9410-2b47c1912e8a",
   "metadata": {},
   "outputs": [
    {
     "name": "stdout",
     "output_type": "stream",
     "text": [
      "0.667\n"
     ]
    }
   ],
   "source": [
    "\n",
    "a = np.array([1, 2, 3])\n",
    "result = np.var(a)\n",
    "print(round(result,3))\n"
   ]
  },
  {
   "cell_type": "markdown",
   "id": "c5f5367d-7339-4912-90cd-f7bcbd603392",
   "metadata": {},
   "source": [
    "<br>\n",
    "\n",
    "<code style=\"color: white; background-color: black;\">Example - 2</code>\n",
    "\n",
    "<span style=\"color: #a245ff;\">Let's calculate the variance of daily stock returns to assess their volatility.</span>"
   ]
  },
  {
   "cell_type": "code",
   "execution_count": 46,
   "id": "1fe6c4bb-07db-428c-801d-dde2f6a76291",
   "metadata": {},
   "outputs": [
    {
     "data": {
      "text/plain": [
       "0.000664"
      ]
     },
     "execution_count": 46,
     "metadata": {},
     "output_type": "execute_result"
    }
   ],
   "source": [
    "\n",
    "stock_returns = np.array([0.02, -0.01, 0.03, 0.05, -0.02])           # daily stock returns as a NumPy array\n",
    "\n",
    "volatility = np.var(stock_returns)                                   # calculate the variance of the stock returns\n",
    "volatility\n"
   ]
  },
  {
   "cell_type": "markdown",
   "id": "77065648-0c53-47ff-a392-b5b270f84a22",
   "metadata": {
    "jp-MarkdownHeadingCollapsed": true
   },
   "source": [
    "<br>\n",
    "\n",
    "### <div style=\"color: white; background-color: #af87ff; padding: 5px;\"> <code style=\"font-size: 1.2rem; background-color: #af87ff; color: white;\"><strong>numpy.std()</strong></code> </div>\n"
   ]
  },
  {
   "cell_type": "markdown",
   "id": "dabdd438-4bd9-4368-a061-571b48428e9e",
   "metadata": {},
   "source": [
    "<code style=\"background-color: yellow; padding: 6px;\">numpy.<span style=\"color: red;\"><span style=\"font-size: 1rem;\"><strong>std(</strong></span><span style=\"color: black;\">arr</span>, <span style=\"color: black;\">axis</span><span style=\"color: #9b96a1;\">=None</span>, <span style=\"color: black;\">where</span><span style=\"color: #9b96a1;\">=\\<no value></span><span style=\"font-size: 1rem;\"><strong>)</strong></span></code> &nbsp;&nbsp;&nbsp;&nbsp;====>&nbsp;&nbsp;&nbsp;&nbsp;average of the squared difference of each number by the mean</span>\n",
    "\n",
    "<span style=\"margin-left: 354px;\">&nbsp;&nbsp;&nbsp;&nbsp;====>&nbsp;&nbsp;&nbsp;&nbsp;It measures how spread out the elements of an array is.</span> <span style=\"margin-left: 432px;\">The more spread out elements is, the greater their <u>standard deviation</u>.</span>\n",
    "\n",
    "<br>\n"
   ]
  },
  {
   "cell_type": "code",
   "execution_count": 25,
   "id": "825e0946-9e3e-49e6-8f4a-d6dcf4488bd5",
   "metadata": {},
   "outputs": [
    {
     "name": "stdout",
     "output_type": "stream",
     "text": [
      "109.6\n"
     ]
    }
   ],
   "source": [
    "\n",
    "diameters = np.array([591, 239, 210, 207, 201, 182, 176, 176, 175, 170, 170, 169, 168, ])\n",
    "result = np.std(diameters)\n",
    "print(round(result, 1))\n"
   ]
  },
  {
   "cell_type": "markdown",
   "id": "901a1635-f78f-4502-b36b-33ed65d1c084",
   "metadata": {
    "jp-MarkdownHeadingCollapsed": true
   },
   "source": [
    "<br>\n",
    "\n",
    "### <div style=\"color: white; background-color: #af87ff; padding: 5px;\"> <code style=\"font-size: 1.2rem; background-color: #af87ff; color: white;\"><strong>numpy.prod()</strong></code> </div>\n"
   ]
  },
  {
   "cell_type": "markdown",
   "id": "4285d4c5-8344-4edd-9e6b-79e46fadb44b",
   "metadata": {},
   "source": [
    "\n",
    "<code style=\"background-color: yellow; padding: 6px;\">numpy.<span style=\"color: red;\"><span style=\"font-size: 1rem;\"><strong>prod(</strong></span><span style=\"color: black;\">arr</span>, <span style=\"color: black;\">axis</span><span style=\"color: #9b96a1;\">=None</span>, <span style=\"color: black;\">where</span><span style=\"color: #9b96a1;\">=\\<no value></span><span style=\"font-size: 1rem;\"><strong>)</strong></span></code> &nbsp;&nbsp;&nbsp;&nbsp;====>&nbsp;&nbsp;&nbsp;&nbsp;takes an array and calculates the product of numbers in an array along a given axis.</span>\n",
    "\n",
    "<br>\n",
    "\n",
    "<code style=\"color: white; background-color: black;\">Example - 1</code> &nbsp;<span style=\"color: #2fbd0b;\">1D array</span>"
   ]
  },
  {
   "cell_type": "code",
   "execution_count": 46,
   "id": "e90b8502-f7e9-40ae-98b5-a1031ade20fd",
   "metadata": {},
   "outputs": [
    {
     "name": "stdout",
     "output_type": "stream",
     "text": [
      "[1 2 3 4]\n",
      "result=24\n"
     ]
    }
   ],
   "source": [
    "\n",
    "a = np.arange(1, 5)                        # [1   2   3   4]\n",
    "result = np.prod(a)                        # 1*2*3*4  =  24\n",
    "\n",
    "print(a)\n",
    "print(f'result={result}')\n"
   ]
  },
  {
   "cell_type": "markdown",
   "id": "4d0c265e-3c57-440e-a69c-1157bfd67068",
   "metadata": {},
   "source": [
    "<br>\n",
    "\n",
    "<code style=\"color: white; background-color: black;\">Example - 2</code> &nbsp;<span style=\"color: #2fbd0b;\">2D array</span>\n",
    "\n",
    "<u><span style=\"color: #a245ff;\">Case-1 :</span></u> &nbsp;&nbsp;<span style=\"color: red;\">axis = None</span> &nbsp;<span style=\"color: blue;\">(default)</span>"
   ]
  },
  {
   "cell_type": "code",
   "execution_count": 50,
   "id": "b8cdd797-625e-437d-9082-61bbc0625dfc",
   "metadata": {},
   "outputs": [
    {
     "name": "stdout",
     "output_type": "stream",
     "text": [
      "24\n"
     ]
    }
   ],
   "source": [
    "\n",
    "a = np.array([\n",
    "    [1, 2],\n",
    "    [3, 4]\n",
    "])\n",
    "result = np.product(a, axis=None)          # 1*2*3*4  =  24\n",
    "print(result)\n"
   ]
  },
  {
   "cell_type": "markdown",
   "id": "0a337d13-7146-41c6-9521-96e725f81e7e",
   "metadata": {},
   "source": [
    "<u><span style=\"color: #a245ff;\">Case-2 :</span></u> &nbsp;&nbsp;<span style=\"color: red;\">axis = 0</span>"
   ]
  },
  {
   "cell_type": "code",
   "execution_count": 51,
   "id": "ed2059c5-1092-46ef-9867-267d1e66a152",
   "metadata": {},
   "outputs": [
    {
     "name": "stdout",
     "output_type": "stream",
     "text": [
      "[3 8]\n"
     ]
    }
   ],
   "source": [
    "\n",
    "a = np.array([\n",
    "    [1, 2],\n",
    "    [3, 4]\n",
    "])\n",
    "result = np.product(a, axis=0)\n",
    "print(result)\n"
   ]
  },
  {
   "cell_type": "markdown",
   "id": "d23e8ee8-73fd-4dfa-a5e6-931f884511dc",
   "metadata": {},
   "source": [
    "<div style=\"margin-left: 90px;\">\n",
    "\n",
    "![](../media/numpy_25.PNG)\n",
    "\n",
    "</div>\n",
    "\n",
    "<u><span style=\"color: #a245ff;\">Case-3 :</span></u> &nbsp;&nbsp;<span style=\"color: red;\">axis = 1</span>"
   ]
  },
  {
   "cell_type": "code",
   "execution_count": 52,
   "id": "b25a12e0-a334-4950-9b2d-bb1a3ee51753",
   "metadata": {},
   "outputs": [
    {
     "name": "stdout",
     "output_type": "stream",
     "text": [
      "[ 2 12]\n"
     ]
    }
   ],
   "source": [
    "\n",
    "a = np.array([\n",
    "    [1, 2],\n",
    "    [3, 4]\n",
    "])\n",
    "result = np.product(a, axis=1)\n",
    "print(result)\n"
   ]
  },
  {
   "cell_type": "markdown",
   "id": "744fa798-cd5b-4986-814c-669473055e15",
   "metadata": {},
   "source": [
    "<div style=\"margin-left: 100px;\">\n",
    "\n",
    "![](../media/numpy_26.PNG)\n",
    "\n",
    "</div>\n",
    "\n",
    "<br>\n",
    "\n",
    "<code style=\"color: white; background-color: black;\">Example - 3</code> &nbsp;&nbsp;<span style=\"color: #2fbd0b;\">Selecting numbers to include in the product</span>\n",
    "\n",
    "To select specific number to include in the product, you use the where argument."
   ]
  },
  {
   "cell_type": "code",
   "execution_count": 90,
   "id": "625437eb-b3a7-4202-b171-42f5021a504d",
   "metadata": {},
   "outputs": [
    {
     "name": "stdout",
     "output_type": "stream",
     "text": [
      "12.0\n"
     ]
    }
   ],
   "source": [
    "\n",
    "# 1D array\n",
    "\n",
    "a = np.array([np.nan, 3, 4])                         # \"NaN\" stands for \"Not a Number\" and is used to represent undefined or missing values in datasets.\n",
    "result = np.prod(a, where=[False, True, True])       # \"NaN\" = 1 while calculating product\n",
    "print(result)\n"
   ]
  },
  {
   "cell_type": "code",
   "execution_count": 91,
   "id": "a93a577f-811a-447d-9059-ba5a93afcafc",
   "metadata": {},
   "outputs": [
    {
     "name": "stdout",
     "output_type": "stream",
     "text": [
      "[3. 8.]\n"
     ]
    }
   ],
   "source": [
    "\n",
    "# 2D array\n",
    "\n",
    "a = np.array([\n",
    "    [np.nan, 2],\n",
    "    [3, 4]\n",
    "])\n",
    "result = np.product(a, axis=0, where=[[False, True], [True, True]])\n",
    "print(result)\n"
   ]
  },
  {
   "cell_type": "markdown",
   "id": "d253c9ef-8da0-43cc-a0de-0a8688cc7683",
   "metadata": {},
   "source": [
    "<br>\n",
    "\n",
    "<span style=\"font-size: 1.5rem;\">⭐</span> &nbsp;<code style=\"background-color: #e8daef;\">NaN = 1</code> &nbsp;while calculating PRODUCT\n",
    "\n",
    "<br>"
   ]
  },
  {
   "cell_type": "markdown",
   "id": "cb511174-3b33-4f4d-b88f-aa5c80a6530c",
   "metadata": {},
   "source": [
    "<code style=\"color: white; background-color: black;\">Example - 4</code> &nbsp;&nbsp;<span style=\"color: #2fbd0b;\">Special Cases</span>"
   ]
  },
  {
   "cell_type": "code",
   "execution_count": 56,
   "id": "91a6b46b-8587-4699-a7ce-61b08102c5d1",
   "metadata": {},
   "outputs": [
    {
     "name": "stdout",
     "output_type": "stream",
     "text": [
      "result=0\n"
     ]
    }
   ],
   "source": [
    "\n",
    "result = np.prod(np.arange(1, 100))\n",
    "print(f'result={result}')\n"
   ]
  },
  {
   "cell_type": "markdown",
   "id": "e1c4c40f-26fc-4fc3-9fdb-7adb353e0fd8",
   "metadata": {},
   "source": [
    "\n",
    "<span style=\"font-size: 1.5rem;\">⭐</span> &nbsp;The <code style=\"background-color: yellow;\">prod()</code> function returns 1 if the array is empty. &nbsp;<span style=\"color: #a245ff;\">For example :</span>"
   ]
  },
  {
   "cell_type": "code",
   "execution_count": 86,
   "id": "c0630e10-0017-49c1-93a5-aacea9c9d775",
   "metadata": {},
   "outputs": [
    {
     "name": "stdout",
     "output_type": "stream",
     "text": [
      "result=1.0\n"
     ]
    }
   ],
   "source": [
    "\n",
    "result = np.prod(np.array([]))\n",
    "\n",
    "print(f'result={result}')\n"
   ]
  },
  {
   "cell_type": "code",
   "execution_count": 88,
   "id": "eb1016a5-ec37-4f80-89bf-c7e9fed27d5d",
   "metadata": {},
   "outputs": [
    {
     "name": "stdout",
     "output_type": "stream",
     "text": [
      "result=0.0\n"
     ]
    }
   ],
   "source": [
    "\n",
    "\n",
    "result = np.sum(np.array([]))\n",
    "\n",
    "print(f'result={result}')\n"
   ]
  },
  {
   "cell_type": "markdown",
   "id": "00e0d55a-734e-4c8a-8fb7-9cc2059bec31",
   "metadata": {
    "jp-MarkdownHeadingCollapsed": true
   },
   "source": [
    "<br>\n",
    "\n",
    "### <div style=\"color: white; background-color: #af87ff; padding: 5px;\"> <code style=\"font-size: 1.2rem; background-color: #af87ff; color: white;\"><strong>numpy.amin()</strong></code> </div>\n"
   ]
  },
  {
   "cell_type": "markdown",
   "id": "6fa8f025-066c-4137-a652-0be99ed5c298",
   "metadata": {},
   "source": [
    "<code style=\"background-color: #ffff2d; padding: 6px;\">numpy.<span style=\"color: red;\"><span style=\"font-size: 1rem;\"><strong>amin(</strong></span><span style=\"color: black;\">arr</span>, <span style=\"color: black;\">axis</span><span style=\"color: #9b96a1;\">=None</span>, <span style=\"color: black;\">out</span><span style=\"color: #9b96a1;\">=None</span>, <span style=\"color: black;\">keepdims</span><span style=\"color: #9b96a1;\">=\\<no value></span>, <span style=\"color: black;\">initial</span><span style=\"color: #9b96a1;\">=\\<no value></span>, <span style=\"color: black;\">where</span><span style=\"color: #9b96a1;\">=\\<no value></span><span style=\"font-size: 1rem;\"><strong>)</strong</span></code>\n",
    "\n",
    "========>&nbsp;&nbsp;&nbsp;&nbsp;returns the minimum element of an array or minimum element along an axis.</span>\n",
    "\n",
    "========>&nbsp;&nbsp;&nbsp;&nbsp;It is equivalent to &nbsp;<code style=\"background-color: #efd0ff; padding: 6px;\">ndarray.<span style=\"color: red;\">min(<span style=\"color: black;\">arr</span>, <span style=\"color: black;\">axis</span><span style=\"color: #9b96a1;\">=None</span>, <span style=\"color: black;\">out</span><span style=\"color: #9b96a1;\">=None</span>, <span style=\"color: black;\">keepdims</span><span style=\"color: #9b96a1;\">=\\<no value></span>, <span style=\"color: black;\">initial</span><span style=\"color: #9b96a1;\">=\\<no value></span>, <span style=\"color: black;\">where</span><span style=\"color: #9b96a1;\">=\\<no value></span>)</code> \n",
    "\n",
    "<br>\n",
    "\n",
    "<code style=\"color: white; background-color: black;\">Example - 1</code> &nbsp;<span style=\"color: #2fbd0b;\">1D array</span>"
   ]
  },
  {
   "cell_type": "code",
   "execution_count": 5,
   "id": "b3dc1262-a022-453d-9ddb-42d24dbf4740",
   "metadata": {},
   "outputs": [
    {
     "name": "stdout",
     "output_type": "stream",
     "text": [
      "1\n"
     ]
    }
   ],
   "source": [
    "\n",
    "a = np.array([1, 2, 3])\n",
    "min = np.amin(a)\n",
    "print(min)\n"
   ]
  },
  {
   "cell_type": "markdown",
   "id": "a057da5c-3717-4104-939d-30d09f9d8e90",
   "metadata": {},
   "source": [
    "<code style=\"color: white; background-color: black;\">Example - 2</code> &nbsp;<span style=\"color: #2fbd0b;\">2D array</span>\n",
    "\n",
    "<u><span style=\"color: #a245ff;\">Case-1 :</span></u> &nbsp;&nbsp;<span style=\"color: red;\">axis = None</span> &nbsp;<span style=\"color: blue;\">(default)</span>"
   ]
  },
  {
   "cell_type": "code",
   "execution_count": 7,
   "id": "a6c963a4-718b-4624-9077-fd465d8aa1ed",
   "metadata": {},
   "outputs": [
    {
     "name": "stdout",
     "output_type": "stream",
     "text": [
      "1\n"
     ]
    }
   ],
   "source": [
    "\n",
    "a = np.array([\n",
    "    [1, 2],\n",
    "    [3, 4]]\n",
    ")\n",
    "min = np.amin(a)\n",
    "print(min)\n"
   ]
  },
  {
   "cell_type": "markdown",
   "id": "940f5fcb-06c0-4b12-88d3-8b59ff0d5f9e",
   "metadata": {},
   "source": [
    "<u><span style=\"color: #a245ff;\">Case-2 :</span></u> &nbsp;&nbsp;<span style=\"color: red;\">axis = 0</span>"
   ]
  },
  {
   "cell_type": "code",
   "execution_count": 18,
   "id": "4ab9c295-b1b4-4af1-b41d-b6fb4f50a15a",
   "metadata": {},
   "outputs": [
    {
     "name": "stdout",
     "output_type": "stream",
     "text": [
      "[1 2]\n"
     ]
    }
   ],
   "source": [
    "\n",
    "a = np.array([\n",
    "    [1, 2],\n",
    "    [3, 4]]\n",
    ")\n",
    "min = np.amin(a, axis=0)\n",
    "print(min)\n"
   ]
  },
  {
   "cell_type": "markdown",
   "id": "bd5875c4-0b8d-4466-9b94-45d40f414bd0",
   "metadata": {},
   "source": [
    "<u><span style=\"color: #a245ff;\">Case-3 :</span></u> &nbsp;&nbsp;<span style=\"color: red;\">axis = 1</span>"
   ]
  },
  {
   "cell_type": "code",
   "execution_count": 19,
   "id": "1b43621a-3195-426c-9ce7-6be0c60b8374",
   "metadata": {},
   "outputs": [
    {
     "name": "stdout",
     "output_type": "stream",
     "text": [
      "[1 2]\n"
     ]
    }
   ],
   "source": [
    "\n",
    "a = np.array([\n",
    "    [1, 2],\n",
    "    [3, 4]]\n",
    ")\n",
    "min = np.amin(a, axis=0)\n",
    "print(min)\n"
   ]
  },
  {
   "cell_type": "markdown",
   "id": "ce74363c-f010-4412-ad99-9e2326a9cfc4",
   "metadata": {
    "jp-MarkdownHeadingCollapsed": true
   },
   "source": [
    "<br>\n",
    "\n",
    "### <div style=\"color: white; background-color: #af87ff; padding: 5px;\"> <code style=\"font-size: 1.2rem; background-color: #af87ff; color: white;\"><strong>numpy.amax()</strong></code> </div>\n"
   ]
  },
  {
   "cell_type": "markdown",
   "id": "f93fa9f0-deca-46ed-93c2-b0214bfdb5a0",
   "metadata": {},
   "source": [
    "<code style=\"background-color: yellow; padding: 6px;\">numpy.<span style=\"color: red;\"><span style=\"font-size: 1rem;\"><strong>amax(</strong></span><span style=\"color: black;\">arr</span>, <span style=\"color: black;\">axis</span><span style=\"color: #9b96a1;\">=None</span>, <span style=\"color: black;\">out</span><span style=\"color: #9b96a1;\">=None</span>, <span style=\"color: black;\">keepdims</span><span style=\"color: #9b96a1;\">=\\<no value></span>, <span style=\"color: black;\">initial</span><span style=\"color: #9b96a1;\">=\\<no value></span>, <span style=\"color: black;\">where</span><span style=\"color: #9b96a1;\">=\\<no value></span><span style=\"font-size: 1rem;\"><strong>)</strong></span></code>\n",
    "\n",
    "========>&nbsp;&nbsp;&nbsp;&nbsp;returns the maximum element of an array or minimum element along an axis.</span>\n",
    "\n",
    "========>&nbsp;&nbsp;&nbsp;&nbsp;It is equivalent to &nbsp;<code style=\"background-color: #efd0ff; padding: 6px;\">ndarray.<span style=\"color: red;\"><span style=\"font-size: 1rem;\"><strong>max(</strong></span><span style=\"color: black;\">arr</span>, <span style=\"color: black;\">axis</span><span style=\"color: #9b96a1;\">=None</span>, <span style=\"color: black;\">out</span><span style=\"color: #9b96a1;\">=None</span>, <span style=\"color: black;\">keepdims</span><span style=\"color: #9b96a1;\">=\\<no value></span>, <span style=\"color: black;\">initial</span><span style=\"color: #9b96a1;\">=\\<no value></span>, <span style=\"color: black;\">where</span><span style=\"color: #9b96a1;\">=\\<no value></span><span style=\"font-size: 1rem;\"><strong>)</strong></span></code> \n",
    "\n",
    "<br>\n",
    "\n",
    "<code style=\"color: white; background-color: black;\">Example - 1</code> &nbsp;<span style=\"color: #2fbd0b;\">1D array</span>"
   ]
  },
  {
   "cell_type": "code",
   "execution_count": 6,
   "id": "8984302b-028e-4bf5-88bc-ad4bb6dba0ed",
   "metadata": {},
   "outputs": [
    {
     "name": "stdout",
     "output_type": "stream",
     "text": [
      "3\n"
     ]
    }
   ],
   "source": [
    "\n",
    "a = np.array([1, 2, 3])\n",
    "min = np.amax(a)\n",
    "print(min)\n"
   ]
  },
  {
   "cell_type": "markdown",
   "id": "bed6bdb8-b397-4609-880a-64be64f89f9c",
   "metadata": {},
   "source": [
    "<br>\n",
    "\n",
    "<code style=\"color: white; background-color: black;\">Example - 2</code> &nbsp;<span style=\"color: #2fbd0b;\">2D array</span>\n",
    "\n",
    "<u><span style=\"color: #a245ff;\">Case-1 :</span></u> &nbsp;&nbsp;<span style=\"color: red;\">axis = None</span> &nbsp;<span style=\"color: blue;\">(default)</span>"
   ]
  },
  {
   "cell_type": "code",
   "execution_count": 15,
   "id": "4d2bfd63-f137-4664-8a08-600cfa586068",
   "metadata": {},
   "outputs": [
    {
     "name": "stdout",
     "output_type": "stream",
     "text": [
      "4\n"
     ]
    }
   ],
   "source": [
    "\n",
    "a = np.array([\n",
    "    [1, 2],\n",
    "    [3, 4]]\n",
    ")\n",
    "max = np.amax(a)\n",
    "print(max)\n"
   ]
  },
  {
   "cell_type": "markdown",
   "id": "62d90b37-c8b4-4d0a-869b-13b7c0da8e87",
   "metadata": {},
   "source": [
    "<u><span style=\"color: #a245ff;\">Case-2 :</span></u> &nbsp;&nbsp;<span style=\"color: red;\">axis = 0</span>"
   ]
  },
  {
   "cell_type": "code",
   "execution_count": 16,
   "id": "d3f88cc9-a4c4-467c-860d-8dea74711de4",
   "metadata": {},
   "outputs": [
    {
     "name": "stdout",
     "output_type": "stream",
     "text": [
      "[3 4]\n"
     ]
    }
   ],
   "source": [
    "\n",
    "a = np.array([\n",
    "    [1, 2],\n",
    "    [3, 4]]\n",
    ")\n",
    "max = np.amax(a, axis=0)\n",
    "print(max)\n"
   ]
  },
  {
   "cell_type": "markdown",
   "id": "3bbb383b-0a76-4d72-bc8e-cfb563cbf757",
   "metadata": {},
   "source": [
    "<u><span style=\"color: #a245ff;\">Case-3 :</span></u> &nbsp;&nbsp;<span style=\"color: red;\">axis = 1</span>"
   ]
  },
  {
   "cell_type": "code",
   "execution_count": 17,
   "id": "67eb0f13-32e1-43b8-bb57-ef9747223c71",
   "metadata": {},
   "outputs": [
    {
     "name": "stdout",
     "output_type": "stream",
     "text": [
      "[2 4]\n"
     ]
    }
   ],
   "source": [
    "\n",
    "a = np.array([\n",
    "    [1, 2],\n",
    "    [3, 4]]\n",
    ")\n",
    "max = np.amax(a, axis=1)\n",
    "print(max)\n"
   ]
  },
  {
   "cell_type": "markdown",
   "id": "8ced4607-ab67-4f89-ad2f-bcfb43d94f8f",
   "metadata": {
    "jp-MarkdownHeadingCollapsed": true
   },
   "source": [
    "<br>\n",
    "\n",
    "### <div style=\"color: white; background-color: #af87ff; padding: 5px;\"> <code style=\"font-size: 1.2rem; background-color: #af87ff; color: white;\"><strong>numpy.all()</strong></code> </div>\n"
   ]
  },
  {
   "cell_type": "markdown",
   "id": "7fad1e94-71fb-44ea-a268-4b2296c142c5",
   "metadata": {},
   "source": [
    "\n",
    "<code style=\"background-color: yellow; padding: 6px;\">numpy.<span style=\"color: red;\"><span style=\"font-size: 1rem;\"><strong>all(</strong></span><span style=\"color: black;\">arr</span>, <span style=\"color: black;\">axis</span><span style=\"color: #9b96a1;\">=None</span>, <span style=\"color: black;\">out</span><span style=\"color: #9b96a1;\">=None</span>, <span style=\"color: black;\">keepdims</span><span style=\"color: #9b96a1;\">=\\<no value></span>, <span style=\"color: black;\">initial</span><span style=\"color: #9b96a1;\">=\\<no value></span>, <span style=\"color: black;\">where</span><span style=\"color: #9b96a1;\">=\\<no value></span><span style=\"font-size: 1rem;\"><strong>)</strong></span></code>\n",
    "\n",
    "========>&nbsp;&nbsp;&nbsp;&nbsp;returns &nbsp;<code style=\"background-color: #efd0ff;\">True</code>&nbsp; if <strong>all</strong> elements in an array (or along a given axis) evaluate &nbsp;<code style=\"background-color: #efd0ff;\">True</code>&nbsp;</span>\n",
    "\n",
    "========>&nbsp;&nbsp;&nbsp;&nbsp;In this syntax, a is a numpy <strong>array</strong> or an <strong>array-like object</strong> e.g., a <span style=\"color: blue;\"><strong>list</strong></span>.\n",
    "\n",
    "========>&nbsp;&nbsp;&nbsp;&nbsp;NaN  &nbsp;<span style=\"font-size: 1.2rem;\">(</span><code style=\"background-color: #bfffee\">np.<span style=\"color: red;\">nan</span></code><span style=\"font-size: 1.2rem;\">)</span> , &nbsp;&nbsp;<u>positive infinity</u> &nbsp;<span style=\"font-size: 1.2rem;\">(</span><code style=\"background-color: #bfffee\">np.<span style=\"color: red;\">inf</span></code><span style=\"font-size: 1.2rem;\">)</span> &nbsp;& &nbsp;<u>negative infinity</u> &nbsp;<span style=\"font-size: 1.2rem;\">(</span><code style=\"background-color: #bfffee\">-np.<span style=\"color: red;\">inf</span></code><span style=\"font-size: 1.2rem;\">)</span> &nbsp;evaluate to &nbsp;<code style=\"background-color: #efd0ff;\">True</code>&nbsp; because these are **not equal to zero**\n",
    "\n",
    "<br>\n",
    "\n",
    "<div style=\"display: flex;\">\n",
    "<div><span style=\"font-size: 1.5rem;\">⭐&nbsp;&nbsp;</span></div>\n",
    "<div>If the input array contains all numbers, the &nbsp;<code style=\"background-color: yellow; color: red; font-size: 1rem;\"><strong>all()</strong></code>&nbsp; function returns &nbsp;<span style=\"background-color: #FFFFBA; padding: 5px;\">&nbsp;<code style=\"background-color: #efd0ff;\">True</code>&nbsp; if all numbers are nonzero</span> &nbsp;or&nbsp; &nbsp;<span style=\"background-color: #FFFFBA; padding: 5px;\"><code style=\"background-color: #efd0ff;\">False</code>&nbsp; if least one number is zero</span>. <br>The reason is that &nbsp;<u>all non-zero numbers evaluate to True</u> &nbsp;while&nbsp; <u>zero evaluates to False</u> .</div>\n",
    "</div>\n",
    "\n",
    "<br><br>\n",
    "\n",
    "<code style=\"color: white; background-color: black;\">Example - 1</code> &nbsp;<span style=\"color: #2fbd0b;\">1D array</span>\n"
   ]
  },
  {
   "cell_type": "code",
   "execution_count": 99,
   "id": "8df17c9a-d7c0-45d3-9fdd-269d03c9181b",
   "metadata": {},
   "outputs": [
    {
     "name": "stdout",
     "output_type": "stream",
     "text": [
      "False\n"
     ]
    }
   ],
   "source": [
    "\n",
    "result = np.all([0, 1, 2, 3])                      # the result is False because the array has zero at index 0\n",
    "print(result)\n"
   ]
  },
  {
   "cell_type": "code",
   "execution_count": 100,
   "id": "5fddcf9c-7544-455a-98a3-8527a80802c9",
   "metadata": {},
   "outputs": [
    {
     "name": "stdout",
     "output_type": "stream",
     "text": [
      "True\n"
     ]
    }
   ],
   "source": [
    "\n",
    "result = np.all(np.array([-1, 2, 3]))              # the result is True because the array does not has any zero\n",
    "print(result)\n"
   ]
  },
  {
   "cell_type": "markdown",
   "id": "de6b9f04-21f3-478b-a33f-cf89bb3e7f12",
   "metadata": {},
   "source": [
    "<span style=\"color: #a245ff;\">You can pass an array-like object e.g., a <span style=\"color: blue;\"><strong>list</strong></span> to the &nbsp;<code style=\"background-color: yellow; color: red; font-size: 1rem;\"><strong>all()</strong></code>&nbsp; function</span>"
   ]
  },
  {
   "cell_type": "code",
   "execution_count": 97,
   "id": "38e73143-b795-433f-985e-f40a2ea987b1",
   "metadata": {},
   "outputs": [
    {
     "name": "stdout",
     "output_type": "stream",
     "text": [
      "True\n"
     ]
    }
   ],
   "source": [
    "\n",
    "result = np.all([-1, 2, 3])\n",
    "print(result)\n"
   ]
  },
  {
   "cell_type": "markdown",
   "id": "a030007f-5136-426f-84c8-980aa32343d1",
   "metadata": {},
   "source": [
    "<br>\n",
    "\n",
    "<code style=\"color: white; background-color: black;\">Example - 2</code> &nbsp;<span style=\"color: #2fbd0b;\">2D array</span>\n",
    "\n",
    "<u><span style=\"color: #a245ff;\">Case-1 :</span></u> &nbsp;&nbsp;<span style=\"color: red;\">axis = None</span> &nbsp;<span style=\"color: blue;\">(default)</span>"
   ]
  },
  {
   "cell_type": "code",
   "execution_count": 102,
   "id": "cdbcd6d6-5c5e-4b97-8191-c8012698e1b5",
   "metadata": {},
   "outputs": [
    {
     "name": "stdout",
     "output_type": "stream",
     "text": [
      "False\n"
     ]
    }
   ],
   "source": [
    "\n",
    "a = np.array([[0, 1], [2, 3]])\n",
    "result = np.all(a, axis=None)\n",
    "print(result)\n"
   ]
  },
  {
   "cell_type": "markdown",
   "id": "a706820a-303b-44c7-a4c3-caa534b4a100",
   "metadata": {},
   "source": [
    "<u><span style=\"color: #a245ff;\">Case-2 :</span></u> &nbsp;&nbsp;<span style=\"color: red;\">axis = 0</span>"
   ]
  },
  {
   "cell_type": "code",
   "execution_count": 104,
   "id": "421e49cb-5be0-4ab0-8a2a-7f6ddecd4662",
   "metadata": {},
   "outputs": [
    {
     "name": "stdout",
     "output_type": "stream",
     "text": [
      "[False  True]\n"
     ]
    }
   ],
   "source": [
    "\n",
    "a = np.array([\n",
    "    [0, 1],\n",
    "    [2, 3]]\n",
    ")\n",
    "result = np.all(a, axis=0)\n",
    "print(result)\n"
   ]
  },
  {
   "cell_type": "markdown",
   "id": "97c7a74a-aed8-465b-b684-29ae32407eef",
   "metadata": {},
   "source": [
    "<div style=\"margin-left: 100px;\">\n",
    "\n",
    "![](../media/numpy_27.PNG)\n",
    "\n",
    "</div>"
   ]
  },
  {
   "cell_type": "markdown",
   "id": "d3e54c6a-f3fe-4cc4-8c41-5938e2b4d9fc",
   "metadata": {},
   "source": [
    "<u><span style=\"color: #a245ff;\">Case-3 :</span></u> &nbsp;&nbsp;<span style=\"color: red;\">axis = 1</span>"
   ]
  },
  {
   "cell_type": "code",
   "execution_count": 105,
   "id": "c1182b16-0d36-4966-ad84-271102acdb91",
   "metadata": {},
   "outputs": [
    {
     "name": "stdout",
     "output_type": "stream",
     "text": [
      "[False  True]\n"
     ]
    }
   ],
   "source": [
    "\n",
    "a = np.array([\n",
    "    [0, 1],\n",
    "    [2, 3]]\n",
    ")\n",
    "result = np.all(a, axis=1)\n",
    "print(result)\n"
   ]
  },
  {
   "cell_type": "markdown",
   "id": "248fd380-54a8-4578-8da8-025769f360c8",
   "metadata": {},
   "source": [
    "<div style=\"margin-left: 100px;\">\n",
    "\n",
    "![](../media/numpy_28.PNG)\n",
    "\n",
    "</div>"
   ]
  },
  {
   "cell_type": "markdown",
   "id": "54df6422-97f9-45cd-bb17-9c7cf4a57298",
   "metadata": {
    "jp-MarkdownHeadingCollapsed": true
   },
   "source": [
    "<br>\n",
    "\n",
    "### <div style=\"color: white; background-color: #af87ff; padding: 5px;\"> <code style=\"font-size: 1.2rem; background-color: #af87ff; color: white;\"><strong>numpy.any()</strong></code> </div>\n"
   ]
  },
  {
   "cell_type": "markdown",
   "id": "eafc3369-5e73-4d59-ac2d-748cf4e8d5ca",
   "metadata": {},
   "source": [
    "\n",
    "<code style=\"background-color: yellow; padding: 6px;\">numpy.<span style=\"color: red;\"><span style=\"font-size: 1rem;\"><strong>any(</strong></span><span style=\"color: black;\">arr</span>, <span style=\"color: black;\">axis</span><span style=\"color: #9b96a1;\">=None</span>, <span style=\"color: black;\">out</span><span style=\"color: #9b96a1;\">=None</span>, <span style=\"color: black;\">keepdims</span><span style=\"color: #9b96a1;\">=\\<no value></span>, <span style=\"color: black;\">initial</span><span style=\"color: #9b96a1;\">=\\<no value></span>, <span style=\"color: black;\">where</span><span style=\"color: #9b96a1;\">=\\<no value></span><span style=\"font-size: 1rem;\"><strong>)</strong></span></code>\n",
    "\n",
    "<br>\n",
    "\n",
    "========>&nbsp;&nbsp;&nbsp;&nbsp;returns &nbsp;<code style=\"background-color: #efd0ff;\">True</code>&nbsp; if <strong>any</strong> element in an array (or along a given axis) evaluate &nbsp;<code style=\"background-color: #efd0ff;\">True</code>&nbsp;</span>\n",
    "\n",
    "========>&nbsp;&nbsp;&nbsp;&nbsp;In this syntax, a is a numpy <strong>array</strong> or an <strong>array-like object</strong> e.g., a <span style=\"color: blue;\"><strong>list</strong></span>\n",
    "\n",
    "========>&nbsp;&nbsp;&nbsp;&nbsp;NaN  &nbsp;<span style=\"font-size: 1.2rem;\">(</span><code style=\"background-color: #bfffee\">np.<span style=\"color: red;\">nan</span></code><span style=\"font-size: 1.2rem;\">)</span> , &nbsp;&nbsp;<u>positive infinity</u> &nbsp;<span style=\"font-size: 1.2rem;\">(</span><code style=\"background-color: #bfffee\">np.<span style=\"color: red;\">inf</span></code><span style=\"font-size: 1.2rem;\">)</span> &nbsp;& &nbsp;<u>negative infinity</u> &nbsp;<span style=\"font-size: 1.2rem;\">(</span><code style=\"background-color: #bfffee\">-np.<span style=\"color: red;\">inf</span></code><span style=\"font-size: 1.2rem;\">)</span> &nbsp;evaluate to &nbsp;<code style=\"background-color: #efd0ff;\">True</code>&nbsp; because these are **not equal to zero**\n",
    "\n",
    "<br>\n",
    "\n",
    "<div style=\"display: flex;\">\n",
    "<div><span style=\"font-size: 1.5rem;\">⭐&nbsp;&nbsp;</span></div>\n",
    "<div>Typically, the input array contains numbers. In the boolean context, &nbsp;<u>all non-zero numbers evaluate to True</u>&nbsp; while &nbsp;<u>zero evaluates to False</u> . <br>Therefore, the &nbsp;<code style=\"background-color: #bfffee; color: red; font-size 1rem;\"><strong>any()</strong></code>&nbsp; function returns &nbsp;&nbsp;<span style=\"background-color: #FFFFBA; padding: 5px;\"><code style=\"background-color: #efd0ff;\">True</code>&nbsp; if any number in the array is nonzero</span> &nbsp;or&nbsp; &nbsp;<span style=\"background-color: #FFFFBA; padding: 5px;\"><code style=\"background-color: #efd0ff;\">False</code>&nbsp; if all numbers are zero</span>.</div>\n",
    "</div>\n",
    "\n",
    "<br><br>\n",
    "\n",
    "<code style=\"color: white; background-color: black;\">Example - 1</code> &nbsp;<span style=\"color: #2fbd0b;\">1D array</span>\n"
   ]
  },
  {
   "cell_type": "code",
   "execution_count": 107,
   "id": "0ff53aa8-329a-46af-be71-96425adeb319",
   "metadata": {},
   "outputs": [
    {
     "name": "stdout",
     "output_type": "stream",
     "text": [
      "True\n"
     ]
    }
   ],
   "source": [
    "\n",
    "result = np.any([0, 1, 2, 3])\n",
    "print(result)\n"
   ]
  },
  {
   "cell_type": "code",
   "execution_count": 108,
   "id": "cc349b0d-74cf-47b3-85cb-861f8b6d9fda",
   "metadata": {},
   "outputs": [
    {
     "name": "stdout",
     "output_type": "stream",
     "text": [
      "False\n"
     ]
    }
   ],
   "source": [
    "\n",
    "result = np.any(np.array([0, 0]))\n",
    "print(result)\n"
   ]
  },
  {
   "cell_type": "markdown",
   "id": "8253929f-0b4b-4168-aed8-5c042d87c32d",
   "metadata": {},
   "source": [
    "<span style=\"color: #a245ff;\">You can pass an array-like object e.g., a <span style=\"color: blue;\"><strong>list</strong></span> to the &nbsp;<code style=\"background-color: #ffff2d; color: red; font-size: 1rem;\"><strong>any()</strong></code>&nbsp; function</span>"
   ]
  },
  {
   "cell_type": "code",
   "execution_count": 110,
   "id": "74272d3c-5ade-4d9d-b247-f949659a4071",
   "metadata": {},
   "outputs": [
    {
     "name": "stdout",
     "output_type": "stream",
     "text": [
      "False\n"
     ]
    }
   ],
   "source": [
    "\n",
    "result = np.any([0, 0])\n",
    "print(result)\n"
   ]
  },
  {
   "cell_type": "markdown",
   "id": "e20adb40-4366-4158-bdc0-a6601af3a383",
   "metadata": {},
   "source": [
    "<br>\n",
    "\n",
    "<code style=\"color: white; background-color: black;\">Example - 2</code> &nbsp;<span style=\"color: #2fbd0b;\">2D array</span>\n",
    "\n",
    "<u><span style=\"color: #a245ff;\">Case-1 :</span></u> &nbsp;&nbsp;<span style=\"color: red;\">axis = None</span> &nbsp;<span style=\"color: blue;\">(default)</span>"
   ]
  },
  {
   "cell_type": "code",
   "execution_count": 111,
   "id": "df8c4b4b-d377-4432-aff6-8361d266c7f1",
   "metadata": {},
   "outputs": [
    {
     "name": "stdout",
     "output_type": "stream",
     "text": [
      "True\n"
     ]
    }
   ],
   "source": [
    "\n",
    "a = np.array([[0, 1], [2, 3]])\n",
    "result = np.any(a)\n",
    "print(result)\n"
   ]
  },
  {
   "cell_type": "markdown",
   "id": "7a199e53-aa06-4cee-a2f9-14ce1ac45392",
   "metadata": {},
   "source": [
    "<u><span style=\"color: #a245ff;\">Case-2 :</span></u> &nbsp;&nbsp;<span style=\"color: red;\">axis = 0</span>"
   ]
  },
  {
   "cell_type": "code",
   "execution_count": 113,
   "id": "74b7702a-01a1-48aa-a074-650df497c403",
   "metadata": {},
   "outputs": [
    {
     "name": "stdout",
     "output_type": "stream",
     "text": [
      "[False  True]\n"
     ]
    }
   ],
   "source": [
    "\n",
    "a = np.array([\n",
    "    [0, 0],\n",
    "    [0, 1]\n",
    "])\n",
    "result = np.any(a, axis=0)\n",
    "print(result)\n"
   ]
  },
  {
   "cell_type": "markdown",
   "id": "8e0c20ca-d391-48b2-9395-dc2d1c277541",
   "metadata": {},
   "source": [
    "<u><span style=\"color: #a245ff;\">Case-3 :</span></u> &nbsp;&nbsp;<span style=\"color: red;\">axis = 1</span>"
   ]
  },
  {
   "cell_type": "code",
   "execution_count": 114,
   "id": "c93f9f5d-0797-4852-b3a9-39ad41d70a7d",
   "metadata": {},
   "outputs": [
    {
     "name": "stdout",
     "output_type": "stream",
     "text": [
      "[False  True]\n"
     ]
    }
   ],
   "source": [
    "\n",
    "a = np.array([\n",
    "    [0, 0],\n",
    "    [0, 1]\n",
    "])\n",
    "result = np.any(a, axis=1)\n",
    "print(result)\n"
   ]
  },
  {
   "cell_type": "markdown",
   "id": "1006255a-a1bf-4cc7-bfdb-a7afe53e82e8",
   "metadata": {
    "jp-MarkdownHeadingCollapsed": true
   },
   "source": [
    "<br>\n",
    "\n",
    "### <div style=\"color: white; background-color: #af87ff; padding: 5px;\"> <code style=\"font-size: 1.2rem; background-color: #af87ff; color: white;\"><strong>numpy.where()</strong></code> </div>\n"
   ]
  },
  {
   "cell_type": "markdown",
   "id": "ae008ede-3606-4337-8fd1-5f19078a3222",
   "metadata": {},
   "source": [
    "\n",
    "<code>numpy.where(condition, [x, y])</code>\n",
    "\n",
    "\n",
    "\n",
    "<code style=\"background-color: yellow;\">numpy.<span style=\"color: red;\"><span style=\"font-size: 1rem;\"><strong>where(</strong></span></span>condition<span style=\"font-size: 1rem; color: red;\"><strong>)</strong></span>      </code> &nbsp;:&nbsp;&nbsp; Returns the indices where the condition is &nbsp;<code style=\"background-color: #efd0ff;\">True</code>\n",
    "\n",
    "<code style=\"background-color: #ffff5f;\">numpy.<span style=\"color: red;\"><span style=\"font-size: 1rem;\"><strong>where(</strong></span></span>condition, x, y<span style=\"font-size: 1rem; color: red;\"><strong>)</strong></span></code> &nbsp;:&nbsp;&nbsp; Returns an array where elements are chosen from &nbsp;<code style=\"background-color: #efd0ff;\">x</code>&nbsp; if the condition is &nbsp;<code style=\"background-color: #efd0ff;\">True</code>&nbsp;, otherwise from &nbsp;<code style=\"background-color: #efd0ff;\">y</code>\n",
    "\n",
    "<br>\n",
    "\n",
    "<code style=\"color: white; background-color: black;\">Example - 1</code> &nbsp;&nbsp;<span style=\"color: #a245ff;\">Find indices in the <strong>1D array</strong> below where the elements are greater than 20</span>\n"
   ]
  },
  {
   "cell_type": "code",
   "execution_count": 39,
   "id": "6577d0bc-39e8-4c0b-b762-ffa16bc517f0",
   "metadata": {},
   "outputs": [
    {
     "name": "stdout",
     "output_type": "stream",
     "text": [
      "(array([3, 4], dtype=int64),)\n"
     ]
    }
   ],
   "source": [
    "\n",
    "arr = np.array([10, 15, 20, 25, 30])                      # 1D array\n",
    "\n",
    "indices = np.where(arr > 20)\n",
    "print(indices)\n"
   ]
  },
  {
   "cell_type": "markdown",
   "id": "919b6128-b312-4673-9e6a-27a1c54c4613",
   "metadata": {},
   "source": [
    "<br>\n",
    "\n",
    "<code style=\"color: white; background-color: black;\">Example - 2</code> &nbsp;&nbsp;<span style=\"color: #a245ff;\">Replace values greater than 20 with 1, and others with 0</span>\n"
   ]
  },
  {
   "cell_type": "code",
   "execution_count": 33,
   "id": "109afb0c-195c-417e-8005-0135adbb5a47",
   "metadata": {},
   "outputs": [
    {
     "name": "stdout",
     "output_type": "stream",
     "text": [
      "[0 0 0 1 1]\n"
     ]
    }
   ],
   "source": [
    "\n",
    "arr = np.array([10, 15, 20, 25, 30])                      # 1D array\n",
    "\n",
    "result = np.where(arr > 20, 1, 0)\n",
    "print(result)\n"
   ]
  },
  {
   "cell_type": "markdown",
   "id": "57a6e935-76ea-46c4-867e-f6c59b2c8ee0",
   "metadata": {},
   "source": [
    "<br>\n",
    "\n",
    "<code style=\"color: white; background-color: black;\">Example - 3</code> &nbsp;&nbsp;<span style=\"color: #a245ff;\">Replace values lesser than 20 with -1, otherwise unchanged</span>\n"
   ]
  },
  {
   "cell_type": "code",
   "execution_count": 34,
   "id": "cff98f19-b61b-4693-a316-bf856ff5c68d",
   "metadata": {},
   "outputs": [
    {
     "name": "stdout",
     "output_type": "stream",
     "text": [
      "[-1 -1 -1 25 30]\n"
     ]
    }
   ],
   "source": [
    "\n",
    "arr = np.array([10, 15, 20, 25, 30])\n",
    "result = np.where(arr > 20, arr, -1)                      # It is same as  ---->   np.where(arr <= 20, -1, arr)\n",
    "print(result)\n"
   ]
  },
  {
   "cell_type": "markdown",
   "id": "a93bf573-62ec-4ed8-bba1-c4319b8c67ac",
   "metadata": {},
   "source": [
    "<br>\n",
    "\n",
    "<code style=\"color: white; background-color: black;\">Example - 4</code> &nbsp;&nbsp;<span style=\"color: #a245ff;\">Selecting between two arrays</span>\n"
   ]
  },
  {
   "cell_type": "code",
   "execution_count": 41,
   "id": "64c9b645-cf7c-4959-9031-4171b8e078c0",
   "metadata": {},
   "outputs": [
    {
     "name": "stdout",
     "output_type": "stream",
     "text": [
      "[10 20 30  4  5]\n"
     ]
    }
   ],
   "source": [
    "\n",
    "arr1 = np.array([1, 2, 3, 4, 5])\n",
    "arr2 = np.array([10, 20, 30, 40, 50])\n",
    "condition = x > 3\n",
    "\n",
    "\n",
    "result = np.where(condition, arr1, arr2)                  # condition if true then select from  array x, otherise frm the array y\n",
    "print(result)\n"
   ]
  },
  {
   "cell_type": "markdown",
   "id": "c5d69fa8-859f-4643-ba1f-059986a26f6e",
   "metadata": {},
   "source": [
    "<br>\n",
    "\n",
    "<code style=\"color: white; background-color: black;\">Example - 5</code> &nbsp;&nbsp;<span style=\"color: #a245ff;\">Find the indices in the <strong>2D array</strong> below where the elements are greater than 5</span>\n"
   ]
  },
  {
   "cell_type": "code",
   "execution_count": 36,
   "id": "7c4abcaf-88fb-4f1f-b850-18728ac0c38d",
   "metadata": {},
   "outputs": [
    {
     "name": "stdout",
     "output_type": "stream",
     "text": [
      "(array([1, 2, 2, 2], dtype=int64), array([2, 0, 1, 2], dtype=int64))\n"
     ]
    }
   ],
   "source": [
    "\n",
    "arr = np.array([[1, 2, 3], \n",
    "                [4, 5, 6], \n",
    "                [7, 8, 9]])                               # Multi-Dimensional Array\n",
    "\n",
    "\n",
    "indices = np.where(arr > 5)\n",
    "print(indices)                                            # OUTPUT: (array([1, 2, 2, 2], dtype=int64), array([2, 0, 1, 2], dtype=int64))\n",
    "                                                          # resultant coordinates = (1,2) , (2,0) , (2,1) , (2,2) \n"
   ]
  },
  {
   "cell_type": "markdown",
   "id": "ac5ab562-1034-440f-a21a-b27aff40c138",
   "metadata": {},
   "source": [
    "<br>\n",
    "\n",
    "<code style=\"color: white; background-color: black;\">Example - 6</code> &nbsp;&nbsp;<span style=\"color: #a245ff;\"><u>Filter & Replace</u> negative values with 0</span>\n"
   ]
  },
  {
   "cell_type": "code",
   "execution_count": 37,
   "id": "529f948b-0738-41dd-b8fe-4c8ebfa5dadc",
   "metadata": {},
   "outputs": [
    {
     "name": "stdout",
     "output_type": "stream",
     "text": [
      "[3 0 5 0 7]\n"
     ]
    }
   ],
   "source": [
    "\n",
    "arr = np.array([3, -1, 5, -2, 7])\n",
    "\n",
    "modified_arr = np.where(arr < 0, 0, arr)                  # All negative values (-1 and -2) are replaced with 0, while the other values remain unchanged\n",
    "print(modified_arr)\n"
   ]
  },
  {
   "cell_type": "markdown",
   "id": "33781451-537e-4c6f-b290-5cfe4f9475f5",
   "metadata": {},
   "source": [
    "<br>\n",
    "\n",
    "<code style=\"color: white; background-color: black;\">Example - 7</code> &nbsp;&nbsp;<span style=\"color: #a245ff;\">Real world use case in <span style=\"color: red;\">data cleaning</span></span>\n"
   ]
  },
  {
   "cell_type": "code",
   "execution_count": 38,
   "id": "26fa27c0-98d1-4f37-b982-92915c00e185",
   "metadata": {},
   "outputs": [
    {
     "name": "stdout",
     "output_type": "stream",
     "text": [
      "[45.         63.33333333 56.         63.33333333 89.        ]\n"
     ]
    }
   ],
   "source": [
    "\n",
    "data = np.array([45, np.nan, 56, np.nan, 89])\n",
    "\n",
    "\n",
    "mean_value = np.nanmean(data)\n",
    "clean_data = np.where(np.isnan(data), mean_value, data)               # Replace NaN values with the mean of the data\n",
    "print(clean_data)\n"
   ]
  },
  {
   "cell_type": "markdown",
   "id": "bfc81d90-6783-4446-b033-e2d01171a875",
   "metadata": {
    "jp-MarkdownHeadingCollapsed": true
   },
   "source": [
    "<br>\n",
    "\n",
    "### <div style=\"color: white; background-color: #af87ff; padding: 5px;\"> <code style=\"font-size: 1.2rem; background-color: #af87ff; color: white;\"><strong>numpy.select()</strong></code> </div>\n"
   ]
  },
  {
   "cell_type": "markdown",
   "id": "018aa4d7-e1db-4b55-ac71-a4a0f028490c",
   "metadata": {},
   "source": [
    "\n",
    "<code style=\"background-color: yellow; padding: 6px;\">numpy.<span style=\"color: red;\"><span style=\"font-size: 1rem;\"><strong>select<span style=\"font-size: 1rem;\">(</span></strong></span><span style=\"color: black;\">list_of_conditions</span>, <span style=\"color: black;\">list_of_choices</span>, <span style=\"color: black;\">default</span><span style=\"color: #9b96a1;\">=0</span><span style=\"font-size: 1rem;\"><strong>)</strong></span></code> \n",
    "\n",
    "<div style=\"margin-left: 30px; margin-top: 30px;\">\n",
    "    \n",
    "- Conditions are checked in order, and the first matching condition is used.\n",
    "\n",
    "- All arrays in choicelist must have the <span style=\"color: blue;\">same shape</span> as the arrays in condlist or be <span style=\"color: blue;\">broadcastable</span> to that shape.\n",
    "\n",
    "</div>\n",
    "\n",
    "<br>\n",
    "\n",
    "<code style=\"background-color: black; color: white;\">Example - 1</code> &nbsp;&nbsp;- &nbsp;&nbsp;<span style=\"color: red;\">Basic Usage</span>"
   ]
  },
  {
   "cell_type": "code",
   "execution_count": 42,
   "id": "eb5f7af5-8d7c-4993-9065-3ae80c5b83ce",
   "metadata": {},
   "outputs": [
    {
     "name": "stdout",
     "output_type": "stream",
     "text": [
      "[1 2 2 3 3]\n"
     ]
    }
   ],
   "source": [
    "\n",
    "arr = np.array([10, 20, 30, 40, 50])\n",
    "\n",
    "\n",
    "conditions = [arr < 20, (arr >= 20) & (arr < 40), arr >= 40]                      # Conditions\n",
    "\n",
    "\n",
    "choices = [1, 2, 3]                                                               # Choices based on conditions\n",
    "\n",
    "\n",
    "result = np.select(conditions, choices, default=-1)\n",
    "print(result)\n"
   ]
  },
  {
   "cell_type": "markdown",
   "id": "8e855f0f-38b2-4476-9a2f-94acb62a2163",
   "metadata": {},
   "source": [
    "<br>\n",
    "\n",
    "<div style=\"margin-left: 60px;\">\n",
    "          \n",
    "<strong><u>Explanation</u> :</strong> <br>\n",
    "- <code>arr < 20</code> &nbsp;=========================================> &nbsp;&nbsp;Maps to <code>1</code>\n",
    "- <code>(arr >= 20) & (arr < 40)</code> &nbsp;============================> &nbsp;&nbsp;Maps to <code>2</code>\n",
    "- <code>arr >= 40</code> &nbsp;========================================> &nbsp;&nbsp;Maps to <code>3</code>\n",
    "- If no conditions are true (not applicable here), &nbsp;the default value (-1) is used.\n",
    "\n",
    "</div>\n",
    "\n",
    "<br>\n",
    "\n",
    "<code style=\"background-color: black; color: white;\">Example - 2</code> &nbsp;&nbsp;- &nbsp;&nbsp;<span style=\"color: red;\">Multiple Conditions with Default</span>"
   ]
  },
  {
   "cell_type": "code",
   "execution_count": 47,
   "id": "3fd5ea2a-eebe-41ca-a0c8-c819c7c16797",
   "metadata": {},
   "outputs": [
    {
     "name": "stdout",
     "output_type": "stream",
     "text": [
      "[-1  0  1  1  1]\n"
     ]
    }
   ],
   "source": [
    "\n",
    "arr = np.array([-10, 0, 10, 20, 30])\n",
    "\n",
    "\n",
    "conditions = [arr < 0, arr == 0, arr > 0]\n",
    "choices = [-1, 0, 1]\n",
    "\n",
    "\n",
    "result = np.select(conditions, choices, default=99)\n",
    "print(result)\n"
   ]
  },
  {
   "cell_type": "markdown",
   "id": "0a6ab266-430a-4eb7-8e1a-fa6cfd6a431f",
   "metadata": {},
   "source": [
    "<br>\n",
    "\n",
    "<span style=\"color: red; margin-left: 125px;\">Using Default</span> &nbsp;&nbsp;- &nbsp;&nbsp;<span style=\"color: #a245ff;\">If none of the conditions match, default fills those positions.</span>"
   ]
  },
  {
   "cell_type": "code",
   "execution_count": 48,
   "id": "6ea8d63c-e7a6-48a8-a3db-51824a8df994",
   "metadata": {},
   "outputs": [
    {
     "name": "stdout",
     "output_type": "stream",
     "text": [
      "[0 0 0 1]\n"
     ]
    }
   ],
   "source": [
    "\n",
    "arr = np.array([10, 15, 20, 25])\n",
    "\n",
    "\n",
    "conditions = [arr < 10, arr > 20]\n",
    "choices = [-1, 1]\n",
    "\n",
    "\n",
    "result = np.select(conditions, choices, default=0)\n",
    "print(result)\n"
   ]
  },
  {
   "cell_type": "markdown",
   "id": "497a2590-3fc5-49b1-8e82-6890a8ac215c",
   "metadata": {},
   "source": [
    "<br>\n",
    "\n",
    "<code style=\"background-color: black; color: white;\">Example - 3</code> &nbsp;&nbsp;- &nbsp;&nbsp;<span style=\"color: red;\">Applying Custom Functions</span>\n",
    "\n",
    "<span style=\"color: #a245ff; margin-left: 124px;\">You can use more complex logic or apply functions in choicelist.</span>"
   ]
  },
  {
   "cell_type": "code",
   "execution_count": 50,
   "id": "743c3b04-fb6d-4436-9e83-7539c4b1bd32",
   "metadata": {},
   "outputs": [
    {
     "name": "stdout",
     "output_type": "stream",
     "text": [
      "[  1   4  27  16 125]\n"
     ]
    }
   ],
   "source": [
    "\n",
    "arr = np.array([1, 2, 3, 4, 5])\n",
    "\n",
    "\n",
    "conditions = [arr % 2 == 0, arr % 2 != 0]\n",
    "choices = [arr**2, arr**3]                                           # Even numbers squared, odd numbers cubed\n",
    "\n",
    "\n",
    "result = np.select(conditions, choices)\n",
    "print(result)\n"
   ]
  },
  {
   "cell_type": "markdown",
   "id": "3ba9b0f5-2e15-4a5a-a727-264a06da6116",
   "metadata": {},
   "source": [
    "<br>\n",
    "\n",
    "<code style=\"background-color: black; color: white;\">Example - 4</code> &nbsp;&nbsp;- &nbsp;&nbsp;<span style=\"color: red;\">Broadcastable Inputs</span>\n",
    "\n",
    "<span style=\"color: #a245ff; margin-left: 124px;\"><code>np.select()</code> &nbsp;supports broadcasting for condlist and choicelist.</span>\n"
   ]
  },
  {
   "cell_type": "code",
   "execution_count": 52,
   "id": "c22a21cb-f9f1-48e2-9d95-83ecdb7e4d1d",
   "metadata": {},
   "outputs": [
    {
     "name": "stdout",
     "output_type": "stream",
     "text": [
      "[[0 0]\n",
      " [1 1]]\n"
     ]
    }
   ],
   "source": [
    "\n",
    "arr = np.array([[10, 20], \n",
    "                [30, 40]])\n",
    "\n",
    "\n",
    "conditions = [arr < 25, arr >= 25]\n",
    "choices = [0, 1]                                                      # Scalars, broadcasted across the array\n",
    "\n",
    "\n",
    "result = np.select(conditions, choices)\n",
    "print(result)\n"
   ]
  },
  {
   "cell_type": "markdown",
   "id": "b7364021-055d-4f54-b428-785d8f0e6e87",
   "metadata": {},
   "source": [
    "<br>\n",
    "\n",
    "<div style=\"margin-left: 125px;\">\n",
    "\n",
    "![](../media/numpy_select_where_difference.PNG)\n",
    "\n",
    "</div>\n"
   ]
  },
  {
   "cell_type": "markdown",
   "id": "2dbae217-d23b-4591-b8a4-9c2e56623937",
   "metadata": {
    "jp-MarkdownHeadingCollapsed": true
   },
   "source": [
    "<br>\n",
    "\n",
    "### <div style=\"color: white; background-color: #af87ff; padding: 5px;\"> <code style=\"font-size: 1.2rem; background-color: #af87ff; color: white;\"><strong>numpy.unique()</strong></code> </div>\n"
   ]
  },
  {
   "cell_type": "markdown",
   "id": "40680051-bcbd-4f48-8033-ff979a69a308",
   "metadata": {},
   "source": [
    "<code style=\"background-color: yellow;\">numpy.<span style=\"color: red; font-size: 1rem;\"><strong>unique()</strong></span></code> &nbsp;&nbsp;&nbsp;===>&nbsp;&nbsp; filters out the duplicate elements and return a subarray with no duplicate elements \n",
    "\n",
    "<br>\n",
    "\n",
    "<code style=\"color: white; background-color: black;\">Example - 1</code>"
   ]
  },
  {
   "cell_type": "code",
   "execution_count": 48,
   "id": "7a379bf2-907e-4607-b9b1-85572d0cc343",
   "metadata": {},
   "outputs": [
    {
     "data": {
      "text/plain": [
       "array([1, 2, 3])"
      ]
     },
     "execution_count": 48,
     "metadata": {},
     "output_type": "execute_result"
    }
   ],
   "source": [
    "\n",
    "arr = np.array([1, 2, 3, 1])                             # 1D array\n",
    "\n",
    "unique_elements = np.unique(arr)                         # accessing unique elements via ufunc \"np.unique\" is more streamlined and quicker\n",
    "unique_elements\n"
   ]
  },
  {
   "cell_type": "markdown",
   "id": "3755db63-652e-4aad-bbf4-1333cd7aab6f",
   "metadata": {},
   "source": [
    "<br>\n",
    "\n",
    "<code style=\"color: white; background-color: black;\">Example - 2</code>"
   ]
  },
  {
   "cell_type": "code",
   "execution_count": 49,
   "id": "55f3ed68-bf1b-457d-90f1-30491186237c",
   "metadata": {},
   "outputs": [
    {
     "data": {
      "text/plain": [
       "array([1, 3, 4, 5])"
      ]
     },
     "execution_count": 49,
     "metadata": {},
     "output_type": "execute_result"
    }
   ],
   "source": [
    "\n",
    "arr = np.array([[1, 5, 3], \n",
    "                [4, 5, 5]])                              # 2D array\n",
    "\n",
    "unique_elements = np.unique(arr)                         # accessing unique elements via ufunc \"np.unique\" is more streamlined and quicker\n",
    "unique_elements\n"
   ]
  },
  {
   "cell_type": "markdown",
   "id": "2dfce6eb-e912-4946-880f-bc22f297adc7",
   "metadata": {
    "jp-MarkdownHeadingCollapsed": true
   },
   "source": [
    "<br>\n",
    "\n",
    "### <div style=\"color: white; background-color: #af87ff; padding: 5px;\"> <code style=\"font-size: 1.2rem; background-color: #af87ff; color: white;\"><strong>numpy.nonzero()</strong></code> </div>\n"
   ]
  },
  {
   "cell_type": "markdown",
   "id": "4dfa5b92-a5ec-4426-a7d0-f457e9d1b38e",
   "metadata": {},
   "source": [
    "<code style=\"background-color: yellow;\">numpy.<span style=\"color: red; font-size: 1rem;\"><strong>nonzero()</strong></span></code> &nbsp;&nbsp;&nbsp;===>&nbsp;&nbsp;  Return the indices that are nonzero\n",
    "\n",
    "<br>\n",
    "\n",
    "<code style=\"color: white; background-color: black;\">Example - 1</code>"
   ]
  },
  {
   "cell_type": "code",
   "execution_count": 51,
   "id": "6b208d61-96e3-4d3d-90e9-6d367fa5c753",
   "metadata": {},
   "outputs": [
    {
     "data": {
      "text/plain": [
       "array([[3, 0, 0],\n",
       "       [0, 4, 0],\n",
       "       [5, 6, 0]])"
      ]
     },
     "execution_count": 51,
     "metadata": {},
     "output_type": "execute_result"
    }
   ],
   "source": [
    "\n",
    "x = np.array([[3, 0, 0], \n",
    "              [0, 4, 0], \n",
    "              [5, 6, 0]])\n",
    "\n",
    "x\n"
   ]
  },
  {
   "cell_type": "markdown",
   "id": "3df6ae4c-508f-4883-b0f5-6c87ee5408f2",
   "metadata": {},
   "source": [
    "<br>\n",
    "\n",
    "<code style=\"color: white; background-color: black;\">Example - 2</code>\n",
    "\n",
    "<span style=\"font-size: 1.5rem;\">⭐</span> &nbsp;A common use for <span style=\"color: red;\">nonzero</span> is <u>to find the indices of an array, where a condition is **True**</u>\n"
   ]
  },
  {
   "cell_type": "code",
   "execution_count": 132,
   "id": "c75d05a4-c071-4204-bcc9-43468f9e8db7",
   "metadata": {},
   "outputs": [
    {
     "data": {
      "text/plain": [
       "array([[False, False, False],\n",
       "       [ True,  True,  True],\n",
       "       [ True,  True,  True]])"
      ]
     },
     "execution_count": 132,
     "metadata": {},
     "output_type": "execute_result"
    }
   ],
   "source": [
    "\n",
    "a = np.array([[1, 2, 3], \n",
    "              [4, 5, 6], \n",
    "              [7, 8, 9]])\n",
    "\n",
    "a > 3\n"
   ]
  },
  {
   "cell_type": "markdown",
   "id": "30b1a90d-d6f6-4431-9b1e-e0d65c53500e",
   "metadata": {},
   "source": [
    "<br>\n",
    "\n",
    "<strong><span style=\"color: #a245ff;\"><u>METHOD - 1</u></span></strong>"
   ]
  },
  {
   "cell_type": "code",
   "execution_count": 133,
   "id": "76976220-03b5-4e9e-9a4b-83c7c7b0f297",
   "metadata": {},
   "outputs": [
    {
     "data": {
      "text/plain": [
       "(array([1, 1, 1, 2, 2, 2], dtype=int64),\n",
       " array([0, 1, 2, 0, 1, 2], dtype=int64))"
      ]
     },
     "execution_count": 133,
     "metadata": {},
     "output_type": "execute_result"
    }
   ],
   "source": [
    "\n",
    "np.nonzero(a > 3)                             # (1,0) , (1,1) , (1,2) , (2,0) , (2,1) , (2,2)\n"
   ]
  },
  {
   "cell_type": "code",
   "execution_count": 134,
   "id": "2ab37813-c61d-4c28-af05-ff2c6e7ad074",
   "metadata": {},
   "outputs": [
    {
     "data": {
      "text/plain": [
       "array([1, 1, 1, 2, 2, 2], dtype=int64)"
      ]
     },
     "execution_count": 134,
     "metadata": {},
     "output_type": "execute_result"
    }
   ],
   "source": [
    "\n",
    "np.nonzero(a > 3)[0]\n"
   ]
  },
  {
   "cell_type": "code",
   "execution_count": 135,
   "id": "c7a71b75-0ca7-4fb0-aa17-e22024439a3c",
   "metadata": {},
   "outputs": [
    {
     "data": {
      "text/plain": [
       "array([0, 1, 2, 0, 1, 2], dtype=int64)"
      ]
     },
     "execution_count": 135,
     "metadata": {},
     "output_type": "execute_result"
    }
   ],
   "source": [
    "\n",
    "np.nonzero(a > 3)[1]\n"
   ]
  },
  {
   "cell_type": "markdown",
   "id": "038c667d-65e3-4fcb-ad35-4a48a30cf982",
   "metadata": {},
   "source": [
    "<br>\n",
    "\n",
    "<span style=\"color: blue;\">To combine the row and column indices into coordinate pairs, you can use</span> &nbsp;<code style=\"background-color: yellow;\">list(zip(...))</code>"
   ]
  },
  {
   "cell_type": "code",
   "execution_count": 136,
   "id": "f2341291-d6bd-4ebe-ab24-3d4a82fed63c",
   "metadata": {},
   "outputs": [
    {
     "name": "stdout",
     "output_type": "stream",
     "text": [
      "[(1, 0), (1, 1), (1, 2), (2, 0), (2, 1), (2, 2)]\n"
     ]
    }
   ],
   "source": [
    "\n",
    "non_zero_indices = np.nonzero(a > 3)\n",
    "\n",
    "# Convert to a list of coordinate pairs\n",
    "coordinates = list(zip(non_zero_indices[0], non_zero_indices[1]))\n",
    "\n",
    "print(coordinates)\n"
   ]
  },
  {
   "cell_type": "markdown",
   "id": "655b205b-7ede-4cff-ae39-426a62bf04b4",
   "metadata": {},
   "source": [
    "<br>\n",
    "\n",
    "<strong><span style=\"color: #a245ff;\"><u>METHOD - 2</u></span></strong>"
   ]
  },
  {
   "cell_type": "code",
   "execution_count": 65,
   "id": "69fcac38-b1bd-465c-9608-8d1129389058",
   "metadata": {},
   "outputs": [
    {
     "data": {
      "text/plain": [
       "(array([1, 1, 1, 2, 2, 2], dtype=int64),\n",
       " array([0, 1, 2, 0, 1, 2], dtype=int64))"
      ]
     },
     "execution_count": 65,
     "metadata": {},
     "output_type": "execute_result"
    }
   ],
   "source": [
    "\n",
    "(a > 3).nonzero()                             # (1,0) , (1,1) , (1,2) , (2,0) , (2,1) , (2,2)\n"
   ]
  },
  {
   "cell_type": "markdown",
   "id": "ce1b9861-3554-4d3f-911b-906d39d5ca95",
   "metadata": {},
   "source": [
    "<br>\n",
    "\n",
    "<span style=\"color: #a245ff;\">To find all the elements in the array a greater than 3 :</span>"
   ]
  },
  {
   "cell_type": "code",
   "execution_count": 67,
   "id": "1ff87aa6-9fe0-448d-a6e5-9b9ce70d99b1",
   "metadata": {},
   "outputs": [
    {
     "data": {
      "text/plain": [
       "array([4, 5, 6, 7, 8, 9])"
      ]
     },
     "execution_count": 67,
     "metadata": {},
     "output_type": "execute_result"
    }
   ],
   "source": [
    "\n",
    "a = np.array([[1, 2, 3], \n",
    "              [4, 5, 6], \n",
    "              [7, 8, 9]])\n",
    "\n",
    "a[np.nonzero(a > 3)]\n"
   ]
  },
  {
   "cell_type": "markdown",
   "id": "3fbc158b-b0cd-4cb9-a4a6-aa36b1ccf84d",
   "metadata": {
    "jp-MarkdownHeadingCollapsed": true
   },
   "source": [
    "\n",
    "<br>\n",
    "\n",
    "### <div style=\"color: white; background-color: #af87ff; padding: 5px;\"> <code style=\"font-size: 1.2rem; background-color: #af87ff; color: white;\"><strong>numpy.diff()</strong></code> </div>\n"
   ]
  },
  {
   "cell_type": "markdown",
   "id": "42cb985a-d6f9-4ecc-8a26-ff56ca0b7689",
   "metadata": {},
   "source": [
    "\n",
    "<code style=\"background-color: yellow; padding: 6px;\">numpy.<span style=\"color: red;\"><span style=\"font-size: 1rem;\"><strong>diff(</strong></span><span style=\"color: black;\">arr</span>, <span style=\"color: black;\">n</span><span style=\"color: #9b96a1;\">=1</span>, <span style=\"color: black;\">axis</span><span style=\"color: #9b96a1;\">=-1</span><span style=\"font-size: 1rem;\">, <span style=\"color: black;\">prepend</span><span style=\"color: #9b96a1;\">=\\<no value></span>, <span style=\"color: black;\">append</span><span style=\"color: #9b96a1;\">=\\<no value></span><strong>)</strong></span></code>\n",
    "\n",
    "<br>\n",
    "\n",
    "<div style=\"margin-left: 75px;\">\n",
    "\n",
    "<span style=\"color: blue;\">It calculates the <strong>n-th discrete difference</strong> along a specified axis of an array and returns an array of differences.</span> <br>\n",
    "<span style=\"color: blue;\">It is commonly used to find differences between adjacent elements of an array.</span>\n",
    "\n",
    "\n",
    "<code style=\"background-color: #cdfffa;\">a      </code>&nbsp;&nbsp;<span style=\"font-size: 0.9rem;\">===========</span>====>&nbsp;&nbsp; The input array   <br>\n",
    "<code style=\"background-color: #cdfffa;\">n      </code>&nbsp;&nbsp; <strong>(optional)</strong> &nbsp;&nbsp;=======>&nbsp;&nbsp; The number of times differences are taken. Default is <code>1</code>   <br>\n",
    "<code style=\"background-color: #cdfffa;\">axis   </code>&nbsp;&nbsp; <strong>(optional)</strong> &nbsp;&nbsp;=======>&nbsp;&nbsp; The axis along which the difference is computed. Default is the <strong>last axis</strong> ( <code>-1</code> )   <br>\n",
    "<code style=\"background-color: #cdfffa;\">prepend</code>&nbsp;&nbsp; <strong>(optional)</strong> &nbsp;&nbsp;=======>&nbsp;&nbsp; Values to prepend to the array before computing the differences               <br>\n",
    "<code style=\"background-color: #cdfffa;\">append </code>&nbsp;&nbsp; <strong>(optional)</strong> &nbsp;&nbsp;=======>&nbsp;&nbsp; Values to append to the array after computing the differences                  <br>\n",
    "\n",
    "<br>\n",
    "\n",
    "<u>NOTE</u> &nbsp;-&nbsp; The shape of the result depends on the input shape, the axis, and the number of differences ( <code>n</code> )\n",
    "\n",
    "</div>\n",
    "\n",
    "<br>\n",
    "\n",
    "<code style=\"background-color: black; color: white;\">Example - 1</code> &nbsp;&nbsp;&nbsp;=====>&nbsp;&nbsp; <span style=\"color: red;\">Basic &nbsp;Difference</span>"
   ]
  },
  {
   "cell_type": "code",
   "execution_count": 17,
   "id": "528dee14-bbde-4d51-adc6-9d70a1dbd7a0",
   "metadata": {},
   "outputs": [
    {
     "name": "stdout",
     "output_type": "stream",
     "text": [
      "[10 10 10]\n"
     ]
    }
   ],
   "source": [
    "\n",
    "arr = np.array([10, 20, 30, 40])\n",
    "result = np.diff(arr)\n",
    "print(result)\n"
   ]
  },
  {
   "cell_type": "markdown",
   "id": "f5ecf3dd-9fdf-43a8-8fa2-d45242128b50",
   "metadata": {},
   "source": [
    "<div style=\"color: #c658fc;; margin-left: 40px;\">\n",
    "\n",
    "Differences are calculated as :     <br>\n",
    "- <code style=\"margin-left: 5px;\">20 - 10 = 10</code>          <br>\n",
    "- <code style=\"margin-left: 5px;\">30 - 20 = 10</code>          <br>\n",
    "- <code style=\"margin-left: 5px;\">40 - 30 = 10</code>\n",
    "\n",
    "</div>"
   ]
  },
  {
   "cell_type": "markdown",
   "id": "b58dc995-5f84-4f23-8d58-91217f35f253",
   "metadata": {},
   "source": [
    "<br>\n",
    "\n",
    "<code style=\"background-color: black; color: white;\">Example - 2</code> &nbsp;&nbsp;&nbsp;=====>&nbsp;&nbsp; <span style=\"color: red;\">Higher-Order &nbsp;Differences &nbsp;( <code>n > 1</code> )</span>\n"
   ]
  },
  {
   "cell_type": "code",
   "execution_count": 19,
   "id": "da7bb01f-363e-4ae0-bddf-d5030286a282",
   "metadata": {},
   "outputs": [
    {
     "name": "stdout",
     "output_type": "stream",
     "text": [
      "[0 0]\n"
     ]
    }
   ],
   "source": [
    "\n",
    "arr = np.array([10, 20, 30, 40])\n",
    "result = np.diff(arr, n=2)\n",
    "print(result)\n"
   ]
  },
  {
   "cell_type": "markdown",
   "id": "9001ae22-f6b6-4c32-ac78-b40e61607885",
   "metadata": {},
   "source": [
    "<div style=\"color: #c658fc;; margin-left: 40px;\">\n",
    "\n",
    "- First-order differences &nbsp;&nbsp;=========>&nbsp;&nbsp; <code>[10, 10, 10]</code>\n",
    "- Second-order differences &nbsp;&nbsp;=======>&nbsp;&nbsp; <code>[10 - 10, 10 - 10]</code> &nbsp;=&nbsp; <code>[0, 0]</code>\n",
    "\n",
    "</div>"
   ]
  },
  {
   "cell_type": "markdown",
   "id": "7b03d602-1753-4583-be5b-f34d73670d42",
   "metadata": {},
   "source": [
    "\n",
    "<code style=\"background-color: black; color: white;\">Example - 3</code> &nbsp;&nbsp;&nbsp;=====>&nbsp;&nbsp; <span style=\"color: red;\">Difference Along a Specified Axis in a Multi-Dimensional Array</span>"
   ]
  },
  {
   "cell_type": "code",
   "execution_count": 22,
   "id": "3705dacd-7037-4130-9152-5f30c3688125",
   "metadata": {},
   "outputs": [
    {
     "name": "stdout",
     "output_type": "stream",
     "text": [
      "[[10 10]\n",
      " [10 10]]\n"
     ]
    }
   ],
   "source": [
    "\n",
    "matrix = np.array([[10, 20, 30], \n",
    "                   [40, 50, 60]])\n",
    "result = np.diff(matrix, axis=1)\n",
    "print(result)\n"
   ]
  },
  {
   "cell_type": "markdown",
   "id": "3e8a8de0-6a1d-4da5-8e87-abca32234e56",
   "metadata": {},
   "source": [
    "<div style=\"color: #c658fc;; margin-left: 40px;\">\n",
    "\n",
    "Differences are calculated <strong>row-wise</strong> ( <code>axis=1</code> ):         <br>\n",
    "- For &nbsp;<code>[10, 20, 30]</code> &nbsp;&nbsp;➜ &nbsp;&nbsp; <code>[20 - 10, 30 - 20] = [10, 10]</code>\n",
    "- For &nbsp;<code>[40, 50, 60]</code> &nbsp;&nbsp;➜ &nbsp;&nbsp; <code>[50 - 40, 60 - 50] = [10, 10]</code>\n",
    "\n",
    "</div>"
   ]
  },
  {
   "cell_type": "markdown",
   "id": "bfaf3aff-d474-4b16-bc88-aac5966ab951",
   "metadata": {},
   "source": [
    "\n",
    "<br>\n",
    "\n",
    "<code style=\"background-color: black; color: white;\">Example - 4</code> &nbsp;&nbsp;&nbsp;=====>&nbsp;&nbsp; <span style=\"color: red;\">Using <strong>prepend</strong> and <strong>append</strong></span>"
   ]
  },
  {
   "cell_type": "code",
   "execution_count": 24,
   "id": "4402aa73-0a03-4982-8ccc-1057cb21f877",
   "metadata": {},
   "outputs": [
    {
     "name": "stdout",
     "output_type": "stream",
     "text": [
      "[10 10 10]\n"
     ]
    }
   ],
   "source": [
    "\n",
    "arr = np.array([10, 20, 30])\n",
    "result = np.diff(arr, prepend=0)\n",
    "print(result)\n"
   ]
  },
  {
   "cell_type": "markdown",
   "id": "86fd0421-acce-439e-b033-f79d31ed8921",
   "metadata": {},
   "source": [
    "<div style=\"color: #c658fc;; margin-left: 40px;\">\n",
    "\n",
    "- The value &nbsp;<code style=\"color: red;\">0</code>&nbsp; is <strong>prepended</strong> to the array &nbsp;&nbsp;=======> &nbsp;&nbsp; <code>[<span style=\"color: red;\">0</span>, 10, 20, 30]</code>\n",
    "- Differences are calculated as &nbsp;&nbsp;===============> &nbsp;&nbsp; <code>[10-<span style=\"color: red;\">0</span>, 20-10, 30-20]</code>\n",
    "\n",
    "</div>"
   ]
  },
  {
   "cell_type": "code",
   "execution_count": 26,
   "id": "d75f3ac0-b26a-4c6e-98c1-615634579f5a",
   "metadata": {},
   "outputs": [
    {
     "name": "stdout",
     "output_type": "stream",
     "text": [
      "[10 10 10]\n"
     ]
    }
   ],
   "source": [
    "\n",
    "arr = np.array([10, 20, 30])\n",
    "result = np.diff(arr, append=40)\n",
    "print(result)\n"
   ]
  },
  {
   "cell_type": "markdown",
   "id": "4a91e824-d6c4-48d8-9aae-859f5c987abb",
   "metadata": {},
   "source": [
    "<div style=\"color: #c658fc;; margin-left: 40px;\">\n",
    "\n",
    "- The value &nbsp;<code style=\"color: red;\">40</code>&nbsp; is <strong>prepended</strong> to the array &nbsp;&nbsp;=======> &nbsp;&nbsp; <code>[10, 20, 30, <span style=\"color: red;\">40</span>]</code>\n",
    "- Differences are calculated as &nbsp;&nbsp;================> &nbsp;&nbsp; <code>[20-10, 30-20, <span style=\"color: red;\">40</span>-30]</code>\n",
    "\n",
    "</div>"
   ]
  },
  {
   "cell_type": "markdown",
   "id": "9c49674d-5fc6-42b7-b48d-f0a5a0a6a302",
   "metadata": {},
   "source": [
    "<br>\n",
    "\n",
    "<span style=\"color: #06fff0; font-size: 0.7rem;\">■■■■■■■■■■■■■■■■■■■■■■■■■■■■■■■■■■■■■■■■■■■■■■■■■■■■■■■■■■■■■■■■■■■■■■■■■■■■■■■■■■■■■■■■■■■■■■■■■■■■■■■■■■■■■■■</span>\n"
   ]
  },
  {
   "cell_type": "markdown",
   "id": "0d99b46f-539c-4b26-b586-88fb6aaeb548",
   "metadata": {},
   "source": [
    "<br>\n",
    "\n",
    "<code style=\"padding: 3px; background-color: #e2e2e2; font-size: 1rem;\"> <strong>Common Use Cases</strong> </code>\n",
    "\n",
    "<br>\n",
    "\n",
    "<span style=\"color: blue; margin-left: 20px;\"><strong>Finding Rate of Change</strong></span>\n",
    "\n",
    "<div style=\"margin-left: 20px;\">\n",
    "\n",
    "- <span>Useful for analyzing changes between consecutive data points in <strong>time-series data</strong></span>\n",
    "\n",
    "</div>"
   ]
  },
  {
   "cell_type": "code",
   "execution_count": 29,
   "id": "fa68ff8f-3099-419b-aca3-ac2e23be6547",
   "metadata": {},
   "outputs": [
    {
     "name": "stdout",
     "output_type": "stream",
     "text": [
      "[100 -50 150]\n"
     ]
    }
   ],
   "source": [
    "\n",
    "stock_prices = np.array([100, 200, 150, 300])\n",
    "rate_of_change = np.diff(stock_prices)\n",
    "print(rate_of_change)\n"
   ]
  },
  {
   "cell_type": "markdown",
   "id": "c38a55ab-5b34-42b6-a826-09082531dbe0",
   "metadata": {},
   "source": [
    "<br>\n",
    "\n",
    "<span style=\"color: blue; margin-left: 20px;\"><strong>Signal &nbsp;Processing</strong></span>\n",
    "\n",
    "<div style=\"margin-left: 20px;\">\n",
    "\n",
    "- <span>Used to analyze discrete signals by calculating differences in amplitude or intensity.</span>\n",
    "\n",
    "</div>\n"
   ]
  },
  {
   "cell_type": "markdown",
   "id": "132e6515-1447-4715-b5a1-275f6f46bebb",
   "metadata": {
    "jp-MarkdownHeadingCollapsed": true
   },
   "source": [
    "\n",
    "<br>\n",
    "\n",
    "### <div style=\"color: white; background-color: #af87ff; padding: 5px;\"> <code style=\"font-size: 1.2rem; background-color: #af87ff; color: white;\"><strong>numpy.convolve()</strong></code> </div>\n"
   ]
  },
  {
   "cell_type": "markdown",
   "id": "75cbd9f5-123d-4d04-ac58-91a939db248b",
   "metadata": {},
   "source": [
    "\n",
    "<code style=\"background-color: yellow; padding: 6px;\">numpy.<span style=\"color: red;\"><span style=\"font-size: 1rem;\"><strong>convolve(</strong></span><span style=\"color: black;\">a</span>, <span style=\"color: black;\">v</span>, <span style=\"color: black;\">mode</span><span style=\"color: #9b96a1;\">='full'</span><span style=\"font-size: 1rem;\"><strong>)</strong></span></code>\n",
    "\n",
    "\n"
   ]
  },
  {
   "cell_type": "markdown",
   "id": "ae2fa6f3-e038-4f3e-adae-9d7aebb2aff9",
   "metadata": {},
   "source": [
    "<div style=\"margin-left: 60px;\">\n",
    "\n",
    "<span style=\"color: blue;\">returns the convolution of two arrays</span>\n",
    "\n",
    "<code style=\"background-color: #cdfffa;\">a      </code>&nbsp;&nbsp;==============>&nbsp;&nbsp; The first input array (can represent the signal or data)         <br>\n",
    "<code style=\"background-color: #cdfffa;\">v      </code>&nbsp;&nbsp;==============>&nbsp;&nbsp; The second input array (often represents the kernel or filter)   <br>\n",
    "<code style=\"background-color: #cdfffa;\">mode   </code>&nbsp;&nbsp; <strong>(optional)</strong> &nbsp;&nbsp;======>&nbsp;&nbsp;  Specifies the output size. &nbsp; Possible values &nbsp;<font size=\"+1\">↴</font>\n",
    "\n",
    "<div style=\"margin-left: 250px;\">\n",
    "\n",
    "- <code>'full' </code> &nbsp;&nbsp;====>&nbsp;&nbsp; Returns the complete convolution, including all overlaps. &nbsp;<strong>(Default)</strong>\n",
    "- <code>'valid'</code> &nbsp;&nbsp;====>&nbsp;&nbsp; Returns only elements where the arrays fully overlap (no padding)\n",
    "- <code>'same' </code> &nbsp;&nbsp;====>&nbsp;&nbsp; Returns the output of the same length as the larger input array, centered\n",
    "\n",
    "</div>\n",
    "\n",
    "<span style=\"color: #a245ff;\">Convolution is a mathematical operation often used in <strong>signal processing</strong> , <strong>image processing</strong> , and <strong>statistical analysis</strong></span>\n",
    "\n",
    "</div>\n",
    "\n",
    "<br>\n",
    "\n",
    "<code style=\"background-color: black; color: white;\">Example - 1</code> &nbsp;&nbsp;====>&nbsp;&nbsp; <span style=\"color: red;\">Hospital Analogy</span>"
   ]
  },
  {
   "cell_type": "markdown",
   "id": "8a2e477c-b2ea-456a-839f-8b230623e7ec",
   "metadata": {},
   "source": [
    "\n",
    "Imagine you manage a hospital treating patients with a single disease. You have :\n",
    "\n",
    "- A treatment plan &nbsp;&nbsp;========> &nbsp;<code>[3]</code>&nbsp; Every patient gets 3 units of the cure on their first day.\n",
    "- A list of patients &nbsp;&nbsp;&nbsp;========> &nbsp;<code>[1 2 3 4 5]</code>&nbsp; Your patient count for the week (1 person Monday, 2 people on Tuesday, etc.)\n",
    "\n",
    "<strong>Question :</strong> &nbsp;How much medicine do you use each day? &nbsp;Well, that's just a quick multiplication :\n",
    "\n",
    "<div style=\"margin-left: 73px;\">\n",
    "\n",
    "![](../media/numpy_convolution_1.PNG)\n",
    "\n",
    "The result is for weekdays ( <code>Monday - 3</code> &nbsp;,&nbsp; <code>Tuesday - 6</code> &nbsp;,&nbsp; <code>Wednesday - 9</code>&nbsp;,&nbsp; <code>Thursday - 12</code> &nbsp;,&nbsp; <code>Friday - 15</code> )\n",
    "\n",
    "</div>\n",
    "\n",
    "<br>\n",
    "\n",
    "<span style=\"color: red;\">------------------------------------------------------------------------------------------------------------------------------------------------------------------------------------------------</span>\n",
    "\n",
    "<font size=\"+1\">⭐</font>&nbsp; <span style=\"color: #03d500;\"><u>Intution &nbsp;for &nbsp;<strong>Convolution</strong></u></span>\n",
    "\n",
    "Let's say the disease mutates and requires a multi-day treatment. You create a new plan &nbsp;:&nbsp;&nbsp; <code style=\"background-color: #b9ffa3;\">Plan : [3 2 1]</code>\n",
    "\n",
    "<br>\n",
    "\n",
    "That means 3 units of the cure on the first day, &nbsp;2 on the second, &nbsp;and 1 on the third. &nbsp;Given the same patient schedule &nbsp;<code style=\"background-color: #b9ffa3;\">[1 2 3 4 5]</code> , what's our medicine usage each day ?\n",
    "\n",
    "<br>\n",
    "\n",
    "Uh... shoot. It's not a quick multiplication :\n",
    "\n",
    "<div style=\"margin-left: 40px;\">\n",
    "\n",
    "- On Monday, 1 patient comes in. It's her first day, so she gets 3 units. <br>\n",
    "\n",
    "- On Tuesday, the Monday gal gets 2 units (her second day), but two new patients arrive, who get 3 each (2 * 3 = 6). The total is 2 + (2 * 3) = 8 units. <br>\n",
    "\n",
    "- On Wednesday, it's trickier : The Monday gal finishes (1 unit, her last day), the Tuesday people get 2 units (2 * 2), and there are 3 new Wednesday people....\n",
    "\n",
    "</div>\n",
    "\n",
    "<br>\n",
    "\n",
    "The patients are overlapping and it's hard to track. &nbsp;<code>How can we organize this calculation ?</code>\n",
    "\n",
    "<br>\n",
    "\n",
    "An idea  &nbsp;&nbsp;=====>&nbsp;&nbsp;  imagine <strong>flipping the patient list</strong> , so the first patient is on the right :\n",
    "\n",
    "<div style=\"margin-left: 127px;\">\n",
    "\n",
    "![](../media/numpy_convolution_2.PNG)\n",
    "\n",
    "</div>\n",
    "\n",
    "Next, imagine we have 3 separate rooms where we apply the proper dose :\n",
    "\n",
    "<div style=\"margin-left: 127px;\">\n",
    "\n",
    "![](../media/numpy_convolution_3.PNG)\n",
    "\n",
    "</div>\n",
    "\n",
    "<br>\n",
    "\n",
    "On your first day, you walk into the <u>first room</u> and get 3 units of medicine. &nbsp;The next day, you walk into <u>room #2</u> and get 2 units. &nbsp;On the last day, you walk into <u>room #3</u> and get 1 unit. &nbsp;There's no rooms afterwards, and your treatment is done.\n",
    "\n",
    "<br>\n",
    "\n",
    "To calculate the total medicine usage, line up the patients and walk them through the rooms :\n",
    "\n",
    "<div style=\"margin-left: 127px;\">\n",
    "\n",
    "![](../media/numpy_convolution_4.PNG)\n",
    "\n",
    "</div>\n",
    "\n",
    "On Monday (our first day), we have a single patient in the first room. &nbsp;She gets 3 units, for a total usage of 3. &nbsp;Makes sense, right ?\n",
    "\n",
    "<br>\n",
    "\n",
    "On Tuesday, everyone takes a step forward :\n",
    "\n",
    "<div style=\"margin-left: 127px;\">\n",
    "\n",
    "![](../media/numpy_convolution_5.PNG)\n",
    "\n",
    "</div>\n",
    "\n",
    "<br>\n",
    "\n",
    "The first patient is now in the second room, and there's 2 new patients in the first room. &nbsp;We multiply each room's dose by the patient count, then combine.\n",
    "\n",
    "<br>\n",
    "\n",
    "Every day we just walk the list forward :\n",
    "\n",
    "<div style=\"margin-left: 127px;\">\n",
    "\n",
    "![](../media/numpy_convolution_6.PNG)\n",
    "\n",
    "</div>\n",
    "\n",
    "<br>\n",
    "\n",
    "Whoa! It's intricate, but we figured it out, right? &nbsp;We can find the usage for any day by reversing the list, sliding it to the desired day, and combining the doses. &nbsp;Don't forget Saturday and Sunday, since some patients began on Friday.\n",
    "\n",
    "<div style=\"margin-left: 127px;\">\n",
    "\n",
    "![](../media/numpy_convolution_7.PNG)\n",
    "\n",
    "</div>\n",
    "\n",
    "<br>\n",
    "\n",
    "The total day-by-day usage looks like the following :\n",
    "\n",
    "<div style=\"margin-left: 127px;\">\n",
    "\n",
    "![](../media/numpy_convolution_8.PNG)\n",
    "\n",
    "</div>\n",
    "\n",
    "<br>\n",
    "\n",
    "<span style=\"color: #a245ff;\">This calculation is the convolution of the plan and patient list. &nbsp;It's a fancy multiplication between a list of input numbers and a \"program\".</span>\n",
    "\n",
    "<br>"
   ]
  },
  {
   "cell_type": "code",
   "execution_count": 19,
   "id": "cdffba01-8ce9-42a0-8e44-dc65b121c1d8",
   "metadata": {},
   "outputs": [
    {
     "name": "stdout",
     "output_type": "stream",
     "text": [
      "[ 3  8 14 20 26 14  5]\n"
     ]
    }
   ],
   "source": [
    "\n",
    "data = np.array([1, 2, 3, 4, 5])\n",
    "kernel = np.array([3, 2, 1])\n",
    "\n",
    "\n",
    "result = np.convolve(data, kernel)                                # DEFAULT mode = 'full'\n",
    "print(result)\n"
   ]
  },
  {
   "cell_type": "code",
   "execution_count": 15,
   "id": "02f118c3-2638-40fd-ae2e-2ec59b511cac",
   "metadata": {},
   "outputs": [
    {
     "name": "stdout",
     "output_type": "stream",
     "text": [
      "[ 3  8 14 20 26 14  5]\n"
     ]
    }
   ],
   "source": [
    "\n",
    "result = np.convolve(data, kernel, mode=\"full\")\n",
    "print(result)\n"
   ]
  },
  {
   "cell_type": "code",
   "execution_count": 9,
   "id": "f9d639a6-1ea4-4b77-ab32-cea7ff075831",
   "metadata": {},
   "outputs": [
    {
     "name": "stdout",
     "output_type": "stream",
     "text": [
      "[14 20 26]\n"
     ]
    }
   ],
   "source": [
    "\n",
    "result = np.convolve(data, kernel, mode=\"valid\")\n",
    "print(result)\n"
   ]
  },
  {
   "cell_type": "code",
   "execution_count": 10,
   "id": "e0b9c02c-b1cf-424a-bbe6-125f6d1459ad",
   "metadata": {},
   "outputs": [
    {
     "name": "stdout",
     "output_type": "stream",
     "text": [
      "[ 8 14 20 26 14]\n"
     ]
    }
   ],
   "source": [
    "\n",
    "result = np.convolve(data, kernel, mode=\"same\")\n",
    "print(result)\n"
   ]
  },
  {
   "cell_type": "markdown",
   "id": "1b03a6af-1287-4158-ba4d-9a0c92dcc3e0",
   "metadata": {},
   "source": [
    "<br>\n",
    "\n",
    "<code style=\"background-color: black; color: white;\">Example - 2</code>"
   ]
  },
  {
   "cell_type": "code",
   "execution_count": 22,
   "id": "a81b9f8b-2a66-4f4f-b72e-2162061051bd",
   "metadata": {},
   "outputs": [
    {
     "name": "stdout",
     "output_type": "stream",
     "text": [
      "[0.2 0.9 1.6 1.5]\n"
     ]
    }
   ],
   "source": [
    "\n",
    "data = np.array([1, 2, 3])\n",
    "kernel = np.array([0.2, 0.5])\n",
    "result = np.convolve(data, kernel)\n",
    "print(result)\n"
   ]
  },
  {
   "cell_type": "markdown",
   "id": "0fd16ec5-60d1-4d23-83aa-8baf45c8c718",
   "metadata": {},
   "source": [
    "<div style=\"margin-left: 127px;\">\n",
    "\n",
    "![](../media/numpy_convolution_9.PNG)\n",
    "\n",
    "</div>"
   ]
  },
  {
   "cell_type": "markdown",
   "id": "c203508a-cfb8-4da8-9392-d9c94b0bb3b4",
   "metadata": {
    "jp-MarkdownHeadingCollapsed": true
   },
   "source": [
    "<br><br>\n",
    "\n",
    "## Array &nbsp;Operations"
   ]
  },
  {
   "cell_type": "markdown",
   "id": "1f6e0215-70d1-4998-b4b3-a67011673db9",
   "metadata": {
    "jp-MarkdownHeadingCollapsed": true
   },
   "source": [
    "<br>\n",
    "\n",
    "### <div style=\"color: white; background-color: #af87ff; padding: 5px;\"> <code style=\"font-size: 1.2rem; background-color: #af87ff; color: white;\"><strong>numpy.reshape()</strong></code> </div>\n"
   ]
  },
  {
   "cell_type": "markdown",
   "id": "7268d28b-a0f5-4ae3-8d84-b0d339786644",
   "metadata": {},
   "source": [
    "<code style=\"background-color: yellow; padding: 6px;\">numpy.<span style=\"color: red;\"><span style=\"font-size: 1rem;\"><strong>reshape(</strong></span><span style=\"color: black;\">arr</span>, <span style=\"color: black;\">newshape</span>, <span style=\"color: black;\">order</span><span style=\"color: #9b96a1;\">='C'</span><span style=\"font-size: 1rem;\"><strong>)</strong></span></code> &nbsp;&nbsp;&nbsp;&nbsp;====>&nbsp;&nbsp;&nbsp;&nbsp;changes the shape of an array without changing its elements.</span>\n",
    "\n",
    "<br>\n",
    "\n",
    "The &nbsp;<code style=\"color: red; background-color: #efd0ff;\">reshape()</code>&nbsp; <strong>function</strong> is equivalent to calling the &nbsp;<code style=\"color: red; background-color: #efd0ff;\">reshape()</code>&nbsp; <strong>method</strong> on the array &nbsp;<code style=\"background-color: #efd0ff;\">arr</code> &nbsp;&nbsp;&nbsp;===>&nbsp;&nbsp;&nbsp; <code style=\"background-color: yellow; padding: 6px;\">arr.<span style=\"color: red;\"><span style=\"font-size: 1rem;\"><strong>reshape(</strong></span><span style=\"color: black;\">newshape</span>, <span style=\"color: black;\">order</span><span style=\"color: #9b96a1;\">='C'</span><span style=\"font-size: 1rem;\"><strong>)</strong></span></code>\n",
    "\n",
    "<br>\n",
    "\n",
    "<code style=\"color: white; background-color: black;\">Example - 1</code> &nbsp;&nbsp;<span style=\"color: #2fbd0b;\">1D array</span>"
   ]
  },
  {
   "cell_type": "code",
   "execution_count": 71,
   "id": "f3de8c12-0087-4b06-93c3-8e850ed5b3e9",
   "metadata": {},
   "outputs": [
    {
     "name": "stdout",
     "output_type": "stream",
     "text": [
      "[1 2 3 4]\n"
     ]
    }
   ],
   "source": [
    "\n",
    "a = np.arange(1, 5)\n",
    "print(a)\n"
   ]
  },
  {
   "cell_type": "code",
   "execution_count": 79,
   "id": "f3cd03a6-41ff-4db2-9f2b-d5c7f1c6cd6c",
   "metadata": {},
   "outputs": [
    {
     "name": "stdout",
     "output_type": "stream",
     "text": [
      "[[1 2]\n",
      " [3 4]]\n"
     ]
    }
   ],
   "source": [
    "\n",
    "b = np.reshape(a, (2, 2))                # reshape to a 2D array with 2 rows and 2 columns\n",
    "print(b)\n"
   ]
  },
  {
   "cell_type": "code",
   "execution_count": 84,
   "id": "4784ac7e-0196-41a6-8e72-fa30f275d691",
   "metadata": {},
   "outputs": [
    {
     "data": {
      "text/plain": [
       "(2, 2)"
      ]
     },
     "execution_count": 84,
     "metadata": {},
     "output_type": "execute_result"
    }
   ],
   "source": [
    "\n",
    "b.shape\n"
   ]
  },
  {
   "cell_type": "markdown",
   "id": "c1fa7e3a-c4b4-488c-b37b-58f7773f71ee",
   "metadata": {},
   "source": [
    "<div style=\"margin-left: 90px;\">\n",
    "\n",
    "![](../media/numpy_29.PNG)\n",
    "\n",
    "</div>\n",
    "\n",
    "<u>**NOTE**</u> &nbsp;-&nbsp; <span style=\"color: red;\">reshape( )</span> <span style=\"color: blue;\">can not only change shape but also dimensions.</span> &nbsp;&nbsp;<span style=\"color: #a245ff;\">For example, in the above example, the 1D array is converted into a 2D array.</span>\n",
    "\n",
    "\n",
    "<span style=\"font-size: 1.5rem;\">⭐&nbsp;&nbsp;</span>The shape of the original array &nbsp;<code style=\"background-color: #efd0ff;\"> a </code>&nbsp; remains unchanged"
   ]
  },
  {
   "cell_type": "code",
   "execution_count": 83,
   "id": "081fb60b-b5a7-4b2f-b670-14a822ee1af6",
   "metadata": {},
   "outputs": [
    {
     "data": {
      "text/plain": [
       "(4,)"
      ]
     },
     "execution_count": 83,
     "metadata": {},
     "output_type": "execute_result"
    }
   ],
   "source": [
    "\n",
    "a.shape\n"
   ]
  },
  {
   "cell_type": "markdown",
   "id": "fe036304-b14d-4646-ba66-beaf33d0600f",
   "metadata": {},
   "source": [
    "<br>\n",
    "\n",
    "<span style=\"font-size: 1.5rem;\">⭐&nbsp;&nbsp;</span>However the new shape must be compatible with the original shape (i.e., <u>the total number of elements must remain the same</u>), otherwise it will throw <strong><span style=\"color: red;\">error</span>"
   ]
  },
  {
   "cell_type": "code",
   "execution_count": 86,
   "id": "1856d3ae-c4af-440e-bd8c-da9543195550",
   "metadata": {},
   "outputs": [
    {
     "ename": "ValueError",
     "evalue": "cannot reshape array of size 4 into shape (2,3)",
     "output_type": "error",
     "traceback": [
      "\u001b[1;31m---------------------------------------------------------------------------\u001b[0m",
      "\u001b[1;31mValueError\u001b[0m                                Traceback (most recent call last)",
      "Cell \u001b[1;32mIn[86], line 1\u001b[0m\n\u001b[1;32m----> 1\u001b[0m b \u001b[38;5;241m=\u001b[39m \u001b[43mnp\u001b[49m\u001b[38;5;241;43m.\u001b[39;49m\u001b[43mreshape\u001b[49m\u001b[43m(\u001b[49m\u001b[43ma\u001b[49m\u001b[43m,\u001b[49m\u001b[43m \u001b[49m\u001b[43m(\u001b[49m\u001b[38;5;241;43m2\u001b[39;49m\u001b[43m,\u001b[49m\u001b[43m \u001b[49m\u001b[38;5;241;43m3\u001b[39;49m\u001b[43m)\u001b[49m\u001b[43m)\u001b[49m                \u001b[38;5;66;03m# reshape to a 2D array with 2 rows and 3 columns\u001b[39;00m\n",
      "File \u001b[1;32m<__array_function__ internals>:180\u001b[0m, in \u001b[0;36mreshape\u001b[1;34m(*args, **kwargs)\u001b[0m\n",
      "File \u001b[1;32m~\\AppData\\Local\\Programs\\Python\\Python311\\Lib\\site-packages\\numpy\\core\\fromnumeric.py:298\u001b[0m, in \u001b[0;36mreshape\u001b[1;34m(a, newshape, order)\u001b[0m\n\u001b[0;32m    198\u001b[0m \u001b[38;5;129m@array_function_dispatch\u001b[39m(_reshape_dispatcher)\n\u001b[0;32m    199\u001b[0m \u001b[38;5;28;01mdef\u001b[39;00m \u001b[38;5;21mreshape\u001b[39m(a, newshape, order\u001b[38;5;241m=\u001b[39m\u001b[38;5;124m'\u001b[39m\u001b[38;5;124mC\u001b[39m\u001b[38;5;124m'\u001b[39m):\n\u001b[0;32m    200\u001b[0m \u001b[38;5;250m    \u001b[39m\u001b[38;5;124;03m\"\"\"\u001b[39;00m\n\u001b[0;32m    201\u001b[0m \u001b[38;5;124;03m    Gives a new shape to an array without changing its data.\u001b[39;00m\n\u001b[0;32m    202\u001b[0m \n\u001b[1;32m   (...)\u001b[0m\n\u001b[0;32m    296\u001b[0m \u001b[38;5;124;03m           [5, 6]])\u001b[39;00m\n\u001b[0;32m    297\u001b[0m \u001b[38;5;124;03m    \"\"\"\u001b[39;00m\n\u001b[1;32m--> 298\u001b[0m     \u001b[38;5;28;01mreturn\u001b[39;00m \u001b[43m_wrapfunc\u001b[49m\u001b[43m(\u001b[49m\u001b[43ma\u001b[49m\u001b[43m,\u001b[49m\u001b[43m \u001b[49m\u001b[38;5;124;43m'\u001b[39;49m\u001b[38;5;124;43mreshape\u001b[39;49m\u001b[38;5;124;43m'\u001b[39;49m\u001b[43m,\u001b[49m\u001b[43m \u001b[49m\u001b[43mnewshape\u001b[49m\u001b[43m,\u001b[49m\u001b[43m \u001b[49m\u001b[43morder\u001b[49m\u001b[38;5;241;43m=\u001b[39;49m\u001b[43morder\u001b[49m\u001b[43m)\u001b[49m\n",
      "File \u001b[1;32m~\\AppData\\Local\\Programs\\Python\\Python311\\Lib\\site-packages\\numpy\\core\\fromnumeric.py:57\u001b[0m, in \u001b[0;36m_wrapfunc\u001b[1;34m(obj, method, *args, **kwds)\u001b[0m\n\u001b[0;32m     54\u001b[0m     \u001b[38;5;28;01mreturn\u001b[39;00m _wrapit(obj, method, \u001b[38;5;241m*\u001b[39margs, \u001b[38;5;241m*\u001b[39m\u001b[38;5;241m*\u001b[39mkwds)\n\u001b[0;32m     56\u001b[0m \u001b[38;5;28;01mtry\u001b[39;00m:\n\u001b[1;32m---> 57\u001b[0m     \u001b[38;5;28;01mreturn\u001b[39;00m \u001b[43mbound\u001b[49m\u001b[43m(\u001b[49m\u001b[38;5;241;43m*\u001b[39;49m\u001b[43margs\u001b[49m\u001b[43m,\u001b[49m\u001b[43m \u001b[49m\u001b[38;5;241;43m*\u001b[39;49m\u001b[38;5;241;43m*\u001b[39;49m\u001b[43mkwds\u001b[49m\u001b[43m)\u001b[49m\n\u001b[0;32m     58\u001b[0m \u001b[38;5;28;01mexcept\u001b[39;00m \u001b[38;5;167;01mTypeError\u001b[39;00m:\n\u001b[0;32m     59\u001b[0m     \u001b[38;5;66;03m# A TypeError occurs if the object does have such a method in its\u001b[39;00m\n\u001b[0;32m     60\u001b[0m     \u001b[38;5;66;03m# class, but its signature is not identical to that of NumPy's. This\u001b[39;00m\n\u001b[1;32m   (...)\u001b[0m\n\u001b[0;32m     64\u001b[0m     \u001b[38;5;66;03m# Call _wrapit from within the except clause to ensure a potential\u001b[39;00m\n\u001b[0;32m     65\u001b[0m     \u001b[38;5;66;03m# exception has a traceback chain.\u001b[39;00m\n\u001b[0;32m     66\u001b[0m     \u001b[38;5;28;01mreturn\u001b[39;00m _wrapit(obj, method, \u001b[38;5;241m*\u001b[39margs, \u001b[38;5;241m*\u001b[39m\u001b[38;5;241m*\u001b[39mkwds)\n",
      "\u001b[1;31mValueError\u001b[0m: cannot reshape array of size 4 into shape (2,3)"
     ]
    }
   ],
   "source": [
    "\n",
    "b = np.reshape(a, (2, 3))                # reshape to a 2D array with 2 rows and 3 columns\n"
   ]
  },
  {
   "cell_type": "markdown",
   "id": "e74be45c-c483-487e-9081-1aea194f75bb",
   "metadata": {},
   "source": [
    "<br>\n",
    "\n",
    "<br>\n",
    "\n",
    "<span style=\"color: #06fff0; font-size: 0.7rem;\">■■■■■■■■■■■■■■■■■■■■■■■■■■■■■■■■■■■■■■■■■■■■■■■■■■■■■■■■■■■■■■■■■■■■■■■■■■■■■■■■■■■■■■■■■■■■■■■■■■■■■■■■■■■■■■■</span>\n"
   ]
  },
  {
   "cell_type": "markdown",
   "id": "54967bf9-4270-490a-800a-aee55e2ba96e",
   "metadata": {},
   "source": [
    "<div style=\"background-color: #c4ffb9; padding: 10px;\"><code style=\"background-color: #c4ffb9;\">Numpy <span style=\"color: red;\">reshape()</span> returns a <span style=\"color: blue; font-size: 1rem;\"><strong>view</strong></span></code></div>\n",
    "\n"
   ]
  },
  {
   "cell_type": "markdown",
   "id": "1cd0b983-6d59-4640-aa7d-6c083a949141",
   "metadata": {},
   "source": [
    "<span style=\"font-size: 1.5rem;\">⭐&nbsp;&nbsp;</span>Note that array &nbsp;<code style=\"background-color: #efd0ff;\"> b </code>&nbsp; is a <strong>view</strong> of array &nbsp;<code style=\"background-color: #efd0ff;\"> a </code>&nbsp;. &nbsp;&nbsp;It means that <span style=\"color: blue;\">if you change an element of array &nbsp;<code style=\"background-color: #c2e7ff; color: blue;\"> b </code>&nbsp;, the change is also reflected in array &nbsp;<code style=\"background-color: #c2e7ff; color: blue;\"> a </code>&nbsp;</span>"
   ]
  },
  {
   "cell_type": "code",
   "execution_count": 103,
   "id": "ce26aca4-fb4a-4ad8-b9eb-02bbe04a35cb",
   "metadata": {},
   "outputs": [
    {
     "name": "stdout",
     "output_type": "stream",
     "text": [
      "[[0 2]\n",
      " [3 4]]\n",
      "[0 2 3 4]\n"
     ]
    }
   ],
   "source": [
    "\n",
    "a = np.arange(1, 5)\n",
    "b = np.reshape(a, (2, 2))\n",
    "\n",
    "\n",
    "b[0, 0] = 0                        # change the element [0,0]\n",
    "\n",
    "\n",
    "print(b)\n",
    "print(a)                           # since the array \"b\" is a view, so the change is also reflected in the array \"a\"\n"
   ]
  },
  {
   "cell_type": "markdown",
   "id": "a1e10ce0-cd24-45fa-9e0d-56f6006a015c",
   "metadata": {
    "jp-MarkdownHeadingCollapsed": true
   },
   "source": [
    "<br>\n",
    "\n",
    "### <div style=\"color: white; background-color: #af87ff; padding: 5px;\"> <code style=\"font-size: 1.2rem; background-color: #af87ff; color: white;\"><strong>numpy.transpose()</strong></code> </div>\n"
   ]
  },
  {
   "cell_type": "markdown",
   "id": "d4b7ea5d-77df-46ee-bbb8-30e8aff056c6",
   "metadata": {},
   "source": [
    "\n",
    "<code style=\"background-color: yellow; padding: 6px;\">numpy.<span style=\"color: red;\"><span style=\"font-size: 1rem;\"><strong>transpose(</strong></span><span style=\"color: black;\">arr</span>, <span style=\"color: black;\">axes</span><span style=\"color: #9b96a1;\">='None'</span><span style=\"font-size: 1rem;\"><strong>)</strong></span></code> &nbsp;&nbsp;&nbsp;&nbsp;====>&nbsp;&nbsp;&nbsp;&nbsp;reverses or permutes the axes of an array or any object that can be converted to a numpy array.</span>\n",
    "\n",
    "<span style=\"margin-left: 298px;\">====>&nbsp;&nbsp;&nbsp;&nbsp;is equivalent to &nbsp;<code style=\"background-color: yellow;\">ndarray.<span style=\"color: red; font-size: 1rem;\"><strong>T</strong></span></code>&nbsp; property method that returns an array transposed.</span>\n",
    "\n",
    "<span style=\"margin-left: 298px;\">====>&nbsp;&nbsp;&nbsp;&nbsp;is equivalent to &nbsp;<code style=\"background-color: yellow;\">ndarray.<span style=\"color: red;\"><span style=\"font-size: 1rem;\"><strong>transpose(</strong></span><span style=\"color: black;\">*axes</span><span style=\"font-size: 1rem;\"><strong>)</strong></span></span></code>&nbsp; method that returns an array transposed.</span>\n",
    "\n",
    "<span style=\"margin-left: 298px;\">====>&nbsp;&nbsp;&nbsp;&nbsp;It is commonly used to switch the rows and columns of a <strong>2D array</strong>.</span>\n",
    "\n",
    "<br>\n",
    "\n",
    "<code style=\"color: white; background-color: black;\">Example - 1</code> &nbsp;&nbsp;<span style=\"color: #2fbd0b;\"><strong>1D array</strong></span>"
   ]
  },
  {
   "cell_type": "code",
   "execution_count": 105,
   "id": "996c8c96-2bae-4767-8325-71789f65bd95",
   "metadata": {},
   "outputs": [
    {
     "name": "stdout",
     "output_type": "stream",
     "text": [
      "[1 2 3]\n"
     ]
    }
   ],
   "source": [
    "\n",
    "a = np.array([1, 2, 3])\n",
    "b = np.transpose(a)\n",
    "print(b)\n"
   ]
  },
  {
   "cell_type": "code",
   "execution_count": 106,
   "id": "ec51777d-6bc4-430d-8132-12683a5f3969",
   "metadata": {},
   "outputs": [
    {
     "name": "stdout",
     "output_type": "stream",
     "text": [
      "(3,)\n",
      "(3,)\n"
     ]
    }
   ],
   "source": [
    "\n",
    "print(a.shape)\n",
    "print(b.shape)\n"
   ]
  },
  {
   "cell_type": "markdown",
   "id": "c8732152-ab59-4243-bb92-763ff1cf6711",
   "metadata": {},
   "source": [
    "<br>\n",
    "\n",
    "As you can see, the &nbsp;<code style=\"color: red; background-color: yellow;\">transpose()</code>&nbsp; function has <strong>no effect on a 1-D array</strong> because a transposed vector is simply the same vector.\n",
    "\n",
    "<br>\n",
    "\n",
    "<code style=\"color: white; background-color: black;\">Example - 2</code> &nbsp;&nbsp;<span style=\"color: #2fbd0b;\"><strong>2D array</strong></span>"
   ]
  },
  {
   "cell_type": "code",
   "execution_count": 109,
   "id": "ec75a82e-720e-4a37-b385-78a4245df941",
   "metadata": {},
   "outputs": [
    {
     "name": "stdout",
     "output_type": "stream",
     "text": [
      "[[1 4]\n",
      " [2 5]\n",
      " [3 6]]\n"
     ]
    }
   ],
   "source": [
    "\n",
    "a = np.array([\n",
    "    [1, 2, 3],\n",
    "    [4, 5, 6]\n",
    "])\n",
    "\n",
    "b = np.transpose(a)\n",
    "print(b)\n"
   ]
  },
  {
   "cell_type": "markdown",
   "id": "790fe04e-675a-4163-ac4a-b0855579402e",
   "metadata": {},
   "source": [
    "<div style=\"margin-left: 90px;\">\n",
    "\n",
    "![](../media/numpy_30.PNG)\n",
    "\n",
    "</div>"
   ]
  },
  {
   "cell_type": "code",
   "execution_count": 110,
   "id": "8b473d2b-e710-47b9-9acc-fb1854137d32",
   "metadata": {},
   "outputs": [
    {
     "name": "stdout",
     "output_type": "stream",
     "text": [
      "(2, 3)\n",
      "(3, 2)\n"
     ]
    }
   ],
   "source": [
    "\n",
    "print(a.shape)\n",
    "print(b.shape)\n"
   ]
  },
  {
   "cell_type": "markdown",
   "id": "bc441907-ccee-4920-a471-209e6dafdb68",
   "metadata": {},
   "source": [
    "<br>\n",
    "\n",
    "Basically, it swaps rows and columns of the array.\n",
    "\n",
    "After the transposition, the first row of array &nbsp;<code style=\"background-color: #efd0ff;\"> a </code>&nbsp; becomes the first column of the transposed array &nbsp;<code style=\"background-color: #efd0ff;\"> b </code>&nbsp;, the second row of array &nbsp;<code style=\"background-color: #efd0ff;\"> a </code>&nbsp; becomes the second column of the transposed array &nbsp;<code style=\"background-color: #efd0ff;\"> b </code>\n"
   ]
  },
  {
   "cell_type": "code",
   "execution_count": 115,
   "id": "33c6425a-ab56-435d-bc98-0833b3a0e5cd",
   "metadata": {},
   "outputs": [
    {
     "data": {
      "text/plain": [
       "array([[1, 2, 3],\n",
       "       [4, 5, 6]])"
      ]
     },
     "execution_count": 115,
     "metadata": {},
     "output_type": "execute_result"
    }
   ],
   "source": [
    "\n",
    "b.T\n"
   ]
  },
  {
   "cell_type": "markdown",
   "id": "1211ac3d-d021-44eb-898e-7064fae0cfb4",
   "metadata": {
    "jp-MarkdownHeadingCollapsed": true
   },
   "source": [
    "<br>\n",
    "\n",
    "### <div style=\"color: white; background-color: #af87ff; padding: 5px;\"> <code style=\"font-size: 1.2rem; background-color: #af87ff; color: white;\"><strong>numpy.sort()</strong></code> </div>\n"
   ]
  },
  {
   "cell_type": "markdown",
   "id": "55b6ae17-5719-4b5c-88cf-7ddd99ec4971",
   "metadata": {},
   "source": [
    "\n",
    "<code style=\"background-color: yellow; padding: 6px;\">numpy.<span style=\"color: red;\"><span style=\"font-size: 1rem;\"><strong>sort(</strong></span><span style=\"color: black;\">arr</span>, <span style=\"color: black;\">axes</span><span style=\"color: #9b96a1;\">='-1'</span>, <span style=\"color: black;\">kind</span><span style=\"color: #9b96a1;\">='None'</span>, <span style=\"color: black;\">order</span><span style=\"color: #9b96a1;\">='None'</span><span style=\"font-size: 1rem;\"><strong>)</strong></span></code> &nbsp;&nbsp;&nbsp;&nbsp;====>&nbsp;&nbsp;&nbsp;&nbsp;returns a <u>sorted</u> <strong>copy</strong> of an array or any object that can be converted into an array</span>\n",
    "\n",
    "<span style=\"margin-left: 445px;\">====>&nbsp;&nbsp;&nbsp;&nbsp;<code style=\"color: red; background-color: #daffdc;\">axis = <span style=\"color: black;\">-1</span></code> (sorts along the last axis by default)  </span>\n",
    "\n",
    "<div style=\"margin-left: 520px;\">\n",
    "\n",
    "- <code style=\"background-color: #daffdc;\">0   </code> : &nbsp;&nbsp;sorts along <u>columns</u>               <br>\n",
    "- <code style=\"background-color: #daffdc;\">1   </code> : &nbsp;&nbsp;sorts along <u>rows</u>                  <br>\n",
    "- <code style=\"background-color: #daffdc;\">None</code> : &nbsp;&nbsp;sorts the <u>flattened array</u>\n",
    "\n",
    "</div>\n",
    "\n",
    "<span style=\"margin-left: 445px;\">====>&nbsp;&nbsp;&nbsp;&nbsp;<code style=\"color: red;\">kind</code> specifies the sorting algorithm like &nbsp;<u>quicksort</u> , &nbsp;<u>mergesort</u> , &nbsp;<u>'heapsort</u> and &nbsp;<u>stable</u> </span>\n",
    "\n",
    "<div style=\"display: flex; margin-left: 445px;\">\n",
    "<div>====>&nbsp;&nbsp;&nbsp;&nbsp;</div>\n",
    "<div><code style=\"color: red;\">order</code> specifies which fields to compare first, second, etc when sorting an array with fields defined. The order can be a string that represents the field to sort or a list of strings that represent a list of fields to sort</div>\n",
    "</div>\n",
    "\n",
    "<br>\n",
    "\n",
    "<code style=\"color: white; background-color: black;\">Example - 1</code> &nbsp;&nbsp;<span style=\"color: #2fbd0b;\">1D array</span>"
   ]
  },
  {
   "cell_type": "code",
   "execution_count": 52,
   "id": "f456b9ca-ac4c-4966-9b7f-9cd645521c5f",
   "metadata": {},
   "outputs": [
    {
     "name": "stdout",
     "output_type": "stream",
     "text": [
      "[1 2 3]\n"
     ]
    }
   ],
   "source": [
    "\n",
    "a = np.array([2, 3, 1])\n",
    "b = np.sort(a)                       # sorts in ascending order by default\n",
    "print(b)\n"
   ]
  },
  {
   "cell_type": "code",
   "execution_count": 121,
   "id": "eb9c9a6c-0396-4fce-acd9-3004ac75d3bc",
   "metadata": {},
   "outputs": [
    {
     "name": "stdout",
     "output_type": "stream",
     "text": [
      "[3 2 1]\n"
     ]
    }
   ],
   "source": [
    "\n",
    "a = np.array([2, 3, 1])\n",
    "b = np.sort(a)[::-1]                 # sorts in descending order\n",
    "print(b)\n"
   ]
  },
  {
   "cell_type": "markdown",
   "id": "2fe95f13-4559-4005-85ec-13a7fc5b42a7",
   "metadata": {},
   "source": [
    "<br>\n",
    "\n",
    "<code style=\"color: white; background-color: black;\">Example - 2</code> &nbsp;&nbsp;<span style=\"color: #2fbd0b;\">2D array</span>\n",
    "\n",
    "<u><span style=\"color: #a245ff;\">Case-1 :</span></u> &nbsp;&nbsp;<span style=\"color: red;\">axis = None</span> <br>\n",
    "\n",
    "<span style=\"color: blue;\">The array will be flattened to 1D array before sorting all the elements in it and then returned as the sorted 1D array.</span>"
   ]
  },
  {
   "cell_type": "code",
   "execution_count": 126,
   "id": "aa5c257d-1c04-4b45-9b84-d16df0d1d978",
   "metadata": {},
   "outputs": [
    {
     "name": "stdout",
     "output_type": "stream",
     "text": [
      "[1 2 3 4 5 6]\n"
     ]
    }
   ],
   "source": [
    "\n",
    "a = np.array([\n",
    "    [2, 3, 1],\n",
    "    [5, 6, 4]\n",
    "])\n",
    "\n",
    "b = np.sort(a, axis = None)\n",
    "print(b)\n"
   ]
  },
  {
   "cell_type": "markdown",
   "id": "ef67a922-8044-4d84-ae92-3c6428449770",
   "metadata": {},
   "source": [
    "<br>\n",
    "\n",
    "<u><span style=\"color: #a245ff;\">Case-2 :</span></u> &nbsp;&nbsp;<span style=\"color: red;\">axis = 0</span>"
   ]
  },
  {
   "cell_type": "code",
   "execution_count": 127,
   "id": "86330ded-662d-40e9-b14c-3a70ba1c942b",
   "metadata": {},
   "outputs": [
    {
     "name": "stdout",
     "output_type": "stream",
     "text": [
      "[[2 3 1]\n",
      " [5 6 4]]\n"
     ]
    }
   ],
   "source": [
    "\n",
    "a = np.array([\n",
    "    [5, 3, 4],\n",
    "    [2, 6, 1]\n",
    "])\n",
    "\n",
    "b = np.sort(a, axis=0)\n",
    "print(b)\n"
   ]
  },
  {
   "cell_type": "markdown",
   "id": "e9e57603-1db4-4923-96c3-303499685ba4",
   "metadata": {},
   "source": [
    "<div style=\"margin-left: 100px;\">\n",
    "\n",
    "![](../media/numpy_31.PNG)\n",
    "\n",
    "</div>\n",
    "\n",
    "<br>\n",
    "\n",
    "<u><span style=\"color: #a245ff;\">Case-3 :</span></u> &nbsp;&nbsp;<span style=\"color: red;\">axis = 1</span>"
   ]
  },
  {
   "cell_type": "code",
   "execution_count": 128,
   "id": "7948dd9a-7994-4bf0-8fbb-48ca79236635",
   "metadata": {},
   "outputs": [
    {
     "name": "stdout",
     "output_type": "stream",
     "text": [
      "[[3 4 5]\n",
      " [1 2 6]]\n"
     ]
    }
   ],
   "source": [
    "\n",
    "a = np.array([\n",
    "    [5, 3, 4],\n",
    "    [2, 6, 1]\n",
    "])\n",
    "\n",
    "b = np.sort(a, axis=1)\n",
    "print(b)\n"
   ]
  },
  {
   "cell_type": "markdown",
   "id": "3a66c1a8-7b36-4605-a97a-6cb35f8c4523",
   "metadata": {},
   "source": [
    "<div style=\"margin-left: 90px;\">\n",
    "\n",
    "![](../media/numpy_32.PNG)\n",
    "\n",
    "</div>\n",
    "\n",
    "Since <span style=\"color: red;\">axis = 1</span> is the <strong>last axis</strong> in a 2D array, therefore it is also the <strong>deafault</strong> one (i.e, <span style=\"color: red;\">axis = -1</span>)"
   ]
  },
  {
   "cell_type": "code",
   "execution_count": 137,
   "id": "c875f9c2-8c22-4756-b9a8-cc38bd759603",
   "metadata": {},
   "outputs": [
    {
     "name": "stdout",
     "output_type": "stream",
     "text": [
      "[[3 4 5]\n",
      " [1 2 6]]\n"
     ]
    }
   ],
   "source": [
    "\n",
    "a = np.array([\n",
    "    [5, 3, 4],\n",
    "    [2, 6, 1]\n",
    "])\n",
    "\n",
    "b = np.sort(a)          # equivalent to  ------>  b = np.sort(a, axis = -1)\n",
    "print(b)\n"
   ]
  },
  {
   "cell_type": "code",
   "execution_count": 139,
   "id": "c69c2d71-2d24-43bb-ac52-7329a7fdb782",
   "metadata": {},
   "outputs": [
    {
     "name": "stdout",
     "output_type": "stream",
     "text": [
      "[[1 2 3]\n",
      " [4 5 6]]\n"
     ]
    }
   ],
   "source": [
    "\n",
    "a = np.array([\n",
    "    [2, 3, 1],\n",
    "    [5, 6, 4]\n",
    "])\n",
    "\n",
    "b = np.sort(a)          # equivalent to  ------>  b = np.sort(a, axis = -1)\n",
    "print(b)\n"
   ]
  },
  {
   "cell_type": "markdown",
   "id": "9fa010f1-a4e4-4692-a1be-0f11a57f8520",
   "metadata": {},
   "source": [
    "<br>\n",
    "\n",
    "<code style=\"color: white; background-color: black;\">Example - 3</code> &nbsp;&nbsp;<span style=\"color: #2fbd0b;\">Using the numpy <code style=\"background-color: yellow;\">np.<span style=\"color: red; font-size: 1rem;\"><strong>sort()</strong></span></code> function to sort a <strong>structured array</strong></span>\n",
    "\n"
   ]
  },
  {
   "cell_type": "code",
   "execution_count": 35,
   "id": "d861d7ba-07a4-425c-b8b5-f9c0a9406683",
   "metadata": {},
   "outputs": [
    {
     "name": "stdout",
     "output_type": "stream",
     "text": [
      "[(b'Jane', 1. , 11000.) (b'Bob', 1. , 15500.) (b'Alice', 1.5, 12500.)]\n"
     ]
    }
   ],
   "source": [
    "\n",
    "dtype = [\n",
    "    ('name', 'S10'),\n",
    "    ('year_of_services', float),\n",
    "    ('salary', float)\n",
    "]                                                    # list  of  tuples\n",
    "\n",
    "employees = [\n",
    "    ('Alice', 1.5, 12500),\n",
    "    ('Bob', 1, 15500),\n",
    "    ('Jane', 1, 11000)\n",
    "]                                                    # list  of  tuples\n",
    "\n",
    "payroll = np.array(employees, dtype=dtype)\n",
    "\n",
    "sorted_employees = np.sort(\n",
    "    payroll,\n",
    "    order=['year_of_services', 'salary']             # sort  by  'year_of_services' , but if  'year_of_services'  are  equal  then  sort  by  'salary'\n",
    ")\n",
    "\n",
    "print(sorted_employees)\n"
   ]
  },
  {
   "cell_type": "markdown",
   "id": "96abdeb2-8a7e-4f34-a4f2-388634cb2aeb",
   "metadata": {},
   "source": [
    "\n",
    "<span style=\"color: #c658fc;\">By &nbsp;default , &nbsp;NumPy &nbsp;shows &nbsp;<strong>byte &nbsp;strings</strong> &nbsp;(e.g., &nbsp;<u>b'Jane'</u>) &nbsp;for &nbsp;strings &nbsp;since &nbsp;we &nbsp;used &nbsp;<code>S10</code></span>\n",
    "\n",
    "<br>\n",
    "\n",
    "<div style=\"display: flex;\">\n",
    "<div><strong>Notice&nbsp;the&nbsp;Order&nbsp;:&nbsp;&nbsp;</strong></div>\n",
    "<div>The output is sorted based on the fields, which may be due to the way NumPy handles structured arrays internally. &nbsp;<u>Sorting behavior can vary by version and configuration</u>, but the structure and fields are preserved.</div>\n",
    "</div>\n",
    "\n",
    "<br>\n",
    "\n",
    "You can access each field in the structured array like this :"
   ]
  },
  {
   "cell_type": "code",
   "execution_count": 51,
   "id": "7e6f4ee2-0d3c-4215-a964-2015a1e9fcfe",
   "metadata": {},
   "outputs": [
    {
     "name": "stdout",
     "output_type": "stream",
     "text": [
      "[(b'Alice', 1.5, 12500.) (b'Bob', 1. , 15500.) (b'Jane', 1. , 11000.)]\n",
      "[b'Alice' b'Bob' b'Jane']\n",
      "[1.5 1.  1. ]\n",
      "[12500. 15500. 11000.]\n"
     ]
    }
   ],
   "source": [
    "\n",
    "print(payroll)                                    # OUTPUT:  [(b'Alice', 1.5, 12500.) (b'Bob', 1. , 15500.) (b'Jane', 1. , 11000.)]\n",
    "\n",
    "print(payroll['name'])                            # OUTPUT:  [b'Jane' b'Bob' b'Alice']\n",
    "print(payroll['year_of_services'])                # OUTPUT:  [1.  1.  1.5]\n",
    "print(payroll['salary'])                          # OUTPUT:  [11000. 15500. 12500.]\n"
   ]
  },
  {
   "cell_type": "markdown",
   "id": "26dfe242-2a09-4692-909e-f0113f904782",
   "metadata": {},
   "source": [
    "<br>\n",
    "\n",
    "<span style=\"color: #06fff0; font-size: 0.7rem;\">■■■■■■■■■■■■■■■■■■■■■■■■■■■■■■■■■■■■■■■■■■■■■■■■■■■■■■■■■■■■■■■■■■■■■■■■■■■■■■■■■■■■■■■■■■■■■■■■■■■■■■■■■■■■■■■</span>\n",
    "\n",
    "<br>"
   ]
  },
  {
   "cell_type": "markdown",
   "id": "0d843c4e-6798-4f84-8c2b-dbb5c9c96052",
   "metadata": {},
   "source": [
    "<code style=\"background-color: yellow; padding: 7px;\">np.<span style=\"color: red;\"><span style=\"font-size: 1rem;\"><strong>argsort(</strong></span> <span style=\"background-color: white; color: black;\">arr</span>, <span style=\"color: black;\">axes</span><span style=\"color: #9b96a1;\">='-1'</span> <span style=\"font-size: 1rem;\"><strong>)</strong></span></span></code>"
   ]
  },
  {
   "cell_type": "markdown",
   "id": "80bf516e-eedf-4811-879b-a529f65a6dcf",
   "metadata": {},
   "source": [
    "<div style=\"margin-left: 70px;\">\n",
    "    \n",
    "=====> &nbsp;&nbsp;It sorts a &nbsp;<u>one-dimensional array</u>&nbsp; or &nbsp;<u>each row of a multi-dimensional array individually</u>&nbsp; and returns the indices of the sorted elements.\n",
    "\n",
    "=====> &nbsp;&nbsp;It is typically used for sorting a <strong>single array</strong>.\n",
    "\n",
    "=====> &nbsp;&nbsp;It performs a <span style=\"color: blue;\"><strong>stable sort</strong></span>, &nbsp;meaning that when two elements have the same value, &nbsp;they <u>retain their relative order</u> in the sorted output.\n",
    "\n",
    "</div\n",
    "\n",
    "<br>\n",
    "<br>\n",
    "\n",
    "<strong>1D Array</strong>"
   ]
  },
  {
   "cell_type": "code",
   "execution_count": 14,
   "id": "51541fb8-cb96-4231-9369-15789625525f",
   "metadata": {},
   "outputs": [
    {
     "name": "stdout",
     "output_type": "stream",
     "text": [
      "Original Array: [3 1 2 4]\n",
      "Sorted Indices: [1 2 0 3]\n",
      "Array in Sorted Order: [1 2 3 4]\n"
     ]
    }
   ],
   "source": [
    "\n",
    "arr = np.array([3, 1, 2, 4])\n",
    "\n",
    "sorted_indices = np.argsort(arr)\n",
    "\n",
    "print(\"Original Array:\", arr)\n",
    "print(\"Sorted Indices:\", sorted_indices)                              # OUTPUT: [1  2  0  3]   ---------->   [ arr[1]   arr[2]   arr[0]   arr[3] ]\n",
    "print(\"Array in Sorted Order:\", arr[sorted_indices])                  # OUTPUT:                              [   1        2        3        4    ]\n"
   ]
  },
  {
   "cell_type": "markdown",
   "id": "5e9c7f99-2c8a-4fa2-b87f-fb0aaba2e72d",
   "metadata": {},
   "source": [
    "<br>\n",
    "\n",
    "<span style=\"color: #a245ff;\">You can also use the built-in numpy function</span> &nbsp;&nbsp;=====>&nbsp;&nbsp;&nbsp;<code style=\"background-color: yellow; padding: 6px;\">numpy.<span style=\"color: red;\"><span style=\"font-size: 1rem;\"><strong>take_along_axis(</strong></span><span style=\"color: black;\">arr</span>, <span style=\"color: black;\">sorted_indices</span>, <span style=\"color: black;\">axes</span><span style=\"color: #9b96a1;\">='-1'</span><span style=\"font-size: 1rem;\"><strong>)</strong></span></code>"
   ]
  },
  {
   "cell_type": "code",
   "execution_count": 15,
   "id": "3b18cb05-78f6-4aa8-9fef-39e7fa0b14c4",
   "metadata": {},
   "outputs": [
    {
     "data": {
      "text/plain": [
       "array([1, 2, 3, 4])"
      ]
     },
     "execution_count": 15,
     "metadata": {},
     "output_type": "execute_result"
    }
   ],
   "source": [
    "\n",
    "sorted_array = np.take_along_axis(arr, sorted_indices, axis=0)\n",
    "sorted_array\n"
   ]
  },
  {
   "cell_type": "markdown",
   "id": "d6936809-ee6b-424b-b945-840121f405cc",
   "metadata": {},
   "source": [
    "<br>\n",
    "\n",
    "<strong>2D Array (Row-Wise)</strong>\n",
    "\n",
    "<span style=\"background-color: #92d7ff; color: black;\">&nbsp;STEP - 1&nbsp;</span>"
   ]
  },
  {
   "cell_type": "code",
   "execution_count": 194,
   "id": "ea9d9b74-8414-47ba-8a20-41bb3debc8b4",
   "metadata": {},
   "outputs": [
    {
     "name": "stdout",
     "output_type": "stream",
     "text": [
      "Original Array:\n",
      "[[3 1 2]\n",
      " [9 7 8]\n",
      " [6 5 4]]\n",
      "\n",
      "Indices of Sorted Elements Row-Wise:\n",
      "[[1 2 0]\n",
      " [1 2 0]\n",
      " [2 1 0]]\n"
     ]
    }
   ],
   "source": [
    "\n",
    "arr = np.array([[3, 1, 2],\n",
    "                [9, 7, 8],\n",
    "                [6, 5, 4]])\n",
    "\n",
    "\n",
    "sorted_indices = np.argsort(arr, axis=1)\n",
    "\n",
    "print(\"Original Array:\")\n",
    "print(arr)\n",
    "print(\"\\nIndices of Sorted Elements Row-Wise:\")\n",
    "print(sorted_indices)\n"
   ]
  },
  {
   "cell_type": "markdown",
   "id": "dafaec11-90c4-46f8-a67a-43761d555b29",
   "metadata": {},
   "source": [
    "<br>\n",
    "\n",
    "<span style=\"background-color: #92d7ff; color: black;\">&nbsp;STEP - 2&nbsp;</span>\n",
    "\n",
    "<span style=\"color: #a245ff;\">However, in this case &nbsp;<code>arr[sorted_indices]</code>&nbsp; will not give the sorted array</span>"
   ]
  },
  {
   "cell_type": "code",
   "execution_count": 196,
   "id": "8df6b13f-16d7-4da1-a8e0-f8b1842fa4c4",
   "metadata": {},
   "outputs": [
    {
     "name": "stdout",
     "output_type": "stream",
     "text": [
      "Array in Sorted Order:\n",
      "[[[9 7 8]\n",
      "  [6 5 4]\n",
      "  [3 1 2]]\n",
      "\n",
      " [[9 7 8]\n",
      "  [6 5 4]\n",
      "  [3 1 2]]\n",
      "\n",
      " [[6 5 4]\n",
      "  [9 7 8]\n",
      "  [3 1 2]]]\n"
     ]
    }
   ],
   "source": [
    "\n",
    "print(\"Array in Sorted Order:\")\n",
    "print(arr[sorted_indices])\n"
   ]
  },
  {
   "cell_type": "markdown",
   "id": "40981bfd-8007-4e9a-b6db-e9bcd2f3d208",
   "metadata": {},
   "source": [
    "<br>\n",
    "\n",
    "<span style=\"color: #a245ff;\">To print the sorted array, we can write a function to do the following :</span>"
   ]
  },
  {
   "cell_type": "code",
   "execution_count": 199,
   "id": "2506c5ea-9548-46af-88c2-5ea0749deef2",
   "metadata": {},
   "outputs": [
    {
     "name": "stdout",
     "output_type": "stream",
     "text": [
      "[1 2 3]\n",
      "[7 8 9]\n",
      "[4 5 6]\n"
     ]
    }
   ],
   "source": [
    "\n",
    "print(arr[0][sorted_indices][0])\n",
    "print(arr[1][sorted_indices][1])\n",
    "print(arr[2][sorted_indices][2])\n"
   ]
  },
  {
   "cell_type": "markdown",
   "id": "0d0663b1-c925-4ba0-acf6-13e9bcac0e17",
   "metadata": {},
   "source": [
    "<br>\n",
    "\n",
    "<span style=\"color: #a245ff;\">However, the better way is to use the built-in numpy function</span> &nbsp;<code style=\"background-color: yellow; padding: 6px;\">numpy.<span style=\"color: red;\"><span style=\"font-size: 1rem;\"><strong>take_along_axis(</strong></span><span style=\"color: black;\">arr</span>, <span style=\"color: black;\">sorted_indices</span>, <span style=\"color: black;\">axes</span><span style=\"color: #9b96a1;\">='-1'</span><span style=\"font-size: 1rem;\"><strong>)</strong></span></code>\n",
    "\n",
    "\n",
    "<span style=\"background-color: #92d7ff; color: black;\">&nbsp;STEP - 3&nbsp;</span>\n"
   ]
  },
  {
   "cell_type": "code",
   "execution_count": 201,
   "id": "fdf996e0-0d06-41cc-8d10-4da8d95f3797",
   "metadata": {},
   "outputs": [
    {
     "name": "stdout",
     "output_type": "stream",
     "text": [
      "Original Array:\n",
      "[[3 1 2]\n",
      " [9 7 8]\n",
      " [6 5 4]]\n",
      "\n",
      "Indices of Sorted Elements Row-Wise:\n",
      "[[1 2 0]\n",
      " [1 2 0]\n",
      " [2 1 0]]\n",
      "\n",
      "Row-Wise Sorted Array:\n",
      "[[1 2 3]\n",
      " [7 8 9]\n",
      " [4 5 6]]\n"
     ]
    }
   ],
   "source": [
    "\n",
    "arr = np.array([[3, 1, 2],\n",
    "                [9, 7, 8],\n",
    "                [6, 5, 4]])\n",
    "\n",
    "\n",
    "sorted_indices = np.argsort(arr, axis=1)                                    # Gets the sorted indices row-wise\n",
    "\n",
    "print(\"Original Array:\")\n",
    "print(arr)\n",
    "\n",
    "print(\"\\nIndices of Sorted Elements Row-Wise:\")\n",
    "print(sorted_indices)\n",
    "\n",
    "sorted_array = np.take_along_axis(arr, sorted_indices, axis=1)              # Uses the sorted_indices to sort the array row-wise\n",
    "\n",
    "print(\"\\nRow-Wise Sorted Array:\")\n",
    "print(sorted_array)\n"
   ]
  },
  {
   "cell_type": "markdown",
   "id": "9c56faaa-aaeb-4f52-9518-92498584e85a",
   "metadata": {},
   "source": [
    "<br>\n",
    "\n",
    "<span style=\"color: #06fff0; font-size: 0.7rem;\">■■■■■■■■■■■■■■■■■■■■■■■■■■■■■■■■■■■■■■■■■■■■■■■■■■■■■■■■■■■■■■■■■■■■■■■■■■■■■■■■■■■■■■■■■■■■■■■■■■■■■■■■■■■■■■■</span>\n",
    "\n",
    "<br>"
   ]
  },
  {
   "cell_type": "markdown",
   "id": "de0fa789-c7cf-4643-a532-404bab1ae5ed",
   "metadata": {},
   "source": [
    "<code style=\"background-color: yellow; padding: 7px;\">np.<span style=\"color: red;\"><span style=\"font-size: 1rem;\"><strong>lexsort(</strong></span> <span style=\"background-color: white; color: black;\">(arr1, arr2)</span> <span style=\"font-size: 1rem;\"><strong>)</strong></span></span></code>"
   ]
  },
  {
   "cell_type": "markdown",
   "id": "ceba59c7-c052-493a-9c0e-079518ae0ffd",
   "metadata": {},
   "source": [
    "<div style=\"margin-left: 70px;\">\n",
    "    \n",
    "=====> &nbsp;&nbsp;it is used to perform an indirect stable sort using <strong>multiple keys (or columns)</strong>, especially useful for structured or multi-dimensional data.\n",
    "\n",
    "=====> &nbsp;&nbsp;It sorts data in a <strong>lexicographical manner</strong>, &nbsp;which means <u>it first sorts using the last key, &nbsp;then the second-to-last key, &nbsp;and so on</u>.\n",
    "\n",
    "=====> &nbsp;&nbsp;It is <strong>specifically designed for sorting based on multiple criteria (arrays)</strong>. \n",
    "<br>&nbsp;&nbsp;&nbsp;&nbsp;&nbsp;&nbsp;&nbsp;&nbsp;&nbsp;&nbsp;&nbsp;&nbsp;&nbsp;&nbsp;&nbsp;&nbsp;&nbsp;&nbsp;<u>It allows you to sort by one array while breaking ties by looking at additional arrays</u>. \n",
    "<br>&nbsp;&nbsp;&nbsp;&nbsp;&nbsp;&nbsp;&nbsp;&nbsp;&nbsp;&nbsp;&nbsp;&nbsp;&nbsp;&nbsp;&nbsp;&nbsp;&nbsp;&nbsp;Typically used for <strong>Column wise sorting</strong>.\n",
    "\n",
    "</div>"
   ]
  },
  {
   "cell_type": "code",
   "execution_count": 23,
   "id": "75fe7b10-9eb3-40dc-8954-beaff5ea438c",
   "metadata": {},
   "outputs": [
    {
     "name": "stdout",
     "output_type": "stream",
     "text": [
      "[3 2 0 1]\n"
     ]
    }
   ],
   "source": [
    "\n",
    "# Two arrays that we want to sort by\n",
    "names = np.array(['Bob', 'Alice', 'Eve', 'Bob'])\n",
    "ages = np.array([25, 30, 22, 22])\n",
    "\n",
    "\n",
    "# Perform lexsort using the 'ages' array as the primary key and 'names' as the secondary key\n",
    "sorted_indices = np.lexsort((names, ages))\n",
    "print(sorted_indices)\n"
   ]
  },
  {
   "cell_type": "markdown",
   "id": "446ab080-2665-4877-8652-04544e1fb640",
   "metadata": {},
   "source": [
    "\n",
    "<span style=\"color: #a245ff;\"> The output &nbsp;<code>[3, 2, 0, 1]</code>&nbsp; indicates that the sorting happened by <strong>ages</strong> first, and <u>for equal ages, it sorted by <strong>names</strong></u> .</span>\n"
   ]
  },
  {
   "cell_type": "markdown",
   "id": "fe1458d7-d806-4f1f-9539-4a94b67d5f5c",
   "metadata": {},
   "source": [
    "<br>\n",
    "\n",
    "<span style=\"color: #06fff0; font-size: 0.7rem;\">■■■■■■■■■■■■■■■■■■■■■■■■■■■■■■■■■■■■■■■■■■■■■■■■■■■■■■■■■■■■■■■■■■■■■■■■■■■■■■■■■■■■■■■■■■■■■■■■■■■■■■■■■■■■■■■</span>\n",
    "\n",
    "<br>\n",
    "\n",
    "<code style=\"background-color: yellow;\">np.<span style=\"color: red; font-size: 1rem;\"><strong>sort()</strong></span></code> &nbsp;<u>does &nbsp;not &nbsp;sort &nbsp;the &nbsp;array &nbsp;in-place</u> &nbsp;because &nbsp;it &nbsp;returns &nbsp;a &nbsp;<strong>sorted &nbsp;<span style=\"color: #ff70a2;\">copy</span></strong> &nbsp;of &nbsp;the &nbsp;array.\n",
    "\n",
    "<br>\n",
    "\n",
    "So the question is how to do <strong>inplace sorting</strong> of a numpy array?\n",
    "\n",
    "\n",
    "<code style=\"background-color: #dffffc;\">np.<span style=\"color: red;\"><span style=\"font-size: 1rem;\"><strong>sort(</strong></span><span style=\"color: blue; font-size: 1rem;\"><strong>arr</strong></span>, <span style=\"color: black;\">axis</span><span style=\"color: #5283fe;\">=-1</span>, <span style=\"color: black;\">kind</span>, <span style=\"color: black;\">order</span><span style=\"font-size: 1rem;\"><strong>)</strong></span></span></code> &nbsp;&nbsp;----------------------------------------&nbsp;&nbsp; returns <span style=\"color: black;\"><strong>sorted copy</strong></span> of the original array    <br>\n",
    "\n",
    "<code style=\"background-color: #dffffc;\"><span style=\"color: blue; font-size: 1rem;\"><strong>ndarray</strong></span>.<span style=\"color: red;\"><span style=\"font-size: 1rem;\"><strong>sort(</strong></span><span style=\"color: black;\">axis</span><span style=\"color: #5283fe;\">=-1</span>, <span style=\"color: black;\">kind</span>, <span style=\"color: black;\">order</span><span style=\"font-size: 1rem;\"><strong>)</strong></span></span></code> &nbsp;&nbsp;--------------------------------------- &nbsp;&nbsp; <span style=\"color: black;\"><strong>in-place sorting</strong></span> , modifies the original array\n",
    "\n",
    "<br>\n"
   ]
  },
  {
   "cell_type": "code",
   "execution_count": 52,
   "id": "51e4a0bd-c2ce-43ee-a340-0809d317b62d",
   "metadata": {},
   "outputs": [
    {
     "name": "stdout",
     "output_type": "stream",
     "text": [
      "[[1 2 3]\n",
      " [7 8 9]\n",
      " [4 5 6]]\n"
     ]
    }
   ],
   "source": [
    "\n",
    "arr = np.array([[3, 1, 2],\n",
    "                [9, 7, 8],\n",
    "                [6, 5, 4]])\n",
    "\n",
    "\n",
    "np_array = np.sort(arr, axis=1)                   # returns sorted copy of the array\n",
    "print(np_array)\n"
   ]
  },
  {
   "cell_type": "markdown",
   "id": "622440b5-195a-4af4-a43d-f0a3aba152c7",
   "metadata": {},
   "source": [
    "<br>\n",
    "\n",
    "<span style=\"color: #c658fc;\">Modifying the <code style=\"background-color: #e0e0e0;\">np_array</code> will <strong>not change anything in the original array</strong> <code style=\"background-color: #e0e0e0;\">a</code>. &nbsp;&nbsp;Let's verify :</span>"
   ]
  },
  {
   "cell_type": "code",
   "execution_count": 59,
   "id": "b0613a79-05b1-4803-a0d9-c22cbf413b0e",
   "metadata": {},
   "outputs": [
    {
     "name": "stdout",
     "output_type": "stream",
     "text": [
      "Original Array  ------->  'arr' =\n",
      "[[3 1 2]\n",
      " [9 7 8]\n",
      " [6 5 4]]\n",
      "\n",
      "Sorted copy  ---------->  'np_array' =\n",
      "[[1 2 3]\n",
      " [0 0 0]\n",
      " [4 5 6]]\n"
     ]
    }
   ],
   "source": [
    "\n",
    "np_array[1] = 0                                   # replacing all the elements of the second row (row index 1) by 0\n",
    "\n",
    "\n",
    "print(\"Original Array  ------->  'arr' =\")\n",
    "print(arr)\n",
    "\n",
    "print(\"\\nSorted copy  ---------->  'np_array' =\")\n",
    "print(np_array)\n"
   ]
  },
  {
   "cell_type": "markdown",
   "id": "b86146d4-9e30-40c5-bebb-457534e6ca81",
   "metadata": {},
   "source": [
    "<br>\n",
    "\n",
    "<span style=\"color: #c658fc;\">Now let's do the <u><strong>in-place</strong> sorting</u> of the numpy array &nbsp;<code>arr</code> :</span>"
   ]
  },
  {
   "cell_type": "code",
   "execution_count": 57,
   "id": "9029bb20-709e-4d87-8f02-97309fca53d8",
   "metadata": {},
   "outputs": [
    {
     "name": "stdout",
     "output_type": "stream",
     "text": [
      "Original Array =\n",
      "[[3 1 2]\n",
      " [9 7 8]\n",
      " [6 5 4]]\n",
      "\n",
      "Original Array After Row-Wise Sorting =\n",
      "[[1 2 3]\n",
      " [7 8 9]\n",
      " [4 5 6]]\n"
     ]
    }
   ],
   "source": [
    "\n",
    "arr = np.array([[3, 1, 2],\n",
    "                [9, 7, 8],\n",
    "                [6, 5, 4]])\n",
    "\n",
    "\n",
    "print(\"Original Array =\")\n",
    "print(arr)\n",
    "\n",
    "arr.sort(axis=1)\n",
    "\n",
    "print(\"\\nOriginal Array After Row-Wise Sorting =\")\n",
    "print(arr)\n"
   ]
  },
  {
   "cell_type": "markdown",
   "id": "cec7892e-ef30-4ce3-8d77-54794d075886",
   "metadata": {},
   "source": [
    "<br>\n",
    "\n",
    "<span style=\"color: #06fff0; font-size: 0.7rem;\">■■■■■■■■■■■■■■■■■■■■■■■■■■■■■■■■■■■■■■■■■■■■■■■■■■■■■■■■■■■■■■■■■■■■■■■■■■■■■■■■■■■■■■■■■■■■■■■■■■■■■■■■■■■■■■■</span>\n",
    "\n",
    "<br>"
   ]
  },
  {
   "cell_type": "code",
   "execution_count": 89,
   "id": "3ee2722b-9590-4811-8005-3da8ffc79505",
   "metadata": {},
   "outputs": [],
   "source": [
    "np.transpose(arr).sort()                 # does not return anything  -------->  WHY?  -------->  np.transpose returns a copy\n",
    "                                         #                                                       &\n",
    "                                         #                                                       we are not capturing 'np.transpose()' in a variable\n"
   ]
  },
  {
   "cell_type": "markdown",
   "id": "16e7a159-fc9b-4a52-8f93-2b74de4b7694",
   "metadata": {
    "jp-MarkdownHeadingCollapsed": true
   },
   "source": [
    "<br>\n",
    "\n",
    "### <div style=\"color: white; background-color: #af87ff; padding: 5px;\"> <code style=\"font-size: 1.2rem; background-color: #af87ff; color: white;\"><strong>numpy.flatten()</strong></code> </div>\n"
   ]
  },
  {
   "cell_type": "markdown",
   "id": "8d2eae3d-6014-41a5-b01e-e7484146f889",
   "metadata": {},
   "source": [
    "\n",
    "<code style=\"background-color: yellow; padding: 6px;\">ndarray.<span style=\"color: red;\"><span style=\"font-size: 1rem;\"><strong>flatten(</strong></span><span style=\"color: black;\">order</span><span style=\"color: #9b96a1;\">='C'</span><span style=\"font-size: 1rem;\"><strong>)</strong></span></code> &nbsp;&nbsp;&nbsp;-&nbsp;&nbsp; returns a <code style=\"background-color: blue; color: white;\">copy</code> of the array <strong>collapsed into one dimension</strong></span>  <br>\n",
    "<span style=\"margin-left: 238px;\"> -&nbsp;&nbsp; <code style=\"background-color: yellow;\">'C'</code> means to flatten array elements into <span style=\"color: blue;\">row-major order</span> (C-style)  &nbsp;&nbsp;========>&nbsp;&nbsp;  **DEFAULT**</span>   <br>\n",
    "<span style=\"margin-left: 238px;\"> -&nbsp;&nbsp; <code style=\"background-color: yellow;\">'F'</code> means to flatten array elements into <span style=\"color: blue;\">column-major order</span> (Fortran-style)</span>  <br>\n",
    "<span style=\"margin-left: 238px;\"> -&nbsp;&nbsp; <code style=\"background-color: yellow;\">'A'</code> means to flatten array elements in &nbsp;<u><span style=\"color: blue;\">column-major order</span> if a is Fortran contiguous in memory</u> &nbsp;or&nbsp; <u>row-major otherwise</u></span>  <br>\n",
    "<span style=\"margin-left: 238px;\"> -&nbsp;&nbsp; <code style=\"background-color: yellow;\">'K'</code> means to flatten array elements in order of the elements laid out in memory\n",
    "\n",
    "<br>\n",
    "\n",
    "<code style=\"color: white; background-color: black;\">Example - 1</code> &nbsp;&nbsp;<span style=\"color: #2fbd0b;\">Using <span style=\"color: red;\">flatten( )</span> method with a multidimensional array</span>"
   ]
  },
  {
   "cell_type": "code",
   "execution_count": 33,
   "id": "ac70c9f9-99bb-471b-a6cb-97c4f6e3e192",
   "metadata": {},
   "outputs": [
    {
     "name": "stdout",
     "output_type": "stream",
     "text": [
      "[1 2 3 4]\n"
     ]
    }
   ],
   "source": [
    "\n",
    "a = np.array([[1, 2], \n",
    "              [3, 4]])\n",
    "\n",
    "\n",
    "b = a.flatten()                    # order = \"C\"   ----->   row major order\n",
    "print(b)\n"
   ]
  },
  {
   "cell_type": "markdown",
   "id": "3d452d49-79c9-4b66-bbdd-6cabf773dd8e",
   "metadata": {},
   "source": [
    "\n",
    "<div style=\"margin-left: 100px;\">\n",
    "\n",
    "![](../media/numpy_33.PNG)\n",
    "\n",
    "</div>\n",
    "\n",
    "<span style=\"font-size: 1.5rem;\">⭐&nbsp;&nbsp;</span><strong>Note</strong> that &nbsp;<code style=\"background-color: #efd0ff;\"> b </code>&nbsp; is a copy, not a view of the array &nbsp;<code style=\"background-color: #efd0ff;\"> a </code>&nbsp;. &nbsp;If you change elements in array &nbsp;<code style=\"background-color: #efd0ff;\"> b </code>&nbsp;, the elements in array &nbsp;<code style=\"background-color: #efd0ff;\"> a </code>&nbsp; are not changed. &nbsp;<span style=\"color: #a245ff;\">For example :</span>"
   ]
  },
  {
   "cell_type": "code",
   "execution_count": 32,
   "id": "19a4297d-6c44-489d-96c5-2fc29150f881",
   "metadata": {},
   "outputs": [
    {
     "name": "stdout",
     "output_type": "stream",
     "text": [
      "[0 2 3 4]\n",
      "[[1 2]\n",
      " [3 4]]\n"
     ]
    }
   ],
   "source": [
    "\n",
    "a = np.array([[1, 2], [3, 4]])\n",
    "b = a.flatten()\n",
    "\n",
    "b[0] = 0                           # change element at index 0\n",
    "print(b)\n",
    "\n",
    "print(a)                           # display the array 'a'    --------->    the change is not refllected in the original array 'a'\n"
   ]
  },
  {
   "cell_type": "markdown",
   "id": "33a873fc-b8d4-4f0a-a76c-dd95fe60aceb",
   "metadata": {},
   "source": [
    "\n",
    "<br>\n",
    "\n",
    "Also note that you <strong>cannot</strong> use <code>np.<span style=\"color: red;\">flatten( )</span></code> method like other methods :"
   ]
  },
  {
   "cell_type": "code",
   "execution_count": 29,
   "id": "35525097-d392-4ebb-9d79-a849f5309bcf",
   "metadata": {},
   "outputs": [
    {
     "ename": "AttributeError",
     "evalue": "module 'numpy' has no attribute 'flatten'",
     "output_type": "error",
     "traceback": [
      "\u001b[1;31m---------------------------------------------------------------------------\u001b[0m",
      "\u001b[1;31mAttributeError\u001b[0m                            Traceback (most recent call last)",
      "Cell \u001b[1;32mIn[29], line 1\u001b[0m\n\u001b[1;32m----> 1\u001b[0m c \u001b[38;5;241m=\u001b[39m \u001b[43mnp\u001b[49m\u001b[38;5;241;43m.\u001b[39;49m\u001b[43mflatten\u001b[49m(a)\n\u001b[0;32m      2\u001b[0m \u001b[38;5;28mprint\u001b[39m(c)\n",
      "File \u001b[1;32m~\\AppData\\Local\\Programs\\Python\\Python311\\Lib\\site-packages\\numpy\\__init__.py:311\u001b[0m, in \u001b[0;36m__getattr__\u001b[1;34m(attr)\u001b[0m\n\u001b[0;32m    308\u001b[0m     \u001b[38;5;28;01mfrom\u001b[39;00m \u001b[38;5;21;01m.\u001b[39;00m\u001b[38;5;21;01mtesting\u001b[39;00m \u001b[38;5;28;01mimport\u001b[39;00m Tester\n\u001b[0;32m    309\u001b[0m     \u001b[38;5;28;01mreturn\u001b[39;00m Tester\n\u001b[1;32m--> 311\u001b[0m \u001b[38;5;28;01mraise\u001b[39;00m \u001b[38;5;167;01mAttributeError\u001b[39;00m(\u001b[38;5;124m\"\u001b[39m\u001b[38;5;124mmodule \u001b[39m\u001b[38;5;132;01m{!r}\u001b[39;00m\u001b[38;5;124m has no attribute \u001b[39m\u001b[38;5;124m\"\u001b[39m\n\u001b[0;32m    312\u001b[0m                      \u001b[38;5;124m\"\u001b[39m\u001b[38;5;132;01m{!r}\u001b[39;00m\u001b[38;5;124m\"\u001b[39m\u001b[38;5;241m.\u001b[39mformat(\u001b[38;5;18m__name__\u001b[39m, attr))\n",
      "\u001b[1;31mAttributeError\u001b[0m: module 'numpy' has no attribute 'flatten'"
     ]
    }
   ],
   "source": [
    "\n",
    "c = np.flatten(a)\n",
    "print(c)\n"
   ]
  },
  {
   "cell_type": "markdown",
   "id": "65bb658c-df89-491a-966f-cf316f26fdd7",
   "metadata": {},
   "source": [
    "<br>\n",
    "\n",
    "<code style=\"color: white; background-color: black;\">Example - 2</code> &nbsp;&nbsp;<span style=\"color: #2fbd0b;\">Using <span style=\"color: red;\">flatten( )</span> method with a multidimensional array to flatten an array using <strong>column-major order</strong></span>"
   ]
  },
  {
   "cell_type": "code",
   "execution_count": 35,
   "id": "8addbdb0-5dba-4558-b5e5-468067437968",
   "metadata": {},
   "outputs": [
    {
     "name": "stdout",
     "output_type": "stream",
     "text": [
      "[1 3 2 4]\n"
     ]
    }
   ],
   "source": [
    "\n",
    "a = np.array([[1, 2], \n",
    "              [3, 4]])\n",
    "\n",
    "b = a.flatten(order='F')\n",
    "\n",
    "print(b)\n"
   ]
  },
  {
   "cell_type": "markdown",
   "id": "96861bad-e0b9-45a9-87e5-e65ca9d8a352",
   "metadata": {},
   "source": [
    "<div style=\"margin-left: 100px;\">\n",
    "\n",
    "![](../media/numpy_34.PNG)\n",
    "\n",
    "</div>"
   ]
  },
  {
   "cell_type": "markdown",
   "id": "5a1bbaed-6347-4824-a014-8f8fb39ee01b",
   "metadata": {},
   "source": [
    "<br>\n",
    "\n",
    "<span style=\"color: #06fff0; font-size: 0.7rem;\">■■■■■■■■■■■■■■■■■■■■■■■■■■■■■■■■■■■■■■■■■■■■■■■■■■■■■■■■■■■■■■■■■■■■■■■■■■■■■■■■■■■■■■■■■■■■■■■■■■■■■■■■■■■■■■■</span>"
   ]
  },
  {
   "cell_type": "markdown",
   "id": "172cf301-584d-49d3-9b34-a7585496c90f",
   "metadata": {},
   "source": [
    "<code style=\"background-color: white; font-size: 1rem;\">Key Differences between <code style=\"background-color: yellow;\">flat</code> and <code style=\"background-color: yellow;\">flatten()</code></code>\n",
    "\n",
    "<br>\n",
    "\n",
    "<div style=\"margin-left: 100px;\">\n",
    "\n",
    "![](../media/numpy_flat_flatten_difference.PNG)\n",
    "\n",
    "</div>\n",
    "\n",
    "<br>\n",
    "\n",
    "<code style=\"color: black; background-color: yellow; font-size: 1rem;\">flat</span>"
   ]
  },
  {
   "cell_type": "code",
   "execution_count": 20,
   "id": "302fe0a3-391f-425c-a562-548fe95b6d62",
   "metadata": {},
   "outputs": [
    {
     "name": "stdout",
     "output_type": "stream",
     "text": [
      "Original array:\n",
      " [[1 2]\n",
      " [3 4]] \n",
      "\n",
      "<class 'numpy.flatiter'> \n",
      "\n",
      "1\n",
      "2\n",
      "3\n",
      "4\n",
      "\n",
      "Modified array:\n",
      " [[ 1  2]\n",
      " [10  4]]\n"
     ]
    }
   ],
   "source": [
    "\n",
    "arr = np.array([[1, 2], [3, 4]])\n",
    "print(\"Original array:\\n\", arr, \"\\n\")\n",
    "\n",
    "\n",
    "# Finding the type of the <flat> attribute\n",
    "print(type(arr.flat), \"\\n\")\n",
    "\n",
    "\n",
    "# Using flat to iterate over elements\n",
    "for val in arr.flat:\n",
    "    print(val)\n",
    "\n",
    "\n",
    "# Modifying elements through flat\n",
    "arr.flat[2] = 10\n",
    "print(\"\\nModified array:\\n\", arr)\n"
   ]
  },
  {
   "cell_type": "markdown",
   "id": "157b7b40-5a77-4d9e-9a7a-898604c8f4e8",
   "metadata": {},
   "source": [
    "<br>\n",
    "\n",
    "<code style=\"color: black; background-color: yellow; font-size: 1rem;\">flatten()</span>"
   ]
  },
  {
   "cell_type": "code",
   "execution_count": 38,
   "id": "0d566e78-d969-4ded-a50a-dd54219969b7",
   "metadata": {},
   "outputs": [
    {
     "name": "stdout",
     "output_type": "stream",
     "text": [
      "Original array:\n",
      " [[1 2]\n",
      " [3 4]] \n",
      "\n",
      "Flattened array: [1 2 3 4] \n",
      "\n",
      "Modified flattened array: [ 1  2 10  4] \n",
      "\n",
      "Original array remains unchanged:\n",
      " [[1 2]\n",
      " [3 4]]\n"
     ]
    }
   ],
   "source": [
    "\n",
    "arr = np.array([[1, 2], [3, 4]])\n",
    "print(\"Original array:\\n\", arr, \"\\n\")\n",
    "\n",
    "\n",
    "# Using flatten to create a copy\n",
    "flattened = arr.flatten()\n",
    "print(\"Flattened array:\", flattened, \"\\n\")                      # OUTPUT:  [1 2 3 4]\n",
    "\n",
    "\n",
    "# Modifying the flattened copy\n",
    "flattened[2] = 10\n",
    "print(\"Modified flattened array:\", flattened, \"\\n\")             # OUTPUT:  [ 1  2 10  4]\n",
    "print(\"Original array remains unchanged:\\n\", arr)\n"
   ]
  },
  {
   "cell_type": "code",
   "execution_count": null,
   "id": "4ee51266-5ed1-4f49-a880-580023063a32",
   "metadata": {},
   "outputs": [],
   "source": []
  },
  {
   "cell_type": "markdown",
   "id": "b052a3dc-8abb-48b9-90e0-bc7a8cfd9e9f",
   "metadata": {
    "jp-MarkdownHeadingCollapsed": true
   },
   "source": [
    "<br>\n",
    "\n",
    "### <div style=\"color: white; background-color: #af87ff; padding: 5px;\"> <code style=\"font-size: 1.2rem; background-color: #af87ff; color: white;\"><strong>numpy.ravel()</strong></code> </div>\n"
   ]
  },
  {
   "cell_type": "markdown",
   "id": "ef19c23c-5fb3-47ae-8f56-59dfca97d265",
   "metadata": {},
   "source": [
    "\n",
    "<code style=\"background-color: yellow; padding: 6px;\">ndarray.<span style=\"color: red;\"><span style=\"font-size: 1rem;\"><strong>ravel(</strong></span><span style=\"color: black;\">order</span><span style=\"color: #9b96a1;\">='C'</span><span style=\"font-size: 1rem;\"><strong>)</strong></span></code> &nbsp;&nbsp;&nbsp;-&nbsp;&nbsp; returns a contiguous flattened <code style=\"color: white; background-color: blue;\">view</code> version of the array  <br>\n",
    "<span style=\"margin-left: 220px;\"> -&nbsp;&nbsp; <code style=\"background-color: yellow;\">'C'</code> means to flatten array elements into <span style=\"color: blue;\">row-major order</span> (C-style)  &nbsp;&nbsp;========>&nbsp;&nbsp;  **DEFAULT**</span>   <br>\n",
    "<span style=\"margin-left: 220px;\"> -&nbsp;&nbsp; <code style=\"background-color: yellow;\">'F'</code> means to flatten array elements into <span style=\"color: blue;\">column-major order</span> (Fortran-style)</span>  <br>\n",
    "<span style=\"margin-left: 220px;\"> -&nbsp;&nbsp; <code style=\"background-color: yellow;\">'A'</code> means to flatten array elements in &nbsp;<u><span style=\"color: blue;\">column-major order</span> if a is Fortran contiguous in memory</u> &nbsp;or&nbsp; <u>row-major otherwise</u></span>  <br>\n",
    "<span style=\"margin-left: 220px;\"> -&nbsp;&nbsp; <code style=\"background-color: yellow;\">'K'</code> means to flatten array elements in order of the elements laid out in memory\n",
    "\n",
    "<br>\n",
    "\n",
    "<code style=\"color: white; background-color: black;\">Example - 1</code> &nbsp;&nbsp;<span style=\"color: #2fbd0b;\">Using <span style=\"color: red;\">flatten( )</span> function to flatten an array</span>"
   ]
  },
  {
   "cell_type": "code",
   "execution_count": 37,
   "id": "09836087-0ae6-448b-bb37-e72bb59e50c7",
   "metadata": {},
   "outputs": [
    {
     "name": "stdout",
     "output_type": "stream",
     "text": [
      "[1 2 3 4]\n"
     ]
    }
   ],
   "source": [
    "\n",
    "a = np.array([[1, 2], \n",
    "              [3, 4]])\n",
    "\n",
    "b = np.ravel(a)\n",
    "\n",
    "print(b)\n"
   ]
  },
  {
   "cell_type": "markdown",
   "id": "f4d36f3d-7528-4d70-95da-60e4d263daab",
   "metadata": {},
   "source": [
    "<div style=\"margin-left: 120px;\">\n",
    "\n",
    "![](../media/numpy_35.PNG)\n",
    "\n",
    "</div>\n",
    "\n",
    "<br>\n",
    "\n",
    "<code style=\"color: white; background-color: black;\">Example - 2</code> &nbsp;&nbsp;<span style=\"color: #2fbd0b;\"><span style=\"color: red;\">ravel( )</span> &nbsp;function &nbsp;<strong>vs</strong> &nbsp;<span style=\"color: red;\">flatten( )</span> &nbsp;method</span>"
   ]
  },
  {
   "cell_type": "code",
   "execution_count": 51,
   "id": "7e719b1b-a457-4972-bb57-b1bbc2b43295",
   "metadata": {},
   "outputs": [
    {
     "name": "stdout",
     "output_type": "stream",
     "text": [
      "[0 2 3 4]\n",
      "[[0 2]\n",
      " [3 4]]\n"
     ]
    }
   ],
   "source": [
    "\n",
    "a = np.array([[1, 2], \n",
    "              [3, 4]])\n",
    "\n",
    "b = np.ravel(a)\n",
    "\n",
    "b[0] = 0                            # change element of the array \"b\" at index 0\n",
    "\n",
    "print(b)\n",
    "print(a)                            # the change is reflected in the original array \"a\"\n"
   ]
  },
  {
   "cell_type": "code",
   "execution_count": 49,
   "id": "d657fc64-5a43-4957-a88b-0b27a5caac96",
   "metadata": {},
   "outputs": [
    {
     "name": "stdout",
     "output_type": "stream",
     "text": [
      "[0 2 3 4]\n",
      "[[1 2]\n",
      " [3 4]]\n"
     ]
    }
   ],
   "source": [
    "\n",
    "a = np.array([[1, 2], \n",
    "              [3, 4]])\n",
    "\n",
    "b = a.flatten()\n",
    "\n",
    "b[0] = 0                            # change element of the array \"b\" at index 0\n",
    "\n",
    "print(b)\n",
    "print(a)                            # the change is not reflected in the original array \"a\"\n"
   ]
  },
  {
   "cell_type": "markdown",
   "id": "a83e7dfe-caf6-46e6-a046-35fda8a20430",
   "metadata": {},
   "source": [
    "<br>\n",
    "\n",
    "| <code style=\"background-color: white; font-size: 1rem;\">flatten(&nbsp;)</code> | <code style=\"background-color: white; font-size: 1rem;\">ravel(&nbsp;)</code> |\n",
    "|-----------|---------|\n",
    "| <br>you can call the &nbsp;<code style=\"background-color: yellow;\">arr.<span style=\"color: red;\">flatten()</span></code>&nbsp; method on a <code style=\"background-color: blue; color: white;\">ndarray</code> &nbsp;&nbsp;&nbsp;&nbsp;&nbsp;&nbsp;&nbsp;<br><br>|&nbsp;&nbsp;&nbsp;&nbsp;&nbsp;&nbsp;&nbsp; you can call the <code style=\"background-color: yellow;\">np.<span style=\"color: red;\">ravel(<span style=\"color: black;\">arr</span>)</span></code> function on an <code style=\"background-color: blue; color: white;\">array</code> or an <code style=\"background-color: blue; color: white;\">array-like object</code> |\n",
    "| <br>returns a <strong>copy</strong> of the input array &nbsp;&nbsp;&nbsp;&nbsp;&nbsp;&nbsp;&nbsp;<br><br>|&nbsp;&nbsp;&nbsp;&nbsp;&nbsp;&nbsp;&nbsp; returns a <strong>view</strong> of the input array  |"
   ]
  },
  {
   "cell_type": "markdown",
   "id": "2c637657-5905-431a-8ebe-90b7dc72a366",
   "metadata": {
    "jp-MarkdownHeadingCollapsed": true
   },
   "source": [
    "<br>\n",
    "\n",
    "### <div style=\"color: white; background-color: #af87ff; padding: 5px;\"> <code style=\"font-size: 1.2rem; background-color: #af87ff; color: white;\"><strong>numpy.unique()</strong></code> </div>\n"
   ]
  },
  {
   "cell_type": "markdown",
   "id": "6c3f47fe-35bb-4e50-9714-5896fd1a25f2",
   "metadata": {},
   "source": [
    "<code style=\"background-color: yellow; padding: 6px;\">ndarray.<span style=\"color: red;\"><span style=\"font-size: 1rem;\"><strong>unique(</strong></span><span style=\"color: black;\">axis</span><span style=\"color: #9b96a1;\">=None</span><span style=\"font-size: 1rem;\"><strong>)</strong></span></code>\n",
    "\n",
    "<br>\n",
    "\n",
    "<span style=\"color: blue;\"><strong>return &nbsp;unique &nbsp;elements</strong></span> &nbsp;&nbsp;( <code>axis=None</code> )"
   ]
  },
  {
   "cell_type": "code",
   "execution_count": 42,
   "id": "d3f05a1f-c29f-4e8e-a5db-02a3ea51b914",
   "metadata": {},
   "outputs": [
    {
     "data": {
      "text/plain": [
       "array([1, 2, 3, 4, 5])"
      ]
     },
     "execution_count": 42,
     "metadata": {},
     "output_type": "execute_result"
    }
   ],
   "source": [
    "\n",
    "a = np.array([1, 2, 2, 3, 4, 4, 5])\n",
    "\n",
    "\n",
    "unique_elements = np.unique(a)                       # axis = None    ------>    flattens the array and remove the duplicates\n",
    "unique_elements\n"
   ]
  },
  {
   "cell_type": "code",
   "execution_count": 44,
   "id": "9cc69211-8394-4624-8d2a-05c4062879bc",
   "metadata": {},
   "outputs": [
    {
     "data": {
      "text/plain": [
       "array([1, 2, 3])"
      ]
     },
     "execution_count": 44,
     "metadata": {},
     "output_type": "execute_result"
    }
   ],
   "source": [
    "\n",
    "a = np.array([[1,2],\n",
    "              [3,2]])\n",
    "\n",
    "\n",
    "unique_elements = np.unique(a)                       # axis = None    ------>    flattens the array and remove the duplicates\n",
    "unique_elements\n"
   ]
  },
  {
   "cell_type": "markdown",
   "id": "7af645ce-052a-43fe-8012-68a6931b8995",
   "metadata": {},
   "source": [
    "<br>\n",
    "\n",
    "<span style=\"color: blue;\"><strong>return &nbsp;unique &nbsp;rows</strong></span> &nbsp;&nbsp;( <code>axis=0</code> )"
   ]
  },
  {
   "cell_type": "code",
   "execution_count": 4,
   "id": "19de25cc-22cf-4418-ba2f-e78d65f5a02c",
   "metadata": {},
   "outputs": [
    {
     "data": {
      "text/plain": [
       "array([[1, 2],\n",
       "       [3, 4],\n",
       "       [5, 6]])"
      ]
     },
     "execution_count": 4,
     "metadata": {},
     "output_type": "execute_result"
    }
   ],
   "source": [
    "\n",
    "array = np.array([[1, 2], \n",
    "                  [3, 4], \n",
    "                  [1, 2], \n",
    "                  [5, 6], \n",
    "                  [3, 4]])\n",
    "\n",
    "\n",
    "unique_rows = np.unique(array, axis=0)\n",
    "unique_rows\n"
   ]
  },
  {
   "cell_type": "markdown",
   "id": "7a6164ea-93e4-4f35-b8fc-34aff170edb3",
   "metadata": {},
   "source": [
    "<br>\n",
    "\n",
    "<span style=\"color: blue;\"><strong>return &nbsp;unique &nbsp;columns</strong></span> &nbsp;&nbsp;( <code>axis=1</code> )"
   ]
  },
  {
   "cell_type": "code",
   "execution_count": 6,
   "id": "a82e5a7d-9dc2-4d70-ba03-c8176cfba336",
   "metadata": {},
   "outputs": [
    {
     "data": {
      "text/plain": [
       "array([[1, 2, 3],\n",
       "       [4, 5, 6],\n",
       "       [7, 8, 9]])"
      ]
     },
     "execution_count": 6,
     "metadata": {},
     "output_type": "execute_result"
    }
   ],
   "source": [
    "\n",
    "array = np.array([[1, 2, 2, 3],\n",
    "                  [4, 5, 5, 6],\n",
    "                  [7, 8, 8, 9]])\n",
    "\n",
    "unique_columns = np.unique(array, axis=1)\n",
    "unique_columns\n"
   ]
  },
  {
   "cell_type": "code",
   "execution_count": null,
   "id": "e49b1ed7-97cb-44d6-a70a-9377d00cec91",
   "metadata": {},
   "outputs": [],
   "source": []
  },
  {
   "cell_type": "markdown",
   "id": "00358b76-7759-45e2-b518-b2abd928b7e8",
   "metadata": {
    "jp-MarkdownHeadingCollapsed": true
   },
   "source": [
    "<br>\n",
    "\n",
    "### <div style=\"color: white; background-color: #af87ff; padding: 5px;\"> <code style=\"font-size: 1.2rem; background-color: #af87ff; color: white;\"><strong>numpy.array_split()</strong></code> </div>\n"
   ]
  },
  {
   "cell_type": "markdown",
   "id": "2b2a9b15-f792-45c2-b71f-21da1228eb35",
   "metadata": {},
   "source": [
    "<code style=\"background-color: yellow;\">numpy.<span style=\"color: red;\"><span style=\"font-size: 1rem;\"><strong>array_split(</strong></span><span style=\"color: black;\">arr</span>, <span style=\"color: black;\">number_of_chunks</span><span style=\"font-size: 1rem;\"><strong>)</strong></span></span></code>\n",
    "\n",
    "<span style=\"color: blue;\">When reading files, process them in manageable chunks.</span>\n"
   ]
  },
  {
   "cell_type": "code",
   "execution_count": 6,
   "id": "2be63cbb-99a2-48b2-9d6d-5fd3b169609b",
   "metadata": {},
   "outputs": [
    {
     "data": {
      "text/plain": [
       "[array([[0.79489882, 0.91375321, 0.14712229, 0.00130784, 0.59009243,\n",
       "         0.96391199, 0.68223863, 0.21586384, 0.41130062, 0.43474799],\n",
       "        [0.24535877, 0.96695969, 0.60261186, 0.72405473, 0.3461946 ,\n",
       "         0.91187195, 0.86268061, 0.04794787, 0.12409635, 0.99202258]]),\n",
       " array([[0.07195962, 0.76817679, 0.5242941 , 0.04792136, 0.43433552,\n",
       "         0.28926355, 0.88176785, 0.27010587, 0.3721726 , 0.92083666],\n",
       "        [0.51428318, 0.98179105, 0.7092207 , 0.02003916, 0.52799103,\n",
       "         0.22559286, 0.61939461, 0.90639249, 0.81212202, 0.52066132]]),\n",
       " array([[0.76402585, 0.15085746, 0.3678289 , 0.18126681, 0.65920408,\n",
       "         0.26247597, 0.1848536 , 0.3596788 , 0.52963693, 0.19603155]])]"
      ]
     },
     "execution_count": 6,
     "metadata": {},
     "output_type": "execute_result"
    }
   ],
   "source": [
    "\n",
    "arr = np.random.rand(50).reshape(5, 10)\n",
    "chunks = np.array_split(arr, 3)                                              # Split into 3 chunks\n",
    "\n",
    "\n",
    "chunks\n"
   ]
  },
  {
   "cell_type": "markdown",
   "id": "daf5a0fd-683f-4e28-a524-6eb81783b603",
   "metadata": {},
   "source": [
    "<br>\n",
    "\n",
    "<span style=\"color: blue;\"><strong>Incremental &nbsp;Writing</strong> &nbsp;&nbsp;-&nbsp;&nbsp; You can save data in smaller chunks to avoid memory overflow.</span>"
   ]
  },
  {
   "cell_type": "code",
   "execution_count": 9,
   "id": "46c5496a-c823-4c45-9c12-55f739da1a91",
   "metadata": {},
   "outputs": [],
   "source": [
    "\n",
    "with open('large_array.dat', 'wb') as f:                                     # file mode = 'wb'\n",
    "    for i in range(10):\n",
    "        chunk = np.random.rand(100, 1000)\n",
    "        chunk.tofile(f)                                                      # Append chunk\n"
   ]
  },
  {
   "cell_type": "markdown",
   "id": "b85ad4b4-c481-4306-94c7-2544b81fbb37",
   "metadata": {},
   "source": [
    "<br>\n",
    "\n",
    "<code style=\"background-color: black; color: white;\"> Pandas Chunking </code>"
   ]
  },
  {
   "cell_type": "code",
   "execution_count": null,
   "id": "02fc9bae-2f51-479b-998f-a43d056b4dd8",
   "metadata": {},
   "outputs": [],
   "source": [
    "\n",
    "import pandas as pd\n",
    "\n",
    "\n",
    "chunks = pd.read_csv('large_file.csv', chunksize=100)\n",
    "for chunk in chunks:\n",
    "    print(chunk.describe())                                                  # Process each chunk independently\n"
   ]
  },
  {
   "cell_type": "code",
   "execution_count": null,
   "id": "b8af3604-6d21-417c-950c-6da21a27db78",
   "metadata": {},
   "outputs": [],
   "source": []
  },
  {
   "cell_type": "markdown",
   "id": "aa13c2aa-c9c7-4c4c-8ff5-79dc984b7329",
   "metadata": {
    "jp-MarkdownHeadingCollapsed": true
   },
   "source": [
    "<br>\n",
    "\n",
    "### <div style=\"color: white; background-color: #af87ff; padding: 5px;\"> <code style=\"font-size: 1.2rem; background-color: #af87ff; color: white;\"><strong>numpy.expand_dims()</strong></code> </div>\n"
   ]
  },
  {
   "cell_type": "markdown",
   "id": "fa6b3bbe-3d69-41ef-80f7-1ddc4ce02c03",
   "metadata": {},
   "source": [
    "\n",
    "<code style=\"background-color: yellow;\">numpy.<span style=\"color: red;\"><span style=\"font-size: 1rem;\"><strong>expand_dims(</strong></span><span style=\"color: black;\">arr</span>, <span style=\"color: black;\">axis</span><span style=\"font-size: 1rem;\"><strong>)</strong></span></span></code>  &nbsp;&nbsp;&nbsp;=====>&nbsp;&nbsp;&nbsp; is used <u>to insert a new axis at a specified position</u> in the array.\n",
    "\n",
    "<div style=\"display: flex; margin-left: 245px;\">\n",
    "<div>&nbsp;&nbsp;&nbsp;=====>&nbsp;&nbsp;&nbsp;</div>\n",
    "<div>This helps to reshape an array temporarily without altering its data, &nbsp;and it’s especially helpful when you need to perform operations on arrays with different shapes.</div>\n",
    "</div>\n"
   ]
  },
  {
   "cell_type": "code",
   "execution_count": 83,
   "id": "05e89990-56c8-4469-a2d9-3280f48fab28",
   "metadata": {},
   "outputs": [
    {
     "name": "stdout",
     "output_type": "stream",
     "text": [
      "arr                 ===========>  [1 2 3]\n",
      "arr.shape           ===========>  (3,)\n",
      "arr.ndim            ===========>  1 \n",
      "\n",
      "arr_expanded        ===========>  [[1 2 3]]\n",
      "arr_expanded.shape  ===========>  (1, 3)\n",
      "arr_expanded.ndim   ===========>  2\n"
     ]
    }
   ],
   "source": [
    "\n",
    "arr = np.array([1, 2, 3])\n",
    "print('arr                 ===========> ', arr)\n",
    "print('arr.shape           ===========> ', arr.shape)                        #  OUTPUT:  (3,)\n",
    "print('arr.ndim            ===========> ', arr.ndim, \"\\n\")                   #  OUTPUT:  1\n",
    "\n",
    "\n",
    "arr_expanded = np.expand_dims(arr, axis=0)                                   #  adds a new axis at position 0 (turns it into a 2D row vector)\n",
    "print('arr_expanded        ===========> ', arr_expanded)                     #  OUTPUT:  [[1 2 3]]\n",
    "print('arr_expanded.shape  ===========> ', arr_expanded.shape)               #  OUTPUT:  (1, 3)\n",
    "print('arr_expanded.ndim   ===========> ', arr_expanded.ndim)                #  OUTPUT:  2\n"
   ]
  },
  {
   "cell_type": "markdown",
   "id": "e7692f4e-1e07-4d38-aea9-c4841860d223",
   "metadata": {
    "jp-MarkdownHeadingCollapsed": true
   },
   "source": [
    "<br>\n",
    "\n",
    "### <div style=\"color: white; background-color: #af87ff; padding: 5px;\"> <code style=\"font-size: 1.2rem; background-color: #af87ff; color: white;\"><strong>numpy.squeeze()</strong></code> </div>\n"
   ]
  },
  {
   "cell_type": "markdown",
   "id": "37ffa143-f46f-454a-857d-55b36c070cb5",
   "metadata": {},
   "source": [
    "\n",
    "<code style=\"background-color: yellow;\">numpy.<span style=\"color: red;\"><span style=\"font-size: 1rem;\"><strong>squeeze(</strong></span><span style=\"color: black;\">arr</span>, <span style=\"color: black;\">axis</span><span style=\"font-size: 1rem;\"><strong>)</strong></span></span></code>  &nbsp;&nbsp;&nbsp;=====>&nbsp;&nbsp;&nbsp; removes all axes of length 1 from an array.\n",
    "\n",
    "<span style=\"margin-left: 210px;\">&nbsp;&nbsp;&nbsp;=====>&nbsp;&nbsp;&nbsp; It is commonly used to reduce the dimensionality of arrays.</span>\n"
   ]
  },
  {
   "cell_type": "markdown",
   "id": "504af652-d6ef-4f33-8493-e90b60c4222a",
   "metadata": {},
   "source": [
    "<br>\n",
    "\n",
    "<code style=\"background-color: black; color: white;\">Example-1</code>\n",
    "\n",
    "<br>\n",
    "\n",
    "<code style=\"background-color: #f1c6ff;\">axis = None</code> &nbsp;&nbsp;(default)"
   ]
  },
  {
   "cell_type": "code",
   "execution_count": 64,
   "id": "9ec9fa11-5070-4d1d-b19f-506e1f6173e7",
   "metadata": {},
   "outputs": [
    {
     "name": "stdout",
     "output_type": "stream",
     "text": [
      "[0 1 2]\n"
     ]
    }
   ],
   "source": [
    "\n",
    "a = np.array([[[0], [1], [2]]])            # 3D array   -------------------------->   shape = (1, 3, 1)   ------------->   1 layer, 3 rows, 1 column\n",
    "\n",
    "\n",
    "np_array = np.squeeze(a)                   # np_array = np.squeeze(a, axis=None)\n",
    "print(np_array)                            # 1D array   -------------------------->   shape = (3,)        ------------->   1 column\n"
   ]
  },
  {
   "cell_type": "markdown",
   "id": "cc8bba22-5cdf-4531-b1fd-445534dc41b6",
   "metadata": {},
   "source": [
    "<br>\n",
    "\n",
    "<code style=\"background-color: #f1c6ff;\">axis = 0</code>"
   ]
  },
  {
   "cell_type": "code",
   "execution_count": 71,
   "id": "5cb7d89e-3141-419c-98f0-669ca53077cc",
   "metadata": {},
   "outputs": [
    {
     "name": "stdout",
     "output_type": "stream",
     "text": [
      "[[0]\n",
      " [1]\n",
      " [2]]\n"
     ]
    }
   ],
   "source": [
    "\n",
    "a = np.array([[[0], [1], [2]]])            # 3D array   -------------------------->   shape = (1, 3, 1)   ------------->   1 layer, 3 rows, 1 column\n",
    "\n",
    "\n",
    "np_array = np.squeeze(a, axis=0)\n",
    "print(np_array)                            # 2D array   -------------------------->   shape = (3,1)       ------------->   3 rows, 1 column\n"
   ]
  },
  {
   "cell_type": "markdown",
   "id": "b26136df-e4be-4d67-8f4d-93e038bb33b9",
   "metadata": {},
   "source": [
    "<br>\n",
    "\n",
    "<code style=\"background-color: #f1c6ff;\">axis = 1</code>"
   ]
  },
  {
   "cell_type": "code",
   "execution_count": 70,
   "id": "91cc61be-8ee9-4d84-8ece-c5f5bfa993a3",
   "metadata": {},
   "outputs": [
    {
     "ename": "ValueError",
     "evalue": "cannot select an axis to squeeze out which has size not equal to one",
     "output_type": "error",
     "traceback": [
      "\u001b[1;31m---------------------------------------------------------------------------\u001b[0m",
      "\u001b[1;31mValueError\u001b[0m                                Traceback (most recent call last)",
      "Cell \u001b[1;32mIn[70], line 4\u001b[0m\n\u001b[0;32m      1\u001b[0m a \u001b[38;5;241m=\u001b[39m np\u001b[38;5;241m.\u001b[39marray([[[\u001b[38;5;241m0\u001b[39m], [\u001b[38;5;241m1\u001b[39m], [\u001b[38;5;241m2\u001b[39m]]])            \u001b[38;5;66;03m# 3D array   -------------------------->   shape = (1, 3, 1)   ------------->   1 layer, 3 rows, 1 column\u001b[39;00m\n\u001b[1;32m----> 4\u001b[0m np_array \u001b[38;5;241m=\u001b[39m \u001b[43mnp\u001b[49m\u001b[38;5;241;43m.\u001b[39;49m\u001b[43msqueeze\u001b[49m\u001b[43m(\u001b[49m\u001b[43ma\u001b[49m\u001b[43m,\u001b[49m\u001b[43m \u001b[49m\u001b[43maxis\u001b[49m\u001b[38;5;241;43m=\u001b[39;49m\u001b[38;5;241;43m1\u001b[39;49m\u001b[43m)\u001b[49m           \u001b[38;5;66;03m# ERROR\u001b[39;00m\n",
      "File \u001b[1;32m<__array_function__ internals>:180\u001b[0m, in \u001b[0;36msqueeze\u001b[1;34m(*args, **kwargs)\u001b[0m\n",
      "File \u001b[1;32m~\\AppData\\Local\\Programs\\Python\\Python311\\Lib\\site-packages\\numpy\\core\\fromnumeric.py:1545\u001b[0m, in \u001b[0;36msqueeze\u001b[1;34m(a, axis)\u001b[0m\n\u001b[0;32m   1543\u001b[0m     \u001b[38;5;28;01mreturn\u001b[39;00m squeeze()\n\u001b[0;32m   1544\u001b[0m \u001b[38;5;28;01melse\u001b[39;00m:\n\u001b[1;32m-> 1545\u001b[0m     \u001b[38;5;28;01mreturn\u001b[39;00m squeeze(axis\u001b[38;5;241m=\u001b[39maxis)\n",
      "\u001b[1;31mValueError\u001b[0m: cannot select an axis to squeeze out which has size not equal to one"
     ]
    }
   ],
   "source": [
    "\n",
    "a = np.array([[[0], [1], [2]]])            # 3D array   -------------------------->   shape = (1, 3, 1)   ------------->   1 layer, 3 rows, 1 column\n",
    "\n",
    "\n",
    "np_array = np.squeeze(a, axis=1)           # ERROR\n"
   ]
  },
  {
   "cell_type": "markdown",
   "id": "f21e50bf-6e60-4bf7-9677-ea635d754748",
   "metadata": {},
   "source": [
    "<br>\n",
    "\n",
    "<code style=\"background-color: #f1c6ff;\">axis = 2</code>"
   ]
  },
  {
   "cell_type": "code",
   "execution_count": 78,
   "id": "b3ba5db9-b399-4a10-8e9f-b91ff5b535df",
   "metadata": {},
   "outputs": [
    {
     "name": "stdout",
     "output_type": "stream",
     "text": [
      "[[0 1 2]]\n"
     ]
    }
   ],
   "source": [
    "\n",
    "a = np.array([[[0], [1], [2]]])            # 3D array   -------------------------->   shape = (1, 3, 1)   ------------->   1 layer, 3 rows, 1 column\n",
    "\n",
    "\n",
    "np_array = np.squeeze(a, axis=2)\n",
    "print(np_array)                            # 2D array   -------------------------->   shape = (1, 3)      ------------->   1 row, 3 columns\n"
   ]
  },
  {
   "cell_type": "markdown",
   "id": "c7da57ab-791b-4857-a763-77d8c1aaa763",
   "metadata": {},
   "source": [
    "<br>\n",
    "\n",
    "<code style=\"font-size:0.8rem; background-color: #f3eef5; color: black; padding: 3px;\">EXPLAINATION</code>\n",
    "\n",
    "<div style=\"display: flex;\">\n",
    "\n",
    "<div style=\"margin-left: 50px;\">\n",
    "\n",
    "![](../media/numpy_squeeze.PNG)\n",
    "\n",
    "</div>\n",
    "\n",
    "<div style=\"margin-left: 40px; margin-top: 90px;\">\n",
    "Since the <strong>shape</strong> of the array = <span style=\"background-color: #b2fff0; padding: 3px;\"> (1, 3, 1) </span>&nbsp;; &nbsp;it means that <span style=\"color: blue;\">all the axes are of length 1 except the 2nd axis ( <code>axis 1</code> )</span>. <br>That's why the array can be <u>squeezed</u> along all other axes <span style=\"background-color: yellow; padding: 3px;\">except the 2nd one (i.e, &nbsp;<code style=\"background-color: white;\">axis 1</code>)</span>\n",
    "</div>\n",
    "\n",
    "</div>"
   ]
  },
  {
   "cell_type": "markdown",
   "id": "614180e9-3dc4-415f-8dfa-b6661968dbb5",
   "metadata": {},
   "source": [
    "<br>\n",
    "\n",
    "<code style=\"background-color: black; color: white;\">Example-2</code>"
   ]
  },
  {
   "cell_type": "code",
   "execution_count": 91,
   "id": "a29e9a92-9c63-40d6-b2df-354dfe9c8c44",
   "metadata": {},
   "outputs": [
    {
     "name": "stdout",
     "output_type": "stream",
     "text": [
      "arr                 ===========>  [[[1 2 3]]]\n",
      "arr.shape           ===========>  (1, 1, 3)\n",
      "arr.ndim            ===========>  3 \n",
      "\n",
      "squeezed_arr        ===========>  [1 2 3]\n",
      "squeezed_arr.shape  ===========>  (3,)\n",
      "squeezed_arr.ndim   ===========>  1\n"
     ]
    }
   ],
   "source": [
    "\n",
    "arr = np.array([[[1, 2, 3]]])\n",
    "print('arr                 ===========> ', arr)\n",
    "print('arr.shape           ===========> ', arr.shape)\n",
    "print('arr.ndim            ===========> ', arr.ndim, \"\\n\")\n",
    "\n",
    "\n",
    "squeezed_arr = np.squeeze(arr)                                           #  removes axes of length 1 from an array (turns it into a 2D row vector)\n",
    "print('squeezed_arr        ===========> ', squeezed_arr)\n",
    "print('squeezed_arr.shape  ===========> ', squeezed_arr.shape)\n",
    "print('squeezed_arr.ndim   ===========> ', squeezed_arr.ndim)\n"
   ]
  },
  {
   "cell_type": "markdown",
   "id": "1ab22f31-b145-41f8-84ef-8972fcb826b8",
   "metadata": {},
   "source": [
    "<br>\n",
    "\n",
    "<span style=\"color: #a245ff;\">Since &nbsp;<code>arr</code> has a shape of &nbsp;<code>(1, 1, 3)</code>&nbsp;, squeeze will remove both the first and second dimensions (because they are of length 1).</span>\n",
    "\n",
    "<span style=\"color: #a245ff;\">After removing these two dimensions, &nbsp;<code>squeezed_arr</code>&nbsp; has a shape of &nbsp;<code>(3,)</code> , which is a 1D array.</span>"
   ]
  },
  {
   "cell_type": "markdown",
   "id": "83e67b76-7dfb-4550-bd49-3d5af294b385",
   "metadata": {
    "jp-MarkdownHeadingCollapsed": true
   },
   "source": [
    "<br>\n",
    "\n",
    "### <div style=\"color: white; background-color: #af87ff; padding: 5px;\"> <code style=\"font-size: 1.2rem; background-color: #af87ff; color: white;\"><strong>numpy.insert()</strong></code> </div>\n"
   ]
  },
  {
   "cell_type": "markdown",
   "id": "a7bb4144-54cc-4385-b931-30bbc0ead535",
   "metadata": {},
   "source": [
    "<code style=\"background-color: yellow;\">numpy.<span style=\"color: red;\"><span style=\"font-size: 1rem;\"><strong>insert(</strong></span><span style=\"color: black;\">arr</span>, <span style=\"color: black;\">index_obj</span>, <span style=\"color: black;\">values</span>, <span style=\"color: black;\">axis</span><span style=\"font-size: 1rem;\"><strong>)</strong></span></span></code>  &nbsp;&nbsp;&nbsp;=====>&nbsp;&nbsp;&nbsp; Insert values along the given axis before the given indices.\n",
    "\n",
    "<br>\n",
    "\n",
    "<code style=\"color: white; background-color: black;\">Example - 1</code> &nbsp;&nbsp;&nbsp;<span style=\"color: blue;\">axis = 0</span>"
   ]
  },
  {
   "cell_type": "code",
   "execution_count": 19,
   "id": "e2b8dc67-4bee-4291-ab94-63fa41fbfc03",
   "metadata": {},
   "outputs": [
    {
     "name": "stdout",
     "output_type": "stream",
     "text": [
      "[[0 1]\n",
      " [2 3]\n",
      " [4 5]]\n",
      "\n",
      "\n",
      "[0 6 1 2 3 4 5]\n"
     ]
    }
   ],
   "source": [
    "\n",
    "a = np.arange(6).reshape(3, 2)\n",
    "b = np.insert(a, 1, 6)                     # np.insert(a, 1, 6, axis=0)\n",
    "\n",
    "print(a)\n",
    "print(\"\\n\")\n",
    "print(b)\n"
   ]
  },
  {
   "cell_type": "markdown",
   "id": "86c9bc56-df38-45b5-a411-3f6677493d9e",
   "metadata": {},
   "source": [
    "<br>\n",
    "\n",
    "<div style=\"margin-left: 120px;\">\n",
    "\n",
    "![](../media/numpy_73.PNG)\n",
    "\n",
    "</div>\n",
    "\n",
    "<br>\n",
    "\n",
    "<code style=\"color: white; background-color: black;\">Example - 2A</code> &nbsp;&nbsp;&nbsp;<span style=\"color: blue;\">axis = 1</span>"
   ]
  },
  {
   "cell_type": "code",
   "execution_count": 20,
   "id": "b95ec3b8-c8ff-4881-be47-b7054d72ed40",
   "metadata": {},
   "outputs": [
    {
     "name": "stdout",
     "output_type": "stream",
     "text": [
      "[[0 1]\n",
      " [2 3]\n",
      " [4 5]]\n",
      "\n",
      "\n",
      "[[0 6 1]\n",
      " [2 6 3]\n",
      " [4 6 5]]\n"
     ]
    }
   ],
   "source": [
    "\n",
    "a = np.arange(6).reshape(3, 2)\n",
    "b = np.insert(a, 1, 6, axis=1)\n",
    "\n",
    "print(a)\n",
    "print(\"\\n\")\n",
    "print(b)\n"
   ]
  },
  {
   "cell_type": "markdown",
   "id": "4445db74-f7b8-475e-989e-bb2fbbbfed68",
   "metadata": {},
   "source": [
    "<div style=\"margin-left: 120px;\">\n",
    "\n",
    "![](../media/numpy_74.PNG)\n",
    "\n",
    "</div>\n",
    "\n",
    "<br>\n",
    "\n",
    "<code style=\"color: white; background-color: black;\">Example - 2B</code> &nbsp;&nbsp;&nbsp;<span style=\"color: blue;\">axis = 1</span>"
   ]
  },
  {
   "cell_type": "code",
   "execution_count": 21,
   "id": "35914b4e-0da6-46ad-9d93-644ae9159d60",
   "metadata": {},
   "outputs": [
    {
     "name": "stdout",
     "output_type": "stream",
     "text": [
      "[[[0 1]\n",
      "  [2 3]]\n",
      "\n",
      " [[4 5]\n",
      "  [6 7]]]\n",
      "\n",
      "\n",
      "[[[0 1]\n",
      "  [6 6]\n",
      "  [2 3]]\n",
      "\n",
      " [[4 5]\n",
      "  [6 6]\n",
      "  [6 7]]]\n"
     ]
    }
   ],
   "source": [
    "\n",
    "a = np.arange(8).reshape(2, 2, 2)\n",
    "b = np.insert(a, 1, 6, axis=1)\n",
    "\n",
    "print(a)\n",
    "print(\"\\n\")\n",
    "print(b)\n"
   ]
  },
  {
   "cell_type": "markdown",
   "id": "cda969c3-bfe2-40be-995f-c6ea8c076e4e",
   "metadata": {},
   "source": [
    "<div style=\"margin-left: 120px;\">\n",
    "\n",
    "![](../media/numpy_75.PNG)\n",
    "\n",
    "</div>\n",
    "\n",
    "<br>\n",
    "\n",
    "<code style=\"color: white; background-color: black;\">Example - 3</code> &nbsp;&nbsp;&nbsp;<span style=\"color: blue;\">axis = 2</span>"
   ]
  },
  {
   "cell_type": "code",
   "execution_count": 15,
   "id": "0f764aff-3076-4dff-aa0d-cf591d99a106",
   "metadata": {},
   "outputs": [
    {
     "name": "stdout",
     "output_type": "stream",
     "text": [
      "[[[0 1]\n",
      "  [2 3]]\n",
      "\n",
      " [[4 5]\n",
      "  [6 7]]]\n",
      "\n",
      "\n",
      "\n",
      "[[[0 6 1]\n",
      "  [2 6 3]]\n",
      "\n",
      " [[4 6 5]\n",
      "  [6 6 7]]]\n"
     ]
    }
   ],
   "source": [
    "\n",
    "a = np.arange(8).reshape(2, 2, 2)\n",
    "b = np.insert(a, 1, 6, axis=2)\n",
    "\n",
    "print(a)\n",
    "print(\"\\n\\n\")\n",
    "print(b)\n"
   ]
  },
  {
   "cell_type": "markdown",
   "id": "0257b904-1bd2-4f9f-80ed-181c19ff48f5",
   "metadata": {},
   "source": [
    "<div style=\"margin-left: 120px;\">\n",
    "\n",
    "![](../media/numpy_76.PNG)\n",
    "\n",
    "</div>\n",
    "\n",
    "<br>\n",
    "\n",
    "<span style=\"font-size: 1.2rem;\">⭐</span>&nbsp;&nbsp;Difference between sequence and scalars, showing how &nbsp;<code style=\"background-color: #b2fff0;\">obj=[1]</code>&nbsp; behaves different from <code style=\"background-color: #b2fff0;\">obj=1</code>&nbsp;:"
   ]
  },
  {
   "cell_type": "code",
   "execution_count": 23,
   "id": "a7b6296e-9efb-4ffb-9849-16e9ba72e092",
   "metadata": {},
   "outputs": [
    {
     "name": "stdout",
     "output_type": "stream",
     "text": [
      "[[0 1]\n",
      " [2 3]\n",
      " [4 5]]\n",
      "\n",
      "\n",
      "[[0 7 1]\n",
      " [2 8 3]\n",
      " [4 9 5]]\n"
     ]
    }
   ],
   "source": [
    "\n",
    "a = np.arange(6).reshape(3, 2)\n",
    "b = np.insert(a, [1], [[7],[8],[9]], axis=1)\n",
    "\n",
    "print(a)\n",
    "print(\"\\n\")\n",
    "print(b)\n"
   ]
  },
  {
   "cell_type": "markdown",
   "id": "dca87ece-b670-4cdb-9481-e87f428a752f",
   "metadata": {},
   "source": [
    "<div style=\"margin-left: 120px;\">\n",
    "\n",
    "![](../media/numpy_77.PNG)\n",
    "\n",
    "</div>"
   ]
  },
  {
   "cell_type": "code",
   "execution_count": 34,
   "id": "152f99a5-5e63-49ff-8cb0-5440499c94f0",
   "metadata": {},
   "outputs": [
    {
     "name": "stdout",
     "output_type": "stream",
     "text": [
      "[[0 1]\n",
      " [2 3]\n",
      " [4 5]]\n",
      "\n",
      "\n",
      "[[0 7 8 9 1]\n",
      " [2 7 8 9 3]\n",
      " [4 7 8 9 5]]\n"
     ]
    }
   ],
   "source": [
    "\n",
    "a = np.arange(6).reshape(3, 2)\n",
    "b = np.insert(a, 1, [[7],[8],[9]], axis=1)\n",
    "\n",
    "print(a)\n",
    "print(\"\\n\")\n",
    "print(b)\n"
   ]
  },
  {
   "cell_type": "markdown",
   "id": "f1281984-8635-44a9-96b8-52c328b1b955",
   "metadata": {},
   "source": [
    "<div style=\"margin-left: 120px;\">\n",
    "\n",
    "![](../media/numpy_78.PNG)\n",
    "\n",
    "</div>"
   ]
  },
  {
   "cell_type": "code",
   "execution_count": 33,
   "id": "1e281614-0fa7-42fd-9fb5-d0a9b71cab35",
   "metadata": {},
   "outputs": [
    {
     "name": "stdout",
     "output_type": "stream",
     "text": [
      "[[0 1]\n",
      " [2 3]\n",
      " [4 5]]\n",
      "\n",
      "\n",
      "[[0 1]\n",
      " [7 7]\n",
      " [8 8]\n",
      " [9 9]\n",
      " [2 3]\n",
      " [4 5]]\n"
     ]
    }
   ],
   "source": [
    "\n",
    "a = np.arange(6).reshape(3, 2)\n",
    "b = np.insert(a, [1], [[7],[8],[9]], axis=0)\n",
    "\n",
    "print(a)\n",
    "print(\"\\n\")\n",
    "print(b)\n"
   ]
  },
  {
   "cell_type": "markdown",
   "id": "fc1f2e95-8122-4af7-8cd0-be29c274abda",
   "metadata": {},
   "source": [
    "<div style=\"margin-left: 120px;\">\n",
    "\n",
    "![](../media/numpy_79.PNG)\n",
    "\n",
    "</div>"
   ]
  },
  {
   "cell_type": "code",
   "execution_count": 11,
   "id": "7cdfafa7-34d3-42f2-a2ad-de5407e2a87b",
   "metadata": {},
   "outputs": [
    {
     "name": "stdout",
     "output_type": "stream",
     "text": [
      "[[0 1]\n",
      " [2 3]\n",
      " [4 5]] \n",
      "\n",
      "[[0 7 1]\n",
      " [2 8 3]\n",
      " [4 9 5]] \n",
      "\n",
      "[[0 7 8 9 1]\n",
      " [2 7 8 9 3]\n",
      " [4 7 8 9 5]] \n",
      "\n",
      "[[0 7 1]\n",
      " [2 8 3]\n",
      " [4 9 5]]\n"
     ]
    }
   ],
   "source": [
    "\n",
    "a = np.arange(6).reshape(3, 2)\n",
    "b = np.insert(a, 1, [7, 8, 9], axis=1)\n",
    "c = np.insert(a, 1, [[7],[8],[9]], axis=1)\n",
    "d = np.insert(a, [1], [[7],[8],[9]], axis=1)\n",
    "\n",
    "print(a, \"\\n\")\n",
    "print(b, \"\\n\")\n",
    "print(c, \"\\n\")\n",
    "print(d)\n"
   ]
  },
  {
   "cell_type": "code",
   "execution_count": 9,
   "id": "cda43f51-0d97-475d-bc1b-f4d8bfb7a5eb",
   "metadata": {},
   "outputs": [
    {
     "name": "stdout",
     "output_type": "stream",
     "text": [
      "False\n",
      "True\n",
      "False\n"
     ]
    }
   ],
   "source": [
    "\n",
    "print(np.array_equal(b, c))\n",
    "\n",
    "print(np.array_equal(b, d))\n",
    "\n",
    "print(np.array_equal(c, d))\n"
   ]
  },
  {
   "cell_type": "markdown",
   "id": "c8487535-c351-4c88-8ff5-66cd76ff59c3",
   "metadata": {
    "jp-MarkdownHeadingCollapsed": true
   },
   "source": [
    "<br>\n",
    "\n",
    "### <div style=\"color: white; background-color: #af87ff; padding: 5px;\"> <code style=\"font-size: 1.2rem; background-color: #af87ff; color: white;\"><strong>numpy.append()</strong></code> </div>\n"
   ]
  },
  {
   "cell_type": "markdown",
   "id": "fe18d370-2175-4447-93e7-e6dd315587f1",
   "metadata": {},
   "source": [
    "\n",
    "<code style=\"background-color: yellow;\">numpy.<span style=\"color: red;\"><span style=\"font-size: 1rem;\"><strong>append(</strong></span><span style=\"color: black;\">arr</span>, <span style=\"color: black;\">values</span>, <span style=\"color: black;\">axis</span><span style=\"color: #9b96a1;\">='None'</span><span style=\"font-size: 1rem;\"><strong>)</strong></span></span></code>"
   ]
  },
  {
   "cell_type": "code",
   "execution_count": 18,
   "id": "65296e2b-41f0-427e-b6de-ea7ee8ea29fb",
   "metadata": {},
   "outputs": [
    {
     "data": {
      "text/plain": [
       "array([1, 2, 3, 4, 5, 6, 7, 8, 9])"
      ]
     },
     "execution_count": 18,
     "metadata": {},
     "output_type": "execute_result"
    }
   ],
   "source": [
    "\n",
    "np.append([1, 2, 3], [[4, 5, 6], [7, 8, 9]])                # axis = None (by default) will flatten the input array and values before appending\n"
   ]
  },
  {
   "cell_type": "code",
   "execution_count": 15,
   "id": "7e97c2e1-a31f-4da8-81d9-3729d71c3e1a",
   "metadata": {},
   "outputs": [
    {
     "data": {
      "text/plain": [
       "array([[1, 2, 3],\n",
       "       [4, 5, 6],\n",
       "       [7, 8, 9]])"
      ]
     },
     "execution_count": 15,
     "metadata": {},
     "output_type": "execute_result"
    }
   ],
   "source": [
    "\n",
    "np.append([[1, 2, 3], [4, 5, 6]], [[7, 8, 9]], axis=0)\n"
   ]
  },
  {
   "cell_type": "code",
   "execution_count": 17,
   "id": "842f6bf3-a7a6-4f0b-8ba2-4c243deddbf1",
   "metadata": {},
   "outputs": [
    {
     "ename": "ValueError",
     "evalue": "all the input arrays must have same number of dimensions, but the array at index 0 has 2 dimension(s) and the array at index 1 has 1 dimension(s)",
     "output_type": "error",
     "traceback": [
      "\u001b[1;31m---------------------------------------------------------------------------\u001b[0m",
      "\u001b[1;31mValueError\u001b[0m                                Traceback (most recent call last)",
      "Cell \u001b[1;32mIn[17], line 1\u001b[0m\n\u001b[1;32m----> 1\u001b[0m \u001b[43mnp\u001b[49m\u001b[38;5;241;43m.\u001b[39;49m\u001b[43mappend\u001b[49m\u001b[43m(\u001b[49m\u001b[43m[\u001b[49m\u001b[43m[\u001b[49m\u001b[38;5;241;43m1\u001b[39;49m\u001b[43m,\u001b[49m\u001b[43m \u001b[49m\u001b[38;5;241;43m2\u001b[39;49m\u001b[43m,\u001b[49m\u001b[43m \u001b[49m\u001b[38;5;241;43m3\u001b[39;49m\u001b[43m]\u001b[49m\u001b[43m,\u001b[49m\u001b[43m \u001b[49m\u001b[43m[\u001b[49m\u001b[38;5;241;43m4\u001b[39;49m\u001b[43m,\u001b[49m\u001b[43m \u001b[49m\u001b[38;5;241;43m5\u001b[39;49m\u001b[43m,\u001b[49m\u001b[43m \u001b[49m\u001b[38;5;241;43m6\u001b[39;49m\u001b[43m]\u001b[49m\u001b[43m]\u001b[49m\u001b[43m,\u001b[49m\u001b[43m \u001b[49m\u001b[43m[\u001b[49m\u001b[38;5;241;43m7\u001b[39;49m\u001b[43m,\u001b[49m\u001b[43m \u001b[49m\u001b[38;5;241;43m8\u001b[39;49m\u001b[43m,\u001b[49m\u001b[43m \u001b[49m\u001b[38;5;241;43m9\u001b[39;49m\u001b[43m]\u001b[49m\u001b[43m,\u001b[49m\u001b[43m \u001b[49m\u001b[43maxis\u001b[49m\u001b[38;5;241;43m=\u001b[39;49m\u001b[38;5;241;43m0\u001b[39;49m\u001b[43m)\u001b[49m\n",
      "File \u001b[1;32m<__array_function__ internals>:180\u001b[0m, in \u001b[0;36mappend\u001b[1;34m(*args, **kwargs)\u001b[0m\n",
      "File \u001b[1;32m~\\AppData\\Local\\Programs\\Python\\Python311\\Lib\\site-packages\\numpy\\lib\\function_base.py:5444\u001b[0m, in \u001b[0;36mappend\u001b[1;34m(arr, values, axis)\u001b[0m\n\u001b[0;32m   5442\u001b[0m     values \u001b[38;5;241m=\u001b[39m ravel(values)\n\u001b[0;32m   5443\u001b[0m     axis \u001b[38;5;241m=\u001b[39m arr\u001b[38;5;241m.\u001b[39mndim\u001b[38;5;241m-\u001b[39m\u001b[38;5;241m1\u001b[39m\n\u001b[1;32m-> 5444\u001b[0m \u001b[38;5;28;01mreturn\u001b[39;00m \u001b[43mconcatenate\u001b[49m\u001b[43m(\u001b[49m\u001b[43m(\u001b[49m\u001b[43marr\u001b[49m\u001b[43m,\u001b[49m\u001b[43m \u001b[49m\u001b[43mvalues\u001b[49m\u001b[43m)\u001b[49m\u001b[43m,\u001b[49m\u001b[43m \u001b[49m\u001b[43maxis\u001b[49m\u001b[38;5;241;43m=\u001b[39;49m\u001b[43maxis\u001b[49m\u001b[43m)\u001b[49m\n",
      "File \u001b[1;32m<__array_function__ internals>:180\u001b[0m, in \u001b[0;36mconcatenate\u001b[1;34m(*args, **kwargs)\u001b[0m\n",
      "\u001b[1;31mValueError\u001b[0m: all the input arrays must have same number of dimensions, but the array at index 0 has 2 dimension(s) and the array at index 1 has 1 dimension(s)"
     ]
    }
   ],
   "source": [
    "\n",
    "np.append([[1, 2, 3], [4, 5, 6]], [7, 8, 9], axis=0)\n"
   ]
  },
  {
   "cell_type": "code",
   "execution_count": 20,
   "id": "ac28e3ae-8c2a-4b1c-80dd-f4232dec598a",
   "metadata": {},
   "outputs": [
    {
     "name": "stdout",
     "output_type": "stream",
     "text": [
      "[1 2]\n",
      "[1. 2.]\n",
      "float64\n"
     ]
    }
   ],
   "source": [
    "\n",
    "a = np.array([1, 2], dtype=int)\n",
    "\n",
    "print(a)\n",
    "\n",
    "c = np.append(a, [])\n",
    "\n",
    "print(c)\n",
    "\n",
    "print(c.dtype)\n"
   ]
  },
  {
   "cell_type": "markdown",
   "id": "217f7811-13ac-47cc-9e51-087044ad9369",
   "metadata": {
    "jp-MarkdownHeadingCollapsed": true
   },
   "source": [
    "<br>\n",
    "\n",
    "### <div style=\"color: white; background-color: #af87ff; padding: 5px;\"> <code style=\"font-size: 1.2rem; background-color: #af87ff; color: white;\"><strong>numpy.trim_zeros()</strong></code> </div>\n"
   ]
  },
  {
   "cell_type": "markdown",
   "id": "c4ae46f7-8bd7-4a32-ab93-7b611df03adc",
   "metadata": {},
   "source": [
    "\n",
    "\n",
    "<code style=\"background-color: yellow;\">numpy.<span style=\"color: red;\"><span style=\"font-size: 1rem;\"><strong>trim(</strong></span><span style=\"color: black;\">arr</span>, <span style=\"color: black;\">trim</span><span style=\"color: #9b96a1;\">='fb'</span><span style=\"font-size: 1rem;\"><strong>)</strong></span></span></code>&nbsp;&nbsp;&nbsp;===>&nbsp;&nbsp;&nbsp;trims the leading and/or trailing zeros from a <strong>1-D</strong> array or sequence <br>\n",
    "\n",
    "<span style=\"margin-left: 230px;\">===>&nbsp;&nbsp;&nbsp;<code>'f'</code> ===> triming from <strong>front</strong> &nbsp;&nbsp;, &nbsp;&nbsp;<code>'b'</code> ===> triming from <strong>back</strong></span> <br>\n",
    "<span style=\"margin-left: 280px;\"><span style=\"color: blue;\">Default</span> is <code>'fb'</code>, trim zeros from <u>both front and back of the array</u></span>\n"
   ]
  },
  {
   "cell_type": "code",
   "execution_count": 21,
   "id": "dc3ad020-114d-496e-97b5-86563bb2b1ae",
   "metadata": {},
   "outputs": [
    {
     "data": {
      "text/plain": [
       "array([1, 2, 3, 0, 2, 1])"
      ]
     },
     "execution_count": 21,
     "metadata": {},
     "output_type": "execute_result"
    }
   ],
   "source": [
    "\n",
    "a = np.array((0, 0, 0, 1, 2, 3, 0, 2, 1, 0))\n",
    "np.trim_zeros(a)\n"
   ]
  },
  {
   "cell_type": "code",
   "execution_count": 24,
   "id": "b5ac4449-466e-4231-970b-b496e77c85cb",
   "metadata": {},
   "outputs": [
    {
     "data": {
      "text/plain": [
       "array([0, 0, 0, 1, 2, 3, 0, 2, 1])"
      ]
     },
     "execution_count": 24,
     "metadata": {},
     "output_type": "execute_result"
    }
   ],
   "source": [
    "\n",
    "np.trim_zeros(a, 'b')          # trimming zeros from back\n"
   ]
  },
  {
   "cell_type": "code",
   "execution_count": 23,
   "id": "a2cbd897-0f0c-4823-bc61-b07311271de8",
   "metadata": {},
   "outputs": [
    {
     "data": {
      "text/plain": [
       "[1, 2]"
      ]
     },
     "execution_count": 23,
     "metadata": {},
     "output_type": "execute_result"
    }
   ],
   "source": [
    "\n",
    "np.trim_zeros([0, 1, 2, 0])\n"
   ]
  },
  {
   "cell_type": "code",
   "execution_count": null,
   "id": "877bb0cc-3a5d-4cbf-a841-8e307bdca9a8",
   "metadata": {},
   "outputs": [],
   "source": []
  },
  {
   "cell_type": "code",
   "execution_count": null,
   "id": "0c6cf336-e7dd-4b40-8a6d-59a57b63e137",
   "metadata": {},
   "outputs": [],
   "source": []
  },
  {
   "cell_type": "code",
   "execution_count": null,
   "id": "9ef1e148-65c0-418a-bb67-abaf05b6b484",
   "metadata": {},
   "outputs": [],
   "source": []
  },
  {
   "cell_type": "code",
   "execution_count": null,
   "id": "5403bae5-f477-4749-9f07-080e5532e07b",
   "metadata": {},
   "outputs": [],
   "source": []
  },
  {
   "cell_type": "code",
   "execution_count": null,
   "id": "1cd453be-0d60-4867-952c-e3c54ce8de40",
   "metadata": {},
   "outputs": [],
   "source": []
  },
  {
   "cell_type": "code",
   "execution_count": null,
   "id": "64dfb886-3895-430d-a69e-b3727f853715",
   "metadata": {},
   "outputs": [],
   "source": []
  },
  {
   "cell_type": "code",
   "execution_count": null,
   "id": "90340439-9eea-4372-a66b-1997d75a0d89",
   "metadata": {},
   "outputs": [],
   "source": []
  },
  {
   "cell_type": "code",
   "execution_count": null,
   "id": "9b591b38-87cc-447b-9021-70e702738977",
   "metadata": {},
   "outputs": [],
   "source": []
  },
  {
   "cell_type": "code",
   "execution_count": null,
   "id": "cec624e8-c6e1-4543-a241-745f8e641b1b",
   "metadata": {},
   "outputs": [],
   "source": []
  },
  {
   "cell_type": "code",
   "execution_count": null,
   "id": "2c762a04-c271-463b-a50b-e9602bbc6b18",
   "metadata": {},
   "outputs": [],
   "source": []
  },
  {
   "cell_type": "markdown",
   "id": "03c4a0d9-781a-46d9-9fdb-05b5f5f62f0e",
   "metadata": {
    "jp-MarkdownHeadingCollapsed": true
   },
   "source": [
    "<br><br>\n",
    "\n",
    "## Arithmetic &nbsp;Operations\n"
   ]
  },
  {
   "cell_type": "markdown",
   "id": "9d7cf8c4-7bf1-4d34-bf45-a896fec5366f",
   "metadata": {},
   "source": [
    "<br><br>\n",
    "\n",
    "<code style=\"background-color: yellow;\">add()      </code> &nbsp;&nbsp;&nbsp;,&nbsp;&nbsp;&nbsp;<code style=\"background-color: yellow;\">+</code>    &nbsp;&nbsp;&nbsp;&nbsp;&nbsp;======>&nbsp;&nbsp;&nbsp; returns the **sum** between two <u>equal-sized arrays</u> by performing **element-wise additions**.<br>\n",
    "\n",
    "<code style=\"background-color: yellow;\">subtract() </code> &nbsp;&nbsp;&nbsp;,&nbsp;&nbsp;&nbsp;<code style=\"background-color: yellow;\">-</code>    &nbsp;&nbsp;&nbsp;&nbsp;&nbsp;======>&nbsp;&nbsp;&nbsp;  returns the **difference** between <u>two equal-sized arrays</u> by performing **element-wise subtractions**.<br>\n",
    "\n",
    "<code style=\"background-color: yellow;\">multiply() </code> &nbsp;&nbsp;&nbsp;,&nbsp;&nbsp;&nbsp;<code style=\"background-color: yellow;\">*</code>    &nbsp;&nbsp;&nbsp;&nbsp;&nbsp;======>&nbsp;&nbsp;&nbsp;  returns the **product** between <u>two equal-sized arrays</u> by performing **element-wise multiplications**.<br>\n",
    "\n",
    "<code style=\"background-color: yellow;\">divide()   </code> &nbsp;&nbsp;&nbsp;,&nbsp;&nbsp;&nbsp;<code style=\"background-color: yellow;\">/</code>    &nbsp;&nbsp;&nbsp;&nbsp;&nbsp;======>&nbsp;&nbsp;&nbsp;  returns the **quotient** of <u>two equal-sized arrays</u> by performing **element-wise divisions**.<br>\n",
    "\n",
    "<br>\n",
    "\n",
    "<div style=\"background-color: #cfffd0; padding: 20px;\">\n",
    "\n",
    "<span style=\"color: red; font-size: 1rem; margin-left: 20px;\">**Broadcasting**</span>   &nbsp;&nbsp;&nbsp;&nbsp;===>&nbsp;&nbsp;  To perform arithmetic operations on arrays of different shapes, NumPy uses a technique called <span style=\"color: red;\">broadcasting</span><br>\n",
    "\n",
    "<span style=\" margin-left: 122px;\"> &nbsp;&nbsp;&nbsp;&nbsp;===>&nbsp;&nbsp;  By definition, <span style=\"color: red;\">broadcasting</span> is a <span style=\"color: blue;\">set of rules for applying arithmetic operations on arrays of different shapes</span></span><br>\n",
    "\n",
    "<br>\n",
    "\n",
    "<div style=\"background-color: white; padding-left: 20px; padding-right: 20px; padding-top: 20px; padding-bottom: 10px;\">\n",
    "\n",
    "<u><strong>Broadcasting &nbsp;Rules :</strong></u>  <br>\n",
    " \n",
    "For two arrays to be compatible for broadcasting, they must follow these rules :\n",
    "\n",
    "<span style=\"margin-left: 33px;\"><span style=\"color: blue;\"><strong>1. Compatibility Check for Dimensions :</strong></span> &nbsp;Two dimensions are compatible if :</span>  <br>\n",
    "<span style=\"margin-left: 302px;\">➜ &nbsp;They are equal, or</span>   <br>\n",
    "<span style=\"margin-left: 302px;\">➜ &nbsp;One of them is 1</span>\n",
    "\n",
    "<div style=\"display: flex; margin-left: 33px;\">\n",
    "    <div><span style=\"color: blue;\"><strong>2.&nbsp;&nbsp;Shape&nbsp;Alignment&nbsp;:&nbsp;&nbsp;</strong></span></div>\n",
    "    <div>If the arrays don’t have the same number of dimensions, the smaller array is <u>\"left-padded\" with 1s in its shape until it matches the larger array’s shape</u>.</div>\n",
    "</div>\n",
    "\n",
    "<br>\n",
    "\n",
    "<span style=\"margin-left: 33px;\"><span style=\"color: blue;\"><strong>3. Resulting Shape&nbsp;:</strong></span> &nbsp;The resulting array shape is determined by taking the <u>maximum size along each dimension from the two arrays</u>.</span>\n",
    "\n",
    "<br>\n",
    "\n",
    "If these conditions are not met, a <span style=\"color: red;\">ValueError</span> is raised, indicating that <u>the arrays have incompatible shapes for broadcasting</u>.\n",
    "\n",
    "</div>\n",
    "    \n",
    "</div>\n"
   ]
  },
  {
   "cell_type": "markdown",
   "id": "c5fbce1d-c7b4-4596-8885-60e01d02eec4",
   "metadata": {
    "jp-MarkdownHeadingCollapsed": true
   },
   "source": [
    "<br>\n",
    "\n",
    "### <div style=\"color: white; background-color: #af87ff; padding: 5px;\"> <code style=\"font-size: 1.2rem; background-color: #af87ff; color: white;\"><strong>numpy.add()</strong>      ====>      +</code> </div>\n"
   ]
  },
  {
   "cell_type": "markdown",
   "id": "f72056f9-8243-4ed0-be08-3214128cf70e",
   "metadata": {},
   "source": [
    "<br>\n",
    "\n",
    "<code>a + b</code>&nbsp;&nbsp;&nbsp;&nbsp;   ====>   &nbsp;&nbsp;&nbsp;&nbsp;<code>np.<span style=\"color: red;\">add(<span style=\"color: black;\">a</span>, <span style=\"color: black;\">b</span>)</span></code>\n",
    "\n",
    "<br>\n",
    "\n",
    "<code style=\"color: white; background-color: black;\">Example - 1</code> &nbsp;&nbsp;<span style=\"color: #2fbd0b;\">Using NumPy &nbsp;<code style=\"background-color: yellow;\">add()</code>&nbsp; function and &nbsp;<code style=\"background-color: yellow;\">+</code>&nbsp; operator to add two 1D arrays</span>"
   ]
  },
  {
   "cell_type": "code",
   "execution_count": 14,
   "id": "fb7e15b2-6ed3-47c4-b415-06c54e39397e",
   "metadata": {},
   "outputs": [
    {
     "name": "stdout",
     "output_type": "stream",
     "text": [
      "[4 6]\n"
     ]
    }
   ],
   "source": [
    "\n",
    "a = np.array([1, 2])\n",
    "b = np.array([3, 4])\n",
    "\n",
    "c = a + b                    # c = np.add(a, b)    -------->    # [1+3, 2+4] = [4,6]\n",
    "print(c)\n"
   ]
  },
  {
   "cell_type": "markdown",
   "id": "08f8d9b1-8f18-4c4e-874c-b25f3b789256",
   "metadata": {},
   "source": [
    "<div style=\"margin-left: 120px;\">\n",
    "\n",
    "![](../media/numpy_37.PNG)\n",
    "\n",
    "</div>"
   ]
  },
  {
   "cell_type": "code",
   "execution_count": 16,
   "id": "db3b939e-e261-44a6-b414-8873621df190",
   "metadata": {},
   "outputs": [
    {
     "name": "stdout",
     "output_type": "stream",
     "text": [
      "[3 5]\n"
     ]
    }
   ],
   "source": [
    "\n",
    "a = np.array([1, 2])\n",
    "b = np.array([2, 3])\n",
    "\n",
    "c = np.add(a, b)                 # c = a + b    --------------->    # [1+2, 2+4] = [3,5]\n",
    "\n",
    "print(c)\n"
   ]
  },
  {
   "cell_type": "markdown",
   "id": "6995a06c-baa1-4a9d-b0df-24eed4587731",
   "metadata": {},
   "source": [
    "<br>\n",
    "\n",
    "<code style=\"color: white; background-color: black;\">Example - 2</code> &nbsp;&nbsp;<span style=\"color: #2fbd0b;\">Using NumPy &nbsp;<code style=\"background-color: yellow;\">add()</code>&nbsp; function and &nbsp;<code style=\"background-color: yellow;\">+</code>&nbsp; operator to add two 2D arrays</span>\n"
   ]
  },
  {
   "cell_type": "code",
   "execution_count": 17,
   "id": "15a37788-290f-4148-a063-a4c9884f0c1f",
   "metadata": {},
   "outputs": [
    {
     "name": "stdout",
     "output_type": "stream",
     "text": [
      "[[ 6  8]\n",
      " [10 12]]\n"
     ]
    }
   ],
   "source": [
    "\n",
    "a = np.array([[1, 2], \n",
    "              [3, 4]])\n",
    "\n",
    "b = np.array([[5, 6], \n",
    "              [7, 8]])\n",
    "\n",
    "c = a + b                        # c = np.add(a, b)                    \n",
    "print(c)\n"
   ]
  },
  {
   "cell_type": "markdown",
   "id": "d4e7685d-2a9d-45aa-9cb0-62bc5d37c848",
   "metadata": {},
   "source": [
    "<div style=\"margin-left: 120px;\">\n",
    "\n",
    "![](../media/numpy_38.PNG)\n",
    "\n",
    "</div>"
   ]
  },
  {
   "cell_type": "code",
   "execution_count": 21,
   "id": "d51d946e-a4cb-4b34-9722-036be70e19bb",
   "metadata": {},
   "outputs": [
    {
     "name": "stdout",
     "output_type": "stream",
     "text": [
      "[[ 6  8]\n",
      " [10 12]]\n"
     ]
    }
   ],
   "source": [
    "\n",
    "a = np.array([[1, 2], \n",
    "              [3, 4]])\n",
    "\n",
    "b = np.array([[5, 6], \n",
    "              [7, 8]])\n",
    "\n",
    "c = np.add(a, b)                 # c = a + b\n",
    "print(c)\n"
   ]
  },
  {
   "cell_type": "markdown",
   "id": "aec95bf4-1686-4c4c-b635-a3f82721f4e8",
   "metadata": {
    "jp-MarkdownHeadingCollapsed": true
   },
   "source": [
    "<br>\n",
    "\n",
    "### <div style=\"color: white; background-color: #af87ff; padding: 5px;\"> <code style=\"font-size: 1.2rem; background-color: #af87ff; color: white;\"><strong>numpy.subtract()</strong>      ====>      -</code> </div>\n"
   ]
  },
  {
   "cell_type": "markdown",
   "id": "0ab8af14-ea7a-4ece-89b9-cf1e6c95bfc0",
   "metadata": {},
   "source": [
    "<br>\n",
    "\n",
    "<code>b - a</code>&nbsp;&nbsp;&nbsp;&nbsp;   ====>   &nbsp;&nbsp;&nbsp;&nbsp;<code>np.<span style=\"color: red;\">subtract(<span style=\"color: black;\">b</span>, <span style=\"color: black;\">a</span>)</span></code>\n",
    "\n",
    "<code>a - b</code>&nbsp;&nbsp;&nbsp;&nbsp;   ====>   &nbsp;&nbsp;&nbsp;&nbsp;<code>np.<span style=\"color: red;\">subtract(<span style=\"color: black;\">a</span>, <span style=\"color: black;\">b</span>)</span></code>\n",
    "\n",
    "<br>\n",
    "\n",
    "<code style=\"color: white; background-color: black;\">Example - 1</code> &nbsp;&nbsp;<span style=\"color: #2fbd0b;\">Using NumPy &nbsp;<code style=\"background-color: yellow;\">subtract()</code>&nbsp; function and &nbsp;<code style=\"background-color: yellow;\">-</code>&nbsp; operator to add two 1D arrays</span>"
   ]
  },
  {
   "cell_type": "code",
   "execution_count": 20,
   "id": "893b8713-1dbd-4074-a17c-ba19de693c32",
   "metadata": {},
   "outputs": [
    {
     "name": "stdout",
     "output_type": "stream",
     "text": [
      "[2 2]\n"
     ]
    }
   ],
   "source": [
    "\n",
    "a = np.array([1, 2])\n",
    "b = np.array([3, 4])\n",
    "\n",
    "c = b - a                    # c = np.subtract(b, a)    -------->    # [3-1, 4-2] = [2,2]\n",
    "print(c)\n"
   ]
  },
  {
   "cell_type": "markdown",
   "id": "78c4dc02-ed9e-4741-b717-d0a3ddf69034",
   "metadata": {},
   "source": [
    "<div style=\"margin-left: 120px;\">\n",
    "\n",
    "![](../media/numpy_39.PNG)\n",
    "\n",
    "</div>"
   ]
  },
  {
   "cell_type": "code",
   "execution_count": 31,
   "id": "adc41ea0-0e3e-44d9-9186-944b5ca295e6",
   "metadata": {},
   "outputs": [
    {
     "name": "stdout",
     "output_type": "stream",
     "text": [
      "[2 2]\n"
     ]
    }
   ],
   "source": [
    "\n",
    "a = np.array([1, 2])\n",
    "b = np.array([3, 4])\n",
    "\n",
    "c = np.subtract(b, a)             # c = b - a    ------------------->    # [3-1, 4-2] = [2,2]\n",
    "print(c)\n"
   ]
  },
  {
   "cell_type": "markdown",
   "id": "ba21e598-c72d-4cdc-b627-d9b1ec8a08ec",
   "metadata": {},
   "source": [
    "<br>\n",
    "\n",
    "<code style=\"color: white; background-color: black;\">Example - 2</code> &nbsp;&nbsp;<span style=\"color: #2fbd0b;\">Using NumPy &nbsp;<code style=\"background-color: yellow;\">subtract()</code>&nbsp; function and &nbsp;<code style=\"background-color: yellow;\">-</code>&nbsp; operator to add two 2D arrays</span>\n"
   ]
  },
  {
   "cell_type": "code",
   "execution_count": 34,
   "id": "d19c0462-1ec5-44d7-a0b7-3133a6fa39b1",
   "metadata": {},
   "outputs": [
    {
     "name": "stdout",
     "output_type": "stream",
     "text": [
      "[[4 4]\n",
      " [4 4]]\n"
     ]
    }
   ],
   "source": [
    "\n",
    "a = np.array([[1, 2], \n",
    "              [3, 4]])\n",
    "\n",
    "b = np.array([[5, 6], \n",
    "              [7, 8]])\n",
    "\n",
    "c = b - a                         # c = np.subtract(b, a)\n",
    "print(c)\n"
   ]
  },
  {
   "cell_type": "markdown",
   "id": "8689ec87-bbb9-4ac9-a54f-6f2dec9de6bc",
   "metadata": {},
   "source": [
    "<div style=\"margin-left: 120px;\">\n",
    "\n",
    "![](../media/numpy_40.PNG)\n",
    "\n",
    "</div>"
   ]
  },
  {
   "cell_type": "markdown",
   "id": "22c81aed-3cd8-4cae-b13e-011d49c73a04",
   "metadata": {
    "jp-MarkdownHeadingCollapsed": true
   },
   "source": [
    "<br>\n",
    "\n",
    "### <div style=\"color: white; background-color: #af87ff; padding: 5px;\"> <code style=\"font-size: 1.2rem; background-color: #af87ff; color: white;\"><strong>numpy.multiply()</strong>      ====>      *</code> </div>\n"
   ]
  },
  {
   "cell_type": "markdown",
   "id": "f45328b5-3821-4fa9-b3ae-5ba0abc8749e",
   "metadata": {},
   "source": [
    "<br>\n",
    "\n",
    "<code>a * b</code>&nbsp;&nbsp;&nbsp;&nbsp;   ====>   &nbsp;&nbsp;&nbsp;&nbsp;<code>np.<span style=\"color: red;\">multiply(<span style=\"color: black;\">a</span>, <span style=\"color: black;\">b</span>)</span></code>\n",
    "\n",
    "<br>\n",
    "\n",
    "<code style=\"color: white; background-color: black;\">Example - 1</code> &nbsp;&nbsp;<span style=\"color: #2fbd0b;\">Using NumPy &nbsp;<code style=\"background-color: yellow;\">multiply()</code>&nbsp; function and &nbsp;<code style=\"background-color: yellow;\">*</code>&nbsp; operator to add two 1D arrays</span>"
   ]
  },
  {
   "cell_type": "code",
   "execution_count": 30,
   "id": "8fd29c40-b551-479e-87ab-8056514f5976",
   "metadata": {},
   "outputs": [
    {
     "name": "stdout",
     "output_type": "stream",
     "text": [
      "[3 8]\n"
     ]
    }
   ],
   "source": [
    "\n",
    "a = np.array([1, 2])\n",
    "b = np.array([3, 4])\n",
    "\n",
    "c = np.multiply(a, b)             # c = np.multiply(b, a)    -------->    # [1*3, 2*4] = [3,8]\n",
    "print(c)\n"
   ]
  },
  {
   "cell_type": "markdown",
   "id": "e14bdcbe-ad3b-4168-a027-282dd82af36d",
   "metadata": {},
   "source": [
    "<div style=\"margin-left: 120px;\">\n",
    "\n",
    "![](../media/numpy_41.PNG)\n",
    "\n",
    "</div>"
   ]
  },
  {
   "cell_type": "code",
   "execution_count": 32,
   "id": "80a657fc-4e53-4243-8782-335faba4607f",
   "metadata": {},
   "outputs": [
    {
     "name": "stdout",
     "output_type": "stream",
     "text": [
      "[3 8]\n"
     ]
    }
   ],
   "source": [
    "\n",
    "a = np.array([1, 2])\n",
    "b = np.array([3, 4])\n",
    "\n",
    "c = np.multiply(b, a)             # c = b * a    ------------------->    # [1*3, 2*4] = [3,8]\n",
    "print(c)\n"
   ]
  },
  {
   "cell_type": "markdown",
   "id": "44bc3b5f-9b60-405a-9f0e-8eff219ac9b0",
   "metadata": {},
   "source": [
    "<br>\n",
    "\n",
    "<code style=\"color: white; background-color: black;\">Example - 2</code> &nbsp;&nbsp;<span style=\"color: #2fbd0b;\">Using NumPy &nbsp;<code style=\"background-color: yellow;\">multiply()</code>&nbsp; function and &nbsp;<code style=\"background-color: yellow;\">*</code>&nbsp; operator to add two 2D arrays</span>\n"
   ]
  },
  {
   "cell_type": "code",
   "execution_count": 35,
   "id": "8685194d-49f2-4099-b0c5-73446ae485b4",
   "metadata": {},
   "outputs": [
    {
     "name": "stdout",
     "output_type": "stream",
     "text": [
      "[[ 5 12]\n",
      " [21 32]]\n"
     ]
    }
   ],
   "source": [
    "\n",
    "a = np.array([[1, 2], \n",
    "              [3, 4]])\n",
    "\n",
    "b = np.array([[5, 6], \n",
    "              [7, 8]])\n",
    "\n",
    "c = a*b                         # c = np.multiply(b, a)\n",
    "print(c)\n"
   ]
  },
  {
   "cell_type": "markdown",
   "id": "2a9b9b67-ab08-4382-b682-9f5cd6e97eca",
   "metadata": {},
   "source": [
    "<div style=\"margin-left: 120px;\">\n",
    "\n",
    "![](../media/numpy_42.PNG)\n",
    "\n",
    "</div>"
   ]
  },
  {
   "cell_type": "markdown",
   "id": "1ec039cb-1afc-451a-b4f1-5a3ab1aeb50a",
   "metadata": {
    "jp-MarkdownHeadingCollapsed": true
   },
   "source": [
    "<br>\n",
    "\n",
    "### <div style=\"color: white; background-color: #af87ff; padding: 5px;\"> <code style=\"font-size: 1.2rem; background-color: #af87ff; color: white;\"><strong>numpy.division()</strong>      ====>      /</code> </div>\n"
   ]
  },
  {
   "cell_type": "markdown",
   "id": "a87107a4-e9f8-40b5-9bce-aba3fae704c8",
   "metadata": {},
   "source": [
    "<br>\n",
    "\n",
    "<code>a / b</code>&nbsp;&nbsp;&nbsp;&nbsp;   ====>   &nbsp;&nbsp;&nbsp;&nbsp;<code>np.<span style=\"color: red;\">divide(<span style=\"color: black;\">a</span>, <span style=\"color: black;\">b</span>)</span></code>\n",
    "\n",
    "<br>\n",
    "\n",
    "<code style=\"color: white; background-color: black;\">Example - 1</code> &nbsp;&nbsp;<span style=\"color: #2fbd0b;\">Using NumPy &nbsp;<code style=\"background-color: yellow;\">divide()</code>&nbsp; function and &nbsp;<code style=\"background-color: yellow;\">/</code>&nbsp; operator to add two 1D arrays</span>"
   ]
  },
  {
   "cell_type": "code",
   "execution_count": 38,
   "id": "8c678385-a3f9-4854-8e28-30a44072910e",
   "metadata": {},
   "outputs": [
    {
     "name": "stdout",
     "output_type": "stream",
     "text": [
      "[4. 2.]\n"
     ]
    }
   ],
   "source": [
    "\n",
    "a = np.array([8, 6])\n",
    "b = np.array([2, 3])\n",
    "\n",
    "c = a/b                         # c = np.divide(a, b)    -------->    # [8/2, 6/3] = [4.,2.]\n",
    "print(c)\n"
   ]
  },
  {
   "cell_type": "markdown",
   "id": "80f1f990-5457-407a-b4d1-6893a2d2c810",
   "metadata": {},
   "source": [
    "<div style=\"margin-left: 120px;\">\n",
    "\n",
    "![](../media/numpy_43.PNG)\n",
    "\n",
    "</div>"
   ]
  },
  {
   "cell_type": "code",
   "execution_count": 39,
   "id": "34d6530b-5902-44ee-bd6a-f92f63798c66",
   "metadata": {},
   "outputs": [
    {
     "name": "stdout",
     "output_type": "stream",
     "text": [
      "[4. 2.]\n"
     ]
    }
   ],
   "source": [
    "\n",
    "a = np.array([8, 6])\n",
    "b = np.array([2, 3])\n",
    "\n",
    "c = np.divide(a, b)              # c = a/b    ------------------->    # [8/2, 6/3] = [4.,2.]\n",
    "print(c)\n"
   ]
  },
  {
   "cell_type": "markdown",
   "id": "43be064c-fa46-49b9-adc6-4dc174e7eabf",
   "metadata": {},
   "source": [
    "<br>\n",
    "\n",
    "<code style=\"color: white; background-color: black;\">Example - 2</code> &nbsp;&nbsp;<span style=\"color: #2fbd0b;\">Using NumPy &nbsp;<code style=\"background-color: yellow;\">divide()</code>&nbsp; function and &nbsp;<code style=\"background-color: yellow;\">/</code>&nbsp; operator to add two 2D arrays</span>\n"
   ]
  },
  {
   "cell_type": "code",
   "execution_count": 40,
   "id": "087e3586-6d65-40aa-9064-6948b0f6276b",
   "metadata": {},
   "outputs": [
    {
     "name": "stdout",
     "output_type": "stream",
     "text": [
      "[[2. 4.]\n",
      " [3. 4.]]\n"
     ]
    }
   ],
   "source": [
    "\n",
    "a = np.array([[10, 8], \n",
    "              [6, 4]])\n",
    "\n",
    "b = np.array([[5, 2], \n",
    "              [2, 1]])\n",
    "\n",
    "c = a/b\n",
    "print(c)\n"
   ]
  },
  {
   "cell_type": "markdown",
   "id": "48f293a7-67a9-47e7-b30f-fe9a14cbfeaf",
   "metadata": {},
   "source": [
    "<div style=\"margin-left: 120px;\">\n",
    "\n",
    "![](../media/numpy_44.PNG)\n",
    "\n",
    "</div>"
   ]
  },
  {
   "cell_type": "markdown",
   "id": "e410d28e-1737-41b5-a6ae-e7f4db86a817",
   "metadata": {
    "jp-MarkdownHeadingCollapsed": true
   },
   "source": [
    "<br>\n",
    "\n",
    "### <div style=\"color: white; background-color: #af87ff; padding: 5px;\"> <code style=\"font-size: 1.2rem; background-color: #af87ff; color: white;\"><strong>broadcasting</strong></code> </div>\n"
   ]
  },
  {
   "cell_type": "markdown",
   "id": "4718d852-5413-44a1-a29f-ec395ee74bee",
   "metadata": {},
   "source": [
    "The term broadcasting describes how NumPy treats arrays with different shapes during arithmetic operations. Subject to certain constraints, <span style=\"background-color: yellow;\">the smaller array is “broadcast” across the larger array so that they have compatible shapes</span>. <span style=\"color: blue;\">Broadcasting provides a means of vectorizing array operations so that looping occurs in C instead of Python.</span> <u>It does this without making needless copies of data and usually leads to efficient algorithm implementations</u>. There are, however, cases where broadcasting is a bad idea because it leads to inefficient use of memory that slows computation.\n"
   ]
  },
  {
   "cell_type": "code",
   "execution_count": 50,
   "id": "7146551b-dbdf-4707-a4b6-449a6c62abb7",
   "metadata": {},
   "outputs": [
    {
     "data": {
      "text/plain": [
       "array([2, 4, 6])"
      ]
     },
     "execution_count": 50,
     "metadata": {},
     "output_type": "execute_result"
    }
   ],
   "source": [
    "\n",
    "a = np.array([1, 2, 3])           # 1D array\n",
    "b = 2                             # scalar    =====>   will be broadcasted to the 1D array \"a\"\n",
    "a * b\n"
   ]
  },
  {
   "cell_type": "markdown",
   "id": "3a2c7554-9281-4761-88f4-b7c610f18dae",
   "metadata": {},
   "source": [
    "<div style=\"margin-left: 120px;\">\n",
    "\n",
    "![](../media/numpy_45.PNG)\n",
    "\n",
    "</div>"
   ]
  },
  {
   "cell_type": "markdown",
   "id": "05f4a060-a145-4d1c-af1b-cd8a62c47c7f",
   "metadata": {},
   "source": [
    "<br>\n",
    "\n",
    "<span style=\"color: white; background-color: black;\">EXAMPLE - 1 </span> &nbsp;&nbsp;&nbsp;(NumPy broadcasting on <strong>one array</strong>)"
   ]
  },
  {
   "cell_type": "code",
   "execution_count": 16,
   "id": "49abca1e-9787-4e78-98c0-469db782ebda",
   "metadata": {},
   "outputs": [
    {
     "name": "stdout",
     "output_type": "stream",
     "text": [
      "[[2. 3. 4.]\n",
      " [5. 6. 7.]]\n"
     ]
    }
   ],
   "source": [
    "\n",
    "a = np.array([\n",
    "    [1, 2, 3],\n",
    "    [4, 5, 6]\n",
    "])                           # a(2,3)\n",
    "\n",
    "\n",
    "b = np.ones(3)               # b(3,) ------------- 1D ==> 2D --------------->  b(1, 3)\n",
    "\n",
    "\n",
    "c = a + b                    # b(1,3) ----- stretched along the axis 0 ----->  b(2, 3)\n",
    "\n",
    "print(c)\n"
   ]
  },
  {
   "cell_type": "markdown",
   "id": "5be7fa53-fa3c-430d-9d09-ae0eebc66a99",
   "metadata": {},
   "source": [
    "<div style=\"margin-left: 60px;\">\n",
    "\n",
    "![](../media/numpy_46.PNG)\n",
    "\n",
    "</div>"
   ]
  },
  {
   "cell_type": "markdown",
   "id": "f872edb0-8e73-43ee-8d81-5149e3d3f0e8",
   "metadata": {},
   "source": [
    "\n",
    "<br>\n",
    "\n",
    "<span style=\"color: white; background-color: black;\">EXAMPLE - 2 </span> &nbsp;&nbsp;&nbsp;(NumPy broadcasting on <strong>both arrays</strong>)"
   ]
  },
  {
   "cell_type": "code",
   "execution_count": 15,
   "id": "b821dd9b-03d2-48e0-a985-0c7999ed95e1",
   "metadata": {},
   "outputs": [
    {
     "name": "stdout",
     "output_type": "stream",
     "text": [
      "\n",
      "\n",
      "[[2 3 4]\n",
      " [3 4 5]\n",
      " [4 5 6]]\n"
     ]
    }
   ],
   "source": [
    "\n",
    "a = np.array([\n",
    "    [1],\n",
    "    [2],\n",
    "    [3],\n",
    "])                                      # a(3, 1)\n",
    "\n",
    "\n",
    "b = np.array([1, 2, 3])                 # b(3,) --------------- 1D ==> 2D ---------------->  b(1, 3) \n",
    "\n",
    "\n",
    "print(\"\\n\")\n",
    "\n",
    "\n",
    "c = a + b                               # a(3, 1)  ----- stretched to the maximum length along the axis 1  ----->  a(3, 3)\n",
    "                                        # b(1, 3)  ----- stretched to the maximum length along the axis 0  ----->  b(3, 3)\n",
    "\n",
    "print(c)\n"
   ]
  },
  {
   "cell_type": "markdown",
   "id": "d5216aba-e8ed-4234-a982-e7eb56a6f617",
   "metadata": {},
   "source": [
    "<br>\n",
    "\n",
    "<div style=\"margin-left: 65px;\">\n",
    "\n",
    "![](../media/numpy_47.PNG)\n",
    "\n",
    "</div>"
   ]
  },
  {
   "cell_type": "markdown",
   "id": "1a56789a-9098-459a-a27c-a4fbc8bcfe0c",
   "metadata": {},
   "source": [
    "<br>\n",
    "\n",
    "<span style=\"color: white; background-color: black;\">EXAMPLE - 3 </span> &nbsp;&nbsp;&nbsp;(Broadcasting mismatch)"
   ]
  },
  {
   "cell_type": "code",
   "execution_count": 30,
   "id": "30c49fae-6a38-4f67-bc3a-3ffac3c7d2ec",
   "metadata": {},
   "outputs": [
    {
     "data": {
      "text/plain": [
       "array([[ 1,  2,  3],\n",
       "       [11, 12, 13],\n",
       "       [21, 22, 23],\n",
       "       [31, 32, 33]])"
      ]
     },
     "execution_count": 30,
     "metadata": {},
     "output_type": "execute_result"
    }
   ],
   "source": [
    "\n",
    "a = np.array([[ 0,  0,  0],\n",
    "              [10, 10, 10],\n",
    "              [20, 20, 20],\n",
    "              [30, 30, 30]])               # a     ----------->    (4, 3)    ------------>    (4, 3)\n",
    "b = np.array([1, 2, 3])                    # b     ----------->    (3,)      ------------>    (1, 3)\n",
    "a + b                                      # a+b   -------------------------------------->    (4, 3)\n"
   ]
  },
  {
   "cell_type": "markdown",
   "id": "d83b1702-80a0-494b-850c-1e955ecf8755",
   "metadata": {},
   "source": [
    "<br>\n",
    "\n",
    "<div style=\"margin-left: 80px;\">\n",
    "\n",
    "![](../media/numpy_48.PNG)\n",
    "\n",
    "</div>"
   ]
  },
  {
   "cell_type": "markdown",
   "id": "77a9f774-bd7f-45b5-b091-dc68734d8ff2",
   "metadata": {},
   "source": [
    "\n",
    "<span style=\"color: #a245ff;\">But if the array <code>b</code> is of shape <code>(4,)</code> , &nbsp;it will <strong>not remain broadcastable</strong> for the array <code>a</code></span>"
   ]
  },
  {
   "cell_type": "code",
   "execution_count": 31,
   "id": "29681d84-49a4-4800-9d66-17d3858c6e40",
   "metadata": {},
   "outputs": [
    {
     "ename": "ValueError",
     "evalue": "operands could not be broadcast together with shapes (4,3) (4,) ",
     "output_type": "error",
     "traceback": [
      "\u001b[1;31m---------------------------------------------------------------------------\u001b[0m",
      "\u001b[1;31mValueError\u001b[0m                                Traceback (most recent call last)",
      "Cell \u001b[1;32mIn[31], line 3\u001b[0m\n\u001b[0;32m      1\u001b[0m \u001b[38;5;66;03m# a     ----------->    (4, 3)    ------------>    (4, 3)\u001b[39;00m\n\u001b[0;32m      2\u001b[0m b \u001b[38;5;241m=\u001b[39m np\u001b[38;5;241m.\u001b[39marray([\u001b[38;5;241m1.0\u001b[39m, \u001b[38;5;241m2.0\u001b[39m, \u001b[38;5;241m3.0\u001b[39m, \u001b[38;5;241m4.0\u001b[39m])         \u001b[38;5;66;03m# b     ----------->    (4,)      ------------>    (1, 4)\u001b[39;00m\n\u001b[1;32m----> 3\u001b[0m \u001b[43ma\u001b[49m\u001b[43m \u001b[49m\u001b[38;5;241;43m+\u001b[39;49m\u001b[43m \u001b[49m\u001b[43mb\u001b[49m                                      \u001b[38;5;66;03m# a+b   -------------------------------------->    NOT BROADCASTABLE for element-by-element addition\u001b[39;00m\n",
      "\u001b[1;31mValueError\u001b[0m: operands could not be broadcast together with shapes (4,3) (4,) "
     ]
    }
   ],
   "source": [
    "\n",
    "                                           # a     ----------->    (4, 3)    ------------>    (4, 3)\n",
    "b = np.array([1.0, 2.0, 3.0, 4.0])         # b     ----------->    (4,)      ------------>    (1, 4)\n",
    "a + b                                      # a+b   -------------------------------------->    NOT BROADCASTABLE for element-by-element addition\n"
   ]
  },
  {
   "cell_type": "markdown",
   "id": "731dbe82-b35e-44dd-9b5e-c3928e0eef09",
   "metadata": {},
   "source": [
    "<br>\n",
    "\n",
    "<div style=\"margin-left: 85px;\">\n",
    "\n",
    "![](../media/numpy_49.PNG)\n",
    "\n",
    "</div>\n",
    "\n",
    "<br>\n",
    "\n",
    "<span style=\"color: #06fff0; font-size: 0.7rem;\">■■■■■■■■■■■■■■■■■■■■■■■■■■■■■■■■■■■■■■■■■■■■■■■■■■■■■■■■■■■■■■■■■■■■■■■■■■■■■■■■■■■■■■■■■■■■■■■■■■■■■■■■■■■■■■■</span>\n",
    "\n",
    "<br>"
   ]
  },
  {
   "cell_type": "markdown",
   "id": "de63ceb6-82ce-4901-a96e-0f4c1198a277",
   "metadata": {},
   "source": [
    "\n",
    "<code style=\"color: white; background-color: #9f9e9d;\">practice - 1 </code>"
   ]
  },
  {
   "cell_type": "code",
   "execution_count": 33,
   "id": "9dcbae7b-0de2-4ae6-8caa-7381c6931be5",
   "metadata": {},
   "outputs": [
    {
     "data": {
      "text/plain": [
       "array([[ 8, 10, 12, 14],\n",
       "       [16, 18, 20, 22]])"
      ]
     },
     "execution_count": 33,
     "metadata": {},
     "output_type": "execute_result"
    }
   ],
   "source": [
    "\n",
    "a = np.arange(8).reshape(2,4)\n",
    "b = np.arange(8,16).reshape(2,4)\n",
    "a + b                                   # same dimension  ===>  operation will take place\n"
   ]
  },
  {
   "cell_type": "markdown",
   "id": "6591c79f-6ca9-4555-821c-af7fd79037b1",
   "metadata": {},
   "source": [
    "<br>\n",
    "\n",
    "<code style=\"color: white; background-color: #9f9e9d;\">practice - 2 </code>"
   ]
  },
  {
   "cell_type": "code",
   "execution_count": 34,
   "id": "a0d6203d-1310-4111-8137-25c6f6ed8bd4",
   "metadata": {},
   "outputs": [
    {
     "data": {
      "text/plain": [
       "array([[ 0,  2,  4],\n",
       "       [ 3,  5,  7],\n",
       "       [ 6,  8, 10],\n",
       "       [ 9, 11, 13]])"
      ]
     },
     "execution_count": 34,
     "metadata": {},
     "output_type": "execute_result"
    }
   ],
   "source": [
    "\n",
    "a = np.arange(3).reshape(1,3)\n",
    "b = np.arange(12).reshape(4,3)\n",
    "\n",
    "a + b                                   # The smaller array \"a\" is broadcasted from (1,3) to (4,3) for element-by-element addition\n"
   ]
  },
  {
   "cell_type": "markdown",
   "id": "f0f00472-7ad0-4878-a9e9-99d68b93520a",
   "metadata": {},
   "source": [
    "<br>\n",
    "\n",
    "<code style=\"color: white; background-color: #9f9e9d;\">practice - 3</code>"
   ]
  },
  {
   "cell_type": "code",
   "execution_count": 36,
   "id": "0da4e2f0-cf0b-47b0-8786-b7af80b72eaf",
   "metadata": {},
   "outputs": [
    {
     "data": {
      "text/plain": [
       "array([[ 2,  4,  6],\n",
       "       [ 5,  7,  9],\n",
       "       [ 8, 10, 12],\n",
       "       [11, 13, 15]])"
      ]
     },
     "execution_count": 36,
     "metadata": {},
     "output_type": "execute_result"
    }
   ],
   "source": [
    "\n",
    "a = np.arange(1,13).reshape(4,3)\n",
    "b = np.arange(1,4).reshape(1,3)\n",
    "\n",
    "a + b                                   # The smaller array \"b\" is broadcasted from (1,3) to (4,3) for element-by-element addition\n"
   ]
  },
  {
   "cell_type": "markdown",
   "id": "ce8fcffb-3199-48d7-9a61-4721eb44da5e",
   "metadata": {},
   "source": [
    "<br>\n",
    "\n",
    "<code style=\"color: white; background-color: #9f9e9d;\">practice - 4</code>"
   ]
  },
  {
   "cell_type": "code",
   "execution_count": 40,
   "id": "03e66406-a3a8-4510-866c-fc2d5bd9ca72",
   "metadata": {},
   "outputs": [
    {
     "ename": "ValueError",
     "evalue": "operands could not be broadcast together with shapes (4,4) (1,3) ",
     "output_type": "error",
     "traceback": [
      "\u001b[1;31m---------------------------------------------------------------------------\u001b[0m",
      "\u001b[1;31mValueError\u001b[0m                                Traceback (most recent call last)",
      "Cell \u001b[1;32mIn[40], line 4\u001b[0m\n\u001b[0;32m      1\u001b[0m a \u001b[38;5;241m=\u001b[39m np\u001b[38;5;241m.\u001b[39marange(\u001b[38;5;241m16\u001b[39m)\u001b[38;5;241m.\u001b[39mreshape(\u001b[38;5;241m4\u001b[39m,\u001b[38;5;241m4\u001b[39m)\n\u001b[0;32m      2\u001b[0m b \u001b[38;5;241m=\u001b[39m np\u001b[38;5;241m.\u001b[39marange(\u001b[38;5;241m3\u001b[39m)\u001b[38;5;241m.\u001b[39mreshape(\u001b[38;5;241m1\u001b[39m,\u001b[38;5;241m3\u001b[39m)\n\u001b[1;32m----> 4\u001b[0m \u001b[43ma\u001b[49m\u001b[43m \u001b[49m\u001b[38;5;241;43m+\u001b[39;49m\u001b[43m \u001b[49m\u001b[43mb\u001b[49m                                  \u001b[38;5;66;03m# The smaller array \"b\" is first strecthed from (1,3) to (4,3)\u001b[39;00m\n\u001b[0;32m      5\u001b[0m                                        \u001b[38;5;66;03m# But the array b(4, 3) is now incompatible with the array a(4,4) for element-by-element addition\u001b[39;00m\n",
      "\u001b[1;31mValueError\u001b[0m: operands could not be broadcast together with shapes (4,4) (1,3) "
     ]
    }
   ],
   "source": [
    "\n",
    "a = np.arange(16).reshape(4,4)\n",
    "b = np.arange(3).reshape(1,3)\n",
    "\n",
    "a + b                                  # The smaller array \"b\" is first strecthed from (1,3) to (4,3)\n",
    "                                       # But the array b(4, 3) is now incompatible with the array a(4,4) for element-by-element addition\n"
   ]
  },
  {
   "cell_type": "markdown",
   "id": "0fccd00b-e40f-4d41-9b33-ed488d7bc931",
   "metadata": {},
   "source": [
    "<br>\n",
    "\n",
    "<code style=\"color: white; background-color: #9f9e9d;\">practice - 5</code>"
   ]
  },
  {
   "cell_type": "code",
   "execution_count": 42,
   "id": "047c174e-e2ac-416b-a4e0-14a60554ee19",
   "metadata": {},
   "outputs": [
    {
     "data": {
      "text/plain": [
       "array([[ 0,  1,  2,  3,  4],\n",
       "       [ 5,  6,  7,  8,  9],\n",
       "       [10, 11, 12, 13, 14],\n",
       "       [15, 16, 17, 18, 19]])"
      ]
     },
     "execution_count": 42,
     "metadata": {},
     "output_type": "execute_result"
    }
   ],
   "source": [
    "\n",
    "a = np.arange(1).reshape(1,1)\n",
    "b = np.arange(20).reshape(4,5)\n",
    "\n",
    "a + b                                   # The smaller array \"a\" is stretched from (1,1) to (4,5)\n",
    "                                        # The array \"b\" is now compatible with the array \"a\" for element-by-element addition\n"
   ]
  },
  {
   "cell_type": "markdown",
   "id": "a30d968b-1b42-456c-bde1-5022930e6b08",
   "metadata": {},
   "source": [
    "<br>\n",
    "\n",
    "<code style=\"color: white; background-color: #9f9e9d;\">practice - 6</code>"
   ]
  },
  {
   "cell_type": "code",
   "execution_count": 47,
   "id": "807feb9c-2a90-4580-b556-34f22ff4ca6d",
   "metadata": {},
   "outputs": [
    {
     "ename": "ValueError",
     "evalue": "operands could not be broadcast together with shapes (1,4) (4,5) ",
     "output_type": "error",
     "traceback": [
      "\u001b[1;31m---------------------------------------------------------------------------\u001b[0m",
      "\u001b[1;31mValueError\u001b[0m                                Traceback (most recent call last)",
      "Cell \u001b[1;32mIn[47], line 4\u001b[0m\n\u001b[0;32m      1\u001b[0m a \u001b[38;5;241m=\u001b[39m np\u001b[38;5;241m.\u001b[39marange(\u001b[38;5;241m4\u001b[39m)\u001b[38;5;241m.\u001b[39mreshape(\u001b[38;5;241m1\u001b[39m,\u001b[38;5;241m4\u001b[39m)\n\u001b[0;32m      2\u001b[0m b \u001b[38;5;241m=\u001b[39m np\u001b[38;5;241m.\u001b[39marange(\u001b[38;5;241m20\u001b[39m)\u001b[38;5;241m.\u001b[39mreshape(\u001b[38;5;241m4\u001b[39m,\u001b[38;5;241m5\u001b[39m)\n\u001b[1;32m----> 4\u001b[0m \u001b[43ma\u001b[49m\u001b[43m \u001b[49m\u001b[38;5;241;43m+\u001b[39;49m\u001b[43m \u001b[49m\u001b[43mb\u001b[49m                                   \u001b[38;5;66;03m# The smaller array \"a\" is stretched from (1,4) to (4,4)\u001b[39;00m\n\u001b[0;32m      5\u001b[0m                                         \u001b[38;5;66;03m# But the array  b(4,5)  is stil not compatible with the array  a(4,4)\u001b[39;00m\n",
      "\u001b[1;31mValueError\u001b[0m: operands could not be broadcast together with shapes (1,4) (4,5) "
     ]
    }
   ],
   "source": [
    "\n",
    "a = np.arange(4).reshape(1,4)\n",
    "b = np.arange(20).reshape(4,5)\n",
    "\n",
    "a + b                                   # The smaller array \"a\" is stretched from (1,4) to (4,4)\n",
    "                                        # But the array  b(4,5)  is stil not compatible with the array  a(4,4)\n"
   ]
  },
  {
   "cell_type": "markdown",
   "id": "80569d74-37d2-4696-b2ee-e0893853a2a4",
   "metadata": {},
   "source": [
    "<br>\n",
    "\n",
    "<code style=\"color: white; background-color: #9f9e9d;\">practice - 7</code>"
   ]
  },
  {
   "cell_type": "code",
   "execution_count": 46,
   "id": "69492e45-4b1c-43ee-82cb-9deed6974fbe",
   "metadata": {},
   "outputs": [
    {
     "data": {
      "text/plain": [
       "array([[ 0,  2,  4,  6,  8],\n",
       "       [ 5,  7,  9, 11, 13],\n",
       "       [10, 12, 14, 16, 18],\n",
       "       [15, 17, 19, 21, 23]])"
      ]
     },
     "execution_count": 46,
     "metadata": {},
     "output_type": "execute_result"
    }
   ],
   "source": [
    "\n",
    "a = np.arange(5).reshape(1,5)\n",
    "b = np.arange(20).reshape(4,5)\n",
    "\n",
    "a + b                                   # The smaller array \"a\" is broadcasted from (1,5) to (4,5)\n",
    "                                        # The array  b(4,5)  is now compatible with the array  a(4,5)\n"
   ]
  },
  {
   "cell_type": "markdown",
   "id": "c1ba98b4-264f-48db-9aa1-6f6796773fba",
   "metadata": {
    "jp-MarkdownHeadingCollapsed": true
   },
   "source": [
    "<br><br>\n",
    "\n",
    "## Joining &nbsp;& &nbsp;Splitting &nbsp;Arrays\n"
   ]
  },
  {
   "cell_type": "markdown",
   "id": "5c3999df-1a01-4fa5-b5f6-3d7aeb8ade4c",
   "metadata": {
    "jp-MarkdownHeadingCollapsed": true
   },
   "source": [
    "<br>\n",
    "\n",
    "### <div style=\"color: white; background-color: #af87ff; padding: 5px;\"> <code style=\"font-size: 1.2rem; background-color: #af87ff; color: white;\"><strong>numpy.concatenate()</strong></code> </div>\n"
   ]
  },
  {
   "cell_type": "markdown",
   "id": "1c778303-7ff0-4716-9be9-c2bd71a9d60c",
   "metadata": {},
   "source": [
    "\n",
    "<code style=\"background-color: yellow; padding: 8px;\">np.<span style=\"color: red;\"><span style=\"font-size: 1rem;\"><strong>concatenate</strong></span><span style=\"font-size: 1.1rem;\">(</span><span style=\"color: black; background-color: white;\">(a1,a2,...)</span>, <span style=\"background-color: white;\"><span style=\"color: black;\">axis</span><span style=\"color: #9b96a1;\">=0</span><span style=\"font-size: 1.1rem;\">)</span></span></span></code> &nbsp;&nbsp;&nbsp;&nbsp;====>&nbsp;&nbsp;&nbsp;&nbsp; joins the elements of two or more arrays into a single array and returns the concatenated array. <br>\n",
    "<span style=\"margin-left: 310px;\">====>&nbsp;&nbsp;&nbsp;&nbsp; <span style=\"color: blue;\">the arrays in the sequence must have the same shape.</span></span> <br>\n",
    "<span style=\"margin-left: 310px;\">====>&nbsp;&nbsp;&nbsp;&nbsp; If the &nbsp;<code>axis</code>&nbsp; is &nbsp;<code>None</code>&nbsp;, the function will <strong>flatten</strong> the arrays before joining.</span>\n"
   ]
  },
  {
   "cell_type": "markdown",
   "id": "13856764-481a-4a50-9dc5-a3864d88b495",
   "metadata": {},
   "source": [
    "<br>\n",
    "\n",
    "<code style=\"color: white; background-color: black;\">Example - 1</code> &nbsp;&nbsp;<span style=\"color: #2fbd0b;\">Using the <code style=\"background-color: yellow;\">concatenate()</code> function to join two <span style=\"color: red;\">1D</span> arrays</span>"
   ]
  },
  {
   "cell_type": "code",
   "execution_count": 51,
   "id": "db18702e-6d88-4d39-873a-3c826d99389f",
   "metadata": {},
   "outputs": [
    {
     "name": "stdout",
     "output_type": "stream",
     "text": [
      "[1 2 3 4]\n"
     ]
    }
   ],
   "source": [
    "\n",
    "a = np.array([1, 2])\n",
    "b = np.array([3, 4])\n",
    "\n",
    "c = np.concatenate((a, b))              # axis = 0 (default)\n",
    "print(c)\n"
   ]
  },
  {
   "cell_type": "markdown",
   "id": "a9e98465-7988-46fc-8c63-1cc50ac5e918",
   "metadata": {},
   "source": [
    "<div style=\"margin-left: 85px;\">\n",
    "\n",
    "![](../media/numpy_50.PNG)\n",
    "\n",
    "</div>"
   ]
  },
  {
   "cell_type": "markdown",
   "id": "6d86f789-26b1-4aaf-b996-d666d1c0cf28",
   "metadata": {},
   "source": [
    "<br>\n",
    "\n",
    "<code style=\"color: white; background-color: black;\">Example - 2</code> &nbsp;&nbsp;<span style=\"color: #2fbd0b;\">Using the <code style=\"background-color: yellow;\">concatenate()</code> function to join two <span style=\"color: red;\">2D</span> arrays</span>\n",
    "\n",
    "<u><span style=\"color: #a245ff;\">Case-1 :</span></u> &nbsp;&nbsp;<span style=\"color: red;\">axis = None</span> &nbsp;<span style=\"color: blue;\">(it will flatten the arrays before joining)</span>"
   ]
  },
  {
   "cell_type": "code",
   "execution_count": 4,
   "id": "8c7d6b62-e9b6-4c86-b297-7fcd608fcd39",
   "metadata": {},
   "outputs": [
    {
     "name": "stdout",
     "output_type": "stream",
     "text": [
      "[1 2 3 4 5 6 7 8]\n"
     ]
    }
   ],
   "source": [
    "\n",
    "a = np.array([\n",
    "    [1, 2],\n",
    "    [3, 4]\n",
    "])\n",
    "b = np.array([\n",
    "    [5, 6],\n",
    "    [7, 8]\n",
    "])\n",
    "\n",
    "c = np.concatenate((a, b), axis=None)            # both the arrays will be flattened before joining\n",
    "print(c)\n"
   ]
  },
  {
   "cell_type": "markdown",
   "id": "ec97a9ee-c1e2-425f-b9bc-a756df5a05c6",
   "metadata": {},
   "source": [
    "<br>\n",
    "\n",
    "<u><span style=\"color: #a245ff;\">Case-2 :</span></u> &nbsp;&nbsp;<span style=\"color: red;\">axis = 0</span> &nbsp;<span style=\"color: blue;\">(default)</span>"
   ]
  },
  {
   "cell_type": "code",
   "execution_count": 5,
   "id": "2cfbfb7f-a06e-4af6-86d6-09766865fa6e",
   "metadata": {},
   "outputs": [
    {
     "name": "stdout",
     "output_type": "stream",
     "text": [
      "[[1 2]\n",
      " [3 4]\n",
      " [5 6]\n",
      " [7 8]]\n"
     ]
    }
   ],
   "source": [
    "\n",
    "a = np.array([\n",
    "    [1, 2],\n",
    "    [3, 4]\n",
    "])\n",
    "b = np.array([\n",
    "    [5, 6],\n",
    "    [7, 8]\n",
    "])\n",
    "\n",
    "c = np.concatenate((a, b))                        # axis = 0  (default)\n",
    "print(c)\n"
   ]
  },
  {
   "cell_type": "markdown",
   "id": "b09f99b6-01a0-43fa-89d9-7b404aa1a048",
   "metadata": {},
   "source": [
    "<div style=\"margin-left: 110px;\">\n",
    "\n",
    "![](../media/numpy_51.PNG)\n",
    "\n",
    "</div>"
   ]
  },
  {
   "cell_type": "markdown",
   "id": "2ca8c4fe-9c63-4cfc-8f77-f5f14ce77eec",
   "metadata": {},
   "source": [
    "<br>\n",
    "\n",
    "<u><span style=\"color: #a245ff;\">Case-3 :</span></u> &nbsp;&nbsp;<span style=\"color: red;\">axis = 1</span>"
   ]
  },
  {
   "cell_type": "code",
   "execution_count": 6,
   "id": "c9d3a40c-e367-4007-aec0-158f7b0908ba",
   "metadata": {},
   "outputs": [
    {
     "name": "stdout",
     "output_type": "stream",
     "text": [
      "[[1 2 5 6]\n",
      " [3 4 7 8]]\n"
     ]
    }
   ],
   "source": [
    "\n",
    "a = np.array([\n",
    "    [1, 2],\n",
    "    [3, 4]\n",
    "])\n",
    "b = np.array([\n",
    "    [5, 6],\n",
    "    [7, 8]\n",
    "])\n",
    "\n",
    "c = np.concatenate((a, b), axis=1)\n",
    "print(c)\n"
   ]
  },
  {
   "cell_type": "markdown",
   "id": "b1b6c3d6-fc14-4b22-9d62-86d5865e1996",
   "metadata": {},
   "source": [
    "<div style=\"margin-left: 110px;\">\n",
    "\n",
    "![](../media/numpy_52.PNG)\n",
    "\n",
    "</div>"
   ]
  },
  {
   "cell_type": "markdown",
   "id": "99f0eed4-d72c-4954-884b-0736ecb7752b",
   "metadata": {},
   "source": [
    "<br>\n",
    "\n",
    "<code style=\"color: white; background-color: black;\">Example - 3</code> &nbsp;&nbsp;<span style=\"color: #2fbd0b;\">Using the <code style=\"background-color: yellow;\">concatenate()</code> function to join two <span style=\"color: red;\">3D</span> arrays</span>\n",
    "\n",
    "<u><span style=\"color: #a245ff;\">Case-1 :</span></u> &nbsp;&nbsp;<span style=\"color: red;\">axis = None</span> &nbsp;<span style=\"color: blue;\">(it will flatten the arrays before joining)</span>"
   ]
  },
  {
   "cell_type": "code",
   "execution_count": 26,
   "id": "31d5c386-7ef7-43e7-96a6-755bb7c56ada",
   "metadata": {},
   "outputs": [
    {
     "name": "stdout",
     "output_type": "stream",
     "text": [
      "[ 1  2  3  4  5  6  7  8 -1 -2 -3 -4 -5 -6 -7 -8]\n"
     ]
    }
   ],
   "source": [
    "\n",
    "a = np.array([ \n",
    "    [[1, 2], [3, 4]], \n",
    "    [[5, 6], [7, 8]] \n",
    "])                                               # 3D\n",
    "\n",
    "\n",
    "b = np.array([ \n",
    "    [[-1, -2], [-3, -4]], \n",
    "    [[-5, -6], [-7, -8]] \n",
    "])                                               # 3D\n",
    "\n",
    "\n",
    "c = np.concatenate((a, b), axis=None)\n",
    "print(c)\n"
   ]
  },
  {
   "cell_type": "markdown",
   "id": "ffbbae67-84f0-417c-8f22-0b071214035b",
   "metadata": {},
   "source": [
    "<br>\n",
    "\n",
    "<u><span style=\"color: #a245ff;\">Case-2 :</span></u> &nbsp;&nbsp;<span style=\"color: red;\">axis = 0</span> &nbsp;<span style=\"color: blue;\">(default)</span>"
   ]
  },
  {
   "cell_type": "code",
   "execution_count": 31,
   "id": "13aff5cc-18dd-4bf6-855f-60854af917cf",
   "metadata": {},
   "outputs": [
    {
     "name": "stdout",
     "output_type": "stream",
     "text": [
      "[[[ 1  2]\n",
      "  [ 3  4]]\n",
      "\n",
      " [[ 5  6]\n",
      "  [ 7  8]]\n",
      "\n",
      " [[-1 -2]\n",
      "  [-3 -4]]\n",
      "\n",
      " [[-5 -6]\n",
      "  [-7 -8]]]\n"
     ]
    }
   ],
   "source": [
    "\n",
    "a = np.array([ \n",
    "    [[1, 2], [3, 4]], \n",
    "    [[5, 6], [7, 8]] \n",
    "])                                          # 3D array\n",
    "\n",
    "\n",
    "b = np.array([ \n",
    "    [[-1, -2], [-3, -4]], \n",
    "    [[-5, -6], [-7, -8]] \n",
    "])                                          # 3D array\n",
    "\n",
    "\n",
    "c = np.concatenate((a, b), axis=0)\n",
    "print(c)\n"
   ]
  },
  {
   "cell_type": "markdown",
   "id": "cc3c3142-7943-4127-a6e9-fa54354a2bb6",
   "metadata": {},
   "source": [
    "<div style=\"margin-left: 100px;\">\n",
    "\n",
    "![](../media/numpy_53.PNG)\n",
    "\n",
    "</div>\n",
    "\n",
    "<br>\n",
    "\n",
    "<u><span style=\"color: #a245ff;\">Case-3 :</span></u> &nbsp;&nbsp;<span style=\"color: red;\">axis = 1</span>"
   ]
  },
  {
   "cell_type": "code",
   "execution_count": 32,
   "id": "b50128ab-8383-49f8-8922-5ea92016d7f2",
   "metadata": {},
   "outputs": [
    {
     "name": "stdout",
     "output_type": "stream",
     "text": [
      "[[[ 1  2]\n",
      "  [ 3  4]\n",
      "  [-1 -2]\n",
      "  [-3 -4]]\n",
      "\n",
      " [[ 5  6]\n",
      "  [ 7  8]\n",
      "  [-5 -6]\n",
      "  [-7 -8]]]\n"
     ]
    }
   ],
   "source": [
    "\n",
    "a = np.array([ \n",
    "    [[1, 2], [3, 4]], \n",
    "    [[5, 6], [7, 8]] \n",
    "])                                          # 3D array\n",
    "\n",
    "\n",
    "b = np.array([ \n",
    "    [[-1, -2], [-3, -4]], \n",
    "    [[-5, -6], [-7, -8]] \n",
    "])                                          # 3D array\n",
    "\n",
    "\n",
    "c = np.concatenate((a, b), axis=1)\n",
    "print(c)\n"
   ]
  },
  {
   "cell_type": "markdown",
   "id": "a9dfdd6e-1677-435e-b217-6e2b182f3d5a",
   "metadata": {},
   "source": [
    "<div style=\"margin-left: 100px;\">\n",
    "\n",
    "![](../media/numpy_54.PNG)\n",
    "\n",
    "</div>\n",
    "\n",
    "<br>\n",
    "\n",
    "<u><span style=\"color: #a245ff;\">Case-4 :</span></u> &nbsp;&nbsp;<span style=\"color: red;\">axis = 2</span>"
   ]
  },
  {
   "cell_type": "code",
   "execution_count": 33,
   "id": "a95942e0-10bb-4638-b07f-60c2ab34f5d5",
   "metadata": {},
   "outputs": [
    {
     "name": "stdout",
     "output_type": "stream",
     "text": [
      "[[[ 1  2 -1 -2]\n",
      "  [ 3  4 -3 -4]]\n",
      "\n",
      " [[ 5  6 -5 -6]\n",
      "  [ 7  8 -7 -8]]]\n"
     ]
    }
   ],
   "source": [
    "\n",
    "a = np.array([ \n",
    "    [[1, 2], [3, 4]], \n",
    "    [[5, 6], [7, 8]] \n",
    "])                                          # 3D array\n",
    "\n",
    "\n",
    "b = np.array([ \n",
    "    [[-1, -2], [-3, -4]], \n",
    "    [[-5, -6], [-7, -8]] \n",
    "])                                          # 3D array\n",
    "\n",
    "\n",
    "c = np.concatenate((a, b), axis=2)\n",
    "print(c)\n"
   ]
  },
  {
   "cell_type": "markdown",
   "id": "963b1757-7e11-41de-ab17-3df6df7e0cbf",
   "metadata": {},
   "source": [
    "<div style=\"margin-left: 100px;\">\n",
    "\n",
    "![](../media/numpy_55.PNG)\n",
    "\n",
    "</div>"
   ]
  },
  {
   "cell_type": "markdown",
   "id": "1cc1954f-fc51-4dc8-bc8f-729498e37ada",
   "metadata": {
    "jp-MarkdownHeadingCollapsed": true
   },
   "source": [
    "<br>\n",
    "\n",
    "### <div style=\"color: white; background-color: #af87ff; padding: 5px;\"> <code style=\"font-size: 1.2rem; background-color: #af87ff; color: white;\"><strong>numpy.stack()</strong></code> </div>\n"
   ]
  },
  {
   "cell_type": "markdown",
   "id": "3e811370-e0c9-43ff-959c-80b48130b121",
   "metadata": {},
   "source": [
    "\n",
    "<code style=\"background-color: yellow; padding: 8px;\">np.<span style=\"color: red;\"><span style=\"font-size: 1rem;\"><strong>stack</strong></span><span style=\"font-size: 1.1rem;\">(</span><span style=\"color: black; background-color: white;\">(a1,a2,...)</span>, <span style=\"background-color: white;\"><span style=\"color: black;\">axis</span><span style=\"color: #9b96a1;\">=0</span><span style=\"font-size: 1.1rem;\">)</span></span></span></code> &nbsp;&nbsp;&nbsp;==>&nbsp;&nbsp;&nbsp; stacks (or joins) one or more arrays into a **single array** along a new axis. <br>\n",
    "<span style=\"margin-left: 260px;\">==>&nbsp;&nbsp;&nbsp; The important thing to note is that this function creates a new dimension in the resulting array.</span> <br>\n",
    "<span style=\"margin-left: 260px;\">==>&nbsp;&nbsp;&nbsp; <span style=\"color: blue; background-color: #ebedef;\">&nbsp;(a1, a2, …)&nbsp;</span> is a sequence of arrays with **ndarray** type or **array-like objects**. &nbsp;All arrays <span style=\"color: blue;\">a1</span>, <span style=\"color: blue;\">a2</span>, ... **must have the same shape**.</span> <br>\n",
    "\n",
    "<br>\n",
    "\n",
    "Unlike the &nbsp;<code style=\"color: red;\">concatenate()</code>&nbsp; function, the <code style=\"background-color: yellow;\">stack()</code> function <u>joins 1D arrays to be one 2D array</u> and <u>joins 2D arrays to be one 3D array</u>.\n",
    "\n",
    "Besides the <code style=\"background-color: yellow;\">stack()</code> function, NumPy also has <code style=\"background-color: #b7fffd;\">vstack()</code> function that joins two or more arrays vertically and <code style=\"background-color: #b7fffd;\">hstack()</code> function that joins two or more arrays horizontally.\n",
    "\n",
    "<br>\n",
    "\n",
    "<code style=\"color: white; background-color: black;\">Example - 1</code> &nbsp;&nbsp;<span style=\"color: #2fbd0b;\">Using the <code style=\"background-color: yellow;\">stack()</code> function to join two <span style=\"color: red;\"><strong>1D</strong></span> arrays</span> &nbsp;&nbsp;&nbsp;&nbsp;&nbsp;<span style=\"color: #ff8cba;\">(since the result will be a <strong>2D</strong> array, so you can stack along two axis only <strong>0</strong> or <strong>1</strong>)</span>\n",
    "\n",
    "<u><span style=\"color: #a245ff;\">Case-1 :</span></u> &nbsp;&nbsp;<span style=\"color: red;\">axis = 0</span> &nbsp;<span style=\"color: blue;\">(default)</span>\n"
   ]
  },
  {
   "cell_type": "code",
   "execution_count": 14,
   "id": "85f7f913-d4bc-4d9c-b012-2a5593099d8b",
   "metadata": {},
   "outputs": [
    {
     "name": "stdout",
     "output_type": "stream",
     "text": [
      "[[1 2]\n",
      " [3 4]]\n"
     ]
    }
   ],
   "source": [
    "\n",
    "a = np.array([1, 2])\n",
    "b = np.array([3, 4])\n",
    "\n",
    "c = np.stack((a, b))            # axis = 0  (default)\n",
    "print(c)\n"
   ]
  },
  {
   "cell_type": "markdown",
   "id": "5000f021-7166-4120-b512-d3ac4b3c3a7d",
   "metadata": {},
   "source": [
    "<div style=\"margin-left: 140px;\">\n",
    "\n",
    "![](../media/numpy_56.PNG)\n",
    "\n",
    "</div>\n",
    "\n",
    "<br>\n",
    "\n",
    "<u><span style=\"color: #a245ff;\">Case-2 :</span></u> &nbsp;&nbsp;<span style=\"color: red;\">axis = 1</span>"
   ]
  },
  {
   "cell_type": "code",
   "execution_count": 19,
   "id": "9b83cf35-c55d-4598-9c74-b666f0555dc2",
   "metadata": {},
   "outputs": [
    {
     "name": "stdout",
     "output_type": "stream",
     "text": [
      "[[1 3]\n",
      " [2 4]]\n"
     ]
    }
   ],
   "source": [
    "\n",
    "a = np.array([1, 2])\n",
    "b = np.array([3, 4])\n",
    "\n",
    "c = np.stack((a, b), axis=1)\n",
    "print(c)\n"
   ]
  },
  {
   "cell_type": "markdown",
   "id": "64973e8f-c715-4250-a850-3a416e0387cb",
   "metadata": {},
   "source": [
    "<div style=\"margin-left: 100px;\">\n",
    "\n",
    "![](../media/numpy_57.PNG)\n",
    "\n",
    "</div>\n",
    "\n",
    "<br>\n",
    "\n",
    "<code style=\"color: white; background-color: black;\">Example - 2</code> &nbsp;&nbsp;<span style=\"color: #2fbd0b;\">Using the <code style=\"background-color: yellow; color: red;\">stack()</code> function to join two <span style=\"color: red;\"><strong>2D</strong></span> arrays</span> &nbsp;&nbsp;&nbsp;&nbsp;&nbsp;<span style=\"color: #ff8cba;\">(since the result will be a <strong>3D</strong> array, so you can stack along three axis <strong>0</strong> or <strong>1</strong> or <strong>2</strong>)</span>\n",
    "\n",
    "<u><span style=\"color: #a245ff;\">Case-1 :</span></u> &nbsp;&nbsp;<span style=\"color: red;\">axis = 0</span> &nbsp;<span style=\"color: blue;\">(default)</span>\n"
   ]
  },
  {
   "cell_type": "code",
   "execution_count": 10,
   "id": "63ed168d-e47b-4765-a674-76b2b713425c",
   "metadata": {},
   "outputs": [
    {
     "name": "stdout",
     "output_type": "stream",
     "text": [
      "[[[1 2]\n",
      "  [3 4]]\n",
      "\n",
      " [[5 6]\n",
      "  [7 8]]]\n",
      "(2, 2, 2)\n"
     ]
    }
   ],
   "source": [
    "\n",
    "a = np.array([\n",
    "    [1, 2],\n",
    "    [3, 4]\n",
    "])\n",
    "b = np.array([\n",
    "    [5, 6],\n",
    "    [7, 8]\n",
    "])\n",
    "\n",
    "c = np.stack((a, b))               # c = np.stack((a, b), axis = 0)\n",
    "print(c)\n",
    "print(c.shape)\n"
   ]
  },
  {
   "cell_type": "markdown",
   "id": "e0cd9ea9-db4f-4893-8093-f0280b89c3a8",
   "metadata": {},
   "source": [
    "<div style=\"margin-left: 120px;\">\n",
    "\n",
    "![](../media/numpy_58.PNG)\n",
    "\n",
    "</div>\n",
    "\n",
    "<br>\n",
    "\n",
    "<u><span style=\"color: #a245ff;\">Case-2 :</span></u> &nbsp;&nbsp;<span style=\"color: red;\">axis = 1</span>"
   ]
  },
  {
   "cell_type": "code",
   "execution_count": 12,
   "id": "d0ce25c6-570a-49d7-8c0e-69b5d498be56",
   "metadata": {},
   "outputs": [
    {
     "name": "stdout",
     "output_type": "stream",
     "text": [
      "[[[1 2]\n",
      "  [5 6]]\n",
      "\n",
      " [[3 4]\n",
      "  [7 8]]]\n",
      "(2, 2, 2)\n"
     ]
    }
   ],
   "source": [
    "\n",
    "a = np.array([\n",
    "    [1, 2],\n",
    "    [3, 4]\n",
    "])\n",
    "b = np.array([\n",
    "    [5, 6],\n",
    "    [7, 8]\n",
    "])\n",
    "\n",
    "c = np.stack((a, b), axis = 1)\n",
    "print(c)\n",
    "print(c.shape)\n"
   ]
  },
  {
   "cell_type": "markdown",
   "id": "92df1d57-ae2a-4055-a0de-3b5f44c27d1f",
   "metadata": {},
   "source": [
    "<div style=\"margin-left: 120px;\">\n",
    "\n",
    "![](../media/numpy_59.PNG)\n",
    "\n",
    "</div>\n",
    "\n",
    "<br>\n",
    "\n",
    "<u><span style=\"color: #a245ff;\">Case-3 :</span></u> &nbsp;&nbsp;<span style=\"color: red;\">axis = 2</span>"
   ]
  },
  {
   "cell_type": "code",
   "execution_count": 13,
   "id": "784e068c-0a54-43a7-b1e9-926b2b1e7261",
   "metadata": {},
   "outputs": [
    {
     "name": "stdout",
     "output_type": "stream",
     "text": [
      "[[[1 5]\n",
      "  [2 6]]\n",
      "\n",
      " [[3 7]\n",
      "  [4 8]]]\n",
      "(2, 2, 2)\n"
     ]
    }
   ],
   "source": [
    "\n",
    "a = np.array([\n",
    "    [1, 2],\n",
    "    [3, 4]\n",
    "])\n",
    "b = np.array([\n",
    "    [5, 6],\n",
    "    [7, 8]\n",
    "])\n",
    "\n",
    "c = np.stack((a, b), axis = 2)\n",
    "print(c)\n",
    "print(c.shape)\n"
   ]
  },
  {
   "cell_type": "markdown",
   "id": "822db2ac-2f60-4792-a23e-0ca196d6db50",
   "metadata": {},
   "source": [
    "<div style=\"margin-left: 100px;\">\n",
    "\n",
    "![](../media/numpy_60.PNG)\n",
    "\n",
    "</div>"
   ]
  },
  {
   "cell_type": "markdown",
   "id": "f5c4683e-82b4-4b37-bf21-05aa02ee3dd4",
   "metadata": {
    "jp-MarkdownHeadingCollapsed": true
   },
   "source": [
    "<br>\n",
    "\n",
    "### <div style=\"color: white; background-color: #af87ff; padding: 5px;\"> <code style=\"font-size: 1.2rem; background-color: #af87ff; color: white;\"><strong>numpy.vstack()</strong></code> </div>\n"
   ]
  },
  {
   "cell_type": "markdown",
   "id": "383cd26b-fea2-48b3-91d5-d5cf398dbe6e",
   "metadata": {},
   "source": [
    "<code style=\"background-color: yellow; padding: 8px;\">np.<span style=\"color: red;\"><span style=\"font-size: 1rem;\"><strong>vstack</strong></span><span style=\"font-size: 1.1rem;\">(</span><span style=\"color: black; background-color: white;\">(a1,a2,...)</span><span style=\"font-size: 1.1rem;\">)</span></span></span></code> &nbsp;&nbsp;&nbsp;==>&nbsp;&nbsp;&nbsp; stacks (or joins) one or more arrays into a **single array** <span style=\"color: blue;\">vertically ( row wise &nbsp;&nbsp;====>&nbsp;&nbsp; <code>axis = 0</code> )</span>. <br>\n",
    "<span style=\"margin-left: 205px;\">==>&nbsp;&nbsp;&nbsp; All arrays a1, a2, ... must have the same shape along all but the <span style=\"color: blue;\"><strong>1st axis</strong></span>. &nbsp;If they’re 1D arrays, then they must have the <strong>same length</strong>.</span> <br>\n",
    "\n",
    "<br>\n",
    "\n",
    "<code style=\"color: white; background-color: black;\">Example - 1</code> &nbsp;&nbsp;<span style=\"color: #2fbd0b;\">Using the <code style=\"background-color: yellow;\">vstack()</code> function to join elements of two <span style=\"color: red;\"><strong>1D</strong></span> arrays vertically (along the <strong>1st axis</strong>)</span>"
   ]
  },
  {
   "cell_type": "code",
   "execution_count": 9,
   "id": "8b7175a2-9086-4871-9be3-fde6ddb8fbab",
   "metadata": {},
   "outputs": [
    {
     "name": "stdout",
     "output_type": "stream",
     "text": [
      "[[1 2]\n",
      " [3 4]]\n",
      "(2, 2)\n"
     ]
    }
   ],
   "source": [
    "\n",
    "a = np.array([1, 2])                    # 1D array    =====>    (2, )\n",
    "b = np.array([3, 4])                    # 1D array    =====>    (2, )\n",
    "\n",
    "c = np.vstack((a, b))                   # 2D array    =====>    (2, 2)    =====>    2 rows, 2 columns\n",
    "print(c)\n",
    "\n",
    "print(c.shape)\n"
   ]
  },
  {
   "cell_type": "markdown",
   "id": "c8eaa611-d7bd-4797-9974-66edbeaed232",
   "metadata": {},
   "source": [
    "<div style=\"margin-left: 85px;\">\n",
    "\n",
    "![](../media/numpy_61.PNG)\n",
    "\n",
    "</div>\n",
    "\n",
    "<br>\n",
    "\n",
    "<strong>Note</strong> that for 1D arrays, <u>all input arrays must have the same length</u> or you’ll get an error."
   ]
  },
  {
   "cell_type": "code",
   "execution_count": 8,
   "id": "a980a808-cf4e-4655-9500-6b6228c8a1ea",
   "metadata": {},
   "outputs": [
    {
     "ename": "ValueError",
     "evalue": "all the input array dimensions for the concatenation axis must match exactly, but along dimension 1, the array at index 0 has size 2 and the array at index 1 has size 3",
     "output_type": "error",
     "traceback": [
      "\u001b[1;31m---------------------------------------------------------------------------\u001b[0m",
      "\u001b[1;31mValueError\u001b[0m                                Traceback (most recent call last)",
      "Cell \u001b[1;32mIn[8], line 4\u001b[0m\n\u001b[0;32m      1\u001b[0m a \u001b[38;5;241m=\u001b[39m np\u001b[38;5;241m.\u001b[39marray([\u001b[38;5;241m1\u001b[39m, \u001b[38;5;241m2\u001b[39m])                    \u001b[38;5;66;03m# 1D array    ====>    (2, )\u001b[39;00m\n\u001b[0;32m      2\u001b[0m b \u001b[38;5;241m=\u001b[39m np\u001b[38;5;241m.\u001b[39marray([\u001b[38;5;241m3\u001b[39m, \u001b[38;5;241m4\u001b[39m, \u001b[38;5;241m5\u001b[39m])                 \u001b[38;5;66;03m# 1D array    ====>    (3, )\u001b[39;00m\n\u001b[1;32m----> 4\u001b[0m c \u001b[38;5;241m=\u001b[39m \u001b[43mnp\u001b[49m\u001b[38;5;241;43m.\u001b[39;49m\u001b[43mvstack\u001b[49m\u001b[43m(\u001b[49m\u001b[43m(\u001b[49m\u001b[43ma\u001b[49m\u001b[43m,\u001b[49m\u001b[43m \u001b[49m\u001b[43mb\u001b[49m\u001b[43m)\u001b[49m\u001b[43m)\u001b[49m\n\u001b[0;32m      5\u001b[0m \u001b[38;5;28mprint\u001b[39m(c)\n",
      "File \u001b[1;32m<__array_function__ internals>:180\u001b[0m, in \u001b[0;36mvstack\u001b[1;34m(*args, **kwargs)\u001b[0m\n",
      "File \u001b[1;32m~\\AppData\\Local\\Programs\\Python\\Python311\\Lib\\site-packages\\numpy\\core\\shape_base.py:282\u001b[0m, in \u001b[0;36mvstack\u001b[1;34m(tup)\u001b[0m\n\u001b[0;32m    280\u001b[0m \u001b[38;5;28;01mif\u001b[39;00m \u001b[38;5;129;01mnot\u001b[39;00m \u001b[38;5;28misinstance\u001b[39m(arrs, \u001b[38;5;28mlist\u001b[39m):\n\u001b[0;32m    281\u001b[0m     arrs \u001b[38;5;241m=\u001b[39m [arrs]\n\u001b[1;32m--> 282\u001b[0m \u001b[38;5;28;01mreturn\u001b[39;00m \u001b[43m_nx\u001b[49m\u001b[38;5;241;43m.\u001b[39;49m\u001b[43mconcatenate\u001b[49m\u001b[43m(\u001b[49m\u001b[43marrs\u001b[49m\u001b[43m,\u001b[49m\u001b[43m \u001b[49m\u001b[38;5;241;43m0\u001b[39;49m\u001b[43m)\u001b[49m\n",
      "File \u001b[1;32m<__array_function__ internals>:180\u001b[0m, in \u001b[0;36mconcatenate\u001b[1;34m(*args, **kwargs)\u001b[0m\n",
      "\u001b[1;31mValueError\u001b[0m: all the input array dimensions for the concatenation axis must match exactly, but along dimension 1, the array at index 0 has size 2 and the array at index 1 has size 3"
     ]
    }
   ],
   "source": [
    "\n",
    "a = np.array([1, 2])                    # 1D array    ====>    (2, )\n",
    "b = np.array([3, 4, 5])                 # 1D array    ====>    (3, )\n",
    "\n",
    "c = np.vstack((a, b))\n",
    "print(c)\n"
   ]
  },
  {
   "cell_type": "markdown",
   "id": "2d411d8f-b3d7-4253-b06e-d95a87a2dd0b",
   "metadata": {},
   "source": [
    "<br>\n",
    "\n",
    "<code style=\"color: white; background-color: black;\">Example - 2</code> &nbsp;&nbsp;<span style=\"color: #2fbd0b;\">Using the <code style=\"background-color: yellow;\">vstack()</code> function to join elements of two <span style=\"color: red;\"><strong>2D</strong></span> arrays vertically (along the <strong>1st axis</strong>)</span>"
   ]
  },
  {
   "cell_type": "code",
   "execution_count": 7,
   "id": "f2af822b-868c-4bd5-83a7-9ed2aecc66fa",
   "metadata": {},
   "outputs": [
    {
     "name": "stdout",
     "output_type": "stream",
     "text": [
      "[[1 2]\n",
      " [3 4]\n",
      " [5 6]\n",
      " [7 8]]\n",
      "(4, 2)\n"
     ]
    }
   ],
   "source": [
    "\n",
    "a = np.array([\n",
    "    [1, 2],\n",
    "    [3, 4]\n",
    "])                                     # 2D array     ======>    (2, 2)    ======>    2 rows, 2 columns\n",
    "\n",
    "b = np.array([\n",
    "    [5, 6],\n",
    "    [7, 8]\n",
    "])                                     # 2D array     ======>    (2, 2)    ======>    2 rows, 2 columns\n",
    "\n",
    "c = np.vstack((a, b))                  # 2D array     ======>    (4, 2)    ======>    4 rows, 2 columns\n",
    "print(c)\n",
    "\n",
    "print(c.shape)\n"
   ]
  },
  {
   "cell_type": "markdown",
   "id": "9d3b5a5e-bf60-4b2b-a74f-60e3b46d426d",
   "metadata": {},
   "source": [
    "<div style=\"margin-left: 120px;\">\n",
    "\n",
    "![](../media/numpy_62.PNG)\n",
    "\n",
    "</div>\n",
    "\n",
    "<br>\n",
    "\n",
    "<code style=\"color: white; background-color: black;\">Example - 3</code> &nbsp;&nbsp;<span style=\"color: #2fbd0b;\">Using the <code style=\"background-color: yellow;\">vstack()</code> function to join elements of two <span style=\"color: red;\"><strong>3D</strong></span> arrays vertically (along the <strong>1st axis</strong>)</span>"
   ]
  },
  {
   "cell_type": "code",
   "execution_count": 6,
   "id": "34d4d2cd-c381-4de1-9902-9b0ca9d3f9ae",
   "metadata": {},
   "outputs": [
    {
     "name": "stdout",
     "output_type": "stream",
     "text": [
      "[[[ 1  2]\n",
      "  [ 3  4]]\n",
      "\n",
      " [[ 5  6]\n",
      "  [ 7  8]]\n",
      "\n",
      " [[-1 -2]\n",
      "  [-3 -4]]\n",
      "\n",
      " [[-5 -6]\n",
      "  [-7 -8]]]\n",
      "(4, 2, 2)\n"
     ]
    }
   ],
   "source": [
    "\n",
    "a = np.array([ \n",
    "    [[1, 2], [3, 4]], \n",
    "    [[5, 6], [7, 8]] \n",
    "])                                     # 3D array     ======>    (2, 2, 2)    ======>    2 layers, 2 rows, 2 columns\n",
    "\n",
    "b = np.array([ \n",
    "    [[-1, -2], [-3, -4]], \n",
    "    [[-5, -6], [-7, -8]] \n",
    "])                                     # 3D array     ======>    (2, 2, 2)    ======>    2 layers, 2 rows, 2 columns\n",
    "\n",
    "c = np.vstack((a, b))                  # 3D array     ======>    (4, 2, 2)    ======>    4 layers, 2 rows, 2 columns\n",
    "print(c)\n",
    "print(c.shape)                         \n"
   ]
  },
  {
   "cell_type": "markdown",
   "id": "1fb4f919-0411-4742-8bbb-aa37bdb82f3e",
   "metadata": {},
   "source": [
    "<div style=\"margin-left: 100px;\">\n",
    "\n",
    "![](../media/numpy_63.PNG)\n",
    "\n",
    "</div>"
   ]
  },
  {
   "cell_type": "markdown",
   "id": "066bdcaf-d8c4-4000-bcd6-6c8f0aa04c17",
   "metadata": {
    "jp-MarkdownHeadingCollapsed": true
   },
   "source": [
    "<br>\n",
    "\n",
    "### <div style=\"color: white; background-color: #af87ff; padding: 5px;\"> <code style=\"font-size: 1.2rem; background-color: #af87ff; color: white;\"><strong>numpy.hstack()</strong></code> </div>\n"
   ]
  },
  {
   "cell_type": "markdown",
   "id": "62e3b787-3bce-44b9-bd45-802e234b6fb1",
   "metadata": {},
   "source": [
    "<code style=\"background-color: yellow; padding: 8px;\">np.<span style=\"color: red;\"><span style=\"font-size: 1rem;\"><strong>hstack</strong></span><span style=\"font-size: 1.1rem;\">(</span><span style=\"color: black; background-color: white;\">(a1,a2,...)</span><span style=\"font-size: 1.1rem;\">)</span></span></span></code> &nbsp;&nbsp;&nbsp;==>&nbsp;&nbsp;&nbsp; stacks (or joins) one or more arrays into a **single array** <span style=\"color: blue;\">horizontally ( column wise &nbsp;&nbsp;====>&nbsp;&nbsp; <code>axis = 1</code> )</span>. <br>\n",
    "<span style=\"margin-left: 205px;\">==>&nbsp;&nbsp;&nbsp; All arrays a1, a2, ... must have the same shape along all but the <u>2nd axis</u>. &nbsp;If all arrays are 1D arrays, then they can have <strong>any length</strong>.</span> <br>\n",
    "\n",
    "<br>\n",
    "\n",
    "<code style=\"color: white; background-color: black;\">Example - 1</code> &nbsp;&nbsp;<span style=\"color: #2fbd0b;\">Using the <code style=\"background-color: yellow;\">hstack()</code> function to join elements of two <span style=\"color: red;\"><strong>1D</strong></span> arrays horizontally (along the <strong>2nd axis</strong>)</span>"
   ]
  },
  {
   "cell_type": "code",
   "execution_count": 11,
   "id": "376a53fb-000b-4bd5-b97e-44885951a79c",
   "metadata": {},
   "outputs": [
    {
     "name": "stdout",
     "output_type": "stream",
     "text": [
      "[1 2 3 4 5]\n",
      "(5,)\n"
     ]
    }
   ],
   "source": [
    "\n",
    "a = np.array([1, 2])                   # 1D array     ======>    (2, )\n",
    "b = np.array([3, 4, 5])                # 1D array     ======>    (3, )\n",
    "\n",
    "c = np.hstack((a, b))                  # 1D array     ======>    (5, )\n",
    "print(c)\n",
    "\n",
    "print(c.shape)\n"
   ]
  },
  {
   "cell_type": "markdown",
   "id": "4ff20127-1311-43be-825a-40a74f1c67c0",
   "metadata": {},
   "source": [
    "<div style=\"margin-left: 160px;\">\n",
    "\n",
    "![](../media/numpy_64.PNG)\n",
    "\n",
    "</div>\n",
    "\n",
    "<br>\n",
    "\n",
    "<strong>Note</strong> that for 1D arrays, the input arrays <u>can have different lengths</u> as shown in the above example.\n",
    "\n",
    "<br>\n",
    "\n",
    "<code style=\"color: white; background-color: black;\">Example - 2</code> &nbsp;&nbsp;<span style=\"color: #2fbd0b;\">Using the <code style=\"background-color: yellow;\">hstack()</code> function to join elements of two <span style=\"color: red;\"><strong>2D</strong></span> arrays horizontally (along the <strong>2nd axis</strong>)</span>"
   ]
  },
  {
   "cell_type": "code",
   "execution_count": 12,
   "id": "76341e9f-7675-4300-a118-89f1b703fe1c",
   "metadata": {},
   "outputs": [
    {
     "name": "stdout",
     "output_type": "stream",
     "text": [
      "[[1 2 5 6]\n",
      " [3 4 7 8]]\n",
      "(2, 4)\n"
     ]
    }
   ],
   "source": [
    "\n",
    "a = np.array([\n",
    "    [1, 2],\n",
    "    [3, 4]\n",
    "])                                     # 2D array     ======>    (2, 2)     ======>    2 rows, 2 columns\n",
    "\n",
    "b = np.array([\n",
    "    [5, 6],\n",
    "    [7, 8]\n",
    "])                                     # 2D array     ======>    (2, 2)     ======>    2 rows, 2 columns\n",
    "\n",
    "c = np.hstack((a, b))\n",
    "print(c)                               # 2D array     ======>    (2, 4)     ======>    2 rows, 4 columns\n",
    "\n",
    "print(c.shape)\n"
   ]
  },
  {
   "cell_type": "markdown",
   "id": "1eaf1da5-5188-4a77-b5ab-509814cdf838",
   "metadata": {},
   "source": [
    "<div style=\"margin-left: 100px;\">\n",
    "\n",
    "![](../media/numpy_65.PNG)\n",
    "\n",
    "</div>\n",
    "\n",
    "<br>\n",
    "\n",
    "<code style=\"color: white; background-color: black;\">Example - 3</code> &nbsp;&nbsp;<span style=\"color: #2fbd0b;\">Using the <code style=\"background-color: yellow;\">hstack()</code> function to join elements of two <span style=\"color: red;\"><strong>3D</strong></span> arrays horizontally (along the <strong>2nd axis</strong>)</span>"
   ]
  },
  {
   "cell_type": "code",
   "execution_count": 13,
   "id": "870db49f-2cc4-441a-9d1a-38221c036a0f",
   "metadata": {},
   "outputs": [
    {
     "name": "stdout",
     "output_type": "stream",
     "text": [
      "[[[ 1  2]\n",
      "  [ 3  4]\n",
      "  [-1 -2]\n",
      "  [-3 -4]]\n",
      "\n",
      " [[ 5  6]\n",
      "  [ 7  8]\n",
      "  [-5 -6]\n",
      "  [-7 -8]]]\n",
      "(2, 4, 2)\n"
     ]
    }
   ],
   "source": [
    "\n",
    "a = np.array([ \n",
    "    [[1, 2], [3, 4]], \n",
    "    [[5, 6], [7, 8]] \n",
    "])                                     # 3D array     ======>    (2, 2, 2)     ======>    2 layers, 2 rows, 2 columns\n",
    "\n",
    "\n",
    "b = np.array([ \n",
    "    [[-1, -2], [-3, -4]], \n",
    "    [[-5, -6], [-7, -8]] \n",
    "])                                     # 3D array     ======>    (2, 2, 2)     ======>    2 layers, 2 rows, 2 columns\n",
    "\n",
    "c = np.hstack((a, b))\n",
    "print(c)                               # 3D array     ======>    (2, 4, 2)     ======>    2 layers, 4 rows, 2 columns\n",
    "\n",
    "print(c.shape)\n"
   ]
  },
  {
   "cell_type": "markdown",
   "id": "4d210875-657e-4094-86f6-166c0127eae9",
   "metadata": {},
   "source": [
    "<div style=\"margin-left: 100px;\">\n",
    "\n",
    "![](../media/numpy_66.PNG)\n",
    "\n",
    "</div>"
   ]
  },
  {
   "cell_type": "markdown",
   "id": "96438980-ebcd-4fdc-bcb8-a2641cfa440a",
   "metadata": {
    "jp-MarkdownHeadingCollapsed": true
   },
   "source": [
    "<br>\n",
    "\n",
    "### <div style=\"color: white; background-color: #af87ff; padding: 5px;\"> <code style=\"font-size: 1.2rem; background-color: #af87ff; color: white;\"><strong>numpy.dstack()</strong></code> </div>\n"
   ]
  },
  {
   "cell_type": "markdown",
   "id": "ee3dacde-9c50-4477-a4f0-d4a1df057d0b",
   "metadata": {},
   "source": [
    "<code style=\"background-color: yellow; padding: 8px;\">np.<span style=\"color: red;\"><span style=\"font-size: 1rem;\"><strong>hstack</strong></span><span style=\"font-size: 1.1rem;\">(</span><span style=\"color: black; background-color: white;\">(a1,a2,...)</span><span style=\"font-size: 1.1rem;\">)</span></span></span></code> &nbsp;&nbsp;&nbsp;==>&nbsp;&nbsp;&nbsp; stacks (or joins) one or more arrays into a **single array** <span style=\"color: blue;\">along the <u>3rd axis</u> ( depth wise &nbsp;&nbsp;====>&nbsp;&nbsp; <code>axis = 0</code> )</span>. <br>\n",
    "\n",
    "<br>\n",
    "\n",
    "<code style=\"color: white; background-color: black;\">Example - 1</code> &nbsp;&nbsp;<span style=\"color: #2fbd0b;\">Using the <code style=\"background-color: yellow;\">hstack()</code> function to join elements of two <span style=\"color: red;\"><strong>1D</strong></span> arrays along the <strong>3rd axis<strong></span>\n"
   ]
  },
  {
   "cell_type": "code",
   "execution_count": 15,
   "id": "46e7f82d-6f51-47aa-9396-551e9b1cdafe",
   "metadata": {},
   "outputs": [
    {
     "name": "stdout",
     "output_type": "stream",
     "text": [
      "[[[1 4]\n",
      "  [2 5]\n",
      "  [3 6]]]\n",
      "(1, 3, 2)\n"
     ]
    }
   ],
   "source": [
    "\n",
    "a = np.array((1,2,3))                   # 1D array\n",
    "b = np.array((4,5,6))                   # 1D array\n",
    "c = np.dstack((a,b))                    # 3D array\n",
    "\n",
    "print(c)\n",
    "print(c.shape)                          # (1, 3, 2)    ======>    1 layer, 3 rows, 2 columns\n"
   ]
  },
  {
   "cell_type": "markdown",
   "id": "7210df01-ef91-4201-a82b-60b0277ec594",
   "metadata": {},
   "source": [
    "<div style=\"margin-left: 120px;\">\n",
    "\n",
    "![](../media/numpy_67.PNG)\n",
    "\n",
    "</div>\n",
    "\n",
    "<br>\n",
    "\n",
    "<code style=\"color: white; background-color: black;\">Example - 2A</code> &nbsp;&nbsp;<span style=\"color: #2fbd0b;\">Using the <code style=\"background-color: yellow;\">dstack()</code> function to join elements of two <span style=\"color: red;\"><strong>2D</strong></span> arrays along the <strong>3rd axis</strong></span>\n"
   ]
  },
  {
   "cell_type": "code",
   "execution_count": 3,
   "id": "b6a22411-f3a1-4b89-bcf5-931eb2667f21",
   "metadata": {},
   "outputs": [
    {
     "name": "stdout",
     "output_type": "stream",
     "text": [
      "[[[1 4]]\n",
      "\n",
      " [[2 5]]\n",
      "\n",
      " [[3 6]]]\n",
      "(3, 1, 2)\n"
     ]
    }
   ],
   "source": [
    "\n",
    "a = np.array([[1],[2],[3]])             # 2D array   ====>   shape = (3, 1)\n",
    "b = np.array([[4],[5],[6]])             # 2D array   ====>   shape = (3, 1)\n",
    "c = np.dstack((a,b))                    # 3D array   ====>   shape = (3, 1, 2)\n",
    "print(c)\n",
    "print(c.shape)\n"
   ]
  },
  {
   "cell_type": "markdown",
   "id": "8964011d-fed1-469b-a25d-13b0f8547d04",
   "metadata": {},
   "source": [
    "<div style=\"margin-left: 110px;\">\n",
    "\n",
    "![](../media/numpy_68.PNG)\n",
    "\n",
    "</div>\n",
    "\n",
    "<br>\n",
    "\n",
    "<code style=\"color: white; background-color: black;\">Example - 2B</code> &nbsp;&nbsp;<span style=\"color: #2fbd0b;\">Using the <code style=\"background-color: yellow;\">dstack()</code> function to join elements of two <span style=\"color: red;\"><strong>2D</strong></span> arrays along the <strong>3rd axis</strong></span>\n"
   ]
  },
  {
   "cell_type": "code",
   "execution_count": 4,
   "id": "97eba437-0701-472d-b3a4-414e8106d891",
   "metadata": {},
   "outputs": [
    {
     "name": "stdout",
     "output_type": "stream",
     "text": [
      "[[[1 5]\n",
      "  [2 6]]\n",
      "\n",
      " [[3 7]\n",
      "  [4 8]]]\n",
      "(2, 2, 2)\n"
     ]
    }
   ],
   "source": [
    "\n",
    "\n",
    "a = np.array([\n",
    "    [1, 2],\n",
    "    [3, 4]\n",
    "])                                 # 2D\n",
    "\n",
    "\n",
    "b = np.array([\n",
    "    [5, 6],\n",
    "    [7, 8]\n",
    "])                                 # 2D\n",
    "\n",
    "c = np.dstack((a,b))\n",
    "\n",
    "print(c)\n",
    "print(c.shape)\n"
   ]
  },
  {
   "cell_type": "markdown",
   "id": "ba2039ef-46d9-4fdf-a8b6-b3c9c1f37426",
   "metadata": {},
   "source": [
    "<div style=\"margin-left: 130px;\">\n",
    "\n",
    "![](../media/numpy_69.PNG)\n",
    "\n",
    "</div>\n",
    "\n",
    "<br>\n",
    "\n",
    "<code style=\"color: white; background-color: black;\">Example - 3</code> &nbsp;&nbsp;<span style=\"color: #2fbd0b;\">Using the <code style=\"background-color: yellow;\">dstack()</code> function to join elements of two <span style=\"color: red;\"><strong>3D</strong></span> arrays along the <strong>3rd axis</strong></span>\n"
   ]
  },
  {
   "cell_type": "code",
   "execution_count": 7,
   "id": "1c0abded-ae76-4362-86c4-545a3d862d8a",
   "metadata": {},
   "outputs": [
    {
     "name": "stdout",
     "output_type": "stream",
     "text": [
      "[[[ 1  2 -1 -2]\n",
      "  [ 3  4 -3 -4]]\n",
      "\n",
      " [[ 5  6 -5 -6]\n",
      "  [ 7  8 -7 -8]]]\n",
      "(2, 2, 4)\n"
     ]
    }
   ],
   "source": [
    "\n",
    "a = np.array([ \n",
    "    [[1, 2], [3, 4]], \n",
    "    [[5, 6], [7, 8]] \n",
    "])                                     # 3D array\n",
    "\n",
    "\n",
    "b = np.array([ \n",
    "    [[-1, -2], [-3, -4]], \n",
    "    [[-5, -6], [-7, -8]] \n",
    "])                                     # 3D array\n",
    "\n",
    "c = np.dstack((a,b))\n",
    "\n",
    "print(c)\n",
    "print(c.shape)\n"
   ]
  },
  {
   "cell_type": "markdown",
   "id": "f0e1d5dd-205e-4117-8df2-3bd05484a0c1",
   "metadata": {},
   "source": [
    "<div style=\"margin-left: 110px;\">\n",
    "\n",
    "![](../media/numpy_70.PNG)\n",
    "\n",
    "</div>"
   ]
  },
  {
   "cell_type": "markdown",
   "id": "bd212156-0031-45e0-9511-24ba4866069d",
   "metadata": {
    "jp-MarkdownHeadingCollapsed": true
   },
   "source": [
    "<br>\n",
    "\n",
    "### <div style=\"color: white; background-color: #af87ff; padding: 5px;\"> <code style=\"font-size: 1.2rem; background-color: #af87ff; color: white;\"><strong>numpy.column_stack()</strong></code> </div>\n"
   ]
  },
  {
   "cell_type": "markdown",
   "id": "4e1491e5-d312-49ca-b55d-017f7062a024",
   "metadata": {},
   "source": [
    "<code style=\"background-color: yellow;\">numpy.<span style=\"color: red;\"><span style=\"font-size: 1rem;\"><strong>column_stack(</strong></span></span>tup<span style=\"font-size: 1rem; color: red;\"><strong>)</strong></span></code>   &nbsp;&nbsp;&nbsp;====>&nbsp;&nbsp;   where tup = a sequence (tuple) of 1D or 2D arrays to be stacked as columns\n",
    "\n",
    "<u>Key Points</u>\n",
    "\n",
    "&nbsp;&nbsp;&nbsp;&nbsp;<span style=\"font-size: 0.7rem; color: red;\">■</span>&nbsp;&nbsp;&nbsp;If the input arrays are 1D, they are stacked as columns into a 2D array. &nbsp;1-D arrays are turned into 2-D columns first  <br>\n",
    "&nbsp;&nbsp;&nbsp;&nbsp;<span style=\"font-size: 0.7rem; color: red;\">■</span>&nbsp;&nbsp;&nbsp;If the input arrays are already 2D, they are concatenated along the second axis (i.e., axis=1) like hstack  <br>\n",
    "&nbsp;&nbsp;&nbsp;&nbsp;<span style=\"font-size: 0.7rem; color: red;\">■</span>&nbsp;&nbsp;&nbsp;**The resulting array will always be 2D**\n",
    "\n",
    "<br>\n",
    "\n",
    "<code style=\"color: white; background-color: black;\">Example - 1</code> &nbsp;&nbsp;<span style=\"color: #2fbd0b;\">Using the <code style=\"background-color: yellow;\">column_stack()</code> function to join two <span style=\"color: red;\"><strong>1D</strong></span> arrays along<strong> axis = 1</strong></span>\n"
   ]
  },
  {
   "cell_type": "code",
   "execution_count": 6,
   "id": "7ca572d1-8edd-4ec6-856c-94172f653a6c",
   "metadata": {},
   "outputs": [
    {
     "name": "stdout",
     "output_type": "stream",
     "text": [
      "[[1 4]\n",
      " [2 5]\n",
      " [3 6]]\n"
     ]
    },
    {
     "data": {
      "text/plain": [
       "(3, 2)"
      ]
     },
     "execution_count": 6,
     "metadata": {},
     "output_type": "execute_result"
    }
   ],
   "source": [
    "\n",
    "a = np.array([1, 2, 3])\n",
    "b = np.array([4, 5, 6])\n",
    "\n",
    "# Stack the 1D arrays as columns\n",
    "result = np.column_stack((a, b))\n",
    "\n",
    "print(result)\n",
    "result.shape\n"
   ]
  },
  {
   "cell_type": "markdown",
   "id": "61d2787c-94a6-4387-b8f7-b153f4eb72d7",
   "metadata": {},
   "source": [
    "<div style=\"margin-left: 110px;\">\n",
    "\n",
    "![](../media/numpy_71.PNG)\n",
    "\n",
    "</div>\n",
    "\n",
    "<br>\n",
    "\n",
    "<code style=\"color: white; background-color: black;\">Example - 2</code> &nbsp;&nbsp;<span style=\"color: #2fbd0b;\">Using the <code style=\"background-color: yellow;\">column_stack()</code> function to join two <span style=\"color: red;\"><strong>2D</strong></span> arrays along<strong> axis = 1</strong></span>\n"
   ]
  },
  {
   "cell_type": "code",
   "execution_count": 7,
   "id": "c1f2ccc4-c0c1-4af3-9d4d-eb4903be4a13",
   "metadata": {},
   "outputs": [
    {
     "name": "stdout",
     "output_type": "stream",
     "text": [
      "[[1 2 5 6]\n",
      " [3 4 7 8]]\n",
      "(2, 4)\n"
     ]
    }
   ],
   "source": [
    "\n",
    "a = np.array([\n",
    "    [1, 2],\n",
    "    [3, 4]\n",
    "])\n",
    "\n",
    "b = np.array([\n",
    "    [5, 6],\n",
    "    [7, 8]\n",
    "])\n",
    "\n",
    "c = np.column_stack((a, b))\n",
    "print(c)\n",
    "print(c.shape)\n"
   ]
  },
  {
   "cell_type": "markdown",
   "id": "30190c78-9b40-42e6-96a1-8204123cf261",
   "metadata": {},
   "source": [
    "<div style=\"margin-left: 110px;\">\n",
    "\n",
    "![](../media/numpy_72.PNG)\n",
    "\n",
    "</div>\n"
   ]
  },
  {
   "cell_type": "markdown",
   "id": "9b7c4451-4460-48e7-a526-33455e99bfdf",
   "metadata": {
    "jp-MarkdownHeadingCollapsed": true
   },
   "source": [
    "<br>\n",
    "\n",
    "### <div style=\"color: white; background-color: #af87ff; padding: 5px;\"> <code style=\"font-size: 1.2rem; background-color: #af87ff; color: white;\"><strong>numpy.split()</strong></code> </div>\n"
   ]
  },
  {
   "cell_type": "markdown",
   "id": "adc61403-3517-447e-b69b-1a3e12f49c44",
   "metadata": {},
   "source": [
    "\n",
    "<code style=\"background-color: yellow; padding: 6px;\">numpy.<span style=\"color: red;\"><span style=\"font-size: 1rem;\"><strong>split(</strong></span><span style=\"color: black;\">arr</span>, <span style=\"color: black;\">indices_or_sections</span>, <span style=\"color: black;\">axis</span><span style=\"color: #9b96a1;\">=0</span><span style=\"font-size: 1rem;\"><strong>)</strong></span></span></code> &nbsp;&nbsp;&nbsp;&nbsp;====>&nbsp;&nbsp;&nbsp;&nbsp;splits an array into <strong>multiple sub-arrays</strong> as views.\n",
    "\n",
    "<div style=\"margin-left: 387px;\">\n",
    "    \n",
    "====>&nbsp;&nbsp;&nbsp;&nbsp;where, &nbsp;<code>arr</code> is the array to be split into subarrays, and <br>\n",
    "\n",
    "<code style=\"margin-left: 111px;\">indices_or_sections</code> can be an integer or a 1-D array of sorted integers\n",
    "\n",
    "<div style=\"margin-left: 140px;\">\n",
    "    \n",
    "- <u><span style=\"color: blue;\">If it is an <strong>integer</strong></span></u>, the function splits the input array into N equal arrays along the axis. If the split is not possible, the function will raise an error.\n",
    "\n",
    "- <u><span style=\"color: blue;\">If indices_or_sections is a <strong>1D array</strong> of sorted integers</span></u>, the indices indicate where along the axis the function splits the array.\n",
    "</div>\n",
    "\n",
    "</div>\n",
    "\n",
    "<br>\n",
    "\n",
    "<span style=\"font-size: 1.5rem;\">⭐&nbsp;</span>The following picture shows how the &nbsp;<code style=\"background-color: yellow;\">split()</code>&nbsp; function splits the array with indices 2, 3, and 4. &nbsp;It results in 4 arrays.\n",
    "\n",
    "<div style=\"margin-left: 130px;\">\n",
    "\n",
    "![](../media/numpy_split.PNG)\n",
    "\n",
    "</div>\n",
    "\n",
    "<br>\n",
    "\n",
    "<code style=\"color: white; background-color: black;\">Example - 1</code> &nbsp;&nbsp;<span style=\"color: #2fbd0b;\">Using the &nbsp;<code style=\"background-color: yellow;\">split()</code>&nbsp; function to split a <span style=\"color: red;\">**1D**</span> array</span>"
   ]
  },
  {
   "cell_type": "code",
   "execution_count": 69,
   "id": "2aa30cb5-17b4-4a69-93a3-a6ee53fe7ad5",
   "metadata": {},
   "outputs": [
    {
     "name": "stdout",
     "output_type": "stream",
     "text": [
      "[1 2 3 4 5 6]\n",
      "[array([1, 2]), array([3, 4]), array([5, 6])]\n",
      "[1 2]\n",
      "[3 4]\n",
      "[5 6]\n"
     ]
    }
   ],
   "source": [
    "\n",
    "a = np.arange(1,7)                              # [1,  2,  3,  4,  5,  6]\n",
    "\n",
    "results = np.split(a,3)                         # It is possible to split the array \"a\" into 3 equal parts, hence no error\n",
    "\n",
    "\n",
    "\n",
    "print(a)                                        # OUTPUT: [1 2 3 4 5 6]\n",
    "print(results)                                  # OUTPUT: [array([1, 2]), array([3, 4]), array([5, 6])]\n",
    "for row in results:\n",
    "    print(row)                                  # OUTPUT: [1 2]    <-----    1D array    =====>    (2,)\n",
    "                                                #         [3 4]    <-----    1D array    =====>    (2,)\n",
    "                                                #         [5 6]    <-----    1D array    =====>    (2,)\n"
   ]
  },
  {
   "cell_type": "code",
   "execution_count": 5,
   "id": "561cbe09-180d-4464-96ff-7af3dedd05ef",
   "metadata": {},
   "outputs": [
    {
     "ename": "ValueError",
     "evalue": "array split does not result in an equal division",
     "output_type": "error",
     "traceback": [
      "\u001b[1;31m---------------------------------------------------------------------------\u001b[0m",
      "\u001b[1;31mValueError\u001b[0m                                Traceback (most recent call last)",
      "Cell \u001b[1;32mIn[5], line 3\u001b[0m\n\u001b[0;32m      1\u001b[0m a \u001b[38;5;241m=\u001b[39m np\u001b[38;5;241m.\u001b[39marange(\u001b[38;5;241m1\u001b[39m,\u001b[38;5;241m7\u001b[39m)                             \u001b[38;5;66;03m# [1,  2,  3,  4,  5,  6]\u001b[39;00m\n\u001b[1;32m----> 3\u001b[0m results \u001b[38;5;241m=\u001b[39m \u001b[43mnp\u001b[49m\u001b[38;5;241;43m.\u001b[39;49m\u001b[43msplit\u001b[49m\u001b[43m(\u001b[49m\u001b[43ma\u001b[49m\u001b[43m,\u001b[49m\u001b[38;5;241;43m4\u001b[39;49m\u001b[43m)\u001b[49m                        \u001b[38;5;66;03m# It is not  possible to split the array \"a\" into 4 equal parts, hence the error\u001b[39;00m\n",
      "File \u001b[1;32m<__array_function__ internals>:180\u001b[0m, in \u001b[0;36msplit\u001b[1;34m(*args, **kwargs)\u001b[0m\n",
      "File \u001b[1;32m~\\AppData\\Local\\Programs\\Python\\Python311\\Lib\\site-packages\\numpy\\lib\\shape_base.py:872\u001b[0m, in \u001b[0;36msplit\u001b[1;34m(ary, indices_or_sections, axis)\u001b[0m\n\u001b[0;32m    870\u001b[0m     N \u001b[38;5;241m=\u001b[39m ary\u001b[38;5;241m.\u001b[39mshape[axis]\n\u001b[0;32m    871\u001b[0m     \u001b[38;5;28;01mif\u001b[39;00m N \u001b[38;5;241m%\u001b[39m sections:\n\u001b[1;32m--> 872\u001b[0m         \u001b[38;5;28;01mraise\u001b[39;00m \u001b[38;5;167;01mValueError\u001b[39;00m(\n\u001b[0;32m    873\u001b[0m             \u001b[38;5;124m'\u001b[39m\u001b[38;5;124marray split does not result in an equal division\u001b[39m\u001b[38;5;124m'\u001b[39m) \u001b[38;5;28;01mfrom\u001b[39;00m \u001b[38;5;28;01mNone\u001b[39;00m\n\u001b[0;32m    874\u001b[0m \u001b[38;5;28;01mreturn\u001b[39;00m array_split(ary, indices_or_sections, axis)\n",
      "\u001b[1;31mValueError\u001b[0m: array split does not result in an equal division"
     ]
    }
   ],
   "source": [
    "\n",
    "a = np.arange(1,7)                             # [1,  2,  3,  4,  5,  6]\n",
    "\n",
    "results = np.split(a,4)                        # It is not  possible to split the array \"a\" into 4 equal parts, hence the error\n"
   ]
  },
  {
   "cell_type": "markdown",
   "id": "ea776b83-57d7-426f-8a9d-08126d43fa7c",
   "metadata": {},
   "source": [
    "<br>\n",
    "\n",
    "<span style=\"color: #a245ff;\">In this example, the array has 6 elements therefore it cannot be split into 4 arrays of equal size. &nbsp;If you want to have a more flexible split, you can use the <code style=\"background-color: yellow;\">array_split()</code> function which we will see later.</span>\n",
    "\n",
    "<br>\n",
    "\n",
    "<code style=\"color: white; background-color: black;\">Example - 2</code> &nbsp;&nbsp;<span style=\"color: #2fbd0b;\">Using the &nbsp;<code style=\"background-color: yellow;\">split()</code>&nbsp; function to split a <span style=\"color: red;\">**2D**</span> array</span>"
   ]
  },
  {
   "cell_type": "code",
   "execution_count": 71,
   "id": "ff54413e-89c1-491e-939b-227516972380",
   "metadata": {},
   "outputs": [
    {
     "name": "stdout",
     "output_type": "stream",
     "text": [
      "[[1 2]\n",
      " [3 4]]\n",
      "[[5 6]\n",
      " [7 8]]\n"
     ]
    }
   ],
   "source": [
    "\n",
    "a = np.array([[1,2],\n",
    "              [3,4],\n",
    "              [5,6],\n",
    "              [7,8]]\n",
    "            )\n",
    "results = np.split(a,2)\n",
    "\n",
    "for row in results:                            \n",
    "    print(row)                                 # OUTPUT:  [ \n",
    "                                               #            [1 2]\n",
    "                                               #            [3 4]\n",
    "                                               #          ]          <-----    2D array     =====>    results[0]    =====>    (2,2)\n",
    "\n",
    "                                               #          [ \n",
    "                                               #            [5 6]\n",
    "                                               #            [7 8]\n",
    "                                               #          ]          <-----    2D array     =====>    results[1]    =====>    (2,2)\n"
   ]
  },
  {
   "cell_type": "code",
   "execution_count": 51,
   "id": "26ae4a18-1c55-4d8f-b109-d333f3e253fe",
   "metadata": {},
   "outputs": [
    {
     "name": "stdout",
     "output_type": "stream",
     "text": [
      "[[1 2]\n",
      " [3 4]]\n"
     ]
    }
   ],
   "source": [
    "\n",
    "print(results[0])\n"
   ]
  },
  {
   "cell_type": "code",
   "execution_count": 53,
   "id": "f600a296-3188-48db-a8df-fb838f91689c",
   "metadata": {},
   "outputs": [
    {
     "name": "stdout",
     "output_type": "stream",
     "text": [
      "[[5 6]\n",
      " [7 8]]\n"
     ]
    }
   ],
   "source": [
    "\n",
    "print(results[1])\n"
   ]
  },
  {
   "cell_type": "markdown",
   "id": "864f9d2e-6e5f-490c-b336-084844299938",
   "metadata": {},
   "source": [
    "<br>\n",
    "\n",
    "<code style=\"color: white; background-color: black;\">Example - 3</code> &nbsp;&nbsp;<span style=\"color: #2fbd0b;\">Using the &nbsp;<code style=\"background-color: yellow;\">split()</code>&nbsp; function using <span style=\"color: red;\">indices</span></span>\n"
   ]
  },
  {
   "cell_type": "code",
   "execution_count": 12,
   "id": "1c0cf7b4-93e5-43d2-adfe-7b2436fd1de0",
   "metadata": {},
   "outputs": [
    {
     "name": "stdout",
     "output_type": "stream",
     "text": [
      "[10 20]\n",
      "[30 40 50 60]\n"
     ]
    }
   ],
   "source": [
    "\n",
    "a = np.arange(10,70,10)                        # [10,  20,  30,  40,  50,  60]\n",
    "results = np.split(a, [2])\n",
    "\n",
    "for row in results:\n",
    "    print(row)\n"
   ]
  },
  {
   "cell_type": "code",
   "execution_count": 74,
   "id": "961f3ea3-e1be-4bf7-b2e9-e45e9b069bc5",
   "metadata": {},
   "outputs": [
    {
     "name": "stdout",
     "output_type": "stream",
     "text": [
      "[10 20]\n",
      "[30]\n",
      "[40 50 60]\n"
     ]
    }
   ],
   "source": [
    "\n",
    "a = np.arange(10,70,10)                        # [10,  20,  30,  40,  50,  60]\n",
    "results = np.split(a, [2, 3])\n",
    "\n",
    "for row in results:\n",
    "    print(row)\n"
   ]
  },
  {
   "cell_type": "code",
   "execution_count": 73,
   "id": "8fbe3b15-6aa3-4216-bc06-bd36c93daefc",
   "metadata": {},
   "outputs": [
    {
     "name": "stdout",
     "output_type": "stream",
     "text": [
      "[10 20]\n",
      "[30]\n",
      "[40]\n",
      "[50 60]\n"
     ]
    }
   ],
   "source": [
    "\n",
    "a = np.arange(10,70,10)                        # [10,  20,  30,  40,  50,  60]\n",
    "results = np.split(a, [2, 3, 4])\n",
    "\n",
    "for row in results:\n",
    "    print(row)\n"
   ]
  },
  {
   "cell_type": "code",
   "execution_count": 76,
   "id": "fe3d8ad2-0460-4b74-9d48-2de56181305b",
   "metadata": {},
   "outputs": [
    {
     "data": {
      "text/plain": [
       "[array([0., 1., 2.]),\n",
       " array([3., 4.]),\n",
       " array([5.]),\n",
       " array([6., 7.]),\n",
       " array([], dtype=float64)]"
      ]
     },
     "execution_count": 76,
     "metadata": {},
     "output_type": "execute_result"
    }
   ],
   "source": [
    "\n",
    "x = np.arange(8.0)                             # [0.,  1.,  2.,  3.,  4.,  5.,  6.,  7.]\n",
    "np.split(x, [3, 5, 6, 10])\n"
   ]
  },
  {
   "cell_type": "markdown",
   "id": "3b2059c0-7d59-4a0f-9873-79e820a73f5b",
   "metadata": {},
   "source": [
    "<br>\n",
    "\n",
    "<span style=\"color: #06fff0; font-size: 0.7rem;\">■■■■■■■■■■■■■■■■■■■■■■■■■■■■■■■■■■■■■■■■■■■■■■■■■■■■■■■■■■■■■■■■■■■■■■■■■■■■■■■■■■■■■■■■■■■■■■■■■■■■■■■■■■■■■■■</span>\n",
    "\n",
    "<br>\n",
    "\n",
    "<div style=\"font-size: 1rem; background-color: #f1c40f; color: black;\"><code style=\"font-size: 1rem; background-color: #f1c40f; color: black;\"><span style=\"color: white;\">numpy.</span><span style=\"color: black;\">array_split()</span></code></div>\n",
    "\n",
    "<br>\n",
    "\n",
    "=====> &nbsp;&nbsp;&nbsp;&nbsp;allows indices_or_sections to be an integer that does not equally divide the axis. <br>\n",
    "=====> &nbsp;&nbsp;&nbsp;&nbsp;For an array of length <code>l</code> that should be split into <code>n</code> sections, it returns <code>l % n</code> sub-arrays of size <code>l/n + 1</code> and the rest of size <code>l/n</code>.\n",
    "\n",
    "<br>\n",
    "\n",
    "<code style=\"color: white; background-color: black;\">Example - 1</code> &nbsp;&nbsp;<span style=\"color: #2fbd0b;\">Using the &nbsp;<code style=\"background-color: yellow;\">array_split()</code>&nbsp; function to split a <span style=\"color: red;\">**1D**</span> array</span>"
   ]
  },
  {
   "cell_type": "code",
   "execution_count": 68,
   "id": "722769e8-61db-4298-b1af-73d62a181dde",
   "metadata": {},
   "outputs": [
    {
     "name": "stdout",
     "output_type": "stream",
     "text": [
      "[1 2]\n",
      "[3 4]\n",
      "[5]\n",
      "[6]\n"
     ]
    }
   ],
   "source": [
    "\n",
    "a = np.arange(1,7)                             # [1,  2,  3,  4,  5,  6]\n",
    "# results = np.split(a,4)                      # It is not  possible to split the array \"a\" into 4 equal parts, hence it will throw error\n",
    "results = np.array_split(a,4)                  # returns (6%4) number of subarrays of size floor(6/(4+1)) and the remaining of size floor(6/4)\n",
    "\n",
    "for row in results:                            # OUTPUT: [1 2]    <-----    1D array    =====>    (2,)\n",
    "    print(row)                                 #         [3 4]    <-----    1D array    =====>    (2,)\n",
    "                                               #         [5]      <-----    1D array    =====>    (1,)\n",
    "                                               #         [6]      <-----    1D array    =====>    (1,)\n"
   ]
  },
  {
   "cell_type": "markdown",
   "id": "5d249ae6-bf49-4c3a-a189-c9edd4e40bc2",
   "metadata": {
    "jp-MarkdownHeadingCollapsed": true
   },
   "source": [
    "<br>\n",
    "\n",
    "### <div style=\"color: white; background-color: #af87ff; padding: 5px;\"> <code style=\"font-size: 1.2rem; background-color: #af87ff; color: white;\"><strong>numpy.vsplit()</strong></code> </div>\n"
   ]
  },
  {
   "cell_type": "markdown",
   "id": "d23dc572-aeb3-4452-be04-4418ce94d7ec",
   "metadata": {},
   "source": [
    "=====> &nbsp;&nbsp;&nbsp;&nbsp;<code style=\"background-color: yellow;\">vsplit()</code> is equivalent to split with <code>axis=1</code><br>\n",
    "=====> &nbsp;&nbsp;&nbsp;&nbsp;the array is always split along the <strong>first axis</strong><br>\n",
    "=====> &nbsp;&nbsp;&nbsp;&nbsp;<code style=\"background-color: yellow;\">vsplit()</code> only works on arrays of 2 or more dimensions\n",
    "\n",
    "<br>\n",
    "\n",
    "<code style=\"color: white; background-color: black;\">Example - 1</code> &nbsp;&nbsp;<span style=\"color: #2fbd0b;\">Using the &nbsp;<code style=\"background-color: yellow;\">vsplit()</code>&nbsp; function to split a <span style=\"color: red;\">**1D**</span> array</span>"
   ]
  },
  {
   "cell_type": "code",
   "execution_count": 21,
   "id": "ce52eb52-740b-4470-b80e-da3baee42ed1",
   "metadata": {},
   "outputs": [
    {
     "ename": "ValueError",
     "evalue": "vsplit only works on arrays of 2 or more dimensions",
     "output_type": "error",
     "traceback": [
      "\u001b[1;31m---------------------------------------------------------------------------\u001b[0m",
      "\u001b[1;31mValueError\u001b[0m                                Traceback (most recent call last)",
      "Cell \u001b[1;32mIn[21], line 2\u001b[0m\n\u001b[0;32m      1\u001b[0m a \u001b[38;5;241m=\u001b[39m np\u001b[38;5;241m.\u001b[39marange(\u001b[38;5;241m1\u001b[39m,\u001b[38;5;241m7\u001b[39m)                             \u001b[38;5;66;03m# [1 2 3 4 5 6]\u001b[39;00m\n\u001b[1;32m----> 2\u001b[0m results \u001b[38;5;241m=\u001b[39m \u001b[43mnp\u001b[49m\u001b[38;5;241;43m.\u001b[39;49m\u001b[43mvsplit\u001b[49m\u001b[43m(\u001b[49m\u001b[43ma\u001b[49m\u001b[43m,\u001b[49m\u001b[38;5;241;43m3\u001b[39;49m\u001b[43m)\u001b[49m                       \u001b[38;5;66;03m# It is possible to split the array \"a\" into 3 equal parts, hence no error\u001b[39;00m\n",
      "File \u001b[1;32m<__array_function__ internals>:180\u001b[0m, in \u001b[0;36mvsplit\u001b[1;34m(*args, **kwargs)\u001b[0m\n",
      "File \u001b[1;32m~\\AppData\\Local\\Programs\\Python\\Python311\\Lib\\site-packages\\numpy\\lib\\shape_base.py:996\u001b[0m, in \u001b[0;36mvsplit\u001b[1;34m(ary, indices_or_sections)\u001b[0m\n\u001b[0;32m    953\u001b[0m \u001b[38;5;250m\u001b[39m\u001b[38;5;124;03m\"\"\"\u001b[39;00m\n\u001b[0;32m    954\u001b[0m \u001b[38;5;124;03mSplit an array into multiple sub-arrays vertically (row-wise).\u001b[39;00m\n\u001b[0;32m    955\u001b[0m \n\u001b[1;32m   (...)\u001b[0m\n\u001b[0;32m    993\u001b[0m \n\u001b[0;32m    994\u001b[0m \u001b[38;5;124;03m\"\"\"\u001b[39;00m\n\u001b[0;32m    995\u001b[0m \u001b[38;5;28;01mif\u001b[39;00m _nx\u001b[38;5;241m.\u001b[39mndim(ary) \u001b[38;5;241m<\u001b[39m \u001b[38;5;241m2\u001b[39m:\n\u001b[1;32m--> 996\u001b[0m     \u001b[38;5;28;01mraise\u001b[39;00m \u001b[38;5;167;01mValueError\u001b[39;00m(\u001b[38;5;124m'\u001b[39m\u001b[38;5;124mvsplit only works on arrays of 2 or more dimensions\u001b[39m\u001b[38;5;124m'\u001b[39m)\n\u001b[0;32m    997\u001b[0m \u001b[38;5;28;01mreturn\u001b[39;00m split(ary, indices_or_sections, \u001b[38;5;241m0\u001b[39m)\n",
      "\u001b[1;31mValueError\u001b[0m: vsplit only works on arrays of 2 or more dimensions"
     ]
    }
   ],
   "source": [
    "\n",
    "a = np.arange(1,7)                             # [1 2 3 4 5 6]\n",
    "results = np.vsplit(a,3)                       # It is possible to split the array \"a\" into 3 equal parts, hence no error\n"
   ]
  },
  {
   "cell_type": "markdown",
   "id": "0020c60f-6cb8-401e-928b-8f477c1b8624",
   "metadata": {},
   "source": [
    "<br>\n",
    "\n",
    "<code style=\"color: white; background-color: black;\">Example - 2</code> &nbsp;&nbsp;<span style=\"color: #2fbd0b;\">Using the &nbsp;<code style=\"background-color: yellow;\">vsplit()</code>&nbsp; function to split a <span style=\"color: red;\">**2D**</span> array</span>"
   ]
  },
  {
   "cell_type": "code",
   "execution_count": 67,
   "id": "48c6d71d-a275-43cb-a68f-d314cf175031",
   "metadata": {},
   "outputs": [
    {
     "name": "stdout",
     "output_type": "stream",
     "text": [
      "[[1 2]\n",
      " [3 4]]\n",
      "[[5 6]\n",
      " [7 8]]\n"
     ]
    }
   ],
   "source": [
    "\n",
    "a = np.array([[1,2],\n",
    "              [3,4],\n",
    "              [5,6],\n",
    "              [7,8]]\n",
    "            )\n",
    "\n",
    "results = np.vsplit(a,2)\n",
    "\n",
    "for row in results:                            \n",
    "    print(row)                                 # OUTPUT:  [ \n",
    "                                               #            [1 2]\n",
    "                                               #            [3 4]\n",
    "                                               #          ]          <-----    2D array     =====>    results[0]    =====>    (2,2)\n",
    "\n",
    "                                               #          [ \n",
    "                                               #            [5 6]\n",
    "                                               #            [7 8]\n",
    "                                               #          ]          <-----    2D array     =====>    results[1]    =====>    (2,2)\n"
   ]
  },
  {
   "cell_type": "markdown",
   "id": "ed6de2fa-7520-443b-bdce-7f9def7da974",
   "metadata": {
    "jp-MarkdownHeadingCollapsed": true
   },
   "source": [
    "<br>\n",
    "\n",
    "### <div style=\"color: white; background-color: #af87ff; padding: 5px;\"> <code style=\"font-size: 1.2rem; background-color: #af87ff; color: white;\"><strong>numpy.hsplit()</strong></code> </div>\n"
   ]
  },
  {
   "cell_type": "markdown",
   "id": "49bd227c-7c03-48b4-925c-9a2411b6ed4c",
   "metadata": {},
   "source": [
    "=====> &nbsp;&nbsp;&nbsp;&nbsp;<code style=\"background-color: yellow;\">hsplit()</code> is equivalent to split with <code>axis=1</code><br>\n",
    "=====> &nbsp;&nbsp;&nbsp;&nbsp;the array is always split along the <strong>second axis</strong> except <span style=\"background-color: #b2fff0; padding: 5px;\">for 1-D arrays, where it is split at <code style=\"background-color: white;\">axis=0</code></span>\n",
    "\n",
    "<br>\n",
    "\n",
    "<code style=\"color: white; background-color: black;\">Example - 1</code> &nbsp;&nbsp;<span style=\"color: #2fbd0b;\">Using the &nbsp;<code style=\"background-color: yellow;\">hsplit()</code>&nbsp; function to split a <span style=\"color: red;\">**1D**</span> array</span>"
   ]
  },
  {
   "cell_type": "code",
   "execution_count": 60,
   "id": "0090b529-d58e-47b9-b454-a100e901c4d5",
   "metadata": {},
   "outputs": [
    {
     "name": "stdout",
     "output_type": "stream",
     "text": [
      "[array([1, 2]), array([3, 4]), array([5, 6])]\n",
      "[1 2]\n",
      "[3 4]\n",
      "[5 6]\n"
     ]
    }
   ],
   "source": [
    "\n",
    "a = np.arange(1,7)                             # [1 2 3 4 5 6]\n",
    "results = np.hsplit(a,3)                       # It is possible to split the array \"a\" into 3 equal parts, hence no error\n",
    "\n",
    "\n",
    "print(results)                                 # [array([1, 2]), array([3, 4]), array([5, 6])]\n",
    "for row in results:\n",
    "    print(row)                                 # OUTPUT: [1 2]    <-----    1D array     =====>    results[0]  \n",
    "                                               # OUTPUT: [3 4]    <-----    1D array     =====>    results[1]\n",
    "                                               # OUTPUT: [5 6]    <-----    1D array     =====>    results[2]\n"
   ]
  },
  {
   "cell_type": "markdown",
   "id": "2807eba5-bce9-4164-b1f1-dfe4e0aa5ffb",
   "metadata": {},
   "source": [
    "<br>\n",
    "\n",
    "<code style=\"color: white; background-color: black;\">Example - 2</code> &nbsp;&nbsp;<span style=\"color: #2fbd0b;\">Using the &nbsp;<code style=\"background-color: yellow;\">hsplit()</code>&nbsp; function to split a <span style=\"color: red;\">**2D**</span> array</span>"
   ]
  },
  {
   "cell_type": "code",
   "execution_count": 59,
   "id": "0bd5a320-e39d-4439-a4dd-1fa59e68bd27",
   "metadata": {},
   "outputs": [
    {
     "name": "stdout",
     "output_type": "stream",
     "text": [
      "[[1]\n",
      " [3]\n",
      " [5]\n",
      " [7]]\n",
      "[[2]\n",
      " [4]\n",
      " [6]\n",
      " [8]]\n"
     ]
    }
   ],
   "source": [
    "\n",
    "a = np.array([[1,2],[3,4],[5,6],[7,8]])\n",
    "results = np.hsplit(a,2)\n",
    "\n",
    "for row in results:\n",
    "    print(row)                                 # OUTPUT: [[1]\n",
    "                                               #          [3]\n",
    "                                               #          [5]\n",
    "                                               #          [7]]     <-----   2D array   =====>   results[0]   =====>   shape = (4,1)\n",
    "\n",
    "                                               #         [[2]\n",
    "                                               #          [4]\n",
    "                                               #          [5]        \n",
    "                                               #          [6]]     <-----   2D array   =====>   results[1]   =====>   shape = (4,1)\n"
   ]
  },
  {
   "cell_type": "markdown",
   "id": "ed732b3c-ff66-47f9-b96b-5c3d9b54afa0",
   "metadata": {
    "jp-MarkdownHeadingCollapsed": true
   },
   "source": [
    "<br>\n",
    "\n",
    "### <div style=\"color: white; background-color: #af87ff; padding: 5px;\"> <code style=\"font-size: 1.2rem; background-color: #af87ff; color: white;\"><strong>numpy.dsplit()</strong></code> </div>\n"
   ]
  },
  {
   "cell_type": "markdown",
   "id": "6d752581-1c7b-4d6e-8a82-ef61dfd60b24",
   "metadata": {},
   "source": [
    "=====> &nbsp;&nbsp;&nbsp;&nbsp;<code style=\"background-color: yellow;\">dsplit()</code> is equivalent to split with <code>axis=2</code><br>\n",
    "=====> &nbsp;&nbsp;&nbsp;&nbsp;the array is always split along the <strong>third axis</strong><br>\n",
    "=====> &nbsp;&nbsp;&nbsp;&nbsp;<code style=\"background-color: yellow;\">dsplit()</code> only works on arrays of 3 or more dimensions\n",
    "\n",
    "<br>\n",
    "\n",
    "<code style=\"color: white; background-color: black;\">Example - 1</code> &nbsp;&nbsp;<span style=\"color: #2fbd0b;\">Using the &nbsp;<code style=\"background-color: yellow;\">dsplit()</code>&nbsp; function to split a <span style=\"color: red;\">**1D**</span> array will throw error</span>"
   ]
  },
  {
   "cell_type": "code",
   "execution_count": 45,
   "id": "ed3cbb47-77a2-4af9-a863-815e18926d1f",
   "metadata": {},
   "outputs": [
    {
     "ename": "ValueError",
     "evalue": "dsplit only works on arrays of 3 or more dimensions",
     "output_type": "error",
     "traceback": [
      "\u001b[1;31m---------------------------------------------------------------------------\u001b[0m",
      "\u001b[1;31mValueError\u001b[0m                                Traceback (most recent call last)",
      "Cell \u001b[1;32mIn[45], line 2\u001b[0m\n\u001b[0;32m      1\u001b[0m a \u001b[38;5;241m=\u001b[39m np\u001b[38;5;241m.\u001b[39marange(\u001b[38;5;241m1\u001b[39m,\u001b[38;5;241m7\u001b[39m)                             \u001b[38;5;66;03m# [1 2 3 4 5 6]\u001b[39;00m\n\u001b[1;32m----> 2\u001b[0m results \u001b[38;5;241m=\u001b[39m \u001b[43mnp\u001b[49m\u001b[38;5;241;43m.\u001b[39;49m\u001b[43mdsplit\u001b[49m\u001b[43m(\u001b[49m\u001b[43ma\u001b[49m\u001b[43m,\u001b[49m\u001b[38;5;241;43m3\u001b[39;49m\u001b[43m)\u001b[49m                       \u001b[38;5;66;03m# It is a 1D array, hence dsplit() throws error\u001b[39;00m\n",
      "File \u001b[1;32m<__array_function__ internals>:180\u001b[0m, in \u001b[0;36mdsplit\u001b[1;34m(*args, **kwargs)\u001b[0m\n",
      "File \u001b[1;32m~\\AppData\\Local\\Programs\\Python\\Python311\\Lib\\site-packages\\numpy\\lib\\shape_base.py:1041\u001b[0m, in \u001b[0;36mdsplit\u001b[1;34m(ary, indices_or_sections)\u001b[0m\n\u001b[0;32m   1002\u001b[0m \u001b[38;5;250m\u001b[39m\u001b[38;5;124;03m\"\"\"\u001b[39;00m\n\u001b[0;32m   1003\u001b[0m \u001b[38;5;124;03mSplit array into multiple sub-arrays along the 3rd axis (depth).\u001b[39;00m\n\u001b[0;32m   1004\u001b[0m \n\u001b[1;32m   (...)\u001b[0m\n\u001b[0;32m   1038\u001b[0m \u001b[38;5;124;03marray([], shape=(2, 2, 0), dtype=float64)]\u001b[39;00m\n\u001b[0;32m   1039\u001b[0m \u001b[38;5;124;03m\"\"\"\u001b[39;00m\n\u001b[0;32m   1040\u001b[0m \u001b[38;5;28;01mif\u001b[39;00m _nx\u001b[38;5;241m.\u001b[39mndim(ary) \u001b[38;5;241m<\u001b[39m \u001b[38;5;241m3\u001b[39m:\n\u001b[1;32m-> 1041\u001b[0m     \u001b[38;5;28;01mraise\u001b[39;00m \u001b[38;5;167;01mValueError\u001b[39;00m(\u001b[38;5;124m'\u001b[39m\u001b[38;5;124mdsplit only works on arrays of 3 or more dimensions\u001b[39m\u001b[38;5;124m'\u001b[39m)\n\u001b[0;32m   1042\u001b[0m \u001b[38;5;28;01mreturn\u001b[39;00m split(ary, indices_or_sections, \u001b[38;5;241m2\u001b[39m)\n",
      "\u001b[1;31mValueError\u001b[0m: dsplit only works on arrays of 3 or more dimensions"
     ]
    }
   ],
   "source": [
    "\n",
    "a = np.arange(1,7)                             # [1 2 3 4 5 6]\n",
    "results = np.dsplit(a,3)                       # It is a 1D array, hence dsplit() throws error\n"
   ]
  },
  {
   "cell_type": "markdown",
   "id": "10fe0049-d39c-491d-8734-2633cf6f66b2",
   "metadata": {},
   "source": [
    "<br>\n",
    "\n",
    "<code style=\"color: white; background-color: black;\">Example - 2</code> &nbsp;&nbsp;<span style=\"color: #2fbd0b;\">Using the &nbsp;<code style=\"background-color: yellow;\">dsplit()</code>&nbsp; function to split a <span style=\"color: red;\">**2D**</span> array will throw error</span>"
   ]
  },
  {
   "cell_type": "code",
   "execution_count": 48,
   "id": "7da54558-25c0-4c44-a25c-5ee5a61f9c5a",
   "metadata": {},
   "outputs": [
    {
     "ename": "ValueError",
     "evalue": "dsplit only works on arrays of 3 or more dimensions",
     "output_type": "error",
     "traceback": [
      "\u001b[1;31m---------------------------------------------------------------------------\u001b[0m",
      "\u001b[1;31mValueError\u001b[0m                                Traceback (most recent call last)",
      "Cell \u001b[1;32mIn[48], line 6\u001b[0m\n\u001b[0;32m      1\u001b[0m a \u001b[38;5;241m=\u001b[39m np\u001b[38;5;241m.\u001b[39marray([[\u001b[38;5;241m1\u001b[39m,\u001b[38;5;241m2\u001b[39m],\n\u001b[0;32m      2\u001b[0m               [\u001b[38;5;241m3\u001b[39m,\u001b[38;5;241m4\u001b[39m],\n\u001b[0;32m      3\u001b[0m               [\u001b[38;5;241m5\u001b[39m,\u001b[38;5;241m6\u001b[39m],\n\u001b[0;32m      4\u001b[0m               [\u001b[38;5;241m7\u001b[39m,\u001b[38;5;241m8\u001b[39m]]\n\u001b[0;32m      5\u001b[0m             )                                  \u001b[38;5;66;03m# 2D array\u001b[39;00m\n\u001b[1;32m----> 6\u001b[0m results \u001b[38;5;241m=\u001b[39m \u001b[43mnp\u001b[49m\u001b[38;5;241;43m.\u001b[39;49m\u001b[43mdsplit\u001b[49m\u001b[43m(\u001b[49m\u001b[43ma\u001b[49m\u001b[43m,\u001b[49m\u001b[38;5;241;43m2\u001b[39;49m\u001b[43m)\u001b[49m\n",
      "File \u001b[1;32m<__array_function__ internals>:180\u001b[0m, in \u001b[0;36mdsplit\u001b[1;34m(*args, **kwargs)\u001b[0m\n",
      "File \u001b[1;32m~\\AppData\\Local\\Programs\\Python\\Python311\\Lib\\site-packages\\numpy\\lib\\shape_base.py:1041\u001b[0m, in \u001b[0;36mdsplit\u001b[1;34m(ary, indices_or_sections)\u001b[0m\n\u001b[0;32m   1002\u001b[0m \u001b[38;5;250m\u001b[39m\u001b[38;5;124;03m\"\"\"\u001b[39;00m\n\u001b[0;32m   1003\u001b[0m \u001b[38;5;124;03mSplit array into multiple sub-arrays along the 3rd axis (depth).\u001b[39;00m\n\u001b[0;32m   1004\u001b[0m \n\u001b[1;32m   (...)\u001b[0m\n\u001b[0;32m   1038\u001b[0m \u001b[38;5;124;03marray([], shape=(2, 2, 0), dtype=float64)]\u001b[39;00m\n\u001b[0;32m   1039\u001b[0m \u001b[38;5;124;03m\"\"\"\u001b[39;00m\n\u001b[0;32m   1040\u001b[0m \u001b[38;5;28;01mif\u001b[39;00m _nx\u001b[38;5;241m.\u001b[39mndim(ary) \u001b[38;5;241m<\u001b[39m \u001b[38;5;241m3\u001b[39m:\n\u001b[1;32m-> 1041\u001b[0m     \u001b[38;5;28;01mraise\u001b[39;00m \u001b[38;5;167;01mValueError\u001b[39;00m(\u001b[38;5;124m'\u001b[39m\u001b[38;5;124mdsplit only works on arrays of 3 or more dimensions\u001b[39m\u001b[38;5;124m'\u001b[39m)\n\u001b[0;32m   1042\u001b[0m \u001b[38;5;28;01mreturn\u001b[39;00m split(ary, indices_or_sections, \u001b[38;5;241m2\u001b[39m)\n",
      "\u001b[1;31mValueError\u001b[0m: dsplit only works on arrays of 3 or more dimensions"
     ]
    }
   ],
   "source": [
    "\n",
    "a = np.array([[1,2],\n",
    "              [3,4],\n",
    "              [5,6],\n",
    "              [7,8]]\n",
    "            )                                  # 2D array\n",
    "results = np.dsplit(a,2)\n"
   ]
  },
  {
   "cell_type": "markdown",
   "id": "9d45d745-1e55-4547-9ef2-73819ba9bbf1",
   "metadata": {},
   "source": [
    "<br>\n",
    "\n",
    "<code style=\"color: white; background-color: black;\">Example - 3</code> &nbsp;&nbsp;<span style=\"color: #2fbd0b;\">Using the &nbsp;<code style=\"background-color: yellow;\">dsplit()</code>&nbsp; function to split a <span style=\"color: red;\">**3D**</span> array</span>"
   ]
  },
  {
   "cell_type": "code",
   "execution_count": 57,
   "id": "1377d100-9bfc-4559-873f-f39693301397",
   "metadata": {},
   "outputs": [
    {
     "name": "stdout",
     "output_type": "stream",
     "text": [
      "[[[1]\n",
      "  [3]]\n",
      "\n",
      " [[5]\n",
      "  [7]]]\n",
      "[[[2]\n",
      "  [4]]\n",
      "\n",
      " [[6]\n",
      "  [8]]]\n"
     ]
    }
   ],
   "source": [
    "\n",
    "a = np.array([ \n",
    "    [[1, 2], [3, 4]],\n",
    "    [[5, 6], [7, 8]] \n",
    "])                                             # 3D array\n",
    "\n",
    "results = np.dsplit(a,2)\n",
    "\n",
    "for row in results:\n",
    "    print(row)                                 # OUTPUT: [ [ [1]\n",
    "                                               #             [3]\n",
    "                                               #           ]\n",
    "                                               #           [ [5]\n",
    "                                               #             [7]\n",
    "                                               #           ]\n",
    "                                               #         ]            ------->         results[0]         -------->         3D array (2, 2, 1)\n",
    "\n",
    "                                               #         [ [ [2]\n",
    "                                               #             [4]\n",
    "                                               #           ]\n",
    "                                               #           [ [6]\n",
    "                                               #             [8]\n",
    "                                               #           ]\n",
    "                                               #         ]            ------->         results[1]         -------->         3D array (2, 2, 1)\n"
   ]
  },
  {
   "cell_type": "code",
   "execution_count": null,
   "id": "2cdfa6f1-9ef7-4aa9-9064-0c10452b7f76",
   "metadata": {},
   "outputs": [],
   "source": []
  },
  {
   "cell_type": "markdown",
   "id": "32abefb7-67f1-4f08-8558-91653f9081a5",
   "metadata": {
    "jp-MarkdownHeadingCollapsed": true
   },
   "source": [
    "<br><br>\n",
    "\n",
    "## Numpy &nbsp;Practice &nbsp;Questions\n"
   ]
  },
  {
   "cell_type": "markdown",
   "id": "7d2bf768-8b76-4152-9fc8-6e421e66ed66",
   "metadata": {},
   "source": [
    "<br>\n",
    "\n",
    "##### <code style=\"background-color: #f1c40f; color: black; padding: 2px; font-size: 1.2rem;\"> Create a Numpy Array </code>"
   ]
  },
  {
   "cell_type": "markdown",
   "id": "bd372cd8-c4c2-4057-a720-1981a99739e3",
   "metadata": {
    "jp-MarkdownHeadingCollapsed": true
   },
   "source": [
    "<br>\n",
    "\n",
    "###### <span style=\"font-size: 1rem; color: #ff0080; background-color: white;\"><strong>1. &nbsp;Create &nbsp;a &nbsp;NumPy &nbsp;array &nbsp;from &nbsp;a &nbsp;python &nbsp;list</strong></span>"
   ]
  },
  {
   "cell_type": "code",
   "execution_count": 43,
   "id": "16840d3c-71c7-4d98-a261-e6ad77e81374",
   "metadata": {},
   "outputs": [
    {
     "data": {
      "text/plain": [
       "array([1, 2, 3])"
      ]
     },
     "execution_count": 43,
     "metadata": {},
     "output_type": "execute_result"
    }
   ],
   "source": [
    "\n",
    "arr = [1, 2, 3]\n",
    "\n",
    "np_array = np.array(arr)\n",
    "np_array\n"
   ]
  },
  {
   "cell_type": "markdown",
   "id": "2848c802-cc32-489d-be0b-68ef1c1c74d7",
   "metadata": {
    "jp-MarkdownHeadingCollapsed": true
   },
   "source": [
    "<br>\n",
    "\n",
    "###### <span style=\"font-size: 1rem; color: #ff0080; background-color: white;\"><strong>2. &nbsp;Print &nbsp;the &nbsp;type &nbsp;of &nbsp;the &nbsp;array &nbsp;created &nbsp;above</strong></span>"
   ]
  },
  {
   "cell_type": "code",
   "execution_count": 45,
   "id": "bfeaa0ad-2569-47ad-ac97-2da1cfb8c941",
   "metadata": {},
   "outputs": [
    {
     "data": {
      "text/plain": [
       "numpy.ndarray"
      ]
     },
     "execution_count": 45,
     "metadata": {},
     "output_type": "execute_result"
    }
   ],
   "source": [
    "\n",
    "type(np_array)\n"
   ]
  },
  {
   "attachments": {},
   "cell_type": "markdown",
   "id": "e7f847ba-e78e-4a1f-b04b-63bc6a3165fa",
   "metadata": {
    "jp-MarkdownHeadingCollapsed": true
   },
   "source": [
    "<br>\n",
    "\n",
    "###### <span style=\"font-size: 1rem; color: #ff0080; background-color: white;\"><strong>3. &nbsp;Create &nbsp;a &nbsp;NumPy &nbsp;array &nbsp;from &nbsp;a &nbsp;python &nbsp;<span style=\"color: black;\">list &nbsp;of &nbsp;lists</span></span>"
   ]
  },
  {
   "cell_type": "code",
   "execution_count": 51,
   "id": "88543d23-5def-41cb-8682-670db1cb4c5e",
   "metadata": {},
   "outputs": [
    {
     "data": {
      "text/plain": [
       "array([[1, 2, 3],\n",
       "       [4, 5, 6]])"
      ]
     },
     "execution_count": 51,
     "metadata": {},
     "output_type": "execute_result"
    }
   ],
   "source": [
    "\n",
    "arr = [[1,2,3], [4,5,6]]\n",
    "\n",
    "np_array = np.array(arr)\n",
    "np_array\n"
   ]
  },
  {
   "cell_type": "markdown",
   "id": "169106f7-f8ac-48b6-beae-300ab2f5d1de",
   "metadata": {
    "jp-MarkdownHeadingCollapsed": true
   },
   "source": [
    "<br>\n",
    "\n",
    "###### <span style=\"font-size: 1rem; color: #ff0080; background-color: white;\"><strong>4. &nbsp;Print &nbsp;the &nbsp;type &nbsp;of &nbsp;the &nbsp;array &nbsp;created &nbsp;above</strong></span>"
   ]
  },
  {
   "cell_type": "code",
   "execution_count": 48,
   "id": "ae0fe6d5-3619-437f-a3ab-81b847a7364a",
   "metadata": {},
   "outputs": [
    {
     "data": {
      "text/plain": [
       "numpy.ndarray"
      ]
     },
     "execution_count": 48,
     "metadata": {},
     "output_type": "execute_result"
    }
   ],
   "source": [
    "\n",
    "type(np_array)\n"
   ]
  },
  {
   "cell_type": "markdown",
   "id": "25fe52c8-0e73-443a-a11b-6467d80e0b32",
   "metadata": {
    "jp-MarkdownHeadingCollapsed": true
   },
   "source": [
    "<br>\n",
    "\n",
    "###### <span style=\"font-size: 1rem; color: #ff0080; background-color: white;\"><strong>5. &nbsp;While &nbsp;creating &nbsp;the &nbsp;numpy &nbsp;array, &nbsp;specify &nbsp;the &nbsp;data &nbsp;type &nbsp;as &nbsp;float32</strong></span>\n"
   ]
  },
  {
   "cell_type": "code",
   "execution_count": 52,
   "id": "be6d38bd-9878-4253-ba37-7fc24d3ddb52",
   "metadata": {},
   "outputs": [
    {
     "name": "stdout",
     "output_type": "stream",
     "text": [
      "[[1. 2. 3.]\n",
      " [4. 5. 6.]]\n"
     ]
    }
   ],
   "source": [
    "\n",
    "arr = [[1,2,3], [4,5,6]]\n",
    "\n",
    "np_array = np.array(arr, dtype=\"float32\")\n",
    "print(np_array)\n"
   ]
  },
  {
   "cell_type": "markdown",
   "id": "2a2aaeb5-cecb-40b7-a0bc-10a66cfa5f3e",
   "metadata": {
    "jp-MarkdownHeadingCollapsed": true
   },
   "source": [
    "<br>\n",
    "\n",
    "###### <span style=\"font-size: 1rem; color: #ff0080; background-color: white;\"><strong>6. &nbsp;Create &nbsp;a &nbsp;NumPy &nbsp;array &nbsp;of &nbsp;Zeros</strong></span>\n"
   ]
  },
  {
   "cell_type": "code",
   "execution_count": 69,
   "id": "abde0f88-2ed6-44d1-ae42-6a8e9a6cd1b1",
   "metadata": {},
   "outputs": [
    {
     "data": {
      "text/plain": [
       "array([0., 0., 0., 0., 0.])"
      ]
     },
     "execution_count": 69,
     "metadata": {},
     "output_type": "execute_result"
    }
   ],
   "source": [
    "\n",
    "np_array = np.zeros((5,))                                      # shape = (5,)   ------>   5 columns\n",
    "np_array\n"
   ]
  },
  {
   "cell_type": "markdown",
   "id": "ba5bb089-a8c7-4f99-abce-156f93ed8884",
   "metadata": {
    "jp-MarkdownHeadingCollapsed": true
   },
   "source": [
    "<br>\n",
    "\n",
    "###### <span style=\"font-size: 1rem; color: #ff0080; background-color: white;\"><strong>7. &nbsp;Create &nbsp;a &nbsp;multi-dimensional &nbsp;NumPy &nbsp;array &nbsp;of &nbsp;Zeros</strong></span>\n"
   ]
  },
  {
   "cell_type": "code",
   "execution_count": 70,
   "id": "b48f63f3-8a3a-4191-9230-e653861c9cee",
   "metadata": {},
   "outputs": [
    {
     "data": {
      "text/plain": [
       "array([[[0, 0, 0, 0],\n",
       "        [0, 0, 0, 0],\n",
       "        [0, 0, 0, 0]],\n",
       "\n",
       "       [[0, 0, 0, 0],\n",
       "        [0, 0, 0, 0],\n",
       "        [0, 0, 0, 0]]])"
      ]
     },
     "execution_count": 70,
     "metadata": {},
     "output_type": "execute_result"
    }
   ],
   "source": [
    "\n",
    "np_array = np.zeros((2,3,4), dtype=\"int\")                      # shape = (2, 3, 4)   ------>   2 layers, 3 rows, 4 columns\n",
    "np_array\n"
   ]
  },
  {
   "cell_type": "markdown",
   "id": "20a3975b-b850-4c82-aff5-feb3d651382a",
   "metadata": {
    "jp-MarkdownHeadingCollapsed": true
   },
   "source": [
    "<br>\n",
    "\n",
    "###### <span style=\"font-size: 1rem; color: #ff0080; background-color: white;\"><strong>8. &nbsp;Create &nbsp;a &nbsp;NumPy &nbsp;array &nbsp;of &nbsp;Ones</strong></span>\n"
   ]
  },
  {
   "cell_type": "code",
   "execution_count": 71,
   "id": "03bd2e12-fbc1-431c-b967-a49b25250baf",
   "metadata": {},
   "outputs": [
    {
     "data": {
      "text/plain": [
       "array([1., 1., 1., 1., 1.])"
      ]
     },
     "execution_count": 71,
     "metadata": {},
     "output_type": "execute_result"
    }
   ],
   "source": [
    "\n",
    "np_array = np.ones((5,))                                      # shape = (5,)   ------>   5 columns\n",
    "np_array\n"
   ]
  },
  {
   "cell_type": "markdown",
   "id": "15a2ffc6-69d0-46e3-b730-970588b3c82f",
   "metadata": {
    "jp-MarkdownHeadingCollapsed": true
   },
   "source": [
    "<br>\n",
    "\n",
    "###### <span style=\"font-size: 1rem; color: #ff0080; background-color: white;\"><strong>9. &nbsp;Create &nbsp;a &nbsp;multi-dimensional &nbsp;NumPy &nbsp;array &nbsp;of &nbsp;Ones</strong></span>\n"
   ]
  },
  {
   "cell_type": "code",
   "execution_count": 75,
   "id": "c717d918-3ede-4bb3-b67e-e422851b57ea",
   "metadata": {},
   "outputs": [
    {
     "data": {
      "text/plain": [
       "array([[[0, 0, 0, 0],\n",
       "        [0, 0, 0, 0],\n",
       "        [0, 0, 0, 0]]])"
      ]
     },
     "execution_count": 75,
     "metadata": {},
     "output_type": "execute_result"
    }
   ],
   "source": [
    "\n",
    "np_array = np.zeros((1,3,4), dtype=\"int\")                      # shape = (1, 3, 4)   ------>   1 layer, 3 rows, 4 columns\n",
    "np_array\n"
   ]
  },
  {
   "cell_type": "markdown",
   "id": "ef7f1dd5-d8a1-4e2c-b8cc-85d4258797f3",
   "metadata": {
    "jp-MarkdownHeadingCollapsed": true
   },
   "source": [
    "<br>\n",
    "\n",
    "###### <span style=\"font-size: 1rem; color: #ff0080; background-color: white;\"><strong>10. &nbsp;Create &nbsp;an &nbsp;Identity &nbsp;Numpy &nbsp;Array &nbsp;of &nbsp;order &nbsp;3</strong></span>\n"
   ]
  },
  {
   "cell_type": "code",
   "execution_count": 84,
   "id": "ffbdd613-d9ca-49eb-9de9-4aac2608eb37",
   "metadata": {},
   "outputs": [
    {
     "data": {
      "text/plain": [
       "array([[1., 0., 0.],\n",
       "       [0., 1., 0.],\n",
       "       [0., 0., 1.]])"
      ]
     },
     "execution_count": 84,
     "metadata": {},
     "output_type": "execute_result"
    }
   ],
   "source": [
    "\n",
    "np.identity(3)\n"
   ]
  },
  {
   "cell_type": "markdown",
   "id": "2a8a05f5-721d-45cc-a7a7-0b14d9e88cc2",
   "metadata": {
    "jp-MarkdownHeadingCollapsed": true
   },
   "source": [
    "<br>\n",
    "\n",
    "###### <span style=\"font-size: 1rem; color: #ff0080; background-color: white;\"><strong>11-13. &nbsp;Create &nbsp;an &nbsp;equally &nbsp;spaced &nbsp;Numpy &nbsp;Array &nbsp;with &nbsp;a &nbsp;<span style=\"color: black\">specific &nbsp;<strong>step</span></strong></span> &nbsp;&nbsp;&nbsp;&nbsp;&nbsp;&nbsp;&nbsp;&nbsp;&nbsp;&nbsp;&nbsp;&nbsp;&nbsp;&nbsp;&nbsp;<font size=\"+1\">⭐</font>\n"
   ]
  },
  {
   "cell_type": "markdown",
   "id": "af26838d-b0a0-4423-a97d-97263f37cd4f",
   "metadata": {},
   "source": [
    "<br>\n",
    "\n",
    "<span style=\"color: blue;\">Generate &nbsp;values &nbsp;from &nbsp;<code style=\"color: blue;\">start=0</code>&nbsp; to &nbsp;<code style=\"color: blue;\">stop=10</code>&nbsp; with&nbsp; <code style=\"color: blue;\">step=1</code> :</span>"
   ]
  },
  {
   "cell_type": "code",
   "execution_count": 102,
   "id": "90e06837-7db0-44ef-bd03-4b6d56300845",
   "metadata": {},
   "outputs": [
    {
     "data": {
      "text/plain": [
       "array([0, 1, 2, 3, 4, 5, 6, 7, 8, 9])"
      ]
     },
     "execution_count": 102,
     "metadata": {},
     "output_type": "execute_result"
    }
   ],
   "source": [
    "\n",
    "np_array = np.arange(0, 10)                    # default step = 1    ------>    np.arange(0, 10, 1)    ------>    np.arange(start, stop, step)\n",
    "np_array\n"
   ]
  },
  {
   "cell_type": "markdown",
   "id": "c3eb1c46-da54-425b-a786-fec5e6d89c0c",
   "metadata": {},
   "source": [
    "<br>\n",
    "\n",
    "<span style=\"color: blue;\">Generate &nbsp;values &nbsp;from &nbsp;<code style=\"color: blue;\">start=5</code>&nbsp; to &nbsp;<code style=\"color: blue;\">stop=11</code>&nbsp; with&nbsp; <code style=\"color: blue;\">step=1</code> :</span>\n"
   ]
  },
  {
   "cell_type": "code",
   "execution_count": 107,
   "id": "4c1b5fa4-ca76-4fb7-a17a-f1f9d4e5156d",
   "metadata": {},
   "outputs": [
    {
     "data": {
      "text/plain": [
       "array([ 5,  6,  7,  8,  9, 10])"
      ]
     },
     "execution_count": 107,
     "metadata": {},
     "output_type": "execute_result"
    }
   ],
   "source": [
    "\n",
    "np_array = np.arange(5, 11, 1)                 # np.arange(start, stop, step)\n",
    "np_array\n"
   ]
  },
  {
   "cell_type": "markdown",
   "id": "835b08c4-d822-4feb-8db6-a92a9105a624",
   "metadata": {},
   "source": [
    "<br>\n",
    "\n",
    "<span style=\"color: blue;\">Generate &nbsp;values &nbsp;from &nbsp;<code style=\"color: blue;\">start=5</code>&nbsp; to &nbsp;<code style=\"color: blue;\">stop=11</code>&nbsp; with&nbsp; <code style=\"color: blue;\">step=2</code> :</span>\n"
   ]
  },
  {
   "cell_type": "code",
   "execution_count": 108,
   "id": "9f9e3f84-80dd-4e8b-9e9e-a1fff43cc078",
   "metadata": {},
   "outputs": [
    {
     "data": {
      "text/plain": [
       "array([5, 7, 9])"
      ]
     },
     "execution_count": 108,
     "metadata": {},
     "output_type": "execute_result"
    }
   ],
   "source": [
    "\n",
    "np_array = np.arange(5, 11, 2)                 # np.arange(start, stop, step)\n",
    "np_array\n"
   ]
  },
  {
   "cell_type": "markdown",
   "id": "fe89aadd-4565-4f65-a7c5-0f515c5f52bc",
   "metadata": {
    "jp-MarkdownHeadingCollapsed": true
   },
   "source": [
    "<br>\n",
    "\n",
    "###### <span style=\"font-size: 1rem; color: #ff0080; background-color: white;\"><strong>14-15. &nbsp;Create &nbsp;an &nbsp;equally &nbsp;spaced &nbsp;Numpy &nbsp;Array &nbsp;with &nbsp;a &nbsp;<span style=\"color: black;\">specific &nbsp;array &nbsp;size</span></strong></span> &nbsp;&nbsp;&nbsp;&nbsp;&nbsp;&nbsp;&nbsp;&nbsp;&nbsp;&nbsp;&nbsp;&nbsp;&nbsp;&nbsp;&nbsp;<font size=\"+1\">⭐</font>\n"
   ]
  },
  {
   "cell_type": "markdown",
   "id": "be8f367d-1b9d-4b33-83a6-b57b094aef1d",
   "metadata": {},
   "source": [
    "<br>\n",
    "\n",
    "<span style=\"color: blue;\">Generate &nbsp;a &nbsp;numpy &nbsp;array &nbsp;of &nbsp;<code style=\"color: blue;\">size 5</code> &nbsp;with &nbsp;<code style=\"color: blue;\">start=0</code> &nbsp;to &nbsp;<code style=\"color: blue;\">stop=10</code></span>"
   ]
  },
  {
   "cell_type": "code",
   "execution_count": 105,
   "id": "1928a29f-5b75-4097-b80c-3863e69dec77",
   "metadata": {},
   "outputs": [
    {
     "data": {
      "text/plain": [
       "array([ 0. ,  2.5,  5. ,  7.5, 10. ])"
      ]
     },
     "execution_count": 105,
     "metadata": {},
     "output_type": "execute_result"
    }
   ],
   "source": [
    "\n",
    "np_array = np.linspace(0, 10, 5)                # np.linspace(start, stop, num)\n",
    "np_array\n"
   ]
  },
  {
   "cell_type": "markdown",
   "id": "05ce386f-28b1-4b5b-9251-bb6b829767a6",
   "metadata": {},
   "source": [
    "<br>\n",
    "\n",
    "<span style=\"color: blue;\">Generate &nbsp;a &nbsp;numpy &nbsp;array &nbsp;of &nbsp;<code style=\"color: blue;\">size 5</code> &nbsp;with &nbsp;<code style=\"color: blue;\">start=5</code> &nbsp;to &nbsp;<code style=\"color: blue;\">stop=7</code></span>\n"
   ]
  },
  {
   "cell_type": "code",
   "execution_count": 106,
   "id": "cdfe5f9a-2aba-4675-999b-927fb4716ded",
   "metadata": {},
   "outputs": [
    {
     "data": {
      "text/plain": [
       "array([5. , 5.5, 6. , 6.5, 7. ])"
      ]
     },
     "execution_count": 106,
     "metadata": {},
     "output_type": "execute_result"
    }
   ],
   "source": [
    "\n",
    "np_array = np.linspace(5, 7, 5)                # np.linspace(start, stop, num)\n",
    "np_array\n"
   ]
  },
  {
   "cell_type": "markdown",
   "id": "38a5c8f1-d9d5-42bc-ad90-16d4342de98a",
   "metadata": {
    "jp-MarkdownHeadingCollapsed": true
   },
   "source": [
    "<br>\n",
    "\n",
    "###### <span style=\"font-size: 1rem; color: #ff0080; background-color: white;\"><strong>16-17. &nbsp;Generate &nbsp;a &nbsp;random &nbsp;numpy &nbsp;array</strong></span> &nbsp;&nbsp;&nbsp;&nbsp;&nbsp;&nbsp;&nbsp;&nbsp;&nbsp;&nbsp;&nbsp;&nbsp;&nbsp;&nbsp;&nbsp;<font size=\"+1\">⭐</font>"
   ]
  },
  {
   "cell_type": "markdown",
   "id": "788af6c0-5ca0-48dd-b343-4ba5ea22ea4b",
   "metadata": {},
   "source": [
    "<br>\n",
    "\n",
    "<span style=\"color: blue;\">Generate &nbsp;a &nbsp;random &nbsp;integer &nbsp;array &nbsp;of &nbsp;<code style=\"color: blue;\">size 5</code> &nbsp;with &nbsp;<code style=\"color: blue;\">start=0</code> &nbsp;to &nbsp;<code style=\"color: blue;\">stop=10</code></span>\n"
   ]
  },
  {
   "cell_type": "code",
   "execution_count": 112,
   "id": "178cfeec-f525-4859-b9c1-15ed285f3c1c",
   "metadata": {},
   "outputs": [
    {
     "data": {
      "text/plain": [
       "array([ 3,  9, 10, 10,  6])"
      ]
     },
     "execution_count": 112,
     "metadata": {},
     "output_type": "execute_result"
    }
   ],
   "source": [
    "\n",
    "np_array = np.random.randint(0, 11, size=5)\n",
    "np_array\n"
   ]
  },
  {
   "cell_type": "markdown",
   "id": "5e19c418-1925-449e-8dc8-346b1b419c31",
   "metadata": {},
   "source": [
    "<br>\n",
    "\n",
    "<span style=\"color: blue;\">Generate &nbsp;a &nbsp;random &nbsp;float &nbsp;array &nbsp;of &nbsp;<code style=\"color: blue;\">size 10</code></span>"
   ]
  },
  {
   "cell_type": "code",
   "execution_count": 113,
   "id": "d3dd28bf-79b1-488a-9244-8208ee562870",
   "metadata": {},
   "outputs": [
    {
     "data": {
      "text/plain": [
       "array([0.16163946, 0.91167292, 0.53396533, 0.67970237, 0.97620487,\n",
       "       0.11340295, 0.82055878, 0.24972278, 0.08198276, 0.45475265])"
      ]
     },
     "execution_count": 113,
     "metadata": {},
     "output_type": "execute_result"
    }
   ],
   "source": [
    "\n",
    "np_array = np.random.rand(10)\n",
    "np_array\n"
   ]
  },
  {
   "cell_type": "markdown",
   "id": "da5db8b4-909f-42f2-a28d-c71f4d1c14ca",
   "metadata": {
    "jp-MarkdownHeadingCollapsed": true
   },
   "source": [
    "<br>\n",
    "\n",
    "###### <span style=\"font-size: 1rem; color: #ff0080; background-color: white;\"><strong>18-19. &nbsp;Generate &nbsp;NumPy &nbsp;Array &nbsp;from &nbsp;a &nbsp;Pandas &nbsp;Series &nbsp;using &nbsp;two &nbsp;methods</strong></span> &nbsp;&nbsp;&nbsp;&nbsp;&nbsp;&nbsp;&nbsp;&nbsp;&nbsp;&nbsp;&nbsp;&nbsp;&nbsp;&nbsp;&nbsp;<font size=\"+1\">⭐</font>\n"
   ]
  },
  {
   "cell_type": "code",
   "execution_count": 132,
   "id": "c669c515-bfca-4079-92c0-11c8478062f1",
   "metadata": {},
   "outputs": [
    {
     "data": {
      "text/plain": [
       "0    1\n",
       "1    2\n",
       "2    3\n",
       "3    4\n",
       "Name: col, dtype: int64"
      ]
     },
     "execution_count": 132,
     "metadata": {},
     "output_type": "execute_result"
    }
   ],
   "source": [
    "\n",
    "import pandas as pd\n",
    "import numpy as np\n",
    "\n",
    "series = pd.Series([1,2,3,4], name = \"col\")\n",
    "series\n"
   ]
  },
  {
   "cell_type": "markdown",
   "id": "bbdc6dfb-93c1-478f-8891-a465b9393faa",
   "metadata": {},
   "source": [
    "<br>\n",
    "\n",
    "<strong><span style=\"color: blue; background-color: white\">Method 1 ➜</span></strong> &nbsp;&nbsp;&nbsp;Using &nbsp;<code style=\"background-color: yellow; color: red;\">.values</code>&nbsp; attribute"
   ]
  },
  {
   "cell_type": "code",
   "execution_count": 135,
   "id": "1271b2c7-014c-4839-9a86-2507f51401e3",
   "metadata": {},
   "outputs": [
    {
     "data": {
      "text/plain": [
       "array([1, 2, 3, 4], dtype=int64)"
      ]
     },
     "execution_count": 135,
     "metadata": {},
     "output_type": "execute_result"
    }
   ],
   "source": [
    "\n",
    "array_from_values = series.values\n",
    "array_from_values\n"
   ]
  },
  {
   "cell_type": "markdown",
   "id": "83aa78e5-7851-45e4-a37b-7ee0f5550ee8",
   "metadata": {},
   "source": [
    "<br>\n",
    "\n",
    "<strong><span style=\"color: blue; background-color: white\">Method 2 ➜</span></strong> &nbsp;&nbsp;&nbsp;Using &nbsp;<code style=\"background-color: yellow; color: red;\">.to_numpy()</code>&nbsp; method"
   ]
  },
  {
   "cell_type": "code",
   "execution_count": 136,
   "id": "94b48ddc-5461-4324-b9a0-8defe7e0c5c4",
   "metadata": {},
   "outputs": [
    {
     "data": {
      "text/plain": [
       "array([1, 2, 3, 4], dtype=int64)"
      ]
     },
     "execution_count": 136,
     "metadata": {},
     "output_type": "execute_result"
    }
   ],
   "source": [
    "\n",
    "array_from_to_numpy = series.to_numpy()\n",
    "array_from_to_numpy\n"
   ]
  },
  {
   "cell_type": "markdown",
   "id": "bc5262e3-fe32-4e3b-827f-d38388f2feba",
   "metadata": {},
   "source": [
    "<br><br>\n",
    "\n",
    "##### <code style=\"background-color: #f1c40f; color: black; padding: 5px; font-size: 1.2rem;\">NumPy Array Manipulation Methods</code>\n"
   ]
  },
  {
   "cell_type": "markdown",
   "id": "490c1bfd-a463-4e6a-93e2-8030bd82341e",
   "metadata": {
    "jp-MarkdownHeadingCollapsed": true
   },
   "source": [
    "<br>\n",
    "\n",
    "###### <span style=\"font-size: 1rem; color: #ff0080; background-color: white;\"><strong>20-21. &nbsp;Shape &nbsp;of &nbsp;the &nbsp;NumPy &nbsp;Array &nbsp;in &nbsp;two &nbsp;ways</strong></span>"
   ]
  },
  {
   "cell_type": "markdown",
   "id": "860ed6ba-bb52-41c2-ba4b-5ac2242033b1",
   "metadata": {},
   "source": [
    "<br>\n",
    "\n",
    "<strong><span style=\"color: blue; background-color: white\">Method 1 ➜</span></strong> &nbsp;&nbsp;&nbsp;Using &nbsp;<code style=\"background-color: yellow;\">ndarray.<span style=\"color: red;\">shape</span></code>&nbsp; <u>attribute</u>"
   ]
  },
  {
   "cell_type": "code",
   "execution_count": 141,
   "id": "d5edb49a-866b-45da-a5d7-4ff57590fc88",
   "metadata": {},
   "outputs": [
    {
     "data": {
      "text/plain": [
       "(2, 3)"
      ]
     },
     "execution_count": 141,
     "metadata": {},
     "output_type": "execute_result"
    }
   ],
   "source": [
    "\n",
    "arr = np.ones((2, 3))\n",
    "arr.shape\n"
   ]
  },
  {
   "cell_type": "markdown",
   "id": "4ffa94cc-a53b-4581-8360-55aee371a271",
   "metadata": {},
   "source": [
    "<strong><span style=\"color: blue;\">Method 2 ➜</span></strong> &nbsp;&nbsp;&nbsp;Using &nbsp;<code style=\"background-color: yellow;\">np.<span style=\"color: red;\">shape(<span style=\"color: blue;\">arr</span>)</span></code>&nbsp; <u>method</u>"
   ]
  },
  {
   "cell_type": "code",
   "execution_count": 142,
   "id": "22adc589-ea05-4ef8-a20d-8b05d5c9d14b",
   "metadata": {},
   "outputs": [
    {
     "data": {
      "text/plain": [
       "(2, 3)"
      ]
     },
     "execution_count": 142,
     "metadata": {},
     "output_type": "execute_result"
    }
   ],
   "source": [
    "\n",
    "arr = np.ones((2, 3))\n",
    "np.shape(arr)\n"
   ]
  },
  {
   "cell_type": "markdown",
   "id": "daa3280f-d7be-4470-b565-a7d0febf2b5e",
   "metadata": {
    "jp-MarkdownHeadingCollapsed": true
   },
   "source": [
    "<br>\n",
    "\n",
    "###### <span style=\"font-size: 1rem; color: #ff0080; background-color: white;\"><strong>22. &nbsp;Reshape &nbsp;the &nbsp;NumPy &nbsp;Array &nbsp;to &nbsp;2*5</strong></span>\n"
   ]
  },
  {
   "cell_type": "code",
   "execution_count": 144,
   "id": "23da05aa-a88e-471f-ae5c-07fb9660a0ee",
   "metadata": {},
   "outputs": [
    {
     "name": "stdout",
     "output_type": "stream",
     "text": [
      "[[0 1 2 3 4]\n",
      " [5 6 7 8 9]]\n"
     ]
    }
   ],
   "source": [
    "\n",
    "arr = np.arange(10)\n",
    "\n",
    "np_array = arr.reshape((2,5))\n",
    "print(np_array)\n"
   ]
  },
  {
   "cell_type": "markdown",
   "id": "16f9543f-b935-4552-9753-8bb579470e1f",
   "metadata": {
    "jp-MarkdownHeadingCollapsed": true
   },
   "source": [
    "<br>\n",
    "\n",
    "###### <span style=\"font-size: 1rem; color: #ff0080; background-color: white;\"><strong>23-24. &nbsp;Transpose &nbsp;the &nbsp;NumPy &nbsp;Array &nbsp;in &nbsp;two &nbsp;ways</strong></span> &nbsp;&nbsp;&nbsp;&nbsp;&nbsp;&nbsp;&nbsp;&nbsp;&nbsp;&nbsp;&nbsp;&nbsp;&nbsp;&nbsp;&nbsp;<font size=\"+1\">⭐</font>\n"
   ]
  },
  {
   "cell_type": "markdown",
   "id": "2c5303fc-496b-4730-bae9-345f54afeb1e",
   "metadata": {},
   "source": [
    "<br>\n",
    "\n",
    "<strong><span style=\"color: blue; background-color: white\">Method 1 ➜</span></strong> &nbsp;&nbsp;&nbsp;Using &nbsp;<code style=\"background-color: yellow;\">.T</code>&nbsp; <u>attribute</u>"
   ]
  },
  {
   "cell_type": "code",
   "execution_count": 149,
   "id": "aa2d4eae-64f4-47a3-b52d-bf79ccccead1",
   "metadata": {},
   "outputs": [
    {
     "data": {
      "text/plain": [
       "array([[1, 4],\n",
       "       [2, 5],\n",
       "       [3, 6]])"
      ]
     },
     "execution_count": 149,
     "metadata": {},
     "output_type": "execute_result"
    }
   ],
   "source": [
    "\n",
    "arr = np.array([[1, 2, 3], [4, 5, 6]])\n",
    "\n",
    "array.T\n"
   ]
  },
  {
   "cell_type": "markdown",
   "id": "9ef515a8-6939-4f91-8653-50ec6e989175",
   "metadata": {},
   "source": [
    "<br>\n",
    "\n",
    "<strong><span style=\"color: blue;\">Method 2 ➜</span></strong> &nbsp;&nbsp;&nbsp;Using &nbsp;<code style=\"background-color: yellow;\">np.<span style=\"color: red;\">transpose(<span style=\"color: blue;\">arr</span>)</span></code>&nbsp; <u>method</u>"
   ]
  },
  {
   "cell_type": "code",
   "execution_count": 150,
   "id": "98578b78-ffdf-459b-aec8-3173848f971f",
   "metadata": {},
   "outputs": [
    {
     "data": {
      "text/plain": [
       "array([[1, 4],\n",
       "       [2, 5],\n",
       "       [3, 6]])"
      ]
     },
     "execution_count": 150,
     "metadata": {},
     "output_type": "execute_result"
    }
   ],
   "source": [
    "\n",
    "np.transpose(array)\n"
   ]
  },
  {
   "cell_type": "markdown",
   "id": "d93d3277-ddc8-439f-8736-5ff4c99bc625",
   "metadata": {
    "jp-MarkdownHeadingCollapsed": true
   },
   "source": [
    "<br>\n",
    "\n",
    "###### <span style=\"font-size: 1rem; color: #ff0080; background-color: white;\"><strong>25-27. &nbsp;<u>Concatenate</u> &nbsp;multiple &nbsp;NumPy &nbsp;arrays &nbsp;to &nbsp;form &nbsp;one &nbsp;NumPy &nbsp;Array</strong></span>\n"
   ]
  },
  {
   "cell_type": "markdown",
   "id": "b6e905ba-f3d1-4614-83db-cbca12fe5b3e",
   "metadata": {},
   "source": [
    "<br>\n",
    "\n",
    "<span style=\"color: blue;\"><strong>Row-wise concatenation</strong></span> &nbsp;( <code>axis=0</code> )\n",
    "\n",
    "<span style=\"color: #a245ff;\"><u>CASE-1</u> :&nbsp;&nbsp; two arrays of <strong>different</strong> dimensions</span>"
   ]
  },
  {
   "cell_type": "code",
   "execution_count": 10,
   "id": "f3fbc8ca-7a0d-4d39-8f88-ba67e8adf128",
   "metadata": {},
   "outputs": [
    {
     "data": {
      "text/plain": [
       "array([[1, 2],\n",
       "       [3, 4],\n",
       "       [5, 6]])"
      ]
     },
     "execution_count": 10,
     "metadata": {},
     "output_type": "execute_result"
    }
   ],
   "source": [
    "\n",
    "a = np.array([[1, 2], \n",
    "              [3, 4]])\n",
    "b = np.array([[5, 6]])\n",
    "\n",
    "\n",
    "np_array = np.concatenate((a, b))                        # default axis = 0    ------->    np.concatenate((a, b), axis=0)\n",
    "np_array\n"
   ]
  },
  {
   "cell_type": "markdown",
   "id": "4af1f214-80fd-4de6-9b98-56f21c31fb67",
   "metadata": {},
   "source": [
    "<br>\n",
    "\n",
    "<span style=\"color: #a245ff;\"><u>CASE-2</u> :&nbsp;&nbsp; two arrays of <strong>same</strong> dimensions</span>"
   ]
  },
  {
   "cell_type": "code",
   "execution_count": 9,
   "id": "754fe6b7-99f1-45fa-8925-7866d4af2296",
   "metadata": {},
   "outputs": [
    {
     "data": {
      "text/plain": [
       "array([[1, 2],\n",
       "       [3, 4],\n",
       "       [5, 6],\n",
       "       [7, 8]])"
      ]
     },
     "execution_count": 9,
     "metadata": {},
     "output_type": "execute_result"
    }
   ],
   "source": [
    "\n",
    "a = np.array([[1, 2], \n",
    "              [3, 4]])\n",
    "b = np.array([[5, 6],\n",
    "             [7,8]])\n",
    "\n",
    "\n",
    "np_array = np.concatenate((a, b))                        # default axis = 0    ------->    np.concatenate((a, b), axis=0)\n",
    "np_array\n"
   ]
  },
  {
   "cell_type": "markdown",
   "id": "e500032b-1e95-465f-8612-0a88b2e19ba7",
   "metadata": {},
   "source": [
    "<br>\n",
    "\n",
    "<span style=\"color: blue;\"><strong>Column-wise concatenation</strong></span> &nbsp;( <code>axis=1</code> )\n",
    "\n",
    "<span style=\"color: #a245ff;\"><u>CASE-1</u> :&nbsp;&nbsp; two arrays of <strong>different</strong> dimensions</span>"
   ]
  },
  {
   "cell_type": "code",
   "execution_count": 11,
   "id": "9b324561-5ea0-40a6-9928-e39eb705c28b",
   "metadata": {},
   "outputs": [
    {
     "ename": "ValueError",
     "evalue": "all the input array dimensions for the concatenation axis must match exactly, but along dimension 0, the array at index 0 has size 2 and the array at index 1 has size 1",
     "output_type": "error",
     "traceback": [
      "\u001b[1;31m---------------------------------------------------------------------------\u001b[0m",
      "\u001b[1;31mValueError\u001b[0m                                Traceback (most recent call last)",
      "Cell \u001b[1;32mIn[11], line 6\u001b[0m\n\u001b[0;32m      1\u001b[0m a \u001b[38;5;241m=\u001b[39m np\u001b[38;5;241m.\u001b[39marray([[\u001b[38;5;241m1\u001b[39m, \u001b[38;5;241m2\u001b[39m], \n\u001b[0;32m      2\u001b[0m               [\u001b[38;5;241m3\u001b[39m, \u001b[38;5;241m4\u001b[39m]])\n\u001b[0;32m      3\u001b[0m b \u001b[38;5;241m=\u001b[39m np\u001b[38;5;241m.\u001b[39marray([[\u001b[38;5;241m5\u001b[39m, \u001b[38;5;241m6\u001b[39m]])\n\u001b[1;32m----> 6\u001b[0m np_array \u001b[38;5;241m=\u001b[39m \u001b[43mnp\u001b[49m\u001b[38;5;241;43m.\u001b[39;49m\u001b[43mconcatenate\u001b[49m\u001b[43m(\u001b[49m\u001b[43m(\u001b[49m\u001b[43ma\u001b[49m\u001b[43m,\u001b[49m\u001b[43m \u001b[49m\u001b[43mb\u001b[49m\u001b[43m)\u001b[49m\u001b[43m,\u001b[49m\u001b[43m \u001b[49m\u001b[43maxis\u001b[49m\u001b[38;5;241;43m=\u001b[39;49m\u001b[38;5;241;43m1\u001b[39;49m\u001b[43m)\u001b[49m\n\u001b[0;32m      7\u001b[0m np_array\n",
      "File \u001b[1;32m<__array_function__ internals>:180\u001b[0m, in \u001b[0;36mconcatenate\u001b[1;34m(*args, **kwargs)\u001b[0m\n",
      "\u001b[1;31mValueError\u001b[0m: all the input array dimensions for the concatenation axis must match exactly, but along dimension 0, the array at index 0 has size 2 and the array at index 1 has size 1"
     ]
    }
   ],
   "source": [
    "\n",
    "a = np.array([[1, 2], \n",
    "              [3, 4]])\n",
    "b = np.array([[5, 6]])\n",
    "\n",
    "\n",
    "np_array = np.concatenate((a, b), axis=1)\n",
    "np_array\n"
   ]
  },
  {
   "cell_type": "markdown",
   "id": "48b5b3a7-29ca-43a3-a878-e96f759561cb",
   "metadata": {},
   "source": [
    "<br>\n",
    "\n",
    "<span style=\"color: #a245ff;\"><u>CASE-1</u> :&nbsp;&nbsp; two arrays of same dimensions</span>"
   ]
  },
  {
   "cell_type": "code",
   "execution_count": 12,
   "id": "1bc853dd-d7bc-4653-bdcd-62005f4c2cf9",
   "metadata": {},
   "outputs": [
    {
     "data": {
      "text/plain": [
       "array([[1, 2, 5, 6],\n",
       "       [3, 4, 7, 8]])"
      ]
     },
     "execution_count": 12,
     "metadata": {},
     "output_type": "execute_result"
    }
   ],
   "source": [
    "\n",
    "a = np.array([[1, 2], \n",
    "              [3, 4]])\n",
    "b = np.array([[5, 6], \n",
    "              [7, 8]])\n",
    "\n",
    "\n",
    "np_array = np.concatenate((a, b), axis=1)\n",
    "np_array\n"
   ]
  },
  {
   "cell_type": "markdown",
   "id": "45be9722-85bd-4603-909f-36e24ba8c9a7",
   "metadata": {
    "jp-MarkdownHeadingCollapsed": true
   },
   "source": [
    "<br>\n",
    "\n",
    "###### <span style=\"font-size: 1rem; color: #ff0080; background-color: white;\"><strong>28. &nbsp;<strong>Concatenate</strong> &nbsp;to &nbsp;generate &nbsp;a &nbsp;flat &nbsp;NumPy &nbsp;Array</strong></span>\n"
   ]
  },
  {
   "cell_type": "code",
   "execution_count": 159,
   "id": "23276779-276e-474f-8102-02b392ffda4b",
   "metadata": {},
   "outputs": [
    {
     "name": "stdout",
     "output_type": "stream",
     "text": [
      "[1 2 3 4 5 6]\n"
     ]
    }
   ],
   "source": [
    "\n",
    "a = np.array([[1, 2], \n",
    "              [3, 4]])\n",
    "b = np.array([[5, 6]])\n",
    "\n",
    "\n",
    "np_array = np.concatenate((a, b), axis=None)\n",
    "print(np_array)\n"
   ]
  },
  {
   "cell_type": "markdown",
   "id": "7121d059-9df9-40ce-83a7-485c5cbdd242",
   "metadata": {
    "jp-MarkdownHeadingCollapsed": true
   },
   "source": [
    "<br>\n",
    "\n",
    "###### <span style=\"font-size: 1rem; color: #ff0080; background-color: white;\"><strong>29-30. &nbsp;Concatenate &nbsp;using &nbsp;<code style=\"background-color: #f4e3ff;\">numpy.<span style=\"color: blue;\">vstack()</span></code> &nbsp;and &nbsp;<code style=\"background-color: #f4e3ff;\">numpy.<span style=\"color: blue;\">hstack()</span></code></span>\n"
   ]
  },
  {
   "cell_type": "markdown",
   "id": "4fb0c93d-009a-42b2-b793-d405f05775e9",
   "metadata": {},
   "source": [
    "<br>\n",
    "\n",
    "<span style=\"color: blue; font-size: 0.9rem;\"><strong>vstack( )</strong></span>"
   ]
  },
  {
   "cell_type": "code",
   "execution_count": 13,
   "id": "89e4c8b1-c5dc-4b31-b3fb-eb79a132a235",
   "metadata": {},
   "outputs": [
    {
     "name": "stdout",
     "output_type": "stream",
     "text": [
      "[[1 2]\n",
      " [3 4]\n",
      " [5 6]]\n"
     ]
    }
   ],
   "source": [
    "\n",
    "a = np.array([[1, 2], \n",
    "              [3, 4]])\n",
    "b = np.array([[5, 6]])\n",
    "\n",
    "\n",
    "np_array = np.vstack((a,b))\n",
    "print(np_array)\n"
   ]
  },
  {
   "cell_type": "markdown",
   "id": "b8ce64e9-fcc8-4de9-86b0-0139c88ea034",
   "metadata": {},
   "source": [
    "<br>\n",
    "\n",
    "<span style=\"color: blue; font-size: 0.9rem;\"><strong>hstack( )</strong></span>"
   ]
  },
  {
   "cell_type": "code",
   "execution_count": 14,
   "id": "bd59f3b0-c304-41ee-805b-f94c6f2d5f6e",
   "metadata": {},
   "outputs": [
    {
     "ename": "ValueError",
     "evalue": "all the input array dimensions for the concatenation axis must match exactly, but along dimension 0, the array at index 0 has size 2 and the array at index 1 has size 1",
     "output_type": "error",
     "traceback": [
      "\u001b[1;31m---------------------------------------------------------------------------\u001b[0m",
      "\u001b[1;31mValueError\u001b[0m                                Traceback (most recent call last)",
      "Cell \u001b[1;32mIn[14], line 6\u001b[0m\n\u001b[0;32m      1\u001b[0m a \u001b[38;5;241m=\u001b[39m np\u001b[38;5;241m.\u001b[39marray([[\u001b[38;5;241m1\u001b[39m, \u001b[38;5;241m2\u001b[39m], \n\u001b[0;32m      2\u001b[0m               [\u001b[38;5;241m3\u001b[39m, \u001b[38;5;241m4\u001b[39m]])\n\u001b[0;32m      3\u001b[0m b \u001b[38;5;241m=\u001b[39m np\u001b[38;5;241m.\u001b[39marray([[\u001b[38;5;241m5\u001b[39m, \u001b[38;5;241m6\u001b[39m]])\n\u001b[1;32m----> 6\u001b[0m np_array \u001b[38;5;241m=\u001b[39m \u001b[43mnp\u001b[49m\u001b[38;5;241;43m.\u001b[39;49m\u001b[43mhstack\u001b[49m\u001b[43m(\u001b[49m\u001b[43m(\u001b[49m\u001b[43ma\u001b[49m\u001b[43m,\u001b[49m\u001b[43mb\u001b[49m\u001b[43m)\u001b[49m\u001b[43m)\u001b[49m\n\u001b[0;32m      7\u001b[0m \u001b[38;5;28mprint\u001b[39m(np_array)\n",
      "File \u001b[1;32m<__array_function__ internals>:180\u001b[0m, in \u001b[0;36mhstack\u001b[1;34m(*args, **kwargs)\u001b[0m\n",
      "File \u001b[1;32m~\\AppData\\Local\\Programs\\Python\\Python311\\Lib\\site-packages\\numpy\\core\\shape_base.py:345\u001b[0m, in \u001b[0;36mhstack\u001b[1;34m(tup)\u001b[0m\n\u001b[0;32m    343\u001b[0m     \u001b[38;5;28;01mreturn\u001b[39;00m _nx\u001b[38;5;241m.\u001b[39mconcatenate(arrs, \u001b[38;5;241m0\u001b[39m)\n\u001b[0;32m    344\u001b[0m \u001b[38;5;28;01melse\u001b[39;00m:\n\u001b[1;32m--> 345\u001b[0m     \u001b[38;5;28;01mreturn\u001b[39;00m \u001b[43m_nx\u001b[49m\u001b[38;5;241;43m.\u001b[39;49m\u001b[43mconcatenate\u001b[49m\u001b[43m(\u001b[49m\u001b[43marrs\u001b[49m\u001b[43m,\u001b[49m\u001b[43m \u001b[49m\u001b[38;5;241;43m1\u001b[39;49m\u001b[43m)\u001b[49m\n",
      "File \u001b[1;32m<__array_function__ internals>:180\u001b[0m, in \u001b[0;36mconcatenate\u001b[1;34m(*args, **kwargs)\u001b[0m\n",
      "\u001b[1;31mValueError\u001b[0m: all the input array dimensions for the concatenation axis must match exactly, but along dimension 0, the array at index 0 has size 2 and the array at index 1 has size 1"
     ]
    }
   ],
   "source": [
    "\n",
    "a = np.array([[1, 2], \n",
    "              [3, 4]])\n",
    "b = np.array([[5, 6]])\n",
    "\n",
    "\n",
    "np_array = np.hstack((a,b))\n",
    "print(np_array)\n"
   ]
  },
  {
   "cell_type": "code",
   "execution_count": 15,
   "id": "3e5bbb38-6003-4f48-9df9-374301ea92c2",
   "metadata": {},
   "outputs": [
    {
     "name": "stdout",
     "output_type": "stream",
     "text": [
      "[[1 2 5 6]\n",
      " [3 4 7 8]]\n"
     ]
    }
   ],
   "source": [
    "\n",
    "a = np.array([[1, 2], \n",
    "              [3, 4]])\n",
    "b = np.array([[5, 6],\n",
    "              [7, 8]])\n",
    "\n",
    "\n",
    "np_array = np.hstack((a,b))\n",
    "print(np_array)\n"
   ]
  },
  {
   "cell_type": "markdown",
   "id": "af5aa1c6-43ba-4943-82c7-09c1bc9dd435",
   "metadata": {
    "jp-MarkdownHeadingCollapsed": true
   },
   "source": [
    "<br>\n",
    "\n",
    "###### <span style=\"font-size: 1rem; color: #ff0080; background-color: white;\"><strong>31-33. &nbsp;Flatten &nbsp;NumPy &nbsp;Array</strong></span> &nbsp;&nbsp;&nbsp;&nbsp;&nbsp;&nbsp;&nbsp;&nbsp;&nbsp;&nbsp;&nbsp;&nbsp;&nbsp;&nbsp;&nbsp;<font size=\"+1\">⭐</font>\n"
   ]
  },
  {
   "cell_type": "markdown",
   "id": "fe4a1777-fa4c-4bdc-a25f-68b380174183",
   "metadata": {},
   "source": [
    "<br>\n",
    "\n",
    "<strong><span style=\"color: blue; background-color: white\">Method 1 ➜</span></strong> &nbsp;&nbsp;&nbsp;Using &nbsp;the &nbsp;<code style=\"background-color: yellow;\">flattened()</code>&nbsp; <u>method</u> &nbsp;(returns a <strong>copy</strong>)"
   ]
  },
  {
   "cell_type": "code",
   "execution_count": 18,
   "id": "c95a5b8d-92d5-4d0b-929c-aec5a335050a",
   "metadata": {},
   "outputs": [
    {
     "data": {
      "text/plain": [
       "array([1, 2, 3, 4])"
      ]
     },
     "execution_count": 18,
     "metadata": {},
     "output_type": "execute_result"
    }
   ],
   "source": [
    "\n",
    "a = np.array([[1,2], \n",
    "              [3,4]])\n",
    "\n",
    "\n",
    "flattened_array_copy = a.flatten()\n",
    "flattened_array_copy\n"
   ]
  },
  {
   "cell_type": "markdown",
   "id": "d8bed18e-6f75-4438-9b0f-143dfcdd767b",
   "metadata": {},
   "source": [
    "<br>\n",
    "\n",
    "<strong><span style=\"color: blue; background-color: white\">Method 2 ➜</span></strong> &nbsp;&nbsp;&nbsp;Using &nbsp;the &nbsp;<code style=\"background-color: yellow;\">ravel()</code>&nbsp; <u>method</u> &nbsp;(returns a <strong>view</strong>)"
   ]
  },
  {
   "cell_type": "code",
   "execution_count": 19,
   "id": "e9fdc6b0-ff11-4ec6-a2f5-7e68b448a86e",
   "metadata": {},
   "outputs": [
    {
     "data": {
      "text/plain": [
       "array([1, 2, 3, 4])"
      ]
     },
     "execution_count": 19,
     "metadata": {},
     "output_type": "execute_result"
    }
   ],
   "source": [
    "\n",
    "a = np.array([[1,2], \n",
    "              [3,4]])\n",
    "\n",
    "\n",
    "flattened_array_view = a.ravel()\n",
    "flattened_array_view\n"
   ]
  },
  {
   "cell_type": "markdown",
   "id": "955b68a6-b982-4ac7-8f16-2f80b24f227f",
   "metadata": {},
   "source": [
    "<br>\n",
    "\n",
    "<strong><span style=\"color: blue; background-color: white\">Method 3 ➜</span></strong> &nbsp;&nbsp;&nbsp;Using &nbsp;the &nbsp;<code style=\"background-color: yellow;\">flat</code>&nbsp; <u>attribute</u> &nbsp;(returns a <strong>view</strong>)"
   ]
  },
  {
   "cell_type": "code",
   "execution_count": 26,
   "id": "60344670-5d65-4c29-b4dc-fcd1acc62ee8",
   "metadata": {},
   "outputs": [
    {
     "name": "stdout",
     "output_type": "stream",
     "text": [
      "1\n",
      "2\n",
      "3\n",
      "4\n",
      "\n",
      "\n",
      "1\n",
      "2\n",
      "3\n",
      "4\n"
     ]
    }
   ],
   "source": [
    "\n",
    "a = np.array([[1, 2], \n",
    "              [3, 4]])\n",
    "\n",
    "\n",
    "# Using flat to iterate over elements\n",
    "for val in a.flat:\n",
    "    print(val)\n",
    "\n",
    "\n",
    "print(\"\\n\")\n",
    "print(a.flat[0])\n",
    "print(a.flat[1])\n",
    "print(a.flat[2])\n",
    "print(a.flat[3])\n"
   ]
  },
  {
   "cell_type": "markdown",
   "id": "125aac96-c842-4450-9310-7a34818feea2",
   "metadata": {},
   "source": [
    "<br>\n",
    "\n",
    "<u>NOTE</u> -\n",
    "\n",
    "- <code style=\"background-color: yellow;\">flatten()</code> returns a <strong>copy</strong> of the original array in a <u>flattened 1D</u> form. <br>\n",
    "\n",
    "- <code style=\"background-color: yellow;\">ravel()</code> returns a <u>flattened 1D</u> view <strong>view</strong> (or <strong>reference</strong>) to the original array when possible, making it more memory-efficient. &nbsp;Changes to <code style=\"background-color: yellow;\">ravel()</code>'s result affect the original array if a view is returned."
   ]
  },
  {
   "cell_type": "markdown",
   "id": "5dbc9a39-58cf-47d7-be3e-813ef54e6317",
   "metadata": {
    "jp-MarkdownHeadingCollapsed": true
   },
   "source": [
    "<br>\n",
    "\n",
    "###### <span style=\"font-size: 1rem; color: #ff0080; background-color: white;\"><strong>34-36. &nbsp;Print &nbsp;Unique &nbsp;Elements &nbsp;of &nbsp;a &nbsp;NumPy &nbsp;Array</strong></span> &nbsp;&nbsp;&nbsp;&nbsp;&nbsp;&nbsp;&nbsp;&nbsp;&nbsp;&nbsp;&nbsp;&nbsp;&nbsp;&nbsp;&nbsp;<font size=\"+1\">⭐</font>\n",
    "\n",
    "\n",
    "###### <span style=\"font-size: 1rem; color: #ff0080; background-color: white; margin-left: 52px;\"><strong>&nbsp;How &nbsp;can &nbsp;you &nbsp;remove &nbsp;duplicate &nbsp;rows &nbsp;or &nbsp;columns &nbsp;in &nbsp;a &nbsp;NumPy &nbsp;array ?</strong></span>\n"
   ]
  },
  {
   "cell_type": "markdown",
   "id": "75a4bdd1-1ee5-4c58-9833-782ff5c044fa",
   "metadata": {},
   "source": [
    "<br>\n",
    "\n",
    "<code style=\"background-color: yellow; margin-left: 56px;\">np.<span style=\"font-size: 1rem; color: red;\"><strong>unique()</strong></span></code>\n",
    "\n",
    "<br>\n",
    "\n",
    "<span style=\"color: blue;\"><strong>return &nbsp;unique &nbsp;elements</strong></span> &nbsp;&nbsp;( <code>axis=None</code> )"
   ]
  },
  {
   "cell_type": "code",
   "execution_count": 35,
   "id": "28e79666-b63a-4952-a34f-ea38f84c8d9f",
   "metadata": {},
   "outputs": [
    {
     "data": {
      "text/plain": [
       "array([1, 2, 3, 4, 5])"
      ]
     },
     "execution_count": 35,
     "metadata": {},
     "output_type": "execute_result"
    }
   ],
   "source": [
    "\n",
    "a = np.array([1, 2, 2, 3, 4, 4, 5])\n",
    "\n",
    "\n",
    "unique_elements = np.unique(a)                       # flattens the array and remove the duplicates\n",
    "unique_elements\n"
   ]
  },
  {
   "cell_type": "code",
   "execution_count": 43,
   "id": "bc1fe610-a802-4832-9586-b9c2cf85ab80",
   "metadata": {},
   "outputs": [
    {
     "data": {
      "text/plain": [
       "array([1, 2, 3])"
      ]
     },
     "execution_count": 43,
     "metadata": {},
     "output_type": "execute_result"
    }
   ],
   "source": [
    "\n",
    "a = np.array([[1,2],\n",
    "              [3,2]])\n",
    "\n",
    "\n",
    "unique_elements = np.unique(a)                       # flattens the array and remove the duplicates\n",
    "unique_elements\n"
   ]
  },
  {
   "cell_type": "markdown",
   "id": "5d4cb982-174e-4255-b880-50ac9880afa1",
   "metadata": {},
   "source": [
    "<br>\n",
    "\n",
    "<span style=\"color: blue;\"><strong>return &nbsp;unique &nbsp;rows</strong></span> &nbsp;&nbsp;( <code>axis=0</code> )"
   ]
  },
  {
   "cell_type": "code",
   "execution_count": 46,
   "id": "fbcb6fd8-988e-45aa-b50d-dc3544bd9710",
   "metadata": {},
   "outputs": [
    {
     "data": {
      "text/plain": [
       "array([[1, 2],\n",
       "       [3, 4],\n",
       "       [5, 6]])"
      ]
     },
     "execution_count": 46,
     "metadata": {},
     "output_type": "execute_result"
    }
   ],
   "source": [
    "\n",
    "array = np.array([[1, 2], \n",
    "                  [3, 4], \n",
    "                  [1, 2], \n",
    "                  [5, 6], \n",
    "                  [3, 4]])\n",
    "\n",
    "\n",
    "unique_rows = np.unique(array, axis=0)\n",
    "unique_rows\n"
   ]
  },
  {
   "cell_type": "markdown",
   "id": "94936584-2e7a-4ce7-8287-9530fc1988d3",
   "metadata": {},
   "source": [
    "<br>\n",
    "\n",
    "<span style=\"color: blue;\"><strong>return &nbsp;unique &nbsp;columns</strong></span> &nbsp;&nbsp;( <code>axis=1</code> )"
   ]
  },
  {
   "cell_type": "code",
   "execution_count": 5,
   "id": "b68716a8-ec29-417f-811e-1a14add2ce4b",
   "metadata": {},
   "outputs": [
    {
     "data": {
      "text/plain": [
       "array([[1, 2, 3],\n",
       "       [4, 5, 6],\n",
       "       [7, 8, 9]])"
      ]
     },
     "execution_count": 5,
     "metadata": {},
     "output_type": "execute_result"
    }
   ],
   "source": [
    "\n",
    "array = np.array([[1, 2, 2, 3],\n",
    "                  [4, 5, 5, 6],\n",
    "                  [7, 8, 8, 9]])\n",
    "\n",
    "unique_columns = np.unique(array, axis=1)\n",
    "unique_columns\n"
   ]
  },
  {
   "cell_type": "markdown",
   "id": "0f197a7c-b3bb-42aa-a486-6940e34990e0",
   "metadata": {
    "jp-MarkdownHeadingCollapsed": true
   },
   "source": [
    "<br>\n",
    "\n",
    "###### <span style=\"font-size: 1rem; color: #ff0080; background-color: white;\"><strong>37. &nbsp;Squeeze &nbsp;the &nbsp;NumPy &nbsp;Array</strong></span> &nbsp;&nbsp;&nbsp;&nbsp;&nbsp;&nbsp;&nbsp;&nbsp;&nbsp;&nbsp;&nbsp;&nbsp;&nbsp;&nbsp;&nbsp;<font size=\"+1\">⭐</font>\n"
   ]
  },
  {
   "cell_type": "markdown",
   "id": "8c623c27-fc6e-44fc-bf45-b8c8e547ea08",
   "metadata": {},
   "source": [
    "<br>\n",
    "\n",
    "<code style=\"background-color: #f1c6ff;\">axis = None</code> &nbsp;&nbsp;(default)"
   ]
  },
  {
   "cell_type": "code",
   "execution_count": 63,
   "id": "7e6457ea-f140-4c10-970d-ca1fb2b6f2f3",
   "metadata": {},
   "outputs": [
    {
     "name": "stdout",
     "output_type": "stream",
     "text": [
      "[0 1 2]\n"
     ]
    }
   ],
   "source": [
    "\n",
    "a = np.array([[[0], [1], [2]]])            # 3D array   -------------------------->   shape = (1, 3, 1)   ------------->   1 layer, 3 rows, 1 column\n",
    "\n",
    "\n",
    "np_array = np.squeeze(a)                   # np_array = np.squeeze(a, axis=None)\n",
    "print(np_array)                            # 1D array   -------------------------->   shape = (3,)        ------------->   1 column\n"
   ]
  },
  {
   "cell_type": "markdown",
   "id": "fc16775f-83c4-4bf1-8152-7d5125bd1da9",
   "metadata": {},
   "source": [
    "<br>\n",
    "\n",
    "<code style=\"background-color: #f1c6ff;\">axis = 0</code>"
   ]
  },
  {
   "cell_type": "code",
   "execution_count": 68,
   "id": "7b043e36-e459-444b-b50e-6e02056a7a90",
   "metadata": {},
   "outputs": [
    {
     "name": "stdout",
     "output_type": "stream",
     "text": [
      "[[0]\n",
      " [1]\n",
      " [2]]\n"
     ]
    }
   ],
   "source": [
    "\n",
    "a = np.array([[[0], [1], [2]]])            # 3D array   -------------------------->   shape = (1, 3, 1)   ------------->   1 layer, 3 rows, 1 column\n",
    "\n",
    "\n",
    "np_array = np.squeeze(a, axis=0)\n",
    "print(np_array)                            # 2D array   -------------------------->   shape = (3,1)       ------------->   3 rows, 1 column\n"
   ]
  },
  {
   "cell_type": "markdown",
   "id": "516cb04a-d3ad-494a-ba9f-c017215855ac",
   "metadata": {},
   "source": [
    "<br>\n",
    "\n",
    "<code style=\"background-color: #f1c6ff;\">axis = 1</code>"
   ]
  },
  {
   "cell_type": "code",
   "execution_count": 69,
   "id": "6a189915-1ace-45bd-bcc5-c6edbcbb8b97",
   "metadata": {},
   "outputs": [
    {
     "ename": "ValueError",
     "evalue": "cannot select an axis to squeeze out which has size not equal to one",
     "output_type": "error",
     "traceback": [
      "\u001b[1;31m---------------------------------------------------------------------------\u001b[0m",
      "\u001b[1;31mValueError\u001b[0m                                Traceback (most recent call last)",
      "Cell \u001b[1;32mIn[69], line 4\u001b[0m\n\u001b[0;32m      1\u001b[0m a \u001b[38;5;241m=\u001b[39m np\u001b[38;5;241m.\u001b[39marray([[[\u001b[38;5;241m0\u001b[39m], [\u001b[38;5;241m1\u001b[39m], [\u001b[38;5;241m2\u001b[39m]]])            \u001b[38;5;66;03m# 3D array   -------------------------->   shape = (1, 3, 1)   ------------->   1 layer, 3 rows, 1 column\u001b[39;00m\n\u001b[1;32m----> 4\u001b[0m np_array \u001b[38;5;241m=\u001b[39m \u001b[43mnp\u001b[49m\u001b[38;5;241;43m.\u001b[39;49m\u001b[43msqueeze\u001b[49m\u001b[43m(\u001b[49m\u001b[43ma\u001b[49m\u001b[43m,\u001b[49m\u001b[43m \u001b[49m\u001b[43maxis\u001b[49m\u001b[38;5;241;43m=\u001b[39;49m\u001b[38;5;241;43m1\u001b[39;49m\u001b[43m)\u001b[49m           \u001b[38;5;66;03m# ERROR\u001b[39;00m\n",
      "File \u001b[1;32m<__array_function__ internals>:180\u001b[0m, in \u001b[0;36msqueeze\u001b[1;34m(*args, **kwargs)\u001b[0m\n",
      "File \u001b[1;32m~\\AppData\\Local\\Programs\\Python\\Python311\\Lib\\site-packages\\numpy\\core\\fromnumeric.py:1545\u001b[0m, in \u001b[0;36msqueeze\u001b[1;34m(a, axis)\u001b[0m\n\u001b[0;32m   1543\u001b[0m     \u001b[38;5;28;01mreturn\u001b[39;00m squeeze()\n\u001b[0;32m   1544\u001b[0m \u001b[38;5;28;01melse\u001b[39;00m:\n\u001b[1;32m-> 1545\u001b[0m     \u001b[38;5;28;01mreturn\u001b[39;00m squeeze(axis\u001b[38;5;241m=\u001b[39maxis)\n",
      "\u001b[1;31mValueError\u001b[0m: cannot select an axis to squeeze out which has size not equal to one"
     ]
    }
   ],
   "source": [
    "\n",
    "a = np.array([[[0], [1], [2]]])            # 3D array   -------------------------->   shape = (1, 3, 1)   ------------->   1 layer, 3 rows, 1 column\n",
    "\n",
    "\n",
    "np_array = np.squeeze(a, axis=1)           # ERROR\n"
   ]
  },
  {
   "cell_type": "markdown",
   "id": "04168d86-c786-4450-801f-f13973b035fc",
   "metadata": {},
   "source": [
    "<br>\n",
    "\n",
    "<code style=\"background-color: #f1c6ff;\">axis = 2</code>"
   ]
  },
  {
   "cell_type": "code",
   "execution_count": 75,
   "id": "918c7c1d-e44b-41e2-9a57-e0c8884b7657",
   "metadata": {},
   "outputs": [
    {
     "name": "stdout",
     "output_type": "stream",
     "text": [
      "[[0 1 2]]\n"
     ]
    }
   ],
   "source": [
    "\n",
    "a = np.array([[[0], [1], [2]]])            # 3D array   ------------->   shape = (1, 3, 1)   ------------->   1 layer, 3 rows, 1 column\n",
    "\n",
    "\n",
    "np_array = np.squeeze(a, axis=2)\n",
    "print(np_array)                            # 2D array   ------------->   shape = (1, 3)      ------------->   1 row, 3 columns\n"
   ]
  },
  {
   "cell_type": "markdown",
   "id": "81fe9726-2d41-402f-9d79-b1436c36af64",
   "metadata": {},
   "source": [
    "<br>\n",
    "\n",
    "<div style=\"display: flex;\">\n",
    "\n",
    "<div style=\"margin-left: 50px;\">\n",
    "\n",
    "![](../media/numpy_squeeze.PNG)\n",
    "\n",
    "</div>\n",
    "\n",
    "<div style=\"margin-left: 40px; margin-top: 90px;\">\n",
    "Since the <strong>shape</strong> of the array = <span style=\"background-color: #b2fff0; padding: 3px;\"> (1, 3, 1) </span>&nbsp;; &nbsp;it means that <span style=\"color: blue;\">all the axes are of length 1 except the 2nd axis ( <code>axis 1</code> )</span>. <br>That's why the array can be <u>squeezed</u> along all other axes <span style=\"background-color: yellow; padding: 3px;\">except the 2nd one (i.e, &nbsp;<code style=\"background-color: white;\">axis 1</code>)</span>\n",
    "</div>\n",
    "\n",
    "</div>"
   ]
  },
  {
   "cell_type": "markdown",
   "id": "820ccba4-a002-4d21-b369-7089bedc968e",
   "metadata": {
    "jp-MarkdownHeadingCollapsed": true
   },
   "source": [
    "<br>\n",
    "\n",
    "###### <span style=\"font-size: 1rem; color: #ff0080; background-color: white;\"><strong>38. &nbsp;Get &nbsp;Python &nbsp;list &nbsp;from &nbsp;NumPy &nbsp;array</strong></span>\n"
   ]
  },
  {
   "cell_type": "markdown",
   "id": "4e5d6cef-052a-4945-a1a3-8f650ba0df61",
   "metadata": {},
   "source": [
    "<br>\n",
    "\n",
    "<code style=\"background-color: yellow;\">ndarray.<span style=\"color: red; font-size: 1rem;\"><strong>tolist()</strong></span></code> &nbsp;&nbsp;=====>&nbsp;&nbsp;This method converts the NumPy array into a Python list. &nbsp;&nbsp;It preserves the nested structure if the array is multi-dimensional."
   ]
  },
  {
   "cell_type": "code",
   "execution_count": 3,
   "id": "f58c07b3-2607-4967-9cc8-5a8ddc18b0c3",
   "metadata": {},
   "outputs": [
    {
     "name": "stdout",
     "output_type": "stream",
     "text": [
      "[[1, 2, 3], [4, 5, 6]]\n",
      "<class 'list'>\n"
     ]
    }
   ],
   "source": [
    "\n",
    "array = np.array([[1, 2, 3], \n",
    "                  [4, 5, 6]])\n",
    "\n",
    "\n",
    "array_as_list = array.tolist()\n",
    "print(array_as_list)                              #  [[1, 2, 3], [4, 5, 6]]\n",
    "print(type(array_as_list))                        #  <class 'list'>\n"
   ]
  },
  {
   "cell_type": "markdown",
   "id": "e00ee68a-78bf-4d3a-876c-89fcc42ddf61",
   "metadata": {
    "jp-MarkdownHeadingCollapsed": true
   },
   "source": [
    "<br>\n",
    "\n",
    "###### <span style=\"font-size: 1rem; color: #ff0080; background-color: white;\"><strong>39. &nbsp;Add &nbsp;two &nbsp;numpy &nbsp;arrays &nbsp;element-wise</strong></span> &nbsp;&nbsp;&nbsp;&nbsp;&nbsp;&nbsp;&nbsp;&nbsp;&nbsp;&nbsp;&nbsp;&nbsp;&nbsp;&nbsp;&nbsp;<font size=\"+1\">⭐</font>\n"
   ]
  },
  {
   "cell_type": "code",
   "execution_count": 88,
   "id": "f352641f-652a-4aba-a013-4b80b56c3cd8",
   "metadata": {},
   "outputs": [
    {
     "name": "stdout",
     "output_type": "stream",
     "text": [
      "[[2 3 6]\n",
      " [2 3 6]\n",
      " [3 4 8]]\n"
     ]
    }
   ],
   "source": [
    "\n",
    "a = np.array([[1, 1, 3], \n",
    "              [1, 1, 3], \n",
    "              [1, 1, 4]])\n",
    "b = np.array([[1, 2, 3], \n",
    "              [1, 2, 3], \n",
    "              [2, 3, 4]])\n",
    "\n",
    "\n",
    "np_array = a + b\n",
    "print(np_array)\n"
   ]
  },
  {
   "cell_type": "markdown",
   "id": "b99dfa6a-bdf8-4ea2-8ba3-a83dd7dbcd5b",
   "metadata": {
    "jp-MarkdownHeadingCollapsed": true
   },
   "source": [
    "<br>\n",
    "\n",
    "###### <span style=\"font-size: 1rem; color: #ff0080; background-color: white;\"><strong>40. &nbsp;Subtract &nbsp;two &nbsp;numpy &nbsp;arrays &nbsp;element-wise</strong></span>\n"
   ]
  },
  {
   "cell_type": "code",
   "execution_count": 90,
   "id": "4c238d20-0c46-452d-8da3-0d9ac8960387",
   "metadata": {},
   "outputs": [
    {
     "name": "stdout",
     "output_type": "stream",
     "text": [
      "[[ 0 -1  0]\n",
      " [ 0 -1  0]\n",
      " [-1 -2  0]]\n"
     ]
    }
   ],
   "source": [
    "\n",
    "a = np.array([[1, 1, 3], \n",
    "              [1, 1, 3], \n",
    "              [1, 1, 4]])\n",
    "b = np.array([[1, 2, 3], \n",
    "              [1, 2, 3], \n",
    "              [2, 3, 4]])\n",
    "\n",
    "np_array = a - b\n",
    "print(np_array)\n"
   ]
  },
  {
   "cell_type": "markdown",
   "id": "4805af36-6cd1-42e9-8f59-5dc166b4c43e",
   "metadata": {
    "jp-MarkdownHeadingCollapsed": true
   },
   "source": [
    "<br>\n",
    "\n",
    "###### <span style=\"font-size: 1rem; color: #ff0080; background-color: white;\"><strong>41. Multiply &nbsp;two &nbsp;numpy &nbsp;arrays &nbsp;element-wise</strong></span>\n"
   ]
  },
  {
   "cell_type": "code",
   "execution_count": 91,
   "id": "a96c5b52-4fda-4426-8398-0cc6affa4f71",
   "metadata": {},
   "outputs": [
    {
     "name": "stdout",
     "output_type": "stream",
     "text": [
      "[[ 1  2  9]\n",
      " [ 1  2  9]\n",
      " [ 2  3 16]]\n"
     ]
    }
   ],
   "source": [
    "\n",
    "a = np.array([[1, 1, 3], \n",
    "              [1, 1, 3], \n",
    "              [1, 1, 4]])\n",
    "b = np.array([[1, 2, 3], \n",
    "              [1, 2, 3], \n",
    "              [2, 3, 4]])\n",
    "\n",
    "np_array = a * b\n",
    "print(np_array)"
   ]
  },
  {
   "cell_type": "markdown",
   "id": "fd3fbc09-4547-4d7a-ba92-77d7814bd799",
   "metadata": {
    "jp-MarkdownHeadingCollapsed": true
   },
   "source": [
    "<br>\n",
    "\n",
    "###### <span style=\"font-size: 1rem; color: #ff0080; background-color: white;\"><strong>42. &nbsp;Divide &nbsp;two &nbsp;numpy &nbsp;arrays &nbsp;element-wise</strong></span>\n"
   ]
  },
  {
   "cell_type": "code",
   "execution_count": 92,
   "id": "d723a255-9fe9-486c-ac2e-4966395261f0",
   "metadata": {},
   "outputs": [
    {
     "name": "stdout",
     "output_type": "stream",
     "text": [
      "[[1.         0.5        1.        ]\n",
      " [1.         0.5        1.        ]\n",
      " [0.5        0.33333333 1.        ]]\n"
     ]
    }
   ],
   "source": [
    "\n",
    "a = np.array([[1, 1, 3], \n",
    "              [1, 1, 3], \n",
    "              [1, 1, 4]])\n",
    "b = np.array([[1, 2, 3], \n",
    "              [1, 2, 3], \n",
    "              [2, 3, 4]])\n",
    "\n",
    "np_array = a / b\n",
    "print(np_array)\n"
   ]
  },
  {
   "cell_type": "markdown",
   "id": "c1848d75-b691-4dfa-a6dc-bb00a5f3e775",
   "metadata": {
    "jp-MarkdownHeadingCollapsed": true
   },
   "source": [
    "<br>\n",
    "\n",
    "###### <span style=\"font-size: 1rem; color: #ff0080; background-color: white;\"><strong>43-45. &nbsp;Trigonometric &nbsp;functions</strong></span>\n"
   ]
  },
  {
   "cell_type": "markdown",
   "id": "dffedf76-95f1-4d62-9b49-0b88f7c56d24",
   "metadata": {},
   "source": [
    "<br>\n",
    "\n",
    "<strong><span style=\"color: blue; font-size: 1rem;\">sin(x)</span></strong>"
   ]
  },
  {
   "cell_type": "code",
   "execution_count": 96,
   "id": "33220357-feb3-473d-bb59-3919095e55f7",
   "metadata": {},
   "outputs": [
    {
     "name": "stdout",
     "output_type": "stream",
     "text": [
      "[0.84147098 0.90929743 0.14112001]\n"
     ]
    }
   ],
   "source": [
    "\n",
    "a = np.array([1,2,3])\n",
    "\n",
    "\n",
    "np_array = np.sin(a)\n",
    "print(np_array)\n"
   ]
  },
  {
   "cell_type": "markdown",
   "id": "212789f9-8400-424a-a79c-fffd49249fdc",
   "metadata": {},
   "source": [
    "<br>\n",
    "\n",
    "<strong><span style=\"color: blue; font-size: 1rem;\">cos(x)</span></strong>"
   ]
  },
  {
   "cell_type": "code",
   "execution_count": 97,
   "id": "7c30c755-fb15-44c3-8b0a-86d1f79c4f92",
   "metadata": {},
   "outputs": [
    {
     "name": "stdout",
     "output_type": "stream",
     "text": [
      "[ 0.54030231 -0.41614684 -0.9899925 ]\n"
     ]
    }
   ],
   "source": [
    "\n",
    "a = np.array([1,2,3])\n",
    "\n",
    "\n",
    "np_array = np.cos(a)\n",
    "print(np_array)\n"
   ]
  },
  {
   "cell_type": "markdown",
   "id": "f74d596a-97aa-4401-830b-a226e30b3741",
   "metadata": {},
   "source": [
    "<br>\n",
    "\n",
    "<strong><span style=\"color: blue; font-size: 1rem;\">tan(x)</span></strong>"
   ]
  },
  {
   "cell_type": "code",
   "execution_count": 98,
   "id": "9d4cdc6a-e660-4a58-9d6d-2fddf1979ac8",
   "metadata": {},
   "outputs": [
    {
     "name": "stdout",
     "output_type": "stream",
     "text": [
      "[ 1.55740772 -2.18503986 -0.14254654]\n"
     ]
    }
   ],
   "source": [
    "\n",
    "a = np.array([1,2,3])\n",
    "\n",
    "\n",
    "np_array = np.tan(a)\n",
    "print(np_array)\n"
   ]
  },
  {
   "cell_type": "markdown",
   "id": "5f5cfb8c-6ba1-4ebc-a6ae-824a3abd3b69",
   "metadata": {
    "jp-MarkdownHeadingCollapsed": true
   },
   "source": [
    "<br>\n",
    "\n",
    "###### <span style=\"font-size: 1rem; color: #ff0080; background-color: white;\"><strong>46. &nbsp;Print &nbsp;the &nbsp;element-wise &nbsp;floor</strong></span>\n"
   ]
  },
  {
   "cell_type": "code",
   "execution_count": 129,
   "id": "b99e5ba6-610d-4b75-84c9-cade714d0ac2",
   "metadata": {},
   "outputs": [
    {
     "name": "stdout",
     "output_type": "stream",
     "text": [
      "[1. 1. 1. 1. 2.]\n"
     ]
    }
   ],
   "source": [
    "\n",
    "a = np.linspace(1, 2, 5)                                  #  [1.   1.25    1.5    1.75    2.  ]\n",
    "\n",
    "np_array = np.floor(a)\n",
    "print(np_array)                                           #  [1.   1.      1.     1.      2.  ]\n"
   ]
  },
  {
   "cell_type": "markdown",
   "id": "37827a3f-da3e-4a93-ac2f-f1bfd1410703",
   "metadata": {
    "jp-MarkdownHeadingCollapsed": true
   },
   "source": [
    "<br>\n",
    "\n",
    "###### <span style=\"font-size: 1rem; color: #ff0080; background-color: white;\"><strong>47. &nbsp;Print &nbsp;the &nbsp;element-wise &nbsp;ceil</strong></span>\n"
   ]
  },
  {
   "cell_type": "code",
   "execution_count": 132,
   "id": "6f9fa05b-a599-4c8a-9ed8-64873e93e907",
   "metadata": {},
   "outputs": [
    {
     "name": "stdout",
     "output_type": "stream",
     "text": [
      "[1. 2. 2. 2. 2.]\n"
     ]
    }
   ],
   "source": [
    "\n",
    "a = np.linspace(1, 2, 5)                                  #  [1.   1.25    1.5    1.75    2.  ]\n",
    "\n",
    "np_array = np.ceil(a)\n",
    "print(np_array)                                           #  [1.   2.      2.     2.      2.  ]\n"
   ]
  },
  {
   "cell_type": "markdown",
   "id": "d5298b89-1405-4920-b704-3f37c7195ab6",
   "metadata": {
    "jp-MarkdownHeadingCollapsed": true
   },
   "source": [
    "<br>\n",
    "\n",
    "###### <span style=\"font-size: 1rem; color: #ff0080; background-color: white;\"><strong>48. &nbsp;Print the element-wise nearest integer</strong></span>\n"
   ]
  },
  {
   "cell_type": "markdown",
   "id": "54971f58-ba17-4359-b254-47a03f8be17b",
   "metadata": {},
   "source": [
    "\n",
    "<br>\n",
    "\n",
    "<code style=\"background-color: yellow;\">numpy.<span style=\"color: red;\"><span style=\"font-size: 1rem;\"><strong>rint(</strong></span><span style=\"color: black;\">arr</span><span style=\"font-size: 1rem;\"><strong>)</strong></span></span></code> &nbsp;&&nbsp; <code style=\"background-color: yellow;\">numpy.<span style=\"color: red;\"><span style=\"font-size: 1rem;\"><strong>round(</strong></span><span style=\"color: black;\">arr</span>, <span style=\"color: black;\">decimals<span style=\"color: #a245ff;\">=0</span></span><span style=\"font-size: 1rem;\"><strong>)</strong></span></span></code> &nbsp;round each element to the nearest integer."
   ]
  },
  {
   "cell_type": "code",
   "execution_count": 130,
   "id": "dc9bb884-aa11-43e4-91b9-0d39e73fda65",
   "metadata": {},
   "outputs": [
    {
     "name": "stdout",
     "output_type": "stream",
     "text": [
      "[1. 1. 2. 2. 2.]\n"
     ]
    }
   ],
   "source": [
    "\n",
    "a = np.linspace(1, 2, 5)                                  #  [1.   1.25    1.5    1.75    2.  ]\n",
    "\n",
    "np_array = np.round(a)\n",
    "print(np_array)                                           #  [1.   1.      2.     2.      2.  ]\n"
   ]
  },
  {
   "cell_type": "code",
   "execution_count": 131,
   "id": "cb178f7a-f935-435c-b556-8a317f7993f5",
   "metadata": {},
   "outputs": [
    {
     "name": "stdout",
     "output_type": "stream",
     "text": [
      "[ 2.  2. -2. -3.  4.]\n"
     ]
    }
   ],
   "source": [
    "\n",
    "a = np.array([1.7, 2.3, -1.5, -2.8, 3.9])\n",
    "\n",
    "np_array = np.round(a)\n",
    "print(np_array)\n"
   ]
  },
  {
   "cell_type": "markdown",
   "id": "d5707991-41b5-4dfc-9cc9-42ae6e6b578e",
   "metadata": {
    "jp-MarkdownHeadingCollapsed": true
   },
   "source": [
    "<br>\n",
    "\n",
    "###### <span style=\"font-size: 1rem; color: #ff0080; background-color: white;\"><strong>49. &nbsp;Round &nbsp;upto &nbsp;given &nbsp;number &nbsp;of &nbsp;decimal &nbsp;places</span></strong>\n"
   ]
  },
  {
   "cell_type": "code",
   "execution_count": 138,
   "id": "ddb16308-0a9b-426a-b8dc-45743cd1ab29",
   "metadata": {},
   "outputs": [
    {
     "name": "stdout",
     "output_type": "stream",
     "text": [
      "[ 1.12  2.68 -1.99 -2.54  3.46]\n"
     ]
    }
   ],
   "source": [
    "\n",
    "a = np.array([1.12345, 2.6789, -1.98765, -2.54321, 3.45678])\n",
    "\n",
    "np_array = np.round(a, decimals=2)\n",
    "print(np_array)\n"
   ]
  },
  {
   "cell_type": "markdown",
   "id": "c5284d57-0afc-495d-a638-3cd15531e85e",
   "metadata": {
    "jp-MarkdownHeadingCollapsed": true
   },
   "source": [
    "<br>\n",
    "\n",
    "###### <span style=\"font-size: 1rem; color: #ff0080; background-color: white;\"><strong>50. &nbsp;Calculate &nbsp;the &nbsp;element-wise &nbsp;exponential</strong></span>\n"
   ]
  },
  {
   "cell_type": "markdown",
   "id": "54471dcb-e9d5-4eb5-ac1e-946465d20606",
   "metadata": {},
   "source": [
    "\n",
    "<br>\n",
    "\n",
    "<code style=\"background-color: yellow;\">numpy.<span style=\"color: red;\"><span style=\"font-size: 1rem;\"><strong>exp(</strong></span><span style=\"color: black;\">arr</span><span style=\"font-size: 1rem;\"><strong>)</strong></span></span></code> &nbsp;:&nbsp;&nbsp;Calculates the exponential &nbsp;<code>e<sup>x</sup></code>&nbsp; for each element &nbsp;<code>x</code>&nbsp; in the array.\n"
   ]
  },
  {
   "cell_type": "code",
   "execution_count": 139,
   "id": "2913dd09-47f7-43b9-b11a-3c05a60b568f",
   "metadata": {},
   "outputs": [
    {
     "name": "stdout",
     "output_type": "stream",
     "text": [
      "[ 2.71828183  7.3890561   0.36787944  1.         20.08553692]\n"
     ]
    }
   ],
   "source": [
    "\n",
    "a = np.array([1, 2, -1, 0, 3])\n",
    "\n",
    "np_array = np.exp(a)\n",
    "print(np_array)\n"
   ]
  },
  {
   "cell_type": "markdown",
   "id": "328457ff-c4f5-4cd0-aeca-16963f3b68f6",
   "metadata": {
    "jp-MarkdownHeadingCollapsed": true
   },
   "source": [
    "<br>\n",
    "\n",
    "###### <span style=\"font-size: 1rem; color: #ff0080; background-color: white;\"><strong>51. &nbsp;Calculate &nbsp;the &nbsp;element-wise &nbsp;exponential &nbsp;and &nbsp;round &nbsp;to &nbsp;two &nbsp;decimal &nbsp;places</strong></span>\n"
   ]
  },
  {
   "cell_type": "code",
   "execution_count": 147,
   "id": "e1c1e709-6f00-4878-b1fd-ca7f53a10522",
   "metadata": {},
   "outputs": [
    {
     "name": "stdout",
     "output_type": "stream",
     "text": [
      "[  2.72   7.39  20.09  54.6  148.41]\n"
     ]
    }
   ],
   "source": [
    "\n",
    "a = np.arange(1, 6)                                       #  [1, 2, 3, 4, 5]\n",
    "\n",
    "np_array = np.round(np.exp(a), decimals=2)\n",
    "print(np_array)\n"
   ]
  },
  {
   "cell_type": "markdown",
   "id": "5470010e-96a0-4b64-b9b2-42015f440205",
   "metadata": {
    "jp-MarkdownHeadingCollapsed": true
   },
   "source": [
    "<br>\n",
    "\n",
    "###### <span style=\"font-size: 1rem; color: #ff0080; background-color: white;\"><strong>52. &nbsp;Calculate &nbsp;the &nbsp;element-wise &nbsp;natural &nbsp;logarithm </strong></span>\n"
   ]
  },
  {
   "cell_type": "markdown",
   "id": "df5471b9-fefd-4a14-8e46-40f0bb049f0d",
   "metadata": {},
   "source": [
    "\n",
    "<br>\n",
    "\n",
    "<code style=\"background-color: yellow;\">numpy.<span style=\"color: red;\"><span style=\"font-size: 1rem;\"><strong>log(</strong></span><span style=\"color: black;\">arr</span><span style=\"font-size: 1rem;\"><strong>)</strong></span></span></code>\n",
    "\n"
   ]
  },
  {
   "cell_type": "code",
   "execution_count": 150,
   "id": "35396d1a-a463-44c9-8706-1359dc0a8a33",
   "metadata": {},
   "outputs": [
    {
     "name": "stdout",
     "output_type": "stream",
     "text": [
      "[0.         0.69314718 1.09861229 1.38629436 1.60943791]\n"
     ]
    }
   ],
   "source": [
    "\n",
    "a = np.arange(1, 6)                                       #  [1, 2, 3, 4, 5]\n",
    "\n",
    "np_array = np.log(a)\n",
    "print(np_array)\n"
   ]
  },
  {
   "cell_type": "markdown",
   "id": "d66e8765-b089-4d20-aa46-13167fdd42f5",
   "metadata": {
    "jp-MarkdownHeadingCollapsed": true
   },
   "source": [
    "\n",
    "<br>\n",
    "\n",
    "###### <span style=\"font-size: 1rem; color: #ff0080; background-color: white;\"><strong>53. &nbsp;Calculate &nbsp;the &nbsp;element-wise &nbsp;natural &nbsp;logarithm &nbsp;and &nbsp;round &nbsp;to two decimal places </code>\n"
   ]
  },
  {
   "cell_type": "markdown",
   "id": "29bec8d3-a1bc-4ae9-80b1-9a0b61ffa2c2",
   "metadata": {},
   "source": [
    "<br>\n",
    "\n",
    "<code style=\"background-color: yellow;\">numpy.<span style=\"color: red;\"><span style=\"font-size: 1rem;\"><strong>log(</strong></span><span style=\"color: black;\">arr</span><span style=\"font-size: 1rem;\"><strong>)</strong></span></span></code> &nbsp;&nbsp;&nbsp; & &nbsp;&nbsp;&nbsp; <code style=\"background-color: yellow;\">numpy.<span style=\"color: red;\"><span style=\"font-size: 1rem;\"><strong>round(</strong></span><span style=\"color: black;\">arr</span><span style=\"font-size: 1rem;\"><strong>)</strong></span></span></code>\n"
   ]
  },
  {
   "cell_type": "code",
   "execution_count": 152,
   "id": "73203140-95ba-4af8-ab8a-cd1f6c8e1c2d",
   "metadata": {},
   "outputs": [
    {
     "name": "stdout",
     "output_type": "stream",
     "text": [
      "[0.   0.69 1.1  1.39 1.61]\n"
     ]
    }
   ],
   "source": [
    "\n",
    "a = np.arange(1, 6)                                       #  [1, 2, 3, 4, 5]\n",
    "\n",
    "np_array = np.round(np.log(a), decimals=2)\n",
    "print(np_array)\n"
   ]
  },
  {
   "cell_type": "markdown",
   "id": "9a385945-7d1a-4533-836c-4a535239d1ca",
   "metadata": {
    "jp-MarkdownHeadingCollapsed": true
   },
   "source": [
    "<br>\n",
    "\n",
    "###### <span style=\"font-size: 1rem; color: #ff0080; background-color: white;\"><strong>54. &nbsp;Calculate &nbsp;the &nbsp;element-wise &nbsp;logarithm &nbsp;at &nbsp;base &nbsp;2</strong></span>\n"
   ]
  },
  {
   "cell_type": "markdown",
   "id": "4617a2c5-134f-47a6-a035-54ecdc1e500a",
   "metadata": {},
   "source": [
    "\n",
    "<br>\n",
    "\n",
    "<code style=\"background-color: yellow;\">numpy.<span style=\"color: red;\"><span style=\"font-size: 1rem;\"><strong>log2(</strong></span><span style=\"color: black;\">arr</span><span style=\"font-size: 1rem;\"><strong>)</strong></span></span></code>\n"
   ]
  },
  {
   "cell_type": "code",
   "execution_count": 12,
   "id": "5700f255-f5fb-4a98-9280-37a5b7e75d77",
   "metadata": {},
   "outputs": [
    {
     "name": "stdout",
     "output_type": "stream",
     "text": [
      "[0. 1. 2. 3. 4.]\n"
     ]
    }
   ],
   "source": [
    "\n",
    "a = np.array([1, 2, 4, 8, 16])\n",
    "\n",
    "np_array = np.log2(a)                                     #  [ log2(1)   log2(2)   log2(4)   log2(8)   log2(16) ]\n",
    "print(np_array)                                           #  [    0.        1.        2.        3.         4.   ]\n"
   ]
  },
  {
   "cell_type": "markdown",
   "id": "66dd76a5-ddde-4d21-9ebd-4d3f47297ca3",
   "metadata": {
    "jp-MarkdownHeadingCollapsed": true
   },
   "source": [
    "<br>\n",
    "\n",
    "###### <span style=\"font-size: 1rem; color: #ff0080; background-color: white;\"><strong>55. &nbsp;Calculate &nbsp;the &nbsp;element-wise &nbsp;logarithm &nbsp;at &nbsp;base &nbsp;2 &nbsp;and &nbsp;take &nbsp;floor &nbsp;of &nbsp;the &nbsp;result</strong></span>\n"
   ]
  },
  {
   "cell_type": "code",
   "execution_count": 14,
   "id": "3f4db44d-fc3b-4d43-8bf2-971375592b80",
   "metadata": {},
   "outputs": [
    {
     "name": "stdout",
     "output_type": "stream",
     "text": [
      "[0. 1. 2. 3. 4.]\n"
     ]
    }
   ],
   "source": [
    "\n",
    "a = np.array([1, 2, 4, 8, 16])\n",
    "\n",
    "np_array = np.floor(np.log2(a))\n",
    "print(np_array)\n"
   ]
  },
  {
   "cell_type": "markdown",
   "id": "948bf842-774b-46d9-a5c7-2f5cf6e4066d",
   "metadata": {
    "jp-MarkdownHeadingCollapsed": true
   },
   "source": [
    "<br>\n",
    "\n",
    "###### <span style=\"font-size: 1rem; color: #ff0080; background-color: white;\"><strong>56-58. &nbsp;Find &nbsp;the &nbsp;sum &nbsp;of &nbsp;numpy &nbsp;array &nbsp;elements</strong></span> &nbsp;&nbsp;&nbsp;&nbsp;&nbsp;&nbsp;&nbsp;&nbsp;&nbsp;&nbsp;&nbsp;&nbsp;&nbsp;&nbsp;&nbsp;<font size=\"+1\">⭐</font>\n"
   ]
  },
  {
   "cell_type": "markdown",
   "id": "b02ec34a-8b52-441b-8705-0f7caa055bac",
   "metadata": {},
   "source": [
    "<br>\n",
    "\n",
    "<span style=\"color: blue;\"><strong>Sum of all elements of the flattened (1D) version of the array</strong></span>"
   ]
  },
  {
   "cell_type": "code",
   "execution_count": 18,
   "id": "f2162795-76f9-4e9c-8a23-8b11bc1e8b16",
   "metadata": {},
   "outputs": [
    {
     "name": "stdout",
     "output_type": "stream",
     "text": [
      "10\n"
     ]
    }
   ],
   "source": [
    "\n",
    "a = np.array([[1, 2], [3, 4]])\n",
    "\n",
    "sum_of_array = np.sum(a)                       # np.sum(a, axis=None)\n",
    "print(sum_of_array)\n"
   ]
  },
  {
   "cell_type": "markdown",
   "id": "de6bfd9c-c4d2-4c35-9d61-697db96956ab",
   "metadata": {},
   "source": [
    "<br>\n",
    "\n",
    "<span style=\"color: blue;\"><strong>column-wise sum</strong></span>"
   ]
  },
  {
   "cell_type": "code",
   "execution_count": 16,
   "id": "e52f2510-f5f3-479c-abee-ca06ab4ee223",
   "metadata": {},
   "outputs": [
    {
     "name": "stdout",
     "output_type": "stream",
     "text": [
      "[4 6]\n"
     ]
    }
   ],
   "source": [
    "\n",
    "a = np.array([[1, 2], [3, 4]])\n",
    "\n",
    "sum_of_array = np.sum(a, axis=0)\n",
    "print(sum_of_array)\n"
   ]
  },
  {
   "cell_type": "markdown",
   "id": "f07c7ffe-c068-4db1-b0a8-fdaf3915be22",
   "metadata": {},
   "source": [
    "<br>\n",
    "\n",
    "<span style=\"color: blue;\"><strong>row-wise sum</strong></span>"
   ]
  },
  {
   "cell_type": "code",
   "execution_count": 23,
   "id": "6ba51970-62f2-4ea5-90a6-ea6dae26d026",
   "metadata": {},
   "outputs": [
    {
     "name": "stdout",
     "output_type": "stream",
     "text": [
      "[3 7]\n"
     ]
    }
   ],
   "source": [
    "\n",
    "a = np.array([[1, 2], [3, 4]])\n",
    "\n",
    "\n",
    "sum_of_array = np.sum(a, axis=1)\n",
    "print(sum_of_array)\n"
   ]
  },
  {
   "cell_type": "markdown",
   "id": "b807b822-7486-479e-b20f-2fafb8857e2a",
   "metadata": {
    "jp-MarkdownHeadingCollapsed": true
   },
   "source": [
    "<br>\n",
    "\n",
    "###### <span style=\"font-size: 1rem; color: #ff0080; background-color: white;\"><strong>59-61. &nbsp;Find &nbsp;the &nbsp;product &nbsp;of &nbsp;numpy &nbsp;array &nbsp;elements</strong></span>\n"
   ]
  },
  {
   "cell_type": "markdown",
   "id": "0ba64aef-4e56-45eb-b6df-5dee9ca5d0b5",
   "metadata": {},
   "source": [
    "<br>\n",
    "\n",
    "<span style=\"color: blue;\"><strong>Product of all the elements of the flattened (1D) version of the array</strong></span>"
   ]
  },
  {
   "cell_type": "code",
   "execution_count": 31,
   "id": "9cd02897-5cb3-4b3d-bf10-c787e909b39a",
   "metadata": {},
   "outputs": [
    {
     "name": "stdout",
     "output_type": "stream",
     "text": [
      "24\n"
     ]
    }
   ],
   "source": [
    "\n",
    "a = np.array([[1, 2], [3, 4]])\n",
    "\n",
    "prod_of_array = np.prod(a)                       # np.prod(a, axis=None)\n",
    "print(prod_of_array)\n"
   ]
  },
  {
   "cell_type": "markdown",
   "id": "ea12a00e-4557-471a-a730-0af0573b1023",
   "metadata": {},
   "source": [
    "<br>\n",
    "\n",
    "<span style=\"color: blue;\"><strong>column-wise product</strong></span>"
   ]
  },
  {
   "cell_type": "code",
   "execution_count": 32,
   "id": "832778af-6bdd-4ddc-8ab9-f64097ce54aa",
   "metadata": {},
   "outputs": [
    {
     "name": "stdout",
     "output_type": "stream",
     "text": [
      "[3 8]\n"
     ]
    }
   ],
   "source": [
    "\n",
    "a = np.array([[1, 2], [3, 4]])\n",
    "\n",
    "prod_of_array = np.prod(a, axis=0)\n",
    "print(prod_of_array)\n"
   ]
  },
  {
   "cell_type": "markdown",
   "id": "9d260095-b102-4cb3-827c-47084982fc94",
   "metadata": {},
   "source": [
    "<br>\n",
    "\n",
    "<span style=\"color: blue;\"><strong>row-wise product</strong></span>"
   ]
  },
  {
   "cell_type": "code",
   "execution_count": 33,
   "id": "d8335116-def4-4f16-9b70-115f3a5a5de7",
   "metadata": {},
   "outputs": [
    {
     "name": "stdout",
     "output_type": "stream",
     "text": [
      "[ 2 12]\n"
     ]
    }
   ],
   "source": [
    "\n",
    "a = np.array([[1, 2], [3, 4]])\n",
    "\n",
    "prod_of_array = np.prod(a, axis=1)\n",
    "print(prod_of_array)\n"
   ]
  },
  {
   "cell_type": "markdown",
   "id": "39482d1c-0182-4674-a577-71d8ef1d06dc",
   "metadata": {
    "jp-MarkdownHeadingCollapsed": true
   },
   "source": [
    "<br>\n",
    "\n",
    "###### <span style=\"font-size: 1rem; color: #ff0080; background-color: white;\"><strong>62. &nbsp;Compute &nbsp;the &nbsp;square &nbsp;root &nbsp;of &nbsp;array &nbsp;elements</strong></span>\n"
   ]
  },
  {
   "cell_type": "markdown",
   "id": "5dfcb101-9721-4cb9-b67f-dd6deadf4b9e",
   "metadata": {},
   "source": [
    "\n",
    "<br>\n",
    "\n",
    "<code style=\"background-color: yellow;\">numpy.<span style=\"color: red;\"><span style=\"font-size: 1rem;\"><strong>sqrt(</strong></span><span style=\"color: black;\">arr</span><span style=\"font-size: 1rem;\"><strong>)</strong></span></span></code>\n"
   ]
  },
  {
   "cell_type": "code",
   "execution_count": 44,
   "id": "d89caa86-7b57-4cc9-a457-ff597fcfbf81",
   "metadata": {},
   "outputs": [
    {
     "name": "stdout",
     "output_type": "stream",
     "text": [
      "[2. 3. 4. 5.]\n"
     ]
    }
   ],
   "source": [
    "\n",
    "def compute_square_roots(arr):\n",
    "    if np.any(arr < 0):\n",
    "        raise ValueError(\"All elements in the array must be non-negative.\")             # to ensure all elements are non-negative for real square roots\n",
    "    \n",
    "    square_roots = np.sqrt(arr)\n",
    "    return square_roots\n",
    "\n",
    "\n",
    "a = np.array([4, 9, 16, 25])\n",
    "square_roots = compute_square_roots(a)\n",
    "print(square_roots)\n"
   ]
  },
  {
   "cell_type": "markdown",
   "id": "f9829ef8-e8ce-43a6-b24f-235a2be2efeb",
   "metadata": {},
   "source": [
    "<br><br>\n",
    "\n",
    "##### <code style=\"background-color: #f1c40f; color: black; padding: 5px; font-size: 1.2rem;\">Matrix and Vector Operations</code>\n"
   ]
  },
  {
   "cell_type": "markdown",
   "id": "9907112d-da51-4dd4-b474-28cc0869728f",
   "metadata": {
    "jp-MarkdownHeadingCollapsed": true
   },
   "source": [
    "<br>\n",
    "\n",
    "###### <span style=\"font-size: 1rem; color: #ff0080; background-color: white;\"><strong>63. &nbsp;Compute &nbsp;the &nbsp;dot &nbsp;product &nbsp;of &nbsp;two &nbsp;NumPy &nbsp;arrays</strong></span>\n"
   ]
  },
  {
   "cell_type": "code",
   "execution_count": 68,
   "id": "9daeec93-d5e0-4d00-a273-37d50b81c600",
   "metadata": {},
   "outputs": [
    {
     "name": "stdout",
     "output_type": "stream",
     "text": [
      "[[3 3]\n",
      " [7 7]]\n"
     ]
    }
   ],
   "source": [
    "\n",
    "a = np.array([[1, 2], \n",
    "              [3, 4]])\n",
    "b = np.array([[1, 1], \n",
    "              [1, 1]])\n",
    "\n",
    "\n",
    "dot_product = np.dot(a, b)\n",
    "print(dot_product)\n"
   ]
  },
  {
   "cell_type": "markdown",
   "id": "cd442ee4-be60-441b-9553-fdac9659d781",
   "metadata": {
    "jp-MarkdownHeadingCollapsed": true
   },
   "source": [
    "<br>\n",
    "\n",
    "###### <span style=\"font-size: 1rem; color: #ff0080; background-color: white;\"><strong>64. &nbsp;Compute &nbsp;the &nbsp;row-wise &nbsp;dot &nbsp;product &nbsp;of &nbsp;two &nbsp;NumPy &nbsp;arrays</strong></span>\n"
   ]
  },
  {
   "cell_type": "markdown",
   "id": "51675076-4a77-4536-83b5-2eda2303f427",
   "metadata": {},
   "source": [
    "<br>\n",
    "\n",
    "<span style=\"color: red;\"><u>STEP - 1</u></span>"
   ]
  },
  {
   "cell_type": "code",
   "execution_count": 65,
   "id": "855cd4c9-e60c-4ca8-843d-4c7bb65b1fc1",
   "metadata": {},
   "outputs": [
    {
     "name": "stdout",
     "output_type": "stream",
     "text": [
      "[3 7]\n"
     ]
    }
   ],
   "source": [
    "\n",
    "a = np.array([[1, 2], \n",
    "              [3, 4]])\n",
    "\n",
    "b = np.array([[1, 1], \n",
    "              [1, 1]])\n",
    "\n",
    "\n",
    "row_wise_dot_product = np.sum(a * b, axis=1)\n",
    "print(dot_product_result)\n"
   ]
  },
  {
   "cell_type": "markdown",
   "id": "2826e115-a7ac-4cd7-95f5-4cd40f48bc03",
   "metadata": {},
   "source": [
    "<br>\n",
    "\n",
    "<span style=\"color: red;\"><u>STEP - 2</u></span>"
   ]
  },
  {
   "cell_type": "code",
   "execution_count": 66,
   "id": "cbbb4c94-7747-40b5-bc05-103c493f1a0b",
   "metadata": {},
   "outputs": [
    {
     "name": "stdout",
     "output_type": "stream",
     "text": [
      "[3 7]\n"
     ]
    }
   ],
   "source": [
    "\n",
    "def row_wise_dot_product(array1, array2):\n",
    "    if array1.shape != array2.shape:\n",
    "        raise ValueError(\"Both arrays must have the same shape for row-wise dot product.\")\n",
    "    \n",
    "    result = np.sum(array1 * array2, axis=1)\n",
    "    return result\n",
    "\n",
    "\n",
    "\n",
    "a = np.array([[1, 2], \n",
    "              [3, 4]])\n",
    "\n",
    "b = np.array([[1, 1], \n",
    "              [1, 1]])\n",
    "\n",
    "row_wise_dot_product = row_wise_dot_product(a, b)\n",
    "print(row_wise_dot_product)\n"
   ]
  },
  {
   "cell_type": "markdown",
   "id": "f530f09b-0a1b-40a9-a60a-dc87c8d41b64",
   "metadata": {
    "jp-MarkdownHeadingCollapsed": true
   },
   "source": [
    "<br>\n",
    "\n",
    "###### <span style=\"font-size: 1rem; color: #ff0080; background-color: white;\"><strong>65-66. &nbsp;Compute &nbsp;the &nbsp;matrix &nbsp;product &nbsp;of &nbsp;two &nbsp;NumPy &nbsp;arrays</strong></span>\n"
   ]
  },
  {
   "cell_type": "markdown",
   "id": "ccaffbff-5cf3-4ea5-9eea-02c8ccc76019",
   "metadata": {},
   "source": [
    "<br>\n",
    "\n",
    "<span style=\"color: blue;\">There are <strong>2 ways</strong> to find the result of <u>matrix multiplication</u> of 2 numpy arrays :&nbsp;&nbsp;&nbsp;&nbsp;  <code style=\"background-color: yellow;\">np.<span style=\"color: red;\">dot(<span style=\"color: black;\">arr1</span>, <span style=\"color: black;\">arr2</span>)</span></code> method &nbsp;&nbsp;&nbsp;&nbsp;& &nbsp;&nbsp;&nbsp;&nbsp; <code style=\"background-color: yellow;\"> @ </code> operator</span>"
   ]
  },
  {
   "cell_type": "code",
   "execution_count": 72,
   "id": "60c4c87b-25b3-48a2-b0b3-5203cda3b5aa",
   "metadata": {},
   "outputs": [
    {
     "name": "stdout",
     "output_type": "stream",
     "text": [
      "Matrix product using np.dot():\n",
      " [[19 22]\n",
      " [43 50]]\n",
      "Matrix product using @ operator:\n",
      " [[19 22]\n",
      " [43 50]]\n"
     ]
    }
   ],
   "source": [
    "\n",
    "a = np.array([[1, 2], \n",
    "              [3, 4]])\n",
    "\n",
    "b = np.array([[5, 6], \n",
    "              [7, 8]])\n",
    "\n",
    "\n",
    "result = np.dot(a, b)                                              # METHOD - 1     =====>     computes the matrix product\n",
    "\n",
    "result_alternative = a @ b                                         # METHOD - 2     =====>     computes the matrix product\n",
    "\n",
    "\n",
    "print(\"Matrix product using np.dot():\\n\", result)\n",
    "print(\"Matrix product using @ operator:\\n\", result_alternative)\n"
   ]
  },
  {
   "cell_type": "markdown",
   "id": "22794030-e359-4429-8aed-526c0f250b8b",
   "metadata": {
    "jp-MarkdownHeadingCollapsed": true
   },
   "source": [
    "<br>\n",
    "\n",
    "###### <span style=\"font-size: 1rem; color: #ff0080; background-color: white;\"><strong>67. &nbsp;Compute &nbsp;the &nbsp;length &nbsp;of &nbsp;the &nbsp;vector</strong></span>\n"
   ]
  },
  {
   "cell_type": "markdown",
   "id": "7717bfbd-9a80-47cc-88e3-2996134cc7fe",
   "metadata": {},
   "source": [
    "<br>\n",
    "\n",
    "<div style=\"margin-left: 70px;\">\n",
    "\n",
    "![](../media/numpy_length_of_vector.PNG)\n",
    "\n",
    "</div>\n",
    "\n",
    "<code style=\"background-color: yellow;\">np.<span style=\"color: red;\">linalg.norm(<span style=\"color: black;\">vector</span>)</span></code> computes the <strong>Euclidean norm (length)</strong> of a vector which is equivalent to <u>calculating the square root of the sum of the squares of its elements</u>"
   ]
  },
  {
   "cell_type": "code",
   "execution_count": 82,
   "id": "8d2de779-f16d-4438-91ce-f9534763b17b",
   "metadata": {},
   "outputs": [
    {
     "name": "stdout",
     "output_type": "stream",
     "text": [
      "7.745966692414834\n"
     ]
    }
   ],
   "source": [
    "\n",
    "a = np.arange(-4, 5)                              # [-4  -3  -2  -1  0  1  2  3  4 ]\n",
    "\n",
    "length = np.linalg.norm(a)                        # computes the length (magnitude) of the vector\n",
    "\n",
    "print(length)\n"
   ]
  },
  {
   "cell_type": "markdown",
   "id": "a97e4ed0-11ad-4445-be6f-9c9fdbd55b67",
   "metadata": {
    "jp-MarkdownHeadingCollapsed": true
   },
   "source": [
    "<br>\n",
    "\n",
    "###### <span style=\"font-size: 1rem; color: #ff0080; background-color: white;\"><strong>68. &nbsp; Sort &nbsp;the &nbsp;array &nbsp;<u>in-place</u> &nbsp;row-wise</strong></span> &nbsp;&nbsp;&nbsp;&nbsp;&nbsp;&nbsp;&nbsp;&nbsp;&nbsp;&nbsp;&nbsp;&nbsp;&nbsp;&nbsp;&nbsp;<font size=\"+1\">⭐</font>\n"
   ]
  },
  {
   "cell_type": "markdown",
   "id": "70e28793-e580-4f5d-885d-2515c45a0014",
   "metadata": {},
   "source": [
    "<br>\n",
    "\n",
    "<code style=\"background-color: #dffffc;\">np.<span style=\"color: red;\">sort(<span style=\"color: blue; font-size: 1rem;\"><strong>arr</strong></span>, <span style=\"color: black;\">axis</span>, <span style=\"color: black;\">kind</span>, <span style=\"color: black;\">order</span>)</span></code> &nbsp;&nbsp;----------------------------------------&nbsp;&nbsp; returns <span style=\"color: black;\"><strong>sorted copy</strong></span> of the original array    <br>\n",
    "\n",
    "<code style=\"background-color: #dffffc;\"><span style=\"color: blue; font-size: 1rem;\"><strong>ndarray</strong></span>.<span style=\"color: red;\">sort(<span style=\"color: black;\">axis</span>, <span style=\"color: black;\">kind</span>, <span style=\"color: black;\">order</span>)</span></code> &nbsp;&nbsp;--------------------------------------- &nbsp;&nbsp;<span style=\"color: black;\"><strong>in-place sorting</strong></span> , modifies the original array\n",
    "\n",
    "<br>\n",
    "\n",
    "<code style=\"background-color: yellow;\">np.<span style=\"color: red;\">sort(<span style=\"color: black;\">arr</span>)</span></code> &nbsp;<u>does &nbsp;not &nbsp;sort &nbsp;the &nbsp;array &nbsp;<strong>in-place</strong></u> &nbsp;because &nbsp;it &nbsp;returns &nbsp;a &nbsp;<span style=\"color: #0fd418;\">copy</span> &nbsp;of &nbsp;the &nbsp;array."
   ]
  },
  {
   "cell_type": "code",
   "execution_count": 58,
   "id": "da28b959-cc58-4271-934d-84bcde5b00cb",
   "metadata": {},
   "outputs": [
    {
     "name": "stdout",
     "output_type": "stream",
     "text": [
      "[[1 2 3]\n",
      " [7 8 9]\n",
      " [4 5 6]]\n"
     ]
    }
   ],
   "source": [
    "\n",
    "arr = np.array([[3, 1, 2],\n",
    "                [9, 7, 8],\n",
    "                [6, 5, 4]])\n",
    "\n",
    "\n",
    "np_array = np.sort(arr, axis=1)                   # returns sorted copy of the array\n",
    "print(np_array)\n"
   ]
  },
  {
   "cell_type": "markdown",
   "id": "41b9b3fa-f743-49d4-9e57-a3f68cd7d2e6",
   "metadata": {},
   "source": [
    "<br>\n",
    "\n",
    "<span style=\"color: #c658fc;\">Modifying the <code style=\"background-color: #e0e0e0;\">np_array</code> will <strong>not change anything in the original arrray</strong> <code style=\"background-color: #e0e0e0;\">a</code>. &nbsp;&nbsp;Let's verify :</span>"
   ]
  },
  {
   "cell_type": "code",
   "execution_count": 60,
   "id": "8fdb7e56-1a0d-4e31-9f57-f61488c4d449",
   "metadata": {},
   "outputs": [
    {
     "name": "stdout",
     "output_type": "stream",
     "text": [
      "Original Array  ------->  'arr' =\n",
      "[[3 1 2]\n",
      " [9 7 8]\n",
      " [6 5 4]]\n",
      "\n",
      "Sorted copy  ---------->  'np_array' =\n",
      "[[1 2 3]\n",
      " [0 0 0]\n",
      " [4 5 6]]\n"
     ]
    }
   ],
   "source": [
    "\n",
    "np_array[1] = 0                                   # replacing all the elements of the second row (row index 1) by 0\n",
    "\n",
    "\n",
    "print(\"Original Array  ------->  'arr' =\")\n",
    "print(arr)\n",
    "\n",
    "print(\"\\nSorted copy  ---------->  'np_array' =\")\n",
    "print(np_array)\n"
   ]
  },
  {
   "cell_type": "markdown",
   "id": "0dc02265-a3fe-4149-807a-4c1d151bd96d",
   "metadata": {},
   "source": [
    "<br>\n",
    "\n",
    "<font size=\"+1\">⭐</font> Now let's come to the solution for <u><strong>in-place</strong> sorting</u> of a numpy array &nbsp;&nbsp;====>&nbsp;&nbsp;<code style=\"background-color: yellow;\">ndarray.<span style=\"color: red;\">sort()</span></code> "
   ]
  },
  {
   "cell_type": "code",
   "execution_count": 61,
   "id": "55a62651-face-4b0f-a46b-89d5e07728f4",
   "metadata": {},
   "outputs": [
    {
     "name": "stdout",
     "output_type": "stream",
     "text": [
      "Original Array =\n",
      "[[3 1 2]\n",
      " [9 7 8]\n",
      " [6 5 4]]\n",
      "\n",
      "Original Array After Row-Wise Sorting =\n",
      "[[1 2 3]\n",
      " [7 8 9]\n",
      " [4 5 6]]\n"
     ]
    }
   ],
   "source": [
    "\n",
    "arr = np.array([[3, 1, 2],\n",
    "                [9, 7, 8],\n",
    "                [6, 5, 4]])\n",
    "\n",
    "\n",
    "print(\"Original Array =\")\n",
    "print(arr)\n",
    "\n",
    "arr.sort(axis=1)\n",
    "\n",
    "print(\"\\nOriginal Array After Row-Wise Sorting =\")\n",
    "print(arr)\n"
   ]
  },
  {
   "cell_type": "markdown",
   "id": "95679849-8869-4489-b2f7-2ecaf852342a",
   "metadata": {
    "jp-MarkdownHeadingCollapsed": true
   },
   "source": [
    "<br>\n",
    "\n",
    "###### <span style=\"font-size: 1rem; color: #ff0080; background-color: white;\"><strong>69. &nbsp; Sort &nbsp;the &nbsp;array &nbsp;<u>in-place</u> &nbsp;column-wise</strong></span> &nbsp;&nbsp;&nbsp;&nbsp;&nbsp;&nbsp;&nbsp;&nbsp;&nbsp;&nbsp;&nbsp;&nbsp;&nbsp;&nbsp;&nbsp;<font size=\"+1\">⭐</font>"
   ]
  },
  {
   "cell_type": "code",
   "execution_count": 96,
   "id": "cca422de-774b-40f6-8a46-7ab7beea730e",
   "metadata": {},
   "outputs": [
    {
     "data": {
      "text/plain": [
       "array([[3, 1, 2],\n",
       "       [6, 5, 4],\n",
       "       [9, 7, 8]])"
      ]
     },
     "execution_count": 96,
     "metadata": {},
     "output_type": "execute_result"
    }
   ],
   "source": [
    "\n",
    "arr = np.array([[3, 1, 2],\n",
    "                [9, 7, 8],\n",
    "                [6, 5, 4]])\n",
    "\n",
    "\n",
    "np.sort(arr, axis=0)                              # however it cannot do the in-place sorting because it returns a copy, not a view\n"
   ]
  },
  {
   "cell_type": "code",
   "execution_count": 97,
   "id": "4ae9b92c-5e91-4317-b84f-204b1feaea51",
   "metadata": {},
   "outputs": [
    {
     "data": {
      "text/plain": [
       "array([[3, 1, 2],\n",
       "       [9, 7, 8],\n",
       "       [6, 5, 4]])"
      ]
     },
     "execution_count": 97,
     "metadata": {},
     "output_type": "execute_result"
    }
   ],
   "source": [
    "\n",
    "arr\n"
   ]
  },
  {
   "cell_type": "markdown",
   "id": "4b6fb933-b9a6-466a-916d-28a10c00925b",
   "metadata": {},
   "source": [
    "<br>\n",
    "\n",
    "<span style=\"color: #c658fc;\">Now let's do the <u><strong>in-place</strong> sorting</u> of the numpy array &nbsp;<code>arr</code> :</span>"
   ]
  },
  {
   "cell_type": "code",
   "execution_count": 99,
   "id": "b077298d-f300-4c3f-99de-428d9ebae85a",
   "metadata": {},
   "outputs": [
    {
     "data": {
      "text/plain": [
       "array([[3, 1, 2],\n",
       "       [6, 5, 4],\n",
       "       [9, 7, 8]])"
      ]
     },
     "execution_count": 99,
     "metadata": {},
     "output_type": "execute_result"
    }
   ],
   "source": [
    "\n",
    "arr.sort(axis=0)\n",
    "\n",
    "arr\n"
   ]
  },
  {
   "cell_type": "markdown",
   "id": "ad3e8973-c711-4c93-b314-e1dfe33943da",
   "metadata": {
    "jp-MarkdownHeadingCollapsed": true
   },
   "source": [
    "<br>\n",
    "\n",
    "###### <span style=\"font-size: 1rem; color: #ff0080; background-color: white;\"><strong>70. &nbsp; Sort &nbsp;the &nbsp;flattened &nbsp;array</span>\n"
   ]
  },
  {
   "cell_type": "code",
   "execution_count": 104,
   "id": "221757f9-9aee-41ae-b0a0-f38134738231",
   "metadata": {},
   "outputs": [
    {
     "data": {
      "text/plain": [
       "array([1, 2, 3, 4, 5, 6, 7, 8, 9])"
      ]
     },
     "execution_count": 104,
     "metadata": {},
     "output_type": "execute_result"
    }
   ],
   "source": [
    "\n",
    "arr = np.array([[3, 1, 2],\n",
    "                [9, 7, 8],\n",
    "                [6, 5, 4]])\n",
    "\n",
    "\n",
    "np.sort(arr, axis=None)\n"
   ]
  },
  {
   "cell_type": "markdown",
   "id": "ee896bab-c28a-4cd9-95f3-ed9b33f2771b",
   "metadata": {
    "jp-MarkdownHeadingCollapsed": true
   },
   "source": [
    "<br>\n",
    "\n",
    "###### <span style=\"font-size: 1rem; color: #ff0080; background-color: white;\"><strong>71-72. &nbsp; Order &nbsp;of &nbsp;Indices &nbsp;in &nbsp;a &nbsp;Sorted &nbsp;NumPy &nbsp;Array</span>\n"
   ]
  },
  {
   "cell_type": "markdown",
   "id": "ba7bffa6-8941-401b-94fb-fe84b6f0f5a9",
   "metadata": {},
   "source": [
    "<br>\n",
    "\n",
    "<strong>1D Array</strong>"
   ]
  },
  {
   "cell_type": "code",
   "execution_count": 7,
   "id": "44bf25d9-b05e-45b5-a1dd-258bae9b733d",
   "metadata": {},
   "outputs": [
    {
     "name": "stdout",
     "output_type": "stream",
     "text": [
      "Original Array: [3 1 2 4]\n",
      "Sorted Indices: [1 2 0 3]\n",
      "Array in Sorted Order: [1 2 3 4]\n"
     ]
    }
   ],
   "source": [
    "\n",
    "arr = np.array([3, 1, 2, 4])\n",
    "\n",
    "sorted_indices = np.argsort(arr)\n",
    "\n",
    "print(\"Original Array:\", arr)\n",
    "print(\"Sorted Indices:\", sorted_indices)                              # OUTPUT: [1  2  0  3]   ---------->   [ arr[1]   arr[2]   arr[0]   arr[3] ]\n",
    "print(\"Array in Sorted Order:\", arr[sorted_indices])                  # OUTPUT:                              [   1        2        3        4    ]\n"
   ]
  },
  {
   "cell_type": "markdown",
   "id": "3b756e34-51c5-44c7-b103-c2d23eda5eb7",
   "metadata": {},
   "source": [
    "<br>\n",
    "\n",
    "<span style=\"color: #a245ff;\">You can also use the built-in numpy function</span> &nbsp;&nbsp;=====>&nbsp;&nbsp;&nbsp;<code style=\"background-color: yellow; padding: 6px;\">numpy.<span style=\"color: red;\"><span style=\"font-size: 1rem;\"><strong>take_along_axis(</strong></span><span style=\"color: black;\">arr</span>, <span style=\"color: black;\">sorted_indices</span>, <span style=\"color: black;\">axes</span><span style=\"color: #9b96a1;\">='-1'</span><span style=\"font-size: 1rem;\"><strong>)</strong></span></code>"
   ]
  },
  {
   "cell_type": "code",
   "execution_count": 12,
   "id": "f6e342f9-13c3-4517-b519-8ccdd2936376",
   "metadata": {},
   "outputs": [
    {
     "data": {
      "text/plain": [
       "array([1, 2, 3, 4])"
      ]
     },
     "execution_count": 12,
     "metadata": {},
     "output_type": "execute_result"
    }
   ],
   "source": [
    "\n",
    "sorted_array = np.take_along_axis(arr, sorted_indices, axis=0)\n",
    "sorted_array\n"
   ]
  },
  {
   "cell_type": "markdown",
   "id": "17350eb5-8310-44cb-a54b-d3e40ec831ce",
   "metadata": {},
   "source": [
    "<br>\n",
    "\n",
    "<strong>2D Array (Row-Wise)</strong>\n",
    "\n",
    "<span style=\"background-color: #92d7ff; color: black;\">&nbsp;STEP - 1&nbsp;</span>"
   ]
  },
  {
   "cell_type": "code",
   "execution_count": 193,
   "id": "38c6e6e6-e286-4941-ad93-302fb5e6a003",
   "metadata": {},
   "outputs": [
    {
     "name": "stdout",
     "output_type": "stream",
     "text": [
      "Original Array:\n",
      "[[3 1 2]\n",
      " [9 7 8]\n",
      " [6 5 4]]\n",
      "\n",
      "Indices of Sorted Elements Row-Wise:\n",
      "[[1 2 0]\n",
      " [1 2 0]\n",
      " [2 1 0]]\n"
     ]
    }
   ],
   "source": [
    "\n",
    "arr = np.array([[3, 1, 2],\n",
    "                [9, 7, 8],\n",
    "                [6, 5, 4]])\n",
    "\n",
    "\n",
    "sorted_indices = np.argsort(arr, axis=1)\n",
    "\n",
    "print(\"Original Array:\")\n",
    "print(arr)\n",
    "print(\"\\nIndices of Sorted Elements Row-Wise:\")\n",
    "print(sorted_indices)\n"
   ]
  },
  {
   "cell_type": "markdown",
   "id": "8b906a20-4aa4-4fd6-ac8e-d3246910b5c5",
   "metadata": {},
   "source": [
    "<br>\n",
    "\n",
    "<span style=\"background-color: #92d7ff; color: black;\">&nbsp;STEP - 2&nbsp;</span>\n",
    "\n",
    "<span style=\"color: #a245ff;\">However, in this case &nbsp;<code>arr[sorted_indices]</code>&nbsp; will not give the sorted array</span>"
   ]
  },
  {
   "cell_type": "code",
   "execution_count": 195,
   "id": "4e1acc19-da2e-4ba6-b3a7-819cb4f7c767",
   "metadata": {},
   "outputs": [
    {
     "name": "stdout",
     "output_type": "stream",
     "text": [
      "Array in Sorted Order:\n",
      "[[[9 7 8]\n",
      "  [6 5 4]\n",
      "  [3 1 2]]\n",
      "\n",
      " [[9 7 8]\n",
      "  [6 5 4]\n",
      "  [3 1 2]]\n",
      "\n",
      " [[6 5 4]\n",
      "  [9 7 8]\n",
      "  [3 1 2]]]\n"
     ]
    }
   ],
   "source": [
    "\n",
    "print(\"Array in Sorted Order:\")\n",
    "print(arr[sorted_indices])\n"
   ]
  },
  {
   "cell_type": "markdown",
   "id": "0f6fceaf-d81c-4a5b-bfcf-ae396c11f361",
   "metadata": {},
   "source": [
    "<br>\n",
    "\n",
    "<span style=\"color: #a245ff;\">To print the sorted array, we can write a function to do the following :</span>"
   ]
  },
  {
   "cell_type": "code",
   "execution_count": 198,
   "id": "875bd4c0-e80c-45e8-8f2f-0fac298b9457",
   "metadata": {},
   "outputs": [
    {
     "name": "stdout",
     "output_type": "stream",
     "text": [
      "[1 2 3]\n",
      "[7 8 9]\n",
      "[4 5 6]\n"
     ]
    }
   ],
   "source": [
    "\n",
    "print(arr[0][sorted_indices][0])\n",
    "print(arr[1][sorted_indices][1])\n",
    "print(arr[2][sorted_indices][2])\n"
   ]
  },
  {
   "cell_type": "markdown",
   "id": "e9be5b0d-4fb7-483d-ba62-e7a56d57af13",
   "metadata": {},
   "source": [
    "<br>\n",
    "\n",
    "<span style=\"color: #a245ff;\">However, the better way is to use the built-in numpy function</span> &nbsp;<code style=\"background-color: yellow; padding: 6px;\">numpy.<span style=\"color: red;\"><span style=\"font-size: 1rem;\"><strong>take_along_axis(</strong></span><span style=\"color: black;\">arr</span>, <span style=\"color: black;\">sorted_indices</span>, <span style=\"color: black;\">axes</span><span style=\"color: #9b96a1;\">='-1'</span><span style=\"font-size: 1rem;\"><strong>)</strong></span></code>\n",
    "\n",
    "<span style=\"background-color: #92d7ff; color: black;\">&nbsp;STEP - 3&nbsp;</span>\n"
   ]
  },
  {
   "cell_type": "code",
   "execution_count": 6,
   "id": "6567f4c5-f6bb-46fe-9f47-d4dddb75eaf3",
   "metadata": {},
   "outputs": [
    {
     "name": "stdout",
     "output_type": "stream",
     "text": [
      "Original Array:\n",
      "[[3 1 2]\n",
      " [9 7 8]\n",
      " [6 5 4]]\n",
      "\n",
      "Indices of Sorted Elements Row-Wise:\n",
      "[[1 2 0]\n",
      " [1 2 0]\n",
      " [2 1 0]]\n",
      "\n",
      "Row-Wise Sorted Array:\n",
      "[[1 2 3]\n",
      " [7 8 9]\n",
      " [4 5 6]]\n"
     ]
    }
   ],
   "source": [
    "\n",
    "arr = np.array([[3, 1, 2],\n",
    "                [9, 7, 8],\n",
    "                [6, 5, 4]])\n",
    "\n",
    "\n",
    "sorted_indices = np.argsort(arr, axis=1)                                    # Gets the sorted indices row-wise\n",
    "\n",
    "print(\"Original Array:\")\n",
    "print(arr)\n",
    "\n",
    "print(\"\\nIndices of Sorted Elements Row-Wise:\")\n",
    "print(sorted_indices)\n",
    "\n",
    "sorted_array = np.take_along_axis(arr, sorted_indices, axis=1)              # Uses the sorted_indices to sort the array row-wise\n",
    "\n",
    "print(\"\\nRow-Wise Sorted Array:\")\n",
    "print(sorted_array)\n"
   ]
  },
  {
   "cell_type": "markdown",
   "id": "c63d7ac5-d8d3-4eb6-975b-9a9c65331822",
   "metadata": {
    "jp-MarkdownHeadingCollapsed": true
   },
   "source": [
    "<br>\n",
    "\n",
    "###### <span style=\"font-size: 1rem; color: #ff0080; background-color: white;\"><strong>73-74. &nbsp; Find &nbsp;the &nbsp;index &nbsp;corresponding &nbsp;to &nbsp;the &nbsp;Maximum &nbsp;Values.</span> &nbsp;&nbsp;&nbsp;&nbsp;&nbsp;&nbsp;&nbsp;&nbsp;&nbsp;&nbsp;&nbsp;&nbsp;&nbsp;&nbsp;&nbsp;<font size=\"+1\">⭐</font>\n",
    "\n"
   ]
  },
  {
   "cell_type": "markdown",
   "id": "5382b74e-4505-46f0-87d7-62c5378495f9",
   "metadata": {},
   "source": [
    "<br>\n",
    "\n",
    "<span style=\"color: #a245ff;\">To find the indices corresponding to the maximum values in a NumPy array, you can use the &nbsp;<code style=\"background-color: yellow;\">numpy.<span style=\"color: red; font-size: 1rem;\"><strong>argmax()</strong></span></code>&nbsp; function</span>\n",
    "\n",
    "<br>\n",
    "\n",
    "<strong>1D Array</strong>"
   ]
  },
  {
   "cell_type": "code",
   "execution_count": 33,
   "id": "eb3f9cb6-99df-4dac-b285-55c1d5dee820",
   "metadata": {},
   "outputs": [
    {
     "name": "stdout",
     "output_type": "stream",
     "text": [
      "Array: [10 20 15 40 35]\n",
      "Index of Maximum Value: 3\n",
      "Maximum Value: 40\n"
     ]
    }
   ],
   "source": [
    "\n",
    "arr = np.array([10, 20, 15, 40, 35])\n",
    "\n",
    "max_index = np.argmax(arr)\n",
    "\n",
    "print(\"Array:\", arr)\n",
    "print(\"Index of Maximum Value:\", max_index)\n",
    "print(\"Maximum Value:\", arr[max_index])\n"
   ]
  },
  {
   "cell_type": "markdown",
   "id": "c772709a-de5e-4587-b715-067bdf702353",
   "metadata": {},
   "source": [
    "<br>\n",
    "\n",
    "<strong>2D Array</strong>\n",
    "\n",
    "<br>\n",
    "\n",
    "<div style=\"color: #a245ff;\">\n",
    "    \n",
    "<code style=\"background-color: #fdff90; padding: 6px;\">numpy.<span style=\"color: red;\"><span style=\"font-size: 1rem;\"><strong>argmax(</strong></span><span style=\"color: black;\">arr</span><span style=\"font-size: 1rem;\"><strong>)</strong></span></code>\n",
    "\n",
    "- Returns the index of the maximum value in the flattened array by default.\n",
    "\n",
    "<code style=\"background-color: #fdff90; padding: 6px;\">numpy.<span style=\"color: red;\"><span style=\"font-size: 1rem;\"><strong>unravel_index(</strong></span><span style=\"color: black;\">indices</span>, <span style=\"color: black;\">shape</span>, <span style=\"color: black;\">order</span><span style=\"color: #9b96a1;\">='C'</span><span style=\"font-size: 1rem;\"><strong>)</strong></span></code>\n",
    "\n",
    "- Converts a flat index into tuple indices (cooridnates) for multidimensional arrays.\n",
    "\n",
    "<code style=\"background-color: #fdff90; padding: 6px;\">numpy.<span style=\"color: red;\"><span style=\"font-size: 1rem;\"><strong>argmax(</strong></span><span style=\"color: black;\">arr</span>, <span style=\"color: black;\">axis</span><span style=\"color: #9b96a1;\">=0/1</span><span style=\"font-size: 1rem;\"><strong>)</strong></span></code>\n",
    "\n",
    "- Returns the index of the maximum value along a specified axis:\n",
    "\n",
    "<div style=\"margin-left: 50px;\">\n",
    "    \n",
    "- <span style=\"color: blue;\"><strong>axis=1</strong></span> &nbsp;:&nbsp;&nbsp; <strong>Row-wise</strong> maximum indices.\n",
    "- <span style=\"color: blue;\"><strong>axis=0</strong></span> &nbsp;:&nbsp;&nbsp; <strong>Column-wise</strong> maximum indices.\n",
    "  \n",
    "</div>\n",
    "\n",
    "</div>\n",
    "\n",
    "<br>\n",
    "\n",
    "<span style=\"color: #ff5195;\"><font size=\"+2\">↳</font> &nbsp;&nbsp;<strong>Maximum Value Index in a 2D Array</strong></span>"
   ]
  },
  {
   "cell_type": "code",
   "execution_count": 55,
   "id": "d0917ea4-5364-49b8-8572-44f40120377d",
   "metadata": {},
   "outputs": [
    {
     "name": "stdout",
     "output_type": "stream",
     "text": [
      "Index of Maximum Value (Flattened) ------>  6\n",
      "Index of Maximum Value (2D) ------------->  (1, 1)\n",
      "Maximum Value --------------------------->  19\n"
     ]
    }
   ],
   "source": [
    "\n",
    "arr = np.array([[15, 13, 10,  1, 18],\n",
    "                [14, 19, 19, 17,  8]])\n",
    "\n",
    "max_index_flat = np.argmax(arr)                                      # 6    --------->     # finds the index of the maximum value in the flattened array\n",
    "\n",
    "max_index_2d = np.unravel_index(max_index_flat, arr.shape)           # (1, 1)    ---->     # converts the flat index to row and column indices\n",
    "\n",
    "\n",
    "\n",
    "print(\"Index of Maximum Value (Flattened) ------> \", max_index_flat)\n",
    "print(\"Index of Maximum Value (2D) -------------> \", max_index_2d)\n",
    "print(\"Maximum Value ---------------------------> \", arr[max_index_2d])\n"
   ]
  },
  {
   "cell_type": "markdown",
   "id": "d7028a1b-1fa2-4a04-bee3-b15f05257abf",
   "metadata": {},
   "source": [
    "<br>\n",
    "\n",
    "<span style=\"color: #ff5195;\"><font size=\"+2\">↳</font> &nbsp;&nbsp;<strong>Row- or Column-Wise Maximum Value Indices</strong></span>\n",
    "\n",
    "<span style=\"background-color: #92d7ff; color: black;\">&nbsp;STEP - 1&nbsp;</span>"
   ]
  },
  {
   "cell_type": "code",
   "execution_count": 101,
   "id": "c2221781-88b3-4f8e-977c-97a2073eea7f",
   "metadata": {},
   "outputs": [
    {
     "name": "stdout",
     "output_type": "stream",
     "text": [
      "Row-Wise Maximum Indices --------->  [4 1]\n",
      "Column-Wise Maximum Indices ------>  [0 1 1 1 0]\n"
     ]
    }
   ],
   "source": [
    "\n",
    "arr = np.array([[15, 13, 10,  1, 18],\n",
    "                [14, 19, 19, 17,  8]])\n",
    "\n",
    "\n",
    "max_indices_rows = np.argmax(arr, axis=1)                                # Maximum indices along rows\n",
    "max_indices_columns = np.argmax(arr, axis=0)                             # Maximum indices along columns\n",
    "\n",
    "\n",
    "print(\"Row-Wise Maximum Indices ---------> \", max_indices_rows)          # [4  1 ]             ----->      [(0, 4),  (1, 1)]\n",
    "print(\"Column-Wise Maximum Indices ------> \", max_indices_columns)       # [0  1  1  1  0]     ----->      [(0, 0),  (1, 1),  (1, 2),  (1, 3),  (0, 4)]\n"
   ]
  },
  {
   "cell_type": "markdown",
   "id": "321d6115-3feb-4eb3-a0ab-0af0ff94b3e7",
   "metadata": {},
   "source": [
    "<br>\n",
    "\n",
    "<span style=\"background-color: #92d7ff; color: black;\">&nbsp;STEP - 2&nbsp;</span> &nbsp;<span style=\"color: #a245ff;\">Now let's find the coordinates</span>"
   ]
  },
  {
   "cell_type": "code",
   "execution_count": 103,
   "id": "d2a8c18d-07e6-4b19-8d85-918f96b4aab1",
   "metadata": {},
   "outputs": [
    {
     "name": "stdout",
     "output_type": "stream",
     "text": [
      "Row-Wise Maximum Indices  ----------->  [4 1]\n",
      "Row-Wise Maximum Coordinates  ------->  [(0, 4), (1, 1)]\n",
      "\n",
      "Column-Wise Maximum Indices  -------->  [0 1 1 1 0]\n",
      "Column-Wise Maximum Coordinates  ---->  [(0, 0), (1, 1), (1, 2), (1, 3), (0, 4)]\n"
     ]
    }
   ],
   "source": [
    "\n",
    "arr = np.array([[15, 13, 10,  1, 18],\n",
    "                [14, 19, 19, 17,  8]])\n",
    "\n",
    "\n",
    "max_indices_rows = np.argmax(arr, axis=1)                                           # Row-wise maximum indices\n",
    "row_indices = np.arange(arr.shape[0])                                               # [0, 1]\n",
    "row_wise_coordinates = list(zip(row_indices, max_indices_rows))                     # Convert to (row, column) coordinates for row-wise maximum\n",
    "\n",
    "\n",
    "max_indices_columns = np.argmax(arr, axis=0)                                        # Column-wise maximum indices\n",
    "col_indices = np.arange(arr.shape[1])                                               # [0, 1, 2, 3, 4]\n",
    "col_wise_coordinates = list(zip(max_indices_columns, col_indices))                  # Convert to (row, column) coordinates for column-wise maximum\n",
    "\n",
    "\n",
    "print(\"Row-Wise Maximum Indices  -----------> \", max_indices_rows)                  # [4,  1]\n",
    "print(\"Row-Wise Maximum Coordinates  -------> \", row_wise_coordinates)              # [(0, 4),  (1, 1)]\n",
    "\n",
    "\n",
    "print(\"\\nColumn-Wise Maximum Indices  --------> \", max_indices_columns)             # [0,  1,  1,  1,  0]\n",
    "print(\"Column-Wise Maximum Coordinates  ----> \", col_wise_coordinates)              # [(0, 0),  (1, 1),  (1, 2),  (1, 3),  (0, 4)]\n"
   ]
  },
  {
   "cell_type": "markdown",
   "id": "b3f62778-c58d-48af-b609-f9d419187224",
   "metadata": {},
   "source": [
    "<br>\n",
    "\n",
    "<span style=\"background-color: #92d7ff; color: black;\">&nbsp;STEP - 3&nbsp;</span> &nbsp;<span style=\"color: #a245ff;\">To get the maximum element from the indices, use the indices to directly access the elements in the array.</span>"
   ]
  },
  {
   "cell_type": "code",
   "execution_count": 114,
   "id": "ecc9ace0-32a0-4111-826d-a0ce5e838046",
   "metadata": {},
   "outputs": [
    {
     "name": "stdout",
     "output_type": "stream",
     "text": [
      "Row-Wise Maximum Indices  ----------->  [4 1]\n",
      "Row-Wise Maximum Elements  ---------->  [18 19]\n",
      "\n",
      "Column-Wise Maximum Indices  -------->  [0 1 1 1 0]\n",
      "Column-Wise Maximum Elements  ------->  [15 19 19 17 18]\n"
     ]
    }
   ],
   "source": [
    "\n",
    "arr = np.array([[15, 13, 10,  1, 18],\n",
    "                [14, 19, 19, 17,  8]])\n",
    "\n",
    "max_indices_rows = np.argmax(arr, axis=1)                                           # Row-wise maximum indices\n",
    "row_max_elements = arr[np.arange(arr.shape[0]), max_indices_rows]                   # Retrieve row-wise maximum elements using indices\n",
    "\n",
    "\n",
    "max_indices_columns = np.argmax(arr, axis=0)                                        # Column-wise maximum indices\n",
    "col_max_elements = arr[max_indices_columns, np.arange(arr.shape[1])]                # Retrieve column-wise maximum elements using indices\n",
    "\n",
    "\n",
    "print(\"Row-Wise Maximum Indices  -----------> \", max_indices_rows)                  # [4,  1]\n",
    "print(\"Row-Wise Maximum Elements  ----------> \", row_max_elements)                  # [18,  19]\n",
    "\n",
    "\n",
    "print(\"\\nColumn-Wise Maximum Indices  --------> \", max_indices_columns)             # [0,  1,  1,  1,  0]\n",
    "print(\"Column-Wise Maximum Elements  -------> \", col_max_elements)                  # [15,  19,  19,  17,  18]\n"
   ]
  },
  {
   "cell_type": "markdown",
   "id": "97c5284d-b2aa-49b9-9057-cab24ed9bd95",
   "metadata": {
    "jp-MarkdownHeadingCollapsed": true
   },
   "source": [
    "<br>\n",
    "\n",
    "###### <span style=\"font-size: 1rem; color: #ff0080; background-color: white;\"><strong>75. &nbsp; Print &nbsp;the &nbsp;indices &nbsp;of &nbsp;non-zero &nbsp;elements.</span>\n"
   ]
  },
  {
   "cell_type": "code",
   "execution_count": 143,
   "id": "9a2f1757-fad9-49fb-a3eb-1e4ba9b7fd0b",
   "metadata": {},
   "outputs": [
    {
     "name": "stdout",
     "output_type": "stream",
     "text": [
      "Indices of non-zero elements  ------->  [(0, 0), (1, 1), (2, 0), (2, 1)]\n"
     ]
    }
   ],
   "source": [
    "\n",
    "a = np.array([[3, 0, 0], \n",
    "              [0, 4, 0], \n",
    "              [5, 6, 0]])\n",
    "\n",
    "\n",
    "non_zero_indices = np.nonzero(a)                                                 # gets the indices of non-zero elements\n",
    "                                                                                 # (array([0, 1, 2, 2], dtype=int64), array([0, 1, 0, 1], dtype=int64))\n",
    "\n",
    "coordinates = list(zip(non_zero_indices[0], non_zero_indices[1]))                # converts to a list of coordinate pairs\n",
    "\n",
    "print(\"Indices of non-zero elements  -------> \", coordinates)\n"
   ]
  },
  {
   "cell_type": "markdown",
   "id": "33b94895-96a3-4a27-99f2-cfeb527f4b25",
   "metadata": {
    "jp-MarkdownHeadingCollapsed": true
   },
   "source": [
    "<br>\n",
    "\n",
    "###### <span style=\"font-size: 1rem; color: #ff0080; background-color: white;\"><strong>76. &nbsp; Find &nbsp;the &nbsp;mean &nbsp;of &nbsp;the &nbsp;whole &nbsp;numpy &nbsp;array</span>\n"
   ]
  },
  {
   "cell_type": "code",
   "execution_count": 148,
   "id": "04c2569b-444c-48d1-b246-60aab9a73083",
   "metadata": {},
   "outputs": [
    {
     "name": "stdout",
     "output_type": "stream",
     "text": [
      "2.5\n"
     ]
    }
   ],
   "source": [
    "\n",
    "arr = np.array([[1, 2], \n",
    "                [3, 4]])\n",
    "\n",
    "\n",
    "mean = np.mean(a)                          # np.mean(arr, axis=None)     ------->    (1 + 2 + 3 + 4) / 4    =    10 / 4    =   2.5\n",
    "print(mean)\n"
   ]
  },
  {
   "cell_type": "markdown",
   "id": "bfe8e4e6-366e-4fdd-9dc4-1419da2824c4",
   "metadata": {
    "jp-MarkdownHeadingCollapsed": true
   },
   "source": [
    "<br>\n",
    "\n",
    "###### <span style=\"font-size: 1rem; color: #ff0080; background-color: white;\"><strong>77. &nbsp; Find &nbsp;the &nbsp;mean &nbsp;of &nbsp;the &nbsp;numpy &nbsp;array &nbsp;along &nbsp;row-axis</span>\n"
   ]
  },
  {
   "cell_type": "code",
   "execution_count": 152,
   "id": "2833f26f-1b38-472f-a34b-5c70df1d284c",
   "metadata": {},
   "outputs": [
    {
     "name": "stdout",
     "output_type": "stream",
     "text": [
      "[1.5 3.5]\n"
     ]
    }
   ],
   "source": [
    "\n",
    "arr = np.array([[1, 2], \n",
    "                [3, 4]])\n",
    "\n",
    "\n",
    "mean = np.mean(arr, axis=1)                # calculates row-wise mean\n",
    "print(mean)                                #  mean along 1st row       ------>       (1 + 2) / 2  =  1.5 \n",
    "                                           #  mean along 2nd row       ------>       (3 + 4) / 2  =  3.5\n"
   ]
  },
  {
   "cell_type": "markdown",
   "id": "bfcc52ff-c51b-487b-8cc7-e3d84c935d89",
   "metadata": {
    "jp-MarkdownHeadingCollapsed": true
   },
   "source": [
    "<br>\n",
    "\n",
    "###### <span style=\"font-size: 1rem; color: #ff0080; background-color: white;\"><strong>78. &nbsp; Find &nbsp;the &nbsp;mean &nbsp;of &nbsp;the &nbsp;numpy &nbsp;array &nbsp;along &nbsp;column-axis</span>\n"
   ]
  },
  {
   "cell_type": "code",
   "execution_count": 155,
   "id": "5784d181-bb94-40df-8535-2ada5328804d",
   "metadata": {},
   "outputs": [
    {
     "name": "stdout",
     "output_type": "stream",
     "text": [
      "[2. 3.]\n"
     ]
    }
   ],
   "source": [
    "\n",
    "arr = np.array([[1, 2], \n",
    "                [3, 4]])\n",
    "\n",
    "\n",
    "mean = np.mean(arr, axis=0)                # calculates column-wise mean\n",
    "print(mean)                                #  mean along 1st column      ----->      (1 + 3) / 2  =  2\n",
    "                                           #  mean along 2nd column      ----->      (2 + 4) / 2  =  3\n"
   ]
  },
  {
   "cell_type": "markdown",
   "id": "b553ecdc-902e-4418-9ff3-0e7dbfaf5b6c",
   "metadata": {
    "jp-MarkdownHeadingCollapsed": true
   },
   "source": [
    "<br>\n",
    "\n",
    "###### <span style=\"font-size: 1rem; color: #ff0080; background-color: white;\"><strong>79. &nbsp; Find &nbsp;the &nbsp;median &nbsp;of &nbsp;the &nbsp;whole &nbsp;numpy &nbsp;array</span>\n"
   ]
  },
  {
   "cell_type": "markdown",
   "id": "125e94df-6c5e-4b6b-b8ac-48605c2081a7",
   "metadata": {},
   "source": [
    "<br>\n",
    "\n",
    "<code style=\"background-color: yellow; margin-left: 42px;\">np.<span style=\"color: red; font-size: 1rem;\"><strong>median()</strong></span></code>   &nbsp;&nbsp;&nbsp;=======>&nbsp;&nbsp;&nbsp;    Computes the median of the array elements along the specified axis or the entire array if no axis is specified <br>\n",
    "<span style=\"margin-left: 255px;\">The median is the <strong>middle value</strong> when the numbers are <strong>sorted</strong></span><br>\n",
    "<span style=\"margin-left: 255px;\">If the total number of elements is even, it is the average of the two middle numbers</span>\n",
    "\n",
    "<br>\n",
    "\n",
    "<div style=\"margin-left: 253px;\">\n",
    "\n",
    "![](../media/numpy_median.PNG)\n",
    "\n",
    "</div>\n",
    "\n",
    "<br>\n",
    "\n",
    "<strong><span style=\"color: #a245ff;\">CASE 1</span></strong> &nbsp;&nbsp;:&nbsp;&nbsp;&nbsp;<span style=\"color: #ff58d9;\"><strong>even numbers</strong> of elements in total</span>"
   ]
  },
  {
   "cell_type": "code",
   "execution_count": 163,
   "id": "0413fe03-6979-4385-88fe-bbcd68431b4f",
   "metadata": {},
   "outputs": [
    {
     "name": "stdout",
     "output_type": "stream",
     "text": [
      "2.5\n"
     ]
    }
   ],
   "source": [
    "\n",
    "arr = np.array([[1, 2], \n",
    "                [3, 4]])\n",
    "\n",
    "\n",
    "median = np.median(arr)                      # np.median(arr, axis=None)     ---------------->      [1, 2, 3, 4]  ===>  (2 + 3)/2  =  2.5\n",
    "print(median)\n"
   ]
  },
  {
   "cell_type": "markdown",
   "id": "4af606f3-4811-44bf-bc97-dcb4300d39d9",
   "metadata": {},
   "source": [
    "<br>\n",
    "\n",
    "<strong><span style=\"color: #a245ff;\">CASE 2</span></strong> &nbsp;&nbsp;:&nbsp;&nbsp;&nbsp;<span style=\"color: #ff58d9;\"><strong>odd numbers</strong> of elements in total</span>"
   ]
  },
  {
   "cell_type": "code",
   "execution_count": 173,
   "id": "6574ee25-ee5f-48bf-b03a-a2d8ff5406ba",
   "metadata": {},
   "outputs": [
    {
     "name": "stdout",
     "output_type": "stream",
     "text": [
      "5.0\n"
     ]
    }
   ],
   "source": [
    "\n",
    "arr = np.array([[1, 2, 3], \n",
    "                [4, 5, 6],\n",
    "                [7, 8, 9]])\n",
    "\n",
    "\n",
    "median = np.median(arr)                      # np.median(arr, axis=None)     ---------------->      [1, 2, 3, 4, 5, 6, 7, 8, 9]  ===>  5\n",
    "print(median)\n"
   ]
  },
  {
   "cell_type": "markdown",
   "id": "29e2df23-ab06-4895-a64e-3849761dd545",
   "metadata": {
    "jp-MarkdownHeadingCollapsed": true
   },
   "source": [
    "<br>\n",
    "\n",
    "###### <span style=\"font-size: 1rem; color: #ff0080; background-color: white;\"><strong>80. &nbsp; Find &nbsp;the &nbsp;median &nbsp;of &nbsp;the &nbsp;numpy &nbsp;array &nbsp;along &nbsp;row-axis</span>\n"
   ]
  },
  {
   "cell_type": "markdown",
   "id": "1e27dbff-331f-4642-9032-90243ee3b8be",
   "metadata": {},
   "source": [
    "<br>\n",
    "\n",
    "<strong><span style=\"color: #a245ff;\">CASE 1</span></strong> &nbsp;&nbsp;:&nbsp;&nbsp;&nbsp;<span style=\"color: #ff58d9;\"><strong>even numbers</strong> of elements in total</span>"
   ]
  },
  {
   "cell_type": "code",
   "execution_count": 169,
   "id": "6103be1c-70da-4114-aea2-97221bff9fda",
   "metadata": {},
   "outputs": [
    {
     "name": "stdout",
     "output_type": "stream",
     "text": [
      "[1.5 3.5]\n"
     ]
    }
   ],
   "source": [
    "\n",
    "arr = np.array([[1, 2], \n",
    "                [3, 4]])\n",
    "\n",
    "\n",
    "median = np.median(arr, axis=1)\n",
    "print(median)                                # [1, 2]    ======>   (1 + 2) / 2  =  1.5     <----     even number of elements\n",
    "                                             # [3, 4]    ======>   (3 + 4) / 2  =  3.5     <----     even number of elements\n"
   ]
  },
  {
   "cell_type": "markdown",
   "id": "dd7bdd47-5b70-472c-a54f-da9073351f96",
   "metadata": {},
   "source": [
    "<br>\n",
    "\n",
    "<strong><span style=\"color: #a245ff;\">CASE 2</span></strong> &nbsp;&nbsp;:&nbsp;&nbsp;&nbsp;<span style=\"color: #ff58d9;\"><strong>odd numbers</strong> of elements in total</span>"
   ]
  },
  {
   "cell_type": "code",
   "execution_count": 171,
   "id": "1c7c964e-eeaa-4a3f-829d-87ec855a6b0a",
   "metadata": {},
   "outputs": [
    {
     "name": "stdout",
     "output_type": "stream",
     "text": [
      "[2. 5.]\n"
     ]
    }
   ],
   "source": [
    "\n",
    "arr = np.array([[1, 2, 3], \n",
    "                [4, 5, 6]])\n",
    "\n",
    "\n",
    "median = np.median(arr, axis=1)\n",
    "print(median)                                # [1, 2, 3]    ======>    2    <-------------------     odd number of elements\n",
    "                                             # [4, 5, 6]    ======>    5    <-------------------     odd number of elements\n"
   ]
  },
  {
   "cell_type": "markdown",
   "id": "0351f057-0a5e-4af3-9df6-8bdbe28eb414",
   "metadata": {
    "jp-MarkdownHeadingCollapsed": true
   },
   "source": [
    "<br>\n",
    "\n",
    "###### <span style=\"font-size: 1rem; color: #ff0080; background-color: white;\"><strong>81. &nbsp; Find &nbsp;the &nbsp;median &nbsp;of &nbsp;the &nbsp;numpy &nbsp;array &nbsp;along &nbsp;column-axis</span>\n"
   ]
  },
  {
   "cell_type": "markdown",
   "id": "e17cc2b2-8c89-4f92-a215-b82a9bd266fb",
   "metadata": {},
   "source": [
    "<br>\n",
    "\n",
    "<strong><span style=\"color: #a245ff;\">CASE 1</span></strong> &nbsp;&nbsp;:&nbsp;&nbsp;&nbsp;<span style=\"color: #ff58d9;\"><strong>even numbers</strong> of elements in total</span>"
   ]
  },
  {
   "cell_type": "code",
   "execution_count": 175,
   "id": "51cf5d5c-f16b-45d1-a4c1-01426de14deb",
   "metadata": {},
   "outputs": [
    {
     "name": "stdout",
     "output_type": "stream",
     "text": [
      "[2. 3.]\n"
     ]
    }
   ],
   "source": [
    "\n",
    "arr = np.array([[1, 2], \n",
    "                [3, 4]])\n",
    "\n",
    "\n",
    "median = np.median(arr, axis=0)\n",
    "print(median)                                # [1, 3]    ======>   (1 + 3) / 2  =  2     <----     even number of elements\n",
    "                                             # [2, 4]    ======>   (2 + 4) / 2  =  3     <----     even number of elements\n"
   ]
  },
  {
   "cell_type": "markdown",
   "id": "88934612-6c71-4ba4-a10c-b169bff9c4a6",
   "metadata": {},
   "source": [
    "<br>\n",
    "\n",
    "<strong><span style=\"color: #a245ff;\">CASE 2</span></strong> &nbsp;&nbsp;:&nbsp;&nbsp;&nbsp;<span style=\"color: #ff58d9;\"><strong>odd numbers</strong> of elements in total</span>"
   ]
  },
  {
   "cell_type": "code",
   "execution_count": 178,
   "id": "c8285f76-897a-4f34-bc8a-50f5bb0e7110",
   "metadata": {},
   "outputs": [
    {
     "name": "stdout",
     "output_type": "stream",
     "text": [
      "[3. 4.]\n"
     ]
    }
   ],
   "source": [
    "\n",
    "arr = np.array([[1, 2], \n",
    "                [3, 4],\n",
    "                [5, 6]])\n",
    "\n",
    "\n",
    "median = np.median(arr, axis=0)\n",
    "print(median)                                # [1, 3, 5]     ======>     3     <--------------     odd number of elements\n",
    "                                             # [2, 4, 6]     ======>     4     <--------------     odd number of elements\n"
   ]
  },
  {
   "cell_type": "markdown",
   "id": "41a5206b-3867-47e2-af59-0c2e0259b92c",
   "metadata": {
    "jp-MarkdownHeadingCollapsed": true
   },
   "source": [
    "<br>\n",
    "\n",
    "###### <span style=\"font-size: 1rem; color: #ff0080; background-color: white;\"><strong>82. &nbsp; Find &nbsp;the &nbsp;std &nbsp;dev &nbsp;of &nbsp;the &nbsp;whole &nbsp;numpy &nbsp;array</span>\n"
   ]
  },
  {
   "cell_type": "code",
   "execution_count": 180,
   "id": "e3779921-bdad-4f42-8019-e7cffc76cb95",
   "metadata": {},
   "outputs": [
    {
     "name": "stdout",
     "output_type": "stream",
     "text": [
      "1.118033988749895\n"
     ]
    }
   ],
   "source": [
    "\n",
    "arr = np.array([[1, 2], [3, 4]])\n",
    "\n",
    "\n",
    "std_dev = np.std(arr)                        # np.mean(arr, axis=None)\n",
    "print(std_dev)\n"
   ]
  },
  {
   "cell_type": "markdown",
   "id": "d8839e14-3c94-416b-9da9-4486983f69a2",
   "metadata": {
    "jp-MarkdownHeadingCollapsed": true
   },
   "source": [
    "<br>\n",
    "\n",
    "###### <span style=\"font-size: 1rem; color: #ff0080; background-color: white;\"><strong>83. &nbsp; Find &nbsp;the &nbsp;std &nbsp;dev &nbsp;of &nbsp;the &nbsp;numpy &nbsp;array &nbsp;along &nbsp;row-axis</span>\n"
   ]
  },
  {
   "cell_type": "code",
   "execution_count": 182,
   "id": "b59e28b3-7921-436c-9fc3-d34be5211360",
   "metadata": {},
   "outputs": [
    {
     "name": "stdout",
     "output_type": "stream",
     "text": [
      "[0.5 0.5]\n"
     ]
    }
   ],
   "source": [
    "\n",
    "arr = np.array([[1, 2], [3, 4]])\n",
    "\n",
    "\n",
    "std_dev = np.std(arr, axis=1)\n",
    "print(std_dev)\n"
   ]
  },
  {
   "cell_type": "markdown",
   "id": "6cc653fd-3a3e-4071-9757-2803b4970892",
   "metadata": {
    "jp-MarkdownHeadingCollapsed": true
   },
   "source": [
    "<br>\n",
    "\n",
    "###### <span style=\"font-size: 1rem; color: #ff0080; background-color: white;\"><strong>84. &nbsp; Find &nbsp;the &nbsp;std &nbsp;dev &nbsp;of &nbsp;the &nbsp;numpy &nbsp;array &nbsp;along &nbsp;row-axis</span>\n"
   ]
  },
  {
   "cell_type": "code",
   "execution_count": 183,
   "id": "9bf0c30e-6f3e-45a7-affb-bf07a83f9bef",
   "metadata": {},
   "outputs": [
    {
     "name": "stdout",
     "output_type": "stream",
     "text": [
      "[1. 1.]\n"
     ]
    }
   ],
   "source": [
    "\n",
    "arr = np.array([[1, 2], [3, 4]])\n",
    "\n",
    "\n",
    "std_dev = np.std(arr, axis=0)\n",
    "print(std_dev)\n"
   ]
  },
  {
   "cell_type": "markdown",
   "id": "a8f0c44b-d9e3-4c64-bb52-ae740c7bc4fc",
   "metadata": {
    "jp-MarkdownHeadingCollapsed": true
   },
   "source": [
    "<br>\n",
    "\n",
    "###### <span style=\"font-size: 1rem; color: #ff0080; background-color: white;\"><strong>85. &nbsp; Print &nbsp;the &nbsp;data &nbsp;type &nbsp;of &nbsp;the &nbsp;numpy &nbsp;array &nbsp;below</span>\n"
   ]
  },
  {
   "cell_type": "code",
   "execution_count": 190,
   "id": "1bbb1e11-8cd8-4c85-a3b9-b4697cf0f156",
   "metadata": {},
   "outputs": [
    {
     "data": {
      "text/plain": [
       "dtype('int32')"
      ]
     },
     "execution_count": 190,
     "metadata": {},
     "output_type": "execute_result"
    }
   ],
   "source": [
    "\n",
    "arr = np.array([[1, 2, 3], \n",
    "                [4, 5, 6]], np.int32)\n",
    "\n",
    "\n",
    "arr.dtype\n"
   ]
  },
  {
   "cell_type": "markdown",
   "id": "ed9ed153-4865-480e-8352-a3e5db343d93",
   "metadata": {
    "jp-MarkdownHeadingCollapsed": true
   },
   "source": [
    "<br>\n",
    "\n",
    "###### <span style=\"font-size: 1rem; color: #ff0080; background-color: white;\"><strong>86. &nbsp; Print &nbsp;the &nbsp;second &nbsp;element &nbsp;in &nbsp;the &nbsp;first &nbsp;row &nbsp;of &nbsp;a &nbsp;numpy &nbsp;array</span>\n"
   ]
  },
  {
   "cell_type": "code",
   "execution_count": 191,
   "id": "fd781965-cb5f-47a4-b94e-f4d2799c1618",
   "metadata": {},
   "outputs": [
    {
     "name": "stdout",
     "output_type": "stream",
     "text": [
      "2\n"
     ]
    }
   ],
   "source": [
    "\n",
    "arr = np.array([[1, 2, 3], \n",
    "                [4, 5, 6]], np.int32)\n",
    "\n",
    "\n",
    "element = arr[0][1]\n",
    "print(element)\n"
   ]
  },
  {
   "cell_type": "markdown",
   "id": "01bcdbec-8f45-4de7-8715-c8ace93fecfc",
   "metadata": {
    "jp-MarkdownHeadingCollapsed": true
   },
   "source": [
    "<br>\n",
    "\n",
    "###### <span style=\"font-size: 1rem; color: #ff0080; background-color: white;\"><strong>87. &nbsp; Print &nbsp;the &nbsp;first &nbsp;column &nbsp;of &nbsp;a &nbsp;numpy &nbsp;array</span>\n"
   ]
  },
  {
   "cell_type": "markdown",
   "id": "176207db-0246-4565-8b65-dbb13fd8333d",
   "metadata": {},
   "source": [
    "<br>\n",
    "\n",
    "<code style=\"background-color: #debeff; padding: 8px;\">arr<font size=+1>[</font> list_of_x_coordinates, list_of_y_coordinates <font size=+1>]</font></code>  <br>\n",
    "\n",
    "<code style=\"margin-left: 100px; padding: 7px;\">arr<font size=+1>[</font> [x1, x2, x3, ...] , [y1, y2, y3, ...] <font size=+1>]</font></code>  &nbsp;&nbsp;&nbsp;&nbsp;======>&nbsp;&nbsp;&nbsp;&nbsp; <code style=\"padding: 7px;\"><font size=+1>[</font> arr[x1,y1] , arr[x2,y2] , arr[x3,y3] , ... <font size=+1>]</font></code>\n",
    "\n",
    "<br>\n",
    "\n",
    "<strong>Example - 1</strong>"
   ]
  },
  {
   "cell_type": "code",
   "execution_count": 47,
   "id": "18ddeac6-e849-4d79-a7fd-5662dbe362c8",
   "metadata": {},
   "outputs": [
    {
     "name": "stdout",
     "output_type": "stream",
     "text": [
      "[1 4]\n",
      "[2 5]\n",
      "[3 6]\n"
     ]
    }
   ],
   "source": [
    "\n",
    "arr = np.array([[1, 2, 3], \n",
    "                [4, 5, 6]], np.int32)                                        # shape = (2, 3)   ===>   arr.shape[0] = 2   ===>   row indices = [0, 1]\n",
    "\n",
    "\n",
    "\n",
    "first_column = arr[np.arange(arr.shape[0]) , [0] * arr.shape[0]]             # arr[ [0,1] , [0,0] ]     ---->      [ arr[0,0] , arr[1,0] ]\n",
    "print(first_column)\n",
    "\n",
    "second_column = arr[np.arange(arr.shape[0]) , [1] * arr.shape[0]]            # arr[ [0,1] , [1 1] ]     ---->      [ arr[0,1] , arr[1,1] ]  \n",
    "print(second_column)\n",
    "\n",
    "third_column = arr[np.arange(arr.shape[0]) , [2] * arr.shape[0]]             # arr[ [0,1] , [2,2] ]     ---->      [ arr[0,2] , arr[1,2] ]\n",
    "print(third_column)\n"
   ]
  },
  {
   "cell_type": "markdown",
   "id": "3f56d227-e4a5-439d-babc-0cd92f0e73e2",
   "metadata": {},
   "source": [
    "<br>\n",
    "\n",
    "<strong>Example - 2</strong>"
   ]
  },
  {
   "cell_type": "code",
   "execution_count": 12,
   "id": "ae55fa24-61b9-4d84-9b8d-e4c348aad071",
   "metadata": {},
   "outputs": [
    {
     "name": "stdout",
     "output_type": "stream",
     "text": [
      "[1 4 7]\n",
      "[2 5 8]\n",
      "[3 6 9]\n"
     ]
    }
   ],
   "source": [
    "\n",
    "arr = np.array([[1, 2, 3], \n",
    "                [4, 5, 6],\n",
    "                [7, 8, 9]], np.int32)                                        # shape = (3, 3)   ===>   arr.shape[0] = 3   ===>   row indices = [0, 1, 2]\n",
    "\n",
    "\n",
    "first_column = arr[np.arange(arr.shape[0]) , [0] * arr.shape[0]]             # arr[ [0,1,2] , [0,0,0] ]     ---->     [ arr[0,0] , arr[1,0] , arr[2,0] ]\n",
    "print(first_column)\n",
    "\n",
    "second_column = arr[np.arange(arr.shape[0]) , [1] * arr.shape[0]]            # arr[ [0,1,2] , [1,1,1] ]     ---->     [ arr[0,1] , arr[1,1] , arr[2,1] ]\n",
    "print(second_column)\n",
    "\n",
    "third_column = arr[np.arange(arr.shape[0]) , [2] * arr.shape[0]]             # arr[ [0,1,2] , [2,2,2] ]     ---->     [ arr[0,2] , arr[1,2] , arr[2,2] ]\n",
    "print(third_column)\n"
   ]
  },
  {
   "cell_type": "markdown",
   "id": "d54c3b63-1e23-407e-9618-0f113161a069",
   "metadata": {
    "jp-MarkdownHeadingCollapsed": true
   },
   "source": [
    "<br>\n",
    "\n",
    "###### <span style=\"font-size: 1rem; color: #ff0080; background-color: white;\"><strong>88. &nbsp; Print &nbsp;the &nbsp;real &nbsp;part &nbsp;of &nbsp;the &nbsp;NumPy &nbsp;array</span>\n"
   ]
  },
  {
   "cell_type": "code",
   "execution_count": 15,
   "id": "7340d2ed-306a-4939-8764-ba51bd8c9ac8",
   "metadata": {},
   "outputs": [
    {
     "name": "stdout",
     "output_type": "stream",
     "text": [
      "Real part of the array: [3. 2. 5. 7.]\n"
     ]
    }
   ],
   "source": [
    "\n",
    "arr = np.array([3 + 4j, 2 - 1j, 5 + 0j, 7])\n",
    "\n",
    "real_part = arr.real                                                         # Extract and print the real part\n",
    "\n",
    "print(\"Real part of the array:\", real_part)\n"
   ]
  },
  {
   "cell_type": "markdown",
   "id": "7c9f064e-7ff4-472c-a26b-64befba74cfd",
   "metadata": {
    "jp-MarkdownHeadingCollapsed": true
   },
   "source": [
    "<br>\n",
    "\n",
    "###### <span style=\"font-size: 1rem; color: #ff0080; background-color: white;\"><strong>89. &nbsp; Print &nbsp;the &nbsp;imaginary &nbsp;part &nbsp;of &nbsp;the &nbsp;NumPy &nbsp;array</span>\n"
   ]
  },
  {
   "cell_type": "code",
   "execution_count": 19,
   "id": "192af4d3-8a7d-4143-be8e-34d05b15006d",
   "metadata": {},
   "outputs": [
    {
     "name": "stdout",
     "output_type": "stream",
     "text": [
      "Imaginary part of the array: [ 4. -1.  0.  0.]\n"
     ]
    }
   ],
   "source": [
    "\n",
    "arr = np.array([3 + 4j, 2 - 1j, 5 + 0j, 7])\n",
    "\n",
    "imaginary_part = arr.imag                                                    # Extract and print the imaginary part\n",
    "\n",
    "print(\"Imaginary part of the array:\", imaginary_part)\n"
   ]
  },
  {
   "cell_type": "markdown",
   "id": "55a03576-3563-45f3-92a6-93496a1c6cac",
   "metadata": {
    "jp-MarkdownHeadingCollapsed": true
   },
   "source": [
    "<br>\n",
    "\n",
    "###### <span style=\"font-size: 1rem; color: #ff0080; background-color: white;\"><strong>90. &nbsp; Convert &nbsp;the &nbsp;data &nbsp;type &nbsp;from &nbsp;int &nbsp;to &nbsp;float</span> &nbsp;&nbsp;&nbsp;&nbsp;&nbsp;&nbsp;&nbsp;&nbsp;&nbsp;&nbsp;&nbsp;&nbsp;&nbsp;&nbsp;&nbsp;<font size=\"+1\">⭐</font>\n"
   ]
  },
  {
   "cell_type": "markdown",
   "id": "c98dd737-cb16-47a9-bb52-69a6f409e56d",
   "metadata": {},
   "source": [
    "<br>\n",
    "\n",
    "<code style=\"background-color: yellow;\">.astype()</code>  &nbsp;&nbsp;&nbsp;====>&nbsp;&nbsp;&nbsp; converts the data type of a numpy array from one type to another"
   ]
  },
  {
   "cell_type": "code",
   "execution_count": 37,
   "id": "18b61c8d-1122-4cda-b2e9-23b0153155b6",
   "metadata": {},
   "outputs": [
    {
     "name": "stdout",
     "output_type": "stream",
     "text": [
      "Original array  ------------------>  [1 2 3 4 5]\n",
      "Data type of original array  ----->  int32\n",
      "\n",
      "Converted array  ----------------->  [1. 2. 3. 4. 5.]\n",
      "Data type of converted array  ---->  float64\n"
     ]
    }
   ],
   "source": [
    "\n",
    "arr = np.array([1, 2, 3, 4, 5])\n",
    "\n",
    "float_array = arr.astype(float)                                              # Convert the data type to float\n",
    "\n",
    "print(\"Original array  ------------------> \", arr)\n",
    "print(\"Data type of original array  -----> \", arr.dtype)\n",
    "\n",
    "print(\"\\nConverted array  -----------------> \", float_array)\n",
    "print(\"Data type of converted array  ----> \", float_array.dtype)\n"
   ]
  },
  {
   "cell_type": "markdown",
   "id": "08c3b3b0-7e02-4618-bf49-86f448ca3516",
   "metadata": {
    "jp-MarkdownHeadingCollapsed": true
   },
   "source": [
    "<br>\n",
    "\n",
    "###### <span style=\"font-size: 1rem; color: #ff0080; background-color: white;\"><strong>91. &nbsp; Create &nbsp;a &nbsp;copy &nbsp;of &nbsp;the &nbsp;NumPy &nbsp;array</span> &nbsp;&nbsp;&nbsp;&nbsp;&nbsp;&nbsp;&nbsp;&nbsp;&nbsp;&nbsp;&nbsp;&nbsp;&nbsp;&nbsp;&nbsp;<font size=\"+1\">⭐</font>\n"
   ]
  },
  {
   "cell_type": "markdown",
   "id": "c8b2297f-5aee-4d70-af4e-5cf08c066696",
   "metadata": {},
   "source": [
    "<br>\n",
    "\n",
    "<code style=\"background-color: yellow;\">.copy()</code>"
   ]
  },
  {
   "cell_type": "code",
   "execution_count": 45,
   "id": "ee167eda-89de-42ca-b133-2c98fbd2c707",
   "metadata": {},
   "outputs": [
    {
     "name": "stdout",
     "output_type": "stream",
     "text": [
      "Original array ----->  [1 2 3 4 5]\n",
      "Copied array ------->  [99  2  3  4  5]\n"
     ]
    }
   ],
   "source": [
    "\n",
    "original_array = np.array([1, 2, 3, 4, 5])\n",
    "\n",
    "copied_array = original_array.copy()\n",
    "\n",
    "copied_array[0] = 99                                                         # modifying the copied array will not change the original array\n",
    "\n",
    "print(\"Original array -----> \", original_array)\n",
    "print(\"Copied array -------> \", copied_array)\n"
   ]
  },
  {
   "cell_type": "markdown",
   "id": "dba1ade5-988c-46f6-b068-dc4b8e5b0a9f",
   "metadata": {
    "jp-MarkdownHeadingCollapsed": true
   },
   "source": [
    "<br>\n",
    "\n",
    "###### <span style=\"font-size: 1rem; color: #ff0080; background-color: white;\"><strong>92. &nbsp; Print &nbsp;the &nbsp;diagonal &nbsp;of &nbsp;the &nbsp;NumPy &nbsp;array</span>\n"
   ]
  },
  {
   "cell_type": "markdown",
   "id": "f456212a-3702-4c49-9063-c3a41c8dc599",
   "metadata": {},
   "source": [
    "<br>\n",
    "\n",
    "<code style=\"background-color: yellow;\">np.<span style=\"color: red; font-size: 1rem;\"><strong>diagonal</strong>(</span>arr<span style=\"color: red; font-size: 1rem;\">)</span></code> &nbsp;function &nbsp;&nbsp;&nbsp;&nbsp;&&nbsp;&nbsp;&nbsp;&nbsp; <code style=\"background-color: yellow;\">ndarray.<span style=\"font-size: 1rem; color: red;\"><strong>diagonal()</strong></span></code> &nbsp;method &nbsp;&nbsp;&nbsp;&nbsp;&nbsp;====>&nbsp;&nbsp;&nbsp;&nbsp; extract the elements along the main diagonal of a <strong>2D array</strong>\n",
    "\n",
    "<br>\n",
    "\n",
    "<strong>Example - 1</strong>"
   ]
  },
  {
   "cell_type": "code",
   "execution_count": 52,
   "id": "d1b6c6fc-16cb-4707-b2d0-6482eb71b12c",
   "metadata": {},
   "outputs": [
    {
     "name": "stdout",
     "output_type": "stream",
     "text": [
      "[1 5]\n"
     ]
    }
   ],
   "source": [
    "\n",
    "arr = np.array([[1, 2, 3], \n",
    "                [4, 5, 6]])\n",
    "\n",
    "\n",
    "diagonal = arr.diagonal()                                                    # np.diagonal(arr)\n",
    "print(diagonal)\n"
   ]
  },
  {
   "cell_type": "markdown",
   "id": "eac68775-5935-4aae-a9f1-cf801fbca0d6",
   "metadata": {},
   "source": [
    "<br>\n",
    "\n",
    "<strong>Example - 2</strong>"
   ]
  },
  {
   "cell_type": "code",
   "execution_count": 54,
   "id": "c8f7f594-504e-4489-91cd-2e35f93e1231",
   "metadata": {},
   "outputs": [
    {
     "name": "stdout",
     "output_type": "stream",
     "text": [
      "[1 5 9]\n"
     ]
    }
   ],
   "source": [
    "\n",
    "arr = np.array([[1, 2, 3], \n",
    "                [4, 5, 6],\n",
    "                [7, 8, 9]])\n",
    "\n",
    "\n",
    "diagonal = arr.diagonal()                                                    # np.diagonal(arr)\n",
    "print(diagonal)\n"
   ]
  },
  {
   "cell_type": "markdown",
   "id": "142ccfe4-6ee0-4584-92d3-0e2ca9f44ad4",
   "metadata": {
    "jp-MarkdownHeadingCollapsed": true
   },
   "source": [
    "<br>\n",
    "\n",
    "###### <span style=\"font-size: 1rem; color: #ff0080; background-color: white;\"><strong>93. &nbsp; Change &nbsp;the &nbsp;value &nbsp;of &nbsp;third &nbsp;element &nbsp;in &nbsp;2nd &nbsp;row &nbsp;to &nbsp;10</span>\n"
   ]
  },
  {
   "cell_type": "code",
   "execution_count": 58,
   "id": "489c313a-d0ff-470d-bc59-0a2c1d07ed7a",
   "metadata": {},
   "outputs": [
    {
     "name": "stdout",
     "output_type": "stream",
     "text": [
      "[[ 1  2  3]\n",
      " [ 4  5 10]]\n"
     ]
    }
   ],
   "source": [
    "\n",
    "arr = np.array([[1, 2, 3], \n",
    "                [4, 5, 6]])\n",
    "\n",
    "\n",
    "arr[1][2] = 10\n",
    "\n",
    "print(arr)"
   ]
  },
  {
   "cell_type": "markdown",
   "id": "b8c2484c-74bc-4006-8c7f-95f329771a13",
   "metadata": {
    "jp-MarkdownHeadingCollapsed": true
   },
   "source": [
    "<br>\n",
    "\n",
    "###### <span style=\"font-size: 1rem; color: #ff0080; background-color: white;\"><strong>94. &nbsp; Create &nbsp;a &nbsp;numpy &nbsp;array &nbsp;of &nbsp;ones &nbsp;with &nbsp;the &nbsp;same &nbsp;shape &nbsp;as &nbsp;the &nbsp;array &nbsp;'a'</span>\n"
   ]
  },
  {
   "cell_type": "markdown",
   "id": "2ea74618-10bd-4042-a753-0c4a714d8cb1",
   "metadata": {},
   "source": [
    "<br>\n",
    "\n",
    "<code style=\"background-color: yellow;\">np.<span style=\"color: red;\"><span style=\"font-size: 1rem;\"><span style=\"color: red; font-size: 1rem;\"><strong>ones_like</strong></span>(</span><span style=\"color: black;\">arr</span><span style=\"font-size: 1rem;\"><span style=\"color: red; font-size: 1rem;\">)</span></span></span></code> &nbsp;&nbsp;&nbsp;======>&nbsp;&nbsp;&nbsp; creates an array of <strong>ones</strong> with the <span style=\"color: blue;\"><u>same shape</u></span> and <span style=\"color: blue;\"><u>data type</u></span> as the input array\n"
   ]
  },
  {
   "cell_type": "code",
   "execution_count": 62,
   "id": "8e787654-d801-43e4-a729-212478699c71",
   "metadata": {},
   "outputs": [
    {
     "name": "stdout",
     "output_type": "stream",
     "text": [
      "[[1 1 1]\n",
      " [1 1 1]]\n"
     ]
    }
   ],
   "source": [
    "\n",
    "arr = np.array([[1, 2, 3], \n",
    "                [4, 5, 6]])\n",
    "\n",
    "\n",
    "np_array = np.ones_like(arr)\n",
    "print(np_array)\n"
   ]
  },
  {
   "cell_type": "markdown",
   "id": "cfeb7ad0-4ae7-4050-8483-d4a5b6a3b584",
   "metadata": {
    "jp-MarkdownHeadingCollapsed": true
   },
   "source": [
    "<br>\n",
    "\n",
    "###### <span style=\"font-size: 1rem; color: #ff0080; background-color: white;\"><strong>95. &nbsp; Create &nbsp;a &nbsp;numpy &nbsp;array &nbsp;of &nbsp;zeros &nbsp;with &nbsp;the &nbsp;same &nbsp;shape &nbsp;as &nbsp;the &nbsp;array &nbsp;'a' </span>\n",
    "\n"
   ]
  },
  {
   "cell_type": "markdown",
   "id": "aeefbbe0-00a4-45f2-b406-0bacb3417274",
   "metadata": {},
   "source": [
    "<br>\n",
    "\n",
    "<code style=\"background-color: yellow;\">np.<span style=\"color: red;\"><span style=\"font-size: 1rem;\"><span style=\"color: red; font-size: 1rem;\"><strong>zeros_like</strong></span>(</span><span style=\"color: black;\">arr</span><span style=\"font-size: 1rem;\"><span style=\"color: red; font-size: 1rem;\">)</span></span></span></code> &nbsp;&nbsp;&nbsp;======>&nbsp;&nbsp;&nbsp; creates an array of <strong>zeros</strong> with the <span style=\"color: blue;\"><u>same shape</u></span> and <span style=\"color: blue;\"><u>data type</u></span> as the input array"
   ]
  },
  {
   "cell_type": "code",
   "execution_count": 64,
   "id": "802393fb-5cdb-4175-b948-5e826fdb2b2b",
   "metadata": {},
   "outputs": [
    {
     "name": "stdout",
     "output_type": "stream",
     "text": [
      "[[0 0 0]\n",
      " [0 0 0]]\n"
     ]
    }
   ],
   "source": [
    "\n",
    "arr = np.array([[1, 2, 3], \n",
    "                [4, 5, 6]])\n",
    "\n",
    "\n",
    "np_array = np.zeros_like(arr)\n",
    "print(np_array)\n"
   ]
  },
  {
   "cell_type": "markdown",
   "id": "77808faf-2683-4ed2-a527-03bc40229aa9",
   "metadata": {
    "jp-MarkdownHeadingCollapsed": true
   },
   "source": [
    "<br>\n",
    "\n",
    "###### <span style=\"font-size: 1rem; color: #ff0080; background-color: white;\"><strong>96. &nbsp; Print &nbsp;the &nbsp;sum &nbsp;of &nbsp;the &nbsp;diagonal &nbsp;elements. </span>\n"
   ]
  },
  {
   "cell_type": "markdown",
   "id": "1bee87c6-4e5b-4e4a-b91e-7fb2e8af501e",
   "metadata": {},
   "source": [
    "<br>\n",
    "\n",
    "<span style=\"color: #a245ff;\">The sum of diagonal elements is also called its <strong>trace</strong>.</span>"
   ]
  },
  {
   "cell_type": "code",
   "execution_count": 77,
   "id": "adcae248-cfd8-4030-855f-53c37ab4b27d",
   "metadata": {},
   "outputs": [
    {
     "name": "stdout",
     "output_type": "stream",
     "text": [
      "6\n"
     ]
    }
   ],
   "source": [
    "\n",
    "arr = np.array([[1, 2, 3], \n",
    "              [4, 5, 6]])\n",
    "\n",
    "\n",
    "trace = np.diagonal(arr).sum()                                # np.sum(np.diagonal(arr))\n",
    "print(trace)\n"
   ]
  },
  {
   "cell_type": "markdown",
   "id": "8fee604a-ee22-4d32-b823-d3e3c72d64a9",
   "metadata": {
    "jp-MarkdownHeadingCollapsed": true
   },
   "source": [
    "<br>\n",
    "\n",
    "###### <span style=\"font-size: 1rem; color: #ff0080; background-color: white;\"><strong>97. &nbsp; Check &nbsp;whether &nbsp;all &nbsp;the &nbsp;elements &nbsp;of &nbsp;the &nbsp;array &nbsp;are &nbsp;finite &nbsp;or &nbsp;not  </span> &nbsp;&nbsp;&nbsp;&nbsp;&nbsp;&nbsp;&nbsp;&nbsp;&nbsp;&nbsp;&nbsp;&nbsp;&nbsp;&nbsp;&nbsp;<font size=\"+1\">⭐</font>\n"
   ]
  },
  {
   "cell_type": "markdown",
   "id": "ff341ee2-d7b2-4bb4-904a-856c56dc4d1c",
   "metadata": {},
   "source": [
    "<br>\n",
    "\n",
    "<span style=\"color: #a245ff;\">To check whether all elements of a NumPy array are finite (i.e., <strong>not infinite</strong> &nbsp;or&nbsp; <strong>NaN</strong>), you can use the &nbsp;<code style=\"background-color: yellow;\">np.<span style=\"color: red; font-size: 1rem;\"><strong>isfinite()</strong></span></code>&nbsp; function in combination with &nbsp;<code style=\"background-color: yellow;\">np.<span style=\"color: red; font-size: 1rem;\"><strong>all()</strong></span></code></span>\n",
    "\n",
    "<br>\n",
    "\n",
    "<span style=\"background-color: #92d7ff; color: black;\">&nbsp;STEP - 1&nbsp;</span>"
   ]
  },
  {
   "cell_type": "code",
   "execution_count": 86,
   "id": "3f8459ed-fb05-4be7-b0a4-19d37ddd71bc",
   "metadata": {},
   "outputs": [
    {
     "data": {
      "text/plain": [
       "array([ True,  True, False,  True, False])"
      ]
     },
     "execution_count": 86,
     "metadata": {},
     "output_type": "execute_result"
    }
   ],
   "source": [
    "\n",
    "arr = np.array([1, 2, np.inf, 4, np.nan])\n",
    "\n",
    "np.isfinite(arr)\n"
   ]
  },
  {
   "cell_type": "markdown",
   "id": "ca66bd9d-e63d-4ecc-b180-ed2a529a496f",
   "metadata": {},
   "source": [
    "<br>\n",
    "\n",
    "<span style=\"background-color: #92d7ff; color: black;\">&nbsp;STEP - 2&nbsp;</span>"
   ]
  },
  {
   "cell_type": "code",
   "execution_count": 85,
   "id": "14c29980-041f-4703-a602-ae37ec708181",
   "metadata": {},
   "outputs": [
    {
     "name": "stdout",
     "output_type": "stream",
     "text": [
      "Original array --------------->  [ 1.  2. inf  4. nan]\n",
      "Are all elements finite ------>  False\n"
     ]
    }
   ],
   "source": [
    "\n",
    "arr = np.array([1, 2, np.inf, 4, np.nan])\n",
    "\n",
    "\n",
    "are_all_finite = np.all(np.isfinite(arr))                     # to check if all elements are finite\n",
    "\n",
    "\n",
    "print(\"Original array ---------------> \", arr)\n",
    "print(\"Are all elements finite ------> \", are_all_finite)\n"
   ]
  },
  {
   "cell_type": "markdown",
   "id": "3a11b116-98c8-4c4b-a1d0-ae0d15c009e9",
   "metadata": {},
   "source": [
    "<br>\n",
    "\n",
    "<div style=\"margin-left: 85px;\">\n",
    "\n",
    "<br>\n",
    "\n",
    "<code style=\"background-color: #debeff; margin-left: 5px;\">np.nan</code> &nbsp;(<strong>Not a Number</strong>)&nbsp;&nbsp;&nbsp; ====>&nbsp;&nbsp;&nbsp;   represents undefined or unrepresentable values, such as &nbsp;<code style=\"background-color: #eeddff;\">0/0</code>&nbsp; or &nbsp;<code style=\"background-color: #eeddff;\">√-1</code>&nbsp; in real numbers   <br>\n",
    "\n",
    "<code style=\"background-color: #debeff; margin-left: 5px;\">np.inf</code> &nbsp;(<strong>Infinity</strong>)&nbsp;&nbsp;&nbsp; =========>&nbsp;&nbsp;&nbsp;   represents positive or negative infinity, commonly resulting from operations like division by zero ( <code style=\"background-color: #eeddff;\">1/0</code> )\n",
    "\n",
    "<br>\n",
    "\n",
    "![](../media/numpy_inf_nan.PNG)\n",
    "\n",
    "</div>"
   ]
  },
  {
   "cell_type": "markdown",
   "id": "52bd3276-fe62-4520-9140-e9944c30abee",
   "metadata": {
    "jp-MarkdownHeadingCollapsed": true
   },
   "source": [
    "\n",
    "<br>\n",
    "\n",
    "###### <span style=\"font-size: 1rem; color: #ff0080; background-color: white;\"><strong>98. &nbsp; Check &nbsp;whether &nbsp;the &nbsp;two &nbsp;numpy &nbsp;arrays &nbsp;are &nbsp;equal &nbsp;or &nbsp;not</span> &nbsp;&nbsp;&nbsp;&nbsp;&nbsp;&nbsp;&nbsp;&nbsp;&nbsp;&nbsp;&nbsp;&nbsp;&nbsp;&nbsp;&nbsp;<font size=\"+1\">⭐</font>\n"
   ]
  },
  {
   "cell_type": "markdown",
   "id": "3f9ada08-8ab7-46f2-bd90-6e58cdbca480",
   "metadata": {},
   "source": [
    "<br>\n",
    "\n",
    "<span style=\"color: blue;\">To check whether two NumPy arrays are equal or not, you can use :</span> <br>\n",
    "\n",
    "&nbsp;&nbsp;&nbsp;&nbsp;&nbsp;&nbsp;&nbsp;&nbsp;&nbsp;&nbsp;&nbsp;<code style=\"background-color: yellow; font-size: 0.85rem; padding: 3px;\">np.<span style=\"color: red;\"><strong>array_equal()</strong></span></code>&nbsp; for an <span style=\"color: blue;\"><strong>exact comparison</strong></span>    <br><br>\n",
    "&nbsp;&nbsp;&nbsp;&nbsp;&nbsp;&nbsp;&nbsp;&nbsp;&nbsp;&nbsp;&nbsp;<code style=\"background-color: yellow; font-size: 0.85rem; padding: 3px;\">np.<span style=\"color: red;\"><strong>allclose()</strong></span></code>&nbsp; if you want to <span style=\"color: blue;\">allow for <strong>some tolerance</strong> in <u>numerical differences</u></span>\n",
    "\n",
    "<br>\n",
    "\n",
    "<span style=\"color: #a245ff;\">CASE - 1 &nbsp;( <span style=\"color: black;\"><strong>Exact Equality</strong></span> ) :</span>"
   ]
  },
  {
   "cell_type": "code",
   "execution_count": 94,
   "id": "2b6bf753-3377-4b65-96c6-8cda8d7daaa6",
   "metadata": {},
   "outputs": [
    {
     "name": "stdout",
     "output_type": "stream",
     "text": [
      "Are array1 and array2 equal? ----->  True\n",
      "Are array1 and array3 equal? ----->  False\n"
     ]
    }
   ],
   "source": [
    "\n",
    "array1 = np.array([1, 2, 3, 4, 5])\n",
    "array2 = np.array([1, 2, 3, 4, 5])\n",
    "array3 = np.array([1, 2, 3, 4, 6])\n",
    "\n",
    "\n",
    "# Check if arrays are equal\n",
    "are_equal1 = np.array_equal(array1, array2)\n",
    "are_equal2 = np.array_equal(array1, array3)\n",
    "\n",
    "\n",
    "print(\"Are array1 and array2 equal? -----> \", are_equal1)                               # True\n",
    "print(\"Are array1 and array3 equal? -----> \", are_equal2)                               # False\n"
   ]
  },
  {
   "cell_type": "markdown",
   "id": "817ed2bf-627b-4717-b548-cb86fe0ec4f4",
   "metadata": {},
   "source": [
    "<br>\n",
    "\n",
    "<span style=\"color: #a245ff;\">CASE - 2 &nbsp;( <span style=\"color: black;\"><strong>Equality with Tolerance</strong></span> ) :</span>"
   ]
  },
  {
   "cell_type": "code",
   "execution_count": 93,
   "id": "73376685-9aed-40e3-9df6-5adcd5dc4669",
   "metadata": {},
   "outputs": [
    {
     "name": "stdout",
     "output_type": "stream",
     "text": [
      "Are array4 and array5 approximately equal? ------>  True\n"
     ]
    }
   ],
   "source": [
    "\n",
    "# Define arrays with slight differences\n",
    "array4 = np.array([1.0, 2.0, 3.00001, 4.0, 5.0])\n",
    "array5 = np.array([1.0, 2.0, 3.0, 4.0, 5.0])\n",
    "\n",
    "\n",
    "# Check if arrays are close within a tolerance\n",
    "are_close = np.allclose(array4, array5, atol=1e-4)\n",
    "\n",
    "\n",
    "print(\"Are array4 and array5 approximately equal? ------> \", are_close)                 # True\n"
   ]
  },
  {
   "cell_type": "markdown",
   "id": "c9106f61-f9ff-4c44-8f33-2a45419a2019",
   "metadata": {
    "jp-MarkdownHeadingCollapsed": true
   },
   "source": [
    "\n",
    "<br>\n",
    "\n",
    "###### <span style=\"font-size: 1rem; color: #ff0080; background-color: white;\"><strong>99. &nbsp; Sum &nbsp;of &nbsp;array &nbsp;elements</span>\n"
   ]
  },
  {
   "cell_type": "code",
   "execution_count": 126,
   "id": "9eee2aeb-0ccb-4a60-9644-a028b3b0b4ea",
   "metadata": {},
   "outputs": [
    {
     "name": "stdout",
     "output_type": "stream",
     "text": [
      "Array:\n",
      " [[1 2 3]\n",
      " [4 5 6]]\n",
      "Total sum of elements ------>  21\n",
      "Sum along rows ------------->  [ 6 15]\n",
      "Sum along columns ---------->  [5 7 9]\n"
     ]
    }
   ],
   "source": [
    "\n",
    "arr = np.array([[1, 2, 3], \n",
    "                [4, 5, 6]])\n",
    "\n",
    "\n",
    "total_sum = np.sum(arr)                                                    # computes the sum of all elements\n",
    "\n",
    "row_sum = np.sum(arr, axis=1)                                              # computes the sum along rows (axis=1)\n",
    "\n",
    "column_sum = np.sum(arr, axis=0)                                           # computes the sum along columns (axis=0)\n",
    "\n",
    "\n",
    "print(\"Array:\\n\", arr)\n",
    "print(\"Total sum of elements ------> \", total_sum)\n",
    "print(\"Sum along rows -------------> \", row_sum)\n",
    "print(\"Sum along columns ----------> \", column_sum)\n"
   ]
  },
  {
   "cell_type": "markdown",
   "id": "4e98b2c1-e26b-48dd-b10f-78ba17969378",
   "metadata": {
    "jp-MarkdownHeadingCollapsed": true
   },
   "source": [
    "<br>\n",
    "\n",
    "###### <span style=\"font-size: 1rem; color: #ff0080; background-color: white;\"><strong>100. &nbsp; Find &nbsp;the &nbsp;sum &nbsp;ignoring &nbsp;the &nbsp;nan &nbsp;elements</span> &nbsp;&nbsp;&nbsp;&nbsp;&nbsp;&nbsp;&nbsp;&nbsp;&nbsp;&nbsp;&nbsp;&nbsp;&nbsp;&nbsp;&nbsp;<font size=\"+1\">⭐</font>\n"
   ]
  },
  {
   "cell_type": "markdown",
   "id": "bcb87539-fa80-4110-a295-209b428c407b",
   "metadata": {},
   "source": [
    "<br>\n",
    "\n",
    "<code style=\"background-color: yellow; padding: 6px;\">numpy.<span style=\"color: red;\"><span style=\"font-size: 1rem;\"><strong>nansum(</strong></span><span style=\"color: black;\">arr</span>, <span style=\"color: black;\">axis</span><span style=\"color: #9b96a1;\">=None</span><span style=\"font-size: 1rem;\"><strong>)</strong></span></code> <span style=\"color: blue;\">&nbsp;&nbsp;&nbsp;&nbsp;========>&nbsp;&nbsp;&nbsp;&nbsp; <u>ignores <strong>NaN</strong> values</u> while computing the sum of elements of a numpy array along a given axis</span>\n"
   ]
  },
  {
   "cell_type": "code",
   "execution_count": 103,
   "id": "d590538f-5530-41c3-8a91-504225f880c7",
   "metadata": {},
   "outputs": [
    {
     "name": "stdout",
     "output_type": "stream",
     "text": [
      "Array:\n",
      " [[ 1.  2. nan]\n",
      " [ 4. nan  6.]]\n",
      "Total sum ignoring NaN values  ------------->  13.0\n",
      "Sum along rows ignoring NaN values  -------->  [ 3. 10.]\n",
      "Sum along columns ignoring NaN values  ----->  [5. 2. 6.]\n"
     ]
    }
   ],
   "source": [
    "\n",
    "arr = np.array([[1, 2, np.nan], \n",
    "                [4, np.nan, 6]])                                           # defines a NumPy array with NaN values\n",
    "\n",
    "\n",
    "total_sum = np.nansum(arr)                                                 # computes the sum ignoring NaN values\n",
    "\n",
    "row_sum = np.nansum(arr, axis=1)                                           # computes the sum along rows (axis=1), ignoring NaN values\n",
    "\n",
    "column_sum = np.nansum(arr, axis=0)                                        # computes the sum along columns (axis=0), ignoring NaN values\n",
    "\n",
    "\n",
    "print(\"Array:\\n\", arr)\n",
    "print(\"Total sum ignoring NaN values  -------------> \", total_sum)\n",
    "print(\"Sum along rows ignoring NaN values  --------> \", row_sum)\n",
    "print(\"Sum along columns ignoring NaN values  -----> \", column_sum)\n"
   ]
  },
  {
   "cell_type": "markdown",
   "id": "615692f8-64a5-4dd2-b964-d6c1388dd031",
   "metadata": {
    "jp-MarkdownHeadingCollapsed": true
   },
   "source": [
    "<br>\n",
    "\n",
    "###### <span style=\"font-size: 1rem; color: #ff0080; background-color: white;\"><strong>101. &nbsp; Find &nbsp;the &nbsp;product &nbsp;ignoring &nbsp;the &nbsp;nan &nbsp;elements</span>\n"
   ]
  },
  {
   "cell_type": "markdown",
   "id": "7328517f-ed3c-41cf-91e4-e55395b68ab4",
   "metadata": {},
   "source": [
    "<br>\n",
    "\n",
    "<code style=\"background-color: yellow; padding: 6px;\">numpy.<span style=\"color: red;\"><span style=\"font-size: 1rem;\"><strong>nanprod(</strong></span><span style=\"color: black;\">arr</span>, <span style=\"color: black;\">axis</span><span style=\"color: #9b96a1;\">=None</span><span style=\"font-size: 1rem;\"><strong>)</strong></span></code> <span style=\"color: blue;\">&nbsp;&nbsp;&nbsp;&nbsp;========>&nbsp;&nbsp;&nbsp;&nbsp; <u>ignores <strong>NaN</strong> values</u> while computing the product of elements of a numpy array along a given axis</span>\n"
   ]
  },
  {
   "cell_type": "code",
   "execution_count": 116,
   "id": "469c0e04-f986-4df0-966e-1665fffbe364",
   "metadata": {},
   "outputs": [
    {
     "name": "stdout",
     "output_type": "stream",
     "text": [
      "Array:\n",
      " [[ 1.  2. nan]\n",
      " [ 4. nan  6.]]\n",
      "Total sum ignoring NaN values  ------------->  48.0\n",
      "Sum along rows ignoring NaN values  -------->  [ 2. 24.]\n",
      "Sum along columns ignoring NaN values  ----->  [4. 2. 6.]\n"
     ]
    }
   ],
   "source": [
    "\n",
    "arr = np.array([[1, 2, np.nan], \n",
    "                [4, np.nan, 6]])                                            # defines a NumPy array with NaN values\n",
    "\n",
    "\n",
    "total_sum = np.nanprod(arr)                                                 # computes the product ignoring NaN values\n",
    "\n",
    "row_sum = np.nanprod(arr, axis=1)                                           # computes the product along rows (axis=1), ignoring NaN values\n",
    "\n",
    "column_sum = np.nanprod(arr, axis=0)                                        # computes the product along columns (axis=0), ignoring NaN values\n",
    "\n",
    "\n",
    "print(\"Array:\\n\", arr)\n",
    "print(\"Total sum ignoring NaN values  -------------> \", total_sum)\n",
    "print(\"Sum along rows ignoring NaN values  --------> \", row_sum)\n",
    "print(\"Sum along columns ignoring NaN values  -----> \", column_sum)\n"
   ]
  },
  {
   "cell_type": "markdown",
   "id": "69aa6e03-bfc5-4cd8-a932-863354cef854",
   "metadata": {
    "jp-MarkdownHeadingCollapsed": true
   },
   "source": [
    "<br>\n",
    "\n",
    "###### <span style=\"font-size: 1rem; color: #ff0080; background-color: white;\"><strong>102. &nbsp; Find &nbsp;the &nbsp;element-wise &nbsp;absolute &nbsp;value</span>\n"
   ]
  },
  {
   "cell_type": "markdown",
   "id": "398abe36-e221-4ecd-80c1-74dc37940edb",
   "metadata": {},
   "source": [
    "<br>\n",
    "\n",
    "<code style=\"background-color: yellow; padding: 6px;\">numpy.<span style=\"color: red;\"><span style=\"font-size: 1rem;\"><strong>abs(</strong></span><span style=\"color: black;\">arr</span><span style=\"font-size: 1rem;\"><strong>)</strong></span></code>\n"
   ]
  },
  {
   "cell_type": "code",
   "execution_count": 125,
   "id": "4ae46721-d359-4013-b1e0-e295f1a98ce5",
   "metadata": {},
   "outputs": [
    {
     "name": "stdout",
     "output_type": "stream",
     "text": [
      "Original array:\n",
      " [[-1  2 -3]\n",
      " [ 4 -5  6]]\n",
      "\n",
      "Element-wise absolute values:\n",
      " [[1 2 3]\n",
      " [4 5 6]]\n"
     ]
    }
   ],
   "source": [
    "\n",
    "arr = np.array([[-1, 2, -3], \n",
    "                [4, -5, 6]])                                                # defines a NumPy array with positive and negative elements\n",
    "\n",
    "\n",
    "absolute_values = np.abs(arr)                                               # computes the element-wise absolute value\n",
    "\n",
    "\n",
    "print(\"Original array:\\n\", arr)\n",
    "print(\"\\nElement-wise absolute values:\\n\", absolute_values)\n"
   ]
  },
  {
   "cell_type": "markdown",
   "id": "181c77c3-d74a-4d77-ab63-8360c34de6d8",
   "metadata": {
    "jp-MarkdownHeadingCollapsed": true
   },
   "source": [
    "<br>\n",
    "\n",
    "###### <span style=\"font-size: 1rem; color: #ff0080; background-color: white;\"><strong>103. &nbsp; Count &nbsp;the &nbsp;number &nbsp;of &nbsp;non-zero &nbsp;elements</span> &nbsp;&nbsp;&nbsp;&nbsp;&nbsp;&nbsp;&nbsp;&nbsp;&nbsp;&nbsp;&nbsp;&nbsp;&nbsp;&nbsp;&nbsp;<font size=\"+1\">⭐</font>\n"
   ]
  },
  {
   "cell_type": "markdown",
   "id": "715ca7a2-4358-487f-b672-e7fa413ed59c",
   "metadata": {},
   "source": [
    "<br>\n",
    "\n",
    "<code style=\"background-color: yellow; padding: 6px;\">numpy.<span style=\"color: red;\"><span style=\"font-size: 1rem;\"><strong>count_nonzero(</strong></span><span style=\"color: black;\">arr</span>, <span style=\"color: black;\">axis</span><span style=\"font-size: 1rem;\"><strong>)</strong></span></code>  &nbsp;&nbsp;&nbsp;&nbsp;======>&nbsp;&nbsp;&nbsp;&nbsp;  counts the number of non-zero elements in a NumPy array"
   ]
  },
  {
   "cell_type": "code",
   "execution_count": 122,
   "id": "15679339-bc32-4d95-b76c-508478966666",
   "metadata": {},
   "outputs": [
    {
     "name": "stdout",
     "output_type": "stream",
     "text": [
      "Array:\n",
      " [[1 0 3]\n",
      " [0 0 6]\n",
      " [7 8 0]]\n",
      "Total non-zero elements  ------------->  5\n",
      "Non-zero elements along rows  -------->  [2 1 2]\n",
      "Non-zero elements along columns  ----->  [2 1 2]\n"
     ]
    }
   ],
   "source": [
    "\n",
    "arr = np.array([[1, 0, 3], \n",
    "                [0, 0, 6], \n",
    "                [7, 8, 0]])\n",
    "\n",
    "\n",
    "total_nonzero = np.count_nonzero(arr)                                       # counts the total number of non-zero elements\n",
    "\n",
    "row_nonzero = np.count_nonzero(arr, axis=1)                                 # counts non-zero elements along rows\n",
    "\n",
    "column_nonzero = np.count_nonzero(arr, axis=0)                              # counts non-zero elements along columns\n",
    "\n",
    "\n",
    "print(\"Array:\\n\", arr)\n",
    "print(\"Total non-zero elements  -------------> \", total_nonzero)\n",
    "print(\"Non-zero elements along rows  --------> \", row_nonzero)\n",
    "print(\"Non-zero elements along columns  -----> \", column_nonzero)\n"
   ]
  },
  {
   "cell_type": "markdown",
   "id": "430dd1c6-79ff-4d6b-90cb-d698247e0d2e",
   "metadata": {
    "jp-MarkdownHeadingCollapsed": true
   },
   "source": [
    "<br>\n",
    "\n",
    "###### <span style=\"font-size: 1rem; color: #ff0080; background-color: white;\"><strong>104. &nbsp; Find &nbsp;the &nbsp;mean &nbsp;ignoring &nbsp;the &nbsp;nan &nbsp;elements</span>\n"
   ]
  },
  {
   "cell_type": "markdown",
   "id": "67371765-b648-4c1e-accb-06322368b42b",
   "metadata": {},
   "source": [
    "<br>\n",
    "\n",
    "<code style=\"background-color: yellow; padding: 6px;\">numpy.<span style=\"color: red;\"><span style=\"font-size: 1rem;\"><strong>nanmean(</strong></span><span style=\"color: black;\">arr</span>, <span style=\"color: black;\">axis</span><span style=\"font-size: 1rem;\"><strong>)</strong></span></code>\n"
   ]
  },
  {
   "cell_type": "code",
   "execution_count": 123,
   "id": "20640b96-bcc2-439d-9c27-466cc660b01f",
   "metadata": {},
   "outputs": [
    {
     "name": "stdout",
     "output_type": "stream",
     "text": [
      "Array:\n",
      " [[ 1.  2.  3.]\n",
      " [ 4. nan  6.]]\n",
      "Total mean ignoring NaN values  ------------->  3.2\n",
      "Mean along rows ignoring NaN values  -------->  [2. 5.]\n",
      "Mean along columns ignoring NaN values  ----->  [2.5 2.  4.5]\n"
     ]
    }
   ],
   "source": [
    "\n",
    "arr = np.array([[1, 2, 3], \n",
    "                [4, np.nan, 6]])                                            # defines a NumPy array with NaN values\n",
    "\n",
    "total_mean = np.nanmean(arr)                                                # computes the product ignoring NaN values\n",
    "\n",
    "row_mean = np.nanmean(arr, axis=1)                                          # computes the product along rows (axis=1), ignoring NaN values\n",
    "\n",
    "column_mean = np.nanmean(arr, axis=0)                                       # computes the product along columns (axis=0), ignoring NaN values\n",
    "\n",
    "\n",
    "print(\"Array:\\n\", arr)\n",
    "print(\"Total mean ignoring NaN values  -------------> \", total_mean)\n",
    "print(\"Mean along rows ignoring NaN values  --------> \", row_mean)\n",
    "print(\"Mean along columns ignoring NaN values  -----> \", column_mean)\n"
   ]
  },
  {
   "cell_type": "markdown",
   "id": "7d6f39f5-76c1-4282-a6e9-1a64b2b372be",
   "metadata": {
    "jp-MarkdownHeadingCollapsed": true
   },
   "source": [
    "<br>\n",
    "\n",
    "###### <span style=\"font-size: 1rem; color: #ff0080; background-color: white;\"><strong>105. &nbsp; Find &nbsp;the &nbsp;median &nbsp;ignoring &nbsp;the &nbsp;nan &nbsp;elements</span>\n"
   ]
  },
  {
   "cell_type": "markdown",
   "id": "82191353-952f-4b7c-b376-f92f0f6eedd4",
   "metadata": {},
   "source": [
    "<br>\n",
    "\n",
    "<code style=\"background-color: yellow; padding: 6px;\">numpy.<span style=\"color: red;\"><span style=\"font-size: 1rem;\"><strong>median(</strong></span><span style=\"color: black;\">arr</span>, <span style=\"color: black;\">axis</span><span style=\"font-size: 1rem;\"><strong>)</strong></span></code>\n"
   ]
  },
  {
   "cell_type": "code",
   "execution_count": 124,
   "id": "3e6e1f25-63df-40d3-95d2-99de40d10015",
   "metadata": {},
   "outputs": [
    {
     "name": "stdout",
     "output_type": "stream",
     "text": [
      "Array:\n",
      " [[ 1.  2.  3.]\n",
      " [ 4. nan  6.]]\n",
      "Total mean ignoring NaN values  ------------->  3.2\n",
      "Mean along rows ignoring NaN values  -------->  [2. 5.]\n",
      "Mean along columns ignoring NaN values  ----->  [2.5 2.  4.5]\n"
     ]
    }
   ],
   "source": [
    "\n",
    "arr = np.array([[1, 2, 3], \n",
    "                [4, np.nan, 6]])                                            # defines a NumPy array with NaN values\n",
    "\n",
    "total_mean = np.nanmean(arr)                                                # computes the product ignoring NaN values\n",
    "\n",
    "row_mean = np.nanmean(arr, axis=1)                                          # computes the product along rows (axis=1), ignoring NaN values\n",
    "\n",
    "column_mean = np.nanmean(arr, axis=0)                                       # computes the product along columns (axis=0), ignoring NaN values\n",
    "\n",
    "\n",
    "print(\"Array:\\n\", arr)\n",
    "print(\"Total mean ignoring NaN values  -------------> \", total_mean)\n",
    "print(\"Mean along rows ignoring NaN values  --------> \", row_mean)\n",
    "print(\"Mean along columns ignoring NaN values  -----> \", column_mean)\n"
   ]
  },
  {
   "cell_type": "markdown",
   "id": "3db6e135-0ffb-4dc0-aaf3-e68c8dca62b5",
   "metadata": {
    "jp-MarkdownHeadingCollapsed": true
   },
   "source": [
    "<br>\n",
    "\n",
    "###### <span style=\"font-size: 1rem; color: #ff0080; background-color: white;\"><strong>106. &nbsp; Find &nbsp;the &nbsp;std &nbsp;dev &nbsp;ignoring &nbsp;the &nbsp;nan &nbsp;elements</span>\n"
   ]
  },
  {
   "cell_type": "markdown",
   "id": "4a4d0c74-66ff-48fd-bdd9-51b1d1a5d55b",
   "metadata": {},
   "source": [
    "<br>\n",
    "\n",
    "<code style=\"background-color: yellow; padding: 6px;\">numpy.<span style=\"color: red;\"><span style=\"font-size: 1rem;\"><strong>std_dev(</strong></span><span style=\"color: black;\">arr</span>, <span style=\"color: black;\">axis</span><span style=\"font-size: 1rem;\"><strong>)</strong></span></code>\n"
   ]
  },
  {
   "cell_type": "code",
   "execution_count": 128,
   "id": "16de44f5-16f0-4e40-a883-b0adffaade6a",
   "metadata": {},
   "outputs": [
    {
     "name": "stdout",
     "output_type": "stream",
     "text": [
      "Array:\n",
      " [[ 1.  2.  3.]\n",
      " [ 4. nan  6.]]\n",
      "Total mean ignoring NaN values  ------------->  1.7204650534085253\n",
      "Mean along rows ignoring NaN values  -------->  [0.81649658 1.        ]\n",
      "Mean along columns ignoring NaN values  ----->  [1.5 0.  1.5]\n"
     ]
    }
   ],
   "source": [
    "\n",
    "arr = np.array([[1, 2, 3], \n",
    "                [4, np.nan, 6]])                                            # defines a NumPy array with NaN values\n",
    "\n",
    "total_std_dev = np.nanstd(arr)                                              # computes the product ignoring NaN values\n",
    "\n",
    "row_std_dev = np.nanstd(arr, axis=1)                                        # computes the product along rows (axis=1), ignoring NaN values\n",
    "\n",
    "column_std_dev = np.nanstd(arr, axis=0)                                     # computes the product along columns (axis=0), ignoring NaN values\n",
    "\n",
    "\n",
    "print(\"Array:\\n\", arr)\n",
    "print(\"Total mean ignoring NaN values  -------------> \", total_std_dev)\n",
    "print(\"Mean along rows ignoring NaN values  --------> \", row_std_dev)\n",
    "print(\"Mean along columns ignoring NaN values  -----> \", column_std_dev)\n"
   ]
  },
  {
   "cell_type": "markdown",
   "id": "dfb7d17b-e123-4a06-ba63-77a1529a767e",
   "metadata": {
    "jp-MarkdownHeadingCollapsed": true
   },
   "source": [
    "\n",
    "<br>\n",
    "\n",
    "###### <span style=\"font-size: 1rem; color: #ff0080; background-color: white;\"><strong>107. &nbsp; Clip &nbsp;the &nbsp;array &nbsp;elements &nbsp;to &nbsp;a &nbsp;range</span>\n"
   ]
  },
  {
   "cell_type": "markdown",
   "id": "73f1e820-b8f7-46df-ba7c-6fdf629a9139",
   "metadata": {},
   "source": [
    "\n",
    "<br>\n",
    "\n",
    "<code style=\"background-color: yellow; padding: 6px;\">numpy.<span style=\"color: red;\"><span style=\"font-size: 1rem;\"><strong>clip(</strong></span><span style=\"color: black;\">arr</span>, <span style=\"color: black;\">axis</span><span style=\"font-size: 1rem;\"><strong>)</strong></span></code> &nbsp;&nbsp;&nbsp;===>&nbsp;&nbsp;&nbsp; Clips the elements of a NumPy array to a <u>specific range</u> <span style=\"color: blue;\">by ensuring all elements are within the specified minimum & maximum value</span>\n"
   ]
  },
  {
   "cell_type": "code",
   "execution_count": 132,
   "id": "ecc70b2d-f3e4-46e9-9a7d-0771a9cb6446",
   "metadata": {},
   "outputs": [
    {
     "name": "stdout",
     "output_type": "stream",
     "text": [
      "Original array:\n",
      " [[  1  20  -5]\n",
      " [ 15   0 100]\n",
      " [-10   8  25]]\n",
      "\n",
      "Clipped array (range [0, 20]):\n",
      " [[ 1 20  0]\n",
      " [15  0 20]\n",
      " [ 0  8 20]]\n"
     ]
    }
   ],
   "source": [
    "\n",
    "arr = np.array([[1, 20, -5], \n",
    "                [15, 0, 100], \n",
    "                [-10, 8, 25]])\n",
    "\n",
    "\n",
    "clipped_array = np.clip(arr, 0, 20)                                         # clips the array elements to the range [0, 20]\n",
    "\n",
    "\n",
    "print(\"Original array:\\n\", arr)\n",
    "print(\"\\nClipped array (range [0, 20]):\\n\", clipped_array)\n"
   ]
  },
  {
   "cell_type": "markdown",
   "id": "20848f2a-f298-4f5d-acca-80f8e15ce299",
   "metadata": {},
   "source": [
    "<br><br>\n",
    "\n",
    "## Numpy &nbsp;Interview &nbsp;Questions\n"
   ]
  },
  {
   "cell_type": "markdown",
   "id": "e2ad0869-0767-47f3-9f5d-dcb3cb54f89e",
   "metadata": {
    "jp-MarkdownHeadingCollapsed": true
   },
   "source": [
    "<br>\n",
    "\n",
    "### <div style=\"color: white; background-color: #ff0fba; padding: 5px;\"> <code style=\"font-size: 1.2rem; background-color: #ff0fba; color: white;\"><strong>Basic Questions</strong></code> </div>\n"
   ]
  },
  {
   "cell_type": "markdown",
   "id": "94be64f5-c0b8-4e5a-9a87-243ab204520e",
   "metadata": {
    "jp-MarkdownHeadingCollapsed": true
   },
   "source": [
    "\n",
    "###### <span style=\"font-size: 1rem; color: #ff0080; background-color: white;\"><strong>1. &nbsp;What &nbsp;is &nbsp;NumPy&nbsp;? &nbsp;&nbsp;Why &nbsp;is &nbsp;it &nbsp;used&nbsp;?</strong></span>\n"
   ]
  },
  {
   "cell_type": "markdown",
   "id": "70a73b35-bd01-4155-886a-6d6ceef5f2e6",
   "metadata": {},
   "source": [
    "<br>\n",
    "\n",
    "<div style=\"margin-left: 28px;\">\n",
    "    \n",
    "NumPy (Numerical Python) is a powerful library for <strong>numerical computing</strong> in Python. It provides support for:\n",
    "\n",
    "- <u><span style=\"color: red;\">Multi-dimensional</span></u> arrays (ndarrays).\n",
    "- <u><span style=\"color: red;\">Mathematical functions</span></u> (linear algebra, statistics, etc.).\n",
    "- <u><span style=\"color: red;\">Broadcasting</span></u> , &nbsp;<u><span style=\"color: red;\">vectorization</span></u> , &nbsp;and &nbsp;<u><span style=\"color: red;\">fast computation</span></u> &nbsp;(<span style=\"color: blue;\">avoids Python loops by executing operations in C</span>).\n",
    "\n",
    "</div>"
   ]
  },
  {
   "cell_type": "code",
   "execution_count": 2,
   "id": "8057bc23-fe86-4d90-a605-3ff8b91ea2d2",
   "metadata": {},
   "outputs": [
    {
     "name": "stdout",
     "output_type": "stream",
     "text": [
      "[1 2 3]\n"
     ]
    }
   ],
   "source": [
    "\n",
    "import numpy as np\n",
    "\n",
    "arr = np.array([1, 2, 3])\n",
    "\n",
    "print(arr)\n"
   ]
  },
  {
   "cell_type": "markdown",
   "id": "9acbbfd2-402c-44e8-a046-5b1227737f6a",
   "metadata": {
    "jp-MarkdownHeadingCollapsed": true
   },
   "source": [
    "<br>\n",
    "\n",
    "###### <span style=\"font-size: 1rem; color: #ff0080; background-color: white;\"><strong>2. &nbsp;How &nbsp;do &nbsp;you &nbsp;install &nbsp;NumPy&nbsp;?</strong></span>\n"
   ]
  },
  {
   "cell_type": "markdown",
   "id": "1d07fccd-35e5-44e1-ba6d-5aec40141acf",
   "metadata": {},
   "source": [
    "\n",
    "<span style=\"color: #a245ff; margin-left: 24px;\">Use &nbsp;<code style=\"background-color: yellow;\">pip</code> &nbsp;for &nbsp;installation :</span>"
   ]
  },
  {
   "cell_type": "code",
   "execution_count": null,
   "id": "c3744953-6b08-479e-8f1f-f6f3e4db2968",
   "metadata": {},
   "outputs": [],
   "source": [
    "\n",
    "pip install numpy\n"
   ]
  },
  {
   "cell_type": "markdown",
   "id": "ec5a4e27-91cd-4ef3-8f87-9809f9758b38",
   "metadata": {},
   "source": [
    "\n",
    "<span style=\"color: #a245ff; margin-left: 24px;\">To confirm :</span>"
   ]
  },
  {
   "cell_type": "code",
   "execution_count": 13,
   "id": "6a9f2494-fcd3-4eb4-b10f-7948c4896941",
   "metadata": {},
   "outputs": [
    {
     "name": "stdout",
     "output_type": "stream",
     "text": [
      "1.23.5\n"
     ]
    }
   ],
   "source": [
    "\n",
    "import numpy as np\n",
    "print(np.__version__)                                                      # displays installed NumPy version\n"
   ]
  },
  {
   "cell_type": "markdown",
   "id": "6c8242d0-8e09-4bd1-9698-d34b3f065c73",
   "metadata": {
    "jp-MarkdownHeadingCollapsed": true
   },
   "source": [
    "<br>\n",
    "\n",
    "###### <span style=\"font-size: 1rem; color: #ff0080; background-color: white;\"><strong>3. &nbsp;What &nbsp;are &nbsp;the &nbsp;key &nbsp;features &nbsp;of &nbsp;NumPy</strong></span> &nbsp;&nbsp;&nbsp;&nbsp;&nbsp;&nbsp;&nbsp;&nbsp;&nbsp;&nbsp;&nbsp;&nbsp;&nbsp;&nbsp;&nbsp;<font size=\"+1\">⭐</font>\n"
   ]
  },
  {
   "cell_type": "markdown",
   "id": "11156f26-71c3-4170-b39e-c9a587d23380",
   "metadata": {},
   "source": [
    "<div style=\"margin-left: 30px;\">\n",
    "\n",
    "- <strong>N-dimensional arrays</strong> <span style=\"font-size: 1rem;\">(</span> <code style=\"background-color: #f3cdff;\">ndarray</code> objects <span style=\"font-size: 1rem;\">)</span>\n",
    "\n",
    "- <strong>Broadcasting</strong> for element-wise operations\n",
    "\n",
    "- <strong>Vectorization</strong> for performance optimization\n",
    "\n",
    "- <strong>Linear algebra</strong> support (e.g., matrix multiplication)\n",
    "  \n",
    "- <strong>Random number generation</strong>\n",
    "\n",
    "- <strong>Integration with other libraries</strong> like <u>Pandas</u> and <u>TensorFlow</u>\n",
    "\n",
    "</div>"
   ]
  },
  {
   "cell_type": "markdown",
   "id": "e5cdeabc-c78c-4164-95f7-2047d88358d5",
   "metadata": {
    "jp-MarkdownHeadingCollapsed": true
   },
   "source": [
    "<br>\n",
    "\n",
    "###### <span style=\"font-size: 1rem; color: #ff0080; background-color: white;\"><strong>4. &nbsp;Differences &nbsp;between &nbsp;<u>Broadcasting</u> &nbsp;and &nbsp;<u>Vectorization</u></strong></span> &nbsp;&nbsp;&nbsp;&nbsp;&nbsp;&nbsp;&nbsp;&nbsp;&nbsp;&nbsp;&nbsp;&nbsp;&nbsp;&nbsp;&nbsp;<font size=\"+1\">⭐</font>\n"
   ]
  },
  {
   "cell_type": "markdown",
   "id": "d3a5afc2-478b-4e10-8f4c-66b2090c2d95",
   "metadata": {},
   "source": [
    "<br>\n",
    "\n",
    "<span style=\"margin-left: 27px;\">Both <strong>broadcasting</strong> and <strong>vectorization</strong> are techniques that <u>enable efficient operations</u> in NumPy, but they serve different purposes and have distinct functionalities.</span>\n",
    "\n",
    "<br>\n",
    "\n",
    "<div style=\"margin-left: 100px;\">\n",
    "\n",
    "![](../media/numpy_broadcasting_vs_vectorization.PNG)\n",
    "\n",
    "</div>\n",
    "\n",
    "<br>\n",
    "\n",
    "<span style=\"color: red;\">Broadcasting</span>\n",
    "\n",
    "- Broadcasting refers to the ability of NumPy to perform <strong>element-wise operations</strong> <u>on arrays of different shapes by automatically expanding the smaller array(s) to match the shape of the larger array</u>. &nbsp;<span style=\"color: blue;\">Broadcasting allows operations on arrays of different shapes <u>by <strong>stretching</strong> dimensions of smaller array</u>.</span>\n",
    "\n",
    "- This eliminates the need for explicit loops to align array shapes."
   ]
  },
  {
   "cell_type": "code",
   "execution_count": 58,
   "id": "1084c04e-a9f0-4248-b3f9-228da98649bd",
   "metadata": {},
   "outputs": [
    {
     "name": "stdout",
     "output_type": "stream",
     "text": [
      "Result of Broadcasting:\n",
      " [[11 22 33]\n",
      " [14 25 36]]\n"
     ]
    }
   ],
   "source": [
    "\n",
    "A = np.array([[1, 2, 3], \n",
    "              [4, 5, 6]])                                                  # shape = (2, 3)\n",
    "\n",
    "\n",
    "B = np.array([10, 20, 30])                                                 # shape = (1, 3)\n",
    "\n",
    "\n",
    "result = A + B                                                             #  Broadcasts b to match a's shape   ----->   B is stretched to (2x3)\n",
    "print(\"Result of Broadcasting:\\n\", result)\n"
   ]
  },
  {
   "cell_type": "markdown",
   "id": "ccd8ed0c-5d68-4015-8ef2-fb1420994803",
   "metadata": {},
   "source": [
    "<br>\n",
    "\n",
    "<span style=\"color: #a245ff;\">Broadcasting is particularly useful for <strong>element-wise operations</strong> like <u>addition</u>, <u>subtraction</u>, or <u>multiplication</u> <span style=\"color: blue;\">where the arrays have compatible but not identical shapes</span>.</span>\n",
    "\n",
    "<br>\n",
    "\n",
    "<span style=\"color: red;\">Vectorization</span>\n",
    "\n",
    "- Vectorization refers to the practice of <strong>replacing explicit Python loops with array-wide operations</strong> that leverage optimized low-level C or Fortran code under the hood.\n",
    "\n",
    "- It <u>eliminates the need for iterating over array elements <strong>manually</strong></u>. &nbsp;Instead, NumPy applies operations to the entire array efficiently.\n",
    "\n",
    "- It ensures faster execution and more concise code by applying operations directly to entire arrays."
   ]
  },
  {
   "cell_type": "code",
   "execution_count": 9,
   "id": "36fd9ac8-a01f-49c4-baa7-ce9668e759b2",
   "metadata": {},
   "outputs": [
    {
     "name": "stdout",
     "output_type": "stream",
     "text": [
      "Non-Vectorized Result  ------>  [ 1  4  9 16]\n",
      "Vectorized Result  ---------->  [ 1  4  9 16]\n"
     ]
    }
   ],
   "source": [
    "\n",
    "# Using a Python loop to square each element (non-vectorized)\n",
    "arr = np.array([1, 2, 3, 4])\n",
    "squared = np.zeros_like(arr)\n",
    "for i in range(len(arr)):\n",
    "    squared[i] = arr[i] ** 2\n",
    "\n",
    "\n",
    "# Using vectorization\n",
    "vectorized_squared = arr ** 2\n",
    "\n",
    "\n",
    "print(\"Non-Vectorized Result  ------> \", squared)\n",
    "print(\"Vectorized Result  ----------> \", vectorized_squared)\n"
   ]
  },
  {
   "cell_type": "code",
   "execution_count": 22,
   "id": "d87c7624-2327-4dae-9211-98661a5428b4",
   "metadata": {},
   "outputs": [
    {
     "name": "stdout",
     "output_type": "stream",
     "text": [
      "Non-Vectorized Result  -------> \n",
      "[0.15538110925922596, 0.31469947713803315, 0.8984730948332323, 0.5578412237295836, 0.5761228548138211, 0.6669497534476996, 0.3518479020705741, 0.02853633082290356, 0.5677986605556782, 0.12581491518920432]\n",
      "\n",
      "Vectorized Result  -----------> \n",
      "[0.15538111 0.31469948 0.89847309 0.55784122 0.57612285 0.66694975\n",
      " 0.3518479  0.02853633 0.56779866 0.12581492]\n"
     ]
    }
   ],
   "source": [
    "\n",
    "# Loop-based\n",
    "data = np.random.rand(10)\n",
    "squared = [x**2 for x in data]\n",
    "print(\"Non-Vectorized Result  -------> \")\n",
    "print(squared)\n",
    "\n",
    "\n",
    "# Vectorized\n",
    "squared = data**2\n",
    "print(\"\\nVectorized Result  -----------> \")\n",
    "print(squared)\n"
   ]
  },
  {
   "cell_type": "markdown",
   "id": "13e1dc3d-e7e5-4895-bac8-813a0f1ebac3",
   "metadata": {},
   "source": [
    "\n",
    "<span style=\"color: #a245ff;\">Vectorization is ideal for <strong>applying the same operation to all elements of an array</strong>, such as mathematical operations (e.g., power, sine, cosine) or conditional transformations.</span>\n",
    "\n",
    "<br>\n",
    "\n",
    "<span style=\"color: blue;\"><strong><u>Combined &nbsp;Usage</u></strong></span> &nbsp;&nbsp;( <span style=\"color: red;\">Broadcasting</span> &nbsp;+&nbsp; <span style=\"color: red;\">Vectorization</span> )"
   ]
  },
  {
   "cell_type": "code",
   "execution_count": 11,
   "id": "b6f67762-b899-4b31-8c13-6cf999e3416b",
   "metadata": {},
   "outputs": [
    {
     "name": "stdout",
     "output_type": "stream",
     "text": [
      "Broadcasting + Vectorization Result:\n",
      " [[ 10  40  90]\n",
      " [ 40 100 180]]\n"
     ]
    }
   ],
   "source": [
    "\n",
    "A = np.array([[1, 2, 3], \n",
    "              [4, 5, 6]])\n",
    "B = np.array([10, 20, 30])\n",
    "\n",
    "\n",
    "# Broadcasting ensures shape alignment\n",
    "# Vectorization applies element-wise multiplication\n",
    "result = A * B                                                             # Equivalent to  ------>  A[i, j] * B[j] for all i, j\n",
    "print(\"Broadcasting + Vectorization Result:\\n\", result)\n"
   ]
  },
  {
   "cell_type": "markdown",
   "id": "01e25fff-4729-4ddf-87ff-c1dde3166a06",
   "metadata": {},
   "source": [
    "<br>\n",
    "\n",
    "<span style=\"color: #a245ff;\">Broadcasting deals with shape compatibility for element-wise operations.</span>\n",
    "\n",
    "<span style=\"color: #a245ff;\">Vectorization is about writing concise, loop-free, array-wide computations.</span>\n",
    "\n",
    "<span style=\"color: #a245ff;\">Together, they make NumPy a powerful tool for high-performance numerical computing.</span>\n"
   ]
  },
  {
   "cell_type": "markdown",
   "id": "16e9f2a9-8698-45dd-86cc-286ef4f4e00c",
   "metadata": {
    "jp-MarkdownHeadingCollapsed": true
   },
   "source": [
    "<br>\n",
    "\n",
    "###### <span style=\"font-size: 1rem; color: #ff0080; background-color: white;\"><strong>5. &nbsp;Difference &nbsp;between &nbsp;a &nbsp;Python &nbsp;list &nbsp;and &nbsp;a &nbsp;NumPy &nbsp;array</strong></span> &nbsp;&nbsp;&nbsp;&nbsp;&nbsp;&nbsp;&nbsp;&nbsp;&nbsp;&nbsp;&nbsp;&nbsp;&nbsp;&nbsp;&nbsp;<font size=\"+1\">⭐</font>\n"
   ]
  },
  {
   "cell_type": "markdown",
   "id": "287fa9bd-2b51-4e7e-842d-a2e66aab47cc",
   "metadata": {},
   "source": [
    "<div style=\"margin-left: 30px;\">\n",
    "\n",
    "- <strong>Speed</strong> &nbsp;&nbsp;========>&nbsp;&nbsp; NumPy arrays are faster due to C-implementation\n",
    "  \n",
    "- <strong>Memory</strong>&nbsp;&nbsp;=======>&nbsp;&nbsp; Arrays use less memory due to fixed data types\n",
    "  \n",
    "- <strong>Operations</strong> &nbsp;&nbsp;=====>&nbsp;&nbsp; NumPy arrays support vectorized operations\n",
    "\n",
    "</div>"
   ]
  },
  {
   "cell_type": "code",
   "execution_count": 31,
   "id": "ac87494e-3a89-487e-94d1-c15f60def25f",
   "metadata": {},
   "outputs": [
    {
     "name": "stdout",
     "output_type": "stream",
     "text": [
      "[1, 2, 3, 1, 2, 3]\n",
      "[2 4 6]\n"
     ]
    }
   ],
   "source": [
    "\n",
    "# Python list doesn't support element-wise multiplication\n",
    "py_list = [1, 2, 3]\n",
    "print(py_list * 2)                    # [1, 2, 3, 1, 2, 3]  ---->   Multiplying a list with a number will concatenate the list that many number of times\n",
    "\n",
    "\n",
    "\n",
    "# Numpy array supports element-wise multiplication\n",
    "np_array = np.array([1, 2, 3])\n",
    "print(np_array * 2)                   # [2, 4, 6]\n"
   ]
  },
  {
   "cell_type": "markdown",
   "id": "fb6dcdbe-9271-4fb3-be50-dada1df6268e",
   "metadata": {
    "jp-MarkdownHeadingCollapsed": true
   },
   "source": [
    "<br>\n",
    "\n",
    "###### <span style=\"font-size: 1rem; color: #ff0080; background-color: white;\"><strong>6. &nbsp;How &nbsp;do &nbsp;you &nbsp;create &nbsp;a &nbsp;NumPy &nbsp;array ?</strong></span> &nbsp;&nbsp;&nbsp;&nbsp;&nbsp;&nbsp;&nbsp;&nbsp;&nbsp;&nbsp;&nbsp;&nbsp;&nbsp;&nbsp;&nbsp;<font size=\"+1\">⭐</font>\n"
   ]
  },
  {
   "cell_type": "markdown",
   "id": "3fe5dcf7-c2ca-451e-86f1-b44e8e9f9334",
   "metadata": {},
   "source": [
    "<div style=\"background-color: white; padding-top: 15px; padding-bottom: 4px;\">\n",
    "\n",
    "&nbsp;&nbsp;&nbsp;&nbsp;&nbsp;&nbsp;&nbsp;<span style=\"color: blue;\">Different ways of creating arrays from</span> :\n",
    "\n",
    "<div style=\"margin-left: 80px;\">\n",
    "\n",
    "<span style=\"color: blue;\">**<u>existing data</u>** :</span> <br>\n",
    "\n",
    "<div style=\"margin-left: 30px;\">\n",
    "    \n",
    "- <code style=\"background-color: yellow; padding: 2px;\">numpy.<span style=\"color: red; font-size: 1rem;\"><strong>array()</strong></span>   </code>\n",
    "\n",
    "</div>\n",
    "\n",
    "<br>\n",
    "\n",
    "<span style=\"color: blue;\">**<u>shape or value</u>**</span> : <br>\n",
    "\n",
    "<div style=\"margin-left: 30px;\">\n",
    "    \n",
    "- <code style=\"background-color: yellow;\">numpy.<span style=\"color: red; font-size: 1rem;\"><strong>zeros()</strong></span>   </code>\n",
    "- <code style=\"background-color: yellow;\">numpy.<span style=\"color: red; font-size: 1rem;\"><strong>ones()</strong>    </span></code>\n",
    "- <code style=\"background-color: yellow;\">numpy.<span style=\"color: red; font-size: 1rem;\"><strong>eye()</strong>     </span></code>\n",
    "- <code style=\"background-color: yellow;\">numpy.<span style=\"color: red; font-size: 1rem;\"><strong>identity()</strong></span></code>\n",
    "- <code style=\"background-color: yellow;\">numpy.<span style=\"color: red; font-size: 1rem;\"><strong>empty()</strong>   </span></code>\n",
    "\n",
    "</div>\n",
    "\n",
    "<br>\n",
    "\n",
    "<span style=\"color: blue;\">**<u>numerical ranges</u>**</span> : <br>\n",
    "\n",
    "<div style=\"margin-left: 30px;\">\n",
    "\n",
    "- <code style=\"background-color: yellow;\">numpy.<span style=\"color: red; font-size: 1rem;\"><strong>arange()</strong></span>  </code>\n",
    "- <code style=\"background-color: yellow;\">numpy.<span style=\"color: red; font-size: 1rem;\"><strong>linspace()</strong></span></code>\n",
    "\n",
    "</div>\n",
    "\n",
    "</div>\n",
    "\n",
    "</div>"
   ]
  },
  {
   "cell_type": "markdown",
   "id": "7764129f-d6ee-4999-a73c-a56ab7caebe2",
   "metadata": {
    "jp-MarkdownHeadingCollapsed": true
   },
   "source": [
    "<br>\n",
    "\n",
    "###### <span style=\"font-size: 1rem; color: #ff0080; background-color: white;\"><strong>7. &nbsp;Difference &nbsp;between &nbsp;<code style=\"background-color: #f4e3ff;\">np.<span style=\"color: blue;\">arange()</span></code> &nbsp;and &nbsp;<code style=\"background-color: #f4e3ff;\">np.<span style=\"color: blue\">linspace()</span></code></strong></span> &nbsp;&nbsp;&nbsp;&nbsp;&nbsp;&nbsp;&nbsp;&nbsp;&nbsp;&nbsp;&nbsp;&nbsp;&nbsp;&nbsp;&nbsp;<font size=\"+1\">⭐</font>\n"
   ]
  },
  {
   "cell_type": "markdown",
   "id": "67466d49-1728-46a4-ba96-26970aa152fa",
   "metadata": {},
   "source": [
    "\n",
    "<div style=\"margin-left: 18px;\">\n",
    "\n",
    "- <code style=\"background-color: yellow;\">np.<span style=\"font-size: 1rem; color: red;\"><strong>arange(</strong></span>start, stop, step<span style=\"font-size: 1rem; color: red;\"><strong>)</strong></span></code> &nbsp;&nbsp;&nbsp;&nbsp;&nbsp;:&nbsp;&nbsp; Returns values with a <strong>specific <u>step</u> size</strong>.\n",
    "    \n",
    "- <code style=\"background-color: yellow;\">np.<span style=\"font-size: 1rem; color: red;\"><strong>linspace(</strong></span>start, stop, num<span style=\"font-size: 1rem; color: red;\"><strong>)</strong></span></code> &nbsp;&nbsp;:&nbsp;&nbsp; Returns evenly spaced values (inclusive of stop) which also means <strong>specific <u>array</u> size</strong>.\n",
    "\n",
    "</div>"
   ]
  },
  {
   "cell_type": "code",
   "execution_count": 39,
   "id": "5741b863-750f-4a0c-9460-0b9636cd340e",
   "metadata": {},
   "outputs": [
    {
     "name": "stdout",
     "output_type": "stream",
     "text": [
      "[0 2 4 6 8]\n",
      "[ 0.   2.5  5.   7.5 10. ]\n"
     ]
    }
   ],
   "source": [
    "\n",
    "arr1 = np.arange(0, 10, 2)                        # [0, 2, 4, 6, 8]\n",
    "arr2 = np.linspace(0, 10, 5)                      # [0., 2.5, 5., 7.5, 10.]\n",
    "\n",
    "\n",
    "print(arr1)\n",
    "print(arr2)\n"
   ]
  },
  {
   "cell_type": "markdown",
   "id": "8ae89d12-3527-422d-a63d-285b418a51fb",
   "metadata": {
    "jp-MarkdownHeadingCollapsed": true
   },
   "source": [
    "<br>\n",
    "\n",
    "###### <span style=\"font-size: 1rem; color: #ff0080; background-color: white;\"><strong>8. &nbsp;How &nbsp;do &nbsp;you &nbsp;create &nbsp;a &nbsp;2D &nbsp;array &nbsp;in &nbsp;NumPy ?</strong></span>\n"
   ]
  },
  {
   "cell_type": "markdown",
   "id": "189f7917-d116-4c80-a7ef-efa8c0f3f697",
   "metadata": {},
   "source": [
    "\n",
    "<span style=\"color: #a245ff; margin-left: 25px;\">Using &nbsp;<strong>nested</strong>&nbsp; lists</span>"
   ]
  },
  {
   "cell_type": "code",
   "execution_count": 41,
   "id": "5cacbd1e-b7d5-4fad-b5cc-79d5d759babd",
   "metadata": {},
   "outputs": [
    {
     "name": "stdout",
     "output_type": "stream",
     "text": [
      "(2, 3)\n"
     ]
    }
   ],
   "source": [
    "\n",
    "arr = np.array([[1, 2, 3], \n",
    "                [4, 5, 6]])\n",
    "\n",
    "print(arr.shape)                                  # (2, 3)\n"
   ]
  },
  {
   "cell_type": "markdown",
   "id": "cc02f2ce-0302-40f6-98a6-cc01f7174658",
   "metadata": {
    "jp-MarkdownHeadingCollapsed": true
   },
   "source": [
    "<br>\n",
    "\n",
    "###### <span style=\"font-size: 1rem; color: #ff0080; background-color: white;\"><strong>9. &nbsp;What &nbsp;is &nbsp;the &nbsp;shape &nbsp;and &nbsp;size &nbsp;of &nbsp;a &nbsp;NumPy &nbsp;array ?</strong></span> &nbsp;&nbsp;&nbsp;&nbsp;&nbsp;&nbsp;&nbsp;&nbsp;&nbsp;&nbsp;&nbsp;&nbsp;&nbsp;&nbsp;&nbsp;<font size=\"+1\">⭐</font>\n"
   ]
  },
  {
   "cell_type": "markdown",
   "id": "05a07dce-605f-4680-bdcf-27d2a397e65b",
   "metadata": {},
   "source": [
    "<div style=\"margin-left: 18px;\">\n",
    "    \n",
    "- <code style=\"background-color: yellow;\">shape</code> &nbsp;&nbsp;:&nbsp;&nbsp; Tuple indicating dimensions (e.g., (rows, columns))\n",
    "- <code style=\"background-color: yellow;\">size </code> &nbsp;&nbsp;:&nbsp;&nbsp; Total number of elements\n",
    "\n",
    "</div>"
   ]
  },
  {
   "cell_type": "code",
   "execution_count": 45,
   "id": "8d9944ca-4773-48e1-9088-1ddd4addb494",
   "metadata": {},
   "outputs": [
    {
     "name": "stdout",
     "output_type": "stream",
     "text": [
      "(3, 2)\n",
      "6\n"
     ]
    }
   ],
   "source": [
    "\n",
    "arr = np.array([[1, 2], \n",
    "                [3, 4], \n",
    "                [5, 6]])\n",
    "\n",
    "\n",
    "print(arr.shape)                                  #  (3, 2)\n",
    "print(arr.size)                                   #  6\n"
   ]
  },
  {
   "cell_type": "markdown",
   "id": "a784b638-aa31-4b0b-98ee-453cd731ed53",
   "metadata": {
    "jp-MarkdownHeadingCollapsed": true
   },
   "source": [
    "<br>\n",
    "\n",
    "###### <span style=\"font-size: 1rem; color: #ff0080; background-color: white;\"><strong>10. &nbsp;How &nbsp;can &nbsp;you &nbsp;change &nbsp;the &nbsp;shape &nbsp;of &nbsp;an &nbsp;array ?</strong></span>\n"
   ]
  },
  {
   "cell_type": "markdown",
   "id": "7cec6a42-abe7-4c86-9816-a94f96a41433",
   "metadata": {},
   "source": [
    "<code style=\"background-color: yellow; margin-left: 35px;\">reshape()</code>"
   ]
  },
  {
   "cell_type": "code",
   "execution_count": 52,
   "id": "09a20b75-4c7b-49f0-82ba-ee547d9d9b99",
   "metadata": {},
   "outputs": [
    {
     "data": {
      "text/plain": [
       "array([[1, 2],\n",
       "       [3, 4],\n",
       "       [5, 6]])"
      ]
     },
     "execution_count": 52,
     "metadata": {},
     "output_type": "execute_result"
    }
   ],
   "source": [
    "\n",
    "arr = np.array([[1, 2], \n",
    "                [3, 4], \n",
    "                [5, 6]])\n",
    "\n",
    "arr.reshape(3,2)                                  # METHOD - 1\n"
   ]
  },
  {
   "cell_type": "code",
   "execution_count": 53,
   "id": "66a9e8cf-7f27-4221-91c6-798cd3cd592c",
   "metadata": {},
   "outputs": [
    {
     "data": {
      "text/plain": [
       "array([[1],\n",
       "       [2],\n",
       "       [3],\n",
       "       [4],\n",
       "       [5],\n",
       "       [6]])"
      ]
     },
     "execution_count": 53,
     "metadata": {},
     "output_type": "execute_result"
    }
   ],
   "source": [
    "\n",
    "np.reshape(arr, (6,1))                            # METHOD - 2\n"
   ]
  },
  {
   "cell_type": "markdown",
   "id": "c38c9dd2-2aae-4741-8f8e-8deacbf1a681",
   "metadata": {
    "jp-MarkdownHeadingCollapsed": true
   },
   "source": [
    "<br>\n",
    "\n",
    "###### <span style=\"font-size: 1rem; color: #ff0080; background-color: white;\"><strong>11. &nbsp;What &nbsp;are &nbsp;universal &nbsp;functions (ufuncs) ?</strong></span>\n"
   ]
  },
  {
   "cell_type": "markdown",
   "id": "a2d976c0-054c-497c-8aa3-fb647901051f",
   "metadata": {},
   "source": [
    "\n",
    "<span style=\"margin-left: 37px;\"><strong>UFuncs</strong> are functions that operate <strong>element-wise</strong> on arrays.</span>"
   ]
  },
  {
   "cell_type": "code",
   "execution_count": 56,
   "id": "ac61c601-bde9-4c71-ad68-c9e25b482323",
   "metadata": {},
   "outputs": [
    {
     "name": "stdout",
     "output_type": "stream",
     "text": [
      "[1.         1.41421356 1.73205081]\n"
     ]
    }
   ],
   "source": [
    "\n",
    "arr = np.array([1, 2, 3])\n",
    "\n",
    "print(np.sqrt(arr))\n"
   ]
  },
  {
   "cell_type": "markdown",
   "id": "98a1da0f-4b02-477a-9182-631e9ed1b826",
   "metadata": {
    "jp-MarkdownHeadingCollapsed": true
   },
   "source": [
    "<br>\n",
    "\n",
    "###### <span style=\"font-size: 1rem; color: #ff0080; background-color: white;\"><strong>12. &nbsp;Explain &nbsp;slicing &nbsp;in &nbsp;NumPy</strong></span>\n"
   ]
  },
  {
   "cell_type": "markdown",
   "id": "7641020f-6907-4bd6-93a4-6c1976315ddf",
   "metadata": {},
   "source": [
    "\n",
    "<code style=\"background-color: yellow; font-size: 1rem; padding: 2px; margin-left: 35px;\">arr[<span style=\"color: black; font-size: 1rem;\"><strong>start</strong></span> : <span style=\"color: stop font-size: 1rem;\"><strong>stop</strong></span> : <span style=\"color: red; font-size: 1rem;\"><strong>step</strong></span>]</code>"
   ]
  },
  {
   "cell_type": "code",
   "execution_count": 62,
   "id": "bb388dca-2179-48d6-ad49-cd18d5727255",
   "metadata": {},
   "outputs": [
    {
     "name": "stdout",
     "output_type": "stream",
     "text": [
      "[20 40]\n"
     ]
    }
   ],
   "source": [
    "\n",
    "arr = np.array([10, 20, 30, 40, 50])\n",
    "\n",
    "print(arr[1:4:2])                                 # Output: [20, 40]\n"
   ]
  },
  {
   "cell_type": "markdown",
   "id": "7c2fe0ef-6675-45a7-9ac0-f612d11a739c",
   "metadata": {
    "jp-MarkdownHeadingCollapsed": true
   },
   "source": [
    "<br>\n",
    "\n",
    "###### <span style=\"font-size: 1rem; color: #ff0080; background-color: white;\"><strong>13. &nbsp;Element-wise &nbsp;operations &nbsp;on &nbsp;arrays</strong></span>\n"
   ]
  },
  {
   "cell_type": "markdown",
   "id": "59981d16-7288-4722-86b3-689731c64132",
   "metadata": {},
   "source": [
    "\n",
    "<span style=\"margin-left: 35px;\">Operations like <u>addition</u> , <u>subtraction</u> , <u>multiplication</u> , <u>division</u> apply <strong>element-wise</strong></span>\n"
   ]
  },
  {
   "cell_type": "code",
   "execution_count": 64,
   "id": "46ff24ce-527e-49f2-a378-3f08b3a80412",
   "metadata": {},
   "outputs": [
    {
     "name": "stdout",
     "output_type": "stream",
     "text": [
      "[10 40]\n"
     ]
    }
   ],
   "source": [
    "\n",
    "a = np.array([1, 2])\n",
    "b = np.array([10, 20])\n",
    "\n",
    "print(a * b)                                      # Output: [10, 40]\n"
   ]
  },
  {
   "cell_type": "markdown",
   "id": "d67086f8-2a6a-4332-87ac-bf68d3691715",
   "metadata": {
    "jp-MarkdownHeadingCollapsed": true
   },
   "source": [
    "<br>\n",
    "\n",
    "###### <span style=\"font-size: 1rem; color: #ff0080; background-color: white;\"><strong>14. &nbsp;What &nbsp;is &nbsp;boolean &nbsp;indexing&nbsp;?</strong></span> &nbsp;&nbsp;&nbsp;&nbsp;&nbsp;&nbsp;&nbsp;&nbsp;&nbsp;&nbsp;&nbsp;&nbsp;&nbsp;&nbsp;&nbsp;<font size=\"+1\">⭐</font>\n"
   ]
  },
  {
   "cell_type": "markdown",
   "id": "3996058e-20bc-48b6-8f45-f564f57fd6b8",
   "metadata": {},
   "source": [
    "\n",
    "<span style=\"margin-left: 37px;\">Use <strong>conditions</strong> to index specific elements</span> &nbsp;&nbsp;&nbsp;=======>&nbsp;&nbsp;&nbsp; <code style=\"background-color: yellow;\">array[boolean_array]</code>\n"
   ]
  },
  {
   "cell_type": "code",
   "execution_count": 72,
   "id": "0724d317-6780-4b88-adef-a6fa4c4013e4",
   "metadata": {},
   "outputs": [
    {
     "name": "stdout",
     "output_type": "stream",
     "text": [
      "[4 5]\n"
     ]
    }
   ],
   "source": [
    "\n",
    "arr = np.array([1, 2, 3, 4, 5])\n",
    "\n",
    "print(arr[arr > 3])                               # Output: [4, 5]\n"
   ]
  },
  {
   "cell_type": "code",
   "execution_count": 74,
   "id": "bd71deeb-df85-4ce8-8217-72ff3d057cf3",
   "metadata": {},
   "outputs": [
    {
     "name": "stdout",
     "output_type": "stream",
     "text": [
      "[1 2 3 0 0]\n"
     ]
    }
   ],
   "source": [
    "\n",
    "arr[arr > 3] = 0                                  # replaces  4  &  5  with  0  in  the  array  'arr'\n",
    "\n",
    "print(arr)\n"
   ]
  },
  {
   "cell_type": "markdown",
   "id": "63fe6431-c25b-4983-8b16-9bbe605342cd",
   "metadata": {
    "jp-MarkdownHeadingCollapsed": true
   },
   "source": [
    "<br>\n",
    "\n",
    "###### <span style=\"font-size: 1rem; color: #ff0080; background-color: white;\"><strong>15. &nbsp;Difference &nbsp;between &nbsp;<code style=\"background-color: #f4e3ff;\">np.<span style=\"color: blue;\">copy()</span></code> &nbsp;and &nbsp;<code style=\"background-color: #f4e3ff;\">np.<span style=\"color: blue;\">view()</span></code></strong></span> &nbsp;&nbsp;&nbsp;&nbsp;&nbsp;&nbsp;&nbsp;&nbsp;&nbsp;&nbsp;&nbsp;&nbsp;&nbsp;&nbsp;&nbsp;<font size=\"+1\">⭐</font>\n"
   ]
  },
  {
   "cell_type": "markdown",
   "id": "c4c14247-fb40-41fd-abc8-12c00110d5d5",
   "metadata": {},
   "source": [
    "\n",
    "<div style=\"margin-left: 28px;\">\n",
    "\n",
    "- <code style=\"background-color: yellow;\">copy()</code> &nbsp;&nbsp;:&nbsp; Creates a <strong>deep copy</strong> \n",
    "\n",
    "- <code style=\"background-color: yellow;\">view()</code> &nbsp;:&nbsp; Creates a <strong>shallow copy</strong> (shares data)\n",
    "    \n",
    "</div>"
   ]
  },
  {
   "cell_type": "code",
   "execution_count": 87,
   "id": "0e1aa44f-1bd6-438f-b552-f0dc069c3d53",
   "metadata": {},
   "outputs": [
    {
     "name": "stdout",
     "output_type": "stream",
     "text": [
      "arr ---------->  [10  2  3]\n",
      "copy_arr ----->  [1 2 3]\n",
      "view_arr ----->  [10  2  3]\n"
     ]
    }
   ],
   "source": [
    "\n",
    "arr = np.array([1, 2, 3])\n",
    "\n",
    "\n",
    "copy_arr = arr.copy()                             # modifying the 'copy_arr' will not modify the original array 'arr'\n",
    "\n",
    "\n",
    "view_arr = arr.view()                             # modifying the 'view_arr' will modify the original array 'arr'\n",
    "view_arr[0] = 10                                  # the original array 'arr' will also be changed   ------------------------->   arr[0] = 10\n",
    "\n",
    "\n",
    "print('arr ----------> ', arr)\n",
    "print('copy_arr -----> ', copy_arr)\n",
    "print('view_arr -----> ', view_arr)\n"
   ]
  },
  {
   "cell_type": "markdown",
   "id": "d4a31e4d-a120-4237-82b8-710943849bd5",
   "metadata": {
    "jp-MarkdownHeadingCollapsed": true
   },
   "source": [
    "<br>\n",
    "\n",
    "###### <span style=\"font-size: 1rem; color: #ff0080; background-color: white;\"><strong>16. &nbsp;Why &nbsp;are &nbsp;<code style=\"background-color: #f4e3ff;\">np.<span style=\"color: blue;\">dot()</span></code> , &nbsp;<code style=\"background-color: #f4e3ff;\">np.<span style=\"color: blue;\">cross()</span></code> , &nbsp;<code style=\"background-color: #f4e3ff;\">np.<span style=\"color: blue;\">matmul()</span></code> , &nbsp;& &nbsp;<code style=\"background-color: #f4e3ff;\"> @ </code> &nbsp;operator &nbsp;used ?</strong></span>\n"
   ]
  },
  {
   "cell_type": "markdown",
   "id": "f092a8b4-c764-4ce0-acfe-08b96bb89481",
   "metadata": {},
   "source": [
    "\n",
    "<div style=\"margin-left: 28px; color: black;\">\n",
    "\n",
    "- <span style=\"font-size: 1rem; color: blue;\">Dot &nbsp;Product</span> &nbsp;&nbsp;&nbsp;&nbsp;&nbsp;=============>&nbsp;&nbsp;&nbsp; <code style=\"background-color: yellow;\">np.<span style=\"color: red; font-size: 1rem;\"><strong>dot()</strong></span>   </code> &nbsp; or &nbsp; <code style=\"background-color: #bffff6;\"> @ </code> &nbsp; operator\n",
    "\n",
    "- <span style=\"font-size: 1rem; color: blue;\">Cross &nbsp;Product</span> &nbsp;&nbsp;=============>&nbsp;&nbsp;&nbsp; <code style=\"background-color: yellow;\">np.<span style=\"color: red; font-size: 1rem;\"><strong>cross()</strong></span> </code>\n",
    "\n",
    "- <span style=\"font-size: 1rem; color: blue;\">Matrix &nbsp;Multiplication</span> &nbsp;&nbsp;========>&nbsp;&nbsp;&nbsp; <code style=\"background-color: yellow;\">np.<span style=\"color: red; font-size: 1rem;\"><strong>matmul()</strong></span></code> &nbsp; or &nbsp; <code style=\"background-color: #bffff6;\"> @ </code> &nbsp; operator\n",
    "\n",
    "</div>"
   ]
  },
  {
   "cell_type": "markdown",
   "id": "8a56eaf8-4b8b-44fa-a72c-1097bae280bc",
   "metadata": {},
   "source": [
    "<span style=\"color: #f6167f;\">------------------------------------------------------------------------------------------------------------------------------------------------------------------------------------------------</span>\n",
    "\n",
    "<br>\n",
    "\n",
    "<code style=\"background-color: blue; color: white;\"> np.dot </code>\n",
    "\n",
    "<div style=\"margin-left: 30px;\">\n",
    "\n",
    "<span style=\"color: #b57fff;\"><strong>Definition</strong></span>\n",
    "\n",
    "- Performs <strong>dot product</strong> for <span style=\"color: red;\">1D vectors</span>\n",
    "- For <span style=\"color: red;\">2D matrices</span> , it computes the <strong>matrix product</strong>\n",
    "- For <span style=\"color: red;\">higher dimensions</span> , it performs a <strong>generalized dot product</strong> over the last axis of the first array and the second-to-last axis of the second array\n",
    "\n",
    "<span style=\"color: #b57fff;\"><strong>Key &nbsp;points</strong></span>\n",
    "\n",
    "- Dot product for vectors &nbsp;&nbsp;&nbsp;&nbsp;&nbsp;&nbsp;&nbsp;&nbsp;&nbsp;: &nbsp;&nbsp;<code style=\"background-color: #efe3ff;\">dot(A,B)  =  ∑(A[i]⋅B[i])</code>\n",
    "- Matrix multiplication for 2D &nbsp;&nbsp;:&nbsp;&nbsp;&nbsp; Equivalent to <code style=\"background-color: #efe3ff;\">𝐴⋅𝐵</code> , combining rows of A with columns of B\n",
    "\n",
    "</div>"
   ]
  },
  {
   "cell_type": "code",
   "execution_count": 101,
   "id": "b0e472f2-e869-43eb-8871-cbb68fb16e1f",
   "metadata": {},
   "outputs": [
    {
     "name": "stdout",
     "output_type": "stream",
     "text": [
      "Dot Product (1D): 32\n",
      "\n",
      "Matrix Multiplication (2D):\n",
      " [[19 22]\n",
      " [43 50]]\n"
     ]
    }
   ],
   "source": [
    "\n",
    "# 1D Dot Product\n",
    "A = np.array([1, 2, 3])\n",
    "B = np.array([4, 5, 6])\n",
    "dot_result = np.dot(A, B)                                       # 1*4 + 2*5 + 3*6 = 32\n",
    "print(\"Dot Product (1D):\", dot_result)\n",
    "\n",
    "\n",
    "# 2D Matrix Multiplication\n",
    "C = np.array([[1, 2], [3, 4]])\n",
    "D = np.array([[5, 6], [7, 8]])\n",
    "matrix_result = np.dot(C, D)\n",
    "print(\"\\nMatrix Multiplication (2D):\\n\", matrix_result)\n"
   ]
  },
  {
   "cell_type": "code",
   "execution_count": 116,
   "id": "ad3e329f-25b1-40c2-aae4-ca2ad6223e59",
   "metadata": {},
   "outputs": [
    {
     "data": {
      "text/plain": [
       "array([[19, 22],\n",
       "       [43, 50]])"
      ]
     },
     "execution_count": 116,
     "metadata": {},
     "output_type": "execute_result"
    }
   ],
   "source": [
    "\n",
    "A @ B\n"
   ]
  },
  {
   "cell_type": "markdown",
   "id": "ac639e71-93cd-4145-bd52-57f10f9c8dc0",
   "metadata": {},
   "source": [
    "<br>\n",
    "\n",
    "<span style=\"color: #f6167f;\">------------------------------------------------------------------------------------------------------------------------------------------------------------------------------------------------</span>\n",
    "\n",
    "<br>\n",
    "\n",
    "<code style=\"background-color: blue; color: white;\"> np.cross </code>\n",
    "\n",
    "<div style=\"margin-left: 30px;\">\n",
    "\n",
    "<span style=\"color: #b57fff;\"><strong>Definition</strong></span>\n",
    "\n",
    "- Computes the cross product of two vectors <u>in <strong>3D</strong> space</u>.\n",
    "- The result is a vector perpendicular to both input vectors A and B\n",
    "\n",
    "<span style=\"color: #b57fff;\"><strong>Key &nbsp;points</strong></span>\n",
    "\n",
    "&nbsp;&nbsp;&nbsp;For 3D vectors &nbsp;<code style=\"background-color: #efe3ff;\">A = [a1, a2, a3]</code>&nbsp; and &nbsp;<code style=\"background-color: #efe3ff;\">B = [b1, b2, b3]</code>&nbsp; , &nbsp;the cross product is &nbsp;&nbsp; =======>  &nbsp;&nbsp;<code style=\"background-color: #efe3ff;\">A <span>X </span>B  =  [a2b3−a3b2, a3b1−a1b3, a1b2−a2b1]</code>\n",
    "\n",
    "</div>"
   ]
  },
  {
   "cell_type": "code",
   "execution_count": 104,
   "id": "f79e444e-accc-4355-92e0-a83044d759fb",
   "metadata": {},
   "outputs": [
    {
     "name": "stdout",
     "output_type": "stream",
     "text": [
      "Cross Product (3D): [-3  6 -3]\n"
     ]
    }
   ],
   "source": [
    "\n",
    "# Cross Product of 3D vectors\n",
    "A = np.array([1, 2, 3])\n",
    "B = np.array([4, 5, 6])\n",
    "cross_result = np.cross(A, B)\n",
    "print(\"Cross Product (3D):\", cross_result)\n"
   ]
  },
  {
   "cell_type": "markdown",
   "id": "d5ca30df-7ccc-4d09-9a49-9f325d0355b9",
   "metadata": {},
   "source": [
    "<br>\n",
    "\n",
    "<span style=\"color: #f6167f;\">------------------------------------------------------------------------------------------------------------------------------------------------------------------------------------------------</span>\n",
    "\n",
    "<br>\n",
    "\n",
    "<code style=\"background-color: blue; color: white;\"> np.matmul </code>\n",
    "\n",
    "<div style=\"margin-left: 30px;\">\n",
    "\n",
    "<span style=\"color: #b57fff;\"><strong>Definition</strong></span>\n",
    "\n",
    "- Computes the <strong>matrix product</strong> of two arrays (preferred for matrix operations)\n",
    "- For 2D arrays, it is equivalent to <code style=\"background-color: yellow;\">np.dot</code>\n",
    "- For higher-dimensional arrays, it handles <strong>stacked matrices</strong> , computing their product over the last two axes.\n",
    "\n",
    "<span style=\"color: #b57fff;\"><strong>Key &nbsp;points</strong></span>\n",
    "\n",
    "- Always treats inputs as matrices (or stacked matrices)\n",
    "- Does not reduce dimensions for scalar results like &nbsp;<code style=\"background-color: yellow;\">np.dot</code>\n",
    "\n",
    "</div>"
   ]
  },
  {
   "cell_type": "code",
   "execution_count": 117,
   "id": "e2355512-cf31-4a8e-acc1-93e5791d1ebc",
   "metadata": {},
   "outputs": [
    {
     "name": "stdout",
     "output_type": "stream",
     "text": [
      "Matrix Multiplication with matmul:\n",
      " [[19 22]\n",
      " [43 50]]\n",
      "\n",
      "Stacked Matrices Multiplication:\n",
      " [[[19 22]\n",
      "  [43 50]]]\n"
     ]
    }
   ],
   "source": [
    "\n",
    "# Matrix multiplication (2D arrays)\n",
    "A = np.array([[1, 2], \n",
    "              [3, 4]])\n",
    "B = np.array([[5, 6], \n",
    "              [7, 8]])\n",
    "matmul_result = np.matmul(A, B)\n",
    "print(\"Matrix Multiplication with matmul:\\n\", matmul_result)                                                        # OUTPUT:\n",
    "                                                                                                                    #            [[[19 22]\n",
    "                                                                                                                    #              [43 50]]]\n",
    "\n",
    "\n",
    "\n",
    "# 3D Stacked Matrix Multiplication\n",
    "C = np.array([[[1, 2], [3, 4]]])                                        # Shape (1, 2, 2)\n",
    "D = np.array([[[5, 6], [7, 8]]])                                        # Shape (1, 2, 2)\n",
    "stacked_result = np.matmul(C, D)                                        # Shape remains (1, 2, 2)\n",
    "print(\"\\nStacked Matrices Multiplication:\\n\", stacked_result)                                                        # OUTPUT:\n",
    "                                                                                                                     #            [[[19 22]\n",
    "                                                                                                                     #              [43 50]]]\n"
   ]
  },
  {
   "cell_type": "code",
   "execution_count": 118,
   "id": "818801b9-909c-4ed7-bebe-fb06cf5a0b09",
   "metadata": {},
   "outputs": [
    {
     "data": {
      "text/plain": [
       "array([[19, 22],\n",
       "       [43, 50]])"
      ]
     },
     "execution_count": 118,
     "metadata": {},
     "output_type": "execute_result"
    }
   ],
   "source": [
    "\n",
    "A @ B"
   ]
  },
  {
   "cell_type": "markdown",
   "id": "81226cd0-eb6d-4985-9712-df94be27df55",
   "metadata": {},
   "source": [
    "<br>\n",
    "\n",
    "<span style=\"color: #f6167f;\">------------------------------------------------------------------------------------------------------------------------------------------------------------------------------------------------</span>\n",
    "\n",
    "<br>\n",
    "\n",
    "When to use which function?\n",
    "\n",
    "1. Use <code style=\"background-color: yellow;\">np.dot</code>\n",
    "\n",
    "<div style=\"margin-left: 35px;\">\n",
    "\n",
    "- For <u><span style=\"color: red;\">standard dot product</span></u> or <u><span style=\"color: red;\">2D matrix multiplication</span></u>\n",
    "- Suitable for operations like projections, calculating vector magnitudes, etc\n",
    "\n",
    "</div>\n",
    "\n",
    "2. Use <code style=\"background-color: yellow;\">np.cross</code>\n",
    "\n",
    "<div style=\"margin-left: 35px;\">\n",
    "\n",
    "- When you need a perpendicular vector from two 3D vectors\n",
    "- Applications in physics (e.g., torque, angular momentum) and geometry\n",
    "\n",
    "</div>\n",
    "\n",
    "3. Use <code style=\"background-color: yellow;\">np.matmul</code>\n",
    "\n",
    "<div style=\"margin-left: 35px;\">\n",
    "    \n",
    "- For clean and efficient matrix multiplication, especially for higher-dimensional stacked arrays\n",
    "- <span style=\"color: red;\">Preferred over <code style=\"background-color: yellow;\">np.dot</code> for explicit matrix operations</span>\n",
    "\n",
    "</div>"
   ]
  },
  {
   "cell_type": "markdown",
   "id": "5d5cfe86-f621-47d6-b202-a8307cafe8b6",
   "metadata": {
    "jp-MarkdownHeadingCollapsed": true
   },
   "source": [
    "<br>\n",
    "\n",
    "###### <span style=\"font-size: 1rem; color: #ff0080; background-color: white;\"><strong>17. &nbsp;What &nbsp;is &nbsp;the &nbsp;difference &nbsp;between &nbsp;<code style=\"background-color: #f4e3ff;\">np.<span style=\"color: blue;\">concatenate()</span></code> &nbsp;and &nbsp;<code style=\"background-color: #f4e3ff;\">np.<span style=\"color: blue;\">vstack()</span></code> &nbsp;or &nbsp;<code style=\"background-color: #f0daff;\">np.<span style=\"color: blue;\">hstack()</span></code> ?</strong></span> &nbsp;&nbsp;&nbsp;&nbsp;&nbsp;&nbsp;&nbsp;&nbsp;&nbsp;&nbsp;&nbsp;&nbsp;&nbsp;&nbsp;&nbsp;<font size=\"+1\">⭐</font>\n"
   ]
  },
  {
   "cell_type": "markdown",
   "id": "e627e1bd-f607-49b1-a40f-b894e8d30e04",
   "metadata": {},
   "source": [
    "\n",
    "<div style=\"margin-left: 28px;\">\n",
    "\n",
    "- <code style=\"background-color: yellow;\">concatenate()</code> &nbsp;&nbsp;:&nbsp; Joins arrays along a specified axis\n",
    "\n",
    "- <code style=\"background-color: yellow;\">vstack()     </code> &nbsp;&nbsp;:&nbsp; Stacks arrays vertically (along rows)\n",
    "\n",
    "- <code style=\"background-color: yellow;\">hstack()     </code> &nbsp;&nbsp;:&nbsp; Stacks arrays horizontally (along columns)\n",
    "    \n",
    "</div>\n"
   ]
  },
  {
   "cell_type": "code",
   "execution_count": 4,
   "id": "d40a7b52-2ec1-4ae5-84b9-0f151fd303d1",
   "metadata": {},
   "outputs": [
    {
     "name": "stdout",
     "output_type": "stream",
     "text": [
      "[1 2 3 4]\n",
      "[[1 2]\n",
      " [3 4]]\n",
      "[1 2 3 4]\n"
     ]
    }
   ],
   "source": [
    "\n",
    "a = np.array([1, 2])\n",
    "b = np.array([3, 4])\n",
    "print(np.concatenate((a, b)))                     # [1, 2, 3, 4]\n",
    "print(np.vstack((a, b)))                          # [[1, 2], [3, 4]]\n",
    "print(np.hstack((a, b)))                          # [1, 2, 3, 4]\n"
   ]
  },
  {
   "cell_type": "markdown",
   "id": "f809a6e4-d038-4237-90b7-f1603f289936",
   "metadata": {
    "jp-MarkdownHeadingCollapsed": true
   },
   "source": [
    "<br>\n",
    "\n",
    "###### <span style=\"font-size: 1rem; color: #ff0080; background-color: white;\"><strong>18. &nbsp;How &nbsp;do &nbsp;you &nbsp;handle &nbsp;missing &nbsp;values &nbsp;in &nbsp;NumPy ?</strong></span> &nbsp;&nbsp;&nbsp;&nbsp;&nbsp;&nbsp;&nbsp;&nbsp;&nbsp;&nbsp;&nbsp;&nbsp;&nbsp;&nbsp;&nbsp;<font size=\"+1\">⭐</font>\n"
   ]
  },
  {
   "cell_type": "markdown",
   "id": "539858a2-96c8-485f-aa4d-5612bb5a910e",
   "metadata": {},
   "source": [
    "\n",
    "<span style=\"margin-left: 37px;\">Use &nbsp;<code style=\"background-color: yellow;\">np.nan</code> to represent <strong>missing values</strong> and functions like &nbsp;<code style=\"background-color: yellow;\">np.<span style=\"font-size: 1rem; color: red;\"><strong>nanmean()</strong></span></code></span>\n"
   ]
  },
  {
   "cell_type": "code",
   "execution_count": 7,
   "id": "9f243dc9-8b54-413f-a49b-a6420a6c8ec5",
   "metadata": {},
   "outputs": [
    {
     "name": "stdout",
     "output_type": "stream",
     "text": [
      "2.3333333333333335\n"
     ]
    }
   ],
   "source": [
    "\n",
    "arr = np.array([1, 2, np.nan, 4])\n",
    "mean = np.nanmean(arr)                                                                 # Ignores NaN, calculates mean as 2.333...\n",
    "print(mean)\n"
   ]
  },
  {
   "cell_type": "markdown",
   "id": "166d3562-b417-44d7-a22f-b1c46e803628",
   "metadata": {
    "jp-MarkdownHeadingCollapsed": true
   },
   "source": [
    "<br>\n",
    "\n",
    "###### <span style=\"font-size: 1rem; color: #ff0080; background-color: white;\"><strong>19. &nbsp;What &nbsp;are &nbsp;structured &nbsp;arrays &nbsp;in &nbsp;NumPy ?</strong></span> &nbsp;&nbsp;&nbsp;&nbsp;&nbsp;&nbsp;&nbsp;&nbsp;&nbsp;&nbsp;&nbsp;&nbsp;&nbsp;&nbsp;&nbsp;<font size=\"+1\">⭐</font>\n"
   ]
  },
  {
   "cell_type": "markdown",
   "id": "3f56a539-6d1c-4bce-b519-af6e7914b011",
   "metadata": {},
   "source": [
    "\n",
    "<span style=\"margin-left: 33px;\">Structured arrays allow you to create arrays with <strong>mixed data types</strong></span>"
   ]
  },
  {
   "cell_type": "code",
   "execution_count": 59,
   "id": "af401e85-4cb5-497e-88eb-4ff959aada36",
   "metadata": {},
   "outputs": [
    {
     "name": "stdout",
     "output_type": "stream",
     "text": [
      "\n",
      "payroll   ------------->   [(b'Alice', 1.5, 12500.) (b'Bob', 1. , 15500.) (b'Jane', 1. , 11000.)]\n",
      "\n",
      "sorted_payroll   ------>   [(b'Jane', 1. , 11000.) (b'Bob', 1. , 15500.) (b'Alice', 1.5, 12500.)]\n"
     ]
    }
   ],
   "source": [
    "\n",
    "# list  of  tuples\n",
    "dtype = [ ('name', 'S10'), ('year_of_services', float), ('salary', float) ]         \n",
    "employees = [ ('Alice', 1.5, 12500), ('Bob', 1, 15500), ('Jane', 1, 11000) ]\n",
    "\n",
    "\n",
    "payroll = np.array(employees, dtype=dtype)                                   # creates a structured array 'payroll'\n",
    "\n",
    "\n",
    "sorted_payroll = np.sort(payroll, order=['year_of_services', 'salary'])      # sort by 'year_of_services', then 'salary' if 'year_of_services' are equal\n",
    "\n",
    "\n",
    "print('\\npayroll   ------------->  ', payroll)\n",
    "print('\\nsorted_payroll   ------>  ', sorted_payroll)\n"
   ]
  },
  {
   "cell_type": "markdown",
   "id": "faac7095-1aae-44ee-a2c0-baccabdeda90",
   "metadata": {
    "jp-MarkdownHeadingCollapsed": true
   },
   "source": [
    "<br>\n",
    "\n",
    "###### <span style=\"font-size: 1rem; color: #ff0080; background-color: white;\"><strong>20. &nbsp;Explain &nbsp;the &nbsp;concept &nbsp;of &nbsp;strides &nbsp;in &nbsp;NumPy &nbsp;arrays</strong></span> &nbsp;&nbsp;&nbsp;&nbsp;&nbsp;&nbsp;&nbsp;&nbsp;&nbsp;&nbsp;&nbsp;&nbsp;&nbsp;&nbsp;&nbsp;<font size=\"+1\">⭐</font>\n"
   ]
  },
  {
   "cell_type": "markdown",
   "id": "bd548450-bc34-4a0e-8481-7b4dc983f6a6",
   "metadata": {},
   "source": [
    "\n",
    "<span style=\"margin-left: 32px;\"><strong>Strides</strong> indicate the <span style=\"color: blue;\">number of bytes to step in each dimension</span> when traversing an array.</span>"
   ]
  },
  {
   "cell_type": "code",
   "execution_count": 73,
   "id": "69a752a1-48fc-468b-a1b2-fd81fd6fdc92",
   "metadata": {},
   "outputs": [
    {
     "name": "stdout",
     "output_type": "stream",
     "text": [
      "(12, 4)\n"
     ]
    }
   ],
   "source": [
    "\n",
    "arr = np.array([[1, 2, 3], \n",
    "                [4, 5, 6]])\n",
    "\n",
    "\n",
    "print(arr.strides)                                                  # Output: (12, 4)    (depends on data type and shape)\n"
   ]
  },
  {
   "cell_type": "markdown",
   "id": "ee72b626-c2b5-4db6-9aa8-ef11f753d367",
   "metadata": {
    "jp-MarkdownHeadingCollapsed": true
   },
   "source": [
    "<br>\n",
    "\n",
    "###### <span style=\"font-size: 1rem; color: #ff0080; background-color: white;\"><strong>21. &nbsp;How &nbsp;does &nbsp;NumPy &nbsp;handle &nbsp;data &nbsp;types ?</strong></span>\n"
   ]
  },
  {
   "cell_type": "markdown",
   "id": "94b4c69d-8385-4787-8fdd-aecd278b251d",
   "metadata": {},
   "source": [
    "<span style=\"margin-left: 32px;\">NumPy arrays have a fixed data type, defined by <code style=\"background-color: yellow;\">dtype</code></span>"
   ]
  },
  {
   "cell_type": "code",
   "execution_count": 74,
   "id": "dbff6acd-a40f-459d-8b43-22e2252e336c",
   "metadata": {},
   "outputs": [
    {
     "name": "stdout",
     "output_type": "stream",
     "text": [
      "float32\n"
     ]
    }
   ],
   "source": [
    "\n",
    "arr = np.array([1, 2, 3], dtype='float32')\n",
    "\n",
    "print(arr.dtype)                                                    # float32\n"
   ]
  },
  {
   "cell_type": "markdown",
   "id": "d523c021-6e37-4d3a-a9ab-95a501ec103f",
   "metadata": {
    "jp-MarkdownHeadingCollapsed": true
   },
   "source": [
    "<br>\n",
    "\n",
    "###### <span style=\"font-size: 1rem; color: #ff0080; background-color: white;\"><strong>22. &nbsp;What &nbsp;are &nbsp;masked &nbsp;arrays &nbsp;in &nbsp;NumPy ?</strong></span> &nbsp;&nbsp;&nbsp;&nbsp;&nbsp;&nbsp;&nbsp;&nbsp;&nbsp;&nbsp;&nbsp;&nbsp;&nbsp;&nbsp;&nbsp;<font size=\"+1\">⭐</font>\n"
   ]
  },
  {
   "cell_type": "markdown",
   "id": "e78af0cd-b745-4fac-b5e5-4351e610a88a",
   "metadata": {},
   "source": [
    "\n",
    "<span style=\"margin-left: 32px;\"><strong>Masked arrays</strong> allow <span style=\"color: blue;\">hiding specific elements</span> during computation using &nbsp;<code style=\"background-color: yellow; padding: 6px;\">numpy.<span style=\"color: red;\"><span style=\"font-size: 1rem;\"><strong>ma(</strong></span><span style=\"color: black;\">arr</span>, <span style=\"color: black;\">mask</span><span style=\"color: #9b96a1;\">=masked_arr_indices</span><span style=\"font-size: 1rem;\"><strong>)</strong></span></code>\n"
   ]
  },
  {
   "cell_type": "code",
   "execution_count": 75,
   "id": "b1ad97e6-0ed9-4c31-a550-733db8b836bc",
   "metadata": {},
   "outputs": [
    {
     "data": {
      "text/plain": [
       "masked_array(data=[1, --, 3],\n",
       "             mask=[False,  True, False],\n",
       "       fill_value=999999)"
      ]
     },
     "execution_count": 75,
     "metadata": {},
     "output_type": "execute_result"
    }
   ],
   "source": [
    "\n",
    "arr = np.ma.array([1, 2, 3], mask=[0, 1, 0])\n",
    "\n",
    "arr\n"
   ]
  },
  {
   "cell_type": "code",
   "execution_count": 76,
   "id": "9e6e29b7-f7ec-4335-95b6-3e6985791e48",
   "metadata": {},
   "outputs": [
    {
     "name": "stdout",
     "output_type": "stream",
     "text": [
      "[1 -- 3]\n"
     ]
    }
   ],
   "source": [
    "\n",
    "print(arr)\n"
   ]
  },
  {
   "cell_type": "markdown",
   "id": "25ddb2b5-9f57-4c1b-953a-22649441ffcc",
   "metadata": {},
   "source": [
    "<br>\n",
    "\n",
    "<span style=\"color: #a245ff;\">You can also import this masking feature &nbsp;<code style=\"background-color: yellow;\">numpy.<span style=\"font-size: 1rem; color: red;\"><strong>ma</strong></span></code>&nbsp; explicitly</span>"
   ]
  },
  {
   "cell_type": "code",
   "execution_count": 77,
   "id": "f630504b-c2f1-4435-84b6-d6e01a9efcde",
   "metadata": {},
   "outputs": [
    {
     "name": "stdout",
     "output_type": "stream",
     "text": [
      "[1 -- 3]\n"
     ]
    }
   ],
   "source": [
    "\n",
    "import numpy.ma as ma\n",
    "\n",
    "arr = ma.array([1, 2, 3], mask=[0, 1, 0])                           # Masks the second element\n",
    "\n",
    "print(arr)                                                          # [1 -- 3]\n"
   ]
  },
  {
   "cell_type": "markdown",
   "id": "2b071835-c16c-4715-8576-39718e519d0e",
   "metadata": {
    "jp-MarkdownHeadingCollapsed": true
   },
   "source": [
    "<br>\n",
    "\n",
    "###### <span style=\"font-size: 1rem; color: #ff0080; background-color: white;\"><strong>23. &nbsp;How &nbsp;can &nbsp;you &nbsp;perform &nbsp;statistical &nbsp;operations &nbsp;using &nbsp;NumPy ?</strong></span>\n"
   ]
  },
  {
   "cell_type": "markdown",
   "id": "95303a6d-8b2c-4d45-9238-9a1cc3871e26",
   "metadata": {},
   "source": [
    "\n",
    "<span style=\"margin-left: 32px;\">Use functions like &nbsp;<code style=\"background-color: yellow;\">numpy.<span style=\"font-size: 1rem; color: red;\"><strong>mean()</strong></span></code> , &nbsp;<code style=\"background-color: yellow;\">numpy.<span style=\"font-size: 1rem; color: red;\"><strong>median</strong></span></code> , &nbsp;<code style=\"background-color: yellow;\">numpy.<span style=\"font-size: 1rem; color: red;\"><strong>std</strong></span></code> , etc.</span>"
   ]
  },
  {
   "cell_type": "code",
   "execution_count": 78,
   "id": "60150205-7a23-4fd2-84c5-f4f313594636",
   "metadata": {},
   "outputs": [
    {
     "name": "stdout",
     "output_type": "stream",
     "text": [
      "2.5\n",
      "1.118033988749895\n"
     ]
    }
   ],
   "source": [
    "\n",
    "arr = np.array([1, 2, 3, 4])\n",
    "print(np.mean(arr))                                                 # 2.5\n",
    "print(np.std(arr))                                                  # 1.118033988749895\n"
   ]
  },
  {
   "cell_type": "markdown",
   "id": "9af19986-c5fb-414d-812b-4ec43467b36c",
   "metadata": {
    "jp-MarkdownHeadingCollapsed": true
   },
   "source": [
    "\n",
    "<br>\n",
    "\n",
    "###### <span style=\"font-size: 1rem; color: #ff0080; background-color: white;\"><strong>24. &nbsp;How &nbsp;does &nbsp;NumPy &nbsp;optimize &nbsp;performance &nbsp;compared &nbsp;to &nbsp;Python &nbsp;loops ?</strong></span> &nbsp;&nbsp;&nbsp;&nbsp;&nbsp;&nbsp;&nbsp;&nbsp;&nbsp;&nbsp;&nbsp;&nbsp;&nbsp;&nbsp;&nbsp;<font size=\"+1\">⭐</font>\n"
   ]
  },
  {
   "cell_type": "markdown",
   "id": "8efcf688-6c93-4c49-b1fe-fb88c3404376",
   "metadata": {},
   "source": [
    "<div style=\"margin-left: 24px;\">\n",
    "\n",
    "- Uses &nbsp;<span style=\"color: blue;\"><strong>C</strong>-based &nbsp;implementations</span> &nbsp;for &nbsp;speed\n",
    "\n",
    "- Supports &nbsp;<span style=\"color: blue;\">vectorized &nbsp;operations</span> &nbsp;to &nbsp;avoid &nbsp;Python &nbsp;loops\n",
    "  \n",
    "- A NumPy array can contain either integer or float numbers, <span style=\"color: blue;\">but not both at the same time</span>. This restriction allows Numpy to **speed up the linear algebra calculations**.\n",
    "\n",
    "</div>"
   ]
  },
  {
   "cell_type": "code",
   "execution_count": 82,
   "id": "dfbd24c0-7768-429f-8599-22a0eb944471",
   "metadata": {},
   "outputs": [
    {
     "name": "stdout",
     "output_type": "stream",
     "text": [
      "[2 4 6]\n"
     ]
    }
   ],
   "source": [
    "\n",
    "arr = np.array([1, 2, 3])\n",
    "\n",
    "print(arr * 2)                                     # Vectorized operation, faster than looping\n"
   ]
  },
  {
   "cell_type": "markdown",
   "id": "5c67d4af-5ba1-45e6-9b8e-88315c2e756c",
   "metadata": {
    "jp-MarkdownHeadingCollapsed": true
   },
   "source": [
    "\n",
    "<br>\n",
    "\n",
    "###### <span style=\"font-size: 1rem; color: #ff0080; background-color: white;\"><strong>25. &nbsp;Explain &nbsp;the &nbsp;use &nbsp;of &nbsp;<code style=\"background-color: #f4e3ff;\">np.<span style=\"color: blue;\">linalg</span></code> &nbsp;for &nbsp;linear &nbsp;algebra &nbsp;operations</strong></span>\n"
   ]
  },
  {
   "cell_type": "code",
   "execution_count": 108,
   "id": "a342a693-8557-473c-ad7a-4a6fd2592562",
   "metadata": {},
   "outputs": [
    {
     "name": "stdout",
     "output_type": "stream",
     "text": [
      "[[-2.   1. ]\n",
      " [ 1.5 -0.5]]\n",
      "\n",
      " -2.0000000000000004\n"
     ]
    }
   ],
   "source": [
    "\n",
    "from numpy.linalg import inv, det\n",
    "\n",
    "\n",
    "A = np.array([[1, 2], [3, 4]])\n",
    "\n",
    "\n",
    "print(inv(A))                                      # Inverse of matrix A\n",
    "print(\"\\n\", det(A))                                # Determinant of matrix A\n"
   ]
  },
  {
   "cell_type": "markdown",
   "id": "08575374-9350-4a38-9775-24f4e15930c9",
   "metadata": {
    "jp-MarkdownHeadingCollapsed": true
   },
   "source": [
    "\n",
    "<br>\n",
    "\n",
    "###### <span style=\"font-size: 1rem; color: #ff0080; background-color: white;\"><strong>26. &nbsp;Difference &nbsp;between &nbsp;<code style=\"background-color: #f4e3ff;\">np.<span style=\"color: blue;\">array()</span></code> &nbsp;and &nbsp;<code style=\"background-color: #f4e3ff;\">np.<span style=\"color: blue;\">asarray()</span></code></strong></span> &nbsp;&nbsp;&nbsp;&nbsp;&nbsp;&nbsp;&nbsp;&nbsp;&nbsp;&nbsp;&nbsp;&nbsp;&nbsp;&nbsp;&nbsp;<font size=\"+1\">⭐</font>\n"
   ]
  },
  {
   "cell_type": "markdown",
   "id": "5eaadf83-041b-47e2-a18c-360bab04defa",
   "metadata": {},
   "source": [
    "<div style=\"margin-left: 24px;\">\n",
    "\n",
    "- <code style=\"background-color: yellow;\">np.<span style=\"font-size: 1rem; color: red;\"><strong>array()</strong></span>  </code> &nbsp;&nbsp;=======>&nbsp;&nbsp; Always creates a new array\n",
    "  \n",
    "- <code style=\"background-color: yellow;\">np.<span style=\"font-size: 1rem; color: red;\"><strong>asarray()</strong></span></code> &nbsp;&nbsp;=======>&nbsp;&nbsp; Converts input to an array without copying if already an array\n",
    "\n",
    "</div>"
   ]
  },
  {
   "cell_type": "code",
   "execution_count": 110,
   "id": "a86e6e0e-94db-4b43-85ae-b6f22dfb1dac",
   "metadata": {},
   "outputs": [
    {
     "name": "stdout",
     "output_type": "stream",
     "text": [
      "True\n",
      "False\n"
     ]
    }
   ],
   "source": [
    "\n",
    "arr = np.array([1, 2, 3])\n",
    "\n",
    "print(np.asarray(arr) is arr)                      # True, no copy\n",
    "print(np.array(arr) is arr)                        # False, creates a new array\n"
   ]
  },
  {
   "cell_type": "markdown",
   "id": "03eaac8a-7d1d-4b80-b732-0524f3a0d7ab",
   "metadata": {
    "jp-MarkdownHeadingCollapsed": true
   },
   "source": [
    "\n",
    "<br>\n",
    "\n",
    "###### <span style=\"font-size: 1rem; color: #ff0080; background-color: white;\"><strong>27. &nbsp;How &nbsp;do &nbsp;you &nbsp;generate &nbsp;random &nbsp;numbers &nbsp;with &nbsp;NumPy ?</strong></span>\n"
   ]
  },
  {
   "cell_type": "markdown",
   "id": "bbbfcd97-37c1-4b1b-bcdd-996575238c03",
   "metadata": {},
   "source": [
    "<span style=\"margin-left: 32px;\">Use &nbsp;<code style=\"background-color: yellow;\">numpy.<span style=\"font-size: 1rem; color: red;\"><strong>random()</strong></span></code> &nbsp;module</span>\n"
   ]
  },
  {
   "cell_type": "code",
   "execution_count": 111,
   "id": "90b12ec7-804d-4e3b-be94-7778fdaf9b45",
   "metadata": {},
   "outputs": [
    {
     "name": "stdout",
     "output_type": "stream",
     "text": [
      "[0.32866271 0.64061457 0.2691745 ]\n",
      "[9 7 3]\n"
     ]
    }
   ],
   "source": [
    "\n",
    "from numpy.random import rand, randint\n",
    "\n",
    "print(rand(3))                                      # Random floats in [0, 1)\n",
    "print(randint(0, 10, 3))                            # Random integers between 0 and 10\n"
   ]
  },
  {
   "cell_type": "markdown",
   "id": "61a48f02-8a36-4583-90b9-d61c260fc915",
   "metadata": {
    "jp-MarkdownHeadingCollapsed": true
   },
   "source": [
    "<br>\n",
    "\n",
    "###### <span style=\"font-size: 1rem; color: #ff0080; background-color: white;\"><strong>28. &nbsp;What &nbsp;is &nbsp;memory &nbsp;layout &nbsp;(C-contiguous &nbsp;vs. &nbsp;F-contiguous) ?</strong></span> &nbsp;&nbsp;&nbsp;&nbsp;&nbsp;&nbsp;&nbsp;&nbsp;&nbsp;&nbsp;&nbsp;&nbsp;&nbsp;&nbsp;&nbsp;<font size=\"+1\">⭐</font>\n"
   ]
  },
  {
   "cell_type": "markdown",
   "id": "eaaeef3d-f3a7-4758-ac44-3e9f67c911de",
   "metadata": {},
   "source": [
    "<div style=\"margin-left: 24px;\">\n",
    "\n",
    "- <strong>C-contiguous</strong> &nbsp;&nbsp;======>&nbsp;&nbsp; Row-major order\n",
    "  \n",
    "- <strong>F-contiguous</strong> &nbsp;&nbsp;======>&nbsp;&nbsp; Column-major order\n",
    "\n",
    "</div>\n"
   ]
  },
  {
   "cell_type": "code",
   "execution_count": 112,
   "id": "63109be6-498f-4b80-adeb-73f6b32b9a20",
   "metadata": {},
   "outputs": [
    {
     "name": "stdout",
     "output_type": "stream",
     "text": [
      "  C_CONTIGUOUS : False\n",
      "  F_CONTIGUOUS : True\n",
      "  OWNDATA : True\n",
      "  WRITEABLE : True\n",
      "  ALIGNED : True\n",
      "  WRITEBACKIFCOPY : False\n",
      "\n"
     ]
    }
   ],
   "source": [
    "\n",
    "arr = np.array([[1, 2], [3, 4]], order='F')\n",
    "\n",
    "print(arr.flags)                                    # Displays memory layout info\n"
   ]
  },
  {
   "cell_type": "markdown",
   "id": "22e59f43-9c19-42c5-8637-99f71189e56f",
   "metadata": {
    "jp-MarkdownHeadingCollapsed": true
   },
   "source": [
    "<br>\n",
    "\n",
    "###### <span style=\"font-size: 1rem; color: #ff0080; background-color: white;\"><strong>29. &nbsp;What &nbsp;is &nbsp;a &nbsp;<code style=\"background-color: #f4e3ff; color: blue;\"> .dat </code> &nbsp;file?</strong></span> &nbsp;&nbsp;&nbsp;&nbsp;&nbsp;&nbsp;&nbsp;&nbsp;&nbsp;&nbsp;&nbsp;&nbsp;&nbsp;&nbsp;&nbsp;<font size=\"+1\">⭐</font>\n"
   ]
  },
  {
   "cell_type": "markdown",
   "id": "b26458e0-5513-4b5f-826c-4b0973b44e6f",
   "metadata": {},
   "source": [
    "<br>\n",
    "\n",
    "The &nbsp;<code style=\"background-color: yellow;\">.dat</code> &nbsp;file extension is a generic format that stands for <span style=\"color: blue;\"><strong>\"data\"</strong> file</span>. &nbsp;It is used to store data in a variety of formats, depending on the application or program that created it. Unlike specific file formats such as &nbsp;<code>.csv</code> &nbsp;or <code>.json</code> , &nbsp;<code style=\"background-color: yellow;\">.dat</code> <u>files do not follow a predefined structure or standard, and their content can vary widely</u>.\n",
    "\n",
    "<br>\n",
    "\n",
    "🔶 &nbsp;&nbsp;<strong>Characteristics &nbsp;of</strong> &nbsp;<code style=\"background-color: yellow;\">.dat</code> &nbsp;<strong>Files</strong>  <br>\n",
    "\n",
    "<div style=\"margin-left: 50px;\">\n",
    "\n",
    "1. &nbsp;<strong>Purpose :</strong> <br>\n",
    "\n",
    "<div style=\"margin-left: 40px;\">\n",
    "\n",
    "- To store application-specific or raw data for processing\n",
    "- Often used as input/output files for programs\n",
    "\n",
    "</div>\n",
    "\n",
    "2. &nbsp;<strong>Content :</strong> <br>\n",
    "\n",
    "<div style=\"margin-left: 40px;\">\n",
    "\n",
    "- Can be <u>binary</u> or <u>text-based</u> , depending on the application\n",
    "- May include raw data, structured data, serialized objects, or even configuration information\n",
    "\n",
    "</div>\n",
    "\n",
    "3. &nbsp;<strong>Generic Nature :</strong>\n",
    "\n",
    "<div style=\"margin-left: 40px;\">\n",
    "    \n",
    "- Not tied to a specific software or file format, which makes &nbsp;<code style=\"background-color: yellow;\">.dat</code> &nbsp;a flexible but ambiguous file extension\n",
    "\n",
    "</div>\n",
    "\n",
    "</div>"
   ]
  },
  {
   "cell_type": "markdown",
   "id": "2189b652-cf49-4780-ae40-d8fde3f3fe8b",
   "metadata": {},
   "source": [
    "<span style=\"color: red;\">-----------------------------------------------------------------------------------------------------------------------------------------------------------------------------------------------</span>\n",
    "\n",
    "<br>\n",
    "\n",
    "🔶 &nbsp;&nbsp;<strong>Examples &nbsp;of &nbsp;usage</strong>  <br>\n",
    "\n",
    "<div style=\"margin-left: 50px;\">\n",
    "\n",
    "1. &nbsp;<span style=\"color: red;\"><strong>Binary</strong> &nbsp;<code style=\"background-color: yellow;\">.dat</code> &nbsp;<strong>Files</strong></span> <br>\n",
    "\n",
    "<div style=\"margin-left: 40px;\">\n",
    "\n",
    "- Store binary data, such as numerical arrays or images\n",
    "- Common in scientific computing or machine learning for datasets\n",
    "\n",
    "</div>\n",
    "\n",
    "2. &nbsp;<span style=\"color: red;\"><strong>Text-Based</strong> &nbsp;<code style=\"background-color: yellow;\">.dat</code> &nbsp;<strong>Files</strong></span> <br>\n",
    "\n",
    "<div style=\"margin-left: 40px;\">\n",
    "\n",
    "- Store human-readable data, often structured in a custom format\n",
    "- <u>Example</u> :\n",
    "\n",
    "<div style=\"margin-left: 65px;\">\n",
    "\n",
    "![](../media/text_based_dat_filetype.PNG)\n",
    "\n",
    "</div>\n",
    "\n",
    "</div>\n",
    "\n",
    "3. &nbsp;<span style=\"color: red;\"><strong>Program-Specific</strong> &nbsp;<code style=\"background-color: yellow;\">.dat</code> &nbsp;<strong>Files</strong></span> <br>\n",
    "\n",
    "<div style=\"margin-left: 40px;\">\n",
    "    \n",
    "- Some programs use &nbsp;<code style=\"background-color: yellow;\">.dat</code> &nbsp;to store configuration or operational data\n",
    "- <u>Example</u> &nbsp;&nbsp;=====>&nbsp;&nbsp; Video games often use &nbsp;<code style=\"background-color: yellow;\">.dat</code> &nbsp;files <strong>for saving game progress</strong>\n",
    "\n",
    "</div>\n",
    "\n",
    "</div>\n",
    "\n",
    "<br>\n",
    "\n",
    "<span style=\"color: red;\">-----------------------------------------------------------------------------------------------------------------------------------------------------------------------------------------------</span>\n",
    "\n",
    "<br>\n",
    "\n",
    "🔶 &nbsp;&nbsp;<strong>How</strong> &nbsp;<code style=\"background-color: yellow;\">.dat</code> &nbsp;<strong>Files &nbsp;Work &nbsp;in &nbsp;NumPy ?</strong>  <br>\n",
    "\n",
    "<span style=\"margin-left: 55px;\">In the context of NumPy or numerical computing, &nbsp;<code style=\"background-color: yellow;\">.dat</code>&nbsp; files are often used to store large arrays of numerical data, either in binary or text format.</span>\n",
    "\n",
    "<br>\n",
    "\n",
    "<span style=\"color: red;\">1. &nbsp;Writing &nbsp;to &nbsp;a &nbsp;<strong>Binary</strong> &nbsp;<code style=\"background-color: yellow;\">.dat</code> &nbsp;File</span>"
   ]
  },
  {
   "cell_type": "code",
   "execution_count": 16,
   "id": "349f8118-e348-4e99-91b1-c5bc1ff36cce",
   "metadata": {},
   "outputs": [],
   "source": [
    "\n",
    "data = np.random.rand(1000, 1000)\n",
    "data.tofile('data.dat')                                                             # Save data in binary format\n"
   ]
  },
  {
   "cell_type": "markdown",
   "id": "be32f1d3-9ef9-4a04-b83a-60a022c2f788",
   "metadata": {},
   "source": [
    "<br>\n",
    "\n",
    "<span style=\"color: red;\">2. &nbsp;Reading &nbsp;to &nbsp;a &nbsp;<strong>Binary</strong> &nbsp;<code style=\"background-color: yellow;\">.dat</code> &nbsp;File</span>\n"
   ]
  },
  {
   "cell_type": "code",
   "execution_count": 17,
   "id": "b38ab57c-4dbf-4ebe-b1d9-ba3749154c6c",
   "metadata": {},
   "outputs": [
    {
     "name": "stdout",
     "output_type": "stream",
     "text": [
      "[[0.39384003 0.32950227 0.33224468 ... 0.36636434 0.63034586 0.618601  ]\n",
      " [0.31363853 0.10121273 0.49869932 ... 0.69268764 0.77815364 0.9782452 ]\n",
      " [0.78405888 0.28749844 0.4977095  ... 0.69249725 0.36830107 0.76897677]\n",
      " ...\n",
      " [0.95675017 0.35774783 0.47803283 ... 0.05766591 0.06426788 0.98927514]\n",
      " [0.71181357 0.31881248 0.65018489 ... 0.01049585 0.51033147 0.68247262]\n",
      " [0.43232469 0.51726256 0.63905196 ... 0.40247157 0.47997029 0.47416146]]\n"
     ]
    }
   ],
   "source": [
    "\n",
    "loaded_data = np.fromfile('data.dat', dtype='float64').reshape(1000, 1000)\n",
    "print(loaded_data)\n"
   ]
  },
  {
   "cell_type": "markdown",
   "id": "7f817e45-8b22-4e78-8483-5e2b308873b8",
   "metadata": {},
   "source": [
    "<br>\n",
    "\n",
    "<span style=\"color: red;\">3. &nbsp;Writing &nbsp;and &nbsp;Reading &nbsp;a &nbsp;<strong>Text-Based</strong> &nbsp;<code style=\"background-color: yellow;\">.dat</code> &nbsp;File</span>"
   ]
  },
  {
   "cell_type": "code",
   "execution_count": 18,
   "id": "456c4b18-4b40-4dd3-8544-4802f5e111b6",
   "metadata": {},
   "outputs": [
    {
     "name": "stdout",
     "output_type": "stream",
     "text": [
      "[[0.39384003 0.32950227 0.33224468 ... 0.36636434 0.63034586 0.618601  ]\n",
      " [0.31363853 0.10121273 0.49869932 ... 0.69268764 0.77815364 0.9782452 ]\n",
      " [0.78405888 0.28749844 0.4977095  ... 0.69249725 0.36830107 0.76897677]\n",
      " ...\n",
      " [0.95675017 0.35774783 0.47803283 ... 0.05766591 0.06426788 0.98927514]\n",
      " [0.71181357 0.31881248 0.65018489 ... 0.01049585 0.51033147 0.68247262]\n",
      " [0.43232469 0.51726256 0.63905196 ... 0.40247157 0.47997029 0.47416146]]\n"
     ]
    }
   ],
   "source": [
    "\n",
    "np.savetxt('data.dat', data, delimiter=',')                                         # Save as text\n",
    "loaded_data = np.loadtxt('data.dat', delimiter=',')\n",
    "print(loaded_data)\n"
   ]
  },
  {
   "cell_type": "markdown",
   "id": "43154f98-dadd-44f5-88f2-2473c3229086",
   "metadata": {},
   "source": [
    "<br>\n",
    "\n",
    "<span style=\"color: red;\">-----------------------------------------------------------------------------------------------------------------------------------------------------------------------------------------------</span>\n",
    "\n",
    "<br>\n",
    "\n",
    "🔶 &nbsp;&nbsp;<strong>Advantages &nbsp;of</strong> &nbsp;<code style=\"background-color: yellow;\">.dat</code> &nbsp;<strong>Files</strong>  <br>\n",
    "\n",
    "<div style=\"margin-left: 50px;\">\n",
    "    \n",
    "- <span style=\"color: blue;\">Flexibility</span> &nbsp;&nbsp;&nbsp;&nbsp;&nbsp;&nbsp;&nbsp;====>&nbsp;&nbsp;&nbsp; Can store any type of data.\n",
    "- <span style=\"color: blue;\">Portability</span> &nbsp;&nbsp;&nbsp;&nbsp;&nbsp;&nbsp;====>&nbsp;&nbsp;&nbsp; Easy to move across systems.\n",
    "- <span style=\"color: blue;\">Lightweight</span> &nbsp;&nbsp;&nbsp;====>&nbsp;&nbsp;&nbsp; Avoids overhead associated with structured formats like XML or JSON.\n",
    "\n",
    "</div>\n",
    "\n",
    "<br>\n",
    "\n",
    "<span style=\"color: red;\">-----------------------------------------------------------------------------------------------------------------------------------------------------------------------------------------------</span>\n",
    "\n",
    "<br>\n",
    "\n",
    "🔶 &nbsp;&nbsp;<strong>Disadvantages &nbsp;of</strong> &nbsp;<code style=\"background-color: yellow;\">.dat</code> &nbsp;<strong>Files</strong>  <br>\n",
    "\n",
    "<div style=\"margin-left: 50px;\">\n",
    "    \n",
    "- <span style=\"color: blue;\">Ambiguity</span> &nbsp;&nbsp;&nbsp;&nbsp;&nbsp;&nbsp;&nbsp;&nbsp;&nbsp;&nbsp;&nbsp;&nbsp;&nbsp;&nbsp;&nbsp;&nbsp;&nbsp;&nbsp;&nbsp;&nbsp;&nbsp;====>&nbsp;&nbsp;&nbsp; No universal standard, making it hard to interpret without documentation.\n",
    "- <span style=\"color: blue;\">Not &nbsp;Self-Descriptive</span> &nbsp;&nbsp;&nbsp;&nbsp;====>&nbsp;&nbsp;&nbsp; Unlike formats like &nbsp;<code>.csv</code> &nbsp;or &nbsp;<code>.json</code> &nbsp;<span style=\"font-size: 1.1rem;\">,</span> &nbsp;<code style=\"background-color: yellow;\">.dat</code> files don't inherently describe their structure or content.\n",
    "\n",
    "</div>\n"
   ]
  },
  {
   "cell_type": "markdown",
   "id": "7619b29a-5a18-4248-a144-3f77859adbc6",
   "metadata": {},
   "source": [
    "<br>\n",
    "\n",
    "<span style=\"color: red;\">-----------------------------------------------------------------------------------------------------------------------------------------------------------------------------------------------</span>\n",
    "\n",
    "<br>\n",
    "\n",
    "🔶 &nbsp;&nbsp;<strong>Common &nbsp;Alternatives</strong>  <br>\n",
    "\n",
    "<div style=\"margin-left: 60px;\">\n",
    " \n",
    "For more structured data, consider these formats &nbsp;:\n",
    "\n",
    "- <span style=\"color: red;\">Binary</span>\n",
    "\n",
    "<div style=\"margin-left: 70px;\">\n",
    "\n",
    "- <code style=\"background-color: #bffff3;\">.npy</code> &nbsp;(Numpy format) &nbsp;or &nbsp;<code style=\"background-color: #bffff3;\">.npz</code> &nbsp;(compressed Numpy arrays).  &nbsp;&nbsp;&nbsp;&nbsp;<br>Other &nbsp;file &nbsp;formats &nbsp;for &nbsp;reduced &nbsp;disk &nbsp;storage &nbsp;are &nbsp;<code>.gzip</code> , &nbsp;<code>.bz2</code> , &nbsp;or &nbsp;<code>.zarr</code>\n",
    "\n",
    "- HDF5 <span style=\"font-size: 1.1rem;\">(</span> <code style=\"background-color: #bffff3;\">.h5</code> &nbsp;&nbsp;ie., &nbsp;<code>h5py</code> &nbsp;or &nbsp;<code>pandas.HDFStore</code> <span style=\"font-size: 1.1rem;\">)</span> &nbsp;&nbsp;==========>&nbsp;&nbsp; <strong><span style=\"color: blue;\">Hierarchical data format</span></strong> , efficient for large hierarchical datasets\n",
    "    \n",
    "</div>\n",
    "\n",
    "- <span style=\"color: red;\">Text</span>\n",
    "\n",
    "<div style=\"margin-left: 70px;\">\n",
    "\n",
    "- <code style=\"background-color: #bffff3;\">.csv</code> &nbsp;(Comma-separated values) &nbsp;&nbsp;==============>&nbsp;&nbsp; For tabular data\n",
    "\n",
    "- <code style=\"background-color: #bffff3;\">.json</code> &nbsp;&nbsp;===============================>&nbsp;&nbsp; For <strong><span style=\"color: blue;\">hierarchical</span></strong> or <strong><span style=\"color: blue;\">key-value</span></strong> data\n",
    "    \n",
    "</div>\n",
    "\n",
    "</div>\n"
   ]
  },
  {
   "cell_type": "markdown",
   "id": "2ee3967d-d088-4f9d-a15d-bfe712638577",
   "metadata": {},
   "source": [
    "<br>\n",
    "\n",
    "<span style=\"color: #a245ff;\">If you’re working with &nbsp;<code style=\"background-color: yellow;\">.dat</code> &nbsp;files in a specific context, <strong>understanding their structure (binary or text, delimiters, encoding, etc.) is crucial for proper handling</strong>.</span>\n"
   ]
  },
  {
   "cell_type": "markdown",
   "id": "ab42f3d9-198b-4c19-9c1f-c2820dbd679f",
   "metadata": {
    "jp-MarkdownHeadingCollapsed": true
   },
   "source": [
    "<br>\n",
    "\n",
    "###### <span style=\"font-size: 1rem; color: #ff0080; background-color: white;\"><strong>28. &nbsp;What &nbsp;is &nbsp;<code style=\"background-color: #f4e3ff;\">np.<span style=\"color: blue;\">info()</span></code> &nbsp;?</strong></span> &nbsp;&nbsp;&nbsp;&nbsp;&nbsp;&nbsp;&nbsp;&nbsp;&nbsp;&nbsp;&nbsp;&nbsp;&nbsp;&nbsp;&nbsp;<font size=\"+1\">⭐</font>\n"
   ]
  },
  {
   "cell_type": "markdown",
   "id": "046bd1fc-5cc6-44e1-88b2-c33e1590f567",
   "metadata": {},
   "source": [
    "\n",
    "<code style=\"background-color: yellow; margin-left: 35px;\">np.info()</code>"
   ]
  },
  {
   "cell_type": "code",
   "execution_count": 61,
   "id": "8a6c4b24-a329-4ac2-b548-7ec7b89446f9",
   "metadata": {},
   "outputs": [
    {
     "name": "stdout",
     "output_type": "stream",
     "text": [
      "add(x1, x2, /, out=None, *, where=True, casting='same_kind', order='K', dtype=None, subok=True[, signature, extobj])\n",
      "\n",
      "Add arguments element-wise.\n",
      "\n",
      "Parameters\n",
      "----------\n",
      "x1, x2 : array_like\n",
      "    The arrays to be added.\n",
      "    If ``x1.shape != x2.shape``, they must be broadcastable to a common\n",
      "    shape (which becomes the shape of the output).\n",
      "out : ndarray, None, or tuple of ndarray and None, optional\n",
      "    A location into which the result is stored. If provided, it must have\n",
      "    a shape that the inputs broadcast to. If not provided or None,\n",
      "    a freshly-allocated array is returned. A tuple (possible only as a\n",
      "    keyword argument) must have length equal to the number of outputs.\n",
      "where : array_like, optional\n",
      "    This condition is broadcast over the input. At locations where the\n",
      "    condition is True, the `out` array will be set to the ufunc result.\n",
      "    Elsewhere, the `out` array will retain its original value.\n",
      "    Note that if an uninitialized `out` array is created via the default\n",
      "    ``out=None``, locations within it where the condition is False will\n",
      "    remain uninitialized.\n",
      "**kwargs\n",
      "    For other keyword-only arguments, see the\n",
      "    :ref:`ufunc docs <ufuncs.kwargs>`.\n",
      "\n",
      "Returns\n",
      "-------\n",
      "add : ndarray or scalar\n",
      "    The sum of `x1` and `x2`, element-wise.\n",
      "    This is a scalar if both `x1` and `x2` are scalars.\n",
      "\n",
      "Notes\n",
      "-----\n",
      "Equivalent to `x1` + `x2` in terms of array broadcasting.\n",
      "\n",
      "Examples\n",
      "--------\n",
      ">>> np.add(1.0, 4.0)\n",
      "5.0\n",
      ">>> x1 = np.arange(9.0).reshape((3, 3))\n",
      ">>> x2 = np.arange(3.0)\n",
      ">>> np.add(x1, x2)\n",
      "array([[  0.,   2.,   4.],\n",
      "       [  3.,   5.,   7.],\n",
      "       [  6.,   8.,  10.]])\n",
      "\n",
      "The ``+`` operator can be used as a shorthand for ``np.add`` on ndarrays.\n",
      "\n",
      ">>> x1 = np.arange(9.0).reshape((3, 3))\n",
      ">>> x2 = np.arange(3.0)\n",
      ">>> x1 + x2\n",
      "array([[ 0.,  2.,  4.],\n",
      "       [ 3.,  5.,  7.],\n",
      "       [ 6.,  8., 10.]])\n",
      "None\n"
     ]
    }
   ],
   "source": [
    "\n",
    "print(np.info(np.add))\n"
   ]
  },
  {
   "cell_type": "markdown",
   "id": "750ff868-6c15-42a2-8836-ece68f27c1b9",
   "metadata": {
    "jp-MarkdownHeadingCollapsed": true
   },
   "source": [
    "<br>\n",
    "\n",
    "### <div style=\"color: white; background-color: #ff0fba; padding: 5px;\"> <code style=\"font-size: 1.2rem; background-color: #ff0fba; color: white;\"><strong>Problem Solving Questions</strong></code> </div>\n"
   ]
  },
  {
   "cell_type": "markdown",
   "id": "87e6d5e5-b95d-4247-9c46-a69f078a5a87",
   "metadata": {
    "jp-MarkdownHeadingCollapsed": true
   },
   "source": [
    "\n",
    "###### <span style=\"font-size: 1rem; color: #ff0080; background-color: white;\"><strong>1. &nbsp;Write &nbsp;a &nbsp;NumPy &nbsp;code &nbsp;to &nbsp;find &nbsp;the &nbsp;indices &nbsp;of &nbsp;all &nbsp;the &nbsp;even &nbsp;numbers &nbsp;in &nbsp;an &nbsp;array</strong></span> &nbsp;&nbsp;&nbsp;&nbsp;&nbsp;&nbsp;&nbsp;&nbsp;&nbsp;&nbsp;&nbsp;&nbsp;&nbsp;&nbsp;&nbsp;<font size=\"+1\">⭐</font>\n"
   ]
  },
  {
   "cell_type": "markdown",
   "id": "84fc0e09-8ee5-4f3d-ae62-a0d854b6cb45",
   "metadata": {},
   "source": [
    "\n",
    "<span style=\"margin-left: 25px;\">Use &nbsp;<code style=\"background-color: yellow;\">np.<span style=\"font-size: 1rem; color: red;\"><strong>where()</strong></span></code>&nbsp; to locate indices based on a condition</span>\n"
   ]
  },
  {
   "cell_type": "code",
   "execution_count": 11,
   "id": "156f00c9-4da4-47f0-bb13-a4770e06da38",
   "metadata": {},
   "outputs": [
    {
     "name": "stdout",
     "output_type": "stream",
     "text": [
      "(array([1, 3, 5], dtype=int64),)\n",
      "[2 4 6]\n"
     ]
    }
   ],
   "source": [
    "\n",
    "arr = np.array([1, 2, 3, 4, 5, 6])\n",
    "\n",
    "even_indices = np.where(arr % 2 == 0)\n",
    "\n",
    "print(even_indices)                                                  # (array([1, 3, 5], dtype=int64),)\n",
    "print(arr[even_indices])                                             # [2 4 6]\n"
   ]
  },
  {
   "cell_type": "markdown",
   "id": "59b2a259-bf1f-44bb-b9af-c682f25b4f7d",
   "metadata": {
    "jp-MarkdownHeadingCollapsed": true
   },
   "source": [
    "<br>\n",
    "\n",
    "###### <span style=\"font-size: 1rem; color: #ff0080; background-color: white;\"><strong>2. &nbsp;How &nbsp;do &nbsp;you &nbsp;normalize &nbsp;a &nbsp;NumPy &nbsp;array &nbsp;so &nbsp;that &nbsp;its &nbsp;values &nbsp;range &nbsp;between &nbsp;0 &nbsp;and &nbsp;1 ?</strong></span>\n"
   ]
  },
  {
   "cell_type": "markdown",
   "id": "3f7c3412-b8f8-4367-8867-690336ea0a05",
   "metadata": {},
   "source": [
    "<br>\n",
    "\n",
    "<div style=\"margin-left: 65px;\">\n",
    "\n",
    "![](../media/numpy_array_normalised.PNG)\n",
    "\n",
    "</div>\n",
    "\n",
    "<br>\n",
    "\n",
    "<span style=\"color: blue;\"><strong>1D array</strong></span>"
   ]
  },
  {
   "cell_type": "code",
   "execution_count": 80,
   "id": "e2699633-3d57-4dd2-be6e-487b740b6c7d",
   "metadata": {},
   "outputs": [
    {
     "name": "stdout",
     "output_type": "stream",
     "text": [
      "[0.   0.25 0.5  0.75 1.  ]\n"
     ]
    }
   ],
   "source": [
    "\n",
    "arr = np.array([10, 20, 30, 40, 50])\n",
    "\n",
    "\n",
    "normalized_arr = (arr - arr.min()) / (arr.max() - arr.min())                   # normalizes the matrix\n",
    "print(normalized_arr)                                                              \n"
   ]
  },
  {
   "cell_type": "markdown",
   "id": "241e70b2-dc9a-4788-a878-3d3a6f25c98e",
   "metadata": {},
   "source": [
    "<br>\n",
    "\n",
    "<span style=\"color: blue;\"><strong>2D array</strong></span>"
   ]
  },
  {
   "cell_type": "code",
   "execution_count": 81,
   "id": "e128f310-4861-4b43-8af1-dfcd2f35b774",
   "metadata": {},
   "outputs": [
    {
     "name": "stdout",
     "output_type": "stream",
     "text": [
      "Original Array:\n",
      "[[0.41103844 0.71332874 0.09869485]\n",
      " [0.66448365 0.9937216  0.66857443]\n",
      " [0.53938296 0.70157897 0.19032354]]\n",
      "\n",
      "Normalized Array:\n",
      "[[0.34897682 0.68672125 0.        ]\n",
      " [0.63214736 1.         0.63671793]\n",
      " [0.49237424 0.67359341 0.10237536]]\n"
     ]
    }
   ],
   "source": [
    "\n",
    "arr = np.random.rand(3, 3)\n",
    "\n",
    "\n",
    "normalized_arr = (arr - arr.min()) / (arr.max() - arr.min())                   # normalizes the matrix\n",
    "\n",
    "\n",
    "print(\"Original Array:\")\n",
    "print(arr)\n",
    "print(\"\\nNormalized Array:\")\n",
    "print(normalized_arr)\n"
   ]
  },
  {
   "cell_type": "markdown",
   "id": "e505c3dd-ddb8-4872-997d-565e22f878b7",
   "metadata": {
    "jp-MarkdownHeadingCollapsed": true
   },
   "source": [
    "<br>\n",
    "\n",
    "###### <span style=\"font-size: 1rem; color: #ff0080; background-color: white;\"><strong>3. &nbsp;Write &nbsp;a &nbsp;NumPy &nbsp;function &nbsp;to &nbsp;compute &nbsp;the &nbsp;Euclidean &nbsp;distance &nbsp;between &nbsp;two &nbsp;points</strong></span>"
   ]
  },
  {
   "cell_type": "markdown",
   "id": "baf9128e-0a06-420a-a61f-3c822810c2f7",
   "metadata": {},
   "source": [
    "\n",
    "<br>\n",
    "\n",
    "<div style=\"margin-left: 68px;\">\n",
    "\n",
    "![](../media/numpy_euclidean_distance.PNG)\n",
    "\n",
    "</div>\n"
   ]
  },
  {
   "cell_type": "code",
   "execution_count": 129,
   "id": "db3e5c3e-d0a8-4326-bdee-4ccbe1fb1b3e",
   "metadata": {},
   "outputs": [
    {
     "name": "stdout",
     "output_type": "stream",
     "text": [
      "5.0\n"
     ]
    }
   ],
   "source": [
    "\n",
    "def euclidean_distance(p1, p2):\n",
    "    return np.sqrt(np.sum((p1 - p2) ** 2))\n",
    "\n",
    "\n",
    "point1 = np.array([1, 2])\n",
    "point2 = np.array([4, 6])\n",
    "print(euclidean_distance(point1, point2))                            # OUTPUT:  5.0\n"
   ]
  },
  {
   "cell_type": "markdown",
   "id": "78517243-595e-4b0d-80aa-3d2574c25ff1",
   "metadata": {
    "jp-MarkdownHeadingCollapsed": true
   },
   "source": [
    "<br>\n",
    "\n",
    "###### <span style=\"font-size: 1rem; color: #ff0080; background-color: white;\"><strong>4. &nbsp;Given &nbsp;a &nbsp;2D &nbsp;array, &nbsp;how &nbsp;can &nbsp;you &nbsp;swap &nbsp;two &nbsp;rows &nbsp;or &nbsp;columns ?</strong></span> &nbsp;&nbsp;&nbsp;&nbsp;&nbsp;&nbsp;&nbsp;&nbsp;&nbsp;&nbsp;&nbsp;&nbsp;&nbsp;&nbsp;&nbsp;<font size=\"+1\">⭐</font>\n"
   ]
  },
  {
   "cell_type": "markdown",
   "id": "63fe7221-607d-4e0c-853c-095a30c419ae",
   "metadata": {},
   "source": [
    "<br>\n",
    "\n",
    "<code style=\"padding: 15px; font-size: 0.8rem; margin-left: 25px; background-color: #ffdcb2;\"><span style=\"font-size: 1rem;\">arr[</span> <code style=\"background-color: white; padding:1px; color: blue;\">start_row_index : stop_row_index : step</code> <span style=\"font-size: 1rem;\">,</span> <code style=\"background-color: white; padding:1px; color: blue;\">start_column_index : stop_column_index : step</code> <span style=\"font-size: 1rem;\">]</span></code>\n",
    "\n",
    "<br>"
   ]
  },
  {
   "cell_type": "code",
   "execution_count": 3,
   "id": "8691530c-e6bf-4cc5-bf66-8d1c22fe2229",
   "metadata": {},
   "outputs": [],
   "source": [
    "\n",
    "arr = np.array([[1, 2, 3], \n",
    "                [4, 5, 6], \n",
    "                [7, 8, 9]])\n"
   ]
  },
  {
   "cell_type": "markdown",
   "id": "e09057b1-59df-4184-8f7b-e3e5ed13c67d",
   "metadata": {},
   "source": [
    "<span style=\"color: blue;\">swapping &nbsp;2 &nbsp;<strong>rows</strong></span>"
   ]
  },
  {
   "cell_type": "code",
   "execution_count": 4,
   "id": "3d4fd31e-dcb5-49e6-93cf-efb35bf6168c",
   "metadata": {},
   "outputs": [
    {
     "name": "stdout",
     "output_type": "stream",
     "text": [
      "[[4 5 6]\n",
      " [1 2 3]\n",
      " [7 8 9]]\n"
     ]
    }
   ],
   "source": [
    "\n",
    "arr[[0, 1]] = arr[[1, 0]]                                            # Swap rows with index 0 and 1\n",
    "\n",
    "print(arr)\n"
   ]
  },
  {
   "cell_type": "markdown",
   "id": "159f94b2-4397-4808-abd9-aef92764c0a1",
   "metadata": {},
   "source": [
    "<span style=\"color: blue;\">swapping &nbsp;2 &nbsp;<strong>columns</strong></span>"
   ]
  },
  {
   "cell_type": "code",
   "execution_count": 7,
   "id": "6674f43d-3bbd-4abf-93aa-0f9c7efa9d97",
   "metadata": {},
   "outputs": [
    {
     "name": "stdout",
     "output_type": "stream",
     "text": [
      "[[4 5 6]\n",
      " [1 2 3]\n",
      " [7 8 9]]\n"
     ]
    }
   ],
   "source": [
    "\n",
    "arr[:, [0, 1]] = arr[:, [1, 0]]                                      # Swap columns with index 0 and 1\n",
    "\n",
    "print(arr)\n"
   ]
  },
  {
   "cell_type": "markdown",
   "id": "a135d8db-9329-457c-be0c-0aadd1c90cee",
   "metadata": {},
   "source": [
    "<br>\n",
    "\n",
    "<code style=\"background-color: #ead2ff;\">[0, 1]</code> &nbsp;and &nbsp;<code style=\"background-color: #ead2ff;\">[1, 0]</code> use <strong>fancy indexing</strong>, which <span style=\"color: red;\">creates new views or copies for reassignment</span>. &nbsp;NumPy automatically handles temporary storage during such operations."
   ]
  },
  {
   "cell_type": "markdown",
   "id": "d0d5892c-c341-4723-87f4-0712b1dc0ad2",
   "metadata": {
    "jp-MarkdownHeadingCollapsed": true
   },
   "source": [
    "<br>\n",
    "\n",
    "###### <span style=\"font-size: 1rem; color: #ff0080; background-color: white;\"><strong>5. &nbsp;How &nbsp;do &nbsp;you &nbsp;compute &nbsp;the &nbsp;cumulative &nbsp;sum &nbsp;of &nbsp;elements &nbsp;in &nbsp;a &nbsp;NumPy &nbsp;array ?</strong></span> &nbsp;&nbsp;&nbsp;&nbsp;&nbsp;&nbsp;&nbsp;&nbsp;&nbsp;&nbsp;&nbsp;&nbsp;&nbsp;&nbsp;&nbsp;<font size=\"+1\">⭐</font>\n"
   ]
  },
  {
   "cell_type": "markdown",
   "id": "e244397f-3355-463f-aeea-cf79f066ae08",
   "metadata": {},
   "source": [
    "\n",
    "<span style=\"margin-left: 25px;\"><code style=\"background-color: yellow;\">np.<span style=\"font-size: 1rem; color: red;\"><strong>cumsum()</strong></span></code></span>"
   ]
  },
  {
   "cell_type": "code",
   "execution_count": 9,
   "id": "3bf57bf7-87b0-4a4a-8f44-16451977759d",
   "metadata": {},
   "outputs": [
    {
     "name": "stdout",
     "output_type": "stream",
     "text": [
      "[ 1  3  6 10]\n"
     ]
    }
   ],
   "source": [
    "\n",
    "arr = np.array([1, 2, 3, 4])\n",
    "\n",
    "\n",
    "cumsum = np.cumsum(arr)\n",
    "print(cumsum)                                                        # OUTPUT: [ 1  3  6 10]\n"
   ]
  },
  {
   "cell_type": "markdown",
   "id": "38283707-d9a2-4324-8b37-2e691d2727e1",
   "metadata": {
    "jp-MarkdownHeadingCollapsed": true
   },
   "source": [
    "<br>\n",
    "\n",
    "###### <span style=\"font-size: 1rem; color: #ff0080; background-color: white;\"><strong>6. &nbsp;Write &nbsp;a &nbsp;program &nbsp;to &nbsp;sort &nbsp;a &nbsp;NumPy &nbsp;array &nbsp;by &nbsp;its &nbsp;second &nbsp;column</strong></span> &nbsp;&nbsp;&nbsp;&nbsp;&nbsp;&nbsp;&nbsp;&nbsp;&nbsp;&nbsp;&nbsp;&nbsp;&nbsp;&nbsp;&nbsp;<font size=\"+1\">⭐</font>\n"
   ]
  },
  {
   "cell_type": "markdown",
   "id": "bcc76ed8-8011-4e83-8029-9aec8ede3339",
   "metadata": {},
   "source": [
    "\n",
    "<span style=\"margin-left: 25px;\">Use &nbsp;<code style=\"background-color: yellow;\">np.<span style=\"font-size: 1rem; color: red;\"><strong>argsort()</strong></span></code> &nbsp;with &nbsp;<strong>column &nbsp;indexing</strong></span>"
   ]
  },
  {
   "cell_type": "code",
   "execution_count": 21,
   "id": "bad86c68-6486-4246-802e-df04026f5e8e",
   "metadata": {},
   "outputs": [],
   "source": [
    "\n",
    "arr = np.array([[1, 3], \n",
    "                [4, 1], \n",
    "                [2, 2]])\n"
   ]
  },
  {
   "cell_type": "code",
   "execution_count": 34,
   "id": "d66a292f-1cf1-4318-897c-e9bcf704d68c",
   "metadata": {},
   "outputs": [
    {
     "data": {
      "text/plain": [
       "array([3, 1, 2])"
      ]
     },
     "execution_count": 34,
     "metadata": {},
     "output_type": "execute_result"
    }
   ],
   "source": [
    "\n",
    "arr[:, 1]                                                            # selects all rows but with column indices 1\n"
   ]
  },
  {
   "cell_type": "code",
   "execution_count": 35,
   "id": "43c3f45f-2258-41a6-9631-1845be50b497",
   "metadata": {},
   "outputs": [
    {
     "data": {
      "text/plain": [
       "array([1, 2, 0], dtype=int64)"
      ]
     },
     "execution_count": 35,
     "metadata": {},
     "output_type": "execute_result"
    }
   ],
   "source": [
    "\n",
    "sorted_indices = arr[:, 1].argsort()                                 # returns sorted indices\n",
    "sorted_indices\n"
   ]
  },
  {
   "cell_type": "code",
   "execution_count": 37,
   "id": "b43fa03c-6c95-4260-a635-bb8b55355f7f",
   "metadata": {},
   "outputs": [
    {
     "data": {
      "text/plain": [
       "array([[4, 1],\n",
       "       [2, 2],\n",
       "       [1, 3]])"
      ]
     },
     "execution_count": 37,
     "metadata": {},
     "output_type": "execute_result"
    }
   ],
   "source": [
    "\n",
    "arr[sorted_indices]                                                  # sorts the numpy array 'arr' by it's second column\n"
   ]
  },
  {
   "cell_type": "markdown",
   "id": "5aaf7518-a8e9-4c56-9e37-410b5387739f",
   "metadata": {},
   "source": [
    "<br>\n",
    "\n",
    "<code style=\"background-color: black; color: white;\">Solution</code>"
   ]
  },
  {
   "cell_type": "code",
   "execution_count": 38,
   "id": "eac300e7-f583-4fc4-9af3-15663af1569c",
   "metadata": {},
   "outputs": [
    {
     "data": {
      "text/plain": [
       "array([[4, 1],\n",
       "       [2, 2],\n",
       "       [1, 3]])"
      ]
     },
     "execution_count": 38,
     "metadata": {},
     "output_type": "execute_result"
    }
   ],
   "source": [
    "\n",
    "arr = np.array([[1, 3], \n",
    "                [4, 1], \n",
    "                [2, 2]])\n",
    "\n",
    "\n",
    "arr[arr[:, 1].argsort()]\n"
   ]
  },
  {
   "cell_type": "markdown",
   "id": "1019e498-e677-45bd-b5f1-38d185323342",
   "metadata": {
    "jp-MarkdownHeadingCollapsed": true
   },
   "source": [
    "<br>\n",
    "\n",
    "###### <span style=\"font-size: 1rem; color: #ff0080; background-color: white;\"><strong>7. &nbsp;How &nbsp;do &nbsp;you &nbsp;generate &nbsp;an &nbsp;identity &nbsp;matrix &nbsp;in &nbsp;NumPy ?</strong></span>"
   ]
  },
  {
   "cell_type": "markdown",
   "id": "74676460-27fc-49cd-af1a-8d183ad73d31",
   "metadata": {},
   "source": [
    "<span style=\"margin-left: 24px;\">Use &nbsp;<code style=\"background-color: yellow;\">np.<span style=\"color: red; font-size: 1rem;\"><strong>eye()</strong></span></code> &nbsp;or &nbsp;<code style=\"background-color: yellow;\">np.<span style=\"color: red; font-size: 1rem;\"><strong>identity()</strong></span></code></span>"
   ]
  },
  {
   "cell_type": "code",
   "execution_count": 40,
   "id": "15fff892-d2d8-4f71-aa1b-251eccf53236",
   "metadata": {},
   "outputs": [
    {
     "name": "stdout",
     "output_type": "stream",
     "text": [
      "[[1. 0. 0.]\n",
      " [0. 1. 0.]\n",
      " [0. 0. 1.]]\n"
     ]
    }
   ],
   "source": [
    "\n",
    "identity = np.eye(3)\n",
    "\n",
    "print(identity)\n"
   ]
  },
  {
   "cell_type": "markdown",
   "id": "a5c5e15a-adcd-4fe4-b0e2-86d8be312b90",
   "metadata": {
    "jp-MarkdownHeadingCollapsed": true
   },
   "source": [
    "<br>\n",
    "\n",
    "###### <span style=\"font-size: 1rem; color: #ff0080; background-color: white;\"><strong>8. &nbsp;How &nbsp;do &nbsp;you &nbsp;perform &nbsp;element-wise &nbsp;comparison &nbsp;of &nbsp;two &nbsp;arrays &nbsp;and &nbsp;return &nbsp;a &nbsp;boolean &nbsp;array ?</strong></span>\n"
   ]
  },
  {
   "cell_type": "markdown",
   "id": "83bef316-8ace-4690-9df0-990f23acedfe",
   "metadata": {},
   "source": [
    "\n",
    "<span style=\"margin-left: 24px;\">Use &nbsp;<strong>comparison &nbsp;operators</strong> &nbsp;like &nbsp;<code style=\"background-color: #bffff3;\"> == </code> &nbsp;, &nbsp;<code style=\"background-color: #bffff3;\"> < </code> &nbsp;, &nbsp;etc.</span>"
   ]
  },
  {
   "cell_type": "code",
   "execution_count": 47,
   "id": "08eeeb2a-1f25-4f10-b513-5b59ef787c0c",
   "metadata": {},
   "outputs": [
    {
     "name": "stdout",
     "output_type": "stream",
     "text": [
      "[False False  True]\n"
     ]
    }
   ],
   "source": [
    "\n",
    "a = np.array([1, 2, 3])\n",
    "b = np.array([3, 2, 1])\n",
    "\n",
    "result = a > b\n",
    "print(result)                                                        # OUTPUT: [False False  True]\n"
   ]
  },
  {
   "cell_type": "markdown",
   "id": "46ed8d5a-2bcf-4d97-b527-6f7fe27f8cb0",
   "metadata": {
    "jp-MarkdownHeadingCollapsed": true
   },
   "source": [
    "<br>\n",
    "\n",
    "###### <span style=\"font-size: 1rem; color: #ff0080; background-color: white;\"><strong>9. &nbsp;Find &nbsp;the &nbsp;Unique &nbsp;Rows &nbsp;in &nbsp;a &nbsp;2D &nbsp;Array</strong></span> &nbsp;&nbsp;&nbsp;&nbsp;&nbsp;&nbsp;&nbsp;&nbsp;&nbsp;&nbsp;&nbsp;&nbsp;&nbsp;&nbsp;&nbsp;<font size=\"+1\">⭐</font>\n"
   ]
  },
  {
   "cell_type": "code",
   "execution_count": 48,
   "id": "672d925b-1b0d-448f-86c0-5cebd0bfc818",
   "metadata": {},
   "outputs": [
    {
     "name": "stdout",
     "output_type": "stream",
     "text": [
      "[[1 2 3]\n",
      " [4 5 6]\n",
      " [7 8 9]]\n"
     ]
    }
   ],
   "source": [
    "\n",
    "arr = np.array([[1, 2, 3],\n",
    "                [4, 5, 6],\n",
    "                [1, 2, 3],\n",
    "                [7, 8, 9]])\n",
    "\n",
    "\n",
    "print(np.unique(arr, axis=0))\n"
   ]
  },
  {
   "cell_type": "markdown",
   "id": "7546ca04-1ee4-41d4-b456-9cfba935b52f",
   "metadata": {
    "jp-MarkdownHeadingCollapsed": true
   },
   "source": [
    "<br>\n",
    "\n",
    "###### <span style=\"font-size: 1rem; color: #ff0080; background-color: white;\"><strong>10. &nbsp;Replace &nbsp;All &nbsp;Negative &nbsp;Values &nbsp;with &nbsp;Zero</strong></span> &nbsp;&nbsp;&nbsp;&nbsp;&nbsp;&nbsp;&nbsp;&nbsp;&nbsp;&nbsp;&nbsp;&nbsp;&nbsp;&nbsp;&nbsp;<font size=\"+1\">⭐</font>\n"
   ]
  },
  {
   "cell_type": "code",
   "execution_count": 55,
   "id": "ce0a2dec-3b8d-4e9b-a281-170230fb7f93",
   "metadata": {},
   "outputs": [
    {
     "name": "stdout",
     "output_type": "stream",
     "text": [
      "Array with negatives replaced by zero:\n",
      "[[1 0 3]\n",
      " [0 5 0]\n",
      " [7 0 9]]\n"
     ]
    }
   ],
   "source": [
    "\n",
    "arr = np.array([[1, -2, 3], \n",
    "                [-4, 5, -6], \n",
    "                [7, -8, 9]])\n",
    "\n",
    "\n",
    "arr[arr < 0] = 0                                                     # Using boolean indexing\n",
    "\n",
    "\n",
    "print(\"Array with negatives replaced by zero:\")\n",
    "print(arr)\n"
   ]
  },
  {
   "cell_type": "markdown",
   "id": "dd38aee1-250c-4cf0-a270-7d8b837d9ade",
   "metadata": {
    "jp-MarkdownHeadingCollapsed": true
   },
   "source": [
    "<br>\n",
    "\n",
    "###### <span style=\"font-size: 1rem; color: #ff0080; background-color: white;\"><strong>11. &nbsp;Calculate &nbsp;the &nbsp;Determinant &nbsp;of &nbsp;a &nbsp;Matrix</strong></span>"
   ]
  },
  {
   "cell_type": "code",
   "execution_count": 58,
   "id": "742d2e40-3748-41b4-a320-3de8159d3160",
   "metadata": {},
   "outputs": [
    {
     "data": {
      "text/plain": [
       "14.000000000000004"
      ]
     },
     "execution_count": 58,
     "metadata": {},
     "output_type": "execute_result"
    }
   ],
   "source": [
    "\n",
    "from numpy.linalg import det\n",
    "\n",
    "\n",
    "\n",
    "matrix = np.array([[4, 6], \n",
    "                   [3, 8]])\n",
    "\n",
    "\n",
    "det(matrix)\n"
   ]
  },
  {
   "cell_type": "markdown",
   "id": "a9e2c6b4-e324-4732-9e92-e2c884af08c1",
   "metadata": {
    "jp-MarkdownHeadingCollapsed": true
   },
   "source": [
    "<br>\n",
    "\n",
    "###### <span style=\"font-size: 1rem; color: #ff0080; background-color: white;\"><strong>12. &nbsp;Count &nbsp;the &nbsp;Frequency &nbsp;of &nbsp;Each &nbsp;Element &nbsp;in &nbsp;an &nbsp;Array</strong></span>  &nbsp;&nbsp;&nbsp;&nbsp;&nbsp;&nbsp;&nbsp;&nbsp;&nbsp;&nbsp;&nbsp;&nbsp;&nbsp;&nbsp;&nbsp;<font size=\"+1\">⭐</font>\n"
   ]
  },
  {
   "cell_type": "markdown",
   "id": "b2161b89-01df-4b97-929a-774215e5543b",
   "metadata": {},
   "source": [
    "\n",
    "<span style=\"margin-left: 32px;\">Using &nbsp;<code style=\"background-color: yellow;\">np.unique</code> &nbsp;with &nbsp;<span style=\"color: blue;\"><strong>return_counts</strong></span></span>"
   ]
  },
  {
   "cell_type": "code",
   "execution_count": 71,
   "id": "b710a3c8-eb50-42f1-9a0b-2d0e5d58ce12",
   "metadata": {},
   "outputs": [
    {
     "name": "stdout",
     "output_type": "stream",
     "text": [
      "Element Frequencies:\n",
      "1: 1\n",
      "2: 2\n",
      "3: 3\n",
      "4: 4\n"
     ]
    }
   ],
   "source": [
    "\n",
    "arr = np.array([1, 2, 2, 3, 3, 3, 4, 4, 4, 4])\n",
    "\n",
    "\n",
    "# np.unique(arr, return_counts=True)      ------------------------------------>      (array([1, 2, 3, 4]), array([1, 2, 3, 4], dtype=int64))\n",
    "unique_elements, counts = np.unique(arr, return_counts=True)\n",
    "\n",
    "\n",
    "print(\"Element Frequencies:\")\n",
    "for elem, count in zip(unique_elements, counts):\n",
    "    print(f\"{elem}: {count}\")\n"
   ]
  },
  {
   "cell_type": "markdown",
   "id": "83297efe-bb46-44d9-8165-59477dd3e43e",
   "metadata": {
    "jp-MarkdownHeadingCollapsed": true
   },
   "source": [
    "<br>\n",
    "\n",
    "###### <span style=\"font-size: 1rem; color: #ff0080; background-color: white;\"><strong>13. &nbsp;Find &nbsp;the &nbsp;Closest &nbsp;Value &nbsp;to &nbsp;a &nbsp;Given &nbsp;Number</strong></span>  &nbsp;&nbsp;&nbsp;&nbsp;&nbsp;&nbsp;&nbsp;&nbsp;&nbsp;&nbsp;&nbsp;&nbsp;&nbsp;&nbsp;&nbsp;<font size=\"+1\">⭐</font>\n"
   ]
  },
  {
   "cell_type": "code",
   "execution_count": 84,
   "id": "47d8f504-fa53-4535-b97a-eceb7dea9171",
   "metadata": {},
   "outputs": [
    {
     "name": "stdout",
     "output_type": "stream",
     "text": [
      "Closest value to 33 is 30\n"
     ]
    }
   ],
   "source": [
    "\n",
    "def find_closest(arr, target):\n",
    "    min_idx = (np.abs(arr - target)).argmin()\n",
    "    return arr[min_idx]\n",
    "\n",
    "\n",
    "arr = np.array([10, 20, 30, 40, 50])\n",
    "target = 33\n",
    "\n",
    "\n",
    "closest_value = find_closest(arr, target)\n",
    "print(\"Closest value to\", target, \"is\", closest_value)\n"
   ]
  },
  {
   "cell_type": "markdown",
   "id": "92f1778c-d9c4-42cb-adad-fc62eb672889",
   "metadata": {
    "jp-MarkdownHeadingCollapsed": true
   },
   "source": [
    "<br>\n",
    "\n",
    "###### <span style=\"font-size: 1rem; color: #ff0080; background-color: white;\"><strong>14. &nbsp;Find &nbsp;Indices &nbsp;of &nbsp;Maximum &nbsp;and &nbsp;Minimum &nbsp;Values</strong></span>  &nbsp;&nbsp;&nbsp;&nbsp;&nbsp;&nbsp;&nbsp;&nbsp;&nbsp;&nbsp;&nbsp;&nbsp;&nbsp;&nbsp;&nbsp;<font size=\"+1\">⭐</font>\n"
   ]
  },
  {
   "cell_type": "code",
   "execution_count": 85,
   "id": "64cb3ff6-d661-4c4f-85fd-1a22247d345f",
   "metadata": {},
   "outputs": [
    {
     "name": "stdout",
     "output_type": "stream",
     "text": [
      "Index of Maximum Value: (2, 1)\n",
      "Index of Minimum Value: (1, 1)\n"
     ]
    }
   ],
   "source": [
    "\n",
    "arr = np.array([[10, 25, 30], \n",
    "                 [45, 5, 60], \n",
    "                 [70, 85, 10]])\n",
    "\n",
    "\n",
    "max_idx = np.unravel_index(arr.argmax(), arr.shape)\n",
    "min_idx = np.unravel_index(arr.argmin(), arr.shape)\n",
    "\n",
    "\n",
    "print(\"Index of Maximum Value:\", max_idx)\n",
    "print(\"Index of Minimum Value:\", min_idx)\n"
   ]
  },
  {
   "cell_type": "markdown",
   "id": "56e1dc2d-b120-4a05-aa73-60c1205ca645",
   "metadata": {
    "jp-MarkdownHeadingCollapsed": true
   },
   "source": [
    "<br>\n",
    "\n",
    "###### <span style=\"font-size: 1rem; color: #ff0080; background-color: white;\"><strong>15. &nbsp;Flatten &nbsp;a &nbsp;2D &nbsp;Array &nbsp;While &nbsp;Keeping &nbsp;Only &nbsp;Odd &nbsp;Numbers</strong>   </span>&nbsp;&nbsp;&nbsp;&nbsp;&nbsp;&nbsp;&nbsp;&nbsp;&nbsp;&nbsp;&nbsp;&nbsp;&nbsp;&nbsp;&nbsp;<font size=\"+1\">⭐</font>\n"
   ]
  },
  {
   "cell_type": "code",
   "execution_count": 2,
   "id": "95fac624-2e1c-4185-9e77-82c2fc185bbe",
   "metadata": {},
   "outputs": [
    {
     "name": "stdout",
     "output_type": "stream",
     "text": [
      "Filtered Array with Odd Numbers: [1 3 5]\n"
     ]
    }
   ],
   "source": [
    "\n",
    "def flatten_and_filter_odds(array):\n",
    "    flattened = array.flatten()\n",
    "    return flattened[flattened % 2 != 0]\n",
    "\n",
    "\n",
    "arr = np.array([[1, 2, 3], [4, 5, 6]])\n",
    "result = flatten_and_filter_odds(arr)\n",
    "print(\"Filtered Array with Odd Numbers:\", result)\n"
   ]
  },
  {
   "cell_type": "markdown",
   "id": "6fcea380-f640-4dac-9f1c-7ed114d0fb32",
   "metadata": {
    "jp-MarkdownHeadingCollapsed": true
   },
   "source": [
    "<br>\n",
    "\n",
    "###### <span style=\"font-size: 1rem; color: #ff0080; background-color: white;\"><strong>16. &nbsp;Simulate &nbsp;Dice &nbsp;Rolls &nbsp;and &nbsp;Find &nbsp;Probabilities</strong></span>\n"
   ]
  },
  {
   "cell_type": "markdown",
   "id": "33974e5a-13a5-471a-9153-b19907999a35",
   "metadata": {},
   "source": [
    "<span style=\"color: blue; margin-left: 32px;\">Simulate 10 rolls of two dice and find the probabilities of the sums</span>"
   ]
  },
  {
   "cell_type": "code",
   "execution_count": 105,
   "id": "76d8452a-cb35-4b7a-a510-72d3ccfb1568",
   "metadata": {},
   "outputs": [
    {
     "name": "stdout",
     "output_type": "stream",
     "text": [
      "Sum    Probabilities:\n",
      "5:     0.100\n",
      "6:     0.100\n",
      "7:     0.100\n",
      "8:     0.200\n",
      "9:     0.400\n",
      "10:     0.100\n"
     ]
    }
   ],
   "source": [
    "\n",
    "np.random.seed(42)\n",
    "\n",
    "\n",
    "# Simulate dice rolls\n",
    "rolls_1 = np.random.randint(1, 7, 10)\n",
    "rolls_2 = np.random.randint(1, 7, 10)\n",
    "\n",
    "\n",
    "# Calculate sums\n",
    "sums = rolls_1 + rolls_2\n",
    "\n",
    "\n",
    "# Calculate probabilities\n",
    "unique_sums, counts = np.unique(sums, return_counts=True)\n",
    "probabilities = counts / counts.sum()\n",
    "\n",
    "print(\"Sum    Probabilities:\")\n",
    "for sum_value, prob in zip(unique_sums, probabilities):\n",
    "    print(f\"{sum_value}:     {prob:.3f}\")\n"
   ]
  },
  {
   "cell_type": "markdown",
   "id": "8274de9e-f7f3-4d22-bca7-452afebc21c8",
   "metadata": {
    "jp-MarkdownHeadingCollapsed": true
   },
   "source": [
    "<br>\n",
    "\n",
    "###### <span style=\"font-size: 1rem; color: #ff0080; background-color: white;\"><strong>17. &nbsp;Create &nbsp;a &nbsp;Checkerboard &nbsp;Matrix</strong></span>\n"
   ]
  },
  {
   "cell_type": "markdown",
   "id": "cdaeb59b-12f0-4fe1-b7b8-5c40e2c0746c",
   "metadata": {},
   "source": [
    "\n",
    "<span style=\"color: blue; margin-left: 32px;\">Create an &nbsp;<code>8 × 8</code>&nbsp; checkerboard matrix with alternating <strong>0s</strong> and <strong>1s</strong></span>"
   ]
  },
  {
   "cell_type": "code",
   "execution_count": 103,
   "id": "5aafc0da-6587-4619-911e-040b2873d15b",
   "metadata": {},
   "outputs": [
    {
     "name": "stdout",
     "output_type": "stream",
     "text": [
      "Checkerboard Matrix :\n",
      "[[0 1 0 1 0 1 0 1]\n",
      " [1 0 1 0 1 0 1 0]\n",
      " [0 1 0 1 0 1 0 1]\n",
      " [1 0 1 0 1 0 1 0]\n",
      " [0 1 0 1 0 1 0 1]\n",
      " [1 0 1 0 1 0 1 0]\n",
      " [0 1 0 1 0 1 0 1]\n",
      " [1 0 1 0 1 0 1 0]]\n"
     ]
    }
   ],
   "source": [
    "\n",
    "def checkerboard(size):\n",
    "    return np.indices((size, size)).sum(axis=0) % 2\n",
    "\n",
    "\n",
    "result = checkerboard(8)\n",
    "print(\"Checkerboard Matrix :\")\n",
    "print(result)\n"
   ]
  },
  {
   "cell_type": "markdown",
   "id": "df0bb717-519e-4582-aa99-9d556a971ea9",
   "metadata": {
    "jp-MarkdownHeadingCollapsed": true
   },
   "source": [
    "<br>\n",
    "\n",
    "###### <span style=\"font-size: 1rem; color: #ff0080; background-color: white;\"><strong>18. &nbsp;Replace &nbsp;Diagonal &nbsp;Elements &nbsp;of &nbsp;a &nbsp;Matrix</strong></span>\n"
   ]
  },
  {
   "cell_type": "markdown",
   "id": "22988cce-d02f-4a42-825b-0d364504eddb",
   "metadata": {},
   "source": [
    "\n",
    "<code style=\"background-color: yellow; margin-left: 32px;\">np.<span style=\"color: red;\"><span style=\"font-size: 1rem;\"><strong>fill_diagonal(</strong></span><span style=\"color: black;\">arr</span>, <span style=\"color: black;\">replacing_value</span><span style=\"font-size: 1rem;\"><strong>)</strong></span></span></code>"
   ]
  },
  {
   "cell_type": "code",
   "execution_count": 109,
   "id": "0b70cfad-8899-4cf9-a3ea-c4760cd37fe0",
   "metadata": {},
   "outputs": [
    {
     "name": "stdout",
     "output_type": "stream",
     "text": [
      "Matrix with modified diagonal :\n",
      "[[0 2 3]\n",
      " [4 0 6]\n",
      " [7 8 0]]\n"
     ]
    }
   ],
   "source": [
    "\n",
    "def replace_diagonal(matrix, value):\n",
    "    np.fill_diagonal(matrix, value)\n",
    "    return matrix\n",
    "\n",
    "\n",
    "matrix = np.array([[1, 2, 3],\n",
    "                   [4, 5, 6],\n",
    "                   [7, 8, 9]])\n",
    "\n",
    "result = replace_diagonal(matrix, 0)\n",
    "print(\"Matrix with modified diagonal :\")\n",
    "print(result)\n"
   ]
  },
  {
   "cell_type": "markdown",
   "id": "a3610a0a-3388-4464-bb9d-5d1fe6f82eb3",
   "metadata": {
    "jp-MarkdownHeadingCollapsed": true
   },
   "source": [
    "<br>\n",
    "\n",
    "###### <span style=\"font-size: 1rem; color: #ff0080; background-color: white;\"><strong>19. &nbsp;Check &nbsp;if &nbsp;a &nbsp;Matrix &nbsp;is &nbsp;Symmetric</strong></span>\n"
   ]
  },
  {
   "cell_type": "markdown",
   "id": "a294ce03-203a-4cdf-a8d2-57e5136220cf",
   "metadata": {},
   "source": [
    "<span style=\"margin-left: 32px;\">A matrix is said to be <strong>symmteric</strong> <span style=\"color: blue;\">if it is equal to it's transpose</span></span>"
   ]
  },
  {
   "cell_type": "code",
   "execution_count": 112,
   "id": "6eba6a11-e18d-4cf4-a6d0-b7c29545e868",
   "metadata": {},
   "outputs": [
    {
     "data": {
      "text/plain": [
       "True"
      ]
     },
     "execution_count": 112,
     "metadata": {},
     "output_type": "execute_result"
    }
   ],
   "source": [
    "\n",
    "matrix = np.array([[1, 2, 3],\n",
    "                   [2, 4, 5],\n",
    "                   [3, 5, 6]])\n",
    "\n",
    "\n",
    "np.allclose(matrix, matrix.T)               # OUTPUT:  True   ----->    yes the matrix is symmteric\n"
   ]
  },
  {
   "cell_type": "markdown",
   "id": "eef9c43e-b419-4af1-8cc6-907448d56842",
   "metadata": {
    "jp-MarkdownHeadingCollapsed": true
   },
   "source": [
    "<br>\n",
    "\n",
    "###### <span style=\"font-size: 1rem; color: #ff0080; background-color: white;\"><strong>20. &nbsp;Generate &nbsp;Pascal's &nbsp;triangle &nbsp;matrix &nbsp;of &nbsp;size &nbsp;n×n</strong></span>\n"
   ]
  },
  {
   "cell_type": "code",
   "execution_count": 119,
   "id": "51ba4cf8-2660-49b9-85ae-052f0fd098d1",
   "metadata": {},
   "outputs": [
    {
     "name": "stdout",
     "output_type": "stream",
     "text": [
      "Pascal's Triangle :\n",
      "[[1 0 0 0 0]\n",
      " [1 1 0 0 0]\n",
      " [1 2 1 0 0]\n",
      " [1 3 3 1 0]\n",
      " [1 4 6 4 1]]\n"
     ]
    }
   ],
   "source": [
    "\n",
    "def pascal_triangle(n):\n",
    "    matrix = np.zeros((n, n), dtype=int)\n",
    "    for i in range(n):\n",
    "        matrix[i, 0] = 1\n",
    "        for j in range(1, i + 1):\n",
    "            matrix[i, j] = matrix[i - 1, j - 1] + matrix[i - 1, j]\n",
    "    return matrix\n",
    "\n",
    "\n",
    "result = pascal_triangle(5)\n",
    "print(\"Pascal's Triangle :\")\n",
    "print(result)\n"
   ]
  },
  {
   "cell_type": "markdown",
   "id": "0dbb0824-e6d3-4b8c-be0a-186d3e9df027",
   "metadata": {
    "jp-MarkdownHeadingCollapsed": true
   },
   "source": [
    "<br>\n",
    "\n",
    "###### <span style=\"font-size: 1rem; color: #ff0080; background-color: white;\"><strong>21. &nbsp;Perform &nbsp;Element-wise &nbsp;Division &nbsp;with &nbsp;Error &nbsp;Handling</strong></span>\n"
   ]
  },
  {
   "cell_type": "code",
   "execution_count": 122,
   "id": "acba8715-5918-4354-aa07-0b166db5dd17",
   "metadata": {},
   "outputs": [
    {
     "name": "stdout",
     "output_type": "stream",
     "text": [
      "Safe Division Result: [1.  0.  1.5 0. ]\n"
     ]
    }
   ],
   "source": [
    "\n",
    "def safe_divide(arr1, arr2):\n",
    "    return np.divide(arr1, arr2, where=arr2 != 0)\n",
    "\n",
    "\n",
    "arr1 = np.array([1, 2, 3, 4])\n",
    "arr2 = np.array([1, 0, 2, 0])\n",
    "\n",
    "result = safe_divide(arr1, arr2)\n",
    "print(\"Safe Division Result:\", result)\n"
   ]
  },
  {
   "cell_type": "markdown",
   "id": "622858a0-4006-4529-8b62-4ebf140d8e11",
   "metadata": {
    "jp-MarkdownHeadingCollapsed": true
   },
   "source": [
    "<br>\n",
    "\n",
    "###### <span style=\"font-size: 1rem; color: #ff0080; background-color: white;\"><strong>22. &nbsp;Flatten &nbsp;a &nbsp;3D &nbsp;Array &nbsp;Into &nbsp;a &nbsp;2D &nbsp;Matrix</strong></span>\n"
   ]
  },
  {
   "cell_type": "code",
   "execution_count": 4,
   "id": "746d55f8-41db-46d3-bc9d-475d983e64a3",
   "metadata": {},
   "outputs": [
    {
     "data": {
      "text/plain": [
       "array([[[ 1,  2],\n",
       "        [ 3,  4],\n",
       "        [ 5,  6],\n",
       "        [ 7,  8]],\n",
       "\n",
       "       [[ 9, 10],\n",
       "        [11, 12],\n",
       "        [13, 14],\n",
       "        [15, 16]],\n",
       "\n",
       "       [[17, 18],\n",
       "        [19, 20],\n",
       "        [21, 22],\n",
       "        [23, 24]]])"
      ]
     },
     "execution_count": 4,
     "metadata": {},
     "output_type": "execute_result"
    }
   ],
   "source": [
    "\n",
    "arr = np.arange(1, 25).reshape(3, 4, 2)\n",
    "\n",
    "arr\n"
   ]
  },
  {
   "cell_type": "code",
   "execution_count": 7,
   "id": "9048eb35-ad0b-42dd-adf8-5fc31d284b78",
   "metadata": {},
   "outputs": [
    {
     "data": {
      "text/plain": [
       "array([[ 1,  2],\n",
       "       [ 3,  4],\n",
       "       [ 5,  6],\n",
       "       [ 7,  8],\n",
       "       [ 9, 10],\n",
       "       [11, 12],\n",
       "       [13, 14],\n",
       "       [15, 16],\n",
       "       [17, 18],\n",
       "       [19, 20],\n",
       "       [21, 22],\n",
       "       [23, 24]])"
      ]
     },
     "execution_count": 7,
     "metadata": {},
     "output_type": "execute_result"
    }
   ],
   "source": [
    "\n",
    "arr.reshape(12, 2)\n"
   ]
  },
  {
   "cell_type": "markdown",
   "id": "a4223f03-f767-410b-b03b-cf82defd3dfc",
   "metadata": {},
   "source": [
    "\n",
    "<span style=\"color: #a245ff;\">But how to generalise it for any input of any shape</span>\n",
    "\n",
    "<code style=\"background-color: black; color: white;\">Solution</code>"
   ]
  },
  {
   "cell_type": "code",
   "execution_count": 8,
   "id": "3c39af40-ffd3-4d3d-b889-4d471223550d",
   "metadata": {},
   "outputs": [
    {
     "name": "stdout",
     "output_type": "stream",
     "text": [
      "Flattened 2D Matrix : \n",
      "[[ 1  2]\n",
      " [ 3  4]\n",
      " [ 5  6]\n",
      " [ 7  8]\n",
      " [ 9 10]\n",
      " [11 12]\n",
      " [13 14]\n",
      " [15 16]\n",
      " [17 18]\n",
      " [19 20]\n",
      " [21 22]\n",
      " [23 24]]\n"
     ]
    }
   ],
   "source": [
    "\n",
    "arr = np.arange(1, 25).reshape(3, 4, 2)\n",
    "\n",
    "\n",
    "# Reshape into 2D by combining the first two axes\n",
    "flattened_matrix = arr.reshape(-1, arr.shape[-1])\n",
    "\n",
    "\n",
    "print(\"Flattened 2D Matrix : \")\n",
    "print(flattened_matrix)\n",
    "\n"
   ]
  },
  {
   "cell_type": "markdown",
   "id": "92aa6f9e-97a7-4f50-a2f2-81daa68776c0",
   "metadata": {},
   "source": [
    "<br>\n",
    "\n",
    "###### <span style=\"font-size: 1rem; color: #ff0080; background-color: white;\"><strong>23. &nbsp;What &nbsp;is &nbsp;<code style=\"background-color: #f4e3ff;\">np.<span style=\"color: blue;\">memmap()</span></code></strong></span>\n"
   ]
  },
  {
   "cell_type": "markdown",
   "id": "2d578e62-61b3-406c-8323-4474ad535b18",
   "metadata": {},
   "source": [
    "\n",
    "<span style=\"margin-left: 33px;\">For large arrays, use &nbsp;<code style=\"background-color: yellow;\">np.<span style=\"color: red; font-size: 1rem;\"><strong>memmap()</strong></span></code> to load parts of the data on demand. &nbsp;It allows you to <strong>memory-map</strong> large arrays stored on disk files.</span> <br>\n",
    "<span style=\"margin-left: 33px;\">This is particularly useful for working with arrays that are too large to fit into memory all at once.</span>\n",
    "\n",
    "<br>\n",
    "\n",
    "&nbsp;&nbsp;&nbsp;&nbsp;&nbsp;&nbsp;&nbsp;&nbsp;&nbsp;🔶 &nbsp;&nbsp;<strong>Syntax</strong>  <br>\n",
    "\n",
    "<div style=\"margin-left: 80px;\">\n",
    "\n",
    "![](../media/numpy_memmap.PNG)\n",
    "\n",
    "</div>\n",
    "\n",
    "<br>\n",
    "\n",
    "&nbsp;&nbsp;&nbsp;&nbsp;&nbsp;&nbsp;&nbsp;&nbsp;&nbsp;🔶 &nbsp;&nbsp;<strong>Key &nbsp;Characteristics</strong>  <br>\n",
    "\n",
    "<div style=\"margin-left: 95px;\">\n",
    "\n",
    "<span style=\"color: red;\">Efficient Handling of Large Data &nbsp;&nbsp;➜</span> &nbsp;&nbsp;You can process parts of large datasets without loading the entire array into memory.\n",
    "\n",
    "<span style=\"color: red;\">Memory Sharing &nbsp;&nbsp;➜</span> &nbsp;&nbsp;Multiple processes can access the same &nbsp;<code style=\"background-color: yellow\">memmap</code>&nbsp; object concurrently.\n",
    "\n",
    "<span style=\"color: red;\">Persistence &nbsp;&nbsp;➜</span> &nbsp;&nbsp;Changes to the &nbsp;<code style=\"background-color: yellow;\">memmap</code>&nbsp; object directly modify the underlying file, making it persistent.\n",
    "\n",
    "<span style=\"color: red;\">Partial Access &nbsp;&nbsp;➜</span> &nbsp;&nbsp;Only the parts of the array that are accessed are read into memory, saving resources.\n",
    "\n",
    "</div>\n",
    "\n",
    "<br>\n",
    "\n",
    "<span style=\"color: blue;\">1. &nbsp;Create and Use a Memory-Mapped Array</span>\n"
   ]
  },
  {
   "cell_type": "code",
   "execution_count": 3,
   "id": "fa934b4c-7bc4-42cd-b094-ecbeb05f93dc",
   "metadata": {},
   "outputs": [
    {
     "name": "stdout",
     "output_type": "stream",
     "text": [
      "[[7.28282928e-01 4.10942793e-01 2.66935378e-01 6.37613535e-01\n",
      "  5.34698725e-01 2.05515251e-01 4.04827565e-01 4.69181806e-01\n",
      "  3.63604695e-01 5.11649072e-01]\n",
      " [7.77728677e-01 5.24758995e-01 3.97344440e-01 6.16432242e-02\n",
      "  4.41155285e-01 8.04674566e-01 6.96014345e-01 9.87010956e-01\n",
      "  5.26411951e-01 9.39992428e-01]\n",
      " [7.80142307e-01 8.54040682e-01 4.15867448e-01 8.34436595e-01\n",
      "  3.20361912e-01 7.51990855e-01 9.28578198e-01 5.33249736e-01\n",
      "  7.47978389e-01 7.71323442e-01]\n",
      " [8.18982482e-01 4.44888622e-01 6.32169127e-01 7.41093695e-01\n",
      "  2.27795959e-01 3.09783936e-01 9.72384691e-01 6.06953800e-01\n",
      "  2.87768900e-01 9.14276361e-01]\n",
      " [1.14316493e-02 4.32316542e-01 2.96545118e-01 7.94834554e-01\n",
      "  5.58314145e-01 4.24812287e-01 5.71418228e-03 7.78954506e-01\n",
      "  8.23827922e-01 4.42599177e-01]\n",
      " [1.34526774e-01 2.43231297e-01 7.25345552e-01 9.89735425e-01\n",
      "  4.24417347e-01 3.99413139e-01 3.77476029e-02 2.80581027e-01\n",
      "  5.80432892e-01 4.69912827e-01]\n",
      " [3.02990549e-03 4.94744390e-01 4.22250666e-02 1.19012393e-01\n",
      "  8.58834535e-02 2.12068990e-01 8.31576288e-01 9.93654490e-01\n",
      "  5.96212447e-01 2.73059636e-01]\n",
      " [3.44237745e-01 4.62137222e-01 1.36543866e-02 6.57812953e-01\n",
      "  5.58142185e-01 7.87807405e-01 2.46328458e-01 7.60465384e-01\n",
      "  3.35253894e-01 8.95353377e-01]\n",
      " [1.12400644e-01 4.57784206e-01 7.21589863e-01 8.99288535e-01\n",
      "  5.81261456e-01 1.36635587e-01 5.96370876e-01 1.20300241e-01\n",
      "  8.11434507e-01 2.21669197e-01]\n",
      " [8.29315484e-01 6.25348032e-01 2.40130633e-01 5.19833326e-01\n",
      "  1.73882991e-01 4.67802048e-01 1.61928222e-01 5.25863767e-01\n",
      "  9.69455063e-01 9.12036061e-01]\n",
      " [4.70213056e-01 5.25517106e-01 3.58977050e-01 8.25662613e-01\n",
      "  8.50123882e-01 8.37391615e-02 9.76309657e-01 5.79263747e-01\n",
      "  5.89677513e-01 1.83269873e-01]\n",
      " [8.13251972e-01 7.79527545e-01 5.79798102e-01 2.02689722e-01\n",
      "  3.57526988e-01 1.02743320e-01 4.89744008e-01 3.25580448e-01\n",
      "  3.42927307e-01 1.42736942e-01]\n",
      " [7.59951532e-01 2.23464593e-01 7.10976303e-01 8.33428979e-01\n",
      "  4.44947988e-01 1.59747437e-01 7.37210214e-01 2.17735350e-01\n",
      "  5.50975382e-01 6.29964650e-01]\n",
      " [3.76504898e-01 6.10812068e-01 6.58909917e-01 7.79735208e-01\n",
      "  2.60738850e-01 7.05179155e-01 1.83221117e-01 7.23627388e-01\n",
      "  7.67781734e-01 8.24050486e-01]\n",
      " [6.24583662e-01 9.04036462e-01 4.85317320e-01 5.11867285e-01\n",
      "  1.17364936e-01 2.34649837e-01 7.10322380e-01 5.54158986e-01\n",
      "  8.75398636e-01 9.41159308e-01]\n",
      " [8.69042575e-01 1.78492740e-01 5.47488093e-01 3.66500288e-01\n",
      "  6.48626208e-01 6.98133111e-01 2.35274464e-01 8.09431195e-01\n",
      "  4.42566693e-01 7.70599425e-01]\n",
      " [9.60532427e-01 7.64733136e-01 3.06565464e-02 6.84873164e-01\n",
      "  6.79078043e-01 1.66629136e-01 4.36995983e-01 3.31097990e-01\n",
      "  4.48044181e-01 3.02185297e-01]\n",
      " [9.50317502e-01 7.95670375e-02 7.14950919e-01 4.00801092e-01\n",
      "  9.03824866e-01 3.87581229e-01 3.84431511e-01 5.31126857e-01\n",
      "  7.83642471e-01 7.38113701e-01]\n",
      " [7.49548078e-01 3.32666904e-01 7.66812339e-02 7.10916042e-01\n",
      "  2.49359861e-01 7.14454651e-01 7.50234485e-01 7.74948061e-01\n",
      "  4.70833093e-01 5.73440194e-01]\n",
      " [7.85900831e-01 6.43636882e-01 9.74496901e-01 6.72653317e-01\n",
      "  6.84385836e-01 7.62913942e-01 9.76046085e-01 4.23920065e-01\n",
      "  2.54481375e-01 7.87970543e-01]\n",
      " [5.90513706e-01 2.35896155e-01 5.56578457e-01 4.59902465e-01\n",
      "  4.68776882e-01 7.87294149e-01 6.11557662e-01 1.92382812e-01\n",
      "  2.74279453e-02 8.21972251e-01]\n",
      " [7.80458272e-01 5.95840439e-03 3.20746988e-01 7.11406887e-01\n",
      "  1.30633116e-01 4.26306576e-01 4.64111418e-01 9.35545504e-01\n",
      "  2.83777744e-01 7.20061287e-02]\n",
      " [1.85720757e-01 5.98996282e-01 8.00577044e-01 9.61356103e-01\n",
      "  3.34472775e-01 9.16762464e-03 6.95726454e-01 3.23822081e-01\n",
      "  7.96737969e-01 3.73768091e-01]\n",
      " [8.58457088e-02 1.72729015e-01 5.29334210e-02 8.26827586e-01\n",
      "  4.39311981e-01 9.40493166e-01 6.61040545e-01 2.21832007e-01\n",
      "  3.56707245e-01 2.13133499e-01]\n",
      " [4.12584007e-01 2.82535642e-01 4.92039561e-01 5.39264977e-01\n",
      "  6.08312152e-02 7.54312336e-01 3.84930283e-01 3.99267137e-01\n",
      "  9.95869637e-01 4.68894124e-01]\n",
      " [9.77738500e-01 6.93120003e-01 4.28604573e-01 1.44818395e-01\n",
      "  4.76140417e-02 5.37819564e-01 1.40956476e-01 3.05834055e-01\n",
      "  6.88764632e-01 8.18832338e-01]\n",
      " [2.58198589e-01 4.56279546e-01 2.79036224e-01 4.40913379e-01\n",
      "  1.55132547e-01 6.76479816e-01 9.52084482e-01 1.87548682e-01\n",
      "  2.43822381e-01 9.29052711e-01]\n",
      " [5.13873875e-01 9.78193760e-01 2.62080110e-04 2.34319985e-01\n",
      "  4.03270423e-01 3.08074951e-01 9.20905948e-01 9.74030912e-01\n",
      "  7.52445996e-01 5.97595215e-01]\n",
      " [1.15028158e-01 5.52178204e-01 8.68991017e-01 5.19862056e-01\n",
      "  6.68836415e-01 2.40574889e-02 2.51009017e-01 7.35366940e-01\n",
      "  4.52101603e-02 7.58511305e-01]\n",
      " [6.12025559e-01 9.45316672e-01 7.71680534e-01 7.53109574e-01\n",
      "  6.36820912e-01 2.65562475e-01 7.29567587e-01 5.48957149e-03\n",
      "  9.69351888e-01 5.92525005e-01]\n",
      " [1.25291320e-02 9.86768603e-01 8.22791994e-01 8.57696652e-01\n",
      "  8.47669303e-01 9.31199908e-01 2.05147997e-01 2.16324136e-01\n",
      "  6.75776228e-02 2.89940357e-01]\n",
      " [3.72227699e-01 5.95456660e-01 8.51447642e-01 5.12558281e-01\n",
      "  4.79843229e-01 5.42325258e-01 1.14657812e-01 2.09284589e-01\n",
      "  7.90297568e-01 2.19269097e-02]\n",
      " [2.47285962e-01 7.22916722e-01 4.29075986e-01 6.94548845e-01\n",
      "  5.77208161e-01 6.85568899e-02 9.58548129e-01 3.32208090e-02\n",
      "  3.39853108e-01 7.16718853e-01]\n",
      " [8.42722535e-01 4.65983272e-01 7.44616315e-02 2.65223920e-01\n",
      "  4.54080909e-01 4.21995044e-01 2.37296179e-01 3.94202262e-01\n",
      "  8.72577548e-01 6.59983277e-01]\n",
      " [6.06463075e-01 5.01582101e-02 3.66664112e-01 2.50859797e-01\n",
      "  1.16718672e-01 1.97242498e-02 8.95173848e-01 7.84297228e-01\n",
      "  3.78155380e-01 2.37648524e-02]\n",
      " [3.72577071e-01 2.92024523e-01 7.40186810e-01 7.71688223e-01\n",
      "  9.43695962e-01 8.55885744e-01 7.63231337e-01 2.78176397e-01\n",
      "  9.51013714e-02 3.95998150e-01]\n",
      " [3.73771675e-02 6.21146977e-01 2.34214086e-02 6.28095627e-01\n",
      "  8.04158092e-01 5.87389112e-01 3.95867616e-01 8.68286550e-01\n",
      "  3.27233262e-02 3.70099038e-01]\n",
      " [3.75617832e-01 5.31323254e-01 4.94343549e-01 9.26882148e-01\n",
      "  9.44429576e-01 4.27008599e-01 5.33796966e-01 7.23168492e-01\n",
      "  3.48774791e-01 3.46870780e-01]\n",
      " [2.12397471e-01 1.96281210e-01 5.66008031e-01 7.97532201e-01\n",
      "  1.94380850e-01 4.72118914e-01 8.06937933e-01 5.76880693e-01\n",
      "  8.10166895e-01 6.16329134e-01]\n",
      " [8.02215695e-01 6.92403913e-01 3.03571731e-01 5.58877409e-01\n",
      "  8.39369357e-01 5.63617498e-02 4.25791174e-01 9.60915804e-01\n",
      "  3.75168324e-01 9.01039779e-01]\n",
      " [4.40116674e-01 6.05952084e-01 5.81980467e-01 1.82057485e-01\n",
      "  4.96010840e-01 8.93990457e-01 5.21375164e-02 6.29985154e-01\n",
      "  9.08069387e-02 2.66751260e-01]\n",
      " [6.98165178e-01 1.96161076e-01 9.53886390e-01 8.83060694e-01\n",
      "  7.02217281e-01 8.75177443e-01 9.68163788e-01 7.12014616e-01\n",
      "  3.30854766e-02 9.16087687e-01]\n",
      " [8.12298238e-01 1.57720178e-01 8.79509747e-02 5.56624889e-01\n",
      "  3.77590179e-01 8.03724408e-01 9.66643155e-01 2.34178871e-01\n",
      "  2.81761736e-01 3.93988222e-01]\n",
      " [4.09473956e-01 4.68454093e-01 8.15789521e-01 8.52085292e-01\n",
      "  1.36865094e-01 7.10586429e-01 1.91145465e-01 3.98340970e-01\n",
      "  1.33251309e-01 5.47942579e-01]\n",
      " [1.93881139e-01 5.75491369e-01 8.53976160e-02 9.31032956e-01\n",
      "  3.07947785e-01 6.40845180e-01 1.76257238e-01 1.06312484e-02\n",
      "  9.67302859e-01 4.78180617e-01]\n",
      " [7.93441772e-01 1.05966836e-01 8.18792343e-01 1.16996244e-01\n",
      "  1.99586570e-01 8.25725436e-01 3.14199358e-01 3.79338980e-01\n",
      "  8.01022470e-01 5.44155436e-03]\n",
      " [2.17456624e-01 4.00916278e-01 6.39777362e-01 8.67983162e-01\n",
      "  3.91309202e-01 8.48344028e-01 2.26192623e-01 3.61319065e-01\n",
      "  8.36341858e-01 1.86870843e-01]\n",
      " [8.70888829e-01 3.84699672e-01 3.25343341e-01 6.70122206e-01\n",
      "  1.71205908e-01 7.36169279e-01 7.47679353e-01 2.96454817e-01\n",
      "  1.21923342e-01 2.54646629e-01]\n",
      " [7.91566312e-01 5.30270159e-01 9.38698769e-01 3.80260706e-01\n",
      "  3.13050658e-01 6.74900115e-01 4.65096198e-02 1.42573178e-01\n",
      "  5.03400207e-01 5.03123939e-01]\n",
      " [6.27112091e-01 9.30163860e-01 8.58949959e-01 3.25536817e-01\n",
      "  2.08898559e-01 4.46836352e-01 8.15887272e-01 8.87265801e-01\n",
      "  2.69951016e-01 7.16559291e-01]\n",
      " [5.41360736e-01 5.10810502e-02 4.93302405e-01 8.32021713e-01\n",
      "  9.45850372e-01 6.22956812e-01 9.58951414e-01 9.21298623e-01\n",
      "  5.12108028e-01 6.95003211e-01]\n",
      " [1.23384647e-01 3.25459450e-01 3.20646882e-01 1.77075081e-02\n",
      "  4.73828465e-01 9.14790481e-02 2.81810224e-01 2.44266778e-01\n",
      "  9.61479425e-01 8.65262806e-01]\n",
      " [4.06431407e-01 1.70708194e-01 2.00017884e-01 7.49820411e-01\n",
      "  6.83189705e-02 1.54445425e-01 1.10926211e-01 9.05243456e-01\n",
      "  5.05393445e-01 5.14729083e-01]\n",
      " [6.24477208e-01 3.03126574e-01 5.00927746e-01 6.13172293e-01\n",
      "  3.18479359e-01 2.18429178e-01 5.68554759e-01 3.01247478e-01\n",
      "  5.25033534e-01 2.55767614e-01]\n",
      " [8.64539981e-01 5.19635379e-01 4.19876963e-01 4.37272906e-01\n",
      "  1.30435288e-01 1.79168135e-01 5.39408147e-01 2.91058242e-01\n",
      "  7.72404075e-01 7.17446148e-01]\n",
      " [6.12474501e-01 4.14813787e-01 3.37375373e-01 5.55196047e-01\n",
      "  2.65145034e-01 7.76225686e-01 8.59976232e-01 4.42131490e-01\n",
      "  2.06750214e-01 8.92692387e-01]\n",
      " [4.85327572e-01 5.75525761e-01 5.13681233e-01 9.30460036e-01\n",
      "  3.06309760e-02 4.51104641e-01 6.92891419e-01 3.59292179e-01\n",
      "  8.59621167e-01 4.72221911e-01]\n",
      " [9.29174602e-01 4.56496805e-01 4.14333642e-01 7.33020157e-02\n",
      "  7.31354594e-01 3.32463264e-01 2.13214502e-01 3.47912222e-01\n",
      "  5.15478075e-01 3.36870551e-01]\n",
      " [1.69073269e-01 2.11104229e-01 9.91611242e-01 2.27321684e-02\n",
      "  1.60255581e-02 2.80594081e-01 6.50269508e-01 3.34699422e-01\n",
      "  8.95091057e-01 4.14712280e-01]\n",
      " [1.31640658e-01 7.78575361e-01 4.34859276e-01 2.04254225e-01\n",
      "  7.23311365e-01 2.63194561e-01 6.91368520e-01 6.01080775e-01\n",
      "  3.42725903e-01 3.54937702e-01]\n",
      " [9.50671971e-01 7.12179780e-01 7.99926221e-01 7.29381740e-01\n",
      "  7.29269207e-01 1.90832943e-01 2.40870431e-01 5.29590428e-01\n",
      "  2.78859176e-02 2.96312630e-01]\n",
      " [6.91705167e-01 3.98390114e-01 9.05335426e-01 9.81154323e-01\n",
      "  2.52864659e-01 1.45681212e-02 2.60469884e-01 6.60826385e-01\n",
      "  5.75702846e-01 2.30899200e-01]\n",
      " [1.00500293e-01 4.16063517e-02 9.77248251e-01 2.00706482e-01\n",
      "  2.84709856e-02 7.97188222e-01 4.46102202e-01 5.90829372e-01\n",
      "  5.93931198e-01 1.56820957e-02]\n",
      " [9.13179576e-01 9.65560615e-01 9.89945233e-01 2.60370880e-01\n",
      "  5.70455074e-01 4.17795032e-01 8.30128372e-01 1.19928516e-01\n",
      "  6.53078377e-01 7.82127798e-01]\n",
      " [8.32232952e-01 8.24789703e-01 9.64644492e-01 1.62337273e-01\n",
      "  9.37427580e-01 1.71136469e-01 8.96341324e-01 5.29362202e-01\n",
      "  2.37930417e-02 3.44324917e-01]\n",
      " [4.79321361e-01 2.43746445e-01 1.33557349e-01 6.26207795e-03\n",
      "  1.94156189e-02 6.67462766e-01 1.05758443e-01 1.81876883e-01\n",
      "  7.40536749e-01 5.42324126e-01]\n",
      " [3.07349592e-01 8.42524290e-01 4.99076843e-01 6.26856834e-02\n",
      "  7.88408071e-02 2.06794828e-01 5.72557569e-01 8.36428404e-01\n",
      "  6.51987553e-01 2.90369755e-03]\n",
      " [9.87598896e-01 2.60893106e-01 7.01574981e-01 7.89186418e-01\n",
      "  1.90640874e-02 7.49530733e-01 8.35574210e-01 4.20625776e-01\n",
      "  3.77510071e-01 2.90573984e-01]\n",
      " [5.79701364e-01 8.30875099e-01 2.96127766e-01 4.50758249e-01\n",
      "  6.60911739e-01 6.54028729e-02 9.64928329e-01 2.87100196e-01\n",
      "  2.07008094e-01 3.03604156e-01]\n",
      " [9.08892393e-01 1.03334002e-01 3.74159783e-01 4.08240646e-01\n",
      "  9.95692253e-01 5.32944083e-01 7.10936785e-01 7.70702720e-01\n",
      "  5.01761436e-01 9.05693650e-01]\n",
      " [4.45731074e-01 5.13805985e-01 2.00485393e-01 4.23062235e-01\n",
      "  2.13935196e-01 2.02480406e-01 8.23762834e-01 3.74246210e-01\n",
      "  5.01120329e-01 6.20570421e-01]\n",
      " [3.46696854e-01 3.28225285e-01 2.98098594e-01 8.26567411e-01\n",
      "  8.15061867e-01 3.23423505e-01 6.19592547e-01 4.48617965e-01\n",
      "  3.66771668e-01 9.26146448e-01]\n",
      " [9.78566647e-01 6.01556599e-01 4.05564874e-01 8.03058982e-01\n",
      "  2.86468416e-01 7.26090848e-01 1.89749792e-01 7.31413186e-01\n",
      "  6.22393489e-01 8.75555158e-01]\n",
      " [6.93753719e-01 9.86185610e-01 3.82279366e-01 2.71441668e-01\n",
      "  4.59102720e-01 5.86192966e-01 9.74169493e-01 8.19464505e-01\n",
      "  9.62642729e-02 4.60649282e-01]\n",
      " [5.08415759e-01 3.46710443e-01 7.41951391e-02 8.31425548e-01\n",
      "  5.23159146e-01 3.65865052e-01 9.82549906e-01 3.77143472e-01\n",
      "  4.12194669e-01 8.45001817e-01]\n",
      " [2.37333402e-01 9.92294729e-01 9.12151754e-01 2.47879878e-01\n",
      "  8.52250874e-01 1.05062835e-02 5.83735287e-01 8.65558684e-01\n",
      "  2.37491891e-01 5.02143681e-01]\n",
      " [1.74931690e-01 1.25619531e-01 7.82050014e-01 3.15953642e-01\n",
      "  4.83031839e-01 4.16550577e-01 7.76835263e-01 9.99360859e-01\n",
      "  9.38798249e-01 6.10532045e-01]\n",
      " [8.06819648e-02 9.76128101e-01 8.13866407e-02 4.07560349e-01\n",
      "  8.61145854e-01 3.09084207e-01 6.45561159e-01 2.85595924e-01\n",
      "  5.93079999e-02 1.26004636e-01]\n",
      " [6.66060805e-01 8.94961059e-01 8.57008934e-01 6.75143003e-01\n",
      "  9.41899359e-01 6.71191037e-01 6.16367757e-01 1.75310746e-01\n",
      "  6.85323954e-01 8.96875784e-02]\n",
      " [5.69484890e-01 5.95677197e-01 5.27633011e-01 5.57621121e-01\n",
      "  9.82873261e-01 4.00629528e-02 4.81330395e-01 6.10469952e-02\n",
      "  7.97809422e-01 4.06803697e-01]\n",
      " [7.55575955e-01 5.26022315e-01 9.85505618e-03 1.44633710e-01\n",
      "  5.37542224e-01 1.33765459e-01 5.07468939e-01 4.85601574e-01\n",
      "  4.70351994e-01 5.34099519e-01]\n",
      " [1.55600771e-01 3.23435515e-01 6.37051821e-01 6.44294620e-01\n",
      "  9.82176900e-01 3.58154476e-02 9.26165760e-01 3.39062810e-01\n",
      "  8.35720003e-01 3.43738526e-01]\n",
      " [3.48824114e-01 3.08802545e-01 1.40310779e-01 2.44786918e-01\n",
      "  7.02351630e-01 1.25320509e-01 8.37662876e-01 8.43319774e-01\n",
      "  1.88247681e-01 6.00668252e-01]\n",
      " [2.62127817e-01 2.52581358e-01 8.05755258e-01 2.56721050e-01\n",
      "  7.60618746e-01 3.00584465e-01 9.44759622e-02 3.32640320e-01\n",
      "  4.64025825e-01 2.26798192e-01]\n",
      " [9.14761499e-02 9.11147535e-01 1.74923375e-01 4.65809852e-02\n",
      "  8.14896286e-01 6.13096714e-01 4.41509634e-02 8.25771511e-01\n",
      "  6.97635531e-01 8.42303216e-01]\n",
      " [4.04514879e-01 1.58601180e-01 7.92473793e-01 8.57528746e-02\n",
      "  8.81147504e-01 9.44134414e-01 8.66626799e-02 5.88917613e-01\n",
      "  7.48637497e-01 8.65526915e-01]\n",
      " [4.16214556e-01 2.89946556e-01 4.98377234e-02 7.16546923e-02\n",
      "  6.63918734e-01 6.63919806e-01 4.11620706e-01 2.88566262e-01\n",
      "  3.94095838e-01 8.86902034e-01]\n",
      " [5.30400217e-01 8.15247059e-01 4.47864085e-02 4.93195979e-03\n",
      "  1.39589444e-01 3.34553868e-01 8.49581718e-01 7.32753694e-01\n",
      "  9.52963173e-01 1.54910177e-01]\n",
      " [7.74379773e-03 2.01726109e-02 2.95384645e-01 6.37329698e-01\n",
      "  6.52514517e-01 7.72562683e-01 7.93162107e-01 6.15534425e-01\n",
      "  6.35143518e-01 8.92774165e-01]\n",
      " [7.94057667e-01 9.06118333e-01 4.85615253e-01 9.89283264e-01\n",
      "  1.09397188e-01 2.17522100e-01 4.38058168e-01 8.89604926e-01\n",
      "  3.91620696e-01 9.89535451e-01]\n",
      " [3.38392913e-01 6.09770045e-02 8.87960494e-01 9.12029028e-01\n",
      "  5.78464150e-01 2.77944326e-01 1.71117797e-01 3.05367023e-01\n",
      "  3.68837804e-01 5.86805701e-01]\n",
      " [7.35563099e-01 2.14100555e-01 6.36100352e-01 4.76465784e-02\n",
      "  1.74437799e-02 1.39477789e-01 3.04031253e-01 3.86245579e-01\n",
      "  1.96719393e-02 1.29548952e-01]\n",
      " [5.74465573e-01 4.79847550e-01 6.76291168e-01 3.43860745e-01\n",
      "  8.05064365e-02 2.18868941e-01 5.60289204e-01 1.19990874e-02\n",
      "  6.78277135e-01 1.81017131e-01]\n",
      " [6.54333711e-01 3.20054263e-01 4.91399944e-01 6.24306574e-02\n",
      "  9.10298526e-01 3.48084211e-01 2.56916910e-01 6.41137660e-01\n",
      "  9.23028290e-02 5.27089715e-01]\n",
      " [3.92661124e-01 8.94226193e-01 6.14129126e-01 1.18217066e-01\n",
      "  2.29940668e-01 8.46553504e-01 4.39300388e-01 7.64643312e-01\n",
      "  7.49980688e-01 5.86428761e-01]\n",
      " [4.66521919e-01 1.18589215e-01 1.03280328e-01 2.64954686e-01\n",
      "  1.05188452e-01 8.33714604e-01 1.82177648e-02 6.20989084e-01\n",
      "  1.23633914e-01 6.35454953e-01]\n",
      " [7.04285383e-01 2.88864285e-01 6.65821552e-01 5.19018531e-01\n",
      "  3.49431448e-02 1.19230352e-01 1.74748883e-01 6.73276007e-01\n",
      "  9.05266881e-01 9.07005966e-01]\n",
      " [1.71006337e-01 6.49737060e-01 3.66868913e-01 8.82128775e-01\n",
      "  4.88222599e-01 8.29720676e-01 1.91530794e-01 3.57798547e-01\n",
      "  6.00643754e-01 3.78323868e-02]\n",
      " [8.65228057e-01 8.88060391e-01 9.41062450e-01 5.14828205e-01\n",
      "  3.93812396e-02 7.41715789e-01 2.40363002e-01 5.56353688e-01\n",
      "  7.86452666e-02 6.98021948e-01]\n",
      " [6.13124788e-01 8.96350622e-01 9.82021630e-01 3.17613542e-01\n",
      "  2.33338982e-01 4.04571146e-02 3.13919131e-03 6.21591628e-01\n",
      "  7.53067791e-01 6.43845737e-01]]\n"
     ]
    }
   ],
   "source": [
    "\n",
    "filename = 'large_data.dat'\n",
    "shape=(1000000, 10)\n",
    "large_array = np.memmap(filename, dtype='float32', mode='w+', shape=shape)\n",
    "large_array[:] = np.random.rand(1000000, 10)                                          # Initializes data\n",
    "\n",
    "\n",
    "print(large_array[:100])                                                              # Only this slice is loaded into memory (access parts of the data)\n",
    "del large_array                                                                       # frees the space\n"
   ]
  },
  {
   "cell_type": "markdown",
   "id": "8e14e4e7-66cd-418a-9c23-fbb102f24b9b",
   "metadata": {},
   "source": [
    "<br>\n",
    "\n",
    "<span style=\"color: blue;\">2. &nbsp;Read &nbsp;Data &nbsp;from &nbsp;a &nbsp;Memory-Mapped &nbsp;File</span>\n"
   ]
  },
  {
   "cell_type": "code",
   "execution_count": 4,
   "id": "6290390e-c631-465a-8e58-aa18d2a48cc6",
   "metadata": {},
   "outputs": [
    {
     "name": "stdout",
     "output_type": "stream",
     "text": [
      "[[0.7282829  0.4109428  0.26693538 0.63761353 0.5346987 ]\n",
      " [0.7777287  0.524759   0.39734444 0.06164322 0.44115528]\n",
      " [0.7801423  0.8540407  0.41586745 0.8344366  0.3203619 ]\n",
      " [0.8189825  0.44488862 0.6321691  0.7410937  0.22779596]\n",
      " [0.01143165 0.43231654 0.29654512 0.79483455 0.55831414]]\n"
     ]
    }
   ],
   "source": [
    "\n",
    "mmap_array = np.memmap(filename, dtype='float32', mode='r', shape=shape)              # Reopens the file in read mode\n",
    "\n",
    "\n",
    "print(mmap_array[:5, :5])                                                             # Reads a small chunk  (access parts of the data)\n",
    "\n",
    "\n",
    "del mmap_array                                                                        # frees the space\n"
   ]
  },
  {
   "cell_type": "markdown",
   "id": "a7e1c263-f697-48a2-9747-eee976c8f6fc",
   "metadata": {},
   "source": [
    "<br>\n",
    "\n",
    "<span style=\"color: blue;\">3. &nbsp;Modify &nbsp;Specific &nbsp;Parts &nbsp;of &nbsp;the &nbsp;Array</span>"
   ]
  },
  {
   "cell_type": "code",
   "execution_count": 5,
   "id": "852b1245-2b54-4341-bb7c-8efc3abf3587",
   "metadata": {},
   "outputs": [
    {
     "name": "stdout",
     "output_type": "stream",
     "text": [
      "42.0\n"
     ]
    }
   ],
   "source": [
    "\n",
    "mmap_array = np.memmap(filename, dtype='float32', mode='r+', shape=shape)             # Opens the file in read/write mode\n",
    "\n",
    "\n",
    "mmap_array[0, 0] = 42.0                                                               # Modifies a portion of the array\n",
    "print(mmap_array[0, 0])                                                               # OUTPUT  --------------------------->  42.0 \n",
    "\n",
    "\n",
    "del mmap_array                                                                        # frees the space\n"
   ]
  },
  {
   "cell_type": "markdown",
   "id": "ef350f73-fd2a-457b-9601-c5b25be6369c",
   "metadata": {},
   "source": [
    "<br>\n",
    "\n",
    "<span style=\"color: blue;\">4. &nbsp;Use &nbsp;<u>Memmap</u> &nbsp;for &nbsp;<strong>Parallel Processing</strong></span>\n"
   ]
  },
  {
   "cell_type": "code",
   "execution_count": null,
   "id": "0b106cb6-6822-4b70-86df-6f055214a741",
   "metadata": {},
   "outputs": [],
   "source": []
  },
  {
   "cell_type": "code",
   "execution_count": null,
   "id": "4a0cfba8-f498-45b6-9c9f-fe6898aad3a6",
   "metadata": {},
   "outputs": [],
   "source": []
  },
  {
   "cell_type": "code",
   "execution_count": null,
   "id": "63e8b646-9bff-4141-9000-2db680f6d5e7",
   "metadata": {},
   "outputs": [],
   "source": []
  },
  {
   "cell_type": "code",
   "execution_count": null,
   "id": "670cea50-06bb-446e-b688-9c82b3afdd22",
   "metadata": {},
   "outputs": [],
   "source": []
  },
  {
   "cell_type": "code",
   "execution_count": null,
   "id": "bdcd122c-c6ce-4a07-ac17-4233ee425611",
   "metadata": {},
   "outputs": [],
   "source": []
  },
  {
   "cell_type": "markdown",
   "id": "2fd047c5-0ea1-4f0e-9930-c97a630b23a7",
   "metadata": {},
   "source": [
    "<br>\n",
    "\n",
    "###### <span style=\"font-size: 1rem; color: #ff0080; background-color: white;\"><strong>24. &nbsp;How to deal with large data in context of numpy?</strong></span>\n"
   ]
  },
  {
   "cell_type": "code",
   "execution_count": 1,
   "id": "b07835ab-e696-4436-bffa-91256351f56e",
   "metadata": {},
   "outputs": [],
   "source": []
  },
  {
   "cell_type": "code",
   "execution_count": null,
   "id": "df9920c7-5b34-4d34-836a-2b109f2041e9",
   "metadata": {},
   "outputs": [],
   "source": []
  },
  {
   "cell_type": "code",
   "execution_count": null,
   "id": "c52bd733-01dc-4f38-a6d5-4e94ca758efd",
   "metadata": {},
   "outputs": [],
   "source": []
  },
  {
   "cell_type": "code",
   "execution_count": null,
   "id": "06bdbe94-7538-4dea-a47d-a148252b87fc",
   "metadata": {},
   "outputs": [],
   "source": []
  },
  {
   "cell_type": "code",
   "execution_count": null,
   "id": "b43a674d-c77c-4c2a-9bad-478b1fcb9660",
   "metadata": {},
   "outputs": [],
   "source": []
  },
  {
   "cell_type": "code",
   "execution_count": null,
   "id": "4da06e06-9271-49c6-8845-ee70905078d3",
   "metadata": {},
   "outputs": [],
   "source": []
  },
  {
   "cell_type": "markdown",
   "id": "87698bcb-5ff5-4528-9de1-aa941f21e3fc",
   "metadata": {
    "jp-MarkdownHeadingCollapsed": true
   },
   "source": [
    "<br>\n",
    "\n",
    "### <div style=\"color: white; background-color: #ff0fba; padding: 5px;\"> <code style=\"font-size: 1.2rem; background-color: #ff0fba; color: white;\"><strong>Scenario Based Questions</strong></code> </div>\n"
   ]
  },
  {
   "cell_type": "markdown",
   "id": "5ef00396-d9b4-4e45-8b17-5570ec8b7f7b",
   "metadata": {
    "jp-MarkdownHeadingCollapsed": true
   },
   "source": [
    "##### <span style=\"background-color: black; color: white; padding: 2px;\">&nbsp;Scenario - 1&nbsp;</span> &nbsp;&nbsp;&nbsp;&nbsp;====>&nbsp;&nbsp;&nbsp;&nbsp; <span style=\"font-size: 1rem;\"><strong>Data &nbsp;Cleaning</strong></span>"
   ]
  },
  {
   "cell_type": "markdown",
   "id": "1a66e0c1-74da-466f-99a3-369c06d650a8",
   "metadata": {},
   "source": [
    "<br>\n",
    "\n",
    "<strong><span style=\"color: red;\"><u>Problem - 1</u></span></strong> &nbsp;&nbsp;: &nbsp;&nbsp;<span style=\"background-color: yellow;\">How would you handle replacing specific outliers in a dataset without affecting others ?</span>\n",
    "\n",
    "<div style=\"color: blue; margin-left: 105px;\">\n",
    "\n",
    "You are working with a dataset containing product prices, but some entries are missing ( represented as &nbsp;<code>NaN</code> ). &nbsp;Write a program to <span style=\"color: blue\"><font size=\"+1\">↴</font>&nbsp;</span>\n",
    "\n",
    "- <strong>Replace missing values with the average price.</strong>\n",
    "\n",
    "- <strong>Identify outliers</strong> (values more than 2 standard deviations from the mean) and replace them with the mean.\n",
    "\n",
    "</div>\n"
   ]
  },
  {
   "cell_type": "code",
   "execution_count": 6,
   "id": "9167e95a-13e7-4b1a-a9a6-f870c9be5b9c",
   "metadata": {},
   "outputs": [
    {
     "name": "stdout",
     "output_type": "stream",
     "text": [
      "Cleaned Prices: [ 100.  200. 1100.  300.  400. 1100.  600.]\n"
     ]
    }
   ],
   "source": [
    "\n",
    "prices = np.array([100, 200, np.nan, 300, 400, 5000, 600])                      # Sample data with missing values and an outlier\n",
    "\n",
    "\n",
    "# STEP 1:  Replace NaN with the average price\n",
    "mean_price = np.nanmean(prices)                                                 # Ignore NaN while calculating the mean\n",
    "prices = np.where(np.isnan(prices), mean_price, prices)                         # [ 100.,  200., 1100.,  300.,  400., 5000.,  600.]\n",
    "\n",
    "\n",
    "# STEP 2: Identify and replace outliers\n",
    "std_dev = np.std(prices)                                                        # 1621.286966755555\n",
    "mean_price = np.mean(prices)                                                    # 1100.0\n",
    "outliers = np.abs(prices - mean_price) > (2 * std_dev)                          # [False, False, False, False, False, True, False]\n",
    "# prices[outliers]                                                              # array([5000.])\n",
    "prices[outliers] = mean_price                                                   # replaces the outlier 5000 with the mean value 1100 \n",
    "\n",
    "\n",
    "print(\"Cleaned Prices:\", prices)\n"
   ]
  },
  {
   "cell_type": "markdown",
   "id": "d6d12e3a-0a40-466f-8618-3ca1f2f8cfff",
   "metadata": {},
   "source": [
    "<br>\n",
    "\n",
    "<span style=\"color: #06fff0; font-size: 0.4rem;\">■■■■■■■■■■■■■■■■■■■■■■■■■■■■■■■■■■■■■■■■■■■■■■■■■■■■■■■■■■■■■■■■■■■■■■■■■■■■■■■■■■■■■■■■■■■■■■■■■■■■■■■■■■■■■■■■■■■■■■■■■■■■■■■■■■■■■■■■■■■■■■■■■■■■■■■■■■■■■■■■■■■■■■■■■■■■■■■■■■■■■■■■■■■■■■■■■■</span>\n",
    "\n",
    "<br>\n",
    "\n",
    "<strong><span style=\"color: red;\"><u>Problem - 2</u></span></strong> &nbsp;&nbsp;: &nbsp;&nbsp;<span style=\"background-color: yellow;\">Remove duplicate rows from a 2D NumPy array and sort the rows.</span>\n"
   ]
  },
  {
   "cell_type": "code",
   "execution_count": 7,
   "id": "9b7b7612-9db0-432b-b1ad-6af958dcc7ac",
   "metadata": {},
   "outputs": [
    {
     "name": "stdout",
     "output_type": "stream",
     "text": [
      "[[1 2 3]\n",
      " [4 5 6]\n",
      " [7 8 9]]\n"
     ]
    }
   ],
   "source": [
    "\n",
    "arr = np.array([[1, 2, 3],\n",
    "                [4, 5, 6],\n",
    "                [1, 2, 3],\n",
    "                [7, 8, 9]])\n",
    "\n",
    "\n",
    "print(np.unique(arr, axis=0))\n"
   ]
  },
  {
   "cell_type": "markdown",
   "id": "dff799db-e809-4e28-a491-796e62dc5d7a",
   "metadata": {},
   "source": [
    "<br>\n",
    "\n",
    "<span style=\"color: #ffdc5c; font-size: 0.7rem;\">■■■■■■■■■■■■■■■■■■■■■■■■■■■■■■■■■■■■■■■■■■■■■■■■■■■■■■■■■■■■■■■■■■■■■■■■■■■■■■■■■■■■■■■■■■■■■■■■■■■■■■■■■■■■■■■</span>\n"
   ]
  },
  {
   "cell_type": "markdown",
   "id": "db2ad08b-1903-4d92-89a0-6441fad2d3e5",
   "metadata": {},
   "source": [
    "<br>\n",
    "\n",
    "##### <span style=\"background-color: black; color: white; padding: 2px;\">&nbsp;Scenario - 2&nbsp;</span> &nbsp;&nbsp;&nbsp;&nbsp;====>&nbsp;&nbsp;&nbsp;&nbsp; <span style=\"font-size: 1rem;\"><strong>Stock &nbsp;Price &nbsp;Analysis</strong></span>"
   ]
  },
  {
   "cell_type": "markdown",
   "id": "a3d96a6b-c1d6-4e51-b80d-c54b4f5dd1a2",
   "metadata": {},
   "source": [
    "<br>\n",
    "\n",
    "<strong><span style=\"color: red;\"><u>Problem - 1</u></span></strong>\n",
    "\n",
    "<div style=\"margin-left: 60px; color: blue;\">\n",
    "    \n",
    "You have daily stock prices stored in a NumPy array. &nbsp;Write a program to :\n",
    "\n",
    "1. &nbsp;Compute the <strong>daily percentage change</strong>\n",
    "2. &nbsp;Identify <strong>days with a price drop greater than 5%</strong>\n",
    "\n",
    "</div>"
   ]
  },
  {
   "cell_type": "code",
   "execution_count": 54,
   "id": "f93d9eba-a67d-4b16-bd73-1c7228214124",
   "metadata": {},
   "outputs": [],
   "source": [
    "\n",
    "prices = np.array([100, 105, 95, 90, 120, 110])\n"
   ]
  },
  {
   "cell_type": "markdown",
   "id": "1ae4c3d6-2d5b-4d26-975e-1cdff33188df",
   "metadata": {},
   "source": [
    "<br>\n",
    "\n",
    "<div style=\"margin-left: 65px;\">\n",
    "\n",
    "![](../media/numpy_stock_analysis.PNG)\n",
    "\n",
    "</div>"
   ]
  },
  {
   "cell_type": "code",
   "execution_count": 60,
   "id": "a252a88e-8798-4394-96e4-b54904796208",
   "metadata": {},
   "outputs": [
    {
     "name": "stdout",
     "output_type": "stream",
     "text": [
      "[  5 -10  -5  30 -10]\n"
     ]
    }
   ],
   "source": [
    "\n",
    "print(np.diff(prices))                                                          # finds the consecutive differences of the elements\n"
   ]
  },
  {
   "cell_type": "code",
   "execution_count": 56,
   "id": "b8936d8d-23d3-4af5-8085-4d7d36d8064e",
   "metadata": {},
   "outputs": [
    {
     "name": "stdout",
     "output_type": "stream",
     "text": [
      "[100 105  95  90 120]\n"
     ]
    }
   ],
   "source": [
    "\n",
    "print(prices[:-1])                                                              # selects all elements of the array 'prices' except the last one\n"
   ]
  },
  {
   "cell_type": "code",
   "execution_count": 59,
   "id": "d62e37dc-f4e5-4e87-8dd8-f263cdf2df29",
   "metadata": {},
   "outputs": [
    {
     "name": "stdout",
     "output_type": "stream",
     "text": [
      "[ 5.         -9.52380952 -5.26315789 33.33333333 -8.33333333]\n"
     ]
    }
   ],
   "source": [
    "\n",
    "percentage_change = np.diff(prices) / prices[:-1] * 100                         # calculates daily percentage change\n",
    "print(percentage_change)\n"
   ]
  },
  {
   "cell_type": "code",
   "execution_count": 58,
   "id": "0904c236-5c4d-448c-9d66-a5d275995dc9",
   "metadata": {},
   "outputs": [
    {
     "name": "stdout",
     "output_type": "stream",
     "text": [
      "(array([1, 2, 4], dtype=int64),)\n"
     ]
    }
   ],
   "source": [
    "\n",
    "large_drops = np.where(percentage_change < -5)                                  # identifies the days with price drop > 5%\n",
    "print(large_drops)\n"
   ]
  },
  {
   "cell_type": "markdown",
   "id": "256cbe1f-9022-4223-9510-b4782e0ff691",
   "metadata": {},
   "source": [
    "<br>\n",
    "\n",
    "<strong><span style=\"color: #03d500;\">Solution</span></strong>"
   ]
  },
  {
   "cell_type": "code",
   "execution_count": 65,
   "id": "84e0977c-0c03-4be1-b129-6460daee1df5",
   "metadata": {},
   "outputs": [
    {
     "name": "stdout",
     "output_type": "stream",
     "text": [
      "Daily Percentage Change: [ 5.         -9.52380952 -5.26315789 33.33333333 -8.33333333]\n",
      "Days with > 5% drop: [2 3 5]\n"
     ]
    }
   ],
   "source": [
    "\n",
    "prices = np.array([100, 105, 95, 90, 120, 110])                                 # Daily stock prices\n",
    "\n",
    "\n",
    "percentage_change = np.diff(prices) / prices[:-1] * 100                         # STEP 1: Calculate daily percentage change\n",
    "\n",
    "\n",
    "large_drops = np.where(percentage_change < -5)                                  # STEP 2: Identify days with price drop > 5%\n",
    "\n",
    "\n",
    "print(\"Daily Percentage Change:\", percentage_change)\n",
    "print(\"Days with > 5% drop:\", large_drops[0] + 1)                                # +1 to align with day index\n"
   ]
  },
  {
   "cell_type": "markdown",
   "id": "4ded90e7-d1bc-4ab9-8c28-9594c5494d57",
   "metadata": {},
   "source": [
    "<br>\n",
    "\n",
    "<span style=\"color: #06fff0; font-size: 0.4rem;\">■■■■■■■■■■■■■■■■■■■■■■■■■■■■■■■■■■■■■■■■■■■■■■■■■■■■■■■■■■■■■■■■■■■■■■■■■■■■■■■■■■■■■■■■■■■■■■■■■■■■■■■■■■■■■■■■■■■■■■■■■■■■■■■■■■■■■■■■■■■■■■■■■■■■■■■■■■■■■■■■■■■■■■■■■■■■■■■■■■■■■■■■■■■■■■■■■■</span>\n",
    "\n",
    "<br>\n",
    "\n",
    "<strong><span style=\"color: red;\"><u>Problem - 2</u></span></strong> &nbsp;&nbsp;&nbsp;<font size=\"+1\">⭐</font>\n",
    "\n",
    "<div style=\"margin-left: 60px; color: #061cf5;\">\n",
    "\n",
    "Write a NumPy program to calculate a 3-day <strong>moving average</strong> for stock prices.\n",
    "\n",
    "</div>\n",
    "\n",
    "<br>\n",
    "\n",
    "<span style=\"margin-left: 60px; color: #a245ff; \">A <strong>moving average</strong> can be implemented using convolution with a <strong>uniform kernel</strong>.</span>\n",
    "\n",
    "<br>\n",
    "\n",
    "<strong><span style=\"color: #03d500;\">Solution</span></strong>"
   ]
  },
  {
   "cell_type": "code",
   "execution_count": 17,
   "id": "b3c70e68-5f14-4f70-8141-f3d42d758e06",
   "metadata": {},
   "outputs": [
    {
     "name": "stdout",
     "output_type": "stream",
     "text": [
      "[2. 3. 4. 5. 6.]\n"
     ]
    }
   ],
   "source": [
    "\n",
    "data = stock_prices = np.array([1, 2, 3, 4, 5, 6, 7])\n",
    "window_size = 3\n",
    "kernel = np.ones(window_size) / window_size                          #  [1  1  1  1] / 3    ===>    [ 1/3  1/3  1/3  1/3]    ===>    [0.33  0.33  0.33]\n",
    "                                                                     #  Dividing by 'window_size' normalizes the weights so that their sum = 1\n",
    "\n",
    "\n",
    "moving_average = np.convolve(data, kernel, mode='valid')\n",
    "print(moving_average)\n"
   ]
  },
  {
   "cell_type": "markdown",
   "id": "cdc40e3a-5439-4d8f-b62c-9563bb3bf463",
   "metadata": {},
   "source": [
    "<br>\n",
    "\n",
    "<div style=\"color: #a245ff; margin-left: 45px;\">\n",
    "    \n",
    "- kernel &nbsp;<code style=\"background-color: #f8e5ff;\">[1/3, 1/3, 1/3]</code>&nbsp; computes the average of each window of size &nbsp;3\n",
    "\n",
    "<br>\n",
    "\n",
    "- Result &nbsp;&nbsp;=&nbsp;&nbsp; <code style=\"background-color: #f8e5ff;\">[(1+2+3)/3, (2+3+4)/3, (3+4+5)/3, ...]</code>\n",
    "\n",
    "<br>\n",
    "\n",
    "- <code style=\"background-color: #f8e5ff;\">mode = 'valid'</code> &nbsp;ensures the output excludes incomplete windows at the edges.           <br>\n",
    "  For a 3-day window, the first 2 days and the last 2 days won't have a full window and are excluded.\n",
    "\n",
    "<br>\n",
    "\n",
    "</div>\n",
    "\n",
    "<div style=\"margin-left: 120px;\">\n",
    "\n",
    "![](../media/numpy_convolution_10.PNG)\n",
    "\n",
    "</div>"
   ]
  },
  {
   "cell_type": "code",
   "execution_count": 50,
   "id": "be55ace7-6a2a-42c2-87e4-3e1653277572",
   "metadata": {},
   "outputs": [
    {
     "data": {
      "image/png": "[encoded data removed]",
      "text/plain": [
       "<Figure size 640x480 with 1 Axes>"
      ]
     },
     "metadata": {},
     "output_type": "display_data"
    }
   ],
   "source": [
    "\n",
    "import matplotlib.pyplot as plt\n",
    "\n",
    "\n",
    "# Days corresponding to the moving average\n",
    "days = np.arange(window_size - 1, len(stock_prices))\n",
    "\n",
    "\n",
    "plt.plot(stock_prices, label=\"Stock Prices\", marker='o')\n",
    "plt.plot(days, moving_average, label=\"3-Day Moving Average\", linestyle='--', marker='x', color='red')\n",
    "plt.xlabel(\"Day\")\n",
    "plt.ylabel(\"Price\")\n",
    "plt.title(\"Stock Prices and 3-Day Moving Average\")\n",
    "plt.legend()\n",
    "plt.grid()\n",
    "plt.show()\n"
   ]
  },
  {
   "cell_type": "markdown",
   "id": "7c72fa35-e62d-4122-bb11-df1204402efd",
   "metadata": {},
   "source": [
    "<br>\n",
    "\n",
    "<strong>Customizations</strong>\n",
    "\n",
    "- <span style=\"color: blue;\">Window Size</span> &nbsp;&nbsp;=======>&nbsp;&nbsp; Change &nbsp;<code>window_size</code>&nbsp; to compute a moving average over a different period.\n",
    "- <span style=\"color: blue;\">Edge Handling</span> &nbsp;&nbsp;======>&nbsp;&nbsp; Use &nbsp;<code>mode='same'</code>&nbsp; in &nbsp;<code style=\"background-color: yellow;\">np.convolve()</code>&nbsp; to include all data points but with partial windows at the edges."
   ]
  },
  {
   "cell_type": "markdown",
   "id": "121057d1-a0e9-48ad-b8e4-a358f006dc7f",
   "metadata": {},
   "source": [
    "<br>\n",
    "\n",
    "<span style=\"color: #06fff0; font-size: 0.4rem;\">■■■■■■■■■■■■■■■■■■■■■■■■■■■■■■■■■■■■■■■■■■■■■■■■■■■■■■■■■■■■■■■■■■■■■■■■■■■■■■■■■■■■■■■■■■■■■■■■■■■■■■■■■■■■■■■■■■■■■■■■■■■■■■■■■■■■■■■■■■■■■■■■■■■■■■■■■■■■■■■■■■■■■■■■■■■■■■■■■■■■■■■■■■■■■■■■■■</span>\n",
    "\n",
    "<br>\n",
    "\n",
    "<strong><span style=\"color: red;\"><u>Problem - 3</u></span></strong>\n",
    "\n",
    "<div style=\"margin-left: 60px; color: #061cf5;\">\n",
    "\n",
    "Given stock prices of multiple companies, calculate the <strong>correlation matrix</strong> between their price changes.\n",
    "\n",
    "</div>\n",
    "\n",
    "<br>\n",
    "\n",
    "<div style=\"margin-left: 63px;\">\n",
    "\n",
    "For stock prices :                                                                        <br>\n",
    "<span style=\"margin-left: 50px;\">➜</span> &nbsp;&nbsp;<strong>Rows</strong> &nbsp;=&nbsp; days (observations)          <br>\n",
    "<span style=\"margin-left: 50px;\">➜</span> &nbsp;&nbsp;<strong>Columns</strong> &nbsp;=&nbsp; companies (variables)\n",
    "\n",
    "</div>"
   ]
  },
  {
   "cell_type": "code",
   "execution_count": 63,
   "id": "162bba5d-5099-4da7-8107-3a171c6e2503",
   "metadata": {},
   "outputs": [
    {
     "name": "stdout",
     "output_type": "stream",
     "text": [
      "Daily Price Changes:\n",
      "[[ 2  2 -2]\n",
      " [-1  1  7]\n",
      " [ 2 -2  5]]\n",
      "\n",
      "Correlation Matrix:\n",
      "[[ 1.         -0.2773501  -0.67193194]\n",
      " [-0.2773501   1.         -0.52519746]\n",
      " [-0.67193194 -0.52519746  1.        ]]\n"
     ]
    }
   ],
   "source": [
    "\n",
    "# Example stock prices (rows = days, columns = companies)\n",
    "stock_prices = np.array([\n",
    "    [100, 200, 300],                                                        # Day 1 prices for 3 companies     ------->   varibale  1\n",
    "    [102, 202, 298],                                                        # Day 2     ------------------------------>   variable  2    \n",
    "    [101, 203, 305],                                                        # Day 3     ------------------------------>   variable  3\n",
    "    [103, 201, 310]                                                         # Day 4     ------------------------------>   variable  4\n",
    "])\n",
    "\n",
    "\n",
    "# Step 1: Calculate daily price changes\n",
    "price_changes = np.diff(stock_prices, axis=0)\n",
    "\n",
    "\n",
    "# Step 2: Calculate the correlation matrix\n",
    "correlation_matrix = np.corrcoef(price_changes, rowvar=False)               # Use rowvar=True or False depending on how your data is organized\n",
    "\n",
    "\n",
    "print(\"Daily Price Changes:\")\n",
    "print(price_changes)\n",
    "print(\"\\nCorrelation Matrix:\")\n",
    "print(correlation_matrix)\n"
   ]
  },
  {
   "cell_type": "markdown",
   "id": "96e957de-ad80-47d8-9f2e-a5396aa429a9",
   "metadata": {},
   "source": [
    "<br>\n",
    "\n",
    "<span style=\"margin-left: 60px;\"><strong>Exaplaination</strong></span>\n",
    "\n",
    "<div style=\"margin-left: 85px;\">\n",
    "\n",
    "![](../media/numpy_correlation.PNG)\n",
    "\n",
    "</div>"
   ]
  },
  {
   "cell_type": "markdown",
   "id": "6d48638a-4fc9-47f3-b180-2ed77fc91201",
   "metadata": {},
   "source": [
    "<br>\n",
    "\n",
    "<span style=\"color: #ffdc5c; font-size: 0.7rem;\">■■■■■■■■■■■■■■■■■■■■■■■■■■■■■■■■■■■■■■■■■■■■■■■■■■■■■■■■■■■■■■■■■■■■■■■■■■■■■■■■■■■■■■■■■■■■■■■■■■■■■■■■■■■■■■■</span>\n"
   ]
  },
  {
   "cell_type": "markdown",
   "id": "4647ceb3-40f3-434c-b372-abd607e005de",
   "metadata": {
    "jp-MarkdownHeadingCollapsed": true
   },
   "source": [
    "<br>\n",
    "\n",
    "##### <span style=\"background-color: black; color: white; padding: 2px;\">&nbsp;Scenario - 3&nbsp;</span> &nbsp;&nbsp;&nbsp;&nbsp;====>&nbsp;&nbsp;&nbsp;&nbsp; <span style=\"font-size: 1rem;\"><strong>Image &nbsp;Processing</strong></span>\n"
   ]
  },
  {
   "cell_type": "markdown",
   "id": "4fcc4ad9-3b81-436c-b991-e8ee1703b925",
   "metadata": {},
   "source": [
    "<br>\n",
    "\n",
    "<strong><span style=\"color: red;\"><u>Problem</u></span></strong>\n",
    "\n",
    "<div style=\"margin-left: 60px; color: blue;\">\n",
    "    \n",
    "You are given a grayscale image as a 2D NumPy array.\n",
    "\n",
    "1. &nbsp;<strong>Normalize</strong> the pixel values to range between 0 and 1\n",
    "2. &nbsp;Apply a <strong>threshold</strong> to create a binary image &nbsp;(&nbsp;values > 0.5 become 1, others 0&nbsp;)\n",
    "\n",
    "</div>"
   ]
  },
  {
   "cell_type": "code",
   "execution_count": 58,
   "id": "67ed83f0-c3cc-4b8c-853b-919d24ab467e",
   "metadata": {},
   "outputs": [
    {
     "name": "stdout",
     "output_type": "stream",
     "text": [
      "Normalized Image:\n",
      "[[0.19607843 0.39215686 0.58823529]\n",
      " [0.78431373 0.98039216 1.        ]\n",
      " [0.         0.29411765 0.49019608]]\n",
      "\n",
      "Binary Image:\n",
      "[[0 0 1]\n",
      " [1 1 1]\n",
      " [0 0 0]]\n"
     ]
    }
   ],
   "source": [
    "\n",
    "# Sample grayscale image\n",
    "image = np.array([[50, 100, 150], \n",
    "                  [200, 250, 255], \n",
    "                  [0, 75, 125]])\n",
    "\n",
    "\n",
    "# Step 1: Normalize pixel values\n",
    "normalized_image = image / 255.0\n",
    "\n",
    "\n",
    "# Step 2: Apply threshold\n",
    "binary_image = (normalized_image > 0.5).astype(int)\n",
    "\n",
    "\n",
    "print(\"Normalized Image:\")\n",
    "print(normalized_image)\n",
    "print(\"\\nBinary Image:\")\n",
    "print(binary_image)\n"
   ]
  },
  {
   "cell_type": "markdown",
   "id": "29d8e6b4-7693-4d3f-a92d-e233de695e48",
   "metadata": {},
   "source": [
    "<br>\n",
    "\n",
    "<span style=\"color: #ffdc5c; font-size: 0.7rem;\">■■■■■■■■■■■■■■■■■■■■■■■■■■■■■■■■■■■■■■■■■■■■■■■■■■■■■■■■■■■■■■■■■■■■■■■■■■■■■■■■■■■■■■■■■■■■■■■■■■■■■■■■■■■■■■■</span>\n"
   ]
  },
  {
   "cell_type": "markdown",
   "id": "e0d52586-06cb-4045-af4a-c0789cdfb7ff",
   "metadata": {
    "jp-MarkdownHeadingCollapsed": true
   },
   "source": [
    "<br>\n",
    "\n",
    "##### <span style=\"background-color: black; color: white; padding: 2px;\">&nbsp;Scenario - 4&nbsp;</span> &nbsp;&nbsp;&nbsp;&nbsp;====>&nbsp;&nbsp;&nbsp;&nbsp; <span style=\"font-size: 1rem;\"><strong>Matrix &nbsp;Operations &nbsp;for &nbsp;Machine &nbsp;Learning</strong></span>\n"
   ]
  },
  {
   "cell_type": "markdown",
   "id": "1e9c8284-0d81-4ed1-8b9e-90875c4e456d",
   "metadata": {},
   "source": [
    "<br>\n",
    "\n",
    "<strong><span style=\"color: red;\"><u>Problem</u></span></strong>\n",
    "\n",
    "<div style=\"margin-left: 60px; color: blue;\">\n",
    "    \n",
    "You are implementing a simple linear regression. <br>\n",
    "Given a matrix &nbsp;<code style=\"background-color: #b7fff8;\"> X </code>&nbsp; of input features and a vector &nbsp;<code style=\"background-color: #b7fff8;\"> y </code>&nbsp; of target values, compute the optimal weights &nbsp;<code style=\"background-color: #b7fff8;\"> w </code>&nbsp; using the formula &nbsp;&nbsp;<code style=\"padding: 6px; background-color: #b7fff8;\">w = <span style=\"font-size: 1rem;\">(</span>X<sup>T</sup>X<span style=\"font-size: 1rem;\">)</span><sup>-1</sup>X<sup>T</sup>y</code>\n",
    "\n",
    "</div>\n"
   ]
  },
  {
   "cell_type": "code",
   "execution_count": 5,
   "id": "82e4866e-b1de-476d-a7bc-90cba86e2458",
   "metadata": {},
   "outputs": [
    {
     "name": "stdout",
     "output_type": "stream",
     "text": [
      "Optimal Weights: [-1.77635684e-15  1.00000000e+00]\n"
     ]
    }
   ],
   "source": [
    "\n",
    "# Input feature matrix (X) and target vector (y)\n",
    "X = np.array([[1, 1], [1, 2], [1, 3]])                                     # Including a bias column (intercept)\n",
    "y = np.array([1, 2, 3])\n",
    "\n",
    "\n",
    "\n",
    "# Compute the weights\n",
    "X_transpose = X.T\n",
    "weights = np.linalg.inv(X_transpose @ X) @ X_transpose @ y\n",
    "\n",
    "\n",
    "\n",
    "print(\"Optimal Weights:\", weights)\n"
   ]
  },
  {
   "cell_type": "markdown",
   "id": "fa2a7921-4d83-4f17-86a9-d61d1a1595b2",
   "metadata": {},
   "source": [
    "<br>\n",
    "\n",
    "<span style=\"color: #ffdc5c; font-size: 0.7rem;\">■■■■■■■■■■■■■■■■■■■■■■■■■■■■■■■■■■■■■■■■■■■■■■■■■■■■■■■■■■■■■■■■■■■■■■■■■■■■■■■■■■■■■■■■■■■■■■■■■■■■■■■■■■■■■■■</span>\n"
   ]
  },
  {
   "cell_type": "markdown",
   "id": "b2ea5f55-af96-4e0b-8746-f4c841bfc914",
   "metadata": {
    "jp-MarkdownHeadingCollapsed": true
   },
   "source": [
    "<br>\n",
    "\n",
    "##### <span style=\"background-color: black; color: white; padding: 2px;\">&nbsp;Scenario - 5&nbsp;</span> &nbsp;&nbsp;&nbsp;&nbsp;====>&nbsp;&nbsp;&nbsp;&nbsp; <span style=\"font-size: 1rem;\"><strong>Performance &nbsp;Optimization</strong></span>\n"
   ]
  },
  {
   "cell_type": "markdown",
   "id": "4d389c34-4792-4eda-b3f0-7f0a54aa101f",
   "metadata": {},
   "source": [
    "<br>\n",
    "\n",
    "<strong><span style=\"color: red;\"><u>Problem</u></span></strong>\n",
    "\n",
    "<div style=\"margin-left: 60px; color: blue;\">\n",
    "    \n",
    "You are working with a large dataset where each row represents a customer, and you want to compute the <strong>cosine similarity</strong> between two customers\n",
    "\n",
    "</div>\n"
   ]
  },
  {
   "cell_type": "code",
   "execution_count": 8,
   "id": "c2843cb5-8c53-4d38-b395-9a72c4d2db52",
   "metadata": {},
   "outputs": [
    {
     "name": "stdout",
     "output_type": "stream",
     "text": [
      "Cosine Similarity : 0.4999999999999999\n"
     ]
    }
   ],
   "source": [
    "\n",
    "# Customer data (rows: customers, columns: features)\n",
    "data = np.array([[1, 0, 1], \n",
    "                 [0, 1, 1], \n",
    "                 [1, 1, 0]])\n",
    "\n",
    "\n",
    "# Choose two customers\n",
    "customer1 = data[0]\n",
    "customer2 = data[1]\n",
    "\n",
    "\n",
    "# Cosine similarity formula   ===========================>  (A · B) / (|A| * |B|)\n",
    "dot_product = np.dot(customer1, customer2)\n",
    "magnitude1 = np.linalg.norm(customer1)\n",
    "magnitude2 = np.linalg.norm(customer2)\n",
    "\n",
    "\n",
    "cosine_similarity = dot_product / (magnitude1 * magnitude2)\n",
    "print(\"Cosine Similarity :\", cosine_similarity)\n"
   ]
  },
  {
   "cell_type": "markdown",
   "id": "bada2a5a-1f86-40e7-ae41-17a9805dbc32",
   "metadata": {},
   "source": [
    "<br>\n",
    "\n",
    "<div style=\"color: #a245ff;\">\n",
    "\n",
    "The <strong>cosine similarity score</strong> is a measure of similarity between two non-zero vectors based on the cosine of the angle between them. &nbsp;It is widely used in applications like text similarity, recommendation systems, and clustering.\n",
    "\n",
    "</div>\n",
    "\n",
    "<div style=\"margin-left: 320px;\">\n",
    "\n",
    "![](../media/numpy_cosine_similarity.PNG)\n",
    "\n",
    "</div>\n",
    "\n",
    "<br>\n",
    "\n",
    "<code style=\"background-color: #b7fff6; padding: 3px; font-size: 1rem;\"> Applications </code>\n",
    "\n",
    "1. &nbsp;<span style=\"color: blue;\">Text Similarity :</span>           <br>\n",
    "&nbsp;&nbsp;&nbsp;&nbsp;&nbsp;&nbsp;&nbsp;&nbsp;&nbsp;&nbsp;In NLP, <u>cosine similarity</u> is used to compare the similarity of document vectors (e.g., TF-IDF, word embeddings)\n",
    "\n",
    "2. &nbsp;<span style=\"color: blue;\">Recommendation Systems :</span>    <br>\n",
    "&nbsp;&nbsp;&nbsp;&nbsp;&nbsp;&nbsp;&nbsp;&nbsp;&nbsp;&nbsp;To find users or items with similar preferences\n",
    "\n",
    "3. &nbsp;<span style=\"color: blue;\">Clustering :</span>                <br>\n",
    "&nbsp;&nbsp;&nbsp;&nbsp;&nbsp;&nbsp;&nbsp;&nbsp;&nbsp;&nbsp;Measure similarity between data points in high-dimensional spaces\n",
    "\n",
    "<br>\n",
    "\n",
    "<span style=\"color: #ffdc5c; font-size: 0.7rem;\">■■■■■■■■■■■■■■■■■■■■■■■■■■■■■■■■■■■■■■■■■■■■■■■■■■■■■■■■■■■■■■■■■■■■■■■■■■■■■■■■■■■■■■■■■■■■■■■■■■■■■■■■■■■■■■■</span>\n"
   ]
  },
  {
   "cell_type": "markdown",
   "id": "c7962420-15d7-45c2-890e-5c95ade80ddb",
   "metadata": {
    "jp-MarkdownHeadingCollapsed": true
   },
   "source": [
    "<br>\n",
    "\n",
    "##### <span style=\"background-color: black; color: white; padding: 2px;\">&nbsp;Scenario - 6&nbsp;</span> &nbsp;&nbsp;&nbsp;&nbsp;====>&nbsp;&nbsp;&nbsp;&nbsp; <span style=\"font-size: 1rem;\"><strong>Time &nbsp;Series &nbsp;Analysis</strong></span>\n"
   ]
  },
  {
   "cell_type": "markdown",
   "id": "1f31d24c-cce2-4932-9e17-66afeece74a0",
   "metadata": {},
   "source": [
    "<br>\n",
    "\n",
    "<strong><span style=\"color: red;\"><u>Problem - 1</u></span></strong>\n",
    "\n",
    "<div style=\"margin-left: 60px; color: blue;\">\n",
    "    \n",
    "You have a time series of sensor readings with noise.\n",
    "\n",
    "1. &nbsp;&nbsp;Smooth the data using a <strong>moving average filter</strong> with a window size of 3.   <br>\n",
    "2. &nbsp;&nbsp;Identify points where the smoothed value exceeds a threshold.\n",
    "\n",
    "</div>\n"
   ]
  },
  {
   "cell_type": "code",
   "execution_count": 36,
   "id": "75dcb438-f512-4bd3-a58b-14f5044685ee",
   "metadata": {},
   "outputs": [
    {
     "name": "stdout",
     "output_type": "stream",
     "text": [
      "\n",
      "Sensor Readings  ------------------------------------>  [10 12 15 14 18 22 25]\n",
      "Smoothed Readings  ---------------------------------->  [12.33333333 13.66666667 15.66666667 18.         21.66666667]\n",
      "Indices where smoothed values exceed threshold  ----->  [4]\n",
      "Values exceeding threshold  ------------------------->  [21.66666667]\n"
     ]
    }
   ],
   "source": [
    "\n",
    "sensor_readings = np.array([10, 12, 15, 14, 18, 22, 25])\n",
    "threshold = 20\n",
    "\n",
    "\n",
    "# STEP 1 ----------------------------------------------------------------------------->  Smooth the data using a moving average filter (window size = 3)\n",
    "def moving_average(data, window_size=3):\n",
    "    kernel = np.ones(window_size) / window_size                                          # Create the averaging kernel     =====>     [ 1/3 , 1/3 , 1/3]\n",
    "    smoothed_data = np.convolve(data, kernel, mode='valid')                              # Apply convolution\n",
    "    return smoothed_data\n",
    "\n",
    "smoothed_readings = moving_average(sensor_readings, window_size=3)\n",
    "\n",
    "\n",
    "# STEP 2 ----------------------------------------------------------------------------->  Identify points where smoothed values exceed the threshold\n",
    "exceed_indices = np.where(smoothed_readings > threshold)[0]                              # Indices of points exceeding the threshold\n",
    "\n",
    "\n",
    "print(\"\\nSensor Readings  ------------------------------------> \", sensor_readings)\n",
    "print(\"Smoothed Readings  ----------------------------------> \", smoothed_readings)\n",
    "print(\"Indices where smoothed values exceed threshold  -----> \", exceed_indices)\n",
    "print(\"Values exceeding threshold  -------------------------> \", smoothed_readings[exceed_indices])\n"
   ]
  },
  {
   "cell_type": "markdown",
   "id": "27f12061-fdcb-4455-8fa0-111273eda9b2",
   "metadata": {},
   "source": [
    "<br>\n",
    "\n",
    "<div style=\"margin-left: 120px;\">\n",
    "\n",
    "![](../media/numpy_smoothening_data.PNG)\n",
    "\n",
    "</div>"
   ]
  },
  {
   "cell_type": "markdown",
   "id": "dd7d10e3-122c-4209-afe6-2c1544fc8882",
   "metadata": {},
   "source": [
    "<br>\n",
    "\n",
    "<strong><span style=\"color: red;\"><u>Problem - 2</u></span></strong>\n",
    "\n",
    "<div style=\"margin-left: 60px; color: blue;\">\n",
    "    \n",
    "Write a program to <strong>downsample a time series array</strong> to a specified frequency (e.g., reduce daily readings to <strong>weekly averages</strong>).\n",
    "\n",
    "</div>\n"
   ]
  },
  {
   "cell_type": "code",
   "execution_count": 48,
   "id": "234ff23a-2ebc-4d0b-a671-a085335e3d7b",
   "metadata": {},
   "outputs": [],
   "source": [
    "\n",
    "def downsample_to_frequency(data, frequency, method='mean'):\n",
    "    \n",
    "    # STEP-1  --------------------------------------------------------------->  Ensure the array is divisible by frequency\n",
    "    remainder = len(data) % frequency\n",
    "    if remainder != 0:\n",
    "        data = data[:-remainder]                                                # trims excess elements\n",
    "\n",
    "    \n",
    "    # STEP-2  --------------------------------------------------------------->  Reshape the data into chunks of size `frequency`\n",
    "    reshaped_data = data.reshape(-1, frequency)\n",
    "\n",
    "    \n",
    "    # STEP-3  --------------------------------------------------------------->  Apply the chosen aggregation method\n",
    "    if method == 'mean':\n",
    "        result = reshaped_data.mean(axis=1)\n",
    "    elif method == 'sum':\n",
    "        result = reshaped_data.sum(axis=1)\n",
    "    elif method == 'median':\n",
    "        result = np.median(reshaped_data, axis=1)\n",
    "    else:\n",
    "        raise ValueError(\"Invalid method. Use 'mean', 'sum', or 'median'.\")\n",
    "    \n",
    "    return result\n"
   ]
  },
  {
   "cell_type": "code",
   "execution_count": 59,
   "id": "d3db259d-8049-4796-8787-0b30820cb436",
   "metadata": {},
   "outputs": [
    {
     "name": "stdout",
     "output_type": "stream",
     "text": [
      "Original Daily Readings  ----------------->  [10 12 14 13 15 16 18 17 20 22 24 23 25 26 30]\n",
      "Weekly Averages  ------------------------->  [14.         22.42857143]\n"
     ]
    }
   ],
   "source": [
    "\n",
    "daily_readings = np.array([10, 12, 14, 13, 15, 16, 18, 17, 20, 22, 24, 23, 25, 26, 30])               # example time-series\n",
    "\n",
    "\n",
    "weekly_averages = downsample_to_frequency(daily_readings, frequency=7, method='mean')                 # downsample to weekly averages (7 days per week)\n",
    "\n",
    "\n",
    "print(\"Original Daily Readings  -----------------> \", daily_readings)\n",
    "print(\"Weekly Averages  -------------------------> \", weekly_averages)\n"
   ]
  },
  {
   "cell_type": "markdown",
   "id": "f1bbe359-6988-413c-93b2-4432b08602ea",
   "metadata": {},
   "source": [
    "<br>\n",
    "\n",
    "<span style=\"color: #ffdc5c; font-size: 0.7rem;\">■■■■■■■■■■■■■■■■■■■■■■■■■■■■■■■■■■■■■■■■■■■■■■■■■■■■■■■■■■■■■■■■■■■■■■■■■■■■■■■■■■■■■■■■■■■■■■■■■■■■■■■■■■■■■■■</span>\n"
   ]
  },
  {
   "cell_type": "markdown",
   "id": "fd293c28-0e4e-48b8-aff3-852ed293645c",
   "metadata": {
    "jp-MarkdownHeadingCollapsed": true
   },
   "source": [
    "<br>\n",
    "\n",
    "##### <span style=\"background-color: black; color: white; padding: 2px;\">&nbsp;Scenario - 7&nbsp;</span> &nbsp;&nbsp;&nbsp;&nbsp;====>&nbsp;&nbsp;&nbsp;&nbsp; <span style=\"font-size: 1rem;\"><strong>Text &nbsp;Data &nbsp;Processing</strong></span>\n"
   ]
  },
  {
   "cell_type": "markdown",
   "id": "7de2074d-fba5-4352-ad7f-22f48b0c050c",
   "metadata": {},
   "source": [
    "<br>\n",
    "\n",
    "<strong><span style=\"color: red;\"><u>Problem</u></span></strong>\n",
    "\n",
    "<div style=\"margin-left: 60px; color: blue;\">\n",
    "    \n",
    "You have an array of word counts for multiple documents. &nbsp;<strong>Normalize</strong> the word counts by the total words in each document to get term frequency (TF).\n",
    "\n",
    "</div>\n"
   ]
  },
  {
   "cell_type": "code",
   "execution_count": 42,
   "id": "47bd22b0-9b48-4ca5-8c9c-3b3620ca759a",
   "metadata": {},
   "outputs": [
    {
     "name": "stdout",
     "output_type": "stream",
     "text": [
      "Term Frequencies (TF):\n",
      " [[0.16666667 0.33333333 0.5       ]\n",
      " [0.         0.4        0.6       ]\n",
      " [0.29166667 0.33333333 0.375     ]]\n"
     ]
    }
   ],
   "source": [
    "\n",
    "# Word counts for 3 documents\n",
    "word_counts = np.array([[1, 2, 3],                                  # document 1\n",
    "                        [0, 4, 6],                                  # document 2\n",
    "                        [7, 8, 9]])                                 # document 3\n",
    "\n",
    "\n",
    "# Normalize by the total words in each document\n",
    "total_words = word_counts.sum(axis=1, keepdims=True)                # preserving dimensions so that word_counts can be then divided by the total_words\n",
    "tf = word_counts / total_words\n",
    "\n",
    "print(\"Term Frequencies (TF):\\n\", tf)\n"
   ]
  },
  {
   "cell_type": "markdown",
   "id": "a89cae17-68ad-49c4-8c0b-8ad70d9aaafb",
   "metadata": {},
   "source": [
    "<br>\n",
    "\n",
    "<span style=\"color: #a245ff;\">Preserving dimensions using &nbsp;<code style=\"background-color: #f9e9ff; color: black;\">keepdims=True</code>&nbsp; is especially useful when combining the result with the original array, or in other words - <strong>when you want the result to align with the original array shape</strong>. &nbsp;This is particularly important in <strong>broadcasting</strong> or when performing subsequent operations that require consistent dimensionality.</span>\n"
   ]
  },
  {
   "cell_type": "code",
   "execution_count": null,
   "id": "ac43a8a5-ae69-4fc0-a616-5349bd9f3278",
   "metadata": {},
   "outputs": [],
   "source": []
  },
  {
   "cell_type": "code",
   "execution_count": null,
   "id": "df37f240-03d7-4309-be04-25edca5aae3d",
   "metadata": {},
   "outputs": [],
   "source": []
  },
  {
   "cell_type": "code",
   "execution_count": null,
   "id": "bc9628c7-10be-4cd6-bbc4-44cd88bc4410",
   "metadata": {},
   "outputs": [],
   "source": []
  },
  {
   "cell_type": "code",
   "execution_count": null,
   "id": "b7accc2f-3670-40ff-b004-f4514b643466",
   "metadata": {},
   "outputs": [],
   "source": []
  }
 ],
 "metadata": {
  "kernelspec": {
   "display_name": "Python 3 (ipykernel)",
   "language": "python",
   "name": "python3"
  },
  "language_info": {
   "codemirror_mode": {
    "name": "ipython",
    "version": 3
   },
   "file_extension": ".py",
   "mimetype": "text/x-python",
   "name": "python",
   "nbconvert_exporter": "python",
   "pygments_lexer": "ipython3",
   "version": "3.11.3"
  }
 },
 "nbformat": 4,
 "nbformat_minor": 5
}
