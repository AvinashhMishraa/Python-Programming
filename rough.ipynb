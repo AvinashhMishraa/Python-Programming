{
 "cells": [
  {
   "cell_type": "markdown",
   "id": "6812c971-87ad-4e6f-89a8-0b56bfc7fabf",
   "metadata": {},
   "source": [
    "<br>\n",
    "\n",
    "**Every Python Function** (Tech With Tim) : https://www.youtube.com/playlist?list=PLzMcBGfZo4-lOXGKoV-sIPKD7MOuHp3_Q\n",
    "\n",
    "**Python Data Classes Are AMAZING! Here's Why** (Tech With Tim) : https://www.youtube.com/watch?v=5mMpM8zK4pY\n",
    "\n",
    "**10 Python Comprehensions You SHOULD Be Using** (Tech With Tim) : https://www.youtube.com/watch?v=twxE0dEp3qQ\n",
    "\n",
    "**Python 101: Learn These 5 Must-Know HIDDEN Features** (Tech With Tim) : https://www.youtube.com/watch?v=nrN3Gq1A92Y&list=LL&index=8&t=300s\n",
    "\n",
    "**5 Useful F-String Tricks In Python** (Indently)  :  https://www.youtube.com/watch?v=EoNOWVYKyo0&list=LL&index=2\n",
    "\n",
    "**5 Uncommon Python Features I Love** (Indently)  :  https://www.youtube.com/watch?v=sQ1Q96-Vhjk\n",
    "\n",
    "**5 Good Python Habits** (Indently)  :   https://youtu.be/I72uD8ED73U?list=PL4KX3oEgJcfeKzc-v2nD-KzTSELlNyafC\n",
    "\n",
    "**Modern Python logging** (mCoding) :   https://www.youtube.com/watch?v=9L77QExPmI0\n",
    "\n",
    "**Python dataclasses will save you HOURS, also featuring attrs** (mCoding) :    https://www.youtube.com/watch?v=vBH6GRJ1REM\n",
    "\n",
    "\n"
   ]
  },
  {
   "cell_type": "code",
   "execution_count": null,
   "id": "51dbe9aa-c18e-402d-929a-a4b2db39361b",
   "metadata": {},
   "outputs": [],
   "source": []
  },
  {
   "cell_type": "code",
   "execution_count": null,
   "id": "04d81616-5636-4484-ad44-20cf4973bb1d",
   "metadata": {},
   "outputs": [],
   "source": [
    "PROJECT IDEAS:\n",
    "1) Virat Kohli Cricket Career Dashboarding"
   ]
  },
  {
   "cell_type": "code",
   "execution_count": null,
   "id": "e544dab2-b599-446b-8db5-6e713965b704",
   "metadata": {},
   "outputs": [],
   "source": []
  },
  {
   "cell_type": "markdown",
   "id": "9b923395-088c-4196-a15e-517509470258",
   "metadata": {},
   "source": [
    "Collections in python"
   ]
  },
  {
   "cell_type": "code",
   "execution_count": null,
   "id": "4252b951-035e-4d5e-9727-7ef2a4a28348",
   "metadata": {},
   "outputs": [],
   "source": []
  },
  {
   "cell_type": "code",
   "execution_count": null,
   "id": "2e10614c-4c92-406c-b81b-81127aa92c8a",
   "metadata": {},
   "outputs": [],
   "source": []
  },
  {
   "cell_type": "markdown",
   "id": "ba516eaa-aaec-4554-9ec3-60d3878b5d57",
   "metadata": {},
   "source": [
    "<span style=\"background-color: #CAFEFD\">&nbsp;<U>**QUESTION 1**</U>: <br>\n",
    "Given an **unsorted array of distinct integers**. Find the **largest pair sum** in it. <br>\n",
    "For example, the largest pair sum in [12, 34, 10, 6, 40] is 74.\n",
    "&nbsp;</span>"
   ]
  },
  {
   "cell_type": "code",
   "execution_count": 1,
   "id": "599ae383-481d-4399-989a-9e573a669146",
   "metadata": {},
   "outputs": [
    {
     "name": "stdout",
     "output_type": "stream",
     "text": [
      "largest : 40\n",
      "second largest : 34\n",
      "largest pair sum is 74\n"
     ]
    }
   ],
   "source": [
    "# Method-1\n",
    "\n",
    "lst = [12, 34, 10, 6, 40]\n",
    "# lst = [12, 40, 34, 10, 34, 6, 40]\n",
    "\n",
    "n = 2                   # to find pair\n",
    "\n",
    "# dir(lst)\n",
    "\n",
    "lst.sort()              # It sorts the elements in the list\n",
    "#lst                    # [6, 10, 12, 34, 40]\n",
    "\n",
    "#lst[-1::-1]            # [40, 34, 12, 10, 6]\n",
    "\n",
    "#lst[-1:-(n + 1):-1]    # largest pair : [40, 34]\n",
    "\n",
    "\n",
    "sum = 0\n",
    "for i in  range(-1,-(n + 1),-1):\n",
    "    sum += lst[i]\n",
    "\n",
    "print(\"largest :\", lst[-1])\n",
    "print(\"second largest :\", lst[-2])\n",
    "print(\"largest pair sum is\",sum)\n",
    "\n"
   ]
  },
  {
   "cell_type": "code",
   "execution_count": 71,
   "id": "73f3b5cd-0e9b-4522-a676-98c1639f360c",
   "metadata": {},
   "outputs": [
    {
     "name": "stdout",
     "output_type": "stream",
     "text": [
      "largest : 40\n",
      "second largest : 34\n",
      "largest pair sum = 74\n"
     ]
    }
   ],
   "source": [
    "# Method-2\n",
    "\n",
    "lst = [12, 34, 10, 6, 40]\n",
    "#lst = [12, 40, 34, 10, 34, 6, 40]\n",
    "\n",
    "\n",
    "# initializing 2 variables for largest and 2nd largest number in the array\n",
    "largest = None\n",
    "second_largest = None\n",
    "\n",
    "\n",
    "# finding the largest and the 2nd largest between the first 2 elements in the array\n",
    "if lst[0] >= lst[1]:\n",
    "    largest = lst[0]\n",
    "    second_largest = lst[1]\n",
    "else:\n",
    "    largest = lst[1]\n",
    "    second_largest = lst[0]\n",
    "\n",
    "\n",
    "# now finding the largest and the 2nd largest element in the whole array\n",
    "for i in range(2,len(lst)):\n",
    "    \n",
    "    if lst[i] >= largest:\n",
    "        second_largest = largest\n",
    "        largest = lst[i]\n",
    "\n",
    "    if lst[i] > second_largest and lst[i] < largest:         # if lst[i] > second_largest and lst[i] != largest:\n",
    "        second_largest = lst[i]\n",
    "\n",
    "\n",
    "print(\"largest :\", largest)\n",
    "print(\"second largest :\", second_largest)\n",
    "print(\"largest pair sum =\", largest + second_largest)        # displaying the sum\n",
    "    \n"
   ]
  },
  {
   "cell_type": "code",
   "execution_count": null,
   "id": "0be74e42-e304-479a-85e2-cb27ec75a103",
   "metadata": {},
   "outputs": [],
   "source": []
  },
  {
   "cell_type": "code",
   "execution_count": null,
   "id": "05680f9c-8ce4-42e5-90f4-b427525e9551",
   "metadata": {},
   "outputs": [],
   "source": []
  },
  {
   "cell_type": "markdown",
   "id": "fedff3ca-26e4-42cd-86d3-13520218487b",
   "metadata": {},
   "source": [
    "<br>\n",
    "\n",
    "<span style=\"color: blue\"> █ █ █ █ █ █ █ █ █ █ █ █ █ █ █ █ █ █ █ █ █ █ █ █ █ █ █ █ █ █  █ █ █ █ █ █ █ █ █ █ █ █ █ █ █ █ █ █ █ █ █ █ █ █  █ █ █ █ █ █ █ █ █ █ █ █ █ █ █ █ █ █ █ █ █ █ █ █  </span>\n",
    "\n",
    "<br>"
   ]
  },
  {
   "cell_type": "markdown",
   "id": "fa9b81bf-6b9d-4fe8-90b0-98cf5f2ba359",
   "metadata": {},
   "source": [
    "\n",
    "Lambda expressions are anonymous functions defined using the lambda keyword, typically used for short, one-time operations where defining a named function is unnecessary. So it’ll be unnecessary to define that function with the def keyword. A lambda expression typically contains one or more arguments, but it can have only one expression."
   ]
  },
  {
   "cell_type": "markdown",
   "id": "9ee7a477-3d7e-4414-bd88-129672d784b1",
   "metadata": {},
   "source": [
    "# What are Python lambda expressions\n",
    "\n",
    "Python lambda expressions allow you to define anonymous functions. <br>\n",
    "\n",
    "Anonymous functions are functions without names. The anonymous functions are useful when you need to use them once. <br>\n",
    "\n",
    "A lambda expression typically contains one or more arguments, but it can have only one expression. <br>\n",
    "\n",
    "The following shows the lambda expression syntax:"
   ]
  },
  {
   "cell_type": "code",
   "execution_count": 38,
   "id": "723fa9e8-0403-4992-9174-405f5807722e",
   "metadata": {},
   "outputs": [
    {
     "data": {
      "text/plain": [
       "<function __main__.<lambda>(parameters)>"
      ]
     },
     "execution_count": 38,
     "metadata": {},
     "output_type": "execute_result"
    }
   ],
   "source": [
    "\n",
    "lambda parameters: expression\n"
   ]
  },
  {
   "cell_type": "markdown",
   "id": "51252095-559d-4a96-9ad9-04ad88c332fd",
   "metadata": {},
   "source": [
    "<br>\n",
    "\n",
    "It’s equivalent to the following function without the \"anonymous\" name:"
   ]
  },
  {
   "cell_type": "markdown",
   "id": "45d27015-272b-45a4-b3e4-031806bf3482",
   "metadata": {},
   "source": [
    "\n",
    "def anonymous(parameters):\n",
    "    return expression\n"
   ]
  },
  {
   "cell_type": "code",
   "execution_count": null,
   "id": "54dc0543-236d-4b17-b534-2ee0533ef7db",
   "metadata": {},
   "outputs": [],
   "source": []
  },
  {
   "cell_type": "markdown",
   "id": "5dc1ce56-ceb6-4fdb-8926-00c15e709c18",
   "metadata": {},
   "source": [
    "# Python lambda expression examples\n"
   ]
  },
  {
   "cell_type": "code",
   "execution_count": 39,
   "id": "adcd57b6-c069-4874-a91e-4274f2096991",
   "metadata": {},
   "outputs": [
    {
     "name": "stdout",
     "output_type": "stream",
     "text": [
      "25\n"
     ]
    }
   ],
   "source": [
    "# lambda expression that calculates the square of a number\n",
    "\n",
    "square = lambda x: x**2\n",
    "\n",
    "# Call the lambda function\n",
    "result = square(5)\n",
    "\n",
    "print(result)  # Output: 25\n"
   ]
  },
  {
   "cell_type": "code",
   "execution_count": 40,
   "id": "711a5351-324a-41d8-b03a-57b06a6b65e6",
   "metadata": {},
   "outputs": [
    {
     "name": "stdout",
     "output_type": "stream",
     "text": [
      "15\n"
     ]
    }
   ],
   "source": [
    "# lambda expression that add a number to 10\n",
    "\n",
    "x = lambda a: a + 10\n",
    "print(x(5))\n"
   ]
  },
  {
   "cell_type": "markdown",
   "id": "293c81ad-6190-48f8-a180-430022a677ef",
   "metadata": {},
   "source": [
    "**Note - Lambda functions can take any number of arguments:**"
   ]
  },
  {
   "cell_type": "code",
   "execution_count": 51,
   "id": "69d437f0-92ac-4165-922e-4a944461441f",
   "metadata": {},
   "outputs": [
    {
     "name": "stdout",
     "output_type": "stream",
     "text": [
      "7\n"
     ]
    }
   ],
   "source": [
    "# lambda expression to add 2 numbers\n",
    "\n",
    "add = lambda x, y: x + y\n",
    "\n",
    "# Call the lambda function\n",
    "result = add(3, 4)\n",
    "\n",
    "print(result)  # Output: 7\n"
   ]
  },
  {
   "cell_type": "code",
   "execution_count": 54,
   "id": "118ed33d-499a-40ed-bed1-a99c42a65e26",
   "metadata": {},
   "outputs": [
    {
     "name": "stdout",
     "output_type": "stream",
     "text": [
      "30\n"
     ]
    }
   ],
   "source": [
    "# lambda expression that multiplies two numbers\n",
    "\n",
    "x = lambda a, b : a * b\n",
    "print(x(5, 6))\n"
   ]
  },
  {
   "cell_type": "code",
   "execution_count": 55,
   "id": "1d5cfea4-cd25-4b77-a32b-e0b28787bd27",
   "metadata": {},
   "outputs": [
    {
     "name": "stdout",
     "output_type": "stream",
     "text": [
      "13\n"
     ]
    }
   ],
   "source": [
    "# lambda expression to add three numbers\n",
    "\n",
    "x = lambda a, b, c : a + b + c\n",
    "print(x(5, 6, 2))\n"
   ]
  },
  {
   "cell_type": "code",
   "execution_count": null,
   "id": "8c96d48d-fd29-4381-870f-bd7d4f6eacc3",
   "metadata": {},
   "outputs": [],
   "source": []
  },
  {
   "cell_type": "markdown",
   "id": "6bcca7b0-c3fa-4877-a555-f0858cfe1ef9",
   "metadata": {},
   "source": [
    "\n",
    "In Python, you can pass a function to another function or return a function from another function.\n",
    "\n",
    "### 1) Functions that accept a function example"
   ]
  },
  {
   "cell_type": "code",
   "execution_count": 4,
   "id": "97db897d-67d9-47b5-961a-650d74b5d27e",
   "metadata": {},
   "outputs": [
    {
     "name": "stdout",
     "output_type": "stream",
     "text": [
      "John Doe\n",
      "\n",
      "Doe, John\n"
     ]
    }
   ],
   "source": [
    "def get_full_name(first_name, last_name, formatter):\n",
    "    return formatter(first_name, last_name)\n",
    "\n",
    "\n",
    "def first_last(first_name, last_name):\n",
    "    return f\"{first_name} {last_name}\"\n",
    "\n",
    "\n",
    "def last_first(first_name, last_name):\n",
    "    return f\"{last_name}, {first_name}\"\n",
    "\n",
    "\n",
    "full_name = get_full_name('John', 'Doe', first_last)\n",
    "print(full_name) # John Doe\n",
    "\n",
    "print()\n",
    "\n",
    "full_name = get_full_name('John', 'Doe', last_first)\n",
    "print(full_name) #  Doe, John"
   ]
  },
  {
   "cell_type": "markdown",
   "id": "d39e1beb-daad-48e4-92b3-3b400a642dbe",
   "metadata": {},
   "source": [
    "Instead of defining the first_last and last_first functions, you can use lambda expressions."
   ]
  },
  {
   "cell_type": "code",
   "execution_count": 59,
   "id": "875f3613-2d3f-4447-b971-2224db1f5a1c",
   "metadata": {},
   "outputs": [
    {
     "name": "stdout",
     "output_type": "stream",
     "text": [
      "John Doe\n",
      "Doe John\n"
     ]
    }
   ],
   "source": [
    "def get_full_name(first_name, last_name, formatter):\n",
    "    return formatter(first_name, last_name)\n",
    "\n",
    "\n",
    "# first_last\n",
    "full_name = get_full_name(\n",
    "    'John',\n",
    "    'Doe',\n",
    "    lambda first_name, last_name: f\"{first_name} {last_name}\"\n",
    ")\n",
    "\n",
    "print(full_name)\n",
    "\n",
    "\n",
    "# last_first\n",
    "full_name = get_full_name(\n",
    "    'John',\n",
    "    'Doe',\n",
    "    lambda first_name, last_name: f\"{last_name} {first_name}\"\n",
    ")\n",
    "\n",
    "print(full_name)\n",
    "\n"
   ]
  },
  {
   "cell_type": "code",
   "execution_count": null,
   "id": "563c45a2-2e7a-44b5-8900-449d1698c2af",
   "metadata": {},
   "outputs": [],
   "source": []
  },
  {
   "cell_type": "markdown",
   "id": "7e18fd6a-10ea-45ce-b355-73615c2d61b1",
   "metadata": {},
   "source": [
    "### 2) Functions that return a function example"
   ]
  },
  {
   "cell_type": "code",
   "execution_count": 10,
   "id": "4cbfd182-faa6-4838-937c-59c91bcc8970",
   "metadata": {},
   "outputs": [],
   "source": [
    "def times(n):\n",
    "    return lambda x: x * n\n",
    "\n",
    "\n",
    "double = times(2)"
   ]
  },
  {
   "cell_type": "markdown",
   "id": "c490d257-0032-4217-a42a-9ea2c10fa7aa",
   "metadata": {},
   "source": [
    "<br>\n",
    "\n",
    "<span style=\"background-color: #CAFEFD\">Since the **times( )** function returns a function, the **double is also a function**.</span>\n"
   ]
  },
  {
   "cell_type": "code",
   "execution_count": 13,
   "id": "1bdba8ab-df8a-4e4e-bd46-bbac77baeb32",
   "metadata": {},
   "outputs": [
    {
     "name": "stdout",
     "output_type": "stream",
     "text": [
      "4\n",
      "6\n"
     ]
    }
   ],
   "source": [
    "result = double(2)\n",
    "print(result)        # 4\n",
    "\n",
    "\n",
    "result = double(3)\n",
    "print(result)        # 6"
   ]
  },
  {
   "cell_type": "code",
   "execution_count": 14,
   "id": "d6cdb492-753e-4d62-9bc8-7fadd5b923c4",
   "metadata": {},
   "outputs": [
    {
     "name": "stdout",
     "output_type": "stream",
     "text": [
      "6\n",
      "9\n"
     ]
    }
   ],
   "source": [
    "\n",
    "triple = times(3)\n",
    "\n",
    "print(triple(2))    # 6\n",
    "print(triple(3))    # 9\n"
   ]
  },
  {
   "cell_type": "code",
   "execution_count": 28,
   "id": "b13b208d-143a-4dc5-aaeb-d5cf91b1365a",
   "metadata": {},
   "outputs": [
    {
     "name": "stdout",
     "output_type": "stream",
     "text": [
      "4\n",
      "9\n"
     ]
    }
   ],
   "source": [
    "# To Summarise:\n",
    "\n",
    "def times(n):\n",
    "    return lambda x: x * n\n",
    "\n",
    "\n",
    "double = times(2)\n",
    "triple = times(3)\n",
    "\n",
    "\n",
    "print(double(2))\n",
    "print(triple(3))\n"
   ]
  },
  {
   "cell_type": "code",
   "execution_count": null,
   "id": "fcbe1156-9e21-4229-885b-f21ef714cc7a",
   "metadata": {},
   "outputs": [],
   "source": []
  },
  {
   "cell_type": "markdown",
   "id": "5214de89-307c-45d3-9b3d-1632f85255cd",
   "metadata": {},
   "source": [
    "### 3. Python lambda in a loop"
   ]
  },
  {
   "cell_type": "code",
   "execution_count": 17,
   "id": "16ebf96c-d715-4d6b-8157-df1188aa3109",
   "metadata": {},
   "outputs": [
    {
     "name": "stdout",
     "output_type": "stream",
     "text": [
      "3\n",
      "3\n",
      "3\n"
     ]
    }
   ],
   "source": [
    "\n",
    "callables = []\n",
    "for i in (1, 2, 3):\n",
    "    callables.append(lambda: i)\n",
    "\n",
    "\n",
    "for f in callables:\n",
    "    print(f())\n"
   ]
  },
  {
   "cell_type": "markdown",
   "id": "357f7355-829f-4f5b-882b-455c958356da",
   "metadata": {},
   "source": [
    "But the **expected output** was :\n",
    "\n",
    "<div style=\"border: 1px solid pink; padding: 10px; background-color: #fff6e6;\">\n",
    "\n",
    "1 <br>\n",
    "2 <br>\n",
    "3\n",
    "\n",
    "</div>"
   ]
  },
  {
   "cell_type": "markdown",
   "id": "4e3089d1-815e-4a77-9f85-ff422989acac",
   "metadata": {},
   "source": [
    "The problem is that all the there lambda expressions reference the <span style=\"background-color: #FBE2FF; color: red;\"><strong>&nbsp;&nbsp;i&nbsp;&nbsp;</strong></span> variable, not the current value of <span style=\"background-color: #FBE2FF; color: red;\"><strong>&nbsp;&nbsp;i&nbsp;&nbsp;</strong></span>. When you call the lambda expressions, the value of the variable <span style=\"background-color: #FBE2FF; color: red;\"><strong>&nbsp;&nbsp;i&nbsp;&nbsp;</strong></span> is 3.\n",
    "\n",
    "\n",
    "To fix this, you need to <span style=\"background-color: #CAFEFD\">bind the <span style=\"background-color: #FBE2FF; color: red;\"><strong>&nbsp;&nbsp;i&nbsp;&nbsp;</strong></span> variable to each lambda expression at the time the lambda expression is created</span>. One way to do it is to use the <span style=\"color: blue\">default argument</span> :"
   ]
  },
  {
   "cell_type": "code",
   "execution_count": 19,
   "id": "f9ee0560-1a57-40b8-a7b5-f7f8242d7db4",
   "metadata": {},
   "outputs": [
    {
     "name": "stdout",
     "output_type": "stream",
     "text": [
      "1\n",
      "2\n",
      "3\n"
     ]
    }
   ],
   "source": [
    "\n",
    "callables = []\n",
    "for i in (1, 2, 3):\n",
    "    callables.append(lambda a=i: a)\n",
    "\n",
    "\n",
    "for f in callables:\n",
    "    print(f())\n"
   ]
  },
  {
   "cell_type": "markdown",
   "id": "f7c110b3-a338-4a9b-bf6d-4d178662b7ab",
   "metadata": {},
   "source": [
    "<br>\n",
    "\n",
    "#### **Summary**\n",
    "\n",
    "<br>\n",
    "\n",
    "Use Python lambda expressions to create anonymous functions, which are functions without names. \n",
    "\n",
    "<br>\n",
    "\n",
    "A lambda expression accepts one or more arguments, contains an expression, and returns the result of that expression.\n",
    "\n",
    "<br>\n",
    "\n",
    "Use lambda expressions to pass anonymous functions to a function and return a function from another function.\n",
    "\n",
    "<br>\n",
    "\n",
    "Lambda expressions can only contain a single expression, while regular functions can have multiple statements and a docstring. Regular functions are more suitable for complex operations or when the function needs to be reused multiple times. While lambda expressions are limited in scope and are suitable for short, simple operations, especially when passing functions as arguments to higher-order functions like map(), filter(), or sorted().\n",
    "Unlike regular functions, lambda expressions can only access variables from the enclosing scope at the time of their definition, not when they are called.\n",
    "\n",
    "<br>\n",
    "\n",
    "Lambda functions can be used in a variety of ways, including as arguments to other functions (such as the built-in \"map\" or \"filter\" functions), or to create short, throwaway functions for one-time use.\n",
    "\n",
    "<BR>"
   ]
  },
  {
   "cell_type": "code",
   "execution_count": null,
   "id": "4d62a423-6e10-4aaf-860a-b1ec7b4465b4",
   "metadata": {},
   "outputs": [],
   "source": []
  },
  {
   "cell_type": "markdown",
   "id": "f8e30461-692f-4c05-8acb-4ffeb1dc36f3",
   "metadata": {},
   "source": [
    "**Let us do some more examples for practice and better undestanding of it's application.**"
   ]
  },
  {
   "cell_type": "code",
   "execution_count": 56,
   "id": "fbd6cbd7-d8b3-43cb-9e20-28d9aabae824",
   "metadata": {},
   "outputs": [
    {
     "name": "stdout",
     "output_type": "stream",
     "text": [
      "10\n"
     ]
    }
   ],
   "source": [
    "# Finding the maximum of two numbers:\n",
    "\n",
    "max_num = lambda x, y: x if x > y else y\n",
    "\n",
    "# Call the lambda function\n",
    "result = max_num(10, 5)\n",
    "\n",
    "print(result)  # Output: 10\n"
   ]
  },
  {
   "cell_type": "code",
   "execution_count": 58,
   "id": "23e1411e-46d1-4457-b6ad-c7a53bcfac40",
   "metadata": {},
   "outputs": [
    {
     "name": "stdout",
     "output_type": "stream",
     "text": [
      "False\n"
     ]
    }
   ],
   "source": [
    "# Checking if a number is even:\n",
    "\n",
    "is_even = lambda x: x % 2 == 0\n",
    "\n",
    "# Call the lambda function\n",
    "result = is_even(7)\n",
    "\n",
    "print(result)  # Output: False\n"
   ]
  },
  {
   "cell_type": "code",
   "execution_count": 60,
   "id": "048561e7-7800-487d-b3ae-d75d239fff5e",
   "metadata": {},
   "outputs": [
    {
     "name": "stdout",
     "output_type": "stream",
     "text": [
      "77.0\n"
     ]
    }
   ],
   "source": [
    "# Converting temperature from Celsius to Fahrenheit:\n",
    "\n",
    "celsius_to_fahrenheit = lambda celsius: celsius * 9/5 + 32\n",
    "\n",
    "# Call the lambda function\n",
    "result = celsius_to_fahrenheit(25)\n",
    "\n",
    "print(result)  # Output: 77.0\n"
   ]
  },
  {
   "cell_type": "markdown",
   "id": "9080be01-92fd-44b2-91ea-70b39129a482",
   "metadata": {},
   "source": [
    "<br>\n",
    "\n",
    "<br>\n",
    "\n",
    "**Sorting**"
   ]
  },
  {
   "cell_type": "code",
   "execution_count": 10,
   "id": "2fa626e1-42bf-4ff1-9a9e-6ff0e1df7dad",
   "metadata": {},
   "outputs": [
    {
     "name": "stdout",
     "output_type": "stream",
     "text": [
      "['date', 'apple', 'banana', 'cherry']\n",
      "\n",
      "['banana', 'cherry', 'apple', 'date']\n",
      "\n",
      "\n",
      "\n"
     ]
    }
   ],
   "source": [
    "# Sorting a list of strings by length:\n",
    "\n",
    "words = ['apple', 'banana', 'cherry', 'date']\n",
    "\n",
    "sorted_words = sorted(words, key=lambda x: len(x))\n",
    "reverse_sorted_words = sorted(words, key=lambda x: len(x), reverse = True)\n",
    "\n",
    "print(sorted_words, end =\"\\n\\n\")  # Output: ['date', 'apple', 'banana', 'cherry']\n",
    "print(reverse_sorted_words, end =\"\\n\\n\\n\\n\")  # Output: ['']\n"
   ]
  },
  {
   "cell_type": "markdown",
   "id": "61ab955b-8510-4d15-9059-97962c82a889",
   "metadata": {},
   "source": [
    "Sorting a list of tuples based on the value of a specific element in each tuple :"
   ]
  },
  {
   "cell_type": "code",
   "execution_count": 56,
   "id": "6810173e-03de-460b-b2a1-20668eee9c5e",
   "metadata": {},
   "outputs": [
    {
     "name": "stdout",
     "output_type": "stream",
     "text": [
      "[(1, 'b'), (2, 'c'), (3, 'a'), (3, 'c')]\n",
      "\n",
      "[(3, 'a'), (3, 'c'), (2, 'c'), (1, 'b')]\n",
      "\n"
     ]
    }
   ],
   "source": [
    "\n",
    "data = [(1, 'b'), (3, 'a'), (2, 'c'), (3, 'c')]\n",
    "\n",
    "# sorting the list of tuples based on the 1st element of each tuple (i.e., the integer)\n",
    "sorted_data = sorted(data, key=lambda x: x[0])\n",
    "reverse_sorted_data = sorted(data, key=lambda x: x[0], reverse = True)\n",
    "\n",
    "print(sorted_data, end =\"\\n\\n\")                \n",
    "print(reverse_sorted_data, end =\"\\n\\n\")       \n"
   ]
  },
  {
   "cell_type": "code",
   "execution_count": 55,
   "id": "4e23174b-098e-4b51-ac7b-d5f36b745bb2",
   "metadata": {},
   "outputs": [
    {
     "name": "stdout",
     "output_type": "stream",
     "text": [
      "[(3, 'a'), (1, 'b'), (2, 'c')]\n",
      "\n",
      "[(2, 'c'), (1, 'b'), (3, 'a')]\n",
      "\n"
     ]
    }
   ],
   "source": [
    "\n",
    "data = [(1, 'b'), (3, 'a'), (2, 'c')]\n",
    "\n",
    "# sorting the list of tuples based on the 2nd element of each tuple (i.e., the character)\n",
    "sorted_data = sorted(data, key=lambda x: x[1])\n",
    "reverse_sorted_data = sorted(data, key=lambda x: x[1], reverse = True)\n",
    "\n",
    "print(sorted_data, end =\"\\n\\n\")                \n",
    "print(reverse_sorted_data, end =\"\\n\\n\")    \n",
    "\n"
   ]
  },
  {
   "cell_type": "markdown",
   "id": "4b5dfe21-9626-4a3c-9bc4-28d4d4d66940",
   "metadata": {},
   "source": [
    "sort a list of dictionaries based on a specific key using lambda expressions"
   ]
  },
  {
   "cell_type": "code",
   "execution_count": 57,
   "id": "a25966bd-bfcf-4e57-81f9-cf26fb86c989",
   "metadata": {},
   "outputs": [
    {
     "name": "stdout",
     "output_type": "stream",
     "text": [
      "{'name': 'Bob', 'age': 25}\n",
      "{'name': 'Alice', 'age': 30}\n",
      "{'name': 'Charlie', 'age': 35}\n"
     ]
    }
   ],
   "source": [
    "# List of dictionaries\n",
    "data = [\n",
    "    {'name': 'Alice', 'age': 30},\n",
    "    {'name': 'Bob', 'age': 25},\n",
    "    {'name': 'Charlie', 'age': 35}\n",
    "]\n",
    "\n",
    "# Sort the list of dictionaries based on the 'age' key\n",
    "sorted_data = sorted(data, key=lambda x: x['age'])\n",
    "\n",
    "# Print the sorted list\n",
    "for item in sorted_data:\n",
    "    print(item)\n"
   ]
  },
  {
   "cell_type": "code",
   "execution_count": null,
   "id": "c9c0ada3-cbc9-4e53-b303-7c81694be40e",
   "metadata": {},
   "outputs": [],
   "source": []
  },
  {
   "cell_type": "code",
   "execution_count": null,
   "id": "54334da6-4926-4c52-bdd7-d8ff5729505f",
   "metadata": {},
   "outputs": [],
   "source": []
  },
  {
   "cell_type": "code",
   "execution_count": null,
   "id": "8f7eaab8-5534-4696-8ed9-a6dad2b28710",
   "metadata": {},
   "outputs": [],
   "source": []
  },
  {
   "cell_type": "markdown",
   "id": "0cdbd055-ef65-4e25-8093-442188b9eb99",
   "metadata": {},
   "source": [
    "**Filtering**"
   ]
  },
  {
   "cell_type": "code",
   "execution_count": 7,
   "id": "a2733c85-3025-4708-a067-1a881e61f63b",
   "metadata": {},
   "outputs": [
    {
     "name": "stdout",
     "output_type": "stream",
     "text": [
      "[1, 3, 5]\n"
     ]
    }
   ],
   "source": [
    "\n",
    "# Filtering out negative numbers from a list:\n",
    "\n",
    "numbers = [1, -2, 3, -4, 5, -6]\n",
    "\n",
    "positive_numbers = list(filter(lambda x: x > 0, numbers))\n",
    "\n",
    "print(positive_numbers) \n"
   ]
  },
  {
   "cell_type": "code",
   "execution_count": 6,
   "id": "7a8aaeef-2e48-4027-9e16-8a048d4a10b5",
   "metadata": {},
   "outputs": [
    {
     "name": "stdout",
     "output_type": "stream",
     "text": [
      "[2, 4, 6]\n"
     ]
    }
   ],
   "source": [
    "# Filtering out even numbers from a given list of numbers\n",
    "\n",
    "numbers = [1, 2, 3, 4, 5, 6]\n",
    "\n",
    "filtered_numbers = list(filter(lambda x: x % 2 == 0, numbers))\n",
    "\n",
    "print(filtered_numbers)  # Output: [2, 4, 6]\n"
   ]
  },
  {
   "cell_type": "markdown",
   "id": "cab85141-9c85-4b89-9b46-de283416c227",
   "metadata": {},
   "source": [
    "<br>\n",
    "\n",
    "<br>\n",
    "\n",
    "**Mapping**"
   ]
  },
  {
   "cell_type": "code",
   "execution_count": 9,
   "id": "252107e3-b486-4426-92e3-0e03e45d2c56",
   "metadata": {},
   "outputs": [
    {
     "name": "stdout",
     "output_type": "stream",
     "text": [
      "[1, 2, 3, 4, 5]\n"
     ]
    }
   ],
   "source": [
    "# Mapping a list of integers to their absolute values:\n",
    "\n",
    "numbers = [-1, 2, -3, 4, -5]\n",
    "\n",
    "absolute_values = list(map(lambda x: abs(x), numbers))\n",
    "\n",
    "print(absolute_values)  # Output: [1, 2, 3, 4, 5]\n"
   ]
  },
  {
   "cell_type": "code",
   "execution_count": 13,
   "id": "3aa1508b-e07a-4cd9-a191-220d0940072e",
   "metadata": {},
   "outputs": [
    {
     "name": "stdout",
     "output_type": "stream",
     "text": [
      "[5, 6, 6]\n"
     ]
    }
   ],
   "source": [
    "# Mapping each string in element in a list of strings to their lengths:\n",
    "\n",
    "strings = ['apple', 'banana', 'cherry']\n",
    "\n",
    "lengths = list(map(lambda x: len(x), strings))\n",
    "\n",
    "print(lengths)  # Output: [5, 6, 6]\n"
   ]
  },
  {
   "cell_type": "markdown",
   "id": "428b2a6f-9583-454a-88f0-4ad0b2ff7d10",
   "metadata": {},
   "source": [
    "<br>\n",
    "\n",
    "using a lambda function inside a max() function"
   ]
  },
  {
   "cell_type": "code",
   "execution_count": 1,
   "id": "fe0c03ee-6010-4a41-a985-b6824b8471d9",
   "metadata": {},
   "outputs": [
    {
     "name": "stdout",
     "output_type": "stream",
     "text": [
      "{'name': 'Charlie', 'age': 35}\n"
     ]
    }
   ],
   "source": [
    "# Finding the maximum value in a list of dictionaries:\n",
    "\n",
    "# Given a list of dictionaries, find the dictionary with the maximum value of a specific key.\n",
    "\n",
    "data = [{'name': 'Alice', 'age': 30}, {'name': 'Bob', 'age': 25}, {'name': 'Charlie', 'age': 35}]\n",
    "\n",
    "max_age_person = max(data, key=lambda x: x['age'])   \n",
    "\n",
    "print(max_age_person)  # Output: {'name': 'Charlie', 'age': 35}\n"
   ]
  },
  {
   "cell_type": "markdown",
   "id": "97e52160-ae02-410e-bf21-30913d2c8d24",
   "metadata": {},
   "source": [
    "<br>\n",
    "\n",
    "<br>\n",
    "\n",
    "**Reducing a list into a single value**\n",
    "\n",
    "using the lambda function as the first argument of the reduce() function:\n",
    "\n",
    "<br>\n",
    "\n",
    "using a lambda function inside a max() function"
   ]
  },
  {
   "cell_type": "code",
   "execution_count": 2,
   "id": "1385c470-0990-45b0-b51d-09ceee05b52c",
   "metadata": {},
   "outputs": [
    {
     "name": "stdout",
     "output_type": "stream",
     "text": [
      "365\n"
     ]
    }
   ],
   "source": [
    "# Using reduce() to calculate the sum of all the numbers in a list\n",
    "\n",
    "from functools import reduce\n",
    "\n",
    "scores = [75, 65, 80, 95, 50]\n",
    "\n",
    "total = reduce(lambda a, b: a + b, scores)\n",
    "\n",
    "print(total)   # 365\n"
   ]
  },
  {
   "cell_type": "code",
   "execution_count": 3,
   "id": "0a2d3d74-7cff-46c9-8ddf-03efa5c16f8e",
   "metadata": {},
   "outputs": [
    {
     "name": "stdout",
     "output_type": "stream",
     "text": [
      "120\n"
     ]
    }
   ],
   "source": [
    "# Using reduce() to find factorial of a number\n",
    "\n",
    "import functools\n",
    "\n",
    "factorial = lambda n: functools.reduce(lambda x, y: x * y, range(1, n+1))\n",
    "\n",
    "print(factorial(5))  # Output: 120\n"
   ]
  },
  {
   "cell_type": "code",
   "execution_count": 4,
   "id": "d799cf7e-ea31-4f81-b089-fdad3d48f899",
   "metadata": {},
   "outputs": [
    {
     "name": "stdout",
     "output_type": "stream",
     "text": [
      "Maximum element in [4, 6, 8, 1, 3, 5] : 8\n"
     ]
    }
   ],
   "source": [
    "# Using reduce() to find maximum element in a list of values\n",
    "\n",
    "from functools import reduce\n",
    "\n",
    "numbers = [4, 6, 8, 1, 3, 5]\n",
    "\n",
    "max_num = reduce(lambda x, y: x if x > y else y, numbers)\n",
    "\n",
    "print(\"Maximum element in\", numbers, \":\", max_num)\n"
   ]
  },
  {
   "cell_type": "code",
   "execution_count": 6,
   "id": "d2f306d8-78fb-419a-853f-0399d753ede3",
   "metadata": {},
   "outputs": [
    {
     "name": "stdout",
     "output_type": "stream",
     "text": [
      "a=75, b=65, 75 + 65 =140\n",
      "a=140, b=80, 140 + 80 =220\n",
      "a=220, b=95, 220 + 95 =315\n",
      "a=315, b=50, 315 + 50 =365\n",
      "365\n",
      "365\n"
     ]
    }
   ],
   "source": [
    "# Using reduce() to find sum of all the elements of a list of values\n",
    "\n",
    "from functools import reduce\n",
    "\n",
    "def sum(a, b):\n",
    "    print(f\"a={a}, b={b}, {a} + {b} ={a+b}\")\n",
    "    return a + b\n",
    "\n",
    "\n",
    "scores = [75, 65, 80, 95, 50]\n",
    "total = reduce(sum, scores)\n",
    "print(total)\n",
    "\n",
    "\n",
    "# To make the code more concise, you can use a lambda expression instead of defining the sum() function:\n",
    "from functools import reduce\n",
    "\n",
    "scores = [75, 65, 80, 95, 50]\n",
    "\n",
    "total = reduce(lambda a, b: a + b, scores)\n",
    "\n",
    "print(total)\n"
   ]
  },
  {
   "cell_type": "markdown",
   "id": "78121497-e35b-4a30-8505-fa2f089d8d22",
   "metadata": {},
   "source": [
    "**grouping**\n",
    "\n",
    "using lambda function in groupby\n",
    "\n"
   ]
  },
  {
   "cell_type": "markdown",
   "id": "4538d126-4331-44c7-b292-85afd899a822",
   "metadata": {},
   "source": [
    "Grouping elements in a list by a specific criterion:"
   ]
  },
  {
   "cell_type": "code",
   "execution_count": null,
   "id": "2ab7cbd8-4a9d-46cf-ab73-4b9d78a55008",
   "metadata": {},
   "outputs": [],
   "source": [
    "data = [1, 2, 3, 4, 5, 6]\n",
    "\n",
    "grouped_data = groupby(data, lambda x: 'even' if x % 2 == 0 else 'odd')\n",
    "\n",
    "print(dict(grouped_data))  # Output: {'odd': [1, 3, 5], 'even': [2, 4, 6]}\n"
   ]
  },
  {
   "cell_type": "markdown",
   "id": "b1fe716a-78e6-4d9e-8278-27e8aad726cc",
   "metadata": {},
   "source": [
    "**Calculating the sum of squares of numbers in a list:**"
   ]
  },
  {
   "cell_type": "code",
   "execution_count": 37,
   "id": "32517505-c9ab-4f59-a49c-0a5e0154cec7",
   "metadata": {},
   "outputs": [
    {
     "name": "stdout",
     "output_type": "stream",
     "text": [
      "The original list is :  [1, 2, 3, 4, 5]\n",
      "The sum of squares of list is :  55\n"
     ]
    }
   ],
   "source": [
    "# importing reduce and operator functions\n",
    "from functools import reduce\n",
    "import operator\n",
    " \n",
    "# initializing list\n",
    "input_list = [1,2,3,4,5]\n",
    " \n",
    "# printing original list\n",
    "print(\"The original list is : \", input_list)\n",
    " \n",
    "# using reduce() and operator.mul() to calculate sum of squares\n",
    "res = reduce(operator.add, map(lambda x: x*x, input_list))\n",
    " \n",
    "# printing result\n",
    "print(\"The sum of squares of list is : \", res)"
   ]
  },
  {
   "cell_type": "markdown",
   "id": "facd040b-57ce-4703-8935-b6bda0b59052",
   "metadata": {},
   "source": [
    "**Finding the second highest value in a list:**"
   ]
  },
  {
   "cell_type": "code",
   "execution_count": 29,
   "id": "a1496e2b-2a0f-4274-b2a3-5f496d20fa32",
   "metadata": {},
   "outputs": [
    {
     "name": "stdout",
     "output_type": "stream",
     "text": [
      "20\n"
     ]
    }
   ],
   "source": [
    "numbers = [10, 20, 5, 30, 15]\n",
    "second_highest = sorted(set(numbers), key=lambda x: -x)[1]\n",
    "print(second_highest)  # Output: 20\n"
   ]
  },
  {
   "cell_type": "markdown",
   "id": "6308e03d-ab55-41a9-aeac-ffac0bab0019",
   "metadata": {},
   "source": [
    "**Removing duplicate elements from a list:**"
   ]
  },
  {
   "cell_type": "markdown",
   "id": "baf574a1-b648-4d1b-a465-8a8a9b4109fb",
   "metadata": {},
   "source": [
    "Given a list of elements, remove duplicate elements while preserving the order using a lambda function."
   ]
  },
  {
   "cell_type": "code",
   "execution_count": 36,
   "id": "6ea38e82-8dcc-4fba-bf47-48d8a65d8939",
   "metadata": {},
   "outputs": [
    {
     "name": "stdout",
     "output_type": "stream",
     "text": [
      "[1, 3, 5]\n"
     ]
    }
   ],
   "source": [
    "# Original list with duplicate elements\n",
    "original_list = [1, 2, 2, 3, 4, 4, 5]\n",
    "\n",
    "# Remove duplicates using filter() and a lambda function\n",
    "unique_list = list(filter(lambda x: original_list.count(x) == 1, original_list))\n",
    "\n",
    "# Print the unique list\n",
    "print(unique_list)  # Output: [1, 3, 5]\n"
   ]
  },
  {
   "cell_type": "markdown",
   "id": "142a1277-f18d-4778-9129-82ef026d951c",
   "metadata": {},
   "source": [
    "<br>\n",
    "\n",
    "**calculate the word count in a string**\n"
   ]
  },
  {
   "cell_type": "code",
   "execution_count": 62,
   "id": "75718591-6499-47f8-8f8b-479501e7f0d4",
   "metadata": {},
   "outputs": [
    {
     "name": "stdout",
     "output_type": "stream",
     "text": [
      "Word count: 12\n"
     ]
    }
   ],
   "source": [
    "# Define the input string\n",
    "input_string = \"This is a sample string with repeated words. This is a sample.\"\n",
    "\n",
    "# Split the input string into words\n",
    "words = input_string.split()\n",
    "\n",
    "# Calculate word count using lambda function with reduce() and map()\n",
    "word_count = (lambda x: len(x))(words)\n",
    "\n",
    "# Print the word count\n",
    "print(\"Word count:\", word_count)\n"
   ]
  },
  {
   "cell_type": "code",
   "execution_count": 66,
   "id": "78b77e78-b2be-4bf8-8689-5ed623c89a44",
   "metadata": {},
   "outputs": [
    {
     "name": "stdout",
     "output_type": "stream",
     "text": [
      "Word count:\n",
      "this: 2\n",
      "is: 2\n",
      "a: 2\n",
      "sample: 1\n",
      "string: 1\n",
      "with: 1\n",
      "repeated: 1\n",
      "words.: 1\n",
      "sample.: 1\n"
     ]
    }
   ],
   "source": [
    "from functools import reduce\n",
    "\n",
    "# Input string\n",
    "text = \"This is a sample string with repeated words. This is a sample.\"\n",
    "\n",
    "# Convert the string to lowercase and split it into words\n",
    "words = text.lower().split()\n",
    "\n",
    "# Use map() and reduce() with a lambda function to count the occurrence of each word\n",
    "word_count = reduce(lambda word_dict, word: {**word_dict, word: word_dict.get(word, 0) + 1}, words, {})\n",
    "\n",
    "# Print the word count\n",
    "print(\"Word count:\")\n",
    "for word, count in word_count.items():\n",
    "    print(f\"{word}: {count}\")\n"
   ]
  },
  {
   "cell_type": "code",
   "execution_count": 65,
   "id": "e579edc9-cbb5-4138-8835-1ebb5c2049fd",
   "metadata": {},
   "outputs": [
    {
     "name": "stdout",
     "output_type": "stream",
     "text": [
      "Total Word count: 12\n",
      "\n",
      "Count of Each Word:\n",
      "sample.: 1\n",
      "This: 2\n",
      "repeated: 1\n",
      "words.: 1\n",
      "is: 2\n",
      "string: 1\n",
      "sample: 1\n",
      "a: 2\n",
      "with: 1\n"
     ]
    }
   ],
   "source": [
    "# Define the input string\n",
    "input_string = \"This is a sample string with repeated words. This is a sample.\"\n",
    "\n",
    "# Split the input string into words\n",
    "words = input_string.split()\n",
    "\n",
    "# Calculate word count using lambda function with reduce() and map()\n",
    "word_count = (lambda x: len(x))(words)\n",
    "\n",
    "# Print the word count\n",
    "print(\"Total Word count:\", word_count)\n",
    "\n",
    "# Calculate count of each word using lambda function with map() and dict comprehension\n",
    "word_counts = dict((lambda x: {word: x.count(word) for word in set(x)})(words))\n",
    "\n",
    "# Print the count of each word\n",
    "print(\"\\nCount of Each Word:\")\n",
    "for word, count in word_counts.items():\n",
    "    print(f\"{word}: {count}\")\n"
   ]
  },
  {
   "cell_type": "code",
   "execution_count": null,
   "id": "df5f4438-feb6-49ca-845d-87b9957e1ac5",
   "metadata": {},
   "outputs": [],
   "source": []
  },
  {
   "cell_type": "markdown",
   "id": "9ba10ccf-6237-4fc4-89bd-51e23717ab2b",
   "metadata": {},
   "source": [
    "# practice misclaneous questions"
   ]
  },
  {
   "cell_type": "markdown",
   "id": "d8340b39-40f0-4a36-954f-549e77994b82",
   "metadata": {},
   "source": [
    "Q-1====>Given a list of numbers, find all the odd numbers in ascending order"
   ]
  },
  {
   "cell_type": "code",
   "execution_count": 9,
   "id": "6c6dce30-9de1-463d-b7c5-9b723b92c383",
   "metadata": {},
   "outputs": [
    {
     "name": "stdout",
     "output_type": "stream",
     "text": [
      "[1, 3, 5]\n"
     ]
    }
   ],
   "source": [
    "\n",
    "numbers = [3, 2, 5, 4, 1]\n",
    "\n",
    "odd_numbers = list(filter(lambda n: (n % 2 != 0) , numbers))\n",
    "\n",
    "# print(odd_numbers)\n",
    "\n",
    "sorted_odd_numbers = sorted(odd_numbers)\n",
    "\n",
    "print(sorted_odd_numbers)\n"
   ]
  },
  {
   "cell_type": "code",
   "execution_count": 3,
   "id": "7c7b410e-9b46-492e-9e42-1e916e3d53ad",
   "metadata": {},
   "outputs": [
    {
     "name": "stdout",
     "output_type": "stream",
     "text": [
      "[1, 3, 5]\n"
     ]
    }
   ],
   "source": [
    "\n",
    "numbers = [3, 2, 5, 4, 1]\n",
    "\n",
    "sorted_odd_numbers = sorted(list(filter(lambda n: (n % 2 != 0) , numbers)))\n",
    "\n",
    "print(sorted_odd_numbers)\n"
   ]
  },
  {
   "cell_type": "code",
   "execution_count": null,
   "id": "f302038c-20de-4945-a77d-c29fe76af61a",
   "metadata": {},
   "outputs": [],
   "source": []
  },
  {
   "cell_type": "markdown",
   "id": "65d91853-2999-41d1-95a7-7da835390e72",
   "metadata": {},
   "source": [
    "Q-2 ====> Given a list of numbers, find the sum of doubles of each even number in the list\n"
   ]
  },
  {
   "cell_type": "code",
   "execution_count": 8,
   "id": "b259651c-830f-4ddf-9fb1-82cb7a0b7ffb",
   "metadata": {},
   "outputs": [
    {
     "name": "stdout",
     "output_type": "stream",
     "text": [
      "56\n"
     ]
    }
   ],
   "source": [
    "\n",
    "numbers = [3, 2, 6, 8, 4, 6, 2, 9]\n",
    "\n",
    "# filtering\n",
    "even_numbers = list(filter(lambda n: n % 2 == 0, numbers))\n",
    "\n",
    "# mapping\n",
    "doubles = list(map(lambda n: n*2 , even_numbers))\n",
    "\n",
    "# summing \n",
    "total_sum = sum(doubles)\n",
    "\n",
    "print(total_sum)\n"
   ]
  },
  {
   "cell_type": "code",
   "execution_count": 11,
   "id": "7e7a0c22-f398-4b9c-abae-7fe231423616",
   "metadata": {},
   "outputs": [
    {
     "name": "stdout",
     "output_type": "stream",
     "text": [
      "56\n"
     ]
    }
   ],
   "source": [
    "from functools import reduce\n",
    "\n",
    "numbers = [3, 2, 6, 8, 4, 6, 2, 9]\n",
    "\n",
    "# filtering\n",
    "even_numbers = list(filter(lambda n: n % 2 == 0, numbers))\n",
    "\n",
    "# mapping\n",
    "doubles = list(map(lambda n: n*2 , even_numbers))\n",
    "\n",
    "# reducing\n",
    "total_sum = reduce(lambda x , y: x + y, doubles)\n",
    "\n",
    "print(total_sum)"
   ]
  },
  {
   "cell_type": "code",
   "execution_count": null,
   "id": "569f0a1f-2eab-4730-bb86-e094e6e4abdc",
   "metadata": {},
   "outputs": [],
   "source": []
  },
  {
   "cell_type": "code",
   "execution_count": null,
   "id": "be2696a7-4e1b-4931-8750-dd1cdf742ce2",
   "metadata": {},
   "outputs": [],
   "source": []
  },
  {
   "cell_type": "code",
   "execution_count": null,
   "id": "ebd01316-7198-4246-abd2-ab630ecc0c54",
   "metadata": {},
   "outputs": [],
   "source": []
  },
  {
   "cell_type": "code",
   "execution_count": null,
   "id": "76293ee4-0744-4ea9-bc86-c365e9185301",
   "metadata": {},
   "outputs": [],
   "source": []
  },
  {
   "cell_type": "code",
   "execution_count": null,
   "id": "81b1074d-8da5-42fb-94e8-21fc473e871d",
   "metadata": {},
   "outputs": [],
   "source": []
  }
 ],
 "metadata": {
  "kernelspec": {
   "display_name": "Python 3 (ipykernel)",
   "language": "python",
   "name": "python3"
  },
  "language_info": {
   "codemirror_mode": {
    "name": "ipython",
    "version": 3
   },
   "file_extension": ".py",
   "mimetype": "text/x-python",
   "name": "python",
   "nbconvert_exporter": "python",
   "pygments_lexer": "ipython3",
   "version": "3.11.3"
  }
 },
 "nbformat": 4,
 "nbformat_minor": 5
}
