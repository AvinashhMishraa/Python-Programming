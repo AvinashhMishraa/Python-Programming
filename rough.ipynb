{
 "cells": [
  {
   "cell_type": "markdown",
   "id": "0bb795e7-9f70-4bce-8aca-82c1e66ebda4",
   "metadata": {
    "jp-MarkdownHeadingCollapsed": true
   },
   "source": [
    "##### WHAT NEXT TO DO?"
   ]
  },
  {
   "cell_type": "markdown",
   "id": "6812c971-87ad-4e6f-89a8-0b56bfc7fabf",
   "metadata": {},
   "source": [
    "<br>\n",
    "\n",
    "**Every Python Function** (Tech With Tim) : https://www.youtube.com/playlist?list=PLzMcBGfZo4-lOXGKoV-sIPKD7MOuHp3_Q\n",
    "\n",
    "**Python Data Classes Are AMAZING! Here's Why** (Tech With Tim) : https://www.youtube.com/watch?v=5mMpM8zK4pY\n",
    "\n",
    "**10 Python Comprehensions You SHOULD Be Using** (Tech With Tim) : https://www.youtube.com/watch?v=twxE0dEp3qQ\n",
    "\n",
    "**Python 101: Learn These 5 Must-Know HIDDEN Features** (Tech With Tim) : https://www.youtube.com/watch?v=nrN3Gq1A92Y&list=LL&index=8&t=300s\n",
    "\n",
    "**5 Useful F-String Tricks In Python** (Indently)  :  https://www.youtube.com/watch?v=EoNOWVYKyo0&list=LL&index=2\n",
    "\n",
    "**5 Uncommon Python Features I Love** (Indently)  :  https://www.youtube.com/watch?v=sQ1Q96-Vhjk\n",
    "\n",
    "**5 Good Python Habits** (Indently)  :   https://youtu.be/I72uD8ED73U?list=PL4KX3oEgJcfeKzc-v2nD-KzTSELlNyafC\n",
    "\n",
    "**Modern Python logging** (mCoding) :   https://www.youtube.com/watch?v=9L77QExPmI0\n",
    "\n",
    "**Python dataclasses will save you HOURS, also featuring attrs** (mCoding) :    https://www.youtube.com/watch?v=vBH6GRJ1REM\n",
    "\n",
    "\n",
    "**request library in python**\n",
    "\n",
    "**pandas**\n",
    "\n",
    "**numpy**\n",
    "\n",
    "**matplotlib**\n",
    "\n",
    "**EDA**\n",
    "\n",
    "**Statistics and Probablity**"
   ]
  },
  {
   "cell_type": "code",
   "execution_count": null,
   "id": "51dbe9aa-c18e-402d-929a-a4b2db39361b",
   "metadata": {},
   "outputs": [],
   "source": []
  },
  {
   "cell_type": "code",
   "execution_count": null,
   "id": "04d81616-5636-4484-ad44-20cf4973bb1d",
   "metadata": {},
   "outputs": [],
   "source": [
    "PROJECT IDEAS:\n",
    "1) Virat Kohli Cricket Career Dashboarding"
   ]
  },
  {
   "cell_type": "code",
   "execution_count": null,
   "id": "e544dab2-b599-446b-8db5-6e713965b704",
   "metadata": {},
   "outputs": [],
   "source": []
  },
  {
   "cell_type": "markdown",
   "id": "9b923395-088c-4196-a15e-517509470258",
   "metadata": {},
   "source": [
    "Collections in python"
   ]
  },
  {
   "cell_type": "code",
   "execution_count": null,
   "id": "4252b951-035e-4d5e-9727-7ef2a4a28348",
   "metadata": {},
   "outputs": [],
   "source": []
  },
  {
   "cell_type": "markdown",
   "id": "c6d60937-d45f-40ff-a55a-c5a950531f03",
   "metadata": {},
   "source": [
    " Here is a list of some of the most commonly used built-in modules in Python:\n",
    "\n",
    "**builtins**: Contains built-in functions, exceptions, and constants available in all Python code.         <br>\n",
    "**math**: Provides mathematical functions and constants.                                                   <br>\n",
    "**random**: Generates pseudo-random numbers and manages random selections.                                 <br>\n",
    "**datetime**: Manipulates dates, times, and time intervals.                                                <br>\n",
    "**os**: Interacts with the operating system, such as file and directory manipulation.                      <br>\n",
    "**sys**: Provides access to system-specific parameters and functions.                                      <br>\n",
    "**re**: Supports regular expressions for pattern matching and search operations.                           <br>\n",
    "**json**: Serializes and deserializes JSON (JavaScript Object Notation) data.                              <br>\n",
    "**csv**: Reads and writes CSV (comma-separated values) files.                                              <br>\n",
    "**sqlite3**: Interfaces with SQLite databases.                                                             <br>\n",
    "<span style=\"background-color: yellow\">**Collections**</span>: Contains specialized container data types, such as Counter and defaultdict.               <br>\n",
    "<span style=\"background-color: yellow\">**itertools**</span>: Offers functions for creating iterators and combinatorial generators.                       <br>\n",
    "<span style=\"background-color: yellow\">**functools**</span>: Provides higher-order functions and operations on callable objects.                         <br>\n",
    "**subprocess**: Spawns new processes and manages their execution.                                          <br>\n",
    "**io**: Implements tools for working with streams of data.                                                 <br>\n",
    "**pickle**: Serializes and deserializes Python objects.                                                    <br>\n",
    "**hashlib**: Calculates hash digests of data.                                                              <br>                **socket**: Supports networking operations, such as creating client and server sockets.                    <br>\n",
    "**urllib**: Handles URL parsing and retrieval of data from URLs.                                           <br>\n",
    "**xml**: Supports XML (Extensible Markup Language) processing.                                             <br>\n",
    "**email**: Parses, constructs, and sends email messages.                                                   <br>\n",
    "**logging**: Provides a flexible logging system for Python applications.                                   <br>\n",
    "**multiprocessing**: Supports multiprocessing and concurrent execution.                                    <br>\n",
    "**threading**: Implements threading for concurrent execution within a single process.                      <br>\n",
    "**argparse**: Parses command-line arguments and options.                                                   <br>\n",
    "**unittest**: Provides a framework for writing and running unit tests.                                     <br>\n",
    "**gzip, zipfile, tarfile**: Handle compression and archive file formats.                                   <br>\n",
    "**platform**: Retrieves information about the Python runtime environment and platform.                     "
   ]
  },
  {
   "cell_type": "code",
   "execution_count": null,
   "id": "9b81be9d-12ec-476b-81ba-760cc41f2ba9",
   "metadata": {},
   "outputs": [],
   "source": []
  },
  {
   "cell_type": "code",
   "execution_count": null,
   "id": "e5a928c8-7e3d-4bbd-9ffa-d0608adab386",
   "metadata": {},
   "outputs": [],
   "source": []
  },
  {
   "cell_type": "code",
   "execution_count": null,
   "id": "002c7485-7e72-4d3e-98e3-22fb33cf9b31",
   "metadata": {},
   "outputs": [],
   "source": []
  },
  {
   "cell_type": "code",
   "execution_count": null,
   "id": "d4ace34b-86b2-4b28-afaf-06a7c67e3beb",
   "metadata": {},
   "outputs": [],
   "source": []
  },
  {
   "cell_type": "code",
   "execution_count": null,
   "id": "84a7fb23-da90-4402-927b-eb04ae51f349",
   "metadata": {},
   "outputs": [],
   "source": []
  },
  {
   "cell_type": "markdown",
   "id": "5973c6d7-a4a0-454a-a446-4283b775f83a",
   "metadata": {
    "jp-MarkdownHeadingCollapsed": true
   },
   "source": [
    "##### <span style=\"color: blue\">1 ===> Write a program to find the square of the largest element in an array. </span>"
   ]
  },
  {
   "cell_type": "markdown",
   "id": "aacce4bb-8a76-41a0-aa63-1998c0a131fe",
   "metadata": {},
   "source": [
    "<br>\n",
    "\n",
    "<span style=\"color: #DCBD10\">▬▬▬▬▬▬▬▬▬▬▬▬▬▬▬▬▬▬▬▬▬▬▬▬▬▬▬▬▬▬▬▬▬▬▬▬▬▬▬▬▬▬▬▬▬▬▬▬▬▬▬▬▬▬▬▬▬▬▬▬▬▬▬▬▬▬▬▬▬▬▬▬▬▬▬▬</span>\n",
    "\n",
    "<br>\n",
    "\n",
    "<div style=\"padding: 10px; background-color: #E2FFEC\">\n",
    "\n",
    "<u>**QUESTION 1**</u>: &nbsp;&nbsp;Write a program to find the square of the **largest** element in an array.\n",
    "\n",
    "</div>\n",
    "\n",
    "<br>\n",
    "\n",
    "**Method-1** ( <span style=\"background-color: yellow\">&nbsp;using built-in function **max( )**&nbsp;</span> )"
   ]
  },
  {
   "cell_type": "code",
   "execution_count": 76,
   "id": "f2eda8b5-b207-46f0-842f-1d8431d0e7b7",
   "metadata": {},
   "outputs": [
    {
     "name": "stdout",
     "output_type": "stream",
     "text": [
      "64\n"
     ]
    }
   ],
   "source": [
    "\n",
    "def find_squared_largest(arr):\n",
    "    return max(arr) * 2\n",
    "\n",
    "\n",
    "array = [10, 5, 8, 20, 3, 9, 6, 32, 26]\n",
    "\n",
    "result = find_squared_largest(array)\n",
    "\n",
    "print(result)    #  32 * 2 = 64\n"
   ]
  },
  {
   "cell_type": "markdown",
   "id": "3449f0a7-76e6-4394-bb80-0e1eeedbcbdd",
   "metadata": {},
   "source": [
    "**Method-2** ( <span style=\"background-color: yellow\">&nbsp;using list method **list.sort( )**&nbsp;</span> )"
   ]
  },
  {
   "cell_type": "code",
   "execution_count": 78,
   "id": "40c0cbef-4b8a-48b3-a488-7ccf5449caab",
   "metadata": {},
   "outputs": [
    {
     "name": "stdout",
     "output_type": "stream",
     "text": [
      "64\n"
     ]
    }
   ],
   "source": [
    "\n",
    "def find_squared_largest(arr):\n",
    "    arr.sort()\n",
    "    return arr[-1] * 2\n",
    "\n",
    "\n",
    "array = [10, 5, 8, 20, 3, 9, 6, 32, 26]\n",
    "\n",
    "result = find_squared_largest(array)\n",
    "\n",
    "print(result)    #  32 * 2 = 64\n"
   ]
  },
  {
   "cell_type": "markdown",
   "id": "2452d164-507c-4d5f-b07e-a7c90ce3bf8b",
   "metadata": {},
   "source": [
    "**Method-3** ( <span style=\"background-color: yellow\">&nbsp;without using any function&nbsp;</span> )"
   ]
  },
  {
   "cell_type": "code",
   "execution_count": 79,
   "id": "97e5c5c3-58fa-4919-9611-0732b729355f",
   "metadata": {},
   "outputs": [
    {
     "name": "stdout",
     "output_type": "stream",
     "text": [
      "64\n"
     ]
    }
   ],
   "source": [
    "\n",
    "def find_squared_largest(arr):\n",
    "    largest = arr[0]\n",
    "    for e in arr:\n",
    "        if e > largest:\n",
    "            largest = e\n",
    "    return largest * 2\n",
    "\n",
    "\n",
    "array = [10, 5, 8, 20, 3, 9, 6, 32, 26]\n",
    "\n",
    "result = find_squared_largest(array)\n",
    "\n",
    "print(result)   #  32 * 2 = 64\n",
    "    "
   ]
  },
  {
   "cell_type": "code",
   "execution_count": null,
   "id": "c11eb9d3-5b77-4f53-a594-8f36acba00b9",
   "metadata": {},
   "outputs": [],
   "source": []
  },
  {
   "cell_type": "markdown",
   "id": "543e9ed5-2a86-493e-9bc0-c6eafa7c8780",
   "metadata": {
    "jp-MarkdownHeadingCollapsed": true
   },
   "source": [
    "##### <span style=\"color: blue\">2A ===> Write a program to find the square of the 2nd largest element in an array. </span>"
   ]
  },
  {
   "cell_type": "markdown",
   "id": "be8d1673-2bce-4d3c-a7ee-71e3108c6e6c",
   "metadata": {},
   "source": [
    "<br>\n",
    "\n",
    "<span style=\"color: #DCBD10\">▬▬▬▬▬▬▬▬▬▬▬▬▬▬▬▬▬▬▬▬▬▬▬▬▬▬▬▬▬▬▬▬▬▬▬▬▬▬▬▬▬▬▬▬▬▬▬▬▬▬▬▬▬▬▬▬▬▬▬▬▬▬▬▬▬▬▬▬▬▬▬▬▬▬▬▬</span>\n",
    "\n",
    "<br>\n",
    "\n",
    "<div style=\"padding: 10px; background-color: #E2FFEC\">\n",
    "\n",
    "<u>**QUESTION 2A**</u>: &nbsp;&nbsp;Write a program to find the square of the **2nd largest** element in an array.\n",
    "\n",
    "</div>\n",
    "\n",
    "<br>\n",
    "\n",
    "**Method-1** ( <span style=\"background-color: yellow\">&nbsp;with sorting - <strong>O(nlogn)</strong>&nbsp;</span> )\n",
    "\n",
    "<font size=\"+2\"><span style=\"color: red\">↳</span></font>&nbsp;&nbsp;<span style=\"color: #03E33D\">**CASE - 1** :</span> <span style=\"color: #F802C0\">Array With No Duplicate Elements</span>\n"
   ]
  },
  {
   "cell_type": "code",
   "execution_count": 125,
   "id": "716d9061-d95b-42e2-b0f8-b71d09c9e869",
   "metadata": {},
   "outputs": [
    {
     "name": "stdout",
     "output_type": "stream",
     "text": [
      "676\n"
     ]
    }
   ],
   "source": [
    "\n",
    "def find_squared_2nd_largest(arr):\n",
    "    if len(arr) > 1:\n",
    "        arr.sort()     # Time Complexity ===> O(nlogn)\n",
    "        return arr[-2] ** 2\n",
    "    else:\n",
    "        return \"List should have at least two elements\"\n",
    "\n",
    "\n",
    "array = [10, 5, 8, 20, 3, 9, 6, 32, 26]\n",
    "\n",
    "result = find_squared_2nd_largest(array)\n",
    "\n",
    "print(result)    # 26 * 26 = 676\n"
   ]
  },
  {
   "cell_type": "markdown",
   "id": "255db20e-4dff-4cea-8371-ba8799719dba",
   "metadata": {},
   "source": [
    "<font size=\"+2\"><span style=\"color: red\">↳</span></font>&nbsp;&nbsp;<span style=\"color: #03E33D\">**CASE - 2** :</span> <span style=\"color: #F802C0\">Array With Duplicate Elements</span>"
   ]
  },
  {
   "cell_type": "code",
   "execution_count": 119,
   "id": "52c58dbb-bcd5-4752-acb0-1b1f4aa5808a",
   "metadata": {},
   "outputs": [
    {
     "name": "stdout",
     "output_type": "stream",
     "text": [
      "676\n"
     ]
    }
   ],
   "source": [
    "\n",
    "def find_squared_2nd_largest(arr):\n",
    "    if len(arr) < 2:\n",
    "        return \"List should have at least two elements\"\n",
    "\n",
    "    unique_arr = list(set(arr))          # Remove duplicates if any\n",
    "    unique_arr.sort(reverse = True)      # Time Complexity ===> O(nlogn)\n",
    "\n",
    "    if len(unique_arr) < 2:\n",
    "        return \"No second largest element\"\n",
    "    else:\n",
    "        return unique_arr[1] ** 2\n",
    "\n",
    "\n",
    "\n",
    "array = [10, 5, 8, 20, 3, 9, 6, 32, 26, 32, 32]\n",
    "\n",
    "result = find_squared_2nd_largest(array)\n",
    "\n",
    "print(result)    # 26 * 26 = 676\n"
   ]
  },
  {
   "cell_type": "markdown",
   "id": "004f44c1-c65d-445e-b4ff-fa7d178cb52f",
   "metadata": {},
   "source": [
    "**Method-2** ( <span style=\"background-color: yellow\">&nbsp;without sorting - <strong>O(n)</strong>&nbsp;</span> )\n",
    "\n",
    "<span style=\"color: #F802C0\">It works for any array irrespective of duplicates or no duplicates</span>"
   ]
  },
  {
   "cell_type": "code",
   "execution_count": 155,
   "id": "d80aeb6d-3d12-462e-b87d-75c8e6f3c3af",
   "metadata": {},
   "outputs": [],
   "source": [
    "\n",
    "def find_squared_2nd_largest(arr):\n",
    "    if len(arr) < 2:\n",
    "        return \"List should have at least two elements\"\n",
    "    else:\n",
    "        largest = float('-inf')\n",
    "        second_largest = float('inf')\n",
    "        for e in arr:\n",
    "            if e > largest:\n",
    "                second_largest = largest\n",
    "                largest = e\n",
    "            elif e < largest and e > second_largest:\n",
    "                second_largest = e\n",
    "        return second_largest ** 2\n"
   ]
  },
  {
   "cell_type": "code",
   "execution_count": 156,
   "id": "75c21dad-9117-42a1-b5ef-6ac07b20c6bc",
   "metadata": {},
   "outputs": [
    {
     "name": "stdout",
     "output_type": "stream",
     "text": [
      "676\n",
      "676\n",
      "25\n",
      "25\n"
     ]
    }
   ],
   "source": [
    "\n",
    "array1 = [10, 5, 8, 20, 3, 9, 6, 32, 26]        # With No Duplicates =====> 26 ** 2 = 676\n",
    "array2 = [10, 5, 8, 20, 3, 9, 6, 32, 26, 32]    # With Duplicates    =====> 26 ** 2 = 676\n",
    "\n",
    "array3 = [5, 2, 4, 3, 9, 0]                     # =====>  5 ** 2 =  25\n",
    "array4 = [2, 5, 4, 3, 9, 0]                     # =====>  5 ** 2 = 25\n",
    "\n",
    "\n",
    "result1 = find_squared_2nd_largest(array1)\n",
    "print(result1)\n",
    "\n",
    "result2 = find_squared_2nd_largest(array2)\n",
    "print(result2)\n",
    "\n",
    "result3 = find_squared_2nd_largest(array3)\n",
    "print(result3)\n",
    "\n",
    "result4 = find_squared_2nd_largest(array4)\n",
    "print(result4)\n"
   ]
  },
  {
   "cell_type": "code",
   "execution_count": null,
   "id": "e38aac05-be36-4d04-a07e-5467b9043a54",
   "metadata": {},
   "outputs": [],
   "source": []
  },
  {
   "cell_type": "markdown",
   "id": "fe48826c-2ae8-480c-9a2c-fe3cc2549b3c",
   "metadata": {
    "jp-MarkdownHeadingCollapsed": true
   },
   "source": [
    "##### <span style=\"color: blue\">2B ===> Write a program to find the second-largest negative number in a list. </span>"
   ]
  },
  {
   "cell_type": "markdown",
   "id": "ca4a231d-8c98-430e-8f11-289257d3d037",
   "metadata": {},
   "source": [
    "<br>\n",
    "\n",
    "<span style=\"color: #DCBD10\">▬▬▬▬▬▬▬▬▬▬▬▬▬▬▬▬▬▬▬▬▬▬▬▬▬▬▬▬▬▬▬▬▬▬▬▬▬▬▬▬▬▬▬▬▬▬▬▬▬▬▬▬▬▬▬▬▬▬▬▬▬▬▬▬▬▬▬▬▬▬▬▬▬▬▬▬</span>\n",
    "\n",
    "<br>\n",
    "\n",
    "<div style=\"padding: 10px; background-color: #E2FFEC\">\n",
    "\n",
    "<u>**QUESTION 2B**</u> : &nbsp;&nbsp;Write a program to find the square of the **2nd largest negative number** in an array.\n",
    "\n",
    "</div>\n",
    "\n",
    "<br>\n",
    "\n",
    "Let's do it directly <span style=\"background-color: yellow\">&nbsp;without sorting - <strong>O(n)</strong>&nbsp;</span> because it is the optimized solution \n"
   ]
  },
  {
   "cell_type": "code",
   "execution_count": 158,
   "id": "918ad5a6-bc9d-484f-a40e-d7ba61ef25de",
   "metadata": {},
   "outputs": [],
   "source": [
    "\n",
    "def find_2nd_largest_negative(arr):\n",
    "    if len(arr) < 2:\n",
    "        return \"List should have at least two elements\"\n",
    "    else:\n",
    "        largest_negative = float('-inf')\n",
    "        second_largest_negative = float('-inf')\n",
    "    \n",
    "        for e in arr:\n",
    "            if e < 0:\n",
    "                if e > largest_negative:\n",
    "                    second_largest_negative = largest_negative\n",
    "                    largest_negative = e\n",
    "                elif e < largest_negative and e > second_largest_negative:\n",
    "                    second_largest_negative = e\n",
    "        return second_largest_negative\n"
   ]
  },
  {
   "cell_type": "code",
   "execution_count": 159,
   "id": "b396a84b-475c-4fb3-b334-f1d0c3cfcf98",
   "metadata": {},
   "outputs": [
    {
     "name": "stdout",
     "output_type": "stream",
     "text": [
      "-4\n"
     ]
    }
   ],
   "source": [
    "\n",
    "array = [1, 2, -6, 4, -2, -4, 0, 9, -100]\n",
    "\n",
    "result = find_2nd_largest_negative(array)\n",
    "\n",
    "print(result)\n"
   ]
  },
  {
   "cell_type": "code",
   "execution_count": 162,
   "id": "8fae0492-dc36-48f9-9cd0-b58f2edf3fff",
   "metadata": {},
   "outputs": [
    {
     "name": "stdout",
     "output_type": "stream",
     "text": [
      "-inf\n"
     ]
    }
   ],
   "source": [
    "\n",
    "array = [1, 2, 6, 4, 2, 4, 0, 9, -100]      # When there is only one negative number\n",
    "\n",
    "result = find_2nd_largest_negative(array)\n",
    "\n",
    "print(result)\n"
   ]
  },
  {
   "cell_type": "code",
   "execution_count": null,
   "id": "769f24f8-3e69-457a-9f8d-c775fe19946e",
   "metadata": {},
   "outputs": [],
   "source": []
  },
  {
   "cell_type": "markdown",
   "id": "b119b971-c689-4ce1-a31f-7188e373f3a7",
   "metadata": {
    "jp-MarkdownHeadingCollapsed": true
   },
   "source": [
    "##### <span style=\"color: blue\">2C  ===>  Given an unsorted array of distinct integers. Find the largest pair sum in it.</span>"
   ]
  },
  {
   "cell_type": "markdown",
   "id": "ba516eaa-aaec-4554-9ec3-60d3878b5d57",
   "metadata": {},
   "source": [
    "<br>\n",
    "\n",
    "<span style=\"color: #DCBD10\">▬▬▬▬▬▬▬▬▬▬▬▬▬▬▬▬▬▬▬▬▬▬▬▬▬▬▬▬▬▬▬▬▬▬▬▬▬▬▬▬▬▬▬▬▬▬▬▬▬▬▬▬▬▬▬▬▬▬▬▬▬▬▬▬▬▬▬▬▬▬▬▬▬▬▬▬</span>\n",
    "\n",
    "<br>\n",
    "\n",
    "<div style=\"padding: 10px; background-color: #E2FFEC\">\n",
    "\n",
    "<U>**QUESTION 2C**</U> : &nbsp;Given an **unsorted array of distinct integers**. Find the **largest pair sum** in it.\n",
    "\n",
    "</div>\n",
    "\n",
    "<br>\n",
    "\n",
    "**Method-1** ( <span style=\"background-color: yellow\">&nbsp;with sorting - <strong>O(nlogn)</strong>&nbsp;</span> )\n",
    "\n",
    "<font size=\"+2\"><span style=\"color: red\">↳</span></font>&nbsp;&nbsp;<span style=\"color:  #F802C0\">largest_<strong>pair</strong>_sum( )</span> \n"
   ]
  },
  {
   "cell_type": "code",
   "execution_count": 120,
   "id": "c564cfe1-87da-45b8-bfa1-6262a548fd6e",
   "metadata": {},
   "outputs": [],
   "source": [
    "\n",
    "def largest_pair_sum(arr):\n",
    "    if len(arr) < 2:\n",
    "        return \"List should have at least two elements\"\n",
    "\n",
    "    unique_arr = list(set(arr))\n",
    "    unique_arr.sort(reverse = True)\n",
    "\n",
    "    if len(unique_arr) < 2:\n",
    "        return \"No second largest element to sum up with the largest element\"\n",
    "    else:\n",
    "        return unique_arr[0], unique_arr[1], unique_arr[0] + unique_arr[1]\n"
   ]
  },
  {
   "cell_type": "markdown",
   "id": "4cb08df7-8d9c-4739-a765-59a18a788936",
   "metadata": {},
   "source": [
    "<span style=\"color: blue\">Array Without Duplicates</span>&nbsp;<span style=\"color: blue\"><font size=\"+2\">↴</font>&nbsp;</span>"
   ]
  },
  {
   "cell_type": "code",
   "execution_count": 124,
   "id": "4e20a07b-63bc-4ca3-b4b2-03787c0eb2db",
   "metadata": {},
   "outputs": [
    {
     "name": "stdout",
     "output_type": "stream",
     "text": [
      "largest : 32\n",
      "second largest : 26\n",
      "largest pair sum = 58\n"
     ]
    }
   ],
   "source": [
    "\n",
    "array = [10, 5, 8, 20, 3, 9, 6, 32, 26, 32] \n",
    "\n",
    "largest, second_largest, result = largest_pair_sum(array)\n",
    "\n",
    "print(\"largest :\", largest)\n",
    "print(\"second largest :\", second_largest)\n",
    "print(\"largest pair sum =\", result)        # displaying the sum  \n"
   ]
  },
  {
   "cell_type": "markdown",
   "id": "74e45f81-137b-46a4-bf15-a44b13af815f",
   "metadata": {},
   "source": [
    "<span style=\"color: blue\">Array With Duplicates</span>&nbsp;<span style=\"color: blue\"><font size=\"+2\">↴</font>&nbsp;</span>"
   ]
  },
  {
   "cell_type": "code",
   "execution_count": 123,
   "id": "9e2e09aa-af5b-42a0-802f-415fcc3f92ef",
   "metadata": {},
   "outputs": [
    {
     "name": "stdout",
     "output_type": "stream",
     "text": [
      "largest : 32\n",
      "second largest : 26\n",
      "largest pair sum = 58\n"
     ]
    }
   ],
   "source": [
    "\n",
    "array = [10, 5, 8, 20, 3, 9, 6, 32, 26, 32]  \n",
    "\n",
    "largest, second_largest, result = largest_pair_sum(array)\n",
    "\n",
    "print(\"largest :\", largest)\n",
    "print(\"second largest :\", second_largest)\n",
    "print(\"largest pair sum =\", result)        # displaying the sum       \n"
   ]
  },
  {
   "cell_type": "markdown",
   "id": "16c1c66a-6c50-49be-847a-ad5a5209737c",
   "metadata": {},
   "source": [
    "<br>\n",
    "\n",
    "<font size=\"+2\"><span style=\"color: red\">↳</span></font>&nbsp;&nbsp;<span style=\"color:  #F802C0\">largest_<strong>n</strong>_sum( )</span>"
   ]
  },
  {
   "cell_type": "code",
   "execution_count": 135,
   "id": "88a67b24-80eb-4e3a-a8ec-85a124655a0b",
   "metadata": {},
   "outputs": [],
   "source": [
    "\n",
    "def largest_n_sum(arr, n):\n",
    "    if len(arr) < 2:\n",
    "        return \"List should have at least two elements\"\n",
    "\n",
    "    unique_arr = list(set(arr))       # Remove duplicates if any\n",
    "    unique_arr.sort(reverse = True)   # Time Complexity ===> O(nlogn)\n",
    "    sum = 0\n",
    "    for i in range(0, n):\n",
    "        sum += unique_arr[i]\n",
    "    return sum\n"
   ]
  },
  {
   "cell_type": "markdown",
   "id": "56010ad2-dd3a-45fc-8766-9c260f835d9a",
   "metadata": {},
   "source": [
    "<span style=\"color: blue\">Array Without Duplicates</span>&nbsp;<span style=\"color: blue\"><font size=\"+2\">↴</font>&nbsp;</span>"
   ]
  },
  {
   "cell_type": "code",
   "execution_count": 137,
   "id": "0d502fb4-a4c7-4a4d-9eb3-0e11636e8568",
   "metadata": {},
   "outputs": [
    {
     "name": "stdin",
     "output_type": "stream",
     "text": [
      "Enter how many largest numbers you want to add in a given array: 2\n"
     ]
    },
    {
     "name": "stdout",
     "output_type": "stream",
     "text": [
      "58\n"
     ]
    }
   ],
   "source": [
    "\n",
    "array = [10, 5, 8, 20, 3, 9, 6, 32, 26]\n",
    "        \n",
    "n = int(input(\"Enter how many largest numbers you want to add in a given array:\"))\n",
    "\n",
    "result = largest_n_sum(array, n)\n",
    "\n",
    "print(result)\n"
   ]
  },
  {
   "cell_type": "markdown",
   "id": "6b2ee52b-60d6-4e6a-b1ce-892f6c2cc85d",
   "metadata": {},
   "source": [
    "<span style=\"color: blue\">Array With Duplicates</span>&nbsp;<span style=\"color: blue\"><font size=\"+2\">↴</font>&nbsp;</span>"
   ]
  },
  {
   "cell_type": "code",
   "execution_count": 138,
   "id": "7aeff232-cb21-4909-9636-6a146386c514",
   "metadata": {},
   "outputs": [
    {
     "name": "stdin",
     "output_type": "stream",
     "text": [
      "Enter how many largest numbers you want to add in a given array: 2\n"
     ]
    },
    {
     "name": "stdout",
     "output_type": "stream",
     "text": [
      "58\n"
     ]
    }
   ],
   "source": [
    "\n",
    "array = [10, 5, 8, 20, 3, 9, 6, 32, 26, 32]\n",
    "        \n",
    "n = int(input(\"Enter how many largest numbers you want to add in a given array:\"))\n",
    "\n",
    "result = largest_n_sum(array, n)\n",
    "\n",
    "print(result)\n"
   ]
  },
  {
   "cell_type": "code",
   "execution_count": null,
   "id": "527df5c0-1850-473e-ba10-70c1a8b10963",
   "metadata": {},
   "outputs": [],
   "source": []
  },
  {
   "cell_type": "markdown",
   "id": "d41b9059-9259-4da6-b0ff-0851de292684",
   "metadata": {},
   "source": [
    "**Method-2** ( <span style=\"background-color: yellow\">&nbsp;without sorting - <strong>O(n)</strong>&nbsp;</span> )"
   ]
  },
  {
   "cell_type": "code",
   "execution_count": 68,
   "id": "73f3b5cd-0e9b-4522-a676-98c1639f360c",
   "metadata": {},
   "outputs": [
    {
     "name": "stdout",
     "output_type": "stream",
     "text": [
      "largest : 32\n",
      "second largest : 26\n",
      "largest pair sum = 58\n",
      "\n",
      "\n",
      "largest : 9\n",
      "second largest : 5\n",
      "largest pair sum = 14\n",
      "\n",
      "\n",
      "largest : 9\n",
      "second largest : 5\n",
      "largest pair sum = 14\n"
     ]
    }
   ],
   "source": [
    "\n",
    "def find_squared_2nd_largest(arr):\n",
    "    if len(arr) < 2:\n",
    "        return \"List should have at least two elements\"\n",
    "    else:\n",
    "        # initializing 2 variables for largest and 2nd largest number in the array\n",
    "        largest = None\n",
    "        second_largset = None\n",
    "    \n",
    "        # finding the largest and the 2nd largest between the first 2 elements in the array\n",
    "        if arr[0] > arr[1]:\n",
    "            largest = arr[0]\n",
    "            second_largest = arr[1]\n",
    "        else:\n",
    "            largest = arr[1]\n",
    "            second_largest = arr[0]\n",
    "    \n",
    "        # now finding the largest and the 2nd largest element in the whole array\n",
    "        for i in range(2, len(arr)):\n",
    "            if arr[i] > largest:\n",
    "                second_largest = largest\n",
    "                largest = arr[i]\n",
    "            if arr[i] < largest and arr[i] > second_largest:\n",
    "                second_largest = arr[i]\n",
    "                \n",
    "        return largest, second_largest, largest + second_largest\n",
    "\n",
    "\n",
    "################################################################################################\n",
    "\n",
    "\n",
    "array1 = [10, 5, 8, 20, 3, 9, 6, 32, 26]    # =====> 26 ** 2 = 676\n",
    "array2 = [5, 2, 4, 3, 9, 0]                 # =====>  5 ** 2 =  25\n",
    "array3 = [2, 5, 4, 3, 9, 0]                 # =====>  5 ** 2 = 25\n",
    "\n",
    "largest1, second_largest1, result1 = find_squared_2nd_largest(array1)\n",
    "print(\"largest :\", largest1)\n",
    "print(\"second largest :\", second_largest1)\n",
    "print(\"largest pair sum =\", result1, end=\"\\n\"*3)        # displaying the sum\n",
    "\n",
    "largest2, second_largest2, result2 = find_squared_2nd_largest(array2)\n",
    "print(\"largest :\", largest2)\n",
    "print(\"second largest :\", second_largest2)\n",
    "print(\"largest pair sum =\", result2, end=\"\\n\"*3)        # displaying the sum\n",
    "\n",
    "largest3, second_largest3, result3 = find_squared_2nd_largest(array3)\n",
    "print(\"largest :\", largest3)\n",
    "print(\"second largest :\", second_largest3)\n",
    "print(\"largest pair sum =\", result3)        # displaying the sum\n"
   ]
  },
  {
   "cell_type": "code",
   "execution_count": null,
   "id": "9b13b9c5-cf57-4eb4-ba3e-0ce73f5be08d",
   "metadata": {},
   "outputs": [],
   "source": []
  },
  {
   "cell_type": "markdown",
   "id": "d3e2cf12-1586-4f86-a466-39041b29d3a1",
   "metadata": {
    "jp-MarkdownHeadingCollapsed": true
   },
   "source": [
    "##### <span style=\"color: blue\">3  ===>  While iterating a given string, whenever you encounter a specific character  ' i ' , just keep reversing the previous part of the string before that  ' i '</span>"
   ]
  },
  {
   "cell_type": "markdown",
   "id": "5f4b3dd0-3f6b-490b-abb5-c632ced68b4f",
   "metadata": {},
   "source": [
    "<br>\n",
    "\n",
    "<span style=\"color: #DCBD10\">▬▬▬▬▬▬▬▬▬▬▬▬▬▬▬▬▬▬▬▬▬▬▬▬▬▬▬▬▬▬▬▬▬▬▬▬▬▬▬▬▬▬▬▬▬▬▬▬▬▬▬▬▬▬▬▬▬▬▬▬▬▬▬▬▬▬▬▬▬▬▬▬▬▬▬▬</span>\n",
    "\n",
    "<br>\n",
    "\n",
    "<div style=\"padding: 10px; background-color: #E2FFEC\">\n",
    "\n",
    "<u>**QUESTION 3**</u> :\n",
    "\n",
    "<span style=\"background-color: yellow\">&nbsp;Case-1&nbsp;</span>\n",
    "\n",
    "While iterating a given string, whenever you encounter a specific character &nbsp;<span style=\"background-color: #FBEDFF; color: red\"><font size=\"+1\">' i '</font></span>&nbsp;, just keep reversing the previous part of the string before that &nbsp;<span style=\"background-color: #FBEDFF; color: red\"><font size=\"+1\">' i '</font></span> <br>\n",
    "\n",
    "========>&nbsp;&nbsp;For example : &nbsp;&nbsp;<span style=\"color: blue\"><font size=\"+1\">string</font> ===> <font size=\"+1\">rtsng</font>  <br>\n",
    "&nbsp;&nbsp;&nbsp;&nbsp;&nbsp;&nbsp;&nbsp;&nbsp;&nbsp;&nbsp;&nbsp;&nbsp;&nbsp;&nbsp;&nbsp;&nbsp;&nbsp;&nbsp;&nbsp;&nbsp;&nbsp;&nbsp;&nbsp;&nbsp;&nbsp;&nbsp;&nbsp;&nbsp;&nbsp;&nbsp;&nbsp;&nbsp;&nbsp;&nbsp;&nbsp;&nbsp;&nbsp;&nbsp;&nbsp;&nbsp;&nbsp;&nbsp;&nbsp;&nbsp;&nbsp;&nbsp;&nbsp;&nbsp;&nbsp;<font size=\"+1\">stringinput</font> ===>  <font size=\"+1\">gnstrnput</font> <br>\n",
    "&nbsp;&nbsp;&nbsp;&nbsp;&nbsp;&nbsp;&nbsp;&nbsp;&nbsp;&nbsp;&nbsp;&nbsp;&nbsp;&nbsp;&nbsp;&nbsp;&nbsp;&nbsp;&nbsp;&nbsp;&nbsp;&nbsp;&nbsp;&nbsp;&nbsp;&nbsp;&nbsp;&nbsp;&nbsp;&nbsp;&nbsp;&nbsp;&nbsp;&nbsp;&nbsp;&nbsp;&nbsp;&nbsp;&nbsp;&nbsp;&nbsp;&nbsp;&nbsp;&nbsp;&nbsp;&nbsp;&nbsp;&nbsp;&nbsp;<font size=\"+1\">initialstring</font> ===>  <font size=\"+1\">rtslantng</font></span>\n",
    "\n",
    "</div>\n",
    "\n",
    "<br>\n"
   ]
  },
  {
   "cell_type": "code",
   "execution_count": 14,
   "id": "8f98295a-dca1-4f7e-acc7-2ff972a2a54e",
   "metadata": {},
   "outputs": [
    {
     "name": "stdin",
     "output_type": "stream",
     "text": [
      "Enter a string:  stringinput\n"
     ]
    },
    {
     "name": "stdout",
     "output_type": "stream",
     "text": [
      "gnstrnput\n"
     ]
    }
   ],
   "source": [
    "\n",
    "string = input(\"Enter a string: \")\n",
    "\n",
    "result = ''\n",
    "for chr in string:\n",
    "    if chr != 'i':\n",
    "        result += chr\n",
    "    else:\n",
    "        result = result[::-1]\n",
    "\n",
    "print(result)\n",
    "        "
   ]
  },
  {
   "cell_type": "markdown",
   "id": "d8c8ab8a-42e8-4e81-afa6-f143b9dbfd9d",
   "metadata": {},
   "source": [
    "\n",
    "<br>\n",
    "\n",
    "<div style=\"padding: 10px; background-color: #E2FFEC\">\n",
    "\n",
    "<span style=\"background-color: yellow\">&nbsp;Case-2&nbsp;</span> \n",
    "\n",
    "Reverse the substrings around a specific character &nbsp;<span style=\"background-color: #FBEDFF; color: red\"><font size=\"+1\">' i '</font></span>&nbsp; ====>  &nbsp;<span style=\"background-color: #FBEDFF; color: red\"><font size=\"+1\">' i '</font></span>&nbsp; to &nbsp;<span style=\"background-color: #FBEDFF; color: red\"><font size=\"+1\">' i '</font></span>&nbsp; reversal  \n",
    "\n",
    "========>&nbsp;&nbsp;For example : &nbsp;&nbsp;<span style=\"color: blue\"><font size=\"+1\">string</font> ===> <font size=\"+1\">rtsgn</font>  <br>\n",
    "&nbsp;&nbsp;&nbsp;&nbsp;&nbsp;&nbsp;&nbsp;&nbsp;&nbsp;&nbsp;&nbsp;&nbsp;&nbsp;&nbsp;&nbsp;&nbsp;&nbsp;&nbsp;&nbsp;&nbsp;&nbsp;&nbsp;&nbsp;&nbsp;&nbsp;&nbsp;&nbsp;&nbsp;&nbsp;&nbsp;&nbsp;&nbsp;&nbsp;&nbsp;&nbsp;&nbsp;&nbsp;&nbsp;&nbsp;&nbsp;&nbsp;&nbsp;&nbsp;&nbsp;&nbsp;&nbsp;&nbsp;&nbsp;&nbsp;<font size=\"+1\">stringinput</font> ===>  <font size=\"+1\">rtsgntupn</font> <br>\n",
    "&nbsp;&nbsp;&nbsp;&nbsp;&nbsp;&nbsp;&nbsp;&nbsp;&nbsp;&nbsp;&nbsp;&nbsp;&nbsp;&nbsp;&nbsp;&nbsp;&nbsp;&nbsp;&nbsp;&nbsp;&nbsp;&nbsp;&nbsp;&nbsp;&nbsp;&nbsp;&nbsp;&nbsp;&nbsp;&nbsp;&nbsp;&nbsp;&nbsp;&nbsp;&nbsp;&nbsp;&nbsp;&nbsp;&nbsp;&nbsp;&nbsp;&nbsp;&nbsp;&nbsp;&nbsp;&nbsp;&nbsp;&nbsp;&nbsp;<font size=\"+1\">initialstring</font> ===>  <font size=\"+1\">ntrtslagn</font>  <br>\n",
    "&nbsp;&nbsp;&nbsp;&nbsp;&nbsp;&nbsp;&nbsp;&nbsp;&nbsp;&nbsp;&nbsp;&nbsp;&nbsp;&nbsp;&nbsp;&nbsp;&nbsp;&nbsp;&nbsp;&nbsp;&nbsp;&nbsp;&nbsp;&nbsp;&nbsp;&nbsp;&nbsp;&nbsp;&nbsp;&nbsp;&nbsp;&nbsp;&nbsp;&nbsp;&nbsp;&nbsp;&nbsp;&nbsp;&nbsp;&nbsp;&nbsp;&nbsp;&nbsp;&nbsp;&nbsp;&nbsp;&nbsp;&nbsp;&nbsp;<font size=\"+1\">cryingemoji</font> ===>  <font size=\"+1\">ntrtslagn</font>\n",
    "\n",
    "</span>\n",
    "\n",
    "</div>\n",
    "\n",
    "<br>\n"
   ]
  },
  {
   "cell_type": "code",
   "execution_count": 18,
   "id": "c97401df-7f9b-4ef1-a757-b2ef7c700462",
   "metadata": {},
   "outputs": [
    {
     "name": "stdin",
     "output_type": "stream",
     "text": [
      "Enter a string:  cryingemoji\n"
     ]
    },
    {
     "name": "stdout",
     "output_type": "stream",
     "text": [
      "yrcjomegn\n"
     ]
    }
   ],
   "source": [
    "\n",
    "string = input(\"Enter a string: \")\n",
    "\n",
    "string_list = string.split(\"i\")\n",
    "\n",
    "reversed_string = ''\n",
    "\n",
    "for sequence in string_list:\n",
    "    reversed_string += sequence[::-1]\n",
    "\n",
    "print(reversed_string)\n"
   ]
  },
  {
   "cell_type": "markdown",
   "id": "d30f6d40-5340-4a5d-a33d-946e00fd4a55",
   "metadata": {},
   "source": [
    "\n",
    "<br>\n",
    "\n",
    "<div style=\"padding: 10px; background-color: #E2FFEC\">\n",
    "\n",
    "<span style=\"background-color: yellow\">&nbsp;Case-3&nbsp;</span> \n",
    "\n",
    "Reverse only Letters\n",
    "\n",
    "========>&nbsp;&nbsp;For example : &nbsp;&nbsp;<span style=\"color: blue\"><font size=\"+1\">ab_cd</font> ===> <font size=\"+1\">dc_ba</font>  <br>\n",
    "&nbsp;&nbsp;&nbsp;&nbsp;&nbsp;&nbsp;&nbsp;&nbsp;&nbsp;&nbsp;&nbsp;&nbsp;&nbsp;&nbsp;&nbsp;&nbsp;&nbsp;&nbsp;&nbsp;&nbsp;&nbsp;&nbsp;&nbsp;&nbsp;&nbsp;&nbsp;&nbsp;&nbsp;&nbsp;&nbsp;&nbsp;&nbsp;&nbsp;&nbsp;&nbsp;&nbsp;&nbsp;&nbsp;&nbsp;&nbsp;&nbsp;&nbsp;&nbsp;&nbsp;&nbsp;&nbsp;&nbsp;&nbsp;&nbsp;<font size=\"+1\">ab||cde</font> ===>  <font size=\"+1\">ed||cba</font> <br>\n",
    "&nbsp;&nbsp;&nbsp;&nbsp;&nbsp;&nbsp;&nbsp;&nbsp;&nbsp;&nbsp;&nbsp;&nbsp;&nbsp;&nbsp;&nbsp;&nbsp;&nbsp;&nbsp;&nbsp;&nbsp;&nbsp;&nbsp;&nbsp;&nbsp;&nbsp;&nbsp;&nbsp;&nbsp;&nbsp;&nbsp;&nbsp;&nbsp;&nbsp;&nbsp;&nbsp;&nbsp;&nbsp;&nbsp;&nbsp;&nbsp;&nbsp;&nbsp;&nbsp;&nbsp;&nbsp;&nbsp;&nbsp;&nbsp;&nbsp;<font size=\"+1\">a_bC_dEf=Ghij</font> ===>  <font size=\"+1\">j_ih_GfE_dCba</font>\n",
    "\n",
    "</span>\n",
    "\n",
    "</div>\n",
    "\n",
    "<br>\n"
   ]
  },
  {
   "cell_type": "code",
   "execution_count": 58,
   "id": "691eb648-1125-44fd-bc20-d65c67458e17",
   "metadata": {},
   "outputs": [
    {
     "name": "stdout",
     "output_type": "stream",
     "text": [
      "j_ih_GfE=dCba\n"
     ]
    }
   ],
   "source": [
    "\n",
    "import string\n",
    "\n",
    "\n",
    "input_string = \"a_bC_dEf=Ghij\"\n",
    "\n",
    "\n",
    "string_without_spl_chars = \"\"\n",
    "spl_chr_dict = {}\n",
    "for index, chr in enumerate(input_string):\n",
    "    if chr in list(string.punctuation):\n",
    "        spl_chr_dict[index] = chr\n",
    "    else:\n",
    "        string_without_spl_chars += chr\n",
    "\n",
    "\n",
    "# print(spl_chr_dict)\n",
    "# print(string_without_spl_chars)\n",
    "\n",
    "\n",
    "reversed_string_without_spl_chars = string_without_spl_chars[::-1]\n",
    "# print(reversed_string_without_spl_chars)\n",
    "\n",
    "\n",
    "reversed_string_without_spl_chars_list = list(reversed_string_without_spl_chars)\n",
    "for k,v in spl_chr_dict.items():\n",
    "    reversed_string_without_spl_chars_list.insert(k, v)\n",
    "\n",
    "\n",
    "result = ''\n",
    "for i in reversed_string_without_spl_chars_list:\n",
    "    result += i\n",
    "\n",
    "\n",
    "print(result)\n"
   ]
  },
  {
   "cell_type": "code",
   "execution_count": null,
   "id": "7a00dcfc-d0cb-47a4-8bb0-250660bac088",
   "metadata": {},
   "outputs": [],
   "source": []
  },
  {
   "cell_type": "markdown",
   "id": "62afa5d5-a527-4199-962a-5d154306c7c2",
   "metadata": {
    "jp-MarkdownHeadingCollapsed": true
   },
   "source": [
    "##### <span style=\"color: blue\">4  ===>  Given 2 lists, find out whether both are equal or not</span>"
   ]
  },
  {
   "cell_type": "markdown",
   "id": "7d2c2c93-a278-4171-80b9-d18bf467b2f6",
   "metadata": {},
   "source": [
    "<br>\n",
    "\n",
    "<span style=\"color: #DCBD10\">▬▬▬▬▬▬▬▬▬▬▬▬▬▬▬▬▬▬▬▬▬▬▬▬▬▬▬▬▬▬▬▬▬▬▬▬▬▬▬▬▬▬▬▬▬▬▬▬▬▬▬▬▬▬▬▬▬▬▬▬▬▬▬▬▬▬▬▬▬▬▬▬▬▬▬▬</span>\n",
    "\n",
    "<br>\n",
    "\n",
    "<div style=\"padding: 10px; background-color: #E2FFEC\">\n",
    "\n",
    "<u>**QUESTION 4**</u> : &nbsp;Given 2  lists, find out whether both are equal or not\n",
    "\n",
    "</div>\n",
    "\n",
    "<br>"
   ]
  },
  {
   "cell_type": "code",
   "execution_count": 50,
   "id": "3abcce24-6565-432c-a516-97480b3e7b22",
   "metadata": {},
   "outputs": [],
   "source": [
    "\n",
    "# Case-1 \n",
    "list1 = [\"asd\", 1, 3, \"gh\", 3, 5]\n",
    "list2 = [\"asd\", 1, 3, \"gh\", 3, 5]\n"
   ]
  },
  {
   "cell_type": "code",
   "execution_count": 51,
   "id": "a5d93b78-355e-46e1-a9b6-0835dd20ef9e",
   "metadata": {},
   "outputs": [],
   "source": [
    "\n",
    "# Case-2\n",
    "list1 = [\"asd\", 1, 3, \"gh\", 3]\n",
    "list2 = [\"asd\", 1, 3, \"gh\", 3, 5]\n"
   ]
  },
  {
   "cell_type": "code",
   "execution_count": 52,
   "id": "73750cf6-c432-4a3d-90a9-743012ab4c01",
   "metadata": {},
   "outputs": [
    {
     "name": "stdout",
     "output_type": "stream",
     "text": [
      "False\n"
     ]
    }
   ],
   "source": [
    "\n",
    "print(list1 is list2)   # Output: False   ====>   because list1 is the same object as list2 even if the content of botht he lists are same\n"
   ]
  },
  {
   "cell_type": "code",
   "execution_count": 53,
   "id": "728f258c-1b21-46d4-a19a-5a528fa5d254",
   "metadata": {},
   "outputs": [
    {
     "ename": "SyntaxError",
     "evalue": "invalid syntax. Perhaps you forgot a comma? (3565422262.py, line 1)",
     "output_type": "error",
     "traceback": [
      "\u001b[1;36m  Cell \u001b[1;32mIn[53], line 1\u001b[1;36m\u001b[0m\n\u001b[1;33m    print(list1 == list 2)  # throws syntax error\u001b[0m\n\u001b[1;37m          ^\u001b[0m\n\u001b[1;31mSyntaxError\u001b[0m\u001b[1;31m:\u001b[0m invalid syntax. Perhaps you forgot a comma?\n"
     ]
    }
   ],
   "source": [
    "\n",
    "print(list1 == list 2)  # throws syntax error\n"
   ]
  },
  {
   "cell_type": "markdown",
   "id": "095316cd-a308-44dc-9d36-f6fbc8b7ff84",
   "metadata": {},
   "source": [
    "<br>\n",
    "\n",
    "<span style=\"color: blue\">**Method-1** (using <span style=\"color: red\">**map( )**</span> and <span style=\"color: red\">**lambda**</span> function)</span>\n"
   ]
  },
  {
   "cell_type": "code",
   "execution_count": 54,
   "id": "397d79ed-0141-49dd-82a6-eef5b57a4708",
   "metadata": {},
   "outputs": [
    {
     "data": {
      "text/plain": [
       "'Equal'"
      ]
     },
     "execution_count": 54,
     "metadata": {},
     "output_type": "execute_result"
    }
   ],
   "source": [
    "\n",
    "# Step-1\n",
    "\n",
    "(lambda l1, l2: \"Equal\" if all(list(map(lambda x,y: x==y, list1, list2))) == True else \"Not Equal\")(list1, list2)\n"
   ]
  },
  {
   "cell_type": "code",
   "execution_count": 55,
   "id": "1be97bed-97e8-48f3-afdc-1882e6295a6f",
   "metadata": {},
   "outputs": [
    {
     "name": "stdout",
     "output_type": "stream",
     "text": [
      "Not Equal\n"
     ]
    }
   ],
   "source": [
    "\n",
    "# Step-2  (SOLUTION)\n",
    "\n",
    "compare = lambda l1, l2: \"Equal\" if all(list(map(lambda x,y: x==y, list1, list2))) == True else \"Not Equal\"\n",
    "\n",
    "\n",
    "result = (lambda l1, l2: compare(l1,l2) if len(l1) == len(l2) else \"Not Equal\")(list1, list2)\n",
    "\n",
    "\n",
    "print(result)\n"
   ]
  },
  {
   "cell_type": "markdown",
   "id": "b8868594-3b51-4915-8667-e0886068ca70",
   "metadata": {},
   "source": [
    "\n",
    "<br>\n",
    "\n",
    "<span style=\"color: blue\">**Method-2** (using <span style=\"color: black\">**dictionary**</span> for calculating frequency of each element in a list and comparing it with the corresponding element in the other list)</span>\n"
   ]
  },
  {
   "cell_type": "code",
   "execution_count": 56,
   "id": "4b5a30a8-0c78-443b-a048-3e8a68b9fcbf",
   "metadata": {},
   "outputs": [
    {
     "name": "stdout",
     "output_type": "stream",
     "text": [
      "Not Equal\n"
     ]
    }
   ],
   "source": [
    "\n",
    "def compare(list1, list2):\n",
    "    my_dict = {}\n",
    "    for i in list1:\n",
    "        my_dict[i] = my_dict.get(i,0) + 1\n",
    "    for i in list2:\n",
    "        my_dict[i] = my_dict.get(i,0) - 1\n",
    "    count = 0\n",
    "    for k,v in my_dict.items():\n",
    "        if v == 0:\n",
    "            count += 1\n",
    "    if count == len(my_dict):\n",
    "        print(\"Equal\")\n",
    "    else:\n",
    "        print(\"Not Equal\")\n",
    "        \n",
    "\n",
    "compare(list1, list2)    \n"
   ]
  },
  {
   "cell_type": "code",
   "execution_count": 57,
   "id": "f5592c3e-abda-4200-8d37-e489e998e50f",
   "metadata": {},
   "outputs": [
    {
     "name": "stdout",
     "output_type": "stream",
     "text": [
      "Not Equal\n"
     ]
    }
   ],
   "source": [
    "\n",
    "def compare(list1, list2):\n",
    "    my_dict = {}\n",
    "    for i in list1:\n",
    "        my_dict[i] = my_dict.get(i,0) + 1\n",
    "    for i in list2:\n",
    "        my_dict[i] = my_dict.get(i,0) - 1\n",
    "    count = 0\n",
    "    for k,v in my_dict.items():\n",
    "        if v != 0:\n",
    "            return \"Not Equal\"\n",
    "    return \"Equal\"\n",
    "\n",
    "\n",
    "result = compare(list1, list2)\n",
    "print(result)\n"
   ]
  },
  {
   "cell_type": "code",
   "execution_count": null,
   "id": "d0c01e01-c3ef-46dc-8b7d-1432edfd9c14",
   "metadata": {},
   "outputs": [],
   "source": []
  },
  {
   "cell_type": "markdown",
   "id": "3e2ef26e-ad25-44c0-bb56-f41b8c0a11cd",
   "metadata": {
    "jp-MarkdownHeadingCollapsed": true
   },
   "source": [
    "##### <span style=\"color: blue\">5  ===>  Remove duplicates from a list and display it in reverse order</span>"
   ]
  },
  {
   "cell_type": "markdown",
   "id": "9c14a14c-a658-4973-a14d-f4dac4f96512",
   "metadata": {},
   "source": [
    "<br>\n",
    "\n",
    "<span style=\"color: #DCBD10\">▬▬▬▬▬▬▬▬▬▬▬▬▬▬▬▬▬▬▬▬▬▬▬▬▬▬▬▬▬▬▬▬▬▬▬▬▬▬▬▬▬▬▬▬▬▬▬▬▬▬▬▬▬▬▬▬▬▬▬▬▬▬▬▬▬▬▬▬▬▬▬▬▬▬▬▬</span>\n",
    "\n",
    "<br>\n",
    "\n",
    "<div style=\"padding: 10px; background-color: #E2FFEC\">\n",
    "\n",
    "<u>**QUESTION 5**</u> : &nbsp;Remove duplicates from a list and display it in reverse order <br>\n",
    "&nbsp;&nbsp;&nbsp;&nbsp;&nbsp;&nbsp;&nbsp;&nbsp;&nbsp;&nbsp;&nbsp;&nbsp;&nbsp;&nbsp;&nbsp;&nbsp;&nbsp;&nbsp;&nbsp;&nbsp;&nbsp;&nbsp;&nbsp;&nbsp;&nbsp;(without sorting - while removing duplicates or reversing the resultant list, the relative order of the elements in the list should not change\n",
    "\n",
    "</div>\n",
    "\n",
    "<br>\n"
   ]
  },
  {
   "cell_type": "code",
   "execution_count": 100,
   "id": "01cb63b5-b486-4ca5-a471-a859f28c6cb9",
   "metadata": {},
   "outputs": [],
   "source": [
    "# Original list with duplicate elements\n",
    "original_list = [1, 3, 2, 4, 4, 5, 2]"
   ]
  },
  {
   "cell_type": "markdown",
   "id": "644b0af1-1ab7-444b-95af-86923db4eac4",
   "metadata": {},
   "source": [
    "<font size=\"+2\">↳</font>&nbsp;&nbsp;<span style=\"background-color: yellow\">&nbsp;**Preserving the order**&nbsp;</span>"
   ]
  },
  {
   "cell_type": "code",
   "execution_count": 146,
   "id": "563c45a2-2e7a-44b5-8900-449d1698c2af",
   "metadata": {},
   "outputs": [
    {
     "name": "stdout",
     "output_type": "stream",
     "text": [
      "[1, 3, 2, 4, 7, 5]\n",
      "\n",
      "[5, 7, 4, 2, 3, 1]\n",
      "[5, 7, 4, 2, 3, 1]\n",
      "\n",
      "----------------------------------\n",
      "\n",
      "[1, 3, 2, 4, 7, 5]\n",
      "\n",
      "[5, 7, 4, 2, 3, 1]\n",
      "[5, 7, 4, 2, 3, 1]\n",
      "\n"
     ]
    }
   ],
   "source": [
    "\n",
    "# Remove duplicates while preserving the order\n",
    "\n",
    "input_list = [1, 3, 2, 4, 4, 7, 2, 5]\n",
    "\n",
    "########################################################################################################################################\n",
    "\n",
    "\n",
    "# Method-1  ( using dictionary method fromkeys() )\n",
    "\n",
    "dict2 = dict.fromkeys(input_list)                                                # dict.fromkeys(iterable, value = None)\n",
    "\n",
    "print(list(dict2), end = \"\\n\\n\")                                                 # list after removing duplicates\n",
    "\n",
    "print(list(dict2.keys())[::-1])                                                  # list reversed after removing duplicates\n",
    "print(list(dict2)[::-1], end=\"\\n\\n----------------------------------\\n\\n\")       # list reversed after removing duplicates\n",
    "\n",
    "\n",
    "########################################################################################################################################\n",
    "\n",
    "\n",
    "# Method - 2  ( without using dictionary method fromkeys() )\n",
    "dict1 = {}\n",
    "for i in input_list:\n",
    "    dict1[i] = None\n",
    "\n",
    "print(list(dict1.keys()), end = \"\\n\\n\")                                          # list after removing duplicates\n",
    "\n",
    "print(list(dict1.keys())[::-1])                                                  # list reversed after removing duplicates\n",
    "print(list(dict1)[::-1], end=\"\\n\\n\")                                             # list reversed after removing duplicates\n",
    "\n"
   ]
  },
  {
   "cell_type": "markdown",
   "id": "ff7b8980-188d-4114-a3f0-ef8c18adc541",
   "metadata": {},
   "source": [
    "<br>\n",
    "\n",
    "<span style=\"color: blue\">**Solution-1** (using <span style=\"color: black\"><strong>regular</strong></span> function)</span>"
   ]
  },
  {
   "cell_type": "code",
   "execution_count": 153,
   "id": "fcbe1156-9e21-4229-885b-f21ef714cc7a",
   "metadata": {},
   "outputs": [
    {
     "name": "stdout",
     "output_type": "stream",
     "text": [
      "[5, 7, 4, 2, 3, 1]\n"
     ]
    }
   ],
   "source": [
    "\n",
    "def remove_dups_and_rev(lst):\n",
    "    return list(dict.fromkeys(lst))[::-1]\n",
    "\n",
    "input_list = [1, 3, 2, 4, 4, 7, 2, 5]\n",
    "\n",
    "reversed_unique_list = remove_dups_and_rev(input_list)\n",
    "\n",
    "print(reversed_unique_list)\n"
   ]
  },
  {
   "cell_type": "markdown",
   "id": "fade6d18-b171-42da-9d36-cc33cbbdf659",
   "metadata": {},
   "source": [
    "<br>\n",
    "\n",
    "<span style=\"color: blue\">**Solution-2** (using <span style=\"color: red\"><strong>lambda</strong></span> function)</span>"
   ]
  },
  {
   "cell_type": "code",
   "execution_count": 157,
   "id": "c3bf2095-9ba4-46d2-b7c7-a96081452989",
   "metadata": {},
   "outputs": [
    {
     "name": "stdout",
     "output_type": "stream",
     "text": [
      "[5, 7, 4, 2, 3, 1]\n"
     ]
    }
   ],
   "source": [
    "\n",
    "remove_dups_and_rev_func = lambda x: list(dict.fromkeys(x))[::-1]\n",
    "\n",
    "input_list = [1, 3, 2, 4, 4, 7, 2, 5]\n",
    "\n",
    "reversed_unique_list = remove_dups_and_rev_func(input_list)\n",
    "\n",
    "print(reversed_unique_list)\n"
   ]
  },
  {
   "cell_type": "markdown",
   "id": "92b8e800-e87e-46e6-876f-c9e3abee124a",
   "metadata": {},
   "source": [
    "<br>\n",
    "\n",
    "Had we not to preserve the order, we could have also used <span style=\"color: red\">**itertools.groupby( )**</span> to remove the duplicates :\n",
    "\n",
    "<font size=\"+2\">↳</font>&nbsp;&nbsp;<span style=\"background-color: yellow\">**Not preserving the order**</span>"
   ]
  },
  {
   "cell_type": "code",
   "execution_count": 158,
   "id": "4d62a423-6e10-4aaf-860a-b1ec7b4465b4",
   "metadata": {},
   "outputs": [
    {
     "name": "stdout",
     "output_type": "stream",
     "text": [
      "1\n",
      "2\n",
      "3\n",
      "4\n",
      "5\n",
      "7\n"
     ]
    }
   ],
   "source": [
    "\n",
    "from itertools import groupby\n",
    "\n",
    "input_list = [1, 3, 2, 4, 4, 7, 2, 5]\n",
    "\n",
    "input_list.sort()\n",
    "\n",
    "for k, v in groupby(input_list):\n",
    "    print(k)\n"
   ]
  },
  {
   "cell_type": "code",
   "execution_count": 209,
   "id": "c9c0ada3-cbc9-4e53-b303-7c81694be40e",
   "metadata": {},
   "outputs": [
    {
     "data": {
      "text/plain": [
       "[1, 2, 3, 4, 5, 7]"
      ]
     },
     "execution_count": 209,
     "metadata": {},
     "output_type": "execute_result"
    }
   ],
   "source": [
    "\n",
    "from itertools import groupby\n",
    "\n",
    "input_list = [1, 3, 2, 4, 4, 7, 2, 5]\n",
    "\n",
    "input_list.sort()\n",
    "\n",
    "[k for k, v in groupby(input_list)]   # List Comprehension\n"
   ]
  },
  {
   "cell_type": "markdown",
   "id": "4de11a26-ac61-420f-bffa-dc98fb113436",
   "metadata": {},
   "source": [
    "<br>\n",
    "\n",
    "<span style=\"background-color: #CAFEFD\">An alternative way is we can also convert a list into a **set**</span> because sets do not contain duplicate data. Then you would convert the set back into a list."
   ]
  },
  {
   "cell_type": "code",
   "execution_count": 4,
   "id": "c605bf5d-088b-4e03-827c-2b552ec0ee0d",
   "metadata": {},
   "outputs": [
    {
     "name": "stdout",
     "output_type": "stream",
     "text": [
      "[1, 2, 3, 4, 5, 7]\n"
     ]
    }
   ],
   "source": [
    "\n",
    "input_list = [1, 3, 2, 4, 4, 7, 2, 5]\n",
    "print(list(set(input_list)))\n"
   ]
  },
  {
   "cell_type": "markdown",
   "id": "a4d857eb-8c00-4e3e-9b7c-f3dd4e579d29",
   "metadata": {},
   "source": [
    "However, it is also important to remember that <span style=\"background-color: #CAFEFD\">sets may not maintain the order of the list</span>."
   ]
  },
  {
   "cell_type": "code",
   "execution_count": 5,
   "id": "3f4b04d2-f051-4474-936e-df5d5dd0c3aa",
   "metadata": {},
   "outputs": [
    {
     "name": "stdout",
     "output_type": "stream",
     "text": [
      "[1, 2, 3, 6, 7, 9]\n"
     ]
    }
   ],
   "source": [
    "\n",
    "list1 = [3,6,7,9,2,3,7,1]\n",
    "list2 = list(set(list1))\n",
    "print(list2)\n"
   ]
  },
  {
   "cell_type": "code",
   "execution_count": null,
   "id": "00c087fb-b2ae-418d-8c9a-8e6d2970bbac",
   "metadata": {},
   "outputs": [],
   "source": []
  },
  {
   "cell_type": "markdown",
   "id": "9076de26-c944-4705-b632-19d3b8485385",
   "metadata": {
    "jp-MarkdownHeadingCollapsed": true
   },
   "source": [
    "##### <span style=\"color: blue\">6  ===>  Remove duplicates  in-place  from a sorted list such that each unique element appears  only once . The relative order of the elements should be kept the same. </span>"
   ]
  },
  {
   "cell_type": "markdown",
   "id": "c7997be2-c617-4e63-a9d2-79cb3b9e5bf2",
   "metadata": {},
   "source": [
    "<br>\n",
    "\n",
    "<span style=\"color: #DCBD10\">▬▬▬▬▬▬▬▬▬▬▬▬▬▬▬▬▬▬▬▬▬▬▬▬▬▬▬▬▬▬▬▬▬▬▬▬▬▬▬▬▬▬▬▬▬▬▬▬▬▬▬▬▬▬▬▬▬▬▬▬▬▬▬▬▬▬▬▬▬▬▬▬▬▬▬▬</span>\n",
    "\n",
    "<br>\n",
    "\n",
    "<div style=\"padding: 10px; background-color: #E2FFEC\">\n",
    "\n",
    "<u>**QUESTION 6**</u> : &nbsp;&nbsp;Remove duplicates <span style=\"background-color: #FFE8E2\">&nbsp;in-place&nbsp;</span> from a sorted list such that each unique element appears <span style=\"background-color: #FFE8E2\">&nbsp;only once&nbsp;</span>. <br>\n",
    "&nbsp;&nbsp;&nbsp;&nbsp;&nbsp;&nbsp;&nbsp;&nbsp;&nbsp;&nbsp;&nbsp;&nbsp;&nbsp;&nbsp;&nbsp;&nbsp;&nbsp;&nbsp;&nbsp;&nbsp;&nbsp;&nbsp;&nbsp;&nbsp;&nbsp;&nbsp;The relative order of the elements should be kept the same.\n",
    "\n",
    "<br>\n",
    "\n",
    "nums = <span style=\"color: #FF3503\"><strong>[ 1, 1, 1, 2, 2, 3 ]</strong></span>    &nbsp;&nbsp;====================>&nbsp;&nbsp;    **3**, nums = <span style=\"color: #FF3503\"><strong>[ 1, 2, 3, __ , __ , __ ]<strong></span>\n",
    "\n",
    "nums = <span style=\"color: #FF3503\"><strong>[ 0, 0 , 1, 1, 1, 2, 2, 3, 3, 4 ]</strong></span>    &nbsp;&nbsp;=============>&nbsp;&nbsp;    **5**, nums = <span style=\"color: #FF3503\"><strong>[ 0, 1, 2, 3, 4, __ , __ , __ , __ , __ ]<strong></span>\n",
    "\n",
    "</div>\n",
    "\n",
    "<br>\n",
    "\n",
    "<span style=\"color: blue\">**Solution-1**</span>&nbsp;&nbsp;<span style=\"background-color: yellow\">&nbsp;(using <strong>extra</strong> space)&nbsp;</span>\n"
   ]
  },
  {
   "cell_type": "code",
   "execution_count": 17,
   "id": "0e6be3cc-d96c-4bff-87ad-9ea226f064a0",
   "metadata": {},
   "outputs": [
    {
     "name": "stdout",
     "output_type": "stream",
     "text": [
      "[0, 1, 2, 3, 4]\n"
     ]
    }
   ],
   "source": [
    "\n",
    "def remove_duplicates(nums_list):\n",
    "    num_freq_dict = {}\n",
    "    result = []\n",
    "    for num in nums_list:\n",
    "        num_freq_dict[num] = num_freq_dict.get(num, 0) + 1\n",
    "        if num_freq_dict[num] == 1:\n",
    "            result.append(num)\n",
    "    return result\n",
    "\n",
    "nums = [ 0, 0 , 1, 1, 1, 2, 2, 3, 3, 4 ] \n",
    "\n",
    "result = remove_duplicates(nums)\n",
    "\n",
    "print(result)\n"
   ]
  },
  {
   "cell_type": "markdown",
   "id": "fb5f14e9-cad8-4fee-a5b7-3b3654ec5d28",
   "metadata": {},
   "source": [
    "<br>\n",
    "\n",
    "<span style=\"color: blue\">**Solution-2**</span>&nbsp;&nbsp;<span style=\"background-color: yellow\">&nbsp;(<strong>not</strong> using any <strong>extra</strong> space)&nbsp;</span>\n",
    "\n",
    "<br>\n",
    "\n",
    "<div style=\"border: 2px solid pink; padding: 10px; color: blue\">\n",
    "\n",
    "<font size=\"+2\"><span style=\"color: red\">↳</span></font>&nbsp;&nbsp;<font size=\"+1\">Initialize <span style=\"background-color: #CAFEFD; color: black\">&nbsp;&nbsp;**i = 0**&nbsp;&nbsp;</span> and <span style=\"background-color: #CAFEFD; color: black\">&nbsp;&nbsp;**j = 1**&nbsp;&nbsp;</span></font>  <br>\n",
    "\n",
    "<font size=\"+2\"><span style=\"color: red\">↳</span></font>&nbsp;&nbsp;<font size=\"+1\">Keep incrementing <strong><span style=\"background-color: #CAFEFD; color: black\">&nbsp;&nbsp;j&nbsp;&nbsp;</span></strong></span></strong> by <span style=\"color: black\"><strong>one</strong></span> no matter what.</font>  <br>\n",
    "\n",
    "<font size=\"+2\"><span style=\"color: red\">↳</span></font>&nbsp;&nbsp;<font size=\"+1\">For each iteration of <strong><span style=\"background-color: #CAFEFD; color: black\">&nbsp;&nbsp;j&nbsp;&nbsp;</span></strong>, first <strong><span style=\"color: black; background-color: #FEF3FF;\">&nbsp;&nbsp;i += 1&nbsp;&nbsp;</span></strong> and then replace <strong><span style=\"color: black; background-color: #FEF3FF;\">&nbsp;&nbsp;nums[ i ]&nbsp;&nbsp;</span></strong> with <strong><span style=\"color: black; background-color: #FEF3FF;\">&nbsp;&nbsp;nums[ j ]&nbsp;&nbsp;</span></strong> if <strong><span style=\"color: black; background-color: #FEF3FF;\">nums[ j ] &nbsp;&nbsp;==&nbsp;&nbsp; nums[ i ]</span></strong>  </font>\n",
    "\n",
    "   <div style=\"display: flex; color: black; margin-left: 100px\">\n",
    "    <div style=\"flex: 1; padding: 10px;\">\n",
    "    <font size=\"+2\">if</font>\n",
    "    </div>\n",
    "    <div style=\"flex: 1; padding: 10px; background-color: yellow;\">\n",
    "        <font size=\"+2\">nums[ j ] &nbsp;==&nbsp;  nums[ i ]</font>\n",
    "    </div>\n",
    "    <div style=\"flex: 1; padding: 10px\">\n",
    "    <font size=\"+2\">__________then_________</font>\n",
    "    </div>\n",
    "    <div style=\"flex: 1; padding: 10px; background-color: yellow;\">\n",
    "        <font size=\"+2\">i += 1</font>  <br>\n",
    "        <font size=\"+2\">nums[ i ] = nums[ j ]</font>\n",
    "    </div>\n",
    "</div>\n",
    "\n",
    "</div>\n"
   ]
  },
  {
   "cell_type": "code",
   "execution_count": 241,
   "id": "e4ae2c46-8b0c-4363-bcb0-33ffae8c98db",
   "metadata": {},
   "outputs": [
    {
     "name": "stdout",
     "output_type": "stream",
     "text": [
      "(3, [1, 2, 3, 2, 2, 3])\n",
      "[1, 2, 3]\n"
     ]
    }
   ],
   "source": [
    "\n",
    "def remove_duplicates(num_list):\n",
    "    i = 0 \n",
    "    j = 1 \n",
    "    n = len(num_list) \n",
    "    while j < n: \n",
    "        if num_list[i] == num_list[j]: \n",
    "            j += 1\n",
    "        else:\n",
    "            i += 1\n",
    "            num_list[i] = num_list[j]\n",
    "            j += 1\n",
    "    return i+1, num_list\n",
    "\n",
    "\n",
    "nums = [1, 1, 1, 2, 2, 3]\n",
    "\n",
    "\n",
    "result_format_1 = remove_duplicates(nums)\n",
    "print(result_format_1)\n",
    "\n",
    "\n",
    "x = result_format_1[0]\n",
    "y = result_format_1[1]\n",
    "result_format_2 = y[:x]\n",
    "print(result_format_2)\n"
   ]
  },
  {
   "cell_type": "markdown",
   "id": "e9d6c1f2-8eac-48b9-9bf5-29a3c7e708c5",
   "metadata": {},
   "source": [
    "<br>\n",
    "\n",
    "since \"<strong>j+=1</strong>\" is common in both <strong>if</strong> and <strong>else</strong> condition, so we can move it out from <strong>if-else</strong> :"
   ]
  },
  {
   "cell_type": "code",
   "execution_count": 1,
   "id": "dfa0f853-41a6-4f30-8b67-675120300f05",
   "metadata": {},
   "outputs": [],
   "source": [
    "\n",
    "def remove_duplicates(num_list):\n",
    "    i = 0 \n",
    "    j = 1 \n",
    "    n = len(num_list) \n",
    "    while j < n: \n",
    "        if num_list[i] != num_list[j]: \n",
    "            i += 1\n",
    "            num_list[i] = num_list[j]\n",
    "        j += 1\n",
    "    return i+1, num_list\n",
    "    "
   ]
  },
  {
   "cell_type": "markdown",
   "id": "fa26975a-26b4-4230-abd4-8f060d499ae0",
   "metadata": {},
   "source": [
    "<br>\n",
    "\n",
    "Let's verify the result again."
   ]
  },
  {
   "cell_type": "code",
   "execution_count": 2,
   "id": "8f21bd8c-64f2-4acd-af14-edb3a9adccb8",
   "metadata": {},
   "outputs": [
    {
     "name": "stdout",
     "output_type": "stream",
     "text": [
      "(3, [1, 2, 3, 2, 2, 3])\n",
      "[1, 2, 3]\n"
     ]
    }
   ],
   "source": [
    "nums = [1, 1, 1, 2, 2, 3]\n",
    "\n",
    "\n",
    "result_format_1 = remove_duplicates(nums)\n",
    "print(result_format_1)\n",
    "\n",
    "\n",
    "x = result_format_1[0]\n",
    "y = result_format_1[1]\n",
    "result_format_2 = y[:x]\n",
    "print(result_format_2)\n"
   ]
  },
  {
   "cell_type": "code",
   "execution_count": null,
   "id": "ba24fb02-bb58-41d8-8bbf-b627ac2ee7ea",
   "metadata": {},
   "outputs": [],
   "source": []
  },
  {
   "cell_type": "markdown",
   "id": "0c979dd5-bc78-40fe-a0ac-1341ecb36df6",
   "metadata": {
    "jp-MarkdownHeadingCollapsed": true
   },
   "source": [
    "##### <span style=\"color: blue\">7  ===>  Remove duplicates  in-place  from a sorted list such that each unique element appears  at most twice . The relative order of the elements should be kept the same.  </span>"
   ]
  },
  {
   "cell_type": "markdown",
   "id": "5bf01485-4db9-4811-86b0-3437a15525d2",
   "metadata": {},
   "source": [
    "<br>\n",
    "\n",
    "<span style=\"color: #DCBD10\">▬▬▬▬▬▬▬▬▬▬▬▬▬▬▬▬▬▬▬▬▬▬▬▬▬▬▬▬▬▬▬▬▬▬▬▬▬▬▬▬▬▬▬▬▬▬▬▬▬▬▬▬▬▬▬▬▬▬▬▬▬▬▬▬▬▬▬▬▬▬▬▬▬▬▬▬</span>\n",
    "\n",
    "<br>\n",
    "\n",
    "<div style=\"padding: 10px; background-color: #E2FFEC\">\n",
    "\n",
    "<u>**QUESTION 7**</u> : &nbsp;&nbsp;Remove duplicates <span style=\"background-color: #FFE8E2\">&nbsp;in-place&nbsp;</span> from a sorted list such that each unique element appears <span style=\"background-color: #FFE8E2\">&nbsp;at most twice&nbsp;</span>. <br>\n",
    "&nbsp;&nbsp;&nbsp;&nbsp;&nbsp;&nbsp;&nbsp;&nbsp;&nbsp;&nbsp;&nbsp;&nbsp;&nbsp;&nbsp;&nbsp;&nbsp;&nbsp;&nbsp;&nbsp;&nbsp;&nbsp;&nbsp;&nbsp;&nbsp;&nbsp;&nbsp;&nbsp;The relative order of the elements should be kept the same.\n",
    "\n",
    "<br>\n",
    "\n",
    "nums = <span style=\"color: #FF3503\"><strong>[ 1, 1, 1, 2, 2, 3 ]</strong></span>    &nbsp;&nbsp;==================>&nbsp;&nbsp;    **5**, nums = <span style=\"color: #FF3503\"><strong>[1, 1, 2, 2, 3, __ ]<strong></span>\n",
    "\n",
    "nums = <span style=\"color: #FF3503\"><strong>[ 0, 0 , 1, 1, 1, 1, 2, 3, 3]</strong></span>    &nbsp;&nbsp;=============>&nbsp;&nbsp;    **7**, nums = <span style=\"color: #FF3503\"><strong>[ 0, 0, 1, 1, 2, 3 , 3 , __ , __ ]<strong></span>\n",
    "\n",
    "nums = <span style=\"color: #FF3503\"><strong>[1, 2, 2, 3]</strong></span>    &nbsp;&nbsp;======================>&nbsp;&nbsp;    **4**, nums = <span style=\"color: #FF3503\"><strong>[1, 2, 2, 3]<strong></span>\n",
    "\n",
    "</div>\n",
    "\n",
    "<br>\n",
    "\n",
    "<br>\n",
    "\n",
    "<span style=\"color: blue\">**Solution-1**</span>&nbsp;&nbsp;<span style=\"background-color: yellow\">&nbsp;(using <strong>extra</strong> space)&nbsp;</span>"
   ]
  },
  {
   "cell_type": "code",
   "execution_count": 12,
   "id": "4fb92dde-9ecc-416f-bc57-bd16b511fd63",
   "metadata": {},
   "outputs": [
    {
     "name": "stdout",
     "output_type": "stream",
     "text": [
      "[0, 0, 1, 1, 2, 3, 3]\n"
     ]
    }
   ],
   "source": [
    "\n",
    "def remove_duplicates(nums_list):\n",
    "    num_freq_dict = {}\n",
    "    result = []\n",
    "    for num in nums_list:\n",
    "        num_freq_dict[num] = num_freq_dict.get(num, 0) + 1\n",
    "        if num_freq_dict[num] <= 2:\n",
    "            result.append(num)\n",
    "    return result\n",
    "\n",
    "nums = [ 0, 0 , 1, 1, 1, 1, 2, 3, 3] \n",
    "\n",
    "result = remove_duplicates(nums)\n",
    "\n",
    "print(result)\n"
   ]
  },
  {
   "cell_type": "markdown",
   "id": "d203aaa4-37f2-44df-b8fd-f776ae8da0ba",
   "metadata": {},
   "source": [
    "<br>\n",
    "\n",
    "<br>\n",
    "\n",
    "<span style=\"color: blue\">**Solution-2**</span>&nbsp;&nbsp;<span style=\"background-color: yellow\">&nbsp;(<strong>not</strong> using any <strong>extra</strong> space)&nbsp;</span>\n",
    "\n",
    "<div style=\"border: 2px solid pink; padding: 10px; color: blue\">\n",
    "    \n",
    "<font size=\"+2\"><span style=\"color: red\">↳</span></font>&nbsp;&nbsp;<font size=\"+1\">Initialize <strong><span style=\"background-color: #CAFEFD; color: black\">&nbsp;&nbsp;i&nbsp;&nbsp;</span></strong> and <strong><span style=\"background-color: #CAFEFD; color: black\">&nbsp;&nbsp;j&nbsp;&nbsp;</span></strong> pointers with <strong><span style=\"color: black\">&nbsp;0</span></strong></font>\n",
    "    \n",
    "<font size=\"+2\"><span style=\"color: red\">↳</span></font>&nbsp;&nbsp;<font size=\"+1\">Keep incrementing <strong><span style=\"background-color: #CAFEFD; color: black\">&nbsp;&nbsp;j&nbsp;&nbsp;</span></strong></span></strong> by <span style=\"color: black\"><strong>one</strong></span> no matter what.</font>\n",
    "\n",
    "<font size=\"+2\"><span style=\"color: red\">↳</span></font>&nbsp;&nbsp; <font size=\"+1\">For each iteration of <strong><span style=\"background-color: #CAFEFD; color: black\">&nbsp;&nbsp;j&nbsp;&nbsp;</span></strong>, **replace** <strong><span style=\"color: black; background-color: #FEF3FF;\">&nbsp;&nbsp;nums[ i ]&nbsp;&nbsp;</span></strong> with <strong><span style=\"color: black; background-color: #FEF3FF;\">&nbsp;&nbsp;nums[ j ]&nbsp;&nbsp;</span></strong> followed by <strong><span style=\"color: black; background-color: #FEF3FF;\">&nbsp;&nbsp;i += 1&nbsp;&nbsp;</span></strong> if &nbsp;&nbsp;<strong><span style=\"color: black; background-color: #FEF3FF;\">nums[ j ] &nbsp;&nbsp;!=&nbsp;&nbsp; nums[ i - 2 ]</span></strong>\n",
    "\n",
    "<div style=\"display: flex; color: black; margin-left: 100px\">\n",
    "    <div style=\"flex: 1; padding: 10px;\">\n",
    "    <font size=\"+2\">if</font>\n",
    "    </div>\n",
    "    <div style=\"flex: 1; padding: 10px; background-color: yellow;\">\n",
    "        <font size=\"+2\">nums[ j ] &nbsp;!=&nbsp;  nums[ i-2 ]</font>\n",
    "    </div>\n",
    "    <div style=\"flex: 1; padding: 10px\">\n",
    "    <font size=\"+2\">__________then_________</font>\n",
    "    </div>\n",
    "    <div style=\"flex: 1; padding: 10px; background-color: yellow;\">\n",
    "        <font size=\"+2\">nums[ i ] = nums[ j ]</font>  <br>\n",
    "        <font size=\"+2\">i += 1</font>\n",
    "    </div>\n",
    "</div>\n",
    "\n",
    "</div>\n",
    "\n",
    "</br>\n"
   ]
  },
  {
   "cell_type": "code",
   "execution_count": 1,
   "id": "be29dcbc-86e4-4c5b-87a7-fa151cd0ef9a",
   "metadata": {},
   "outputs": [
    {
     "name": "stdout",
     "output_type": "stream",
     "text": [
      "(7, [0, 0, 1, 1, 2, 3, 3, 3, 3])\n",
      "[0, 0, 1, 1, 2, 3, 3]\n"
     ]
    }
   ],
   "source": [
    "\n",
    "\n",
    "def remove_duplicates(nums): \n",
    "    i = 0 \n",
    "    for j in range(len(nums)): \n",
    "        if i < 2 or nums[j] != nums[i-2]: \n",
    "            nums[i] = nums[j]\n",
    "            i += 1\n",
    "    return i, nums\n",
    "\n",
    "            \n",
    "nums = [ 0, 0 , 1, 1, 1, 1, 2, 3, 3]\n",
    "\n",
    "\n",
    "result_format_1 = remove_duplicates(nums)\n",
    "print(result_format_1)\n",
    "\n",
    "\n",
    "x = result_format_1[0]\n",
    "y = result_format_1[1]\n",
    "result_format_2 = y[:x]\n",
    "print(result_format_2)\n",
    "\n"
   ]
  },
  {
   "cell_type": "code",
   "execution_count": 2,
   "id": "8ed07756-6b5f-41ad-ac83-00bd759c1dfe",
   "metadata": {},
   "outputs": [
    {
     "name": "stdout",
     "output_type": "stream",
     "text": [
      "(7, [0, 0, 1, 1, 2, 3, 3, 3, 3])\n",
      "[0, 0, 1, 1, 2, 3, 3]\n"
     ]
    }
   ],
   "source": [
    "\n",
    "def remove_duplicates(nums): \n",
    "    i = 0 \n",
    "    for e in nums: \n",
    "        if i < 2 or e != nums[i-2]: \n",
    "            nums[i] = e\n",
    "            i += 1\n",
    "    return i, nums\n",
    "\n",
    "\n",
    "\n",
    "result_format_1 = remove_duplicates(nums)\n",
    "print(result_format_1)\n",
    "\n",
    "\n",
    "x = result_format_1[0]\n",
    "y = result_format_1[1]\n",
    "result_format_2 = y[:x]\n",
    "print(result_format_2)\n"
   ]
  },
  {
   "cell_type": "code",
   "execution_count": null,
   "id": "08007320-fc93-4f65-bc24-675e5dfaa234",
   "metadata": {},
   "outputs": [],
   "source": []
  },
  {
   "cell_type": "markdown",
   "id": "61b3d423-c7a6-4073-91aa-5438c4995a79",
   "metadata": {
    "jp-MarkdownHeadingCollapsed": true
   },
   "source": [
    "##### <span style=\"color: blue\">8  ===>  Word Count ===> Find frequency of each word in a given text  </span>"
   ]
  },
  {
   "cell_type": "markdown",
   "id": "592bc6b5-24dc-4166-b562-8705177322e0",
   "metadata": {},
   "source": [
    "<br>\n",
    "\n",
    "<span style=\"color: #DCBD10\">▬▬▬▬▬▬▬▬▬▬▬▬▬▬▬▬▬▬▬▬▬▬▬▬▬▬▬▬▬▬▬▬▬▬▬▬▬▬▬▬▬▬▬▬▬▬▬▬▬▬▬▬▬▬▬▬▬▬▬▬▬▬▬▬▬▬▬▬▬▬▬▬▬▬▬▬</span>\n",
    "\n",
    "<br>\n",
    "\n",
    "<div style=\"padding: 10px; background-color: #E2FFEC\">\n",
    "\n",
    "<u>**QUESTION 8**</u> : &nbsp;&nbsp;Word Count ===> Find frequency of each word in a given text\n",
    "\n",
    "</div>\n",
    "\n",
    "<br>\n",
    "\n",
    "<span style=\"color: blue\">**Solution - 1**</span>"
   ]
  },
  {
   "cell_type": "code",
   "execution_count": 192,
   "id": "d5e7787c-6e5e-42d3-879a-20f565cccebf",
   "metadata": {},
   "outputs": [
    {
     "name": "stdout",
     "output_type": "stream",
     "text": [
      "{'This': 2, 'is': 2, 'a': 2, 'sample': 1, 'string': 1, 'with': 1, 'repeated': 1, 'words.': 1, 'just': 1, 'sample.': 1}\n"
     ]
    }
   ],
   "source": [
    "\n",
    "def find_word_frequency(text):\n",
    "    word_list = text.split()\n",
    "    word_dict = {}\n",
    "    for word in word_list:\n",
    "        word_dict[word] = word_dict.get(word, 0) + 1\n",
    "    return word_dict\n",
    "\n",
    "text = '''This is a sample string with repeated words. \n",
    "This is just a sample.'''\n",
    "\n",
    "word_frequency = find_word_frequency(text)\n",
    "\n",
    "print(word_frequency)\n"
   ]
  },
  {
   "cell_type": "markdown",
   "id": "649b0f88-6a17-473b-84b4-270c1797c794",
   "metadata": {},
   "source": [
    "<br>\n",
    "\n",
    "<span style=\"color: blue\">**Solution - 2** &nbsp;(using <span style=\"color: red\">**lambda**</span> function)</span>\n"
   ]
  },
  {
   "cell_type": "code",
   "execution_count": 193,
   "id": "35085195-3470-4c6c-9ed3-8a473a36f760",
   "metadata": {},
   "outputs": [
    {
     "name": "stdout",
     "output_type": "stream",
     "text": [
      "{'This': 2, 'is': 2, 'a': 2, 'sample': 1, 'string': 1, 'with': 1, 'repeated': 1, 'words.': 1, 'just': 1, 'sample.': 1}\n"
     ]
    }
   ],
   "source": [
    "\n",
    "text = '''This is a sample string with repeated words. \n",
    "This is just a sample.'''\n",
    "\n",
    "find_word_frequency_func = lambda text: {word: text.split().count(word) for word in text.split()}\n",
    "\n",
    "print(find_word_frequency_func(text))\n"
   ]
  },
  {
   "cell_type": "markdown",
   "id": "df1f181f-1ec9-4cf3-b7cd-a13c7f3aee59",
   "metadata": {},
   "source": [
    "<br>\n",
    "\n",
    "<span style=\"color: blue\">**Solution - 3** &nbsp;(using <span style=\"color: red\">**reduce( )**</span> and <span style=\"color: red\">**lambda**</span> function)</span>\n",
    "\n",
    "<font size=\"+2\">↳</font>&nbsp;&nbsp;**Step - 1** ==>&nbsp;&nbsp;<span style=\"background-color: yellow\">&nbsp;(without using **lambda**)&nbsp;</span>"
   ]
  },
  {
   "cell_type": "code",
   "execution_count": 194,
   "id": "6dde21b8-950a-4989-9f20-134879899cd5",
   "metadata": {},
   "outputs": [
    {
     "name": "stdout",
     "output_type": "stream",
     "text": [
      "{'This': 1, 'is': 1, 'a': 1, 'sample': 1, 'string': 1, 'with': 1, 'repeated': 1, 'words.': 1, 'just': 1, 'sample.': 1}\n"
     ]
    }
   ],
   "source": [
    "\n",
    "from functools import reduce\n",
    "\n",
    "\n",
    "def word_frequency(word_dict, word):\n",
    "    word_dict[word] = word_dict.get(key, 0) + 1 \n",
    "    return word_dict\n",
    "\n",
    "\n",
    "text = '''This is a sample string with repeated words. \n",
    "This is just a sample.'''\n",
    "\n",
    "word_frequency_dict = reduce(word_frequency, text.split(), {})\n",
    "\n",
    "\n",
    "print(word_frequency_dict)\n"
   ]
  },
  {
   "cell_type": "markdown",
   "id": "00a1920a-0cac-4683-af6f-953825e5b8ba",
   "metadata": {},
   "source": [
    "<br>\n",
    "\n",
    "<font size=\"+2\">↳</font>&nbsp;&nbsp;**Step - 2** ==>&nbsp;&nbsp;<span style=\"background-color: yellow\">&nbsp;(using **lambda**)&nbsp;</span>"
   ]
  },
  {
   "cell_type": "code",
   "execution_count": 195,
   "id": "2ab28ed7-654a-4835-afe2-e777e3ca4965",
   "metadata": {},
   "outputs": [
    {
     "name": "stdout",
     "output_type": "stream",
     "text": [
      "{'sample.': 1}\n"
     ]
    }
   ],
   "source": [
    "\n",
    "from functools import reduce\n",
    "\n",
    "\n",
    "def word_frequency(word_dict, word):\n",
    "    word_dict[word] = word_dict.get(key, 0) + 1 \n",
    "    return word_dict\n",
    "\n",
    "\n",
    "text = '''This is a sample string with repeated words. \n",
    "This is just a sample.'''\n",
    "\n",
    "\n",
    "word_frequency_dict = reduce(lambda word_dict, word: {word: word_dict.get(word,0)+1}, text.split(), {})\n",
    "\n",
    "\n",
    "print(word_frequency_dict)\n"
   ]
  },
  {
   "cell_type": "markdown",
   "id": "a0a0951d-066c-46b5-b09e-4e9bce8f85d5",
   "metadata": {},
   "source": [
    "<br>\n",
    "\n",
    "<span style=\"color: #E5064A\">To avoid the overwriting of entire dictionary in each iteration, we need to use the **dictionary unpacking operator** ( <span style=\"color: black\"><strong>**word_dict</strong></span> ) which will ensure that the existing counts are preserved while adding the updated count for the current word.</span>\n"
   ]
  },
  {
   "cell_type": "code",
   "execution_count": 196,
   "id": "f302038c-20de-4945-a77d-c29fe76af61a",
   "metadata": {},
   "outputs": [
    {
     "name": "stdout",
     "output_type": "stream",
     "text": [
      "{'This': 2, 'is': 2, 'a': 2, 'sample': 1, 'string': 1, 'with': 1, 'repeated': 1, 'words.': 1, 'just': 1, 'sample.': 1}\n"
     ]
    }
   ],
   "source": [
    "\n",
    "from functools import reduce\n",
    "\n",
    "\n",
    "def word_frequency(word_dict, word):\n",
    "    word_dict[word] = word_dict.get(key, 0) + 1 \n",
    "    return word_dict\n",
    "\n",
    "\n",
    "text = '''This is a sample string with repeated words. \n",
    "This is just a sample.'''\n",
    "\n",
    "\n",
    "word_frequency_dict = reduce(lambda word_dict, word: {**word_dict, word: word_dict.get(word,0)+1}, text.split(), {})\n",
    "\n",
    "\n",
    "print(word_frequency_dict)\n"
   ]
  },
  {
   "cell_type": "code",
   "execution_count": null,
   "id": "569f0a1f-2eab-4730-bb86-e094e6e4abdc",
   "metadata": {},
   "outputs": [],
   "source": []
  },
  {
   "cell_type": "markdown",
   "id": "d2c9b667-51c3-4474-b84f-d449f893d7aa",
   "metadata": {
    "jp-MarkdownHeadingCollapsed": true
   },
   "source": [
    "##### <span style=\"color: blue\">9  ===>  Given a list of integers, print 1 for odd and 0 for even  </span>"
   ]
  },
  {
   "cell_type": "markdown",
   "id": "50ae9aca-dfe9-465b-ba63-45635a1deaec",
   "metadata": {},
   "source": [
    "<br>\n",
    "\n",
    "<span style=\"color: #DCBD10\">▬▬▬▬▬▬▬▬▬▬▬▬▬▬▬▬▬▬▬▬▬▬▬▬▬▬▬▬▬▬▬▬▬▬▬▬▬▬▬▬▬▬▬▬▬▬▬▬▬▬▬▬▬▬▬▬▬▬▬▬▬▬▬▬▬▬▬▬▬▬▬▬▬▬▬▬</span>\n",
    "\n",
    "<br>\n",
    "\n",
    "<div style=\"padding: 10px; background-color: #E2FFEC\">\n",
    "\n",
    "<u>**QUESTION 9**</u> : &nbsp;&nbsp;Given a list of integers, print 1 for odd and 0 for even\n",
    "\n",
    "</div>\n",
    "\n",
    "<br>\n",
    "\n",
    "<span style=\"color: blue\">**Solution - 1**</span>\n"
   ]
  },
  {
   "cell_type": "code",
   "execution_count": 199,
   "id": "23969c25-c31a-438d-93cf-da7cd257189e",
   "metadata": {},
   "outputs": [
    {
     "name": "stdout",
     "output_type": "stream",
     "text": [
      "[1, 1, 0, 0, 0, 0, 0, 1]\n"
     ]
    }
   ],
   "source": [
    "\n",
    "def odd_even(lst):\n",
    "    return [i%2 for i in lst]\n",
    "\n",
    "input_list = [1, 3, 2, 4, 8, 8, 0, 5]\n",
    "\n",
    "result = odd_even(input_list)\n",
    "\n",
    "print(result)\n"
   ]
  },
  {
   "cell_type": "markdown",
   "id": "2a735bae-c39f-40c9-84fe-fc328fca19a9",
   "metadata": {},
   "source": [
    "<br>\n",
    "\n",
    "<span style=\"color: blue\">**Solution - 2** &nbsp;(using <span style=\"color: red\">**lambda**</span> function)</span>\n"
   ]
  },
  {
   "cell_type": "code",
   "execution_count": 200,
   "id": "00b27bc2-27fa-43cd-9b3e-40d404020aa0",
   "metadata": {},
   "outputs": [
    {
     "name": "stdout",
     "output_type": "stream",
     "text": [
      "[1, 1, 0, 0, 0, 0, 0, 1]\n"
     ]
    }
   ],
   "source": [
    "\n",
    "odd_even_func = lambda lst: [i%2 for i in lst]\n",
    "\n",
    "input_list = [1, 3, 2, 4, 8, 8, 0, 5]\n",
    "\n",
    "result = odd_even_func(input_list)\n",
    "\n",
    "print(result)\n"
   ]
  },
  {
   "cell_type": "code",
   "execution_count": null,
   "id": "d04cd484-1679-4744-b05b-24dc266dd3cf",
   "metadata": {},
   "outputs": [],
   "source": []
  },
  {
   "cell_type": "markdown",
   "id": "6f86b8db-0ed6-4413-abfd-979f0f621982",
   "metadata": {
    "jp-MarkdownHeadingCollapsed": true
   },
   "source": [
    "##### <span style=\"color: blue\">10  ===>  Write a program to find the factorial of a number using recursion.  </span>"
   ]
  },
  {
   "cell_type": "markdown",
   "id": "9fe8550a-2ffe-4056-afc0-9ec21349b01c",
   "metadata": {},
   "source": [
    "<br>\n",
    "\n",
    "<span style=\"color: #DCBD10\">▬▬▬▬▬▬▬▬▬▬▬▬▬▬▬▬▬▬▬▬▬▬▬▬▬▬▬▬▬▬▬▬▬▬▬▬▬▬▬▬▬▬▬▬▬▬▬▬▬▬▬▬▬▬▬▬▬▬▬▬▬▬▬▬▬▬▬▬▬▬▬▬▬▬▬▬</span>\n",
    "\n",
    "<br>\n",
    "\n",
    "<div style=\"padding: 10px; background-color: #E2FFEC\">\n",
    "\n",
    "<u>**QUESTION 10**</u> : &nbsp;&nbsp;Write a program to find the factorial of a number using recursion.\n",
    "\n",
    "</div>\n",
    "\n",
    "<br>\n"
   ]
  },
  {
   "cell_type": "code",
   "execution_count": 11,
   "id": "275b8b81-c2c1-4f1e-94a2-0d828a1f2499",
   "metadata": {},
   "outputs": [
    {
     "name": "stdin",
     "output_type": "stream",
     "text": [
      "Enter a number you want to find the factorial of:  5\n"
     ]
    },
    {
     "name": "stdout",
     "output_type": "stream",
     "text": [
      "120\n"
     ]
    }
   ],
   "source": [
    "\n",
    "def factorial(n):\n",
    "    if n == 0:\n",
    "        return 1\n",
    "    else:\n",
    "        return n * factorial(n-1)\n",
    "\n",
    "num = int(input(\"Enter a number you want to find the factorial of: \"))\n",
    "\n",
    "result = factorial(num)\n",
    "\n",
    "print(result)\n"
   ]
  },
  {
   "cell_type": "code",
   "execution_count": null,
   "id": "89983e37-b56a-4d5d-8c2c-a609216600e1",
   "metadata": {},
   "outputs": [],
   "source": []
  },
  {
   "cell_type": "markdown",
   "id": "0570bcb8-8cb1-43d2-bd76-bc5fe975943a",
   "metadata": {
    "jp-MarkdownHeadingCollapsed": true
   },
   "source": [
    "##### <span style=\"color: blue\">11  ===>  Write a program to find the fibonacci of a number using recursion. </span>"
   ]
  },
  {
   "cell_type": "markdown",
   "id": "403fd8ae-7637-46e9-b139-486f965267c5",
   "metadata": {},
   "source": [
    "<br>\n",
    "\n",
    "<span style=\"color: #DCBD10\">▬▬▬▬▬▬▬▬▬▬▬▬▬▬▬▬▬▬▬▬▬▬▬▬▬▬▬▬▬▬▬▬▬▬▬▬▬▬▬▬▬▬▬▬▬▬▬▬▬▬▬▬▬▬▬▬▬▬▬▬▬▬▬▬▬▬▬▬▬▬▬▬▬▬▬▬</span>\n",
    "\n",
    "<br>\n",
    "\n",
    "<div style=\"padding: 10px; background-color: #E2FFEC\">\n",
    "\n",
    "<u>**QUESTION 11**</u> : &nbsp;&nbsp;Write a program to find the fibonacci of a number using recursion.\n",
    "\n",
    "</div>\n",
    "\n",
    "<br>"
   ]
  },
  {
   "cell_type": "code",
   "execution_count": 18,
   "id": "4414e54c-1439-4915-85fb-fe8978c92b94",
   "metadata": {},
   "outputs": [
    {
     "name": "stdout",
     "output_type": "stream",
     "text": [
      "0\n",
      "1\n",
      "1\n",
      "2\n",
      "3\n",
      "5\n",
      "8\n"
     ]
    }
   ],
   "source": [
    "\n",
    "def fibonacci(n):\n",
    "    if n == 0:\n",
    "        return 0\n",
    "    elif n == 1:\n",
    "        return 1\n",
    "    else:\n",
    "        return fibonacci(n-1) + fibonacci(n-2)\n",
    "\n",
    "\n",
    "print(fibonacci(0))       #  0\n",
    "print(fibonacci(1))       #  1\n",
    "print(fibonacci(2))       #  1\n",
    "print(fibonacci(3))       #  2\n",
    "print(fibonacci(4))       #  3\n",
    "print(fibonacci(5))       #  5\n",
    "print(fibonacci(6))       #  8\n"
   ]
  },
  {
   "cell_type": "code",
   "execution_count": null,
   "id": "76cef18e-e277-49a0-a011-06dbc0fb1a7f",
   "metadata": {},
   "outputs": [],
   "source": []
  },
  {
   "cell_type": "markdown",
   "id": "f058220c-9e66-40d8-afdb-35555745b12e",
   "metadata": {
    "jp-MarkdownHeadingCollapsed": true
   },
   "source": [
    "##### <span style=\"color: blue\">12  ===>  Write a program to find the frequency of a number in a list. Return in descending order of number of occurrences a number exists. </span>"
   ]
  },
  {
   "cell_type": "markdown",
   "id": "98556dd7-2aa5-4c3a-be6f-7b4556b4e0a7",
   "metadata": {},
   "source": [
    "<br>\n",
    "\n",
    "<span style=\"color: #DCBD10\">▬▬▬▬▬▬▬▬▬▬▬▬▬▬▬▬▬▬▬▬▬▬▬▬▬▬▬▬▬▬▬▬▬▬▬▬▬▬▬▬▬▬▬▬▬▬▬▬▬▬▬▬▬▬▬▬▬▬▬▬▬▬▬▬▬▬▬▬▬▬▬▬▬▬▬▬</span>\n",
    "\n",
    "<br>\n",
    "\n",
    "<div style=\"padding: 10px; background-color: #E2FFEC\">\n",
    "\n",
    "<u>**QUESTION 12**</u> : &nbsp;&nbsp;Write a program to find the frequency of a number in a list. Return in descending order of number of occurrences a number exists.\n",
    "\n",
    "</div>\n",
    "\n",
    "<br>\n",
    "\n",
    "<font size=\"+2\">↳</font>&nbsp;&nbsp;<span style=\"background-color: yellow\">&nbsp;&nbsp;without using **dict.fromkeys( )**&nbsp;)&nbsp;</span>"
   ]
  },
  {
   "cell_type": "code",
   "execution_count": 20,
   "id": "8463e6f3-4671-44fa-a40b-c56d2be225c3",
   "metadata": {},
   "outputs": [
    {
     "name": "stdout",
     "output_type": "stream",
     "text": [
      "{25: 3, 42: 2, 8: 1, 45: 1, 6: 1, 11: 1, 29: 1, 14: 1}\n"
     ]
    }
   ],
   "source": [
    "\n",
    "def find_frequency(arr):\n",
    "    \n",
    "    # finding the number frequency\n",
    "    num_count_dict = {}\n",
    "    for e in arr:\n",
    "        num_count_dict[e] = num_count_dict.get(e, 0) + 1\n",
    "        \n",
    "    # sorting the dictionary num_count_dict as per the value in each key-value pair\n",
    "    # return sorted(num_count_dict.items(), key = lambda x: x[1], reverse= True)       # returns list of tuples\n",
    "    return dict(sorted(num_count_dict.items(), key = lambda x: x[1], reverse= True))   # returns a dictionary converting each tuple into a key-value pair\n",
    "        \n",
    "\n",
    "num_list = [ 8, 45, 25, 6, 11, 29, 42, 25, 14, 42, 25 ]\n",
    "\n",
    "print(find_frequency(num_list))\n"
   ]
  },
  {
   "cell_type": "markdown",
   "id": "b14367f3-a5de-4e86-98ff-c9de54a838f8",
   "metadata": {},
   "source": [
    "<br>\n",
    "\n",
    "<font size=\"+2\">↳</font>&nbsp;&nbsp;<span style=\"background-color: yellow\">&nbsp;&nbsp;using **dict.fromkeys( )**&nbsp;)&nbsp;</span>"
   ]
  },
  {
   "cell_type": "code",
   "execution_count": 23,
   "id": "e0cf820b-d15d-4108-84bc-7a5da839470e",
   "metadata": {},
   "outputs": [
    {
     "name": "stdout",
     "output_type": "stream",
     "text": [
      "{25: 3, 42: 2, 8: 1, 45: 1, 6: 1, 11: 1, 29: 1, 14: 1}\n"
     ]
    }
   ],
   "source": [
    "\n",
    "def find_frequency(arr):\n",
    "    num_count_dict = dict.fromkeys(arr, 0)\n",
    "    for e in arr:\n",
    "        num_count_dict[e] = num_count_dict[e] + 1\n",
    "        # num_count_dict[e] = num_count_dict.get(e) + 1      # now we don't need to pass default value 0 while using dictionary method dict.get() \n",
    "    return dict(sorted(num_count_dict.items(), key = lambda x: x[1], reverse= True))  \n",
    "        \n",
    "\n",
    "num_list = [ 8, 45, 25, 6, 11, 29, 42, 25, 14, 42, 25 ]\n",
    "\n",
    "print(find_frequency(num_list))\n"
   ]
  },
  {
   "cell_type": "code",
   "execution_count": null,
   "id": "c4b76368-31aa-4d2a-959b-180feb47c941",
   "metadata": {},
   "outputs": [],
   "source": []
  },
  {
   "cell_type": "markdown",
   "id": "43e0a2ee-807b-4a86-b0dc-2c9c36968c53",
   "metadata": {
    "jp-MarkdownHeadingCollapsed": true
   },
   "source": [
    "##### <span style=\"color: blue\">13  ===>  Write a program to to check whether a given number is prime or not. </span>"
   ]
  },
  {
   "cell_type": "markdown",
   "id": "626dc630-def0-4a05-b80e-6738a29ecf04",
   "metadata": {},
   "source": [
    "<br>\n",
    "\n",
    "<span style=\"color: #DCBD10\">▬▬▬▬▬▬▬▬▬▬▬▬▬▬▬▬▬▬▬▬▬▬▬▬▬▬▬▬▬▬▬▬▬▬▬▬▬▬▬▬▬▬▬▬▬▬▬▬▬▬▬▬▬▬▬▬▬▬▬▬▬▬▬▬▬▬▬▬▬▬▬▬▬▬▬▬</span>\n",
    "\n",
    "<br>\n",
    "\n",
    "<div style=\"padding: 10px; background-color: #E2FFEC\">\n",
    "\n",
    "<u>**QUESTION 13**</u> : &nbsp;&nbsp; Write a program to to check whether a given number is prime or not.\n",
    "\n",
    "</div>\n",
    "\n",
    "<br>\n"
   ]
  },
  {
   "cell_type": "code",
   "execution_count": 31,
   "id": "38469d24-3db8-4265-b9c3-dd9a1890ba08",
   "metadata": {},
   "outputs": [
    {
     "name": "stdin",
     "output_type": "stream",
     "text": [
      "Enter a number: 4\n"
     ]
    },
    {
     "name": "stdout",
     "output_type": "stream",
     "text": [
      "not prime\n"
     ]
    }
   ],
   "source": [
    "\n",
    "def is_prime(n):\n",
    "    if n <= 1:\n",
    "        return \"not prime\"\n",
    "    else:\n",
    "        for i in range(2, n):\n",
    "            if  n % i == 0:\n",
    "                return \"not prime\"\n",
    "        return \"prime\"\n",
    "\n",
    "\n",
    "num = int(input(\"Enter a number:\"))\n",
    "print(is_prime(num))\n",
    "        "
   ]
  },
  {
   "cell_type": "markdown",
   "id": "d2f2e272-d1a3-4f44-9eac-273900a4ba6c",
   "metadata": {},
   "source": [
    "<br>\n",
    "\n",
    "<font size=\"+2\">↳</font>&nbsp;&nbsp;<span style=\"background-color: yellow\">&nbsp;&nbsp;**Optimize the code** by reducing time complexity&nbsp;)&nbsp;</span>\n",
    "\n",
    "<span style=\"color: #F802C0\">A number n is a prime number if it has **no factors upto sqrt(n)**</span>"
   ]
  },
  {
   "cell_type": "code",
   "execution_count": 44,
   "id": "c409e99e-aec7-4e4d-be81-ea0604c34697",
   "metadata": {},
   "outputs": [
    {
     "name": "stdin",
     "output_type": "stream",
     "text": [
      "Enter a number: 4\n"
     ]
    },
    {
     "name": "stdout",
     "output_type": "stream",
     "text": [
      "not prime\n"
     ]
    }
   ],
   "source": [
    "\n",
    "import math\n",
    "\n",
    "def is_prime(n):\n",
    "    if n <= 1:\n",
    "        return \"not prime\"     # 1 is not prime\n",
    "    else:\n",
    "        # Check divisibility for numbers stating from 2 to sqrt(n)\n",
    "        for i in range(2, int(math.sqrt(n))+1):   \n",
    "            if n % i == 0:\n",
    "                return \"not prime\"\n",
    "        return \"prime\"\n",
    "\n",
    "\n",
    "num = int(input(\"Enter a number:\"))\n",
    "print(is_prime(num))\n"
   ]
  },
  {
   "cell_type": "markdown",
   "id": "41ec563c-e9b3-4b9e-a140-7c1ec00c1902",
   "metadata": {},
   "source": [
    "<span style=\"color: #F802C0\">A number n is a prime number if it has **no factors upto sqrt(n)**. <br> All primes **greater than 3** can be written in the form **6k ± 1**.</span>"
   ]
  },
  {
   "cell_type": "code",
   "execution_count": 53,
   "id": "b7507a69-0a72-488e-b036-fed6a578e79b",
   "metadata": {},
   "outputs": [
    {
     "name": "stdin",
     "output_type": "stream",
     "text": [
      "Enter a number: 5\n"
     ]
    },
    {
     "name": "stdout",
     "output_type": "stream",
     "text": [
      "prime\n"
     ]
    }
   ],
   "source": [
    "\n",
    "import math\n",
    "\n",
    "def is_prime(n):\n",
    "    if n <= 1:                #  1 is not prime\n",
    "        return \"not prime\"\n",
    "    elif n <=3:               #  2 and 3 are prime\n",
    "        return \"prime\"\n",
    "    else:\n",
    "        #  Check divisibility for numbers of the form 6k ± 1\n",
    "        for i in range(4, int(math.sqrt(n))+1, 6):\n",
    "            if n % i == 0:\n",
    "                return \"not prime\"\n",
    "        return \"prime\"\n",
    "\n",
    "\n",
    "num = int(input(\"Enter a number:\"))\n",
    "print(is_prime(num))\n"
   ]
  },
  {
   "cell_type": "markdown",
   "id": "f5edc5e9-4b34-4545-92ba-1f2d84d00291",
   "metadata": {},
   "source": [
    "<br>\n",
    "\n",
    "<font size=\"+1\">↳⭐</font> &nbsp; However, remember that <span style=\"background-color: #CAFEFD\">instead of importing **math** module for finding the square root of a number</span>, we can directly use &nbsp;<span style=\"background-color: #FEEBFF\"><strong><font size=\"+1\">&nbsp;n\\*\\*(1/2)&nbsp;</font></strong></span> &nbsp;&nbsp;or&nbsp;&nbsp; <span style=\"background-color: #FEEBFF\"><strong><font size=\"+1\">&nbsp;n\\*\\*0.5&nbsp;</font></strong></span> &nbsp;&nbsp;or&nbsp;&nbsp; <span style=\"background-color: #FEEBFF\"><strong><font size=\"+1\">&nbsp;n\\*\\*.5&nbsp;</font></strong></span>\n"
   ]
  },
  {
   "cell_type": "markdown",
   "id": "056e5214-29cb-4699-a465-97756dd2e12a",
   "metadata": {},
   "source": [
    "<span style=\"color: blue;\">**Solution**</span>"
   ]
  },
  {
   "cell_type": "code",
   "execution_count": 52,
   "id": "33d08269-991f-4f44-b352-a3f8392cc7fb",
   "metadata": {},
   "outputs": [
    {
     "name": "stdin",
     "output_type": "stream",
     "text": [
      "Enter a number: 5\n"
     ]
    },
    {
     "name": "stdout",
     "output_type": "stream",
     "text": [
      "prime\n"
     ]
    }
   ],
   "source": [
    "\n",
    "def is_prime(n):\n",
    "    if n <= 1:                        #  1 is not prime\n",
    "        return \"not prime\"\n",
    "    elif n <=3:                       #  2 and 3 are prime\n",
    "        return \"prime\"\n",
    "    elif n % 2 == 0 or n % 3 == 0:    #  Multiples of 2 or 3 are not prime\n",
    "        return \"not prime\"\n",
    "    else:\n",
    "        #  Check divisibility for numbers of the form 6k ± 1\n",
    "        for i in range(5, int(n**0.5)+1, 6):\n",
    "            if n % i == 0:\n",
    "                return \"not prime\"\n",
    "        return \"prime\"\n",
    "\n",
    "\n",
    "num = int(input(\"Enter a number:\"))\n",
    "print(is_prime(num))\n"
   ]
  },
  {
   "cell_type": "code",
   "execution_count": null,
   "id": "8b9102e5-4fdd-48fd-bc72-62dda19d9925",
   "metadata": {},
   "outputs": [],
   "source": []
  },
  {
   "cell_type": "markdown",
   "id": "255392f7-89ce-47b6-a264-01d3bffe6c2f",
   "metadata": {
    "jp-MarkdownHeadingCollapsed": true
   },
   "source": [
    "##### <span style=\"color: blue\">14  ===>  Write a program to reverse the order of words in a sentence. </span>"
   ]
  },
  {
   "cell_type": "markdown",
   "id": "ee6b9863-34ae-4afd-94ca-6abc1d443522",
   "metadata": {},
   "source": [
    "<br>\n",
    "\n",
    "<span style=\"color: #DCBD10\">▬▬▬▬▬▬▬▬▬▬▬▬▬▬▬▬▬▬▬▬▬▬▬▬▬▬▬▬▬▬▬▬▬▬▬▬▬▬▬▬▬▬▬▬▬▬▬▬▬▬▬▬▬▬▬▬▬▬▬▬▬▬▬▬▬▬▬▬▬▬▬▬▬▬▬▬</span>\n",
    "\n",
    "<br>\n",
    "\n",
    "<div style=\"padding: 10px; background-color: #E2FFEC\">\n",
    "\n",
    "<u>**QUESTION 14**</u> : &nbsp;&nbsp; Write a program to reverse the order of words in a sentence.\n",
    "\n",
    "</div>\n",
    "\n",
    "<br>\n",
    "\n",
    "<font size=\"+2\">↳</font>&nbsp;&nbsp;**Method - 1 :**&nbsp;&nbsp;<span style=\"background-color: yellow\">&nbsp;&nbsp;using <strong>concatenation operator <font size=\"+1\">+</font></strong>&nbsp;&nbsp;</span>\n"
   ]
  },
  {
   "cell_type": "code",
   "execution_count": 176,
   "id": "805ea486-bb0b-4a2b-bdd4-8850c498f806",
   "metadata": {},
   "outputs": [
    {
     "name": "stdin",
     "output_type": "stream",
     "text": [
      "Enter a string you want to reverse :  I am Avinash Kumar Mishra\n"
     ]
    },
    {
     "name": "stdout",
     "output_type": "stream",
     "text": [
      "Mishra Kumar Avinash am I \n"
     ]
    }
   ],
   "source": [
    "\n",
    "def find_reverse_sentence(txt):\n",
    "    words = txt.split(\" \")\n",
    "    reversed_sentence = ''\n",
    "    for word in words[::-1]:\n",
    "        reversed_sentence += word \n",
    "        reversed_sentence += \" \"\n",
    "    return reversed_sentence\n",
    "\n",
    "\n",
    "sentence = input(\"Enter a string you want to reverse : \")\n",
    "reversed_sentence = find_reverse_sentence(sentence)\n",
    "print(reversed_sentence)\n"
   ]
  },
  {
   "cell_type": "markdown",
   "id": "d2cd3425-5b66-4164-82d8-ff0bceb7f90f",
   "metadata": {},
   "source": [
    "<font size=\"+2\">↳</font>&nbsp;&nbsp;**Method - 2 :**&nbsp;&nbsp;<span style=\"background-color: yellow\">&nbsp;&nbsp;using string method <strong>separator.join(iterable)</strong>&nbsp;&nbsp;</span>"
   ]
  },
  {
   "cell_type": "code",
   "execution_count": 180,
   "id": "a7c76e96-6c9b-4032-a5bb-b160cc3bbfd4",
   "metadata": {},
   "outputs": [
    {
     "name": "stdin",
     "output_type": "stream",
     "text": [
      "Enter a string you want to reverse :  I am Avinash Kumar Mishra\n"
     ]
    },
    {
     "name": "stdout",
     "output_type": "stream",
     "text": [
      "Mishra Kumar Avinash am I\n"
     ]
    }
   ],
   "source": [
    "\n",
    "def find_reverse_sentence(txt):\n",
    "    words = txt.split(\" \")\n",
    "    reversed_sentence = \"\"\n",
    "    return \" \".join(words[::-1])\n",
    "\n",
    "\n",
    "sentence = input(\"Enter a string you want to reverse : \")\n",
    "reversed_sentence = find_reverse_sentence(sentence)\n",
    "print(reversed_sentence)\n"
   ]
  },
  {
   "cell_type": "code",
   "execution_count": null,
   "id": "aed71606-d0c9-40b2-a944-6a5aa791a55b",
   "metadata": {},
   "outputs": [],
   "source": []
  },
  {
   "cell_type": "markdown",
   "id": "cacb0b7f-79f7-4f0c-bd23-615b1cce928c",
   "metadata": {
    "jp-MarkdownHeadingCollapsed": true
   },
   "source": [
    "##### <span style=\"color: blue\">15  ===>  Write a program to count the lower and upper case characters in any text or sentence. </span>"
   ]
  },
  {
   "cell_type": "markdown",
   "id": "11871400-c7cb-4bb3-9550-51c9975cc9e1",
   "metadata": {},
   "source": [
    "<br>\n",
    "\n",
    "<span style=\"color: #DCBD10\">▬▬▬▬▬▬▬▬▬▬▬▬▬▬▬▬▬▬▬▬▬▬▬▬▬▬▬▬▬▬▬▬▬▬▬▬▬▬▬▬▬▬▬▬▬▬▬▬▬▬▬▬▬▬▬▬▬▬▬▬▬▬▬▬▬▬▬▬▬▬▬▬▬▬▬▬</span>\n",
    "\n",
    "<br>\n",
    "\n",
    "<div style=\"padding: 10px; background-color: #E2FFEC\">\n",
    "\n",
    "<u>**QUESTION 15**</u> : &nbsp;&nbsp; Write a program to count the lower and upper case characters in any text or sentence.\n",
    "\n",
    "</div>\n",
    "\n",
    "<br>\n",
    "\n",
    "<font size=\"+2\">↳</font>&nbsp;&nbsp;**Method - 1 :**&nbsp;&nbsp;<span style=\"background-color: yellow\">&nbsp;&nbsp;using python built-in function <strong>ord( )</strong>&nbsp;&nbsp;</span>\n"
   ]
  },
  {
   "cell_type": "code",
   "execution_count": 192,
   "id": "fead67da-5e66-4bfa-8775-fe6393f5f095",
   "metadata": {},
   "outputs": [],
   "source": [
    "def count_lower_upper_case(txt):\n",
    "    upper_case_count = 0\n",
    "    lower_case_count = 0\n",
    "    for chr in txt:\n",
    "        if ord(chr) >= ord('A') and ord(chr) <= ord('Z'):\n",
    "            upper_case_count += 1\n",
    "        elif ord(chr) >= ord('a') and ord(chr) <= ord('z'):\n",
    "            lower_case_count += 1\n",
    "    return upper_case_count, lower_case_count\n"
   ]
  },
  {
   "cell_type": "markdown",
   "id": "9cb7ed66-b9b2-4a81-b858-faab3b793621",
   "metadata": {},
   "source": [
    "<span style=\"color: #F802C0\">The only little problem with this method is that you have to know whether <font size=\"+1\">**ord('A') > ord('Z')**</font> or not. And similarly whether <font size=\"+1\">**ord('a') > ord('z')**</font> or not.</span>\n",
    "\n",
    "<br>\n",
    "\n",
    "<font size=\"+2\">↳</font>&nbsp;&nbsp;**Method - 2 :**&nbsp;&nbsp;<span style=\"background-color: yellow\">&nbsp;&nbsp;using python string method <strong>string.isupper( )</strong> &nbsp;and&nbsp; <strong>string.islower( )</strong>&nbsp;&nbsp;</span>"
   ]
  },
  {
   "cell_type": "code",
   "execution_count": 207,
   "id": "c0232191-2077-420a-ab52-f4c84540f1ef",
   "metadata": {},
   "outputs": [],
   "source": [
    "\n",
    "def count_lower_upper_case(txt):\n",
    "    upper_case_count = 0\n",
    "    lower_case_count = 0\n",
    "    for chr in txt:\n",
    "        if chr.isupper() is True:\n",
    "            upper_case_count += 1\n",
    "        elif chr.islower() is True:\n",
    "            lower_case_count += 1\n",
    "    return upper_case_count, lower_case_count\n",
    "    "
   ]
  },
  {
   "cell_type": "code",
   "execution_count": 208,
   "id": "6edb37c6-9741-45af-bbfb-1a161fc9267f",
   "metadata": {},
   "outputs": [
    {
     "name": "stdin",
     "output_type": "stream",
     "text": [
      "Enter a text:  I am Avinash\n"
     ]
    },
    {
     "name": "stdout",
     "output_type": "stream",
     "text": [
      "UPPER CASE COUNT = 2\n",
      "lower case count = 8\n"
     ]
    }
   ],
   "source": [
    "\n",
    "text = input(\"Enter a text: \")\n",
    "\n",
    "upper_case_count, lower_case_count = count_lower_upper_case(text)\n",
    "\n",
    "print(f\"UPPER CASE COUNT = {upper_case_count}\")\n",
    "\n",
    "print(f\"lower case count = {lower_case_count}\")\n",
    "    "
   ]
  },
  {
   "cell_type": "code",
   "execution_count": 209,
   "id": "b23f34b2-19f8-4b30-ac4d-15a08b77f786",
   "metadata": {},
   "outputs": [
    {
     "name": "stdin",
     "output_type": "stream",
     "text": [
      "Enter a text:  DATA ENGINEERING\n"
     ]
    },
    {
     "name": "stdout",
     "output_type": "stream",
     "text": [
      "UPPER CASE COUNT = 15\n",
      "lower case count = 0\n"
     ]
    }
   ],
   "source": [
    "\n",
    "text = input(\"Enter a text: \")\n",
    "\n",
    "upper_case_count, lower_case_count = count_lower_upper_case(text)\n",
    "\n",
    "print(f\"UPPER CASE COUNT = {upper_case_count}\")\n",
    "\n",
    "print(f\"lower case count = {lower_case_count}\")\n",
    "    "
   ]
  },
  {
   "cell_type": "code",
   "execution_count": 210,
   "id": "e809856e-596f-4547-afe5-78de760e5a5c",
   "metadata": {},
   "outputs": [
    {
     "name": "stdin",
     "output_type": "stream",
     "text": [
      "Enter a text:  \n"
     ]
    },
    {
     "name": "stdout",
     "output_type": "stream",
     "text": [
      "UPPER CASE COUNT = 0\n",
      "lower case count = 0\n"
     ]
    }
   ],
   "source": [
    "\n",
    "text = input(\"Enter a text: \")\n",
    "\n",
    "upper_case_count, lower_case_count = count_lower_upper_case(text)\n",
    "\n",
    "print(f\"UPPER CASE COUNT = {upper_case_count}\")\n",
    "\n",
    "print(f\"lower case count = {lower_case_count}\")\n",
    "    "
   ]
  },
  {
   "cell_type": "code",
   "execution_count": null,
   "id": "d65d17bb-0318-46ee-bf95-53968d4e8de0",
   "metadata": {},
   "outputs": [],
   "source": []
  },
  {
   "cell_type": "markdown",
   "id": "8fbd9796-b251-4c05-8e9b-8d7848903355",
   "metadata": {
    "jp-MarkdownHeadingCollapsed": true
   },
   "source": [
    "##### <span style=\"color: blue\">16  ===>  Given an array, return the resultant array i.e. result in such a way that &nbsp;<span style=\"background-color: #FAE6FF\">&nbsp;result[ i ]&nbsp;</span>&nbsp; is equal to the product of all the elements of an array except &nbsp;<span style=\"background-color: #FAE6FF\">&nbsp;array[ i ]&nbsp;</span>. </span>"
   ]
  },
  {
   "cell_type": "markdown",
   "id": "069245dc-9c2f-4bce-be9c-f3fce828e196",
   "metadata": {},
   "source": [
    "<br>\n",
    "\n",
    "<span style=\"color: #DCBD10\">▬▬▬▬▬▬▬▬▬▬▬▬▬▬▬▬▬▬▬▬▬▬▬▬▬▬▬▬▬▬▬▬▬▬▬▬▬▬▬▬▬▬▬▬▬▬▬▬▬▬▬▬▬▬▬▬▬▬▬▬▬▬▬▬▬▬▬▬▬▬▬▬▬▬▬▬</span>\n",
    "\n",
    "<br>\n",
    "\n",
    "<div style=\"padding: 10px; background-color: #E2FFEC\">\n",
    "\n",
    "<u>**QUESTION 16**</u> : &nbsp;&nbsp;Given an array, return the resultant array i.e. result in such a way that &nbsp;<span style=\"background-color: #FAE6FF\">&nbsp;result[ i ]&nbsp;</span>&nbsp; is equal to the product of all the elements of an array except &nbsp;<span style=\"background-color: #FAE6FF\">&nbsp;array[ i ]\n",
    "\n",
    "</div>\n",
    "\n",
    "<br>\n",
    "\n",
    "<font size=\"+2\">↳</font>&nbsp;&nbsp;**Method - 1**"
   ]
  },
  {
   "cell_type": "code",
   "execution_count": 223,
   "id": "a3b8eb56-a439-43a0-b1d1-8e02df97d80c",
   "metadata": {},
   "outputs": [],
   "source": [
    "\n",
    "def product_except_self(arr):\n",
    "    product = 1\n",
    "    for e in arr:\n",
    "        product *= e\n",
    "    result = []\n",
    "    for e in arr:\n",
    "        result.append(int(product / e))\n",
    "    return result\n"
   ]
  },
  {
   "cell_type": "code",
   "execution_count": 224,
   "id": "c870c11f-ac99-4ffc-a4d6-f31de6d3b9c0",
   "metadata": {},
   "outputs": [
    {
     "data": {
      "text/plain": [
       "[19200, 9600, 5760, 14400, 28800, 11520, 7200]"
      ]
     },
     "execution_count": 224,
     "metadata": {},
     "output_type": "execute_result"
    }
   ],
   "source": [
    "\n",
    "array = [3, 6, 10, 4, 2, 5, 8]\n",
    "\n",
    "product_except_self(array)\n"
   ]
  },
  {
   "cell_type": "code",
   "execution_count": 225,
   "id": "a0724c32-9743-4bbb-a7dd-c66a5c08681d",
   "metadata": {},
   "outputs": [
    {
     "ename": "ZeroDivisionError",
     "evalue": "division by zero",
     "output_type": "error",
     "traceback": [
      "\u001b[1;31m---------------------------------------------------------------------------\u001b[0m",
      "\u001b[1;31mZeroDivisionError\u001b[0m                         Traceback (most recent call last)",
      "Cell \u001b[1;32mIn[225], line 3\u001b[0m\n\u001b[0;32m      1\u001b[0m array \u001b[38;5;241m=\u001b[39m [\u001b[38;5;241m3\u001b[39m, \u001b[38;5;241m5\u001b[39m, \u001b[38;5;241m9\u001b[39m, \u001b[38;5;241m0\u001b[39m, \u001b[38;5;241m8\u001b[39m, \u001b[38;5;241m3\u001b[39m]\n\u001b[1;32m----> 3\u001b[0m \u001b[43mproduct_except_self\u001b[49m\u001b[43m(\u001b[49m\u001b[43marray\u001b[49m\u001b[43m)\u001b[49m\n",
      "Cell \u001b[1;32mIn[223], line 7\u001b[0m, in \u001b[0;36mproduct_except_self\u001b[1;34m(arr)\u001b[0m\n\u001b[0;32m      5\u001b[0m result \u001b[38;5;241m=\u001b[39m []\n\u001b[0;32m      6\u001b[0m \u001b[38;5;28;01mfor\u001b[39;00m e \u001b[38;5;129;01min\u001b[39;00m arr:\n\u001b[1;32m----> 7\u001b[0m     result\u001b[38;5;241m.\u001b[39mappend(\u001b[38;5;28mint\u001b[39m(\u001b[43mproduct\u001b[49m\u001b[43m \u001b[49m\u001b[38;5;241;43m/\u001b[39;49m\u001b[43m \u001b[49m\u001b[43me\u001b[49m))\n\u001b[0;32m      8\u001b[0m \u001b[38;5;28;01mreturn\u001b[39;00m result\n",
      "\u001b[1;31mZeroDivisionError\u001b[0m: division by zero"
     ]
    }
   ],
   "source": [
    "\n",
    "array = [3, 5, 9, 0, 8, 3]\n",
    "\n",
    "product_except_self(array)\n"
   ]
  },
  {
   "cell_type": "markdown",
   "id": "c62037d9-78a3-4fd2-ab28-ef1dd8d86977",
   "metadata": {},
   "source": [
    "<br>\n",
    "\n",
    "<font style=\"+1\"><span style=\"color: #08D126\">Let's **handle this error** and modify the error message to make it more clear :</span></font>"
   ]
  },
  {
   "cell_type": "code",
   "execution_count": 235,
   "id": "76cef1d4-fd42-4838-9f60-4e6ec1c58bf1",
   "metadata": {},
   "outputs": [],
   "source": [
    "\n",
    "def product_except_self(arr):\n",
    "    product = 1\n",
    "    for e in arr:\n",
    "        product *= e\n",
    "    result = []\n",
    "    for e in arr:\n",
    "        try:\n",
    "            result.append(int(product / e))\n",
    "        except ZeroDivisionError:\n",
    "            raise ZeroDivisionError(\"There must be atleast one element zero in the array and division by zero is not allowed.\")\n",
    "        result.append(int(product / e))\n",
    "    return result\n"
   ]
  },
  {
   "cell_type": "code",
   "execution_count": 236,
   "id": "1075960e-7003-4141-ac4d-4e5f29891407",
   "metadata": {},
   "outputs": [
    {
     "name": "stdout",
     "output_type": "stream",
     "text": [
      "Error: There must be atleast one element zero in the array and division by zero is not allowed.\n"
     ]
    }
   ],
   "source": [
    "\n",
    "array = [3, 5, 9, 0, 8, 3]\n",
    "\n",
    "try:\n",
    "    product_except_self(array)\n",
    "except ZeroDivisionError as error:\n",
    "    print(\"Error:\", error)\n",
    "    "
   ]
  },
  {
   "cell_type": "code",
   "execution_count": null,
   "id": "d1d76dfd-0089-42da-b179-ab03ad23637b",
   "metadata": {},
   "outputs": [],
   "source": []
  },
  {
   "cell_type": "markdown",
   "id": "ea21850b-9371-4ed4-adbf-6f14d1ed5f3a",
   "metadata": {
    "jp-MarkdownHeadingCollapsed": true
   },
   "source": [
    "##### <span style=\"color: blue\">17  ===>  Given an integer x, return the number of prime numbers that are strictly less than x. </span>"
   ]
  },
  {
   "cell_type": "markdown",
   "id": "d8b47b2c-34f1-4387-98cb-07b5bf1e091d",
   "metadata": {},
   "source": [
    "<br>\n",
    "\n",
    "<span style=\"color: #DCBD10\">▬▬▬▬▬▬▬▬▬▬▬▬▬▬▬▬▬▬▬▬▬▬▬▬▬▬▬▬▬▬▬▬▬▬▬▬▬▬▬▬▬▬▬▬▬▬▬▬▬▬▬▬▬▬▬▬▬▬▬▬▬▬▬▬▬▬▬▬▬▬▬▬▬▬▬▬</span>\n",
    "\n",
    "<br>\n",
    "\n",
    "<div style=\"padding: 10px; background-color: #E2FFEC\">\n",
    "\n",
    "<u>**QUESTION 17**</u> : &nbsp;&nbsp; Given an integer <font size=\"+1\"><strong>x</strong></font>, return the number of prime numbers that are strictly less than <font size=\"+1\"><strong>x</strong></font>.\n",
    "\n",
    "</div>\n",
    "\n",
    "<br>\n",
    "\n",
    "<font size=\"+2\">↳</font>&nbsp;&nbsp;**Method - 1**"
   ]
  },
  {
   "cell_type": "code",
   "execution_count": 79,
   "id": "4a25aacd-33b0-40c7-bc74-f037b3db2135",
   "metadata": {},
   "outputs": [],
   "source": [
    "\n",
    "def count_all_primes_before_n(n):\n",
    "    count = 0\n",
    "    if n == 3:\n",
    "        count = 1\n",
    "    elif n > 3:\n",
    "        for i in range(2, n):\n",
    "            is_prime = True\n",
    "            if i <= 3:\n",
    "                is_prime = True\n",
    "            elif i % 2 == 0 or i % 3 == 0:\n",
    "                is_prime = False\n",
    "            else:\n",
    "                for j in range(4, int(i**0.5) + 1, 6):\n",
    "                    if i % j == 0:\n",
    "                        is_prime = False\n",
    "                        break\n",
    "            if is_prime == True:\n",
    "                count += 1\n",
    "    return count\n"
   ]
  },
  {
   "cell_type": "code",
   "execution_count": 80,
   "id": "35b98328-2aef-4116-abc5-54c714c0c0a5",
   "metadata": {},
   "outputs": [
    {
     "name": "stdout",
     "output_type": "stream",
     "text": [
      "count of all prime numbers before 1 ====> 0 \n",
      "\n",
      "count of all prime numbers before 2 ====> 0 \n",
      "\n",
      "count of all prime numbers before 3 ====> 1 \n",
      "\n",
      "count of all prime numbers before 4 ====> 2 \n",
      "\n",
      "count of all prime numbers before 5 ====> 2 \n",
      "\n",
      "count of all prime numbers before 6 ====> 3 \n",
      "\n",
      "count of all prime numbers before 7 ====> 3 \n",
      "\n",
      "count of all prime numbers before 8 ====> 4 \n",
      "\n",
      "count of all prime numbers before 9 ====> 4 \n",
      "\n",
      "count of all prime numbers before 10 ===> 4 \n",
      "\n",
      "count of all prime numbers before 11 ===> 4 \n",
      "\n",
      "count of all prime numbers before 12 ===> 5 \n",
      "\n"
     ]
    }
   ],
   "source": [
    "\n",
    "count_all_primes_before_1 = count_all_primes(1)\n",
    "print(f\"count of all prime numbers before 1 ====> {count_all_primes_before_1} \\n\")\n",
    "\n",
    "count_all_primes_before_2 = count_all_primes(2)\n",
    "print(f\"count of all prime numbers before 2 ====> {count_all_primes_before_2} \\n\")\n",
    "\n",
    "count_all_primes_before_3 = count_all_primes(3)\n",
    "print(f\"count of all prime numbers before 3 ====> {count_all_primes_before_3} \\n\")\n",
    "\n",
    "count_all_primes_before_4 = count_all_primes(4)\n",
    "print(f\"count of all prime numbers before 4 ====> {count_all_primes_before_4} \\n\")\n",
    "\n",
    "count_all_primes_before_5 = count_all_primes(5)\n",
    "print(f\"count of all prime numbers before 5 ====> {count_all_primes_before_5} \\n\")\n",
    "\n",
    "count_all_primes_before_6 = count_all_primes(6)\n",
    "print(f\"count of all prime numbers before 6 ====> {count_all_primes_before_6} \\n\")\n",
    "\n",
    "count_all_primes_before_7 = count_all_primes(7)\n",
    "print(f\"count of all prime numbers before 7 ====> {count_all_primes_before_7} \\n\")\n",
    "\n",
    "count_all_primes_before_8 = count_all_primes(8)\n",
    "print(f\"count of all prime numbers before 8 ====> {count_all_primes_before_8} \\n\")\n",
    "\n",
    "count_all_primes_before_9 = count_all_primes(9)\n",
    "print(f\"count of all prime numbers before 9 ====> {count_all_primes_before_9} \\n\")\n",
    "\n",
    "count_all_primes_before_10 = count_all_primes(10)\n",
    "print(f\"count of all prime numbers before 10 ===> {count_all_primes_before_10} \\n\")\n",
    "\n",
    "count_all_primes_before_11 = count_all_primes(11)\n",
    "print(f\"count of all prime numbers before 11 ===> {count_all_primes_before_11} \\n\")\n",
    "\n",
    "count_all_primes_before_12 = count_all_primes(12)\n",
    "print(f\"count of all prime numbers before 12 ===> {count_all_primes_before_12} \\n\")\n"
   ]
  },
  {
   "cell_type": "markdown",
   "id": "dce51fbe-9b56-4930-bf62-fb75ccac5b33",
   "metadata": {},
   "source": [
    "<br>\n",
    "\n",
    "<span style=\"color: #F802C0\">Let us find all the resultant prime numbers strictly before a  given number</span>"
   ]
  },
  {
   "cell_type": "code",
   "execution_count": 81,
   "id": "00a61136-7437-4856-a95b-13d63a33d7c0",
   "metadata": {},
   "outputs": [],
   "source": [
    "\n",
    "def find_all_primes(n):\n",
    "    count = 0\n",
    "    prime_numbers = []\n",
    "    if n == 3:\n",
    "        count = 1\n",
    "        prime_numbers.append(2)\n",
    "    elif n > 3:\n",
    "        for i in range(2, n):\n",
    "            is_prime = True\n",
    "            if i <= 3:\n",
    "                is_prime = True\n",
    "            elif i % 2 == 0 or i % 3 == 0:\n",
    "                is_prime = False\n",
    "            else:\n",
    "                for j in range(4, int(i**0.5) + 1, 6):\n",
    "                    if i % j == 0:\n",
    "                        is_prime = False\n",
    "                        break\n",
    "            if is_prime == True:\n",
    "                count += 1\n",
    "                prime_numbers.append(i)\n",
    "    return prime_numbers, count\n"
   ]
  },
  {
   "cell_type": "code",
   "execution_count": 82,
   "id": "9f2e3b27-e07a-464d-8070-c79dfbafa824",
   "metadata": {},
   "outputs": [
    {
     "name": "stdout",
     "output_type": "stream",
     "text": [
      "count of all prime numbers before 1 ====> 0 <==== [] \n",
      "\n",
      "count of all prime numbers before 2 ====> 0 <==== [] \n",
      "\n",
      "count of all prime numbers before 3 ====> 1 <==== [2] \n",
      "\n",
      "count of all prime numbers before 4 ====> 2 <==== [2, 3] \n",
      "\n",
      "count of all prime numbers before 5 ====> 2 <==== [2, 3] \n",
      "\n",
      "count of all prime numbers before 6 ====> 3 <==== [2, 3, 5] \n",
      "\n",
      "count of all prime numbers before 7 ====> 3 <==== [2, 3, 5] \n",
      "\n",
      "count of all prime numbers before 8 ====> 4 <==== [2, 3, 5, 7] \n",
      "\n",
      "count of all prime numbers before 9 ====> 4 <==== [2, 3, 5, 7] \n",
      "\n",
      "count of all prime numbers before 10 ====> 4 <==== [2, 3, 5, 7] \n",
      "\n",
      "count of all prime numbers before 10 ====> 4 <==== [2, 3, 5, 7] \n",
      "\n",
      "count of all prime numbers before 11 ====> 4 <==== [2, 3, 5, 7] \n",
      "\n",
      "count of all prime numbers before 12 ====> 5 <==== [2, 3, 5, 7, 11] \n",
      "\n"
     ]
    }
   ],
   "source": [
    "\n",
    "all_primes_before_1, count_of_all_primes_before_1 = find_all_primes(1)\n",
    "print(f\"count of all prime numbers before 1 ====> {count_of_all_primes_before_1} <==== {all_primes_before_1} \\n\")\n",
    "\n",
    "all_primes_before_2, count_of_all_primes_before_2 = find_all_primes(2)\n",
    "print(f\"count of all prime numbers before 2 ====> {count_of_all_primes_before_2} <==== {all_primes_before_2} \\n\")\n",
    "\n",
    "all_primes_before_3, count_of_all_primes_before_3 = find_all_primes(3)\n",
    "print(f\"count of all prime numbers before 3 ====> {count_of_all_primes_before_3} <==== {all_primes_before_3} \\n\")\n",
    "\n",
    "all_primes_before_4, count_of_all_primes_before_4 = find_all_primes(4)\n",
    "print(f\"count of all prime numbers before 4 ====> {count_of_all_primes_before_4} <==== {all_primes_before_4} \\n\")\n",
    "\n",
    "all_primes_before_5, count_of_all_primes_before_5 = find_all_primes(5)\n",
    "print(f\"count of all prime numbers before 5 ====> {count_of_all_primes_before_5} <==== {all_primes_before_5} \\n\")\n",
    "\n",
    "all_primes_before_6, count_of_all_primes_before_6 = find_all_primes(6)\n",
    "print(f\"count of all prime numbers before 6 ====> {count_of_all_primes_before_6} <==== {all_primes_before_6} \\n\")\n",
    "\n",
    "all_primes_before_7, count_of_all_primes_before_7 = find_all_primes(7)\n",
    "print(f\"count of all prime numbers before 7 ====> {count_of_all_primes_before_7} <==== {all_primes_before_7} \\n\")\n",
    "\n",
    "all_primes_before_8, count_of_all_primes_before_8 = find_all_primes(8)\n",
    "print(f\"count of all prime numbers before 8 ====> {count_of_all_primes_before_8} <==== {all_primes_before_8} \\n\")\n",
    "\n",
    "all_primes_before_9, count_of_all_primes_before_9 = find_all_primes(9)\n",
    "print(f\"count of all prime numbers before 9 ====> {count_of_all_primes_before_9} <==== {all_primes_before_9} \\n\")\n",
    "\n",
    "all_primes_before_10, count_of_all_primes_before_10 = find_all_primes(10)\n",
    "print(f\"count of all prime numbers before 10 ====> {count_of_all_primes_before_10} <==== {all_primes_before_10} \\n\")\n",
    "\n",
    "all_primes_before_11, count_of_all_primes_before_11 = find_all_primes(11)\n",
    "print(f\"count of all prime numbers before 10 ====> {count_of_all_primes_before_10} <==== {all_primes_before_10} \\n\")\n",
    "\n",
    "all_primes_before_11, count_of_all_primes_before_11 = find_all_primes(11)\n",
    "print(f\"count of all prime numbers before 11 ====> {count_of_all_primes_before_11} <==== {all_primes_before_11} \\n\")\n",
    "\n",
    "all_primes_before_12, count_of_all_primes_before_12 = find_all_primes(12)\n",
    "print(f\"count of all prime numbers before 12 ====> {count_of_all_primes_before_12} <==== {all_primes_before_12} \\n\")\n"
   ]
  },
  {
   "cell_type": "markdown",
   "id": "e8c1b801-88e1-44f1-8da5-30a2560e1f1f",
   "metadata": {},
   "source": [
    "<font size=\"+2\">↳</font>&nbsp;&nbsp;**Method - 2 :** &nbsp;<span style=\"color: #F802C0\">we can also break the function into 2 meaningful functions for better readability</span>"
   ]
  },
  {
   "cell_type": "code",
   "execution_count": 83,
   "id": "00d2114d-10c3-4b41-b159-1d23289729b4",
   "metadata": {},
   "outputs": [],
   "source": [
    "\n",
    "def is_prime(n):\n",
    "    if n <= 1:                        #  1 is not prime\n",
    "        return False\n",
    "    elif n <=3:                       #  2 and 3 are prime\n",
    "        return True\n",
    "    elif n % 2 == 0 or n % 3 == 0:    #  Multiples of 2 or 3 are not prime\n",
    "        return False\n",
    "    else:\n",
    "        #  Check divisibility for numbers of the form 6k ± 1\n",
    "        for i in range(5, int(n**0.5)+1, 6):\n",
    "            if n % i == 0:\n",
    "                return False\n",
    "        return True\n",
    "\n",
    "\n",
    "\n",
    "def find_all_primes_before_n(n):\n",
    "    count = 0\n",
    "    prime_numbers = []\n",
    "    for i in range(2, n):\n",
    "        if is_prime(i) == True:\n",
    "            count += 1\n",
    "            prime_numbers.append(i)\n",
    "    return prime_numbers, count\n",
    "\n"
   ]
  },
  {
   "cell_type": "code",
   "execution_count": 84,
   "id": "d18d7ba7-a7c7-41d8-b66f-9a07786fbc4c",
   "metadata": {},
   "outputs": [
    {
     "name": "stdout",
     "output_type": "stream",
     "text": [
      "count of all prime numbers before 1 ====> 0 <==== [] \n",
      "\n",
      "count of all prime numbers before 2 ====> 0 <==== [] \n",
      "\n",
      "count of all prime numbers before 3 ====> 1 <==== [2] \n",
      "\n",
      "count of all prime numbers before 4 ====> 2 <==== [2, 3] \n",
      "\n",
      "count of all prime numbers before 5 ====> 2 <==== [2, 3] \n",
      "\n",
      "count of all prime numbers before 6 ====> 3 <==== [2, 3, 5] \n",
      "\n",
      "count of all prime numbers before 7 ====> 3 <==== [2, 3, 5] \n",
      "\n",
      "count of all prime numbers before 8 ====> 4 <==== [2, 3, 5, 7] \n",
      "\n",
      "count of all prime numbers before 9 ====> 4 <==== [2, 3, 5, 7] \n",
      "\n",
      "count of all prime numbers before 10 ====> 4 <==== [2, 3, 5, 7] \n",
      "\n",
      "count of all prime numbers before 10 ====> 4 <==== [2, 3, 5, 7] \n",
      "\n",
      "count of all prime numbers before 11 ====> 4 <==== [2, 3, 5, 7] \n",
      "\n",
      "count of all prime numbers before 12 ====> 5 <==== [2, 3, 5, 7, 11] \n",
      "\n"
     ]
    }
   ],
   "source": [
    "\n",
    "\n",
    "all_primes_before_1, count_of_all_primes_before_1 = find_all_primes_before_n(1)\n",
    "print(f\"count of all prime numbers before 1 ====> {count_of_all_primes_before_1} <==== {all_primes_before_1} \\n\")\n",
    "\n",
    "all_primes_before_2, count_of_all_primes_before_2 = find_all_primes_before_n(2)\n",
    "print(f\"count of all prime numbers before 2 ====> {count_of_all_primes_before_2} <==== {all_primes_before_2} \\n\")\n",
    "\n",
    "all_primes_before_3, count_of_all_primes_before_3 = find_all_primes_before_n(3)\n",
    "print(f\"count of all prime numbers before 3 ====> {count_of_all_primes_before_3} <==== {all_primes_before_3} \\n\")\n",
    "\n",
    "all_primes_before_4, count_of_all_primes_before_4 = find_all_primes_before_n(4)\n",
    "print(f\"count of all prime numbers before 4 ====> {count_of_all_primes_before_4} <==== {all_primes_before_4} \\n\")\n",
    "\n",
    "all_primes_before_5, count_of_all_primes_before_5 = find_all_primes_before_n(5)\n",
    "print(f\"count of all prime numbers before 5 ====> {count_of_all_primes_before_5} <==== {all_primes_before_5} \\n\")\n",
    "\n",
    "all_primes_before_6, count_of_all_primes_before_6 = find_all_primes_before_n(6)\n",
    "print(f\"count of all prime numbers before 6 ====> {count_of_all_primes_before_6} <==== {all_primes_before_6} \\n\")\n",
    "\n",
    "all_primes_before_7, count_of_all_primes_before_7 = find_all_primes_before_n(7)\n",
    "print(f\"count of all prime numbers before 7 ====> {count_of_all_primes_before_7} <==== {all_primes_before_7} \\n\")\n",
    "\n",
    "all_primes_before_8, count_of_all_primes_before_8 = find_all_primes_before_n(8)\n",
    "print(f\"count of all prime numbers before 8 ====> {count_of_all_primes_before_8} <==== {all_primes_before_8} \\n\")\n",
    "\n",
    "all_primes_before_9, count_of_all_primes_before_9 = find_all_primes_before_n(9)\n",
    "print(f\"count of all prime numbers before 9 ====> {count_of_all_primes_before_9} <==== {all_primes_before_9} \\n\")\n",
    "\n",
    "all_primes_before_10, count_of_all_primes_before_10 = find_all_primes_before_n(10)\n",
    "print(f\"count of all prime numbers before 10 ====> {count_of_all_primes_before_10} <==== {all_primes_before_10} \\n\")\n",
    "\n",
    "all_primes_before_11, count_of_all_primes_before_11 = find_all_primes_before_n(11)\n",
    "print(f\"count of all prime numbers before 10 ====> {count_of_all_primes_before_10} <==== {all_primes_before_10} \\n\")\n",
    "\n",
    "all_primes_before_11, count_of_all_primes_before_11 = find_all_primes_before_n(11)\n",
    "print(f\"count of all prime numbers before 11 ====> {count_of_all_primes_before_11} <==== {all_primes_before_11} \\n\")\n",
    "\n",
    "all_primes_before_12, count_of_all_primes_before_12 = find_all_primes_before_n(12)\n",
    "print(f\"count of all prime numbers before 12 ====> {count_of_all_primes_before_12} <==== {all_primes_before_12} \\n\")\n",
    "\n"
   ]
  },
  {
   "cell_type": "code",
   "execution_count": null,
   "id": "d5eace8a-59b1-481e-96e7-7caf46479575",
   "metadata": {},
   "outputs": [],
   "source": []
  },
  {
   "cell_type": "markdown",
   "id": "9b847b7a-1d5c-4f9b-9da6-c08fa1fdd379",
   "metadata": {},
   "source": [
    "##### <span style=\"color: blue\">18  ===>  Given a list of student details with their names and the marks they got, write a program to return details of each student whose marks are greater than the average marks. </span>\n",
    "\n"
   ]
  },
  {
   "cell_type": "markdown",
   "id": "4f6a0865-f172-44dc-93be-37dafb23ad35",
   "metadata": {},
   "source": [
    "<br>\n",
    "\n",
    "<span style=\"color: #DCBD10\">▬▬▬▬▬▬▬▬▬▬▬▬▬▬▬▬▬▬▬▬▬▬▬▬▬▬▬▬▬▬▬▬▬▬▬▬▬▬▬▬▬▬▬▬▬▬▬▬▬▬▬▬▬▬▬▬▬▬▬▬▬▬▬▬▬▬▬▬▬▬▬▬▬▬▬▬</span>\n",
    "\n",
    "<br>\n",
    "\n",
    "<div style=\"padding: 10px; background-color: #E2FFEC\">\n",
    "\n",
    "<u>**QUESTION 18**</u> : &nbsp;Given a list of students' details in a classroom with their names and the marks they got.\n",
    "\n",
    "Write a program to return students’ details whose marks are greater than the average marks in the classroom.\n",
    "\n",
    "</div>\n",
    "\n",
    "<br>\n",
    "\n",
    "<font size=\"+2\">↳</font>&nbsp;&nbsp;**Method - 1**"
   ]
  },
  {
   "cell_type": "code",
   "execution_count": 125,
   "id": "1ce9921d-7b1f-4ab1-aa11-2d17cdd50b9f",
   "metadata": {},
   "outputs": [
    {
     "name": "stdout",
     "output_type": "stream",
     "text": [
      "\n",
      "Students above average marks (88.0) =====> [('Mahendra', 90), ('Sam', 92), ('Tarun', 96), ('Rakesh', 90)] \n",
      "\n"
     ]
    }
   ],
   "source": [
    "\n",
    "def find_avg_marks(students):\n",
    "    count = 0\n",
    "    total_marks = 0\n",
    "    for s in students:\n",
    "        count = count + 1\n",
    "        total_marks += s[1]\n",
    "    avg_marks = total_marks / count\n",
    "    # avg_marks = total_marks / len(students)  ==> Why to use another loop to find the length when we could have counted within the earlier loop itself?\n",
    "    return avg_marks\n",
    "\n",
    "\n",
    "def find_students_above_avg_marks(students):\n",
    "    avg_marks = find_avg_marks(students)\n",
    "    students_above_avg_marks = []\n",
    "    for s in students:\n",
    "        if s[1] > avg_marks:\n",
    "            students_above_avg_marks.append(s)\n",
    "    return avg_marks, students_above_avg_marks\n",
    "\n",
    "\n",
    "students = [('Mahendra', 90), ('Mahi', 78), ('Varun', 87), ('Sam',92), ('Ishak',83), ('Tarun',96), ('Rakesh',90)]\n",
    "\n",
    "avg_marks, students_above_avg_marks = find_students_above_avg_marks(students)\n",
    "\n",
    "print(f\"\\nStudents above average marks ({avg_marks}) =====> {students_above_avg_marks} \\n\")\n"
   ]
  },
  {
   "cell_type": "markdown",
   "id": "515f483a-6525-449e-8cda-ecf001548437",
   "metadata": {},
   "source": [
    "<font size=\"+2\">↳</font>&nbsp;&nbsp;**Method - 2** :&nbsp;&nbsp;<span style=\"background-color: yellow\">&nbsp;&nbsp;using <span style=\"color: red\">**reduce( )**</span> <font size=\"+1\"><strong>,</strong></font> <span style=\"color: red\">**filter( )**</span> and <span style=\"color: red\">**lambda**</span> functions&nbsp;&nbsp;</span>"
   ]
  },
  {
   "cell_type": "code",
   "execution_count": 127,
   "id": "d7b82375-4a27-422e-b5cd-23fb964732a4",
   "metadata": {},
   "outputs": [
    {
     "name": "stdout",
     "output_type": "stream",
     "text": [
      "\n",
      "Students above average marks (88.0) =====> [('Mahendra', 90), ('Sam', 92), ('Tarun', 96), ('Rakesh', 90)] \n",
      "\n"
     ]
    }
   ],
   "source": [
    "\n",
    "from functools import reduce\n",
    "\n",
    "\n",
    "students = [('Mahendra', 90), ('Mahi', 78), ('Varun', 87), ('Sam',92), ('Ishak',83), ('Tarun',96), ('Rakesh',90)]\n",
    "\n",
    "\n",
    "# Calculate average marks\n",
    "avg_marks = reduce(lambda x, y: x + y[1], students, 0) / len(students)\n",
    "\n",
    "\n",
    "students_above_avg_marks = list(filter(lambda x: x if x[1] > avg_marks else False , students))\n",
    "\n",
    "\n",
    "print(f\"\\nStudents above average marks ({avg_marks}) =====> {students_above_avg_marks} \\n\")\n"
   ]
  },
  {
   "cell_type": "code",
   "execution_count": null,
   "id": "7c03d375-7bdd-46c0-b7d8-179c713db0ca",
   "metadata": {},
   "outputs": [],
   "source": []
  },
  {
   "cell_type": "code",
   "execution_count": null,
   "id": "e3ce70b2-7474-443c-9ec2-9bb8d9e953d2",
   "metadata": {},
   "outputs": [],
   "source": []
  },
  {
   "cell_type": "code",
   "execution_count": null,
   "id": "f2e52829-f667-4da5-9ea3-b4aa9c7c08ad",
   "metadata": {},
   "outputs": [],
   "source": []
  },
  {
   "cell_type": "code",
   "execution_count": null,
   "id": "3f12d3d8-649d-48d6-b7d6-f5ac30040060",
   "metadata": {},
   "outputs": [],
   "source": []
  },
  {
   "cell_type": "code",
   "execution_count": null,
   "id": "199289d6-f026-482e-9103-9f60856daa8a",
   "metadata": {},
   "outputs": [],
   "source": []
  },
  {
   "cell_type": "code",
   "execution_count": null,
   "id": "a2f7c4c0-f17c-4539-8e17-72f6ee6cc600",
   "metadata": {},
   "outputs": [],
   "source": []
  },
  {
   "cell_type": "code",
   "execution_count": null,
   "id": "4d824f53-0b9b-4a37-ba1b-d7d835406e9e",
   "metadata": {},
   "outputs": [],
   "source": []
  },
  {
   "cell_type": "markdown",
   "id": "ecddc9d3-5f3e-48b9-8387-327e5d2c4a2e",
   "metadata": {},
   "source": [
    "<br>\n",
    "\n",
    "<span style=\"color: blue\"> █ █ █ █ █ █ █ █ █ █ █ █ █ █ █ █ █ █ █ █ █ █ █ █ █ █ █ █ █ █  █ █ █ █ █ █ █ █ █ █ █ █ █ █ █ █ █ █ █ █ █ █ █ █  █ █ █ █ █ █ █ █ █ █ █ █ █ █ █ █ █ █ █ █ █ █ █ █  </span>\n",
    "\n",
    "<br>"
   ]
  },
  {
   "cell_type": "code",
   "execution_count": null,
   "id": "79d78dba-94b6-47ba-906a-74dc52e2b84f",
   "metadata": {},
   "outputs": [],
   "source": []
  },
  {
   "cell_type": "code",
   "execution_count": null,
   "id": "be2696a7-4e1b-4931-8750-dd1cdf742ce2",
   "metadata": {},
   "outputs": [],
   "source": []
  },
  {
   "cell_type": "code",
   "execution_count": null,
   "id": "76293ee4-0744-4ea9-bc86-c365e9185301",
   "metadata": {},
   "outputs": [],
   "source": []
  },
  {
   "cell_type": "code",
   "execution_count": null,
   "id": "81b1074d-8da5-42fb-94e8-21fc473e871d",
   "metadata": {},
   "outputs": [],
   "source": []
  },
  {
   "cell_type": "code",
   "execution_count": null,
   "id": "19150e6e-d858-47a1-9c5d-9cd89fbd1035",
   "metadata": {},
   "outputs": [],
   "source": []
  },
  {
   "cell_type": "code",
   "execution_count": null,
   "id": "f9e8c235-a820-4447-bf82-bea8aee21a09",
   "metadata": {},
   "outputs": [],
   "source": []
  }
 ],
 "metadata": {
  "kernelspec": {
   "display_name": "Python 3 (ipykernel)",
   "language": "python",
   "name": "python3"
  },
  "language_info": {
   "codemirror_mode": {
    "name": "ipython",
    "version": 3
   },
   "file_extension": ".py",
   "mimetype": "text/x-python",
   "name": "python",
   "nbconvert_exporter": "python",
   "pygments_lexer": "ipython3",
   "version": "3.11.3"
  }
 },
 "nbformat": 4,
 "nbformat_minor": 5
}
