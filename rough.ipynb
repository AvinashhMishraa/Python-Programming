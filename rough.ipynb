{
 "cells": [
  {
   "cell_type": "markdown",
   "id": "0bb795e7-9f70-4bce-8aca-82c1e66ebda4",
   "metadata": {
    "jp-MarkdownHeadingCollapsed": true
   },
   "source": [
    "##### WHAT NEXT TO DO?"
   ]
  },
  {
   "cell_type": "markdown",
   "id": "6812c971-87ad-4e6f-89a8-0b56bfc7fabf",
   "metadata": {},
   "source": [
    "<br>\n",
    "\n",
    "https://www.youtube.com/watch?v=Vb1v6s5x6Ow   **(complete roadmap)**\n",
    "\n",
    "**Every Python Function** (Tech With Tim) : https://www.youtube.com/playlist?list=PLzMcBGfZo4-lOXGKoV-sIPKD7MOuHp3_Q\n",
    "\n",
    "**Python Data Classes Are AMAZING! Here's Why** (Tech With Tim) : https://www.youtube.com/watch?v=5mMpM8zK4pY\n",
    "\n",
    "**10 Python Comprehensions You SHOULD Be Using** (Tech With Tim) : https://www.youtube.com/watch?v=twxE0dEp3qQ\n",
    "\n",
    "**Python 101: Learn These 5 Must-Know HIDDEN Features** (Tech With Tim) : https://www.youtube.com/watch?v=nrN3Gq1A92Y&list=LL&index=8&t=300s\n",
    "\n",
    "**5 Useful F-String Tricks In Python** (Indently)  :  https://www.youtube.com/watch?v=EoNOWVYKyo0&list=LL&index=2\n",
    "\n",
    "**5 Uncommon Python Features I Love** (Indently)  :  https://www.youtube.com/watch?v=sQ1Q96-Vhjk\n",
    "\n",
    "**5 Good Python Habits** (Indently)  :   https://youtu.be/I72uD8ED73U?list=PL4KX3oEgJcfeKzc-v2nD-KzTSELlNyafC\n",
    "\n",
    "**Modern Python logging** (mCoding) :   https://www.youtube.com/watch?v=9L77QExPmI0\n",
    "\n",
    "**Python dataclasses will save you HOURS, also featuring attrs** (mCoding) :    https://www.youtube.com/watch?v=vBH6GRJ1REM\n",
    "\n",
    "\n",
    "**request library in python**\n",
    "\n",
    "**pandas**\n",
    "\n",
    "**numpy**\n",
    "\n",
    "**matplotlib**\n",
    "\n",
    "**EDA**\n",
    "\n",
    "**Statistics and Probablity**"
   ]
  },
  {
   "cell_type": "code",
   "execution_count": null,
   "id": "51dbe9aa-c18e-402d-929a-a4b2db39361b",
   "metadata": {},
   "outputs": [],
   "source": []
  },
  {
   "cell_type": "code",
   "execution_count": null,
   "id": "04d81616-5636-4484-ad44-20cf4973bb1d",
   "metadata": {},
   "outputs": [],
   "source": [
    "PROJECT IDEAS:\n",
    "1) Virat Kohli Cricket Career Dashboarding"
   ]
  },
  {
   "cell_type": "code",
   "execution_count": null,
   "id": "e544dab2-b599-446b-8db5-6e713965b704",
   "metadata": {},
   "outputs": [],
   "source": []
  },
  {
   "cell_type": "markdown",
   "id": "9b923395-088c-4196-a15e-517509470258",
   "metadata": {},
   "source": [
    "Collections in python"
   ]
  },
  {
   "cell_type": "code",
   "execution_count": null,
   "id": "4252b951-035e-4d5e-9727-7ef2a4a28348",
   "metadata": {},
   "outputs": [],
   "source": []
  },
  {
   "cell_type": "markdown",
   "id": "c6d60937-d45f-40ff-a55a-c5a950531f03",
   "metadata": {},
   "source": [
    " Here is a list of some of the most commonly used built-in modules in Python:\n",
    "\n",
    "**builtins**: Contains built-in functions, exceptions, and constants available in all Python code.         <br>\n",
    "**math**: Provides mathematical functions and constants.                                                   <br>\n",
    "**random**: Generates pseudo-random numbers and manages random selections.                                 <br>\n",
    "**datetime**: Manipulates dates, times, and time intervals.                                                <br>\n",
    "**os**: Interacts with the operating system, such as file and directory manipulation.                      <br>\n",
    "**sys**: Provides access to system-specific parameters and functions.                                      <br>\n",
    "**re**: Supports regular expressions for pattern matching and search operations.                           <br>\n",
    "**json**: Serializes and deserializes JSON (JavaScript Object Notation) data.                              <br>\n",
    "**csv**: Reads and writes CSV (comma-separated values) files.                                              <br>\n",
    "**sqlite3**: Interfaces with SQLite databases.                                                             <br>\n",
    "<span style=\"background-color: yellow\">**Collections**</span>: Contains specialized container data types, such as Counter and defaultdict.               <br>\n",
    "<span style=\"background-color: yellow\">**itertools**</span>: Offers functions for creating iterators and combinatorial generators.                       <br>\n",
    "<span style=\"background-color: yellow\">**functools**</span>: Provides higher-order functions and operations on callable objects.                         <br>\n",
    "**subprocess**: Spawns new processes and manages their execution.                                          <br>\n",
    "**io**: Implements tools for working with streams of data.                                                 <br>\n",
    "**pickle**: Serializes and deserializes Python objects.                                                    <br>\n",
    "**hashlib**: Calculates hash digests of data.                                                              <br>                **socket**: Supports networking operations, such as creating client and server sockets.                    <br>\n",
    "**urllib**: Handles URL parsing and retrieval of data from URLs.                                           <br>\n",
    "**xml**: Supports XML (Extensible Markup Language) processing.                                             <br>\n",
    "**email**: Parses, constructs, and sends email messages.                                                   <br>\n",
    "**logging**: Provides a flexible logging system for Python applications.                                   <br>\n",
    "**multiprocessing**: Supports multiprocessing and concurrent execution.                                    <br>\n",
    "**threading**: Implements threading for concurrent execution within a single process.                      <br>\n",
    "**argparse**: Parses command-line arguments and options.                                                   <br>\n",
    "**unittest**: Provides a framework for writing and running unit tests.                                     <br>\n",
    "**gzip, zipfile, tarfile**: Handle compression and archive file formats.                                   <br>\n",
    "**platform**: Retrieves information about the Python runtime environment and platform.                     "
   ]
  },
  {
   "cell_type": "code",
   "execution_count": null,
   "id": "9b81be9d-12ec-476b-81ba-760cc41f2ba9",
   "metadata": {},
   "outputs": [],
   "source": []
  },
  {
   "cell_type": "code",
   "execution_count": null,
   "id": "e5a928c8-7e3d-4bbd-9ffa-d0608adab386",
   "metadata": {},
   "outputs": [],
   "source": []
  },
  {
   "cell_type": "code",
   "execution_count": null,
   "id": "002c7485-7e72-4d3e-98e3-22fb33cf9b31",
   "metadata": {},
   "outputs": [],
   "source": []
  },
  {
   "cell_type": "code",
   "execution_count": null,
   "id": "d4ace34b-86b2-4b28-afaf-06a7c67e3beb",
   "metadata": {},
   "outputs": [],
   "source": []
  },
  {
   "cell_type": "code",
   "execution_count": null,
   "id": "84a7fb23-da90-4402-927b-eb04ae51f349",
   "metadata": {},
   "outputs": [],
   "source": []
  },
  {
   "cell_type": "markdown",
   "id": "5973c6d7-a4a0-454a-a446-4283b775f83a",
   "metadata": {
    "jp-MarkdownHeadingCollapsed": true
   },
   "source": [
    "##### <span style=\"color: blue\">1 ===> Write a program to find the square of the largest element in an array. </span>"
   ]
  },
  {
   "cell_type": "markdown",
   "id": "aacce4bb-8a76-41a0-aa63-1998c0a131fe",
   "metadata": {},
   "source": [
    "<br>\n",
    "\n",
    "<span style=\"color: #DCBD10\">▬▬▬▬▬▬▬▬▬▬▬▬▬▬▬▬▬▬▬▬▬▬▬▬▬▬▬▬▬▬▬▬▬▬▬▬▬▬▬▬▬▬▬▬▬▬▬▬▬▬▬▬▬▬▬▬▬▬▬▬▬▬▬▬▬▬▬▬▬▬▬▬▬▬▬▬</span>\n",
    "\n",
    "<br>\n",
    "\n",
    "<div style=\"padding: 10px; background-color: #E2FFEC\">\n",
    "\n",
    "<u>**QUESTION 1**</u>: &nbsp;&nbsp;Write a program to find the square of the **largest** element in an array.\n",
    "\n",
    "</div>\n",
    "\n",
    "<br>\n",
    "\n",
    "**Method-1** ( <span style=\"background-color: yellow\">&nbsp;using built-in function **max( )**&nbsp;</span> )"
   ]
  },
  {
   "cell_type": "code",
   "execution_count": 76,
   "id": "f2eda8b5-b207-46f0-842f-1d8431d0e7b7",
   "metadata": {},
   "outputs": [
    {
     "name": "stdout",
     "output_type": "stream",
     "text": [
      "64\n"
     ]
    }
   ],
   "source": [
    "\n",
    "def find_squared_largest(arr):\n",
    "    return max(arr) * 2\n",
    "\n",
    "\n",
    "array = [10, 5, 8, 20, 3, 9, 6, 32, 26]\n",
    "\n",
    "result = find_squared_largest(array)\n",
    "\n",
    "print(result)    #  32 * 2 = 64\n"
   ]
  },
  {
   "cell_type": "markdown",
   "id": "3449f0a7-76e6-4394-bb80-0e1eeedbcbdd",
   "metadata": {},
   "source": [
    "**Method-2** ( <span style=\"background-color: yellow\">&nbsp;using list method **list.sort( )**&nbsp;</span> )"
   ]
  },
  {
   "cell_type": "code",
   "execution_count": 78,
   "id": "40c0cbef-4b8a-48b3-a488-7ccf5449caab",
   "metadata": {},
   "outputs": [
    {
     "name": "stdout",
     "output_type": "stream",
     "text": [
      "64\n"
     ]
    }
   ],
   "source": [
    "\n",
    "def find_squared_largest(arr):\n",
    "    arr.sort()\n",
    "    return arr[-1] * 2\n",
    "\n",
    "\n",
    "array = [10, 5, 8, 20, 3, 9, 6, 32, 26]\n",
    "\n",
    "result = find_squared_largest(array)\n",
    "\n",
    "print(result)    #  32 * 2 = 64\n"
   ]
  },
  {
   "cell_type": "markdown",
   "id": "2452d164-507c-4d5f-b07e-a7c90ce3bf8b",
   "metadata": {},
   "source": [
    "**Method-3** ( <span style=\"background-color: yellow\">&nbsp;without using any function&nbsp;</span> )"
   ]
  },
  {
   "cell_type": "code",
   "execution_count": 79,
   "id": "97e5c5c3-58fa-4919-9611-0732b729355f",
   "metadata": {},
   "outputs": [
    {
     "name": "stdout",
     "output_type": "stream",
     "text": [
      "64\n"
     ]
    }
   ],
   "source": [
    "\n",
    "def find_squared_largest(arr):\n",
    "    largest = arr[0]\n",
    "    for e in arr:\n",
    "        if e > largest:\n",
    "            largest = e\n",
    "    return largest * 2\n",
    "\n",
    "\n",
    "array = [10, 5, 8, 20, 3, 9, 6, 32, 26]\n",
    "\n",
    "result = find_squared_largest(array)\n",
    "\n",
    "print(result)   #  32 * 2 = 64\n",
    "    "
   ]
  },
  {
   "cell_type": "code",
   "execution_count": null,
   "id": "c11eb9d3-5b77-4f53-a594-8f36acba00b9",
   "metadata": {},
   "outputs": [],
   "source": []
  },
  {
   "cell_type": "markdown",
   "id": "543e9ed5-2a86-493e-9bc0-c6eafa7c8780",
   "metadata": {
    "jp-MarkdownHeadingCollapsed": true
   },
   "source": [
    "##### <span style=\"color: blue\">2A ===> Write a program to find the square of the 2nd largest element in an array. </span>"
   ]
  },
  {
   "cell_type": "markdown",
   "id": "be8d1673-2bce-4d3c-a7ee-71e3108c6e6c",
   "metadata": {},
   "source": [
    "<br>\n",
    "\n",
    "<span style=\"color: #DCBD10\">▬▬▬▬▬▬▬▬▬▬▬▬▬▬▬▬▬▬▬▬▬▬▬▬▬▬▬▬▬▬▬▬▬▬▬▬▬▬▬▬▬▬▬▬▬▬▬▬▬▬▬▬▬▬▬▬▬▬▬▬▬▬▬▬▬▬▬▬▬▬▬▬▬▬▬▬</span>\n",
    "\n",
    "<br>\n",
    "\n",
    "<div style=\"padding: 10px; background-color: #E2FFEC\">\n",
    "\n",
    "<u>**QUESTION 2A**</u>: &nbsp;&nbsp;Write a program to find the square of the **2nd largest** element in an array.\n",
    "\n",
    "</div>\n",
    "\n",
    "<br>\n",
    "\n",
    "**Method-1** ( <span style=\"background-color: yellow\">&nbsp;with sorting - <strong>O(nlogn)</strong>&nbsp;</span> )\n",
    "\n",
    "<font size=\"+2\"><span style=\"color: red\">↳</span></font>&nbsp;&nbsp;<span style=\"color: #03E33D\">**CASE - 1** :</span> <span style=\"color: #F802C0\">Array With No Duplicate Elements</span>\n"
   ]
  },
  {
   "cell_type": "code",
   "execution_count": 125,
   "id": "716d9061-d95b-42e2-b0f8-b71d09c9e869",
   "metadata": {},
   "outputs": [
    {
     "name": "stdout",
     "output_type": "stream",
     "text": [
      "676\n"
     ]
    }
   ],
   "source": [
    "\n",
    "def find_squared_2nd_largest(arr):\n",
    "    if len(arr) > 1:\n",
    "        arr.sort()     # Time Complexity ===> O(nlogn)\n",
    "        return arr[-2] ** 2\n",
    "    else:\n",
    "        return \"List should have at least two elements\"\n",
    "\n",
    "\n",
    "array = [10, 5, 8, 20, 3, 9, 6, 32, 26]\n",
    "\n",
    "result = find_squared_2nd_largest(array)\n",
    "\n",
    "print(result)    # 26 * 26 = 676\n"
   ]
  },
  {
   "cell_type": "markdown",
   "id": "255db20e-4dff-4cea-8371-ba8799719dba",
   "metadata": {},
   "source": [
    "<font size=\"+2\"><span style=\"color: red\">↳</span></font>&nbsp;&nbsp;<span style=\"color: #03E33D\">**CASE - 2** :</span> <span style=\"color: #F802C0\">Array With Duplicate Elements</span>"
   ]
  },
  {
   "cell_type": "code",
   "execution_count": 119,
   "id": "52c58dbb-bcd5-4752-acb0-1b1f4aa5808a",
   "metadata": {},
   "outputs": [
    {
     "name": "stdout",
     "output_type": "stream",
     "text": [
      "676\n"
     ]
    }
   ],
   "source": [
    "\n",
    "def find_squared_2nd_largest(arr):\n",
    "    if len(arr) < 2:\n",
    "        return \"List should have at least two elements\"\n",
    "\n",
    "    unique_arr = list(set(arr))          # Remove duplicates if any\n",
    "    unique_arr.sort(reverse = True)      # Time Complexity ===> O(nlogn)\n",
    "\n",
    "    if len(unique_arr) < 2:\n",
    "        return \"No second largest element\"\n",
    "    else:\n",
    "        return unique_arr[1] ** 2\n",
    "\n",
    "\n",
    "\n",
    "array = [10, 5, 8, 20, 3, 9, 6, 32, 26, 32, 32]\n",
    "\n",
    "result = find_squared_2nd_largest(array)\n",
    "\n",
    "print(result)    # 26 * 26 = 676\n"
   ]
  },
  {
   "cell_type": "markdown",
   "id": "004f44c1-c65d-445e-b4ff-fa7d178cb52f",
   "metadata": {},
   "source": [
    "**Method-2** ( <span style=\"background-color: yellow\">&nbsp;without sorting - <strong>O(n)</strong>&nbsp;</span> )\n",
    "\n",
    "<span style=\"color: #F802C0\">It works for any array irrespective of duplicates or no duplicates</span>"
   ]
  },
  {
   "cell_type": "code",
   "execution_count": 155,
   "id": "d80aeb6d-3d12-462e-b87d-75c8e6f3c3af",
   "metadata": {},
   "outputs": [],
   "source": [
    "\n",
    "def find_squared_2nd_largest(arr):\n",
    "    if len(arr) < 2:\n",
    "        return \"List should have at least two elements\"\n",
    "    else:\n",
    "        largest = float('-inf')\n",
    "        second_largest = float('inf')\n",
    "        for e in arr:\n",
    "            if e > largest:\n",
    "                second_largest = largest\n",
    "                largest = e\n",
    "            elif e < largest and e > second_largest:\n",
    "                second_largest = e\n",
    "        return second_largest ** 2\n"
   ]
  },
  {
   "cell_type": "code",
   "execution_count": 156,
   "id": "75c21dad-9117-42a1-b5ef-6ac07b20c6bc",
   "metadata": {},
   "outputs": [
    {
     "name": "stdout",
     "output_type": "stream",
     "text": [
      "676\n",
      "676\n",
      "25\n",
      "25\n"
     ]
    }
   ],
   "source": [
    "\n",
    "array1 = [10, 5, 8, 20, 3, 9, 6, 32, 26]        # With No Duplicates =====> 26 ** 2 = 676\n",
    "array2 = [10, 5, 8, 20, 3, 9, 6, 32, 26, 32]    # With Duplicates    =====> 26 ** 2 = 676\n",
    "\n",
    "array3 = [5, 2, 4, 3, 9, 0]                     # =====>  5 ** 2 =  25\n",
    "array4 = [2, 5, 4, 3, 9, 0]                     # =====>  5 ** 2 = 25\n",
    "\n",
    "\n",
    "result1 = find_squared_2nd_largest(array1)\n",
    "print(result1)\n",
    "\n",
    "result2 = find_squared_2nd_largest(array2)\n",
    "print(result2)\n",
    "\n",
    "result3 = find_squared_2nd_largest(array3)\n",
    "print(result3)\n",
    "\n",
    "result4 = find_squared_2nd_largest(array4)\n",
    "print(result4)\n"
   ]
  },
  {
   "cell_type": "code",
   "execution_count": null,
   "id": "e38aac05-be36-4d04-a07e-5467b9043a54",
   "metadata": {},
   "outputs": [],
   "source": []
  },
  {
   "cell_type": "markdown",
   "id": "fe48826c-2ae8-480c-9a2c-fe3cc2549b3c",
   "metadata": {
    "jp-MarkdownHeadingCollapsed": true
   },
   "source": [
    "##### <span style=\"color: blue\">2B ===> Write a program to find the second-largest negative number in a list. </span>"
   ]
  },
  {
   "cell_type": "markdown",
   "id": "ca4a231d-8c98-430e-8f11-289257d3d037",
   "metadata": {},
   "source": [
    "<br>\n",
    "\n",
    "<span style=\"color: #DCBD10\">▬▬▬▬▬▬▬▬▬▬▬▬▬▬▬▬▬▬▬▬▬▬▬▬▬▬▬▬▬▬▬▬▬▬▬▬▬▬▬▬▬▬▬▬▬▬▬▬▬▬▬▬▬▬▬▬▬▬▬▬▬▬▬▬▬▬▬▬▬▬▬▬▬▬▬▬</span>\n",
    "\n",
    "<br>\n",
    "\n",
    "<div style=\"padding: 10px; background-color: #E2FFEC\">\n",
    "\n",
    "<u>**QUESTION 2B**</u> : &nbsp;&nbsp;Write a program to find the square of the **2nd largest negative number** in an array.\n",
    "\n",
    "</div>\n",
    "\n",
    "<br>\n",
    "\n",
    "Let's do it directly <span style=\"background-color: yellow\">&nbsp;without sorting - <strong>O(n)</strong>&nbsp;</span> because it is the optimized solution \n"
   ]
  },
  {
   "cell_type": "code",
   "execution_count": 158,
   "id": "918ad5a6-bc9d-484f-a40e-d7ba61ef25de",
   "metadata": {},
   "outputs": [],
   "source": [
    "\n",
    "def find_2nd_largest_negative(arr):\n",
    "    if len(arr) < 2:\n",
    "        return \"List should have at least two elements\"\n",
    "    else:\n",
    "        largest_negative = float('-inf')\n",
    "        second_largest_negative = float('-inf')\n",
    "    \n",
    "        for e in arr:\n",
    "            if e < 0:\n",
    "                if e > largest_negative:\n",
    "                    second_largest_negative = largest_negative\n",
    "                    largest_negative = e\n",
    "                elif e < largest_negative and e > second_largest_negative:\n",
    "                    second_largest_negative = e\n",
    "        return second_largest_negative\n"
   ]
  },
  {
   "cell_type": "code",
   "execution_count": 159,
   "id": "b396a84b-475c-4fb3-b334-f1d0c3cfcf98",
   "metadata": {},
   "outputs": [
    {
     "name": "stdout",
     "output_type": "stream",
     "text": [
      "-4\n"
     ]
    }
   ],
   "source": [
    "\n",
    "array = [1, 2, -6, 4, -2, -4, 0, 9, -100]\n",
    "\n",
    "result = find_2nd_largest_negative(array)\n",
    "\n",
    "print(result)\n"
   ]
  },
  {
   "cell_type": "code",
   "execution_count": 162,
   "id": "8fae0492-dc36-48f9-9cd0-b58f2edf3fff",
   "metadata": {},
   "outputs": [
    {
     "name": "stdout",
     "output_type": "stream",
     "text": [
      "-inf\n"
     ]
    }
   ],
   "source": [
    "\n",
    "array = [1, 2, 6, 4, 2, 4, 0, 9, -100]      # When there is only one negative number\n",
    "\n",
    "result = find_2nd_largest_negative(array)\n",
    "\n",
    "print(result)\n"
   ]
  },
  {
   "cell_type": "code",
   "execution_count": null,
   "id": "769f24f8-3e69-457a-9f8d-c775fe19946e",
   "metadata": {},
   "outputs": [],
   "source": []
  },
  {
   "cell_type": "markdown",
   "id": "b119b971-c689-4ce1-a31f-7188e373f3a7",
   "metadata": {
    "jp-MarkdownHeadingCollapsed": true
   },
   "source": [
    "##### <span style=\"color: blue\">2C  ===>  Given an unsorted array of distinct integers. Find the largest pair sum in it.</span>"
   ]
  },
  {
   "cell_type": "markdown",
   "id": "ba516eaa-aaec-4554-9ec3-60d3878b5d57",
   "metadata": {},
   "source": [
    "<br>\n",
    "\n",
    "<span style=\"color: #DCBD10\">▬▬▬▬▬▬▬▬▬▬▬▬▬▬▬▬▬▬▬▬▬▬▬▬▬▬▬▬▬▬▬▬▬▬▬▬▬▬▬▬▬▬▬▬▬▬▬▬▬▬▬▬▬▬▬▬▬▬▬▬▬▬▬▬▬▬▬▬▬▬▬▬▬▬▬▬</span>\n",
    "\n",
    "<br>\n",
    "\n",
    "<div style=\"padding: 10px; background-color: #E2FFEC\">\n",
    "\n",
    "<U>**QUESTION 2C**</U> : &nbsp;Given an **unsorted array of distinct integers**. Find the **largest pair sum** in it.\n",
    "\n",
    "</div>\n",
    "\n",
    "<br>\n",
    "\n",
    "**Method-1** ( <span style=\"background-color: yellow\">&nbsp;with sorting - <strong>O(nlogn)</strong>&nbsp;</span> )\n",
    "\n",
    "<font size=\"+2\"><span style=\"color: red\">↳</span></font>&nbsp;&nbsp;<span style=\"color:  #F802C0\">largest_<strong>pair</strong>_sum( )</span> \n"
   ]
  },
  {
   "cell_type": "code",
   "execution_count": 120,
   "id": "c564cfe1-87da-45b8-bfa1-6262a548fd6e",
   "metadata": {},
   "outputs": [],
   "source": [
    "\n",
    "def largest_pair_sum(arr):\n",
    "    if len(arr) < 2:\n",
    "        return \"List should have at least two elements\"\n",
    "\n",
    "    unique_arr = list(set(arr))\n",
    "    unique_arr.sort(reverse = True)\n",
    "\n",
    "    if len(unique_arr) < 2:\n",
    "        return \"No second largest element to sum up with the largest element\"\n",
    "    else:\n",
    "        return unique_arr[0], unique_arr[1], unique_arr[0] + unique_arr[1]\n"
   ]
  },
  {
   "cell_type": "markdown",
   "id": "4cb08df7-8d9c-4739-a765-59a18a788936",
   "metadata": {},
   "source": [
    "<span style=\"color: blue\">Array Without Duplicates</span>&nbsp;<span style=\"color: blue\"><font size=\"+2\">↴</font>&nbsp;</span>"
   ]
  },
  {
   "cell_type": "code",
   "execution_count": 124,
   "id": "4e20a07b-63bc-4ca3-b4b2-03787c0eb2db",
   "metadata": {},
   "outputs": [
    {
     "name": "stdout",
     "output_type": "stream",
     "text": [
      "largest : 32\n",
      "second largest : 26\n",
      "largest pair sum = 58\n"
     ]
    }
   ],
   "source": [
    "\n",
    "array = [10, 5, 8, 20, 3, 9, 6, 32, 26, 32] \n",
    "\n",
    "largest, second_largest, result = largest_pair_sum(array)\n",
    "\n",
    "print(\"largest :\", largest)\n",
    "print(\"second largest :\", second_largest)\n",
    "print(\"largest pair sum =\", result)        # displaying the sum  \n"
   ]
  },
  {
   "cell_type": "markdown",
   "id": "74e45f81-137b-46a4-bf15-a44b13af815f",
   "metadata": {},
   "source": [
    "<span style=\"color: blue\">Array With Duplicates</span>&nbsp;<span style=\"color: blue\"><font size=\"+2\">↴</font>&nbsp;</span>"
   ]
  },
  {
   "cell_type": "code",
   "execution_count": 123,
   "id": "9e2e09aa-af5b-42a0-802f-415fcc3f92ef",
   "metadata": {},
   "outputs": [
    {
     "name": "stdout",
     "output_type": "stream",
     "text": [
      "largest : 32\n",
      "second largest : 26\n",
      "largest pair sum = 58\n"
     ]
    }
   ],
   "source": [
    "\n",
    "array = [10, 5, 8, 20, 3, 9, 6, 32, 26, 32]  \n",
    "\n",
    "largest, second_largest, result = largest_pair_sum(array)\n",
    "\n",
    "print(\"largest :\", largest)\n",
    "print(\"second largest :\", second_largest)\n",
    "print(\"largest pair sum =\", result)        # displaying the sum       \n"
   ]
  },
  {
   "cell_type": "markdown",
   "id": "16c1c66a-6c50-49be-847a-ad5a5209737c",
   "metadata": {},
   "source": [
    "<br>\n",
    "\n",
    "<font size=\"+2\"><span style=\"color: red\">↳</span></font>&nbsp;&nbsp;<span style=\"color:  #F802C0\">largest_<strong>n</strong>_sum( )</span>"
   ]
  },
  {
   "cell_type": "code",
   "execution_count": 135,
   "id": "88a67b24-80eb-4e3a-a8ec-85a124655a0b",
   "metadata": {},
   "outputs": [],
   "source": [
    "\n",
    "def largest_n_sum(arr, n):\n",
    "    if len(arr) < 2:\n",
    "        return \"List should have at least two elements\"\n",
    "\n",
    "    unique_arr = list(set(arr))       # Remove duplicates if any\n",
    "    unique_arr.sort(reverse = True)   # Time Complexity ===> O(nlogn)\n",
    "    sum = 0\n",
    "    for i in range(0, n):\n",
    "        sum += unique_arr[i]\n",
    "    return sum\n"
   ]
  },
  {
   "cell_type": "markdown",
   "id": "56010ad2-dd3a-45fc-8766-9c260f835d9a",
   "metadata": {},
   "source": [
    "<span style=\"color: blue\">Array Without Duplicates</span>&nbsp;<span style=\"color: blue\"><font size=\"+2\">↴</font>&nbsp;</span>"
   ]
  },
  {
   "cell_type": "code",
   "execution_count": 137,
   "id": "0d502fb4-a4c7-4a4d-9eb3-0e11636e8568",
   "metadata": {},
   "outputs": [
    {
     "name": "stdin",
     "output_type": "stream",
     "text": [
      "Enter how many largest numbers you want to add in a given array: 2\n"
     ]
    },
    {
     "name": "stdout",
     "output_type": "stream",
     "text": [
      "58\n"
     ]
    }
   ],
   "source": [
    "\n",
    "array = [10, 5, 8, 20, 3, 9, 6, 32, 26]\n",
    "        \n",
    "n = int(input(\"Enter how many largest numbers you want to add in a given array:\"))\n",
    "\n",
    "result = largest_n_sum(array, n)\n",
    "\n",
    "print(result)\n"
   ]
  },
  {
   "cell_type": "markdown",
   "id": "6b2ee52b-60d6-4e6a-b1ce-892f6c2cc85d",
   "metadata": {},
   "source": [
    "<span style=\"color: blue\">Array With Duplicates</span>&nbsp;<span style=\"color: blue\"><font size=\"+2\">↴</font>&nbsp;</span>"
   ]
  },
  {
   "cell_type": "code",
   "execution_count": 138,
   "id": "7aeff232-cb21-4909-9636-6a146386c514",
   "metadata": {},
   "outputs": [
    {
     "name": "stdin",
     "output_type": "stream",
     "text": [
      "Enter how many largest numbers you want to add in a given array: 2\n"
     ]
    },
    {
     "name": "stdout",
     "output_type": "stream",
     "text": [
      "58\n"
     ]
    }
   ],
   "source": [
    "\n",
    "array = [10, 5, 8, 20, 3, 9, 6, 32, 26, 32]\n",
    "        \n",
    "n = int(input(\"Enter how many largest numbers you want to add in a given array:\"))\n",
    "\n",
    "result = largest_n_sum(array, n)\n",
    "\n",
    "print(result)\n"
   ]
  },
  {
   "cell_type": "code",
   "execution_count": null,
   "id": "527df5c0-1850-473e-ba10-70c1a8b10963",
   "metadata": {},
   "outputs": [],
   "source": []
  },
  {
   "cell_type": "markdown",
   "id": "d41b9059-9259-4da6-b0ff-0851de292684",
   "metadata": {},
   "source": [
    "**Method-2** ( <span style=\"background-color: yellow\">&nbsp;without sorting - <strong>O(n)</strong>&nbsp;</span> )"
   ]
  },
  {
   "cell_type": "code",
   "execution_count": 68,
   "id": "73f3b5cd-0e9b-4522-a676-98c1639f360c",
   "metadata": {},
   "outputs": [
    {
     "name": "stdout",
     "output_type": "stream",
     "text": [
      "largest : 32\n",
      "second largest : 26\n",
      "largest pair sum = 58\n",
      "\n",
      "\n",
      "largest : 9\n",
      "second largest : 5\n",
      "largest pair sum = 14\n",
      "\n",
      "\n",
      "largest : 9\n",
      "second largest : 5\n",
      "largest pair sum = 14\n"
     ]
    }
   ],
   "source": [
    "\n",
    "def find_squared_2nd_largest(arr):\n",
    "    if len(arr) < 2:\n",
    "        return \"List should have at least two elements\"\n",
    "    else:\n",
    "        # initializing 2 variables for largest and 2nd largest number in the array\n",
    "        largest = None\n",
    "        second_largset = None\n",
    "    \n",
    "        # finding the largest and the 2nd largest between the first 2 elements in the array\n",
    "        if arr[0] > arr[1]:\n",
    "            largest = arr[0]\n",
    "            second_largest = arr[1]\n",
    "        else:\n",
    "            largest = arr[1]\n",
    "            second_largest = arr[0]\n",
    "    \n",
    "        # now finding the largest and the 2nd largest element in the whole array\n",
    "        for i in range(2, len(arr)):\n",
    "            if arr[i] > largest:\n",
    "                second_largest = largest\n",
    "                largest = arr[i]\n",
    "            if arr[i] < largest and arr[i] > second_largest:\n",
    "                second_largest = arr[i]\n",
    "                \n",
    "        return largest, second_largest, largest + second_largest\n",
    "\n",
    "\n",
    "################################################################################################\n",
    "\n",
    "\n",
    "array1 = [10, 5, 8, 20, 3, 9, 6, 32, 26]    # =====> 26 ** 2 = 676\n",
    "array2 = [5, 2, 4, 3, 9, 0]                 # =====>  5 ** 2 =  25\n",
    "array3 = [2, 5, 4, 3, 9, 0]                 # =====>  5 ** 2 = 25\n",
    "\n",
    "largest1, second_largest1, result1 = find_squared_2nd_largest(array1)\n",
    "print(\"largest :\", largest1)\n",
    "print(\"second largest :\", second_largest1)\n",
    "print(\"largest pair sum =\", result1, end=\"\\n\"*3)        # displaying the sum\n",
    "\n",
    "largest2, second_largest2, result2 = find_squared_2nd_largest(array2)\n",
    "print(\"largest :\", largest2)\n",
    "print(\"second largest :\", second_largest2)\n",
    "print(\"largest pair sum =\", result2, end=\"\\n\"*3)        # displaying the sum\n",
    "\n",
    "largest3, second_largest3, result3 = find_squared_2nd_largest(array3)\n",
    "print(\"largest :\", largest3)\n",
    "print(\"second largest :\", second_largest3)\n",
    "print(\"largest pair sum =\", result3)        # displaying the sum\n"
   ]
  },
  {
   "cell_type": "code",
   "execution_count": null,
   "id": "9b13b9c5-cf57-4eb4-ba3e-0ce73f5be08d",
   "metadata": {},
   "outputs": [],
   "source": []
  },
  {
   "cell_type": "markdown",
   "id": "d3e2cf12-1586-4f86-a466-39041b29d3a1",
   "metadata": {
    "jp-MarkdownHeadingCollapsed": true
   },
   "source": [
    "##### <span style=\"color: blue\">3  ===>  While iterating a given string, whenever you encounter a specific character  ' i ' , just keep reversing the previous part of the string before that  ' i '</span>"
   ]
  },
  {
   "cell_type": "markdown",
   "id": "5f4b3dd0-3f6b-490b-abb5-c632ced68b4f",
   "metadata": {},
   "source": [
    "<br>\n",
    "\n",
    "<span style=\"color: #DCBD10\">▬▬▬▬▬▬▬▬▬▬▬▬▬▬▬▬▬▬▬▬▬▬▬▬▬▬▬▬▬▬▬▬▬▬▬▬▬▬▬▬▬▬▬▬▬▬▬▬▬▬▬▬▬▬▬▬▬▬▬▬▬▬▬▬▬▬▬▬▬▬▬▬▬▬▬▬</span>\n",
    "\n",
    "<br>\n",
    "\n",
    "<div style=\"padding: 10px; background-color: #E2FFEC\">\n",
    "\n",
    "<u>**QUESTION 3**</u> :\n",
    "\n",
    "<span style=\"background-color: yellow\">&nbsp;Case-1&nbsp;</span>\n",
    "\n",
    "While iterating a given string, whenever you encounter a specific character &nbsp;<span style=\"background-color: #FBEDFF; color: red\"><font size=\"+1\">' i '</font></span>&nbsp;, just keep reversing the previous part of the string before that &nbsp;<span style=\"background-color: #FBEDFF; color: red\"><font size=\"+1\">' i '</font></span> <br>\n",
    "\n",
    "========>&nbsp;&nbsp;For example : &nbsp;&nbsp;<span style=\"color: blue\"><font size=\"+1\">string</font> ===> <font size=\"+1\">rtsng</font>  <br>\n",
    "&nbsp;&nbsp;&nbsp;&nbsp;&nbsp;&nbsp;&nbsp;&nbsp;&nbsp;&nbsp;&nbsp;&nbsp;&nbsp;&nbsp;&nbsp;&nbsp;&nbsp;&nbsp;&nbsp;&nbsp;&nbsp;&nbsp;&nbsp;&nbsp;&nbsp;&nbsp;&nbsp;&nbsp;&nbsp;&nbsp;&nbsp;&nbsp;&nbsp;&nbsp;&nbsp;&nbsp;&nbsp;&nbsp;&nbsp;&nbsp;&nbsp;&nbsp;&nbsp;&nbsp;&nbsp;&nbsp;&nbsp;&nbsp;&nbsp;<font size=\"+1\">stringinput</font> ===>  <font size=\"+1\">gnstrnput</font> <br>\n",
    "&nbsp;&nbsp;&nbsp;&nbsp;&nbsp;&nbsp;&nbsp;&nbsp;&nbsp;&nbsp;&nbsp;&nbsp;&nbsp;&nbsp;&nbsp;&nbsp;&nbsp;&nbsp;&nbsp;&nbsp;&nbsp;&nbsp;&nbsp;&nbsp;&nbsp;&nbsp;&nbsp;&nbsp;&nbsp;&nbsp;&nbsp;&nbsp;&nbsp;&nbsp;&nbsp;&nbsp;&nbsp;&nbsp;&nbsp;&nbsp;&nbsp;&nbsp;&nbsp;&nbsp;&nbsp;&nbsp;&nbsp;&nbsp;&nbsp;<font size=\"+1\">initialstring</font> ===>  <font size=\"+1\">rtslantng</font></span>\n",
    "\n",
    "</div>\n",
    "\n",
    "<br>\n"
   ]
  },
  {
   "cell_type": "code",
   "execution_count": 14,
   "id": "8f98295a-dca1-4f7e-acc7-2ff972a2a54e",
   "metadata": {},
   "outputs": [
    {
     "name": "stdin",
     "output_type": "stream",
     "text": [
      "Enter a string:  stringinput\n"
     ]
    },
    {
     "name": "stdout",
     "output_type": "stream",
     "text": [
      "gnstrnput\n"
     ]
    }
   ],
   "source": [
    "\n",
    "string = input(\"Enter a string: \")\n",
    "\n",
    "result = ''\n",
    "for chr in string:\n",
    "    if chr != 'i':\n",
    "        result += chr\n",
    "    else:\n",
    "        result = result[::-1]\n",
    "\n",
    "print(result)\n",
    "        "
   ]
  },
  {
   "cell_type": "markdown",
   "id": "d8c8ab8a-42e8-4e81-afa6-f143b9dbfd9d",
   "metadata": {},
   "source": [
    "\n",
    "<br>\n",
    "\n",
    "<div style=\"padding: 10px; background-color: #E2FFEC\">\n",
    "\n",
    "<span style=\"background-color: yellow\">&nbsp;Case-2&nbsp;</span> \n",
    "\n",
    "Reverse the substrings around a specific character &nbsp;<span style=\"background-color: #FBEDFF; color: red\"><font size=\"+1\">' i '</font></span>&nbsp; ====>  &nbsp;<span style=\"background-color: #FBEDFF; color: red\"><font size=\"+1\">' i '</font></span>&nbsp; to &nbsp;<span style=\"background-color: #FBEDFF; color: red\"><font size=\"+1\">' i '</font></span>&nbsp; reversal  \n",
    "\n",
    "========>&nbsp;&nbsp;For example : &nbsp;&nbsp;<span style=\"color: blue\"><font size=\"+1\">string</font> ===> <font size=\"+1\">rtsgn</font>  <br>\n",
    "&nbsp;&nbsp;&nbsp;&nbsp;&nbsp;&nbsp;&nbsp;&nbsp;&nbsp;&nbsp;&nbsp;&nbsp;&nbsp;&nbsp;&nbsp;&nbsp;&nbsp;&nbsp;&nbsp;&nbsp;&nbsp;&nbsp;&nbsp;&nbsp;&nbsp;&nbsp;&nbsp;&nbsp;&nbsp;&nbsp;&nbsp;&nbsp;&nbsp;&nbsp;&nbsp;&nbsp;&nbsp;&nbsp;&nbsp;&nbsp;&nbsp;&nbsp;&nbsp;&nbsp;&nbsp;&nbsp;&nbsp;&nbsp;&nbsp;<font size=\"+1\">stringinput</font> ===>  <font size=\"+1\">rtsgntupn</font> <br>\n",
    "&nbsp;&nbsp;&nbsp;&nbsp;&nbsp;&nbsp;&nbsp;&nbsp;&nbsp;&nbsp;&nbsp;&nbsp;&nbsp;&nbsp;&nbsp;&nbsp;&nbsp;&nbsp;&nbsp;&nbsp;&nbsp;&nbsp;&nbsp;&nbsp;&nbsp;&nbsp;&nbsp;&nbsp;&nbsp;&nbsp;&nbsp;&nbsp;&nbsp;&nbsp;&nbsp;&nbsp;&nbsp;&nbsp;&nbsp;&nbsp;&nbsp;&nbsp;&nbsp;&nbsp;&nbsp;&nbsp;&nbsp;&nbsp;&nbsp;<font size=\"+1\">initialstring</font> ===>  <font size=\"+1\">ntrtslagn</font>  <br>\n",
    "&nbsp;&nbsp;&nbsp;&nbsp;&nbsp;&nbsp;&nbsp;&nbsp;&nbsp;&nbsp;&nbsp;&nbsp;&nbsp;&nbsp;&nbsp;&nbsp;&nbsp;&nbsp;&nbsp;&nbsp;&nbsp;&nbsp;&nbsp;&nbsp;&nbsp;&nbsp;&nbsp;&nbsp;&nbsp;&nbsp;&nbsp;&nbsp;&nbsp;&nbsp;&nbsp;&nbsp;&nbsp;&nbsp;&nbsp;&nbsp;&nbsp;&nbsp;&nbsp;&nbsp;&nbsp;&nbsp;&nbsp;&nbsp;&nbsp;<font size=\"+1\">cryingemoji</font> ===>  <font size=\"+1\">ntrtslagn</font>\n",
    "\n",
    "</span>\n",
    "\n",
    "</div>\n",
    "\n",
    "<br>\n"
   ]
  },
  {
   "cell_type": "code",
   "execution_count": 18,
   "id": "c97401df-7f9b-4ef1-a757-b2ef7c700462",
   "metadata": {},
   "outputs": [
    {
     "name": "stdin",
     "output_type": "stream",
     "text": [
      "Enter a string:  cryingemoji\n"
     ]
    },
    {
     "name": "stdout",
     "output_type": "stream",
     "text": [
      "yrcjomegn\n"
     ]
    }
   ],
   "source": [
    "\n",
    "string = input(\"Enter a string: \")\n",
    "\n",
    "string_list = string.split(\"i\")\n",
    "\n",
    "reversed_string = ''\n",
    "\n",
    "for sequence in string_list:\n",
    "    reversed_string += sequence[::-1]\n",
    "\n",
    "print(reversed_string)\n"
   ]
  },
  {
   "cell_type": "markdown",
   "id": "d30f6d40-5340-4a5d-a33d-946e00fd4a55",
   "metadata": {},
   "source": [
    "\n",
    "<br>\n",
    "\n",
    "<div style=\"padding: 10px; background-color: #E2FFEC\">\n",
    "\n",
    "<span style=\"background-color: yellow\">&nbsp;Case-3&nbsp;</span> \n",
    "\n",
    "Reverse only Letters\n",
    "\n",
    "========>&nbsp;&nbsp;For example : &nbsp;&nbsp;<span style=\"color: blue\"><font size=\"+1\">ab_cd</font> ===> <font size=\"+1\">dc_ba</font>  <br>\n",
    "&nbsp;&nbsp;&nbsp;&nbsp;&nbsp;&nbsp;&nbsp;&nbsp;&nbsp;&nbsp;&nbsp;&nbsp;&nbsp;&nbsp;&nbsp;&nbsp;&nbsp;&nbsp;&nbsp;&nbsp;&nbsp;&nbsp;&nbsp;&nbsp;&nbsp;&nbsp;&nbsp;&nbsp;&nbsp;&nbsp;&nbsp;&nbsp;&nbsp;&nbsp;&nbsp;&nbsp;&nbsp;&nbsp;&nbsp;&nbsp;&nbsp;&nbsp;&nbsp;&nbsp;&nbsp;&nbsp;&nbsp;&nbsp;&nbsp;<font size=\"+1\">ab||cde</font> ===>  <font size=\"+1\">ed||cba</font> <br>\n",
    "&nbsp;&nbsp;&nbsp;&nbsp;&nbsp;&nbsp;&nbsp;&nbsp;&nbsp;&nbsp;&nbsp;&nbsp;&nbsp;&nbsp;&nbsp;&nbsp;&nbsp;&nbsp;&nbsp;&nbsp;&nbsp;&nbsp;&nbsp;&nbsp;&nbsp;&nbsp;&nbsp;&nbsp;&nbsp;&nbsp;&nbsp;&nbsp;&nbsp;&nbsp;&nbsp;&nbsp;&nbsp;&nbsp;&nbsp;&nbsp;&nbsp;&nbsp;&nbsp;&nbsp;&nbsp;&nbsp;&nbsp;&nbsp;&nbsp;<font size=\"+1\">a_bC_dEf=Ghij</font> ===>  <font size=\"+1\">j_ih_GfE_dCba</font>\n",
    "\n",
    "</span>\n",
    "\n",
    "</div>\n",
    "\n",
    "<br>\n"
   ]
  },
  {
   "cell_type": "code",
   "execution_count": 58,
   "id": "691eb648-1125-44fd-bc20-d65c67458e17",
   "metadata": {},
   "outputs": [
    {
     "name": "stdout",
     "output_type": "stream",
     "text": [
      "j_ih_GfE=dCba\n"
     ]
    }
   ],
   "source": [
    "\n",
    "import string\n",
    "\n",
    "\n",
    "input_string = \"a_bC_dEf=Ghij\"\n",
    "\n",
    "\n",
    "string_without_spl_chars = \"\"\n",
    "spl_chr_dict = {}\n",
    "for index, chr in enumerate(input_string):\n",
    "    if chr in list(string.punctuation):\n",
    "        spl_chr_dict[index] = chr\n",
    "    else:\n",
    "        string_without_spl_chars += chr\n",
    "\n",
    "\n",
    "# print(spl_chr_dict)\n",
    "# print(string_without_spl_chars)\n",
    "\n",
    "\n",
    "reversed_string_without_spl_chars = string_without_spl_chars[::-1]\n",
    "# print(reversed_string_without_spl_chars)\n",
    "\n",
    "\n",
    "reversed_string_without_spl_chars_list = list(reversed_string_without_spl_chars)\n",
    "for k,v in spl_chr_dict.items():\n",
    "    reversed_string_without_spl_chars_list.insert(k, v)\n",
    "\n",
    "\n",
    "result = ''\n",
    "for i in reversed_string_without_spl_chars_list:\n",
    "    result += i\n",
    "\n",
    "\n",
    "print(result)\n"
   ]
  },
  {
   "cell_type": "code",
   "execution_count": null,
   "id": "7a00dcfc-d0cb-47a4-8bb0-250660bac088",
   "metadata": {},
   "outputs": [],
   "source": []
  },
  {
   "cell_type": "markdown",
   "id": "62afa5d5-a527-4199-962a-5d154306c7c2",
   "metadata": {
    "jp-MarkdownHeadingCollapsed": true
   },
   "source": [
    "##### <span style=\"color: blue\">4  ===>  Given 2 lists, find out whether both are equal or not</span>"
   ]
  },
  {
   "cell_type": "markdown",
   "id": "7d2c2c93-a278-4171-80b9-d18bf467b2f6",
   "metadata": {},
   "source": [
    "<br>\n",
    "\n",
    "<span style=\"color: #DCBD10\">▬▬▬▬▬▬▬▬▬▬▬▬▬▬▬▬▬▬▬▬▬▬▬▬▬▬▬▬▬▬▬▬▬▬▬▬▬▬▬▬▬▬▬▬▬▬▬▬▬▬▬▬▬▬▬▬▬▬▬▬▬▬▬▬▬▬▬▬▬▬▬▬▬▬▬▬</span>\n",
    "\n",
    "<br>\n",
    "\n",
    "<div style=\"padding: 10px; background-color: #E2FFEC\">\n",
    "\n",
    "<u>**QUESTION 4**</u> : &nbsp;Given 2  lists, find out whether both are equal or not\n",
    "\n",
    "</div>\n",
    "\n",
    "<br>"
   ]
  },
  {
   "cell_type": "code",
   "execution_count": 50,
   "id": "3abcce24-6565-432c-a516-97480b3e7b22",
   "metadata": {},
   "outputs": [],
   "source": [
    "\n",
    "# Case-1 \n",
    "list1 = [\"asd\", 1, 3, \"gh\", 3, 5]\n",
    "list2 = [\"asd\", 1, 3, \"gh\", 3, 5]\n"
   ]
  },
  {
   "cell_type": "code",
   "execution_count": 51,
   "id": "a5d93b78-355e-46e1-a9b6-0835dd20ef9e",
   "metadata": {},
   "outputs": [],
   "source": [
    "\n",
    "# Case-2\n",
    "list1 = [\"asd\", 1, 3, \"gh\", 3]\n",
    "list2 = [\"asd\", 1, 3, \"gh\", 3, 5]\n"
   ]
  },
  {
   "cell_type": "code",
   "execution_count": 52,
   "id": "73750cf6-c432-4a3d-90a9-743012ab4c01",
   "metadata": {},
   "outputs": [
    {
     "name": "stdout",
     "output_type": "stream",
     "text": [
      "False\n"
     ]
    }
   ],
   "source": [
    "\n",
    "print(list1 is list2)   # Output: False   ====>   because list1 is the same object as list2 even if the content of botht he lists are same\n"
   ]
  },
  {
   "cell_type": "code",
   "execution_count": 53,
   "id": "728f258c-1b21-46d4-a19a-5a528fa5d254",
   "metadata": {},
   "outputs": [
    {
     "ename": "SyntaxError",
     "evalue": "invalid syntax. Perhaps you forgot a comma? (3565422262.py, line 1)",
     "output_type": "error",
     "traceback": [
      "\u001b[1;36m  Cell \u001b[1;32mIn[53], line 1\u001b[1;36m\u001b[0m\n\u001b[1;33m    print(list1 == list 2)  # throws syntax error\u001b[0m\n\u001b[1;37m          ^\u001b[0m\n\u001b[1;31mSyntaxError\u001b[0m\u001b[1;31m:\u001b[0m invalid syntax. Perhaps you forgot a comma?\n"
     ]
    }
   ],
   "source": [
    "\n",
    "print(list1 == list 2)  # throws syntax error\n"
   ]
  },
  {
   "cell_type": "markdown",
   "id": "095316cd-a308-44dc-9d36-f6fbc8b7ff84",
   "metadata": {},
   "source": [
    "<br>\n",
    "\n",
    "<span style=\"color: blue\">**Method-1** (using <span style=\"color: red\">**map( )**</span> and <span style=\"color: red\">**lambda**</span> function)</span>\n"
   ]
  },
  {
   "cell_type": "code",
   "execution_count": 54,
   "id": "397d79ed-0141-49dd-82a6-eef5b57a4708",
   "metadata": {},
   "outputs": [
    {
     "data": {
      "text/plain": [
       "'Equal'"
      ]
     },
     "execution_count": 54,
     "metadata": {},
     "output_type": "execute_result"
    }
   ],
   "source": [
    "\n",
    "# Step-1\n",
    "\n",
    "(lambda l1, l2: \"Equal\" if all(list(map(lambda x,y: x==y, list1, list2))) == True else \"Not Equal\")(list1, list2)\n"
   ]
  },
  {
   "cell_type": "code",
   "execution_count": 55,
   "id": "1be97bed-97e8-48f3-afdc-1882e6295a6f",
   "metadata": {},
   "outputs": [
    {
     "name": "stdout",
     "output_type": "stream",
     "text": [
      "Not Equal\n"
     ]
    }
   ],
   "source": [
    "\n",
    "# Step-2  (SOLUTION)\n",
    "\n",
    "compare = lambda l1, l2: \"Equal\" if all(list(map(lambda x,y: x==y, list1, list2))) == True else \"Not Equal\"\n",
    "\n",
    "\n",
    "result = (lambda l1, l2: compare(l1,l2) if len(l1) == len(l2) else \"Not Equal\")(list1, list2)\n",
    "\n",
    "\n",
    "print(result)\n"
   ]
  },
  {
   "cell_type": "markdown",
   "id": "b8868594-3b51-4915-8667-e0886068ca70",
   "metadata": {},
   "source": [
    "\n",
    "<br>\n",
    "\n",
    "<span style=\"color: blue\">**Method-2** (using <span style=\"color: black\">**dictionary**</span> for calculating frequency of each element in a list and comparing it with the corresponding element in the other list)</span>\n"
   ]
  },
  {
   "cell_type": "code",
   "execution_count": 56,
   "id": "4b5a30a8-0c78-443b-a048-3e8a68b9fcbf",
   "metadata": {},
   "outputs": [
    {
     "name": "stdout",
     "output_type": "stream",
     "text": [
      "Not Equal\n"
     ]
    }
   ],
   "source": [
    "\n",
    "def compare(list1, list2):\n",
    "    my_dict = {}\n",
    "    for i in list1:\n",
    "        my_dict[i] = my_dict.get(i,0) + 1\n",
    "    for i in list2:\n",
    "        my_dict[i] = my_dict.get(i,0) - 1\n",
    "    count = 0\n",
    "    for k,v in my_dict.items():\n",
    "        if v == 0:\n",
    "            count += 1\n",
    "    if count == len(my_dict):\n",
    "        print(\"Equal\")\n",
    "    else:\n",
    "        print(\"Not Equal\")\n",
    "        \n",
    "\n",
    "compare(list1, list2)    \n"
   ]
  },
  {
   "cell_type": "code",
   "execution_count": 57,
   "id": "f5592c3e-abda-4200-8d37-e489e998e50f",
   "metadata": {},
   "outputs": [
    {
     "name": "stdout",
     "output_type": "stream",
     "text": [
      "Not Equal\n"
     ]
    }
   ],
   "source": [
    "\n",
    "def compare(list1, list2):\n",
    "    my_dict = {}\n",
    "    for i in list1:\n",
    "        my_dict[i] = my_dict.get(i,0) + 1\n",
    "    for i in list2:\n",
    "        my_dict[i] = my_dict.get(i,0) - 1\n",
    "    count = 0\n",
    "    for k,v in my_dict.items():\n",
    "        if v != 0:\n",
    "            return \"Not Equal\"\n",
    "    return \"Equal\"\n",
    "\n",
    "\n",
    "result = compare(list1, list2)\n",
    "print(result)\n"
   ]
  },
  {
   "cell_type": "code",
   "execution_count": null,
   "id": "d0c01e01-c3ef-46dc-8b7d-1432edfd9c14",
   "metadata": {},
   "outputs": [],
   "source": []
  },
  {
   "cell_type": "markdown",
   "id": "3e2ef26e-ad25-44c0-bb56-f41b8c0a11cd",
   "metadata": {
    "jp-MarkdownHeadingCollapsed": true
   },
   "source": [
    "##### <span style=\"color: blue\">5  ===>  Remove duplicates from a list and display it in reverse order</span>"
   ]
  },
  {
   "cell_type": "markdown",
   "id": "9c14a14c-a658-4973-a14d-f4dac4f96512",
   "metadata": {},
   "source": [
    "<br>\n",
    "\n",
    "<span style=\"color: #DCBD10\">▬▬▬▬▬▬▬▬▬▬▬▬▬▬▬▬▬▬▬▬▬▬▬▬▬▬▬▬▬▬▬▬▬▬▬▬▬▬▬▬▬▬▬▬▬▬▬▬▬▬▬▬▬▬▬▬▬▬▬▬▬▬▬▬▬▬▬▬▬▬▬▬▬▬▬▬</span>\n",
    "\n",
    "<br>\n",
    "\n",
    "<div style=\"padding: 10px; background-color: #E2FFEC\">\n",
    "\n",
    "<u>**QUESTION 5**</u> : &nbsp;Remove duplicates from a list and display it in reverse order <br>\n",
    "&nbsp;&nbsp;&nbsp;&nbsp;&nbsp;&nbsp;&nbsp;&nbsp;&nbsp;&nbsp;&nbsp;&nbsp;&nbsp;&nbsp;&nbsp;&nbsp;&nbsp;&nbsp;&nbsp;&nbsp;&nbsp;&nbsp;&nbsp;&nbsp;&nbsp;(without sorting - while removing duplicates or reversing the resultant list, the relative order of the elements in the list should not change\n",
    "\n",
    "</div>\n",
    "\n",
    "<br>\n"
   ]
  },
  {
   "cell_type": "code",
   "execution_count": 100,
   "id": "01cb63b5-b486-4ca5-a471-a859f28c6cb9",
   "metadata": {},
   "outputs": [],
   "source": [
    "# Original list with duplicate elements\n",
    "original_list = [1, 3, 2, 4, 4, 5, 2]"
   ]
  },
  {
   "cell_type": "markdown",
   "id": "644b0af1-1ab7-444b-95af-86923db4eac4",
   "metadata": {},
   "source": [
    "<font size=\"+2\">↳</font>&nbsp;&nbsp;<span style=\"background-color: yellow\">&nbsp;**Preserving the order**&nbsp;</span>"
   ]
  },
  {
   "cell_type": "code",
   "execution_count": 146,
   "id": "563c45a2-2e7a-44b5-8900-449d1698c2af",
   "metadata": {},
   "outputs": [
    {
     "name": "stdout",
     "output_type": "stream",
     "text": [
      "[1, 3, 2, 4, 7, 5]\n",
      "\n",
      "[5, 7, 4, 2, 3, 1]\n",
      "[5, 7, 4, 2, 3, 1]\n",
      "\n",
      "----------------------------------\n",
      "\n",
      "[1, 3, 2, 4, 7, 5]\n",
      "\n",
      "[5, 7, 4, 2, 3, 1]\n",
      "[5, 7, 4, 2, 3, 1]\n",
      "\n"
     ]
    }
   ],
   "source": [
    "\n",
    "# Remove duplicates while preserving the order\n",
    "\n",
    "input_list = [1, 3, 2, 4, 4, 7, 2, 5]\n",
    "\n",
    "########################################################################################################################################\n",
    "\n",
    "\n",
    "# Method-1  ( using dictionary method fromkeys() )\n",
    "\n",
    "dict2 = dict.fromkeys(input_list)                                                # dict.fromkeys(iterable, value = None)\n",
    "\n",
    "print(list(dict2), end = \"\\n\\n\")                                                 # list after removing duplicates\n",
    "\n",
    "print(list(dict2.keys())[::-1])                                                  # list reversed after removing duplicates\n",
    "print(list(dict2)[::-1], end=\"\\n\\n----------------------------------\\n\\n\")       # list reversed after removing duplicates\n",
    "\n",
    "\n",
    "########################################################################################################################################\n",
    "\n",
    "\n",
    "# Method - 2  ( without using dictionary method fromkeys() )\n",
    "dict1 = {}\n",
    "for i in input_list:\n",
    "    dict1[i] = None\n",
    "\n",
    "print(list(dict1.keys()), end = \"\\n\\n\")                                          # list after removing duplicates\n",
    "\n",
    "print(list(dict1.keys())[::-1])                                                  # list reversed after removing duplicates\n",
    "print(list(dict1)[::-1], end=\"\\n\\n\")                                             # list reversed after removing duplicates\n",
    "\n"
   ]
  },
  {
   "cell_type": "markdown",
   "id": "ff7b8980-188d-4114-a3f0-ef8c18adc541",
   "metadata": {},
   "source": [
    "<br>\n",
    "\n",
    "<span style=\"color: blue\">**Solution-1** (using <span style=\"color: black\"><strong>regular</strong></span> function)</span>"
   ]
  },
  {
   "cell_type": "code",
   "execution_count": 153,
   "id": "fcbe1156-9e21-4229-885b-f21ef714cc7a",
   "metadata": {},
   "outputs": [
    {
     "name": "stdout",
     "output_type": "stream",
     "text": [
      "[5, 7, 4, 2, 3, 1]\n"
     ]
    }
   ],
   "source": [
    "\n",
    "def remove_dups_and_rev(lst):\n",
    "    return list(dict.fromkeys(lst))[::-1]\n",
    "\n",
    "input_list = [1, 3, 2, 4, 4, 7, 2, 5]\n",
    "\n",
    "reversed_unique_list = remove_dups_and_rev(input_list)\n",
    "\n",
    "print(reversed_unique_list)\n"
   ]
  },
  {
   "cell_type": "markdown",
   "id": "fade6d18-b171-42da-9d36-cc33cbbdf659",
   "metadata": {},
   "source": [
    "<br>\n",
    "\n",
    "<span style=\"color: blue\">**Solution-2** (using <span style=\"color: red\"><strong>lambda</strong></span> function)</span>"
   ]
  },
  {
   "cell_type": "code",
   "execution_count": 157,
   "id": "c3bf2095-9ba4-46d2-b7c7-a96081452989",
   "metadata": {},
   "outputs": [
    {
     "name": "stdout",
     "output_type": "stream",
     "text": [
      "[5, 7, 4, 2, 3, 1]\n"
     ]
    }
   ],
   "source": [
    "\n",
    "remove_dups_and_rev_func = lambda x: list(dict.fromkeys(x))[::-1]\n",
    "\n",
    "input_list = [1, 3, 2, 4, 4, 7, 2, 5]\n",
    "\n",
    "reversed_unique_list = remove_dups_and_rev_func(input_list)\n",
    "\n",
    "print(reversed_unique_list)\n"
   ]
  },
  {
   "cell_type": "markdown",
   "id": "92b8e800-e87e-46e6-876f-c9e3abee124a",
   "metadata": {},
   "source": [
    "<br>\n",
    "\n",
    "Had we not to preserve the order, we could have also used <span style=\"color: red\">**itertools.groupby( )**</span> to remove the duplicates :\n",
    "\n",
    "<font size=\"+2\">↳</font>&nbsp;&nbsp;<span style=\"background-color: yellow\">**Not preserving the order**</span>"
   ]
  },
  {
   "cell_type": "code",
   "execution_count": 158,
   "id": "4d62a423-6e10-4aaf-860a-b1ec7b4465b4",
   "metadata": {},
   "outputs": [
    {
     "name": "stdout",
     "output_type": "stream",
     "text": [
      "1\n",
      "2\n",
      "3\n",
      "4\n",
      "5\n",
      "7\n"
     ]
    }
   ],
   "source": [
    "\n",
    "from itertools import groupby\n",
    "\n",
    "input_list = [1, 3, 2, 4, 4, 7, 2, 5]\n",
    "\n",
    "input_list.sort()\n",
    "\n",
    "for k, v in groupby(input_list):\n",
    "    print(k)\n"
   ]
  },
  {
   "cell_type": "code",
   "execution_count": 209,
   "id": "c9c0ada3-cbc9-4e53-b303-7c81694be40e",
   "metadata": {},
   "outputs": [
    {
     "data": {
      "text/plain": [
       "[1, 2, 3, 4, 5, 7]"
      ]
     },
     "execution_count": 209,
     "metadata": {},
     "output_type": "execute_result"
    }
   ],
   "source": [
    "\n",
    "from itertools import groupby\n",
    "\n",
    "input_list = [1, 3, 2, 4, 4, 7, 2, 5]\n",
    "\n",
    "input_list.sort()\n",
    "\n",
    "[k for k, v in groupby(input_list)]   # List Comprehension\n"
   ]
  },
  {
   "cell_type": "markdown",
   "id": "4de11a26-ac61-420f-bffa-dc98fb113436",
   "metadata": {},
   "source": [
    "<br>\n",
    "\n",
    "<span style=\"background-color: #CAFEFD\">An alternative way is we can also convert a list into a **set**</span> because sets do not contain duplicate data. Then you would convert the set back into a list."
   ]
  },
  {
   "cell_type": "code",
   "execution_count": 4,
   "id": "c605bf5d-088b-4e03-827c-2b552ec0ee0d",
   "metadata": {},
   "outputs": [
    {
     "name": "stdout",
     "output_type": "stream",
     "text": [
      "[1, 2, 3, 4, 5, 7]\n"
     ]
    }
   ],
   "source": [
    "\n",
    "input_list = [1, 3, 2, 4, 4, 7, 2, 5]\n",
    "print(list(set(input_list)))\n"
   ]
  },
  {
   "cell_type": "markdown",
   "id": "a4d857eb-8c00-4e3e-9b7c-f3dd4e579d29",
   "metadata": {},
   "source": [
    "However, it is also important to remember that <span style=\"background-color: #CAFEFD\">sets may not maintain the order of the list</span>."
   ]
  },
  {
   "cell_type": "code",
   "execution_count": 5,
   "id": "3f4b04d2-f051-4474-936e-df5d5dd0c3aa",
   "metadata": {},
   "outputs": [
    {
     "name": "stdout",
     "output_type": "stream",
     "text": [
      "[1, 2, 3, 6, 7, 9]\n"
     ]
    }
   ],
   "source": [
    "\n",
    "list1 = [3,6,7,9,2,3,7,1]\n",
    "list2 = list(set(list1))\n",
    "print(list2)\n"
   ]
  },
  {
   "cell_type": "code",
   "execution_count": null,
   "id": "00c087fb-b2ae-418d-8c9a-8e6d2970bbac",
   "metadata": {},
   "outputs": [],
   "source": []
  },
  {
   "cell_type": "markdown",
   "id": "9076de26-c944-4705-b632-19d3b8485385",
   "metadata": {
    "jp-MarkdownHeadingCollapsed": true
   },
   "source": [
    "##### <span style=\"color: blue\">6  ===>  Remove duplicates  in-place  from a sorted list such that each unique element appears  only once . The relative order of the elements should be kept the same. </span>"
   ]
  },
  {
   "cell_type": "markdown",
   "id": "c7997be2-c617-4e63-a9d2-79cb3b9e5bf2",
   "metadata": {},
   "source": [
    "<br>\n",
    "\n",
    "<span style=\"color: #DCBD10\">▬▬▬▬▬▬▬▬▬▬▬▬▬▬▬▬▬▬▬▬▬▬▬▬▬▬▬▬▬▬▬▬▬▬▬▬▬▬▬▬▬▬▬▬▬▬▬▬▬▬▬▬▬▬▬▬▬▬▬▬▬▬▬▬▬▬▬▬▬▬▬▬▬▬▬▬</span>\n",
    "\n",
    "<br>\n",
    "\n",
    "<div style=\"padding: 10px; background-color: #E2FFEC\">\n",
    "\n",
    "<u>**QUESTION 6**</u> : &nbsp;&nbsp;Remove duplicates <span style=\"background-color: #FFE8E2\">&nbsp;in-place&nbsp;</span> from a sorted list such that each unique element appears <span style=\"background-color: #FFE8E2\">&nbsp;only once&nbsp;</span>. <br>\n",
    "&nbsp;&nbsp;&nbsp;&nbsp;&nbsp;&nbsp;&nbsp;&nbsp;&nbsp;&nbsp;&nbsp;&nbsp;&nbsp;&nbsp;&nbsp;&nbsp;&nbsp;&nbsp;&nbsp;&nbsp;&nbsp;&nbsp;&nbsp;&nbsp;&nbsp;&nbsp;The relative order of the elements should be kept the same.\n",
    "\n",
    "<br>\n",
    "\n",
    "nums = <span style=\"color: #FF3503\"><strong>[ 1, 1, 1, 2, 2, 3 ]</strong></span>    &nbsp;&nbsp;====================>&nbsp;&nbsp;    **3**, nums = <span style=\"color: #FF3503\"><strong>[ 1, 2, 3, __ , __ , __ ]<strong></span>\n",
    "\n",
    "nums = <span style=\"color: #FF3503\"><strong>[ 0, 0 , 1, 1, 1, 2, 2, 3, 3, 4 ]</strong></span>    &nbsp;&nbsp;=============>&nbsp;&nbsp;    **5**, nums = <span style=\"color: #FF3503\"><strong>[ 0, 1, 2, 3, 4, __ , __ , __ , __ , __ ]<strong></span>\n",
    "\n",
    "</div>\n",
    "\n",
    "<br>\n",
    "\n",
    "<span style=\"color: blue\">**Solution-1**</span>&nbsp;&nbsp;<span style=\"background-color: yellow\">&nbsp;(using <strong>extra</strong> space)&nbsp;</span>\n"
   ]
  },
  {
   "cell_type": "code",
   "execution_count": 17,
   "id": "0e6be3cc-d96c-4bff-87ad-9ea226f064a0",
   "metadata": {},
   "outputs": [
    {
     "name": "stdout",
     "output_type": "stream",
     "text": [
      "[0, 1, 2, 3, 4]\n"
     ]
    }
   ],
   "source": [
    "\n",
    "def remove_duplicates(nums_list):\n",
    "    num_freq_dict = {}\n",
    "    result = []\n",
    "    for num in nums_list:\n",
    "        num_freq_dict[num] = num_freq_dict.get(num, 0) + 1\n",
    "        if num_freq_dict[num] == 1:\n",
    "            result.append(num)\n",
    "    return result\n",
    "\n",
    "nums = [ 0, 0 , 1, 1, 1, 2, 2, 3, 3, 4 ] \n",
    "\n",
    "result = remove_duplicates(nums)\n",
    "\n",
    "print(result)\n"
   ]
  },
  {
   "cell_type": "markdown",
   "id": "fb5f14e9-cad8-4fee-a5b7-3b3654ec5d28",
   "metadata": {},
   "source": [
    "<br>\n",
    "\n",
    "<span style=\"color: blue\">**Solution-2**</span>&nbsp;&nbsp;<span style=\"background-color: yellow\">&nbsp;(<strong>not</strong> using any <strong>extra</strong> space)&nbsp;</span>\n",
    "\n",
    "<br>\n",
    "\n",
    "<div style=\"border: 2px solid pink; padding: 10px; color: blue\">\n",
    "\n",
    "<font size=\"+2\"><span style=\"color: red\">↳</span></font>&nbsp;&nbsp;<font size=\"+1\">Initialize <span style=\"background-color: #CAFEFD; color: black\">&nbsp;&nbsp;**i = 0**&nbsp;&nbsp;</span> and <span style=\"background-color: #CAFEFD; color: black\">&nbsp;&nbsp;**j = 1**&nbsp;&nbsp;</span></font>  <br>\n",
    "\n",
    "<font size=\"+2\"><span style=\"color: red\">↳</span></font>&nbsp;&nbsp;<font size=\"+1\">Keep incrementing <strong><span style=\"background-color: #CAFEFD; color: black\">&nbsp;&nbsp;j&nbsp;&nbsp;</span></strong></span></strong> by <span style=\"color: black\"><strong>one</strong></span> no matter what.</font>  <br>\n",
    "\n",
    "<font size=\"+2\"><span style=\"color: red\">↳</span></font>&nbsp;&nbsp;<font size=\"+1\">For each iteration of <strong><span style=\"background-color: #CAFEFD; color: black\">&nbsp;&nbsp;j&nbsp;&nbsp;</span></strong>, first <strong><span style=\"color: black; background-color: #FEF3FF;\">&nbsp;&nbsp;i += 1&nbsp;&nbsp;</span></strong> and then replace <strong><span style=\"color: black; background-color: #FEF3FF;\">&nbsp;&nbsp;nums[ i ]&nbsp;&nbsp;</span></strong> with <strong><span style=\"color: black; background-color: #FEF3FF;\">&nbsp;&nbsp;nums[ j ]&nbsp;&nbsp;</span></strong> if <strong><span style=\"color: black; background-color: #FEF3FF;\">nums[ j ] &nbsp;&nbsp;==&nbsp;&nbsp; nums[ i ]</span></strong>  </font>\n",
    "\n",
    "   <div style=\"display: flex; color: black; margin-left: 100px\">\n",
    "    <div style=\"flex: 1; padding: 10px;\">\n",
    "    <font size=\"+2\">if</font>\n",
    "    </div>\n",
    "    <div style=\"flex: 1; padding: 10px; background-color: yellow;\">\n",
    "        <font size=\"+2\">nums[ j ] &nbsp;==&nbsp;  nums[ i ]</font>\n",
    "    </div>\n",
    "    <div style=\"flex: 1; padding: 10px\">\n",
    "    <font size=\"+2\">__________then_________</font>\n",
    "    </div>\n",
    "    <div style=\"flex: 1; padding: 10px; background-color: yellow;\">\n",
    "        <font size=\"+2\">i += 1</font>  <br>\n",
    "        <font size=\"+2\">nums[ i ] = nums[ j ]</font>\n",
    "    </div>\n",
    "</div>\n",
    "\n",
    "</div>\n"
   ]
  },
  {
   "cell_type": "code",
   "execution_count": 241,
   "id": "e4ae2c46-8b0c-4363-bcb0-33ffae8c98db",
   "metadata": {},
   "outputs": [
    {
     "name": "stdout",
     "output_type": "stream",
     "text": [
      "(3, [1, 2, 3, 2, 2, 3])\n",
      "[1, 2, 3]\n"
     ]
    }
   ],
   "source": [
    "\n",
    "def remove_duplicates(num_list):\n",
    "    i = 0 \n",
    "    j = 1 \n",
    "    n = len(num_list) \n",
    "    while j < n: \n",
    "        if num_list[i] == num_list[j]: \n",
    "            j += 1\n",
    "        else:\n",
    "            i += 1\n",
    "            num_list[i] = num_list[j]\n",
    "            j += 1\n",
    "    return i+1, num_list\n",
    "\n",
    "\n",
    "nums = [1, 1, 1, 2, 2, 3]\n",
    "\n",
    "\n",
    "result_format_1 = remove_duplicates(nums)\n",
    "print(result_format_1)\n",
    "\n",
    "\n",
    "x = result_format_1[0]\n",
    "y = result_format_1[1]\n",
    "result_format_2 = y[:x]\n",
    "print(result_format_2)\n"
   ]
  },
  {
   "cell_type": "markdown",
   "id": "e9d6c1f2-8eac-48b9-9bf5-29a3c7e708c5",
   "metadata": {},
   "source": [
    "<br>\n",
    "\n",
    "since \"<strong>j+=1</strong>\" is common in both <strong>if</strong> and <strong>else</strong> condition, so we can move it out from <strong>if-else</strong> :"
   ]
  },
  {
   "cell_type": "code",
   "execution_count": 1,
   "id": "dfa0f853-41a6-4f30-8b67-675120300f05",
   "metadata": {},
   "outputs": [],
   "source": [
    "\n",
    "def remove_duplicates(num_list):\n",
    "    i = 0 \n",
    "    j = 1 \n",
    "    n = len(num_list) \n",
    "    while j < n: \n",
    "        if num_list[i] != num_list[j]: \n",
    "            i += 1\n",
    "            num_list[i] = num_list[j]\n",
    "        j += 1\n",
    "    return i+1, num_list\n",
    "    "
   ]
  },
  {
   "cell_type": "markdown",
   "id": "fa26975a-26b4-4230-abd4-8f060d499ae0",
   "metadata": {},
   "source": [
    "<br>\n",
    "\n",
    "Let's verify the result again."
   ]
  },
  {
   "cell_type": "code",
   "execution_count": 2,
   "id": "8f21bd8c-64f2-4acd-af14-edb3a9adccb8",
   "metadata": {},
   "outputs": [
    {
     "name": "stdout",
     "output_type": "stream",
     "text": [
      "(3, [1, 2, 3, 2, 2, 3])\n",
      "[1, 2, 3]\n"
     ]
    }
   ],
   "source": [
    "nums = [1, 1, 1, 2, 2, 3]\n",
    "\n",
    "\n",
    "result_format_1 = remove_duplicates(nums)\n",
    "print(result_format_1)\n",
    "\n",
    "\n",
    "x = result_format_1[0]\n",
    "y = result_format_1[1]\n",
    "result_format_2 = y[:x]\n",
    "print(result_format_2)\n"
   ]
  },
  {
   "cell_type": "code",
   "execution_count": null,
   "id": "ba24fb02-bb58-41d8-8bbf-b627ac2ee7ea",
   "metadata": {},
   "outputs": [],
   "source": []
  },
  {
   "cell_type": "markdown",
   "id": "0c979dd5-bc78-40fe-a0ac-1341ecb36df6",
   "metadata": {
    "jp-MarkdownHeadingCollapsed": true
   },
   "source": [
    "##### <span style=\"color: blue\">7  ===>  Remove duplicates  in-place  from a sorted list such that each unique element appears  at most twice . The relative order of the elements should be kept the same.  </span>"
   ]
  },
  {
   "cell_type": "markdown",
   "id": "5bf01485-4db9-4811-86b0-3437a15525d2",
   "metadata": {},
   "source": [
    "<br>\n",
    "\n",
    "<span style=\"color: #DCBD10\">▬▬▬▬▬▬▬▬▬▬▬▬▬▬▬▬▬▬▬▬▬▬▬▬▬▬▬▬▬▬▬▬▬▬▬▬▬▬▬▬▬▬▬▬▬▬▬▬▬▬▬▬▬▬▬▬▬▬▬▬▬▬▬▬▬▬▬▬▬▬▬▬▬▬▬▬</span>\n",
    "\n",
    "<br>\n",
    "\n",
    "<div style=\"padding: 10px; background-color: #E2FFEC\">\n",
    "\n",
    "<u>**QUESTION 7**</u> : &nbsp;&nbsp;Remove duplicates <span style=\"background-color: #FFE8E2\">&nbsp;in-place&nbsp;</span> from a sorted list such that each unique element appears <span style=\"background-color: #FFE8E2\">&nbsp;at most twice&nbsp;</span>. <br>\n",
    "&nbsp;&nbsp;&nbsp;&nbsp;&nbsp;&nbsp;&nbsp;&nbsp;&nbsp;&nbsp;&nbsp;&nbsp;&nbsp;&nbsp;&nbsp;&nbsp;&nbsp;&nbsp;&nbsp;&nbsp;&nbsp;&nbsp;&nbsp;&nbsp;&nbsp;&nbsp;&nbsp;The relative order of the elements should be kept the same.\n",
    "\n",
    "<br>\n",
    "\n",
    "nums = <span style=\"color: #FF3503\"><strong>[ 1, 1, 1, 2, 2, 3 ]</strong></span>    &nbsp;&nbsp;==================>&nbsp;&nbsp;    **5**, nums = <span style=\"color: #FF3503\"><strong>[1, 1, 2, 2, 3, __ ]<strong></span>\n",
    "\n",
    "nums = <span style=\"color: #FF3503\"><strong>[ 0, 0 , 1, 1, 1, 1, 2, 3, 3]</strong></span>    &nbsp;&nbsp;=============>&nbsp;&nbsp;    **7**, nums = <span style=\"color: #FF3503\"><strong>[ 0, 0, 1, 1, 2, 3 , 3 , __ , __ ]<strong></span>\n",
    "\n",
    "nums = <span style=\"color: #FF3503\"><strong>[1, 2, 2, 3]</strong></span>    &nbsp;&nbsp;======================>&nbsp;&nbsp;    **4**, nums = <span style=\"color: #FF3503\"><strong>[1, 2, 2, 3]<strong></span>\n",
    "\n",
    "</div>\n",
    "\n",
    "<br>\n",
    "\n",
    "<br>\n",
    "\n",
    "<span style=\"color: blue\">**Solution-1**</span>&nbsp;&nbsp;<span style=\"background-color: yellow\">&nbsp;(using <strong>extra</strong> space)&nbsp;</span>"
   ]
  },
  {
   "cell_type": "code",
   "execution_count": 12,
   "id": "4fb92dde-9ecc-416f-bc57-bd16b511fd63",
   "metadata": {},
   "outputs": [
    {
     "name": "stdout",
     "output_type": "stream",
     "text": [
      "[0, 0, 1, 1, 2, 3, 3]\n"
     ]
    }
   ],
   "source": [
    "\n",
    "def remove_duplicates(nums_list):\n",
    "    num_freq_dict = {}\n",
    "    result = []\n",
    "    for num in nums_list:\n",
    "        num_freq_dict[num] = num_freq_dict.get(num, 0) + 1\n",
    "        if num_freq_dict[num] <= 2:\n",
    "            result.append(num)\n",
    "    return result\n",
    "\n",
    "nums = [ 0, 0 , 1, 1, 1, 1, 2, 3, 3] \n",
    "\n",
    "result = remove_duplicates(nums)\n",
    "\n",
    "print(result)\n"
   ]
  },
  {
   "cell_type": "markdown",
   "id": "d203aaa4-37f2-44df-b8fd-f776ae8da0ba",
   "metadata": {},
   "source": [
    "<br>\n",
    "\n",
    "<br>\n",
    "\n",
    "<span style=\"color: blue\">**Solution-2**</span>&nbsp;&nbsp;<span style=\"background-color: yellow\">&nbsp;(<strong>not</strong> using any <strong>extra</strong> space)&nbsp;</span>\n",
    "\n",
    "<div style=\"border: 2px solid pink; padding: 10px; color: blue\">\n",
    "    \n",
    "<font size=\"+2\"><span style=\"color: red\">↳</span></font>&nbsp;&nbsp;<font size=\"+1\">Initialize <strong><span style=\"background-color: #CAFEFD; color: black\">&nbsp;&nbsp;i&nbsp;&nbsp;</span></strong> and <strong><span style=\"background-color: #CAFEFD; color: black\">&nbsp;&nbsp;j&nbsp;&nbsp;</span></strong> pointers with <strong><span style=\"color: black\">&nbsp;0</span></strong></font>\n",
    "    \n",
    "<font size=\"+2\"><span style=\"color: red\">↳</span></font>&nbsp;&nbsp;<font size=\"+1\">Keep incrementing <strong><span style=\"background-color: #CAFEFD; color: black\">&nbsp;&nbsp;j&nbsp;&nbsp;</span></strong></span></strong> by <span style=\"color: black\"><strong>one</strong></span> no matter what.</font>\n",
    "\n",
    "<font size=\"+2\"><span style=\"color: red\">↳</span></font>&nbsp;&nbsp; <font size=\"+1\">For each iteration of <strong><span style=\"background-color: #CAFEFD; color: black\">&nbsp;&nbsp;j&nbsp;&nbsp;</span></strong>, **replace** <strong><span style=\"color: black; background-color: #FEF3FF;\">&nbsp;&nbsp;nums[ i ]&nbsp;&nbsp;</span></strong> with <strong><span style=\"color: black; background-color: #FEF3FF;\">&nbsp;&nbsp;nums[ j ]&nbsp;&nbsp;</span></strong> followed by <strong><span style=\"color: black; background-color: #FEF3FF;\">&nbsp;&nbsp;i += 1&nbsp;&nbsp;</span></strong> if &nbsp;&nbsp;<strong><span style=\"color: black; background-color: #FEF3FF;\">nums[ j ] &nbsp;&nbsp;!=&nbsp;&nbsp; nums[ i - 2 ]</span></strong>\n",
    "\n",
    "<div style=\"display: flex; color: black; margin-left: 100px\">\n",
    "    <div style=\"flex: 1; padding: 10px;\">\n",
    "    <font size=\"+2\">if</font>\n",
    "    </div>\n",
    "    <div style=\"flex: 1; padding: 10px; background-color: yellow;\">\n",
    "        <font size=\"+2\">nums[ j ] &nbsp;!=&nbsp;  nums[ i-2 ]</font>\n",
    "    </div>\n",
    "    <div style=\"flex: 1; padding: 10px\">\n",
    "    <font size=\"+2\">__________then_________</font>\n",
    "    </div>\n",
    "    <div style=\"flex: 1; padding: 10px; background-color: yellow;\">\n",
    "        <font size=\"+2\">nums[ i ] = nums[ j ]</font>  <br>\n",
    "        <font size=\"+2\">i += 1</font>\n",
    "    </div>\n",
    "</div>\n",
    "\n",
    "</div>\n",
    "\n",
    "</br>\n"
   ]
  },
  {
   "cell_type": "code",
   "execution_count": 1,
   "id": "be29dcbc-86e4-4c5b-87a7-fa151cd0ef9a",
   "metadata": {},
   "outputs": [
    {
     "name": "stdout",
     "output_type": "stream",
     "text": [
      "(7, [0, 0, 1, 1, 2, 3, 3, 3, 3])\n",
      "[0, 0, 1, 1, 2, 3, 3]\n"
     ]
    }
   ],
   "source": [
    "\n",
    "\n",
    "def remove_duplicates(nums): \n",
    "    i = 0 \n",
    "    for j in range(len(nums)): \n",
    "        if i < 2 or nums[j] != nums[i-2]: \n",
    "            nums[i] = nums[j]\n",
    "            i += 1\n",
    "    return i, nums\n",
    "\n",
    "            \n",
    "nums = [ 0, 0 , 1, 1, 1, 1, 2, 3, 3]\n",
    "\n",
    "\n",
    "result_format_1 = remove_duplicates(nums)\n",
    "print(result_format_1)\n",
    "\n",
    "\n",
    "x = result_format_1[0]\n",
    "y = result_format_1[1]\n",
    "result_format_2 = y[:x]\n",
    "print(result_format_2)\n",
    "\n"
   ]
  },
  {
   "cell_type": "code",
   "execution_count": 2,
   "id": "8ed07756-6b5f-41ad-ac83-00bd759c1dfe",
   "metadata": {},
   "outputs": [
    {
     "name": "stdout",
     "output_type": "stream",
     "text": [
      "(7, [0, 0, 1, 1, 2, 3, 3, 3, 3])\n",
      "[0, 0, 1, 1, 2, 3, 3]\n"
     ]
    }
   ],
   "source": [
    "\n",
    "def remove_duplicates(nums): \n",
    "    i = 0 \n",
    "    for e in nums: \n",
    "        if i < 2 or e != nums[i-2]: \n",
    "            nums[i] = e\n",
    "            i += 1\n",
    "    return i, nums\n",
    "\n",
    "\n",
    "\n",
    "result_format_1 = remove_duplicates(nums)\n",
    "print(result_format_1)\n",
    "\n",
    "\n",
    "x = result_format_1[0]\n",
    "y = result_format_1[1]\n",
    "result_format_2 = y[:x]\n",
    "print(result_format_2)\n"
   ]
  },
  {
   "cell_type": "code",
   "execution_count": null,
   "id": "08007320-fc93-4f65-bc24-675e5dfaa234",
   "metadata": {},
   "outputs": [],
   "source": []
  },
  {
   "cell_type": "markdown",
   "id": "61b3d423-c7a6-4073-91aa-5438c4995a79",
   "metadata": {
    "jp-MarkdownHeadingCollapsed": true
   },
   "source": [
    "##### <span style=\"color: blue\">8  ===>  Word Count ===> Find frequency of each word in a given text  </span>"
   ]
  },
  {
   "cell_type": "markdown",
   "id": "592bc6b5-24dc-4166-b562-8705177322e0",
   "metadata": {},
   "source": [
    "<br>\n",
    "\n",
    "<span style=\"color: #DCBD10\">▬▬▬▬▬▬▬▬▬▬▬▬▬▬▬▬▬▬▬▬▬▬▬▬▬▬▬▬▬▬▬▬▬▬▬▬▬▬▬▬▬▬▬▬▬▬▬▬▬▬▬▬▬▬▬▬▬▬▬▬▬▬▬▬▬▬▬▬▬▬▬▬▬▬▬▬</span>\n",
    "\n",
    "<br>\n",
    "\n",
    "<div style=\"padding: 10px; background-color: #E2FFEC\">\n",
    "\n",
    "<u>**QUESTION 8**</u> : &nbsp;&nbsp;Word Count ===> Find frequency of each word in a given text\n",
    "\n",
    "</div>\n",
    "\n",
    "<br>\n",
    "\n",
    "<span style=\"color: blue\">**Solution - 1**</span>"
   ]
  },
  {
   "cell_type": "code",
   "execution_count": 192,
   "id": "d5e7787c-6e5e-42d3-879a-20f565cccebf",
   "metadata": {},
   "outputs": [
    {
     "name": "stdout",
     "output_type": "stream",
     "text": [
      "{'This': 2, 'is': 2, 'a': 2, 'sample': 1, 'string': 1, 'with': 1, 'repeated': 1, 'words.': 1, 'just': 1, 'sample.': 1}\n"
     ]
    }
   ],
   "source": [
    "\n",
    "def find_word_frequency(text):\n",
    "    word_list = text.split()\n",
    "    word_dict = {}\n",
    "    for word in word_list:\n",
    "        word_dict[word] = word_dict.get(word, 0) + 1\n",
    "    return word_dict\n",
    "\n",
    "text = '''This is a sample string with repeated words. \n",
    "This is just a sample.'''\n",
    "\n",
    "word_frequency = find_word_frequency(text)\n",
    "\n",
    "print(word_frequency)\n"
   ]
  },
  {
   "cell_type": "markdown",
   "id": "649b0f88-6a17-473b-84b4-270c1797c794",
   "metadata": {},
   "source": [
    "<br>\n",
    "\n",
    "<span style=\"color: blue\">**Solution - 2** &nbsp;(using <span style=\"color: red\">**lambda**</span> function)</span>\n"
   ]
  },
  {
   "cell_type": "code",
   "execution_count": 193,
   "id": "35085195-3470-4c6c-9ed3-8a473a36f760",
   "metadata": {},
   "outputs": [
    {
     "name": "stdout",
     "output_type": "stream",
     "text": [
      "{'This': 2, 'is': 2, 'a': 2, 'sample': 1, 'string': 1, 'with': 1, 'repeated': 1, 'words.': 1, 'just': 1, 'sample.': 1}\n"
     ]
    }
   ],
   "source": [
    "\n",
    "text = '''This is a sample string with repeated words. \n",
    "This is just a sample.'''\n",
    "\n",
    "find_word_frequency_func = lambda text: {word: text.split().count(word) for word in text.split()}\n",
    "\n",
    "print(find_word_frequency_func(text))\n"
   ]
  },
  {
   "cell_type": "markdown",
   "id": "df1f181f-1ec9-4cf3-b7cd-a13c7f3aee59",
   "metadata": {},
   "source": [
    "<br>\n",
    "\n",
    "<span style=\"color: blue\">**Solution - 3** &nbsp;(using <span style=\"color: red\">**reduce( )**</span> and <span style=\"color: red\">**lambda**</span> function)</span>\n",
    "\n",
    "<font size=\"+2\">↳</font>&nbsp;&nbsp;**Step - 1** ==>&nbsp;&nbsp;<span style=\"background-color: yellow\">&nbsp;(without using **lambda**)&nbsp;</span>"
   ]
  },
  {
   "cell_type": "code",
   "execution_count": 194,
   "id": "6dde21b8-950a-4989-9f20-134879899cd5",
   "metadata": {},
   "outputs": [
    {
     "name": "stdout",
     "output_type": "stream",
     "text": [
      "{'This': 1, 'is': 1, 'a': 1, 'sample': 1, 'string': 1, 'with': 1, 'repeated': 1, 'words.': 1, 'just': 1, 'sample.': 1}\n"
     ]
    }
   ],
   "source": [
    "\n",
    "from functools import reduce\n",
    "\n",
    "\n",
    "def word_frequency(word_dict, word):\n",
    "    word_dict[word] = word_dict.get(key, 0) + 1 \n",
    "    return word_dict\n",
    "\n",
    "\n",
    "text = '''This is a sample string with repeated words. \n",
    "This is just a sample.'''\n",
    "\n",
    "word_frequency_dict = reduce(word_frequency, text.split(), {})\n",
    "\n",
    "\n",
    "print(word_frequency_dict)\n"
   ]
  },
  {
   "cell_type": "markdown",
   "id": "00a1920a-0cac-4683-af6f-953825e5b8ba",
   "metadata": {},
   "source": [
    "<br>\n",
    "\n",
    "<font size=\"+2\">↳</font>&nbsp;&nbsp;**Step - 2** ==>&nbsp;&nbsp;<span style=\"background-color: yellow\">&nbsp;(using **lambda**)&nbsp;</span>"
   ]
  },
  {
   "cell_type": "code",
   "execution_count": 195,
   "id": "2ab28ed7-654a-4835-afe2-e777e3ca4965",
   "metadata": {},
   "outputs": [
    {
     "name": "stdout",
     "output_type": "stream",
     "text": [
      "{'sample.': 1}\n"
     ]
    }
   ],
   "source": [
    "\n",
    "from functools import reduce\n",
    "\n",
    "\n",
    "def word_frequency(word_dict, word):\n",
    "    word_dict[word] = word_dict.get(key, 0) + 1 \n",
    "    return word_dict\n",
    "\n",
    "\n",
    "text = '''This is a sample string with repeated words. \n",
    "This is just a sample.'''\n",
    "\n",
    "\n",
    "word_frequency_dict = reduce(lambda word_dict, word: {word: word_dict.get(word,0)+1}, text.split(), {})\n",
    "\n",
    "\n",
    "print(word_frequency_dict)\n"
   ]
  },
  {
   "cell_type": "markdown",
   "id": "a0a0951d-066c-46b5-b09e-4e9bce8f85d5",
   "metadata": {},
   "source": [
    "<br>\n",
    "\n",
    "<span style=\"color: #E5064A\">To avoid the overwriting of entire dictionary in each iteration, we need to use the **dictionary unpacking operator** ( <span style=\"color: black\"><strong>**word_dict</strong></span> ) which will ensure that the existing counts are preserved while adding the updated count for the current word.</span>\n"
   ]
  },
  {
   "cell_type": "code",
   "execution_count": 196,
   "id": "f302038c-20de-4945-a77d-c29fe76af61a",
   "metadata": {},
   "outputs": [
    {
     "name": "stdout",
     "output_type": "stream",
     "text": [
      "{'This': 2, 'is': 2, 'a': 2, 'sample': 1, 'string': 1, 'with': 1, 'repeated': 1, 'words.': 1, 'just': 1, 'sample.': 1}\n"
     ]
    }
   ],
   "source": [
    "\n",
    "from functools import reduce\n",
    "\n",
    "\n",
    "def word_frequency(word_dict, word):\n",
    "    word_dict[word] = word_dict.get(key, 0) + 1 \n",
    "    return word_dict\n",
    "\n",
    "\n",
    "text = '''This is a sample string with repeated words. \n",
    "This is just a sample.'''\n",
    "\n",
    "\n",
    "word_frequency_dict = reduce(lambda word_dict, word: {**word_dict, word: word_dict.get(word,0)+1}, text.split(), {})\n",
    "\n",
    "\n",
    "print(word_frequency_dict)\n"
   ]
  },
  {
   "cell_type": "code",
   "execution_count": null,
   "id": "569f0a1f-2eab-4730-bb86-e094e6e4abdc",
   "metadata": {},
   "outputs": [],
   "source": []
  },
  {
   "cell_type": "markdown",
   "id": "d2c9b667-51c3-4474-b84f-d449f893d7aa",
   "metadata": {
    "jp-MarkdownHeadingCollapsed": true
   },
   "source": [
    "##### <span style=\"color: blue\">9  ===>  Given a list of integers, print 1 for odd and 0 for even  </span>"
   ]
  },
  {
   "cell_type": "markdown",
   "id": "50ae9aca-dfe9-465b-ba63-45635a1deaec",
   "metadata": {},
   "source": [
    "<br>\n",
    "\n",
    "<span style=\"color: #DCBD10\">▬▬▬▬▬▬▬▬▬▬▬▬▬▬▬▬▬▬▬▬▬▬▬▬▬▬▬▬▬▬▬▬▬▬▬▬▬▬▬▬▬▬▬▬▬▬▬▬▬▬▬▬▬▬▬▬▬▬▬▬▬▬▬▬▬▬▬▬▬▬▬▬▬▬▬▬</span>\n",
    "\n",
    "<br>\n",
    "\n",
    "<div style=\"padding: 10px; background-color: #E2FFEC\">\n",
    "\n",
    "<u>**QUESTION 9**</u> : &nbsp;&nbsp;Given a list of integers, print 1 for odd and 0 for even\n",
    "\n",
    "</div>\n",
    "\n",
    "<br>\n",
    "\n",
    "<span style=\"color: blue\">**Solution - 1**</span>\n"
   ]
  },
  {
   "cell_type": "code",
   "execution_count": 199,
   "id": "23969c25-c31a-438d-93cf-da7cd257189e",
   "metadata": {},
   "outputs": [
    {
     "name": "stdout",
     "output_type": "stream",
     "text": [
      "[1, 1, 0, 0, 0, 0, 0, 1]\n"
     ]
    }
   ],
   "source": [
    "\n",
    "def odd_even(lst):\n",
    "    return [i%2 for i in lst]\n",
    "\n",
    "input_list = [1, 3, 2, 4, 8, 8, 0, 5]\n",
    "\n",
    "result = odd_even(input_list)\n",
    "\n",
    "print(result)\n"
   ]
  },
  {
   "cell_type": "markdown",
   "id": "2a735bae-c39f-40c9-84fe-fc328fca19a9",
   "metadata": {},
   "source": [
    "<br>\n",
    "\n",
    "<span style=\"color: blue\">**Solution - 2** &nbsp;(using <span style=\"color: red\">**lambda**</span> function)</span>\n"
   ]
  },
  {
   "cell_type": "code",
   "execution_count": 200,
   "id": "00b27bc2-27fa-43cd-9b3e-40d404020aa0",
   "metadata": {},
   "outputs": [
    {
     "name": "stdout",
     "output_type": "stream",
     "text": [
      "[1, 1, 0, 0, 0, 0, 0, 1]\n"
     ]
    }
   ],
   "source": [
    "\n",
    "odd_even_func = lambda lst: [i%2 for i in lst]\n",
    "\n",
    "input_list = [1, 3, 2, 4, 8, 8, 0, 5]\n",
    "\n",
    "result = odd_even_func(input_list)\n",
    "\n",
    "print(result)\n"
   ]
  },
  {
   "cell_type": "code",
   "execution_count": null,
   "id": "d04cd484-1679-4744-b05b-24dc266dd3cf",
   "metadata": {},
   "outputs": [],
   "source": []
  },
  {
   "cell_type": "markdown",
   "id": "6f86b8db-0ed6-4413-abfd-979f0f621982",
   "metadata": {
    "jp-MarkdownHeadingCollapsed": true
   },
   "source": [
    "##### <span style=\"color: blue\">10  ===>  Write a program to find the factorial of a number using recursion.  </span>"
   ]
  },
  {
   "cell_type": "markdown",
   "id": "9fe8550a-2ffe-4056-afc0-9ec21349b01c",
   "metadata": {},
   "source": [
    "<br>\n",
    "\n",
    "<span style=\"color: #DCBD10\">▬▬▬▬▬▬▬▬▬▬▬▬▬▬▬▬▬▬▬▬▬▬▬▬▬▬▬▬▬▬▬▬▬▬▬▬▬▬▬▬▬▬▬▬▬▬▬▬▬▬▬▬▬▬▬▬▬▬▬▬▬▬▬▬▬▬▬▬▬▬▬▬▬▬▬▬</span>\n",
    "\n",
    "<br>\n",
    "\n",
    "<div style=\"padding: 10px; background-color: #E2FFEC\">\n",
    "\n",
    "<u>**QUESTION 10**</u> : &nbsp;&nbsp;Write a program to find the factorial of a number using recursion.\n",
    "\n",
    "</div>\n",
    "\n",
    "<br>\n"
   ]
  },
  {
   "cell_type": "code",
   "execution_count": 11,
   "id": "275b8b81-c2c1-4f1e-94a2-0d828a1f2499",
   "metadata": {},
   "outputs": [
    {
     "name": "stdin",
     "output_type": "stream",
     "text": [
      "Enter a number you want to find the factorial of:  5\n"
     ]
    },
    {
     "name": "stdout",
     "output_type": "stream",
     "text": [
      "120\n"
     ]
    }
   ],
   "source": [
    "\n",
    "def factorial(n):\n",
    "    if n == 0:\n",
    "        return 1\n",
    "    else:\n",
    "        return n * factorial(n-1)\n",
    "\n",
    "num = int(input(\"Enter a number you want to find the factorial of: \"))\n",
    "\n",
    "result = factorial(num)\n",
    "\n",
    "print(result)\n"
   ]
  },
  {
   "cell_type": "code",
   "execution_count": null,
   "id": "89983e37-b56a-4d5d-8c2c-a609216600e1",
   "metadata": {},
   "outputs": [],
   "source": []
  },
  {
   "cell_type": "markdown",
   "id": "0570bcb8-8cb1-43d2-bd76-bc5fe975943a",
   "metadata": {
    "jp-MarkdownHeadingCollapsed": true
   },
   "source": [
    "##### <span style=\"color: blue\">11  ===>  Write a program to find the fibonacci of a number using recursion. </span>"
   ]
  },
  {
   "cell_type": "markdown",
   "id": "403fd8ae-7637-46e9-b139-486f965267c5",
   "metadata": {},
   "source": [
    "<br>\n",
    "\n",
    "<span style=\"color: #DCBD10\">▬▬▬▬▬▬▬▬▬▬▬▬▬▬▬▬▬▬▬▬▬▬▬▬▬▬▬▬▬▬▬▬▬▬▬▬▬▬▬▬▬▬▬▬▬▬▬▬▬▬▬▬▬▬▬▬▬▬▬▬▬▬▬▬▬▬▬▬▬▬▬▬▬▬▬▬</span>\n",
    "\n",
    "<br>\n",
    "\n",
    "<div style=\"padding: 10px; background-color: #E2FFEC\">\n",
    "\n",
    "<u>**QUESTION 11**</u> : &nbsp;&nbsp;Write a program to find the fibonacci of a number using recursion.\n",
    "\n",
    "</div>\n",
    "\n",
    "<br>"
   ]
  },
  {
   "cell_type": "code",
   "execution_count": 18,
   "id": "4414e54c-1439-4915-85fb-fe8978c92b94",
   "metadata": {},
   "outputs": [
    {
     "name": "stdout",
     "output_type": "stream",
     "text": [
      "0\n",
      "1\n",
      "1\n",
      "2\n",
      "3\n",
      "5\n",
      "8\n"
     ]
    }
   ],
   "source": [
    "\n",
    "def fibonacci(n):\n",
    "    if n == 0:\n",
    "        return 0\n",
    "    elif n == 1:\n",
    "        return 1\n",
    "    else:\n",
    "        return fibonacci(n-1) + fibonacci(n-2)\n",
    "\n",
    "\n",
    "print(fibonacci(0))       #  0\n",
    "print(fibonacci(1))       #  1\n",
    "print(fibonacci(2))       #  1\n",
    "print(fibonacci(3))       #  2\n",
    "print(fibonacci(4))       #  3\n",
    "print(fibonacci(5))       #  5\n",
    "print(fibonacci(6))       #  8\n"
   ]
  },
  {
   "cell_type": "code",
   "execution_count": null,
   "id": "76cef18e-e277-49a0-a011-06dbc0fb1a7f",
   "metadata": {},
   "outputs": [],
   "source": []
  },
  {
   "cell_type": "markdown",
   "id": "f058220c-9e66-40d8-afdb-35555745b12e",
   "metadata": {
    "jp-MarkdownHeadingCollapsed": true
   },
   "source": [
    "##### <span style=\"color: blue\">12  ===>  Write a program to find the frequency of a number in a list. Return in descending order of number of occurrences a number exists. </span>"
   ]
  },
  {
   "cell_type": "markdown",
   "id": "98556dd7-2aa5-4c3a-be6f-7b4556b4e0a7",
   "metadata": {},
   "source": [
    "<br>\n",
    "\n",
    "<span style=\"color: #DCBD10\">▬▬▬▬▬▬▬▬▬▬▬▬▬▬▬▬▬▬▬▬▬▬▬▬▬▬▬▬▬▬▬▬▬▬▬▬▬▬▬▬▬▬▬▬▬▬▬▬▬▬▬▬▬▬▬▬▬▬▬▬▬▬▬▬▬▬▬▬▬▬▬▬▬▬▬▬</span>\n",
    "\n",
    "<br>\n",
    "\n",
    "<div style=\"padding: 10px; background-color: #E2FFEC\">\n",
    "\n",
    "<u>**QUESTION 12**</u> : &nbsp;&nbsp;Write a program to find the frequency of a number in a list. Return in descending order of number of occurrences a number exists.\n",
    "\n",
    "</div>\n",
    "\n",
    "<br>\n",
    "\n",
    "<font size=\"+2\">↳</font>&nbsp;&nbsp;<span style=\"background-color: yellow\">&nbsp;&nbsp;without using **dict.fromkeys( )**&nbsp;)&nbsp;</span>"
   ]
  },
  {
   "cell_type": "code",
   "execution_count": 20,
   "id": "8463e6f3-4671-44fa-a40b-c56d2be225c3",
   "metadata": {},
   "outputs": [
    {
     "name": "stdout",
     "output_type": "stream",
     "text": [
      "{25: 3, 42: 2, 8: 1, 45: 1, 6: 1, 11: 1, 29: 1, 14: 1}\n"
     ]
    }
   ],
   "source": [
    "\n",
    "def find_frequency(arr):\n",
    "    \n",
    "    # finding the number frequency\n",
    "    num_count_dict = {}\n",
    "    for e in arr:\n",
    "        num_count_dict[e] = num_count_dict.get(e, 0) + 1\n",
    "        \n",
    "    # sorting the dictionary num_count_dict as per the value in each key-value pair\n",
    "    # return sorted(num_count_dict.items(), key = lambda x: x[1], reverse= True)       # returns list of tuples\n",
    "    return dict(sorted(num_count_dict.items(), key = lambda x: x[1], reverse= True))   # returns a dictionary converting each tuple into a key-value pair\n",
    "        \n",
    "\n",
    "num_list = [ 8, 45, 25, 6, 11, 29, 42, 25, 14, 42, 25 ]\n",
    "\n",
    "print(find_frequency(num_list))\n"
   ]
  },
  {
   "cell_type": "markdown",
   "id": "b14367f3-a5de-4e86-98ff-c9de54a838f8",
   "metadata": {},
   "source": [
    "<br>\n",
    "\n",
    "<font size=\"+2\">↳</font>&nbsp;&nbsp;<span style=\"background-color: yellow\">&nbsp;&nbsp;using **dict.fromkeys( )**&nbsp;)&nbsp;</span>"
   ]
  },
  {
   "cell_type": "code",
   "execution_count": 23,
   "id": "e0cf820b-d15d-4108-84bc-7a5da839470e",
   "metadata": {},
   "outputs": [
    {
     "name": "stdout",
     "output_type": "stream",
     "text": [
      "{25: 3, 42: 2, 8: 1, 45: 1, 6: 1, 11: 1, 29: 1, 14: 1}\n"
     ]
    }
   ],
   "source": [
    "\n",
    "def find_frequency(arr):\n",
    "    num_count_dict = dict.fromkeys(arr, 0)\n",
    "    for e in arr:\n",
    "        num_count_dict[e] = num_count_dict[e] + 1\n",
    "        # num_count_dict[e] = num_count_dict.get(e) + 1      # now we don't need to pass default value 0 while using dictionary method dict.get() \n",
    "    return dict(sorted(num_count_dict.items(), key = lambda x: x[1], reverse= True))  \n",
    "        \n",
    "\n",
    "num_list = [ 8, 45, 25, 6, 11, 29, 42, 25, 14, 42, 25 ]\n",
    "\n",
    "print(find_frequency(num_list))\n"
   ]
  },
  {
   "cell_type": "code",
   "execution_count": null,
   "id": "c4b76368-31aa-4d2a-959b-180feb47c941",
   "metadata": {},
   "outputs": [],
   "source": []
  },
  {
   "cell_type": "markdown",
   "id": "43e0a2ee-807b-4a86-b0dc-2c9c36968c53",
   "metadata": {
    "jp-MarkdownHeadingCollapsed": true
   },
   "source": [
    "##### <span style=\"color: blue\">13  ===>  Write a program to to check whether a given number is prime or not. </span>"
   ]
  },
  {
   "cell_type": "markdown",
   "id": "626dc630-def0-4a05-b80e-6738a29ecf04",
   "metadata": {},
   "source": [
    "<br>\n",
    "\n",
    "<span style=\"color: #DCBD10\">▬▬▬▬▬▬▬▬▬▬▬▬▬▬▬▬▬▬▬▬▬▬▬▬▬▬▬▬▬▬▬▬▬▬▬▬▬▬▬▬▬▬▬▬▬▬▬▬▬▬▬▬▬▬▬▬▬▬▬▬▬▬▬▬▬▬▬▬▬▬▬▬▬▬▬▬</span>\n",
    "\n",
    "<br>\n",
    "\n",
    "<div style=\"padding: 10px; background-color: #E2FFEC\">\n",
    "\n",
    "<u>**QUESTION 13**</u> : &nbsp;&nbsp; Write a program to to check whether a given number is **prime** or not.\n",
    "\n",
    "</div>\n",
    "\n",
    "<br>\n"
   ]
  },
  {
   "cell_type": "code",
   "execution_count": 31,
   "id": "38469d24-3db8-4265-b9c3-dd9a1890ba08",
   "metadata": {},
   "outputs": [
    {
     "name": "stdin",
     "output_type": "stream",
     "text": [
      "Enter a number: 4\n"
     ]
    },
    {
     "name": "stdout",
     "output_type": "stream",
     "text": [
      "not prime\n"
     ]
    }
   ],
   "source": [
    "\n",
    "def is_prime(n):\n",
    "    if n <= 1:\n",
    "        return \"not prime\"\n",
    "    else:\n",
    "        for i in range(2, n):\n",
    "            if  n % i == 0:\n",
    "                return \"not prime\"\n",
    "        return \"prime\"\n",
    "\n",
    "\n",
    "num = int(input(\"Enter a number:\"))\n",
    "print(is_prime(num))\n",
    "        "
   ]
  },
  {
   "cell_type": "markdown",
   "id": "d2f2e272-d1a3-4f44-9eac-273900a4ba6c",
   "metadata": {},
   "source": [
    "<br>\n",
    "\n",
    "<font size=\"+2\">↳</font>&nbsp;&nbsp;<span style=\"background-color: yellow\">&nbsp;&nbsp;**Optimize the code** by reducing time complexity&nbsp;)&nbsp;</span>\n",
    "\n",
    "<span style=\"color: #F802C0\">A number n is a prime number if it has **no factors upto sqrt(n)**</span>"
   ]
  },
  {
   "cell_type": "code",
   "execution_count": 44,
   "id": "c409e99e-aec7-4e4d-be81-ea0604c34697",
   "metadata": {},
   "outputs": [
    {
     "name": "stdin",
     "output_type": "stream",
     "text": [
      "Enter a number: 4\n"
     ]
    },
    {
     "name": "stdout",
     "output_type": "stream",
     "text": [
      "not prime\n"
     ]
    }
   ],
   "source": [
    "\n",
    "import math\n",
    "\n",
    "def is_prime(n):\n",
    "    if n <= 1:\n",
    "        return \"not prime\"     # 1 is not prime\n",
    "    else:\n",
    "        # Check divisibility for numbers stating from 2 to sqrt(n)\n",
    "        for i in range(2, int(math.sqrt(n))+1):   \n",
    "            if n % i == 0:\n",
    "                return \"not prime\"\n",
    "        return \"prime\"\n",
    "\n",
    "\n",
    "num = int(input(\"Enter a number:\"))\n",
    "print(is_prime(num))\n"
   ]
  },
  {
   "cell_type": "markdown",
   "id": "41ec563c-e9b3-4b9e-a140-7c1ec00c1902",
   "metadata": {},
   "source": [
    "<span style=\"color: #F802C0\">A number n is a prime number if it has **no factors upto sqrt(n)**. <br> All primes **greater than 3** can be written in the form **6k ± 1**.</span>"
   ]
  },
  {
   "cell_type": "code",
   "execution_count": 53,
   "id": "b7507a69-0a72-488e-b036-fed6a578e79b",
   "metadata": {},
   "outputs": [
    {
     "name": "stdin",
     "output_type": "stream",
     "text": [
      "Enter a number: 5\n"
     ]
    },
    {
     "name": "stdout",
     "output_type": "stream",
     "text": [
      "prime\n"
     ]
    }
   ],
   "source": [
    "\n",
    "import math\n",
    "\n",
    "def is_prime(n):\n",
    "    if n <= 1:                #  1 is not prime\n",
    "        return \"not prime\"\n",
    "    elif n <=3:               #  2 and 3 are prime\n",
    "        return \"prime\"\n",
    "    else:\n",
    "        #  Check divisibility for numbers of the form 6k ± 1\n",
    "        for i in range(4, int(math.sqrt(n))+1, 6):\n",
    "            if n % i == 0:\n",
    "                return \"not prime\"\n",
    "        return \"prime\"\n",
    "\n",
    "\n",
    "num = int(input(\"Enter a number:\"))\n",
    "print(is_prime(num))\n"
   ]
  },
  {
   "cell_type": "markdown",
   "id": "f5edc5e9-4b34-4545-92ba-1f2d84d00291",
   "metadata": {},
   "source": [
    "<br>\n",
    "\n",
    "<font size=\"+1\">↳⭐</font> &nbsp; However, remember that <span style=\"background-color: #CAFEFD\">instead of importing **math** module for finding the square root of a number</span>, we can directly use &nbsp;<span style=\"background-color: #FEEBFF\"><strong><font size=\"+1\">&nbsp;n\\*\\*(1/2)&nbsp;</font></strong></span> &nbsp;&nbsp;or&nbsp;&nbsp; <span style=\"background-color: #FEEBFF\"><strong><font size=\"+1\">&nbsp;n\\*\\*0.5&nbsp;</font></strong></span> &nbsp;&nbsp;or&nbsp;&nbsp; <span style=\"background-color: #FEEBFF\"><strong><font size=\"+1\">&nbsp;n\\*\\*.5&nbsp;</font></strong></span>\n"
   ]
  },
  {
   "cell_type": "markdown",
   "id": "056e5214-29cb-4699-a465-97756dd2e12a",
   "metadata": {},
   "source": [
    "<span style=\"color: blue;\">**Solution**</span>"
   ]
  },
  {
   "cell_type": "code",
   "execution_count": 52,
   "id": "33d08269-991f-4f44-b352-a3f8392cc7fb",
   "metadata": {},
   "outputs": [
    {
     "name": "stdin",
     "output_type": "stream",
     "text": [
      "Enter a number: 5\n"
     ]
    },
    {
     "name": "stdout",
     "output_type": "stream",
     "text": [
      "prime\n"
     ]
    }
   ],
   "source": [
    "\n",
    "def is_prime(n):\n",
    "    if n <= 1:                        #  1 is not prime\n",
    "        return \"not prime\"\n",
    "    elif n <=3:                       #  2 and 3 are prime\n",
    "        return \"prime\"\n",
    "    elif n % 2 == 0 or n % 3 == 0:    #  Multiples of 2 or 3 are not prime\n",
    "        return \"not prime\"\n",
    "    else:\n",
    "        #  Check divisibility for numbers of the form 6k ± 1\n",
    "        for i in range(5, int(n**0.5)+1, 6):\n",
    "            if n % i == 0:\n",
    "                return \"not prime\"\n",
    "        return \"prime\"\n",
    "\n",
    "\n",
    "num = int(input(\"Enter a number:\"))\n",
    "print(is_prime(num))\n"
   ]
  },
  {
   "cell_type": "code",
   "execution_count": null,
   "id": "8b9102e5-4fdd-48fd-bc72-62dda19d9925",
   "metadata": {},
   "outputs": [],
   "source": []
  },
  {
   "cell_type": "markdown",
   "id": "255392f7-89ce-47b6-a264-01d3bffe6c2f",
   "metadata": {
    "jp-MarkdownHeadingCollapsed": true
   },
   "source": [
    "##### <span style=\"color: blue\">14  ===>  Write a program to reverse the order of words in a sentence. </span>"
   ]
  },
  {
   "cell_type": "markdown",
   "id": "ee6b9863-34ae-4afd-94ca-6abc1d443522",
   "metadata": {},
   "source": [
    "<br>\n",
    "\n",
    "<span style=\"color: #DCBD10\">▬▬▬▬▬▬▬▬▬▬▬▬▬▬▬▬▬▬▬▬▬▬▬▬▬▬▬▬▬▬▬▬▬▬▬▬▬▬▬▬▬▬▬▬▬▬▬▬▬▬▬▬▬▬▬▬▬▬▬▬▬▬▬▬▬▬▬▬▬▬▬▬▬▬▬▬</span>\n",
    "\n",
    "<br>\n",
    "\n",
    "<div style=\"padding: 10px; background-color: #E2FFEC\">\n",
    "\n",
    "<u>**QUESTION 14**</u> : &nbsp;&nbsp; Write a program to reverse the order of words in a sentence.\n",
    "\n",
    "</div>\n",
    "\n",
    "<br>\n",
    "\n",
    "<font size=\"+2\">↳</font>&nbsp;&nbsp;**Method - 1 :**&nbsp;&nbsp;<span style=\"background-color: yellow\">&nbsp;&nbsp;using <strong>concatenation operator <font size=\"+1\">+</font></strong>&nbsp;&nbsp;</span>\n"
   ]
  },
  {
   "cell_type": "code",
   "execution_count": 176,
   "id": "805ea486-bb0b-4a2b-bdd4-8850c498f806",
   "metadata": {},
   "outputs": [
    {
     "name": "stdin",
     "output_type": "stream",
     "text": [
      "Enter a string you want to reverse :  I am Avinash Kumar Mishra\n"
     ]
    },
    {
     "name": "stdout",
     "output_type": "stream",
     "text": [
      "Mishra Kumar Avinash am I \n"
     ]
    }
   ],
   "source": [
    "\n",
    "def find_reverse_sentence(txt):\n",
    "    words = txt.split(\" \")\n",
    "    reversed_sentence = ''\n",
    "    for word in words[::-1]:\n",
    "        reversed_sentence += word \n",
    "        reversed_sentence += \" \"\n",
    "    return reversed_sentence\n",
    "\n",
    "\n",
    "sentence = input(\"Enter a string you want to reverse : \")\n",
    "reversed_sentence = find_reverse_sentence(sentence)\n",
    "print(reversed_sentence)\n"
   ]
  },
  {
   "cell_type": "markdown",
   "id": "d2cd3425-5b66-4164-82d8-ff0bceb7f90f",
   "metadata": {},
   "source": [
    "<font size=\"+2\">↳</font>&nbsp;&nbsp;**Method - 2 :**&nbsp;&nbsp;<span style=\"background-color: yellow\">&nbsp;&nbsp;using string method <strong>separator.join(iterable)</strong>&nbsp;&nbsp;</span>"
   ]
  },
  {
   "cell_type": "code",
   "execution_count": 180,
   "id": "a7c76e96-6c9b-4032-a5bb-b160cc3bbfd4",
   "metadata": {},
   "outputs": [
    {
     "name": "stdin",
     "output_type": "stream",
     "text": [
      "Enter a string you want to reverse :  I am Avinash Kumar Mishra\n"
     ]
    },
    {
     "name": "stdout",
     "output_type": "stream",
     "text": [
      "Mishra Kumar Avinash am I\n"
     ]
    }
   ],
   "source": [
    "\n",
    "def find_reverse_sentence(txt):\n",
    "    words = txt.split(\" \")\n",
    "    reversed_sentence = \"\"\n",
    "    return \" \".join(words[::-1])\n",
    "\n",
    "\n",
    "sentence = input(\"Enter a string you want to reverse : \")\n",
    "reversed_sentence = find_reverse_sentence(sentence)\n",
    "print(reversed_sentence)\n"
   ]
  },
  {
   "cell_type": "code",
   "execution_count": null,
   "id": "aed71606-d0c9-40b2-a944-6a5aa791a55b",
   "metadata": {},
   "outputs": [],
   "source": []
  },
  {
   "cell_type": "markdown",
   "id": "cacb0b7f-79f7-4f0c-bd23-615b1cce928c",
   "metadata": {
    "jp-MarkdownHeadingCollapsed": true
   },
   "source": [
    "##### <span style=\"color: blue\">15  ===>  Write a program to count the lower and upper case characters in any text or sentence. </span>"
   ]
  },
  {
   "cell_type": "markdown",
   "id": "11871400-c7cb-4bb3-9550-51c9975cc9e1",
   "metadata": {},
   "source": [
    "<br>\n",
    "\n",
    "<span style=\"color: #DCBD10\">▬▬▬▬▬▬▬▬▬▬▬▬▬▬▬▬▬▬▬▬▬▬▬▬▬▬▬▬▬▬▬▬▬▬▬▬▬▬▬▬▬▬▬▬▬▬▬▬▬▬▬▬▬▬▬▬▬▬▬▬▬▬▬▬▬▬▬▬▬▬▬▬▬▬▬▬</span>\n",
    "\n",
    "<br>\n",
    "\n",
    "<div style=\"padding: 10px; background-color: #E2FFEC\">\n",
    "\n",
    "<u>**QUESTION 15**</u> : &nbsp;&nbsp; Write a program to count the lower and upper case characters in any text or sentence.\n",
    "\n",
    "</div>\n",
    "\n",
    "<br>\n",
    "\n",
    "<font size=\"+2\">↳</font>&nbsp;&nbsp;**Method - 1 :**&nbsp;&nbsp;<span style=\"background-color: yellow\">&nbsp;&nbsp;using python built-in function <strong>ord( )</strong>&nbsp;&nbsp;</span>\n"
   ]
  },
  {
   "cell_type": "code",
   "execution_count": 192,
   "id": "fead67da-5e66-4bfa-8775-fe6393f5f095",
   "metadata": {},
   "outputs": [],
   "source": [
    "def count_lower_upper_case(txt):\n",
    "    upper_case_count = 0\n",
    "    lower_case_count = 0\n",
    "    for chr in txt:\n",
    "        if ord(chr) >= ord('A') and ord(chr) <= ord('Z'):\n",
    "            upper_case_count += 1\n",
    "        elif ord(chr) >= ord('a') and ord(chr) <= ord('z'):\n",
    "            lower_case_count += 1\n",
    "    return upper_case_count, lower_case_count\n"
   ]
  },
  {
   "cell_type": "markdown",
   "id": "9cb7ed66-b9b2-4a81-b858-faab3b793621",
   "metadata": {},
   "source": [
    "<span style=\"color: #F802C0\">The only little problem with this method is that you have to know whether <font size=\"+1\">**ord('A') > ord('Z')**</font> or not. And similarly whether <font size=\"+1\">**ord('a') > ord('z')**</font> or not.</span>\n",
    "\n",
    "<br>\n",
    "\n",
    "<font size=\"+2\">↳</font>&nbsp;&nbsp;**Method - 2 :**&nbsp;&nbsp;<span style=\"background-color: yellow\">&nbsp;&nbsp;using python string method <strong>string.isupper( )</strong> &nbsp;and&nbsp; <strong>string.islower( )</strong>&nbsp;&nbsp;</span>"
   ]
  },
  {
   "cell_type": "code",
   "execution_count": 207,
   "id": "c0232191-2077-420a-ab52-f4c84540f1ef",
   "metadata": {},
   "outputs": [],
   "source": [
    "\n",
    "def count_lower_upper_case(txt):\n",
    "    upper_case_count = 0\n",
    "    lower_case_count = 0\n",
    "    for chr in txt:\n",
    "        if chr.isupper() is True:\n",
    "            upper_case_count += 1\n",
    "        elif chr.islower() is True:\n",
    "            lower_case_count += 1\n",
    "    return upper_case_count, lower_case_count\n",
    "    "
   ]
  },
  {
   "cell_type": "code",
   "execution_count": 208,
   "id": "6edb37c6-9741-45af-bbfb-1a161fc9267f",
   "metadata": {},
   "outputs": [
    {
     "name": "stdin",
     "output_type": "stream",
     "text": [
      "Enter a text:  I am Avinash\n"
     ]
    },
    {
     "name": "stdout",
     "output_type": "stream",
     "text": [
      "UPPER CASE COUNT = 2\n",
      "lower case count = 8\n"
     ]
    }
   ],
   "source": [
    "\n",
    "text = input(\"Enter a text: \")\n",
    "\n",
    "upper_case_count, lower_case_count = count_lower_upper_case(text)\n",
    "\n",
    "print(f\"UPPER CASE COUNT = {upper_case_count}\")\n",
    "\n",
    "print(f\"lower case count = {lower_case_count}\")\n",
    "    "
   ]
  },
  {
   "cell_type": "code",
   "execution_count": 209,
   "id": "b23f34b2-19f8-4b30-ac4d-15a08b77f786",
   "metadata": {},
   "outputs": [
    {
     "name": "stdin",
     "output_type": "stream",
     "text": [
      "Enter a text:  DATA ENGINEERING\n"
     ]
    },
    {
     "name": "stdout",
     "output_type": "stream",
     "text": [
      "UPPER CASE COUNT = 15\n",
      "lower case count = 0\n"
     ]
    }
   ],
   "source": [
    "\n",
    "text = input(\"Enter a text: \")\n",
    "\n",
    "upper_case_count, lower_case_count = count_lower_upper_case(text)\n",
    "\n",
    "print(f\"UPPER CASE COUNT = {upper_case_count}\")\n",
    "\n",
    "print(f\"lower case count = {lower_case_count}\")\n",
    "    "
   ]
  },
  {
   "cell_type": "code",
   "execution_count": 210,
   "id": "e809856e-596f-4547-afe5-78de760e5a5c",
   "metadata": {},
   "outputs": [
    {
     "name": "stdin",
     "output_type": "stream",
     "text": [
      "Enter a text:  \n"
     ]
    },
    {
     "name": "stdout",
     "output_type": "stream",
     "text": [
      "UPPER CASE COUNT = 0\n",
      "lower case count = 0\n"
     ]
    }
   ],
   "source": [
    "\n",
    "text = input(\"Enter a text: \")\n",
    "\n",
    "upper_case_count, lower_case_count = count_lower_upper_case(text)\n",
    "\n",
    "print(f\"UPPER CASE COUNT = {upper_case_count}\")\n",
    "\n",
    "print(f\"lower case count = {lower_case_count}\")\n",
    "    "
   ]
  },
  {
   "cell_type": "code",
   "execution_count": null,
   "id": "d65d17bb-0318-46ee-bf95-53968d4e8de0",
   "metadata": {},
   "outputs": [],
   "source": []
  },
  {
   "cell_type": "markdown",
   "id": "8fbd9796-b251-4c05-8e9b-8d7848903355",
   "metadata": {},
   "source": [
    "##### <span style=\"color: blue\">16  ===>  Given an array, return the resultant array i.e. result in such a way that &nbsp;<span style=\"background-color: #FAE6FF\">&nbsp;result[ i ]&nbsp;</span>&nbsp; is equal to the product of all the elements of the array except &nbsp;<span style=\"background-color: #FAE6FF\">&nbsp;array[ i ]&nbsp;</span>. </span>"
   ]
  },
  {
   "cell_type": "markdown",
   "id": "069245dc-9c2f-4bce-be9c-f3fce828e196",
   "metadata": {},
   "source": [
    "<br>\n",
    "\n",
    "<span style=\"color: #DCBD10\">▬▬▬▬▬▬▬▬▬▬▬▬▬▬▬▬▬▬▬▬▬▬▬▬▬▬▬▬▬▬▬▬▬▬▬▬▬▬▬▬▬▬▬▬▬▬▬▬▬▬▬▬▬▬▬▬▬▬▬▬▬▬▬▬▬▬▬▬▬▬▬▬▬▬▬▬</span>\n",
    "\n",
    "<br>\n",
    "\n",
    "<div style=\"padding: 10px; background-color: #E2FFEC\">\n",
    "\n",
    "<u>**QUESTION 16**</u> : \n",
    "\n",
    "&nbsp;&nbsp;&nbsp;&nbsp;&nbsp;&nbsp;Given an array, return the resultant array i.e. result in such a way that &nbsp;<span style=\"background-color: #FFB3F6;\">&nbsp;result[ i ]&nbsp;</span>&nbsp; is equal to the product of all the elements of the array except &nbsp;<span style=\"background-color: #FFB3F6;\">&nbsp;array[ i ]&nbsp;</span>\n",
    "\n",
    "</div>\n",
    "\n",
    "<br>"
   ]
  },
  {
   "cell_type": "code",
   "execution_count": 9,
   "id": "a3b8eb56-a439-43a0-b1d1-8e02df97d80c",
   "metadata": {},
   "outputs": [],
   "source": [
    "\n",
    "def product_except_self(arr):\n",
    "    product = 1\n",
    "    for e in arr:\n",
    "        product *= e\n",
    "    result = []\n",
    "    for e in arr:\n",
    "        result.append(int(product / e))\n",
    "    return result\n"
   ]
  },
  {
   "cell_type": "code",
   "execution_count": 10,
   "id": "c870c11f-ac99-4ffc-a4d6-f31de6d3b9c0",
   "metadata": {},
   "outputs": [
    {
     "data": {
      "text/plain": [
       "[19200, 9600, 5760, 14400, 28800, 11520, 7200]"
      ]
     },
     "execution_count": 10,
     "metadata": {},
     "output_type": "execute_result"
    }
   ],
   "source": [
    "\n",
    "array = [3, 6, 10, 4, 2, 5, 8]\n",
    "product_except_self(array)\n"
   ]
  },
  {
   "cell_type": "markdown",
   "id": "9cfd67bb-1981-41b9-94ff-3788265b7fa7",
   "metadata": {},
   "source": [
    "<br>\n",
    "\n",
    "<code style=\"color: red; background-color: white;\">What if we have one or more than one <u>**zero**</u> in the array?</code>"
   ]
  },
  {
   "cell_type": "code",
   "execution_count": 11,
   "id": "a0724c32-9743-4bbb-a7dd-c66a5c08681d",
   "metadata": {},
   "outputs": [
    {
     "ename": "ZeroDivisionError",
     "evalue": "division by zero",
     "output_type": "error",
     "traceback": [
      "\u001b[1;31m---------------------------------------------------------------------------\u001b[0m",
      "\u001b[1;31mZeroDivisionError\u001b[0m                         Traceback (most recent call last)",
      "Cell \u001b[1;32mIn[11], line 2\u001b[0m\n\u001b[0;32m      1\u001b[0m array \u001b[38;5;241m=\u001b[39m [\u001b[38;5;241m3\u001b[39m, \u001b[38;5;241m5\u001b[39m, \u001b[38;5;241m9\u001b[39m, \u001b[38;5;241m0\u001b[39m, \u001b[38;5;241m8\u001b[39m, \u001b[38;5;241m3\u001b[39m]\n\u001b[1;32m----> 2\u001b[0m \u001b[43mproduct_except_self\u001b[49m\u001b[43m(\u001b[49m\u001b[43marray\u001b[49m\u001b[43m)\u001b[49m\n",
      "Cell \u001b[1;32mIn[9], line 7\u001b[0m, in \u001b[0;36mproduct_except_self\u001b[1;34m(arr)\u001b[0m\n\u001b[0;32m      5\u001b[0m result \u001b[38;5;241m=\u001b[39m []\n\u001b[0;32m      6\u001b[0m \u001b[38;5;28;01mfor\u001b[39;00m e \u001b[38;5;129;01min\u001b[39;00m arr:\n\u001b[1;32m----> 7\u001b[0m     result\u001b[38;5;241m.\u001b[39mappend(\u001b[38;5;28mint\u001b[39m(\u001b[43mproduct\u001b[49m\u001b[43m \u001b[49m\u001b[38;5;241;43m/\u001b[39;49m\u001b[43m \u001b[49m\u001b[43me\u001b[49m))\n\u001b[0;32m      8\u001b[0m \u001b[38;5;28;01mreturn\u001b[39;00m result\n",
      "\u001b[1;31mZeroDivisionError\u001b[0m: division by zero"
     ]
    }
   ],
   "source": [
    "\n",
    "array = [3, 5, 9, 0, 8, 3]\n",
    "product_except_self(array)\n"
   ]
  },
  {
   "cell_type": "markdown",
   "id": "c62037d9-78a3-4fd2-ab28-ef1dd8d86977",
   "metadata": {},
   "source": [
    "<br>\n",
    "\n",
    "<font style=\"+1\"><span style=\"color: #02A909;\">Let's&nbsp; **handle &nbsp;this &nbsp;<u><span style=\"color: red;\">error</span></u>** &nbsp;and &nbsp;modify &nbsp;the &nbsp;error &nbsp;message &nbsp;to make &nbsp;it &nbsp;more &nbsp;clear :</span></font>"
   ]
  },
  {
   "cell_type": "code",
   "execution_count": 4,
   "id": "76cef1d4-fd42-4838-9f60-4e6ec1c58bf1",
   "metadata": {},
   "outputs": [],
   "source": [
    "\n",
    "def product_except_self(arr):\n",
    "    product = 1\n",
    "    for e in arr:\n",
    "        product *= e\n",
    "    result = []\n",
    "    for e in arr:\n",
    "        try:\n",
    "            result.append(int(product / e))\n",
    "        except ZeroDivisionError:\n",
    "            raise ZeroDivisionError(\"There is be atleast one element zero in the array and division by zero is not allowed.\")\n",
    "        result.append(int(product / e))\n",
    "    return result\n"
   ]
  },
  {
   "cell_type": "code",
   "execution_count": 5,
   "id": "f499c585-d051-47cb-8aa9-32c393c5ffb5",
   "metadata": {},
   "outputs": [
    {
     "ename": "ZeroDivisionError",
     "evalue": "There is be atleast one element zero in the array and division by zero is not allowed.",
     "output_type": "error",
     "traceback": [
      "\u001b[1;31m---------------------------------------------------------------------------\u001b[0m",
      "\u001b[1;31mZeroDivisionError\u001b[0m                         Traceback (most recent call last)",
      "Cell \u001b[1;32mIn[4], line 8\u001b[0m, in \u001b[0;36mproduct_except_self\u001b[1;34m(arr)\u001b[0m\n\u001b[0;32m      7\u001b[0m \u001b[38;5;28;01mtry\u001b[39;00m:\n\u001b[1;32m----> 8\u001b[0m     result\u001b[38;5;241m.\u001b[39mappend(\u001b[38;5;28mint\u001b[39m(\u001b[43mproduct\u001b[49m\u001b[43m \u001b[49m\u001b[38;5;241;43m/\u001b[39;49m\u001b[43m \u001b[49m\u001b[43me\u001b[49m))\n\u001b[0;32m      9\u001b[0m \u001b[38;5;28;01mexcept\u001b[39;00m \u001b[38;5;167;01mZeroDivisionError\u001b[39;00m:\n",
      "\u001b[1;31mZeroDivisionError\u001b[0m: division by zero",
      "\nDuring handling of the above exception, another exception occurred:\n",
      "\u001b[1;31mZeroDivisionError\u001b[0m                         Traceback (most recent call last)",
      "Cell \u001b[1;32mIn[5], line 2\u001b[0m\n\u001b[0;32m      1\u001b[0m array \u001b[38;5;241m=\u001b[39m [\u001b[38;5;241m3\u001b[39m, \u001b[38;5;241m5\u001b[39m, \u001b[38;5;241m9\u001b[39m, \u001b[38;5;241m0\u001b[39m, \u001b[38;5;241m8\u001b[39m, \u001b[38;5;241m3\u001b[39m]\n\u001b[1;32m----> 2\u001b[0m \u001b[43mproduct_except_self\u001b[49m\u001b[43m(\u001b[49m\u001b[43marray\u001b[49m\u001b[43m)\u001b[49m\n",
      "Cell \u001b[1;32mIn[4], line 10\u001b[0m, in \u001b[0;36mproduct_except_self\u001b[1;34m(arr)\u001b[0m\n\u001b[0;32m      8\u001b[0m         result\u001b[38;5;241m.\u001b[39mappend(\u001b[38;5;28mint\u001b[39m(product \u001b[38;5;241m/\u001b[39m e))\n\u001b[0;32m      9\u001b[0m     \u001b[38;5;28;01mexcept\u001b[39;00m \u001b[38;5;167;01mZeroDivisionError\u001b[39;00m:\n\u001b[1;32m---> 10\u001b[0m         \u001b[38;5;28;01mraise\u001b[39;00m \u001b[38;5;167;01mZeroDivisionError\u001b[39;00m(\u001b[38;5;124m\"\u001b[39m\u001b[38;5;124mThere is be atleast one element zero in the array and division by zero is not allowed.\u001b[39m\u001b[38;5;124m\"\u001b[39m)\n\u001b[0;32m     11\u001b[0m     result\u001b[38;5;241m.\u001b[39mappend(\u001b[38;5;28mint\u001b[39m(product \u001b[38;5;241m/\u001b[39m e))\n\u001b[0;32m     12\u001b[0m \u001b[38;5;28;01mreturn\u001b[39;00m result\n",
      "\u001b[1;31mZeroDivisionError\u001b[0m: There is be atleast one element zero in the array and division by zero is not allowed."
     ]
    }
   ],
   "source": [
    "\n",
    "array = [3, 5, 9, 0, 8, 3]\n",
    "product_except_self(array)\n"
   ]
  },
  {
   "cell_type": "code",
   "execution_count": 6,
   "id": "1075960e-7003-4141-ac4d-4e5f29891407",
   "metadata": {},
   "outputs": [
    {
     "name": "stdout",
     "output_type": "stream",
     "text": [
      "Error: There is be atleast one element zero in the array and division by zero is not allowed.\n"
     ]
    }
   ],
   "source": [
    "\n",
    "array = [3, 5, 9, 0, 8, 3]\n",
    "\n",
    "try:\n",
    "    product_except_self(array)\n",
    "except ZeroDivisionError as error:\n",
    "    print(\"Error:\", error)\n",
    "    "
   ]
  },
  {
   "cell_type": "markdown",
   "id": "78e315a4-48bc-4d88-b00c-97d119b3879a",
   "metadata": {},
   "source": [
    "\n",
    "<font size=\"+2\">↳</font>&nbsp;&nbsp;<span style=\"color: red;\">**Solution**</span>"
   ]
  },
  {
   "cell_type": "code",
   "execution_count": 19,
   "id": "4868f422-3ac4-4e32-b13f-32b6095cf6a0",
   "metadata": {},
   "outputs": [],
   "source": [
    "\n",
    "# FUNCTION\n",
    "def product_except_self(arr):\n",
    "    product = 1\n",
    "    count_0 = 0\n",
    "    for e in arr:\n",
    "        if e == 0:\n",
    "            count_0 = count_0 + 1      # count total number of occurrences of zero in the array\n",
    "        else:\n",
    "            product = product * e      # product of all no-zero integers in the array\n",
    "\n",
    "    result = []\n",
    "    for e in arr:\n",
    "        if 0 in arr:                                 # handling those cases where we have atleast one zero in the array\n",
    "            if e != 0:\n",
    "                result.append(0)                                # for every non-zero element, the product without self will be zero since we have atleast one zero in the array\n",
    "            else:\n",
    "                if count_0 >= 2:                                # if there are 2 ore more zeros in the array, the product without self will always be zero for every element in the array\n",
    "                    result.append(0)\n",
    "                else:\n",
    "                    result.append(product)                      # if e == 0 and count_0 == 1, then the product without that zero (self) will be same as the product of all non-zeros in the array\n",
    "        else:                                        # handling those cases where we do not have any zero in the array\n",
    "             result.append(int(product / e))\n",
    "            \n",
    "    return result\n"
   ]
  },
  {
   "cell_type": "code",
   "execution_count": 20,
   "id": "292b358e-7f35-4040-96d0-0feb139a45b3",
   "metadata": {},
   "outputs": [
    {
     "name": "stdout",
     "output_type": "stream",
     "text": [
      "[0, 0, 0, 3240, 0, 0]\n",
      "\n",
      "[19200, 9600, 5760, 14400, 28800, 11520, 7200]\n",
      "\n"
     ]
    },
    {
     "data": {
      "text/plain": [
       "[1440, 1080, 864, 720, 1440, 1080]"
      ]
     },
     "execution_count": 20,
     "metadata": {},
     "output_type": "execute_result"
    }
   ],
   "source": [
    "\n",
    "# TEST-CASE-1\n",
    "arr = [3, 5, 9, 0, 8, 3]\n",
    "print(product_except_self(arr), end = \"\\n\\n\")        #  Output:  [0, 0, 0, 3240, 0, 0]\n",
    "\n",
    "\n",
    "# TEST-CASE-2\n",
    "arr = [3, 6, 10, 4, 2, 5, 8]\n",
    "print(product_except_self(arr), end = \"\\n\\n\")        #  Output:  [19200, 9600, 5760, 14400, 28800, 11520, 7200]\n",
    "\n",
    "\n",
    "# TEST-CASE-3\n",
    "array = [ 3 , 4 , 5 , 6 , 3 , 4 ]                    #  Output:  [1440, 1080, 864, 720, 1440, 1080]\n",
    "product_except_self(array)"
   ]
  },
  {
   "cell_type": "code",
   "execution_count": null,
   "id": "e57556fc-d945-4291-aafe-0cfdd57a4b7e",
   "metadata": {},
   "outputs": [],
   "source": []
  },
  {
   "cell_type": "markdown",
   "id": "ea21850b-9371-4ed4-adbf-6f14d1ed5f3a",
   "metadata": {
    "jp-MarkdownHeadingCollapsed": true
   },
   "source": [
    "##### <span style=\"color: blue\">17  ===>  Given an integer x, return the number of prime numbers that are strictly less than x. </span>"
   ]
  },
  {
   "cell_type": "markdown",
   "id": "d8b47b2c-34f1-4387-98cb-07b5bf1e091d",
   "metadata": {},
   "source": [
    "<br>\n",
    "\n",
    "<span style=\"color: #DCBD10\">▬▬▬▬▬▬▬▬▬▬▬▬▬▬▬▬▬▬▬▬▬▬▬▬▬▬▬▬▬▬▬▬▬▬▬▬▬▬▬▬▬▬▬▬▬▬▬▬▬▬▬▬▬▬▬▬▬▬▬▬▬▬▬▬▬▬▬▬▬▬▬▬▬▬▬▬</span>\n",
    "\n",
    "<br>\n",
    "\n",
    "<div style=\"padding: 10px; background-color: #E2FFEC\">\n",
    "\n",
    "<u>**QUESTION 17**</u> : &nbsp;&nbsp; Given an integer <font size=\"+1\"><strong>x</strong></font>, return the number of prime numbers that are strictly less than <font size=\"+1\"><strong>x</strong></font>.\n",
    "\n",
    "</div>\n",
    "\n",
    "<br>\n",
    "\n",
    "<font size=\"+2\">↳</font>&nbsp;&nbsp;**Method - 1**"
   ]
  },
  {
   "cell_type": "code",
   "execution_count": 79,
   "id": "4a25aacd-33b0-40c7-bc74-f037b3db2135",
   "metadata": {},
   "outputs": [],
   "source": [
    "\n",
    "def count_all_primes_before_n(n):\n",
    "    count = 0\n",
    "    if n == 3:\n",
    "        count = 1\n",
    "    elif n > 3:\n",
    "        for i in range(2, n):\n",
    "            is_prime = True\n",
    "            if i <= 3:\n",
    "                is_prime = True\n",
    "            elif i % 2 == 0 or i % 3 == 0:\n",
    "                is_prime = False\n",
    "            else:\n",
    "                for j in range(4, int(i**0.5) + 1, 6):\n",
    "                    if i % j == 0:\n",
    "                        is_prime = False\n",
    "                        break\n",
    "            if is_prime == True:\n",
    "                count += 1\n",
    "    return count\n"
   ]
  },
  {
   "cell_type": "code",
   "execution_count": 80,
   "id": "35b98328-2aef-4116-abc5-54c714c0c0a5",
   "metadata": {},
   "outputs": [
    {
     "name": "stdout",
     "output_type": "stream",
     "text": [
      "count of all prime numbers before 1 ====> 0 \n",
      "\n",
      "count of all prime numbers before 2 ====> 0 \n",
      "\n",
      "count of all prime numbers before 3 ====> 1 \n",
      "\n",
      "count of all prime numbers before 4 ====> 2 \n",
      "\n",
      "count of all prime numbers before 5 ====> 2 \n",
      "\n",
      "count of all prime numbers before 6 ====> 3 \n",
      "\n",
      "count of all prime numbers before 7 ====> 3 \n",
      "\n",
      "count of all prime numbers before 8 ====> 4 \n",
      "\n",
      "count of all prime numbers before 9 ====> 4 \n",
      "\n",
      "count of all prime numbers before 10 ===> 4 \n",
      "\n",
      "count of all prime numbers before 11 ===> 4 \n",
      "\n",
      "count of all prime numbers before 12 ===> 5 \n",
      "\n"
     ]
    }
   ],
   "source": [
    "\n",
    "count_all_primes_before_1 = count_all_primes(1)\n",
    "print(f\"count of all prime numbers before 1 ====> {count_all_primes_before_1} \\n\")\n",
    "\n",
    "count_all_primes_before_2 = count_all_primes(2)\n",
    "print(f\"count of all prime numbers before 2 ====> {count_all_primes_before_2} \\n\")\n",
    "\n",
    "count_all_primes_before_3 = count_all_primes(3)\n",
    "print(f\"count of all prime numbers before 3 ====> {count_all_primes_before_3} \\n\")\n",
    "\n",
    "count_all_primes_before_4 = count_all_primes(4)\n",
    "print(f\"count of all prime numbers before 4 ====> {count_all_primes_before_4} \\n\")\n",
    "\n",
    "count_all_primes_before_5 = count_all_primes(5)\n",
    "print(f\"count of all prime numbers before 5 ====> {count_all_primes_before_5} \\n\")\n",
    "\n",
    "count_all_primes_before_6 = count_all_primes(6)\n",
    "print(f\"count of all prime numbers before 6 ====> {count_all_primes_before_6} \\n\")\n",
    "\n",
    "count_all_primes_before_7 = count_all_primes(7)\n",
    "print(f\"count of all prime numbers before 7 ====> {count_all_primes_before_7} \\n\")\n",
    "\n",
    "count_all_primes_before_8 = count_all_primes(8)\n",
    "print(f\"count of all prime numbers before 8 ====> {count_all_primes_before_8} \\n\")\n",
    "\n",
    "count_all_primes_before_9 = count_all_primes(9)\n",
    "print(f\"count of all prime numbers before 9 ====> {count_all_primes_before_9} \\n\")\n",
    "\n",
    "count_all_primes_before_10 = count_all_primes(10)\n",
    "print(f\"count of all prime numbers before 10 ===> {count_all_primes_before_10} \\n\")\n",
    "\n",
    "count_all_primes_before_11 = count_all_primes(11)\n",
    "print(f\"count of all prime numbers before 11 ===> {count_all_primes_before_11} \\n\")\n",
    "\n",
    "count_all_primes_before_12 = count_all_primes(12)\n",
    "print(f\"count of all prime numbers before 12 ===> {count_all_primes_before_12} \\n\")\n"
   ]
  },
  {
   "cell_type": "markdown",
   "id": "dce51fbe-9b56-4930-bf62-fb75ccac5b33",
   "metadata": {},
   "source": [
    "<br>\n",
    "\n",
    "<span style=\"color: #F802C0\">Let us find all the resultant prime numbers strictly before a  given number</span>"
   ]
  },
  {
   "cell_type": "code",
   "execution_count": 81,
   "id": "00a61136-7437-4856-a95b-13d63a33d7c0",
   "metadata": {},
   "outputs": [],
   "source": [
    "\n",
    "def find_all_primes(n):\n",
    "    count = 0\n",
    "    prime_numbers = []\n",
    "    if n == 3:\n",
    "        count = 1\n",
    "        prime_numbers.append(2)\n",
    "    elif n > 3:\n",
    "        for i in range(2, n):\n",
    "            is_prime = True\n",
    "            if i <= 3:\n",
    "                is_prime = True\n",
    "            elif i % 2 == 0 or i % 3 == 0:\n",
    "                is_prime = False\n",
    "            else:\n",
    "                for j in range(4, int(i**0.5) + 1, 6):\n",
    "                    if i % j == 0:\n",
    "                        is_prime = False\n",
    "                        break\n",
    "            if is_prime == True:\n",
    "                count += 1\n",
    "                prime_numbers.append(i)\n",
    "    return prime_numbers, count\n"
   ]
  },
  {
   "cell_type": "code",
   "execution_count": 82,
   "id": "9f2e3b27-e07a-464d-8070-c79dfbafa824",
   "metadata": {},
   "outputs": [
    {
     "name": "stdout",
     "output_type": "stream",
     "text": [
      "count of all prime numbers before 1 ====> 0 <==== [] \n",
      "\n",
      "count of all prime numbers before 2 ====> 0 <==== [] \n",
      "\n",
      "count of all prime numbers before 3 ====> 1 <==== [2] \n",
      "\n",
      "count of all prime numbers before 4 ====> 2 <==== [2, 3] \n",
      "\n",
      "count of all prime numbers before 5 ====> 2 <==== [2, 3] \n",
      "\n",
      "count of all prime numbers before 6 ====> 3 <==== [2, 3, 5] \n",
      "\n",
      "count of all prime numbers before 7 ====> 3 <==== [2, 3, 5] \n",
      "\n",
      "count of all prime numbers before 8 ====> 4 <==== [2, 3, 5, 7] \n",
      "\n",
      "count of all prime numbers before 9 ====> 4 <==== [2, 3, 5, 7] \n",
      "\n",
      "count of all prime numbers before 10 ====> 4 <==== [2, 3, 5, 7] \n",
      "\n",
      "count of all prime numbers before 10 ====> 4 <==== [2, 3, 5, 7] \n",
      "\n",
      "count of all prime numbers before 11 ====> 4 <==== [2, 3, 5, 7] \n",
      "\n",
      "count of all prime numbers before 12 ====> 5 <==== [2, 3, 5, 7, 11] \n",
      "\n"
     ]
    }
   ],
   "source": [
    "\n",
    "all_primes_before_1, count_of_all_primes_before_1 = find_all_primes(1)\n",
    "print(f\"count of all prime numbers before 1 ====> {count_of_all_primes_before_1} <==== {all_primes_before_1} \\n\")\n",
    "\n",
    "all_primes_before_2, count_of_all_primes_before_2 = find_all_primes(2)\n",
    "print(f\"count of all prime numbers before 2 ====> {count_of_all_primes_before_2} <==== {all_primes_before_2} \\n\")\n",
    "\n",
    "all_primes_before_3, count_of_all_primes_before_3 = find_all_primes(3)\n",
    "print(f\"count of all prime numbers before 3 ====> {count_of_all_primes_before_3} <==== {all_primes_before_3} \\n\")\n",
    "\n",
    "all_primes_before_4, count_of_all_primes_before_4 = find_all_primes(4)\n",
    "print(f\"count of all prime numbers before 4 ====> {count_of_all_primes_before_4} <==== {all_primes_before_4} \\n\")\n",
    "\n",
    "all_primes_before_5, count_of_all_primes_before_5 = find_all_primes(5)\n",
    "print(f\"count of all prime numbers before 5 ====> {count_of_all_primes_before_5} <==== {all_primes_before_5} \\n\")\n",
    "\n",
    "all_primes_before_6, count_of_all_primes_before_6 = find_all_primes(6)\n",
    "print(f\"count of all prime numbers before 6 ====> {count_of_all_primes_before_6} <==== {all_primes_before_6} \\n\")\n",
    "\n",
    "all_primes_before_7, count_of_all_primes_before_7 = find_all_primes(7)\n",
    "print(f\"count of all prime numbers before 7 ====> {count_of_all_primes_before_7} <==== {all_primes_before_7} \\n\")\n",
    "\n",
    "all_primes_before_8, count_of_all_primes_before_8 = find_all_primes(8)\n",
    "print(f\"count of all prime numbers before 8 ====> {count_of_all_primes_before_8} <==== {all_primes_before_8} \\n\")\n",
    "\n",
    "all_primes_before_9, count_of_all_primes_before_9 = find_all_primes(9)\n",
    "print(f\"count of all prime numbers before 9 ====> {count_of_all_primes_before_9} <==== {all_primes_before_9} \\n\")\n",
    "\n",
    "all_primes_before_10, count_of_all_primes_before_10 = find_all_primes(10)\n",
    "print(f\"count of all prime numbers before 10 ====> {count_of_all_primes_before_10} <==== {all_primes_before_10} \\n\")\n",
    "\n",
    "all_primes_before_11, count_of_all_primes_before_11 = find_all_primes(11)\n",
    "print(f\"count of all prime numbers before 10 ====> {count_of_all_primes_before_10} <==== {all_primes_before_10} \\n\")\n",
    "\n",
    "all_primes_before_11, count_of_all_primes_before_11 = find_all_primes(11)\n",
    "print(f\"count of all prime numbers before 11 ====> {count_of_all_primes_before_11} <==== {all_primes_before_11} \\n\")\n",
    "\n",
    "all_primes_before_12, count_of_all_primes_before_12 = find_all_primes(12)\n",
    "print(f\"count of all prime numbers before 12 ====> {count_of_all_primes_before_12} <==== {all_primes_before_12} \\n\")\n"
   ]
  },
  {
   "cell_type": "markdown",
   "id": "e8c1b801-88e1-44f1-8da5-30a2560e1f1f",
   "metadata": {},
   "source": [
    "<font size=\"+2\">↳</font>&nbsp;&nbsp;**Method - 2 :** &nbsp;<span style=\"color: #F802C0\">we can also break the function into 2 meaningful functions for better readability</span>"
   ]
  },
  {
   "cell_type": "code",
   "execution_count": 83,
   "id": "00d2114d-10c3-4b41-b159-1d23289729b4",
   "metadata": {},
   "outputs": [],
   "source": [
    "\n",
    "def is_prime(n):\n",
    "    if n <= 1:                        #  1 is not prime\n",
    "        return False\n",
    "    elif n <=3:                       #  2 and 3 are prime\n",
    "        return True\n",
    "    elif n % 2 == 0 or n % 3 == 0:    #  Multiples of 2 or 3 are not prime\n",
    "        return False\n",
    "    else:\n",
    "        #  Check divisibility for numbers of the form 6k ± 1\n",
    "        for i in range(5, int(n**0.5)+1, 6):\n",
    "            if n % i == 0:\n",
    "                return False\n",
    "        return True\n",
    "\n",
    "\n",
    "\n",
    "def find_all_primes_before_n(n):\n",
    "    count = 0\n",
    "    prime_numbers = []\n",
    "    for i in range(2, n):\n",
    "        if is_prime(i) == True:\n",
    "            count += 1\n",
    "            prime_numbers.append(i)\n",
    "    return prime_numbers, count\n",
    "\n"
   ]
  },
  {
   "cell_type": "code",
   "execution_count": 84,
   "id": "d18d7ba7-a7c7-41d8-b66f-9a07786fbc4c",
   "metadata": {},
   "outputs": [
    {
     "name": "stdout",
     "output_type": "stream",
     "text": [
      "count of all prime numbers before 1 ====> 0 <==== [] \n",
      "\n",
      "count of all prime numbers before 2 ====> 0 <==== [] \n",
      "\n",
      "count of all prime numbers before 3 ====> 1 <==== [2] \n",
      "\n",
      "count of all prime numbers before 4 ====> 2 <==== [2, 3] \n",
      "\n",
      "count of all prime numbers before 5 ====> 2 <==== [2, 3] \n",
      "\n",
      "count of all prime numbers before 6 ====> 3 <==== [2, 3, 5] \n",
      "\n",
      "count of all prime numbers before 7 ====> 3 <==== [2, 3, 5] \n",
      "\n",
      "count of all prime numbers before 8 ====> 4 <==== [2, 3, 5, 7] \n",
      "\n",
      "count of all prime numbers before 9 ====> 4 <==== [2, 3, 5, 7] \n",
      "\n",
      "count of all prime numbers before 10 ====> 4 <==== [2, 3, 5, 7] \n",
      "\n",
      "count of all prime numbers before 10 ====> 4 <==== [2, 3, 5, 7] \n",
      "\n",
      "count of all prime numbers before 11 ====> 4 <==== [2, 3, 5, 7] \n",
      "\n",
      "count of all prime numbers before 12 ====> 5 <==== [2, 3, 5, 7, 11] \n",
      "\n"
     ]
    }
   ],
   "source": [
    "\n",
    "\n",
    "all_primes_before_1, count_of_all_primes_before_1 = find_all_primes_before_n(1)\n",
    "print(f\"count of all prime numbers before 1 ====> {count_of_all_primes_before_1} <==== {all_primes_before_1} \\n\")\n",
    "\n",
    "all_primes_before_2, count_of_all_primes_before_2 = find_all_primes_before_n(2)\n",
    "print(f\"count of all prime numbers before 2 ====> {count_of_all_primes_before_2} <==== {all_primes_before_2} \\n\")\n",
    "\n",
    "all_primes_before_3, count_of_all_primes_before_3 = find_all_primes_before_n(3)\n",
    "print(f\"count of all prime numbers before 3 ====> {count_of_all_primes_before_3} <==== {all_primes_before_3} \\n\")\n",
    "\n",
    "all_primes_before_4, count_of_all_primes_before_4 = find_all_primes_before_n(4)\n",
    "print(f\"count of all prime numbers before 4 ====> {count_of_all_primes_before_4} <==== {all_primes_before_4} \\n\")\n",
    "\n",
    "all_primes_before_5, count_of_all_primes_before_5 = find_all_primes_before_n(5)\n",
    "print(f\"count of all prime numbers before 5 ====> {count_of_all_primes_before_5} <==== {all_primes_before_5} \\n\")\n",
    "\n",
    "all_primes_before_6, count_of_all_primes_before_6 = find_all_primes_before_n(6)\n",
    "print(f\"count of all prime numbers before 6 ====> {count_of_all_primes_before_6} <==== {all_primes_before_6} \\n\")\n",
    "\n",
    "all_primes_before_7, count_of_all_primes_before_7 = find_all_primes_before_n(7)\n",
    "print(f\"count of all prime numbers before 7 ====> {count_of_all_primes_before_7} <==== {all_primes_before_7} \\n\")\n",
    "\n",
    "all_primes_before_8, count_of_all_primes_before_8 = find_all_primes_before_n(8)\n",
    "print(f\"count of all prime numbers before 8 ====> {count_of_all_primes_before_8} <==== {all_primes_before_8} \\n\")\n",
    "\n",
    "all_primes_before_9, count_of_all_primes_before_9 = find_all_primes_before_n(9)\n",
    "print(f\"count of all prime numbers before 9 ====> {count_of_all_primes_before_9} <==== {all_primes_before_9} \\n\")\n",
    "\n",
    "all_primes_before_10, count_of_all_primes_before_10 = find_all_primes_before_n(10)\n",
    "print(f\"count of all prime numbers before 10 ====> {count_of_all_primes_before_10} <==== {all_primes_before_10} \\n\")\n",
    "\n",
    "all_primes_before_11, count_of_all_primes_before_11 = find_all_primes_before_n(11)\n",
    "print(f\"count of all prime numbers before 10 ====> {count_of_all_primes_before_10} <==== {all_primes_before_10} \\n\")\n",
    "\n",
    "all_primes_before_11, count_of_all_primes_before_11 = find_all_primes_before_n(11)\n",
    "print(f\"count of all prime numbers before 11 ====> {count_of_all_primes_before_11} <==== {all_primes_before_11} \\n\")\n",
    "\n",
    "all_primes_before_12, count_of_all_primes_before_12 = find_all_primes_before_n(12)\n",
    "print(f\"count of all prime numbers before 12 ====> {count_of_all_primes_before_12} <==== {all_primes_before_12} \\n\")\n",
    "\n"
   ]
  },
  {
   "cell_type": "code",
   "execution_count": null,
   "id": "d5eace8a-59b1-481e-96e7-7caf46479575",
   "metadata": {},
   "outputs": [],
   "source": []
  },
  {
   "cell_type": "markdown",
   "id": "9b847b7a-1d5c-4f9b-9da6-c08fa1fdd379",
   "metadata": {
    "jp-MarkdownHeadingCollapsed": true
   },
   "source": [
    "##### <span style=\"color: blue\">18  ===>  Given a list of student details with their names and the marks they got, write a program to return details of each student whose marks are greater than the average marks. </span>\n"
   ]
  },
  {
   "cell_type": "markdown",
   "id": "4f6a0865-f172-44dc-93be-37dafb23ad35",
   "metadata": {},
   "source": [
    "<br>\n",
    "\n",
    "<span style=\"color: #DCBD10\">▬▬▬▬▬▬▬▬▬▬▬▬▬▬▬▬▬▬▬▬▬▬▬▬▬▬▬▬▬▬▬▬▬▬▬▬▬▬▬▬▬▬▬▬▬▬▬▬▬▬▬▬▬▬▬▬▬▬▬▬▬▬▬▬▬▬▬▬▬▬▬▬▬▬▬▬</span>\n",
    "\n",
    "<br>\n",
    "\n",
    "<div style=\"padding: 10px; background-color: #E2FFEC\">\n",
    "\n",
    "<u>**QUESTION 18**</u> : &nbsp;Given a list of students' details in a classroom with their names and the marks they got.\n",
    "\n",
    "Write a program to return students’ details whose marks are greater than the average marks in the classroom.\n",
    "\n",
    "</div>\n",
    "\n",
    "<br>\n",
    "\n",
    "<font size=\"+2\">↳</font>&nbsp;&nbsp;**Method - 1**"
   ]
  },
  {
   "cell_type": "code",
   "execution_count": 125,
   "id": "1ce9921d-7b1f-4ab1-aa11-2d17cdd50b9f",
   "metadata": {},
   "outputs": [
    {
     "name": "stdout",
     "output_type": "stream",
     "text": [
      "\n",
      "Students above average marks (88.0) =====> [('Mahendra', 90), ('Sam', 92), ('Tarun', 96), ('Rakesh', 90)] \n",
      "\n"
     ]
    }
   ],
   "source": [
    "\n",
    "def find_avg_marks(students):\n",
    "    count = 0\n",
    "    total_marks = 0\n",
    "    for s in students:\n",
    "        count = count + 1\n",
    "        total_marks += s[1]\n",
    "    avg_marks = total_marks / count\n",
    "    # avg_marks = total_marks / len(students)  ==> Why to use another loop to find the length when we could have counted within the earlier loop itself?\n",
    "    return avg_marks\n",
    "\n",
    "\n",
    "def find_students_above_avg_marks(students):\n",
    "    avg_marks = find_avg_marks(students)\n",
    "    students_above_avg_marks = []\n",
    "    for s in students:\n",
    "        if s[1] > avg_marks:\n",
    "            students_above_avg_marks.append(s)\n",
    "    return avg_marks, students_above_avg_marks\n",
    "\n",
    "\n",
    "students = [('Mahendra', 90), ('Mahi', 78), ('Varun', 87), ('Sam',92), ('Ishak',83), ('Tarun',96), ('Rakesh',90)]\n",
    "\n",
    "avg_marks, students_above_avg_marks = find_students_above_avg_marks(students)\n",
    "\n",
    "print(f\"\\nStudents above average marks ({avg_marks}) =====> {students_above_avg_marks} \\n\")\n"
   ]
  },
  {
   "cell_type": "markdown",
   "id": "515f483a-6525-449e-8cda-ecf001548437",
   "metadata": {},
   "source": [
    "<font size=\"+2\">↳</font>&nbsp;&nbsp;**Method - 2** :&nbsp;&nbsp;<span style=\"background-color: yellow\">&nbsp;&nbsp;using <span style=\"color: red\">**reduce( )**</span> <font size=\"+1\"><strong>,</strong></font> <span style=\"color: red\">**filter( )**</span> and <span style=\"color: red\">**lambda**</span> functions&nbsp;&nbsp;</span>"
   ]
  },
  {
   "cell_type": "code",
   "execution_count": 127,
   "id": "d7b82375-4a27-422e-b5cd-23fb964732a4",
   "metadata": {},
   "outputs": [
    {
     "name": "stdout",
     "output_type": "stream",
     "text": [
      "\n",
      "Students above average marks (88.0) =====> [('Mahendra', 90), ('Sam', 92), ('Tarun', 96), ('Rakesh', 90)] \n",
      "\n"
     ]
    }
   ],
   "source": [
    "\n",
    "from functools import reduce\n",
    "\n",
    "\n",
    "students = [('Mahendra', 90), ('Mahi', 78), ('Varun', 87), ('Sam',92), ('Ishak',83), ('Tarun',96), ('Rakesh',90)]\n",
    "\n",
    "\n",
    "# Calculate average marks\n",
    "avg_marks = reduce(lambda x, y: x + y[1], students, 0) / len(students)\n",
    "\n",
    "\n",
    "students_above_avg_marks = list(filter(lambda x: x if x[1] > avg_marks else False , students))\n",
    "\n",
    "\n",
    "print(f\"\\nStudents above average marks ({avg_marks}) =====> {students_above_avg_marks} \\n\")\n"
   ]
  },
  {
   "cell_type": "code",
   "execution_count": null,
   "id": "7c03d375-7bdd-46c0-b7d8-179c713db0ca",
   "metadata": {},
   "outputs": [],
   "source": []
  },
  {
   "cell_type": "markdown",
   "id": "eb416c4d-00b1-48b3-8683-8b337b56bc3b",
   "metadata": {
    "jp-MarkdownHeadingCollapsed": true
   },
   "source": [
    "\n",
    "##### <span style=\"color: blue\">19  ===>  Cryptocurrency - Handling complex data</span>\n"
   ]
  },
  {
   "cell_type": "markdown",
   "id": "f93b8ab8-b6da-4cf1-97bf-9815141c2a74",
   "metadata": {},
   "source": [
    "<br>\n",
    "\n",
    "<span style=\"color: #DCBD10\">▬▬▬▬▬▬▬▬▬▬▬▬▬▬▬▬▬▬▬▬▬▬▬▬▬▬▬▬▬▬▬▬▬▬▬▬▬▬▬▬▬▬▬▬▬▬▬▬▬▬▬▬▬▬▬▬▬▬▬▬▬▬▬▬▬▬▬▬▬▬▬▬▬▬▬▬</span>\n",
    "\n",
    "<br>\n",
    "\n",
    "<div style=\"padding: 10px; background-color: #E2FFEC\">\n",
    "\n",
    "<u>**QUESTION 19**</u> : &nbsp;Fetch the following values of 1000.00000000 — from cryptoWallet and 460.60000000 — from exchangeRates, Once completed. Create a function which takes 4 input parameters (**cryptoWallet**, **exchangeRates**, **BNB**, **BNBUSDT**). Using these Input Parameters, write a dynamic code which multiples the value fetched from both the data structure and later return the output by multiplying both the values.\n",
    "\n",
    "</div>\n",
    "\n",
    "<br>\n"
   ]
  },
  {
   "cell_type": "code",
   "execution_count": 128,
   "id": "3f12d3d8-649d-48d6-b7d6-f5ac30040060",
   "metadata": {},
   "outputs": [],
   "source": [
    "\n",
    "cryptoWallet = {'makerCommission': 0,\n",
    "'takerCommission': 0,\n",
    "'buyerCommission': 0,\n",
    "'sellerCommission': 0,\n",
    "'canTrade': True,\n",
    "'canWithdraw': False,\n",
    "'canDeposit': False,\n",
    "'updateTime': 1641838508959,\n",
    "'accountType': 'SPOT',\n",
    "'balances': [{'asset': 'BNB','free': '1000.00000000','locked': '0.00000000'},\n",
    "{'asset': 'BTC', 'free': '0.98163300', 'locked': '0.00000000'},\n",
    "{'asset': 'BUSD', 'free': '10000.00000000', 'locked': '0.0000free0000'},\n",
    "{'asset': 'ETH', 'free': '100.00000000', 'locked': '0.00000000'},\n",
    "{'asset': 'LTC', 'free': '500.00000000', 'locked': '0.00000000'},\n",
    "{'asset': 'TRX', 'free': '500000.00000000', 'locked': '0.00000000'},\n",
    "{'asset': 'USDT', 'free': '10824.59037215', 'locked': '0.00000000'},\n",
    "{'asset': 'XRP', 'free': '50000.00000000', 'locked': '0.00000000'}],\n",
    "'permissions': ['SPOT']}\n",
    "\n",
    "\n",
    "exchangeRates = [{'symbol': 'BNBBUSD', 'price': '429.25000000'},\n",
    "{'symbol': 'BTCBUSD', 'price': '46487.94000000'},\n",
    "{'symbol': 'ETHBUSD', 'price': '3870.32000000'},\n",
    "{'symbol': 'LTCBUSD', 'price': '158.70000000'},\n",
    "{'symbol': 'TRXBUSD', 'price': '0.08400000'},\n",
    "{'symbol': 'XRPBUSD', 'price': '1.01000000'},\n",
    "{'symbol': 'BNBUSDT', 'price': '460.60000000'},\n",
    "{'symbol': 'BTCUSDT', 'price': '42387.99000000'},\n",
    "{'symbol': 'ETHUSDT', 'price': '181.03000000'},\n",
    "{'symbol': 'LTCUSDT', 'price': '128.70000000'},\n",
    "{'symbol': 'TRXUSDT', 'price': '0.15015000'},\n",
    "{'symbol': 'XRPUSDT', 'price': '0.72000000'},\n",
    "{'symbol': 'BNBBTC', 'price': '0.01000000'},\n",
    "{'symbol': 'ETHBTC', 'price': '0.12300000'},\n",
    "{'symbol': 'LTCBTC', 'price': '0.00319700'},\n",
    "{'symbol': 'TRXBTC', 'price': '0.00000165'},\n",
    "{'symbol': 'XRPBTC', 'price': '0.00001825'},\n",
    "{'symbol': 'LTCBNB', 'price': '0.29790000'},\n",
    "{'symbol': 'TRXBNB', 'price': '0.00015000'},\n",
    "{'symbol': 'XRPBNB', 'price': '0.00162700'}]\n"
   ]
  },
  {
   "cell_type": "code",
   "execution_count": 147,
   "id": "199289d6-f026-482e-9103-9f60856daa8a",
   "metadata": {},
   "outputs": [
    {
     "name": "stdout",
     "output_type": "stream",
     "text": [
      "{'asset': 'BNB', 'free': '1000.00000000', 'locked': '0.00000000'}\n",
      "BNB\n",
      "1000.00000000\n"
     ]
    }
   ],
   "source": [
    "\n",
    "print(cryptoWallet['balances'][0])\n",
    "print(cryptoWallet['balances'][0]['asset'])\n",
    "print(cryptoWallet['balances'][0]['free'])\n"
   ]
  },
  {
   "cell_type": "code",
   "execution_count": 149,
   "id": "3894c02f-2f2b-4080-9b9b-e7de1bdf4fa9",
   "metadata": {},
   "outputs": [
    {
     "name": "stdout",
     "output_type": "stream",
     "text": [
      "{'symbol': 'BNBUSDT', 'price': '460.60000000'}\n",
      "BNBUSDT\n",
      "460.60000000\n"
     ]
    }
   ],
   "source": [
    "\n",
    "print(exchangeRates[6])\n",
    "print(exchangeRates[6]['symbol'])\n",
    "print(exchangeRates[6]['price'])\n"
   ]
  },
  {
   "cell_type": "code",
   "execution_count": 150,
   "id": "0d8797b0-0e81-4ef5-98ee-8ec8f98eaae5",
   "metadata": {},
   "outputs": [
    {
     "name": "stdout",
     "output_type": "stream",
     "text": [
      "1000.00000000\n",
      "460.60000000\n",
      "460600.0 amount to be considered\n"
     ]
    },
    {
     "data": {
      "text/plain": [
       "460600.0"
      ]
     },
     "execution_count": 150,
     "metadata": {},
     "output_type": "execute_result"
    }
   ],
   "source": [
    "\n",
    "class amount_calculation:\n",
    "    @staticmethod        \n",
    "    def crypto_exchange_value(type_of_currency, key_of_crypto, asset_of_crypto, required_value, type_rate, symbol_rate, required_rate):\n",
    "        for i in type_of_currency[key_of_crypto]:\n",
    "            if i['asset'] == asset_of_crypto:\n",
    "                result1 = (i[required_value])\n",
    "                print(result1)\n",
    "        for i in type_rate:\n",
    "            if i['symbol'] == symbol_rate:\n",
    "                result2 = i[required_rate]\n",
    "                print(result2)\n",
    "                \n",
    "        result3 = float(result1)*float(result2) \n",
    "        print(result3,\"amount to be considered\")\n",
    "        return result3\n",
    "\n",
    "\n",
    "\n",
    "amount_calculation.crypto_exchange_value(\n",
    "    type_of_currency=cryptoWallet,\n",
    "    key_of_crypto='balances',\n",
    "    asset_of_crypto='BNB',\n",
    "    required_value='free',\n",
    "    type_rate=exchangeRates,\n",
    "    symbol_rate='BNBUSDT',\n",
    "    required_rate='price'\n",
    ")\n"
   ]
  },
  {
   "cell_type": "code",
   "execution_count": null,
   "id": "caba4b67-8f41-401a-bbe5-e77026f6b433",
   "metadata": {},
   "outputs": [],
   "source": []
  },
  {
   "cell_type": "markdown",
   "id": "384df5e7-2cb5-46c4-8727-91b968bc7458",
   "metadata": {
    "jp-MarkdownHeadingCollapsed": true
   },
   "source": [
    "\n",
    "##### <span style=\"color: blue\">20  ===> Write a program that will find all such numbers which are divisible by 7 but are not a multiple of 5, between 2000 and 2100 (both included). </span>\n",
    "##### &nbsp;&nbsp;&nbsp;&nbsp;&nbsp;&nbsp;&nbsp;&nbsp;&nbsp;&nbsp;&nbsp;&nbsp;&nbsp;&nbsp;&nbsp;&nbsp;<span style=\"color: blue\">The numbers obtained should be printed in a comma-separated sequence on a single line.</span>\n"
   ]
  },
  {
   "cell_type": "markdown",
   "id": "cbb48e41-3073-499c-84eb-76174d8ebc94",
   "metadata": {},
   "source": [
    "<br>\n",
    "\n",
    "<span style=\"color: #DCBD10\">▬▬▬▬▬▬▬▬▬▬▬▬▬▬▬▬▬▬▬▬▬▬▬▬▬▬▬▬▬▬▬▬▬▬▬▬▬▬▬▬▬▬▬▬▬▬▬▬▬▬▬▬▬▬▬▬▬▬▬▬▬▬▬▬▬▬▬▬▬▬▬▬▬▬▬▬</span>\n",
    "\n",
    "<br>\n",
    "\n",
    "<div style=\"padding: 10px; background-color: #E2FFEC\">\n",
    "\n",
    "<u>**QUESTION 20**</u> : &nbsp;Write a program that will find all such numbers which are divisible by 7 but are not a multiple of 5, between 2000 and 2100 (both included). <br>\n",
    "&nbsp;&nbsp;&nbsp;&nbsp;&nbsp;&nbsp;&nbsp;&nbsp;&nbsp;&nbsp;&nbsp;&nbsp;&nbsp;&nbsp;&nbsp;&nbsp;&nbsp;&nbsp;&nbsp;&nbsp;&nbsp;&nbsp;&nbsp;&nbsp;&nbsp;&nbsp;&nbsp;The numbers obtained should be printed in a comma-separated sequence on a single line.\n",
    "\n",
    "</div>\n",
    "\n",
    "<br>\n"
   ]
  },
  {
   "cell_type": "code",
   "execution_count": 7,
   "id": "baf657ce-0099-4524-9ee7-21aa7017b7ba",
   "metadata": {},
   "outputs": [
    {
     "data": {
      "text/plain": [
       "[2002, 2009, 2016, 2023, 2037, 2044, 2051, 2058, 2072, 2079, 2086, 2093]"
      ]
     },
     "execution_count": 7,
     "metadata": {},
     "output_type": "execute_result"
    }
   ],
   "source": [
    "\n",
    "def find_nums_div7_not_mul5(start, end):\n",
    "    result = []\n",
    "    for i in range(start, end + 1):\n",
    "        if i % 7 == 0 and i % 5 != 0:\n",
    "            result.append(i)\n",
    "    return result\n",
    "\n",
    "\n",
    "find_nums_div7_not_mul5(2000, 2100)\n"
   ]
  },
  {
   "cell_type": "code",
   "execution_count": 8,
   "id": "76f43fea-5287-45b6-bf17-198142bb095b",
   "metadata": {},
   "outputs": [
    {
     "name": "stdout",
     "output_type": "stream",
     "text": [
      "2002 , 2009 , 2016 , 2023 , 2037 , 2044 , 2051 , 2058 , 2072 , 2079 , 2086 , 2093 , "
     ]
    }
   ],
   "source": [
    "\n",
    "result = find_nums_div7_not_mul5(2000, 2100)\n",
    "\n",
    "for i in result:\n",
    "    print(f\"{i} \", end = \", \")\n"
   ]
  },
  {
   "cell_type": "code",
   "execution_count": 20,
   "id": "f119987f-58f5-48f6-b98d-f705ee099c82",
   "metadata": {},
   "outputs": [
    {
     "name": "stdout",
     "output_type": "stream",
     "text": [
      "2002 , 2009 , 2016 , 2023 , 2037 , 2044 , 2051 , 2058 , 2072 , 2079 , 2086 , 2093 "
     ]
    }
   ],
   "source": [
    "\n",
    "def find_nums_div7_not_mul5(start, end):\n",
    "    result = []\n",
    "    for i in range(start, end + 1):\n",
    "        if i % 7 == 0 and i % 5 != 0:\n",
    "            result.append(i)\n",
    "            result.append(\",\")    # appending the string \", \" as an element in the list\n",
    "    return result\n",
    "\n",
    "\n",
    "result = find_nums_div7_not_mul5(2000, 2100)\n",
    "\n",
    "result = result[:-1:]   # removing the last element i.e., the comma character\n",
    "\n",
    "for i in result:\n",
    "    print(f\"{i} \", end = \"\")\n"
   ]
  },
  {
   "cell_type": "code",
   "execution_count": null,
   "id": "05e3bbcf-3f02-469e-9d82-18cf4cbbedef",
   "metadata": {},
   "outputs": [],
   "source": []
  },
  {
   "cell_type": "markdown",
   "id": "0d092461-46f9-4eaa-9481-94702f9bc8cf",
   "metadata": {
    "jp-MarkdownHeadingCollapsed": true
   },
   "source": [
    "\n",
    "##### <span style=\"color: blue\">21  ===> Print only the string values from the input list </span>\n"
   ]
  },
  {
   "cell_type": "markdown",
   "id": "81d4208b-6e7c-4c09-9474-287bde8a41bd",
   "metadata": {},
   "source": [
    "<br>\n",
    "\n",
    "<span style=\"color: #DCBD10\">▬▬▬▬▬▬▬▬▬▬▬▬▬▬▬▬▬▬▬▬▬▬▬▬▬▬▬▬▬▬▬▬▬▬▬▬▬▬▬▬▬▬▬▬▬▬▬▬▬▬▬▬▬▬▬▬▬▬▬▬▬▬▬▬▬▬▬▬▬▬▬▬▬▬▬▬</span>\n",
    "\n",
    "<br>\n",
    "\n",
    "<div style=\"padding: 10px; background-color: #E2FFEC\">\n",
    "\n",
    "<u>**QUESTION 21**</u> : &nbsp;Print only the string values from the input list.\n",
    "\n",
    "<div style=\"padding: 10px; border-radius: 5px;\">\n",
    "    \n",
    "<pre>\n",
    "    \n",
    "   &nbsp;&nbsp;complex_nested_list = [<code style=\"color: red;\">'a', 'b', ['cc', 'dd', ['eee', 'fff'], 'gg'], 'hhhh', 'ii'</code>]\n",
    "    \n",
    "</pre>\n",
    "\n",
    "</div>\n",
    "\n",
    "</div>\n",
    "\n",
    "<br>\n"
   ]
  },
  {
   "cell_type": "code",
   "execution_count": 34,
   "id": "0655df94-c9d6-4acc-89de-e59d68feae13",
   "metadata": {},
   "outputs": [
    {
     "name": "stdout",
     "output_type": "stream",
     "text": [
      "'a'    'b'    'hhhh'    'ii'    "
     ]
    }
   ],
   "source": [
    "def print_only_string(arr):\n",
    "    for e in arr:\n",
    "        if type(e) == str:\n",
    "            print(f\"'{e}'\", end=\"    \")\n",
    "\n",
    "\n",
    "complex_nested_list = ['a', 'b', ['cc', 'dd', ['eee', 'fff'], 'gg'], 'hhhh', 'ii']\n",
    "\n",
    "print_only_string(complex_nested_list)\n"
   ]
  },
  {
   "cell_type": "code",
   "execution_count": null,
   "id": "4c9bb198-5874-4e70-880b-079591786247",
   "metadata": {},
   "outputs": [],
   "source": []
  },
  {
   "cell_type": "markdown",
   "id": "0689aa2d-3d6c-466f-983f-fe794a4b059b",
   "metadata": {
    "jp-MarkdownHeadingCollapsed": true
   },
   "source": [
    "\n",
    "##### <span style=\"color: blue\">22  ===> Python function to reverse a string without using string slicing </span>\n"
   ]
  },
  {
   "cell_type": "markdown",
   "id": "6e6c9daf-b514-4e0a-9ed1-0a97f487a334",
   "metadata": {},
   "source": [
    "<br>\n",
    "\n",
    "<span style=\"color: #DCBD10\">▬▬▬▬▬▬▬▬▬▬▬▬▬▬▬▬▬▬▬▬▬▬▬▬▬▬▬▬▬▬▬▬▬▬▬▬▬▬▬▬▬▬▬▬▬▬▬▬▬▬▬▬▬▬▬▬▬▬▬▬▬▬▬▬▬▬▬▬▬▬▬▬▬▬▬▬</span>\n",
    "\n",
    "<br>\n",
    "\n",
    "<div style=\"padding: 10px; background-color: #E2FFEC\">\n",
    "\n",
    "<u>**QUESTION 22**</u> : &nbsp;Python function to reverse a string without using string slicing\n",
    "\n",
    "</div>\n",
    "\n",
    "<br>\n"
   ]
  },
  {
   "cell_type": "code",
   "execution_count": 48,
   "id": "72b964e6-a722-4445-a336-8767ace87e10",
   "metadata": {},
   "outputs": [
    {
     "name": "stdout",
     "output_type": "stream",
     "text": [
      "arhsiM hsanivA"
     ]
    }
   ],
   "source": [
    "\n",
    "def reverse_string(input_string):\n",
    "    for i in range(len(input_string) - 1, -1, -1):\n",
    "        print(input_string[i], end = \"\")\n",
    "\n",
    "\n",
    "input_string = \"Avinash Mishra\"\n",
    "\n",
    "reversed_string = reverse_string(input_string)\n"
   ]
  },
  {
   "cell_type": "code",
   "execution_count": 49,
   "id": "6ea1e4c0-5630-4867-986f-d1aad58b3ab6",
   "metadata": {},
   "outputs": [
    {
     "name": "stdout",
     "output_type": "stream",
     "text": [
      "arhsiM hsanivA\n"
     ]
    }
   ],
   "source": [
    "\n",
    "def reverse_string(input_string):\n",
    "    result=\"\"\n",
    "    for i in range(len(input_string) - 1, -1, -1):\n",
    "        result += \"\".join(input_string[i])\n",
    "    return result\n",
    "\n",
    "\n",
    "input_string = \"Avinash Mishra\"\n",
    "\n",
    "reversed_string = reverse_string(input_string)\n",
    "\n",
    "print(reversed_string)\n"
   ]
  },
  {
   "cell_type": "code",
   "execution_count": null,
   "id": "e88ccead-d0ac-42dd-a562-622d5573b91c",
   "metadata": {},
   "outputs": [],
   "source": []
  },
  {
   "cell_type": "markdown",
   "id": "a39c837b-b4d3-4a00-9959-3032bf3d8347",
   "metadata": {
    "jp-MarkdownHeadingCollapsed": true
   },
   "source": [
    "\n",
    "##### <span style=\"color: blue\">23  ===> Check if a string is palindrome or not </span>\n"
   ]
  },
  {
   "cell_type": "markdown",
   "id": "c2283f0f-d4c9-4a93-b6fc-a8c5fb501def",
   "metadata": {},
   "source": [
    "<br>\n",
    "\n",
    "<span style=\"color: #DCBD10\">▬▬▬▬▬▬▬▬▬▬▬▬▬▬▬▬▬▬▬▬▬▬▬▬▬▬▬▬▬▬▬▬▬▬▬▬▬▬▬▬▬▬▬▬▬▬▬▬▬▬▬▬▬▬▬▬▬▬▬▬▬▬▬▬▬▬▬▬▬▬▬▬▬▬▬▬</span>\n",
    "\n",
    "<br>\n",
    "\n",
    "<div style=\"padding: 10px; background-color: #E2FFEC\">\n",
    "\n",
    "<u>**QUESTION 23**</u> : &nbsp;Check if a string is palindrome or not\n",
    "\n",
    "</div>\n",
    "\n",
    "<br>\n"
   ]
  },
  {
   "cell_type": "code",
   "execution_count": 76,
   "id": "1aff2156-7d91-4901-ae6f-ab303be77735",
   "metadata": {},
   "outputs": [
    {
     "name": "stdout",
     "output_type": "stream",
     "text": [
      "True\n",
      "True\n",
      "False\n"
     ]
    }
   ],
   "source": [
    "\n",
    "def is_palindrome(input_string):\n",
    "    reversed_string = input_string[::-1]\n",
    "    if input_string == reversed_string:\n",
    "        return True\n",
    "    else:\n",
    "        return False\n",
    "\n",
    "\n",
    "input_string1 = \"malayalam\"\n",
    "print(is_palindrome(input_string1))      #   =====>   True\n",
    "\n",
    "\n",
    "input_string2 = \"racecar\"\n",
    "print(is_palindrome(input_string2))      #   =====>   True\n",
    "\n",
    "\n",
    "input_string3 = \"Avinash\"\n",
    "print(is_palindrome(input_string3))      #   =====>   False\n",
    "\n"
   ]
  },
  {
   "cell_type": "code",
   "execution_count": null,
   "id": "3dd0c677-2648-4c08-9f0b-ff85e2d8cd72",
   "metadata": {},
   "outputs": [],
   "source": []
  },
  {
   "cell_type": "markdown",
   "id": "13755e2e-daac-4e05-9641-aa0717e6cca2",
   "metadata": {
    "jp-MarkdownHeadingCollapsed": true
   },
   "source": [
    "\n",
    "##### <span style=\"color: blue\">24  ===> Merge Sort </span>\n"
   ]
  },
  {
   "cell_type": "markdown",
   "id": "477ceb71-9e68-4b04-ade9-37c19028d2c9",
   "metadata": {},
   "source": [
    "<br>\n",
    "\n",
    "<span style=\"color: #DCBD10\">▬▬▬▬▬▬▬▬▬▬▬▬▬▬▬▬▬▬▬▬▬▬▬▬▬▬▬▬▬▬▬▬▬▬▬▬▬▬▬▬▬▬▬▬▬▬▬▬▬▬▬▬▬▬▬▬▬▬▬▬▬▬▬▬▬▬▬▬▬▬▬▬▬▬▬▬</span>\n",
    "\n",
    "<br>\n",
    "\n",
    "<div style=\"padding: 10px; background-color: #E2FFEC\">\n",
    "\n",
    "<u>**QUESTION 23**</u> : &nbsp;Merge Sort\n",
    "\n",
    "</div>\n",
    "\n",
    "<br>\n"
   ]
  },
  {
   "cell_type": "markdown",
   "id": "5607ca91-527c-41a0-8d83-e882620c68c1",
   "metadata": {},
   "source": [
    "\n",
    "<pre>                                     <code style=\"color: blue\">merge_sort(</code><code style=\"color: #FCB800\">input_array</code><code style=\"color: blue\">,</code> p = </code><code style=\"color: #FCB800\">0</code><code style=\"color: blue\">,</code> r = </code><code style=\"color: #FCB800\">len(input_array) - 1</code><code style=\"color: blue\">)</code></pre>\n",
    "\n",
    "<pre>                                                        if p < r: \n",
    "    \n",
    "                                                             q = (p + r) / 2\n",
    "\n",
    "</pre>\n",
    "\n",
    "<pre>                               <code style=\"color: blue\">merge_sort(</code><code style=\"color: #FCB800\">array</code><code style=\"color: blue\">,</code> </code><code style=\"color: black\">p</code><code style=\"color: blue\">,</code> </code><code style=\"color: red\">q</code><code style=\"color: blue\">)</code>         <span style=\"color: blue\"> █ </span>         <code style=\"color: blue\">merge_sort(</code><code style=\"color: #FCB800\">array</code><code style=\"color: blue\">,</code> </code><code style=\"color: red\">q+1</code><code style=\"color: blue\">,</code> </code><code style=\"color: black\">r</code><code style=\"color: blue\">)</code>\n",
    "</pre>\n",
    "\n",
    "<pre>                                                      <code style=\"color: blue\">merge(</code><code style=\"color: #FCB800\">array</code><code style=\"color: blue\">,</code> </code><code style=\"color: black\">p</code><code style=\"color: blue\">,</code> </code><code style=\"color: red\">q</code><code style=\"color: blue\">,</code> </code><code style=\"color: black\">r</code><code style=\"color: blue\">)</code>\n",
    "\n",
    "</pre>\n",
    "\n",
    "\n",
    "<span style=\"color: #E7D51D\">-----------------------------------------------------------------------------------------------------------------------------------------------------------------------------------------------</span>\n",
    "\n",
    "\n",
    "<summary style=\"color: #ccc; padding: 10px; border-radius: 5px;</summary>\n",
    "<div style=\"padding: 10px; border-radius: 5px;\">\n",
    "\n",
    "|  &nbsp;&nbsp;&nbsp;&nbsp;&nbsp;&nbsp;5&nbsp;&nbsp;&nbsp;&nbsp;&nbsp;&nbsp;   |  &nbsp;&nbsp;&nbsp;&nbsp;&nbsp;&nbsp;4&nbsp;&nbsp;&nbsp;&nbsp;&nbsp;&nbsp;  |  &nbsp;&nbsp;&nbsp;&nbsp;&nbsp;&nbsp;3&nbsp;&nbsp;&nbsp;&nbsp;&nbsp;&nbsp;  |  &nbsp;&nbsp;&nbsp;&nbsp;&nbsp;&nbsp;&nbsp;&nbsp;&nbsp;&nbsp;&nbsp;&nbsp;&nbsp;&nbsp;&nbsp;&nbsp;&nbsp;&nbsp;&nbsp;&nbsp;&nbsp;&nbsp;&nbsp;&nbsp;&nbsp;&nbsp;&nbsp;&nbsp;&nbsp;&nbsp;&nbsp;&nbsp;&nbsp;&nbsp;&nbsp;&nbsp;&nbsp;&nbsp;&nbsp;&nbsp;&nbsp;&nbsp;&nbsp;&nbsp;&nbsp;&nbsp;&nbsp;&nbsp;1&nbsp;&nbsp;&nbsp;&nbsp;&nbsp;&nbsp;  |  &nbsp;&nbsp;&nbsp;&nbsp;&nbsp;&nbsp;1&nbsp;&nbsp;&nbsp;&nbsp;&nbsp;&nbsp; |  &nbsp;&nbsp;&nbsp;&nbsp;&nbsp;&nbsp;8&nbsp;&nbsp;&nbsp;&nbsp;&nbsp;&nbsp;  |\n",
    "|-----|-----|-----|-----|-----|-----|\n",
    "    \n",
    "<pre>\n",
    "      <code style=\"color: blue\">                                 0       1       2                            3       4       5</code>  <br>\n",
    "                                       p       <code style=\"color: red\">q</code>     <code style=\"color: red\">q+1</code> = r                        p       <code style=\"color: red\">q</code>     <code style=\"color: red\">q+1</code> = r\n",
    "\n",
    "                                                              <code style=\"color: blue\">merge(</code><code style=\"color: #FCB800\">array</code><code style=\"color: blue\">,</code> </code><code style=\"color: black\">p</code><code style=\"color: blue\">,</code> </code><code style=\"color: red\">q</code><code style=\"color: blue\">,</code> </code><code style=\"color: black\">r</code><code style=\"color: blue\">)</code>\n",
    "\n",
    "                                       <code style=\"color: #43CA04\"><strong>i ------------->|</strong></code>                            <code style=\"color: #43CA04\"><strong>j ------------->|</strong></code>\n",
    "\n",
    "                                       <code style=\"color: #43CA04\"><strong>k ---------------------------------------------------------->|</strong></code>\n",
    "\n",
    "                                                    if <span style=\"background-color: #FEFFC5\"><span style=\"color: red\"><strong>i</strong></span> <= <span style=\"color: red\"><strong>q</strong></span></span> and <span style=\"background-color: #FEFFC5\"><span style=\"color: red\"><strong>j</strong></span> <= <span style=\"color: red\"><strong>r</strong></span></span>:\n",
    "                                                        if <span style=\"background-color: #FFEEFD\"><span style=\"color: blue\">arr</span>[<span style=\"color: red\"><strong>i</strong></span>] <= <span style=\"color: blue\">arr</span>[<span style=\"color: red\"><strong>j</strong></span>]</span>:\n",
    "                                                            sorted_array.append(arr[i])\n",
    "                                                            i = i + 1\n",
    "                                                        elif <span style=\"background-color: #FFEEFD\"><span style=\"color: blue\">arr</span>[<span style=\"color: red\"><strong>i</strong></span>] > <span style=\"color: blue\">arr</span>[<span style=\"color: red\"><strong>j</strong></span>]</span>:\n",
    "                                                            sorted_array.append(arr[j])\n",
    "                                                            j = j + 1\n",
    "                                                    elif <span style=\"background-color: #FFEEFD\"><span style=\"color: red\"><strong>i</strong></span> > <span style=\"color: red\"><strong>q</strong></span></span> and <span style=\"background-color: #FEFFC5\"><span style=\"color: red\"><strong>j</strong></span> <= <span style=\"color: red\"><strong>r</strong></span></span>:\n",
    "                                                        sorted_array.append(arr[j])\n",
    "                                                        j = j + 1\n",
    "                                                    elif <span style=\"background-color: #FFEEFD\"><span style=\"color: red\"><strong>j</strong></span> > <span style=\"color: red\"><strong>r</strong></span></span> and <span style=\"background-color: #FEFFC5\"><span style=\"color: red\"><strong>i</strong></span> <= <span style=\"color: red\"><strong>q</strong></span></span>:\n",
    "                                                        sorted_array.append(arr[i])\n",
    "                                                        i = i + 1\n",
    "\n",
    "</pre>\n",
    "</div>\n",
    "\n",
    "\n",
    "\n",
    "<br>\n",
    "\n",
    "<br>\n",
    "\n",
    "<span style=\"color: blue\"> <strong>SOLUTION -1</strong> </span>"
   ]
  },
  {
   "cell_type": "code",
   "execution_count": 11,
   "id": "fa9bbd3a-ce83-41b2-ac24-02c45e24d3a6",
   "metadata": {},
   "outputs": [
    {
     "name": "stdout",
     "output_type": "stream",
     "text": [
      "[3, 4, 5, 8, 8, 8, 14, 16, 16, 17, 18, 18, 20, 22, 24]\n"
     ]
    }
   ],
   "source": [
    "\n",
    "def merge_sort(arr, p, r): \n",
    "    if (p < r): \n",
    "        q = int((p + r) / 2)\n",
    "        merge_sort(arr, p, q)        # recursion\n",
    "        merge_sort(arr, q+1, r)      # recursion\n",
    "        merge(arr, p, q, r)\n",
    "    return arr\n",
    "\n",
    "\n",
    "def merge(arr, p, q, r):\n",
    "    sorted_array = []\n",
    "    i = p\n",
    "    j = q + 1\n",
    "    for k in range(p, r+1):\n",
    "        if i <= q and j <= r:\n",
    "            if arr[i] <= arr[j]:\n",
    "                sorted_array.append(arr[i])\n",
    "                i = i + 1\n",
    "            elif arr[i] > arr[j]:\n",
    "                sorted_array.append(arr[j])\n",
    "                j = j + 1\n",
    "        elif i > q and j <= r:\n",
    "            sorted_array.append(arr[j])\n",
    "            j = j + 1\n",
    "        elif j > r and i <= q:\n",
    "            sorted_array.append(arr[i])\n",
    "            i = i + 1\n",
    "            \n",
    "    # copying the elements of the 'sorted_array' back in the 'arr'\n",
    "    for i in range(p, r+1):\n",
    "        arr[i] = sorted_array[i-p]\n",
    "\n",
    "    return arr\n",
    "\n",
    "\n",
    "input_array = [5, 8, 8, 14, 16, 20, 3, 4, 8, 16, 17, 18, 18, 22, 24]\n",
    "\n",
    "result = merge_sort(input_array, 0, len(input_array) - 1)\n",
    "\n",
    "print(result)\n"
   ]
  },
  {
   "cell_type": "markdown",
   "id": "f8b27871-3783-4552-8bc6-6b5ba6a02ae2",
   "metadata": {},
   "source": [
    "<br>\n",
    "\n",
    "<span style=\"color: #FC02BB\">Since **Python is call by reference**, therefore it sends only the address, not the object itself. Thus the object remains the same.\n",
    "So, even if we does not return the array, it will work. Because, the modifications in the given array are being done **in-place**.</span> \n",
    "\n",
    "<br>"
   ]
  },
  {
   "cell_type": "code",
   "execution_count": 12,
   "id": "5be20af4-44d5-4b91-89ce-4812bf5cae73",
   "metadata": {},
   "outputs": [
    {
     "name": "stdout",
     "output_type": "stream",
     "text": [
      "[3, 4, 5, 8, 8, 8, 14, 16, 16, 17, 18, 18, 20, 22, 24]\n"
     ]
    }
   ],
   "source": [
    "\n",
    "def merge_sort(arr, p, r): \n",
    "    if (p < r): \n",
    "        q = int((p + r) / 2)\n",
    "        merge_sort(arr, p, q)        # recursion\n",
    "        merge_sort(arr, q+1, r)      # recursion\n",
    "        merge(arr, p, q, r)\n",
    "\n",
    "\n",
    "def merge(arr, p, q, r):\n",
    "    sorted_array = []\n",
    "    i = p\n",
    "    j = q + 1\n",
    "    for k in range(p, r+1):\n",
    "        if i <= q and j <= r:\n",
    "            if arr[i] <= arr[j]:\n",
    "                sorted_array.append(arr[i])\n",
    "                i = i + 1\n",
    "            elif arr[i] > arr[j]:\n",
    "                sorted_array.append(arr[j])\n",
    "                j = j + 1\n",
    "        elif i > q and j <= r:\n",
    "            sorted_array.append(arr[j])\n",
    "            j = j + 1\n",
    "        elif j > r and i <= q:\n",
    "            sorted_array.append(arr[i])\n",
    "            i = i + 1\n",
    "            \n",
    "    # copying the elements of the 'sorted_array' back in the 'arr'\n",
    "    for i in range(p, r+1):\n",
    "        arr[i] = sorted_array[i-p]\n",
    "\n",
    "\n",
    "input_array = [5, 8, 8, 14, 16, 20, 3, 4, 8, 16, 17, 18, 18, 22, 24]\n",
    "\n",
    "merge_sort(input_array, 0, len(input_array) - 1)\n",
    "\n",
    "print(input_array)\n"
   ]
  },
  {
   "cell_type": "markdown",
   "id": "b16209d3-7b1d-46f9-aadd-98eb871fab95",
   "metadata": {},
   "source": [
    "<br>\n",
    "\n",
    "<span style=\"color: blue\"> <strong>SOLUTION -2</strong> </span> \n",
    "\n",
    "The merge code can be optimized like the following:\n",
    "<pre>\n",
    "    <br>\n",
    "                                 if ( <span style=\"background-color: #FFEEFD\"><span style=\"color: blue\">arr</span>[<span style=\"color: red\"><strong>i</strong></span>] <= <span style=\"color: blue\">arr</span>[<span style=\"color: red\"><strong>j</strong></span>]</span> ) or ( <span style=\"background-color: #FFEEFD\"><span style=\"color: red\"><strong>j</strong></span> > <span style=\"color: red\"><strong>r</strong></span></span> ):\n",
    "                                        sorted_array.append(<code style=\"color: blue\">arr</code>[<span style=\"color: red\"><strong>i</strong></span>])\n",
    "                                        <span style=\"color: red\"><strong>i</strong></span> = <span style=\"color: red\"><strong>i</strong></span> + 1\n",
    "                                 elsif ( <span style=\"background-color: #FFEEFD\"><span style=\"color: blue\">arr</span>[<span style=\"color: red\"><strong>i</strong></span>] > <span style=\"color: blue\">arr</span>[<span style=\"color: red\"><strong>j</strong></span>]</span> ) or ( <span style=\"background-color: #FFEEFD\"><span style=\"color: red\"><strong>i</strong></span> > <span style=\"color: red\"><strong>q</strong></span></span> ):\n",
    "                                        sorted_array.append(<code style=\"color: blue\">arr</code>[<span style=\"color: red\"><strong>j</strong></span>])\n",
    "                                        <span style=\"color: red\"><strong>j</strong></span> = <span style=\"color: red\"><strong>j</strong></span> + 1                                                         \n",
    "</pre>\n",
    "</div>\n",
    "\n",
    "<br>\n",
    "</pre>"
   ]
  },
  {
   "cell_type": "code",
   "execution_count": 3,
   "id": "2f6f8329-b670-4d3b-8649-5e33b9f276ef",
   "metadata": {},
   "outputs": [
    {
     "name": "stdout",
     "output_type": "stream",
     "text": [
      "[3, 4, 5, 8, 8, 8, 14, 16, 16, 17, 18, 18, 20, 22, 24]\n"
     ]
    }
   ],
   "source": [
    "\n",
    "def merge_sort(arr, p, r): \n",
    "    if (p < r): \n",
    "        q = int((p + r) / 2)\n",
    "        merge_sort(arr, p, q)        # recursion\n",
    "        merge_sort(arr, q+1, r)      # recursion\n",
    "        merge(arr, p, q, r)\n",
    "\n",
    "\n",
    "def merge(arr, p, q, r):\n",
    "    sorted_array = []\n",
    "    i = p\n",
    "    j = q + 1\n",
    "    for k in range(p, r+1):\n",
    "        if ( (i <= q) and (j <= r) and arr[i] <= arr[j] ) or ( (j > r) and (i <= q) ):\n",
    "            sorted_array.append(arr[i])\n",
    "            i += 1\n",
    "        elif ( (i <= q) and (j <= r) and arr[i] > arr[j] ) or ( (i > q) and (j <= r) ):\n",
    "            sorted_array.append(arr[j])\n",
    "            j += 1\n",
    "            \n",
    "    # copying the elements of the 'sorted_array' back in the 'arr'\n",
    "    for i in range(p, r+1):\n",
    "        arr[i] = sorted_array[i-p]\n",
    "\n",
    "\n",
    "input_array = [5, 8, 8, 14, 16, 20, 3, 4, 8, 16, 17, 18, 18, 22, 24]\n",
    "\n",
    "merge_sort(input_array, 0, len(input_array) - 1)\n",
    "\n",
    "print(input_array)\n"
   ]
  },
  {
   "cell_type": "code",
   "execution_count": null,
   "id": "e977d7ab-6247-4538-aa5f-8a05b238d132",
   "metadata": {},
   "outputs": [],
   "source": []
  },
  {
   "cell_type": "markdown",
   "id": "7fe299d9-823d-4a0e-b533-83dfadb548b0",
   "metadata": {
    "jp-MarkdownHeadingCollapsed": true
   },
   "source": [
    "##### <span style=\"color: blue\">25  ===> Sort Array of Numbers from 1 to 9 </span>"
   ]
  },
  {
   "cell_type": "markdown",
   "id": "bc756363-2fe9-4dde-943b-9bc62a0eaba5",
   "metadata": {},
   "source": [
    "<br>\n",
    "\n",
    "<span style=\"color: #DCBD10\">▬▬▬▬▬▬▬▬▬▬▬▬▬▬▬▬▬▬▬▬▬▬▬▬▬▬▬▬▬▬▬▬▬▬▬▬▬▬▬▬▬▬▬▬▬▬▬▬▬▬▬▬▬▬▬▬▬▬▬▬▬▬▬▬▬▬▬▬▬▬▬▬▬▬▬▬</span>\n",
    "\n",
    "<br>\n",
    "\n",
    "<div style=\"padding: 10px; background-color: #E2FFEC\">\n",
    "\n",
    "<u>**QUESTION 25**</u> : &nbsp;Given an array of numbers ranging from **1 to 9** where each number can occur **more than once**, sort the array in ascending order.\n",
    "\n",
    "&nbsp;&nbsp;&nbsp;&nbsp;&nbsp;&nbsp;&nbsp;&nbsp;&nbsp;&nbsp;&nbsp;&nbsp;&nbsp;&nbsp;&nbsp;&nbsp;&nbsp;&nbsp;&nbsp;&nbsp;&nbsp;&nbsp;&nbsp;&nbsp;&nbsp;&nbsp;&nbsp;&nbsp;[&nbsp;2, &nbsp;3, &nbsp;2, &nbsp;4, &nbsp;5, &nbsp;6, &nbsp;3, &nbsp;3, &nbsp;2, &nbsp;9, &nbsp;5, &nbsp;7&nbsp;]  &nbsp;&nbsp;&nbsp;&nbsp;=====>&nbsp;&nbsp;&nbsp;  [&nbsp;2, &nbsp;2, &nbsp;2, &nbsp;3, &nbsp;3, &nbsp;3, &nbsp;4, &nbsp;5, &nbsp;5, &nbsp;6, &nbsp;7, &nbsp;9]\n",
    "\n",
    "&nbsp;&nbsp;&nbsp;&nbsp;&nbsp;&nbsp;&nbsp;&nbsp;&nbsp;&nbsp;&nbsp;&nbsp;&nbsp;&nbsp;&nbsp;&nbsp;&nbsp;&nbsp;&nbsp;&nbsp;&nbsp;&nbsp;&nbsp;&nbsp;&nbsp;&nbsp;&nbsp;&nbsp;<font size=\"+2\">*</font>Numbers range from 1 to 9 only\n",
    "\n",
    "</div>\n",
    "\n",
    "<br>\n",
    "\n",
    "<span style=\"color: #FC02BB\"> <strong>SOLUTION -1</strong> </span> ===> <span style=\"background-color: yellow\">using **Merge Sort**</span>"
   ]
  },
  {
   "cell_type": "code",
   "execution_count": 39,
   "id": "a2f7c4c0-f17c-4539-8e17-72f6ee6cc600",
   "metadata": {},
   "outputs": [
    {
     "name": "stdout",
     "output_type": "stream",
     "text": [
      "[2, 2, 2, 3, 3, 3, 4, 5, 5, 6, 7, 9]\n"
     ]
    }
   ],
   "source": [
    "\n",
    "def merge_sort(arr, p, r):\n",
    "    if p < r:\n",
    "        q = int((p + r) / 2)\n",
    "        merge_sort(arr, p, q)\n",
    "        merge_sort(arr, q + 1, r)\n",
    "        merge(arr, p, q, r)\n",
    "\n",
    "\n",
    "def merge(arr, p, q, r):\n",
    "    sorted_array = []\n",
    "    i = p\n",
    "    j = q + 1\n",
    "    for k in range(p, r+1):\n",
    "        if i <= q and j <= r:\n",
    "            if arr[i] <= arr[j]:\n",
    "                sorted_array.append(arr[i])\n",
    "                i = i + 1\n",
    "            elif arr[i] > arr[j]:\n",
    "                sorted_array.append(arr[j])\n",
    "                j = j + 1\n",
    "        elif i > q and j <= r:\n",
    "            sorted_array.append(arr[j])\n",
    "            j = j + 1\n",
    "        elif j > r and i <= q:\n",
    "            sorted_array.append(arr[i])\n",
    "            i = i + 1\n",
    "\n",
    "    # copying the elements of the 'sorted_array' back in the 'arr'\n",
    "    for i in range(p, r+1):\n",
    "        arr[i] = sorted_array[i-p]\n",
    "\n",
    "\n",
    "input_array = [2, 3, 2, 4, 5, 6, 3, 3, 2, 9, 5, 7 ]\n",
    "merge_sort(input_array, 0, len(arr)-1)\n",
    "\n",
    "print(input_array)"
   ]
  },
  {
   "cell_type": "markdown",
   "id": "adfc4406-7cba-44bc-abe7-8670ed54334c",
   "metadata": {},
   "source": [
    "<br>\n",
    "\n",
    "<span style=\"color: #FC02BB\"> <strong>SOLUTION - 2</strong> </span> ===> <span style=\"background-color: yellow\">using **dictionary**</span>"
   ]
  },
  {
   "cell_type": "code",
   "execution_count": 40,
   "id": "269cae28-c0c9-4357-94b2-0d59e3f6ba0c",
   "metadata": {},
   "outputs": [
    {
     "data": {
      "text/plain": [
       "[2, 2, 2, 3, 3, 3, 4, 5, 5, 6, 9, 7]"
      ]
     },
     "execution_count": 40,
     "metadata": {},
     "output_type": "execute_result"
    }
   ],
   "source": [
    "\n",
    "def dict_sort(arr):\n",
    "    sorted_arr = []\n",
    "    arr_dict = dict.fromkeys(arr, 0)\n",
    "    for num in arr:\n",
    "        arr_dict[num] += 1\n",
    "    for i in arr_dict.keys(): # since a dictionary stores keys in ascending order\n",
    "        for j in range(0, arr_dict[i]):\n",
    "            sorted_arr.append(i)\n",
    "    return sorted_arr\n",
    "\n",
    "\n",
    "input_array = [2, 3, 2, 4, 5, 6, 3, 3, 2, 9, 5, 7 ]\n",
    "dict_sort(input_array)\n",
    "    "
   ]
  },
  {
   "cell_type": "code",
   "execution_count": null,
   "id": "beb18093-f08d-40a9-8cc9-a41c3a5232b3",
   "metadata": {},
   "outputs": [],
   "source": []
  },
  {
   "cell_type": "markdown",
   "id": "9e533924-8ce6-4c94-bae1-fdf1b6929c5a",
   "metadata": {
    "jp-MarkdownHeadingCollapsed": true
   },
   "source": [
    "##### <span style=\"color: blue\">26  ===> Valid Anagram </span>"
   ]
  },
  {
   "cell_type": "markdown",
   "id": "ae96c2c4-b362-4009-8f78-d28b10058463",
   "metadata": {},
   "source": [
    "<span style=\"color: #DCBD10\">▬▬▬▬▬▬▬▬▬▬▬▬▬▬▬▬▬▬▬▬▬▬▬▬▬▬▬▬▬▬▬▬▬▬▬▬▬▬▬▬▬▬▬▬▬▬▬▬▬▬▬▬▬▬▬▬▬▬▬▬▬▬▬▬▬▬▬▬▬▬▬▬▬▬▬▬</span>\n",
    "\n",
    "<br>\n",
    "\n",
    "<div style=\"padding: 10px; background-color: #E2FFEC\">\n",
    "\n",
    "<u>**QUESTION 26**</u> : &nbsp;Given two strings <font size=\"+1\">&nbsp;**s**&nbsp;</font> and <font size=\"+1\">&nbsp;**t**&nbsp;</font>, return true if <font size=\"+1\">&nbsp;**t**&nbsp;</font> is an <span style=\"background-color: #FFEEFD\">&nbsp;anagram&nbsp;</span> of <font size=\"+1\">&nbsp;**s**&nbsp;</font>, and false otherwise.\n",
    "\n",
    "\n",
    "An **Anagram** is a word or phrase formed by rearranging the letters of a different word or phrase, typically using all the original letters exactly once.\n",
    "\n",
    "</div>\n",
    "\n",
    "<br>\n",
    "\n",
    "<span style=\"color: #FC02BB\"> <strong>SOLUTION - 1</strong> </span> ===> <span style=\"background-color: yellow\">using **sorting**</span>  &nbsp;(Time Complexity &nbsp;===>&nbsp; O(nlogn))"
   ]
  },
  {
   "cell_type": "code",
   "execution_count": 49,
   "id": "f121c74f-1c6d-4c53-8568-6f4f3dfd84d5",
   "metadata": {},
   "outputs": [
    {
     "data": {
      "text/plain": [
       "True"
      ]
     },
     "execution_count": 49,
     "metadata": {},
     "output_type": "execute_result"
    }
   ],
   "source": [
    "\n",
    "def is_anagram(s, t):\n",
    "    return list(s).sort() == list(t).sort()\n",
    "\n",
    "\n",
    "s = \"anagram\"\n",
    "t = 'naagram'\n",
    "\n",
    "is_anagram(s, t)\n"
   ]
  },
  {
   "cell_type": "markdown",
   "id": "157d911d-1435-4846-9192-56539e875847",
   "metadata": {},
   "source": [
    "<br>\n",
    "\n",
    "<span style=\"color: #FC02BB\"> <strong>SOLUTION - 2</strong> </span> ===> <span style=\"background-color: yellow\">using **dictionary**</span>  \n",
    "\n",
    "&nbsp;&nbsp;&nbsp;&nbsp;&nbsp;&nbsp;&nbsp;&nbsp;&nbsp;&nbsp;&nbsp;&nbsp;&nbsp;&nbsp;&nbsp;&nbsp;&nbsp;&nbsp;&nbsp;&nbsp;&nbsp;&nbsp;&nbsp;&nbsp;&nbsp;&nbsp;&nbsp;&nbsp;&nbsp;&nbsp;&nbsp;&nbsp;&nbsp;&nbsp;&nbsp;&nbsp;Time Complexity &nbsp;===>&nbsp; O(n)  <br>\n",
    "&nbsp;&nbsp;&nbsp;&nbsp;&nbsp;&nbsp;&nbsp;&nbsp;&nbsp;&nbsp;&nbsp;&nbsp;&nbsp;&nbsp;&nbsp;&nbsp;&nbsp;&nbsp;&nbsp;&nbsp;&nbsp;&nbsp;&nbsp;&nbsp;&nbsp;&nbsp;&nbsp;&nbsp;&nbsp;&nbsp;&nbsp;&nbsp;&nbsp;&nbsp;&nbsp;&nbsp;Space Complexity &nbsp;====>&nbsp; O(n)"
   ]
  },
  {
   "cell_type": "code",
   "execution_count": 110,
   "id": "ad0bd119-0e21-4491-8c86-15f6ceea01ef",
   "metadata": {},
   "outputs": [
    {
     "name": "stdout",
     "output_type": "stream",
     "text": [
      "True\n"
     ]
    }
   ],
   "source": [
    "\n",
    "def is_anagram(s, t):\n",
    "    count = {}                                        # count = dict.fromkeys(s, 0)\n",
    "    for letter in s:\n",
    "        count[letter] = count.get(letter, 0) + 1\n",
    "    # print(count)                                    # {'a': 3, 'n': 1, 'g': 1, 'r': 1, 'm': 1}\n",
    "    for letter in t:\n",
    "        count[letter] = count.get(letter, 0) - 1\n",
    "    # print(count)                                    # {'a': 0, 'n': 0, 'g': 0, 'r': 0, 'm': 0}\n",
    "    for i in count.values():                          # check whether all the values are 0 or not\n",
    "        if i != 0:\n",
    "            return False\n",
    "    return True\n",
    "    \n",
    "\n",
    "s = \"anagram\"\n",
    "t = \"nagaram\"\n",
    "print(is_anagram(s, t))\n"
   ]
  },
  {
   "cell_type": "code",
   "execution_count": 108,
   "id": "76391b2e-55bb-46b0-9c43-aa8d373691a2",
   "metadata": {},
   "outputs": [
    {
     "name": "stdout",
     "output_type": "stream",
     "text": [
      "False\n"
     ]
    }
   ],
   "source": [
    "\n",
    "s = \"rat\"\n",
    "t = \"car\"\n",
    "print(is_anagram(s, t))\n"
   ]
  },
  {
   "cell_type": "code",
   "execution_count": 111,
   "id": "b2eb5221-eeae-4a98-b788-27d69ba3abfc",
   "metadata": {},
   "outputs": [
    {
     "name": "stdout",
     "output_type": "stream",
     "text": [
      "True\n"
     ]
    }
   ],
   "source": [
    "\n",
    "def is_anagram(s, t):\n",
    "    if len(s) != len(t):\n",
    "        return False\n",
    "    \n",
    "    count = {}                                        # count = dict.fromkeys(s, 0)\n",
    "    for letter in s:\n",
    "        count[letter] = count.get(letter, 0) + 1\n",
    "    # print(count)                                    # {'a': 3, 'n': 1, 'g': 1, 'r': 1, 'm': 1}\n",
    "    for letter in t:\n",
    "        count[letter] = count.get(letter, 0) - 1\n",
    "    # print(count)                                    # {'a': 0, 'n': 0, 'g': 0, 'r': 0, 'm': 0}\n",
    "    for i in count.values():                          # check whether all the values are 0 or not\n",
    "        if i != 0:\n",
    "            return False\n",
    "    return True\n",
    "    \n",
    "\n",
    "s = \"anagram\"\n",
    "t = \"nagaram\"\n",
    "print(is_anagram(s, t))\n"
   ]
  },
  {
   "cell_type": "code",
   "execution_count": null,
   "id": "c3addda5-abf7-4b34-bb4d-c481ba34dc04",
   "metadata": {},
   "outputs": [],
   "source": []
  },
  {
   "cell_type": "markdown",
   "id": "25d04109-fd38-421b-92c0-d2bf651c9827",
   "metadata": {
    "jp-MarkdownHeadingCollapsed": true
   },
   "source": [
    "##### <span style=\"color: blue\">27  ===> Write a python code to accept a string and count the number of vowels and consonants. </span>\n"
   ]
  },
  {
   "cell_type": "markdown",
   "id": "38a63963-df6d-4c70-8d42-279da6828801",
   "metadata": {},
   "source": [
    "<span style=\"color: #DCBD10\">▬▬▬▬▬▬▬▬▬▬▬▬▬▬▬▬▬▬▬▬▬▬▬▬▬▬▬▬▬▬▬▬▬▬▬▬▬▬▬▬▬▬▬▬▬▬▬▬▬▬▬▬▬▬▬▬▬▬▬▬▬▬▬▬▬▬▬▬▬▬▬▬▬▬▬▬</span>\n",
    "\n",
    "<br>\n",
    "\n",
    "<div style=\"padding: 10px; background-color: #E2FFEC\">\n",
    "\n",
    "<u>**QUESTION 27**</u> : &nbsp;Write a python code to accept a string and count the number of vowels and consonants.\n",
    "\n",
    "</div>\n",
    "\n",
    "<br>"
   ]
  },
  {
   "cell_type": "code",
   "execution_count": 129,
   "id": "5b1a0706-6a66-4934-abca-969878171fc9",
   "metadata": {},
   "outputs": [
    {
     "name": "stdout",
     "output_type": "stream",
     "text": [
      "{'vowel': 5, 'consonant': 9}\n"
     ]
    }
   ],
   "source": [
    "\n",
    "def count_vowels_consonants(str):\n",
    "    count = {\"vowel\" : 0, \"consonant\" : 0}\n",
    "    for letter in str:\n",
    "        if letter.lower() in [\"a\", \"e\", \"i\", \"o\", \"u\"]:\n",
    "            count[\"vowel\"] = count[\"vowel\"] + 1\n",
    "        else:\n",
    "            count[\"consonant\"] = count[\"consonant\"] + 1\n",
    "    print(count)\n",
    "        \n",
    "    \n",
    "str = \"Avinash Mishra\"\n",
    "\n",
    "count_vowels_consonants(str)\n"
   ]
  },
  {
   "cell_type": "code",
   "execution_count": 130,
   "id": "348de78e-8cb6-4d4c-a492-ef75606fa1c0",
   "metadata": {},
   "outputs": [
    {
     "name": "stdout",
     "output_type": "stream",
     "text": [
      "{'vowel': 0, 'consonant': 5}\n"
     ]
    }
   ],
   "source": [
    "\n",
    "str = \"kkkkk\"\n",
    "\n",
    "count_vowels_consonants(str)\n"
   ]
  },
  {
   "cell_type": "code",
   "execution_count": null,
   "id": "5188b681-f81c-4921-b45b-e825e33434ea",
   "metadata": {},
   "outputs": [],
   "source": []
  },
  {
   "cell_type": "markdown",
   "id": "94202146-919f-4152-ab21-db610f8b94e2",
   "metadata": {
    "jp-MarkdownHeadingCollapsed": true
   },
   "source": [
    "##### <span style=\"color: blue\">28  ===> Write a program to find the number of occurrences of elements from list1 to list2. </span>\n"
   ]
  },
  {
   "cell_type": "markdown",
   "id": "08435d3d-2d5d-4aa8-9389-117b1494c748",
   "metadata": {},
   "source": [
    "<span style=\"color: #DCBD10\">▬▬▬▬▬▬▬▬▬▬▬▬▬▬▬▬▬▬▬▬▬▬▬▬▬▬▬▬▬▬▬▬▬▬▬▬▬▬▬▬▬▬▬▬▬▬▬▬▬▬▬▬▬▬▬▬▬▬▬▬▬▬▬▬▬▬▬▬▬▬▬▬▬▬▬▬</span>\n",
    "\n",
    "<br>\n",
    "\n",
    "<div style=\"padding: 10px; background-color: #E2FFEC\">\n",
    "\n",
    "<u>**QUESTION 28**</u> : &nbsp;Write a program to find the number of occurrences of elements from list1 to list2. Basically which elements are common?\n",
    "\n",
    "</div>\n",
    "\n",
    "<br>\n",
    "\n",
    "<span style=\"color: #FC02BB\"> <strong>SOLUTION</strong> </span> ===> using <span style=\"background-color: yellow\">&nbsp;**in**&nbsp;</span> operator and <span style=\"background-color: yellow\">&nbsp;**dict**&nbsp;</span> constructor"
   ]
  },
  {
   "cell_type": "code",
   "execution_count": 148,
   "id": "d933b104-e42b-4afa-a919-9fec2514b401",
   "metadata": {},
   "outputs": [
    {
     "name": "stdout",
     "output_type": "stream",
     "text": [
      "([2, 4, 5], 3)\n"
     ]
    }
   ],
   "source": [
    "\n",
    "def count_common(list1, list2):\n",
    "    result = []\n",
    "    for i in list1:\n",
    "        if i in list2:\n",
    "            result.append(i)\n",
    "    return result, len(result)\n",
    "            \n",
    "\n",
    "list1 = [1, 2, 3, 4, 5]\n",
    "list2 = [2, 8, 9, 4, 5]\n",
    "\n",
    "print(count_common(list1, list2))\n"
   ]
  },
  {
   "cell_type": "markdown",
   "id": "31fa0274-77a7-4960-9203-9897fa50536b",
   "metadata": {},
   "source": [
    "But when there are **duplicates** <font size=\"+2\">↴</font>"
   ]
  },
  {
   "cell_type": "code",
   "execution_count": 149,
   "id": "25d91d1a-e1c3-4895-8372-fe08a0fcf432",
   "metadata": {},
   "outputs": [
    {
     "name": "stdout",
     "output_type": "stream",
     "text": [
      "([2, 2, 4, 5], 4)\n"
     ]
    }
   ],
   "source": [
    "\n",
    "list1 = [1, 2, 3, 2, 4, 5]\n",
    "list2 = [2, 8, 9, 4, 5]\n",
    "\n",
    "print(count_common(list1, list2))\n"
   ]
  },
  {
   "cell_type": "code",
   "execution_count": 152,
   "id": "809b7ada-6366-4660-922b-e326b9e55c1e",
   "metadata": {},
   "outputs": [
    {
     "name": "stdout",
     "output_type": "stream",
     "text": [
      "([2, 4, 5], 3)\n"
     ]
    }
   ],
   "source": [
    "\n",
    "def count_common(list1, list2):\n",
    "    result = []\n",
    "    for i in list1:\n",
    "        if i in list2:\n",
    "            result.append(i)\n",
    "    result = list(dict.fromkeys(result).keys())   # keeping the result in a dictionary and then converting it into a list to get the unique values\n",
    "    return result, len(result)\n",
    "\n",
    "\n",
    "list1 = [1, 2, 3, 4, 5]\n",
    "list2 = [2, 8, 9, 4, 5]\n",
    "\n",
    "print(count_common(list1, list2))\n"
   ]
  },
  {
   "cell_type": "code",
   "execution_count": null,
   "id": "b91f7aee-8a48-45b1-bb99-ce2121b34f66",
   "metadata": {},
   "outputs": [],
   "source": []
  },
  {
   "cell_type": "markdown",
   "id": "143e0592-d5c0-446e-8c42-c1c06ef4d55d",
   "metadata": {
    "jp-MarkdownHeadingCollapsed": true
   },
   "source": [
    "##### <span style=\"color: blue\">29  ===> Write a function that returns the lesser of two given numbers if both numbers are even, but returns the greater if one or both numbers are odd. </span>\n"
   ]
  },
  {
   "cell_type": "markdown",
   "id": "93131790-4701-436e-960a-6bd6e61f2bc6",
   "metadata": {},
   "source": [
    "<span style=\"color: #DCBD10\">▬▬▬▬▬▬▬▬▬▬▬▬▬▬▬▬▬▬▬▬▬▬▬▬▬▬▬▬▬▬▬▬▬▬▬▬▬▬▬▬▬▬▬▬▬▬▬▬▬▬▬▬▬▬▬▬▬▬▬▬▬▬▬▬▬▬▬▬▬▬▬▬▬▬▬▬</span>\n",
    "\n",
    "<br>\n",
    "\n",
    "<div style=\"padding: 10px; background-color: #E2FFEC\">\n",
    "\n",
    "<u>**QUESTION 29**</u> : &nbsp;Write a function that returns the lesser of two given numbers if both numbers are even, but returns the greater if one or both numbers are odd. \n",
    "\n",
    "</div>\n",
    "\n",
    "<br>"
   ]
  },
  {
   "cell_type": "code",
   "execution_count": 155,
   "id": "d2df0076-e3c6-4f61-a82d-5c890e294bf1",
   "metadata": {},
   "outputs": [
    {
     "name": "stdout",
     "output_type": "stream",
     "text": [
      "5\n"
     ]
    }
   ],
   "source": [
    "\n",
    "def less_or_greater(n1, n2):\n",
    "    if (n1 % 2 == 0) and (n2 % 2 == 0):\n",
    "        return min(n1, n2)\n",
    "    else:\n",
    "        return max(n1, n2)\n",
    "        \n",
    "num1 = 4\n",
    "num2 = 5\n",
    "\n",
    "print(less_or_greater(num1, num2))\n"
   ]
  },
  {
   "cell_type": "code",
   "execution_count": 156,
   "id": "a36f9c62-500f-41da-b074-622806033fe4",
   "metadata": {},
   "outputs": [
    {
     "name": "stdout",
     "output_type": "stream",
     "text": [
      "4\n"
     ]
    }
   ],
   "source": [
    "\n",
    "num1 = 4\n",
    "num2 = 6\n",
    "\n",
    "print(less_or_greater(num1, num2))\n"
   ]
  },
  {
   "cell_type": "code",
   "execution_count": null,
   "id": "fd288dd7-da18-41fc-8234-85150611e0d7",
   "metadata": {},
   "outputs": [],
   "source": []
  },
  {
   "cell_type": "markdown",
   "id": "8292512e-dec5-4d5d-bd5c-de1f0cdfd7a2",
   "metadata": {
    "jp-MarkdownHeadingCollapsed": true
   },
   "source": [
    "##### <span style=\"color: blue\">30  ===> Write a python function that accepts a string and calculates the number of upper case letters and lower case letters. </span>\n"
   ]
  },
  {
   "cell_type": "markdown",
   "id": "d3a9b23a-3ffd-447a-b13d-2efb091ed163",
   "metadata": {},
   "source": [
    "<span style=\"color: #DCBD10\">▬▬▬▬▬▬▬▬▬▬▬▬▬▬▬▬▬▬▬▬▬▬▬▬▬▬▬▬▬▬▬▬▬▬▬▬▬▬▬▬▬▬▬▬▬▬▬▬▬▬▬▬▬▬▬▬▬▬▬▬▬▬▬▬▬▬▬▬▬▬▬▬▬▬▬▬</span>\n",
    "\n",
    "<br>\n",
    "\n",
    "<div style=\"padding: 10px; background-color: #E2FFEC\">\n",
    "\n",
    "<u>**QUESTION 30**</u> : &nbsp;Write a python function that accepts a string and calculates the number of **upper** case letters and **lower** case letters. \n",
    "\n",
    "</div>\n",
    "\n",
    "<br>"
   ]
  },
  {
   "cell_type": "code",
   "execution_count": 17,
   "id": "d9ea9a65-f450-41b9-b500-356ac46b3da6",
   "metadata": {},
   "outputs": [
    {
     "name": "stdin",
     "output_type": "stream",
     "text": [
      "Enter a string: Avinash Kumar Mishra\n"
     ]
    },
    {
     "name": "stdout",
     "output_type": "stream",
     "text": [
      "upper case count = 3     lower case count = 15\n"
     ]
    }
   ],
   "source": [
    "\n",
    "def count_upper_lower(inp_str):\n",
    "    upper_case_count = 0\n",
    "    lower_case_count = 0\n",
    "    for i in inp_str:\n",
    "        if i == \" \":\n",
    "            continue\n",
    "        elif i.isupper():\n",
    "            upper_case_count += 1\n",
    "        elif i.islower():\n",
    "            lower_case_count += 1\n",
    "    return (upper_case_count, lower_case_count)\n",
    "\n",
    "\n",
    "input_string = input(\"Enter a string:\")\n",
    "upper_case_count, lower_case_count = count_upper_lower(input_string)\n",
    "\n",
    "print(f\"upper case count = {upper_case_count}     lower case count = {lower_case_count}\")\n"
   ]
  },
  {
   "cell_type": "code",
   "execution_count": null,
   "id": "af962cc1-47c5-4139-b2e5-9975df9d88c3",
   "metadata": {},
   "outputs": [],
   "source": []
  },
  {
   "cell_type": "markdown",
   "id": "7b00ae71-32de-4e26-a853-03b281660c3f",
   "metadata": {
    "jp-MarkdownHeadingCollapsed": true
   },
   "source": [
    "##### <span style=\"color: blue\">31  ===> Write a program that accepts input of the form - <font size=\"+1\"><code>s3t1z5</code></font>, and return a string where the character is repeated for the corresponding number of times. </span>\n"
   ]
  },
  {
   "cell_type": "markdown",
   "id": "89b93832-0f22-4b44-a491-cc5d1e835cee",
   "metadata": {},
   "source": [
    "<span style=\"color: #DCBD10\">▬▬▬▬▬▬▬▬▬▬▬▬▬▬▬▬▬▬▬▬▬▬▬▬▬▬▬▬▬▬▬▬▬▬▬▬▬▬▬▬▬▬▬▬▬▬▬▬▬▬▬▬▬▬▬▬▬▬▬▬▬▬▬▬▬▬▬▬▬▬▬▬▬▬▬▬</span>\n",
    "\n",
    "<br>\n",
    "\n",
    "<div style=\"padding: 10px; background-color: #E2FFEC\">\n",
    "\n",
    "<u>**QUESTION 31**</u> : &nbsp;Write a program that accepts input in this form: <font size=\"+1\"><code>s3t1z5</code></font> <br>\n",
    "&nbsp;&nbsp;&nbsp;&nbsp;&nbsp;&nbsp;&nbsp;&nbsp;&nbsp;&nbsp;&nbsp;&nbsp;&nbsp;&nbsp;&nbsp;&nbsp;&nbsp;&nbsp;&nbsp;&nbsp;&nbsp;&nbsp;&nbsp;&nbsp;&nbsp;&nbsp;&nbsp;Here any character is followed by a number. <br>\n",
    "&nbsp;&nbsp;&nbsp;&nbsp;&nbsp;&nbsp;&nbsp;&nbsp;&nbsp;&nbsp;&nbsp;&nbsp;&nbsp;&nbsp;&nbsp;&nbsp;&nbsp;&nbsp;&nbsp;&nbsp;&nbsp;&nbsp;&nbsp;&nbsp;&nbsp;&nbsp;&nbsp;The program should return a string where the character is repeated for the corresponding number of times.\n",
    "\n",
    "</div>\n",
    "\n",
    "<br>\n",
    "\n",
    "<span style=\"color: #FC02BB\"> <strong>SOLUTION - 1</strong> </span> ===> using the concept that **numbers are at odd places** ( considering indexes ranging [ 0 ==> n-1 ] )"
   ]
  },
  {
   "cell_type": "code",
   "execution_count": 47,
   "id": "9351c0c4-3766-41d9-8f6e-15b4837240ba",
   "metadata": {},
   "outputs": [
    {
     "data": {
      "text/plain": [
       "'ssstzzzzz'"
      ]
     },
     "execution_count": 47,
     "metadata": {},
     "output_type": "execute_result"
    }
   ],
   "source": [
    "\n",
    "def repeat_chars(inp_str):\n",
    "    result = \"\"\n",
    "    n = len(inp_str)\n",
    "    for i in range(0, n): \n",
    "        if i % 2 == 1:  # considering indexes ranging [0 ==> n-1], here numbers are only at odd places & we assume each number is just a 1-digit number\n",
    "            for k in range(0, int(inp_str[i])):\n",
    "                # result.join(inp_str[i-1])    ===>  cannot use join() here because it doesn't actually modify result; it actually returns a new string\n",
    "                result = result + inp_str[i-1]\n",
    "    return result\n",
    "        \n",
    "\n",
    "inp_str = \"s3t1z5\"\n",
    "repeat_chars(inp_str)\n"
   ]
  },
  {
   "cell_type": "markdown",
   "id": "28291f38-5a38-4914-9f79-3a0916f377fd",
   "metadata": {},
   "source": [
    "<span style=\"color: #FC02BB\"> <strong>SOLUTION - 2</strong> </span> ===> Considering each number is of one digit only, **iterate in steps of 2**\n"
   ]
  },
  {
   "cell_type": "code",
   "execution_count": 48,
   "id": "a6ebd7ef-9c54-456b-8786-e6bf6d30e75a",
   "metadata": {},
   "outputs": [
    {
     "data": {
      "text/plain": [
       "'ssstzzzzz'"
      ]
     },
     "execution_count": 48,
     "metadata": {},
     "output_type": "execute_result"
    }
   ],
   "source": [
    "\n",
    "def repeat_chars(inp_str):\n",
    "    result = \"\"\n",
    "    n = len(inp_str)\n",
    "    for i in range(0, n, 2): \n",
    "        for j in range(0, int(inp_str[i + 1])):\n",
    "                result = result + inp_str[i]\n",
    "    return result\n",
    "        \n",
    "\n",
    "inp_str = \"s3t1z5\"\n",
    "repeat_chars(inp_str)\n"
   ]
  },
  {
   "cell_type": "markdown",
   "id": "c5728dff-83cc-4a3b-9380-ba8e74bd2010",
   "metadata": {},
   "source": [
    "Instead of using <code style=\"background-color: yellow\"><font size=\"+1\">**j**</font> loop</code>, we can use the concept of **multiplying a string with a number**, for example : <code>\"A1 \" * 5 ===> \"A1 A1 A1 A1 A1\"</code>"
   ]
  },
  {
   "cell_type": "code",
   "execution_count": 50,
   "id": "ffd260ff-4726-4f56-abb9-05045ba1cf92",
   "metadata": {},
   "outputs": [
    {
     "data": {
      "text/plain": [
       "'ssstzzzzz'"
      ]
     },
     "execution_count": 50,
     "metadata": {},
     "output_type": "execute_result"
    }
   ],
   "source": [
    "\n",
    "def repeat_chars(inp_str):\n",
    "    result = \"\"\n",
    "    n = len(inp_str)\n",
    "    for i in range(0, n, 2): \n",
    "        result = result + (inp_str[i] * int(inp_str[i + 1]))\n",
    "    return result\n",
    "        \n",
    "\n",
    "inp_str = \"s3t1z5\"\n",
    "repeat_chars(inp_str)\n"
   ]
  },
  {
   "cell_type": "code",
   "execution_count": null,
   "id": "38c47767-db61-4ac2-9ba6-e1707ea4a1ec",
   "metadata": {},
   "outputs": [],
   "source": []
  },
  {
   "cell_type": "markdown",
   "id": "cd8fe714-e095-4662-bd76-98f760138da2",
   "metadata": {
    "jp-MarkdownHeadingCollapsed": true
   },
   "source": [
    "##### <span style=\"color: blue\">32  ===> Take a sentence as input and print only the words that start with &nbsp;<font size=\"+1\"><code>\"D\"</code>&nbsp;</font> in the sentence. </span>\n"
   ]
  },
  {
   "cell_type": "markdown",
   "id": "65da6940-a95d-44c2-a3f5-400cd6d043f7",
   "metadata": {},
   "source": [
    "<span style=\"color: #DCBD10\">▬▬▬▬▬▬▬▬▬▬▬▬▬▬▬▬▬▬▬▬▬▬▬▬▬▬▬▬▬▬▬▬▬▬▬▬▬▬▬▬▬▬▬▬▬▬▬▬▬▬▬▬▬▬▬▬▬▬▬▬▬▬▬▬▬▬▬▬▬▬▬▬▬▬▬▬</span>\n",
    "\n",
    "<br>\n",
    "\n",
    "<div style=\"padding: 10px; background-color: #E2FFEC\">\n",
    "\n",
    "<u>**QUESTION 32**</u> : &nbsp;Take a sentence as input and print only the words that start with &nbsp;<font size=\"+1\"><code>\"D\"</code>&nbsp;</font> in the sentence.\n",
    "\n",
    "&nbsp;&nbsp;&nbsp;&nbsp;&nbsp;&nbsp;&nbsp;&nbsp;&nbsp;&nbsp;&nbsp;&nbsp;&nbsp;&nbsp;&nbsp;&nbsp;&nbsp;&nbsp;&nbsp;&nbsp;&nbsp;&nbsp;&nbsp;&nbsp;&nbsp;&nbsp;&nbsp;&nbsp;Assume - case insensitivity\n",
    "</div>\n",
    "\n",
    "<br>"
   ]
  },
  {
   "cell_type": "code",
   "execution_count": 57,
   "id": "68eca0fb-6256-4234-951d-39cb1d6d6f84",
   "metadata": {},
   "outputs": [
    {
     "name": "stdout",
     "output_type": "stream",
     "text": [
      "['Data', 'Data', 'Data', 'data']\n"
     ]
    }
   ],
   "source": [
    "\n",
    "def find_words_starting_with_s(inp_str):\n",
    "    result = []\n",
    "    str_list = inp_str.split(\" \")\n",
    "    for word in str_list:\n",
    "        if word[0].upper() == \"D\":\n",
    "            result.append(word)\n",
    "    return result\n",
    "            \n",
    "\n",
    "input_string = \"I prefer Data Engineering over Data Analysis and Data Science for a beginner in data field\"\n",
    "print(find_words_starting_with_s(input_string))\n"
   ]
  },
  {
   "cell_type": "code",
   "execution_count": null,
   "id": "42f62f3f-7805-4b57-94f4-9fb318c7b191",
   "metadata": {},
   "outputs": [],
   "source": []
  },
  {
   "cell_type": "markdown",
   "id": "7e6e02ff-a21d-4037-9162-0fee9dd61a27",
   "metadata": {
    "jp-MarkdownHeadingCollapsed": true
   },
   "source": [
    "##### <span style=\"color: blue\">33  ===> From a dictionary, print only the items with an odd value of less than 45. </span>\n"
   ]
  },
  {
   "cell_type": "markdown",
   "id": "87fda8e2-0b8f-452f-bc71-36d598614b73",
   "metadata": {},
   "source": [
    "<span style=\"color: #DCBD10\">▬▬▬▬▬▬▬▬▬▬▬▬▬▬▬▬▬▬▬▬▬▬▬▬▬▬▬▬▬▬▬▬▬▬▬▬▬▬▬▬▬▬▬▬▬▬▬▬▬▬▬▬▬▬▬▬▬▬▬▬▬▬▬▬▬▬▬▬▬▬▬▬▬▬▬▬</span>\n",
    "\n",
    "<br>\n",
    "\n",
    "<div style=\"padding: 10px; background-color: #E2FFEC\">\n",
    "\n",
    "<u>**QUESTION 33**</u> : &nbsp;From a dictionary, print only the items with an odd value of less than 45.\n",
    "\n",
    "&nbsp;&nbsp;&nbsp;&nbsp;&nbsp;&nbsp;&nbsp;&nbsp;&nbsp;&nbsp;&nbsp;&nbsp;&nbsp;&nbsp;&nbsp;&nbsp;&nbsp;&nbsp;&nbsp;&nbsp;&nbsp;&nbsp;&nbsp;&nbsp;&nbsp;&nbsp;&nbsp;<code>dic = {'Avinash': 45, 'Aman': 31, 'Radha':312, 'Isha': 400}</code>\n",
    "\n",
    "</div>\n",
    "\n",
    "<br>"
   ]
  },
  {
   "cell_type": "code",
   "execution_count": 61,
   "id": "fd258376-9e29-4fab-8c36-32e55a3c92f2",
   "metadata": {},
   "outputs": [
    {
     "name": "stdout",
     "output_type": "stream",
     "text": [
      "Aman "
     ]
    }
   ],
   "source": [
    "\n",
    "def find_keys_with_odd_value_less_than_45(dic):\n",
    "    for key, value in dic.items():\n",
    "        if value % 2 == 1 and value < 45:\n",
    "            print(key, end = \" \")\n",
    "\n",
    "\n",
    "input_dictionary = {'Avinash': 45, 'Aman': 31, 'Radha':312, 'Isha': 400}\n",
    "\n",
    "find_keys_with_odd_value_less_than_45(input_dictionary)\n"
   ]
  },
  {
   "cell_type": "code",
   "execution_count": null,
   "id": "02966e5e-688a-493e-bfe0-ea3ba6344790",
   "metadata": {},
   "outputs": [],
   "source": []
  },
  {
   "cell_type": "markdown",
   "id": "86edae3d-5610-4215-9165-1969304ee56c",
   "metadata": {
    "jp-MarkdownHeadingCollapsed": true
   },
   "source": [
    "##### <span style=\"color: blue\">34  &nbsp;===>&nbsp;Write a python program to find the common characters from two input strings.</span>\n"
   ]
  },
  {
   "cell_type": "markdown",
   "id": "04a89979-445e-40df-83eb-95cd3dd97874",
   "metadata": {},
   "source": [
    "<span style=\"color: #DCBD10\">▬▬▬▬▬▬▬▬▬▬▬▬▬▬▬▬▬▬▬▬▬▬▬▬▬▬▬▬▬▬▬▬▬▬▬▬▬▬▬▬▬▬▬▬▬▬▬▬▬▬▬▬▬▬▬▬▬▬▬▬▬▬▬▬▬▬▬▬▬▬▬▬▬▬▬▬</span>\n",
    "\n",
    "<br>\n",
    "\n",
    "<div style=\"padding: 10px; background-color: #E2FFEC\">\n",
    "\n",
    "<u>**QUESTION 34**</u> : &nbsp;Write a python program to find the **common characters** from two input strings.\n",
    "\n",
    "</div>\n",
    "\n",
    "<br>\n",
    "\n",
    "<span style=\"color: #FC02BB\"> <strong>SOLUTION - 1</strong> </span> ===> using <span style=\"background-color: yellow\">&nbsp;**set intersection**&nbsp;</span> operator\n"
   ]
  },
  {
   "cell_type": "code",
   "execution_count": 14,
   "id": "ab386f2a-9f06-47ad-97d7-513e9cd7c96a",
   "metadata": {},
   "outputs": [
    {
     "name": "stdout",
     "output_type": "stream",
     "text": [
      "['n', 'a', 'A']\n"
     ]
    }
   ],
   "source": [
    "\n",
    "def find_common_characters(str1, str2):\n",
    "    return list(set(str1) & set(str2)) \n",
    "\n",
    "\n",
    "str1 = \"Avinash\"\n",
    "str2 = \"Aman\"\n",
    "\n",
    "print(find_common_characters(str1, str2))\n",
    "    "
   ]
  },
  {
   "cell_type": "markdown",
   "id": "b32501aa-8ee0-454c-8a4a-d7eea0325a1c",
   "metadata": {},
   "source": [
    "<br>\n",
    "\n",
    "<span style=\"color: #FC02BB\"> <strong>SOLUTION - 2</strong> </span> ===> using <span style=\"background-color: yellow\">&nbsp;**dictionary**&nbsp;</span> "
   ]
  },
  {
   "cell_type": "code",
   "execution_count": 13,
   "id": "bef9e6b6-c3a7-44be-9db9-c0d03cf759d4",
   "metadata": {},
   "outputs": [
    {
     "name": "stdout",
     "output_type": "stream",
     "text": [
      "['A', 'n', 'a']\n"
     ]
    }
   ],
   "source": [
    "\n",
    "def find_common_characters(str1, str2):\n",
    "    dic = dict.fromkeys(str2, 1)\n",
    "    result = []\n",
    "    for i in str1:\n",
    "        if dic.get(i, 0) == 1:\n",
    "            result.append(i)\n",
    "    return result\n",
    "\n",
    "\n",
    "str1 = \"Avinash\"\n",
    "str2 = \"Aman\"\n",
    "\n",
    "print(find_common_characters(str1, str2))\n"
   ]
  },
  {
   "cell_type": "code",
   "execution_count": null,
   "id": "9eefed2c-f524-4ed2-8584-a8c8413aacb0",
   "metadata": {},
   "outputs": [],
   "source": []
  },
  {
   "cell_type": "markdown",
   "id": "cb964f48-8158-48d0-9ebe-ca7585edc06a",
   "metadata": {
    "jp-MarkdownHeadingCollapsed": true
   },
   "source": [
    "##### <span style=\"color: blue\">35  &nbsp;===>&nbsp;Swap two numbers by using one line of code.</span>\n"
   ]
  },
  {
   "cell_type": "markdown",
   "id": "b1f55402-65f5-4c0f-a1c1-104dc27540d8",
   "metadata": {},
   "source": [
    "<span style=\"color: #DCBD10\">▬▬▬▬▬▬▬▬▬▬▬▬▬▬▬▬▬▬▬▬▬▬▬▬▬▬▬▬▬▬▬▬▬▬▬▬▬▬▬▬▬▬▬▬▬▬▬▬▬▬▬▬▬▬▬▬▬▬▬▬▬▬▬▬▬▬▬▬▬▬▬▬▬▬▬▬</span>\n",
    "\n",
    "<br>\n",
    "\n",
    "<div style=\"padding: 10px; background-color: #E2FFEC\">\n",
    "\n",
    "<u>**QUESTION 35**</u> : &nbsp;Swap two numbers by using one line of code.\n",
    "\n",
    "</div>\n",
    "\n",
    "<br>"
   ]
  },
  {
   "cell_type": "code",
   "execution_count": 18,
   "id": "1422328c-f667-4275-92ed-8b1b32590b50",
   "metadata": {},
   "outputs": [
    {
     "name": "stdout",
     "output_type": "stream",
     "text": [
      "(4, 5)\n"
     ]
    }
   ],
   "source": [
    "\n",
    "def swap(a,b):\n",
    "    a, b = b, a\n",
    "    return a, b\n",
    "\n",
    "a = 5\n",
    "b = 4\n",
    "\n",
    "print(swap(a,b))\n"
   ]
  },
  {
   "cell_type": "code",
   "execution_count": null,
   "id": "51a3546e-5afa-493a-a5e4-00c72664b23f",
   "metadata": {},
   "outputs": [],
   "source": []
  },
  {
   "cell_type": "markdown",
   "id": "8456eeb8-2aa2-46b8-bf3e-262ce8c22fd0",
   "metadata": {
    "jp-MarkdownHeadingCollapsed": true
   },
   "source": [
    "##### <span style=\"color: blue\">36  &nbsp;===>&nbsp;Write a program to take two lists and check if the product of even position elements from the first list</span>\n",
    "##### &nbsp;&nbsp;&nbsp;&nbsp;&nbsp;&nbsp;&nbsp;&nbsp;&nbsp;&nbsp;&nbsp;&nbsp;&nbsp;&nbsp;&nbsp;&nbsp;&nbsp;&nbsp;<span style=\"color: blue\">is completely divisible by the sum of odd position elements from the second list.</span>\n"
   ]
  },
  {
   "cell_type": "markdown",
   "id": "c00780be-d4aa-48a7-941d-7e260023ba82",
   "metadata": {},
   "source": [
    "<span style=\"color: #DCBD10\">▬▬▬▬▬▬▬▬▬▬▬▬▬▬▬▬▬▬▬▬▬▬▬▬▬▬▬▬▬▬▬▬▬▬▬▬▬▬▬▬▬▬▬▬▬▬▬▬▬▬▬▬▬▬▬▬▬▬▬▬▬▬▬▬▬▬▬▬▬▬▬▬▬▬▬▬</span>\n",
    "\n",
    "<br>\n",
    "\n",
    "<div style=\"padding: 10px; background-color: #E2FFEC\">\n",
    "\n",
    "<u>**QUESTION 36**</u> : &nbsp;Write a program to take two lists and check if the product of even position elements from the first list\n",
    "                  is completely divisible by the sum of odd position elements from the second list.\n",
    "\n",
    "</div>\n",
    "\n",
    "<br>"
   ]
  },
  {
   "cell_type": "code",
   "execution_count": 23,
   "id": "27adeedf-5afe-4d3d-96e3-4e1ab9ee0c7c",
   "metadata": {},
   "outputs": [
    {
     "name": "stdout",
     "output_type": "stream",
     "text": [
      "False\n"
     ]
    }
   ],
   "source": [
    "\n",
    "def is_even_prod1_divisible_by_odd_sum2(list1, list2):\n",
    "    prod1 = 1\n",
    "    for i in list1:\n",
    "        if i % 2 == 0:\n",
    "            prod1 *= i\n",
    "    sum2 = 0\n",
    "    for i in list2:\n",
    "        if i % 2 == 1:\n",
    "            sum2 += i\n",
    "    if prod1 % sum2 == 0:\n",
    "        return True\n",
    "    else:\n",
    "        return False\n",
    "\n",
    "\n",
    "list1 =[1, 4, 5, 7, 9, 0]\n",
    "list2 = [3, 4, 6, 8, 19]\n",
    "            \n",
    "print(is_even_prod1_same_as_odd_sum2(list1, list2))\n"
   ]
  },
  {
   "cell_type": "code",
   "execution_count": null,
   "id": "a09b9ab6-f5d3-437b-a858-0ce6dc1a3dda",
   "metadata": {},
   "outputs": [],
   "source": []
  },
  {
   "cell_type": "markdown",
   "id": "d06c7b58-8670-446a-a1d1-a4b1d47bd7bc",
   "metadata": {
    "jp-MarkdownHeadingCollapsed": true
   },
   "source": [
    "\n",
    "##### <span style=\"color: blue\">37  &nbsp;===>&nbsp;Write a function that will take a string and a character as arguments and replace the character if present in the string with a &nbsp;<font size=\"+1\"><code>\"*\"</code></font></span>\n"
   ]
  },
  {
   "cell_type": "markdown",
   "id": "f436c500-da8f-43c2-bd6b-d70ad2e9898e",
   "metadata": {},
   "source": [
    "<span style=\"color: #DCBD10\">▬▬▬▬▬▬▬▬▬▬▬▬▬▬▬▬▬▬▬▬▬▬▬▬▬▬▬▬▬▬▬▬▬▬▬▬▬▬▬▬▬▬▬▬▬▬▬▬▬▬▬▬▬▬▬▬▬▬▬▬▬▬▬▬▬▬▬▬▬▬▬▬▬▬▬▬</span>\n",
    "\n",
    "<br>\n",
    "\n",
    "<div style=\"padding: 10px; background-color: #E2FFEC\">\n",
    "\n",
    "<u>**QUESTION 37**</u> : &nbsp;Write a function that will take a string and a character as arguments and replace the character if present in the string with a &nbsp;<font size=\"+1\"><code>\"*\"</code></font>\n",
    "\n",
    "</div>\n",
    "\n",
    "<br>"
   ]
  },
  {
   "cell_type": "code",
   "execution_count": 28,
   "id": "0b4b7cea-f6af-4139-819c-e9f3eee8cb06",
   "metadata": {},
   "outputs": [
    {
     "name": "stdout",
     "output_type": "stream",
     "text": [
      "Avin*sh Kum*r Mishr*\n"
     ]
    }
   ],
   "source": [
    "\n",
    "def custom_replace(string, chr):\n",
    "    return string.replace(chr, \"*\")\n",
    "\n",
    "\n",
    "str = \"Avinash Kumar Mishra\"\n",
    "\n",
    "print(str.replace(\"a\", \"*\"))\n"
   ]
  },
  {
   "cell_type": "code",
   "execution_count": null,
   "id": "4d6e133c-cec9-4910-b572-5f00034642cc",
   "metadata": {},
   "outputs": [],
   "source": []
  },
  {
   "cell_type": "markdown",
   "id": "64a3b18f-f5d6-410d-8278-c73d151653bd",
   "metadata": {
    "jp-MarkdownHeadingCollapsed": true
   },
   "source": [
    "##### <span style=\"color: blue\">38  &nbsp;===>&nbsp;Write a function that takes 2 lists of same length (n) and returns a list of tuples with each tuple having</span>\n",
    "##### &nbsp;&nbsp;&nbsp;&nbsp;&nbsp;&nbsp;&nbsp;&nbsp;&nbsp;&nbsp;&nbsp;&nbsp;&nbsp;&nbsp;&nbsp;&nbsp;&nbsp;&nbsp;<span style=\"color: blue\">i<sup>th</sup> element from list1 and (n- 1 - i)<sup>th</sup> element from list2.</span>\n"
   ]
  },
  {
   "cell_type": "markdown",
   "id": "3c1742e6-fe55-49b0-8246-56ccdcc0c3d7",
   "metadata": {},
   "source": [
    "<span style=\"color: #DCBD10\">▬▬▬▬▬▬▬▬▬▬▬▬▬▬▬▬▬▬▬▬▬▬▬▬▬▬▬▬▬▬▬▬▬▬▬▬▬▬▬▬▬▬▬▬▬▬▬▬▬▬▬▬▬▬▬▬▬▬▬▬▬▬▬▬▬▬▬▬▬▬▬▬▬▬▬▬</span>\n",
    "\n",
    "<br>\n",
    "\n",
    "<div style=\"padding: 10px; background-color: #E2FFEC\">\n",
    "\n",
    "<u>**QUESTION 38**</u> : &nbsp;Write a function that takes **2 lists of same length** (<code>&nbsp;n&nbsp;</code>) and returns a list of tuples with each tuple having \n",
    "\n",
    "&nbsp;&nbsp;&nbsp;&nbsp;&nbsp;&nbsp;&nbsp;&nbsp;&nbsp;&nbsp;&nbsp;&nbsp;&nbsp;&nbsp;&nbsp;&nbsp;&nbsp;&nbsp;&nbsp;&nbsp;&nbsp;&nbsp;&nbsp;&nbsp;&nbsp;&nbsp;&nbsp;&nbsp;<code>&nbsp;i&nbsp;</code><sup>th</sup> element from list1 and <code>&nbsp;(n- 1 - i)&nbsp;</code><sup>th</sup> element from list2.\n",
    "\n",
    "</div>\n",
    "\n",
    "<br>\n",
    "\n",
    "<span style=\"color: #FC02BB\"> <strong>SOLUTION - 1</strong> </span> ===> using <span style=\"background-color: yellow\">&nbsp;**2 loops**&nbsp;</span> ===> Time-Complexity = <span style=\"background-color: yellow\">&nbsp;**O(n<sup>2</sup>)**&nbsp;</span>\n"
   ]
  },
  {
   "cell_type": "code",
   "execution_count": 48,
   "id": "38da12e0-692f-4bef-897e-972e99d277a5",
   "metadata": {},
   "outputs": [
    {
     "data": {
      "text/plain": [
       "[(12, 55), (25, 22), (31, 43), (20, 9), (18, 11)]"
      ]
     },
     "execution_count": 48,
     "metadata": {},
     "output_type": "execute_result"
    }
   ],
   "source": [
    "\n",
    "def custom_tupling_of_2_lists(list1, list2):\n",
    "    result = []\n",
    "    n = len(list1) # = len(list2)\n",
    "    for i in range(0, n):\n",
    "       for j in range(n-1, -1, -1):\n",
    "           if j == n -i -1:\n",
    "               result.append((list1[i], list2[j]))\n",
    "    return result\n",
    "\n",
    "\n",
    "list1 = [12, 25, 31, 20, 18]\n",
    "\n",
    "list2 = [11, 9, 43, 22 , 55]\n",
    "\n",
    "custom_tupling_of_2_lists(list1, list2)\n",
    "\n"
   ]
  },
  {
   "cell_type": "markdown",
   "id": "cf97916f-906f-4593-a304-c4afa450e084",
   "metadata": {},
   "source": [
    "<br>\n",
    "\n",
    "<font size=\"+1\">⭐</font>&nbsp;<span style=\"color: #FC02BB\"> <strong>SOLUTION - 2</strong> </span> ===> using <span style=\"background-color: yellow\">&nbsp;**2 pointers**&nbsp;</span> ===> Time-Complexity = <span style=\"background-color: yellow\">&nbsp;**O(n)**&nbsp;</span>"
   ]
  },
  {
   "cell_type": "code",
   "execution_count": 47,
   "id": "19d4e4ab-3e0f-4067-9746-b07dccd5b69d",
   "metadata": {},
   "outputs": [
    {
     "data": {
      "text/plain": [
       "[(12, 55), (25, 22), (31, 43), (20, 9), (18, 11)]"
      ]
     },
     "execution_count": 47,
     "metadata": {},
     "output_type": "execute_result"
    }
   ],
   "source": [
    "\n",
    "def custom_tupling_of_2_lists(list1, list2):\n",
    "    n = len(list1) # = len(list2)\n",
    "    i = 0\n",
    "    j = n - 1\n",
    "    result = []\n",
    "    while i < n:   # while j > -1:\n",
    "        result.append((list1[i],list2[j]))\n",
    "        i = i + 1\n",
    "        j = j - 1\n",
    "    return result\n",
    "\n",
    "\n",
    "list1 = [12, 25, 31, 20, 18]\n",
    "\n",
    "list2 = [11, 9, 43, 22 , 55]\n",
    "\n",
    "custom_tupling_of_2_lists(list1, list2)\n"
   ]
  },
  {
   "cell_type": "markdown",
   "id": "b33dc828-687e-449d-a96d-0981cadc0194",
   "metadata": {},
   "source": [
    "<br>\n",
    "\n",
    "<span style=\"color: #FC02BB\"> <strong>SOLUTION - 3</strong> </span> ===> using <span style=\"background-color: yellow\">&nbsp;**2 pointers**&nbsp; after reversing any of the list</span> ===> Time-Complexity = <span style=\"background-color: yellow\">&nbsp;**O(nlogn) + O(n) = O(nlogn)**&nbsp;</span>"
   ]
  },
  {
   "cell_type": "code",
   "execution_count": 50,
   "id": "05d7554d-dd0e-4ddf-a0b1-a00e7740d1ac",
   "metadata": {},
   "outputs": [
    {
     "data": {
      "text/plain": [
       "[(12, 55), (25, 22), (31, 43), (20, 9), (18, 11)]"
      ]
     },
     "execution_count": 50,
     "metadata": {},
     "output_type": "execute_result"
    }
   ],
   "source": [
    "\n",
    "def custom_tupling_of_2_lists(list1, list2):\n",
    "    n = len(list1)   # = len(list2)\n",
    "    list2.reverse()  #  ====> Time Complexity = O(nlogn)\n",
    "    i = 0\n",
    "    j = n - 1\n",
    "    result = []\n",
    "    while i < n:     #  ====> Time Complexity = O(n)\n",
    "        result.append((list1[i],list2[i]))\n",
    "        i = i + 1\n",
    "    return result\n",
    "\n",
    "\n",
    "list1 = [12, 25, 31, 20, 18]\n",
    "\n",
    "list2 = [11, 9, 43, 22 , 55]\n",
    "\n",
    "custom_tupling_of_2_lists(list1, list2)\n"
   ]
  },
  {
   "cell_type": "code",
   "execution_count": null,
   "id": "cde2a7d0-fbbb-4ca8-9161-7142c27010df",
   "metadata": {},
   "outputs": [],
   "source": []
  },
  {
   "cell_type": "markdown",
   "id": "ba95a4ca-5ac3-450b-9960-39ed37b5d95a",
   "metadata": {
    "jp-MarkdownHeadingCollapsed": true
   },
   "source": [
    "##### <span style=\"color: blue\">39  &nbsp;===>&nbsp;Write a program to delete all vowels from a string.</span>\n"
   ]
  },
  {
   "cell_type": "markdown",
   "id": "4fbb11f8-6004-4c6b-942f-d12e595536aa",
   "metadata": {},
   "source": [
    "<span style=\"color: #DCBD10\">▬▬▬▬▬▬▬▬▬▬▬▬▬▬▬▬▬▬▬▬▬▬▬▬▬▬▬▬▬▬▬▬▬▬▬▬▬▬▬▬▬▬▬▬▬▬▬▬▬▬▬▬▬▬▬▬▬▬▬▬▬▬▬▬▬▬▬▬▬▬▬▬▬▬▬▬</span>\n",
    "\n",
    "<br>\n",
    "\n",
    "<div style=\"padding: 10px; background-color: #E2FFEC\">\n",
    "\n",
    "<u>**QUESTION 39**</u> : &nbsp;Write a program to delete vowels from a string.\n",
    "\n",
    "</div>\n",
    "\n",
    "<br>"
   ]
  },
  {
   "cell_type": "code",
   "execution_count": 53,
   "id": "ff7a0ca2-1f74-4ede-a55e-7a91f6704aa3",
   "metadata": {},
   "outputs": [
    {
     "name": "stdout",
     "output_type": "stream",
     "text": [
      "Avnsh Kmr Mshr\n"
     ]
    }
   ],
   "source": [
    "\n",
    "def delete_vowels(string):\n",
    "    result = \"\"\n",
    "    for i in string:\n",
    "        if i not in [\"a\", \"e\", \"i\", \"o\", \"u\"]:\n",
    "            result += i\n",
    "    return result\n",
    "\n",
    "\n",
    "string = \"Avinash Kumar Mishra\"\n",
    "\n",
    "print(delete_vowels(string))\n"
   ]
  },
  {
   "cell_type": "code",
   "execution_count": null,
   "id": "c3139c23-b427-4e10-981e-14537a093d66",
   "metadata": {},
   "outputs": [],
   "source": []
  },
  {
   "cell_type": "markdown",
   "id": "0b5ffc9e-b0de-472a-bb0f-97200fb2d82d",
   "metadata": {
    "jp-MarkdownHeadingCollapsed": true
   },
   "source": [
    "##### <span style=\"color: blue\">40  &nbsp;===>&nbsp;Write a program to count the highest occurring/maximum frequency character in a string.</span>\n"
   ]
  },
  {
   "cell_type": "markdown",
   "id": "6e22859e-a0f5-497b-99ee-6e463ae794ff",
   "metadata": {},
   "source": [
    "<span style=\"color: #DCBD10\">▬▬▬▬▬▬▬▬▬▬▬▬▬▬▬▬▬▬▬▬▬▬▬▬▬▬▬▬▬▬▬▬▬▬▬▬▬▬▬▬▬▬▬▬▬▬▬▬▬▬▬▬▬▬▬▬▬▬▬▬▬▬▬▬▬▬▬▬▬▬▬▬▬▬▬▬</span>\n",
    "\n",
    "<br>\n",
    "\n",
    "<div style=\"padding: 10px; background-color: #E2FFEC\">\n",
    "\n",
    "<u>**QUESTION 40**</u> : &nbsp;Write a program to count the highest occurring/maximum frequency character in a string.\n",
    "\n",
    "</div>\n",
    "\n",
    "<br>"
   ]
  },
  {
   "cell_type": "code",
   "execution_count": 66,
   "id": "e8074403-b3bb-4203-96b3-5011d9662a7f",
   "metadata": {},
   "outputs": [
    {
     "data": {
      "text/plain": [
       "[['a', 3]]"
      ]
     },
     "execution_count": 66,
     "metadata": {},
     "output_type": "execute_result"
    }
   ],
   "source": [
    "\n",
    "def max_frequency_charcater(string):\n",
    "    result = []\n",
    "    dic = {}\n",
    "    for i in string:\n",
    "        dic[i] = dic.get(i, 0) + 1\n",
    "    max_frequency = max(dic.values())  # max(dic, key=dic.get)  ===>  to directly achieve the character with maximum frequency\n",
    "    for key, value in dic.items():\n",
    "        if value == max_frequency:\n",
    "            result.append([key, value])\n",
    "    return result\n",
    "        \n",
    "        \n",
    "string = \"Avinash Kumar Mishra\"\n",
    "\n",
    "max_frequency_charcater(string)\n"
   ]
  },
  {
   "cell_type": "markdown",
   "id": "3af094e5-503c-4236-9621-ab1f71d5edc8",
   "metadata": {},
   "source": [
    "<span style=\"color: #FB0089\">**Note** - We can also pass a custom function in the key paramter of python in-built <span style=\"background-color: #FFE7FC\">&nbsp;**max()**&nbsp;</span> function to directly achieve the <span style=\"background-color: #FFE7FC\">&nbsp;character with maximum frequency&nbsp;</span></span>"
   ]
  },
  {
   "cell_type": "code",
   "execution_count": 60,
   "id": "f2bfd5c2-85ac-451f-adb0-a631e08e1641",
   "metadata": {},
   "outputs": [
    {
     "data": {
      "text/plain": [
       "'a'"
      ]
     },
     "execution_count": 60,
     "metadata": {},
     "output_type": "execute_result"
    }
   ],
   "source": [
    "\n",
    "dic = {'A': 1, 'v': 1, 'i': 2, 'n': 1, 'a': 3, 's': 2, 'h': 2, ' ': 2, 'K': 1, 'u': 1, 'm': 1, 'r': 2, 'M': 1}\n",
    "\n",
    "max(dic, key=dic.get)\n"
   ]
  },
  {
   "cell_type": "code",
   "execution_count": 67,
   "id": "4ca13111-d9e4-41fa-908f-4654dbe54add",
   "metadata": {},
   "outputs": [
    {
     "data": {
      "text/plain": [
       "[['a', 3]]"
      ]
     },
     "execution_count": 67,
     "metadata": {},
     "output_type": "execute_result"
    }
   ],
   "source": [
    "\n",
    "def max_frequency_charcater(string):\n",
    "    result = []\n",
    "    dic = {}\n",
    "    for i in string:\n",
    "        dic[i] = dic.get(i, 0) + 1\n",
    "    key_with_max_frequency = max(dic, key = dic.get)   # to directly achieve the character with maximum frequency\n",
    "    for key, value in dic.items():\n",
    "        if key == key_with_max_frequency:\n",
    "            result.append([key, value])\n",
    "    return result\n",
    "        \n",
    "        \n",
    "string = \"Avinash Kumar Mishra\"\n",
    "\n",
    "max_frequency_charcater(string)\n"
   ]
  },
  {
   "cell_type": "markdown",
   "id": "117d431e-b2ad-4563-965c-6eeb6161212f",
   "metadata": {},
   "source": [
    "<span style=\"color: #FC02BB\"> <strong>SOLUTION</strong> <font size=\"+2\">↴</font> </span> "
   ]
  },
  {
   "cell_type": "code",
   "execution_count": 69,
   "id": "6b261645-e9d5-4afb-b687-a1a5c4f67859",
   "metadata": {},
   "outputs": [
    {
     "data": {
      "text/plain": [
       "'a'"
      ]
     },
     "execution_count": 69,
     "metadata": {},
     "output_type": "execute_result"
    }
   ],
   "source": [
    "def max_frequency_charcater(string):\n",
    "    dic = {}\n",
    "    for i in string:\n",
    "        dic[i] = dic.get(i, 0) + 1\n",
    "    key_with_max_frequency = max(dic, key = dic.get)   # to directly achieve the character with maximum frequency\n",
    "    return key_with_max_frequency\n",
    "        \n",
    "        \n",
    "string = \"Avinash Kumar Mishra\"\n",
    "\n",
    "max_frequency_charcater(string)"
   ]
  },
  {
   "cell_type": "code",
   "execution_count": null,
   "id": "e79046c8-3c7c-469d-91fb-2e3d08b9bf5a",
   "metadata": {},
   "outputs": [],
   "source": []
  },
  {
   "cell_type": "markdown",
   "id": "e253313b-426d-449d-a25d-cb56c0e5326a",
   "metadata": {
    "jp-MarkdownHeadingCollapsed": true
   },
   "source": [
    "##### <span style=\"color: blue\">41  &nbsp;===>&nbsp;Write a program to find the second-highest number in a list.</span>\n"
   ]
  },
  {
   "cell_type": "markdown",
   "id": "9769b681-6343-49d5-9f43-d850890fe4b1",
   "metadata": {},
   "source": [
    "<span style=\"color: #DCBD10\">▬▬▬▬▬▬▬▬▬▬▬▬▬▬▬▬▬▬▬▬▬▬▬▬▬▬▬▬▬▬▬▬▬▬▬▬▬▬▬▬▬▬▬▬▬▬▬▬▬▬▬▬▬▬▬▬▬▬▬▬▬▬▬▬▬▬▬▬▬▬▬▬▬▬▬▬</span>\n",
    "\n",
    "<br>\n",
    "\n",
    "<div style=\"padding: 10px; background-color: #E2FFEC\">\n",
    "\n",
    "<u>**QUESTION 41**</u> : &nbsp;Write a program to find the **second-highest number** in a list.\n",
    "\n",
    "</div>\n",
    "\n",
    "<br>"
   ]
  },
  {
   "cell_type": "code",
   "execution_count": 72,
   "id": "fc5d2cce-9920-4270-8542-c0384b64fb24",
   "metadata": {},
   "outputs": [
    {
     "data": {
      "text/plain": [
       "89"
      ]
     },
     "execution_count": 72,
     "metadata": {},
     "output_type": "execute_result"
    }
   ],
   "source": [
    "\n",
    "def second_highest_number(lst):\n",
    "    return sorted(lst)[-2]\n",
    "\n",
    "\n",
    "lst = [12, 56, 89, 93, 25]\n",
    "\n",
    "second_highest_number(lst)\n"
   ]
  },
  {
   "cell_type": "code",
   "execution_count": null,
   "id": "45381d52-0005-405b-a7b5-5a543feeefe7",
   "metadata": {},
   "outputs": [],
   "source": []
  },
  {
   "cell_type": "markdown",
   "id": "b8e70a29-ee61-4812-80fc-f325191a895e",
   "metadata": {
    "jp-MarkdownHeadingCollapsed": true
   },
   "source": [
    "##### <span style=\"color: blue\">42  &nbsp;===>&nbsp;Write a program to take a list as input and print another list with only the unique values of the input list.</span>\n"
   ]
  },
  {
   "cell_type": "markdown",
   "id": "4dd98181-6160-4958-8e5c-908416407027",
   "metadata": {},
   "source": [
    "<span style=\"color: #DCBD10\">▬▬▬▬▬▬▬▬▬▬▬▬▬▬▬▬▬▬▬▬▬▬▬▬▬▬▬▬▬▬▬▬▬▬▬▬▬▬▬▬▬▬▬▬▬▬▬▬▬▬▬▬▬▬▬▬▬▬▬▬▬▬▬▬▬▬▬▬▬▬▬▬▬▬▬▬</span>\n",
    "\n",
    "<br>\n",
    "\n",
    "<div style=\"padding: 10px; background-color: #E2FFEC\">\n",
    "\n",
    "<u>**QUESTION 42**</u> : &nbsp;Write a program to take a list as input and print another list with only the unique values of the input list.\n",
    "\n",
    "</div>\n",
    "\n",
    "<br>\n"
   ]
  },
  {
   "cell_type": "code",
   "execution_count": 1,
   "id": "007755e9-6f89-466b-866d-62db00f17d3d",
   "metadata": {},
   "outputs": [
    {
     "name": "stdout",
     "output_type": "stream",
     "text": [
      "[1, 2, 3, 4, 6, 8]\n"
     ]
    }
   ],
   "source": [
    "\n",
    "def find_unique(inp_lst):\n",
    "    return list(set(inp_lst))\n",
    "\n",
    "\n",
    "input_list = [1, 1, 4, 6, 8, 2, 4, 3, 3, 2]\n",
    "\n",
    "print(find_unique(input_list))\n"
   ]
  },
  {
   "cell_type": "code",
   "execution_count": 3,
   "id": "445aa639-41ed-4df4-84e4-3ee2bf4d5ea4",
   "metadata": {},
   "outputs": [
    {
     "name": "stdout",
     "output_type": "stream",
     "text": [
      "Enter the elements of a list one by one and click on \"e\" to end the process\n"
     ]
    },
    {
     "name": "stdin",
     "output_type": "stream",
     "text": [
      "Enter input:  1\n",
      "Enter input:  2\n",
      "Enter input:  3\n",
      "Enter input:  3\n",
      "Enter input:  e\n"
     ]
    },
    {
     "data": {
      "text/plain": [
       "['3', '1', '2']"
      ]
     },
     "execution_count": 3,
     "metadata": {},
     "output_type": "execute_result"
    }
   ],
   "source": [
    "\n",
    "def find_unique():\n",
    "    input_list = []\n",
    "    # taking the list as input\n",
    "    print('Enter the elements of a list one by one and click on \"e\" to end the process')\n",
    "    # running an infinite loop\n",
    "    while True:\n",
    "        # taking the input\n",
    "        i = input('Enter input: ')\n",
    "        # checking if the input is 'e', then breaking the loop\n",
    "        if i.lower() == 'e':\n",
    "            break\n",
    "        # else appending the input to the list l\n",
    "        else:\n",
    "            input_list.append(i)\n",
    "    return list(set(input_list))   # type converting a list into a set removes all the duplicates from that list\n",
    "\n",
    "\n",
    "find_unique()\n"
   ]
  },
  {
   "cell_type": "code",
   "execution_count": null,
   "id": "559b27a2-aaa6-48cd-80bf-931beb0d717c",
   "metadata": {},
   "outputs": [],
   "source": []
  },
  {
   "cell_type": "markdown",
   "id": "b48057be-2dff-4f50-880e-4dff485d705d",
   "metadata": {},
   "source": [
    "<span style=\"color: red\">NOT DONE YET</span>\n",
    "\n",
    "##### <span style=\"color: blue\">43  &nbsp;===>&nbsp;What are decorators? Create a method that takes an input x and subtract 2 from it and returns the result. Now using decorator change the value of x to original value</span>\n"
   ]
  },
  {
   "cell_type": "markdown",
   "id": "30765ec1-e346-49fc-b0e9-7a856b8e154c",
   "metadata": {},
   "source": [
    "<br>\n",
    "\n",
    "<span style=\"color: red\">NOT DONE YET</span>\n",
    "\n",
    "##### <span style=\"color: blue\">44  &nbsp;===>&nbsp;Write a program to find the total number of anagrams in a list</span>"
   ]
  },
  {
   "cell_type": "markdown",
   "id": "fc4d29a1-eb1d-4111-8482-a3790880447f",
   "metadata": {
    "jp-MarkdownHeadingCollapsed": true
   },
   "source": [
    "<br>\n",
    "\n",
    "##### <span style=\"color: blue\">45  &nbsp;===>&nbsp;You have a <code>list of lists</code> to depth n. Write a program to <span style=\"color: red\">normalize</span> or <span style=\"color: red\">flatten</span> it.</span>\n"
   ]
  },
  {
   "cell_type": "markdown",
   "id": "3a61d1d4-d6db-4ebe-a549-13911cc34bdd",
   "metadata": {},
   "source": [
    "<span style=\"color: #DCBD10\">▬▬▬▬▬▬▬▬▬▬▬▬▬▬▬▬▬▬▬▬▬▬▬▬▬▬▬▬▬▬▬▬▬▬▬▬▬▬▬▬▬▬▬▬▬▬▬▬▬▬▬▬▬▬▬▬▬▬▬▬▬▬▬▬▬▬▬▬▬▬▬▬▬▬▬▬</span>\n",
    "\n",
    "<br>\n",
    "\n",
    "<div style=\"padding: 10px; background-color: #E2FFEC\">\n",
    "\n",
    "<u>**QUESTION 45**</u> : \n",
    "\n",
    "You have a **list of lists** to depth n. Write a program to <span style=\"color: red\">normalize</span> or <span style=\"color: red\">flatten</span> it.</span>\n",
    "\n",
    "<code>Input : [1, [2, 4, [5, 1, [3, 4], [7, 8, [1, 2, 3]]]]]</code>\n",
    "\n",
    "<code>Output: [1, 2, 4, 5, 1, 3, 4, 7, 8, 1, 2, 3 ]</code>\n",
    "\n",
    "</div>\n"
   ]
  },
  {
   "cell_type": "markdown",
   "id": "c2b8848b-d1f8-4f19-a74c-b359f573dc43",
   "metadata": {},
   "source": [
    "<br>\n",
    "\n",
    "We need to use &nbsp;<code style=\"background-color: yellow\">isinstance(i, int)</code>&nbsp; instead of &nbsp;<code>type(i) == 'int'</code>&nbsp; to check if &nbsp;<code>i</code>&nbsp; is an integer."
   ]
  },
  {
   "cell_type": "code",
   "execution_count": 12,
   "id": "f2370fb9-f3ce-4968-99b4-de933fdf3a29",
   "metadata": {},
   "outputs": [
    {
     "data": {
      "text/plain": [
       "[1]"
      ]
     },
     "execution_count": 12,
     "metadata": {},
     "output_type": "execute_result"
    }
   ],
   "source": [
    "\n",
    "def normalize(arr):\n",
    "    result = []\n",
    "    for i in arr:\n",
    "        if isinstance(i, int):\n",
    "            result.append(i)\n",
    "        else:\n",
    "            normalize(i)\n",
    "    return result\n",
    "\n",
    "arr = [1, [2, 4, [5, 1, [3, 4], [7, 8, [1, 2, 3]]]]]\n",
    "normalize(arr)\n"
   ]
  },
  {
   "cell_type": "markdown",
   "id": "1355761c-1ddf-4ddc-9736-24f53fa7607c",
   "metadata": {},
   "source": [
    "<br>\n",
    "\n",
    "Storing the result in a local variable will not work in recursion because as soon as a function terminates, data in it's local variable gets lost.<br> We need to use <span style=\"background-color: yellow\">global variable</span> to store the result in."
   ]
  },
  {
   "cell_type": "code",
   "execution_count": 1,
   "id": "278de176-f931-45b2-b5d0-a6378e992bad",
   "metadata": {},
   "outputs": [
    {
     "name": "stdout",
     "output_type": "stream",
     "text": [
      "[1, 2, 4, 5, 1, 3, 4, 7, 8, 1, 2, 3]\n"
     ]
    }
   ],
   "source": [
    "\n",
    "result = []\n",
    "\n",
    "# Flatten the given array\n",
    "def normalize(arr):\n",
    "    global result\n",
    "    for i in arr:\n",
    "        if isinstance(i, int):\n",
    "            result.append(i)\n",
    "        else:\n",
    "            normalize(i)  # Pass 'i' instead of 'arr' for recursion\n",
    "\n",
    "arr = [1, [2, 4, [5, 1, [3, 4], [7, 8, [1, 2, 3]]]]]\n",
    "normalize(arr)\n",
    "print(result)\n"
   ]
  },
  {
   "cell_type": "code",
   "execution_count": null,
   "id": "c38baace-b941-48de-bdb4-2893ba66f5ce",
   "metadata": {},
   "outputs": [],
   "source": []
  },
  {
   "cell_type": "markdown",
   "id": "9dc74e9e-4a81-4eea-a243-b5d04d9191ea",
   "metadata": {},
   "source": [
    "<br>\n",
    "\n",
    "##### <span style=\"color: blue\">46  &nbsp;===>&nbsp; Write a function that takes a 2-word string as input and returns True if both words begin with the same letter otherwise False</span>\n"
   ]
  },
  {
   "cell_type": "markdown",
   "id": "37173abc-745a-43b1-84db-84f5be595d0f",
   "metadata": {},
   "source": [
    "<span style=\"color: #DCBD10\">▬▬▬▬▬▬▬▬▬▬▬▬▬▬▬▬▬▬▬▬▬▬▬▬▬▬▬▬▬▬▬▬▬▬▬▬▬▬▬▬▬▬▬▬▬▬▬▬▬▬▬▬▬▬▬▬▬▬▬▬▬▬▬▬▬▬▬▬▬▬▬▬▬▬▬▬</span>\n",
    "\n",
    "<br>\n",
    "\n",
    "<div style=\"padding: 10px; background-color: #E2FFEC\">\n",
    "\n",
    "<u>**QUESTION 46**</u> : \n",
    "\n",
    "Write a function that takes a **2-word string as input** and returns **True if both words begin with the same letter** otherwise False\n",
    "\n",
    "---\n",
    "<u>Example-1</u>\n",
    "\n",
    "<code style=\"background-color: #D9D1FF;\">Input : \"Rajasthan Royals\"</code>\n",
    "\n",
    "<code style=\"background-color: #D9D1FF;\">Output: True</code>\n",
    "\n",
    "---\n",
    "<u>Example-2</u>\n",
    "\n",
    "<code style=\"background-color: #D9D1FF;\">Input : \"Mumbai Indians\"</code>\n",
    "\n",
    "<code style=\"background-color: #D9D1FF;\">Output: True</code>\n",
    "\n",
    "</div>\n",
    "\n",
    "<br>\n"
   ]
  },
  {
   "cell_type": "code",
   "execution_count": 3,
   "id": "c6cf5f1c-73c7-468d-893a-20ffb8031c45",
   "metadata": {},
   "outputs": [
    {
     "name": "stdout",
     "output_type": "stream",
     "text": [
      "True\n",
      "False\n"
     ]
    }
   ],
   "source": [
    "\n",
    "def first_letter_comparison(str):\n",
    "    word_list = str.split()     # str.split(\" \")\n",
    "    if word_list[0][0] == word_list[1][0]:\n",
    "        return True\n",
    "    else:\n",
    "        return False\n",
    "\n",
    "\n",
    "str = \"Rajasthan Royals\"\n",
    "print(first_letter_comparison(str))\n",
    "\n",
    "\n",
    "str = \"Mumbai Indians\"\n",
    "print(first_letter_comparison(str))\n",
    "    "
   ]
  },
  {
   "cell_type": "code",
   "execution_count": null,
   "id": "c6b23278-ddab-496e-aff5-abfcd59f52fc",
   "metadata": {},
   "outputs": [],
   "source": []
  },
  {
   "cell_type": "markdown",
   "id": "65c362c9-44e6-4f21-b647-cabb3041ba42",
   "metadata": {},
   "source": [
    "<br>\n",
    "\n",
    "##### <span style=\"color: blue\">47  &nbsp;===>&nbsp; Given a 2D array, display it in a grid or matrix format</span>\n"
   ]
  },
  {
   "cell_type": "markdown",
   "id": "c8f670e9-bcbc-4abc-aa06-01e556ad8187",
   "metadata": {},
   "source": [
    "<span style=\"color: #DCBD10\">▬▬▬▬▬▬▬▬▬▬▬▬▬▬▬▬▬▬▬▬▬▬▬▬▬▬▬▬▬▬▬▬▬▬▬▬▬▬▬▬▬▬▬▬▬▬▬▬▬▬▬▬▬▬▬▬▬▬▬▬▬▬▬▬▬▬▬▬▬▬▬▬▬▬▬▬</span>\n",
    "\n",
    "<br>\n",
    "\n",
    "<div style=\"padding: 10px; background-color: #E2FFEC\">\n",
    "\n",
    "<u>**QUESTION 47**</u> &nbsp;&nbsp;:&nbsp;&nbsp; Given a **2D array**, display it in a grid or **matrix** format\n",
    "\n",
    "<pre style=\"margin: 10px; padding: 10px;\">\n",
    "\n",
    "<u><code><strong>Example :</strong></code></u>\n",
    "\n",
    "<strong>Input:</strong> arr = [ [1, 2, 3, 4], [5, 6, 7, 8], [9, 10, 11, 12], [13, 14, 15, 16] ]\n",
    "    \n",
    "<strong>Output:</strong> \n",
    "<div style=\"background-color: #88FF6E; width: 185px; height: 140px; padding: 8px; margin-left: 100px;\"> 1      2      3      4\n",
    "    \n",
    " 5      6      7      8\n",
    "    \n",
    " 9     10     11     12\n",
    "    \n",
    "13     14     15     16\n",
    "</div>\n",
    "</pre>\n",
    "\n",
    "</div>\n",
    "\n",
    "<br>\n"
   ]
  },
  {
   "cell_type": "code",
   "execution_count": 9,
   "id": "4320bfbe-e872-4073-bfb2-3bc4967fc124",
   "metadata": {},
   "outputs": [
    {
     "name": "stdout",
     "output_type": "stream",
     "text": [
      "\n",
      "\n",
      "1    2    3    4    \n",
      "5    6    7    8    \n",
      "9    10    11    12    \n",
      "13    14    15    16    \n",
      "\n",
      "\n",
      "1    5    10    10    \n",
      "14    18    19    20    \n",
      "70    30    50    60    \n",
      "80    76    79    84    \n",
      "4    6    8    100    \n"
     ]
    }
   ],
   "source": [
    "\n",
    "def display_2D_array_in_matrix_format(matrix):\n",
    "\n",
    "    for i in range(0, len(matrix)):                    # m  =  len(arr)     =  number of rows\n",
    "        for j in range(0, len(matrix[i])):             # n  =  len(arr[i])  =  number of columns\n",
    "            print(matrix[i][j], end = \"    \")\n",
    "        print(end=\"\\n\")\n",
    "\n",
    "\n",
    "#----------------------------------------------------------------------------------------------------------------------------#\n",
    "\n",
    "print(\"\\n\")\n",
    "\n",
    "matrix = [ [1, 2, 3, 4], [5, 6, 7, 8], [9, 10, 11, 12], [13, 14, 15, 16] ]\n",
    "display_2D_array_in_matrix_format(matrix)        \n",
    "\n",
    "print(\"\\n\")\n",
    "\n",
    "matrix = [ [1,5,10,10] , [14,18,19,20] , [70,30,50,60] , [80,76,79,84], [4, 6, 8, 100] ]\n",
    "display_2D_array_in_matrix_format(matrix)\n"
   ]
  },
  {
   "cell_type": "markdown",
   "id": "a577b556-652f-4829-8068-2e5cd5af20ac",
   "metadata": {},
   "source": [
    "<br>\n",
    "\n",
    "Since for every matrix with **total number of rows = m**, &nbsp;<code>len(matrix[0])</code>&nbsp; = &nbsp;<code>len(matrix[1])</code>&nbsp; = &nbsp;<code>len(matrix[2])</code>&nbsp; = &nbsp;.&nbsp;.&nbsp;.&nbsp;.&nbsp; = &nbsp;<code>len(matrix[m])</code>&nbsp;, <span style=\"color: red;\">so we do not have to repeatedly calculate &nbsp;<code style=\"background-color: #FFBFDE;\">len(matrix[i])</code>&nbsp; every time in the **j-loop**</span>.\n"
   ]
  },
  {
   "cell_type": "code",
   "execution_count": 8,
   "id": "2ed7f454-3b41-4653-b959-6edfacafd0f8",
   "metadata": {},
   "outputs": [
    {
     "name": "stdout",
     "output_type": "stream",
     "text": [
      "\n",
      "\n",
      "1    2    3    4    \n",
      "5    6    7    8    \n",
      "9    10    11    12    \n",
      "13    14    15    16    \n",
      "\n",
      "\n",
      "1    5    10    10    \n",
      "14    18    19    20    \n",
      "70    30    50    60    \n",
      "80    76    79    84    \n",
      "4    6    8    100    \n"
     ]
    }
   ],
   "source": [
    "\n",
    "def display_2D_array_in_matrix_format(matrix):\n",
    "    m = len(matrix)                               #  number of rows \n",
    "    n = len(matrix[0])                            #  number of columns \n",
    "    for i in range(0, m):                         #  range(0, len(matrix)) \n",
    "        for j in range(0, n):                     #  range(0, len(matrix[i]))\n",
    "            print(matrix[i][j], end = \"    \")\n",
    "        print(end=\"\\n\")\n",
    "\n",
    "\n",
    "#----------------------------------------------------------------------------------------------------------------------------#\n",
    "\n",
    "print(\"\\n\")\n",
    "\n",
    "matrix = [ [1, 2, 3, 4], [5, 6, 7, 8], [9, 10, 11, 12], [13, 14, 15, 16] ]\n",
    "display_2D_array_in_matrix_format(matrix)        \n",
    "\n",
    "print(\"\\n\")\n",
    "\n",
    "matrix = [ [1,5,10,10] , [14,18,19,20] , [70,30,50,60] , [80,76,79,84], [4, 6, 8, 100] ]\n",
    "display_2D_array_in_matrix_format(matrix)\n"
   ]
  },
  {
   "cell_type": "markdown",
   "id": "dbea5f5f-a8f9-4e91-a210-dc8175790457",
   "metadata": {},
   "source": [
    "<br>\n",
    "\n",
    "<span style=\"color: red;\">Let's beautify it:</span>\n"
   ]
  },
  {
   "cell_type": "code",
   "execution_count": 7,
   "id": "c35fbb46-dd09-4fd0-9f23-366354c92a50",
   "metadata": {},
   "outputs": [
    {
     "name": "stdout",
     "output_type": "stream",
     "text": [
      "\n",
      "\n",
      "1     2     3     4     \n",
      "5     6     7     8     \n",
      "9     10    11    12    \n",
      "13    14    15    16    \n",
      "\n",
      "\n",
      "1     5     10    10    \n",
      "14    18    19    20    \n",
      "70    30    50    60    \n",
      "80    76    79    84    \n",
      "4     6     8     100    \n",
      "\n",
      "\n"
     ]
    }
   ],
   "source": [
    "\n",
    "def display_2D_array_in_matrix_format(matrix):\n",
    "    m = len(matrix)           # number of rows\n",
    "    n = len(matrix[0])        # number of columns\n",
    "    for i in range(0, m):\n",
    "        for j in range(0, n):\n",
    "            if 0 <= matrix[i][j] <= 9:                  # ======> if len(str(matrix[i][j])) == 2:\n",
    "                print(matrix[i][j], end = \"     \")      # ===============================================> 4 whitespaces \n",
    "            else:                                       # ======> else:\n",
    "                print(matrix[i][j], end = \"    \")       # ===============================================> 4-1 = 3 whitespaces\n",
    "        print(end=\"\\n\")\n",
    "\n",
    "\n",
    "#----------------------------------------------------------------------------------------------------------------------------#\n",
    "\n",
    "print(\"\\n\")\n",
    "\n",
    "matrix = [ [1, 2, 3, 4], [5, 6, 7, 8], [9, 10, 11, 12], [13, 14, 15, 16] ]\n",
    "display_2D_array_in_matrix_format(matrix)        \n",
    "\n",
    "print(\"\\n\")\n",
    "\n",
    "matrix = [ [1,5,10,10] , [14,18,19,20] , [70,30,50,60] , [80,76,79,84], [4, 6, 8, 100] ]\n",
    "display_2D_array_in_matrix_format(matrix)\n",
    "\n",
    "print(\"\\n\")\n"
   ]
  },
  {
   "cell_type": "code",
   "execution_count": 4,
   "id": "dd328a0f-2364-4001-8f33-e1a7ddfbee01",
   "metadata": {},
   "outputs": [
    {
     "name": "stdout",
     "output_type": "stream",
     "text": [
      "\n",
      "\n",
      " 1     2     3     4    \n",
      " 5     6     7     8    \n",
      " 9    10    11    12    \n",
      "13    14    15    16    \n",
      "\n",
      "\n",
      " 1     5    10    10    \n",
      "14    18    19    20    \n",
      "70    30    50    60    \n",
      "80    76    79    84    \n",
      " 4     6     8    100    \n",
      "\n",
      "\n"
     ]
    }
   ],
   "source": [
    "\n",
    "def display_2D_array_in_matrix_format(matrix):\n",
    "    m = len(matrix)           # number of rows\n",
    "    n = len(matrix[0])        # number of columns\n",
    "    for i in range(0, m):\n",
    "        for j in range(0, n):\n",
    "            if 0 <= matrix[i][j] <= 9:                        # =======> if len(str(matrix[i][j])) == 2:\n",
    "                print( f\" {matrix[i][j]}\", end = \"    \")      # ===========================================> 4 whitespaces \n",
    "            else:                                             # =======> else:\n",
    "                print(matrix[i][j], end = \"    \")             # ===========================================> 4-1 = 3 whitespaces \n",
    "        print(end=\"\\n\")\n",
    "\n",
    "\n",
    "#----------------------------------------------------------------------------------------------------------------------------#\n",
    "\n",
    "print(\"\\n\")\n",
    "\n",
    "matrix = [ [1, 2, 3, 4], [5, 6, 7, 8], [9, 10, 11, 12], [13, 14, 15, 16] ]\n",
    "display_2D_array_in_matrix_format(matrix)        \n",
    "\n",
    "print(\"\\n\")\n",
    "\n",
    "matrix = [ [1,5,10,10] , [14,18,19,20] , [70,30,50,60] , [80,76,79,84], [4, 6, 8, 100] ]\n",
    "display_2D_array_in_matrix_format(matrix)\n",
    "\n",
    "print(\"\\n\")\n"
   ]
  },
  {
   "cell_type": "code",
   "execution_count": null,
   "id": "04d75ab1-7733-4a49-bac5-24dd0e414558",
   "metadata": {},
   "outputs": [],
   "source": []
  },
  {
   "cell_type": "markdown",
   "id": "9295f8f1-ca67-48f7-8116-8fa8dba48512",
   "metadata": {},
   "source": [
    "### Remaining Questions which need to be solved\n",
    "\n",
    "https://www.youtube.com/watch?v=I1jchtPVC_E&list=PLjygX4IEt2XfG4flw8OBd8NRc1WmXBKPe\n",
    "\n",
    "https://medium.com/@aarafat27/mastering-pythons-mysterious-lambda-functions-ff3821ea2686\n",
    "\n",
    "https://pravash-techie.medium.com/python-going-beyond-basic-string-formatting-using-f-string-cba87ddb78fb\n",
    "\n",
    "https://medium.com/@poojatripathi0697/python-question-asked-in-product-based-companies-data-engineer-role-02d554127454\n",
    "\n",
    "https://medium.com/@seancoyne/what-data-structures-and-algorithms-should-a-data-engineer-study-a6a0cad90c31\n",
    "\n",
    "https://medium.com/@sounder.rahul/capital-one-codesignal-hands-on-coding-interview-questions-e097f702da06\n",
    "\n",
    "https://medium.com/@seancoyne/what-leetcode-questions-should-a-data-engineer-practice-9ef7cbf0fc11\n",
    "\n",
    "https://freedium.cfd/https://medium.com/data-arena/cracking-the-data-engineering-interview-leetcode-problems-and-tips-614d77802d7e\n",
    "\n",
    "https://python.plainenglish.io/20-python-recursion-practice-questions-9a04308d456e\n",
    "\n",
    "https://freedium.cfd/https://medium.com/@vishalbarvaliya/data-structures-and-algorithms-for-data-engineers-1cd6e3148271\n",
    "\n",
    "https://kshitizzb.medium.com/apple-interview-experience-cloud-data-engineer-b7775d907def\n",
    "\n",
    "https://medium.com/@priya.chauhangfi/day-2-on-cracking-data-engineering-interview-at-any-company-17259e364873\n",
    "\n",
    "https://medium.com/@seancoyne/acing-the-data-engineering-coding-interview-6e58dac096df\n",
    "\n",
    "https://freedium.cfd/https://medium.com/top-python-libraries/14-google-python-interview-questions-2024s-top-language-6e76c39d410f\n",
    "\n",
    "https://freedium.cfd/https://medium.com/@learntocodetoday/21-powerful-python-one-liners-to-boost-your-coding-skills-19ea36ed92b1\n",
    "\n",
    "&nbsp;&nbsp;&nbsp;&nbsp;&nbsp;&nbsp;&nbsp;&nbsp;&nbsp;&nbsp;&nbsp;&nbsp;Given a list of numeric elements, write an optimized code to shift all zeroes to end without using any extra space.\n",
    "\n",
    "&nbsp;&nbsp;&nbsp;&nbsp;&nbsp;&nbsp;&nbsp;&nbsp;&nbsp;&nbsp;&nbsp;&nbsp;Given a string, return the modified string having the character and its consistent count in least possible complexity.\n"
   ]
  },
  {
   "cell_type": "code",
   "execution_count": null,
   "id": "6fe20227-ab22-4817-b0dd-8194986c9fa4",
   "metadata": {},
   "outputs": [],
   "source": []
  },
  {
   "cell_type": "code",
   "execution_count": null,
   "id": "038b1962-1b56-47f1-8a6a-65ec460edef4",
   "metadata": {},
   "outputs": [],
   "source": []
  },
  {
   "cell_type": "code",
   "execution_count": null,
   "id": "a39332dd-2c7c-4433-b928-5b3c743d88df",
   "metadata": {},
   "outputs": [],
   "source": []
  },
  {
   "cell_type": "code",
   "execution_count": null,
   "id": "f3e1ab30-e2fa-45db-ad11-e4a0ab4b54d3",
   "metadata": {},
   "outputs": [],
   "source": []
  },
  {
   "cell_type": "code",
   "execution_count": null,
   "id": "bc0e55f5-8336-4d4f-b816-47fa91f8b0e7",
   "metadata": {},
   "outputs": [],
   "source": []
  },
  {
   "cell_type": "markdown",
   "id": "fff9968a-553b-49bc-869a-eb625b327df3",
   "metadata": {},
   "source": []
  },
  {
   "cell_type": "markdown",
   "id": "ecddc9d3-5f3e-48b9-8387-327e5d2c4a2e",
   "metadata": {},
   "source": [
    "<br>\n",
    "\n",
    "<span style=\"color: blue\"> █ █ █ █ █ █ █ █ █ █ █ █ █ █ █ █ █ █ █ █ █ █ █ █ █ █ █ █ █ █  █ █ █ █ █ █ █ █ █ █ █ █ █ █ █ █ █ █ █ █ █ █ █ █  █ █ █ █ █ █ █ █ █ █ █ █ █ █ █ █ █ █ █ █ █ █ █ </span>\n",
    "\n",
    "<br>"
   ]
  },
  {
   "cell_type": "markdown",
   "id": "638e5f65-7bdf-4da9-a039-9331dc4ed210",
   "metadata": {},
   "source": [
    "Difference between Python Array and List\n",
    "\n",
    "|   Array  |  List  |\n",
    "|----------|--------|\n",
    "| can contain elements with similar datatypes only | can contain elements of any data type  |"
   ]
  },
  {
   "cell_type": "markdown",
   "id": "95bef0f6-9aa6-426d-95a2-c6701c673b27",
   "metadata": {},
   "source": [
    "Valid Anagram  ===>  https://www.youtube.com/watch?v=copqq1DqCbs&list=PL6p9VwbuOT2Myl7C4p4q6A8hRHccHXqd1&index=2\n",
    "\n",
    "Longest Palindromic Substring  ====> https://www.youtube.com/watch?v=geu5BF9j8_U&list=PL6p9VwbuOT2Myl7C4p4q6A8hRHccHXqd1&index=3"
   ]
  },
  {
   "cell_type": "markdown",
   "id": "90f78f46-0847-4364-a9ae-5b2e66aff9a7",
   "metadata": {},
   "source": [
    "<br>\n",
    "\n",
    "<span style=\"color: blue\"> █ █ █ █ █ █ █ █ █ █ █ █ █ █ █ █ █ █ █ █ █ █ █ █ █ █ █ █ █ █  █ █ █ █ █ █ █ █ █ █ █ █ █ █ █ █ █ █ █ █ █ █ █ █  █ █ █ █ █ █ █ █ █ █ █ █ █ █ █ █ █ █ █ █ █ █ █ </span>\n",
    "\n",
    "<br>"
   ]
  },
  {
   "cell_type": "markdown",
   "id": "3bd8f718-e89c-4a49-b7c5-d8f99ba0dc55",
   "metadata": {},
   "source": [
    "To remove a **key-value** pair from a dictionary in Python, you can use the <span style=\"background-color: yellow\">&nbsp;**del**&nbsp;</span> statement or the <span style=\"background-color: yellow\">&nbsp;**pop( )**&nbsp;</span> method as follows:\n",
    "\n",
    "<span style=\"color: red\"><font size=\"+1\">↳</font>&nbsp;1 ===> Using the **del** statement:</span>"
   ]
  },
  {
   "cell_type": "code",
   "execution_count": 2,
   "id": "f9e8c235-a820-4447-bf82-bea8aee21a09",
   "metadata": {},
   "outputs": [
    {
     "name": "stdout",
     "output_type": "stream",
     "text": [
      "{'a': 1, 'c': 3}\n"
     ]
    }
   ],
   "source": [
    "my_dict = {'a': 1, 'b': 2, 'c': 3}\n",
    "\n",
    "# Remove the key 'b' and its corresponding value from the dictionary\n",
    "del my_dict['b']\n",
    "\n",
    "print(my_dict)  # Output: {'a': 1, 'c': 3}\n"
   ]
  },
  {
   "cell_type": "markdown",
   "id": "a3bf59a2-e09a-482f-97d1-8c32776da9f2",
   "metadata": {},
   "source": [
    "<span style=\"color: red\"><font size=\"+1\">↳</font>&nbsp;2 ===> Using the **pop** method:</span>"
   ]
  },
  {
   "cell_type": "code",
   "execution_count": 3,
   "id": "f798f4f1-5906-49ad-abac-3f117dc7bcf6",
   "metadata": {},
   "outputs": [
    {
     "name": "stdout",
     "output_type": "stream",
     "text": [
      "{'a': 1, 'c': 3}\n",
      "2\n"
     ]
    }
   ],
   "source": [
    "my_dict = {'a': 1, 'b': 2, 'c': 3}\n",
    "\n",
    "# Remove the key 'b' and its corresponding value from the dictionary\n",
    "removed_value = my_dict.pop('b')\n",
    "\n",
    "print(my_dict)         # Output: {'a': 1, 'c': 3}\n",
    "print(removed_value)   # Output: 2\n"
   ]
  },
  {
   "cell_type": "code",
   "execution_count": null,
   "id": "447bd98b-443a-4cc7-9323-d6bbdf89d922",
   "metadata": {},
   "outputs": [],
   "source": []
  },
  {
   "cell_type": "code",
   "execution_count": 4,
   "id": "04bacc2b-d758-496f-bdc4-d98f55eba3fd",
   "metadata": {},
   "outputs": [],
   "source": [
    "{'a':5}.get('b')"
   ]
  },
  {
   "cell_type": "code",
   "execution_count": 5,
   "id": "6b5f700c-067d-4537-a6c2-d5eb30b2fcae",
   "metadata": {},
   "outputs": [
    {
     "name": "stdout",
     "output_type": "stream",
     "text": [
      "None\n"
     ]
    }
   ],
   "source": [
    "print({'a':5}.get('b'))"
   ]
  },
  {
   "cell_type": "code",
   "execution_count": 6,
   "id": "d5b367df-5d37-4109-bd34-9641201839dd",
   "metadata": {},
   "outputs": [
    {
     "data": {
      "text/plain": [
       "True"
      ]
     },
     "execution_count": 6,
     "metadata": {},
     "output_type": "execute_result"
    }
   ],
   "source": [
    "{'a':5}.get('b') == None"
   ]
  },
  {
   "cell_type": "code",
   "execution_count": 1,
   "id": "86b69259-22ba-4905-ae65-59dedba3c1ab",
   "metadata": {},
   "outputs": [
    {
     "data": {
      "text/plain": [
       "True"
      ]
     },
     "execution_count": 1,
     "metadata": {},
     "output_type": "execute_result"
    }
   ],
   "source": [
    "{'a':5}.get('b') is None"
   ]
  },
  {
   "cell_type": "markdown",
   "id": "beaa9742-d897-4b9d-8194-bfd71a87f455",
   "metadata": {},
   "source": [
    "<br>\n",
    "\n",
    "<span style=\"color: blue\"> █ █ █ █ █ █ █ █ █ █ █ █ █ █ █ █ █ █ █ █ █ █ █ █ █ █ █ █ █ █  █ █ █ █ █ █ █ █ █ █ █ █ █ █ █ █ █ █ █ █ █ █ █ █  █ █ █ █ █ █ █ █ █ █ █ █ █ █ █ █ █ █ █ █ █ █ █ </span>\n",
    "\n",
    "<br>\n",
    "\n",
    "**Sort a string in the dictionary (alphabetical) order**"
   ]
  },
  {
   "cell_type": "code",
   "execution_count": 3,
   "id": "ab4efe03-7017-4184-8c50-751d37835c5d",
   "metadata": {},
   "outputs": [
    {
     "name": "stdin",
     "output_type": "stream",
     "text": [
      "Enter a string acdb\n"
     ]
    },
    {
     "data": {
      "text/plain": [
       "'abcd'"
      ]
     },
     "execution_count": 3,
     "metadata": {},
     "output_type": "execute_result"
    }
   ],
   "source": [
    "string = input(\"Enter a string\")\n",
    "string_list = list(string)\n",
    "string_list.sort()\n",
    "sorted_string = \"\".join(string_list)\n",
    "sorted_string"
   ]
  },
  {
   "cell_type": "markdown",
   "id": "6b219dd3-3748-47f5-a161-7bf915c63bd7",
   "metadata": {},
   "source": [
    "<br>\n",
    "\n",
    "<span style=\"color: blue\"> █ █ █ █ █ █ █ █ █ █ █ █ █ █ █ █ █ █ █ █ █ █ █ █ █ █ █ █ █ █  █ █ █ █ █ █ █ █ █ █ █ █ █ █ █ █ █ █ █ █ █ █ █ █  █ █ █ █ █ █ █ █ █ █ █ █ █ █ █ █ █ █ █ █ █ █ █ </span>\n",
    "\n",
    "<br>\n",
    "\n",
    "**How to delete the last element in a list**  &nbsp;&nbsp;<span style=\"color: red;\">( How to use a list as a stack )</span>\n",
    "\n",
    "<span style=\"color: blue;\">&nbsp; ⇒ &nbsp;using &nbsp;**del** &nbsp;keyword</span>"
   ]
  },
  {
   "cell_type": "code",
   "execution_count": 3,
   "id": "4e2fa19d-4a79-4262-aeb9-5274ea72ccba",
   "metadata": {},
   "outputs": [],
   "source": [
    "\n",
    "stack = [1, 2, 3, 4, 5]\n",
    "\n",
    "del stack[-1]    # deletes the element at the top of the stack\n"
   ]
  },
  {
   "cell_type": "code",
   "execution_count": 4,
   "id": "642c2a2a-6791-4d70-bd7f-107a0aedd4ca",
   "metadata": {},
   "outputs": [
    {
     "data": {
      "text/plain": [
       "[1, 2, 3, 4]"
      ]
     },
     "execution_count": 4,
     "metadata": {},
     "output_type": "execute_result"
    }
   ],
   "source": [
    "stack"
   ]
  },
  {
   "cell_type": "markdown",
   "id": "f857336b-dfdc-47d6-a0bf-d4e31fe15d2e",
   "metadata": {},
   "source": [
    "<br>\n",
    "\n",
    "<span style=\"color: blue;\">&nbsp; ⇒ &nbsp;using &nbsp;a &nbsp;list &nbsp;function &nbsp;**pop( )**</span>"
   ]
  },
  {
   "cell_type": "code",
   "execution_count": 5,
   "id": "7db7172d-a312-4372-b664-03d1543880a3",
   "metadata": {},
   "outputs": [
    {
     "data": {
      "text/plain": [
       "5"
      ]
     },
     "execution_count": 5,
     "metadata": {},
     "output_type": "execute_result"
    }
   ],
   "source": [
    "\n",
    "stack = [1, 2, 3, 4, 5]\n",
    "\n",
    "stack.pop()   # it return the popped element ( i.e the element at the top of the stack )\n"
   ]
  },
  {
   "cell_type": "code",
   "execution_count": 6,
   "id": "42878bc9-113b-4080-b4cd-774917bdd67e",
   "metadata": {},
   "outputs": [
    {
     "data": {
      "text/plain": [
       "[1, 2, 3, 4]"
      ]
     },
     "execution_count": 6,
     "metadata": {},
     "output_type": "execute_result"
    }
   ],
   "source": [
    "stack"
   ]
  },
  {
   "cell_type": "code",
   "execution_count": null,
   "id": "55482f74-02a1-40af-a7cd-7c26a6b74424",
   "metadata": {},
   "outputs": [],
   "source": []
  },
  {
   "cell_type": "markdown",
   "id": "41cb0517-0576-4b9f-be92-bc4f392d4bd8",
   "metadata": {},
   "source": [
    "<br>\n",
    "\n",
    "<span style=\"color: blue\"> █ █ █ █ █ █ █ █ █ █ █ █ █ █ █ █ █ █ █ █ █ █ █ █ █ █ █ █ █ █  █ █ █ █ █ █ █ █ █ █ █ █ █ █ █ █ █ █ █ █ █ █ █ █  █ █ █ █ █ █ █ █ █ █ █ █ █ █ █ █ █ █ █ █ █ █ █ </span>\n",
    "\n",
    "<br>"
   ]
  },
  {
   "cell_type": "markdown",
   "id": "312f0def-d5cd-4cf9-9cf8-79f46284d717",
   "metadata": {},
   "source": [
    "**using markdown in streamlit for putting SQL and Python questions on webapp**"
   ]
  },
  {
   "cell_type": "code",
   "execution_count": 2,
   "id": "1e143978-c462-4e89-8aa6-2cb7d81046c7",
   "metadata": {},
   "outputs": [
    {
     "name": "stderr",
     "output_type": "stream",
     "text": [
      "2024-05-15 11:59:14.195 \n",
      "  \u001b[33m\u001b[1mWarning:\u001b[0m to view this Streamlit app on a browser, run it with the following\n",
      "  command:\n",
      "\n",
      "    streamlit run C:\\Users\\user\\AppData\\Local\\Programs\\Python\\Python311\\Lib\\site-packages\\ipykernel_launcher.py [ARGUMENTS]\n"
     ]
    },
    {
     "data": {
      "text/plain": [
       "DeltaGenerator()"
      ]
     },
     "execution_count": 2,
     "metadata": {},
     "output_type": "execute_result"
    }
   ],
   "source": [
    "import streamlit as st\n",
    "\n",
    "st.markdown(\"*Streamlit* is **really** ***cool***.\")\n",
    "st.markdown('''\n",
    "    :red[Streamlit] :orange[can] :green[write] :blue[text] :violet[in]\n",
    "    :gray[pretty] :rainbow[colors] and :blue-background[highlight] text.''')\n",
    "st.markdown(\"Here's a bouquet &mdash;\\\n",
    "            :tulip::cherry_blossom::rose::hibiscus::sunflower::blossom:\")\n",
    "\n",
    "multi = '''If you end a line with two spaces,\n",
    "a soft return is used for the next line.\n",
    "\n",
    "Two (or more) newline characters in a row will result in a hard return.\n",
    "'''\n",
    "st.markdown(multi)"
   ]
  },
  {
   "cell_type": "markdown",
   "id": "e5cb24b1-0599-47f3-a016-b0e525f794db",
   "metadata": {},
   "source": [
    "<br>\n",
    "\n",
    "<span style=\"color: blue\"> █ █ █ █ █ █ █ █ █ █ █ █ █ █ █ █ █ █ █ █ █ █ █ █ █ █ █ █ █ █  █ █ █ █ █ █ █ █ █ █ █ █ █ █ █ █ █ █ █ █ █ █ █ █  █ █ █ █ █ █ █ █ █ █ █ █ █ █ █ █ █ █ █ █ █ █ █ </span>\n",
    "\n",
    "<br>"
   ]
  },
  {
   "cell_type": "markdown",
   "id": "ed55e3b5-44aa-4857-b487-e9b35b4e1a05",
   "metadata": {},
   "source": [
    "<br>\n",
    "\n",
    "**Given a dictionary, check whether an element is present as a key in the dictionary or not**\n"
   ]
  },
  {
   "cell_type": "code",
   "execution_count": 5,
   "id": "3b697602-7801-4469-8a58-0f185c5c84f9",
   "metadata": {},
   "outputs": [
    {
     "name": "stdout",
     "output_type": "stream",
     "text": [
      "True\n",
      "False\n",
      "True\n",
      "True\n",
      "True\n",
      "True\n",
      "False\n",
      "False\n"
     ]
    }
   ],
   "source": [
    "\n",
    "arr_dict = dict()\n",
    "\n",
    "arr_dict[\"a\"] = 1\n",
    "arr_dict[\"c\"] = 3\n",
    "\n",
    "\n",
    "print(arr_dict.get(\"a\") is not None)                             # True\n",
    "print(arr_dict.get(\"a\", \"not present\") == \"not present\")         # True\n",
    "print(\"a\" in arr_dict)                                           # True\n",
    "print(\"a\" in arr_dict.keys())                                    # True\n",
    "\n",
    "\n",
    "print(arr_dict.get(\"b\") is None)                                 # True\n",
    "print(arr_dict.get(\"b\", \"not present\") == \"not present\")         # True\n",
    "print(\"b\" in arr_dict)                                           # False\n",
    "print(\"b\" in arr_dict.keys())                                    # False\n"
   ]
  },
  {
   "cell_type": "markdown",
   "id": "29690abe-50ed-4f97-b9cd-1318bfd6f7d8",
   "metadata": {},
   "source": [
    "<br>\n",
    "\n",
    "<span style=\"color: blue\"> █ █ █ █ █ █ █ █ █ █ █ █ █ █ █ █ █ █ █ █ █ █ █ █ █ █ █ █ █ █  █ █ █ █ █ █ █ █ █ █ █ █ █ █ █ █ █ █ █ █ █ █ █ █  █ █ █ █ █ █ █ █ █ █ █ █ █ █ █ █ █ █ █ █ █ █ █ </span>\n",
    "\n",
    "<br>"
   ]
  },
  {
   "cell_type": "markdown",
   "id": "4cacba65-bc3f-45a6-a221-b980d8421607",
   "metadata": {},
   "source": [
    "**Functions, Methods, Attributes, Arguments ???**"
   ]
  },
  {
   "cell_type": "markdown",
   "id": "53654710-a4ab-42cc-984a-099bcb797b72",
   "metadata": {},
   "source": [
    "Function =====> &nbsp;<code>result = function_name(arguments)\n",
    "\n",
    "Method ======> <code>result = object.method_name(arguments)</code>"
   ]
  },
  {
   "cell_type": "markdown",
   "id": "abd203f2-0187-4a3b-ae58-b26cb5c7419a",
   "metadata": {},
   "source": [
    "<br>\n",
    "\n",
    "<span style=\"color: blue\"> █ █ █ █ █ █ █ █ █ █ █ █ █ █ █ █ █ █ █ █ █ █ █ █ █ █ █ █ █ █  █ █ █ █ █ █ █ █ █ █ █ █ █ █ █ █ █ █ █ █ █ █ █ █  █ █ █ █ █ █ █ █ █ █ █ █ █ █ █ █ █ █ █ █ █ █ █ </span>\n",
    "\n",
    "<br>"
   ]
  },
  {
   "cell_type": "markdown",
   "id": "d21ef072-6954-4a1e-abe3-c97ec0d749ad",
   "metadata": {},
   "source": [
    "\n",
    "<font size=\"+1;\"><code style=\"background-color: white;\">**How to reverse a <span style=\"color: red;\"><u>portion</u></span> of a list <span style=\"color: red;\"><u>in-place</u></span>&nbsp;in python?**</code></font>\n",
    "\n",
    "<br>\n",
    "\n",
    "&nbsp;&nbsp;&nbsp;&nbsp;&nbsp;&nbsp;<font size=\"+1\">↳</font> Using &nbsp;<span style=\"background-color: #70FFEC;\">**Slicing** &nbsp;and&nbsp; **Assignment**</span>\n",
    "\n",
    "<div style = \"margin-left: 110px;\">\n",
    "    \n",
    "![](media/reverse_sublist_in_place.PNG)\n",
    "\n",
    "</div>"
   ]
  },
  {
   "cell_type": "code",
   "execution_count": 25,
   "id": "c954d9a5-3fb2-423e-9e10-f8fe89f2de67",
   "metadata": {},
   "outputs": [
    {
     "name": "stdout",
     "output_type": "stream",
     "text": [
      "[1, 2, 7, 6, 5, 4, 3, 8, 9, 10]\n"
     ]
    }
   ],
   "source": [
    "\n",
    "# FUNCTION\n",
    "def reverse_sublist(lst, start, end):\n",
    "    # Ensure the start and end indices are within bounds\n",
    "    if start < 0 or end >= len(lst) or start >= end:\n",
    "        return\n",
    "\n",
    "    # Reverse the sublist in place\n",
    "    lst[start:end+1] = lst[start:end+1][::-1]\n",
    "\n",
    "\n",
    "\n",
    "# EXAMPLE\n",
    "lst = [1, 2, 3, 4, 5, 6, 7, 8, 9, 10]\n",
    "reverse_sublist(lst, 2, 6)\n",
    "print(lst)                               # Output: [1, 2, 7, 6, 5, 4, 3, 8, 9, 10]\n"
   ]
  },
  {
   "cell_type": "markdown",
   "id": "38dad8d4-52e9-47ea-a47b-aeb49477f550",
   "metadata": {},
   "source": [
    "<br>\n",
    "\n",
    "&nbsp;&nbsp;&nbsp;&nbsp;&nbsp;&nbsp;<font size=\"+1\">↳</font> Using &nbsp;<span style=\"background-color: #70FFEC;\">&nbsp;**Two - Pointer** &nbsp;Technique&nbsp;</span>\n",
    "\n",
    "&nbsp;&nbsp;&nbsp;&nbsp;&nbsp;&nbsp;&nbsp;&nbsp;&nbsp;&nbsp;&nbsp;&nbsp;&nbsp;&nbsp;&nbsp;&nbsp;&nbsp;&nbsp;&nbsp;&nbsp;&nbsp;&nbsp;&nbsp;&nbsp;&nbsp;&nbsp;&nbsp;&nbsp;&nbsp;&nbsp;&nbsp;&nbsp;This method uses two pointers to reverse the elements between the specified indices. <br>\n",
    "&nbsp;&nbsp;&nbsp;&nbsp;&nbsp;&nbsp;&nbsp;&nbsp;&nbsp;&nbsp;&nbsp;&nbsp;&nbsp;&nbsp;&nbsp;&nbsp;&nbsp;&nbsp;&nbsp;&nbsp;&nbsp;&nbsp;&nbsp;&nbsp;&nbsp;&nbsp;&nbsp;&nbsp;&nbsp;&nbsp;&nbsp;&nbsp;It swaps elements from both ends until the pointers meet in the middle:"
   ]
  },
  {
   "cell_type": "code",
   "execution_count": 26,
   "id": "3971c7dd-336e-45ce-b492-aa86b61e3c72",
   "metadata": {},
   "outputs": [
    {
     "name": "stdout",
     "output_type": "stream",
     "text": [
      "[1, 2, 7, 6, 5, 4, 3, 8, 9, 10]\n"
     ]
    }
   ],
   "source": [
    "\n",
    "def reverse_sublist(lst, start, end):\n",
    "    # Ensure the start and end indices are within bounds\n",
    "    if start < 0 or end >= len(lst) or start >= end:\n",
    "        return\n",
    "\n",
    "    # Use two-pointer technique to reverse the sublist in place\n",
    "    while start < end:\n",
    "        lst[start], lst[end] = lst[end], lst[start]\n",
    "        start += 1\n",
    "        end -= 1\n",
    "\n",
    "\n",
    "\n",
    "# EXAMPLE\n",
    "lst = [1, 2, 3, 4, 5, 6, 7, 8, 9, 10]\n",
    "reverse_sublist(lst, 2, 6)\n",
    "print(lst)                               # Output: [1, 2, 7, 6, 5, 4, 3, 8, 9, 10]\n"
   ]
  },
  {
   "cell_type": "code",
   "execution_count": null,
   "id": "5501a648-96be-468c-86d7-c3db9a86b8ca",
   "metadata": {},
   "outputs": [],
   "source": []
  },
  {
   "cell_type": "markdown",
   "id": "57d8fe89-d170-4239-96f9-fb2e799b4718",
   "metadata": {},
   "source": [
    "<br>\n",
    "\n",
    "<span style=\"color: blue\"> █ █ █ █ █ █ █ █ █ █ █ █ █ █ █ █ █ █ █ █ █ █ █ █ █ █ █ █ █ █  █ █ █ █ █ █ █ █ █ █ █ █ █ █ █ █ █ █ █ █ █ █ █ █  █ █ █ █ █ █ █ █ █ █ █ █ █ █ █ █ █ █ █ █ █ █ █ </span>\n",
    "\n",
    "<br>"
   ]
  },
  {
   "cell_type": "markdown",
   "id": "9bd1933f-79d9-4998-ad6d-0bb1de21a260",
   "metadata": {},
   "source": [
    "**string.split( )**"
   ]
  },
  {
   "cell_type": "code",
   "execution_count": 27,
   "id": "31b188da-eafd-4d6c-a17b-7760da766128",
   "metadata": {},
   "outputs": [
    {
     "data": {
      "text/plain": [
       "['', '', '', 'hello', 'World!']"
      ]
     },
     "execution_count": 27,
     "metadata": {},
     "output_type": "execute_result"
    }
   ],
   "source": [
    "\n",
    "txt = \"   hello World!\"\n",
    "words = txt.split(\" \")\n",
    "words\n"
   ]
  },
  {
   "cell_type": "code",
   "execution_count": 28,
   "id": "22854f1b-a533-45e8-a132-2e2759f42b26",
   "metadata": {},
   "outputs": [
    {
     "data": {
      "text/plain": [
       "['hello', 'World!']"
      ]
     },
     "execution_count": 28,
     "metadata": {},
     "output_type": "execute_result"
    }
   ],
   "source": [
    "\n",
    "txt = \"   hello World!  \"\n",
    "words = txt.split()\n",
    "words\n"
   ]
  },
  {
   "cell_type": "code",
   "execution_count": null,
   "id": "67eca8a8-5ca4-4345-bf6c-696634eb82be",
   "metadata": {},
   "outputs": [],
   "source": []
  },
  {
   "cell_type": "markdown",
   "id": "0d1226a4-f37c-44de-b480-6e3d3754b082",
   "metadata": {},
   "source": [
    "<br>\n",
    "\n",
    "<span style=\"color: blue\"> █ █ █ █ █ █ █ █ █ █ █ █ █ █ █ █ █ █ █ █ █ █ █ █ █ █ █ █ █ █  █ █ █ █ █ █ █ █ █ █ █ █ █ █ █ █ █ █ █ █ █ █ █ █  █ █ █ █ █ █ █ █ █ █ █ █ █ █ █ █ █ █ █ █ █ █ █ </span>\n",
    "\n",
    "<br>"
   ]
  },
  {
   "cell_type": "markdown",
   "id": "a7737fee-4cda-4152-a6ba-4bc4972a6382",
   "metadata": {},
   "source": [
    "**Remove all Occurrences of an Item from a Python list**\n",
    "\n",
    "<br>\n",
    "\n",
    "using &nbsp;<span style=\"color: red;\">List Comprehension</span>"
   ]
  },
  {
   "cell_type": "code",
   "execution_count": 1,
   "id": "f73f0893-ea86-408d-8a33-2162385f330a",
   "metadata": {},
   "outputs": [
    {
     "data": {
      "text/plain": [
       "['hello', 'World!']"
      ]
     },
     "execution_count": 1,
     "metadata": {},
     "output_type": "execute_result"
    }
   ],
   "source": [
    "\n",
    "txt = \"   hello World!\"\n",
    "\n",
    "words = txt.split(\" \")      # ['', '', '', 'hello', 'World!']\n",
    "\n",
    "words = [word for word in words if word != '']       # METHOD - 1  ====>  using LIST COMPREHENSION \n",
    "\n",
    "words\n"
   ]
  },
  {
   "cell_type": "markdown",
   "id": "4f40400f-ed21-424f-acc7-325170f1dbfd",
   "metadata": {},
   "source": [
    "<br>\n",
    "\n",
    "using &nbsp;<span style=\"color: red;\">Filter &nbsp;&&nbsp; Lambda &nbsp;function</span>"
   ]
  },
  {
   "cell_type": "code",
   "execution_count": 31,
   "id": "6ea4baf4-f535-4db6-bf11-8c6d5efac17b",
   "metadata": {},
   "outputs": [
    {
     "data": {
      "text/plain": [
       "['hello', 'World!']"
      ]
     },
     "execution_count": 31,
     "metadata": {},
     "output_type": "execute_result"
    }
   ],
   "source": [
    "\n",
    "txt = \"   hello World!\"\n",
    "\n",
    "words = txt.split(\" \")      # ['', '', '', 'hello', 'World!']\n",
    "\n",
    "words = list(filter(lambda x: x != '' , words))      # METHOD - 2  ====>  using filter() and lambda function\n",
    "\n",
    "words\n"
   ]
  },
  {
   "cell_type": "markdown",
   "id": "2dc0cd6a-8011-4f03-87a7-674b14d278de",
   "metadata": {},
   "source": [
    "<br>\n",
    "\n",
    "using &nbsp;<span style=\"color: red;\">remove( )</span>"
   ]
  },
  {
   "cell_type": "code",
   "execution_count": 4,
   "id": "9b4b2ee3-9c9b-43a7-b77c-e88b0389f821",
   "metadata": {},
   "outputs": [
    {
     "data": {
      "text/plain": [
       "['hello', 'World!']"
      ]
     },
     "execution_count": 4,
     "metadata": {},
     "output_type": "execute_result"
    }
   ],
   "source": [
    "\n",
    "txt = \"   hello World!\"\n",
    "\n",
    "words = txt.split(\" \")      # ['', '', '', 'hello', 'World!']\n",
    "\n",
    "item_to_remove = ''\n",
    "for i in range(words.count(item_to_remove)):\n",
    "        words.remove(item_to_remove)                 # METHOD - 3  ====>  using list method remove()\n",
    "\n",
    "words\n"
   ]
  },
  {
   "cell_type": "markdown",
   "id": "28f7c6c2-3756-49db-aca7-5f2bf98c77b4",
   "metadata": {},
   "source": [
    "<br>\n",
    "\n",
    "using &nbsp;<span style=\"color: red;\">enumerate( )</span>"
   ]
  },
  {
   "cell_type": "code",
   "execution_count": 30,
   "id": "8428256e-b4cd-4eae-88b1-13f7e236abe7",
   "metadata": {},
   "outputs": [
    {
     "name": "stdout",
     "output_type": "stream",
     "text": [
      "[' ', ' ', ' ', 'h', 'e', 'l', 'l', 'o', ' ', 'W', 'o', 'r', 'l', 'd', '!']\n"
     ]
    }
   ],
   "source": [
    "\n",
    "txt = \"   hello World!\"\n",
    "words = txt.split()\n",
    "item_to_remove = ''\n",
    "x = [j for i,j in enumerate(txt) if j != item_to_remove]\n",
    "print(x)\n"
   ]
  },
  {
   "cell_type": "code",
   "execution_count": 26,
   "id": "99e73ee0-23c0-4753-b048-f8bcced1e121",
   "metadata": {},
   "outputs": [
    {
     "data": {
      "text/plain": [
       "['', '', '', 'hello', 'World!']"
      ]
     },
     "execution_count": 26,
     "metadata": {},
     "output_type": "execute_result"
    }
   ],
   "source": [
    "txt = \"   hello World!\"\n",
    "words = txt.split(\" \")\n",
    "words"
   ]
  },
  {
   "cell_type": "code",
   "execution_count": 23,
   "id": "432db03f-7226-45fe-99b2-9f8d5e38d755",
   "metadata": {},
   "outputs": [
    {
     "data": {
      "text/plain": [
       "['hello', 'World!']"
      ]
     },
     "execution_count": 23,
     "metadata": {},
     "output_type": "execute_result"
    }
   ],
   "source": [
    "\n",
    "txt = \"   hello World!  \"\n",
    "words = txt.split()\n",
    "words\n"
   ]
  },
  {
   "cell_type": "code",
   "execution_count": null,
   "id": "a78f88f9-f197-4150-aeb1-b296d1b1564b",
   "metadata": {},
   "outputs": [],
   "source": []
  },
  {
   "cell_type": "code",
   "execution_count": null,
   "id": "863ecc57-ad40-451e-9798-163c17df0e91",
   "metadata": {},
   "outputs": [],
   "source": []
  },
  {
   "cell_type": "code",
   "execution_count": null,
   "id": "f2d800e2-53e1-4822-b206-7191c68055ae",
   "metadata": {},
   "outputs": [],
   "source": []
  },
  {
   "cell_type": "code",
   "execution_count": null,
   "id": "9486d0d0-b5a4-4588-b5fa-756cf846a7a5",
   "metadata": {},
   "outputs": [],
   "source": []
  }
 ],
 "metadata": {
  "kernelspec": {
   "display_name": "Python 3 (ipykernel)",
   "language": "python",
   "name": "python3"
  },
  "language_info": {
   "codemirror_mode": {
    "name": "ipython",
    "version": 3
   },
   "file_extension": ".py",
   "mimetype": "text/x-python",
   "name": "python",
   "nbconvert_exporter": "python",
   "pygments_lexer": "ipython3",
   "version": "3.11.3"
  }
 },
 "nbformat": 4,
 "nbformat_minor": 5
}
