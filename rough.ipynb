{
 "cells": [
  {
   "cell_type": "markdown",
   "id": "6812c971-87ad-4e6f-89a8-0b56bfc7fabf",
   "metadata": {},
   "source": [
    "<br>\n",
    "\n",
    "**Every Python Function** (Tech With Tim) : https://www.youtube.com/playlist?list=PLzMcBGfZo4-lOXGKoV-sIPKD7MOuHp3_Q\n",
    "\n",
    "**Python Data Classes Are AMAZING! Here's Why** (Tech With Tim) : https://www.youtube.com/watch?v=5mMpM8zK4pY\n",
    "\n",
    "**10 Python Comprehensions You SHOULD Be Using** (Tech With Tim) : https://www.youtube.com/watch?v=twxE0dEp3qQ\n",
    "\n",
    "**Python 101: Learn These 5 Must-Know HIDDEN Features** (Tech With Tim) : https://www.youtube.com/watch?v=nrN3Gq1A92Y&list=LL&index=8&t=300s\n",
    "\n",
    "**5 Useful F-String Tricks In Python** (Indently)  :  https://www.youtube.com/watch?v=EoNOWVYKyo0&list=LL&index=2\n",
    "\n",
    "**5 Uncommon Python Features I Love** (Indently)  :  https://www.youtube.com/watch?v=sQ1Q96-Vhjk\n",
    "\n",
    "**5 Good Python Habits** (Indently)  :   https://youtu.be/I72uD8ED73U?list=PL4KX3oEgJcfeKzc-v2nD-KzTSELlNyafC\n",
    "\n",
    "**Modern Python logging** (mCoding) :   https://www.youtube.com/watch?v=9L77QExPmI0\n",
    "\n",
    "**Python dataclasses will save you HOURS, also featuring attrs** (mCoding) :    https://www.youtube.com/watch?v=vBH6GRJ1REM\n",
    "\n",
    "\n"
   ]
  },
  {
   "cell_type": "code",
   "execution_count": null,
   "id": "51dbe9aa-c18e-402d-929a-a4b2db39361b",
   "metadata": {},
   "outputs": [],
   "source": []
  },
  {
   "cell_type": "code",
   "execution_count": null,
   "id": "04d81616-5636-4484-ad44-20cf4973bb1d",
   "metadata": {},
   "outputs": [],
   "source": [
    "PROJECT IDEAS:\n",
    "1) Virat Kohli Cricket Career Dashboarding"
   ]
  },
  {
   "cell_type": "code",
   "execution_count": null,
   "id": "e544dab2-b599-446b-8db5-6e713965b704",
   "metadata": {},
   "outputs": [],
   "source": []
  },
  {
   "cell_type": "markdown",
   "id": "9b923395-088c-4196-a15e-517509470258",
   "metadata": {},
   "source": [
    "Collections in python"
   ]
  },
  {
   "cell_type": "code",
   "execution_count": null,
   "id": "4252b951-035e-4d5e-9727-7ef2a4a28348",
   "metadata": {},
   "outputs": [],
   "source": []
  },
  {
   "cell_type": "markdown",
   "id": "c6d60937-d45f-40ff-a55a-c5a950531f03",
   "metadata": {},
   "source": [
    " Here is a list of some of the most commonly used built-in modules in Python:\n",
    "\n",
    "**builtins**: Contains built-in functions, exceptions, and constants available in all Python code.         <br>\n",
    "**math**: Provides mathematical functions and constants.                                                   <br>\n",
    "**random**: Generates pseudo-random numbers and manages random selections.                                 <br>\n",
    "**datetime**: Manipulates dates, times, and time intervals.                                                <br>\n",
    "**os**: Interacts with the operating system, such as file and directory manipulation.                      <br>\n",
    "**sys**: Provides access to system-specific parameters and functions.                                      <br>\n",
    "**re**: Supports regular expressions for pattern matching and search operations.                           <br>\n",
    "**json**: Serializes and deserializes JSON (JavaScript Object Notation) data.                              <br>\n",
    "**csv**: Reads and writes CSV (comma-separated values) files.                                              <br>\n",
    "**sqlite3**: Interfaces with SQLite databases.                                                             <br>\n",
    "<span style=\"background-color: yellow\">**Collections**</span>: Contains specialized container data types, such as Counter and defaultdict.               <br>\n",
    "<span style=\"background-color: yellow\">**itertools**</span>: Offers functions for creating iterators and combinatorial generators.                       <br>\n",
    "<span style=\"background-color: yellow\">**functools**</span>: Provides higher-order functions and operations on callable objects.                         <br>\n",
    "**subprocess**: Spawns new processes and manages their execution.                                          <br>\n",
    "**io**: Implements tools for working with streams of data.                                                 <br>\n",
    "**pickle**: Serializes and deserializes Python objects.                                                    <br>\n",
    "**hashlib**: Calculates hash digests of data.                                                              <br>                **socket**: Supports networking operations, such as creating client and server sockets.                    <br>\n",
    "**urllib**: Handles URL parsing and retrieval of data from URLs.                                           <br>\n",
    "**xml**: Supports XML (Extensible Markup Language) processing.                                             <br>\n",
    "**email**: Parses, constructs, and sends email messages.                                                   <br>\n",
    "**logging**: Provides a flexible logging system for Python applications.                                   <br>\n",
    "**multiprocessing**: Supports multiprocessing and concurrent execution.                                    <br>\n",
    "**threading**: Implements threading for concurrent execution within a single process.                      <br>\n",
    "**argparse**: Parses command-line arguments and options.                                                   <br>\n",
    "**unittest**: Provides a framework for writing and running unit tests.                                     <br>\n",
    "**gzip, zipfile, tarfile**: Handle compression and archive file formats.                                   <br>\n",
    "**platform**: Retrieves information about the Python runtime environment and platform.                     "
   ]
  },
  {
   "cell_type": "markdown",
   "id": "ba516eaa-aaec-4554-9ec3-60d3878b5d57",
   "metadata": {},
   "source": [
    "<br>\n",
    "\n",
    "<span style=\"color: #DCBD10\">▬▬▬▬▬▬▬▬▬▬▬▬▬▬▬▬▬▬▬▬▬▬▬▬▬▬▬▬▬▬▬▬▬▬▬▬▬▬▬▬▬▬▬▬▬▬▬▬▬▬▬▬▬▬▬▬▬▬▬▬▬▬▬▬▬▬▬▬▬▬▬▬▬▬▬▬</span>\n",
    "\n",
    "<br>\n",
    "\n",
    "\n",
    "\n",
    "<span style=\"background-color: #CAFEFD\">&nbsp;<U>**QUESTION 1**</U>: <br>\n",
    "Given an **unsorted array of distinct integers**. Find the **largest pair sum** in it. <br>\n",
    "For example, the largest pair sum in [12, 34, 10, 6, 40] is 74.\n",
    "&nbsp;</span>"
   ]
  },
  {
   "cell_type": "code",
   "execution_count": 1,
   "id": "599ae383-481d-4399-989a-9e573a669146",
   "metadata": {},
   "outputs": [
    {
     "name": "stdout",
     "output_type": "stream",
     "text": [
      "largest : 40\n",
      "second largest : 34\n",
      "largest pair sum is 74\n"
     ]
    }
   ],
   "source": [
    "# Method-1\n",
    "\n",
    "lst = [12, 34, 10, 6, 40]\n",
    "# lst = [12, 40, 34, 10, 34, 6, 40]\n",
    "\n",
    "n = 2                   # to find pair\n",
    "\n",
    "# dir(lst)\n",
    "\n",
    "lst.sort()              # It sorts the elements in the list\n",
    "#lst                    # [6, 10, 12, 34, 40]\n",
    "\n",
    "#lst[-1::-1]            # [40, 34, 12, 10, 6]\n",
    "\n",
    "#lst[-1:-(n + 1):-1]    # largest pair : [40, 34]\n",
    "\n",
    "\n",
    "sum = 0\n",
    "for i in  range(-1,-(n + 1),-1):\n",
    "    sum += lst[i]\n",
    "\n",
    "print(\"largest :\", lst[-1])\n",
    "print(\"second largest :\", lst[-2])\n",
    "print(\"largest pair sum is\",sum)\n",
    "\n"
   ]
  },
  {
   "cell_type": "code",
   "execution_count": 71,
   "id": "73f3b5cd-0e9b-4522-a676-98c1639f360c",
   "metadata": {},
   "outputs": [
    {
     "name": "stdout",
     "output_type": "stream",
     "text": [
      "largest : 40\n",
      "second largest : 34\n",
      "largest pair sum = 74\n"
     ]
    }
   ],
   "source": [
    "# Method-2\n",
    "\n",
    "lst = [12, 34, 10, 6, 40]\n",
    "#lst = [12, 40, 34, 10, 34, 6, 40]\n",
    "\n",
    "\n",
    "# initializing 2 variables for largest and 2nd largest number in the array\n",
    "largest = None\n",
    "second_largest = None\n",
    "\n",
    "\n",
    "# finding the largest and the 2nd largest between the first 2 elements in the array\n",
    "if lst[0] >= lst[1]:\n",
    "    largest = lst[0]\n",
    "    second_largest = lst[1]\n",
    "else:\n",
    "    largest = lst[1]\n",
    "    second_largest = lst[0]\n",
    "\n",
    "\n",
    "# now finding the largest and the 2nd largest element in the whole array\n",
    "for i in range(2,len(lst)):\n",
    "    \n",
    "    if lst[i] >= largest:\n",
    "        second_largest = largest\n",
    "        largest = lst[i]\n",
    "\n",
    "    if lst[i] > second_largest and lst[i] < largest:         # if lst[i] > second_largest and lst[i] != largest:\n",
    "        second_largest = lst[i]\n",
    "\n",
    "\n",
    "print(\"largest :\", largest)\n",
    "print(\"second largest :\", second_largest)\n",
    "print(\"largest pair sum =\", largest + second_largest)        # displaying the sum\n",
    "    \n"
   ]
  },
  {
   "cell_type": "code",
   "execution_count": null,
   "id": "0be74e42-e304-479a-85e2-cb27ec75a103",
   "metadata": {},
   "outputs": [],
   "source": []
  },
  {
   "cell_type": "markdown",
   "id": "5f4b3dd0-3f6b-490b-abb5-c632ced68b4f",
   "metadata": {},
   "source": [
    "<br>\n",
    "\n",
    "<span style=\"color: #DCBD10\">▬▬▬▬▬▬▬▬▬▬▬▬▬▬▬▬▬▬▬▬▬▬▬▬▬▬▬▬▬▬▬▬▬▬▬▬▬▬▬▬▬▬▬▬▬▬▬▬▬▬▬▬▬▬▬▬▬▬▬▬▬▬▬▬▬▬▬▬▬▬▬▬▬▬▬▬</span>\n",
    "\n",
    "<br>\n",
    "\n",
    "<br>\n",
    "\n",
    "<span style=\"background-color: #CAFEFD\">&nbsp;<u>**QUESTION 2**</u>: </span><br>\n",
    "\n",
    "<span style=\"background-color: yellow\">Case-1</span>\n",
    "\n",
    "While iterating a given string, whenever you encounter a specific character &nbsp;<span style=\"background-color: #FBEDFF; color: red\"><font size=\"+1\">' i '</font></span>&nbsp;, just keep reversing the previous part of the string before that &nbsp;<span style=\"background-color: #FBEDFF; color: red\"><font size=\"+1\">' i '</font></span> <br>\n",
    "\n",
    "========>&nbsp;&nbsp;For example : &nbsp;&nbsp;<span style=\"color: blue\"><font size=\"+1\">string</font> ===> <font size=\"+1\">rtsng</font>  <br>\n",
    "&nbsp;&nbsp;&nbsp;&nbsp;&nbsp;&nbsp;&nbsp;&nbsp;&nbsp;&nbsp;&nbsp;&nbsp;&nbsp;&nbsp;&nbsp;&nbsp;&nbsp;&nbsp;&nbsp;&nbsp;&nbsp;&nbsp;&nbsp;&nbsp;&nbsp;&nbsp;&nbsp;&nbsp;&nbsp;&nbsp;&nbsp;&nbsp;&nbsp;&nbsp;&nbsp;&nbsp;&nbsp;&nbsp;&nbsp;&nbsp;&nbsp;&nbsp;&nbsp;&nbsp;&nbsp;&nbsp;&nbsp;&nbsp;&nbsp;<font size=\"+1\">stringinput</font> ===>  <font size=\"+1\">gnstrnput</font> <br>\n",
    "&nbsp;&nbsp;&nbsp;&nbsp;&nbsp;&nbsp;&nbsp;&nbsp;&nbsp;&nbsp;&nbsp;&nbsp;&nbsp;&nbsp;&nbsp;&nbsp;&nbsp;&nbsp;&nbsp;&nbsp;&nbsp;&nbsp;&nbsp;&nbsp;&nbsp;&nbsp;&nbsp;&nbsp;&nbsp;&nbsp;&nbsp;&nbsp;&nbsp;&nbsp;&nbsp;&nbsp;&nbsp;&nbsp;&nbsp;&nbsp;&nbsp;&nbsp;&nbsp;&nbsp;&nbsp;&nbsp;&nbsp;&nbsp;&nbsp;<font size=\"+1\">initialstring</font> ===>  <font size=\"+1\">rtslantng</font></span>\n",
    "\n"
   ]
  },
  {
   "cell_type": "code",
   "execution_count": 14,
   "id": "8f98295a-dca1-4f7e-acc7-2ff972a2a54e",
   "metadata": {},
   "outputs": [
    {
     "name": "stdin",
     "output_type": "stream",
     "text": [
      "Enter a string:  stringinput\n"
     ]
    },
    {
     "name": "stdout",
     "output_type": "stream",
     "text": [
      "gnstrnput\n"
     ]
    }
   ],
   "source": [
    "\n",
    "string = input(\"Enter a string: \")\n",
    "\n",
    "result = ''\n",
    "for chr in string:\n",
    "    if chr != 'i':\n",
    "        result += chr\n",
    "    else:\n",
    "        result = result[::-1]\n",
    "\n",
    "print(result)\n",
    "        "
   ]
  },
  {
   "cell_type": "markdown",
   "id": "d8c8ab8a-42e8-4e81-afa6-f143b9dbfd9d",
   "metadata": {},
   "source": [
    "\n",
    "<br>\n",
    "\n",
    "<span style=\"background-color: yellow\">Case-2</span> \n",
    "\n",
    "Reverse the substrings around a specific character &nbsp;<span style=\"background-color: #FBEDFF; color: red\"><font size=\"+1\">' i '</font></span>&nbsp; ====>  &nbsp;<span style=\"background-color: #FBEDFF; color: red\"><font size=\"+1\">' i '</font></span>&nbsp; to &nbsp;<span style=\"background-color: #FBEDFF; color: red\"><font size=\"+1\">' i '</font></span>&nbsp; reversal  \n",
    "\n",
    "========>&nbsp;&nbsp;For example : &nbsp;&nbsp;<span style=\"color: blue\"><font size=\"+1\">string</font> ===> <font size=\"+1\">rtsgn</font>  <br>\n",
    "&nbsp;&nbsp;&nbsp;&nbsp;&nbsp;&nbsp;&nbsp;&nbsp;&nbsp;&nbsp;&nbsp;&nbsp;&nbsp;&nbsp;&nbsp;&nbsp;&nbsp;&nbsp;&nbsp;&nbsp;&nbsp;&nbsp;&nbsp;&nbsp;&nbsp;&nbsp;&nbsp;&nbsp;&nbsp;&nbsp;&nbsp;&nbsp;&nbsp;&nbsp;&nbsp;&nbsp;&nbsp;&nbsp;&nbsp;&nbsp;&nbsp;&nbsp;&nbsp;&nbsp;&nbsp;&nbsp;&nbsp;&nbsp;&nbsp;<font size=\"+1\">stringinput</font> ===>  <font size=\"+1\">rtsgntupn</font> <br>\n",
    "&nbsp;&nbsp;&nbsp;&nbsp;&nbsp;&nbsp;&nbsp;&nbsp;&nbsp;&nbsp;&nbsp;&nbsp;&nbsp;&nbsp;&nbsp;&nbsp;&nbsp;&nbsp;&nbsp;&nbsp;&nbsp;&nbsp;&nbsp;&nbsp;&nbsp;&nbsp;&nbsp;&nbsp;&nbsp;&nbsp;&nbsp;&nbsp;&nbsp;&nbsp;&nbsp;&nbsp;&nbsp;&nbsp;&nbsp;&nbsp;&nbsp;&nbsp;&nbsp;&nbsp;&nbsp;&nbsp;&nbsp;&nbsp;&nbsp;<font size=\"+1\">initialstring</font> ===>  <font size=\"+1\">ntrtslagn</font>  <br>\n",
    "&nbsp;&nbsp;&nbsp;&nbsp;&nbsp;&nbsp;&nbsp;&nbsp;&nbsp;&nbsp;&nbsp;&nbsp;&nbsp;&nbsp;&nbsp;&nbsp;&nbsp;&nbsp;&nbsp;&nbsp;&nbsp;&nbsp;&nbsp;&nbsp;&nbsp;&nbsp;&nbsp;&nbsp;&nbsp;&nbsp;&nbsp;&nbsp;&nbsp;&nbsp;&nbsp;&nbsp;&nbsp;&nbsp;&nbsp;&nbsp;&nbsp;&nbsp;&nbsp;&nbsp;&nbsp;&nbsp;&nbsp;&nbsp;&nbsp;<font size=\"+1\">cryingemoji</font> ===>  <font size=\"+1\">ntrtslagn</font>\n",
    "\n",
    "</span>\n"
   ]
  },
  {
   "cell_type": "code",
   "execution_count": 18,
   "id": "c97401df-7f9b-4ef1-a757-b2ef7c700462",
   "metadata": {},
   "outputs": [
    {
     "name": "stdin",
     "output_type": "stream",
     "text": [
      "Enter a string:  cryingemoji\n"
     ]
    },
    {
     "name": "stdout",
     "output_type": "stream",
     "text": [
      "yrcjomegn\n"
     ]
    }
   ],
   "source": [
    "\n",
    "string = input(\"Enter a string: \")\n",
    "\n",
    "string_list = string.split(\"i\")\n",
    "\n",
    "reversed_string = ''\n",
    "\n",
    "for sequence in string_list:\n",
    "    reversed_string += sequence[::-1]\n",
    "\n",
    "print(reversed_string)\n"
   ]
  },
  {
   "cell_type": "markdown",
   "id": "d30f6d40-5340-4a5d-a33d-946e00fd4a55",
   "metadata": {},
   "source": [
    "\n",
    "<br>\n",
    "\n",
    "<span style=\"background-color: yellow\">Case-3</span> \n",
    "\n",
    "Reverse only Letters\n",
    "\n",
    "========>&nbsp;&nbsp;For example : &nbsp;&nbsp;<span style=\"color: blue\"><font size=\"+1\">ab_cd</font> ===> <font size=\"+1\">dc_ba</font>  <br>\n",
    "&nbsp;&nbsp;&nbsp;&nbsp;&nbsp;&nbsp;&nbsp;&nbsp;&nbsp;&nbsp;&nbsp;&nbsp;&nbsp;&nbsp;&nbsp;&nbsp;&nbsp;&nbsp;&nbsp;&nbsp;&nbsp;&nbsp;&nbsp;&nbsp;&nbsp;&nbsp;&nbsp;&nbsp;&nbsp;&nbsp;&nbsp;&nbsp;&nbsp;&nbsp;&nbsp;&nbsp;&nbsp;&nbsp;&nbsp;&nbsp;&nbsp;&nbsp;&nbsp;&nbsp;&nbsp;&nbsp;&nbsp;&nbsp;&nbsp;<font size=\"+1\">ab||cde</font> ===>  <font size=\"+1\">ed||cba</font> <br>\n",
    "&nbsp;&nbsp;&nbsp;&nbsp;&nbsp;&nbsp;&nbsp;&nbsp;&nbsp;&nbsp;&nbsp;&nbsp;&nbsp;&nbsp;&nbsp;&nbsp;&nbsp;&nbsp;&nbsp;&nbsp;&nbsp;&nbsp;&nbsp;&nbsp;&nbsp;&nbsp;&nbsp;&nbsp;&nbsp;&nbsp;&nbsp;&nbsp;&nbsp;&nbsp;&nbsp;&nbsp;&nbsp;&nbsp;&nbsp;&nbsp;&nbsp;&nbsp;&nbsp;&nbsp;&nbsp;&nbsp;&nbsp;&nbsp;&nbsp;<font size=\"+1\">a_bC_dEf=Ghij</font> ===>  <font size=\"+1\">j_ih_GfE_dCba</font>\n",
    "\n",
    "</span>"
   ]
  },
  {
   "cell_type": "code",
   "execution_count": 58,
   "id": "691eb648-1125-44fd-bc20-d65c67458e17",
   "metadata": {},
   "outputs": [
    {
     "name": "stdout",
     "output_type": "stream",
     "text": [
      "j_ih_GfE=dCba\n"
     ]
    }
   ],
   "source": [
    "\n",
    "import string\n",
    "\n",
    "\n",
    "input_string = \"a_bC_dEf=Ghij\"\n",
    "\n",
    "\n",
    "string_without_spl_chars = \"\"\n",
    "spl_chr_dict = {}\n",
    "for index, chr in enumerate(input_string):\n",
    "    if chr in list(string.punctuation):\n",
    "        spl_chr_dict[index] = chr\n",
    "    else:\n",
    "        string_without_spl_chars += chr\n",
    "\n",
    "\n",
    "# print(spl_chr_dict)\n",
    "# print(string_without_spl_chars)\n",
    "\n",
    "\n",
    "reversed_string_without_spl_chars = string_without_spl_chars[::-1]\n",
    "# print(reversed_string_without_spl_chars)\n",
    "\n",
    "\n",
    "reversed_string_without_spl_chars_list = list(reversed_string_without_spl_chars)\n",
    "for k,v in spl_chr_dict.items():\n",
    "    reversed_string_without_spl_chars_list.insert(k, v)\n",
    "\n",
    "\n",
    "result = ''\n",
    "for i in reversed_string_without_spl_chars_list:\n",
    "    result += i\n",
    "\n",
    "\n",
    "print(result)\n"
   ]
  },
  {
   "cell_type": "code",
   "execution_count": null,
   "id": "7a00dcfc-d0cb-47a4-8bb0-250660bac088",
   "metadata": {},
   "outputs": [],
   "source": []
  },
  {
   "cell_type": "markdown",
   "id": "7d2c2c93-a278-4171-80b9-d18bf467b2f6",
   "metadata": {},
   "source": [
    "<br>\n",
    "\n",
    "<span style=\"color: #DCBD10\">▬▬▬▬▬▬▬▬▬▬▬▬▬▬▬▬▬▬▬▬▬▬▬▬▬▬▬▬▬▬▬▬▬▬▬▬▬▬▬▬▬▬▬▬▬▬▬▬▬▬▬▬▬▬▬▬▬▬▬▬▬▬▬▬▬▬▬▬▬▬▬▬▬▬▬▬</span>\n",
    "\n",
    "<br>\n",
    "\n",
    "<br>\n",
    "\n",
    "<span style=\"background-color: #CAFEFD\">&nbsp;<u>**QUESTION 3**</u>: Given 2  lists, find out whether both are equal or not</span><br>"
   ]
  },
  {
   "cell_type": "code",
   "execution_count": 50,
   "id": "3abcce24-6565-432c-a516-97480b3e7b22",
   "metadata": {},
   "outputs": [],
   "source": [
    "\n",
    "# Case-1 \n",
    "list1 = [\"asd\", 1, 3, \"gh\", 3, 5]\n",
    "list2 = [\"asd\", 1, 3, \"gh\", 3, 5]\n"
   ]
  },
  {
   "cell_type": "code",
   "execution_count": 51,
   "id": "a5d93b78-355e-46e1-a9b6-0835dd20ef9e",
   "metadata": {},
   "outputs": [],
   "source": [
    "\n",
    "# Case-2\n",
    "list1 = [\"asd\", 1, 3, \"gh\", 3]\n",
    "list2 = [\"asd\", 1, 3, \"gh\", 3, 5]\n"
   ]
  },
  {
   "cell_type": "code",
   "execution_count": 52,
   "id": "73750cf6-c432-4a3d-90a9-743012ab4c01",
   "metadata": {},
   "outputs": [
    {
     "name": "stdout",
     "output_type": "stream",
     "text": [
      "False\n"
     ]
    }
   ],
   "source": [
    "\n",
    "print(list1 is list2)   # Output: False   ====>   because list1 is the same object as list2 even if the content of botht he lists are same\n"
   ]
  },
  {
   "cell_type": "code",
   "execution_count": 53,
   "id": "728f258c-1b21-46d4-a19a-5a528fa5d254",
   "metadata": {},
   "outputs": [
    {
     "ename": "SyntaxError",
     "evalue": "invalid syntax. Perhaps you forgot a comma? (3565422262.py, line 1)",
     "output_type": "error",
     "traceback": [
      "\u001b[1;36m  Cell \u001b[1;32mIn[53], line 1\u001b[1;36m\u001b[0m\n\u001b[1;33m    print(list1 == list 2)  # throws syntax error\u001b[0m\n\u001b[1;37m          ^\u001b[0m\n\u001b[1;31mSyntaxError\u001b[0m\u001b[1;31m:\u001b[0m invalid syntax. Perhaps you forgot a comma?\n"
     ]
    }
   ],
   "source": [
    "\n",
    "print(list1 == list 2)  # throws syntax error\n"
   ]
  },
  {
   "cell_type": "markdown",
   "id": "095316cd-a308-44dc-9d36-f6fbc8b7ff84",
   "metadata": {},
   "source": [
    "<br>\n",
    "\n",
    "<span style=\"color: blue\">**Method-1** (using <span style=\"color: red\">**map( )**</span> and <span style=\"color: red\">**lambda**</span> function)</span>\n"
   ]
  },
  {
   "cell_type": "code",
   "execution_count": 54,
   "id": "397d79ed-0141-49dd-82a6-eef5b57a4708",
   "metadata": {},
   "outputs": [
    {
     "data": {
      "text/plain": [
       "'Equal'"
      ]
     },
     "execution_count": 54,
     "metadata": {},
     "output_type": "execute_result"
    }
   ],
   "source": [
    "\n",
    "# Step-1\n",
    "\n",
    "(lambda l1, l2: \"Equal\" if all(list(map(lambda x,y: x==y, list1, list2))) == True else \"Not Equal\")(list1, list2)\n"
   ]
  },
  {
   "cell_type": "code",
   "execution_count": 55,
   "id": "1be97bed-97e8-48f3-afdc-1882e6295a6f",
   "metadata": {},
   "outputs": [
    {
     "name": "stdout",
     "output_type": "stream",
     "text": [
      "Not Equal\n"
     ]
    }
   ],
   "source": [
    "\n",
    "# Step-2  (SOLUTION)\n",
    "\n",
    "compare = lambda l1, l2: \"Equal\" if all(list(map(lambda x,y: x==y, list1, list2))) == True else \"Not Equal\"\n",
    "\n",
    "\n",
    "result = (lambda l1, l2: compare(l1,l2) if len(l1) == len(l2) else \"Not Equal\")(list1, list2)\n",
    "\n",
    "\n",
    "print(result)\n"
   ]
  },
  {
   "cell_type": "markdown",
   "id": "b8868594-3b51-4915-8667-e0886068ca70",
   "metadata": {},
   "source": [
    "\n",
    "<br>\n",
    "\n",
    "<span style=\"color: blue\">**Method-2** (using <span style=\"color: black\">**dictionary**</span> for calculating frequency of each element in a list and comparing it with the corresponding element in the other list)</span>\n"
   ]
  },
  {
   "cell_type": "code",
   "execution_count": 56,
   "id": "4b5a30a8-0c78-443b-a048-3e8a68b9fcbf",
   "metadata": {},
   "outputs": [
    {
     "name": "stdout",
     "output_type": "stream",
     "text": [
      "Not Equal\n"
     ]
    }
   ],
   "source": [
    "\n",
    "def compare(list1, list2):\n",
    "    my_dict = {}\n",
    "    for i in list1:\n",
    "        my_dict[i] = my_dict.get(i,0) + 1\n",
    "    for i in list2:\n",
    "        my_dict[i] = my_dict.get(i,0) - 1\n",
    "    count = 0\n",
    "    for k,v in my_dict.items():\n",
    "        if v == 0:\n",
    "            count += 1\n",
    "    if count == len(my_dict):\n",
    "        print(\"Equal\")\n",
    "    else:\n",
    "        print(\"Not Equal\")\n",
    "        \n",
    "\n",
    "compare(list1, list2)    \n"
   ]
  },
  {
   "cell_type": "code",
   "execution_count": 57,
   "id": "f5592c3e-abda-4200-8d37-e489e998e50f",
   "metadata": {},
   "outputs": [
    {
     "name": "stdout",
     "output_type": "stream",
     "text": [
      "Not Equal\n"
     ]
    }
   ],
   "source": [
    "\n",
    "def compare(list1, list2):\n",
    "    my_dict = {}\n",
    "    for i in list1:\n",
    "        my_dict[i] = my_dict.get(i,0) + 1\n",
    "    for i in list2:\n",
    "        my_dict[i] = my_dict.get(i,0) - 1\n",
    "    count = 0\n",
    "    for k,v in my_dict.items():\n",
    "        if v != 0:\n",
    "            return \"Not Equal\"\n",
    "    return \"Equal\"\n",
    "\n",
    "\n",
    "result = compare(list1, list2)\n",
    "print(result)\n"
   ]
  },
  {
   "cell_type": "code",
   "execution_count": null,
   "id": "d0c01e01-c3ef-46dc-8b7d-1432edfd9c14",
   "metadata": {},
   "outputs": [],
   "source": []
  },
  {
   "cell_type": "markdown",
   "id": "9c14a14c-a658-4973-a14d-f4dac4f96512",
   "metadata": {},
   "source": [
    "<br>\n",
    "\n",
    "<span style=\"color: #DCBD10\">▬▬▬▬▬▬▬▬▬▬▬▬▬▬▬▬▬▬▬▬▬▬▬▬▬▬▬▬▬▬▬▬▬▬▬▬▬▬▬▬▬▬▬▬▬▬▬▬▬▬▬▬▬▬▬▬▬▬▬▬▬▬▬▬▬▬▬▬▬▬▬▬▬▬▬▬</span>\n",
    "\n",
    "<br>\n",
    "\n",
    "<br>\n",
    "\n",
    "<span style=\"background-color: #CAFEFD\">&nbsp;<u>**QUESTION 4**</u>: Remove duplicates from a list and display it in reverse order <br>\n",
    "&nbsp;&nbsp;&nbsp;&nbsp;&nbsp;&nbsp;&nbsp;&nbsp;&nbsp;&nbsp;&nbsp;&nbsp;&nbsp;&nbsp;&nbsp;&nbsp;&nbsp;&nbsp;&nbsp;&nbsp;&nbsp;&nbsp;&nbsp;&nbsp;&nbsp;(without sorting - while removing duplicates or reversing the resultant list, the relative order of the elements in the list should not change&nbsp;</span>"
   ]
  },
  {
   "cell_type": "code",
   "execution_count": 100,
   "id": "01cb63b5-b486-4ca5-a471-a859f28c6cb9",
   "metadata": {},
   "outputs": [],
   "source": [
    "# Original list with duplicate elements\n",
    "original_list = [1, 3, 2, 4, 4, 5, 2]"
   ]
  },
  {
   "cell_type": "markdown",
   "id": "644b0af1-1ab7-444b-95af-86923db4eac4",
   "metadata": {},
   "source": [
    "<font size=\"+2\">↳</font>&nbsp;&nbsp;<span style=\"background-color: yellow\">&nbsp;**Preserving the order**&nbsp;</span>"
   ]
  },
  {
   "cell_type": "code",
   "execution_count": 146,
   "id": "563c45a2-2e7a-44b5-8900-449d1698c2af",
   "metadata": {},
   "outputs": [
    {
     "name": "stdout",
     "output_type": "stream",
     "text": [
      "[1, 3, 2, 4, 7, 5]\n",
      "\n",
      "[5, 7, 4, 2, 3, 1]\n",
      "[5, 7, 4, 2, 3, 1]\n",
      "\n",
      "----------------------------------\n",
      "\n",
      "[1, 3, 2, 4, 7, 5]\n",
      "\n",
      "[5, 7, 4, 2, 3, 1]\n",
      "[5, 7, 4, 2, 3, 1]\n",
      "\n"
     ]
    }
   ],
   "source": [
    "\n",
    "# Remove duplicates while preserving the order\n",
    "\n",
    "input_list = [1, 3, 2, 4, 4, 7, 2, 5]\n",
    "\n",
    "########################################################################################################################################\n",
    "\n",
    "\n",
    "# Method-1  ( using dictionary method fromkeys() )\n",
    "\n",
    "dict2 = dict.fromkeys(input_list)                                                # dict.fromkeys(iterable, value = None)\n",
    "\n",
    "print(list(dict2), end = \"\\n\\n\")                                                 # list after removing duplicates\n",
    "\n",
    "print(list(dict2.keys())[::-1])                                                  # list reversed after removing duplicates\n",
    "print(list(dict2)[::-1], end=\"\\n\\n----------------------------------\\n\\n\")       # list reversed after removing duplicates\n",
    "\n",
    "\n",
    "########################################################################################################################################\n",
    "\n",
    "\n",
    "# Method - 2  ( without using dictionary method fromkeys() )\n",
    "dict1 = {}\n",
    "for i in input_list:\n",
    "    dict1[i] = None\n",
    "\n",
    "print(list(dict1.keys()), end = \"\\n\\n\")                                          # list after removing duplicates\n",
    "\n",
    "print(list(dict1.keys())[::-1])                                                  # list reversed after removing duplicates\n",
    "print(list(dict1)[::-1], end=\"\\n\\n\")                                             # list reversed after removing duplicates\n",
    "\n"
   ]
  },
  {
   "cell_type": "markdown",
   "id": "ff7b8980-188d-4114-a3f0-ef8c18adc541",
   "metadata": {},
   "source": [
    "<br>\n",
    "\n",
    "<span style=\"color: blue\">**Solution-1** (using <span style=\"color: black\"><strong>regular</strong></span> function)</span>"
   ]
  },
  {
   "cell_type": "code",
   "execution_count": 153,
   "id": "fcbe1156-9e21-4229-885b-f21ef714cc7a",
   "metadata": {},
   "outputs": [
    {
     "name": "stdout",
     "output_type": "stream",
     "text": [
      "[5, 7, 4, 2, 3, 1]\n"
     ]
    }
   ],
   "source": [
    "\n",
    "def remove_dups_and_rev(lst):\n",
    "    return list(dict.fromkeys(lst))[::-1]\n",
    "\n",
    "input_list = [1, 3, 2, 4, 4, 7, 2, 5]\n",
    "\n",
    "reversed_unique_list = remove_dups_and_rev(input_list)\n",
    "\n",
    "print(reversed_unique_list)\n"
   ]
  },
  {
   "cell_type": "markdown",
   "id": "fade6d18-b171-42da-9d36-cc33cbbdf659",
   "metadata": {},
   "source": [
    "<br>\n",
    "\n",
    "<span style=\"color: blue\">**Solution-2** (using <span style=\"color: red\"><strong>lambda</strong></span> function)</span>"
   ]
  },
  {
   "cell_type": "code",
   "execution_count": 157,
   "id": "c3bf2095-9ba4-46d2-b7c7-a96081452989",
   "metadata": {},
   "outputs": [
    {
     "name": "stdout",
     "output_type": "stream",
     "text": [
      "[5, 7, 4, 2, 3, 1]\n"
     ]
    }
   ],
   "source": [
    "\n",
    "remove_dups_and_rev_func = lambda x: list(dict.fromkeys(x))[::-1]\n",
    "\n",
    "input_list = [1, 3, 2, 4, 4, 7, 2, 5]\n",
    "\n",
    "reversed_unique_list = remove_dups_and_rev_func(input_list)\n",
    "\n",
    "print(reversed_unique_list)\n"
   ]
  },
  {
   "cell_type": "markdown",
   "id": "92b8e800-e87e-46e6-876f-c9e3abee124a",
   "metadata": {},
   "source": [
    "<br>\n",
    "\n",
    "Had we not to preserve the order, we could have also used <span style=\"color: red\">**itertools.groupby( )**</span> to remove the duplicates :\n",
    "\n",
    "<font size=\"+2\">↳</font>&nbsp;&nbsp;<span style=\"background-color: yellow\">**Not preserving the order**</span>"
   ]
  },
  {
   "cell_type": "code",
   "execution_count": 158,
   "id": "4d62a423-6e10-4aaf-860a-b1ec7b4465b4",
   "metadata": {},
   "outputs": [
    {
     "name": "stdout",
     "output_type": "stream",
     "text": [
      "1\n",
      "2\n",
      "3\n",
      "4\n",
      "5\n",
      "7\n"
     ]
    }
   ],
   "source": [
    "\n",
    "from itertools import groupby\n",
    "\n",
    "input_list = [1, 3, 2, 4, 4, 7, 2, 5]\n",
    "\n",
    "input_list.sort()\n",
    "\n",
    "for k, v in groupby(input_list):\n",
    "    print(k)\n"
   ]
  },
  {
   "cell_type": "code",
   "execution_count": 209,
   "id": "c9c0ada3-cbc9-4e53-b303-7c81694be40e",
   "metadata": {},
   "outputs": [
    {
     "data": {
      "text/plain": [
       "[1, 2, 3, 4, 5, 7]"
      ]
     },
     "execution_count": 209,
     "metadata": {},
     "output_type": "execute_result"
    }
   ],
   "source": [
    "\n",
    "from itertools import groupby\n",
    "\n",
    "input_list = [1, 3, 2, 4, 4, 7, 2, 5]\n",
    "\n",
    "input_list.sort()\n",
    "\n",
    "[k for k, v in groupby(input_list)]   # List Comprehension\n"
   ]
  },
  {
   "cell_type": "code",
   "execution_count": null,
   "id": "3f4b04d2-f051-4474-936e-df5d5dd0c3aa",
   "metadata": {},
   "outputs": [],
   "source": []
  },
  {
   "cell_type": "markdown",
   "id": "c7997be2-c617-4e63-a9d2-79cb3b9e5bf2",
   "metadata": {},
   "source": [
    "<br>\n",
    "\n",
    "<span style=\"color: #DCBD10\">▬▬▬▬▬▬▬▬▬▬▬▬▬▬▬▬▬▬▬▬▬▬▬▬▬▬▬▬▬▬▬▬▬▬▬▬▬▬▬▬▬▬▬▬▬▬▬▬▬▬▬▬▬▬▬▬▬▬▬▬▬▬▬▬▬▬▬▬▬▬▬▬▬▬▬▬</span>\n",
    "\n",
    "<br>\n",
    "\n",
    "<br>\n",
    "\n",
    "<span style=\"background-color: #CAFEFD\">&nbsp;<u>**QUESTION 5**</u>: &nbsp;&nbsp;Remove duplicates <span style=\"background-color: #FFE8E2\">&nbsp;in-place&nbsp;</span> from a sorted list such that each unique element appears <span style=\"background-color: #FFE8E2\">&nbsp;only once&nbsp;</span>. The relative order of the elements should be kept the same.&nbsp;</span>\n",
    "\n",
    "nums = <span style=\"color: #FF3503\"><strong>[ 1, 1, 1, 2, 2, 3 ]</strong></span>    &nbsp;&nbsp;====================>&nbsp;&nbsp;    **3**, nums = <span style=\"color: #FF3503\"><strong>[ 1, 2, 3, __ , __ , __ ]<strong></span>\n",
    "\n",
    "nums = <span style=\"color: #FF3503\"><strong>[ 0, 0 , 1, 1, 1, 2, 2, 3, 3, 4 ]</strong></span>    &nbsp;&nbsp;=============>&nbsp;&nbsp;    **5**, nums = <span style=\"color: #FF3503\"><strong>[ 0, 1, 2, 3, 4, __ , __ , __ , __ , __ ]<strong></span>\n",
    "\n",
    "<br>\n",
    "\n",
    "<span style=\"color: blue\">**Solution-1**</span>&nbsp;&nbsp;<span style=\"background-color: yellow\">&nbsp;(using <strong>extra</strong> space)&nbsp;</span>\n"
   ]
  },
  {
   "cell_type": "code",
   "execution_count": 17,
   "id": "0e6be3cc-d96c-4bff-87ad-9ea226f064a0",
   "metadata": {},
   "outputs": [
    {
     "name": "stdout",
     "output_type": "stream",
     "text": [
      "[0, 1, 2, 3, 4]\n"
     ]
    }
   ],
   "source": [
    "\n",
    "def remove_duplicates(nums_list):\n",
    "    num_freq_dict = {}\n",
    "    result = []\n",
    "    for num in nums_list:\n",
    "        num_freq_dict[num] = num_freq_dict.get(num, 0) + 1\n",
    "        if num_freq_dict[num] == 1:\n",
    "            result.append(num)\n",
    "    return result\n",
    "\n",
    "nums = [ 0, 0 , 1, 1, 1, 2, 2, 3, 3, 4 ] \n",
    "\n",
    "result = remove_duplicates(nums)\n",
    "\n",
    "print(result)\n"
   ]
  },
  {
   "cell_type": "markdown",
   "id": "fb5f14e9-cad8-4fee-a5b7-3b3654ec5d28",
   "metadata": {},
   "source": [
    "<br>\n",
    "\n",
    "<span style=\"color: blue\">**Solution-2**</span>&nbsp;&nbsp;<span style=\"background-color: yellow\">&nbsp;(<strong>not</strong> using any <strong>extra</strong> space)&nbsp;</span>\n",
    "\n",
    "<br>\n",
    "\n",
    "<div style=\"border: 2px solid pink; padding: 10px; color: blue\">\n",
    "\n",
    "<font size=\"+2\"><span style=\"color: red\">↳</span></font>&nbsp;&nbsp;<font size=\"+1\">Initialize <span style=\"background-color: #CAFEFD; color: black\">&nbsp;&nbsp;**i = 0**&nbsp;&nbsp;</span> and <span style=\"background-color: #CAFEFD; color: black\">&nbsp;&nbsp;**j = 1**&nbsp;&nbsp;</span></font>  <br>\n",
    "\n",
    "<font size=\"+2\"><span style=\"color: red\">↳</span></font>&nbsp;&nbsp;<font size=\"+1\">Keep incrementing <strong><span style=\"background-color: #CAFEFD; color: black\">&nbsp;&nbsp;j&nbsp;&nbsp;</span></strong></span></strong> by one no matter what.</font>  <br>\n",
    "\n",
    "<font size=\"+2\"><span style=\"color: red\">↳</span></font>&nbsp;&nbsp;<font size=\"+1\">For each iteration of <strong><span style=\"background-color: #CAFEFD; color: black\">&nbsp;&nbsp;j&nbsp;&nbsp;</span></strong>, first <strong><span style=\"color: black; background-color: #FEF3FF;\">&nbsp;&nbsp;i += 1&nbsp;&nbsp;</span></strong> and then replace <strong><span style=\"color: black; background-color: #FEF3FF;\">&nbsp;&nbsp;nums[ i ]&nbsp;&nbsp;</span></strong> with <strong><span style=\"color: black; background-color: #FEF3FF;\">&nbsp;&nbsp;nums[ j ]&nbsp;&nbsp;</span></strong> if <strong><span style=\"color: black; background-color: #FEF3FF;\">nums[ j ] &nbsp;&nbsp;==&nbsp;&nbsp; nums[ i ]</span></strong>  </font>\n",
    "\n",
    "   <div style=\"display: flex; color: black; margin-left: 100px\">\n",
    "    <div style=\"flex: 1; padding: 10px;\">\n",
    "    <font size=\"+2\">if</font>\n",
    "    </div>\n",
    "    <div style=\"flex: 1; padding: 10px; background-color: yellow;\">\n",
    "        <font size=\"+2\">nums[ j ] &nbsp;==&nbsp;  nums[ i ]</font>\n",
    "    </div>\n",
    "    <div style=\"flex: 1; padding: 10px\">\n",
    "    <font size=\"+2\">__________then_________</font>\n",
    "    </div>\n",
    "    <div style=\"flex: 1; padding: 10px; background-color: yellow;\">\n",
    "        <font size=\"+2\">i += 1</font>  <br>\n",
    "        <font size=\"+2\">nums[ i ] = nums[ j ]</font>\n",
    "    </div>\n",
    "</div>\n",
    "\n",
    "</div>\n"
   ]
  },
  {
   "cell_type": "code",
   "execution_count": 241,
   "id": "e4ae2c46-8b0c-4363-bcb0-33ffae8c98db",
   "metadata": {},
   "outputs": [
    {
     "name": "stdout",
     "output_type": "stream",
     "text": [
      "(3, [1, 2, 3, 2, 2, 3])\n",
      "[1, 2, 3]\n"
     ]
    }
   ],
   "source": [
    "\n",
    "def remove_duplicates(num_list):\n",
    "    i = 0 \n",
    "    j = 1 \n",
    "    n = len(num_list) \n",
    "    while j < n: \n",
    "        if num_list[i] == num_list[j]: \n",
    "            j += 1\n",
    "        else:\n",
    "            i += 1\n",
    "            num_list[i] = num_list[j]\n",
    "            j += 1\n",
    "    return i+1, num_list\n",
    "\n",
    "\n",
    "nums = [1, 1, 1, 2, 2, 3]\n",
    "\n",
    "\n",
    "result_format_1 = remove_duplicates(nums)\n",
    "print(result_format_1)\n",
    "\n",
    "\n",
    "x = result_format_1[0]\n",
    "y = result_format_1[1]\n",
    "result_format_2 = y[:x]\n",
    "print(result_format_2)\n"
   ]
  },
  {
   "cell_type": "markdown",
   "id": "e9d6c1f2-8eac-48b9-9bf5-29a3c7e708c5",
   "metadata": {},
   "source": [
    "<br>\n",
    "\n",
    "since \"<strong>j+=1</strong>\" is common in both <strong>if</strong> and <strong>else</strong> condition, so we can move it out from <strong>if-else</strong> :"
   ]
  },
  {
   "cell_type": "code",
   "execution_count": 1,
   "id": "dfa0f853-41a6-4f30-8b67-675120300f05",
   "metadata": {},
   "outputs": [],
   "source": [
    "\n",
    "def remove_duplicates(num_list):\n",
    "    i = 0 \n",
    "    j = 1 \n",
    "    n = len(num_list) \n",
    "    while j < n: \n",
    "        if num_list[i] != num_list[j]: \n",
    "            i += 1\n",
    "            num_list[i] = num_list[j]\n",
    "        j += 1\n",
    "    return i+1, num_list\n",
    "    "
   ]
  },
  {
   "cell_type": "markdown",
   "id": "fa26975a-26b4-4230-abd4-8f060d499ae0",
   "metadata": {},
   "source": [
    "<br>\n",
    "\n",
    "Let's verify the result again."
   ]
  },
  {
   "cell_type": "code",
   "execution_count": 2,
   "id": "8f21bd8c-64f2-4acd-af14-edb3a9adccb8",
   "metadata": {},
   "outputs": [
    {
     "name": "stdout",
     "output_type": "stream",
     "text": [
      "(3, [1, 2, 3, 2, 2, 3])\n",
      "[1, 2, 3]\n"
     ]
    }
   ],
   "source": [
    "nums = [1, 1, 1, 2, 2, 3]\n",
    "\n",
    "\n",
    "result_format_1 = remove_duplicates(nums)\n",
    "print(result_format_1)\n",
    "\n",
    "\n",
    "x = result_format_1[0]\n",
    "y = result_format_1[1]\n",
    "result_format_2 = y[:x]\n",
    "print(result_format_2)\n"
   ]
  },
  {
   "cell_type": "code",
   "execution_count": null,
   "id": "ba24fb02-bb58-41d8-8bbf-b627ac2ee7ea",
   "metadata": {},
   "outputs": [],
   "source": []
  },
  {
   "cell_type": "markdown",
   "id": "5bf01485-4db9-4811-86b0-3437a15525d2",
   "metadata": {},
   "source": [
    "<br>\n",
    "\n",
    "<span style=\"color: #DCBD10\">▬▬▬▬▬▬▬▬▬▬▬▬▬▬▬▬▬▬▬▬▬▬▬▬▬▬▬▬▬▬▬▬▬▬▬▬▬▬▬▬▬▬▬▬▬▬▬▬▬▬▬▬▬▬▬▬▬▬▬▬▬▬▬▬▬▬▬▬▬▬▬▬▬▬▬▬</span>\n",
    "\n",
    "<br>\n",
    "\n",
    "<br>\n",
    "\n",
    "<span style=\"background-color: #CAFEFD\">&nbsp;<u>**QUESTION 6**</u>: &nbsp;&nbsp;Remove duplicates <span style=\"background-color: #FFE8E2\">&nbsp;in-place&nbsp;</span> from a sorted list such that each unique element appears <span style=\"background-color: #FFE8E2\">&nbsp;at most twice&nbsp;</span>. The relative order of the elements should be kept the same.&nbsp;</span>\n",
    "\n",
    "\n",
    "nums = <span style=\"color: #FF3503\"><strong>[ 1, 1, 1, 2, 2, 3 ]</strong></span>    &nbsp;&nbsp;==================>&nbsp;&nbsp;    **5**, nums = <span style=\"color: #FF3503\"><strong>[1, 1, 2, 2, 3, __ ]<strong></span>\n",
    "\n",
    "nums = <span style=\"color: #FF3503\"><strong>[ 0, 0 , 1, 1, 1, 1, 2, 3, 3]</strong></span>    &nbsp;&nbsp;=============>&nbsp;&nbsp;    **7**, nums = <span style=\"color: #FF3503\"><strong>[ 0, 0, 1, 1, 2, 3 , 3 , __ , __ ]<strong></span>\n",
    "\n",
    "nums = <span style=\"color: #FF3503\"><strong>[1, 2, 2, 3]</strong></span>    &nbsp;&nbsp;======================>&nbsp;&nbsp;    **4**, nums = <span style=\"color: #FF3503\"><strong>[1, 2, 2, 3]<strong></span>\n",
    "\n",
    "<br>\n",
    "\n",
    "<br>\n",
    "\n",
    "<span style=\"color: blue\">**Solution-1**</span>&nbsp;&nbsp;<span style=\"background-color: yellow\">&nbsp;(using <strong>extra</strong> space)&nbsp;</span>"
   ]
  },
  {
   "cell_type": "code",
   "execution_count": 12,
   "id": "4fb92dde-9ecc-416f-bc57-bd16b511fd63",
   "metadata": {},
   "outputs": [
    {
     "name": "stdout",
     "output_type": "stream",
     "text": [
      "[0, 0, 1, 1, 2, 3, 3]\n"
     ]
    }
   ],
   "source": [
    "\n",
    "def remove_duplicates(nums_list):\n",
    "    num_freq_dict = {}\n",
    "    result = []\n",
    "    for num in nums_list:\n",
    "        num_freq_dict[num] = num_freq_dict.get(num, 0) + 1\n",
    "        if num_freq_dict[num] <= 2:\n",
    "            result.append(num)\n",
    "    return result\n",
    "\n",
    "nums = [ 0, 0 , 1, 1, 1, 1, 2, 3, 3] \n",
    "\n",
    "result = remove_duplicates(nums)\n",
    "\n",
    "print(result)\n"
   ]
  },
  {
   "cell_type": "markdown",
   "id": "d203aaa4-37f2-44df-b8fd-f776ae8da0ba",
   "metadata": {},
   "source": [
    "<br>\n",
    "\n",
    "<br>\n",
    "\n",
    "<span style=\"color: blue\">**Solution-2**</span>&nbsp;&nbsp;<span style=\"background-color: yellow\">&nbsp;(<strong>not</strong> using any <strong>extra</strong> space)&nbsp;</span>\n",
    "\n",
    "<div style=\"border: 2px solid pink; padding: 10px; color: blue\">\n",
    "    \n",
    "<font size=\"+2\"><span style=\"color: red\">↳</span></font>&nbsp;&nbsp;<font size=\"+1\">Initialize <strong><span style=\"background-color: #CAFEFD; color: black\">&nbsp;&nbsp;i&nbsp;&nbsp;</span></strong> and <strong><span style=\"background-color: #CAFEFD; color: black\">&nbsp;&nbsp;j&nbsp;&nbsp;</span></strong> pointers with <strong><span style=\"color: black\">&nbsp;0</span></strong></font>\n",
    "    \n",
    "<font size=\"+2\"><span style=\"color: red\">↳</span></font>&nbsp;&nbsp;<font size=\"+1\">Keep incrementing <strong><span style=\"background-color: #CAFEFD; color: black\">&nbsp;&nbsp;j&nbsp;&nbsp;</span></strong></span></strong> by one no matter what.</font>\n",
    "\n",
    "<font size=\"+2\"><span style=\"color: red\">↳</span></font>&nbsp;&nbsp; <font size=\"+1\">For each iteration of <strong><span style=\"background-color: #CAFEFD; color: black\">&nbsp;&nbsp;j&nbsp;&nbsp;</span></strong>, **replace** <strong><span style=\"color: black; background-color: #FEF3FF;\">&nbsp;&nbsp;nums[ i ]&nbsp;&nbsp;</span></strong> with <strong><span style=\"color: black; background-color: #FEF3FF;\">&nbsp;&nbsp;nums[ j ]&nbsp;&nbsp;</span></strong> followed by <strong><span style=\"color: black; background-color: #FEF3FF;\">&nbsp;&nbsp;i += 1&nbsp;&nbsp;</span></strong> if &nbsp;&nbsp;<strong><span style=\"color: black; background-color: #FEF3FF;\">nums[ j ] &nbsp;&nbsp;!=&nbsp;&nbsp; nums[ i - 2 ]</span></strong>\n",
    "\n",
    "<div style=\"display: flex; color: black; margin-left: 100px\">\n",
    "    <div style=\"flex: 1; padding: 10px;\">\n",
    "    <font size=\"+2\">if</font>\n",
    "    </div>\n",
    "    <div style=\"flex: 1; padding: 10px; background-color: yellow;\">\n",
    "        <font size=\"+2\">nums[ j ] &nbsp;!=&nbsp;  nums[ i-2 ]</font>\n",
    "    </div>\n",
    "    <div style=\"flex: 1; padding: 10px\">\n",
    "    <font size=\"+2\">__________then_________</font>\n",
    "    </div>\n",
    "    <div style=\"flex: 1; padding: 10px; background-color: yellow;\">\n",
    "        <font size=\"+2\">nums[ i ] = nums[ j ]</font>  <br>\n",
    "        <font size=\"+2\">i += 1</font>\n",
    "    </div>\n",
    "</div>\n",
    "\n",
    "</div>\n",
    "\n",
    "</br>\n"
   ]
  },
  {
   "cell_type": "code",
   "execution_count": 1,
   "id": "be29dcbc-86e4-4c5b-87a7-fa151cd0ef9a",
   "metadata": {},
   "outputs": [
    {
     "name": "stdout",
     "output_type": "stream",
     "text": [
      "(7, [0, 0, 1, 1, 2, 3, 3, 3, 3])\n",
      "[0, 0, 1, 1, 2, 3, 3]\n"
     ]
    }
   ],
   "source": [
    "\n",
    "\n",
    "def remove_duplicates(nums): \n",
    "    i = 0 \n",
    "    for j in range(len(nums)): \n",
    "        if i < 2 or nums[j] != nums[i-2]: \n",
    "            nums[i] = nums[j]\n",
    "            i += 1\n",
    "    return i, nums\n",
    "\n",
    "            \n",
    "nums = [ 0, 0 , 1, 1, 1, 1, 2, 3, 3]\n",
    "\n",
    "\n",
    "result_format_1 = remove_duplicates(nums)\n",
    "print(result_format_1)\n",
    "\n",
    "\n",
    "x = result_format_1[0]\n",
    "y = result_format_1[1]\n",
    "result_format_2 = y[:x]\n",
    "print(result_format_2)\n",
    "\n"
   ]
  },
  {
   "cell_type": "code",
   "execution_count": 2,
   "id": "8ed07756-6b5f-41ad-ac83-00bd759c1dfe",
   "metadata": {},
   "outputs": [
    {
     "name": "stdout",
     "output_type": "stream",
     "text": [
      "(7, [0, 0, 1, 1, 2, 3, 3, 3, 3])\n",
      "[0, 0, 1, 1, 2, 3, 3]\n"
     ]
    }
   ],
   "source": [
    "\n",
    "def remove_duplicates(nums): \n",
    "    i = 0 \n",
    "    for e in nums: \n",
    "        if i < 2 or e != nums[i-2]: \n",
    "            nums[i] = e\n",
    "            i += 1\n",
    "    return i, nums\n",
    "\n",
    "\n",
    "\n",
    "result_format_1 = remove_duplicates(nums)\n",
    "print(result_format_1)\n",
    "\n",
    "\n",
    "x = result_format_1[0]\n",
    "y = result_format_1[1]\n",
    "result_format_2 = y[:x]\n",
    "print(result_format_2)\n"
   ]
  },
  {
   "cell_type": "code",
   "execution_count": null,
   "id": "08007320-fc93-4f65-bc24-675e5dfaa234",
   "metadata": {},
   "outputs": [],
   "source": []
  },
  {
   "cell_type": "markdown",
   "id": "592bc6b5-24dc-4166-b562-8705177322e0",
   "metadata": {},
   "source": [
    "<br>\n",
    "\n",
    "<span style=\"color: #DCBD10\">▬▬▬▬▬▬▬▬▬▬▬▬▬▬▬▬▬▬▬▬▬▬▬▬▬▬▬▬▬▬▬▬▬▬▬▬▬▬▬▬▬▬▬▬▬▬▬▬▬▬▬▬▬▬▬▬▬▬▬▬▬▬▬▬▬▬▬▬▬▬▬▬▬▬▬▬</span>\n",
    "\n",
    "<br>\n",
    "\n",
    "<br>\n",
    "\n",
    "<span style=\"background-color: #CAFEFD\">&nbsp;<u>**QUESTION 7**</u>: &nbsp;&nbsp;Word Count ===> Find frequency of each word in a given text&nbsp;</span>\n",
    "\n",
    "<br>\n",
    "\n",
    "<span style=\"color: blue\">**Solution - 1**</span>"
   ]
  },
  {
   "cell_type": "code",
   "execution_count": 192,
   "id": "d5e7787c-6e5e-42d3-879a-20f565cccebf",
   "metadata": {},
   "outputs": [
    {
     "name": "stdout",
     "output_type": "stream",
     "text": [
      "{'This': 2, 'is': 2, 'a': 2, 'sample': 1, 'string': 1, 'with': 1, 'repeated': 1, 'words.': 1, 'just': 1, 'sample.': 1}\n"
     ]
    }
   ],
   "source": [
    "\n",
    "def find_word_frequency(text):\n",
    "    word_list = text.split()\n",
    "    word_dict = {}\n",
    "    for word in word_list:\n",
    "        word_dict[word] = word_dict.get(word, 0) + 1\n",
    "    return word_dict\n",
    "\n",
    "text = '''This is a sample string with repeated words. \n",
    "This is just a sample.'''\n",
    "\n",
    "word_frequency = find_word_frequency(text)\n",
    "\n",
    "print(word_frequency)\n"
   ]
  },
  {
   "cell_type": "markdown",
   "id": "649b0f88-6a17-473b-84b4-270c1797c794",
   "metadata": {},
   "source": [
    "<br>\n",
    "\n",
    "<span style=\"color: blue\">**Solution - 2** &nbsp;(using <span style=\"color: red\">**lambda**</span> function)</span>\n"
   ]
  },
  {
   "cell_type": "code",
   "execution_count": 193,
   "id": "35085195-3470-4c6c-9ed3-8a473a36f760",
   "metadata": {},
   "outputs": [
    {
     "name": "stdout",
     "output_type": "stream",
     "text": [
      "{'This': 2, 'is': 2, 'a': 2, 'sample': 1, 'string': 1, 'with': 1, 'repeated': 1, 'words.': 1, 'just': 1, 'sample.': 1}\n"
     ]
    }
   ],
   "source": [
    "\n",
    "text = '''This is a sample string with repeated words. \n",
    "This is just a sample.'''\n",
    "\n",
    "find_word_frequency_func = lambda text: {word: text.split().count(word) for word in text.split()}\n",
    "\n",
    "print(find_word_frequency_func(text))\n"
   ]
  },
  {
   "cell_type": "markdown",
   "id": "df1f181f-1ec9-4cf3-b7cd-a13c7f3aee59",
   "metadata": {},
   "source": [
    "<br>\n",
    "\n",
    "<span style=\"color: blue\">**Solution - 3** &nbsp;(using <span style=\"color: red\">**reduce( )**</span> and <span style=\"color: red\">**lambda**</span> function)</span>\n",
    "\n",
    "<font size=\"+2\">↳</font>&nbsp;&nbsp;**Step - 1** ==>&nbsp;&nbsp;<span style=\"background-color: yellow\">&nbsp;(without using **lambda**)&nbsp;</span>"
   ]
  },
  {
   "cell_type": "code",
   "execution_count": 194,
   "id": "6dde21b8-950a-4989-9f20-134879899cd5",
   "metadata": {},
   "outputs": [
    {
     "name": "stdout",
     "output_type": "stream",
     "text": [
      "{'This': 1, 'is': 1, 'a': 1, 'sample': 1, 'string': 1, 'with': 1, 'repeated': 1, 'words.': 1, 'just': 1, 'sample.': 1}\n"
     ]
    }
   ],
   "source": [
    "\n",
    "from functools import reduce\n",
    "\n",
    "\n",
    "def word_frequency(word_dict, word):\n",
    "    word_dict[word] = word_dict.get(key, 0) + 1 \n",
    "    return word_dict\n",
    "\n",
    "\n",
    "text = '''This is a sample string with repeated words. \n",
    "This is just a sample.'''\n",
    "\n",
    "word_frequency_dict = reduce(word_frequency, text.split(), {})\n",
    "\n",
    "\n",
    "print(word_frequency_dict)\n"
   ]
  },
  {
   "cell_type": "markdown",
   "id": "00a1920a-0cac-4683-af6f-953825e5b8ba",
   "metadata": {},
   "source": [
    "<br>\n",
    "\n",
    "<font size=\"+2\">↳</font>&nbsp;&nbsp;**Step - 2** ==>&nbsp;&nbsp;<span style=\"background-color: yellow\">&nbsp;(using **lambda**)&nbsp;</span>"
   ]
  },
  {
   "cell_type": "code",
   "execution_count": 195,
   "id": "2ab28ed7-654a-4835-afe2-e777e3ca4965",
   "metadata": {},
   "outputs": [
    {
     "name": "stdout",
     "output_type": "stream",
     "text": [
      "{'sample.': 1}\n"
     ]
    }
   ],
   "source": [
    "\n",
    "from functools import reduce\n",
    "\n",
    "\n",
    "def word_frequency(word_dict, word):\n",
    "    word_dict[word] = word_dict.get(key, 0) + 1 \n",
    "    return word_dict\n",
    "\n",
    "\n",
    "text = '''This is a sample string with repeated words. \n",
    "This is just a sample.'''\n",
    "\n",
    "\n",
    "word_frequency_dict = reduce(lambda word_dict, word: {word: word_dict.get(word,0)+1}, text.split(), {})\n",
    "\n",
    "\n",
    "print(word_frequency_dict)\n"
   ]
  },
  {
   "cell_type": "markdown",
   "id": "a0a0951d-066c-46b5-b09e-4e9bce8f85d5",
   "metadata": {},
   "source": [
    "<br>\n",
    "\n",
    "<span style=\"color: #E5064A\">To avoid the overwriting of entire dictionary in each iteration, we need to use the **dictionary unpacking operator** ( <span style=\"color: black\"><strong>**word_dict</strong></span> ) which will ensure that the existing counts are preserved while adding the updated count for the current word.</span>\n"
   ]
  },
  {
   "cell_type": "code",
   "execution_count": 196,
   "id": "f302038c-20de-4945-a77d-c29fe76af61a",
   "metadata": {},
   "outputs": [
    {
     "name": "stdout",
     "output_type": "stream",
     "text": [
      "{'This': 2, 'is': 2, 'a': 2, 'sample': 1, 'string': 1, 'with': 1, 'repeated': 1, 'words.': 1, 'just': 1, 'sample.': 1}\n"
     ]
    }
   ],
   "source": [
    "\n",
    "from functools import reduce\n",
    "\n",
    "\n",
    "def word_frequency(word_dict, word):\n",
    "    word_dict[word] = word_dict.get(key, 0) + 1 \n",
    "    return word_dict\n",
    "\n",
    "\n",
    "text = '''This is a sample string with repeated words. \n",
    "This is just a sample.'''\n",
    "\n",
    "\n",
    "word_frequency_dict = reduce(lambda word_dict, word: {**word_dict, word: word_dict.get(word,0)+1}, text.split(), {})\n",
    "\n",
    "\n",
    "print(word_frequency_dict)\n"
   ]
  },
  {
   "cell_type": "code",
   "execution_count": null,
   "id": "569f0a1f-2eab-4730-bb86-e094e6e4abdc",
   "metadata": {},
   "outputs": [],
   "source": []
  },
  {
   "cell_type": "markdown",
   "id": "50ae9aca-dfe9-465b-ba63-45635a1deaec",
   "metadata": {},
   "source": [
    "<br>\n",
    "\n",
    "<span style=\"color: #DCBD10\">▬▬▬▬▬▬▬▬▬▬▬▬▬▬▬▬▬▬▬▬▬▬▬▬▬▬▬▬▬▬▬▬▬▬▬▬▬▬▬▬▬▬▬▬▬▬▬▬▬▬▬▬▬▬▬▬▬▬▬▬▬▬▬▬▬▬▬▬▬▬▬▬▬▬▬▬</span>\n",
    "\n",
    "<br>\n",
    "\n",
    "<br>\n",
    "\n",
    "<span style=\"background-color: #CAFEFD\">&nbsp;<u>**QUESTION 8**</u>: &nbsp;&nbsp;Given a list of integers, print 1 for odd and 0 for even&nbsp;</span>\n",
    "\n",
    "<br>\n",
    "\n",
    "<span style=\"color: blue\">**Solution - 1**</span>\n"
   ]
  },
  {
   "cell_type": "code",
   "execution_count": 199,
   "id": "23969c25-c31a-438d-93cf-da7cd257189e",
   "metadata": {},
   "outputs": [
    {
     "name": "stdout",
     "output_type": "stream",
     "text": [
      "[1, 1, 0, 0, 0, 0, 0, 1]\n"
     ]
    }
   ],
   "source": [
    "\n",
    "def odd_even(lst):\n",
    "    return [i%2 for i in lst]\n",
    "\n",
    "input_list = [1, 3, 2, 4, 8, 8, 0, 5]\n",
    "\n",
    "result = odd_even(input_list)\n",
    "\n",
    "print(result)\n"
   ]
  },
  {
   "cell_type": "markdown",
   "id": "2a735bae-c39f-40c9-84fe-fc328fca19a9",
   "metadata": {},
   "source": [
    "<br>\n",
    "\n",
    "<span style=\"color: blue\">**Solution - 2** &nbsp;(using <span style=\"color: red\">**lambda**</span> function)</span>\n"
   ]
  },
  {
   "cell_type": "code",
   "execution_count": 200,
   "id": "00b27bc2-27fa-43cd-9b3e-40d404020aa0",
   "metadata": {},
   "outputs": [
    {
     "name": "stdout",
     "output_type": "stream",
     "text": [
      "[1, 1, 0, 0, 0, 0, 0, 1]\n"
     ]
    }
   ],
   "source": [
    "\n",
    "odd_even_func = lambda lst: [i%2 for i in lst]\n",
    "\n",
    "input_list = [1, 3, 2, 4, 8, 8, 0, 5]\n",
    "\n",
    "result = odd_even_func(input_list)\n",
    "\n",
    "print(result)\n"
   ]
  },
  {
   "cell_type": "code",
   "execution_count": null,
   "id": "d04cd484-1679-4744-b05b-24dc266dd3cf",
   "metadata": {},
   "outputs": [],
   "source": []
  },
  {
   "cell_type": "code",
   "execution_count": null,
   "id": "9b9751ae-5753-4894-be56-144f8357f6b7",
   "metadata": {},
   "outputs": [],
   "source": []
  },
  {
   "cell_type": "code",
   "execution_count": null,
   "id": "275b8b81-c2c1-4f1e-94a2-0d828a1f2499",
   "metadata": {},
   "outputs": [],
   "source": []
  },
  {
   "cell_type": "code",
   "execution_count": null,
   "id": "89983e37-b56a-4d5d-8c2c-a609216600e1",
   "metadata": {},
   "outputs": [],
   "source": []
  },
  {
   "cell_type": "code",
   "execution_count": null,
   "id": "820cd79a-6346-490c-9cd1-6e648bfd0914",
   "metadata": {},
   "outputs": [],
   "source": []
  },
  {
   "cell_type": "code",
   "execution_count": null,
   "id": "4d824f53-0b9b-4a37-ba1b-d7d835406e9e",
   "metadata": {},
   "outputs": [],
   "source": []
  },
  {
   "cell_type": "markdown",
   "id": "ecddc9d3-5f3e-48b9-8387-327e5d2c4a2e",
   "metadata": {},
   "source": [
    "<br>\n",
    "\n",
    "<span style=\"color: blue\"> █ █ █ █ █ █ █ █ █ █ █ █ █ █ █ █ █ █ █ █ █ █ █ █ █ █ █ █ █ █  █ █ █ █ █ █ █ █ █ █ █ █ █ █ █ █ █ █ █ █ █ █ █ █  █ █ █ █ █ █ █ █ █ █ █ █ █ █ █ █ █ █ █ █ █ █ █ █  </span>\n",
    "\n",
    "<br>"
   ]
  },
  {
   "cell_type": "code",
   "execution_count": null,
   "id": "79d78dba-94b6-47ba-906a-74dc52e2b84f",
   "metadata": {},
   "outputs": [],
   "source": []
  },
  {
   "cell_type": "code",
   "execution_count": null,
   "id": "be2696a7-4e1b-4931-8750-dd1cdf742ce2",
   "metadata": {},
   "outputs": [],
   "source": []
  },
  {
   "cell_type": "code",
   "execution_count": null,
   "id": "76293ee4-0744-4ea9-bc86-c365e9185301",
   "metadata": {},
   "outputs": [],
   "source": []
  },
  {
   "cell_type": "code",
   "execution_count": null,
   "id": "81b1074d-8da5-42fb-94e8-21fc473e871d",
   "metadata": {},
   "outputs": [],
   "source": []
  },
  {
   "cell_type": "code",
   "execution_count": null,
   "id": "19150e6e-d858-47a1-9c5d-9cd89fbd1035",
   "metadata": {},
   "outputs": [],
   "source": []
  },
  {
   "cell_type": "code",
   "execution_count": null,
   "id": "f9e8c235-a820-4447-bf82-bea8aee21a09",
   "metadata": {},
   "outputs": [],
   "source": []
  }
 ],
 "metadata": {
  "kernelspec": {
   "display_name": "Python 3 (ipykernel)",
   "language": "python",
   "name": "python3"
  },
  "language_info": {
   "codemirror_mode": {
    "name": "ipython",
    "version": 3
   },
   "file_extension": ".py",
   "mimetype": "text/x-python",
   "name": "python",
   "nbconvert_exporter": "python",
   "pygments_lexer": "ipython3",
   "version": "3.11.3"
  }
 },
 "nbformat": 4,
 "nbformat_minor": 5
}
