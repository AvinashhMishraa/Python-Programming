{
 "cells": [
  {
   "cell_type": "markdown",
   "id": "6812c971-87ad-4e6f-89a8-0b56bfc7fabf",
   "metadata": {},
   "source": [
    "<br>\n",
    "\n",
    "**Every Python Function** (Tech With Tim) : https://www.youtube.com/playlist?list=PLzMcBGfZo4-lOXGKoV-sIPKD7MOuHp3_Q\n",
    "\n",
    "**Python Data Classes Are AMAZING! Here's Why** (Tech With Tim) : https://www.youtube.com/watch?v=5mMpM8zK4pY\n",
    "\n",
    "**10 Python Comprehensions You SHOULD Be Using** (Tech With Tim) : https://www.youtube.com/watch?v=twxE0dEp3qQ\n",
    "\n",
    "**Python 101: Learn These 5 Must-Know HIDDEN Features** (Tech With Tim) : https://www.youtube.com/watch?v=nrN3Gq1A92Y&list=LL&index=8&t=300s\n",
    "\n",
    "**5 Useful F-String Tricks In Python** (Indently)  :  https://www.youtube.com/watch?v=EoNOWVYKyo0&list=LL&index=2\n",
    "\n",
    "**5 Uncommon Python Features I Love** (Indently)  :  https://www.youtube.com/watch?v=sQ1Q96-Vhjk\n",
    "\n",
    "**5 Good Python Habits** (Indently)  :   https://youtu.be/I72uD8ED73U?list=PL4KX3oEgJcfeKzc-v2nD-KzTSELlNyafC\n",
    "\n",
    "**Modern Python logging** (mCoding) :   https://www.youtube.com/watch?v=9L77QExPmI0\n",
    "\n",
    "**Python dataclasses will save you HOURS, also featuring attrs** (mCoding) :    https://www.youtube.com/watch?v=vBH6GRJ1REM\n",
    "\n",
    "\n"
   ]
  },
  {
   "cell_type": "code",
   "execution_count": null,
   "id": "51dbe9aa-c18e-402d-929a-a4b2db39361b",
   "metadata": {},
   "outputs": [],
   "source": []
  },
  {
   "cell_type": "code",
   "execution_count": null,
   "id": "2e10614c-4c92-406c-b81b-81127aa92c8a",
   "metadata": {},
   "outputs": [],
   "source": []
  },
  {
   "cell_type": "markdown",
   "id": "ba516eaa-aaec-4554-9ec3-60d3878b5d57",
   "metadata": {},
   "source": [
    "<span style=\"background-color: #CAFEFD\">&nbsp;<U>**QUESTION 1**</U>: <br>\n",
    "Given an **unsorted array of distinct integers**. Find the **largest pair sum** in it. <br>\n",
    "For example, the largest pair sum in [12, 34, 10, 6, 40] is 74.\n",
    "&nbsp;</span>"
   ]
  },
  {
   "cell_type": "code",
   "execution_count": 70,
   "id": "599ae383-481d-4399-989a-9e573a669146",
   "metadata": {},
   "outputs": [
    {
     "name": "stdout",
     "output_type": "stream",
     "text": [
      "largest : 40\n",
      "second largest : 34\n",
      "largest pair sum is 74\n"
     ]
    }
   ],
   "source": [
    "# Method-1\n",
    "\n",
    "lst = [12, 34, 10, 6, 40]\n",
    "# lst = [12, 40, 34, 10, 34, 6, 40]\n",
    "\n",
    "n = 2                   # to find pair\n",
    "\n",
    "# dir(lst)\n",
    "\n",
    "lst.sort()              # It sorts the elements in the list\n",
    "#lst                    # [6, 10, 12, 34, 40]\n",
    "\n",
    "#lst[-1::-1]            # [40, 34, 12, 10, 6]\n",
    "\n",
    "#lst[-1:-(n + 1):-1]    # largest pair : [40, 34]\n",
    "\n",
    "\n",
    "sum = 0\n",
    "for i in  range(-1,-(n + 1),-1):\n",
    "    sum += lst[i]\n",
    "\n",
    "print(\"largest :\", lst[-1])\n",
    "print(\"second largest :\", lst[-2])\n",
    "print(\"largest pair sum is\",sum)\n",
    "\n"
   ]
  },
  {
   "cell_type": "code",
   "execution_count": 71,
   "id": "73f3b5cd-0e9b-4522-a676-98c1639f360c",
   "metadata": {},
   "outputs": [
    {
     "name": "stdout",
     "output_type": "stream",
     "text": [
      "largest : 40\n",
      "second largest : 34\n",
      "largest pair sum = 74\n"
     ]
    }
   ],
   "source": [
    "# Method-2\n",
    "\n",
    "lst = [12, 34, 10, 6, 40]\n",
    "#lst = [12, 40, 34, 10, 34, 6, 40]\n",
    "\n",
    "\n",
    "# initializing 2 variables for largest and 2nd largest number in the array\n",
    "largest = None\n",
    "second_largest = None\n",
    "\n",
    "\n",
    "# finding the largest and the 2nd largest between the first 2 elements in the array\n",
    "if lst[0] >= lst[1]:\n",
    "    largest = lst[0]\n",
    "    second_largest = lst[1]\n",
    "else:\n",
    "    largest = lst[1]\n",
    "    second_largest = lst[0]\n",
    "\n",
    "\n",
    "# now finding the largest and the 2nd largest element in the whole array\n",
    "for i in range(2,len(lst)):\n",
    "    \n",
    "    if lst[i] >= largest:\n",
    "        second_largest = largest\n",
    "        largest = lst[i]\n",
    "\n",
    "    if lst[i] > second_largest and lst[i] < largest:         # if lst[i] > second_largest and lst[i] != largest:\n",
    "        second_largest = lst[i]\n",
    "\n",
    "\n",
    "print(\"largest :\", largest)\n",
    "print(\"second largest :\", second_largest)\n",
    "print(\"largest pair sum =\", largest + second_largest)        # displaying the sum\n",
    "    \n"
   ]
  },
  {
   "cell_type": "code",
   "execution_count": null,
   "id": "0be74e42-e304-479a-85e2-cb27ec75a103",
   "metadata": {},
   "outputs": [],
   "source": []
  },
  {
   "cell_type": "code",
   "execution_count": null,
   "id": "05680f9c-8ce4-42e5-90f4-b427525e9551",
   "metadata": {},
   "outputs": [],
   "source": []
  },
  {
   "cell_type": "code",
   "execution_count": null,
   "id": "fa97ffcc-c72b-4b7a-aa6c-e608c762ea25",
   "metadata": {},
   "outputs": [],
   "source": [
    "\n"
   ]
  },
  {
   "cell_type": "code",
   "execution_count": null,
   "id": "97db897d-67d9-47b5-961a-650d74b5d27e",
   "metadata": {},
   "outputs": [],
   "source": []
  },
  {
   "cell_type": "code",
   "execution_count": null,
   "id": "875f3613-2d3f-4447-b971-2224db1f5a1c",
   "metadata": {},
   "outputs": [],
   "source": []
  },
  {
   "cell_type": "code",
   "execution_count": null,
   "id": "563c45a2-2e7a-44b5-8900-449d1698c2af",
   "metadata": {},
   "outputs": [],
   "source": []
  },
  {
   "cell_type": "code",
   "execution_count": null,
   "id": "e3003653-33ae-42f2-8a21-06cb01ce7ac3",
   "metadata": {},
   "outputs": [],
   "source": []
  },
  {
   "cell_type": "code",
   "execution_count": null,
   "id": "a2733c85-3025-4708-a067-1a881e61f63b",
   "metadata": {},
   "outputs": [],
   "source": []
  }
 ],
 "metadata": {
  "kernelspec": {
   "display_name": "Python 3 (ipykernel)",
   "language": "python",
   "name": "python3"
  },
  "language_info": {
   "codemirror_mode": {
    "name": "ipython",
    "version": 3
   },
   "file_extension": ".py",
   "mimetype": "text/x-python",
   "name": "python",
   "nbconvert_exporter": "python",
   "pygments_lexer": "ipython3",
   "version": "3.11.3"
  }
 },
 "nbformat": 4,
 "nbformat_minor": 5
}
