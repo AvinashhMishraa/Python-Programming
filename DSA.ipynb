{
 "cells": [
  {
   "cell_type": "markdown",
   "id": "d096eb4c-adc7-4305-a03a-55c921587687",
   "metadata": {},
   "source": [
    "<br>\n",
    "\n",
    "<span style=\"color: #DCBD10\">▬▬▬▬▬▬▬▬▬▬▬▬▬▬▬▬▬▬▬▬▬▬▬▬▬▬▬▬▬▬▬▬▬▬▬▬▬▬▬▬▬▬▬▬▬▬▬▬▬▬▬▬▬▬▬▬▬▬▬▬▬▬▬▬▬▬▬▬▬▬▬▬▬▬▬▬</span>\n",
    "\n",
    "<br>\n",
    "\n",
    "<br>\n",
    "\n",
    "<span style=\"background-color: #CAFEFD\">&nbsp;<u>**QUESTION 1**</u>:</SPAN> &nbsp;&nbsp;Binary Search Implementation"
   ]
  },
  {
   "cell_type": "code",
   "execution_count": 13,
   "id": "33c79312-19fd-4c75-93bd-78508a336bde",
   "metadata": {},
   "outputs": [
    {
     "name": "stdout",
     "output_type": "stream",
     "text": [
      "False\n"
     ]
    }
   ],
   "source": [
    "\n",
    "def binary_search(arr, target):\n",
    "    l = 0\n",
    "    r = len(arr) - 1\n",
    "    while l <= r:\n",
    "        mid = int((l + r)/2)\n",
    "        if target < arr[mid]:\n",
    "            r = mid -1\n",
    "        elif target > arr[mid]:\n",
    "            l = mid + 1\n",
    "        else:\n",
    "            return True\n",
    "            \n",
    "    return False\n",
    "\n",
    "\n",
    "nums = [2, 4, 5, 7, 8, 13, 20, 27]\n",
    "target = 5\n",
    "result = binary_search(nums, 6)\n",
    "print(result)\n",
    "    "
   ]
  },
  {
   "cell_type": "code",
   "execution_count": null,
   "id": "cbee3534-fafc-49c1-9e6b-5a88e1d72d72",
   "metadata": {},
   "outputs": [],
   "source": []
  },
  {
   "cell_type": "code",
   "execution_count": null,
   "id": "5f6ae508-13f7-48c0-b34e-f14b230afcb7",
   "metadata": {},
   "outputs": [],
   "source": []
  },
  {
   "cell_type": "code",
   "execution_count": null,
   "id": "85520437-c3e9-4e7a-be50-3d8d6ca59320",
   "metadata": {},
   "outputs": [],
   "source": []
  },
  {
   "cell_type": "code",
   "execution_count": null,
   "id": "dea3b195-6086-4bfe-b2c5-08fedfdca98c",
   "metadata": {},
   "outputs": [],
   "source": []
  },
  {
   "cell_type": "code",
   "execution_count": null,
   "id": "ae5d77be-085c-4abb-9c4b-6b81eeb9ed14",
   "metadata": {},
   "outputs": [],
   "source": []
  },
  {
   "cell_type": "code",
   "execution_count": null,
   "id": "cbfaa566-10dd-43c2-86e9-51a1154de27d",
   "metadata": {},
   "outputs": [],
   "source": []
  },
  {
   "cell_type": "code",
   "execution_count": null,
   "id": "207b2122-d393-4c87-9474-a9123c3ee432",
   "metadata": {},
   "outputs": [],
   "source": []
  },
  {
   "cell_type": "code",
   "execution_count": null,
   "id": "c7c2a3f8-5617-4112-b561-1032d417ecfe",
   "metadata": {},
   "outputs": [],
   "source": []
  },
  {
   "cell_type": "code",
   "execution_count": null,
   "id": "267185c2-f495-4ba1-88ee-9a46a0ba177a",
   "metadata": {},
   "outputs": [],
   "source": []
  },
  {
   "cell_type": "code",
   "execution_count": null,
   "id": "fc3e610d-bb1c-44fb-80e7-493e0fc307e3",
   "metadata": {},
   "outputs": [],
   "source": []
  }
 ],
 "metadata": {
  "kernelspec": {
   "display_name": "Python 3 (ipykernel)",
   "language": "python",
   "name": "python3"
  },
  "language_info": {
   "codemirror_mode": {
    "name": "ipython",
    "version": 3
   },
   "file_extension": ".py",
   "mimetype": "text/x-python",
   "name": "python",
   "nbconvert_exporter": "python",
   "pygments_lexer": "ipython3",
   "version": "3.11.3"
  }
 },
 "nbformat": 4,
 "nbformat_minor": 5
}
