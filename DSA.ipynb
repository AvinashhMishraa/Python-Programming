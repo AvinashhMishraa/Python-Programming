{
 "cells": [
  {
   "cell_type": "markdown",
   "id": "d8fd66ac-7f7c-4c3c-9239-c71dc5181e98",
   "metadata": {},
   "source": [
    "https://leetcode.com/studyplan/top-interview-150/\n",
    "\n",
    "https://takeuforward.org/interviews/strivers-sde-sheet-top-coding-interview-problems"
   ]
  },
  {
   "cell_type": "markdown",
   "id": "123eb9c8-2135-4e8d-9acf-e068f981b9c7",
   "metadata": {
    "jp-MarkdownHeadingCollapsed": true
   },
   "source": [
    "##### <span style=\"color: blue\">1  ===> Binary Search Implementation </span>"
   ]
  },
  {
   "cell_type": "markdown",
   "id": "d096eb4c-adc7-4305-a03a-55c921587687",
   "metadata": {},
   "source": [
    "<br>\n",
    "\n",
    "<span style=\"color: #DCBD10\">▬▬▬▬▬▬▬▬▬▬▬▬▬▬▬▬▬▬▬▬▬▬▬▬▬▬▬▬▬▬▬▬▬▬▬▬▬▬▬▬▬▬▬▬▬▬▬▬▬▬▬▬▬▬▬▬▬▬▬▬▬▬▬▬▬▬▬▬▬▬▬▬▬▬▬▬</span>\n",
    "\n",
    "<br>\n",
    "\n",
    "<div style=\"padding: 10px; background-color: #E2FFEC\">\n",
    "\n",
    "<u>**QUESTION 1**</u> : &nbsp;Binary Search Implementation\n",
    "\n",
    "</div>\n",
    "\n",
    "<br>\n"
   ]
  },
  {
   "cell_type": "code",
   "execution_count": 13,
   "id": "33c79312-19fd-4c75-93bd-78508a336bde",
   "metadata": {},
   "outputs": [
    {
     "name": "stdout",
     "output_type": "stream",
     "text": [
      "False\n"
     ]
    }
   ],
   "source": [
    "\n",
    "def binary_search(arr, target):\n",
    "    l = 0\n",
    "    r = len(arr) - 1\n",
    "    while l <= r:\n",
    "        mid = int((l + r)/2)\n",
    "        if target < arr[mid]:\n",
    "            r = mid -1\n",
    "        elif target > arr[mid]:\n",
    "            l = mid + 1\n",
    "        else:\n",
    "            return True\n",
    "            \n",
    "    return False\n",
    "\n",
    "\n",
    "nums = [2, 4, 5, 7, 8, 13, 20, 27]\n",
    "target = 5\n",
    "result = binary_search(nums, 6)\n",
    "print(result)\n",
    "    "
   ]
  },
  {
   "cell_type": "code",
   "execution_count": null,
   "id": "3c02e7d4-4450-4f3a-ad3f-951bd2a01cef",
   "metadata": {},
   "outputs": [],
   "source": []
  },
  {
   "cell_type": "markdown",
   "id": "15d3f26d-4069-4c9e-87df-2e134004d3bb",
   "metadata": {
    "jp-MarkdownHeadingCollapsed": true
   },
   "source": [
    "##### <span style=\"color: blue\">2  ===> Merge Sort </span>"
   ]
  },
  {
   "cell_type": "markdown",
   "id": "96c5d7f0-76e3-4c49-87b0-6ecd9c57ef35",
   "metadata": {},
   "source": [
    "<br>\n",
    "\n",
    "<span style=\"color: #DCBD10\">▬▬▬▬▬▬▬▬▬▬▬▬▬▬▬▬▬▬▬▬▬▬▬▬▬▬▬▬▬▬▬▬▬▬▬▬▬▬▬▬▬▬▬▬▬▬▬▬▬▬▬▬▬▬▬▬▬▬▬▬▬▬▬▬▬▬▬▬▬▬▬▬▬▬▬▬</span>\n",
    "\n",
    "<br>\n",
    "\n",
    "<div style=\"padding: 10px; background-color: #E2FFEC\">\n",
    "\n",
    "<u>**QUESTION 2**</u> : &nbsp;Merge Sort\n",
    "\n",
    "</div>\n",
    "\n",
    "<br>\n"
   ]
  },
  {
   "cell_type": "markdown",
   "id": "df25e16a-0fa4-4fbb-8b2d-dc31449f956e",
   "metadata": {},
   "source": [
    "\n",
    "<pre>                                     <code style=\"color: blue\">merge_sort(</code><code style=\"color: #FCB800\">input_array</code><code style=\"color: blue\">,</code> p = </code><code style=\"color: #FCB800\">0</code><code style=\"color: blue\">,</code> r = </code><code style=\"color: #FCB800\">len(input_array) - 1</code><code style=\"color: blue\">)</code></pre>\n",
    "\n",
    "<pre>                                                        if p < r: \n",
    "    \n",
    "                                                             q = (p + r) / 2\n",
    "\n",
    "</pre>\n",
    "\n",
    "<pre>                               <code style=\"color: blue\">merge_sort(</code><code style=\"color: #FCB800\">array</code><code style=\"color: blue\">,</code> </code><code style=\"color: black\">p</code><code style=\"color: blue\">,</code> </code><code style=\"color: red\">q</code><code style=\"color: blue\">)</code>         <span style=\"color: blue\"> █ </span>         <code style=\"color: blue\">merge_sort(</code><code style=\"color: #FCB800\">array</code><code style=\"color: blue\">,</code> </code><code style=\"color: red\">q+1</code><code style=\"color: blue\">,</code> </code><code style=\"color: black\">r</code><code style=\"color: blue\">)</code>\n",
    "</pre>\n",
    "\n",
    "<pre>                                                      <code style=\"color: blue\">merge(</code><code style=\"color: #FCB800\">array</code><code style=\"color: blue\">,</code> </code><code style=\"color: black\">p</code><code style=\"color: blue\">,</code> </code><code style=\"color: red\">q</code><code style=\"color: blue\">,</code> </code><code style=\"color: black\">r</code><code style=\"color: blue\">)</code>\n",
    "\n",
    "</pre>\n",
    "\n",
    "\n",
    "<span style=\"color: #E7D51D\">-----------------------------------------------------------------------------------------------------------------------------------------------------------------------------------------------</span>\n",
    "\n",
    "\n",
    "<summary style=\"color: #ccc; padding: 10px; border-radius: 5px;</summary>\n",
    "<div style=\"padding: 10px; border-radius: 5px;\">\n",
    "\n",
    "|  &nbsp;&nbsp;&nbsp;&nbsp;&nbsp;&nbsp;5&nbsp;&nbsp;&nbsp;&nbsp;&nbsp;&nbsp;   |  &nbsp;&nbsp;&nbsp;&nbsp;&nbsp;&nbsp;4&nbsp;&nbsp;&nbsp;&nbsp;&nbsp;&nbsp;  |  &nbsp;&nbsp;&nbsp;&nbsp;&nbsp;&nbsp;3&nbsp;&nbsp;&nbsp;&nbsp;&nbsp;&nbsp;  |  &nbsp;&nbsp;&nbsp;&nbsp;&nbsp;&nbsp;&nbsp;&nbsp;&nbsp;&nbsp;&nbsp;&nbsp;&nbsp;&nbsp;&nbsp;&nbsp;&nbsp;&nbsp;&nbsp;&nbsp;&nbsp;&nbsp;&nbsp;&nbsp;&nbsp;&nbsp;&nbsp;&nbsp;&nbsp;&nbsp;&nbsp;&nbsp;&nbsp;&nbsp;&nbsp;&nbsp;&nbsp;&nbsp;&nbsp;&nbsp;&nbsp;&nbsp;&nbsp;&nbsp;&nbsp;&nbsp;&nbsp;&nbsp;1&nbsp;&nbsp;&nbsp;&nbsp;&nbsp;&nbsp;  |  &nbsp;&nbsp;&nbsp;&nbsp;&nbsp;&nbsp;1&nbsp;&nbsp;&nbsp;&nbsp;&nbsp;&nbsp; |  &nbsp;&nbsp;&nbsp;&nbsp;&nbsp;&nbsp;8&nbsp;&nbsp;&nbsp;&nbsp;&nbsp;&nbsp;  |\n",
    "|-----|-----|-----|-----|-----|-----|\n",
    "    \n",
    "<pre>\n",
    "      <code style=\"color: blue\">                                 0       1       2                            3       4       5</code>  <br>\n",
    "                                       p       <code style=\"color: red\">q</code>     <code style=\"color: red\">q+1</code> = r                        p       <code style=\"color: red\">q</code>     <code style=\"color: red\">q+1</code> = r\n",
    "\n",
    "                                                              <code style=\"color: blue\">merge(</code><code style=\"color: #FCB800\">array</code><code style=\"color: blue\">,</code> </code><code style=\"color: black\">p</code><code style=\"color: blue\">,</code> </code><code style=\"color: red\">q</code><code style=\"color: blue\">,</code> </code><code style=\"color: black\">r</code><code style=\"color: blue\">)</code>\n",
    "\n",
    "                                       <code style=\"color: #43CA04\"><strong>i ------------->|</strong></code>                            <code style=\"color: #43CA04\"><strong>j ------------->|</strong></code>\n",
    "\n",
    "                                       <code style=\"color: #43CA04\"><strong>k ---------------------------------------------------------->|</strong></code>\n",
    "\n",
    "    <br>\n",
    "                                                        if <span style=\"background-color: #FEFFC5\"><span style=\"color: blue\">arr</span>[<span style=\"color: red\"><strong>i</strong></span>] <= <span style=\"color: blue\">arr</span>[<span style=\"color: red\"><strong>j</strong></span>]</span>:\n",
    "                                                                sorted_array.append(<code style=\"color: blue\">arr</code>[<span style=\"color: red\"><strong>i</strong></span>])\n",
    "                                                                <span style=\"color: red\"><strong>i</strong></span> = <span style=\"color: red\"><strong>i</strong></span> + 1\n",
    "                                                        elsif <span style=\"background-color: #FEFFC5\"><span style=\"color: blue\">arr</span>[<span style=\"color: red\"><strong>i</strong></span>] > <span style=\"color: blue\">arr</span>[<span style=\"color: red\"><strong>j</strong></span>]</span>:\n",
    "                                                                sorted_array.append(<code style=\"color: blue\">arr</code>[<span style=\"color: red\"><strong>j</strong></span>])\n",
    "                                                                <span style=\"color: red\"><strong>j</strong></span> = <span style=\"color: red\"><strong>j</strong></span> + 1        \n",
    "                                                        elsif <span style=\"background-color: #FEFFC5\"><span style=\"color: red\"><strong>i</strong></span> > <span style=\"color: red\"><strong>q</strong></span></span>:\n",
    "                                                                sorted_array.append(<code style=\"color: blue\">arr</code>[<span style=\"color: red\"><strong>j</strong></span>])\n",
    "                                                                <span style=\"color: red\"><strong>j</strong></span> = <span style=\"color: red\"><strong>j</strong></span> + 1\n",
    "                                                        elsif <span style=\"background-color: #FEFFC5\"><span style=\"color: red\"><strong>j</strong></span> > <span style=\"color: red\"><strong>r</strong></span></span>:\n",
    "                                                                sorted_array.append(<code style=\"color: blue\">arr</code>[<span style=\"color: red\"><strong>i</strong></span>])\n",
    "                                                                <span style=\"color: red\"><strong>i</strong></span> = <span style=\"color: red\"><strong>i</strong></span> + 1\n",
    "</pre>\n",
    "</div>\n",
    "\n",
    "<br>\n",
    "\n",
    "<br>\n",
    "\n",
    "<span style=\"color: #FC02BB\"> <strong>SOLUTION -1</strong> </span>"
   ]
  },
  {
   "cell_type": "code",
   "execution_count": 3,
   "id": "21123ed0-8f0d-4348-842c-e7e04b0e5e13",
   "metadata": {},
   "outputs": [
    {
     "name": "stdout",
     "output_type": "stream",
     "text": [
      "[3, 4, 5, 8, 8, 8, 14, 16, 16, 17, 18, 18, 20, 22, 24]\n"
     ]
    }
   ],
   "source": [
    "\n",
    "def merge_sort(arr, p, r): \n",
    "    if (p < r): \n",
    "        q = int((p + r) / 2)\n",
    "        merge_sort(arr, p, q)        # recursion\n",
    "        merge_sort(arr, q+1, r)      # recursion\n",
    "        merge(arr, p, q, r)\n",
    "    return arr\n",
    "\n",
    "\n",
    "def merge(arr, p, q, r):\n",
    "    sorted_array = []\n",
    "    i = p\n",
    "    j = q + 1\n",
    "    for k in range(p, r+1):\n",
    "        if ((i <= q) and (j <= r) and arr[i] <= arr[j]):\n",
    "            sorted_array.append(arr[i])\n",
    "            i += 1\n",
    "        elif (arr[i] > arr[j]) and (i <= q) and (j <= r):\n",
    "            sorted_array.append(arr[j])\n",
    "            j += 1\n",
    "        elif (i > q) and (j <= r):\n",
    "            sorted_array.append(arr[j])\n",
    "            j += 1\n",
    "        elif (j > r) and (i <= q):\n",
    "            sorted_array.append(arr[i])\n",
    "            i += 1\n",
    "            \n",
    "    # copying the elements of the 'sorted_array' back in the 'arr'\n",
    "    for i in range(p, r+1):\n",
    "        arr[i] = sorted_array[i-p]\n",
    "\n",
    "    return arr\n",
    "\n",
    "\n",
    "input_array = [5, 8, 8, 14, 16, 20, 3, 4, 8, 16, 17, 18, 18, 22, 24]\n",
    "\n",
    "result = merge_sort(input_array, 0, len(input_array) - 1)\n",
    "\n",
    "print(result)\n"
   ]
  },
  {
   "cell_type": "markdown",
   "id": "667fb8ad-933f-4bdb-927b-e3ce9336a1bb",
   "metadata": {},
   "source": [
    "<br>\n",
    "\n",
    "<span style=\"color: blue\">Since **Python is call by reference**, therefore it sends only the address, not the object itself. Thus the object remains the same.\n",
    "So, even if we does not return the array, it will work. Because, the modifications in the given array are being done **in-place**.</span> \n",
    "\n",
    "<br>"
   ]
  },
  {
   "cell_type": "code",
   "execution_count": 4,
   "id": "85520437-c3e9-4e7a-be50-3d8d6ca59320",
   "metadata": {},
   "outputs": [
    {
     "name": "stdout",
     "output_type": "stream",
     "text": [
      "[3, 4, 5, 8, 8, 8, 14, 16, 16, 17, 18, 18, 20, 22, 24]\n"
     ]
    }
   ],
   "source": [
    "\n",
    "\n",
    "def merge_sort(arr, p, r): \n",
    "    if (p < r): \n",
    "        q = int((p + r) / 2)\n",
    "        merge_sort(arr, p, q)        # recursion\n",
    "        merge_sort(arr, q+1, r)      # recursion\n",
    "        merge(arr, p, q, r)\n",
    "\n",
    "\n",
    "def merge(arr, p, q, r):\n",
    "    sorted_array = []\n",
    "    i = p\n",
    "    j = q + 1\n",
    "    for k in range(p, r+1):\n",
    "        if ((i <= q) and (j <= r) and arr[i] <= arr[j]):\n",
    "            sorted_array.append(arr[i])\n",
    "            i += 1\n",
    "        elif (arr[i] > arr[j]) and (i <= q) and (j <= r):\n",
    "            sorted_array.append(arr[j])\n",
    "            j += 1\n",
    "        elif (i > q) and (j <= r):\n",
    "            sorted_array.append(arr[j])\n",
    "            j += 1\n",
    "        elif (j > r) and (i <= q):\n",
    "            sorted_array.append(arr[i])\n",
    "            i += 1\n",
    "            \n",
    "    # copying the elements of the 'sorted_array' back in the 'arr'\n",
    "    for i in range(p, r+1):\n",
    "        arr[i] = sorted_array[i-p]\n",
    "\n",
    "\n",
    "input_array = [5, 8, 8, 14, 16, 20, 3, 4, 8, 16, 17, 18, 18, 22, 24]\n",
    "\n",
    "merge_sort(input_array, 0, len(input_array) - 1)\n",
    "\n",
    "print(input_array)\n"
   ]
  },
  {
   "cell_type": "markdown",
   "id": "68295d8a-f727-4306-97f4-e33fe1c1e570",
   "metadata": {},
   "source": [
    "\n",
    "<br>\n",
    "\n",
    "<span style=\"color:#FC02BB\"> <strong>SOLUTION - 2</strong> \n",
    "\n",
    "</span> The merge code can be optimized like the following:\n",
    "<pre>\n",
    "    <br>\n",
    "                                 if ( <span style=\"background-color: #FEFFC5\"><span style=\"color: blue\">arr</span>[<span style=\"color: red\"><strong>i</strong></span>] <= <span style=\"color: blue\">arr</span>[<span style=\"color: red\"><strong>j</strong></span>]</span> ) or ( <span style=\"background-color: #FEFFC5\"><span style=\"color: red\"><strong>j</strong></span> > <span style=\"color: red\"><strong>r</strong></span></span> ):\n",
    "                                        sorted_array.append(<code style=\"color: blue\">arr</code>[<span style=\"color: red\"><strong>i</strong></span>])\n",
    "                                        <span style=\"color: red\"><strong>i</strong></span> = <span style=\"color: red\"><strong>i</strong></span> + 1\n",
    "                                 elsif ( <span style=\"background-color: #FEFFC5\"><span style=\"color: blue\">arr</span>[<span style=\"color: red\"><strong>i</strong></span>] > <span style=\"color: blue\">arr</span>[<span style=\"color: red\"><strong>j</strong></span>]</span> ) or ( <span style=\"background-color: #FEFFC5\"><span style=\"color: red\"><strong>i</strong></span> > <span style=\"color: red\"><strong>q</strong></span></span> ):\n",
    "                                        sorted_array.append(<code style=\"color: blue\">arr</code>[<span style=\"color: red\"><strong>j</strong></span>])\n",
    "                                        <span style=\"color: red\"><strong>j</strong></span> = <span style=\"color: red\"><strong>j</strong></span> + 1                                                         \n",
    "</pre>\n",
    "</div>\n",
    "\n",
    "<br>\n",
    "</pre>"
   ]
  },
  {
   "cell_type": "code",
   "execution_count": 5,
   "id": "cbfaa566-10dd-43c2-86e9-51a1154de27d",
   "metadata": {},
   "outputs": [
    {
     "name": "stdout",
     "output_type": "stream",
     "text": [
      "[3, 4, 5, 8, 8, 8, 14, 16, 16, 17, 18, 18, 20, 22, 24]\n"
     ]
    }
   ],
   "source": [
    "\n",
    "def merge_sort(arr, p, r): \n",
    "    if (p < r): \n",
    "        q = int((p + r) / 2)\n",
    "        merge_sort(arr, p, q)        # recursion\n",
    "        merge_sort(arr, q+1, r)      # recursion\n",
    "        merge(arr, p, q, r)\n",
    "\n",
    "\n",
    "def merge(arr, p, q, r):\n",
    "    sorted_array = []\n",
    "    i = p\n",
    "    j = q + 1\n",
    "    for k in range(p, r+1):\n",
    "        if ( (i <= q) and (j <= r) and arr[i] <= arr[j] ) or ( (j > r) and (i <= q) ):\n",
    "            sorted_array.append(arr[i])\n",
    "            i += 1\n",
    "        elif ( (i <= q) and (j <= r) and arr[i] > arr[j] ) or ( (i > q) and (j <= r) ):\n",
    "            sorted_array.append(arr[j])\n",
    "            j += 1\n",
    "            \n",
    "    # copying the elements of the 'sorted_array' back in the 'arr'\n",
    "    for i in range(p, r+1):\n",
    "        arr[i] = sorted_array[i-p]\n",
    "\n",
    "\n",
    "input_array = [5, 8, 8, 14, 16, 20, 3, 4, 8, 16, 17, 18, 18, 22, 24]\n",
    "\n",
    "merge_sort(input_array, 0, len(input_array) - 1)\n",
    "\n",
    "print(input_array)\n"
   ]
  },
  {
   "cell_type": "code",
   "execution_count": null,
   "id": "207b2122-d393-4c87-9474-a9123c3ee432",
   "metadata": {},
   "outputs": [],
   "source": []
  },
  {
   "cell_type": "markdown",
   "id": "490478d9-5687-4b2e-a8af-aff7449a9dbd",
   "metadata": {},
   "source": [
    "##### <span style=\"color: blue\">3  ===> 2 Sum </span>"
   ]
  },
  {
   "cell_type": "markdown",
   "id": "56c27b7d-2b39-4e7b-8eb1-0befdb2490a9",
   "metadata": {},
   "source": [
    "<br>\n",
    "\n",
    "<span style=\"color: #DCBD10\">▬▬▬▬▬▬▬▬▬▬▬▬▬▬▬▬▬▬▬▬▬▬▬▬▬▬▬▬▬▬▬▬▬▬▬▬▬▬▬▬▬▬▬▬▬▬▬▬▬▬▬▬▬▬▬▬▬▬▬▬▬▬▬▬▬▬▬▬▬▬▬▬▬▬▬▬</span>\n",
    "\n",
    "<br>\n",
    "\n",
    "<div style=\"padding: 10px; background-color: #E2FFEC\">\n",
    "\n",
    "<u>**QUESTION 3**</u> : &nbsp;2 Sum\n",
    "\n",
    "</div>\n",
    "\n",
    "<br>\n",
    "\n",
    "<span style=\"background-color: yellow\">&nbsp;**Variant - 1** => Check if there is atleast 1 such pair in an array whose sum is equal to the given target value&nbsp;</span>\n",
    "\n",
    "<br>\n",
    "\n",
    "<span style=\"color: #FC02BB\"> <strong>SOLUTION -1</strong> </span> ===> <span style=\"color: red\">Brute Force</span>\n",
    "\n",
    "**Hint** - Find all possible pairs for each number in the given array."
   ]
  },
  {
   "cell_type": "code",
   "execution_count": 1,
   "id": "fc3e610d-bb1c-44fb-80e7-493e0fc307e3",
   "metadata": {},
   "outputs": [
    {
     "name": "stdout",
     "output_type": "stream",
     "text": [
      "True\n"
     ]
    }
   ],
   "source": [
    "\n",
    "def have_two_sum_pairs(arr, target):\n",
    "    for i in range(0, len(arr)):\n",
    "        for j in range(i+1, len(arr)-1):\n",
    "            if arr[i] + arr[j] == target:\n",
    "                return True\n",
    "    return False\n",
    "\n",
    "\n",
    "arr = [2,7,11,15]\n",
    "target = 9\n",
    "\n",
    "\n",
    "print(have_two_sum_pairs(arr, target))\n"
   ]
  },
  {
   "cell_type": "markdown",
   "id": "5805fe86-1fc3-4344-a3ab-f87aa12b46cc",
   "metadata": {},
   "source": [
    "Time-complexity ====> O(n**2)  <br>\n",
    "Space-complexity ===> O(1)\n",
    "\n",
    "<br>\n",
    "\n",
    "<span style=\"color: #FC02BB\"> <strong>SOLUTION -2</strong> </span> ===> <span style=\"color: red\">using Set</span> (No need of dictionary)\n",
    "\n",
    "**Hint** - For every element <span style=\"background-color: yellow\"><font size=\"+1\">&nbsp;X&nbsp;</font></span> in the array, check whether <span style=\"background-color: yellow\"><font size=\"+1\">&nbsp;Target - X&nbsp;</font></span> is present  in the dictionary. If yes, then return True or else just keep adding the element x in the dictionary."
   ]
  },
  {
   "cell_type": "code",
   "execution_count": 2,
   "id": "d60434f0-9c8b-4123-b837-fa7bfb5a0141",
   "metadata": {},
   "outputs": [
    {
     "name": "stdout",
     "output_type": "stream",
     "text": [
      "True\n"
     ]
    }
   ],
   "source": [
    "\n",
    "# using dictionary\n",
    "\n",
    "def have_two_sum_pairs(arr, target):\n",
    "    my_dict = {}\n",
    "    for x in arr:\n",
    "        if my_dict.get(target - x, 0) == 0:\n",
    "            my_dict[x] = 1\n",
    "        else:\n",
    "            return True\n",
    "    return False\n",
    "            \n",
    " \n",
    "arr = [2,7,11,15]\n",
    "target = 9\n",
    "\n",
    "\n",
    "print(have_two_sum_pairs(arr, target))\n"
   ]
  },
  {
   "cell_type": "code",
   "execution_count": 3,
   "id": "219e2b0c-9043-494a-a17a-2e140195bb2e",
   "metadata": {},
   "outputs": [
    {
     "name": "stdout",
     "output_type": "stream",
     "text": [
      "True\n"
     ]
    }
   ],
   "source": [
    "\n",
    "# using set\n",
    "\n",
    "def have_two_sum_pairs(arr, target):\n",
    "    arr_set = set()\n",
    "    for x in arr:\n",
    "        if target - x not in arr_set:\n",
    "            arr_set.add(x)\n",
    "        else:\n",
    "            return True\n",
    "    return False\n",
    "            \n",
    " \n",
    "arr = [2,7,11,15]\n",
    "target = 9\n",
    "\n",
    "\n",
    "print(have_two_sum_pairs(arr, target))\n"
   ]
  },
  {
   "cell_type": "markdown",
   "id": "83ecfdb9-71ba-47ac-b667-8356822c89e2",
   "metadata": {},
   "source": [
    "Time-complexity ====> Avg = O(n) but Worst = O(n**2) <br>\n",
    "Space-complexity ===> O(1)\n",
    "\n",
    "<br>\n",
    "\n",
    "<span style=\"color: #FC02BB\"> <strong>SOLUTION -3</strong> </span> ===> <span style=\"color: red\">using 2 pointers</span>\n",
    "\n",
    "**Hint** - We will first sort the array and then take 2 pointers to start comparing one from the begining and another from the end.  <br>\n",
    "\n",
    "<div style=\"border: 1px solid pink; padding: 10px;\">\n",
    "    \n",
    "```python\n",
    "If arr[i] < target:\n",
    "    i++ \n",
    "else if arr[i] > target:\n",
    "    j-- \n",
    "else \n",
    "    return False\n",
    "```\n",
    "</div>"
   ]
  },
  {
   "cell_type": "code",
   "execution_count": 4,
   "id": "8e3ccf19-ce2c-4e37-b338-2c4f731fcc48",
   "metadata": {},
   "outputs": [
    {
     "name": "stdout",
     "output_type": "stream",
     "text": [
      "True\n"
     ]
    }
   ],
   "source": [
    "\n",
    "def have_two_sum_pairs(arr, target):\n",
    "    arr.sort()\n",
    "    i =  0\n",
    "    j = len(arr) - 1\n",
    "    while i < j:\n",
    "        if arr[i] + arr[j] < target:\n",
    "            i = i + 1 \n",
    "        elif arr[i] + arr[j] > target:\n",
    "            j = j - 1\n",
    "        else:\n",
    "            return True\n",
    "    return False\n",
    "\n",
    "\n",
    " \n",
    "arr = [2,7,11,15]\n",
    "target = 9\n",
    "\n",
    "\n",
    "print(have_two_sum_pairs(arr, target))\n"
   ]
  },
  {
   "cell_type": "markdown",
   "id": "06adbf49-698b-4cc8-ba85-cdcb146ea703",
   "metadata": {},
   "source": [
    "<br>\n",
    "\n",
    "<span style=\"background-color: yellow\">&nbsp;**Variant - 2** => Given an array and a target, return indices of the two numbers such that they add up to target.&nbsp;</span>\n",
    "\n",
    "&nbsp;&nbsp;&nbsp;&nbsp;&nbsp;&nbsp;&nbsp;&nbsp;&nbsp;&nbsp;&nbsp;&nbsp;&nbsp;&nbsp;&nbsp;&nbsp;&nbsp;&nbsp;&nbsp;&nbsp;&nbsp;&nbsp;&nbsp;&nbsp;&nbsp;&nbsp;You may assume that each input would have **exactly one solution**, and you may not use the same element twice.\n",
    "\n",
    "&nbsp;&nbsp;&nbsp;&nbsp;&nbsp;&nbsp;&nbsp;&nbsp;&nbsp;&nbsp;&nbsp;&nbsp;&nbsp;&nbsp;&nbsp;&nbsp;&nbsp;&nbsp;&nbsp;&nbsp;&nbsp;&nbsp;&nbsp;&nbsp;&nbsp;&nbsp;You can return the answer in any order.\n",
    "\n",
    "<br>\n",
    "\n",
    "<div style=\"padding: 10px; background-color: #FFF3FF\">\n",
    "    \n",
    "**Hint** - 1. &nbsp;&nbsp; Initialise an empty **dictionary**      <br>\n",
    "&nbsp;&nbsp;&nbsp;&nbsp;&nbsp;&nbsp;&nbsp;&nbsp;&nbsp;&nbsp;&nbsp;2. &nbsp;&nbsp; Iterate over the given array from beiging to end    <br>\n",
    "&nbsp;&nbsp;&nbsp;&nbsp;&nbsp;&nbsp;&nbsp;&nbsp;&nbsp;&nbsp;&nbsp;3. &nbsp;&nbsp; For every element <span style=\"background-color: yellow\"><font size=\"+1\">&nbsp;X&nbsp;</font></span> in the array, check whether <span style=\"background-color: yellow\"><font size=\"+1\">&nbsp;Target - X&nbsp;</font></span> is present in the dictionary or not    <br>\n",
    "&nbsp;&nbsp;&nbsp;&nbsp;&nbsp;&nbsp;&nbsp;&nbsp;&nbsp;&nbsp;&nbsp;4. &nbsp;&nbsp; If not present store the element <span style=\"background-color: yellow\"><font size=\"+1\">&nbsp;X&nbsp;</font></span> in the dictionary along with it's **index** as **key-value** pair      <br>\n",
    "&nbsp;&nbsp;&nbsp;&nbsp;&nbsp;&nbsp;&nbsp;&nbsp;&nbsp;&nbsp;&nbsp;5. &nbsp;&nbsp; If present return the index of both <span style=\"background-color: yellow\"><font size=\"+1\">&nbsp;X&nbsp;</font></span> and <span style=\"background-color: yellow\"><font size=\"+1\">&nbsp;Target - X&nbsp;</font></span>\n",
    "\n",
    "</div>\n"
   ]
  },
  {
   "cell_type": "code",
   "execution_count": 17,
   "id": "a7d17dad-7035-447d-b986-a759c9d81095",
   "metadata": {},
   "outputs": [
    {
     "data": {
      "text/plain": [
       "(1, 0)"
      ]
     },
     "execution_count": 17,
     "metadata": {},
     "output_type": "execute_result"
    }
   ],
   "source": [
    "\n",
    "def two_sum_first_pair(arr, target):\n",
    "    arr_dict = {}\n",
    "    for i in range(0, len(arr)):\n",
    "        if arr_dict.get(target - arr[i], -1) == -1:\n",
    "            arr_dict[arr[i]] = i\n",
    "        else:\n",
    "            return (i, arr_dict[target -arr[i]])\n",
    "    return \"no such pair found\"\n",
    "\n",
    "\n",
    "arr = [2,7,11,15]\n",
    "target = 9\n",
    "\n",
    "two_sum_first_pair(arr, target)\n"
   ]
  },
  {
   "cell_type": "code",
   "execution_count": 18,
   "id": "c9e6a62d-b5a5-4fb1-98ef-6ed5a02c878e",
   "metadata": {},
   "outputs": [
    {
     "data": {
      "text/plain": [
       "(3, 2)"
      ]
     },
     "execution_count": 18,
     "metadata": {},
     "output_type": "execute_result"
    }
   ],
   "source": [
    "\n",
    "arr = [2,7,3,5]\n",
    "target = 8\n",
    "\n",
    "two_sum_first_pair(arr, target)\n"
   ]
  },
  {
   "cell_type": "markdown",
   "id": "d935b8e6-1682-45e6-828f-6fde71af772b",
   "metadata": {},
   "source": [
    "<br>\n",
    "\n",
    "<span style=\"background-color: yellow\">&nbsp;**Variant - 3** => Given an array and a target, return all the pairs of the two numbers such that they add up to target.&nbsp;</span>\n",
    "\n",
    "&nbsp;&nbsp;&nbsp;&nbsp;&nbsp;&nbsp;&nbsp;&nbsp;&nbsp;&nbsp;&nbsp;&nbsp;&nbsp;&nbsp;&nbsp;&nbsp;&nbsp;&nbsp;&nbsp;&nbsp;&nbsp;&nbsp;&nbsp;&nbsp;&nbsp;&nbsp;You can not use the same element twice. However the array may contain duplicates\n",
    "\n",
    "&nbsp;&nbsp;&nbsp;&nbsp;&nbsp;&nbsp;&nbsp;&nbsp;&nbsp;&nbsp;&nbsp;&nbsp;&nbsp;&nbsp;&nbsp;&nbsp;&nbsp;&nbsp;&nbsp;&nbsp;&nbsp;&nbsp;&nbsp;&nbsp;&nbsp;&nbsp;You can return the answer in any order.\n",
    "\n",
    "<br>\n",
    "\n",
    "<div style=\"padding: 10px; background-color: #FFF3FF\">\n",
    "\n",
    "1. &nbsp;&nbsp; Initialise and **empty dictionary** (to temporarily store the elements and compare) and **empty list** (to store the result)   <br>\n",
    "2. &nbsp;&nbsp; Iterate over the given array from begining to end    <br>\n",
    "3. &nbsp;&nbsp; For every element <span style=\"background-color: yellow\"><font size=\"+1\">&nbsp;X&nbsp;</font></span> in the array,                    <br>\n",
    "       &nbsp;&nbsp;&nbsp;&nbsp;&nbsp;&nbsp;&nbsp;&nbsp;3.1 => check whether <span style=\"background-color: yellow\"><font size=\"+1\">&nbsp;Target - X&nbsp;</font></span> is present in the dictionary or not. If present, then store the <span style=\"background-color: yellow\"><font size=\"+1\">&nbsp;(X, Target - X)&nbsp;</font></span> in the **result list**    <br>\n",
    "       &nbsp;&nbsp;&nbsp;&nbsp;&nbsp;&nbsp;&nbsp;&nbsp;3.2 => add the **element and it's index** in the dictionary as key-value pair   <br>\n",
    "\n",
    "</div>"
   ]
  },
  {
   "cell_type": "code",
   "execution_count": 23,
   "id": "2d9597ad-1ec1-4914-9c24-1425da83382a",
   "metadata": {},
   "outputs": [
    {
     "name": "stdout",
     "output_type": "stream",
     "text": [
      "[(5, 3), (6, 2), (4, 4)]\n"
     ]
    }
   ],
   "source": [
    "\n",
    "def two_sum_all_pairs(arr, target):\n",
    "    arr_dict = {}\n",
    "    result = []\n",
    "    for i in range(0, len(arr)):\n",
    "        if arr_dict.get(target - arr[i], -1) != -1:\n",
    "            result.append((arr[i], target - arr[i]))      # list of tuples\n",
    "            # result.append([arr[i], target - arr[i]])    # list of lists\n",
    "        arr_dict[arr[i]] = i\n",
    "    return result\n",
    "\n",
    "\n",
    "arr = [2,7,3,5, 6, 8, 4, 4]\n",
    "target = 8\n",
    "\n",
    "print(two_sum_all_pairs(arr, target))\n"
   ]
  },
  {
   "cell_type": "code",
   "execution_count": null,
   "id": "82d821b3-ff41-4f52-9ad6-f2f641c586d6",
   "metadata": {},
   "outputs": [],
   "source": []
  }
 ],
 "metadata": {
  "kernelspec": {
   "display_name": "Python 3 (ipykernel)",
   "language": "python",
   "name": "python3"
  },
  "language_info": {
   "codemirror_mode": {
    "name": "ipython",
    "version": 3
   },
   "file_extension": ".py",
   "mimetype": "text/x-python",
   "name": "python",
   "nbconvert_exporter": "python",
   "pygments_lexer": "ipython3",
   "version": "3.11.3"
  }
 },
 "nbformat": 4,
 "nbformat_minor": 5
}
