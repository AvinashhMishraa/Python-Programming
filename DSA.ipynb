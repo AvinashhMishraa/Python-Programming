{
 "cells": [
  {
   "cell_type": "markdown",
   "id": "d8fd66ac-7f7c-4c3c-9239-c71dc5181e98",
   "metadata": {},
   "source": [
    "https://leetcode.com/studyplan/top-interview-150/\n",
    "\n",
    "https://takeuforward.org/interviews/strivers-sde-sheet-top-coding-interview-problems"
   ]
  },
  {
   "cell_type": "markdown",
   "id": "123eb9c8-2135-4e8d-9acf-e068f981b9c7",
   "metadata": {
    "jp-MarkdownHeadingCollapsed": true
   },
   "source": [
    "##### <span style=\"color: blue\">1  ===> Binary Search Implementation </span>"
   ]
  },
  {
   "cell_type": "markdown",
   "id": "d096eb4c-adc7-4305-a03a-55c921587687",
   "metadata": {},
   "source": [
    "<br>\n",
    "\n",
    "<span style=\"color: #DCBD10\">▬▬▬▬▬▬▬▬▬▬▬▬▬▬▬▬▬▬▬▬▬▬▬▬▬▬▬▬▬▬▬▬▬▬▬▬▬▬▬▬▬▬▬▬▬▬▬▬▬▬▬▬▬▬▬▬▬▬▬▬▬▬▬▬▬▬▬▬▬▬▬▬▬▬▬▬</span>\n",
    "\n",
    "<br>\n",
    "\n",
    "<div style=\"padding: 10px; background-color: #E2FFEC\">\n",
    "\n",
    "<u>**QUESTION - 1**</u> : &nbsp;Binary Search Implementation\n",
    "\n",
    "</div>\n",
    "\n",
    "<br>\n"
   ]
  },
  {
   "cell_type": "code",
   "execution_count": 35,
   "id": "33c79312-19fd-4c75-93bd-78508a336bde",
   "metadata": {},
   "outputs": [
    {
     "name": "stdout",
     "output_type": "stream",
     "text": [
      "False\n"
     ]
    }
   ],
   "source": [
    "\n",
    "def binary_search(arr, target):\n",
    "    l = 0\n",
    "    r = len(arr) - 1\n",
    "    while l <= r:\n",
    "        mid = int((l + r)/2)   # we could have also used floor function like ====> mid = (l + r) // 2\n",
    "        if target < arr[mid]:\n",
    "            r = mid -1\n",
    "        elif target > arr[mid]:\n",
    "            l = mid + 1\n",
    "        else:\n",
    "            return True\n",
    "            \n",
    "    return False\n",
    "\n",
    "\n",
    "nums = [2, 4, 5, 7, 8, 13, 20, 27]\n",
    "target = 5\n",
    "result = binary_search(nums, 6)\n",
    "print(result)\n",
    "    "
   ]
  },
  {
   "cell_type": "code",
   "execution_count": null,
   "id": "3c02e7d4-4450-4f3a-ad3f-951bd2a01cef",
   "metadata": {},
   "outputs": [],
   "source": []
  },
  {
   "cell_type": "markdown",
   "id": "c47e0844-81e0-4aa9-a780-900597442202",
   "metadata": {
    "jp-MarkdownHeadingCollapsed": true
   },
   "source": [
    "##### <span style=\"color: blue\">2A  ===> Sort an array </span>"
   ]
  },
  {
   "cell_type": "code",
   "execution_count": 24,
   "id": "0a2684d4-e449-4722-871b-0fe2e7dc9dc9",
   "metadata": {},
   "outputs": [
    {
     "data": {
      "text/plain": [
       "[3, 4, 5, 8, 8, 8, 14, 16, 16, 17, 18, 18, 20, 22, 24]"
      ]
     },
     "execution_count": 24,
     "metadata": {},
     "output_type": "execute_result"
    }
   ],
   "source": [
    "\n",
    "def sort_array(nums):\n",
    "        \n",
    "        \"\"\"\n",
    "        This is a sorting done in linear time, a good idea if the range of numbers are small\n",
    "        O(n) time for creating the freq_dict and calculating min and max\n",
    "        O(R) time for the next for loop where R is the range of the list\n",
    "        Total time: O(n+R) and total space: O(n) for creating the freq_dict and the ans array\n",
    "        \"\"\"\n",
    "        \n",
    "        freq_dict = {}\n",
    "        for i in nums:\n",
    "            if i in freq_dict:\n",
    "                freq_dict[i] = freq_dict[i] + 1\n",
    "            else:\n",
    "                freq_dict[i] = 1\n",
    "                \n",
    "        min_num, max_num = min(nums),max(nums)\n",
    "        ans = []\n",
    "        for num in range(min_num, max_num + 1):\n",
    "            if num in freq_dict:\n",
    "                ans.extend([num]*freq_dict[num])\n",
    "        return ans\n",
    "\n",
    "\n",
    "nums = [5, 8, 8, 14, 16, 20, 3, 4, 8, 16, 17, 18, 18, 22, 24]\n",
    "\n",
    "sort_array(nums)\n"
   ]
  },
  {
   "cell_type": "code",
   "execution_count": null,
   "id": "a8bd061d-3d70-4447-8c5e-a094b75e1383",
   "metadata": {},
   "outputs": [],
   "source": []
  },
  {
   "cell_type": "markdown",
   "id": "15d3f26d-4069-4c9e-87df-2e134004d3bb",
   "metadata": {
    "jp-MarkdownHeadingCollapsed": true
   },
   "source": [
    "##### <span style=\"color: blue\">2B  ===> Merge Sort </span>"
   ]
  },
  {
   "cell_type": "markdown",
   "id": "96c5d7f0-76e3-4c49-87b0-6ecd9c57ef35",
   "metadata": {},
   "source": [
    "<br>\n",
    "\n",
    "<span style=\"color: #DCBD10\">▬▬▬▬▬▬▬▬▬▬▬▬▬▬▬▬▬▬▬▬▬▬▬▬▬▬▬▬▬▬▬▬▬▬▬▬▬▬▬▬▬▬▬▬▬▬▬▬▬▬▬▬▬▬▬▬▬▬▬▬▬▬▬▬▬▬▬▬▬▬▬▬▬▬▬▬</span>\n",
    "\n",
    "<br>\n",
    "\n",
    "<div style=\"padding: 10px; background-color: #E2FFEC\">\n",
    "\n",
    "<u>**QUESTION - 2**</u> : &nbsp;Merge Sort\n",
    "\n",
    "</div>\n",
    "\n",
    "<br>\n"
   ]
  },
  {
   "cell_type": "markdown",
   "id": "df25e16a-0fa4-4fbb-8b2d-dc31449f956e",
   "metadata": {},
   "source": [
    "\n",
    "<pre>                                     <code style=\"color: blue\">merge_sort(</code><code style=\"color: #FCB800\">input_array</code><code style=\"color: blue\">,</code> p = </code><code style=\"color: #FCB800\">0</code><code style=\"color: blue\">,</code> r = </code><code style=\"color: #FCB800\">len(input_array) - 1</code><code style=\"color: blue\">)</code></pre>\n",
    "\n",
    "<pre>                                                        if p < r: \n",
    "    \n",
    "                                                             q = (p + r) / 2\n",
    "\n",
    "</pre>\n",
    "\n",
    "<pre>                               <code style=\"color: blue\">merge_sort(</code><code style=\"color: #FCB800\">array</code><code style=\"color: blue\">,</code> </code><code style=\"color: black\">p</code><code style=\"color: blue\">,</code> </code><code style=\"color: red\">q</code><code style=\"color: blue\">)</code>         <span style=\"color: blue\"> █ </span>         <code style=\"color: blue\">merge_sort(</code><code style=\"color: #FCB800\">array</code><code style=\"color: blue\">,</code> </code><code style=\"color: red\">q+1</code><code style=\"color: blue\">,</code> </code><code style=\"color: black\">r</code><code style=\"color: blue\">)</code>\n",
    "</pre>\n",
    "\n",
    "<pre>                                                      <code style=\"color: blue\">merge(</code><code style=\"color: #FCB800\">array</code><code style=\"color: blue\">,</code> </code><code style=\"color: black\">p</code><code style=\"color: blue\">,</code> </code><code style=\"color: red\">q</code><code style=\"color: blue\">,</code> </code><code style=\"color: black\">r</code><code style=\"color: blue\">)</code>\n",
    "\n",
    "</pre>\n",
    "\n",
    "\n",
    "<span style=\"color: #E7D51D\">-----------------------------------------------------------------------------------------------------------------------------------------------------------------------------------------------</span>\n",
    "\n",
    "\n",
    "<summary style=\"color: #ccc; padding: 10px; border-radius: 5px;</summary>\n",
    "<div style=\"padding: 10px; border-radius: 5px;\">\n",
    "\n",
    "|  &nbsp;&nbsp;&nbsp;&nbsp;&nbsp;&nbsp;5&nbsp;&nbsp;&nbsp;&nbsp;&nbsp;&nbsp;   |  &nbsp;&nbsp;&nbsp;&nbsp;&nbsp;&nbsp;4&nbsp;&nbsp;&nbsp;&nbsp;&nbsp;&nbsp;  |  &nbsp;&nbsp;&nbsp;&nbsp;&nbsp;&nbsp;3&nbsp;&nbsp;&nbsp;&nbsp;&nbsp;&nbsp;  |  &nbsp;&nbsp;&nbsp;&nbsp;&nbsp;&nbsp;&nbsp;&nbsp;&nbsp;&nbsp;&nbsp;&nbsp;&nbsp;&nbsp;&nbsp;&nbsp;&nbsp;&nbsp;&nbsp;&nbsp;&nbsp;&nbsp;&nbsp;&nbsp;&nbsp;&nbsp;&nbsp;&nbsp;&nbsp;&nbsp;&nbsp;&nbsp;&nbsp;&nbsp;&nbsp;&nbsp;&nbsp;&nbsp;&nbsp;&nbsp;&nbsp;&nbsp;&nbsp;&nbsp;&nbsp;&nbsp;&nbsp;&nbsp;1&nbsp;&nbsp;&nbsp;&nbsp;&nbsp;&nbsp;  |  &nbsp;&nbsp;&nbsp;&nbsp;&nbsp;&nbsp;1&nbsp;&nbsp;&nbsp;&nbsp;&nbsp;&nbsp; |  &nbsp;&nbsp;&nbsp;&nbsp;&nbsp;&nbsp;8&nbsp;&nbsp;&nbsp;&nbsp;&nbsp;&nbsp;  |\n",
    "|-----|-----|-----|-----|-----|-----|\n",
    "    \n",
    "<pre>\n",
    "      <code style=\"color: blue\">                                 0       1       2                            3       4       5</code>  <br>\n",
    "                                       p       <code style=\"color: red\">q</code>     <code style=\"color: red\">q+1</code> = r                        p       <code style=\"color: red\">q</code>     <code style=\"color: red\">q+1</code> = r\n",
    "\n",
    "                                                              <code style=\"color: blue\">merge(</code><code style=\"color: #FCB800\">array</code><code style=\"color: blue\">,</code> </code><code style=\"color: black\">p</code><code style=\"color: blue\">,</code> </code><code style=\"color: red\">q</code><code style=\"color: blue\">,</code> </code><code style=\"color: black\">r</code><code style=\"color: blue\">)</code>\n",
    "\n",
    "                                       <code style=\"color: #43CA04\"><strong>i ------------->|</strong></code>                            <code style=\"color: #43CA04\"><strong>j ------------->|</strong></code>\n",
    "\n",
    "                                       <code style=\"color: #43CA04\"><strong>k ---------------------------------------------------------->|</strong></code>\n",
    "\n",
    "    <br>\n",
    "                                                    if <span style=\"background-color: #FEFFC5\"><span style=\"color: red\"><strong>i</strong></span> <= <span style=\"color: red\"><strong>q</strong></span></span> and <span style=\"background-color: #FEFFC5\"><span style=\"color: red\"><strong>j</strong></span> <= <span style=\"color: red\"><strong>r</strong></span></span>:\n",
    "                                                        <strong>if</strong> <span style=\"background-color: #DCFFFF\"><span style=\"color: blue\">arr</span>[<span style=\"color: red\"><strong>i</strong></span>] <= <span style=\"color: blue\">arr</span>[<span style=\"color: red\"><strong>j</strong></span>]</span>:\n",
    "                                                            sorted_array.append(<code style=\"color: blue\">arr</code>[<span style=\"color: red\"><strong>i</strong></span>])\n",
    "                                                            <span style=\"color: red\"><strong>i</strong></span> = <span style=\"color: red\"><strong>i</strong></span> + 1\n",
    "                                                        <strong>else</strong>:\n",
    "                                                            sorted_array.append(<code style=\"color: blue\">arr</code>[<span style=\"color: red\"><strong>j</strong></span>])\n",
    "                                                            <span style=\"color: red\"><strong>j</strong></span> = <span style=\"color: red\"><strong>j</strong></span> + 1        \n",
    "                                                    elif <span style=\"background-color: #FEFFC5\"><span style=\"color: red\"><strong>i</strong></span> > <span style=\"color: red\"><strong>q</strong></span></span> and <span style=\"background-color: #FEFFC5\"><span style=\"color: red\"><strong>j</strong></span> <= <span style=\"color: red\"><strong>r</strong></span></span>:\n",
    "                                                            sorted_array.append(<code style=\"color: blue\">arr</code>[<span style=\"color: red\"><strong>j</strong></span>])\n",
    "                                                            <span style=\"color: red\"><strong>j</strong></span> = <span style=\"color: red\"><strong>j</strong></span> + 1\n",
    "                                                    elif <span style=\"background-color: #FEFFC5\"><span style=\"color: red\"><strong>j</strong></span> > <span style=\"color: red\"><strong>r</strong></span></span> and <span style=\"background-color: #FEFFC5\"><span style=\"color: red\"><strong>i</strong></span> <= <span style=\"color: red\"><strong>q</strong></span></span>:\n",
    "                                                            sorted_array.append(<code style=\"color: blue\">arr</code>[<span style=\"color: red\"><strong>i</strong></span>])\n",
    "                                                            <span style=\"color: red\"><strong>i</strong></span> = <span style=\"color: red\"><strong>i</strong></span> + 1\n",
    "</pre>\n",
    "</div>\n",
    "\n",
    "<br>\n",
    "\n",
    "<span style=\"color: red\">You can think in terms of **left order traversal** to undertand how things are working here</span>\n",
    "\n",
    "<br>\n",
    "\n",
    "<span style=\"color: #FC02BB\"> <strong>SOLUTION - 1</strong> </span>"
   ]
  },
  {
   "cell_type": "code",
   "execution_count": 45,
   "id": "21123ed0-8f0d-4348-842c-e7e04b0e5e13",
   "metadata": {},
   "outputs": [
    {
     "name": "stdout",
     "output_type": "stream",
     "text": [
      "[3, 4, 5, 8, 8, 8, 14, 16, 16, 17, 18, 18, 20, 22, 24]\n"
     ]
    }
   ],
   "source": [
    "\n",
    "def merge_sort(arr, p, r): \n",
    "    if (p < r): \n",
    "        q = int((p + r) / 2)\n",
    "        merge_sort(arr, p, q)        # recursion\n",
    "        merge_sort(arr, q+1, r)      # recursion\n",
    "        merge(arr, p, q, r)          # recursion\n",
    "    return arr\n",
    "\n",
    "\n",
    "def merge(arr, p, q, r):\n",
    "    sorted_array = []\n",
    "    i = p\n",
    "    j = q + 1\n",
    "    for k in range(p, r+1):\n",
    "        if i <= q and j <= r and arr[i] <= arr[j]:\n",
    "                sorted_array.append(arr[i])\n",
    "                i = i + 1\n",
    "        elif i <= q and j <= r and arr[i] > arr[j]:\n",
    "                sorted_array.append(arr[j])\n",
    "                j = j + 1        \n",
    "        elif i > q and j <= r:\n",
    "                sorted_array.append(arr[j])\n",
    "                j = j + 1\n",
    "        elif j > r and i <= q:\n",
    "                sorted_array.append(arr[i])\n",
    "                i = i + 1\n",
    "    for i in range(p, r+1):          # copying the elements of the 'sorted_array' back in the 'arr'\n",
    "        arr[i] = sorted_array[i-p]\n",
    "\n",
    "    return arr\n",
    "\n",
    "\n",
    "input_array = [5, 8, 8, 14, 16, 20, 3, 4, 8, 16, 17, 18, 18, 22, 24]\n",
    "\n",
    "result = merge_sort(input_array, 0, len(input_array) - 1)\n",
    "\n",
    "print(result)\n"
   ]
  },
  {
   "cell_type": "code",
   "execution_count": 49,
   "id": "83276479-46ca-494a-ac97-fbb28ce9d748",
   "metadata": {},
   "outputs": [
    {
     "name": "stdout",
     "output_type": "stream",
     "text": [
      "[3, 4, 5, 8, 8, 8, 14, 16, 16, 17, 18, 18, 20, 22, 24]\n"
     ]
    }
   ],
   "source": [
    "\n",
    "def merge_sort(arr, p, r): \n",
    "    if (p < r): \n",
    "        q = int((p + r) / 2)\n",
    "        merge_sort(arr, p, q)        # recursion\n",
    "        merge_sort(arr, q+1, r)      # recursion\n",
    "        merge(arr, p, q, r)          # recursion\n",
    "    return arr\n",
    "\n",
    "\n",
    "def merge(arr, p, q, r):\n",
    "    sorted_array = []\n",
    "    i = p\n",
    "    j = q + 1\n",
    "    for k in range(p, r+1):\n",
    "        if i <= q and j <= r:\n",
    "            if arr[i] <= arr[j]:\n",
    "                sorted_array.append(arr[i])\n",
    "                i = i + 1\n",
    "            else:\n",
    "                sorted_array.append(arr[j])\n",
    "                j = j + 1        \n",
    "        elif i > q and j <= r:\n",
    "                sorted_array.append(arr[j])\n",
    "                j = j + 1\n",
    "        elif j > r and i <= q:\n",
    "                sorted_array.append(arr[i])\n",
    "                i = i + 1\n",
    "    for i in range(p, r+1):          # copying the elements of the 'sorted_array' back in the 'arr'\n",
    "        arr[i] = sorted_array[i-p]\n",
    "\n",
    "    return arr\n",
    "\n",
    "\n",
    "input_array = [5, 8, 8, 14, 16, 20, 3, 4, 8, 16, 17, 18, 18, 22, 24]\n",
    "\n",
    "result = merge_sort(input_array, 0, len(input_array) - 1)\n",
    "\n",
    "print(result)\n"
   ]
  },
  {
   "cell_type": "markdown",
   "id": "667fb8ad-933f-4bdb-927b-e3ce9336a1bb",
   "metadata": {},
   "source": [
    "<br>\n",
    "\n",
    "<span style=\"color: blue\">Since **Python is call by reference**, therefore it sends only the address, not the object itself. Thus the object remains the same.\n",
    "So, even if we does not return the array, it will work. Because, the modifications in the given array are being done **in-place**.</span> \n",
    "\n",
    "<br>\n",
    "\n",
    "<span style=\"color: red\"><font size=\"+2\">↳</font>&nbsp;</span><font size=\"+2\">⭐</font><span style=\"color: red\"><font size=\"+2\">↴</font>&nbsp;</span>"
   ]
  },
  {
   "cell_type": "code",
   "execution_count": 53,
   "id": "85520437-c3e9-4e7a-be50-3d8d6ca59320",
   "metadata": {},
   "outputs": [
    {
     "name": "stdout",
     "output_type": "stream",
     "text": [
      "[3, 4, 5, 8, 8, 8, 14, 16, 16, 17, 18, 18, 20, 22, 24]\n"
     ]
    }
   ],
   "source": [
    "\n",
    "def merge_sort(arr, p, r): \n",
    "    if (p < r): \n",
    "        q = int((p + r) / 2)\n",
    "        merge_sort(arr, p, q)        # recursion\n",
    "        merge_sort(arr, q+1, r)      # recursion\n",
    "        merge(arr, p, q, r)          # recursion\n",
    "\n",
    "\n",
    "def merge(arr, p, q, r):\n",
    "    sorted_array = []\n",
    "    i = p\n",
    "    j = q + 1\n",
    "    for k in range(p, r+1):\n",
    "        if i <= q and j <= r:\n",
    "            if arr[i] <= arr[j]:\n",
    "                sorted_array.append(arr[i])\n",
    "                i = i + 1\n",
    "            else:\n",
    "                sorted_array.append(arr[j])\n",
    "                j = j + 1        \n",
    "        elif i > q and j <= r:\n",
    "                sorted_array.append(arr[j])\n",
    "                j = j + 1\n",
    "        elif j > r and i <= q:\n",
    "                sorted_array.append(arr[i])\n",
    "                i = i + 1\n",
    "    for i in range(p, r+1):          # copying the elements of the 'sorted_array' back in the 'arr'\n",
    "        arr[i] = sorted_array[i-p]\n",
    "\n",
    "\n",
    "input_array = [5, 8, 8, 14, 16, 20, 3, 4, 8, 16, 17, 18, 18, 22, 24]\n",
    "\n",
    "merge_sort(input_array, 0, len(input_array) - 1)\n",
    "\n",
    "print(input_array)\n"
   ]
  },
  {
   "cell_type": "markdown",
   "id": "68295d8a-f727-4306-97f4-e33fe1c1e570",
   "metadata": {},
   "source": [
    "\n",
    "<br>\n",
    "\n",
    "<span style=\"color:#FC02BB\"> <strong>SOLUTION - 2</strong> \n",
    "\n",
    "</span> The merge code can be optimized like the following:\n",
    "<pre>\n",
    "    <br>\n",
    "                                 if ( <span style=\"background-color: #FEFFC5\"><span style=\"color: red\"><strong>i</strong></span> <= <span style=\"color: red\"><strong>q</strong></span></span> and <span style=\"background-color: #FEFFC5\"><span style=\"color: red\"><strong>j</strong></span> <= <span style=\"color: red\"><strong>r</strong></span></span> and <span style=\"background-color: #DCFFFF\"><span style=\"color: blue\">arr</span>[<span style=\"color: red\"><strong>i</strong></span>] <= <span style=\"color: blue\">arr</span>[<span style=\"color: red\"><strong>j</strong></span>]</span> ) or ( <span style=\"background-color: #FEFFC5\"><span style=\"color: red\"><strong>j</strong></span> > <span style=\"color: red\"><strong>r</strong></span></span> and <span style=\"background-color: #FEFFC5\"><span style=\"color: red\"><strong>i</strong></span> <= <span style=\"color: red\"><strong>q</strong></span></span> ):\n",
    "                                        sorted_array.append(<code style=\"color: blue\">arr</code>[<span style=\"color: red\"><strong>i</strong></span>])\n",
    "                                        <span style=\"color: red\"><strong>i</strong></span> = <span style=\"color: red\"><strong>i</strong></span> + 1\n",
    "                                     \n",
    "                                 elsif ( <span style=\"background-color: #FEFFC5\"><span style=\"color: red\"><strong>i</strong></span> <= <span style=\"color: red\"><strong>q</strong></span></span> and <span style=\"background-color: #FEFFC5\"><span style=\"color: red\"><strong>j</strong></span> <= <span style=\"color: red\"><strong>r</strong></span></span> and <span style=\"background-color: #DCFFFF\"><span style=\"color: blue\">arr</span>[<span style=\"color: red\"><strong>i</strong></span>] > <span style=\"color: blue\">arr</span>[<span style=\"color: red\"><strong>j</strong></span>]</span> ) or ( <span style=\"background-color: #FEFFC5\"><span style=\"color: red\"><strong>i</strong></span> > <span style=\"color: red\"><strong>q</strong></span ></span> and <span style=\"background-color: #FEFFC5\"><span style=\"color: red\"><strong>j</strong></span> <= <span style=\"color: red\"><strong>r</strong></span></span> ):\n",
    "                                        sorted_array.append(<code style=\"color: blue\">arr</code>[<span style=\"color: red\"><strong>j</strong></span>])\n",
    "                                        <span style=\"color: red\"><strong>j</strong></span> = <span style=\"color: red\"><strong>j</strong></span> + 1                                                         \n",
    "</pre>\n",
    "</div>\n",
    "\n",
    "<br>\n",
    "</pre>"
   ]
  },
  {
   "cell_type": "code",
   "execution_count": 52,
   "id": "cbfaa566-10dd-43c2-86e9-51a1154de27d",
   "metadata": {},
   "outputs": [
    {
     "name": "stdout",
     "output_type": "stream",
     "text": [
      "[3, 4, 5, 8, 8, 8, 14, 16, 16, 17, 18, 18, 20, 22, 24]\n"
     ]
    }
   ],
   "source": [
    "\n",
    "def merge_sort(arr, p, r): \n",
    "    if (p < r): \n",
    "        q = int((p + r) / 2)\n",
    "        merge_sort(arr, p, q)        # recursion\n",
    "        merge_sort(arr, q+1, r)      # recursion\n",
    "        merge(arr, p, q, r)\n",
    "\n",
    "\n",
    "def merge(arr, p, q, r):\n",
    "    sorted_array = []\n",
    "    i = p\n",
    "    j = q + 1\n",
    "    for k in range(p, r+1):\n",
    "        if ( i <= q and j <= r and arr[i] <= arr[j] ) or ( j > r and i <= q ):\n",
    "            sorted_array.append(arr[i])\n",
    "            i += 1\n",
    "        elif ( i <= q and j <= r and arr[i] > arr[j] ) or ( i > q and j <= r ):\n",
    "            sorted_array.append(arr[j])\n",
    "            j += 1\n",
    "            \n",
    "    # copying the elements of the 'sorted_array' back in the 'arr'\n",
    "    for i in range(p, r+1):\n",
    "        arr[i] = sorted_array[i-p]\n",
    "\n",
    "\n",
    "input_array = [5, 8, 8, 14, 16, 20, 3, 4, 8, 16, 17, 18, 18, 22, 24]\n",
    "\n",
    "merge_sort(input_array, 0, len(input_array) - 1)\n",
    "\n",
    "print(input_array)\n"
   ]
  },
  {
   "cell_type": "code",
   "execution_count": null,
   "id": "207b2122-d393-4c87-9474-a9123c3ee432",
   "metadata": {},
   "outputs": [],
   "source": []
  },
  {
   "cell_type": "markdown",
   "id": "490478d9-5687-4b2e-a8af-aff7449a9dbd",
   "metadata": {
    "jp-MarkdownHeadingCollapsed": true
   },
   "source": [
    "##### <span style=\"color: blue\">3  ===> 2 Sum </span>"
   ]
  },
  {
   "cell_type": "markdown",
   "id": "56c27b7d-2b39-4e7b-8eb1-0befdb2490a9",
   "metadata": {},
   "source": [
    "<br>\n",
    "\n",
    "<span style=\"color: #DCBD10\">▬▬▬▬▬▬▬▬▬▬▬▬▬▬▬▬▬▬▬▬▬▬▬▬▬▬▬▬▬▬▬▬▬▬▬▬▬▬▬▬▬▬▬▬▬▬▬▬▬▬▬▬▬▬▬▬▬▬▬▬▬▬▬▬▬▬▬▬▬▬▬▬▬▬▬▬</span>\n",
    "\n",
    "<br>\n",
    "\n",
    "<div style=\"padding: 10px; background-color: #E2FFEC\">\n",
    "\n",
    "<u>**QUESTION - 3**</u> : &nbsp;2 Sum\n",
    "\n",
    "</div>\n",
    "\n",
    "<br>\n",
    "\n",
    "<span style=\"background-color: yellow\">&nbsp;**Variant - 1** => Check if there is atleast 1 such pair in an array whose sum is equal to the given target value&nbsp;</span>\n",
    "\n",
    "<br>\n",
    "\n",
    "<span style=\"color: #FC02BB\"> <strong>SOLUTION - 1</strong> </span> ===> <span style=\"color: red\">Brute Force</span>\n",
    "\n",
    "**Hint** - Find all possible pairs for each number in the given array."
   ]
  },
  {
   "cell_type": "code",
   "execution_count": 1,
   "id": "fc3e610d-bb1c-44fb-80e7-493e0fc307e3",
   "metadata": {},
   "outputs": [
    {
     "name": "stdout",
     "output_type": "stream",
     "text": [
      "True\n"
     ]
    }
   ],
   "source": [
    "\n",
    "def have_two_sum_pairs(arr, target):\n",
    "    for i in range(0, len(arr)):\n",
    "        for j in range(i+1, len(arr)-1):\n",
    "            if arr[i] + arr[j] == target:\n",
    "                return True\n",
    "    return False\n",
    "\n",
    "\n",
    "arr = [2,7,11,15]\n",
    "target = 9\n",
    "\n",
    "\n",
    "print(have_two_sum_pairs(arr, target))\n"
   ]
  },
  {
   "cell_type": "markdown",
   "id": "5805fe86-1fc3-4344-a3ab-f87aa12b46cc",
   "metadata": {},
   "source": [
    "Time-complexity ====> O(n**2)  <br>\n",
    "Space-complexity ===> O(1)\n",
    "\n",
    "<br>\n",
    "\n",
    "<span style=\"color: #FC02BB\"> <strong>SOLUTION - 2</strong> </span> ===> <span style=\"color: red\">using Set</span> (No need of dictionary)\n",
    "\n",
    "**Hint** - For every element <code style=\"background-color: yellow\">&nbsp;X&nbsp;</code> in the array, check whether <code style=\"background-color: yellow\">&nbsp;Target - X&nbsp;</code> is present in the **set** or not. If yes, then return True or else just keep adding the element x in the dictionary."
   ]
  },
  {
   "cell_type": "code",
   "execution_count": 55,
   "id": "d60434f0-9c8b-4123-b837-fa7bfb5a0141",
   "metadata": {},
   "outputs": [
    {
     "name": "stdout",
     "output_type": "stream",
     "text": [
      "True\n"
     ]
    }
   ],
   "source": [
    "\n",
    "# using DICTIONARY\n",
    "\n",
    "def have_two_sum_pairs(arr, target):\n",
    "    my_dict = {}\n",
    "    for x in arr:\n",
    "        if my_dict.get(target - x, 0) == 0:\n",
    "            my_dict[x] = 1\n",
    "        else:\n",
    "            return True\n",
    "    return False\n",
    "            \n",
    " \n",
    "arr = [2,7,11,15]\n",
    "target = 9\n",
    "\n",
    "\n",
    "print(have_two_sum_pairs(arr, target))\n"
   ]
  },
  {
   "cell_type": "code",
   "execution_count": 56,
   "id": "219e2b0c-9043-494a-a17a-2e140195bb2e",
   "metadata": {},
   "outputs": [
    {
     "name": "stdout",
     "output_type": "stream",
     "text": [
      "True\n"
     ]
    }
   ],
   "source": [
    "\n",
    "# using SET\n",
    "\n",
    "def have_two_sum_pairs(arr, target):\n",
    "    arr_set = set()\n",
    "    for x in arr:\n",
    "        if target - x not in arr_set:   # to check if an element (x) is present in a set (arr_set) or not, we can also use arr_set.__contains__(x)\n",
    "            arr_set.add(x)\n",
    "        else:\n",
    "            return True\n",
    "    return False\n",
    "            \n",
    " \n",
    "arr = [2, 7, 11, 15]\n",
    "target = 9\n",
    "\n",
    "\n",
    "print(have_two_sum_pairs(arr, target))\n"
   ]
  },
  {
   "cell_type": "markdown",
   "id": "83ecfdb9-71ba-47ac-b667-8356822c89e2",
   "metadata": {},
   "source": [
    "Time-complexity ====> Avg = O(n) but Worst = O(n**2) <br>\n",
    "Space-complexity ===> O(1)\n",
    "\n",
    "<br>\n",
    "\n",
    "<span style=\"color: #FC02BB\"> <strong>SOLUTION - 3</strong> </span> ===> <span style=\"color: red\">using 2 pointers</span>\n",
    "\n",
    "**Hint** - We will first sort the array and then take 2 pointers to start comparing one from the begining and another from the end.  <br>\n",
    "\n",
    "<div style=\"border: 1px solid pink; padding: 10px;\">\n",
    "    \n",
    "```python\n",
    "If arr[i] < target:\n",
    "    i++ \n",
    "else if arr[i] > target:\n",
    "    j-- \n",
    "else \n",
    "    return False\n",
    "```\n",
    "</div>"
   ]
  },
  {
   "cell_type": "code",
   "execution_count": 4,
   "id": "8e3ccf19-ce2c-4e37-b338-2c4f731fcc48",
   "metadata": {},
   "outputs": [
    {
     "name": "stdout",
     "output_type": "stream",
     "text": [
      "True\n"
     ]
    }
   ],
   "source": [
    "\n",
    "def have_two_sum_pairs(arr, target):\n",
    "    arr.sort()\n",
    "    i =  0\n",
    "    j = len(arr) - 1\n",
    "    while i < j:\n",
    "        if arr[i] + arr[j] < target:\n",
    "            i = i + 1 \n",
    "        elif arr[i] + arr[j] > target:\n",
    "            j = j - 1\n",
    "        else:\n",
    "            return True\n",
    "    return False\n",
    "\n",
    "\n",
    " \n",
    "arr = [2,7,11,15]\n",
    "target = 9\n",
    "\n",
    "\n",
    "print(have_two_sum_pairs(arr, target))\n"
   ]
  },
  {
   "cell_type": "markdown",
   "id": "06adbf49-698b-4cc8-ba85-cdcb146ea703",
   "metadata": {},
   "source": [
    "<br>\n",
    "\n",
    "<span style=\"background-color: yellow\">&nbsp;**Variant - 2** => Given an array and a target, return indices of the two numbers such that they add up to target.&nbsp;</span>\n",
    "\n",
    "&nbsp;&nbsp;&nbsp;&nbsp;&nbsp;&nbsp;&nbsp;&nbsp;&nbsp;&nbsp;&nbsp;&nbsp;&nbsp;&nbsp;&nbsp;&nbsp;&nbsp;&nbsp;&nbsp;&nbsp;&nbsp;&nbsp;&nbsp;&nbsp;&nbsp;&nbsp;You may assume that each input would have **exactly one solution**, and you may not use the same element twice.\n",
    "\n",
    "&nbsp;&nbsp;&nbsp;&nbsp;&nbsp;&nbsp;&nbsp;&nbsp;&nbsp;&nbsp;&nbsp;&nbsp;&nbsp;&nbsp;&nbsp;&nbsp;&nbsp;&nbsp;&nbsp;&nbsp;&nbsp;&nbsp;&nbsp;&nbsp;&nbsp;&nbsp;You can return the answer in any order.\n",
    "\n",
    "<br>\n",
    "\n",
    "<div style=\"padding: 10px; background-color: #FFF3FF\">\n",
    "    \n",
    "**Hint** - 1. &nbsp;&nbsp; Initialise an empty **dictionary**      <br>\n",
    "&nbsp;&nbsp;&nbsp;&nbsp;&nbsp;&nbsp;&nbsp;&nbsp;&nbsp;&nbsp;&nbsp;2. &nbsp;&nbsp; Iterate over the given array from beiging to end    <br>\n",
    "&nbsp;&nbsp;&nbsp;&nbsp;&nbsp;&nbsp;&nbsp;&nbsp;&nbsp;&nbsp;&nbsp;3. &nbsp;&nbsp; For every element <code style=\"background-color: yellow\">&nbsp;X&nbsp;</code> in the array, check whether <code style=\"background-color: yellow\">&nbsp;Target - X&nbsp;</code> is present in the dictionary or not    <br>\n",
    "&nbsp;&nbsp;&nbsp;&nbsp;&nbsp;&nbsp;&nbsp;&nbsp;&nbsp;&nbsp;&nbsp;4. &nbsp;&nbsp; If not present store the element <code style=\"background-color: yellow\">&nbsp;X&nbsp;</code> in the dictionary along with it's **index** as **key-value** pair      <br>\n",
    "&nbsp;&nbsp;&nbsp;&nbsp;&nbsp;&nbsp;&nbsp;&nbsp;&nbsp;&nbsp;&nbsp;5. &nbsp;&nbsp; If present return the index of both <code style=\"background-color: yellow\">&nbsp;X&nbsp;</code> and <code style=\"background-color: yellow\">&nbsp;Target - X&nbsp;</code>\n",
    "\n",
    "</div>\n"
   ]
  },
  {
   "cell_type": "code",
   "execution_count": 28,
   "id": "a7d17dad-7035-447d-b986-a759c9d81095",
   "metadata": {},
   "outputs": [
    {
     "data": {
      "text/plain": [
       "(1, 0)"
      ]
     },
     "execution_count": 28,
     "metadata": {},
     "output_type": "execute_result"
    }
   ],
   "source": [
    "\n",
    "def two_sum_first_pair(arr, target):\n",
    "    arr_dict = {}\n",
    "    for i in range(0, len(arr)):\n",
    "        if arr_dict.get(target - arr[i], -1) == -1:\n",
    "            arr_dict[arr[i]] = i\n",
    "        else:\n",
    "            return (i, arr_dict[target -arr[i]])\n",
    "    return \"no such pair found\"\n",
    "\n",
    "\n",
    "arr = [2,7,11,15]\n",
    "target = 9\n",
    "\n",
    "two_sum_first_pair(arr, target)\n"
   ]
  },
  {
   "cell_type": "code",
   "execution_count": 29,
   "id": "c9e6a62d-b5a5-4fb1-98ef-6ed5a02c878e",
   "metadata": {},
   "outputs": [
    {
     "data": {
      "text/plain": [
       "(3, 2)"
      ]
     },
     "execution_count": 29,
     "metadata": {},
     "output_type": "execute_result"
    }
   ],
   "source": [
    "\n",
    "arr = [2,7,3,5]\n",
    "target = 8\n",
    "\n",
    "two_sum_first_pair(arr, target)\n"
   ]
  },
  {
   "cell_type": "markdown",
   "id": "d935b8e6-1682-45e6-828f-6fde71af772b",
   "metadata": {},
   "source": [
    "<br>\n",
    "\n",
    "<span style=\"background-color: yellow\">&nbsp;**Variant - 3** => Given an array and a target, return all the pairs of the two numbers such that they add up to target.&nbsp;</span>\n",
    "\n",
    "&nbsp;&nbsp;&nbsp;&nbsp;&nbsp;&nbsp;&nbsp;&nbsp;&nbsp;&nbsp;&nbsp;&nbsp;&nbsp;&nbsp;&nbsp;&nbsp;&nbsp;&nbsp;&nbsp;&nbsp;&nbsp;&nbsp;&nbsp;&nbsp;&nbsp;&nbsp;You can not use the same element twice. However the array may contain duplicates\n",
    "\n",
    "&nbsp;&nbsp;&nbsp;&nbsp;&nbsp;&nbsp;&nbsp;&nbsp;&nbsp;&nbsp;&nbsp;&nbsp;&nbsp;&nbsp;&nbsp;&nbsp;&nbsp;&nbsp;&nbsp;&nbsp;&nbsp;&nbsp;&nbsp;&nbsp;&nbsp;&nbsp;You can return the answer in any order.\n",
    "\n",
    "<br>\n",
    "\n",
    "<span style=\"color: #FC02BB\"> <strong>SOLUTION - 1</strong> </span> ===> <span style=\"color: red\">Brute Force</span>\n",
    "\n",
    "**Hint** - Check for each pair\n"
   ]
  },
  {
   "cell_type": "code",
   "execution_count": 30,
   "id": "5ac45dd3-55fb-4c0c-80e8-3125401f0ca6",
   "metadata": {},
   "outputs": [
    {
     "name": "stdout",
     "output_type": "stream",
     "text": [
      "[[2, 6], [3, 5], [4, 4]]\n"
     ]
    }
   ],
   "source": [
    "\n",
    "def two_sum_all_pairs(arr, target):\n",
    "    result = []\n",
    "    for i in range(0, len(arr)):\n",
    "        for j in range(i+1, len(arr)):\n",
    "            if arr[i] + arr[j] == target:\n",
    "                result.append([arr[i], arr[j]])\n",
    "    return result\n",
    "\n",
    "\n",
    "arr = [2, 7, 3, 5, 6, 8, 4, 4]\n",
    "target = 8\n",
    "\n",
    "print(two_sum_all_pairs(arr, target))\n"
   ]
  },
  {
   "cell_type": "markdown",
   "id": "645151f9-7b8c-45a6-bc0d-c1d94545288c",
   "metadata": {},
   "source": [
    "<br>\n",
    "\n",
    "<span style=\"color: #FC02BB\"> <strong>SOLUTION - 2</strong> </span> ===> <span style=\"color: red\">using **set**</span>\n",
    "\n",
    "<div style=\"padding: 10px; background-color: #FFF3FF\">\n",
    "\n",
    "1. &nbsp;&nbsp; Initialise an **empty set** (to temporarily store the elements and compare) and <br>\n",
    "&nbsp;&nbsp;&nbsp;&nbsp;&nbsp;&nbsp;&nbsp;&nbsp;&nbsp;&nbsp;&nbsp;&nbsp;&nbsp;&nbsp;&nbsp;&nbsp;&nbsp;an **empty set** (to store the duplets temporarirly and also ensure no 2 duplicates are same)   <br>\n",
    "&nbsp;&nbsp;&nbsp;&nbsp;&nbsp;&nbsp;&nbsp;&nbsp;&nbsp;&nbsp;&nbsp;&nbsp;&nbsp;&nbsp;&nbsp;&nbsp;&nbsp;an **empty list** (to store the final resut as list of lists)   <br>\n",
    "\n",
    "2. &nbsp;&nbsp; Iterate over the given array from begining to end    <br>\n",
    "\n",
    "3. &nbsp;&nbsp; For every element &nbsp;<code style=\"background-color: yellow\">&nbsp;X&nbsp;</code>&nbsp; in the array, check whether &nbsp;<code style=\"background-color: yellow\">&nbsp;Target - X&nbsp;</code>&nbsp; is present in the set or not. <br>\n",
    "&nbsp;&nbsp;&nbsp;If present, then store the duplet &nbsp;<code style=\"background-color: yellow\">&nbsp;[X, Target - X]&nbsp;</code>&nbsp; as a list so that each duplet can be **first sorted and then added in the result set**\n",
    "\n",
    "</div>"
   ]
  },
  {
   "cell_type": "code",
   "execution_count": 97,
   "id": "bd21b2ad-9cf3-440d-8d57-47d0b1b12793",
   "metadata": {},
   "outputs": [
    {
     "name": "stdout",
     "output_type": "stream",
     "text": [
      "[[3, 5], [2, 6], [6, 2], [4, 4]]\n"
     ]
    }
   ],
   "source": [
    "\n",
    "def two_sum_all_pairs(arr, target):\n",
    "    arr_set = set()\n",
    "    result = []\n",
    "    for x in arr:\n",
    "        if target - x in arr_set:                # to check if an element (x) is present in a set (arr_set), we can also use arr_set.__contains__(x)\n",
    "            result.append([target- x, x])        # list of lists\n",
    "            # result.append((target- x, x))      # list of tuples\n",
    "        arr_set.add(x)\n",
    "    return result\n",
    "\n",
    "\n",
    "arr = [2, 7, 3, 5, 6, 8, 2, 4, 4]\n",
    "target = 8\n",
    "\n",
    "print(two_sum_all_pairs(arr, target))\n"
   ]
  },
  {
   "cell_type": "markdown",
   "id": "7b721b0c-479a-41ff-9be3-e32223efc998",
   "metadata": {},
   "source": [
    "<span style=\"color: blue\">We need to remove duplicates from the result because (2,6) is effectively same as (6,2) only.</span> <br>\n",
    "<span style=\"color: blue\">This can be easily achieved using **set** to remove the duplicates.</span>"
   ]
  },
  {
   "cell_type": "code",
   "execution_count": 104,
   "id": "c8444b65-640c-423e-9673-6cfa2ee6a08c",
   "metadata": {},
   "outputs": [
    {
     "name": "stdout",
     "output_type": "stream",
     "text": [
      "{(4, 4), (2, 6), (3, 5)}\n"
     ]
    }
   ],
   "source": [
    "\n",
    "def two_sum_all_pairs(arr, target):\n",
    "    arr_set = set()\n",
    "    result_set = set()\n",
    "    for x in arr:\n",
    "        if target - x in arr_set:           # to check if an element (x) is present in a set (arr_set), we can also use arr_set.__contains__(x)\n",
    "            duplet = [target- x, x]\n",
    "            duplet.sort()\n",
    "            # result_set.add(duplet)        # =====> Error: TypeError: unhashable type: 'list'\n",
    "            result_set.add(tuple(duplet))   # since we cannot add a list to a set, we need to first convert it into a tuple and then add in it.\n",
    "        arr_set.add(x)\n",
    "    return result_set\n",
    "\n",
    "\n",
    "arr = [2, 7, 3, 5, 6, 8, 2, 4, 4]\n",
    "target = 8\n",
    "\n",
    "print(two_sum_all_pairs(arr, target))\n"
   ]
  },
  {
   "cell_type": "markdown",
   "id": "8798517c-3319-4fcc-a2c7-bd93c6926d2d",
   "metadata": {},
   "source": [
    "<br>\n",
    "\n",
    "However, instead of using **set**, we could have used **dicitionary** too. <span style=\"color: red\">But why to use dictionary when we can do it using set itself</span> 🤔❓\n",
    "\n",
    "<br>"
   ]
  },
  {
   "cell_type": "code",
   "execution_count": 87,
   "id": "fc02c8bb-0cfc-4b83-ac32-c9e47629a156",
   "metadata": {},
   "outputs": [
    {
     "name": "stdout",
     "output_type": "stream",
     "text": [
      "[(5, 3), (6, 2), (4, 4)]\n"
     ]
    }
   ],
   "source": [
    "\n",
    "def two_sum_all_pairs(arr, target):\n",
    "    arr_dict = {}\n",
    "    result = []\n",
    "    for i in range(0, len(arr)):\n",
    "        if arr_dict.get(target - arr[i], -1) != -1:\n",
    "            result.append((arr[i], target - arr[i]))\n",
    "        arr_dict[arr[i]] = i    # storing the index i of ar[i] as key-value {arr[i] : i} pair\n",
    "    return result\n",
    "\n",
    "arr = [2, 7, 3, 5, 6, 8, 4, 4]\n",
    "target = 8\n",
    "\n",
    "print(two_sum_all_pairs(arr, target))\n"
   ]
  },
  {
   "cell_type": "markdown",
   "id": "f73ccf66-b2ce-475f-9673-2e4469030eff",
   "metadata": {},
   "source": [
    "<br>\n",
    "\n",
    "<span style=\"color: #FC02BB\"> <strong>SOLUTION - 3</strong> </span> ===> <span style=\"color: red\">using **2 pointers**</span>\n",
    "\n",
    "\n",
    "<div style=\"padding: 10px; background-color: #FFF3FF\">\n",
    "\n",
    "1. &nbsp;&nbsp; **Sort** the given array   <br>\n",
    "\n",
    "2. &nbsp;&nbsp; Initialize **2 pointers** ===> &nbsp;<code style=\"background-color: yellow\">&nbsp;i = 0&nbsp;</code>&nbsp; and &nbsp;<code style=\"background-color: yellow\">&nbsp;j = len(arr) - 1&nbsp;</code>&nbsp;    <br>\n",
    "\n",
    "3. &nbsp;&nbsp; **Iterate until** &nbsp;<code style=\"background-color: yellow\">&nbsp;i < j&nbsp;</code>&nbsp; and keep checking <br>\n",
    "\n",
    "&nbsp;&nbsp;&nbsp;&nbsp;&nbsp;&nbsp;&nbsp;&nbsp;&nbsp;&nbsp;&nbsp;3.1. &nbsp;&nbsp; If  &nbsp;<code style=\"background-color: yellow\">&nbsp;arr[ i ] + arr[ j ] == target&nbsp;</code> , <br>\n",
    "&nbsp;&nbsp;&nbsp;&nbsp;&nbsp;&nbsp;&nbsp;&nbsp;&nbsp;&nbsp;&nbsp;&nbsp;&nbsp;&nbsp;&nbsp;&nbsp;&nbsp;&nbsp;&nbsp;&nbsp;&nbsp;&nbsp;&nbsp;&nbsp;&nbsp;then keep appending &nbsp;<code style=\"background-color: yellow\">&nbsp;[ arr[ i ], arr[ j ] ]&nbsp;</code>&nbsp; in a result list   <br>\n",
    "\n",
    "&nbsp;&nbsp;&nbsp;&nbsp;&nbsp;&nbsp;&nbsp;&nbsp;&nbsp;&nbsp;&nbsp;3.2 &nbsp;&nbsp; Else if &nbsp;<code style=\"background-color: yellow\">&nbsp;arr[ i ] + arr[ j ] < target&nbsp;</code>&nbsp;, <br>\n",
    "&nbsp;&nbsp;&nbsp;&nbsp;&nbsp;&nbsp;&nbsp;&nbsp;&nbsp;&nbsp;&nbsp;&nbsp;&nbsp;&nbsp;&nbsp;&nbsp;&nbsp;&nbsp;&nbsp;&nbsp;&nbsp;&nbsp;&nbsp;&nbsp;&nbsp;then keep **increasing i** to move it to the next index where <code style=\"background-color: yellow\">&nbsp;arr[ next_index_of_i ]&nbsp;</code> is different than the current value <code style=\"background-color: yellow\">&nbsp;arr[ i ]&nbsp;</code>     <br>\n",
    "\n",
    "&nbsp;&nbsp;&nbsp;&nbsp;&nbsp;&nbsp;&nbsp;&nbsp;&nbsp;&nbsp;&nbsp;3.3 &nbsp;&nbsp; Else if &nbsp;<code style=\"background-color: yellow\">arr[ i ] + arr[ j ] > target</code>&nbsp;, <br>\n",
    "&nbsp;&nbsp;&nbsp;&nbsp;&nbsp;&nbsp;&nbsp;&nbsp;&nbsp;&nbsp;&nbsp;&nbsp;&nbsp;&nbsp;&nbsp;&nbsp;&nbsp;&nbsp;&nbsp;&nbsp;&nbsp;&nbsp;&nbsp;&nbsp;&nbsp;then keep **decreasing j** to move it to the next index where <code style=\"background-color: yellow\">&nbsp;arr[ next_index_of_i ]&nbsp;</code> is different than the current value <code style=\"background-color: yellow\">arr[ j ]</code>\n",
    "\n",
    "4. &nbsp;&nbsp; Return the result\n",
    "\n",
    "</div>\n"
   ]
  },
  {
   "cell_type": "code",
   "execution_count": 88,
   "id": "93b9542e-3c6e-4a3d-a053-ecbabc558686",
   "metadata": {},
   "outputs": [
    {
     "name": "stdout",
     "output_type": "stream",
     "text": [
      "[[2, 6], [3, 5], [4, 4]]\n"
     ]
    }
   ],
   "source": [
    "\n",
    "def two_sum_all_pairs(arr, target):\n",
    "    arr.sort()\n",
    "    i = 0 \n",
    "    j = len(arr) - 1\n",
    "    result = []\n",
    "    while i < j:\n",
    "        if arr[i] + arr[j] == target:\n",
    "            result.append([arr[i], arr[j]])\n",
    "            i = i + 1\n",
    "            j = j - 1\n",
    "        elif arr[i] + arr[j] < target:\n",
    "            temp = arr[i]\n",
    "            for k in range(i+1, len(arr)):\n",
    "                if arr[k] != temp:\n",
    "                    i = k\n",
    "                    break\n",
    "        elif arr[i] + arr[j] > target:\n",
    "            temp = arr[j]\n",
    "            for k in range(j-1, -1, -1):\n",
    "                if arr[k] != temp:\n",
    "                    j = k\n",
    "                    break\n",
    "    return result\n",
    "            \n",
    "            \n",
    "arr = [2, 7, 3, 5, 6, 8, 4, 4]\n",
    "target = 8\n",
    "\n",
    "print(two_sum_all_pairs(arr, target))    \n"
   ]
  },
  {
   "cell_type": "code",
   "execution_count": null,
   "id": "a6ec1c4a-cc72-468b-bce3-0e55f85d7d67",
   "metadata": {},
   "outputs": [],
   "source": []
  },
  {
   "cell_type": "markdown",
   "id": "9fca47d0-89bc-4862-9dd1-b65d3d42c412",
   "metadata": {
    "jp-MarkdownHeadingCollapsed": true
   },
   "source": [
    "##### <span style=\"color: blue\">4  ===> 3 Sum </span>"
   ]
  },
  {
   "cell_type": "markdown",
   "id": "cf3a9f9e-c322-4dfb-a1d1-47b10ecc3a87",
   "metadata": {},
   "source": [
    "<br>\n",
    "\n",
    "<span style=\"color: #DCBD10\">▬▬▬▬▬▬▬▬▬▬▬▬▬▬▬▬▬▬▬▬▬▬▬▬▬▬▬▬▬▬▬▬▬▬▬▬▬▬▬▬▬▬▬▬▬▬▬▬▬▬▬▬▬▬▬▬▬▬▬▬▬▬▬▬▬▬▬▬▬▬▬▬▬▬▬▬</span>\n",
    "\n",
    "<br>\n",
    "\n",
    "<div style=\"padding: 10px; background-color: #E2FFEC\">\n",
    "\n",
    "<u>**QUESTION - 4**</u> : &nbsp;3 Sum\n",
    "\n",
    "</div>\n",
    "\n",
    "<br>\n",
    "\n",
    "<span style=\"background-color: yellow\">&nbsp;Given an integer array nums, return all the triplets <code>[ nums[i], nums[j], nums[k] ]</code> such that <code>i != j</code> , <code>i != k</code> , and <code>j != k</code> , and <code>nums[i] + nums[j] + nums[k] == target</code>&nbsp;</span>\n",
    "\n",
    "Notice that the solution set must not contain duplicate triplets.\n",
    "\n",
    "<br>\n",
    "\n",
    "<span style=\"color: #FC02BB\"> <strong>SOLUTION - 1</strong> </span> ===> <span style=\"color: red\">Brute Force</span>\n",
    "\n",
    "**Hint** - Find all possible triplets for each number in the given array."
   ]
  },
  {
   "cell_type": "code",
   "execution_count": 90,
   "id": "890bd341-7ea6-46b5-bb8b-e53e21541970",
   "metadata": {},
   "outputs": [
    {
     "name": "stdout",
     "output_type": "stream",
     "text": [
      "[(-1, 0, 1), (-1, -1, 2)]\n"
     ]
    }
   ],
   "source": [
    "\n",
    "def three_sum(arr, target):\n",
    "    result = set()\n",
    "    for i in range(0, len(arr)):\n",
    "        for j in range(i+1, len(arr)):\n",
    "            for k in range(j+1, len(arr)):\n",
    "                if arr[i] + arr[j] + arr[k] == target:\n",
    "                    triplet = [arr[i], arr[j], arr[k]]\n",
    "                    triplet.sort()\n",
    "                    # result.add(triplet)        # =====> Error: TypeError: unhashable type: 'list'\n",
    "                    result.add(tuple(triplet))   # since we cannot add a list to a set, we need to first convert it into a tuple and then add in it.\n",
    "    return list(result)\n",
    "                    \n",
    "\n",
    "nums = [-1, 0, 1, 2, -1, -4]\n",
    "target = 0\n",
    "\n",
    "print(three_sum(nums, target))\n",
    "       "
   ]
  },
  {
   "cell_type": "markdown",
   "id": "c6f12e70-94cb-4a11-80e0-287c052d2cf3",
   "metadata": {},
   "source": [
    "<br>\n",
    "\n",
    "However if you want to return the result as **list of lists**, then you gonna have to iterate it in a loop like the following:"
   ]
  },
  {
   "cell_type": "code",
   "execution_count": 92,
   "id": "e773d54f-e057-496a-824d-f61e54336dd1",
   "metadata": {},
   "outputs": [
    {
     "name": "stdout",
     "output_type": "stream",
     "text": [
      "[[-1, 0, 1], [-1, -1, 2]]\n"
     ]
    }
   ],
   "source": [
    "\n",
    "def three_sum(arr, target):\n",
    "    set_of_triplets = set()\n",
    "    for i in range(0, len(arr)):\n",
    "        for j in range(i+1, len(arr)):\n",
    "            for k in range(j+1, len(arr)):\n",
    "                if arr[i] + arr[j] + arr[k] == target:\n",
    "                    triplet = [arr[i], arr[j], arr[k]]\n",
    "                    triplet.sort()\n",
    "                    # result.add(triplet)        # =====> Error: TypeError: unhashable type: 'list'\n",
    "                    set_of_triplets.add(tuple(triplet))   # since we can't add a list to a set, first convert it into a tuple and then add in it.\n",
    "    list_of_triplets = []\n",
    "    for i in set_of_triplets:\n",
    "        list_of_triplets.append(list(i))\n",
    "    return list_of_triplets\n",
    "        \n",
    "nums = [-1, 0, 1, 2, -1, -4]\n",
    "target = 0\n",
    "\n",
    "print(three_sum(nums, target))\n"
   ]
  },
  {
   "cell_type": "markdown",
   "id": "fd041928-e70e-46fa-a09e-21a8e8d242a9",
   "metadata": {},
   "source": [
    "<br>\n",
    "\n",
    "<span style=\"color: #FC02BB\"> <strong>SOLUTION - 2</strong> </span> ===> <span style=\"color: red\">using **dictionary**</span>\n",
    "\n",
    "<div style=\"padding: 10px; background-color: #FFF3FF\">\n",
    "\n",
    "1. &nbsp;&nbsp; Initialise an **empty dictionary** (to temporarily store the **elements as keys** along with their **indexes as values** and compare) and <br>\n",
    "&nbsp;&nbsp;&nbsp;&nbsp;&nbsp;&nbsp;&nbsp;&nbsp;&nbsp;&nbsp;&nbsp;&nbsp;&nbsp;&nbsp;&nbsp;&nbsp;&nbsp;an **empty set** (to store the triplets temporarirly and also ensure no 2 triplets are same)   <br>\n",
    "&nbsp;&nbsp;&nbsp;&nbsp;&nbsp;&nbsp;&nbsp;&nbsp;&nbsp;&nbsp;&nbsp;&nbsp;&nbsp;&nbsp;&nbsp;&nbsp;&nbsp;an **empty list** (to store the final resut as list of lists)   <br>\n",
    "\n",
    "2. &nbsp;&nbsp; <code>for i in range(0, len(arr)):</code>  <br>\n",
    "&nbsp;&nbsp;&nbsp;&nbsp;&nbsp;&nbsp;&nbsp;&nbsp;&nbsp;&nbsp;&nbsp;<code>for j in range(i+1, len(arr)):</code>\n",
    "\n",
    "&nbsp;&nbsp;&nbsp;&nbsp;&nbsp;&nbsp;&nbsp;&nbsp;&nbsp;&nbsp;&nbsp;&nbsp;&nbsp;&nbsp;&nbsp;&nbsp;&nbsp;&nbsp;&nbsp;&nbsp;&nbsp;&nbsp;&nbsp;&nbsp;&nbsp;&nbsp;&nbsp;&nbsp;&nbsp;&nbsp;<font size=\"+1\">↳</font> For every pair of <code style=\"color: red\">&nbsp;**i**&nbsp;</code> &nbsp;&&nbsp; <code style=\"color: red\">&nbsp;**j**&nbsp;</code> in the array, check whether <code style=\"background-color: yellow\">&nbsp;Target - (arr[i] + arr[j])&nbsp;</code> is present in the **dictionary** or not.    <br>\n",
    "\n",
    "&nbsp;&nbsp;&nbsp;&nbsp;&nbsp;&nbsp;&nbsp;&nbsp;&nbsp;&nbsp;&nbsp;&nbsp;&nbsp;&nbsp;&nbsp;&nbsp;&nbsp;&nbsp;&nbsp;&nbsp;&nbsp;&nbsp;&nbsp;&nbsp;&nbsp;&nbsp;&nbsp;&nbsp;&nbsp;&nbsp;<font size=\"+1\">↳</font> Also check and ensure that the index of the <code style=\"background-color: yellow\">&nbsp;Target - (arr[i] + arr[j])&nbsp;</code> should neither be same as <code style=\"color: red\">&nbsp;**i**&nbsp;</code> &nbsp;or&nbsp; <code style=\"color: red\">&nbsp;**j**&nbsp;</code>     <br>\n",
    "\n",
    "&nbsp;&nbsp;&nbsp;&nbsp;&nbsp;&nbsp;&nbsp;&nbsp;&nbsp;&nbsp;&nbsp;&nbsp;&nbsp;&nbsp;&nbsp;&nbsp;&nbsp;&nbsp;&nbsp;&nbsp;&nbsp;&nbsp;&nbsp;&nbsp;&nbsp;&nbsp;&nbsp;&nbsp;&nbsp;&nbsp;<font size=\"+1\">↳</font> If present, then store the triplet &nbsp;<code style=\"background-color: yellow\">&nbsp;[ arr[i], arr[j], target - (arr[i] + arr[j]) ]&nbsp;</code>&nbsp; as a list <br>\n",
    "&nbsp;&nbsp;&nbsp;&nbsp;&nbsp;&nbsp;&nbsp;&nbsp;&nbsp;&nbsp;&nbsp;&nbsp;&nbsp;&nbsp;&nbsp;&nbsp;&nbsp;&nbsp;&nbsp;&nbsp;&nbsp;&nbsp;&nbsp;&nbsp;&nbsp;&nbsp;&nbsp;&nbsp;&nbsp;&nbsp;&nbsp;&nbsp;&nbsp;&nbsp;so that each triplet can be **first sorted and then added in the result set**\n",
    "\n",
    "</div>"
   ]
  },
  {
   "cell_type": "code",
   "execution_count": 105,
   "id": "cd99fc70-57d2-4a80-9b9c-b869bd36031c",
   "metadata": {},
   "outputs": [
    {
     "name": "stdout",
     "output_type": "stream",
     "text": [
      "{(-1, 0, 1), (-1, -1, 2)}\n"
     ]
    }
   ],
   "source": [
    "\n",
    "def three_sum(arr, target):\n",
    "    result = set()\n",
    "    arr_dict = {}\n",
    "    arr_dict[arr[0]] = 0\n",
    "    n = len(arr)\n",
    "    for i in range(0, n):\n",
    "        for j in range(i+1, n):\n",
    "            complement = target - (arr[i] + arr[j])   # new target\n",
    "            if complement in arr_dict and arr_dict[complement] != i and arr_dict[complement] != j:\n",
    "                triplet = [arr[i], arr[j], complement]\n",
    "                triplet.sort()\n",
    "                result.add(tuple(triplet))\n",
    "            arr_dict[arr[j]] = j\n",
    "    return result\n",
    "\n",
    "                \n",
    "nums = [-1, 0, 1, 2, -1, -4]\n",
    "target = 0\n",
    "\n",
    "print(three_sum(nums, target))\n"
   ]
  },
  {
   "cell_type": "markdown",
   "id": "3c8c48db-3c79-48d7-8eff-dde3b6707d1a",
   "metadata": {},
   "source": [
    "<br>\n",
    "\n",
    "However if you want to return the result as **list of lists**, then you gonna have to iterate it in a loop like the following:"
   ]
  },
  {
   "cell_type": "code",
   "execution_count": 107,
   "id": "eca58a55-ed82-49f0-94bb-0624143d71b8",
   "metadata": {},
   "outputs": [
    {
     "name": "stdout",
     "output_type": "stream",
     "text": [
      "[(-1, 0, 1), (-1, -1, 2)]\n"
     ]
    }
   ],
   "source": [
    "\n",
    "def three_sum(arr, target):\n",
    "    arr_set = set()\n",
    "    arr_dict = {}\n",
    "    arr_dict[arr[0]] = 0   # initialising the arr_dict with {arr[0]: 0}\n",
    "    n = len(arr)\n",
    "    for i in range(0, n):\n",
    "        for j in range(i+1, n):\n",
    "            complement = target - (arr[i] + arr[j])   # new target\n",
    "            if complement in arr_dict and arr_dict[complement] != i and arr_dict[complement] != j:\n",
    "                triplet = [arr[i], arr[j], complement]\n",
    "                triplet.sort()\n",
    "                arr_set.add(tuple(triplet))\n",
    "            arr_dict[arr[j]] = j     # storing the index i of ar[i] as key-value {arr[i] : i} pair\n",
    "    result = []   # list of triplets\n",
    "    for i in arr_set:\n",
    "        result.append(i)\n",
    "    return result\n",
    "     \n",
    "nums = [-1, 0, 1, 2, -1, -4]\n",
    "target = 0\n",
    "\n",
    "print(three_sum(nums, target))\n"
   ]
  },
  {
   "cell_type": "markdown",
   "id": "4847ea66-a4e2-4266-bbe0-ed029d500825",
   "metadata": {},
   "source": [
    "<br>\n",
    "\n",
    "<span style=\"color: #FC02BB\"> <strong>SOLUTION - 3</strong> </span> ===> <span style=\"color: red\">using **2 pointers**</span>\n",
    "\n",
    "<br>\n",
    "\n",
    "<div style=\"padding: 10px; background-color: #FFF3FF\">\n",
    "\n",
    "1. &nbsp;&nbsp; **Sort** the given array   <br>\n",
    "\n",
    "2. &nbsp;&nbsp; Initialize an **empty reult set** to hold the triplets without having any duplicates\n",
    "\n",
    "3. &nbsp;&nbsp; While <code style=\"background-color: yellow\">i < n</code>&nbsp;:\n",
    "\n",
    "&nbsp;&nbsp;&nbsp;&nbsp;&nbsp;&nbsp;&nbsp;&nbsp;&nbsp;&nbsp;&nbsp;&nbsp;&nbsp;&nbsp;&nbsp;&nbsp;&nbsp; <font size=\"+1\">↳</font>&nbsp; 3.1&nbsp;&nbsp; Initialize **2 pointers** ===> &nbsp;<code style=\"background-color: yellow\">&nbsp;j = i + 1&nbsp;</code>&nbsp; and &nbsp;<code style=\"background-color: yellow\">&nbsp;k = len(arr) - 1&nbsp;</code>&nbsp;    <br>\n",
    "\n",
    "&nbsp;&nbsp;&nbsp;&nbsp;&nbsp;&nbsp;&nbsp;&nbsp;&nbsp;&nbsp;&nbsp;&nbsp;&nbsp;&nbsp;&nbsp;&nbsp;&nbsp; <font size=\"+1\">↳</font>&nbsp; 3.2&nbsp;&nbsp; while &nbsp;<code style=\"background-color: yellow\">&nbsp;j < k&nbsp;</code>&nbsp;:  <br>\n",
    "\n",
    "&nbsp;&nbsp;&nbsp;&nbsp;&nbsp;&nbsp;&nbsp;&nbsp;&nbsp;&nbsp;&nbsp;&nbsp;&nbsp;&nbsp;&nbsp;&nbsp;&nbsp;&nbsp;&nbsp;&nbsp;&nbsp;&nbsp;&nbsp;&nbsp;&nbsp;&nbsp;&nbsp;&nbsp;&nbsp;&nbsp;&nbsp;<font size=\"+1\">↳</font>&nbsp; 3.2.1&nbsp;&nbsp;&nbsp;  If  &nbsp;<code style=\"background-color: yellow\">&nbsp;arr[ i ] + arr[ j ] + arr[k] == target&nbsp;</code> : <br>\n",
    "&nbsp;&nbsp;&nbsp;&nbsp;&nbsp;&nbsp;&nbsp;&nbsp;&nbsp;&nbsp;&nbsp;&nbsp;&nbsp;&nbsp;&nbsp;&nbsp;&nbsp;&nbsp;&nbsp;&nbsp;&nbsp;&nbsp;&nbsp;&nbsp;&nbsp;&nbsp;&nbsp;&nbsp;&nbsp;&nbsp;&nbsp;&nbsp;&nbsp;&nbsp;&nbsp;&nbsp;&nbsp;&nbsp;&nbsp;&nbsp;&nbsp;&nbsp;&nbsp;&nbsp;&nbsp;&nbsp;&nbsp;&nbsp;&nbsp;&nbsp;&nbsp;&nbsp;&nbsp;<font size=\"+1\">↳</font>&nbsp; add the triplet &nbsp;<code style=\"background-color: yellow\">&nbsp;[ arr[ i ] , arr[ j ] , arr[k] ]&nbsp;</code>&nbsp; into the **result list**   <br>\n",
    "&nbsp;&nbsp;&nbsp;&nbsp;&nbsp;&nbsp;&nbsp;&nbsp;&nbsp;&nbsp;&nbsp;&nbsp;&nbsp;&nbsp;&nbsp;&nbsp;&nbsp;&nbsp;&nbsp;&nbsp;&nbsp;&nbsp;&nbsp;&nbsp;&nbsp;&nbsp;&nbsp;&nbsp;&nbsp;&nbsp;&nbsp;&nbsp;&nbsp;&nbsp;&nbsp;&nbsp;&nbsp;&nbsp;&nbsp;&nbsp;&nbsp;&nbsp;&nbsp;&nbsp;&nbsp;&nbsp;&nbsp;&nbsp;&nbsp;&nbsp;&nbsp;&nbsp;&nbsp;<font size=\"+1\">↳</font>&nbsp; <code style=\"background-color: yellow\">j = j + 1</code>   <br>\n",
    "&nbsp;&nbsp;&nbsp;&nbsp;&nbsp;&nbsp;&nbsp;&nbsp;&nbsp;&nbsp;&nbsp;&nbsp;&nbsp;&nbsp;&nbsp;&nbsp;&nbsp;&nbsp;&nbsp;&nbsp;&nbsp;&nbsp;&nbsp;&nbsp;&nbsp;&nbsp;&nbsp;&nbsp;&nbsp;&nbsp;&nbsp;&nbsp;&nbsp;&nbsp;&nbsp;&nbsp;&nbsp;&nbsp;&nbsp;&nbsp;&nbsp;&nbsp;&nbsp;&nbsp;&nbsp;&nbsp;&nbsp;&nbsp;&nbsp;&nbsp;&nbsp;&nbsp;&nbsp;<font size=\"+1\">↳</font>&nbsp; <code style=\"background-color: yellow\">k = k - 1</code>\n",
    "\n",
    "\n",
    "&nbsp;&nbsp;&nbsp;&nbsp;&nbsp;&nbsp;&nbsp;&nbsp;&nbsp;&nbsp;&nbsp;&nbsp;&nbsp;&nbsp;&nbsp;&nbsp;&nbsp;&nbsp;&nbsp;&nbsp;&nbsp;&nbsp;&nbsp;&nbsp;&nbsp;&nbsp;&nbsp;&nbsp;&nbsp;&nbsp;&nbsp;<font size=\"+1\">↳</font>&nbsp; 3.2.2 &nbsp;&nbsp; Else if &nbsp;<code style=\"background-color: yellow\">&nbsp;arr[ i ] + arr[ j ] + arr[k] < target&nbsp;</code>&nbsp;: <br>\n",
    "&nbsp;&nbsp;&nbsp;&nbsp;&nbsp;&nbsp;&nbsp;&nbsp;&nbsp;&nbsp;&nbsp;&nbsp;&nbsp;&nbsp;&nbsp;&nbsp;&nbsp;&nbsp;&nbsp;&nbsp;&nbsp;&nbsp;&nbsp;&nbsp;&nbsp;&nbsp;&nbsp;&nbsp;&nbsp;&nbsp;&nbsp;&nbsp;&nbsp;&nbsp;&nbsp;&nbsp;&nbsp;&nbsp;&nbsp;&nbsp;&nbsp;&nbsp;&nbsp;&nbsp;&nbsp;&nbsp;&nbsp;&nbsp;&nbsp;&nbsp;&nbsp;&nbsp;&nbsp;&nbsp;&nbsp;keep **increasing j** to move it to the next index where <code style=\"background-color: yellow\">&nbsp;arr[ next_index_of_j ]&nbsp;</code> is different than the current value <code style=\"background-color: yellow\">arr[ j ]</code>     <br>\n",
    "\n",
    "&nbsp;&nbsp;&nbsp;&nbsp;&nbsp;&nbsp;&nbsp;&nbsp;&nbsp;&nbsp;&nbsp;&nbsp;&nbsp;&nbsp;&nbsp;&nbsp;&nbsp;&nbsp;&nbsp;&nbsp;&nbsp;&nbsp;&nbsp;&nbsp;&nbsp;&nbsp;&nbsp;&nbsp;&nbsp;&nbsp;&nbsp;<font size=\"+1\">↳</font>&nbsp; 3.2.3 &nbsp;&nbsp; Else if &nbsp;<code style=\"background-color: yellow\">&nbsp;arr[ i ] + arr[ j ] + arr[k] > target&nbsp;</code>&nbsp;: <br>\n",
    "&nbsp;&nbsp;&nbsp;&nbsp;&nbsp;&nbsp;&nbsp;&nbsp;&nbsp;&nbsp;&nbsp;&nbsp;&nbsp;&nbsp;&nbsp;&nbsp;&nbsp;&nbsp;&nbsp;&nbsp;&nbsp;&nbsp;&nbsp;&nbsp;&nbsp;&nbsp;&nbsp;&nbsp;&nbsp;&nbsp;&nbsp;&nbsp;&nbsp;&nbsp;&nbsp;&nbsp;&nbsp;&nbsp;&nbsp;&nbsp;&nbsp;&nbsp;&nbsp;&nbsp;&nbsp;&nbsp;&nbsp;&nbsp;&nbsp;&nbsp;&nbsp;&nbsp;&nbsp;&nbsp;&nbsp;keep **decreasing k** to move it to the next index where <code style=\"background-color: yellow\">&nbsp;arr[ next_index_of_k ]&nbsp;</code> is different than the current value <code style=\"background-color: yellow\">arr[ k ]</code>\n",
    "\n",
    "&nbsp;&nbsp;&nbsp;&nbsp;&nbsp;&nbsp;&nbsp;&nbsp;&nbsp;&nbsp;&nbsp;&nbsp;&nbsp;&nbsp;&nbsp;&nbsp;&nbsp; <font size=\"+1\">↳</font>&nbsp;  3.3&nbsp;&nbsp;&nbsp;  keep **increasing i** to move it to the next index where <code style=\"background-color: yellow\">&nbsp;arr[ next_index_of_i ]&nbsp;</code> is different than the current value <code style=\"background-color: yellow\">arr[ i ]</code>\n",
    "\n",
    "4. &nbsp;&nbsp; **Return the result set**\n",
    "\n",
    "</div>"
   ]
  },
  {
   "cell_type": "code",
   "execution_count": 131,
   "id": "f45bf833-4eab-484a-86a1-424dd265b137",
   "metadata": {},
   "outputs": [
    {
     "name": "stdout",
     "output_type": "stream",
     "text": [
      "{(-1, 0, 1), (-1, -1, 2)}\n"
     ]
    }
   ],
   "source": [
    "\n",
    "def three_sum(arr, target):\n",
    "    n = len(arr)\n",
    "    arr.sort()\n",
    "    arr_set = set()\n",
    "    for i in range(0, n):     # for i in range(0, n-2)    ====>   Stop early to ensure space for j and k\n",
    "        j = i + 1\n",
    "        k = n - 1\n",
    "        while j < k:\n",
    "            total = arr[i] + arr[j] + arr[k]\n",
    "            if total == target:\n",
    "                triplet = (arr[i], arr[j], arr[k])   # since the array is already sorted, we take triplets as tuples and add it in the arr_set\n",
    "                arr_set.add(triplet)\n",
    "                j = j + 1\n",
    "                k = k - 1\n",
    "            elif total < target:\n",
    "                j = j + 1\n",
    "            elif total > target:\n",
    "                k = k - 1\n",
    "    return arr_set\n",
    "                        \n",
    "                    \n",
    "nums = [-1, 0, 1, 2, -1, -4]\n",
    "target = 0\n",
    "\n",
    "print(three_sum(nums, target))\n"
   ]
  },
  {
   "cell_type": "markdown",
   "id": "d3f89d3b-b13a-400d-9009-d3b7fee319c6",
   "metadata": {},
   "source": [
    "<br>\n",
    "\n",
    "<span style=\"color: blue\">Let's make it more effcient :</span>"
   ]
  },
  {
   "cell_type": "code",
   "execution_count": 32,
   "id": "0599e62f-f844-41b1-9f5a-a7e479f6ebe3",
   "metadata": {},
   "outputs": [
    {
     "name": "stdout",
     "output_type": "stream",
     "text": [
      "{(-1, 0, 1), (-1, -1, 2)}\n"
     ]
    }
   ],
   "source": [
    "\n",
    "def three_sum(arr, target):\n",
    "    n = len(arr)\n",
    "    arr.sort()\n",
    "    arr_set = set()\n",
    "    i = 0\n",
    "    while i < n:     # instead of using for loop as in the previous, here we are using while loop to customize the step jump of the variable i\n",
    "        j = i + 1\n",
    "        k = n - 1\n",
    "        while j < k:\n",
    "            total = arr[i] + arr[j] + arr[k]\n",
    "            if total == target:\n",
    "                triplet = (arr[i], arr[j], arr[k])   # since the array is already sorted, we take triplets as tuples and add it in the arr_set\n",
    "                arr_set.add(triplet)\n",
    "                j = j + 1\n",
    "                k = k - 1\n",
    "            elif total < target:\n",
    "                # Moving j forward to the next approprite position to avoid duplicates\n",
    "                temp = arr[j]\n",
    "                for x in range(j+1, n):\n",
    "                    if arr[x] != temp:\n",
    "                        j = x\n",
    "                        break\n",
    "            elif total > target:\n",
    "                # Moving k backward to the nexxt approprite position to avoid duplicates\n",
    "                temp = arr[k]\n",
    "                for x in range(k-1, -1, -1):\n",
    "                    if arr[x] != temp:\n",
    "                        k = x\n",
    "                        break\n",
    "        # Moving i forward to the nexxt approprite position to avoid duplicates\n",
    "        temp = arr[i]\n",
    "        while temp == arr[i]:\n",
    "            i = i + 1\n",
    "            if i >= n:\n",
    "                break\n",
    "    return arr_set\n",
    "                        \n",
    "                    \n",
    "nums = [-1, 0, 1, 2, -1, -4]\n",
    "target = 0\n",
    "\n",
    "print(three_sum(nums, target))\n"
   ]
  },
  {
   "cell_type": "code",
   "execution_count": null,
   "id": "15ecac4a-e830-4798-84da-c70b04b1350d",
   "metadata": {},
   "outputs": [],
   "source": []
  },
  {
   "cell_type": "markdown",
   "id": "37b05d3e-51af-48a6-815b-fadc45eeeae8",
   "metadata": {
    "jp-MarkdownHeadingCollapsed": true
   },
   "source": [
    "##### <span style=\"color: blue\">5  ===> Given an integer array <code>&nbsp;nums&nbsp;</code> of length <code>&nbsp;n&nbsp;</code> and an integer <code>&nbsp;target&nbsp;</code>, find three integers in <code>&nbsp;nums&nbsp;</code> such that the sum is closest to <code>&nbsp;target&nbsp;</code></span>"
   ]
  },
  {
   "cell_type": "markdown",
   "id": "d7999373-9ace-4163-b494-281356882ef4",
   "metadata": {},
   "source": [
    "<br>\n",
    "\n",
    "<span style=\"color: #DCBD10\">▬▬▬▬▬▬▬▬▬▬▬▬▬▬▬▬▬▬▬▬▬▬▬▬▬▬▬▬▬▬▬▬▬▬▬▬▬▬▬▬▬▬▬▬▬▬▬▬▬▬▬▬▬▬▬▬▬▬▬▬▬▬▬▬▬▬▬▬▬▬▬▬▬▬▬▬</span>\n",
    "\n",
    "<br>\n",
    "\n",
    "<div style=\"padding: 10px; background-color: #E2FFEC\">\n",
    "\n",
    "<u>**QUESTION - 5**</u> : &nbsp;Given an integer array <code style=\"background-color: yellow\">&nbsp;nums&nbsp;</code> of length <code style=\"background-color: yellow\">&nbsp;n&nbsp;</code> and an integer <code style=\"background-color: yellow\">&nbsp;target&nbsp;</code>, find three integers in <code style=\"background-color: yellow\">&nbsp;nums&nbsp;</code> such that the sum is closest to <code style=\"background-color: yellow\">&nbsp;target&nbsp;</code>\n",
    "\n",
    "</div>\n",
    "\n",
    "<br>\n",
    "\n",
    "<span style=\"color: #FC02BB\"> <strong>SOLUTION</strong> </span> ===> <span style=\"color: red\">using **2 pointers**</span>"
   ]
  },
  {
   "cell_type": "code",
   "execution_count": 28,
   "id": "60524a52-e623-4b61-a340-27dd36ba8fa7",
   "metadata": {},
   "outputs": [
    {
     "name": "stdout",
     "output_type": "stream",
     "text": [
      "2\n"
     ]
    }
   ],
   "source": [
    "\n",
    "def three_sum_closest(arr, target):\n",
    "    arr.sort()\n",
    "    n = len(arr)  #  no need to find beacuse it's already given\n",
    "    min_diff = float('inf')\n",
    "    # temp_diff = 0\n",
    "    # result = 0\n",
    "    i = 0\n",
    "    while i < n:\n",
    "        j = i + 1\n",
    "        k = n - 1\n",
    "        while j < k:\n",
    "            total = arr[i] + arr[j] + arr[k]\n",
    "            if total == target:\n",
    "                return target\n",
    "            elif total < target:\n",
    "                temp_diff = target - total\n",
    "                if temp_diff < min_diff:\n",
    "                    min_diff = temp_diff\n",
    "                    result = total\n",
    "                j = j + 1\n",
    "            elif total > target:\n",
    "                temp_diff = total - target\n",
    "                if temp_diff < min_diff:\n",
    "                    min_diff = temp_diff\n",
    "                    result = total\n",
    "                k = k - 1\n",
    "        temp = arr[i]\n",
    "        while temp == arr[i]:\n",
    "            i = i + 1\n",
    "            if i >= n:\n",
    "                break\n",
    "    return result\n",
    "\n",
    "\n",
    "nums = [-1, 2, 1, -4] \n",
    "target = 1\n",
    "\n",
    "# calling the function\n",
    "print(three_sum_closest(nums, target))\n"
   ]
  },
  {
   "cell_type": "code",
   "execution_count": null,
   "id": "bebd5338-a6bc-4e6f-9d7d-43e60d2c2940",
   "metadata": {},
   "outputs": [],
   "source": []
  },
  {
   "cell_type": "markdown",
   "id": "8fd31655-660e-45e4-9cba-050b2ef26cf3",
   "metadata": {
    "jp-MarkdownHeadingCollapsed": true
   },
   "source": [
    "##### <span style=\"color: blue\">6  ===> 4 Sum</span>"
   ]
  },
  {
   "cell_type": "markdown",
   "id": "a646cd1c-84e0-4292-8e7b-8fb02040780a",
   "metadata": {},
   "source": [
    "<span style=\"color: #DCBD10\">▬▬▬▬▬▬▬▬▬▬▬▬▬▬▬▬▬▬▬▬▬▬▬▬▬▬▬▬▬▬▬▬▬▬▬▬▬▬▬▬▬▬▬▬▬▬▬▬▬▬▬▬▬▬▬▬▬▬▬▬▬▬▬▬▬▬▬▬▬▬▬▬▬▬▬▬</span>\n",
    "\n",
    "<br>\n",
    "\n",
    "<div style=\"padding: 10px; background-color: #E2FFEC\">\n",
    "\n",
    "<u>**QUESTION - 6**</u> : &nbsp;Given an array <code>&nbsp;nums&nbsp;</code> of <code>&nbsp;n&nbsp;</code> integers, return an array of all the **unique quadruplets** <code>&nbsp;[ nums[a] , nums[b], nums[c], nums[d] ]&nbsp;</code> such that:\n",
    "\n",
    "<code>&nbsp;0 <= a, b, c, d < n&nbsp;</code>\n",
    "\n",
    "<code>&nbsp;a&nbsp;</code> , <code>&nbsp;b&nbsp;</code>, <code>&nbsp;c&nbsp;</code>, and <code>&nbsp;d&nbsp;</code> are distinct.\n",
    "\n",
    "<code>&nbsp;nums[a] + nums[b] + nums[c] + nums[d] == target&nbsp;</code>\n",
    "\n",
    "You may return the answer in **any order**.\n",
    "\n",
    "</div>\n",
    "\n",
    "<br>\n",
    "\n",
    "<span style=\"color: #FC02BB\"> <strong>SOLUTION</strong> </span> ===> <span style=\"color: red\">using **2 pointers**</span>"
   ]
  },
  {
   "cell_type": "code",
   "execution_count": 8,
   "id": "a3e65442-2f7e-4241-b438-b6b267a23124",
   "metadata": {},
   "outputs": [
    {
     "name": "stdout",
     "output_type": "stream",
     "text": [
      "[[-2, -1, 1, 2], [-2, 0, 0, 2], [-1, 0, 0, 1]]\n"
     ]
    }
   ],
   "source": [
    "\n",
    "def four_sum(arr, target):\n",
    "    arr.sort()\n",
    "    n = len(arr)   #  no need to find beacuse it's already given\n",
    "    result = []\n",
    "    i = 0\n",
    "    while i < n:\n",
    "        j = i + 1\n",
    "        while j < n:\n",
    "            k = j + 1\n",
    "            l = n -1\n",
    "            while k < l:\n",
    "                total = arr[i] + arr[j] + arr[k] + arr[l]\n",
    "                if total < target:\n",
    "                    k = k + 1   # we will optimize this increment of k in next step\n",
    "                elif total > target:\n",
    "                    l = l -1    # we will optimize this decrement of l in next step\n",
    "                else:\n",
    "                    quadruplet = [ arr[i], arr[j], arr[k], arr[l] ]\n",
    "                    result.append(quadruplet)\n",
    "                    k = k + 1\n",
    "                    l = l - 1\n",
    "            j_temp = arr[j]\n",
    "            while j < n and arr[j] == j_temp:\n",
    "                j += 1\n",
    "        i_temp = arr[i]\n",
    "        while i < n and arr[i] == i_temp:\n",
    "            i += 1\n",
    "    return result\n",
    "\n",
    "\n",
    "nums = [1,0,-1,0,-2,2]\n",
    "target = 0\n",
    "\n",
    "\n",
    "# calling the function\n",
    "print(four_sum(nums, target))\n"
   ]
  },
  {
   "cell_type": "markdown",
   "id": "84c671e3-8b9a-42f9-8bb1-b9d1273a4272",
   "metadata": {},
   "source": [
    "<br>\n",
    "\n",
    "<span style=\"color: red\">Let's optimize this by <span style=\"background-color: #FFE7FC; color: black;\">&nbsp;&nbsp;skipping over duplicates&nbsp;&nbsp;</span> whenever <code>&nbsp;**k**&nbsp;</code>  or <code>&nbsp;**l**&nbsp;</code> is incremented</span>\n",
    "\n",
    "<br>"
   ]
  },
  {
   "cell_type": "code",
   "execution_count": 1,
   "id": "0125a36b-be94-4604-a41b-3c5804c00de8",
   "metadata": {},
   "outputs": [
    {
     "name": "stdout",
     "output_type": "stream",
     "text": [
      "[[-2, -1, 1, 2], [-2, 0, 0, 2], [-1, 0, 0, 1]]\n"
     ]
    }
   ],
   "source": [
    "\n",
    "def four_sum(arr, target):\n",
    "    arr.sort()\n",
    "    n = len(arr)   #  no need to find beacuse it's already given\n",
    "    result = []\n",
    "    i = 0\n",
    "    while i < n:\n",
    "        j = i + 1\n",
    "        while j < n:\n",
    "            k = j + 1\n",
    "            l = n -1\n",
    "            while k < l:\n",
    "                total = arr[i] + arr[j] + arr[k] + arr[l]\n",
    "                if total < target:\n",
    "                    k = k + 1\n",
    "                    while arr[k] == arr[k-1]:\n",
    "                        k = k + 1\n",
    "                        if k >= l:\n",
    "                            break\n",
    "                elif total > target:\n",
    "                    l = l -1\n",
    "                    while arr[l] == arr[l+1]:\n",
    "                        l = l- 1\n",
    "                        if k >= l:\n",
    "                            break\n",
    "                else:\n",
    "                    quadruplet = [ arr[i], arr[j], arr[k], arr[l] ]\n",
    "                    result.append(quadruplet)\n",
    "                    k = k + 1\n",
    "                    l = l - 1\n",
    "                    while arr[k] == arr[k-1]:\n",
    "                        k = k + 1\n",
    "                        if k >= l:\n",
    "                            break\n",
    "                    while arr[l] == arr[l+1]:\n",
    "                        l = l- 1\n",
    "                        if k >= l:\n",
    "                            break\n",
    "            temp = arr[j]\n",
    "            while temp == arr[j]:\n",
    "                j = j + 1\n",
    "                if j >= n:\n",
    "                    break\n",
    "        temp = arr[i]\n",
    "        while temp == arr[i]:\n",
    "            i = i + 1\n",
    "            if i >= n:\n",
    "                break\n",
    "    return result\n",
    "\n",
    "\n",
    "nums = [1,0,-1,0,-2,2]\n",
    "target = 0\n",
    "\n",
    "\n",
    "# calling the function\n",
    "print(four_sum(nums, target))\n"
   ]
  },
  {
   "cell_type": "markdown",
   "id": "ef3164be-0d78-4766-9d91-28cfdbc8a889",
   "metadata": {},
   "source": [
    "<br>\n",
    "\n",
    "<span style=\"color: red\">Another way of doing the same thing (<span style=\"background-color: #FFE7FC; color: black;\">&nbsp;&nbsp;skipping over duplicates&nbsp;&nbsp;</span>) as above</span>\n",
    "\n",
    "<br>"
   ]
  },
  {
   "cell_type": "code",
   "execution_count": 3,
   "id": "c3cd20aa-cf97-4177-a526-eb4e6e339ae1",
   "metadata": {},
   "outputs": [
    {
     "name": "stdout",
     "output_type": "stream",
     "text": [
      "[[-2, -1, 1, 2], [-2, 0, 0, 2], [-1, 0, 0, 1]]\n"
     ]
    }
   ],
   "source": [
    "\n",
    "def four_sum(arr, target):\n",
    "    arr.sort()\n",
    "    n = len(arr)   \n",
    "    result = []\n",
    "    i = 0\n",
    "    while i < n:\n",
    "        j = i + 1\n",
    "        while j < n:\n",
    "            k = j + 1\n",
    "            l = n - 1\n",
    "            while k < l:\n",
    "                total = arr[i] + arr[j] + arr[k] + arr[l]\n",
    "                if total < target:\n",
    "                    k_temp = arr[k]\n",
    "                    while k < l and arr[k] == k_temp:\n",
    "                        k += 1\n",
    "                elif total > target:\n",
    "                    l_temp = arr[l]\n",
    "                    while k < l and arr[l] == l_temp:\n",
    "                        l -= 1\n",
    "                else:\n",
    "                    quadruplet = [arr[i], arr[j], arr[k], arr[l]]\n",
    "                    result.append(quadruplet)\n",
    "                    k_temp = arr[k]\n",
    "                    while k < l and arr[k] == k_temp:\n",
    "                        k += 1\n",
    "                    l_temp = arr[l]\n",
    "                    while k < l and arr[l] == l_temp:\n",
    "                        l -= 1\n",
    "            j_temp = arr[j]\n",
    "            while j < n and arr[j] == j_temp:\n",
    "                j += 1\n",
    "        i_temp = arr[i]\n",
    "        while i < n and arr[i] == i_temp:\n",
    "            i += 1\n",
    "    return result\n",
    "\n",
    "nums = [1, 0, -1, 0, -2, 2]\n",
    "target = 0\n",
    "\n",
    "print(four_sum(nums, target))\n"
   ]
  },
  {
   "cell_type": "code",
   "execution_count": null,
   "id": "b541ca19-68fd-4a11-8716-cd98bf3b0d69",
   "metadata": {},
   "outputs": [],
   "source": []
  },
  {
   "cell_type": "markdown",
   "id": "6bc446ea-8c84-4bc7-97b4-e823ac64677b",
   "metadata": {
    "jp-MarkdownHeadingCollapsed": true
   },
   "source": [
    "##### <span style=\"color: blue\">7  ===> Attend all meetings</span>"
   ]
  },
  {
   "cell_type": "markdown",
   "id": "ea4aaf39-3f8f-484d-8e4a-e20788f8c85f",
   "metadata": {},
   "source": [
    "<br>\n",
    "\n",
    "<span style=\"color: #DCBD10\">▬▬▬▬▬▬▬▬▬▬▬▬▬▬▬▬▬▬▬▬▬▬▬▬▬▬▬▬▬▬▬▬▬▬▬▬▬▬▬▬▬▬▬▬▬▬▬▬▬▬▬▬▬▬▬▬▬▬▬▬▬▬▬▬▬▬▬▬▬▬▬▬▬▬▬▬</span>\n",
    "\n",
    "<br>\n",
    "\n",
    "<div style=\"padding: 10px; background-color: #E2FFEC\">\n",
    "\n",
    "<u>**QUESTION - 7**</u> : &nbsp;Given a list of time intervals, return true only if we can attend all meetings and false otherwise.\n",
    "\n",
    "</div>\n",
    "\n",
    "<br>\n",
    "\n",
    "**Hint** ===> <code style=\"background-color: yellow\"> sorting on the basis of **end time** of each time interval </code>"
   ]
  },
  {
   "cell_type": "code",
   "execution_count": 17,
   "id": "fa71a568-9dc3-4b34-9844-18479b0f3a69",
   "metadata": {},
   "outputs": [
    {
     "data": {
      "text/plain": [
       "False"
      ]
     },
     "execution_count": 17,
     "metadata": {},
     "output_type": "execute_result"
    }
   ],
   "source": [
    "\n",
    "def can_attend_all_meetings(time_intervals):\n",
    "    time_intervals.sort(key = lambda x: x[1])    # we can also use python built-in function ===> sorted(iterable, [key, reverse])\n",
    "    for i in range(1, len(time_intervals)):\n",
    "        if time_intervals[i][0] < time_intervals[i - 1][1]:\n",
    "            return False\n",
    "    return True\n",
    "\n",
    "time_intervals = [[1, 5], [3, 8], [2, 6], [6, 9]]\n",
    "        \n",
    "can_attend_all_meetings(time_intervals)\n"
   ]
  },
  {
   "cell_type": "code",
   "execution_count": 18,
   "id": "aa123af5-cecd-4a03-925a-3353fbd82f20",
   "metadata": {},
   "outputs": [
    {
     "data": {
      "text/plain": [
       "True"
      ]
     },
     "execution_count": 18,
     "metadata": {},
     "output_type": "execute_result"
    }
   ],
   "source": [
    "\n",
    "time_intervals = [[1, 2], [7, 8], [2, 6], [8,9]]\n",
    "\n",
    "can_attend_all_meetings(time_intervals)\n"
   ]
  },
  {
   "cell_type": "code",
   "execution_count": null,
   "id": "8813574b-7a89-4f87-ad67-af0ca4c47401",
   "metadata": {},
   "outputs": [],
   "source": []
  },
  {
   "cell_type": "markdown",
   "id": "59b25b6b-23b4-4a0b-b072-fc61b460b192",
   "metadata": {
    "jp-MarkdownHeadingCollapsed": true
   },
   "source": [
    "##### <span style=\"color: blue\">8  ===> Merge overlapping time intervals</span>"
   ]
  },
  {
   "cell_type": "markdown",
   "id": "cfa1768b-28b4-4803-8421-41ad8845326f",
   "metadata": {},
   "source": [
    "<br>\n",
    "\n",
    "<span style=\"color: #DCBD10\">▬▬▬▬▬▬▬▬▬▬▬▬▬▬▬▬▬▬▬▬▬▬▬▬▬▬▬▬▬▬▬▬▬▬▬▬▬▬▬▬▬▬▬▬▬▬▬▬▬▬▬▬▬▬▬▬▬▬▬▬▬▬▬▬▬▬▬▬▬▬▬▬▬▬▬▬</span>\n",
    "\n",
    "<br>\n",
    "\n",
    "<div style=\"padding: 10px; background-color: #E2FFEC\">\n",
    "\n",
    "<u>**QUESTION - 8**</u> : &nbsp;Given a list of time intervals, **merge overlapping time intervals** then return the new list of time intervals\n",
    "\n",
    "</div>\n",
    "\n",
    "<br>\n",
    "\n",
    "**Hint** ===> <code style=\"background-color: yellow\"> sorting on the basis of **start time** of each time interval </code>"
   ]
  },
  {
   "cell_type": "code",
   "execution_count": 45,
   "id": "06026178-31c1-47ae-a5b2-79fa26a42f2a",
   "metadata": {},
   "outputs": [
    {
     "data": {
      "text/plain": [
       "[[4, 5], [2, 6], [3, 8], [6, 9]]"
      ]
     },
     "execution_count": 45,
     "metadata": {},
     "output_type": "execute_result"
    }
   ],
   "source": [
    "\n",
    "time_intervals = [[4, 5], [3, 8], [2, 6], [6, 9]]\n",
    "\n",
    "time_intervals.sort(key = lambda x: x[1])    # sorting on the basis of end time of each time interval\n",
    "\n",
    "time_intervals\n"
   ]
  },
  {
   "cell_type": "code",
   "execution_count": 62,
   "id": "764cc87d-dc44-4c1e-84f9-18eccbcb6f1e",
   "metadata": {},
   "outputs": [
    {
     "data": {
      "text/plain": [
       "[[2, 6], [3, 8], [4, 5], [6, 9]]"
      ]
     },
     "execution_count": 62,
     "metadata": {},
     "output_type": "execute_result"
    }
   ],
   "source": [
    "\n",
    "time_intervals = [[4, 5], [3, 8], [2, 6], [6, 9]]\n",
    "\n",
    "time_intervals.sort(key = lambda x: x[0])    # sorting on the basis of start time of each time interval\n",
    "\n",
    "time_intervals\n"
   ]
  },
  {
   "cell_type": "code",
   "execution_count": null,
   "id": "b61bd08f-234b-4f76-aed4-84f909780431",
   "metadata": {},
   "outputs": [],
   "source": []
  },
  {
   "cell_type": "markdown",
   "id": "4601da77-d8f0-4a1f-820c-d7b96e62eaab",
   "metadata": {},
   "source": [
    "<br>\n",
    "\n",
    "<span style=\"color: #FC02BB\"> <strong>SOLUTION</strong> </span>\n",
    "\n",
    "<span style=\"color: red\"><strong>____________________</strong></span>\n",
    "\n",
    "<span style=\"color: red\">________________________</span>\n",
    "\n",
    "<span style=\"color: red\">&nbsp;&nbsp;&nbsp;&nbsp;&nbsp;&nbsp;&nbsp;&nbsp;&nbsp;&nbsp;&nbsp;&nbsp;&nbsp;&nbsp;&nbsp;&nbsp;&nbsp;&nbsp;&nbsp;&nbsp;&nbsp;&nbsp;&nbsp;&nbsp;___________________</span>\n",
    "\n",
    "<span style=\"color: red\">&nbsp;&nbsp;&nbsp;&nbsp;&nbsp;&nbsp;&nbsp;&nbsp;&nbsp;&nbsp;&nbsp;&nbsp;&nbsp;&nbsp;&nbsp;&nbsp;&nbsp;&nbsp;&nbsp;&nbsp;&nbsp;&nbsp;&nbsp;&nbsp;&nbsp;&nbsp;&nbsp;&nbsp;&nbsp;&nbsp;&nbsp;&nbsp;&nbsp;&nbsp;&nbsp;&nbsp;&nbsp;&nbsp;&nbsp;&nbsp;&nbsp;&nbsp;&nbsp;&nbsp;&nbsp;&nbsp;&nbsp;___________________</span>\n",
    "\n",
    "<span style=\"color: blue\">&nbsp;&nbsp;&nbsp;&nbsp;&nbsp;&nbsp;&nbsp;&nbsp;&nbsp;&nbsp;&nbsp;&nbsp;&nbsp;&nbsp;&nbsp;&nbsp;&nbsp;&nbsp;&nbsp;&nbsp;&nbsp;&nbsp;&nbsp;&nbsp;&nbsp;&nbsp;&nbsp;&nbsp;&nbsp;&nbsp;&nbsp;&nbsp;&nbsp;&nbsp;&nbsp;&nbsp;&nbsp;&nbsp;&nbsp;&nbsp;&nbsp;&nbsp;&nbsp;&nbsp;&nbsp;&nbsp;&nbsp;&nbsp;&nbsp;&nbsp;&nbsp;&nbsp;&nbsp;&nbsp;&nbsp;&nbsp;&nbsp;&nbsp;&nbsp;&nbsp;&nbsp;&nbsp;&nbsp;&nbsp;&nbsp;&nbsp;&nbsp;&nbsp;&nbsp;&nbsp;&nbsp;&nbsp;&nbsp;&nbsp;&nbsp;&nbsp;&nbsp;&nbsp;&nbsp;&nbsp;&nbsp;&nbsp;&nbsp;&nbsp;&nbsp;&nbsp;&nbsp;&nbsp;&nbsp;___________________</span> \n",
    "\n",
    "<span style=\"color: blue\">&nbsp;&nbsp;&nbsp;&nbsp;&nbsp;&nbsp;&nbsp;&nbsp;&nbsp;&nbsp;&nbsp;&nbsp;&nbsp;&nbsp;&nbsp;&nbsp;&nbsp;&nbsp;&nbsp;&nbsp;&nbsp;&nbsp;&nbsp;&nbsp;&nbsp;&nbsp;&nbsp;&nbsp;&nbsp;&nbsp;&nbsp;&nbsp;&nbsp;&nbsp;&nbsp;&nbsp;&nbsp;&nbsp;&nbsp;&nbsp;&nbsp;&nbsp;&nbsp;&nbsp;&nbsp;&nbsp;&nbsp;&nbsp;&nbsp;&nbsp;&nbsp;&nbsp;&nbsp;&nbsp;&nbsp;&nbsp;&nbsp;&nbsp;&nbsp;&nbsp;&nbsp;&nbsp;&nbsp;&nbsp;&nbsp;&nbsp;&nbsp;&nbsp;&nbsp;&nbsp;&nbsp;&nbsp;&nbsp;&nbsp;&nbsp;&nbsp;&nbsp;&nbsp;&nbsp;&nbsp;&nbsp;&nbsp;&nbsp;&nbsp;&nbsp;&nbsp;&nbsp;&nbsp;&nbsp;&nbsp;&nbsp;&nbsp;&nbsp;&nbsp;&nbsp;&nbsp;&nbsp;&nbsp;&nbsp;&nbsp;&nbsp;&nbsp;&nbsp;_______________________________</span> \n",
    "\n",
    "<span style=\"color: #DCBD10\">&nbsp;&nbsp;&nbsp;&nbsp;&nbsp;&nbsp;&nbsp;&nbsp;&nbsp;&nbsp;&nbsp;&nbsp;&nbsp;&nbsp;&nbsp;&nbsp;&nbsp;&nbsp;&nbsp;&nbsp;&nbsp;&nbsp;&nbsp;&nbsp;&nbsp;&nbsp;&nbsp;&nbsp;&nbsp;&nbsp;&nbsp;&nbsp;&nbsp;&nbsp;&nbsp;&nbsp;&nbsp;&nbsp;&nbsp;&nbsp;&nbsp;&nbsp;&nbsp;&nbsp;&nbsp;&nbsp;&nbsp;&nbsp;&nbsp;&nbsp;&nbsp;&nbsp;&nbsp;&nbsp;&nbsp;&nbsp;&nbsp;&nbsp;&nbsp;&nbsp;&nbsp;&nbsp;&nbsp;&nbsp;&nbsp;&nbsp;&nbsp;&nbsp;&nbsp;&nbsp;&nbsp;&nbsp;&nbsp;&nbsp;&nbsp;&nbsp;&nbsp;&nbsp;&nbsp;&nbsp;&nbsp;&nbsp;&nbsp;&nbsp;&nbsp;&nbsp;&nbsp;&nbsp;&nbsp;&nbsp;&nbsp;&nbsp;&nbsp;&nbsp;&nbsp;&nbsp;&nbsp;&nbsp;&nbsp;&nbsp;&nbsp;&nbsp;&nbsp;&nbsp;&nbsp;&nbsp;&nbsp;&nbsp;&nbsp;&nbsp;&nbsp;&nbsp;&nbsp;&nbsp;&nbsp;&nbsp;&nbsp;&nbsp;&nbsp;&nbsp;&nbsp;&nbsp;&nbsp;&nbsp;&nbsp;&nbsp;&nbsp;&nbsp;&nbsp;&nbsp;&nbsp;&nbsp;&nbsp;&nbsp;&nbsp;&nbsp;&nbsp;&nbsp;&nbsp;&nbsp;&nbsp;&nbsp;&nbsp;&nbsp;&nbsp;&nbsp;&nbsp;&nbsp;&nbsp;&nbsp;&nbsp;&nbsp;&nbsp;&nbsp;&nbsp;&nbsp;&nbsp;&nbsp;&nbsp;________________</span> \n",
    "\n",
    "<br>\n",
    "\n",
    "<div style=\"padding: 10px; background-color: #FFF3FF\">\n",
    "\n",
    "<pre>\n",
    "    \n",
    "<strong>start</strong> = previous_interval_start = time_intervals[0]\n",
    "<strong>end</strong> = previous_interval_end = time_intervals[1]\n",
    "\n",
    "for i = 1 =====> n-1:\n",
    "     if current_interval_<code style=\"background-color: #F4E8F7\">start</code> <= <strong><code style=\"background-color: yellow\">end</code></strong>:\n",
    "             <code style=\"color: blue\"><strong>end</strong> = max(<strong><code style=\"background-color: yellow\">end</code></strong>, current_interval_<code style=\"background-color: #F4E8F7\">start</code>)</code>\n",
    "     else:\n",
    "         result.append([start, <strong>end</strong>])\n",
    "         <strong>start</strong> = intervals[i][0]\n",
    "         <strong>end</strong> = intervals[i][1]\n",
    "<code style=\"color: blue\">result.append([start, end])</code>\n",
    "\n",
    "</pre>\n",
    "\n",
    "</div>"
   ]
  },
  {
   "cell_type": "code",
   "execution_count": null,
   "id": "f310704d-31b6-4d66-81ad-bfada0fe7120",
   "metadata": {},
   "outputs": [],
   "source": [
    "\n",
    "def merge_time_intervals(time_intervals):\n",
    "    time_intervals.sort(key=lambda x: x[0])\n",
    "    n = len(time_intervals)\n",
    "    if n == 0:\n",
    "        return []\n",
    "\n",
    "    result = []\n",
    "    start, end = time_intervals[0]       # initializing the start and end of the previous interval\n",
    "\n",
    "    for i in range(1, n):\n",
    "        if time_intervals[i][0] <= end:  # Overlapping intervals\n",
    "            end = max(end, time_intervals[i][1])\n",
    "        else:  # Non-overlapping interval\n",
    "            result.append([start, end])\n",
    "            start, end = time_intervals[i]\n",
    "\n",
    "    result.append([start, end])  # Append the last (or merged) interval which was left in the loop\n",
    "    return result\n",
    "\n",
    "\n",
    "time_intervals = [[4, 5], [3, 8], [2, 6], [6, 9]]\n",
    "\n",
    "print(merge_time_intervals(time_intervals))\n"
   ]
  },
  {
   "cell_type": "code",
   "execution_count": 64,
   "id": "6c2a7824-3338-4ca2-bb48-ae40fa863c07",
   "metadata": {},
   "outputs": [
    {
     "name": "stdout",
     "output_type": "stream",
     "text": [
      "[[1, 6], [8, 11], [15, 18]]\n"
     ]
    }
   ],
   "source": [
    "\n",
    "time_intervals = [[1, 3], [2, 6], [2, 4], [8, 9], [8, 10], [9, 11], [15, 18], [16, 17]]\n",
    "\n",
    "print(merge_time_intervals(time_intervals))\n"
   ]
  },
  {
   "cell_type": "code",
   "execution_count": null,
   "id": "e2597b55-9983-444a-9a90-21fc2814ea2d",
   "metadata": {},
   "outputs": [],
   "source": []
  },
  {
   "cell_type": "markdown",
   "id": "953b0827-5849-492d-8ed0-3fcd048fb8a3",
   "metadata": {
    "jp-MarkdownHeadingCollapsed": true
   },
   "source": [
    "##### <span style=\"color: blue\">9  ===> Find all prime numbers upto number n</span>"
   ]
  },
  {
   "cell_type": "markdown",
   "id": "b9cabe92-f6df-4a9c-8707-425a6e7876ab",
   "metadata": {},
   "source": [
    "<br>\n",
    "\n",
    "<span style=\"color: #DCBD10\">▬▬▬▬▬▬▬▬▬▬▬▬▬▬▬▬▬▬▬▬▬▬▬▬▬▬▬▬▬▬▬▬▬▬▬▬▬▬▬▬▬▬▬▬▬▬▬▬▬▬▬▬▬▬▬▬▬▬▬▬▬▬▬▬▬▬▬▬▬▬▬▬▬▬▬▬</span>\n",
    "\n",
    "<br>\n",
    "\n",
    "<div style=\"padding: 10px; background-color: #E2FFEC\">\n",
    "\n",
    "<u>**QUESTION - 9**</u> : &nbsp;Find all **prime numbers** upto number n\n",
    "\n",
    "</div>\n",
    "\n",
    "<br>\n",
    "\n",
    "<span style=\"color: #FC02BB\"> <strong>SOLUTION</strong> </span> ====> using &nbsp;<code style=\"background-color: yellow\"> Sieve of Eratosthenes </code>&nbsp; algorithm ====> **Time Complexity** = <code style=\"background-color: yellow\">O(n * log(log(n)))</code>"
   ]
  },
  {
   "cell_type": "markdown",
   "id": "b06ae6f1-d7d1-4c56-9a7e-e678e88d258a",
   "metadata": {},
   "source": [
    "<br>\n",
    "\n",
    "Let's first see &nbsp;<code>how to create a list of 30 elements with the default value \"True\"</code> : <br>\n",
    "\n",
    "<div style=\"margin-left: 90px\">\n",
    "1. using &nbsp;<code>list comprehension</code> <br>\n",
    "2. using &nbsp;<code>* operator</code>\n",
    "</div>"
   ]
  },
  {
   "cell_type": "code",
   "execution_count": 2,
   "id": "3e82c923-87e7-4fdc-96fc-43da88a600ee",
   "metadata": {},
   "outputs": [
    {
     "name": "stdout",
     "output_type": "stream",
     "text": [
      "[True, True, True, True, True, True, True, True, True, True, True, True, True, True, True, True, True, True, True, True, True, True, True, True, True, True, True, True, True, True]\n"
     ]
    }
   ],
   "source": [
    "\n",
    "# using  list comprehension\n",
    "\n",
    "my_list = [True for _ in range(30)]    # my_list = [True for i in range(30)]\n",
    "print(my_list)\n"
   ]
  },
  {
   "cell_type": "code",
   "execution_count": 18,
   "id": "90697970-bd97-4180-8900-2d2fa3f6e79d",
   "metadata": {},
   "outputs": [
    {
     "name": "stdout",
     "output_type": "stream",
     "text": [
      "[True, True, True, True, True, True, True, True, True, True, True, True, True, True, True, True, True, True, True, True, True, True, True, True, True, True, True, True, True, True]\n"
     ]
    }
   ],
   "source": [
    "\n",
    "# using  * operator\n",
    "\n",
    "my_list = [True] * 30\n",
    "print(my_list)\n"
   ]
  },
  {
   "cell_type": "code",
   "execution_count": 51,
   "id": "e956499a-3b9e-4f3c-a021-1b71e9698672",
   "metadata": {},
   "outputs": [
    {
     "data": {
      "text/plain": [
       "[2, 3, 5, 7, 11, 13, 17, 19, 23, 29]"
      ]
     },
     "execution_count": 51,
     "metadata": {},
     "output_type": "execute_result"
    }
   ],
   "source": [
    "\n",
    "def find_all_prime_nums(n):\n",
    "    primes = [True] * (n + 1)                    # O(n)\n",
    "    for i in range(2, int(n**(0.5)) + 1, 1):     # O(n * log(log n))\n",
    "        if primes[i] == True:\n",
    "            for j in range(i**2, n+1, i):        # instead of writing i**2 which can vary from one language to another, we should write i*i\n",
    "                primes[j] = False\n",
    "    result = []\n",
    "    for i in range(2, n+1, 1):                   # O(n)\n",
    "        if primes[i] == True:\n",
    "            result.append(i)\n",
    "    return result\n",
    "            \n",
    "                \n",
    "find_all_prime_nums(30)    \n"
   ]
  },
  {
   "cell_type": "markdown",
   "id": "fef00e8d-41d2-49e7-a4ef-f03ac854349d",
   "metadata": {},
   "source": [
    "\n",
    "In the above code, **Time Complexity**&nbsp; = &nbsp;<code style=\"background-color: #F4E8F7\">&nbsp;O(n)&nbsp;</code>&nbsp; + &nbsp;<code style=\"background-color: #F4E8F7\">&nbsp;O(n * log(log(n)))&nbsp;</code>&nbsp; + &nbsp;<code style=\"background-color: #F4E8F7\">&nbsp;O(n)&nbsp;</code>&nbsp; = &nbsp;<code style=\"background-color: yellow\">&nbsp;O(n * log(log(n)))&nbsp;</code>&nbsp;\n",
    "\n",
    "Let's try if we can further optimize it.\n"
   ]
  },
  {
   "cell_type": "code",
   "execution_count": 54,
   "id": "62ba90d5-90e9-487c-ac8e-f2cd5b5ded6d",
   "metadata": {},
   "outputs": [
    {
     "data": {
      "text/plain": [
       "[2, 3, 5, 7, 11, 13, 17, 19, 23, 29]"
      ]
     },
     "execution_count": 54,
     "metadata": {},
     "output_type": "execute_result"
    }
   ],
   "source": [
    "\n",
    "def find_all_prime_nums(n):\n",
    "    result = []\n",
    "    primes = [True] * (n + 1)                # O(n)\n",
    "    for i in range(2, n + 1, 1):             # O(n * log(log n)) + O(n - √n)\n",
    "        if primes[i] == True:\n",
    "            result.append(i)\n",
    "            for j in range(i*i, n+1, i):    # instead of writing i**2 which can vary from one language to another, we should write i*i\n",
    "                primes[j] = False\n",
    "    return result\n",
    "            \n",
    "                \n",
    "find_all_prime_nums(30)    \n"
   ]
  },
  {
   "cell_type": "markdown",
   "id": "1760419a-dad4-43ac-b642-1eaa5f28eb07",
   "metadata": {},
   "source": [
    "\n",
    "In the above code, **Time Complexity**&nbsp; = &nbsp;<code style=\"background-color: #F4E8F7\">&nbsp;O(n)&nbsp;</code>&nbsp; + &nbsp;<code style=\"background-color: #F4E8F7\">&nbsp;O(n * log(log n)) + O(n - √n)&nbsp;</code>&nbsp; = &nbsp;<code style=\"background-color: yellow\">&nbsp;O(n * log(log(n)))&nbsp;</code>&nbsp;\n",
    "\n",
    "Although the overall time-complexity is same but still this is slightly better than the previous soluttion"
   ]
  },
  {
   "cell_type": "code",
   "execution_count": null,
   "id": "34c77efd-5c93-46bb-a68b-5a4a8304e3b8",
   "metadata": {},
   "outputs": [],
   "source": []
  },
  {
   "cell_type": "markdown",
   "id": "15e82bda-b1ee-4eb2-b49b-3e2748aa3261",
   "metadata": {
    "jp-MarkdownHeadingCollapsed": true
   },
   "source": [
    "##### <span style=\"color: blue\">10  ===> Find &nbsp;n<sup>th</sup> &nbsp;prime number</span>"
   ]
  },
  {
   "cell_type": "markdown",
   "id": "36f339c8-2d05-4f75-960a-5947f5a1ed8b",
   "metadata": {},
   "source": [
    "<br>\n",
    "\n",
    "<span style=\"color: #DCBD10\">▬▬▬▬▬▬▬▬▬▬▬▬▬▬▬▬▬▬▬▬▬▬▬▬▬▬▬▬▬▬▬▬▬▬▬▬▬▬▬▬▬▬▬▬▬▬▬▬▬▬▬▬▬▬▬▬▬▬▬▬▬▬▬▬▬▬▬▬▬▬▬▬▬▬▬▬</span>\n",
    "\n",
    "<br>\n",
    "\n",
    "<div style=\"padding: 10px; background-color: #E2FFEC\">\n",
    "\n",
    "<u>**QUESTION - 10**</u> : &nbsp;Find &nbsp;n<sup>th</sup> &nbsp;prime number\n",
    "\n",
    "</div>\n",
    "\n",
    "<br>\n",
    "\n",
    "<span style=\"color: #FC02BB\"> <strong>SOLUTION</strong> </span> ====> using &nbsp;<code style=\"background-color: yellow\"> Sieve of Eratosthenes </code>&nbsp; algorithm ====> **Time Complexity** = <code style=\"background-color: yellow\">O(n * log(log(n)))</code>"
   ]
  },
  {
   "cell_type": "code",
   "execution_count": 76,
   "id": "5544bd83-c149-4516-96ad-ade2c4c036a8",
   "metadata": {},
   "outputs": [
    {
     "data": {
      "text/plain": [
       "29"
      ]
     },
     "execution_count": 76,
     "metadata": {},
     "output_type": "execute_result"
    }
   ],
   "source": [
    "\n",
    "def find_nth_prime_number(n):\n",
    "    primes = [True] * (1000000 + 1)    # Assumption ====> 10th prime number will be less than 1000000\n",
    "    primes[0] = primes[1] = False\n",
    "    for i in range(2, int(1000000**(0.5)) + 1, 1):\n",
    "        if primes[i] == True:\n",
    "            for j in range(i*i, 1000000 + 1, i):   # instead of writing i**2 which can vary from one language to another, we should write i*i\n",
    "                primes[j] = False\n",
    "    count = 0\n",
    "    for i in range(2, 1000000 + 1, 1):\n",
    "        if primes[i] == True:\n",
    "            count = count + 1\n",
    "            if count == n:\n",
    "                result = i\n",
    "    return result\n",
    "\n",
    "\n",
    "find_nth_prime_number(10)   # Finding the 10th prime number\n"
   ]
  },
  {
   "cell_type": "markdown",
   "id": "ccc66cb9-0b71-4905-bd05-c142aa86ee9f",
   "metadata": {},
   "source": [
    "Now that we already know **29** is the **10th prime number**, It is aafe to say that <span style=\"background-color: yellow\">&nbsp;even the sieve array of size 29 + 1 = 30 will work&nbsp;</span> instead of making it of size equals some very big number like 1000000.\n",
    "\n",
    "Let's confirm :"
   ]
  },
  {
   "cell_type": "code",
   "execution_count": 77,
   "id": "25ac2fde-f75e-4312-b53b-fcf09ee08528",
   "metadata": {},
   "outputs": [
    {
     "data": {
      "text/plain": [
       "29"
      ]
     },
     "execution_count": 77,
     "metadata": {},
     "output_type": "execute_result"
    }
   ],
   "source": [
    "def find_nth_prime_number(n):\n",
    "    primes = [True] * (29 + 1)    # ====> Since we already know 10th prime number is 29 and 29 is less than 29 + 1\n",
    "    primes[0] = primes[1] = False\n",
    "    for i in range(2, int(29**(0.5)) + 1, 1):\n",
    "        if primes[i] == True:\n",
    "            for j in range(i*i, 29 + 1, i):    # instead of writing i**2 which can vary from one language to another, we should write i*i\n",
    "                primes[j] = False\n",
    "    count = 0\n",
    "    for i in range(2, 29 + 1, 1):\n",
    "        if primes[i] == True:\n",
    "            count = count + 1\n",
    "            if count == n:\n",
    "                result = i\n",
    "    return result\n",
    "\n",
    "\n",
    "find_nth_prime_number(10)   # Finding the 10th prime number"
   ]
  },
  {
   "cell_type": "code",
   "execution_count": null,
   "id": "2951a268-422e-46dd-9a4d-1dabb0ec338f",
   "metadata": {},
   "outputs": [],
   "source": []
  },
  {
   "cell_type": "markdown",
   "id": "b21269a7-b2d8-45f9-b505-4a9f7a1b560f",
   "metadata": {
    "jp-MarkdownHeadingCollapsed": true
   },
   "source": [
    "##### <span style=\"color: blue\">11  ===> Closest prime numbers in range"
   ]
  },
  {
   "cell_type": "markdown",
   "id": "e694e7e0-1aa1-43c7-bc23-7f4cc593103b",
   "metadata": {},
   "source": [
    "<br>\n",
    "\n",
    "<span style=\"color: #DCBD10\">▬▬▬▬▬▬▬▬▬▬▬▬▬▬▬▬▬▬▬▬▬▬▬▬▬▬▬▬▬▬▬▬▬▬▬▬▬▬▬▬▬▬▬▬▬▬▬▬▬▬▬▬▬▬▬▬▬▬▬▬▬▬▬▬▬▬▬▬▬▬▬▬▬▬▬▬</span>\n",
    "\n",
    "<br>\n",
    "\n",
    "<div style=\"padding: 10px; background-color: #E2FFEC\">\n",
    "\n",
    "<u>**QUESTION - 11**</u> : &nbsp;Closest prime numbers in range\n",
    "\n",
    "</div>\n",
    "\n",
    "<br>\n",
    "\n",
    "<span style=\"color: #FC02BB\"> <strong>SOLUTION</strong> </span> ====> using &nbsp;<code style=\"background-color: yellow\"> Sieve of Eratosthenes </code>&nbsp; algorithm ====> **Time Complexity** = <code style=\"background-color: yellow\">&nbsp;O(n * log(log(n)))&nbsp;</code>"
   ]
  },
  {
   "cell_type": "code",
   "execution_count": 68,
   "id": "e4c49b85-3b70-4a8f-a6c5-66ceb1414755",
   "metadata": {},
   "outputs": [
    {
     "data": {
      "text/plain": [
       "[11, 13]"
      ]
     },
     "execution_count": 68,
     "metadata": {},
     "output_type": "execute_result"
    }
   ],
   "source": [
    "\n",
    "def closest_prime_numbers_in_range(start, end):\n",
    "    primes = [True] * (end + 1)\n",
    "    primes[0] = primes[1] = False\n",
    "    for i in range(2, int(end**(0.5)) + 1, 1):\n",
    "        if primes[i] == True:\n",
    "            for j in range(i*i, end + 1, i):\n",
    "                primes[j] = False\n",
    "    temp_first_prime = 0\n",
    "    temp_second_prime = 0\n",
    "    first_prime = 0\n",
    "    second_prime = 0\n",
    "    min_diff = float('inf')\n",
    "    for i in range(start, end + 1, 1):\n",
    "        if primes[i] == True and temp_first_prime == 0:\n",
    "            temp_first_prime = i\n",
    "        elif primes[i] == True and temp_second_prime == 0:\n",
    "            temp_second_prime = i\n",
    "        if temp_first_prime != 0 and temp_second_prime != 0:\n",
    "            diff = temp_second_prime - temp_first_prime\n",
    "            if diff < min_diff:\n",
    "                min_diff = diff\n",
    "                first_prime = temp_first_prime\n",
    "                second_prime = temp_second_prime\n",
    "            temp_first_prime = temp_second_prime\n",
    "            temp_second_prime = 0\n",
    "    if first_prime != 0 and second_prime!= 0:\n",
    "        return [first_prime, second_prime]\n",
    "    else:\n",
    "        return [-1, -1]\n",
    "    \n",
    "        \n",
    "start = 7\n",
    "end = 42\n",
    "closest_prime_numbers_in_range(start, end)\n"
   ]
  },
  {
   "cell_type": "code",
   "execution_count": null,
   "id": "3f71870f-27d4-4aad-9a2f-b479a0dd3ea7",
   "metadata": {},
   "outputs": [],
   "source": [
    "\n",
    "def closest_prime_numbers_in_range(start, end):\n",
    "    def sieve_of_eratosthenes(limit):     # function inside a function\n",
    "        primes = [True] * (limit + 1)\n",
    "        primes[0] = primes[1] = False\n",
    "        for i in range(2, int(limit ** 0.5) + 1):\n",
    "            if primes[i]:\n",
    "                for j in range(i * i, limit + 1, i):\n",
    "                    primes[j] = False\n",
    "        return primes\n",
    "\n",
    "    primes = sieve_of_eratosthenes(end)   # calling the function  ====>  sieve_of_eratosthenes()\n",
    "    temp_first_prime = 0\n",
    "    temp_second_prime = 0\n",
    "    first_prime = 0\n",
    "    second_prime = 0\n",
    "    min_diff = float('inf')\n",
    "    for i in range(start, end + 1, 1):\n",
    "        if primes[i] == True and temp_first_prime == 0:\n",
    "            temp_first_prime = i\n",
    "        elif primes[i] == True and temp_second_prime == 0:\n",
    "            temp_second_prime = i\n",
    "        if temp_first_prime != 0 and temp_second_prime != 0:\n",
    "            diff = temp_second_prime - temp_first_prime\n",
    "            if diff < min_diff:\n",
    "                min_diff = diff\n",
    "                first_prime = temp_first_prime\n",
    "                second_prime = temp_second_prime\n",
    "            temp_first_prime = temp_second_prime\n",
    "            temp_second_prime = 0\n",
    "    if first_prime != 0 and second_prime!= 0:\n",
    "        return [first_prime, second_prime]\n",
    "    else:\n",
    "        return [-1, -1]\n",
    "    \n",
    "\n",
    "start = 7\n",
    "end = 42\n",
    "closest_prime_numbers_in_range(start, end)\n"
   ]
  },
  {
   "cell_type": "code",
   "execution_count": null,
   "id": "aca71718-d779-4914-aa87-668b677fd86b",
   "metadata": {},
   "outputs": [],
   "source": []
  },
  {
   "cell_type": "markdown",
   "id": "9e89c10c-2516-40e4-bf9c-2f2f64d57384",
   "metadata": {
    "jp-MarkdownHeadingCollapsed": true
   },
   "source": [
    "##### <span style=\"color: blue\">12  ===> Given 2 sorted arrays left_array and right_array, find all outputs of the form &nbsp;<code style=\"background-color: #F4E8F7\">&nbsp;[a, b]&nbsp;</code>&nbsp; such that &nbsp;<code style=\"background-color: #F4E8F7\">&nbsp;a > b&nbsp;</code>, <br>\n",
    "\n",
    "##### &nbsp;&nbsp;&nbsp;&nbsp;&nbsp;&nbsp;&nbsp;&nbsp;&nbsp;&nbsp;&nbsp;&nbsp;&nbsp;&nbsp;&nbsp;<span style=\"color: blue\"> where &nbsp;<code style=\"background-color: #F4E8F7\">&nbsp;a belongs to left_array&nbsp;</code>&nbsp; and &nbsp;<code style=\"background-color: #F4E8F7\">&nbsp;b belongs to right_array&nbsp;</code> </span>"
   ]
  },
  {
   "cell_type": "markdown",
   "id": "1d40f623-bb1d-4708-82a7-b979d53ac37e",
   "metadata": {},
   "source": [
    "<br>\n",
    "\n",
    "<span style=\"color: #DCBD10\">▬▬▬▬▬▬▬▬▬▬▬▬▬▬▬▬▬▬▬▬▬▬▬▬▬▬▬▬▬▬▬▬▬▬▬▬▬▬▬▬▬▬▬▬▬▬▬▬▬▬▬▬▬▬▬▬▬▬▬▬▬▬▬▬▬▬▬▬▬▬▬▬▬▬▬▬</span>\n",
    "\n",
    "<br>\n",
    "\n",
    "<div style=\"padding: 10px; background-color: #E2FFEC\">\n",
    "\n",
    "<u>**QUESTION - 12**</u> : &nbsp;Given **2 sorted arrays** left_array and right_array, find all outputs of the form &nbsp;<code style=\"background-color: #F4E8F7\">&nbsp;[a, b]&nbsp;</code>&nbsp; such that &nbsp;<code style=\"background-color: #F4E8F7\">&nbsp;a > b&nbsp;</code>, \n",
    "\n",
    "&nbsp;&nbsp;&nbsp;&nbsp;&nbsp;&nbsp;&nbsp;&nbsp;&nbsp;&nbsp;&nbsp;&nbsp;&nbsp;&nbsp;&nbsp;&nbsp;&nbsp;&nbsp;&nbsp;&nbsp;&nbsp;&nbsp;&nbsp;&nbsp;&nbsp;&nbsp;&nbsp;&nbsp;where &nbsp;<code style=\"background-color: #F4E8F7\">&nbsp;a belongs to left_array&nbsp;</code>&nbsp; and &nbsp;<code style=\"background-color: #F4E8F7\">&nbsp;b belongs to right_array&nbsp;</code>\n",
    "\n",
    "</div>\n",
    "\n",
    "<br>\n"
   ]
  },
  {
   "cell_type": "markdown",
   "id": "fb634658-bf61-4a24-b721-f1db5737b01d",
   "metadata": {},
   "source": [
    "\n",
    "<span style=\"color: #FC02BB\"> <strong>SOLUTION</strong> \n",
    "\n",
    "<br>\n",
    "\n",
    "<div style=\"display: flex; margin-left: 200px\">\n",
    "    <div style=\"flex: 1; margin-right: 50px;\">\n",
    "        <table border=\"1\">\n",
    "            <caption><span style=\"color: red\">arr 1</span></caption>\n",
    "            <tr>\n",
    "                <th>1</th>\n",
    "                <th>&nbsp;&nbsp;&nbsp;&nbsp;&nbsp;&nbsp;&nbsp;&nbsp;&nbsp;&nbsp;&nbsp;&nbsp;3</th>\n",
    "                <th>&nbsp;&nbsp;&nbsp;&nbsp;&nbsp;&nbsp;&nbsp;&nbsp;&nbsp;&nbsp;&nbsp;&nbsp;&nbsp;&nbsp;5</th>\n",
    "                <th>&nbsp;&nbsp;&nbsp;&nbsp;&nbsp;&nbsp;&nbsp;&nbsp;7</th>\n",
    "            </tr>\n",
    "            <tr>\n",
    "                <td>i = 0</td>\n",
    "                <td>&nbsp;&nbsp;&nbsp;&nbsp;&nbsp;&nbsp;&nbsp;&nbsp;&nbsp;&nbsp;&nbsp;&nbsp;1</td>\n",
    "                <td>&nbsp;&nbsp;&nbsp;&nbsp;&nbsp;&nbsp;&nbsp;&nbsp;&nbsp;&nbsp;&nbsp;&nbsp;&nbsp;&nbsp;2</td>\n",
    "                <td>&nbsp;&nbsp;&nbsp;&nbsp;&nbsp;&nbsp;&nbsp;&nbsp;&nbsp;n1 = 3</td>\n",
    "            </tr>\n",
    "            <!-- Add more rows and columns as needed -->\n",
    "        </table>\n",
    "    </div>\n",
    "    <div style=\"flex: 1;\">\n",
    "        <table border=\"1\">\n",
    "            <caption><span style=\"color: red\">arr 2</span></caption>\n",
    "            <tr>\n",
    "                <th>2</th>\n",
    "                <th>&nbsp;&nbsp;&nbsp;&nbsp&nbsp;&nbsp&nbsp;&nbsp;&nbsp;&nbsp;&nbsp;4</th>\n",
    "                <th>&nbsp;&nbsp;&nbsp;&nbsp;&nbsp;&nbsp;&nbsp;&nbsp;&nbsp;&nbsp;&nbsp;&nbsp;&nbsp;&nbsp;6</th>\n",
    "                <th>&nbsp;&nbsp;&nbsp;&nbsp;&nbsp;&nbsp;&nbsp;&nbsp;&nbsp;8</th>\n",
    "            </tr>\n",
    "            <tr>\n",
    "                <td>j = 0</td>\n",
    "                <td>&nbsp;&nbsp;&nbsp;&nbsp;&nbsp;&nbsp;&nbsp;&nbsp;&nbsp;&nbsp;&nbsp;1</td>\n",
    "                <td>&nbsp;&nbsp;&nbsp;&nbsp;&nbsp;&nbsp;&nbsp;&nbsp;&nbsp;&nbsp;&nbsp;&nbsp;&nbsp;&nbsp;2</td>\n",
    "                <td>&nbsp;&nbsp;&nbsp;&nbsp;&nbsp;&nbsp;&nbsp;&nbsp;&nbsp;&nbsp;n2 = 3</td>\n",
    "            </tr>\n",
    "            <!-- Add more rows and columns as needed -->\n",
    "        </table>\n",
    "    </div>\n",
    "</div>\n",
    "\n",
    "\n",
    "<pre>\n",
    "    <br>\n",
    "                                    count = 0\n",
    "                                    j = 0\n",
    "                                    for i in range 0 ====> n1 - 1:\n",
    "                                        while j <= n2 -1 and <span style=\"background-color: #FEFFC5\"><span style=\"color: blue\">arr</span>[<span style=\"color: red\"><strong>j</strong></span>] < <span style=\"color: blue\">arr</span>[<span style=\"color: red\"><strong>i</strong></span>]</span>:\n",
    "                                            j = j + 1\n",
    "                                        count = count + j\n",
    "\n",
    "                          \n",
    "</pre>\n",
    "</div>\n"
   ]
  },
  {
   "cell_type": "code",
   "execution_count": 2,
   "id": "23e82736-ee07-419e-af1a-f96af117ad8f",
   "metadata": {},
   "outputs": [
    {
     "name": "stdout",
     "output_type": "stream",
     "text": [
      "7\n"
     ]
    }
   ],
   "source": [
    "\n",
    "# function to count the merged duplets\n",
    "def count_inversion(arr1, arr2):\n",
    "    n1 = len(arr1)\n",
    "    n2 = len(arr2)\n",
    "    count = 0\n",
    "    j = 0  # Initialize j outside the loop\n",
    "\n",
    "    for i in range(0, n1):\n",
    "        while j < n2 and arr2[j] < arr1[i]:\n",
    "            j += 1\n",
    "        count += j  # Add the count of elements in arr2 less than arr1[i]\n",
    "        \n",
    "    return count\n",
    "\n",
    "\n",
    "arr1 = [1, 3, 5, 9]\n",
    "arr2 = [2, 4, 6, 8]\n",
    "\n",
    "result = count_inversion(arr1, arr2)    # expected output  ===>  [3,2], [5,2], [5, 4]  ====> count = 3\n",
    "print(result)\n"
   ]
  },
  {
   "cell_type": "code",
   "execution_count": 3,
   "id": "ed9e56ed-268b-48e8-9000-9f85f7b499e5",
   "metadata": {},
   "outputs": [
    {
     "data": {
      "text/plain": [
       "27"
      ]
     },
     "execution_count": 3,
     "metadata": {},
     "output_type": "execute_result"
    }
   ],
   "source": [
    "\n",
    "arr1 = [5, 9, 12, 15, 17, 25]\n",
    "arr2 = [1, 3, 4, 10, 14, 21, 22]\n",
    "\n",
    "count_inversion(arr1, arr2)\n"
   ]
  },
  {
   "cell_type": "code",
   "execution_count": null,
   "id": "bc05ca7f-81c5-49cc-ab25-a732ffbf8599",
   "metadata": {},
   "outputs": [],
   "source": []
  },
  {
   "cell_type": "markdown",
   "id": "922049fb-9c93-4151-ba1c-ebf58d95078f",
   "metadata": {
    "jp-MarkdownHeadingCollapsed": true
   },
   "source": [
    "\n",
    "##### <span style=\"color: blue\">13  ===> Count inversion pairs\n"
   ]
  },
  {
   "cell_type": "markdown",
   "id": "48aca0c8-cd15-425a-92db-bc0900528b20",
   "metadata": {},
   "source": [
    "<br>\n",
    "\n",
    "<span style=\"color: #DCBD10\">▬▬▬▬▬▬▬▬▬▬▬▬▬▬▬▬▬▬▬▬▬▬▬▬▬▬▬▬▬▬▬▬▬▬▬▬▬▬▬▬▬▬▬▬▬▬▬▬▬▬▬▬▬▬▬▬▬▬▬▬▬▬▬▬▬▬▬▬▬▬▬▬▬▬▬▬</span>\n",
    "\n",
    "<br>\n",
    "\n",
    "<div style=\"padding: 10px; background-color: #E2FFEC\">\n",
    "\n",
    "<u>**QUESTION - 13**</u> : &nbsp;Given an array, find all such pairs of the form &nbsp;<code style=\"background-color: #F4E8F7\">&nbsp;[a, b]&nbsp;</code>&nbsp; such that &nbsp;<code style=\"background-color: #F4E8F7\">&nbsp;a > b&nbsp;</code>\n",
    "\n",
    "</div>\n",
    "\n",
    "<br>\n",
    "\n",
    "<span style=\"color: red\">You can think in terms of **left order traversal** to undertand how things are working here</span>\n",
    "\n",
    "<span style=\"color: #FC02BB\"> <strong>SOLUTION</strong> "
   ]
  },
  {
   "cell_type": "code",
   "execution_count": 57,
   "id": "4db86722-f557-4911-b41d-e4f366c674a3",
   "metadata": {},
   "outputs": [
    {
     "name": "stdout",
     "output_type": "stream",
     "text": [
      "[1, 2, 3, 4, 5, 9]\n",
      "Total Inversion Count: 9\n"
     ]
    }
   ],
   "source": [
    "\n",
    "total_count = 0\n",
    "\n",
    "def merge_sort(arr, p, r):\n",
    "    if p < r:\n",
    "        q = int((p + r) / 2)\n",
    "        merge_sort(arr, p, q)\n",
    "        merge_sort(arr, q+1, r)\n",
    "        count_inversion(arr, p, q, r)   \n",
    "        merge(arr, p, q, r)   # The pairs which are sorted in the ascending order due to this merge function are already counted if eligible\n",
    "                              # acording to the condition of the count_inversion() in the previous step\n",
    "\n",
    "\n",
    "def count_inversion(arr, p, q, r):\n",
    "    global total_count\n",
    "    j = q + 1\n",
    "    for i in range(p, q+1):\n",
    "        while j <= r and arr[j] < arr[i]:\n",
    "            j += 1\n",
    "        total_count = total_count + (j - (q+1))\n",
    "            \n",
    "\n",
    "def merge(arr, p, q, r):\n",
    "    sorted_array = []\n",
    "    i = p\n",
    "    j = q + 1\n",
    "    for k in range(p, r+1):\n",
    "        if i <= q and j <= r:\n",
    "            if arr[i] <= arr[j]:\n",
    "                sorted_array.append(arr[i])\n",
    "                i = i + 1\n",
    "            else:\n",
    "                sorted_array.append(arr[j])\n",
    "                j = j + 1        \n",
    "        elif i > q and j <= r:\n",
    "                sorted_array.append(arr[j])\n",
    "                j = j + 1\n",
    "        elif j > r and i <= q:\n",
    "                sorted_array.append(arr[i])\n",
    "                i = i + 1\n",
    "    for i in range(p, r+1):          # copying the elements of the 'sorted_array' back in the 'arr'\n",
    "        arr[i] = sorted_array[i-p]\n",
    "\n",
    "\n",
    "arr = [5, 2, 9, 1, 4, 3]\n",
    "merge_sort(arr, 0, len(arr)-1)\n",
    "\n",
    "print(arr)\n",
    "print(\"Total Inversion Count:\", total_count)\n"
   ]
  },
  {
   "cell_type": "markdown",
   "id": "178c007c-f8bd-421e-b721-3f26542abb18",
   "metadata": {},
   "source": [
    "<br>\n",
    "\n",
    "<span style=\"color: red\">Let's now find such pairs too</span>\n"
   ]
  },
  {
   "cell_type": "code",
   "execution_count": 72,
   "id": "52b2d893-2ac6-44ad-892a-f25627b1b5b5",
   "metadata": {},
   "outputs": [
    {
     "name": "stdout",
     "output_type": "stream",
     "text": [
      "[1, 2, 3, 4, 5, 9]\n",
      "Total Inversion Count: 9\n",
      "All Inversion Pairs: [[5, 2], [4, 3], [2, 1], [5, 1], [5, 3], [5, 4], [9, 1], [9, 3], [9, 4]]\n"
     ]
    }
   ],
   "source": [
    "\n",
    "total_count = 0\n",
    "inversion_pairs_list = []\n",
    "\n",
    "def merge_sort(arr, p, r):\n",
    "    if p < r:\n",
    "        q = int((p + r) / 2)\n",
    "        merge_sort(arr, p, q)\n",
    "        merge_sort(arr, q+1, r)\n",
    "        count_inversion(arr, p, q, r)   \n",
    "        merge(arr, p, q, r)   # The pairs which are sorted in the ascending order due to this merge function are already counted if eligible\n",
    "                              # acording to the condition of the count_inversion() in the previous step\n",
    "\n",
    "\n",
    "def count_inversion(arr, p, q, r):\n",
    "    global total_count\n",
    "    global inversion_pairs_list\n",
    "    j = q + 1\n",
    "    for i in range(p, q+1):\n",
    "        while j <= r and arr[j] < arr[i]:\n",
    "            j += 1\n",
    "        k = q+ 1\n",
    "        while k < j:\n",
    "            inversion_pairs_list.append([arr[i], arr[k]])\n",
    "            k = k + 1\n",
    "            \n",
    "        total_count = total_count + (j - (q+1))\n",
    "            \n",
    "\n",
    "def merge(arr, p, q, r):\n",
    "    sorted_array = []\n",
    "    i = p\n",
    "    j = q + 1\n",
    "    for k in range(p, r+1):\n",
    "        if i <= q and j <= r:\n",
    "            if arr[i] <= arr[j]:\n",
    "                sorted_array.append(arr[i])\n",
    "                i = i + 1\n",
    "            else:\n",
    "                sorted_array.append(arr[j])\n",
    "                j = j + 1        \n",
    "        elif i > q and j <= r:\n",
    "                sorted_array.append(arr[j])\n",
    "                j = j + 1\n",
    "        elif j > r and i <= q:\n",
    "                sorted_array.append(arr[i])\n",
    "                i = i + 1\n",
    "    for i in range(p, r+1):          # copying the elements of the 'sorted_array' back in the 'arr'\n",
    "        arr[i] = sorted_array[i-p]\n",
    "\n",
    "\n",
    "arr = [5, 2, 9, 1, 4, 3]\n",
    "merge_sort(arr, 0, len(arr)-1)\n",
    "\n",
    "print(arr)\n",
    "print(\"Total Inversion Count:\", total_count)\n",
    "print(\"All Inversion Pairs:\", inversion_pairs_list)\n"
   ]
  },
  {
   "cell_type": "code",
   "execution_count": null,
   "id": "42fccb31-2aeb-470b-a236-b94d73658430",
   "metadata": {},
   "outputs": [],
   "source": []
  },
  {
   "cell_type": "code",
   "execution_count": null,
   "id": "fe9a31c0-c191-475e-8e0e-418376c20334",
   "metadata": {},
   "outputs": [],
   "source": []
  },
  {
   "cell_type": "markdown",
   "id": "52642a4a-3d99-4415-b8cf-128579a553e4",
   "metadata": {
    "jp-MarkdownHeadingCollapsed": true
   },
   "source": [
    "##### <span style=\"color: blue\">14  ===> Count reverse pairs"
   ]
  },
  {
   "cell_type": "markdown",
   "id": "436c1513-d1eb-4686-9b41-d401a11dae26",
   "metadata": {},
   "source": [
    "<br>\n",
    "\n",
    "<span style=\"color: #DCBD10\">▬▬▬▬▬▬▬▬▬▬▬▬▬▬▬▬▬▬▬▬▬▬▬▬▬▬▬▬▬▬▬▬▬▬▬▬▬▬▬▬▬▬▬▬▬▬▬▬▬▬▬▬▬▬▬▬▬▬▬▬▬▬▬▬▬▬▬▬▬▬▬▬▬▬▬▬</span>\n",
    "\n",
    "<br>\n",
    "\n",
    "<div style=\"padding: 10px; background-color: #E2FFEC\">\n",
    "\n",
    "<u>**QUESTION - 14**</u> : &nbsp;Given an array, find the count of all such pairs of the form &nbsp;<code style=\"background-color: #F4E8F7\">&nbsp;[a, b]&nbsp;</code>&nbsp; such that &nbsp;<code style=\"background-color: #F4E8F7\">&nbsp;a > 2b&nbsp;</code>\n",
    "\n",
    "</div>\n",
    "\n",
    "<br>"
   ]
  },
  {
   "cell_type": "code",
   "execution_count": 80,
   "id": "dd128e18-257d-4b17-9e14-4686bc3729fa",
   "metadata": {},
   "outputs": [
    {
     "name": "stdout",
     "output_type": "stream",
     "text": [
      "[1, 2, 3, 4, 5, 9]\n",
      "Total Inversion Count: 5\n",
      "All Inversion Pairs: [[5, 2], [5, 1], [9, 1], [9, 3], [9, 4]]\n"
     ]
    }
   ],
   "source": [
    "\n",
    "total_count = 0\n",
    "inversion_pairs_list = []\n",
    "\n",
    "\n",
    "def merge_sort(arr, p, r):\n",
    "    if p < r:\n",
    "        q = int((p + r) / 2)\n",
    "        merge_sort(arr, p, q)\n",
    "        merge_sort(arr, q+1, r)\n",
    "        count_inversion(arr, p, q, r)   \n",
    "        merge(arr, p, q, r)   # The pairs which are sorted in the ascending order due to this merge function are already counted if eligible\n",
    "                              # acording to the condition of the count_inversion() in the previous step\n",
    "\n",
    "\n",
    "def count_inversion(arr, p, q, r):\n",
    "    global total_count\n",
    "    global inversion_pairs_list\n",
    "    j = q + 1\n",
    "    for i in range(p, q+1):\n",
    "        while j <= r and (2 * arr[j]) < arr[i]:\n",
    "            j += 1\n",
    "        k = q+ 1\n",
    "        while k < j:                               # appending all the pairs in inversion_pairs_list\n",
    "            inversion_pairs_list.append([arr[i], arr[k]])\n",
    "            k = k + 1\n",
    "        total_count = total_count + (j - (q+1))\n",
    "\n",
    "\n",
    "def merge(arr, p, q, r):\n",
    "    sorted_array = []\n",
    "    i = p\n",
    "    j = q + 1\n",
    "    for k in range(p, r+1):\n",
    "        if i <= q and j <= r:\n",
    "            if arr[i] <= arr[j]:\n",
    "                sorted_array.append(arr[i])\n",
    "                i = i + 1\n",
    "            else:\n",
    "                sorted_array.append(arr[j])\n",
    "                j = j + 1        \n",
    "        elif i > q and j <= r:\n",
    "                sorted_array.append(arr[j])\n",
    "                j = j + 1\n",
    "        elif j > r and i <= q:\n",
    "                sorted_array.append(arr[i])\n",
    "                i = i + 1\n",
    "    for i in range(p, r+1):          # copying the elements of the 'sorted_array' back in the 'arr'\n",
    "        arr[i] = sorted_array[i-p]\n",
    "\n",
    "\n",
    "arr = [5, 2, 9, 1, 4, 3]\n",
    "merge_sort(arr, 0, len(arr)-1)\n",
    "\n",
    "\n",
    "print(arr)\n",
    "print(\"Total Inversion Count:\", total_count)\n",
    "print(\"All Inversion Pairs:\", inversion_pairs_list)\n"
   ]
  },
  {
   "cell_type": "code",
   "execution_count": null,
   "id": "ea257ba2-a3b2-43d3-b33f-a5349262d519",
   "metadata": {},
   "outputs": [],
   "source": []
  },
  {
   "cell_type": "markdown",
   "id": "e3afc8ef-4f02-427a-a469-822bbe99148e",
   "metadata": {
    "jp-MarkdownHeadingCollapsed": true
   },
   "source": [
    "##### <span style=\"color: blue\">15  ===> Sort Colors    &nbsp;&nbsp;&nbsp;&nbsp;<code style=\"background-color: yellow\">( Sort an array of 0s, 1s and 2s )</code>"
   ]
  },
  {
   "cell_type": "markdown",
   "id": "f365ab6f-6cf8-4897-8b51-65a84c69edb1",
   "metadata": {},
   "source": [
    "<br>\n",
    "\n",
    "<span style=\"color: #DCBD10\">▬▬▬▬▬▬▬▬▬▬▬▬▬▬▬▬▬▬▬▬▬▬▬▬▬▬▬▬▬▬▬▬▬▬▬▬▬▬▬▬▬▬▬▬▬▬▬▬▬▬▬▬▬▬▬▬▬▬▬▬▬▬▬▬▬▬▬▬▬▬▬▬▬▬▬▬</span>\n",
    "\n",
    "<br>\n",
    "\n",
    "<div style=\"padding: 10px; background-color: #E2FFEC\">\n",
    "\n",
    "<u>**QUESTION - 15**</u> : &nbsp;Given an array **nums** with **n** objects colored **red**, **white**, or **blue**, sort them <span style=\"color: blue\">**in-place**</span> so that objects of the same color are adjacent, <br> \n",
    "&nbsp;&nbsp;&nbsp;&nbsp;&nbsp;&nbsp;&nbsp;&nbsp;&nbsp;&nbsp;&nbsp;&nbsp;&nbsp;&nbsp;&nbsp;&nbsp;&nbsp;&nbsp;&nbsp;&nbsp;&nbsp;&nbsp;&nbsp;&nbsp;&nbsp;&nbsp;&nbsp;&nbsp;&nbsp;&nbsp;with the colors in the order red, white, and blue.\n",
    "\n",
    "&nbsp;&nbsp;&nbsp;&nbsp;&nbsp;&nbsp;&nbsp;&nbsp;&nbsp;&nbsp;&nbsp;&nbsp;&nbsp;&nbsp;&nbsp;&nbsp;&nbsp;&nbsp;&nbsp;&nbsp;&nbsp;&nbsp;&nbsp;&nbsp;&nbsp;&nbsp;&nbsp;&nbsp;&nbsp;&nbsp;We will use the integers **0**, **1**, and **2** to represent the color **red**, **white**, and **blue** respectively.\n",
    "\n",
    "&nbsp;&nbsp;&nbsp;&nbsp;&nbsp;&nbsp;&nbsp;&nbsp;&nbsp;&nbsp;&nbsp;&nbsp;&nbsp;&nbsp;&nbsp;&nbsp;&nbsp;&nbsp;&nbsp;&nbsp;&nbsp;&nbsp;&nbsp;&nbsp;&nbsp;&nbsp;&nbsp;&nbsp;&nbsp;&nbsp;<code style=\"background-color: yellow\">( Sort an array of 0s, 1s and 2s )</code>\n",
    "\n",
    "</div>\n",
    "\n",
    "<br>\n",
    "\n",
    "<span style=\"color: #FC02BB\"> <strong>SOLUTION - 1</strong> &nbsp;&nbsp;====>&nbsp;&nbsp; Brute Force</span>  &nbsp;&nbsp;<code>( Time Complexity = O(n) + O(n) = O(2n) ====> **O(n)** )</code>\n"
   ]
  },
  {
   "cell_type": "code",
   "execution_count": 88,
   "id": "ab192941-5178-4ec2-bb3e-2caeedabd9a5",
   "metadata": {},
   "outputs": [
    {
     "name": "stdout",
     "output_type": "stream",
     "text": [
      "[0, 0, 1, 1, 2, 2]\n"
     ]
    }
   ],
   "source": [
    "\n",
    "def sort_0s_1s_2s(nums):\n",
    "    count_0 = 0\n",
    "    count_1 = 0\n",
    "    count_2 = 0\n",
    "    for num in nums:\n",
    "        if num == 0:\n",
    "            count_0 = count_0 + 1\n",
    "        elif num == 1:\n",
    "            count_1 = count_1 + 1\n",
    "        else:\n",
    "            count_2 = count_2 + 1\n",
    "    n = len(nums)                    # n  =  len(nums) = count_0 + count_1 + count_2\n",
    "    for i in range(0, len(nums)):\n",
    "        if i < count_0:\n",
    "            nums[i] = 0\n",
    "        elif i < count_0 + count_1:\n",
    "            nums[i] = 1\n",
    "        else:\n",
    "            nums[i] = 2\n",
    "            \n",
    "\n",
    "nums = [2, 0, 2, 1, 1, 0]\n",
    "\n",
    "sort_0s_1s_2s(nums)\n",
    "\n",
    "print(nums)\n"
   ]
  },
  {
   "cell_type": "code",
   "execution_count": 90,
   "id": "c27f3f81-b5f7-4705-bf54-150e7e2f1d0a",
   "metadata": {},
   "outputs": [
    {
     "name": "stdout",
     "output_type": "stream",
     "text": [
      "[0, 0, 1, 1, 2, 2]\n"
     ]
    }
   ],
   "source": [
    "\n",
    "def sort_0s_1s_2s(nums):\n",
    "    count_0 = 0\n",
    "    count_1 = 0\n",
    "    count_2 = 0\n",
    "    for num in nums:\n",
    "        if num == 0:\n",
    "            count_0 = count_0 + 1\n",
    "        elif num == 1:\n",
    "            count_1 = count_1 + 1\n",
    "        else:\n",
    "            count_2 = count_2 + 1\n",
    "    for i in range(0, count_0):\n",
    "        nums[i] = 0\n",
    "    for i in range(count_0, count_0 + count_1):\n",
    "        nums[i] = 1\n",
    "    for i in range(count_0 + count_1, count_0 + count_1 + count_2):\n",
    "        nums[i] = 2\n",
    "\n",
    "\n",
    "nums = [2, 0, 2, 1, 1, 0]\n",
    "\n",
    "sort_0s_1s_2s(nums)\n",
    "\n",
    "print(nums)\n"
   ]
  },
  {
   "cell_type": "markdown",
   "id": "206e77d1-e41d-4fa1-a8bc-7ab5d12a96c3",
   "metadata": {},
   "source": [
    "<br>\n",
    "\n",
    "<br>\n",
    "\n",
    "<span style=\"color: #FC02BB\"> <strong>SOLUTION - 2</strong></span>  &nbsp;&nbsp;====> &nbsp;&nbsp; <span style=\"background-color: yellow\">&nbsp; DAN algorithm&nbsp;</span> &nbsp;&nbsp;<code>( Time Complexity = **O(n)** )</code>\n",
    "\n",
    "<br>\n",
    "\n",
    "<br>\n",
    "\n",
    "&nbsp;&nbsp;0  &nbsp;&nbsp;&nbsp;&nbsp;&nbsp;&nbsp;&nbsp;&nbsp;&nbsp;&nbsp;&nbsp;&nbsp;&nbsp;&nbsp;&nbsp;low-1 &nbsp;&nbsp;&nbsp;&nbsp;low &nbsp;&nbsp;&nbsp;&nbsp;&nbsp;&nbsp;&nbsp;&nbsp;&nbsp;&nbsp;&nbsp;&nbsp;&nbsp;mid-1 &nbsp;&nbsp;&nbsp;&nbsp;<span style=\"color: red\">mid</span> &nbsp;&nbsp;&nbsp;&nbsp;&nbsp;&nbsp;&nbsp;&nbsp;&nbsp;&nbsp;&nbsp;&nbsp;&nbsp;&nbsp;&nbsp;&nbsp;&nbsp;&nbsp;&nbsp;&nbsp;&nbsp;&nbsp;&nbsp;&nbsp;<span style=\"color: red\">high</span> &nbsp;&nbsp;&nbsp;&nbsp;high+1 &nbsp;&nbsp;&nbsp;&nbsp;&nbsp;&nbsp;&nbsp;&nbsp;&nbsp;&nbsp;&nbsp;&nbsp;&nbsp;n<br> \n",
    "<font size=\"+3\">⇩</font>  &nbsp;&nbsp;&nbsp;&nbsp;&nbsp;&nbsp;&nbsp;&nbsp;&nbsp;&nbsp;&nbsp;&nbsp;&nbsp;&nbsp;&nbsp;<font size=\"+3\">⇩</font>  &nbsp;&nbsp;&nbsp;&nbsp;&nbsp;&nbsp;<font size=\"+3\">⇩</font> &nbsp;&nbsp;&nbsp;&nbsp;&nbsp;&nbsp;&nbsp;&nbsp;&nbsp;&nbsp;&nbsp;&nbsp;&nbsp;&nbsp;&nbsp;<font size=\"+3\">⇩</font> &nbsp;&nbsp;&nbsp;&nbsp;&nbsp;&nbsp;<font size=\"+3\"><span style=\"color: blue\">⇩</span></font> &nbsp;&nbsp;&nbsp;&nbsp;&nbsp;&nbsp;&nbsp;&nbsp;&nbsp;&nbsp;&nbsp;&nbsp;&nbsp;&nbsp;&nbsp;&nbsp;&nbsp;&nbsp;&nbsp;&nbsp;&nbsp;&nbsp;&nbsp;&nbsp;&nbsp;&nbsp;&nbsp;&nbsp;<font size=\"+3\"><span style=\"color: blue\">⇩</span></font> &nbsp;&nbsp;&nbsp;&nbsp;&nbsp;&nbsp;<font size=\"+3\">⇩</font> &nbsp;&nbsp;&nbsp;&nbsp;&nbsp;&nbsp;&nbsp;&nbsp;&nbsp;&nbsp;&nbsp;&nbsp;&nbsp;&nbsp;&nbsp;<font size=\"+3\">⇩</font> <br> &nbsp;&nbsp;0 0 0 0 0 0 0 0 &nbsp;&nbsp;&nbsp;&nbsp;&nbsp;&nbsp;&nbsp;&nbsp;&nbsp;&nbsp;1 1 1 1 1 1 1 1 &nbsp;&nbsp;&nbsp;&nbsp;&nbsp;&nbsp;&nbsp;&nbsp;<code style=\"background-color: white; color: red\">0/1/2 ....... 0/1/2</code> &nbsp;&nbsp;&nbsp;&nbsp;&nbsp;&nbsp;&nbsp;2 2 2 2 2 2 2 2\n",
    "\n",
    "<br>\n",
    "\n"
   ]
  },
  {
   "cell_type": "code",
   "execution_count": 1,
   "id": "b9702f59-25d2-4090-acac-d0e49bb75be3",
   "metadata": {},
   "outputs": [
    {
     "name": "stdout",
     "output_type": "stream",
     "text": [
      "[0, 0, 1, 1, 2, 2]\n"
     ]
    }
   ],
   "source": [
    "\n",
    "def sort_0s_1s_2s(nums):\n",
    "    low = 0\n",
    "    mid = 0\n",
    "    high = len(nums) - 1\n",
    "    while mid <= high:\n",
    "        if nums[mid] == 0:\n",
    "            nums[mid], nums[low] = nums[low], nums[mid]     # swaping  nums[mid]  &  nums[low]\n",
    "            low = low + 1\n",
    "            mid = mid + 1\n",
    "        elif nums[mid] == 1:\n",
    "            mid = mid + 1\n",
    "        elif nums[2] == 2 :     # else:  ===> This also works\n",
    "            nums[mid], nums[high] = nums[high], nums[mid]    # swaping  nums[mid]  &  nums[high]\n",
    "            high = high - 1\n",
    "\n",
    " \n",
    "\n",
    "nums = [2, 0, 2, 1, 1, 0]\n",
    "\n",
    "sort_0s_1s_2s(nums)\n",
    "\n",
    "print(nums)\n"
   ]
  },
  {
   "cell_type": "code",
   "execution_count": null,
   "id": "caa55da7-7205-4f0e-b4a6-c3342ff39333",
   "metadata": {},
   "outputs": [],
   "source": []
  },
  {
   "cell_type": "markdown",
   "id": "edbe1dab-9433-4263-97ba-71130660eb36",
   "metadata": {
    "jp-MarkdownHeadingCollapsed": true
   },
   "source": [
    "\n",
    "##### <span style=\"color: blue\">16  ===> Find the duplicate in an array of N+1 integers\n"
   ]
  },
  {
   "cell_type": "markdown",
   "id": "39df2b37-c201-4985-bf6e-6851c14c0c5e",
   "metadata": {},
   "source": [
    "<br>\n",
    "\n",
    "<span style=\"color: #DCBD10\">▬▬▬▬▬▬▬▬▬▬▬▬▬▬▬▬▬▬▬▬▬▬▬▬▬▬▬▬▬▬▬▬▬▬▬▬▬▬▬▬▬▬▬▬▬▬▬▬▬▬▬▬▬▬▬▬▬▬▬▬▬▬▬▬▬▬▬▬▬▬▬▬▬▬▬▬</span>\n",
    "\n",
    "<br>\n",
    "\n",
    "<div style=\"padding: 10px; background-color: #E2FFEC\">\n",
    "\n",
    "<u>**QUESTION - 16**</u> : &nbsp;Given an array of **N + 1** size, where **each element is between 1 and N**. <br> \n",
    "&nbsp;&nbsp;&nbsp;&nbsp;&nbsp;&nbsp;&nbsp;&nbsp;&nbsp;&nbsp;&nbsp;&nbsp;&nbsp;&nbsp;&nbsp;&nbsp;&nbsp;&nbsp;&nbsp;&nbsp;&nbsp;&nbsp;&nbsp;&nbsp;&nbsp;&nbsp;&nbsp;&nbsp;&nbsp;&nbsp;Assuming there is **only one duplicate number**, your task is to find the duplicate number.\n",
    "\n",
    "<br>\n",
    "\n",
    "<div style=\"border: 1px solid #00C40C; padding: 10px; color: black; width: 500px; margin-left: 118px\">\n",
    "    \n",
    "<u>Example 1</u>: \n",
    "\n",
    "Input: arr = [1, 3, 4, 2, 2]\n",
    "\n",
    "Output: 2\n",
    "\n",
    "Explanation: Since 2 is the duplicate number the answer will be 2.\n",
    "\n",
    "<span style=\"color: #00C40C\">-----------------------------------------------------------------------------------------</span>\n",
    "\n",
    "<u>Example 2</u>:\n",
    "\n",
    "Input: arr = [3, 1, 3, 4, 2]\n",
    "\n",
    "Output: 3\n",
    "\n",
    "Explanation: Since 3 is the duplicate number the answer will be 3.\n",
    "\n",
    "</div>\n",
    "\n",
    "<br>\n",
    "\n",
    "</div>\n",
    "\n",
    "<br>\n",
    "\n",
    "<br>\n",
    "\n",
    "<span style=\"color: #FC02BB\"> <strong>SOLUTION - 1</strong> &nbsp;&nbsp;====>&nbsp;&nbsp; Brute Force</span> &nbsp;&nbsp;====>  &nbsp;&nbsp;<code>( Time Complexity = <span style=\"color: red\">**O(n<sup>2</sup>)**</span> = <span style=\"color: red\">**O((N+1)<sup>2</sup>)**</span> = <span style=\"color: red\">**O(N<sup>2</sup>)**</span> )</code> &nbsp;&nbsp;&nbsp;&nbsp;<code>( Space Complexity = <span style=\"color: red\">**O(1)**</span> )</code>\n",
    "\n"
   ]
  },
  {
   "cell_type": "code",
   "execution_count": 16,
   "id": "c4fca157-0460-4e07-9f6c-409cdec20405",
   "metadata": {},
   "outputs": [
    {
     "data": {
      "text/plain": [
       "3"
      ]
     },
     "execution_count": 16,
     "metadata": {},
     "output_type": "execute_result"
    }
   ],
   "source": [
    "\n",
    "def find_duplicate(arr):\n",
    "    n = len(arr)           # N + 1 = len(arr) = n\n",
    "    for i in range(0, n):\n",
    "        for j in range(i+1, n):\n",
    "            if i != j and arr[i] == arr[j]:\n",
    "                return arr[i]\n",
    "                \n",
    "\n",
    "arr = [1, 3, 4, 2, 3]\n",
    "find_duplicate(arr)\n"
   ]
  },
  {
   "cell_type": "markdown",
   "id": "a4e0610f-dba5-4247-8767-9785a1cff239",
   "metadata": {},
   "source": [
    "<br>\n",
    "\n",
    "<span style=\"color: #FC02BB\"> <strong>SOLUTION - 2</strong> &nbsp;&nbsp;====>&nbsp;&nbsp;</span> using <span style=\"background-color: yellow\">&nbsp;Sorting&nbsp;</span>&nbsp;&nbsp; ====> &nbsp;&nbsp;<code>( Time Complexity = <span style=\"color: red\">**O(nlogn + n)**</span>&nbsp;)</code> &nbsp;&nbsp;&nbsp;&nbsp;<code>( Space Complexity = <span style=\"color: red\">**O(1)**</span> )</code>\n",
    "\n",
    "**Approach:** <br>\n",
    "&nbsp;&nbsp;&nbsp;&nbsp;&nbsp;&nbsp;&nbsp;&nbsp;&nbsp;&nbsp;<font size=\"+1\">↳</font>&nbsp;&nbsp;Sort the array. <br> \n",
    "&nbsp;&nbsp;&nbsp;&nbsp;&nbsp;&nbsp;&nbsp;&nbsp;&nbsp;&nbsp;<font size=\"+1\">↳</font>&nbsp;&nbsp;After that, if there is any duplicate number they will be adjacent. <br> \n",
    "&nbsp;&nbsp;&nbsp;&nbsp;&nbsp;&nbsp;&nbsp;&nbsp;&nbsp;&nbsp;<font size=\"+1\">↳</font>&nbsp;&nbsp;So we simply have to check if &nbsp;<code>arr[i] == arr[i+1]</code>&nbsp; and **if it is true, &nbsp;<code style=\"color: blue\">arr[i]</code>&nbsp; is the duplicate number**.\n"
   ]
  },
  {
   "cell_type": "code",
   "execution_count": 11,
   "id": "deb790d0-66a1-45a8-a570-038529edc79b",
   "metadata": {},
   "outputs": [
    {
     "data": {
      "text/plain": [
       "3"
      ]
     },
     "execution_count": 11,
     "metadata": {},
     "output_type": "execute_result"
    }
   ],
   "source": [
    "\n",
    "def find_duplicate(arr):\n",
    "    arr.sort()\n",
    "    n = len(arr)\n",
    "    for i in range(0, n):\n",
    "        if arr[i] == arr[i+1]:\n",
    "            return arr[i]\n",
    "        \n",
    "\n",
    "arr = [1, 3, 4, 2, 3]\n",
    "find_duplicate(arr)\n"
   ]
  },
  {
   "cell_type": "markdown",
   "id": "c9ac5cbd-d3ca-47eb-a70c-68f9516fa2d1",
   "metadata": {},
   "source": [
    "<br>\n",
    "\n",
    "<span style=\"color: #FC02BB\"> <strong>SOLUTION - 3</strong> &nbsp;&nbsp;====>&nbsp;&nbsp;</span> using <span style=\"background-color: yellow\">&nbsp;frequency array&nbsp;</span> &nbsp;&nbsp; or &nbsp;&nbsp;<span style=\"background-color: yellow\">&nbsp;direct access table&nbsp;</span> &nbsp;&nbsp;====>&nbsp;&nbsp;<code>( Time Complexity = <span style=\"color: red\">**O(n)**</span>&nbsp;)</code> &nbsp;&nbsp;&nbsp;&nbsp;<code>( Space Complexity = <span style=\"color: red\">**O(n)**</span> )</code>\n",
    "\n",
    "**Approach:** <br>\n",
    "&nbsp;&nbsp;&nbsp;&nbsp;&nbsp;&nbsp;&nbsp;&nbsp;&nbsp;&nbsp;<font size=\"+1\">↳</font>&nbsp;&nbsp;Take a frequency array of size N+1 and initialize it to 0. <br>\n",
    "&nbsp;&nbsp;&nbsp;&nbsp;&nbsp;&nbsp;&nbsp;&nbsp;&nbsp;&nbsp;<font size=\"+1\">↳</font>&nbsp;&nbsp;Now traverse through the array and if the frequency of the element is 0 increase it by 1, else if the frequency is not 0 then that element is the required answer."
   ]
  },
  {
   "cell_type": "code",
   "execution_count": 19,
   "id": "da84fcfb-49e6-482b-aa9b-8065e1f822f2",
   "metadata": {},
   "outputs": [
    {
     "data": {
      "text/plain": [
       "3"
      ]
     },
     "execution_count": 19,
     "metadata": {},
     "output_type": "execute_result"
    }
   ],
   "source": [
    "\n",
    "def find_duplicate(arr):\n",
    "    n = len(arr)           # = N + 1\n",
    "    freq_arr = [0] * n     # freq_arr = [0] * (N + 1)   ===>   this also works\n",
    "    for i in range(0, n):\n",
    "        if freq_arr[arr[i]] == 0:\n",
    "            freq_arr[arr[i]] = freq_arr[arr[i]] + 1\n",
    "        else:\n",
    "            return arr[i]\n",
    "    return 0\n",
    "    \n",
    "    \n",
    "arr = [1, 3, 4, 2, 3]\n",
    "find_duplicate(arr)\n"
   ]
  },
  {
   "cell_type": "markdown",
   "id": "33dc452a-eec9-41f8-a914-fe0ec40d029b",
   "metadata": {},
   "source": [
    "<br>\n",
    "\n",
    "<span style=\"color: #FC02BB\"> <strong>SOLUTION - 4</strong> &nbsp;&nbsp;====>&nbsp;&nbsp;</span> using <span style=\"background-color: yellow\">&nbsp;Floyd Warshall's cycle detection algorithm&nbsp;</span> or <span style=\"background-color: yellow\">&nbsp;LinkedList Cycle Detection Method&nbsp;</span>\n",
    "\n",
    "&nbsp;&nbsp;&nbsp;&nbsp;&nbsp;&nbsp;&nbsp;&nbsp;&nbsp;&nbsp;&nbsp;&nbsp;&nbsp;&nbsp;&nbsp;&nbsp;&nbsp;&nbsp;&nbsp;&nbsp;&nbsp;&nbsp;&nbsp;&nbsp;&nbsp;&nbsp;&nbsp;&nbsp;&nbsp;&nbsp;&nbsp;&nbsp;&nbsp;&nbsp;&nbsp;&nbsp;&nbsp;&nbsp;&nbsp;&nbsp;&nbsp;&nbsp;&nbsp;<code>( Time Complexity = <span style=\"color: red\">**O(n)**</span>&nbsp;)</code> <br>\n",
    "&nbsp;&nbsp;&nbsp;&nbsp;&nbsp;&nbsp;&nbsp;&nbsp;&nbsp;&nbsp;&nbsp;&nbsp;&nbsp;&nbsp;&nbsp;&nbsp;&nbsp;&nbsp;&nbsp;&nbsp;&nbsp;&nbsp;&nbsp;&nbsp;&nbsp;&nbsp;&nbsp;&nbsp;&nbsp;&nbsp;&nbsp;&nbsp;&nbsp;&nbsp;&nbsp;&nbsp;&nbsp;&nbsp;&nbsp;&nbsp;&nbsp;&nbsp;&nbsp;<code>( Space Complexity = <span style=\"color: red\">**O(n)**</span> )</code>"
   ]
  },
  {
   "cell_type": "markdown",
   "id": "a211360b-c8da-434b-9129-d67473285b62",
   "metadata": {},
   "source": [
    "<br>\n",
    "<br>\n",
    "<br>\n",
    "\n",
    "<div style=\"position: relative; margin-left: 200px\">\n",
    "  <div style=\"width: 200px; height: 2px; border-bottom: 2px solid black; position: absolute; top: 25px; left: 0;\"></div>\n",
    "  <div style=\"width: 50px; height: 100px; border-top-left-radius: 50px; border-bottom-left-radius: 50px; border: 2px solid black; border-right: none; background-color: white; position: absolute; top: -35px; left: 200px;\"></div>\n",
    "  <div style=\"width: 50px; height: 100px; border-top-right-radius: 50px; border-bottom-right-radius: 50px; border: 2px solid black; border-left: none; background-color: white; position: absolute; top: -35px; left: 250px;\"></div>\n",
    "     <div style=\"position: absolute; top: -40px; left: 300px;\"><span style=\"color: blue\"><strong><font size=\"+1\">b</font></strong></span></div>\n",
    "     <div style=\"position: absolute; top: -5px; left: 100px;\"><span style=\"color: blue\"><strong><font size=\"+1\">a</font></strong></span></div>\n",
    "     <div style=\"position: absolute; top: 62px; left: 220px;\"><span style=\"color: blue\"><strong><font size=\"+1\">c</font></strong></span></div>\n",
    "     <div style=\"position: absolute; top: 8px; left: 280px;\"><span style=\"color: red\"><font size=\"+4\">•</font></span></div>\n",
    "     <div style=\"position: absolute; top: 16px; left: 173px;\"><span style=\"color: black\"><font size=\"+3\">⬈</font></span></div>\n",
    "     <div style=\"position: absolute; top: 55px; left: 130px;\"><span style=\"color: black; background-color: yellow\">&nbsp;duplicate&nbsp;</span></div>\n",
    "     <div style=\"position: absolute; top: 42px; left: 295px;\"><span style=\"color: black\"><font size=\"+3\">⬉</font></span></div>\n",
    "     <div style=\"position: absolute; top: 77px; left: 310px;\"><span style=\"color: black\">meet</span></div>\n",
    "     <div style=\"position: absolute; top: -49px; left: 240px;\"><span style=\"color: black\"><font size=\"+1\">ᐳ</font></span></div>\n",
    "</div>\n",
    "\n",
    "<br>\n",
    "<br>\n",
    "<br>\n",
    "<br>\n",
    "<br>\n",
    "<br>\n",
    "<pre>\n",
    "                                 a = c + (λ * cycle)  <br>\n",
    "                             => <code style=\"color: blue; font-size: larger\"> a = c + λ(b + c) </code>\n",
    "\n",
    "</pre>\n"
   ]
  },
  {
   "cell_type": "markdown",
   "id": "0205e2ae-fb05-492a-92f3-076d745ba3cd",
   "metadata": {},
   "source": [
    "\n",
    "**Approach:** &nbsp;&nbsp;Let's take an example and dry run on it to understand.\n",
    "\n",
    "<pre>\n",
    "    <code style=\"background-color: yellow; font-size: larger\"><strong> 2      5      9      6      9      3      8      9      7      1 </strong></code>\n",
    "    <code style=\"background-color: white; font-size: larger\"> 0      1      2      3      4      5      6      7      8      9 </code>\n",
    "    \n",
    "</pre>\n",
    "\n",
    "\n",
    "Initially, we have 2, then we got to the second index, we have 9, then we go to the 9th index, we have 1, then we go to the 1st index, we again have 5, then we go to the 5th index, we have 3, then we go to the 3rd index, we get 6, then we go to the 6th index, we get 8, then we go to the 8th index, we get 7, then we go to the 7th index and we get 9 and here <span style=\"color: blue\">**cycle**</span> is formed.\n",
    "\n"
   ]
  },
  {
   "cell_type": "markdown",
   "id": "fab41c71-0605-4baf-b452-205f221ef94d",
   "metadata": {},
   "source": [
    "<br>\n",
    "<br>\n",
    "<br>\n",
    "<br>\n",
    "<br>\n",
    "\n",
    " <div style=\"position: relative; margin-left: 200px\">\n",
    " \n",
    "  <div style=\"position: absolute; top:-10px; left: 20px;\"><span style=\"color: black\"><font size=\"+4\">⟶</font></span></div>\n",
    "  <div style=\"position: absolute; top: -8px; left: -20px;\"><span style=\"color: blue\"><font size=\"+4\">➋</font></span></div>\n",
    "  <div style=\"position: absolute; top: -8px; left: 90px;\"><span style=\"color: blue\"><font size=\"+4\">➒</font></span></div>\n",
    "  <div style=\"position: absolute; top: -40px; left: 120px;\"><span style=\"color: black\"><font size=\"+4\">↗</font></span></div>\n",
    "  <div style=\"position: absolute; top: -65px; left: 148px;\"><span style=\"color: blue\"><font size=\"+4\">➊</font></span></div>\n",
    "  <div style=\"position: absolute; top: -65px; left: 190px;\"><span style=\"color: black\"><font size=\"+4\">⟶</font></span></div>\n",
    "  <div style=\"position: absolute; top: -65px; left: 260px;\"><span style=\"color: blue\"><font size=\"+4\">➎</font></span></div>\n",
    "  <div style=\"position: absolute; top: -65px; left: 300px;\"><span style=\"color: black\"><font size=\"+4\">⟶</font></span></div>\n",
    "  <div style=\"position: absolute; top: -65px; left: 370px;\"><span style=\"color: blue\"><font size=\"+4\">➌</font></span></div>\n",
    "  <div style=\"position: absolute; top: -22px; left: 380px;\"><span style=\"color: black\"><font size=\"+4\">↓</font></span></div>\n",
    "  <div style=\"position: absolute; top: 18px; left: 382px;\"><span style=\"color: white\"><font size=\"+1\">▬</font></span></div>\n",
    "  <div style=\"position: absolute; top: -2px; left: 380px;\"><span style=\"color: black\"><font size=\"+4\">↓</font></span></div>\n",
    "  <div style=\"position: absolute; top: 40px; left: 370px;\"><span style=\"color: blue\"><font size=\"+4\">➏</font></span></div>\n",
    "  <div style=\"position: absolute; top: 40px; left: 300px;\"><span style=\"color: black\"><font size=\"+4\">⟵</font></span></div>\n",
    "  <div style=\"position: absolute; top: 40px; left: 260px;\"><span style=\"color: blue\"><font size=\"+4\">➑</font></span></div>\n",
    "  <div style=\"position: absolute; top: 40px; left: 190px;\"><span style=\"color: black\"><font size=\"+4\">⟵</font></span></div>\n",
    "  <div style=\"position: absolute; top: 40px; left: 148px;\"><span style=\"color: blue\"><font size=\"+4\">➐</font></span></div>\n",
    "  <div style=\"position: absolute; top: 30px; left: 126px;\"><span style=\"color: black\"><font size=\"+3\">↸</font></span></div>\n",
    "  <div style=\"position: absolute; top: 4px; left: 122px;\"><span style=\"color: white\"><font size=\"+4\">🠲</font></span></div>\n",
    "  <div style=\"position: absolute; top: -30px; left: -5px;\"><span style=\"color: red\"><font size=\"+3\">s</font></span></div>\n",
    "  <div style=\"position: absolute; top: 45px; left: -5px;\"><span style=\"color: red\"><font size=\"+3\">f</font></span></div>\n",
    "</div>\n",
    "\n",
    "<br>\n",
    "<br>\n",
    "<br>\n",
    "<br>\n",
    "<br\n",
    "<br>\n",
    "<br>\n",
    "<br>"
   ]
  },
  {
   "cell_type": "markdown",
   "id": "6a783356-94be-4fea-ba42-0636b71e8508",
   "metadata": {},
   "source": [
    "<br>\n",
    "<br>\n",
    "<br>\n",
    "<br>\n",
    "<br>\n",
    "<br>\n",
    "\n",
    " <div style=\"position: relative; margin-left: 200px\">\n",
    " \n",
    "  <div style=\"position: absolute; top:-10px; left: 20px;\"><span style=\"color: black\"><font size=\"+4\">⟶</font></span></div>\n",
    "  <div style=\"position: absolute; top: -8px; left: -20px;\"><span style=\"color: blue\"><font size=\"+4\">➋</font></span></div>\n",
    "  <div style=\"position: absolute; top: -8px; left: 90px;\"><span style=\"color: blue\"><font size=\"+4\">➒</font></span></div>\n",
    "  <div style=\"position: absolute; top: -40px; left: 120px;\"><span style=\"color: black\"><font size=\"+4\">↗</font></span></div>\n",
    "  <div style=\"position: absolute; top: -65px; left: 148px;\"><span style=\"color: blue\"><font size=\"+4\">➊</font></span></div>\n",
    "  <div style=\"position: absolute; top: -65px; left: 190px;\"><span style=\"color: black\"><font size=\"+4\">⟶</font></span></div>\n",
    "  <div style=\"position: absolute; top: -65px; left: 260px;\"><span style=\"color: blue\"><font size=\"+4\">➎</font></span></div>\n",
    "  <div style=\"position: absolute; top: -65px; left: 300px;\"><span style=\"color: black\"><font size=\"+4\">⟶</font></span></div>\n",
    "  <div style=\"position: absolute; top: -65px; left: 370px;\"><span style=\"color: blue\"><font size=\"+4\">➌</font></span></div>\n",
    "  <div style=\"position: absolute; top: -22px; left: 380px;\"><span style=\"color: black\"><font size=\"+4\">↓</font></span></div>\n",
    "  <div style=\"position: absolute; top: 18px; left: 382px;\"><span style=\"color: white\"><font size=\"+1\">▬</font></span></div>\n",
    "  <div style=\"position: absolute; top: -2px; left: 380px;\"><span style=\"color: black\"><font size=\"+4\">↓</font></span></div>\n",
    "  <div style=\"position: absolute; top: 40px; left: 370px;\"><span style=\"color: blue\"><font size=\"+4\">➏</font></span></div>\n",
    "  <div style=\"position: absolute; top: 40px; left: 300px;\"><span style=\"color: black\"><font size=\"+4\">⟵</font></span></div>\n",
    "  <div style=\"position: absolute; top: 40px; left: 260px;\"><span style=\"color: blue\"><font size=\"+4\">➑</font></span></div>\n",
    "  <div style=\"position: absolute; top: 40px; left: 190px;\"><span style=\"color: black\"><font size=\"+4\">⟵</font></span></div>\n",
    "  <div style=\"position: absolute; top: 40px; left: 148px;\"><span style=\"color: blue\"><font size=\"+4\">➐</font></span></div>\n",
    "  <div style=\"position: absolute; top: 30px; left: 126px;\"><span style=\"color: black\"><font size=\"+3\">↸</font></span></div>\n",
    "  <div style=\"position: absolute; top: 4px; left: 122px;\"><span style=\"color: white\"><font size=\"+4\">🠲</font></span></div>\n",
    "  <div style=\"position: absolute; top: -30px; left: 90px;\"><span style=\"color: red\"><font size=\"+3\">s</font></span></div>\n",
    "  <div style=\"position: absolute; top: -90px; left: 160px;\"><span style=\"color: red\"><font size=\"+3\">f</font></span></div>\n",
    "</div>\n",
    "\n",
    "<br>\n",
    "<br>\n",
    "<br>\n",
    "<br>\n",
    "<br\n",
    "<br>\n",
    "<br>\n",
    "<br>\n",
    "<br>"
   ]
  },
  {
   "cell_type": "markdown",
   "id": "97472b96-1e4d-4b98-aa66-4a4302c0c407",
   "metadata": {},
   "source": [
    "<br>\n",
    "<br>\n",
    "<br>\n",
    "<br>\n",
    "<br>\n",
    "<br>\n",
    "\n",
    "<div style=\"position: relative; margin-left: 200px\">\n",
    " \n",
    "  <div style=\"position: absolute; top:-10px; left: 20px;\"><span style=\"color: black\"><font size=\"+4\">⟶</font></span></div>\n",
    "  <div style=\"position: absolute; top: -8px; left: -20px;\"><span style=\"color: blue\"><font size=\"+4\">➋</font></span></div>\n",
    "  <div style=\"position: absolute; top: -8px; left: 90px;\"><span style=\"color: blue\"><font size=\"+4\">➒</font></span></div>\n",
    "  <div style=\"position: absolute; top: -40px; left: 120px;\"><span style=\"color: black\"><font size=\"+4\">↗</font></span></div>\n",
    "  <div style=\"position: absolute; top: -65px; left: 148px;\"><span style=\"color: blue\"><font size=\"+4\">➊</font></span></div>\n",
    "  <div style=\"position: absolute; top: -65px; left: 190px;\"><span style=\"color: black\"><font size=\"+4\">⟶</font></span></div>\n",
    "  <div style=\"position: absolute; top: -65px; left: 260px;\"><span style=\"color: blue\"><font size=\"+4\">➎</font></span></div>\n",
    "  <div style=\"position: absolute; top: -65px; left: 300px;\"><span style=\"color: black\"><font size=\"+4\">⟶</font></span></div>\n",
    "  <div style=\"position: absolute; top: -65px; left: 370px;\"><span style=\"color: blue\"><font size=\"+4\">➌</font></span></div>\n",
    "  <div style=\"position: absolute; top: -22px; left: 380px;\"><span style=\"color: black\"><font size=\"+4\">↓</font></span></div>\n",
    "  <div style=\"position: absolute; top: 18px; left: 382px;\"><span style=\"color: white\"><font size=\"+1\">▬</font></span></div>\n",
    "  <div style=\"position: absolute; top: -2px; left: 380px;\"><span style=\"color: black\"><font size=\"+4\">↓</font></span></div>\n",
    "  <div style=\"position: absolute; top: 40px; left: 370px;\"><span style=\"color: blue\"><font size=\"+4\">➏</font></span></div>\n",
    "  <div style=\"position: absolute; top: 40px; left: 300px;\"><span style=\"color: black\"><font size=\"+4\">⟵</font></span></div>\n",
    "  <div style=\"position: absolute; top: 40px; left: 260px;\"><span style=\"color: blue\"><font size=\"+4\">➑</font></span></div>\n",
    "  <div style=\"position: absolute; top: 40px; left: 190px;\"><span style=\"color: black\"><font size=\"+4\">⟵</font></span></div>\n",
    "  <div style=\"position: absolute; top: 40px; left: 148px;\"><span style=\"color: blue\"><font size=\"+4\">➐</font></span></div>\n",
    "  <div style=\"position: absolute; top: 30px; left: 126px;\"><span style=\"color: black\"><font size=\"+3\">↸</font></span></div>\n",
    "  <div style=\"position: absolute; top: 3px; left: 122px;\"><span style=\"color: white\"><font size=\"+5\">🠲</font></span></div>\n",
    "  <div style=\"position: absolute; top: -90px; left: 160px;\"><span style=\"color: red\"><font size=\"+3\">s</font></span></div>\n",
    "  <div style=\"position: absolute; top: -90px; left: 390px;\"><span style=\"color: red\"><font size=\"+3\">f</font></span></div>\n",
    "</div>\n",
    "\n",
    "<br>\n",
    "<br>\n",
    "<br>\n",
    "<br>\n",
    "<br\n",
    "<br>\n",
    "<br>\n",
    "<br>\n",
    "<br>"
   ]
  },
  {
   "cell_type": "markdown",
   "id": "adc486bc-ea45-4c1d-8d3a-8f258267cacb",
   "metadata": {},
   "source": [
    "<br>\n",
    "<br>\n",
    "<br>\n",
    "<br>\n",
    "\n",
    "\n",
    "<div style=\"position: relative; margin-left: 200px\">\n",
    " \n",
    "  <div style=\"position: absolute; top:-10px; left: 20px;\"><span style=\"color: black\"><font size=\"+4\">⟶</font></span></div>\n",
    "  <div style=\"position: absolute; top: -8px; left: -20px;\"><span style=\"color: blue\"><font size=\"+4\">➋</font></span></div>\n",
    "  <div style=\"position: absolute; top: -8px; left: 90px;\"><span style=\"color: blue\"><font size=\"+4\">➒</font></span></div>\n",
    "  <div style=\"position: absolute; top: -40px; left: 120px;\"><span style=\"color: black\"><font size=\"+4\">↗</font></span></div>\n",
    "  <div style=\"position: absolute; top: -65px; left: 148px;\"><span style=\"color: blue\"><font size=\"+4\">➊</font></span></div>\n",
    "  <div style=\"position: absolute; top: -65px; left: 190px;\"><span style=\"color: black\"><font size=\"+4\">⟶</font></span></div>\n",
    "  <div style=\"position: absolute; top: -65px; left: 260px;\"><span style=\"color: blue\"><font size=\"+4\">➎</font></span></div>\n",
    "  <div style=\"position: absolute; top: -65px; left: 300px;\"><span style=\"color: black\"><font size=\"+4\">⟶</font></span></div>\n",
    "  <div style=\"position: absolute; top: -65px; left: 370px;\"><span style=\"color: blue\"><font size=\"+4\">➌</font></span></div>\n",
    "  <div style=\"position: absolute; top: -22px; left: 380px;\"><span style=\"color: black\"><font size=\"+4\">↓</font></span></div>\n",
    "  <div style=\"position: absolute; top: 18px; left: 382px;\"><span style=\"color: white\"><font size=\"+1\">▬</font></span></div>\n",
    "  <div style=\"position: absolute; top: -2px; left: 380px;\"><span style=\"color: black\"><font size=\"+4\">↓</font></span></div>\n",
    "  <div style=\"position: absolute; top: 40px; left: 370px;\"><span style=\"color: blue\"><font size=\"+4\">➏</font></span></div>\n",
    "  <div style=\"position: absolute; top: 40px; left: 300px;\"><span style=\"color: black\"><font size=\"+4\">⟵</font></span></div>\n",
    "  <div style=\"position: absolute; top: 40px; left: 260px;\"><span style=\"color: blue\"><font size=\"+4\">➑</font></span></div>\n",
    "  <div style=\"position: absolute; top: 40px; left: 190px;\"><span style=\"color: black\"><font size=\"+4\">⟵</font></span></div>\n",
    "  <div style=\"position: absolute; top: 40px; left: 148px;\"><span style=\"color: blue\"><font size=\"+4\">➐</font></span></div>\n",
    "  <div style=\"position: absolute; top: 30px; left: 126px;\"><span style=\"color: black\"><font size=\"+3\">↸</font></span></div>\n",
    "  <div style=\"position: absolute; top: 4px; left: 122px;\"><span style=\"color: white\"><font size=\"+4\">🠲</font></span></div>\n",
    "  <div style=\"position: absolute; top: -90px; left: 270px;\"><span style=\"color: red\"><font size=\"+3\">s</font></span></div>\n",
    "  <div style=\"position: absolute; top: 95px; left: 270px;\"><span style=\"color: red\"><font size=\"+3\">f</font></span></div>\n",
    "</div>\n",
    "\n",
    "<br>\n",
    "<br>\n",
    "<br>\n",
    "<br>\n",
    "<br\n",
    "<br>\n",
    "<br>\n",
    "<br>\n",
    "<br>"
   ]
  },
  {
   "cell_type": "markdown",
   "id": "c67607e6-4214-4289-bd75-79f96570b1a3",
   "metadata": {},
   "source": [
    "<br>\n",
    "<br>\n",
    "<br>\n",
    "<br>\n",
    "\n",
    "\n",
    "<div style=\"position: relative; margin-left: 200px\">\n",
    " \n",
    "  <div style=\"position: absolute; top:-10px; left: 20px;\"><span style=\"color: black\"><font size=\"+4\">⟶</font></span></div>\n",
    "  <div style=\"position: absolute; top: -8px; left: -20px;\"><span style=\"color: blue\"><font size=\"+4\">➋</font></span></div>\n",
    "  <div style=\"position: absolute; top: -8px; left: 90px;\"><span style=\"color: blue\"><font size=\"+4\">➒</font></span></div>\n",
    "  <div style=\"position: absolute; top: -40px; left: 120px;\"><span style=\"color: black\"><font size=\"+4\">↗</font></span></div>\n",
    "  <div style=\"position: absolute; top: -65px; left: 148px;\"><span style=\"color: blue\"><font size=\"+4\">➊</font></span></div>\n",
    "  <div style=\"position: absolute; top: -65px; left: 190px;\"><span style=\"color: black\"><font size=\"+4\">⟶</font></span></div>\n",
    "  <div style=\"position: absolute; top: -65px; left: 260px;\"><span style=\"color: blue\"><font size=\"+4\">➎</font></span></div>\n",
    "  <div style=\"position: absolute; top: -65px; left: 300px;\"><span style=\"color: black\"><font size=\"+4\">⟶</font></span></div>\n",
    "  <div style=\"position: absolute; top: -65px; left: 370px;\"><span style=\"color: blue\"><font size=\"+4\">➌</font></span></div>\n",
    "  <div style=\"position: absolute; top: -22px; left: 380px;\"><span style=\"color: black\"><font size=\"+4\">↓</font></span></div>\n",
    "  <div style=\"position: absolute; top: 18px; left: 382px;\"><span style=\"color: white\"><font size=\"+1\">▬</font></span></div>\n",
    "  <div style=\"position: absolute; top: -2px; left: 380px;\"><span style=\"color: black\"><font size=\"+4\">↓</font></span></div>\n",
    "  <div style=\"position: absolute; top: 40px; left: 370px;\"><span style=\"color: blue\"><font size=\"+4\">➏</font></span></div>\n",
    "  <div style=\"position: absolute; top: 40px; left: 300px;\"><span style=\"color: black\"><font size=\"+4\">⟵</font></span></div>\n",
    "  <div style=\"position: absolute; top: 40px; left: 260px;\"><span style=\"color: blue\"><font size=\"+4\">➑</font></span></div>\n",
    "  <div style=\"position: absolute; top: 40px; left: 190px;\"><span style=\"color: black\"><font size=\"+4\">⟵</font></span></div>\n",
    "  <div style=\"position: absolute; top: 40px; left: 148px;\"><span style=\"color: blue\"><font size=\"+4\">➐</font></span></div>\n",
    "  <div style=\"position: absolute; top: 30px; left: 126px;\"><span style=\"color: black\"><font size=\"+3\">↸</font></span></div>\n",
    "  <div style=\"position: absolute; top: 4px; left: 122px;\"><span style=\"color: white\"><font size=\"+4\">🠲</font></span></div>\n",
    "  <div style=\"position: absolute; top: -90px; left: 390px;\"><span style=\"color: red\"><font size=\"+3\">s</font></span></div>\n",
    "  <div style=\"position: absolute; top: 45px; left:95px;\"><span style=\"color: red\"><font size=\"+3\">f</font></span></div>\n",
    "</div>\n",
    "\n",
    "<br>\n",
    "<br>\n",
    "<br>\n",
    "<br>\n",
    "<br\n",
    "<br>\n",
    "<br>\n",
    "<br>\n",
    "<br>"
   ]
  },
  {
   "cell_type": "markdown",
   "id": "7c533518-ad89-4c63-bebc-a1ad1f6f514d",
   "metadata": {},
   "source": [
    "<br>\n",
    "<br>\n",
    "<br>\n",
    "<br>\n",
    "<br>\n",
    "\n",
    "<div style=\"position: relative; margin-left: 200px\">\n",
    " \n",
    "  <div style=\"position: absolute; top:-10px; left: 20px;\"><span style=\"color: black\"><font size=\"+4\">⟶</font></span></div>\n",
    "  <div style=\"position: absolute; top: -8px; left: -20px;\"><span style=\"color: blue\"><font size=\"+4\">➋</font></span></div>\n",
    "  <div style=\"position: absolute; top: -8px; left: 90px;\"><span style=\"color: blue\"><font size=\"+4\">➒</font></span></div>\n",
    "  <div style=\"position: absolute; top: -40px; left: 120px;\"><span style=\"color: black\"><font size=\"+4\">↗</font></span></div>\n",
    "  <div style=\"position: absolute; top: -65px; left: 148px;\"><span style=\"color: blue\"><font size=\"+4\">➊</font></span></div>\n",
    "  <div style=\"position: absolute; top: -65px; left: 190px;\"><span style=\"color: black\"><font size=\"+4\">⟶</font></span></div>\n",
    "  <div style=\"position: absolute; top: -65px; left: 260px;\"><span style=\"color: blue\"><font size=\"+4\">➎</font></span></div>\n",
    "  <div style=\"position: absolute; top: -65px; left: 300px;\"><span style=\"color: black\"><font size=\"+4\">⟶</font></span></div>\n",
    "  <div style=\"position: absolute; top: -65px; left: 370px;\"><span style=\"color: blue\"><font size=\"+4\">➌</font></span></div>\n",
    "  <div style=\"position: absolute; top: -22px; left: 380px;\"><span style=\"color: black\"><font size=\"+4\">↓</font></span></div>\n",
    "  <div style=\"position: absolute; top: 18px; left: 382px;\"><span style=\"color: white\"><font size=\"+1\">▬</font></span></div>\n",
    "  <div style=\"position: absolute; top: -2px; left: 380px;\"><span style=\"color: black\"><font size=\"+4\">↓</font></span></div>\n",
    "  <div style=\"position: absolute; top: 40px; left: 370px;\"><span style=\"color: blue\"><font size=\"+4\">➏</font></span></div>\n",
    "  <div style=\"position: absolute; top: 40px; left: 300px;\"><span style=\"color: black\"><font size=\"+4\">⟵</font></span></div>\n",
    "  <div style=\"position: absolute; top: 40px; left: 260px;\"><span style=\"color: blue\"><font size=\"+4\">➑</font></span></div>\n",
    "  <div style=\"position: absolute; top: 40px; left: 190px;\"><span style=\"color: black\"><font size=\"+4\">⟵</font></span></div>\n",
    "  <div style=\"position: absolute; top: 40px; left: 148px;\"><span style=\"color: blue\"><font size=\"+4\">➐</font></span></div>\n",
    "  <div style=\"position: absolute; top: 30px; left: 126px;\"><span style=\"color: black\"><font size=\"+3\">↸</font></span></div>\n",
    "  <div style=\"position: absolute; top: 4px; left: 122px;\"><span style=\"color: white\"><font size=\"+4\">🠲</font></span></div>\n",
    "  <div style=\"position: absolute; top: 55px; left: 415px;\"><span style=\"color: red\"><font size=\"+3\">s</font></span></div>\n",
    "  <div style=\"position: absolute; top: -85px; left:270px;\"><span style=\"color: red\"><font size=\"+3\">f</font></span></div>\n",
    "</div>\n",
    "\n",
    "<br>\n",
    "<br>\n",
    "<br>\n",
    "<br>\n",
    "<br\n",
    "<br>\n",
    "<br>\n",
    "<br>\n",
    "<br>"
   ]
  },
  {
   "cell_type": "markdown",
   "id": "313ef150-291d-4d46-b50a-0876184c6abd",
   "metadata": {},
   "source": [
    "<br>\n",
    "<br>\n",
    "<br>\n",
    "<br>\n",
    "\n",
    "<div style=\"position: relative; margin-left: 200px\">\n",
    " \n",
    "  <div style=\"position: absolute; top:-10px; left: 20px;\"><span style=\"color: black\"><font size=\"+4\">⟶</font></span></div>\n",
    "  <div style=\"position: absolute; top: -8px; left: -20px;\"><span style=\"color: blue\"><font size=\"+4\">➋</font></span></div>\n",
    "  <div style=\"position: absolute; top: -8px; left: 90px;\"><span style=\"color: blue\"><font size=\"+4\">➒</font></span></div>\n",
    "  <div style=\"position: absolute; top: -40px; left: 120px;\"><span style=\"color: black\"><font size=\"+4\">↗</font></span></div>\n",
    "  <div style=\"position: absolute; top: -65px; left: 148px;\"><span style=\"color: blue\"><font size=\"+4\">➊</font></span></div>\n",
    "  <div style=\"position: absolute; top: -65px; left: 190px;\"><span style=\"color: black\"><font size=\"+4\">⟶</font></span></div>\n",
    "  <div style=\"position: absolute; top: -65px; left: 260px;\"><span style=\"color: blue\"><font size=\"+4\">➎</font></span></div>\n",
    "  <div style=\"position: absolute; top: -65px; left: 300px;\"><span style=\"color: black\"><font size=\"+4\">⟶</font></span></div>\n",
    "  <div style=\"position: absolute; top: -65px; left: 370px;\"><span style=\"color: blue\"><font size=\"+4\">➌</font></span></div>\n",
    "  <div style=\"position: absolute; top: -22px; left: 380px;\"><span style=\"color: black\"><font size=\"+4\">↓</font></span></div>\n",
    "  <div style=\"position: absolute; top: 18px; left: 382px;\"><span style=\"color: white\"><font size=\"+1\">▬</font></span></div>\n",
    "  <div style=\"position: absolute; top: -2px; left: 380px;\"><span style=\"color: black\"><font size=\"+4\">↓</font></span></div>\n",
    "  <div style=\"position: absolute; top: 40px; left: 370px;\"><span style=\"color: blue\"><font size=\"+4\">➏</font></span></div>\n",
    "  <div style=\"position: absolute; top: 40px; left: 300px;\"><span style=\"color: black\"><font size=\"+4\">⟵</font></span></div>\n",
    "  <div style=\"position: absolute; top: 40px; left: 260px;\"><span style=\"color: blue\"><font size=\"+4\">➑</font></span></div>\n",
    "  <div style=\"position: absolute; top: 40px; left: 190px;\"><span style=\"color: black\"><font size=\"+4\">⟵</font></span></div>\n",
    "  <div style=\"position: absolute; top: 40px; left: 148px;\"><span style=\"color: blue\"><font size=\"+4\">➐</font></span></div>\n",
    "  <div style=\"position: absolute; top: 30px; left: 126px;\"><span style=\"color: black\"><font size=\"+3\">↸</font></span></div>\n",
    "  <div style=\"position: absolute; top: 4px; left: 124px;\"><span style=\"color: white\"><font size=\"+5\">⟶</font></span></div>\n",
    "  <div style=\"position: absolute; top: 90px; left: 270px;\"><span style=\"color: red\"><font size=\"+3\">s</font></span></div>\n",
    "  <div style=\"position: absolute; top: 55px; left: 415px;\"><span style=\"color: red\"><font size=\"+3\">f</font></span></div>\n",
    "</div>\n",
    "\n",
    "<br>\n",
    "<br>\n",
    "<br>\n",
    "<br>\n",
    "<br\n",
    "<br>\n",
    "<br>\n",
    "<br>\n",
    "<br>"
   ]
  },
  {
   "cell_type": "markdown",
   "id": "6d03cc41-d191-489d-b7ea-7be396faa30f",
   "metadata": {},
   "source": [
    "<br>\n",
    "<br>\n",
    "<br>\n",
    "<br>\n",
    "\n",
    "<div style=\"position: relative; margin-left: 200px\">\n",
    " \n",
    "  <div style=\"position: absolute; top:-10px; left: 20px;\"><span style=\"color: black\"><font size=\"+4\">⟶</font></span></div>\n",
    "  <div style=\"position: absolute; top: -8px; left: -20px;\"><span style=\"color: blue\"><font size=\"+4\">➋</font></span></div>\n",
    "  <div style=\"position: absolute; top: -8px; left: 90px;\"><span style=\"color: blue\"><font size=\"+4\">➒</font></span></div>\n",
    "  <div style=\"position: absolute; top: -40px; left: 120px;\"><span style=\"color: black\"><font size=\"+4\">↗</font></span></div>\n",
    "  <div style=\"position: absolute; top: -65px; left: 148px;\"><span style=\"color: blue\"><font size=\"+4\">➊</font></span></div>\n",
    "  <div style=\"position: absolute; top: -65px; left: 190px;\"><span style=\"color: black\"><font size=\"+4\">⟶</font></span></div>\n",
    "  <div style=\"position: absolute; top: -65px; left: 260px;\"><span style=\"color: blue\"><font size=\"+4\">➎</font></span></div>\n",
    "  <div style=\"position: absolute; top: -65px; left: 300px;\"><span style=\"color: black\"><font size=\"+4\">⟶</font></span></div>\n",
    "  <div style=\"position: absolute; top: -65px; left: 370px;\"><span style=\"color: blue\"><font size=\"+4\">➌</font></span></div>\n",
    "  <div style=\"position: absolute; top: -22px; left: 380px;\"><span style=\"color: black\"><font size=\"+4\">↓</font></span></div>\n",
    "  <div style=\"position: absolute; top: 18px; left: 382px;\"><span style=\"color: white\"><font size=\"+1\">▬</font></span></div>\n",
    "  <div style=\"position: absolute; top: -2px; left: 380px;\"><span style=\"color: black\"><font size=\"+4\">↓</font></span></div>\n",
    "  <div style=\"position: absolute; top: 40px; left: 370px;\"><span style=\"color: blue\"><font size=\"+4\">➏</font></span></div>\n",
    "  <div style=\"position: absolute; top: 40px; left: 300px;\"><span style=\"color: black\"><font size=\"+4\">⟵</font></span></div>\n",
    "  <div style=\"position: absolute; top: 40px; left: 260px;\"><span style=\"color: blue\"><font size=\"+4\">➑</font></span></div>\n",
    "  <div style=\"position: absolute; top: 40px; left: 190px;\"><span style=\"color: black\"><font size=\"+4\">⟵</font></span></div>\n",
    "  <div style=\"position: absolute; top: 40px; left: 148px;\"><span style=\"color: blue\"><font size=\"+4\">➐</font></span></div>\n",
    "  <div style=\"position: absolute; top: 30px; left: 126px;\"><span style=\"color: black\"><font size=\"+3\">↸</font></span></div>\n",
    "  <div style=\"position: absolute; top: 4px; left: 122px;\"><span style=\"color: white\"><font size=\"+4\">🠲</font></span></div>\n",
    "  <div style=\"position: absolute; top: 90px; left: 130px;\"><span style=\"color: red\"><font size=\"+3\">f / s</font></span></div>\n",
    "  <div style=\"position: absolute; top: 135px; left: 120px;\"><span style=\"color: red\">1st collission</span></div>\n",
    "</div>\n",
    "\n",
    "<br>\n",
    "<br>\n",
    "<br>\n",
    "<br>\n",
    "<br\n",
    "<br>\n",
    "<br>\n",
    "<br>\n",
    "<br>"
   ]
  },
  {
   "cell_type": "markdown",
   "id": "77fa6eb1-6720-4a98-9af3-5f3808dd5895",
   "metadata": {},
   "source": [
    "<br>\n",
    "<br>\n",
    "<br>\n",
    "<br>\n",
    "<br>\n",
    "<br>\n",
    "\n",
    "<div style=\"position: relative; margin-left: 200px\">\n",
    " \n",
    "  <div style=\"position: absolute; top:-10px; left: 20px;\"><span style=\"color: black\"><font size=\"+4\">⟶</font></span></div>\n",
    "  <div style=\"position: absolute; top: -8px; left: -20px;\"><span style=\"color: blue\"><font size=\"+4\">➋</font></span></div>\n",
    "  <div style=\"position: absolute; top: -8px; left: 90px;\"><span style=\"color: blue\"><font size=\"+4\">➒</font></span></div>\n",
    "  <div style=\"position: absolute; top: -40px; left: 120px;\"><span style=\"color: black\"><font size=\"+4\">↗</font></span></div>\n",
    "  <div style=\"position: absolute; top: -65px; left: 148px;\"><span style=\"color: blue\"><font size=\"+4\">➊</font></span></div>\n",
    "  <div style=\"position: absolute; top: -65px; left: 190px;\"><span style=\"color: black\"><font size=\"+4\">⟶</font></span></div>\n",
    "  <div style=\"position: absolute; top: -65px; left: 260px;\"><span style=\"color: blue\"><font size=\"+4\">➎</font></span></div>\n",
    "  <div style=\"position: absolute; top: -65px; left: 300px;\"><span style=\"color: black\"><font size=\"+4\">⟶</font></span></div>\n",
    "  <div style=\"position: absolute; top: -65px; left: 370px;\"><span style=\"color: blue\"><font size=\"+4\">➌</font></span></div>\n",
    "  <div style=\"position: absolute; top: -22px; left: 380px;\"><span style=\"color: black\"><font size=\"+4\">↓</font></span></div>\n",
    "  <div style=\"position: absolute; top: 18px; left: 382px;\"><span style=\"color: white\"><font size=\"+1\">▬</font></span></div>\n",
    "  <div style=\"position: absolute; top: -2px; left: 380px;\"><span style=\"color: black\"><font size=\"+4\">↓</font></span></div>\n",
    "  <div style=\"position: absolute; top: 40px; left: 370px;\"><span style=\"color: blue\"><font size=\"+4\">➏</font></span></div>\n",
    "  <div style=\"position: absolute; top: 40px; left: 300px;\"><span style=\"color: black\"><font size=\"+4\">⟵</font></span></div>\n",
    "  <div style=\"position: absolute; top: 40px; left: 260px;\"><span style=\"color: blue\"><font size=\"+4\">➑</font></span></div>\n",
    "  <div style=\"position: absolute; top: 40px; left: 190px;\"><span style=\"color: black\"><font size=\"+4\">⟵</font></span></div>\n",
    "  <div style=\"position: absolute; top: 40px; left: 148px;\"><span style=\"color: blue\"><font size=\"+4\">➐</font></span></div>\n",
    "  <div style=\"position: absolute; top: 30px; left: 126px;\"><span style=\"color: black\"><font size=\"+3\">↸</font></span></div>\n",
    "  <div style=\"position: absolute; top: 4px; left: 122px;\"><span style=\"color: white\"><font size=\"+4\">🠲</font></span></div>\n",
    "  <div style=\"position: absolute; top: 90px; left: 150px;\"><span style=\"color: red\"><font size=\"+3\">s</font></span></div>\n",
    "  <div style=\"position: absolute; top: -30px; left: -5px;\"><span style=\"color: red\"><font size=\"+3\">f</font></span></div>\n",
    "</div>\n",
    "\n",
    "<br>\n",
    "<br>\n",
    "<br>\n",
    "<br>\n",
    "<br\n",
    "<br>\n",
    "<br>\n",
    "<br>\n",
    "<br>"
   ]
  },
  {
   "cell_type": "markdown",
   "id": "b515a9d6-dad0-4647-8361-3307f5003e29",
   "metadata": {},
   "source": [
    "<br>\n",
    "<br>\n",
    "<br>\n",
    "<br>\n",
    "<br>\n",
    "\n",
    "<div style=\"position: relative; margin-left: 200px\">\n",
    " \n",
    "  <div style=\"position: absolute; top:-10px; left: 20px;\"><span style=\"color: black\"><font size=\"+4\">⟶</font></span></div>\n",
    "  <div style=\"position: absolute; top: -8px; left: -20px;\"><span style=\"color: blue\"><font size=\"+4\">➋</font></span></div>\n",
    "  <div style=\"position: absolute; top: -8px; left: 90px;\"><span style=\"color: #00C427\"><font size=\"+4\">➒</font></span></div>\n",
    "  <div style=\"position: absolute; top: -40px; left: 120px;\"><span style=\"color: black\"><font size=\"+4\">↗</font></span></div>\n",
    "  <div style=\"position: absolute; top: -65px; left: 148px;\"><span style=\"color: blue\"><font size=\"+4\">➊</font></span></div>\n",
    "  <div style=\"position: absolute; top: -65px; left: 190px;\"><span style=\"color: black\"><font size=\"+4\">⟶</font></span></div>\n",
    "  <div style=\"position: absolute; top: -65px; left: 260px;\"><span style=\"color: blue\"><font size=\"+4\">➎</font></span></div>\n",
    "  <div style=\"position: absolute; top: -65px; left: 300px;\"><span style=\"color: black\"><font size=\"+4\">⟶</font></span></div>\n",
    "  <div style=\"position: absolute; top: -65px; left: 370px;\"><span style=\"color: blue\"><font size=\"+4\">➌</font></span></div>\n",
    "  <div style=\"position: absolute; top: -22px; left: 380px;\"><span style=\"color: black\"><font size=\"+4\">↓</font></span></div>\n",
    "  <div style=\"position: absolute; top: 18px; left: 382px;\"><span style=\"color: white\"><font size=\"+1\">▬</font></span></div>\n",
    "  <div style=\"position: absolute; top: -2px; left: 380px;\"><span style=\"color: black\"><font size=\"+4\">↓</font></span></div>\n",
    "  <div style=\"position: absolute; top: 40px; left: 370px;\"><span style=\"color: blue\"><font size=\"+4\">➏</font></span></div>\n",
    "  <div style=\"position: absolute; top: 40px; left: 300px;\"><span style=\"color: black\"><font size=\"+4\">⟵</font></span></div>\n",
    "  <div style=\"position: absolute; top: 40px; left: 260px;\"><span style=\"color: blue\"><font size=\"+4\">➑</font></span></div>\n",
    "  <div style=\"position: absolute; top: 40px; left: 190px;\"><span style=\"color: black\"><font size=\"+4\">⟵</font></span></div>\n",
    "  <div style=\"position: absolute; top: 40px; left: 148px;\"><span style=\"color: blue\"><font size=\"+4\">➐</font></span></div>\n",
    "  <div style=\"position: absolute; top: 30px; left: 126px;\"><span style=\"color: black\"><font size=\"+3\">↸</font></span></div>\n",
    "  <div style=\"position: absolute; top: 4px; left: 122px;\"><span style=\"color: white\"><font size=\"+4\">🠲</font></span></div>\n",
    "  <div style=\"position: absolute; top: -25px; left: 50px;\"><span style=\"color: red\"><font size=\"+3\">f / s</font></span></div>\n",
    "  <div style=\"position: absolute; top: 20px; left: 130px;\"><span style=\"color: red\">2nd collission</span></div>\n",
    "</div>\n",
    "\n",
    "<br>\n",
    "<br>\n",
    "<br>\n",
    "<br>\n",
    "<br\n",
    "<br>\n",
    "<br>\n",
    "<br>\n",
    "<br>\n",
    "\n",
    "So **9** is the duplicate number.\n",
    "\n",
    "<br>\n",
    "\n",
    "-----\n",
    "\n",
    "<br>\n",
    "<br>\n",
    "<br>\n",
    "\n",
    "<div style=\"position: relative; margin-left: 200px\">\n",
    "  <div style=\"width: 200px; height: 2px; border-bottom: 2px solid black; position: absolute; top: 25px; left: 0;\"></div>\n",
    "  <div style=\"width: 50px; height: 100px; border-top-left-radius: 50px; border-bottom-left-radius: 50px; border: 2px solid black; border-right: none; background-color: white; position: absolute; top: -35px; left: 200px;\"></div>\n",
    "  <div style=\"width: 50px; height: 100px; border-top-right-radius: 50px; border-bottom-right-radius: 50px; border: 2px solid black; border-left: none; background-color: white; position: absolute; top: -35px; left: 250px;\"></div>\n",
    "     <div style=\"position: absolute; top: -40px; left: 300px;\"><span style=\"color: blue\"><strong><font size=\"+1\">b</font></strong></span></div>\n",
    "     <div style=\"position: absolute; top: -5px; left: 100px;\"><span style=\"color: blue\"><strong><font size=\"+1\">a</font></strong></span></div>\n",
    "     <div style=\"position: absolute; top: 62px; left: 220px;\"><span style=\"color: blue\"><strong><font size=\"+1\">c</font></strong></span></div>\n",
    "     <div style=\"position: absolute; top: 8px; left: 280px;\"><span style=\"color: red\"><font size=\"+4\">•</font></span></div>\n",
    "     <div style=\"position: absolute; top: 16px; left: 173px;\"><span style=\"color: black\"><font size=\"+3\">⬈</font></span></div>\n",
    "     <div style=\"position: absolute; top: 55px; left: 130px;\"><span style=\"color: black; background-color: yellow\">&nbsp;duplicate&nbsp;</span></div>\n",
    "     <div style=\"position: absolute; top: 42px; left: 295px;\"><span style=\"color: black\"><font size=\"+3\">⬉</font></span></div>\n",
    "     <div style=\"position: absolute; top: 77px; left: 310px;\"><span style=\"color: black\">meet</span></div>\n",
    "     <div style=\"position: absolute; top: -48px; left: 240px;\"><span style=\"color: black\"><font size=\"+1\">ᐳ</font></span></div>\n",
    "    \n",
    "</div>\n",
    "\n",
    "<br>\n",
    "\n",
    "**Proof -** \n",
    "\n",
    "<pre>\n",
    "\n",
    "    f ====> fast ponter\n",
    "    s ====> slow pointer\n",
    "\n",
    "    <code style=\"background-color: yellow\"> f = 2 * s </code>\n",
    "    =>  a + n(b + c) + b     =     2(a + m(b + c) + b)\n",
    "    =>  a + n(b + c) + b     =     2a + 2m(b + c) + b\n",
    "    =>  a + b                =     (n - 2m)(b + c)\n",
    "    =>  a + b                =     λ(b + c)\n",
    "\n",
    "    When λ = 1  =====>  a + b = b + c  ============================>  a = c\n",
    "    When λ = 2  =====>  a + b = 2b + 2c  ==========================>  a = c + (b + c)\n",
    "    When λ = 3  =====>  a + b = 3b + 3c  =====>  a = 2b + 3c  =====>  a = c + 2(b + c)\n",
    "    When λ = λ +1  ================================================>  <code style=\"background-color: yellow\"> a = c + λ(b + c) </code>\n",
    "    \n",
    "    \n",
    "\n",
    "\n",
    "    \n",
    "</pre>\n",
    "\n",
    "</div>"
   ]
  },
  {
   "cell_type": "code",
   "execution_count": 3,
   "id": "b95e3c03-7155-470f-89ec-a34770942fb5",
   "metadata": {},
   "outputs": [
    {
     "data": {
      "text/plain": [
       "3"
      ]
     },
     "execution_count": 3,
     "metadata": {},
     "output_type": "execute_result"
    }
   ],
   "source": [
    "\n",
    "def find_duplicate(arr):\n",
    "    slow = arr[0]\n",
    "    fast = arr[0]\n",
    "    while True:\n",
    "        slow = arr[slow]\n",
    "        fast = arr[arr[fast]]\n",
    "        if slow == fast:\n",
    "            break\n",
    "    meet = slow\n",
    "    t = arr[0]\n",
    "    while t != meet:\n",
    "        t = arr[t]\n",
    "        meet = arr[meet]\n",
    "    return t   # return meet   ===> this also works because at this point, we have ====> meet == t\n",
    "\n",
    "\n",
    "arr = [1, 3, 4, 2, 3]\n",
    "find_duplicate(arr)\n"
   ]
  },
  {
   "cell_type": "code",
   "execution_count": 4,
   "id": "88b06b8e-1e32-448e-a9cf-939ef58f266f",
   "metadata": {},
   "outputs": [
    {
     "data": {
      "text/plain": [
       "3"
      ]
     },
     "execution_count": 4,
     "metadata": {},
     "output_type": "execute_result"
    }
   ],
   "source": [
    "\n",
    "def find_duplicate(arr):\n",
    "    slow = arr[0]\n",
    "    fast = arr[0]\n",
    "    while True:\n",
    "        slow = arr[slow]\n",
    "        fast = arr[arr[fast]]\n",
    "        if slow == fast:\n",
    "            break\n",
    "    fast = arr[0]\n",
    "    while fast != slow:\n",
    "        slow = arr[slow]\n",
    "        fast = arr[fast]\n",
    "    return slow   # return fast   ===> this also works because at this point, we have ====> fast == slow\n",
    "\n",
    "\n",
    "arr = [1, 3, 4, 2, 3]\n",
    "find_duplicate(arr)\n"
   ]
  },
  {
   "cell_type": "code",
   "execution_count": null,
   "id": "66fcc781-9779-461b-884e-1262dec40c7d",
   "metadata": {},
   "outputs": [],
   "source": []
  },
  {
   "cell_type": "markdown",
   "id": "0a36f532-46d1-48a3-89f9-8aa73fac8b8b",
   "metadata": {
    "jp-MarkdownHeadingCollapsed": true
   },
   "source": [
    "\n",
    "##### <span style=\"color: blue\">17  ===> Missing Number\n"
   ]
  },
  {
   "cell_type": "markdown",
   "id": "24ba5dd9-af26-435b-8911-da708a40b533",
   "metadata": {},
   "source": [
    "<br>\n",
    "\n",
    "<span style=\"color: #DCBD10\">▬▬▬▬▬▬▬▬▬▬▬▬▬▬▬▬▬▬▬▬▬▬▬▬▬▬▬▬▬▬▬▬▬▬▬▬▬▬▬▬▬▬▬▬▬▬▬▬▬▬▬▬▬▬▬▬▬▬▬▬▬▬▬▬▬▬▬▬▬▬▬▬▬▬▬▬</span>\n",
    "\n",
    "<br>\n",
    "\n",
    "<div style=\"padding: 10px; background-color: #E2FFEC\">\n",
    "\n",
    "<u>**QUESTION - 17**</u> : <br>\n",
    "\n",
    "&nbsp;&nbsp;&nbsp;&nbsp;&nbsp;&nbsp;&nbsp;&nbsp;&nbsp;&nbsp;&nbsp;&nbsp;&nbsp;&nbsp;&nbsp;&nbsp;&nbsp;Given an array <code  style=\"background-color: yellow\">nums</code>&nbsp; containing &nbsp;<code  style=\"background-color: yellow\">n</code>&nbsp; **distinct numbers** in the range &nbsp;<code  style=\"background-color: yellow\">[0, n]</code>&nbsp;, return the **only number in the range that is missing from the array**.\n",
    "\n",
    "&nbsp;&nbsp;&nbsp;&nbsp;&nbsp;&nbsp;&nbsp;&nbsp;&nbsp;&nbsp;&nbsp;&nbsp;&nbsp;&nbsp;&nbsp;&nbsp;&nbsp;All the numbers of nums are **unique**.\n",
    "\n",
    "&nbsp;&nbsp;&nbsp;&nbsp;&nbsp;&nbsp;&nbsp;&nbsp;&nbsp;&nbsp;&nbsp;&nbsp;&nbsp;&nbsp;&nbsp;&nbsp;&nbsp;https://leetcode.com/problems/missing-number/description/\n",
    "\n",
    "</div>\n",
    "\n",
    "<br>\n",
    "\n",
    "<span style=\"color: #FC02BB\"> <strong>SOLUTION</strong> "
   ]
  },
  {
   "cell_type": "code",
   "execution_count": 53,
   "id": "96c03468-6407-43c7-995a-bd4bcb9f688b",
   "metadata": {},
   "outputs": [
    {
     "data": {
      "text/plain": [
       "2"
      ]
     },
     "execution_count": 53,
     "metadata": {},
     "output_type": "execute_result"
    }
   ],
   "source": [
    "\n",
    "def find_missing_number(nums):\n",
    "    n = len(nums)\n",
    "    sum_0_to_n = int(n * (n + 1) / 2)\n",
    "    arr_sum = 0\n",
    "    for num in nums:\n",
    "        arr_sum = arr_sum + num\n",
    "    missing_number = sum_0_to_n - arr_sum\n",
    "    return missing_number\n",
    "\n",
    "\n",
    "# nums = [3, 0, 1]\n",
    "# find_missing_number(nums)\n",
    "\n",
    "nums = [0, 1]\n",
    "find_missing_number(nums)\n"
   ]
  },
  {
   "cell_type": "code",
   "execution_count": 54,
   "id": "45b656b0-67f9-4995-92d7-4e27eca19078",
   "metadata": {},
   "outputs": [
    {
     "data": {
      "text/plain": [
       "2"
      ]
     },
     "execution_count": 54,
     "metadata": {},
     "output_type": "execute_result"
    }
   ],
   "source": [
    "\n",
    "nums = [0, 1]\n",
    "find_missing_number(nums)\n"
   ]
  },
  {
   "cell_type": "code",
   "execution_count": 55,
   "id": "78f60e37-49b2-45e5-9802-4f7ff4b599a5",
   "metadata": {},
   "outputs": [
    {
     "data": {
      "text/plain": [
       "8"
      ]
     },
     "execution_count": 55,
     "metadata": {},
     "output_type": "execute_result"
    }
   ],
   "source": [
    "\n",
    "nums = [9, 6, 4, 2, 3, 5, 7, 0, 1]\n",
    "find_missing_number(nums)\n"
   ]
  },
  {
   "cell_type": "code",
   "execution_count": null,
   "id": "86ec228c-a75c-4a9f-a4bc-3b812b3c4cd7",
   "metadata": {},
   "outputs": [],
   "source": []
  },
  {
   "cell_type": "markdown",
   "id": "cc2a3069-0c9c-4657-9742-496f66213f2c",
   "metadata": {
    "jp-MarkdownHeadingCollapsed": true
   },
   "source": [
    "\n",
    "##### <span style=\"color: blue\">18  ===> Find All Duplicates in an Array\n"
   ]
  },
  {
   "cell_type": "markdown",
   "id": "21be58d4-6fe2-403f-8ec7-ab2997f0952f",
   "metadata": {},
   "source": [
    "<br>\n",
    "\n",
    "<span style=\"color: #DCBD10\">▬▬▬▬▬▬▬▬▬▬▬▬▬▬▬▬▬▬▬▬▬▬▬▬▬▬▬▬▬▬▬▬▬▬▬▬▬▬▬▬▬▬▬▬▬▬▬▬▬▬▬▬▬▬▬▬▬▬▬▬▬▬▬▬▬▬▬▬▬▬▬▬▬▬▬▬</span>\n",
    "\n",
    "<br>\n",
    "\n",
    "<div style=\"padding: 10px; background-color: #E2FFEC\">\n",
    "\n",
    "<u>**QUESTION - 18**</u> : &nbsp;Given an integer array &nbsp;<code style=\"background-color: yellow\">nums</code>&nbsp; of length &nbsp;<code  style=\"background-color: yellow\">n</code>&nbsp; where all the integers of nums are in the range <code  style=\"background-color: yellow\">[1, n]</code>&nbsp; and each integer appears **once** or **twice**, <br>\n",
    "&nbsp;&nbsp;&nbsp;&nbsp;&nbsp;&nbsp;&nbsp;&nbsp;&nbsp;&nbsp;&nbsp;&nbsp;&nbsp;&nbsp;&nbsp;&nbsp;&nbsp;&nbsp;&nbsp;&nbsp;&nbsp;&nbsp;&nbsp;&nbsp;&nbsp;&nbsp;&nbsp;&nbsp;&nbsp;&nbsp;return an array of all the integers that appears **twice**.\n",
    "\n",
    "&nbsp;&nbsp;&nbsp;&nbsp;&nbsp;&nbsp;&nbsp;&nbsp;&nbsp;&nbsp;&nbsp;&nbsp;&nbsp;&nbsp;&nbsp;&nbsp;&nbsp;&nbsp;&nbsp;&nbsp;&nbsp;&nbsp;&nbsp;&nbsp;&nbsp;&nbsp;&nbsp;&nbsp;&nbsp;&nbsp;You must write an algorithm that runs in <code  style=\"background-color: yellow\">O(n)</code>&nbsp; time and uses only **constant extra space**.\n",
    "\n",
    "&nbsp;&nbsp;&nbsp;&nbsp;&nbsp;&nbsp;&nbsp;&nbsp;&nbsp;&nbsp;&nbsp;&nbsp;&nbsp;&nbsp;&nbsp;&nbsp;&nbsp;&nbsp;&nbsp;&nbsp;&nbsp;&nbsp;&nbsp;&nbsp;&nbsp;&nbsp;&nbsp;&nbsp;&nbsp;&nbsp;https://leetcode.com/problems/find-all-duplicates-in-an-array/description/\n",
    "\n",
    "</div>\n",
    "\n",
    "<br>\n",
    "\n",
    "<span style=\"color: #FC02BB\"> <strong>SOLUTION</strong> "
   ]
  },
  {
   "cell_type": "code",
   "execution_count": 66,
   "id": "c92bf419-66b3-4ffa-b7ca-201bbcccff26",
   "metadata": {},
   "outputs": [
    {
     "data": {
      "text/plain": [
       "[2, 3]"
      ]
     },
     "execution_count": 66,
     "metadata": {},
     "output_type": "execute_result"
    }
   ],
   "source": [
    "\n",
    "def find_duplicates(arr):\n",
    "    n = len(arr)\n",
    "    duplicates = []\n",
    "    for i in range(0, n):\n",
    "        if arr[abs(arr[i]) - 1] < 0:\n",
    "            duplicates.append(abs(arr[i]))\n",
    "        else:\n",
    "            arr[abs(arr[i]) - 1] = -1 * arr[abs(arr[i]) - 1]  # arr[abs(arr[i]) - 1] = -arr[abs(arr[i]) - 1]\n",
    "    return duplicates\n",
    "\n",
    "\n",
    "nums = [4,3,2,7,8,2,3,1]\n",
    "find_duplicates(nums)\n"
   ]
  },
  {
   "cell_type": "code",
   "execution_count": 64,
   "id": "e031467e-3327-4fe4-8f03-1c5d40353381",
   "metadata": {},
   "outputs": [
    {
     "name": "stdout",
     "output_type": "stream",
     "text": [
      "[2, 3]\n"
     ]
    }
   ],
   "source": [
    "def find_duplicates(arr):\n",
    "    n = len(arr)\n",
    "    duplicates = []\n",
    "    for i in range(n):\n",
    "        index = abs(arr[i]) - 1\n",
    "        if arr[index] < 0:\n",
    "            duplicates.append(abs(arr[i]))\n",
    "        else:\n",
    "            arr[index] = -arr[index]\n",
    "    return duplicates\n",
    "\n",
    "nums = [4, 3, 2, 7, 8, 2, 3, 1]\n",
    "print(find_duplicates(nums))\n"
   ]
  },
  {
   "cell_type": "code",
   "execution_count": null,
   "id": "daa6a9d1-6325-4555-8cc6-b1261f4916fb",
   "metadata": {},
   "outputs": [],
   "source": []
  },
  {
   "cell_type": "markdown",
   "id": "fd2815c4-e03f-4304-858e-74aca960161a",
   "metadata": {
    "jp-MarkdownHeadingCollapsed": true
   },
   "source": [
    "\n",
    "##### <span style=\"color: blue\">19  ===> Left Most Pivot Index\n"
   ]
  },
  {
   "cell_type": "markdown",
   "id": "3e76f86c-cd2e-47ed-a551-9168e517d433",
   "metadata": {},
   "source": [
    "<br>\n",
    "\n",
    "<span style=\"color: #DCBD10\">▬▬▬▬▬▬▬▬▬▬▬▬▬▬▬▬▬▬▬▬▬▬▬▬▬▬▬▬▬▬▬▬▬▬▬▬▬▬▬▬▬▬▬▬▬▬▬▬▬▬▬▬▬▬▬▬▬▬▬▬▬▬▬▬▬▬▬▬▬▬▬▬▬▬▬▬</span>\n",
    "\n",
    "<br>\n",
    "\n",
    "<div style=\"padding: 10px; background-color: #E2FFEC\">\n",
    "\n",
    "<u>**QUESTION - 19**</u> : <br>\n",
    "\n",
    "&nbsp;&nbsp;&nbsp;&nbsp;&nbsp;&nbsp;&nbsp;&nbsp;&nbsp;&nbsp;&nbsp;&nbsp;&nbsp;&nbsp;Given an array of integers &nbsp;<code style=\"background-color: yellow\">nums</code>&nbsp;, calculate the **pivot index** of this array.\n",
    "\n",
    "&nbsp;&nbsp;&nbsp;&nbsp;&nbsp;&nbsp;&nbsp;&nbsp;&nbsp;&nbsp;&nbsp;&nbsp;&nbsp;&nbsp;The **pivot index** is the index where the sum of all the numbers **strictly** to the left of the index is equal to the sum of all the numbers **strictly** to the index's right.\n",
    "\n",
    "&nbsp;&nbsp;&nbsp;&nbsp;&nbsp;&nbsp;&nbsp;&nbsp;&nbsp;&nbsp;&nbsp;&nbsp;&nbsp;&nbsp;If the index is on the left edge of the array, then the left sum is &nbsp;<code style=\"background-color: yellow\">0</code>&nbsp; because there are no elements to the left. This also applies to the right edge of the array.\n",
    "\n",
    "&nbsp;&nbsp;&nbsp;&nbsp;&nbsp;&nbsp;&nbsp;&nbsp;&nbsp;&nbsp;&nbsp;&nbsp;&nbsp;&nbsp;Return the **leftmost pivot index**. If no such index exists, return &nbsp;<code style=\"background-color: yellow\">-1</code>&nbsp;.\n",
    "\n",
    "\n",
    "</div>\n",
    "\n",
    "<br>\n",
    "\n",
    "<span style=\"color: #FC02BB\"> <strong>SOLUTION</strong> "
   ]
  },
  {
   "cell_type": "code",
   "execution_count": 85,
   "id": "f852959a-7b79-49e5-b83d-ecfd81227f0e",
   "metadata": {},
   "outputs": [
    {
     "data": {
      "text/plain": [
       "3"
      ]
     },
     "execution_count": 85,
     "metadata": {},
     "output_type": "execute_result"
    }
   ],
   "source": [
    "\n",
    "def left_most_pivot_index(nums):\n",
    "    n = len(nums)\n",
    "    total_sum = sum(nums)\n",
    "    left_sum = 0\n",
    "    for i in range(0, n):\n",
    "        right_sum = total_sum - left_sum - nums[i]\n",
    "        if left_sum == right_sum:\n",
    "            return i     # ==========================> Return the index if left_sum equals right_sum\n",
    "        left_sum = left_sum + nums[i]\n",
    "    return -1    # ==================================> Return -1 if no pivot index is found\n",
    "\n",
    "\n",
    "nums = [1, 7, 3, 6, 5, 6]\n",
    "left_most_pivot_index(nums)\n",
    "            "
   ]
  },
  {
   "cell_type": "code",
   "execution_count": null,
   "id": "835e8ee3-8320-4a56-bda2-0628c675bc69",
   "metadata": {},
   "outputs": [],
   "source": []
  },
  {
   "cell_type": "markdown",
   "id": "b8569428-b2d6-4f7e-87a9-c651de7b5b3c",
   "metadata": {
    "jp-MarkdownHeadingCollapsed": true
   },
   "source": [
    "\n",
    "##### <span style=\"color: blue\">20  ===> Program to generate Pascal's Triangle\n"
   ]
  },
  {
   "cell_type": "markdown",
   "id": "52142c1d-4838-4b3e-b26a-a3935b90d1ba",
   "metadata": {},
   "source": [
    "<br>\n",
    "\n",
    "<span style=\"color: #DCBD10\">▬▬▬▬▬▬▬▬▬▬▬▬▬▬▬▬▬▬▬▬▬▬▬▬▬▬▬▬▬▬▬▬▬▬▬▬▬▬▬▬▬▬▬▬▬▬▬▬▬▬▬▬▬▬▬▬▬▬▬▬▬▬▬▬▬▬▬▬▬▬▬▬▬▬▬▬</span>\n",
    "\n",
    "<br>\n",
    "\n",
    "<div style=\"padding: 10px; background-color: #E2FFEC\">\n",
    "\n",
    "<u>**QUESTION - 20**</u> : <br>\n",
    "\n",
    "&nbsp;&nbsp;&nbsp;&nbsp;&nbsp;&nbsp;&nbsp;&nbsp;&nbsp;&nbsp;&nbsp;&nbsp;&nbsp;&nbsp;**Problem Statement:** This problem has 3 variations. They are stated below:\n",
    "\n",
    "&nbsp;&nbsp;&nbsp;&nbsp;&nbsp;&nbsp;&nbsp;&nbsp;&nbsp;&nbsp;&nbsp;&nbsp;&nbsp;&nbsp;**Variation 1:** Given row number r and column number c. Print the element at position (r, c) in Pascal’s triangle.\n",
    "\n",
    "&nbsp;&nbsp;&nbsp;&nbsp;&nbsp;&nbsp;&nbsp;&nbsp;&nbsp;&nbsp;&nbsp;&nbsp;&nbsp;&nbsp;**Variation 2:** Given the row number n. Print the n-th row of Pascal’s triangle.\n",
    "\n",
    "&nbsp;&nbsp;&nbsp;&nbsp;&nbsp;&nbsp;&nbsp;&nbsp;&nbsp;&nbsp;&nbsp;&nbsp;&nbsp;&nbsp;**Variation 3:** Given the number of rows n. Print the first n rows of Pascal’s triangle.\n",
    "\n",
    "\n",
    "</div>\n",
    "\n",
    "<br>\n",
    "\n",
    "<pre>\n",
    "\n",
    "                                        1                                             1\n",
    "                                    1       1                                         1      1\n",
    "                                1       2       1                                     1      2      1\n",
    "                            1       3       3       1                                 1      3      3      1\n",
    "                        1       4       6       4       1                             1      4      6      4      1\n",
    "                    1       5       10      10      5       1                         1      5      10     10     5      1\n",
    "\n",
    "    \n",
    "</pre>\n",
    "\n",
    "\n",
    "**Variation - 1** =====> <span style=\"color: #FC02BB\"> <strong>SOLUTION</strong> ===> The number at ith row and jth column is</span>&nbsp; <code style=\"background-color: yellow\"><sup>i -1</sup> C <sub>j -1</sub></code>  &nbsp;======> &nbsp;<code> Time complexity = O(column) </code>\n",
    "\n",
    "\n",
    "<pre>\n",
    "\n",
    "     <sup>n</sup>C<sub>r</sub>  = <span style=\"background-color: #D7FFFB\">(n - <span style=\"color: red;\">0</span>) * (n - <span style=\"color: red;\">1</span>) * (n - <span style=\"color: red;\">2</span>) * (n - <span style=\"color: red;\">3</span>) *  . .  . * ( n - <span style=\"color: red;\">(r - 1)</span> )</span> / <span style=\"background-color: #D7FFFB\">(r - <span style=\"color: red;\">0</span>) * (r - <span style=\"color: red;\">1</span>) * (r - <span style=\"color: red;\">2</span>) * (r - <span style=\"color: red;\">3</span>) * . .  . * <span style=\"color: red;\">1</span></span>\n",
    "\n",
    "  => <sup>n</sup>C<sub>r</sub>  =  <code style=\"background-color: #D7FFFB\">(n - <span style=\"color: red; background-color: #D7FFFB\">0</span>) / (r - <span style=\"color: red; background-color: #D7FFFB\">0</span>)</code>  *  <code style=\"background-color: #D7FFFB\">(n - <span style=\"color: red; background-color: #D7FFFB\">1</span>) / (r - <span style=\"color: red; background-color: #D7FFFB\">1</span>)</code>  *  <code style=\"background-color: #D7FFFB\">(n - <span style=\"color: red; background-color: #D7FFFB\">2</span>) / (r - <span style=\"color: red; background-color: #D7FFFB\">2</span>)</code>  * . . . . . . . . . <code style=\"background-color: #D7FFFB\">( n - <span style=\"color: red; background-color: #D7FFFB\">(r - 1)</span> ) / ( r - <span style=\"color: red; background-color: #D7FFFB\">(r - 1)</span> )</code>\n",
    "    \n",
    "</pre>\n",
    "\n"
   ]
  },
  {
   "cell_type": "code",
   "execution_count": 18,
   "id": "88744ba0-eb4b-4ecd-8a57-41f47e4e1c46",
   "metadata": {},
   "outputs": [
    {
     "data": {
      "text/plain": [
       "6"
      ]
     },
     "execution_count": 18,
     "metadata": {},
     "output_type": "execute_result"
    }
   ],
   "source": [
    "\n",
    "def find_number_in_pascal_triangle(row, column):\n",
    "    n = row - 1\n",
    "    r = column - 1\n",
    "    answer = 1\n",
    "    for i in range(0, r, 1):   # to find nCr ========================================> Time complexity = O(column)\n",
    "        answer = answer * (n - i)\n",
    "        answer = answer / (r - i)   # answer = answer / (i + 1)\n",
    "    return int(answer)\n",
    "\n",
    "\n",
    "find_number_in_pascal_triangle(5, 3)   # to find number at 5th row and 3rd column\n"
   ]
  },
  {
   "cell_type": "code",
   "execution_count": 31,
   "id": "b8c4c945-66e8-4f95-b135-1ca3c66d45b2",
   "metadata": {},
   "outputs": [
    {
     "data": {
      "text/plain": [
       "1"
      ]
     },
     "execution_count": 31,
     "metadata": {},
     "output_type": "execute_result"
    }
   ],
   "source": [
    "\n",
    "find_number_in_pascal_triangle(2, 2)   # to find number at 2nd row and 2nd column\n"
   ]
  },
  {
   "cell_type": "code",
   "execution_count": null,
   "id": "c76faae4-93c3-456b-b300-46ccd9b591e9",
   "metadata": {},
   "outputs": [],
   "source": []
  },
  {
   "cell_type": "markdown",
   "id": "940c379b-88ef-4f1c-8140-d78c3934a797",
   "metadata": {},
   "source": [
    "\n",
    "<span style=\"color: black\"> <strong>Variation - 2</strong></span>\n",
    "\n",
    "<font size=\"+2\"><span style=\"color: #FC02BB\">↳</span></font>&nbsp;<span style=\"color: #FC02BB\"> <strong>SOLUTION - 1</strong> ====> Brute Force </span>  ======> <code> Time complexity = O(row * column) </code>\n",
    "\n"
   ]
  },
  {
   "cell_type": "code",
   "execution_count": 19,
   "id": "8cc536c5-614a-496c-8fcb-4844e51ac799",
   "metadata": {},
   "outputs": [
    {
     "name": "stdout",
     "output_type": "stream",
     "text": [
      "1    4    6    4    1    "
     ]
    }
   ],
   "source": [
    "\n",
    "def find_number_in_pascal_triangle(row, column):\n",
    "    n = row - 1\n",
    "    r = column - 1\n",
    "    answer = 1\n",
    "    for i in range(0, r, 1):   # to find nCr  ========================================> Time complexity = O(column)\n",
    "        answer = answer * (n - i)\n",
    "        answer = answer / (r - i)   # answer = answer / (i + 1)\n",
    "    return int(answer)\n",
    "\n",
    "\n",
    "def find_row_of_pascal_triangle(row):\n",
    "    for column in range(1, row + 1, 1):  # ========================================> Time complexity = O(row * column)\n",
    "        print(find_number_in_pascal_triangle(row, column), end = \"    \")\n",
    "        \n",
    "\n",
    "find_row_of_pascal_triangle(5)\n"
   ]
  },
  {
   "cell_type": "code",
   "execution_count": 39,
   "id": "6850cbf1-6122-4046-bcee-56cbc781afa0",
   "metadata": {},
   "outputs": [
    {
     "name": "stdout",
     "output_type": "stream",
     "text": [
      "1    5    10    10    5    1    "
     ]
    }
   ],
   "source": [
    "\n",
    "find_row_of_pascal_triangle(6)\n"
   ]
  },
  {
   "cell_type": "markdown",
   "id": "b274cfc7-2c1d-45de-8501-1ee6501e63d4",
   "metadata": {},
   "source": [
    "<br>\n",
    "\n",
    "<font size=\"+2\"><span style=\"color: #FC02BB\">↳</span></font>&nbsp;<span style=\"color: #FC02BB\"> <strong>SOLUTION - 2</strong></span>  ====> <span style = \"background-color: yellow\">&nbsp;using **previous calculations** &nbsp;</span>  ======> <code> Time complexity = O(row) </code>\n",
    "\n",
    "<pre>\n",
    "\n",
    "        1  ====================================================> Total number of columns in row 1 = 1\n",
    "        1      1  =============================================> Total number of columns in row 2 = 2\n",
    "        1      2      1  ======================================> Total number of columns in row 3 = 3\n",
    "        1      3      3      1  ===============================> Total number of columns in row 4 = 4\n",
    "        1      4      6      4      1  ========================> Total number of columns in row 5 = 5\n",
    "        1      5      10     10     5      1  =================> Total number of columns in row 6 = 6\n",
    "\n",
    "        <span style = \"background-color: #FFDCF9\"> Total number of columns in nth row of a pascal triangle = <span style=\"background-color: yellow\"> n </span> </span>\n",
    "\n",
    "        <span style = \"background-color: #FFDCF9\"> Excluding both the ends, every row has <span style=\"background-color: yellow\"> n - 2 </span> number of columns </span>\n",
    "\n",
    "        <span style = \"background-color: #FFDCF9\"> The numbers at both ends are always <span style=\"background-color: yellow\"> 1 </span> for every row </span>\n",
    "\n",
    "    \n",
    "1st row  ====>  <code style=\"background-color: #D7FFFB\"> <sup>0</sup>C<sub>0</sub> </code>\n",
    "2nd row  ====>  <code style=\"background-color: #D7FFFB\"> <sup>1</sup>C<sub>0</sub>             <sup>1</sup>C<sub>1</sub> </code>\n",
    "3rd row  ====>  <code style=\"background-color: #D7FFFB\"> <sup>2</sup>C<sub>0</sub>             <sup>2</sup>C<sub>1</sub>             <sup>2</sup>C<sub>2</sub> </code>\n",
    "4th row  ====>  <code style=\"background-color: #D7FFFB\"> <sup>3</sup>C<sub>0</sub>             <sup>3</sup>C<sub>1</sub>             <sup>3</sup>C<sub>2</sub>                <sup>3</sup>C<sub>3</sub> </code>\n",
    "5th row  ====>  <code style=\"background-color: #D7FFFB\"> <sup>4</sup>C<sub>0</sub>             <sup>4</sup>C<sub>1</sub>             <sup>4</sup>C<sub>2</sub>                <sup>4</sup>C<sub>3</sub>                       <sup>4</sup>C<sub>4</sub> </code>\n",
    "<span style=\"color: blue\"><strong>6</strong></span>th row  ====>  <code style=\"background-color: #D7FFFB\"> <sup>5</sup>C<sub>0</sub>             <sup>5</sup>C<sub><span style=\"color: red\"><strong>1</strong></span></sub>             <sup>5</sup>C<sub><span style=\"color: red\"><strong>2</strong></span></sub>                <sup>5</sup>C<sub><span style=\"color: red\"><strong>3</strong></span></sub>                       <sup>5</sup>C<sub><span style=\"color: red\"><strong>4</strong></span></sub>                    <sup>5</sup>C<sub>5</sub> </code>\n",
    "                 <font size=\"+2\">↓</font>              <font size=\"+2\">↓</font>              <font size=\"+2\">↓</font>                 <font size=\"+2\">↓</font>                        <font size=\"+2\">↓</font>                     <font size=\"+2\">↓</font>\n",
    "                 1              <code style=\"background-color: #FCDFFB\">5/1</code>          5/1 * <code style=\"background-color: #FCDFFB\">4/2</code>       5/1 * 4/2 * <code style=\"background-color: #FCDFFB\">3/3</code>       5/1 * 4/2 * 3/3 * <code style=\"background-color: #FCDFFB\">2/4</code>            1\n",
    "                                 <span style=\"color: #02E120\"><font size=\"+2\">↓</font></span>                 <span style=\"color: #02E120\"><font size=\"+2\">↓</font></span>                    <span style=\"color: #02E120\"><font size=\"+2\">↓</font></span>                          <span style=\"color: #02E120\"><font size=\"+2\">↓</font></span>\n",
    "                            (<span style=\"color: blue\"><strong>6</strong></span> - <span style=\"color: red\"><strong>1</strong></span>) / <span style=\"color: red\"><strong>1</strong></span>        (<span style=\"color: blue\"><strong>6</strong></span> - <span style=\"color: red\"><strong>2</strong></span>) / <span style=\"color: red\"><strong>2</strong></span>           (<span style=\"color: blue\"><strong>6</strong></span> - <span style=\"color: red\"><strong>3</strong></span>) / <span style=\"color: red\"><strong>3</strong></span>                 (<span style=\"color: blue\"><strong>6</strong></span> - <span style=\"color: red\"><strong>4</strong></span>) / <span style=\"color: red\"><strong>4</strong></span>\n",
    "\n",
    "\n",
    "    <span style = \"background-color: #FFDCF9\"> So the trick here is instead of calculating &nbsp;<strong><sup>n</sup>C<sub>r</sub></strong>&nbsp; every time,why not use the <strong>previous calculations</strong> </span>\n",
    "\n",
    "</pre>\n"
   ]
  },
  {
   "cell_type": "code",
   "execution_count": 45,
   "id": "5b6c5e9c-bb54-491b-a456-1629cc9bf761",
   "metadata": {},
   "outputs": [
    {
     "name": "stdout",
     "output_type": "stream",
     "text": [
      "1\n",
      "5\n",
      "10\n",
      "10\n",
      "5\n",
      "1\n"
     ]
    }
   ],
   "source": [
    "\n",
    "def find_row_of_pascal_triangle(row):\n",
    "    print(1)\n",
    "    answer = 1\n",
    "    for i in range(1, row - 2 + 1, 1):\n",
    "        answer = answer * (row - i)\n",
    "        answer = answer / i\n",
    "        print(int(answer))\n",
    "    print(1)\n",
    "\n",
    "\n",
    "find_row_of_pascal_triangle(6)\n"
   ]
  },
  {
   "cell_type": "code",
   "execution_count": 47,
   "id": "7d598d07-b4ca-4e0e-a6b0-4936b117b57f",
   "metadata": {},
   "outputs": [
    {
     "name": "stdout",
     "output_type": "stream",
     "text": [
      "1    5    10    10    5    1    "
     ]
    }
   ],
   "source": [
    "\n",
    "def find_row_of_pascal_triangle(row):\n",
    "    print(1, end= \"    \")\n",
    "    answer = 1\n",
    "    for i in range(1, row - 2 + 1, 1):\n",
    "        answer = answer * (row - i)\n",
    "        answer = answer / i\n",
    "        print(int(answer), end= \"    \")\n",
    "    print(1, end= \"    \")\n",
    "\n",
    "\n",
    "find_row_of_pascal_triangle(6)\n"
   ]
  },
  {
   "cell_type": "code",
   "execution_count": 48,
   "id": "5dc47b89-2309-405d-9063-dfbfeea3a2fa",
   "metadata": {},
   "outputs": [
    {
     "name": "stdout",
     "output_type": "stream",
     "text": [
      "1    1    "
     ]
    }
   ],
   "source": [
    "find_row_of_pascal_triangle(1)"
   ]
  },
  {
   "cell_type": "code",
   "execution_count": null,
   "id": "8e0159e3-9396-412a-bc8a-6d148d7c9e15",
   "metadata": {},
   "outputs": [],
   "source": []
  },
  {
   "cell_type": "markdown",
   "id": "c76ced14-a57a-44af-9876-7e72eb5e9175",
   "metadata": {},
   "source": [
    "\n",
    "<span style=\"color: black\"> <strong>Variation - 3</strong></span> &nbsp;=====> <span style=\"color: #FC02BB\"> <strong>SOLUTION</strong></span>  ====> using **previous calculations** &nbsp;  ======> <code> Time complexity = O(row) </code>\n"
   ]
  },
  {
   "cell_type": "code",
   "execution_count": 59,
   "id": "bbb88e91-6a7c-48e5-944e-9acfb9b27e43",
   "metadata": {},
   "outputs": [
    {
     "data": {
      "text/plain": [
       "[1, [1, 1], [1, 2, 1], [1, 3, 3, 1], [1, 4, 6, 4, 1], [1, 5, 10, 10, 5, 1]]"
      ]
     },
     "execution_count": 59,
     "metadata": {},
     "output_type": "execute_result"
    }
   ],
   "source": [
    "\n",
    "def make_pascal_triangle(rows):\n",
    "    pascal = []\n",
    "    for row in range(1, rows+1):\n",
    "        if row == 1:\n",
    "            pascal = [1]\n",
    "        else:\n",
    "            row_nums = []\n",
    "            row_nums.append(1)\n",
    "            answer = 1\n",
    "            for i in range(1, row - 2 + 1, 1):\n",
    "                answer = answer * (row - i)\n",
    "                answer = answer / i\n",
    "                row_nums.append(int(answer))\n",
    "            row_nums.append(1)\n",
    "            pascal.append(row_nums)\n",
    "    return pascal\n",
    "    \n",
    "\n",
    "make_pascal_triangle(6)  \n"
   ]
  },
  {
   "cell_type": "code",
   "execution_count": null,
   "id": "59269991-3912-4c61-9db2-1015f27b7195",
   "metadata": {},
   "outputs": [],
   "source": []
  },
  {
   "cell_type": "markdown",
   "id": "da4bffad-7370-4fa4-b270-dc3de7e6f377",
   "metadata": {
    "jp-MarkdownHeadingCollapsed": true
   },
   "source": [
    "\n",
    "##### <span style=\"color: blue\">21  ===> Grid Unique Paths | Count paths from left-top to the right bottom of a matrix\n"
   ]
  },
  {
   "cell_type": "markdown",
   "id": "3acfdd07-e5ef-4e68-81f5-cfc9a8650759",
   "metadata": {},
   "source": [
    "\n",
    "<br>\n",
    "\n",
    "<span style=\"color: #DCBD10\">▬▬▬▬▬▬▬▬▬▬▬▬▬▬▬▬▬▬▬▬▬▬▬▬▬▬▬▬▬▬▬▬▬▬▬▬▬▬▬▬▬▬▬▬▬▬▬▬▬▬▬▬▬▬▬▬▬▬▬▬▬▬▬▬▬▬▬▬▬▬▬▬▬▬▬▬</span>\n",
    "\n",
    "<br>\n",
    "\n",
    "<div style=\"padding: 20px; background-color: #E2FFEC\">\n",
    "\n",
    "<u>**QUESTION - 21**</u> : <br>\n",
    "\n",
    "Given a matrix <strong>m X n</strong>, count paths from left-top to the right bottom of a matrix with the constraints that from each cell you can either only move to the rightward direction or the downward direction.\n",
    "\n",
    "<br>\n",
    "\n",
    "<div style=\"display: flex; margin-left: 100px;\">\n",
    "    <div style=\"width: 80px; height: 80px; border: 1px solid blue; background-color: white;\">\n",
    "        <br>&nbsp;&nbsp;&nbsp;&nbsp;&nbsp;&nbsp;<font size=\"+1\">(0,0) <br>&nbsp;&nbsp;&nbsp;&nbsp;<font size=\"+1\"><strong>start</strong></font> <br> </font>\n",
    "    </div>\n",
    "    <div style=\"width: 80px; height: 80px; border: 1px solid blue; background-color: blue; color: white\"><br>&nbsp;&nbsp;&nbsp;&nbsp;&nbsp;&nbsp;<font size=\"+1\">(0,1)</div>\n",
    "    <div style=\"width: 80px; height: 80px; border: 1px solid blue; background-color: white;\"><br>&nbsp;&nbsp;&nbsp;&nbsp;&nbsp;&nbsp;<font size=\"+1\">(0,2)</div>\n",
    "    <div style=\"width: 80px; height: 80px; border: 1px solid blue; background-color: blue; color: white\"><br>&nbsp;&nbsp;&nbsp;&nbsp;&nbsp;&nbsp;<font size=\"+1\">(0,3)</div>\n",
    "    <div style=\"width: 80px; height: 80px; border: 1px solid blue; background-color: white;\"></div>\n",
    "    <div style=\"width: 80px; height: 80px; border: 1px solid blue; background-color: blue; color: white\"><br>&nbsp;&nbsp;&nbsp;&nbsp;&nbsp;&nbsp;<font size=\"+1\">(0,n)</div>\n",
    "</div>\n",
    "<div style=\"display: flex; margin-left: 100px;\">\n",
    "    <div style=\"width: 80px; height: 80px; border: 1px solid blue; background-color: blue; color: white\"><br>&nbsp;&nbsp;&nbsp;&nbsp;&nbsp;&nbsp;<font size=\"+1\">(1,0)</div>\n",
    "    <div style=\"width: 80px; height: 80px; border: 1px solid blue; background-color: white;\"><br>&nbsp;&nbsp;&nbsp;&nbsp;&nbsp;&nbsp;<font size=\"+1\">(1,1)</div>\n",
    "    <div style=\"width: 80px; height: 80px; border: 1px solid blue; background-color: blue; color: white\"><br>&nbsp;&nbsp;&nbsp;&nbsp;&nbsp;&nbsp;<font size=\"+1\">(1,2)</div>\n",
    "    <div style=\"width: 80px; height: 80px; border: 1px solid blue; background-color: white;\"><br>&nbsp;&nbsp;&nbsp;&nbsp;&nbsp;&nbsp;<font size=\"+1\">(1,3)</div>\n",
    "    <div style=\"width: 80px; height: 80px; border: 1px solid blue; background-color: blue; color: white\"></div>\n",
    "    <div style=\"width: 80px; height: 80px; border: 1px solid blue; background-color: white;\"><br>&nbsp;&nbsp;&nbsp;&nbsp;&nbsp;&nbsp;<font size=\"+1\">(1,n)</div>\n",
    "</div>\n",
    "<div style=\"display: flex; margin-left: 100px;\">\n",
    "    <div style=\"width: 80px; height: 80px; border: 1px solid blue; background-color: white;\"></div>\n",
    "    <div style=\"width: 80px; height: 80px; border: 1px solid blue; background-color: blue; color: white\"></div>\n",
    "    <div style=\"width: 80px; height: 80px; border: 1px solid blue; background-color: white;\"></div>\n",
    "    <div style=\"width: 80px; height: 80px; border: 1px solid blue; background-color: blue; color: white\"></div>\n",
    "    <div style=\"width: 80px; height: 80px; border: 1px solid blue; background-color: white;\"></div>\n",
    "    <div style=\"width: 80px; height: 80px; border: 1px solid blue; background-color: blue; color: white\"></div>\n",
    "</div>\n",
    "<div style=\"display: flex; margin-left: 100px;\">\n",
    "    <div style=\"width: 80px; height: 80px; border: 1px solid blue; background-color: blue; color: white\"><br>&nbsp;&nbsp;&nbsp;&nbsp;&nbsp;&nbsp;<font size=\"+1\">(m,0)</div>\n",
    "    <div style=\"width: 80px; height: 80px; border: 1px solid blue; background-color: white;\"><br>&nbsp;&nbsp;&nbsp;&nbsp;&nbsp;&nbsp;<font size=\"+1\">(m,1)</div>\n",
    "    <div style=\"width: 80px; height: 80px; border: 1px solid blue; background-color: blue; color: white\"><br>&nbsp;&nbsp;&nbsp;&nbsp;&nbsp;&nbsp;<font size=\"+1\">(m,2)</div>\n",
    "    <div style=\"width: 80px; height: 80px; border: 1px solid blue; background-color: white;\"><br>&nbsp;&nbsp;&nbsp;&nbsp;&nbsp;&nbsp;<font size=\"+1\">(m,3)</div>\n",
    "    <div style=\"width: 80px; height: 80px; border: 1px solid blue; background-color: blue; color: white\"></div>\n",
    "    <div style=\"width: 80px; height: 80px; border: 1px solid blue; background-color: white;\">\n",
    "        <br>&nbsp;&nbsp;&nbsp;&nbsp;&nbsp;&nbsp;<font size=\"+1\">(m,n) <br>&nbsp;&nbsp;&nbsp;&nbsp;&nbsp;<font size=\"+1\"><strong>end</strong></font> <br> </font>\n",
    "    </div>\n",
    "</div>\n",
    "\n",
    "<br>\n",
    "<br>\n",
    "\n",
    "<pre>\n",
    "    \n",
    "    <u><strong><code>Example - 1</code></strong></u>\n",
    "    \n",
    "    <strong>Input Format:</strong> m = 2, n = 2  ====> <code style=\"color: red\"> Target = (0,0) ⟶ (1,1) </code>\n",
    "    <strong>Output:</strong> <code style=\"background-color: yellow\"> 2 </code>\n",
    "\n",
    "    <strong>Explanation:</strong>  From the top left corner there is a total of <strong>2</strong> ways to reach the bottom right corner.\n",
    "    \n",
    "                  <code style=\"background-color: yellow\"> (0,0) ⟶ (0,1) ⟶ (1,1) </code> ====> <strong><code style=\"color: blue\">Right Down</code></strong>\n",
    "\n",
    "                  <code style=\"background-color: yellow\"> (0,0) ⟶ (1,0) ⟶ (1,1) </code> ====> <strong><code style=\"color: blue\">Down Right</code></strong>\n",
    "    \n",
    "</pre>\n",
    "\n",
    "<br>\n",
    "<br>\n",
    "\n",
    "<pre>\n",
    "    \n",
    "    <u><strong><code>Example - 2</code></strong></u>\n",
    "    \n",
    "    <strong>Input Format:</strong> m = 2, n = 3  ====> <code style=\"color: red\"> Target = (0,0) ⟶ (1,2) </code>\n",
    "    <strong>Output:</strong> <code style=\"background-color: yellow\"> 3 </code>\n",
    "\n",
    "    <strong>Explanation:</strong>  From the top left corner there is a total of <strong>3</strong> ways to reach the bottom right corner.\n",
    "    \n",
    "                  <code style=\"background-color: yellow\"> (0,0) ⟶ (0,1) ⟶ (0,2) ⟶ (1,2) </code> ====> <strong><code style=\"color: blue\">Right Right Down</code></strong>\n",
    "\n",
    "                  <code style=\"background-color: yellow\"> (0,0) ⟶ (0,1) ⟶ (1,1) ⟶ (1,2) </code> ====> <strong><code style=\"color: blue\">Right Down Right</code></strong>\n",
    "\n",
    "                  <code style=\"background-color: yellow\"> (0,0) ⟶ (1,0) ⟶ (1,1) ⟶ (1,2) </code> ====> <strong><code style=\"color: blue\">Down Right Right</code></strong>\n",
    "    \n",
    "</pre>\n",
    "\n",
    "<br>\n",
    "\n",
    "</div>\n",
    "\n",
    "<br>\n",
    "\n",
    "<span style=\"color: #FC02BB\"> <strong>SOLUTION</strong> \n",
    "\n",
    "\n",
    "<pre>\n",
    "\n",
    "        <code style=\"color: red; background-color: white\"> Target = (0,0) ⟶ (m, n) </code> ====> <strong><code><code style=\"color: red\">(m-1)</code><code style=\"color: blue\">Downs</code></code> & <code><code style=\"color: red\">(n-1)</code><code style=\"color: blue\">Rights</code></code></strong>\n",
    "\n",
    "         Total number of moves = (m - 1) + (n - 1) = <span style=\"background-color: yellow\"> m + n - 2 </span>\n",
    "\n",
    "         <code style=\"background-color: #E3FFFF\"> ___  ___  ___  ___  ___ . . . . . (m + n - 2) times </code>\n",
    "    \n",
    "                    <font size=\"+1\">↳ ⭐</font> We can either choose (m -1) places from (m + n - 2) places to put <span style=\"color: blue\"><strong>D</strong></span> on them  ===>  <span style=\"background-color: yellow\"> <sup>m + n - 2</sup> C <sub>m -1</sub> </span>\n",
    "\n",
    "                    <font size=\"+1\">↳ ⭐</font> or choose (n -1) places from (m + n - 2) places to put <span style=\"color: blue\"><strong>R</strong></span> on them  ===>  <span style=\"background-color: yellow\"> <sup>m + n - 2</sup> C <sub>n -1</sub> </span>\n",
    "\n",
    "</pre>"
   ]
  },
  {
   "cell_type": "code",
   "execution_count": 25,
   "id": "855bef70-7bb1-40f7-96ff-bc2f608e1e66",
   "metadata": {},
   "outputs": [
    {
     "data": {
      "text/plain": [
       "3"
      ]
     },
     "execution_count": 25,
     "metadata": {},
     "output_type": "execute_result"
    }
   ],
   "source": [
    "\n",
    "def count_grid_unique_paths(m, n):\n",
    "    # m ===> rows, n ===> columns\n",
    "    n = m + n - 2\n",
    "    if m > n:\n",
    "        r = n -1\n",
    "    else:\n",
    "        r = m - 1\n",
    "    answer = 1\n",
    "    for i in range(0, r, 1):   # to find nCr ========================================> Time complexity = O(column)\n",
    "        answer = answer * (n - i)\n",
    "        answer = answer / (r - i)   # answer = answer / (i + 1)\n",
    "    return int(answer)\n",
    "\n",
    "\n",
    "count_grid_unique_paths(2, 3)\n"
   ]
  },
  {
   "cell_type": "code",
   "execution_count": 26,
   "id": "1c1ee30c-d3fd-433d-bbab-4d1acf403e16",
   "metadata": {},
   "outputs": [
    {
     "data": {
      "text/plain": [
       "2"
      ]
     },
     "execution_count": 26,
     "metadata": {},
     "output_type": "execute_result"
    }
   ],
   "source": [
    "\n",
    "count_grid_unique_paths(2, 2)\n"
   ]
  },
  {
   "cell_type": "code",
   "execution_count": null,
   "id": "cd56bfa4-ab30-45ff-8fb3-df00df9baaa7",
   "metadata": {},
   "outputs": [],
   "source": []
  },
  {
   "cell_type": "markdown",
   "id": "ef84af4a-b57c-4b3c-a3ea-06c8c6cb70ae",
   "metadata": {
    "jp-MarkdownHeadingCollapsed": true
   },
   "source": [
    "\n",
    "##### <span style=\"color: blue\">22  ===> Kadane's Algorithm : Maximum Subarray Sum in an Array\n"
   ]
  },
  {
   "cell_type": "markdown",
   "id": "0be0a51f-015e-4848-a59f-499b9ebb5331",
   "metadata": {},
   "source": [
    "<br>\n",
    "\n",
    "<span style=\"color: #DCBD10\">▬▬▬▬▬▬▬▬▬▬▬▬▬▬▬▬▬▬▬▬▬▬▬▬▬▬▬▬▬▬▬▬▬▬▬▬▬▬▬▬▬▬▬▬▬▬▬▬▬▬▬▬▬▬▬▬▬▬▬▬▬▬▬▬▬▬▬▬▬▬▬▬▬▬▬▬</span>\n",
    "\n",
    "<br>\n",
    "\n",
    "<div style=\"padding: 10px; background-color: #E2FFEC\">\n",
    "\n",
    "<u>**QUESTION - 22**</u> : <br>\n",
    "\n",
    "Given an integer array **arr**, find the **contiguous subarray (containing at least one number) which has the largest sum** and returns its sum and prints the subarray.\n",
    "\n",
    "<pre style=\"margin: 10px; padding: 10px\">\n",
    "\n",
    "<u><strong><code>Example - 1</code></strong></u>\n",
    "    \n",
    "<strong>Input:</strong> arr = [-2, 1, -3, 4, -1, 2, 1, -5, 4] \n",
    "\n",
    "<strong>Output:</strong> 6 \n",
    "\n",
    "<strong>Explanation:</strong> [4, -1, 2, 1] has the largest sum = 6. \n",
    "    \n",
    "</pre>\n",
    "\n",
    "<br>\n",
    "\n",
    "<pre style=\"margin: 10px; padding: 10px\">\n",
    "\n",
    "<u><strong><code>Example - 2</code></strong></u>\n",
    "    \n",
    "<strong>Input:</strong> arr = [1]\n",
    "\n",
    "<strong>Output:</strong> 1\n",
    "\n",
    "<strong>Explanation:</strong> Array has only one element and which is giving positive sum of 1. \n",
    "    \n",
    "</pre>\n",
    "\n",
    "<br>\n",
    "\n",
    "</div>\n",
    "\n",
    "<br>\n",
    "\n",
    "<span style=\"color: #FC02BB\"> <strong>SOLUTION - 1</strong> ====> Brute Force </span>"
   ]
  },
  {
   "cell_type": "code",
   "execution_count": 5,
   "id": "a97da6cc-7b9e-42e2-b254-d3de167e5118",
   "metadata": {},
   "outputs": [
    {
     "name": "stdout",
     "output_type": "stream",
     "text": [
      "sum = 7\n",
      "start index = 2\n",
      "end index = 5\n"
     ]
    }
   ],
   "source": [
    "\n",
    "def find_subarray_with_max_sum(arr):\n",
    "    n = len(arr)\n",
    "    max_sum = float('-inf')\n",
    "    stat = 0\n",
    "    end = 0\n",
    "    for i in range(0, n):\n",
    "        sum = arr[i]\n",
    "        for j in range(i+1, n):\n",
    "            sum = sum + arr[j]\n",
    "            if max_sum < sum:\n",
    "                max_sum = sum\n",
    "                start = i\n",
    "                end = j\n",
    "    return (max_sum, start, end)\n",
    "            \n",
    "            \n",
    "arr = [-3, -2, 4, -2, 3, 2, -1, 1]\n",
    "print(\"sum =\", find_subarray_with_max_sum(arr)[0]) \n",
    "\n",
    "print(\"start index =\", find_subarray_with_max_sum(arr)[1]) \n",
    "\n",
    "print(\"end index =\", find_subarray_with_max_sum(arr)[2]) \n"
   ]
  },
  {
   "cell_type": "markdown",
   "id": "3003b0b1-9e66-4591-8101-334cb369b305",
   "metadata": {},
   "source": [
    "<br>\n",
    "\n",
    "<span style=\"color: #FC02BB\"> <strong>SOLUTION - 2</strong> </span>  ====> <span style=\"background-color: yellow\">&nbsp;&nbsp;Kadane's Algorithm&nbsp;&nbsp;</span>\n",
    "\n",
    "**Logic**\n",
    "\n",
    "<pre><font size=\"+0\">for <span style=\"color: blue\">i</span> in range(0, n):<br>\n",
    "       <span style=\"background-color: #C7FF99\">sum = arr[0]</span>\n",
    "       <span style=\"background-color: #FACEFF\">temp_sum = 0</span>\n",
    "</font></pre>\n",
    "\n",
    "<div style=\"display: flex; margin-left: 100px;\">\n",
    "    <div style=\"width: 350px; height: 60px; border-right: 1px solid blue; border-top: 1px solid blue; border-bottom: 1px solid blue; background-color: #FACEFF\">&nbsp;&nbsp;&nbsp;&nbsp;&nbsp;&nbsp;&nbsp;&nbsp;&nbsp;&nbsp;&nbsp;&nbsp;&nbsp;&nbsp;&nbsp;&nbsp;&nbsp;&nbsp;&nbsp;&nbsp;&nbsp;&nbsp;&nbsp;&nbsp;&nbsp;&nbsp;&nbsp;&nbsp;&nbsp;&nbsp;&nbsp;&nbsp;&nbsp;&nbsp;&nbsp;&nbsp;&nbsp;<font size=\"+1\">temp_sum</font><br> &nbsp;&nbsp;&nbsp;&nbsp;&nbsp;&nbsp;&nbsp;&nbsp;&nbsp;&nbsp;&nbsp;&nbsp;&nbsp;&nbsp;&nbsp;&nbsp;&nbsp;&nbsp;&nbsp;&nbsp;&nbsp;&nbsp;temp_sum = temp_sum + arr[i]</div>\n",
    "    <div style=\"width: 60px; height: 60px; border: 1px solid blue;\">&nbsp;&nbsp;&nbsp;&nbsp;next &nbsp;element</font></div>\n",
    "    <div style=\"width: 60px; height: 60px; border: 1px solid blue;\"></div>\n",
    "    <div style=\"width: 60px; height: 60px; border: 1px solid blue;\"></div>\n",
    "    <div style=\"width: 60px; height: 60px; border: 1px solid blue;\"></div>\n",
    "    <div style=\"width: 60px; height: 60px; border: 1px solid blue;\"></div>\n",
    "</div>\n",
    "\n",
    "<pre><font size=\"+0\">       It does not matter if the <code>next element</code> is <code style=\"background-color: white; color: red\"> > < =</code> 0, just keep incrementing <span style=\"color: blue\">i</span> <br><br>       and compare the <span style=\"background-color: #C7FF99\">sum</span></font> (variable to hold <span style=\"background-color: #C7FF99\">maximum sum</span> of all the sub-arrays considerd till now) <br><br><font size=\"+0\">       with the <span style=\"background-color: #FACEFF\">temp_sum</span></font> (variable to hold the <span style=\"background-color: #FACEFF\">sum of all the elements of the current subarray</span> iterated till now)\n",
    "\n",
    "<br>\n",
    "<br>\n",
    "\n",
    "<div style=\"position: relative; margin-left: -20px\">\n",
    "    <div style=\"position: absolute; top: -8px; left: 90px;\"><span style=\"color: black; background-color: #FACEFF\"><font size=\"+0\">temp_sum</font></span></div>\n",
    "    <div style=\"position: absolute; top:-50px; left: 180px;\"><span style=\"color: black\"><font size=\"+4\">⬀</font></span></div>\n",
    "    <div style=\"position: absolute; top: 0px; left: 180px;\"><span style=\"color: black\"><font size=\"+4\">⬂</font></span></div>\n",
    "    <div style=\"position: absolute; top: 50px; left: 216px;\"><span style=\"color: black\"><font size=\"+1\"><span style=\"color: red\"> <= 0 </span></font></span></div>\n",
    "    <div style=\"position: absolute; top: 47px; left: 280px;\"><span style=\"color: black\"><font size=\"+2\">⟹</font></span></div>\n",
    "    <div style=\"position: absolute; top: 35px; left: 290px;\"><span style=\"color: black\"><font size=\"+0\">    reset the <span style=\"background-color: #FACEFF\">temp_sum</span> to 0</font></span></div>\n",
    "    <div style=\"position: absolute; top: 65px; left: 290px;\"><span style=\"color: black\"><font size=\"+0\">    reset the start to the <span style=\"background-color: #EAEAEA\">next element</span> because the current subarray is discarded</font></span></div>\n",
    "    <div style=\"position: absolute; top: -60px; left: 216px;\"><span style=\"color: black\"><font size=\"+1\"><span style=\"color: red\"> > 0 </span></font></span> <font size=\"+2\">⟹</font></div>\n",
    "    <div style=\"position: absolute; top: -57px; left: 216px;\"><span style=\"color: black\"><font size=\"+0\">            Do Nothing. Continue as usual</font></span></div></div></pre>"
   ]
  },
  {
   "cell_type": "code",
   "execution_count": 1,
   "id": "dbfdafd6-b833-4414-938c-981d980f92d7",
   "metadata": {},
   "outputs": [
    {
     "data": {
      "text/plain": [
       "7"
      ]
     },
     "execution_count": 1,
     "metadata": {},
     "output_type": "execute_result"
    }
   ],
   "source": [
    "\n",
    "def find_subarray_with_max_sum(arr):\n",
    "    n = len(arr)\n",
    "    sum = arr[0]\n",
    "    temp_sum = 0\n",
    "    for i in range(0, n):\n",
    "        temp_sum = temp_sum + arr[i]\n",
    "        if temp_sum > sum:\n",
    "            sum = temp_sum\n",
    "        if temp_sum <= 0:\n",
    "            temp_sum = 0\n",
    "    return sum\n",
    "\n",
    "\n",
    "arr = [-3, -2, 4, -2, 3, 2, -1, 1]\n",
    "find_subarray_with_max_sum(arr)\n"
   ]
  },
  {
   "cell_type": "markdown",
   "id": "16d5afb2-167c-4519-9565-bd41bdbdb2c5",
   "metadata": {},
   "source": [
    "<font size=\"+1\">⭐</font>"
   ]
  },
  {
   "cell_type": "code",
   "execution_count": 3,
   "id": "ae088bf5-7ce6-4701-ba7d-4554e161c9f0",
   "metadata": {},
   "outputs": [
    {
     "name": "stdout",
     "output_type": "stream",
     "text": [
      "7\n",
      "[2, 5]\n"
     ]
    }
   ],
   "source": [
    "\n",
    "start_end = [0, 0]    # to hold the resultant sub-array\n",
    "\n",
    "def find_subarray_with_max_sum(arr):\n",
    "    global start_end\n",
    "    n = len(arr)\n",
    "    sum = arr[0]      # to hold the result i.e., max sum\n",
    "    temp_sum = 0\n",
    "    temp_start = 0\n",
    "    temp_end = 0\n",
    "    for i in range(0, n):\n",
    "        temp_sum = temp_sum + arr[i]\n",
    "        if temp_sum > sum:\n",
    "            sum = temp_sum\n",
    "            start_end[0] = temp_start\n",
    "            start_end[1] = i\n",
    "        if temp_sum <= 0:\n",
    "            temp_sum = 0\n",
    "            temp_start = temp_start + 1\n",
    "    return sum\n",
    "\n",
    "\n",
    "arr = [-3, -2, 4, -2, 3, 2, -1, 1]\n",
    "print(find_subarray_with_max_sum(arr))\n",
    "print(start_end)\n"
   ]
  },
  {
   "cell_type": "code",
   "execution_count": null,
   "id": "9efe5558-2f85-4402-a127-fbe73f944a70",
   "metadata": {},
   "outputs": [],
   "source": []
  },
  {
   "cell_type": "markdown",
   "id": "0391232c-66ba-412b-b9ea-bea1a22a048c",
   "metadata": {
    "jp-MarkdownHeadingCollapsed": true
   },
   "source": [
    "\n",
    "##### <span style=\"color: blue\">23  ===> K-diff Pairs in an Array\n"
   ]
  },
  {
   "cell_type": "markdown",
   "id": "903023f9-6639-48aa-a4db-694180000a33",
   "metadata": {},
   "source": [
    "<br>\n",
    "\n",
    "<span style=\"color: #DCBD10\">▬▬▬▬▬▬▬▬▬▬▬▬▬▬▬▬▬▬▬▬▬▬▬▬▬▬▬▬▬▬▬▬▬▬▬▬▬▬▬▬▬▬▬▬▬▬▬▬▬▬▬▬▬▬▬▬▬▬▬▬▬▬▬▬▬▬▬▬▬▬▬▬▬▬▬▬</span>\n",
    "\n",
    "<br>\n",
    "\n",
    "<div style=\"padding: 10px; background-color: #E2FFEC\">\n",
    "\n",
    "<u>**QUESTION - 23**</u> : \n",
    "\n",
    "Given an array of integers <code>nums</code> and an integer <code>k</code>, return the number of **unique** *k-diff pairs in the array*.\n",
    "\n",
    "A **k-diff** pair is an integer pair <code>(nums[i], nums[j])</code>, where the following are true:\n",
    "\n",
    "&nbsp;&nbsp;&nbsp;&nbsp;&nbsp;&nbsp;&nbsp;&nbsp;&nbsp;&nbsp;<font size=\"+1\">↳</font>&nbsp;&nbsp;&nbsp; <code>0 <= i, j < nums.length</code>\n",
    "\n",
    "&nbsp;&nbsp;&nbsp;&nbsp;&nbsp;&nbsp;&nbsp;&nbsp;&nbsp;&nbsp;<font size=\"+1\">↳</font>&nbsp;&nbsp;&nbsp; <code>i != j</code>\n",
    "\n",
    "&nbsp;&nbsp;&nbsp;&nbsp;&nbsp;&nbsp;&nbsp;&nbsp;&nbsp;&nbsp;<font size=\"+1\">↳</font>&nbsp;&nbsp;&nbsp; <code>|nums[i] - nums[j]| == k</code>\n",
    "\n",
    "**Notice** that <code>|val|</code> denotes the absolute value of <code>val</code>.\n",
    "\n",
    "</div>\n",
    "\n",
    "<br>\n",
    "\n",
    "<span style=\"color: #FC02BB\"> <strong>SOLUTION - 1</strong> </span> ===> <span style=\"color: red\">Brute Force</span>\n",
    "\n",
    "**Hint** - Find all possible pairs for each number in the given array."
   ]
  },
  {
   "cell_type": "code",
   "execution_count": 19,
   "id": "c5cf0346-6067-4d84-b627-13b7c7d664cf",
   "metadata": {},
   "outputs": [
    {
     "data": {
      "text/plain": [
       "{(1, 3), (3, 5)}"
      ]
     },
     "execution_count": 19,
     "metadata": {},
     "output_type": "execute_result"
    }
   ],
   "source": [
    "\n",
    "def find_k_diff_pairs(nums, target):\n",
    "    n = len(nums)\n",
    "    result_set = set()\n",
    "    for i in range(0, n):\n",
    "        for j in range(i+1, n):\n",
    "            if abs(nums[i] - nums[j]) == target:\n",
    "                duplet_list = sorted([nums[i], nums[j]])\n",
    "                duplet_tuple = tuple(duplet_list)\n",
    "                result_set.add(duplet_tuple)\n",
    "    return result_set\n",
    "\n",
    "\n",
    "nums = [3, 1, 4, 1, 5]\n",
    "target = 2\n",
    "find_k_diff_pairs(nums, target)\n"
   ]
  },
  {
   "cell_type": "code",
   "execution_count": 22,
   "id": "3ea25582-13d1-4202-b9c1-0e5e080c9dd5",
   "metadata": {},
   "outputs": [
    {
     "name": "stdout",
     "output_type": "stream",
     "text": [
      "{(1, 3), (3, 5)}\n"
     ]
    }
   ],
   "source": [
    "\n",
    "def find_k_diff_pairs(nums, target):\n",
    "    n = len(nums)\n",
    "    result_set = set()\n",
    "    for i in range(0, n):\n",
    "        for j in range(i+1, n):\n",
    "            if abs(nums[i] - nums[j]) == target:\n",
    "                result_set.add(tuple(sorted([nums[i], nums[j]])))\n",
    "    return result_set\n",
    "\n",
    "nums = [3, 1, 4, 1, 5]\n",
    "target = 2\n",
    "print(find_k_diff_pairs(nums, target))\n"
   ]
  },
  {
   "cell_type": "code",
   "execution_count": 23,
   "id": "34589b8c-a1d1-44cd-8ae9-6ef926b47953",
   "metadata": {},
   "outputs": [
    {
     "name": "stdout",
     "output_type": "stream",
     "text": [
      "{(2, 3), (4, 5), (1, 2), (3, 4)}\n"
     ]
    }
   ],
   "source": [
    "\n",
    "nums = [1,2,3,4,5]\n",
    "target = 1\n",
    "print(find_k_diff_pairs(nums, target))\n"
   ]
  },
  {
   "cell_type": "markdown",
   "id": "e7cef562-92cd-499a-b707-fcc4f7c4f8be",
   "metadata": {},
   "source": [
    "<br>\n",
    "\n",
    "<span style=\"color: #FC02BB\"> <strong>SOLUTION - 2</strong> </span> ===> <span style=\"color: red\">using Set</span> (No need of dictionary)\n",
    "\n",
    "<div style=\"padding: 10px; background-color: #FFF3FF\">\n",
    "\n",
    "1. &nbsp;&nbsp; Initialise an **empty set** (to temporarily store the elements and compare) and <br>\n",
    "&nbsp;&nbsp;&nbsp;&nbsp;&nbsp;&nbsp;&nbsp;&nbsp;&nbsp;&nbsp;&nbsp;&nbsp;&nbsp;&nbsp;&nbsp;&nbsp;&nbsp;an **empty set** (to store the duplets temporarirly and also ensure no 2 duplicates are same)   <br>\n",
    "&nbsp;&nbsp;&nbsp;&nbsp;&nbsp;&nbsp;&nbsp;&nbsp;&nbsp;&nbsp;&nbsp;&nbsp;&nbsp;&nbsp;&nbsp;&nbsp;&nbsp;an **empty list** (to store the final resut as list of lists)   <br>\n",
    "\n",
    "2. &nbsp;&nbsp; Iterate over the given array from begining to end    <br>\n",
    "\n",
    "3. &nbsp;&nbsp; For every element &nbsp;<code style=\"background-color: yellow\">&nbsp;X&nbsp;</code>&nbsp; in the array, check whether &nbsp;<code style=\"background-color: yellow\">&nbsp;(X + Target)&nbsp;</code> or <code style=\"background-color: yellow\">&nbsp;(X - Target)&nbsp;</code>&nbsp; is present in the set or not. <br>\n",
    "&nbsp;&nbsp;&nbsp;If present, then store the duplet &nbsp;<code style=\"background-color: yellow\">&nbsp;[X, X + Target]&nbsp;</code> or <code style=\"background-color: yellow\">&nbsp;[X, X - Target]&nbsp;</code>&nbsp; accordingly (respectively) as a list so that each duplet can be **first sorted and &nbsp;&nbsp;&nbsp;then added in the result set**\n",
    "\n",
    "</div>"
   ]
  },
  {
   "cell_type": "code",
   "execution_count": 24,
   "id": "a5b07a99-e59d-43c5-b233-5ba6c95b34e1",
   "metadata": {},
   "outputs": [
    {
     "name": "stdout",
     "output_type": "stream",
     "text": [
      "{(1, 3), (3, 5)}\n"
     ]
    }
   ],
   "source": [
    "\n",
    "def find_k_diff_pairs(nums, target):\n",
    "    n = len(nums)\n",
    "    result_set = set()\n",
    "    temp_set = set()\n",
    "    for i in range(0,n):\n",
    "        if nums[i] + target in temp_set:\n",
    "            result_set.add(tuple(sorted([nums[i], nums[i] + target])))\n",
    "        if nums[i] - target in temp_set:\n",
    "            result_set.add(tuple(sorted([nums[i], nums[i] - target])))\n",
    "        temp_set.add(nums[i])\n",
    "    return result_set\n",
    "\n",
    "\n",
    "nums = [3, 1, 4, 1, 5]\n",
    "target = 2\n",
    "print(find_k_diff_pairs(nums, target))            \n",
    "            "
   ]
  },
  {
   "cell_type": "code",
   "execution_count": 25,
   "id": "edef77ce-af74-4832-aa18-f864e6193055",
   "metadata": {},
   "outputs": [
    {
     "name": "stdout",
     "output_type": "stream",
     "text": [
      "{(2, 3), (4, 5), (1, 2), (3, 4)}\n"
     ]
    }
   ],
   "source": [
    "\n",
    "nums = [1,2,3,4,5]\n",
    "target = 1\n",
    "print(find_k_diff_pairs(nums, target))\n"
   ]
  },
  {
   "cell_type": "code",
   "execution_count": 26,
   "id": "0e3b4c80-943b-4fa5-b9f3-ad6a8747e17f",
   "metadata": {},
   "outputs": [
    {
     "name": "stdout",
     "output_type": "stream",
     "text": [
      "{(1, 3), (3, 5)}\n"
     ]
    }
   ],
   "source": [
    "\n",
    "def find_k_diff_pairs(nums, target):\n",
    "    n = len(nums)\n",
    "    result_set = set()\n",
    "    temp_set = set()\n",
    "    for x in nums:\n",
    "        if x + target in temp_set:\n",
    "            result_set.add(tuple(sorted([x, x + target])))\n",
    "        if x - target in temp_set:\n",
    "            result_set.add(tuple(sorted([x, x - target])))\n",
    "        temp_set.add(x)\n",
    "    return result_set\n",
    "\n",
    "\n",
    "nums = [3, 1, 4, 1, 5]\n",
    "target = 2\n",
    "print(find_k_diff_pairs(nums, target))            \n",
    "            "
   ]
  },
  {
   "cell_type": "markdown",
   "id": "711482e0-1ee0-4943-b307-5ab966a8f102",
   "metadata": {},
   "source": [
    "<br>\n",
    "\n",
    "<span style=\"color: #FC02BB\"> <strong>SOLUTION - 3</strong> </span> ===> <span style=\"color: red\">using Sorting and Binary Search</span> \n",
    "\n",
    "Remember the 2 pointer technique of 2-SUM or 3-SUM. Since for every element &nbsp;<span style=\"background-color: yellow\">&nbsp;&nbsp;X&nbsp;&nbsp;</span>&nbsp; in the given array, we need to find both &nbsp;<span style=\"background-color: yellow\">&nbsp;&nbsp;X + Target&nbsp;&nbsp;</span>&nbsp; or &nbsp;<span style=\"background-color: yellow\">&nbsp;&nbsp;X - Target&nbsp;&nbsp;</span>&nbsp;. <br><span style=\"color: blue\">After **sorting** the array, instead of using double pointer technique, we will use **binary search**.</span>\n"
   ]
  },
  {
   "cell_type": "code",
   "execution_count": 60,
   "id": "25ed92ce-1fb1-4abb-a630-b71fd7817331",
   "metadata": {},
   "outputs": [
    {
     "name": "stdout",
     "output_type": "stream",
     "text": [
      "k-diff pairs ====> {(1, 3), (3, 5)}\n",
      "count of k-diff pairs ====> 2\n"
     ]
    }
   ],
   "source": [
    "def find_k_diff_pairs(nums, target):\n",
    "    nums.sort()\n",
    "    n = len(nums)\n",
    "    result_set = set()\n",
    "    \n",
    "    for i in range(n):\n",
    "        l = i + 1\n",
    "        r = n - 1\n",
    "        target_1 = nums[i] + target  # CASE-1\n",
    "        while l <= r:\n",
    "            mid = int((l + r)/2)   # we could have also used floor function like ====> mid = (l + r) // 2\n",
    "            if nums[mid] < target_1:\n",
    "                l = mid + 1\n",
    "            elif nums[mid] > target_1:\n",
    "                r = mid - 1\n",
    "            else:\n",
    "                result_set.add(tuple(sorted([nums[i], nums[mid]])))    # [ nums[i], target_1 ]\n",
    "                break  # Exit loop if found, no need to continue searching\n",
    "                \n",
    "        target_2 = nums[i] - target  # CASE-2\n",
    "        l = i + 1\n",
    "        r = n - 1  # Reset l and r\n",
    "        while l <= r:\n",
    "            mid = (l + r) // 2\n",
    "            if nums[mid] < target_2:\n",
    "                l = mid + 1\n",
    "            elif nums[mid] > target_2:\n",
    "                r = mid - 1\n",
    "            else:\n",
    "                result_set.add(tuple(sorted([nums[i], nums[mid]])))    # [ nums[i], target_2 ]\n",
    "                break  # Exit loop if found, no need to continue searching\n",
    "\n",
    "    return (result_set, len(result_set))\n",
    "\n",
    "nums = [3, 1, 4, 1, 5]\n",
    "target = 2\n",
    "print(f\"k-diff pairs ====> {find_k_diff_pairs(nums, target)[0]}\")\n",
    "print(f\"count of k-diff pairs ====> {find_k_diff_pairs(nums, target)[1]}\")\n"
   ]
  },
  {
   "cell_type": "code",
   "execution_count": 43,
   "id": "01213773-ab26-4868-9410-71a5984557af",
   "metadata": {},
   "outputs": [
    {
     "name": "stdout",
     "output_type": "stream",
     "text": [
      "{(2, 3), (4, 5), (1, 2), (3, 4)}\n"
     ]
    }
   ],
   "source": [
    "\n",
    "nums = [1,2,3,4,5]\n",
    "target = 1\n",
    "print(find_k_diff_pairs(nums, target))\n"
   ]
  },
  {
   "cell_type": "code",
   "execution_count": null,
   "id": "9b0e4f41-cd55-43b8-a674-09ebea5a292d",
   "metadata": {},
   "outputs": [],
   "source": []
  },
  {
   "cell_type": "markdown",
   "id": "d27eff20-a53c-4c0f-99c0-094f7eb624ee",
   "metadata": {
    "jp-MarkdownHeadingCollapsed": true
   },
   "source": [
    "\n",
    "##### <span style=\"color: blue\">24  ===> Leaders in an Array\n"
   ]
  },
  {
   "cell_type": "markdown",
   "id": "b7f601e1-e437-476c-9771-8fedb4aefde8",
   "metadata": {},
   "source": [
    "<br>\n",
    "\n",
    "<span style=\"color: #DCBD10\">▬▬▬▬▬▬▬▬▬▬▬▬▬▬▬▬▬▬▬▬▬▬▬▬▬▬▬▬▬▬▬▬▬▬▬▬▬▬▬▬▬▬▬▬▬▬▬▬▬▬▬▬▬▬▬▬▬▬▬▬▬▬▬▬▬▬▬▬▬▬▬▬▬▬▬▬</span>\n",
    "\n",
    "<br>\n",
    "\n",
    "<div style=\"padding: 10px; background-color: #E2FFEC\">\n",
    "\n",
    "<u>**QUESTION - 24**</u> : \n",
    "\n",
    "Given an array, print all the elements which are leaders. **A Leader is an element that is (strictly) greater than all of the elements on its right side in the array.**\n",
    "\n",
    "<pre style=\"padding: 10px; margin: 30px\">\n",
    "    \n",
    "<strong><u><code>Example 1</code></u></strong>                       <br>\n",
    "<strong>Input:</strong> arr = [4, 7, 1, 0]                           <br>\n",
    "<strong>Output:</strong> 7 1 0                                       <br>\n",
    "<strong>Explanation:</strong> Rightmost element is always a leader. 7 and 1 are greater than the elements in their right side.\n",
    "\n",
    "----------------------------------------------------------------------------------------------------------------------------\n",
    "    \n",
    "<strong><u><code>Example 2</code></u></strong>                                 <br>\n",
    "<strong>Input:</strong> arr = [10, 22, 12, 3, 0, 6]                            <br>\n",
    "<strong>Output:</strong> 22 12 6                                               <br>\n",
    "<strong>Explanation:</strong> 6 is a leader. In addition to that, 12 is greater than all the elements in its right side (3, 0, 6), also 22 is greater than 12, 3, 0, 6.\n",
    "    \n",
    "</pre>\n",
    "    \n",
    "</div>\n",
    "\n",
    "<br>\n",
    "\n",
    "<span style=\"color: #FC02BB\"> <strong>SOLUTION - 1</strong> </span> ===> <span style=\"color: red\">Brute Force</span>\n",
    "\n",
    "**Hint** - Iterate the array from left."
   ]
  },
  {
   "cell_type": "code",
   "execution_count": 50,
   "id": "ec5380bb-e24f-4b8d-912d-31f0c40d07df",
   "metadata": {},
   "outputs": [
    {
     "data": {
      "text/plain": [
       "[22, 12, 6]"
      ]
     },
     "execution_count": 50,
     "metadata": {},
     "output_type": "execute_result"
    }
   ],
   "source": [
    "\n",
    "def find_leaders_in_array(arr):\n",
    "    n = len(arr)\n",
    "    leaders_list = []\n",
    "    for i in range(0, n):\n",
    "        leader_flag = True\n",
    "        for j in range(i+1, n):\n",
    "            if arr[i] < arr[j]:\n",
    "                leader_flag = False\n",
    "                break\n",
    "        if leader_flag == False:\n",
    "            continue\n",
    "        leaders_list.append(arr[i])\n",
    "    return leaders_list\n",
    "\n",
    "\n",
    "arr = [10, 22, 12, 3, 0, 6]  \n",
    "\n",
    "find_leaders_in_array(arr)        \n"
   ]
  },
  {
   "cell_type": "code",
   "execution_count": 51,
   "id": "3690f1e2-bb70-48e7-95c3-2e471f648130",
   "metadata": {},
   "outputs": [
    {
     "data": {
      "text/plain": [
       "[7, 1, 0]"
      ]
     },
     "execution_count": 51,
     "metadata": {},
     "output_type": "execute_result"
    }
   ],
   "source": [
    "\n",
    "arr = [4, 7, 1, 0]\n",
    "\n",
    "find_leaders_in_array(arr)   \n"
   ]
  },
  {
   "cell_type": "markdown",
   "id": "2133f354-b8c0-4485-97d2-d58a540fc542",
   "metadata": {},
   "source": [
    "<br>\n",
    "\n",
    "<span style=\"color: #FC02BB\"> <strong>SOLUTION - 2</strong> </span> ===> <span style=\"color: red\">Iterate the array from right and keep tracking of the maximum number.</span>\n"
   ]
  },
  {
   "cell_type": "code",
   "execution_count": 73,
   "id": "17b5efdc-629a-48a3-82a5-d3fe67a521ca",
   "metadata": {},
   "outputs": [
    {
     "data": {
      "text/plain": [
       "[6, 12, 22]"
      ]
     },
     "execution_count": 73,
     "metadata": {},
     "output_type": "execute_result"
    }
   ],
   "source": [
    "\n",
    "def find_leaders_in_array(arr):\n",
    "    n = len(arr)\n",
    "    max = float('-inf')\n",
    "    leaders_list = []\n",
    "    for i in range(n-1, -1, -1):\n",
    "        if arr[i] > max:\n",
    "            max = arr[i]\n",
    "            leaders_list.append(arr[i])\n",
    "    return leaders_list\n",
    "\n",
    "\n",
    "arr = [10, 22, 12, 3, 0, 6]  \n",
    "\n",
    "find_leaders_in_array(arr)               \n"
   ]
  },
  {
   "cell_type": "code",
   "execution_count": 74,
   "id": "bc8c5212-f96a-4fca-90a4-f9d4c3eed2aa",
   "metadata": {},
   "outputs": [
    {
     "data": {
      "text/plain": [
       "[0, 1, 7]"
      ]
     },
     "execution_count": 74,
     "metadata": {},
     "output_type": "execute_result"
    }
   ],
   "source": [
    "\n",
    "arr = [4, 7, 1, 0]\n",
    "\n",
    "find_leaders_in_array(arr)   \n"
   ]
  },
  {
   "cell_type": "code",
   "execution_count": null,
   "id": "a3d22067-4559-491b-8116-526e773f3558",
   "metadata": {},
   "outputs": [],
   "source": []
  },
  {
   "cell_type": "markdown",
   "id": "a4bfee78-9321-4dd8-a730-319a130689ce",
   "metadata": {
    "jp-MarkdownHeadingCollapsed": true
   },
   "source": [
    "\n",
    "##### <span style=\"color: blue\">25  ===> Replace Elements with Greatest Element on Right Side\n"
   ]
  },
  {
   "cell_type": "markdown",
   "id": "93884031-64fb-4633-bb0e-901b07d626d8",
   "metadata": {},
   "source": [
    "<br>\n",
    "\n",
    "<span style=\"color: #DCBD10\">▬▬▬▬▬▬▬▬▬▬▬▬▬▬▬▬▬▬▬▬▬▬▬▬▬▬▬▬▬▬▬▬▬▬▬▬▬▬▬▬▬▬▬▬▬▬▬▬▬▬▬▬▬▬▬▬▬▬▬▬▬▬▬▬▬▬▬▬▬▬▬▬▬▬▬▬</span>\n",
    "\n",
    "<br>\n",
    "\n",
    "<div style=\"padding: 10px; background-color: #E2FFEC\">\n",
    "\n",
    "<u>**QUESTION - 25**</u> : \n",
    "\n",
    "Given an array <code>arr</code>, replace every element in that array with the greatest element among the elements to its right, and replace the last element with <code> -1 </code>.\n",
    "\n",
    "After doing so, return the array.\n",
    "\n",
    "https://leetcode.com/problems/replace-elements-with-greatest-element-on-right-side/description/\n",
    "\n",
    "<pre style=\"margin: 10px; padding: 10px;\">\n",
    "\n",
    "<u><code><strong>Example 1:</strong></code></u>\n",
    "\n",
    "<strong>Input:</strong> arr = [17, 18, 5, 4, 6, 1]\n",
    "    \n",
    "<strong>Output:</strong> [18, 6, 6, 6, 1, -1]\n",
    "    \n",
    "<strong>Explanation:</strong>\n",
    "                - index 0 --> the greatest element to the right of index 0 is index 1 (18).\n",
    "                - index 1 --> the greatest element to the right of index 1 is index 4 (6).\n",
    "                - index 2 --> the greatest element to the right of index 2 is index 4 (6).\n",
    "                - index 3 --> the greatest element to the right of index 3 is index 4 (6).\n",
    "                - index 4 --> the greatest element to the right of index 4 is index 5 (1).\n",
    "                - index 5 --> there are no elements to the right of index 5, so we put -1.\n",
    "\n",
    "---------------------------------------------------------------------------------------------------------------------------------\n",
    "\n",
    "<u><code><strong>Example 2:</strong></code></u>\n",
    "\n",
    "<strong>Input:</strong> arr = [400]\n",
    "    \n",
    "<strong>Output:</strong> [-1]\n",
    "    \n",
    "<strong>Explanation:</strong> There are no elements to the right of index 0.\n",
    "    \n",
    "</pre>\n",
    "\n",
    "<br>\n",
    "\n",
    "</div>\n",
    "\n",
    "<br>\n",
    "\n",
    "<span style=\"color: #FC02BB\"> <strong>SOLUTION - 1</strong> ====> Brute Force </span>\n",
    "\n",
    "**Hint** - Iterate the array from left."
   ]
  },
  {
   "cell_type": "code",
   "execution_count": 72,
   "id": "b8cfae62-4ad9-4d8f-bfd1-af32c9ccfdb6",
   "metadata": {},
   "outputs": [
    {
     "data": {
      "text/plain": [
       "[18, 6, 6, 6, 1, -1]"
      ]
     },
     "execution_count": 72,
     "metadata": {},
     "output_type": "execute_result"
    }
   ],
   "source": [
    "\n",
    "def replace_elements_with_greatest_element_on_right_side(arr):\n",
    "    n = len(arr)\n",
    "    for i in range(0, n):\n",
    "        max = float('-inf')\n",
    "        for j in range(i+1, n):\n",
    "            if arr[j] > max:\n",
    "                max = arr[j]\n",
    "        arr[i] = max\n",
    "        if i == n-1:\n",
    "            arr[i] = -1\n",
    "    return arr\n",
    "    \n",
    "\n",
    "arr = [17, 18, 5, 4, 6, 1]\n",
    "replace_elements_with_greatest_element_on_right_side(arr)\n"
   ]
  },
  {
   "cell_type": "code",
   "execution_count": 64,
   "id": "7d3e77cf-41f2-4cf9-990f-d4ac345eb030",
   "metadata": {},
   "outputs": [
    {
     "data": {
      "text/plain": [
       "[-1]"
      ]
     },
     "execution_count": 64,
     "metadata": {},
     "output_type": "execute_result"
    }
   ],
   "source": [
    "\n",
    "arr = [400]\n",
    "replace_elements_with_greatest_element_on_right_side(arr)\n"
   ]
  },
  {
   "cell_type": "markdown",
   "id": "00e8223c-0a71-41a6-ad40-b96fab70c1f1",
   "metadata": {},
   "source": [
    "<br>\n",
    "\n",
    "<span style=\"color: #FC02BB\"> <strong>SOLUTION - 2</strong> </span> ===> <span style=\"color: red\">Iterate the array from right and keep tracking of the maximum number and replace the current element with the current maximum</span>\n"
   ]
  },
  {
   "cell_type": "code",
   "execution_count": 89,
   "id": "a6cb90c8-2b9c-445f-8c70-8e61b0c660d0",
   "metadata": {},
   "outputs": [
    {
     "data": {
      "text/plain": [
       "[18, 6, 6, 6, 1, -1]"
      ]
     },
     "execution_count": 89,
     "metadata": {},
     "output_type": "execute_result"
    }
   ],
   "source": [
    "\n",
    "def replace_elements_with_greatest_element_on_right_side(arr):\n",
    "    n = len(arr)\n",
    "    max_right = float('-inf')\n",
    "    for i in range(n-1, -1, -1):\n",
    "        temp = arr[i]\n",
    "        arr[i] = max_right\n",
    "        max_right = max(max_right, temp)\n",
    "        arr[n-1] = -1\n",
    "    return arr\n",
    "\n",
    "arr = [17, 18, 5, 4, 6, 1]\n",
    "replace_elements_with_greatest_element_on_right_side(arr)\n"
   ]
  },
  {
   "cell_type": "code",
   "execution_count": 87,
   "id": "127a635f-a0d7-4ea4-b006-22fb21ebb133",
   "metadata": {},
   "outputs": [
    {
     "data": {
      "text/plain": [
       "[-1]"
      ]
     },
     "execution_count": 87,
     "metadata": {},
     "output_type": "execute_result"
    }
   ],
   "source": [
    "\n",
    "arr = [400]\n",
    "replace_elements_with_greatest_element_on_right_side(arr)\n"
   ]
  },
  {
   "cell_type": "markdown",
   "id": "a64fc4bf-f494-4f74-8218-e92b6e3b206e",
   "metadata": {},
   "source": [
    "<font size=\"+1\">⭐</font>"
   ]
  },
  {
   "cell_type": "code",
   "execution_count": 93,
   "id": "c6aa75fa-b8c9-44a3-aad9-b067cee8205d",
   "metadata": {},
   "outputs": [
    {
     "data": {
      "text/plain": [
       "[18, 6, 6, 6, 1, -1]"
      ]
     },
     "execution_count": 93,
     "metadata": {},
     "output_type": "execute_result"
    }
   ],
   "source": [
    "\n",
    "def replace_elements_with_greatest_element_on_right_side(arr):\n",
    "    n = len(arr)\n",
    "    max_right = -1\n",
    "    for i in range(n-1, -1, -1):\n",
    "        temp = arr[i]\n",
    "        arr[i] = max_right\n",
    "        max_right = max(max_right, temp)\n",
    "    return arr\n",
    "\n",
    "arr = [17, 18, 5, 4, 6, 1]\n",
    "replace_elements_with_greatest_element_on_right_side(arr)\n"
   ]
  },
  {
   "cell_type": "code",
   "execution_count": 94,
   "id": "8059e9e9-6e1b-4cae-bbf8-8daab4639eb6",
   "metadata": {},
   "outputs": [
    {
     "data": {
      "text/plain": [
       "[-1]"
      ]
     },
     "execution_count": 94,
     "metadata": {},
     "output_type": "execute_result"
    }
   ],
   "source": [
    "\n",
    "arr = [400]\n",
    "replace_elements_with_greatest_element_on_right_side(arr)\n"
   ]
  },
  {
   "cell_type": "code",
   "execution_count": null,
   "id": "1bfc4033-3cc9-4c81-8bc0-6bb905027e97",
   "metadata": {},
   "outputs": [],
   "source": []
  },
  {
   "cell_type": "markdown",
   "id": "0b4bf767-1aa1-4026-bc50-089df3a70c85",
   "metadata": {},
   "source": [
    "\n",
    "##### <span style=\"color: blue\">26  ===> First Missing Positive\n"
   ]
  },
  {
   "cell_type": "markdown",
   "id": "7c4f8f59-d331-405e-ad80-1e3471efca11",
   "metadata": {},
   "source": [
    "<br>\n",
    "\n",
    "<span style=\"color: #DCBD10\">▬▬▬▬▬▬▬▬▬▬▬▬▬▬▬▬▬▬▬▬▬▬▬▬▬▬▬▬▬▬▬▬▬▬▬▬▬▬▬▬▬▬▬▬▬▬▬▬▬▬▬▬▬▬▬▬▬▬▬▬▬▬▬▬▬▬▬▬▬▬▬▬▬▬▬▬</span>\n",
    "\n",
    "<br>\n",
    "\n",
    "<div style=\"padding: 10px; background-color: #E2FFEC\">\n",
    "\n",
    "<u>**QUESTION - 26**</u> : \n",
    "\n",
    "Given an unsorted integer array <code>nums</code>. Return the **smallest positive integer** that is **not present** in <code>nums</code>.\n",
    "\n",
    "You must implement an algorithm that runs in <code>O(n)</code> time and uses <code>O(1)</code> auxiliary space.\n",
    "\n",
    "https://leetcode.com/problems/first-missing-positive/description/\n",
    "\n",
    "<pre style=\"margin: 10px; padding: 10px;\">\n",
    "\n",
    "<u><code><strong>Example 1:</strong></code></u>\n",
    "\n",
    "<strong>Input:</strong> nums = [1, 2, 0]\n",
    "    \n",
    "<strong>Output:</strong> 3\n",
    "    \n",
    "<strong>Explanation:</strong> The numbers in the range [1,2] are all in the array.\n",
    "\n",
    "---------------------------------------------------------------------------------------------------------------------------------\n",
    "\n",
    "<u><code><strong>Example 2:</strong></code></u>\n",
    "\n",
    "<strong>Input:</strong> nums = [3, 4, -1, 1]\n",
    "    \n",
    "<strong>Output:</strong> 2\n",
    "    \n",
    "<strong>Explanation:</strong> 1 is in the array but 2 is missing.\n",
    "\n",
    "---------------------------------------------------------------------------------------------------------------------------------\n",
    "\n",
    "<u><code><strong>Example 3:</strong></code></u>\n",
    "\n",
    "<strong>Input:</strong> nums = [7, 8, 9, 11, 12]\n",
    "    \n",
    "<strong>Output:</strong> 1\n",
    "    \n",
    "<strong>Explanation:</strong> The smallest positive integer 1 is missing.\n",
    "    \n",
    "</pre>\n",
    "\n",
    "<br>\n",
    "\n",
    "**Note** - There is no chance of not getting any first missing positive in any case, which means we will always get some number as the first missing positive\n",
    "\n",
    "<br>\n",
    "\n",
    "</div>\n",
    "\n",
    "<br>\n",
    "<br>\n",
    "\n",
    "<span style=\"color: #FC02BB\"> <strong>SOLUTION - 1A</strong> ====> Brute Force - A </span>\n",
    "\n",
    "**Hint** - Keep on checking if 1 is is present or not, then check if 2 is present or not....similarly keep on checking till you get a number which is not present in this array.  <br>\n",
    "&nbsp;&nbsp;&nbsp;&nbsp;&nbsp;&nbsp;&nbsp;&nbsp;&nbsp;&nbsp;&nbsp;====> <code> Time complexity = O(∞) </code>\n",
    "\n",
    "<br>"
   ]
  },
  {
   "cell_type": "code",
   "execution_count": 9,
   "id": "a6c10dee-1d55-49c6-b653-74503b0d99b5",
   "metadata": {},
   "outputs": [
    {
     "name": "stdout",
     "output_type": "stream",
     "text": [
      "3\n",
      "2\n",
      "1\n"
     ]
    }
   ],
   "source": [
    "\n",
    "def first_missing_positive(nums):\n",
    "    i = 1\n",
    "    while True:\n",
    "        if i not in nums:\n",
    "            return i\n",
    "        else:\n",
    "            i = i + 1\n",
    "            \n",
    "\n",
    "nums = [1, 2, 0]\n",
    "print(first_missing_positive(nums))    # =======> 3\n",
    "\n",
    "nums = [3, 4, -1, 1]\n",
    "print(first_missing_positive(nums))    # =======> 2\n",
    "\n",
    "nums = [7, 8, 9, 11, 12]\n",
    "print(first_missing_positive(nums))    # =======> 1\n"
   ]
  },
  {
   "cell_type": "markdown",
   "id": "6a7980e8-2142-460d-8042-30d2a82f75dd",
   "metadata": {},
   "source": [
    "<br>\n",
    "\n",
    "<span style=\"color: #FC02BB\"> <strong>SOLUTION - 1B</strong> ====> Brute Force - B </span>\n",
    "\n",
    "<span style=\"color: blue\"><font size=\"+1\">↳</font> &nbsp;**Hint -** The first missing positive number will always be in the range <code style=\"background-color: yellow\">[1, n+1]</code> &nbsp;where **1** and **n+1** are **included**.</span>\n",
    "\n",
    "&nbsp;&nbsp;&nbsp;&nbsp;&nbsp;&nbsp;&nbsp;&nbsp;&nbsp;&nbsp;&nbsp;&nbsp;&nbsp;&nbsp;&nbsp;&nbsp;<span style=\"color: blue\">So instead of searching blindly for the first missing positive, we should search in the range <code style=\"background-color: yellow\">[1, n+1]</code></span>"
   ]
  },
  {
   "cell_type": "code",
   "execution_count": 27,
   "id": "9802faf1-4548-49f3-b7b5-b54dc15fff1b",
   "metadata": {},
   "outputs": [
    {
     "name": "stdout",
     "output_type": "stream",
     "text": [
      "3\n",
      "2\n",
      "1\n"
     ]
    }
   ],
   "source": [
    "\n",
    "def first_missing_positive(nums):\n",
    "    n = len(nums)\n",
    "    for i in range(1, n+2):\n",
    "        if i not in nums:\n",
    "            return i\n",
    "        else:\n",
    "            i = i + 1        \n",
    "\n",
    "\n",
    "nums = [1, 2, 0]\n",
    "print(first_missing_positive(nums))    # =======> 3\n",
    "\n",
    "nums = [3, 4, -1, 1]\n",
    "print(first_missing_positive(nums))    # =======> 2\n",
    "\n",
    "nums = [7, 8, 9, 11, 12]\n",
    "print(first_missing_positive(nums))    # =======> 1\n"
   ]
  },
  {
   "cell_type": "markdown",
   "id": "5abd9ff9-afb0-42cf-b0a5-b83fa23761a2",
   "metadata": {},
   "source": [
    "<br>\n",
    "\n",
    "<span style=\"color: #FC02BB\"> <strong>SOLUTION - 2</strong> ====> using Set </span> \n",
    "\n",
    "<span style=\"color: blue\"><font size=\"+1\">↳</font> &nbsp;**Hint -** Keep the elements in the set and then search for the first missing positive in the range <code style=\"background-color: yellow\">[1, n+1]</code> &nbsp;where **1** and **n+1** are **included**.</span>\n"
   ]
  },
  {
   "cell_type": "code",
   "execution_count": 7,
   "id": "38e737b6-9465-4898-ba17-beb1963c51e5",
   "metadata": {},
   "outputs": [
    {
     "name": "stdout",
     "output_type": "stream",
     "text": [
      "3\n",
      "2\n",
      "1\n"
     ]
    }
   ],
   "source": [
    "\n",
    "def first_missing_positive(nums):\n",
    "    n = len(nums)\n",
    "    nums_set = set()\n",
    "    for num in nums:  # adding elements of the nums array in the nums set\n",
    "        nums_set.add(num)\n",
    "    for i in range(1, n+2):  # searching for the first missing positive in the range [1, n+1]\n",
    "        if i not in nums_set:\n",
    "            return i\n",
    "\n",
    "\n",
    "nums = [1, 2, 0]\n",
    "print(first_missing_positive(nums))    # =======> 3\n",
    "\n",
    "nums = [3, 4, -1, 1]\n",
    "print(first_missing_positive(nums))    # =======> 2\n",
    "\n",
    "nums = [7, 8, 9, 11, 12]\n",
    "print(first_missing_positive(nums))    # =======> 1\n",
    "        "
   ]
  },
  {
   "cell_type": "markdown",
   "id": "1a4f8f02-678f-4216-ae70-5d1fda2a32a8",
   "metadata": {},
   "source": [
    "<br>\n",
    "\n",
    "<span style=\"color: #FC02BB\"> <strong>SOLUTION - 3</strong> ====> using Sorting </span> "
   ]
  },
  {
   "cell_type": "code",
   "execution_count": 2,
   "id": "aa52bccf-6533-4c9c-baf6-c69920a56bc5",
   "metadata": {},
   "outputs": [
    {
     "name": "stdout",
     "output_type": "stream",
     "text": [
      "3\n",
      "2\n",
      "1\n"
     ]
    }
   ],
   "source": [
    "\n",
    "def first_missing_positive(nums):\n",
    "    n = len(nums)\n",
    "    nums.sort()\n",
    "    for i in range(1, n+2):\n",
    "        if i not in nums:\n",
    "            return i\n",
    "\n",
    "\n",
    "nums = [1, 2, 0]\n",
    "print(first_missing_positive(nums))    # =======> 3\n",
    "\n",
    "nums = [3, 4, -1, 1]\n",
    "print(first_missing_positive(nums))    # =======> 2\n",
    "\n",
    "nums = [7, 8, 9, 11, 12]\n",
    "print(first_missing_positive(nums))    # =======> 1\n",
    "        "
   ]
  },
  {
   "cell_type": "markdown",
   "id": "1e19751c-e2db-4728-aa70-5ce3555cffd4",
   "metadata": {},
   "source": [
    "<br>\n",
    "\n",
    "<span style=\"color: #FC02BB\"> <strong>SOLUTION - 4</strong> ====> using Index Jumping </span> \n",
    "\n",
    "<br>\n",
    "\n",
    "<pre style=\"border: 1px solid pink; padding: 2px;\">\n",
    "    \n",
    "<strong><span style=\"color: red; font-size: larger\">▷</span></strong> <code><strong> Step-1 </strong></code>\n",
    "    For every element <code style=\"background-color: #FCDEFF \"> arr[i] </code> where <code style=\"background-color: yellow\"> i ranging from [0 ===> n-1] </code>, \n",
    "    \n",
    "        first check if arr[abs(arr[i]) -1] is in the valid range or not \n",
    "    \n",
    "        i.e., <code style=\"background-color: yellow\"> 0 <=  (abs(arr[i]) - 1) <= n-1 </code>  because otherwise we can't jump from one index to another.\n",
    "\n",
    "---------------------------------------------------------------------------------------------------------------------------------\n",
    "            \n",
    "<strong><span style=\"color: red; font-size: larger\">▷</span></strong> <code><strong> Step-2 </strong></code>\n",
    "    If it's in valid range, then check if arr[abs(arr[i]) -1] is positive negative or zero. \n",
    "\n",
    "        <font size=\"+1\">↳</font> <code style=\"background-color: yellow\"> if arr[abs(arr[i]) -1] < 0 </code> ====> <strong>just ignore it</strong> and move forward because we are looking for first missing positive.\n",
    "            \n",
    "        <font size=\"+1\">↳</font> <code style=\"background-color: yellow\"> if arr[abs(arr[i]) -1] > 0 </code> ====> <code style=\"background-color: #FCDEFF \"> then mark the element arr[abs(arr[i]) -1] to it's negative value and move forward. </code>\n",
    "            \n",
    "        <font size=\"+1\">↳</font> <code style=\"background-color: yellow\"> if arr[abs(arr[i]) -1] = 0 </code> ====> <code style=\"background-color: #FCDEFF \"> mark it to -(n + 1) </code> <span style=\"color: blue\">(since -0 does not help, we have to find an alternative to &nbsp;&nbsp;&nbsp;&nbsp;&nbsp;&nbsp;&nbsp;&nbsp;&nbsp;&nbsp;&nbsp;&nbsp;&nbsp;&nbsp;&nbsp;&nbsp;&nbsp;&nbsp;&nbsp;&nbsp;&nbsp;&nbsp;&nbsp;&nbsp;&nbsp;&nbsp;&nbsp;&nbsp;&nbsp;&nbsp;&nbsp;&nbsp;&nbsp;&nbsp;&nbsp;&nbsp;&nbsp;&nbsp;&nbsp;&nbsp;&nbsp;&nbsp;&nbsp;&nbsp;&nbsp;&nbsp;&nbsp;&nbsp;&nbsp;&nbsp;&nbsp;&nbsp;&nbsp;&nbsp;&nbsp;&nbsp;&nbsp;&nbsp;&nbsp;&nbsp;&nbsp;&nbsp;&nbsp;&nbsp;&nbsp;&nbsp;&nbsp;&nbsp;flag it negative in such a way that it does not affect our &nbsp;&nbsp;&nbsp;&nbsp;&nbsp;&nbsp;&nbsp;&nbsp;&nbsp;&nbsp;&nbsp;&nbsp;&nbsp;&nbsp;&nbsp;&nbsp;&nbsp;&nbsp;&nbsp;&nbsp;&nbsp;&nbsp;&nbsp;&nbsp;&nbsp;&nbsp;&nbsp;&nbsp;&nbsp;&nbsp;&nbsp;&nbsp;&nbsp;&nbsp;&nbsp;&nbsp;&nbsp;&nbsp;&nbsp;&nbsp;&nbsp;&nbsp;&nbsp;&nbsp;&nbsp;&nbsp;&nbsp;&nbsp;&nbsp;&nbsp;&nbsp;&nbsp;&nbsp;&nbsp;&nbsp;&nbsp;&nbsp;&nbsp;&nbsp;&nbsp;&nbsp;&nbsp;&nbsp;&nbsp;&nbsp;&nbsp;&nbsp;&nbsp;decryption logic)</span>\n",
    "\n",
    "---------------------------------------------------------------------------------------------------------------------------------\n",
    "            \n",
    "<strong><span style=\"color: red; font-size: larger\">▷</span></strong> <code><strong> Step-3 </strong></code>\n",
    "    Since we know the first missing positive will definitely be in the range  <code style=\"background-color: yellow \"> [1, n+1] </code>, \n",
    "    so now let's keep on checking from 1 to n till we find it. \n",
    "            \n",
    "    <code style=\"background-color: #FCDEFF \">If we can't find it in the range [1 ===> n], it will definitely be n+1. </code>\n",
    "            \n",
    "    <code style=\"background-color: #FCDEFF \">So, for every number from i = 1 to n, just keep checking if arr[i-1] is non-negative </code>\n",
    "    ( <code style=\"color: blue\"> the numbers were marked negative so that we can filter out negatives to get the result </code> ).\n",
    "    <strong>As soon as we get that number, return it as result.</strong>\n",
    "\n",
    "</pre>\n",
    "\n",
    "<br>"
   ]
  },
  {
   "cell_type": "code",
   "execution_count": 30,
   "id": "447d9fb7-2d8c-4ba1-a884-e797e6235af4",
   "metadata": {},
   "outputs": [
    {
     "name": "stdout",
     "output_type": "stream",
     "text": [
      "3\n",
      "2\n",
      "1\n"
     ]
    }
   ],
   "source": [
    "\n",
    "def find_first_missing_positive(arr):\n",
    "    n = len(arr)\n",
    "    # make the negative numbers zero\n",
    "    for i in range(0, n):\n",
    "        if arr[i] < 0:\n",
    "            arr[i] = 0\n",
    "    # mark the non-negative numbers negative \n",
    "    for i in range(0, n): \n",
    "        if 0 <=  (abs(arr[i]) - 1) <= n-1:\n",
    "            if arr[abs(arr[i]) - 1] > 0:\n",
    "                arr[abs(arr[i]) - 1] = -1 * arr[abs(arr[i]) - 1]\n",
    "            elif arr[abs(arr[i]) - 1] == 0:\n",
    "                arr[abs(arr[i]) - 1] = -(n+1)\n",
    "    # search the first non-negative number and returning the result accordingly.\n",
    "    first_moving_positive = n+1\n",
    "    for i in range(1, n+1):\n",
    "        if arr[i-1] >= 0:\n",
    "            first_moving_positive = i\n",
    "            break\n",
    "    return first_moving_positive\n",
    "\n",
    "\n",
    "\n",
    "nums = [1, 2, 0] # [-1, -2, 0]\n",
    "print(find_first_missing_positive(nums))    # =======> 3\n",
    "\n",
    "nums = [3, 4, -1, 1]\n",
    "print(find_first_missing_positive(nums))    # =======> 2\n",
    "\n",
    "nums = [7, 8, 9, 11, 12]\n",
    "print(find_first_missing_positive(nums))    # =======> 1\n",
    "        "
   ]
  },
  {
   "cell_type": "code",
   "execution_count": null,
   "id": "0d6d3ca2-be28-4a22-87a0-eaa205601b72",
   "metadata": {},
   "outputs": [],
   "source": []
  },
  {
   "cell_type": "markdown",
   "id": "392af368-1c73-402a-8c9f-aa8e01826d9e",
   "metadata": {},
   "source": [
    "\n",
    "##### <span style=\"color: blue\">27  ===> Longest Consecutive Sequence or Longest Successive Elements\n"
   ]
  },
  {
   "cell_type": "markdown",
   "id": "2208352a-3227-42f5-8bb7-c201e6e87c50",
   "metadata": {},
   "source": [
    "<br>\n",
    "\n",
    "<span style=\"color: #DCBD10\">▬▬▬▬▬▬▬▬▬▬▬▬▬▬▬▬▬▬▬▬▬▬▬▬▬▬▬▬▬▬▬▬▬▬▬▬▬▬▬▬▬▬▬▬▬▬▬▬▬▬▬▬▬▬▬▬▬▬▬▬▬▬▬▬▬▬▬▬▬▬▬▬▬▬▬▬</span>\n",
    "\n",
    "<br>\n",
    "\n",
    "<div style=\"padding: 10px; background-color: #E2FFEC\">\n",
    "\n",
    "<u>**QUESTION - 27**</u> : &nbsp;Given an array of n integers, find the length of the **longest sequence** which contains the **consecutive** elements.\n",
    "\n",
    "</div>\n",
    "\n",
    "<br>\n",
    "\n",
    "<span style=\"color: #FC02BB\"> <strong>SOLUTION - 1</strong> ====> Brute Force Approach </span> &nbsp;&nbsp;====> <code> Time complexity = O(n<sup>3</sup>) </code>\n",
    "\n",
    "A straightforward but basic solution is to examine consecutive sequences for each element in the given array. For every element **x**, we will try to find the consecutive elements **x+1**, **x+2**, **x+3**, and so on using the <code style=\"background-color: yellow\">linear search algorithm</code>. Thus, we will check the length of the longest consecutive subsequence we can build for every element **x**. Among all the lengths we will consider the **maximum** one.  \n",
    "\n",
    "<br>\n",
    "\n",
    "<u><span style=\"color: red\">**Calculating the time-complexity**</span></u>\n",
    "\n",
    "For every element **x**, we may need to search in the array for every consecutive element from **x+1 ===> x+(n-1)** in the worst case.\n",
    "\n",
    "i.e., for each element in the array we need to search for it's **(n-1)** successive numbers in the array which means for every element ===> **(n + n + n + n +...n times) = O(n2)**\n",
    "\n",
    "Therefore, <span style=\"color: red\">total complexity of the whole code ===> <strong>n * O(n<sup>2</sup>)</strong> = <code style=\"color: red\"> <strong>O(n<sup>3</sup>)</strong> </code></span>\n",
    "\n",
    "<br>\n"
   ]
  },
  {
   "cell_type": "code",
   "execution_count": 58,
   "id": "a097ea96-fce1-4210-99fb-dec61e776d23",
   "metadata": {},
   "outputs": [
    {
     "name": "stdout",
     "output_type": "stream",
     "text": [
      "The longest consecutive sequence is 4\n"
     ]
    }
   ],
   "source": [
    "\n",
    "def find_length_of_longest_consecutive_sequence(arr):\n",
    "    n = len(arr)     # size of array\n",
    "    longest_consecutive_sequence_length = 1   # length of longest common sequence\n",
    "    # pick an element and search for its consecutive numbers\n",
    "    for i in range(0, n):\n",
    "        x = arr[i]  # every element for which a sequence (starting from that element) needs to be searched \n",
    "        count = 1\n",
    "        j = 0\n",
    "        while j <= n-1:\n",
    "            if arr[j] == x + 1:\n",
    "                x += 1           # new element to be searched in the current sequence\n",
    "                count += 1\n",
    "                j = 0            # reseting the variable j for the next search i.e., for searching (x + 1) in the whole array\n",
    "                continue\n",
    "            j = j + 1\n",
    "        longest_consecutive_sequence_length = max(longest_consecutive_sequence_length, count)\n",
    "    return longest_consecutive_sequence_length\n",
    "\n",
    "\n",
    "arr = [100, 200, 1, 2, 3, 4]\n",
    "answer = find_length_of_longest_consecutive_sequence(arr)\n",
    "print(\"The longest consecutive sequence is\", answer)\n"
   ]
  },
  {
   "cell_type": "code",
   "execution_count": 55,
   "id": "75980521-ba1b-485b-9234-6afdfc2b9794",
   "metadata": {},
   "outputs": [
    {
     "name": "stdout",
     "output_type": "stream",
     "text": [
      "The longest consecutive sequence is 4\n"
     ]
    }
   ],
   "source": [
    "\n",
    "arr = [100, 102, 100, 101, 101, 4, 3, 2, 3, 2, 3, 2, 1, 1, 1, 2]\n",
    "answer = find_length_of_longest_successive_elements(arr)\n",
    "print(\"The longest consecutive sequence is\", answer)\n"
   ]
  },
  {
   "cell_type": "code",
   "execution_count": 59,
   "id": "6f0a1902-5b7c-4e6d-a85b-97492cf7ff7c",
   "metadata": {},
   "outputs": [
    {
     "name": "stdout",
     "output_type": "stream",
     "text": [
      "The longest consecutive sequence is 4\n"
     ]
    }
   ],
   "source": [
    "\n",
    "def linear_search(arr, num):\n",
    "    n = len(arr)  # size of array\n",
    "    for i in range(n):\n",
    "        if arr[i] == num:\n",
    "            return True\n",
    "    return False\n",
    "\n",
    "\n",
    "def find_length_of_longest_consecutive_sequence(arr):\n",
    "    n = len(arr)     # size of array\n",
    "    longest_consecutive_sequence_length = 1   # length of longest common sequence\n",
    "    \n",
    "    # pick an element and search for its consecutive numbers\n",
    "    for i in range(0, n):\n",
    "        x = arr[i]\n",
    "        count = 1\n",
    "        # search for consecutive numbers using linear search\n",
    "        while linear_search(arr, x + 1):\n",
    "            x += 1\n",
    "            count += 1\n",
    "\n",
    "        longest_consecutive_sequence_length = max(longest_consecutive_sequence_length, count)\n",
    "    return longest_consecutive_sequence_length\n",
    "\n",
    "\n",
    "arr = [100, 200, 1, 2, 3, 4]\n",
    "answer = find_length_of_longest_consecutive_sequence(arr)\n",
    "print(\"The longest consecutive sequence is\", answer)\n"
   ]
  },
  {
   "cell_type": "code",
   "execution_count": 57,
   "id": "5012508c-aca9-4175-b3b8-7489640e0520",
   "metadata": {},
   "outputs": [
    {
     "name": "stdout",
     "output_type": "stream",
     "text": [
      "The longest consecutive sequence is 4\n"
     ]
    }
   ],
   "source": [
    "\n",
    "arr = [100, 102, 100, 101, 101, 4, 3, 2, 3, 2, 3, 2, 1, 1, 1, 2]\n",
    "answer = find_length_of_longest_successive_elements(arr)\n",
    "print(\"The longest consecutive sequence is\", answer)\n"
   ]
  },
  {
   "cell_type": "code",
   "execution_count": null,
   "id": "e180efe2-4b87-4a53-9d68-ece33863f551",
   "metadata": {},
   "outputs": [],
   "source": []
  },
  {
   "cell_type": "markdown",
   "id": "884886b2-6150-4676-98f6-740d4d644f5e",
   "metadata": {},
   "source": [
    "<br>\n",
    "\n",
    "<span style=\"color: #FC02BB\"> <strong>SOLUTION - 2</strong> ====> using Sorting </span>\n",
    "\n",
    "**<code>Algorithm:</code>**  <br>\n",
    "&nbsp;&nbsp;&nbsp;&nbsp;&nbsp;&nbsp;<font size=\"+1\">↳</font> &nbsp; We will consider 3 variables,   <br>\n",
    "&nbsp;&nbsp;&nbsp;&nbsp;&nbsp;&nbsp;&nbsp;&nbsp;&nbsp;&nbsp;&nbsp;&nbsp; <font size=\"+2\">•</font> <span style=\"color: red\"><strong>‘last_smaller’</strong></span> ➜ to store the last included element of the current sequence,   <br>\n",
    "&nbsp;&nbsp;&nbsp;&nbsp;&nbsp;&nbsp;&nbsp;&nbsp;&nbsp;&nbsp;&nbsp;&nbsp; <font size=\"+2\">•</font> <span style=\"color: red\"><strong>‘count’</strong></span> ➜ to store the length of the current sequence,   <br>\n",
    "&nbsp;&nbsp;&nbsp;&nbsp;&nbsp;&nbsp;&nbsp;&nbsp;&nbsp;&nbsp;&nbsp;&nbsp; <font size=\"+2\">•</font> <span style=\"color: red\"><strong>‘longest_consecutive_sequence_length’</strong></span> ➜ to store the maximum length.   <br>\n",
    "&nbsp;&nbsp;&nbsp;&nbsp;&nbsp;&nbsp;<font size=\"+1\">↳</font> &nbsp; Initialize <br>\n",
    "&nbsp;&nbsp;&nbsp;&nbsp;&nbsp;&nbsp;&nbsp;&nbsp;&nbsp;&nbsp;&nbsp;&nbsp;&nbsp;&nbsp;&nbsp;&nbsp;&nbsp;&nbsp;<code><code style=\"color: red\"><strong>last_smaller</strong></code> <strong>= -∞</strong></code>&nbsp;,    <br> \n",
    "&nbsp;&nbsp;&nbsp;&nbsp;&nbsp;&nbsp;&nbsp;&nbsp;&nbsp;&nbsp;&nbsp;&nbsp;&nbsp;&nbsp;&nbsp;&nbsp;&nbsp;&nbsp;<code><code style=\"color: red\"><strong>count</strong></code> <strong>= 0</strong></code>&nbsp;, and        <br> \n",
    "&nbsp;&nbsp;&nbsp;&nbsp;&nbsp;&nbsp;&nbsp;&nbsp;&nbsp;&nbsp;&nbsp;&nbsp;&nbsp;&nbsp;&nbsp;&nbsp;&nbsp;&nbsp;<code><code style=\"color: red\"><strong>longest_consecutive_sequence_length</strong></code> <strong>= 0</strong></code>&nbsp; (as the minimum length of the sequence is 1).\n",
    "\n",
    "The steps are as follows:\n",
    "\n",
    "🔶 &nbsp;First, we will sort the entire array.   <br>\n",
    "\n",
    "🔶 &nbsp;To begin, we will utilize a loop(<strong>say i</strong>) to iterate through each element one by one.   <br>\n",
    "\n",
    "🔶 &nbsp;For every element, we will check if this can be a part of the current sequence like the following:     <br>\n",
    "\n",
    "<div style=\"margin-left: 50px;\">\n",
    "\n",
    "<font size=\"+1\">↳</font> &nbsp; If &nbsp;<code style=\"background-color: yellow\">arr[i] == last_smaller + 1</code> &nbsp;➜  The last element in our sequence is labeled as &nbsp;<code>last_smaller</code>&nbsp; and the current element &nbsp;<code>arr[i]</code>&nbsp; is exactly &nbsp;<code>last_smaller + 1</code>&nbsp;. It indicates that &nbsp;<code>arr[i]</code>&nbsp; is the next consecutive element. To incorporate it into the sequence, we update &nbsp;<code>last_smaller</code>&nbsp; with the value of &nbsp;<code>arr[i]</code>&nbsp; and increment the length of the current sequence, denoted as &nbsp;<code>count</code>&nbsp;, by <strong>1</strong>.    <br> <br>\n",
    "\n",
    "\n",
    "<font size=\"+1\">↳</font> &nbsp; If &nbsp;<code style=\"background-color: yellow\">arr[i] == last_smaller</code>&nbsp;➜ If the current element, &nbsp;<code>arr[i]</code>&nbsp;, matches the last element of the sequence (represented by &nbsp;<code>last_smaller</code>&nbsp;), we can skip it since we have already included it before.    <br> <br>\n",
    "\n",
    "\n",
    "<font size=\"+1\">↳</font> &nbsp; Otherwise, if &nbsp;<code style=\"background-color: yellow\">last_smaller != arr[i]</code>&nbsp;➜  On satisfying this condition, we can conclude that the current element, &nbsp;<code>arr[i] > last_smaller + 1</code>&nbsp;. It indicates that &nbsp;<code>arr[i]&nbsp;</code> cannot be a part of the current sequence. So, we will start a new sequence from &nbsp;<code>arr[i]</code>&nbsp; by updating &nbsp;<code>last_smaller</code>&nbsp; with the value of &nbsp;<code>arr[i]</code>&nbsp;. And we will set the length of the current sequence(&nbsp;<code>count</code>&nbsp;) to **1**.    <br>\n",
    "    \n",
    "</div>\n",
    "\n",
    "🔶 &nbsp;Every time, **inside the loop**, we will compare &nbsp;<code>count</code>&nbsp; and ‘longest’ and update &nbsp;<code>longest_consecutive_sequence_length</code>&nbsp; with the **maximum value**. <br>\n",
    "&nbsp;&nbsp;&nbsp;&nbsp;&nbsp;&nbsp;&nbsp;<code style=\"background-color: yellow\">longest = max(longest, cnt)</code>   <br>\n",
    "\n",
    "🔶 &nbsp;Finally, once the iteration is complete, we will have the answer stored in the variable &nbsp;<code>longest_consecutive_sequence_length</code>&nbsp;.\n",
    "\n",
    "<br>\n",
    "\n",
    "**Note** - Here, we are distorting the given array by sorting it.\n"
   ]
  },
  {
   "cell_type": "code",
   "execution_count": 64,
   "id": "2a2304f0-0486-4229-abd7-99cdec9f9dac",
   "metadata": {},
   "outputs": [
    {
     "name": "stdout",
     "output_type": "stream",
     "text": [
      "The longest consecutive sequence is 4\n"
     ]
    }
   ],
   "source": [
    "\n",
    "def find_length_of_longest_consecutive_sequence(arr):\n",
    "    n = len(arr)\n",
    "    if n == 0:\n",
    "        return 0\n",
    "\n",
    "    # sort the array\n",
    "    arr.sort()\n",
    "    last_smaller = float('-inf')\n",
    "    count = 0\n",
    "    longest_consecutive_sequence_length = 1\n",
    "\n",
    "    # find longest sequence\n",
    "    for i in range(0, n):\n",
    "        if arr[i] == last_smaller + 1:\n",
    "            #  arr[i] is the next element of the current sequence\n",
    "            count += 1\n",
    "            last_smaller = arr[i]\n",
    "        elif arr[i] != last_smaller:   # sequence broken  <===  arr[i] > last_smaller + 1\n",
    "            count = 1\n",
    "            last_smaller = arr[i]      # new sequence should be checked from arr[i]\n",
    "        longest_consecutive_sequence_length = max(longest_consecutive_sequence_length, count)\n",
    "    return longest_consecutive_sequence_length\n",
    "\n",
    "\n",
    "arr = [100, 200, 1, 2, 3, 4]\n",
    "ans = find_length_of_longest_consecutive_sequence(arr)\n",
    "print(\"The longest consecutive sequence is\", ans)\n"
   ]
  },
  {
   "cell_type": "code",
   "execution_count": 65,
   "id": "844ce2cf-cd79-4d4f-a244-71561f90fa49",
   "metadata": {},
   "outputs": [
    {
     "name": "stdout",
     "output_type": "stream",
     "text": [
      "The longest consecutive sequence is 4\n"
     ]
    }
   ],
   "source": [
    "\n",
    "arr = [100, 102, 100, 101, 101, 4, 3, 2, 3, 2, 3, 2, 1, 1, 1, 2]\n",
    "answer = find_length_of_longest_successive_elements(arr)\n",
    "print(\"The longest consecutive sequence is\", answer)\n"
   ]
  },
  {
   "cell_type": "markdown",
   "id": "bd058ed2-24c2-4dff-b32c-7e04aed3b3f1",
   "metadata": {},
   "source": [
    "<br>\n",
    "\n",
    "<span style=\"color: #FC02BB\"> <strong>SOLUTION - 3</strong> ====> optimal approach (using Set) </span>\n",
    "\n",
    "\n",
    "We will adopt a similar approach to the brute-force method but with optimizations in the search process. <span style=\"color: red\">Instead of searching sequences for every array element as in the brute-force approach, **we will focus solely on finding sequences only for those numbers that can be the starting numbers of the sequences**.</span> This targeted approach narrows down our search and improves efficiency.\n",
    "\n",
    "We will do this with the help of the **Set** data structure.\n",
    "\n",
    "**How to identify if a number can be the starting number for a sequence:**\n",
    "\n",
    "&nbsp;&nbsp;&nbsp;&nbsp;&nbsp;&nbsp;🔶 &nbsp;First, we will put all the array elements into the set data structure.\n",
    "\n",
    "&nbsp;&nbsp;&nbsp;&nbsp;&nbsp;&nbsp;🔶 &nbsp;<span style=\"background-color: yellow\">If a number &nbsp;<code>num</code>&nbsp; is a starting number, ideally, &nbsp;<code>num-1</code>&nbsp; should not exist.</span> &nbsp;So, for every element &nbsp;<code>x</code>&nbsp;  in the set, we will check if &nbsp;<code>x-1</code>&nbsp; exists inside the set. :\n",
    "\n",
    "&nbsp;&nbsp;&nbsp;&nbsp;&nbsp;&nbsp;&nbsp;&nbsp;&nbsp;&nbsp;&nbsp;&nbsp;&nbsp;&nbsp;&nbsp;&nbsp;&nbsp;&nbsp;&nbsp;&nbsp;&nbsp;&nbsp;&nbsp;&nbsp;<font size=\"+1\">↳</font>&nbsp;&nbsp;<strong>If &nbsp;<code>x-1</code>&nbsp; exists :</strong> This means x cannot be a starting number and we will move on to the next element in the set.\n",
    "\n",
    "&nbsp;&nbsp;&nbsp;&nbsp;&nbsp;&nbsp;&nbsp;&nbsp;&nbsp;&nbsp;&nbsp;&nbsp;&nbsp;&nbsp;&nbsp;&nbsp;&nbsp;&nbsp;&nbsp;&nbsp;&nbsp;&nbsp;&nbsp;&nbsp;<font size=\"+1\">↳</font>&nbsp;&nbsp;<strong>If &nbsp;<code>x-1</code>&nbsp; does not exist :</strong> This means x is a starting number of a sequence. So, for number &nbsp;<code>x</code>&nbsp;, we will start finding the consecutive elements.\n",
    "\n",
    "**How to search for consecutive elements for a number, x:**  <br>\n",
    "\n",
    "&nbsp;&nbsp;&nbsp;&nbsp;&nbsp;&nbsp;🔶 &nbsp;Instead of using linear search, we will use the set data structure itself to search for the elements &nbsp;<code>x+1</code>&nbsp;, &nbsp;<code>x+2</code>&nbsp;, &nbsp;<code>x+3</code>&nbsp;, and so on.\n",
    "\n",
    "Thus, using this method we can narrow down the search and optimize the approach.\n",
    "\n",
    "<span style=\"color: blue\">**Algorithm:**</span>\n",
    "\n",
    "&nbsp;&nbsp;&nbsp;&nbsp;&nbsp;&nbsp;<font size=\"+1\">↳</font> &nbsp; We will consider 2 variables,   <br>\n",
    "\n",
    "&nbsp;&nbsp;&nbsp;&nbsp;&nbsp;&nbsp;&nbsp;&nbsp;&nbsp;&nbsp;&nbsp;&nbsp;&nbsp;&nbsp;&nbsp;&nbsp; <font size=\"+1\">•</font>&nbsp;&nbsp;<span style=\"color: red\"><strong>count</strong></span> ➜ to store the length of the current sequence   <br>\n",
    "\n",
    "&nbsp;&nbsp;&nbsp;&nbsp;&nbsp;&nbsp;&nbsp;&nbsp;&nbsp;&nbsp;&nbsp;&nbsp;&nbsp;&nbsp;&nbsp;&nbsp; <font size=\"+1\">•</font>&nbsp;&nbsp;<span style=\"color: red\"><strong>longest_consecutive_sequence_length</strong></span> ➜ to store the maximum length\n",
    "\n",
    "<span style=\"color: blue\">➜</span> First, we will put all the array elements into the set data structure.\n",
    "\n",
    "<span style=\"color: blue\">➜</span> For every element &nbsp;<code>x</code>&nbsp;, that can be a starting number(i.e. &nbsp;<code>x-1</code>&nbsp; does not exist in the set) we will do the following:\n",
    "\n",
    "&nbsp;&nbsp;&nbsp;&nbsp;&nbsp;&nbsp;&nbsp;&nbsp;&nbsp;&nbsp;&nbsp;&nbsp;&nbsp;&nbsp;&nbsp;&nbsp;<span style=\"color: blue\"><font size=\"+1\">↳</font></span>&nbsp;&nbsp;We will set the length of the current sequence(<span style=\"color: red\">**count**</span>) to 1.\n",
    "\n",
    "&nbsp;&nbsp;&nbsp;&nbsp;&nbsp;&nbsp;&nbsp;&nbsp;&nbsp;&nbsp;&nbsp;&nbsp;&nbsp;&nbsp;&nbsp;&nbsp;<span style=\"color: blue\"><font size=\"+1\">↳</font></span>&nbsp;&nbsp;Then, again using the set, we will search for the consecutive elements such as &nbsp;<code>x+1</code>&nbsp;, &nbsp;<code>x+2</code>&nbsp;, and so on, <br>\n",
    "&nbsp;&nbsp;&nbsp;&nbsp;&nbsp;&nbsp;&nbsp;&nbsp;&nbsp;&nbsp;&nbsp;&nbsp;&nbsp;&nbsp;&nbsp;&nbsp;&nbsp;&nbsp;&nbsp;&nbsp;&nbsp;and **find the maximum possible length of the current sequence**. This length will be stored in the variable <span style=\"color: red\">**‘count’**</span>.  <br>\n",
    "\n",
    "&nbsp;&nbsp;&nbsp;&nbsp;&nbsp;&nbsp;&nbsp;&nbsp;&nbsp;&nbsp;&nbsp;&nbsp;&nbsp;&nbsp;&nbsp;&nbsp;<span style=\"color: blue\"><font size=\"+1\">↳</font></span>&nbsp;&nbsp;After that, we will compare <span style=\"color: red\">**‘count’**</span> and <span style=\"color: red\">**‘longest_consecutive_sequence_length’**</span> and update the variable <span style=\"color: red\">**‘longest_consecutive_sequence_length’**</span> with the &nbsp;&nbsp;&nbsp;&nbsp;&nbsp;&nbsp;&nbsp;&nbsp;&nbsp;&nbsp;&nbsp;&nbsp;&nbsp;&nbsp;&nbsp;&nbsp;&nbsp;&nbsp;&nbsp;&nbsp;&nbsp;**maximum value** (i.e. &nbsp;<code>longest_consecutive_sequence_length = <strong>max(</strong>longest_consecutive_sequence_length, count<strong>)</strong></code>&nbsp;).\n",
    "\n",
    "&nbsp;&nbsp;&nbsp;&nbsp;&nbsp;&nbsp;&nbsp;&nbsp;&nbsp;&nbsp;&nbsp;&nbsp;&nbsp;&nbsp;&nbsp;&nbsp;<span style=\"color: blue\"><font size=\"+1\">↳</font></span>&nbsp;&nbsp;Finally, we will have the answer i.e. <span style=\"color: red\">**‘longest_consecutive_sequence_length’**</span>.\n",
    "\n",
    "\n",
    "<br>\n"
   ]
  },
  {
   "cell_type": "code",
   "execution_count": 76,
   "id": "a4157477-7683-46c7-b0c3-8f23b00e1eff",
   "metadata": {},
   "outputs": [
    {
     "name": "stdout",
     "output_type": "stream",
     "text": [
      "The longest consecutive sequence is 4\n"
     ]
    }
   ],
   "source": [
    "\n",
    "def find_length_of_longest_consecutive_sequence(arr):\n",
    "    n = len(arr)\n",
    "    if n == 0:\n",
    "        return 0\n",
    "\n",
    "    longest_consecutive_sequence_length = 1\n",
    "    arr_set = set()\n",
    "    # put all the array elements into set\n",
    "    for i in range(0, n):\n",
    "        arr_set.add(arr[i])\n",
    "\n",
    "    # Find the longest sequence\n",
    "    for item in arr_set:\n",
    "        # if 'item' is a starting number\n",
    "        if item - 1 not in arr_set:\n",
    "            # find consecutive numbers\n",
    "            count = 1\n",
    "            x = item\n",
    "            while x + 1 in arr_set:\n",
    "                x = x + 1\n",
    "                count = count + 1\n",
    "            longest_consecutive_sequence_length = max(longest_consecutive_sequence_length, count)\n",
    "    return longest_consecutive_sequence_length\n",
    "\n",
    "\n",
    "\n",
    "a = [100, 200, 1, 2, 3, 4]\n",
    "ans = find_length_of_longest_consecutive_sequence(a)\n",
    "print(\"The longest consecutive sequence is\", ans)\n"
   ]
  },
  {
   "cell_type": "code",
   "execution_count": null,
   "id": "3fa20acf-ce4f-488c-afdc-913376194e4b",
   "metadata": {},
   "outputs": [],
   "source": []
  },
  {
   "cell_type": "code",
   "execution_count": null,
   "id": "f55ed0b4-3b0c-4966-a65c-67ff5e44e58a",
   "metadata": {},
   "outputs": [],
   "source": []
  },
  {
   "cell_type": "code",
   "execution_count": null,
   "id": "064ba551-410b-463c-b8b8-63d8fe7e4660",
   "metadata": {},
   "outputs": [],
   "source": []
  },
  {
   "cell_type": "code",
   "execution_count": null,
   "id": "0f61a3dd-6a23-4d06-8a79-8126142e8588",
   "metadata": {},
   "outputs": [],
   "source": []
  },
  {
   "cell_type": "code",
   "execution_count": null,
   "id": "c0182fd9-f1a9-4a19-ab9c-ace323bcd106",
   "metadata": {},
   "outputs": [],
   "source": []
  },
  {
   "cell_type": "code",
   "execution_count": null,
   "id": "8ff5f760-2be5-46f0-af24-d3a144bd38af",
   "metadata": {},
   "outputs": [],
   "source": []
  },
  {
   "cell_type": "code",
   "execution_count": null,
   "id": "959e32fe-08b7-4d21-bf89-13cf5060837d",
   "metadata": {},
   "outputs": [],
   "source": []
  }
 ],
 "metadata": {
  "kernelspec": {
   "display_name": "Python 3 (ipykernel)",
   "language": "python",
   "name": "python3"
  },
  "language_info": {
   "codemirror_mode": {
    "name": "ipython",
    "version": 3
   },
   "file_extension": ".py",
   "mimetype": "text/x-python",
   "name": "python",
   "nbconvert_exporter": "python",
   "pygments_lexer": "ipython3",
   "version": "3.11.3"
  }
 },
 "nbformat": 4,
 "nbformat_minor": 5
}
