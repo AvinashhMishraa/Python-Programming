{
 "cells": [
  {
   "cell_type": "markdown",
   "id": "d8fd66ac-7f7c-4c3c-9239-c71dc5181e98",
   "metadata": {},
   "source": [
    "https://leetcode.com/studyplan/top-interview-150/\n",
    "\n",
    "https://takeuforward.org/interviews/strivers-sde-sheet-top-coding-interview-problems"
   ]
  },
  {
   "cell_type": "markdown",
   "id": "123eb9c8-2135-4e8d-9acf-e068f981b9c7",
   "metadata": {
    "jp-MarkdownHeadingCollapsed": true
   },
   "source": [
    "##### <span style=\"color: blue\">1  ===> Binary Search Implementation </span>"
   ]
  },
  {
   "cell_type": "markdown",
   "id": "d096eb4c-adc7-4305-a03a-55c921587687",
   "metadata": {},
   "source": [
    "<br>\n",
    "\n",
    "<span style=\"color: #DCBD10\">▬▬▬▬▬▬▬▬▬▬▬▬▬▬▬▬▬▬▬▬▬▬▬▬▬▬▬▬▬▬▬▬▬▬▬▬▬▬▬▬▬▬▬▬▬▬▬▬▬▬▬▬▬▬▬▬▬▬▬▬▬▬▬▬▬▬▬▬▬▬▬▬▬▬▬▬</span>\n",
    "\n",
    "<br>\n",
    "\n",
    "<div style=\"padding: 10px; background-color: #E2FFEC\">\n",
    "\n",
    "<u>**QUESTION 1**</u> : &nbsp;Binary Search Implementation\n",
    "\n",
    "</div>\n",
    "\n",
    "<br>\n"
   ]
  },
  {
   "cell_type": "code",
   "execution_count": 13,
   "id": "33c79312-19fd-4c75-93bd-78508a336bde",
   "metadata": {},
   "outputs": [
    {
     "name": "stdout",
     "output_type": "stream",
     "text": [
      "False\n"
     ]
    }
   ],
   "source": [
    "\n",
    "def binary_search(arr, target):\n",
    "    l = 0\n",
    "    r = len(arr) - 1\n",
    "    while l <= r:\n",
    "        mid = int((l + r)/2)\n",
    "        if target < arr[mid]:\n",
    "            r = mid -1\n",
    "        elif target > arr[mid]:\n",
    "            l = mid + 1\n",
    "        else:\n",
    "            return True\n",
    "            \n",
    "    return False\n",
    "\n",
    "\n",
    "nums = [2, 4, 5, 7, 8, 13, 20, 27]\n",
    "target = 5\n",
    "result = binary_search(nums, 6)\n",
    "print(result)\n",
    "    "
   ]
  },
  {
   "cell_type": "code",
   "execution_count": null,
   "id": "3c02e7d4-4450-4f3a-ad3f-951bd2a01cef",
   "metadata": {},
   "outputs": [],
   "source": []
  },
  {
   "cell_type": "markdown",
   "id": "15d3f26d-4069-4c9e-87df-2e134004d3bb",
   "metadata": {
    "jp-MarkdownHeadingCollapsed": true
   },
   "source": [
    "##### <span style=\"color: blue\">2  ===> Merge Sort </span>"
   ]
  },
  {
   "cell_type": "markdown",
   "id": "96c5d7f0-76e3-4c49-87b0-6ecd9c57ef35",
   "metadata": {},
   "source": [
    "<br>\n",
    "\n",
    "<span style=\"color: #DCBD10\">▬▬▬▬▬▬▬▬▬▬▬▬▬▬▬▬▬▬▬▬▬▬▬▬▬▬▬▬▬▬▬▬▬▬▬▬▬▬▬▬▬▬▬▬▬▬▬▬▬▬▬▬▬▬▬▬▬▬▬▬▬▬▬▬▬▬▬▬▬▬▬▬▬▬▬▬</span>\n",
    "\n",
    "<br>\n",
    "\n",
    "<div style=\"padding: 10px; background-color: #E2FFEC\">\n",
    "\n",
    "<u>**QUESTION 2**</u> : &nbsp;Merge Sort\n",
    "\n",
    "</div>\n",
    "\n",
    "<br>\n"
   ]
  },
  {
   "cell_type": "markdown",
   "id": "df25e16a-0fa4-4fbb-8b2d-dc31449f956e",
   "metadata": {},
   "source": [
    "\n",
    "<pre>                                     <code style=\"color: blue\">merge_sort(</code><code style=\"color: #FCB800\">input_array</code><code style=\"color: blue\">,</code> p = </code><code style=\"color: #FCB800\">0</code><code style=\"color: blue\">,</code> r = </code><code style=\"color: #FCB800\">len(input_array) - 1</code><code style=\"color: blue\">)</code></pre>\n",
    "\n",
    "<pre>                                                        if p < r: \n",
    "    \n",
    "                                                             q = (p + r) / 2\n",
    "\n",
    "</pre>\n",
    "\n",
    "<pre>                               <code style=\"color: blue\">merge_sort(</code><code style=\"color: #FCB800\">array</code><code style=\"color: blue\">,</code> </code><code style=\"color: black\">p</code><code style=\"color: blue\">,</code> </code><code style=\"color: red\">q</code><code style=\"color: blue\">)</code>         <span style=\"color: blue\"> █ </span>         <code style=\"color: blue\">merge_sort(</code><code style=\"color: #FCB800\">array</code><code style=\"color: blue\">,</code> </code><code style=\"color: red\">q+1</code><code style=\"color: blue\">,</code> </code><code style=\"color: black\">r</code><code style=\"color: blue\">)</code>\n",
    "</pre>\n",
    "\n",
    "<pre>                                                      <code style=\"color: blue\">merge(</code><code style=\"color: #FCB800\">array</code><code style=\"color: blue\">,</code> </code><code style=\"color: black\">p</code><code style=\"color: blue\">,</code> </code><code style=\"color: red\">q</code><code style=\"color: blue\">,</code> </code><code style=\"color: black\">r</code><code style=\"color: blue\">)</code>\n",
    "\n",
    "</pre>\n",
    "\n",
    "\n",
    "<span style=\"color: #E7D51D\">-----------------------------------------------------------------------------------------------------------------------------------------------------------------------------------------------</span>\n",
    "\n",
    "\n",
    "<summary style=\"color: #ccc; padding: 10px; border-radius: 5px;</summary>\n",
    "<div style=\"padding: 10px; border-radius: 5px;\">\n",
    "\n",
    "|  &nbsp;&nbsp;&nbsp;&nbsp;&nbsp;&nbsp;5&nbsp;&nbsp;&nbsp;&nbsp;&nbsp;&nbsp;   |  &nbsp;&nbsp;&nbsp;&nbsp;&nbsp;&nbsp;4&nbsp;&nbsp;&nbsp;&nbsp;&nbsp;&nbsp;  |  &nbsp;&nbsp;&nbsp;&nbsp;&nbsp;&nbsp;3&nbsp;&nbsp;&nbsp;&nbsp;&nbsp;&nbsp;  |  &nbsp;&nbsp;&nbsp;&nbsp;&nbsp;&nbsp;&nbsp;&nbsp;&nbsp;&nbsp;&nbsp;&nbsp;&nbsp;&nbsp;&nbsp;&nbsp;&nbsp;&nbsp;&nbsp;&nbsp;&nbsp;&nbsp;&nbsp;&nbsp;&nbsp;&nbsp;&nbsp;&nbsp;&nbsp;&nbsp;&nbsp;&nbsp;&nbsp;&nbsp;&nbsp;&nbsp;&nbsp;&nbsp;&nbsp;&nbsp;&nbsp;&nbsp;&nbsp;&nbsp;&nbsp;&nbsp;&nbsp;&nbsp;1&nbsp;&nbsp;&nbsp;&nbsp;&nbsp;&nbsp;  |  &nbsp;&nbsp;&nbsp;&nbsp;&nbsp;&nbsp;1&nbsp;&nbsp;&nbsp;&nbsp;&nbsp;&nbsp; |  &nbsp;&nbsp;&nbsp;&nbsp;&nbsp;&nbsp;8&nbsp;&nbsp;&nbsp;&nbsp;&nbsp;&nbsp;  |\n",
    "|-----|-----|-----|-----|-----|-----|\n",
    "    \n",
    "<pre>\n",
    "      <code style=\"color: blue\">                                 0       1       2                            3       4       5</code>  <br>\n",
    "                                       p       <code style=\"color: red\">q</code>     <code style=\"color: red\">q+1</code> = r                        p       <code style=\"color: red\">q</code>     <code style=\"color: red\">q+1</code> = r\n",
    "\n",
    "                                                              <code style=\"color: blue\">merge(</code><code style=\"color: #FCB800\">array</code><code style=\"color: blue\">,</code> </code><code style=\"color: black\">p</code><code style=\"color: blue\">,</code> </code><code style=\"color: red\">q</code><code style=\"color: blue\">,</code> </code><code style=\"color: black\">r</code><code style=\"color: blue\">)</code>\n",
    "\n",
    "                                       <code style=\"color: #43CA04\"><strong>i ------------->|</strong></code>                            <code style=\"color: #43CA04\"><strong>j ------------->|</strong></code>\n",
    "\n",
    "                                       <code style=\"color: #43CA04\"><strong>k ---------------------------------------------------------->|</strong></code>\n",
    "\n",
    "    <br>\n",
    "                                                        if <span style=\"background-color: #FEFFC5\"><span style=\"color: blue\">arr</span>[<span style=\"color: red\"><strong>i</strong></span>] <= <span style=\"color: blue\">arr</span>[<span style=\"color: red\"><strong>j</strong></span>]</span>:\n",
    "                                                                sorted_array.append(<code style=\"color: blue\">arr</code>[<span style=\"color: red\"><strong>i</strong></span>])\n",
    "                                                                <span style=\"color: red\"><strong>i</strong></span> = <span style=\"color: red\"><strong>i</strong></span> + 1\n",
    "                                                        elsif <span style=\"background-color: #FEFFC5\"><span style=\"color: blue\">arr</span>[<span style=\"color: red\"><strong>i</strong></span>] > <span style=\"color: blue\">arr</span>[<span style=\"color: red\"><strong>j</strong></span>]</span>:\n",
    "                                                                sorted_array.append(<code style=\"color: blue\">arr</code>[<span style=\"color: red\"><strong>j</strong></span>])\n",
    "                                                                <span style=\"color: red\"><strong>j</strong></span> = <span style=\"color: red\"><strong>j</strong></span> + 1        \n",
    "                                                        elsif <span style=\"background-color: #FEFFC5\"><span style=\"color: red\"><strong>i</strong></span> > <span style=\"color: red\"><strong>q</strong></span></span>:\n",
    "                                                                sorted_array.append(<code style=\"color: blue\">arr</code>[<span style=\"color: red\"><strong>j</strong></span>])\n",
    "                                                                <span style=\"color: red\"><strong>j</strong></span> = <span style=\"color: red\"><strong>j</strong></span> + 1\n",
    "                                                        elsif <span style=\"background-color: #FEFFC5\"><span style=\"color: red\"><strong>j</strong></span> > <span style=\"color: red\"><strong>r</strong></span></span>:\n",
    "                                                                sorted_array.append(<code style=\"color: blue\">arr</code>[<span style=\"color: red\"><strong>i</strong></span>])\n",
    "                                                                <span style=\"color: red\"><strong>i</strong></span> = <span style=\"color: red\"><strong>i</strong></span> + 1\n",
    "</pre>\n",
    "</div>\n",
    "\n",
    "<br>\n",
    "\n",
    "<br>\n",
    "\n",
    "<span style=\"color: #FC02BB\"> <strong>SOLUTION - 1</strong> </span>"
   ]
  },
  {
   "cell_type": "code",
   "execution_count": 3,
   "id": "21123ed0-8f0d-4348-842c-e7e04b0e5e13",
   "metadata": {},
   "outputs": [
    {
     "name": "stdout",
     "output_type": "stream",
     "text": [
      "[3, 4, 5, 8, 8, 8, 14, 16, 16, 17, 18, 18, 20, 22, 24]\n"
     ]
    }
   ],
   "source": [
    "\n",
    "def merge_sort(arr, p, r): \n",
    "    if (p < r): \n",
    "        q = int((p + r) / 2)\n",
    "        merge_sort(arr, p, q)        # recursion\n",
    "        merge_sort(arr, q+1, r)      # recursion\n",
    "        merge(arr, p, q, r)\n",
    "    return arr\n",
    "\n",
    "\n",
    "def merge(arr, p, q, r):\n",
    "    sorted_array = []\n",
    "    i = p\n",
    "    j = q + 1\n",
    "    for k in range(p, r+1):\n",
    "        if ((i <= q) and (j <= r) and arr[i] <= arr[j]):\n",
    "            sorted_array.append(arr[i])\n",
    "            i += 1\n",
    "        elif (arr[i] > arr[j]) and (i <= q) and (j <= r):\n",
    "            sorted_array.append(arr[j])\n",
    "            j += 1\n",
    "        elif (i > q) and (j <= r):\n",
    "            sorted_array.append(arr[j])\n",
    "            j += 1\n",
    "        elif (j > r) and (i <= q):\n",
    "            sorted_array.append(arr[i])\n",
    "            i += 1\n",
    "            \n",
    "    # copying the elements of the 'sorted_array' back in the 'arr'\n",
    "    for i in range(p, r+1):\n",
    "        arr[i] = sorted_array[i-p]\n",
    "\n",
    "    return arr\n",
    "\n",
    "\n",
    "input_array = [5, 8, 8, 14, 16, 20, 3, 4, 8, 16, 17, 18, 18, 22, 24]\n",
    "\n",
    "result = merge_sort(input_array, 0, len(input_array) - 1)\n",
    "\n",
    "print(result)\n"
   ]
  },
  {
   "cell_type": "markdown",
   "id": "667fb8ad-933f-4bdb-927b-e3ce9336a1bb",
   "metadata": {},
   "source": [
    "<br>\n",
    "\n",
    "<span style=\"color: blue\">Since **Python is call by reference**, therefore it sends only the address, not the object itself. Thus the object remains the same.\n",
    "So, even if we does not return the array, it will work. Because, the modifications in the given array are being done **in-place**.</span> \n",
    "\n",
    "<br>"
   ]
  },
  {
   "cell_type": "code",
   "execution_count": 4,
   "id": "85520437-c3e9-4e7a-be50-3d8d6ca59320",
   "metadata": {},
   "outputs": [
    {
     "name": "stdout",
     "output_type": "stream",
     "text": [
      "[3, 4, 5, 8, 8, 8, 14, 16, 16, 17, 18, 18, 20, 22, 24]\n"
     ]
    }
   ],
   "source": [
    "\n",
    "\n",
    "def merge_sort(arr, p, r): \n",
    "    if (p < r): \n",
    "        q = int((p + r) / 2)\n",
    "        merge_sort(arr, p, q)        # recursion\n",
    "        merge_sort(arr, q+1, r)      # recursion\n",
    "        merge(arr, p, q, r)\n",
    "\n",
    "\n",
    "def merge(arr, p, q, r):\n",
    "    sorted_array = []\n",
    "    i = p\n",
    "    j = q + 1\n",
    "    for k in range(p, r+1):\n",
    "        if ((i <= q) and (j <= r) and arr[i] <= arr[j]):\n",
    "            sorted_array.append(arr[i])\n",
    "            i += 1\n",
    "        elif (arr[i] > arr[j]) and (i <= q) and (j <= r):\n",
    "            sorted_array.append(arr[j])\n",
    "            j += 1\n",
    "        elif (i > q) and (j <= r):\n",
    "            sorted_array.append(arr[j])\n",
    "            j += 1\n",
    "        elif (j > r) and (i <= q):\n",
    "            sorted_array.append(arr[i])\n",
    "            i += 1\n",
    "            \n",
    "    # copying the elements of the 'sorted_array' back in the 'arr'\n",
    "    for i in range(p, r+1):\n",
    "        arr[i] = sorted_array[i-p]\n",
    "\n",
    "\n",
    "input_array = [5, 8, 8, 14, 16, 20, 3, 4, 8, 16, 17, 18, 18, 22, 24]\n",
    "\n",
    "merge_sort(input_array, 0, len(input_array) - 1)\n",
    "\n",
    "print(input_array)\n"
   ]
  },
  {
   "cell_type": "markdown",
   "id": "68295d8a-f727-4306-97f4-e33fe1c1e570",
   "metadata": {},
   "source": [
    "\n",
    "<br>\n",
    "\n",
    "<span style=\"color:#FC02BB\"> <strong>SOLUTION - 2</strong> \n",
    "\n",
    "</span> The merge code can be optimized like the following:\n",
    "<pre>\n",
    "    <br>\n",
    "                                 if ( <span style=\"background-color: #FEFFC5\"><span style=\"color: blue\">arr</span>[<span style=\"color: red\"><strong>i</strong></span>] <= <span style=\"color: blue\">arr</span>[<span style=\"color: red\"><strong>j</strong></span>]</span> ) or ( <span style=\"background-color: #FEFFC5\"><span style=\"color: red\"><strong>j</strong></span> > <span style=\"color: red\"><strong>r</strong></span></span> ):\n",
    "                                        sorted_array.append(<code style=\"color: blue\">arr</code>[<span style=\"color: red\"><strong>i</strong></span>])\n",
    "                                        <span style=\"color: red\"><strong>i</strong></span> = <span style=\"color: red\"><strong>i</strong></span> + 1\n",
    "                                 elsif ( <span style=\"background-color: #FEFFC5\"><span style=\"color: blue\">arr</span>[<span style=\"color: red\"><strong>i</strong></span>] > <span style=\"color: blue\">arr</span>[<span style=\"color: red\"><strong>j</strong></span>]</span> ) or ( <span style=\"background-color: #FEFFC5\"><span style=\"color: red\"><strong>i</strong></span> > <span style=\"color: red\"><strong>q</strong></span></span> ):\n",
    "                                        sorted_array.append(<code style=\"color: blue\">arr</code>[<span style=\"color: red\"><strong>j</strong></span>])\n",
    "                                        <span style=\"color: red\"><strong>j</strong></span> = <span style=\"color: red\"><strong>j</strong></span> + 1                                                         \n",
    "</pre>\n",
    "</div>\n",
    "\n",
    "<br>\n",
    "</pre>"
   ]
  },
  {
   "cell_type": "code",
   "execution_count": 5,
   "id": "cbfaa566-10dd-43c2-86e9-51a1154de27d",
   "metadata": {},
   "outputs": [
    {
     "name": "stdout",
     "output_type": "stream",
     "text": [
      "[3, 4, 5, 8, 8, 8, 14, 16, 16, 17, 18, 18, 20, 22, 24]\n"
     ]
    }
   ],
   "source": [
    "\n",
    "def merge_sort(arr, p, r): \n",
    "    if (p < r): \n",
    "        q = int((p + r) / 2)\n",
    "        merge_sort(arr, p, q)        # recursion\n",
    "        merge_sort(arr, q+1, r)      # recursion\n",
    "        merge(arr, p, q, r)\n",
    "\n",
    "\n",
    "def merge(arr, p, q, r):\n",
    "    sorted_array = []\n",
    "    i = p\n",
    "    j = q + 1\n",
    "    for k in range(p, r+1):\n",
    "        if ( (i <= q) and (j <= r) and arr[i] <= arr[j] ) or ( (j > r) and (i <= q) ):\n",
    "            sorted_array.append(arr[i])\n",
    "            i += 1\n",
    "        elif ( (i <= q) and (j <= r) and arr[i] > arr[j] ) or ( (i > q) and (j <= r) ):\n",
    "            sorted_array.append(arr[j])\n",
    "            j += 1\n",
    "            \n",
    "    # copying the elements of the 'sorted_array' back in the 'arr'\n",
    "    for i in range(p, r+1):\n",
    "        arr[i] = sorted_array[i-p]\n",
    "\n",
    "\n",
    "input_array = [5, 8, 8, 14, 16, 20, 3, 4, 8, 16, 17, 18, 18, 22, 24]\n",
    "\n",
    "merge_sort(input_array, 0, len(input_array) - 1)\n",
    "\n",
    "print(input_array)\n"
   ]
  },
  {
   "cell_type": "code",
   "execution_count": null,
   "id": "207b2122-d393-4c87-9474-a9123c3ee432",
   "metadata": {},
   "outputs": [],
   "source": []
  },
  {
   "cell_type": "markdown",
   "id": "490478d9-5687-4b2e-a8af-aff7449a9dbd",
   "metadata": {},
   "source": [
    "##### <span style=\"color: blue\">3  ===> 2 Sum </span>"
   ]
  },
  {
   "cell_type": "markdown",
   "id": "56c27b7d-2b39-4e7b-8eb1-0befdb2490a9",
   "metadata": {},
   "source": [
    "<br>\n",
    "\n",
    "<span style=\"color: #DCBD10\">▬▬▬▬▬▬▬▬▬▬▬▬▬▬▬▬▬▬▬▬▬▬▬▬▬▬▬▬▬▬▬▬▬▬▬▬▬▬▬▬▬▬▬▬▬▬▬▬▬▬▬▬▬▬▬▬▬▬▬▬▬▬▬▬▬▬▬▬▬▬▬▬▬▬▬▬</span>\n",
    "\n",
    "<br>\n",
    "\n",
    "<div style=\"padding: 10px; background-color: #E2FFEC\">\n",
    "\n",
    "<u>**QUESTION 3**</u> : &nbsp;2 Sum\n",
    "\n",
    "</div>\n",
    "\n",
    "<br>\n",
    "\n",
    "<span style=\"background-color: yellow\">&nbsp;**Variant - 1** => Check if there is atleast 1 such pair in an array whose sum is equal to the given target value&nbsp;</span>\n",
    "\n",
    "<br>\n",
    "\n",
    "<span style=\"color: #FC02BB\"> <strong>SOLUTION - 1</strong> </span> ===> <span style=\"color: red\">Brute Force</span>\n",
    "\n",
    "**Hint** - Find all possible pairs for each number in the given array."
   ]
  },
  {
   "cell_type": "code",
   "execution_count": 1,
   "id": "fc3e610d-bb1c-44fb-80e7-493e0fc307e3",
   "metadata": {},
   "outputs": [
    {
     "name": "stdout",
     "output_type": "stream",
     "text": [
      "True\n"
     ]
    }
   ],
   "source": [
    "\n",
    "def have_two_sum_pairs(arr, target):\n",
    "    for i in range(0, len(arr)):\n",
    "        for j in range(i+1, len(arr)-1):\n",
    "            if arr[i] + arr[j] == target:\n",
    "                return True\n",
    "    return False\n",
    "\n",
    "\n",
    "arr = [2,7,11,15]\n",
    "target = 9\n",
    "\n",
    "\n",
    "print(have_two_sum_pairs(arr, target))\n"
   ]
  },
  {
   "cell_type": "markdown",
   "id": "5805fe86-1fc3-4344-a3ab-f87aa12b46cc",
   "metadata": {},
   "source": [
    "Time-complexity ====> O(n**2)  <br>\n",
    "Space-complexity ===> O(1)\n",
    "\n",
    "<br>\n",
    "\n",
    "<span style=\"color: #FC02BB\"> <strong>SOLUTION - 2</strong> </span> ===> <span style=\"color: red\">using Set</span> (No need of dictionary)\n",
    "\n",
    "**Hint** - For every element <span style=\"background-color: yellow\"><font size=\"+1\">&nbsp;X&nbsp;</font></span> in the array, check whether <span style=\"background-color: yellow\"><font size=\"+1\">&nbsp;Target - X&nbsp;</font></span> is present  in the dictionary. If yes, then return True or else just keep adding the element x in the dictionary."
   ]
  },
  {
   "cell_type": "code",
   "execution_count": 55,
   "id": "d60434f0-9c8b-4123-b837-fa7bfb5a0141",
   "metadata": {},
   "outputs": [
    {
     "name": "stdout",
     "output_type": "stream",
     "text": [
      "True\n"
     ]
    }
   ],
   "source": [
    "\n",
    "# using DICTIONARY\n",
    "\n",
    "def have_two_sum_pairs(arr, target):\n",
    "    my_dict = {}\n",
    "    for x in arr:\n",
    "        if my_dict.get(target - x, 0) == 0:\n",
    "            my_dict[x] = 1\n",
    "        else:\n",
    "            return True\n",
    "    return False\n",
    "            \n",
    " \n",
    "arr = [2,7,11,15]\n",
    "target = 9\n",
    "\n",
    "\n",
    "print(have_two_sum_pairs(arr, target))\n"
   ]
  },
  {
   "cell_type": "code",
   "execution_count": 56,
   "id": "219e2b0c-9043-494a-a17a-2e140195bb2e",
   "metadata": {},
   "outputs": [
    {
     "name": "stdout",
     "output_type": "stream",
     "text": [
      "True\n"
     ]
    }
   ],
   "source": [
    "\n",
    "# using SET\n",
    "\n",
    "def have_two_sum_pairs(arr, target):\n",
    "    arr_set = set()\n",
    "    for x in arr:\n",
    "        if target - x not in arr_set:   # to check if an element (x) is present in a set (arr_set) or not, we can also use arr_set.__contains__(x)\n",
    "            arr_set.add(x)\n",
    "        else:\n",
    "            return True\n",
    "    return False\n",
    "            \n",
    " \n",
    "arr = [2, 7, 11, 15]\n",
    "target = 9\n",
    "\n",
    "\n",
    "print(have_two_sum_pairs(arr, target))\n"
   ]
  },
  {
   "cell_type": "markdown",
   "id": "83ecfdb9-71ba-47ac-b667-8356822c89e2",
   "metadata": {},
   "source": [
    "Time-complexity ====> Avg = O(n) but Worst = O(n**2) <br>\n",
    "Space-complexity ===> O(1)\n",
    "\n",
    "<br>\n",
    "\n",
    "<span style=\"color: #FC02BB\"> <strong>SOLUTION - 3</strong> </span> ===> <span style=\"color: red\">using 2 pointers</span>\n",
    "\n",
    "**Hint** - We will first sort the array and then take 2 pointers to start comparing one from the begining and another from the end.  <br>\n",
    "\n",
    "<div style=\"border: 1px solid pink; padding: 10px;\">\n",
    "    \n",
    "```python\n",
    "If arr[i] < target:\n",
    "    i++ \n",
    "else if arr[i] > target:\n",
    "    j-- \n",
    "else \n",
    "    return False\n",
    "```\n",
    "</div>"
   ]
  },
  {
   "cell_type": "code",
   "execution_count": 4,
   "id": "8e3ccf19-ce2c-4e37-b338-2c4f731fcc48",
   "metadata": {},
   "outputs": [
    {
     "name": "stdout",
     "output_type": "stream",
     "text": [
      "True\n"
     ]
    }
   ],
   "source": [
    "\n",
    "def have_two_sum_pairs(arr, target):\n",
    "    arr.sort()\n",
    "    i =  0\n",
    "    j = len(arr) - 1\n",
    "    while i < j:\n",
    "        if arr[i] + arr[j] < target:\n",
    "            i = i + 1 \n",
    "        elif arr[i] + arr[j] > target:\n",
    "            j = j - 1\n",
    "        else:\n",
    "            return True\n",
    "    return False\n",
    "\n",
    "\n",
    " \n",
    "arr = [2,7,11,15]\n",
    "target = 9\n",
    "\n",
    "\n",
    "print(have_two_sum_pairs(arr, target))\n"
   ]
  },
  {
   "cell_type": "markdown",
   "id": "06adbf49-698b-4cc8-ba85-cdcb146ea703",
   "metadata": {},
   "source": [
    "<br>\n",
    "\n",
    "<span style=\"background-color: yellow\">&nbsp;**Variant - 2** => Given an array and a target, return indices of the two numbers such that they add up to target.&nbsp;</span>\n",
    "\n",
    "&nbsp;&nbsp;&nbsp;&nbsp;&nbsp;&nbsp;&nbsp;&nbsp;&nbsp;&nbsp;&nbsp;&nbsp;&nbsp;&nbsp;&nbsp;&nbsp;&nbsp;&nbsp;&nbsp;&nbsp;&nbsp;&nbsp;&nbsp;&nbsp;&nbsp;&nbsp;You may assume that each input would have **exactly one solution**, and you may not use the same element twice.\n",
    "\n",
    "&nbsp;&nbsp;&nbsp;&nbsp;&nbsp;&nbsp;&nbsp;&nbsp;&nbsp;&nbsp;&nbsp;&nbsp;&nbsp;&nbsp;&nbsp;&nbsp;&nbsp;&nbsp;&nbsp;&nbsp;&nbsp;&nbsp;&nbsp;&nbsp;&nbsp;&nbsp;You can return the answer in any order.\n",
    "\n",
    "<br>\n",
    "\n",
    "<div style=\"padding: 10px; background-color: #FFF3FF\">\n",
    "    \n",
    "**Hint** - 1. &nbsp;&nbsp; Initialise an empty **dictionary**      <br>\n",
    "&nbsp;&nbsp;&nbsp;&nbsp;&nbsp;&nbsp;&nbsp;&nbsp;&nbsp;&nbsp;&nbsp;2. &nbsp;&nbsp; Iterate over the given array from beiging to end    <br>\n",
    "&nbsp;&nbsp;&nbsp;&nbsp;&nbsp;&nbsp;&nbsp;&nbsp;&nbsp;&nbsp;&nbsp;3. &nbsp;&nbsp; For every element <span style=\"background-color: yellow\"><font size=\"+1\">&nbsp;X&nbsp;</font></span> in the array, check whether <span style=\"background-color: yellow\"><font size=\"+1\">&nbsp;Target - X&nbsp;</font></span> is present in the dictionary or not    <br>\n",
    "&nbsp;&nbsp;&nbsp;&nbsp;&nbsp;&nbsp;&nbsp;&nbsp;&nbsp;&nbsp;&nbsp;4. &nbsp;&nbsp; If not present store the element <span style=\"background-color: yellow\"><font size=\"+1\">&nbsp;X&nbsp;</font></span> in the dictionary along with it's **index** as **key-value** pair      <br>\n",
    "&nbsp;&nbsp;&nbsp;&nbsp;&nbsp;&nbsp;&nbsp;&nbsp;&nbsp;&nbsp;&nbsp;5. &nbsp;&nbsp; If present return the index of both <span style=\"background-color: yellow\"><font size=\"+1\">&nbsp;X&nbsp;</font></span> and <span style=\"background-color: yellow\"><font size=\"+1\">&nbsp;Target - X&nbsp;</font></span>\n",
    "\n",
    "</div>\n"
   ]
  },
  {
   "cell_type": "code",
   "execution_count": 28,
   "id": "a7d17dad-7035-447d-b986-a759c9d81095",
   "metadata": {},
   "outputs": [
    {
     "data": {
      "text/plain": [
       "(1, 0)"
      ]
     },
     "execution_count": 28,
     "metadata": {},
     "output_type": "execute_result"
    }
   ],
   "source": [
    "\n",
    "def two_sum_first_pair(arr, target):\n",
    "    arr_dict = {}\n",
    "    for i in range(0, len(arr)):\n",
    "        if arr_dict.get(target - arr[i], -1) == -1:\n",
    "            arr_dict[arr[i]] = i\n",
    "        else:\n",
    "            return (i, arr_dict[target -arr[i]])\n",
    "    return \"no such pair found\"\n",
    "\n",
    "\n",
    "arr = [2,7,11,15]\n",
    "target = 9\n",
    "\n",
    "two_sum_first_pair(arr, target)\n"
   ]
  },
  {
   "cell_type": "code",
   "execution_count": 29,
   "id": "c9e6a62d-b5a5-4fb1-98ef-6ed5a02c878e",
   "metadata": {},
   "outputs": [
    {
     "data": {
      "text/plain": [
       "(3, 2)"
      ]
     },
     "execution_count": 29,
     "metadata": {},
     "output_type": "execute_result"
    }
   ],
   "source": [
    "\n",
    "arr = [2,7,3,5]\n",
    "target = 8\n",
    "\n",
    "two_sum_first_pair(arr, target)\n"
   ]
  },
  {
   "cell_type": "markdown",
   "id": "d935b8e6-1682-45e6-828f-6fde71af772b",
   "metadata": {},
   "source": [
    "<br>\n",
    "\n",
    "<span style=\"background-color: yellow\">&nbsp;**Variant - 3** => Given an array and a target, return all the pairs of the two numbers such that they add up to target.&nbsp;</span>\n",
    "\n",
    "&nbsp;&nbsp;&nbsp;&nbsp;&nbsp;&nbsp;&nbsp;&nbsp;&nbsp;&nbsp;&nbsp;&nbsp;&nbsp;&nbsp;&nbsp;&nbsp;&nbsp;&nbsp;&nbsp;&nbsp;&nbsp;&nbsp;&nbsp;&nbsp;&nbsp;&nbsp;You can not use the same element twice. However the array may contain duplicates\n",
    "\n",
    "&nbsp;&nbsp;&nbsp;&nbsp;&nbsp;&nbsp;&nbsp;&nbsp;&nbsp;&nbsp;&nbsp;&nbsp;&nbsp;&nbsp;&nbsp;&nbsp;&nbsp;&nbsp;&nbsp;&nbsp;&nbsp;&nbsp;&nbsp;&nbsp;&nbsp;&nbsp;You can return the answer in any order.\n",
    "\n",
    "<br>\n",
    "\n",
    "<span style=\"color: #FC02BB\"> <strong>SOLUTION - 1</strong> </span> ===> <span style=\"color: red\">Brute Force</span>\n",
    "\n",
    "**Hint** - Check for each pair\n"
   ]
  },
  {
   "cell_type": "code",
   "execution_count": 30,
   "id": "5ac45dd3-55fb-4c0c-80e8-3125401f0ca6",
   "metadata": {},
   "outputs": [
    {
     "name": "stdout",
     "output_type": "stream",
     "text": [
      "[[2, 6], [3, 5], [4, 4]]\n"
     ]
    }
   ],
   "source": [
    "\n",
    "def two_sum_all_pairs(arr, target):\n",
    "    result = []\n",
    "    for i in range(0, len(arr)):\n",
    "        for j in range(i+1, len(arr)):\n",
    "            if arr[i] + arr[j] == target:\n",
    "                result.append([arr[i], arr[j]])\n",
    "    return result\n",
    "\n",
    "\n",
    "arr = [2, 7, 3, 5, 6, 8, 4, 4]\n",
    "target = 8\n",
    "\n",
    "print(two_sum_all_pairs(arr, target))\n"
   ]
  },
  {
   "cell_type": "markdown",
   "id": "645151f9-7b8c-45a6-bc0d-c1d94545288c",
   "metadata": {},
   "source": [
    "<br>\n",
    "\n",
    "<span style=\"color: #FC02BB\"> <strong>SOLUTION - 2</strong> </span> ===> <span style=\"color: red\">using **set**</span>\n",
    "\n",
    "<div style=\"padding: 10px; background-color: #FFF3FF\">\n",
    "\n",
    "1. &nbsp;&nbsp; Initialise an **empty set** (to temporarily store the elements and compare) and <br>\n",
    "&nbsp;&nbsp;&nbsp;&nbsp;&nbsp;&nbsp;&nbsp;&nbsp;&nbsp;&nbsp;&nbsp;&nbsp;&nbsp;&nbsp;&nbsp;&nbsp;&nbsp;an **empty set** (to store the duplets temporarirly and also ensure no 2 duplicates are same)   <br>\n",
    "&nbsp;&nbsp;&nbsp;&nbsp;&nbsp;&nbsp;&nbsp;&nbsp;&nbsp;&nbsp;&nbsp;&nbsp;&nbsp;&nbsp;&nbsp;&nbsp;&nbsp;an **empty list** (to store the final resut as list of lists)   <br>\n",
    "\n",
    "2. &nbsp;&nbsp; Iterate over the given array from begining to end    <br>\n",
    "\n",
    "3. &nbsp;&nbsp; For every element &nbsp;<code style=\"background-color: yellow\"><font size=\"+1\">X</font></code>&nbsp; in the array, check whether &nbsp;<code style=\"background-color: yellow\"><font size=\"+1\">Target - X</font></code>&nbsp; is present in the set or not. <br>\n",
    "&nbsp;&nbsp;&nbsp;If present, then store the duplet &nbsp;<code style=\"background-color: yellow\"><font size=\"+1\">[X, Target - X]</font></code>&nbsp; as a list so that each duplet can be **first sorted and then added in the result set**\n",
    "\n",
    "</div>"
   ]
  },
  {
   "cell_type": "code",
   "execution_count": 97,
   "id": "bd21b2ad-9cf3-440d-8d57-47d0b1b12793",
   "metadata": {},
   "outputs": [
    {
     "name": "stdout",
     "output_type": "stream",
     "text": [
      "[[3, 5], [2, 6], [6, 2], [4, 4]]\n"
     ]
    }
   ],
   "source": [
    "\n",
    "def two_sum_all_pairs(arr, target):\n",
    "    arr_set = set()\n",
    "    result = []\n",
    "    for x in arr:\n",
    "        if target - x in arr_set:                # to check if an element (x) is present in a set (arr_set), we can also use arr_set.__contains__(x)\n",
    "            result.append([target- x, x])        # list of lists\n",
    "            # result.append((target- x, x))      # list of tuples\n",
    "        arr_set.add(x)\n",
    "    return result\n",
    "\n",
    "\n",
    "arr = [2, 7, 3, 5, 6, 8, 2, 4, 4]\n",
    "target = 8\n",
    "\n",
    "print(two_sum_all_pairs(arr, target))\n"
   ]
  },
  {
   "cell_type": "markdown",
   "id": "7b721b0c-479a-41ff-9be3-e32223efc998",
   "metadata": {},
   "source": [
    "<span style=\"color: blue\">We need to remove duplicates from the result because (2,6) is effectively same as (6,2) only.</span> <br>\n",
    "<span style=\"color: blue\">This can be easily achieved using **set** to remove the duplicates.</span>"
   ]
  },
  {
   "cell_type": "code",
   "execution_count": 104,
   "id": "c8444b65-640c-423e-9673-6cfa2ee6a08c",
   "metadata": {},
   "outputs": [
    {
     "name": "stdout",
     "output_type": "stream",
     "text": [
      "{(4, 4), (2, 6), (3, 5)}\n"
     ]
    }
   ],
   "source": [
    "\n",
    "def two_sum_all_pairs(arr, target):\n",
    "    arr_set = set()\n",
    "    result_set = set()\n",
    "    for x in arr:\n",
    "        if target - x in arr_set:           # to check if an element (x) is present in a set (arr_set), we can also use arr_set.__contains__(x)\n",
    "            duplet = [target- x, x]\n",
    "            duplet.sort()\n",
    "            # result_set.add(duplet)        # =====> Error: TypeError: unhashable type: 'list'\n",
    "            result_set.add(tuple(duplet))   # since we cannot add a list to a set, we need to first convert it into a tuple and then add in it.\n",
    "        arr_set.add(x)\n",
    "    return result_set\n",
    "\n",
    "\n",
    "arr = [2, 7, 3, 5, 6, 8, 2, 4, 4]\n",
    "target = 8\n",
    "\n",
    "print(two_sum_all_pairs(arr, target))\n"
   ]
  },
  {
   "cell_type": "markdown",
   "id": "8798517c-3319-4fcc-a2c7-bd93c6926d2d",
   "metadata": {},
   "source": [
    "<br>\n",
    "\n",
    "However, instead of using **set**, we could have used **dicitionary** too. <span style=\"color: red\">But why to use dictionary when we can do it using set itself</span> 🤔❓\n",
    "\n",
    "<br>"
   ]
  },
  {
   "cell_type": "code",
   "execution_count": 87,
   "id": "fc02c8bb-0cfc-4b83-ac32-c9e47629a156",
   "metadata": {},
   "outputs": [
    {
     "name": "stdout",
     "output_type": "stream",
     "text": [
      "[(5, 3), (6, 2), (4, 4)]\n"
     ]
    }
   ],
   "source": [
    "\n",
    "def two_sum_all_pairs(arr, target):\n",
    "    arr_dict = {}\n",
    "    result = []\n",
    "    for i in range(0, len(arr)):\n",
    "        if arr_dict.get(target - arr[i], -1) != -1:\n",
    "            result.append((arr[i], target - arr[i]))\n",
    "        arr_dict[arr[i]] = i    # storing the index i of ar[i] as key-value {arr[i] : i} pair\n",
    "    return result\n",
    "\n",
    "arr = [2, 7, 3, 5, 6, 8, 4, 4]\n",
    "target = 8\n",
    "\n",
    "print(two_sum_all_pairs(arr, target))\n"
   ]
  },
  {
   "cell_type": "markdown",
   "id": "f73ccf66-b2ce-475f-9673-2e4469030eff",
   "metadata": {},
   "source": [
    "<br>\n",
    "\n",
    "<span style=\"color: #FC02BB\"> <strong>SOLUTION - 3</strong> </span> ===> <span style=\"color: red\">using **2 pointers**</span>\n",
    "\n",
    "\n",
    "<div style=\"padding: 10px; background-color: #FFF3FF\">\n",
    "\n",
    "1. &nbsp;&nbsp; **Sort** the given array   <br>\n",
    "\n",
    "2. &nbsp;&nbsp; Initialize **2 pointers** ===> &nbsp;<font size=\"+1\"><code style=\"background-color: yellow\">i = 0</code></font>&nbsp; and &nbsp;<font size=\"+1\"><code style=\"background-color: yellow\">j = len(arr) - 1</code></font>&nbsp;    <br>\n",
    "\n",
    "3. &nbsp;&nbsp; **Iterate until** &nbsp;<font size=\"+1\"><code style=\"background-color: yellow\">i < j</code></font>&nbsp; and keep checking <br>\n",
    "\n",
    "&nbsp;&nbsp;&nbsp;&nbsp;&nbsp;&nbsp;&nbsp;&nbsp;&nbsp;&nbsp;&nbsp;3.1. &nbsp;&nbsp; If  &nbsp;<font size=\"+1\"><code style=\"background-color: yellow\">arr[ i ] + arr[ j ] == target</code></font> , <br>\n",
    "&nbsp;&nbsp;&nbsp;&nbsp;&nbsp;&nbsp;&nbsp;&nbsp;&nbsp;&nbsp;&nbsp;&nbsp;&nbsp;&nbsp;&nbsp;&nbsp;&nbsp;&nbsp;&nbsp;&nbsp;&nbsp;&nbsp;&nbsp;&nbsp;&nbsp;then keep appending &nbsp;<font size=\"+1\"><code style=\"background-color: yellow\">[ arr[ i ], arr[ j ] ]</code></font>&nbsp; in a result list   <br>\n",
    "\n",
    "&nbsp;&nbsp;&nbsp;&nbsp;&nbsp;&nbsp;&nbsp;&nbsp;&nbsp;&nbsp;&nbsp;3.2 &nbsp;&nbsp; Else if &nbsp;<font size=\"+1\"><code style=\"background-color: yellow\">arr[ i ] + arr[ j ] < target</code></font>&nbsp;, <br>\n",
    "&nbsp;&nbsp;&nbsp;&nbsp;&nbsp;&nbsp;&nbsp;&nbsp;&nbsp;&nbsp;&nbsp;&nbsp;&nbsp;&nbsp;&nbsp;&nbsp;&nbsp;&nbsp;&nbsp;&nbsp;&nbsp;&nbsp;&nbsp;&nbsp;&nbsp;then keep **increasing i** to move it to the next index where <font size=\"+1\"><code style=\"background-color: yellow\">arr[ next_index_of_i ]</code></font> is different than the current value <font size=\"+1\"><code style=\"background-color: yellow\">arr[ i ]</code></font>     <br>\n",
    "\n",
    "&nbsp;&nbsp;&nbsp;&nbsp;&nbsp;&nbsp;&nbsp;&nbsp;&nbsp;&nbsp;&nbsp;3.3 &nbsp;&nbsp; Else if &nbsp;<font size=\"+1\"><code style=\"background-color: yellow\">arr[ i ] + arr[ j ] > target</code></font>&nbsp;, <br>\n",
    "&nbsp;&nbsp;&nbsp;&nbsp;&nbsp;&nbsp;&nbsp;&nbsp;&nbsp;&nbsp;&nbsp;&nbsp;&nbsp;&nbsp;&nbsp;&nbsp;&nbsp;&nbsp;&nbsp;&nbsp;&nbsp;&nbsp;&nbsp;&nbsp;&nbsp;then keep **decreasing j** to move it to the next index where <font size=\"+1\"><code style=\"background-color: yellow\">&nbsp;arr[ next_index_of_i ]&nbsp;</code></font> is different than the current value <font size=\"+1\"><code style=\"background-color: yellow\">arr[ j ]</code></font>\n",
    "\n",
    "4. &nbsp;&nbsp; Return the result\n",
    "\n",
    "</div>"
   ]
  },
  {
   "cell_type": "code",
   "execution_count": 88,
   "id": "93b9542e-3c6e-4a3d-a053-ecbabc558686",
   "metadata": {},
   "outputs": [
    {
     "name": "stdout",
     "output_type": "stream",
     "text": [
      "[[2, 6], [3, 5], [4, 4]]\n"
     ]
    }
   ],
   "source": [
    "\n",
    "def two_sum_all_pairs(arr, target):\n",
    "    arr.sort()\n",
    "    i = 0 \n",
    "    j = len(arr) - 1\n",
    "    result = []\n",
    "    while i < j:\n",
    "        if arr[i] + arr[j] == target:\n",
    "            result.append([arr[i], arr[j]])\n",
    "            i = i + 1\n",
    "            j = j - 1\n",
    "        elif arr[i] + arr[j] < target:\n",
    "            temp = arr[i]\n",
    "            for k in range(i+1, len(arr)):\n",
    "                if arr[k] != temp:\n",
    "                    i = k\n",
    "                    break\n",
    "        elif arr[i] + arr[j] > target:\n",
    "            temp = arr[j]\n",
    "            for k in range(j-1, -1, -1):\n",
    "                if arr[k] != temp:\n",
    "                    j = k\n",
    "                    break\n",
    "    return result\n",
    "            \n",
    "            \n",
    "arr = [2, 7, 3, 5, 6, 8, 4, 4]\n",
    "target = 8\n",
    "\n",
    "print(two_sum_all_pairs(arr, target))    \n"
   ]
  },
  {
   "cell_type": "code",
   "execution_count": null,
   "id": "a6ec1c4a-cc72-468b-bce3-0e55f85d7d67",
   "metadata": {},
   "outputs": [],
   "source": []
  },
  {
   "cell_type": "markdown",
   "id": "9fca47d0-89bc-4862-9dd1-b65d3d42c412",
   "metadata": {},
   "source": [
    "##### <span style=\"color: blue\">4  ===> 3 Sum </span>"
   ]
  },
  {
   "cell_type": "markdown",
   "id": "cf3a9f9e-c322-4dfb-a1d1-47b10ecc3a87",
   "metadata": {},
   "source": [
    "<br>\n",
    "\n",
    "<span style=\"color: #DCBD10\">▬▬▬▬▬▬▬▬▬▬▬▬▬▬▬▬▬▬▬▬▬▬▬▬▬▬▬▬▬▬▬▬▬▬▬▬▬▬▬▬▬▬▬▬▬▬▬▬▬▬▬▬▬▬▬▬▬▬▬▬▬▬▬▬▬▬▬▬▬▬▬▬▬▬▬▬</span>\n",
    "\n",
    "<br>\n",
    "\n",
    "<div style=\"padding: 10px; background-color: #E2FFEC\">\n",
    "\n",
    "<u>**QUESTION 4**</u> : &nbsp;3 Sum\n",
    "\n",
    "</div>\n",
    "\n",
    "<br>\n",
    "\n",
    "<span style=\"background-color: yellow\">&nbsp;Given an integer array nums, return all the triplets <code>[ nums[i], nums[j], nums[k] ]</code> such that <code>i != j</code> , <code>i != k</code> , and <code>j != k</code> , and <code>nums[i] + nums[j] + nums[k] == target</code>&nbsp;</span>\n",
    "\n",
    "Notice that the solution set must not contain duplicate triplets.\n",
    "\n",
    "<br>\n",
    "\n",
    "<span style=\"color: #FC02BB\"> <strong>SOLUTION - 1</strong> </span> ===> <span style=\"color: red\">Brute Force</span>\n",
    "\n",
    "**Hint** - Find all possible triplets for each number in the given array."
   ]
  },
  {
   "cell_type": "code",
   "execution_count": 90,
   "id": "890bd341-7ea6-46b5-bb8b-e53e21541970",
   "metadata": {},
   "outputs": [
    {
     "name": "stdout",
     "output_type": "stream",
     "text": [
      "[(-1, 0, 1), (-1, -1, 2)]\n"
     ]
    }
   ],
   "source": [
    "\n",
    "def three_sum(arr, target):\n",
    "    result = set()\n",
    "    for i in range(0, len(arr)):\n",
    "        for j in range(i+1, len(arr)):\n",
    "            for k in range(j+1, len(arr)):\n",
    "                if arr[i] + arr[j] + arr[k] == target:\n",
    "                    triplet = [arr[i], arr[j], arr[k]]\n",
    "                    triplet.sort()\n",
    "                    # result.add(triplet)        # =====> Error: TypeError: unhashable type: 'list'\n",
    "                    result.add(tuple(triplet))   # since we cannot add a list to a set, we need to first convert it into a tuple and then add in it.\n",
    "    return list(result)\n",
    "                    \n",
    "\n",
    "nums = [-1, 0, 1, 2, -1, -4]\n",
    "target = 0\n",
    "\n",
    "print(three_sum(nums, target))\n",
    "       "
   ]
  },
  {
   "cell_type": "markdown",
   "id": "c6f12e70-94cb-4a11-80e0-287c052d2cf3",
   "metadata": {},
   "source": [
    "<br>\n",
    "\n",
    "However if you want to return the result as **list of lists**, then you gonna have to iterate it in a loop like the following:"
   ]
  },
  {
   "cell_type": "code",
   "execution_count": 92,
   "id": "e773d54f-e057-496a-824d-f61e54336dd1",
   "metadata": {},
   "outputs": [
    {
     "name": "stdout",
     "output_type": "stream",
     "text": [
      "[[-1, 0, 1], [-1, -1, 2]]\n"
     ]
    }
   ],
   "source": [
    "\n",
    "def three_sum(arr, target):\n",
    "    set_of_triplets = set()\n",
    "    for i in range(0, len(arr)):\n",
    "        for j in range(i+1, len(arr)):\n",
    "            for k in range(j+1, len(arr)):\n",
    "                if arr[i] + arr[j] + arr[k] == target:\n",
    "                    triplet = [arr[i], arr[j], arr[k]]\n",
    "                    triplet.sort()\n",
    "                    # result.add(triplet)        # =====> Error: TypeError: unhashable type: 'list'\n",
    "                    set_of_triplets.add(tuple(triplet))   # since we can't add a list to a set, first convert it into a tuple and then add in it.\n",
    "    list_of_triplets = []\n",
    "    for i in set_of_triplets:\n",
    "        list_of_triplets.append(list(i))\n",
    "    return list_of_triplets\n",
    "        \n",
    "nums = [-1, 0, 1, 2, -1, -4]\n",
    "target = 0\n",
    "\n",
    "print(three_sum(nums, target))\n"
   ]
  },
  {
   "cell_type": "markdown",
   "id": "fd041928-e70e-46fa-a09e-21a8e8d242a9",
   "metadata": {},
   "source": [
    "<br>\n",
    "\n",
    "<span style=\"color: #FC02BB\"> <strong>SOLUTION - 2</strong> </span> ===> <span style=\"color: red\">using **dictionary**</span>\n",
    "\n",
    "<div style=\"padding: 10px; background-color: #FFF3FF\">\n",
    "\n",
    "1. &nbsp;&nbsp; Initialise an **empty dictionary** (to temporarily store the **elements as keys** along with their **indexes as values** and compare) and <br>\n",
    "&nbsp;&nbsp;&nbsp;&nbsp;&nbsp;&nbsp;&nbsp;&nbsp;&nbsp;&nbsp;&nbsp;&nbsp;&nbsp;&nbsp;&nbsp;&nbsp;&nbsp;an **empty set** (to store the triplets temporarirly and also ensure no 2 triplets are same)   <br>\n",
    "&nbsp;&nbsp;&nbsp;&nbsp;&nbsp;&nbsp;&nbsp;&nbsp;&nbsp;&nbsp;&nbsp;&nbsp;&nbsp;&nbsp;&nbsp;&nbsp;&nbsp;an **empty list** (to store the final resut as list of lists)   <br>\n",
    "\n",
    "2. &nbsp;&nbsp; <font size=\"+1\"><code>for i in range(0, len(arr)):</code>  <br>\n",
    "&nbsp;&nbsp;&nbsp;&nbsp;&nbsp;&nbsp;&nbsp;&nbsp;&nbsp;&nbsp;&nbsp;<code>for j in range(i+1, len(arr)):</code></font>\n",
    "\n",
    "&nbsp;&nbsp;&nbsp;&nbsp;&nbsp;&nbsp;&nbsp;&nbsp;&nbsp;&nbsp;&nbsp;&nbsp;&nbsp;&nbsp;&nbsp;&nbsp;&nbsp;&nbsp;&nbsp;&nbsp;&nbsp;&nbsp;&nbsp;&nbsp;&nbsp;&nbsp;&nbsp;&nbsp;&nbsp;&nbsp;<font size=\"+1\">↳</font> For every pair of <font size=\"+1\"><code style=\"color: red\">i</code></font> &nbsp;&&nbsp; <font size=\"+1\"><code style=\"color: red\">j</code></font> in the array, check whether <code style=\"background-color: yellow\"><font size=\"+1\">Target - (arr[i] + arr[j])</font></code> is present in the **dictionary** or not.    <br>\n",
    "\n",
    "&nbsp;&nbsp;&nbsp;&nbsp;&nbsp;&nbsp;&nbsp;&nbsp;&nbsp;&nbsp;&nbsp;&nbsp;&nbsp;&nbsp;&nbsp;&nbsp;&nbsp;&nbsp;&nbsp;&nbsp;&nbsp;&nbsp;&nbsp;&nbsp;&nbsp;&nbsp;&nbsp;&nbsp;&nbsp;&nbsp;<font size=\"+1\">↳</font> Also check and ensure that the index of the <code style=\"background-color: yellow\"><font size=\"+1\">Target - (arr[i] + arr[j])</font></code> should neither be same as <font size=\"+1\"><code style=\"color: red\">i</code></font> &nbsp;or&nbsp; <font size=\"+1\"><code style=\"color: red\">j</code></font>     <br>\n",
    "\n",
    "&nbsp;&nbsp;&nbsp;&nbsp;&nbsp;&nbsp;&nbsp;&nbsp;&nbsp;&nbsp;&nbsp;&nbsp;&nbsp;&nbsp;&nbsp;&nbsp;&nbsp;&nbsp;&nbsp;&nbsp;&nbsp;&nbsp;&nbsp;&nbsp;&nbsp;&nbsp;&nbsp;&nbsp;&nbsp;&nbsp;<font size=\"+1\">↳</font> If present, then store the triplet &nbsp;<code style=\"background-color: yellow\"><font size=\"+1\">[ arr[i], arr[j], target - (arr[i] + arr[j]) ]</font></code>&nbsp; as a list <br>\n",
    "&nbsp;&nbsp;&nbsp;&nbsp;&nbsp;&nbsp;&nbsp;&nbsp;&nbsp;&nbsp;&nbsp;&nbsp;&nbsp;&nbsp;&nbsp;&nbsp;&nbsp;&nbsp;&nbsp;&nbsp;&nbsp;&nbsp;&nbsp;&nbsp;&nbsp;&nbsp;&nbsp;&nbsp;&nbsp;&nbsp;&nbsp;&nbsp;&nbsp;&nbsp;so that each triplet can be **first sorted and then added in the result set**\n",
    "\n",
    "    \n",
    "    \n",
    "\n",
    "\n",
    "\n",
    "</div>"
   ]
  },
  {
   "cell_type": "code",
   "execution_count": 105,
   "id": "cd99fc70-57d2-4a80-9b9c-b869bd36031c",
   "metadata": {},
   "outputs": [
    {
     "name": "stdout",
     "output_type": "stream",
     "text": [
      "{(-1, 0, 1), (-1, -1, 2)}\n"
     ]
    }
   ],
   "source": [
    "\n",
    "def three_sum(arr, target):\n",
    "    result = set()\n",
    "    arr_dict = {}\n",
    "    arr_dict[arr[0]] = 0\n",
    "    n = len(arr)\n",
    "    for i in range(0, n):\n",
    "        for j in range(i+1, n):\n",
    "            complement = target - (arr[i] + arr[j])   # new target\n",
    "            if complement in arr_dict and arr_dict[complement] != i and arr_dict[complement] != j:\n",
    "                triplet = [arr[i], arr[j], complement]\n",
    "                triplet.sort()\n",
    "                result.add(tuple(triplet))\n",
    "            arr_dict[arr[j]] = j\n",
    "    return result\n",
    "\n",
    "                \n",
    "nums = [-1, 0, 1, 2, -1, -4]\n",
    "target = 0\n",
    "\n",
    "print(three_sum(nums, target))\n"
   ]
  },
  {
   "cell_type": "markdown",
   "id": "3c8c48db-3c79-48d7-8eff-dde3b6707d1a",
   "metadata": {},
   "source": [
    "<br>\n",
    "\n",
    "However if you want to return the result as **list of lists**, then you gonna have to iterate it in a loop like the following:"
   ]
  },
  {
   "cell_type": "code",
   "execution_count": 106,
   "id": "eca58a55-ed82-49f0-94bb-0624143d71b8",
   "metadata": {},
   "outputs": [
    {
     "name": "stdout",
     "output_type": "stream",
     "text": [
      "[(-1, 0, 1), (-1, -1, 2)]\n"
     ]
    }
   ],
   "source": [
    "\n",
    "def three_sum(arr, target):\n",
    "    arr_set = set()\n",
    "    arr_dict = {}\n",
    "    arr_dict[arr[0]] = 0   # initialising the arr_dict with {arr[0]: 0}\n",
    "    n = len(arr)\n",
    "    for i in range(0, n):\n",
    "        for j in range(i+1, n):\n",
    "            complement = target - (arr[i] + arr[j])   # new target\n",
    "            if complement in arr_dict and arr_dict[complement] != i and arr_dict[complement] != j:\n",
    "                triplet = [arr[i], arr[j], complement]\n",
    "                triplet.sort()\n",
    "                arr_set.add(tuple(triplet))\n",
    "            arr_dict[arr[j]] = j     # storing the index i of ar[i] as key-value {arr[i] : i} pair\n",
    "    result = []   # list of triplets\n",
    "    for i in arr_set:\n",
    "        result.append(i)\n",
    "    return result\n",
    "     \n",
    "nums = [-1, 0, 1, 2, -1, -4]\n",
    "target = 0\n",
    "\n",
    "print(three_sum(nums, target))\n"
   ]
  },
  {
   "cell_type": "markdown",
   "id": "46069f5a-7b23-461b-b35f-f3894f2f6255",
   "metadata": {},
   "source": [
    "<br>\n",
    "\n",
    "<span style=\"color: #FC02BB\"> <strong>SOLUTION - 3</strong> </span> ===> <span style=\"color: red\">using **2 pointers**</span>"
   ]
  },
  {
   "cell_type": "code",
   "execution_count": null,
   "id": "fdb3833d-4d5d-458f-885d-e80ecfed210f",
   "metadata": {},
   "outputs": [],
   "source": []
  },
  {
   "cell_type": "code",
   "execution_count": null,
   "id": "0599e62f-f844-41b1-9f5a-a7e479f6ebe3",
   "metadata": {},
   "outputs": [],
   "source": []
  },
  {
   "cell_type": "code",
   "execution_count": null,
   "id": "a99af718-e479-4fa2-bb91-44a2b42993ed",
   "metadata": {},
   "outputs": [],
   "source": []
  },
  {
   "cell_type": "code",
   "execution_count": null,
   "id": "84519d3c-0641-43f2-82db-3b5810757673",
   "metadata": {},
   "outputs": [],
   "source": []
  },
  {
   "cell_type": "code",
   "execution_count": null,
   "id": "15ecac4a-e830-4798-84da-c70b04b1350d",
   "metadata": {},
   "outputs": [],
   "source": []
  },
  {
   "cell_type": "code",
   "execution_count": null,
   "id": "7a53c120-dc6c-4415-9481-11c819a74c69",
   "metadata": {},
   "outputs": [],
   "source": []
  },
  {
   "cell_type": "code",
   "execution_count": null,
   "id": "56a4e39f-a307-426e-a36a-226e3d4fc654",
   "metadata": {},
   "outputs": [],
   "source": []
  },
  {
   "cell_type": "code",
   "execution_count": null,
   "id": "2e7aafe3-bd2f-4b51-a020-3f2bd9e37e4e",
   "metadata": {},
   "outputs": [],
   "source": []
  }
 ],
 "metadata": {
  "kernelspec": {
   "display_name": "Python 3 (ipykernel)",
   "language": "python",
   "name": "python3"
  },
  "language_info": {
   "codemirror_mode": {
    "name": "ipython",
    "version": 3
   },
   "file_extension": ".py",
   "mimetype": "text/x-python",
   "name": "python",
   "nbconvert_exporter": "python",
   "pygments_lexer": "ipython3",
   "version": "3.11.3"
  }
 },
 "nbformat": 4,
 "nbformat_minor": 5
}
