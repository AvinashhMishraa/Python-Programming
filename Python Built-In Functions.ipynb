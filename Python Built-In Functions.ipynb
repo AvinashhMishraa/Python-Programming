{
 "cells": [
  {
   "cell_type": "markdown",
   "id": "5497e237-0706-4b6e-93b0-018feac35cb9",
   "metadata": {},
   "source": [
    "# <u>Python Built-in Functions</u>\n",
    "\n",
    "<br>"
   ]
  },
  {
   "cell_type": "markdown",
   "id": "7a9b565a-a0d4-4741-a901-e2e5adb33022",
   "metadata": {},
   "source": [
    "<br>\n",
    "\n",
    "<span style=\"background-color: yellow;font-size: larger\">&nbsp;**abs()**&nbsp;</span> : Returns the **absolute value of a number**"
   ]
  },
  {
   "cell_type": "code",
   "execution_count": 4,
   "id": "70900f5a-a70b-4f27-89d8-89e02a88f8d4",
   "metadata": {},
   "outputs": [
    {
     "name": "stdout",
     "output_type": "stream",
     "text": [
      "7.25\n"
     ]
    }
   ],
   "source": [
    "\n",
    "x = abs(-7.25)\n",
    "print(x)\n"
   ]
  },
  {
   "cell_type": "code",
   "execution_count": 5,
   "id": "316ee7af-42cb-4ecb-bcb1-7a7dac6f6988",
   "metadata": {},
   "outputs": [
    {
     "name": "stdout",
     "output_type": "stream",
     "text": [
      "5.830951894845301\n"
     ]
    }
   ],
   "source": [
    "\n",
    "x = abs(3+5j)\n",
    "print(x)\n"
   ]
  },
  {
   "cell_type": "code",
   "execution_count": null,
   "id": "da6f5a57-6379-4e89-9a6d-6088fcd6a23f",
   "metadata": {},
   "outputs": [],
   "source": []
  },
  {
   "cell_type": "markdown",
   "id": "622632ef-a179-48dd-b226-df45c222ac13",
   "metadata": {},
   "source": [
    "<br>\n",
    "\n",
    "<span style=\"background-color: yellow;font-size: larger\">&nbsp;**all()**&nbsp;</span> : Returns <span style=\"color: blue\">**True**</span> if **all items** in an iterable object are **true**"
   ]
  },
  {
   "cell_type": "code",
   "execution_count": 6,
   "id": "3725017f-6234-4af0-82f8-28e923d83420",
   "metadata": {},
   "outputs": [
    {
     "name": "stdout",
     "output_type": "stream",
     "text": [
      "True\n"
     ]
    }
   ],
   "source": [
    "\n",
    "# Check if all items in a list are True:\n",
    "\n",
    "mylist = [True, True, True]\n",
    "x = all(mylist)\n",
    "print(x)\n"
   ]
  },
  {
   "cell_type": "code",
   "execution_count": 7,
   "id": "bb4e2a0f-38c5-4719-abea-ccd88a521485",
   "metadata": {},
   "outputs": [
    {
     "name": "stdout",
     "output_type": "stream",
     "text": [
      "False\n"
     ]
    }
   ],
   "source": [
    "\n",
    "# Check if all items in a list are True:\n",
    "\n",
    "mylist = [True, False, True]\n",
    "x = all(mylist)\n",
    "print(x)\n"
   ]
  },
  {
   "cell_type": "code",
   "execution_count": 8,
   "id": "5f0013ce-7456-4488-98a2-87981a50efec",
   "metadata": {},
   "outputs": [
    {
     "name": "stdout",
     "output_type": "stream",
     "text": [
      "False\n"
     ]
    }
   ],
   "source": [
    "\n",
    "# Check if all items in a list are True:\n",
    "\n",
    "mylist = [0, 1, 1]\n",
    "x = all(mylist)\n",
    "print(x)\n"
   ]
  },
  {
   "cell_type": "code",
   "execution_count": 9,
   "id": "48cf58dd-3de3-4480-82a8-09871e4668a5",
   "metadata": {},
   "outputs": [
    {
     "name": "stdout",
     "output_type": "stream",
     "text": [
      "True\n"
     ]
    }
   ],
   "source": [
    "\n",
    "# Check if all items in a list are True:\n",
    "\n",
    "mylist = [1, 1, 1]\n",
    "x = all(mylist)\n",
    "print(x)\n"
   ]
  },
  {
   "cell_type": "code",
   "execution_count": 10,
   "id": "4b5bc486-ec0a-4d36-8fe5-64fcc2475ca2",
   "metadata": {},
   "outputs": [
    {
     "name": "stdout",
     "output_type": "stream",
     "text": [
      "True\n"
     ]
    }
   ],
   "source": [
    "\n",
    "# Check if all items in a list are True:\n",
    "\n",
    "mylist = [-1, 1, 2]\n",
    "x = all(mylist)\n",
    "print(x)\n"
   ]
  },
  {
   "cell_type": "code",
   "execution_count": 11,
   "id": "e6b1b4cb-7fea-4797-82c9-eb78fac012d0",
   "metadata": {},
   "outputs": [
    {
     "name": "stdout",
     "output_type": "stream",
     "text": [
      "False\n"
     ]
    }
   ],
   "source": [
    "\n",
    "# Check if all items in a tuple are True:\n",
    "\n",
    "mytuple = (0, True, False)\n",
    "x = all(mytuple)\n",
    "print(x)\n"
   ]
  },
  {
   "cell_type": "code",
   "execution_count": 12,
   "id": "2cd8501b-ac40-4be3-b7fe-1c35a822d9a5",
   "metadata": {},
   "outputs": [
    {
     "name": "stdout",
     "output_type": "stream",
     "text": [
      "False\n"
     ]
    }
   ],
   "source": [
    "\n",
    "# Check if all items in a set are True:\n",
    "\n",
    "myset = {0, 1, 0}\n",
    "x = all(myset)\n",
    "print(x)\n"
   ]
  },
  {
   "cell_type": "code",
   "execution_count": 13,
   "id": "ca6111d6-8e07-4d16-9889-1c48a853f2c9",
   "metadata": {},
   "outputs": [
    {
     "name": "stdout",
     "output_type": "stream",
     "text": [
      "False\n"
     ]
    }
   ],
   "source": [
    "\n",
    "# Check if all items in a dictionary are True:\n",
    "\n",
    "mydict = {0 : \"Apple\", 1 : \"Orange\"}\n",
    "x = all(mydict)\n",
    "print(x)\n"
   ]
  },
  {
   "cell_type": "markdown",
   "id": "2c4564b0-7642-4747-8e44-c7a8ac9053d6",
   "metadata": {},
   "source": [
    "<br>\n",
    "\n",
    "<span style=\"background-color: #CAFEFD\">If the iterable object is **empty**</span>, the <span style=\"color: red\">&nbsp;**all()**&nbsp;</span> function returns **True**."
   ]
  },
  {
   "cell_type": "code",
   "execution_count": 14,
   "id": "2d9a3a0f-8c02-4448-9641-d431c21ba61b",
   "metadata": {},
   "outputs": [
    {
     "name": "stdout",
     "output_type": "stream",
     "text": [
      "True\n"
     ]
    }
   ],
   "source": [
    "\n",
    "my_empty_list = []\n",
    "x = all(my_empty_list)\n",
    "print(x)\n"
   ]
  },
  {
   "cell_type": "code",
   "execution_count": null,
   "id": "b704ca95-0cc3-4e8b-909c-7f63e13ee3fe",
   "metadata": {},
   "outputs": [],
   "source": []
  },
  {
   "cell_type": "markdown",
   "id": "e08b38ca-7538-4d5c-9141-611af0ba326e",
   "metadata": {},
   "source": [
    "<br>\n",
    "\n",
    "<span style=\"background-color: yellow;font-size: larger\">&nbsp;**any()**&nbsp;</span> : Returns True if **any item** in an iterable object is **true**.\n"
   ]
  },
  {
   "cell_type": "code",
   "execution_count": 15,
   "id": "77930a38-85b2-45c7-9207-56fd314075f3",
   "metadata": {},
   "outputs": [
    {
     "name": "stdout",
     "output_type": "stream",
     "text": [
      "True\n"
     ]
    }
   ],
   "source": [
    "\n",
    "# Check if any item in a list is True:\n",
    "\n",
    "mylist = [False, True, False]\n",
    "x = any(mylist)\n",
    "print(x)\n"
   ]
  },
  {
   "cell_type": "code",
   "execution_count": 16,
   "id": "ea64fe9c-dd1c-4102-9abb-5cc8fc79a2bd",
   "metadata": {},
   "outputs": [
    {
     "name": "stdout",
     "output_type": "stream",
     "text": [
      "True\n"
     ]
    }
   ],
   "source": [
    "\n",
    "# Check if any item in a tuple is True:\n",
    "\n",
    "mytuple = (0, 1, False)\n",
    "x = any(mytuple)\n",
    "print(x)\n"
   ]
  },
  {
   "cell_type": "code",
   "execution_count": 17,
   "id": "9b2b9adc-f96b-4512-b503-4e47c8cd6ffd",
   "metadata": {},
   "outputs": [
    {
     "name": "stdout",
     "output_type": "stream",
     "text": [
      "True\n"
     ]
    }
   ],
   "source": [
    "\n",
    "# Check if any item in a set is True:\n",
    "\n",
    "myset = {0, 1, 0}\n",
    "x = any(myset)\n",
    "print(x)\n"
   ]
  },
  {
   "cell_type": "code",
   "execution_count": 18,
   "id": "55793b0d-44d4-4083-b582-5c4bf2f91fcc",
   "metadata": {},
   "outputs": [
    {
     "name": "stdout",
     "output_type": "stream",
     "text": [
      "True\n"
     ]
    }
   ],
   "source": [
    "\n",
    "# Check if any item in a dictionary is True:\n",
    "\n",
    "mydict = {0 : \"Apple\", 1 : \"Orange\"}\n",
    "x = any(mydict)\n",
    "print(x)\n"
   ]
  },
  {
   "cell_type": "markdown",
   "id": "82c8bb98-8b99-4ce1-be55-86983dc765d7",
   "metadata": {},
   "source": [
    "<br>\n",
    "\n",
    "<span style=\"background-color: #F5C0FF\">&nbsp;**Note**&nbsp;</span> : When used on a <span style=\"background-color: #CAFEFD\">dictionary</span>, the **any()** function checks <span style=\"background-color: #CAFEFD\">if any of the **keys** are true, not the values</span>."
   ]
  },
  {
   "cell_type": "code",
   "execution_count": 19,
   "id": "a8090fb5-836a-4208-acc9-a868461a7fcb",
   "metadata": {},
   "outputs": [
    {
     "name": "stdout",
     "output_type": "stream",
     "text": [
      "True\n"
     ]
    }
   ],
   "source": [
    "\n",
    "mydict = {0 : False, 1 : True}\n",
    "x = any(mydict)\n",
    "print(x)\n"
   ]
  },
  {
   "cell_type": "code",
   "execution_count": null,
   "id": "eef38205-5110-4816-b85d-27429a76192c",
   "metadata": {},
   "outputs": [],
   "source": []
  },
  {
   "cell_type": "markdown",
   "id": "9b3b3370-0137-4b84-89be-75c00ba0ba30",
   "metadata": {},
   "source": [
    "<br>\n",
    "\n",
    "<span style=\"background-color: yellow;font-size: larger\">&nbsp;**bin()**&nbsp;</span> : returns the **binary** version of a specified **integer**. The result will always start with the prefix <span style=\"background-color: #EFEAF1;color:red\"><strong>&nbsp;0b&nbsp;</strong></span>.\n"
   ]
  },
  {
   "cell_type": "code",
   "execution_count": 20,
   "id": "e905c807-ea74-4db8-9f10-a25739aa7dcc",
   "metadata": {},
   "outputs": [
    {
     "name": "stdout",
     "output_type": "stream",
     "text": [
      "0b1010\n"
     ]
    }
   ],
   "source": [
    "\n",
    "# Return the binary version of 10\n",
    "\n",
    "x = bin(10)\n",
    "print(x)\n"
   ]
  },
  {
   "cell_type": "code",
   "execution_count": 21,
   "id": "a14a75bf-b225-4b96-bf2f-c8d6c706795d",
   "metadata": {},
   "outputs": [
    {
     "name": "stdout",
     "output_type": "stream",
     "text": [
      "10\n"
     ]
    }
   ],
   "source": [
    "\n",
    "# To confirm \n",
    "\n",
    "print(int(\"0b1010\", base=2)) \n"
   ]
  },
  {
   "cell_type": "code",
   "execution_count": 22,
   "id": "2c8ae1e2-c374-44b9-ae0e-9b2bf3724b40",
   "metadata": {},
   "outputs": [
    {
     "name": "stdout",
     "output_type": "stream",
     "text": [
      "-0b1010\n"
     ]
    }
   ],
   "source": [
    "\n",
    "# Return the binary version of -10\n",
    "\n",
    "x = bin(-10)\n",
    "print(x)\n"
   ]
  },
  {
   "cell_type": "code",
   "execution_count": 23,
   "id": "8482fe36-a324-49c7-a2e2-71b6ddacd37a",
   "metadata": {},
   "outputs": [
    {
     "data": {
      "text/plain": [
       "'0b0'"
      ]
     },
     "execution_count": 23,
     "metadata": {},
     "output_type": "execute_result"
    }
   ],
   "source": [
    "\n",
    "# Return the binary version of 0\n",
    "\n",
    "bin(0)\n"
   ]
  },
  {
   "cell_type": "markdown",
   "id": "4968bec3-b51a-4dfe-a648-bf12916091a5",
   "metadata": {},
   "source": [
    "<br>\n",
    "\n",
    "<span style=\"background-color: #F5C0FF\">&nbsp;**Note**&nbsp;</span> ⇒ <span style=\"color:red\">&nbsp;**int.bit_length()**&nbsp;</span> : <span style=\"background-color: #CAFEFD\">**number of bits necessary** to represent the integer in **binary**, excluding the sign and leading zeros.</span>"
   ]
  },
  {
   "cell_type": "code",
   "execution_count": 24,
   "id": "cdc1b114-81ac-4ae5-be6d-1d8f5397b42f",
   "metadata": {},
   "outputs": [
    {
     "ename": "SyntaxError",
     "evalue": "invalid decimal literal (3674734799.py, line 1)",
     "output_type": "error",
     "traceback": [
      "\u001b[1;36m  Cell \u001b[1;32mIn[24], line 1\u001b[1;36m\u001b[0m\n\u001b[1;33m    10.bit_length()\u001b[0m\n\u001b[1;37m      ^\u001b[0m\n\u001b[1;31mSyntaxError\u001b[0m\u001b[1;31m:\u001b[0m invalid decimal literal\n"
     ]
    }
   ],
   "source": [
    "\n",
    "10.bit_length()\n"
   ]
  },
  {
   "cell_type": "code",
   "execution_count": 25,
   "id": "67572682-dd26-4967-adb8-74d2f73c1b04",
   "metadata": {},
   "outputs": [
    {
     "data": {
      "text/plain": [
       "4"
      ]
     },
     "execution_count": 25,
     "metadata": {},
     "output_type": "execute_result"
    }
   ],
   "source": [
    "\n",
    "(10).bit_length()\n"
   ]
  },
  {
   "cell_type": "code",
   "execution_count": 26,
   "id": "dc620b2f-a7b7-48b7-a23e-1d8b497656a1",
   "metadata": {},
   "outputs": [
    {
     "data": {
      "text/plain": [
       "4"
      ]
     },
     "execution_count": 26,
     "metadata": {},
     "output_type": "execute_result"
    }
   ],
   "source": [
    "\n",
    "int.bit_length(10)\n"
   ]
  },
  {
   "cell_type": "code",
   "execution_count": 27,
   "id": "99358c1b-eeee-4926-ab63-c7ff9f310ab9",
   "metadata": {},
   "outputs": [
    {
     "data": {
      "text/plain": [
       "4"
      ]
     },
     "execution_count": 27,
     "metadata": {},
     "output_type": "execute_result"
    }
   ],
   "source": [
    "\n",
    "num = 10\n",
    "num.bit_length()\n"
   ]
  },
  {
   "cell_type": "markdown",
   "id": "91e2c1d3-aabf-496a-a1e9-dd3e57b560a9",
   "metadata": {},
   "source": [
    "<br>\n",
    "\n",
    "<span style=\"background-color: #C9FF71\">**To find the bit length of an integer :**</span>"
   ]
  },
  {
   "cell_type": "markdown",
   "id": "6ca885aa-1fad-4d42-a55c-300b49fa44e0",
   "metadata": {},
   "source": [
    "**Method-1** ===> <span style=\"background-color: #CAFEFD\">using **int.bit_length()**</span>"
   ]
  },
  {
   "cell_type": "code",
   "execution_count": 28,
   "id": "ba828baf-94e7-4b55-8b08-5e80a8e67fe5",
   "metadata": {},
   "outputs": [
    {
     "name": "stdout",
     "output_type": "stream",
     "text": [
      "Number: 10\n",
      "Bit Length: 4\n",
      "Actual Binary Representation: 0b1010\n"
     ]
    }
   ],
   "source": [
    "\n",
    "num = 10\n",
    "bit_length = num.bit_length()\n",
    "print(\"Number:\", num)\n",
    "print(\"Bit Length:\", bit_length)\n",
    "print(\"Actual Binary Representation:\", bin(num))\n"
   ]
  },
  {
   "cell_type": "markdown",
   "id": "07e9f495-872e-4594-b20b-88b9fd197311",
   "metadata": {},
   "source": [
    "**Method-2** ===> <span style=\"background-color: #CAFEFD\">using **math.log()**</span>"
   ]
  },
  {
   "cell_type": "code",
   "execution_count": 29,
   "id": "2072ac27-1002-436d-af06-0c4df0dbf5d8",
   "metadata": {},
   "outputs": [
    {
     "name": "stdout",
     "output_type": "stream",
     "text": [
      "Number: 10\n",
      "Bit Length: 4\n",
      "Actual Binary Representation: 0b1010\n"
     ]
    }
   ],
   "source": [
    "\n",
    "import math\n",
    "\n",
    "num = 10\n",
    "bit_length = math.floor(math.log2(num)) + 1\n",
    "print(\"Number:\", num)\n",
    "print(\"Bit Length:\", bit_length)\n",
    "print(\"Actual Binary Representation:\", bin(num))\n"
   ]
  },
  {
   "cell_type": "markdown",
   "id": "eb880902-e21e-4581-92e0-8cb5a1883762",
   "metadata": {},
   "source": [
    "**Method-3** ===> <span style=\"background-color: #CAFEFD\">without using any pre-built functions</span>"
   ]
  },
  {
   "cell_type": "code",
   "execution_count": 30,
   "id": "0aab0471-57d6-4f90-b74e-80325fa238df",
   "metadata": {},
   "outputs": [
    {
     "name": "stdout",
     "output_type": "stream",
     "text": [
      "Number: 10\n",
      "Bit Length: 4\n",
      "Binary Representation: 1010\n",
      "Actual Binary Representation: 0b1010\n",
      "True\n"
     ]
    }
   ],
   "source": [
    "\n",
    "num = 10\n",
    "bit_length = 0\n",
    "binary_string = \"\"\n",
    "\n",
    "\n",
    "if num == 0:\n",
    "    binary_string = \"0\"\n",
    "    actual_binary_string = \"0b0\"\n",
    "else:\n",
    "    num_copy = num\n",
    "\n",
    "    # finding the reversed binary representation\n",
    "    while num != 0:\n",
    "        bit_length += 1\n",
    "        binary_string = binary_string + str(num % 2)\n",
    "        num = int(num / 2)\n",
    "        \n",
    "    # reversing the binary_string \n",
    "    binary_string = binary_string[::-1]   \n",
    "\n",
    "    # adding '0b' or '-0b' for proper binary representation\n",
    "    if num_copy > 0:\n",
    "        actual_binary_string = \"0b\" + binary_string\n",
    "    else:\n",
    "        actual_binary_string = \"-0b\" + binary_string\n",
    "\n",
    "\n",
    "print(\"Number:\", num_copy)\n",
    "print(\"Bit Length:\", bit_length)\n",
    "print(\"Binary Representation:\", binary_string) \n",
    "print(\"Actual Binary Representation:\", actual_binary_string) \n",
    "\n",
    "# To confirm\n",
    "print(bin(num_copy) == actual_binary_string)\n"
   ]
  },
  {
   "cell_type": "code",
   "execution_count": null,
   "id": "e52df835-6349-4c1e-9fc4-360ca62e9f47",
   "metadata": {},
   "outputs": [],
   "source": []
  },
  {
   "cell_type": "markdown",
   "id": "a6089065-478a-4bec-b0e7-59607172b0df",
   "metadata": {},
   "source": [
    "<br>\n",
    "\n",
    "<span style=\"background-color: yellow;font-size: larger\">&nbsp;**bool()**&nbsp;</span> : Returns the **boolean value** of the specified object.\n",
    "\n",
    "The object will always return <span style=\"background-color: #FBE2FF;color:red\"><strong>&nbsp;True&nbsp;</strong></span>, unless: <br>\n",
    "\n",
    "The object is **empty**, like <span style=\"background-color:#FBE2FF;color:red;font-size:larger\"><strong>&nbsp;[]&nbsp;</strong></span>, <span style=\"background-color: #FBE2FF;color:red;font-size:larger\"><strong>&nbsp;()&nbsp;</strong></span>, <span style=\"background-color: #EFEAF1;color:red;font-size:larger\"><strong>&nbsp;{}&nbsp;</strong></span>    <br>\n",
    "The object is <span style=\"background-color: #FBE2FF;color:red\"><strong>&nbsp;False&nbsp;</strong></span>    <br>\n",
    "The object is <span style=\"background-color: #FBE2FF;color:red\"><strong>&nbsp;0&nbsp;</strong></span>        <br>\n",
    "The object is <span style=\"background-color: #FBE2FF;color:red\"><strong>&nbsp;None&nbsp;</strong></span>     <br>\n"
   ]
  },
  {
   "cell_type": "code",
   "execution_count": 31,
   "id": "8e241f74-200e-494c-9ee5-711d0fb8a542",
   "metadata": {},
   "outputs": [
    {
     "name": "stdout",
     "output_type": "stream",
     "text": [
      "False\n"
     ]
    }
   ],
   "source": [
    "\n",
    "# Return the boolean value of 0:\n",
    "\n",
    "result = bool(0)\n",
    "print(result) \n"
   ]
  },
  {
   "cell_type": "code",
   "execution_count": 32,
   "id": "c6cadb9d-95c4-453e-82e8-02eaff2c0221",
   "metadata": {},
   "outputs": [
    {
     "name": "stdout",
     "output_type": "stream",
     "text": [
      "True\n"
     ]
    }
   ],
   "source": [
    "\n",
    "# Return the boolean value of 1:\n",
    "\n",
    "result = bool(1)\n",
    "print(result) \n"
   ]
  },
  {
   "cell_type": "code",
   "execution_count": null,
   "id": "fb220041-1119-43c5-99d5-982525cf8c80",
   "metadata": {},
   "outputs": [],
   "source": []
  },
  {
   "cell_type": "markdown",
   "id": "9631dea0-4142-42ef-9000-e5e806ab124a",
   "metadata": {},
   "source": [
    "<br>\n",
    "\n",
    "<span style=\"background-color: yellow;font-size: larger\">&nbsp;**callable()**&nbsp;</span> : Returns **True** if the object appears callable (i.e., **can be called**), otherwise **False**."
   ]
  },
  {
   "cell_type": "code",
   "execution_count": 33,
   "id": "97d7978b-4487-4ea1-ad5c-8bd412332651",
   "metadata": {},
   "outputs": [
    {
     "name": "stdout",
     "output_type": "stream",
     "text": [
      "True\n"
     ]
    }
   ],
   "source": [
    "\n",
    "# Check if a function is callable:\n",
    "\n",
    "def my_function():\n",
    "    print(\"Hello, World!\")\n",
    "\n",
    "result = callable(my_function)\n",
    "print(result) \n"
   ]
  },
  {
   "cell_type": "code",
   "execution_count": null,
   "id": "96e0783d-9eb7-4af1-af18-f158e1ece199",
   "metadata": {},
   "outputs": [],
   "source": []
  },
  {
   "cell_type": "markdown",
   "id": "b10a70e6-18b8-4e05-a035-2924e08b6f79",
   "metadata": {},
   "source": [
    "<br>\n",
    "\n",
    "<span style=\"background-color: yellow;font-size: larger\">&nbsp;**chr()**&nbsp;</span> : Returns the **character** representing the **Unicode** code point.\n"
   ]
  },
  {
   "cell_type": "code",
   "execution_count": 34,
   "id": "e98c36b6-280e-4ab3-9b23-c3a6d6c3d303",
   "metadata": {},
   "outputs": [
    {
     "name": "stdout",
     "output_type": "stream",
     "text": [
      "A\n"
     ]
    }
   ],
   "source": [
    "\n",
    "# Get the character that represents the unicode 65:\n",
    "\n",
    "char = chr(65)\n",
    "print(char)  \n"
   ]
  },
  {
   "cell_type": "code",
   "execution_count": 35,
   "id": "db54e425-ee39-4773-8a10-86cab01ef031",
   "metadata": {},
   "outputs": [
    {
     "name": "stdout",
     "output_type": "stream",
     "text": [
      "a\n"
     ]
    }
   ],
   "source": [
    "\n",
    "# Get the character that represents the unicode 97:\n",
    "\n",
    "char = chr(97)\n",
    "print(char)  \n"
   ]
  },
  {
   "cell_type": "code",
   "execution_count": null,
   "id": "123dd221-3c9c-40d2-885a-1e2f022b1230",
   "metadata": {},
   "outputs": [],
   "source": []
  },
  {
   "cell_type": "markdown",
   "id": "5c995e07-9e59-4e06-9327-34d0bfd38e86",
   "metadata": {},
   "source": [
    "<br>\n",
    "\n",
    "<span style=\"background-color: yellow;font-size: larger\">&nbsp;**compile()**&nbsp;</span> : Returns the specified source as a **code object**, ready to be executed."
   ]
  },
  {
   "cell_type": "markdown",
   "id": "2b107b26-633d-4261-b8b6-b2e41084ea76",
   "metadata": {},
   "source": [
    "<div style=\"border: 1px solid pink; padding: 10px; margin-left: 120px; width: 400px; background-color: #fff6f6\">\n",
    "\n",
    "**compile(** source, filename, mode, flag, dont_inherit, optimize **)**\n",
    "\n",
    "</div>\n",
    "\n",
    "<br>\n",
    "\n",
    "\n",
    "| Parameter | Description |\n",
    "|-----------|-------------|\n",
    "| source\t| **Required**. The source to compile, can be a String, a Bytes object, or an AST object |\n",
    "| filename\t| **Required**. The name of the file that the source comes from. If the source does not come from a file, you can write whatever you like |\n",
    "| mode\t    | **Required**. Legal values: <br><span style=\"color: blue\">**eval**</span> - if the source is a single expression <br><span style=\"color: blue\">**exec**</span> - if the source is a block of statements  <br><span style=\"color: blue\">**single**</span> - if the source is a single interactive statement |\n",
    "| flags\t    | **Optional**. How to compile the source. Default 0 |\n",
    "| dont-inherit | **Optional**. How to compile the source. Default False |\n",
    "| optimize\t| **Optional**. Defines the optimization level of the compiler. Default -1 |"
   ]
  },
  {
   "cell_type": "code",
   "execution_count": 36,
   "id": "c110afb9-b7e8-4d44-af2b-49321b269916",
   "metadata": {},
   "outputs": [
    {
     "name": "stdout",
     "output_type": "stream",
     "text": [
      "55\n"
     ]
    }
   ],
   "source": [
    "\n",
    "# Compile text as code, and then execute it:\n",
    "\n",
    "x = compile('print(55)', 'test' , 'eval')\n",
    "exec(x)\n"
   ]
  },
  {
   "cell_type": "code",
   "execution_count": 37,
   "id": "2f7b1911-5711-44ac-8edf-dd07bddf79fd",
   "metadata": {},
   "outputs": [
    {
     "name": "stdout",
     "output_type": "stream",
     "text": [
      "55\n",
      "88\n"
     ]
    }
   ],
   "source": [
    "\n",
    "# Compile more than one statement, and then execute it:\n",
    "\n",
    "x = compile('print(55)\\nprint(88)', 'test', 'exec')\n",
    "exec(x)\n"
   ]
  },
  {
   "cell_type": "code",
   "execution_count": null,
   "id": "29d74a10-b99a-4958-8c6a-65619c074ed3",
   "metadata": {},
   "outputs": [],
   "source": []
  },
  {
   "cell_type": "markdown",
   "id": "7fcb2712-f6d8-415e-9a4c-4ad28b8e9f8d",
   "metadata": {},
   "source": [
    "<br>\n",
    "\n",
    "<span style=\"background-color: yellow;font-size: larger\">&nbsp;**complex()**&nbsp;</span> : Returns a complex number by specifying a **real number** and an **imaginary number**."
   ]
  },
  {
   "cell_type": "code",
   "execution_count": 38,
   "id": "9b70ec0d-5891-4ed9-9e39-0d746c621495",
   "metadata": {},
   "outputs": [
    {
     "name": "stdout",
     "output_type": "stream",
     "text": [
      "(3+5j)\n"
     ]
    }
   ],
   "source": [
    "\n",
    "# Convert the number 3 and imaginary number 5 into a complex number:\n",
    "\n",
    "x = complex(3, 5)\n",
    "\n",
    "print(x)\n"
   ]
  },
  {
   "cell_type": "code",
   "execution_count": null,
   "id": "5dedf6c2-7a03-473e-bd6b-70884175d3a9",
   "metadata": {},
   "outputs": [],
   "source": []
  },
  {
   "cell_type": "markdown",
   "id": "ddf44700-d127-4c02-a7be-165b8387e3d4",
   "metadata": {},
   "source": [
    "<br>\n",
    "\n",
    "<span style=\"background-color: yellow;font-size: larger\">&nbsp;**delattr()**&nbsp;</span> : **deletes the specified attribute** from the specified object.\n",
    "\n",
    "<br>\n",
    "\n",
    "<div style=\"border: 1px solid pink; padding: 10px; margin-left: 120px; width: 300px; background-color: #fff6f6\">\n",
    "\n",
    "**delattr(** (object, attribute **)**\n",
    "\n",
    "</div>"
   ]
  },
  {
   "cell_type": "code",
   "execution_count": 39,
   "id": "48d79298-e304-49ae-b0c5-f742d415a483",
   "metadata": {},
   "outputs": [],
   "source": [
    "\n",
    "# Delete the \"age\" property from the \"person\" object:\n",
    "\n",
    "class Person:\n",
    "  name = \"John\"\n",
    "  age = 36\n",
    "  country = \"Norway\"\n",
    "\n",
    "delattr(Person, 'age')\n"
   ]
  },
  {
   "cell_type": "code",
   "execution_count": null,
   "id": "74c6f122-4ba2-40f3-935c-28e9f87027a6",
   "metadata": {},
   "outputs": [],
   "source": []
  },
  {
   "cell_type": "markdown",
   "id": "f9e90da4-263f-42c1-b71f-2c6c4189fc80",
   "metadata": {},
   "source": [
    "<br>\n",
    "\n",
    "<span style=\"background-color: yellow;font-size: larger\">&nbsp;**dict()**&nbsp;</span> : creates a dictionary. It is a collection which is **unordered**, **changeable** and **indexed**."
   ]
  },
  {
   "cell_type": "code",
   "execution_count": 40,
   "id": "cb9116f2-4c8e-4484-9a7e-ce8971025482",
   "metadata": {},
   "outputs": [
    {
     "name": "stdout",
     "output_type": "stream",
     "text": [
      "{'name': 'Avinash', 'age': 30, 'country': 'India'}\n"
     ]
    }
   ],
   "source": [
    "\n",
    "# Create a dictionary containing personal information:\n",
    "\n",
    "x = dict(name = \"Avinash\", age = 30, country = \"India\")\n",
    "print(x)\n"
   ]
  },
  {
   "cell_type": "code",
   "execution_count": null,
   "id": "e8308291-f2df-4346-8648-c497400a290a",
   "metadata": {},
   "outputs": [],
   "source": []
  },
  {
   "cell_type": "markdown",
   "id": "e8cc2d18-e7a5-4d37-b4a6-0ece57a3b19a",
   "metadata": {},
   "source": [
    "<br>\n",
    "\n",
    "<span style=\"background-color: yellow;font-size: larger\">&nbsp;**dir()**&nbsp;</span> : Returns a list of valid attributes (**all the properties and methods, even built-in properties which are default for all object**) for the specified object.\n",
    "\n",
    "<br>\n"
   ]
  },
  {
   "cell_type": "code",
   "execution_count": 41,
   "id": "5f5bb157-d438-4453-bbd6-9874fa73b45d",
   "metadata": {},
   "outputs": [
    {
     "name": "stdout",
     "output_type": "stream",
     "text": [
      "['__class__', '__delattr__', '__dict__', '__dir__', '__doc__', '__eq__', '__format__', '__ge__', '__getattribute__', '__getstate__', '__gt__', '__hash__', '__init__', '__init_subclass__', '__le__', '__lt__', '__module__', '__ne__', '__new__', '__reduce__', '__reduce_ex__', '__repr__', '__setattr__', '__sizeof__', '__str__', '__subclasshook__', '__weakref__', 'age', 'country', 'name']\n"
     ]
    }
   ],
   "source": [
    "\n",
    "# Display the content of an object:\n",
    "\n",
    "class Person:\n",
    "    name = \"John\"\n",
    "    age = 36\n",
    "    country = \"Norway\"\n",
    "\n",
    "print(dir(Person))\n"
   ]
  },
  {
   "cell_type": "code",
   "execution_count": 42,
   "id": "1bc9e743-f556-4873-a5ad-0664fde8347a",
   "metadata": {},
   "outputs": [
    {
     "name": "stdout",
     "output_type": "stream",
     "text": [
      "['__add__', '__class__', '__class_getitem__', '__contains__', '__delattr__', '__delitem__', '__dir__', '__doc__', '__eq__', '__format__', '__ge__', '__getattribute__', '__getitem__', '__getstate__', '__gt__', '__hash__', '__iadd__', '__imul__', '__init__', '__init_subclass__', '__iter__', '__le__', '__len__', '__lt__', '__mul__', '__ne__', '__new__', '__reduce__', '__reduce_ex__', '__repr__', '__reversed__', '__rmul__', '__setattr__', '__setitem__', '__sizeof__', '__str__', '__subclasshook__', 'append', 'clear', 'copy', 'count', 'extend', 'index', 'insert', 'pop', 'remove', 'reverse', 'sort']\n"
     ]
    }
   ],
   "source": [
    "\n",
    "# Display all the content of a list object:\n",
    "\n",
    "lst = [1, 2, 3]\n",
    "attributes = dir(lst)\n",
    "print(attributes) \n"
   ]
  },
  {
   "cell_type": "code",
   "execution_count": null,
   "id": "aa4f9fec-1b7f-497c-a943-aa8a3d310ae0",
   "metadata": {},
   "outputs": [],
   "source": []
  },
  {
   "cell_type": "markdown",
   "id": "7f59de97-bef9-448f-9adc-b3a6ac3e9a0f",
   "metadata": {},
   "source": [
    "<br>\n",
    "\n",
    "<span style=\"background-color: yellow;font-size: larger\">&nbsp;**divmod()**&nbsp;</span> : returns a **tuple** containing the **quotient**  and the **remainder** when **argument1 (dividend)** is divided by **argument2 (divisor)**.\n",
    "\n",
    "\n",
    "<div style=\"border: 1px solid pink; padding: 10px; margin-left: 95px; width: 180px; background-color: #fff6f6\">\n",
    "\n",
    "**divmod(** dividend, divisor **)**\n",
    "\n",
    "</div>\n"
   ]
  },
  {
   "cell_type": "code",
   "execution_count": 43,
   "id": "9e949315-4ec4-40b0-9600-233936820d4a",
   "metadata": {},
   "outputs": [
    {
     "name": "stdout",
     "output_type": "stream",
     "text": [
      "(2, 1)\n"
     ]
    }
   ],
   "source": [
    "\n",
    "x = divmod(5, 2)\n",
    "print(x)\n"
   ]
  },
  {
   "cell_type": "code",
   "execution_count": null,
   "id": "dc9b0112-01b1-4542-987a-a43f53581797",
   "metadata": {},
   "outputs": [],
   "source": []
  },
  {
   "cell_type": "markdown",
   "id": "47255852-7c2e-481a-999c-d4727722639c",
   "metadata": {},
   "source": [
    "<br>\n",
    "\n",
    "<span style=\"background-color: yellow;font-size: larger\">&nbsp;**enumerate()**&nbsp;</span> :  Returns an enumerate object, which yields pairs of indexes and values from an iterable.\n",
    "\n",
    "It is used to iterate over a sequence (such as a list, tuple, or string) along with an index. It **returns an enumerate object**, which produces a **sequence of tuples containing the index and the corresponding item from the iterable**.\n",
    "\n",
    "<br>\n",
    "\n",
    "<div style=\"border: 1px solid pink; padding: 10px; margin-left: 95px; width: 240px; background-color: #fff6f6\">\n",
    "\n",
    "**enumerate(** iterable, start = 0 **)**\n",
    "\n",
    "</div>"
   ]
  },
  {
   "cell_type": "code",
   "execution_count": 48,
   "id": "86ef90eb-b80c-463a-877b-9c480d9fad73",
   "metadata": {},
   "outputs": [
    {
     "name": "stdout",
     "output_type": "stream",
     "text": [
      "<enumerate object at 0x000001DAEC435120>\n",
      "<enumerate object at 0x000001DAEC434AE0>\n"
     ]
    }
   ],
   "source": [
    "\n",
    "x1 = ('apple', 'banana', 'cherry')\n",
    "y1 = enumerate(x1)\n",
    "print(y1)\n",
    "\n",
    "\n",
    "x2 = ['apple', 'banana', 'cherry']\n",
    "y2 = enumerate(x2)\n",
    "print(y2)\n"
   ]
  },
  {
   "cell_type": "markdown",
   "id": "943d0618-c5d4-485b-84b9-f363611ffde3",
   "metadata": {},
   "source": [
    "<br>\n",
    "If you want to see the sequence of tuples it returned, you'll have to use a for loop to unpack it like the following:"
   ]
  },
  {
   "cell_type": "code",
   "execution_count": 54,
   "id": "bb00f591-c384-47bd-99d0-70793e604a44",
   "metadata": {},
   "outputs": [],
   "source": [
    "\n",
    "for index, fruit in enumerate(y1):\n",
    "    print(index, fruit)\n",
    "    "
   ]
  },
  {
   "cell_type": "code",
   "execution_count": 55,
   "id": "1f9c8ea3-618f-4497-9181-22e8c10c0d39",
   "metadata": {},
   "outputs": [],
   "source": [
    "\n",
    "for index, fruit in enumerate(y2):\n",
    "    print(index, fruit)\n",
    "    "
   ]
  },
  {
   "cell_type": "code",
   "execution_count": 56,
   "id": "2863645c-45c0-456a-a458-0f250b0c73e2",
   "metadata": {},
   "outputs": [
    {
     "name": "stdout",
     "output_type": "stream",
     "text": [
      "0 apple\n",
      "1 banana\n",
      "2 cherry\n"
     ]
    }
   ],
   "source": [
    "\n",
    "fruits = ['apple', 'banana', 'cherry']\n",
    "for index, fruit in enumerate(fruits):\n",
    "    print(index, fruit)\n"
   ]
  },
  {
   "cell_type": "markdown",
   "id": "90e0e39b-3c7b-4968-ac41-1f1542a7c415",
   "metadata": {},
   "source": [
    "<br>\n",
    "\n",
    "<span style=\"background-color: yellow;font-size: larger\">&nbsp;**eval( )**&nbsp;</span> : **Evaluates a Python expression that is passed as a string argument** and returns the result of the expression. It accepts a **single expression only**.\n",
    "\n",
    "<br>\n",
    "\n",
    "<div style=\"border: 1px solid pink; padding: 10px; margin-left: 380px; width:240px; background-color: #fff6f6\">\n",
    "\n",
    "**eval(** expression[, globals[, locals]] **)**\n",
    "\n",
    "</div>\n",
    "\n",
    "<br>\n",
    "\n",
    "|    Parameter    |     Description    |\n",
    "|-----------------|--------------------|\n",
    "|   expression\t  |  A String, that will be evaluated as Python code  |\n",
    "|   globals       |  Optional. A dictionary containing global parameters  |\n",
    "|   locals        |  Optional. A dictionary containing local parameters   |\n",
    "\n"
   ]
  },
  {
   "cell_type": "code",
   "execution_count": 57,
   "id": "dd1f29d3-1a78-43dd-a6ba-a8474620f547",
   "metadata": {},
   "outputs": [
    {
     "name": "stdout",
     "output_type": "stream",
     "text": [
      "13\n"
     ]
    }
   ],
   "source": [
    "\n",
    "expression = \"3 + 5 * 2\"\n",
    "result = eval(expression)\n",
    "print(result) \n"
   ]
  },
  {
   "cell_type": "markdown",
   "id": "c1b4e543-aba9-4414-973e-92fc0894de25",
   "metadata": {},
   "source": [
    "<br>\n",
    "\n",
    "**Caution** ⇒ <span style=\"background-color: #CAFEFD\">&nbsp;**eval( )** can execute arbitrary code, which can be a security risk if the input is from an untrusted source. Avoid using **eval( )** with untrusted input.</span>\n"
   ]
  },
  {
   "cell_type": "code",
   "execution_count": null,
   "id": "8fa02e64-4509-4ce4-be3d-25c0bb701f35",
   "metadata": {},
   "outputs": [],
   "source": []
  },
  {
   "cell_type": "markdown",
   "id": "62fd004e-a6bc-410f-8654-76fa23b2b4e8",
   "metadata": {},
   "source": [
    "<br>\n",
    "\n",
    "<span style=\"background-color: yellow;font-size: larger\">&nbsp;**exec( )**&nbsp;</span> : Executes the specified Python code dynamically.\n",
    "\n",
    "<span style=\"background-color: #CAFEFD\">The **exec()** function accepts large blocks of code, unlike the **eval( )** function which only accepts a single expression</span>\n",
    "\n",
    "<br>\n",
    "\n",
    "<div style=\"border: 1px solid pink; padding: 10px; margin-left: 380px; width:240px; background-color: #fff6f6\">\n",
    "\n",
    "**exec(** expression[, globals[, locals]] **)**\n",
    "\n",
    "</div>\n",
    "\n",
    "<br>\n",
    "\n",
    "|    Parameter    |     Description    |\n",
    "|-----------------|--------------------|\n",
    "|   expression\t  |  A String, that will be evaluated as Python code  |\n",
    "|   globals       |  Optional. A dictionary containing global parameters  |\n",
    "|   locals        |  Optional. A dictionary containing local parameters   |\n",
    "\n"
   ]
  },
  {
   "cell_type": "code",
   "execution_count": 60,
   "id": "a6e2e6b5-79f5-4cf6-8308-1d5d82054ba4",
   "metadata": {},
   "outputs": [
    {
     "name": "stdout",
     "output_type": "stream",
     "text": [
      "John\n"
     ]
    }
   ],
   "source": [
    "\n",
    "x = 'name = \"John\"\\nprint(name)'\n",
    "exec(x)\n"
   ]
  },
  {
   "cell_type": "markdown",
   "id": "4ca355ef-7cae-4560-a64f-ec7dd02848c8",
   "metadata": {},
   "source": [
    "<br>\n",
    "\n",
    "Let's take the same example for **exec( )** too which we used in **eval( )** and **compare the difference**"
   ]
  },
  {
   "cell_type": "code",
   "execution_count": 63,
   "id": "90f00e54-1964-42e8-b491-58e06576eefd",
   "metadata": {},
   "outputs": [
    {
     "name": "stdout",
     "output_type": "stream",
     "text": [
      "None\n"
     ]
    }
   ],
   "source": [
    "\n",
    "expression = \"3 + 5 * 2\"\n",
    "result = exec(expression)\n",
    "print(result)\n"
   ]
  },
  {
   "cell_type": "markdown",
   "id": "dc9e0df9-34b3-4426-a61c-3ef3ee2f6cb6",
   "metadata": {},
   "source": [
    "**exec( )** will not evaluate until all the instructions are given clearly&nbsp;<font size=\"+2\">↴</font>"
   ]
  },
  {
   "cell_type": "code",
   "execution_count": 67,
   "id": "16d73510-7892-423b-b215-a40af0c9ee8b",
   "metadata": {},
   "outputs": [
    {
     "name": "stdout",
     "output_type": "stream",
     "text": [
      "3 + 5 * 2\n"
     ]
    }
   ],
   "source": [
    "\n",
    "x = 'expression = \"3 + 5 * 2\"\\nprint(expression)'\n",
    "exec(x)\n"
   ]
  },
  {
   "cell_type": "code",
   "execution_count": 68,
   "id": "2f0a6c8c-1981-4eaa-b27a-5c9c723cb138",
   "metadata": {},
   "outputs": [
    {
     "name": "stdout",
     "output_type": "stream",
     "text": [
      "13\n"
     ]
    }
   ],
   "source": [
    "\n",
    "x = 'expression = \"3 + 5 * 2\"\\nprint(eval(expression))'\n",
    "exec(x)\n"
   ]
  },
  {
   "cell_type": "markdown",
   "id": "f15b2f6b-fbba-4cbf-98c9-4a1de7f4aa62",
   "metadata": {},
   "source": [
    "**Caution** ⇒ <span style=\"background-color: #CAFEFD\">&nbsp; Like eval( ), **exec( )** can execute arbitrary code, so be careful when using it, especially with untrusted input.</span>"
   ]
  },
  {
   "cell_type": "code",
   "execution_count": null,
   "id": "d29ffa6c-9838-46ef-9282-31906153528f",
   "metadata": {},
   "outputs": [],
   "source": []
  },
  {
   "cell_type": "markdown",
   "id": "1adf2d9a-699b-4c28-9487-71787c4d9514",
   "metadata": {},
   "source": [
    "<br>\n",
    "\n",
    "<span style=\"background-color: yellow;font-size: larger\">&nbsp;**filter( )**&nbsp;</span> : Returns an iterator where each item of the given iterable is filtered through a function to test if the item is accepted or not.\n",
    "\n",
    "&nbsp;&nbsp;&nbsp;&nbsp;&nbsp;&nbsp;&nbsp;&nbsp;&nbsp;&nbsp;&nbsp;&nbsp;&nbsp;&nbsp;&nbsp;&nbsp;&nbsp;&nbsp;&nbsp;&nbsp;<span style=\"background-color: #CAFEFD\">It is extensively used in **lambda functions**.</span>\n",
    "\n",
    "&nbsp;&nbsp;&nbsp;&nbsp;&nbsp;&nbsp;&nbsp;&nbsp;&nbsp;&nbsp;&nbsp;&nbsp;&nbsp;&nbsp;&nbsp;&nbsp;&nbsp;&nbsp;&nbsp;&nbsp;Constructs an iterator from the elements of an iterable for which a function returns **True**.\n",
    "\n",
    "<br>\n",
    "\n",
    "<div style=\"border: 1px solid pink; padding: 10px; margin-left: 120px; width: 240px; background-color: #fff6f6\">\n",
    "\n",
    "**filter(** function, iterable **)**\n",
    "\n",
    "</div>\n"
   ]
  },
  {
   "cell_type": "code",
   "execution_count": 70,
   "id": "d503c5d3-4af6-466d-859d-2d21eb3c4203",
   "metadata": {},
   "outputs": [
    {
     "name": "stdout",
     "output_type": "stream",
     "text": [
      "18\n",
      "24\n",
      "32\n"
     ]
    }
   ],
   "source": [
    "\n",
    "# Filter the array, and return a new array with only the values equal to or above 18:\n",
    "\n",
    "ages = [5, 12, 17, 18, 24, 32]\n",
    "\n",
    "def myFunc(x):\n",
    "  if x < 18:\n",
    "    return False\n",
    "  else:\n",
    "    return True\n",
    "\n",
    "adults = filter(myFunc, ages)\n",
    "\n",
    "for x in adults:\n",
    "  print(x)\n",
    "    "
   ]
  },
  {
   "cell_type": "code",
   "execution_count": 110,
   "id": "040283e5-a7d1-42a3-9728-cf43758a190a",
   "metadata": {},
   "outputs": [
    {
     "name": "stdout",
     "output_type": "stream",
     "text": [
      "<filter object at 0x000001DAEC5A3A60>\n",
      "[2, 4, 6, 8, 10]\n"
     ]
    }
   ],
   "source": [
    "\n",
    "# Define a function to filter even numbers\n",
    "def is_even(n):\n",
    "    return n % 2 == 0\n",
    "\n",
    "\n",
    "# Define a list of numbers\n",
    "numbers = [1, 2, 3, 4, 5, 6, 7, 8, 9, 10]\n",
    "\n",
    "\n",
    "# Use filter to get only even numbers\n",
    "even_numbers_func = filter(is_even, numbers)\n",
    "\n",
    "\n",
    "# Convert the result to a list (optional)\n",
    "even_numbers_list = list(even_numbers_func)\n",
    "\n",
    "\n",
    "print(even_numbers_func)\n",
    "print(even_numbers_list) \n"
   ]
  },
  {
   "cell_type": "code",
   "execution_count": null,
   "id": "5adff84f-d933-48f6-becc-1f2bff4080c0",
   "metadata": {},
   "outputs": [],
   "source": []
  },
  {
   "cell_type": "markdown",
   "id": "4fe2237a-e2a4-4238-bf5e-763cb5548d9e",
   "metadata": {},
   "source": [
    "<br>\n",
    "\n",
    "<span style=\"background-color: yellow;font-size: larger\">&nbsp;**float( )**&nbsp;</span> : converts the specified value into a floating point number.\n",
    "\n",
    "<br>\n",
    "\n",
    "<div style=\"border: 1px solid pink; padding: 10px; margin-left: 120px; width: 120px; background-color: #fff6f6\">\n",
    "\n",
    "**float(** value **)**\n",
    "\n",
    "</div>"
   ]
  },
  {
   "cell_type": "code",
   "execution_count": 75,
   "id": "f023a6ee-a95f-4a12-b964-3575732b4dc4",
   "metadata": {},
   "outputs": [
    {
     "name": "stdout",
     "output_type": "stream",
     "text": [
      "3.5\n"
     ]
    }
   ],
   "source": [
    "\n",
    "x = float(\"3.500\")\n",
    "print(x)\n"
   ]
  },
  {
   "cell_type": "code",
   "execution_count": null,
   "id": "34bf09b8-ab7b-4f3b-80ca-6895050d7970",
   "metadata": {},
   "outputs": [],
   "source": []
  },
  {
   "cell_type": "markdown",
   "id": "b1b5d250-b181-45d7-99bb-a3021eaf6928",
   "metadata": {},
   "source": [
    "<br>\n",
    "\n",
    "<span style=\"background-color: yellow;font-size: larger\">&nbsp;**format( )**&nbsp;</span> : formats a specified value into a **specified format**.\n",
    "\n",
    "<br>\n",
    "\n",
    "<div style=\"border: 1px solid pink; padding: 10px; margin-left: 120px; width: 200px; background-color: #fff6f6\">\n",
    "\n",
    "**format(** value, format **)**\n",
    "\n",
    "</div>\n",
    "\n",
    "<br>\n",
    "\n",
    "<div style=\"margin-left: 120px\">\n",
    "\n",
    "![Paramter Values](format_specifier_list_image.png)\n",
    "\n",
    "</div>\n",
    "\n",
    "\n",
    "\n",
    "<br>"
   ]
  },
  {
   "cell_type": "code",
   "execution_count": 84,
   "id": "caeed708-351a-48d8-b846-4b4ed71498db",
   "metadata": {},
   "outputs": [
    {
     "name": "stdout",
     "output_type": "stream",
     "text": [
      "50.000000%\n"
     ]
    }
   ],
   "source": [
    "\n",
    "# Format the number 0.5 into a percentage value:\n",
    "\n",
    "x = format(0.5, '%')\n",
    "print(x)\n"
   ]
  },
  {
   "cell_type": "code",
   "execution_count": 81,
   "id": "89d552f7-d46a-46d2-a941-ccd16864a4c2",
   "metadata": {},
   "outputs": [
    {
     "name": "stdout",
     "output_type": "stream",
     "text": [
      "10,000,000\n"
     ]
    }
   ],
   "source": [
    "\n",
    "# Format 255 into a hexadecimal value:\n",
    "\n",
    "x = format(10000000, ',')\n",
    "print(x)\n"
   ]
  },
  {
   "cell_type": "code",
   "execution_count": 83,
   "id": "9db0866e-bd9c-44c4-974c-a46444073cee",
   "metadata": {},
   "outputs": [
    {
     "name": "stdout",
     "output_type": "stream",
     "text": [
      "25.57\n"
     ]
    }
   ],
   "source": [
    "\n",
    "# Format upto 2 decimal point \n",
    "\n",
    "x = format(25.567, '.2f')\n",
    "print(x)\n"
   ]
  },
  {
   "cell_type": "code",
   "execution_count": 87,
   "id": "53052627-b46e-4d55-b591-47c3a6f55ae6",
   "metadata": {},
   "outputs": [
    {
     "name": "stdout",
     "output_type": "stream",
     "text": [
      "My name is Avinash and I am 30 years old.\n"
     ]
    }
   ],
   "source": [
    "\n",
    "name = \"Avinash\"\n",
    "age = 30\n",
    "message = \"My name is {} and I am {} years old.\".format(name, age)\n",
    "print(message) \n"
   ]
  },
  {
   "cell_type": "code",
   "execution_count": null,
   "id": "0a1f70a0-0253-47f3-a60d-c289d7846029",
   "metadata": {},
   "outputs": [],
   "source": []
  },
  {
   "cell_type": "markdown",
   "id": "7a645346-5b04-4541-814b-d559365331fe",
   "metadata": {},
   "source": [
    "<br>\n",
    "\n",
    "<span style=\"background-color: yellow;font-size: larger\">&nbsp;**frozenset( )**&nbsp;</span> : returns an **immutable frozenset object** initialized with elements from the specified iterable. <br>\n",
    "\n",
    "A frozenset is <span style=\"background-color: #CAFEFD\">&nbsp;similar to a set, but it is immutable</span>, meaning its elements cannot be changed after creation. <span style=\"background-color: #CAFEFD\">This makes it suitable for use as a dictionary key or as an element of another set, since these data structures require immutable objects.</span>\n",
    "\n",
    "<br>\n",
    "\n",
    "<div style=\"border: 1px solid pink; padding: 10px; margin-left: 120px; width: 200px; background-color: #fff6f6\">\n",
    "\n",
    "**frozenset(** iterable **)**\n",
    "\n",
    "</div>\n",
    "\n",
    "<br>\n"
   ]
  },
  {
   "cell_type": "code",
   "execution_count": 89,
   "id": "a2712e2c-f7e5-424c-bf3b-b972f6a6d03e",
   "metadata": {},
   "outputs": [
    {
     "name": "stdout",
     "output_type": "stream",
     "text": [
      "frozenset({'cherry', 'apple', 'banana'})\n"
     ]
    }
   ],
   "source": [
    "\n",
    "# Freeze the list, and make it unchangeable:\n",
    "\n",
    "mylist = ['apple', 'banana', 'cherry']\n",
    "x = frozenset(mylist)\n",
    "print(x)"
   ]
  },
  {
   "cell_type": "code",
   "execution_count": 98,
   "id": "3c0186c9-033c-4d1d-8284-eaa72f7bf831",
   "metadata": {},
   "outputs": [
    {
     "name": "stdout",
     "output_type": "stream",
     "text": [
      "['apple', 'banana', 'cherry', 'mango']\n",
      "\n"
     ]
    },
    {
     "ename": "AttributeError",
     "evalue": "'frozenset' object has no attribute 'append'",
     "output_type": "error",
     "traceback": [
      "\u001b[1;31m---------------------------------------------------------------------------\u001b[0m",
      "\u001b[1;31mAttributeError\u001b[0m                            Traceback (most recent call last)",
      "Cell \u001b[1;32mIn[98], line 7\u001b[0m\n\u001b[0;32m      3\u001b[0m \u001b[38;5;28mprint\u001b[39m(mylist, end\u001b[38;5;241m=\u001b[39m\u001b[38;5;124m\"\u001b[39m\u001b[38;5;130;01m\\n\u001b[39;00m\u001b[38;5;130;01m\\n\u001b[39;00m\u001b[38;5;124m\"\u001b[39m)\n\u001b[0;32m      6\u001b[0m \u001b[38;5;66;03m# But since 'x' is a frozenset, so it cannot be changed\u001b[39;00m\n\u001b[1;32m----> 7\u001b[0m \u001b[43mx\u001b[49m\u001b[38;5;241;43m.\u001b[39;49m\u001b[43mappend\u001b[49m(\u001b[38;5;124m\"\u001b[39m\u001b[38;5;124mmango\u001b[39m\u001b[38;5;124m\"\u001b[39m)    \u001b[38;5;66;03m# This will cause an error\u001b[39;00m\n\u001b[0;32m      8\u001b[0m \u001b[38;5;28mprint\u001b[39m(x)\n",
      "\u001b[1;31mAttributeError\u001b[0m: 'frozenset' object has no attribute 'append'"
     ]
    }
   ],
   "source": [
    "\n",
    "# Since 'myslist' is not a frozenset, so it can be changed\n",
    "mylist.append(\"mango\")\n",
    "print(mylist, end=\"\\n\\n\")\n",
    "\n",
    "\n",
    "# But since 'x' is a frozenset, so it cannot be changed\n",
    "x.append(\"mango\")    # This will cause an error\n",
    "print(x)\n"
   ]
  },
  {
   "cell_type": "code",
   "execution_count": 99,
   "id": "6d83ec77-d861-47a9-9216-e658a033622e",
   "metadata": {},
   "outputs": [
    {
     "ename": "TypeError",
     "evalue": "'frozenset' object does not support item assignment",
     "output_type": "error",
     "traceback": [
      "\u001b[1;31m---------------------------------------------------------------------------\u001b[0m",
      "\u001b[1;31mTypeError\u001b[0m                                 Traceback (most recent call last)",
      "Cell \u001b[1;32mIn[99], line 7\u001b[0m\n\u001b[0;32m      5\u001b[0m mylist \u001b[38;5;241m=\u001b[39m [\u001b[38;5;124m'\u001b[39m\u001b[38;5;124mapple\u001b[39m\u001b[38;5;124m'\u001b[39m, \u001b[38;5;124m'\u001b[39m\u001b[38;5;124mbanana\u001b[39m\u001b[38;5;124m'\u001b[39m, \u001b[38;5;124m'\u001b[39m\u001b[38;5;124mcherry\u001b[39m\u001b[38;5;124m'\u001b[39m]\n\u001b[0;32m      6\u001b[0m x \u001b[38;5;241m=\u001b[39m \u001b[38;5;28mfrozenset\u001b[39m(mylist)\n\u001b[1;32m----> 7\u001b[0m \u001b[43mx\u001b[49m\u001b[43m[\u001b[49m\u001b[38;5;241;43m1\u001b[39;49m\u001b[43m]\u001b[49m \u001b[38;5;241m=\u001b[39m \u001b[38;5;124m\"\u001b[39m\u001b[38;5;124mstrawberry\u001b[39m\u001b[38;5;124m\"\u001b[39m\n",
      "\u001b[1;31mTypeError\u001b[0m: 'frozenset' object does not support item assignment"
     ]
    }
   ],
   "source": [
    "\n",
    "# Let's try to change the value of a frozenset item.\n",
    "\n",
    "# This will cause an error:\n",
    "\n",
    "mylist = ['apple', 'banana', 'cherry']\n",
    "x = frozenset(mylist)\n",
    "x[1] = \"strawberry\"\n"
   ]
  },
  {
   "cell_type": "code",
   "execution_count": null,
   "id": "14056706-f4c5-415b-9a7b-8b7ad2f1357e",
   "metadata": {},
   "outputs": [],
   "source": []
  },
  {
   "cell_type": "markdown",
   "id": "4534d65a-7793-4098-98f5-2106fdab9731",
   "metadata": {},
   "source": [
    "<br>\n",
    "\n",
    "<span style=\"background-color: yellow;font-size: larger\">&nbsp;**getattr( )**&nbsp;</span> : **returns the value of the specified attribute** from the specified object.\n",
    "\n",
    "<br>\n",
    "\n",
    "<div style=\"border: 1px solid pink; padding: 10px; margin-left: 120px; width: 300px; background-color: #fff6f6\">\n",
    "\n",
    "**getattr(** object, attribute[, default] **)**\n",
    "\n",
    "</div>\n"
   ]
  },
  {
   "cell_type": "code",
   "execution_count": 104,
   "id": "503804af-9b58-4294-83d1-1b4dfe4aa9da",
   "metadata": {},
   "outputs": [
    {
     "name": "stdout",
     "output_type": "stream",
     "text": [
      "30\n"
     ]
    }
   ],
   "source": [
    "\n",
    "# Get the value of the \"age\" property of the \"Person\" object:\n",
    "\n",
    "class Person:\n",
    "  name = \"Avinash\"\n",
    "  age = 30\n",
    "  country = \"India\"\n",
    "\n",
    "x = getattr(Person, 'age')\n",
    "\n",
    "print(x)\n"
   ]
  },
  {
   "cell_type": "code",
   "execution_count": 105,
   "id": "c4001bdb-87ec-4bac-9c5a-385f72ff3295",
   "metadata": {},
   "outputs": [
    {
     "name": "stdout",
     "output_type": "stream",
     "text": [
      "Data Engineering\n"
     ]
    }
   ],
   "source": [
    "\n",
    "# Use the \"default\" parameter to write a message when the attribute does not exist:\n",
    "\n",
    "class Person:\n",
    "  name = \"Avinash\"\n",
    "  age = 30\n",
    "  country = \"India\"\n",
    "\n",
    "x = getattr(Person, 'proffession', 'Data Engineering')\n",
    "\n",
    "print(x)\n"
   ]
  },
  {
   "cell_type": "code",
   "execution_count": null,
   "id": "018b75a2-2dcb-4275-a6aa-557c6c962fe1",
   "metadata": {},
   "outputs": [],
   "source": []
  },
  {
   "cell_type": "markdown",
   "id": "c59c8b11-7c08-4eb9-aa30-8732b05fc335",
   "metadata": {},
   "source": [
    "<br>\n",
    "\n",
    "<span style=\"background-color: yellow;font-size: larger\">&nbsp;**globals( )**&nbsp;</span> : returns the global symbol table as a **dictionary**.\n",
    "\n",
    "A symbol table <span style=\"background-color: #CAFEFD\">contains necessary information about the current program</span>.\n"
   ]
  },
  {
   "cell_type": "code",
   "execution_count": 1,
   "id": "f8ad05ed-c960-4c8e-a149-f1c8ee97e6f5",
   "metadata": {},
   "outputs": [
    {
     "name": "stdout",
     "output_type": "stream",
     "text": [
      "{'__name__': '__main__', '__doc__': 'Automatically created module for IPython interactive environment', '__package__': None, '__loader__': None, '__spec__': None, '__builtin__': <module 'builtins' (built-in)>, '__builtins__': <module 'builtins' (built-in)>, '_ih': ['', '# Display the global symbol table:\\n\\nx = globals()\\nprint(x)'], '_oh': {}, '_dh': [WindowsPath('C:/Users/user/Python_Programming')], 'In': ['', '# Display the global symbol table:\\n\\nx = globals()\\nprint(x)'], 'Out': {}, 'get_ipython': <bound method InteractiveShell.get_ipython of <ipykernel.zmqshell.ZMQInteractiveShell object at 0x000001A21DD021D0>>, 'exit': <IPython.core.autocall.ZMQExitAutocall object at 0x000001A21DD1E490>, 'quit': <IPython.core.autocall.ZMQExitAutocall object at 0x000001A21DD1E490>, 'open': <function open at 0x000001A21BCE1B20>, '_': '', '__': '', '___': '', '__session__': 'C:\\\\Users\\\\user\\\\Python_Programming\\\\Python Built-In Functions.ipynb', '_i': '', '_ii': '', '_iii': '', '_i1': '\\n# Display the global symbol table:\\n\\nx = globals()\\nprint(x)', 'x': {...}}\n"
     ]
    }
   ],
   "source": [
    "\n",
    "# Display the global symbol table:\n",
    "\n",
    "x = globals()\n",
    "print(x)\n"
   ]
  },
  {
   "cell_type": "code",
   "execution_count": 8,
   "id": "283aa872-965b-4f95-8a65-e0b847b74c8f",
   "metadata": {},
   "outputs": [
    {
     "name": "stdout",
     "output_type": "stream",
     "text": [
      "{'__name__': '__main__', '__doc__': 'Automatically created module for IPython interactive environment', '__package__': None, '__loader__': None, '__spec__': None, '__builtin__': <module 'builtins' (built-in)>, '__builtins__': <module 'builtins' (built-in)>, '_ih': ['', '# Display the global symbol table:\\n\\nx = globals()\\nprint(x)', 'x = 10\\ny = 20\\nglobal_vars = globals()\\nprint(global_vars)', 'import ipynbname\\nnb_fname = ipynbname.name()\\nprint(nb_fname)', '# Get the full path to the notebook:\\n\\nimport ipynbname\\nnb_path = ipynbname.path()\\nprint(nb_path)', '# Get the notebook name:\\n\\nimport ipynbname\\nnb_fname = ipynbname.name()\\nprint(nb_fname)', 'import os\\n\\nnotebook_path = os.getcwd()\\nprint(notebook_path)', 'x = 10\\ny = 20\\nglobal_vars = globals()\\nprint(global_vars)', 'x = 10\\ny = 20\\nglobal_vars = globals()\\nprint(global_vars)'], '_oh': {}, '_dh': [WindowsPath('C:/Users/user/Python_Programming')], 'In': ['', '# Display the global symbol table:\\n\\nx = globals()\\nprint(x)', 'x = 10\\ny = 20\\nglobal_vars = globals()\\nprint(global_vars)', 'import ipynbname\\nnb_fname = ipynbname.name()\\nprint(nb_fname)', '# Get the full path to the notebook:\\n\\nimport ipynbname\\nnb_path = ipynbname.path()\\nprint(nb_path)', '# Get the notebook name:\\n\\nimport ipynbname\\nnb_fname = ipynbname.name()\\nprint(nb_fname)', 'import os\\n\\nnotebook_path = os.getcwd()\\nprint(notebook_path)', 'x = 10\\ny = 20\\nglobal_vars = globals()\\nprint(global_vars)', 'x = 10\\ny = 20\\nglobal_vars = globals()\\nprint(global_vars)'], 'Out': {}, 'get_ipython': <bound method InteractiveShell.get_ipython of <ipykernel.zmqshell.ZMQInteractiveShell object at 0x000001A21DD021D0>>, 'exit': <IPython.core.autocall.ZMQExitAutocall object at 0x000001A21DD1E490>, 'quit': <IPython.core.autocall.ZMQExitAutocall object at 0x000001A21DD1E490>, 'open': <function open at 0x000001A21BCE1B20>, '_': '', '__': '', '___': '', '__session__': 'C:\\\\Users\\\\user\\\\Python_Programming\\\\Python Built-In Functions.ipynb', '_i': '\\nx = 10\\ny = 20\\nglobal_vars = globals()\\nprint(global_vars)', '_ii': 'import os\\n\\nnotebook_path = os.getcwd()\\nprint(notebook_path)', '_iii': '\\n# Get the notebook name:\\n\\nimport ipynbname\\nnb_fname = ipynbname.name()\\nprint(nb_fname)', '_i1': '\\n# Display the global symbol table:\\n\\nx = globals()\\nprint(x)', 'x': 10, '_i2': '\\nx = 10\\ny = 20\\nglobal_vars = globals()\\nprint(global_vars)', 'y': 20, 'global_vars': {...}, '_i3': 'import ipynbname\\nnb_fname = ipynbname.name()\\nprint(nb_fname)', 'ipynbname': <module 'ipynbname' from 'C:\\\\Users\\\\user\\\\AppData\\\\Local\\\\Programs\\\\Python\\\\Python311\\\\Lib\\\\site-packages\\\\ipynbname\\\\__init__.py'>, 'nb_fname': 'Python Built-In Functions', '_i4': '\\n# Get the full path to the notebook:\\n\\nimport ipynbname\\nnb_path = ipynbname.path()\\nprint(nb_path)', 'nb_path': WindowsPath('C:/Users/user/Python_Programming/Python Built-In Functions.ipynb'), '_i5': '\\n# Get the notebook name:\\n\\nimport ipynbname\\nnb_fname = ipynbname.name()\\nprint(nb_fname)', '_i6': 'import os\\n\\nnotebook_path = os.getcwd()\\nprint(notebook_path)', 'os': <module 'os' (frozen)>, 'notebook_path': 'C:\\\\Users\\\\user\\\\Python_Programming', '_i7': '\\nx = 10\\ny = 20\\nglobal_vars = globals()\\nprint(global_vars)', '_i8': '\\nx = 10\\ny = 20\\nglobal_vars = globals()\\nprint(global_vars)'}\n"
     ]
    }
   ],
   "source": [
    "\n",
    "x = 10\n",
    "y = 20\n",
    "global_vars = globals()\n",
    "print(global_vars)\n"
   ]
  },
  {
   "cell_type": "markdown",
   "id": "07c82cab-7395-4f2b-bd4a-00d14c89040f",
   "metadata": {},
   "source": [
    "<br>\n",
    "\n",
    "<br>\n",
    "\n",
    "<div style=\"border: 1px solid pink; padding: 10px; background-color: #fff6f6; width: 400px\">\n",
    "<strong># Get the filename of the current program:</strong><br>\n",
    "    <br>\n",
    "<span style=\"color:blue\">x = globals(&nbsp;)</span>  <br>\n",
    "<span style=\"color:blue\">print(&nbsp;x[&nbsp;\"__file__\"&nbsp;]&nbsp;)</span>\n",
    "    <br>\n",
    "    <br>\n",
    "    <br>\n",
    "    C:\\Users\\user\\Python_Programming\\ide_practice.py\n",
    "</div>\n",
    "\n",
    "<br>\n",
    "\n",
    "<span style=\"background-color: yellow; font-size: larger\">&nbsp;It works in an IDE&nbsp;</span> where you deal with <span style=\"background-color: #CAFEFD; font-size: larger\">&nbsp;**.py**&nbsp;</span> files\n",
    "However, it will throw error when you try to run the same code in <span style=\"background-color: #CAFEFD; font-size: larger\">&nbsp;**.ipython**&nbsp;</span> file for example Jupyter Notebook.\n",
    "\n",
    "<span style=\"background-color: #CAFEFD\">"
   ]
  },
  {
   "cell_type": "code",
   "execution_count": 114,
   "id": "394544ac-5ddc-4c12-8776-25dadc631fc2",
   "metadata": {},
   "outputs": [
    {
     "ename": "KeyError",
     "evalue": "'__file__'",
     "output_type": "error",
     "traceback": [
      "\u001b[1;31m---------------------------------------------------------------------------\u001b[0m",
      "\u001b[1;31mKeyError\u001b[0m                                  Traceback (most recent call last)",
      "Cell \u001b[1;32mIn[114], line 4\u001b[0m\n\u001b[0;32m      1\u001b[0m \u001b[38;5;66;03m# Get the filename of the current program:\u001b[39;00m\n\u001b[0;32m      3\u001b[0m x \u001b[38;5;241m=\u001b[39m \u001b[38;5;28mglobals\u001b[39m()\n\u001b[1;32m----> 4\u001b[0m \u001b[38;5;28mprint\u001b[39m(\u001b[43mx\u001b[49m\u001b[43m[\u001b[49m\u001b[38;5;124;43m\"\u001b[39;49m\u001b[38;5;124;43m__file__\u001b[39;49m\u001b[38;5;124;43m\"\u001b[39;49m\u001b[43m]\u001b[49m)\n",
      "\u001b[1;31mKeyError\u001b[0m: '__file__'"
     ]
    }
   ],
   "source": [
    "\n",
    "# Get the filename of the current program:\n",
    "\n",
    "x = globals()\n",
    "print(x[\"__file__\"])\n"
   ]
  },
  {
   "cell_type": "markdown",
   "id": "f333858c-1b35-46cc-9f3c-3bf341c0eca4",
   "metadata": {},
   "source": [
    "<br>\n",
    "\n",
    "This is because in Jupyter Notebook, the  **'\\_\\_file\\_\\_'** attribute is not available in the global namespace because <span style=\"background-color: #CAFEFD\">Jupyter Notebook does not execute code from a script file like a traditional Python script</span>. Instead, it executes code interactively within the notebook interface, so there is no concept of a file representing the current program.\n",
    "\n",
    "<font size=\"+2\">⭐</font>&nbsp;If you want to get information about the notebook itself, such as the filename or path, you can use the **'\\_\\_file\\_\\_'** attribute in Jupyter, but it will not provide meaningful information. Instead, you can use modules like <span style=\"background-color: yellow; font-size: larger\">&nbsp;**os**&nbsp;</span> or <span style=\"background-color: yellow; font-size: larger\">&nbsp;**ipynbname**&nbsp;</span> to get information about the notebook environment.\n"
   ]
  },
  {
   "cell_type": "code",
   "execution_count": 15,
   "id": "7659e892-3c8d-411b-83f3-5ae029c93824",
   "metadata": {},
   "outputs": [
    {
     "name": "stdout",
     "output_type": "stream",
     "text": [
      "C:\\Users\\user\\Python_Programming\n"
     ]
    }
   ],
   "source": [
    "\n",
    "import os\n",
    "\n",
    "notebook_path = os.getcwd()\n",
    "print(notebook_path)\n"
   ]
  },
  {
   "cell_type": "code",
   "execution_count": 10,
   "id": "3822993f-6f04-4fb8-805d-edc7b8aac5b9",
   "metadata": {},
   "outputs": [
    {
     "name": "stdout",
     "output_type": "stream",
     "text": [
      "Python Built-In Functions\n"
     ]
    }
   ],
   "source": [
    "\n",
    "# Get the notebook name:\n",
    "\n",
    "import ipynbname\n",
    "nb_fname = ipynbname.name()\n",
    "print(nb_fname)\n"
   ]
  },
  {
   "cell_type": "code",
   "execution_count": 11,
   "id": "9f34fadd-bfdd-417b-94f3-2f7e06e38bf2",
   "metadata": {},
   "outputs": [
    {
     "name": "stdout",
     "output_type": "stream",
     "text": [
      "C:\\Users\\user\\Python_Programming\\Python Built-In Functions.ipynb\n"
     ]
    }
   ],
   "source": [
    "\n",
    "# Get the full path to the notebook:\n",
    "\n",
    "import ipynbname\n",
    "nb_path = ipynbname.path()\n",
    "print(nb_path)\n"
   ]
  },
  {
   "cell_type": "code",
   "execution_count": null,
   "id": "c58ab816-1ffc-44f2-be57-786c091b5813",
   "metadata": {},
   "outputs": [],
   "source": []
  },
  {
   "cell_type": "markdown",
   "id": "5b20fda1-82e2-487a-ae03-a59d28253cd1",
   "metadata": {},
   "source": [
    "<br>\n",
    "\n",
    "<span style=\"background-color: yellow;font-size: larger\">&nbsp;**hasattr( )**&nbsp;</span> : returns **True** if the specified object has the <span style=\"background-color: #CAFEFD\">specified attribute</span>, otherwise **False**.\n",
    "\n",
    "<br>\n",
    "\n",
    "<div style=\"border: 1px solid pink; padding: 10px; margin-left: 120px; width: 300px; background-color: #fff6f6\">\n",
    "\n",
    "**getattr(** object, attribute **)**\n",
    "\n",
    "</div>\n"
   ]
  },
  {
   "cell_type": "code",
   "execution_count": 15,
   "id": "e98f2936-c1ec-45ea-9115-f96eb300edb3",
   "metadata": {},
   "outputs": [
    {
     "name": "stdout",
     "output_type": "stream",
     "text": [
      "True\n",
      "False\n"
     ]
    }
   ],
   "source": [
    "\n",
    "# Check if the \"Person\" object has the \"age\" property:\n",
    "\n",
    "class Person:\n",
    "  name = \"Avinash\"\n",
    "  age = 30\n",
    "  country = \"India\"\n",
    "\n",
    "x = hasattr(Person, 'age')\n",
    "print(x)\n",
    "\n",
    "y = hasattr(Person, 'proffession')\n",
    "print(y)\n"
   ]
  },
  {
   "cell_type": "code",
   "execution_count": null,
   "id": "2e2cb64d-f71d-4cac-8290-e2ef3ee79c34",
   "metadata": {},
   "outputs": [],
   "source": []
  },
  {
   "cell_type": "markdown",
   "id": "02e69d5f-9b0f-4a48-a37c-1fddd81b115c",
   "metadata": {},
   "source": [
    "<br>\n",
    "\n",
    "<span style=\"background-color: yellow;font-size: larger\">&nbsp;**hash( )**&nbsp;</span> : Returns the **hash value** (an integer) of a specified object. \n",
    "\n",
    "This hash value is used to <span style=\"background-color: #CAFEFD\">quickly compare dictionary keys during dictionary lookups</span>, which makes dictionaries highly efficient data structures for storing and retrieving key-value pairs.\n",
    "\n",
    "The hash value is determined based on the object's contents and is consistent for the object's lifetime. Immutable objects such as integers, floats, strings, and tuples have hash values, while mutable objects such as lists and dictionaries do not.\n",
    "\n",
    "<br>\n",
    "\n",
    "<div style=\"border: 1px solid pink; padding: 10px; margin-left: 120px; width: 200px; background-color: #fff6f6\">\n",
    "\n",
    "**hash(** object **)**\n",
    "\n",
    "</div>\n"
   ]
  },
  {
   "cell_type": "code",
   "execution_count": 17,
   "id": "8cf2bbc4-3cb3-4ea4-b088-e3203c83023f",
   "metadata": {},
   "outputs": [
    {
     "name": "stdout",
     "output_type": "stream",
     "text": [
      "42\n",
      "-6177894933079526091\n",
      "529344067295497451\n"
     ]
    }
   ],
   "source": [
    "\n",
    "print(hash(42))            # Output: 42\n",
    "print(hash('hello'))       # Output: 3322036811362428947\n",
    "print(hash((1, 2, 3)))     # Output: 2528502973977326415\n"
   ]
  },
  {
   "cell_type": "code",
   "execution_count": null,
   "id": "0a2e61c5-a0a8-4a82-ab60-d94cf2d5e143",
   "metadata": {},
   "outputs": [],
   "source": []
  },
  {
   "cell_type": "markdown",
   "id": "1ed09022-7342-461c-840a-6d5a43136cb3",
   "metadata": {},
   "source": [
    "<br>\n",
    "\n",
    "<span style=\"background-color: yellow;font-size: larger\">&nbsp;**help( )**&nbsp;</span> : Executes the built-in help system. \n",
    "\n",
    "The **help( )** function is used to <span style=\"background-color: #CAFEFD\">display documentation</span> about objects, modules, functions, classes, or methods. It's a built-in function that provides interactive help for Python objects.\n",
    "\n",
    "The **help( )** function will display <span style=\"background-color: #CAFEFD\">documentation strings (docstrings)</span> for the specified object or provide <span style=\"background-color: #CAFEFD\">general information</span> about the object, module, function, class, or method.\n",
    "\n",
    "<br>\n",
    "\n",
    "<font size=\"+2\"><span style=\"color: red\">↳</span></font>&nbsp;&nbsp;**1.** To get help on a specific object, module, function, class, or method, simply pass it as an argument to the **help( )** function.\n"
   ]
  },
  {
   "cell_type": "code",
   "execution_count": 19,
   "id": "42dbbcb2-9bd6-4755-80f7-973cbd473928",
   "metadata": {},
   "outputs": [
    {
     "name": "stdout",
     "output_type": "stream",
     "text": [
      "Help on class list in module builtins:\n",
      "\n",
      "class list(object)\n",
      " |  list(iterable=(), /)\n",
      " |  \n",
      " |  Built-in mutable sequence.\n",
      " |  \n",
      " |  If no argument is given, the constructor creates a new empty list.\n",
      " |  The argument must be an iterable if specified.\n",
      " |  \n",
      " |  Methods defined here:\n",
      " |  \n",
      " |  __add__(self, value, /)\n",
      " |      Return self+value.\n",
      " |  \n",
      " |  __contains__(self, key, /)\n",
      " |      Return key in self.\n",
      " |  \n",
      " |  __delitem__(self, key, /)\n",
      " |      Delete self[key].\n",
      " |  \n",
      " |  __eq__(self, value, /)\n",
      " |      Return self==value.\n",
      " |  \n",
      " |  __ge__(self, value, /)\n",
      " |      Return self>=value.\n",
      " |  \n",
      " |  __getattribute__(self, name, /)\n",
      " |      Return getattr(self, name).\n",
      " |  \n",
      " |  __getitem__(...)\n",
      " |      x.__getitem__(y) <==> x[y]\n",
      " |  \n",
      " |  __gt__(self, value, /)\n",
      " |      Return self>value.\n",
      " |  \n",
      " |  __iadd__(self, value, /)\n",
      " |      Implement self+=value.\n",
      " |  \n",
      " |  __imul__(self, value, /)\n",
      " |      Implement self*=value.\n",
      " |  \n",
      " |  __init__(self, /, *args, **kwargs)\n",
      " |      Initialize self.  See help(type(self)) for accurate signature.\n",
      " |  \n",
      " |  __iter__(self, /)\n",
      " |      Implement iter(self).\n",
      " |  \n",
      " |  __le__(self, value, /)\n",
      " |      Return self<=value.\n",
      " |  \n",
      " |  __len__(self, /)\n",
      " |      Return len(self).\n",
      " |  \n",
      " |  __lt__(self, value, /)\n",
      " |      Return self<value.\n",
      " |  \n",
      " |  __mul__(self, value, /)\n",
      " |      Return self*value.\n",
      " |  \n",
      " |  __ne__(self, value, /)\n",
      " |      Return self!=value.\n",
      " |  \n",
      " |  __repr__(self, /)\n",
      " |      Return repr(self).\n",
      " |  \n",
      " |  __reversed__(self, /)\n",
      " |      Return a reverse iterator over the list.\n",
      " |  \n",
      " |  __rmul__(self, value, /)\n",
      " |      Return value*self.\n",
      " |  \n",
      " |  __setitem__(self, key, value, /)\n",
      " |      Set self[key] to value.\n",
      " |  \n",
      " |  __sizeof__(self, /)\n",
      " |      Return the size of the list in memory, in bytes.\n",
      " |  \n",
      " |  append(self, object, /)\n",
      " |      Append object to the end of the list.\n",
      " |  \n",
      " |  clear(self, /)\n",
      " |      Remove all items from list.\n",
      " |  \n",
      " |  copy(self, /)\n",
      " |      Return a shallow copy of the list.\n",
      " |  \n",
      " |  count(self, value, /)\n",
      " |      Return number of occurrences of value.\n",
      " |  \n",
      " |  extend(self, iterable, /)\n",
      " |      Extend list by appending elements from the iterable.\n",
      " |  \n",
      " |  index(self, value, start=0, stop=9223372036854775807, /)\n",
      " |      Return first index of value.\n",
      " |      \n",
      " |      Raises ValueError if the value is not present.\n",
      " |  \n",
      " |  insert(self, index, object, /)\n",
      " |      Insert object before index.\n",
      " |  \n",
      " |  pop(self, index=-1, /)\n",
      " |      Remove and return item at index (default last).\n",
      " |      \n",
      " |      Raises IndexError if list is empty or index is out of range.\n",
      " |  \n",
      " |  remove(self, value, /)\n",
      " |      Remove first occurrence of value.\n",
      " |      \n",
      " |      Raises ValueError if the value is not present.\n",
      " |  \n",
      " |  reverse(self, /)\n",
      " |      Reverse *IN PLACE*.\n",
      " |  \n",
      " |  sort(self, /, *, key=None, reverse=False)\n",
      " |      Sort the list in ascending order and return None.\n",
      " |      \n",
      " |      The sort is in-place (i.e. the list itself is modified) and stable (i.e. the\n",
      " |      order of two equal elements is maintained).\n",
      " |      \n",
      " |      If a key function is given, apply it once to each list item and sort them,\n",
      " |      ascending or descending, according to their function values.\n",
      " |      \n",
      " |      The reverse flag can be set to sort in descending order.\n",
      " |  \n",
      " |  ----------------------------------------------------------------------\n",
      " |  Class methods defined here:\n",
      " |  \n",
      " |  __class_getitem__(...) from builtins.type\n",
      " |      See PEP 585\n",
      " |  \n",
      " |  ----------------------------------------------------------------------\n",
      " |  Static methods defined here:\n",
      " |  \n",
      " |  __new__(*args, **kwargs) from builtins.type\n",
      " |      Create and return a new object.  See help(type) for accurate signature.\n",
      " |  \n",
      " |  ----------------------------------------------------------------------\n",
      " |  Data and other attributes defined here:\n",
      " |  \n",
      " |  __hash__ = None\n",
      "\n"
     ]
    }
   ],
   "source": [
    "\n",
    "help(list)\n"
   ]
  },
  {
   "cell_type": "markdown",
   "id": "ce1e0309-65eb-4cda-8cb6-6858cdb407a3",
   "metadata": {},
   "source": [
    "<br>\n",
    "\n",
    "<font size=\"+2\"><span style=\"color: red\">↳</span></font>&nbsp;&nbsp;**2.** You can also use **help( )** without arguments to enter an interactive help session. In this session, you can type the name of the object, module, function, class, or method you want help on."
   ]
  },
  {
   "cell_type": "code",
   "execution_count": 21,
   "id": "74d685ca-3089-4c7c-977b-8816c7bb0729",
   "metadata": {},
   "outputs": [
    {
     "name": "stdout",
     "output_type": "stream",
     "text": [
      "\n",
      "Welcome to Python 3.11's help utility!\n",
      "\n",
      "If this is your first time using Python, you should definitely check out\n",
      "the tutorial on the internet at https://docs.python.org/3.11/tutorial/.\n",
      "\n",
      "Enter the name of any module, keyword, or topic to get help on writing\n",
      "Python programs and using Python modules.  To quit this help utility and\n",
      "return to the interpreter, just type \"quit\".\n",
      "\n",
      "To get a list of available modules, keywords, symbols, or topics, type\n",
      "\"modules\", \"keywords\", \"symbols\", or \"topics\".  Each module also comes\n",
      "with a one-line summary of what it does; to list the modules whose name\n",
      "or summary contain a given string such as \"spam\", type \"modules spam\".\n",
      "\n"
     ]
    },
    {
     "name": "stdin",
     "output_type": "stream",
     "text": [
      "help>  lambda\n"
     ]
    },
    {
     "name": "stdout",
     "output_type": "stream",
     "text": [
      "Lambdas\n",
      "*******\n",
      "\n",
      "   lambda_expr ::= \"lambda\" [parameter_list] \":\" expression\n",
      "\n",
      "Lambda expressions (sometimes called lambda forms) are used to create\n",
      "anonymous functions. The expression \"lambda parameters: expression\"\n",
      "yields a function object.  The unnamed object behaves like a function\n",
      "object defined with:\n",
      "\n",
      "   def <lambda>(parameters):\n",
      "       return expression\n",
      "\n",
      "See section Function definitions for the syntax of parameter lists.\n",
      "Note that functions created with lambda expressions cannot contain\n",
      "statements or annotations.\n",
      "\n",
      "Related help topics: FUNCTIONS\n",
      "\n"
     ]
    },
    {
     "name": "stdin",
     "output_type": "stream",
     "text": [
      "help>  quit\n"
     ]
    },
    {
     "name": "stdout",
     "output_type": "stream",
     "text": [
      "\n",
      "You are now leaving help and returning to the Python interpreter.\n",
      "If you want to ask for help on a particular object directly from the\n",
      "interpreter, you can type \"help(object)\".  Executing \"help('string')\"\n",
      "has the same effect as typing a particular string at the help> prompt.\n"
     ]
    }
   ],
   "source": [
    "\n",
    "help()\n"
   ]
  },
  {
   "cell_type": "markdown",
   "id": "0cd9c322-08ce-48d2-a0e3-ed9860a55c7e",
   "metadata": {},
   "source": [
    "<br>\n",
    "\n",
    "<font size=\"+2\"><span style=\"color: red\">↳</span></font>&nbsp;&nbsp;**3.** To exit the interactive help session, type **quit** or press **Ctrl + D**.\n",
    "\n",
    "\n"
   ]
  },
  {
   "cell_type": "code",
   "execution_count": null,
   "id": "0b1ce54d-6fd6-4660-bb25-6ca72eb183f1",
   "metadata": {},
   "outputs": [],
   "source": []
  },
  {
   "cell_type": "markdown",
   "id": "cd4ea1db-7757-4fe9-b008-f4a47b0270e7",
   "metadata": {},
   "source": [
    "<br>\n",
    "\n",
    "<span style=\"background-color: yellow;font-size: larger\">&nbsp;**hex( )**&nbsp;</span> : converts the specified number into a hexadecimal value.\n",
    "\n",
    "The returned string always starts with the prefix <span style=\"background-color: #FFE9FF; color: red\">&nbsp;<font size=\"+1\">0x</font>&nbsp;</span>.\n",
    "\n",
    "<br>\n",
    "\n",
    "<div style=\"border: 1px solid pink; padding: 10px; margin-left: 120px; width: 200px; background-color: #fff6f6\">\n",
    "\n",
    "**hex(** int **)**\n",
    "\n",
    "</div>\n",
    "\n",
    "<br>\n",
    "\n",
    "&nbsp;&nbsp;&nbsp;&nbsp;&nbsp;&nbsp;&nbsp;&nbsp;&nbsp;&nbsp;&nbsp;&nbsp;&nbsp;&nbsp;&nbsp;&nbsp;&nbsp;&nbsp;&nbsp;&nbsp;&nbsp;&nbsp;&nbsp;&nbsp;&nbsp;&nbsp;&nbsp;&nbsp;&nbsp;&nbsp;&nbsp;&nbsp;where, int  =====>  an integer number"
   ]
  },
  {
   "cell_type": "code",
   "execution_count": 25,
   "id": "4166852e-4ae8-407e-9eab-eb1cf734dd3f",
   "metadata": {},
   "outputs": [
    {
     "name": "stdout",
     "output_type": "stream",
     "text": [
      "0xff\n"
     ]
    }
   ],
   "source": [
    "\n",
    "# Convert 255 into hexadecimal value:\n",
    "\n",
    "x = hex(255)\n",
    "\n",
    "print(x)\n"
   ]
  },
  {
   "cell_type": "code",
   "execution_count": null,
   "id": "4ac5517a-f96c-44d7-9556-951d0acd0cb3",
   "metadata": {},
   "outputs": [],
   "source": []
  },
  {
   "cell_type": "markdown",
   "id": "87f1ec34-6429-4ddc-8356-b505c6da8acc",
   "metadata": {},
   "source": [
    "<br>\n",
    "\n",
    "<span style=\"background-color: yellow;font-size: larger\">&nbsp;**id( )**&nbsp;</span> : returns a **unique id** for the specified object.\n",
    "\n",
    "It used to return the **identity ( <span style=\"background-color: #CAFEFD\">memory address </span> &nbsp;)** of an object. The identity of an object is unique and remains constant during the lifetime of the object.\n",
    "\n",
    "All objects in Python has its own unique id.\n",
    "\n",
    "The id is assigned to the object when it is created.\n",
    "\n",
    "The id is the object's memory address, and will be different for each time you run the program. (&nbsp;<span style=\"background-color: #CAFEFD\">except for some object that has a **constant unique id**, like integers from **-5 to 256**</span> &nbsp;)\n",
    "\n",
    "<div style=\"border: 1px solid pink; padding: 10px; margin-left: 120px; width: 200px; background-color: #fff6f6\">\n",
    "\n",
    "**id(** object **)**\n",
    "\n",
    "</div>\n",
    "\n",
    "<br>\n",
    "\n",
    "&nbsp;&nbsp;&nbsp;&nbsp;&nbsp;&nbsp;&nbsp;&nbsp;&nbsp;&nbsp;&nbsp;&nbsp;&nbsp;&nbsp;&nbsp;&nbsp;&nbsp;&nbsp;&nbsp;&nbsp;&nbsp;&nbsp;&nbsp;&nbsp;&nbsp;&nbsp;&nbsp;&nbsp;&nbsp;&nbsp;&nbsp;&nbsp;where object ====> object, String, Number, List, Class etc.\n"
   ]
  },
  {
   "cell_type": "code",
   "execution_count": 40,
   "id": "8aef1fe9-0c60-40fb-ad63-f882c1058059",
   "metadata": {},
   "outputs": [
    {
     "name": "stdout",
     "output_type": "stream",
     "text": [
      "140727353469000\n",
      "1795797083072\n"
     ]
    }
   ],
   "source": [
    "\n",
    "x = 42\n",
    "print(id(x))  # Output: A memory address where the integer 42 is stored\n",
    "\n",
    "\n",
    "y = [1, 2, 3]\n",
    "print(id(y))  # Output: A memory address where the list [1, 2, 3] is stored\n"
   ]
  },
  {
   "cell_type": "markdown",
   "id": "dd689a32-806e-4ae5-96a8-8fa4d22e1ac7",
   "metadata": {},
   "source": [
    "<br>\n",
    "\n",
    "<span style=\"background-color: #CAFEFD\">The **id( )** function is often used for **debugging** or to verify that two variables or objects reference the same underlying data in memory</span>. \n",
    "\n",
    "<font size=\"+2\">⭐</font>However, it's important to note that while two objects with the same **id( )** are guaranteed to be the same object, two objects with different **id( )** values may or may not be different objects, depending on the Python implementation.\n"
   ]
  },
  {
   "cell_type": "code",
   "execution_count": 32,
   "id": "c2559552-d37e-4b64-8d11-29529e8f15b2",
   "metadata": {},
   "outputs": [
    {
     "name": "stdout",
     "output_type": "stream",
     "text": [
      "140727353469000\n",
      "140727353469000\n"
     ]
    }
   ],
   "source": [
    "\n",
    "# Example 1: Immutable objects\n",
    "x = 42\n",
    "y = 42\n",
    "\n",
    "\n",
    "print(id(x))  # Output: A memory address\n",
    "print(id(y))  # Output: The same memory address\n"
   ]
  },
  {
   "cell_type": "markdown",
   "id": "3de77f91-468f-43cc-ae8b-bd6c12bd22e4",
   "metadata": {},
   "source": [
    "<font size=\"+2\"><span>↳</span></font>&nbsp;&nbsp;<span style=\"color: blue\">Since integers are immutable, Python reuses the memory address for the integer 42</span>. Therefore, x and y reference the same object.\n",
    "\n",
    "<br>"
   ]
  },
  {
   "cell_type": "code",
   "execution_count": 37,
   "id": "ce51d4f0-40e0-4a2f-9b56-bb93d23af5d1",
   "metadata": {},
   "outputs": [
    {
     "name": "stdout",
     "output_type": "stream",
     "text": [
      "1795812007872\n",
      "1795796446336\n"
     ]
    }
   ],
   "source": [
    "\n",
    "# Example 2: Mutable objects\n",
    "a = [1, 2, 3]\n",
    "b = [1, 2, 3]\n",
    "\n",
    "\n",
    "print(id(a))  # Output: A memory address\n",
    "print(id(b))  # Output: A different memory address\n"
   ]
  },
  {
   "cell_type": "markdown",
   "id": "5e6cb9a1-8bac-4515-bfd1-192755307eb4",
   "metadata": {},
   "source": [
    "<font size=\"+2\"><span>↳</span></font>&nbsp;&nbsp;<span style=\"color: blue\">Even though the lists have the same values, Python creates separate objects for a and b because lists are mutable</span>. Therefore, a and b reference different objects.\n",
    "\n",
    "<br>\n"
   ]
  },
  {
   "cell_type": "code",
   "execution_count": 38,
   "id": "55e354eb-068e-42d3-8483-aaea0b40b826",
   "metadata": {},
   "outputs": [
    {
     "name": "stdout",
     "output_type": "stream",
     "text": [
      "1795776014640\n",
      "1795776014640\n"
     ]
    }
   ],
   "source": [
    "\n",
    "# Example 3: Strings\n",
    "s1 = \"hello\"\n",
    "s2 = \"hello\"\n",
    "\n",
    "print(id(s1))  # Output: A memory address\n",
    "print(id(s2))  # Output: The same memory address\n"
   ]
  },
  {
   "cell_type": "markdown",
   "id": "caa6a95f-f179-4aec-9dd0-4eacd4c8e2ab",
   "metadata": {},
   "source": [
    "\n",
    "<font size=\"+2\"><span>↳</span></font>&nbsp;&nbsp;<span style=\"color: blue\">Similar to integers, Python reuses memory addresses for identical string literals</span>. Therefore, s1 and s2 reference the same string object.\n"
   ]
  },
  {
   "cell_type": "code",
   "execution_count": null,
   "id": "1f216838-aae8-4beb-a6a4-73574bbc74d0",
   "metadata": {},
   "outputs": [],
   "source": []
  },
  {
   "cell_type": "markdown",
   "id": "d0917ab7-a7de-4d48-8a04-40dd1538be25",
   "metadata": {},
   "source": [
    "<br>\n",
    "\n",
    "<span style=\"background-color: yellow;font-size: larger\">&nbsp;**input( )**&nbsp;</span> : allows <span style=\"background-color: #CAFEFD\">user input</span>.\n",
    "\n",
    "<br>\n",
    "\n",
    "<div style=\"border: 1px solid pink; padding: 10px; margin-left: 120px; width: 200px; background-color: #fff6f6\">\n",
    "\n",
    "**input(** prompt **)**\n",
    "\n",
    "</div>\n",
    "\n",
    "<br>\n",
    "\n",
    "&nbsp;&nbsp;&nbsp;&nbsp;&nbsp;&nbsp;&nbsp;&nbsp;&nbsp;&nbsp;&nbsp;&nbsp;&nbsp;&nbsp;&nbsp;&nbsp;&nbsp;&nbsp;&nbsp;&nbsp;&nbsp;&nbsp;&nbsp;&nbsp;&nbsp;&nbsp;&nbsp;&nbsp;&nbsp;&nbsp;&nbsp;where, prompt &nbsp;=====>&nbsp; A String, representing a default message before the input.\n",
    "\n"
   ]
  },
  {
   "cell_type": "code",
   "execution_count": 42,
   "id": "00ffe877-b844-40d4-b136-ba7c667ee68c",
   "metadata": {},
   "outputs": [
    {
     "name": "stdout",
     "output_type": "stream",
     "text": [
      "Enter your name:\n"
     ]
    },
    {
     "name": "stdin",
     "output_type": "stream",
     "text": [
      " Avinash\n"
     ]
    },
    {
     "name": "stdout",
     "output_type": "stream",
     "text": [
      "Hello, Avinash\n"
     ]
    }
   ],
   "source": [
    "\n",
    "# Ask for the user's name and print it:\n",
    "\n",
    "print('Enter your name:')\n",
    "x = input()\n",
    "print('Hello, ' + x)\n"
   ]
  },
  {
   "cell_type": "code",
   "execution_count": 43,
   "id": "9f9595aa-0f1b-436a-b539-2f357317c1f6",
   "metadata": {},
   "outputs": [
    {
     "name": "stdin",
     "output_type": "stream",
     "text": [
      "Enter your name: Data Engineering is awesome!\n"
     ]
    },
    {
     "name": "stdout",
     "output_type": "stream",
     "text": [
      "Hello, Data Engineering is awesome!\n"
     ]
    }
   ],
   "source": [
    "\n",
    "# Use the prompt parameter to write a message before the input:\n",
    "\n",
    "x = input('Enter your name:')\n",
    "print('Hello, ' + x)\n"
   ]
  },
  {
   "cell_type": "code",
   "execution_count": null,
   "id": "080a881c-193b-4f36-b792-ba261886d329",
   "metadata": {},
   "outputs": [],
   "source": []
  },
  {
   "cell_type": "markdown",
   "id": "b85fbd8a-ff47-4dbb-a116-4e055c790399",
   "metadata": {},
   "source": [
    "<br>\n",
    "\n",
    "<span style=\"background-color: yellow;font-size: larger\">&nbsp;**int( )**&nbsp;</span> : converts the specified value into an integer number.\n",
    "\n",
    "<br>\n",
    "\n",
    "<div style=\"border: 1px solid pink; padding: 10px; margin-left: 120px; width: 200px; background-color: #fff6f6\">\n",
    "\n",
    "**int(** value, base **)**\n",
    "\n",
    "</div>\n",
    "\n",
    "<br>\n",
    "\n",
    "&nbsp;&nbsp;&nbsp;&nbsp;&nbsp;&nbsp;&nbsp;&nbsp;&nbsp;&nbsp;&nbsp;&nbsp;&nbsp;&nbsp;&nbsp;&nbsp;&nbsp;&nbsp;&nbsp;&nbsp;&nbsp;&nbsp;&nbsp;&nbsp;&nbsp;&nbsp;&nbsp;&nbsp;&nbsp;&nbsp;&nbsp;&nbsp;value ======> A <span style=\"background-color: #CAFEFD\">number or a string</span> that can be converted into an integer number.  <br>\n",
    "&nbsp;&nbsp;&nbsp;&nbsp;&nbsp;&nbsp;&nbsp;&nbsp;&nbsp;&nbsp;&nbsp;&nbsp;&nbsp;&nbsp;&nbsp;&nbsp;&nbsp;&nbsp;&nbsp;&nbsp;&nbsp;&nbsp;&nbsp;&nbsp;&nbsp;&nbsp;&nbsp;&nbsp;&nbsp;&nbsp;&nbsp;&nbsp;base ======> A number representing the number format. Default value: **10**\n"
   ]
  },
  {
   "cell_type": "code",
   "execution_count": 53,
   "id": "873feb0f-f318-4e02-8242-c508cbf5fb0c",
   "metadata": {},
   "outputs": [
    {
     "name": "stdout",
     "output_type": "stream",
     "text": [
      "10\n",
      "3\n",
      "42\n"
     ]
    }
   ],
   "source": [
    "\n",
    "print(int(10))            # Output: 10\n",
    "print(int(3.14))          # Output: 3\n",
    "print(int(\"42\"))          # Output: 42\n"
   ]
  },
  {
   "cell_type": "code",
   "execution_count": 74,
   "id": "8adacb79-f1d3-4726-8416-12df15d83144",
   "metadata": {},
   "outputs": [
    {
     "name": "stdout",
     "output_type": "stream",
     "text": [
      "255\n"
     ]
    }
   ],
   "source": [
    "\n",
    "# Convert hexadecimal string to integer\n",
    "print(int(\"FF\", 16))      # Output: 255\n"
   ]
  },
  {
   "cell_type": "code",
   "execution_count": 75,
   "id": "6dbfc85f-8722-43e6-a5a6-4bb80266bb28",
   "metadata": {},
   "outputs": [
    {
     "ename": "ValueError",
     "evalue": "invalid literal for int() with base 8: 'FF'",
     "output_type": "error",
     "traceback": [
      "\u001b[1;31m---------------------------------------------------------------------------\u001b[0m",
      "\u001b[1;31mValueError\u001b[0m                                Traceback (most recent call last)",
      "Cell \u001b[1;32mIn[75], line 2\u001b[0m\n\u001b[0;32m      1\u001b[0m \u001b[38;5;66;03m# But\u001b[39;00m\n\u001b[1;32m----> 2\u001b[0m \u001b[38;5;28mprint\u001b[39m(\u001b[38;5;28;43mint\u001b[39;49m\u001b[43m(\u001b[49m\u001b[38;5;124;43m\"\u001b[39;49m\u001b[38;5;124;43mFF\u001b[39;49m\u001b[38;5;124;43m\"\u001b[39;49m\u001b[43m,\u001b[49m\u001b[43m \u001b[49m\u001b[38;5;241;43m8\u001b[39;49m\u001b[43m)\u001b[49m)\n",
      "\u001b[1;31mValueError\u001b[0m: invalid literal for int() with base 8: 'FF'"
     ]
    }
   ],
   "source": [
    "\n",
    "# But\n",
    "print(int(\"FF\", 8))\n"
   ]
  },
  {
   "cell_type": "code",
   "execution_count": 76,
   "id": "ec968ded-1b6f-4499-b06e-c7f6540824cb",
   "metadata": {},
   "outputs": [
    {
     "name": "stdout",
     "output_type": "stream",
     "text": [
      "10\n",
      "1010\n"
     ]
    }
   ],
   "source": [
    "\n",
    "# Convert binary string to integer\n",
    "print(int(\"1010\", 2))     # Output: 10\n",
    "print(int(\"1010\", 10))    # Output: 1010\n"
   ]
  },
  {
   "cell_type": "code",
   "execution_count": 77,
   "id": "de4f12b6-e252-476f-8377-69a6138654b6",
   "metadata": {},
   "outputs": [
    {
     "ename": "TypeError",
     "evalue": "int() can't convert non-string with explicit base",
     "output_type": "error",
     "traceback": [
      "\u001b[1;31m---------------------------------------------------------------------------\u001b[0m",
      "\u001b[1;31mTypeError\u001b[0m                                 Traceback (most recent call last)",
      "Cell \u001b[1;32mIn[77], line 1\u001b[0m\n\u001b[1;32m----> 1\u001b[0m \u001b[38;5;28mprint\u001b[39m(\u001b[38;5;28;43mint\u001b[39;49m\u001b[43m(\u001b[49m\u001b[38;5;241;43m1010\u001b[39;49m\u001b[43m,\u001b[49m\u001b[43m \u001b[49m\u001b[38;5;241;43m2\u001b[39;49m\u001b[43m)\u001b[49m)\n",
      "\u001b[1;31mTypeError\u001b[0m: int() can't convert non-string with explicit base"
     ]
    }
   ],
   "source": [
    "\n",
    "print(int(1010, 2))\n"
   ]
  },
  {
   "cell_type": "code",
   "execution_count": 78,
   "id": "b2be9c73-7397-44a0-a04a-812b6b5952fa",
   "metadata": {},
   "outputs": [
    {
     "ename": "TypeError",
     "evalue": "int() can't convert non-string with explicit base",
     "output_type": "error",
     "traceback": [
      "\u001b[1;31m---------------------------------------------------------------------------\u001b[0m",
      "\u001b[1;31mTypeError\u001b[0m                                 Traceback (most recent call last)",
      "Cell \u001b[1;32mIn[78], line 1\u001b[0m\n\u001b[1;32m----> 1\u001b[0m \u001b[38;5;28mprint\u001b[39m(\u001b[38;5;28;43mint\u001b[39;49m\u001b[43m(\u001b[49m\u001b[38;5;241;43m1010\u001b[39;49m\u001b[43m,\u001b[49m\u001b[43m \u001b[49m\u001b[38;5;241;43m10\u001b[39;49m\u001b[43m)\u001b[49m)\n",
      "\u001b[1;31mTypeError\u001b[0m: int() can't convert non-string with explicit base"
     ]
    }
   ],
   "source": [
    "\n",
    "print(int(1010, 10))\n"
   ]
  },
  {
   "cell_type": "code",
   "execution_count": null,
   "id": "383f81a3-d4a1-4f52-86bb-1d68301591d8",
   "metadata": {},
   "outputs": [],
   "source": []
  },
  {
   "cell_type": "markdown",
   "id": "5be800ca-5dfd-4294-a191-8d99c0164d96",
   "metadata": {},
   "source": [
    "<br>\n",
    "\n",
    "<br>\n",
    "\n",
    "<span style=\"background-color: yellow;font-size: larger\">&nbsp;**isinstance( )**&nbsp;</span> : returns **True** if the <span style=\"background-color: #CAFEFD\">specified object is of the specified type</span>, otherwise **False**.\n",
    "\n",
    "If the type parameter is a tuple, this function will return True if the object is one of the types in the tuple.\n",
    "\n",
    "<br>\n",
    "\n",
    "<div style=\"border: 1px solid pink; padding: 10px; margin-left: 120px; width: 200px; background-color: #fff6f6\">\n",
    "\n",
    "**isinstance(** object, type **)**\n",
    "\n",
    "</div>\n",
    "\n",
    "<br>\n",
    "\n",
    "&nbsp;&nbsp;&nbsp;&nbsp;&nbsp;&nbsp;&nbsp;&nbsp;&nbsp;&nbsp;&nbsp;&nbsp;&nbsp;&nbsp;&nbsp;&nbsp;&nbsp;&nbsp;&nbsp;&nbsp;&nbsp;&nbsp;&nbsp;&nbsp;&nbsp;&nbsp;&nbsp;&nbsp;&nbsp;&nbsp;&nbsp;&nbsp;where type &nbsp;=======>&nbsp;\tA type or a class, or a tuple of types and/or classes"
   ]
  },
  {
   "cell_type": "code",
   "execution_count": 80,
   "id": "0a4b00b8-353a-4506-8f9c-a4dadc1932ec",
   "metadata": {},
   "outputs": [
    {
     "name": "stdout",
     "output_type": "stream",
     "text": [
      "True\n"
     ]
    }
   ],
   "source": [
    "\n",
    "# Check if the number 5 is an integer:\n",
    "\n",
    "x = isinstance(5, int)\n",
    "\n",
    "print(x)\n"
   ]
  },
  {
   "cell_type": "code",
   "execution_count": 83,
   "id": "bf0b5424-af54-4230-a0d8-22a81b829d06",
   "metadata": {},
   "outputs": [
    {
     "name": "stdout",
     "output_type": "stream",
     "text": [
      "True\n"
     ]
    }
   ],
   "source": [
    "\n",
    "# Check if \"Hello\" is one of the types described in the type parameter:\n",
    "\n",
    "x = isinstance(\"Hello\", (float, int, str, list, dict, tuple))\n",
    "\n",
    "print(x)\n"
   ]
  },
  {
   "cell_type": "code",
   "execution_count": 86,
   "id": "927564e6-439a-4b1b-9107-7df1192284fb",
   "metadata": {},
   "outputs": [
    {
     "name": "stdout",
     "output_type": "stream",
     "text": [
      "True\n"
     ]
    }
   ],
   "source": [
    "\n",
    "# Check if y is an instance of myObj:\n",
    "\n",
    "class myObj:\n",
    "  name = \"John\"\n",
    "\n",
    "y = myObj()\n",
    "\n",
    "x = isinstance(y, myObj)\n",
    "\n",
    "print(x)\n"
   ]
  },
  {
   "cell_type": "code",
   "execution_count": null,
   "id": "7557fd32-f139-48a3-91c5-2f29bd4b52b3",
   "metadata": {},
   "outputs": [],
   "source": []
  },
  {
   "cell_type": "markdown",
   "id": "866772d3-283e-4ea2-9927-10dc406f59e4",
   "metadata": {},
   "source": [
    "<br>\n",
    "\n",
    "<span style=\"background-color: yellow;font-size: larger\">&nbsp;**issubclass( )**&nbsp;</span> : returns **True** if the <span style=\"background-color: #CAFEFD\">specified object is a subclass of the specified object</span>, otherwise **False**.\n",
    "\n",
    "<div style=\"border: 1px solid pink; padding: 10px; margin-left: 120px; width: 200px; background-color: #fff6f6\">\n",
    "\n",
    "**issubclass(** object, subclass **)**\n",
    "\n",
    "</div>\n",
    "\n",
    "<br>\n",
    "\n",
    "&nbsp;&nbsp;&nbsp;&nbsp;&nbsp;&nbsp;&nbsp;&nbsp;&nbsp;&nbsp;&nbsp;&nbsp;&nbsp;&nbsp;&nbsp;&nbsp;&nbsp;&nbsp;&nbsp;&nbsp;&nbsp;&nbsp;&nbsp;&nbsp;&nbsp;&nbsp;&nbsp;&nbsp;&nbsp;&nbsp;&nbsp;&nbsp;where, subclass &nbsp;=======>&nbsp; A class object, or a tuple of class objects\n"
   ]
  },
  {
   "cell_type": "code",
   "execution_count": 90,
   "id": "7cb8b52a-3c70-4af8-ab3d-f58d04fa4f43",
   "metadata": {},
   "outputs": [
    {
     "name": "stdout",
     "output_type": "stream",
     "text": [
      "True\n"
     ]
    }
   ],
   "source": [
    "\n",
    "# Check if the class myObj is a subclass of myAge:\n",
    "\n",
    "class myAge:\n",
    "  age = 36\n",
    "\n",
    "\n",
    "class myObj(myAge):\n",
    "  name = \"John\"\n",
    "  age = myAge\n",
    "\n",
    "\n",
    "x = issubclass(myObj, myAge)\n",
    "\n",
    "\n",
    "print(x)\n"
   ]
  },
  {
   "cell_type": "code",
   "execution_count": null,
   "id": "a71bbd27-eab8-4b70-a541-38a31748cb9e",
   "metadata": {},
   "outputs": [],
   "source": []
  },
  {
   "cell_type": "markdown",
   "id": "9087e168-9f08-43e6-b5eb-450c68ca90cf",
   "metadata": {},
   "source": [
    "<br>\n",
    "\n",
    "<span style=\"background-color: yellow;font-size: larger\">&nbsp;**iter( )**&nbsp;</span> : returns an **iterator object**.\n",
    "\n",
    "<br>\n",
    "\n",
    "<div style=\"border: 1px solid pink; padding: 10px; margin-left: 120px; width: 200px; background-color: #fff6f6\">\n",
    "\n",
    "**iter(** object[, sentinel] **)**\n",
    "\n",
    "</div>\n",
    "\n",
    "<br>\n",
    "\n",
    "&nbsp;&nbsp;&nbsp;&nbsp;&nbsp;&nbsp;&nbsp;&nbsp;&nbsp;&nbsp;&nbsp;&nbsp;&nbsp;&nbsp;&nbsp;&nbsp;&nbsp;&nbsp;&nbsp;&nbsp;&nbsp;&nbsp;&nbsp;&nbsp;&nbsp;&nbsp;&nbsp;&nbsp;&nbsp;&nbsp;&nbsp;&nbsp;where, object&nbsp;&nbsp;========>&nbsp;&nbsp; Required. An iterable object.   <br>\n",
    "\n",
    "&nbsp;&nbsp;&nbsp;&nbsp;&nbsp;&nbsp;&nbsp;&nbsp;&nbsp;&nbsp;&nbsp;&nbsp;&nbsp;&nbsp;&nbsp;&nbsp;&nbsp;&nbsp;&nbsp;&nbsp;&nbsp;&nbsp;&nbsp;&nbsp;&nbsp;&nbsp;&nbsp;&nbsp;&nbsp;&nbsp;&nbsp;&nbsp;&nbsp;&nbsp;&nbsp;&nbsp;&nbsp;&nbsp;&nbsp;&nbsp;&nbsp;&nbsp;&nbsp;&nbsp;sentinel  &nbsp;=======>&nbsp; Optional. If the object is a callable object the iteration will stop when the returned value is the same as the sentinel.\n",
    "\n",
    "<br>\n",
    "\n",
    "<span style=\"background-color: #F5C0FF\">&nbsp;**Note**&nbsp;</span> ⇒ If the sentinel value is provided and the object is a callable object, then the iteration will stop when the returned <br> value is the same as the sentinel. However, if the sentinel value is not provided, the **iterable** must be a callable object that returns the next value when called with no arguments, and iteration will stop when the callable returns a **StopIteration** exception.\n",
    "\n"
   ]
  },
  {
   "cell_type": "code",
   "execution_count": 1,
   "id": "291b20b4-f545-4ed4-9a3e-891fc7e3b8d8",
   "metadata": {},
   "outputs": [
    {
     "name": "stdout",
     "output_type": "stream",
     "text": [
      "apple\n",
      "banana\n",
      "cherry\n",
      "mango\n"
     ]
    }
   ],
   "source": [
    "\n",
    "# Create an iterator object for a list, and print the items:\n",
    "\n",
    "my_iterator = iter([\"apple\", \"banana\", \"cherry\", \"mango\"])\n",
    "\n",
    "\n",
    "# Iterate over the iterator using next() which is also a python buil-in function\n",
    "print(next(my_iterator))\n",
    "print(next(my_iterator))\n",
    "print(next(my_iterator))\n",
    "print(next(my_iterator))\n"
   ]
  },
  {
   "cell_type": "markdown",
   "id": "c99eb5fd-015b-4b63-a40c-775735e9f2c1",
   "metadata": {},
   "source": [
    "<br>\n",
    "\n",
    "We can use **for loop** too to iterate the resulatant iterable object:"
   ]
  },
  {
   "cell_type": "code",
   "execution_count": 2,
   "id": "92a75e10-a578-4908-b17b-f5756c36c3bc",
   "metadata": {},
   "outputs": [
    {
     "name": "stdout",
     "output_type": "stream",
     "text": [
      "apple\n",
      "banana\n",
      "cherry\n",
      "mango\n"
     ]
    }
   ],
   "source": [
    "\n",
    "# Create an iterator for a list\n",
    "my_list = [\"apple\", \"banana\", \"cherry\", \"mango\"]\n",
    "my_iterator = iter(my_list)\n",
    "\n",
    "\n",
    "# Iterate over the iterator\n",
    "for item in my_iterator:\n",
    "    print(item)\n"
   ]
  },
  {
   "cell_type": "code",
   "execution_count": null,
   "id": "7fa699c3-24e6-4f99-83f3-11fc028337a2",
   "metadata": {},
   "outputs": [],
   "source": []
  },
  {
   "cell_type": "markdown",
   "id": "a9cf403e-e5f2-4354-8137-1bb4343e4205",
   "metadata": {},
   "source": [
    "<br>\n",
    "\n",
    "<span style=\"background-color: yellow;font-size: larger\">&nbsp;**len( )**&nbsp;</span> : returns the number of items in an object.\n",
    "\n",
    "<br>\n",
    "\n",
    "<div style=\"border: 1px solid pink; padding: 10px; margin-left: 120px; width: 200px; background-color: #fff6f6\">\n",
    "\n",
    "**len(** object **)**\n",
    "\n",
    "</div>\n",
    "\n",
    "<br>\n",
    "\n",
    "&nbsp;&nbsp;&nbsp;&nbsp;&nbsp;&nbsp;&nbsp;&nbsp;&nbsp;&nbsp;&nbsp;&nbsp;&nbsp;&nbsp;&nbsp;&nbsp;&nbsp;&nbsp;&nbsp;&nbsp;&nbsp;&nbsp;&nbsp;&nbsp;&nbsp;&nbsp;&nbsp;&nbsp;&nbsp;&nbsp;&nbsp;&nbsp;where, object  &nbsp; ========> &nbsp;Must be a sequence or a collection\n",
    "\n",
    "<span style=\"background-color: #CAFEFD\">When the object is a string, the **len( )** function returns the number of characters in the string.</span>"
   ]
  },
  {
   "cell_type": "code",
   "execution_count": 4,
   "id": "8799a7c4-3994-4211-bfe3-892450199653",
   "metadata": {},
   "outputs": [
    {
     "name": "stdout",
     "output_type": "stream",
     "text": [
      "5\n",
      "5\n",
      "5\n",
      "3\n",
      "5\n"
     ]
    }
   ],
   "source": [
    "\n",
    "# Length of a string\n",
    "my_string = \"hello\"\n",
    "print(len(my_string))  # Output: 5\n",
    "\n",
    "\n",
    "# Length of a list\n",
    "my_list = [1, 2, 3, 4, 5]\n",
    "print(len(my_list))    # Output: 5\n",
    "\n",
    "\n",
    "# Length of a tuple\n",
    "my_tuple = (1, 2, 3, 4, 5)\n",
    "print(len(my_tuple))   # Output: 5\n",
    "\n",
    "\n",
    "# Length of a dictionary (returns the number of key-value pairs)\n",
    "my_dict = {'a': 1, 'b': 2, 'c': 3}\n",
    "print(len(my_dict))    # Output: 3\n",
    "\n",
    "\n",
    "# Length of a set (returns the number of unique elements)\n",
    "my_set = {1, 2, 3, 4, 5}\n",
    "print(len(my_set))     # Output: 5\n"
   ]
  },
  {
   "cell_type": "code",
   "execution_count": null,
   "id": "254ecf55-902f-431d-b4d0-9c30123a8a33",
   "metadata": {},
   "outputs": [],
   "source": []
  },
  {
   "cell_type": "markdown",
   "id": "4ee1cc05-f914-4cea-a4d1-9b8fbc44ea2d",
   "metadata": {},
   "source": [
    "<br>\n",
    "\n",
    "<span style=\"background-color: yellow;font-size: larger\">&nbsp;**list( )**&nbsp;</span> : creates a list object.\n",
    "\n",
    "<br>\n",
    "\n",
    "A list object is a **collection** which is **ordered** and **changeable**.\n",
    "\n",
    "It <span style=\"background-color: #CAFEFD\">can convert other iterable objects</span> such as tuples, strings, sets, or even other lists <span style=\"background-color: #CAFEFD\">into a new list object</span>.\n",
    "\n",
    "<div style=\"border: 1px solid pink; padding: 10px; margin-left: 120px; width: 200px; background-color: #fff6f6\">\n",
    "\n",
    "**list(** iterable **)**\n",
    "\n",
    "</div>\n",
    "\n",
    "<br>\n",
    "\n",
    "&nbsp;&nbsp;&nbsp;&nbsp;&nbsp;&nbsp;&nbsp;&nbsp;&nbsp;&nbsp;&nbsp;&nbsp;&nbsp;&nbsp;&nbsp;&nbsp;&nbsp;&nbsp;&nbsp;&nbsp;&nbsp;&nbsp;&nbsp;&nbsp;&nbsp;&nbsp;&nbsp;&nbsp;&nbsp;&nbsp;&nbsp;&nbsp;where, iterable  &nbsp; ========> &nbsp;Optional. A sequence, collection or an iterator object"
   ]
  },
  {
   "cell_type": "code",
   "execution_count": 6,
   "id": "def1548d-38bc-4d83-b0e1-64414ea9a1b2",
   "metadata": {},
   "outputs": [
    {
     "name": "stdout",
     "output_type": "stream",
     "text": [
      "[1, 2, 3, 4, 5]\n",
      "['h', 'e', 'l', 'l', 'o']\n",
      "[1, 2, 3, 4, 5]\n",
      "[1, 2, 3]\n",
      "False\n",
      "[]\n"
     ]
    }
   ],
   "source": [
    "\n",
    "# Create a list from a tuple\n",
    "my_tuple = (1, 2, 3, 4, 5)\n",
    "print(list(my_tuple))  # Output: [1, 2, 3, 4, 5]\n",
    "\n",
    "\n",
    "# Create a list from a string (each character becomes an element)\n",
    "my_string = \"hello\"\n",
    "print(list(my_string)) # Output: ['h', 'e', 'l', 'l', 'o']\n",
    "\n",
    "\n",
    "# Create a list from a set\n",
    "my_set = {1, 2, 3, 4, 5}\n",
    "print(list(my_set))    # Output: [1, 2, 3, 4, 5]\n",
    "\n",
    "\n",
    "# Create a list from another list (makes a shallow copy)\n",
    "original_list = [1, 2, 3]\n",
    "new_list = list(original_list)\n",
    "print(new_list)        # Output: [1, 2, 3]\n",
    "print(original_list is new_list)  # Output: False (new_list is a new object)\n",
    "\n",
    "\n",
    "# Create an empty list\n",
    "empty_list = list()\n",
    "print(empty_list)      # Output: []\n"
   ]
  },
  {
   "cell_type": "code",
   "execution_count": null,
   "id": "0a3da886-251f-4b2b-acbe-1f2d41a31226",
   "metadata": {},
   "outputs": [],
   "source": []
  },
  {
   "cell_type": "markdown",
   "id": "a3fcc7b7-943c-4101-95e2-d4c5010519a4",
   "metadata": {},
   "source": [
    "<br>\n",
    "\n",
    "<span style=\"background-color: yellow;font-size: larger\">&nbsp;**locals( )**&nbsp;</span> : returns the local symbol table as a **dictionary**.\n",
    "\n",
    "A symbol table <span style=\"background-color: #CAFEFD\">contains necessary information about the current program</span>.\n",
    "\n",
    "The local symbol table contains information about variables, functions, and other objects defined in the current local scope, such as inside a function or method.\n",
    "\n",
    "<br>\n",
    "\n",
    "<div style=\"border: 1px solid pink; padding: 10px; margin-left: 120px; width: 200px; background-color: #fff6f6\">\n",
    "\n",
    "**locals(** **)**\n",
    "\n",
    "</div>"
   ]
  },
  {
   "cell_type": "code",
   "execution_count": 8,
   "id": "5c76eff1-95a7-41e8-850e-16008eddfea6",
   "metadata": {},
   "outputs": [
    {
     "name": "stdout",
     "output_type": "stream",
     "text": [
      "{'__name__': '__main__', '__doc__': 'Automatically created module for IPython interactive environment', '__package__': None, '__loader__': None, '__spec__': None, '__builtin__': <module 'builtins' (built-in)>, '__builtins__': <module 'builtins' (built-in)>, '_ih': ['', '# Create an iterator object for a list, and print the items:\\n\\nmy_iterator = iter([\"apple\", \"banana\", \"cherry\", \"mango\"])\\n\\n\\n# Iterate over the iterator using next() which is also a python buil-in function\\nprint(next(my_iterator))\\nprint(next(my_iterator))\\nprint(next(my_iterator))\\nprint(next(my_iterator))', '# Create an iterator for a list\\nmy_list = [\"apple\", \"banana\", \"cherry\", \"mango\"]\\nmy_iterator = iter(my_list)\\n\\n\\n# Iterate over the iterator\\nfor item in my_iterator:\\n    print(item)', '<br>\\n\\n<span style=\"background-color: yellow;font-size: larger\">&nbsp;**len( )**&nbsp;</span> : returns an **iterator object**.\\n\\n<br>', '# Length of a string\\nmy_string = \"hello\"\\nprint(len(my_string))  # Output: 5\\n\\n\\n# Length of a list\\nmy_list = [1, 2, 3, 4, 5]\\nprint(len(my_list))    # Output: 5\\n\\n\\n# Length of a tuple\\nmy_tuple = (1, 2, 3, 4, 5)\\nprint(len(my_tuple))   # Output: 5\\n\\n\\n# Length of a dictionary (returns the number of key-value pairs)\\nmy_dict = {\\'a\\': 1, \\'b\\': 2, \\'c\\': 3}\\nprint(len(my_dict))    # Output: 3\\n\\n\\n# Length of a set (returns the number of unique elements)\\nmy_set = {1, 2, 3, 4, 5}\\nprint(len(my_set))     # Output: 5', '<br>\\n\\n<span style=\"background-color: yellow;font-size: larger\">&nbsp;**list( )**&nbsp;</span> : returns the number of items in an object.\\n\\n<br>', '# Create a list from a tuple\\nmy_tuple = (1, 2, 3, 4, 5)\\nprint(list(my_tuple))  # Output: [1, 2, 3, 4, 5]\\n\\n\\n# Create a list from a string (each character becomes an element)\\nmy_string = \"hello\"\\nprint(list(my_string)) # Output: [\\'h\\', \\'e\\', \\'l\\', \\'l\\', \\'o\\']\\n\\n\\n# Create a list from a set\\nmy_set = {1, 2, 3, 4, 5}\\nprint(list(my_set))    # Output: [1, 2, 3, 4, 5]\\n\\n\\n# Create a list from another list (makes a shallow copy)\\noriginal_list = [1, 2, 3]\\nnew_list = list(original_list)\\nprint(new_list)        # Output: [1, 2, 3]\\nprint(original_list is new_list)  # Output: False (new_list is a new object)\\n\\n\\n# Create an empty list\\nempty_list = list()\\nprint(empty_list)      # Output: []', '# Display the local symbol table:\\n\\nx = locals()\\nprint(x)', '# Display the local symbol table:\\n\\nx = locals()\\n\\nprint(x)'], '_oh': {}, '_dh': [WindowsPath('C:/Users/user/Python_Programming')], 'In': ['', '# Create an iterator object for a list, and print the items:\\n\\nmy_iterator = iter([\"apple\", \"banana\", \"cherry\", \"mango\"])\\n\\n\\n# Iterate over the iterator using next() which is also a python buil-in function\\nprint(next(my_iterator))\\nprint(next(my_iterator))\\nprint(next(my_iterator))\\nprint(next(my_iterator))', '# Create an iterator for a list\\nmy_list = [\"apple\", \"banana\", \"cherry\", \"mango\"]\\nmy_iterator = iter(my_list)\\n\\n\\n# Iterate over the iterator\\nfor item in my_iterator:\\n    print(item)', '<br>\\n\\n<span style=\"background-color: yellow;font-size: larger\">&nbsp;**len( )**&nbsp;</span> : returns an **iterator object**.\\n\\n<br>', '# Length of a string\\nmy_string = \"hello\"\\nprint(len(my_string))  # Output: 5\\n\\n\\n# Length of a list\\nmy_list = [1, 2, 3, 4, 5]\\nprint(len(my_list))    # Output: 5\\n\\n\\n# Length of a tuple\\nmy_tuple = (1, 2, 3, 4, 5)\\nprint(len(my_tuple))   # Output: 5\\n\\n\\n# Length of a dictionary (returns the number of key-value pairs)\\nmy_dict = {\\'a\\': 1, \\'b\\': 2, \\'c\\': 3}\\nprint(len(my_dict))    # Output: 3\\n\\n\\n# Length of a set (returns the number of unique elements)\\nmy_set = {1, 2, 3, 4, 5}\\nprint(len(my_set))     # Output: 5', '<br>\\n\\n<span style=\"background-color: yellow;font-size: larger\">&nbsp;**list( )**&nbsp;</span> : returns the number of items in an object.\\n\\n<br>', '# Create a list from a tuple\\nmy_tuple = (1, 2, 3, 4, 5)\\nprint(list(my_tuple))  # Output: [1, 2, 3, 4, 5]\\n\\n\\n# Create a list from a string (each character becomes an element)\\nmy_string = \"hello\"\\nprint(list(my_string)) # Output: [\\'h\\', \\'e\\', \\'l\\', \\'l\\', \\'o\\']\\n\\n\\n# Create a list from a set\\nmy_set = {1, 2, 3, 4, 5}\\nprint(list(my_set))    # Output: [1, 2, 3, 4, 5]\\n\\n\\n# Create a list from another list (makes a shallow copy)\\noriginal_list = [1, 2, 3]\\nnew_list = list(original_list)\\nprint(new_list)        # Output: [1, 2, 3]\\nprint(original_list is new_list)  # Output: False (new_list is a new object)\\n\\n\\n# Create an empty list\\nempty_list = list()\\nprint(empty_list)      # Output: []', '# Display the local symbol table:\\n\\nx = locals()\\nprint(x)', '# Display the local symbol table:\\n\\nx = locals()\\n\\nprint(x)'], 'Out': {}, 'get_ipython': <bound method InteractiveShell.get_ipython of <ipykernel.zmqshell.ZMQInteractiveShell object at 0x0000019B60AE2250>>, 'exit': <IPython.core.autocall.ZMQExitAutocall object at 0x0000019B60AFE2D0>, 'quit': <IPython.core.autocall.ZMQExitAutocall object at 0x0000019B60AFE2D0>, 'open': <function open at 0x0000019B5EAC1B20>, '_': '', '__': '', '___': '', '__session__': 'C:\\\\Users\\\\user\\\\Python_Programming\\\\Python Built-In Functions.ipynb', '_i': '\\n# Display the local symbol table:\\n\\nx = locals()\\nprint(x)', '_ii': '\\n# Create a list from a tuple\\nmy_tuple = (1, 2, 3, 4, 5)\\nprint(list(my_tuple))  # Output: [1, 2, 3, 4, 5]\\n\\n\\n# Create a list from a string (each character becomes an element)\\nmy_string = \"hello\"\\nprint(list(my_string)) # Output: [\\'h\\', \\'e\\', \\'l\\', \\'l\\', \\'o\\']\\n\\n\\n# Create a list from a set\\nmy_set = {1, 2, 3, 4, 5}\\nprint(list(my_set))    # Output: [1, 2, 3, 4, 5]\\n\\n\\n# Create a list from another list (makes a shallow copy)\\noriginal_list = [1, 2, 3]\\nnew_list = list(original_list)\\nprint(new_list)        # Output: [1, 2, 3]\\nprint(original_list is new_list)  # Output: False (new_list is a new object)\\n\\n\\n# Create an empty list\\nempty_list = list()\\nprint(empty_list)      # Output: []', '_iii': '<br>\\n\\n<span style=\"background-color: yellow;font-size: larger\">&nbsp;**list( )**&nbsp;</span> : returns the number of items in an object.\\n\\n<br>', '_i1': '\\n# Create an iterator object for a list, and print the items:\\n\\nmy_iterator = iter([\"apple\", \"banana\", \"cherry\", \"mango\"])\\n\\n\\n# Iterate over the iterator using next() which is also a python buil-in function\\nprint(next(my_iterator))\\nprint(next(my_iterator))\\nprint(next(my_iterator))\\nprint(next(my_iterator))', 'my_iterator': <list_iterator object at 0x0000019B60B061D0>, '_i2': '\\n# Create an iterator for a list\\nmy_list = [\"apple\", \"banana\", \"cherry\", \"mango\"]\\nmy_iterator = iter(my_list)\\n\\n\\n# Iterate over the iterator\\nfor item in my_iterator:\\n    print(item)', 'my_list': [1, 2, 3, 4, 5], 'item': 'mango', '_i3': '<br>\\n\\n<span style=\"background-color: yellow;font-size: larger\">&nbsp;**len( )**&nbsp;</span> : returns an **iterator object**.\\n\\n<br>', '_i4': '\\n# Length of a string\\nmy_string = \"hello\"\\nprint(len(my_string))  # Output: 5\\n\\n\\n# Length of a list\\nmy_list = [1, 2, 3, 4, 5]\\nprint(len(my_list))    # Output: 5\\n\\n\\n# Length of a tuple\\nmy_tuple = (1, 2, 3, 4, 5)\\nprint(len(my_tuple))   # Output: 5\\n\\n\\n# Length of a dictionary (returns the number of key-value pairs)\\nmy_dict = {\\'a\\': 1, \\'b\\': 2, \\'c\\': 3}\\nprint(len(my_dict))    # Output: 3\\n\\n\\n# Length of a set (returns the number of unique elements)\\nmy_set = {1, 2, 3, 4, 5}\\nprint(len(my_set))     # Output: 5', 'my_string': 'hello', 'my_tuple': (1, 2, 3, 4, 5), 'my_dict': {'a': 1, 'b': 2, 'c': 3}, 'my_set': {1, 2, 3, 4, 5}, '_i5': '<br>\\n\\n<span style=\"background-color: yellow;font-size: larger\">&nbsp;**list( )**&nbsp;</span> : returns the number of items in an object.\\n\\n<br>', '_i6': '\\n# Create a list from a tuple\\nmy_tuple = (1, 2, 3, 4, 5)\\nprint(list(my_tuple))  # Output: [1, 2, 3, 4, 5]\\n\\n\\n# Create a list from a string (each character becomes an element)\\nmy_string = \"hello\"\\nprint(list(my_string)) # Output: [\\'h\\', \\'e\\', \\'l\\', \\'l\\', \\'o\\']\\n\\n\\n# Create a list from a set\\nmy_set = {1, 2, 3, 4, 5}\\nprint(list(my_set))    # Output: [1, 2, 3, 4, 5]\\n\\n\\n# Create a list from another list (makes a shallow copy)\\noriginal_list = [1, 2, 3]\\nnew_list = list(original_list)\\nprint(new_list)        # Output: [1, 2, 3]\\nprint(original_list is new_list)  # Output: False (new_list is a new object)\\n\\n\\n# Create an empty list\\nempty_list = list()\\nprint(empty_list)      # Output: []', 'original_list': [1, 2, 3], 'new_list': [1, 2, 3], 'empty_list': [], '_i7': '\\n# Display the local symbol table:\\n\\nx = locals()\\nprint(x)', 'x': {...}, '_i8': '\\n# Display the local symbol table:\\n\\nx = locals()\\n\\nprint(x)'}\n"
     ]
    }
   ],
   "source": [
    "\n",
    "# Display the local symbol table:\n",
    "\n",
    "x = locals()\n",
    "\n",
    "print(x)\n"
   ]
  },
  {
   "cell_type": "code",
   "execution_count": 17,
   "id": "1f1611da-6236-4360-b833-abd2bb243053",
   "metadata": {},
   "outputs": [
    {
     "name": "stdout",
     "output_type": "stream",
     "text": [
      "{'x': 42, 'y': 'hello'}\n"
     ]
    }
   ],
   "source": [
    "\n",
    "def my_function():\n",
    "    x = 42\n",
    "    y = 'hello'\n",
    "    print(locals())   # it will print all the informations about variables, functions, and other objects defined in the current local scope\n",
    "\n",
    "my_function()\n"
   ]
  },
  {
   "cell_type": "markdown",
   "id": "6961208a-446f-4584-8f29-8dfa40781a58",
   "metadata": {},
   "source": [
    "<br>\n",
    "\n",
    "<br>\n",
    "\n",
    "<div style=\"border: 1px solid pink; padding: 10px; background-color: #fff6f6; width: 400px\">\n",
    "<strong># Get the filename of the current program:</strong><br>\n",
    "    <br>\n",
    "<span style=\"color:blue\">x = locals(&nbsp;)</span>  <br>\n",
    "<span style=\"color:blue\">print(&nbsp;x[&nbsp;\"__file__\"&nbsp;]&nbsp;)</span>\n",
    "    <br>\n",
    "    <br>\n",
    "    <br>\n",
    "    C:\\Users\\user\\Python_Programming\\ide_practice.py\n",
    "</div>\n",
    "\n",
    "<br>\n",
    "\n",
    "<span style=\"background-color: yellow; font-size: larger\">&nbsp;It works in an IDE&nbsp;</span> where you deal with <span style=\"background-color: #CAFEFD; font-size: larger\">&nbsp;**.py**&nbsp;</span> files\n",
    "However, it will throw error when you try to run the same code in <span style=\"background-color: #CAFEFD; font-size: larger\">&nbsp;**.ipython**&nbsp;</span> file for example Jupyter Notebook.\n",
    "\n",
    "<span style=\"background-color: #CAFEFD\">"
   ]
  },
  {
   "cell_type": "code",
   "execution_count": 18,
   "id": "a9ba99e1-6fb0-42f8-beac-37d99cea20f8",
   "metadata": {},
   "outputs": [
    {
     "ename": "KeyError",
     "evalue": "'__file__'",
     "output_type": "error",
     "traceback": [
      "\u001b[1;31m---------------------------------------------------------------------------\u001b[0m",
      "\u001b[1;31mKeyError\u001b[0m                                  Traceback (most recent call last)",
      "Cell \u001b[1;32mIn[18], line 4\u001b[0m\n\u001b[0;32m      1\u001b[0m \u001b[38;5;66;03m# Get the filename of the current program:\u001b[39;00m\n\u001b[0;32m      3\u001b[0m x \u001b[38;5;241m=\u001b[39m \u001b[38;5;28mlocals\u001b[39m()\n\u001b[1;32m----> 4\u001b[0m \u001b[38;5;28mprint\u001b[39m(\u001b[43mx\u001b[49m\u001b[43m[\u001b[49m\u001b[38;5;124;43m\"\u001b[39;49m\u001b[38;5;124;43m__file__\u001b[39;49m\u001b[38;5;124;43m\"\u001b[39;49m\u001b[43m]\u001b[49m)\n",
      "\u001b[1;31mKeyError\u001b[0m: '__file__'"
     ]
    }
   ],
   "source": [
    "\n",
    "# Get the filename of the current program:\n",
    "\n",
    "x = locals()\n",
    "print(x[\"__file__\"])\n"
   ]
  },
  {
   "cell_type": "markdown",
   "id": "0b4d488d-7736-46d1-be94-75266a61af9a",
   "metadata": {},
   "source": [
    "<br>\n",
    "\n",
    "You can use modules like <span style=\"background-color: yellow; font-size: larger\">&nbsp;**os**&nbsp;</span> or <span style=\"background-color: yellow; font-size: larger\">&nbsp;**ipynbname**&nbsp;</span> to get information about the notebook environment. Refer the section where we discussed **globals( )** where we fetched the filename in a notebook environemnt. "
   ]
  },
  {
   "cell_type": "code",
   "execution_count": null,
   "id": "83e087a1-29eb-4726-9fe8-526993f1f686",
   "metadata": {},
   "outputs": [],
   "source": []
  },
  {
   "cell_type": "markdown",
   "id": "04814605-9afa-4957-9986-7f3cf305ce75",
   "metadata": {},
   "source": [
    "<br>\n",
    "\n",
    "<span style=\"background-color: yellow;font-size: larger\">&nbsp;**map( )**&nbsp;</span> : executes a specified function for each item in an iterable. The item is sent to the function as a parameter.\n",
    "\n",
    "It allows you to perform a <span style=\"background-color: #CAFEFD\">**transformation** or operation on each element</span> of the input iterable <span style=\"background-color: #CAFEFD\">without using explicit loops</span>.\n",
    "\n",
    "<div style=\"border: 1px solid pink; padding: 10px; margin-left: 120px; width: 300px; background-color: #fff6f6\">\n",
    "\n",
    "**map(** function, iterable1, iterable2, &nbsp; .... **)**\n",
    "\n",
    "</div>\n",
    "\n",
    "<br>\n",
    "\n",
    "&nbsp;&nbsp;&nbsp;&nbsp;&nbsp;&nbsp;&nbsp;&nbsp;&nbsp;&nbsp;&nbsp;&nbsp;&nbsp;&nbsp;&nbsp;&nbsp;&nbsp;&nbsp;&nbsp;&nbsp;&nbsp;&nbsp;&nbsp;&nbsp;&nbsp;&nbsp;&nbsp;&nbsp;&nbsp;&nbsp;&nbsp;&nbsp;where, iterable  &nbsp; ========> &nbsp;Required. A sequence, collection or an iterator object. <br>\n",
    "&nbsp;&nbsp;&nbsp;&nbsp;&nbsp;&nbsp;&nbsp;&nbsp;&nbsp;&nbsp;&nbsp;&nbsp;&nbsp;&nbsp;&nbsp;&nbsp;&nbsp;&nbsp;&nbsp;&nbsp;&nbsp;&nbsp;&nbsp;&nbsp;&nbsp;&nbsp;&nbsp;&nbsp;&nbsp;&nbsp;&nbsp;&nbsp;&nbsp;&nbsp;&nbsp;&nbsp;&nbsp;&nbsp;&nbsp;&nbsp;&nbsp;&nbsp;&nbsp;&nbsp;&nbsp;&nbsp;&nbsp;&nbsp;&nbsp;&nbsp;&nbsp;&nbsp;&nbsp;&nbsp;&nbsp;&nbsp;&nbsp;&nbsp;&nbsp;&nbsp;&nbsp;&nbsp;&nbsp;&nbsp;&nbsp;&nbsp;&nbsp;&nbsp;&nbsp;&nbsp;&nbsp;&nbsp;&nbsp;&nbsp;&nbsp;&nbsp;&nbsp;&nbsp;&nbsp;&nbsp;&nbsp;&nbsp;&nbsp;&nbsp;You can send as many iterables as you like, just make sure the function has one parameter for each iterable.\n",
    "\n",
    "<span style=\"background-color: #CAFEFD\">It is extensively used in **lambda functions**.</span>"
   ]
  },
  {
   "cell_type": "code",
   "execution_count": 21,
   "id": "a2d6f38b-202b-4424-b980-cf4b5adbc47e",
   "metadata": {},
   "outputs": [
    {
     "name": "stdout",
     "output_type": "stream",
     "text": [
      "<map object at 0x0000019B60CCE950>\n",
      "[5, 6, 6]\n"
     ]
    }
   ],
   "source": [
    "\n",
    "# Calculate the length of each word in the tuple:\n",
    "\n",
    "def myfunc(n):\n",
    "  return len(n)\n",
    "\n",
    "x = map(myfunc, ('apple', 'banana', 'cherry'))\n",
    "\n",
    "print(x)\n",
    "\n",
    "#convert the map into a list, for readability:\n",
    "print(list(x))\n"
   ]
  },
  {
   "cell_type": "code",
   "execution_count": 24,
   "id": "7796b263-327a-4f52-becd-b2f3e127e895",
   "metadata": {},
   "outputs": [
    {
     "name": "stdout",
     "output_type": "stream",
     "text": [
      "<map object at 0x0000019B60CCEB30>\n",
      "['apple_orange', 'banana_lemon', 'cherry_pineapple']\n"
     ]
    }
   ],
   "source": [
    "\n",
    "def myfunc(a, b):\n",
    "    return a + '_' + b\n",
    "\n",
    "x = map(myfunc, ('apple', 'banana', 'cherry'), ('orange', 'lemon', 'pineapple'))\n",
    "\n",
    "print(x)\n",
    "\n",
    "#convert the map into a list, for readability:\n",
    "print(list(x))\n"
   ]
  },
  {
   "cell_type": "code",
   "execution_count": 26,
   "id": "c696c410-e761-4a32-a465-0097c89f54d7",
   "metadata": {},
   "outputs": [
    {
     "name": "stdout",
     "output_type": "stream",
     "text": [
      "[2, 4, 6, 8, 10]\n"
     ]
    }
   ],
   "source": [
    "\n",
    "# Define a list of numbers\n",
    "numbers = [1, 2, 3, 4, 5]\n",
    "\n",
    "\n",
    "# Use map() with a lambda function to double each number in the list\n",
    "doubled_numbers = map(lambda x: x * 2, numbers)\n",
    "\n",
    "\n",
    "# Convert the iterator returned by map() to a list to see the results\n",
    "print(list(doubled_numbers))    # Output: [2, 4, 6, 8, 10]\n"
   ]
  },
  {
   "cell_type": "code",
   "execution_count": null,
   "id": "3fb1f62a-20bc-47dc-b5e3-4d77143884d4",
   "metadata": {},
   "outputs": [],
   "source": []
  },
  {
   "cell_type": "markdown",
   "id": "09a99580-9551-4275-b917-8ba0ac9c3900",
   "metadata": {},
   "source": [
    "<br>\n",
    "\n",
    "<br>\n",
    "\n",
    "<br>\n",
    "\n",
    "<span style=\"background-color: yellow;font-size: larger\">&nbsp;**max( )**&nbsp;</span> : returns <span style=\"background-color: #CAFEFD\">the item with the highest value</span>, or <span style=\"background-color: #CAFEFD\">the item with the highest value in an iterable</span>.\n",
    "\n",
    "&nbsp;&nbsp;&nbsp;&nbsp;&nbsp;&nbsp;&nbsp;&nbsp;&nbsp;&nbsp;&nbsp;&nbsp;&nbsp;&nbsp;&nbsp;&nbsp;&nbsp;&nbsp;&nbsp;If the values are strings, an alphabetically comparison is done.\n",
    "\n",
    "<div style=\"border: 1px solid pink; padding: 10px; margin-left: 75px; width: 400px; background-color: #fff6f6\">\n",
    "\n",
    "**max(** n1, &nbsp;n2, &nbsp;n3 **)**\n",
    "\n",
    "</div>\n",
    "<div style=\"border: 1px solid pink; padding: 10px; margin-left: 75px; width: 400px; background-color: #fff6f6\">\n",
    "\n",
    "**max(** iterable **)**\n",
    "\n",
    "</div>\n",
    "<div style=\"border: 1px solid pink; padding: 10px; margin-left: 75px; width: 400px; background-color: #fff6f6\">\n",
    "\n",
    "**max(** iterable, *iterables, key = None, default = object( ) **)**\n",
    "\n",
    "</div>\n",
    "\n",
    "<br>\n",
    "\n",
    "&nbsp;&nbsp;&nbsp;&nbsp;&nbsp;&nbsp;&nbsp;&nbsp;&nbsp;&nbsp;&nbsp;&nbsp;&nbsp;&nbsp;&nbsp;&nbsp;&nbsp;&nbsp;&nbsp;&nbsp;where, **iterable** ============> The sequence or collection of elements from which to find the maximum element. <br>\n",
    "\n",
    "&nbsp;&nbsp;&nbsp;&nbsp;&nbsp;&nbsp;&nbsp;&nbsp;&nbsp;&nbsp;&nbsp;&nbsp;&nbsp;&nbsp;&nbsp;&nbsp;&nbsp;&nbsp;&nbsp;&nbsp;&nbsp;&nbsp;&nbsp;&nbsp;&nbsp;&nbsp;&nbsp;&nbsp;&nbsp;&nbsp;&nbsp;&nbsp;<strong>*iterables (optional):</strong>  ===> Additional iterables, separated by commas, from which the largest item will be found. <br>\n",
    "&nbsp;&nbsp;&nbsp;&nbsp;&nbsp;&nbsp;&nbsp;&nbsp;&nbsp;&nbsp;&nbsp;&nbsp;&nbsp;&nbsp;&nbsp;&nbsp;&nbsp;&nbsp;&nbsp;&nbsp;&nbsp;&nbsp;&nbsp;&nbsp;&nbsp;&nbsp;&nbsp;&nbsp;&nbsp;&nbsp;&nbsp;&nbsp;&nbsp;&nbsp;&nbsp;&nbsp;&nbsp;&nbsp;&nbsp;&nbsp;&nbsp;&nbsp;&nbsp;&nbsp;&nbsp;&nbsp;&nbsp;&nbsp;&nbsp;&nbsp;&nbsp;&nbsp;&nbsp;&nbsp;&nbsp;&nbsp;&nbsp;&nbsp;&nbsp;&nbsp;&nbsp;&nbsp;&nbsp;&nbsp;&nbsp;&nbsp;&nbsp;&nbsp;&nbsp;&nbsp;&nbsp;&nbsp;&nbsp;&nbsp;&nbsp;&nbsp;&nbsp;&nbsp;&nbsp;&nbsp;You can pass multiple iterables, and all elements will be considered in finding the maximum value.        <br>\n",
    "\n",
    "&nbsp;&nbsp;&nbsp;&nbsp;&nbsp;&nbsp;&nbsp;&nbsp;&nbsp;&nbsp;&nbsp;&nbsp;&nbsp;&nbsp;&nbsp;&nbsp;&nbsp;&nbsp;&nbsp;&nbsp;&nbsp;&nbsp;&nbsp;&nbsp;&nbsp;&nbsp;&nbsp;&nbsp;&nbsp;&nbsp;&nbsp;&nbsp;&nbsp;**key (optional):** =======> <span style=\"background-color: #CAFEFD\">A function that takes an element from the iterables and returns a value based on which the comparison will be made</span>. <br>\n",
    "&nbsp;&nbsp;&nbsp;&nbsp;&nbsp;&nbsp;&nbsp;&nbsp;&nbsp;&nbsp;&nbsp;&nbsp;&nbsp;&nbsp;&nbsp;&nbsp;&nbsp;&nbsp;&nbsp;&nbsp;&nbsp;&nbsp;&nbsp;&nbsp;&nbsp;&nbsp;&nbsp;&nbsp;&nbsp;&nbsp;&nbsp;&nbsp;&nbsp;&nbsp;&nbsp;&nbsp;&nbsp;&nbsp;&nbsp;&nbsp;&nbsp;&nbsp;&nbsp;&nbsp;&nbsp;&nbsp;&nbsp;&nbsp;&nbsp;&nbsp;&nbsp;&nbsp;&nbsp;&nbsp;&nbsp;&nbsp;&nbsp;&nbsp;&nbsp;&nbsp;&nbsp;&nbsp;&nbsp;&nbsp;&nbsp;&nbsp;&nbsp;&nbsp;&nbsp;&nbsp;&nbsp;&nbsp;&nbsp;&nbsp;&nbsp;&nbsp;&nbsp;&nbsp;&nbsp;&nbsp;If provided, the function will be applied to each element before comparison. <br>\n",
    "&nbsp;&nbsp;&nbsp;&nbsp;&nbsp;&nbsp;&nbsp;&nbsp;&nbsp;&nbsp;&nbsp;&nbsp;&nbsp;&nbsp;&nbsp;&nbsp;&nbsp;&nbsp;&nbsp;&nbsp;&nbsp;&nbsp;&nbsp;&nbsp;&nbsp;&nbsp;&nbsp;&nbsp;&nbsp;&nbsp;&nbsp;&nbsp;&nbsp;&nbsp;&nbsp;&nbsp;&nbsp;&nbsp;&nbsp;&nbsp;&nbsp;&nbsp;&nbsp;&nbsp;&nbsp;&nbsp;&nbsp;&nbsp;&nbsp;&nbsp;&nbsp;&nbsp;&nbsp;&nbsp;&nbsp;&nbsp;&nbsp;&nbsp;&nbsp;&nbsp;&nbsp;&nbsp;&nbsp;&nbsp;&nbsp;&nbsp;&nbsp;&nbsp;&nbsp;&nbsp;&nbsp;&nbsp;&nbsp;&nbsp;&nbsp;&nbsp;&nbsp;&nbsp;&nbsp;&nbsp;The default is **None**, meaning that the elements are compared directly. <br>\n",
    "\n",
    "&nbsp;&nbsp;&nbsp;&nbsp;&nbsp;&nbsp;&nbsp;&nbsp;&nbsp;&nbsp;&nbsp;&nbsp;&nbsp;&nbsp;&nbsp;&nbsp;&nbsp;&nbsp;&nbsp;&nbsp;&nbsp;&nbsp;&nbsp;&nbsp;&nbsp;&nbsp;&nbsp;&nbsp;&nbsp;&nbsp;&nbsp;&nbsp;&nbsp;**default (optional):** =====> If the iterable is empty, this value will be returned. If not provided, and the iterable is empty, a **ValueError** will be raised.\n",
    "\n",
    "<br>\n",
    "\n",
    "<span style=\"background-color: #F5C0FF\">&nbsp;**Note**&nbsp;</span> ⇒ <span style=\"color: blue\">An element at index = n (let say nth element) in the 1st iterable will be compared **only with** the nth element of the 2nd iterable and so on.</span>\n",
    "\n",
    "<br>\n"
   ]
  },
  {
   "cell_type": "code",
   "execution_count": 55,
   "id": "d5b3dbdb-f96c-4832-9f14-5258a5b2079e",
   "metadata": {},
   "outputs": [
    {
     "name": "stdout",
     "output_type": "stream",
     "text": [
      "10\n",
      "Radha\n",
      "5\n",
      "[7, 8, 9]\n",
      "(5, 6)\n"
     ]
    }
   ],
   "source": [
    "\n",
    "# Find the largest number:\n",
    "x = max(5, 10)\n",
    "print(x)\n",
    "\n",
    "\n",
    "# Find the name with the highest value, ordered alphabetically:\n",
    "x = max(\"Avinash\", \"Radha\", \"Aman\")\n",
    "print(x)\n",
    "\n",
    "\n",
    "# Find the maximum element from a list\n",
    "numbers = [1, 3, 5, 2, 4]\n",
    "print(max(numbers))  # Output: 5\n",
    "\n",
    "\n",
    "# Find the maximum element from multiple lists\n",
    "numbers1 = [1, 2, 3]\n",
    "numbers2 = [4, 5, 6]\n",
    "numbers3 = [7, 8, 9]\n",
    "print(max(numbers1, numbers2, numbers3))  # Output: [7, 8, 9]  <====   [ max(1,4,7), max(2,5,8), max(3,6,9) ]\n",
    "\n",
    "\n",
    "# Find the maximum element from a list of tuples based on a key function\n",
    "points = [(1, 2), (3, 4), (5, 6)]\n",
    "print(max(points, key=lambda x: x[1]))    # Output: (5, 6)  <=======   [ max(1,3,5), max(2,4,6) ]\n"
   ]
  },
  {
   "cell_type": "code",
   "execution_count": null,
   "id": "ab6f1692-1ce3-4082-a176-26c046a19ba4",
   "metadata": {},
   "outputs": [],
   "source": []
  },
  {
   "cell_type": "markdown",
   "id": "a88d7807-3319-4c45-aed7-7446d58c4c14",
   "metadata": {},
   "source": [
    "<br>\n",
    "\n",
    "<br>\n",
    "\n",
    "<span style=\"background-color: yellow;font-size: larger\">&nbsp;**memoryview( )**&nbsp;</span> : returns a memory view object from a specified object that provides a view into the internal data of the specified object. <br>\n",
    "\n",
    "&nbsp;&nbsp;&nbsp;&nbsp;&nbsp;&nbsp;&nbsp;&nbsp;&nbsp;&nbsp;&nbsp;&nbsp;&nbsp;&nbsp;&nbsp;&nbsp;&nbsp;&nbsp;&nbsp;&nbsp;&nbsp;&nbsp;&nbsp;&nbsp;&nbsp;&nbsp;&nbsp;&nbsp;&nbsp;&nbsp;&nbsp;&nbsp;&nbsp;&nbsp;&nbsp;&nbsp;This view allows you to access and manipulate the underlying data without making a copy.\n",
    "\n",
    "&nbsp;&nbsp;&nbsp;&nbsp;&nbsp;&nbsp;&nbsp;&nbsp;&nbsp;&nbsp;&nbsp;&nbsp;&nbsp;&nbsp;&nbsp;&nbsp;&nbsp;&nbsp;&nbsp;&nbsp;&nbsp;&nbsp;&nbsp;&nbsp;&nbsp;&nbsp;&nbsp;&nbsp;&nbsp;&nbsp;&nbsp;&nbsp;&nbsp;&nbsp;&nbsp;&nbsp;It is used to create a memory view object that exposes the buffer interface of an object. <br>\n",
    "\n",
    "&nbsp;&nbsp;&nbsp;&nbsp;&nbsp;&nbsp;&nbsp;&nbsp;&nbsp;&nbsp;&nbsp;&nbsp;&nbsp;&nbsp;&nbsp;&nbsp;&nbsp;&nbsp;&nbsp;&nbsp;&nbsp;&nbsp;&nbsp;&nbsp;&nbsp;&nbsp;&nbsp;&nbsp;&nbsp;&nbsp;&nbsp;&nbsp;&nbsp;&nbsp;&nbsp;&nbsp;Memory views allow efficient access to the internal data of objects that support the buffer protocol, such as **bytes**, **bytearray**, and **array.array**.\n",
    "\n",
    "<br>\n",
    "\n",
    "<div style=\"border: 1px solid pink; padding: 10px; margin-left: 140px; width: 400px; background-color: #fff6f6\">\n",
    "\n",
    "**memoryview(** obj **)**\n",
    "\n",
    "</div>\n",
    "\n",
    "<br>\n",
    "\n",
    "&nbsp;&nbsp;&nbsp;&nbsp;&nbsp;&nbsp;&nbsp;&nbsp;&nbsp;&nbsp;&nbsp;&nbsp;&nbsp;&nbsp;&nbsp;&nbsp;&nbsp;&nbsp;&nbsp;&nbsp;&nbsp;&nbsp;&nbsp;&nbsp;&nbsp;&nbsp;&nbsp;&nbsp;&nbsp;&nbsp;&nbsp;&nbsp;&nbsp;&nbsp;&nbsp;&nbsp;&nbsp;where, obj &nbsp;=====>&nbsp; A Bytes object or a Bytearray object.\n"
   ]
  },
  {
   "cell_type": "code",
   "execution_count": 38,
   "id": "3013c294-52ac-4514-bcc9-8aac3075f526",
   "metadata": {},
   "outputs": [
    {
     "name": "stdout",
     "output_type": "stream",
     "text": [
      "b'hello'\n",
      "<memory at 0x0000019B6111C280>\n",
      "72\n",
      "101\n"
     ]
    }
   ],
   "source": [
    "\n",
    "# Create and print a memoryview object:\n",
    "\n",
    "\n",
    "# Create a bytes object\n",
    "data = b'hello'\n",
    "print(data)\n",
    "\n",
    "\n",
    "# Create and print a memory view of the bytes object\n",
    "mv = memoryview(b\"Hello\")\n",
    "print(mv)\n",
    "\n",
    "\n",
    "#return the Unicode of the first character\n",
    "print(mv[0])\n",
    "\n",
    "\n",
    "#return the Unicode of the second character\n",
    "print(mv[1])\n"
   ]
  },
  {
   "cell_type": "code",
   "execution_count": 39,
   "id": "3157536d-2afb-4acc-aea0-3cafabbe1dd4",
   "metadata": {},
   "outputs": [
    {
     "name": "stdout",
     "output_type": "stream",
     "text": [
      "b'hello'\n",
      "104\n"
     ]
    },
    {
     "ename": "TypeError",
     "evalue": "cannot modify read-only memory",
     "output_type": "error",
     "traceback": [
      "\u001b[1;31m---------------------------------------------------------------------------\u001b[0m",
      "\u001b[1;31mTypeError\u001b[0m                                 Traceback (most recent call last)",
      "Cell \u001b[1;32mIn[39], line 12\u001b[0m\n\u001b[0;32m     10\u001b[0m \u001b[38;5;66;03m# Access and modify the underlying data through the memory view\u001b[39;00m\n\u001b[0;32m     11\u001b[0m \u001b[38;5;28mprint\u001b[39m(mv[\u001b[38;5;241m0\u001b[39m])         \u001b[38;5;66;03m# Output: 104 (ASCII value of 'h')\u001b[39;00m\n\u001b[1;32m---> 12\u001b[0m \u001b[43mmv\u001b[49m\u001b[43m[\u001b[49m\u001b[38;5;241;43m0\u001b[39;49m\u001b[43m]\u001b[49m \u001b[38;5;241m=\u001b[39m \u001b[38;5;241m65\u001b[39m           \u001b[38;5;66;03m# Change the first byte to ASCII value of 'A'\u001b[39;00m\n\u001b[0;32m     13\u001b[0m \u001b[38;5;28mprint\u001b[39m(data)          \u001b[38;5;66;03m# Output: b'Aello'\u001b[39;00m\n",
      "\u001b[1;31mTypeError\u001b[0m: cannot modify read-only memory"
     ]
    }
   ],
   "source": [
    "\n",
    "# Create a bytes object\n",
    "data = b'hello'\n",
    "print(data)\n",
    "\n",
    "\n",
    "# Create and print a memory view of the bytes object\n",
    "mv = memoryview(data)\n",
    "\n",
    "\n",
    "# Access and modify the underlying data through the memory view\n",
    "print(mv[0])         # Output: 104 (ASCII value of 'h')\n",
    "mv[0] = 65           # Change the first byte to ASCII value of 'A'\n",
    "print(data)          # Output: b'Aello'\n"
   ]
  },
  {
   "cell_type": "markdown",
   "id": "41975ae9-4ae2-44ac-b5ce-dd1af6297ed9",
   "metadata": {},
   "source": [
    "<br>\n",
    "\n",
    "<span style=\"background-color: #CAFEFD\">The error message \"&nbsp;**TypeError** : cannot modify read-only memory&nbsp;\" indicates that you are attempting to modify a memory view object that is read-only.</span> Memory views can be read-only under certain conditions, such as when created from immutable objects like bytes or when using slicing operations that create read-only views.\n",
    "\n",
    "Let's break down potential causes and solutions for this error :\n",
    "\n",
    "<font size=\"+2\">↳</font> &nbsp;**Memory view created from immutable object :** If the memory view was created from an immutable object like bytes, bytearray, or a tuple, it will be read-only by default."
   ]
  },
  {
   "cell_type": "code",
   "execution_count": 50,
   "id": "525803c9-9834-4c79-80d6-3b27225689c4",
   "metadata": {},
   "outputs": [
    {
     "ename": "TypeError",
     "evalue": "cannot modify read-only memory",
     "output_type": "error",
     "traceback": [
      "\u001b[1;31m---------------------------------------------------------------------------\u001b[0m",
      "\u001b[1;31mTypeError\u001b[0m                                 Traceback (most recent call last)",
      "Cell \u001b[1;32mIn[50], line 3\u001b[0m\n\u001b[0;32m      1\u001b[0m data \u001b[38;5;241m=\u001b[39m \u001b[38;5;124mb\u001b[39m\u001b[38;5;124m'\u001b[39m\u001b[38;5;124mhello\u001b[39m\u001b[38;5;124m'\u001b[39m\n\u001b[0;32m      2\u001b[0m mv \u001b[38;5;241m=\u001b[39m \u001b[38;5;28mmemoryview\u001b[39m(data)\n\u001b[1;32m----> 3\u001b[0m \u001b[43mmv\u001b[49m\u001b[43m[\u001b[49m\u001b[38;5;241;43m0\u001b[39;49m\u001b[43m]\u001b[49m \u001b[38;5;241m=\u001b[39m \u001b[38;5;241m65\u001b[39m  \u001b[38;5;66;03m# Error: cannot modify read-only memory\u001b[39;00m\n",
      "\u001b[1;31mTypeError\u001b[0m: cannot modify read-only memory"
     ]
    }
   ],
   "source": [
    "\n",
    "data = b'hello'\n",
    "mv = memoryview(data)\n",
    "mv[0] = 65  # Error: cannot modify read-only memory\n"
   ]
  },
  {
   "cell_type": "markdown",
   "id": "bcf34df7-6745-4c94-b5cc-77a3f415a717",
   "metadata": {},
   "source": [
    "<br>\n",
    "\n",
    "To modify the underlying data, you need to create a writable memory view. For example, you can create a writable memory view from a bytearray:\n"
   ]
  },
  {
   "cell_type": "code",
   "execution_count": 51,
   "id": "6f9fdf7f-1f8f-4d06-a468-c20f7442e142",
   "metadata": {},
   "outputs": [],
   "source": [
    "\n",
    "data = bytearray(b'hello')\n",
    "mv = memoryview(data)\n",
    "mv[0] = 65  # No error\n"
   ]
  },
  {
   "cell_type": "markdown",
   "id": "86b94548-15a9-4531-8929-957543fa261c",
   "metadata": {},
   "source": [
    "<br>\n",
    "\n",
    "<font size=\"+2\">↳</font> &nbsp;**Slicing operation creating a read-only view :** Slicing operations can create read-only memory views, especially when performed on immutable objects."
   ]
  },
  {
   "cell_type": "code",
   "execution_count": 52,
   "id": "05e49d02-05fa-4714-a7b2-0c7306e44992",
   "metadata": {},
   "outputs": [
    {
     "ename": "TypeError",
     "evalue": "cannot modify read-only memory",
     "output_type": "error",
     "traceback": [
      "\u001b[1;31m---------------------------------------------------------------------------\u001b[0m",
      "\u001b[1;31mTypeError\u001b[0m                                 Traceback (most recent call last)",
      "Cell \u001b[1;32mIn[52], line 3\u001b[0m\n\u001b[0;32m      1\u001b[0m data \u001b[38;5;241m=\u001b[39m \u001b[38;5;124mb\u001b[39m\u001b[38;5;124m'\u001b[39m\u001b[38;5;124mhello\u001b[39m\u001b[38;5;124m'\u001b[39m\n\u001b[0;32m      2\u001b[0m mv \u001b[38;5;241m=\u001b[39m \u001b[38;5;28mmemoryview\u001b[39m(data)[\u001b[38;5;241m1\u001b[39m:\u001b[38;5;241m4\u001b[39m]\n\u001b[1;32m----> 3\u001b[0m \u001b[43mmv\u001b[49m\u001b[43m[\u001b[49m\u001b[38;5;241;43m0\u001b[39;49m\u001b[43m]\u001b[49m \u001b[38;5;241m=\u001b[39m \u001b[38;5;241m65\u001b[39m  \u001b[38;5;66;03m# Error: cannot modify read-only memory\u001b[39;00m\n",
      "\u001b[1;31mTypeError\u001b[0m: cannot modify read-only memory"
     ]
    }
   ],
   "source": [
    "\n",
    "data = b'hello'\n",
    "mv = memoryview(data)[1:4]\n",
    "mv[0] = 65  # Error: cannot modify read-only memory\n"
   ]
  },
  {
   "cell_type": "markdown",
   "id": "31fd4e12-4cbc-4b4a-8092-d1892ec0463e",
   "metadata": {},
   "source": [
    "<br>\n",
    "\n",
    "To create a writable memory view, you need to explicitly create it from a mutable object or use methods like bytes or bytearray to create a mutable copy of the sliced data."
   ]
  },
  {
   "cell_type": "code",
   "execution_count": 53,
   "id": "55136bd2-02f7-4631-9dfe-a0d310eba8de",
   "metadata": {},
   "outputs": [],
   "source": [
    "\n",
    "data = bytearray(b'hello')\n",
    "mv = memoryview(data)[1:4]\n",
    "mv[0] = 65  # No error\n"
   ]
  },
  {
   "cell_type": "code",
   "execution_count": null,
   "id": "a4c4a289-7638-498f-9c43-cf1f78af57f6",
   "metadata": {},
   "outputs": [],
   "source": []
  },
  {
   "cell_type": "markdown",
   "id": "c26eb098-96af-4c0d-937f-e800cd2b322b",
   "metadata": {},
   "source": [
    "<br>\n",
    "\n",
    "<br>\n",
    "\n",
    "<span style=\"background-color: yellow;font-size: larger\">&nbsp;**min( )**&nbsp;</span> : returns <span style=\"background-color: #CAFEFD\">the item with the highest value</span>, or <span style=\"background-color: #CAFEFD\">the item with the highest value in an iterable</span>.\n",
    "\n",
    "&nbsp;&nbsp;&nbsp;&nbsp;&nbsp;&nbsp;&nbsp;&nbsp;&nbsp;&nbsp;&nbsp;&nbsp;&nbsp;&nbsp;&nbsp;&nbsp;&nbsp;&nbsp;If the values are strings, an alphabetically comparison is done.\n",
    "\n",
    "<br>\n",
    "\n",
    "You can refer **max( )** function for the syntax."
   ]
  },
  {
   "cell_type": "code",
   "execution_count": null,
   "id": "17ae91c6-1c22-43a7-8496-e6e4ff9b88f2",
   "metadata": {},
   "outputs": [],
   "source": []
  },
  {
   "cell_type": "markdown",
   "id": "94a32fca-b5cb-4c9c-8a25-32af2408fee2",
   "metadata": {},
   "source": [
    "<br>\n",
    "\n",
    "<br>\n",
    "\n",
    "<span style=\"background-color: yellow;font-size: larger\">&nbsp;**next( )**&nbsp;</span> : returns the **next item** in an iterator. \n",
    "\n",
    "<br>\n",
    "\n",
    "<div style=\"border: 1px solid pink; padding: 10px; margin-left: 140px; width: 400px; background-color: #fff6f6\">\n",
    "\n",
    "**next(** iterator[, default] **)**\n",
    "\n",
    "</div>\n",
    "\n",
    "<br>\n",
    "\n",
    "&nbsp;&nbsp;&nbsp;&nbsp;&nbsp;&nbsp;&nbsp;&nbsp;&nbsp;&nbsp;&nbsp;&nbsp;&nbsp;&nbsp;&nbsp;&nbsp;&nbsp;&nbsp;&nbsp;&nbsp;&nbsp;&nbsp;&nbsp;&nbsp;&nbsp;&nbsp;&nbsp;&nbsp;&nbsp;&nbsp;&nbsp;&nbsp;&nbsp;&nbsp;&nbsp;&nbsp;&nbsp;where default ====> Optional. A default value to return if the iterator has reached to its end. \n",
    "\n",
    "&nbsp;&nbsp;&nbsp;&nbsp;&nbsp;&nbsp;&nbsp;&nbsp;&nbsp;&nbsp;&nbsp;&nbsp;&nbsp;&nbsp;&nbsp;&nbsp;&nbsp;&nbsp;&nbsp;&nbsp;&nbsp;&nbsp;<span style=\"background-color: #F5C0FF\">&nbsp;**Note**&nbsp;</span> ⇒ If there are no more items and no default value is provided, it raises a **StopIteration exception**.\n",
    "\n",
    "\n"
   ]
  },
  {
   "cell_type": "code",
   "execution_count": 59,
   "id": "ab1f66e5-5328-44c8-acb0-b65503567e8b",
   "metadata": {},
   "outputs": [
    {
     "name": "stdout",
     "output_type": "stream",
     "text": [
      "apple\n",
      "banana\n",
      "cherry\n"
     ]
    }
   ],
   "source": [
    "\n",
    "# Create an iterator, and print the items one by one:\n",
    "\n",
    "mylist = iter([\"apple\", \"banana\", \"cherry\"])\n",
    "x = next(mylist)\n",
    "print(x)\n",
    "x = next(mylist)\n",
    "print(x)\n",
    "x = next(mylist)\n",
    "print(x)\n"
   ]
  },
  {
   "cell_type": "code",
   "execution_count": 61,
   "id": "1711fade-88f8-43d7-b317-1370d2b9f00b",
   "metadata": {},
   "outputs": [
    {
     "name": "stdout",
     "output_type": "stream",
     "text": [
      "1\n",
      "2\n",
      "3\n",
      "Iterator exhausted\n"
     ]
    }
   ],
   "source": [
    "\n",
    "# Define an iterator using a generator function\n",
    "def my_iterator():\n",
    "    yield 1\n",
    "    yield 2\n",
    "    yield 3\n",
    "\n",
    "\n",
    "# Create an iterator object\n",
    "iterator = my_iterator()\n",
    "\n",
    "\n",
    "# Retrieve items from the iterator using next()\n",
    "print(next(iterator))  # Output: 1\n",
    "print(next(iterator))  # Output: 2\n",
    "print(next(iterator))  # Output: 3\n",
    "\n",
    "\n",
    "# Attempt to retrieve another item (iterator is exhausted)\n",
    "# If no default value is provided, StopIteration exception is raised\n",
    "print(next(iterator, \"Iterator exhausted\"))  # Output: \"Iterator exhausted\"\n"
   ]
  },
  {
   "cell_type": "code",
   "execution_count": null,
   "id": "3e740afb-4dd1-4c51-bd93-27930212d9a3",
   "metadata": {},
   "outputs": [],
   "source": []
  },
  {
   "cell_type": "markdown",
   "id": "9ea556cb-fd1e-4ac7-9508-1b956a22a526",
   "metadata": {},
   "source": [
    "<br>\n",
    "\n",
    "<br>\n",
    "\n",
    "<br>\n",
    "\n",
    "<span style=\"background-color: yellow;font-size: larger\">&nbsp;**object( )**&nbsp;</span> : &nbsp;returns (used to create) a new empty object of <span style=\"background-color: #CAFEFD\">the base class **object**.</span>\n",
    "\n",
    "&nbsp;&nbsp;&nbsp;&nbsp;&nbsp;&nbsp;&nbsp;&nbsp;&nbsp;&nbsp;&nbsp;&nbsp;&nbsp;&nbsp;&nbsp;&nbsp;&nbsp;&nbsp;&nbsp;&nbsp;&nbsp;&nbsp;&nbsp;&nbsp;<span style=\"background-color: #CAFEFD\">You cannot add new properties or methods to this object.</span>\n",
    "\n",
    "&nbsp;&nbsp;&nbsp;&nbsp;&nbsp;&nbsp;&nbsp;&nbsp;&nbsp;&nbsp;&nbsp;&nbsp;&nbsp;&nbsp;&nbsp;&nbsp;&nbsp;&nbsp;&nbsp;&nbsp;&nbsp;&nbsp;&nbsp;&nbsp;This object is the base for all classes, it holds the built-in properties and methods which are default for all classes.\n",
    "\n",
    "&nbsp;&nbsp;&nbsp;&nbsp;&nbsp;&nbsp;&nbsp;&nbsp;&nbsp;&nbsp;&nbsp;&nbsp;&nbsp;&nbsp;&nbsp;&nbsp;&nbsp;&nbsp;&nbsp;&nbsp;&nbsp;&nbsp;&nbsp;&nbsp;&nbsp;In other words, <span style=\"background-color: #CAFEFD\">the object class is the **root of the class hierarchy in Python, and all other classes are derived from it**.</span>\n",
    "\n",
    "<br>\n",
    "\n",
    "<div style=\"border: 1px solid pink; padding: 10px; margin-left: 140px; width: 200px; background-color: #fff6f6\">\n",
    "\n",
    "**object(** **)**\n",
    "\n",
    "</div>\n",
    "\n",
    "<br>"
   ]
  },
  {
   "cell_type": "code",
   "execution_count": 63,
   "id": "f0fcd49d-bf90-4e56-bf34-79272823fb06",
   "metadata": {},
   "outputs": [
    {
     "name": "stdout",
     "output_type": "stream",
     "text": [
      "<class 'object'>\n",
      "True\n"
     ]
    }
   ],
   "source": [
    "\n",
    "# Create a new empty object using object()\n",
    "my_object = object()\n",
    "\n",
    "\n",
    "# Check the type of the object\n",
    "print(type(my_object))  # Output: <class 'object'>\n",
    "\n",
    "\n",
    "# Verify that the object is an instance of the object class\n",
    "print(isinstance(my_object, object))  # Output: True\n"
   ]
  },
  {
   "cell_type": "markdown",
   "id": "eabf7b83-85b6-45c8-a91d-787063912b35",
   "metadata": {},
   "source": [
    "<br>\n",
    "\n",
    "The **object( )** function is rarely used directly in Python programming, as it simply creates an empty object instance of the base class object. However, it can be useful in certain scenarios, such as when you need a placeholder object or when you want to explicitly demonstrate the hierarchy of Python classes.\n",
    "\n",
    "<br>"
   ]
  },
  {
   "cell_type": "code",
   "execution_count": null,
   "id": "ece6cedf-c032-45e3-ad13-a168b073db83",
   "metadata": {},
   "outputs": [],
   "source": []
  },
  {
   "cell_type": "markdown",
   "id": "4e048fa0-0ede-4dac-8496-54b45f3f409a",
   "metadata": {},
   "source": [
    "<br>\n",
    "\n",
    "<br>\n",
    "\n",
    "<span style=\"background-color: yellow;font-size: larger\">&nbsp;**oct( )**&nbsp;</span> : converts an integer into an **octal string**.\n",
    "\n",
    "&nbsp;&nbsp;&nbsp;&nbsp;&nbsp;&nbsp;&nbsp;&nbsp;&nbsp;&nbsp;&nbsp;&nbsp;&nbsp;&nbsp;&nbsp;&nbsp;Octal strings in Python are prefixed with <span style=\"background-color: #FFE9FF; color: red\">&nbsp;<font size=\"+1\">0o</font>&nbsp;</span>\n",
    "\n",
    "<br>\n",
    "\n",
    "<div style=\"border: 1px solid pink; padding: 10px; margin-left: 140px; width: 200px; background-color: #fff6f6\">\n",
    "\n",
    "**oct(** int **)**\n",
    "\n",
    "</div>\n",
    "\n",
    "<br>\n",
    "\n",
    "&nbsp;&nbsp;&nbsp;&nbsp;&nbsp;&nbsp;&nbsp;&nbsp;&nbsp;&nbsp;&nbsp;&nbsp;&nbsp;&nbsp;&nbsp;&nbsp;&nbsp;&nbsp;&nbsp;&nbsp;&nbsp;&nbsp;&nbsp;&nbsp;&nbsp;&nbsp;&nbsp;&nbsp;&nbsp;&nbsp;&nbsp;&nbsp;&nbsp;&nbsp;&nbsp;&nbsp;&nbsp;where, int  =====>  an integer number\n"
   ]
  },
  {
   "cell_type": "code",
   "execution_count": 66,
   "id": "169ecdb1-328d-4479-b6c2-77958a23dbe5",
   "metadata": {},
   "outputs": [
    {
     "name": "stdout",
     "output_type": "stream",
     "text": [
      "0o14\n"
     ]
    }
   ],
   "source": [
    "\n",
    "# Convert the number 12 into an octal value:\n",
    "\n",
    "x = oct(12)\n",
    "\n",
    "print(x)\n"
   ]
  },
  {
   "cell_type": "code",
   "execution_count": null,
   "id": "e7bdef4e-f436-46cb-a28e-2f2b412c7336",
   "metadata": {},
   "outputs": [],
   "source": []
  },
  {
   "cell_type": "markdown",
   "id": "4864f4be-d096-47d8-a2bf-38e157eb622e",
   "metadata": {},
   "source": [
    "<br>\n",
    "\n",
    "<br>\n",
    "\n",
    "<br>\n",
    "\n",
    "<span style=\"background-color: yellow;font-size: larger\">&nbsp;**open( )**&nbsp;</span> : &nbsp;<span style=\"background-color: #CAFEFD\">opens a file, and returns it as a file object</span>, which provides methods and attributes to read, write, and manipulate the file's contents.\n",
    "\n",
    "<div style=\"border: 1px solid pink; padding: 10px; margin-left: 80px; width: 800px; background-color: #fff6f6\">\n",
    "\n",
    "**open(** file<strong><font size=\"+1\">,</font></strong> mode **)**\n",
    "\n",
    "</div>\n",
    "<div style=\"border: 1px solid pink; padding: 10px; margin-left: 80px; width: 800px; background-color: #fff6f6\">\n",
    "\n",
    "**open(** file<strong><font size=\"+1\">,</font></strong> mode='r'<strong><font size=\"+1\">,</font></strong> buffering=-1<strong><font size=\"+1\">,</font></strong> encoding=None<strong><font size=\"+1\">,</font></strong> errors=None<strong><font size=\"+1\">,</font></strong> newline=None<strong><font size=\"+1\">,</font></strong> closefd=True<strong><font size=\"+1\">,</font></strong> opener=None **)**\n",
    "\n",
    "</div>\n",
    "\n",
    "<br>\n",
    "\n",
    "<div style=\"margin-left: 85px\">\n",
    "\n",
    "<font size=\"+2\"><span style=\"color: blue\">↳</span></font> &nbsp;&nbsp;**<span style=\"background-color: #E2FFFE\">&nbsp;file&nbsp;</span>** <font size=\"+1\">&nbsp;⇒&nbsp;</font> The **path to the file** you want to open. This can be either a string representing the path to the file or a file descriptor obtained using **os.open( )**.\n",
    "\n",
    "<font size=\"+2\"><span style=\"color: blue\">↳</span></font> &nbsp;&nbsp;**<span style=\"background-color: #E2FFFE\">&nbsp;mode&nbsp;</span>** (optional)<font size=\"+1\">&nbsp;⇒&nbsp;</font> Specifies the mode in which the file is opened. <br>\n",
    "\n",
    "&nbsp;&nbsp;&nbsp;&nbsp;&nbsp;&nbsp;&nbsp;&nbsp;&nbsp;&nbsp;&nbsp;&nbsp;&nbsp;&nbsp;&nbsp;&nbsp;&nbsp;&nbsp;&nbsp;&nbsp;&nbsp;&nbsp;&nbsp;&nbsp;&nbsp;&nbsp;&nbsp;&nbsp;&nbsp;&nbsp;&nbsp;&nbsp;&nbsp;&nbsp;&nbsp;&nbsp;&nbsp;&nbsp;&nbsp;&nbsp;&nbsp;&nbsp;&nbsp;It determines whether the file is opened for reading, writing, or both, as well as whether the file is created if it doesn't exist, <br>\n",
    "&nbsp;&nbsp;&nbsp;&nbsp;&nbsp;&nbsp;&nbsp;&nbsp;&nbsp;&nbsp;&nbsp;&nbsp;&nbsp;&nbsp;&nbsp;&nbsp;&nbsp;&nbsp;&nbsp;&nbsp;&nbsp;&nbsp;&nbsp;&nbsp;&nbsp;&nbsp;&nbsp;&nbsp;&nbsp;&nbsp;&nbsp;&nbsp;&nbsp;&nbsp;&nbsp;&nbsp;&nbsp;&nbsp;&nbsp;&nbsp;&nbsp;&nbsp;&nbsp;or truncated if it does. <br>\n",
    "\n",
    "&nbsp;&nbsp;&nbsp;&nbsp;&nbsp;&nbsp;&nbsp;&nbsp;&nbsp;&nbsp;&nbsp;&nbsp;&nbsp;&nbsp;&nbsp;&nbsp;&nbsp;&nbsp;&nbsp;&nbsp;&nbsp;&nbsp;&nbsp;&nbsp;&nbsp;&nbsp;&nbsp;&nbsp;&nbsp;&nbsp;&nbsp;&nbsp;&nbsp;&nbsp;&nbsp;&nbsp;&nbsp;&nbsp;&nbsp;&nbsp;&nbsp;&nbsp;&nbsp;The default mode is <font size=\"+1\"><span style=\"color: red\">'r'</span></font> (read mode).\n",
    "\n",
    "&nbsp;&nbsp;&nbsp;&nbsp;&nbsp;&nbsp;&nbsp;&nbsp;&nbsp;&nbsp;&nbsp;&nbsp;&nbsp;&nbsp;&nbsp;&nbsp;&nbsp;&nbsp;&nbsp;&nbsp;&nbsp;&nbsp;&nbsp;&nbsp;&nbsp;&nbsp;&nbsp;&nbsp;&nbsp;&nbsp;&nbsp;&nbsp;&nbsp;&nbsp;&nbsp;&nbsp;&nbsp;&nbsp;&nbsp;&nbsp;&nbsp;&nbsp;&nbsp;The available mode strings are:\n",
    "\n",
    "<div style=\"border: 1px solid blue; padding: 10px; margin-left: 220px; width: 650px; background-color: #FCF9FC\">\n",
    "\n",
    "<font size=\"+1\"><span style=\"color: red\">'r'</span></font> &nbsp;&nbsp;&nbsp;:&nbsp; <span style=\"color: blue\">**Read** ===========> Default value. Opens a file for reading, error if the file does not exist</span>                                                                                            <br>\n",
    "<font size=\"+1\"><span style=\"color: red\">'a'</span></font> &nbsp;&nbsp;:&nbsp; <span style=\"color: blue\">**Append** =========> Opens a file for appending, creates the file if it does not exist</span>                                                                                                    <br>\n",
    "<font size=\"+1\"><span style=\"color: red\">'w'</span></font> &nbsp;:&nbsp; <span style=\"color: blue\">**Write** ===========> Opens a file for writing, creates the file if it does not exist</span>                                                                                                              <br>\n",
    "<font size=\"+1\"><span style=\"color: red\">'x'</span></font> &nbsp;&nbsp;&nbsp;:&nbsp;  <span style=\"color: blue\">**Create** ==========> Creates the specified file, returns an error if the file exist</span>                                                                                                                <br>\n",
    "<font size=\"+1\"><span style=\"color: red\">'b'</span></font> &nbsp;&nbsp;&nbsp;:&nbsp;  <span style=\"color: blue\">**Binary mode**</span>             <br>\n",
    "<font size=\"+1\"><span style=\"color: red\">'t'</span></font> &nbsp;&nbsp;&nbsp;&nbsp;:&nbsp; <span style=\"color: blue\">**Text mode** (default)</span>      <br>\n",
    "<font size=\"+1\"><span style=\"color: red\">'+'</span></font> &nbsp;&nbsp;&nbsp;:&nbsp; <span style=\"color: blue\">**Read + Write** =====> Open for updating (reading and writing)</span> \n",
    "\n",
    "</div>\n",
    "\n",
    "<br>\n",
    "\n",
    "<font size=\"+2\"><span style=\"color: blue\">↳</span></font> &nbsp;&nbsp;**<span style=\"background-color: #E2FFFE\">&nbsp;buffering&nbsp;</span>** (optional)<font size=\"+1\">&nbsp;⇒&nbsp;</font> : Specifies the buffering policy. If buffering is set to 0, no buffering will take place. <br>\n",
    "&nbsp;&nbsp;&nbsp;&nbsp;&nbsp;&nbsp;&nbsp;&nbsp;&nbsp;&nbsp;&nbsp;&nbsp;&nbsp;&nbsp;&nbsp;&nbsp;&nbsp;&nbsp;&nbsp;&nbsp;&nbsp;&nbsp;&nbsp;&nbsp;&nbsp;&nbsp;&nbsp;&nbsp;&nbsp;&nbsp;&nbsp;&nbsp;&nbsp;&nbsp;&nbsp;&nbsp;&nbsp;&nbsp;&nbsp;&nbsp;&nbsp;&nbsp;&nbsp;&nbsp;&nbsp;&nbsp;&nbsp;&nbsp;&nbsp;&nbsp;&nbsp;If it's set to 1, line buffering will be used. If it's set to a value greater than 1, buffering will use the specified buffer size. <br>\n",
    "&nbsp;&nbsp;&nbsp;&nbsp;&nbsp;&nbsp;&nbsp;&nbsp;&nbsp;&nbsp;&nbsp;&nbsp;&nbsp;&nbsp;&nbsp;&nbsp;&nbsp;&nbsp;&nbsp;&nbsp;&nbsp;&nbsp;&nbsp;&nbsp;&nbsp;&nbsp;&nbsp;&nbsp;&nbsp;&nbsp;&nbsp;&nbsp;&nbsp;&nbsp;&nbsp;&nbsp;&nbsp;&nbsp;&nbsp;&nbsp;&nbsp;&nbsp;&nbsp;&nbsp;&nbsp;&nbsp;&nbsp;&nbsp;&nbsp;&nbsp;&nbsp;The default value of **-1** uses the system default buffering.\n",
    "\n",
    "<font size=\"+2\"><span style=\"color: blue\">↳</span></font> &nbsp;&nbsp;**<span style=\"background-color: #E2FFFE\">&nbsp;encoding&nbsp;</span>** (optional)<font size=\"+1\">&nbsp;⇒&nbsp;</font> : Specifies the encoding used to interpret or write the file's contents in text mode. <br>\n",
    "&nbsp;&nbsp;&nbsp;&nbsp;&nbsp;&nbsp;&nbsp;&nbsp;&nbsp;&nbsp;&nbsp;&nbsp;&nbsp;&nbsp;&nbsp;&nbsp;&nbsp;&nbsp;&nbsp;&nbsp;&nbsp;&nbsp;&nbsp;&nbsp;&nbsp;&nbsp;&nbsp;&nbsp;&nbsp;&nbsp;&nbsp;&nbsp;&nbsp;&nbsp;&nbsp;&nbsp;&nbsp;&nbsp;&nbsp;&nbsp;&nbsp;&nbsp;&nbsp;&nbsp;&nbsp;&nbsp;&nbsp;&nbsp;&nbsp;&nbsp;&nbsp;If not specified, the default encoding specified by **locale.getpreferredencoding(False)** is used.\n",
    "\n",
    "\n",
    "<font size=\"+2\"><span style=\"color: blue\">↳</span></font> &nbsp;&nbsp;**<span style=\"background-color: #E2FFFE\">&nbsp;errors&nbsp;</span>** (optional)<font size=\"+1\">&nbsp;⇒&nbsp;</font> : Specifies how encoding and decoding errors should be handled when working with text files. <br>\n",
    "&nbsp;&nbsp;&nbsp;&nbsp;&nbsp;&nbsp;&nbsp;&nbsp;&nbsp;&nbsp;&nbsp;&nbsp;&nbsp;&nbsp;&nbsp;&nbsp;&nbsp;&nbsp;&nbsp;&nbsp;&nbsp;&nbsp;&nbsp;&nbsp;&nbsp;&nbsp;&nbsp;&nbsp;&nbsp;&nbsp;&nbsp;&nbsp;&nbsp;&nbsp;&nbsp;&nbsp;&nbsp;&nbsp;&nbsp;&nbsp;&nbsp;&nbsp;&nbsp;&nbsp;&nbsp;It determines what action should be taken when characters cannot be encoded or decoded according to the specified encoding. <br>\n",
    "&nbsp;&nbsp;&nbsp;&nbsp;&nbsp;&nbsp;&nbsp;&nbsp;&nbsp;&nbsp;&nbsp;&nbsp;&nbsp;&nbsp;&nbsp;&nbsp;&nbsp;&nbsp;&nbsp;&nbsp;&nbsp;&nbsp;&nbsp;&nbsp;&nbsp;&nbsp;&nbsp;&nbsp;&nbsp;&nbsp;&nbsp;&nbsp;&nbsp;&nbsp;&nbsp;&nbsp;&nbsp;&nbsp;&nbsp;&nbsp;&nbsp;&nbsp;&nbsp;&nbsp;&nbsp;Possible values include:\n",
    "\n",
    "\n",
    "<div style=\"border: 1px solid blue; padding: 10px; margin-left: 200px; width: 730px; background-color: #FCF9FC\"\">\n",
    "\n",
    "**'strict'** &nbsp;==========>&nbsp; Raise a UnicodeError exception if an encoding or decoding error occurs (default behavior).          <br>\n",
    "**'ignore'** &nbsp;=========>&nbsp; Ignore errors and continue encoding or decoding as much of the file as possible.                     <br>\n",
    "**'replace'** &nbsp;=========>&nbsp;Replace errors with a suitable replacement character (usually '?').                                  <br>\n",
    "**'backslashreplace'** &nbsp;==>&nbsp; Replace errors with backslash escapes.                                                            <br>\n",
    "**'xmlcharrefreplace'** &nbsp;=>&nbsp; Replace errors with XML character references.                                                     <br>\n",
    "**'surrogateescape'** &nbsp;==>&nbsp;&nbsp; Replace bytes with Unicode surrogates.                                                       <br>\n",
    "**'surrogatepass'** &nbsp;====>&nbsp; Pass bytes through unchanged.                                                                      <br>\n",
    "and more...\n",
    "\n",
    "</div>\n",
    "\n",
    "<br>\n",
    "\n",
    "\n",
    "<font size=\"+2\"><span style=\"color: blue\">↳</span></font> &nbsp;&nbsp;**<span style=\"background-color: #E2FFFE\">&nbsp;newline&nbsp;</span>** (optional)<font size=\"+1\">&nbsp;⇒&nbsp;</font> : Specifies how newlines should be handled when working with text files. <br>\n",
    "&nbsp;&nbsp;&nbsp;&nbsp;&nbsp;&nbsp;&nbsp;&nbsp;&nbsp;&nbsp;&nbsp;&nbsp;&nbsp;&nbsp;&nbsp;&nbsp;&nbsp;&nbsp;&nbsp;&nbsp;&nbsp;&nbsp;&nbsp;&nbsp;&nbsp;&nbsp;&nbsp;&nbsp;&nbsp;&nbsp;&nbsp;&nbsp;&nbsp;&nbsp;&nbsp;&nbsp;&nbsp;&nbsp;&nbsp;&nbsp;&nbsp;&nbsp;&nbsp;&nbsp;&nbsp;&nbsp;&nbsp;&nbsp;If None, newlines will be translated to the system default newline convention. <br>\n",
    "&nbsp;&nbsp;&nbsp;&nbsp;&nbsp;&nbsp;&nbsp;&nbsp;&nbsp;&nbsp;&nbsp;&nbsp;&nbsp;&nbsp;&nbsp;&nbsp;&nbsp;&nbsp;&nbsp;&nbsp;&nbsp;&nbsp;&nbsp;&nbsp;&nbsp;&nbsp;&nbsp;&nbsp;&nbsp;&nbsp;&nbsp;&nbsp;&nbsp;&nbsp;&nbsp;&nbsp;&nbsp;&nbsp;&nbsp;&nbsp;&nbsp;&nbsp;&nbsp;&nbsp;&nbsp;&nbsp;&nbsp;&nbsp;If an empty string (&nbsp;<span style=\"background-color: #FEF0FE\"><font size=\"+1\">&nbsp;''&nbsp;</font></span>&nbsp;), no translation will be performed. If any other string, it will be used as the newline character.\n",
    "\n",
    "<font size=\"+2\"><span style=\"color: blue\">↳</span></font> &nbsp;&nbsp;**<span style=\"background-color: #E2FFFE\">&nbsp;closefd&nbsp;</span>** (optional)<font size=\"+1\">&nbsp;⇒&nbsp;</font> : If **closefd is True**, the underlying file descriptor of the file object will be closed when the file object is closed. <br>\n",
    "&nbsp;&nbsp;&nbsp;&nbsp;&nbsp;&nbsp;&nbsp;&nbsp;&nbsp;&nbsp;&nbsp;&nbsp;&nbsp;&nbsp;&nbsp;&nbsp;&nbsp;&nbsp;&nbsp;&nbsp;&nbsp;&nbsp;&nbsp;&nbsp;&nbsp;&nbsp;&nbsp;&nbsp;&nbsp;&nbsp;&nbsp;&nbsp;&nbsp;&nbsp;&nbsp;&nbsp;&nbsp;&nbsp;&nbsp;&nbsp;&nbsp;&nbsp;&nbsp;&nbsp;&nbsp;&nbsp;&nbsp;The default value is **True**.\n",
    "\n",
    "<font size=\"+2\"><span style=\"color: blue\">↳</span></font> &nbsp;&nbsp;**<span style=\"background-color: #E2FFFE\">&nbsp;opener&nbsp;</span>** (optional)<font size=\"+1\">&nbsp;⇒&nbsp;</font> : Allows you to specify a custom opener function for opening the file. <br>\n",
    "&nbsp;&nbsp;&nbsp;&nbsp;&nbsp;&nbsp;&nbsp;&nbsp;&nbsp;&nbsp;&nbsp;&nbsp;&nbsp;&nbsp;&nbsp;&nbsp;&nbsp;&nbsp;&nbsp;&nbsp;&nbsp;&nbsp;&nbsp;&nbsp;&nbsp;&nbsp;&nbsp;&nbsp;&nbsp;&nbsp;&nbsp;&nbsp;&nbsp;&nbsp;&nbsp;&nbsp;&nbsp;&nbsp;&nbsp;&nbsp;&nbsp;&nbsp;&nbsp;&nbsp;&nbsp;&nbsp;&nbsp;The default value is **True**The opener function must take the file path and file flags as arguments and return a file descriptor.\n",
    "\n",
    "\n",
    "</div>\n",
    "\n",
    "\n",
    "\n",
    "\n"
   ]
  },
  {
   "cell_type": "markdown",
   "id": "8f546138-c135-4763-b95c-fa898ff69ff3",
   "metadata": {},
   "source": []
  },
  {
   "cell_type": "code",
   "execution_count": null,
   "id": "cb541c3f-99f3-47bb-9347-b5e83b1e3d19",
   "metadata": {},
   "outputs": [],
   "source": []
  },
  {
   "cell_type": "code",
   "execution_count": null,
   "id": "580cf13e-722b-49cd-9968-7de3de304a1f",
   "metadata": {},
   "outputs": [],
   "source": []
  },
  {
   "cell_type": "code",
   "execution_count": null,
   "id": "87f813cd-e73d-43b9-ad87-984b64d16784",
   "metadata": {},
   "outputs": [],
   "source": []
  },
  {
   "cell_type": "code",
   "execution_count": 69,
   "id": "ce82428c-16e3-433e-8aa8-a85889afe998",
   "metadata": {},
   "outputs": [
    {
     "name": "stdout",
     "output_type": "stream",
     "text": [
      "Caf?\n"
     ]
    }
   ],
   "source": [
    "\n",
    "# Open a file in read mode\n",
    "with open('example.txt', 'r') as file:\n",
    "    # Read the content of the file\n",
    "    content = file.read()\n",
    "    # Display the content\n",
    "    print(content)\n"
   ]
  },
  {
   "cell_type": "code",
   "execution_count": 70,
   "id": "d6e5f1a7-714a-4946-a0a1-42bd5f2d3842",
   "metadata": {},
   "outputs": [
    {
     "name": "stdout",
     "output_type": "stream",
     "text": [
      "Caf?\n"
     ]
    }
   ],
   "source": [
    "\n",
    "\n",
    "# Define a string containing non-ASCII characters\n",
    "text = 'Café'\n",
    "\n",
    "\n",
    "# Write the string to a file using a non-UTF-8 encoding\n",
    "with open('example.txt', 'w', encoding='ascii', errors='replace') as file:\n",
    "    file.write(text)\n",
    "\n",
    "\n",
    "# Read the file with the incorrect encoding, replacing errors with a placeholder\n",
    "with open('example.txt', 'r', encoding='ascii', errors='replace') as file:\n",
    "    content = file.read()\n",
    "\n",
    "\n",
    "print(content)  # Output: Caf�\n",
    "\n"
   ]
  },
  {
   "cell_type": "code",
   "execution_count": null,
   "id": "ff696245-4840-4428-9870-a6055ccdbebc",
   "metadata": {},
   "outputs": [],
   "source": []
  },
  {
   "cell_type": "code",
   "execution_count": null,
   "id": "d76c496f-cf67-41e7-837d-fa56032ba9b8",
   "metadata": {},
   "outputs": [],
   "source": []
  },
  {
   "cell_type": "code",
   "execution_count": null,
   "id": "f98bd108-1f81-4c4d-88f2-cb21444888f7",
   "metadata": {},
   "outputs": [],
   "source": []
  },
  {
   "cell_type": "code",
   "execution_count": null,
   "id": "1190318e-8ab9-4e24-8d73-ef6825e40f92",
   "metadata": {},
   "outputs": [],
   "source": []
  },
  {
   "cell_type": "code",
   "execution_count": null,
   "id": "9e5c298f-7334-4eaa-a855-9ac7e1c87115",
   "metadata": {},
   "outputs": [],
   "source": []
  },
  {
   "cell_type": "code",
   "execution_count": null,
   "id": "e58b0b08-3bcf-4e80-9431-a1698627d3dc",
   "metadata": {},
   "outputs": [],
   "source": []
  },
  {
   "cell_type": "code",
   "execution_count": null,
   "id": "f43ee04e-1801-49e1-883e-fc8a61e1763e",
   "metadata": {},
   "outputs": [],
   "source": []
  },
  {
   "cell_type": "code",
   "execution_count": null,
   "id": "dd5b00ca-ae48-4c33-8f34-5b9aed697932",
   "metadata": {},
   "outputs": [],
   "source": []
  },
  {
   "cell_type": "markdown",
   "id": "8724510c-e0c9-4c43-aa9c-3878911c497e",
   "metadata": {},
   "source": [
    "<br>\n",
    "\n",
    "<span style=\"background-color: yellow\">&nbsp;**len()**&nbsp;</span> : Returns the **length** (number of items) of an object."
   ]
  },
  {
   "cell_type": "code",
   "execution_count": 27,
   "id": "14ba7edd-30d1-40b3-9269-d8f5c7810ff7",
   "metadata": {},
   "outputs": [
    {
     "name": "stdout",
     "output_type": "stream",
     "text": [
      "5\n"
     ]
    }
   ],
   "source": [
    "lst = [1, 2, 3, 4, 5]\n",
    "length = len(lst)\n",
    "print(length)\n"
   ]
  },
  {
   "cell_type": "markdown",
   "id": "7f48f9b4-a073-4bdb-ab4b-cf3bbe8e29dc",
   "metadata": {},
   "source": [
    "<br>\n",
    "\n",
    "<span style=\"background-color: yellow\">&nbsp;**max()**&nbsp;</span> : Returns the **largest** item in an iterable or the largest of two or more arguments."
   ]
  },
  {
   "cell_type": "code",
   "execution_count": 28,
   "id": "ee8648da-f905-421f-b1b5-59128d76b4b3",
   "metadata": {},
   "outputs": [
    {
     "name": "stdout",
     "output_type": "stream",
     "text": [
      "9\n"
     ]
    }
   ],
   "source": [
    "nums = [3, 7, 2, 9, 5]\n",
    "max_num = max(nums)\n",
    "print(max_num)  \n"
   ]
  },
  {
   "cell_type": "code",
   "execution_count": 1,
   "id": "025f3fca-d021-4059-b0d4-882ed5f78688",
   "metadata": {},
   "outputs": [
    {
     "name": "stdout",
     "output_type": "stream",
     "text": [
      "9\n"
     ]
    }
   ],
   "source": [
    "max_num = max(3,7,2,9,5)\n",
    "print(max_num)"
   ]
  },
  {
   "cell_type": "markdown",
   "id": "a55c699d-9f0a-4c74-bf87-f1ffa535697d",
   "metadata": {},
   "source": [
    "<br>\n",
    "\n",
    "<span style=\"background-color: yellow\">&nbsp;**min()**&nbsp;</span> : Returns the **smallest** item in an iterable or the smallest of two or more arguments."
   ]
  },
  {
   "cell_type": "code",
   "execution_count": 29,
   "id": "da053b1e-b604-4ae4-b996-680ee9fd6591",
   "metadata": {},
   "outputs": [
    {
     "name": "stdout",
     "output_type": "stream",
     "text": [
      "2\n"
     ]
    }
   ],
   "source": [
    "nums = [3, 7, 2, 9, 5]\n",
    "min_num = min(nums)\n",
    "print(min_num) \n"
   ]
  },
  {
   "cell_type": "markdown",
   "id": "75f5187d-7c4e-4e69-9f86-38757b4a6e9b",
   "metadata": {},
   "source": [
    "<br>\n",
    "\n",
    "<span style=\"background-color: yellow\">&nbsp;**ord()**&nbsp;</span> : Returns the **Unicode** code point for a single character."
   ]
  },
  {
   "cell_type": "code",
   "execution_count": 30,
   "id": "042122ee-504a-41ec-bae2-1026c8126d71",
   "metadata": {},
   "outputs": [
    {
     "name": "stdout",
     "output_type": "stream",
     "text": [
      "65\n"
     ]
    }
   ],
   "source": [
    "code_point = ord('A')\n",
    "print(code_point) \n"
   ]
  },
  {
   "cell_type": "markdown",
   "id": "089927f4-3558-4993-bc8b-9338d02897d6",
   "metadata": {},
   "source": [
    "<br>\n",
    "\n",
    "<span style=\"background-color: yellow\">&nbsp;**pow()**&nbsp;</span> : Returns **x to the power of y**."
   ]
  },
  {
   "cell_type": "code",
   "execution_count": 32,
   "id": "31aa6102-7531-4203-9715-a39f25e5e182",
   "metadata": {},
   "outputs": [
    {
     "name": "stdout",
     "output_type": "stream",
     "text": [
      "8\n"
     ]
    }
   ],
   "source": [
    "result = pow(2, 3)\n",
    "print(result)  \n"
   ]
  },
  {
   "cell_type": "markdown",
   "id": "43888aa8-1a4e-438e-aa21-08379bec98db",
   "metadata": {},
   "source": [
    "<br>\n",
    "\n",
    "<span style=\"background-color: yellow\">&nbsp;**range()**&nbsp;</span> : Returns a **sequence of numbers**, starting from **0** by default, and increments by **1** (by default), ending before a specified number."
   ]
  },
  {
   "cell_type": "code",
   "execution_count": 26,
   "id": "a4f4716a-945f-4762-b404-ef83aae2a0e0",
   "metadata": {},
   "outputs": [
    {
     "name": "stdout",
     "output_type": "stream",
     "text": [
      "[0, 1, 2, 3, 4]\n"
     ]
    }
   ],
   "source": [
    "numbers = list(range(5))\n",
    "print(numbers) \n"
   ]
  },
  {
   "cell_type": "markdown",
   "id": "30ee7976-db73-4cea-be9c-b881c45ae2e1",
   "metadata": {},
   "source": [
    "<br>\n",
    "\n",
    "<span style=\"background-color: yellow\">&nbsp;**reversed()**&nbsp;</span> : Returns a **reverse** iterator."
   ]
  },
  {
   "cell_type": "code",
   "execution_count": 25,
   "id": "86b39af3-5d08-4b82-b66a-1b3afb2eb309",
   "metadata": {},
   "outputs": [
    {
     "name": "stdout",
     "output_type": "stream",
     "text": [
      "[5, 4, 3, 2, 1]\n"
     ]
    }
   ],
   "source": [
    "# Example - 1\n",
    "\n",
    "nums = [1, 2, 3, 4, 5]\n",
    "reversed_nums = list(reversed(nums))\n",
    "print(reversed_nums)\n"
   ]
  },
  {
   "cell_type": "code",
   "execution_count": 24,
   "id": "8ee287f5-b33a-42c1-9135-4a89fa0d7a39",
   "metadata": {},
   "outputs": [
    {
     "name": "stdout",
     "output_type": "stream",
     "text": [
      "<reversed object at 0x0000023949736A10>\n"
     ]
    }
   ],
   "source": [
    "# Example -2 \n",
    "\n",
    "name = \"Avinash\"\n",
    "\n",
    "reversed_name = reversed(name)\n",
    "\n",
    "print(reversed_name)  \n"
   ]
  },
  {
   "cell_type": "code",
   "execution_count": 23,
   "id": "dc197832-f576-435e-a20e-1b290e993452",
   "metadata": {},
   "outputs": [
    {
     "name": "stdout",
     "output_type": "stream",
     "text": [
      "['h', 's', 'a', 'n', 'i', 'v', 'A']\n"
     ]
    }
   ],
   "source": [
    "name = \"Avinash\"\n",
    "\n",
    "reversed_name_list = list(reversed(name))\n",
    "\n",
    "print(reversed_name_list) \n"
   ]
  },
  {
   "cell_type": "code",
   "execution_count": 21,
   "id": "6e5cad4c-c9ee-42f5-81f6-49c4212c0a60",
   "metadata": {},
   "outputs": [
    {
     "name": "stdout",
     "output_type": "stream",
     "text": [
      "hsanivA\n"
     ]
    }
   ],
   "source": [
    "reversed_name = \"\"\n",
    "\n",
    "for i in range(len(name)):\n",
    "    reversed_name = reversed_name + reversed_name_list[i]\n",
    "\n",
    "print(reversed_name)\n",
    "    "
   ]
  },
  {
   "cell_type": "markdown",
   "id": "b8a0739f-2afa-4c91-8bb9-46f466402a4d",
   "metadata": {},
   "source": [
    "<br>\n",
    "\n",
    "<span style=\"background-color: yellow\">&nbsp;**round()**&nbsp;</span> : Returns the rounded value of a number to a **specified number of decimal places**."
   ]
  },
  {
   "cell_type": "code",
   "execution_count": 22,
   "id": "e02b8ff4-811d-48cf-8e36-815d927e5389",
   "metadata": {},
   "outputs": [
    {
     "name": "stdout",
     "output_type": "stream",
     "text": [
      "3.14\n"
     ]
    }
   ],
   "source": [
    "num = 3.14159\n",
    "rounded_num = round(num, 2)\n",
    "print(rounded_num) \n"
   ]
  },
  {
   "cell_type": "markdown",
   "id": "a1341077-2beb-4cef-ac70-cc5be149b106",
   "metadata": {},
   "source": [
    "<br>\n",
    "\n",
    "<span style=\"background-color: yellow\">&nbsp;**sorted()**&nbsp;</span> : Returns a **new sorted list** from the elements of an iterable."
   ]
  },
  {
   "cell_type": "code",
   "execution_count": 40,
   "id": "b7ffff66-4de7-473f-8e85-c0da12a6109f",
   "metadata": {},
   "outputs": [
    {
     "name": "stdout",
     "output_type": "stream",
     "text": [
      "[1, 2, 3, 5, 7]\n"
     ]
    }
   ],
   "source": [
    "nums = [5, 2, 7, 1, 3] \n",
    "sorted_nums = sorted(nums) \n",
    "print(sorted_nums) \n"
   ]
  },
  {
   "cell_type": "markdown",
   "id": "ef2a44a3-447d-4d1c-b693-238c16341fc7",
   "metadata": {},
   "source": [
    "<br>\n",
    "\n",
    "<span style=\"background-color: yellow\">&nbsp;**str()**&nbsp;</span> : Returns a **string version of an object**."
   ]
  },
  {
   "cell_type": "code",
   "execution_count": 41,
   "id": "4e4a4644-ee68-4b92-90e0-a6e43d32789e",
   "metadata": {},
   "outputs": [
    {
     "name": "stdout",
     "output_type": "stream",
     "text": [
      "123\n"
     ]
    }
   ],
   "source": [
    "num = 123\n",
    "str_num = str(num)\n",
    "print(str_num) \n"
   ]
  },
  {
   "cell_type": "markdown",
   "id": "1db0e0ae-770d-48b0-9db9-6a0be104b51c",
   "metadata": {},
   "source": [
    "<br>\n",
    "\n",
    "<span style=\"background-color: yellow\">&nbsp;**sum()**&nbsp;</span> : Returns the **sum of all elements** in an iterable."
   ]
  },
  {
   "cell_type": "code",
   "execution_count": 3,
   "id": "3ead53e2-0f79-4da3-9439-0bc3a9d0033e",
   "metadata": {},
   "outputs": [
    {
     "name": "stdout",
     "output_type": "stream",
     "text": [
      "15\n"
     ]
    }
   ],
   "source": [
    "nums = [1, 2, 3, 4, 5]\n",
    "total_sum = sum(nums)\n",
    "print(total_sum) \n"
   ]
  },
  {
   "cell_type": "markdown",
   "id": "92e67834-50c1-45a3-923e-89ffda85c48e",
   "metadata": {},
   "source": [
    "<br>\n",
    "\n",
    "<span style=\"background-color: yellow\">&nbsp;**tuple()**&nbsp;</span> : Converts an iterable to a **tuple**."
   ]
  },
  {
   "cell_type": "code",
   "execution_count": 43,
   "id": "0ed6e706-9c92-44bb-a6e0-8305e07830ed",
   "metadata": {},
   "outputs": [
    {
     "name": "stdout",
     "output_type": "stream",
     "text": [
      "(1, 2, 3, 4, 5)\n"
     ]
    }
   ],
   "source": [
    "lst = [1, 2, 3, 4, 5]\n",
    "tpl = tuple(lst)\n",
    "print(tpl) \n"
   ]
  },
  {
   "cell_type": "markdown",
   "id": "ab97223d-5b95-4d18-b12d-992e286c0b10",
   "metadata": {},
   "source": [
    "<br>\n",
    "\n",
    "<span style=\"background-color: yellow\">&nbsp;**type()**&nbsp;</span> : Returns the **type** of an object."
   ]
  },
  {
   "cell_type": "code",
   "execution_count": 48,
   "id": "5a707da4-666b-4764-883c-91452116040b",
   "metadata": {},
   "outputs": [
    {
     "name": "stdout",
     "output_type": "stream",
     "text": [
      "<class 'int'>\n"
     ]
    }
   ],
   "source": [
    "x = 10\n",
    "print(type(x)) \n"
   ]
  },
  {
   "cell_type": "markdown",
   "id": "a0fef820-fa35-4cdd-900f-fa322ede3eaf",
   "metadata": {},
   "source": [
    "<br>\n",
    "\n",
    "<span style=\"background-color: yellow\">&nbsp;**int()**&nbsp;</span> : converts into integer type."
   ]
  },
  {
   "cell_type": "code",
   "execution_count": 4,
   "id": "3e02f30b-af04-46d0-82b7-1aa7b694ab13",
   "metadata": {},
   "outputs": [
    {
     "name": "stdout",
     "output_type": "stream",
     "text": [
      "1\n",
      "0\n",
      "123\n",
      "-123\n",
      "9\n",
      "10\n"
     ]
    }
   ],
   "source": [
    "print(int(True))\n",
    "print(int(False))\n",
    "print(int(\"123\"))\n",
    "print(int(\"-123\"))\n",
    "print(int(9.5))\n",
    "print(int(\"0b1010\", base=2))"
   ]
  },
  {
   "cell_type": "markdown",
   "id": "bbff1fde-9a43-454a-ac0f-ca3b09872f38",
   "metadata": {},
   "source": [
    "<br>\n",
    "\n",
    "<span style=\"background-color: yellow\">&nbsp;**zip()**&nbsp;</span> : Returns an iterator of tuples, where the i-th tuple contains the i-th element from each of the input iterables."
   ]
  },
  {
   "cell_type": "code",
   "execution_count": 49,
   "id": "60bc10f9-6339-47fc-ad06-f4ff5007f261",
   "metadata": {},
   "outputs": [
    {
     "name": "stdout",
     "output_type": "stream",
     "text": [
      "[('Alice', 25), ('Bob', 30), ('Charlie', 35)]\n"
     ]
    }
   ],
   "source": [
    "names = ['Alice', 'Bob', 'Charlie']\n",
    "ages = [25, 30, 35]\n",
    "zipped_data = zip(names, ages)\n",
    "print(list(zipped_data)) \n"
   ]
  },
  {
   "cell_type": "markdown",
   "id": "d63f9d63-3620-446a-a52a-4ea61e9eab31",
   "metadata": {},
   "source": [
    "<br>\n",
    "\n",
    "<span style=\"background-color: yellow\">&nbsp;**format()**&nbsp;</span> : Formats a specified value into a **specified format**."
   ]
  },
  {
   "cell_type": "code",
   "execution_count": 52,
   "id": "f8657c82-d9fa-4d9c-8836-813fd1961d64",
   "metadata": {},
   "outputs": [
    {
     "name": "stdout",
     "output_type": "stream",
     "text": [
      "My name is John and I am 30 years old.\n"
     ]
    }
   ],
   "source": [
    "name = \"John\"\n",
    "age = 30\n",
    "message = \"My name is {} and I am {} years old.\".format(name, age)\n",
    "print(message) \n"
   ]
  },
  {
   "cell_type": "markdown",
   "id": "87d63715-14cb-4246-86fb-6ba35e0ffd58",
   "metadata": {},
   "source": [
    "<br>\n",
    "\n",
    "<span style=\"background-color: yellow\">&nbsp;**eval()**&nbsp;</span> : **Evaluates a Python expression that is passed as a string argument** and returns the result of the expression.\n"
   ]
  },
  {
   "cell_type": "code",
   "execution_count": 53,
   "id": "0d52fa18-a48e-4d29-a084-dc72b2839929",
   "metadata": {},
   "outputs": [
    {
     "name": "stdout",
     "output_type": "stream",
     "text": [
      "13\n"
     ]
    }
   ],
   "source": [
    "expression = \"3 + 5 * 2\"\n",
    "result = eval(expression)\n",
    "print(result) \n"
   ]
  },
  {
   "cell_type": "markdown",
   "id": "2a1ec97f-29c9-4db7-9940-2a5d82c7338a",
   "metadata": {},
   "source": [
    "<br>\n",
    "\n",
    "<span style=\"background-color: yellow\">&nbsp;**hash()**&nbsp;</span> : Returns the **hash value of an object**.\n"
   ]
  },
  {
   "cell_type": "code",
   "execution_count": 55,
   "id": "b09a1255-ad7f-44b6-8ae5-3ffc2547baa0",
   "metadata": {},
   "outputs": [
    {
     "name": "stdin",
     "output_type": "stream",
     "text": [
      "Enter your name:  Avinash\n"
     ]
    },
    {
     "name": "stdout",
     "output_type": "stream",
     "text": [
      "Hello, Avinash\n"
     ]
    }
   ],
   "source": [
    "name = input(\"Enter your name: \")\n",
    "print(\"Hello, \" + name)\n"
   ]
  },
  {
   "cell_type": "code",
   "execution_count": 58,
   "id": "29634384-9d72-4f98-a3f5-f02df918fbe8",
   "metadata": {},
   "outputs": [
    {
     "name": "stdout",
     "output_type": "stream",
     "text": [
      "['__add__', '__class__', '__class_getitem__', '__contains__', '__delattr__', '__delitem__', '__dir__', '__doc__', '__eq__', '__format__', '__ge__', '__getattribute__', '__getitem__', '__getstate__', '__gt__', '__hash__', '__iadd__', '__imul__', '__init__', '__init_subclass__', '__iter__', '__le__', '__len__', '__lt__', '__mul__', '__ne__', '__new__', '__reduce__', '__reduce_ex__', '__repr__', '__reversed__', '__rmul__', '__setattr__', '__setitem__', '__sizeof__', '__str__', '__subclasshook__', 'append', 'clear', 'copy', 'count', 'extend', 'index', 'insert', 'pop', 'remove', 'reverse', 'sort']\n"
     ]
    }
   ],
   "source": [
    "lst = [1, 2, 3]\n",
    "attributes = dir(lst)\n",
    "print(attributes) \n"
   ]
  },
  {
   "cell_type": "markdown",
   "id": "6add16f2-8842-4599-a154-13f0b6786af3",
   "metadata": {},
   "source": [
    "<br>\n",
    "\n",
    "<span style=\"background-color: yellow\">&nbsp;**enumerate()**&nbsp;</span> : Returns an **enumerate object**, which yields **pairs of indexes and values** from an iterable."
   ]
  },
  {
   "cell_type": "code",
   "execution_count": 51,
   "id": "93251873-e249-4ee2-9350-7abf68e1c554",
   "metadata": {},
   "outputs": [
    {
     "name": "stdout",
     "output_type": "stream",
     "text": [
      "0 apple\n",
      "1 banana\n",
      "2 cherry\n"
     ]
    }
   ],
   "source": [
    "fruits = ['apple', 'banana', 'cherry']\n",
    "for index, fruit in enumerate(fruits):\n",
    "    print(index, fruit)\n"
   ]
  },
  {
   "cell_type": "markdown",
   "id": "ac8f5b27-4a3b-4add-880e-4df4aa08bff0",
   "metadata": {},
   "source": [
    "<br>\n",
    "\n",
    "<span style=\"background-color: yellow\">&nbsp;**filter()**&nbsp;</span> : Constructs an iterator from the elements of an iterable for which a function returns **True**."
   ]
  },
  {
   "cell_type": "code",
   "execution_count": 67,
   "id": "71581844-f5ca-478a-a8ed-aa9916198557",
   "metadata": {},
   "outputs": [
    {
     "name": "stdout",
     "output_type": "stream",
     "text": [
      "[2, 4, 6, 8, 10]\n"
     ]
    }
   ],
   "source": [
    "\n",
    "def is_even(x):\n",
    "    return x % 2 == 0\n",
    "\n",
    "\n",
    "numbers = [1, 2, 3, 4, 5, 6, 7, 8, 9, 10]\n",
    "even_numbers = filter(is_even, numbers)\n",
    "# print(even_numbers)         # <filter object at 0x0000023949736F80>\n",
    "print(list(even_numbers)) \n"
   ]
  },
  {
   "cell_type": "markdown",
   "id": "989fb145-5a53-4ce7-9bab-41a5f7562db1",
   "metadata": {},
   "source": [
    "<br>\n",
    "\n",
    "<span style=\"background-color: yellow\">&nbsp;**map()**&nbsp;</span> : Applies a **function to all the items** in an input iterable."
   ]
  },
  {
   "cell_type": "code",
   "execution_count": 77,
   "id": "c72d1a3b-9d10-4727-8934-3ef144443400",
   "metadata": {},
   "outputs": [
    {
     "name": "stdout",
     "output_type": "stream",
     "text": [
      "[1, 4, 9, 16, 25]\n"
     ]
    }
   ],
   "source": [
    "def square(x):\n",
    "    return x ** 2\n",
    "\n",
    "numbers = [1, 2, 3, 4, 5]\n",
    "squared_numbers = map(square, numbers)\n",
    "print(list(squared_numbers)) \n"
   ]
  },
  {
   "cell_type": "markdown",
   "id": "3b868806-4a57-42c8-aba3-a1022179937b",
   "metadata": {},
   "source": [
    "<br>\n",
    "\n",
    "<span style=\"background-color: yellow\">&nbsp;**format_map()**&nbsp;</span> : Formats a string using the values of a specified **dictionary**."
   ]
  },
  {
   "cell_type": "code",
   "execution_count": 70,
   "id": "68c4f5e0-5208-441c-99f2-73860d46cc44",
   "metadata": {},
   "outputs": [
    {
     "name": "stdout",
     "output_type": "stream",
     "text": [
      "My name is John and I am 30 years old.\n"
     ]
    }
   ],
   "source": [
    "person = {'name': 'John', 'age': 30}\n",
    "message = \"My name is {name} and I am {age} years old.\".format_map(person)\n",
    "print(message) \n"
   ]
  },
  {
   "cell_type": "markdown",
   "id": "cf67b196-32bf-45e8-962b-1390284579e8",
   "metadata": {},
   "source": [
    "<br>\n",
    "\n",
    "<span style=\"background-color: yellow\">&nbsp;**next()**&nbsp;</span> : Retrieves the **next item** from the iterator."
   ]
  },
  {
   "cell_type": "code",
   "execution_count": 79,
   "id": "6ff20d45-5e7a-47c0-8e32-ea9afef3f06e",
   "metadata": {},
   "outputs": [
    {
     "name": "stdout",
     "output_type": "stream",
     "text": [
      "1\n",
      "2\n",
      "3\n"
     ]
    }
   ],
   "source": [
    "iterator = iter([1, 2, 3])\n",
    "print(next(iterator))  \n",
    "print(next(iterator))  \n",
    "print(next(iterator))  \n"
   ]
  },
  {
   "cell_type": "markdown",
   "id": "349bf9f2-6261-452c-a490-0c7987acf4e0",
   "metadata": {},
   "source": [
    "<br>\n",
    "\n",
    "<span style=\"background-color: yellow\">&nbsp;**open()**&nbsp;</span> : Opens a file and returns a corresponding file object."
   ]
  },
  {
   "cell_type": "code",
   "execution_count": 113,
   "id": "e44b6b39-4f13-40bd-8e7e-3b1407621f3d",
   "metadata": {},
   "outputs": [
    {
     "data": {
      "text/plain": [
       "'C:\\\\Users\\\\user\\\\Python_Programming'"
      ]
     },
     "execution_count": 113,
     "metadata": {},
     "output_type": "execute_result"
    }
   ],
   "source": [
    "pwd"
   ]
  },
  {
   "cell_type": "code",
   "execution_count": 114,
   "id": "de4af157-9398-431a-96b6-8f27cbe6bb39",
   "metadata": {},
   "outputs": [
    {
     "name": "stdout",
     "output_type": "stream",
     "text": [
      "testing\n"
     ]
    }
   ],
   "source": [
    "file = open('example.txt', 'r')\n",
    "content = file.read()\n",
    "print(content)\n",
    "file.close()\n"
   ]
  },
  {
   "cell_type": "code",
   "execution_count": 115,
   "id": "4ae80d78-d793-4918-b38e-584cebfb7a2e",
   "metadata": {},
   "outputs": [
    {
     "name": "stdout",
     "output_type": "stream",
     "text": [
      "testing\n"
     ]
    }
   ],
   "source": [
    "with open('example.txt', 'r') as file:\n",
    "    content = file.read()\n",
    "    print(content)\n"
   ]
  },
  {
   "cell_type": "markdown",
   "id": "79862764-26bc-43f8-a924-6ebfeacd91d8",
   "metadata": {},
   "source": [
    "<br>\n",
    "\n",
    "<span style=\"background-color: yellow\">&nbsp;**bit_length()**&nbsp;</span> : **number of bits necessary** to represent the integer in **binary**, excluding the sign and leading zeros."
   ]
  },
  {
   "cell_type": "code",
   "execution_count": 42,
   "id": "5ae8acfa-4893-4505-96c8-786e580b1f65",
   "metadata": {},
   "outputs": [
    {
     "name": "stdout",
     "output_type": "stream",
     "text": [
      "Number: 10\n",
      "Bit Length: 4\n"
     ]
    }
   ],
   "source": [
    "num = 10\n",
    "bit_length = num.bit_length()\n",
    "print(\"Number:\", num)\n",
    "print(\"Bit Length:\", bit_length)\n"
   ]
  },
  {
   "cell_type": "markdown",
   "id": "2ec2d708-f454-4772-888f-538362c3e628",
   "metadata": {},
   "source": [
    "<br>\n",
    "\n",
    "<span style=\"background-color: yellow\">&nbsp;**globals()**&nbsp;</span> : Returns the global symbol table as a dictionary."
   ]
  },
  {
   "cell_type": "code",
   "execution_count": 72,
   "id": "8fa84442-a8e6-4b97-9c7b-a40695a0e9b2",
   "metadata": {},
   "outputs": [
    {
     "name": "stdout",
     "output_type": "stream",
     "text": [
      "{'__name__': '__main__', '__doc__': 'Automatically created module for IPython interactive environment', '__package__': None, '__loader__': None, '__spec__': None, '__builtin__': <module 'builtins' (built-in)>, '__builtins__': <module 'builtins' (built-in)>, '_ih': ['', 'lst = [1, 2, 3, 4, 5]\\nlength = len(lst)\\nprint(length)  # Output: 5', 'lst = [1, 2, 3, 4, 5]\\nlength = len(lst)\\nprint(length)', '<span style=\"background-color: yellow\">&nbsp;**len()**&nbsp;</span> : Returns the largest item in an iterable or the largest of two or more arguments.', 'nums = [3, 7, 2, 9, 5]\\nmax_num = max(nums)\\nprint(max_num)  ', '<span style=\"background-color: yellow\">&nbsp;**min()**&nbsp;</span> : Returns the smallest item in an iterable or the smallest of two or more arguments.', 'nums = [3, 7, 2, 9, 5]\\nmin_num = min(nums)\\nprint(min_num) ', '<span style=\"background-color: yellow\">&nbsp;**ord()**&nbsp;</span> : Returns the Unicode code point for a single character.', \"code_point = ord('A')\\nprint(code_point) \", '<span style=\"background-color: yellow\">&nbsp;**pow()**&nbsp;</span> : Returns x to the power of y, optionally modulo n.', 'result = pow(2, 3)\\nprint(result)', '<span style=\"background-color: yellow\">&nbsp;**range()**&nbsp;</span> : Returns a sequence of numbers, starting from 0 by default, and increments by 1 (by default), ending before a specified number.', 'numbers = list(range(5))\\nprint(numbers) ', '<span style=\"background-color: yellow\">&nbsp;**reversed()**&nbsp;</span> : Returns a reverse iterator.', 'nums = [1, 2, 3, 4, 5]\\nreversed_nums = list(reversed(nums))\\nprint(reversed_nums)', '# Example - 1\\n\\nnums = [1, 2, 3, 4, 5]\\nreversed_nums = list(reversed(nums))\\nprint(reversed_nums)', '# Example -2 \\n\\nname = \"Avinash\"\\n\\nreversed_name = reversed(name)\\n\\nreversed_name', '# Example -2 \\n\\nname = \"Avinash\"\\n\\nreversed_name = reversed(name)\\n\\nlist(reversed_name)', '# Example -2 \\n\\nname = \"Avinash\"\\n\\nreversed_name = reversed(name)\\n\\nprint(reversed_name)', '# Example -2 \\n\\nname = \"Avinash\"\\n\\nreversed_name = reversed(name)\\n\\nprint(reversed_name)  ', 'name = \"Avinash\"\\n\\nreversed_name_list = list(reversed(name))\\n\\nprint(reversed_name_list)  ', 'reversed_name = \"\"\\n\\nfor i in range(len(name)):\\n    reversed_name = reversed_name + reversed_name_list[i]\\n\\nprint(reversed_name)\\n    ', 'num = 3.14159\\nrounded_num = round(num, 2)\\nprint(rounded_num) ', 'name = \"Avinash\"\\n\\nreversed_name_list = list(reversed(name))\\n\\nprint(reversed_name_list) ', '# Example -2 \\n\\nname = \"Avinash\"\\n\\nreversed_name = reversed(name)\\n\\nprint(reversed_name)  ', '# Example - 1\\n\\nnums = [1, 2, 3, 4, 5]\\nreversed_nums = list(reversed(nums))\\nprint(reversed_nums)', 'numbers = list(range(5))\\nprint(numbers) ', 'lst = [1, 2, 3, 4, 5]\\nlength = len(lst)\\nprint(length)', 'nums = [3, 7, 2, 9, 5]\\nmax_num = max(nums)\\nprint(max_num)  ', 'nums = [3, 7, 2, 9, 5]\\nmin_num = min(nums)\\nprint(min_num) ', \"code_point = ord('A')\\nprint(code_point) \", 'result = pow(2, 3)\\nprint(result)  ', 'result = pow(2, 3)\\nprint(result)  ', '<span style=\"background-color: yellow\">&nbsp;**sorted()**&nbsp;</span> : Returns a new sorted list from the elements of an iterable.', 'nums = [5, 2, 7, 1, 3]\\nsorted_nums = sorted(nums)\\nprint(sorted_nums)  # Output: [1, 2, 3, 5, 7]', 'nums = [5, 2, 7, 1, 3]\\nsorted_nums = sorted(nums)\\nprint(sorted_nums) ', '<span style=\"background-color: yellow\">&nbsp;**str()**&nbsp;</span> : Returns a string version of an object.', 'nums = [5, 2, 7, 1, 3]\\nsorted_nums = sorted(nums)\\nprint(sorted_nums) ', 'num = 123\\nstr_num = str(num)\\nprint(str_num) ', '<span style=\"background-color: yellow\">&nbsp;**sum()**&nbsp;</span> : Returns the sum of all elements in an iterable.', 'nums = [5, 2, 7, 1, 3] \\nsorted_nums = sorted(nums) \\nprint(sorted_nums) ', 'num = 123\\nstr_num = str(num)\\nprint(str_num) ', 'nums = [1, 2, 3, 4, 5]\\ntotal_sum = sum(nums)\\nprint(total_sum) ', 'lst = [1, 2, 3, 4, 5]\\ntpl = tuple(lst)\\nprint(tpl) ', '<span style=\"background-color: yellow\">&nbsp;**tuple()**&nbsp;</span> : Converts an iterable to a tuple.', '<span style=\"background-color: yellow\">&nbsp;**type()**&nbsp;</span> : Returns the type of an object.', \"x = 10\\nprint(type(x))  # Output: <class 'int'>\", '<span style=\"background-color: yellow\">&nbsp;**zip()**&nbsp;</span> : Returns an iterator of tuples, where the i-th tuple contains the i-th element from each of the input iterables.', 'x = 10\\nprint(type(x)) ', \"names = ['Alice', 'Bob', 'Charlie']\\nages = [25, 30, 35]\\nzipped_data = zip(names, ages)\\nprint(list(zipped_data)) \", '<span style=\"background-color: yellow\">&nbsp;**format()**&nbsp;</span> : Formats a specified value into a specified format.', '<br>\\n\\n<span style=\"background-color: yellow\">&nbsp;**eval()**&nbsp;</span> : Evaluates a Python expression given as a string and returns the result..', 'name = \"John\"\\nage = 30\\nmessage = \"My name is {} and I am {} years old.\".format(name, age)\\nprint(message) ', 'expression = \"3 + 5 * 2\"\\nresult = eval(expression)\\nprint(result) ', '<br>\\n\\n<span style=\"background-color: yellow\">&nbsp;**hash()**&nbsp;</span> : Returns the hash value of an object.', 'name = input(\"Enter your name: \")\\nprint(\"Hello, \" + name)', '<span style=\"background-color: yellow\">&nbsp;**callable()**&nbsp;</span> : Returns True if the object appears callable (i.e., can be called), otherwise False.', 'lst = [1, 2, 3]\\nattributes = dir(lst)\\nprint(attributes) ', 'lst = [1, 2, 3]\\nattributes = dir(lst)\\nprint(attributes) ', '<br>\\n\\n<span style=\"background-color: yellow\">&nbsp;**enumerate()**&nbsp;</span> : Returns an enumerate object, which yields pairs of indexes and values from an iterable.', \"fruits = ['apple', 'banana', 'cherry']\\nfor index, fruit in enumerate(fruits):\\n    print(index, fruit)\\n# Output:\\n# 0 apple\\n# 1 banana\\n# 2 cherry\", \"fruits = ['apple', 'banana', 'cherry']\\nfor index, fruit in enumerate(fruits):\\n    print(index, fruit)\", '<span style=\"background-color: yellow\">&nbsp;**filter()**&nbsp;</span> : Constructs an iterator from the elements of an iterable for which a function returns True.', 'def is_even(x):\\n    return x % 2 == 0\\n\\nnumbers = [1, 2, 3, 4, 5, 6, 7, 8, 9, 10]\\neven_numbers = filter(is_even, numbers)\\nprint(list(even_numbers)) ', 'def is_even(x):\\n    return x % 2 == 0\\n\\nnumbers = [1, 2, 3, 4, 5, 6, 7, 8, 9, 10]\\neven_numbers = filter(is_even, numbers)\\nprint(even_numbers)\\nprint(list(even_numbers)) ', 'def is_even(x):\\n    return x % 2 == 0\\n\\nnumbers = [1, 2, 3, 4, 5, 6, 7, 8, 9, 10]\\neven_numbers = filter(is_even, numbers)\\n# print(even_numbers)         # <filter object at 0x0000023949736F80>\\nprint(list(even_numbers)) ', 'def is_even(x):\\n    return x % 2 == 0\\n\\n\\nnumbers = [1, 2, 3, 4, 5, 6, 7, 8, 9, 10]\\neven_numbers = filter(is_even, numbers)\\n# print(even_numbers)         # <filter object at 0x0000023949736F80>\\nprint(list(even_numbers)) ', 'def is_even(x):\\n    return x % 2 == 0\\n\\n\\nnumbers = [1, 2, 3, 4, 5, 6, 7, 8, 9, 10]\\neven_numbers = filter(is_even, numbers)\\n# print(even_numbers)         # <filter object at 0x0000023949736F80>\\nprint(list(even_numbers)) ', '<br>\\n\\n<span style=\"background-color: yellow\">&nbsp;**format_map()**&nbsp;</span> : Formats a string using the values of a specified dictionary.', 'person = {\\'name\\': \\'John\\', \\'age\\': 30}\\nmessage = \"My name is {name} and I am {age} years old.\".format_map(person)\\nprint(message)  # Output: My name is John and I am 30 years old.', 'person = {\\'name\\': \\'John\\', \\'age\\': 30}\\nmessage = \"My name is {name} and I am {age} years old.\".format_map(person)\\nprint(message) ', '<br>\\n\\n<span style=\"background-color: yellow\">&nbsp;**globals()**&nbsp;</span> : Returns the global symbol table as a dictionary.', \"x = 10\\ny = 20\\nglobal_vars = globals()\\nprint(global_vars)  # Output: {'__name__': '__main__', '__doc__': None, ...}\"], '_oh': {16: <reversed object at 0x0000023949734B80>, 17: ['h', 's', 'a', 'n', 'i', 'v', 'A']}, '_dh': [WindowsPath('C:/Users/user/Python_Programming')], 'In': ['', 'lst = [1, 2, 3, 4, 5]\\nlength = len(lst)\\nprint(length)  # Output: 5', 'lst = [1, 2, 3, 4, 5]\\nlength = len(lst)\\nprint(length)', '<span style=\"background-color: yellow\">&nbsp;**len()**&nbsp;</span> : Returns the largest item in an iterable or the largest of two or more arguments.', 'nums = [3, 7, 2, 9, 5]\\nmax_num = max(nums)\\nprint(max_num)  ', '<span style=\"background-color: yellow\">&nbsp;**min()**&nbsp;</span> : Returns the smallest item in an iterable or the smallest of two or more arguments.', 'nums = [3, 7, 2, 9, 5]\\nmin_num = min(nums)\\nprint(min_num) ', '<span style=\"background-color: yellow\">&nbsp;**ord()**&nbsp;</span> : Returns the Unicode code point for a single character.', \"code_point = ord('A')\\nprint(code_point) \", '<span style=\"background-color: yellow\">&nbsp;**pow()**&nbsp;</span> : Returns x to the power of y, optionally modulo n.', 'result = pow(2, 3)\\nprint(result)', '<span style=\"background-color: yellow\">&nbsp;**range()**&nbsp;</span> : Returns a sequence of numbers, starting from 0 by default, and increments by 1 (by default), ending before a specified number.', 'numbers = list(range(5))\\nprint(numbers) ', '<span style=\"background-color: yellow\">&nbsp;**reversed()**&nbsp;</span> : Returns a reverse iterator.', 'nums = [1, 2, 3, 4, 5]\\nreversed_nums = list(reversed(nums))\\nprint(reversed_nums)', '# Example - 1\\n\\nnums = [1, 2, 3, 4, 5]\\nreversed_nums = list(reversed(nums))\\nprint(reversed_nums)', '# Example -2 \\n\\nname = \"Avinash\"\\n\\nreversed_name = reversed(name)\\n\\nreversed_name', '# Example -2 \\n\\nname = \"Avinash\"\\n\\nreversed_name = reversed(name)\\n\\nlist(reversed_name)', '# Example -2 \\n\\nname = \"Avinash\"\\n\\nreversed_name = reversed(name)\\n\\nprint(reversed_name)', '# Example -2 \\n\\nname = \"Avinash\"\\n\\nreversed_name = reversed(name)\\n\\nprint(reversed_name)  ', 'name = \"Avinash\"\\n\\nreversed_name_list = list(reversed(name))\\n\\nprint(reversed_name_list)  ', 'reversed_name = \"\"\\n\\nfor i in range(len(name)):\\n    reversed_name = reversed_name + reversed_name_list[i]\\n\\nprint(reversed_name)\\n    ', 'num = 3.14159\\nrounded_num = round(num, 2)\\nprint(rounded_num) ', 'name = \"Avinash\"\\n\\nreversed_name_list = list(reversed(name))\\n\\nprint(reversed_name_list) ', '# Example -2 \\n\\nname = \"Avinash\"\\n\\nreversed_name = reversed(name)\\n\\nprint(reversed_name)  ', '# Example - 1\\n\\nnums = [1, 2, 3, 4, 5]\\nreversed_nums = list(reversed(nums))\\nprint(reversed_nums)', 'numbers = list(range(5))\\nprint(numbers) ', 'lst = [1, 2, 3, 4, 5]\\nlength = len(lst)\\nprint(length)', 'nums = [3, 7, 2, 9, 5]\\nmax_num = max(nums)\\nprint(max_num)  ', 'nums = [3, 7, 2, 9, 5]\\nmin_num = min(nums)\\nprint(min_num) ', \"code_point = ord('A')\\nprint(code_point) \", 'result = pow(2, 3)\\nprint(result)  ', 'result = pow(2, 3)\\nprint(result)  ', '<span style=\"background-color: yellow\">&nbsp;**sorted()**&nbsp;</span> : Returns a new sorted list from the elements of an iterable.', 'nums = [5, 2, 7, 1, 3]\\nsorted_nums = sorted(nums)\\nprint(sorted_nums)  # Output: [1, 2, 3, 5, 7]', 'nums = [5, 2, 7, 1, 3]\\nsorted_nums = sorted(nums)\\nprint(sorted_nums) ', '<span style=\"background-color: yellow\">&nbsp;**str()**&nbsp;</span> : Returns a string version of an object.', 'nums = [5, 2, 7, 1, 3]\\nsorted_nums = sorted(nums)\\nprint(sorted_nums) ', 'num = 123\\nstr_num = str(num)\\nprint(str_num) ', '<span style=\"background-color: yellow\">&nbsp;**sum()**&nbsp;</span> : Returns the sum of all elements in an iterable.', 'nums = [5, 2, 7, 1, 3] \\nsorted_nums = sorted(nums) \\nprint(sorted_nums) ', 'num = 123\\nstr_num = str(num)\\nprint(str_num) ', 'nums = [1, 2, 3, 4, 5]\\ntotal_sum = sum(nums)\\nprint(total_sum) ', 'lst = [1, 2, 3, 4, 5]\\ntpl = tuple(lst)\\nprint(tpl) ', '<span style=\"background-color: yellow\">&nbsp;**tuple()**&nbsp;</span> : Converts an iterable to a tuple.', '<span style=\"background-color: yellow\">&nbsp;**type()**&nbsp;</span> : Returns the type of an object.', \"x = 10\\nprint(type(x))  # Output: <class 'int'>\", '<span style=\"background-color: yellow\">&nbsp;**zip()**&nbsp;</span> : Returns an iterator of tuples, where the i-th tuple contains the i-th element from each of the input iterables.', 'x = 10\\nprint(type(x)) ', \"names = ['Alice', 'Bob', 'Charlie']\\nages = [25, 30, 35]\\nzipped_data = zip(names, ages)\\nprint(list(zipped_data)) \", '<span style=\"background-color: yellow\">&nbsp;**format()**&nbsp;</span> : Formats a specified value into a specified format.', '<br>\\n\\n<span style=\"background-color: yellow\">&nbsp;**eval()**&nbsp;</span> : Evaluates a Python expression given as a string and returns the result..', 'name = \"John\"\\nage = 30\\nmessage = \"My name is {} and I am {} years old.\".format(name, age)\\nprint(message) ', 'expression = \"3 + 5 * 2\"\\nresult = eval(expression)\\nprint(result) ', '<br>\\n\\n<span style=\"background-color: yellow\">&nbsp;**hash()**&nbsp;</span> : Returns the hash value of an object.', 'name = input(\"Enter your name: \")\\nprint(\"Hello, \" + name)', '<span style=\"background-color: yellow\">&nbsp;**callable()**&nbsp;</span> : Returns True if the object appears callable (i.e., can be called), otherwise False.', 'lst = [1, 2, 3]\\nattributes = dir(lst)\\nprint(attributes) ', 'lst = [1, 2, 3]\\nattributes = dir(lst)\\nprint(attributes) ', '<br>\\n\\n<span style=\"background-color: yellow\">&nbsp;**enumerate()**&nbsp;</span> : Returns an enumerate object, which yields pairs of indexes and values from an iterable.', \"fruits = ['apple', 'banana', 'cherry']\\nfor index, fruit in enumerate(fruits):\\n    print(index, fruit)\\n# Output:\\n# 0 apple\\n# 1 banana\\n# 2 cherry\", \"fruits = ['apple', 'banana', 'cherry']\\nfor index, fruit in enumerate(fruits):\\n    print(index, fruit)\", '<span style=\"background-color: yellow\">&nbsp;**filter()**&nbsp;</span> : Constructs an iterator from the elements of an iterable for which a function returns True.', 'def is_even(x):\\n    return x % 2 == 0\\n\\nnumbers = [1, 2, 3, 4, 5, 6, 7, 8, 9, 10]\\neven_numbers = filter(is_even, numbers)\\nprint(list(even_numbers)) ', 'def is_even(x):\\n    return x % 2 == 0\\n\\nnumbers = [1, 2, 3, 4, 5, 6, 7, 8, 9, 10]\\neven_numbers = filter(is_even, numbers)\\nprint(even_numbers)\\nprint(list(even_numbers)) ', 'def is_even(x):\\n    return x % 2 == 0\\n\\nnumbers = [1, 2, 3, 4, 5, 6, 7, 8, 9, 10]\\neven_numbers = filter(is_even, numbers)\\n# print(even_numbers)         # <filter object at 0x0000023949736F80>\\nprint(list(even_numbers)) ', 'def is_even(x):\\n    return x % 2 == 0\\n\\n\\nnumbers = [1, 2, 3, 4, 5, 6, 7, 8, 9, 10]\\neven_numbers = filter(is_even, numbers)\\n# print(even_numbers)         # <filter object at 0x0000023949736F80>\\nprint(list(even_numbers)) ', 'def is_even(x):\\n    return x % 2 == 0\\n\\n\\nnumbers = [1, 2, 3, 4, 5, 6, 7, 8, 9, 10]\\neven_numbers = filter(is_even, numbers)\\n# print(even_numbers)         # <filter object at 0x0000023949736F80>\\nprint(list(even_numbers)) ', '<br>\\n\\n<span style=\"background-color: yellow\">&nbsp;**format_map()**&nbsp;</span> : Formats a string using the values of a specified dictionary.', 'person = {\\'name\\': \\'John\\', \\'age\\': 30}\\nmessage = \"My name is {name} and I am {age} years old.\".format_map(person)\\nprint(message)  # Output: My name is John and I am 30 years old.', 'person = {\\'name\\': \\'John\\', \\'age\\': 30}\\nmessage = \"My name is {name} and I am {age} years old.\".format_map(person)\\nprint(message) ', '<br>\\n\\n<span style=\"background-color: yellow\">&nbsp;**globals()**&nbsp;</span> : Returns the global symbol table as a dictionary.', \"x = 10\\ny = 20\\nglobal_vars = globals()\\nprint(global_vars)  # Output: {'__name__': '__main__', '__doc__': None, ...}\"], 'Out': {16: <reversed object at 0x0000023949734B80>, 17: ['h', 's', 'a', 'n', 'i', 'v', 'A']}, 'get_ipython': <bound method InteractiveShell.get_ipython of <ipykernel.zmqshell.ZMQInteractiveShell object at 0x00000239497294D0>>, 'exit': <IPython.core.autocall.ZMQExitAutocall object at 0x000002394972D7D0>, 'quit': <IPython.core.autocall.ZMQExitAutocall object at 0x000002394972D7D0>, 'open': <function open at 0x00000239476F1B20>, '_': ['h', 's', 'a', 'n', 'i', 'v', 'A'], '__': <reversed object at 0x0000023949734B80>, '___': '', '__session__': 'C:\\\\Users\\\\user\\\\Python_Programming\\\\Untitled1.ipynb', '_i': '<br>\\n\\n<span style=\"background-color: yellow\">&nbsp;**globals()**&nbsp;</span> : Returns the global symbol table as a dictionary.', '_ii': 'person = {\\'name\\': \\'John\\', \\'age\\': 30}\\nmessage = \"My name is {name} and I am {age} years old.\".format_map(person)\\nprint(message) ', '_iii': 'person = {\\'name\\': \\'John\\', \\'age\\': 30}\\nmessage = \"My name is {name} and I am {age} years old.\".format_map(person)\\nprint(message)  # Output: My name is John and I am 30 years old.', '_i1': 'lst = [1, 2, 3, 4, 5]\\nlength = len(lst)\\nprint(length)  # Output: 5', 'lst': [1, 2, 3], 'length': 5, '_i2': 'lst = [1, 2, 3, 4, 5]\\nlength = len(lst)\\nprint(length)', '_i3': '<span style=\"background-color: yellow\">&nbsp;**len()**&nbsp;</span> : Returns the largest item in an iterable or the largest of two or more arguments.', '_i4': 'nums = [3, 7, 2, 9, 5]\\nmax_num = max(nums)\\nprint(max_num)  ', 'nums': [1, 2, 3, 4, 5], 'max_num': 9, '_i5': '<span style=\"background-color: yellow\">&nbsp;**min()**&nbsp;</span> : Returns the smallest item in an iterable or the smallest of two or more arguments.', '_i6': 'nums = [3, 7, 2, 9, 5]\\nmin_num = min(nums)\\nprint(min_num) ', 'min_num': 2, '_i7': '<span style=\"background-color: yellow\">&nbsp;**ord()**&nbsp;</span> : Returns the Unicode code point for a single character.', '_i8': \"code_point = ord('A')\\nprint(code_point) \", 'code_point': 65, '_i9': '<span style=\"background-color: yellow\">&nbsp;**pow()**&nbsp;</span> : Returns x to the power of y, optionally modulo n.', '_i10': 'result = pow(2, 3)\\nprint(result)', 'result': 13, '_i11': '<span style=\"background-color: yellow\">&nbsp;**range()**&nbsp;</span> : Returns a sequence of numbers, starting from 0 by default, and increments by 1 (by default), ending before a specified number.', '_i12': 'numbers = list(range(5))\\nprint(numbers) ', 'numbers': [1, 2, 3, 4, 5, 6, 7, 8, 9, 10], '_i13': '<span style=\"background-color: yellow\">&nbsp;**reversed()**&nbsp;</span> : Returns a reverse iterator.', '_i14': 'nums = [1, 2, 3, 4, 5]\\nreversed_nums = list(reversed(nums))\\nprint(reversed_nums)', 'reversed_nums': [5, 4, 3, 2, 1], '_i15': '# Example - 1\\n\\nnums = [1, 2, 3, 4, 5]\\nreversed_nums = list(reversed(nums))\\nprint(reversed_nums)', '_i16': '# Example -2 \\n\\nname = \"Avinash\"\\n\\nreversed_name = reversed(name)\\n\\nreversed_name', 'name': 'Avinash', 'reversed_name': <reversed object at 0x0000023949736A10>, '_16': <reversed object at 0x0000023949734B80>, '_i17': '# Example -2 \\n\\nname = \"Avinash\"\\n\\nreversed_name = reversed(name)\\n\\nlist(reversed_name)', '_17': ['h', 's', 'a', 'n', 'i', 'v', 'A'], '_i18': '# Example -2 \\n\\nname = \"Avinash\"\\n\\nreversed_name = reversed(name)\\n\\nprint(reversed_name)', '_i19': '# Example -2 \\n\\nname = \"Avinash\"\\n\\nreversed_name = reversed(name)\\n\\nprint(reversed_name)  ', '_i20': 'name = \"Avinash\"\\n\\nreversed_name_list = list(reversed(name))\\n\\nprint(reversed_name_list)  ', 'reversed_name_list': ['h', 's', 'a', 'n', 'i', 'v', 'A'], '_i21': 'reversed_name = \"\"\\n\\nfor i in range(len(name)):\\n    reversed_name = reversed_name + reversed_name_list[i]\\n\\nprint(reversed_name)\\n    ', 'i': 6, '_i22': 'num = 3.14159\\nrounded_num = round(num, 2)\\nprint(rounded_num) ', 'num': 123, 'rounded_num': 3.14, '_i23': 'name = \"Avinash\"\\n\\nreversed_name_list = list(reversed(name))\\n\\nprint(reversed_name_list) ', '_i24': '# Example -2 \\n\\nname = \"Avinash\"\\n\\nreversed_name = reversed(name)\\n\\nprint(reversed_name)  ', '_i25': '# Example - 1\\n\\nnums = [1, 2, 3, 4, 5]\\nreversed_nums = list(reversed(nums))\\nprint(reversed_nums)', '_i26': 'numbers = list(range(5))\\nprint(numbers) ', '_i27': 'lst = [1, 2, 3, 4, 5]\\nlength = len(lst)\\nprint(length)', '_i28': 'nums = [3, 7, 2, 9, 5]\\nmax_num = max(nums)\\nprint(max_num)  ', '_i29': 'nums = [3, 7, 2, 9, 5]\\nmin_num = min(nums)\\nprint(min_num) ', '_i30': \"code_point = ord('A')\\nprint(code_point) \", '_i31': 'result = pow(2, 3)\\nprint(result)  ', '_i32': 'result = pow(2, 3)\\nprint(result)  ', '_i33': '<span style=\"background-color: yellow\">&nbsp;**sorted()**&nbsp;</span> : Returns a new sorted list from the elements of an iterable.', '_i34': 'nums = [5, 2, 7, 1, 3]\\nsorted_nums = sorted(nums)\\nprint(sorted_nums)  # Output: [1, 2, 3, 5, 7]', 'sorted_nums': [1, 2, 3, 5, 7], '_i35': 'nums = [5, 2, 7, 1, 3]\\nsorted_nums = sorted(nums)\\nprint(sorted_nums) ', '_i36': '<span style=\"background-color: yellow\">&nbsp;**str()**&nbsp;</span> : Returns a string version of an object.', '_i37': 'nums = [5, 2, 7, 1, 3]\\nsorted_nums = sorted(nums)\\nprint(sorted_nums) ', '_i38': 'num = 123\\nstr_num = str(num)\\nprint(str_num) ', 'str_num': '123', '_i39': '<span style=\"background-color: yellow\">&nbsp;**sum()**&nbsp;</span> : Returns the sum of all elements in an iterable.', '_i40': 'nums = [5, 2, 7, 1, 3] \\nsorted_nums = sorted(nums) \\nprint(sorted_nums) ', '_i41': 'num = 123\\nstr_num = str(num)\\nprint(str_num) ', '_i42': 'nums = [1, 2, 3, 4, 5]\\ntotal_sum = sum(nums)\\nprint(total_sum) ', 'total_sum': 15, '_i43': 'lst = [1, 2, 3, 4, 5]\\ntpl = tuple(lst)\\nprint(tpl) ', 'tpl': (1, 2, 3, 4, 5), '_i44': '<span style=\"background-color: yellow\">&nbsp;**tuple()**&nbsp;</span> : Converts an iterable to a tuple.', '_i45': '<span style=\"background-color: yellow\">&nbsp;**type()**&nbsp;</span> : Returns the type of an object.', '_i46': \"x = 10\\nprint(type(x))  # Output: <class 'int'>\", 'x': 10, '_i47': '<span style=\"background-color: yellow\">&nbsp;**zip()**&nbsp;</span> : Returns an iterator of tuples, where the i-th tuple contains the i-th element from each of the input iterables.', '_i48': 'x = 10\\nprint(type(x)) ', '_i49': \"names = ['Alice', 'Bob', 'Charlie']\\nages = [25, 30, 35]\\nzipped_data = zip(names, ages)\\nprint(list(zipped_data)) \", 'names': ['Alice', 'Bob', 'Charlie'], 'ages': [25, 30, 35], 'zipped_data': <zip object at 0x00000239497AA280>, '_i50': '<span style=\"background-color: yellow\">&nbsp;**format()**&nbsp;</span> : Formats a specified value into a specified format.', '_i51': '<br>\\n\\n<span style=\"background-color: yellow\">&nbsp;**eval()**&nbsp;</span> : Evaluates a Python expression given as a string and returns the result..', '_i52': 'name = \"John\"\\nage = 30\\nmessage = \"My name is {} and I am {} years old.\".format(name, age)\\nprint(message) ', 'age': 30, 'message': 'My name is John and I am 30 years old.', '_i53': 'expression = \"3 + 5 * 2\"\\nresult = eval(expression)\\nprint(result) ', 'expression': '3 + 5 * 2', '_i54': '<br>\\n\\n<span style=\"background-color: yellow\">&nbsp;**hash()**&nbsp;</span> : Returns the hash value of an object.', '_i55': 'name = input(\"Enter your name: \")\\nprint(\"Hello, \" + name)', '_i56': '<span style=\"background-color: yellow\">&nbsp;**callable()**&nbsp;</span> : Returns True if the object appears callable (i.e., can be called), otherwise False.', '_i57': 'lst = [1, 2, 3]\\nattributes = dir(lst)\\nprint(attributes) ', 'attributes': ['__add__', '__class__', '__class_getitem__', '__contains__', '__delattr__', '__delitem__', '__dir__', '__doc__', '__eq__', '__format__', '__ge__', '__getattribute__', '__getitem__', '__getstate__', '__gt__', '__hash__', '__iadd__', '__imul__', '__init__', '__init_subclass__', '__iter__', '__le__', '__len__', '__lt__', '__mul__', '__ne__', '__new__', '__reduce__', '__reduce_ex__', '__repr__', '__reversed__', '__rmul__', '__setattr__', '__setitem__', '__sizeof__', '__str__', '__subclasshook__', 'append', 'clear', 'copy', 'count', 'extend', 'index', 'insert', 'pop', 'remove', 'reverse', 'sort'], '_i58': 'lst = [1, 2, 3]\\nattributes = dir(lst)\\nprint(attributes) ', '_i59': '<br>\\n\\n<span style=\"background-color: yellow\">&nbsp;**enumerate()**&nbsp;</span> : Returns an enumerate object, which yields pairs of indexes and values from an iterable.', '_i60': \"fruits = ['apple', 'banana', 'cherry']\\nfor index, fruit in enumerate(fruits):\\n    print(index, fruit)\\n# Output:\\n# 0 apple\\n# 1 banana\\n# 2 cherry\", 'fruits': ['apple', 'banana', 'cherry'], 'index': 2, 'fruit': 'cherry', '_i61': \"fruits = ['apple', 'banana', 'cherry']\\nfor index, fruit in enumerate(fruits):\\n    print(index, fruit)\", '_i62': '<span style=\"background-color: yellow\">&nbsp;**filter()**&nbsp;</span> : Constructs an iterator from the elements of an iterable for which a function returns True.', '_i63': 'def is_even(x):\\n    return x % 2 == 0\\n\\nnumbers = [1, 2, 3, 4, 5, 6, 7, 8, 9, 10]\\neven_numbers = filter(is_even, numbers)\\nprint(list(even_numbers)) ', 'is_even': <function is_even at 0x0000023949792D40>, 'even_numbers': <filter object at 0x0000023949736EF0>, '_i64': 'def is_even(x):\\n    return x % 2 == 0\\n\\nnumbers = [1, 2, 3, 4, 5, 6, 7, 8, 9, 10]\\neven_numbers = filter(is_even, numbers)\\nprint(even_numbers)\\nprint(list(even_numbers)) ', '_i65': 'def is_even(x):\\n    return x % 2 == 0\\n\\nnumbers = [1, 2, 3, 4, 5, 6, 7, 8, 9, 10]\\neven_numbers = filter(is_even, numbers)\\n# print(even_numbers)         # <filter object at 0x0000023949736F80>\\nprint(list(even_numbers)) ', '_i66': 'def is_even(x):\\n    return x % 2 == 0\\n\\n\\nnumbers = [1, 2, 3, 4, 5, 6, 7, 8, 9, 10]\\neven_numbers = filter(is_even, numbers)\\n# print(even_numbers)         # <filter object at 0x0000023949736F80>\\nprint(list(even_numbers)) ', '_i67': '\\ndef is_even(x):\\n    return x % 2 == 0\\n\\n\\nnumbers = [1, 2, 3, 4, 5, 6, 7, 8, 9, 10]\\neven_numbers = filter(is_even, numbers)\\n# print(even_numbers)         # <filter object at 0x0000023949736F80>\\nprint(list(even_numbers)) ', '_i68': '<br>\\n\\n<span style=\"background-color: yellow\">&nbsp;**format_map()**&nbsp;</span> : Formats a string using the values of a specified dictionary.', '_i69': 'person = {\\'name\\': \\'John\\', \\'age\\': 30}\\nmessage = \"My name is {name} and I am {age} years old.\".format_map(person)\\nprint(message)  # Output: My name is John and I am 30 years old.', 'person': {'name': 'John', 'age': 30}, '_i70': 'person = {\\'name\\': \\'John\\', \\'age\\': 30}\\nmessage = \"My name is {name} and I am {age} years old.\".format_map(person)\\nprint(message) ', '_i71': '<br>\\n\\n<span style=\"background-color: yellow\">&nbsp;**globals()**&nbsp;</span> : Returns the global symbol table as a dictionary.', '_i72': \"x = 10\\ny = 20\\nglobal_vars = globals()\\nprint(global_vars)  # Output: {'__name__': '__main__', '__doc__': None, ...}\", 'y': 20, 'global_vars': {...}}\n"
     ]
    }
   ],
   "source": [
    "x = 10\n",
    "y = 20\n",
    "global_vars = globals()\n",
    "print(global_vars)  # Output: {'__name__': '__main__', '__doc__': None, ...}\n"
   ]
  },
  {
   "cell_type": "markdown",
   "id": "2103644a-4c0b-45f5-9ff4-b40b433fdfce",
   "metadata": {},
   "source": [
    "<br>\n",
    "\n",
    "<span style=\"background-color: yellow\">&nbsp;**locals()**&nbsp;</span> : Returns the local symbol table as a dictionary."
   ]
  },
  {
   "cell_type": "code",
   "execution_count": 74,
   "id": "568a1a66-a3b8-4886-8dbb-fbd06a64fc09",
   "metadata": {},
   "outputs": [
    {
     "name": "stdout",
     "output_type": "stream",
     "text": [
      "{}\n"
     ]
    }
   ],
   "source": [
    "def my_function():\n",
    "    local_vars = locals()\n",
    "    print(local_vars)\n",
    "\n",
    "my_function()  # Output: {'local_vars': {...}}\n"
   ]
  },
  {
   "cell_type": "markdown",
   "id": "c8ff42a6-300b-4a71-ac7a-38185b166d24",
   "metadata": {},
   "source": [
    "<br>\n",
    "\n",
    "<span style=\"background-color: yellow\">&nbsp;**property()**&nbsp;</span> : Returns a property attribute.\n"
   ]
  },
  {
   "cell_type": "code",
   "execution_count": 117,
   "id": "9cc752dd-fa23-4334-ad3b-80222536269f",
   "metadata": {},
   "outputs": [
    {
     "name": "stdout",
     "output_type": "stream",
     "text": [
      "10\n"
     ]
    }
   ],
   "source": [
    "class MyClass:\n",
    "    def __init__(self):\n",
    "        self._x = None\n",
    "    \n",
    "    @property\n",
    "    def x(self):\n",
    "        return self._x\n",
    "    \n",
    "    @x.setter\n",
    "    def x(self, value):\n",
    "        self._x = value\n",
    "\n",
    "obj = MyClass()\n",
    "obj.x = 10\n",
    "print(obj.x) \n"
   ]
  },
  {
   "cell_type": "markdown",
   "id": "3fa05cd5-c6b0-4848-aa5a-60ebda9a3842",
   "metadata": {},
   "source": [
    "<br>\n",
    "\n",
    "<span style=\"background-color: yellow\">&nbsp;**setattr()**&nbsp;</span> : Sets the value of an attribute of an object."
   ]
  },
  {
   "cell_type": "code",
   "execution_count": 119,
   "id": "92701e60-f76c-41d7-b3c8-e9541d401635",
   "metadata": {},
   "outputs": [
    {
     "name": "stdout",
     "output_type": "stream",
     "text": [
      "10\n"
     ]
    }
   ],
   "source": [
    "class MyClass:\n",
    "    pass\n",
    "\n",
    "obj = MyClass()\n",
    "setattr(obj, 'x', 10)\n",
    "print(obj.x)  # Output: 10\n"
   ]
  },
  {
   "cell_type": "markdown",
   "id": "d286af38-a66e-48ea-8c18-28ff3263fe5a",
   "metadata": {},
   "source": [
    "<br>\n",
    "\n",
    "<span style=\"background-color: yellow\">&nbsp;**staticmethod()**&nbsp;</span> : Converts a method into a **static method**."
   ]
  },
  {
   "cell_type": "code",
   "execution_count": 121,
   "id": "e76c9241-2669-47f5-b0d2-f413dd063f57",
   "metadata": {},
   "outputs": [
    {
     "name": "stdout",
     "output_type": "stream",
     "text": [
      "Static method called\n"
     ]
    }
   ],
   "source": [
    "class MyClass:\n",
    "    @staticmethod\n",
    "    def my_method():\n",
    "        print(\"Static method called\")\n",
    "\n",
    "MyClass.my_method()  # Output: Static method called\n"
   ]
  },
  {
   "cell_type": "code",
   "execution_count": null,
   "id": "d60855e0-424f-4f29-9c3f-17693da20f67",
   "metadata": {},
   "outputs": [],
   "source": []
  },
  {
   "cell_type": "code",
   "execution_count": null,
   "id": "ff172858-9268-47b7-96ef-22c2be84d9b7",
   "metadata": {},
   "outputs": [],
   "source": []
  },
  {
   "cell_type": "markdown",
   "id": "654a3d15-f9a2-47ec-a767-90821be608ce",
   "metadata": {},
   "source": [
    "**Note** : <br>\n",
    "\n",
    "getattr() - to get the value of an attribute  <br>\n",
    "\n",
    "hasattr() - to check if an attribute exist    <br>\n",
    "\n",
    "setattr() - to set the value of an attribute  <br>\n",
    "\n",
    "delattr() - to set the value of an attribute"
   ]
  },
  {
   "cell_type": "code",
   "execution_count": null,
   "id": "ca9aed75-2ae9-4633-90f1-c8388ca57267",
   "metadata": {},
   "outputs": [],
   "source": []
  },
  {
   "cell_type": "code",
   "execution_count": null,
   "id": "b4a5d5f7-1e6a-48b3-aa19-f1ce9ddafbf2",
   "metadata": {},
   "outputs": [],
   "source": []
  },
  {
   "cell_type": "code",
   "execution_count": null,
   "id": "2855ca01-815e-426b-a4d5-a3639b1ab738",
   "metadata": {},
   "outputs": [],
   "source": []
  }
 ],
 "metadata": {
  "kernelspec": {
   "display_name": "Python 3 (ipykernel)",
   "language": "python",
   "name": "python3"
  },
  "language_info": {
   "codemirror_mode": {
    "name": "ipython",
    "version": 3
   },
   "file_extension": ".py",
   "mimetype": "text/x-python",
   "name": "python",
   "nbconvert_exporter": "python",
   "pygments_lexer": "ipython3",
   "version": "3.11.3"
  }
 },
 "nbformat": 4,
 "nbformat_minor": 5
}
