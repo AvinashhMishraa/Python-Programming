{
 "cells": [
  {
   "cell_type": "markdown",
   "id": "5497e237-0706-4b6e-93b0-018feac35cb9",
   "metadata": {},
   "source": [
    "# <u>Python Built-in Functions</u>\n",
    "\n",
    "<br>"
   ]
  },
  {
   "cell_type": "markdown",
   "id": "7a9b565a-a0d4-4741-a901-e2e5adb33022",
   "metadata": {},
   "source": [
    "<br>\n",
    "\n",
    "<font size=\"+1\"><span style=\"background-color: yellow;font-size: larger\">&nbsp;**abs( )**&nbsp;</span></font> : Returns the **absolute value of a number**"
   ]
  },
  {
   "cell_type": "code",
   "execution_count": 4,
   "id": "70900f5a-a70b-4f27-89d8-89e02a88f8d4",
   "metadata": {},
   "outputs": [
    {
     "name": "stdout",
     "output_type": "stream",
     "text": [
      "7.25\n"
     ]
    }
   ],
   "source": [
    "\n",
    "x = abs(-7.25)\n",
    "print(x)\n"
   ]
  },
  {
   "cell_type": "code",
   "execution_count": 5,
   "id": "316ee7af-42cb-4ecb-bcb1-7a7dac6f6988",
   "metadata": {},
   "outputs": [
    {
     "name": "stdout",
     "output_type": "stream",
     "text": [
      "5.830951894845301\n"
     ]
    }
   ],
   "source": [
    "\n",
    "x = abs(3+5j)\n",
    "print(x)\n"
   ]
  },
  {
   "cell_type": "code",
   "execution_count": null,
   "id": "da6f5a57-6379-4e89-9a6d-6088fcd6a23f",
   "metadata": {},
   "outputs": [],
   "source": []
  },
  {
   "cell_type": "markdown",
   "id": "622632ef-a179-48dd-b226-df45c222ac13",
   "metadata": {},
   "source": [
    "<br>\n",
    "\n",
    "<font size=\"+1\"><span style=\"background-color: yellow;font-size: larger\">&nbsp;**all( )**&nbsp;</span></font> : Returns <span style=\"color: blue\">**True**</span> if **all items** in an iterable object are **true**"
   ]
  },
  {
   "cell_type": "code",
   "execution_count": 6,
   "id": "3725017f-6234-4af0-82f8-28e923d83420",
   "metadata": {},
   "outputs": [
    {
     "name": "stdout",
     "output_type": "stream",
     "text": [
      "True\n"
     ]
    }
   ],
   "source": [
    "\n",
    "# Check if all items in a list are True:\n",
    "\n",
    "mylist = [True, True, True]\n",
    "x = all(mylist)\n",
    "print(x)\n"
   ]
  },
  {
   "cell_type": "code",
   "execution_count": 7,
   "id": "bb4e2a0f-38c5-4719-abea-ccd88a521485",
   "metadata": {},
   "outputs": [
    {
     "name": "stdout",
     "output_type": "stream",
     "text": [
      "False\n"
     ]
    }
   ],
   "source": [
    "\n",
    "# Check if all items in a list are True:\n",
    "\n",
    "mylist = [True, False, True]\n",
    "x = all(mylist)\n",
    "print(x)\n"
   ]
  },
  {
   "cell_type": "code",
   "execution_count": 8,
   "id": "5f0013ce-7456-4488-98a2-87981a50efec",
   "metadata": {},
   "outputs": [
    {
     "name": "stdout",
     "output_type": "stream",
     "text": [
      "False\n"
     ]
    }
   ],
   "source": [
    "\n",
    "# Check if all items in a list are True:\n",
    "\n",
    "mylist = [0, 1, 1]\n",
    "x = all(mylist)\n",
    "print(x)\n"
   ]
  },
  {
   "cell_type": "code",
   "execution_count": 9,
   "id": "48cf58dd-3de3-4480-82a8-09871e4668a5",
   "metadata": {},
   "outputs": [
    {
     "name": "stdout",
     "output_type": "stream",
     "text": [
      "True\n"
     ]
    }
   ],
   "source": [
    "\n",
    "# Check if all items in a list are True:\n",
    "\n",
    "mylist = [1, 1, 1]\n",
    "x = all(mylist)\n",
    "print(x)\n"
   ]
  },
  {
   "cell_type": "code",
   "execution_count": 10,
   "id": "4b5bc486-ec0a-4d36-8fe5-64fcc2475ca2",
   "metadata": {},
   "outputs": [
    {
     "name": "stdout",
     "output_type": "stream",
     "text": [
      "True\n"
     ]
    }
   ],
   "source": [
    "\n",
    "# Check if all items in a list are True:\n",
    "\n",
    "mylist = [-1, 1, 2]\n",
    "x = all(mylist)\n",
    "print(x)\n"
   ]
  },
  {
   "cell_type": "code",
   "execution_count": 11,
   "id": "e6b1b4cb-7fea-4797-82c9-eb78fac012d0",
   "metadata": {},
   "outputs": [
    {
     "name": "stdout",
     "output_type": "stream",
     "text": [
      "False\n"
     ]
    }
   ],
   "source": [
    "\n",
    "# Check if all items in a tuple are True:\n",
    "\n",
    "mytuple = (0, True, False)\n",
    "x = all(mytuple)\n",
    "print(x)\n"
   ]
  },
  {
   "cell_type": "code",
   "execution_count": 12,
   "id": "2cd8501b-ac40-4be3-b7fe-1c35a822d9a5",
   "metadata": {},
   "outputs": [
    {
     "name": "stdout",
     "output_type": "stream",
     "text": [
      "False\n"
     ]
    }
   ],
   "source": [
    "\n",
    "# Check if all items in a set are True:\n",
    "\n",
    "myset = {0, 1, 0}\n",
    "x = all(myset)\n",
    "print(x)\n"
   ]
  },
  {
   "cell_type": "code",
   "execution_count": 13,
   "id": "ca6111d6-8e07-4d16-9889-1c48a853f2c9",
   "metadata": {},
   "outputs": [
    {
     "name": "stdout",
     "output_type": "stream",
     "text": [
      "False\n"
     ]
    }
   ],
   "source": [
    "\n",
    "# Check if all items in a dictionary are True:\n",
    "\n",
    "mydict = {0 : \"Apple\", 1 : \"Orange\"}\n",
    "x = all(mydict)\n",
    "print(x)\n"
   ]
  },
  {
   "cell_type": "markdown",
   "id": "2c4564b0-7642-4747-8e44-c7a8ac9053d6",
   "metadata": {},
   "source": [
    "<br>\n",
    "\n",
    "<span style=\"background-color: #CAFEFD\">If the iterable object is **empty**</span>, the <span style=\"color: red\">&nbsp;**all()**&nbsp;</span> function returns **True**."
   ]
  },
  {
   "cell_type": "code",
   "execution_count": 14,
   "id": "2d9a3a0f-8c02-4448-9641-d431c21ba61b",
   "metadata": {},
   "outputs": [
    {
     "name": "stdout",
     "output_type": "stream",
     "text": [
      "True\n"
     ]
    }
   ],
   "source": [
    "\n",
    "my_empty_list = []\n",
    "x = all(my_empty_list)\n",
    "print(x)\n"
   ]
  },
  {
   "cell_type": "code",
   "execution_count": null,
   "id": "b704ca95-0cc3-4e8b-909c-7f63e13ee3fe",
   "metadata": {},
   "outputs": [],
   "source": []
  },
  {
   "cell_type": "markdown",
   "id": "e08b38ca-7538-4d5c-9141-611af0ba326e",
   "metadata": {},
   "source": [
    "<br>\n",
    "\n",
    "<font size=\"+1\"><span style=\"background-color: yellow;font-size: larger\">&nbsp;**any( )**&nbsp;</span></font> : Returns True if **any item** in an iterable object is **true**.\n"
   ]
  },
  {
   "cell_type": "code",
   "execution_count": 15,
   "id": "77930a38-85b2-45c7-9207-56fd314075f3",
   "metadata": {},
   "outputs": [
    {
     "name": "stdout",
     "output_type": "stream",
     "text": [
      "True\n"
     ]
    }
   ],
   "source": [
    "\n",
    "# Check if any item in a list is True:\n",
    "\n",
    "mylist = [False, True, False]\n",
    "x = any(mylist)\n",
    "print(x)\n"
   ]
  },
  {
   "cell_type": "code",
   "execution_count": 16,
   "id": "ea64fe9c-dd1c-4102-9abb-5cc8fc79a2bd",
   "metadata": {},
   "outputs": [
    {
     "name": "stdout",
     "output_type": "stream",
     "text": [
      "True\n"
     ]
    }
   ],
   "source": [
    "\n",
    "# Check if any item in a tuple is True:\n",
    "\n",
    "mytuple = (0, 1, False)\n",
    "x = any(mytuple)\n",
    "print(x)\n"
   ]
  },
  {
   "cell_type": "code",
   "execution_count": 17,
   "id": "9b2b9adc-f96b-4512-b503-4e47c8cd6ffd",
   "metadata": {},
   "outputs": [
    {
     "name": "stdout",
     "output_type": "stream",
     "text": [
      "True\n"
     ]
    }
   ],
   "source": [
    "\n",
    "# Check if any item in a set is True:\n",
    "\n",
    "myset = {0, 1, 0}\n",
    "x = any(myset)\n",
    "print(x)\n"
   ]
  },
  {
   "cell_type": "code",
   "execution_count": 18,
   "id": "55793b0d-44d4-4083-b582-5c4bf2f91fcc",
   "metadata": {},
   "outputs": [
    {
     "name": "stdout",
     "output_type": "stream",
     "text": [
      "True\n"
     ]
    }
   ],
   "source": [
    "\n",
    "# Check if any item in a dictionary is True:\n",
    "\n",
    "mydict = {0 : \"Apple\", 1 : \"Orange\"}\n",
    "x = any(mydict)\n",
    "print(x)\n"
   ]
  },
  {
   "cell_type": "markdown",
   "id": "82c8bb98-8b99-4ce1-be55-86983dc765d7",
   "metadata": {},
   "source": [
    "<br>\n",
    "\n",
    "<span style=\"background-color: #F5C0FF\">&nbsp;**Note**&nbsp;</span> : When used on a <span style=\"background-color: #CAFEFD\">dictionary</span>, the **any()** function checks <span style=\"background-color: #CAFEFD\">if any of the **keys** are true, not the values</span>."
   ]
  },
  {
   "cell_type": "code",
   "execution_count": 19,
   "id": "a8090fb5-836a-4208-acc9-a868461a7fcb",
   "metadata": {},
   "outputs": [
    {
     "name": "stdout",
     "output_type": "stream",
     "text": [
      "True\n"
     ]
    }
   ],
   "source": [
    "\n",
    "mydict = {0 : False, 1 : True}\n",
    "x = any(mydict)\n",
    "print(x)\n"
   ]
  },
  {
   "cell_type": "code",
   "execution_count": null,
   "id": "eef38205-5110-4816-b85d-27429a76192c",
   "metadata": {},
   "outputs": [],
   "source": []
  },
  {
   "cell_type": "markdown",
   "id": "9b3b3370-0137-4b84-89be-75c00ba0ba30",
   "metadata": {},
   "source": [
    "<br>\n",
    "\n",
    "<font size=\"+1\"><span style=\"background-color: yellow;font-size: larger\">&nbsp;**bin( )**&nbsp;</span></font> : returns the **binary** version of a specified **integer**. The result will always start with the prefix <span style=\"background-color: #EFEAF1;color:red\"><strong>&nbsp;0b&nbsp;</strong></span>.\n"
   ]
  },
  {
   "cell_type": "code",
   "execution_count": 20,
   "id": "e905c807-ea74-4db8-9f10-a25739aa7dcc",
   "metadata": {},
   "outputs": [
    {
     "name": "stdout",
     "output_type": "stream",
     "text": [
      "0b1010\n"
     ]
    }
   ],
   "source": [
    "\n",
    "# Return the binary version of 10\n",
    "\n",
    "x = bin(10)\n",
    "print(x)\n"
   ]
  },
  {
   "cell_type": "code",
   "execution_count": 21,
   "id": "a14a75bf-b225-4b96-bf2f-c8d6c706795d",
   "metadata": {},
   "outputs": [
    {
     "name": "stdout",
     "output_type": "stream",
     "text": [
      "10\n"
     ]
    }
   ],
   "source": [
    "\n",
    "# To confirm \n",
    "\n",
    "print(int(\"0b1010\", base=2)) \n"
   ]
  },
  {
   "cell_type": "code",
   "execution_count": 22,
   "id": "2c8ae1e2-c374-44b9-ae0e-9b2bf3724b40",
   "metadata": {},
   "outputs": [
    {
     "name": "stdout",
     "output_type": "stream",
     "text": [
      "-0b1010\n"
     ]
    }
   ],
   "source": [
    "\n",
    "# Return the binary version of -10\n",
    "\n",
    "x = bin(-10)\n",
    "print(x)\n"
   ]
  },
  {
   "cell_type": "code",
   "execution_count": 23,
   "id": "8482fe36-a324-49c7-a2e2-71b6ddacd37a",
   "metadata": {},
   "outputs": [
    {
     "data": {
      "text/plain": [
       "'0b0'"
      ]
     },
     "execution_count": 23,
     "metadata": {},
     "output_type": "execute_result"
    }
   ],
   "source": [
    "\n",
    "# Return the binary version of 0\n",
    "\n",
    "bin(0)\n"
   ]
  },
  {
   "cell_type": "markdown",
   "id": "4968bec3-b51a-4dfe-a648-bf12916091a5",
   "metadata": {},
   "source": [
    "<br>\n",
    "\n",
    "<span style=\"background-color: #F5C0FF\">&nbsp;**Note**&nbsp;</span> ⇒ <span style=\"color:red\">&nbsp;**int.bit_length()**&nbsp;</span> : <span style=\"background-color: #CAFEFD\">**number of bits necessary** to represent the integer in **binary**, excluding the sign and leading zeros.</span>"
   ]
  },
  {
   "cell_type": "code",
   "execution_count": 24,
   "id": "cdc1b114-81ac-4ae5-be6d-1d8f5397b42f",
   "metadata": {},
   "outputs": [
    {
     "ename": "SyntaxError",
     "evalue": "invalid decimal literal (3674734799.py, line 1)",
     "output_type": "error",
     "traceback": [
      "\u001b[1;36m  Cell \u001b[1;32mIn[24], line 1\u001b[1;36m\u001b[0m\n\u001b[1;33m    10.bit_length()\u001b[0m\n\u001b[1;37m      ^\u001b[0m\n\u001b[1;31mSyntaxError\u001b[0m\u001b[1;31m:\u001b[0m invalid decimal literal\n"
     ]
    }
   ],
   "source": [
    "\n",
    "10.bit_length()\n"
   ]
  },
  {
   "cell_type": "code",
   "execution_count": 25,
   "id": "67572682-dd26-4967-adb8-74d2f73c1b04",
   "metadata": {},
   "outputs": [
    {
     "data": {
      "text/plain": [
       "4"
      ]
     },
     "execution_count": 25,
     "metadata": {},
     "output_type": "execute_result"
    }
   ],
   "source": [
    "\n",
    "(10).bit_length()\n"
   ]
  },
  {
   "cell_type": "code",
   "execution_count": 26,
   "id": "dc620b2f-a7b7-48b7-a23e-1d8b497656a1",
   "metadata": {},
   "outputs": [
    {
     "data": {
      "text/plain": [
       "4"
      ]
     },
     "execution_count": 26,
     "metadata": {},
     "output_type": "execute_result"
    }
   ],
   "source": [
    "\n",
    "int.bit_length(10)\n"
   ]
  },
  {
   "cell_type": "code",
   "execution_count": 27,
   "id": "99358c1b-eeee-4926-ab63-c7ff9f310ab9",
   "metadata": {},
   "outputs": [
    {
     "data": {
      "text/plain": [
       "4"
      ]
     },
     "execution_count": 27,
     "metadata": {},
     "output_type": "execute_result"
    }
   ],
   "source": [
    "\n",
    "num = 10\n",
    "num.bit_length()\n"
   ]
  },
  {
   "cell_type": "markdown",
   "id": "91e2c1d3-aabf-496a-a1e9-dd3e57b560a9",
   "metadata": {},
   "source": [
    "<br>\n",
    "\n",
    "<span style=\"background-color: #C9FF71\">**To find the bit length of an integer :**</span>"
   ]
  },
  {
   "cell_type": "markdown",
   "id": "6ca885aa-1fad-4d42-a55c-300b49fa44e0",
   "metadata": {},
   "source": [
    "**Method-1** ===> <span style=\"background-color: #CAFEFD\">using **int.bit_length()**</span>"
   ]
  },
  {
   "cell_type": "code",
   "execution_count": 28,
   "id": "ba828baf-94e7-4b55-8b08-5e80a8e67fe5",
   "metadata": {},
   "outputs": [
    {
     "name": "stdout",
     "output_type": "stream",
     "text": [
      "Number: 10\n",
      "Bit Length: 4\n",
      "Actual Binary Representation: 0b1010\n"
     ]
    }
   ],
   "source": [
    "\n",
    "num = 10\n",
    "bit_length = num.bit_length()\n",
    "print(\"Number:\", num)\n",
    "print(\"Bit Length:\", bit_length)\n",
    "print(\"Actual Binary Representation:\", bin(num))\n"
   ]
  },
  {
   "cell_type": "markdown",
   "id": "07e9f495-872e-4594-b20b-88b9fd197311",
   "metadata": {},
   "source": [
    "**Method-2** ===> <span style=\"background-color: #CAFEFD\">using **math.log()**</span>"
   ]
  },
  {
   "cell_type": "code",
   "execution_count": 29,
   "id": "2072ac27-1002-436d-af06-0c4df0dbf5d8",
   "metadata": {},
   "outputs": [
    {
     "name": "stdout",
     "output_type": "stream",
     "text": [
      "Number: 10\n",
      "Bit Length: 4\n",
      "Actual Binary Representation: 0b1010\n"
     ]
    }
   ],
   "source": [
    "\n",
    "import math\n",
    "\n",
    "num = 10\n",
    "bit_length = math.floor(math.log2(num)) + 1\n",
    "print(\"Number:\", num)\n",
    "print(\"Bit Length:\", bit_length)\n",
    "print(\"Actual Binary Representation:\", bin(num))\n"
   ]
  },
  {
   "cell_type": "markdown",
   "id": "eb880902-e21e-4581-92e0-8cb5a1883762",
   "metadata": {},
   "source": [
    "**Method-3** ===> <span style=\"background-color: #CAFEFD\">without using any pre-built functions</span>"
   ]
  },
  {
   "cell_type": "code",
   "execution_count": 30,
   "id": "0aab0471-57d6-4f90-b74e-80325fa238df",
   "metadata": {},
   "outputs": [
    {
     "name": "stdout",
     "output_type": "stream",
     "text": [
      "Number: 10\n",
      "Bit Length: 4\n",
      "Binary Representation: 1010\n",
      "Actual Binary Representation: 0b1010\n",
      "True\n"
     ]
    }
   ],
   "source": [
    "\n",
    "num = 10\n",
    "bit_length = 0\n",
    "binary_string = \"\"\n",
    "\n",
    "\n",
    "if num == 0:\n",
    "    binary_string = \"0\"\n",
    "    actual_binary_string = \"0b0\"\n",
    "else:\n",
    "    num_copy = num\n",
    "\n",
    "    # finding the reversed binary representation\n",
    "    while num != 0:\n",
    "        bit_length += 1\n",
    "        binary_string = binary_string + str(num % 2)\n",
    "        num = int(num / 2)\n",
    "        \n",
    "    # reversing the binary_string \n",
    "    binary_string = binary_string[::-1]   \n",
    "\n",
    "    # adding '0b' or '-0b' for proper binary representation\n",
    "    if num_copy > 0:\n",
    "        actual_binary_string = \"0b\" + binary_string\n",
    "    else:\n",
    "        actual_binary_string = \"-0b\" + binary_string\n",
    "\n",
    "\n",
    "print(\"Number:\", num_copy)\n",
    "print(\"Bit Length:\", bit_length)\n",
    "print(\"Binary Representation:\", binary_string) \n",
    "print(\"Actual Binary Representation:\", actual_binary_string) \n",
    "\n",
    "# To confirm\n",
    "print(bin(num_copy) == actual_binary_string)\n"
   ]
  },
  {
   "cell_type": "code",
   "execution_count": null,
   "id": "e52df835-6349-4c1e-9fc4-360ca62e9f47",
   "metadata": {},
   "outputs": [],
   "source": []
  },
  {
   "cell_type": "markdown",
   "id": "a6089065-478a-4bec-b0e7-59607172b0df",
   "metadata": {},
   "source": [
    "<br>\n",
    "\n",
    "<font size=\"+1\"><span style=\"background-color: yellow;font-size: larger\">&nbsp;**bool( )**&nbsp;</span></font> : Returns the **boolean value** of the specified object.\n",
    "\n",
    "The object will always return <span style=\"background-color: #FBE2FF;color:red\"><strong>&nbsp;True&nbsp;</strong></span>, unless: <br>\n",
    "\n",
    "The object is **empty**, like <span style=\"background-color:#FBE2FF;color:red;font-size:larger\"><strong>&nbsp;[]&nbsp;</strong></span>, <span style=\"background-color: #FBE2FF;color:red;font-size:larger\"><strong>&nbsp;()&nbsp;</strong></span>, <span style=\"background-color: #EFEAF1;color:red;font-size:larger\"><strong>&nbsp;{}&nbsp;</strong></span>    <br>\n",
    "The object is <span style=\"background-color: #FBE2FF;color:red\"><strong>&nbsp;False&nbsp;</strong></span>    <br>\n",
    "The object is <span style=\"background-color: #FBE2FF;color:red\"><strong>&nbsp;0&nbsp;</strong></span>        <br>\n",
    "The object is <span style=\"background-color: #FBE2FF;color:red\"><strong>&nbsp;None&nbsp;</strong></span>     <br>\n"
   ]
  },
  {
   "cell_type": "code",
   "execution_count": 31,
   "id": "8e241f74-200e-494c-9ee5-711d0fb8a542",
   "metadata": {},
   "outputs": [
    {
     "name": "stdout",
     "output_type": "stream",
     "text": [
      "False\n"
     ]
    }
   ],
   "source": [
    "\n",
    "# Return the boolean value of 0:\n",
    "\n",
    "result = bool(0)\n",
    "print(result) \n"
   ]
  },
  {
   "cell_type": "code",
   "execution_count": 32,
   "id": "c6cadb9d-95c4-453e-82e8-02eaff2c0221",
   "metadata": {},
   "outputs": [
    {
     "name": "stdout",
     "output_type": "stream",
     "text": [
      "True\n"
     ]
    }
   ],
   "source": [
    "\n",
    "# Return the boolean value of 1:\n",
    "\n",
    "result = bool(1)\n",
    "print(result) \n"
   ]
  },
  {
   "cell_type": "code",
   "execution_count": null,
   "id": "fb220041-1119-43c5-99d5-982525cf8c80",
   "metadata": {},
   "outputs": [],
   "source": []
  },
  {
   "cell_type": "markdown",
   "id": "9631dea0-4142-42ef-9000-e5e806ab124a",
   "metadata": {},
   "source": [
    "<br>\n",
    "\n",
    "<font size=\"+1\"><span style=\"background-color: yellow;font-size: larger\">&nbsp;**callable( )**&nbsp;</span></font> : Returns **True** if the object appears callable (i.e., **can be called**), otherwise **False**."
   ]
  },
  {
   "cell_type": "code",
   "execution_count": 33,
   "id": "97d7978b-4487-4ea1-ad5c-8bd412332651",
   "metadata": {},
   "outputs": [
    {
     "name": "stdout",
     "output_type": "stream",
     "text": [
      "True\n"
     ]
    }
   ],
   "source": [
    "\n",
    "# Check if a function is callable:\n",
    "\n",
    "def my_function():\n",
    "    print(\"Hello, World!\")\n",
    "\n",
    "result = callable(my_function)\n",
    "print(result) \n"
   ]
  },
  {
   "cell_type": "code",
   "execution_count": null,
   "id": "96e0783d-9eb7-4af1-af18-f158e1ece199",
   "metadata": {},
   "outputs": [],
   "source": []
  },
  {
   "cell_type": "markdown",
   "id": "b10a70e6-18b8-4e05-a035-2924e08b6f79",
   "metadata": {},
   "source": [
    "<br>\n",
    "\n",
    "<font size=\"+1\"><span style=\"background-color: yellow;font-size: larger\">&nbsp;**chr( )**&nbsp;</span></font> : Returns the **character** representing the **Unicode** code point.\n"
   ]
  },
  {
   "cell_type": "code",
   "execution_count": 34,
   "id": "e98c36b6-280e-4ab3-9b23-c3a6d6c3d303",
   "metadata": {},
   "outputs": [
    {
     "name": "stdout",
     "output_type": "stream",
     "text": [
      "A\n"
     ]
    }
   ],
   "source": [
    "\n",
    "# Get the character that represents the unicode 65:\n",
    "\n",
    "char = chr(65)\n",
    "print(char)  \n"
   ]
  },
  {
   "cell_type": "code",
   "execution_count": 35,
   "id": "db54e425-ee39-4773-8a10-86cab01ef031",
   "metadata": {},
   "outputs": [
    {
     "name": "stdout",
     "output_type": "stream",
     "text": [
      "a\n"
     ]
    }
   ],
   "source": [
    "\n",
    "# Get the character that represents the unicode 97:\n",
    "\n",
    "char = chr(97)\n",
    "print(char)  \n"
   ]
  },
  {
   "cell_type": "code",
   "execution_count": null,
   "id": "123dd221-3c9c-40d2-885a-1e2f022b1230",
   "metadata": {},
   "outputs": [],
   "source": []
  },
  {
   "cell_type": "markdown",
   "id": "5c995e07-9e59-4e06-9327-34d0bfd38e86",
   "metadata": {},
   "source": [
    "<br>\n",
    "\n",
    "<font size=\"+1\"><span style=\"background-color: yellow;font-size: larger\">&nbsp;**compile( )**&nbsp;</span></font> : Returns the specified source as a **code object**, ready to be executed."
   ]
  },
  {
   "cell_type": "markdown",
   "id": "2b107b26-633d-4261-b8b6-b2e41084ea76",
   "metadata": {},
   "source": [
    "<div style=\"border: 1px solid pink; padding: 10px; margin-left: 120px; width: 400px; background-color: #fff6f6\">\n",
    "\n",
    "**compile(** source, filename, mode, flag, dont_inherit, optimize **)**\n",
    "\n",
    "</div>\n",
    "\n",
    "<br>\n",
    "\n",
    "\n",
    "| Parameter | Description |\n",
    "|-----------|-------------|\n",
    "| source\t| **Required**. The source to compile, can be a String, a Bytes object, or an AST object |\n",
    "| filename\t| **Required**. The name of the file that the source comes from. If the source does not come from a file, you can write whatever you like |\n",
    "| mode\t    | **Required**. Legal values: <br><span style=\"color: blue\">**eval**</span> - if the source is a single expression <br><span style=\"color: blue\">**exec**</span> - if the source is a block of statements  <br><span style=\"color: blue\">**single**</span> - if the source is a single interactive statement |\n",
    "| flags\t    | **Optional**. How to compile the source. Default 0 |\n",
    "| dont-inherit | **Optional**. How to compile the source. Default False |\n",
    "| optimize\t| **Optional**. Defines the optimization level of the compiler. Default -1 |"
   ]
  },
  {
   "cell_type": "code",
   "execution_count": 36,
   "id": "c110afb9-b7e8-4d44-af2b-49321b269916",
   "metadata": {},
   "outputs": [
    {
     "name": "stdout",
     "output_type": "stream",
     "text": [
      "55\n"
     ]
    }
   ],
   "source": [
    "\n",
    "# Compile text as code, and then execute it:\n",
    "\n",
    "x = compile('print(55)', 'test' , 'eval')\n",
    "exec(x)\n"
   ]
  },
  {
   "cell_type": "code",
   "execution_count": 37,
   "id": "2f7b1911-5711-44ac-8edf-dd07bddf79fd",
   "metadata": {},
   "outputs": [
    {
     "name": "stdout",
     "output_type": "stream",
     "text": [
      "55\n",
      "88\n"
     ]
    }
   ],
   "source": [
    "\n",
    "# Compile more than one statement, and then execute it:\n",
    "\n",
    "x = compile('print(55)\\nprint(88)', 'test', 'exec')\n",
    "exec(x)\n"
   ]
  },
  {
   "cell_type": "code",
   "execution_count": null,
   "id": "29d74a10-b99a-4958-8c6a-65619c074ed3",
   "metadata": {},
   "outputs": [],
   "source": []
  },
  {
   "cell_type": "markdown",
   "id": "7fcb2712-f6d8-415e-9a4c-4ad28b8e9f8d",
   "metadata": {},
   "source": [
    "<br>\n",
    "\n",
    "<font size=\"+1\"><span style=\"background-color: yellow;font-size: larger\">&nbsp;**complex( )**&nbsp;</span></font> : Returns a complex number by specifying a **real number** and an **imaginary number**."
   ]
  },
  {
   "cell_type": "code",
   "execution_count": 38,
   "id": "9b70ec0d-5891-4ed9-9e39-0d746c621495",
   "metadata": {},
   "outputs": [
    {
     "name": "stdout",
     "output_type": "stream",
     "text": [
      "(3+5j)\n"
     ]
    }
   ],
   "source": [
    "\n",
    "# Convert the number 3 and imaginary number 5 into a complex number:\n",
    "\n",
    "x = complex(3, 5)\n",
    "\n",
    "print(x)\n"
   ]
  },
  {
   "cell_type": "code",
   "execution_count": null,
   "id": "5dedf6c2-7a03-473e-bd6b-70884175d3a9",
   "metadata": {},
   "outputs": [],
   "source": []
  },
  {
   "cell_type": "markdown",
   "id": "ddf44700-d127-4c02-a7be-165b8387e3d4",
   "metadata": {},
   "source": [
    "<br>\n",
    "\n",
    "<font size=\"+1\"><span style=\"background-color: yellow;font-size: larger\">&nbsp;**delattr( )**&nbsp;</span></font> : **deletes the specified attribute** from the specified object.\n",
    "\n",
    "<br>\n",
    "\n",
    "<div style=\"border: 1px solid pink; padding: 10px; margin-left: 120px; width: 300px; background-color: #fff6f6\">\n",
    "\n",
    "**delattr(** (object, attribute **)**\n",
    "\n",
    "</div>"
   ]
  },
  {
   "cell_type": "code",
   "execution_count": 39,
   "id": "48d79298-e304-49ae-b0c5-f742d415a483",
   "metadata": {},
   "outputs": [],
   "source": [
    "\n",
    "# Delete the \"age\" property from the \"person\" object:\n",
    "\n",
    "class Person:\n",
    "  name = \"John\"\n",
    "  age = 36\n",
    "  country = \"Norway\"\n",
    "\n",
    "delattr(Person, 'age')\n"
   ]
  },
  {
   "cell_type": "code",
   "execution_count": null,
   "id": "74c6f122-4ba2-40f3-935c-28e9f87027a6",
   "metadata": {},
   "outputs": [],
   "source": []
  },
  {
   "cell_type": "markdown",
   "id": "f9e90da4-263f-42c1-b71f-2c6c4189fc80",
   "metadata": {},
   "source": [
    "<br>\n",
    "\n",
    "<font size=\"+1\"><span style=\"background-color: yellow;font-size: larger\">&nbsp;**dict( )**&nbsp;</span></font> : creates a dictionary. It is a collection which is **unordered**, **changeable** and **indexed**."
   ]
  },
  {
   "cell_type": "code",
   "execution_count": 40,
   "id": "cb9116f2-4c8e-4484-9a7e-ce8971025482",
   "metadata": {},
   "outputs": [
    {
     "name": "stdout",
     "output_type": "stream",
     "text": [
      "{'name': 'Avinash', 'age': 30, 'country': 'India'}\n"
     ]
    }
   ],
   "source": [
    "\n",
    "# Create a dictionary containing personal information:\n",
    "\n",
    "x = dict(name = \"Avinash\", age = 30, country = \"India\")\n",
    "print(x)\n"
   ]
  },
  {
   "cell_type": "code",
   "execution_count": null,
   "id": "e8308291-f2df-4346-8648-c497400a290a",
   "metadata": {},
   "outputs": [],
   "source": []
  },
  {
   "cell_type": "markdown",
   "id": "e8cc2d18-e7a5-4d37-b4a6-0ece57a3b19a",
   "metadata": {},
   "source": [
    "<br>\n",
    "\n",
    "<font size=\"+1\"><span style=\"background-color: yellow;font-size: larger\">&nbsp;**dir( )**&nbsp;</span></font> : Returns a list of valid attributes (**all the properties and methods, even built-in properties which are default for all object**) for the specified object.\n",
    "\n",
    "<br>\n"
   ]
  },
  {
   "cell_type": "code",
   "execution_count": 41,
   "id": "5f5bb157-d438-4453-bbd6-9874fa73b45d",
   "metadata": {},
   "outputs": [
    {
     "name": "stdout",
     "output_type": "stream",
     "text": [
      "['__class__', '__delattr__', '__dict__', '__dir__', '__doc__', '__eq__', '__format__', '__ge__', '__getattribute__', '__getstate__', '__gt__', '__hash__', '__init__', '__init_subclass__', '__le__', '__lt__', '__module__', '__ne__', '__new__', '__reduce__', '__reduce_ex__', '__repr__', '__setattr__', '__sizeof__', '__str__', '__subclasshook__', '__weakref__', 'age', 'country', 'name']\n"
     ]
    }
   ],
   "source": [
    "\n",
    "# Display the content of an object:\n",
    "\n",
    "class Person:\n",
    "    name = \"John\"\n",
    "    age = 36\n",
    "    country = \"Norway\"\n",
    "\n",
    "print(dir(Person))\n"
   ]
  },
  {
   "cell_type": "code",
   "execution_count": 42,
   "id": "1bc9e743-f556-4873-a5ad-0664fde8347a",
   "metadata": {},
   "outputs": [
    {
     "name": "stdout",
     "output_type": "stream",
     "text": [
      "['__add__', '__class__', '__class_getitem__', '__contains__', '__delattr__', '__delitem__', '__dir__', '__doc__', '__eq__', '__format__', '__ge__', '__getattribute__', '__getitem__', '__getstate__', '__gt__', '__hash__', '__iadd__', '__imul__', '__init__', '__init_subclass__', '__iter__', '__le__', '__len__', '__lt__', '__mul__', '__ne__', '__new__', '__reduce__', '__reduce_ex__', '__repr__', '__reversed__', '__rmul__', '__setattr__', '__setitem__', '__sizeof__', '__str__', '__subclasshook__', 'append', 'clear', 'copy', 'count', 'extend', 'index', 'insert', 'pop', 'remove', 'reverse', 'sort']\n"
     ]
    }
   ],
   "source": [
    "\n",
    "# Display all the content of a list object:\n",
    "\n",
    "lst = [1, 2, 3]\n",
    "attributes = dir(lst)\n",
    "print(attributes) \n"
   ]
  },
  {
   "cell_type": "code",
   "execution_count": null,
   "id": "aa4f9fec-1b7f-497c-a943-aa8a3d310ae0",
   "metadata": {},
   "outputs": [],
   "source": []
  },
  {
   "cell_type": "markdown",
   "id": "7f59de97-bef9-448f-9adc-b3a6ac3e9a0f",
   "metadata": {},
   "source": [
    "<br>\n",
    "\n",
    "<font size=\"+1\"><span style=\"background-color: yellow;font-size: larger\">&nbsp;**divmod( )**&nbsp;</span></font> : returns a **tuple** containing the **quotient**  and the **remainder** when **argument1 (dividend)** is divided by **argument2 (divisor)**.\n",
    "\n",
    "\n",
    "<div style=\"border: 1px solid pink; padding: 10px; margin-left: 95px; width: 180px; background-color: #fff6f6\">\n",
    "\n",
    "**divmod(** dividend, divisor **)**\n",
    "\n",
    "</div>\n"
   ]
  },
  {
   "cell_type": "code",
   "execution_count": 43,
   "id": "9e949315-4ec4-40b0-9600-233936820d4a",
   "metadata": {},
   "outputs": [
    {
     "name": "stdout",
     "output_type": "stream",
     "text": [
      "(2, 1)\n"
     ]
    }
   ],
   "source": [
    "\n",
    "x = divmod(5, 2)\n",
    "print(x)\n"
   ]
  },
  {
   "cell_type": "code",
   "execution_count": null,
   "id": "dc9b0112-01b1-4542-987a-a43f53581797",
   "metadata": {},
   "outputs": [],
   "source": []
  },
  {
   "cell_type": "markdown",
   "id": "47255852-7c2e-481a-999c-d4727722639c",
   "metadata": {},
   "source": [
    "<br>\n",
    "\n",
    "<font size=\"+1\"><span style=\"background-color: yellow;font-size: larger\">&nbsp;**enumerate()**&nbsp;</span></font> :  Returns an enumerate object, which yields pairs of indexes and values from an iterable.\n",
    "\n",
    "It is used to iterate over a sequence (such as a list, tuple, or string) along with an index. It **returns an enumerate object**, which produces a **sequence of tuples containing the index and the corresponding item from the iterable**.\n",
    "\n",
    "<br>\n",
    "\n",
    "<div style=\"border: 1px solid pink; padding: 10px; margin-left: 95px; width: 240px; background-color: #fff6f6\">\n",
    "\n",
    "**enumerate(** iterable, start = 0 **)**\n",
    "\n",
    "</div>"
   ]
  },
  {
   "cell_type": "code",
   "execution_count": 48,
   "id": "86ef90eb-b80c-463a-877b-9c480d9fad73",
   "metadata": {},
   "outputs": [
    {
     "name": "stdout",
     "output_type": "stream",
     "text": [
      "<enumerate object at 0x000001DAEC435120>\n",
      "<enumerate object at 0x000001DAEC434AE0>\n"
     ]
    }
   ],
   "source": [
    "\n",
    "x1 = ('apple', 'banana', 'cherry')\n",
    "y1 = enumerate(x1)\n",
    "print(y1)\n",
    "\n",
    "\n",
    "x2 = ['apple', 'banana', 'cherry']\n",
    "y2 = enumerate(x2)\n",
    "print(y2)\n"
   ]
  },
  {
   "cell_type": "markdown",
   "id": "943d0618-c5d4-485b-84b9-f363611ffde3",
   "metadata": {},
   "source": [
    "<br>\n",
    "If you want to see the sequence of tuples it returned, you'll have to use a for loop to unpack it like the following:"
   ]
  },
  {
   "cell_type": "code",
   "execution_count": 54,
   "id": "bb00f591-c384-47bd-99d0-70793e604a44",
   "metadata": {},
   "outputs": [],
   "source": [
    "\n",
    "for index, fruit in enumerate(y1):\n",
    "    print(index, fruit)\n",
    "    "
   ]
  },
  {
   "cell_type": "code",
   "execution_count": 55,
   "id": "1f9c8ea3-618f-4497-9181-22e8c10c0d39",
   "metadata": {},
   "outputs": [],
   "source": [
    "\n",
    "for index, fruit in enumerate(y2):\n",
    "    print(index, fruit)\n",
    "    "
   ]
  },
  {
   "cell_type": "code",
   "execution_count": 56,
   "id": "2863645c-45c0-456a-a458-0f250b0c73e2",
   "metadata": {},
   "outputs": [
    {
     "name": "stdout",
     "output_type": "stream",
     "text": [
      "0 apple\n",
      "1 banana\n",
      "2 cherry\n"
     ]
    }
   ],
   "source": [
    "\n",
    "fruits = ['apple', 'banana', 'cherry']\n",
    "for index, fruit in enumerate(fruits):\n",
    "    print(index, fruit)\n"
   ]
  },
  {
   "cell_type": "markdown",
   "id": "90e0e39b-3c7b-4968-ac41-1f1542a7c415",
   "metadata": {},
   "source": [
    "<br>\n",
    "\n",
    "<font size=\"+1\"><span style=\"background-color: yellow;font-size: larger\">&nbsp;**eval( )**&nbsp;</span></font> : **Evaluates a Python expression that is passed as a string argument** and returns the result of the expression. It accepts a **single expression only**.\n",
    "\n",
    "<br>\n",
    "\n",
    "<div style=\"border: 1px solid pink; padding: 10px; margin-left: 380px; width:240px; background-color: #fff6f6\">\n",
    "\n",
    "**eval(** expression[, globals[, locals]] **)**\n",
    "\n",
    "</div>\n",
    "\n",
    "<br>\n",
    "\n",
    "|    Parameter    |     Description    |\n",
    "|-----------------|--------------------|\n",
    "|   expression\t  |  A String, that will be evaluated as Python code  |\n",
    "|   globals       |  Optional. A dictionary containing global parameters  |\n",
    "|   locals        |  Optional. A dictionary containing local parameters   |\n",
    "\n"
   ]
  },
  {
   "cell_type": "code",
   "execution_count": 57,
   "id": "dd1f29d3-1a78-43dd-a6ba-a8474620f547",
   "metadata": {},
   "outputs": [
    {
     "name": "stdout",
     "output_type": "stream",
     "text": [
      "13\n"
     ]
    }
   ],
   "source": [
    "\n",
    "expression = \"3 + 5 * 2\"\n",
    "result = eval(expression)\n",
    "print(result) \n"
   ]
  },
  {
   "cell_type": "markdown",
   "id": "c1b4e543-aba9-4414-973e-92fc0894de25",
   "metadata": {},
   "source": [
    "<br>\n",
    "\n",
    "**Caution** ⇒ <span style=\"background-color: #CAFEFD\">&nbsp;**eval( )** can execute arbitrary code, which can be a security risk if the input is from an untrusted source. Avoid using **eval( )** with untrusted input.</span>\n"
   ]
  },
  {
   "cell_type": "code",
   "execution_count": null,
   "id": "8fa02e64-4509-4ce4-be3d-25c0bb701f35",
   "metadata": {},
   "outputs": [],
   "source": []
  },
  {
   "cell_type": "markdown",
   "id": "62fd004e-a6bc-410f-8654-76fa23b2b4e8",
   "metadata": {},
   "source": [
    "<br>\n",
    "\n",
    "<font size=\"+1\"><span style=\"background-color: yellow;font-size: larger\">&nbsp;**exec( )**&nbsp;</span></font> : Executes the specified Python code dynamically.\n",
    "\n",
    "<span style=\"background-color: #CAFEFD\">The **exec()** function accepts large blocks of code, unlike the **eval( )** function which only accepts a single expression</span>\n",
    "\n",
    "<br>\n",
    "\n",
    "<div style=\"border: 1px solid pink; padding: 10px; margin-left: 380px; width:240px; background-color: #fff6f6\">\n",
    "\n",
    "**exec(** expression[, globals[, locals]] **)**\n",
    "\n",
    "</div>\n",
    "\n",
    "<br>\n",
    "\n",
    "|    Parameter    |     Description    |\n",
    "|-----------------|--------------------|\n",
    "|   expression\t  |  A String, that will be evaluated as Python code  |\n",
    "|   globals       |  Optional. A dictionary containing global parameters  |\n",
    "|   locals        |  Optional. A dictionary containing local parameters   |\n",
    "\n"
   ]
  },
  {
   "cell_type": "code",
   "execution_count": 60,
   "id": "a6e2e6b5-79f5-4cf6-8308-1d5d82054ba4",
   "metadata": {},
   "outputs": [
    {
     "name": "stdout",
     "output_type": "stream",
     "text": [
      "John\n"
     ]
    }
   ],
   "source": [
    "\n",
    "x = 'name = \"John\"\\nprint(name)'\n",
    "exec(x)\n"
   ]
  },
  {
   "cell_type": "markdown",
   "id": "4ca355ef-7cae-4560-a64f-ec7dd02848c8",
   "metadata": {},
   "source": [
    "<br>\n",
    "\n",
    "Let's take the same example for **exec( )** too which we used in **eval( )** and **compare the difference**"
   ]
  },
  {
   "cell_type": "code",
   "execution_count": 63,
   "id": "90f00e54-1964-42e8-b491-58e06576eefd",
   "metadata": {},
   "outputs": [
    {
     "name": "stdout",
     "output_type": "stream",
     "text": [
      "None\n"
     ]
    }
   ],
   "source": [
    "\n",
    "expression = \"3 + 5 * 2\"\n",
    "result = exec(expression)\n",
    "print(result)\n"
   ]
  },
  {
   "cell_type": "markdown",
   "id": "dc9e0df9-34b3-4426-a61c-3ef3ee2f6cb6",
   "metadata": {},
   "source": [
    "**exec( )** will not evaluate until all the instructions are given clearly&nbsp;<font size=\"+2\">↴</font>"
   ]
  },
  {
   "cell_type": "code",
   "execution_count": 67,
   "id": "16d73510-7892-423b-b215-a40af0c9ee8b",
   "metadata": {},
   "outputs": [
    {
     "name": "stdout",
     "output_type": "stream",
     "text": [
      "3 + 5 * 2\n"
     ]
    }
   ],
   "source": [
    "\n",
    "x = 'expression = \"3 + 5 * 2\"\\nprint(expression)'\n",
    "exec(x)\n"
   ]
  },
  {
   "cell_type": "code",
   "execution_count": 68,
   "id": "2f0a6c8c-1981-4eaa-b27a-5c9c723cb138",
   "metadata": {},
   "outputs": [
    {
     "name": "stdout",
     "output_type": "stream",
     "text": [
      "13\n"
     ]
    }
   ],
   "source": [
    "\n",
    "x = 'expression = \"3 + 5 * 2\"\\nprint(eval(expression))'\n",
    "exec(x)\n"
   ]
  },
  {
   "cell_type": "markdown",
   "id": "f15b2f6b-fbba-4cbf-98c9-4a1de7f4aa62",
   "metadata": {},
   "source": [
    "**Caution** ⇒ <span style=\"background-color: #CAFEFD\">&nbsp; Like eval( ), **exec( )** can execute arbitrary code, so be careful when using it, especially with untrusted input.</span>"
   ]
  },
  {
   "cell_type": "code",
   "execution_count": null,
   "id": "d29ffa6c-9838-46ef-9282-31906153528f",
   "metadata": {},
   "outputs": [],
   "source": []
  },
  {
   "cell_type": "markdown",
   "id": "1adf2d9a-699b-4c28-9487-71787c4d9514",
   "metadata": {},
   "source": [
    "<br>\n",
    "\n",
    "<font size=\"+1\"><span style=\"background-color: yellow;font-size: larger\">&nbsp;**filter( )**&nbsp;</span></font> : Returns an iterator where each item of the given iterable is filtered through a function to test if the item is accepted or not.\n",
    "\n",
    "&nbsp;&nbsp;&nbsp;&nbsp;&nbsp;&nbsp;&nbsp;&nbsp;&nbsp;&nbsp;&nbsp;&nbsp;&nbsp;&nbsp;&nbsp;&nbsp;&nbsp;&nbsp;&nbsp;&nbsp;<span style=\"background-color: #CAFEFD\">It is extensively used in **lambda functions**.</span>\n",
    "\n",
    "&nbsp;&nbsp;&nbsp;&nbsp;&nbsp;&nbsp;&nbsp;&nbsp;&nbsp;&nbsp;&nbsp;&nbsp;&nbsp;&nbsp;&nbsp;&nbsp;&nbsp;&nbsp;&nbsp;&nbsp;Constructs an iterator from the elements of an iterable for which a function returns **True**.\n",
    "\n",
    "<br>\n",
    "\n",
    "<div style=\"border: 1px solid pink; padding: 10px; margin-left: 120px; width: 240px; background-color: #fff6f6\">\n",
    "\n",
    "**filter(** function, iterable **)**\n",
    "\n",
    "</div>\n"
   ]
  },
  {
   "cell_type": "code",
   "execution_count": 70,
   "id": "d503c5d3-4af6-466d-859d-2d21eb3c4203",
   "metadata": {},
   "outputs": [
    {
     "name": "stdout",
     "output_type": "stream",
     "text": [
      "18\n",
      "24\n",
      "32\n"
     ]
    }
   ],
   "source": [
    "\n",
    "# Filter the array, and return a new array with only the values equal to or above 18:\n",
    "\n",
    "ages = [5, 12, 17, 18, 24, 32]\n",
    "\n",
    "def myFunc(x):\n",
    "  if x < 18:\n",
    "    return False\n",
    "  else:\n",
    "    return True\n",
    "\n",
    "adults = filter(myFunc, ages)\n",
    "\n",
    "for x in adults:\n",
    "  print(x)\n",
    "    "
   ]
  },
  {
   "cell_type": "code",
   "execution_count": 110,
   "id": "040283e5-a7d1-42a3-9728-cf43758a190a",
   "metadata": {},
   "outputs": [
    {
     "name": "stdout",
     "output_type": "stream",
     "text": [
      "<filter object at 0x000001DAEC5A3A60>\n",
      "[2, 4, 6, 8, 10]\n"
     ]
    }
   ],
   "source": [
    "\n",
    "# Define a function to filter even numbers\n",
    "def is_even(n):\n",
    "    return n % 2 == 0\n",
    "\n",
    "\n",
    "# Define a list of numbers\n",
    "numbers = [1, 2, 3, 4, 5, 6, 7, 8, 9, 10]\n",
    "\n",
    "\n",
    "# Use filter to get only even numbers\n",
    "even_numbers_func = filter(is_even, numbers)\n",
    "\n",
    "\n",
    "# Convert the result to a list (optional)\n",
    "even_numbers_list = list(even_numbers_func)\n",
    "\n",
    "\n",
    "print(even_numbers_func)\n",
    "print(even_numbers_list) \n"
   ]
  },
  {
   "cell_type": "code",
   "execution_count": null,
   "id": "5adff84f-d933-48f6-becc-1f2bff4080c0",
   "metadata": {},
   "outputs": [],
   "source": []
  },
  {
   "cell_type": "markdown",
   "id": "4fe2237a-e2a4-4238-bf5e-763cb5548d9e",
   "metadata": {},
   "source": [
    "<br>\n",
    "\n",
    "<font size=\"+1\"><span style=\"background-color: yellow;font-size: larger\">&nbsp;**float( )**&nbsp;</span></font> : converts the specified value into a floating point number.\n",
    "\n",
    "<br>\n",
    "\n",
    "<div style=\"border: 1px solid pink; padding: 10px; margin-left: 120px; width: 120px; background-color: #fff6f6\">\n",
    "\n",
    "**float(** value **)**\n",
    "\n",
    "</div>"
   ]
  },
  {
   "cell_type": "code",
   "execution_count": 75,
   "id": "f023a6ee-a95f-4a12-b964-3575732b4dc4",
   "metadata": {},
   "outputs": [
    {
     "name": "stdout",
     "output_type": "stream",
     "text": [
      "3.5\n"
     ]
    }
   ],
   "source": [
    "\n",
    "x = float(\"3.500\")\n",
    "print(x)\n"
   ]
  },
  {
   "cell_type": "code",
   "execution_count": null,
   "id": "34bf09b8-ab7b-4f3b-80ca-6895050d7970",
   "metadata": {},
   "outputs": [],
   "source": []
  },
  {
   "cell_type": "markdown",
   "id": "b1b5d250-b181-45d7-99bb-a3021eaf6928",
   "metadata": {},
   "source": [
    "<br>\n",
    "\n",
    "<font size=\"+1\"><span style=\"background-color: yellow;font-size: larger\">&nbsp;**format( )**&nbsp;</span></font> : formats a specified value into a **specified format**.\n",
    "\n",
    "<br>\n",
    "\n",
    "<div style=\"border: 1px solid pink; padding: 10px; margin-left: 120px; width: 200px; background-color: #fff6f6\">\n",
    "\n",
    "**format(** value, format **)**\n",
    "\n",
    "</div>\n",
    "\n",
    "<br>\n",
    "\n",
    "<div style=\"margin-left: 120px\">\n",
    "\n",
    "![Parameter Values](format_specifier_list_image.PNG)\n",
    "\n",
    "</div>\n",
    "\n",
    "\n",
    "\n",
    "<br>"
   ]
  },
  {
   "cell_type": "code",
   "execution_count": 84,
   "id": "caeed708-351a-48d8-b846-4b4ed71498db",
   "metadata": {},
   "outputs": [
    {
     "name": "stdout",
     "output_type": "stream",
     "text": [
      "50.000000%\n"
     ]
    }
   ],
   "source": [
    "\n",
    "# Format the number 0.5 into a percentage value:\n",
    "\n",
    "x = format(0.5, '%')\n",
    "print(x)\n"
   ]
  },
  {
   "cell_type": "code",
   "execution_count": 81,
   "id": "89d552f7-d46a-46d2-a941-ccd16864a4c2",
   "metadata": {},
   "outputs": [
    {
     "name": "stdout",
     "output_type": "stream",
     "text": [
      "10,000,000\n"
     ]
    }
   ],
   "source": [
    "\n",
    "# Format 255 into a hexadecimal value:\n",
    "\n",
    "x = format(10000000, ',')\n",
    "print(x)\n"
   ]
  },
  {
   "cell_type": "code",
   "execution_count": 83,
   "id": "9db0866e-bd9c-44c4-974c-a46444073cee",
   "metadata": {},
   "outputs": [
    {
     "name": "stdout",
     "output_type": "stream",
     "text": [
      "25.57\n"
     ]
    }
   ],
   "source": [
    "\n",
    "# Format upto 2 decimal point \n",
    "\n",
    "x = format(25.567, '.2f')\n",
    "print(x)\n"
   ]
  },
  {
   "cell_type": "code",
   "execution_count": 87,
   "id": "53052627-b46e-4d55-b591-47c3a6f55ae6",
   "metadata": {},
   "outputs": [
    {
     "name": "stdout",
     "output_type": "stream",
     "text": [
      "My name is Avinash and I am 30 years old.\n"
     ]
    }
   ],
   "source": [
    "\n",
    "name = \"Avinash\"\n",
    "age = 30\n",
    "message = \"My name is {} and I am {} years old.\".format(name, age)\n",
    "print(message) \n"
   ]
  },
  {
   "cell_type": "code",
   "execution_count": null,
   "id": "0a1f70a0-0253-47f3-a60d-c289d7846029",
   "metadata": {},
   "outputs": [],
   "source": []
  },
  {
   "cell_type": "markdown",
   "id": "7a645346-5b04-4541-814b-d559365331fe",
   "metadata": {},
   "source": [
    "<br>\n",
    "\n",
    "<font size=\"+1\"><span style=\"background-color: yellow;font-size: larger\">&nbsp;**frozenset( )**&nbsp;</span></font> : returns an **immutable frozenset object** initialized with elements from the specified iterable. <br>\n",
    "\n",
    "A frozenset is <span style=\"background-color: #CAFEFD\">&nbsp;similar to a set, but it is immutable</span>, meaning its elements cannot be changed after creation. <span style=\"background-color: #CAFEFD\">This makes it suitable for use as a dictionary key or as an element of another set, since these data structures require immutable objects.</span>\n",
    "\n",
    "<br>\n",
    "\n",
    "<div style=\"border: 1px solid pink; padding: 10px; margin-left: 120px; width: 200px; background-color: #fff6f6\">\n",
    "\n",
    "**frozenset(** iterable **)**\n",
    "\n",
    "</div>\n",
    "\n",
    "<br>\n"
   ]
  },
  {
   "cell_type": "code",
   "execution_count": 89,
   "id": "a2712e2c-f7e5-424c-bf3b-b972f6a6d03e",
   "metadata": {},
   "outputs": [
    {
     "name": "stdout",
     "output_type": "stream",
     "text": [
      "frozenset({'cherry', 'apple', 'banana'})\n"
     ]
    }
   ],
   "source": [
    "\n",
    "# Freeze the list, and make it unchangeable:\n",
    "\n",
    "mylist = ['apple', 'banana', 'cherry']\n",
    "x = frozenset(mylist)\n",
    "print(x)"
   ]
  },
  {
   "cell_type": "code",
   "execution_count": 98,
   "id": "3c0186c9-033c-4d1d-8284-eaa72f7bf831",
   "metadata": {},
   "outputs": [
    {
     "name": "stdout",
     "output_type": "stream",
     "text": [
      "['apple', 'banana', 'cherry', 'mango']\n",
      "\n"
     ]
    },
    {
     "ename": "AttributeError",
     "evalue": "'frozenset' object has no attribute 'append'",
     "output_type": "error",
     "traceback": [
      "\u001b[1;31m---------------------------------------------------------------------------\u001b[0m",
      "\u001b[1;31mAttributeError\u001b[0m                            Traceback (most recent call last)",
      "Cell \u001b[1;32mIn[98], line 7\u001b[0m\n\u001b[0;32m      3\u001b[0m \u001b[38;5;28mprint\u001b[39m(mylist, end\u001b[38;5;241m=\u001b[39m\u001b[38;5;124m\"\u001b[39m\u001b[38;5;130;01m\\n\u001b[39;00m\u001b[38;5;130;01m\\n\u001b[39;00m\u001b[38;5;124m\"\u001b[39m)\n\u001b[0;32m      6\u001b[0m \u001b[38;5;66;03m# But since 'x' is a frozenset, so it cannot be changed\u001b[39;00m\n\u001b[1;32m----> 7\u001b[0m \u001b[43mx\u001b[49m\u001b[38;5;241;43m.\u001b[39;49m\u001b[43mappend\u001b[49m(\u001b[38;5;124m\"\u001b[39m\u001b[38;5;124mmango\u001b[39m\u001b[38;5;124m\"\u001b[39m)    \u001b[38;5;66;03m# This will cause an error\u001b[39;00m\n\u001b[0;32m      8\u001b[0m \u001b[38;5;28mprint\u001b[39m(x)\n",
      "\u001b[1;31mAttributeError\u001b[0m: 'frozenset' object has no attribute 'append'"
     ]
    }
   ],
   "source": [
    "\n",
    "# Since 'myslist' is not a frozenset, so it can be changed\n",
    "mylist.append(\"mango\")\n",
    "print(mylist, end=\"\\n\\n\")\n",
    "\n",
    "\n",
    "# But since 'x' is a frozenset, so it cannot be changed\n",
    "x.append(\"mango\")    # This will cause an error\n",
    "print(x)\n"
   ]
  },
  {
   "cell_type": "code",
   "execution_count": 99,
   "id": "6d83ec77-d861-47a9-9216-e658a033622e",
   "metadata": {},
   "outputs": [
    {
     "ename": "TypeError",
     "evalue": "'frozenset' object does not support item assignment",
     "output_type": "error",
     "traceback": [
      "\u001b[1;31m---------------------------------------------------------------------------\u001b[0m",
      "\u001b[1;31mTypeError\u001b[0m                                 Traceback (most recent call last)",
      "Cell \u001b[1;32mIn[99], line 7\u001b[0m\n\u001b[0;32m      5\u001b[0m mylist \u001b[38;5;241m=\u001b[39m [\u001b[38;5;124m'\u001b[39m\u001b[38;5;124mapple\u001b[39m\u001b[38;5;124m'\u001b[39m, \u001b[38;5;124m'\u001b[39m\u001b[38;5;124mbanana\u001b[39m\u001b[38;5;124m'\u001b[39m, \u001b[38;5;124m'\u001b[39m\u001b[38;5;124mcherry\u001b[39m\u001b[38;5;124m'\u001b[39m]\n\u001b[0;32m      6\u001b[0m x \u001b[38;5;241m=\u001b[39m \u001b[38;5;28mfrozenset\u001b[39m(mylist)\n\u001b[1;32m----> 7\u001b[0m \u001b[43mx\u001b[49m\u001b[43m[\u001b[49m\u001b[38;5;241;43m1\u001b[39;49m\u001b[43m]\u001b[49m \u001b[38;5;241m=\u001b[39m \u001b[38;5;124m\"\u001b[39m\u001b[38;5;124mstrawberry\u001b[39m\u001b[38;5;124m\"\u001b[39m\n",
      "\u001b[1;31mTypeError\u001b[0m: 'frozenset' object does not support item assignment"
     ]
    }
   ],
   "source": [
    "\n",
    "# Let's try to change the value of a frozenset item.\n",
    "\n",
    "# This will cause an error:\n",
    "\n",
    "mylist = ['apple', 'banana', 'cherry']\n",
    "x = frozenset(mylist)\n",
    "x[1] = \"strawberry\"\n"
   ]
  },
  {
   "cell_type": "code",
   "execution_count": null,
   "id": "14056706-f4c5-415b-9a7b-8b7ad2f1357e",
   "metadata": {},
   "outputs": [],
   "source": []
  },
  {
   "cell_type": "markdown",
   "id": "4534d65a-7793-4098-98f5-2106fdab9731",
   "metadata": {},
   "source": [
    "<br>\n",
    "\n",
    "<font size=\"+1\"><span style=\"background-color: yellow;font-size: larger\">&nbsp;**getattr( )**&nbsp;</span></font> : **returns the value of the specified attribute** from the specified object.\n",
    "\n",
    "<br>\n",
    "\n",
    "<div style=\"border: 1px solid pink; padding: 10px; margin-left: 120px; width: 300px; background-color: #fff6f6\">\n",
    "\n",
    "**getattr(** object, attribute[, default] **)**\n",
    "\n",
    "</div>\n"
   ]
  },
  {
   "cell_type": "code",
   "execution_count": 104,
   "id": "503804af-9b58-4294-83d1-1b4dfe4aa9da",
   "metadata": {},
   "outputs": [
    {
     "name": "stdout",
     "output_type": "stream",
     "text": [
      "30\n"
     ]
    }
   ],
   "source": [
    "\n",
    "# Get the value of the \"age\" property of the \"Person\" object:\n",
    "\n",
    "class Person:\n",
    "  name = \"Avinash\"\n",
    "  age = 30\n",
    "  country = \"India\"\n",
    "\n",
    "x = getattr(Person, 'age')\n",
    "\n",
    "print(x)\n"
   ]
  },
  {
   "cell_type": "code",
   "execution_count": 105,
   "id": "c4001bdb-87ec-4bac-9c5a-385f72ff3295",
   "metadata": {},
   "outputs": [
    {
     "name": "stdout",
     "output_type": "stream",
     "text": [
      "Data Engineering\n"
     ]
    }
   ],
   "source": [
    "\n",
    "# Use the \"default\" parameter to write a message when the attribute does not exist:\n",
    "\n",
    "class Person:\n",
    "  name = \"Avinash\"\n",
    "  age = 30\n",
    "  country = \"India\"\n",
    "\n",
    "x = getattr(Person, 'proffession', 'Data Engineering')\n",
    "\n",
    "print(x)\n"
   ]
  },
  {
   "cell_type": "code",
   "execution_count": null,
   "id": "018b75a2-2dcb-4275-a6aa-557c6c962fe1",
   "metadata": {},
   "outputs": [],
   "source": []
  },
  {
   "cell_type": "markdown",
   "id": "c59c8b11-7c08-4eb9-aa30-8732b05fc335",
   "metadata": {},
   "source": [
    "<br>\n",
    "\n",
    "<font size=\"+1\"><span style=\"background-color: yellow;font-size: larger\">&nbsp;**globals( )**&nbsp;</span></font> : returns the global symbol table as a **dictionary**.\n",
    "\n",
    "A symbol table <span style=\"background-color: #CAFEFD\">contains necessary information about the current program</span>.\n"
   ]
  },
  {
   "cell_type": "code",
   "execution_count": 1,
   "id": "f8ad05ed-c960-4c8e-a149-f1c8ee97e6f5",
   "metadata": {},
   "outputs": [
    {
     "name": "stdout",
     "output_type": "stream",
     "text": [
      "{'__name__': '__main__', '__doc__': 'Automatically created module for IPython interactive environment', '__package__': None, '__loader__': None, '__spec__': None, '__builtin__': <module 'builtins' (built-in)>, '__builtins__': <module 'builtins' (built-in)>, '_ih': ['', '# Display the global symbol table:\\n\\nx = globals()\\nprint(x)'], '_oh': {}, '_dh': [WindowsPath('C:/Users/user/Python_Programming')], 'In': ['', '# Display the global symbol table:\\n\\nx = globals()\\nprint(x)'], 'Out': {}, 'get_ipython': <bound method InteractiveShell.get_ipython of <ipykernel.zmqshell.ZMQInteractiveShell object at 0x000001A21DD021D0>>, 'exit': <IPython.core.autocall.ZMQExitAutocall object at 0x000001A21DD1E490>, 'quit': <IPython.core.autocall.ZMQExitAutocall object at 0x000001A21DD1E490>, 'open': <function open at 0x000001A21BCE1B20>, '_': '', '__': '', '___': '', '__session__': 'C:\\\\Users\\\\user\\\\Python_Programming\\\\Python Built-In Functions.ipynb', '_i': '', '_ii': '', '_iii': '', '_i1': '\\n# Display the global symbol table:\\n\\nx = globals()\\nprint(x)', 'x': {...}}\n"
     ]
    }
   ],
   "source": [
    "\n",
    "# Display the global symbol table:\n",
    "\n",
    "x = globals()\n",
    "print(x)\n"
   ]
  },
  {
   "cell_type": "code",
   "execution_count": 8,
   "id": "283aa872-965b-4f95-8a65-e0b847b74c8f",
   "metadata": {},
   "outputs": [
    {
     "name": "stdout",
     "output_type": "stream",
     "text": [
      "{'__name__': '__main__', '__doc__': 'Automatically created module for IPython interactive environment', '__package__': None, '__loader__': None, '__spec__': None, '__builtin__': <module 'builtins' (built-in)>, '__builtins__': <module 'builtins' (built-in)>, '_ih': ['', '# Display the global symbol table:\\n\\nx = globals()\\nprint(x)', 'x = 10\\ny = 20\\nglobal_vars = globals()\\nprint(global_vars)', 'import ipynbname\\nnb_fname = ipynbname.name()\\nprint(nb_fname)', '# Get the full path to the notebook:\\n\\nimport ipynbname\\nnb_path = ipynbname.path()\\nprint(nb_path)', '# Get the notebook name:\\n\\nimport ipynbname\\nnb_fname = ipynbname.name()\\nprint(nb_fname)', 'import os\\n\\nnotebook_path = os.getcwd()\\nprint(notebook_path)', 'x = 10\\ny = 20\\nglobal_vars = globals()\\nprint(global_vars)', 'x = 10\\ny = 20\\nglobal_vars = globals()\\nprint(global_vars)'], '_oh': {}, '_dh': [WindowsPath('C:/Users/user/Python_Programming')], 'In': ['', '# Display the global symbol table:\\n\\nx = globals()\\nprint(x)', 'x = 10\\ny = 20\\nglobal_vars = globals()\\nprint(global_vars)', 'import ipynbname\\nnb_fname = ipynbname.name()\\nprint(nb_fname)', '# Get the full path to the notebook:\\n\\nimport ipynbname\\nnb_path = ipynbname.path()\\nprint(nb_path)', '# Get the notebook name:\\n\\nimport ipynbname\\nnb_fname = ipynbname.name()\\nprint(nb_fname)', 'import os\\n\\nnotebook_path = os.getcwd()\\nprint(notebook_path)', 'x = 10\\ny = 20\\nglobal_vars = globals()\\nprint(global_vars)', 'x = 10\\ny = 20\\nglobal_vars = globals()\\nprint(global_vars)'], 'Out': {}, 'get_ipython': <bound method InteractiveShell.get_ipython of <ipykernel.zmqshell.ZMQInteractiveShell object at 0x000001A21DD021D0>>, 'exit': <IPython.core.autocall.ZMQExitAutocall object at 0x000001A21DD1E490>, 'quit': <IPython.core.autocall.ZMQExitAutocall object at 0x000001A21DD1E490>, 'open': <function open at 0x000001A21BCE1B20>, '_': '', '__': '', '___': '', '__session__': 'C:\\\\Users\\\\user\\\\Python_Programming\\\\Python Built-In Functions.ipynb', '_i': '\\nx = 10\\ny = 20\\nglobal_vars = globals()\\nprint(global_vars)', '_ii': 'import os\\n\\nnotebook_path = os.getcwd()\\nprint(notebook_path)', '_iii': '\\n# Get the notebook name:\\n\\nimport ipynbname\\nnb_fname = ipynbname.name()\\nprint(nb_fname)', '_i1': '\\n# Display the global symbol table:\\n\\nx = globals()\\nprint(x)', 'x': 10, '_i2': '\\nx = 10\\ny = 20\\nglobal_vars = globals()\\nprint(global_vars)', 'y': 20, 'global_vars': {...}, '_i3': 'import ipynbname\\nnb_fname = ipynbname.name()\\nprint(nb_fname)', 'ipynbname': <module 'ipynbname' from 'C:\\\\Users\\\\user\\\\AppData\\\\Local\\\\Programs\\\\Python\\\\Python311\\\\Lib\\\\site-packages\\\\ipynbname\\\\__init__.py'>, 'nb_fname': 'Python Built-In Functions', '_i4': '\\n# Get the full path to the notebook:\\n\\nimport ipynbname\\nnb_path = ipynbname.path()\\nprint(nb_path)', 'nb_path': WindowsPath('C:/Users/user/Python_Programming/Python Built-In Functions.ipynb'), '_i5': '\\n# Get the notebook name:\\n\\nimport ipynbname\\nnb_fname = ipynbname.name()\\nprint(nb_fname)', '_i6': 'import os\\n\\nnotebook_path = os.getcwd()\\nprint(notebook_path)', 'os': <module 'os' (frozen)>, 'notebook_path': 'C:\\\\Users\\\\user\\\\Python_Programming', '_i7': '\\nx = 10\\ny = 20\\nglobal_vars = globals()\\nprint(global_vars)', '_i8': '\\nx = 10\\ny = 20\\nglobal_vars = globals()\\nprint(global_vars)'}\n"
     ]
    }
   ],
   "source": [
    "\n",
    "x = 10\n",
    "y = 20\n",
    "global_vars = globals()\n",
    "print(global_vars)\n"
   ]
  },
  {
   "cell_type": "markdown",
   "id": "07c82cab-7395-4f2b-bd4a-00d14c89040f",
   "metadata": {},
   "source": [
    "<br>\n",
    "\n",
    "<br>\n",
    "\n",
    "<div style=\"border: 1px solid pink; padding: 10px; background-color: #fff6f6; width: 400px\">\n",
    "<strong># Get the filename of the current program:</strong><br>\n",
    "    <br>\n",
    "<span style=\"color:blue\">x = globals(&nbsp;)</span>  <br>\n",
    "<span style=\"color:blue\">print(&nbsp;x[&nbsp;\"__file__\"&nbsp;]&nbsp;)</span>\n",
    "    <br>\n",
    "    <br>\n",
    "    <br>\n",
    "    C:\\Users\\user\\Python_Programming\\ide_practice.py\n",
    "</div>\n",
    "\n",
    "<br>\n",
    "\n",
    "<span style=\"background-color: yellow; font-size: larger\">&nbsp;It works in an IDE&nbsp;</span> where you deal with <span style=\"background-color: #CAFEFD; font-size: larger\">&nbsp;**.py**&nbsp;</span> files\n",
    "However, it will throw error when you try to run the same code in <span style=\"background-color: #CAFEFD; font-size: larger\">&nbsp;**.ipython**&nbsp;</span> file for example Jupyter Notebook.\n",
    "\n",
    "<span style=\"background-color: #CAFEFD\">"
   ]
  },
  {
   "cell_type": "code",
   "execution_count": 114,
   "id": "394544ac-5ddc-4c12-8776-25dadc631fc2",
   "metadata": {},
   "outputs": [
    {
     "ename": "KeyError",
     "evalue": "'__file__'",
     "output_type": "error",
     "traceback": [
      "\u001b[1;31m---------------------------------------------------------------------------\u001b[0m",
      "\u001b[1;31mKeyError\u001b[0m                                  Traceback (most recent call last)",
      "Cell \u001b[1;32mIn[114], line 4\u001b[0m\n\u001b[0;32m      1\u001b[0m \u001b[38;5;66;03m# Get the filename of the current program:\u001b[39;00m\n\u001b[0;32m      3\u001b[0m x \u001b[38;5;241m=\u001b[39m \u001b[38;5;28mglobals\u001b[39m()\n\u001b[1;32m----> 4\u001b[0m \u001b[38;5;28mprint\u001b[39m(\u001b[43mx\u001b[49m\u001b[43m[\u001b[49m\u001b[38;5;124;43m\"\u001b[39;49m\u001b[38;5;124;43m__file__\u001b[39;49m\u001b[38;5;124;43m\"\u001b[39;49m\u001b[43m]\u001b[49m)\n",
      "\u001b[1;31mKeyError\u001b[0m: '__file__'"
     ]
    }
   ],
   "source": [
    "\n",
    "# Get the filename of the current program:\n",
    "\n",
    "x = globals()\n",
    "print(x[\"__file__\"])\n"
   ]
  },
  {
   "cell_type": "markdown",
   "id": "f333858c-1b35-46cc-9f3c-3bf341c0eca4",
   "metadata": {},
   "source": [
    "<br>\n",
    "\n",
    "This is because in Jupyter Notebook, the  **'\\_\\_file\\_\\_'** attribute is not available in the global namespace because <span style=\"background-color: #CAFEFD\">Jupyter Notebook does not execute code from a script file like a traditional Python script</span>. Instead, it executes code interactively within the notebook interface, so there is no concept of a file representing the current program.\n",
    "\n",
    "<font size=\"+2\">⭐</font>&nbsp;If you want to get information about the notebook itself, such as the filename or path, you can use the **'\\_\\_file\\_\\_'** attribute in Jupyter, but it will not provide meaningful information. Instead, you can use modules like <span style=\"background-color: yellow; font-size: larger\">&nbsp;**os**&nbsp;</span> or <span style=\"background-color: yellow; font-size: larger\">&nbsp;**ipynbname**&nbsp;</span> to get information about the notebook environment.\n"
   ]
  },
  {
   "cell_type": "code",
   "execution_count": 15,
   "id": "7659e892-3c8d-411b-83f3-5ae029c93824",
   "metadata": {},
   "outputs": [
    {
     "name": "stdout",
     "output_type": "stream",
     "text": [
      "C:\\Users\\user\\Python_Programming\n"
     ]
    }
   ],
   "source": [
    "\n",
    "import os\n",
    "\n",
    "notebook_path = os.getcwd()\n",
    "print(notebook_path)\n"
   ]
  },
  {
   "cell_type": "code",
   "execution_count": 10,
   "id": "3822993f-6f04-4fb8-805d-edc7b8aac5b9",
   "metadata": {},
   "outputs": [
    {
     "name": "stdout",
     "output_type": "stream",
     "text": [
      "Python Built-In Functions\n"
     ]
    }
   ],
   "source": [
    "\n",
    "# Get the notebook name:\n",
    "\n",
    "import ipynbname\n",
    "nb_fname = ipynbname.name()\n",
    "print(nb_fname)\n"
   ]
  },
  {
   "cell_type": "code",
   "execution_count": 11,
   "id": "9f34fadd-bfdd-417b-94f3-2f7e06e38bf2",
   "metadata": {},
   "outputs": [
    {
     "name": "stdout",
     "output_type": "stream",
     "text": [
      "C:\\Users\\user\\Python_Programming\\Python Built-In Functions.ipynb\n"
     ]
    }
   ],
   "source": [
    "\n",
    "# Get the full path to the notebook:\n",
    "\n",
    "import ipynbname\n",
    "nb_path = ipynbname.path()\n",
    "print(nb_path)\n"
   ]
  },
  {
   "cell_type": "code",
   "execution_count": null,
   "id": "c58ab816-1ffc-44f2-be57-786c091b5813",
   "metadata": {},
   "outputs": [],
   "source": []
  },
  {
   "cell_type": "markdown",
   "id": "5b20fda1-82e2-487a-ae03-a59d28253cd1",
   "metadata": {},
   "source": [
    "<br>\n",
    "\n",
    "<font size=\"+1\"><span style=\"background-color: yellow;font-size: larger\">&nbsp;**hasattr( )**&nbsp;</span></font> : returns **True** if the specified object has the <span style=\"background-color: #CAFEFD\">specified attribute</span>, otherwise **False**.\n",
    "\n",
    "<br>\n",
    "\n",
    "<div style=\"border: 1px solid pink; padding: 10px; margin-left: 120px; width: 300px; background-color: #fff6f6\">\n",
    "\n",
    "**getattr(** object, attribute **)**\n",
    "\n",
    "</div>\n"
   ]
  },
  {
   "cell_type": "code",
   "execution_count": 15,
   "id": "e98f2936-c1ec-45ea-9115-f96eb300edb3",
   "metadata": {},
   "outputs": [
    {
     "name": "stdout",
     "output_type": "stream",
     "text": [
      "True\n",
      "False\n"
     ]
    }
   ],
   "source": [
    "\n",
    "# Check if the \"Person\" object has the \"age\" property:\n",
    "\n",
    "class Person:\n",
    "  name = \"Avinash\"\n",
    "  age = 30\n",
    "  country = \"India\"\n",
    "\n",
    "x = hasattr(Person, 'age')\n",
    "print(x)\n",
    "\n",
    "y = hasattr(Person, 'proffession')\n",
    "print(y)\n"
   ]
  },
  {
   "cell_type": "code",
   "execution_count": null,
   "id": "2e2cb64d-f71d-4cac-8290-e2ef3ee79c34",
   "metadata": {},
   "outputs": [],
   "source": []
  },
  {
   "cell_type": "markdown",
   "id": "02e69d5f-9b0f-4a48-a37c-1fddd81b115c",
   "metadata": {},
   "source": [
    "<br>\n",
    "\n",
    "<font size=\"+1\"><span style=\"background-color: yellow;font-size: larger\">&nbsp;**hash( )**&nbsp;</span></font> : Returns the **hash value** (an integer) of a specified object. \n",
    "\n",
    "This hash value is used to <span style=\"background-color: #CAFEFD\">quickly compare dictionary keys during dictionary lookups</span>, which makes dictionaries highly efficient data structures for storing and retrieving key-value pairs.\n",
    "\n",
    "The hash value is determined based on the object's contents and is consistent for the object's lifetime. Immutable objects such as integers, floats, strings, and tuples have hash values, while mutable objects such as lists and dictionaries do not.\n",
    "\n",
    "<br>\n",
    "\n",
    "<div style=\"border: 1px solid pink; padding: 10px; margin-left: 120px; width: 200px; background-color: #fff6f6\">\n",
    "\n",
    "**hash(** object **)**\n",
    "\n",
    "</div>\n"
   ]
  },
  {
   "cell_type": "code",
   "execution_count": 17,
   "id": "8cf2bbc4-3cb3-4ea4-b088-e3203c83023f",
   "metadata": {},
   "outputs": [
    {
     "name": "stdout",
     "output_type": "stream",
     "text": [
      "42\n",
      "-6177894933079526091\n",
      "529344067295497451\n"
     ]
    }
   ],
   "source": [
    "\n",
    "print(hash(42))            # Output: 42\n",
    "print(hash('hello'))       # Output: 3322036811362428947\n",
    "print(hash((1, 2, 3)))     # Output: 2528502973977326415\n"
   ]
  },
  {
   "cell_type": "code",
   "execution_count": null,
   "id": "0a2e61c5-a0a8-4a82-ab60-d94cf2d5e143",
   "metadata": {},
   "outputs": [],
   "source": []
  },
  {
   "cell_type": "markdown",
   "id": "1ed09022-7342-461c-840a-6d5a43136cb3",
   "metadata": {},
   "source": [
    "<br>\n",
    "\n",
    "<font size=\"+1\"><span style=\"background-color: yellow;font-size: larger\">&nbsp;**help( )**&nbsp;</span></font> : Executes the built-in help system. \n",
    "\n",
    "The **help( )** function is used to <span style=\"background-color: #CAFEFD\">display documentation</span> about objects, modules, functions, classes, or methods. It's a built-in function that provides interactive help for Python objects.\n",
    "\n",
    "The **help( )** function will display <span style=\"background-color: #CAFEFD\">documentation strings (docstrings)</span> for the specified object or provide <span style=\"background-color: #CAFEFD\">general information</span> about the object, module, function, class, or method.\n",
    "\n",
    "<br>\n",
    "\n",
    "<font size=\"+2\"><span style=\"color: red\">↳</span></font>&nbsp;&nbsp;**1.** To get help on a specific object, module, function, class, or method, simply pass it as an argument to the **help( )** function.\n"
   ]
  },
  {
   "cell_type": "code",
   "execution_count": 19,
   "id": "42dbbcb2-9bd6-4755-80f7-973cbd473928",
   "metadata": {},
   "outputs": [
    {
     "name": "stdout",
     "output_type": "stream",
     "text": [
      "Help on class list in module builtins:\n",
      "\n",
      "class list(object)\n",
      " |  list(iterable=(), /)\n",
      " |  \n",
      " |  Built-in mutable sequence.\n",
      " |  \n",
      " |  If no argument is given, the constructor creates a new empty list.\n",
      " |  The argument must be an iterable if specified.\n",
      " |  \n",
      " |  Methods defined here:\n",
      " |  \n",
      " |  __add__(self, value, /)\n",
      " |      Return self+value.\n",
      " |  \n",
      " |  __contains__(self, key, /)\n",
      " |      Return key in self.\n",
      " |  \n",
      " |  __delitem__(self, key, /)\n",
      " |      Delete self[key].\n",
      " |  \n",
      " |  __eq__(self, value, /)\n",
      " |      Return self==value.\n",
      " |  \n",
      " |  __ge__(self, value, /)\n",
      " |      Return self>=value.\n",
      " |  \n",
      " |  __getattribute__(self, name, /)\n",
      " |      Return getattr(self, name).\n",
      " |  \n",
      " |  __getitem__(...)\n",
      " |      x.__getitem__(y) <==> x[y]\n",
      " |  \n",
      " |  __gt__(self, value, /)\n",
      " |      Return self>value.\n",
      " |  \n",
      " |  __iadd__(self, value, /)\n",
      " |      Implement self+=value.\n",
      " |  \n",
      " |  __imul__(self, value, /)\n",
      " |      Implement self*=value.\n",
      " |  \n",
      " |  __init__(self, /, *args, **kwargs)\n",
      " |      Initialize self.  See help(type(self)) for accurate signature.\n",
      " |  \n",
      " |  __iter__(self, /)\n",
      " |      Implement iter(self).\n",
      " |  \n",
      " |  __le__(self, value, /)\n",
      " |      Return self<=value.\n",
      " |  \n",
      " |  __len__(self, /)\n",
      " |      Return len(self).\n",
      " |  \n",
      " |  __lt__(self, value, /)\n",
      " |      Return self<value.\n",
      " |  \n",
      " |  __mul__(self, value, /)\n",
      " |      Return self*value.\n",
      " |  \n",
      " |  __ne__(self, value, /)\n",
      " |      Return self!=value.\n",
      " |  \n",
      " |  __repr__(self, /)\n",
      " |      Return repr(self).\n",
      " |  \n",
      " |  __reversed__(self, /)\n",
      " |      Return a reverse iterator over the list.\n",
      " |  \n",
      " |  __rmul__(self, value, /)\n",
      " |      Return value*self.\n",
      " |  \n",
      " |  __setitem__(self, key, value, /)\n",
      " |      Set self[key] to value.\n",
      " |  \n",
      " |  __sizeof__(self, /)\n",
      " |      Return the size of the list in memory, in bytes.\n",
      " |  \n",
      " |  append(self, object, /)\n",
      " |      Append object to the end of the list.\n",
      " |  \n",
      " |  clear(self, /)\n",
      " |      Remove all items from list.\n",
      " |  \n",
      " |  copy(self, /)\n",
      " |      Return a shallow copy of the list.\n",
      " |  \n",
      " |  count(self, value, /)\n",
      " |      Return number of occurrences of value.\n",
      " |  \n",
      " |  extend(self, iterable, /)\n",
      " |      Extend list by appending elements from the iterable.\n",
      " |  \n",
      " |  index(self, value, start=0, stop=9223372036854775807, /)\n",
      " |      Return first index of value.\n",
      " |      \n",
      " |      Raises ValueError if the value is not present.\n",
      " |  \n",
      " |  insert(self, index, object, /)\n",
      " |      Insert object before index.\n",
      " |  \n",
      " |  pop(self, index=-1, /)\n",
      " |      Remove and return item at index (default last).\n",
      " |      \n",
      " |      Raises IndexError if list is empty or index is out of range.\n",
      " |  \n",
      " |  remove(self, value, /)\n",
      " |      Remove first occurrence of value.\n",
      " |      \n",
      " |      Raises ValueError if the value is not present.\n",
      " |  \n",
      " |  reverse(self, /)\n",
      " |      Reverse *IN PLACE*.\n",
      " |  \n",
      " |  sort(self, /, *, key=None, reverse=False)\n",
      " |      Sort the list in ascending order and return None.\n",
      " |      \n",
      " |      The sort is in-place (i.e. the list itself is modified) and stable (i.e. the\n",
      " |      order of two equal elements is maintained).\n",
      " |      \n",
      " |      If a key function is given, apply it once to each list item and sort them,\n",
      " |      ascending or descending, according to their function values.\n",
      " |      \n",
      " |      The reverse flag can be set to sort in descending order.\n",
      " |  \n",
      " |  ----------------------------------------------------------------------\n",
      " |  Class methods defined here:\n",
      " |  \n",
      " |  __class_getitem__(...) from builtins.type\n",
      " |      See PEP 585\n",
      " |  \n",
      " |  ----------------------------------------------------------------------\n",
      " |  Static methods defined here:\n",
      " |  \n",
      " |  __new__(*args, **kwargs) from builtins.type\n",
      " |      Create and return a new object.  See help(type) for accurate signature.\n",
      " |  \n",
      " |  ----------------------------------------------------------------------\n",
      " |  Data and other attributes defined here:\n",
      " |  \n",
      " |  __hash__ = None\n",
      "\n"
     ]
    }
   ],
   "source": [
    "\n",
    "help(list)\n"
   ]
  },
  {
   "cell_type": "markdown",
   "id": "ce1e0309-65eb-4cda-8cb6-6858cdb407a3",
   "metadata": {},
   "source": [
    "<br>\n",
    "\n",
    "<font size=\"+2\"><span style=\"color: red\">↳</span></font>&nbsp;&nbsp;**2.** You can also use **help( )** without arguments to enter an interactive help session. In this session, you can type the name of the object, module, function, class, or method you want help on."
   ]
  },
  {
   "cell_type": "code",
   "execution_count": 21,
   "id": "74d685ca-3089-4c7c-977b-8816c7bb0729",
   "metadata": {},
   "outputs": [
    {
     "name": "stdout",
     "output_type": "stream",
     "text": [
      "\n",
      "Welcome to Python 3.11's help utility!\n",
      "\n",
      "If this is your first time using Python, you should definitely check out\n",
      "the tutorial on the internet at https://docs.python.org/3.11/tutorial/.\n",
      "\n",
      "Enter the name of any module, keyword, or topic to get help on writing\n",
      "Python programs and using Python modules.  To quit this help utility and\n",
      "return to the interpreter, just type \"quit\".\n",
      "\n",
      "To get a list of available modules, keywords, symbols, or topics, type\n",
      "\"modules\", \"keywords\", \"symbols\", or \"topics\".  Each module also comes\n",
      "with a one-line summary of what it does; to list the modules whose name\n",
      "or summary contain a given string such as \"spam\", type \"modules spam\".\n",
      "\n"
     ]
    },
    {
     "name": "stdin",
     "output_type": "stream",
     "text": [
      "help>  lambda\n"
     ]
    },
    {
     "name": "stdout",
     "output_type": "stream",
     "text": [
      "Lambdas\n",
      "*******\n",
      "\n",
      "   lambda_expr ::= \"lambda\" [parameter_list] \":\" expression\n",
      "\n",
      "Lambda expressions (sometimes called lambda forms) are used to create\n",
      "anonymous functions. The expression \"lambda parameters: expression\"\n",
      "yields a function object.  The unnamed object behaves like a function\n",
      "object defined with:\n",
      "\n",
      "   def <lambda>(parameters):\n",
      "       return expression\n",
      "\n",
      "See section Function definitions for the syntax of parameter lists.\n",
      "Note that functions created with lambda expressions cannot contain\n",
      "statements or annotations.\n",
      "\n",
      "Related help topics: FUNCTIONS\n",
      "\n"
     ]
    },
    {
     "name": "stdin",
     "output_type": "stream",
     "text": [
      "help>  quit\n"
     ]
    },
    {
     "name": "stdout",
     "output_type": "stream",
     "text": [
      "\n",
      "You are now leaving help and returning to the Python interpreter.\n",
      "If you want to ask for help on a particular object directly from the\n",
      "interpreter, you can type \"help(object)\".  Executing \"help('string')\"\n",
      "has the same effect as typing a particular string at the help> prompt.\n"
     ]
    }
   ],
   "source": [
    "\n",
    "help()\n"
   ]
  },
  {
   "cell_type": "markdown",
   "id": "0cd9c322-08ce-48d2-a0e3-ed9860a55c7e",
   "metadata": {},
   "source": [
    "<br>\n",
    "\n",
    "<font size=\"+2\"><span style=\"color: red\">↳</span></font>&nbsp;&nbsp;**3.** To exit the interactive help session, type **quit** or press **Ctrl + D**.\n",
    "\n",
    "\n"
   ]
  },
  {
   "cell_type": "code",
   "execution_count": null,
   "id": "0b1ce54d-6fd6-4660-bb25-6ca72eb183f1",
   "metadata": {},
   "outputs": [],
   "source": []
  },
  {
   "cell_type": "markdown",
   "id": "cd4ea1db-7757-4fe9-b008-f4a47b0270e7",
   "metadata": {},
   "source": [
    "<br>\n",
    "\n",
    "<font size=\"+1\"><span style=\"background-color: yellow;font-size: larger\">&nbsp;**hex( )**&nbsp;</span></font> : converts the specified number into a hexadecimal value.\n",
    "\n",
    "The returned string always starts with the prefix <span style=\"background-color: #FFE9FF; color: red\">&nbsp;<font size=\"+1\">0x</font>&nbsp;</span>.\n",
    "\n",
    "<br>\n",
    "\n",
    "<div style=\"border: 1px solid pink; padding: 10px; margin-left: 120px; width: 200px; background-color: #fff6f6\">\n",
    "\n",
    "**hex(** int **)**\n",
    "\n",
    "</div>\n",
    "\n",
    "<br>\n",
    "\n",
    "&nbsp;&nbsp;&nbsp;&nbsp;&nbsp;&nbsp;&nbsp;&nbsp;&nbsp;&nbsp;&nbsp;&nbsp;&nbsp;&nbsp;&nbsp;&nbsp;&nbsp;&nbsp;&nbsp;&nbsp;&nbsp;&nbsp;&nbsp;&nbsp;&nbsp;&nbsp;&nbsp;&nbsp;&nbsp;&nbsp;&nbsp;&nbsp;where, int  =====>  an integer number"
   ]
  },
  {
   "cell_type": "code",
   "execution_count": 25,
   "id": "4166852e-4ae8-407e-9eab-eb1cf734dd3f",
   "metadata": {},
   "outputs": [
    {
     "name": "stdout",
     "output_type": "stream",
     "text": [
      "0xff\n"
     ]
    }
   ],
   "source": [
    "\n",
    "# Convert 255 into hexadecimal value:\n",
    "\n",
    "x = hex(255)\n",
    "\n",
    "print(x)\n"
   ]
  },
  {
   "cell_type": "code",
   "execution_count": null,
   "id": "4ac5517a-f96c-44d7-9556-951d0acd0cb3",
   "metadata": {},
   "outputs": [],
   "source": []
  },
  {
   "cell_type": "markdown",
   "id": "87f1ec34-6429-4ddc-8356-b505c6da8acc",
   "metadata": {},
   "source": [
    "<br>\n",
    "\n",
    "<font size=\"+1\"><span style=\"background-color: yellow;font-size: larger\">&nbsp;**id( )**&nbsp;</span></font> : returns a **unique id** for the specified object.\n",
    "\n",
    "It used to return the **identity ( <span style=\"background-color: #CAFEFD\">memory address </span> &nbsp;)** of an object. The identity of an object is unique and remains constant during the lifetime of the object.\n",
    "\n",
    "All objects in Python has its own unique id.\n",
    "\n",
    "The id is assigned to the object when it is created.\n",
    "\n",
    "The id is the object's memory address, and will be different for each time you run the program. (&nbsp;<span style=\"background-color: #CAFEFD\">except for some object that has a **constant unique id**, like integers from **-5 to 256**</span> &nbsp;)\n",
    "\n",
    "<div style=\"border: 1px solid pink; padding: 10px; margin-left: 120px; width: 200px; background-color: #fff6f6\">\n",
    "\n",
    "**id(** object **)**\n",
    "\n",
    "</div>\n",
    "\n",
    "<br>\n",
    "\n",
    "&nbsp;&nbsp;&nbsp;&nbsp;&nbsp;&nbsp;&nbsp;&nbsp;&nbsp;&nbsp;&nbsp;&nbsp;&nbsp;&nbsp;&nbsp;&nbsp;&nbsp;&nbsp;&nbsp;&nbsp;&nbsp;&nbsp;&nbsp;&nbsp;&nbsp;&nbsp;&nbsp;&nbsp;&nbsp;&nbsp;&nbsp;&nbsp;where object ====> object, String, Number, List, Class etc.\n"
   ]
  },
  {
   "cell_type": "code",
   "execution_count": 40,
   "id": "8aef1fe9-0c60-40fb-ad63-f882c1058059",
   "metadata": {},
   "outputs": [
    {
     "name": "stdout",
     "output_type": "stream",
     "text": [
      "140727353469000\n",
      "1795797083072\n"
     ]
    }
   ],
   "source": [
    "\n",
    "x = 42\n",
    "print(id(x))  # Output: A memory address where the integer 42 is stored\n",
    "\n",
    "\n",
    "y = [1, 2, 3]\n",
    "print(id(y))  # Output: A memory address where the list [1, 2, 3] is stored\n"
   ]
  },
  {
   "cell_type": "markdown",
   "id": "dd689a32-806e-4ae5-96a8-8fa4d22e1ac7",
   "metadata": {},
   "source": [
    "<br>\n",
    "\n",
    "<span style=\"background-color: #CAFEFD\">The **id( )** function is often used for **debugging** or to verify that two variables or objects reference the same underlying data in memory</span>. \n",
    "\n",
    "<font size=\"+2\">⭐</font>However, it's important to note that while two objects with the same **id( )** are guaranteed to be the same object, two objects with different **id( )** values may or may not be different objects, depending on the Python implementation.\n"
   ]
  },
  {
   "cell_type": "code",
   "execution_count": 32,
   "id": "c2559552-d37e-4b64-8d11-29529e8f15b2",
   "metadata": {},
   "outputs": [
    {
     "name": "stdout",
     "output_type": "stream",
     "text": [
      "140727353469000\n",
      "140727353469000\n"
     ]
    }
   ],
   "source": [
    "\n",
    "# Example 1: Immutable objects\n",
    "x = 42\n",
    "y = 42\n",
    "\n",
    "\n",
    "print(id(x))  # Output: A memory address\n",
    "print(id(y))  # Output: The same memory address\n"
   ]
  },
  {
   "cell_type": "markdown",
   "id": "3de77f91-468f-43cc-ae8b-bd6c12bd22e4",
   "metadata": {},
   "source": [
    "<font size=\"+2\"><span>↳</span></font>&nbsp;&nbsp;<span style=\"color: blue\">Since integers are immutable, Python reuses the memory address for the integer 42</span>. Therefore, x and y reference the same object.\n",
    "\n",
    "<br>"
   ]
  },
  {
   "cell_type": "code",
   "execution_count": 37,
   "id": "ce51d4f0-40e0-4a2f-9b56-bb93d23af5d1",
   "metadata": {},
   "outputs": [
    {
     "name": "stdout",
     "output_type": "stream",
     "text": [
      "1795812007872\n",
      "1795796446336\n"
     ]
    }
   ],
   "source": [
    "\n",
    "# Example 2: Mutable objects\n",
    "a = [1, 2, 3]\n",
    "b = [1, 2, 3]\n",
    "\n",
    "\n",
    "print(id(a))  # Output: A memory address\n",
    "print(id(b))  # Output: A different memory address\n"
   ]
  },
  {
   "cell_type": "markdown",
   "id": "5e6cb9a1-8bac-4515-bfd1-192755307eb4",
   "metadata": {},
   "source": [
    "<font size=\"+2\"><span>↳</span></font>&nbsp;&nbsp;<span style=\"color: blue\">Even though the lists have the same values, Python creates separate objects for a and b because lists are mutable</span>. Therefore, a and b reference different objects.\n",
    "\n",
    "<br>\n"
   ]
  },
  {
   "cell_type": "code",
   "execution_count": 38,
   "id": "55e354eb-068e-42d3-8483-aaea0b40b826",
   "metadata": {},
   "outputs": [
    {
     "name": "stdout",
     "output_type": "stream",
     "text": [
      "1795776014640\n",
      "1795776014640\n"
     ]
    }
   ],
   "source": [
    "\n",
    "# Example 3: Strings\n",
    "s1 = \"hello\"\n",
    "s2 = \"hello\"\n",
    "\n",
    "print(id(s1))  # Output: A memory address\n",
    "print(id(s2))  # Output: The same memory address\n"
   ]
  },
  {
   "cell_type": "markdown",
   "id": "caa6a95f-f179-4aec-9dd0-4eacd4c8e2ab",
   "metadata": {},
   "source": [
    "\n",
    "<font size=\"+2\"><span>↳</span></font>&nbsp;&nbsp;<span style=\"color: blue\">Similar to integers, Python reuses memory addresses for identical string literals</span>. Therefore, s1 and s2 reference the same string object.\n"
   ]
  },
  {
   "cell_type": "code",
   "execution_count": null,
   "id": "1f216838-aae8-4beb-a6a4-73574bbc74d0",
   "metadata": {},
   "outputs": [],
   "source": []
  },
  {
   "cell_type": "markdown",
   "id": "d0917ab7-a7de-4d48-8a04-40dd1538be25",
   "metadata": {},
   "source": [
    "<br>\n",
    "\n",
    "<font size=\"+1\"><span style=\"background-color: yellow;font-size: larger\">&nbsp;**input( )**&nbsp;</span></font> : allows <span style=\"background-color: #CAFEFD\">user input</span>.\n",
    "\n",
    "<br>\n",
    "\n",
    "<div style=\"border: 1px solid pink; padding: 10px; margin-left: 120px; width: 200px; background-color: #fff6f6\">\n",
    "\n",
    "**input(** prompt **)**\n",
    "\n",
    "</div>\n",
    "\n",
    "<br>\n",
    "\n",
    "&nbsp;&nbsp;&nbsp;&nbsp;&nbsp;&nbsp;&nbsp;&nbsp;&nbsp;&nbsp;&nbsp;&nbsp;&nbsp;&nbsp;&nbsp;&nbsp;&nbsp;&nbsp;&nbsp;&nbsp;&nbsp;&nbsp;&nbsp;&nbsp;&nbsp;&nbsp;&nbsp;&nbsp;&nbsp;&nbsp;&nbsp;where, prompt &nbsp;=====>&nbsp; A String, representing a default message before the input.\n",
    "\n"
   ]
  },
  {
   "cell_type": "code",
   "execution_count": 42,
   "id": "00ffe877-b844-40d4-b136-ba7c667ee68c",
   "metadata": {},
   "outputs": [
    {
     "name": "stdout",
     "output_type": "stream",
     "text": [
      "Enter your name:\n"
     ]
    },
    {
     "name": "stdin",
     "output_type": "stream",
     "text": [
      " Avinash\n"
     ]
    },
    {
     "name": "stdout",
     "output_type": "stream",
     "text": [
      "Hello, Avinash\n"
     ]
    }
   ],
   "source": [
    "\n",
    "# Ask for the user's name and print it:\n",
    "\n",
    "print('Enter your name:')\n",
    "x = input()\n",
    "print('Hello, ' + x)\n"
   ]
  },
  {
   "cell_type": "code",
   "execution_count": 43,
   "id": "9f9595aa-0f1b-436a-b539-2f357317c1f6",
   "metadata": {},
   "outputs": [
    {
     "name": "stdin",
     "output_type": "stream",
     "text": [
      "Enter your name: Data Engineering is awesome!\n"
     ]
    },
    {
     "name": "stdout",
     "output_type": "stream",
     "text": [
      "Hello, Data Engineering is awesome!\n"
     ]
    }
   ],
   "source": [
    "\n",
    "# Use the prompt parameter to write a message before the input:\n",
    "\n",
    "x = input('Enter your name:')\n",
    "print('Hello, ' + x)\n"
   ]
  },
  {
   "cell_type": "code",
   "execution_count": null,
   "id": "080a881c-193b-4f36-b792-ba261886d329",
   "metadata": {},
   "outputs": [],
   "source": []
  },
  {
   "cell_type": "markdown",
   "id": "b85fbd8a-ff47-4dbb-a116-4e055c790399",
   "metadata": {},
   "source": [
    "<br>\n",
    "\n",
    "<font size=\"+1\"><span style=\"background-color: yellow;font-size: larger\">&nbsp;**int( )**&nbsp;</span></font> : converts the specified value into an integer number.\n",
    "\n",
    "<br>\n",
    "\n",
    "<div style=\"border: 1px solid pink; padding: 10px; margin-left: 120px; width: 200px; background-color: #fff6f6\">\n",
    "\n",
    "**int(** value, base **)**\n",
    "\n",
    "</div>\n",
    "\n",
    "<br>\n",
    "\n",
    "&nbsp;&nbsp;&nbsp;&nbsp;&nbsp;&nbsp;&nbsp;&nbsp;&nbsp;&nbsp;&nbsp;&nbsp;&nbsp;&nbsp;&nbsp;&nbsp;&nbsp;&nbsp;&nbsp;&nbsp;&nbsp;&nbsp;&nbsp;&nbsp;&nbsp;&nbsp;&nbsp;&nbsp;&nbsp;&nbsp;&nbsp;&nbsp;value ======> A <span style=\"background-color: #CAFEFD\">number or a string</span> that can be converted into an integer number.  <br>\n",
    "&nbsp;&nbsp;&nbsp;&nbsp;&nbsp;&nbsp;&nbsp;&nbsp;&nbsp;&nbsp;&nbsp;&nbsp;&nbsp;&nbsp;&nbsp;&nbsp;&nbsp;&nbsp;&nbsp;&nbsp;&nbsp;&nbsp;&nbsp;&nbsp;&nbsp;&nbsp;&nbsp;&nbsp;&nbsp;&nbsp;&nbsp;&nbsp;base ======> A number representing the number format. Default value: **10**\n"
   ]
  },
  {
   "cell_type": "code",
   "execution_count": 53,
   "id": "873feb0f-f318-4e02-8242-c508cbf5fb0c",
   "metadata": {},
   "outputs": [
    {
     "name": "stdout",
     "output_type": "stream",
     "text": [
      "10\n",
      "3\n",
      "42\n"
     ]
    }
   ],
   "source": [
    "\n",
    "print(int(10))            # Output: 10\n",
    "print(int(3.14))          # Output: 3\n",
    "print(int(\"42\"))          # Output: 42\n"
   ]
  },
  {
   "cell_type": "code",
   "execution_count": 74,
   "id": "8adacb79-f1d3-4726-8416-12df15d83144",
   "metadata": {},
   "outputs": [
    {
     "name": "stdout",
     "output_type": "stream",
     "text": [
      "255\n"
     ]
    }
   ],
   "source": [
    "\n",
    "# Convert hexadecimal string to integer\n",
    "print(int(\"FF\", 16))      # Output: 255\n"
   ]
  },
  {
   "cell_type": "code",
   "execution_count": 75,
   "id": "6dbfc85f-8722-43e6-a5a6-4bb80266bb28",
   "metadata": {},
   "outputs": [
    {
     "ename": "ValueError",
     "evalue": "invalid literal for int() with base 8: 'FF'",
     "output_type": "error",
     "traceback": [
      "\u001b[1;31m---------------------------------------------------------------------------\u001b[0m",
      "\u001b[1;31mValueError\u001b[0m                                Traceback (most recent call last)",
      "Cell \u001b[1;32mIn[75], line 2\u001b[0m\n\u001b[0;32m      1\u001b[0m \u001b[38;5;66;03m# But\u001b[39;00m\n\u001b[1;32m----> 2\u001b[0m \u001b[38;5;28mprint\u001b[39m(\u001b[38;5;28;43mint\u001b[39;49m\u001b[43m(\u001b[49m\u001b[38;5;124;43m\"\u001b[39;49m\u001b[38;5;124;43mFF\u001b[39;49m\u001b[38;5;124;43m\"\u001b[39;49m\u001b[43m,\u001b[49m\u001b[43m \u001b[49m\u001b[38;5;241;43m8\u001b[39;49m\u001b[43m)\u001b[49m)\n",
      "\u001b[1;31mValueError\u001b[0m: invalid literal for int() with base 8: 'FF'"
     ]
    }
   ],
   "source": [
    "\n",
    "# But\n",
    "print(int(\"FF\", 8))\n"
   ]
  },
  {
   "cell_type": "code",
   "execution_count": 76,
   "id": "ec968ded-1b6f-4499-b06e-c7f6540824cb",
   "metadata": {},
   "outputs": [
    {
     "name": "stdout",
     "output_type": "stream",
     "text": [
      "10\n",
      "1010\n"
     ]
    }
   ],
   "source": [
    "\n",
    "# Convert binary string to integer\n",
    "print(int(\"1010\", 2))     # Output: 10\n",
    "print(int(\"1010\", 10))    # Output: 1010\n"
   ]
  },
  {
   "cell_type": "code",
   "execution_count": 77,
   "id": "de4f12b6-e252-476f-8377-69a6138654b6",
   "metadata": {},
   "outputs": [
    {
     "ename": "TypeError",
     "evalue": "int() can't convert non-string with explicit base",
     "output_type": "error",
     "traceback": [
      "\u001b[1;31m---------------------------------------------------------------------------\u001b[0m",
      "\u001b[1;31mTypeError\u001b[0m                                 Traceback (most recent call last)",
      "Cell \u001b[1;32mIn[77], line 1\u001b[0m\n\u001b[1;32m----> 1\u001b[0m \u001b[38;5;28mprint\u001b[39m(\u001b[38;5;28;43mint\u001b[39;49m\u001b[43m(\u001b[49m\u001b[38;5;241;43m1010\u001b[39;49m\u001b[43m,\u001b[49m\u001b[43m \u001b[49m\u001b[38;5;241;43m2\u001b[39;49m\u001b[43m)\u001b[49m)\n",
      "\u001b[1;31mTypeError\u001b[0m: int() can't convert non-string with explicit base"
     ]
    }
   ],
   "source": [
    "\n",
    "print(int(1010, 2))\n"
   ]
  },
  {
   "cell_type": "code",
   "execution_count": 78,
   "id": "b2be9c73-7397-44a0-a04a-812b6b5952fa",
   "metadata": {},
   "outputs": [
    {
     "ename": "TypeError",
     "evalue": "int() can't convert non-string with explicit base",
     "output_type": "error",
     "traceback": [
      "\u001b[1;31m---------------------------------------------------------------------------\u001b[0m",
      "\u001b[1;31mTypeError\u001b[0m                                 Traceback (most recent call last)",
      "Cell \u001b[1;32mIn[78], line 1\u001b[0m\n\u001b[1;32m----> 1\u001b[0m \u001b[38;5;28mprint\u001b[39m(\u001b[38;5;28;43mint\u001b[39;49m\u001b[43m(\u001b[49m\u001b[38;5;241;43m1010\u001b[39;49m\u001b[43m,\u001b[49m\u001b[43m \u001b[49m\u001b[38;5;241;43m10\u001b[39;49m\u001b[43m)\u001b[49m)\n",
      "\u001b[1;31mTypeError\u001b[0m: int() can't convert non-string with explicit base"
     ]
    }
   ],
   "source": [
    "\n",
    "print(int(1010, 10))\n"
   ]
  },
  {
   "cell_type": "code",
   "execution_count": 214,
   "id": "383f81a3-d4a1-4f52-86bb-1d68301591d8",
   "metadata": {},
   "outputs": [
    {
     "name": "stdout",
     "output_type": "stream",
     "text": [
      "1\n",
      "0\n",
      "123\n",
      "-123\n",
      "9\n",
      "10\n"
     ]
    }
   ],
   "source": [
    "\n",
    "print(int(True))\n",
    "print(int(False))\n",
    "print(int(\"123\"))\n",
    "print(int(\"-123\"))\n",
    "print(int(9.5))\n",
    "print(int(\"0b1010\", base=2))\n"
   ]
  },
  {
   "cell_type": "code",
   "execution_count": null,
   "id": "00b4610d-09df-48cd-8591-d42226d5fd20",
   "metadata": {},
   "outputs": [],
   "source": []
  },
  {
   "cell_type": "markdown",
   "id": "5be800ca-5dfd-4294-a191-8d99c0164d96",
   "metadata": {},
   "source": [
    "<br>\n",
    "\n",
    "<br>\n",
    "\n",
    "<font size=\"+1\"><span style=\"background-color: yellow;font-size: larger\">&nbsp;**isinstance( )**&nbsp;</span></font> : returns **True** if the <span style=\"background-color: #CAFEFD\">specified object is of the specified type</span>, otherwise **False**.\n",
    "\n",
    "If the type parameter is a tuple, this function will return True if the object is one of the types in the tuple.\n",
    "\n",
    "<br>\n",
    "\n",
    "<div style=\"border: 1px solid pink; padding: 10px; margin-left: 120px; width: 200px; background-color: #fff6f6\">\n",
    "\n",
    "**isinstance(** object, type **)**\n",
    "\n",
    "</div>\n",
    "\n",
    "<br>\n",
    "\n",
    "&nbsp;&nbsp;&nbsp;&nbsp;&nbsp;&nbsp;&nbsp;&nbsp;&nbsp;&nbsp;&nbsp;&nbsp;&nbsp;&nbsp;&nbsp;&nbsp;&nbsp;&nbsp;&nbsp;&nbsp;&nbsp;&nbsp;&nbsp;&nbsp;&nbsp;&nbsp;&nbsp;&nbsp;&nbsp;&nbsp;&nbsp;&nbsp;where type &nbsp;=======>&nbsp;\tA type or a class, or a tuple of types and/or classes"
   ]
  },
  {
   "cell_type": "code",
   "execution_count": 80,
   "id": "0a4b00b8-353a-4506-8f9c-a4dadc1932ec",
   "metadata": {},
   "outputs": [
    {
     "name": "stdout",
     "output_type": "stream",
     "text": [
      "True\n"
     ]
    }
   ],
   "source": [
    "\n",
    "# Check if the number 5 is an integer:\n",
    "\n",
    "x = isinstance(5, int)\n",
    "\n",
    "print(x)\n"
   ]
  },
  {
   "cell_type": "code",
   "execution_count": 83,
   "id": "bf0b5424-af54-4230-a0d8-22a81b829d06",
   "metadata": {},
   "outputs": [
    {
     "name": "stdout",
     "output_type": "stream",
     "text": [
      "True\n"
     ]
    }
   ],
   "source": [
    "\n",
    "# Check if \"Hello\" is one of the types described in the type parameter:\n",
    "\n",
    "x = isinstance(\"Hello\", (float, int, str, list, dict, tuple))\n",
    "\n",
    "print(x)\n"
   ]
  },
  {
   "cell_type": "code",
   "execution_count": 86,
   "id": "927564e6-439a-4b1b-9107-7df1192284fb",
   "metadata": {},
   "outputs": [
    {
     "name": "stdout",
     "output_type": "stream",
     "text": [
      "True\n"
     ]
    }
   ],
   "source": [
    "\n",
    "# Check if y is an instance of myObj:\n",
    "\n",
    "class myObj:\n",
    "  name = \"John\"\n",
    "\n",
    "y = myObj()\n",
    "\n",
    "x = isinstance(y, myObj)\n",
    "\n",
    "print(x)\n"
   ]
  },
  {
   "cell_type": "code",
   "execution_count": null,
   "id": "7557fd32-f139-48a3-91c5-2f29bd4b52b3",
   "metadata": {},
   "outputs": [],
   "source": []
  },
  {
   "cell_type": "markdown",
   "id": "866772d3-283e-4ea2-9927-10dc406f59e4",
   "metadata": {},
   "source": [
    "<br>\n",
    "\n",
    "<font size=\"+1\"><span style=\"background-color: yellow;font-size: larger\">&nbsp;**issubclass( )**&nbsp;</span></font> : returns **True** if the <span style=\"background-color: #CAFEFD\">specified object is a subclass of the specified object</span>, otherwise **False**.\n",
    "\n",
    "<div style=\"border: 1px solid pink; padding: 10px; margin-left: 120px; width: 200px; background-color: #fff6f6\">\n",
    "\n",
    "**issubclass(** object, subclass **)**\n",
    "\n",
    "</div>\n",
    "\n",
    "<br>\n",
    "\n",
    "&nbsp;&nbsp;&nbsp;&nbsp;&nbsp;&nbsp;&nbsp;&nbsp;&nbsp;&nbsp;&nbsp;&nbsp;&nbsp;&nbsp;&nbsp;&nbsp;&nbsp;&nbsp;&nbsp;&nbsp;&nbsp;&nbsp;&nbsp;&nbsp;&nbsp;&nbsp;&nbsp;&nbsp;&nbsp;&nbsp;&nbsp;&nbsp;where, subclass &nbsp;=======>&nbsp; A class object, or a tuple of class objects\n"
   ]
  },
  {
   "cell_type": "code",
   "execution_count": 90,
   "id": "7cb8b52a-3c70-4af8-ab3d-f58d04fa4f43",
   "metadata": {},
   "outputs": [
    {
     "name": "stdout",
     "output_type": "stream",
     "text": [
      "True\n"
     ]
    }
   ],
   "source": [
    "\n",
    "# Check if the class myObj is a subclass of myAge:\n",
    "\n",
    "class myAge:\n",
    "  age = 36\n",
    "\n",
    "\n",
    "class myObj(myAge):\n",
    "  name = \"John\"\n",
    "  age = myAge\n",
    "\n",
    "\n",
    "x = issubclass(myObj, myAge)\n",
    "\n",
    "\n",
    "print(x)\n"
   ]
  },
  {
   "cell_type": "code",
   "execution_count": null,
   "id": "a71bbd27-eab8-4b70-a541-38a31748cb9e",
   "metadata": {},
   "outputs": [],
   "source": []
  },
  {
   "cell_type": "markdown",
   "id": "9087e168-9f08-43e6-b5eb-450c68ca90cf",
   "metadata": {},
   "source": [
    "<br>\n",
    "\n",
    "<font size=\"+1\"><span style=\"background-color: yellow;font-size: larger\">&nbsp;**iter( )**&nbsp;</span></font> : returns an **iterator object**.\n",
    "\n",
    "<br>\n",
    "\n",
    "<div style=\"border: 1px solid pink; padding: 10px; margin-left: 120px; width: 200px; background-color: #fff6f6\">\n",
    "\n",
    "**iter(** object[, sentinel] **)**\n",
    "\n",
    "</div>\n",
    "\n",
    "<br>\n",
    "\n",
    "&nbsp;&nbsp;&nbsp;&nbsp;&nbsp;&nbsp;&nbsp;&nbsp;&nbsp;&nbsp;&nbsp;&nbsp;&nbsp;&nbsp;&nbsp;&nbsp;&nbsp;&nbsp;&nbsp;&nbsp;&nbsp;&nbsp;&nbsp;&nbsp;&nbsp;&nbsp;&nbsp;&nbsp;&nbsp;&nbsp;&nbsp;&nbsp;where, object&nbsp;&nbsp;========>&nbsp;&nbsp; Required. An iterable object.   <br>\n",
    "\n",
    "&nbsp;&nbsp;&nbsp;&nbsp;&nbsp;&nbsp;&nbsp;&nbsp;&nbsp;&nbsp;&nbsp;&nbsp;&nbsp;&nbsp;&nbsp;&nbsp;&nbsp;&nbsp;&nbsp;&nbsp;&nbsp;&nbsp;&nbsp;&nbsp;&nbsp;&nbsp;&nbsp;&nbsp;&nbsp;&nbsp;&nbsp;&nbsp;&nbsp;&nbsp;&nbsp;&nbsp;&nbsp;&nbsp;&nbsp;&nbsp;&nbsp;&nbsp;&nbsp;&nbsp;sentinel  &nbsp;=======>&nbsp; Optional. If the object is a callable object the iteration will stop when the returned value is the same as the sentinel.\n",
    "\n",
    "<br>\n",
    "\n",
    "<span style=\"background-color: #F5C0FF\">&nbsp;**Note**&nbsp;</span> ⇒ If the sentinel value is provided and the object is a callable object, then the iteration will stop when the returned <br> value is the same as the sentinel. However, if the sentinel value is not provided, the **iterable** must be a callable object that returns the next value when called with no arguments, and iteration will stop when the callable returns a **StopIteration** exception.\n",
    "\n"
   ]
  },
  {
   "cell_type": "code",
   "execution_count": 1,
   "id": "291b20b4-f545-4ed4-9a3e-891fc7e3b8d8",
   "metadata": {},
   "outputs": [
    {
     "name": "stdout",
     "output_type": "stream",
     "text": [
      "apple\n",
      "banana\n",
      "cherry\n",
      "mango\n"
     ]
    }
   ],
   "source": [
    "\n",
    "# Create an iterator object for a list, and print the items:\n",
    "\n",
    "my_iterator = iter([\"apple\", \"banana\", \"cherry\", \"mango\"])\n",
    "\n",
    "\n",
    "# Iterate over the iterator using next() which is also a python buil-in function\n",
    "print(next(my_iterator))\n",
    "print(next(my_iterator))\n",
    "print(next(my_iterator))\n",
    "print(next(my_iterator))\n"
   ]
  },
  {
   "cell_type": "markdown",
   "id": "c99eb5fd-015b-4b63-a40c-775735e9f2c1",
   "metadata": {},
   "source": [
    "<br>\n",
    "\n",
    "We can use **for loop** too to iterate the resulatant iterable object:"
   ]
  },
  {
   "cell_type": "code",
   "execution_count": 2,
   "id": "92a75e10-a578-4908-b17b-f5756c36c3bc",
   "metadata": {},
   "outputs": [
    {
     "name": "stdout",
     "output_type": "stream",
     "text": [
      "apple\n",
      "banana\n",
      "cherry\n",
      "mango\n"
     ]
    }
   ],
   "source": [
    "\n",
    "# Create an iterator for a list\n",
    "my_list = [\"apple\", \"banana\", \"cherry\", \"mango\"]\n",
    "my_iterator = iter(my_list)\n",
    "\n",
    "\n",
    "# Iterate over the iterator\n",
    "for item in my_iterator:\n",
    "    print(item)\n"
   ]
  },
  {
   "cell_type": "code",
   "execution_count": null,
   "id": "7fa699c3-24e6-4f99-83f3-11fc028337a2",
   "metadata": {},
   "outputs": [],
   "source": []
  },
  {
   "cell_type": "markdown",
   "id": "a9cf403e-e5f2-4354-8137-1bb4343e4205",
   "metadata": {},
   "source": [
    "<br>\n",
    "\n",
    "<font size=\"+1\"><span style=\"background-color: yellow;font-size: larger\">&nbsp;**len( )**&nbsp;</span></font> : returns the number of items in an object.\n",
    "\n",
    "<br>\n",
    "\n",
    "<div style=\"border: 1px solid pink; padding: 10px; margin-left: 120px; width: 200px; background-color: #fff6f6\">\n",
    "\n",
    "**len(** object **)**\n",
    "\n",
    "</div>\n",
    "\n",
    "<br>\n",
    "\n",
    "&nbsp;&nbsp;&nbsp;&nbsp;&nbsp;&nbsp;&nbsp;&nbsp;&nbsp;&nbsp;&nbsp;&nbsp;&nbsp;&nbsp;&nbsp;&nbsp;&nbsp;&nbsp;&nbsp;&nbsp;&nbsp;&nbsp;&nbsp;&nbsp;&nbsp;&nbsp;&nbsp;&nbsp;&nbsp;&nbsp;&nbsp;&nbsp;where, object  &nbsp; ========> &nbsp;Must be a sequence or a collection\n",
    "\n",
    "<span style=\"background-color: #CAFEFD\">When the object is a string, the **len( )** function returns the number of characters in the string.</span>"
   ]
  },
  {
   "cell_type": "code",
   "execution_count": 4,
   "id": "8799a7c4-3994-4211-bfe3-892450199653",
   "metadata": {},
   "outputs": [
    {
     "name": "stdout",
     "output_type": "stream",
     "text": [
      "5\n",
      "5\n",
      "5\n",
      "3\n",
      "5\n"
     ]
    }
   ],
   "source": [
    "\n",
    "# Length of a string\n",
    "my_string = \"hello\"\n",
    "print(len(my_string))  # Output: 5\n",
    "\n",
    "\n",
    "# Length of a list\n",
    "my_list = [1, 2, 3, 4, 5]\n",
    "print(len(my_list))    # Output: 5\n",
    "\n",
    "\n",
    "# Length of a tuple\n",
    "my_tuple = (1, 2, 3, 4, 5)\n",
    "print(len(my_tuple))   # Output: 5\n",
    "\n",
    "\n",
    "# Length of a dictionary (returns the number of key-value pairs)\n",
    "my_dict = {'a': 1, 'b': 2, 'c': 3}\n",
    "print(len(my_dict))    # Output: 3\n",
    "\n",
    "\n",
    "# Length of a set (returns the number of unique elements)\n",
    "my_set = {1, 2, 3, 4, 5}\n",
    "print(len(my_set))     # Output: 5\n"
   ]
  },
  {
   "cell_type": "code",
   "execution_count": null,
   "id": "254ecf55-902f-431d-b4d0-9c30123a8a33",
   "metadata": {},
   "outputs": [],
   "source": []
  },
  {
   "cell_type": "markdown",
   "id": "4ee1cc05-f914-4cea-a4d1-9b8fbc44ea2d",
   "metadata": {},
   "source": [
    "<br>\n",
    "\n",
    "<font size=\"+1\"><span style=\"background-color: yellow;font-size: larger\">&nbsp;**list( )**&nbsp;</span></font> : creates a list object.\n",
    "\n",
    "<br>\n",
    "\n",
    "A list object is a **collection** which is **ordered** and **changeable**.\n",
    "\n",
    "It <span style=\"background-color: #CAFEFD\">can convert other iterable objects</span> such as tuples, strings, sets, or even other lists <span style=\"background-color: #CAFEFD\">into a new list object</span>.\n",
    "\n",
    "<div style=\"border: 1px solid pink; padding: 10px; margin-left: 120px; width: 200px; background-color: #fff6f6\">\n",
    "\n",
    "**list(** iterable **)**\n",
    "\n",
    "</div>\n",
    "\n",
    "<br>\n",
    "\n",
    "&nbsp;&nbsp;&nbsp;&nbsp;&nbsp;&nbsp;&nbsp;&nbsp;&nbsp;&nbsp;&nbsp;&nbsp;&nbsp;&nbsp;&nbsp;&nbsp;&nbsp;&nbsp;&nbsp;&nbsp;&nbsp;&nbsp;&nbsp;&nbsp;&nbsp;&nbsp;&nbsp;&nbsp;&nbsp;&nbsp;&nbsp;&nbsp;where, iterable  &nbsp; ========> &nbsp;Optional. A sequence, collection or an iterator object"
   ]
  },
  {
   "cell_type": "code",
   "execution_count": 6,
   "id": "def1548d-38bc-4d83-b0e1-64414ea9a1b2",
   "metadata": {},
   "outputs": [
    {
     "name": "stdout",
     "output_type": "stream",
     "text": [
      "[1, 2, 3, 4, 5]\n",
      "['h', 'e', 'l', 'l', 'o']\n",
      "[1, 2, 3, 4, 5]\n",
      "[1, 2, 3]\n",
      "False\n",
      "[]\n"
     ]
    }
   ],
   "source": [
    "\n",
    "# Create a list from a tuple\n",
    "my_tuple = (1, 2, 3, 4, 5)\n",
    "print(list(my_tuple))  # Output: [1, 2, 3, 4, 5]\n",
    "\n",
    "\n",
    "# Create a list from a string (each character becomes an element)\n",
    "my_string = \"hello\"\n",
    "print(list(my_string)) # Output: ['h', 'e', 'l', 'l', 'o']\n",
    "\n",
    "\n",
    "# Create a list from a set\n",
    "my_set = {1, 2, 3, 4, 5}\n",
    "print(list(my_set))    # Output: [1, 2, 3, 4, 5]\n",
    "\n",
    "\n",
    "# Create a list from another list (makes a shallow copy)\n",
    "original_list = [1, 2, 3]\n",
    "new_list = list(original_list)\n",
    "print(new_list)        # Output: [1, 2, 3]\n",
    "print(original_list is new_list)  # Output: False (new_list is a new object)\n",
    "\n",
    "\n",
    "# Create an empty list\n",
    "empty_list = list()\n",
    "print(empty_list)      # Output: []\n"
   ]
  },
  {
   "cell_type": "code",
   "execution_count": null,
   "id": "0a3da886-251f-4b2b-acbe-1f2d41a31226",
   "metadata": {},
   "outputs": [],
   "source": []
  },
  {
   "cell_type": "markdown",
   "id": "a3fcc7b7-943c-4101-95e2-d4c5010519a4",
   "metadata": {},
   "source": [
    "<br>\n",
    "\n",
    "<font size=\"+1\"><span style=\"background-color: yellow;font-size: larger\">&nbsp;**locals( )**&nbsp;</span></font> : returns the local symbol table as a **dictionary**.\n",
    "\n",
    "A symbol table <span style=\"background-color: #CAFEFD\">contains necessary information about the current program</span>.\n",
    "\n",
    "The local symbol table contains information about variables, functions, and other objects defined in the current local scope, such as inside a function or method.\n",
    "\n",
    "<br>\n",
    "\n",
    "<div style=\"border: 1px solid pink; padding: 10px; margin-left: 120px; width: 200px; background-color: #fff6f6\">\n",
    "\n",
    "**locals(** **)**\n",
    "\n",
    "</div>"
   ]
  },
  {
   "cell_type": "code",
   "execution_count": 8,
   "id": "5c76eff1-95a7-41e8-850e-16008eddfea6",
   "metadata": {},
   "outputs": [
    {
     "name": "stdout",
     "output_type": "stream",
     "text": [
      "{'__name__': '__main__', '__doc__': 'Automatically created module for IPython interactive environment', '__package__': None, '__loader__': None, '__spec__': None, '__builtin__': <module 'builtins' (built-in)>, '__builtins__': <module 'builtins' (built-in)>, '_ih': ['', '# Create an iterator object for a list, and print the items:\\n\\nmy_iterator = iter([\"apple\", \"banana\", \"cherry\", \"mango\"])\\n\\n\\n# Iterate over the iterator using next() which is also a python buil-in function\\nprint(next(my_iterator))\\nprint(next(my_iterator))\\nprint(next(my_iterator))\\nprint(next(my_iterator))', '# Create an iterator for a list\\nmy_list = [\"apple\", \"banana\", \"cherry\", \"mango\"]\\nmy_iterator = iter(my_list)\\n\\n\\n# Iterate over the iterator\\nfor item in my_iterator:\\n    print(item)', '<br>\\n\\n<span style=\"background-color: yellow;font-size: larger\">&nbsp;**len( )**&nbsp;</span> : returns an **iterator object**.\\n\\n<br>', '# Length of a string\\nmy_string = \"hello\"\\nprint(len(my_string))  # Output: 5\\n\\n\\n# Length of a list\\nmy_list = [1, 2, 3, 4, 5]\\nprint(len(my_list))    # Output: 5\\n\\n\\n# Length of a tuple\\nmy_tuple = (1, 2, 3, 4, 5)\\nprint(len(my_tuple))   # Output: 5\\n\\n\\n# Length of a dictionary (returns the number of key-value pairs)\\nmy_dict = {\\'a\\': 1, \\'b\\': 2, \\'c\\': 3}\\nprint(len(my_dict))    # Output: 3\\n\\n\\n# Length of a set (returns the number of unique elements)\\nmy_set = {1, 2, 3, 4, 5}\\nprint(len(my_set))     # Output: 5', '<br>\\n\\n<span style=\"background-color: yellow;font-size: larger\">&nbsp;**list( )**&nbsp;</span> : returns the number of items in an object.\\n\\n<br>', '# Create a list from a tuple\\nmy_tuple = (1, 2, 3, 4, 5)\\nprint(list(my_tuple))  # Output: [1, 2, 3, 4, 5]\\n\\n\\n# Create a list from a string (each character becomes an element)\\nmy_string = \"hello\"\\nprint(list(my_string)) # Output: [\\'h\\', \\'e\\', \\'l\\', \\'l\\', \\'o\\']\\n\\n\\n# Create a list from a set\\nmy_set = {1, 2, 3, 4, 5}\\nprint(list(my_set))    # Output: [1, 2, 3, 4, 5]\\n\\n\\n# Create a list from another list (makes a shallow copy)\\noriginal_list = [1, 2, 3]\\nnew_list = list(original_list)\\nprint(new_list)        # Output: [1, 2, 3]\\nprint(original_list is new_list)  # Output: False (new_list is a new object)\\n\\n\\n# Create an empty list\\nempty_list = list()\\nprint(empty_list)      # Output: []', '# Display the local symbol table:\\n\\nx = locals()\\nprint(x)', '# Display the local symbol table:\\n\\nx = locals()\\n\\nprint(x)'], '_oh': {}, '_dh': [WindowsPath('C:/Users/user/Python_Programming')], 'In': ['', '# Create an iterator object for a list, and print the items:\\n\\nmy_iterator = iter([\"apple\", \"banana\", \"cherry\", \"mango\"])\\n\\n\\n# Iterate over the iterator using next() which is also a python buil-in function\\nprint(next(my_iterator))\\nprint(next(my_iterator))\\nprint(next(my_iterator))\\nprint(next(my_iterator))', '# Create an iterator for a list\\nmy_list = [\"apple\", \"banana\", \"cherry\", \"mango\"]\\nmy_iterator = iter(my_list)\\n\\n\\n# Iterate over the iterator\\nfor item in my_iterator:\\n    print(item)', '<br>\\n\\n<span style=\"background-color: yellow;font-size: larger\">&nbsp;**len( )**&nbsp;</span> : returns an **iterator object**.\\n\\n<br>', '# Length of a string\\nmy_string = \"hello\"\\nprint(len(my_string))  # Output: 5\\n\\n\\n# Length of a list\\nmy_list = [1, 2, 3, 4, 5]\\nprint(len(my_list))    # Output: 5\\n\\n\\n# Length of a tuple\\nmy_tuple = (1, 2, 3, 4, 5)\\nprint(len(my_tuple))   # Output: 5\\n\\n\\n# Length of a dictionary (returns the number of key-value pairs)\\nmy_dict = {\\'a\\': 1, \\'b\\': 2, \\'c\\': 3}\\nprint(len(my_dict))    # Output: 3\\n\\n\\n# Length of a set (returns the number of unique elements)\\nmy_set = {1, 2, 3, 4, 5}\\nprint(len(my_set))     # Output: 5', '<br>\\n\\n<span style=\"background-color: yellow;font-size: larger\">&nbsp;**list( )**&nbsp;</span> : returns the number of items in an object.\\n\\n<br>', '# Create a list from a tuple\\nmy_tuple = (1, 2, 3, 4, 5)\\nprint(list(my_tuple))  # Output: [1, 2, 3, 4, 5]\\n\\n\\n# Create a list from a string (each character becomes an element)\\nmy_string = \"hello\"\\nprint(list(my_string)) # Output: [\\'h\\', \\'e\\', \\'l\\', \\'l\\', \\'o\\']\\n\\n\\n# Create a list from a set\\nmy_set = {1, 2, 3, 4, 5}\\nprint(list(my_set))    # Output: [1, 2, 3, 4, 5]\\n\\n\\n# Create a list from another list (makes a shallow copy)\\noriginal_list = [1, 2, 3]\\nnew_list = list(original_list)\\nprint(new_list)        # Output: [1, 2, 3]\\nprint(original_list is new_list)  # Output: False (new_list is a new object)\\n\\n\\n# Create an empty list\\nempty_list = list()\\nprint(empty_list)      # Output: []', '# Display the local symbol table:\\n\\nx = locals()\\nprint(x)', '# Display the local symbol table:\\n\\nx = locals()\\n\\nprint(x)'], 'Out': {}, 'get_ipython': <bound method InteractiveShell.get_ipython of <ipykernel.zmqshell.ZMQInteractiveShell object at 0x0000019B60AE2250>>, 'exit': <IPython.core.autocall.ZMQExitAutocall object at 0x0000019B60AFE2D0>, 'quit': <IPython.core.autocall.ZMQExitAutocall object at 0x0000019B60AFE2D0>, 'open': <function open at 0x0000019B5EAC1B20>, '_': '', '__': '', '___': '', '__session__': 'C:\\\\Users\\\\user\\\\Python_Programming\\\\Python Built-In Functions.ipynb', '_i': '\\n# Display the local symbol table:\\n\\nx = locals()\\nprint(x)', '_ii': '\\n# Create a list from a tuple\\nmy_tuple = (1, 2, 3, 4, 5)\\nprint(list(my_tuple))  # Output: [1, 2, 3, 4, 5]\\n\\n\\n# Create a list from a string (each character becomes an element)\\nmy_string = \"hello\"\\nprint(list(my_string)) # Output: [\\'h\\', \\'e\\', \\'l\\', \\'l\\', \\'o\\']\\n\\n\\n# Create a list from a set\\nmy_set = {1, 2, 3, 4, 5}\\nprint(list(my_set))    # Output: [1, 2, 3, 4, 5]\\n\\n\\n# Create a list from another list (makes a shallow copy)\\noriginal_list = [1, 2, 3]\\nnew_list = list(original_list)\\nprint(new_list)        # Output: [1, 2, 3]\\nprint(original_list is new_list)  # Output: False (new_list is a new object)\\n\\n\\n# Create an empty list\\nempty_list = list()\\nprint(empty_list)      # Output: []', '_iii': '<br>\\n\\n<span style=\"background-color: yellow;font-size: larger\">&nbsp;**list( )**&nbsp;</span> : returns the number of items in an object.\\n\\n<br>', '_i1': '\\n# Create an iterator object for a list, and print the items:\\n\\nmy_iterator = iter([\"apple\", \"banana\", \"cherry\", \"mango\"])\\n\\n\\n# Iterate over the iterator using next() which is also a python buil-in function\\nprint(next(my_iterator))\\nprint(next(my_iterator))\\nprint(next(my_iterator))\\nprint(next(my_iterator))', 'my_iterator': <list_iterator object at 0x0000019B60B061D0>, '_i2': '\\n# Create an iterator for a list\\nmy_list = [\"apple\", \"banana\", \"cherry\", \"mango\"]\\nmy_iterator = iter(my_list)\\n\\n\\n# Iterate over the iterator\\nfor item in my_iterator:\\n    print(item)', 'my_list': [1, 2, 3, 4, 5], 'item': 'mango', '_i3': '<br>\\n\\n<span style=\"background-color: yellow;font-size: larger\">&nbsp;**len( )**&nbsp;</span> : returns an **iterator object**.\\n\\n<br>', '_i4': '\\n# Length of a string\\nmy_string = \"hello\"\\nprint(len(my_string))  # Output: 5\\n\\n\\n# Length of a list\\nmy_list = [1, 2, 3, 4, 5]\\nprint(len(my_list))    # Output: 5\\n\\n\\n# Length of a tuple\\nmy_tuple = (1, 2, 3, 4, 5)\\nprint(len(my_tuple))   # Output: 5\\n\\n\\n# Length of a dictionary (returns the number of key-value pairs)\\nmy_dict = {\\'a\\': 1, \\'b\\': 2, \\'c\\': 3}\\nprint(len(my_dict))    # Output: 3\\n\\n\\n# Length of a set (returns the number of unique elements)\\nmy_set = {1, 2, 3, 4, 5}\\nprint(len(my_set))     # Output: 5', 'my_string': 'hello', 'my_tuple': (1, 2, 3, 4, 5), 'my_dict': {'a': 1, 'b': 2, 'c': 3}, 'my_set': {1, 2, 3, 4, 5}, '_i5': '<br>\\n\\n<span style=\"background-color: yellow;font-size: larger\">&nbsp;**list( )**&nbsp;</span> : returns the number of items in an object.\\n\\n<br>', '_i6': '\\n# Create a list from a tuple\\nmy_tuple = (1, 2, 3, 4, 5)\\nprint(list(my_tuple))  # Output: [1, 2, 3, 4, 5]\\n\\n\\n# Create a list from a string (each character becomes an element)\\nmy_string = \"hello\"\\nprint(list(my_string)) # Output: [\\'h\\', \\'e\\', \\'l\\', \\'l\\', \\'o\\']\\n\\n\\n# Create a list from a set\\nmy_set = {1, 2, 3, 4, 5}\\nprint(list(my_set))    # Output: [1, 2, 3, 4, 5]\\n\\n\\n# Create a list from another list (makes a shallow copy)\\noriginal_list = [1, 2, 3]\\nnew_list = list(original_list)\\nprint(new_list)        # Output: [1, 2, 3]\\nprint(original_list is new_list)  # Output: False (new_list is a new object)\\n\\n\\n# Create an empty list\\nempty_list = list()\\nprint(empty_list)      # Output: []', 'original_list': [1, 2, 3], 'new_list': [1, 2, 3], 'empty_list': [], '_i7': '\\n# Display the local symbol table:\\n\\nx = locals()\\nprint(x)', 'x': {...}, '_i8': '\\n# Display the local symbol table:\\n\\nx = locals()\\n\\nprint(x)'}\n"
     ]
    }
   ],
   "source": [
    "\n",
    "# Display the local symbol table:\n",
    "\n",
    "x = locals()\n",
    "\n",
    "print(x)\n"
   ]
  },
  {
   "cell_type": "code",
   "execution_count": 17,
   "id": "1f1611da-6236-4360-b833-abd2bb243053",
   "metadata": {},
   "outputs": [
    {
     "name": "stdout",
     "output_type": "stream",
     "text": [
      "{'x': 42, 'y': 'hello'}\n"
     ]
    }
   ],
   "source": [
    "\n",
    "def my_function():\n",
    "    x = 42\n",
    "    y = 'hello'\n",
    "    print(locals())   # it will print all the informations about variables, functions, and other objects defined in the current local scope\n",
    "\n",
    "my_function()\n"
   ]
  },
  {
   "cell_type": "markdown",
   "id": "6961208a-446f-4584-8f29-8dfa40781a58",
   "metadata": {},
   "source": [
    "<br>\n",
    "\n",
    "<br>\n",
    "\n",
    "<div style=\"border: 1px solid pink; padding: 10px; background-color: #fff6f6; width: 400px\">\n",
    "<strong># Get the filename of the current program:</strong><br>\n",
    "    <br>\n",
    "<span style=\"color:blue\">x = locals(&nbsp;)</span>  <br>\n",
    "<span style=\"color:blue\">print(&nbsp;x[&nbsp;\"__file__\"&nbsp;]&nbsp;)</span>\n",
    "    <br>\n",
    "    <br>\n",
    "    <br>\n",
    "    C:\\Users\\user\\Python_Programming\\ide_practice.py\n",
    "</div>\n",
    "\n",
    "<br>\n",
    "\n",
    "<span style=\"background-color: yellow; font-size: larger\">&nbsp;It works in an IDE&nbsp;</span> where you deal with <span style=\"background-color: #CAFEFD; font-size: larger\">&nbsp;**.py**&nbsp;</span> files\n",
    "However, it will throw error when you try to run the same code in <span style=\"background-color: #CAFEFD; font-size: larger\">&nbsp;**.ipython**&nbsp;</span> file for example Jupyter Notebook.\n",
    "\n",
    "<span style=\"background-color: #CAFEFD\">"
   ]
  },
  {
   "cell_type": "code",
   "execution_count": 18,
   "id": "a9ba99e1-6fb0-42f8-beac-37d99cea20f8",
   "metadata": {},
   "outputs": [
    {
     "ename": "KeyError",
     "evalue": "'__file__'",
     "output_type": "error",
     "traceback": [
      "\u001b[1;31m---------------------------------------------------------------------------\u001b[0m",
      "\u001b[1;31mKeyError\u001b[0m                                  Traceback (most recent call last)",
      "Cell \u001b[1;32mIn[18], line 4\u001b[0m\n\u001b[0;32m      1\u001b[0m \u001b[38;5;66;03m# Get the filename of the current program:\u001b[39;00m\n\u001b[0;32m      3\u001b[0m x \u001b[38;5;241m=\u001b[39m \u001b[38;5;28mlocals\u001b[39m()\n\u001b[1;32m----> 4\u001b[0m \u001b[38;5;28mprint\u001b[39m(\u001b[43mx\u001b[49m\u001b[43m[\u001b[49m\u001b[38;5;124;43m\"\u001b[39;49m\u001b[38;5;124;43m__file__\u001b[39;49m\u001b[38;5;124;43m\"\u001b[39;49m\u001b[43m]\u001b[49m)\n",
      "\u001b[1;31mKeyError\u001b[0m: '__file__'"
     ]
    }
   ],
   "source": [
    "\n",
    "# Get the filename of the current program:\n",
    "\n",
    "x = locals()\n",
    "print(x[\"__file__\"])\n"
   ]
  },
  {
   "cell_type": "markdown",
   "id": "0b4d488d-7736-46d1-be94-75266a61af9a",
   "metadata": {},
   "source": [
    "<br>\n",
    "\n",
    "You can use modules like <span style=\"background-color: yellow; font-size: larger\">&nbsp;**os**&nbsp;</span> or <span style=\"background-color: yellow; font-size: larger\">&nbsp;**ipynbname**&nbsp;</span> to get information about the notebook environment. Refer the section where we discussed **globals( )** where we fetched the filename in a notebook environemnt. "
   ]
  },
  {
   "cell_type": "code",
   "execution_count": null,
   "id": "83e087a1-29eb-4726-9fe8-526993f1f686",
   "metadata": {},
   "outputs": [],
   "source": []
  },
  {
   "cell_type": "markdown",
   "id": "04814605-9afa-4957-9986-7f3cf305ce75",
   "metadata": {},
   "source": [
    "<br>\n",
    "\n",
    "<font size=\"+1\"><span style=\"background-color: yellow;font-size: larger\">&nbsp;**map( )**&nbsp;</span></font> : executes a specified function for each item in an iterable. The item is sent to the function as a parameter.\n",
    "\n",
    "It allows you to perform a <span style=\"background-color: #CAFEFD\">**transformation** or operation on each element</span> of the input iterable <span style=\"background-color: #CAFEFD\">without using explicit loops</span>.\n",
    "\n",
    "<div style=\"border: 1px solid pink; padding: 10px; margin-left: 120px; width: 300px; background-color: #fff6f6\">\n",
    "\n",
    "**map(** function, iterable1, iterable2, &nbsp; .... **)**\n",
    "\n",
    "</div>\n",
    "\n",
    "<br>\n",
    "\n",
    "&nbsp;&nbsp;&nbsp;&nbsp;&nbsp;&nbsp;&nbsp;&nbsp;&nbsp;&nbsp;&nbsp;&nbsp;&nbsp;&nbsp;&nbsp;&nbsp;&nbsp;&nbsp;&nbsp;&nbsp;&nbsp;&nbsp;&nbsp;&nbsp;&nbsp;&nbsp;&nbsp;&nbsp;&nbsp;&nbsp;&nbsp;&nbsp;where, iterable  &nbsp; ========> &nbsp;Required. A sequence, collection or an iterator object. <br>\n",
    "&nbsp;&nbsp;&nbsp;&nbsp;&nbsp;&nbsp;&nbsp;&nbsp;&nbsp;&nbsp;&nbsp;&nbsp;&nbsp;&nbsp;&nbsp;&nbsp;&nbsp;&nbsp;&nbsp;&nbsp;&nbsp;&nbsp;&nbsp;&nbsp;&nbsp;&nbsp;&nbsp;&nbsp;&nbsp;&nbsp;&nbsp;&nbsp;&nbsp;&nbsp;&nbsp;&nbsp;&nbsp;&nbsp;&nbsp;&nbsp;&nbsp;&nbsp;&nbsp;&nbsp;&nbsp;&nbsp;&nbsp;&nbsp;&nbsp;&nbsp;&nbsp;&nbsp;&nbsp;&nbsp;&nbsp;&nbsp;&nbsp;&nbsp;&nbsp;&nbsp;&nbsp;&nbsp;&nbsp;&nbsp;&nbsp;&nbsp;&nbsp;&nbsp;&nbsp;&nbsp;&nbsp;&nbsp;&nbsp;&nbsp;&nbsp;&nbsp;&nbsp;&nbsp;&nbsp;&nbsp;&nbsp;&nbsp;&nbsp;&nbsp;You can send as many iterables as you like, just make sure the function has one parameter for each iterable.\n",
    "\n",
    "<span style=\"background-color: #CAFEFD\">It is extensively used in **lambda functions**.</span>"
   ]
  },
  {
   "cell_type": "code",
   "execution_count": 21,
   "id": "a2d6f38b-202b-4424-b980-cf4b5adbc47e",
   "metadata": {},
   "outputs": [
    {
     "name": "stdout",
     "output_type": "stream",
     "text": [
      "<map object at 0x0000019B60CCE950>\n",
      "[5, 6, 6]\n"
     ]
    }
   ],
   "source": [
    "\n",
    "# Calculate the length of each word in the tuple:\n",
    "\n",
    "def myfunc(n):\n",
    "  return len(n)\n",
    "\n",
    "x = map(myfunc, ('apple', 'banana', 'cherry'))\n",
    "\n",
    "print(x)\n",
    "\n",
    "#convert the map into a list, for readability:\n",
    "print(list(x))\n"
   ]
  },
  {
   "cell_type": "code",
   "execution_count": 24,
   "id": "7796b263-327a-4f52-becd-b2f3e127e895",
   "metadata": {},
   "outputs": [
    {
     "name": "stdout",
     "output_type": "stream",
     "text": [
      "<map object at 0x0000019B60CCEB30>\n",
      "['apple_orange', 'banana_lemon', 'cherry_pineapple']\n"
     ]
    }
   ],
   "source": [
    "\n",
    "def myfunc(a, b):\n",
    "    return a + '_' + b\n",
    "\n",
    "x = map(myfunc, ('apple', 'banana', 'cherry'), ('orange', 'lemon', 'pineapple'))\n",
    "\n",
    "print(x)\n",
    "\n",
    "#convert the map into a list, for readability:\n",
    "print(list(x))\n"
   ]
  },
  {
   "cell_type": "code",
   "execution_count": 26,
   "id": "c696c410-e761-4a32-a465-0097c89f54d7",
   "metadata": {},
   "outputs": [
    {
     "name": "stdout",
     "output_type": "stream",
     "text": [
      "[2, 4, 6, 8, 10]\n"
     ]
    }
   ],
   "source": [
    "\n",
    "# Define a list of numbers\n",
    "numbers = [1, 2, 3, 4, 5]\n",
    "\n",
    "\n",
    "# Use map() with a lambda function to double each number in the list\n",
    "doubled_numbers = map(lambda x: x * 2, numbers)\n",
    "\n",
    "\n",
    "# Convert the iterator returned by map() to a list to see the results\n",
    "print(list(doubled_numbers))    # Output: [2, 4, 6, 8, 10]\n"
   ]
  },
  {
   "cell_type": "code",
   "execution_count": null,
   "id": "3fb1f62a-20bc-47dc-b5e3-4d77143884d4",
   "metadata": {},
   "outputs": [],
   "source": []
  },
  {
   "cell_type": "markdown",
   "id": "09a99580-9551-4275-b917-8ba0ac9c3900",
   "metadata": {},
   "source": [
    "<br>\n",
    "\n",
    "<br>\n",
    "\n",
    "<br>\n",
    "\n",
    "<font size=\"+1\"><span style=\"background-color: yellow;font-size: larger\">&nbsp;**max( )**&nbsp;</span></font> : returns <span style=\"background-color: #CAFEFD\">the item with the highest value</span>, or <span style=\"background-color: #CAFEFD\">the item with the highest value in an iterable</span>.\n",
    "\n",
    "&nbsp;&nbsp;&nbsp;&nbsp;&nbsp;&nbsp;&nbsp;&nbsp;&nbsp;&nbsp;&nbsp;&nbsp;&nbsp;&nbsp;&nbsp;&nbsp;&nbsp;&nbsp;&nbsp;If the values are strings, an alphabetically comparison is done.\n",
    "\n",
    "<div style=\"border: 1px solid pink; padding: 10px; margin-left: 75px; width: 400px; background-color: #fff6f6\">\n",
    "\n",
    "**max(** n1, &nbsp;n2, &nbsp;n3 **)**\n",
    "\n",
    "</div>\n",
    "<div style=\"border: 1px solid pink; padding: 10px; margin-left: 75px; width: 400px; background-color: #fff6f6\">\n",
    "\n",
    "**max(** iterable **)**\n",
    "\n",
    "</div>\n",
    "<div style=\"border: 1px solid pink; padding: 10px; margin-left: 75px; width: 400px; background-color: #fff6f6\">\n",
    "\n",
    "**max(** iterable, *iterables, key = None, default = object( ) **)**\n",
    "\n",
    "</div>\n",
    "\n",
    "<br>\n",
    "\n",
    "&nbsp;&nbsp;&nbsp;&nbsp;&nbsp;&nbsp;&nbsp;&nbsp;&nbsp;&nbsp;&nbsp;&nbsp;&nbsp;&nbsp;&nbsp;&nbsp;&nbsp;&nbsp;&nbsp;&nbsp;where, **iterable** ============> The sequence or collection of elements from which to find the maximum element. <br>\n",
    "\n",
    "&nbsp;&nbsp;&nbsp;&nbsp;&nbsp;&nbsp;&nbsp;&nbsp;&nbsp;&nbsp;&nbsp;&nbsp;&nbsp;&nbsp;&nbsp;&nbsp;&nbsp;&nbsp;&nbsp;&nbsp;&nbsp;&nbsp;&nbsp;&nbsp;&nbsp;&nbsp;&nbsp;&nbsp;&nbsp;&nbsp;&nbsp;&nbsp;<strong>*iterables (optional):</strong>  ===> Additional iterables, separated by commas, from which the largest item will be found. <br>\n",
    "&nbsp;&nbsp;&nbsp;&nbsp;&nbsp;&nbsp;&nbsp;&nbsp;&nbsp;&nbsp;&nbsp;&nbsp;&nbsp;&nbsp;&nbsp;&nbsp;&nbsp;&nbsp;&nbsp;&nbsp;&nbsp;&nbsp;&nbsp;&nbsp;&nbsp;&nbsp;&nbsp;&nbsp;&nbsp;&nbsp;&nbsp;&nbsp;&nbsp;&nbsp;&nbsp;&nbsp;&nbsp;&nbsp;&nbsp;&nbsp;&nbsp;&nbsp;&nbsp;&nbsp;&nbsp;&nbsp;&nbsp;&nbsp;&nbsp;&nbsp;&nbsp;&nbsp;&nbsp;&nbsp;&nbsp;&nbsp;&nbsp;&nbsp;&nbsp;&nbsp;&nbsp;&nbsp;&nbsp;&nbsp;&nbsp;&nbsp;&nbsp;&nbsp;&nbsp;&nbsp;&nbsp;&nbsp;&nbsp;&nbsp;&nbsp;&nbsp;&nbsp;&nbsp;&nbsp;&nbsp;You can pass multiple iterables, and all elements will be considered in finding the maximum value.        <br>\n",
    "\n",
    "&nbsp;&nbsp;&nbsp;&nbsp;&nbsp;&nbsp;&nbsp;&nbsp;&nbsp;&nbsp;&nbsp;&nbsp;&nbsp;&nbsp;&nbsp;&nbsp;&nbsp;&nbsp;&nbsp;&nbsp;&nbsp;&nbsp;&nbsp;&nbsp;&nbsp;&nbsp;&nbsp;&nbsp;&nbsp;&nbsp;&nbsp;&nbsp;&nbsp;**key (optional):** =======> <span style=\"background-color: #CAFEFD\">A function that takes an element from the iterables and returns a value based on which the comparison will be made</span>. <br>\n",
    "&nbsp;&nbsp;&nbsp;&nbsp;&nbsp;&nbsp;&nbsp;&nbsp;&nbsp;&nbsp;&nbsp;&nbsp;&nbsp;&nbsp;&nbsp;&nbsp;&nbsp;&nbsp;&nbsp;&nbsp;&nbsp;&nbsp;&nbsp;&nbsp;&nbsp;&nbsp;&nbsp;&nbsp;&nbsp;&nbsp;&nbsp;&nbsp;&nbsp;&nbsp;&nbsp;&nbsp;&nbsp;&nbsp;&nbsp;&nbsp;&nbsp;&nbsp;&nbsp;&nbsp;&nbsp;&nbsp;&nbsp;&nbsp;&nbsp;&nbsp;&nbsp;&nbsp;&nbsp;&nbsp;&nbsp;&nbsp;&nbsp;&nbsp;&nbsp;&nbsp;&nbsp;&nbsp;&nbsp;&nbsp;&nbsp;&nbsp;&nbsp;&nbsp;&nbsp;&nbsp;&nbsp;&nbsp;&nbsp;&nbsp;&nbsp;&nbsp;&nbsp;&nbsp;&nbsp;&nbsp;If provided, the function will be applied to each element before comparison. <br>\n",
    "&nbsp;&nbsp;&nbsp;&nbsp;&nbsp;&nbsp;&nbsp;&nbsp;&nbsp;&nbsp;&nbsp;&nbsp;&nbsp;&nbsp;&nbsp;&nbsp;&nbsp;&nbsp;&nbsp;&nbsp;&nbsp;&nbsp;&nbsp;&nbsp;&nbsp;&nbsp;&nbsp;&nbsp;&nbsp;&nbsp;&nbsp;&nbsp;&nbsp;&nbsp;&nbsp;&nbsp;&nbsp;&nbsp;&nbsp;&nbsp;&nbsp;&nbsp;&nbsp;&nbsp;&nbsp;&nbsp;&nbsp;&nbsp;&nbsp;&nbsp;&nbsp;&nbsp;&nbsp;&nbsp;&nbsp;&nbsp;&nbsp;&nbsp;&nbsp;&nbsp;&nbsp;&nbsp;&nbsp;&nbsp;&nbsp;&nbsp;&nbsp;&nbsp;&nbsp;&nbsp;&nbsp;&nbsp;&nbsp;&nbsp;&nbsp;&nbsp;&nbsp;&nbsp;&nbsp;&nbsp;The default is **None**, meaning that the elements are compared directly. <br>\n",
    "\n",
    "&nbsp;&nbsp;&nbsp;&nbsp;&nbsp;&nbsp;&nbsp;&nbsp;&nbsp;&nbsp;&nbsp;&nbsp;&nbsp;&nbsp;&nbsp;&nbsp;&nbsp;&nbsp;&nbsp;&nbsp;&nbsp;&nbsp;&nbsp;&nbsp;&nbsp;&nbsp;&nbsp;&nbsp;&nbsp;&nbsp;&nbsp;&nbsp;&nbsp;**default (optional):** =====> If the iterable is empty, this value will be returned. If not provided, and the iterable is empty, a **ValueError** will be raised.\n",
    "\n",
    "<br>\n",
    "\n",
    "<span style=\"background-color: #F5C0FF\">&nbsp;**Note**&nbsp;</span> ⇒ <span style=\"color: blue\">An element at index = n (let say nth element) in the 1st iterable will be compared **only with** the nth element of the 2nd iterable and so on.</span>\n",
    "\n",
    "<br>\n"
   ]
  },
  {
   "cell_type": "code",
   "execution_count": 55,
   "id": "d5b3dbdb-f96c-4832-9f14-5258a5b2079e",
   "metadata": {},
   "outputs": [
    {
     "name": "stdout",
     "output_type": "stream",
     "text": [
      "10\n",
      "Radha\n",
      "5\n",
      "[7, 8, 9]\n",
      "(5, 6)\n"
     ]
    }
   ],
   "source": [
    "\n",
    "# Find the largest number:\n",
    "x = max(5, 10)\n",
    "print(x)\n",
    "\n",
    "\n",
    "# Find the name with the highest value, ordered alphabetically:\n",
    "x = max(\"Avinash\", \"Radha\", \"Aman\")\n",
    "print(x)\n",
    "\n",
    "\n",
    "# Find the maximum element from a list\n",
    "numbers = [1, 3, 5, 2, 4]\n",
    "print(max(numbers))  # Output: 5\n",
    "\n",
    "\n",
    "# Find the maximum element from multiple lists\n",
    "numbers1 = [1, 2, 3]\n",
    "numbers2 = [4, 5, 6]\n",
    "numbers3 = [7, 8, 9]\n",
    "print(max(numbers1, numbers2, numbers3))  # Output: [7, 8, 9]  <====   [ max(1,4,7), max(2,5,8), max(3,6,9) ]\n",
    "\n",
    "\n",
    "# Find the maximum element from a list of tuples based on a key function\n",
    "points = [(1, 2), (3, 4), (5, 6)]\n",
    "print(max(points, key=lambda x: x[1]))    # Output: (5, 6)  <=======   [ max(1,3,5), max(2,4,6) ]\n"
   ]
  },
  {
   "cell_type": "code",
   "execution_count": null,
   "id": "ab6f1692-1ce3-4082-a176-26c046a19ba4",
   "metadata": {},
   "outputs": [],
   "source": []
  },
  {
   "cell_type": "markdown",
   "id": "a88d7807-3319-4c45-aed7-7446d58c4c14",
   "metadata": {},
   "source": [
    "<br>\n",
    "\n",
    "<br>\n",
    "\n",
    "<font size=\"+1\"><span style=\"background-color: yellow;font-size: larger\">&nbsp;**memoryview( )**&nbsp;</span></font> : returns a memory view object from a specified object that provides a view into the internal data of the specified object. <br>\n",
    "\n",
    "&nbsp;&nbsp;&nbsp;&nbsp;&nbsp;&nbsp;&nbsp;&nbsp;&nbsp;&nbsp;&nbsp;&nbsp;&nbsp;&nbsp;&nbsp;&nbsp;&nbsp;&nbsp;&nbsp;&nbsp;&nbsp;&nbsp;&nbsp;&nbsp;&nbsp;&nbsp;&nbsp;&nbsp;&nbsp;&nbsp;&nbsp;&nbsp;&nbsp;&nbsp;&nbsp;&nbsp;This view allows you to access and manipulate the underlying data without making a copy.\n",
    "\n",
    "&nbsp;&nbsp;&nbsp;&nbsp;&nbsp;&nbsp;&nbsp;&nbsp;&nbsp;&nbsp;&nbsp;&nbsp;&nbsp;&nbsp;&nbsp;&nbsp;&nbsp;&nbsp;&nbsp;&nbsp;&nbsp;&nbsp;&nbsp;&nbsp;&nbsp;&nbsp;&nbsp;&nbsp;&nbsp;&nbsp;&nbsp;&nbsp;&nbsp;&nbsp;&nbsp;&nbsp;It is used to create a memory view object that exposes the buffer interface of an object. <br>\n",
    "\n",
    "&nbsp;&nbsp;&nbsp;&nbsp;&nbsp;&nbsp;&nbsp;&nbsp;&nbsp;&nbsp;&nbsp;&nbsp;&nbsp;&nbsp;&nbsp;&nbsp;&nbsp;&nbsp;&nbsp;&nbsp;&nbsp;&nbsp;&nbsp;&nbsp;&nbsp;&nbsp;&nbsp;&nbsp;&nbsp;&nbsp;&nbsp;&nbsp;&nbsp;&nbsp;&nbsp;&nbsp;Memory views allow efficient access to the internal data of objects that support the buffer protocol, such as **bytes**, **bytearray**, and **array.array**.\n",
    "\n",
    "<br>\n",
    "\n",
    "<div style=\"border: 1px solid pink; padding: 10px; margin-left: 140px; width: 400px; background-color: #fff6f6\">\n",
    "\n",
    "**memoryview(** obj **)**\n",
    "\n",
    "</div>\n",
    "\n",
    "<br>\n",
    "\n",
    "&nbsp;&nbsp;&nbsp;&nbsp;&nbsp;&nbsp;&nbsp;&nbsp;&nbsp;&nbsp;&nbsp;&nbsp;&nbsp;&nbsp;&nbsp;&nbsp;&nbsp;&nbsp;&nbsp;&nbsp;&nbsp;&nbsp;&nbsp;&nbsp;&nbsp;&nbsp;&nbsp;&nbsp;&nbsp;&nbsp;&nbsp;&nbsp;&nbsp;&nbsp;&nbsp;&nbsp;&nbsp;where, obj &nbsp;=====>&nbsp; A Bytes object or a Bytearray object.\n"
   ]
  },
  {
   "cell_type": "code",
   "execution_count": 38,
   "id": "3013c294-52ac-4514-bcc9-8aac3075f526",
   "metadata": {},
   "outputs": [
    {
     "name": "stdout",
     "output_type": "stream",
     "text": [
      "b'hello'\n",
      "<memory at 0x0000019B6111C280>\n",
      "72\n",
      "101\n"
     ]
    }
   ],
   "source": [
    "\n",
    "# Create and print a memoryview object:\n",
    "\n",
    "\n",
    "# Create a bytes object\n",
    "data = b'hello'\n",
    "print(data)\n",
    "\n",
    "\n",
    "# Create and print a memory view of the bytes object\n",
    "mv = memoryview(b\"Hello\")\n",
    "print(mv)\n",
    "\n",
    "\n",
    "#return the Unicode of the first character\n",
    "print(mv[0])\n",
    "\n",
    "\n",
    "#return the Unicode of the second character\n",
    "print(mv[1])\n"
   ]
  },
  {
   "cell_type": "code",
   "execution_count": 39,
   "id": "3157536d-2afb-4acc-aea0-3cafabbe1dd4",
   "metadata": {},
   "outputs": [
    {
     "name": "stdout",
     "output_type": "stream",
     "text": [
      "b'hello'\n",
      "104\n"
     ]
    },
    {
     "ename": "TypeError",
     "evalue": "cannot modify read-only memory",
     "output_type": "error",
     "traceback": [
      "\u001b[1;31m---------------------------------------------------------------------------\u001b[0m",
      "\u001b[1;31mTypeError\u001b[0m                                 Traceback (most recent call last)",
      "Cell \u001b[1;32mIn[39], line 12\u001b[0m\n\u001b[0;32m     10\u001b[0m \u001b[38;5;66;03m# Access and modify the underlying data through the memory view\u001b[39;00m\n\u001b[0;32m     11\u001b[0m \u001b[38;5;28mprint\u001b[39m(mv[\u001b[38;5;241m0\u001b[39m])         \u001b[38;5;66;03m# Output: 104 (ASCII value of 'h')\u001b[39;00m\n\u001b[1;32m---> 12\u001b[0m \u001b[43mmv\u001b[49m\u001b[43m[\u001b[49m\u001b[38;5;241;43m0\u001b[39;49m\u001b[43m]\u001b[49m \u001b[38;5;241m=\u001b[39m \u001b[38;5;241m65\u001b[39m           \u001b[38;5;66;03m# Change the first byte to ASCII value of 'A'\u001b[39;00m\n\u001b[0;32m     13\u001b[0m \u001b[38;5;28mprint\u001b[39m(data)          \u001b[38;5;66;03m# Output: b'Aello'\u001b[39;00m\n",
      "\u001b[1;31mTypeError\u001b[0m: cannot modify read-only memory"
     ]
    }
   ],
   "source": [
    "\n",
    "# Create a bytes object\n",
    "data = b'hello'\n",
    "print(data)\n",
    "\n",
    "\n",
    "# Create and print a memory view of the bytes object\n",
    "mv = memoryview(data)\n",
    "\n",
    "\n",
    "# Access and modify the underlying data through the memory view\n",
    "print(mv[0])         # Output: 104 (ASCII value of 'h')\n",
    "mv[0] = 65           # Change the first byte to ASCII value of 'A'\n",
    "print(data)          # Output: b'Aello'\n"
   ]
  },
  {
   "cell_type": "markdown",
   "id": "41975ae9-4ae2-44ac-b5ce-dd1af6297ed9",
   "metadata": {},
   "source": [
    "<br>\n",
    "\n",
    "<span style=\"background-color: #CAFEFD\">The error message \"&nbsp;**TypeError** : cannot modify read-only memory&nbsp;\" indicates that you are attempting to modify a memory view object that is read-only.</span> Memory views can be read-only under certain conditions, such as when created from immutable objects like bytes or when using slicing operations that create read-only views.\n",
    "\n",
    "Let's break down potential causes and solutions for this error :\n",
    "\n",
    "<font size=\"+2\">↳</font> &nbsp;**Memory view created from immutable object :** If the memory view was created from an immutable object like bytes, bytearray, or a tuple, it will be read-only by default."
   ]
  },
  {
   "cell_type": "code",
   "execution_count": 50,
   "id": "525803c9-9834-4c79-80d6-3b27225689c4",
   "metadata": {},
   "outputs": [
    {
     "ename": "TypeError",
     "evalue": "cannot modify read-only memory",
     "output_type": "error",
     "traceback": [
      "\u001b[1;31m---------------------------------------------------------------------------\u001b[0m",
      "\u001b[1;31mTypeError\u001b[0m                                 Traceback (most recent call last)",
      "Cell \u001b[1;32mIn[50], line 3\u001b[0m\n\u001b[0;32m      1\u001b[0m data \u001b[38;5;241m=\u001b[39m \u001b[38;5;124mb\u001b[39m\u001b[38;5;124m'\u001b[39m\u001b[38;5;124mhello\u001b[39m\u001b[38;5;124m'\u001b[39m\n\u001b[0;32m      2\u001b[0m mv \u001b[38;5;241m=\u001b[39m \u001b[38;5;28mmemoryview\u001b[39m(data)\n\u001b[1;32m----> 3\u001b[0m \u001b[43mmv\u001b[49m\u001b[43m[\u001b[49m\u001b[38;5;241;43m0\u001b[39;49m\u001b[43m]\u001b[49m \u001b[38;5;241m=\u001b[39m \u001b[38;5;241m65\u001b[39m  \u001b[38;5;66;03m# Error: cannot modify read-only memory\u001b[39;00m\n",
      "\u001b[1;31mTypeError\u001b[0m: cannot modify read-only memory"
     ]
    }
   ],
   "source": [
    "\n",
    "data = b'hello'\n",
    "mv = memoryview(data)\n",
    "mv[0] = 65  # Error: cannot modify read-only memory\n"
   ]
  },
  {
   "cell_type": "markdown",
   "id": "bcf34df7-6745-4c94-b5cc-77a3f415a717",
   "metadata": {},
   "source": [
    "<br>\n",
    "\n",
    "To modify the underlying data, you need to create a writable memory view. For example, you can create a writable memory view from a bytearray:\n"
   ]
  },
  {
   "cell_type": "code",
   "execution_count": 51,
   "id": "6f9fdf7f-1f8f-4d06-a468-c20f7442e142",
   "metadata": {},
   "outputs": [],
   "source": [
    "\n",
    "data = bytearray(b'hello')\n",
    "mv = memoryview(data)\n",
    "mv[0] = 65  # No error\n"
   ]
  },
  {
   "cell_type": "markdown",
   "id": "86b94548-15a9-4531-8929-957543fa261c",
   "metadata": {},
   "source": [
    "<br>\n",
    "\n",
    "<font size=\"+2\">↳</font> &nbsp;**Slicing operation creating a read-only view :** Slicing operations can create read-only memory views, especially when performed on immutable objects."
   ]
  },
  {
   "cell_type": "code",
   "execution_count": 52,
   "id": "05e49d02-05fa-4714-a7b2-0c7306e44992",
   "metadata": {},
   "outputs": [
    {
     "ename": "TypeError",
     "evalue": "cannot modify read-only memory",
     "output_type": "error",
     "traceback": [
      "\u001b[1;31m---------------------------------------------------------------------------\u001b[0m",
      "\u001b[1;31mTypeError\u001b[0m                                 Traceback (most recent call last)",
      "Cell \u001b[1;32mIn[52], line 3\u001b[0m\n\u001b[0;32m      1\u001b[0m data \u001b[38;5;241m=\u001b[39m \u001b[38;5;124mb\u001b[39m\u001b[38;5;124m'\u001b[39m\u001b[38;5;124mhello\u001b[39m\u001b[38;5;124m'\u001b[39m\n\u001b[0;32m      2\u001b[0m mv \u001b[38;5;241m=\u001b[39m \u001b[38;5;28mmemoryview\u001b[39m(data)[\u001b[38;5;241m1\u001b[39m:\u001b[38;5;241m4\u001b[39m]\n\u001b[1;32m----> 3\u001b[0m \u001b[43mmv\u001b[49m\u001b[43m[\u001b[49m\u001b[38;5;241;43m0\u001b[39;49m\u001b[43m]\u001b[49m \u001b[38;5;241m=\u001b[39m \u001b[38;5;241m65\u001b[39m  \u001b[38;5;66;03m# Error: cannot modify read-only memory\u001b[39;00m\n",
      "\u001b[1;31mTypeError\u001b[0m: cannot modify read-only memory"
     ]
    }
   ],
   "source": [
    "\n",
    "data = b'hello'\n",
    "mv = memoryview(data)[1:4]\n",
    "mv[0] = 65  # Error: cannot modify read-only memory\n"
   ]
  },
  {
   "cell_type": "markdown",
   "id": "31fd4e12-4cbc-4b4a-8092-d1892ec0463e",
   "metadata": {},
   "source": [
    "<br>\n",
    "\n",
    "To create a writable memory view, you need to explicitly create it from a mutable object or use methods like bytes or bytearray to create a mutable copy of the sliced data."
   ]
  },
  {
   "cell_type": "code",
   "execution_count": 53,
   "id": "55136bd2-02f7-4631-9dfe-a0d310eba8de",
   "metadata": {},
   "outputs": [],
   "source": [
    "\n",
    "data = bytearray(b'hello')\n",
    "mv = memoryview(data)[1:4]\n",
    "mv[0] = 65  # No error\n"
   ]
  },
  {
   "cell_type": "code",
   "execution_count": null,
   "id": "a4c4a289-7638-498f-9c43-cf1f78af57f6",
   "metadata": {},
   "outputs": [],
   "source": []
  },
  {
   "cell_type": "markdown",
   "id": "c26eb098-96af-4c0d-937f-e800cd2b322b",
   "metadata": {},
   "source": [
    "<br>\n",
    "\n",
    "<br>\n",
    "\n",
    "<font size=\"+1\"><span style=\"background-color: yellow;font-size: larger\">&nbsp;**min( )**&nbsp;</span></font> : returns <span style=\"background-color: #CAFEFD\">the item with the highest value</span>, or <span style=\"background-color: #CAFEFD\">the item with the highest value in an iterable</span>.\n",
    "\n",
    "&nbsp;&nbsp;&nbsp;&nbsp;&nbsp;&nbsp;&nbsp;&nbsp;&nbsp;&nbsp;&nbsp;&nbsp;&nbsp;&nbsp;&nbsp;&nbsp;&nbsp;&nbsp;If the values are strings, an alphabetically comparison is done.\n",
    "\n",
    "<br>\n",
    "\n",
    "You can refer **max( )** function for the syntax."
   ]
  },
  {
   "cell_type": "code",
   "execution_count": null,
   "id": "17ae91c6-1c22-43a7-8496-e6e4ff9b88f2",
   "metadata": {},
   "outputs": [],
   "source": []
  },
  {
   "cell_type": "markdown",
   "id": "94a32fca-b5cb-4c9c-8a25-32af2408fee2",
   "metadata": {},
   "source": [
    "<br>\n",
    "\n",
    "<br>\n",
    "\n",
    "<font size=\"+1\"><span style=\"background-color: yellow;font-size: larger\">&nbsp;**next( )**&nbsp;</span></font> : returns the **next item** in an iterator. \n",
    "\n",
    "<br>\n",
    "\n",
    "<div style=\"border: 1px solid pink; padding: 10px; margin-left: 140px; width: 400px; background-color: #fff6f6\">\n",
    "\n",
    "**next(** iterator[, default] **)**\n",
    "\n",
    "</div>\n",
    "\n",
    "<br>\n",
    "\n",
    "&nbsp;&nbsp;&nbsp;&nbsp;&nbsp;&nbsp;&nbsp;&nbsp;&nbsp;&nbsp;&nbsp;&nbsp;&nbsp;&nbsp;&nbsp;&nbsp;&nbsp;&nbsp;&nbsp;&nbsp;&nbsp;&nbsp;&nbsp;&nbsp;&nbsp;&nbsp;&nbsp;&nbsp;&nbsp;&nbsp;&nbsp;&nbsp;&nbsp;&nbsp;&nbsp;&nbsp;&nbsp;where default ====> Optional. A default value to return if the iterator has reached to its end. \n",
    "\n",
    "&nbsp;&nbsp;&nbsp;&nbsp;&nbsp;&nbsp;&nbsp;&nbsp;&nbsp;&nbsp;&nbsp;&nbsp;&nbsp;&nbsp;&nbsp;&nbsp;&nbsp;&nbsp;&nbsp;&nbsp;&nbsp;&nbsp;<span style=\"background-color: #F5C0FF\">&nbsp;**Note**&nbsp;</span> ⇒ If there are no more items and no default value is provided, it raises a **StopIteration exception**.\n",
    "\n",
    "\n"
   ]
  },
  {
   "cell_type": "code",
   "execution_count": 59,
   "id": "ab1f66e5-5328-44c8-acb0-b65503567e8b",
   "metadata": {},
   "outputs": [
    {
     "name": "stdout",
     "output_type": "stream",
     "text": [
      "apple\n",
      "banana\n",
      "cherry\n"
     ]
    }
   ],
   "source": [
    "\n",
    "# Create an iterator, and print the items one by one:\n",
    "\n",
    "mylist = iter([\"apple\", \"banana\", \"cherry\"])\n",
    "x = next(mylist)\n",
    "print(x)\n",
    "x = next(mylist)\n",
    "print(x)\n",
    "x = next(mylist)\n",
    "print(x)\n"
   ]
  },
  {
   "cell_type": "code",
   "execution_count": 61,
   "id": "1711fade-88f8-43d7-b317-1370d2b9f00b",
   "metadata": {},
   "outputs": [
    {
     "name": "stdout",
     "output_type": "stream",
     "text": [
      "1\n",
      "2\n",
      "3\n",
      "Iterator exhausted\n"
     ]
    }
   ],
   "source": [
    "\n",
    "# Define an iterator using a generator function\n",
    "def my_iterator():\n",
    "    yield 1\n",
    "    yield 2\n",
    "    yield 3\n",
    "\n",
    "\n",
    "# Create an iterator object\n",
    "iterator = my_iterator()\n",
    "\n",
    "\n",
    "# Retrieve items from the iterator using next()\n",
    "print(next(iterator))  # Output: 1\n",
    "print(next(iterator))  # Output: 2\n",
    "print(next(iterator))  # Output: 3\n",
    "\n",
    "\n",
    "# Attempt to retrieve another item (iterator is exhausted)\n",
    "# If no default value is provided, StopIteration exception is raised\n",
    "print(next(iterator, \"Iterator exhausted\"))  # Output: \"Iterator exhausted\"\n"
   ]
  },
  {
   "cell_type": "code",
   "execution_count": null,
   "id": "3e740afb-4dd1-4c51-bd93-27930212d9a3",
   "metadata": {},
   "outputs": [],
   "source": []
  },
  {
   "cell_type": "markdown",
   "id": "9ea556cb-fd1e-4ac7-9508-1b956a22a526",
   "metadata": {},
   "source": [
    "<br>\n",
    "\n",
    "<br>\n",
    "\n",
    "<br>\n",
    "\n",
    "<font size=\"+1\"><span style=\"background-color: yellow;font-size: larger\">&nbsp;**object( )**&nbsp;</span></font> : &nbsp;returns (used to create) a new empty object of <span style=\"background-color: #CAFEFD\">the base class **object**.</span>\n",
    "\n",
    "&nbsp;&nbsp;&nbsp;&nbsp;&nbsp;&nbsp;&nbsp;&nbsp;&nbsp;&nbsp;&nbsp;&nbsp;&nbsp;&nbsp;&nbsp;&nbsp;&nbsp;&nbsp;&nbsp;&nbsp;&nbsp;&nbsp;&nbsp;&nbsp;<span style=\"background-color: #CAFEFD\">You cannot add new properties or methods to this object.</span>\n",
    "\n",
    "&nbsp;&nbsp;&nbsp;&nbsp;&nbsp;&nbsp;&nbsp;&nbsp;&nbsp;&nbsp;&nbsp;&nbsp;&nbsp;&nbsp;&nbsp;&nbsp;&nbsp;&nbsp;&nbsp;&nbsp;&nbsp;&nbsp;&nbsp;&nbsp;This object is the base for all classes, it holds the built-in properties and methods which are default for all classes.\n",
    "\n",
    "&nbsp;&nbsp;&nbsp;&nbsp;&nbsp;&nbsp;&nbsp;&nbsp;&nbsp;&nbsp;&nbsp;&nbsp;&nbsp;&nbsp;&nbsp;&nbsp;&nbsp;&nbsp;&nbsp;&nbsp;&nbsp;&nbsp;&nbsp;&nbsp;&nbsp;In other words, <span style=\"background-color: #CAFEFD\">the object class is the **root of the class hierarchy in Python, and all other classes are derived from it**.</span>\n",
    "\n",
    "<br>\n",
    "\n",
    "<div style=\"border: 1px solid pink; padding: 10px; margin-left: 140px; width: 200px; background-color: #fff6f6\">\n",
    "\n",
    "**object(** **)**\n",
    "\n",
    "</div>\n",
    "\n",
    "<br>"
   ]
  },
  {
   "cell_type": "code",
   "execution_count": 63,
   "id": "f0fcd49d-bf90-4e56-bf34-79272823fb06",
   "metadata": {},
   "outputs": [
    {
     "name": "stdout",
     "output_type": "stream",
     "text": [
      "<class 'object'>\n",
      "True\n"
     ]
    }
   ],
   "source": [
    "\n",
    "# Create a new empty object using object()\n",
    "my_object = object()\n",
    "\n",
    "\n",
    "# Check the type of the object\n",
    "print(type(my_object))  # Output: <class 'object'>\n",
    "\n",
    "\n",
    "# Verify that the object is an instance of the object class\n",
    "print(isinstance(my_object, object))  # Output: True\n"
   ]
  },
  {
   "cell_type": "markdown",
   "id": "eabf7b83-85b6-45c8-a91d-787063912b35",
   "metadata": {},
   "source": [
    "<br>\n",
    "\n",
    "The **object( )** function is rarely used directly in Python programming, as it simply creates an empty object instance of the base class object. However, it can be useful in certain scenarios, such as when you need a placeholder object or when you want to explicitly demonstrate the hierarchy of Python classes.\n",
    "\n",
    "<br>"
   ]
  },
  {
   "cell_type": "code",
   "execution_count": null,
   "id": "ece6cedf-c032-45e3-ad13-a168b073db83",
   "metadata": {},
   "outputs": [],
   "source": []
  },
  {
   "cell_type": "markdown",
   "id": "4e048fa0-0ede-4dac-8496-54b45f3f409a",
   "metadata": {},
   "source": [
    "<br>\n",
    "\n",
    "<br>\n",
    "\n",
    "<font size=\"+1\"><span style=\"background-color: yellow;font-size: larger\">&nbsp;**oct( )**&nbsp;</span></font> : converts an integer into an **octal string**.\n",
    "\n",
    "&nbsp;&nbsp;&nbsp;&nbsp;&nbsp;&nbsp;&nbsp;&nbsp;&nbsp;&nbsp;&nbsp;&nbsp;&nbsp;&nbsp;&nbsp;&nbsp;Octal strings in Python are prefixed with <span style=\"background-color: #FFE9FF; color: red\">&nbsp;<font size=\"+1\">0o</font>&nbsp;</span>\n",
    "\n",
    "<br>\n",
    "\n",
    "<div style=\"border: 1px solid pink; padding: 10px; margin-left: 140px; width: 200px; background-color: #fff6f6\">\n",
    "\n",
    "**oct(** int **)**\n",
    "\n",
    "</div>\n",
    "\n",
    "<br>\n",
    "\n",
    "&nbsp;&nbsp;&nbsp;&nbsp;&nbsp;&nbsp;&nbsp;&nbsp;&nbsp;&nbsp;&nbsp;&nbsp;&nbsp;&nbsp;&nbsp;&nbsp;&nbsp;&nbsp;&nbsp;&nbsp;&nbsp;&nbsp;&nbsp;&nbsp;&nbsp;&nbsp;&nbsp;&nbsp;&nbsp;&nbsp;&nbsp;&nbsp;&nbsp;&nbsp;&nbsp;&nbsp;&nbsp;where, int  =====>  an integer number\n"
   ]
  },
  {
   "cell_type": "code",
   "execution_count": 66,
   "id": "169ecdb1-328d-4479-b6c2-77958a23dbe5",
   "metadata": {},
   "outputs": [
    {
     "name": "stdout",
     "output_type": "stream",
     "text": [
      "0o14\n"
     ]
    }
   ],
   "source": [
    "\n",
    "# Convert the number 12 into an octal value:\n",
    "\n",
    "x = oct(12)\n",
    "\n",
    "print(x)\n"
   ]
  },
  {
   "cell_type": "code",
   "execution_count": null,
   "id": "e7bdef4e-f436-46cb-a28e-2f2b412c7336",
   "metadata": {},
   "outputs": [],
   "source": []
  },
  {
   "cell_type": "markdown",
   "id": "4864f4be-d096-47d8-a2bf-38e157eb622e",
   "metadata": {},
   "source": [
    "<br>\n",
    "\n",
    "<br>\n",
    "\n",
    "<font size=\"+1\"><span style=\"background-color: yellow;font-size: larger\">&nbsp;**open( )**&nbsp;</span></font> : &nbsp;<span style=\"background-color: #CAFEFD\">opens a file, and returns it as a file object</span>, which provides methods and attributes to read, write, and manipulate the file's contents.\n",
    "\n",
    "<div style=\"border: 1px solid pink; padding: 10px; margin-left: 80px; width: 800px; background-color: #fff6f6\">\n",
    "\n",
    "**open(** file<strong><font size=\"+1\">,</font></strong> mode **)**\n",
    "\n",
    "</div>\n",
    "<div style=\"border: 1px solid pink; padding: 10px; margin-left: 80px; width: 800px; background-color: #fff6f6\">\n",
    "\n",
    "**open(** file<strong><font size=\"+1\">,</font></strong> mode='r'<strong><font size=\"+1\">,</font></strong> buffering=-1<strong><font size=\"+1\">,</font></strong> encoding=None<strong><font size=\"+1\">,</font></strong> errors=None<strong><font size=\"+1\">,</font></strong> newline=None<strong><font size=\"+1\">,</font></strong> closefd=True<strong><font size=\"+1\">,</font></strong> opener=None **)**\n",
    "\n",
    "</div>\n",
    "\n",
    "<br>\n",
    "\n",
    "<div style=\"margin-left: 85px\">\n",
    "\n",
    "<font size=\"+2\"><span style=\"color: blue\">↳</span></font> &nbsp;&nbsp;**<span style=\"background-color: #E2FFFE\">&nbsp;file&nbsp;</span>** <font size=\"+1\">&nbsp;⇒&nbsp;</font> The **path to the file** you want to open. This can be either a string representing the path to the file or a file descriptor obtained using **os.open( )**.\n",
    "\n",
    "<font size=\"+2\"><span style=\"color: blue\">↳</span></font> &nbsp;&nbsp;**<span style=\"background-color: #E2FFFE\">&nbsp;mode&nbsp;</span>** (optional)<font size=\"+1\">&nbsp;⇒&nbsp;</font> Specifies the mode in which the file is opened. <br>\n",
    "\n",
    "&nbsp;&nbsp;&nbsp;&nbsp;&nbsp;&nbsp;&nbsp;&nbsp;&nbsp;&nbsp;&nbsp;&nbsp;&nbsp;&nbsp;&nbsp;&nbsp;&nbsp;&nbsp;&nbsp;&nbsp;&nbsp;&nbsp;&nbsp;&nbsp;&nbsp;&nbsp;&nbsp;&nbsp;&nbsp;&nbsp;&nbsp;&nbsp;&nbsp;&nbsp;&nbsp;&nbsp;&nbsp;&nbsp;&nbsp;&nbsp;&nbsp;&nbsp;&nbsp;It determines whether the file is opened for reading, writing, or both, as well as whether the file is created if it doesn't exist, <br>\n",
    "&nbsp;&nbsp;&nbsp;&nbsp;&nbsp;&nbsp;&nbsp;&nbsp;&nbsp;&nbsp;&nbsp;&nbsp;&nbsp;&nbsp;&nbsp;&nbsp;&nbsp;&nbsp;&nbsp;&nbsp;&nbsp;&nbsp;&nbsp;&nbsp;&nbsp;&nbsp;&nbsp;&nbsp;&nbsp;&nbsp;&nbsp;&nbsp;&nbsp;&nbsp;&nbsp;&nbsp;&nbsp;&nbsp;&nbsp;&nbsp;&nbsp;&nbsp;&nbsp;or truncated if it does. <br>\n",
    "\n",
    "&nbsp;&nbsp;&nbsp;&nbsp;&nbsp;&nbsp;&nbsp;&nbsp;&nbsp;&nbsp;&nbsp;&nbsp;&nbsp;&nbsp;&nbsp;&nbsp;&nbsp;&nbsp;&nbsp;&nbsp;&nbsp;&nbsp;&nbsp;&nbsp;&nbsp;&nbsp;&nbsp;&nbsp;&nbsp;&nbsp;&nbsp;&nbsp;&nbsp;&nbsp;&nbsp;&nbsp;&nbsp;&nbsp;&nbsp;&nbsp;&nbsp;&nbsp;&nbsp;The default mode is <font size=\"+1\"><span style=\"color: red\">'r'</span></font> (read mode).\n",
    "\n",
    "&nbsp;&nbsp;&nbsp;&nbsp;&nbsp;&nbsp;&nbsp;&nbsp;&nbsp;&nbsp;&nbsp;&nbsp;&nbsp;&nbsp;&nbsp;&nbsp;&nbsp;&nbsp;&nbsp;&nbsp;&nbsp;&nbsp;&nbsp;&nbsp;&nbsp;&nbsp;&nbsp;&nbsp;&nbsp;&nbsp;&nbsp;&nbsp;&nbsp;&nbsp;&nbsp;&nbsp;&nbsp;&nbsp;&nbsp;&nbsp;&nbsp;&nbsp;&nbsp;The available mode strings are:\n",
    "\n",
    "<div style=\"border: 1px solid blue; padding: 10px; margin-left: 220px; width: 650px; background-color: #FCF9FC\">\n",
    "\n",
    "<font size=\"+1\"><span style=\"color: red\">'r'</span></font> &nbsp;&nbsp;&nbsp;:&nbsp; <span style=\"color: blue\">**Read** ===========> Default value. Opens a file for reading, error if the file does not exist</span>                                                                                            <br>\n",
    "<font size=\"+1\"><span style=\"color: red\">'a'</span></font> &nbsp;&nbsp;:&nbsp; <span style=\"color: blue\">**Append** =========> Opens a file for appending, creates the file if it does not exist</span>                                                                                                    <br>\n",
    "<font size=\"+1\"><span style=\"color: red\">'w'</span></font> &nbsp;:&nbsp; <span style=\"color: blue\">**Write** ===========> Opens a file for writing, creates the file if it does not exist</span>                                                                                                              <br>\n",
    "<font size=\"+1\"><span style=\"color: red\">'x'</span></font> &nbsp;&nbsp;&nbsp;:&nbsp;  <span style=\"color: blue\">**Create** ==========> Creates the specified file, returns an error if the file exist</span>                                                                                                                <br>\n",
    "<font size=\"+1\"><span style=\"color: red\">'b'</span></font> &nbsp;&nbsp;&nbsp;:&nbsp;  <span style=\"color: blue\">**Binary mode**</span>             <br>\n",
    "<font size=\"+1\"><span style=\"color: red\">'t'</span></font> &nbsp;&nbsp;&nbsp;&nbsp;:&nbsp; <span style=\"color: blue\">**Text mode** (default)</span>      <br>\n",
    "<font size=\"+1\"><span style=\"color: red\">'+'</span></font> &nbsp;&nbsp;&nbsp;:&nbsp; <span style=\"color: blue\">**Read + Write** =====> Open for updating (reading and writing)</span> \n",
    "\n",
    "</div>\n",
    "\n",
    "<br>\n",
    "\n",
    "<font size=\"+2\"><span style=\"color: blue\">↳</span></font> &nbsp;&nbsp;**<span style=\"background-color: #E2FFFE\">&nbsp;buffering&nbsp;</span>** (optional)<font size=\"+1\">&nbsp;⇒&nbsp;</font> : Specifies the buffering policy. If buffering is set to 0, no buffering will take place. <br>\n",
    "&nbsp;&nbsp;&nbsp;&nbsp;&nbsp;&nbsp;&nbsp;&nbsp;&nbsp;&nbsp;&nbsp;&nbsp;&nbsp;&nbsp;&nbsp;&nbsp;&nbsp;&nbsp;&nbsp;&nbsp;&nbsp;&nbsp;&nbsp;&nbsp;&nbsp;&nbsp;&nbsp;&nbsp;&nbsp;&nbsp;&nbsp;&nbsp;&nbsp;&nbsp;&nbsp;&nbsp;&nbsp;&nbsp;&nbsp;&nbsp;&nbsp;&nbsp;&nbsp;&nbsp;&nbsp;&nbsp;&nbsp;&nbsp;&nbsp;&nbsp;&nbsp;If it's set to 1, line buffering will be used. If it's set to a value greater than 1, buffering will use the specified buffer size. <br>\n",
    "&nbsp;&nbsp;&nbsp;&nbsp;&nbsp;&nbsp;&nbsp;&nbsp;&nbsp;&nbsp;&nbsp;&nbsp;&nbsp;&nbsp;&nbsp;&nbsp;&nbsp;&nbsp;&nbsp;&nbsp;&nbsp;&nbsp;&nbsp;&nbsp;&nbsp;&nbsp;&nbsp;&nbsp;&nbsp;&nbsp;&nbsp;&nbsp;&nbsp;&nbsp;&nbsp;&nbsp;&nbsp;&nbsp;&nbsp;&nbsp;&nbsp;&nbsp;&nbsp;&nbsp;&nbsp;&nbsp;&nbsp;&nbsp;&nbsp;&nbsp;&nbsp;The default value of **-1** uses the system default buffering.\n",
    "\n",
    "<font size=\"+2\"><span style=\"color: blue\">↳</span></font> &nbsp;&nbsp;**<span style=\"background-color: #E2FFFE\">&nbsp;encoding&nbsp;</span>** (optional)<font size=\"+1\">&nbsp;⇒&nbsp;</font> : Specifies the encoding used to interpret or write the file's contents in text mode. <br>\n",
    "&nbsp;&nbsp;&nbsp;&nbsp;&nbsp;&nbsp;&nbsp;&nbsp;&nbsp;&nbsp;&nbsp;&nbsp;&nbsp;&nbsp;&nbsp;&nbsp;&nbsp;&nbsp;&nbsp;&nbsp;&nbsp;&nbsp;&nbsp;&nbsp;&nbsp;&nbsp;&nbsp;&nbsp;&nbsp;&nbsp;&nbsp;&nbsp;&nbsp;&nbsp;&nbsp;&nbsp;&nbsp;&nbsp;&nbsp;&nbsp;&nbsp;&nbsp;&nbsp;&nbsp;&nbsp;&nbsp;&nbsp;&nbsp;&nbsp;&nbsp;&nbsp;If not specified, the default encoding specified by **locale.getpreferredencoding(False)** is used.\n",
    "\n",
    "\n",
    "<font size=\"+2\"><span style=\"color: blue\">↳</span></font> &nbsp;&nbsp;**<span style=\"background-color: #E2FFFE\">&nbsp;errors&nbsp;</span>** (optional)<font size=\"+1\">&nbsp;⇒&nbsp;</font> : Specifies how encoding and decoding errors should be handled when working with text files. <br>\n",
    "&nbsp;&nbsp;&nbsp;&nbsp;&nbsp;&nbsp;&nbsp;&nbsp;&nbsp;&nbsp;&nbsp;&nbsp;&nbsp;&nbsp;&nbsp;&nbsp;&nbsp;&nbsp;&nbsp;&nbsp;&nbsp;&nbsp;&nbsp;&nbsp;&nbsp;&nbsp;&nbsp;&nbsp;&nbsp;&nbsp;&nbsp;&nbsp;&nbsp;&nbsp;&nbsp;&nbsp;&nbsp;&nbsp;&nbsp;&nbsp;&nbsp;&nbsp;&nbsp;&nbsp;&nbsp;It determines what action should be taken when characters cannot be encoded or decoded according to the specified encoding. <br>\n",
    "&nbsp;&nbsp;&nbsp;&nbsp;&nbsp;&nbsp;&nbsp;&nbsp;&nbsp;&nbsp;&nbsp;&nbsp;&nbsp;&nbsp;&nbsp;&nbsp;&nbsp;&nbsp;&nbsp;&nbsp;&nbsp;&nbsp;&nbsp;&nbsp;&nbsp;&nbsp;&nbsp;&nbsp;&nbsp;&nbsp;&nbsp;&nbsp;&nbsp;&nbsp;&nbsp;&nbsp;&nbsp;&nbsp;&nbsp;&nbsp;&nbsp;&nbsp;&nbsp;&nbsp;&nbsp;Possible values include:\n",
    "\n",
    "\n",
    "<div style=\"border: 1px solid blue; padding: 10px; margin-left: 200px; width: 730px; background-color: #FCF9FC\"\">\n",
    "\n",
    "**'strict'** &nbsp;==========>&nbsp; Raise a UnicodeError exception if an encoding or decoding error occurs (default behavior).          <br>\n",
    "**'ignore'** &nbsp;=========>&nbsp; Ignore errors and continue encoding or decoding as much of the file as possible.                     <br>\n",
    "**'replace'** &nbsp;=========>&nbsp;Replace errors with a suitable replacement character (usually '?').                                  <br>\n",
    "**'backslashreplace'** &nbsp;==>&nbsp; Replace errors with backslash escapes.                                                            <br>\n",
    "**'xmlcharrefreplace'** &nbsp;=>&nbsp; Replace errors with XML character references.                                                     <br>\n",
    "**'surrogateescape'** &nbsp;==>&nbsp;&nbsp; Replace bytes with Unicode surrogates.                                                       <br>\n",
    "**'surrogatepass'** &nbsp;====>&nbsp; Pass bytes through unchanged.                                                                      <br>\n",
    "and more...\n",
    "\n",
    "</div>\n",
    "\n",
    "<br>\n",
    "\n",
    "\n",
    "<font size=\"+2\"><span style=\"color: blue\">↳</span></font> &nbsp;&nbsp;**<span style=\"background-color: #E2FFFE\">&nbsp;newline&nbsp;</span>** (optional)<font size=\"+1\">&nbsp;⇒&nbsp;</font> : Specifies how newlines should be handled when working with text files. <br>\n",
    "&nbsp;&nbsp;&nbsp;&nbsp;&nbsp;&nbsp;&nbsp;&nbsp;&nbsp;&nbsp;&nbsp;&nbsp;&nbsp;&nbsp;&nbsp;&nbsp;&nbsp;&nbsp;&nbsp;&nbsp;&nbsp;&nbsp;&nbsp;&nbsp;&nbsp;&nbsp;&nbsp;&nbsp;&nbsp;&nbsp;&nbsp;&nbsp;&nbsp;&nbsp;&nbsp;&nbsp;&nbsp;&nbsp;&nbsp;&nbsp;&nbsp;&nbsp;&nbsp;&nbsp;&nbsp;&nbsp;&nbsp;&nbsp;If None, newlines will be translated to the system default newline convention. <br>\n",
    "&nbsp;&nbsp;&nbsp;&nbsp;&nbsp;&nbsp;&nbsp;&nbsp;&nbsp;&nbsp;&nbsp;&nbsp;&nbsp;&nbsp;&nbsp;&nbsp;&nbsp;&nbsp;&nbsp;&nbsp;&nbsp;&nbsp;&nbsp;&nbsp;&nbsp;&nbsp;&nbsp;&nbsp;&nbsp;&nbsp;&nbsp;&nbsp;&nbsp;&nbsp;&nbsp;&nbsp;&nbsp;&nbsp;&nbsp;&nbsp;&nbsp;&nbsp;&nbsp;&nbsp;&nbsp;&nbsp;&nbsp;&nbsp;If an empty string (&nbsp;<span style=\"background-color: #FEF0FE\"><font size=\"+1\">&nbsp;''&nbsp;</font></span>&nbsp;), no translation will be performed. If any other string, it will be used as the newline character.\n",
    "\n",
    "<font size=\"+2\"><span style=\"color: blue\">↳</span></font> &nbsp;&nbsp;**<span style=\"background-color: #E2FFFE\">&nbsp;closefd&nbsp;</span>** (optional)<font size=\"+1\">&nbsp;⇒&nbsp;</font> : If **closefd is True**, the underlying file descriptor of the file object will be closed when the file object is closed. <br>\n",
    "&nbsp;&nbsp;&nbsp;&nbsp;&nbsp;&nbsp;&nbsp;&nbsp;&nbsp;&nbsp;&nbsp;&nbsp;&nbsp;&nbsp;&nbsp;&nbsp;&nbsp;&nbsp;&nbsp;&nbsp;&nbsp;&nbsp;&nbsp;&nbsp;&nbsp;&nbsp;&nbsp;&nbsp;&nbsp;&nbsp;&nbsp;&nbsp;&nbsp;&nbsp;&nbsp;&nbsp;&nbsp;&nbsp;&nbsp;&nbsp;&nbsp;&nbsp;&nbsp;&nbsp;&nbsp;&nbsp;&nbsp;The default value is **True**.\n",
    "\n",
    "<font size=\"+2\"><span style=\"color: blue\">↳</span></font> &nbsp;&nbsp;**<span style=\"background-color: #E2FFFE\">&nbsp;opener&nbsp;</span>** (optional)<font size=\"+1\">&nbsp;⇒&nbsp;</font> : Allows you to specify a custom opener function for opening the file. <br>\n",
    "&nbsp;&nbsp;&nbsp;&nbsp;&nbsp;&nbsp;&nbsp;&nbsp;&nbsp;&nbsp;&nbsp;&nbsp;&nbsp;&nbsp;&nbsp;&nbsp;&nbsp;&nbsp;&nbsp;&nbsp;&nbsp;&nbsp;&nbsp;&nbsp;&nbsp;&nbsp;&nbsp;&nbsp;&nbsp;&nbsp;&nbsp;&nbsp;&nbsp;&nbsp;&nbsp;&nbsp;&nbsp;&nbsp;&nbsp;&nbsp;&nbsp;&nbsp;&nbsp;&nbsp;&nbsp;&nbsp;&nbsp;The default value is **True**The opener function must take the file path and file flags as arguments and return a file descriptor.\n",
    "\n",
    "\n",
    "</div>\n",
    "\n",
    "<br>\n",
    "\n",
    "<font size=\"+2\">⭐</font> Let's now compare the file modes &nbsp;<font size=\"+2\"><span style=\"color: red; background-color: #FCF9FC;\">'r'</span></font>&nbsp; , &nbsp;<font size=\"+2\"><span style=\"color: red; background-color: #FCF9FC;\">'r+'</span></font>&nbsp; , &nbsp;<font size=\"+2\"><span style=\"color: red; background-color: #FCF9FC;\">'a'</span></font>&nbsp; , &nbsp;<font size=\"+2\"><span style=\"color: red; background-color: #FCF9FC;\">'a+'</span></font>&nbsp; , &nbsp;<font size=\"+2\"><span style=\"color: red; background-color: #FCF9FC;\">'w'</span></font>&nbsp; , and &nbsp;<font size=\"+2\"><span style=\"color: red; background-color: #FCF9FC;\">'w+'</span></font>&nbsp;  in Python file handling : <font size=\"+2\">↴</font>\n",
    "\n",
    "<br>\n",
    "\n",
    "<font size=\"+2\">↳</font>&nbsp;&nbsp;<font size=\"+1\">**Read (**</font>&nbsp;<font size=\"+2\"><span style=\"color: red; background-color: #FCF9FC;\">'r'</span></font>&nbsp;<font size=\"+1\">**)**</font>\n",
    "\n",
    "\n",
    "<div style=\"border: 2px solid pink; padding: 10px; color: blue; width: 500px; margin-left: 100px\">\n",
    "\n",
    "<font size=\"+2\"><span style=\"color: red\">↳</span></font>&nbsp;&nbsp;Opens the file for **reading only**.  <br>\n",
    "\n",
    "<font size=\"+2\"><span style=\"color: red\">↳</span></font>&nbsp;&nbsp;The file must exist; otherwise, it raises a **FileNotFoundError**.  <br>\n",
    "\n",
    "<font size=\"+2\"><span style=\"color: red\">↳</span></font>&nbsp;&nbsp;The file pointer is positioned at the **beginning of the file**.   <br>\n",
    "\n",
    "<font size=\"+2\"><span style=\"color: red\">↳</span></font>&nbsp;&nbsp;**No writing operations** are allowed.\n",
    "\n",
    "\n",
    "</div>\n"
   ]
  },
  {
   "cell_type": "code",
   "execution_count": 54,
   "id": "bb192b47-751f-4fb4-a2ae-e3cd52ddd41f",
   "metadata": {},
   "outputs": [
    {
     "name": "stdout",
     "output_type": "stream",
     "text": [
      "testing\n"
     ]
    }
   ],
   "source": [
    "\n",
    "# Open a file in read mode \n",
    "\n",
    "with open('example.txt', 'r') as file:\n",
    "    content = file.read()\n",
    "    print(content)\n"
   ]
  },
  {
   "cell_type": "markdown",
   "id": "57c63c18-97d0-49c3-8958-9e1d641a9292",
   "metadata": {},
   "source": [
    "<span style=\"color: #F713D8\">**Method - 1**</span> &nbsp; ➜ &nbsp;<span style=\"color: #04C204\">&nbsp;( using <font size=\"+1\">**'with'**</font> statement )&nbsp;</span>"
   ]
  },
  {
   "cell_type": "code",
   "execution_count": 55,
   "id": "b4b157b6-2b12-45a2-9c7c-11dd9d5d1e54",
   "metadata": {},
   "outputs": [
    {
     "name": "stdout",
     "output_type": "stream",
     "text": [
      "case 1A ====> testing\n",
      "case 1B ====> testing\n"
     ]
    }
   ],
   "source": [
    "\n",
    "file_path_case1 = r'C:\\Users\\user\\Python_Programming\\example.txt'   # absolute or full path\n",
    "file_path_case2 = r'example.txt'                                    # relative path \n",
    "\n",
    "\n",
    "# case-1A\n",
    "with open(file_path_case1, 'r') as file:           # opening the file\n",
    "    content = file.read()                          # reading the content of the file\n",
    "    print(\"case 1A ====>\", content)                # displaying the content of the file\n",
    "\n",
    "\n",
    "# case-1B\n",
    "with open(file_path_case2, 'r') as file:            # opening the file\n",
    "    content = file.read()                           # reading the content of the file\n",
    "    print(\"case 1B ====>\", content)                 # displaying the content of the file\n"
   ]
  },
  {
   "cell_type": "markdown",
   "id": "5b36ed6e-d8eb-45b4-9769-111d221f04f0",
   "metadata": {},
   "source": [
    "<span style=\"color: #F713D8\">**Method - 2**</span> &nbsp; ➜ &nbsp;<span style=\"color: #04C204\">&nbsp;( without using <font size=\"+1\">**'with'**</font> statement )&nbsp;</span>"
   ]
  },
  {
   "cell_type": "code",
   "execution_count": 56,
   "id": "3f2efea1-6e41-469f-afc1-85d9c1960dea",
   "metadata": {},
   "outputs": [
    {
     "name": "stdout",
     "output_type": "stream",
     "text": [
      "case 2  ====> testing\n"
     ]
    }
   ],
   "source": [
    "\n",
    "file = open('example.txt', 'r')                     # opening the file          # absolute or relative file path can also be given here\n",
    "content = file.read()                               # reading the content of the file\n",
    "print(\"case 2  ====>\", content)                     # displaying the content of the file\n",
    "file.close()                                        # closing the file\n"
   ]
  },
  {
   "cell_type": "markdown",
   "id": "b03cb074-901d-41d0-a91c-8b80d7b55e0e",
   "metadata": {},
   "source": [
    "\n",
    "<br>\n",
    "\n",
    "<br>\n",
    "\n",
    "<div style=\"border: 1px solid #F5CCFF; padding: 10px; background-color: #fff6f6\">\n",
    "\n",
    "<font size=\"+1\">Why use '**with**' statement when you can open file and do your operations without even using it?</font>\n",
    "\n",
    "The with statement in Python is used to wrap the execution of a block of code with methods defined by a context manager. <br>\n",
    "In the context of file handling, <span style=\"background-color: #F5CCFF\">it's commonly used to ensure that a file is properly opened and closed, even if an exception occurs during the execution of the code block.</span>\n",
    "\n",
    "This is important for 2 reasons:\n",
    "\n",
    "&nbsp;&nbsp;&nbsp;&nbsp;&nbsp;&nbsp;&nbsp;&nbsp;&nbsp;&nbsp;&nbsp;&nbsp;&nbsp;&nbsp;&nbsp;&nbsp;&nbsp;&nbsp;1. 🔶 <span style=\"color: blue\"><strong>Automatic Cleanup</strong></span> ➜ The with statement ensures that any resources used by the file (like file descriptors) are properly released and cleaned up <br>\n",
    "&nbsp;&nbsp;&nbsp;&nbsp;&nbsp;&nbsp;&nbsp;&nbsp;&nbsp;&nbsp;&nbsp;&nbsp;&nbsp;&nbsp;&nbsp;&nbsp;&nbsp;&nbsp;&nbsp;&nbsp;&nbsp;&nbsp;&nbsp;&nbsp;&nbsp;&nbsp;&nbsp;&nbsp;&nbsp;&nbsp;&nbsp;&nbsp;&nbsp;&nbsp;&nbsp;&nbsp;&nbsp;&nbsp;&nbsp;&nbsp;&nbsp;&nbsp;&nbsp;&nbsp;&nbsp;&nbsp;&nbsp;&nbsp;&nbsp;&nbsp;&nbsp;&nbsp;&nbsp;&nbsp;&nbsp;&nbsp;&nbsp;&nbsp;&nbsp;&nbsp;&nbsp;&nbsp;&nbsp;&nbsp;&nbsp;&nbsp;&nbsp;when the block of code is exited. This helps prevent resource leaks, especially in long-running programs.\n",
    "\n",
    "&nbsp;&nbsp;&nbsp;&nbsp;&nbsp;&nbsp;&nbsp;&nbsp;&nbsp;&nbsp;&nbsp;&nbsp;&nbsp;&nbsp;&nbsp;&nbsp;&nbsp;&nbsp;2. 🔶 <span style=\"color: blue\"><strong>Easier to Read</strong></span> ➜ Using with makes the code cleaner and more readable. You don't have to explicitly call **file.close( )** because Python handles it for you.\n",
    "\n",
    "</div>\n",
    "\n"
   ]
  },
  {
   "cell_type": "markdown",
   "id": "d134bac9-43a2-4b7b-aec9-728f90928c4f",
   "metadata": {},
   "source": [
    "\n",
    "\n",
    "&nbsp;&nbsp;&nbsp;&nbsp;&nbsp;&nbsp;&nbsp;&nbsp;&nbsp;<strong><span style=\"background-color: yellow\">without using</span> 'with' statement</strong>&nbsp;&nbsp;<font size=\"+2\">↴</font>\n",
    "<summary style=\"color: #ccc; padding: 5px 10px; border-radius: 5px;</summary>\n",
    "<div style=\"padding: 10px; background-color: black; border-radius: 5px;\">\n",
    "<pre>\n",
    "    <code style=\"color: black;\">file = </code><code style=\"color: blue;\">open</code><code style=\"color: black;\">(</code><code style=\"color: red;\">'example.text'</code><code style=\"color: black;\">)</code>\n",
    "    <code style=\"color: #d19a66;\">try</code><code style=\"color: black;\">:</code>\n",
    "    &nbsp;&nbsp;&nbsp;&nbsp;<code style=\"color: black;\">content = file.</code><code style=\"color: blue;\">read</code>()</code>\n",
    "    &nbsp;&nbsp;&nbsp;&nbsp;<code style=\"color: #BDBDBD;\"># Do something with content</code>\n",
    "    <code style=\"color: #d19a66;\">finally</code><code style=\"color: black;\">:</code>\n",
    "    &nbsp;&nbsp;&nbsp;&nbsp;<code style=\"color: black;\">file.</code><code style=\"color: blue;\">close</code>()</code>    <code style=\"color: #BDBDBD;\"># Always close the file, even if an exception occurs</code>\n",
    "\n",
    "\n",
    "</pre>\n",
    "</div>\n",
    "\n",
    "&nbsp;&nbsp;&nbsp;&nbsp;&nbsp;&nbsp;&nbsp;&nbsp;&nbsp;<strong><span style=\"background-color: yellow\">using</span> 'with' statement</strong>&nbsp;&nbsp;<font size=\"+2\">↴</font>\n",
    "<summary style=\"color: #ccc; padding: 5px 10px; border-radius: 5px;</summary>\n",
    "<div style=\"padding: 10px; background-color: black; border-radius: 5px;\">\n",
    "<pre>\n",
    "   &nbsp;&nbsp;<code style=\"color: #17DA00;\"><strong>with</strong></code> </code><code style=\"color: blue;\">open</code><code style=\"color: black;\">(</code><code style=\"color: red;\">'example.text'</code><code style=\"color: black;\">)</code> <code style=\"color: #17DA00;\"><strong>as</strong></code> <code style=\"color: black;\">file:</code>\n",
    "   &nbsp;&nbsp;&nbsp;&nbsp;&nbsp;&nbsp;<code style=\"color: black;\">content = file.</code><code style=\"color: blue;\">read</code>()</code>\n",
    "   &nbsp;&nbsp;&nbsp;&nbsp;&nbsp;&nbsp;<code style=\"color: #BDBDBD;\"># Do something with content</code>\n",
    "    \n",
    "</pre>\n",
    "</div>\n"
   ]
  },
  {
   "cell_type": "markdown",
   "id": "9b83ef73-15c2-4c68-8c52-c1dea72d7d29",
   "metadata": {},
   "source": [
    "<font size=\"+2\">↳</font>&nbsp;&nbsp;<font size=\"+1\">**Write (**</font>&nbsp;<font size=\"+2\"><span style=\"color: red; background-color: #FCF9FC;\">'w'</span></font>&nbsp;<font size=\"+1\">**)**</font>\n",
    "\n",
    "\n",
    "<div style=\"border: 2px solid pink; padding: 10px; color: blue; width: 500px; margin-left: 100px\">\n",
    "\n",
    "<font size=\"+2\"><span style=\"color: red\">↳</span></font>&nbsp;&nbsp;Opens the file for **writing only**.  <br>\n",
    "\n",
    "<font size=\"+2\"><span style=\"color: red\">↳</span></font>&nbsp;&nbsp;If the file exists, it will be **truncated (emptied) before opening**.  <br>\n",
    "\n",
    "<font size=\"+2\"><span style=\"color: red\">↳</span></font>&nbsp;&nbsp;If the file does not exist, it **creates a new file**.   <br>\n",
    "\n",
    "<font size=\"+2\"><span style=\"color: red\">↳</span></font>&nbsp;&nbsp;The file pointer is positioned at the **beginning of the file**.\n",
    "\n",
    "</div>\n"
   ]
  },
  {
   "cell_type": "code",
   "execution_count": 57,
   "id": "f177ca93-120c-4830-9ed4-5e1fd65be1b4",
   "metadata": {},
   "outputs": [],
   "source": [
    "\n",
    "with open('example.txt', 'w') as file:\n",
    "    file.write(\"Hello, World!\")\n"
   ]
  },
  {
   "cell_type": "markdown",
   "id": "ab2948ac-94ba-4b59-bb03-984cc471b198",
   "metadata": {},
   "source": [
    "Let's confirm:"
   ]
  },
  {
   "cell_type": "code",
   "execution_count": 58,
   "id": "028e6f0a-dae6-4f59-9a53-e74c1e531604",
   "metadata": {},
   "outputs": [
    {
     "name": "stdout",
     "output_type": "stream",
     "text": [
      "Hello, World!\n"
     ]
    }
   ],
   "source": [
    "\n",
    "with open('example.txt', 'r') as file:\n",
    "    print(file.read())\n",
    "    "
   ]
  },
  {
   "cell_type": "markdown",
   "id": "845d0887-1815-48fe-b957-96dfb554b958",
   "metadata": {},
   "source": [
    "\n",
    "<br>\n",
    "\n",
    "<font size=\"+2\">↳</font>&nbsp;&nbsp;<font size=\"+1\">**Append (**</font>&nbsp;<font size=\"+2\"><span style=\"color: red; background-color: #FCF9FC;\">'a'</span></font>&nbsp;<font size=\"+1\">**)**</font>\n",
    "\n",
    "\n",
    "<div style=\"border: 2px solid pink; padding: 10px; color: blue; width: 500px; margin-left: 100px\">\n",
    "\n",
    "<font size=\"+2\"><span style=\"color: red\">↳</span></font>&nbsp;&nbsp;Opens the file for appending ( **writing at the end of the file** ).  <br>\n",
    "\n",
    "<font size=\"+2\"><span style=\"color: red\">↳</span></font>&nbsp;&nbsp;If the file exists, the file pointer is **positioned at the end of the file**.  <br>\n",
    "\n",
    "<font size=\"+2\"><span style=\"color: red\">↳</span></font>&nbsp;&nbsp;If the file does not exist, it **creates a new file.**   <br>\n",
    "\n",
    "</div>\n"
   ]
  },
  {
   "cell_type": "code",
   "execution_count": 59,
   "id": "0bd1773d-6e8b-4fb1-b7c7-b21e211678ca",
   "metadata": {},
   "outputs": [],
   "source": [
    "\n",
    "with open('example.txt', 'a') as file:\n",
    "    file.write(\" This is a new sentence appended in the same line.\")\n",
    "    file.write(\"\\nThis is a new line appended.\")\n"
   ]
  },
  {
   "cell_type": "markdown",
   "id": "05df8e50-c512-46b8-9c9c-33aab031eed8",
   "metadata": {},
   "source": [
    "Let's confirm:"
   ]
  },
  {
   "cell_type": "code",
   "execution_count": 60,
   "id": "fa3df0c2-f280-44e1-b109-75b6b1309ec3",
   "metadata": {},
   "outputs": [
    {
     "name": "stdout",
     "output_type": "stream",
     "text": [
      "Hello, World! This is a new sentence appended in the same line.\n",
      "This is a new line appended.\n"
     ]
    }
   ],
   "source": [
    "\n",
    "with open('example.txt', 'r') as file:\n",
    "    print(file.read())\n",
    "    "
   ]
  },
  {
   "cell_type": "markdown",
   "id": "590eaa14-0549-46f7-8373-df023190a64c",
   "metadata": {},
   "source": [
    "<br>\n",
    "\n",
    "<span style=\"background-color: #FFF0D7\">&nbsp;**Note** - <font size=\"+1\"><span style=\"color: red\">**'a'**</span></font> is append-only. &nbsp;So you can't read with the file mode set to <font size=\"+1\"><span style=\"color: red\">**'a'**</span></font>&nbsp;</span>\n"
   ]
  },
  {
   "cell_type": "code",
   "execution_count": 61,
   "id": "adfed269-4d30-4039-8c75-a801ae9643df",
   "metadata": {},
   "outputs": [
    {
     "ename": "UnsupportedOperation",
     "evalue": "not readable",
     "output_type": "error",
     "traceback": [
      "\u001b[1;31m---------------------------------------------------------------------------\u001b[0m",
      "\u001b[1;31mUnsupportedOperation\u001b[0m                      Traceback (most recent call last)",
      "Cell \u001b[1;32mIn[61], line 4\u001b[0m\n\u001b[0;32m      2\u001b[0m \u001b[38;5;28;01mwith\u001b[39;00m \u001b[38;5;28mopen\u001b[39m(\u001b[38;5;124m'\u001b[39m\u001b[38;5;124mexample.txt\u001b[39m\u001b[38;5;124m'\u001b[39m, \u001b[38;5;124m'\u001b[39m\u001b[38;5;124ma\u001b[39m\u001b[38;5;124m'\u001b[39m) \u001b[38;5;28;01mas\u001b[39;00m file:\n\u001b[0;32m      3\u001b[0m     file\u001b[38;5;241m.\u001b[39mwrite(\u001b[38;5;124m'\u001b[39m\u001b[38;5;130;01m\\n\u001b[39;00m\u001b[38;5;124mThis is yet another new line appended.\u001b[39m\u001b[38;5;130;01m\\n\u001b[39;00m\u001b[38;5;124m'\u001b[39m)\n\u001b[1;32m----> 4\u001b[0m     \u001b[43mfile\u001b[49m\u001b[38;5;241;43m.\u001b[39;49m\u001b[43mread\u001b[49m\u001b[43m(\u001b[49m\u001b[43m)\u001b[49m\n",
      "\u001b[1;31mUnsupportedOperation\u001b[0m: not readable"
     ]
    }
   ],
   "source": [
    "\n",
    "# Open a file in append mode ('a')\n",
    "with open('example.txt', 'a') as file:\n",
    "    file.write('\\nThis is yet another new line appended.\\n')\n",
    "    file.read()\n"
   ]
  },
  {
   "cell_type": "markdown",
   "id": "287bb7ef-49e1-43d2-b0fb-12d82bd4c113",
   "metadata": {},
   "source": [
    "<br>\n",
    "\n",
    "<span style=\"background-color: #FFF0D7\">&nbsp;Append ( <font size=\"+1\"><span style=\"color: red\">**'a'**</span></font> ) mode cannot read, it can write only. To read and write both, use <font size=\"+1\"><span style=\"color: red\">**'a+'**</span></font>&nbsp;</span>\n",
    "\n",
    "But let's check if the writing is successful or not:\n"
   ]
  },
  {
   "cell_type": "code",
   "execution_count": 62,
   "id": "e9dc51d8-b684-45df-9f9f-02632486ba8e",
   "metadata": {},
   "outputs": [
    {
     "name": "stdout",
     "output_type": "stream",
     "text": [
      "Hello, World! This is a new sentence appended in the same line.\n",
      "This is a new line appended.\n",
      "This is yet another new line appended.\n",
      "\n"
     ]
    }
   ],
   "source": [
    "\n",
    "with open('example.txt', 'r') as file:\n",
    "    print(file.read())\n",
    "    "
   ]
  },
  {
   "cell_type": "markdown",
   "id": "ef0a8994-a5bc-42de-9bdc-8f7b022e6c62",
   "metadata": {},
   "source": [
    "\n",
    "<br>\n",
    "\n",
    "<font size=\"+2\">↳</font>&nbsp;&nbsp;<font size=\"+1\">**Read and Write (**</font>&nbsp;<font size=\"+2\"><span style=\"color: red; background-color: #FCF9FC;\">'r+'</span></font>&nbsp;<font size=\"+1\">**)**</font>\n",
    "\n",
    "<div style=\"border: 2px solid pink; padding: 10px; color: blue; width: 500px; margin-left: 100px\">\n",
    "\n",
    "<font size=\"+2\"><span style=\"color: red\">↳</span></font>&nbsp;&nbsp;Opens the file for **reading and writing**.  <br>\n",
    "\n",
    "<font size=\"+2\"><span style=\"color: red\">↳</span></font>&nbsp;&nbsp;The file must exist; otherwise, it raises a **FileNotFoundError**.  <br>\n",
    "\n",
    "<font size=\"+2\"><span style=\"color: red\">↳</span></font>&nbsp;&nbsp;The file pointer is **positioned at the beginning of the file**.   <br>\n",
    "\n",
    "<font size=\"+2\"><span style=\"color: red\">↳</span></font>&nbsp;&nbsp;Both reading and writing operations are allowed.   <br>\n",
    "\n",
    "<br>\n",
    "\n",
    "<span style=\"color: black\"><span style=\"background-color:  #CAFEFD\">&nbsp;**Note**&nbsp;</span> &nbsp;&nbsp;➜ </font>&nbsp;<font size=\"+1\"> Both &nbsp;<span style=\"color: red; background-color: #FCF9FC;\">'r'</span></font>&nbsp;<font size=\"+1\"> and </font>&nbsp;<font size=\"+1\"><span style=\"color: red; background-color: #FCF9FC;\">'r+'</span></font>&nbsp;<font size=\"+1\"> cannot create a new file</span>\n",
    "\n",
    "</div>\n",
    "\n",
    "<br>\n"
   ]
  },
  {
   "cell_type": "code",
   "execution_count": 63,
   "id": "0dd37101-bab0-4e54-a3db-f52e7d00c2f0",
   "metadata": {},
   "outputs": [
    {
     "name": "stdout",
     "output_type": "stream",
     "text": [
      "Before: Hello, World! This is a new sentence appended in the same line.\n",
      "This is a new line appended.\n",
      "This is yet another new line appended.\n",
      "\n",
      "\n",
      "____________________________________________________________________\n",
      "\n",
      "After: Hello, World! This is a new sentence appended in the same line.\n",
      "This is a new line appended.\n",
      "This is yet another new line appended.\n",
      "\n",
      "Adding a new line.\n"
     ]
    }
   ],
   "source": [
    "\n",
    "with open('example.txt', 'r+') as file:\n",
    "    content = file.read()\n",
    "    print(\"Before:\", content)\n",
    "\n",
    "    print(\"\\n____________________________________________________________________\\n\")\n",
    "    \n",
    "    file.write(\"\\nAdding a new line.\")\n",
    "    \n",
    "    file.seek(0)  # Move to the beginning\n",
    "    updated_content = file.read()\n",
    "    print(\"After:\", updated_content)\n"
   ]
  },
  {
   "cell_type": "markdown",
   "id": "64dca733-df55-4bb4-9e07-d1a3b24b74d2",
   "metadata": {},
   "source": [
    "\n",
    "<br>\n",
    "\n",
    "<font size=\"+2\">↳</font>&nbsp;&nbsp;<font size=\"+1\">**Write and Read (**</font>&nbsp;<font size=\"+2\"><span style=\"color: red; background-color: #FCF9FC;\">'w+'</span></font>&nbsp;<font size=\"+1\">**)**</font>\n",
    "\n",
    "\n",
    "<div style=\"border: 2px solid pink; padding: 10px; color: blue; width: 600px; margin-left: 100px\">\n",
    "\n",
    "<font size=\"+2\"><span style=\"color: red\">↳</span></font>&nbsp;&nbsp;Opens the file for **reading and writing**.  <br>\n",
    "\n",
    "<font size=\"+2\"><span style=\"color: red\">↳</span></font>&nbsp;&nbsp;If the file exists, it will be **truncated (emptied) before opening**.  <br>\n",
    "\n",
    "<font size=\"+2\"><span style=\"color: red\">↳</span></font>&nbsp;&nbsp;If the file does not exist, it **creates a new file**.   <br>\n",
    "\n",
    "<font size=\"+2\"><span style=\"color: red\">↳</span></font>&nbsp;&nbsp;The file pointer is **positioned at the beginning of the file**.   <br>\n",
    "\n",
    "<br>\n",
    "\n",
    "<span style=\"color: black\"><span style=\"background-color:  #CAFEFD\">&nbsp;**Note**&nbsp;</span> &nbsp;&nbsp;➜ </font>&nbsp;<font size=\"+1\"> Both &nbsp;<span style=\"color: red; background-color: #FCF9FC;\">'w'</span></font>&nbsp;<font size=\"+1\"> and </font>&nbsp;<font size=\"+1\"><span style=\"color: red; background-color: #FCF9FC;\">'w+'</span></font>&nbsp;<font size=\"+1\"> create a new file if the file does not exist.</span>\n",
    "\n",
    "</div>\n"
   ]
  },
  {
   "cell_type": "code",
   "execution_count": 64,
   "id": "579d2007-792c-46d5-bd8e-ef81e49e0a23",
   "metadata": {},
   "outputs": [
    {
     "name": "stdout",
     "output_type": "stream",
     "text": [
      "Hello, World!\n"
     ]
    }
   ],
   "source": [
    "\n",
    "with open('example.txt', 'w+') as file:\n",
    "    file.write(\"Hello, World!\")\n",
    "    file.seek(0)  # Move to the beginning\n",
    "    content = file.read()\n",
    "    print(content)\n"
   ]
  },
  {
   "cell_type": "markdown",
   "id": "1a3908cf-8dec-4e7a-8c96-8c2db388514c",
   "metadata": {},
   "source": [
    "\n",
    "<br>\n",
    "\n",
    "<font size=\"+2\">↳</font>&nbsp;&nbsp;<font size=\"+1\">**Append and Read (**</font>&nbsp;<font size=\"+2\"><span style=\"color: red; background-color: #FCF9FC;\">'a+'</span></font>&nbsp;<font size=\"+1\">**)**</font>\n",
    "\n",
    "\n",
    "<div style=\"border: 2px solid pink; padding: 10px; color: blue; width: 600px; margin-left: 100px\">\n",
    "\n",
    "<font size=\"+2\"><span style=\"color: red\">↳</span></font>&nbsp;&nbsp;Opens the file for **reading and appending**.  <br>\n",
    "\n",
    "<font size=\"+2\"><span style=\"color: red\">↳</span></font>&nbsp;&nbsp;If the file exists, the file pointer is **positioned at the end of the file**.  <br>\n",
    "\n",
    "<font size=\"+2\"><span style=\"color: red\">↳</span></font>&nbsp;&nbsp;If the file does not exist, it **creates a new file**.   <br>\n",
    "\n",
    "<font size=\"+2\"><span style=\"color: red\">↳</span></font>&nbsp;&nbsp;Both reading and appending operations are allowed.   <br>\n",
    "\n",
    "<br>\n",
    "\n",
    "<span style=\"color: black\"><span style=\"background-color:  #CAFEFD\">&nbsp;**Note**&nbsp;</span> &nbsp;&nbsp;➜ </font>&nbsp;<font size=\"+1\"> Both &nbsp;<span style=\"color: red; background-color: #FCF9FC;\">'a'</span></font>&nbsp;<font size=\"+1\"> and </font>&nbsp;<font size=\"+1\"><span style=\"color: red; background-color: #FCF9FC;\">'a+'</span></font>&nbsp;<font size=\"+1\"> create a new file if the file does not exist.</span>\n",
    "\n",
    "</div>\n",
    "\n",
    "<br>\n",
    "\n",
    "<br>\n",
    "\n",
    "| Comparison Summary |                                                                              |\n",
    "|--------------------|------------------------------------------------------------------------------|\n",
    "|  </font>&nbsp;<font size=\"+2\"><span style=\"color: red;\">'r'</span></font>   | Read-only. File must exist. Pointer at the beginning.       |\n",
    "|  </font>&nbsp;<font size=\"+2\"><span style=\"color: red;\">'w'</span></font>   | Write-only. Truncates file or creates new. Pointer at the beginning |\n",
    "|  </font>&nbsp;<font size=\"+2\"><span style=\"color: red;\">'a'</span></font>   | Append-only. Pointer at the end or creates new. Can't read. |\n",
    "|  </font>&nbsp;<font size=\"+2\"><span style=\"color: red;\">'r+'</span></font>   | Read and write. File must exist. Pointer at the beginning. |\n",
    "|  </font>&nbsp;<font size=\"+2\"><span style=\"color: red;\">'w+'</span></font>   | Write and read. Truncates file or creates new. Pointer at the beginning. |\n",
    "|  </font>&nbsp;<font size=\"+2\"><span style=\"color: red;\">'a+'</span></font>   | Append and read. Pointer at the end or creates new. Can read. |\n",
    "\n",
    "<br>\n"
   ]
  },
  {
   "cell_type": "code",
   "execution_count": 65,
   "id": "601542d4-d6ba-4095-ab0a-e8b3607bdee1",
   "metadata": {},
   "outputs": [
    {
     "name": "stdout",
     "output_type": "stream",
     "text": [
      "Hello, World!\n",
      "This is a new line appended.\n"
     ]
    }
   ],
   "source": [
    "\n",
    "with open('example.txt', 'a+') as file:\n",
    "    file.write(\"\\nThis is a new line appended.\")\n",
    "    file.seek(0)  # Move to the beginning\n",
    "    content = file.read()\n",
    "    print(content)\n"
   ]
  },
  {
   "cell_type": "markdown",
   "id": "80bfe38c-2241-47b4-8901-dbb66036cc96",
   "metadata": {},
   "source": [
    "\n",
    "<br>\n",
    "\n",
    "<div style=\"border: 1px solid pink; padding: 10px; background-color: #fff6f6\">\n",
    "\n",
    "🔶  ➜ Choose the mode based on your requirements for reading, writing, appending, and whether the file should be truncated or created if it doesn't exist.\n",
    "\n",
    "</div>\n"
   ]
  },
  {
   "cell_type": "markdown",
   "id": "c41e7b04-695b-4f88-8348-7da392e6703b",
   "metadata": {},
   "source": [
    "<br>\n",
    "\n",
    "<font size=\"+1\">⭐</font>&nbsp;**Append and Read ('a+') with Error Handling:**\n"
   ]
  },
  {
   "cell_type": "code",
   "execution_count": 72,
   "id": "0ee4b258-6657-452a-9d7e-bf09929d2092",
   "metadata": {},
   "outputs": [
    {
     "name": "stdout",
     "output_type": "stream",
     "text": [
      "Content after appending:\n",
      "Hello, World!\n",
      "This is a new line appended.\n",
      "This is a new line appended.\n",
      "This is a new line appended.\n"
     ]
    }
   ],
   "source": [
    "\n",
    "try:\n",
    "    with open('example.txt', 'a+') as file:\n",
    "        # Writing to the file\n",
    "        file.write(\"\\nThis is a new line appended.\")\n",
    "        \n",
    "        # Moving the pointer to the beginning\n",
    "        file.seek(0)\n",
    "        \n",
    "        # Reading from the file\n",
    "        content = file.read()\n",
    "        print(\"Content after appending:\")\n",
    "        print(content)\n",
    "        \n",
    "except FileNotFoundError:\n",
    "    print(\"File not found or cannot be opened.\")\n",
    "except IOError:\n",
    "    print(\"An I/O error occurred while working with the file.\")\n",
    "except Exception as e:\n",
    "    print(\"An unexpected error occurred:\", e)\n"
   ]
  },
  {
   "cell_type": "markdown",
   "id": "22b6e311-4fa7-4459-a7ed-418894431cfc",
   "metadata": {},
   "source": [
    "\n",
    "<br>\n",
    "\n",
    "<font size=\"+1\">⭐</font>&nbsp;<span style=\"background-color: #FAF2FC\">The **open( )** function in Python allows you to specify how errors occurring during file operations should be handled. You can provide the errors parameter to control the behavior when encoding and decoding errors occur.</span>\n",
    "\n",
    "Here's an example of using **open( ) with the errors parameter** :"
   ]
  },
  {
   "cell_type": "code",
   "execution_count": 75,
   "id": "d6e5f1a7-714a-4946-a0a1-42bd5f2d3842",
   "metadata": {},
   "outputs": [
    {
     "name": "stdout",
     "output_type": "stream",
     "text": [
      "My Caf?\n"
     ]
    }
   ],
   "source": [
    "\n",
    "# Define a string containing non-ASCII characters\n",
    "text = 'My Café'\n",
    "\n",
    "\n",
    "# Write the string to a file using a non-UTF-8 encoding\n",
    "with open('example.txt', 'w', encoding='ascii', errors='replace') as file:\n",
    "    file.write(text)\n",
    "\n",
    "\n",
    "# Read the file with the incorrect encoding, replacing errors with a placeholder\n",
    "with open('example.txt', 'r', encoding='ascii', errors='replace') as file:\n",
    "    content = file.read()\n",
    "    print(content)  # Output: Caf?\n"
   ]
  },
  {
   "cell_type": "code",
   "execution_count": null,
   "id": "dd5b00ca-ae48-4c33-8f34-5b9aed697932",
   "metadata": {},
   "outputs": [],
   "source": []
  },
  {
   "cell_type": "markdown",
   "id": "8e6e52b0-9e92-4562-817e-1df7d0d0a447",
   "metadata": {},
   "source": [
    "\n",
    "<br>\n",
    "\n",
    "<br>\n",
    "\n",
    "<font size=\"+1\"><span style=\"background-color: yellow;font-size: larger\">&nbsp;**ord( )**&nbsp;</span></font> : &nbsp;returns the number representing the unicode code point of a specified character.\n",
    "\n",
    "<br>\n",
    "\n",
    "<div style=\"border: 1px solid pink; padding: 10px; margin-left: 140px; width: 200px; background-color: #fff6f6\">\n",
    "\n",
    "**ord(**character**)**\n",
    "\n",
    "</div>\n",
    "\n",
    "<br>\n"
   ]
  },
  {
   "cell_type": "code",
   "execution_count": 81,
   "id": "cad7018d-24b5-4208-a7ba-f5fd1761e965",
   "metadata": {},
   "outputs": [
    {
     "name": "stdout",
     "output_type": "stream",
     "text": [
      "65\n",
      "97\n",
      "36\n",
      "8377\n"
     ]
    }
   ],
   "source": [
    "\n",
    "print(ord('A'))  # Output: 65          # Returns the integer that represents the character \"A\"\n",
    "print(ord('a'))  # Output: 97          # Returns the integer that represents the character \"a\"\n",
    "print(ord('$'))  # Output: 36          # Returns the integer that represents the character \"$\"\n",
    "print(ord('₹'))  # Output: 8377        # Returns the integer that represents the character \"₹\"\n"
   ]
  },
  {
   "cell_type": "markdown",
   "id": "2631e837-6730-4eae-bf13-53348adf80e1",
   "metadata": {},
   "source": [
    "\n",
    "<br>\n",
    "\n",
    "<font size=\"+1\">**Note**</font> - <span style=\"color: blue\">The <font size=\"+1\">**ord( )**</font> function is the inverse of the <font size=\"+1\">**chr( )**</font> function.</span>\n",
    "\n",
    "<br>\n",
    "\n",
    "In Unicode, the <span style=\"background-color:  #CAFEFD\">&nbsp;Indian Rupee Sign&nbsp;</span> has the code point **U+20B9** :"
   ]
  },
  {
   "cell_type": "code",
   "execution_count": 84,
   "id": "c52f5255-1218-44ef-a7a9-e6c7d033077a",
   "metadata": {},
   "outputs": [
    {
     "name": "stdout",
     "output_type": "stream",
     "text": [
      "₹\n",
      "₹\n"
     ]
    }
   ],
   "source": [
    "\n",
    "# Using Unicode Code Point:\n",
    "\n",
    "rupee_symbol = '\\u20B9'\n",
    "print(rupee_symbol)\n",
    "\n",
    "# Using Direct Symbol:\n",
    "rupee_symbol = \"₹\"\n",
    "print(rupee_symbol)  # Output: ₹\n"
   ]
  },
  {
   "cell_type": "code",
   "execution_count": 87,
   "id": "6e280978-0e2a-4cd8-804a-ebe6f39d0ef4",
   "metadata": {},
   "outputs": [
    {
     "name": "stdout",
     "output_type": "stream",
     "text": [
      "Amount: ₹1000\n",
      "Amount: ₹1000\n"
     ]
    }
   ],
   "source": [
    "\n",
    "\n",
    "# Formatting with the Rupee Symbol:\n",
    "amount = 1000\n",
    "formatted_amount = f\"Amount: ₹{amount}\"\n",
    "print(formatted_amount)  # Output: Amount: ₹1000\n",
    "\n",
    "\n",
    "# using format method\n",
    "amount = 1000\n",
    "formatted_amount = \"Amount: ₹{}\".format(amount)\n",
    "print(formatted_amount)  # Output: Amount: ₹1000\n",
    "\n"
   ]
  },
  {
   "cell_type": "code",
   "execution_count": null,
   "id": "ac15709d-30a5-41c0-8f58-d263a52f4262",
   "metadata": {},
   "outputs": [],
   "source": []
  },
  {
   "cell_type": "markdown",
   "id": "60c84b79-3cd6-4cf9-81b3-1ed70fd5a8a1",
   "metadata": {},
   "source": [
    "\n",
    "<br>\n",
    "\n",
    "<br>\n",
    "\n",
    "<font size=\"+1\"><span style=\"background-color: yellow;font-size: larger\">&nbsp;**pow( )**&nbsp;</span></font> : &nbsp;returns the value of <font size=\"+1\">**x**</font> (base) to the power of <font size=\"+1\">**y**</font> (exponent) that is <strong><font style=\"color: blue\"><font size=\"+1\">x**y</font></strong></font>.\n",
    "\n",
    "<br>\n",
    "\n",
    "<div style=\"border: 1px solid pink; padding: 12px; margin-left: 140px; width: 200px; background-color: #fff6f6\">\n",
    "\n",
    "**pow(** **x**, &nbsp;**y**[, &nbsp;**z**]&nbsp;**)**\n",
    "\n",
    "</div>\n",
    "\n",
    "<br>\n",
    "\n",
    "\n",
    "<div style=\"margin-left: 140px; width: 400px;\">\n",
    "\n",
    "**Parameters:**     <br>\n",
    "x: The base number.   <br>\n",
    "y: The exponent to raise the base to.   <br>\n",
    "z (optional): An optional <span style=\"background-color:  #CAFEFD\">modulus</span>.\n",
    "\n",
    "<br>\n",
    "    \n",
    "**Return Value:**   <br>\n",
    "<span style=\"color:  blue\">&nbsp;If z is present, returns <font size=\"+1\"><strong>(x ** y) % z</strong></font>&nbsp;</span>   <br>\n",
    "<span style=\"color:  blue\">&nbsp;If z is not present, returns <font size=\"+1\"><strong>x ** y</strong></font>&nbsp;</span>     <br>\n",
    "\n",
    "</div>\n",
    "\n",
    "<br>\n",
    "      "
   ]
  },
  {
   "cell_type": "code",
   "execution_count": 90,
   "id": "94d92176-e6dd-43f1-8c21-19ccba53647a",
   "metadata": {},
   "outputs": [
    {
     "name": "stdout",
     "output_type": "stream",
     "text": [
      "8\n"
     ]
    }
   ],
   "source": [
    "\n",
    "result = pow(2, 3)\n",
    "print(result)  # Output: 8 (2 raised to the power of 3)\n"
   ]
  },
  {
   "cell_type": "markdown",
   "id": "a520afc8-b859-4df9-a23e-9dde73ab70f0",
   "metadata": {},
   "source": [
    "which is same as "
   ]
  },
  {
   "cell_type": "code",
   "execution_count": 92,
   "id": "87dbdefd-dc12-4440-8bb3-2219e629ab46",
   "metadata": {},
   "outputs": [
    {
     "name": "stdout",
     "output_type": "stream",
     "text": [
      "8\n"
     ]
    }
   ],
   "source": [
    "\n",
    "result = 2 ** 3\n",
    "print(result)  # Output: 8 (2 raised to the power of 3)\n"
   ]
  },
  {
   "cell_type": "code",
   "execution_count": 93,
   "id": "b0caf4b8-2484-4447-a7bc-460e19961568",
   "metadata": {},
   "outputs": [
    {
     "name": "stdout",
     "output_type": "stream",
     "text": [
      "3\n"
     ]
    }
   ],
   "source": [
    "\n",
    "result = pow(2, 3, 5)  # Equivalent to (2 ** 3) % 5\n",
    "print(result)  # Output: 3 (2 raised to the power of 3, modulo 5)\n"
   ]
  },
  {
   "cell_type": "markdown",
   "id": "ba58c842-38fd-4af2-841d-8d4637455a85",
   "metadata": {},
   "source": [
    "\n",
    "<br>\n",
    "\n",
    "<br>\n",
    "\n",
    "<font size=\"+1\"><span style=\"background-color: yellow;font-size: larger\">&nbsp;**print( )**&nbsp;</span></font>&nbsp;&nbsp;<font size=\"+2\">:</font>&nbsp;&nbsp;<span style=\"color: red\">➜</span>&nbsp;&nbsp;&nbsp;<span style=\"background-color:  #CAFEFD\">&nbsp;used to display output to the **console** or **standard output**</span>. <br>\n",
    "&nbsp;&nbsp;&nbsp;&nbsp;&nbsp;&nbsp;&nbsp;&nbsp;&nbsp;&nbsp;&nbsp;&nbsp;&nbsp;&nbsp;&nbsp;&nbsp;&nbsp;&nbsp;&nbsp;&nbsp;&nbsp;&nbsp;&nbsp;&nbsp;&nbsp;&nbsp;&nbsp;<span style=\"color: red\">➜</span>&nbsp;&nbsp;It is one of the most commonly used functions for printing messages, variables, and other data during program execution. <br>\n",
    "&nbsp;&nbsp;&nbsp;&nbsp;&nbsp;&nbsp;&nbsp;&nbsp;&nbsp;&nbsp;&nbsp;&nbsp;&nbsp;&nbsp;&nbsp;&nbsp;&nbsp;&nbsp;&nbsp;&nbsp;&nbsp;&nbsp;&nbsp;&nbsp;&nbsp;&nbsp;&nbsp;<span style=\"color: red\">➜</span>&nbsp;&nbsp;The message can be a string, or any other object, the object will be converted into a string before written to the screen.  <br>\n",
    "&nbsp;&nbsp;&nbsp;&nbsp;&nbsp;&nbsp;&nbsp;&nbsp;&nbsp;&nbsp;&nbsp;&nbsp;&nbsp;&nbsp;&nbsp;&nbsp;&nbsp;&nbsp;&nbsp;&nbsp;&nbsp;&nbsp;&nbsp;&nbsp;&nbsp;&nbsp;&nbsp;<span style=\"color: red\">➜</span>&nbsp;&nbsp;It is commonly used for debugging and displaying information during program execution.\n",
    "\n",
    "<br>\n",
    "\n",
    "<div style=\"border: 1px solid pink; padding: 12px; margin-left: 140px; width: 600px; background-color: #fff6f6\">\n",
    "\n",
    "**print( object(s)** , &nbsp;**sep** = separator , &nbsp;**end** = <span style=\"color: blue\">'\\n'</span>, &nbsp;**file** = <span style=\"color: blue\">sys.stdout</span>, &nbsp;**flush** = <span style=\"color: blue\">False</span> **)**\n",
    "\n",
    "</div>\n",
    "<div style=\"border: 1px solid pink; padding: 12px; margin-left: 140px; width: 600px; background-color: #fff6f6\">\n",
    "\n",
    "**print( value1, value2, .....** , &nbsp;**sep** = separator , &nbsp;**end** = <span style=\"color: blue\">'\\n'</span>, &nbsp;**file** = <span style=\"color: blue\">sys.stdout</span>, &nbsp;**flush** = <span style=\"color: blue\">False</span> **)**\n",
    "\n",
    "</div>\n",
    "\n",
    "<br>\n",
    "\n",
    "|  <span style=\"color: #38CF07\">Parameter</span>  |  <span style=\"color: #38CF07\">Description</span>    |\n",
    "|-------------|-----------------|\n",
    "|  **object(s)**  | Any object, and as many as you like. Will be converted to string before printed    |\n",
    "|  **sep** = 'separator'  | Optional. Specify how to separate the objects, if there is more than one. Default is <span style=\"color: red\"><font size=\"+2\">**' '**</font></span> |\n",
    "|  **end** = '\\n'  | Optional. Specify what to print at the end. Default is <span style=\"color: red\"><font size=\"+1\">**'\\n'**</font></span> (line feed)      |\n",
    "|  **file** = file    | Optional. An object with a write method. <br>The file object where the output will be printed. <br>The default is <span style=\"color: blue\">**sys.stdout**</span>, which represents the standard output (usually the console).   |\n",
    "|  **flush**    | Optional. A Boolean, specifying if the output is <span style=\"color: blue\">**flushed (True)**</span> or  <span style=\"color: blue\">**buffered (False)**</span>. Default is False      |\n"
   ]
  },
  {
   "cell_type": "code",
   "execution_count": 96,
   "id": "49f2656c-874f-4f82-af25-8549f98d325d",
   "metadata": {},
   "outputs": [
    {
     "name": "stdout",
     "output_type": "stream",
     "text": [
      "Hello how are you?\n"
     ]
    }
   ],
   "source": [
    "\n",
    "# Print more than one object:\n",
    "print(\"Hello\", \"how are you?\")\n"
   ]
  },
  {
   "cell_type": "code",
   "execution_count": 97,
   "id": "c0cf622a-326b-43fa-a7e8-59ebc7af55e8",
   "metadata": {},
   "outputs": [
    {
     "name": "stdout",
     "output_type": "stream",
     "text": [
      "('apple', 'banana', 'cherry')\n"
     ]
    }
   ],
   "source": [
    "\n",
    "# Print a tuple:\n",
    "x = (\"apple\", \"banana\", \"cherry\")\n",
    "print(x)\n"
   ]
  },
  {
   "cell_type": "code",
   "execution_count": 98,
   "id": "04fdae5b-9c78-4af7-afbc-60a1c87c825f",
   "metadata": {},
   "outputs": [
    {
     "name": "stdout",
     "output_type": "stream",
     "text": [
      "Hello---how are you?\n"
     ]
    }
   ],
   "source": [
    "\n",
    "# Print two messages, and specify the separator:\n",
    "print(\"Hello\", \"how are you?\", sep=\"---\")\n"
   ]
  },
  {
   "cell_type": "code",
   "execution_count": 99,
   "id": "40d989f0-07d1-49f4-b909-ef5e9272bbc5",
   "metadata": {},
   "outputs": [
    {
     "name": "stdout",
     "output_type": "stream",
     "text": [
      "Name: Alice Age: 30\n"
     ]
    }
   ],
   "source": [
    "\n",
    "# Printing Variables:\n",
    "name = \"Alice\"\n",
    "age = 30\n",
    "print(\"Name:\", name, \"Age:\", age)  # Output: Name: Alice Age: 30\n"
   ]
  },
  {
   "cell_type": "code",
   "execution_count": 106,
   "id": "cee62374-bec8-4e5c-a3f7-2cd3d55fd267",
   "metadata": {},
   "outputs": [
    {
     "name": "stdout",
     "output_type": "stream",
     "text": [
      "Hello, World!\n"
     ]
    }
   ],
   "source": [
    "\n",
    "# Changing End Character (end):\n",
    "print(\"Hello,\", end=' ')\n",
    "print(\"World!\")  # Output: Hello, World!\n"
   ]
  },
  {
   "cell_type": "code",
   "execution_count": 102,
   "id": "c71103d0-2994-439e-93cb-eba878c87115",
   "metadata": {},
   "outputs": [],
   "source": [
    "\n",
    "# Redirecting Output to a File:\n",
    "with open(\"output.txt\", \"w\") as f:\n",
    "    print(\"This is written to a file.\", file=f)\n"
   ]
  },
  {
   "cell_type": "markdown",
   "id": "cde4673c-ba8b-4770-90c2-4f5f8084dfb6",
   "metadata": {},
   "source": [
    "Since there was no file by the name **output.txt**, so Python first created it and then wrote the message on it."
   ]
  },
  {
   "cell_type": "code",
   "execution_count": 107,
   "id": "43e92012-92e9-4180-9c49-2ac96c7f3e7e",
   "metadata": {},
   "outputs": [
    {
     "name": "stdout",
     "output_type": "stream",
     "text": [
      "0 1 2 3 4 "
     ]
    }
   ],
   "source": [
    "\n",
    "# Flushing Output\n",
    "import time\n",
    "for i in range(5):\n",
    "    print(i, end=' ', flush=True)\n",
    "    time.sleep(1)  # Sleep for 1 second\n",
    "# Output will appear progressively each second: 0 1 2 3 4\n"
   ]
  },
  {
   "cell_type": "markdown",
   "id": "2a0e6582-9abd-4389-842d-050ff3eb2429",
   "metadata": {},
   "source": [
    "\n",
    "<br>\n",
    "\n",
    "<br>\n",
    "\n",
    "<font size=\"+1\"><span style=\"background-color: yellow;font-size: larger\">&nbsp;**property( )**&nbsp;</span></font>&nbsp;&nbsp;<font size=\"+2\">:</font>&nbsp;&nbsp;<span style=\"color: red\">➜</span>&nbsp;&nbsp;<span style=\"background-color:  #CAFEFD\">&nbsp;**Gets**, **sets**, **deletes** a property</span>. <br>\n",
    "&nbsp;&nbsp;&nbsp;&nbsp;&nbsp;&nbsp;&nbsp;&nbsp;&nbsp;&nbsp;&nbsp;&nbsp;&nbsp;&nbsp;&nbsp;&nbsp;&nbsp;&nbsp;&nbsp;&nbsp;&nbsp;&nbsp;&nbsp;&nbsp;&nbsp;&nbsp;&nbsp;&nbsp;&nbsp;&nbsp;&nbsp;&nbsp;&nbsp;&nbsp;&nbsp;&nbsp;&nbsp;<span style=\"color: red\">➜</span>&nbsp;&nbsp;&nbsp;Typically used as a **decorator** to define properties in a class. In other words, it is used to create and return a property object.  <br>\n",
    "&nbsp;&nbsp;&nbsp;&nbsp;&nbsp;&nbsp;&nbsp;&nbsp;&nbsp;&nbsp;&nbsp;&nbsp;&nbsp;&nbsp;&nbsp;&nbsp;&nbsp;&nbsp;&nbsp;&nbsp;&nbsp;&nbsp;&nbsp;&nbsp;&nbsp;&nbsp;&nbsp;&nbsp;&nbsp;&nbsp;&nbsp;&nbsp;&nbsp;&nbsp;&nbsp;&nbsp;&nbsp;<span style=\"color: red\">➜</span>&nbsp;&nbsp;&nbsp;Properties are a special kind of attribute that allow for controlled access to instance attributes. <br>\n",
    "&nbsp;&nbsp;&nbsp;&nbsp;&nbsp;&nbsp;&nbsp;&nbsp;&nbsp;&nbsp;&nbsp;&nbsp;&nbsp;&nbsp;&nbsp;&nbsp;&nbsp;&nbsp;&nbsp;&nbsp;&nbsp;&nbsp;&nbsp;&nbsp;&nbsp;&nbsp;&nbsp;&nbsp;&nbsp;&nbsp;&nbsp;&nbsp;&nbsp;&nbsp;&nbsp;&nbsp;&nbsp;&nbsp;&nbsp;&nbsp;&nbsp;&nbsp;&nbsp;&nbsp;They are defined using **getter**, **setter**, and **deleter** methods.  <br>\n",
    "\n",
    "<div style=\"border: 1px solid pink; padding: 12px; margin-left: 140px; width: 500px; background-color: #fff6f6\">\n",
    "    \n",
    "**property(** **fget** = None, **fset** = None, **fdel** = None, **doc** = None **)**\n",
    "\n",
    "</div>\n",
    "\n",
    "<br>\n",
    "\n",
    "|  <span style=\"color: #38CF07\">Parameter</span>   |  <span style=\"color: #38CF07\">Description</span>    |\n",
    "|-------------------------------------------------|-----------------------------------------------------|\n",
    "|  **fget**  | (optional) A function to get the value of the attribute.  |\n",
    "|  **fset**  | (optional): A function to set the value of the attribute. |\n",
    "|  **fdel**  | (optional): A function to delete the attribute.           |\n",
    "|  **doc**   | (optional): A string that contains the documentation ( <span style=\"color: blue\">**docstring**</span> ) for the attribute. |\n",
    "\n",
    "\n",
    "<br>"
   ]
  },
  {
   "cell_type": "code",
   "execution_count": 108,
   "id": "272d5ba5-3150-463e-a003-f0c0836f1bf5",
   "metadata": {},
   "outputs": [
    {
     "name": "stdout",
     "output_type": "stream",
     "text": [
      "Alice\n",
      "Bob\n",
      "5\n",
      "10\n"
     ]
    }
   ],
   "source": [
    "\n",
    "class Person:\n",
    "    def __init__(self, name):\n",
    "        self._name = name\n",
    "\n",
    "    # Getter method\n",
    "    def get_name(self):\n",
    "        return self._name\n",
    "\n",
    "    # Setter method\n",
    "    def set_name(self, value):\n",
    "        self._name = value\n",
    "\n",
    "    # Deleter method\n",
    "    def del_name(self):\n",
    "        del self._name\n",
    "\n",
    "    # Create a property object\n",
    "    name = property(get_name, set_name, del_name, \"Person's name property\")\n",
    "\n",
    "# Create an instance of Person\n",
    "person = Person(\"Alice\")\n",
    "\n",
    "# Get the value using the getter\n",
    "print(person.name)  # Output: Alice\n",
    "\n",
    "# Set the value using the setter\n",
    "person.name = \"Bob\"\n",
    "\n",
    "# Get the updated value\n",
    "print(person.name)  # Output: Bob\n",
    "\n",
    "# Delete the attribute using the deleter\n",
    "del person.name\n",
    "\n",
    "# Trying to access the attribute after deletion will raise an AttributeError\n",
    "# print(person.name)  # This will raise AttributeError\n",
    "\n",
    "# Using property as a decorator\n",
    "class Circle:\n",
    "    def __init__(self, radius):\n",
    "        self._radius = radius\n",
    "\n",
    "    @property\n",
    "    def radius(self):\n",
    "        return self._radius\n",
    "\n",
    "    @radius.setter\n",
    "    def radius(self, value):\n",
    "        if value < 0:\n",
    "            raise ValueError(\"Radius cannot be negative\")\n",
    "        self._radius = value\n",
    "\n",
    "    @radius.deleter\n",
    "    def radius(self):\n",
    "        del self._radius\n",
    "\n",
    "# Create an instance of Circle\n",
    "circle = Circle(5)\n",
    "\n",
    "# Get the radius\n",
    "print(circle.radius)  # Output: 5\n",
    "\n",
    "# Set the radius\n",
    "circle.radius = 10\n",
    "\n",
    "# Get the updated radius\n",
    "print(circle.radius)  # Output: 10\n",
    "\n",
    "# Delete the radius\n",
    "del circle.radius\n",
    "\n",
    "# Trying to access the attribute after deletion will raise an AttributeError\n",
    "# print(circle.radius)  # This will raise AttributeError\n",
    "\n"
   ]
  },
  {
   "cell_type": "markdown",
   "id": "d5e3fb83-7145-4d6e-8875-660240c32c97",
   "metadata": {},
   "source": [
    "\n",
    "<br>\n",
    "\n",
    "<br>\n",
    "\n",
    "<font size=\"+1\"><span style=\"background-color: yellow;font-size: larger\">&nbsp;**range( )**&nbsp;</span></font> : &nbsp;returns a sequence of numbers, <span style=\"background-color:  #CAFEFD\">starting from 0 by default</span>, and <span style=\"background-color:  #CAFEFD\">increments by 1 (by default)</span>, and <span style=\"background-color:  #CAFEFD\">stops before a specified number</span>.\n",
    "\n",
    "<br>\n",
    "\n",
    "<div style=\"border: 1px solid pink; padding: 12px; margin-left: 140px; width: 200px; background-color: #fff6f6\">\n",
    "\n",
    "**range( start** , **stop** , **step )**\n",
    "\n",
    "</div>\n",
    "\n",
    "<br>\n",
    "\n",
    "<br>\n",
    "\n",
    "|  <span style=\"color: #38CF07\">Parameter</span>   |  <span style=\"color: #38CF07\">Description</span>     |\n",
    "|--------------------------------------------------|------------------------------------------------------|\n",
    "|  **start**  | Optional. An integer number specifying at which position to start. Default is 0           |\n",
    "|  **stop**   | Required. An integer number specifying at which position to stop (not included).          |\n",
    "|  **step**   | Optional. An integer number specifying the incrementation. Default is 1                   |\n"
   ]
  },
  {
   "cell_type": "code",
   "execution_count": 2,
   "id": "e4f5cf55-a981-4529-a83f-f98e7b0f1bc3",
   "metadata": {},
   "outputs": [
    {
     "name": "stdout",
     "output_type": "stream",
     "text": [
      "0\n",
      "1\n",
      "2\n",
      "3\n",
      "4\n",
      "5\n"
     ]
    }
   ],
   "source": [
    "\n",
    "# Create a sequence of numbers from 0 to 5, and print each item in the sequence:\n",
    "\n",
    "x = range(6)\n",
    "for n in x:\n",
    "    print(n)\n",
    "    "
   ]
  },
  {
   "cell_type": "code",
   "execution_count": 4,
   "id": "826f250c-754b-4084-8d13-d5e99c2b23cd",
   "metadata": {},
   "outputs": [
    {
     "name": "stdout",
     "output_type": "stream",
     "text": [
      "3\n",
      "4\n",
      "5\n"
     ]
    }
   ],
   "source": [
    "\n",
    "# Create a sequence of numbers from 3 to 5, and print each item in the sequence:\n",
    "\n",
    "x = range(3, 6)\n",
    "for n in x:\n",
    "    print(n)\n",
    "    "
   ]
  },
  {
   "cell_type": "code",
   "execution_count": 3,
   "id": "10d8d6f2-e255-47bc-8e0f-682790b67bfc",
   "metadata": {},
   "outputs": [
    {
     "name": "stdout",
     "output_type": "stream",
     "text": [
      "3\n",
      "5\n",
      "7\n",
      "9\n",
      "11\n",
      "13\n",
      "15\n",
      "17\n",
      "19\n"
     ]
    }
   ],
   "source": [
    "\n",
    "# Create a sequence of numbers from 3 to 19, but increment by 2 instead of 1:\n",
    "\n",
    "x = range(3, 20, 2)\n",
    "for n in x:\n",
    "    print(n)\n",
    "    "
   ]
  },
  {
   "cell_type": "markdown",
   "id": "7b525a13-702c-46d2-adcb-dc7ed774f66f",
   "metadata": {},
   "source": [
    "\n",
    "<br>\n",
    "\n",
    "<br>\n",
    "\n",
    "<font size=\"+1\"><span style=\"background-color: yellow;font-size: larger\">&nbsp;**repr( )**&nbsp;</span></font> : &nbsp; returns a printable representation of an object. <br>\n",
    "&nbsp;&nbsp;&nbsp;&nbsp;&nbsp;&nbsp;&nbsp;&nbsp;&nbsp;&nbsp;&nbsp;&nbsp;&nbsp;&nbsp;&nbsp;&nbsp;&nbsp;&nbsp;&nbsp;&nbsp;&nbsp;&nbsp;&nbsp;&nbsp;&nbsp;It's used to get a <span style=\"background-color:  #CAFEFD\">string representation of an object</span> that is mostly intended for debugging or developer-oriented purposes. <br>\n",
    "&nbsp;&nbsp;&nbsp;&nbsp;&nbsp;&nbsp;&nbsp;&nbsp;&nbsp;&nbsp;&nbsp;&nbsp;&nbsp;&nbsp;&nbsp;&nbsp;&nbsp;&nbsp;&nbsp;&nbsp;&nbsp;&nbsp;&nbsp;&nbsp;&nbsp;The representation returned by **repr( )** should ideally be valid Python code that could recreate the object when passed to the **eval( )** function.\n",
    "\n",
    "<br>\n",
    "\n",
    "<div style=\"border: 1px solid pink; padding: 12px; margin-left: 140px; width: 200px; background-color: #fff6f6\">\n",
    "\n",
    "**repr( object )**\n",
    "\n",
    "</div>\n",
    "\n",
    "<br>\n"
   ]
  },
  {
   "cell_type": "code",
   "execution_count": 20,
   "id": "a85eda28-f23d-4c60-9fb0-e7d1fdc24f79",
   "metadata": {},
   "outputs": [
    {
     "name": "stdout",
     "output_type": "stream",
     "text": [
      "10 =====> <class 'str'>\n"
     ]
    }
   ],
   "source": [
    "\n",
    "# Basic Usage\n",
    "\n",
    "x = 10\n",
    "print(repr(x), \"=====>\", type(repr(x)))\n"
   ]
  },
  {
   "cell_type": "code",
   "execution_count": 17,
   "id": "256b462d-d5b1-4452-ba11-2645a7d36195",
   "metadata": {},
   "outputs": [
    {
     "name": "stdout",
     "output_type": "stream",
     "text": [
      "'Hello, World!' =====> <class 'str'>\n"
     ]
    }
   ],
   "source": [
    "\n",
    "# String Representation\n",
    "\n",
    "s = \"Hello, World!\"\n",
    "print(repr(s), \"=====>\", type(repr(s))) \n"
   ]
  },
  {
   "cell_type": "code",
   "execution_count": 18,
   "id": "fdb5e475-360a-4214-aa28-e265e9f2ab00",
   "metadata": {},
   "outputs": [
    {
     "name": "stdout",
     "output_type": "stream",
     "text": [
      "[1, 2, 3] =====> <class 'str'>\n"
     ]
    }
   ],
   "source": [
    "\n",
    "# List Representation\n",
    "\n",
    "my_list = [1, 2, 3]\n",
    "print(repr(my_list), \"=====>\", type(repr(my_list)))\n"
   ]
  },
  {
   "cell_type": "code",
   "execution_count": 19,
   "id": "6ba3d454-be7f-4d90-afc7-64b4c242f89c",
   "metadata": {},
   "outputs": [
    {
     "name": "stdout",
     "output_type": "stream",
     "text": [
      "Point(3, 4) =====> <class 'str'>\n"
     ]
    }
   ],
   "source": [
    "\n",
    "# Custom Class\n",
    "\n",
    "class Point:\n",
    "    def __init__(self, x, y):\n",
    "        self.x = x\n",
    "        self.y = y\n",
    "    \n",
    "    def __repr__(self):\n",
    "        return f'Point({self.x}, {self.y})'\n",
    "\n",
    "point = Point(3, 4)\n",
    "print(repr(point), \"=====>\", type(repr(point)))  \n"
   ]
  },
  {
   "cell_type": "markdown",
   "id": "c9356f39-c279-4869-9d2c-eeca946494d7",
   "metadata": {},
   "source": [
    "<br>\n",
    "\n",
    "<span style=\"background-color: #F5C0FF\">**Note**</span> - The result of **repr( )** should be a string that could be passed to **eval( )** to recreate the object, <span style=\"background-color:  #CAFEFD\">but it's not always guaranteed to be the case</span>.\n"
   ]
  },
  {
   "cell_type": "code",
   "execution_count": null,
   "id": "dea56125-3713-4f95-bed6-7dddd54d8565",
   "metadata": {},
   "outputs": [],
   "source": []
  },
  {
   "cell_type": "markdown",
   "id": "c492b22e-6f9b-4cb0-b9ef-99acb3c8ddfa",
   "metadata": {},
   "source": [
    "<br>\n",
    "\n",
    "<br>\n",
    "\n",
    "<font size=\"+1\"><span style=\"background-color: yellow;font-size: larger\">&nbsp;**reversed( )**&nbsp;</span></font> : &nbsp;returns a reversed iterator object. <br>\n",
    "&nbsp;&nbsp;&nbsp;&nbsp;&nbsp;&nbsp;&nbsp;&nbsp;&nbsp;&nbsp;&nbsp;&nbsp;&nbsp;&nbsp;&nbsp;&nbsp;&nbsp;&nbsp;&nbsp;&nbsp;&nbsp;&nbsp;&nbsp;&nbsp;&nbsp;&nbsp;&nbsp;&nbsp;&nbsp;&nbsp;&nbsp;&nbsp;&nbsp;&nbsp;&nbsp;It returns an iterator that accesses the elements of the given sequence (iterator) in reverse order, from the last to the first.\n",
    "\n",
    "\n",
    "<br>\n",
    "\n",
    "<div style=\"border: 1px solid pink; padding: 12px; margin-left: 140px; width: 200px; background-color: #fff6f6\">\n",
    "\n",
    "**reversed( sequence )**\n",
    "\n",
    "</div>\n",
    "\n",
    "<br>\n"
   ]
  },
  {
   "cell_type": "code",
   "execution_count": 34,
   "id": "04fa003c-9fc5-42b7-82f6-d909fa207899",
   "metadata": {},
   "outputs": [
    {
     "name": "stdout",
     "output_type": "stream",
     "text": [
      "[5, 4, 3, 2, 1]\n"
     ]
    }
   ],
   "source": [
    "\n",
    "# Reversing a List using the Python built-in function ====> reversed()\n",
    "\n",
    "my_list = [1, 2, 3, 4, 5]\n",
    "reversed_list = list(reversed(my_list))\n",
    "print(reversed_list)\n"
   ]
  },
  {
   "cell_type": "code",
   "execution_count": 35,
   "id": "b6ecb0e2-f5c9-4452-892e-0acd53ee9006",
   "metadata": {},
   "outputs": [
    {
     "name": "stdout",
     "output_type": "stream",
     "text": [
      "None\n"
     ]
    }
   ],
   "source": [
    "\n",
    "# Reversing a list using a list method ====> list.reverse()\n",
    "\n",
    "# Attempt-1\n",
    "\n",
    "my_list = [1, 2, 3, 4, 5]\n",
    "reversed_list = my_list.reverse()\n",
    "print(reversed_list)\n"
   ]
  },
  {
   "cell_type": "markdown",
   "id": "5476d168-f17d-41d1-97db-8c32e21c4f71",
   "metadata": {},
   "source": [
    "\n",
    "<span style=\"background-color:  #CAFEFD\">The **list.reverse( )** method in Python reverses the elements of the list **in place** and **does not return a new list**. Instead, it modifies the original list and **returns None**.</span> This is why you are seeing None when you print reversed_list. \n"
   ]
  },
  {
   "cell_type": "code",
   "execution_count": 36,
   "id": "314b3e1d-c971-48c4-89b6-965b49085eaa",
   "metadata": {},
   "outputs": [
    {
     "name": "stdout",
     "output_type": "stream",
     "text": [
      "[5, 4, 3, 2, 1]\n"
     ]
    }
   ],
   "source": [
    "\n",
    "# Reversing a list using a list method ====> list.reverse()\n",
    "\n",
    "# Attempt -2\n",
    "\n",
    "my_list = [1, 2, 3, 4, 5]\n",
    "my_list.reverse()\n",
    "print(my_list)\n"
   ]
  },
  {
   "cell_type": "code",
   "execution_count": 37,
   "id": "c7430cac-6aa0-472d-9588-624d72737618",
   "metadata": {},
   "outputs": [
    {
     "name": "stdout",
     "output_type": "stream",
     "text": [
      "!dlroW ,olleH\n"
     ]
    }
   ],
   "source": [
    "\n",
    "# Reversing a String\n",
    "\n",
    "my_string = \"Hello, World!\"\n",
    "reversed_string = ''.join(reversed(my_string))\n",
    "print(reversed_string) \n",
    "\n"
   ]
  },
  {
   "cell_type": "code",
   "execution_count": null,
   "id": "2f9465d7-c1cd-453e-ad2f-b0f9665d8b7d",
   "metadata": {},
   "outputs": [],
   "source": []
  },
  {
   "cell_type": "markdown",
   "id": "ad647076-4774-468b-ba65-870e9adb8651",
   "metadata": {},
   "source": [
    "<br>\n",
    "\n",
    "<br>\n",
    "\n",
    "<font size=\"+1\"><span style=\"background-color: yellow;font-size: larger\">&nbsp;**round( )**&nbsp;</span></font> : &nbsp;returns a floating point number that is a rounded version of the specified number, with the specified number of decimals. <br>\n",
    "&nbsp;&nbsp;&nbsp;&nbsp;&nbsp;&nbsp;&nbsp;&nbsp;&nbsp;&nbsp;&nbsp;&nbsp;&nbsp;&nbsp;&nbsp;&nbsp;&nbsp;&nbsp;&nbsp;&nbsp;&nbsp;&nbsp;&nbsp;&nbsp;&nbsp;&nbsp;&nbsp;&nbsp;The default number of decimals is 0, meaning that the function will return the nearest integer.\n",
    "\n",
    "\n",
    "<br>\n",
    "\n",
    "<div style=\"border: 1px solid pink; padding: 12px; margin-left: 140px; width: 200px; background-color: #fff6f6\">\n",
    "\n",
    "**round( number, digits )**\n",
    "\n",
    "</div>\n",
    "\n",
    "<br>\n",
    "\n",
    "\n",
    "|  <span style=\"color: #38CF07\">Parameter</span>   |  <span style=\"color: #38CF07\">Description</span>                                       |\n",
    "|--------------------------------------------------|----------------------------------------------------------------------------------------|\n",
    "|  **number**                                      | Required. The number to be rounded                                                     |\n",
    "|  **stop**                                        | Optional. The number of decimals to use when rounding the number. Default is **0**     |\n"
   ]
  },
  {
   "cell_type": "code",
   "execution_count": 39,
   "id": "e9816d3a-a6a0-4455-9007-8226b1c0cbd5",
   "metadata": {},
   "outputs": [
    {
     "name": "stdout",
     "output_type": "stream",
     "text": [
      "6\n"
     ]
    }
   ],
   "source": [
    "\n",
    "# Round to the nearest integer:\n",
    "\n",
    "x = round(5.76543)\n",
    "print(x)\n"
   ]
  },
  {
   "cell_type": "code",
   "execution_count": 42,
   "id": "e5c50af1-7df4-4933-9bc7-699d6dbeeda2",
   "metadata": {},
   "outputs": [
    {
     "name": "stdout",
     "output_type": "stream",
     "text": [
      "5.77\n"
     ]
    }
   ],
   "source": [
    "\n",
    "# Round a number to only two decimals:\n",
    "\n",
    "x = round(5.76543, 2)\n",
    "print(x)\n"
   ]
  },
  {
   "cell_type": "code",
   "execution_count": null,
   "id": "3384c1fe-fe99-4b65-9ee3-d5d2c7394b87",
   "metadata": {},
   "outputs": [],
   "source": []
  },
  {
   "cell_type": "markdown",
   "id": "12c37470-ff83-44d8-b712-dcf6142c27d7",
   "metadata": {},
   "source": [
    "\n",
    "\n",
    "<br>\n",
    "\n",
    "<br>\n",
    "\n",
    "<font size=\"+1\"><span style=\"background-color: yellow;font-size: larger\">&nbsp;**set( )**&nbsp;</span></font>&nbsp;&nbsp;<font size=\"+2\">:</font>&nbsp;&nbsp;<span style=\"color: red\">➜</span>&nbsp;&nbsp;&nbsp;creates a set object. <br>\n",
    "&nbsp;&nbsp;&nbsp;&nbsp;&nbsp;&nbsp;&nbsp;&nbsp;&nbsp;&nbsp;&nbsp;&nbsp;&nbsp;&nbsp;&nbsp;&nbsp;&nbsp;&nbsp;&nbsp;&nbsp;&nbsp;&nbsp;<span style=\"color: red\">➜</span>&nbsp;&nbsp;&nbsp;It is used <span style=\"background-color:  #CAFEFD\">to create an **unordered** collection of **unique** elements</span> which means the order of elements in the original list may not be preserved in the set.  <br>\n",
    "&nbsp;&nbsp;&nbsp;&nbsp;&nbsp;&nbsp;&nbsp;&nbsp;&nbsp;&nbsp;&nbsp;&nbsp;&nbsp;&nbsp;&nbsp;&nbsp;&nbsp;&nbsp;&nbsp;&nbsp;&nbsp;&nbsp;<span style=\"color: red\">➜</span>&nbsp;&nbsp;&nbsp;It takes an iterable as an argument (such as a list, tuple, or string) and returns a new set object with the unique elements from that iterable. <br>\n",
    "\n",
    "\n",
    "<div style=\"border: 1px solid pink; padding: 12px; margin-left: 140px; width: 500px; background-color: #fff6f6\">\n",
    "    \n",
    "**set( iterable )**\n",
    "\n",
    "</div>\n",
    "\n",
    "<br>\n",
    "\n",
    "&nbsp;&nbsp;&nbsp;&nbsp;&nbsp;&nbsp;&nbsp;&nbsp;&nbsp;&nbsp;&nbsp;&nbsp;&nbsp;&nbsp;&nbsp;&nbsp;&nbsp;&nbsp;&nbsp;&nbsp;&nbsp;&nbsp;&nbsp;&nbsp;&nbsp;&nbsp;&nbsp;&nbsp;&nbsp;&nbsp;&nbsp;&nbsp;&nbsp;&nbsp;&nbsp;&nbsp;&nbsp;where, iterable =====> Optional. A sequence, collection or an iterator object"
   ]
  },
  {
   "cell_type": "code",
   "execution_count": 45,
   "id": "5558486e-d99e-4f9e-b6eb-d9dc0dc43ba2",
   "metadata": {},
   "outputs": [
    {
     "name": "stdout",
     "output_type": "stream",
     "text": [
      "{'apple', 'cherry', 'banana'}\n"
     ]
    }
   ],
   "source": [
    "\n",
    "# Create a set containing fruit names:\n",
    "\n",
    "x = set(('apple', 'banana', 'cherry'))\n",
    "print(x)\n"
   ]
  },
  {
   "cell_type": "code",
   "execution_count": 49,
   "id": "c60896ae-60da-4dd6-a432-4effd8c01e88",
   "metadata": {},
   "outputs": [
    {
     "name": "stdout",
     "output_type": "stream",
     "text": [
      "{1, 2, 3, 4, 5}\n"
     ]
    }
   ],
   "source": [
    "\n",
    "# Creating a Set from a List\n",
    "\n",
    "my_list = [4, 2, 3, 2, 4, 1, 5]\n",
    "my_set = set(my_list)\n",
    "print(my_set)  \n"
   ]
  },
  {
   "cell_type": "code",
   "execution_count": 50,
   "id": "6b6f3b4a-4d9f-4bc9-8d7d-d455a30e891f",
   "metadata": {},
   "outputs": [
    {
     "name": "stdout",
     "output_type": "stream",
     "text": [
      "{'l', 'e', 'h', 'o'}\n"
     ]
    }
   ],
   "source": [
    "\n",
    "# Creating a set from a string\n",
    "\n",
    "my_string = \"hello\"\n",
    "my_set = set(my_string)\n",
    "print(my_set) \n"
   ]
  },
  {
   "cell_type": "code",
   "execution_count": 52,
   "id": "baec5f24-1185-4b01-9bc3-f4e36fabc72d",
   "metadata": {},
   "outputs": [
    {
     "name": "stdout",
     "output_type": "stream",
     "text": [
      "set()\n"
     ]
    }
   ],
   "source": [
    "\n",
    "# Creating an empty set\n",
    "\n",
    "empty_set = set()\n",
    "print(empty_set)\n"
   ]
  },
  {
   "cell_type": "code",
   "execution_count": 55,
   "id": "61e96d50-06c3-49b7-bdb6-eb5c4d120ad8",
   "metadata": {},
   "outputs": [
    {
     "name": "stdout",
     "output_type": "stream",
     "text": [
      "{1, 2, 3, 4, 5, 6, 7, 8}\n",
      "{4, 5}\n",
      "{1, 2, 3}\n",
      "{8, 6, 7}\n",
      "{1, 2, 3, 6, 7, 8}\n"
     ]
    }
   ],
   "source": [
    "\n",
    "# Set Operations\n",
    "\n",
    "\n",
    "set1 = {1, 2, 3, 4, 5}\n",
    "set2 = {4, 5, 6, 7, 8}\n",
    "\n",
    "\n",
    "# Union\n",
    "union_set = set1 | set2\n",
    "print(union_set)                              # Output: {1, 2, 3, 4, 5, 6, 7, 8}\n",
    "\n",
    "\n",
    "# Intersection\n",
    "intersection_set = set1 & set2\n",
    "print(intersection_set)                       # Output: {4, 5}\n",
    "\n",
    "\n",
    "# Difference\n",
    "difference_set = set1 - set2\n",
    "print(difference_set)                         # Output: {1, 2, 3}\n",
    "difference_set = set2 - set1\n",
    "print(difference_set)                         # Output: {8, 6, 7}\n",
    "\n",
    "\n",
    "# Symmetric Difference\n",
    "symmetric_difference_set = set1 ^ set2\n",
    "print(symmetric_difference_set)               # Output: {1, 2, 3, 6, 7, 8}\n"
   ]
  },
  {
   "cell_type": "code",
   "execution_count": null,
   "id": "1efd6461-ec20-481a-b675-8e5c68121e1c",
   "metadata": {},
   "outputs": [],
   "source": []
  },
  {
   "cell_type": "markdown",
   "id": "afced065-9052-4661-8963-974dd2f0c9b8",
   "metadata": {},
   "source": [
    "\n",
    "<br>\n",
    "\n",
    "<br>\n",
    "\n",
    "<font size=\"+1\"><span style=\"background-color: yellow;font-size: larger\">&nbsp;**setattr( )**&nbsp;</span></font> : sets the value of the specified attribute of the specified object.\n",
    "\n",
    "<br>\n",
    "\n",
    "<div style=\"border: 1px solid pink; padding: 10px; margin-left: 120px; width: 300px; background-color: #fff6f6\">\n",
    "\n",
    "**getattr( object** , **attribute** , **value )**\n",
    "\n",
    "</div>\n",
    "\n",
    "<br>\n",
    "\n",
    "\n",
    "|  <span style=\"color: #38CF07\">Parameter</span> |  <span style=\"color: #38CF07\">Description</span>                |\n",
    "|------------------------------------------------|-----------------------------------------------------------------|\n",
    "|  **object**                                    | Required. An object.                                            |\n",
    "|  **attribute**                                 | Required. The name of the attribute you want to set             |\n",
    "|  **value**                                     | Required. The value you want to give the specified attribute    |\n"
   ]
  },
  {
   "cell_type": "code",
   "execution_count": 59,
   "id": "47313945-1568-4366-a879-e3675ad57b50",
   "metadata": {},
   "outputs": [
    {
     "name": "stdout",
     "output_type": "stream",
     "text": [
      "32\n"
     ]
    }
   ],
   "source": [
    "\n",
    "# Change the value of the \"age\" property of the \"person\" object:\n",
    "\n",
    "class Person:\n",
    "    name = \"Avinash\"\n",
    "    age = 30\n",
    "    country = \"India\"\n",
    "\n",
    "setattr(Person, 'age', 32)\n",
    "\n",
    "# The age property will now have the value: 40\n",
    "\n",
    "x = getattr(Person, 'age')\n",
    "\n",
    "print(x)\n"
   ]
  },
  {
   "cell_type": "code",
   "execution_count": 60,
   "id": "33a1e916-3db7-453d-9f24-02b96bbb718d",
   "metadata": {},
   "outputs": [
    {
     "name": "stdout",
     "output_type": "stream",
     "text": [
      "Name: Avinash, Age: 30\n",
      "Name: Avinash Kumar Mishra, Age: 30\n"
     ]
    }
   ],
   "source": [
    "\n",
    "class Person:\n",
    "    def __init__(self, name, age):\n",
    "        self.name = name\n",
    "        self.age = age\n",
    "\n",
    "    def display_info(self):\n",
    "        print(f\"Name: {self.name}, Age: {self.age}\")\n",
    "\n",
    "\n",
    "# Create an instance of the Person class\n",
    "person1 = Person(\"Avinash\", 30)\n",
    "\n",
    "\n",
    "# Display initial info\n",
    "person1.display_info()                                   # Output: Name: Alice, Age: 30\n",
    "\n",
    "\n",
    "# Now, let's use setattr to change the name attribute\n",
    "setattr(person1, \"name\", \"Avinash Kumar Mishra\")\n",
    "\n",
    "\n",
    "# Display updated info\n",
    "person1.display_info()                                   # Output: Name: Bob, Age: 30\n"
   ]
  },
  {
   "cell_type": "markdown",
   "id": "2640b6e6-516a-4aa6-b7c2-ef35b5d71480",
   "metadata": {},
   "source": [
    "<br>\n",
    "\n",
    "<span style=\"background-color: #F5C0FF\">**Note**</span> \n",
    "1. The **delattr( )** function, to <span style=\"background-color:  #CAFEFD\">remove an attribute</span>\n",
    "2. The **getattr( )** function, to <span style=\"background-color:  #CAFEFD\">get the value of an attribute</span>\n",
    "3. The **hasattr( )** function, to <span style=\"background-color:  #CAFEFD\">check if an attribute exist</span>\n",
    "4. The **setattr( )** function, to <span style=\"background-color:  #CAFEFD\">set the value of the specified attribute</span>\n"
   ]
  },
  {
   "cell_type": "code",
   "execution_count": null,
   "id": "f30e5a89-a962-4e7e-b65e-e125d00376f5",
   "metadata": {},
   "outputs": [],
   "source": []
  },
  {
   "cell_type": "markdown",
   "id": "118b05b8-9e58-4e9f-8dcb-b54aab4e2dd8",
   "metadata": {},
   "source": [
    "\n",
    "<br>\n",
    "\n",
    "<br>\n",
    "\n",
    "<font size=\"+1\"><span style=\"background-color: yellow;font-size: larger\">&nbsp;**slice( )**&nbsp;</span></font>&nbsp;&nbsp;<font size=\"+2\">:</font>&nbsp;&nbsp;<span style=\"color: red\">➜</span>&nbsp;&nbsp;&nbsp;creates and returns a slice object, which represents a range of indices that can be used to extract elements from a sequence like a list, tuple, or string. <br>\n",
    "&nbsp;&nbsp;&nbsp;&nbsp;&nbsp;&nbsp;&nbsp;&nbsp;&nbsp;&nbsp;&nbsp;&nbsp;&nbsp;&nbsp;&nbsp;&nbsp;&nbsp;&nbsp;&nbsp;&nbsp;&nbsp;&nbsp;&nbsp;&nbsp;&nbsp;&nbsp;<span style=\"color: red\">➜</span>&nbsp;&nbsp;&nbsp;A slice object is used to specify how to slice a sequence. <br>\n",
    "&nbsp;&nbsp;&nbsp;&nbsp;&nbsp;&nbsp;&nbsp;&nbsp;&nbsp;&nbsp;&nbsp;&nbsp;&nbsp;&nbsp;&nbsp;&nbsp;&nbsp;&nbsp;&nbsp;&nbsp;&nbsp;&nbsp;&nbsp;&nbsp;&nbsp;&nbsp;&nbsp;&nbsp;&nbsp;&nbsp;&nbsp;&nbsp;&nbsp;You can specify where to start the slicing, and where to end. You can also specify the step, which allows you to e.g. slice only every other item. \n",
    "\n",
    "<br>\n",
    "\n",
    "<div style=\"border: 1px solid pink; padding: 10px; margin-left: 140px; width: 300px; background-color: #fff6f6\">\n",
    "\n",
    "**slice( start** , **end** , **step )**\n",
    "\n",
    "</div>\n",
    "\n",
    "<br>\n",
    "\n",
    "\n",
    "|  <span style=\"color: #38CF07\">Parameter</span> |  <span style=\"color: #38CF07\">Description</span>                                                |\n",
    "|------------------------------------------------|-------------------------------------------------------------------------------------------------|\n",
    "|  **start**                                     | Optional. An integer number specifying at which position to start the slicing. Default is 0     |\n",
    "|  **end**                                       | Required. And integer number specifying the ending index of the slice. The slice extends up to, but does not include, this index.       |\n",
    "|  **step**                                      | Optional. An integer number specifying the step of the slicing. Default is 1                    |\n",
    "\n",
    "<br>\n",
    "\n",
    "<br>\n",
    "\n",
    "The following illustrates the indexes of the string <span style=\"background-color: #FFF971;color: red\">  \"Python String\"  </span> : <br>\n",
    "\n",
    "\n",
    "\n",
    "<div style=\"text-align: left; margin-left: -200px\">\n",
    "  \n",
    "|    |  P  |  y  |  t  |  h  |  o  |  n  |     |  S  |  t  |  r  |  i  |  n  |  g  |    |\n",
    "|----|-----|-----|-----|-----|-----|-----|-----|-----|-----|-----|-----|-----|-----|----|\n",
    "|    |  0  |  1  |  2  |  3  |  4  |  5  |  6  |  7  |  8  |  9  | 10  |  11 |  12 | 13 |\n",
    "|-14 | -13 | -12 | -11 | -10 |  -9 |  -8 |  -7 |  -6 |  -5 |  -4 |  -3 |  -2 |  -1 |    |\n",
    "\n",
    "</div>\n",
    "\n",
    "\n",
    "<br>\n",
    "\n",
    "<span style=\"color: red\"><font size=\"+2\">↳⭐</font></span> &nbsp;<span style=\"background-color: #CAFEFD\">&nbsp; To **reverse a string**, use **negavtive slicing** with **step = -1** :&nbsp;</span> \n",
    "\n",
    "&nbsp;&nbsp;&nbsp;&nbsp;&nbsp;&nbsp;&nbsp;&nbsp;⇒ If you omit the start, it <span style=\"color: blue\"> defaults </span> to **-1**. \n",
    "<br>\n",
    "&nbsp;&nbsp;&nbsp;&nbsp;&nbsp;&nbsp;&nbsp;&nbsp;⇒ If you omit the end, it <span style=\"color: blue\"> defaults </span> to **-(len(iterator) + 1)**.\n",
    "<br>\n",
    "&nbsp;&nbsp;&nbsp;&nbsp;&nbsp;&nbsp;&nbsp;&nbsp;⇒ **right to left** slicing\n",
    "<br>\n",
    "\n",
    "<br>\n",
    "\n",
    "<font size=\"+1\">↳</font> &nbsp;<span style=\"background-color: #F4D6FF\">**Basic usage**</span>"
   ]
  },
  {
   "cell_type": "code",
   "execution_count": 102,
   "id": "03808f4a-7b30-4c18-a193-a654ea4ec4af",
   "metadata": {},
   "outputs": [
    {
     "name": "stdout",
     "output_type": "stream",
     "text": [
      "[20, 30, 40]\n"
     ]
    }
   ],
   "source": [
    "\n",
    "# Create a slice object that selects indices 1 through 4 (excluding 4)\n",
    "\n",
    "my_slice = slice(1, 4)\n",
    "my_list = [10, 20, 30, 40, 50]\n",
    "result = my_list[my_slice]                      # equivalent to =====> [10, 20, 30, 40, 50][1:]\n",
    "print(result) \n"
   ]
  },
  {
   "cell_type": "code",
   "execution_count": 87,
   "id": "cf7c4cd0-25ff-485f-aa87-118775cd63c0",
   "metadata": {},
   "outputs": [
    {
     "name": "stdout",
     "output_type": "stream",
     "text": [
      "('a', 'b')\n"
     ]
    }
   ],
   "source": [
    "\n",
    "\n",
    "# Create a tuple and a slice object. Use the slice object to get only the two first items of the tuple:\n",
    "\n",
    "a = (\"a\", \"b\", \"c\", \"d\", \"e\", \"f\", \"g\", \"h\")\n",
    "x = slice(2)                                    # equivalent to =====> (\"a\", \"b\", \"c\", \"d\", \"e\", \"f\", \"g\", \"h\")[:2:]\n",
    "print(a[x])\n"
   ]
  },
  {
   "cell_type": "code",
   "execution_count": 86,
   "id": "e44c8cb8-f9f3-4072-8150-e0e5ee000b98",
   "metadata": {},
   "outputs": [
    {
     "name": "stdout",
     "output_type": "stream",
     "text": [
      "('d', 'e')\n"
     ]
    }
   ],
   "source": [
    "\n",
    "# Create a tuple and a slice object. Start the slice object at position 3, and slice to position 5, and return the result:\n",
    "\n",
    "a = (\"a\", \"b\", \"c\", \"d\", \"e\", \"f\", \"g\", \"h\")\n",
    "x = slice(3, 5)                                 # equivalent to =====> (\"a\", \"b\", \"c\", \"d\", \"e\", \"f\", \"g\", \"h\")[3:5]\n",
    "print(a[x])\n"
   ]
  },
  {
   "cell_type": "markdown",
   "id": "2b0f0d17-c2e6-4ddf-b4ce-3878bc980ba9",
   "metadata": {},
   "source": [
    "<br>\n",
    "\n",
    "<font size=\"+1\">↳</font> &nbsp;<span style=\"background-color: #F4D6FF\">**Using Slice with String**</span>"
   ]
  },
  {
   "cell_type": "code",
   "execution_count": 84,
   "id": "b01e1ae9-50d8-4ce7-aa3b-bdc7931398b4",
   "metadata": {},
   "outputs": [
    {
     "name": "stdout",
     "output_type": "stream",
     "text": [
      "Hlo ol!\n"
     ]
    }
   ],
   "source": [
    "\n",
    "# Create a slice object to get every other character\n",
    "\n",
    "my_slice = slice(None, None, 2)\n",
    "my_string = \"Hello, World!\"\n",
    "result = my_string[my_slice]                     # equivalent to =====> \"Hello, World!\"[::2]\n",
    "print(result) \n"
   ]
  },
  {
   "cell_type": "markdown",
   "id": "15b6d345-2e63-4489-8deb-59663842a0c8",
   "metadata": {},
   "source": [
    "<br>\n",
    "\n",
    "<font size=\"+1\">↳</font> &nbsp;<span style=\"background-color: #F4D6FF\">**Using Slice with Step**</span>"
   ]
  },
  {
   "cell_type": "code",
   "execution_count": 82,
   "id": "1bd13762-4d5e-4bc9-9a34-8300e1efd0a0",
   "metadata": {},
   "outputs": [
    {
     "name": "stdout",
     "output_type": "stream",
     "text": [
      "[1, 4, 7]\n"
     ]
    }
   ],
   "source": [
    "\n",
    "# Create a slice object to get every third element\n",
    "\n",
    "my_slice = slice(None, None, 3)  # Equivalent to [::3]\n",
    "my_list = [1, 2, 3, 4, 5, 6, 7, 8, 9]\n",
    "result = my_list[my_slice]                        # equivalent to =====> [1, 2, 3, 4, 5, 6, 7, 8, 9][::3]\n",
    "print(result)  # Output: [1, 4, 7]\n"
   ]
  },
  {
   "cell_type": "code",
   "execution_count": 85,
   "id": "38820c14-2b38-4417-af47-1973b2c83cf8",
   "metadata": {},
   "outputs": [
    {
     "name": "stdout",
     "output_type": "stream",
     "text": [
      "('a', 'd', 'g')\n"
     ]
    }
   ],
   "source": [
    "\n",
    "\n",
    "# Create a tuple and a slice object. Use the step parameter to return every third item:\n",
    "\n",
    "a = (\"a\", \"b\", \"c\", \"d\", \"e\", \"f\", \"g\", \"h\")     \n",
    "x = slice(0, 8, 3)                                # equivalent to =====> (\"a\", \"b\", \"c\", \"d\", \"e\", \"f\", \"g\", \"h\")[0:8:3]\n",
    "print(a[x])\n"
   ]
  },
  {
   "cell_type": "markdown",
   "id": "a96e8b1e-96cf-47ed-8fd7-50e410d1ad33",
   "metadata": {},
   "source": [
    "<br>\n",
    "\n",
    "<font size=\"+1\">↳</font> &nbsp;<span style=\"background-color: #F4D6FF\">**Slice with Negative Indices**</span>"
   ]
  },
  {
   "cell_type": "code",
   "execution_count": 77,
   "id": "1dbed3b0-bd9b-4e99-ba7a-8e535a063d25",
   "metadata": {},
   "outputs": [
    {
     "name": "stdout",
     "output_type": "stream",
     "text": [
      "[3, 4, 5]\n"
     ]
    }
   ],
   "source": [
    "\n",
    "# Create a slice object to select elements from index -3 to the end\n",
    "\n",
    "my_slice = slice(-3, None)\n",
    "my_list = [1, 2, 3, 4, 5]\n",
    "result = my_list[my_slice]            # equivalent to =====> [1, 2, 3, 4, 5][-3:]\n",
    "print(result) \n"
   ]
  },
  {
   "cell_type": "code",
   "execution_count": 78,
   "id": "fc340104-8022-4381-a0f7-be60fb4f99ab",
   "metadata": {},
   "outputs": [
    {
     "name": "stdout",
     "output_type": "stream",
     "text": [
      "hsanivA\n"
     ]
    }
   ],
   "source": [
    "\n",
    "my_slice = slice(-1, None, -1)\n",
    "name = \"Avinash\"\n",
    "reversed_name = name[my_slice]        # equivalent to =====> \"Avinash\"[-1::-1]\n",
    "print(reversed_name)\n"
   ]
  },
  {
   "cell_type": "code",
   "execution_count": 101,
   "id": "eb4a6af6-196d-47b3-8fcf-00229f96348c",
   "metadata": {},
   "outputs": [
    {
     "name": "stdout",
     "output_type": "stream",
     "text": [
      "['a', 'b', 'c', 'd', 'e']\n",
      "\n",
      "['a', 'b', 'c', 'd', 'e']\n",
      "\n",
      "---------------------------------\n",
      "\n",
      "['e', 'd', 'c', 'b', 'a']\n",
      "\n",
      "['e', 'd', 'c', 'b', 'a']\n",
      "\n",
      "-------------------------------\n",
      "\n",
      "['d', 'c', 'b', 'a']\n",
      "\n",
      "['d', 'c', 'b', 'a']\n",
      "\n",
      "------------------------------\n",
      "\n",
      "[]\n",
      "\n",
      "[]\n",
      "\n"
     ]
    }
   ],
   "source": [
    "\n",
    "\n",
    "name = ['a', 'b', 'c', 'd', 'e']\n",
    "\n",
    "#      ['a', 'b', 'c', 'd', 'e']   ===> [0:5:1] ======> 0 to (5-1) from left to right\n",
    "print(name[slice(None, None, None)], end=\"\\n\"*2) \n",
    "print(name[::], end=\"\\n\\n---------------------------------\\n\\n\")\n",
    "\n",
    "\n",
    "#      ['e', 'd', 'c', 'b', 'a']   ===> [4:-6:-1] ====> 4 to (-5-1) from right to left\n",
    "print(name[slice(None, None, -1)], end=\"\\n\"*2)    \n",
    "print(name[::-1], end=\"\\n\\n-------------------------------\\n\\n\")\n",
    "\n",
    "\n",
    "#       ['d', 'c', 'b', 'a']  =========> [3:-6:-1] ====> 3 to -6 from right to left\n",
    "print(name[slice(3, None, -1)], end=\"\\n\"*2)  \n",
    "print(name[3::-1], end=\"\\n\\n------------------------------\\n\\n\")\n",
    "\n",
    "\n",
    "#       []  ===========================> [-1:-1:-1] ===> -1 to -2 from right to left\n",
    "print(name[slice(None, -1, -1)], end=\"\\n\"*2)  \n",
    "print(name[:-1:-1], end=\"\\n\"*2)\n",
    "\n"
   ]
  },
  {
   "cell_type": "code",
   "execution_count": null,
   "id": "9cce412f-ee5b-416b-8aef-ed6aa15eb17e",
   "metadata": {},
   "outputs": [],
   "source": []
  },
  {
   "cell_type": "markdown",
   "id": "029ed5d2-40ba-4508-9334-1e2c97158204",
   "metadata": {},
   "source": [
    "\n",
    "<br>\n",
    "\n",
    "<br>\n",
    "\n",
    "\n",
    "<font size=\"+1\"><span style=\"background-color: yellow;font-size: larger\">&nbsp;**sorted( )**&nbsp;</span></font>&nbsp;&nbsp;<font size=\"+2\">:</font>&nbsp;&nbsp;<span style=\"color: red\">➜</span>&nbsp;&nbsp;&nbsp;returns a new sorted list containing the elements of the specified (original) iterable. <br>\n",
    "&nbsp;&nbsp;&nbsp;&nbsp;&nbsp;&nbsp;&nbsp;&nbsp;&nbsp;&nbsp;&nbsp;&nbsp;&nbsp;&nbsp;&nbsp;&nbsp;&nbsp;&nbsp;&nbsp;&nbsp;&nbsp;&nbsp;&nbsp;&nbsp;&nbsp;&nbsp;&nbsp;&nbsp;&nbsp;&nbsp;&nbsp;<span style=\"color: red\">➜</span>&nbsp;&nbsp;&nbsp;You can specify ascending or descending order. Strings are sorted alphabetically, and numbers are sorted numerically. <br>\n",
    "\n",
    "&nbsp;&nbsp;&nbsp;&nbsp;&nbsp;&nbsp;&nbsp;&nbsp;&nbsp;&nbsp;&nbsp;&nbsp;&nbsp;&nbsp;&nbsp;&nbsp;&nbsp;&nbsp;&nbsp;&nbsp;&nbsp;&nbsp;&nbsp;&nbsp;&nbsp;&nbsp;&nbsp;&nbsp;&nbsp;&nbsp;&nbsp;&nbsp;&nbsp;&nbsp;&nbsp;&nbsp;&nbsp;&nbsp;&nbsp;<span style=\"background-color: #CAFEFD\">&nbsp;Note that you **cannot sort** a list that contains **BOTH string values AND numeric values**.&nbsp;</span>\n",
    "\n",
    "<br>\n",
    "\n",
    "<div style=\"border: 1px solid pink; padding: 10px; background-color: #fff6f6\">\n",
    "\n",
    "**<span style=\"background-color: white; font-size: larger\"><span style=\"color: blue\">&nbsp;sorted</span><span style=\"color: black\">(&nbsp;<span style=\"background-color: yellow\">iterable</span>, <span style=\"background-color: yellow\">key</span> = None, <span style=\"background-color: yellow\">reverse</span> = False&nbsp;)&nbsp;</span>** </span>\n",
    "\n",
    "<br>\n",
    "\n",
    "&nbsp;&nbsp;&nbsp;&nbsp;&nbsp;&nbsp;&nbsp;&nbsp;where, **iterable** ============> &nbsp;The iterable object (e.g., list, tuple, set) to be sorted. <br>\n",
    "<br>\n",
    "&nbsp;&nbsp;&nbsp;&nbsp;&nbsp;&nbsp;&nbsp;&nbsp;&nbsp;&nbsp;&nbsp;&nbsp;&nbsp;&nbsp;&nbsp;&nbsp;&nbsp;&nbsp;&nbsp;&nbsp;**key** (optional)  ========> &nbsp;A **function** that takes an element of the iterable as input and returns a value based on which the sorting will be done. <br>\n",
    "&nbsp;&nbsp;&nbsp;&nbsp;&nbsp;&nbsp;&nbsp;&nbsp;&nbsp;&nbsp;&nbsp;&nbsp;&nbsp;&nbsp;&nbsp;&nbsp;&nbsp;&nbsp;&nbsp;&nbsp;&nbsp;&nbsp;&nbsp;&nbsp;&nbsp;&nbsp;&nbsp;&nbsp;&nbsp;&nbsp;&nbsp;&nbsp;&nbsp;&nbsp;&nbsp;&nbsp;&nbsp;&nbsp;&nbsp;&nbsp;&nbsp;&nbsp;&nbsp;&nbsp;&nbsp;&nbsp;&nbsp;&nbsp;&nbsp;&nbsp;&nbsp;&nbsp;&nbsp;&nbsp;&nbsp;&nbsp;&nbsp;&nbsp;&nbsp;&nbsp;&nbsp;&nbsp;&nbsp;&nbsp;&nbsp;&nbsp;&nbsp;&nbsp;If not specified or **'None'**, the elements are sorted based on their natural order. <br>\n",
    "<br>\n",
    "&nbsp;&nbsp;&nbsp;&nbsp;&nbsp;&nbsp;&nbsp;&nbsp;&nbsp;&nbsp;&nbsp;&nbsp;&nbsp;&nbsp;&nbsp;&nbsp;&nbsp;&nbsp;&nbsp;&nbsp;**reverse** (optional)  =====>\n",
    "&nbsp;A boolean value indicating whether the sorting should be done in reverse order (&nbsp;**<span style=\"background-color: yellow\">True</span>**&nbsp;) or not (&nbsp;**<span style=\"background-color: yellow\">False</span>**&nbsp;). <br>\n",
    "&nbsp;&nbsp;&nbsp;&nbsp;&nbsp;&nbsp;&nbsp;&nbsp;&nbsp;&nbsp;&nbsp;&nbsp;&nbsp;&nbsp;&nbsp;&nbsp;&nbsp;&nbsp;&nbsp;&nbsp;&nbsp;&nbsp;&nbsp;&nbsp;&nbsp;&nbsp;&nbsp;&nbsp;&nbsp;&nbsp;&nbsp;&nbsp;&nbsp;&nbsp;&nbsp;&nbsp;&nbsp;&nbsp;&nbsp;&nbsp;&nbsp;&nbsp;&nbsp;&nbsp;&nbsp;&nbsp;&nbsp;&nbsp;&nbsp;&nbsp;&nbsp;&nbsp;&nbsp;&nbsp;&nbsp;&nbsp;&nbsp;&nbsp;&nbsp;&nbsp;&nbsp;&nbsp;&nbsp;&nbsp;&nbsp;&nbsp; Default is False (ascending order).\n",
    "\n",
    "</div>\n",
    "\n",
    "<br>"
   ]
  },
  {
   "cell_type": "code",
   "execution_count": 103,
   "id": "4b414ff7-b8e5-4ee6-82a7-aa440943c595",
   "metadata": {},
   "outputs": [
    {
     "name": "stdout",
     "output_type": "stream",
     "text": [
      "[1, 1, 2, 3, 4, 5, 5, 6, 9]\n"
     ]
    }
   ],
   "source": [
    "\n",
    "#  Sorting a List\n",
    "\n",
    "my_list = [3, 1, 4, 1, 5, 9, 2, 6, 5]\n",
    "sorted_list = sorted(my_list)\n",
    "print(sorted_list)\n"
   ]
  },
  {
   "cell_type": "code",
   "execution_count": 106,
   "id": "244a65d2-fc3c-460c-bd82-3aeb2c06ceae",
   "metadata": {},
   "outputs": [
    {
     "name": "stdout",
     "output_type": "stream",
     "text": [
      "[1, 3, 5, 8, 10]\n"
     ]
    }
   ],
   "source": [
    "\n",
    "#  Sorting a Tuple\n",
    "\n",
    "my_tuple = (10, 5, 8, 3, 1)\n",
    "sorted_tuple = sorted(my_tuple)\n",
    "print(sorted_tuple) \n"
   ]
  },
  {
   "cell_type": "code",
   "execution_count": 108,
   "id": "37f0965c-3679-496d-85ad-1b4b2f976ba9",
   "metadata": {},
   "outputs": [
    {
     "name": "stdout",
     "output_type": "stream",
     "text": [
      "['h', 'n', 'o', 'p', 't', 'y']\n"
     ]
    }
   ],
   "source": [
    "\n",
    "#  Sorting a String\n",
    "\n",
    "my_string = \"python\"\n",
    "sorted_string = sorted(my_string)\n",
    "print(sorted_string)\n"
   ]
  },
  {
   "cell_type": "code",
   "execution_count": 115,
   "id": "12bddb18-e2ec-4426-a170-b15d88c201a9",
   "metadata": {},
   "outputs": [
    {
     "name": "stdout",
     "output_type": "stream",
     "text": [
      "[1, 2, 11]\n"
     ]
    }
   ],
   "source": [
    "\n",
    "# Sort numeric:\n",
    "\n",
    "a = (1, 11, 2)\n",
    "x = sorted(a)\n",
    "print(x)\n"
   ]
  },
  {
   "cell_type": "code",
   "execution_count": 110,
   "id": "281f4496-4979-4d30-9d5a-da5eb1fdbd58",
   "metadata": {},
   "outputs": [
    {
     "name": "stdout",
     "output_type": "stream",
     "text": [
      "[9, 6, 5, 5, 4, 3, 2, 1, 1]\n"
     ]
    }
   ],
   "source": [
    "\n",
    "#  Sorting in descending order with reverse=True\n",
    "\n",
    "my_list = [3, 1, 4, 1, 5, 9, 2, 6, 5]\n",
    "sorted_list_desc = sorted(my_list, reverse=True)\n",
    "print(sorted_list_desc) \n"
   ]
  },
  {
   "cell_type": "markdown",
   "id": "8b93cea0-f98d-4484-91f1-6f90b5ccbc24",
   "metadata": {},
   "source": [
    "<br>\n",
    "\n",
    "<font size=\"+1\">↳</font> &nbsp;<span style=\"background-color: #F4D6FF\">**Sorting with a Custom Key Function**</span>\n"
   ]
  },
  {
   "cell_type": "code",
   "execution_count": 114,
   "id": "b21ba37e-3cba-4c45-a035-2508b5943e88",
   "metadata": {},
   "outputs": [
    {
     "name": "stdout",
     "output_type": "stream",
     "text": [
      "[('Aman', 25), ('Radha', 28), ('Avinash', 30)]\n"
     ]
    }
   ],
   "source": [
    "\n",
    "# Sorting a list of tuples based on the second element\n",
    "# Sort the list of tuples by the age of students\n",
    "\n",
    "\n",
    "L = [('Avinash', 30),\n",
    "    ('Aman', 25),\n",
    "    ('Radha', 28)]\n",
    "\n",
    "\n",
    "x = sorted(L, key=lambda student: student[1])\n",
    "\n",
    "\n",
    "print(x) \n"
   ]
  },
  {
   "cell_type": "code",
   "execution_count": null,
   "id": "2e4d8903-9e2b-498a-afac-15d691ae6dde",
   "metadata": {},
   "outputs": [],
   "source": []
  },
  {
   "cell_type": "markdown",
   "id": "a87e0ea8-92d3-488b-8496-a24c07f5bbb2",
   "metadata": {},
   "source": [
    "\n",
    "<br>\n",
    "\n",
    "<br>\n",
    "\n",
    "<font size=\"+1\"><span style=\"background-color: yellow;font-size: larger\">&nbsp;**staticmethod( )**&nbsp;</span></font>&nbsp;&nbsp;<font size=\"+2\">:</font>&nbsp;&nbsp;<span style=\"color: red\">➜</span>&nbsp;&nbsp;&nbsp;returns a static method for a given function. In other words, it <span style=\"background-color: #CAFEFD\">converts a method into a **static method**</span>. <br>\n",
    "&nbsp;&nbsp;&nbsp;&nbsp;&nbsp;&nbsp;&nbsp;&nbsp;&nbsp;&nbsp;&nbsp;&nbsp;&nbsp;&nbsp;&nbsp;&nbsp;&nbsp;&nbsp;&nbsp;&nbsp;&nbsp;&nbsp;&nbsp;&nbsp;&nbsp;&nbsp;&nbsp;&nbsp;&nbsp;&nbsp;&nbsp;&nbsp;&nbsp;&nbsp;&nbsp;&nbsp;&nbsp;&nbsp;&nbsp;&nbsp;&nbsp;&nbsp;&nbsp;&nbsp;&nbsp;&nbsp;&nbsp;&nbsp;&nbsp;<span style=\"color: red\">➜</span>&nbsp;&nbsp;&nbsp;A static method is a method that belongs to the class rather than an instance of the class. <br>\n",
    "&nbsp;&nbsp;&nbsp;&nbsp;&nbsp;&nbsp;&nbsp;&nbsp;&nbsp;&nbsp;&nbsp;&nbsp;&nbsp;&nbsp;&nbsp;&nbsp;&nbsp;&nbsp;&nbsp;&nbsp;&nbsp;&nbsp;&nbsp;&nbsp;&nbsp;&nbsp;&nbsp;&nbsp;&nbsp;&nbsp;&nbsp;&nbsp;&nbsp;&nbsp;&nbsp;&nbsp;&nbsp;&nbsp;&nbsp;&nbsp;&nbsp;&nbsp;&nbsp;&nbsp;&nbsp;&nbsp;&nbsp;&nbsp;&nbsp;&nbsp;&nbsp;&nbsp;&nbsp;&nbsp;&nbsp;&nbsp;This means it can be called on the class itself, without needing an instance of the class.\n",
    "\n",
    "\n",
    "<br>\n",
    "\n",
    "<div style=\"border: 1px solid pink; padding: 10px; margin-left: 230px; width: 300px; background-color: #fff6f6\">\n",
    "\n",
    "**staticmethod( function )**\n",
    "\n",
    "</div>\n",
    "\n",
    "<br>\n"
   ]
  },
  {
   "cell_type": "code",
   "execution_count": 117,
   "id": "05e9a514-a830-4619-8fb3-9e0a7541a9f6",
   "metadata": {},
   "outputs": [
    {
     "name": "stdout",
     "output_type": "stream",
     "text": [
      "This is a static method\n",
      "This is a static method\n",
      "This is an instance method\n"
     ]
    }
   ],
   "source": [
    "\n",
    "class MyClass:\n",
    "    def __init__(self, value):\n",
    "        self.value = value\n",
    "\n",
    "    @staticmethod\n",
    "    def static_method():\n",
    "        return \"This is a static method\"\n",
    "\n",
    "    def instance_method(self):\n",
    "        return \"This is an instance method\"\n",
    "\n",
    "# Accessing the static method directly from the class\n",
    "print(MyClass.static_method())  # Output: This is a static method\n",
    "\n",
    "\n",
    "# Creating an instance of MyClass\n",
    "obj = MyClass(42)\n",
    "\n",
    "# Accessing the static method from an instance (not recommended)\n",
    "print(obj.static_method())  # Output: This is a static method\n",
    "\n",
    "# Accessing the instance method\n",
    "print(obj.instance_method())  # Output: This is an instance method\n"
   ]
  },
  {
   "cell_type": "markdown",
   "id": "44322df4-bf3f-4b1b-bdc2-0c3f1dd5b847",
   "metadata": {},
   "source": [
    "\n",
    "<br>\n",
    "\n",
    "<span style=\"color: blue\">**When to Use staticmethod( )**:</span>  <br>\n",
    "1. Use **staticmethod()** <span style=\"background-color: #CAFEFD\">when a method does not require access to the instance state (does not use **self**) and does not modify the instance or class state</span>.\n",
    "   \n",
    "2. Static methods are often used for utility functions that are related to the class but do not need access to instance variables.\n",
    "   \n",
    "3. They can also be used for creating alternative constructors or factory methods for a class.\n",
    "\n",
    "\n",
    "<br>\n",
    "\n",
    "\n",
    "<span style=\"color: blue\">**Notes**:</span>  <br>\n",
    "1. Static methods are called without a class instance or a class reference.\n",
    "\n",
    "2. When defining a static method inside a class, you use the **@staticmethod** decorator before the method definition.\n",
    "   \n",
    "3. Static methods do not have access to <span style=\"background-color: #CAFEFD\">**self** (the instance)</span> or <span style=\"background-color: #CAFEFD\">**cls** (the class)</span>. They operate like regular functions but are <span style=\"background-color: #CAFEFD\">scoped within the class namespace</span>.\n",
    "   \n",
    "4. You can also create static methods <span style=\"background-color: #CAFEFD\">using the **staticmethod( )** function directly, without the decorator syntax</span>.\n",
    "\n"
   ]
  },
  {
   "cell_type": "code",
   "execution_count": null,
   "id": "240daee2-e1d1-4ce9-bec3-d8c137704a79",
   "metadata": {},
   "outputs": [],
   "source": []
  },
  {
   "cell_type": "markdown",
   "id": "b59ee2a7-049e-46fa-a414-ea1c96ab6897",
   "metadata": {},
   "source": [
    "\n",
    "<br>\n",
    "\n",
    "<br>\n",
    "\n",
    "<font size=\"+1\"><span style=\"background-color: yellow;font-size: larger\">&nbsp;**str( )**&nbsp;</span></font>&nbsp;&nbsp;<font size=\"+2\">:</font>&nbsp;&nbsp;<span style=\"color: red\">➜</span>&nbsp;&nbsp;&nbsp;returns a string version of the object passed as an argument. <br>\n",
    "&nbsp;&nbsp;&nbsp;&nbsp;&nbsp;&nbsp;&nbsp;&nbsp;&nbsp;&nbsp;&nbsp;&nbsp;&nbsp;&nbsp;&nbsp;&nbsp;&nbsp;&nbsp;&nbsp;&nbsp;&nbsp;<span style=\"color: red\">➜</span>&nbsp;&nbsp;&nbsp;It is used to convert different types of objects into a string representation.  <br>\n",
    "\n",
    "\n",
    "<br>\n",
    "\n",
    "<div style=\"border: 1px solid pink; padding: 10px; margin-left: 230px; width: 400px; background-color: #fff6f6\">\n",
    "\n",
    "**str(object** , [**encoding** = encoding, **errors** = errors] **)**\n",
    "\n",
    "</div>\n",
    "\n",
    "<br>\n",
    "\n",
    "\n",
    "|  <span style=\"color: #38CF07\">Parameter</span> |  <span style=\"color: #38CF07\">Description</span>                            |\n",
    "|------------------------------------------------|-----------------------------------------------------------------------------|\n",
    "|  **object**                                    | Required. Any object. Specifies the object to convert into a string        |\n",
    "|  **encoding**                                  | Optional. The encoding of the object. Default is UTF-8                                |\n",
    "|  **errors**                                    | Optional. Specifies what to do if the decoding fails                                  |\n",
    "\n"
   ]
  },
  {
   "cell_type": "code",
   "execution_count": 129,
   "id": "6f69e3ed-89fa-449b-bb98-24bdf1d62d5c",
   "metadata": {},
   "outputs": [
    {
     "name": "stdout",
     "output_type": "stream",
     "text": [
      "42 <class 'str'>\n"
     ]
    }
   ],
   "source": [
    "\n",
    "# Converting an Integer to a String\n",
    "\n",
    "num = 42\n",
    "str_num = str(num)\n",
    "print(str_num, type(str_num))             # Output: \"42\"\n"
   ]
  },
  {
   "cell_type": "code",
   "execution_count": 130,
   "id": "1f610d0b-f88d-4427-a3ba-ca7028f25a3d",
   "metadata": {},
   "outputs": [
    {
     "name": "stdout",
     "output_type": "stream",
     "text": [
      "3.14159 <class 'str'>\n"
     ]
    }
   ],
   "source": [
    "\n",
    "# Converting a Float to a String\n",
    "\n",
    "float_num = 3.14159\n",
    "str_float = str(float_num)\n",
    "print(str_float, type(str_float))         # Output: \"3.14159\"\n"
   ]
  },
  {
   "cell_type": "code",
   "execution_count": 131,
   "id": "453a31ff-b972-494e-a921-603d8bc13122",
   "metadata": {},
   "outputs": [
    {
     "name": "stdout",
     "output_type": "stream",
     "text": [
      "True <class 'str'>\n"
     ]
    }
   ],
   "source": [
    "\n",
    "# Converting a Boolean to a String\n",
    "\n",
    "flag = True\n",
    "str_flag = str(flag)\n",
    "print(str_flag, type(str_flag))           # Output: \"True\"\n"
   ]
  },
  {
   "cell_type": "code",
   "execution_count": 132,
   "id": "15b82ca1-473e-4161-b096-7d5a87517017",
   "metadata": {},
   "outputs": [
    {
     "name": "stdout",
     "output_type": "stream",
     "text": [
      "[1, 2, 3] <class 'str'>\n"
     ]
    }
   ],
   "source": [
    "\n",
    "# Converting a List to a String\n",
    "\n",
    "my_list = [1, 2, 3]\n",
    "str_list = str(my_list)\n",
    "print(str_list, type(str_list))           # Output: \"[1, 2, 3]\"\n"
   ]
  },
  {
   "cell_type": "code",
   "execution_count": 133,
   "id": "0429ae2f-7bd4-41c5-a8c5-8076ed110490",
   "metadata": {},
   "outputs": [
    {
     "name": "stdout",
     "output_type": "stream",
     "text": [
      "{'name': 'Alice', 'age': 30} <class 'str'>\n"
     ]
    }
   ],
   "source": [
    "\n",
    "# Converting a Dictionary to a String\n",
    "\n",
    "my_dict = {\"name\": \"Alice\", \"age\": 30}\n",
    "str_dict = str(my_dict)\n",
    "print(str_dict, type(str_dict))           # Output: \"{'name': 'Alice', 'age': 30}\"\n"
   ]
  },
  {
   "cell_type": "code",
   "execution_count": null,
   "id": "6b65e8af-3e35-4a1a-9b3c-2ec082ebab75",
   "metadata": {},
   "outputs": [],
   "source": []
  },
  {
   "cell_type": "markdown",
   "id": "922be53c-8df0-4309-9f06-b6ea803ffb0c",
   "metadata": {},
   "source": [
    "<br>\n",
    "\n",
    "<br>\n",
    "\n",
    "<font size=\"+1\"><span style=\"background-color: yellow;font-size: larger\">&nbsp;**sum( )**&nbsp;</span></font> : returns a number, the sum of all items in an iterable.\n",
    "\n",
    "<br>\n",
    "\n",
    "<div style=\"border: 1px solid pink; padding: 10px; margin-left: 280px; width: 250px; background-color: #fff6f6\">\n",
    "\n",
    "**sum( iterable** [, **start** = 0] **)**\n",
    "\n",
    "</div>\n",
    "\n",
    "<br>\n",
    "\n",
    "\n",
    "|  <span style=\"color: #38CF07\">Parameter</span> |  <span style=\"color: #38CF07\">Description</span>                            |\n",
    "|------------------------------------------------|-----------------------------------------------------------------------------|\n",
    "|  **iterable**                                  | Required. The iterable (list, tuple, etc.) whose elements you want to sum.  |\n",
    "|  **start**                                     | Optional. A value that will be added to the return value (sum of elements). |\n",
    "\n",
    "<br>\n",
    "\n",
    "<font size=\"+1\">↳</font> &nbsp;**Summing a List of Numbers**"
   ]
  },
  {
   "cell_type": "code",
   "execution_count": 138,
   "id": "e879f133-0f99-487b-9029-35e5355529b1",
   "metadata": {},
   "outputs": [
    {
     "name": "stdout",
     "output_type": "stream",
     "text": [
      "15\n"
     ]
    }
   ],
   "source": [
    "\n",
    "my_list = [1, 2, 3, 4, 5]\n",
    "result = sum(my_list)\n",
    "print(result)                       # Output: 15 (1 + 2 + 3 + 4 + 5 = 15)\n"
   ]
  },
  {
   "cell_type": "markdown",
   "id": "fa0a2934-0ff6-4f80-ab32-1f750c5b9ed4",
   "metadata": {},
   "source": [
    "<font size=\"+1\">↳</font> &nbsp;**Summing a Tuple of Numbers**"
   ]
  },
  {
   "cell_type": "code",
   "execution_count": 139,
   "id": "d7ed7328-4837-4084-99f1-fe57386329be",
   "metadata": {},
   "outputs": [
    {
     "name": "stdout",
     "output_type": "stream",
     "text": [
      "150\n"
     ]
    }
   ],
   "source": [
    "\n",
    "my_tuple = (10, 20, 30, 40, 50)\n",
    "result = sum(my_tuple)\n",
    "print(result)                       # Output: 150 (10 + 20 + 30 + 40 + 50 = 150)\n"
   ]
  },
  {
   "cell_type": "markdown",
   "id": "93d9711a-0df9-4ca7-bf08-5ddd8af0b1b6",
   "metadata": {},
   "source": [
    "<font size=\"+1\">↳</font> &nbsp;**Summing with a Starting Value**"
   ]
  },
  {
   "cell_type": "code",
   "execution_count": 145,
   "id": "2344c3c5-6771-418c-8e12-564903b72ab3",
   "metadata": {},
   "outputs": [
    {
     "name": "stdout",
     "output_type": "stream",
     "text": [
      "25\n"
     ]
    }
   ],
   "source": [
    "\n",
    "# Start with the number 10, and add all the items in a list to this number:\n",
    "\n",
    "my_list = [1, 2, 3, 4, 5]\n",
    "result = sum(my_list, 10)\n",
    "print(result)                        # Output: 25 (10 + 1 + 2 + 3 + 4 + 5 = 25)\n"
   ]
  },
  {
   "cell_type": "markdown",
   "id": "5153b6a6-1aae-4806-b95f-d0524b7433bf",
   "metadata": {},
   "source": [
    "<font size=\"+1\">↳</font> &nbsp;**Summing Floating Point Numbers**"
   ]
  },
  {
   "cell_type": "code",
   "execution_count": 147,
   "id": "c8a9658a-b036-48ef-9627-9d80c8e5a164",
   "metadata": {},
   "outputs": [
    {
     "name": "stdout",
     "output_type": "stream",
     "text": [
      "1.5\n"
     ]
    }
   ],
   "source": [
    "\n",
    "my_floats = [0.1, 0.2, 0.3, 0.4, 0.5]\n",
    "result = sum(my_floats)\n",
    "print(result)                        # Output: 1.5 (0.1 + 0.2 + 0.3 + 0.4 + 0.5 = 1.5)\n"
   ]
  },
  {
   "cell_type": "markdown",
   "id": "c948f865-4d14-4d21-b3dd-da03fcefd87a",
   "metadata": {},
   "source": [
    "<font size=\"+1\">↳</font> &nbsp;**Summing a List of Strings**"
   ]
  },
  {
   "cell_type": "code",
   "execution_count": 150,
   "id": "3b803bb6-9646-4779-9f46-f9f008a78a20",
   "metadata": {},
   "outputs": [
    {
     "ename": "TypeError",
     "evalue": "unsupported operand type(s) for +: 'int' and 'str'",
     "output_type": "error",
     "traceback": [
      "\u001b[1;31m---------------------------------------------------------------------------\u001b[0m",
      "\u001b[1;31mTypeError\u001b[0m                                 Traceback (most recent call last)",
      "Cell \u001b[1;32mIn[150], line 2\u001b[0m\n\u001b[0;32m      1\u001b[0m my_strings \u001b[38;5;241m=\u001b[39m [\u001b[38;5;124m\"\u001b[39m\u001b[38;5;124mHello\u001b[39m\u001b[38;5;124m\"\u001b[39m, \u001b[38;5;124m\"\u001b[39m\u001b[38;5;124mWorld\u001b[39m\u001b[38;5;124m\"\u001b[39m, \u001b[38;5;124m\"\u001b[39m\u001b[38;5;124m!\u001b[39m\u001b[38;5;124m\"\u001b[39m]\n\u001b[1;32m----> 2\u001b[0m result \u001b[38;5;241m=\u001b[39m \u001b[38;5;28;43msum\u001b[39;49m\u001b[43m(\u001b[49m\u001b[43mmy_strings\u001b[49m\u001b[43m)\u001b[49m             \u001b[38;5;66;03m# Raises TypeError\u001b[39;00m\n",
      "\u001b[1;31mTypeError\u001b[0m: unsupported operand type(s) for +: 'int' and 'str'"
     ]
    }
   ],
   "source": [
    "\n",
    "my_strings = [\"Hello\", \"World\", \"!\"]\n",
    "result = sum(my_strings)             # Raises TypeError\n"
   ]
  },
  {
   "cell_type": "code",
   "execution_count": null,
   "id": "d0a3c565-88df-4f1c-ab18-1716371e0946",
   "metadata": {},
   "outputs": [],
   "source": []
  },
  {
   "cell_type": "markdown",
   "id": "56ba5ec2-ac18-41b2-852c-86131317a145",
   "metadata": {},
   "source": [
    "\n",
    "\n",
    "<br>\n",
    "\n",
    "<br>\n",
    "\n",
    "<font size=\"+1\"><span style=\"background-color: yellow;font-size: larger\">&nbsp;**super( )**&nbsp;</span></font>&nbsp;&nbsp;<font size=\"+2\">:</font>&nbsp;&nbsp;<span style=\"color: red\">➜</span>&nbsp;&nbsp;&nbsp;provides a way to access methods and properties of a parent or sibling i.e., superclass from a subclass.  <br>\n",
    "&nbsp;&nbsp;&nbsp;&nbsp;&nbsp;&nbsp;&nbsp;&nbsp;&nbsp;&nbsp;&nbsp;&nbsp;&nbsp;&nbsp;&nbsp;&nbsp;&nbsp;&nbsp;&nbsp;&nbsp;&nbsp;&nbsp;&nbsp;&nbsp;&nbsp;&nbsp;&nbsp;&nbsp;&nbsp;<span style=\"color: red\">➜</span>&nbsp;&nbsp;&nbsp;returns an object that represents the parent class.  <br>\n",
    "&nbsp;&nbsp;&nbsp;&nbsp;&nbsp;&nbsp;&nbsp;&nbsp;&nbsp;&nbsp;&nbsp;&nbsp;&nbsp;&nbsp;&nbsp;&nbsp;&nbsp;&nbsp;&nbsp;&nbsp;&nbsp;&nbsp;&nbsp;&nbsp;&nbsp;&nbsp;&nbsp;&nbsp;&nbsp;<span style=\"color: red\">➜</span>&nbsp;&nbsp;&nbsp;It's commonly used in object-oriented programming when working with inheritance.  <br>\n",
    "\n",
    "\n",
    "<br>\n",
    "\n",
    "<div style=\"border: 1px solid pink; padding: 10px; margin-left: 200px; width: 300px; background-color: #fff6f6\">\n",
    "\n",
    "**super(** [ **type** [, **object-or-type** ] ] **)**\n",
    "\n",
    "\n",
    "</div>\n",
    "\n",
    "<br>\n",
    "\n",
    "\n",
    "|  <span style=\"color: #38CF07\">Parameter</span> |  <span style=\"color: #38CF07\">Description</span>                            |\n",
    "|------------------------------------------------|-----------------------------------------------------------------------------|\n",
    "|  **type**                                    | The class whose superclass method or property you want to access. <br> <br>This parameter is typically omitted in modern Python, as it's inferred from the context.        |\n",
    "|  **object or type**                                  |  OPTIONAL. The object instance or class instance through which you want to access the superclass. <br> <br> If omitted, it defaults to self in instance methods and the class itself in class methods.                               |\n",
    "\n"
   ]
  },
  {
   "cell_type": "code",
   "execution_count": 158,
   "id": "9eac9124-9024-4bb4-8f6b-7d26d01757d1",
   "metadata": {},
   "outputs": [
    {
     "name": "stdout",
     "output_type": "stream",
     "text": [
      "Hello, and welcome!\n"
     ]
    }
   ],
   "source": [
    "\n",
    "# Create a class that will inherit all the methods and properties from another class:\n",
    "\n",
    "class Parent:\n",
    "  def __init__(self, txt):\n",
    "    self.message = txt\n",
    "\n",
    "  def printmessage(self):\n",
    "    print(self.message)\n",
    "\n",
    "\n",
    "class Child(Parent):\n",
    "  def __init__(self, txt):\n",
    "    super().__init__(txt)       # Calls Parent's __init__() method\n",
    "\n",
    "\n",
    "x = Child(\"Hello, and welcome!\")\n",
    "\n",
    "\n",
    "x.printmessage()\n"
   ]
  },
  {
   "cell_type": "code",
   "execution_count": 159,
   "id": "1fd9d931-79a6-43fb-a14d-3c62ee9f7650",
   "metadata": {},
   "outputs": [
    {
     "name": "stdout",
     "output_type": "stream",
     "text": [
      "Parent: Alice\n",
      "Child: 10\n"
     ]
    }
   ],
   "source": [
    "\n",
    "class Parent:\n",
    "    def __init__(self, name):\n",
    "        self.name = name\n",
    "\n",
    "    def show_info(self):\n",
    "        print(\"Parent:\", self.name)\n",
    "\n",
    "\n",
    "class Child(Parent):\n",
    "    def __init__(self, name, age):\n",
    "        super().__init__(name)     # Calls Parent's __init__() method\n",
    "        self.age = age\n",
    "\n",
    "    def show_info(self):\n",
    "        super().show_info()        # Calls Parent's show_info() method\n",
    "        print(\"Child:\", self.age)\n",
    "\n",
    "\n",
    "# Creating an instance of Child\n",
    "child = Child(\"Alice\", 10)\n",
    "child.show_info()\n"
   ]
  },
  {
   "cell_type": "markdown",
   "id": "d1017cc6-cd66-40b9-8f00-ba7a288e3a64",
   "metadata": {},
   "source": [
    "\n",
    "<br>\n",
    "\n",
    "<span style=\"color: blue\">**Notes**:</span>  <br>\n",
    "1. **super( )** allows you to call methods from the superclass without explicitly naming the superclass.   <br>\n",
    "\n",
    "2. It's commonly used to call the superclass constructor ( <strong><span style=\"color: red\">\\_\\_init\\_\\_()</span></strong> method) in the subclass constructor to initialize the superclass attributes.  <br>\n",
    "\n",
    "3. It's also used to access other methods or properties of the superclass within the subclass.   <br>\n",
    "\n",
    "4. When used inside a class method, **super( )** automatically determines the correct class to call based on the class it's called from (**self** or the class name). <br>In Python 3, you can omit the type and object-or-type parameters.   <br>\n",
    "\n",
    "5. **super( )** is particularly useful in cases where multiple inheritance is involved, helping to ensure that methods are called in the correct order in the inheritance hierarchy."
   ]
  },
  {
   "cell_type": "code",
   "execution_count": null,
   "id": "6e497936-cfeb-49f5-830e-4ddd89d7b763",
   "metadata": {},
   "outputs": [],
   "source": []
  },
  {
   "cell_type": "markdown",
   "id": "8cb9a4e0-33c2-4035-bae4-504fb419fc5e",
   "metadata": {},
   "source": [
    "\n",
    "\n",
    "<br>\n",
    "\n",
    "<br>\n",
    "\n",
    "<font size=\"+1\"><span style=\"background-color: yellow;font-size: larger\">&nbsp;**tuple( )**&nbsp;</span></font>&nbsp;&nbsp;<font size=\"+2\">:</font>&nbsp;&nbsp;<span style=\"color: red\">➜</span>&nbsp;&nbsp;&nbsp;is used to create a tuple object, which is <span style=\"background-color: #CAFEFD\">an **immutable** collection of items, which means it cannot be modified, added, or removed after creation. </span>  <br>\n",
    "&nbsp;&nbsp;&nbsp;&nbsp;&nbsp;&nbsp;&nbsp;&nbsp;&nbsp;&nbsp;&nbsp;&nbsp;&nbsp;&nbsp;&nbsp;&nbsp;&nbsp;&nbsp;&nbsp;&nbsp;&nbsp;&nbsp;&nbsp;&nbsp;&nbsp;&nbsp;&nbsp;&nbsp;&nbsp;&nbsp;&nbsp;&nbsp;&nbsp;&nbsp;This property makes tuples useful for situations where you want to ensure that the data remains constant.\n",
    "\n",
    "\n",
    "&nbsp;&nbsp;&nbsp;&nbsp;&nbsp;&nbsp;&nbsp;&nbsp;&nbsp;&nbsp;&nbsp;&nbsp;&nbsp;&nbsp;&nbsp;&nbsp;&nbsp;&nbsp;&nbsp;&nbsp;&nbsp;&nbsp;&nbsp;&nbsp;&nbsp;&nbsp;&nbsp;&nbsp;<span style=\"color: red\">➜</span>&nbsp;&nbsp;&nbsp;A tuple is similar to a list, but its elements cannot be modified once it's created.  <br>\n",
    "\n",
    "<br>\n",
    "\n",
    "<div style=\"border: 1px solid pink; padding: 10px; margin-left: 230px; width: 200px; background-color: #fff6f6\">\n",
    "\n",
    "**super(** iterable **)**\n",
    "\n",
    "</div>\n",
    "\n",
    "<br>\n",
    "\n",
    "&nbsp;&nbsp;&nbsp;&nbsp;&nbsp;&nbsp;&nbsp;&nbsp;&nbsp;&nbsp;&nbsp;&nbsp;&nbsp;&nbsp;&nbsp;&nbsp;&nbsp;&nbsp;&nbsp;&nbsp;&nbsp;&nbsp;&nbsp;&nbsp;&nbsp;&nbsp;&nbsp;&nbsp;&nbsp;&nbsp;&nbsp;&nbsp;&nbsp;&nbsp;&nbsp;&nbsp;&nbsp;&nbsp;&nbsp;&nbsp;&nbsp;&nbsp;&nbsp;&nbsp;&nbsp;&nbsp;&nbsp;&nbsp;&nbsp;&nbsp;&nbsp;&nbsp;&nbsp;&nbsp;&nbsp;&nbsp;&nbsp;&nbsp;&nbsp;&nbsp;&nbsp;If no argument is provided, an empty tuple <span style=\"background-color: #F6F0F9; color: red;\">&nbsp;**( )**&nbsp;</span> is returned."
   ]
  },
  {
   "cell_type": "code",
   "execution_count": 164,
   "id": "d130d407-978a-4f56-be9b-6860d78260c4",
   "metadata": {},
   "outputs": [
    {
     "name": "stdout",
     "output_type": "stream",
     "text": [
      "(1, 2, 3, 4, 5)\n"
     ]
    }
   ],
   "source": [
    "\n",
    "# Creating a Tuple from a List\n",
    "\n",
    "my_list = [1, 2, 3, 4, 5]\n",
    "my_tuple = tuple(my_list)\n",
    "print(my_tuple)                  # Output: (1, 2, 3, 4, 5)\n"
   ]
  },
  {
   "cell_type": "code",
   "execution_count": 165,
   "id": "c7ffb369-7c86-4eca-a765-ccab20aedb76",
   "metadata": {},
   "outputs": [
    {
     "name": "stdout",
     "output_type": "stream",
     "text": [
      "('h', 'e', 'l', 'l', 'o')\n"
     ]
    }
   ],
   "source": [
    "\n",
    "# Creating a Tuple from a String\n",
    "\n",
    "my_string = \"hello\"\n",
    "my_tuple = tuple(my_string)\n",
    "print(my_tuple)                  # Output: ('h', 'e', 'l', 'l', 'o')\n"
   ]
  },
  {
   "cell_type": "code",
   "execution_count": 167,
   "id": "296143b9-dc44-4180-bad6-772a3b98810f",
   "metadata": {},
   "outputs": [
    {
     "name": "stdout",
     "output_type": "stream",
     "text": [
      "()\n"
     ]
    }
   ],
   "source": [
    "\n",
    "# Creating an Empty Tuple\n",
    "\n",
    "empty_tuple = tuple()\n",
    "print(empty_tuple)               # Output: ()\n"
   ]
  },
  {
   "cell_type": "code",
   "execution_count": 170,
   "id": "9f05aba8-bcdb-49d3-abd7-e4f2cbdd0b89",
   "metadata": {},
   "outputs": [
    {
     "name": "stdout",
     "output_type": "stream",
     "text": [
      "(10, 20, 30)\n"
     ]
    }
   ],
   "source": [
    "\n",
    "# Creating a Tuple from another Tuple\n",
    "\n",
    "existing_tuple = (10, 20, 30)\n",
    "new_tuple = tuple(existing_tuple)\n",
    "print(new_tuple)                # Output: (10, 20, 30)\n"
   ]
  },
  {
   "cell_type": "code",
   "execution_count": 169,
   "id": "be960740-b7b0-400f-8264-9016d9869557",
   "metadata": {},
   "outputs": [
    {
     "name": "stdout",
     "output_type": "stream",
     "text": [
      "(1, 2, 3, 4, 5)\n"
     ]
    }
   ],
   "source": [
    "\n",
    "# Creating a Tuple from a Range\n",
    "\n",
    "numbers = range(1, 6)            # Equivalent to [1, 2, 3, 4, 5]\n",
    "numbers_tuple = tuple(numbers)\n",
    "print(numbers_tuple)             # Output: (1, 2, 3, 4, 5)\n"
   ]
  },
  {
   "cell_type": "markdown",
   "id": "9bb10a23-c221-43c0-b324-9603ba1b5513",
   "metadata": {},
   "source": [
    "<br>\n",
    "\n",
    "<span style=\"color: blue\">**Notes**:</span>  <br>\n",
    "\n",
    "1. If you try to modify a tuple (like assigning a new value to an element), you'll get a **TypeError** because <span style=\"background-color: #CAFEFD\">tuples do not support item assignment or modification</span>.  <br>\n",
    "\n",
    "2. <span style=\"background-color: #CAFEFD\">You can access elements of a tuple using indexing, slicing, and iteration, similar to how you work with lists.</span>  <br>\n",
    "\n",
    "3. When creating a tuple from an iterable, the elements of the iterable are placed in the **same order** in the tuple.  <br>\n",
    "\n",
    "4. If you pass a tuple to **tuple( )**, it will return a shallow copy of that tuple (**not a new object**). This means modifying the original tuple won't affect the new one created with **tuple( )**.     <br>\n",
    "\n",
    "5. If iterable is already a tuple, **tuple( iterable )** will return the same tuple (**no new object is created**).\n"
   ]
  },
  {
   "cell_type": "code",
   "execution_count": null,
   "id": "d65f6aec-c53f-48f0-9941-fa1d822615a3",
   "metadata": {},
   "outputs": [],
   "source": []
  },
  {
   "cell_type": "markdown",
   "id": "2cfd092c-4fe6-4515-b835-5ba564a709a2",
   "metadata": {},
   "source": [
    "\n",
    "<br>\n",
    "\n",
    "<br>\n",
    "\n",
    "<font size=\"+1\"><span style=\"background-color: yellow;font-size: larger\">&nbsp;**type( )**&nbsp;</span></font> : returns the type of any Python object.\n",
    "\n",
    "<br>\n",
    "\n",
    "<div style=\"border: 1px solid pink; padding: 10px; margin-left: 230px; width: 250px; background-color: #fff6f6\">\n",
    "\n",
    "**type( object** [, **bases** , **dict** ] )\n",
    "\n",
    "</div>\n",
    "\n",
    "<br>\n",
    "\n",
    "|  <span style=\"color: #38CF07\">Parameter</span> |  <span style=\"color: #38CF07\">Description</span>                                                  |\n",
    "|------------------------------------------------|---------------------------------------------------------------------------------------------------|\n",
    "|  **object**                                    | Required. If only one parameter is specified, the type() function returns the type of this object |\n",
    "|  **bases**                                     |  Optional. Specifies the base classes                                                             |\n",
    "|  **dict**                                      | Optional. Specifies the namespace with the definition for the class                               |\n",
    "\n"
   ]
  },
  {
   "cell_type": "code",
   "execution_count": 178,
   "id": "5134b51e-1698-4fcf-a592-19f82021f9d0",
   "metadata": {},
   "outputs": [
    {
     "name": "stdout",
     "output_type": "stream",
     "text": [
      "<class 'int'>\n",
      "<class 'str'>\n",
      "<class 'list'>\n",
      "<class 'function'>\n",
      "<class '__main__.Person'>\n"
     ]
    }
   ],
   "source": [
    "\n",
    "# Return the type of these objects:\n",
    "\n",
    "a = 33                                  # integer\n",
    "b = \"Hello World\"                       # string\n",
    "c = ['apple', 'banana', 'cherry']       # list\n",
    "d = ('apple', 'banana', 'cherry')       # tuple\n",
    "\n",
    "#------------------------------------------------------------------#\n",
    "\n",
    "def greet(name):                        # function\n",
    "    return \"Hello, \" + name\n",
    "\n",
    "#------------------------------------------------------------------#\n",
    "\n",
    "class Person:                           # class\n",
    "    def __init__(self, name, age):\n",
    "        self.name = name\n",
    "        self.age = age\n",
    "\n",
    "person = Person(\"Avinash\", 30)\n",
    "\n",
    "#------------------------------------------------------------------#\n",
    "\n",
    "print(type(a))          #   Checking the Type of an integer\n",
    "print(type(b))          #   Checking the Type of a string\n",
    "print(type(c))          #   Checking the Type of a list\n",
    "print(type(greet))      #   Checking the Type of a Function\n",
    "print(type(person))     #   Checking the Type of a Custom Class Instance\n",
    "\n"
   ]
  },
  {
   "cell_type": "markdown",
   "id": "997755e6-47b5-4337-84f9-ca35fe54caba",
   "metadata": {},
   "source": [
    "\n",
    "<br>\n",
    "\n",
    "<span style=\"color: blue\">**Notes** :</span>  <br>\n",
    "\n",
    "1. When using **type( )** with a class instance, it returns the class of the instance, along with its module name ( <strong><span style=\"color: red\">\\_\\_main\\_\\_</span></strong> if defined in the main script).\n",
    "\n",
    "2. **type( )** is <span style=\"background-color: #CAFEFD\">often used in debugging or condition checking</span> to ensure that variables or objects have the expected types.\n",
    "\n",
    "3. It's important to note that **type( )** returns the <span style=\"background-color: #CAFEFD\">**exact type of the object**, including any inheritance or subclass relationships</span>. For example, if an object is an instance of a subclass, **type( )** will return the subclass type."
   ]
  },
  {
   "cell_type": "code",
   "execution_count": null,
   "id": "b30627d1-2fda-48ec-9f8d-458c06c3cfc7",
   "metadata": {},
   "outputs": [],
   "source": []
  },
  {
   "cell_type": "markdown",
   "id": "e3ac055d-f3f7-4cb0-83ed-09a78b4f6ade",
   "metadata": {},
   "source": [
    "\n",
    "<br>\n",
    "\n",
    "<br>\n",
    "\n",
    "<font size=\"+1\"><span style=\"background-color: yellow;font-size: larger\">&nbsp;**vars( )**&nbsp;</span></font>&nbsp;&nbsp;<font size=\"+2\">:</font>&nbsp;&nbsp;<span style=\"color: red\">➜</span>&nbsp;&nbsp;&nbsp;returns the __dict__ attribute of an object. </span>  <br>\n",
    "&nbsp;&nbsp;&nbsp;&nbsp;&nbsp;&nbsp;&nbsp;&nbsp;&nbsp;&nbsp;&nbsp;&nbsp;&nbsp;&nbsp;&nbsp;&nbsp;&nbsp;&nbsp;&nbsp;&nbsp;&nbsp;&nbsp;&nbsp;&nbsp;&nbsp;<span style=\"color: red\">➜</span>&nbsp;&nbsp;&nbsp;The __dict__ attribute is a dictionary containing the <span style=\"background-color: #CAFEFD\">**object's changeable attributes** and their values</span>.  <br>\n",
    "&nbsp;&nbsp;&nbsp;&nbsp;&nbsp;&nbsp;&nbsp;&nbsp;&nbsp;&nbsp;&nbsp;&nbsp;&nbsp;&nbsp;&nbsp;&nbsp;&nbsp;&nbsp;&nbsp;&nbsp;&nbsp;&nbsp;&nbsp;&nbsp;&nbsp;<span style=\"color: red\">➜</span>&nbsp;&nbsp;&nbsp;Note ➜ calling the **vars( )** function without parameters will return a dictionary containing the <span style=\"background-color: #CAFEFD\">**local symbol table** i.e local variables in the current scope</span>.  <br>\n",
    "\n",
    "\n",
    "<br>\n",
    "\n",
    "<div style=\"border: 1px solid pink; padding: 10px; margin-left: 230px; width: 200px; background-color: #fff6f6\">\n",
    "\n",
    "**vars(** [object] **)**\n",
    "\n",
    "</div>\n",
    "\n",
    "<br>\n"
   ]
  },
  {
   "cell_type": "code",
   "execution_count": 181,
   "id": "b3f7b829-c107-4dde-acce-12137f4f5ff1",
   "metadata": {},
   "outputs": [
    {
     "name": "stdout",
     "output_type": "stream",
     "text": [
      "{'__module__': '__main__', 'name': 'Avinash', 'age': 30, 'country': 'India', '__dict__': <attribute '__dict__' of 'Person' objects>, '__weakref__': <attribute '__weakref__' of 'Person' objects>, '__doc__': None}\n"
     ]
    }
   ],
   "source": [
    "\n",
    "class Person:\n",
    "  name = \"Avinash\"\n",
    "  age = 30\n",
    "  country = \"India\"\n",
    "\n",
    "x = vars(Person)\n",
    "\n",
    "print(x)\n"
   ]
  },
  {
   "cell_type": "markdown",
   "id": "062eadad-4bfe-41d0-aa51-74150e38db77",
   "metadata": {},
   "source": [
    "<br>\n",
    "\n",
    "<font size=\"+1\">↳</font> &nbsp;**Getting Local Variables in the Current Scope**"
   ]
  },
  {
   "cell_type": "code",
   "execution_count": 187,
   "id": "75cc816b-6b4c-4012-bad8-f340d449af45",
   "metadata": {},
   "outputs": [
    {
     "name": "stdout",
     "output_type": "stream",
     "text": [
      "{'x': 42, 'y': 'hello'}\n"
     ]
    }
   ],
   "source": [
    "\n",
    "def example_function():\n",
    "    x = 42\n",
    "    y = \"hello\"\n",
    "    print(vars())\n",
    "\n",
    "\n",
    "example_function()     # Output: {'x': 42, 'y': 'hello'}\n"
   ]
  },
  {
   "cell_type": "markdown",
   "id": "947d54ba-eb09-4136-851f-86f90125527c",
   "metadata": {},
   "source": [
    "<br>\n",
    "\n",
    "<font size=\"+1\">↳</font> &nbsp;**Modifying Object Attributes using <span style=\"background-color: #F8E7FF\"><font size=\"+1\">&nbsp;vars()&nbsp;</font></span>**"
   ]
  },
  {
   "cell_type": "code",
   "execution_count": 190,
   "id": "ae41f8fc-9be6-4d4a-a83c-adc10d19e77c",
   "metadata": {},
   "outputs": [
    {
     "name": "stdout",
     "output_type": "stream",
     "text": [
      "{'name': 'Avinash'}\n",
      "{'name': 'Radha'}\n"
     ]
    }
   ],
   "source": [
    "\n",
    "class MyClass:\n",
    "    def __init__(self, name):\n",
    "        self.name = name\n",
    "\n",
    "\n",
    "obj = MyClass(\"Avinash\")\n",
    "print(vars(obj))            # Output: {'name': 'Avinash'}\n",
    "\n",
    "\n",
    "# Modify object attributes using vars()\n",
    "obj_vars = vars(obj)\n",
    "obj_vars['name'] = \"Radha\"\n",
    "print(vars(obj))            # Output: {'name': 'Radha'}\n"
   ]
  },
  {
   "cell_type": "markdown",
   "id": "2aec1949-dd3d-43eb-b0ce-f12691b44b6e",
   "metadata": {},
   "source": [
    "<br>\n",
    "\n",
    "<font size=\"+1\">↳</font> &nbsp;**Creating a New Object Attribute using <span style=\"background-color: #F8E7FF\"><font size=\"+1\">&nbsp;vars( )&nbsp;</font></span>**"
   ]
  },
  {
   "cell_type": "code",
   "execution_count": 194,
   "id": "3cb44ccf-0722-4f06-8808-6ea6f76ca119",
   "metadata": {},
   "outputs": [
    {
     "name": "stdout",
     "output_type": "stream",
     "text": [
      "{'name': 'Aman'}\n",
      "{'name': 'Aman', 'age': 25}\n"
     ]
    }
   ],
   "source": [
    "\n",
    "class MyClass:\n",
    "    def __init__(self, name):\n",
    "        self.name = name\n",
    "\n",
    "\n",
    "obj = MyClass(\"Aman\")\n",
    "print(vars(obj))            # Output: {'name': 'Aman'}\n",
    "\n",
    "\n",
    "# Add a new attribute using vars()\n",
    "obj_vars = vars(obj)\n",
    "obj_vars['age'] = 25\n",
    "print(vars(obj))            # Output: {'name': 'Aman', 'age': 25}\n"
   ]
  },
  {
   "cell_type": "markdown",
   "id": "6e3715b1-94aa-4338-9e34-56735f4ff241",
   "metadata": {},
   "source": [
    "<br>\n",
    "\n",
    "<span style=\"color: blue\">**Notes** :</span>  <br>\n",
    "\n",
    "1. **vars( )** is a convenient way <span style=\"background-color: #CAFEFD\">to inspect the attributes of an object or the local variables in a scope</span>.  <br>\n",
    "\n",
    "2. When used with an object, it returns a dictionary containing the attributes and their values.     <br>\n",
    "\n",
    "3. The returned dictionary is a reference to the object's <strong><span style=\"color: red\">\\_\\_dict\\_\\_</span></strong> attribute. Therefore, modifying the dictionary also modifies the object's attributes.  <br>\n",
    "\n",
    "4. When used without an argument ( **vars( )** ), it returns the local variables in the current scope as a dictionary.  <br>\n",
    "\n",
    "5. If **vars( )** is called with an argument that does not have a <strong><span style=\"color: red\">\\_\\_dict\\_\\_</span></strong>  attribute (such as built-in types), it raises a **TypeError**.   <br>\n",
    "\n",
    "6. It's important to note that **vars( )** is mainly used for introspection and <span style=\"background-color: #CAFEFD\">debugging purposes</span>, and direct modification of an object's <strong><span style=\"color: red\">\\_\\_dict\\_\\_</span></strong>  should be used with caution.\n"
   ]
  },
  {
   "cell_type": "code",
   "execution_count": null,
   "id": "138331cb-9bc6-463f-8415-7b9e873b1833",
   "metadata": {},
   "outputs": [],
   "source": []
  },
  {
   "cell_type": "markdown",
   "id": "a53194a7-b8c4-4c23-a265-33182bfd6542",
   "metadata": {},
   "source": [
    "\n",
    "\n",
    "<br>\n",
    "\n",
    "<br>\n",
    "\n",
    "<font size=\"+1\"><span style=\"background-color: yellow;font-size: larger\">&nbsp;**zip( )**&nbsp;</span></font>&nbsp;&nbsp;<font size=\"+2\">:</font>&nbsp;&nbsp;<span style=\"color: red\">➜</span>&nbsp;&nbsp;&nbsp;returns a zip object, which is an iterator of tuples where the first item in each passed iterator is paired together, <br>\n",
    "&nbsp;&nbsp;&nbsp;&nbsp;&nbsp;&nbsp;&nbsp;&nbsp;&nbsp;&nbsp;&nbsp;&nbsp;&nbsp;&nbsp;&nbsp;&nbsp;&nbsp;&nbsp;&nbsp;&nbsp;&nbsp;&nbsp;&nbsp;&nbsp;&nbsp;&nbsp;&nbsp;&nbsp;&nbsp;and then the second item in each passed iterator are paired together etc. </span>  <br>\n",
    "\n",
    "&nbsp;&nbsp;&nbsp;&nbsp;&nbsp;&nbsp;&nbsp;&nbsp;&nbsp;&nbsp;&nbsp;&nbsp;&nbsp;&nbsp;&nbsp;&nbsp;&nbsp;&nbsp;&nbsp;&nbsp;&nbsp;&nbsp;<span style=\"color: red\">➜</span>&nbsp;&nbsp;&nbsp;In other words, it allows you to iterate through multiple iterables (lists, tuples, etc.) simultaneously, creating an iterator of tuples <br>\n",
    "&nbsp;&nbsp;&nbsp;&nbsp;&nbsp;&nbsp;&nbsp;&nbsp;&nbsp;&nbsp;&nbsp;&nbsp;&nbsp;&nbsp;&nbsp;&nbsp;&nbsp;&nbsp;&nbsp;&nbsp;&nbsp;&nbsp;&nbsp;&nbsp;&nbsp;&nbsp;&nbsp;&nbsp;&nbsp;where each tuple contains elements from the corresponding positions of the input iterables. \n",
    "\n",
    "&nbsp;&nbsp;&nbsp;&nbsp;&nbsp;&nbsp;&nbsp;&nbsp;&nbsp;&nbsp;&nbsp;&nbsp;&nbsp;&nbsp;&nbsp;&nbsp;&nbsp;&nbsp;&nbsp;&nbsp;&nbsp;&nbsp;<span style=\"color: red\">➜</span>&nbsp;&nbsp;&nbsp; <span style=\"background-color: #CAFEFD\">It stops when the shortest input iterable is exhausted.</span>  <br>\n",
    "&nbsp;&nbsp;&nbsp;&nbsp;&nbsp;&nbsp;&nbsp;&nbsp;&nbsp;&nbsp;&nbsp;&nbsp;&nbsp;&nbsp;&nbsp;&nbsp;&nbsp;&nbsp;&nbsp;&nbsp;&nbsp;&nbsp;&nbsp;&nbsp;&nbsp;&nbsp;&nbsp;&nbsp;&nbsp;In other words, if the passed iterables have different lengths, the iterable with the least items decides the length of the new iterator.  <br>\n",
    "\n",
    "&nbsp;&nbsp;&nbsp;&nbsp;&nbsp;&nbsp;&nbsp;&nbsp;&nbsp;&nbsp;&nbsp;&nbsp;&nbsp;&nbsp;&nbsp;&nbsp;&nbsp;&nbsp;&nbsp;&nbsp;&nbsp;&nbsp;<span style=\"color: red\">➜</span>&nbsp;&nbsp;&nbsp;To unzip a list of tuples, you can use <span style=\"background-color: #FBF2FF;\"><font size=\"+1\">zip(<span style=\"color: red;\"><strong>*</strong></span>iterable)</font></span> , which effectively transposes the rows and columns.\n",
    "\n",
    "\n",
    "<br>\n",
    "\n",
    "<div style=\"border: 1px solid pink; padding: 10px; margin-left: 230px; width: 350px; background-color: #fff6f6\">\n",
    "\n",
    "<span style=\"color: blue\">Zippping</span>\n",
    "\n",
    "**zip( &nbsp;iterable1** , &nbsp;**iterable2** , &nbsp;**iterable3 ..... )**\n",
    "\n",
    "</div>\n",
    "<div style=\"border: 1px solid pink; padding: 10px; margin-left: 230px; width: 350px; background-color: #fff6f6\">\n",
    "\n",
    "<span style=\"color: blue\">Unzippping</span>\n",
    "\n",
    "**zip( &nbsp;\\*iterables&nbsp; )**\n",
    "\n",
    "</div>\n",
    "\n",
    "<br>\n",
    "\n",
    "<br>\n",
    "\n",
    "<font size=\"+1\">↳</font> &nbsp;**Zipping Two Lists**\n"
   ]
  },
  {
   "cell_type": "code",
   "execution_count": 202,
   "id": "247c7421-bb3f-4d01-bac3-50fb5ffce2ae",
   "metadata": {},
   "outputs": [
    {
     "name": "stdout",
     "output_type": "stream",
     "text": [
      "[(1, 'a'), (2, 'b'), (3, 'c')]\n"
     ]
    }
   ],
   "source": [
    "\n",
    "numbers = [1, 2, 3]\n",
    "letters = ['a', 'b', 'c']\n",
    "result = zip(numbers, letters)\n",
    "\n",
    "\n",
    "# Convert the iterator to a list for demonstration\n",
    "print(list(result))  \n"
   ]
  },
  {
   "cell_type": "markdown",
   "id": "c4b231e3-5dbf-4bd0-98fd-16e4e485bc20",
   "metadata": {},
   "source": [
    "<br>\n",
    "\n",
    "<font size=\"+1\">↳</font> &nbsp;**Zipping Three Lists**"
   ]
  },
  {
   "cell_type": "code",
   "execution_count": 203,
   "id": "eaad016a-acf7-4551-a45d-274292e61c41",
   "metadata": {},
   "outputs": [
    {
     "name": "stdout",
     "output_type": "stream",
     "text": [
      "[(1, 'a', True), (2, 'b', False), (3, 'c', True)]\n"
     ]
    }
   ],
   "source": [
    "\n",
    "numbers = [1, 2, 3]\n",
    "letters = ['a', 'b', 'c']\n",
    "boolean_values = [True, False, True]\n",
    "result = zip(numbers, letters, boolean_values)\n",
    "\n",
    "\n",
    "# Convert the iterator to a list for demonstration\n",
    "print(list(result))  \n"
   ]
  },
  {
   "cell_type": "markdown",
   "id": "909c4063-a3ce-48cb-b936-c9446627c3dd",
   "metadata": {},
   "source": [
    "<br>\n",
    "\n",
    "<font size=\"+1\">↳</font> &nbsp;**Unzipping a List of Tuples ( Using <span style=\"background-color: #F8E7FF\"><font size=\"+1\">&nbsp;zip( )&nbsp;</font></span> with <span style=\"color: red; background-color: #FBF2FF\"><font size=\"+1\">&nbsp;\\*&nbsp;</font></span> )**"
   ]
  },
  {
   "cell_type": "code",
   "execution_count": 206,
   "id": "f99af927-755f-428a-a167-2b5df6b18b19",
   "metadata": {},
   "outputs": [
    {
     "name": "stdout",
     "output_type": "stream",
     "text": [
      "(1, 2, 3)\n",
      "('a', 'b', 'c')\n"
     ]
    }
   ],
   "source": [
    "\n",
    "data = [(1, 'a'), (2, 'b'), (3, 'c')]\n",
    "numbers, letters = zip(*data)\n",
    "\n",
    "print(numbers)                         # Output: (1, 2, 3)\n",
    "print(letters)                         # Output: ('a', 'b', 'c')\n"
   ]
  },
  {
   "cell_type": "code",
   "execution_count": 213,
   "id": "bb90005c-1159-4a11-8961-d0cf6db35d80",
   "metadata": {},
   "outputs": [
    {
     "name": "stdout",
     "output_type": "stream",
     "text": [
      "(1, 2, 3)\n",
      "('a', 'b', 'c')\n",
      "(True, False, True)\n"
     ]
    }
   ],
   "source": [
    "\n",
    "data = [(1, 'a', True), (2, 'b', False), (3, 'c', True)]\n",
    "\n",
    "# Using zip() with * to unzip the data\n",
    "numbers, letters, boolean_values = zip(*data)\n",
    "\n",
    "print(numbers)              # Output: (1, 2, 3)\n",
    "print(letters)              # Output: ('a', 'b', 'c')\n",
    "print(boolean_values)       # Output: ('True', 'False', 'True')\n"
   ]
  },
  {
   "cell_type": "markdown",
   "id": "eaa54af2-27e7-4e42-9f96-89c85a402160",
   "metadata": {},
   "source": [
    "<br>\n",
    "\n",
    "<font size=\"+1\">↳</font> &nbsp;**Zipping Different Length Lists ( <span style=\"background-color: #CAFEFD\">Stops at the Shortest</span> )**"
   ]
  },
  {
   "cell_type": "code",
   "execution_count": 208,
   "id": "797076f0-c6b0-40a7-8e32-191ed4ebc6b1",
   "metadata": {},
   "outputs": [
    {
     "name": "stdout",
     "output_type": "stream",
     "text": [
      "[(1, 'a'), (2, 'b')]\n"
     ]
    }
   ],
   "source": [
    "\n",
    "numbers = [1, 2, 3]\n",
    "letters = ['a', 'b']\n",
    "result = zip(numbers, letters)\n",
    "\n",
    "# Convert the iterator to a list for demonstration\n",
    "print(list(result)) \n"
   ]
  },
  {
   "cell_type": "markdown",
   "id": "37bb0c40-8c67-49d9-af39-337fc876cafe",
   "metadata": {},
   "source": [
    "<br>\n",
    "\n",
    "<font size=\"+1\">↳</font> &nbsp;**Using <span style=\"background-color: #CAFEFD\">&nbsp;<font size=\"+1\">zip( )</font>&nbsp; in a Loop&nbsp;**</span>"
   ]
  },
  {
   "cell_type": "code",
   "execution_count": 209,
   "id": "c18b0fc7-86a2-4a09-98e5-db99a53da616",
   "metadata": {},
   "outputs": [
    {
     "name": "stdout",
     "output_type": "stream",
     "text": [
      "Number: 1, Letter: a\n",
      "Number: 2, Letter: b\n",
      "Number: 3, Letter: c\n"
     ]
    }
   ],
   "source": [
    "\n",
    "numbers = [1, 2, 3]\n",
    "letters = ['a', 'b', 'c']\n",
    "for num, letter in zip(numbers, letters):\n",
    "    print(f\"Number: {num}, Letter: {letter}\")\n"
   ]
  },
  {
   "cell_type": "code",
   "execution_count": null,
   "id": "6c7dbffa-c805-4fb2-9b30-e48c594365d2",
   "metadata": {},
   "outputs": [],
   "source": []
  },
  {
   "cell_type": "code",
   "execution_count": null,
   "id": "3ba3f5d7-f877-47b6-927b-ec150fc4da98",
   "metadata": {},
   "outputs": [],
   "source": []
  },
  {
   "cell_type": "code",
   "execution_count": null,
   "id": "98775156-a4af-4df6-8940-f042e7529081",
   "metadata": {},
   "outputs": [],
   "source": []
  },
  {
   "cell_type": "code",
   "execution_count": null,
   "id": "0280bc69-60f6-432d-b627-5d8ceabf67be",
   "metadata": {},
   "outputs": [],
   "source": []
  }
 ],
 "metadata": {
  "kernelspec": {
   "display_name": "Python 3 (ipykernel)",
   "language": "python",
   "name": "python3"
  },
  "language_info": {
   "codemirror_mode": {
    "name": "ipython",
    "version": 3
   },
   "file_extension": ".py",
   "mimetype": "text/x-python",
   "name": "python",
   "nbconvert_exporter": "python",
   "pygments_lexer": "ipython3",
   "version": "3.11.3"
  }
 },
 "nbformat": 4,
 "nbformat_minor": 5
}
