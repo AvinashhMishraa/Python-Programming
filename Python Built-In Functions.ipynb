{
 "cells": [
  {
   "cell_type": "markdown",
   "id": "5497e237-0706-4b6e-93b0-018feac35cb9",
   "metadata": {},
   "source": [
    "# <u>Python Built-in Functions</u>\n",
    "\n",
    "<br>"
   ]
  },
  {
   "cell_type": "markdown",
   "id": "7a9b565a-a0d4-4741-a901-e2e5adb33022",
   "metadata": {},
   "source": [
    "<br>\n",
    "\n",
    "<span style=\"background-color: yellow;font-size: larger\">&nbsp;**abs()**&nbsp;</span> : Returns the **absolute value of a number**"
   ]
  },
  {
   "cell_type": "code",
   "execution_count": 2,
   "id": "70900f5a-a70b-4f27-89d8-89e02a88f8d4",
   "metadata": {},
   "outputs": [
    {
     "name": "stdout",
     "output_type": "stream",
     "text": [
      "7.25\n"
     ]
    }
   ],
   "source": [
    "x = abs(-7.25)\n",
    "print(x)"
   ]
  },
  {
   "cell_type": "code",
   "execution_count": 3,
   "id": "316ee7af-42cb-4ecb-bcb1-7a7dac6f6988",
   "metadata": {},
   "outputs": [
    {
     "name": "stdout",
     "output_type": "stream",
     "text": [
      "5.830951894845301\n"
     ]
    }
   ],
   "source": [
    "x = abs(3+5j)\n",
    "print(x)"
   ]
  },
  {
   "cell_type": "code",
   "execution_count": null,
   "id": "da6f5a57-6379-4e89-9a6d-6088fcd6a23f",
   "metadata": {},
   "outputs": [],
   "source": []
  },
  {
   "cell_type": "markdown",
   "id": "622632ef-a179-48dd-b226-df45c222ac13",
   "metadata": {},
   "source": [
    "<br>\n",
    "\n",
    "<span style=\"background-color: yellow;font-size: larger\">&nbsp;**all()**&nbsp;</span> : Returns <span style=\"color: blue\">**True**</span> if **all items** in an iterable object are **true**"
   ]
  },
  {
   "cell_type": "code",
   "execution_count": 27,
   "id": "3725017f-6234-4af0-82f8-28e923d83420",
   "metadata": {},
   "outputs": [
    {
     "name": "stdout",
     "output_type": "stream",
     "text": [
      "True\n"
     ]
    }
   ],
   "source": [
    "# Check if all items in a list are True:\n",
    "\n",
    "mylist = [True, True, True]\n",
    "x = all(mylist)\n",
    "print(x)"
   ]
  },
  {
   "cell_type": "code",
   "execution_count": 28,
   "id": "bb4e2a0f-38c5-4719-abea-ccd88a521485",
   "metadata": {},
   "outputs": [
    {
     "name": "stdout",
     "output_type": "stream",
     "text": [
      "False\n"
     ]
    }
   ],
   "source": [
    "# Check if all items in a list are True:\n",
    "\n",
    "mylist = [True, False, True]\n",
    "x = all(mylist)\n",
    "print(x)"
   ]
  },
  {
   "cell_type": "code",
   "execution_count": 29,
   "id": "5f0013ce-7456-4488-98a2-87981a50efec",
   "metadata": {},
   "outputs": [
    {
     "name": "stdout",
     "output_type": "stream",
     "text": [
      "False\n"
     ]
    }
   ],
   "source": [
    "# Check if all items in a list are True:\n",
    "\n",
    "mylist = [0, 1, 1]\n",
    "x = all(mylist)\n",
    "print(x)"
   ]
  },
  {
   "cell_type": "code",
   "execution_count": 30,
   "id": "48cf58dd-3de3-4480-82a8-09871e4668a5",
   "metadata": {},
   "outputs": [
    {
     "name": "stdout",
     "output_type": "stream",
     "text": [
      "True\n"
     ]
    }
   ],
   "source": [
    "# Check if all items in a list are True:\n",
    "\n",
    "mylist = [1, 1, 1]\n",
    "x = all(mylist)\n",
    "print(x)"
   ]
  },
  {
   "cell_type": "code",
   "execution_count": 31,
   "id": "4b5bc486-ec0a-4d36-8fe5-64fcc2475ca2",
   "metadata": {},
   "outputs": [
    {
     "name": "stdout",
     "output_type": "stream",
     "text": [
      "True\n"
     ]
    }
   ],
   "source": [
    "# Check if all items in a list are True:\n",
    "\n",
    "mylist = [-1, 1, 2]\n",
    "x = all(mylist)\n",
    "print(x)"
   ]
  },
  {
   "cell_type": "code",
   "execution_count": 35,
   "id": "e6b1b4cb-7fea-4797-82c9-eb78fac012d0",
   "metadata": {},
   "outputs": [
    {
     "name": "stdout",
     "output_type": "stream",
     "text": [
      "False\n"
     ]
    }
   ],
   "source": [
    "# Check if all items in a tuple are True:\n",
    "\n",
    "mytuple = (0, True, False)\n",
    "x = all(mytuple)\n",
    "print(x)"
   ]
  },
  {
   "cell_type": "code",
   "execution_count": 33,
   "id": "2cd8501b-ac40-4be3-b7fe-1c35a822d9a5",
   "metadata": {},
   "outputs": [
    {
     "name": "stdout",
     "output_type": "stream",
     "text": [
      "False\n"
     ]
    }
   ],
   "source": [
    "# Check if all items in a set are True:\n",
    "\n",
    "myset = {0, 1, 0}\n",
    "x = all(myset)\n",
    "print(x)"
   ]
  },
  {
   "cell_type": "code",
   "execution_count": 34,
   "id": "ca6111d6-8e07-4d16-9889-1c48a853f2c9",
   "metadata": {},
   "outputs": [
    {
     "name": "stdout",
     "output_type": "stream",
     "text": [
      "False\n"
     ]
    }
   ],
   "source": [
    "# Check if all items in a dictionary are True:\n",
    "\n",
    "mydict = {0 : \"Apple\", 1 : \"Orange\"}\n",
    "x = all(mydict)\n",
    "print(x)"
   ]
  },
  {
   "cell_type": "markdown",
   "id": "2c4564b0-7642-4747-8e44-c7a8ac9053d6",
   "metadata": {},
   "source": [
    "<span style=\"background-color: #CAFEFD\">If the iterable object is **empty**</span>, the <span style=\"color: red\">&nbsp;**all()**&nbsp;</span> function returns **True**."
   ]
  },
  {
   "cell_type": "code",
   "execution_count": 23,
   "id": "2d9a3a0f-8c02-4448-9641-d431c21ba61b",
   "metadata": {},
   "outputs": [
    {
     "name": "stdout",
     "output_type": "stream",
     "text": [
      "True\n"
     ]
    }
   ],
   "source": [
    "my_empty_list = []\n",
    "x = all(my_empty_list)\n",
    "print(x)"
   ]
  },
  {
   "cell_type": "code",
   "execution_count": null,
   "id": "b704ca95-0cc3-4e8b-909c-7f63e13ee3fe",
   "metadata": {},
   "outputs": [],
   "source": []
  },
  {
   "cell_type": "markdown",
   "id": "e08b38ca-7538-4d5c-9141-611af0ba326e",
   "metadata": {},
   "source": [
    "<br>\n",
    "\n",
    "<span style=\"background-color: yellow;font-size: larger\">&nbsp;**any()**&nbsp;</span> : Returns True if **any item** in an iterable object is **true**.\n"
   ]
  },
  {
   "cell_type": "code",
   "execution_count": 17,
   "id": "77930a38-85b2-45c7-9207-56fd314075f3",
   "metadata": {},
   "outputs": [
    {
     "name": "stdout",
     "output_type": "stream",
     "text": [
      "True\n"
     ]
    }
   ],
   "source": [
    "# Check if any item in a list is True:\n",
    "\n",
    "mylist = [False, True, False]\n",
    "x = any(mylist)\n",
    "print(x)"
   ]
  },
  {
   "cell_type": "code",
   "execution_count": 18,
   "id": "ea64fe9c-dd1c-4102-9abb-5cc8fc79a2bd",
   "metadata": {},
   "outputs": [
    {
     "name": "stdout",
     "output_type": "stream",
     "text": [
      "True\n"
     ]
    }
   ],
   "source": [
    "# Check if any item in a tuple is True:\n",
    "\n",
    "mytuple = (0, 1, False)\n",
    "x = any(mytuple)\n",
    "print(x)"
   ]
  },
  {
   "cell_type": "code",
   "execution_count": 19,
   "id": "9b2b9adc-f96b-4512-b503-4e47c8cd6ffd",
   "metadata": {},
   "outputs": [
    {
     "name": "stdout",
     "output_type": "stream",
     "text": [
      "True\n"
     ]
    }
   ],
   "source": [
    "# Check if any item in a set is True:\n",
    "\n",
    "myset = {0, 1, 0}\n",
    "x = any(myset)\n",
    "print(x)"
   ]
  },
  {
   "cell_type": "code",
   "execution_count": 21,
   "id": "55793b0d-44d4-4083-b582-5c4bf2f91fcc",
   "metadata": {},
   "outputs": [
    {
     "name": "stdout",
     "output_type": "stream",
     "text": [
      "True\n"
     ]
    }
   ],
   "source": [
    "# Check if any item in a dictionary is True:\n",
    "\n",
    "mydict = {0 : \"Apple\", 1 : \"Orange\"}\n",
    "x = any(mydict)\n",
    "print(x)"
   ]
  },
  {
   "cell_type": "markdown",
   "id": "82c8bb98-8b99-4ce1-be55-86983dc765d7",
   "metadata": {},
   "source": [
    "<br>\n",
    "\n",
    "<span style=\"background-color: #F5C0FF\">&nbsp;**Note**&nbsp;</span> : When used on a <span style=\"background-color: #CAFEFD\">dictionary</span>, the **any()** function checks <span style=\"background-color: #CAFEFD\">if any of the **keys** are true, not the values</span>."
   ]
  },
  {
   "cell_type": "code",
   "execution_count": 26,
   "id": "a8090fb5-836a-4208-acc9-a868461a7fcb",
   "metadata": {},
   "outputs": [
    {
     "name": "stdout",
     "output_type": "stream",
     "text": [
      "True\n"
     ]
    }
   ],
   "source": [
    "mydict = {0 : False, 1 : True}\n",
    "x = any(mydict)\n",
    "print(x)"
   ]
  },
  {
   "cell_type": "code",
   "execution_count": null,
   "id": "eef38205-5110-4816-b85d-27429a76192c",
   "metadata": {},
   "outputs": [],
   "source": []
  },
  {
   "cell_type": "markdown",
   "id": "9b3b3370-0137-4b84-89be-75c00ba0ba30",
   "metadata": {},
   "source": [
    "<br>\n",
    "\n",
    "<span style=\"background-color: yellow;font-size: larger\">&nbsp;**bin()**&nbsp;</span> : returns the **binary** version of a specified **integer**. The result will always start with the prefix <span style=\"background-color: #EFEAF1;color:red\"><strong>&nbsp;0b&nbsp;</strong></span>.\n"
   ]
  },
  {
   "cell_type": "code",
   "execution_count": 134,
   "id": "e905c807-ea74-4db8-9f10-a25739aa7dcc",
   "metadata": {},
   "outputs": [
    {
     "name": "stdout",
     "output_type": "stream",
     "text": [
      "0b1010\n"
     ]
    }
   ],
   "source": [
    "# Return the binary version of 10\n",
    "\n",
    "x = bin(10)\n",
    "print(x)"
   ]
  },
  {
   "cell_type": "code",
   "execution_count": 135,
   "id": "2c8ae1e2-c374-44b9-ae0e-9b2bf3724b40",
   "metadata": {},
   "outputs": [
    {
     "name": "stdout",
     "output_type": "stream",
     "text": [
      "-0b1010\n"
     ]
    }
   ],
   "source": [
    "# Return the binary version of -10\n",
    "\n",
    "x = bin(-10)\n",
    "print(x)"
   ]
  },
  {
   "cell_type": "code",
   "execution_count": 136,
   "id": "8482fe36-a324-49c7-a2e2-71b6ddacd37a",
   "metadata": {},
   "outputs": [
    {
     "data": {
      "text/plain": [
       "'0b0'"
      ]
     },
     "execution_count": 136,
     "metadata": {},
     "output_type": "execute_result"
    }
   ],
   "source": [
    "# Return the binary version of 0\n",
    "\n",
    "bin(0)"
   ]
  },
  {
   "cell_type": "markdown",
   "id": "4968bec3-b51a-4dfe-a648-bf12916091a5",
   "metadata": {},
   "source": [
    "<br>\n",
    "\n",
    "<span style=\"background-color: #F5C0FF\">&nbsp;**Note**&nbsp;</span> ⇒ <span style=\"color:red\">&nbsp;**int.bit_length()**&nbsp;</span> : <span style=\"background-color: #CAFEFD\">**number of bits necessary** to represent the integer in **binary**, excluding the sign and leading zeros.</span>"
   ]
  },
  {
   "cell_type": "code",
   "execution_count": 51,
   "id": "cdc1b114-81ac-4ae5-be6d-1d8f5397b42f",
   "metadata": {},
   "outputs": [
    {
     "ename": "SyntaxError",
     "evalue": "invalid decimal literal (2256983267.py, line 1)",
     "output_type": "error",
     "traceback": [
      "\u001b[1;36m  Cell \u001b[1;32mIn[51], line 1\u001b[1;36m\u001b[0m\n\u001b[1;33m    10.bit_length()\u001b[0m\n\u001b[1;37m      ^\u001b[0m\n\u001b[1;31mSyntaxError\u001b[0m\u001b[1;31m:\u001b[0m invalid decimal literal\n"
     ]
    }
   ],
   "source": [
    "10.bit_length()"
   ]
  },
  {
   "cell_type": "code",
   "execution_count": 143,
   "id": "67572682-dd26-4967-adb8-74d2f73c1b04",
   "metadata": {},
   "outputs": [
    {
     "data": {
      "text/plain": [
       "4"
      ]
     },
     "execution_count": 143,
     "metadata": {},
     "output_type": "execute_result"
    }
   ],
   "source": [
    "(10).bit_length()"
   ]
  },
  {
   "cell_type": "code",
   "execution_count": 52,
   "id": "dc620b2f-a7b7-48b7-a23e-1d8b497656a1",
   "metadata": {},
   "outputs": [
    {
     "data": {
      "text/plain": [
       "4"
      ]
     },
     "execution_count": 52,
     "metadata": {},
     "output_type": "execute_result"
    }
   ],
   "source": [
    "int.bit_length(10)"
   ]
  },
  {
   "cell_type": "code",
   "execution_count": 55,
   "id": "99358c1b-eeee-4926-ab63-c7ff9f310ab9",
   "metadata": {},
   "outputs": [
    {
     "data": {
      "text/plain": [
       "4"
      ]
     },
     "execution_count": 55,
     "metadata": {},
     "output_type": "execute_result"
    }
   ],
   "source": [
    "num = 10\n",
    "num.bit_length()"
   ]
  },
  {
   "cell_type": "markdown",
   "id": "91e2c1d3-aabf-496a-a1e9-dd3e57b560a9",
   "metadata": {},
   "source": [
    "<br>\n",
    "\n",
    "<span style=\"background-color: #C9FF71\">**To find the bit length of an integer :**</span>"
   ]
  },
  {
   "cell_type": "markdown",
   "id": "6ca885aa-1fad-4d42-a55c-300b49fa44e0",
   "metadata": {},
   "source": [
    "**Method-1** ===> <span style=\"background-color: #CAFEFD\">using **int.bit_length()**</span>"
   ]
  },
  {
   "cell_type": "code",
   "execution_count": 96,
   "id": "ba828baf-94e7-4b55-8b08-5e80a8e67fe5",
   "metadata": {},
   "outputs": [
    {
     "name": "stdout",
     "output_type": "stream",
     "text": [
      "Number: 10\n",
      "Bit Length: 4\n",
      "Actual Binary Representation: 0b1010\n"
     ]
    }
   ],
   "source": [
    "num = 10\n",
    "bit_length = num.bit_length()\n",
    "print(\"Number:\", num)\n",
    "print(\"Bit Length:\", bit_length)\n",
    "print(\"Actual Binary Representation:\", bin(num))\n"
   ]
  },
  {
   "cell_type": "markdown",
   "id": "07e9f495-872e-4594-b20b-88b9fd197311",
   "metadata": {},
   "source": [
    "**Method-2** ===> <span style=\"background-color: #CAFEFD\">using **math.log()**</span>"
   ]
  },
  {
   "cell_type": "code",
   "execution_count": 97,
   "id": "2072ac27-1002-436d-af06-0c4df0dbf5d8",
   "metadata": {},
   "outputs": [
    {
     "name": "stdout",
     "output_type": "stream",
     "text": [
      "Number: 10\n",
      "Bit Length: 4\n",
      "Actual Binary Representation: 0b1010\n"
     ]
    }
   ],
   "source": [
    "import math\n",
    "\n",
    "num = 10\n",
    "bit_length = math.floor(math.log2(num)) + 1\n",
    "print(\"Number:\", num)\n",
    "print(\"Bit Length:\", bit_length)\n",
    "print(\"Actual Binary Representation:\", bin(num))"
   ]
  },
  {
   "cell_type": "markdown",
   "id": "eb880902-e21e-4581-92e0-8cb5a1883762",
   "metadata": {},
   "source": [
    "**Method-3** ===> <span style=\"background-color: #CAFEFD\">without using any pre-built functions</span>"
   ]
  },
  {
   "cell_type": "code",
   "execution_count": 144,
   "id": "0aab0471-57d6-4f90-b74e-80325fa238df",
   "metadata": {},
   "outputs": [
    {
     "name": "stdout",
     "output_type": "stream",
     "text": [
      "Number: 10\n",
      "Bit Length: 4\n",
      "Binary Representation: 1010\n",
      "Actual Binary Representation: 0b1010\n",
      "True\n"
     ]
    }
   ],
   "source": [
    "num = 10\n",
    "bit_length = 0\n",
    "binary_string = \"\"\n",
    "\n",
    "\n",
    "if num == 0:\n",
    "    binary_string = \"0\"\n",
    "    actual_binary_string = \"0b0\"\n",
    "else:\n",
    "    num_copy = num\n",
    "\n",
    "    # finding the reversed binary representation\n",
    "    while num != 0:\n",
    "        bit_length += 1\n",
    "        binary_string = binary_string + str(num % 2)\n",
    "        num = int(num / 2)\n",
    "        \n",
    "    # reversing the binary_string \n",
    "    binary_string = binary_string[::-1]   \n",
    "\n",
    "    # adding '0b' or '-0b' for proper binary representation\n",
    "    if num_copy > 0:\n",
    "        actual_binary_string = \"0b\" + binary_string\n",
    "    else:\n",
    "        actual_binary_string = \"-0b\" + binary_string\n",
    "\n",
    "\n",
    "print(\"Number:\", num_copy)\n",
    "print(\"Bit Length:\", bit_length)\n",
    "print(\"Binary Representation:\", binary_string) \n",
    "print(\"Actual Binary Representation:\", actual_binary_string) \n",
    "\n",
    "# To confirm\n",
    "print(bin(num_copy) == actual_binary_string)\n"
   ]
  },
  {
   "cell_type": "code",
   "execution_count": null,
   "id": "e52df835-6349-4c1e-9fc4-360ca62e9f47",
   "metadata": {},
   "outputs": [],
   "source": []
  },
  {
   "cell_type": "markdown",
   "id": "a6089065-478a-4bec-b0e7-59607172b0df",
   "metadata": {},
   "source": [
    "<br>\n",
    "\n",
    "<span style=\"background-color: yellow;font-size: larger\">&nbsp;**bool()**&nbsp;</span> : Returns the **boolean value** of the specified object.\n",
    "\n",
    "The object will always return <span style=\"background-color: #EFEAF1;color:red\"><strong>&nbsp;True&nbsp;</strong></span>, unless: <br>\n",
    "\n",
    "The object is **empty**, like <span style=\"background-color:#EFEAF1;color:red;font-size:larger\"><strong>&nbsp;[]&nbsp;</strong></span>, <span style=\"background-color: #EFEAF1;color:red;font-size:larger\"><strong>&nbsp;()&nbsp;</strong></span>, <span style=\"background-color: #EFEAF1;color:red;font-size:larger\"><strong>&nbsp;{}&nbsp;</strong></span>    <br>\n",
    "The object is <span style=\"background-color: #EFEAF1;color:red\"><strong>&nbsp;False&nbsp;</strong></span>    <br>\n",
    "The object is <span style=\"background-color: #EFEAF1;color:red\"><strong>&nbsp;0&nbsp;</strong></span>        <br>\n",
    "The object is <span style=\"background-color: #EFEAF1;color:red\"><strong>&nbsp;None&nbsp;</strong></span>     <br>\n"
   ]
  },
  {
   "cell_type": "code",
   "execution_count": 133,
   "id": "8e241f74-200e-494c-9ee5-711d0fb8a542",
   "metadata": {},
   "outputs": [
    {
     "name": "stdout",
     "output_type": "stream",
     "text": [
      "False\n"
     ]
    }
   ],
   "source": [
    "# Return the boolean value of 0:\n",
    "\n",
    "result = bool(0)\n",
    "print(result) \n"
   ]
  },
  {
   "cell_type": "code",
   "execution_count": 132,
   "id": "c6cadb9d-95c4-453e-82e8-02eaff2c0221",
   "metadata": {},
   "outputs": [
    {
     "name": "stdout",
     "output_type": "stream",
     "text": [
      "True\n"
     ]
    }
   ],
   "source": [
    "# Return the boolean value of 1:\n",
    "\n",
    "result = bool(1)\n",
    "print(result) "
   ]
  },
  {
   "cell_type": "code",
   "execution_count": null,
   "id": "fb220041-1119-43c5-99d5-982525cf8c80",
   "metadata": {},
   "outputs": [],
   "source": []
  },
  {
   "cell_type": "markdown",
   "id": "9631dea0-4142-42ef-9000-e5e806ab124a",
   "metadata": {},
   "source": [
    "<br>\n",
    "\n",
    "<span style=\"background-color: yellow;font-size: larger\">&nbsp;**callable()**&nbsp;</span> : Returns **True** if the object appears callable (i.e., **can be called**), otherwise **False**."
   ]
  },
  {
   "cell_type": "code",
   "execution_count": 131,
   "id": "97d7978b-4487-4ea1-ad5c-8bd412332651",
   "metadata": {},
   "outputs": [
    {
     "name": "stdout",
     "output_type": "stream",
     "text": [
      "True\n"
     ]
    }
   ],
   "source": [
    "# Check if a function is callable:\n",
    "\n",
    "def my_function():\n",
    "    print(\"Hello, World!\")\n",
    "\n",
    "result = callable(my_function)\n",
    "print(result) \n"
   ]
  },
  {
   "cell_type": "code",
   "execution_count": null,
   "id": "96e0783d-9eb7-4af1-af18-f158e1ece199",
   "metadata": {},
   "outputs": [],
   "source": []
  },
  {
   "cell_type": "markdown",
   "id": "b10a70e6-18b8-4e05-a035-2924e08b6f79",
   "metadata": {},
   "source": [
    "<br>\n",
    "\n",
    "<span style=\"background-color: yellow;font-size: larger\">&nbsp;**chr()**&nbsp;</span> : Returns the **character** representing the **Unicode** code point.\n"
   ]
  },
  {
   "cell_type": "code",
   "execution_count": 129,
   "id": "e98c36b6-280e-4ab3-9b23-c3a6d6c3d303",
   "metadata": {},
   "outputs": [
    {
     "name": "stdout",
     "output_type": "stream",
     "text": [
      "A\n"
     ]
    }
   ],
   "source": [
    "# Get the character that represents the unicode 65:\n",
    "\n",
    "char = chr(65)\n",
    "print(char)  \n"
   ]
  },
  {
   "cell_type": "code",
   "execution_count": 130,
   "id": "db54e425-ee39-4773-8a10-86cab01ef031",
   "metadata": {},
   "outputs": [
    {
     "name": "stdout",
     "output_type": "stream",
     "text": [
      "a\n"
     ]
    }
   ],
   "source": [
    "# Get the character that represents the unicode 97:\n",
    "\n",
    "char = chr(97)\n",
    "print(char)  \n"
   ]
  },
  {
   "cell_type": "code",
   "execution_count": null,
   "id": "123dd221-3c9c-40d2-885a-1e2f022b1230",
   "metadata": {},
   "outputs": [],
   "source": []
  },
  {
   "cell_type": "markdown",
   "id": "5c995e07-9e59-4e06-9327-34d0bfd38e86",
   "metadata": {},
   "source": [
    "<br>\n",
    "\n",
    "<span style=\"background-color: yellow;font-size: larger\">&nbsp;**compile()**&nbsp;</span> : Returns the specified source as a **code object**, ready to be executed."
   ]
  },
  {
   "cell_type": "markdown",
   "id": "2b107b26-633d-4261-b8b6-b2e41084ea76",
   "metadata": {},
   "source": [
    "<div style=\"border: 1px solid pink; padding: 10px; margin-left: 120px; width: 400px; background-color: #FAF2FC\">\n",
    "\n",
    "**compile(** source, filename, mode, flag, dont_inherit, optimize **)**\n",
    "\n",
    "</div>\n",
    "\n",
    "<br>\n",
    "\n",
    "\n",
    "| Parameter | Description |\n",
    "|-----------|-------------|\n",
    "| source\t| **Required**. The source to compile, can be a String, a Bytes object, or an AST object |\n",
    "| filename\t| **Required**. The name of the file that the source comes from. If the source does not come from a file, you can write whatever you like |\n",
    "| mode\t    | **Required**. Legal values: <br><span style=\"color: blue\">**eval**</span> - if the source is a single expression <br><span style=\"color: blue\">**exec**</span> - if the source is a block of statements  <br><span style=\"color: blue\">**single**</span> - if the source is a single interactive statement |\n",
    "| flags\t    | **Optional**. How to compile the source. Default 0 |\n",
    "| dont-inherit | **Optional**. How to compile the source. Default False |\n",
    "| optimize\t| **Optional**. Defines the optimization level of the compiler. Default -1 |"
   ]
  },
  {
   "cell_type": "code",
   "execution_count": 127,
   "id": "c110afb9-b7e8-4d44-af2b-49321b269916",
   "metadata": {},
   "outputs": [
    {
     "name": "stdout",
     "output_type": "stream",
     "text": [
      "55\n"
     ]
    }
   ],
   "source": [
    "# Compile text as code, and then execute it:\n",
    "\n",
    "x = compile('print(55)', 'test' , 'eval')\n",
    "exec(x)"
   ]
  },
  {
   "cell_type": "code",
   "execution_count": 128,
   "id": "2f7b1911-5711-44ac-8edf-dd07bddf79fd",
   "metadata": {},
   "outputs": [
    {
     "name": "stdout",
     "output_type": "stream",
     "text": [
      "55\n",
      "88\n"
     ]
    }
   ],
   "source": [
    "# Compile more than one statement, and then execute it:\n",
    "\n",
    "x = compile('print(55)\\nprint(88)', 'test', 'exec')\n",
    "exec(x)"
   ]
  },
  {
   "cell_type": "code",
   "execution_count": null,
   "id": "29d74a10-b99a-4958-8c6a-65619c074ed3",
   "metadata": {},
   "outputs": [],
   "source": []
  },
  {
   "cell_type": "markdown",
   "id": "7fcb2712-f6d8-415e-9a4c-4ad28b8e9f8d",
   "metadata": {},
   "source": [
    "<br>\n",
    "\n",
    "<span style=\"background-color: yellow;font-size: larger\">&nbsp;**complex()**&nbsp;</span> : Returns a complex number by specifying a **real number** and an **imaginary number**."
   ]
  },
  {
   "cell_type": "code",
   "execution_count": 126,
   "id": "9b70ec0d-5891-4ed9-9e39-0d746c621495",
   "metadata": {},
   "outputs": [
    {
     "name": "stdout",
     "output_type": "stream",
     "text": [
      "(3+5j)\n"
     ]
    }
   ],
   "source": [
    "# Convert the number 3 and imaginary number 5 into a complex number:\n",
    "\n",
    "x = complex(3, 5)\n",
    "\n",
    "print(x)"
   ]
  },
  {
   "cell_type": "markdown",
   "id": "ddf44700-d127-4c02-a7be-165b8387e3d4",
   "metadata": {},
   "source": [
    "<br>\n",
    "\n",
    "<span style=\"background-color: yellow;font-size: larger\">&nbsp;**delattr()**&nbsp;</span> : will **delete the specified attribute** from the specified object."
   ]
  },
  {
   "cell_type": "code",
   "execution_count": 125,
   "id": "48d79298-e304-49ae-b0c5-f742d415a483",
   "metadata": {},
   "outputs": [],
   "source": [
    "# Delete the \"age\" property from the \"person\" object:\n",
    "\n",
    "class Person:\n",
    "  name = \"John\"\n",
    "  age = 36\n",
    "  country = \"Norway\"\n",
    "\n",
    "delattr(Person, 'age')"
   ]
  },
  {
   "cell_type": "code",
   "execution_count": null,
   "id": "74c6f122-4ba2-40f3-935c-28e9f87027a6",
   "metadata": {},
   "outputs": [],
   "source": []
  },
  {
   "cell_type": "markdown",
   "id": "f9e90da4-263f-42c1-b71f-2c6c4189fc80",
   "metadata": {},
   "source": [
    "<br>\n",
    "\n",
    "<span style=\"background-color: yellow;font-size: larger\">&nbsp;**dict()**&nbsp;</span> : creates a dictionary. It is a collection which is **unordered**, **changeable** and **indexed**."
   ]
  },
  {
   "cell_type": "code",
   "execution_count": 122,
   "id": "cb9116f2-4c8e-4484-9a7e-ce8971025482",
   "metadata": {},
   "outputs": [
    {
     "name": "stdout",
     "output_type": "stream",
     "text": [
      "{'name': 'Avinash', 'age': 30, 'country': 'India'}\n"
     ]
    }
   ],
   "source": [
    "# Create a dictionary containing personal information:\n",
    "\n",
    "x = dict(name = \"Avinash\", age = 30, country = \"India\")\n",
    "print(x)"
   ]
  },
  {
   "cell_type": "code",
   "execution_count": null,
   "id": "e8308291-f2df-4346-8648-c497400a290a",
   "metadata": {},
   "outputs": [],
   "source": []
  },
  {
   "cell_type": "markdown",
   "id": "e8cc2d18-e7a5-4d37-b4a6-0ece57a3b19a",
   "metadata": {},
   "source": [
    "<br>\n",
    "\n",
    "<span style=\"background-color: yellow;font-size: larger\">&nbsp;**dir()**&nbsp;</span> : Returns a list of valid attributes (**all the properties and methods, even built-in properties which are default for all object**) for the specified object.\n",
    "\n",
    "<br>\n"
   ]
  },
  {
   "cell_type": "code",
   "execution_count": 123,
   "id": "5f5bb157-d438-4453-bbd6-9874fa73b45d",
   "metadata": {},
   "outputs": [
    {
     "name": "stdout",
     "output_type": "stream",
     "text": [
      "['__class__', '__delattr__', '__dict__', '__dir__', '__doc__', '__eq__', '__format__', '__ge__', '__getattribute__', '__getstate__', '__gt__', '__hash__', '__init__', '__init_subclass__', '__le__', '__lt__', '__module__', '__ne__', '__new__', '__reduce__', '__reduce_ex__', '__repr__', '__setattr__', '__sizeof__', '__str__', '__subclasshook__', '__weakref__', 'age', 'country', 'name']\n"
     ]
    }
   ],
   "source": [
    "# Display the content of an object:\n",
    "\n",
    "class Person:\n",
    "    name = \"John\"\n",
    "    age = 36\n",
    "    country = \"Norway\"\n",
    "\n",
    "print(dir(Person))"
   ]
  },
  {
   "cell_type": "code",
   "execution_count": 124,
   "id": "1bc9e743-f556-4873-a5ad-0664fde8347a",
   "metadata": {},
   "outputs": [
    {
     "name": "stdout",
     "output_type": "stream",
     "text": [
      "['__add__', '__class__', '__class_getitem__', '__contains__', '__delattr__', '__delitem__', '__dir__', '__doc__', '__eq__', '__format__', '__ge__', '__getattribute__', '__getitem__', '__getstate__', '__gt__', '__hash__', '__iadd__', '__imul__', '__init__', '__init_subclass__', '__iter__', '__le__', '__len__', '__lt__', '__mul__', '__ne__', '__new__', '__reduce__', '__reduce_ex__', '__repr__', '__reversed__', '__rmul__', '__setattr__', '__setitem__', '__sizeof__', '__str__', '__subclasshook__', 'append', 'clear', 'copy', 'count', 'extend', 'index', 'insert', 'pop', 'remove', 'reverse', 'sort']\n"
     ]
    }
   ],
   "source": [
    "# Display all the content of a list object:\n",
    "\n",
    "lst = [1, 2, 3]\n",
    "attributes = dir(lst)\n",
    "print(attributes) \n"
   ]
  },
  {
   "cell_type": "code",
   "execution_count": null,
   "id": "aa4f9fec-1b7f-497c-a943-aa8a3d310ae0",
   "metadata": {},
   "outputs": [],
   "source": []
  },
  {
   "cell_type": "markdown",
   "id": "7f59de97-bef9-448f-9adc-b3a6ac3e9a0f",
   "metadata": {},
   "source": [
    "<br>\n",
    "\n",
    "<span style=\"background-color: yellow;font-size: larger\">&nbsp;**divmod()**&nbsp;</span> : returns a **tuple** containing the **quotient**  and the **remainder** when **argument1 (dividend)** is divided by **argument2 (divisor)**.\n",
    "\n",
    "\n",
    "<div style=\"border: 1px solid pink; padding: 10px; margin-left: 95px; width: 180px; background-color: #FAF2FC\">\n",
    "\n",
    "**divmod(** dividend, divisor **)**\n",
    "\n",
    "</div>\n",
    "\n",
    "\n",
    "\n",
    "\n"
   ]
  },
  {
   "cell_type": "code",
   "execution_count": 142,
   "id": "9e949315-4ec4-40b0-9600-233936820d4a",
   "metadata": {},
   "outputs": [
    {
     "name": "stdout",
     "output_type": "stream",
     "text": [
      "(2, 1)\n"
     ]
    }
   ],
   "source": [
    "x = divmod(5, 2)\n",
    "print(x)\n"
   ]
  },
  {
   "cell_type": "code",
   "execution_count": null,
   "id": "dc9b0112-01b1-4542-987a-a43f53581797",
   "metadata": {},
   "outputs": [],
   "source": []
  },
  {
   "cell_type": "code",
   "execution_count": null,
   "id": "5da48815-8605-4723-89af-236105bc26af",
   "metadata": {},
   "outputs": [],
   "source": []
  },
  {
   "cell_type": "code",
   "execution_count": null,
   "id": "8fa02e64-4509-4ce4-be3d-25c0bb701f35",
   "metadata": {},
   "outputs": [],
   "source": []
  },
  {
   "cell_type": "code",
   "execution_count": null,
   "id": "bff4d567-66d4-4f7f-98b5-f84dfea69497",
   "metadata": {},
   "outputs": [],
   "source": []
  },
  {
   "cell_type": "markdown",
   "id": "8724510c-e0c9-4c43-aa9c-3878911c497e",
   "metadata": {},
   "source": [
    "<br>\n",
    "\n",
    "<span style=\"background-color: yellow\">&nbsp;**len()**&nbsp;</span> : Returns the **length** (number of items) of an object."
   ]
  },
  {
   "cell_type": "code",
   "execution_count": 27,
   "id": "14ba7edd-30d1-40b3-9269-d8f5c7810ff7",
   "metadata": {},
   "outputs": [
    {
     "name": "stdout",
     "output_type": "stream",
     "text": [
      "5\n"
     ]
    }
   ],
   "source": [
    "lst = [1, 2, 3, 4, 5]\n",
    "length = len(lst)\n",
    "print(length)\n"
   ]
  },
  {
   "cell_type": "markdown",
   "id": "7f48f9b4-a073-4bdb-ab4b-cf3bbe8e29dc",
   "metadata": {},
   "source": [
    "<br>\n",
    "\n",
    "<span style=\"background-color: yellow\">&nbsp;**max()**&nbsp;</span> : Returns the **largest** item in an iterable or the largest of two or more arguments."
   ]
  },
  {
   "cell_type": "code",
   "execution_count": 28,
   "id": "ee8648da-f905-421f-b1b5-59128d76b4b3",
   "metadata": {},
   "outputs": [
    {
     "name": "stdout",
     "output_type": "stream",
     "text": [
      "9\n"
     ]
    }
   ],
   "source": [
    "nums = [3, 7, 2, 9, 5]\n",
    "max_num = max(nums)\n",
    "print(max_num)  \n"
   ]
  },
  {
   "cell_type": "markdown",
   "id": "a55c699d-9f0a-4c74-bf87-f1ffa535697d",
   "metadata": {},
   "source": [
    "<br>\n",
    "\n",
    "<span style=\"background-color: yellow\">&nbsp;**min()**&nbsp;</span> : Returns the **smallest** item in an iterable or the smallest of two or more arguments."
   ]
  },
  {
   "cell_type": "code",
   "execution_count": 29,
   "id": "da053b1e-b604-4ae4-b996-680ee9fd6591",
   "metadata": {},
   "outputs": [
    {
     "name": "stdout",
     "output_type": "stream",
     "text": [
      "2\n"
     ]
    }
   ],
   "source": [
    "nums = [3, 7, 2, 9, 5]\n",
    "min_num = min(nums)\n",
    "print(min_num) \n"
   ]
  },
  {
   "cell_type": "markdown",
   "id": "75f5187d-7c4e-4e69-9f86-38757b4a6e9b",
   "metadata": {},
   "source": [
    "<br>\n",
    "\n",
    "<span style=\"background-color: yellow\">&nbsp;**ord()**&nbsp;</span> : Returns the **Unicode** code point for a single character."
   ]
  },
  {
   "cell_type": "code",
   "execution_count": 30,
   "id": "042122ee-504a-41ec-bae2-1026c8126d71",
   "metadata": {},
   "outputs": [
    {
     "name": "stdout",
     "output_type": "stream",
     "text": [
      "65\n"
     ]
    }
   ],
   "source": [
    "code_point = ord('A')\n",
    "print(code_point) \n"
   ]
  },
  {
   "cell_type": "markdown",
   "id": "089927f4-3558-4993-bc8b-9338d02897d6",
   "metadata": {},
   "source": [
    "<br>\n",
    "\n",
    "<span style=\"background-color: yellow\">&nbsp;**pow()**&nbsp;</span> : Returns **x to the power of y**."
   ]
  },
  {
   "cell_type": "code",
   "execution_count": 32,
   "id": "31aa6102-7531-4203-9715-a39f25e5e182",
   "metadata": {},
   "outputs": [
    {
     "name": "stdout",
     "output_type": "stream",
     "text": [
      "8\n"
     ]
    }
   ],
   "source": [
    "result = pow(2, 3)\n",
    "print(result)  \n"
   ]
  },
  {
   "cell_type": "markdown",
   "id": "43888aa8-1a4e-438e-aa21-08379bec98db",
   "metadata": {},
   "source": [
    "<br>\n",
    "\n",
    "<span style=\"background-color: yellow\">&nbsp;**range()**&nbsp;</span> : Returns a **sequence of numbers**, starting from **0** by default, and increments by **1** (by default), ending before a specified number."
   ]
  },
  {
   "cell_type": "code",
   "execution_count": 26,
   "id": "a4f4716a-945f-4762-b404-ef83aae2a0e0",
   "metadata": {},
   "outputs": [
    {
     "name": "stdout",
     "output_type": "stream",
     "text": [
      "[0, 1, 2, 3, 4]\n"
     ]
    }
   ],
   "source": [
    "numbers = list(range(5))\n",
    "print(numbers) \n"
   ]
  },
  {
   "cell_type": "markdown",
   "id": "30ee7976-db73-4cea-be9c-b881c45ae2e1",
   "metadata": {},
   "source": [
    "<br>\n",
    "\n",
    "<span style=\"background-color: yellow\">&nbsp;**reversed()**&nbsp;</span> : Returns a **reverse** iterator."
   ]
  },
  {
   "cell_type": "code",
   "execution_count": 25,
   "id": "86b39af3-5d08-4b82-b66a-1b3afb2eb309",
   "metadata": {},
   "outputs": [
    {
     "name": "stdout",
     "output_type": "stream",
     "text": [
      "[5, 4, 3, 2, 1]\n"
     ]
    }
   ],
   "source": [
    "# Example - 1\n",
    "\n",
    "nums = [1, 2, 3, 4, 5]\n",
    "reversed_nums = list(reversed(nums))\n",
    "print(reversed_nums)\n"
   ]
  },
  {
   "cell_type": "code",
   "execution_count": 24,
   "id": "8ee287f5-b33a-42c1-9135-4a89fa0d7a39",
   "metadata": {},
   "outputs": [
    {
     "name": "stdout",
     "output_type": "stream",
     "text": [
      "<reversed object at 0x0000023949736A10>\n"
     ]
    }
   ],
   "source": [
    "# Example -2 \n",
    "\n",
    "name = \"Avinash\"\n",
    "\n",
    "reversed_name = reversed(name)\n",
    "\n",
    "print(reversed_name)  \n"
   ]
  },
  {
   "cell_type": "code",
   "execution_count": 23,
   "id": "dc197832-f576-435e-a20e-1b290e993452",
   "metadata": {},
   "outputs": [
    {
     "name": "stdout",
     "output_type": "stream",
     "text": [
      "['h', 's', 'a', 'n', 'i', 'v', 'A']\n"
     ]
    }
   ],
   "source": [
    "name = \"Avinash\"\n",
    "\n",
    "reversed_name_list = list(reversed(name))\n",
    "\n",
    "print(reversed_name_list) \n"
   ]
  },
  {
   "cell_type": "code",
   "execution_count": 21,
   "id": "6e5cad4c-c9ee-42f5-81f6-49c4212c0a60",
   "metadata": {},
   "outputs": [
    {
     "name": "stdout",
     "output_type": "stream",
     "text": [
      "hsanivA\n"
     ]
    }
   ],
   "source": [
    "reversed_name = \"\"\n",
    "\n",
    "for i in range(len(name)):\n",
    "    reversed_name = reversed_name + reversed_name_list[i]\n",
    "\n",
    "print(reversed_name)\n",
    "    "
   ]
  },
  {
   "cell_type": "markdown",
   "id": "b8a0739f-2afa-4c91-8bb9-46f466402a4d",
   "metadata": {},
   "source": [
    "<br>\n",
    "\n",
    "<span style=\"background-color: yellow\">&nbsp;**round()**&nbsp;</span> : Returns the rounded value of a number to a **specified number of decimal places**."
   ]
  },
  {
   "cell_type": "code",
   "execution_count": 22,
   "id": "e02b8ff4-811d-48cf-8e36-815d927e5389",
   "metadata": {},
   "outputs": [
    {
     "name": "stdout",
     "output_type": "stream",
     "text": [
      "3.14\n"
     ]
    }
   ],
   "source": [
    "num = 3.14159\n",
    "rounded_num = round(num, 2)\n",
    "print(rounded_num) \n"
   ]
  },
  {
   "cell_type": "markdown",
   "id": "a1341077-2beb-4cef-ac70-cc5be149b106",
   "metadata": {},
   "source": [
    "<br>\n",
    "\n",
    "<span style=\"background-color: yellow\">&nbsp;**sorted()**&nbsp;</span> : Returns a **new sorted list** from the elements of an iterable."
   ]
  },
  {
   "cell_type": "code",
   "execution_count": 40,
   "id": "b7ffff66-4de7-473f-8e85-c0da12a6109f",
   "metadata": {},
   "outputs": [
    {
     "name": "stdout",
     "output_type": "stream",
     "text": [
      "[1, 2, 3, 5, 7]\n"
     ]
    }
   ],
   "source": [
    "nums = [5, 2, 7, 1, 3] \n",
    "sorted_nums = sorted(nums) \n",
    "print(sorted_nums) \n"
   ]
  },
  {
   "cell_type": "markdown",
   "id": "ef2a44a3-447d-4d1c-b693-238c16341fc7",
   "metadata": {},
   "source": [
    "<br>\n",
    "\n",
    "<span style=\"background-color: yellow\">&nbsp;**str()**&nbsp;</span> : Returns a **string version of an object**."
   ]
  },
  {
   "cell_type": "code",
   "execution_count": 41,
   "id": "4e4a4644-ee68-4b92-90e0-a6e43d32789e",
   "metadata": {},
   "outputs": [
    {
     "name": "stdout",
     "output_type": "stream",
     "text": [
      "123\n"
     ]
    }
   ],
   "source": [
    "num = 123\n",
    "str_num = str(num)\n",
    "print(str_num) \n"
   ]
  },
  {
   "cell_type": "markdown",
   "id": "1db0e0ae-770d-48b0-9db9-6a0be104b51c",
   "metadata": {},
   "source": [
    "<br>\n",
    "\n",
    "<span style=\"background-color: yellow\">&nbsp;**sum()**&nbsp;</span> : Returns the **sum of all elements** in an iterable."
   ]
  },
  {
   "cell_type": "code",
   "execution_count": 42,
   "id": "3ead53e2-0f79-4da3-9439-0bc3a9d0033e",
   "metadata": {},
   "outputs": [
    {
     "name": "stdout",
     "output_type": "stream",
     "text": [
      "15\n"
     ]
    }
   ],
   "source": [
    "nums = [1, 2, 3, 4, 5]\n",
    "total_sum = sum(nums)\n",
    "print(total_sum) \n"
   ]
  },
  {
   "cell_type": "markdown",
   "id": "92e67834-50c1-45a3-923e-89ffda85c48e",
   "metadata": {},
   "source": [
    "<br>\n",
    "\n",
    "<span style=\"background-color: yellow\">&nbsp;**tuple()**&nbsp;</span> : Converts an iterable to a **tuple**."
   ]
  },
  {
   "cell_type": "code",
   "execution_count": 43,
   "id": "0ed6e706-9c92-44bb-a6e0-8305e07830ed",
   "metadata": {},
   "outputs": [
    {
     "name": "stdout",
     "output_type": "stream",
     "text": [
      "(1, 2, 3, 4, 5)\n"
     ]
    }
   ],
   "source": [
    "lst = [1, 2, 3, 4, 5]\n",
    "tpl = tuple(lst)\n",
    "print(tpl) \n"
   ]
  },
  {
   "cell_type": "markdown",
   "id": "ab97223d-5b95-4d18-b12d-992e286c0b10",
   "metadata": {},
   "source": [
    "<br>\n",
    "\n",
    "<span style=\"background-color: yellow\">&nbsp;**type()**&nbsp;</span> : Returns the **type** of an object."
   ]
  },
  {
   "cell_type": "code",
   "execution_count": 48,
   "id": "5a707da4-666b-4764-883c-91452116040b",
   "metadata": {},
   "outputs": [
    {
     "name": "stdout",
     "output_type": "stream",
     "text": [
      "<class 'int'>\n"
     ]
    }
   ],
   "source": [
    "x = 10\n",
    "print(type(x)) \n"
   ]
  },
  {
   "cell_type": "markdown",
   "id": "bbff1fde-9a43-454a-ac0f-ca3b09872f38",
   "metadata": {},
   "source": [
    "<br>\n",
    "\n",
    "<span style=\"background-color: yellow\">&nbsp;**zip()**&nbsp;</span> : Returns an iterator of tuples, where the i-th tuple contains the i-th element from each of the input iterables."
   ]
  },
  {
   "cell_type": "code",
   "execution_count": 49,
   "id": "60bc10f9-6339-47fc-ad06-f4ff5007f261",
   "metadata": {},
   "outputs": [
    {
     "name": "stdout",
     "output_type": "stream",
     "text": [
      "[('Alice', 25), ('Bob', 30), ('Charlie', 35)]\n"
     ]
    }
   ],
   "source": [
    "names = ['Alice', 'Bob', 'Charlie']\n",
    "ages = [25, 30, 35]\n",
    "zipped_data = zip(names, ages)\n",
    "print(list(zipped_data)) \n"
   ]
  },
  {
   "cell_type": "markdown",
   "id": "d63f9d63-3620-446a-a52a-4ea61e9eab31",
   "metadata": {},
   "source": [
    "<br>\n",
    "\n",
    "<span style=\"background-color: yellow\">&nbsp;**format()**&nbsp;</span> : Formats a specified value into a **specified format**."
   ]
  },
  {
   "cell_type": "code",
   "execution_count": 52,
   "id": "f8657c82-d9fa-4d9c-8836-813fd1961d64",
   "metadata": {},
   "outputs": [
    {
     "name": "stdout",
     "output_type": "stream",
     "text": [
      "My name is John and I am 30 years old.\n"
     ]
    }
   ],
   "source": [
    "name = \"John\"\n",
    "age = 30\n",
    "message = \"My name is {} and I am {} years old.\".format(name, age)\n",
    "print(message) \n"
   ]
  },
  {
   "cell_type": "markdown",
   "id": "87d63715-14cb-4246-86fb-6ba35e0ffd58",
   "metadata": {},
   "source": [
    "<br>\n",
    "\n",
    "<span style=\"background-color: yellow\">&nbsp;**eval()**&nbsp;</span> : **Evaluates a Python expression given as a string** and returns the result.\n"
   ]
  },
  {
   "cell_type": "code",
   "execution_count": 53,
   "id": "0d52fa18-a48e-4d29-a084-dc72b2839929",
   "metadata": {},
   "outputs": [
    {
     "name": "stdout",
     "output_type": "stream",
     "text": [
      "13\n"
     ]
    }
   ],
   "source": [
    "expression = \"3 + 5 * 2\"\n",
    "result = eval(expression)\n",
    "print(result) \n"
   ]
  },
  {
   "cell_type": "markdown",
   "id": "2a1ec97f-29c9-4db7-9940-2a5d82c7338a",
   "metadata": {},
   "source": [
    "<br>\n",
    "\n",
    "<span style=\"background-color: yellow\">&nbsp;**hash()**&nbsp;</span> : Returns the **hash value of an object**.\n"
   ]
  },
  {
   "cell_type": "code",
   "execution_count": 55,
   "id": "b09a1255-ad7f-44b6-8ae5-3ffc2547baa0",
   "metadata": {},
   "outputs": [
    {
     "name": "stdin",
     "output_type": "stream",
     "text": [
      "Enter your name:  Avinash\n"
     ]
    },
    {
     "name": "stdout",
     "output_type": "stream",
     "text": [
      "Hello, Avinash\n"
     ]
    }
   ],
   "source": [
    "name = input(\"Enter your name: \")\n",
    "print(\"Hello, \" + name)\n"
   ]
  },
  {
   "cell_type": "code",
   "execution_count": 58,
   "id": "29634384-9d72-4f98-a3f5-f02df918fbe8",
   "metadata": {},
   "outputs": [
    {
     "name": "stdout",
     "output_type": "stream",
     "text": [
      "['__add__', '__class__', '__class_getitem__', '__contains__', '__delattr__', '__delitem__', '__dir__', '__doc__', '__eq__', '__format__', '__ge__', '__getattribute__', '__getitem__', '__getstate__', '__gt__', '__hash__', '__iadd__', '__imul__', '__init__', '__init_subclass__', '__iter__', '__le__', '__len__', '__lt__', '__mul__', '__ne__', '__new__', '__reduce__', '__reduce_ex__', '__repr__', '__reversed__', '__rmul__', '__setattr__', '__setitem__', '__sizeof__', '__str__', '__subclasshook__', 'append', 'clear', 'copy', 'count', 'extend', 'index', 'insert', 'pop', 'remove', 'reverse', 'sort']\n"
     ]
    }
   ],
   "source": [
    "lst = [1, 2, 3]\n",
    "attributes = dir(lst)\n",
    "print(attributes) \n"
   ]
  },
  {
   "cell_type": "markdown",
   "id": "6add16f2-8842-4599-a154-13f0b6786af3",
   "metadata": {},
   "source": [
    "<br>\n",
    "\n",
    "<span style=\"background-color: yellow\">&nbsp;**enumerate()**&nbsp;</span> : Returns an **enumerate object**, which yields **pairs of indexes and values** from an iterable."
   ]
  },
  {
   "cell_type": "code",
   "execution_count": 61,
   "id": "93251873-e249-4ee2-9350-7abf68e1c554",
   "metadata": {},
   "outputs": [
    {
     "name": "stdout",
     "output_type": "stream",
     "text": [
      "0 apple\n",
      "1 banana\n",
      "2 cherry\n"
     ]
    }
   ],
   "source": [
    "fruits = ['apple', 'banana', 'cherry']\n",
    "for index, fruit in enumerate(fruits):\n",
    "    print(index, fruit)\n"
   ]
  },
  {
   "cell_type": "markdown",
   "id": "ac8f5b27-4a3b-4add-880e-4df4aa08bff0",
   "metadata": {},
   "source": [
    "<br>\n",
    "\n",
    "<span style=\"background-color: yellow\">&nbsp;**filter()**&nbsp;</span> : Constructs an iterator from the elements of an iterable for which a function returns **True**."
   ]
  },
  {
   "cell_type": "code",
   "execution_count": 67,
   "id": "71581844-f5ca-478a-a8ed-aa9916198557",
   "metadata": {},
   "outputs": [
    {
     "name": "stdout",
     "output_type": "stream",
     "text": [
      "[2, 4, 6, 8, 10]\n"
     ]
    }
   ],
   "source": [
    "\n",
    "def is_even(x):\n",
    "    return x % 2 == 0\n",
    "\n",
    "\n",
    "numbers = [1, 2, 3, 4, 5, 6, 7, 8, 9, 10]\n",
    "even_numbers = filter(is_even, numbers)\n",
    "# print(even_numbers)         # <filter object at 0x0000023949736F80>\n",
    "print(list(even_numbers)) \n"
   ]
  },
  {
   "cell_type": "markdown",
   "id": "989fb145-5a53-4ce7-9bab-41a5f7562db1",
   "metadata": {},
   "source": [
    "<br>\n",
    "\n",
    "<span style=\"background-color: yellow\">&nbsp;**map()**&nbsp;</span> : Applies a **function to all the items** in an input iterable."
   ]
  },
  {
   "cell_type": "code",
   "execution_count": 77,
   "id": "c72d1a3b-9d10-4727-8934-3ef144443400",
   "metadata": {},
   "outputs": [
    {
     "name": "stdout",
     "output_type": "stream",
     "text": [
      "[1, 4, 9, 16, 25]\n"
     ]
    }
   ],
   "source": [
    "def square(x):\n",
    "    return x ** 2\n",
    "\n",
    "numbers = [1, 2, 3, 4, 5]\n",
    "squared_numbers = map(square, numbers)\n",
    "print(list(squared_numbers)) \n"
   ]
  },
  {
   "cell_type": "markdown",
   "id": "3b868806-4a57-42c8-aba3-a1022179937b",
   "metadata": {},
   "source": [
    "<br>\n",
    "\n",
    "<span style=\"background-color: yellow\">&nbsp;**format_map()**&nbsp;</span> : Formats a string using the values of a specified **dictionary**."
   ]
  },
  {
   "cell_type": "code",
   "execution_count": 70,
   "id": "68c4f5e0-5208-441c-99f2-73860d46cc44",
   "metadata": {},
   "outputs": [
    {
     "name": "stdout",
     "output_type": "stream",
     "text": [
      "My name is John and I am 30 years old.\n"
     ]
    }
   ],
   "source": [
    "person = {'name': 'John', 'age': 30}\n",
    "message = \"My name is {name} and I am {age} years old.\".format_map(person)\n",
    "print(message) \n"
   ]
  },
  {
   "cell_type": "markdown",
   "id": "cf67b196-32bf-45e8-962b-1390284579e8",
   "metadata": {},
   "source": [
    "<br>\n",
    "\n",
    "<span style=\"background-color: yellow\">&nbsp;**next()**&nbsp;</span> : Retrieves the **next item** from the iterator."
   ]
  },
  {
   "cell_type": "code",
   "execution_count": 79,
   "id": "6ff20d45-5e7a-47c0-8e32-ea9afef3f06e",
   "metadata": {},
   "outputs": [
    {
     "name": "stdout",
     "output_type": "stream",
     "text": [
      "1\n",
      "2\n",
      "3\n"
     ]
    }
   ],
   "source": [
    "iterator = iter([1, 2, 3])\n",
    "print(next(iterator))  \n",
    "print(next(iterator))  \n",
    "print(next(iterator))  \n"
   ]
  },
  {
   "cell_type": "markdown",
   "id": "349bf9f2-6261-452c-a490-0c7987acf4e0",
   "metadata": {},
   "source": [
    "<br>\n",
    "\n",
    "<span style=\"background-color: yellow\">&nbsp;**open()**&nbsp;</span> : Opens a file and returns a corresponding file object."
   ]
  },
  {
   "cell_type": "code",
   "execution_count": 113,
   "id": "e44b6b39-4f13-40bd-8e7e-3b1407621f3d",
   "metadata": {},
   "outputs": [
    {
     "data": {
      "text/plain": [
       "'C:\\\\Users\\\\user\\\\Python_Programming'"
      ]
     },
     "execution_count": 113,
     "metadata": {},
     "output_type": "execute_result"
    }
   ],
   "source": [
    "pwd"
   ]
  },
  {
   "cell_type": "code",
   "execution_count": 114,
   "id": "de4af157-9398-431a-96b6-8f27cbe6bb39",
   "metadata": {},
   "outputs": [
    {
     "name": "stdout",
     "output_type": "stream",
     "text": [
      "testing\n"
     ]
    }
   ],
   "source": [
    "file = open('example.txt', 'r')\n",
    "content = file.read()\n",
    "print(content)\n",
    "file.close()\n"
   ]
  },
  {
   "cell_type": "code",
   "execution_count": 115,
   "id": "4ae80d78-d793-4918-b38e-584cebfb7a2e",
   "metadata": {},
   "outputs": [
    {
     "name": "stdout",
     "output_type": "stream",
     "text": [
      "testing\n"
     ]
    }
   ],
   "source": [
    "with open('example.txt', 'r') as file:\n",
    "    content = file.read()\n",
    "    print(content)\n"
   ]
  },
  {
   "cell_type": "markdown",
   "id": "79862764-26bc-43f8-a924-6ebfeacd91d8",
   "metadata": {},
   "source": [
    "<br>\n",
    "\n",
    "<span style=\"background-color: yellow\">&nbsp;**bit_length()**&nbsp;</span> : **number of bits necessary** to represent the integer in **binary**, excluding the sign and leading zeros."
   ]
  },
  {
   "cell_type": "code",
   "execution_count": 42,
   "id": "5ae8acfa-4893-4505-96c8-786e580b1f65",
   "metadata": {},
   "outputs": [
    {
     "name": "stdout",
     "output_type": "stream",
     "text": [
      "Number: 10\n",
      "Bit Length: 4\n"
     ]
    }
   ],
   "source": [
    "num = 10\n",
    "bit_length = num.bit_length()\n",
    "print(\"Number:\", num)\n",
    "print(\"Bit Length:\", bit_length)\n"
   ]
  },
  {
   "cell_type": "markdown",
   "id": "2ec2d708-f454-4772-888f-538362c3e628",
   "metadata": {},
   "source": [
    "<br>\n",
    "\n",
    "<span style=\"background-color: yellow\">&nbsp;**globals()**&nbsp;</span> : Returns the global symbol table as a dictionary."
   ]
  },
  {
   "cell_type": "code",
   "execution_count": 72,
   "id": "8fa84442-a8e6-4b97-9c7b-a40695a0e9b2",
   "metadata": {},
   "outputs": [
    {
     "name": "stdout",
     "output_type": "stream",
     "text": [
      "{'__name__': '__main__', '__doc__': 'Automatically created module for IPython interactive environment', '__package__': None, '__loader__': None, '__spec__': None, '__builtin__': <module 'builtins' (built-in)>, '__builtins__': <module 'builtins' (built-in)>, '_ih': ['', 'lst = [1, 2, 3, 4, 5]\\nlength = len(lst)\\nprint(length)  # Output: 5', 'lst = [1, 2, 3, 4, 5]\\nlength = len(lst)\\nprint(length)', '<span style=\"background-color: yellow\">&nbsp;**len()**&nbsp;</span> : Returns the largest item in an iterable or the largest of two or more arguments.', 'nums = [3, 7, 2, 9, 5]\\nmax_num = max(nums)\\nprint(max_num)  ', '<span style=\"background-color: yellow\">&nbsp;**min()**&nbsp;</span> : Returns the smallest item in an iterable or the smallest of two or more arguments.', 'nums = [3, 7, 2, 9, 5]\\nmin_num = min(nums)\\nprint(min_num) ', '<span style=\"background-color: yellow\">&nbsp;**ord()**&nbsp;</span> : Returns the Unicode code point for a single character.', \"code_point = ord('A')\\nprint(code_point) \", '<span style=\"background-color: yellow\">&nbsp;**pow()**&nbsp;</span> : Returns x to the power of y, optionally modulo n.', 'result = pow(2, 3)\\nprint(result)', '<span style=\"background-color: yellow\">&nbsp;**range()**&nbsp;</span> : Returns a sequence of numbers, starting from 0 by default, and increments by 1 (by default), ending before a specified number.', 'numbers = list(range(5))\\nprint(numbers) ', '<span style=\"background-color: yellow\">&nbsp;**reversed()**&nbsp;</span> : Returns a reverse iterator.', 'nums = [1, 2, 3, 4, 5]\\nreversed_nums = list(reversed(nums))\\nprint(reversed_nums)', '# Example - 1\\n\\nnums = [1, 2, 3, 4, 5]\\nreversed_nums = list(reversed(nums))\\nprint(reversed_nums)', '# Example -2 \\n\\nname = \"Avinash\"\\n\\nreversed_name = reversed(name)\\n\\nreversed_name', '# Example -2 \\n\\nname = \"Avinash\"\\n\\nreversed_name = reversed(name)\\n\\nlist(reversed_name)', '# Example -2 \\n\\nname = \"Avinash\"\\n\\nreversed_name = reversed(name)\\n\\nprint(reversed_name)', '# Example -2 \\n\\nname = \"Avinash\"\\n\\nreversed_name = reversed(name)\\n\\nprint(reversed_name)  ', 'name = \"Avinash\"\\n\\nreversed_name_list = list(reversed(name))\\n\\nprint(reversed_name_list)  ', 'reversed_name = \"\"\\n\\nfor i in range(len(name)):\\n    reversed_name = reversed_name + reversed_name_list[i]\\n\\nprint(reversed_name)\\n    ', 'num = 3.14159\\nrounded_num = round(num, 2)\\nprint(rounded_num) ', 'name = \"Avinash\"\\n\\nreversed_name_list = list(reversed(name))\\n\\nprint(reversed_name_list) ', '# Example -2 \\n\\nname = \"Avinash\"\\n\\nreversed_name = reversed(name)\\n\\nprint(reversed_name)  ', '# Example - 1\\n\\nnums = [1, 2, 3, 4, 5]\\nreversed_nums = list(reversed(nums))\\nprint(reversed_nums)', 'numbers = list(range(5))\\nprint(numbers) ', 'lst = [1, 2, 3, 4, 5]\\nlength = len(lst)\\nprint(length)', 'nums = [3, 7, 2, 9, 5]\\nmax_num = max(nums)\\nprint(max_num)  ', 'nums = [3, 7, 2, 9, 5]\\nmin_num = min(nums)\\nprint(min_num) ', \"code_point = ord('A')\\nprint(code_point) \", 'result = pow(2, 3)\\nprint(result)  ', 'result = pow(2, 3)\\nprint(result)  ', '<span style=\"background-color: yellow\">&nbsp;**sorted()**&nbsp;</span> : Returns a new sorted list from the elements of an iterable.', 'nums = [5, 2, 7, 1, 3]\\nsorted_nums = sorted(nums)\\nprint(sorted_nums)  # Output: [1, 2, 3, 5, 7]', 'nums = [5, 2, 7, 1, 3]\\nsorted_nums = sorted(nums)\\nprint(sorted_nums) ', '<span style=\"background-color: yellow\">&nbsp;**str()**&nbsp;</span> : Returns a string version of an object.', 'nums = [5, 2, 7, 1, 3]\\nsorted_nums = sorted(nums)\\nprint(sorted_nums) ', 'num = 123\\nstr_num = str(num)\\nprint(str_num) ', '<span style=\"background-color: yellow\">&nbsp;**sum()**&nbsp;</span> : Returns the sum of all elements in an iterable.', 'nums = [5, 2, 7, 1, 3] \\nsorted_nums = sorted(nums) \\nprint(sorted_nums) ', 'num = 123\\nstr_num = str(num)\\nprint(str_num) ', 'nums = [1, 2, 3, 4, 5]\\ntotal_sum = sum(nums)\\nprint(total_sum) ', 'lst = [1, 2, 3, 4, 5]\\ntpl = tuple(lst)\\nprint(tpl) ', '<span style=\"background-color: yellow\">&nbsp;**tuple()**&nbsp;</span> : Converts an iterable to a tuple.', '<span style=\"background-color: yellow\">&nbsp;**type()**&nbsp;</span> : Returns the type of an object.', \"x = 10\\nprint(type(x))  # Output: <class 'int'>\", '<span style=\"background-color: yellow\">&nbsp;**zip()**&nbsp;</span> : Returns an iterator of tuples, where the i-th tuple contains the i-th element from each of the input iterables.', 'x = 10\\nprint(type(x)) ', \"names = ['Alice', 'Bob', 'Charlie']\\nages = [25, 30, 35]\\nzipped_data = zip(names, ages)\\nprint(list(zipped_data)) \", '<span style=\"background-color: yellow\">&nbsp;**format()**&nbsp;</span> : Formats a specified value into a specified format.', '<br>\\n\\n<span style=\"background-color: yellow\">&nbsp;**eval()**&nbsp;</span> : Evaluates a Python expression given as a string and returns the result..', 'name = \"John\"\\nage = 30\\nmessage = \"My name is {} and I am {} years old.\".format(name, age)\\nprint(message) ', 'expression = \"3 + 5 * 2\"\\nresult = eval(expression)\\nprint(result) ', '<br>\\n\\n<span style=\"background-color: yellow\">&nbsp;**hash()**&nbsp;</span> : Returns the hash value of an object.', 'name = input(\"Enter your name: \")\\nprint(\"Hello, \" + name)', '<span style=\"background-color: yellow\">&nbsp;**callable()**&nbsp;</span> : Returns True if the object appears callable (i.e., can be called), otherwise False.', 'lst = [1, 2, 3]\\nattributes = dir(lst)\\nprint(attributes) ', 'lst = [1, 2, 3]\\nattributes = dir(lst)\\nprint(attributes) ', '<br>\\n\\n<span style=\"background-color: yellow\">&nbsp;**enumerate()**&nbsp;</span> : Returns an enumerate object, which yields pairs of indexes and values from an iterable.', \"fruits = ['apple', 'banana', 'cherry']\\nfor index, fruit in enumerate(fruits):\\n    print(index, fruit)\\n# Output:\\n# 0 apple\\n# 1 banana\\n# 2 cherry\", \"fruits = ['apple', 'banana', 'cherry']\\nfor index, fruit in enumerate(fruits):\\n    print(index, fruit)\", '<span style=\"background-color: yellow\">&nbsp;**filter()**&nbsp;</span> : Constructs an iterator from the elements of an iterable for which a function returns True.', 'def is_even(x):\\n    return x % 2 == 0\\n\\nnumbers = [1, 2, 3, 4, 5, 6, 7, 8, 9, 10]\\neven_numbers = filter(is_even, numbers)\\nprint(list(even_numbers)) ', 'def is_even(x):\\n    return x % 2 == 0\\n\\nnumbers = [1, 2, 3, 4, 5, 6, 7, 8, 9, 10]\\neven_numbers = filter(is_even, numbers)\\nprint(even_numbers)\\nprint(list(even_numbers)) ', 'def is_even(x):\\n    return x % 2 == 0\\n\\nnumbers = [1, 2, 3, 4, 5, 6, 7, 8, 9, 10]\\neven_numbers = filter(is_even, numbers)\\n# print(even_numbers)         # <filter object at 0x0000023949736F80>\\nprint(list(even_numbers)) ', 'def is_even(x):\\n    return x % 2 == 0\\n\\n\\nnumbers = [1, 2, 3, 4, 5, 6, 7, 8, 9, 10]\\neven_numbers = filter(is_even, numbers)\\n# print(even_numbers)         # <filter object at 0x0000023949736F80>\\nprint(list(even_numbers)) ', 'def is_even(x):\\n    return x % 2 == 0\\n\\n\\nnumbers = [1, 2, 3, 4, 5, 6, 7, 8, 9, 10]\\neven_numbers = filter(is_even, numbers)\\n# print(even_numbers)         # <filter object at 0x0000023949736F80>\\nprint(list(even_numbers)) ', '<br>\\n\\n<span style=\"background-color: yellow\">&nbsp;**format_map()**&nbsp;</span> : Formats a string using the values of a specified dictionary.', 'person = {\\'name\\': \\'John\\', \\'age\\': 30}\\nmessage = \"My name is {name} and I am {age} years old.\".format_map(person)\\nprint(message)  # Output: My name is John and I am 30 years old.', 'person = {\\'name\\': \\'John\\', \\'age\\': 30}\\nmessage = \"My name is {name} and I am {age} years old.\".format_map(person)\\nprint(message) ', '<br>\\n\\n<span style=\"background-color: yellow\">&nbsp;**globals()**&nbsp;</span> : Returns the global symbol table as a dictionary.', \"x = 10\\ny = 20\\nglobal_vars = globals()\\nprint(global_vars)  # Output: {'__name__': '__main__', '__doc__': None, ...}\"], '_oh': {16: <reversed object at 0x0000023949734B80>, 17: ['h', 's', 'a', 'n', 'i', 'v', 'A']}, '_dh': [WindowsPath('C:/Users/user/Python_Programming')], 'In': ['', 'lst = [1, 2, 3, 4, 5]\\nlength = len(lst)\\nprint(length)  # Output: 5', 'lst = [1, 2, 3, 4, 5]\\nlength = len(lst)\\nprint(length)', '<span style=\"background-color: yellow\">&nbsp;**len()**&nbsp;</span> : Returns the largest item in an iterable or the largest of two or more arguments.', 'nums = [3, 7, 2, 9, 5]\\nmax_num = max(nums)\\nprint(max_num)  ', '<span style=\"background-color: yellow\">&nbsp;**min()**&nbsp;</span> : Returns the smallest item in an iterable or the smallest of two or more arguments.', 'nums = [3, 7, 2, 9, 5]\\nmin_num = min(nums)\\nprint(min_num) ', '<span style=\"background-color: yellow\">&nbsp;**ord()**&nbsp;</span> : Returns the Unicode code point for a single character.', \"code_point = ord('A')\\nprint(code_point) \", '<span style=\"background-color: yellow\">&nbsp;**pow()**&nbsp;</span> : Returns x to the power of y, optionally modulo n.', 'result = pow(2, 3)\\nprint(result)', '<span style=\"background-color: yellow\">&nbsp;**range()**&nbsp;</span> : Returns a sequence of numbers, starting from 0 by default, and increments by 1 (by default), ending before a specified number.', 'numbers = list(range(5))\\nprint(numbers) ', '<span style=\"background-color: yellow\">&nbsp;**reversed()**&nbsp;</span> : Returns a reverse iterator.', 'nums = [1, 2, 3, 4, 5]\\nreversed_nums = list(reversed(nums))\\nprint(reversed_nums)', '# Example - 1\\n\\nnums = [1, 2, 3, 4, 5]\\nreversed_nums = list(reversed(nums))\\nprint(reversed_nums)', '# Example -2 \\n\\nname = \"Avinash\"\\n\\nreversed_name = reversed(name)\\n\\nreversed_name', '# Example -2 \\n\\nname = \"Avinash\"\\n\\nreversed_name = reversed(name)\\n\\nlist(reversed_name)', '# Example -2 \\n\\nname = \"Avinash\"\\n\\nreversed_name = reversed(name)\\n\\nprint(reversed_name)', '# Example -2 \\n\\nname = \"Avinash\"\\n\\nreversed_name = reversed(name)\\n\\nprint(reversed_name)  ', 'name = \"Avinash\"\\n\\nreversed_name_list = list(reversed(name))\\n\\nprint(reversed_name_list)  ', 'reversed_name = \"\"\\n\\nfor i in range(len(name)):\\n    reversed_name = reversed_name + reversed_name_list[i]\\n\\nprint(reversed_name)\\n    ', 'num = 3.14159\\nrounded_num = round(num, 2)\\nprint(rounded_num) ', 'name = \"Avinash\"\\n\\nreversed_name_list = list(reversed(name))\\n\\nprint(reversed_name_list) ', '# Example -2 \\n\\nname = \"Avinash\"\\n\\nreversed_name = reversed(name)\\n\\nprint(reversed_name)  ', '# Example - 1\\n\\nnums = [1, 2, 3, 4, 5]\\nreversed_nums = list(reversed(nums))\\nprint(reversed_nums)', 'numbers = list(range(5))\\nprint(numbers) ', 'lst = [1, 2, 3, 4, 5]\\nlength = len(lst)\\nprint(length)', 'nums = [3, 7, 2, 9, 5]\\nmax_num = max(nums)\\nprint(max_num)  ', 'nums = [3, 7, 2, 9, 5]\\nmin_num = min(nums)\\nprint(min_num) ', \"code_point = ord('A')\\nprint(code_point) \", 'result = pow(2, 3)\\nprint(result)  ', 'result = pow(2, 3)\\nprint(result)  ', '<span style=\"background-color: yellow\">&nbsp;**sorted()**&nbsp;</span> : Returns a new sorted list from the elements of an iterable.', 'nums = [5, 2, 7, 1, 3]\\nsorted_nums = sorted(nums)\\nprint(sorted_nums)  # Output: [1, 2, 3, 5, 7]', 'nums = [5, 2, 7, 1, 3]\\nsorted_nums = sorted(nums)\\nprint(sorted_nums) ', '<span style=\"background-color: yellow\">&nbsp;**str()**&nbsp;</span> : Returns a string version of an object.', 'nums = [5, 2, 7, 1, 3]\\nsorted_nums = sorted(nums)\\nprint(sorted_nums) ', 'num = 123\\nstr_num = str(num)\\nprint(str_num) ', '<span style=\"background-color: yellow\">&nbsp;**sum()**&nbsp;</span> : Returns the sum of all elements in an iterable.', 'nums = [5, 2, 7, 1, 3] \\nsorted_nums = sorted(nums) \\nprint(sorted_nums) ', 'num = 123\\nstr_num = str(num)\\nprint(str_num) ', 'nums = [1, 2, 3, 4, 5]\\ntotal_sum = sum(nums)\\nprint(total_sum) ', 'lst = [1, 2, 3, 4, 5]\\ntpl = tuple(lst)\\nprint(tpl) ', '<span style=\"background-color: yellow\">&nbsp;**tuple()**&nbsp;</span> : Converts an iterable to a tuple.', '<span style=\"background-color: yellow\">&nbsp;**type()**&nbsp;</span> : Returns the type of an object.', \"x = 10\\nprint(type(x))  # Output: <class 'int'>\", '<span style=\"background-color: yellow\">&nbsp;**zip()**&nbsp;</span> : Returns an iterator of tuples, where the i-th tuple contains the i-th element from each of the input iterables.', 'x = 10\\nprint(type(x)) ', \"names = ['Alice', 'Bob', 'Charlie']\\nages = [25, 30, 35]\\nzipped_data = zip(names, ages)\\nprint(list(zipped_data)) \", '<span style=\"background-color: yellow\">&nbsp;**format()**&nbsp;</span> : Formats a specified value into a specified format.', '<br>\\n\\n<span style=\"background-color: yellow\">&nbsp;**eval()**&nbsp;</span> : Evaluates a Python expression given as a string and returns the result..', 'name = \"John\"\\nage = 30\\nmessage = \"My name is {} and I am {} years old.\".format(name, age)\\nprint(message) ', 'expression = \"3 + 5 * 2\"\\nresult = eval(expression)\\nprint(result) ', '<br>\\n\\n<span style=\"background-color: yellow\">&nbsp;**hash()**&nbsp;</span> : Returns the hash value of an object.', 'name = input(\"Enter your name: \")\\nprint(\"Hello, \" + name)', '<span style=\"background-color: yellow\">&nbsp;**callable()**&nbsp;</span> : Returns True if the object appears callable (i.e., can be called), otherwise False.', 'lst = [1, 2, 3]\\nattributes = dir(lst)\\nprint(attributes) ', 'lst = [1, 2, 3]\\nattributes = dir(lst)\\nprint(attributes) ', '<br>\\n\\n<span style=\"background-color: yellow\">&nbsp;**enumerate()**&nbsp;</span> : Returns an enumerate object, which yields pairs of indexes and values from an iterable.', \"fruits = ['apple', 'banana', 'cherry']\\nfor index, fruit in enumerate(fruits):\\n    print(index, fruit)\\n# Output:\\n# 0 apple\\n# 1 banana\\n# 2 cherry\", \"fruits = ['apple', 'banana', 'cherry']\\nfor index, fruit in enumerate(fruits):\\n    print(index, fruit)\", '<span style=\"background-color: yellow\">&nbsp;**filter()**&nbsp;</span> : Constructs an iterator from the elements of an iterable for which a function returns True.', 'def is_even(x):\\n    return x % 2 == 0\\n\\nnumbers = [1, 2, 3, 4, 5, 6, 7, 8, 9, 10]\\neven_numbers = filter(is_even, numbers)\\nprint(list(even_numbers)) ', 'def is_even(x):\\n    return x % 2 == 0\\n\\nnumbers = [1, 2, 3, 4, 5, 6, 7, 8, 9, 10]\\neven_numbers = filter(is_even, numbers)\\nprint(even_numbers)\\nprint(list(even_numbers)) ', 'def is_even(x):\\n    return x % 2 == 0\\n\\nnumbers = [1, 2, 3, 4, 5, 6, 7, 8, 9, 10]\\neven_numbers = filter(is_even, numbers)\\n# print(even_numbers)         # <filter object at 0x0000023949736F80>\\nprint(list(even_numbers)) ', 'def is_even(x):\\n    return x % 2 == 0\\n\\n\\nnumbers = [1, 2, 3, 4, 5, 6, 7, 8, 9, 10]\\neven_numbers = filter(is_even, numbers)\\n# print(even_numbers)         # <filter object at 0x0000023949736F80>\\nprint(list(even_numbers)) ', 'def is_even(x):\\n    return x % 2 == 0\\n\\n\\nnumbers = [1, 2, 3, 4, 5, 6, 7, 8, 9, 10]\\neven_numbers = filter(is_even, numbers)\\n# print(even_numbers)         # <filter object at 0x0000023949736F80>\\nprint(list(even_numbers)) ', '<br>\\n\\n<span style=\"background-color: yellow\">&nbsp;**format_map()**&nbsp;</span> : Formats a string using the values of a specified dictionary.', 'person = {\\'name\\': \\'John\\', \\'age\\': 30}\\nmessage = \"My name is {name} and I am {age} years old.\".format_map(person)\\nprint(message)  # Output: My name is John and I am 30 years old.', 'person = {\\'name\\': \\'John\\', \\'age\\': 30}\\nmessage = \"My name is {name} and I am {age} years old.\".format_map(person)\\nprint(message) ', '<br>\\n\\n<span style=\"background-color: yellow\">&nbsp;**globals()**&nbsp;</span> : Returns the global symbol table as a dictionary.', \"x = 10\\ny = 20\\nglobal_vars = globals()\\nprint(global_vars)  # Output: {'__name__': '__main__', '__doc__': None, ...}\"], 'Out': {16: <reversed object at 0x0000023949734B80>, 17: ['h', 's', 'a', 'n', 'i', 'v', 'A']}, 'get_ipython': <bound method InteractiveShell.get_ipython of <ipykernel.zmqshell.ZMQInteractiveShell object at 0x00000239497294D0>>, 'exit': <IPython.core.autocall.ZMQExitAutocall object at 0x000002394972D7D0>, 'quit': <IPython.core.autocall.ZMQExitAutocall object at 0x000002394972D7D0>, 'open': <function open at 0x00000239476F1B20>, '_': ['h', 's', 'a', 'n', 'i', 'v', 'A'], '__': <reversed object at 0x0000023949734B80>, '___': '', '__session__': 'C:\\\\Users\\\\user\\\\Python_Programming\\\\Untitled1.ipynb', '_i': '<br>\\n\\n<span style=\"background-color: yellow\">&nbsp;**globals()**&nbsp;</span> : Returns the global symbol table as a dictionary.', '_ii': 'person = {\\'name\\': \\'John\\', \\'age\\': 30}\\nmessage = \"My name is {name} and I am {age} years old.\".format_map(person)\\nprint(message) ', '_iii': 'person = {\\'name\\': \\'John\\', \\'age\\': 30}\\nmessage = \"My name is {name} and I am {age} years old.\".format_map(person)\\nprint(message)  # Output: My name is John and I am 30 years old.', '_i1': 'lst = [1, 2, 3, 4, 5]\\nlength = len(lst)\\nprint(length)  # Output: 5', 'lst': [1, 2, 3], 'length': 5, '_i2': 'lst = [1, 2, 3, 4, 5]\\nlength = len(lst)\\nprint(length)', '_i3': '<span style=\"background-color: yellow\">&nbsp;**len()**&nbsp;</span> : Returns the largest item in an iterable or the largest of two or more arguments.', '_i4': 'nums = [3, 7, 2, 9, 5]\\nmax_num = max(nums)\\nprint(max_num)  ', 'nums': [1, 2, 3, 4, 5], 'max_num': 9, '_i5': '<span style=\"background-color: yellow\">&nbsp;**min()**&nbsp;</span> : Returns the smallest item in an iterable or the smallest of two or more arguments.', '_i6': 'nums = [3, 7, 2, 9, 5]\\nmin_num = min(nums)\\nprint(min_num) ', 'min_num': 2, '_i7': '<span style=\"background-color: yellow\">&nbsp;**ord()**&nbsp;</span> : Returns the Unicode code point for a single character.', '_i8': \"code_point = ord('A')\\nprint(code_point) \", 'code_point': 65, '_i9': '<span style=\"background-color: yellow\">&nbsp;**pow()**&nbsp;</span> : Returns x to the power of y, optionally modulo n.', '_i10': 'result = pow(2, 3)\\nprint(result)', 'result': 13, '_i11': '<span style=\"background-color: yellow\">&nbsp;**range()**&nbsp;</span> : Returns a sequence of numbers, starting from 0 by default, and increments by 1 (by default), ending before a specified number.', '_i12': 'numbers = list(range(5))\\nprint(numbers) ', 'numbers': [1, 2, 3, 4, 5, 6, 7, 8, 9, 10], '_i13': '<span style=\"background-color: yellow\">&nbsp;**reversed()**&nbsp;</span> : Returns a reverse iterator.', '_i14': 'nums = [1, 2, 3, 4, 5]\\nreversed_nums = list(reversed(nums))\\nprint(reversed_nums)', 'reversed_nums': [5, 4, 3, 2, 1], '_i15': '# Example - 1\\n\\nnums = [1, 2, 3, 4, 5]\\nreversed_nums = list(reversed(nums))\\nprint(reversed_nums)', '_i16': '# Example -2 \\n\\nname = \"Avinash\"\\n\\nreversed_name = reversed(name)\\n\\nreversed_name', 'name': 'Avinash', 'reversed_name': <reversed object at 0x0000023949736A10>, '_16': <reversed object at 0x0000023949734B80>, '_i17': '# Example -2 \\n\\nname = \"Avinash\"\\n\\nreversed_name = reversed(name)\\n\\nlist(reversed_name)', '_17': ['h', 's', 'a', 'n', 'i', 'v', 'A'], '_i18': '# Example -2 \\n\\nname = \"Avinash\"\\n\\nreversed_name = reversed(name)\\n\\nprint(reversed_name)', '_i19': '# Example -2 \\n\\nname = \"Avinash\"\\n\\nreversed_name = reversed(name)\\n\\nprint(reversed_name)  ', '_i20': 'name = \"Avinash\"\\n\\nreversed_name_list = list(reversed(name))\\n\\nprint(reversed_name_list)  ', 'reversed_name_list': ['h', 's', 'a', 'n', 'i', 'v', 'A'], '_i21': 'reversed_name = \"\"\\n\\nfor i in range(len(name)):\\n    reversed_name = reversed_name + reversed_name_list[i]\\n\\nprint(reversed_name)\\n    ', 'i': 6, '_i22': 'num = 3.14159\\nrounded_num = round(num, 2)\\nprint(rounded_num) ', 'num': 123, 'rounded_num': 3.14, '_i23': 'name = \"Avinash\"\\n\\nreversed_name_list = list(reversed(name))\\n\\nprint(reversed_name_list) ', '_i24': '# Example -2 \\n\\nname = \"Avinash\"\\n\\nreversed_name = reversed(name)\\n\\nprint(reversed_name)  ', '_i25': '# Example - 1\\n\\nnums = [1, 2, 3, 4, 5]\\nreversed_nums = list(reversed(nums))\\nprint(reversed_nums)', '_i26': 'numbers = list(range(5))\\nprint(numbers) ', '_i27': 'lst = [1, 2, 3, 4, 5]\\nlength = len(lst)\\nprint(length)', '_i28': 'nums = [3, 7, 2, 9, 5]\\nmax_num = max(nums)\\nprint(max_num)  ', '_i29': 'nums = [3, 7, 2, 9, 5]\\nmin_num = min(nums)\\nprint(min_num) ', '_i30': \"code_point = ord('A')\\nprint(code_point) \", '_i31': 'result = pow(2, 3)\\nprint(result)  ', '_i32': 'result = pow(2, 3)\\nprint(result)  ', '_i33': '<span style=\"background-color: yellow\">&nbsp;**sorted()**&nbsp;</span> : Returns a new sorted list from the elements of an iterable.', '_i34': 'nums = [5, 2, 7, 1, 3]\\nsorted_nums = sorted(nums)\\nprint(sorted_nums)  # Output: [1, 2, 3, 5, 7]', 'sorted_nums': [1, 2, 3, 5, 7], '_i35': 'nums = [5, 2, 7, 1, 3]\\nsorted_nums = sorted(nums)\\nprint(sorted_nums) ', '_i36': '<span style=\"background-color: yellow\">&nbsp;**str()**&nbsp;</span> : Returns a string version of an object.', '_i37': 'nums = [5, 2, 7, 1, 3]\\nsorted_nums = sorted(nums)\\nprint(sorted_nums) ', '_i38': 'num = 123\\nstr_num = str(num)\\nprint(str_num) ', 'str_num': '123', '_i39': '<span style=\"background-color: yellow\">&nbsp;**sum()**&nbsp;</span> : Returns the sum of all elements in an iterable.', '_i40': 'nums = [5, 2, 7, 1, 3] \\nsorted_nums = sorted(nums) \\nprint(sorted_nums) ', '_i41': 'num = 123\\nstr_num = str(num)\\nprint(str_num) ', '_i42': 'nums = [1, 2, 3, 4, 5]\\ntotal_sum = sum(nums)\\nprint(total_sum) ', 'total_sum': 15, '_i43': 'lst = [1, 2, 3, 4, 5]\\ntpl = tuple(lst)\\nprint(tpl) ', 'tpl': (1, 2, 3, 4, 5), '_i44': '<span style=\"background-color: yellow\">&nbsp;**tuple()**&nbsp;</span> : Converts an iterable to a tuple.', '_i45': '<span style=\"background-color: yellow\">&nbsp;**type()**&nbsp;</span> : Returns the type of an object.', '_i46': \"x = 10\\nprint(type(x))  # Output: <class 'int'>\", 'x': 10, '_i47': '<span style=\"background-color: yellow\">&nbsp;**zip()**&nbsp;</span> : Returns an iterator of tuples, where the i-th tuple contains the i-th element from each of the input iterables.', '_i48': 'x = 10\\nprint(type(x)) ', '_i49': \"names = ['Alice', 'Bob', 'Charlie']\\nages = [25, 30, 35]\\nzipped_data = zip(names, ages)\\nprint(list(zipped_data)) \", 'names': ['Alice', 'Bob', 'Charlie'], 'ages': [25, 30, 35], 'zipped_data': <zip object at 0x00000239497AA280>, '_i50': '<span style=\"background-color: yellow\">&nbsp;**format()**&nbsp;</span> : Formats a specified value into a specified format.', '_i51': '<br>\\n\\n<span style=\"background-color: yellow\">&nbsp;**eval()**&nbsp;</span> : Evaluates a Python expression given as a string and returns the result..', '_i52': 'name = \"John\"\\nage = 30\\nmessage = \"My name is {} and I am {} years old.\".format(name, age)\\nprint(message) ', 'age': 30, 'message': 'My name is John and I am 30 years old.', '_i53': 'expression = \"3 + 5 * 2\"\\nresult = eval(expression)\\nprint(result) ', 'expression': '3 + 5 * 2', '_i54': '<br>\\n\\n<span style=\"background-color: yellow\">&nbsp;**hash()**&nbsp;</span> : Returns the hash value of an object.', '_i55': 'name = input(\"Enter your name: \")\\nprint(\"Hello, \" + name)', '_i56': '<span style=\"background-color: yellow\">&nbsp;**callable()**&nbsp;</span> : Returns True if the object appears callable (i.e., can be called), otherwise False.', '_i57': 'lst = [1, 2, 3]\\nattributes = dir(lst)\\nprint(attributes) ', 'attributes': ['__add__', '__class__', '__class_getitem__', '__contains__', '__delattr__', '__delitem__', '__dir__', '__doc__', '__eq__', '__format__', '__ge__', '__getattribute__', '__getitem__', '__getstate__', '__gt__', '__hash__', '__iadd__', '__imul__', '__init__', '__init_subclass__', '__iter__', '__le__', '__len__', '__lt__', '__mul__', '__ne__', '__new__', '__reduce__', '__reduce_ex__', '__repr__', '__reversed__', '__rmul__', '__setattr__', '__setitem__', '__sizeof__', '__str__', '__subclasshook__', 'append', 'clear', 'copy', 'count', 'extend', 'index', 'insert', 'pop', 'remove', 'reverse', 'sort'], '_i58': 'lst = [1, 2, 3]\\nattributes = dir(lst)\\nprint(attributes) ', '_i59': '<br>\\n\\n<span style=\"background-color: yellow\">&nbsp;**enumerate()**&nbsp;</span> : Returns an enumerate object, which yields pairs of indexes and values from an iterable.', '_i60': \"fruits = ['apple', 'banana', 'cherry']\\nfor index, fruit in enumerate(fruits):\\n    print(index, fruit)\\n# Output:\\n# 0 apple\\n# 1 banana\\n# 2 cherry\", 'fruits': ['apple', 'banana', 'cherry'], 'index': 2, 'fruit': 'cherry', '_i61': \"fruits = ['apple', 'banana', 'cherry']\\nfor index, fruit in enumerate(fruits):\\n    print(index, fruit)\", '_i62': '<span style=\"background-color: yellow\">&nbsp;**filter()**&nbsp;</span> : Constructs an iterator from the elements of an iterable for which a function returns True.', '_i63': 'def is_even(x):\\n    return x % 2 == 0\\n\\nnumbers = [1, 2, 3, 4, 5, 6, 7, 8, 9, 10]\\neven_numbers = filter(is_even, numbers)\\nprint(list(even_numbers)) ', 'is_even': <function is_even at 0x0000023949792D40>, 'even_numbers': <filter object at 0x0000023949736EF0>, '_i64': 'def is_even(x):\\n    return x % 2 == 0\\n\\nnumbers = [1, 2, 3, 4, 5, 6, 7, 8, 9, 10]\\neven_numbers = filter(is_even, numbers)\\nprint(even_numbers)\\nprint(list(even_numbers)) ', '_i65': 'def is_even(x):\\n    return x % 2 == 0\\n\\nnumbers = [1, 2, 3, 4, 5, 6, 7, 8, 9, 10]\\neven_numbers = filter(is_even, numbers)\\n# print(even_numbers)         # <filter object at 0x0000023949736F80>\\nprint(list(even_numbers)) ', '_i66': 'def is_even(x):\\n    return x % 2 == 0\\n\\n\\nnumbers = [1, 2, 3, 4, 5, 6, 7, 8, 9, 10]\\neven_numbers = filter(is_even, numbers)\\n# print(even_numbers)         # <filter object at 0x0000023949736F80>\\nprint(list(even_numbers)) ', '_i67': '\\ndef is_even(x):\\n    return x % 2 == 0\\n\\n\\nnumbers = [1, 2, 3, 4, 5, 6, 7, 8, 9, 10]\\neven_numbers = filter(is_even, numbers)\\n# print(even_numbers)         # <filter object at 0x0000023949736F80>\\nprint(list(even_numbers)) ', '_i68': '<br>\\n\\n<span style=\"background-color: yellow\">&nbsp;**format_map()**&nbsp;</span> : Formats a string using the values of a specified dictionary.', '_i69': 'person = {\\'name\\': \\'John\\', \\'age\\': 30}\\nmessage = \"My name is {name} and I am {age} years old.\".format_map(person)\\nprint(message)  # Output: My name is John and I am 30 years old.', 'person': {'name': 'John', 'age': 30}, '_i70': 'person = {\\'name\\': \\'John\\', \\'age\\': 30}\\nmessage = \"My name is {name} and I am {age} years old.\".format_map(person)\\nprint(message) ', '_i71': '<br>\\n\\n<span style=\"background-color: yellow\">&nbsp;**globals()**&nbsp;</span> : Returns the global symbol table as a dictionary.', '_i72': \"x = 10\\ny = 20\\nglobal_vars = globals()\\nprint(global_vars)  # Output: {'__name__': '__main__', '__doc__': None, ...}\", 'y': 20, 'global_vars': {...}}\n"
     ]
    }
   ],
   "source": [
    "x = 10\n",
    "y = 20\n",
    "global_vars = globals()\n",
    "print(global_vars)  # Output: {'__name__': '__main__', '__doc__': None, ...}\n"
   ]
  },
  {
   "cell_type": "markdown",
   "id": "2103644a-4c0b-45f5-9ff4-b40b433fdfce",
   "metadata": {},
   "source": [
    "<br>\n",
    "\n",
    "<span style=\"background-color: yellow\">&nbsp;**locals()**&nbsp;</span> : Returns the local symbol table as a dictionary."
   ]
  },
  {
   "cell_type": "code",
   "execution_count": 74,
   "id": "568a1a66-a3b8-4886-8dbb-fbd06a64fc09",
   "metadata": {},
   "outputs": [
    {
     "name": "stdout",
     "output_type": "stream",
     "text": [
      "{}\n"
     ]
    }
   ],
   "source": [
    "def my_function():\n",
    "    local_vars = locals()\n",
    "    print(local_vars)\n",
    "\n",
    "my_function()  # Output: {'local_vars': {...}}\n"
   ]
  },
  {
   "cell_type": "markdown",
   "id": "c8ff42a6-300b-4a71-ac7a-38185b166d24",
   "metadata": {},
   "source": [
    "<br>\n",
    "\n",
    "<span style=\"background-color: yellow\">&nbsp;**property()**&nbsp;</span> : Returns a property attribute.\n"
   ]
  },
  {
   "cell_type": "code",
   "execution_count": 117,
   "id": "9cc752dd-fa23-4334-ad3b-80222536269f",
   "metadata": {},
   "outputs": [
    {
     "name": "stdout",
     "output_type": "stream",
     "text": [
      "10\n"
     ]
    }
   ],
   "source": [
    "class MyClass:\n",
    "    def __init__(self):\n",
    "        self._x = None\n",
    "    \n",
    "    @property\n",
    "    def x(self):\n",
    "        return self._x\n",
    "    \n",
    "    @x.setter\n",
    "    def x(self, value):\n",
    "        self._x = value\n",
    "\n",
    "obj = MyClass()\n",
    "obj.x = 10\n",
    "print(obj.x) \n"
   ]
  },
  {
   "cell_type": "markdown",
   "id": "3fa05cd5-c6b0-4848-aa5a-60ebda9a3842",
   "metadata": {},
   "source": [
    "<br>\n",
    "\n",
    "<span style=\"background-color: yellow\">&nbsp;**setattr()**&nbsp;</span> : Sets the value of an attribute of an object."
   ]
  },
  {
   "cell_type": "code",
   "execution_count": 119,
   "id": "92701e60-f76c-41d7-b3c8-e9541d401635",
   "metadata": {},
   "outputs": [
    {
     "name": "stdout",
     "output_type": "stream",
     "text": [
      "10\n"
     ]
    }
   ],
   "source": [
    "class MyClass:\n",
    "    pass\n",
    "\n",
    "obj = MyClass()\n",
    "setattr(obj, 'x', 10)\n",
    "print(obj.x)  # Output: 10\n"
   ]
  },
  {
   "cell_type": "markdown",
   "id": "d286af38-a66e-48ea-8c18-28ff3263fe5a",
   "metadata": {},
   "source": [
    "<br>\n",
    "\n",
    "<span style=\"background-color: yellow\">&nbsp;**staticmethod()**&nbsp;</span> : Converts a method into a **static method**."
   ]
  },
  {
   "cell_type": "code",
   "execution_count": 121,
   "id": "e76c9241-2669-47f5-b0d2-f413dd063f57",
   "metadata": {},
   "outputs": [
    {
     "name": "stdout",
     "output_type": "stream",
     "text": [
      "Static method called\n"
     ]
    }
   ],
   "source": [
    "class MyClass:\n",
    "    @staticmethod\n",
    "    def my_method():\n",
    "        print(\"Static method called\")\n",
    "\n",
    "MyClass.my_method()  # Output: Static method called\n"
   ]
  },
  {
   "cell_type": "code",
   "execution_count": null,
   "id": "d60855e0-424f-4f29-9c3f-17693da20f67",
   "metadata": {},
   "outputs": [],
   "source": []
  },
  {
   "cell_type": "code",
   "execution_count": null,
   "id": "ff172858-9268-47b7-96ef-22c2be84d9b7",
   "metadata": {},
   "outputs": [],
   "source": []
  },
  {
   "cell_type": "markdown",
   "id": "654a3d15-f9a2-47ec-a767-90821be608ce",
   "metadata": {},
   "source": [
    "**Note** : <br>\n",
    "\n",
    "getattr() - to get the value of an attribute  <br>\n",
    "\n",
    "hasattr() - to check if an attribute exist    <br>\n",
    "\n",
    "setattr() - to set the value of an attribute  <br>\n",
    "\n",
    "delattr() - to set the value of an attribute"
   ]
  },
  {
   "cell_type": "code",
   "execution_count": null,
   "id": "ca9aed75-2ae9-4633-90f1-c8388ca57267",
   "metadata": {},
   "outputs": [],
   "source": []
  },
  {
   "cell_type": "code",
   "execution_count": null,
   "id": "b4a5d5f7-1e6a-48b3-aa19-f1ce9ddafbf2",
   "metadata": {},
   "outputs": [],
   "source": []
  },
  {
   "cell_type": "code",
   "execution_count": null,
   "id": "2855ca01-815e-426b-a4d5-a3639b1ab738",
   "metadata": {},
   "outputs": [],
   "source": []
  }
 ],
 "metadata": {
  "kernelspec": {
   "display_name": "Python 3 (ipykernel)",
   "language": "python",
   "name": "python3"
  },
  "language_info": {
   "codemirror_mode": {
    "name": "ipython",
    "version": 3
   },
   "file_extension": ".py",
   "mimetype": "text/x-python",
   "name": "python",
   "nbconvert_exporter": "python",
   "pygments_lexer": "ipython3",
   "version": "3.11.3"
  }
 },
 "nbformat": 4,
 "nbformat_minor": 5
}
