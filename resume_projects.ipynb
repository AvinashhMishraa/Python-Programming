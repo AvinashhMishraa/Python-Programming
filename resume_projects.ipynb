{
 "cells": [
  {
   "cell_type": "markdown",
   "id": "c92d47c3-d09a-4095-88c6-950d03d88af7",
   "metadata": {
    "jp-MarkdownHeadingCollapsed": true
   },
   "source": [
    "## <strong><span style=\"color: black;\"><font size=\"+1\">PERSONAL&nbsp;&nbsp;ASSISTANCE</font></span></strong>"
   ]
  },
  {
   "cell_type": "markdown",
   "id": "91a427a6-5047-4228-91ba-253c9c118f69",
   "metadata": {},
   "source": [
    "<pre>\n",
    "\n",
    "<strong><span style=\"color: blue;\"><font size=\"+1\">My Portfolio</u></font></span></strong> &nbsp;&nbsp;<span style=\"color: white; background-color: red;\"> ( Main Page ) </span>\n",
    "\n",
    "    Resume\n",
    "    \n",
    "<span style=\"color: #FF01BA;\">▬▬▬▬▬▬▬▬▬▬▬▬▬▬▬▬▬▬▬▬▬▬▬▬▬▬▬▬▬▬▬▬▬▬▬▬▬▬▬▬▬▬▬▬▬▬▬▬▬▬▬▬▬▬▬▬▬▬▬▬▬▬▬▬▬▬▬▬▬▬▬▬▬▬▬▬▬▬▬▬▬▬▬▬▬▬▬▬▬▬▬▬▬▬▬▬▬▬▬▬▬▬▬▬▬▬▬▬▬▬▬▬▬▬▬▬▬▬▬▬▬▬▬▬▬▬▬▬▬▬▬▬▬▬</span>\n",
    "\n",
    "<strong><span style=\"color: blue;\"><font size=\"+1\">My Blogs</u></font></span></strong>\n",
    "    \n",
    "    1. Link to SQL questions\n",
    "    2. Link to Python questions\n",
    "    3. Blogs on Medium and other webpages\n",
    "\n",
    "<span style=\"color: #FF01BA;\">▬▬▬▬▬▬▬▬▬▬▬▬▬▬▬▬▬▬▬▬▬▬▬▬▬▬▬▬▬▬▬▬▬▬▬▬▬▬▬▬▬▬▬▬▬▬▬▬▬▬▬▬▬▬▬▬▬▬▬▬▬▬▬▬▬▬▬▬▬▬▬▬▬▬▬▬▬▬▬▬▬▬▬▬▬▬▬▬▬▬▬▬▬▬▬▬▬▬▬▬▬▬▬▬▬▬▬▬▬▬▬▬▬▬▬▬▬▬▬▬▬▬▬▬▬▬▬▬▬▬▬▬▬▬</span>\n",
    "\n",
    "<strong><span style=\"color: blue;\"><font size=\"+1\">AI run <u>PERSONAL MOCK INTERVIEW SYSTEM</u></font></span></strong>\n",
    "\n",
    "    1. Build a <span style=\"background-color: red; color: white;\">Large Language Model</span> chatbot which will ask questions to every user and <span style=\"background-color: yellow;\">rate</span> him/her\n",
    "\n",
    "    2. It's an AI webapp to judge my <span style=\"color: red;\">python</span> & <span style=\"color: red;\">SQL</span> skills\n",
    "\n",
    "    3. Create a data pipeline for this\n",
    "\n",
    "    4. Convert <span style=\"color: red;\">Speech to Text</span> and convert it into a <span style=\"color: red;\">csv</span> file     (Video and Audio features will not be analysed as of now)\n",
    "\n",
    "       <span style=\"background-color: #A3FEEA;\">No Video, only Audio & Text</span>\n",
    "\n",
    "       There will be <span style=\"background-color: yellow;\">timer</span> and <span style=\"background-color: yellow;\">webcam</span> to give an interview feeling, but we will not do any video analysis as of now\n",
    "\n",
    "</pre>\n",
    "\n",
    "<div style=\"margin-left: 210px;\">\n",
    "\n",
    "![](media/project_1.PNG)\n",
    "\n",
    "</div>\n",
    "\n",
    "<pre>\n",
    "    5. How to embed a SQL coderpad and a Python coderpad? \n",
    "       Or will a simple Notepad be enough to take the input code (SQL / Python) for the Large Language Model to analyze it?\n",
    "    \n",
    "    6.  \n",
    "          <span style=\"background-color: yellow;\"> 1 SQL coding question &nbsp;&nbsp;&nbsp;&nbsp;&nbsp;&nbsp;&nbsp;&nbsp;&nbsp;&nbsp;&nbsp;&nbsp;&nbsp;&nbsp;&nbsp;&nbsp;&nbsp;&nbsp;&nbsp;&nbsp;&nbsp;&nbsp;&nbsp;&nbsp;&nbsp;&nbsp;&nbsp;&nbsp;&nbsp;&nbsp;&nbsp;&nbsp;&nbsp;&nbsp;&nbsp;&nbsp;&nbsp;&nbsp;&nbsp;&nbsp;&nbsp;&nbsp;</span> <br>\n",
    "          <span style=\"background-color: yellow;\"> 1 SQL oral question &nbsp;&nbsp;&nbsp;&nbsp;&nbsp;&nbsp;&nbsp;&nbsp;&nbsp;&nbsp;&nbsp;&nbsp;&nbsp;&nbsp;&nbsp;&nbsp;&nbsp;&nbsp;&nbsp;&nbsp;&nbsp;&nbsp;&nbsp;&nbsp;&nbsp;&nbsp;&nbsp;&nbsp;&nbsp;&nbsp;&nbsp;&nbsp;&nbsp;&nbsp;&nbsp;&nbsp;&nbsp;&nbsp;&nbsp;&nbsp;&nbsp;&nbsp;&nbsp;&nbsp;</span> <br>\n",
    "          <span style=\"background-color: yellow;\"> 1 Python coding question &nbsp;&nbsp;&nbsp;&nbsp;&nbsp;&nbsp;&nbsp;&nbsp;&nbsp;&nbsp;&nbsp;&nbsp;&nbsp;&nbsp;&nbsp;&nbsp;&nbsp;&nbsp;&nbsp;&nbsp;&nbsp;&nbsp;&nbsp;&nbsp;&nbsp;&nbsp;&nbsp;&nbsp;&nbsp;&nbsp;&nbsp;&nbsp;&nbsp;&nbsp;&nbsp;&nbsp;&nbsp;&nbsp;&nbsp;</span> <br>\n",
    "          <span style=\"background-color: yellow\"> 1 Python oral question &nbsp;&nbsp;&nbsp;&nbsp;&nbsp;&nbsp;&nbsp;&nbsp;&nbsp;&nbsp;&nbsp;&nbsp;&nbsp;&nbsp;&nbsp;&nbsp;&nbsp;&nbsp;&nbsp;&nbsp;&nbsp;&nbsp;&nbsp;&nbsp;&nbsp;&nbsp;&nbsp;&nbsp;&nbsp;&nbsp;&nbsp;&nbsp;&nbsp;&nbsp;&nbsp;&nbsp;&nbsp;&nbsp;&nbsp;&nbsp;&nbsp;</span> <br>\n",
    "    &nbsp;&nbsp;&nbsp;&nbsp;&nbsp;&nbsp;<span style=\"background-color: yellow\"> 2 Data Warehousing/Engineering questions &nbsp;&nbsp;&nbsp;&nbsp;&nbsp;&nbsp;&nbsp;&nbsp;&nbsp;&nbsp;&nbsp;&nbsp;&nbsp;&nbsp;&nbsp;&nbsp;&nbsp;&nbsp;&nbsp;&nbsp;&nbsp;&nbsp;&nbsp;</span> <br> \n",
    "          <span style=\"background-color: yellow\"> Questions from <span style=\"color: red;\"><strong>LinkedIn</strong></span> Posts, <span style=\"color: red;\"><strong>Resume</strong></span> (Text + Video) and <span style=\"color: red;\"><strong>Github</strong></span> </span>\n",
    "\n",
    "    7. \n",
    "    <div style=\"background-color: #B2FEA3; margin-left: 75px; padding: 10px;\">\n",
    "You ask questions from my resume and I'd give answers.\n",
    "\n",
    "You can ask any question from a list of &nbsp;<span style=\"background-color: white;\"> 200 SQL + 150 Python questions </span>&nbsp; whose solutions will be saved in S3_bucket.\n",
    "\n",
    "I'll give answers and then you can rate me on similarity scores.\n",
    "    </div>\n",
    "\n",
    "    8. You can compare all your attempts\n",
    "\n",
    "</pre>\n",
    "\n",
    "<div style=\"margin-left: 140px;\">\n",
    "    \n",
    "&nbsp;&nbsp;&nbsp;https://eazybi.com/integrations/git   <br>\n",
    "&nbsp;&nbsp;&nbsp;https://dev.to/leopfeiffer/insights-into-your-git-commits-git-commit-analyzer-o1o\n",
    "\n",
    "![](media/project_2.PNG)\n",
    "\n",
    "</div>\n",
    "\n",
    "<pre>\n",
    "\n",
    "    9. Another feature to analyze your SQL queries which must be added  -  <u><strong><span style=\"color: red;\">Snowflake Query Profiler</span></strong></u>\n",
    "\n",
    "    10. <u><font size=\"+1px;\"><strong>Authentication</strong></font></u>  -  Multiple users can use this <span style=\"color: blue;\">Mock Interview System</span> and <span style=\"background-color: #FFE5B7;\">each user can give multiple attempts</span>\n",
    "\n",
    "        <span style=\"background-color: #A3FEEA;\">Upload resumes of 10 persons in <span style=\"color: red;\">S3 bucket</span></span>\n",
    "\n",
    "\n",
    "<span style=\"color: #FF01BA;\">▬▬▬▬▬▬▬▬▬▬▬▬▬▬▬▬▬▬▬▬▬▬▬▬▬▬▬▬▬▬▬▬▬▬▬▬▬▬▬▬▬▬▬▬▬▬▬▬▬▬▬▬▬▬▬▬▬▬▬▬▬▬▬▬▬▬▬▬▬▬▬▬▬▬▬▬▬▬▬▬▬▬▬▬▬▬▬▬▬▬▬▬▬▬▬▬▬▬▬▬▬▬▬▬▬▬▬▬▬▬▬▬▬▬▬▬▬▬▬▬▬▬▬▬▬▬▬▬▬▬▬▬▬▬</span>\n",
    "\n",
    "<strong><span style=\"color: blue;\"><font size=\"+1\">Podcast & Blog Summarizer</u></font></span></strong>\n",
    "\n",
    "    Suppose a user follows <u>5 youtube channels for podcasts</u> and <u>3 blogs</u> on 2 categories : <span style=\"color: red;\">Data Engineering</span>  &  <span style=\"color: red;\">Geo Politics</span>.\n",
    "\n",
    "    I want some bullet points from each category\n",
    "\n",
    "<span style=\"color: #FF01BA;\">▬▬▬▬▬▬▬▬▬▬▬▬▬▬▬▬▬▬▬▬▬▬▬▬▬▬▬▬▬▬▬▬▬▬▬▬▬▬▬▬▬▬▬▬▬▬▬▬▬▬▬▬▬▬▬▬▬▬▬▬▬▬▬▬▬▬▬▬▬▬▬▬▬▬▬▬▬▬▬▬▬▬▬▬▬▬▬▬▬▬▬▬▬▬▬▬▬▬▬▬▬▬▬▬▬▬▬▬▬▬▬▬▬▬▬▬▬▬▬▬▬▬▬▬▬▬▬▬▬▬▬▬▬▬</span>\n",
    "\n",
    "<strong><span style=\"color: blue;\"><font size=\"+1\">Job Search</u></font></span></strong>\n",
    "\n",
    "    Extracting Jobs from  <span style=\"background-color: yellow;\">LinkedIn API</span>  &  <span style=\"background-color: yellow;\">Naukri API</span>  and display them on a <u>real-time dashboard</u>\n",
    "    \n",
    "    \n",
    "</pre>\n",
    "\n",
    "\n",
    "\n",
    "\n",
    "\n"
   ]
  },
  {
   "cell_type": "code",
   "execution_count": null,
   "id": "9761b453-9a53-4af9-80ca-87f2dd01b282",
   "metadata": {},
   "outputs": [],
   "source": []
  },
  {
   "cell_type": "markdown",
   "id": "4e5ab113-ba75-4d6f-a828-53e358500092",
   "metadata": {
    "jp-MarkdownHeadingCollapsed": true
   },
   "source": [
    "## <strong><span style=\"color: black;\"><font size=\"+1\">REAL &nbsp;TIME &nbsp;ANALYTICS &nbsp;in &nbsp;E-COMMERCE</font></span></strong>"
   ]
  },
  {
   "cell_type": "markdown",
   "id": "06aa683b-88be-4523-a46a-4542f860287d",
   "metadata": {},
   "source": [
    "<pre>\n",
    "\n",
    "Streaming Data  \n",
    "PowerBI  dashboard \n",
    "Cloud Services for storing products and managing services\n",
    "    \n",
    "</pre>"
   ]
  },
  {
   "cell_type": "code",
   "execution_count": null,
   "id": "2770cc63-8a3a-48d6-abcb-41d5e198d7f5",
   "metadata": {},
   "outputs": [],
   "source": []
  },
  {
   "cell_type": "markdown",
   "id": "7937584e-2a06-4d78-bd79-078b8a7c8c63",
   "metadata": {
    "jp-MarkdownHeadingCollapsed": true
   },
   "source": [
    "## <strong><span style=\"color: black;\"><font size=\"+1\">DATA &nbsp;MIGRATION</font></span></strong>"
   ]
  },
  {
   "cell_type": "markdown",
   "id": "23baee61-29f1-401a-a002-be43be66dc57",
   "metadata": {},
   "source": [
    "<pre>\n",
    "MySQL to PostgreSQL\n",
    "MySQL to AWS\n",
    "    \n",
    "</pre>"
   ]
  },
  {
   "cell_type": "code",
   "execution_count": null,
   "id": "e341e3c1-2dda-4e47-82c1-d49502ac71ae",
   "metadata": {},
   "outputs": [],
   "source": []
  },
  {
   "cell_type": "markdown",
   "id": "90438f68-3c8c-4f6f-bcc4-829a02339037",
   "metadata": {
    "jp-MarkdownHeadingCollapsed": true
   },
   "source": [
    "## <strong><span style=\"color: black;\"><font size=\"+1\">FINANCIAL &nbsp;MODELING &nbsp;& &nbsp;ANALYTICS</font></span></strong>"
   ]
  },
  {
   "cell_type": "markdown",
   "id": "cb9bb39f-d9db-49ee-a349-a1bc271b49af",
   "metadata": {},
   "source": [
    "<pre>\n",
    "    Financial Modeling\n",
    "    Real Time Stocks and Exchange Rate Analytics\n",
    "    \n",
    "</pre>"
   ]
  },
  {
   "cell_type": "code",
   "execution_count": null,
   "id": "86767127-1e0f-4547-9da5-05315af3e443",
   "metadata": {},
   "outputs": [],
   "source": []
  },
  {
   "cell_type": "code",
   "execution_count": null,
   "id": "9ff42d4e-ccd6-4655-8beb-7529a16c1510",
   "metadata": {},
   "outputs": [],
   "source": []
  },
  {
   "cell_type": "code",
   "execution_count": null,
   "id": "90de7ae3-2293-4655-a1a2-9ea00281a856",
   "metadata": {},
   "outputs": [],
   "source": []
  }
 ],
 "metadata": {
  "kernelspec": {
   "display_name": "Python 3 (ipykernel)",
   "language": "python",
   "name": "python3"
  },
  "language_info": {
   "codemirror_mode": {
    "name": "ipython",
    "version": 3
   },
   "file_extension": ".py",
   "mimetype": "text/x-python",
   "name": "python",
   "nbconvert_exporter": "python",
   "pygments_lexer": "ipython3",
   "version": "3.11.3"
  }
 },
 "nbformat": 4,
 "nbformat_minor": 5
}
