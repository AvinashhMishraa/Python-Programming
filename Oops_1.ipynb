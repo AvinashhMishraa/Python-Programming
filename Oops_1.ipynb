{
 "cells": [
  {
   "cell_type": "code",
   "execution_count": 1,
   "metadata": {},
   "outputs": [
    {
     "name": "stdout",
     "output_type": "stream",
     "text": [
      "Aman\n",
      "1\n",
      "2\n",
      "3\n",
      "4\n",
      "5\n",
      "6\n",
      "7\n",
      "8\n",
      "9\n",
      "Avinash\n",
      "26\n"
     ]
    }
   ],
   "source": [
    "class Person:\n",
    "  def __init__(self): #similar to constructor in Java\n",
    "    self.name = \"Aman\"\n",
    "    self.age = 26\n",
    "    print(\"Aman\")\n",
    "    for i in range(1,10):\n",
    "      print(i)\n",
    "\t\t\n",
    "\t\t\t\t\n",
    "p = Person()\n",
    "\n",
    "p.name = \"Avinash\"\n",
    "print(p.name)\n",
    "print(p.age)"
   ]
  },
  {
   "cell_type": "code",
   "execution_count": 15,
   "metadata": {},
   "outputs": [
    {
     "name": "stdout",
     "output_type": "stream",
     "text": [
      "<__main__.Person object at 0x20c0308>\n",
      "34341640\n"
     ]
    }
   ],
   "source": [
    "class Person:\n",
    "  def __init__(self, name, age):\n",
    "    self.name = name\n",
    "    self.age = age\n",
    "\n",
    "  #def __str__(self):\n",
    "    #return \"Name = \" + self.name + \" | Age = \" + str(self.age)  + \" | Address  = \" + str(id(self))\n",
    "\n",
    "p1 = Person(\"John\", 36)\n",
    "\n",
    "print(p1)\n",
    "print(id(p1))"
   ]
  },
  {
   "cell_type": "code",
   "execution_count": 14,
   "metadata": {},
   "outputs": [
    {
     "name": "stdout",
     "output_type": "stream",
     "text": [
      "Name = John | Age = 36 | Address  = 39693016\n"
     ]
    }
   ],
   "source": [
    "class Person:\n",
    "  def __init__(self, name, age):\n",
    "    self.name = name\n",
    "    self.age = age\n",
    "\n",
    "  def __str__(self):\n",
    "    return \"Name = \" + self.name + \" | Age = \" + str(self.age)  + \" | Address  = \" + str(id(self))\n",
    "\n",
    "p1 = Person(\"John\", 36)\n",
    "\n",
    "print(p1)"
   ]
  },
  {
   "cell_type": "code",
   "execution_count": 16,
   "metadata": {},
   "outputs": [
    {
     "name": "stdout",
     "output_type": "stream",
     "text": [
      "Hello my name is John\n"
     ]
    }
   ],
   "source": [
    "class Person:\n",
    "  def __init__(self, name, age):\n",
    "    self.name = name\n",
    "    self.age = age\n",
    "\n",
    "  def myfunc(self):\n",
    "    print(\"Hello my name is \" + self.name)\n",
    "\n",
    "p1 = Person(\"John\", 36)\n",
    "p1.myfunc()"
   ]
  },
  {
   "cell_type": "code",
   "execution_count": 17,
   "metadata": {},
   "outputs": [
    {
     "name": "stdout",
     "output_type": "stream",
     "text": [
      "Hello my name is John\n"
     ]
    }
   ],
   "source": [
    "class Person:\n",
    "  def __init__(mysillyobject, name, age):\n",
    "    mysillyobject.name = name\n",
    "    mysillyobject.age = age\n",
    "\n",
    "  def myfunc(abc):\n",
    "    print(\"Hello my name is \" + abc.name)\n",
    "\n",
    "p1 = Person(\"John\", 36)\n",
    "p1.myfunc()"
   ]
  },
  {
   "cell_type": "code",
   "execution_count": 22,
   "metadata": {},
   "outputs": [
    {
     "name": "stdout",
     "output_type": "stream",
     "text": [
      "Hello my name is John\n",
      "John\n"
     ]
    },
    {
     "ename": "<class 'NameError'>",
     "evalue": "name 'name' is not defined",
     "output_type": "error",
     "traceback": [
      "\u001b[0;31m---------------------------------------------------------------------------\u001b[0m",
      "\u001b[0;31mNameError\u001b[0m                                 Traceback (most recent call last)",
      "Cell \u001b[0;32mIn[22], line 13\u001b[0m\n\u001b[1;32m     10\u001b[0m p1\u001b[38;5;241m.\u001b[39mmyfunc()\n\u001b[1;32m     11\u001b[0m \u001b[38;5;28mprint\u001b[39m(p1\u001b[38;5;241m.\u001b[39mname)\n\u001b[0;32m---> 13\u001b[0m \u001b[38;5;28;01mdel\u001b[39;00m \u001b[43mname\u001b[49m\n\u001b[1;32m     15\u001b[0m \u001b[38;5;66;03m# del myfunc() ===> Invalid\u001b[39;00m\n\u001b[1;32m     17\u001b[0m \u001b[38;5;28mprint\u001b[39m(p1\u001b[38;5;241m.\u001b[39mname)\n",
      "\u001b[0;31mNameError\u001b[0m: name 'name' is not defined"
     ]
    }
   ],
   "source": [
    "class Person:\n",
    "  def __init__(self, name, age):\n",
    "    self.name = name\n",
    "    self.age = age\n",
    "\n",
    "  def myfunc(self):\n",
    "    print(\"Hello my name is \" + self.name)\n",
    "\n",
    "p1 = Person(\"John\", 36)\n",
    "p1.myfunc()\n",
    "print(p1.name)\n",
    "\n",
    "del name\n",
    "\n",
    "# del myfunc() ===> Invalid\n",
    "\n",
    "print(p1.name)"
   ]
  },
  {
   "cell_type": "code",
   "execution_count": 24,
   "metadata": {},
   "outputs": [
    {
     "name": "stdout",
     "output_type": "stream",
     "text": [
      "Hello my name is John\n",
      "<__main__.Person object at 0x2b36850>\n"
     ]
    },
    {
     "ename": "<class 'NameError'>",
     "evalue": "name 'p1' is not defined",
     "output_type": "error",
     "traceback": [
      "\u001b[0;31m---------------------------------------------------------------------------\u001b[0m",
      "\u001b[0;31mNameError\u001b[0m                                 Traceback (most recent call last)",
      "Cell \u001b[0;32mIn[24], line 15\u001b[0m\n\u001b[1;32m     11\u001b[0m \u001b[38;5;28mprint\u001b[39m(p1)\n\u001b[1;32m     13\u001b[0m \u001b[38;5;28;01mdel\u001b[39;00m p1\n\u001b[0;32m---> 15\u001b[0m \u001b[38;5;28mprint\u001b[39m(\u001b[43mp1\u001b[49m)\n",
      "\u001b[0;31mNameError\u001b[0m: name 'p1' is not defined"
     ]
    }
   ],
   "source": [
    "class Person:\n",
    "  def __init__(self, name, age):\n",
    "    self.name = name\n",
    "    self.age = age\n",
    "\n",
    "  def myfunc(self):\n",
    "    print(\"Hello my name is \" + self.name)\n",
    "\n",
    "p1 = Person(\"John\", 36)\n",
    "p1.myfunc()\n",
    "print(p1)\n",
    "\n",
    "del p1\n",
    "\n",
    "print(p1)\n"
   ]
  },
  {
   "cell_type": "code",
   "execution_count": 27,
   "metadata": {},
   "outputs": [
    {
     "ename": "<class 'SyntaxError'>",
     "evalue": "incomplete input (<ipython-input-27-10560a01c277>, line 2)",
     "output_type": "error",
     "traceback": [
      "\u001b[0;36m  Cell \u001b[0;32mIn[27], line 2\u001b[0;36m\u001b[0m\n\u001b[0;31m    \u001b[0m\n\u001b[0m    ^\u001b[0m\n\u001b[0;31mSyntaxError\u001b[0m\u001b[0;31m:\u001b[0m incomplete input\n"
     ]
    }
   ],
   "source": [
    "class MyClass:\n",
    "    "
   ]
  },
  {
   "cell_type": "code",
   "execution_count": 28,
   "metadata": {},
   "outputs": [],
   "source": [
    "class MyClass:\n",
    "    pass"
   ]
  },
  {
   "cell_type": "code",
   "execution_count": 4,
   "metadata": {
    "scrolled": true
   },
   "outputs": [
    {
     "name": "stdout",
     "output_type": "stream",
     "text": [
      "Radha\n",
      "Aman\n"
     ]
    }
   ],
   "source": [
    "class Person:\n",
    "        \n",
    "    def __init__(self, age1, name1=\"Aman\"):\n",
    "        self.name = name1\n",
    "        self.age = age1\n",
    "\t\t\n",
    "\t\t\n",
    "p1 = Person(45, \"Radha\")\n",
    "print(p1.name)\n",
    "\n",
    "p = Person(56)\n",
    "print(p.name)"
   ]
  },
  {
   "cell_type": "code",
   "execution_count": 5,
   "metadata": {
    "scrolled": true
   },
   "outputs": [
    {
     "ename": "<class 'SyntaxError'>",
     "evalue": "non-default argument follows default argument (<ipython-input-5-51336e98c3aa>, line 3)",
     "output_type": "error",
     "traceback": [
      "\u001b[0;36m  Cell \u001b[0;32mIn[5], line 3\u001b[0;36m\u001b[0m\n\u001b[0;31m    def __init__(self, age1=98, name1):\u001b[0m\n\u001b[0m                                ^\u001b[0m\n\u001b[0;31mSyntaxError\u001b[0m\u001b[0;31m:\u001b[0m non-default argument follows default argument\n"
     ]
    }
   ],
   "source": [
    "class Person:\n",
    "        \n",
    "    def __init__(self, age1=98, name1):\n",
    "        self.name = name1\n",
    "        self.age = age1\n",
    "\t\t\n",
    "\t\t\n",
    "p1 = Person(45, \"Radha\")\n",
    "print(p1.name)\n",
    "\n",
    "p = Person(\"Aman\")\n",
    "print(p.name)"
   ]
  },
  {
   "cell_type": "code",
   "execution_count": 8,
   "metadata": {},
   "outputs": [
    {
     "name": "stdout",
     "output_type": "stream",
     "text": [
      "Radha\n",
      "100\n",
      "<__main__.Person object at 0xc480d8>\n"
     ]
    }
   ],
   "source": [
    "class Person:\n",
    "        \n",
    "    def __init__(self, age1, name1=\"Aman\"):\n",
    "        self.name = name1\n",
    "        self.age = age1\n",
    "\t\t\n",
    "\t\t\n",
    "p1 = Person(45, \"Radha\")\n",
    "print(p1.name)\n",
    "\n",
    "p1.marks = 100\n",
    "\n",
    "print(p1.marks)\n",
    "print(p1)\n"
   ]
  },
  {
   "cell_type": "code",
   "execution_count": 15,
   "metadata": {},
   "outputs": [
    {
     "name": "stdout",
     "output_type": "stream",
     "text": [
      "Radha\n",
      "45\n"
     ]
    },
    {
     "ename": "<class 'AttributeError'>",
     "evalue": "'Person' object has no attribute 'marks'",
     "output_type": "error",
     "traceback": [
      "\u001b[0;31m---------------------------------------------------------------------------\u001b[0m",
      "\u001b[0;31mAttributeError\u001b[0m                            Traceback (most recent call last)",
      "Cell \u001b[0;32mIn[15], line 15\u001b[0m\n\u001b[1;32m     12\u001b[0m \u001b[38;5;28mprint\u001b[39m(p1\u001b[38;5;241m.\u001b[39mname)\n\u001b[1;32m     13\u001b[0m \u001b[38;5;28mprint\u001b[39m(p1\u001b[38;5;241m.\u001b[39mage)\n\u001b[0;32m---> 15\u001b[0m \u001b[38;5;28;43mprint\u001b[39;49m\u001b[43m(\u001b[49m\u001b[43mp1\u001b[49m\u001b[43m)\u001b[49m \u001b[38;5;66;03m# AttributeError: 'Person' object has no attribute 'marks'\u001b[39;00m\n\u001b[1;32m     17\u001b[0m p1\u001b[38;5;241m.\u001b[39mmarks \u001b[38;5;241m=\u001b[39m \u001b[38;5;241m100\u001b[39m\n\u001b[1;32m     19\u001b[0m \u001b[38;5;28mprint\u001b[39m(p1)\n",
      "Cell \u001b[0;32mIn[15], line 8\u001b[0m, in \u001b[0;36mPerson.__str__\u001b[0;34m(self)\u001b[0m\n\u001b[1;32m      7\u001b[0m \u001b[38;5;28;01mdef\u001b[39;00m \u001b[38;5;21m__str__\u001b[39m(\u001b[38;5;28mself\u001b[39m):\n\u001b[0;32m----> 8\u001b[0m     \u001b[38;5;28;01mreturn\u001b[39;00m \u001b[38;5;124m\"\u001b[39m\u001b[38;5;124mname = \u001b[39m\u001b[38;5;124m\"\u001b[39m \u001b[38;5;241m+\u001b[39m \u001b[38;5;28mself\u001b[39m\u001b[38;5;241m.\u001b[39mname \u001b[38;5;241m+\u001b[39m \u001b[38;5;124m\"\u001b[39m\u001b[38;5;124m, age = \u001b[39m\u001b[38;5;124m\"\u001b[39m \u001b[38;5;241m+\u001b[39m \u001b[38;5;28mstr\u001b[39m(\u001b[38;5;28mself\u001b[39m\u001b[38;5;241m.\u001b[39mage) \u001b[38;5;241m+\u001b[39m \u001b[38;5;124m\"\u001b[39m\u001b[38;5;124m, marks = \u001b[39m\u001b[38;5;124m\"\u001b[39m \u001b[38;5;241m+\u001b[39m \u001b[38;5;28mstr\u001b[39m(\u001b[38;5;28;43mself\u001b[39;49m\u001b[38;5;241;43m.\u001b[39;49m\u001b[43mmarks\u001b[49m)\n",
      "\u001b[0;31mAttributeError\u001b[0m: 'Person' object has no attribute 'marks'"
     ]
    }
   ],
   "source": [
    "class Person:\n",
    "        \n",
    "    def __init__(self, age1, name1=\"Aman\"):\n",
    "        self.name = name1\n",
    "        self.age = age1\n",
    "\n",
    "    def __str__(self):\n",
    "        return \"name = \" + self.name + \", age = \" + str(self.age) + \", marks = \" + str(self.marks)\n",
    "\t\t\n",
    "\t\t\n",
    "p1 = Person(45, \"Radha\")\n",
    "print(p1.name)\n",
    "print(p1.age)\n",
    "\n",
    "print(p1) # AttributeError: 'Person' object has no attribute 'marks'\n",
    "\n",
    "p1.marks = 100\n",
    "\n",
    "print(p1)"
   ]
  },
  {
   "cell_type": "code",
   "execution_count": null,
   "metadata": {},
   "outputs": [],
   "source": []
  },
  {
   "cell_type": "code",
   "execution_count": 16,
   "metadata": {},
   "outputs": [
    {
     "name": "stdout",
     "output_type": "stream",
     "text": [
      "Radha\n",
      "45\n",
      "name = Radha, age = 45, marks = 100\n"
     ]
    }
   ],
   "source": [
    "class Person:\n",
    "        \n",
    "    def __init__(self, age1, name1=\"Aman\"):\n",
    "        self.name = name1\n",
    "        self.age = age1\n",
    "\n",
    "    def __str__(self):\n",
    "        return \"name = \" + self.name + \", age = \" + str(self.age) + \", marks = \" + str(self.marks)\n",
    "\t\t\n",
    "\t\t\n",
    "p1 = Person(45, \"Radha\")\n",
    "print(p1.name)\n",
    "print(p1.age)\n",
    "\n",
    "p1.marks = 100  # marks will be added in the runtime\n",
    "print(p1)"
   ]
  },
  {
   "cell_type": "code",
   "execution_count": 17,
   "metadata": {},
   "outputs": [
    {
     "name": "stdout",
     "output_type": "stream",
     "text": [
      "Radha\n",
      "45\n",
      "name = Radha, age = 45, marks = 100\n"
     ]
    },
    {
     "ename": "<class 'AttributeError'>",
     "evalue": "'Person' object has no attribute 'marks'",
     "output_type": "error",
     "traceback": [
      "\u001b[0;31m---------------------------------------------------------------------------\u001b[0m",
      "\u001b[0;31mAttributeError\u001b[0m                            Traceback (most recent call last)",
      "Cell \u001b[0;32mIn[17], line 19\u001b[0m\n\u001b[1;32m     16\u001b[0m \u001b[38;5;28mprint\u001b[39m(p1)\n\u001b[1;32m     18\u001b[0m p2 \u001b[38;5;241m=\u001b[39m Person(\u001b[38;5;241m67\u001b[39m)\n\u001b[0;32m---> 19\u001b[0m \u001b[38;5;28;43mprint\u001b[39;49m\u001b[43m(\u001b[49m\u001b[43mp2\u001b[49m\u001b[43m)\u001b[49m\n",
      "Cell \u001b[0;32mIn[17], line 8\u001b[0m, in \u001b[0;36mPerson.__str__\u001b[0;34m(self)\u001b[0m\n\u001b[1;32m      7\u001b[0m \u001b[38;5;28;01mdef\u001b[39;00m \u001b[38;5;21m__str__\u001b[39m(\u001b[38;5;28mself\u001b[39m):\n\u001b[0;32m----> 8\u001b[0m     \u001b[38;5;28;01mreturn\u001b[39;00m \u001b[38;5;124m\"\u001b[39m\u001b[38;5;124mname = \u001b[39m\u001b[38;5;124m\"\u001b[39m \u001b[38;5;241m+\u001b[39m \u001b[38;5;28mself\u001b[39m\u001b[38;5;241m.\u001b[39mname \u001b[38;5;241m+\u001b[39m \u001b[38;5;124m\"\u001b[39m\u001b[38;5;124m, age = \u001b[39m\u001b[38;5;124m\"\u001b[39m \u001b[38;5;241m+\u001b[39m \u001b[38;5;28mstr\u001b[39m(\u001b[38;5;28mself\u001b[39m\u001b[38;5;241m.\u001b[39mage) \u001b[38;5;241m+\u001b[39m \u001b[38;5;124m\"\u001b[39m\u001b[38;5;124m, marks = \u001b[39m\u001b[38;5;124m\"\u001b[39m \u001b[38;5;241m+\u001b[39m \u001b[38;5;28mstr\u001b[39m(\u001b[38;5;28;43mself\u001b[39;49m\u001b[38;5;241;43m.\u001b[39;49m\u001b[43mmarks\u001b[49m)\n",
      "\u001b[0;31mAttributeError\u001b[0m: 'Person' object has no attribute 'marks'"
     ]
    }
   ],
   "source": [
    "class Person:\n",
    "        \n",
    "    def __init__(self, age1, name1=\"Aman\"):\n",
    "        self.name = name1\n",
    "        self.age = age1\n",
    "\n",
    "    def __str__(self):\n",
    "        return \"name = \" + self.name + \", age = \" + str(self.age) + \", marks = \" + str(self.marks)\n",
    "\t\t\n",
    "\t\t\n",
    "p1 = Person(45, \"Radha\")\n",
    "print(p1.name)\n",
    "print(p1.age)\n",
    "\n",
    "p1.marks = 100  # marks will be added in the runtime\n",
    "print(p1)\n",
    "\n",
    "p2 = Person(67)\n",
    "print(p2)"
   ]
  },
  {
   "cell_type": "markdown",
   "metadata": {},
   "source": [
    "# Class method"
   ]
  },
  {
   "cell_type": "code",
   "execution_count": 18,
   "metadata": {},
   "outputs": [
    {
     "name": "stdout",
     "output_type": "stream",
     "text": [
      "<__main__.Person object at 0x20f7d48>\n",
      "1\n",
      "1\n",
      "Anonymous\n",
      "22\n",
      "2\n"
     ]
    }
   ],
   "source": [
    "class Person:\n",
    "    counter = 0\n",
    "\n",
    "    def __init__(self, name, age):\n",
    "        self.name = name\n",
    "        self.age = age\n",
    "        Person.counter += 1\n",
    "\n",
    "    def greet(self):\n",
    "        print(Person.counter)\n",
    "        return f\"Hi, it's {self.name}.\"\n",
    "\n",
    "    @classmethod\n",
    "    def create_anonymous(cls):\n",
    "        print(cls.counter)\n",
    "        print(Person.counter)\n",
    "        return Person('Anonymous', 22) #calling init method\n",
    " \n",
    "\n",
    "person = Person(\"Aman\", 45)\n",
    "print(person)\n",
    "anonymous = Person.create_anonymous()\n",
    "print(anonymous.name)  # Anonymous\n",
    "print(anonymous.age)\n",
    "print(Person.counter)"
   ]
  },
  {
   "cell_type": "code",
   "execution_count": 20,
   "metadata": {},
   "outputs": [
    {
     "name": "stdout",
     "output_type": "stream",
     "text": [
      "<__main__.Person object at 0x2b43cc0>\n",
      "1\n",
      "1\n",
      "Anonymous\n",
      "22\n",
      "2\n",
      "2\n",
      "Hi! I am static method\n"
     ]
    }
   ],
   "source": [
    "class Person:\n",
    "    counter = 0\n",
    "\n",
    "    def __init__(self, name, age):\n",
    "        self.name = name\n",
    "        self.age = age\n",
    "        Person.counter += 1\n",
    "\n",
    "    def greet(self):\n",
    "        print(Person.counter)\n",
    "        return f\"Hi, it's {self.name}.\"\n",
    "\n",
    "    @classmethod\n",
    "    def create_anonymous(cls):\n",
    "        print(cls.counter)\n",
    "        print(Person.counter)\n",
    "        return Person('Anonymous', 22) #calling init method\n",
    "\n",
    "    @staticmethod\n",
    "    def create_static_method():\n",
    "        print(Person.counter)\n",
    "        print(\"Hi! I am static method\")\n",
    " \n",
    "\n",
    "person = Person(\"Aman\", 45)\n",
    "print(person)\n",
    "anonymous = Person.create_anonymous()\n",
    "print(anonymous.name)  # Anonymous\n",
    "print(anonymous.age)\n",
    "print(Person.counter)\n",
    "\n",
    "Person.create_static_method();"
   ]
  },
  {
   "cell_type": "code",
   "execution_count": 33,
   "metadata": {},
   "outputs": [
    {
     "name": "stdout",
     "output_type": "stream",
     "text": [
      "<__main__.Person object at 0x2ca4dc8>\n",
      "1\n",
      "1\n",
      "Anonymous\n",
      "22\n",
      "2\n",
      "100\n",
      "Hi! I am static method\n",
      "100\n"
     ]
    }
   ],
   "source": [
    "class Person:\n",
    "    counter = 0\n",
    "\n",
    "    def __init__(self, name, age):\n",
    "        self.name = name\n",
    "        self.age = age\n",
    "        Person.counter += 1\n",
    "\n",
    "    def greet(self):\n",
    "        print(Person.counter)\n",
    "        return f\"Hi, it's {self.name}.\"\n",
    "\n",
    "    @classmethod\n",
    "    def create_anonymous(cls):\n",
    "        print(cls.counter)\n",
    "        print(Person.counter)\n",
    "        return Person('Anonymous', 22) #calling init method\n",
    "\n",
    "    @staticmethod\n",
    "    def create_static_method():\n",
    "        Person.counter = 100 # modifying class variable\n",
    "        print(Person.counter)\n",
    "        print(\"Hi! I am static method\")\n",
    " \n",
    "\n",
    "person = Person(\"Aman\", 45)\n",
    "print(person)\n",
    "anonymous = Person.create_anonymous()\n",
    "print(anonymous.name)  # Anonymous\n",
    "print(anonymous.age)\n",
    "print(Person.counter)\n",
    "\n",
    "Person.create_static_method();\n",
    "print(Person.counter)"
   ]
  },
  {
   "cell_type": "code",
   "execution_count": null,
   "metadata": {},
   "outputs": [],
   "source": []
  },
  {
   "cell_type": "code",
   "execution_count": 23,
   "metadata": {},
   "outputs": [
    {
     "name": "stdout",
     "output_type": "stream",
     "text": [
      "<class 'int'>\n",
      "<class '__main__.Person'>\n",
      "<class 'type'>\n"
     ]
    }
   ],
   "source": [
    "class Person:\n",
    "    counter = 0\n",
    "\n",
    "    def __init__(self, name, age):\n",
    "        self.name = name\n",
    "        self.age = age\n",
    "        Person.counter += 1\n",
    "\n",
    "b = 56\n",
    "print(type(b))\n",
    "\n",
    "p = Person(\"Aman\", 45)\n",
    "print(type(p))\n",
    "\n",
    "print(type(Person))"
   ]
  },
  {
   "cell_type": "code",
   "execution_count": 25,
   "metadata": {},
   "outputs": [
    {
     "name": "stdout",
     "output_type": "stream",
     "text": [
      "Person\n"
     ]
    }
   ],
   "source": [
    "class Person:\n",
    "    counter = 0\n",
    "\n",
    "    def __init__(self, name, age):\n",
    "        self.name = name\n",
    "        self.age = age\n",
    "        Person.counter += 1\n",
    "\n",
    "p = Person(\"Aman\", 45)\n",
    "\n",
    "print(Person.__name__)\n",
    "print(p.__name__)"
   ]
  },
  {
   "cell_type": "code",
   "execution_count": 31,
   "metadata": {},
   "outputs": [
    {
     "name": "stdout",
     "output_type": "stream",
     "text": [
      "True\n",
      "True\n",
      "True\n"
     ]
    }
   ],
   "source": [
    "class Person:\n",
    "    counter = 0\n",
    "\n",
    "    def __init__(self, name, age):\n",
    "        self.name = name\n",
    "        self.age = age\n",
    "        Person.counter += 1\n",
    "\n",
    "p = Person(\"Aman\", 45)\n",
    "\n",
    "print(isinstance(p, Person))\n",
    "\n",
    "print(isinstance(2, int))\n",
    "\n",
    "print(isinstance(Person, type))"
   ]
  },
  {
   "cell_type": "code",
   "execution_count": 36,
   "metadata": {},
   "outputs": [
    {
     "name": "stdout",
     "output_type": "stream",
     "text": [
      "0\n",
      "0\n"
     ]
    }
   ],
   "source": [
    "class Person:\n",
    "    counter = 0\n",
    "\n",
    "    def __init__(self, name, age):\n",
    "        self.name = name\n",
    "        self.age = age\n",
    "        Person.counter += 1\n",
    "\n",
    "print(Person.counter)\n",
    "print(getattr(Person, 'counter'))"
   ]
  },
  {
   "cell_type": "code",
   "execution_count": 37,
   "metadata": {},
   "outputs": [
    {
     "name": "stdout",
     "output_type": "stream",
     "text": [
      "0\n",
      "0\n"
     ]
    },
    {
     "ename": "<class 'AttributeError'>",
     "evalue": "type object 'Person' has no attribute 'media_type'",
     "output_type": "error",
     "traceback": [
      "\u001b[0;31m---------------------------------------------------------------------------\u001b[0m",
      "\u001b[0;31mAttributeError\u001b[0m                            Traceback (most recent call last)",
      "Cell \u001b[0;32mIn[37], line 12\u001b[0m\n\u001b[1;32m      9\u001b[0m \u001b[38;5;28mprint\u001b[39m(Person\u001b[38;5;241m.\u001b[39mcounter)\n\u001b[1;32m     10\u001b[0m \u001b[38;5;28mprint\u001b[39m(\u001b[38;5;28mgetattr\u001b[39m(Person, \u001b[38;5;124m'\u001b[39m\u001b[38;5;124mcounter\u001b[39m\u001b[38;5;124m'\u001b[39m))\n\u001b[0;32m---> 12\u001b[0m \u001b[38;5;28mprint\u001b[39m(\u001b[38;5;28;43mgetattr\u001b[39;49m\u001b[43m(\u001b[49m\u001b[43mPerson\u001b[49m\u001b[43m,\u001b[49m\u001b[43m \u001b[49m\u001b[38;5;124;43m'\u001b[39;49m\u001b[38;5;124;43mmedia_type\u001b[39;49m\u001b[38;5;124;43m'\u001b[39;49m\u001b[43m)\u001b[49m)\n",
      "\u001b[0;31mAttributeError\u001b[0m: type object 'Person' has no attribute 'media_type'"
     ]
    }
   ],
   "source": [
    "class Person:\n",
    "    counter = 0\n",
    "\n",
    "    def __init__(self, name, age):\n",
    "        self.name = name\n",
    "        self.age = age\n",
    "        Person.counter += 1\n",
    "\n",
    "print(Person.counter)\n",
    "print(getattr(Person, 'counter'))\n",
    "\n",
    "print(getattr(Person, 'media_type'))"
   ]
  },
  {
   "cell_type": "code",
   "execution_count": 38,
   "metadata": {},
   "outputs": [
    {
     "name": "stdout",
     "output_type": "stream",
     "text": [
      "0\n",
      "0\n",
      "text/html\n"
     ]
    }
   ],
   "source": [
    "class Person:\n",
    "    counter = 0\n",
    "\n",
    "    def __init__(self, name, age):\n",
    "        self.name = name\n",
    "        self.age = age\n",
    "        Person.counter += 1\n",
    "\n",
    "print(Person.counter)\n",
    "print(getattr(Person, 'counter'))\n",
    "\n",
    "print(getattr(Person, 'media_type', \"text/html\"))"
   ]
  },
  {
   "cell_type": "code",
   "execution_count": 42,
   "metadata": {},
   "outputs": [
    {
     "name": "stdout",
     "output_type": "stream",
     "text": [
      "10\n",
      "11\n",
      "20\n",
      "Developer\n"
     ]
    }
   ],
   "source": [
    "class Person:\n",
    "    counter = 0\n",
    "\n",
    "    def __init__(self, name, age):\n",
    "        self.name = name\n",
    "        self.age = age\n",
    "        Person.counter += 1\n",
    "\n",
    "Person.counter = 10\n",
    "print(Person.counter)\n",
    "\n",
    "Person.media_type = 11\n",
    "print(Person.media_type)\n",
    "\n",
    "setattr(Person, 'counter', 20)\n",
    "print(Person.counter)\n",
    "\n",
    "setattr(Person, 'job', 'Developer')\n",
    "print(Person.job)"
   ]
  },
  {
   "cell_type": "code",
   "execution_count": 47,
   "metadata": {},
   "outputs": [
    {
     "name": "stdout",
     "output_type": "stream",
     "text": [
      "10\n",
      "11\n",
      "20\n",
      "Developer\n",
      "['__class__', '__delattr__', '__dict__', '__dir__', '__doc__', '__eq__', '__format__', '__ge__', '__getattribute__', '__getstate__', '__gt__', '__hash__', '__init__', '__init_subclass__', '__le__', '__lt__', '__module__', '__ne__', '__new__', '__reduce__', '__reduce_ex__', '__repr__', '__setattr__', '__sizeof__', '__str__', '__subclasshook__', '__weakref__', 'counter', 'job', 'media_type']\n",
      "['__class__', '__delattr__', '__dict__', '__dir__', '__doc__', '__eq__', '__format__', '__ge__', '__getattribute__', '__getstate__', '__gt__', '__hash__', '__init__', '__init_subclass__', '__le__', '__lt__', '__module__', '__ne__', '__new__', '__reduce__', '__reduce_ex__', '__repr__', '__setattr__', '__sizeof__', '__str__', '__subclasshook__', '__weakref__', 'counter']\n"
     ]
    }
   ],
   "source": [
    "class Person:\n",
    "    counter = 0\n",
    "\n",
    "    def __init__(self, name, age):\n",
    "        self.name = name\n",
    "        self.age = age\n",
    "        Person.counter += 1\n",
    "\n",
    "Person.counter = 10\n",
    "print(Person.counter)\n",
    "\n",
    "Person.media_type = 11\n",
    "print(Person.media_type)\n",
    "\n",
    "setattr(Person, 'counter', 20)\n",
    "print(Person.counter)\n",
    "\n",
    "setattr(Person, 'job', 'Developer')\n",
    "print(Person.job)\n",
    "\n",
    "print(dir(Person))\n",
    "\n",
    "delattr(Person, 'job')\n",
    "\n",
    "del Person.media_type\n",
    "\n",
    "print(dir(Person))"
   ]
  },
  {
   "cell_type": "code",
   "execution_count": 51,
   "metadata": {},
   "outputs": [
    {
     "name": "stdout",
     "output_type": "stream",
     "text": [
      "10\n",
      "11\n",
      "20\n",
      "Developer\n",
      "{'__module__': '__main__', 'counter': 20, '__init__': <function Person.__init__ at 0x2c3d2c8>, '__dict__': <attribute '__dict__' of 'Person' objects>, '__weakref__': <attribute '__weakref__' of 'Person' objects>, '__doc__': None, 'media_type': 11, 'job': 'Developer'}\n",
      "Developer\n",
      "Developer\n"
     ]
    }
   ],
   "source": [
    "class Person:\n",
    "    counter = 0\n",
    "\n",
    "    def __init__(self, name, age):\n",
    "        self.name = name\n",
    "        self.age = age\n",
    "        Person.counter += 1\n",
    "\n",
    "Person.counter = 10\n",
    "print(Person.counter)\n",
    "\n",
    "Person.media_type = 11\n",
    "print(Person.media_type)\n",
    "\n",
    "setattr(Person, 'counter', 20)\n",
    "print(Person.counter)\n",
    "\n",
    "setattr(Person, 'job', 'Developer')\n",
    "print(Person.job)\n",
    "\n",
    "print(Person.__dict__) # Class variable storage in __dict__\n",
    "\n",
    "print(Person.job)\n",
    "\n",
    "print(Person.__dict__['job'])"
   ]
  },
  {
   "cell_type": "code",
   "execution_count": 52,
   "metadata": {
    "scrolled": true
   },
   "outputs": [
    {
     "name": "stdout",
     "output_type": "stream",
     "text": [
      "10\n",
      "11\n",
      "20\n",
      "Developer\n",
      "{'__module__': '__main__', 'counter': 20, '__init__': <function Person.__init__ at 0x2362860>, '__dict__': <attribute '__dict__' of 'Person' objects>, '__weakref__': <attribute '__weakref__' of 'Person' objects>, '__doc__': None, 'media_type': 11, 'job': 'Developer'}\n",
      "Developer\n",
      "Developer\n"
     ]
    },
    {
     "ename": "<class 'TypeError'>",
     "evalue": "'mappingproxy' object does not support item assignment",
     "output_type": "error",
     "traceback": [
      "\u001b[0;31m---------------------------------------------------------------------------\u001b[0m",
      "\u001b[0;31mTypeError\u001b[0m                                 Traceback (most recent call last)",
      "Cell \u001b[0;32mIn[52], line 27\u001b[0m\n\u001b[1;32m     23\u001b[0m \u001b[38;5;28mprint\u001b[39m(Person\u001b[38;5;241m.\u001b[39mjob)\n\u001b[1;32m     25\u001b[0m \u001b[38;5;28mprint\u001b[39m(Person\u001b[38;5;241m.\u001b[39m\u001b[38;5;18m__dict__\u001b[39m[\u001b[38;5;124m'\u001b[39m\u001b[38;5;124mjob\u001b[39m\u001b[38;5;124m'\u001b[39m])\n\u001b[0;32m---> 27\u001b[0m \u001b[43mPerson\u001b[49m\u001b[38;5;241;43m.\u001b[39;49m\u001b[38;5;18;43m__dict__\u001b[39;49m\u001b[43m[\u001b[49m\u001b[38;5;124;43m'\u001b[39;49m\u001b[38;5;124;43mjob\u001b[39;49m\u001b[38;5;124;43m'\u001b[39;49m\u001b[43m]\u001b[49m \u001b[38;5;241m=\u001b[39m \u001b[38;5;124m'\u001b[39m\u001b[38;5;124mData Engineer\u001b[39m\u001b[38;5;124m'\u001b[39m\n",
      "\u001b[0;31mTypeError\u001b[0m: 'mappingproxy' object does not support item assignment"
     ]
    }
   ],
   "source": [
    "class Person:\n",
    "    counter = 0\n",
    "\n",
    "    def __init__(self, name, age):\n",
    "        self.name = name\n",
    "        self.age = age\n",
    "        Person.counter += 1\n",
    "\n",
    "Person.counter = 10\n",
    "print(Person.counter)\n",
    "\n",
    "Person.media_type = 11\n",
    "print(Person.media_type)\n",
    "\n",
    "setattr(Person, 'counter', 20)\n",
    "print(Person.counter)\n",
    "\n",
    "setattr(Person, 'job', 'Developer')\n",
    "print(Person.job)\n",
    "\n",
    "print(Person.__dict__) # Class variable storage in __dict__\n",
    "\n",
    "print(Person.job)\n",
    "\n",
    "print(Person.__dict__['job'])\n",
    "\n",
    "Person.__dict__['job'] = 'Data Engineer'  #TypeError: 'mappingproxy' object does not support item assignment"
   ]
  },
  {
   "cell_type": "code",
   "execution_count": 63,
   "metadata": {},
   "outputs": [
    {
     "name": "stdout",
     "output_type": "stream",
     "text": [
      "Sending...\n",
      "<function Person.send at 0x2e30590>\n",
      "<class 'function'>\n",
      "0\n",
      "1\n",
      "<bound method Person.send of <__main__.Person object at 0x2d056a0>>\n",
      "<class 'method'>\n"
     ]
    },
    {
     "ename": "<class 'TypeError'>",
     "evalue": "Person.send() takes 0 positional arguments but 1 was given",
     "output_type": "error",
     "traceback": [
      "\u001b[0;31m---------------------------------------------------------------------------\u001b[0m",
      "\u001b[0;31mTypeError\u001b[0m                                 Traceback (most recent call last)",
      "Cell \u001b[0;32mIn[63], line 26\u001b[0m\n\u001b[1;32m     23\u001b[0m \u001b[38;5;28mprint\u001b[39m(p\u001b[38;5;241m.\u001b[39msend)\n\u001b[1;32m     24\u001b[0m \u001b[38;5;28mprint\u001b[39m(\u001b[38;5;28mtype\u001b[39m(p\u001b[38;5;241m.\u001b[39msend))\n\u001b[0;32m---> 26\u001b[0m \u001b[43mp\u001b[49m\u001b[38;5;241;43m.\u001b[39;49m\u001b[43msend\u001b[49m\u001b[43m(\u001b[49m\u001b[43m)\u001b[49m\n",
      "\u001b[0;31mTypeError\u001b[0m: Person.send() takes 0 positional arguments but 1 was given"
     ]
    }
   ],
   "source": [
    "class Person:\n",
    "    counter = 0\n",
    "\n",
    "    def __init__(self, name, age):\n",
    "        self.name = name\n",
    "        self.age = age\n",
    "        Person.counter += 1\n",
    "\n",
    "    def send():\n",
    "        print(\"Sending...\")\n",
    "\n",
    "Person.send()\n",
    "\n",
    "print(Person.send)\n",
    "print(type(Person.send))\n",
    "\n",
    "print(Person.counter)\n",
    "\n",
    "p = Person(\"Aman\", 25)\n",
    "\n",
    "print(p.counter)\n",
    "\n",
    "print(p.send)\n",
    "print(type(p.send))\n",
    "\n",
    "p.send()     "
   ]
  },
  {
   "cell_type": "code",
   "execution_count": 75,
   "metadata": {},
   "outputs": [
    {
     "name": "stdout",
     "output_type": "stream",
     "text": [
      "Sent ()\n",
      "Sent (1, 5, 6, 8, 'Aman')\n",
      "Sent (<__main__.Request object at 0x2c95ee8>,)\n",
      "Sent (<__main__.Request object at 0x2c95ee8>,)\n"
     ]
    }
   ],
   "source": [
    "class Request:\n",
    "\n",
    "    counter = 0\n",
    "    \n",
    "    def send(*args):\n",
    "        print('Sent', args)\n",
    "\n",
    "Request.send()\n",
    "\n",
    "Request.send(1, 5 , 6, 8, \"Aman\")\n",
    "\n",
    "r = Request()\n",
    "\n",
    "r.send()\n",
    "\n",
    "Request.send(r)\n",
    "\n",
    "# Request.send() is not equivalent to r.send()\n",
    "# Request.send(r) is equivalent to r.send()\n",
    "# Request.counter is equivalent to r.counter"
   ]
  },
  {
   "cell_type": "code",
   "execution_count": 68,
   "metadata": {},
   "outputs": [
    {
     "name": "stdout",
     "output_type": "stream",
     "text": [
      "Aman 5 Fat\n"
     ]
    }
   ],
   "source": [
    "\n",
    "print('Aman', 5, 'Fat')\n"
   ]
  },
  {
   "cell_type": "code",
   "execution_count": null,
   "metadata": {},
   "outputs": [],
   "source": []
  },
  {
   "cell_type": "code",
   "execution_count": null,
   "metadata": {},
   "outputs": [],
   "source": []
  },
  {
   "cell_type": "code",
   "execution_count": null,
   "metadata": {},
   "outputs": [],
   "source": []
  },
  {
   "cell_type": "code",
   "execution_count": null,
   "metadata": {},
   "outputs": [],
   "source": []
  },
  {
   "cell_type": "markdown",
   "metadata": {},
   "source": [
    "<br>\n",
    "\n",
    "<span style=\"color: #DCBD10\">▬▬▬▬▬▬▬▬▬▬▬▬▬▬▬▬▬▬▬▬▬▬▬▬▬▬▬▬▬▬▬▬▬▬▬▬▬▬▬▬▬▬▬▬▬▬▬▬▬▬▬▬▬▬▬▬▬▬▬▬▬▬▬▬▬▬▬▬▬▬▬▬▬▬▬▬</span>\n",
    "\n",
    "\n",
    "Constructor should not return anything, otherwise error"
   ]
  },
  {
   "cell_type": "code",
   "execution_count": null,
   "metadata": {},
   "outputs": [],
   "source": []
  },
  {
   "cell_type": "code",
   "execution_count": null,
   "metadata": {},
   "outputs": [],
   "source": []
  },
  {
   "cell_type": "markdown",
   "metadata": {},
   "source": [
    "<br>\n",
    "\n",
    "<span style=\"background-color: yellow;\">Note :</span>\n",
    "\n",
    "<div style=\"margin-left: 50px;\">\n",
    "    \n",
    "<font size=\"+1\"><span style=\"color: red;\">Abstraction</span></font> &nbsp;-&nbsp; Hiding the implementation details of a class and and only showing the essential features to the user.\n",
    "\n",
    "<font size=\"+1\"><span style=\"color: red;\">Encapsulation</span></font> &nbsp;-&nbsp; Wrapping data and functions into a single unit (object).\n",
    "    \n",
    "</div>\n",
    "\n",
    "<br>\n",
    "\n",
    "**ABSTRACTION**"
   ]
  },
  {
   "cell_type": "code",
   "execution_count": 40,
   "metadata": {},
   "outputs": [
    {
     "name": "stdout",
     "output_type": "stream",
     "text": [
      "car started\n"
     ]
    }
   ],
   "source": [
    "\n",
    "class Car:\n",
    "    \n",
    "    def __init__(self):\n",
    "        self.accelerators = False\n",
    "        self.clutches = False\n",
    "        self.breaks = False              # self.break  will give error because break is a keyword\n",
    "\n",
    "    def start(self):\n",
    "        self.accelerators = True\n",
    "        self.clutches = True\n",
    "        print(\"car started\")\n",
    "\n",
    "\n",
    "car1 = Car()\n",
    "car1.start()     # To start a car, you didn't need to know the implementation details of accelartors and clutches which are hidden inside the Class\n",
    "                 # You only need to know how to start a car without having to know how actually the machine is started\n",
    "                 # You only had this start() function, yet you were able to start the car1 object\n"
   ]
  },
  {
   "cell_type": "markdown",
   "metadata": {},
   "source": [
    "<br>\n",
    "\n",
    "**ENCAPSULATION**\n",
    "\n",
    "( <span style=\"color: red;\">data</span> &nbsp;+&nbsp; <span style=\"color: blue;\">function</span> ) &nbsp;inside a **capsule**  &nbsp;&nbsp;&nbsp;&nbsp;====>&nbsp;&nbsp;&nbsp;&nbsp;( <span style=\"color: red;\">attributes</span> &nbsp;+&nbsp; <span style=\"color: blue;\">methods</span> )&nbsp; inside a **class**  &nbsp;&nbsp;&nbsp;&nbsp;====>&nbsp;&nbsp;&nbsp;&nbsp; an **object** has it's &nbsp;<u>related <span style=\"color: red;\">data</span></u>&nbsp; & &nbsp;<u>related <span style=\"color: blue;\">functions</span></u>&nbsp; wrapped inside it.\n",
    "    \n",
    "\n"
   ]
  },
  {
   "cell_type": "code",
   "execution_count": 151,
   "metadata": {},
   "outputs": [
    {
     "name": "stdout",
     "output_type": "stream",
     "text": [
      "\n",
      "\n",
      "Account Number  = AC10001\n",
      "Account Balance = 50000\n",
      "-----------------------------------------------------------------------------------------------\n",
      "Rs. 1000  was  debited  from  your  account  AC10001\n",
      "Total  Balance  =  Rs. 49000\n",
      "-----------------------------------------------------------------------------------------------\n",
      "Rs. 40000  was  credited  from  your  account  AC10001\n",
      "Total Balance = Rs. 89000\n",
      "-----------------------------------------------------------------------------------------------\n",
      "Rs. 7000  was  debited  from  your  account  AC10001\n",
      "Total  Balance  =  Rs. 82000\n",
      "-----------------------------------------------------------------------------------------------\n",
      "Insufficient  funds  to  debit  Rs. 5000000000  from  account AC10001\n",
      "\n",
      "\n"
     ]
    }
   ],
   "source": [
    "\n",
    "class Account:\n",
    "\n",
    "    def __init__(self, acc, bal):\n",
    "        self.account_no = acc\n",
    "        self.balance = bal\n",
    "\n",
    "    def credit(self, amount):\n",
    "        self.balance = self.balance + amount\n",
    "        print(\"Rs.\", amount, \" was  credited  from  your  account \", self.account_no)\n",
    "        print(\"Total Balance = Rs.\", self.get_balance())\n",
    "\n",
    "    def debit(self, amount):\n",
    "        if amount > self.balance:\n",
    "            print(\"Insufficient  funds  to  debit  Rs.\", amount, \" from  account\", self.account_no)\n",
    "        else:\n",
    "            self.balance = self.balance - amount\n",
    "            print(\"Rs.\", amount, \" was  debited  from  your  account \", self.account_no)\n",
    "            print(\"Total  Balance  =  Rs.\", self.get_balance())\n",
    "\n",
    "    def get_balance(self):\n",
    "        return self.balance\n",
    "\n",
    "\n",
    "\n",
    "# an object of class Account with the name acc1 is created\n",
    "acc1 = Account(\"AC10001\", 50000)    # This object acc1 has all the data & functions wrapped in it ===> acc, bal, credit(), debit(), get_balance()\n",
    "\n",
    "print(\"\\n\")\n",
    "\n",
    "print(\"Account Number  =\", acc1.account_no)              # Output:  Account Number  = AC10001\n",
    "print(\"Account Balance =\", acc1.get_balance())           # Output:  Account Balance = 50000\n",
    "\n",
    "print(\"-----------------------------------------------------------------------------------------------\")\n",
    "\n",
    "acc1.debit(1000)                    # Output:  Rs. 1000  was  debited  from  your  account  AC10001\n",
    "                                    # Output:  Total  Balance  =  Rs. 49000\n",
    "\n",
    "print(\"-----------------------------------------------------------------------------------------------\")\n",
    "\n",
    "acc1.credit(40000)                  # Output:  Rs. 40000  was  credited  from  your  account  AC10001\n",
    "                                    #          Total Balance = Rs. 89000\n",
    "\n",
    "print(\"-----------------------------------------------------------------------------------------------\")\n",
    "\n",
    "acc1.debit(7000)                    # Output:  Rs. 7000  was  debited  from  your  account  AC10001\n",
    "                                    #          Total  Balance  =  Rs. 82000\n",
    "\n",
    "print(\"-----------------------------------------------------------------------------------------------\")\n",
    "\n",
    "acc1.debit(5000000000)              # Output:  Insufficient  funds  to  debit  Rs. 5000000000  from  account AC10001\n",
    "\n",
    "print(\"\\n\")"
   ]
  },
  {
   "cell_type": "code",
   "execution_count": 153,
   "metadata": {},
   "outputs": [
    {
     "name": "stdout",
     "output_type": "stream",
     "text": [
      "Account to be debited     :  AC10005\n",
      "Account to be credited    :  AC10001\n",
      "Ammount to be transferred :  20000\n"
     ]
    },
    {
     "ename": "AttributeError",
     "evalue": "'str' object has no attribute 'balance'",
     "output_type": "error",
     "traceback": [
      "\u001b[1;31m---------------------------------------------------------------------------\u001b[0m",
      "\u001b[1;31mAttributeError\u001b[0m                            Traceback (most recent call last)",
      "Cell \u001b[1;32mIn[153], line 49\u001b[0m\n\u001b[0;32m     45\u001b[0m \u001b[38;5;28mprint\u001b[39m(\u001b[38;5;124m\"\u001b[39m\u001b[38;5;124mAccount to be credited    : \u001b[39m\u001b[38;5;124m\"\u001b[39m, txn1\u001b[38;5;241m.\u001b[39mcredit_account)\n\u001b[0;32m     46\u001b[0m \u001b[38;5;28mprint\u001b[39m(\u001b[38;5;124m\"\u001b[39m\u001b[38;5;124mAmmount to be transferred : \u001b[39m\u001b[38;5;124m\"\u001b[39m, txn1\u001b[38;5;241m.\u001b[39mtransfer_amount)\n\u001b[1;32m---> 49\u001b[0m \u001b[43mtxn1\u001b[49m\u001b[38;5;241;43m.\u001b[39;49m\u001b[43mtransfer\u001b[49m\u001b[43m(\u001b[49m\u001b[43m)\u001b[49m\n",
      "Cell \u001b[1;32mIn[153], line 32\u001b[0m, in \u001b[0;36mTransaction.transfer\u001b[1;34m(self)\u001b[0m\n\u001b[0;32m     31\u001b[0m \u001b[38;5;28;01mdef\u001b[39;00m \u001b[38;5;21mtransfer\u001b[39m(\u001b[38;5;28mself\u001b[39m):\n\u001b[1;32m---> 32\u001b[0m     \u001b[43mAccount\u001b[49m\u001b[38;5;241;43m.\u001b[39;49m\u001b[43mdebit\u001b[49m\u001b[43m(\u001b[49m\u001b[38;5;28;43mself\u001b[39;49m\u001b[38;5;241;43m.\u001b[39;49m\u001b[43mdebit_account\u001b[49m\u001b[43m,\u001b[49m\u001b[43m \u001b[49m\u001b[38;5;28;43mself\u001b[39;49m\u001b[38;5;241;43m.\u001b[39;49m\u001b[43mtransfer_amount\u001b[49m\u001b[43m)\u001b[49m         \u001b[38;5;66;03m# debiting money from debit_account\u001b[39;00m\n\u001b[0;32m     33\u001b[0m     Account\u001b[38;5;241m.\u001b[39mcredit(\u001b[38;5;28mself\u001b[39m\u001b[38;5;241m.\u001b[39mcredit_account, \u001b[38;5;28mself\u001b[39m\u001b[38;5;241m.\u001b[39mtransfer_amount)\n",
      "Cell \u001b[1;32mIn[153], line 13\u001b[0m, in \u001b[0;36mAccount.debit\u001b[1;34m(self, amount)\u001b[0m\n\u001b[0;32m     12\u001b[0m \u001b[38;5;28;01mdef\u001b[39;00m \u001b[38;5;21mdebit\u001b[39m(\u001b[38;5;28mself\u001b[39m, amount):\n\u001b[1;32m---> 13\u001b[0m     \u001b[38;5;28;01mif\u001b[39;00m amount \u001b[38;5;241m>\u001b[39m \u001b[38;5;28;43mself\u001b[39;49m\u001b[38;5;241;43m.\u001b[39;49m\u001b[43mbalance\u001b[49m:\n\u001b[0;32m     14\u001b[0m         \u001b[38;5;28mprint\u001b[39m(\u001b[38;5;124m\"\u001b[39m\u001b[38;5;124mInsufficient  funds  to  debit  Rs.\u001b[39m\u001b[38;5;124m\"\u001b[39m, amount, \u001b[38;5;124m\"\u001b[39m\u001b[38;5;124m from  account\u001b[39m\u001b[38;5;124m\"\u001b[39m, \u001b[38;5;28mself\u001b[39m\u001b[38;5;241m.\u001b[39maccount_no)\n\u001b[0;32m     15\u001b[0m     \u001b[38;5;28;01melse\u001b[39;00m:\n",
      "\u001b[1;31mAttributeError\u001b[0m: 'str' object has no attribute 'balance'"
     ]
    }
   ],
   "source": [
    "\n",
    "class Account:\n",
    "\n",
    "    def __init__(self, acc, bal):\n",
    "        self.account_no = acc\n",
    "        self.balance = bal\n",
    "\n",
    "    def credit(self, amount):\n",
    "        self.balance = self.balance + amount\n",
    "        print(\"Rs.\", amount, \" was  credited  from  your  account \", self.account_no)\n",
    "        print(\"Total Balance = Rs.\", self.get_balance())\n",
    "\n",
    "    def debit(self, amount):\n",
    "        if amount > self.balance:\n",
    "            print(\"Insufficient  funds  to  debit  Rs.\", amount, \" from  account\", self.account_no)\n",
    "        else:\n",
    "            self.balance = self.balance - amount\n",
    "            print(\"Rs.\", amount, \" was  debited  from  your  account \", self.account_no)\n",
    "            print(\"Total  Balance  =  Rs.\", self.get_balance())\n",
    "\n",
    "    def get_balance(self):\n",
    "        return self.balance\n",
    "\n",
    "\n",
    "class Transaction:\n",
    "\n",
    "    def __init__(self, debit_account, credit_account, amount):\n",
    "        self.debit_account = debit_account          # account to be debited\n",
    "        self.credit_account = credit_account        # account to be credited\n",
    "        self.transfer_amount = amount               # amount to be transferred\n",
    "\n",
    "    def transfer(self):\n",
    "        Account.debit(self.debit_account, self.transfer_amount)         # debiting money from debit_account\n",
    "        Account.credit(self.credit_account, self.transfer_amount)       # crediting money into credit_account\n",
    "        \n",
    "\n",
    "\n",
    "acc1 = Account(\"AC10001\", 50000)     # This object acc1 has all the data & functions wrapped in it ===> acc, bal, credit(), debit(), get_balance()\n",
    "acc2 = Account(\"AC10005\", 120000)    # This object acc2 has all the data & functions wrapped in it ===> acc, bal, credit(), debit(), get_balance()\n",
    "\n",
    "\n",
    "txn1 = Transaction(acc2.account_no, acc1.account_no, 20000)      \n",
    "\n",
    "\n",
    "print(\"Account to be debited     : \", txn1.debit_account)\n",
    "print(\"Account to be credited    : \", txn1.credit_account)\n",
    "print(\"Ammount to be transferred : \", txn1.transfer_amount)\n",
    "\n",
    "\n",
    "txn1.transfer()\n"
   ]
  },
  {
   "cell_type": "markdown",
   "metadata": {},
   "source": [
    "<div style=\"margin-left: 100px;\">\n",
    "\n",
    "![](media/OOP_1.PNG)\n",
    "    \n",
    "</div>\n",
    "\n",
    "<br>\n",
    "\n",
    "Instead of passing &nbsp;<code style=\"color: red;\">debit_account</code>&nbsp; and &nbsp;<code style=\"color: red;\">credit_account</code>&nbsp; as account numbers of **string type** in &nbsp;<code style=\"color: blue;\">transfer()</code> method, let's pass them as **objects of account type** :"
   ]
  },
  {
   "cell_type": "code",
   "execution_count": 166,
   "metadata": {},
   "outputs": [
    {
     "name": "stdout",
     "output_type": "stream",
     "text": [
      "\n",
      "\n",
      "Account to be debited     :  <__main__.Account object at 0x000001968F72CB50>\n",
      "Account to be credited    :  <__main__.Account object at 0x000001968F72F0D0>\n",
      "Ammount to be transferred :  20000\n",
      "----------------------------------------------------------------------------------------\n",
      "Rs. 20000  was  debited  from  your  account  AC10001\n",
      "Total  Balance  =  Rs. 30000\n",
      "Rs. 20000  was  credited  from  your  account  AC10005\n",
      "Total Balance = Rs. 140000\n"
     ]
    }
   ],
   "source": [
    "\n",
    "class Account:\n",
    "\n",
    "    def __init__(self, acc, bal):\n",
    "        self.account_no = acc\n",
    "        self.balance = bal\n",
    "\n",
    "    def credit(self, amount):\n",
    "        self.balance = self.balance + amount\n",
    "        print(\"Rs.\", amount, \" was  credited  from  your  account \", self.account_no)\n",
    "        print(\"Total Balance = Rs.\", self.get_balance())\n",
    "\n",
    "    def debit(self, amount):\n",
    "        if amount > self.balance:\n",
    "            print(\"Insufficient  funds  to  debit  Rs.\", amount, \" from  account\", self.account_no)\n",
    "        else:\n",
    "            self.balance = self.balance - amount\n",
    "            print(\"Rs.\", amount, \" was  debited  from  your  account \", self.account_no)\n",
    "            print(\"Total  Balance  =  Rs.\", self.get_balance())\n",
    "\n",
    "    def get_balance(self):\n",
    "        return self.balance\n",
    "\n",
    "\n",
    "class Transaction:\n",
    "\n",
    "    def __init__(self, debit_account, credit_account, amount):\n",
    "        self.debit_account = debit_account          # account to be debited\n",
    "        self.credit_account = credit_account        # account to be credited\n",
    "        self.transfer_amount = amount               # amount to be transferred\n",
    "\n",
    "    def transfer(self, debit_acc, credit_acc):\n",
    "        Account.debit(debit_acc, self.transfer_amount)         # debiting money from debit_account\n",
    "        Account.credit(credit_acc, self.transfer_amount)       # crediting money into credit_account\n",
    "        \n",
    "\n",
    "\n",
    "\n",
    "acc1 = Account(\"AC10001\", 50000)     # This object acc1 has all the data & functions wrapped in it ===> acc, bal, credit(), debit(), get_balance()\n",
    "acc2 = Account(\"AC10005\", 120000)    # This object acc2 has all the data & functions wrapped in it ===> acc, bal, credit(), debit(), get_balance()\n",
    "\n",
    "\n",
    "txn1 = Transaction(acc2, acc1, 20000)     # passing objects \n",
    "\n",
    "print(\"\\n\")\n",
    "\n",
    "print(\"Account to be debited     : \", txn1.debit_account)\n",
    "print(\"Account to be credited    : \", txn1.credit_account)\n",
    "print(\"Ammount to be transferred : \", txn1.transfer_amount)\n",
    "\n",
    "\n",
    "print(\"----------------------------------------------------------------------------------------\")\n",
    "\n",
    "\n",
    "txn1.transfer(acc1, acc2)\n"
   ]
  },
  {
   "cell_type": "markdown",
   "metadata": {},
   "source": [
    "<br>\n",
    "\n",
    "<code style=\"color: #03AD0B; background-color: white;\">Let's handle the edge case when there is insufficient balance in an account to debit an amount from it.</code>\n"
   ]
  },
  {
   "cell_type": "code",
   "execution_count": 191,
   "metadata": {},
   "outputs": [
    {
     "name": "stdout",
     "output_type": "stream",
     "text": [
      "\n",
      "\n",
      "Account to be debited     :  <__main__.Account object at 0x00000196901D1590>\n",
      "Account to be credited    :  <__main__.Account object at 0x00000196901D1E50>\n",
      "Ammount to be transferred :  99990000\n",
      "----------------------------------------------------------------------------------------\n",
      "Insufficient funds in the debit account to complete the transfer.\n"
     ]
    }
   ],
   "source": [
    "\n",
    "class Account:\n",
    "\n",
    "    def __init__(self, acc, bal):\n",
    "        self.account_no = acc\n",
    "        self.balance = bal\n",
    "\n",
    "    def credit(self, amount):\n",
    "        self.balance = self.balance + amount\n",
    "        print(\"Rs.\", amount, \" was  credited  from  your  account \", self.account_no)\n",
    "        print(\"Total Balance = Rs.\", self.get_balance())\n",
    "\n",
    "    def debit(self, amount):\n",
    "        if amount > self.balance:\n",
    "            print(\"Insufficient  funds  to  debit  Rs.\", amount, \" from  account\", self.account_no)\n",
    "        else:\n",
    "            self.balance = self.balance - amount\n",
    "            print(\"Rs.\", amount, \" was  debited  from  your  account \", self.account_no)\n",
    "            print(\"Total  Balance  =  Rs.\", self.get_balance())\n",
    "\n",
    "    def get_balance(self):\n",
    "        return self.balance\n",
    "\n",
    "\n",
    "class Transaction:\n",
    "\n",
    "    def __init__(self, debit_account, credit_account, amount):\n",
    "        self.debit_account = debit_account          # account to be debited\n",
    "        self.credit_account = credit_account        # account to be credited\n",
    "        self.transfer_amount = amount               # amount to be transferred\n",
    "\n",
    "    def transfer(self, debit_acc, credit_acc):\n",
    "        if debit_acc.balance >= self.transfer_amount:\n",
    "            Account.debit(debit_acc, self.transfer_amount)         # debiting money from debit_account\n",
    "            Account.credit(credit_acc, self.transfer_amount)        # crediting money into credit_account\n",
    "        else:\n",
    "            print(\"Insufficient funds in the debit account to complete the transfer.\")\n",
    "        \n",
    "\n",
    "\n",
    "\n",
    "acc1 = Account(\"AC10001\", 50000)     # This object acc1 has all the data & functions wrapped in it ===> acc, bal, credit(), debit(), get_balance()\n",
    "acc2 = Account(\"AC10005\", 120000)    # This object acc2 has all the data & functions wrapped in it ===> acc, bal, credit(), debit(), get_balance()\n",
    "\n",
    "\n",
    "txn1 = Transaction(acc2, acc1, 99990000)     # passing account type objects acc1 and acc2\n",
    "\n",
    "print(\"\\n\")\n",
    "\n",
    "print(\"Account to be debited     : \", txn1.debit_account)\n",
    "print(\"Account to be credited    : \", txn1.credit_account)\n",
    "print(\"Ammount to be transferred : \", txn1.transfer_amount)\n",
    "\n",
    "\n",
    "print(\"----------------------------------------------------------------------------------------\")\n",
    "\n",
    "\n",
    "txn1.transfer(acc1, acc2)\n"
   ]
  },
  {
   "cell_type": "markdown",
   "metadata": {},
   "source": [
    "<br>\n",
    "\n",
    "<span style=\"color: red;\">But &nbsp;&nbsp;<code style=\"background-color: yellow;\">txn1.transfer(acc1, acc2)</code>&nbsp;&nbsp;  is **not the correct way** of doing it.</span>\n",
    "\n",
    "<br>\n",
    "\n",
    "<span style=\"color: blue;\">The **correct** way of doing money transfer is &nbsp;&nbsp;<code style=\"background-color: yellow;\">txn1.transfer()</code>&nbsp;&nbsp; because the object &nbsp;<code>txn1</code>&nbsp; already has all the necessary data ( &nbsp;<code style=\"background-color: #A5FFF3;\">debit_account</code>&nbsp;, &nbsp;<code style=\"background-color: #A5FFF3;\">credit_account</code>&nbsp;, &nbsp;<code style=\"background-color: #A5FFF3;\">transfer_amount</code>&nbsp;). <br>\n",
    "The required data like &nbsp;<code style=\"background-color: #FFD3B5;\">balance</code>&nbsp; functions like &nbsp;<code style=\"background-color: #FFD3B5;\">credit()</code>&nbsp; and functions like &nbsp;<code style=\"background-color: #FFD3B5;\">debit()</code>&nbsp; should be **inherited** from the parent class <u>**Account**</u>. <br> However, we can achieve this <u>without even using the concept of **inheritance**</u> here.</span>\n",
    "\n",
    "\n",
    "<font size=\"+1\"><span style=\"color: black\">↳</span></font>&nbsp;**without using inheritance**"
   ]
  },
  {
   "cell_type": "code",
   "execution_count": 199,
   "metadata": {},
   "outputs": [
    {
     "name": "stdout",
     "output_type": "stream",
     "text": [
      "\n",
      "\n",
      "Account to be debited     :  <__main__.Account object at 0x000001968F0803D0>\n",
      "Account to be credited    :  <__main__.Account object at 0x000001968F865F90>\n",
      "Ammount to be transferred :  20000\n",
      "----------------------------------------------------------------------------------------\n",
      "Rs. 20000  was  debited  from  your  account  AC10005\n",
      "Total  Balance  =  Rs. 100000\n",
      "Rs. 20000  was  debited  from  your  account  AC10005\n",
      "Total  Balance  =  Rs. 80000\n"
     ]
    }
   ],
   "source": [
    "\n",
    "class Account:\n",
    "\n",
    "    def __init__(self, acc, bal):\n",
    "        self.account_no = acc\n",
    "        self.balance = bal\n",
    "\n",
    "    def credit(self, amount):\n",
    "        self.balance = self.balance + amount\n",
    "        print(\"Rs.\", amount, \" was  credited  from  your  account \", self.account_no)\n",
    "        print(\"Total Balance = Rs.\", self.get_balance())\n",
    "\n",
    "    def debit(self, amount):\n",
    "        if amount > self.balance:\n",
    "            print(\"Insufficient  funds  to  debit  Rs.\", amount, \" from  account\", self.account_no)\n",
    "        else:\n",
    "            self.balance = self.balance - amount\n",
    "            print(\"Rs.\", amount, \" was  debited  from  your  account \", self.account_no)\n",
    "            print(\"Total  Balance  =  Rs.\", self.get_balance())\n",
    "\n",
    "    def get_balance(self):\n",
    "        return self.balance\n",
    "\n",
    "\n",
    "class Transaction:\n",
    "\n",
    "    def __init__(self, debit_account, credit_account, amount):\n",
    "        self.debit_account = debit_account          # account to be debited\n",
    "        self.credit_account = credit_account        # account to be credited\n",
    "        self.transfer_amount = amount               # amount to be transferred\n",
    "\n",
    "    def transfer(self):\n",
    "        self.debit_account.debit(self.transfer_amount)         # debiting money from debit_account\n",
    "        self.debit_account.debit(self.transfer_amount)        # crediting money into credit_account\n",
    "\n",
    "\n",
    "\n",
    "acc1 = Account(\"AC10001\", 50000)     # This object acc1 has all the data & functions wrapped in it  ===>  acc, bal, credit(), debit(), get_balance()\n",
    "acc2 = Account(\"AC10005\", 120000)    # This object acc2 has all the data & functions wrapped in it  ===>  acc, bal, credit(), debit(), get_balance()\n",
    "\n",
    "\n",
    "txn1 = Transaction(acc2, acc1, 20000)     # passing account type objects acc1 and acc2    ===>    Debit from acc2, Credit into acc1\n",
    "\n",
    "print(\"\\n\")\n",
    "\n",
    "print(\"Account to be debited     : \", txn1.debit_account)\n",
    "print(\"Account to be credited    : \", txn1.credit_account)\n",
    "print(\"Ammount to be transferred : \", txn1.transfer_amount)\n",
    "\n",
    "print(\"----------------------------------------------------------------------------------------\")\n",
    "\n",
    "txn1.transfer()\n"
   ]
  },
  {
   "cell_type": "markdown",
   "metadata": {},
   "source": [
    "<br>\n",
    "\n",
    "<font size=\"+1\"><span style=\"color: black\">↳</span></font>&nbsp;**using inheritance**"
   ]
  },
  {
   "cell_type": "code",
   "execution_count": 1,
   "metadata": {},
   "outputs": [
    {
     "name": "stdout",
     "output_type": "stream",
     "text": [
      "\n",
      "\n",
      "Account to be debited     :  <__main__.Account object at 0x00000187D8D577D0>\n",
      "Account to be credited    :  <__main__.Account object at 0x00000187D8D567D0>\n",
      "Ammount to be transferred :  20000\n",
      "----------------------------------------------------------------------------------------\n",
      "Rs. 20000  was  debited  from  your  account  AC10005\n",
      "Total  Balance  =  Rs. 100000\n",
      "Rs. 20000  was  debited  from  your  account  AC10005\n",
      "Total  Balance  =  Rs. 80000\n",
      "\n",
      "\n"
     ]
    }
   ],
   "source": [
    "\n",
    "class Account:\n",
    "\n",
    "    def __init__(self, acc, bal):\n",
    "        self.account_no = acc\n",
    "        self.balance = bal\n",
    "\n",
    "    def credit(self, amount):\n",
    "        self.balance = self.balance + amount\n",
    "        print(\"Rs.\", amount, \" was  credited  from  your  account \", self.account_no)\n",
    "        print(\"Total Balance = Rs.\", self.get_balance())\n",
    "\n",
    "    def debit(self, amount):\n",
    "        if amount > self.balance:\n",
    "            print(\"Insufficient  funds  to  debit  Rs.\", amount, \" from  account\", self.account_no)\n",
    "        else:\n",
    "            self.balance = self.balance - amount\n",
    "            print(\"Rs.\", amount, \" was  debited  from  your  account \", self.account_no)\n",
    "            print(\"Total  Balance  =  Rs.\", self.get_balance())\n",
    "\n",
    "    def get_balance(self):\n",
    "        return self.balance\n",
    "\n",
    "\n",
    "class Transaction(Account): \n",
    "\n",
    "    def __init__(self, debit_account, credit_account, amount):\n",
    "        self.debit_account = debit_account          # account to be debited\n",
    "        self.credit_account = credit_account        # account to be credited\n",
    "        self.transfer_amount = amount               # amount to be transferred\n",
    "\n",
    "    def transfer(self):\n",
    "        self.debit_account.debit(self.transfer_amount)         # debiting money from debit_account\n",
    "        self.debit_account.debit(self.transfer_amount)        # crediting money into credit_account\n",
    "\n",
    "\n",
    "\n",
    "acc1 = Account(\"AC10001\", 50000)     # This object acc1 has all the data & functions wrapped in it  ===>  acc, bal, credit(), debit(), get_balance()\n",
    "acc2 = Account(\"AC10005\", 120000)    # This object acc2 has all the data & functions wrapped in it  ===>  acc, bal, credit(), debit(), get_balance()\n",
    "\n",
    "\n",
    "txn1 = Transaction(acc2, acc1, 20000)     # passing account type objects acc1 and acc2    ===>    Debit from acc2, Credit into acc1\n",
    "\n",
    "print(\"\\n\")\n",
    "\n",
    "print(\"Account to be debited     : \", txn1.debit_account)\n",
    "print(\"Account to be credited    : \", txn1.credit_account)\n",
    "print(\"Ammount to be transferred : \", txn1.transfer_amount)\n",
    "\n",
    "print(\"----------------------------------------------------------------------------------------\")\n",
    "\n",
    "txn1.transfer()\n",
    "\n",
    "print(\"\\n\")\n"
   ]
  },
  {
   "cell_type": "code",
   "execution_count": null,
   "metadata": {},
   "outputs": [],
   "source": []
  },
  {
   "cell_type": "code",
   "execution_count": null,
   "metadata": {},
   "outputs": [],
   "source": []
  },
  {
   "cell_type": "code",
   "execution_count": null,
   "metadata": {},
   "outputs": [],
   "source": []
  },
  {
   "cell_type": "code",
   "execution_count": null,
   "metadata": {},
   "outputs": [],
   "source": []
  },
  {
   "cell_type": "markdown",
   "metadata": {},
   "source": [
    "<br>\n",
    "\n",
    "<span style=\"color: #DCBD10\">▬▬▬▬▬▬▬▬▬▬▬▬▬▬▬▬▬▬▬▬▬▬▬▬▬▬▬▬▬▬▬▬▬▬▬▬▬▬▬▬▬▬▬▬▬▬▬▬▬▬▬▬▬▬▬▬▬▬▬▬▬▬▬▬▬▬▬▬▬▬▬▬▬▬▬▬</span>\n",
    "\n",
    "#### Decorators\n",
    "\n",
    "====> <span style=\"color: blue;\">Decorators allow us to wrap another function in order to extend the behavior of the wrapped function, without permananetly modifying it.</span>\n",
    "\n",
    "====> Decorator are essential concept of &nbsp;<span style=\"color: red;\"><u>Encapsulation</u></span>\n",
    "\n",
    "====> Decorators are used to change the behavior of an existing function (without even making any code change inside that function) at the compile time itself.\n",
    "\n",
    "====> To add some extra code inside a function without directly adding in it. You add it from outside using another function"
   ]
  },
  {
   "cell_type": "code",
   "execution_count": 2,
   "metadata": {},
   "outputs": [
    {
     "name": "stdout",
     "output_type": "stream",
     "text": [
      "0.5\n"
     ]
    }
   ],
   "source": [
    "\n",
    "def div(a, b):\n",
    "    print(a/b)\n",
    "\n",
    "\n",
    "div(2,4)"
   ]
  },
  {
   "cell_type": "markdown",
   "metadata": {},
   "source": [
    "<br>\n",
    "\n",
    "Now suppose I want to change the behavior of this &nbsp;<code style=\"color:red;\">div</code> &nbsp; function without making any changes inside it. <br>\n",
    "Suppose I want to use this &nbsp;<code style=\"color:red;\">div</code> &nbsp; function but it should work as per my logic, not existing logic. <br> \n",
    "Suppose my logic is not inside this file. I need to import my logic and then use it.  <br>\n",
    "**And my logic is** &nbsp;-&nbsp; <u>No matter in which sequence I pass the parameters in div function, &nbsp;<span style=\"color: blue;\">the numerator should always be greater than denominator</span></u>  <br>\n",
    "And we can achieve this using **decorators**\n",
    "\n",
    "<br>"
   ]
  },
  {
   "cell_type": "code",
   "execution_count": 51,
   "metadata": {},
   "outputs": [
    {
     "name": "stdout",
     "output_type": "stream",
     "text": [
      "2.0\n",
      "0.5\n"
     ]
    }
   ],
   "source": [
    "\n",
    "# Existing Function\n",
    "def div(a, b):\n",
    "    print(a/b)\n",
    "\n",
    "\n",
    "# My Function  =======> DECORATOR\n",
    "def smart_div(func):\n",
    "\n",
    "    # WRAPPER\n",
    "    def inner(a, b):             # duplicate of div() function to write my own logic\n",
    "        if a < b:\n",
    "            a , b = b , a\n",
    "        return func(a,b)         # return the modified div() function by passing the parameters in the same sequence\n",
    "\n",
    "    return inner                 # inner() function is assigned to a variable inner and then that variable inner is returned\n",
    "                                 # a function can be assigned to a variable because everything in Python is an object\n",
    "\n",
    "\n",
    "div_new = smart_div(div)         # linking DECORATOR i.e, my function smart_div() with the existing function div()\n",
    "div_new(2,4)                     # so finally div_new() is my new function which will do my work\n",
    "\n",
    "        \n",
    "\n",
    "div(2,4)                         # existing function div()"
   ]
  },
  {
   "cell_type": "code",
   "execution_count": 52,
   "metadata": {},
   "outputs": [
    {
     "ename": "TypeError",
     "evalue": "div() missing 2 required positional arguments: 'a' and 'b'",
     "output_type": "error",
     "traceback": [
      "\u001b[1;31m---------------------------------------------------------------------------\u001b[0m",
      "\u001b[1;31mTypeError\u001b[0m                                 Traceback (most recent call last)",
      "Cell \u001b[1;32mIn[52], line 19\u001b[0m\n\u001b[0;32m     15\u001b[0m     \u001b[38;5;28;01mreturn\u001b[39;00m inner                 \n\u001b[0;32m     18\u001b[0m \u001b[38;5;66;03m# Instead of passing the existing function name div, if we pass it as a method div() inside the DECORATOR =====> we will get an Error\u001b[39;00m\n\u001b[1;32m---> 19\u001b[0m div_new \u001b[38;5;241m=\u001b[39m smart_div(\u001b[43mdiv\u001b[49m\u001b[43m(\u001b[49m\u001b[43m)\u001b[49m)       \u001b[38;5;66;03m# TypeError: div() missing 2 required positional arguments: 'a' and 'b'\u001b[39;00m\n\u001b[0;32m     21\u001b[0m div_new(\u001b[38;5;241m2\u001b[39m,\u001b[38;5;241m4\u001b[39m)                     \n",
      "\u001b[1;31mTypeError\u001b[0m: div() missing 2 required positional arguments: 'a' and 'b'"
     ]
    }
   ],
   "source": [
    "\n",
    "# Existing Function\n",
    "def div(a, b):\n",
    "    print(a/b)\n",
    "\n",
    "\n",
    "# My Function  =======> DECORATOR\n",
    "def smart_div(func):\n",
    "\n",
    "    # WRAPPER\n",
    "    def inner(a, b):             \n",
    "        if a < b:\n",
    "            a , b = b , a\n",
    "        return func(a,b)         \n",
    "\n",
    "    return inner                 \n",
    "\n",
    "\n",
    "# Instead of passing the existing function name div, if we pass it as a method div() inside the DECORATOR =====> we will get an Error\n",
    "div_new = smart_div(div())       # TypeError: div() missing 2 required positional arguments: 'a' and 'b'\n",
    "\n",
    "div_new(2,4)                     \n"
   ]
  },
  {
   "cell_type": "code",
   "execution_count": null,
   "metadata": {},
   "outputs": [],
   "source": []
  },
  {
   "cell_type": "code",
   "execution_count": null,
   "metadata": {},
   "outputs": [],
   "source": []
  },
  {
   "cell_type": "code",
   "execution_count": null,
   "metadata": {},
   "outputs": [],
   "source": []
  },
  {
   "cell_type": "markdown",
   "metadata": {},
   "source": [
    "<br>\n",
    "\n",
    "<span style=\"color: #DCBD10\">▬▬▬▬▬▬▬▬▬▬▬▬▬▬▬▬▬▬▬▬▬▬▬▬▬▬▬▬▬▬▬▬▬▬▬▬▬▬▬▬▬▬▬▬▬▬▬▬▬▬▬▬▬▬▬▬▬▬▬▬▬▬▬▬▬▬▬▬▬▬▬▬▬▬▬▬</span>\n",
    "\n",
    "#### Property"
   ]
  },
  {
   "cell_type": "code",
   "execution_count": 38,
   "metadata": {},
   "outputs": [
    {
     "name": "stdout",
     "output_type": "stream",
     "text": [
      "Avinash\n",
      "Mishra\n",
      "Avinash.Mishra@email.com\n",
      "Avinash Mishra\n"
     ]
    }
   ],
   "source": [
    "\n",
    "class Employee:\n",
    "\n",
    "    def __init__(self, first, last):\n",
    "        self.first = first\n",
    "        self.last = last\n",
    "        self.email = first + \".\" + last + \"@email.com\"\n",
    "        # self.email = self.first + \".\" + self.last + \"email.com\"\n",
    "\n",
    "    def fullname(self):\n",
    "        return f\"{self.first} {self.last}\"\n",
    "\n",
    "\n",
    "###########################################################################################\n",
    "\n",
    "emp1 = Employee(\"Avinash\", \"Mishra\")\n",
    "\n",
    "print(emp1.first)\n",
    "print(emp1.last)\n",
    "print(emp1.email)\n",
    "print(emp1.fullname())\n"
   ]
  },
  {
   "cell_type": "markdown",
   "metadata": {},
   "source": [
    "<br>\n",
    "\n",
    "<code style=\"background-color: white; color: red;\">let's update the <u>first</u> name and see if it's reflected in the <u>fullname</u> and <u>email</u></code>\n",
    "\n",
    "<br>"
   ]
  },
  {
   "cell_type": "code",
   "execution_count": 39,
   "metadata": {},
   "outputs": [
    {
     "name": "stdout",
     "output_type": "stream",
     "text": [
      "Aman\n",
      "Mishra\n",
      "Avinash.Mishra@email.com\n",
      "Aman Mishra\n"
     ]
    }
   ],
   "source": [
    "\n",
    "class Employee:\n",
    "\n",
    "    def __init__(self, first, last):\n",
    "        self.first = first\n",
    "        self.last = last\n",
    "        self.email = first + \".\" + last + \"@email.com\"\n",
    "        # self.email = self.first + \".\" + self.last + \"email.com\"\n",
    "\n",
    "    def fullname(self):\n",
    "        return f\"{self.first} {self.last}\"\n",
    "\n",
    "\n",
    "###########################################################################################\n",
    "\n",
    "emp1 = Employee(\"Avinash\", \"Mishra\")\n",
    "\n",
    "emp1.first = \"Aman\"\n",
    "\n",
    "print(emp1.first)\n",
    "print(emp1.last)\n",
    "print(emp1.email)\n",
    "print(emp1.fullname())\n"
   ]
  },
  {
   "cell_type": "code",
   "execution_count": 40,
   "metadata": {},
   "outputs": [
    {
     "name": "stdout",
     "output_type": "stream",
     "text": [
      "Aman\n",
      "Mishra\n",
      "Avinash.Mishraemail.com\n",
      "Aman Mishra\n"
     ]
    }
   ],
   "source": [
    "\n",
    "class Employee:\n",
    "\n",
    "    # CONSTRUCTOR\n",
    "    def __init__(self, first, last):\n",
    "        self.first = first\n",
    "        self.last = last\n",
    "        # self.email = first + \".\" + last + \"@email.com\"\n",
    "        self.email = self.first + \".\" + self.last + \"email.com\"\n",
    "\n",
    "    def fullname(self):\n",
    "        return f\"{self.first} {self.last}\"\n",
    "\n",
    "\n",
    "###########################################################################################\n",
    "\n",
    "emp1 = Employee(\"Avinash\", \"Mishra\")\n",
    "\n",
    "emp1.first = \"Aman\"\n",
    "\n",
    "print(emp1.first)\n",
    "print(emp1.last)\n",
    "print(emp1.email)\n",
    "print(emp1.fullname())\n"
   ]
  },
  {
   "cell_type": "markdown",
   "metadata": {},
   "source": [
    "<br>\n",
    "\n",
    "<code style=\"color: red; background-color: white;\"><u>email</u> is not changed but the <u>fullname</u> is changed</code>\n",
    "\n",
    "<br>\n",
    "\n",
    "We can obviously use **getter** and **setter** methods here in Python like Java. <br>\n",
    "\n",
    "But we have something called &nbsp;<code style=\"color: red;\">property()</code>&nbsp; function or &nbsp;<code style=\"color: red;\">@property</code>&nbsp; decorator which gives us more comfort of defining a method and access it as an attribute, thus avoiding rewriting of code for other developers.\n",
    "\n",
    "<br>\n",
    "\n",
    "How to create a **property** for a class in Python?  <br>\n",
    "    &nbsp;&nbsp;&nbsp;&nbsp;1.&nbsp;&nbsp; Using &nbsp;<span style=\"background-color:yellow; color: black;\">&nbsp;property( )&nbsp;</span> &nbsp;method  <br>\n",
    "    &nbsp;&nbsp;&nbsp;&nbsp;2.&nbsp;&nbsp; Using &nbsp;<span style=\"background-color:yellow; color: black;\">&nbsp;@property&nbsp;</span> &nbsp;decorator \n",
    "\n",
    "<br>\n",
    "\n",
    "Using &nbsp;<span style=\"background-color:yellow; color: black;\">&nbsp;@property&nbsp;</span> &nbsp;method"
   ]
  },
  {
   "cell_type": "code",
   "execution_count": 60,
   "metadata": {},
   "outputs": [
    {
     "name": "stdout",
     "output_type": "stream",
     "text": [
      "Aman\n",
      "Mishra\n",
      "Aman.Mishra.@email.com\n",
      "Aman Mishra\n"
     ]
    }
   ],
   "source": [
    "\n",
    "class Employee:\n",
    "\n",
    "    # CONSTRUCTOR\n",
    "    def __init__(self, first, last):\n",
    "        self.first = first\n",
    "        self.last = last\n",
    "\n",
    "    #GETTER\n",
    "    # adding a method for email\n",
    "    def email(self):\n",
    "        return f\"{self.first}.{self.last}.@email.com\"\n",
    "        \n",
    "\n",
    "    def fullname(self):\n",
    "        return f\"{self.first} {self.last}\"\n",
    "\n",
    "\n",
    "###########################################################################################\n",
    "\n",
    "emp1 = Employee(\"Avinash\", \"Mishra\")\n",
    "\n",
    "emp1.first = \"Aman\"\n",
    "\n",
    "print(emp1.first)\n",
    "print(emp1.last)\n",
    "# print(emp1.email)\n",
    "print(emp1.email())          # emp1.email()  ====>  using email() as amethod\n",
    "print(emp1.fullname())\n"
   ]
  },
  {
   "cell_type": "code",
   "execution_count": 42,
   "metadata": {},
   "outputs": [
    {
     "name": "stdout",
     "output_type": "stream",
     "text": [
      "Aman\n",
      "Mishra\n"
     ]
    },
    {
     "ename": "TypeError",
     "evalue": "'str' object is not callable",
     "output_type": "error",
     "traceback": [
      "\u001b[1;31m----------------------------------------------------------------\u001b[0m",
      "\u001b[1;31mTypeError\u001b[0m                      Traceback (most recent call last)",
      "Cell \u001b[1;32mIn[42], line 28\u001b[0m\n\u001b[0;32m     26\u001b[0m \u001b[38;5;28mprint\u001b[39m(emp1\u001b[38;5;241m.\u001b[39mlast)\n\u001b[0;32m     27\u001b[0m \u001b[38;5;66;03m# print(emp1.email)\u001b[39;00m\n\u001b[1;32m---> 28\u001b[0m \u001b[38;5;28mprint\u001b[39m(\u001b[43memp1\u001b[49m\u001b[38;5;241;43m.\u001b[39;49m\u001b[43memail\u001b[49m\u001b[43m(\u001b[49m\u001b[43m)\u001b[49m)          \u001b[38;5;66;03m# emp1.email()  ====>  using email() as amethod\u001b[39;00m\n\u001b[0;32m     29\u001b[0m \u001b[38;5;28mprint\u001b[39m(emp1\u001b[38;5;241m.\u001b[39mfullname())\n",
      "\u001b[1;31mTypeError\u001b[0m: 'str' object is not callable"
     ]
    }
   ],
   "source": [
    "\n",
    "class Employee:\n",
    "\n",
    "    # CONSTRUCTOR\n",
    "    def __init__(self, first, last):\n",
    "        self.first = first\n",
    "        self.last = last\n",
    "\n",
    "    # GETTER\n",
    "    # making email a property attribute of the Employee class by adding a @property decorator before the email() method\n",
    "    @property\n",
    "    def email(self):\n",
    "        return f\"{self.first}.{self.last}.@email.com\"\n",
    "        \n",
    "\n",
    "    def fullname(self):\n",
    "        return f\"{self.first} {self.last}\"\n",
    "\n",
    "\n",
    "###########################################################################################\n",
    "\n",
    "emp1 = Employee(\"Avinash\", \"Mishra\")\n",
    "\n",
    "emp1.first = \"Aman\"\n",
    "\n",
    "print(emp1.first)\n",
    "print(emp1.last)\n",
    "# print(emp1.email)\n",
    "print(emp1.email())          # emp1.email()  ====>  using email() as amethod\n",
    "print(emp1.fullname())\n"
   ]
  },
  {
   "cell_type": "markdown",
   "metadata": {},
   "source": [
    "<br>\n",
    "\n",
    "<code style=\"color: red; background-color: white;\">since <u>@property</u> decorator is added, now <u>emp1.email()</u> method can be accessed as an attribute of the Employee Class</code>\n",
    "\n",
    "<br>"
   ]
  },
  {
   "cell_type": "code",
   "execution_count": 43,
   "metadata": {},
   "outputs": [
    {
     "name": "stdout",
     "output_type": "stream",
     "text": [
      "Aman\n",
      "Mishra\n",
      "Aman.Mishra.@email.com\n",
      "Aman Mishra\n"
     ]
    }
   ],
   "source": [
    "\n",
    "class Employee:\n",
    "\n",
    "    # CONSTRUCTOR\n",
    "    def __init__(self, first, last):\n",
    "        self.first = first\n",
    "        self.last = last\n",
    "\n",
    "    # GETTER\n",
    "    # making email a property attribute of the Employee class by adding a @property decorator before the email() method\n",
    "    @property\n",
    "    def email(self):\n",
    "        return f\"{self.first}.{self.last}.@email.com\"\n",
    "        \n",
    "\n",
    "    def fullname(self):\n",
    "        return f\"{self.first} {self.last}\"\n",
    "\n",
    "\n",
    "###########################################################################################\n",
    "\n",
    "emp1 = Employee(\"Avinash\", \"Mishra\")\n",
    "\n",
    "emp1.first = \"Aman\"\n",
    "\n",
    "print(emp1.first)\n",
    "print(emp1.last)\n",
    "print(emp1.email)              # emp1.email()  ====>  emp1.email               # Accessing email() method as an attribute using @property decorator\n",
    "# print(emp1.email())          # TypeError: 'str' object is not callable\n",
    "print(emp1.fullname())\n"
   ]
  },
  {
   "cell_type": "markdown",
   "metadata": {},
   "source": [
    "<br>\n",
    "\n",
    "<code style=\"background-color: white; color: red;\">We can do the same for other instance methods too.  Let's try to do the same for <u>fullname()</u></code>\n",
    "\n",
    "<br>"
   ]
  },
  {
   "cell_type": "code",
   "execution_count": 44,
   "metadata": {},
   "outputs": [
    {
     "name": "stdout",
     "output_type": "stream",
     "text": [
      "Aman\n",
      "Mishra\n",
      "Aman.Mishra.@email.com\n",
      "Aman Mishra\n"
     ]
    }
   ],
   "source": [
    "\n",
    "class Employee:\n",
    "\n",
    "    # CONSTRUCTOR\n",
    "    def __init__(self, first, last):\n",
    "        self.first = first\n",
    "        self.last = last\n",
    "\n",
    "    # GETTER\n",
    "    # making email a property attribute of the Employee class by adding a @property decorator before the email() method\n",
    "    @property        \n",
    "    def email(self):\n",
    "        return f\"{self.first}.{self.last}.@email.com\"\n",
    "\n",
    "    # GETTER\n",
    "    @property          \n",
    "    def fullname(self):\n",
    "        return f\"{self.first} {self.last}\"\n",
    "\n",
    "\n",
    "###########################################################################################\n",
    "\n",
    "emp1 = Employee(\"Avinash\", \"Mishra\")\n",
    "\n",
    "emp1.first = \"Aman\"\n",
    "\n",
    "print(emp1.first)\n",
    "print(emp1.last)\n",
    "print(emp1.email)              # emp1.email()  ====>  emp1.email               # Accessing email() method as an attribute using @property decorator\n",
    "# print(emp1.email())          # TypeError: 'str' object is not callable\n",
    "# print(emp1.fullname())       # TypeError: 'str' object is not callable\n",
    "print(emp1.fullname)           # emp1.fullname()  ====>  emp1.fullname         # Accessing fullname() method as an attribute using @property decorator\n"
   ]
  },
  {
   "cell_type": "markdown",
   "metadata": {},
   "source": [
    "<br>\n",
    "\n",
    "<code style=\"background-color: white; color: red;\">Let's now see how to set the attrbutes of a class using <u>@property</u> decorator</code>\n",
    "\n",
    "<br>"
   ]
  },
  {
   "cell_type": "code",
   "execution_count": 45,
   "metadata": {},
   "outputs": [
    {
     "ename": "AttributeError",
     "evalue": "property 'fullname' of 'Employee' object has no setter",
     "output_type": "error",
     "traceback": [
      "\u001b[1;31m----------------------------------------------------------------\u001b[0m",
      "\u001b[1;31mAttributeError\u001b[0m                 Traceback (most recent call last)",
      "Cell \u001b[1;32mIn[45], line 26\u001b[0m\n\u001b[0;32m     22\u001b[0m emp1 \u001b[38;5;241m=\u001b[39m Employee(\u001b[38;5;124m\"\u001b[39m\u001b[38;5;124mAvinash\u001b[39m\u001b[38;5;124m\"\u001b[39m, \u001b[38;5;124m\"\u001b[39m\u001b[38;5;124mMishra\u001b[39m\u001b[38;5;124m\"\u001b[39m)\n\u001b[0;32m     24\u001b[0m emp1\u001b[38;5;241m.\u001b[39mfirst \u001b[38;5;241m=\u001b[39m \u001b[38;5;124m\"\u001b[39m\u001b[38;5;124mAman\u001b[39m\u001b[38;5;124m\"\u001b[39m\n\u001b[1;32m---> 26\u001b[0m \u001b[43memp1\u001b[49m\u001b[38;5;241;43m.\u001b[39;49m\u001b[43mfullname\u001b[49m \u001b[38;5;241m=\u001b[39m \u001b[38;5;124m\"\u001b[39m\u001b[38;5;124mRadha Kumari\u001b[39m\u001b[38;5;124m\"\u001b[39m\n\u001b[0;32m     28\u001b[0m \u001b[38;5;28mprint\u001b[39m(emp1\u001b[38;5;241m.\u001b[39mfirst)\n\u001b[0;32m     29\u001b[0m \u001b[38;5;28mprint\u001b[39m(emp1\u001b[38;5;241m.\u001b[39mlast)\n",
      "\u001b[1;31mAttributeError\u001b[0m: property 'fullname' of 'Employee' object has no setter"
     ]
    }
   ],
   "source": [
    "\n",
    "class Employee:\n",
    "\n",
    "    # CONSTRUCTOR\n",
    "    def __init__(self, first, last):\n",
    "        self.first = first\n",
    "        self.last = last\n",
    "\n",
    "    # GETTER\n",
    "    # making email a property attribute of the Employee class by adding a @property decorator before the email() method\n",
    "    @property        \n",
    "    def email(self):\n",
    "        return f\"{self.first}.{self.last}.@email.com\"\n",
    "\n",
    "    # GETTER\n",
    "    @property          \n",
    "    def fullname(self):\n",
    "        return f\"{self.first} {self.last}\"\n",
    "\n",
    "\n",
    "###########################################################################################\n",
    "\n",
    "emp1 = Employee(\"Avinash\", \"Mishra\")\n",
    "\n",
    "emp1.first = \"Aman\"\n",
    "\n",
    "emp1.fullname = \"Radha Kumari\"\n",
    "\n",
    "print(emp1.first)\n",
    "print(emp1.last)\n",
    "print(emp1.email)\n",
    "print(emp1.fullname)\n"
   ]
  },
  {
   "cell_type": "markdown",
   "metadata": {},
   "source": [
    "<br>\n",
    "\n",
    "<code style=\"background-color: white; color: red;\">Property Setter   ====>   <span style=\"background-color: #6CFDFF;\">&nbsp;@propertyname.setter&nbsp;</span></code>\n",
    "\n",
    "<br>"
   ]
  },
  {
   "cell_type": "code",
   "execution_count": 62,
   "metadata": {},
   "outputs": [
    {
     "name": "stdout",
     "output_type": "stream",
     "text": [
      "Radha\n",
      "Kumari\n",
      "Radha.Kumari.@email.com\n",
      "Radha Kumari\n"
     ]
    }
   ],
   "source": [
    "\n",
    "class Employee:\n",
    "\n",
    "    # CONSTRUCTOR\n",
    "    def __init__(self, first, last):\n",
    "        self.first = first\n",
    "        self.last = last\n",
    "\n",
    "    # GETTER\n",
    "    # making email a property attribute of the Employee class by adding a @property decorator before the email() method\n",
    "    @property        \n",
    "    def email(self):\n",
    "        return f\"{self.first}.{self.last}.@email.com\"\n",
    "\n",
    "    # GETTER\n",
    "    @property          \n",
    "    def fullname(self):\n",
    "        return f\"{self.first} {self.last}\"\n",
    "\n",
    "    # SETTER\n",
    "    @fullname.setter\n",
    "    def fullname(self, name):\n",
    "        first, last = name.split(\" \")\n",
    "        self.first = first\n",
    "        self.last = last\n",
    "\n",
    "\n",
    "###########################################################################################\n",
    "\n",
    "emp1 = Employee(\"Avinash\", \"Mishra\")\n",
    "\n",
    "emp1.first = \"Aman\"\n",
    "\n",
    "emp1.fullname = \"Radha Kumari\"     # setting (updating) the fullname\n",
    "\n",
    "print(emp1.first)\n",
    "print(emp1.last)\n",
    "print(emp1.email)                  # Output: Radha.Kumari.@email.com    =====>   Even the email value is set correctly\n",
    "print(emp1.fullname)\n"
   ]
  },
  {
   "cell_type": "markdown",
   "metadata": {},
   "source": [
    "<br>\n",
    "\n",
    "<code style=\"background-color: white; color: red;\">Property Deleter   ====>   <span style=\"background-color: #6CFDFF;\">&nbsp;@propertyname.deleter&nbsp;</span></code>\n",
    "\n",
    "<br>"
   ]
  },
  {
   "cell_type": "code",
   "execution_count": 56,
   "metadata": {},
   "outputs": [
    {
     "name": "stdout",
     "output_type": "stream",
     "text": [
      "Radha\n",
      "Kumari\n",
      "Radha.Kumari.@email.com\n",
      "Radha Kumari\n",
      "Radha Kumari is going to be deleted\n"
     ]
    }
   ],
   "source": [
    "\n",
    "class Employee:\n",
    "\n",
    "    # CONSTRUCTOR\n",
    "    def __init__(self, first, last):\n",
    "        self.first = first\n",
    "        self.last = last\n",
    "\n",
    "    # GETTER\n",
    "    # making email a property attribute of the Employee class by adding a @property decorator before the email() method\n",
    "    @property        \n",
    "    def email(self):\n",
    "        return f\"{self.first}.{self.last}.@email.com\"\n",
    "\n",
    "    # GETTER\n",
    "    @property          \n",
    "    def fullname(self):\n",
    "        return f\"{self.first} {self.last}\"\n",
    "\n",
    "    # SETTER\n",
    "    @fullname.setter\n",
    "    def fullname(self, name):\n",
    "        first, last = name.split(\" \")\n",
    "        self.first = first\n",
    "        self.last = last\n",
    "\n",
    "    # DELETER\n",
    "    @fullname.deleter\n",
    "    def fullname(self):\n",
    "        print(f\"{self.fullname} is going to be deleted\")\n",
    "        self.first = None\n",
    "        self.last = None\n",
    "\n",
    "\n",
    "###########################################################################################\n",
    "\n",
    "emp1 = Employee(\"Avinash\", \"Mishra\")\n",
    "\n",
    "emp1.first = \"Aman\"\n",
    "\n",
    "emp1.fullname = \"Radha Kumari\"     # setting (updating) the fullname\n",
    "\n",
    "print(emp1.first)\n",
    "print(emp1.last)\n",
    "print(emp1.email)\n",
    "print(emp1.fullname)\n",
    "\n",
    "del emp1.fullname\n"
   ]
  },
  {
   "cell_type": "code",
   "execution_count": 55,
   "metadata": {},
   "outputs": [
    {
     "name": "stdout",
     "output_type": "stream",
     "text": [
      "None\n",
      "None\n",
      "None.None.@email.com\n",
      "None None\n"
     ]
    }
   ],
   "source": [
    "\n",
    "print(emp1.first)\n",
    "print(emp1.last)\n",
    "print(emp1.email)\n",
    "print(emp1.fullname)\n"
   ]
  },
  {
   "cell_type": "markdown",
   "metadata": {},
   "source": [
    "<br>\n",
    "\n",
    "<code style=\"background-color: white; color: red;\">@property decorator is useful feature in Python because it allows you to access attributes without putting <u>getters</u> and <u>setters</u> everywhere.</code>\n",
    "\n",
    "People don't need to change their code because they will still be able to access all those attributes (now called property attributes)\n",
    "\n",
    "<br>"
   ]
  },
  {
   "cell_type": "markdown",
   "metadata": {},
   "source": [
    "\n",
    "The same can be done using &nbsp;<span style=\"background-color:yellow; color: black;\">&nbsp;property(&nbsp;)&nbsp;</span> &nbsp;method \n"
   ]
  },
  {
   "cell_type": "code",
   "execution_count": 63,
   "metadata": {},
   "outputs": [
    {
     "name": "stdout",
     "output_type": "stream",
     "text": [
      "Radha\n",
      "Kumari\n",
      "Radha.Kumari.@email.com\n",
      "Radha Kumari\n",
      "Radha Kumari is going to be deleted\n"
     ]
    }
   ],
   "source": [
    "\n",
    "class Employee:\n",
    "\n",
    "    # CONSTRUCTOR\n",
    "    def __init__(self, first, last):\n",
    "        self.first = first\n",
    "        self.last = last\n",
    "\n",
    "    # GETTER\n",
    "    # making email a property attribute of the Employee class by adding a @property decorator before the email() method\n",
    "    @property        \n",
    "    def email(self):\n",
    "        return f\"{self.first}.{self.last}.@email.com\"\n",
    "\n",
    "    # GETTER      \n",
    "    def get_fullname(self):\n",
    "        return f\"{self.first} {self.last}\"\n",
    "\n",
    "    # SETTER\n",
    "    def set_fullname(self, name):\n",
    "        first, last = name.split(\" \")\n",
    "        self.first = first\n",
    "        self.last = last\n",
    "    \n",
    "    # DELETER\n",
    "    def delete_fullname(self):\n",
    "        print(f\"{self.fullname} is going to be deleted\")\n",
    "        self.first = None\n",
    "        self.last = None\n",
    "\n",
    "    \n",
    "    fullname = property(get_fullname, set_fullname, delete_fullname, )\n",
    "\n",
    "###########################################################################################\n",
    "\n",
    "emp1 = Employee(\"Avinash\", \"Mishra\")\n",
    "\n",
    "emp1.first = \"Aman\"\n",
    "\n",
    "emp1.fullname = \"Radha Kumari\"     # setting (updating) the fullname\n",
    "\n",
    "print(emp1.first)\n",
    "print(emp1.last)\n",
    "print(emp1.email)\n",
    "print(emp1.fullname)\n",
    "\n",
    "del emp1.fullname\n"
   ]
  },
  {
   "cell_type": "code",
   "execution_count": null,
   "metadata": {},
   "outputs": [],
   "source": []
  },
  {
   "cell_type": "code",
   "execution_count": null,
   "metadata": {},
   "outputs": [],
   "source": []
  },
  {
   "cell_type": "code",
   "execution_count": null,
   "metadata": {},
   "outputs": [],
   "source": []
  },
  {
   "cell_type": "code",
   "execution_count": null,
   "metadata": {},
   "outputs": [],
   "source": []
  },
  {
   "cell_type": "code",
   "execution_count": null,
   "metadata": {},
   "outputs": [],
   "source": []
  },
  {
   "cell_type": "code",
   "execution_count": null,
   "metadata": {},
   "outputs": [],
   "source": []
  },
  {
   "cell_type": "code",
   "execution_count": null,
   "metadata": {},
   "outputs": [],
   "source": []
  },
  {
   "cell_type": "code",
   "execution_count": null,
   "metadata": {},
   "outputs": [],
   "source": []
  },
  {
   "cell_type": "code",
   "execution_count": null,
   "metadata": {},
   "outputs": [],
   "source": []
  },
  {
   "cell_type": "code",
   "execution_count": null,
   "metadata": {},
   "outputs": [],
   "source": []
  },
  {
   "cell_type": "code",
   "execution_count": null,
   "metadata": {},
   "outputs": [],
   "source": []
  },
  {
   "cell_type": "code",
   "execution_count": null,
   "metadata": {},
   "outputs": [],
   "source": []
  },
  {
   "cell_type": "markdown",
   "metadata": {},
   "source": [
    "<br>\n",
    "\n",
    "<span style=\"color: #DCBD10\">▬▬▬▬▬▬▬▬▬▬▬▬▬▬▬▬▬▬▬▬▬▬▬▬▬▬▬▬▬▬▬▬▬▬▬▬▬▬▬▬▬▬▬▬▬▬▬▬▬▬▬▬▬▬▬▬▬▬▬▬▬▬▬▬▬▬▬▬▬▬▬▬▬▬▬▬</span>\n",
    "\n",
    "#### OOPS &nbsp;concept &nbsp;by &nbsp;Telusko &nbsp;Youtube &nbsp;Channel"
   ]
  },
  {
   "cell_type": "markdown",
   "metadata": {},
   "source": [
    "Python is a functional language. <br>\n",
    "Python is also a purely OOPS based language because <span style=\"background-color: yellow;\">in Python everything is an object</span>. Everything we do, Everything we know.\n",
    "\n",
    "<br>\n",
    "\n",
    "The top **2** important components of an **object** are:\n",
    "1. <span style=\"color: red;\">Attributes</span> (<u>everything that object **knows**</u>)\n",
    "2. <span style=\"color: blue;\">Behaviour</span> &nbsp;also &nbsp;know &nbsp;as &nbsp;<span style=\"color: blue;\">functionalities</span> &nbsp;or&nbsp; <span style=\"color: blue;\">methods</span> &nbsp;(<u>everything that object **does**</u>)\n",
    " \n",
    "<pre>\n",
    "Note - An object does something based on what it knows. \n",
    "     - To know something, you should have data. To have data, you should have some space to store it somewhere. \n",
    "     - In order to have some space to store a data, you have to define a <span style=\"color: red;\">variable</span>\n",
    "     - In order to define and use a <span style=\"color: red;\">variable</span>, you have to use <span style=\"color: blue;\">methods</span>\n",
    "</pre>\n",
    "\n",
    "<br>\n",
    "\n",
    "<span style=\"background-color: yellow;\">OOPS concepts</span>&nbsp;&nbsp;:\n",
    "1.  &nbsp;object\n",
    "2.  &nbsp;class\n",
    "3. &nbsp;encapsulation\n",
    "4. &nbsp;abstraction\n",
    "5. &nbsp;polymorphism\n",
    "6. &nbsp;inheritance\n",
    "\n",
    "<br>\n",
    "\n",
    "Now why &nbsp;<span style=\"background-color: yellow;\">class</span>&nbsp; is important? &nbsp;&nbsp;====>&nbsp;&nbsp;because every &nbsp;<span style=\"background-color: yellow;\">object</span>&nbsp; must belong to a class.\n",
    "\n",
    "A &nbsp;<span style=\"background-color: yellow;\">class</span>&nbsp; is a <span style=\"color: red;\">**blueprint or form of an object**</span> which defines that object - what does it know and how does it behave?\n",
    "\n",
    "For exmaple - **Iphones** <br>\n",
    "&nbsp;&nbsp;&nbsp;&nbsp;&nbsp;&nbsp;&nbsp;&nbsp;&nbsp;&nbsp;&nbsp;&nbsp;&nbsp;&nbsp;&nbsp;&nbsp;&nbsp;&nbsp;&nbsp;&nbsp;&nbsp;&nbsp;&nbsp;Just like the <span style=\"color: blue;\">design of an Iphone is done **only once in the begining**</span> by the company **Apple**, irrespective of whether the mass-manufacturing is in China or India  <br>\n",
    "&nbsp;&nbsp;&nbsp;&nbsp;&nbsp;&nbsp;&nbsp;&nbsp;&nbsp;&nbsp;&nbsp;&nbsp;&nbsp;&nbsp;&nbsp;&nbsp;&nbsp;&nbsp;&nbsp;&nbsp;&nbsp;&nbsp;&nbsp;Similarly the &nbsp;<span style=\"background-color: yellow;\">class</span>&nbsp; of an &nbsp;<span style=\"background-color: yellow;\">object</span>&nbsp; is **defined only once in the begining**, then later on you can create any number of objects of that class with it's own data\n",
    "\n",
    "<br>\n",
    "\n",
    "&nbsp;<span style=\"background-color: yellow;\">class</span>&nbsp;&nbsp;&nbsp;&nbsp;&nbsp;&nbsp;===>&nbsp;&nbsp;&nbsp; <span style=\"background-color: #FFD3B5;\">Design</span>  <br>\n",
    "&nbsp;<span style=\"background-color: yellow;\">object</span>&nbsp;&nbsp;&nbsp;===>&nbsp;&nbsp;&nbsp; <span style=\"background-color: #FFD3B5;\">Instance</span> &nbsp;(real stuff of that class using which it was created)\n",
    "\n",
    "<pre>\n",
    "\n",
    "So while defining a <span style=\"background-color: yellow;\">class</span> (or making a design) of something (some object), we need to mention what are it's :\n",
    "    \n",
    "                <span style=\"color: red;\">attributes  ===>  variables</span>  &   <span style=\"color: blue;\">behavior  ===>  functions(methods)</span> \n",
    "    \n",
    "</pre>\n",
    "\n"
   ]
  },
  {
   "cell_type": "code",
   "execution_count": 26,
   "metadata": {},
   "outputs": [
    {
     "name": "stdout",
     "output_type": "stream",
     "text": [
      "<__main__.Computer object at 0x0000020751A4FF50>\n"
     ]
    }
   ],
   "source": [
    "\n",
    "class Computer:\n",
    "\n",
    "    def config(self):\n",
    "        print(\"i5\", \"16GB\", \"1TB\")\n",
    "\n",
    "\n",
    "comp1 = Computer()    # object comp1 of class Computer is created\n",
    "\n",
    "print(comp1)\n"
   ]
  },
  {
   "cell_type": "markdown",
   "metadata": {},
   "source": [
    "<br>\n",
    "\n",
    "<div style=\"margin-left: 100px;\">\n",
    "\n",
    "![](media/oops_1.PNG)\n",
    "    \n",
    "</div>\n",
    "\n",
    "<br>\n",
    "\n",
    "Let's verify the class of the object &nbsp;<code>comp1</code>&nbsp; using python built-in function &nbsp;<code style=\"background-color: #A4FFEC;\">type()</code>"
   ]
  },
  {
   "cell_type": "code",
   "execution_count": 25,
   "metadata": {},
   "outputs": [
    {
     "name": "stdout",
     "output_type": "stream",
     "text": [
      "<class '__main__.Computer'>\n",
      "<class 'int'>\n",
      "<class 'str'>\n"
     ]
    }
   ],
   "source": [
    "\n",
    "class Computer:\n",
    "\n",
    "    def config(self):                    # self  ====>  to establish the context as to which particular object of that class you are connecting with\n",
    "        print(\"i5\", \"16GB\", \"1TB\")\n",
    "\n",
    "\n",
    "comp1 = Computer()   # object comp1 of class Computer is created\n",
    "\n",
    "print(type(comp1))   # <class '__main__.Computer'>   ====>   comp1 belongs to Computer class of __main__ module\n",
    "                                                    \n",
    "\n",
    "# Similarly\n",
    "print(type(5))       # <class 'int'>                 ====>   similarly an integer 5 is also an object and it belongs to the in-built  int  class\n",
    "print(type(\"5\"))     # <class 'string'>              ====>   similarly a string \"5\" is also an object and it belongs to the in-built  str  class\n"
   ]
  },
  {
   "cell_type": "markdown",
   "metadata": {},
   "source": [
    "\n",
    "\n",
    "<code style=\"color: black;\">As we can see, the **difference** is simply that &nbsp;<u><i><span style=\"color: red;\">**Computer**</span> is our class</i></u> &nbsp;while&nbsp; <u><i><span style=\"color: red;\">**int**</span> and <span style=\"color: red;\">**str**</span> are python built-in class</i></u></code>\n",
    "\n",
    "<br>\n",
    "\n",
    "Now before understanding the &nbsp;<code style=\"background-color: yellow;\">self</code>&nbsp; keyword which is passed inside the &nbsp;<code style=\"color: blue;\">config()</code>&nbsp; method, let us first understand how to call this &nbsp;<code style=\"color: blue;\">config()</code>&nbsp; method from outside the class?\n"
   ]
  },
  {
   "cell_type": "code",
   "execution_count": 32,
   "metadata": {},
   "outputs": [
    {
     "ename": "NameError",
     "evalue": "name 'config' is not defined",
     "output_type": "error",
     "traceback": [
      "\u001b[1;31m---------------------------------------------------------------------------\u001b[0m",
      "\u001b[1;31mNameError\u001b[0m                                 Traceback (most recent call last)",
      "Cell \u001b[1;32mIn[32], line 9\u001b[0m\n\u001b[0;32m      4\u001b[0m         \u001b[38;5;28mprint\u001b[39m(\u001b[38;5;124m\"\u001b[39m\u001b[38;5;124mi5\u001b[39m\u001b[38;5;124m\"\u001b[39m, \u001b[38;5;124m\"\u001b[39m\u001b[38;5;124m16GB\u001b[39m\u001b[38;5;124m\"\u001b[39m, \u001b[38;5;124m\"\u001b[39m\u001b[38;5;124m1TB\u001b[39m\u001b[38;5;124m\"\u001b[39m)\n\u001b[0;32m      7\u001b[0m comp1 \u001b[38;5;241m=\u001b[39m Computer()        \u001b[38;5;66;03m#  object comp1 of class Computer is created\u001b[39;00m\n\u001b[1;32m----> 9\u001b[0m \u001b[43mconfig\u001b[49m()                  \u001b[38;5;66;03m#  NameError: name 'config' is not defined\u001b[39;00m\n",
      "\u001b[1;31mNameError\u001b[0m: name 'config' is not defined"
     ]
    }
   ],
   "source": [
    "\n",
    "class Computer:\n",
    "\n",
    "    def config(self):                    # self  ====>  to establish the context as to which particular object of that class you are connecting with\n",
    "        print(\"i5\", \"16GB\", \"1TB\")\n",
    "\n",
    "\n",
    "comp1 = Computer()        #  object comp1 of class Computer is created\n",
    "\n",
    "config()                  #  NameError: name 'config' is not defined\n"
   ]
  },
  {
   "cell_type": "markdown",
   "metadata": {},
   "source": [
    "<br>\n",
    "\n",
    "<pre style=\"background-color: #A4FFEC; color: black; padding: 10px;\">\n",
    "    \n",
    "Since <span style=\"color: red;\">2 different classes</span> can have <span style=\"color: red;\">a method with the same name</span> due to <span style=\"color: blue;\"><strong><u>polymorphism</u></strong></span>, we need to use <span style=\"color: black; background-color: yellow;\">&nbsp;Classname.method()&nbsp;</span> to access each of them.\n",
    "    \n",
    "However it is still not sufficient for it to work. You have to <span style=\"color: red;\">atleast pass an object in the argument</span> to specify which object of the class you want to call the method for     =====>     <span style=\"color: black; background-color: yellow;\">&nbsp;Classname.method(<span style=\"color: red;\">object</span>)&nbsp;</span>\n",
    "    \n",
    "</pre>\n",
    "\n",
    "<br>\n",
    "\n",
    "Let's verify it:"
   ]
  },
  {
   "cell_type": "code",
   "execution_count": 38,
   "metadata": {},
   "outputs": [
    {
     "ename": "TypeError",
     "evalue": "Computer.config() missing 1 required positional argument: 'self'",
     "output_type": "error",
     "traceback": [
      "\u001b[1;31m---------------------------------------------------------------------------\u001b[0m",
      "\u001b[1;31mTypeError\u001b[0m                                 Traceback (most recent call last)",
      "Cell \u001b[1;32mIn[38], line 9\u001b[0m\n\u001b[0;32m      4\u001b[0m         \u001b[38;5;28mprint\u001b[39m(\u001b[38;5;124m\"\u001b[39m\u001b[38;5;124mi5\u001b[39m\u001b[38;5;124m\"\u001b[39m, \u001b[38;5;124m\"\u001b[39m\u001b[38;5;124m16GB\u001b[39m\u001b[38;5;124m\"\u001b[39m, \u001b[38;5;124m\"\u001b[39m\u001b[38;5;124m1TB\u001b[39m\u001b[38;5;124m\"\u001b[39m)\n\u001b[0;32m      7\u001b[0m comp1 \u001b[38;5;241m=\u001b[39m Computer()                      \u001b[38;5;66;03m#  object comp1 of class Computer is created\u001b[39;00m\n\u001b[1;32m----> 9\u001b[0m \u001b[43mComputer\u001b[49m\u001b[38;5;241;43m.\u001b[39;49m\u001b[43mconfig\u001b[49m\u001b[43m(\u001b[49m\u001b[43m)\u001b[49m                       \u001b[38;5;66;03m#  TypeError: Computer.config() missing 1 required positional argument: 'self'\u001b[39;00m\n",
      "\u001b[1;31mTypeError\u001b[0m: Computer.config() missing 1 required positional argument: 'self'"
     ]
    }
   ],
   "source": [
    "\n",
    "class Computer:\n",
    "\n",
    "    def config(self):                    # self  ====>  to establish the context as to which particular object of that class you are connecting with\n",
    "        print(\"i5\", \"16GB\", \"1TB\")\n",
    "\n",
    "\n",
    "comp1 = Computer()                      #  object comp1 of class Computer is created\n",
    "\n",
    "Computer.config()                       #  TypeError: Computer.config() missing 1 required positional argument: 'self'\n"
   ]
  },
  {
   "cell_type": "code",
   "execution_count": 40,
   "metadata": {},
   "outputs": [
    {
     "name": "stdout",
     "output_type": "stream",
     "text": [
      "i5 16GB 1TB\n"
     ]
    }
   ],
   "source": [
    "\n",
    "class Computer:\n",
    "\n",
    "    def config(self):                   # self  ====>  to establish the context as to which particular object of that class you are connecting with\n",
    "        print(\"i5\", \"16GB\", \"1TB\")\n",
    "\n",
    "\n",
    "comp1 = Computer()                      #  object comp1 of class Computer is created\n",
    "\n",
    "Computer.config(comp1)                  #  Classname.method(object)    ====>    Output:  i5 16GB 1TB\n"
   ]
  },
  {
   "cell_type": "code",
   "execution_count": null,
   "metadata": {},
   "outputs": [],
   "source": []
  },
  {
   "cell_type": "code",
   "execution_count": null,
   "metadata": {},
   "outputs": [],
   "source": []
  },
  {
   "cell_type": "code",
   "execution_count": null,
   "metadata": {},
   "outputs": [],
   "source": []
  },
  {
   "cell_type": "code",
   "execution_count": null,
   "metadata": {},
   "outputs": [],
   "source": []
  },
  {
   "cell_type": "code",
   "execution_count": null,
   "metadata": {},
   "outputs": [],
   "source": []
  },
  {
   "cell_type": "code",
   "execution_count": null,
   "metadata": {},
   "outputs": [],
   "source": []
  },
  {
   "cell_type": "code",
   "execution_count": null,
   "metadata": {},
   "outputs": [],
   "source": []
  },
  {
   "cell_type": "markdown",
   "metadata": {},
   "source": [
    "<br>\n",
    "\n",
    "#### <span style=\"color: red;\">Inheritance</span>"
   ]
  },
  {
   "cell_type": "code",
   "execution_count": null,
   "metadata": {},
   "outputs": [],
   "source": []
  },
  {
   "cell_type": "code",
   "execution_count": null,
   "metadata": {},
   "outputs": [],
   "source": []
  },
  {
   "cell_type": "code",
   "execution_count": null,
   "metadata": {},
   "outputs": [],
   "source": []
  },
  {
   "cell_type": "code",
   "execution_count": null,
   "metadata": {},
   "outputs": [],
   "source": []
  },
  {
   "cell_type": "code",
   "execution_count": null,
   "metadata": {},
   "outputs": [],
   "source": []
  },
  {
   "cell_type": "markdown",
   "metadata": {},
   "source": [
    "<br>\n",
    "\n",
    "==> How Constructor behaves in Inheritance?   <br>\n",
    "==> How to use &nbsp;<span style=\"background-color: yellow;\">&nbsp;super( )&nbsp;</span> &nbsp;method in Inheritance?        <br>\n",
    "==>  Resolution Order\n",
    "\n",
    "<br>\n",
    "\n",
    "##### Constructor Inheritance"
   ]
  },
  {
   "cell_type": "code",
   "execution_count": 16,
   "metadata": {},
   "outputs": [
    {
     "name": "stdout",
     "output_type": "stream",
     "text": [
      "in A init\n"
     ]
    }
   ],
   "source": [
    "\n",
    "\n",
    "class A:\n",
    "\n",
    "    def __init__(self):\n",
    "        print(\"in A init\")\n",
    "    \n",
    "    def feature_a1(self):\n",
    "        print(\"feature a1 working\")\n",
    "\n",
    "    def feature_a2(self):\n",
    "        print(\"feature a2 working\")\n",
    "\n",
    "class B(A):\n",
    "\n",
    "    def feature_b1(self):\n",
    "        print(\"feature b1 working\")\n",
    "\n",
    "    def feature_b2(self):\n",
    "        print(\"feature b2 working\")\n",
    "\n",
    "    \n",
    "\n",
    "b = B()     # since b does not have it's own constructor, that's why it's going up to the constructor of it's parent class\n"
   ]
  },
  {
   "cell_type": "markdown",
   "metadata": {},
   "source": [
    "<br>\n",
    "\n",
    "<code style=\"color: red; background-color: white;\">But what if b has it's own constructor or __init__() method?</code>\n",
    "\n",
    "<code style=\"background-color: white;\">If you create an object of <span style=\"color: blue;\">Sub</span> Class, it will first try to find __init__() of <span style=\"color: blue;\">Sub</span> Class</code>  <br>\n",
    "<code style=\"background-color: white;\">And if it is not found, only then it will call __init__() of <span style=\"color: blue;\">Super</span> Class</code>\n",
    "\n",
    "<br>"
   ]
  },
  {
   "cell_type": "code",
   "execution_count": 7,
   "metadata": {},
   "outputs": [
    {
     "name": "stdout",
     "output_type": "stream",
     "text": [
      "in B init\n"
     ]
    }
   ],
   "source": [
    "\n",
    "class A:\n",
    "\n",
    "    def __init__(self):\n",
    "        print(\"in A init\")\n",
    "    \n",
    "    def feature_a1(self):\n",
    "        print(\"feature a1 working\")\n",
    "\n",
    "    def feature_a2(self):\n",
    "        print(\"feature a2 working\")\n",
    "\n",
    "\n",
    "class B(A):\n",
    "\n",
    "    def __init__(self):\n",
    "        print(\"in B init\")\n",
    "        \n",
    "    def feature_b1(self):\n",
    "        print(\"feature b1 working\")\n",
    "\n",
    "    def feature_b2(self):\n",
    "        print(\"feature b2 working\")\n",
    "\n",
    "\n",
    "b = B()        # since b has it's own constructor, that's why it calls it's own __init__ method and not going up to that of it's parent class\n"
   ]
  },
  {
   "cell_type": "markdown",
   "metadata": {},
   "source": [
    "<br>\n",
    "\n",
    "<code style=\"color: red; background-color: white;\">What if you want to access constructor of your parent class too even if you have your constructor?</code>   ====> For that you use &nbsp;<span style=\"background-color: yellow;\">&nbsp;super( )&nbsp;</span>&nbsp; method\n",
    "\n",
    "<br>"
   ]
  },
  {
   "cell_type": "code",
   "execution_count": 8,
   "metadata": {},
   "outputs": [
    {
     "name": "stdout",
     "output_type": "stream",
     "text": [
      "in A init\n",
      "in B init\n"
     ]
    }
   ],
   "source": [
    "\n",
    "class A:\n",
    "\n",
    "    def __init__(self):\n",
    "        print(\"in A init\")\n",
    "    \n",
    "    def feature_a1(self):\n",
    "        print(\"feature a1 working\")\n",
    "\n",
    "    def feature_a2(self):\n",
    "        print(\"feature a2 working\")\n",
    "\n",
    "\n",
    "class B(A):\n",
    "\n",
    "    def __init__(self):\n",
    "        super().__init__()\n",
    "        print(\"in B init\")\n",
    "        \n",
    "    def feature_b1(self):\n",
    "        print(\"feature b1 working\")\n",
    "\n",
    "    def feature_b2(self):\n",
    "        print(\"feature b2 working\")\n",
    "\n",
    "\n",
    "b = B()\n"
   ]
  },
  {
   "cell_type": "code",
   "execution_count": 9,
   "metadata": {},
   "outputs": [
    {
     "name": "stdout",
     "output_type": "stream",
     "text": [
      "in B init\n",
      "in A init\n"
     ]
    }
   ],
   "source": [
    "\n",
    "class A:\n",
    "\n",
    "    def __init__(self):\n",
    "        print(\"in A init\")\n",
    "    \n",
    "    def feature_a1(self):\n",
    "        print(\"feature a1 working\")\n",
    "\n",
    "    def feature_a2(self):\n",
    "        print(\"feature a2 working\")\n",
    "\n",
    "\n",
    "class B(A):\n",
    "\n",
    "    def __init__(self):\n",
    "        print(\"in B init\")\n",
    "        super().__init__()\n",
    "        \n",
    "    def feature_b1(self):\n",
    "        print(\"feature b1 working\")\n",
    "\n",
    "    def feature_b2(self):\n",
    "        print(\"feature b2 working\")\n",
    "\n",
    "\n",
    "b = B()\n"
   ]
  },
  {
   "cell_type": "markdown",
   "metadata": {},
   "source": [
    "<br>\n",
    "\n",
    "Now let's see how a constructor is inherited in **Muti-level Inheritance**"
   ]
  },
  {
   "cell_type": "code",
   "execution_count": 12,
   "metadata": {},
   "outputs": [
    {
     "name": "stdout",
     "output_type": "stream",
     "text": [
      "in C init\n"
     ]
    }
   ],
   "source": [
    "\n",
    "class A:\n",
    "\n",
    "    def __init__(self):\n",
    "        print(\"in A init\")\n",
    "    \n",
    "    def feature_a1(self):\n",
    "        print(\"feature a1 working\")\n",
    "\n",
    "    def feature_a2(self):\n",
    "        print(\"feature a2 working\")\n",
    "\n",
    "\n",
    "class B:\n",
    "\n",
    "    def __init__(self):\n",
    "        print(\"in B init\")\n",
    "        super().__init__()\n",
    "        \n",
    "    def feature_b1(self):\n",
    "        print(\"feature b1 working\")\n",
    "\n",
    "    def feature_b2(self):\n",
    "        print(\"feature b2 working\")\n",
    "\n",
    "\n",
    "class C(A, B):\n",
    "\n",
    "    def __init__(self):\n",
    "        print(\"in C init\")\n",
    "\n",
    "\n",
    "c = C()\n"
   ]
  },
  {
   "cell_type": "markdown",
   "metadata": {},
   "source": [
    "<br>\n",
    "\n",
    "Let's now use **super( )** in C class and see &nbsp;<code>\\_\\_init__</code>&nbsp; of which parent class would it call? "
   ]
  },
  {
   "cell_type": "code",
   "execution_count": 15,
   "metadata": {},
   "outputs": [
    {
     "name": "stdout",
     "output_type": "stream",
     "text": [
      "in A init\n",
      "in C init\n"
     ]
    }
   ],
   "source": [
    "\n",
    "class A:\n",
    "\n",
    "    def __init__(self):\n",
    "        print(\"in A init\")\n",
    "    \n",
    "    def feature_a1(self):\n",
    "        print(\"feature a1 working\")\n",
    "\n",
    "    def feature_a2(self):\n",
    "        print(\"feature a2 working\")\n",
    "\n",
    "\n",
    "class B:\n",
    "\n",
    "    def __init__(self):\n",
    "        print(\"in B init\")\n",
    "        super().__init__()\n",
    "        \n",
    "    def feature_b1(self):\n",
    "        print(\"feature b1 working\")\n",
    "\n",
    "    def feature_b2(self):\n",
    "        print(\"feature b2 working\")\n",
    "\n",
    "\n",
    "class C(A, B):\n",
    "\n",
    "    def __init__(self):\n",
    "        super().__init__()       # it's calling the __init__ of super class A not B   ====> How to alter this bias?   ===> Method Resolution Order\n",
    "        print(\"in C init\")\n",
    "\n",
    "\n",
    "c = C()\n"
   ]
  },
  {
   "cell_type": "markdown",
   "metadata": {},
   "source": [
    "<br>\n",
    "\n",
    "So whenever you have **Multiple Inheritance**, <span style=\"background-color: yellow;\">super( )</span> always starts from <u>Left to Right</u>. It's called <span style=\"color: blue;\">**Method Resolution Order**</span>\n",
    "\n",
    "Not only <span style=\"background-color: yellow;\">__init__</span> method, but regular method calls using object will also follow the same <u>Left to Right</u> Order.\n",
    "\n",
    "Let's verify by changing the feature names to same in both the super classes A and B\n"
   ]
  },
  {
   "cell_type": "code",
   "execution_count": 25,
   "metadata": {},
   "outputs": [
    {
     "name": "stdout",
     "output_type": "stream",
     "text": [
      "in A init\n",
      "in C init\n",
      "feature a1 working\n"
     ]
    }
   ],
   "source": [
    "\n",
    "class A:\n",
    "\n",
    "    def __init__(self):\n",
    "        print(\"in A init\")\n",
    "    \n",
    "    def feature_1(self):\n",
    "        print(\"feature a1 working\")\n",
    "\n",
    "    def feature_2(self):\n",
    "        print(\"feature a2 working\")\n",
    "\n",
    "\n",
    "class B:\n",
    "\n",
    "    def __init__(self):\n",
    "        print(\"in B init\")\n",
    "        super().__init__()\n",
    "        \n",
    "    def feature_1(self):\n",
    "        print(\"feature b1 working\")\n",
    "\n",
    "    def feature_2(self):\n",
    "        print(\"feature b2 working\")\n",
    "\n",
    "\n",
    "class C(A, B):\n",
    "\n",
    "    def __init__(self):\n",
    "        super().__init__()      # it's calling the __init__ of super class A not B   ===> Method Resolution Order\n",
    "        print(\"in C init\")\n",
    "\n",
    "\n",
    "c = C()\n",
    "c.feature_1()     # although the name feature_1() is same for both A & B, it calls the feature_1() of A not B ===> Method Resolution Order\n"
   ]
  },
  {
   "cell_type": "markdown",
   "metadata": {},
   "source": [
    "<br>\n",
    "\n",
    "Now let's see besides **__init__( )** method, can we call other methods too using <span style=\"background-color: yellow;\">super( )</span> keyword <span style=\"color: red;\">and if yes, will it also follow **Method Resolution Order**?</span>\n",
    "\n",
    "<br>"
   ]
  },
  {
   "cell_type": "code",
   "execution_count": 100,
   "metadata": {},
   "outputs": [
    {
     "name": "stdout",
     "output_type": "stream",
     "text": [
      "in A init\n",
      "feature a1 working\n",
      "in C init\n",
      "feature a1 working\n"
     ]
    }
   ],
   "source": [
    "\n",
    "class A:\n",
    "\n",
    "    def __init__(self):\n",
    "        print(\"in A init\")\n",
    "    \n",
    "    def feature_1(self):\n",
    "        print(\"feature a1 working\")\n",
    "\n",
    "    def feature_2(self):\n",
    "        print(\"feature a2 working\")\n",
    "\n",
    "\n",
    "class B:\n",
    "\n",
    "    def __init__(self):\n",
    "        print(\"in B init\")\n",
    "        super().__init__()\n",
    "        \n",
    "    def feature_1(self):\n",
    "        print(\"feature b1 working\")\n",
    "\n",
    "    def feature_2(self):\n",
    "        print(\"feature b2 working\")\n",
    "\n",
    "\n",
    "class C(A, B):     \n",
    "\n",
    "    def __init__(self):\n",
    "        super().__init__()      # it's calling the __init__ of super class A not B   ===>   Method Resolution Order\n",
    "        super().feature_1()     # although the name feature_1() is same for both A & B, it calls the feature_1() of A not B   ===>   Method Resolution Order\n",
    "        print(\"in C init\")\n",
    "\n",
    "\n",
    "c = C()\n",
    "c.feature_1()     # although the name feature_1() is same for both A & B, it calls the feature_1() of A not B ===> Method Resolution Order\n"
   ]
  },
  {
   "cell_type": "markdown",
   "metadata": {},
   "source": [
    "<br>\n",
    "\n",
    "<u>Observation :</u>  &nbsp;&nbsp;&nbsp;&nbsp; <code>super().feature_1()</code>&nbsp; &nbsp;<span style=\"color: red;\"><font size=\"+1\">**=**</font></span>&nbsp; &nbsp;<code>A.feature_1()</code>&nbsp; &nbsp;<span style=\"color: red;\"><font size=\"+1\">**!=**</font></span>&nbsp; &nbsp;<code>B.feature_1()</code> &nbsp;because &nbsp;in &nbsp;<code>class(A, B)</code>&nbsp; <span style=\"color: blue;\">**A**</span> is &nbsp;left &nbsp;of&nbsp; <span style=\"color: blue;\">**B**</span> &nbsp;====> &nbsp;so &nbsp;<span style=\"color: blue;\">**A**</span> &nbsp;takes &nbsp;precedence"
   ]
  },
  {
   "cell_type": "markdown",
   "metadata": {},
   "source": [
    "<br>\n",
    "\n",
    "#### <span style=\"color: red;\">Polymorphism</span>\n",
    "\n",
    "Many Forms  &nbsp;===>&nbsp; Behaving differently at different places\n",
    "\n",
    "<br>\n",
    "\n",
    "**Types of Polymorphism in Python**\n",
    "1. Duck Typing\n",
    "2. Operator Overloading\n",
    "3. Method Overloading\n",
    "4. Method Overroading\n",
    "\n",
    "<br>\n",
    "\n",
    "<span style=\"color: blue;\">**Duck &nbsp;Typing**</span>   (little bit similar to intefaces in Java)\n",
    "\n",
    "<div style=\" margin-left: 50px;\">\n",
    "\n",
    "**<u>Duck Test</u>** &nbsp;: &nbsp;&nbsp;If it looks like a duck, swims like a duck and quacks like a duck, then it is probably a duck\n",
    "\n",
    "Dynamic Typing  &nbsp;===>&nbsp; Whenever we assign a variable to an object, it is just a name to the address of that object. <br>\n",
    "&nbsp;&nbsp;&nbsp;&nbsp;&nbsp;&nbsp;&nbsp;&nbsp;&nbsp;&nbsp;&nbsp;&nbsp;&nbsp;&nbsp;&nbsp;&nbsp;&nbsp;&nbsp;&nbsp;&nbsp;&nbsp;&nbsp;&nbsp;&nbsp;&nbsp;&nbsp;&nbsp;&nbsp;&nbsp;&nbsp;&nbsp;&nbsp;&nbsp;&nbsp;&nbsp;&nbsp;&nbsp;&nbsp;&nbsp;&nbsp;In Python every thing is an object. <br>\n",
    "&nbsp;&nbsp;&nbsp;&nbsp;&nbsp;&nbsp;&nbsp;&nbsp;&nbsp;&nbsp;&nbsp;&nbsp;&nbsp;&nbsp;&nbsp;&nbsp;&nbsp;&nbsp;&nbsp;&nbsp;&nbsp;&nbsp;&nbsp;&nbsp;&nbsp;&nbsp;&nbsp;&nbsp;&nbsp;&nbsp;&nbsp;&nbsp;&nbsp;&nbsp;&nbsp;&nbsp;&nbsp;&nbsp;&nbsp;&nbsp;Even a data is an object, so &nbsp;**data type**&nbsp; is also an &nbsp;**object type**&nbsp; basically. <br>\n",
    "&nbsp;&nbsp;&nbsp;&nbsp;&nbsp;&nbsp;&nbsp;&nbsp;&nbsp;&nbsp;&nbsp;&nbsp;&nbsp;&nbsp;&nbsp;&nbsp;&nbsp;&nbsp;&nbsp;&nbsp;&nbsp;&nbsp;&nbsp;&nbsp;&nbsp;&nbsp;&nbsp;&nbsp;&nbsp;&nbsp;&nbsp;&nbsp;&nbsp;&nbsp;&nbsp;&nbsp;&nbsp;&nbsp;&nbsp;&nbsp;Python Interpreter dynamically knows what will be the datatype or object type of a given data\n",
    "    \n",
    "</div>\n",
    "\n",
    "\n",
    "\n"
   ]
  },
  {
   "cell_type": "code",
   "execution_count": 38,
   "metadata": {},
   "outputs": [
    {
     "name": "stdout",
     "output_type": "stream",
     "text": [
      "id = 140719780651944\n",
      "type is <class 'int'>\n"
     ]
    }
   ],
   "source": [
    "\n",
    "x = 5\n",
    "print(f\"id = {id(x)}\")\n",
    "print(f\"type is {type(x)}\")\n"
   ]
  },
  {
   "cell_type": "code",
   "execution_count": 39,
   "metadata": {},
   "outputs": [
    {
     "name": "stdout",
     "output_type": "stream",
     "text": [
      "id = 2539318246000\n",
      "type is <class 'str'>\n"
     ]
    }
   ],
   "source": [
    "\n",
    "x = \"Avinash\"\n",
    "print(f\"id = {id(x)}\")\n",
    "print(f\"type is {type(x)}\")\n"
   ]
  },
  {
   "cell_type": "code",
   "execution_count": 45,
   "metadata": {},
   "outputs": [
    {
     "name": "stdout",
     "output_type": "stream",
     "text": [
      "Compiling\n",
      "Running\n"
     ]
    }
   ],
   "source": [
    "\n",
    "class PyCharm:\n",
    "\n",
    "    def execute(self):\n",
    "        print(\"Compiling\")\n",
    "        print(\"Running\")\n",
    "\n",
    "class Laptop:\n",
    "\n",
    "    def code(self, ide):\n",
    "        ide.execute()\n",
    "\n",
    "\n",
    "\n",
    "ide = PyCharm()\n",
    "\n",
    "lap1 = Laptop()\n",
    "\n",
    "lap1.code(ide)\n"
   ]
  },
  {
   "cell_type": "markdown",
   "metadata": {},
   "source": [
    "<br>\n",
    "\n",
    "Here &nbsp;ide &nbsp;is &nbsp;of <u>PyCharm</u> type. &nbsp;But is &nbsp;<code>ide</code>&nbsp; type fixed? &nbsp;Certainly &nbsp;**Not!**, because it's <span style=\"color: red;\">dynamic typing</span>\n",
    "\n",
    "<br>"
   ]
  },
  {
   "cell_type": "code",
   "execution_count": 57,
   "metadata": {},
   "outputs": [
    {
     "name": "stdout",
     "output_type": "stream",
     "text": [
      "Spell Check\n",
      "Convention Check\n",
      "Compiling\n",
      "Running\n"
     ]
    }
   ],
   "source": [
    "\n",
    "class PyCharm:\n",
    "\n",
    "    def execute(self):\n",
    "        print(\"Compiling\")\n",
    "        print(\"Running\")\n",
    "\n",
    "# My Ide does extra stuff\n",
    "class MyEditor:\n",
    "\n",
    "    def execute(self):\n",
    "        print(\"Spell Check\")\n",
    "        print(\"Convention Check\")\n",
    "        print(\"Compiling\")\n",
    "        print(\"Running\")        \n",
    "\n",
    "\n",
    "class Laptop:\n",
    "\n",
    "    def code(self, ide):\n",
    "        ide.execute()\n",
    "\n",
    "\n",
    "\n",
    "# ide = PyCharm()\n",
    "ide = MyEditor()     # If an object ide has the execute() method, it'll work. We are not concerned about which class object ide is.  ====>  If.....duck\n",
    "\n",
    "lap1 = Laptop()\n",
    "\n",
    "lap1.code(ide)\n"
   ]
  },
  {
   "cell_type": "markdown",
   "metadata": {},
   "source": [
    "<br>\n",
    "\n",
    "<span style=\"color: blue;\">**Operator Overloading**</span> in Python and Polymorphism\n",
    "\n",
    "Overloading - same method name but arguments are different"
   ]
  },
  {
   "cell_type": "code",
   "execution_count": 59,
   "metadata": {},
   "outputs": [
    {
     "data": {
      "text/plain": [
       "11"
      ]
     },
     "execution_count": 59,
     "metadata": {},
     "output_type": "execute_result"
    }
   ],
   "source": [
    "a = 5\n",
    "b = 6\n",
    "a + b"
   ]
  },
  {
   "cell_type": "code",
   "execution_count": 64,
   "metadata": {},
   "outputs": [
    {
     "data": {
      "text/plain": [
       "'HelloWorld'"
      ]
     },
     "execution_count": 64,
     "metadata": {},
     "output_type": "execute_result"
    }
   ],
   "source": [
    "a = \"Hello\"\n",
    "b = \"World\"\n",
    "a + b"
   ]
  },
  {
   "cell_type": "code",
   "execution_count": 65,
   "metadata": {},
   "outputs": [
    {
     "ename": "TypeError",
     "evalue": "unsupported operand type(s) for +: 'int' and 'str'",
     "output_type": "error",
     "traceback": [
      "\u001b[1;31m---------------------------------------------------------------------------\u001b[0m",
      "\u001b[1;31mTypeError\u001b[0m                                 Traceback (most recent call last)",
      "Cell \u001b[1;32mIn[65], line 3\u001b[0m\n\u001b[0;32m      1\u001b[0m a \u001b[38;5;241m=\u001b[39m \u001b[38;5;241m5\u001b[39m\n\u001b[0;32m      2\u001b[0m b \u001b[38;5;241m=\u001b[39m \u001b[38;5;124m\"\u001b[39m\u001b[38;5;124mWorld\u001b[39m\u001b[38;5;124m\"\u001b[39m\n\u001b[1;32m----> 3\u001b[0m \u001b[43ma\u001b[49m\u001b[43m \u001b[49m\u001b[38;5;241;43m+\u001b[39;49m\u001b[43m \u001b[49m\u001b[43mb\u001b[49m\n",
      "\u001b[1;31mTypeError\u001b[0m: unsupported operand type(s) for +: 'int' and 'str'"
     ]
    }
   ],
   "source": [
    "a = 5\n",
    "b = \"World\"\n",
    "a + b"
   ]
  },
  {
   "cell_type": "markdown",
   "metadata": {},
   "source": [
    "<br>\n",
    "\n",
    "What can be added and what not, all these things are simplified for the coder. Thesse are called **<span style=\"color: blue;\">Synthetic Sugar</span>**.\n",
    "\n",
    "But **behind the scenes**, things are not simple as we know whatever happens in Python, happens using objects.\n",
    "\n",
    "<u>Add 2 integers</u>"
   ]
  },
  {
   "cell_type": "code",
   "execution_count": 75,
   "metadata": {},
   "outputs": [
    {
     "name": "stdout",
     "output_type": "stream",
     "text": [
      "11\n",
      "11\n"
     ]
    }
   ],
   "source": [
    "\n",
    "a = 5\n",
    "b = 6\n",
    "\n",
    "print(a + b)\n",
    "\n",
    "print(int.__add__(a , b))       # a + b   ====>   int.__add__(a, b)\n"
   ]
  },
  {
   "cell_type": "markdown",
   "metadata": {},
   "source": [
    "<br>\n",
    "\n",
    "<u>Add 2 strings</u>"
   ]
  },
  {
   "cell_type": "code",
   "execution_count": 76,
   "metadata": {},
   "outputs": [
    {
     "data": {
      "text/plain": [
       "'56'"
      ]
     },
     "execution_count": 76,
     "metadata": {},
     "output_type": "execute_result"
    }
   ],
   "source": [
    "\n",
    "a = \"5\"\n",
    "b = \"6\"\n",
    "\n",
    "a + b\n"
   ]
  },
  {
   "cell_type": "code",
   "execution_count": 77,
   "metadata": {},
   "outputs": [
    {
     "data": {
      "text/plain": [
       "'56'"
      ]
     },
     "execution_count": 77,
     "metadata": {},
     "output_type": "execute_result"
    }
   ],
   "source": [
    "\n",
    "str.__add__(a , b)     # str class also has __add__ method in it\n"
   ]
  },
  {
   "cell_type": "markdown",
   "metadata": {},
   "source": [
    "<br>\n",
    "\n",
    "The moment you use &nbsp;<code>+</code> operator, it calls &nbsp;<code style=\"color: red;\">\\_\\_add__()</code> &nbsp;method.\n",
    "\n",
    "Similarly, the moment you use &nbsp;<code>-</code> operator, it calls &nbsp;<code style=\"color: red;\">\\_\\_sub__()</code> &nbsp;method.\n",
    "\n",
    "And &nbsp;<code>*</code> operator calls &nbsp;<code style=\"color: red;\">\\_\\_mul__()</code> &nbsp;method.\n",
    "\n",
    "These methods are called &nbsp;<span style=\"background-color: yellow;\">magic &nbsp;methods</span>\n",
    "\n",
    "| OPERATORS | Magic Methods |\n",
    "|-----------|---------------|\n",
    "|   +       |   \\_\\_add__(self, other)   |\n",
    "|   -       |   \\_\\_sub__(self, other)   |\n",
    "|   *       |   \\_\\_mul__(self, other)   |\n",
    "|   \\       |   \\_\\_div__(self, other)   |\n",
    "|   <       |   \\_\\_lt__(self, other)    |\n",
    "|   >       |   \\_\\_gt__(self, other)    |\n",
    "|   >=      |   \\_\\_ge__(self, other)    |\n",
    "\n",
    "\n",
    "So all these &nbsp;<span style=\"color: blue;\">operators</span>&nbsp; behind the scenes, they work like &nbsp;<span style=\"color: blue;\">methods</span>&nbsp;\n",
    "\n",
    "=================================================================================\n",
    "\n",
    "Now let's understand **operator overloading** &nbsp;using &nbsp;<code>+</code>&nbsp; operator"
   ]
  },
  {
   "cell_type": "code",
   "execution_count": 96,
   "metadata": {},
   "outputs": [
    {
     "ename": "TypeError",
     "evalue": "unsupported operand type(s) for +: 'Student' and 'Student'",
     "output_type": "error",
     "traceback": [
      "\u001b[1;31m---------------------------------------------------------------------------\u001b[0m",
      "\u001b[1;31mTypeError\u001b[0m                                 Traceback (most recent call last)",
      "Cell \u001b[1;32mIn[96], line 11\u001b[0m\n\u001b[0;32m      8\u001b[0m s1 \u001b[38;5;241m=\u001b[39m Student(\u001b[38;5;241m20\u001b[39m, \u001b[38;5;241m50\u001b[39m)\n\u001b[0;32m      9\u001b[0m s2 \u001b[38;5;241m=\u001b[39m Student(\u001b[38;5;241m60\u001b[39m, \u001b[38;5;241m40\u001b[39m)\n\u001b[1;32m---> 11\u001b[0m s3 \u001b[38;5;241m=\u001b[39m \u001b[43ms1\u001b[49m\u001b[43m \u001b[49m\u001b[38;5;241;43m+\u001b[39;49m\u001b[43m \u001b[49m\u001b[43ms2\u001b[49m    \u001b[38;5;66;03m# gives error, rightly so because how will interpreter know what to do when you try to add s1 + s2 because you have not defined it\u001b[39;00m\n\u001b[0;32m     12\u001b[0m                 \u001b[38;5;66;03m# int knows what is +, str knows what is +, but your Student class does not know what is +, therefore you have to define it\u001b[39;00m\n",
      "\u001b[1;31mTypeError\u001b[0m: unsupported operand type(s) for +: 'Student' and 'Student'"
     ]
    }
   ],
   "source": [
    "\n",
    "class Student:\n",
    "\n",
    "    def __init__(self, m1, m2):\n",
    "        self.m1 = m1\n",
    "        self.m2 = m2\n",
    "\n",
    "\n",
    "s1 = Student(20, 50)\n",
    "s2 = Student(60, 40)\n",
    "\n",
    "s3 = s1 + s2    # gives error, rightly so because how will interpreter know what to do when you try to add s1 + s2 because you have not defined it\n",
    "                # int knows what is +, str knows what is +, but your Student class does not know what is +, therefore you have to define it\n"
   ]
  },
  {
   "cell_type": "markdown",
   "metadata": {},
   "source": [
    "<br>\n",
    "\n",
    "Let's define what we want to do or how we want to add s1 and s2:\n",
    "\n",
    "<pre>\n",
    "\n",
    "We want:       s1.m1                s1.m2\n",
    "             + s2.m1              + s2.m2\n",
    "           ------------        --------------  \n",
    "               s3.m1                s3.m2\n",
    "           ------------        --------------\n",
    "    \n",
    "</pre>\n",
    "\n"
   ]
  },
  {
   "cell_type": "code",
   "execution_count": 109,
   "metadata": {},
   "outputs": [
    {
     "name": "stdout",
     "output_type": "stream",
     "text": [
      "<__main__.Student object at 0x0000024F3B77C250>\n",
      "80\n",
      "90\n"
     ]
    }
   ],
   "source": [
    "\n",
    "class Student:\n",
    "\n",
    "    def __init__(self, m1, m2):\n",
    "        self.m1 = m1\n",
    "        self.m2 = m2\n",
    "\n",
    "    # METHOD OVERLOADING of + operator in case of  (class + class)\n",
    "    def __add__(self, other):           # Note - we can't use othe names except \"add\" to overload the + operator\n",
    "        m1 = self.m1 + other.m1\n",
    "        m2 = self.m2 + other.m2\n",
    "        \n",
    "        s3 = Student(m1 , m2)\n",
    "\n",
    "        return s3\n",
    "\n",
    "\n",
    "s1 = Student(20, 50)\n",
    "s2 = Student(60, 40)\n",
    "\n",
    "s3 = s1 + s2    # Student.__add__(s1, s2)\n",
    "\n",
    "print(s3)\n",
    "print(s3.m1)\n",
    "print(s3.m2)\n"
   ]
  },
  {
   "cell_type": "markdown",
   "metadata": {},
   "source": [
    "<br>\n",
    "\n",
    "Let's take another example to understand **operator overloading** &nbsp;using &nbsp;<code>comparison</code>&nbsp; operator"
   ]
  },
  {
   "cell_type": "code",
   "execution_count": 108,
   "metadata": {},
   "outputs": [
    {
     "ename": "TypeError",
     "evalue": "'>' not supported between instances of 'Student' and 'Student'",
     "output_type": "error",
     "traceback": [
      "\u001b[1;31m---------------------------------------------------------------------------\u001b[0m",
      "\u001b[1;31mTypeError\u001b[0m                                 Traceback (most recent call last)",
      "Cell \u001b[1;32mIn[108], line 24\u001b[0m\n\u001b[0;32m     18\u001b[0m s2 \u001b[38;5;241m=\u001b[39m Student(\u001b[38;5;241m60\u001b[39m, \u001b[38;5;241m40\u001b[39m)\n\u001b[0;32m     21\u001b[0m s3 \u001b[38;5;241m=\u001b[39m s1 \u001b[38;5;241m+\u001b[39m s2    \u001b[38;5;66;03m# Student.__add__(s1, s2)\u001b[39;00m\n\u001b[1;32m---> 24\u001b[0m \u001b[38;5;28;01mif\u001b[39;00m \u001b[43ms1\u001b[49m\u001b[43m \u001b[49m\u001b[38;5;241;43m>\u001b[39;49m\u001b[43m \u001b[49m\u001b[43ms2\u001b[49m:              \u001b[38;5;66;03m# TypeError: '>' not supported between instances of 'Student' and 'Student'   ===>   we have to define what we mean by s1 > s2\u001b[39;00m\n\u001b[0;32m     25\u001b[0m     \u001b[38;5;28mprint\u001b[39m(\u001b[38;5;124m\"\u001b[39m\u001b[38;5;124ms1 wins\u001b[39m\u001b[38;5;124m\"\u001b[39m)\n\u001b[0;32m     26\u001b[0m \u001b[38;5;28;01melse\u001b[39;00m:\n",
      "\u001b[1;31mTypeError\u001b[0m: '>' not supported between instances of 'Student' and 'Student'"
     ]
    }
   ],
   "source": [
    "\n",
    "class Student:\n",
    "\n",
    "    def __init__(self, m1, m2):\n",
    "        self.m1 = m1\n",
    "        self.m2 = m2\n",
    "\n",
    "    # METHOD OVERLOADING of + operator in case of  (class + class)\n",
    "    def __add__(self, other):         # Note - we can't use othe names except \"add\" to overload the + operator\n",
    "        m1 = self.m1 + other.m1\n",
    "        m2 = self.m2 + other.m2\n",
    "        \n",
    "        s3 = Student(m1 , m2)\n",
    "\n",
    "        return s3\n",
    "\n",
    "\n",
    "s1 = Student(20, 50)\n",
    "s2 = Student(60, 40)\n",
    "\n",
    "\n",
    "s3 = s1 + s2    # Student.__add__(s1, s2)\n",
    "\n",
    "\n",
    "if s1 > s2:              # TypeError: '>' not supported between instances of 'Student' and 'Student'   ===>   we have to define what we mean by s1 > s2\n",
    "    print(\"s1 wins\")\n",
    "else:\n",
    "    print(\"s2 wins\")\n",
    "\n",
    "\n",
    "print(s3)\n",
    "print(s3.m1)\n",
    "print(s3.m2)\n"
   ]
  },
  {
   "cell_type": "markdown",
   "metadata": {},
   "source": [
    "<br>\n",
    "\n",
    "<span style=\"color: red;\">The interpreter is rightly giving the error because how will it know that we want to compare exactly which 2 values.</span>\n",
    "\n",
    "So let's define it."
   ]
  },
  {
   "cell_type": "code",
   "execution_count": 114,
   "metadata": {},
   "outputs": [
    {
     "name": "stdout",
     "output_type": "stream",
     "text": [
      "s2 wins\n"
     ]
    }
   ],
   "source": [
    "\n",
    "class Student:\n",
    "\n",
    "    def __init__(self, m1, m2):\n",
    "        self.m1 = m1\n",
    "        self.m2 = m2\n",
    "\n",
    "    # OVERLOADING of + operator in case of  (class + class)\n",
    "    def __add__(self, other):        # Note - we can't use other names except \"add\" to overload the + operator\n",
    "        m1 = self.m1 + other.m1\n",
    "        m2 = self.m2 + other.m2\n",
    "        \n",
    "        s3 = Student(m1 , m2)\n",
    "\n",
    "        return s3\n",
    "\n",
    "    # OVERLOADING of > operator in case of  (class > class)\n",
    "    def __gt__(self, other):          # Note - we can't use other names except \"gt\" to overload the > (greater than) operator\n",
    "        total_marks_of_s1 = self.m1 + self.m2\n",
    "        total_marks_of_s2 = other.m1 + other.m2\n",
    "\n",
    "        if total_marks_of_s1 > total_marks_of_s2:\n",
    "            return True\n",
    "        else:\n",
    "            return False\n",
    "\n",
    "\n",
    "\n",
    "s1 = Student(20, 50)\n",
    "s2 = Student(60, 40)\n",
    "\n",
    "\n",
    "s3 = s1 + s2    # Student.__add__(s1, s2)\n",
    "\n",
    "\n",
    "if s1 > s2:              # TypeError: '>' not supported between instances of 'Student' and 'Student'   ===>   we have to define what we mean by s1 > s2\n",
    "    print(\"s1 wins\")     # 20 + 50 = 70\n",
    "else:\n",
    "    print(\"s2 wins\")     # 60 + 40 = 100\n",
    "\n"
   ]
  },
  {
   "cell_type": "markdown",
   "metadata": {},
   "source": [
    "<br>\n",
    "\n",
    "Let's now understand **operator overriding** using &nbsp;<span style=\"color: red;\">\\_\\_str__( )</span>\n",
    "\n",
    "<span style=\"color: #FF2EC0;;\">integer</span>"
   ]
  },
  {
   "cell_type": "code",
   "execution_count": 119,
   "metadata": {},
   "outputs": [
    {
     "data": {
      "text/plain": [
       "9"
      ]
     },
     "execution_count": 119,
     "metadata": {},
     "output_type": "execute_result"
    }
   ],
   "source": [
    "\n",
    "a = 9\n",
    "\n",
    "a\n"
   ]
  },
  {
   "cell_type": "code",
   "execution_count": 120,
   "metadata": {},
   "outputs": [
    {
     "data": {
      "text/plain": [
       "'9'"
      ]
     },
     "execution_count": 120,
     "metadata": {},
     "output_type": "execute_result"
    }
   ],
   "source": [
    "\n",
    "a.__str__()\n"
   ]
  },
  {
   "cell_type": "code",
   "execution_count": 123,
   "metadata": {},
   "outputs": [
    {
     "name": "stdout",
     "output_type": "stream",
     "text": [
      "9\n",
      "9\n"
     ]
    }
   ],
   "source": [
    "\n",
    "a = 9\n",
    "\n",
    "print(a)   # print(a.__str__())     # Behind The Scenes\n",
    "\n",
    "print(a.__str__())\n"
   ]
  },
  {
   "cell_type": "markdown",
   "metadata": {},
   "source": [
    "<br>\n",
    "\n",
    "<span style=\"color: #FF2EC0;;\">Custom Class</span> &nbsp;Student"
   ]
  },
  {
   "cell_type": "code",
   "execution_count": 126,
   "metadata": {},
   "outputs": [
    {
     "data": {
      "text/plain": [
       "<__main__.Student at 0x24f3bf8e010>"
      ]
     },
     "execution_count": 126,
     "metadata": {},
     "output_type": "execute_result"
    }
   ],
   "source": [
    "\n",
    "s1\n"
   ]
  },
  {
   "cell_type": "code",
   "execution_count": 127,
   "metadata": {},
   "outputs": [
    {
     "name": "stdout",
     "output_type": "stream",
     "text": [
      "<__main__.Student object at 0x0000024F3BF8E010>\n"
     ]
    }
   ],
   "source": [
    "\n",
    "print(s1)\n"
   ]
  },
  {
   "cell_type": "markdown",
   "metadata": {},
   "source": [
    "<br>\n",
    "\n",
    "<span style=\"color: blue;\">By printing s1, we don't want address of s1, we want the information of student s1</span>. \n",
    "\n",
    "We can do it by **overriding** the built-in method &nbsp;<span style=\"color: red;\">\\_\\_str__()</span>"
   ]
  },
  {
   "cell_type": "code",
   "execution_count": 141,
   "metadata": {},
   "outputs": [
    {
     "name": "stdout",
     "output_type": "stream",
     "text": [
      "s2 wins\n",
      "(20, 50)\n"
     ]
    },
    {
     "ename": "TypeError",
     "evalue": "__str__ returned non-string (type tuple)",
     "output_type": "error",
     "traceback": [
      "\u001b[1;31m---------------------------------------------------------------------------\u001b[0m",
      "\u001b[1;31mTypeError\u001b[0m                                 Traceback (most recent call last)",
      "Cell \u001b[1;32mIn[141], line 46\u001b[0m\n\u001b[0;32m     42\u001b[0m     \u001b[38;5;28mprint\u001b[39m(\u001b[38;5;124m\"\u001b[39m\u001b[38;5;124ms2 wins\u001b[39m\u001b[38;5;124m\"\u001b[39m)     \u001b[38;5;66;03m# 60 + 40 = 100\u001b[39;00m\n\u001b[0;32m     45\u001b[0m \u001b[38;5;28mprint\u001b[39m(s1\u001b[38;5;241m.\u001b[39m\u001b[38;5;21m__str__\u001b[39m())     \u001b[38;5;66;03m# OUTPUT: (20, 50)\u001b[39;00m\n\u001b[1;32m---> 46\u001b[0m \u001b[38;5;28;43mprint\u001b[39;49m\u001b[43m(\u001b[49m\u001b[43ms1\u001b[49m\u001b[43m)\u001b[49m               \u001b[38;5;66;03m# Expecting the same output as above but getting a TypeError: __str__ returned non-string (type tuple)   \u001b[39;00m\n",
      "\u001b[1;31mTypeError\u001b[0m: __str__ returned non-string (type tuple)"
     ]
    }
   ],
   "source": [
    "\n",
    "class Student:\n",
    "\n",
    "    def __init__(self, m1, m2):\n",
    "        self.m1 = m1\n",
    "        self.m2 = m2\n",
    "\n",
    "    # OVERLOADING of + operator in case of  (class + class)\n",
    "    def __add__(self, other):        # Note - we can't use other names except \"add\" to overload the + operator\n",
    "        m1 = self.m1 + other.m1\n",
    "        m2 = self.m2 + other.m2\n",
    "        \n",
    "        s3 = Student(m1 , m2)\n",
    "\n",
    "        return s3\n",
    "\n",
    "    # OVERLOADING of > operator in case of  (class > class)\n",
    "    def __gt__(self, other):          # Note - we can't use other names except \"gt\" to overload the > (greater than) operator\n",
    "        total_marks_of_s1 = self.m1 + self.m2\n",
    "        total_marks_of_s2 = other.m1 + other.m2\n",
    "\n",
    "        if total_marks_of_s1 > total_marks_of_s2:\n",
    "            return True\n",
    "        else:\n",
    "            return False\n",
    "\n",
    "    # OVERRIDING\n",
    "    def __str__(self):\n",
    "        return self.m1, self.m2\n",
    "\n",
    "\n",
    "\n",
    "s1 = Student(20, 50)\n",
    "s2 = Student(60, 40)\n",
    "\n",
    "\n",
    "s3 = s1 + s2    # Student.__add__(s1, s2)\n",
    "\n",
    "\n",
    "if s1 > s2:              # TypeError: '>' not supported between instances of 'Student' and 'Student'   ===>   we have to define what we mean by s1 > s2\n",
    "    print(\"s1 wins\")     # 20 + 50 = 70\n",
    "else:\n",
    "    print(\"s2 wins\")     # 60 + 40 = 100\n",
    "\n",
    "\n",
    "print(s1.__str__())     # OUTPUT: (20, 50)\n",
    "print(s1)               # Expecting the same output as above but getting a TypeError: __str__ returned non-string (type tuple)   "
   ]
  },
  {
   "cell_type": "markdown",
   "metadata": {},
   "source": [
    "<br>\n",
    "\n",
    "For <code>print(s1)</code> to work correctly, we need to return in **string** format\n",
    "\n",
    "\n",
    "<code>return self.m1, self.m2</code>     &nbsp;&nbsp;====>&nbsp;&nbsp;     <code>return f\"{self.m1} {self.m2}\"</code>"
   ]
  },
  {
   "cell_type": "code",
   "execution_count": 142,
   "metadata": {},
   "outputs": [
    {
     "name": "stdout",
     "output_type": "stream",
     "text": [
      "s2 wins\n",
      "20 50\n",
      "20 50\n"
     ]
    }
   ],
   "source": [
    "\n",
    "class Student:\n",
    "\n",
    "    def __init__(self, m1, m2):\n",
    "        self.m1 = m1\n",
    "        self.m2 = m2\n",
    "\n",
    "    # OVERLOADING of + operator in case of  (class + class)\n",
    "    def __add__(self, other):        # Note - we can't use other names except \"add\" to overload the + operator\n",
    "        m1 = self.m1 + other.m1\n",
    "        m2 = self.m2 + other.m2\n",
    "        \n",
    "        s3 = Student(m1 , m2)\n",
    "\n",
    "        return s3\n",
    "\n",
    "    # OVERLOADING of > operator in case of  (class > class)\n",
    "    def __gt__(self, other):          # Note - we can't use other names except \"gt\" to overload the > (greater than) operator\n",
    "        total_marks_of_s1 = self.m1 + self.m2\n",
    "        total_marks_of_s2 = other.m1 + other.m2\n",
    "\n",
    "        if total_marks_of_s1 > total_marks_of_s2:\n",
    "            return True\n",
    "        else:\n",
    "            return False\n",
    "\n",
    "    # OVERRIDING\n",
    "    def __str__(self):\n",
    "        return f\"{self.m1} {self.m2}\"     \n",
    "\n",
    "\n",
    "\n",
    "s1 = Student(20, 50)\n",
    "s2 = Student(60, 40)\n",
    "\n",
    "\n",
    "s3 = s1 + s2    # Student.__add__(s1, s2)\n",
    "\n",
    "\n",
    "if s1 > s2:              # TypeError: '>' not supported between instances of 'Student' and 'Student'   ===>   we have to define what we mean by s1 > s2\n",
    "    print(\"s1 wins\")     # 20 + 50 = 70\n",
    "else:\n",
    "    print(\"s2 wins\")     # 60 + 40 = 100\n",
    "\n",
    "\n",
    "print(s1.__str__())     # OUTPUT: 20 50\n",
    "print(s1)               # OUTPUT: 20  50"
   ]
  },
  {
   "cell_type": "markdown",
   "metadata": {},
   "source": [
    "<br>\n",
    "\n",
    "**Method Overloading** - same method name but different paramters  ====> In Python, we don't have this concept. However, we can use <u>default argument</u> and <u>positional arguments</u> &nbsp; <code>( **args )</code> &nbsp; trick to achieve this.\n",
    "\n",
    "<pre style=\"color: red;\">\n",
    "def average(a, b)\n",
    "\n",
    "def average(a, b, c)\n",
    "\n",
    "</pre>\n"
   ]
  },
  {
   "cell_type": "code",
   "execution_count": 146,
   "metadata": {},
   "outputs": [
    {
     "name": "stdout",
     "output_type": "stream",
     "text": [
      "95\n",
      "100\n",
      "50\n"
     ]
    }
   ],
   "source": [
    "# METHOD OVERLOADING\n",
    "\n",
    "class Student:\n",
    "\n",
    "    def __init__(self, m1, m2):\n",
    "        self.m1 = m1\n",
    "        self.m2 = m2\n",
    "\n",
    "    def sum(self, a=None, b=None, c=None):\n",
    "        s = 0\n",
    "        if a != None and b != None and c!= None:\n",
    "            s = a + b + c\n",
    "        elif a != None and b != None:\n",
    "            s = a + b\n",
    "        else: \n",
    "            s = a\n",
    "\n",
    "        return s\n",
    "\n",
    "\n",
    "s1 = Student(5, 7)\n",
    "\n",
    "print(s1.sum(50, 45))\n",
    "print(s1.sum(50, 45, 5))\n",
    "print(s1.sum(50))\n"
   ]
  },
  {
   "cell_type": "markdown",
   "metadata": {},
   "source": [
    "<br>\n",
    "\n",
    "**Method Overriding** - same methhod name with same parameters, but not within the same class. We use &nbsp;<code>inheritance</code>&nbsp; to achieve this\n"
   ]
  },
  {
   "cell_type": "code",
   "execution_count": 149,
   "metadata": {},
   "outputs": [
    {
     "ename": "AttributeError",
     "evalue": "'B' object has no attribute 'show'",
     "output_type": "error",
     "traceback": [
      "\u001b[1;31m---------------------------------------------------------------------------\u001b[0m",
      "\u001b[1;31mAttributeError\u001b[0m                            Traceback (most recent call last)",
      "Cell \u001b[1;32mIn[149], line 12\u001b[0m\n\u001b[0;32m      8\u001b[0m     \u001b[38;5;28;01mpass\u001b[39;00m\n\u001b[0;32m     11\u001b[0m b \u001b[38;5;241m=\u001b[39m B()\n\u001b[1;32m---> 12\u001b[0m \u001b[43mb\u001b[49m\u001b[38;5;241;43m.\u001b[39;49m\u001b[43mshow\u001b[49m()\n",
      "\u001b[1;31mAttributeError\u001b[0m: 'B' object has no attribute 'show'"
     ]
    }
   ],
   "source": [
    "\n",
    "class A:\n",
    "\n",
    "    def show(self):\n",
    "        print(\"in A show\")\n",
    "\n",
    "\n",
    "class B:\n",
    "    pass\n",
    "\n",
    "\n",
    "b = B()\n",
    "b.show()\n"
   ]
  },
  {
   "cell_type": "code",
   "execution_count": 1,
   "metadata": {},
   "outputs": [
    {
     "name": "stdout",
     "output_type": "stream",
     "text": [
      "in B show\n"
     ]
    }
   ],
   "source": [
    "\n",
    "class A:\n",
    "\n",
    "    def show(self):\n",
    "        print(\"in A show\")\n",
    "\n",
    "\n",
    "class B:\n",
    "\n",
    "    def show(self):\n",
    "        print(\"in B show\")\n",
    "\n",
    "\n",
    "b = B()\n",
    "b.show()\n"
   ]
  },
  {
   "cell_type": "code",
   "execution_count": null,
   "metadata": {},
   "outputs": [],
   "source": []
  },
  {
   "cell_type": "code",
   "execution_count": null,
   "metadata": {},
   "outputs": [],
   "source": []
  },
  {
   "cell_type": "code",
   "execution_count": null,
   "metadata": {},
   "outputs": [],
   "source": []
  },
  {
   "cell_type": "code",
   "execution_count": null,
   "metadata": {},
   "outputs": [],
   "source": []
  },
  {
   "cell_type": "markdown",
   "metadata": {},
   "source": [
    "<br>\n",
    "\n",
    "||||||||||||||||||||||||||||||||||||||||||||||||||||||||||||||||||||||||||||||||||||||||||||||||||||||||||||||||||||||||||||||||||||||||||||||||||||||||||||||||||||||||||||||||||||||||||||||||||||||||||||||||||||||||||||||||||||||||||||||||||||||||||||||||||||||||||||||||||||||||||||||||||||||||||||||||||||||||||||||||||||\n",
    "\n",
    "<br>"
   ]
  },
  {
   "cell_type": "code",
   "execution_count": 26,
   "metadata": {},
   "outputs": [
    {
     "name": "stdout",
     "output_type": "stream",
     "text": [
      "in B show\n"
     ]
    }
   ],
   "source": [
    "\n",
    "class A:\n",
    "    pass\n",
    "\n",
    "class B:\n",
    "    def show(self):\n",
    "        print(\"in B show\")\n",
    "\n",
    "class C(A, B):\n",
    "    pass\n",
    "\n",
    "class D:\n",
    "    def show(self):\n",
    "        print(\"in D show\")\n",
    "\n",
    "class E(C):\n",
    "    pass\n",
    "\n",
    "######################################################################\n",
    "\n",
    "e = E()\n",
    "e.show()\n"
   ]
  },
  {
   "cell_type": "markdown",
   "metadata": {},
   "source": [
    "\n",
    "<span style=\"color: red;\">==================================================================================================================</span>"
   ]
  },
  {
   "cell_type": "code",
   "execution_count": null,
   "metadata": {},
   "outputs": [],
   "source": []
  },
  {
   "cell_type": "code",
   "execution_count": null,
   "metadata": {},
   "outputs": [],
   "source": []
  },
  {
   "cell_type": "code",
   "execution_count": null,
   "metadata": {},
   "outputs": [],
   "source": []
  },
  {
   "cell_type": "code",
   "execution_count": null,
   "metadata": {},
   "outputs": [],
   "source": []
  },
  {
   "cell_type": "code",
   "execution_count": null,
   "metadata": {},
   "outputs": [],
   "source": []
  },
  {
   "cell_type": "code",
   "execution_count": null,
   "metadata": {},
   "outputs": [],
   "source": []
  }
 ],
 "metadata": {
  "kernelspec": {
   "display_name": "Python 3 (ipykernel)",
   "language": "python",
   "name": "python3"
  },
  "language_info": {
   "codemirror_mode": {
    "name": "ipython",
    "version": 3
   },
   "file_extension": ".py",
   "mimetype": "text/x-python",
   "name": "python",
   "nbconvert_exporter": "python",
   "pygments_lexer": "ipython3",
   "version": "3.11.3"
  }
 },
 "nbformat": 4,
 "nbformat_minor": 4
}
