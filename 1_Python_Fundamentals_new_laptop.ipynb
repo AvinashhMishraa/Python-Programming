{
  "nbformat": 4,
  "nbformat_minor": 0,
  "metadata": {
    "colab": {
      "provenance": []
    },
    "kernelspec": {
      "name": "python3",
      "display_name": "Python 3"
    },
    "language_info": {
      "name": "python"
    }
  },
  "cells": [
    {
      "cell_type": "markdown",
      "source": [
        "<h1>Syntax</h1>"
      ],
      "metadata": {
        "id": "mW1CuAGfKndx"
      }
    },
    {
      "cell_type": "markdown",
      "source": [
        "<font size=\"+1.3\">🔶 &nbsp;**Whitespace &nbsp;&&nbsp; Indentation**</font>"
      ],
      "metadata": {
        "id": "gigGKvUnKnTM"
      }
    },
    {
      "cell_type": "code",
      "execution_count": 1,
      "metadata": {
        "colab": {
          "base_uri": "https://localhost:8080/"
        },
        "id": "Z8WazaKX-yym",
        "outputId": "eec3983d-f18f-4683-ae7e-9c6444b340be"
      },
      "outputs": [
        {
          "output_type": "stream",
          "name": "stdout",
          "text": [
            "1\n",
            "2\n",
            "3\n",
            "4\n",
            "5\n",
            "6\n",
            "7\n",
            "8\n",
            "9\n"
          ]
        }
      ],
      "source": [
        "def main():\n",
        "  i = 1\n",
        "  max = 10\n",
        "  while (i < max):\n",
        "    print(i)\n",
        "    i = i + 1\n",
        "\n",
        "\n",
        "main()"
      ]
    },
    {
      "cell_type": "markdown",
      "source": [
        "<font size=\"+1.3\">🔶 &nbsp;**Comments**</font>"
      ],
      "metadata": {
        "id": "RHWsnEJeLHxi"
      }
    },
    {
      "cell_type": "code",
      "source": [
        "# This is a single line comment in Python"
      ],
      "metadata": {
        "id": "5U6uLk_o_KTT"
      },
      "execution_count": null,
      "outputs": []
    },
    {
      "cell_type": "code",
      "source": [
        "\"\"\"\n",
        "This is a multi line\n",
        "comment in Python\n",
        "\"\"\""
      ],
      "metadata": {
        "colab": {
          "base_uri": "https://localhost:8080/",
          "height": 35
        },
        "id": "hNzsrThuLWoB",
        "outputId": "e2d82c98-650d-4925-f54b-512c362d1dc1"
      },
      "execution_count": null,
      "outputs": [
        {
          "output_type": "execute_result",
          "data": {
            "text/plain": [
              "'\\nThis is a multi line \\ncomment in Python\\n'"
            ],
            "application/vnd.google.colaboratory.intrinsic+json": {
              "type": "string"
            }
          },
          "metadata": {},
          "execution_count": 1
        }
      ]
    },
    {
      "cell_type": "markdown",
      "source": [
        "<font size=\"+1.3\">🔶 &nbsp;**Continuation &nbsp;of&nbsp; Statements**</font>"
      ],
      "metadata": {
        "id": "wZNQY5FELoDI"
      }
    },
    {
      "cell_type": "code",
      "source": [
        "a = 1\n",
        "b = 2\n",
        "c = 3\n",
        "\n",
        "if (a == 1) and (b == 2) and \\\n",
        "  (c == 3):\n",
        "  print(\"Continuation of statements\")"
      ],
      "metadata": {
        "colab": {
          "base_uri": "https://localhost:8080/"
        },
        "id": "L1yGXrfqAG7y",
        "outputId": "960fc24e-2a11-423d-a225-acabb048bc94"
      },
      "execution_count": null,
      "outputs": [
        {
          "output_type": "stream",
          "name": "stdout",
          "text": [
            "Continuation of statements\n"
          ]
        }
      ]
    },
    {
      "cell_type": "markdown",
      "source": [
        "<font size=\"+1.3\">🔶 &nbsp;**Keywords**</font>"
      ],
      "metadata": {
        "id": "hNPVFRlQL-mG"
      }
    },
    {
      "cell_type": "code",
      "source": [
        "import keyword\n",
        "\n",
        "print(keyword.kwlist)"
      ],
      "metadata": {
        "colab": {
          "base_uri": "https://localhost:8080/"
        },
        "id": "lRvGYS0TAP_K",
        "outputId": "8d194695-5d78-47a3-d8ca-d8d092d52856"
      },
      "execution_count": null,
      "outputs": [
        {
          "output_type": "stream",
          "name": "stdout",
          "text": [
            "['False', 'None', 'True', 'and', 'as', 'assert', 'async', 'await', 'break', 'class', 'continue', 'def', 'del', 'elif', 'else', 'except', 'finally', 'for', 'from', 'global', 'if', 'import', 'in', 'is', 'lambda', 'nonlocal', 'not', 'or', 'pass', 'raise', 'return', 'try', 'while', 'with', 'yield']\n"
          ]
        }
      ]
    },
    {
      "cell_type": "markdown",
      "source": [
        "<font size=\"+1.3\">🔶 &nbsp;**String &nbsp;Literals**</font>"
      ],
      "metadata": {
        "id": "N7hWd-RmMIqw"
      }
    },
    {
      "cell_type": "code",
      "source": [
        "s = 'This is a string'\n",
        "print(s)\n",
        "s = \"Another string using double quotes\"\n",
        "print(s)\n",
        "s = '''string can span\n",
        "       multiple lines'''\n",
        "print(s)"
      ],
      "metadata": {
        "colab": {
          "base_uri": "https://localhost:8080/"
        },
        "id": "spzlUTeRBWr8",
        "outputId": "b64699d9-e352-4719-c4de-f0410dcd9634"
      },
      "execution_count": null,
      "outputs": [
        {
          "output_type": "stream",
          "name": "stdout",
          "text": [
            "This is a string\n",
            "Another string using double quotes\n",
            "string can span\n",
            "       multiple lines\n"
          ]
        }
      ]
    },
    {
      "cell_type": "markdown",
      "source": [
        "<br><br>\n",
        "\n",
        "<h1>Python Variables</h1>"
      ],
      "metadata": {
        "id": "xrxqsFbIMXPP"
      }
    },
    {
      "cell_type": "code",
      "source": [
        "proffession = \"data engineer\"\n",
        "print(proffession)"
      ],
      "metadata": {
        "colab": {
          "base_uri": "https://localhost:8080/"
        },
        "id": "cchb3KZxMdDO",
        "outputId": "25f9f5ce-01ab-409b-842f-4924c10bb207"
      },
      "execution_count": null,
      "outputs": [
        {
          "output_type": "stream",
          "name": "stdout",
          "text": [
            "data engineer\n"
          ]
        }
      ]
    },
    {
      "cell_type": "code",
      "source": [
        "proffession = \"data engineer\"\n",
        "print(f\"I am a {proffession}\")"
      ],
      "metadata": {
        "colab": {
          "base_uri": "https://localhost:8080/"
        },
        "id": "8Ve_aNl3Mq2g",
        "outputId": "c4141147-0f1e-478e-df10-bf35e579e9e8"
      },
      "execution_count": null,
      "outputs": [
        {
          "output_type": "stream",
          "name": "stdout",
          "text": [
            "I am a data engineer\n"
          ]
        }
      ]
    },
    {
      "cell_type": "code",
      "source": [
        "_a = 5\n",
        "print(_a)"
      ],
      "metadata": {
        "colab": {
          "base_uri": "https://localhost:8080/"
        },
        "id": "DVIplW5YM585",
        "outputId": "449dfaef-76d7-4c6c-e29d-1677fdc9b402"
      },
      "execution_count": null,
      "outputs": [
        {
          "output_type": "stream",
          "name": "stdout",
          "text": [
            "5\n"
          ]
        }
      ]
    },
    {
      "cell_type": "markdown",
      "source": [
        "<br><br>\n",
        "\n",
        "<h1>Python String</h1>"
      ],
      "metadata": {
        "id": "65kJ1NkXNg9h"
      }
    },
    {
      "cell_type": "code",
      "source": [
        "message = \"This is a string in Python\"\n",
        "message = \"This is also a string\"\n",
        "print(message)"
      ],
      "metadata": {
        "colab": {
          "base_uri": "https://localhost:8080/"
        },
        "id": "5KbaS_M6NJzZ",
        "outputId": "317b0bcc-a51f-4443-c03a-7ba50841adfe"
      },
      "execution_count": null,
      "outputs": [
        {
          "output_type": "stream",
          "name": "stdout",
          "text": [
            "This is also a string\n"
          ]
        }
      ]
    },
    {
      "cell_type": "code",
      "source": [
        "message = \"It's a string\"\n",
        "print(message)"
      ],
      "metadata": {
        "colab": {
          "base_uri": "https://localhost:8080/"
        },
        "id": "_zZTrgBeNx7l",
        "outputId": "bb07f593-e994-45db-b2d4-1572542af40e"
      },
      "execution_count": null,
      "outputs": [
        {
          "output_type": "stream",
          "name": "stdout",
          "text": [
            "It's a string\n"
          ]
        }
      ]
    },
    {
      "cell_type": "code",
      "source": [
        "message = 'People say \"Python is easy\"'\n",
        "print(message)"
      ],
      "metadata": {
        "colab": {
          "base_uri": "https://localhost:8080/"
        },
        "id": "90VdGd03N9SS",
        "outputId": "04375e46-af6e-4a3a-ea30-c5988071daea"
      },
      "execution_count": null,
      "outputs": [
        {
          "output_type": "stream",
          "name": "stdout",
          "text": [
            "People say \"Python is easy\"\n"
          ]
        }
      ]
    },
    {
      "cell_type": "code",
      "source": [
        "message = 'It\\'s also a valid string'\n",
        "print(message)"
      ],
      "metadata": {
        "colab": {
          "base_uri": "https://localhost:8080/"
        },
        "id": "Pa1Hv1ZZPHDC",
        "outputId": "a6ceff75-97d7-4980-a925-d59b14493944"
      },
      "execution_count": null,
      "outputs": [
        {
          "output_type": "stream",
          "name": "stdout",
          "text": [
            "It's also a valid string\n"
          ]
        }
      ]
    },
    {
      "cell_type": "code",
      "source": [
        "help_message = '''\n",
        "Usage: mysql command\n",
        "  -h hostname\n",
        "  -d database name\n",
        "  -u username\n",
        "  -p password\n",
        "'''\n",
        "\n",
        "print(help_message)"
      ],
      "metadata": {
        "colab": {
          "base_uri": "https://localhost:8080/"
        },
        "id": "WFxLpv4cPtYY",
        "outputId": "1ed8d62b-a02c-4c96-a475-473f492d1e7a"
      },
      "execution_count": null,
      "outputs": [
        {
          "output_type": "stream",
          "name": "stdout",
          "text": [
            "\n",
            "Usage: mysql command\n",
            "  -h hostname\n",
            "  -d database name\n",
            "  -u username\n",
            "  -p password\n",
            "\n"
          ]
        }
      ]
    },
    {
      "cell_type": "code",
      "source": [
        "name = 'John'\n",
        "message = f'Hi {name}'\n",
        "print(message)"
      ],
      "metadata": {
        "colab": {
          "base_uri": "https://localhost:8080/"
        },
        "id": "8fjhc4drQGB5",
        "outputId": "bad11ad3-9d56-4500-da7c-d342dfaba006"
      },
      "execution_count": null,
      "outputs": [
        {
          "output_type": "stream",
          "name": "stdout",
          "text": [
            "Hi John\n"
          ]
        }
      ]
    },
    {
      "cell_type": "code",
      "source": [
        "greeting = 'Good ' 'Morning!'               # automatic concatenation if strings kept next to each other\n",
        "print(greeting)"
      ],
      "metadata": {
        "colab": {
          "base_uri": "https://localhost:8080/"
        },
        "id": "VSWXGKmyQbOJ",
        "outputId": "e7429f26-16ca-45e0-a5b3-fa84f828e3d0"
      },
      "execution_count": null,
      "outputs": [
        {
          "output_type": "stream",
          "name": "stdout",
          "text": [
            "Good Morning!\n"
          ]
        }
      ]
    },
    {
      "cell_type": "code",
      "source": [
        "greeting = 'Good '\n",
        "time = 'Afternoon'\n",
        "\n",
        "greeting = greeting + time + '!'\n",
        "print(greeting)"
      ],
      "metadata": {
        "colab": {
          "base_uri": "https://localhost:8080/"
        },
        "id": "M6FS_PynTXds",
        "outputId": "c4926fdd-9b7c-40ba-8854-da32e3eca93f"
      },
      "execution_count": null,
      "outputs": [
        {
          "output_type": "stream",
          "name": "stdout",
          "text": [
            "Good Afternoon!\n"
          ]
        }
      ]
    },
    {
      "cell_type": "code",
      "source": [
        "str = \"Python String\"\n",
        "print(str[0])\n",
        "print(str[1])"
      ],
      "metadata": {
        "colab": {
          "base_uri": "https://localhost:8080/"
        },
        "id": "6YNyxjs-UZ2d",
        "outputId": "4344ec5d-3ac8-4e9a-c306-504fd7251603"
      },
      "execution_count": null,
      "outputs": [
        {
          "output_type": "stream",
          "name": "stdout",
          "text": [
            "P\n",
            "y\n"
          ]
        }
      ]
    },
    {
      "cell_type": "code",
      "source": [
        "str = \"Python String\"\n",
        "print(str[-1])\n",
        "print(str[-2])"
      ],
      "metadata": {
        "colab": {
          "base_uri": "https://localhost:8080/"
        },
        "id": "8MJwVLxIjhx0",
        "outputId": "d62cd8d3-b0c1-440f-e987-6c85aa783607"
      },
      "execution_count": null,
      "outputs": [
        {
          "output_type": "stream",
          "name": "stdout",
          "text": [
            "g\n",
            "n\n"
          ]
        }
      ]
    },
    {
      "cell_type": "code",
      "source": [
        "str = \"Python String\"\n",
        "str_len = len(str)\n",
        "print(str_len)"
      ],
      "metadata": {
        "colab": {
          "base_uri": "https://localhost:8080/"
        },
        "id": "SlXeBoQyj9GJ",
        "outputId": "439e9255-6bf8-4c91-b985-b7e1d699ff27"
      },
      "execution_count": null,
      "outputs": [
        {
          "output_type": "stream",
          "name": "stdout",
          "text": [
            "13\n"
          ]
        }
      ]
    },
    {
      "cell_type": "code",
      "source": [
        "str = \"Python String\"\n",
        "print(str[0:2])"
      ],
      "metadata": {
        "colab": {
          "base_uri": "https://localhost:8080/"
        },
        "id": "NDViqgeukeki",
        "outputId": "08aca0fb-5756-4e36-bda4-b6b8c1cbf848"
      },
      "execution_count": null,
      "outputs": [
        {
          "output_type": "stream",
          "name": "stdout",
          "text": [
            "Py\n"
          ]
        }
      ]
    },
    {
      "cell_type": "code",
      "source": [
        "str = \"Python String\"\n",
        "print(str[0:11:2])"
      ],
      "metadata": {
        "colab": {
          "base_uri": "https://localhost:8080/"
        },
        "id": "b4kkBS1HknkT",
        "outputId": "4a5d6d79-c8cb-4cd1-fe49-ba07f20982ec"
      },
      "execution_count": null,
      "outputs": [
        {
          "output_type": "stream",
          "name": "stdout",
          "text": [
            "Pto ti\n"
          ]
        }
      ]
    },
    {
      "cell_type": "code",
      "source": [
        "str = \"Python String\"\n",
        "print(str[::-1])"
      ],
      "metadata": {
        "colab": {
          "base_uri": "https://localhost:8080/"
        },
        "id": "YuZ6J1MDlcxM",
        "outputId": "51bb3f52-dcfb-4f91-c7f5-b29b3ff39811"
      },
      "execution_count": null,
      "outputs": [
        {
          "output_type": "stream",
          "name": "stdout",
          "text": [
            "gnirtS nohtyP\n"
          ]
        }
      ]
    },
    {
      "cell_type": "code",
      "source": [
        "str = \"Python String\"\n",
        "str[0] = 'J'"
      ],
      "metadata": {
        "colab": {
          "base_uri": "https://localhost:8080/",
          "height": 159
        },
        "id": "YBa1yRsml3pO",
        "outputId": "b2d3acde-a115-4eef-fa4d-57f8e3a1ec96"
      },
      "execution_count": null,
      "outputs": [
        {
          "output_type": "error",
          "ename": "TypeError",
          "evalue": "'str' object does not support item assignment",
          "traceback": [
            "\u001b[0;31m---------------------------------------------------------------------------\u001b[0m",
            "\u001b[0;31mTypeError\u001b[0m                                 Traceback (most recent call last)",
            "\u001b[0;32m/tmp/ipython-input-25-1653586012.py\u001b[0m in \u001b[0;36m<cell line: 0>\u001b[0;34m()\u001b[0m\n\u001b[1;32m      1\u001b[0m \u001b[0mstr\u001b[0m \u001b[0;34m=\u001b[0m \u001b[0;34m\"Python String\"\u001b[0m\u001b[0;34m\u001b[0m\u001b[0;34m\u001b[0m\u001b[0m\n\u001b[0;32m----> 2\u001b[0;31m \u001b[0mstr\u001b[0m\u001b[0;34m[\u001b[0m\u001b[0;36m0\u001b[0m\u001b[0;34m]\u001b[0m \u001b[0;34m=\u001b[0m \u001b[0;34m'J'\u001b[0m\u001b[0;34m\u001b[0m\u001b[0;34m\u001b[0m\u001b[0m\n\u001b[0m",
            "\u001b[0;31mTypeError\u001b[0m: 'str' object does not support item assignment"
          ]
        }
      ]
    },
    {
      "cell_type": "code",
      "source": [
        "str = \"Python String\"\n",
        "new_str = 'J' + str[1:]\n",
        "print(new_str)"
      ],
      "metadata": {
        "colab": {
          "base_uri": "https://localhost:8080/"
        },
        "id": "cBc6MtvHmE_D",
        "outputId": "71afb9ce-3a07-4fac-feec-2fa75eb442c9"
      },
      "execution_count": null,
      "outputs": [
        {
          "output_type": "stream",
          "name": "stdout",
          "text": [
            "Jython String\n"
          ]
        }
      ]
    },
    {
      "cell_type": "code",
      "source": [
        "name = 'Avinash'\n",
        "message = f'Hello, {name}!'\n",
        "print(message)"
      ],
      "metadata": {
        "colab": {
          "base_uri": "https://localhost:8080/"
        },
        "id": "MDlHS0L9msG7",
        "outputId": "392dcf92-0693-4758-cc61-575e68851843"
      },
      "execution_count": null,
      "outputs": [
        {
          "output_type": "stream",
          "name": "stdout",
          "text": [
            "Hello, Avinash!\n"
          ]
        }
      ]
    },
    {
      "cell_type": "markdown",
      "source": [
        "<br><br>\n",
        "\n",
        "<h1>Python Numbers</h1>"
      ],
      "metadata": {
        "id": "tRi3sx4e7jvH"
      }
    },
    {
      "cell_type": "markdown",
      "source": [
        "<font size=\"+1.3\">🔶 &nbsp;**Integers**</font>"
      ],
      "metadata": {
        "id": "e3mxiaep7y6g"
      }
    },
    {
      "cell_type": "code",
      "source": [
        "x = 20\n",
        "y = 10\n",
        "\n",
        "total = x + y\n",
        "print(total)\n",
        "\n",
        "difference = x - y\n",
        "print(difference)\n",
        "\n",
        "product = x * y\n",
        "print(product)\n",
        "\n",
        "quotient = x / y\n",
        "print(quotient)"
      ],
      "metadata": {
        "colab": {
          "base_uri": "https://localhost:8080/"
        },
        "id": "oGJ6WgAk7WSa",
        "outputId": "a4aae72e-ea31-44e1-b93a-a16dc2c937f9"
      },
      "execution_count": null,
      "outputs": [
        {
          "output_type": "stream",
          "name": "stdout",
          "text": [
            "30\n",
            "10\n",
            "200\n",
            "2.0\n"
          ]
        }
      ]
    },
    {
      "cell_type": "code",
      "source": [
        "x = 3\n",
        "y = 3\n",
        "\n",
        "power = x ** y\n",
        "print(power)"
      ],
      "metadata": {
        "colab": {
          "base_uri": "https://localhost:8080/"
        },
        "id": "ztUmIos58L26",
        "outputId": "a78fabe8-8de9-435e-e0ab-7ee28a71af4c"
      },
      "execution_count": null,
      "outputs": [
        {
          "output_type": "stream",
          "name": "stdout",
          "text": [
            "27\n"
          ]
        }
      ]
    },
    {
      "cell_type": "code",
      "source": [
        "result = 20 / (10 + 10)             # To modify the order of parantheses\n",
        "print(result)"
      ],
      "metadata": {
        "colab": {
          "base_uri": "https://localhost:8080/"
        },
        "id": "UcpMqdTP8WsL",
        "outputId": "2446a133-4c41-46a9-9d94-49edd90987ba"
      },
      "execution_count": null,
      "outputs": [
        {
          "output_type": "stream",
          "name": "stdout",
          "text": [
            "1.0\n"
          ]
        }
      ]
    },
    {
      "cell_type": "markdown",
      "source": [
        "<font size=\"+1.3\">🔶 &nbsp;**Floats**</font>"
      ],
      "metadata": {
        "id": "WhI3vEOb8tHq"
      }
    },
    {
      "cell_type": "code",
      "source": [
        "x = 0.5\n",
        "y = 0.25\n",
        "\n",
        "total = x + y\n",
        "print(total)\n",
        "\n",
        "difference = x - y\n",
        "print(difference)\n",
        "\n",
        "product = x / y\n",
        "print(product)\n",
        "\n",
        "quotient = x / y\n",
        "print(quotient)"
      ],
      "metadata": {
        "colab": {
          "base_uri": "https://localhost:8080/"
        },
        "id": "HI-ik1Sl8mgh",
        "outputId": "be14e684-6257-4c6d-bcd4-5c66e2a50a61"
      },
      "execution_count": null,
      "outputs": [
        {
          "output_type": "stream",
          "name": "stdout",
          "text": [
            "0.75\n",
            "0.25\n",
            "2.0\n",
            "2.0\n"
          ]
        }
      ]
    },
    {
      "cell_type": "code",
      "source": [
        "# division of two integers always returns a float\n",
        "\n",
        "x = 20\n",
        "y = 10\n",
        "quotient = x / y\n",
        "print(quotient)\n",
        "\n",
        "\n",
        "\n",
        "# Mixing an integer and a float in any arithmetic operation results into a float\n",
        "\n",
        "x = 1\n",
        "y = 2.0\n",
        "total = x + y\n",
        "print(total)"
      ],
      "metadata": {
        "colab": {
          "base_uri": "https://localhost:8080/"
        },
        "id": "acc4lcsm9EJ9",
        "outputId": "5e2dae27-741b-4e95-cbc2-8e934bf7cf38"
      },
      "execution_count": null,
      "outputs": [
        {
          "output_type": "stream",
          "name": "stdout",
          "text": [
            "2.0\n",
            "3.0\n"
          ]
        }
      ]
    },
    {
      "cell_type": "code",
      "source": [
        "# Due to the internal representation of flots, Python will try to represent the result as precisely as possible resulting into unexpected output\n",
        "\n",
        "x = 0.1\n",
        "y = 0.2\n",
        "total = x + y\n",
        "print(total)"
      ],
      "metadata": {
        "colab": {
          "base_uri": "https://localhost:8080/"
        },
        "id": "FeAtY8xF9ao5",
        "outputId": "a81fe7ac-4b36-478d-c8a2-409c57c41989"
      },
      "execution_count": null,
      "outputs": [
        {
          "output_type": "stream",
          "name": "stdout",
          "text": [
            "0.30000000000000004\n"
          ]
        }
      ]
    },
    {
      "cell_type": "markdown",
      "source": [
        "<font size=\"+1.3\">🔶 &nbsp;**Underscores &nbsp;in&nbsp; numbers**</font>"
      ],
      "metadata": {
        "id": "TfhjKntqAOuN"
      }
    },
    {
      "cell_type": "code",
      "source": [
        "count = 10000000000\n",
        "print(count)\n",
        "\n",
        "count = 10_000_000_000\n",
        "print(count)"
      ],
      "metadata": {
        "colab": {
          "base_uri": "https://localhost:8080/"
        },
        "id": "ZuEloVIx_UY3",
        "outputId": "ca0304b4-0a93-41c3-b7ea-fbeffa77e7c9"
      },
      "execution_count": null,
      "outputs": [
        {
          "output_type": "stream",
          "name": "stdout",
          "text": [
            "10000000000\n",
            "10000000000\n"
          ]
        }
      ]
    },
    {
      "cell_type": "markdown",
      "source": [
        "<br><br>\n",
        "\n",
        "<h1>Python Boolean</h1>"
      ],
      "metadata": {
        "id": "DGE5ED2_BwXg"
      }
    },
    {
      "cell_type": "code",
      "source": [
        "is_active = True\n",
        "is_admin = False"
      ],
      "metadata": {
        "id": "Ym1K4S9HBeQf"
      },
      "execution_count": null,
      "outputs": []
    },
    {
      "cell_type": "code",
      "source": [
        "# Comparing two numbers\n",
        "\n",
        "x = 20\n",
        "y = 10\n",
        "\n",
        "result = x > y\n",
        "print(result)\n",
        "\n",
        "result = x < y\n",
        "print(result)"
      ],
      "metadata": {
        "colab": {
          "base_uri": "https://localhost:8080/"
        },
        "id": "dJfiBTXhB5Ey",
        "outputId": "4ebd47dc-fb5f-409c-9e8c-fc6759cf01da"
      },
      "execution_count": null,
      "outputs": [
        {
          "output_type": "stream",
          "name": "stdout",
          "text": [
            "True\n",
            "False\n"
          ]
        }
      ]
    },
    {
      "cell_type": "code",
      "source": [
        "# Comparing two strings\n",
        "\n",
        "x = 'a'\n",
        "y = 'b'\n",
        "\n",
        "result = x > y\n",
        "print(result)\n",
        "\n",
        "result = x < y\n",
        "print(result)"
      ],
      "metadata": {
        "colab": {
          "base_uri": "https://localhost:8080/"
        },
        "id": "ajqgncGeCHFq",
        "outputId": "d196414e-ba3d-49a5-be39-543cf660aef0"
      },
      "execution_count": null,
      "outputs": [
        {
          "output_type": "stream",
          "name": "stdout",
          "text": [
            "False\n",
            "True\n"
          ]
        }
      ]
    },
    {
      "cell_type": "markdown",
      "source": [
        "<font size=\"+1.3\">🔶 &nbsp;**<font size=\"5px\">`bool()`</font>&nbsp; <font size=\"+1\">func</font>**</font>\n"
      ],
      "metadata": {
        "id": "cI8pzqcJCpSW"
      }
    },
    {
      "cell_type": "code",
      "source": [
        "# To find if a value is True or False, you use the bool() function\n",
        "\n",
        "result = bool('Hi')\n",
        "print(result)\n",
        "\n",
        "result = bool(100)\n",
        "print(result)\n",
        "\n",
        "result = bool(0)\n",
        "print(result)"
      ],
      "metadata": {
        "colab": {
          "base_uri": "https://localhost:8080/"
        },
        "id": "z2Vvi2UqCkyJ",
        "outputId": "be57a276-21ec-48c2-e0f4-148924616961"
      },
      "execution_count": null,
      "outputs": [
        {
          "output_type": "stream",
          "name": "stdout",
          "text": [
            "True\n",
            "True\n",
            "False\n"
          ]
        }
      ]
    },
    {
      "cell_type": "markdown",
      "source": [
        "<font size=\"+1.3\">🔶 &nbsp;**Falsy &nbsp;and &nbsp;Truthy &nbsp;values**</font>\n",
        "\n",
        "<br>\n",
        "\n",
        "\n",
        "Falsy values in Python &nbsp;:\n",
        "- &nbsp;`0`\n",
        "- &nbsp;`''`\n",
        "- &nbsp;`False`\n",
        "- &nbsp;`None`\n",
        "- &nbsp;An empty list &nbsp;`[]`\n",
        "- &nbsp;An empty tuple &nbsp;`()`\n",
        "- &nbsp;An empty dictionary &nbsp;`{}`\n",
        "\n"
      ],
      "metadata": {
        "id": "IVbNdnjQEXp-"
      }
    },
    {
      "cell_type": "markdown",
      "source": [
        "<br><br>\n",
        "\n",
        "<h1>Python Constants</h1>\n",
        "\n",
        "- Python doesn't support constants. <br>\n",
        "\n",
        "- <ins>constants_by_convention</ins> &nbsp;not &nbsp;by &nbsp;rule"
      ],
      "metadata": {
        "id": "DC95ReD8hOiW"
      }
    },
    {
      "cell_type": "code",
      "source": [
        "FILE_SIZE_LIMIT = 2000\n",
        "print(FILE_SIZE_LIMIT)"
      ],
      "metadata": {
        "colab": {
          "base_uri": "https://localhost:8080/"
        },
        "id": "hxDEdX2WEPD6",
        "outputId": "e71497d2-74cc-4610-937c-96249123594d"
      },
      "execution_count": null,
      "outputs": [
        {
          "output_type": "stream",
          "name": "stdout",
          "text": [
            "2000\n"
          ]
        }
      ]
    },
    {
      "cell_type": "markdown",
      "source": [
        "<br><br>\n",
        "\n",
        "<h1>Python Comments</h1>\n",
        "\n",
        "<font size=\"+1.3\">🔶 &nbsp;**Python &nbsp;block&nbsp; comments**</font>"
      ],
      "metadata": {
        "id": "RhsQOY0jr4in"
      }
    },
    {
      "cell_type": "code",
      "source": [
        "# increase price by 5%\n",
        "\n",
        "price = 100\n",
        "price = price * 1.05\n",
        "print(price)"
      ],
      "metadata": {
        "colab": {
          "base_uri": "https://localhost:8080/"
        },
        "id": "AX6uxB9Ag8G5",
        "outputId": "54081c40-a20e-44ef-faf7-d79399be29b3"
      },
      "execution_count": null,
      "outputs": [
        {
          "output_type": "stream",
          "name": "stdout",
          "text": [
            "105.0\n"
          ]
        }
      ]
    },
    {
      "cell_type": "markdown",
      "source": [
        "<font size=\"+1.3\">🔶 &nbsp;**Python &nbsp;inline&nbsp; comments**</font>"
      ],
      "metadata": {
        "id": "0KjWHQeGs-ST"
      }
    },
    {
      "cell_type": "code",
      "source": [
        "salary = 12000\n",
        "salary = salary * 1.02           # increase salary by 2%\n",
        "\n",
        "print(salary)"
      ],
      "metadata": {
        "colab": {
          "base_uri": "https://localhost:8080/"
        },
        "id": "p2B3W8DFsY1B",
        "outputId": "5cacfe49-af13-480a-dc08-985f27a9502e"
      },
      "execution_count": null,
      "outputs": [
        {
          "output_type": "stream",
          "name": "stdout",
          "text": [
            "12240.0\n"
          ]
        }
      ]
    },
    {
      "cell_type": "markdown",
      "source": [
        "<font size=\"+1.3\">🔶 &nbsp;**Python &nbsp;docstrings**</font>"
      ],
      "metadata": {
        "id": "iNdB_UNDtUlr"
      }
    },
    {
      "cell_type": "code",
      "source": [
        "# One-line docstring\n",
        "\n",
        "\n",
        "def add():\n",
        "  \"\"\" addition \"\"\"\n",
        "  return a + b\n",
        "\n",
        "\n",
        "add.__doc__"
      ],
      "metadata": {
        "colab": {
          "base_uri": "https://localhost:8080/",
          "height": 35
        },
        "id": "wcg0B_mCtRRm",
        "outputId": "bf09bd2b-1268-46f9-fdfc-56c3c29858f7"
      },
      "execution_count": null,
      "outputs": [
        {
          "output_type": "execute_result",
          "data": {
            "text/plain": [
              "' addition '"
            ],
            "application/vnd.google.colaboratory.intrinsic+json": {
              "type": "string"
            }
          },
          "metadata": {},
          "execution_count": 54
        }
      ]
    },
    {
      "cell_type": "code",
      "source": [
        "# Multi-line docstrings\n",
        "\n",
        "\n",
        "def increase(salary, percentage, rating):\n",
        "  \"\"\" increase salary base on rating and percentage\n",
        "  rating 1 - 2  =====>  no increase\n",
        "  rating 3 - 4  =====>  increase 5%\n",
        "  rating 5      =====>  increase 10%\n",
        "  \"\"\"\n",
        "\n",
        "\n",
        "increase.__doc__"
      ],
      "metadata": {
        "colab": {
          "base_uri": "https://localhost:8080/",
          "height": 53
        },
        "id": "oUZfPKdjuH1b",
        "outputId": "c84ea73c-bd51-4fc4-b766-af7e5828c0c0"
      },
      "execution_count": 2,
      "outputs": [
        {
          "output_type": "execute_result",
          "data": {
            "text/plain": [
              "' increase salary base on rating and percentage\\n  rating 1 - 2  =====>  no increase\\n  rating 3 - 4  =====>  increase 5%\\n  rating 5      =====>  increase 10%\\n  '"
            ],
            "application/vnd.google.colaboratory.intrinsic+json": {
              "type": "string"
            }
          },
          "metadata": {},
          "execution_count": 2
        }
      ]
    },
    {
      "cell_type": "markdown",
      "source": [
        "<font size=\"+2\">⚠️</font> &nbsp;**<font size=\"+1\"><ins>Note</ins></font>** &nbsp;-&nbsp; Python does not support multiline comments."
      ],
      "metadata": {
        "id": "kWxiAUoZwn77"
      }
    },
    {
      "cell_type": "markdown",
      "source": [
        "<br><br>\n",
        "\n",
        "<h1>Python Type Conversion</h1>\n",
        "\n",
        "```\n",
        "int(str)\n",
        "float(str)\n",
        "bool(val)\n",
        "str(val)\n",
        "```"
      ],
      "metadata": {
        "id": "X9JQbywQyzp1"
      }
    },
    {
      "cell_type": "code",
      "source": [
        "value = input(\"Enter a value\")          # returns a string\n",
        "print(value)"
      ],
      "metadata": {
        "colab": {
          "base_uri": "https://localhost:8080/"
        },
        "id": "AWGJska1vBaa",
        "outputId": "5e1d9ccf-a8f4-4992-9b47-7af3f8ebd665"
      },
      "execution_count": null,
      "outputs": [
        {
          "output_type": "stream",
          "name": "stdout",
          "text": [
            "Enter a value100\n",
            "100\n"
          ]
        }
      ]
    },
    {
      "cell_type": "code",
      "source": [
        "price = input('Enter the price (inr):')\n",
        "tax = input('Enter the tax rate (%):')\n",
        "\n",
        "tax_amount = price * tax / 100\n",
        "\n",
        "print(f'The tax amount price is inr {tax_amount}')"
      ],
      "metadata": {
        "colab": {
          "base_uri": "https://localhost:8080/",
          "height": 245
        },
        "id": "KUYGXAOgzA57",
        "outputId": "2d71f93c-963d-40cd-b1e9-369abda82f01"
      },
      "execution_count": null,
      "outputs": [
        {
          "name": "stdout",
          "output_type": "stream",
          "text": [
            "Enter the price (inr):100\n",
            "Enter the tax rate (%):10\n"
          ]
        },
        {
          "output_type": "error",
          "ename": "TypeError",
          "evalue": "can't multiply sequence by non-int of type 'str'",
          "traceback": [
            "\u001b[0;31m---------------------------------------------------------------------------\u001b[0m",
            "\u001b[0;31mTypeError\u001b[0m                                 Traceback (most recent call last)",
            "\u001b[0;32m/tmp/ipython-input-60-925149164.py\u001b[0m in \u001b[0;36m<cell line: 0>\u001b[0;34m()\u001b[0m\n\u001b[1;32m      2\u001b[0m \u001b[0mtax\u001b[0m \u001b[0;34m=\u001b[0m \u001b[0minput\u001b[0m\u001b[0;34m(\u001b[0m\u001b[0;34m'Enter the tax rate (%):'\u001b[0m\u001b[0;34m)\u001b[0m\u001b[0;34m\u001b[0m\u001b[0;34m\u001b[0m\u001b[0m\n\u001b[1;32m      3\u001b[0m \u001b[0;34m\u001b[0m\u001b[0m\n\u001b[0;32m----> 4\u001b[0;31m \u001b[0mtax_amount\u001b[0m \u001b[0;34m=\u001b[0m \u001b[0mprice\u001b[0m \u001b[0;34m*\u001b[0m \u001b[0mtax\u001b[0m \u001b[0;34m/\u001b[0m \u001b[0;36m100\u001b[0m\u001b[0;34m\u001b[0m\u001b[0;34m\u001b[0m\u001b[0m\n\u001b[0m\u001b[1;32m      5\u001b[0m \u001b[0;34m\u001b[0m\u001b[0m\n\u001b[1;32m      6\u001b[0m \u001b[0mprint\u001b[0m\u001b[0;34m(\u001b[0m\u001b[0;34mf'The tax amount price is inr {tax_amount}'\u001b[0m\u001b[0;34m)\u001b[0m\u001b[0;34m\u001b[0m\u001b[0;34m\u001b[0m\u001b[0m\n",
            "\u001b[0;31mTypeError\u001b[0m: can't multiply sequence by non-int of type 'str'"
          ]
        }
      ]
    },
    {
      "cell_type": "code",
      "source": [
        "price = input('Enter the price (inr):')\n",
        "tax = input('Enter the tax rate (%):')\n",
        "\n",
        "tax_amount = int(price) * int(tax) / 100\n",
        "\n",
        "print(f'The tax amount price is inr {tax_amount}')"
      ],
      "metadata": {
        "colab": {
          "base_uri": "https://localhost:8080/"
        },
        "id": "HwMnPkzhzxyy",
        "outputId": "521adf0a-d353-4062-bc70-c8e71f69badb"
      },
      "execution_count": null,
      "outputs": [
        {
          "output_type": "stream",
          "name": "stdout",
          "text": [
            "Enter the price (inr):100\n",
            "Enter the tax rate (%):10\n",
            "The tax amount price is inr 10.0\n"
          ]
        }
      ]
    },
    {
      "cell_type": "code",
      "source": [
        "float(\"1.05\")"
      ],
      "metadata": {
        "colab": {
          "base_uri": "https://localhost:8080/"
        },
        "id": "PXwz0GvW0Vn1",
        "outputId": "0d15ebd1-73be-4cb8-be2b-dfad86cb48d1"
      },
      "execution_count": null,
      "outputs": [
        {
          "output_type": "execute_result",
          "data": {
            "text/plain": [
              "1.05"
            ]
          },
          "metadata": {},
          "execution_count": 62
        }
      ]
    },
    {
      "cell_type": "code",
      "source": [
        "float(\"one point zero five\")"
      ],
      "metadata": {
        "colab": {
          "base_uri": "https://localhost:8080/",
          "height": 141
        },
        "id": "2_GMVhfr6MgS",
        "outputId": "aa27fd5c-64da-4678-da54-0e4458cbc1c6"
      },
      "execution_count": null,
      "outputs": [
        {
          "output_type": "error",
          "ename": "ValueError",
          "evalue": "could not convert string to float: 'one point zero five'",
          "traceback": [
            "\u001b[0;31m---------------------------------------------------------------------------\u001b[0m",
            "\u001b[0;31mValueError\u001b[0m                                Traceback (most recent call last)",
            "\u001b[0;32m/tmp/ipython-input-63-4128066935.py\u001b[0m in \u001b[0;36m<cell line: 0>\u001b[0;34m()\u001b[0m\n\u001b[0;32m----> 1\u001b[0;31m \u001b[0mfloat\u001b[0m\u001b[0;34m(\u001b[0m\u001b[0;34m\"one point zero five\"\u001b[0m\u001b[0;34m)\u001b[0m\u001b[0;34m\u001b[0m\u001b[0;34m\u001b[0m\u001b[0m\n\u001b[0m",
            "\u001b[0;31mValueError\u001b[0m: could not convert string to float: 'one point zero five'"
          ]
        }
      ]
    },
    {
      "cell_type": "code",
      "source": [
        "bool(1.05)"
      ],
      "metadata": {
        "colab": {
          "base_uri": "https://localhost:8080/"
        },
        "id": "s6D3FW_q6UQp",
        "outputId": "13cb92d5-7b78-44d6-b0ea-c7fa29fa55c2"
      },
      "execution_count": null,
      "outputs": [
        {
          "output_type": "execute_result",
          "data": {
            "text/plain": [
              "True"
            ]
          },
          "metadata": {},
          "execution_count": 64
        }
      ]
    },
    {
      "cell_type": "code",
      "source": [
        "del str\n",
        "str(1.05)"
      ],
      "metadata": {
        "colab": {
          "base_uri": "https://localhost:8080/",
          "height": 35
        },
        "id": "LhKUyReo6g1B",
        "outputId": "87f442d9-10d7-43b6-b649-090bce8eebf4"
      },
      "execution_count": null,
      "outputs": [
        {
          "output_type": "execute_result",
          "data": {
            "text/plain": [
              "'1.05'"
            ],
            "application/vnd.google.colaboratory.intrinsic+json": {
              "type": "string"
            }
          },
          "metadata": {},
          "execution_count": 70
        }
      ]
    },
    {
      "cell_type": "code",
      "source": [
        "str = 'I am '\n",
        "age = 25\n",
        "\n",
        "print(str + str(age))"
      ],
      "metadata": {
        "colab": {
          "base_uri": "https://localhost:8080/",
          "height": 176
        },
        "id": "D4xjXauO6kiz",
        "outputId": "53515db3-3cfd-4feb-d11e-b2e59442d1f3"
      },
      "execution_count": null,
      "outputs": [
        {
          "output_type": "error",
          "ename": "TypeError",
          "evalue": "'str' object is not callable",
          "traceback": [
            "\u001b[0;31m---------------------------------------------------------------------------\u001b[0m",
            "\u001b[0;31mTypeError\u001b[0m                                 Traceback (most recent call last)",
            "\u001b[0;32m/tmp/ipython-input-71-2384210303.py\u001b[0m in \u001b[0;36m<cell line: 0>\u001b[0;34m()\u001b[0m\n\u001b[1;32m      2\u001b[0m \u001b[0mage\u001b[0m \u001b[0;34m=\u001b[0m \u001b[0;36m25\u001b[0m\u001b[0;34m\u001b[0m\u001b[0;34m\u001b[0m\u001b[0m\n\u001b[1;32m      3\u001b[0m \u001b[0;34m\u001b[0m\u001b[0m\n\u001b[0;32m----> 4\u001b[0;31m \u001b[0mprint\u001b[0m\u001b[0;34m(\u001b[0m\u001b[0mstr\u001b[0m \u001b[0;34m+\u001b[0m \u001b[0mstr\u001b[0m\u001b[0;34m(\u001b[0m\u001b[0mage\u001b[0m\u001b[0;34m)\u001b[0m\u001b[0;34m)\u001b[0m\u001b[0;34m\u001b[0m\u001b[0;34m\u001b[0m\u001b[0m\n\u001b[0m",
            "\u001b[0;31mTypeError\u001b[0m: 'str' object is not callable"
          ]
        }
      ]
    },
    {
      "cell_type": "code",
      "source": [
        "text = 'I am '\n",
        "age = 25\n",
        "\n",
        "print(text + str(age))"
      ],
      "metadata": {
        "colab": {
          "base_uri": "https://localhost:8080/",
          "height": 176
        },
        "id": "faPyCedQ-UtL",
        "outputId": "8265a0b7-1830-4c74-9045-dc7912327a16"
      },
      "execution_count": null,
      "outputs": [
        {
          "output_type": "error",
          "ename": "TypeError",
          "evalue": "'str' object is not callable",
          "traceback": [
            "\u001b[0;31m---------------------------------------------------------------------------\u001b[0m",
            "\u001b[0;31mTypeError\u001b[0m                                 Traceback (most recent call last)",
            "\u001b[0;32m/tmp/ipython-input-72-1080277373.py\u001b[0m in \u001b[0;36m<cell line: 0>\u001b[0;34m()\u001b[0m\n\u001b[1;32m      2\u001b[0m \u001b[0mage\u001b[0m \u001b[0;34m=\u001b[0m \u001b[0;36m25\u001b[0m\u001b[0;34m\u001b[0m\u001b[0;34m\u001b[0m\u001b[0m\n\u001b[1;32m      3\u001b[0m \u001b[0;34m\u001b[0m\u001b[0m\n\u001b[0;32m----> 4\u001b[0;31m \u001b[0mprint\u001b[0m\u001b[0;34m(\u001b[0m\u001b[0mtext\u001b[0m \u001b[0;34m+\u001b[0m \u001b[0mstr\u001b[0m\u001b[0;34m(\u001b[0m\u001b[0mage\u001b[0m\u001b[0;34m)\u001b[0m\u001b[0;34m)\u001b[0m\u001b[0;34m\u001b[0m\u001b[0;34m\u001b[0m\u001b[0m\n\u001b[0m",
            "\u001b[0;31mTypeError\u001b[0m: 'str' object is not callable"
          ]
        }
      ]
    },
    {
      "cell_type": "code",
      "source": [
        "del str\n",
        "text = 'I am '\n",
        "age = 25\n",
        "\n",
        "print(text + str(age))"
      ],
      "metadata": {
        "colab": {
          "base_uri": "https://localhost:8080/"
        },
        "id": "ndChbAsa-gnc",
        "outputId": "f3d60acd-a106-4f6f-d179-d0a2a4d8d99b"
      },
      "execution_count": null,
      "outputs": [
        {
          "output_type": "stream",
          "name": "stdout",
          "text": [
            "I am 25\n"
          ]
        }
      ]
    },
    {
      "cell_type": "code",
      "source": [
        "type(100)"
      ],
      "metadata": {
        "colab": {
          "base_uri": "https://localhost:8080/"
        },
        "id": "G8NiNrUG-l9e",
        "outputId": "b62859cf-f733-4bf9-9b09-c7003a104aff"
      },
      "execution_count": null,
      "outputs": [
        {
          "output_type": "execute_result",
          "data": {
            "text/plain": [
              "int"
            ]
          },
          "metadata": {},
          "execution_count": 75
        }
      ]
    },
    {
      "cell_type": "code",
      "source": [
        "type(2.0)"
      ],
      "metadata": {
        "colab": {
          "base_uri": "https://localhost:8080/"
        },
        "id": "zsMmH37mAFUq",
        "outputId": "bb84081b-864b-47d1-9623-8ee78a846904"
      },
      "execution_count": null,
      "outputs": [
        {
          "output_type": "execute_result",
          "data": {
            "text/plain": [
              "float"
            ]
          },
          "metadata": {},
          "execution_count": 76
        }
      ]
    },
    {
      "cell_type": "code",
      "source": [
        "type('Hello')"
      ],
      "metadata": {
        "colab": {
          "base_uri": "https://localhost:8080/"
        },
        "id": "XcScBQDlAIEE",
        "outputId": "84187fdb-72b6-4417-af6a-93f68455af84"
      },
      "execution_count": null,
      "outputs": [
        {
          "output_type": "execute_result",
          "data": {
            "text/plain": [
              "str"
            ]
          },
          "metadata": {},
          "execution_count": 77
        }
      ]
    },
    {
      "cell_type": "code",
      "source": [
        "type(True)"
      ],
      "metadata": {
        "colab": {
          "base_uri": "https://localhost:8080/"
        },
        "id": "uQMPab3YAK_X",
        "outputId": "db88c79a-d188-4b3e-c1fc-eee59c39f6a4"
      },
      "execution_count": null,
      "outputs": [
        {
          "output_type": "execute_result",
          "data": {
            "text/plain": [
              "bool"
            ]
          },
          "metadata": {},
          "execution_count": 78
        }
      ]
    },
    {
      "cell_type": "markdown",
      "source": [
        "<br><br>\n",
        "\n",
        "<h1>Operators</h1>\n",
        "\n",
        "<font size=\"+1.3\">🔶</font> &nbsp;<ins>**<font size=\"+1\">Arithmetic &nbsp;Operators</font>**</ins>"
      ],
      "metadata": {
        "id": "LONYFXlWL8k1"
      }
    },
    {
      "cell_type": "code",
      "source": [
        "a = 10\n",
        "b = 3\n",
        "result = a + b\n",
        "\n",
        "\n",
        "print(result)"
      ],
      "metadata": {
        "colab": {
          "base_uri": "https://localhost:8080/"
        },
        "id": "PffOTbhWANq5",
        "outputId": "7e45646e-445c-4a41-e3b6-67fcd483f16d"
      },
      "execution_count": 3,
      "outputs": [
        {
          "output_type": "stream",
          "name": "stdout",
          "text": [
            "13\n"
          ]
        }
      ]
    },
    {
      "cell_type": "code",
      "source": [
        "a = 10\n",
        "b = 3\n",
        "result = a - b\n",
        "\n",
        "\n",
        "print(result)"
      ],
      "metadata": {
        "colab": {
          "base_uri": "https://localhost:8080/"
        },
        "id": "JkCB9kWeMjwM",
        "outputId": "6835b496-84d7-4aa0-f58b-f62a20603b83"
      },
      "execution_count": 4,
      "outputs": [
        {
          "output_type": "stream",
          "name": "stdout",
          "text": [
            "7\n"
          ]
        }
      ]
    },
    {
      "cell_type": "code",
      "source": [
        "a = 10\n",
        "b = 3\n",
        "result = a * b\n",
        "\n",
        "\n",
        "print(result)"
      ],
      "metadata": {
        "colab": {
          "base_uri": "https://localhost:8080/"
        },
        "id": "ipbZFL3uMq_e",
        "outputId": "073407c5-a7e8-4ec0-e6c9-eae180158469"
      },
      "execution_count": 5,
      "outputs": [
        {
          "output_type": "stream",
          "name": "stdout",
          "text": [
            "30\n"
          ]
        }
      ]
    },
    {
      "cell_type": "code",
      "source": [
        "a = 10\n",
        "b = 3\n",
        "result = a / b\n",
        "\n",
        "\n",
        "print(result)"
      ],
      "metadata": {
        "colab": {
          "base_uri": "https://localhost:8080/"
        },
        "id": "a_sLGO-nM3WM",
        "outputId": "4a7d657a-5990-4023-c061-eaf8705529ea"
      },
      "execution_count": 6,
      "outputs": [
        {
          "output_type": "stream",
          "name": "stdout",
          "text": [
            "3.3333333333333335\n"
          ]
        }
      ]
    },
    {
      "cell_type": "code",
      "source": [
        "a = 10\n",
        "b = 3\n",
        "result = a // b\n",
        "\n",
        "\n",
        "print(result)"
      ],
      "metadata": {
        "colab": {
          "base_uri": "https://localhost:8080/"
        },
        "id": "n-5aK_F4NLZo",
        "outputId": "2cff21be-ee4a-4041-f389-7eac0fe0f08f"
      },
      "execution_count": 7,
      "outputs": [
        {
          "output_type": "stream",
          "name": "stdout",
          "text": [
            "3\n"
          ]
        }
      ]
    },
    {
      "cell_type": "code",
      "source": [
        "a = 10\n",
        "b = 3\n",
        "result = a % b\n",
        "\n",
        "\n",
        "print(result)"
      ],
      "metadata": {
        "colab": {
          "base_uri": "https://localhost:8080/"
        },
        "id": "5t_JBH9NNrHY",
        "outputId": "05a2ff77-b938-4b4c-85e5-b5c82a35d098"
      },
      "execution_count": 8,
      "outputs": [
        {
          "output_type": "stream",
          "name": "stdout",
          "text": [
            "1\n"
          ]
        }
      ]
    },
    {
      "cell_type": "code",
      "source": [
        "a = 101\n",
        "\n",
        "if a % 2 == 1:\n",
        "  print(f'{a} is odd')\n",
        "else:\n",
        "  print(f'{a} is even')"
      ],
      "metadata": {
        "colab": {
          "base_uri": "https://localhost:8080/"
        },
        "id": "TsV5oAraN8Ti",
        "outputId": "e560d407-ca91-4007-8730-ed3c8fa767c0"
      },
      "execution_count": null,
      "outputs": [
        {
          "output_type": "stream",
          "name": "stdout",
          "text": [
            "101 is odd\n"
          ]
        }
      ]
    },
    {
      "cell_type": "code",
      "source": [
        "year = 2024\n",
        "\n",
        "if (year % 4 == 0 and year % 100 != 0) or (year % 400 == 0):\n",
        "  print(f\"{year} is a leap year.\")\n",
        "else:\n",
        "  print(f\"{year} is not a leap year\")"
      ],
      "metadata": {
        "colab": {
          "base_uri": "https://localhost:8080/"
        },
        "id": "tsEn2OsmOYFL",
        "outputId": "bc950bd0-c08b-44eb-ad1c-d24973183b11"
      },
      "execution_count": null,
      "outputs": [
        {
          "output_type": "stream",
          "name": "stdout",
          "text": [
            "2024 is a leap year.\n"
          ]
        }
      ]
    },
    {
      "cell_type": "code",
      "source": [
        "a = 10\n",
        "b = 3\n",
        "result = a ** b\n",
        "\n",
        "\n",
        "print(result)"
      ],
      "metadata": {
        "colab": {
          "base_uri": "https://localhost:8080/"
        },
        "id": "6JjEY-FlPI2C",
        "outputId": "78559130-72ba-4cd8-fcc0-1de4b0bdccd2"
      },
      "execution_count": 9,
      "outputs": [
        {
          "output_type": "stream",
          "name": "stdout",
          "text": [
            "1000\n"
          ]
        }
      ]
    },
    {
      "cell_type": "code",
      "source": [
        "principal = 1000\n",
        "interest_rate = 0.05\n",
        "year = 2\n",
        "amount = principal * (1 + interest_rate) ** year\n",
        "\n",
        "\n",
        "print(f\"Total Amount: ${amount:,.2f}\")"
      ],
      "metadata": {
        "colab": {
          "base_uri": "https://localhost:8080/"
        },
        "id": "lwuMTqd4PWYx",
        "outputId": "24b110d4-86a7-484c-d8e2-b2ef83a7ea27"
      },
      "execution_count": 10,
      "outputs": [
        {
          "output_type": "stream",
          "name": "stdout",
          "text": [
            "Total Amount: $1,102.50\n"
          ]
        }
      ]
    },
    {
      "cell_type": "markdown",
      "source": [
        "<font size=\"+1.3\">🔶</font> &nbsp;<ins><font size=\"+1\">**Assignment &nbsp;Operators**</font></ins>\n"
      ],
      "metadata": {
        "id": "NLjHnLPORLtf"
      }
    },
    {
      "cell_type": "code",
      "source": [
        "count = 0\n",
        "print(count)"
      ],
      "metadata": {
        "colab": {
          "base_uri": "https://localhost:8080/"
        },
        "id": "VVmhxuzWP5R5",
        "outputId": "6a53efe2-f94e-4b04-d8b9-7a8286ae9e81"
      },
      "execution_count": null,
      "outputs": [
        {
          "output_type": "stream",
          "name": "stdout",
          "text": [
            "0\n"
          ]
        }
      ]
    },
    {
      "cell_type": "code",
      "source": [
        "count = 0\n",
        "count = count + 1\n",
        "\n",
        "print(count)"
      ],
      "metadata": {
        "colab": {
          "base_uri": "https://localhost:8080/"
        },
        "id": "0ZJF-mRkR4S9",
        "outputId": "b947410e-7ad6-4e79-8501-23f9c8009f14"
      },
      "execution_count": null,
      "outputs": [
        {
          "output_type": "stream",
          "name": "stdout",
          "text": [
            "1\n"
          ]
        }
      ]
    },
    {
      "cell_type": "code",
      "source": [
        "count = 0\n",
        "count += 1                 # count = count + 1\n",
        "\n",
        "print(count)"
      ],
      "metadata": {
        "colab": {
          "base_uri": "https://localhost:8080/"
        },
        "id": "8hrGbYQXR9yq",
        "outputId": "ee64589c-56f6-4aca-92e8-fd706f8c3b0c"
      },
      "execution_count": null,
      "outputs": [
        {
          "output_type": "stream",
          "name": "stdout",
          "text": [
            "1\n"
          ]
        }
      ]
    },
    {
      "cell_type": "code",
      "source": [
        "quantity = 5\n",
        "quantity -= 2              # quantity = quantity - 2\n",
        "\n",
        "print(quantity)"
      ],
      "metadata": {
        "colab": {
          "base_uri": "https://localhost:8080/"
        },
        "id": "ewY6EA3wSQ6A",
        "outputId": "1267159b-125f-45cc-9078-a09e8584580d"
      },
      "execution_count": null,
      "outputs": [
        {
          "output_type": "stream",
          "name": "stdout",
          "text": [
            "3\n"
          ]
        }
      ]
    },
    {
      "cell_type": "code",
      "source": [
        "a = 10\n",
        "a *= 2                     # a = a * 2\n",
        "\n",
        "print(a)"
      ],
      "metadata": {
        "colab": {
          "base_uri": "https://localhost:8080/"
        },
        "id": "ZBsfCciOSamS",
        "outputId": "36998cf9-51c0-4ae2-cbfd-e0587cd1ce9c"
      },
      "execution_count": null,
      "outputs": [
        {
          "output_type": "stream",
          "name": "stdout",
          "text": [
            "20\n"
          ]
        }
      ]
    },
    {
      "cell_type": "code",
      "source": [
        "amount = 25\n",
        "amount /= 2                # amount = amount / 2\n",
        "\n",
        "print(amount)"
      ],
      "metadata": {
        "colab": {
          "base_uri": "https://localhost:8080/"
        },
        "id": "mLJ3Au03Srmf",
        "outputId": "58ecc36d-45f5-4964-bbad-620690d72b3a"
      },
      "execution_count": null,
      "outputs": [
        {
          "output_type": "stream",
          "name": "stdout",
          "text": [
            "12.5\n"
          ]
        }
      ]
    },
    {
      "cell_type": "code",
      "source": [
        "amount = 10\n",
        "amount %= 3                # amount = amount % 3\n",
        "\n",
        "print(amount)"
      ],
      "metadata": {
        "colab": {
          "base_uri": "https://localhost:8080/"
        },
        "id": "2912DNmPSzt3",
        "outputId": "379c8f9d-7347-4fe7-8f86-09ba52dad534"
      },
      "execution_count": null,
      "outputs": [
        {
          "output_type": "stream",
          "name": "stdout",
          "text": [
            "1\n"
          ]
        }
      ]
    },
    {
      "cell_type": "code",
      "source": [
        "a = 2\n",
        "a **= 3                    # a = a ** 3\n",
        "\n",
        "print(a)"
      ],
      "metadata": {
        "colab": {
          "base_uri": "https://localhost:8080/"
        },
        "id": "UyqrTBXHTAMP",
        "outputId": "2e50f325-7b43-4acd-e71e-6e259225a787"
      },
      "execution_count": null,
      "outputs": [
        {
          "output_type": "stream",
          "name": "stdout",
          "text": [
            "8\n"
          ]
        }
      ]
    },
    {
      "cell_type": "markdown",
      "source": [
        "<font size=\"+1.3\">🔶</font> &nbsp;<ins><font size=\"+1\">**Comparison &nbsp;Operators**</font></ins>\n",
        "\n",
        "&nbsp;&nbsp;&nbsp;&nbsp;&nbsp;&nbsp;&nbsp;<font size=\"+1.2\">▪️</font>&nbsp; `<`  <br>\n",
        "&nbsp;&nbsp;&nbsp;&nbsp;&nbsp;&nbsp;&nbsp;<font size=\"+1.2\">▪️</font>&nbsp; `<=` <br>\n",
        "&nbsp;&nbsp;&nbsp;&nbsp;&nbsp;&nbsp;&nbsp;<font size=\"+1.2\">▪️</font>&nbsp; `>`  <br>\n",
        "&nbsp;&nbsp;&nbsp;&nbsp;&nbsp;&nbsp;&nbsp;<font size=\"+1.2\">▪️</font>&nbsp; `>=` <br>\n",
        "&nbsp;&nbsp;&nbsp;&nbsp;&nbsp;&nbsp;&nbsp;<font size=\"+1.2\">▪️</font>&nbsp; `==` <br>\n",
        "&nbsp;&nbsp;&nbsp;&nbsp;&nbsp;&nbsp;&nbsp;<font size=\"+1.2\">▪️</font>&nbsp; `!=`"
      ],
      "metadata": {
        "id": "GuGUR4oVTitH"
      }
    },
    {
      "cell_type": "code",
      "source": [
        "x = 10\n",
        "y = 20\n",
        "\n",
        "result = x < y\n",
        "print(result)\n",
        "\n",
        "result = x > y\n",
        "print(result)"
      ],
      "metadata": {
        "colab": {
          "base_uri": "https://localhost:8080/"
        },
        "id": "figdYT7gTPKw",
        "outputId": "eb147f2d-4a58-4065-f732-6cf34bdc324e"
      },
      "execution_count": null,
      "outputs": [
        {
          "output_type": "stream",
          "name": "stdout",
          "text": [
            "True\n",
            "False\n"
          ]
        }
      ]
    },
    {
      "cell_type": "code",
      "source": [
        "result = 'apple' < 'orange'               # returns True because the letter 'a' in apple is before the letter 'o' in orange\n",
        "print(result)\n",
        "\n",
        "result = 'banana' < 'apple'               # returns False because the letter 'b' is after the letter 'a'\n",
        "print(result)"
      ],
      "metadata": {
        "colab": {
          "base_uri": "https://localhost:8080/"
        },
        "id": "hIVF4CDjUolW",
        "outputId": "fe177495-3224-4b18-a580-e6b3c5272580"
      },
      "execution_count": null,
      "outputs": [
        {
          "output_type": "stream",
          "name": "stdout",
          "text": [
            "True\n",
            "False\n"
          ]
        }
      ]
    },
    {
      "cell_type": "code",
      "source": [
        "result = 'apple' >= 'apple'\n",
        "print(result)\n",
        "\n",
        "result = 'apple' >= 'orange'\n",
        "print(result)\n",
        "\n",
        "result = 'orange' >= 'apple'\n",
        "print(result)"
      ],
      "metadata": {
        "colab": {
          "base_uri": "https://localhost:8080/"
        },
        "id": "8vC_pkW-U-fx",
        "outputId": "db467b18-e0b6-4449-e2ee-119d554081e5"
      },
      "execution_count": null,
      "outputs": [
        {
          "output_type": "stream",
          "name": "stdout",
          "text": [
            "True\n",
            "False\n",
            "True\n"
          ]
        }
      ]
    },
    {
      "cell_type": "code",
      "source": [
        "result = 20 == 10\n",
        "print(result)\n",
        "\n",
        "result = 20 == 20\n",
        "print(result)"
      ],
      "metadata": {
        "colab": {
          "base_uri": "https://localhost:8080/"
        },
        "id": "wnYvpWrfW394",
        "outputId": "1211e69b-ff78-4539-a09f-ae04508376fd"
      },
      "execution_count": null,
      "outputs": [
        {
          "output_type": "stream",
          "name": "stdout",
          "text": [
            "False\n",
            "True\n"
          ]
        }
      ]
    },
    {
      "cell_type": "code",
      "source": [
        "result = 'apple' == 'apple'\n",
        "print(result)\n",
        "\n",
        "result = 'apple' == 'orange'\n",
        "print(result)"
      ],
      "metadata": {
        "colab": {
          "base_uri": "https://localhost:8080/"
        },
        "id": "E51pJZz3X2q4",
        "outputId": "6b81a37a-86ca-46c6-f824-924580028a56"
      },
      "execution_count": null,
      "outputs": [
        {
          "output_type": "stream",
          "name": "stdout",
          "text": [
            "True\n",
            "False\n"
          ]
        }
      ]
    },
    {
      "cell_type": "code",
      "source": [
        "result = 'apple' != 'apple'\n",
        "print(result)\n",
        "\n",
        "result = 'apple' != 'orange'\n",
        "print(result)"
      ],
      "metadata": {
        "colab": {
          "base_uri": "https://localhost:8080/"
        },
        "id": "RZ227C75YESg",
        "outputId": "530222a6-3507-4951-8673-b5505d598357"
      },
      "execution_count": null,
      "outputs": [
        {
          "output_type": "stream",
          "name": "stdout",
          "text": [
            "False\n",
            "True\n"
          ]
        }
      ]
    },
    {
      "cell_type": "markdown",
      "source": [
        "<font size=\"+1.3\">🔶</font> &nbsp;<ins><font size=\"+1\">**Logical &nbsp;Operators**</font></ins>\n",
        "\n",
        "- `and`\n",
        "- `or`\n",
        "- `not`"
      ],
      "metadata": {
        "id": "-Uei_IpRdXST"
      }
    },
    {
      "cell_type": "code",
      "source": [
        "price = 9.99\n",
        "result = price > 9 and price < 10\n",
        "print(result)"
      ],
      "metadata": {
        "id": "YGkSsDD1YW8Z",
        "colab": {
          "base_uri": "https://localhost:8080/"
        },
        "outputId": "88659307-d51c-49d8-bb31-62da8fbe4dfd"
      },
      "execution_count": null,
      "outputs": [
        {
          "output_type": "stream",
          "name": "stdout",
          "text": [
            "True\n"
          ]
        }
      ]
    },
    {
      "cell_type": "code",
      "source": [
        "price = 9.99\n",
        "result = price > 10 or price < 5\n",
        "print(result)"
      ],
      "metadata": {
        "colab": {
          "base_uri": "https://localhost:8080/"
        },
        "id": "EAODwBW8q6TW",
        "outputId": "89a7d23d-2b78-4311-981b-9356f882a31b"
      },
      "execution_count": null,
      "outputs": [
        {
          "output_type": "stream",
          "name": "stdout",
          "text": [
            "False\n"
          ]
        }
      ]
    },
    {
      "cell_type": "code",
      "source": [
        "a = True\n",
        "not a"
      ],
      "metadata": {
        "colab": {
          "base_uri": "https://localhost:8080/"
        },
        "id": "PVgrE2VwuFjp",
        "outputId": "709377b2-19b5-45ed-83ac-69fb944affd0"
      },
      "execution_count": null,
      "outputs": [
        {
          "output_type": "execute_result",
          "data": {
            "text/plain": [
              "False"
            ]
          },
          "metadata": {},
          "execution_count": 2
        }
      ]
    },
    {
      "cell_type": "code",
      "source": [
        "price = 9.99\n",
        "result = not price > 10\n",
        "print(result)"
      ],
      "metadata": {
        "colab": {
          "base_uri": "https://localhost:8080/"
        },
        "id": "bpg4o-Cmu2px",
        "outputId": "58f1a291-5478-4e7b-98f9-9cacd411e0d4"
      },
      "execution_count": null,
      "outputs": [
        {
          "output_type": "stream",
          "name": "stdout",
          "text": [
            "True\n"
          ]
        }
      ]
    },
    {
      "cell_type": "code",
      "source": [
        "price = 9.99\n",
        "result = not (price > 5 and price < 10)\n",
        "print(result)"
      ],
      "metadata": {
        "colab": {
          "base_uri": "https://localhost:8080/"
        },
        "id": "SOGiy0VkCnoQ",
        "outputId": "ccd8331d-048d-43fa-bf08-b2d7efde7752"
      },
      "execution_count": null,
      "outputs": [
        {
          "output_type": "stream",
          "name": "stdout",
          "text": [
            "False\n"
          ]
        }
      ]
    },
    {
      "cell_type": "markdown",
      "source": [
        "⭐ &nbsp;<ins>Precedence of Logical Operators</ins>\n",
        "\n",
        "<br>\n",
        "\n",
        "| Operator | Precedence |\n",
        "|----------|------------|\n",
        "| not      | High       |\n",
        "| and      | Medium     |\n",
        "| or       | Low        |\n",
        "\n",
        "<br>\n",
        "\n",
        "|                    |       |                        |\n",
        "|--------------------|-------|------------------------|\n",
        "| a &nbsp;or&nbsp; b &nbsp;and&nbsp; c       | &nbsp;&nbsp;&nbsp;&nbsp;&nbsp;&nbsp;means&nbsp;&nbsp;&nbsp;&nbsp;&nbsp;&nbsp; | &nbsp;&nbsp;a &nbsp;or&nbsp; (b &nbsp;and&nbsp; c) |\n",
        "| a &nbsp;and&nbsp; b &nbsp;or&nbsp; c &nbsp;and&nbsp; d | &nbsp;&nbsp;&nbsp;&nbsp;&nbsp;&nbsp;means&nbsp;&nbsp;&nbsp;&nbsp;&nbsp;&nbsp; | &nbsp;&nbsp;(a &nbsp;and&nbsp; b) &nbsp;or&nbsp; (c &nbsp;and&nbsp; d) |\n",
        "| a &nbsp;and &nbsp;b &nbsp;and&nbsp; c &nbsp;or&nbsp; d | &nbsp;&nbsp;&nbsp;&nbsp;&nbsp;&nbsp;means&nbsp;&nbsp;&nbsp;&nbsp;&nbsp;&nbsp; | &nbsp;&nbsp;((a &nbsp;and&nbsp; b) &nbsp;and&nbsp; c) &nbsp;or&nbsp; d |\n",
        "| not &nbsp;a &nbsp;and &nbsp;b &nbsp;or&nbsp; c   | &nbsp;&nbsp;&nbsp;&nbsp;&nbsp;&nbsp;means&nbsp;&nbsp;&nbsp;&nbsp;&nbsp;&nbsp; | &nbsp;&nbsp;((not &nbsp;a) &nbsp;and &nbsp;b) &nbsp;or&nbsp; c |"
      ],
      "metadata": {
        "id": "nPndz0ruDJNm"
      }
    },
    {
      "cell_type": "markdown",
      "source": [
        "<br><br>\n",
        "\n",
        "<h1>Python &nbsp;if &nbsp;Statement</h1>"
      ],
      "metadata": {
        "id": "OcVC7eQTJesK"
      }
    },
    {
      "cell_type": "code",
      "source": [
        "age = input('Enter your age:')\n",
        "if int(age) >= 18:\n",
        "  print(\"You're eligible to vote.\")"
      ],
      "metadata": {
        "colab": {
          "base_uri": "https://localhost:8080/"
        },
        "id": "WWopxSyaDHCp",
        "outputId": "b28d641e-4578-4d70-b7d0-46bbc93f0c36"
      },
      "execution_count": null,
      "outputs": [
        {
          "output_type": "stream",
          "name": "stdout",
          "text": [
            "Enter your age:20\n",
            "You're eligible to vote.\n"
          ]
        }
      ]
    },
    {
      "cell_type": "code",
      "source": [
        "age = input('Enter your age:')\n",
        "if int(age) >= 18:\n",
        "  print(\"You're eligible to vote.\")\n",
        "else:\n",
        "  print(\"You're not eligile to vote.\")"
      ],
      "metadata": {
        "colab": {
          "base_uri": "https://localhost:8080/"
        },
        "id": "NJm_jC94Kjur",
        "outputId": "61178b13-04c9-47de-8f6d-78fb2399dd68"
      },
      "execution_count": null,
      "outputs": [
        {
          "output_type": "stream",
          "name": "stdout",
          "text": [
            "Enter your age:17\n",
            "You're not eligile to vote.\n"
          ]
        }
      ]
    },
    {
      "cell_type": "code",
      "source": [
        "age = input('Enter your age:')\n",
        "\n",
        "\n",
        "# convert the string to int\n",
        "your_age = int(age)\n",
        "\n",
        "\n",
        "# determine the ticket price\n",
        "if your_age < 5:\n",
        "  ticket_price = 5\n",
        "elif your_age < 16:\n",
        "  ticket_price = 10\n",
        "else:\n",
        "  ticket_price = 18\n",
        "\n",
        "\n",
        "# show the ticket price\n",
        "print(f\"You'll pay ${ticket_price} for the ticket\")\n"
      ],
      "metadata": {
        "colab": {
          "base_uri": "https://localhost:8080/"
        },
        "id": "N_3wk-YuLEDH",
        "outputId": "0a4ff488-10cb-4ab5-af96-5ed9fa37b6d5"
      },
      "execution_count": null,
      "outputs": [
        {
          "output_type": "stream",
          "name": "stdout",
          "text": [
            "Enter your age:5\n",
            "You'll pay $10 for the ticket\n"
          ]
        }
      ]
    },
    {
      "cell_type": "markdown",
      "source": [
        "<br><br>\n",
        "\n",
        "<h1>Python &nbsp;Ternary&nbsp; Operaor</h1>\n",
        "\n",
        "```\n",
        "value_if_true  if  condition  else  value_if_false\n",
        "```\n",
        "\n",
        "```\n",
        "if condition:\n",
        "  value_if_true\n",
        "else:\n",
        "  value_if_false\n",
        "```"
      ],
      "metadata": {
        "id": "__eu8TcWM9DG"
      }
    },
    {
      "cell_type": "code",
      "source": [
        "age = 19\n",
        "if age >= 18:\n",
        "  ticket_price = 20\n",
        "else:\n",
        "  ticket_price = 5\n",
        "\n",
        "print(f\"The ticket price is ${ticket_price}\")"
      ],
      "metadata": {
        "colab": {
          "base_uri": "https://localhost:8080/"
        },
        "id": "kC4MD8kIL9MN",
        "outputId": "a07862bd-5b72-4a38-f4b9-cf0b60922706"
      },
      "execution_count": null,
      "outputs": [
        {
          "output_type": "stream",
          "name": "stdout",
          "text": [
            "The ticket price is $20\n"
          ]
        }
      ]
    },
    {
      "cell_type": "code",
      "source": [
        "age = 20\n",
        "ticket_price = 20 if int(age) >= 18 else 5\n",
        "\n",
        "print(f\"The ticket price is ${ticket_price}\")"
      ],
      "metadata": {
        "colab": {
          "base_uri": "https://localhost:8080/"
        },
        "id": "yJAA4NkINd1D",
        "outputId": "de003a23-5745-428c-d78c-959dd52d477e"
      },
      "execution_count": null,
      "outputs": [
        {
          "output_type": "stream",
          "name": "stdout",
          "text": [
            "The ticket price is $20\n"
          ]
        }
      ]
    },
    {
      "cell_type": "markdown",
      "source": [
        "<br><br>\n",
        "\n",
        "<h1>Python for Loop with Range</h1>\n",
        "\n",
        "```\n",
        "range(start, stop, step)\n",
        "```"
      ],
      "metadata": {
        "id": "PaNiR6IuPjsD"
      }
    },
    {
      "cell_type": "code",
      "source": [
        "for index in range(5):\n",
        "  print(index)"
      ],
      "metadata": {
        "colab": {
          "base_uri": "https://localhost:8080/"
        },
        "id": "eI5hm_sHO4nf",
        "outputId": "4fbd8b71-7e97-49a3-df6a-07f048edc89c"
      },
      "execution_count": null,
      "outputs": [
        {
          "output_type": "stream",
          "name": "stdout",
          "text": [
            "0\n",
            "1\n",
            "2\n",
            "3\n",
            "4\n"
          ]
        }
      ]
    },
    {
      "cell_type": "code",
      "source": [
        "for index in range(5):\n",
        "  print(index + 1)"
      ],
      "metadata": {
        "colab": {
          "base_uri": "https://localhost:8080/"
        },
        "id": "Ly5C4lA1P2r6",
        "outputId": "97e19713-fc2f-42d2-8858-d97ad814ccc8"
      },
      "execution_count": null,
      "outputs": [
        {
          "output_type": "stream",
          "name": "stdout",
          "text": [
            "1\n",
            "2\n",
            "3\n",
            "4\n",
            "5\n"
          ]
        }
      ]
    },
    {
      "cell_type": "code",
      "source": [
        "for index in range(1, 6):\n",
        "  print(index)"
      ],
      "metadata": {
        "colab": {
          "base_uri": "https://localhost:8080/"
        },
        "id": "mg9pRVYaQgB5",
        "outputId": "6eb295e5-6fe1-45b2-f868-ceca6031a00a"
      },
      "execution_count": null,
      "outputs": [
        {
          "output_type": "stream",
          "name": "stdout",
          "text": [
            "1\n",
            "2\n",
            "3\n",
            "4\n",
            "5\n"
          ]
        }
      ]
    },
    {
      "cell_type": "code",
      "source": [
        "for index in range(0, 11, 2):\n",
        "  print(index)"
      ],
      "metadata": {
        "colab": {
          "base_uri": "https://localhost:8080/"
        },
        "id": "HFA0fL3mRKp5",
        "outputId": "31f24e8c-afa2-488d-b59b-30789d1c4d3d"
      },
      "execution_count": null,
      "outputs": [
        {
          "output_type": "stream",
          "name": "stdout",
          "text": [
            "0\n",
            "2\n",
            "4\n",
            "6\n",
            "8\n",
            "10\n"
          ]
        }
      ]
    },
    {
      "cell_type": "code",
      "source": [
        "sum = 0\n",
        "for num in range(101):\n",
        "  sum += num\n",
        "\n",
        "print(sum)"
      ],
      "metadata": {
        "colab": {
          "base_uri": "https://localhost:8080/"
        },
        "id": "R1X235-ERT7I",
        "outputId": "c78029d6-78d8-4616-88d6-b857ceb8f5e8"
      },
      "execution_count": null,
      "outputs": [
        {
          "output_type": "stream",
          "name": "stdout",
          "text": [
            "5050\n"
          ]
        }
      ]
    },
    {
      "cell_type": "code",
      "source": [
        "n = 100\n",
        "sum = n * (n+1)/2\n",
        "print(sum)"
      ],
      "metadata": {
        "colab": {
          "base_uri": "https://localhost:8080/"
        },
        "id": "T4jRkgABR4RP",
        "outputId": "078ba3ad-1afc-462d-af3c-ae4dbc5c10ed"
      },
      "execution_count": null,
      "outputs": [
        {
          "output_type": "stream",
          "name": "stdout",
          "text": [
            "5050.0\n"
          ]
        }
      ]
    },
    {
      "cell_type": "markdown",
      "source": [
        "<br><br>\n",
        "\n",
        "<h1>Python while</h1>"
      ],
      "metadata": {
        "id": "4ST2CznsUC8D"
      }
    },
    {
      "cell_type": "code",
      "source": [
        "max = 5\n",
        "counter = 0\n",
        "\n",
        "while counter < max:\n",
        "  print(counter)\n",
        "  counter += 1"
      ],
      "metadata": {
        "colab": {
          "base_uri": "https://localhost:8080/"
        },
        "id": "zEoSGKLwSJkn",
        "outputId": "5eea8aa3-f360-4ff1-beda-e5da8a6921a5"
      },
      "execution_count": null,
      "outputs": [
        {
          "output_type": "stream",
          "name": "stdout",
          "text": [
            "0\n",
            "1\n",
            "2\n",
            "3\n",
            "4\n"
          ]
        }
      ]
    },
    {
      "cell_type": "code",
      "source": [
        "# Simple Command Prompt Program\n",
        "\n",
        "command = ''\n",
        "\n",
        "while command.lower() != 'quit':\n",
        "  command = input('>')\n",
        "  print(f\"Echo: {command}\")"
      ],
      "metadata": {
        "colab": {
          "base_uri": "https://localhost:8080/"
        },
        "id": "O_E_lYayUVJ5",
        "outputId": "05163334-f89f-4f8f-c8ac-28636c3bad72"
      },
      "execution_count": null,
      "outputs": [
        {
          "output_type": "stream",
          "name": "stdout",
          "text": [
            ">Hi\n",
            "Echo: Hi\n",
            ">Python while\n",
            "Echo: Python while\n",
            ">quit\n",
            "Echo: quit\n"
          ]
        }
      ]
    },
    {
      "cell_type": "markdown",
      "source": [
        "<br><br>\n",
        "\n",
        "<h1>Python break</h1>"
      ],
      "metadata": {
        "id": "GVKUR_sfeC8j"
      }
    },
    {
      "cell_type": "code",
      "source": [
        "for index in range(0, 10):\n",
        "  print(index)\n",
        "  if index == 3:\n",
        "    break"
      ],
      "metadata": {
        "id": "rQZ5HyGHVMMj",
        "colab": {
          "base_uri": "https://localhost:8080/"
        },
        "outputId": "774d8054-115b-4a8d-bb33-faca2e395c7c"
      },
      "execution_count": null,
      "outputs": [
        {
          "output_type": "stream",
          "name": "stdout",
          "text": [
            "0\n",
            "1\n",
            "2\n",
            "3\n"
          ]
        }
      ]
    },
    {
      "cell_type": "code",
      "source": [
        "for x in range(5):\n",
        "  for y in range(5):\n",
        "    # terminate the innermost loop\n",
        "    if y > 1:\n",
        "      break\n",
        "    # show coordinates on the screen\n",
        "    print(f\"({x},{y})\")"
      ],
      "metadata": {
        "colab": {
          "base_uri": "https://localhost:8080/"
        },
        "id": "_He-TpJzeurv",
        "outputId": "0e73c21d-2ffe-40a1-b305-6e2dad43a23c"
      },
      "execution_count": null,
      "outputs": [
        {
          "output_type": "stream",
          "name": "stdout",
          "text": [
            "(0,0)\n",
            "(0,1)\n",
            "(1,0)\n",
            "(1,1)\n",
            "(2,0)\n",
            "(2,1)\n",
            "(3,0)\n",
            "(3,1)\n",
            "(4,0)\n",
            "(4,1)\n"
          ]
        }
      ]
    },
    {
      "cell_type": "code",
      "source": [
        "print('-- Help: type quit to exit --')\n",
        "while True:\n",
        "  color = input('Enter your favorite color:')\n",
        "  if color.lower() == 'quit':\n",
        "    break"
      ],
      "metadata": {
        "colab": {
          "base_uri": "https://localhost:8080/"
        },
        "id": "bHAK_QtkfIG3",
        "outputId": "07e81aeb-6a81-42ac-8e9f-65c81a41d563"
      },
      "execution_count": null,
      "outputs": [
        {
          "name": "stdout",
          "output_type": "stream",
          "text": [
            "-- Help: type quit to exit --\n",
            "Enter your favorite color:red\n",
            "Enter your favorite color:green\n",
            "Enter your favorite color:blue\n",
            "Enter your favorite color:quit\n"
          ]
        }
      ]
    },
    {
      "cell_type": "markdown",
      "source": [
        "<br><br>\n",
        "\n",
        "<h1>Python continue</h1>\n",
        "\n",
        "```\n",
        "for index in range(n):\n",
        "  if condition:\n",
        "    continue\n",
        "  # more code here\n",
        "```\n",
        "\n",
        "```\n",
        "while condition1:\n",
        "  if condition2:\n",
        "    continue\n",
        "  # more code here\n",
        "```"
      ],
      "metadata": {
        "id": "9hZZy85tf5fW"
      }
    },
    {
      "cell_type": "code",
      "source": [
        "# display even numbers from 0 to 10\n",
        "\n",
        "for index in range(10):\n",
        "  if index % 2:\n",
        "    continue\n",
        "\n",
        "  print(index)"
      ],
      "metadata": {
        "colab": {
          "base_uri": "https://localhost:8080/"
        },
        "id": "ctFFxSWcfp8R",
        "outputId": "a7d343cd-21b2-4de9-ed56-d097bdf59565"
      },
      "execution_count": null,
      "outputs": [
        {
          "output_type": "stream",
          "name": "stdout",
          "text": [
            "0\n",
            "2\n",
            "4\n",
            "6\n",
            "8\n"
          ]
        }
      ]
    },
    {
      "cell_type": "code",
      "source": [
        "# print the odd numbers\n",
        "\n",
        "counter = 0\n",
        "while counter < 10:\n",
        "  counter += 1\n",
        "\n",
        "  if not counter % 2:\n",
        "    continue\n",
        "\n",
        "  print(counter)"
      ],
      "metadata": {
        "colab": {
          "base_uri": "https://localhost:8080/"
        },
        "id": "jdvnkx-ThPlX",
        "outputId": "2d9cb64b-c33d-4b0f-d0f1-2a3aaba6d72f"
      },
      "execution_count": null,
      "outputs": [
        {
          "output_type": "stream",
          "name": "stdout",
          "text": [
            "1\n",
            "3\n",
            "5\n",
            "7\n",
            "9\n"
          ]
        }
      ]
    },
    {
      "cell_type": "markdown",
      "source": [
        "<br><br>\n",
        "\n",
        "<h1>Python pass</h1>\n",
        "\n",
        "```\n",
        "counter = 1\n",
        "max = 10\n",
        "if counter <= max:\n",
        "  counter += 1\n",
        "else:\n",
        "  pass                    # placeholder for the code to be implemented later\n",
        "```\n",
        "\n",
        "```\n",
        "def fn():\n",
        "  pass\n",
        "```\n",
        "\n",
        "```\n",
        "class Stream:\n",
        "  pass\n",
        "```"
      ],
      "metadata": {
        "id": "HaWBnclxiVYR"
      }
    },
    {
      "cell_type": "markdown",
      "source": [
        "<br><br>\n",
        "\n",
        "<h1>Functions</h1>\n",
        "\n",
        "<font size=\"+1.3\">🔶</font> &nbsp;<ins><font size=\"+1\">**Python &nbsp;Functions**</font></ins>"
      ],
      "metadata": {
        "id": "EoEahrfyj7Aa"
      }
    },
    {
      "cell_type": "code",
      "source": [
        "def greet(name):                                   # passing parameters\n",
        "  \"\"\"Display a greeting to users\"\"\"\n",
        "  print(f\"Hi {name}\")\n",
        "\n",
        "\n",
        "greet('Aman Mishra')                               # passing arguments\n",
        "\n",
        "\n",
        "first_name = 'Isha'\n",
        "greet(first_name)                                  # passing arguments"
      ],
      "metadata": {
        "colab": {
          "base_uri": "https://localhost:8080/"
        },
        "id": "tYpP9qYkiA3p",
        "outputId": "381acc6e-14a4-41ee-e724-88544c9eacbf"
      },
      "execution_count": null,
      "outputs": [
        {
          "output_type": "stream",
          "name": "stdout",
          "text": [
            "Hi Aman Mishra\n",
            "Hi Isha\n"
          ]
        }
      ]
    },
    {
      "cell_type": "code",
      "source": [
        "def greet(name):                                   # passing parameters\n",
        "  \"\"\"Display a greeting to users\"\"\"\n",
        "  return f\"Hi {name}\"\n",
        "\n",
        "\n",
        "greet('Radha')                                     # passing arguments"
      ],
      "metadata": {
        "colab": {
          "base_uri": "https://localhost:8080/",
          "height": 35
        },
        "id": "HGvjZjKklNwf",
        "outputId": "7c430974-e1bb-452c-c71d-72e17c7c547f"
      },
      "execution_count": null,
      "outputs": [
        {
          "output_type": "execute_result",
          "data": {
            "text/plain": [
              "'Hi Radha'"
            ],
            "application/vnd.google.colaboratory.intrinsic+json": {
              "type": "string"
            }
          },
          "metadata": {},
          "execution_count": 12
        }
      ]
    },
    {
      "cell_type": "code",
      "source": [
        "def sum(a, b):\n",
        "  return a + b\n",
        "\n",
        "\n",
        "total = sum(10, 20)\n",
        "print(total)"
      ],
      "metadata": {
        "colab": {
          "base_uri": "https://localhost:8080/"
        },
        "id": "MQwgJHb-mqRa",
        "outputId": "953420e3-31b7-450e-d017-a74241fb9638"
      },
      "execution_count": null,
      "outputs": [
        {
          "output_type": "stream",
          "name": "stdout",
          "text": [
            "30\n"
          ]
        }
      ]
    },
    {
      "cell_type": "markdown",
      "source": [
        "<font size=\"+1.3\">🔶</font> &nbsp;<ins><font size=\"+1\">**Python &nbsp;Default &nbsp;Parameters**</font></ins>"
      ],
      "metadata": {
        "id": "YB47J2Pjnc5B"
      }
    },
    {
      "cell_type": "code",
      "source": [
        "def greet(name, message = 'Hi'):\n",
        "  return f\"{message} {name}\"\n",
        "\n",
        "\n",
        "greeting = greet('Avinash')\n",
        "print(greeting)"
      ],
      "metadata": {
        "colab": {
          "base_uri": "https://localhost:8080/"
        },
        "id": "Sn2uRpjSyNfg",
        "outputId": "dd05deb0-34e8-4d1d-ffbb-8ca867a6af15"
      },
      "execution_count": null,
      "outputs": [
        {
          "output_type": "stream",
          "name": "stdout",
          "text": [
            "Hi Avinash\n"
          ]
        }
      ]
    },
    {
      "cell_type": "code",
      "source": [
        "def greet(name, message = 'Hi'):\n",
        "  return f\"{message} {name}\"\n",
        "\n",
        "\n",
        "greeting = greet('Avinash', 'Hello')\n",
        "print(greeting)"
      ],
      "metadata": {
        "colab": {
          "base_uri": "https://localhost:8080/"
        },
        "id": "Wj0qVe8Im6x2",
        "outputId": "47c15620-15ea-497e-f5dd-b2e493753cba"
      },
      "execution_count": null,
      "outputs": [
        {
          "output_type": "stream",
          "name": "stdout",
          "text": [
            "Hello Avinash\n"
          ]
        }
      ]
    },
    {
      "cell_type": "code",
      "source": [
        "def greet(name='there', message='Hi'):\n",
        "  return f\"{message} {name}\"\n",
        "\n",
        "\n",
        "greeting = greet()\n",
        "print(greeting)"
      ],
      "metadata": {
        "colab": {
          "base_uri": "https://localhost:8080/"
        },
        "id": "IEBURNNFx6KF",
        "outputId": "32aceaf7-3332-4734-e820-9bdc68ab4c5b"
      },
      "execution_count": null,
      "outputs": [
        {
          "output_type": "stream",
          "name": "stdout",
          "text": [
            "Hi there\n"
          ]
        }
      ]
    },
    {
      "cell_type": "code",
      "source": [
        "def greet(name='there', message='Hi'):\n",
        "  return f\"{message} {name}\"\n",
        "\n",
        "\n",
        "greeting = greet('Hello')\n",
        "print(greeting)                              # Hi Hello  ====>  unexpected value"
      ],
      "metadata": {
        "colab": {
          "base_uri": "https://localhost:8080/"
        },
        "id": "hgbxQQdQ0dbg",
        "outputId": "c3f89179-7c6f-4092-cd2c-21e5d40a29cf"
      },
      "execution_count": null,
      "outputs": [
        {
          "output_type": "stream",
          "name": "stdout",
          "text": [
            "Hi Hello\n"
          ]
        }
      ]
    },
    {
      "cell_type": "code",
      "source": [
        "def greet(name='there', message='Hi'):\n",
        "  return f\"{message} {name}\"\n",
        "\n",
        "\n",
        "greeting = greet(message='Hello')\n",
        "print(greeting)"
      ],
      "metadata": {
        "colab": {
          "base_uri": "https://localhost:8080/"
        },
        "id": "fch3-2Vm00rf",
        "outputId": "9b649e56-d995-40e6-b1bf-8ccce4b765a3"
      },
      "execution_count": null,
      "outputs": [
        {
          "output_type": "stream",
          "name": "stdout",
          "text": [
            "Hello there\n"
          ]
        }
      ]
    },
    {
      "cell_type": "code",
      "source": [],
      "metadata": {
        "id": "6C6oUoGl1dnJ"
      },
      "execution_count": null,
      "outputs": []
    }
  ]
}