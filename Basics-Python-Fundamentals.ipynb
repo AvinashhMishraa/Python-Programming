{
 "cells": [
  {
   "cell_type": "markdown",
   "id": "e2c5926f-66dd-4f81-8fcd-e50bad610da4",
   "metadata": {
    "jp-MarkdownHeadingCollapsed": true
   },
   "source": [
    "|    <span style=\"background-color: yellow;\">C/C++/Java</span>   |      <span style=\"background-color: yellow;\">Python</span>     | \n",
    "|-----------------|-----------------|\n",
    "| **The entire code** is first compiled into **machine level code** by a **compiler** and then run in the RAM   | **Each line of the code** is parsed  by a parser first and then interpreted by the **interpreter** into **byte level code** and run sequentially. Python runs on an interpreter system, meaning that code can be executed as soon as it is written. This means that prototyping can be very quick.  |\n",
    "| You will have different different compilers based on different different platforms and hence **platform dependent**    | You can run the same piece of Python code on different different platforms without having to be bothered about anything and hence **platform independent**    |\n",
    "| Compile-time error  | **No** Compile-time error  |\n",
    "| Not so easy to read and write  | Clean code and easy readability  |\n",
    "| Data type of a variable is explicitly defined before it's use and hence **Statically Typed Language**  | The Python Interpreter can interpret the data type of a avriable by looking at the assigned value during the run time and hence **Dynamically Typed Language**  |\n",
    "| use **semicolon**(<span style=\"color:red\"><strong>;</strong></span>) to separate the statements | uses **whitespace** and **indentation** to construct the code structure  |\n",
    "| Relatively faster   | Relatively slower  |\n",
    "| Doing AI/ML is not so easy because of unavailability of Libraies and other AI/ML related modules | A really good support from AI and ML applications |\n"
   ]
  },
  {
   "cell_type": "code",
   "execution_count": 58,
   "id": "4c0e2cdd-e870-47c9-86e3-6ab26471d683",
   "metadata": {},
   "outputs": [
    {
     "name": "stdout",
     "output_type": "stream",
     "text": [
      "Programming is easy\n"
     ]
    }
   ],
   "source": [
    "print('Programming is easy')"
   ]
  },
  {
   "cell_type": "markdown",
   "id": "7ea492d9-8f57-4336-9de8-8c3fc3521fee",
   "metadata": {},
   "source": [
    "<br> \n",
    "\n",
    "**Let's verify how Python is an <span style=\"background-color: #CAFEFD\">Interpretd Language</span> where code is executed <span style=\"background-color: #CAFEFD\">line by line</span>**"
   ]
  },
  {
   "cell_type": "code",
   "execution_count": 61,
   "id": "0349a056-032c-44b9-99d1-874a4958b5b1",
   "metadata": {},
   "outputs": [
    {
     "name": "stdout",
     "output_type": "stream",
     "text": [
      "value\n",
      "a = 9\n",
      "\n",
      "\n"
     ]
    },
    {
     "ename": "NameError",
     "evalue": "name 'value' is not defined",
     "output_type": "error",
     "traceback": [
      "\u001b[1;31m---------------------------------------------------------------------------\u001b[0m",
      "\u001b[1;31mNameError\u001b[0m                                 Traceback (most recent call last)",
      "Cell \u001b[1;32mIn[61], line 6\u001b[0m\n\u001b[0;32m      4\u001b[0m \u001b[38;5;28mprint\u001b[39m(\u001b[38;5;124m\"\u001b[39m\u001b[38;5;124ma =\u001b[39m\u001b[38;5;124m\"\u001b[39m, a)             \u001b[38;5;66;03m# this line (line 4) gets executed without any error\u001b[39;00m\n\u001b[0;32m      5\u001b[0m \u001b[38;5;28mprint\u001b[39m(\u001b[38;5;124m\"\u001b[39m\u001b[38;5;130;01m\\n\u001b[39;00m\u001b[38;5;124m\"\u001b[39m)                 \u001b[38;5;66;03m# this line (line 5) gets executed without any error             # no error upto this line (line 5)\u001b[39;00m\n\u001b[1;32m----> 6\u001b[0m \u001b[38;5;28mprint\u001b[39m(\u001b[43mvalue\u001b[49m)                \u001b[38;5;66;03m# this line (line 6) gets executed & it throws an error\u001b[39;00m\n",
      "\u001b[1;31mNameError\u001b[0m: name 'value' is not defined"
     ]
    }
   ],
   "source": [
    "print (\"value\")             # this line (line 1) gets executed without any error\n",
    "a = 5                       # this line (line 2) gets executed without any error\n",
    "a = a + 4                   # this line (line 3) gets executed without any error\n",
    "print(\"a =\", a)             # this line (line 4) gets executed without any error\n",
    "print(\"\\n\")                 # this line (line 5) gets executed without any error             # no error upto this line (line 5)\n",
    "print(value)                # this line (line 6) gets executed & it throws an error in the run time."
   ]
  },
  {
   "cell_type": "markdown",
   "id": "ed05b247-e9e0-43b5-a60d-8628da3a24b5",
   "metadata": {},
   "source": [
    "<br>\n",
    "\n",
    "As we can see, it runs line by line and wherever it fails, before that it already ran. Had it been C/C++/Java, it would have caught this error at the compile time itself.\n",
    "\n",
    "<br>"
   ]
  },
  {
   "cell_type": "markdown",
   "id": "0bf92210-e93c-455e-9020-bfb6f09c4ebb",
   "metadata": {
    "jp-MarkdownHeadingCollapsed": true
   },
   "source": [
    "<br>\n",
    "\n",
    "# <u> Installation </u>\n",
    "\n",
    "<br>\n",
    "\n",
    "<span style=\"background-color: #CAFEFD\">Where do we write Python code?</span> <br>\n",
    "&nbsp;&nbsp;&nbsp;&nbsp;&nbsp;&nbsp;⇒ **IDE** (&nbsp;<span style=\"background-color: yellow\">&nbsp;visual studio code&nbsp;</span>&nbsp;**,** &nbsp;<span style=\"background-color: yellow\">&nbsp;pycharm&nbsp;</span>&nbsp;) <br>\n",
    "&nbsp;&nbsp;&nbsp;&nbsp;&nbsp;&nbsp;⇒ **Jupyter Notebooks** (&nbsp;<span style=\"background-color: yellow\">&nbsp;set locally&nbsp;</span>**,** &nbsp;<span style=\"background-color: #F5C0FF\">&nbsp;databricks community edition&nbsp;</span>**,** &nbsp;<span style=\"background-color: #F5C0FF\">&nbsp;google colab&nbsp;</span>&nbsp;) <br>\n",
    "&nbsp;&nbsp;&nbsp;&nbsp;&nbsp;&nbsp;⇒ **Terminal**(&nbsp;<span style=\"background-color: yellow\">&nbsp;set locally&nbsp;</span>&nbsp;)\n",
    "\n",
    "\n",
    "\n",
    "<br>\n",
    "\n",
    "<div style=\"border: 1px solid pink; padding: 10px; background-color: #FAF2FC\">\n",
    "    \n",
    "<span style=\"color:black\"><strong>\\\\$ py --version<br>\n",
    "\\\\$ py -m pip install --upgrade pip<br>\n",
    "\\\\$ pip --version<br>\n",
    "\\\\$ py -m pip install jupyter<br>\n",
    "\\\\$ jupyter --version<br>\n",
    "\\\\$ jupyter notebook\n",
    "</strong>\n",
    "</span>\n",
    "</div>\n",
    "\n",
    "<br> \n",
    "\n",
    "**Jupyter notebook** is a **browser-based interpreter** that allows us to interactively work with Python. It is an open-source web application that allows you to create & share documents that contain live code, equations, visualizations, and narrative text.\n",
    "\n",
    "However for making a **full fledged application**, we generally use IDEs (Integrated Development Environment) such as **Visual Studio Code** & **PyCharm**."
   ]
  },
  {
   "cell_type": "markdown",
   "id": "3776ab45-f385-49c8-959c-df5bfb04f479",
   "metadata": {},
   "source": [
    "<br>\n",
    "\n",
    "# <u> Python Syntax </u> \n",
    "\n",
    "<br>\n",
    "\n",
    "### 1. <span style=\"background-color: yellow;\">Whitespace and indentation</span>\n",
    "Unlike **C**/**C++**/**Java** which use **semicolon** (**;**) to separate the statements, **Python** uses **whitespace** and **indentation** to construct the code structure.\n",
    "\n",
    "<div style=\"border: 1px solid pink; padding: 10px; background-color: #FAF2FC\">\n",
    "<strong># define main function to print out something</strong><br>\n",
    "<span style=\"color:blue\">def main():<br>\n",
    "&nbsp;&nbsp;&nbsp;&nbsp;&nbsp;&nbsp;i = 1<br>\n",
    "&nbsp;&nbsp;&nbsp;&nbsp;&nbsp;&nbsp;max = 10<br>\n",
    "&nbsp;&nbsp;&nbsp;&nbsp;&nbsp;&nbsp;while (i < max):<br>\n",
    "&nbsp;&nbsp;&nbsp;&nbsp;&nbsp;&nbsp;&nbsp;&nbsp;&nbsp;&nbsp;&nbsp;&nbsp;print(i)<br>\n",
    "&nbsp;&nbsp;&nbsp;&nbsp;&nbsp;&nbsp;&nbsp;&nbsp;&nbsp;&nbsp;&nbsp;&nbsp;i = i + 1</span>\n",
    "\n",
    "<strong># call function main </strong><br>\n",
    "<span style=\"color:blue\">main()</span>\n",
    "</div>\n",
    "\n",
    "<br>\n",
    "\n",
    "=================================================================================================================\n",
    "\n",
    "<br>\n",
    "\n",
    "### 2. <span style=\"background-color: yellow;\">Comments</span>\n",
    "To document the code when necessary. They are ignored by the Python interpreter.\n",
    "\n",
    "##### 2.1 - <span style=\"background-color: #F5C0FF;\">Python block comments</span>\n",
    "\n",
    "<div style=\"border: 1px solid pink; padding: 10px; background-color: #FAF2FC; margin-left: 70px\">\n",
    "<strong># increase price by 5% </strong><br>\n",
    "<span style=\"color:blue\">price = price * 1.05</span>\n",
    "</div>\n",
    "\n",
    "##### 2.2 - <span style=\"background-color: #F5C0FF;\">Python inline comments</span>\n",
    "\n",
    "<div style=\"border: 1px solid pink; padding: 10px; background-color: #FAF2FC; margin-left: 70px\">\n",
    "<span style=\"color:blue\">salary = salary * 1.02</span>\n",
    "&nbsp;&nbsp;<strong># increase price by 5% </strong>\n",
    "</div>\n",
    "\n",
    "##### 2.3 - <span style=\"background-color: #F5C0FF;\">Python docstrings</span>\n",
    "\n",
    "&nbsp;&nbsp;&nbsp;&nbsp;&nbsp;&nbsp;&nbsp;&nbsp;A documentation string is a string literal that you put as the first lines in a code block, for example, a function.\n",
    "\n",
    "&nbsp;&nbsp;&nbsp;&nbsp;&nbsp;&nbsp;&nbsp;&nbsp;Unlike a regular comment, a documentation string can be accessed at <span style=\"color:red\">run-time</span> using  **obj.__doc__** attribute where **obj** is the name of the function.\n",
    "\n",
    "&nbsp;&nbsp;&nbsp;&nbsp;&nbsp;&nbsp;&nbsp;&nbsp;Use docstrings for **functions**, **modules**, and **classes**.\n",
    "\n",
    "&nbsp;&nbsp;&nbsp;&nbsp;&nbsp;&nbsp;&nbsp;&nbsp;Typically, you use a documentation string to automatically generate the code documentation.\n",
    "\n",
    "&nbsp;&nbsp;&nbsp;&nbsp;&nbsp;&nbsp;&nbsp;&nbsp;Documentation strings is called docstrings.\n",
    "\n",
    "&nbsp;&nbsp;&nbsp;&nbsp;&nbsp;&nbsp;&nbsp;&nbsp;Technically speaking, docstrings are not the comments. They create anonymous variables that reference the strings. Also, they’re not ignored by the Python interpreter.\n",
    "\n",
    "&nbsp;&nbsp;&nbsp;&nbsp;&nbsp;&nbsp;&nbsp;&nbsp;Python provides two kinds of docstrings: **one-line docstrings** and **multi-line docstrings**.\n",
    "\n",
    "\n",
    "&nbsp;&nbsp;&nbsp;&nbsp;&nbsp;&nbsp;&nbsp;&nbsp;<span style=\"color:green\"><strong>2.3.1 - One-line doctrings</strong></span>\n",
    " \n",
    "&nbsp;&nbsp;&nbsp;&nbsp;&nbsp;&nbsp;&nbsp;&nbsp;A one-line docstring begins with triple quotes (<span style=\"background-color: #EFEAF1;color:red\"><strong>\"\"\"</strong></span>) and also ends with triple quotes (<span style=\"background-color: #EFEAF1;color:red\"><strong>\"\"\"</strong></span>). Also, there won’t be any blank line either before or after the one-line docstring.\n",
    "\n",
    "\n",
    "<div style=\"border: 1px solid pink; padding: 10px; margin-left: 70px; background-color: #FAF2FC\">\n",
    "<span style=\"color:blue\">def quicksort():<br></span>\n",
    "<span style=\"color:green\">\"\"\" sort the list using quicksort algorithm \"\"\"</span><br>\n",
    "<span style=\"color:blue\">...</span><br>\n",
    "</div>\n",
    "\n",
    "<br>\n",
    "\n",
    "&nbsp;&nbsp;&nbsp;&nbsp;&nbsp;&nbsp;&nbsp;&nbsp;<span style=\"color:green\"><strong>2.3.2 - Multi-line doctrings</strong></span>\n",
    "\n",
    "&nbsp;&nbsp;&nbsp;&nbsp;&nbsp;&nbsp;&nbsp;&nbsp;Unlike a one-line docstring, a multi-line docstring can span multiple lines. A multi-line docstring also starts with triple quotes (<span style=\"background-color: #EFEAF1;color:red\"><strong>\"\"\"</strong></span>) and ends with triple quotes (<span style=\"background-color: #EFEAF1;color:red\"><strong>\"\"\"</strong></span>).\n",
    "\n",
    "\n",
    "<div style=\"border: 1px solid pink; padding: 10px; margin-left: 70px; background-color: #FAF2FC\">\n",
    "<span style=\"color:blue\">def increase(salary, percentage, rating):</span><br>\n",
    "&nbsp;&nbsp;&nbsp;&nbsp;&nbsp;&nbsp;<span style=\"color:green\">\"\"\" increase salary base on rating and percentage<br>\n",
    "&nbsp;&nbsp;&nbsp;&nbsp;&nbsp;&nbsp;rating 1 - 2 no increase<br>\n",
    "&nbsp;&nbsp;&nbsp;&nbsp;&nbsp;&nbsp;rating 3 - 4 increase 5%<br>\n",
    "&nbsp;&nbsp;&nbsp;&nbsp;&nbsp;&nbsp;rating 4 - 6 increase 10%<br>\n",
    "&nbsp;&nbsp;&nbsp;&nbsp;&nbsp;&nbsp;\"\"\"\n",
    "</span>\n",
    "</div>\n",
    "\n",
    "<br>\n",
    "\n",
    "##### 2.4 - <span style=\"background-color: #F5C0FF;\">Python multiline comments</span>\n",
    "&nbsp;&nbsp;&nbsp;&nbsp;&nbsp;&nbsp;&nbsp;&nbsp;&nbsp;**Python doesn’t support multiline comments.**\n",
    "\n",
    "&nbsp;&nbsp;&nbsp;&nbsp;&nbsp;&nbsp;&nbsp;&nbsp;&nbsp;To add a multiline comment you could insert a <span style=\"background-color: #EFEAF1;color:red\">&nbsp;**#**&nbsp;</span> for each line:\n",
    "\n",
    "<div style=\"border: 1px solid pink; background-color: #FAF2FC; padding: 10px; margin-left: 70px\">\n",
    "<span style=\"color: green\"># This is a comment</span><br>\n",
    "<span style=\"color: green\"># written in</span><br>\n",
    "<span style=\"color: green\"># more than just one line</span><br>\n",
    "<span style=\"color: blue\">print(\"Hello, World!\")</span><br>\n",
    "</div>\n",
    "\n",
    "<br>\n",
    "\n",
    "=================================================================================================================\n",
    "\n",
    "<br>\n",
    "\n",
    "### 3. <span style=\"background-color: yellow;\">Continuation of statements</span>\n",
    "\n",
    "Python uses a **newline character** to separate statements. It means a Python statement ends with a **newline character**. It places each statement on one line. \n",
    "\n",
    "However, a long statement can span multiple lines by using the **backslash** (<span style=\"background-color: #EFEAF1;color:red\"><strong>  \\\\  </strong></span>) character.\n",
    "\n",
    "The following example illustrates how to use the **backslash** (<span style=\"background-color: #EFEAF1;color:red\"><strong>  \\\\  </strong></span>) character to continue a statement in the second line:\n",
    "\n",
    "\n",
    "<div style=\"border: 1px solid pink; padding: 10px; background-color: #FAF2FC; margin-left: 70px\">\n",
    "<span style=\"color:blue\">if (a == True) and (b == False) and \\<br>\n",
    "&nbsp;&nbsp;&nbsp;&nbsp;&nbsp;&nbsp;(c == True):<br>\n",
    "&nbsp;&nbsp;&nbsp;&nbsp;&nbsp;&nbsp;&nbsp;print(\"Continuation of statements\")<br>\n",
    "</span>\n",
    "</div>\n",
    "\n"
   ]
  },
  {
   "cell_type": "code",
   "execution_count": 60,
   "id": "c47a552c-acf1-4d0c-b0ef-574ea3bb8ddf",
   "metadata": {},
   "outputs": [
    {
     "ename": "IndentationError",
     "evalue": "unexpected indent (2701210680.py, line 15)",
     "output_type": "error",
     "traceback": [
      "\u001b[1;36m  Cell \u001b[1;32mIn[60], line 15\u001b[1;36m\u001b[0m\n\u001b[1;33m    + data_engineering_course_fee * data_engineering_enrollments\u001b[0m\n\u001b[1;37m    ^\u001b[0m\n\u001b[1;31mIndentationError\u001b[0m\u001b[1;31m:\u001b[0m unexpected indent\n"
     ]
    }
   ],
   "source": [
    "# Data Science\n",
    "data_science_course_fee = 5000\n",
    "data_science_enrollments = 30\n",
    "\n",
    "# Data Engineering\n",
    "data_engineering_course_fee = 4000\n",
    "data_engineering_enrollments = 20\n",
    "\n",
    "# Data Analytics\n",
    "data_analytics_course_fee = 2000\n",
    "data_analytics_enrollments = 50\n",
    "\n",
    "\n",
    "total_revenue = data_science_course_fee * data_science_enrollments \n",
    "                + data_engineering_course_fee * data_engineering_enrollments \n",
    "                + data_analytics_course_fee * data_analytics_enrollments\n",
    "\n",
    "\n",
    "# print(\"The total_revenue is\", total_revenue)\n",
    "print(f\"The total_revenue is {total_revenue}\")"
   ]
  },
  {
   "cell_type": "markdown",
   "id": "ba832e20-ae4a-4ac8-812e-60b495f3dd8d",
   "metadata": {},
   "source": [
    "<br>\n",
    "\n",
    "We can solve this problem using **backslash** (<span style=\"background-color: #EFEAF1;color:red\"><strong>  \\\\  </strong></span>) :\n"
   ]
  },
  {
   "cell_type": "code",
   "execution_count": 61,
   "id": "a75f50b5-e729-44d6-a70f-ecd215ab583a",
   "metadata": {},
   "outputs": [
    {
     "name": "stdout",
     "output_type": "stream",
     "text": [
      "The total_revenue is 330000\n"
     ]
    }
   ],
   "source": [
    "# Data Science\n",
    "data_science_course_fee = 5000\n",
    "data_science_enrollments = 30\n",
    "\n",
    "# Data Engineering\n",
    "data_engineering_course_fee = 4000\n",
    "data_engineering_enrollments = 20\n",
    "\n",
    "# Data Analytics\n",
    "data_analytics_course_fee = 2000\n",
    "data_analytics_enrollments = 50\n",
    "\n",
    "# redability enhanced\n",
    "total_revenue = data_science_course_fee * data_science_enrollments \\\n",
    "                + data_engineering_course_fee * data_engineering_enrollments \\\n",
    "                + data_analytics_course_fee * data_analytics_enrollments\n",
    "\n",
    "\n",
    "# print(\"The total_revenue is\", total_revenue)\n",
    "print(f\"The total_revenue is {total_revenue}\")"
   ]
  },
  {
   "cell_type": "markdown",
   "id": "e8fbcd7b-b1af-47cd-9bbf-ca79b8dd9058",
   "metadata": {},
   "source": [
    "<br>\n",
    "\n",
    "=================================================================================================================\n",
    "\n",
    "<br>\n",
    "\n",
    "<div style=\"background-color: #1B005B; color: white; padding: 10px;\">\n",
    "    <h3>Tokens are the smallest meaningful component in a python program</h3>\n",
    "    <strong>1. Identifiers<br>\n",
    "        2. Keywords<br>\n",
    "        3. Literals<br>\n",
    "        4. Operators<br></strong>\n",
    "</div>\n",
    "\n",
    "<br>\n",
    "\n",
    "### 4. <span style=\"background-color: yellow;\">Python Keywords</span>\n",
    "\n",
    "Keywords are **reserved words** in Python, having a specific meaning in the language.\n",
    "\n",
    "Python provides a special module for listing its keywords called <span style=\"color:red\"><strong>keyword</strong></span>."
   ]
  },
  {
   "cell_type": "code",
   "execution_count": 2,
   "id": "0a023db5-8076-4d65-9e2b-1471de5505d2",
   "metadata": {},
   "outputs": [
    {
     "name": "stdout",
     "output_type": "stream",
     "text": [
      "['False', 'None', 'True', 'and', 'as', 'assert', 'async', 'await', 'break', 'class', 'continue', 'def', 'del', 'elif', 'else', 'except', 'finally', 'for', 'from', 'global', 'if', 'import', 'in', 'is', 'lambda', 'nonlocal', 'not', 'or', 'pass', 'raise', 'return', 'try', 'while', 'with', 'yield']\n"
     ]
    }
   ],
   "source": [
    "# To find the current keyword list\n",
    "\n",
    "import keyword\n",
    "\n",
    "print(keyword.kwlist)"
   ]
  },
  {
   "cell_type": "markdown",
   "id": "49632a38-63a5-49ab-b1ad-452efab60b7d",
   "metadata": {},
   "source": [
    "=================================================================================================================\n",
    "\n",
    "<br>\n",
    "\n",
    "### 5. <span style=\"background-color: yellow;\">Python Identifiers</span>\n",
    "\n",
    "Identifiers are names that identify **variables**, **functions**, **modules**, **classes**, and other **objects** in Python.\n",
    "\n",
    "&nbsp;&nbsp;&nbsp;&nbsp;&nbsp;&nbsp;&nbsp;&nbsp;1. The name of an identifier <span style=\"color:blue\">needs to begin</span> with a **letter** or **underscore**(<span style=\"background-color: #EFEAF1;color:red\"><strong>  _  </strong></span>). The following characters can be alphanumeric or underscore.\n",
    "\n",
    "&nbsp;&nbsp;&nbsp;&nbsp;&nbsp;&nbsp;&nbsp;&nbsp;2. Python identifiers are **case-sensitive**.\n",
    "\n",
    "&nbsp;&nbsp;&nbsp;&nbsp;&nbsp;&nbsp;&nbsp;&nbsp;3. In addition, you **cannot use Python keywords** for naming identifiers.\n",
    "\n",
    "\n",
    "=================================================================================================================\n",
    "\n",
    "<br>\n",
    "\n",
    "<div style=\"background-color: #1B005B; color: white; padding: 10px;\">\n",
    "    <h3>Literals are constant in Python</h3>\n",
    "</div>\n",
    "\n",
    "<br>\n",
    "\n",
    "### 6. <span style=\"background-color: yellow;\">String literals</span>\n",
    "\n",
    "Python uses single quotes (<span style=\"background-color: #EFEAF1;color:red\"><strong>  '  </strong></span>), double quotes (<span style=\"background-color: #EFEAF1;color:red\"><strong>  \"  </strong></span>), triple single quotes (<span style=\"background-color: #EFEAF1;color:red\"><strong>  '''  </strong></span>) and triple-double quotes (<span style=\"background-color: #EFEAF1;color:red\"><strong>  \"\"\"  </strong></span>) to denote a string literal.\n",
    "\n",
    "\n",
    "\n"
   ]
  },
  {
   "cell_type": "code",
   "execution_count": 3,
   "id": "b0b22b1b-cfd9-4c84-92b8-f98da90b66cd",
   "metadata": {},
   "outputs": [
    {
     "name": "stdout",
     "output_type": "stream",
     "text": [
      "This is a string\n"
     ]
    }
   ],
   "source": [
    "s = 'This is a string'\n",
    "print(s)"
   ]
  },
  {
   "cell_type": "code",
   "execution_count": 4,
   "id": "e1b309ce-b5e8-41b9-b11a-c5cfae8e2657",
   "metadata": {},
   "outputs": [
    {
     "data": {
      "text/plain": [
       "'This is a string'"
      ]
     },
     "execution_count": 4,
     "metadata": {},
     "output_type": "execute_result"
    }
   ],
   "source": [
    "s"
   ]
  },
  {
   "cell_type": "code",
   "execution_count": 5,
   "id": "c58bcf4b-bdac-4423-8a45-52a2ae09518e",
   "metadata": {},
   "outputs": [
    {
     "name": "stdout",
     "output_type": "stream",
     "text": [
      "Another string using double quotes\n"
     ]
    }
   ],
   "source": [
    "s = \"Another string using double quotes\"\n",
    "print(s)"
   ]
  },
  {
   "cell_type": "code",
   "execution_count": 6,
   "id": "f6df131d-1e79-46d1-9f77-388d3d62938c",
   "metadata": {},
   "outputs": [
    {
     "data": {
      "text/plain": [
       "'Another string using double quotes'"
      ]
     },
     "execution_count": 6,
     "metadata": {},
     "output_type": "execute_result"
    }
   ],
   "source": [
    "s"
   ]
  },
  {
   "cell_type": "code",
   "execution_count": 7,
   "id": "ecb78544-1b3f-4b1e-9ac3-98fc1d63257f",
   "metadata": {},
   "outputs": [
    {
     "name": "stdout",
     "output_type": "stream",
     "text": [
      " string can span\n",
      "        multiple lines \n"
     ]
    }
   ],
   "source": [
    "s = ''' string can span\n",
    "        multiple lines '''\n",
    "print(s)"
   ]
  },
  {
   "cell_type": "code",
   "execution_count": 8,
   "id": "d5074424-1ec7-4f30-87fd-be53f2c36332",
   "metadata": {},
   "outputs": [
    {
     "data": {
      "text/plain": [
       "' string can span\\n        multiple lines '"
      ]
     },
     "execution_count": 8,
     "metadata": {},
     "output_type": "execute_result"
    }
   ],
   "source": [
    "s"
   ]
  },
  {
   "cell_type": "code",
   "execution_count": 9,
   "id": "a1a88ea0-c97e-4d1c-9f60-013cdeaa9ed7",
   "metadata": {},
   "outputs": [
    {
     "name": "stdout",
     "output_type": "stream",
     "text": [
      "This is line 1\n",
      "This is line 2\n",
      "This is line 3\n"
     ]
    }
   ],
   "source": [
    "s = '''This is line 1\n",
    "This is line 2\n",
    "This is line 3'''\n",
    "print(s)"
   ]
  },
  {
   "cell_type": "code",
   "execution_count": 10,
   "id": "64e88538-f6c0-404a-828d-95e73785efac",
   "metadata": {},
   "outputs": [
    {
     "data": {
      "text/plain": [
       "'This is line 1\\nThis is line 2\\nThis is line 3'"
      ]
     },
     "execution_count": 10,
     "metadata": {},
     "output_type": "execute_result"
    }
   ],
   "source": [
    "s"
   ]
  },
  {
   "cell_type": "code",
   "execution_count": 11,
   "id": "9ce25d1b-98ca-490e-bde3-9a5e0630811a",
   "metadata": {},
   "outputs": [
    {
     "name": "stdout",
     "output_type": "stream",
     "text": [
      "string can span\n",
      "multiple lines\n",
      "with triple-double quotes too\n"
     ]
    }
   ],
   "source": [
    "s = \"\"\"string can span\n",
    "multiple lines\n",
    "with triple-double quotes too\"\"\"\n",
    "print(s)"
   ]
  },
  {
   "cell_type": "code",
   "execution_count": 12,
   "id": "6f7f7db0-ff1a-4ebc-8208-f9b6d76a86d9",
   "metadata": {},
   "outputs": [
    {
     "data": {
      "text/plain": [
       "'string can span\\nmultiple lines\\nwith triple-double quotes too'"
      ]
     },
     "execution_count": 12,
     "metadata": {},
     "output_type": "execute_result"
    }
   ],
   "source": [
    "s"
   ]
  },
  {
   "cell_type": "code",
   "execution_count": null,
   "id": "a9cbe3e4-cafc-491f-807c-898fbecca6d3",
   "metadata": {},
   "outputs": [],
   "source": []
  },
  {
   "cell_type": "markdown",
   "id": "cf2ea93f-7052-44ad-83fd-4c2741cad502",
   "metadata": {},
   "source": [
    "<br>\n",
    "\n",
    "# <u>Variables in RAM (Random Access Memory)</u>\n",
    "\n",
    "<br>"
   ]
  },
  {
   "cell_type": "markdown",
   "id": "a3dbe890-afcc-4ee7-a2e2-2978ca106b50",
   "metadata": {},
   "source": [
    "Data/Value can be stored in **temporary** storage spaces called Variables"
   ]
  },
  {
   "cell_type": "markdown",
   "id": "68da37af-b6a6-49c0-9074-50f2949c7499",
   "metadata": {},
   "source": [
    "### 1. <span style=\"background-color: yellow;\">Naming Convention of Variables</span>\n",
    "\n",
    "&nbsp;&nbsp;&nbsp;&nbsp; 1. Variable names <span style=\"color: green\"><strong>can</strong></span> contain only **letters**, **numbers**, and **underscores** (<span style=\"background-color: #EFEAF1\"><strong> _  </strong></span>). <span style=\"color:red\"> They can start with a **letter** or an **underscore** (<span style=\"background-color: #EFEAF1\"><strong> _  </strong></span>), not with a **number**. <br> </span>\n",
    "&nbsp;&nbsp;&nbsp;&nbsp; 2. Variable names <span style=\"color: green\"><strong>cannot</strong></span> contain spaces. To separate words in variables, you use **underscores** for example <span style=\"color: blue\">sorted_list</span>. <br>\n",
    "&nbsp;&nbsp;&nbsp;&nbsp; 3. Variable names <span style=\"color: green\"><strong>cannot</strong></span> be the same as **keywords**, **reserved words**, and **built-in functions** in Python.\n",
    "\n",
    "\n",
    "\n",
    "\n"
   ]
  },
  {
   "cell_type": "markdown",
   "id": "eedf40d9-1f1c-432e-aa72-ea9ff1a6b1cd",
   "metadata": {},
   "source": [
    "<br>\n",
    "\n",
    "<span style=\"background-color: #CAFEFD\">The Python Interpreter creates an **object** in the **HEAP** part of the RAM and all **variables** (i.e, **parameters used inside a function**) in the **STACK** part of the RAM. It is important to note that HEAP & STACK size are not fixed in the memory. To optimize the memorry usage, the CPU decides upon looking at a program as to how much of the RAM space should be given to the HEAP memory and how much to the STACK memory.</span>\n",
    "\n",
    "<br>\n",
    "\n",
    "<span style=\"background-color: #CAFEFD\">when a variable say ***variable_name*** is assigned a value in a line of a Python Program, the Python Interpreter **automatically interprets the data type of the value at that line itself** and creates an **object** (of the same data type holding the value assigned to the variable) in the **HEAP** part of the RAM and a **variable** with the name ***variable_name*** holding the address of that object is created in the **Stack** part of the RAM.</span>\n",
    "\n",
    "<br>\n",
    "\n"
   ]
  },
  {
   "cell_type": "code",
   "execution_count": 13,
   "id": "1a26fa72-b831-495f-9742-ce380d4d9fb2",
   "metadata": {},
   "outputs": [
    {
     "data": {
      "text/plain": [
       "10"
      ]
     },
     "execution_count": 13,
     "metadata": {},
     "output_type": "execute_result"
    }
   ],
   "source": [
    "length = 10    \n",
    "'''\n",
    "The data type of the value assigned is dynamically interpreted by the Python Interpreter in this line itself and then \n",
    "accordingly an int object holding the value 10 is created in the Heap part of the RAM and then a variable named 'length' holding \n",
    "the address of that int object is also created in the Stack part of the RAM thus pointing to that object holding the value.\n",
    "'''\n",
    "\n",
    "length         # print(length)"
   ]
  },
  {
   "cell_type": "code",
   "execution_count": 14,
   "id": "8b7f67ba-145d-49ad-8ca6-8b276ec4d19e",
   "metadata": {},
   "outputs": [
    {
     "data": {
      "text/plain": [
       "140727627277384"
      ]
     },
     "execution_count": 14,
     "metadata": {},
     "output_type": "execute_result"
    }
   ],
   "source": [
    "# address the variable called length is stored at in the RAM\n",
    "id(length)   # print(id(length))"
   ]
  },
  {
   "cell_type": "markdown",
   "id": "cc32a07a-1071-4dea-aaf8-80f1abc3efba",
   "metadata": {},
   "source": [
    "<br>\n",
    "\n",
    "**The Python interpreter <span style=\"background-color: yellow\">never overwrites a variable</span>, rather the variable starts pointing to the <span style=\"background-color: #CAFEFD\">new location</span> the new value is stored at.**"
   ]
  },
  {
   "cell_type": "code",
   "execution_count": 7,
   "id": "505f6723-7ff4-4461-b0dc-8f8a2bb31daa",
   "metadata": {},
   "outputs": [
    {
     "name": "stdout",
     "output_type": "stream",
     "text": [
      "Step-1 =====> length =  10    |    address = 140727885227080\n",
      "Step-2 =====> length =  20    |    address = 140727885227400\n"
     ]
    }
   ],
   "source": [
    "# Step-1\n",
    "length = 10\n",
    "print(\"Step-1 =====> length = \",length,\"   |   \",\"address =\", id(length))\n",
    "\n",
    "# Step-2 \n",
    "length = 20\n",
    "print(\"Step-2 =====> length = \",length,\"   |   \",\"address =\", id(length))"
   ]
  },
  {
   "cell_type": "code",
   "execution_count": 8,
   "id": "6bfc0adc-8d1a-4972-9145-6ce3f47e86a3",
   "metadata": {},
   "outputs": [
    {
     "data": {
      "text/plain": [
       "140727885227400"
      ]
     },
     "execution_count": 8,
     "metadata": {},
     "output_type": "execute_result"
    }
   ],
   "source": [
    "breadth = 20\n",
    "id(breadth)"
   ]
  },
  {
   "cell_type": "code",
   "execution_count": 16,
   "id": "9aa11d8b-32a0-4c7c-8c1c-7f143e7eb716",
   "metadata": {},
   "outputs": [
    {
     "data": {
      "text/plain": [
       "False"
      ]
     },
     "execution_count": 16,
     "metadata": {},
     "output_type": "execute_result"
    }
   ],
   "source": [
    "id(length) == id(breadth)"
   ]
  },
  {
   "cell_type": "code",
   "execution_count": 17,
   "id": "9ac0bb80-f8dc-4a8d-b7b1-c0d8615b778a",
   "metadata": {},
   "outputs": [
    {
     "name": "stdout",
     "output_type": "stream",
     "text": [
      "140727627277704 140727627277704\n"
     ]
    }
   ],
   "source": [
    "length = 20\n",
    "breadth = 20\n",
    "print(id(length),id(breadth))"
   ]
  },
  {
   "cell_type": "code",
   "execution_count": 18,
   "id": "030f575e-941d-43f6-8fbd-a20383808ab8",
   "metadata": {},
   "outputs": [
    {
     "data": {
      "text/plain": [
       "True"
      ]
     },
     "execution_count": 18,
     "metadata": {},
     "output_type": "execute_result"
    }
   ],
   "source": [
    "id(length) == id(breadth)"
   ]
  },
  {
   "cell_type": "code",
   "execution_count": 19,
   "id": "7c215945-b9b3-40d4-b586-2d26cfaac1ae",
   "metadata": {},
   "outputs": [
    {
     "data": {
      "text/plain": [
       "(20, 20)"
      ]
     },
     "execution_count": 19,
     "metadata": {},
     "output_type": "execute_result"
    }
   ],
   "source": [
    "# print(length,breadth) ---- 20 20\n",
    "length,breadth"
   ]
  },
  {
   "cell_type": "code",
   "execution_count": 20,
   "id": "de1a5f5e-faf3-4a57-9146-32fbc7189f37",
   "metadata": {},
   "outputs": [
    {
     "data": {
      "text/plain": [
       "(140727627277704, 140727627277704)"
      ]
     },
     "execution_count": 20,
     "metadata": {},
     "output_type": "execute_result"
    }
   ],
   "source": [
    "id(length),id(breadth)"
   ]
  },
  {
   "cell_type": "code",
   "execution_count": 21,
   "id": "46bd0f0d-b426-49ad-9bcd-1778a656fdfb",
   "metadata": {},
   "outputs": [
    {
     "data": {
      "text/plain": [
       "140727627278024"
      ]
     },
     "execution_count": 21,
     "metadata": {},
     "output_type": "execute_result"
    }
   ],
   "source": [
    "length = 30\n",
    "id(length)"
   ]
  },
  {
   "cell_type": "code",
   "execution_count": 22,
   "id": "99dc1cc6-8212-492a-b091-9f418cd6220a",
   "metadata": {},
   "outputs": [
    {
     "data": {
      "text/plain": [
       "False"
      ]
     },
     "execution_count": 22,
     "metadata": {},
     "output_type": "execute_result"
    }
   ],
   "source": [
    "id(length) == id(breadth)"
   ]
  },
  {
   "cell_type": "code",
   "execution_count": 23,
   "id": "95b23150-830d-405b-ac87-13660e370cff",
   "metadata": {},
   "outputs": [],
   "source": [
    "length_garden = 10   # Snakecase\n",
    "lengthGarden = 10    # Camelcase\n",
    "LengthGarden = 10    # Pascalcase"
   ]
  },
  {
   "cell_type": "code",
   "execution_count": 24,
   "id": "9e7b9afb-b9b9-43f8-80e2-d7e85a3d9c93",
   "metadata": {},
   "outputs": [
    {
     "data": {
      "text/plain": [
       "(10, 20, 30)"
      ]
     },
     "execution_count": 24,
     "metadata": {},
     "output_type": "execute_result"
    }
   ],
   "source": [
    "# Case-Sensitivity\n",
    "\n",
    "length = 10\n",
    "Length = 20\n",
    "LENGTH = 30\n",
    "\n",
    "length,Length,LENGTH"
   ]
  },
  {
   "cell_type": "markdown",
   "id": "0c47a08c-76e2-44ff-89f1-6c977eea0914",
   "metadata": {},
   "source": [
    "### 2. <span style=\"background-color: yellow;\">Data Types</span>\n",
    "\n",
    "<br>\n",
    "\n",
    "Variables can store data of different types, and different types can do different things.\n",
    "\n",
    "Python has the following **data types built-in by default**, in these categories:\n",
    "\n",
    "\n",
    "&nbsp;&nbsp;&nbsp;&nbsp;&nbsp;&nbsp;⇒ <span style=\"color: blue\">**Text**</span> Types: &nbsp;&nbsp;<span style=\"background-color: #C5FFF9;color: red\">&nbsp;&nbsp;**str**&nbsp;&nbsp;</span><br>\n",
    "\n",
    "&nbsp;&nbsp;&nbsp;&nbsp;&nbsp;&nbsp;⇒ <span style=\"color: blue\">**Numeric**</span> Types: &nbsp;&nbsp;<span style=\"background-color: #C5FFF9;color: red\">&nbsp;&nbsp;**int**&nbsp;&nbsp;</span>**,**&nbsp;&nbsp;<span style=\"background-color: #C5FFF9;color: red\">&nbsp;&nbsp;**float**&nbsp;&nbsp;</span>**,**&nbsp;&nbsp;<span style=\"background-color: #C5FFF9;color: red\">&nbsp;&nbsp;**complex**&nbsp;&nbsp;</span><br>\n",
    "\n",
    "&nbsp;&nbsp;&nbsp;&nbsp;&nbsp;&nbsp;⇒ <span style=\"color: blue\">**Sequence**</span> Types: &nbsp;&nbsp;<span style=\"background-color: #C5FFF9;color: red\">&nbsp;&nbsp;**list**&nbsp;&nbsp;</span>**,**&nbsp;&nbsp;<span style=\"background-color: #C5FFF9;color: red\">&nbsp;&nbsp;**tuple**&nbsp;&nbsp;</span>**,**&nbsp;&nbsp;<span style=\"background-color: #C5FFF9;color: red\">&nbsp;&nbsp;**range**&nbsp;&nbsp;</span><br>\n",
    "\n",
    "&nbsp;&nbsp;&nbsp;&nbsp;&nbsp;&nbsp;⇒ <span style=\"color: blue\">**Mapping**</span> Types: &nbsp;&nbsp;<span style=\"background-color: #C5FFF9;color: red\">&nbsp;&nbsp;**dict**&nbsp;&nbsp;</span><br>\n",
    "\n",
    "&nbsp;&nbsp;&nbsp;&nbsp;&nbsp;&nbsp;⇒ <span style=\"color: blue\">**Set**</span> Types: &nbsp;&nbsp;<span style=\"background-color: #C5FFF9;color: red\">&nbsp;&nbsp;**set**&nbsp;&nbsp;</span>**,**&nbsp;&nbsp;<span style=\"background-color: #C5FFF9;color: red\">&nbsp;&nbsp;**frozenset**&nbsp;&nbsp;</span><br>\n",
    "\n",
    "&nbsp;&nbsp;&nbsp;&nbsp;&nbsp;&nbsp;⇒ <span style=\"color: blue\">**Boolean**</span> Types: &nbsp;&nbsp;<span style=\"background-color: #C5FFF9;color: red\">&nbsp;&nbsp;**bool**&nbsp;&nbsp;</span><br>\n",
    "\n",
    "&nbsp;&nbsp;&nbsp;&nbsp;&nbsp;&nbsp;⇒ <span style=\"color: blue\">**Binary**</span> Types: &nbsp;&nbsp;<span style=\"background-color: #C5FFF9;color: red\">&nbsp;&nbsp;**bytes**&nbsp;&nbsp;</span>**,**&nbsp;&nbsp;<span style=\"background-color: #C5FFF9;color: red\">&nbsp;&nbsp;**bytearray**&nbsp;&nbsp;</span>**,**&nbsp;&nbsp;<span style=\"background-color: #C5FFF9;color: red\">&nbsp;&nbsp;**memoryview**&nbsp;&nbsp;</span><br>\n",
    "\n",
    "&nbsp;&nbsp;&nbsp;&nbsp;&nbsp;&nbsp;⇒ <span style=\"color: blue\">**None**</span> Types: &nbsp;&nbsp;<span style=\"background-color: #C5FFF9;color: red\">&nbsp;&nbsp;**NoneType**&nbsp;&nbsp;</span><br>\n",
    "\n",
    "<br>\n"
   ]
  },
  {
   "cell_type": "markdown",
   "id": "bd0cc8d3-58a5-4b65-afcb-1c7149e34b74",
   "metadata": {},
   "source": [
    "Unlike C/C++, in **Python** we don't have to declare a variable with it's data type. The Python Interpreter automatically itself interprets the data type of the variable by interpreting the value assigned to that variable. In other words, **the data type of a variable is decided at the run time only**. That is why, Python is called **Dynamically Typed Language**."
   ]
  },
  {
   "cell_type": "code",
   "execution_count": 49,
   "id": "4dbaab7e-3a72-4938-b102-c955a29fed32",
   "metadata": {},
   "outputs": [
    {
     "name": "stdout",
     "output_type": "stream",
     "text": [
      "length_of_land =  100\n",
      "bricks_cost_per_piece =  10.5\n",
      "labour_mistry1 =  Jagmohan\n",
      "is_home =  True\n",
      "complex_variable1 =  (5+3j)\n",
      "complex_variable2 =  (2+5j)\n",
      "total_income =  None\n"
     ]
    }
   ],
   "source": [
    "# 5 main simple datatypes\n",
    "\n",
    "length_of_land = 100                   # The python interpreter automatically interprets it as INTEGER type without we having to explicitly inform like in the case of C/C++\n",
    "bricks_cost_per_piece = 10.5           # The python interpreter automatically interprets it as FLOAT type just by looking at the value\n",
    "labour_mistry1 = 'Jagmohan'            # The python interpreter automatically interprets it as STRING type just by looking at the value\n",
    "is_home = True                         # The python interpreter automatically interprets it as BOOLEAN type just by looking at the value\n",
    "complex_variable1 = complex(5,3)       # The python interpreter automatically interprets it as COMPLEX type just by looking at the value\n",
    "complex_variable2 = 2+5j               # The python interpreter automatically interprets it as COMPLEX type just by looking at the value\n",
    "total_income = None                    # The python interpreter automatically interprets it as NONE (or UNKNOWN) type just by looking at the value\n",
    "\n",
    "\n",
    "print(\"length_of_land = \", length_of_land)\n",
    "print(\"bricks_cost_per_piece = \", bricks_cost_per_piece)\n",
    "print(\"labour_mistry1 = \", labour_mistry1)\n",
    "print(\"is_home = \", is_home)\n",
    "print(\"complex_variable1 = \", complex_variable1)\n",
    "print(\"complex_variable2 = \", complex_variable2)\n",
    "print(\"total_income = \", total_income)"
   ]
  },
  {
   "cell_type": "markdown",
   "id": "cb412690-edf2-463c-b027-58b51f7583be",
   "metadata": {},
   "source": [
    "<br>\n",
    "\n",
    "<span style=\"background-color: #F5C0FF\">**Getting the Data Type**</span>"
   ]
  },
  {
   "cell_type": "code",
   "execution_count": 9,
   "id": "9cc867ab-6a63-4665-92d4-22e95d36cc34",
   "metadata": {},
   "outputs": [
    {
     "name": "stdout",
     "output_type": "stream",
     "text": [
      "Data Engineering is awesome\n",
      "<class 'str'>\n"
     ]
    }
   ],
   "source": [
    "x = \"Data Engineering is awesome\"\n",
    "\n",
    "#display x:\n",
    "print(x)\n",
    "\n",
    "#display the data type of x:\n",
    "print(type(x)) "
   ]
  },
  {
   "cell_type": "code",
   "execution_count": 24,
   "id": "26b596da-2481-43e2-8039-0c1db493e2bd",
   "metadata": {},
   "outputs": [
    {
     "data": {
      "text/plain": [
       "(int, float, str, bool, complex, complex, NoneType)"
      ]
     },
     "execution_count": 24,
     "metadata": {},
     "output_type": "execute_result"
    }
   ],
   "source": [
    "\n",
    "type(length_of_land), type(bricks_cost_per_piece), type(labour_mistry1), type(is_home), type(complex_variable1), type(complex_variable2), type(total_income)\n"
   ]
  },
  {
   "cell_type": "code",
   "execution_count": 48,
   "id": "d27b547e-fb8a-4806-a1cb-223b5009999c",
   "metadata": {},
   "outputs": [
    {
     "name": "stdout",
     "output_type": "stream",
     "text": [
      "length_of_land =         100         |  data type ===>  <class 'int'>\n",
      "bricks_cost_per_piece =  10.5        |  data type ===>  <class 'float'>\n",
      "labour_mistry1 =         Jagmohan    |  data type ===>  <class 'str'>\n",
      "is_home =                True        |  data type ===>  <class 'bool'>\n",
      "complex_variable1 =      (5+3j)      |  data type ===>  <class 'complex'>\n",
      "complex_variable2 =      (2+5j)      |  data type ===>  <class 'complex'>\n",
      "total_income =           None        |  data type ===>  <class 'NoneType'>\n"
     ]
    }
   ],
   "source": [
    "print(\"length_of_land =        \", length_of_land, \"        |  data type ===> \", type(length_of_land))\n",
    "print(\"bricks_cost_per_piece = \", bricks_cost_per_piece, \"       |  data type ===> \", type(bricks_cost_per_piece))\n",
    "print(\"labour_mistry1 =        \", labour_mistry1, \"   |  data type ===> \", type(labour_mistry1))\n",
    "print(\"is_home =               \", is_home, \"       |  data type ===> \", type(is_home))\n",
    "print(\"complex_variable1 =     \", complex_variable1, \"     |  data type ===> \", type(complex_variable1))\n",
    "print(\"complex_variable2 =     \", complex_variable2, \"     |  data type ===> \", type(complex_variable2))\n",
    "print(\"total_income =          \", total_income, \"       |  data type ===> \", type(total_income))"
   ]
  },
  {
   "cell_type": "code",
   "execution_count": 24,
   "id": "11e8b3f3-6104-4d95-8e62-2b957ade98b7",
   "metadata": {},
   "outputs": [
    {
     "name": "stdout",
     "output_type": "stream",
     "text": [
      "<class 'float'>\n",
      "<class 'float'>\n",
      "<class 'float'>\n"
     ]
    }
   ],
   "source": [
    "x = 1.10\n",
    "y = 1.0\n",
    "z = -35.59\n",
    "\n",
    "print(type(x))\n",
    "print(type(y))\n",
    "print(type(z))"
   ]
  },
  {
   "cell_type": "code",
   "execution_count": 23,
   "id": "5d5f1afa-fe01-4d2e-89f2-82c009dd40ba",
   "metadata": {},
   "outputs": [
    {
     "name": "stdout",
     "output_type": "stream",
     "text": [
      "<class 'float'>\n",
      "<class 'float'>\n",
      "<class 'float'>\n"
     ]
    }
   ],
   "source": [
    "x = 35e3\n",
    "y = 12E4\n",
    "z = -87.7e100\n",
    "\n",
    "print(type(x))\n",
    "print(type(y))\n",
    "print(type(z))"
   ]
  },
  {
   "cell_type": "code",
   "execution_count": 12,
   "id": "cdf8fd77-ff12-4a57-961e-f9f752ef6243",
   "metadata": {},
   "outputs": [
    {
     "data": {
      "text/plain": [
       "complex"
      ]
     },
     "execution_count": 12,
     "metadata": {},
     "output_type": "execute_result"
    }
   ],
   "source": [
    "type(1+2j)"
   ]
  },
  {
   "cell_type": "code",
   "execution_count": 13,
   "id": "b57ef14d-fde3-4ca6-8aae-a624ce0e3f35",
   "metadata": {},
   "outputs": [
    {
     "ename": "SyntaxError",
     "evalue": "invalid decimal literal (994320932.py, line 2)",
     "output_type": "error",
     "traceback": [
      "\u001b[1;36m  Cell \u001b[1;32mIn[13], line 2\u001b[1;36m\u001b[0m\n\u001b[1;33m    type(1+2i)\u001b[0m\n\u001b[1;37m           ^\u001b[0m\n\u001b[1;31mSyntaxError\u001b[0m\u001b[1;31m:\u001b[0m invalid decimal literal\n"
     ]
    }
   ],
   "source": [
    "###### SyntaxError: invalid decimal literal\n",
    "type(1+2i)"
   ]
  },
  {
   "cell_type": "code",
   "execution_count": 22,
   "id": "babab119-b2ea-4ad2-9e02-196af1d859d6",
   "metadata": {},
   "outputs": [
    {
     "name": "stdout",
     "output_type": "stream",
     "text": [
      "<class 'complex'>\n",
      "<class 'complex'>\n",
      "<class 'complex'>\n"
     ]
    }
   ],
   "source": [
    "x = 3+5j\n",
    "y = 5j\n",
    "z = -5j\n",
    "\n",
    "print(type(x))\n",
    "print(type(y))\n",
    "print(type(z))"
   ]
  },
  {
   "cell_type": "markdown",
   "id": "87c88d72-1531-432b-a0b5-5598afdcd33a",
   "metadata": {},
   "source": [
    "<br>\n",
    "\n",
    "<span style=\"background-color: #F5C0FF\">**Setting the Data Type**</span>\n",
    "\n",
    "\n",
    "<span style=\"background-color: #C5FFF9\">In Python, the data type is set when you assign a value to a variable. That's why Python is called **Dynamically Typed Language**.</span>\n",
    "\n"
   ]
  },
  {
   "cell_type": "code",
   "execution_count": 15,
   "id": "240c98de-9b10-4b0a-a91e-e6c24676077f",
   "metadata": {},
   "outputs": [],
   "source": [
    "x_str = \"Hello World\"\n",
    "\n",
    "x_int = 20\n",
    "\n",
    "x_float = 20.5\n",
    "\n",
    "x_complex = 1j\n",
    "\n",
    "x_list = [\"apple\", \"banana\", \"cherry\"]\n",
    "\n",
    "x_tuple = (\"apple\", \"banana\", \"cherry\")\n",
    "\n",
    "x_range = range(6)\n",
    "\n",
    "x_dict = {\"name\" : \"John\", \"age\" : 36}\n",
    "\n",
    "x_set = {\"apple\", \"banana\", \"cherry\"}\n",
    "\n",
    "x_frozenset = frozenset({\"apple\", \"banana\", \"cherry\"})\n",
    "\n",
    "x_bool = True\n",
    "\n",
    "x_bytes = b\"Hello\"\n",
    "\n",
    "x_bytearray = bytearray(5)\n",
    "\n",
    "x_memoryview = memoryview(bytes(5))\n",
    "\n",
    "x_none = None"
   ]
  },
  {
   "cell_type": "markdown",
   "id": "97f8557a-cee0-4f81-a5a4-985c0d850c56",
   "metadata": {},
   "source": [
    "<br>\n",
    "\n",
    "<span style=\"background-color: #F5C0FF\">**Setting the Specific Data Type**</span>\n"
   ]
  },
  {
   "cell_type": "code",
   "execution_count": 19,
   "id": "bb570e02-d462-4c65-9869-d546a3aacb67",
   "metadata": {},
   "outputs": [],
   "source": [
    "x_str = str(\"Hello World\")\n",
    "\n",
    "x_int = int(20)\n",
    "\n",
    "x_float = float(20.5)\n",
    "\n",
    "x_complex = complex(1j)\n",
    "\n",
    "x_list = list((\"apple\", \"banana\", \"cherry\"))\n",
    "\n",
    "x_tuple = tuple((\"apple\", \"banana\", \"cherry\"))\n",
    "\n",
    "x_range = range(6)\n",
    "\n",
    "x_dict = dict(name=\"John\", age=36)\n",
    "\n",
    "x_set = set((\"apple\", \"banana\", \"cherry\"))\n",
    "\n",
    "x_frozenset = frozenset((\"apple\", \"banana\", \"cherry\"))\n",
    "\n",
    "x_bool = bool(5)\n",
    "\n",
    "x_bytes = bytes(5)\n",
    "\n",
    "x_bytearray = bytearray(5)\n",
    "\n",
    "x_memoryview = memoryview(bytes(5))"
   ]
  },
  {
   "cell_type": "markdown",
   "id": "7716f1ba-b21e-4a3a-8934-1c7236a0e664",
   "metadata": {},
   "source": [
    "<br>\n",
    "<br>\n",
    "\n",
    "\n",
    "<span style=\"background-color: #C9FF71;color: black\">**Note:**</span> <br>\n",
    "\n",
    "&nbsp;&nbsp;&nbsp;&nbsp;&nbsp;&nbsp;'<span style=\"background-color: #FFF971;color: red\">**True**</span>' is the keyword, not '**true**' or '**TRUE**'. <br>\n",
    "&nbsp;&nbsp;&nbsp;&nbsp;&nbsp;&nbsp;'<span style=\"background-color: #FFF971;color: red\">**False**</span>' is the keyword, not '**false**' or '**FALSE**'\n",
    "\n",
    "<br>\n",
    "<br>\n"
   ]
  },
  {
   "cell_type": "code",
   "execution_count": 30,
   "id": "fa60ee97-c4df-4a63-b3c0-dc60c381448f",
   "metadata": {},
   "outputs": [
    {
     "ename": "NameError",
     "evalue": "name 'true' is not defined",
     "output_type": "error",
     "traceback": [
      "\u001b[1;31m---------------------------------------------------------------------------\u001b[0m",
      "\u001b[1;31mNameError\u001b[0m                                 Traceback (most recent call last)",
      "Cell \u001b[1;32mIn[30], line 2\u001b[0m\n\u001b[0;32m      1\u001b[0m \u001b[38;5;66;03m######  NameError: name 'true' is not defined\u001b[39;00m\n\u001b[1;32m----> 2\u001b[0m is_office \u001b[38;5;241m=\u001b[39m \u001b[43mtrue\u001b[49m\n",
      "\u001b[1;31mNameError\u001b[0m: name 'true' is not defined"
     ]
    }
   ],
   "source": [
    "######  NameError: name 'true' is not defined\n",
    "is_office = true"
   ]
  },
  {
   "cell_type": "code",
   "execution_count": 31,
   "id": "9a3350d1-38e5-4451-bbea-7c8c9e953347",
   "metadata": {},
   "outputs": [
    {
     "ename": "NameError",
     "evalue": "name 'TRUE' is not defined",
     "output_type": "error",
     "traceback": [
      "\u001b[1;31m---------------------------------------------------------------------------\u001b[0m",
      "\u001b[1;31mNameError\u001b[0m                                 Traceback (most recent call last)",
      "Cell \u001b[1;32mIn[31], line 2\u001b[0m\n\u001b[0;32m      1\u001b[0m \u001b[38;5;66;03m###### NameError: name 'TRUE' is not defined\u001b[39;00m\n\u001b[1;32m----> 2\u001b[0m is_office \u001b[38;5;241m=\u001b[39m \u001b[43mTRUE\u001b[49m\n",
      "\u001b[1;31mNameError\u001b[0m: name 'TRUE' is not defined"
     ]
    }
   ],
   "source": [
    "###### NameError: name 'TRUE' is not defined\n",
    "is_office = TRUE"
   ]
  },
  {
   "cell_type": "code",
   "execution_count": 32,
   "id": "9d10c7dd-3d43-43d9-bf4d-53568f9c1936",
   "metadata": {},
   "outputs": [
    {
     "data": {
      "text/plain": [
       "(True, 'yes', 'true')"
      ]
     },
     "execution_count": 32,
     "metadata": {},
     "output_type": "execute_result"
    }
   ],
   "source": [
    "is_home = True\n",
    "\n",
    "true = 'yes'       \n",
    "is_office1 = true\n",
    "\n",
    "is_office2 = 'true'\n",
    "\n",
    "is_home, is_office1, is_office2"
   ]
  },
  {
   "cell_type": "code",
   "execution_count": 33,
   "id": "178ac733-29dc-428a-86f5-97015fe31881",
   "metadata": {},
   "outputs": [
    {
     "data": {
      "text/plain": [
       "(bool, str, str)"
      ]
     },
     "execution_count": 33,
     "metadata": {},
     "output_type": "execute_result"
    }
   ],
   "source": [
    "type(is_home), type(is_office1), type(is_office2)"
   ]
  },
  {
   "cell_type": "markdown",
   "id": "091230af-cccb-435f-abf0-08120b67d87f",
   "metadata": {},
   "source": [
    "<br>\n",
    "\n",
    "### 3. <span style=\"background-color: yellow;\">Assign Multiple Values</span>\n",
    "<br>\n",
    "\n",
    "<span style=\"background-color: #F5C0FF\">**Many Values to Multiple Variables**</span>\n"
   ]
  },
  {
   "cell_type": "code",
   "execution_count": 3,
   "id": "dd382d1b-118a-4b15-98a9-247ef6fbf607",
   "metadata": {},
   "outputs": [
    {
     "name": "stdout",
     "output_type": "stream",
     "text": [
      "Orange\n",
      "Banana\n",
      "Cherry\n"
     ]
    }
   ],
   "source": [
    "# Python allows you to assign values to multiple variables in one line:\n",
    "\n",
    "x, y, z = \"Orange\", \"Banana\", \"Cherry\"\n",
    "print(x)\n",
    "print(y)\n",
    "print(z)"
   ]
  },
  {
   "cell_type": "markdown",
   "id": "821b9684-9571-4365-b4d9-f8642d1bddbe",
   "metadata": {},
   "source": [
    "<br>\n",
    "\n",
    "<span style=\"background-color: #C9FF71;color: black\">**Note:**</span> Make sure the **number of variables** <span style=\"color: blue\">**matches**</span> the **number of values**, or else you will get an <span style=\"color: red\">**error**</span>.\n"
   ]
  },
  {
   "cell_type": "code",
   "execution_count": 5,
   "id": "af0cc70e-5261-4568-8f5d-0dbb357fc6ce",
   "metadata": {},
   "outputs": [
    {
     "ename": "ValueError",
     "evalue": "too many values to unpack (expected 3)",
     "output_type": "error",
     "traceback": [
      "\u001b[1;31m---------------------------------------------------------------------------\u001b[0m",
      "\u001b[1;31mValueError\u001b[0m                                Traceback (most recent call last)",
      "Cell \u001b[1;32mIn[5], line 1\u001b[0m\n\u001b[1;32m----> 1\u001b[0m x, y, z \u001b[38;5;241m=\u001b[39m \u001b[38;5;124m\"\u001b[39m\u001b[38;5;124mOrange\u001b[39m\u001b[38;5;124m\"\u001b[39m, \u001b[38;5;124m\"\u001b[39m\u001b[38;5;124mBanana\u001b[39m\u001b[38;5;124m\"\u001b[39m, \u001b[38;5;124m\"\u001b[39m\u001b[38;5;124mCherry\u001b[39m\u001b[38;5;124m\"\u001b[39m, \u001b[38;5;124m\"\u001b[39m\u001b[38;5;124mMango\u001b[39m\u001b[38;5;124m\"\u001b[39m\n",
      "\u001b[1;31mValueError\u001b[0m: too many values to unpack (expected 3)"
     ]
    }
   ],
   "source": [
    "x, y, z = \"Orange\", \"Banana\", \"Cherry\", \"Mango\""
   ]
  },
  {
   "cell_type": "markdown",
   "id": "a06fb616-f32a-44cc-855f-c635131efb2a",
   "metadata": {},
   "source": [
    "<br>\n",
    "<br>\n",
    "\n",
    "<span style=\"background-color: #F5C0FF\">**One Value to Multiple Variables**</span>\n"
   ]
  },
  {
   "cell_type": "code",
   "execution_count": 7,
   "id": "c1422fad-73d8-4bfd-93c3-750d42c4ec81",
   "metadata": {},
   "outputs": [
    {
     "name": "stdout",
     "output_type": "stream",
     "text": [
      "Orange\n",
      "Orange\n",
      "Orange\n"
     ]
    }
   ],
   "source": [
    "# You can assign the same value to multiple variables in one line:\n",
    "\n",
    "x = y = z = \"Orange\"\n",
    "print(x)\n",
    "print(y)\n",
    "print(z)"
   ]
  },
  {
   "cell_type": "markdown",
   "id": "50a33d58-07bb-408f-b7fc-d974b94e8043",
   "metadata": {},
   "source": [
    "<br>\n",
    "<br>\n",
    "\n",
    "<span style=\"background-color: #F5C0FF\">**Unpack a Collection**</span>\n",
    "\n",
    "If you have a collection of values in a **list**, **tuple** etc. Python allows you to extract the values into **variables**. This is called <span style=\"color: blue\">**unpacking**</span>.\n"
   ]
  },
  {
   "cell_type": "code",
   "execution_count": 9,
   "id": "742a4483-8162-4b01-b3de-719230d6f421",
   "metadata": {},
   "outputs": [
    {
     "name": "stdout",
     "output_type": "stream",
     "text": [
      "apple\n",
      "banana\n",
      "cherry\n"
     ]
    }
   ],
   "source": [
    "fruits = [\"apple\", \"banana\", \"cherry\"]    # list\n",
    "x, y, z = fruits\n",
    "print(x)\n",
    "print(y)\n",
    "print(z)"
   ]
  },
  {
   "cell_type": "code",
   "execution_count": 10,
   "id": "cd302c55-4879-4e4c-a028-99401b100131",
   "metadata": {},
   "outputs": [
    {
     "name": "stdout",
     "output_type": "stream",
     "text": [
      "apple\n",
      "banana\n",
      "cherry\n"
     ]
    }
   ],
   "source": [
    "fruits = (\"apple\", \"banana\", \"cherry\")    # tuple\n",
    "x, y, z = fruits\n",
    "print(x)\n",
    "print(y)\n",
    "print(z)"
   ]
  },
  {
   "cell_type": "markdown",
   "id": "a2b4358e-565d-4bc6-b56c-eeabe73cd09f",
   "metadata": {},
   "source": [
    "<br>\n",
    "\n",
    "### 4. <span style=\"background-color: yellow;\">Global Variables</span>\n",
    "<br>\n",
    "\n",
    "Variables that are <span style=\"color: blue;\">**created**</span> **outside of a function** (as in all of the examples above) are known as **global** variables.\n",
    "\n",
    "Global variables <span style=\"color: blue;\">**can be used**</span> by everyone, both **inside** of functions and **outside**."
   ]
  },
  {
   "cell_type": "code",
   "execution_count": 11,
   "id": "1358b2fd-a608-494a-aee8-aa809dffcd2b",
   "metadata": {},
   "outputs": [
    {
     "name": "stdout",
     "output_type": "stream",
     "text": [
      "Python is awesome\n"
     ]
    }
   ],
   "source": [
    "x = \"awesome\"\n",
    "\n",
    "def myfunc():\n",
    "  print(\"Python is \" + x)\n",
    "\n",
    "myfunc()"
   ]
  },
  {
   "cell_type": "markdown",
   "id": "50b7d339-f052-46fd-b37d-ac1b18f2bb20",
   "metadata": {},
   "source": [
    "<br>\n",
    "\n",
    "<span style=\"background-color: #CAFEFD\">If you create a variable with the same name inside a function, this variable will be local, and can only be used inside the function. The global variable with the same name will remain as it was, global and with the original value.</span>\n",
    "\n"
   ]
  },
  {
   "cell_type": "code",
   "execution_count": 1,
   "id": "b620b08e-9e06-4bec-b347-453b6c49cdef",
   "metadata": {},
   "outputs": [
    {
     "name": "stdout",
     "output_type": "stream",
     "text": [
      "Python is fantastic\n",
      "Python is awesome\n"
     ]
    }
   ],
   "source": [
    "# Create a variable inside a function, with the same name as the global variable\n",
    "\n",
    "x = \"awesome\"\n",
    "\n",
    "def myfunc():\n",
    "  x = \"fantastic\"\n",
    "  print(\"Python is \" + x)\n",
    "\n",
    "myfunc()\n",
    "\n",
    "print(\"Python is \" + x)"
   ]
  },
  {
   "cell_type": "markdown",
   "id": "87656afd-f110-4a8e-86e8-9867aca41bba",
   "metadata": {},
   "source": [
    "<br>\n",
    "\n",
    "### 5. <span style=\"background-color: yellow;\">The global Keyword</span>\n",
    "<br>\n",
    "\n",
    "<span style=\"background-color: #CAFEFD\">Normally, when you create a variable inside a function, that variable is local, and can only be used inside that function. To create a global variable inside a function, you can use the **global** keyword.</span>\n"
   ]
  },
  {
   "cell_type": "code",
   "execution_count": 2,
   "id": "e367382c-7712-4261-9fa0-10ef90c94022",
   "metadata": {},
   "outputs": [
    {
     "name": "stdout",
     "output_type": "stream",
     "text": [
      "Python is fantastic\n"
     ]
    }
   ],
   "source": [
    "# If you use the global keyword, the variable belongs to the global scope:\n",
    "\n",
    "def myfunc():\n",
    "  global x\n",
    "  x = \"fantastic\"\n",
    "\n",
    "myfunc()\n",
    "\n",
    "print(\"Python is \" + x)"
   ]
  },
  {
   "cell_type": "markdown",
   "id": "272dd86d-65d3-4db9-99b6-6104e4398926",
   "metadata": {},
   "source": [
    "<br>\n",
    "\n",
    "<span style=\"background-color: #CAFEFD\">To change the value of a global variable inside a function, refer to the variable by using the **global** keyword:</span>\n",
    "\n"
   ]
  },
  {
   "cell_type": "code",
   "execution_count": 1,
   "id": "4acd1159-41ce-400d-9f50-937192186277",
   "metadata": {},
   "outputs": [
    {
     "name": "stdout",
     "output_type": "stream",
     "text": [
      "Python is fantastic\n",
      "Python is fantastic\n"
     ]
    }
   ],
   "source": [
    "# overwiting a global variable inide a funtion\n",
    "\n",
    "x = \"awesome\"\n",
    "\n",
    "def myfunc():\n",
    "  global x\n",
    "  x = \"fantastic\"\n",
    "  print(\"Python is \" + x)\n",
    "\n",
    "myfunc()\n",
    "\n",
    "print(\"Python is \" + x)"
   ]
  },
  {
   "cell_type": "code",
   "execution_count": null,
   "id": "0b9a188a-127a-4bcf-97ca-6fa0211a7dec",
   "metadata": {},
   "outputs": [],
   "source": []
  },
  {
   "cell_type": "markdown",
   "id": "097a7290-b507-4bd7-b077-4922d4e0fd41",
   "metadata": {},
   "source": [
    "<br>\n",
    "\n",
    "# <u>Operators</u>\n",
    "\n",
    "<br>\n",
    "\n",
    "Python operators are **special symbols** or **keywords** that allow us to perform different operations on variables or values\n",
    "\n",
    "### 1. &nbsp;<span style=\"background-color: #C9FF71;color: black\">Types of Operators in Python :</span>\n",
    "\n",
    "&nbsp;&nbsp;&nbsp;&nbsp;&nbsp;&nbsp;&nbsp;&nbsp;&nbsp;&nbsp;&nbsp;&nbsp;⇒ <span style=\"color: blue\">&nbsp;&nbsp;**Arithmetic operators**</span> <br>\n",
    "&nbsp;&nbsp;&nbsp;&nbsp;&nbsp;&nbsp;&nbsp;&nbsp;&nbsp;&nbsp;&nbsp;&nbsp;⇒ <span style=\"color: blue\">&nbsp;&nbsp;**Assignment operators**</span> <br>\n",
    "&nbsp;&nbsp;&nbsp;&nbsp;&nbsp;&nbsp;&nbsp;&nbsp;&nbsp;&nbsp;&nbsp;&nbsp;⇒ <span style=\"color: blue\">&nbsp;&nbsp;**Comparison operators**</span> <br>\n",
    "&nbsp;&nbsp;&nbsp;&nbsp;&nbsp;&nbsp;&nbsp;&nbsp;&nbsp;&nbsp;&nbsp;&nbsp;⇒ <span style=\"color: blue\">&nbsp;&nbsp;**Logical operators**</span> <br>\n",
    "&nbsp;&nbsp;&nbsp;&nbsp;&nbsp;&nbsp;&nbsp;&nbsp;&nbsp;&nbsp;&nbsp;&nbsp;⇒ <span style=\"color: blue\">&nbsp;&nbsp;**Identity operators**</span> <br>\n",
    "&nbsp;&nbsp;&nbsp;&nbsp;&nbsp;&nbsp;&nbsp;&nbsp;&nbsp;&nbsp;&nbsp;&nbsp;⇒ <span style=\"color: blue\">&nbsp;&nbsp;**Membership operators**</span> <br>\n",
    "&nbsp;&nbsp;&nbsp;&nbsp;&nbsp;&nbsp;&nbsp;&nbsp;&nbsp;&nbsp;&nbsp;&nbsp;⇒ <span style=\"color: blue\">&nbsp;&nbsp;**Bitwise operators**</span> <br>\n"
   ]
  },
  {
   "cell_type": "markdown",
   "id": "82cd013a-c852-4cea-80ea-389c5c3fdf11",
   "metadata": {},
   "source": [
    "<br>\n",
    "\n",
    "### &nbsp;&nbsp;&nbsp;&nbsp;&nbsp;&nbsp;&nbsp;&nbsp;&nbsp;&nbsp;&nbsp;&nbsp;&nbsp;<span style=\"background-color: yellow;\">Python Arithmetic Operators</span>\n",
    "\n",
    "&nbsp;&nbsp;&nbsp;&nbsp;&nbsp;&nbsp;&nbsp;&nbsp;&nbsp;&nbsp;&nbsp;&nbsp;&nbsp;&nbsp;&nbsp;&nbsp;&nbsp;&nbsp;**Arithmetic operators** are used with numeric values to perform common <span style=\"background-color: #CAFEFD\">**mathematical operations**</span>&nbsp;:\n",
    "\n",
    "<div style=\"text-align: left; margin-left: -600px\">\n",
    "\n",
    "| <span style=\"color: red\"><strong>Operator</strong></span> | <span style=\"color: red\"><strong>Name</strong></span> | <span style=\"color: red\"><strong>Example</strong></span>      |\n",
    "|-------------------|----------------|-----------------|\n",
    "|  <span style=\"background-color: yellow;font-size: larger\"><strong>&nbsp;+&nbsp;</strong></span>   |  Addition          |    <span style=\"color: blue; font-size: larger\">**x + y**</span>    |\n",
    "|  <span style=\"background-color: yellow;font-size: larger\"><strong>&nbsp;-&nbsp;</strong></span>   |  Substraction      |    <span style=\"color: blue; font-size: larger\">**x - y**</span>    |\n",
    "|  <span style=\"background-color: yellow;font-size: larger\"><strong>&nbsp;*&nbsp;</strong></span>   |  Multiplication    |    <span style=\"color: blue; font-size: larger\">**x * y**</span>    |\n",
    "|  <span style=\"background-color: yellow;font-size: larger\"><strong>&nbsp;\\\\&nbsp;</strong></span>  |  Division          |    <span style=\"color: blue; font-size: larger\">**x \\ y**</span>    |\n",
    "|  <span style=\"background-color: yellow;font-size: larger\"><strong>&nbsp;%&nbsp;</strong></span>   |  Modulus           |    <span style=\"color: blue; font-size: larger\">**x % y**</span>    |\n",
    "|  <span style=\"background-color: yellow;font-size: larger\"><strong>&nbsp;**&nbsp;</strong></span>  |  Exponentiation    |    <span style=\"color: blue; font-size: larger\">**x ** y**</span>   |\n",
    "|  <span style=\"background-color: yellow;font-size: larger\"><strong>&nbsp;\\\\&nbsp;</strong></span>  |  Floor Division    |    <span style=\"color: blue; font-size: larger\">**x \\\\ y**</span>   |\n",
    "\n",
    "</div>\n",
    "\n",
    "<br>\n",
    "\n",
    "### &nbsp;&nbsp;&nbsp;&nbsp;&nbsp;&nbsp;&nbsp;&nbsp;&nbsp;&nbsp;&nbsp;&nbsp;&nbsp;<span style=\"background-color: yellow;\">Python Assignment Operators</span>\n",
    "\n",
    "&nbsp;&nbsp;&nbsp;&nbsp;&nbsp;&nbsp;&nbsp;&nbsp;&nbsp;&nbsp;&nbsp;&nbsp;&nbsp;&nbsp;&nbsp;&nbsp;&nbsp;&nbsp;**Assignments operators** are used to <span style=\"background-color: #CAFEFD\">**assign values to variables**</span> :\n",
    "\n",
    "<div style=\"text-align: left; margin-left: -620px\">\n",
    "\n",
    "| <span style=\"color: red\"><strong>Operator</strong></span> | <span style=\"color: red\"><strong>Example</strong></span> | <span style=\"color: red\"><strong>Same As</strong></span>      |\n",
    "|-------------------|----------------|-----------------|\n",
    "|  <span style=\"background-color: yellow;font-size: larger\"><strong>&nbsp;=&nbsp;</strong></span>    |    <span style=\"color: blue; font-size: larger\">**x=5**</span>        |    x = 5         |\n",
    "|  <span style=\"background-color: yellow;font-size: larger\"><strong>&nbsp;+=&nbsp;</strong></span>   |    <span style=\"color: blue; font-size: larger\">**x += 3**</span>     |    x = x + 3     |\n",
    "|  <span style=\"background-color: yellow;font-size: larger\"><strong>&nbsp;-=&nbsp;</strong></span>   |    <span style=\"color: blue; font-size: larger\">**x -= 3**</span>     |    x = x - 3     |\n",
    "|  <span style=\"background-color: yellow;font-size: larger\"><strong>&nbsp;*=&nbsp;</strong></span>   |    <span style=\"color: blue; font-size: larger\"><strong>x *= 3</strong></span>     |    x = x * 3     |\n",
    "|  <span style=\"background-color: yellow;font-size: larger\"><strong>&nbsp;/=&nbsp;</strong></span>   |    <span style=\"color: blue; font-size: larger\">**x /= 3**</span>     |    x = x / 3     |\n",
    "|  <span style=\"background-color: yellow;font-size: larger\"><strong>&nbsp;%=&nbsp;</strong></span>   |    <span style=\"color: blue; font-size: larger\">**x %= 3**</span>     |    x = x % 3     |\n",
    "|  <span style=\"background-color: yellow;font-size: larger\"><strong>&nbsp;//=&nbsp;</strong></span>  |    <span style=\"color: blue; font-size: larger\">**x //= 3**</span>    |    x = x // 3    |\n",
    "|  <span style=\"background-color: yellow;font-size: larger\"><strong>&nbsp;**=&nbsp;</strong></span>  |    <span style=\"color: blue; font-size: larger\"><strong>x **= 3</strong></span>    |    x = x ** 3    |\n",
    "|  <span style=\"background-color: yellow;font-size: larger\"><strong>&nbsp;&=&nbsp;</strong></span>   |    <span style=\"color: blue; font-size: larger\">**x &= 3**</span>     |    x = x & 3     |\n",
    "|  <span style=\"background-color: yellow;font-size: larger\"><strong>&nbsp;\\|=&nbsp;</strong></span>  |    <span style=\"color: blue; font-size: larger\">**x \\|= 3**</span>     |    x = x \\| 3     |\n",
    "|  <span style=\"background-color: yellow;font-size: larger\"><strong>&nbsp;^=&nbsp;</strong></span>   |    <span style=\"color: blue; font-size: larger\">**x ^= 3**</span>     |    x = x ^ 3     |\n",
    "|  <span style=\"background-color: yellow;font-size: larger\"><strong>&nbsp;>>=&nbsp;</strong></span>  |    <span style=\"color: blue; font-size: larger\">**x >>= 3**</span>    |    x = x >> 3    |\n",
    "|  <span style=\"background-color: yellow;font-size: larger\"><strong>&nbsp;<<=&nbsp;</strong></span>  |    <span style=\"color: blue; font-size: larger\">**x <<= 3**</span>    |    x = x << 3    |\n",
    "\n",
    "</div>\n",
    "\n",
    "<br>\n",
    "\n",
    "### &nbsp;&nbsp;&nbsp;&nbsp;&nbsp;&nbsp;&nbsp;&nbsp;&nbsp;&nbsp;&nbsp;&nbsp;&nbsp;<span style=\"background-color: yellow;\">Python Comparison Operators</span>\n",
    "\n",
    "&nbsp;&nbsp;&nbsp;&nbsp;&nbsp;&nbsp;&nbsp;&nbsp;&nbsp;&nbsp;&nbsp;&nbsp;&nbsp;&nbsp;&nbsp;&nbsp;&nbsp;&nbsp;**Comparison operators** are used to <span style=\"background-color: #CAFEFD\">**compare two values**</span> :\n",
    "\n",
    "<div style=\"text-align: left; margin-left: -550px\">\n",
    "\n",
    "| <span style=\"color: red\"><strong>Operator</strong></span> | <span style=\"color: red\"><strong>Name</strong></span> | <span style=\"color: red\"><strong>Example</strong></span>      |\n",
    "|-------------------|----------------|-----------------|\n",
    "|  <span style=\"background-color: yellow;font-size: larger\"><strong>&nbsp;==&nbsp;</strong></span>  |   Equal                                  |   <span style=\"color: blue; font-size: larger\">**x == y**</span>       |\n",
    "|  <span style=\"background-color: yellow;font-size: larger\"><strong>&nbsp;!=&nbsp;</strong></span>  |   Not equal                              |   <span style=\"color: blue; font-size: larger\">**x != y**</span>       |\n",
    "|  <span style=\"background-color: yellow;font-size: larger\"><strong>&nbsp;>&nbsp;</strong></span>   |   Greater than                           |   <span style=\"color: blue; font-size: larger\">**x > y**</span>        |\n",
    "|  <span style=\"background-color: yellow;font-size: larger\"><strong>&nbsp;<&nbsp;</strong></span>   |   Lesser than                            |   <span style=\"color: blue; font-size: larger\">**x < y**</span>        |\n",
    "|  <span style=\"background-color: yellow;font-size: larger\"><strong>&nbsp;>=&nbsp;</strong></span>  |   Greater than or equal to               |   <span style=\"color: blue; font-size: larger\">**x >= y**</span>       |\n",
    "|  <span style=\"background-color: yellow;font-size: larger\"><strong>&nbsp;<=&nbsp;</strong></span>  |   Less than or equal to                  |   <span style=\"color: blue; font-size: larger\">**x <= y**</span>       |\n",
    "</div>\n",
    "\n",
    "<br>\n",
    "\n",
    "### &nbsp;&nbsp;&nbsp;&nbsp;&nbsp;&nbsp;&nbsp;&nbsp;&nbsp;&nbsp;&nbsp;&nbsp;&nbsp;<span style=\"background-color: yellow;\">Python Logical Operators</span>\n",
    "\n",
    "&nbsp;&nbsp;&nbsp;&nbsp;&nbsp;&nbsp;&nbsp;&nbsp;&nbsp;&nbsp;&nbsp;&nbsp;&nbsp;&nbsp;&nbsp;&nbsp;&nbsp;&nbsp;**Logical operators** are used to <span style=\"background-color: #CAFEFD\">**combine conditional statements**</span> :\n",
    "\n",
    "<div style=\"text-align: left; margin-left: -310px\">\n",
    "\n",
    "| <span style=\"color: red\"><strong>Operator</strong></span> | <span style=\"color: red\"><strong>Description</strong></span> | <span style=\"color: red\"><strong>Example</strong></span>      |\n",
    "|-------------------|----------------|-----------------|\n",
    "|  <span style=\"background-color: yellow;font-size: larger\"><strong>&nbsp;and&nbsp;</strong></span>  |   Returns True if both statements are true   |   <span style=\"color: blue; font-size: larger\">**x < 5 and  x < 10**</span>   |\n",
    "|  <span style=\"background-color: yellow;font-size: larger\"><strong>&nbsp;or&nbsp;</strong></span>  |   Returns True if one of the statements is true   |   <span style=\"color: blue; font-size: larger\">**x < 5 or x < 4**</span>   |\n",
    "|  <span style=\"background-color: yellow;font-size: larger\"><strong>&nbsp;not&nbsp;</strong></span>  |   Reverse the result, returns False if the result is true   |   <span style=\"color: blue; font-size: larger\">**not(x < 5 and x < 10)**</span>   |\n",
    "\n",
    "</div>\n",
    "\n",
    "<br>\n",
    "\n",
    "### &nbsp;&nbsp;&nbsp;&nbsp;&nbsp;&nbsp;&nbsp;&nbsp;&nbsp;&nbsp;&nbsp;&nbsp;&nbsp;<span style=\"background-color: yellow;\">Python Identity Operators</span>\n",
    "\n",
    "&nbsp;&nbsp;&nbsp;&nbsp;&nbsp;&nbsp;&nbsp;&nbsp;&nbsp;&nbsp;&nbsp;&nbsp;&nbsp;&nbsp;&nbsp;&nbsp;&nbsp;&nbsp;**Identity operators** are used to <span style=\"background-color: #CAFEFD\">compare the objects</span>, not if they are equal, but <span style=\"background-color: #CAFEFD\">**if they are actually the same object, with the same memory location**</span> :\n",
    "\n",
    "<div style=\"text-align: left; margin-left: -310px\">\n",
    "\n",
    "| <span style=\"color: red\"><strong>Operator</strong></span> | <span style=\"color: red\"><strong>Description</strong></span> | <span style=\"color: red\"><strong>Example</strong></span>      |\n",
    "|-------------------|----------------|-----------------|\n",
    "|  <span style=\"background-color: yellow;font-size: larger\"><strong>&nbsp;and&nbsp;</strong></span>  |   Returns True if both statements are true   |   <span style=\"color: blue; font-size: larger\">**x < 5 and  x < 10**</span>   |\n",
    "|  <span style=\"background-color: yellow;font-size: larger\"><strong>&nbsp;or&nbsp;</strong></span>  |   Returns True if one of the statements is true   |   <span style=\"color: blue; font-size: larger\">**x < 5 or x < 4**</span>   |\n",
    "|  <span style=\"background-color: yellow;font-size: larger\"><strong>&nbsp;not&nbsp;</strong></span>  |   Reverse the result, returns False if the result is true   |   <span style=\"color: blue; font-size: larger\">**not(x < 5 and x < 10)**</span>   |\n",
    "\n",
    "</div>\n",
    "\n",
    "<br>\n",
    "\n",
    "### &nbsp;&nbsp;&nbsp;&nbsp;&nbsp;&nbsp;&nbsp;&nbsp;&nbsp;&nbsp;&nbsp;&nbsp;&nbsp;<span style=\"background-color: yellow;\">Python Membership Operators</span>\n",
    "\n",
    "&nbsp;&nbsp;&nbsp;&nbsp;&nbsp;&nbsp;&nbsp;&nbsp;&nbsp;&nbsp;&nbsp;&nbsp;&nbsp;&nbsp;&nbsp;&nbsp;&nbsp;&nbsp;**Membership operators** are used to <span style=\"background-color: #CAFEFD\">**test if a sequence is presented in an object**</span> :\n",
    "\n",
    "<div style=\"text-align: left; margin-left: -200px\">\n",
    "\n",
    "| <span style=\"color: red\"><strong>Operator</strong></span> | <span style=\"color: red\"><strong>Description</strong></span> | <span style=\"color: red\"><strong>Example</strong></span>      |\n",
    "|-------------------|----------------|-----------------|\n",
    "|  <span style=\"background-color: yellow;font-size: larger\"><strong>&nbsp;in&nbsp;</strong></span>  |   Returns True if a sequence with the specified value is present in the object   |   <span style=\"color: blue; font-size: larger\">**x in y**</span>   |\n",
    "|  <span style=\"background-color: yellow;font-size: larger\"><strong>&nbsp;not in&nbsp;</strong></span>  |   Returns True if a sequence with the specified value is not present in the object   |   <span style=\"color: blue; font-size: larger\">**x not in y**</span>   |\n",
    "\n",
    "</div\n",
    "\n",
    "<br>\n",
    "<br>\n",
    "\n",
    "### &nbsp;&nbsp;&nbsp;&nbsp;&nbsp;&nbsp;&nbsp;&nbsp;&nbsp;&nbsp;&nbsp;&nbsp;&nbsp;<span style=\"background-color: yellow;\">Python Bitwise Operators</span>\n",
    "\n",
    "&nbsp;&nbsp;&nbsp;&nbsp;&nbsp;&nbsp;&nbsp;&nbsp;&nbsp;&nbsp;&nbsp;&nbsp;&nbsp;&nbsp;&nbsp;&nbsp;&nbsp;&nbsp;**Bitwise operators** are used to <span style=\"background-color: #CAFEFD\">**compare (binary) numbers**</span> :\n",
    "\n",
    "\n",
    "\n",
    "| <span style=\"color: red\"><strong>Operator</strong></span> | <span style=\"color: red\"><strong>Name</strong></span> | <span style=\"color: red\"><strong>Description</strong></span>      |   <span style=\"color: red\"><strong>Example</strong></span>      |\n",
    "|-------------------|----------------|-----------------|-----------------------------------------------|\n",
    "|  <span style=\"background-color: yellow;font-size: larger\"><strong>&nbsp;&&nbsp;</strong></span>   |   AND   | Sets each bit to 1 if both bits are 1  | <span style=\"color: blue; font-size: larger\">**x & y**</span>   |\n",
    "|  <span style=\"background-color: yellow;font-size: larger\"><strong>&nbsp;\\|&nbsp;</strong></span>  |   OR    | Sets each bit to 1 if both bits are 1  | <span style=\"color: blue; font-size: larger\"><strong>x \\| y</strong></span>   |\n",
    "|  <span style=\"background-color: yellow;font-size: larger\"><strong>&nbsp;^&nbsp;</strong></span>   |   XOR   | Sets each bit to 1 if only one of two bits is 1  | <span style=\"color: blue; font-size: larger\"><strong>x ^ y</strong></span>   |\n",
    "|  <span style=\"background-color: yellow;font-size: larger\"><strong>&nbsp;~&nbsp;</strong></span>   |   NOT   | Inverts all the bits  | <span style=\"color: blue; font-size: larger\"><strong>~x</strong></span>   |\n",
    "|  <span style=\"background-color: yellow;font-size: larger\"><strong>&nbsp;<<&nbsp;</strong></span>  |   Zero fill left shift   | Shift left by pushing zeros in from the right and let the leftmost bits fall off  | <span style=\"color: blue; font-size: larger\"><strong>x << 2</strong></span>   |\n",
    "|  <span style=\"background-color: yellow;font-size: larger\"><strong>&nbsp;>>&nbsp;</strong></span>  |   Signed right shift   | Shift right by pushing copies of the leftmost bit in from the left, and let the rightmost bits fall off  | <span style=\"color: blue; font-size: larger\"><strong>x >> 2</strong></span>   |\n",
    "\n",
    "<br>\n"
   ]
  },
  {
   "cell_type": "markdown",
   "id": "e629c918-17e2-4c91-b73a-4a16ea3271ef",
   "metadata": {},
   "source": [
    "<br>\n",
    "\n",
    "#### Examples of Arithmetic Operators :"
   ]
  },
  {
   "cell_type": "code",
   "execution_count": 65,
   "id": "f59603e4-78ee-435b-806c-fbf09b5257f0",
   "metadata": {},
   "outputs": [
    {
     "name": "stdout",
     "output_type": "stream",
     "text": [
      "Addition:        13\n",
      "Subtraction:     7\n",
      "Multiplication:  30\n",
      "Division:        3.3333333333333335\n",
      "Floor Division:  3\n",
      "Modulus:         1\n",
      "Exponentiation:  1000\n"
     ]
    }
   ],
   "source": [
    "a = 10\n",
    "b = 3\n",
    "\n",
    "addition_result = a + b\n",
    "subtraction_result = a - b\n",
    "multiplication_result = a * b\n",
    "division_result = a / b\n",
    "floor_division_result = a // b\n",
    "modulus_result = a % b\n",
    "exponentiation_result = a ** b\n",
    "\n",
    "print(\"Addition:       \", addition_result)\n",
    "print(\"Subtraction:    \", subtraction_result)\n",
    "print(\"Multiplication: \", multiplication_result)\n",
    "print(\"Division:       \", division_result)\n",
    "print(\"Floor Division: \", floor_division_result)\n",
    "print(\"Modulus:        \", modulus_result)\n",
    "print(\"Exponentiation: \", exponentiation_result)\n"
   ]
  },
  {
   "cell_type": "code",
   "execution_count": 19,
   "id": "2c370c2d-5187-4597-ace0-798c7c60059a",
   "metadata": {},
   "outputs": [
    {
     "name": "stdout",
     "output_type": "stream",
     "text": [
      "a - b =  7\n",
      "b - a =  -7\n"
     ]
    }
   ],
   "source": [
    "a = 10\n",
    "b = 3\n",
    "\n",
    "print('a - b = ', a-b)\n",
    "print('b - a = ', b-a)"
   ]
  },
  {
   "cell_type": "markdown",
   "id": "4789b5e5-1f31-4368-bea6-353264602e0c",
   "metadata": {},
   "source": [
    "<br>\n",
    "\n",
    "#### Examples of Assignment Operators :"
   ]
  },
  {
   "cell_type": "code",
   "execution_count": 137,
   "id": "f58ebb94-9d03-485d-a24a-12b7d6a6a44a",
   "metadata": {},
   "outputs": [
    {
     "name": "stdout",
     "output_type": "stream",
     "text": [
      "if (x = 5) then (x += 3)   returns   8\n",
      "if (x = 5) then (x -= 3)   returns   2\n",
      "if (x = 5) then (x *= 3)   returns   15\n",
      "if (x = 5) then (x /= 3)   returns   1.6666666666666667\n",
      "if (x = 5) then (x %= 3)   returns   2\n",
      "if (x = 5) then (x //= 3)  returns   1\n",
      "if (x = 5) then (x **= 3)  returns   125\n",
      "if (x = 5) then (x &= 3)   returns   1\n",
      "if (x = 5) then (x |= 3)   returns   7\n",
      "if (x = 5) then (x ^= 3)   returns   6\n",
      "if (x = 5) then (x <<= 3)  returns   40\n",
      "if (x = 5) then (x >>= 3)  returns   0\n"
     ]
    }
   ],
   "source": [
    "# Also known as short-hand operators\n",
    "\n",
    "x = 5\n",
    "x += 3\n",
    "print(\"if (x = 5) then (x += 3)   returns  \",x)\n",
    "\n",
    "\n",
    "x = 5\n",
    "x -= 3\n",
    "print(\"if (x = 5) then (x -= 3)   returns  \",x)\n",
    "\n",
    "\n",
    "x = 5\n",
    "x *= 3\n",
    "print(\"if (x = 5) then (x *= 3)   returns  \",x)\n",
    "\n",
    "\n",
    "x = 5\n",
    "x /= 3\n",
    "print(\"if (x = 5) then (x /= 3)   returns  \",x)\n",
    "\n",
    "\n",
    "x = 5\n",
    "x%=3\n",
    "print(\"if (x = 5) then (x %= 3)   returns  \",x)\n",
    "\n",
    "\n",
    "x = 5\n",
    "x//=3\n",
    "print(\"if (x = 5) then (x //= 3)  returns  \",x)\n",
    "\n",
    "\n",
    "x = 5\n",
    "x **= 3\n",
    "print(\"if (x = 5) then (x **= 3)  returns  \",x)\n",
    "\n",
    "\n",
    "x = 5\n",
    "x &= 3\n",
    "print(\"if (x = 5) then (x &= 3)   returns  \",x)\n",
    "\n",
    "\n",
    "x = 5\n",
    "x |= 3\n",
    "print(\"if (x = 5) then (x |= 3)   returns  \",x)\n",
    "\n",
    "\n",
    "x = 5\n",
    "x ^= 3\n",
    "print(\"if (x = 5) then (x ^= 3)   returns  \",x)\n",
    "\n",
    "\n",
    "x = 5\n",
    "x <<= 3\n",
    "print(\"if (x = 5) then (x <<= 3)  returns  \",x)\n",
    "\n",
    "\n",
    "x = 5\n",
    "x >>= 3\n",
    "print(\"if (x = 5) then (x >>= 3)  returns  \",x)\n"
   ]
  },
  {
   "cell_type": "markdown",
   "id": "45378e6e-9656-4be1-a5a6-7d514247563a",
   "metadata": {},
   "source": [
    "<br>\n",
    "\n",
    "#### Examples of Comparison Operators :"
   ]
  },
  {
   "cell_type": "code",
   "execution_count": 29,
   "id": "6f73123e-2d92-47f7-9a91-9881dc83b30f",
   "metadata": {},
   "outputs": [
    {
     "name": "stdout",
     "output_type": "stream",
     "text": [
      "a Equal To b:                   False\n",
      "a Not Equal To b:               True\n",
      "a Greater Than b:               True\n",
      "a Less Than b:                  False\n",
      "a Greater Than Or Equal To b:   True\n",
      "a Less Than Or Equal To b:      False\n"
     ]
    }
   ],
   "source": [
    "# Comparison / Relational Operators with numbers on both sides\n",
    "\n",
    "a = 10\n",
    "b = 3\n",
    "\n",
    "# Equal to\n",
    "print(\"a Equal To b:                  \", a == b)  # False\n",
    "\n",
    "# Not equal to\n",
    "print(\"a Not Equal To b:              \", a != b)  # True\n",
    "\n",
    "# Greater than\n",
    "print(\"a Greater Than b:              \", a > b)  # True\n",
    "\n",
    "# Less than\n",
    "print(\"a Less Than b:                 \", a < b)  # False\n",
    "\n",
    "# Greater than or equal to\n",
    "print(\"a Greater Than Or Equal To b:  \", a >= b)  # True\n",
    "\n",
    "# Less than or equal to\n",
    "print(\"a Less Than Or Equal To b:     \", a <= b)  # False\n"
   ]
  },
  {
   "cell_type": "code",
   "execution_count": 27,
   "id": "adee6deb-5b45-4873-8014-952f798da8b5",
   "metadata": {},
   "outputs": [
    {
     "data": {
      "text/plain": [
       "True"
      ]
     },
     "execution_count": 27,
     "metadata": {},
     "output_type": "execute_result"
    }
   ],
   "source": [
    "\n",
    "a == (b * (a//b)) + (a % b)   # Dividend = (Divisor * Quotient) + Remainder\n"
   ]
  },
  {
   "cell_type": "code",
   "execution_count": 32,
   "id": "83a74daa-e620-4b59-8023-42ac564a93d0",
   "metadata": {},
   "outputs": [
    {
     "name": "stdout",
     "output_type": "stream",
     "text": [
      "a Equal To b:                   False\n",
      "a Not Equal To b:               True\n",
      "a Greater Than b:               True\n",
      "a Less Than b:                  False\n",
      "a Greater Than Or Equal To b:   True\n",
      "a Less Than Or Equal To b:      False\n"
     ]
    }
   ],
   "source": [
    "# Comparison / Relational Operators on strings on both sides\n",
    "\n",
    "# Comparison between two strings is done on the basis of Dictionary order\n",
    "\n",
    "a = 'Avinash@15'\n",
    "b = 'Aman@25'\n",
    "\n",
    "# Equal to\n",
    "print(\"a Equal To b:                  \", a == b)  # False\n",
    "\n",
    "# Not equal to\n",
    "print(\"a Not Equal To b:              \", a != b)  # True\n",
    "\n",
    "# Greater than\n",
    "print(\"a Greater Than b:              \", a > b)  # True\n",
    "\n",
    "# Less than\n",
    "print(\"a Less Than b:                 \", a < b)  # False\n",
    "\n",
    "# Greater than or equal to\n",
    "print(\"a Greater Than Or Equal To b:  \", a >= b)  # True\n",
    "\n",
    "# Less than or equal to\n",
    "print(\"a Less Than Or Equal To b:     \", a <= b)  # False\n"
   ]
  },
  {
   "cell_type": "markdown",
   "id": "11ae1e7c-9098-4529-9d26-602ba5439659",
   "metadata": {},
   "source": [
    "<br>\n",
    "<br>\n",
    "\n",
    "<span style=\"background-color: #F5C0FF;color: black\">**Note:**</span> <br>\n",
    "\n",
    "**Only** Equal To (<span style=\"background-color: #FFF971;color: red;font-size: larger\"><strong>&nbsp;==&nbsp;</strong></span>) and Not Equal To (<span style=\"background-color: #FFF971;color: red;font-size: larger\"><strong>&nbsp;!=&nbsp;</strong></span>) operators **are allowed** to <span style=\"background-color: #CAFEFD\">**compare a string with a number and vice-versa**</span></span>.\n"
   ]
  },
  {
   "cell_type": "code",
   "execution_count": 33,
   "id": "57e712f4-4930-4be5-8ea7-4ec9b17e0385",
   "metadata": {},
   "outputs": [
    {
     "name": "stdout",
     "output_type": "stream",
     "text": [
      "a==b returns  False\n",
      "a!=b returns  True\n"
     ]
    }
   ],
   "source": [
    "a= 1\n",
    "b ='1'\n",
    "\n",
    "print('a==b returns ',a==b)\n",
    "print('a!=b returns ',a!=b)"
   ]
  },
  {
   "cell_type": "markdown",
   "id": "a8d3d35b-1f41-404b-8be0-d4120931a46d",
   "metadata": {},
   "source": [
    "<br>\n",
    "\n",
    "But other **comparison** operators are **not supported** between instances of '**int**' and '**str**'"
   ]
  },
  {
   "cell_type": "code",
   "execution_count": 35,
   "id": "6b1cf7e2-091b-4285-933e-2d3a20741550",
   "metadata": {},
   "outputs": [
    {
     "ename": "TypeError",
     "evalue": "'<' not supported between instances of 'int' and 'str'",
     "output_type": "error",
     "traceback": [
      "\u001b[1;31m---------------------------------------------------------------------------\u001b[0m",
      "\u001b[1;31mTypeError\u001b[0m                                 Traceback (most recent call last)",
      "Cell \u001b[1;32mIn[35], line 1\u001b[0m\n\u001b[1;32m----> 1\u001b[0m \u001b[38;5;28mprint\u001b[39m(\u001b[38;5;124m'\u001b[39m\u001b[38;5;124ma<b returns \u001b[39m\u001b[38;5;124m'\u001b[39m,\u001b[43ma\u001b[49m\u001b[38;5;241;43m<\u001b[39;49m\u001b[43mb\u001b[49m)\n\u001b[0;32m      2\u001b[0m \u001b[38;5;28mprint\u001b[39m(\u001b[38;5;124m'\u001b[39m\u001b[38;5;124ma<=b returns \u001b[39m\u001b[38;5;124m'\u001b[39m,a\u001b[38;5;241m<\u001b[39m\u001b[38;5;241m=\u001b[39mb)\n\u001b[0;32m      3\u001b[0m \u001b[38;5;28mprint\u001b[39m(\u001b[38;5;124m'\u001b[39m\u001b[38;5;124ma>b returns \u001b[39m\u001b[38;5;124m'\u001b[39m,a\u001b[38;5;241m>\u001b[39mb)\n",
      "\u001b[1;31mTypeError\u001b[0m: '<' not supported between instances of 'int' and 'str'"
     ]
    }
   ],
   "source": [
    "print('a<b returns ',a<b)\n",
    "print('a<=b returns ',a<=b)\n",
    "print('a>b returns ',a>b)\n",
    "print('a>=b returns ',a>=b)"
   ]
  },
  {
   "cell_type": "markdown",
   "id": "332951b4-d450-4c9f-a47e-4ff6d84aa2de",
   "metadata": {},
   "source": [
    "<br>\n",
    "\n",
    "#### Examples of Logical Operators :"
   ]
  },
  {
   "cell_type": "code",
   "execution_count": 66,
   "id": "0a43decf-ade9-4739-bc8f-d9ed1ed922f0",
   "metadata": {},
   "outputs": [
    {
     "name": "stdout",
     "output_type": "stream",
     "text": [
      "price > 9 and price < 10       ⇒  True\n",
      "price > 10 and price < 20      ⇒  False\n",
      "price > 10 or price < 20       ⇒  True\n",
      "price > 10 or price < 5        ⇒  False\n",
      "not a                          ⇒  False\n",
      "not price > 10                 ⇒  True\n",
      "not (price > 5 and price < 10) ⇒  False\n"
     ]
    }
   ],
   "source": [
    "price = 9.99\n",
    "\n",
    "# and\n",
    "print('price > 9 and price < 10       ⇒ ', price > 9 and price < 10)\n",
    "print('price > 10 and price < 20      ⇒ ', price > 10 and price < 20)\n",
    "\n",
    "# or\n",
    "print('price > 10 or price < 20       ⇒ ', price > 10 or price < 20)\n",
    "print('price > 10 or price < 5        ⇒ ', price > 10 or price < 5)\n",
    "\n",
    "# not\n",
    "print('not a                          ⇒ ', not a)\n",
    "print('not price > 10                 ⇒ ', not price > 10)\n",
    "\n",
    "\n",
    "# combination of logical operators\n",
    "print('not (price > 5 and price < 10) ⇒ ', not (price > 5 and price < 10))\n"
   ]
  },
  {
   "cell_type": "code",
   "execution_count": 37,
   "id": "4091ebf4-0a93-4b04-9f76-f805244ee746",
   "metadata": {},
   "outputs": [
    {
     "name": "stdout",
     "output_type": "stream",
     "text": [
      "a and b ⇒  1\n"
     ]
    }
   ],
   "source": [
    "# As we know logical operators are reserved words (keyword) and hence Case-Sensitive\n",
    "\n",
    "print('a and b ⇒ ', a and b)"
   ]
  },
  {
   "cell_type": "code",
   "execution_count": 38,
   "id": "c4b651a9-5049-44c0-8caa-fa45a5274451",
   "metadata": {},
   "outputs": [
    {
     "ename": "SyntaxError",
     "evalue": "invalid syntax. Perhaps you forgot a comma? (3234948767.py, line 1)",
     "output_type": "error",
     "traceback": [
      "\u001b[1;36m  Cell \u001b[1;32mIn[38], line 1\u001b[1;36m\u001b[0m\n\u001b[1;33m    print('a AND b ⇒ ', a AND b)\u001b[0m\n\u001b[1;37m                        ^\u001b[0m\n\u001b[1;31mSyntaxError\u001b[0m\u001b[1;31m:\u001b[0m invalid syntax. Perhaps you forgot a comma?\n"
     ]
    }
   ],
   "source": [
    "print('a AND b ⇒ ', a AND b)"
   ]
  },
  {
   "cell_type": "code",
   "execution_count": 39,
   "id": "52fd39b6-7c96-4e62-b6f0-fba654a4a74e",
   "metadata": {},
   "outputs": [
    {
     "ename": "SyntaxError",
     "evalue": "invalid syntax. Perhaps you forgot a comma? (1458597467.py, line 1)",
     "output_type": "error",
     "traceback": [
      "\u001b[1;36m  Cell \u001b[1;32mIn[39], line 1\u001b[1;36m\u001b[0m\n\u001b[1;33m    print('a And b ⇒ ', a And b)\u001b[0m\n\u001b[1;37m                        ^\u001b[0m\n\u001b[1;31mSyntaxError\u001b[0m\u001b[1;31m:\u001b[0m invalid syntax. Perhaps you forgot a comma?\n"
     ]
    }
   ],
   "source": [
    "print('a And b ⇒ ', a And b)"
   ]
  },
  {
   "cell_type": "markdown",
   "id": "1ffe8443-c62c-4f4e-8c7e-15ba4d1c5d20",
   "metadata": {},
   "source": [
    "<br>\n",
    "\n",
    "#### Examples of Identity Operators :"
   ]
  },
  {
   "cell_type": "code",
   "execution_count": 63,
   "id": "e1275ee4-23dd-4ce3-9ed8-6764144315ac",
   "metadata": {},
   "outputs": [
    {
     "name": "stdout",
     "output_type": "stream",
     "text": [
      "True\n",
      "True\n",
      "True\n"
     ]
    }
   ],
   "source": [
    "x = \"apple\"\n",
    "y = \"apple\"\n",
    "z = x\n",
    "\n",
    "print(x is z)       # returns True because z is the same object as x\n",
    "\n",
    "print(x is y)       # returns True because x is the same object as y\n",
    "\n",
    "print(x == y)       # to demonstrate the difference betweeen \"is\" and \"==\": this comparison returns True because x is equal to y"
   ]
  },
  {
   "cell_type": "code",
   "execution_count": 45,
   "id": "4d6d401c-10af-487c-ac90-9e5604f3bc16",
   "metadata": {},
   "outputs": [
    {
     "name": "stdout",
     "output_type": "stream",
     "text": [
      "True\n",
      "False\n",
      "True\n"
     ]
    }
   ],
   "source": [
    "x = [\"apple\", \"banana\"]\n",
    "y = [\"apple\", \"banana\"]\n",
    "z = x\n",
    "\n",
    "print(x is z)       # returns True because z is the same object as x\n",
    "\n",
    "print(x is y)       # returns False because x is not the same object as y, even if they have the same content\n",
    "\n",
    "print(x == y)       # to demonstrate the difference betweeen \"is\" and \"==\": this comparison returns True because x is equal to y"
   ]
  },
  {
   "cell_type": "code",
   "execution_count": 46,
   "id": "d192df31-b798-473f-9062-e9cbd894e76b",
   "metadata": {},
   "outputs": [
    {
     "name": "stdout",
     "output_type": "stream",
     "text": [
      "False\n",
      "True\n",
      "False\n"
     ]
    }
   ],
   "source": [
    "x = [\"apple\", \"banana\"]\n",
    "y = [\"apple\", \"banana\"]\n",
    "z = x\n",
    "\n",
    "print(x is not z)       # returns False because z is the same object as x\n",
    "\n",
    "print(x is not y)       # returns True because x is not the same object as y, even if they have the same content\n",
    "\n",
    "print(x != y)           # to demonstrate the difference betweeen \"is not\" and \"!=\": this comparison returns False because x is equal to y"
   ]
  },
  {
   "cell_type": "markdown",
   "id": "0c303e4b-d668-47af-b6e2-84e7d64db630",
   "metadata": {},
   "source": [
    "<br>\n",
    "\n",
    "#### Examples of Membership Operators :"
   ]
  },
  {
   "cell_type": "code",
   "execution_count": 153,
   "id": "ddbd0c65-f9a0-4674-9014-09988add1847",
   "metadata": {},
   "outputs": [
    {
     "name": "stdout",
     "output_type": "stream",
     "text": [
      "True\n"
     ]
    }
   ],
   "source": [
    "name = \"Avinash Mishra\"\n",
    "\n",
    "print(\"Kumar\" not in name)"
   ]
  },
  {
   "cell_type": "code",
   "execution_count": 154,
   "id": "15414e20-47ad-498c-af40-9751a9b2b6d3",
   "metadata": {},
   "outputs": [
    {
     "name": "stdout",
     "output_type": "stream",
     "text": [
      "True\n"
     ]
    }
   ],
   "source": [
    "x = [\"apple\", \"banana\"]\n",
    "\n",
    "print(\"banana\" in x) "
   ]
  },
  {
   "cell_type": "code",
   "execution_count": 155,
   "id": "94716f08-53f8-4184-a299-e5d0bace440a",
   "metadata": {},
   "outputs": [
    {
     "name": "stdout",
     "output_type": "stream",
     "text": [
      "True\n"
     ]
    }
   ],
   "source": [
    "x = [\"apple\", \"banana\"]\n",
    "\n",
    "print(\"pineapple\" not in x)"
   ]
  },
  {
   "cell_type": "markdown",
   "id": "4393d32d-6c2b-440a-9406-14756bb78bba",
   "metadata": {},
   "source": [
    "<br>\n",
    "\n",
    "#### Examples of Bitwise Operators :"
   ]
  },
  {
   "cell_type": "code",
   "execution_count": 130,
   "id": "9b7d1cc9-2a24-4878-865d-a8242c7f2c0a",
   "metadata": {},
   "outputs": [
    {
     "name": "stdout",
     "output_type": "stream",
     "text": [
      "2\n",
      "----------------------------------------------------------------------\n",
      "\n",
      "The & operator compares each bit and set it to 1 if both are 1, otherwise it is set to 0:\n",
      "\n",
      "6 = 0000000000000110\n",
      "3 = 0000000000000011\n",
      "--------------------\n",
      "2 = 0000000000000010\n",
      "====================\n",
      "\n",
      "Decimal numbers and their binary values:\n",
      "0 = 0000000000000000\n",
      "1 = 0000000000000001\n",
      "2 = 0000000000000010\n",
      "3 = 0000000000000011\n",
      "4 = 0000000000000100\n",
      "5 = 0000000000000101\n",
      "6 = 0000000000000110\n",
      "7 = 0000000000000111\n",
      "\n",
      "----------------------------------------------------------------------\n"
     ]
    }
   ],
   "source": [
    "# AND\n",
    "print(6 & 3)\n",
    "\n",
    "print(\"----------\"*7)\n",
    "\n",
    "print(\n",
    "\"\"\"\n",
    "The & operator compares each bit and set it to 1 if both are 1, otherwise it is set to 0:\n",
    "\n",
    "6 = 0000000000000110\n",
    "3 = 0000000000000011\n",
    "--------------------\n",
    "2 = 0000000000000010\n",
    "====================\n",
    "\n",
    "Decimal numbers and their binary values:\n",
    "0 = 0000000000000000\n",
    "1 = 0000000000000001\n",
    "2 = 0000000000000010\n",
    "3 = 0000000000000011\n",
    "4 = 0000000000000100\n",
    "5 = 0000000000000101\n",
    "6 = 0000000000000110\n",
    "7 = 0000000000000111\n",
    "\"\"\"\n",
    "    )\n",
    "\n",
    "print(\"----------\"*7)"
   ]
  },
  {
   "cell_type": "code",
   "execution_count": 131,
   "id": "974584ee-af48-47af-b503-b5f8d3a25f8e",
   "metadata": {},
   "outputs": [
    {
     "name": "stdout",
     "output_type": "stream",
     "text": [
      "7\n",
      "----------------------------------------------------------------------\n",
      "\n",
      "The | operator compares each bit and set it to 1 if one or both is 1, otherwise it is set to 0:\n",
      "\n",
      "6 = 0000000000000110\n",
      "3 = 0000000000000011\n",
      "--------------------\n",
      "7 = 0000000000000111\n",
      "====================\n",
      "\n",
      "Decimal numbers and their binary values:\n",
      "0 = 0000000000000000\n",
      "1 = 0000000000000001\n",
      "2 = 0000000000000010\n",
      "3 = 0000000000000011\n",
      "4 = 0000000000000100\n",
      "5 = 0000000000000101\n",
      "6 = 0000000000000110\n",
      "7 = 0000000000000111\n",
      "\n",
      "----------------------------------------------------------------------\n"
     ]
    }
   ],
   "source": [
    "# OR\n",
    "print(6 | 3)\n",
    "\n",
    "print(\"----------\"*7)\n",
    "\n",
    "print(\"\"\"\n",
    "The | operator compares each bit and set it to 1 if one or both is 1, otherwise it is set to 0:\n",
    "\n",
    "6 = 0000000000000110\n",
    "3 = 0000000000000011\n",
    "--------------------\n",
    "7 = 0000000000000111\n",
    "====================\n",
    "\n",
    "Decimal numbers and their binary values:\n",
    "0 = 0000000000000000\n",
    "1 = 0000000000000001\n",
    "2 = 0000000000000010\n",
    "3 = 0000000000000011\n",
    "4 = 0000000000000100\n",
    "5 = 0000000000000101\n",
    "6 = 0000000000000110\n",
    "7 = 0000000000000111\n",
    "\"\"\"\n",
    "    )\n",
    "\n",
    "print(\"----------\"*7)"
   ]
  },
  {
   "cell_type": "code",
   "execution_count": 132,
   "id": "a4b199cd-b651-497f-a0e2-872fb4c1d023",
   "metadata": {},
   "outputs": [
    {
     "name": "stdout",
     "output_type": "stream",
     "text": [
      "5\n",
      "----------------------------------------------------------------------\n",
      "\n",
      "The ^ operator compares each bit and set it to 1 if only one is 1, otherwise (if both are 1 or both are 0) it is set to 0:\n",
      "\n",
      "6 = 0000000000000110\n",
      "3 = 0000000000000011\n",
      "--------------------\n",
      "5 = 0000000000000101\n",
      "====================\n",
      "\n",
      "Decimal numbers and their binary values:\n",
      "0 = 0000000000000000\n",
      "1 = 0000000000000001\n",
      "2 = 0000000000000010\n",
      "3 = 0000000000000011\n",
      "4 = 0000000000000100\n",
      "5 = 0000000000000101\n",
      "6 = 0000000000000110\n",
      "7 = 0000000000000111\n",
      "\n",
      "----------------------------------------------------------------------\n"
     ]
    }
   ],
   "source": [
    "# XOR\n",
    "print(6 ^ 3)\n",
    "\n",
    "print(\"----------\"*7)\n",
    "\n",
    "print(\"\"\"\n",
    "The ^ operator compares each bit and set it to 1 if only one is 1, otherwise (if both are 1 or both are 0) it is set to 0:\n",
    "\n",
    "6 = 0000000000000110\n",
    "3 = 0000000000000011\n",
    "--------------------\n",
    "5 = 0000000000000101\n",
    "====================\n",
    "\n",
    "Decimal numbers and their binary values:\n",
    "0 = 0000000000000000\n",
    "1 = 0000000000000001\n",
    "2 = 0000000000000010\n",
    "3 = 0000000000000011\n",
    "4 = 0000000000000100\n",
    "5 = 0000000000000101\n",
    "6 = 0000000000000110\n",
    "7 = 0000000000000111\n",
    "\"\"\"\n",
    "    )\n",
    "\n",
    "print(\"----------\"*7)"
   ]
  },
  {
   "cell_type": "code",
   "execution_count": 133,
   "id": "28c58c65-fb23-48b9-a238-a45172958979",
   "metadata": {},
   "outputs": [
    {
     "name": "stdout",
     "output_type": "stream",
     "text": [
      "-4\n",
      "----------------------------------------------------------------------\n",
      "\n",
      "The ~ operator inverts each bit (0 becomes 1 and 1 becomes 0).\n",
      "\n",
      "Inverted 3 becomes -4:\n",
      " 3 = 0000000000000011\n",
      "-4 = 1111111111111100\n",
      "\n",
      "Decimal numbers and their binary values:\n",
      " 4 = 0000000000000100\n",
      " 3 = 0000000000000011\n",
      " 2 = 0000000000000010\n",
      " 1 = 0000000000000001\n",
      " 0 = 0000000000000000\n",
      "-1 = 1111111111111111\n",
      "-2 = 1111111111111110\n",
      "-3 = 1111111111111101\n",
      "-4 = 1111111111111100\n",
      "\n",
      "----------------------------------------------------------------------\n"
     ]
    }
   ],
   "source": [
    "# NOT\n",
    "print(~3)\n",
    "\n",
    "print(\"----------\"*7)\n",
    "\n",
    "print(\"\"\"\n",
    "The ~ operator inverts each bit (0 becomes 1 and 1 becomes 0).\n",
    "\n",
    "Inverted 3 becomes -4:\n",
    " 3 = 0000000000000011\n",
    "-4 = 1111111111111100\n",
    "\n",
    "Decimal numbers and their binary values:\n",
    " 4 = 0000000000000100\n",
    " 3 = 0000000000000011\n",
    " 2 = 0000000000000010\n",
    " 1 = 0000000000000001\n",
    " 0 = 0000000000000000\n",
    "-1 = 1111111111111111\n",
    "-2 = 1111111111111110\n",
    "-3 = 1111111111111101\n",
    "-4 = 1111111111111100\n",
    "\"\"\"\n",
    "    )\n",
    "\n",
    "print(\"----------\"*7)"
   ]
  },
  {
   "cell_type": "code",
   "execution_count": 134,
   "id": "fa8c9c55-71f5-4356-a53f-9121141effba",
   "metadata": {},
   "outputs": [
    {
     "name": "stdout",
     "output_type": "stream",
     "text": [
      "12\n",
      "----------------------------------------------------------------------\n",
      "\n",
      "The << operator inserts the specified number of 0's (in this case 2) from the right and let the same amount of leftmost bits fall off:\n",
      "\n",
      "If you push 00 in from the left:\n",
      " 3 = 0000000000000011\n",
      "becomes\n",
      "12 = 0000000000001100\n",
      "\n",
      "Decimal numbers and their binary values:\n",
      " 0 = 0000000000000000\n",
      " 1 = 0000000000000001\n",
      " 2 = 0000000000000010\n",
      " 3 = 0000000000000011\n",
      " 4 = 0000000000000100\n",
      " 5 = 0000000000000101\n",
      " 6 = 0000000000000110\n",
      " 7 = 0000000000000111\n",
      " 8 = 0000000000001000\n",
      " 9 = 0000000000001001\n",
      "10 = 0000000000001010\n",
      "11 = 0000000000001011\n",
      "12 = 0000000000001100\n",
      "\n",
      "----------------------------------------------------------------------\n"
     ]
    }
   ],
   "source": [
    "# Zero fill left shift\n",
    "print(3 << 2)\n",
    "\n",
    "print(\"----------\"*7)\n",
    "\n",
    "print(\"\"\"\n",
    "The << operator inserts the specified number of 0's (in this case 2) from the right and let the same amount of leftmost bits fall off:\n",
    "\n",
    "If you push 00 in from the left:\n",
    " 3 = 0000000000000011\n",
    "becomes\n",
    "12 = 0000000000001100\n",
    "\n",
    "Decimal numbers and their binary values:\n",
    " 0 = 0000000000000000\n",
    " 1 = 0000000000000001\n",
    " 2 = 0000000000000010\n",
    " 3 = 0000000000000011\n",
    " 4 = 0000000000000100\n",
    " 5 = 0000000000000101\n",
    " 6 = 0000000000000110\n",
    " 7 = 0000000000000111\n",
    " 8 = 0000000000001000\n",
    " 9 = 0000000000001001\n",
    "10 = 0000000000001010\n",
    "11 = 0000000000001011\n",
    "12 = 0000000000001100\n",
    "\"\"\"\n",
    "    )\n",
    "\n",
    "print(\"----------\"*7)"
   ]
  },
  {
   "cell_type": "code",
   "execution_count": 135,
   "id": "9d5afd2a-47e5-42e6-b276-82f78bacb9e9",
   "metadata": {},
   "outputs": [
    {
     "name": "stdout",
     "output_type": "stream",
     "text": [
      "2\n",
      "----------------------------------------------------------------------\n",
      "\n",
      "The >> operator moves each bit the specified number of times to the right. Empty holes at the left are filled with 0's.\n",
      "\n",
      "If you move each bit 2 times to the right, 8 becomes 2:\n",
      " 8 = 0000000000001000\n",
      "becomes\n",
      " 2 = 0000000000000010\n",
      "\n",
      "Decimal numbers and their binary values:\n",
      " 0 = 0000000000000000\n",
      " 1 = 0000000000000001\n",
      " 2 = 0000000000000010\n",
      " 3 = 0000000000000011\n",
      " 4 = 0000000000000100\n",
      " 5 = 0000000000000101\n",
      " 6 = 0000000000000110\n",
      " 7 = 0000000000000111\n",
      " 8 = 0000000000001000\n",
      " 9 = 0000000000001001\n",
      "10 = 0000000000001010\n",
      "11 = 0000000000001011\n",
      "12 = 0000000000001100\n",
      "\n",
      "----------------------------------------------------------------------\n"
     ]
    }
   ],
   "source": [
    "# Signed right shift\n",
    "print(8 >> 2)\n",
    "\n",
    "print(\"----------\"*7)\n",
    "\n",
    "print(\"\"\"\n",
    "The >> operator moves each bit the specified number of times to the right. Empty holes at the left are filled with 0's.\n",
    "\n",
    "If you move each bit 2 times to the right, 8 becomes 2:\n",
    " 8 = 0000000000001000\n",
    "becomes\n",
    " 2 = 0000000000000010\n",
    "\n",
    "Decimal numbers and their binary values:\n",
    " 0 = 0000000000000000\n",
    " 1 = 0000000000000001\n",
    " 2 = 0000000000000010\n",
    " 3 = 0000000000000011\n",
    " 4 = 0000000000000100\n",
    " 5 = 0000000000000101\n",
    " 6 = 0000000000000110\n",
    " 7 = 0000000000000111\n",
    " 8 = 0000000000001000\n",
    " 9 = 0000000000001001\n",
    "10 = 0000000000001010\n",
    "11 = 0000000000001011\n",
    "12 = 0000000000001100\n",
    "\"\"\"\n",
    "     )\n",
    "\n",
    "print(\"----------\"*7)"
   ]
  },
  {
   "cell_type": "code",
   "execution_count": null,
   "id": "ecd327f4-72bf-44e5-a72d-5bfb92de38a3",
   "metadata": {},
   "outputs": [],
   "source": []
  },
  {
   "cell_type": "markdown",
   "id": "64a33f19-e5b8-4e35-a207-a0f5d1a4f806",
   "metadata": {},
   "source": [
    "### 2. <span style=\"background-color: #C9FF71;color: black\">Operator Precedence</span>\n",
    "\n",
    "&nbsp;&nbsp;&nbsp;&nbsp;&nbsp;&nbsp;&nbsp;&nbsp;&nbsp;&nbsp;&nbsp;&nbsp;&nbsp;&nbsp;&nbsp;&nbsp;&nbsp;&nbsp;Operator precedence describes the <span style=\"background-color: #CAFEFD\">**order in which operations are performed**</span>.\n",
    "\n",
    "| <span style=\"color: red\"><strong>Operator</strong></span> | <span style=\"color: red\"><strong>Description</strong></span> |\n",
    "|-----------------------------------------------------------|--------------------------------------------------------------|\n",
    "| <span style=\"background-color: yellow;font-size: larger\"><strong>&nbsp;()&nbsp;</strong></span> | **Parenthesis**            |\n",
    "| <span style=\"background-color: yellow;font-size: larger\"><strong>&nbsp;**&nbsp;</strong></span> | **Exponentiation**         |\n",
    "| <span style=\"background-color: yellow;font-size: larger\"><strong>&nbsp;+x&nbsp;</strong></span>&nbsp;&nbsp;&nbsp;&nbsp;<span style=\"background-color: yellow;font-size: larger\"><strong>&nbsp;-x&nbsp;</strong></span>&nbsp;&nbsp;&nbsp;&nbsp;<span style=\"background-color: yellow;font-size: larger\"><strong>&nbsp;~x&nbsp;</strong></span> | **Unary Plus**, &nbsp;&nbsp;**Unary Minus**, &nbsp;&nbsp;and &nbsp;&nbsp;**Bitwise NOT**  |\n",
    "| <span style=\"background-color: yellow;font-size: larger\"><strong>&nbsp;*&nbsp;</strong></span>&nbsp;&nbsp;&nbsp;&nbsp;<span style=\"background-color: yellow;font-size: larger\"><strong>&nbsp;/&nbsp;</strong></span>&nbsp;&nbsp;&nbsp;&nbsp;<span style=\"background-color: yellow;font-size: larger\"><strong>&nbsp;//&nbsp;</strong></span>&nbsp;&nbsp;&nbsp;&nbsp;<span style=\"background-color: yellow;font-size: larger\"><strong>&nbsp;%&nbsp;</strong></span> | **Multiplication**, &nbsp;&nbsp;**Division**, &nbsp;&nbsp;**Floor Division**, &nbsp;&nbsp;and &nbsp;&nbsp; **Modulus**  |\n",
    "| <span style=\"background-color: yellow;font-size: larger\"><strong>&nbsp;+&nbsp;</strong></span>&nbsp;&nbsp;&nbsp;&nbsp;<span style=\"background-color: yellow;font-size: larger\"><strong>&nbsp;-&nbsp;</strong></span> | **Addition** &nbsp;&nbsp;and &nbsp;&nbsp;**Subtraction**  |\n",
    "| <span style=\"background-color: yellow;font-size: larger\"><strong>&nbsp;<<&nbsp;</strong></span>&nbsp;&nbsp;&nbsp;&nbsp;<span style=\"background-color: yellow;font-size: larger\"><strong>&nbsp;>>&nbsp;</strong></span> | **Bitwise Left Shift** &nbsp;&nbsp;and &nbsp;&nbsp;**Bitwise Right Shift**  |\n",
    "| <span style=\"background-color: yellow;font-size: larger\"><strong>&nbsp;&&nbsp;</strong></span> | **Bitwise AND**            |\n",
    "| <span style=\"background-color: yellow;font-size: larger\"><strong>&nbsp;^&nbsp;</strong></span> | **Bitwise XOR**            |\n",
    "| <span style=\"background-color: yellow;font-size: larger\"><strong>&nbsp;\\|&nbsp;</strong></span> | **Bitwise OR**            |\n",
    "| <span style=\"background-color: yellow;font-size: larger\"><strong>&nbsp;==&nbsp;</strong></span>&nbsp;&nbsp;&nbsp;&nbsp;<span style=\"background-color: yellow;font-size: larger\"><strong>&nbsp;!=&nbsp;</strong></span>&nbsp;&nbsp;&nbsp;&nbsp;<span style=\"background-color: yellow;font-size: larger\"><strong>&nbsp;>&nbsp;</strong></span>&nbsp;&nbsp;&nbsp;&nbsp;<span style=\"background-color: yellow;font-size: larger\"><strong>&nbsp;>=&nbsp;</strong></span>&nbsp;&nbsp;&nbsp;&nbsp;<span style=\"background-color: yellow;font-size: larger\"><strong>&nbsp;<&nbsp;</strong></span>&nbsp;&nbsp;&nbsp;&nbsp;<span style=\"background-color: yellow;font-size: larger\"><strong>&nbsp;<=&nbsp;</strong></span>&nbsp;&nbsp;&nbsp;&nbsp;<span style=\"background-color: yellow;font-size: larger\"><strong>&nbsp;is&nbsp;</strong></span>&nbsp;&nbsp;&nbsp;&nbsp;<span style=\"background-color: yellow;font-size: larger\"><strong>&nbsp;is not&nbsp;</strong></span>&nbsp;&nbsp;&nbsp;&nbsp;<span style=\"background-color: yellow;font-size: larger\"><strong>&nbsp;in&nbsp;</strong></span>&nbsp;&nbsp;&nbsp;&nbsp;<span style=\"background-color: yellow;font-size: larger\"><strong>&nbsp;not in&nbsp;</strong></span> | **Comparisons**, &nbsp;&nbsp;**Identity**, &nbsp;&nbsp;and &nbsp;&nbsp;**Membership** operators |\n",
    "| <span style=\"background-color: yellow;font-size: larger\"><strong>&nbsp;not&nbsp;</strong></span> | **Logical NOT**  |\n",
    "| <span style=\"background-color: yellow;font-size: larger\"><strong>&nbsp;and&nbsp;</strong></span> | **AND**  |\n",
    "| <span style=\"background-color: yellow;font-size: larger\"><strong>&nbsp;or&nbsp;</strong></span> | **OR**  |\n",
    "\n",
    "<br>\n",
    "\n",
    "&nbsp;&nbsp;&nbsp;&nbsp;&nbsp;&nbsp;&nbsp;&nbsp;&nbsp;&nbsp;&nbsp;&nbsp;&nbsp;&nbsp;&nbsp;&nbsp;&nbsp;&nbsp;&nbsp;<span style=\"background-color: #CAFEFD\">If two operators have the **same precedence**, the expression is evaluated from **left to right**</span> <span style=\"color: blue\">**except**</span> in the case of <span style=\"background-color: #E8DAEF\">**Exponentiation**</span> operator i.e., <span style=\"background-color: yellow;font-size: larger\"><strong>&nbsp;**&nbsp;</strong></span> <br> \n",
    "&nbsp;&nbsp;&nbsp;&nbsp;&nbsp;&nbsp;&nbsp;&nbsp;&nbsp;&nbsp;&nbsp;&nbsp;&nbsp;&nbsp;&nbsp;&nbsp;&nbsp;&nbsp;&nbsp;where it is from <span style=\"background-color: #E8DAEF\">**right to left**</span>&nbsp;. \n",
    "\n",
    "<br>\n",
    "&nbsp;&nbsp;&nbsp;&nbsp;&nbsp;&nbsp;&nbsp;&nbsp;&nbsp;&nbsp;&nbsp;&nbsp;&nbsp;&nbsp;&nbsp;&nbsp;&nbsp;&nbsp;&nbsp;Examples :\n",
    "\n",
    "<div style=\"text-align: left; margin-left: -300px\">\n",
    "  \n",
    "|     Expression          |    Means    |    Evaluation              |\n",
    "|-------------------------|-------------|----------------------------|\n",
    "|     a <span style=\"color: red;font-size: larger\"><strong>+</strong></span> b <span style=\"color: red;font-size: larger\"><strong>-</strong></span> c <span style=\"color: red;font-size: larger\"><strong>+</strong></span> d       |    means    |    (((a <span style=\"color: red;font-size: larger\"><strong>+</strong></span> b) <span style=\"color: red;font-size: larger\"><strong>-</strong></span> c) <span style=\"color: red;font-size: larger\"><strong>+</strong></span> d)     |\n",
    "| 100 <span style=\"color: red;font-size: larger\"><strong>+</strong></span> 5 <span style=\"color: red;font-size: larger\"><strong>*</strong></span> 3 | means | 100 <span style=\"color: red;font-size: larger\"><strong>+</strong></span> (5 <span style=\"color: red;font-size: larger\"><strong>*</strong></span> 3) |\n",
    "|     a <span style=\"color: red\"><strong>or</strong></span> b <span style=\"color: red\"><strong>and</strong></span> c        |    means    |    a <span style=\"color: red\"><strong>or</strong></span> (b <span style=\"color: red\"><strong>and</strong></span> c)          |\n",
    "|     a <span style=\"color: red\"><strong>and</strong></span> b <span style=\"color: red\"><strong>or</strong></span> c <span style=\"color: red\"><strong>and</strong></span> d  |    means    |    (a <span style=\"color: red\"><strong>and</strong></span> b) <span style=\"color: red\"><strong>or</strong></span> (c <span style=\"color: red\"><strong>and</strong></span> d)  |\n",
    "|     a <span style=\"color: red\"><strong>and</strong></span> b <span style=\"color: red\"><strong>and</strong></span> c <span style=\"color: red\"><strong>or</strong></span> d  |    means    |    ((a <span style=\"color: red\"><strong>and</strong></span> b) <span style=\"color: red\"><strong>and</strong></span> c) <span style=\"color: red\"><strong>or</strong></span> d  |\n",
    "|     not a <span style=\"color: red\"><strong>and</strong></span> b <span style=\"color: red\"><strong>or</strong></span> c    |    means    |    ((not a) <span style=\"color: red\"><strong>and</strong></span> b) <span style=\"color: red\"><strong>or</strong></span> c    |\n",
    "| a <span style=\"color: red;font-size: larger\"><strong>&nbsp;\\**&nbsp;</strong></span>&nbsp;b <span style=\"color: red;font-size: larger\"><strong>&nbsp;**&nbsp;</strong></span> c |  means  |  a <span style=\"color: red;font-size: larger\"><strong>&nbsp;\\**&nbsp;</strong></span>&nbsp;(b <span style=\"color: red;font-size: larger\"><strong>&nbsp;**&nbsp;</strong></span> c) |\n",
    "\n",
    "</div>\n"
   ]
  },
  {
   "cell_type": "code",
   "execution_count": 138,
   "id": "893a1cf8-bd7d-4030-8c65-3583aed745f4",
   "metadata": {},
   "outputs": [
    {
     "name": "stdout",
     "output_type": "stream",
     "text": [
      "115\n"
     ]
    }
   ],
   "source": [
    "print(100 + 5 * 3)"
   ]
  },
  {
   "cell_type": "code",
   "execution_count": 139,
   "id": "1061eb9b-06b8-4f2d-8ee3-fda7e6202685",
   "metadata": {},
   "outputs": [
    {
     "name": "stdout",
     "output_type": "stream",
     "text": [
      "5\n"
     ]
    }
   ],
   "source": [
    "print(5 + 4 - 7 + 3)"
   ]
  },
  {
   "cell_type": "code",
   "execution_count": 136,
   "id": "4da5df28-a7e8-4459-a07e-2a5b4fad3734",
   "metadata": {},
   "outputs": [
    {
     "name": "stdout",
     "output_type": "stream",
     "text": [
      "2 ** 2 ** 3 returns 256\n",
      "\n",
      "\n",
      "2 ** (2 ** 3) returns 256\n",
      "\n",
      "\n",
      "(2 ** 2) ** 3 returns 64\n"
     ]
    }
   ],
   "source": [
    "# Exponentiation operator precedence is from Right to Left also known as Right Side Binding\n",
    "\n",
    "print(f\"2 ** 2 ** 3 returns {2**2**3}\")\n",
    "print(\"\\n\")\n",
    "print(f\"2 ** (2 ** 3) returns {2**(2**3)}\")\n",
    "print(\"\\n\")\n",
    "print(f\"(2 ** 2) ** 3 returns {(2**2)**3}\")"
   ]
  },
  {
   "cell_type": "code",
   "execution_count": null,
   "id": "4306a526-280f-4d4a-8a11-26c108c9b9c6",
   "metadata": {},
   "outputs": [],
   "source": []
  },
  {
   "cell_type": "markdown",
   "id": "f57a3cba-2d48-4a19-b16e-dcc1f45ddf51",
   "metadata": {},
   "source": [
    "<br>\n",
    "\n",
    "### 3. <span style=\"background-color: #C9FF71;color: black\">Math related functions</span>"
   ]
  },
  {
   "cell_type": "code",
   "execution_count": 147,
   "id": "c819cc2e-e7c2-4bfe-ab19-d6a278adcb95",
   "metadata": {},
   "outputs": [
    {
     "name": "stdout",
     "output_type": "stream",
     "text": [
      "ceil value of total sales =  20001\n",
      "floor value of total sales =  20000\n",
      "absolute value of total sales =  20000.6\n"
     ]
    }
   ],
   "source": [
    "import math\n",
    "total_sales = 20000.60\n",
    "\n",
    "print(\"ceil value of total sales = \",math.ceil(total_sales))       # ceil() returns upper value\n",
    "print(\"floor value of total sales = \",math.floor(total_sales))     # floor() returns lower value\n",
    "print(\"absolute value of total sales = \",math.fabs(total_sales))   # fabs() returns absolute value"
   ]
  },
  {
   "cell_type": "markdown",
   "id": "08c5d235-418d-4a52-9661-def58be9d388",
   "metadata": {},
   "source": [
    "<br>\n",
    "\n",
    "There are many functions in Math module which we can use as and when required."
   ]
  },
  {
   "cell_type": "code",
   "execution_count": null,
   "id": "ba6b72a3-9013-4b5d-80b3-ceae640b32b8",
   "metadata": {},
   "outputs": [],
   "source": []
  },
  {
   "cell_type": "markdown",
   "id": "4dcdaa68-2178-43a7-ad5e-ae039d311b7d",
   "metadata": {},
   "source": [
    "<br>\n",
    "\n",
    "### 4. <span style=\"background-color: #C9FF71;color: black\">Type Errors </span> <br>\n",
    "\n",
    "Any operation involving different different multiple data types is valid  **only if it makes sense**."
   ]
  },
  {
   "cell_type": "code",
   "execution_count": 4,
   "id": "afdfde96-c4d8-4801-b87c-c78ea897bf07",
   "metadata": {},
   "outputs": [
    {
     "name": "stdout",
     "output_type": "stream",
     "text": [
      "length + 10 =  15\n",
      "length =  10\n"
     ]
    }
   ],
   "source": [
    "length = 10\n",
    "\n",
    "print(\"length + 10 = \", length + 5)        # INTEGER + INTEGER is valid\n",
    "\n",
    "print(\"length = \", length)                 # The value of the variable (\"length\") does not get updated because we never assigned the sum to the variable"
   ]
  },
  {
   "cell_type": "code",
   "execution_count": 5,
   "id": "08adaa8f-9106-4cfa-91ab-3b5bebfef361",
   "metadata": {},
   "outputs": [
    {
     "name": "stdout",
     "output_type": "stream",
     "text": [
      "length + 5.5 =  15.5\n"
     ]
    }
   ],
   "source": [
    "print(\"length + 5.5 = \", length + 5.5)      # INTEGER + FLOAT is valid"
   ]
  },
  {
   "cell_type": "code",
   "execution_count": 6,
   "id": "e1cbb81e-c24a-4890-8e24-5e8adb7303c5",
   "metadata": {},
   "outputs": [
    {
     "name": "stdout",
     "output_type": "stream",
     "text": [
      "length =  11.0\n"
     ]
    }
   ],
   "source": [
    "# To update the value of the variable called \"length\"\n",
    "\n",
    "# let's updateit by 10%\n",
    "length = length + (length * 0.1)\n",
    "\n",
    "print(\"length = \",length)\n"
   ]
  },
  {
   "cell_type": "code",
   "execution_count": 79,
   "id": "616aa86e-205d-4846-b966-5a3a08bf7879",
   "metadata": {},
   "outputs": [
    {
     "name": "stdout",
     "output_type": "stream",
     "text": [
      "55000.9\n"
     ]
    }
   ],
   "source": [
    "tuition_fee = 50000.50\n",
    "increased_fee = 5000.40\n",
    "\n",
    "print(tuition_fee + increased_fee)          # FLOAT + FLOAT is valid"
   ]
  },
  {
   "cell_type": "code",
   "execution_count": 82,
   "id": "3f2b7170-dc23-4ab2-94b9-c911501fa65a",
   "metadata": {},
   "outputs": [
    {
     "name": "stdout",
     "output_type": "stream",
     "text": [
      "Avinash Mishra\n"
     ]
    }
   ],
   "source": [
    "print(\"Avinash\"+\" Mishra\")                  # STRING + STRING is valid"
   ]
  },
  {
   "cell_type": "markdown",
   "id": "522b305f-864a-4ce8-8b70-a27c6a90bb0f",
   "metadata": {},
   "source": [
    "<br>\n",
    "\n",
    "<span style=\"background-color: #CAFEFD\">Does **STRING + INTEGER** make sense? **NO**</span>"
   ]
  },
  {
   "cell_type": "code",
   "execution_count": 86,
   "id": "18a38db5-c467-4d77-8c9f-752cf4e5af02",
   "metadata": {},
   "outputs": [
    {
     "ename": "TypeError",
     "evalue": "can only concatenate str (not \"int\") to str",
     "output_type": "error",
     "traceback": [
      "\u001b[1;31m---------------------------------------------------------------------------\u001b[0m",
      "\u001b[1;31mTypeError\u001b[0m                                 Traceback (most recent call last)",
      "Cell \u001b[1;32mIn[86], line 1\u001b[0m\n\u001b[1;32m----> 1\u001b[0m \u001b[38;5;28mprint\u001b[39m(\u001b[38;5;124;43m\"\u001b[39;49m\u001b[38;5;124;43mavinash\u001b[39;49m\u001b[38;5;124;43m\"\u001b[39;49m\u001b[38;5;241;43m+\u001b[39;49m\u001b[38;5;241;43m15\u001b[39;49m)                         \u001b[38;5;66;03m# STRING + INTEGER is not valid and hence it will throw a TypeError\u001b[39;00m\n",
      "\u001b[1;31mTypeError\u001b[0m: can only concatenate str (not \"int\") to str"
     ]
    }
   ],
   "source": [
    "print(\"avinash\"+15)                         # STRING + INTEGER is not valid and hence it will throw a TypeError"
   ]
  },
  {
   "cell_type": "markdown",
   "id": "fe400d48-fa7b-490d-85f7-9de1c364b7b3",
   "metadata": {},
   "source": [
    "<br>\n",
    "\n",
    "<span style=\"background-color: #CAFEFD\">Does **STRING * FLOAT** make sense? **NO**</span>"
   ]
  },
  {
   "cell_type": "code",
   "execution_count": 23,
   "id": "284ac675-d01c-43aa-9f5e-af308d80fced",
   "metadata": {},
   "outputs": [
    {
     "ename": "TypeError",
     "evalue": "can't multiply sequence by non-int of type 'float'",
     "output_type": "error",
     "traceback": [
      "\u001b[1;31m---------------------------------------------------------------------------\u001b[0m",
      "\u001b[1;31mTypeError\u001b[0m                                 Traceback (most recent call last)",
      "Cell \u001b[1;32mIn[23], line 2\u001b[0m\n\u001b[0;32m      1\u001b[0m length \u001b[38;5;241m=\u001b[39m \u001b[38;5;124m\"\u001b[39m\u001b[38;5;124m10\u001b[39m\u001b[38;5;124m\"\u001b[39m\n\u001b[1;32m----> 2\u001b[0m length \u001b[38;5;241m=\u001b[39m length \u001b[38;5;241m+\u001b[39m (\u001b[43mlength\u001b[49m\u001b[43m \u001b[49m\u001b[38;5;241;43m*\u001b[39;49m\u001b[43m \u001b[49m\u001b[38;5;241;43m0.1\u001b[39;49m)\n\u001b[0;32m      3\u001b[0m \u001b[38;5;28mprint\u001b[39m(length)\n",
      "\u001b[1;31mTypeError\u001b[0m: can't multiply sequence by non-int of type 'float'"
     ]
    }
   ],
   "source": [
    "length = \"10\"\n",
    "length = length + (length * 0.1)\n",
    "print(length)"
   ]
  },
  {
   "cell_type": "code",
   "execution_count": 24,
   "id": "7ce01d5a-c81b-4b62-b683-fe67d48200f8",
   "metadata": {},
   "outputs": [
    {
     "data": {
      "text/plain": [
       "('10', 10)"
      ]
     },
     "execution_count": 24,
     "metadata": {},
     "output_type": "execute_result"
    }
   ],
   "source": [
    "# TYPE CONVERSION\n",
    "\n",
    "length = '10'\n",
    "\n",
    "length, int(length)"
   ]
  },
  {
   "cell_type": "code",
   "execution_count": 25,
   "id": "8e2a07cb-227e-41f3-a754-4b416d1a1db3",
   "metadata": {},
   "outputs": [
    {
     "name": "stdout",
     "output_type": "stream",
     "text": [
      "The value of the length is updated to  11\n"
     ]
    }
   ],
   "source": [
    "#length = int(length) + (int(length) * 0.1)                      # result will be of FLOAT type\n",
    "length = int(int(length) + (int(length) * 0.1))                  # result will be of INTEGER type\n",
    "\n",
    "print(\"The value of the length is updated to \", length)"
   ]
  },
  {
   "cell_type": "markdown",
   "id": "f8c8fda7-447b-42b3-9eea-f5d63e7cc6b3",
   "metadata": {},
   "source": [
    "<BR>\n",
    "\n",
    "**However, if you are thinking <span style=\"background-color: yellow\">&nbsp;STRING * INTEGER&nbsp;</span> too does not make sense, then you are <span style=\"background-color: #E8DAEF\">&nbsp;wrong&nbsp;</span>:**"
   ]
  },
  {
   "cell_type": "code",
   "execution_count": 33,
   "id": "a9c3a1ba-2518-430b-9843-be7c4eb7d146",
   "metadata": {},
   "outputs": [
    {
     "name": "stdout",
     "output_type": "stream",
     "text": [
      "Avinash Avinash Avinash Avinash Avinash \n"
     ]
    }
   ],
   "source": [
    "print(\"Avinash \"*5)"
   ]
  },
  {
   "cell_type": "code",
   "execution_count": 53,
   "id": "9f997d08-2bfa-4c1c-a902-ebe6b240357b",
   "metadata": {},
   "outputs": [
    {
     "name": "stdout",
     "output_type": "stream",
     "text": [
      "\n",
      "\n",
      "\n",
      "-----------------------------------------------------------------\n",
      "The value of the length is updated to  11\n",
      "-----------------------------------------------------------------\n",
      "\n",
      "\n",
      "\n"
     ]
    }
   ],
   "source": [
    "# We can use this concept (STRING * INTEGER) for better readability while debugging\n",
    "\n",
    "print(\"\\n\"*2)\n",
    "print(\"-------------\"*5)\n",
    "print(\"The value of the length is updated to \", length)\n",
    "print(\"-------------\"*5)\n",
    "print(\"\\n\"*2)"
   ]
  },
  {
   "cell_type": "markdown",
   "id": "743a2a6f-8c1e-4907-8ea4-f395fc908a4a",
   "metadata": {},
   "source": [
    "<br>\n",
    "\n",
    "<span style=\"background-color: #CAFEFD\">Does **comparing an INTEGER with a STRING** make sense? **NO**</span>"
   ]
  },
  {
   "cell_type": "code",
   "execution_count": 1,
   "id": "43434750-46da-428c-889d-316a6fa590ed",
   "metadata": {},
   "outputs": [
    {
     "ename": "TypeError",
     "evalue": "'<' not supported between instances of 'int' and 'str'",
     "output_type": "error",
     "traceback": [
      "\u001b[1;31m---------------------------------------------------------------------------\u001b[0m",
      "\u001b[1;31mTypeError\u001b[0m                                 Traceback (most recent call last)",
      "Cell \u001b[1;32mIn[1], line 4\u001b[0m\n\u001b[0;32m      1\u001b[0m a\u001b[38;5;241m=\u001b[39m \u001b[38;5;241m1\u001b[39m\n\u001b[0;32m      2\u001b[0m b \u001b[38;5;241m=\u001b[39m\u001b[38;5;124m'\u001b[39m\u001b[38;5;124m1\u001b[39m\u001b[38;5;124m'\u001b[39m\n\u001b[1;32m----> 4\u001b[0m \u001b[38;5;28mprint\u001b[39m(\u001b[38;5;124m'\u001b[39m\u001b[38;5;124ma<b returns \u001b[39m\u001b[38;5;124m'\u001b[39m,\u001b[43ma\u001b[49m\u001b[38;5;241;43m<\u001b[39;49m\u001b[43mb\u001b[49m)                    \u001b[38;5;66;03m# Comparing an INTEGER with a STRING not valid and hence it will throw a TypeError\u001b[39;00m\n",
      "\u001b[1;31mTypeError\u001b[0m: '<' not supported between instances of 'int' and 'str'"
     ]
    }
   ],
   "source": [
    "a= 1\n",
    "b ='1'\n",
    "\n",
    "print('a<b returns ',a<b)                    # Comparing an INTEGER with a STRING not valid and hence it will throw a TypeError"
   ]
  },
  {
   "cell_type": "code",
   "execution_count": 26,
   "id": "e4ad2ee8-898d-4df2-982a-6edb76a51206",
   "metadata": {},
   "outputs": [
    {
     "name": "stdout",
     "output_type": "stream",
     "text": [
      "a<b returns  False\n"
     ]
    }
   ],
   "source": [
    "# let do the TYPE CONVERSION of b from '1' to 1 and then compare with a :\n",
    "\n",
    "print('a<b returns ',a < int(b))"
   ]
  },
  {
   "cell_type": "code",
   "execution_count": null,
   "id": "597dc64e-8d73-42c0-ab0b-a37443221877",
   "metadata": {},
   "outputs": [],
   "source": []
  },
  {
   "cell_type": "code",
   "execution_count": null,
   "id": "0552c826-dd29-46a5-ba31-496fa6f30ed7",
   "metadata": {},
   "outputs": [],
   "source": []
  },
  {
   "cell_type": "code",
   "execution_count": null,
   "id": "c267dd48-d471-4cbe-bc9a-fea55698bf72",
   "metadata": {},
   "outputs": [],
   "source": []
  },
  {
   "cell_type": "markdown",
   "id": "450a93a1-248e-4d8f-a2b9-71f8e1375234",
   "metadata": {},
   "source": [
    "<br>\n",
    "\n",
    "# <u>Strings</u>\n",
    "\n",
    "<br>\n",
    "\n",
    "### 1. <span style=\"background-color: yellow;\">Introduction to Python string</span>\n",
    "\n",
    "<br>\n",
    "\n",
    "In Python, anything inside quotes is a string. And you can use either **single** or **double** quotes."
   ]
  },
  {
   "cell_type": "code",
   "execution_count": 45,
   "id": "9846f0c5-d146-4b49-b139-31b38412acac",
   "metadata": {},
   "outputs": [
    {
     "name": "stdout",
     "output_type": "stream",
     "text": [
      "This is a string in Python\n",
      "This is also a string\n"
     ]
    }
   ],
   "source": [
    "message1 = 'This is a string in Python'\n",
    "print(message1)\n",
    "\n",
    "message2 = \"This is also a string\"\n",
    "print(message2)"
   ]
  },
  {
   "cell_type": "code",
   "execution_count": 2,
   "id": "68ee33df-81c9-4023-aef0-c51ea3aadf9d",
   "metadata": {},
   "outputs": [],
   "source": [
    "x = \"John\"\n",
    "# is the same as\n",
    "x = 'John'"
   ]
  },
  {
   "cell_type": "markdown",
   "id": "6b9e1001-44a0-4ea6-9609-2d289d69ee6e",
   "metadata": {},
   "source": [
    "<br>\n",
    "\n",
    "If a string contains a **single quote**, you should place it in **double-quotes** like this:"
   ]
  },
  {
   "cell_type": "code",
   "execution_count": 46,
   "id": "42f76b44-219e-45bf-b542-01f9b0aaffac",
   "metadata": {},
   "outputs": [
    {
     "name": "stdout",
     "output_type": "stream",
     "text": [
      "It's a string\n"
     ]
    }
   ],
   "source": [
    "message = \"It's a string\"\n",
    "print(message)"
   ]
  },
  {
   "cell_type": "markdown",
   "id": "368853f1-ed51-4517-90f5-3b5a6b07b131",
   "metadata": {},
   "source": [
    "<br>\n",
    "\n",
    "And when a string contains **double quotes**, you can use the **single quotes**:"
   ]
  },
  {
   "cell_type": "code",
   "execution_count": 47,
   "id": "68ac1f45-2b89-478f-a058-8a2b4cb33fde",
   "metadata": {},
   "outputs": [
    {
     "name": "stdout",
     "output_type": "stream",
     "text": [
      "Mummy says \"Never Give Up.\"\n"
     ]
    }
   ],
   "source": [
    "message = 'Mummy says \"Never Give Up.\"'\n",
    "print(message)"
   ]
  },
  {
   "cell_type": "markdown",
   "id": "4e153c1f-de37-487f-8739-0420e3769fc9",
   "metadata": {},
   "source": [
    "<br>\n",
    "\n",
    "<span style=\"background-color: #C9FF71;color: black\">**Note:**</span> <br>\n",
    "\n",
    "To **escape** the quotes, you use the **backslash** (<span style=\"background-color: #FFF971;color: red\">  **\\\\**  </span>). For example:"
   ]
  },
  {
   "cell_type": "code",
   "execution_count": 48,
   "id": "001b7642-1767-48dd-b3e6-4fe5386d0e03",
   "metadata": {},
   "outputs": [
    {
     "name": "stdout",
     "output_type": "stream",
     "text": [
      "It's also a valid string\n"
     ]
    }
   ],
   "source": [
    "message = 'It\\'s also a valid string'\n",
    "print(message)"
   ]
  },
  {
   "cell_type": "markdown",
   "id": "f5d06870-68b7-4900-941c-3a5ef180424b",
   "metadata": {},
   "source": [
    "The Python interpreter will treat the backslash character (<span style=\"background-color: #FFF971;color: red\">  **\\\\**  </span>) special. If you don’t want it to do so, you can use **raw strings** by adding the letter <span style=\"background-color: #FFF971;color: red\">  **r**  </span> before the first quote. For example:"
   ]
  },
  {
   "cell_type": "code",
   "execution_count": 49,
   "id": "ad7c04c8-9fcc-4c7f-a51c-e30b208859e6",
   "metadata": {},
   "outputs": [
    {
     "name": "stdout",
     "output_type": "stream",
     "text": [
      "C:\\python\\bin\n"
     ]
    }
   ],
   "source": [
    "message = r'C:\\python\\bin'\n",
    "print(message)"
   ]
  },
  {
   "cell_type": "markdown",
   "id": "64572c4b-0654-4ea6-a042-11f14d6706b8",
   "metadata": {},
   "source": [
    "<br>\n",
    "\n",
    "<span style=\"background-color: #C9FF71;color: black\">**Creating multiline strings:**</span> <br>\n",
    "\n",
    "\n",
    "To span a string multiple lines, you use triple-quotes <span style=\"background-color: #FFF971;color: red\"> **“””**…**”””** </span> or <span style=\"background-color: #FFF971;color: red\"> **”’**…**”’** </span>. For example:"
   ]
  },
  {
   "cell_type": "code",
   "execution_count": 50,
   "id": "5c1486f2-797c-49aa-8291-bd7129c0bfe8",
   "metadata": {},
   "outputs": [
    {
     "name": "stdout",
     "output_type": "stream",
     "text": [
      "\n",
      "Usage: mysql command\n",
      "    -h hostname     \n",
      "    -d database name\n",
      "    -u username\n",
      "    -p password \n",
      "\n"
     ]
    }
   ],
   "source": [
    "# using triple-single quotes\n",
    "\n",
    "help_message = '''\n",
    "Usage: mysql command\n",
    "    -h hostname     \n",
    "    -d database name\n",
    "    -u username\n",
    "    -p password \n",
    "'''\n",
    "\n",
    "print(help_message)"
   ]
  },
  {
   "cell_type": "code",
   "execution_count": 51,
   "id": "219f69fa-72cd-4711-935a-d1afb3d7c63f",
   "metadata": {},
   "outputs": [
    {
     "name": "stdout",
     "output_type": "stream",
     "text": [
      "\n",
      "Usage: mysql command\n",
      "    -h hostname     \n",
      "    -d database name\n",
      "    -u username\n",
      "    -p password \n",
      "\n"
     ]
    }
   ],
   "source": [
    "# using triple-double quotes\n",
    "\n",
    "help_message = \"\"\"\n",
    "Usage: mysql command\n",
    "    -h hostname     \n",
    "    -d database name\n",
    "    -u username\n",
    "    -p password \n",
    "\"\"\"\n",
    "\n",
    "print(help_message)"
   ]
  },
  {
   "cell_type": "markdown",
   "id": "d27ba513-df3f-4aa4-9aff-f0b23c569917",
   "metadata": {},
   "source": [
    "<br>\n",
    "\n",
    "### 2. <span style=\"background-color: yellow;\">String Formatting</span> <br>\n",
    "\n",
    "<span style=\"background-color: #CAFEFD\">Using the value of variables in Python strings with : </span>\n",
    "\n",
    "1. ⇒ **format strings** widely known as **f-strings**\n",
    "2. ⇒ **.format()** method\n",
    "\n",
    "<br>\n",
    "\n",
    "<span style=\"background-color: #C9FF71;color: black\">**f-strings**</span>\n"
   ]
  },
  {
   "cell_type": "code",
   "execution_count": 52,
   "id": "3fed942e-0599-40f4-9be4-84eaac133dad",
   "metadata": {},
   "outputs": [],
   "source": [
    "name = 'Avinash'\n",
    "message = 'Hi'"
   ]
  },
  {
   "cell_type": "code",
   "execution_count": 53,
   "id": "3863e2a4-1cc8-45c7-b19f-9d9af41c94fd",
   "metadata": {},
   "outputs": [
    {
     "data": {
      "text/plain": [
       "'Hi Avinash'"
      ]
     },
     "execution_count": 53,
     "metadata": {},
     "output_type": "execute_result"
    }
   ],
   "source": [
    "# To do it, you place the letter f before the opening quotation mark and put the brace around the variable name:\n",
    "\n",
    "message = f'Hi {name}'\n",
    "message"
   ]
  },
  {
   "cell_type": "code",
   "execution_count": 54,
   "id": "0d91e5f8-b2bc-4c33-8a7f-618e8521df18",
   "metadata": {},
   "outputs": [
    {
     "name": "stdout",
     "output_type": "stream",
     "text": [
      "message ⇒  Hi Avinash\n"
     ]
    }
   ],
   "source": [
    "print('message ⇒ ', message)"
   ]
  },
  {
   "cell_type": "code",
   "execution_count": 55,
   "id": "f78b360c-9b54-4a6e-874c-e642aebb1c0a",
   "metadata": {},
   "outputs": [
    {
     "name": "stdout",
     "output_type": "stream",
     "text": [
      "I am from India\n"
     ]
    }
   ],
   "source": [
    "# Using the value of 1 variable in Python strings with single quotes\n",
    "\n",
    "country = 'India'\n",
    "print(f'I am from {country}')"
   ]
  },
  {
   "cell_type": "code",
   "execution_count": 56,
   "id": "61a2a616-6430-48e0-a236-37ed8b59f057",
   "metadata": {},
   "outputs": [
    {
     "name": "stdout",
     "output_type": "stream",
     "text": [
      "My country's name is India\n"
     ]
    }
   ],
   "source": [
    "# Using the value of 1 variable in Python strings with double quotes\n",
    "\n",
    "print(f\"My country's name is {country}\")"
   ]
  },
  {
   "cell_type": "code",
   "execution_count": 57,
   "id": "e3f8dfc3-5ec3-449b-aeef-77ae0c06c281",
   "metadata": {},
   "outputs": [
    {
     "name": "stdout",
     "output_type": "stream",
     "text": [
      "I am Avinash and my country's name is India\n"
     ]
    }
   ],
   "source": [
    "# Using the value of multiple variables in Python strings\n",
    "\n",
    "name = 'Avinash'\n",
    "country = 'India'\n",
    "print(f\"I am {name} and my country's name is {country}\")"
   ]
  },
  {
   "cell_type": "code",
   "execution_count": null,
   "id": "b38d791b-aae4-4802-aaf7-3b8295552590",
   "metadata": {},
   "outputs": [],
   "source": []
  },
  {
   "cell_type": "markdown",
   "id": "3c1fe71c-1315-4ade-9235-247b7b45528e",
   "metadata": {},
   "source": [
    "<br>\n",
    "\n",
    "<span style=\"background-color: #C9FF71;color: black\">**.format()**</span>\n",
    "\n",
    "The format() method takes unlimited number of arguments, and are placed into the respective placeholders:"
   ]
  },
  {
   "cell_type": "code",
   "execution_count": 58,
   "id": "0b5c922b-48e4-4aba-b6e0-a1a97340da5d",
   "metadata": {},
   "outputs": [
    {
     "name": "stdout",
     "output_type": "stream",
     "text": [
      "My country's name is India\n"
     ]
    }
   ],
   "source": [
    "# Using the value of 1 variable in Python strings\n",
    "\n",
    "country = 'India'\n",
    "print(\"My country's name is {}\".format(country))"
   ]
  },
  {
   "cell_type": "code",
   "execution_count": 59,
   "id": "0afd00ae-5910-4dea-a010-923648f71168",
   "metadata": {},
   "outputs": [
    {
     "name": "stdout",
     "output_type": "stream",
     "text": [
      "I am Avinash and my country's name is India\n"
     ]
    }
   ],
   "source": [
    "# Using the value of multiple variables in Python strings\n",
    "\n",
    "name = 'Avinash'\n",
    "country = 'India'\n",
    "print(\"I am {} and my country's name is {}\".format(name,country))"
   ]
  },
  {
   "cell_type": "markdown",
   "id": "2c24a4d0-8f6e-490d-a379-8232b922031d",
   "metadata": {},
   "source": [
    "<br>\n",
    "\n",
    "You can use index numbers <span style=\"background-color:yellow;color:red\">&nbsp;**{0}**&nbsp;</span> to be sure the arguments are placed in the correct **placeholders**:"
   ]
  },
  {
   "cell_type": "code",
   "execution_count": 25,
   "id": "171108d6-2020-4126-9cfb-e731ee2a2540",
   "metadata": {},
   "outputs": [
    {
     "name": "stdout",
     "output_type": "stream",
     "text": [
      "The price is just 49.95\n"
     ]
    }
   ],
   "source": [
    "price = 49.95\n",
    "print(\"The price is just {0}\".format(price))"
   ]
  },
  {
   "cell_type": "code",
   "execution_count": 26,
   "id": "5c95e0b8-0714-4ccc-b9a8-d77641fb20b5",
   "metadata": {},
   "outputs": [
    {
     "ename": "IndexError",
     "evalue": "Replacement index 1 out of range for positional args tuple",
     "output_type": "error",
     "traceback": [
      "\u001b[1;31m---------------------------------------------------------------------------\u001b[0m",
      "\u001b[1;31mIndexError\u001b[0m                                Traceback (most recent call last)",
      "Cell \u001b[1;32mIn[26], line 2\u001b[0m\n\u001b[0;32m      1\u001b[0m price \u001b[38;5;241m=\u001b[39m \u001b[38;5;241m49.95\u001b[39m\n\u001b[1;32m----> 2\u001b[0m \u001b[38;5;28mprint\u001b[39m(\u001b[38;5;124;43m\"\u001b[39;49m\u001b[38;5;124;43mThe price is just \u001b[39;49m\u001b[38;5;132;43;01m{1}\u001b[39;49;00m\u001b[38;5;124;43m\"\u001b[39;49m\u001b[38;5;241;43m.\u001b[39;49m\u001b[43mformat\u001b[49m\u001b[43m(\u001b[49m\u001b[43mprice\u001b[49m\u001b[43m)\u001b[49m)\n",
      "\u001b[1;31mIndexError\u001b[0m: Replacement index 1 out of range for positional args tuple"
     ]
    }
   ],
   "source": [
    "price = 49.95\n",
    "print(\"The price is just {1}\".format(price))"
   ]
  },
  {
   "cell_type": "code",
   "execution_count": 25,
   "id": "bea910e6-f106-4d77-ab94-239f5b8773d0",
   "metadata": {},
   "outputs": [
    {
     "name": "stdout",
     "output_type": "stream",
     "text": [
      "I want to pay 49.95 dollars for 3 pieces of item 567.\n"
     ]
    }
   ],
   "source": [
    "quantity = 3\n",
    "item_no = 567\n",
    "price = 49.95\n",
    "myorder = \"I want to pay {2} dollars for {0} pieces of item {1}.\"\n",
    "print(myorder.format(quantity, item_no, price))"
   ]
  },
  {
   "cell_type": "code",
   "execution_count": 27,
   "id": "9495d9f8-8fde-41ca-9f41-a32a22dbe0f4",
   "metadata": {},
   "outputs": [
    {
     "ename": "IndexError",
     "evalue": "Replacement index 2 out of range for positional args tuple",
     "output_type": "error",
     "traceback": [
      "\u001b[1;31m---------------------------------------------------------------------------\u001b[0m",
      "\u001b[1;31mIndexError\u001b[0m                                Traceback (most recent call last)",
      "Cell \u001b[1;32mIn[27], line 2\u001b[0m\n\u001b[0;32m      1\u001b[0m myorder \u001b[38;5;241m=\u001b[39m \u001b[38;5;124m\"\u001b[39m\u001b[38;5;124mI want to pay \u001b[39m\u001b[38;5;132;01m{2}\u001b[39;00m\u001b[38;5;124m dollars for \u001b[39m\u001b[38;5;132;01m{0}\u001b[39;00m\u001b[38;5;124m pieces of item \u001b[39m\u001b[38;5;132;01m{1}\u001b[39;00m\u001b[38;5;124m.\u001b[39m\u001b[38;5;124m\"\u001b[39m\n\u001b[1;32m----> 2\u001b[0m \u001b[38;5;28mprint\u001b[39m(\u001b[43mmyorder\u001b[49m\u001b[38;5;241;43m.\u001b[39;49m\u001b[43mformat\u001b[49m\u001b[43m(\u001b[49m\u001b[43mquantity\u001b[49m\u001b[43m \u001b[49m\u001b[38;5;241;43m=\u001b[39;49m\u001b[43m \u001b[49m\u001b[38;5;241;43m3\u001b[39;49m\u001b[43m,\u001b[49m\u001b[43m \u001b[49m\u001b[43mitem_no\u001b[49m\u001b[43m \u001b[49m\u001b[38;5;241;43m=\u001b[39;49m\u001b[43m \u001b[49m\u001b[38;5;241;43m567\u001b[39;49m\u001b[43m,\u001b[49m\u001b[43m \u001b[49m\u001b[43mprice\u001b[49m\u001b[43m \u001b[49m\u001b[38;5;241;43m=\u001b[39;49m\u001b[43m \u001b[49m\u001b[38;5;241;43m49.95\u001b[39;49m\u001b[43m)\u001b[49m)\n",
      "\u001b[1;31mIndexError\u001b[0m: Replacement index 2 out of range for positional args tuple"
     ]
    }
   ],
   "source": [
    "myorder = \"I want to pay {2} dollars for {0} pieces of item {1}.\"\n",
    "print(myorder.format(quantity = 3, item_no = 567, price = 49.95))"
   ]
  },
  {
   "cell_type": "code",
   "execution_count": 28,
   "id": "b008f8ff-a79f-4e5b-9937-9ad98e76762c",
   "metadata": {},
   "outputs": [
    {
     "ename": "IndexError",
     "evalue": "Replacement index 2 out of range for positional args tuple",
     "output_type": "error",
     "traceback": [
      "\u001b[1;31m---------------------------------------------------------------------------\u001b[0m",
      "\u001b[1;31mIndexError\u001b[0m                                Traceback (most recent call last)",
      "Cell \u001b[1;32mIn[28], line 1\u001b[0m\n\u001b[1;32m----> 1\u001b[0m \u001b[38;5;28mprint\u001b[39m(\u001b[38;5;124;43m\"\u001b[39;49m\u001b[38;5;124;43mI want to pay \u001b[39;49m\u001b[38;5;132;43;01m{2}\u001b[39;49;00m\u001b[38;5;124;43m dollars for \u001b[39;49m\u001b[38;5;132;43;01m{0}\u001b[39;49;00m\u001b[38;5;124;43m pieces of item \u001b[39;49m\u001b[38;5;132;43;01m{1}\u001b[39;49;00m\u001b[38;5;124;43m.\u001b[39;49m\u001b[38;5;124;43m\"\u001b[39;49m\u001b[38;5;241;43m.\u001b[39;49m\u001b[43mformat\u001b[49m\u001b[43m(\u001b[49m\u001b[43mquantity\u001b[49m\u001b[43m \u001b[49m\u001b[38;5;241;43m=\u001b[39;49m\u001b[43m \u001b[49m\u001b[38;5;241;43m3\u001b[39;49m\u001b[43m,\u001b[49m\u001b[43m \u001b[49m\u001b[43mitem_no\u001b[49m\u001b[43m \u001b[49m\u001b[38;5;241;43m=\u001b[39;49m\u001b[43m \u001b[49m\u001b[38;5;241;43m567\u001b[39;49m\u001b[43m,\u001b[49m\u001b[43m \u001b[49m\u001b[43mprice\u001b[49m\u001b[43m \u001b[49m\u001b[38;5;241;43m=\u001b[39;49m\u001b[43m \u001b[49m\u001b[38;5;241;43m49.95\u001b[39;49m\u001b[43m)\u001b[49m)\n",
      "\u001b[1;31mIndexError\u001b[0m: Replacement index 2 out of range for positional args tuple"
     ]
    }
   ],
   "source": [
    "print(\"I want to pay {2} dollars for {0} pieces of item {1}.\".format(quantity = 3, item_no = 567, price = 49.95))"
   ]
  },
  {
   "cell_type": "code",
   "execution_count": 29,
   "id": "9056f137-cb9d-475f-b8e7-82f2e3ec0a9d",
   "metadata": {},
   "outputs": [
    {
     "ename": "IndexError",
     "evalue": "Replacement index 0 out of range for positional args tuple",
     "output_type": "error",
     "traceback": [
      "\u001b[1;31m---------------------------------------------------------------------------\u001b[0m",
      "\u001b[1;31mIndexError\u001b[0m                                Traceback (most recent call last)",
      "Cell \u001b[1;32mIn[29], line 1\u001b[0m\n\u001b[1;32m----> 1\u001b[0m \u001b[38;5;28mprint\u001b[39m(\u001b[38;5;124;43m\"\u001b[39;49m\u001b[38;5;124;43mI want to pay \u001b[39;49m\u001b[38;5;132;43;01m{}\u001b[39;49;00m\u001b[38;5;124;43m dollars for \u001b[39;49m\u001b[38;5;132;43;01m{}\u001b[39;49;00m\u001b[38;5;124;43m pieces of item \u001b[39;49m\u001b[38;5;132;43;01m{}\u001b[39;49;00m\u001b[38;5;124;43m.\u001b[39;49m\u001b[38;5;124;43m\"\u001b[39;49m\u001b[38;5;241;43m.\u001b[39;49m\u001b[43mformat\u001b[49m\u001b[43m(\u001b[49m\u001b[43mquantity\u001b[49m\u001b[43m \u001b[49m\u001b[38;5;241;43m=\u001b[39;49m\u001b[43m \u001b[49m\u001b[38;5;241;43m3\u001b[39;49m\u001b[43m,\u001b[49m\u001b[43m \u001b[49m\u001b[43mitem_no\u001b[49m\u001b[43m \u001b[49m\u001b[38;5;241;43m=\u001b[39;49m\u001b[43m \u001b[49m\u001b[38;5;241;43m567\u001b[39;49m\u001b[43m,\u001b[49m\u001b[43m \u001b[49m\u001b[43mprice\u001b[49m\u001b[43m \u001b[49m\u001b[38;5;241;43m=\u001b[39;49m\u001b[43m \u001b[49m\u001b[38;5;241;43m49.95\u001b[39;49m\u001b[43m)\u001b[49m)\n",
      "\u001b[1;31mIndexError\u001b[0m: Replacement index 0 out of range for positional args tuple"
     ]
    }
   ],
   "source": [
    "print(\"I want to pay {} dollars for {} pieces of item {}.\".format(quantity = 3, item_no = 567, price = 49.95))"
   ]
  },
  {
   "cell_type": "markdown",
   "id": "5ec3ca9f-0333-4b7b-9348-84cdad27dada",
   "metadata": {},
   "source": [
    "<br>\n",
    "\n",
    "Placing the variable within the **placeholder** also works in the **.format()** method like it works in format string (**fstring** i.e., <span style=\"background-color:yellow\"><span style=\"color: red\">&nbsp;&nbsp;**f\"**</span>**.....{variable1}.....{variable2}...**<span style=\"color: red\">**\"**&nbsp;&nbsp;</span></span>) \n",
    "\n"
   ]
  },
  {
   "cell_type": "code",
   "execution_count": 30,
   "id": "09aa4eae-e1e4-453e-8e71-acc997e13ddd",
   "metadata": {},
   "outputs": [
    {
     "name": "stdout",
     "output_type": "stream",
     "text": [
      "I want to pay 49.95 dollars for 3 pieces of item 567.\n"
     ]
    }
   ],
   "source": [
    "print(\"I want to pay {price} dollars for {quantity} pieces of item {item_no}.\".format(quantity = 3, item_no = 567, price = 49.95))"
   ]
  },
  {
   "cell_type": "code",
   "execution_count": 31,
   "id": "13955491-3f3a-46fc-982e-7415a270c2d9",
   "metadata": {},
   "outputs": [
    {
     "name": "stdout",
     "output_type": "stream",
     "text": [
      "For only 99.00 rupees!\n"
     ]
    }
   ],
   "source": [
    "txt = \"For only {price:.2f} rupees!\"\n",
    "print(txt.format(price = 99))"
   ]
  },
  {
   "cell_type": "code",
   "execution_count": 33,
   "id": "acb8db26-4537-4bbd-b298-18232810ac24",
   "metadata": {},
   "outputs": [
    {
     "name": "stdout",
     "output_type": "stream",
     "text": [
      "For only 99.00 rupees!\n"
     ]
    }
   ],
   "source": [
    "print(\"For only {price:.2f} rupees!\".format(price = 99))"
   ]
  },
  {
   "cell_type": "code",
   "execution_count": null,
   "id": "1947eec8-5d90-4c60-b544-9dcd075a9bd3",
   "metadata": {},
   "outputs": [],
   "source": []
  },
  {
   "cell_type": "markdown",
   "id": "965b99b5-1cc8-41da-a8ba-3e38ef182ad6",
   "metadata": {},
   "source": [
    "<br>\n",
    "\n",
    "<span style=\"background-color: #CAFEFD\">&nbsp;It is advised to prefer **fstrings** because they are more readable.&nbsp;</span>\n",
    "\n",
    "<br>"
   ]
  },
  {
   "cell_type": "markdown",
   "id": "238c9b2d-2513-4d3e-905b-0ffb3a68c212",
   "metadata": {},
   "source": [
    "<br>\n",
    "\n",
    "### 3. <span style=\"background-color: yellow;\">Concatenating Python strings</span> <br>\n",
    "\n",
    "\n",
    "When you place the **string literals** next to each other, Python **automatically** concatenates them into one string. For example:\n"
   ]
  },
  {
   "cell_type": "code",
   "execution_count": 60,
   "id": "42f99e7a-9c1d-46c9-8b18-9129fc7581d7",
   "metadata": {},
   "outputs": [
    {
     "name": "stdout",
     "output_type": "stream",
     "text": [
      "Good Morning!\n"
     ]
    }
   ],
   "source": [
    "greeting = 'Good ' 'Morning!'\n",
    "print(greeting)"
   ]
  },
  {
   "cell_type": "markdown",
   "id": "2df6555b-680e-4711-80ed-821ec0063645",
   "metadata": {},
   "source": [
    "<br>\n",
    "\n",
    "To <span style=\"background-color: #CAFEFD\">**concatenate two string variables** </span>, you use the operator <span style=\"background-color: #FFF971;color: red\">  **+**  </span>:"
   ]
  },
  {
   "cell_type": "code",
   "execution_count": 61,
   "id": "d6993270-4cc5-44aa-91c4-8fe1d80a349a",
   "metadata": {},
   "outputs": [
    {
     "name": "stdout",
     "output_type": "stream",
     "text": [
      "Good Afternoon!\n"
     ]
    }
   ],
   "source": [
    "greeting = 'Good '\n",
    "time = 'Afternoon'\n",
    "\n",
    "greeting = greeting + time + '!'\n",
    "print(greeting)"
   ]
  },
  {
   "cell_type": "code",
   "execution_count": 62,
   "id": "1461531e-9e18-4561-b745-4ff03dc7be9c",
   "metadata": {},
   "outputs": [
    {
     "name": "stdout",
     "output_type": "stream",
     "text": [
      "Good Night\n"
     ]
    }
   ],
   "source": [
    "greeting = 'Good'\n",
    "time = 'Night'\n",
    "message = greeting + ' ' + time\n",
    "print(message)"
   ]
  },
  {
   "cell_type": "markdown",
   "id": "05491608-6761-4141-a3ca-de34b390fb78",
   "metadata": {},
   "source": [
    "<br>\n",
    "\n",
    "### 4. <span style=\"background-color: yellow;\">Accessing string elements</span> <br>\n",
    "\n",
    "<span style=\"background-color: #CAFEFD\">**Strings are Arrays** </span>. Like many other popular programming languages, strings in Python are arrays of bytes representing unicode characters.\n",
    "\n",
    "However, Python does not have a character data type, a single character is simply a string with a length of 1.\n",
    "\n",
    "**Square brackets** can be used to access elements of the string.\n",
    "\n",
    "Since a string is a **sequence** of characters, you can access its elements using an **index**. The **first** character in the string has an **index of zero**.\n"
   ]
  },
  {
   "cell_type": "code",
   "execution_count": 63,
   "id": "5717b718-dd04-43d3-9f31-97ecfad58cad",
   "metadata": {},
   "outputs": [
    {
     "name": "stdout",
     "output_type": "stream",
     "text": [
      "P\n",
      "y\n"
     ]
    }
   ],
   "source": [
    "str = \"Python String\"\n",
    "print(str[0]) # P\n",
    "print(str[1]) # y"
   ]
  },
  {
   "cell_type": "markdown",
   "id": "e2b0535f-f7fc-4c10-8c78-214b648d6d9c",
   "metadata": {},
   "source": [
    "<br>\n",
    "\n",
    "If you use a **negative index**, Python returns the character **starting from the end of the string**. For example:"
   ]
  },
  {
   "cell_type": "code",
   "execution_count": 64,
   "id": "4cad4678-9d35-4cb6-8135-0c58a8427055",
   "metadata": {},
   "outputs": [
    {
     "name": "stdout",
     "output_type": "stream",
     "text": [
      "g\n",
      "n\n"
     ]
    }
   ],
   "source": [
    "str = \"Python String\"\n",
    "print(str[-1])  # g\n",
    "print(str[-2])  # n"
   ]
  },
  {
   "cell_type": "markdown",
   "id": "2e7a80a6-86c0-42b5-86a7-772bf2f2969b",
   "metadata": {},
   "source": [
    "<br>\n",
    "\n",
    "The following illustrates the indexes of the string <span style=\"background-color: #FFF971;color: red\">  \"Python String\"  </span> : <br>\n",
    "\n",
    "\n",
    "\n",
    "<div style=\"text-align: left; margin-left: -200px\">\n",
    "  \n",
    "|  P  |  y  |  t  |  h  |  o  |  n  |     |  S  |  t  |  r  |  i  |  n |  g  | \n",
    "|-----|-----|-----|-----|-----|-----|-----|-----|-----|-----|-----|-----|-----|\n",
    "|  0  |  1  |  2  |  3  |  4  |  5  |  6  |  7  |  8  |  9  | 10  |  11 |  12 |\n",
    "| -13 | -12 | -11 | -10 |  -9 |  -8 |  -7 |  -6 |  -5 |  -4 |  -3 |  -2 |  -1 |\n",
    "\n",
    "</div>\n",
    "\n",
    "\n",
    "\n",
    "\n",
    "\n"
   ]
  },
  {
   "cell_type": "markdown",
   "id": "9d3fc16e-ec80-4f03-b9e6-4a57cbf9730d",
   "metadata": {},
   "source": [
    "<br>\n",
    "\n",
    "### 4. <span style=\"background-color: yellow;\">Getting the length of a string</span> <br>\n",
    "\n",
    "To get the length of a string, you use the <span style=\"background-color: #FFF971;color: red\"> **len()** </span> function. For example:\n"
   ]
  },
  {
   "cell_type": "code",
   "execution_count": 65,
   "id": "08d48149-1841-4392-bdeb-a28d13c3d9c0",
   "metadata": {},
   "outputs": [
    {
     "name": "stdout",
     "output_type": "stream",
     "text": [
      "13\n"
     ]
    }
   ],
   "source": [
    "str = \"Python String\"\n",
    "str_len = len(str)\n",
    "print(str_len)"
   ]
  },
  {
   "cell_type": "markdown",
   "id": "22e96f8c-452a-44e1-8f8e-d424f3e3a97d",
   "metadata": {},
   "source": [
    "<br>\n",
    "\n",
    "### 5. <span style=\"background-color: yellow;\">Slicing strings</span> <br>\n",
    "\n",
    "Slicing allows you to get a <span style=\"color: blue\"> **substring** </span> from a string. <br>\n",
    "\n",
    "**string**[<span style=\"background-color: #FFF971;color: red\"> **start**</span> **:** <span style=\"background-color: #FFF971;color: red\"> **end**</span>] <br>\n",
    "\n",
    "**string**[<span style=\"background-color: #FFF971;color: red\"> **start**</span> **:** <span style=\"background-color: #FFF971;color: red\"> **end**</span> **:**<span style=\"background-color: #FFF971;color: red\"> **step**</span>] \n",
    "\n",
    "<br>\n",
    "\n",
    "<span style=\"background-color: #CAFEFD\">**Note :** </span> \n",
    "<br>\n",
    "&nbsp;&nbsp;&nbsp;&nbsp;&nbsp;&nbsp;⇒ The substring always **includes** the character at the <span style=\"background-color: #FFF971;color: red\"> **start**</span> and **excludes** the string at the <span style=\"background-color: #FFF971;color: red\"> **end**</span>. \n",
    "<br>\n",
    "&nbsp;&nbsp;&nbsp;&nbsp;&nbsp;&nbsp;⇒ The <span style=\"background-color: #FFF971;color: red\"> **start**</span>, <span style=\"background-color: #FFF971;color: red\"> **end**</span> and <span style=\"background-color: #FFF971;color: red\"> **step**</span> all are **optional**. \n",
    "<br>\n",
    "&nbsp;&nbsp;&nbsp;&nbsp;&nbsp;&nbsp;⇒ If you omit the start, it <span style=\"color: blue\"> defaults </span> to **zero**. \n",
    "<br>\n",
    "&nbsp;&nbsp;&nbsp;&nbsp;&nbsp;&nbsp;⇒ If you omit the end, it <span style=\"color: blue\"> defaults </span> to the **string’s length**.\n",
    "<br>\n",
    "&nbsp;&nbsp;&nbsp;&nbsp;&nbsp;&nbsp;⇒ If you omit the step, it <span style=\"color: blue\"> defaults </span> to **1**.\n",
    "\n",
    "<br>\n"
   ]
  },
  {
   "cell_type": "code",
   "execution_count": 10,
   "id": "be11f3b4-9da3-431e-b00a-5ef1e0f19932",
   "metadata": {},
   "outputs": [
    {
     "name": "stdout",
     "output_type": "stream",
     "text": [
      "str[1] ⇒ y\n",
      "str[1:] ⇒ ython String\n",
      "str[1::] ⇒ ython String\n"
     ]
    }
   ],
   "source": [
    "str = \"Python String\"\n",
    "\n",
    "# String[start]\n",
    "print('str[1] ⇒', str[1])            # slice to the end\n",
    "\n",
    "# String[start:]\n",
    "print('str[1:] ⇒', str[1:])          # slice to the end\n",
    "\n",
    "# String[start::]\n",
    "print('str[1::] ⇒', str[1::])        # slice to the end"
   ]
  },
  {
   "cell_type": "code",
   "execution_count": 9,
   "id": "e9ddb854-97d7-432b-83c2-e362b2b87409",
   "metadata": {},
   "outputs": [
    {
     "name": "stdout",
     "output_type": "stream",
     "text": [
      "Python S\n",
      "Python S\n"
     ]
    }
   ],
   "source": [
    "str = \"Python String\"\n",
    "\n",
    "# String[:end]\n",
    "print(str[:8])         # slice from the start\n",
    "\n",
    "# String[:end:]\n",
    "print(str[:8:])        # slice from the start"
   ]
  },
  {
   "cell_type": "code",
   "execution_count": 68,
   "id": "f5b24c2f-39f8-47f6-a4fa-a6eea1dd8ac1",
   "metadata": {},
   "outputs": [
    {
     "name": "stdout",
     "output_type": "stream",
     "text": [
      "Pto tig\n"
     ]
    }
   ],
   "source": [
    "# String[::step]\n",
    "\n",
    "str = \"Python String\"\n",
    "print(str[::2])"
   ]
  },
  {
   "cell_type": "code",
   "execution_count": 69,
   "id": "3f7b97b1-1bc7-44f8-80cb-03d5cd90381c",
   "metadata": {},
   "outputs": [
    {
     "name": "stdout",
     "output_type": "stream",
     "text": [
      "ython S\n",
      "ython S\n"
     ]
    }
   ],
   "source": [
    "str = \"Python String\"\n",
    "\n",
    "# String[start:end]\n",
    "print(str[1:8])\n",
    "\n",
    "# String[start:end:]\n",
    "print(str[1:8:])"
   ]
  },
  {
   "cell_type": "code",
   "execution_count": 70,
   "id": "20bdb8eb-3abd-40c5-93fd-8802d7e33f0c",
   "metadata": {},
   "outputs": [
    {
     "name": "stdout",
     "output_type": "stream",
     "text": [
      "Pto t\n"
     ]
    }
   ],
   "source": [
    "str = \"Python String\"\n",
    "\n",
    "# String[:end:step]\n",
    "print(str[:9:2])"
   ]
  },
  {
   "cell_type": "code",
   "execution_count": 71,
   "id": "e9dfe637-246b-421f-ae8b-c8a9a39f7bf3",
   "metadata": {},
   "outputs": [
    {
     "name": "stdout",
     "output_type": "stream",
     "text": [
      "to tig\n"
     ]
    }
   ],
   "source": [
    "# String[start::step]\n",
    "\n",
    "str = \"Python String\"\n",
    "print(str[2::2])"
   ]
  },
  {
   "cell_type": "code",
   "execution_count": 72,
   "id": "332aa70b-9cd5-414c-9ae9-733b778b5516",
   "metadata": {},
   "outputs": [
    {
     "name": "stdout",
     "output_type": "stream",
     "text": [
      "Pto t\n"
     ]
    }
   ],
   "source": [
    "# String[start:end:step]\n",
    "\n",
    "str = \"Python String\"\n",
    "print(str[0:9:2])"
   ]
  },
  {
   "cell_type": "markdown",
   "id": "2050824e-6c7a-439b-80f4-4ea4ed237f62",
   "metadata": {},
   "source": [
    "<br>\n",
    "\n",
    "<span style=\"background-color: #CAFEFD\">&nbsp;Use **negative indexes** to start the slice from the end of the string:&nbsp;</span> \n",
    "\n"
   ]
  },
  {
   "cell_type": "code",
   "execution_count": 11,
   "id": "3bd12415-c630-49fb-b47b-e7aed5cf84f5",
   "metadata": {},
   "outputs": [
    {
     "name": "stdout",
     "output_type": "stream",
     "text": [
      "orl\n"
     ]
    }
   ],
   "source": [
    "b = \"Hello, World!\"\n",
    "print(b[-5:-2])"
   ]
  },
  {
   "cell_type": "markdown",
   "id": "22e5a189-6f2c-4202-9e4a-5d75cb11aed4",
   "metadata": {},
   "source": [
    "<br>\n",
    "\n",
    "### 6. <span style=\"background-color: yellow;\">Python strings are immutable</span> <br>\n",
    "\n",
    "It means that you **cannot change** the string. For example, you’ll get an <span style=\"color: red;\">**error**</span> if you update one or more characters in a string: \n",
    "<br>"
   ]
  },
  {
   "cell_type": "code",
   "execution_count": 73,
   "id": "49e5f4a7-fa28-4b1c-9a1f-0f7ae81d5a22",
   "metadata": {},
   "outputs": [
    {
     "ename": "TypeError",
     "evalue": "'str' object does not support item assignment",
     "output_type": "error",
     "traceback": [
      "\u001b[1;31m---------------------------------------------------------------------------\u001b[0m",
      "\u001b[1;31mTypeError\u001b[0m                                 Traceback (most recent call last)",
      "Cell \u001b[1;32mIn[73], line 2\u001b[0m\n\u001b[0;32m      1\u001b[0m \u001b[38;5;28mstr\u001b[39m \u001b[38;5;241m=\u001b[39m \u001b[38;5;124m\"\u001b[39m\u001b[38;5;124mPython String\u001b[39m\u001b[38;5;124m\"\u001b[39m\n\u001b[1;32m----> 2\u001b[0m \u001b[38;5;28;43mstr\u001b[39;49m\u001b[43m[\u001b[49m\u001b[38;5;241;43m0\u001b[39;49m\u001b[43m]\u001b[49m \u001b[38;5;241m=\u001b[39m \u001b[38;5;124m'\u001b[39m\u001b[38;5;124mJ\u001b[39m\u001b[38;5;124m'\u001b[39m\n",
      "\u001b[1;31mTypeError\u001b[0m: 'str' object does not support item assignment"
     ]
    }
   ],
   "source": [
    "str = \"Python String\"\n",
    "str[0] = 'J'"
   ]
  },
  {
   "cell_type": "markdown",
   "id": "fd91871c-852e-46c4-97c7-a9a8ca697604",
   "metadata": {},
   "source": [
    "<br>\n",
    "\n",
    "When want to modify a string, you need to create a new one from the existing string. For example:"
   ]
  },
  {
   "cell_type": "code",
   "execution_count": 74,
   "id": "2a6308ea-aee4-4de8-b8d4-34f701c115c9",
   "metadata": {},
   "outputs": [
    {
     "name": "stdout",
     "output_type": "stream",
     "text": [
      "str ⇒ Python String\n",
      "new_str ⇒ Jython String\n"
     ]
    }
   ],
   "source": [
    "str = \"Python String\" \n",
    "print('str ⇒', str)\n",
    "\n",
    "# let us madify it to \"Jython Strings\"\n",
    "\n",
    "new_str = \"J\" + str[1:]\n",
    "print('new_str ⇒', new_str)"
   ]
  },
  {
   "cell_type": "code",
   "execution_count": 75,
   "id": "67cce799-d5b1-43a4-b60a-329435aa1627",
   "metadata": {},
   "outputs": [
    {
     "name": "stdout",
     "output_type": "stream",
     "text": [
      "str ⇒ Python String\n",
      "new_str ⇒ Python Strings\n"
     ]
    }
   ],
   "source": [
    "str = \"Python String\" \n",
    "print('str ⇒', str)\n",
    "\n",
    "# let us madify it to \"Python Strings\"\n",
    "\n",
    "new_str = str[:len(str)] + 's'\n",
    "print('new_str ⇒', new_str)"
   ]
  },
  {
   "cell_type": "markdown",
   "id": "2e57d33d-2b49-4242-a4e2-2ffca5b33b63",
   "metadata": {},
   "source": [
    "<br>\n",
    "\n",
    "### 7. <span style=\"background-color: yellow;\">Looping Through a String</span> <br>\n",
    "\n",
    "Since **strings are arrays**, we can loop through the characters in a string, with a <span style=\"background-color: yellow;color:red\"><strong> &nbsp;&nbsp; for &nbsp;&nbsp;</strong></span> loop.\n"
   ]
  },
  {
   "cell_type": "code",
   "execution_count": 3,
   "id": "4c536a8e-1b12-4c05-96c5-cf175d802904",
   "metadata": {},
   "outputs": [
    {
     "name": "stdout",
     "output_type": "stream",
     "text": [
      "D\n",
      "a\n",
      "t\n",
      "a\n",
      " \n",
      "E\n",
      "n\n",
      "g\n",
      "i\n",
      "n\n",
      "e\n",
      "e\n",
      "r\n",
      "i\n",
      "n\n",
      "g\n"
     ]
    }
   ],
   "source": [
    "for x in \"Data Engineering\":\n",
    "  print(x)"
   ]
  },
  {
   "cell_type": "markdown",
   "id": "f85192c6-ac23-4b59-99af-749d8daf1240",
   "metadata": {},
   "source": [
    "<br>\n",
    "\n",
    "### 8. <span style=\"background-color: yellow;\">Check String</span> <br>\n",
    "\n",
    "To check if a certain phrase or character is present in a string, we can use the keyword <span style=\"background-color: yellow;color:red\"><strong> &nbsp;&nbsp; in &nbsp;&nbsp;</strong></span>."
   ]
  },
  {
   "cell_type": "code",
   "execution_count": 4,
   "id": "9793ad9b-8e20-41b7-bcdc-4c9ffa85584a",
   "metadata": {},
   "outputs": [
    {
     "name": "stdout",
     "output_type": "stream",
     "text": [
      "True\n"
     ]
    }
   ],
   "source": [
    "# Check if \"free\" is present in the following text:\n",
    "\n",
    "txt = \"The best things in life are free!\"\n",
    "print(\"free\" in txt)"
   ]
  },
  {
   "cell_type": "markdown",
   "id": "ff901c58-aa51-430a-858c-8ed880a93c44",
   "metadata": {},
   "source": [
    "<br>\n",
    "\n",
    "Generally we use it (<span style=\"background-color: yellow;color:red\"><strong> &nbsp;&nbsp; in &nbsp;&nbsp;</strong></span>) in an <span style=\"background-color: yellow;color:red\"><strong> &nbsp;&nbsp; if &nbsp;&nbsp;</strong></span> statement:"
   ]
  },
  {
   "cell_type": "code",
   "execution_count": 5,
   "id": "606b9a28-e24d-4459-80a4-9ebfca5dc8c0",
   "metadata": {},
   "outputs": [
    {
     "name": "stdout",
     "output_type": "stream",
     "text": [
      "Yes, 'free' is present.\n"
     ]
    }
   ],
   "source": [
    "# Print only if \"free\" is present:\n",
    "\n",
    "txt = \"The best things in life are free!\"\n",
    "if \"free\" in txt:\n",
    "  print(\"Yes, 'free' is present.\")"
   ]
  },
  {
   "cell_type": "markdown",
   "id": "0201c8bb-f826-4302-bd60-f2b1336365f4",
   "metadata": {},
   "source": [
    "<br>\n",
    "\n",
    "### 9. <span style=\"background-color: yellow;\">Check if NOT</span> <br>\n",
    "\n",
    "To check if a certain phrase or character is **NOT** present in a string, we can use the keyword <span style=\"background-color: yellow;color:red\"><strong>&nbsp; not in &nbsp;</strong></span>."
   ]
  },
  {
   "cell_type": "code",
   "execution_count": 6,
   "id": "7a8474bd-108c-4a01-a79e-2af2a877c264",
   "metadata": {},
   "outputs": [
    {
     "name": "stdout",
     "output_type": "stream",
     "text": [
      "True\n"
     ]
    }
   ],
   "source": [
    "# Check if \"expensive\" is NOT present in the following text:\n",
    "\n",
    "txt = \"The best things in life are free!\"\n",
    "print(\"expensive\" not in txt)"
   ]
  },
  {
   "cell_type": "markdown",
   "id": "ebf1494f-312f-4010-8064-dedf9d906fbc",
   "metadata": {},
   "source": [
    "<br>\n",
    "\n",
    "Generally we use it (<span style=\"background-color: yellow;color:red\"><strong> &nbsp;not in &nbsp;</strong></span>) in an <span style=\"background-color: yellow;color:red\"><strong> &nbsp;&nbsp; if &nbsp;&nbsp;</strong></span> statement:"
   ]
  },
  {
   "cell_type": "code",
   "execution_count": 8,
   "id": "d3318d71-446e-4071-a9ac-57dbbc5b59d4",
   "metadata": {},
   "outputs": [
    {
     "name": "stdout",
     "output_type": "stream",
     "text": [
      "No, 'expensive' is NOT present.\n"
     ]
    }
   ],
   "source": [
    "txt = \"The best things in life are free!\"\n",
    "if \"expensive\" not in txt:\n",
    "  print(\"No, 'expensive' is NOT present.\")"
   ]
  },
  {
   "cell_type": "markdown",
   "id": "ab296736-1e92-4e82-becf-10abcc5ddc12",
   "metadata": {},
   "source": [
    "<br>\n",
    "\n",
    "### 10. <span style=\"background-color: yellow;\">Modify Strings</span> <br>\n",
    "\n",
    "\n",
    "Some built-in methods that we can use on Python strings :  <br>\n",
    "\n",
    "&nbsp;&nbsp;&nbsp;&nbsp;&nbsp;&nbsp;&nbsp;⇒ <span style=\"background-color: yellow;color:red\"><strong>&nbsp; upper() &nbsp;</strong></span>       <br>\n",
    "\n",
    "&nbsp;&nbsp;&nbsp;&nbsp;&nbsp;&nbsp;&nbsp;⇒ <span style=\"background-color: yellow;color:red\"><strong>&nbsp; lower() &nbsp;</strong></span>       <br>\n",
    "\n",
    "&nbsp;&nbsp;&nbsp;&nbsp;&nbsp;&nbsp;&nbsp;⇒ <span style=\"background-color: yellow;color:red\"><strong>&nbsp; strip() &nbsp;</strong></span>       <br>\n",
    "\n",
    "&nbsp;&nbsp;&nbsp;&nbsp;&nbsp;&nbsp;&nbsp;⇒ <span style=\"background-color: yellow;color:red\"><strong>&nbsp; replace() &nbsp;</strong></span>     <br>\n",
    "\n",
    "&nbsp;&nbsp;&nbsp;&nbsp;&nbsp;&nbsp;&nbsp;⇒ <span style=\"background-color: yellow;color:red\"><strong>&nbsp; split() &nbsp;</strong></span>       <br>\n",
    "\n",
    "<br>\n",
    "\n",
    "<span style=\"background-color: #F5C0FF\">**Upper Case**</span>\n"
   ]
  },
  {
   "cell_type": "code",
   "execution_count": 12,
   "id": "22fd0102-fe7e-4349-8b77-1ad18f5c8d9a",
   "metadata": {},
   "outputs": [
    {
     "name": "stdout",
     "output_type": "stream",
     "text": [
      "HELLO, WORLD!\n"
     ]
    }
   ],
   "source": [
    "# The upper() method returns the string in upper case:\n",
    "\n",
    "a = \"Hello, World!\"\n",
    "print(a.upper())"
   ]
  },
  {
   "cell_type": "markdown",
   "id": "47354b38-92e2-4678-b10f-94f30e225e45",
   "metadata": {},
   "source": [
    "<br>\n",
    "\n",
    "<span style=\"background-color: #F5C0FF\">**Lower Case**</span>"
   ]
  },
  {
   "cell_type": "code",
   "execution_count": 16,
   "id": "2d711ce9-10c4-4685-ba02-0993960a061e",
   "metadata": {},
   "outputs": [
    {
     "name": "stdout",
     "output_type": "stream",
     "text": [
      "hello, world!\n"
     ]
    }
   ],
   "source": [
    "# The lower() method returns the string in lower case:\n",
    "\n",
    "a = \"Hello, World!\"\n",
    "print(a.lower())"
   ]
  },
  {
   "cell_type": "markdown",
   "id": "f31a5e80-40fd-4998-9dc0-13840bdf39ce",
   "metadata": {},
   "source": [
    "<br>\n",
    "\n",
    "<span style=\"background-color: #F5C0FF\">**Remove Whitespace**</span>\n",
    "\n",
    "Whitespace is the space before and/or after the actual text, and very often you want to remove this space."
   ]
  },
  {
   "cell_type": "code",
   "execution_count": 17,
   "id": "cfc88dee-51cf-49c9-988c-63611ebc357d",
   "metadata": {},
   "outputs": [
    {
     "name": "stdout",
     "output_type": "stream",
     "text": [
      "Hello, World!\n"
     ]
    }
   ],
   "source": [
    "#The strip() method removes any whitespace from the beginning or the end:\n",
    "\n",
    "a = \" Hello, World! \"\n",
    "print(a.strip()) # returns \"Hello, World!\""
   ]
  },
  {
   "cell_type": "markdown",
   "id": "caf914d5-c3ab-49cf-a244-5c30045757d0",
   "metadata": {},
   "source": [
    "<br>\n",
    "\n",
    "<span style=\"background-color: #F5C0FF\">**Replace String**</span>"
   ]
  },
  {
   "cell_type": "code",
   "execution_count": 19,
   "id": "b5bf5b95-24d4-4d3e-a30c-83e6e71d6631",
   "metadata": {},
   "outputs": [
    {
     "name": "stdout",
     "output_type": "stream",
     "text": [
      "Jello, World!\n"
     ]
    }
   ],
   "source": [
    "# The replace() method replaces a string with another string:\n",
    "\n",
    "a = \"Hello, World!\"\n",
    "print(a.replace(\"H\", \"J\"))"
   ]
  },
  {
   "cell_type": "markdown",
   "id": "27df0ea1-8586-4b89-9784-6ba0aae5a0cc",
   "metadata": {},
   "source": [
    "<br>\n",
    "\n",
    "<span style=\"background-color: #F5C0FF\">**Split String**</span>\n",
    "\n",
    "The <span style=\"background-color: yellow;color:red\"><strong>&nbsp; split() &nbsp;</strong></span> method returns a list where the text between the specified separator becomes the list items."
   ]
  },
  {
   "cell_type": "code",
   "execution_count": 22,
   "id": "ae846812-aa92-4f9a-a98f-6277f37c4c6c",
   "metadata": {},
   "outputs": [
    {
     "name": "stdout",
     "output_type": "stream",
     "text": [
      "['Hello', ' World!']\n"
     ]
    }
   ],
   "source": [
    "# The split() method splits the string into substrings if it finds instances of the separator:\n",
    "\n",
    "a = \"Hello, World!\"\n",
    "print(a.split(\",\")) "
   ]
  },
  {
   "cell_type": "code",
   "execution_count": 23,
   "id": "e267e23c-f19a-4e4a-92df-e442fea6bde4",
   "metadata": {},
   "outputs": [
    {
     "name": "stdout",
     "output_type": "stream",
     "text": [
      "['Avinash', 'Kumar', 'Mishra']\n"
     ]
    }
   ],
   "source": [
    "a = \"Avinash Kumar Mishra\"\n",
    "print(a.split(\" \"))"
   ]
  },
  {
   "cell_type": "markdown",
   "id": "64e283e9-fc07-4592-ac29-2958e4016901",
   "metadata": {},
   "source": [
    "<br>\n",
    "\n",
    "### 11. <span style=\"background-color: yellow;\">Python - Escape Characters</span> <br>\n",
    "\n",
    "\n",
    "<span style=\"background-color: #F5C0FF\">**Escape Character**</span>\n",
    "\n",
    "To insert characters that are illegal in a string, use an escape character.\n",
    "\n",
    "An escape character is a **backslash** <span style=\"background-color: yellow;color:red\"><strong>&nbsp; \\\\ &nbsp;</strong></span> followed by the character you want to insert.\n",
    "\n"
   ]
  },
  {
   "cell_type": "code",
   "execution_count": 1,
   "id": "67263543-7e95-43c5-8176-f3795fc300cc",
   "metadata": {},
   "outputs": [
    {
     "ename": "SyntaxError",
     "evalue": "invalid syntax (1802775381.py, line 3)",
     "output_type": "error",
     "traceback": [
      "\u001b[1;36m  Cell \u001b[1;32mIn[1], line 3\u001b[1;36m\u001b[0m\n\u001b[1;33m    txt = \"AI can't replace humans, they are here to \"assist\" us\"\u001b[0m\n\u001b[1;37m                                                      ^\u001b[0m\n\u001b[1;31mSyntaxError\u001b[0m\u001b[1;31m:\u001b[0m invalid syntax\n"
     ]
    }
   ],
   "source": [
    "# You will get an error if you use double quotes inside a string that is surrounded by double quotes:\n",
    "\n",
    "txt = \"AI can't replace humans, they are here to \"assist\" us\""
   ]
  },
  {
   "cell_type": "markdown",
   "id": "e7f42338-7cff-4e84-aac6-769d24cfa6e7",
   "metadata": {},
   "source": [
    "<br>\n",
    "\n",
    "To fix this problem, use the escape character <span style=\"background-color: yellow;color:red\"><strong>&nbsp; \\\\\" &nbsp;</strong></span> :"
   ]
  },
  {
   "cell_type": "code",
   "execution_count": 3,
   "id": "fef70f1a-5cef-4416-b201-b9ee82801fa1",
   "metadata": {},
   "outputs": [],
   "source": [
    "txt = \"AI can't replace humans, they are here to \\\"assist\\\" us\""
   ]
  },
  {
   "cell_type": "code",
   "execution_count": 5,
   "id": "689b59c7-23d7-4ae1-9272-04a97ee462da",
   "metadata": {},
   "outputs": [
    {
     "name": "stdout",
     "output_type": "stream",
     "text": [
      "AI can't replace humans, they are here to \"assist\" us\n"
     ]
    }
   ],
   "source": [
    "print(txt)"
   ]
  },
  {
   "cell_type": "markdown",
   "id": "00fd87c6-0be4-4c59-986d-532ef9160a29",
   "metadata": {},
   "source": [
    "<br>\n",
    "\n",
    "<span style=\"background-color: #F5C0FF\">**Other Escape Characters**</span>\n",
    "\n",
    "<head>\n",
    "    <style>\n",
    "        table {\n",
    "            border-collapse: collapse;\n",
    "            width: 100%;\n",
    "        }\n",
    "        th, td {\n",
    "            border: 1px solid black;\n",
    "            padding: 8px;\n",
    "            text-align: left;\n",
    "        }\n",
    "    </style>\n",
    "</head>\n",
    "<body>\n",
    "\n",
    "<table>\n",
    "    <thead>\n",
    "        <tr>\n",
    "            <th>Code</th>\n",
    "            <th>Result</th>\n",
    "        </tr>\n",
    "    </thead>\n",
    "    <tbody>\n",
    "        <tr>\n",
    "            <td><span style=\"color:red\"><strong>\\\\'</strong></span></td>\n",
    "            <td><span style=\"color:blue\"><strong>Single Quote</strong></span></td>\n",
    "        </tr>\n",
    "        <tr>\n",
    "            <td><span style=\"color:red\"><strong>\\\\\\\\</strong></span></td>\n",
    "            <td><span style=\"color:blue\"><strong>Backslash</strong></span></td>\n",
    "        </tr>\n",
    "        <tr>\n",
    "            <td><span style=\"color:red\"><strong>\\\\n</strong></span></td>\n",
    "            <td><span style=\"color:blue\"><strong>New Line</strong></span></td>\n",
    "        </tr>\n",
    "        <tr>\n",
    "            <td><span style=\"color:red\"><strong>\\\\r</strong></span></td>\n",
    "            <td><span style=\"color:blue\"><strong>Carriage Return</strong></span></td>\n",
    "        </tr>\n",
    "        <tr>\n",
    "            <td><span style=\"color:red\"><strong>\\\\t</strong></span></td>\n",
    "            <td><span style=\"color:blue\"><strong>Tab</strong></span></td>\n",
    "        </tr>\n",
    "        <tr>\n",
    "            <td><span style=\"color:red\"><strong>\\\\b</strong></span></td>\n",
    "            <td><span style=\"color:blue\"><strong>Backspace</strong></span></td>\n",
    "        </tr>\n",
    "        <tr>\n",
    "            <td><span style=\"color:red\"><strong>\\\\f</strong></span></td>\n",
    "            <td><span style=\"color:blue\"><strong>Form Feed</strong></span></td>\n",
    "        </tr>\n",
    "        <tr>\n",
    "            <td><span style=\"color:red\"><strong>\\\\\\\\\\o</strong></span></td>\n",
    "            <td><span style=\"color:blue\"><strong>Octal Value</strong></span></td>\n",
    "        </tr>\n",
    "        <tr>\n",
    "            <td><span style=\"color:red\"><strong>\\\\xhh</strong></span></td>\n",
    "            <td><span style=\"color:blue\"><strong>Hex Value</strong></span></td>\n",
    "        </tr>\n",
    "    </tbody>\n",
    "</table>\n",
    "\n",
    "</body>\n",
    "</html>"
   ]
  },
  {
   "cell_type": "code",
   "execution_count": 11,
   "id": "e5751b71-8c18-42dc-8dc0-ef86185dbc7c",
   "metadata": {},
   "outputs": [
    {
     "name": "stdout",
     "output_type": "stream",
     "text": [
      "It's alright.\n"
     ]
    }
   ],
   "source": [
    "# Single Quote\n",
    "\n",
    "txt = 'It\\'s alright.'\n",
    "print(txt) "
   ]
  },
  {
   "cell_type": "code",
   "execution_count": 12,
   "id": "ffb35552-7f0e-4edc-8edf-d1c1397c1d13",
   "metadata": {},
   "outputs": [
    {
     "name": "stdout",
     "output_type": "stream",
     "text": [
      "This will insert one \\ (backslash).\n"
     ]
    }
   ],
   "source": [
    "# Backslash\n",
    "\n",
    "txt = \"This will insert one \\\\ (backslash).\"\n",
    "print(txt)"
   ]
  },
  {
   "cell_type": "code",
   "execution_count": 13,
   "id": "e5a1afb7-f085-4533-a2d1-fd940baf1b11",
   "metadata": {},
   "outputs": [
    {
     "name": "stdout",
     "output_type": "stream",
     "text": [
      "Hello\n",
      "World!\n"
     ]
    }
   ],
   "source": [
    "# New Line\n",
    "\n",
    "txt = \"Hello\\nWorld!\"\n",
    "print(txt)"
   ]
  },
  {
   "cell_type": "code",
   "execution_count": 14,
   "id": "a93200e0-7d9c-4184-9337-b50e86d36b04",
   "metadata": {},
   "outputs": [
    {
     "name": "stdout",
     "output_type": "stream",
     "text": [
      "World!\n"
     ]
    }
   ],
   "source": [
    "# Carriage Return\n",
    "\n",
    "txt = \"Hello\\rWorld!\"\n",
    "print(txt)"
   ]
  },
  {
   "cell_type": "code",
   "execution_count": 16,
   "id": "57336df8-8c6e-4adf-b830-7017f68d3bfd",
   "metadata": {},
   "outputs": [
    {
     "name": "stdout",
     "output_type": "stream",
     "text": [
      "Hello\tWorld!\n"
     ]
    }
   ],
   "source": [
    "# Tab   (one tab is equal to four spaces)\n",
    "\n",
    "txt = \"Hello\\tWorld!\" \n",
    "print(txt) "
   ]
  },
  {
   "cell_type": "code",
   "execution_count": 17,
   "id": "86004a1a-3748-47a7-8882-e257c9d840af",
   "metadata": {},
   "outputs": [
    {
     "name": "stdout",
     "output_type": "stream",
     "text": [
      "HelloWorld!\n"
     ]
    }
   ],
   "source": [
    "# Backspace\n",
    "\n",
    "# This example erases one character (backspace):\n",
    "txt = \"Hello \\bWorld!\"\n",
    "print(txt) "
   ]
  },
  {
   "cell_type": "code",
   "execution_count": 18,
   "id": "6095618f-a7ce-422b-abdb-1229d1203fe2",
   "metadata": {},
   "outputs": [
    {
     "name": "stdout",
     "output_type": "stream",
     "text": [
      "Hello\n"
     ]
    }
   ],
   "source": [
    "# Octal value\n",
    "\n",
    "# A backslash followed by three integers will result in a octal value:\n",
    "txt = \"\\110\\145\\154\\154\\157\"\n",
    "print(txt) "
   ]
  },
  {
   "cell_type": "code",
   "execution_count": 19,
   "id": "6dc700a3-f68a-425e-8cb6-b1584d539ce6",
   "metadata": {},
   "outputs": [
    {
     "name": "stdout",
     "output_type": "stream",
     "text": [
      "Hello\n"
     ]
    }
   ],
   "source": [
    "# Hex value\n",
    "\n",
    "#A backslash followed by an 'x' and a hex number represents a hex value:\n",
    "txt = \"\\x48\\x65\\x6c\\x6c\\x6f\"\n",
    "print(txt)"
   ]
  },
  {
   "cell_type": "markdown",
   "id": "ae200880-3836-49ca-b947-cbc3ba34aa79",
   "metadata": {},
   "source": [
    "<br>\n",
    "\n",
    "### 12. <span style=\"background-color: yellow;\">Python - String Methods</span> <br>\n",
    "\n",
    "\n"
   ]
  },
  {
   "cell_type": "markdown",
   "id": "6985f93e-d723-45b0-8767-92057d7fe5f7",
   "metadata": {},
   "source": [
    "| <span style=\"color: #00871A\">Method</span>         | <span style=\"color: #00871A\">Description</span>              |\n",
    "|----------------|--------------------------------------------------------------------------------------------------|\n",
    "| <span style=\"background-color: yellow; color:red\"><strong>&nbsp;capitalize(&nbsp;)&nbsp;</strong></span> | <span style=\"color:blue\">Converts the **first character to upper case** and the rest to lowercase</span> |\n",
    "| <span style=\"background-color: yellow; color:red\"><strong>&nbsp;casefold(&nbsp;)&nbsp;</strong></span> | <span style=\"color:blue\">Converts the **string into lower case**</span> |\n",
    "| <span style=\"background-color: yellow;color:red\"><strong>&nbsp;center(&nbsp;</strong></span>&nbsp;**length[, fillchar]**&nbsp;<span style=\"background-color: yellow;color:red\"><strong>&nbsp;)&nbsp;</strong></span> | <span style=\"color:blue\">Returns a **center aligned string** of specified length, **padded with fillchar** <br> (whitespace <span style=\"background-color: yellow\">**\"&nbsp;&nbsp;\"**</span> by default)</span> |\n",
    "| <span style=\"background-color: yellow;color:red\"><strong>&nbsp;count(&nbsp;</strong></span>&nbsp;**substring[, start[, end]]**&nbsp;<span style=\"background-color: yellow;color:red\"><strong>&nbsp;)&nbsp;</strong></span> | <span style=\"color:blue\">Returns the **number of occurrences** of **substring** in the string</span> |\n",
    "| <span style=\"background-color: yellow;color:red\"><strong>&nbsp;encode(&nbsp;</strong></span>&nbsp;**[encoding[, errors]]**&nbsp;<span style=\"background-color: yellow;color:red\"><strong>&nbsp;)&nbsp;</strong></span> | <span style=\"color:blue\">Returns an encoded version of the string</span> |\n",
    "| <span style=\"background-color: yellow;color:red\"><strong>endswith(&nbsp;</strong></span>&nbsp;**suffix[, start[, end]]**<span style=\"background-color: yellow;color:red\"><strong>&nbsp;)&nbsp;</strong></span> | <span style=\"color:blue\">Returns **True if the string ends with the specified suffix**; otherwise, False</span> |\n",
    "| <span style=\"background-color: yellow;color:red\"><strong>&nbsp;expandtabs(&nbsp;</strong></span>&nbsp;**tabsize**&nbsp;<span style=\"background-color: yellow;color:red\"><strong>&nbsp;)&nbsp;</strong></span> | <span style=\"color:blue\">Sets the tab size of the string</span> |\n",
    "| <span style=\"background-color: yellow;color:red\"><strong>&nbsp;find(&nbsp;</strong></span>&nbsp;**substring[, start[, end]]**&nbsp;<span style=\"background-color: yellow;color:red\"><strong>&nbsp;)&nbsp;</strong></span> | <span style=\"color:blue\">Returns the **lowest index** in the string where **substring** is found, or **-1** if not found</span> |\n",
    "| <span style=\"background-color: yellow;color:red\"><strong>&nbsp;format(&nbsp;</strong></span>&nbsp;***args, kwargs**&nbsp;<span style=\"background-color: yellow;color:red\"><strong>&nbsp;)&nbsp;</strong></span> | <span style=\"color:blue\">Formats the string using positional and keyword arguments</span> |\n",
    "| <span style=\"background-color: yellow;color:red\"><strong>&nbsp;format_map(&nbsp;</strong></span>&nbsp;**mapping**<span style=\"background-color: yellow;color:red\"><strong>&nbsp;)&nbsp;</strong></span> | <span style=\"color:blue\">Formats the string using the values from a mapping object</span>  |\n",
    "| <span style=\"background-color: yellow;color:red\"><strong>&nbsp;index(&nbsp;</strong></span>&nbsp;**substring[, start[, end]]**<span style=\"background-color: yellow;color:red\"><strong>&nbsp;)&nbsp;</strong></span> | <span style=\"color:blue\">Returns the **lowest index** in the string where **substring** is found, or raises **ValueError** if not found</span> |\n",
    "| <span style=\"background-color:yellow;color:red\"><strong>&nbsp;isalnum(&nbsp;)&nbsp;</strong></span> | <span style=\"color:blue\">Returns **True** if **all characters** in the string are alphanumeric (**letters** and **digits**); otherwise, False</span> |\n",
    "| <span style=\"background-color:yellow;color:red\"><strong>&nbsp;isalpha(&nbsp;)&nbsp;</strong></span> | <span style=\"color:blue\">Returns **True** if **all characters** in the string are alphabetic (**letters**); otherwise, False</span> |\n",
    "| <span style=\"background-color:yellow;color:red\"><strong>&nbsp;isascii(&nbsp;)&nbsp;</strong></span> | <span style=\"color:blue\">Returns **True** if **all characters** in the string are **ascii characters**; otherwise, False</span> |\n",
    "| <span style=\"background-color:yellow;color:red\"><strong>&nbsp;isdecimal(&nbsp;)&nbsp;</strong></span> | <span style=\"color:blue\">Returns **True** if **all characters** in the string are decimals (**0-9**); otherwise, False</span> |\n",
    "| <span style=\"background-color:yellow;color:red\"><strong>&nbsp;isdigit(&nbsp;)&nbsp;</strong></span> | <span style=\"color:blue\">Returns **True** if **all characters** in the string are **digits**</span> |\n",
    "| <span style=\"background-color:yellow;color:red\"><strong>&nbsp;isidentifier(&nbsp;)&nbsp;</strong></span> | <span style=\"color:blue\">Returns **True** if the string is a **valid identifier**; otherwise, False</span> |\n",
    "| <span style=\"background-color:yellow;color:red\"><strong>&nbsp;islower(&nbsp;)&nbsp;</strong></span> | <span style=\"color:blue\">Returns **True** if **all characters** in the string are **lower** case; otherwise, False</span> |\n",
    "| <span style=\"background-color:yellow;color:red\"><strong>&nbsp;isnumeric(&nbsp;)&nbsp;</strong></span> | <span style=\"color:blue\">Returns **True** if **all characters** in the string are **numeric**; otherwise, False</span> |\n",
    "| <span style=\"background-color:yellow;color:red\"><strong>&nbsp;isprintable(&nbsp;)&nbsp;</strong></span> | <span style=\"color:blue\">Returns **True** if **all characters** in the string are **printable**; otherwise False</span> |\n",
    "| <span style=\"background-color:yellow;color:red\"><strong>&nbsp;isspace(&nbsp;)&nbsp;</strong></span> | <span style=\"color:blue\">Returns **True** if **all characters** in the string are **whitespaces**; otherwise False;</span> |\n",
    "| <span style=\"background-color:yellow;color:red\"><strong>&nbsp;istitle(&nbsp;)&nbsp;</strong></span> | <span style=\"color:blue\">Returns **True** if the string is in **title case**; otherwise False</span> |\n",
    "| <span style=\"background-color:yellow;color:red\"><strong>&nbsp;isupper(&nbsp;)&nbsp;</strong></span> | <span style=\"color:blue\">Returns **True** if **all characters** in the string are **upper case**; otherwise False</span> |\n",
    "| <span style=\"background-color: yellow;color:red\"><strong>&nbsp;join(&nbsp;</strong></span>&nbsp;**iterable**&nbsp;<span style=\"background-color: yellow;color:red\"><strong>&nbsp;)&nbsp;</strong></span> | <span style=\"color:blue\">Joins the elements of an iterable to the **end of the string** <br> Or in simple words, it **concatenates** the strings in the iterable using the string as a **separator**</span> |\n",
    "| <span style=\"background-color: yellow;color:red\"><strong>&nbsp;ljust(&nbsp;</strong></span>&nbsp;**length[, fillchar]**&nbsp;<span style=\"background-color: yellow;color:red\"><strong>&nbsp;)&nbsp;</strong></span> | <span style=\"color:blue\">Returns a **left-justified string** of specified length, **padded with fillchar** on the **right side** <br> (whitespace <span style=\"background-color: yellow\">**\"&nbsp;&nbsp;\"**</span> by default)</span> |\n",
    "| <span style=\"background-color:yellow;color:red\"><strong>&nbsp;lower(&nbsp;)&nbsp;</strong></span> | <span style=\"color:blue\">Returns a **copy** of the string converted to **lowercase**</span> |\n",
    "| <span style=\"background-color: yellow;color:red\"><strong>&nbsp;lstrip(&nbsp;</strong></span>&nbsp;**[chars]**&nbsp;<span style=\"background-color: yellow;color:red\"><strong>&nbsp;)&nbsp;</strong></span> | <span style=\"color:blue\">Returns a **copy** (left trim version) of the string with **leading characters removed** from the **left side** <br> (whitespace <span style=\"background-color: yellow\">**\"&nbsp;&nbsp;\"**</span> by default)</span> |\n",
    "|  <span style=\"background-color: yellow;color:red\"><strong>&nbsp;maketrans(&nbsp;</strong></span>&nbsp;**x[, y[, z]]**&nbsp;<span style=\"background-color: yellow;color:red\"><strong>&nbsp;)&nbsp;</strong></span> | <span style=\"color:blue\">Returns a **translation table** usable for **str.translate()**</span> |\n",
    "| <span style=\"background-color: yellow;color:red\"><strong>&nbsp;partition(&nbsp;</strong></span>&nbsp;**separator**&nbsp;<span style=\"background-color: yellow;color:red\"><strong>&nbsp;)&nbsp;</strong></span> | <span style=\"color:blue\">Splits the string at the **first occurrence** of **separator** and returns a **tuple** containing <br> the **left part** before the separator, the **separator** itself, and the **right part** after the separator</span> |\n",
    "| <span style=\"background-color: yellow;color:red\"><strong>&nbsp;replace(&nbsp;</strong></span>&nbsp;**old, new[, count]**&nbsp;<span style=\"background-color: yellow;color:red\"><strong>&nbsp;)&nbsp;</strong></span> | <span style=\"color:blue\">Returns a **copy** of the string with **all occurrences of old** replaced by **new** (**up to count** if specified)</span> |\n",
    "| <span style=\"background-color: yellow;color:red\"><strong>&nbsp;rfind(&nbsp;</strong></span>&nbsp;**substring[, start[, end]]**&nbsp;<span style=\"background-color: yellow;color:red\"><strong>&nbsp;)&nbsp;</strong></span> | <span style=\"color:blue\">Searches for the **last occurrence** of the **substring** within the string and <br> returns the **highest index** in the string where **substring** is found, or **-1** if not found</span> |\n",
    "| <span style=\"background-color: yellow;color:red\"><strong>&nbsp;rindex(&nbsp;</strong></span>&nbsp;**substring[, start[, end]]**&nbsp;<span style=\"background-color: yellow;color:red\"><strong>&nbsp;)&nbsp;</strong></span> | <span style=\"color:blue\">Searches for the **last occurrence** of the **substring** within the string and <br> returns the **highest index** in the string where **substring** is found, or raises a **ValueError** if not found</span> |\n",
    "| <span style=\"background-color: yellow;color:red\"><strong>&nbsp;rjust(&nbsp;</strong></span>&nbsp;**length[, fillchar]**&nbsp;<span style=\"background-color: yellow;color:red\"><strong>&nbsp;)&nbsp;</strong></span> | <span style=\"color:blue\">Returns a **right-justified string** of specified length, **padded with fillchar** on the **left side** <br> (whitespace <span style=\"background-color: yellow\">**\"&nbsp;&nbsp;\"**</span> by default)</span> |\n",
    "| <span style=\"background-color: yellow;color:red\"><strong>&nbsp;rpartition(&nbsp;</strong></span>&nbsp;**separator**&nbsp;<span style=\"background-color: yellow;color:red\"><strong>&nbsp;)&nbsp;</strong></span> | <span style=\"color:blue\">Splits the string at the **last occurrence** of **separator** and returns a **tuple** containing <br> the **left part** before the separator, the **separator** itself, and the **right part** after the separator</span> |\n",
    "| <span style=\"background-color: yellow;color:red\"><strong>&nbsp;rsplit(&nbsp;</strong></span>&nbsp;**separator**&nbsp;=&nbsp;<span style=\"background-color:#E8DAEF\">None</span>**&nbsp;, maxsplit**&nbsp;=&nbsp;<span style=\"background-color:#E8DAEF\">-1</span>&nbsp;<span style=\"background-color: yellow;color:red\"><strong>&nbsp;)&nbsp;</strong></span> | <span style=\"color:blue\"><span style=\"color:blue\">Splits a string into a list of strings from the **right side** <br> Here **maxsplit** represents the **maximum number of splits** <br> Default **separator** is any **whitespace** and default **maxsplit** is **-1**, which is **\"all occurrences\"**</span></span> |\n",
    "| <span style=\"background-color: yellow;color:red\"><strong>&nbsp;rstrip(&nbsp;</strong></span>&nbsp;**[chars]**&nbsp;<span style=\"background-color: yellow;color:red\"><strong>&nbsp;)&nbsp;</strong></span> | <span style=\"color:blue\">Returns a **copy** (right trim version) of the string with **trailing characters removed** from the **right side** <br> (whitespace <span style=\"background-color: yellow\">**\"&nbsp;&nbsp;\"**</span> by default)</span> |\n",
    "| <span style=\"background-color: yellow;color:red\"><strong>&nbsp;split(&nbsp;</strong></span>&nbsp;**separator**&nbsp;=&nbsp;<span style=\"background-color:#E8DAEF\">None</span>**&nbsp;, maxsplit**&nbsp;=&nbsp;<span style=\"background-color:#E8DAEF\">-1</span>&nbsp;<span style=\"background-color: yellow;color:red\"><strong>&nbsp;)&nbsp;</strong></span> | <span style=\"color:blue\"><span style=\"color:blue\">Splits a string into a list of strings from the **left side** <br> Here **maxsplit** represents the **maximum number of splits** <br> Default **separator** is any **whitespace** and default **maxsplit** is **-1**, which is **\"all occurrences\"**</span></span> |\n",
    "| <span style=\"background-color: yellow;color:red\"><strong>&nbsp;splitlines(&nbsp;</strong></span>&nbsp;**keeplinebreaks**&nbsp;<span style=\"background-color: yellow;color:red\"><strong>&nbsp;)&nbsp;</strong></span> | <span style=\"color:blue\">Splits a string into a **list of lines** <br> In other words, it splits the string at **line breaks** and returns a **list** <br> The parameter **keeplinesbreak** specifies if the line breaks should be included (**True**), or not (**False**) <br> Default value is **False**</span> |\n",
    "| <span style=\"background-color: yellow;color:red\"><strong>startswith(&nbsp;</strong></span>&nbsp;**prefix[, start[, end]]**<span style=\"background-color: yellow;color:red\"><strong>&nbsp;)&nbsp;</strong></span> | <span style=\"color:blue\">Returns **True if the string starts with the specified prefix**; otherwise, False</span> |\n",
    "| <span style=\"background-color: yellow;color:red\"><strong>&nbsp;strip(&nbsp;</strong></span>&nbsp;**[chars]**&nbsp;<span style=\"background-color: yellow;color:red\"><strong>&nbsp;)&nbsp;</strong></span> | <span style=\"color:blue\">Returns a **copy** (trimmed from **both left and right side**) of the string with **leading** and **trailing** characters removed <br> (whitespace <span style=\"background-color: yellow\">**\"&nbsp;&nbsp;\"**</span> by default)</span> |\n",
    "| <span style=\"background-color: yellow;color:red\"><strong>swapcase(&nbsp;)</strong></span> | <span style=\"color:blue\">**Swaps** cases, returns a **copy** of the string with **uppercase** characters converted to **lowercase** and **vice versa**</span> |\n",
    "| <span style=\"background-color: yellow;color:red\"><strong>title(&nbsp;)</strong></span> | <span style=\"color:blue\">Returns a **copy** of the string with the first character of each word capitalized<br>Converts the **first character** of **each word** to **upper case**</span> |\n",
    "| <span style=\"background-color: yellow;color:red\"><strong>translate(&nbsp;)</strong></span> | <span style=\"color:blue\">Returns a **translated string** using a **translation table**</span> |\n",
    "| <span style=\"background-color: yellow;color:red\"><strong>upper(&nbsp;)</strong></span> | <span style=\"color:blue\">Returns a **copy** of the string converted to **uppercase**</span> |\n",
    "| <span style=\"background-color: yellow;color:red\"><strong>&nbsp;zfill(&nbsp;</strong></span>&nbsp;**length**&nbsp;<span style=\"background-color: yellow;color:red\"><strong>&nbsp;)&nbsp;</strong></span> | <span style=\"color:blue\">Pads a numeric string with **zeros** on the **left side** to make it a **specified length** <br> In other words, it fills the string with a specified number of **0** values at the **beginning**</span> |\n",
    "\n",
    "\n",
    "\n",
    "\n",
    "\n",
    "\n",
    "\n",
    "\n",
    "\n",
    "\n",
    "\n",
    "\n",
    "\n"
   ]
  },
  {
   "cell_type": "markdown",
   "id": "32d44818-1f5c-4d41-8ef0-d8552823220d",
   "metadata": {},
   "source": []
  },
  {
   "cell_type": "code",
   "execution_count": null,
   "id": "e880ccc6-be74-4c87-9c73-8b7b6be0da2d",
   "metadata": {},
   "outputs": [],
   "source": []
  },
  {
   "cell_type": "code",
   "execution_count": null,
   "id": "81fb6c28-fcaf-490d-b2e3-70fa0abae5e7",
   "metadata": {},
   "outputs": [],
   "source": []
  },
  {
   "cell_type": "code",
   "execution_count": null,
   "id": "4c0659df-9806-4c15-aea8-77bd417ec662",
   "metadata": {},
   "outputs": [],
   "source": []
  },
  {
   "cell_type": "code",
   "execution_count": null,
   "id": "2c1583ee-7da2-41c4-9a91-be9fbb189e38",
   "metadata": {},
   "outputs": [],
   "source": []
  },
  {
   "cell_type": "code",
   "execution_count": null,
   "id": "2d09125e-8140-43c8-ac2f-1297b285ac15",
   "metadata": {},
   "outputs": [],
   "source": []
  },
  {
   "cell_type": "code",
   "execution_count": null,
   "id": "44f83fad-2ec1-4796-9a75-536f80a12c54",
   "metadata": {},
   "outputs": [],
   "source": []
  },
  {
   "cell_type": "code",
   "execution_count": null,
   "id": "61180358-de8f-4499-9f0a-47af0d446438",
   "metadata": {},
   "outputs": [],
   "source": []
  },
  {
   "cell_type": "code",
   "execution_count": null,
   "id": "23b0d319-7ef6-4c55-876d-9ec2e2ede470",
   "metadata": {},
   "outputs": [],
   "source": []
  },
  {
   "cell_type": "code",
   "execution_count": null,
   "id": "6de3e677-f633-413b-b953-5b2a31ba15ac",
   "metadata": {},
   "outputs": [],
   "source": []
  },
  {
   "cell_type": "code",
   "execution_count": null,
   "id": "0212cbe9-7c55-4aed-b8ce-25bc808c3723",
   "metadata": {},
   "outputs": [],
   "source": []
  },
  {
   "cell_type": "markdown",
   "id": "063080c4-9528-4cf5-8a21-c6e107f7acac",
   "metadata": {},
   "source": [
    "<br>\n",
    "\n",
    "### <span style=\"background-color: #CAFEFD;\">Summary :</span>\n",
    "\n",
    "&nbsp;&nbsp;&nbsp;&nbsp;&nbsp;&nbsp;⇒ In Python, a string is a series of characters. Also, Python strings are **immutable**. <br>\n",
    "&nbsp;&nbsp;&nbsp;&nbsp;&nbsp;&nbsp;⇒ Use quotes, either **single** quotes or **double** quotes to create string literals. <br>\n",
    "&nbsp;&nbsp;&nbsp;&nbsp;&nbsp;&nbsp;⇒ Use the **backslash character** <span style=\"background-color: yellow;color: red\"><strong> \\\\ </strong></span> to escape quotes in strings. <br>\n",
    "&nbsp;&nbsp;&nbsp;&nbsp;&nbsp;&nbsp;⇒ Use **raw strings** <span style=\"background-color: yellow;color: red\"><strong> r'...' </strong></span> to escape the backslash character. <br>\n",
    "&nbsp;&nbsp;&nbsp;&nbsp;&nbsp;&nbsp;⇒ Use **f-strings** or **.format()** to insert substitute variables in literal strings. <br>\n",
    "&nbsp;&nbsp;&nbsp;&nbsp;&nbsp;&nbsp;⇒ Place literal strings <span style=\"color: blue\">next to each other</span> to **concatenate** them. And use the <span style=\"background-color: yellow;color: red\"><strong> + </strong></span> operator to **concatenate** string variables. <br>\n",
    "&nbsp;&nbsp;&nbsp;&nbsp;&nbsp;&nbsp;⇒ Use the <span style=\"background-color: yellow;color: red\"><strong> len() </strong></span> function to get the size of a string. <br>\n",
    "&nbsp;&nbsp;&nbsp;&nbsp;&nbsp;&nbsp;⇒ Use the <span style=\"background-color: yellow;color: red\"><strong> str[n] </strong></span> to access the character at the position n of the string str. <br>\n",
    "&nbsp;&nbsp;&nbsp;&nbsp;&nbsp;&nbsp;⇒ Use **slicing** to extract a **substring** from a string. <br>\n",
    "&nbsp;&nbsp;&nbsp;&nbsp;&nbsp;&nbsp;⇒ use <span style=\"background-color: yellow;color:red\"><strong> &nbsp;&nbsp; for &nbsp;&nbsp;</strong></span> loop to loop through the characters in a string. <br>\n",
    "&nbsp;&nbsp;&nbsp;&nbsp;&nbsp;&nbsp;⇒ use <span style=\"background-color: yellow;color:red\"><strong> &nbsp;&nbsp; in &nbsp;&nbsp;</strong></span> and <span style=\"background-color: yellow;color:red\"><strong> &nbsp;&nbsp; not in &nbsp;&nbsp;</strong></span> to **check** if a certain phrase or character is **present or not** in a string.\n",
    "\n",
    "<br>"
   ]
  },
  {
   "cell_type": "code",
   "execution_count": null,
   "id": "940e19b6-266e-4cbc-94f0-3b0dbde0d239",
   "metadata": {},
   "outputs": [],
   "source": []
  },
  {
   "cell_type": "markdown",
   "id": "a9b43edb-4491-4547-9010-306faa58de71",
   "metadata": {},
   "source": [
    "<br>\n",
    "\n",
    "# <u>Numbers</u>\n",
    "\n",
    "<br>\n",
    "\n",
    "Python supports **integers**, **floats**, and **complex numbers**. \n",
    "\n",
    "### <span style=\"background-color: yellow;\">Underscores in numbers</span>\n",
    "\n",
    "When a number is large, it’ll become difficult to read. For example:"
   ]
  },
  {
   "cell_type": "code",
   "execution_count": 76,
   "id": "68b42758-b9f3-4114-8eec-1c77c5c075c7",
   "metadata": {},
   "outputs": [],
   "source": [
    "count = 10000000000"
   ]
  },
  {
   "cell_type": "markdown",
   "id": "52878681-a412-41fb-85da-423129eb3f79",
   "metadata": {},
   "source": [
    "To make the long numbers **more readable**, you can group digits using **underscores**, like this:"
   ]
  },
  {
   "cell_type": "code",
   "execution_count": 77,
   "id": "3212e130-3652-4069-8dab-d6518e5ee472",
   "metadata": {},
   "outputs": [],
   "source": [
    "count = 10_000_000_000"
   ]
  },
  {
   "cell_type": "markdown",
   "id": "3f42772e-4288-401d-84e5-904711f5f77f",
   "metadata": {},
   "source": [
    "When storing these values, Python just **ignores** the **underscores**. It does so when displaying the numbers with underscores on the screen:"
   ]
  },
  {
   "cell_type": "code",
   "execution_count": 78,
   "id": "17aacdc5-eb64-4a0a-a1b3-681eb3a6bc04",
   "metadata": {},
   "outputs": [
    {
     "name": "stdout",
     "output_type": "stream",
     "text": [
      "10000000000\n"
     ]
    }
   ],
   "source": [
    "count = 10_000_000_000\n",
    "print(count)"
   ]
  },
  {
   "cell_type": "markdown",
   "id": "98f02856-cc5d-477d-ac98-941df29e1342",
   "metadata": {},
   "source": [
    "<br>\n",
    "\n",
    "<span style=\"background-color: #CAFEFD\"> **Note :**</span>\n",
    "\n",
    "&nbsp;&nbsp;&nbsp;&nbsp;&nbsp;&nbsp;⇒ The underscores also work for both **integers** and **floats**. <br>\n",
    "\n",
    "&nbsp;&nbsp;&nbsp;&nbsp;&nbsp;&nbsp;⇒ Use the underscores to <span style=\"color: blue;\">group</span> numbers for the **large** numbers. <br>\n",
    "\n",
    "<br>"
   ]
  },
  {
   "cell_type": "code",
   "execution_count": null,
   "id": "28eb4d36-e378-41f4-8c3c-cedbdd0b23be",
   "metadata": {},
   "outputs": [],
   "source": []
  },
  {
   "cell_type": "markdown",
   "id": "e9430592-e4ea-4930-87b5-48c9aa414339",
   "metadata": {},
   "source": [
    "<br>\n",
    "\n",
    "# <u>Boolean</u>\n",
    "\n",
    "<br>\n",
    "\n",
    "The boolean data type has two values: <span style=\"background-color: yellow;color: red\"><strong> True </strong></span> and  <span style=\"background-color: yellow;color: red\"><strong> False </strong></span> which start with the capital letters (<span style=\"background-color: yellow;color: red\"><strong> T </strong></span>) and (<span style=\"background-color: yellow;color: red\"><strong> F </strong></span>) respectively."
   ]
  },
  {
   "cell_type": "code",
   "execution_count": 79,
   "id": "f1c9fd40-106f-4708-961f-f9ddfdc73b97",
   "metadata": {},
   "outputs": [],
   "source": [
    "is_active = True\n",
    "is_admin = False"
   ]
  },
  {
   "cell_type": "markdown",
   "id": "69dd226d-915a-4d53-bac4-12c7a8cc38b1",
   "metadata": {},
   "source": [
    "<br>\n",
    "\n",
    "When you compare two **numbers**, Python returns the result as a boolean value. For example:"
   ]
  },
  {
   "cell_type": "code",
   "execution_count": 80,
   "id": "5137b6f3-23ea-4dcb-bb2b-52e5834afc7f",
   "metadata": {},
   "outputs": [
    {
     "name": "stdout",
     "output_type": "stream",
     "text": [
      "20 > 10 returns True\n",
      "20 < 10 returns False\n"
     ]
    }
   ],
   "source": [
    "print(\"20 > 10 returns\", 20 > 10)\n",
    "\n",
    "print(\"20 < 10 returns\", 20 < 10)"
   ]
  },
  {
   "cell_type": "markdown",
   "id": "d26f2ae2-a2a8-485c-8631-f97b5215dd9e",
   "metadata": {},
   "source": [
    "<br>\n",
    "\n",
    "Also, comparing two strings results in a boolean value:"
   ]
  },
  {
   "cell_type": "code",
   "execution_count": 81,
   "id": "88452cca-4ad0-4aa8-b2d9-2b810572b0b3",
   "metadata": {},
   "outputs": [
    {
     "name": "stdout",
     "output_type": "stream",
     "text": [
      "'a' < 'b' returns  True\n",
      "'a' > 'b' returns  False\n"
     ]
    }
   ],
   "source": [
    "print(\"'a' < 'b' returns \", 'a' < 'b')\n",
    "\n",
    "print(\"'a' > 'b' returns \", 'a' > 'b')"
   ]
  },
  {
   "cell_type": "markdown",
   "id": "a5ab83ae-bf72-46c0-85cb-b3d38b87a3be",
   "metadata": {},
   "source": [
    "<br>\n",
    "\n",
    "### 1. <span style=\"background-color: yellow;\">The bool() function</span> <br>\n",
    "\n",
    "To find out if a value is <span style=\"background-color: yellow;color: red\"><strong> True </strong></span> or <span style=\"background-color: yellow;color: red\"><strong> False </strong></span>, you use the <span style=\"color: red\"><strong> bool() </strong></span> function. For example:\n"
   ]
  },
  {
   "cell_type": "code",
   "execution_count": 82,
   "id": "296779ea-6f15-4050-a6f2-6d048dc50947",
   "metadata": {},
   "outputs": [
    {
     "data": {
      "text/plain": [
       "True"
      ]
     },
     "execution_count": 82,
     "metadata": {},
     "output_type": "execute_result"
    }
   ],
   "source": [
    "bool('Hi')"
   ]
  },
  {
   "cell_type": "code",
   "execution_count": 83,
   "id": "d11879ff-7c40-4c98-8f2d-b65537aab058",
   "metadata": {},
   "outputs": [
    {
     "data": {
      "text/plain": [
       "False"
      ]
     },
     "execution_count": 83,
     "metadata": {},
     "output_type": "execute_result"
    }
   ],
   "source": [
    "bool('')"
   ]
  },
  {
   "cell_type": "code",
   "execution_count": 84,
   "id": "7606293e-453c-4408-a1bb-19273008ffa6",
   "metadata": {},
   "outputs": [
    {
     "data": {
      "text/plain": [
       "True"
      ]
     },
     "execution_count": 84,
     "metadata": {},
     "output_type": "execute_result"
    }
   ],
   "source": [
    "bool(100)"
   ]
  },
  {
   "cell_type": "code",
   "execution_count": 85,
   "id": "b553eba6-9a21-4b9e-be94-aff0b0d02c5f",
   "metadata": {},
   "outputs": [
    {
     "data": {
      "text/plain": [
       "False"
      ]
     },
     "execution_count": 85,
     "metadata": {},
     "output_type": "execute_result"
    }
   ],
   "source": [
    "bool(0)"
   ]
  },
  {
   "cell_type": "code",
   "execution_count": 86,
   "id": "a21cb1ed-d798-4f07-a234-5afcf182a132",
   "metadata": {},
   "outputs": [
    {
     "data": {
      "text/plain": [
       "True"
      ]
     },
     "execution_count": 86,
     "metadata": {},
     "output_type": "execute_result"
    }
   ],
   "source": [
    "bool(-100)"
   ]
  },
  {
   "cell_type": "markdown",
   "id": "2ab07ae8-2fc9-4dcd-960c-67dfa8060395",
   "metadata": {},
   "source": [
    "<br>\n",
    "\n",
    "### 2. <span style=\"background-color: yellow;\">Falsy and Truthy values</span> <br>\n",
    "\n",
    "When a value evaluates to <span style=\"background-color: yellow;color: red\"><strong> True </strong></span>, it’s **truthy**. And if a value evaluates to <span style=\"background-color: yellow;color: red\"><strong> False </strong></span>, it’s **falsy**.\n",
    "\n",
    "<br>\n",
    "\n",
    "The following are **falsy** values in Python:\n",
    "\n",
    "&nbsp;&nbsp;&nbsp;&nbsp;&nbsp;&nbsp;⇒ The number zero (<span style=\"background-color: #CAFEFD\"><strong> 0 </strong></span>) <br>\n",
    "&nbsp;&nbsp;&nbsp;&nbsp;&nbsp;&nbsp;⇒ An empty string <span style=\"background-color: #CAFEFD\"><strong> '' </strong></span> <br>\n",
    "&nbsp;&nbsp;&nbsp;&nbsp;&nbsp;&nbsp;⇒ <span style=\"background-color: #CAFEFD\"><strong> False </strong></span> <br>\n",
    "&nbsp;&nbsp;&nbsp;&nbsp;&nbsp;&nbsp;⇒ <span style=\"background-color: #CAFEFD\"><strong> None </strong></span> <br>\n",
    "&nbsp;&nbsp;&nbsp;&nbsp;&nbsp;&nbsp;⇒ An empty list <span style=\"background-color: #CAFEFD\"><strong> [] </strong></span> <br>\n",
    "&nbsp;&nbsp;&nbsp;&nbsp;&nbsp;&nbsp;⇒ An empty tuple <span style=\"background-color: #CAFEFD\"><strong> () </strong></span> <br>\n",
    "&nbsp;&nbsp;&nbsp;&nbsp;&nbsp;&nbsp;⇒ An empty dictionary <span style=\"background-color: #CAFEFD\"><strong> {} </strong></span> \n",
    "\n",
    "<br>\n",
    "\n",
    "The truthy values are the other values that aren’t falsy.\n"
   ]
  },
  {
   "cell_type": "markdown",
   "id": "ffb58578-c67a-4f79-9629-76609ef61f3a",
   "metadata": {},
   "source": [
    "<br>\n",
    "\n",
    "# <u>Constants</u>\n",
    "\n",
    "Sometimes, you may want to store values in variables. But you don’t want to change these values throughout the execution of the program.\n",
    "\n",
    "The bad news is that <span style=\"color: blue\">Python doesn’t support constants</span>.\n",
    "\n",
    "To work around this, you use **all capital letters** to name a variable to indicate that the variable should be treated as a constant. For example:"
   ]
  },
  {
   "cell_type": "code",
   "execution_count": 87,
   "id": "90b4b0c5-0655-4089-bc8d-cfa9d1eed690",
   "metadata": {},
   "outputs": [],
   "source": [
    "FILE_SIZE_LIMIT = 2000"
   ]
  },
  {
   "cell_type": "markdown",
   "id": "8c413751-d25a-42a9-961f-50c447074126",
   "metadata": {},
   "source": [
    "<br>\n",
    "\n",
    "<span style=\"background-color: #CAFEFD\"> **Note :**</span>\n",
    "When encountering variables like these, you should not change their values. These variables are <span style=\"color: blue\"><strong> constant by convention </strong></span>, **not by rules**."
   ]
  },
  {
   "cell_type": "markdown",
   "id": "b3d9ded4-14ef-420c-9f2a-2e97b56a162c",
   "metadata": {},
   "source": [
    "<br>\n",
    "\n",
    "# <u>Type Conversion</u>\n",
    "\n",
    "<br>\n",
    "\n",
    "### 1. <span style=\"background-color: yellow;\">Introduction to type conversion in Python</span> <br>\n",
    "\n",
    "To get input from users, you use the <span style=\"background-color: yellow;color: red\"><strong> input() </strong></span> function. For example:"
   ]
  },
  {
   "cell_type": "code",
   "execution_count": 27,
   "id": "e1ab20f3-7ce3-4d14-a267-13058e7bf7e8",
   "metadata": {},
   "outputs": [
    {
     "name": "stdin",
     "output_type": "stream",
     "text": [
      "Enter a value: 10\n"
     ]
    },
    {
     "name": "stdout",
     "output_type": "stream",
     "text": [
      "You entered  10\n"
     ]
    }
   ],
   "source": [
    "value = input('Enter a value:')\n",
    "print(\"You entered \",value)"
   ]
  },
  {
   "cell_type": "markdown",
   "id": "37f15045-3495-43c9-86e7-ef51f089b68e",
   "metadata": {},
   "source": [
    "However, the <span style=\"background-color: yellow;color: red\"><strong> input() </strong></span> function <span style = \"background-color: #CAFEFD\">returns a **string**, not an integer</span>.\n",
    "\n",
    "Let's verify:"
   ]
  },
  {
   "cell_type": "code",
   "execution_count": 29,
   "id": "2829000c-7c64-4826-84c1-eb67dd638ad0",
   "metadata": {},
   "outputs": [
    {
     "name": "stdin",
     "output_type": "stream",
     "text": [
      "Enter your current salary ($):  1200000\n",
      "Enter the hike rate (%):  80\n"
     ]
    },
    {
     "ename": "TypeError",
     "evalue": "can't multiply sequence by non-int of type 'str'",
     "output_type": "error",
     "traceback": [
      "\u001b[1;31m---------------------------------------------------------------------------\u001b[0m",
      "\u001b[1;31mTypeError\u001b[0m                                 Traceback (most recent call last)",
      "Cell \u001b[1;32mIn[29], line 4\u001b[0m\n\u001b[0;32m      1\u001b[0m salary \u001b[38;5;241m=\u001b[39m \u001b[38;5;28minput\u001b[39m(\u001b[38;5;124m\"\u001b[39m\u001b[38;5;124mEnter your current salary ($): \u001b[39m\u001b[38;5;124m\"\u001b[39m)\n\u001b[0;32m      2\u001b[0m hike \u001b[38;5;241m=\u001b[39m \u001b[38;5;28minput\u001b[39m(\u001b[38;5;124m\"\u001b[39m\u001b[38;5;124mEnter the hike rate (\u001b[39m\u001b[38;5;124m%\u001b[39m\u001b[38;5;124m): \u001b[39m\u001b[38;5;124m\"\u001b[39m)\n\u001b[1;32m----> 4\u001b[0m new_salary \u001b[38;5;241m=\u001b[39m salary \u001b[38;5;241m+\u001b[39m (\u001b[43msalary\u001b[49m\u001b[43m \u001b[49m\u001b[38;5;241;43m*\u001b[39;49m\u001b[43m \u001b[49m\u001b[43mhike\u001b[49m\u001b[38;5;241m/\u001b[39m\u001b[38;5;241m100\u001b[39m)\n\u001b[0;32m      6\u001b[0m \u001b[38;5;28mprint\u001b[39m(\u001b[38;5;124mf\u001b[39m\u001b[38;5;124m\"\u001b[39m\u001b[38;5;124mYour new salary is $\u001b[39m\u001b[38;5;132;01m{\u001b[39;00mnew_salary\u001b[38;5;132;01m}\u001b[39;00m\u001b[38;5;124m\"\u001b[39m)\n",
      "\u001b[1;31mTypeError\u001b[0m: can't multiply sequence by non-int of type 'str'"
     ]
    }
   ],
   "source": [
    "salary = input(\"Enter your current salary ($): \")\n",
    "hike = input(\"Enter the hike rate (%): \")\n",
    "\n",
    "new_salary = salary + (salary * hike/100)\n",
    "\n",
    "print(f\"Your new salary is ${new_salary}\")"
   ]
  },
  {
   "cell_type": "markdown",
   "id": "7f6def76-6eeb-4bac-9f09-6a8b060ad518",
   "metadata": {},
   "source": [
    "<br>\n",
    "\n",
    "<span style=\"color: blue\">Since the input values are **strings**, you cannot apply the **multiply** operator.</span>\n",
    "\n",
    "To solve this issue, you need to **convert the strings to numbers** before performing calculations.\n",
    "\n",
    "<span style=\"background-color: #CAFEFD\"> **Note :**</span> The <span style=\"background-color: yellow;color: red\"><strong> float() </strong></span> function converts a string to a float."
   ]
  },
  {
   "cell_type": "code",
   "execution_count": 150,
   "id": "b75b09e1-15ad-4b5e-9669-dece593e5893",
   "metadata": {},
   "outputs": [
    {
     "name": "stdin",
     "output_type": "stream",
     "text": [
      "Enter your current salary ($):  1200000\n",
      "Enter the hike rate (%):  80\n"
     ]
    },
    {
     "name": "stdout",
     "output_type": "stream",
     "text": [
      "Your new salary is $2160000.0\n"
     ]
    }
   ],
   "source": [
    "salary = input(\"Enter your current salary ($): \")\n",
    "hike = input(\"Enter the hike rate (%): \")\n",
    "\n",
    "new_salary = float(salary) + (float(salary) * float(hike)/100)\n",
    "\n",
    "print(f\"Your new salary is ${new_salary}\")"
   ]
  },
  {
   "cell_type": "code",
   "execution_count": 151,
   "id": "a0a912d1-cf72-4f1b-9a00-ffa451b87596",
   "metadata": {},
   "outputs": [
    {
     "name": "stdin",
     "output_type": "stream",
     "text": [
      "Enter your current salary ($):  1200000\n",
      "Enter the hike rate (%):  80\n"
     ]
    },
    {
     "name": "stdout",
     "output_type": "stream",
     "text": [
      "Your new salary is $2160000.0\n"
     ]
    }
   ],
   "source": [
    "# Instead of converting the input type so many times in an expression, we can convert it right away in the begining itself:\n",
    "\n",
    "salary = float(input(\"Enter your current salary ($): \"))\n",
    "hike = float(input(\"Enter the hike rate (%): \"))\n",
    "\n",
    "new_salary = salary + (salary * hike / 100)\n",
    "\n",
    "print(f\"Your new salary is ${new_salary}\")"
   ]
  },
  {
   "cell_type": "markdown",
   "id": "3763b8cf-cc8c-4038-80f5-85334335daaa",
   "metadata": {},
   "source": [
    "<br>\n",
    "\n",
    "### 2. <span style=\"background-color: yellow;\">Type conversion functions</span> <br>\n",
    "\n",
    "&nbsp;&nbsp;&nbsp;&nbsp;&nbsp;&nbsp;Most important ones:\n",
    "\n",
    "\n",
    "&nbsp;&nbsp;&nbsp;&nbsp;&nbsp;&nbsp;⇒ <span style=\"background-color: yellow;color: red\"><strong> int( </strong></span><span style=\"color: blue\">**str**</span><span style=\"background-color: yellow;color: red\"><strong> ) </strong></span> – convert a string to an integer. <br>\n",
    "\n",
    "&nbsp;&nbsp;&nbsp;&nbsp;&nbsp;&nbsp;⇒ <span style=\"background-color: yellow;color: red\"><strong> float( </strong></span><span style=\"color: blue\">**str**</span><span style=\"background-color: yellow;color: red\"><strong> ) </strong></span> – convert a string to a floating-point number. <br>\n",
    "\n",
    "&nbsp;&nbsp;&nbsp;&nbsp;&nbsp;&nbsp;⇒ <span style=\"background-color: yellow;color: red\"><strong> bool( </strong></span><span style=\"color: blue\">**val**</span><span style=\"background-color: yellow;color: red\"><strong> ) </strong></span> - convert a value to a boolean value, either True or False. <br>\n",
    "\n",
    "&nbsp;&nbsp;&nbsp;&nbsp;&nbsp;&nbsp;⇒ <span style=\"background-color: yellow;color: red\"><strong> str( </strong></span><span style=\"color: blue\">**val**</span><span style=\"background-color: yellow;color: red\"><strong> ) </strong></span> - return the string representation of a value. <br>\n",
    "\n",
    "<br>\n",
    "\n"
   ]
  },
  {
   "cell_type": "code",
   "execution_count": 91,
   "id": "388f80c6-a6c3-473c-a889-7a814d611acd",
   "metadata": {},
   "outputs": [
    {
     "data": {
      "text/plain": [
       "10"
      ]
     },
     "execution_count": 91,
     "metadata": {},
     "output_type": "execute_result"
    }
   ],
   "source": [
    "int(\"10\")"
   ]
  },
  {
   "cell_type": "code",
   "execution_count": 92,
   "id": "950e5828-b4a6-4001-8674-66db3c96e815",
   "metadata": {},
   "outputs": [
    {
     "data": {
      "text/plain": [
       "10"
      ]
     },
     "execution_count": 92,
     "metadata": {},
     "output_type": "execute_result"
    }
   ],
   "source": [
    "int(10.5)"
   ]
  },
  {
   "cell_type": "code",
   "execution_count": 93,
   "id": "ab8d95c9-e57b-49f1-96b1-69c3fadf7e98",
   "metadata": {},
   "outputs": [
    {
     "ename": "ValueError",
     "evalue": "invalid literal for int() with base 10: '10.5'",
     "output_type": "error",
     "traceback": [
      "\u001b[1;31m---------------------------------------------------------------------------\u001b[0m",
      "\u001b[1;31mValueError\u001b[0m                                Traceback (most recent call last)",
      "Cell \u001b[1;32mIn[93], line 3\u001b[0m\n\u001b[0;32m      1\u001b[0m \u001b[38;5;66;03m# ValueError: invalid literal for int() with base 10: '10.5'\u001b[39;00m\n\u001b[1;32m----> 3\u001b[0m \u001b[38;5;28;43mint\u001b[39;49m\u001b[43m(\u001b[49m\u001b[38;5;124;43m\"\u001b[39;49m\u001b[38;5;124;43m10.5\u001b[39;49m\u001b[38;5;124;43m\"\u001b[39;49m\u001b[43m)\u001b[49m\n",
      "\u001b[1;31mValueError\u001b[0m: invalid literal for int() with base 10: '10.5'"
     ]
    }
   ],
   "source": [
    "# ValueError: invalid literal for int() with base 10: '10.5'\n",
    "\n",
    "int(\"10.5\")"
   ]
  },
  {
   "cell_type": "code",
   "execution_count": 94,
   "id": "05051887-5195-4a5d-8f90-27b4f591b41b",
   "metadata": {},
   "outputs": [
    {
     "ename": "ValueError",
     "evalue": "invalid literal for int() with base 10: 'ten'",
     "output_type": "error",
     "traceback": [
      "\u001b[1;31m---------------------------------------------------------------------------\u001b[0m",
      "\u001b[1;31mValueError\u001b[0m                                Traceback (most recent call last)",
      "Cell \u001b[1;32mIn[94], line 3\u001b[0m\n\u001b[0;32m      1\u001b[0m \u001b[38;5;66;03m# ValueError: invalid literal for int() with base 10: 'ten'\u001b[39;00m\n\u001b[1;32m----> 3\u001b[0m \u001b[38;5;28;43mint\u001b[39;49m\u001b[43m(\u001b[49m\u001b[38;5;124;43m\"\u001b[39;49m\u001b[38;5;124;43mten\u001b[39;49m\u001b[38;5;124;43m\"\u001b[39;49m\u001b[43m)\u001b[49m\n",
      "\u001b[1;31mValueError\u001b[0m: invalid literal for int() with base 10: 'ten'"
     ]
    }
   ],
   "source": [
    "# ValueError: invalid literal for int() with base 10: 'ten'\n",
    "\n",
    "int(\"ten\")"
   ]
  },
  {
   "cell_type": "code",
   "execution_count": 95,
   "id": "15d831f7-ea6e-46ab-b80d-ed160041c07c",
   "metadata": {},
   "outputs": [
    {
     "data": {
      "text/plain": [
       "10.0"
      ]
     },
     "execution_count": 95,
     "metadata": {},
     "output_type": "execute_result"
    }
   ],
   "source": [
    "float(10)"
   ]
  },
  {
   "cell_type": "code",
   "execution_count": 96,
   "id": "79e18b98-0614-447d-8905-033860b66934",
   "metadata": {},
   "outputs": [
    {
     "data": {
      "text/plain": [
       "10.0"
      ]
     },
     "execution_count": 96,
     "metadata": {},
     "output_type": "execute_result"
    }
   ],
   "source": [
    "float(\"10\")"
   ]
  },
  {
   "cell_type": "code",
   "execution_count": 97,
   "id": "f3a9a586-ace5-41ec-88da-4c15008840b2",
   "metadata": {},
   "outputs": [
    {
     "data": {
      "text/plain": [
       "10.5"
      ]
     },
     "execution_count": 97,
     "metadata": {},
     "output_type": "execute_result"
    }
   ],
   "source": [
    "float(\"10.5\")"
   ]
  },
  {
   "cell_type": "code",
   "execution_count": 98,
   "id": "5cb1a836-665f-4289-8a61-1df0c2567f84",
   "metadata": {},
   "outputs": [
    {
     "ename": "ValueError",
     "evalue": "could not convert string to float: 'ten'",
     "output_type": "error",
     "traceback": [
      "\u001b[1;31m---------------------------------------------------------------------------\u001b[0m",
      "\u001b[1;31mValueError\u001b[0m                                Traceback (most recent call last)",
      "Cell \u001b[1;32mIn[98], line 1\u001b[0m\n\u001b[1;32m----> 1\u001b[0m \u001b[38;5;28;43mfloat\u001b[39;49m\u001b[43m(\u001b[49m\u001b[38;5;124;43m\"\u001b[39;49m\u001b[38;5;124;43mten\u001b[39;49m\u001b[38;5;124;43m\"\u001b[39;49m\u001b[43m)\u001b[49m\n",
      "\u001b[1;31mValueError\u001b[0m: could not convert string to float: 'ten'"
     ]
    }
   ],
   "source": [
    "float(\"ten\")"
   ]
  },
  {
   "cell_type": "code",
   "execution_count": 99,
   "id": "da70d780-1f7a-47b3-9ae3-43617c6712ba",
   "metadata": {},
   "outputs": [
    {
     "data": {
      "text/plain": [
       "True"
      ]
     },
     "execution_count": 99,
     "metadata": {},
     "output_type": "execute_result"
    }
   ],
   "source": [
    "bool(4)"
   ]
  },
  {
   "cell_type": "code",
   "execution_count": 100,
   "id": "8d61725c-35dc-43c8-9baf-33c07695ce75",
   "metadata": {},
   "outputs": [
    {
     "data": {
      "text/plain": [
       "True"
      ]
     },
     "execution_count": 100,
     "metadata": {},
     "output_type": "execute_result"
    }
   ],
   "source": [
    "bool(\"4\")"
   ]
  },
  {
   "cell_type": "code",
   "execution_count": 101,
   "id": "f2647376-366d-4f0c-a84a-a8337fb4d96f",
   "metadata": {},
   "outputs": [
    {
     "data": {
      "text/plain": [
       "False"
      ]
     },
     "execution_count": 101,
     "metadata": {},
     "output_type": "execute_result"
    }
   ],
   "source": [
    "bool(\"\")"
   ]
  },
  {
   "cell_type": "code",
   "execution_count": 102,
   "id": "01c29edc-8f6a-4b4f-8e71-fe23193d43ef",
   "metadata": {},
   "outputs": [
    {
     "data": {
      "text/plain": [
       "False"
      ]
     },
     "execution_count": 102,
     "metadata": {},
     "output_type": "execute_result"
    }
   ],
   "source": [
    "bool([])"
   ]
  },
  {
   "cell_type": "code",
   "execution_count": 103,
   "id": "8dae2944-60c2-4c0b-8a55-08f73d649f79",
   "metadata": {},
   "outputs": [
    {
     "data": {
      "text/plain": [
       "False"
      ]
     },
     "execution_count": 103,
     "metadata": {},
     "output_type": "execute_result"
    }
   ],
   "source": [
    "bool({})"
   ]
  },
  {
   "cell_type": "code",
   "execution_count": null,
   "id": "ec45c113-51d0-4fd2-a388-8934c93e9540",
   "metadata": {},
   "outputs": [],
   "source": []
  },
  {
   "cell_type": "markdown",
   "id": "d256c1e3-7920-41fc-8db6-8eaf57b04970",
   "metadata": {},
   "source": [
    "<br>\n",
    "\n",
    "\n",
    "================================================================================================================\n",
    "<br>\n",
    "\n",
    "<br>\n",
    "\n",
    "<span style=\"background-color: yellow;color: red\"><strong> int( </strong></span><span style=\"color: blue\">**str**</span><span style=\"background-color: yellow;color: red\"><strong> ) </strong></span>\n",
    "\n",
    "<br>"
   ]
  },
  {
   "cell_type": "code",
   "execution_count": 104,
   "id": "368d506a-8bab-495d-aa8f-5890a361d92d",
   "metadata": {},
   "outputs": [
    {
     "name": "stdout",
     "output_type": "stream",
     "text": [
      "3\n"
     ]
    },
    {
     "ename": "ValueError",
     "evalue": "invalid literal for int() with base 10: 'five'",
     "output_type": "error",
     "traceback": [
      "\u001b[1;31m---------------------------------------------------------------------------\u001b[0m",
      "\u001b[1;31mValueError\u001b[0m                                Traceback (most recent call last)",
      "Cell \u001b[1;32mIn[104], line 6\u001b[0m\n\u001b[0;32m      2\u001b[0m \u001b[38;5;28mprint\u001b[39m(\u001b[38;5;28mint\u001b[39m(\u001b[38;5;241m3.14\u001b[39m))                      \u001b[38;5;66;03m# Output: 3\u001b[39;00m\n\u001b[0;32m      5\u001b[0m \u001b[38;5;66;03m# convert a STRING to an INTEGER\u001b[39;00m\n\u001b[1;32m----> 6\u001b[0m \u001b[38;5;28mprint\u001b[39m(\u001b[38;5;28;43mint\u001b[39;49m\u001b[43m(\u001b[49m\u001b[38;5;124;43m'\u001b[39;49m\u001b[38;5;124;43mfive\u001b[39;49m\u001b[38;5;124;43m'\u001b[39;49m\u001b[43m)\u001b[49m)                    \u001b[38;5;66;03m# ValueError: invalid literal for int() with base 10: 'five'\u001b[39;00m\n\u001b[0;32m      7\u001b[0m \u001b[38;5;28mprint\u001b[39m(\u001b[38;5;28mint\u001b[39m(\u001b[38;5;124m\"\u001b[39m\u001b[38;5;124m5\u001b[39m\u001b[38;5;124m\"\u001b[39m))                       \u001b[38;5;66;03m# Output: 5\u001b[39;00m\n\u001b[0;32m     10\u001b[0m \u001b[38;5;66;03m# convert a BOOLEAN to an INTEGER\u001b[39;00m\n",
      "\u001b[1;31mValueError\u001b[0m: invalid literal for int() with base 10: 'five'"
     ]
    }
   ],
   "source": [
    "# convert a FLOAT to an INTEGER\n",
    "print(int(3.14))                      # Output: 3\n",
    "\n",
    "\n",
    "# convert a STRING to an INTEGER\n",
    "print(int('five'))                    # ValueError: invalid literal for int() with base 10: 'five'\n",
    "print(int(\"5\"))                       # Output: 5\n",
    "\n",
    "\n",
    "# convert a BOOLEAN to an INTEGER\n",
    "print(int(True))                      # Output: 1\n",
    "\n",
    "\n",
    "# convert a LIST to an INTEGER\n",
    "print(int([1,2,3]))                   # Output: TypeError: int() argument must be a string, a bytes-like object or a real number, not 'list'\n",
    "\n",
    "\n",
    "# convert an INTEGER to an INTEGER\n",
    "print(int(10))                        # Output: 10\n"
   ]
  },
  {
   "cell_type": "markdown",
   "id": "989e435f-4a0a-4924-a802-a0846b10ae18",
   "metadata": {},
   "source": [
    "<br>\n",
    "\n",
    "<br>\n",
    "\n",
    "<span style=\"background-color: #CAFEFD\"> However, it's important to note that if you **overwrite** the built-in '<span style=\"background-color: #CAFEFD;color: red\">**int**</span>' function with some value (**assigned to a variable named '<span style=\"background-color: #CAFEFD;color: red\">int</span>'**), you might encounter a '<span style=\"background-color: yellow;color: red\">**TypeError**</span>' when trying to call '<span style=\"background-color: #CAFEFD;color: red\">**int()**</span>.'</span>\n",
    "\n",
    "For Example:\n"
   ]
  },
  {
   "cell_type": "code",
   "execution_count": 105,
   "id": "cb805e8d-f751-4cee-9c49-c41564feab8e",
   "metadata": {},
   "outputs": [],
   "source": [
    "int = 5"
   ]
  },
  {
   "cell_type": "markdown",
   "id": "18a27a44-e09c-493f-bb66-c223333a1499",
   "metadata": {},
   "source": [
    "<br>\n",
    "\n",
    "As soon as the Python Interpreter interprets the **data type** of the value <span style=\"color: red\">**5**</span> assigned, it first creates an <span style=\"background-color: yellow\">**int object** (inside a portion of the RAM allocated for the **HEAP**) holding the value <span style=\"color: red\">**5**</span></span> and then creates a <span style=\"background-color: yellow\">**variable** (inside another portion of the RAM allocated for the **STACK**) with the name <span style=\"color: blue\"> **int** </span> for holding the <span style=\"color: red\">**address**</span> of this **int object**</span>.\n",
    "\n",
    "<br>\n"
   ]
  },
  {
   "cell_type": "code",
   "execution_count": 106,
   "id": "ed15abf7-f950-4fe1-8fd6-0ee26b0cd653",
   "metadata": {},
   "outputs": [
    {
     "ename": "TypeError",
     "evalue": "'int' object is not callable",
     "output_type": "error",
     "traceback": [
      "\u001b[1;31m---------------------------------------------------------------------------\u001b[0m",
      "\u001b[1;31mTypeError\u001b[0m                                 Traceback (most recent call last)",
      "Cell \u001b[1;32mIn[106], line 2\u001b[0m\n\u001b[0;32m      1\u001b[0m \u001b[38;5;66;03m# convert a FLOAT to an INTEGER\u001b[39;00m\n\u001b[1;32m----> 2\u001b[0m \u001b[38;5;28mprint\u001b[39m(\u001b[38;5;28;43mint\u001b[39;49m\u001b[43m(\u001b[49m\u001b[38;5;241;43m3.14\u001b[39;49m\u001b[43m)\u001b[49m)                     \u001b[38;5;66;03m# TypeError: 'int' object is not callable\u001b[39;00m\n\u001b[0;32m      5\u001b[0m \u001b[38;5;66;03m# convert a STRING to an INTEGER\u001b[39;00m\n\u001b[0;32m      6\u001b[0m \u001b[38;5;28mprint\u001b[39m(\u001b[38;5;28mint\u001b[39m(\u001b[38;5;124m'\u001b[39m\u001b[38;5;124mfive\u001b[39m\u001b[38;5;124m'\u001b[39m))                   \u001b[38;5;66;03m# TypeError: 'int' object is not callable\u001b[39;00m\n",
      "\u001b[1;31mTypeError\u001b[0m: 'int' object is not callable"
     ]
    }
   ],
   "source": [
    "# convert a FLOAT to an INTEGER\n",
    "print(int(3.14))                     # TypeError: 'int' object is not callable\n",
    "\n",
    "\n",
    "# convert a STRING to an INTEGER\n",
    "print(int('five'))                   # TypeError: 'int' object is not callable\n",
    "print(int(\"5\"))                      # TypeError: 'int' object is not callable\n",
    "\n",
    "\n",
    "# convert a BOOLEAN to an INTEGER\n",
    "print(int(True))                     # TypeError: 'int' object is not callable\n",
    "\n",
    "\n",
    "# convert a LIST to an INTEGER\n",
    "print(int([1,2,3]))                  # TypeError: 'int' object is not callable\n",
    "\n",
    "\n",
    "# convert an INTEGER to an INTEGER\n",
    "print(int(10))                       # TypeError: 'int' object is not callable          # even FLOAT ⇒ FLOAT throws error\n"
   ]
  },
  {
   "cell_type": "code",
   "execution_count": null,
   "id": "62226bdb-9c00-4152-9d68-8b37631f3972",
   "metadata": {},
   "outputs": [],
   "source": []
  },
  {
   "cell_type": "markdown",
   "id": "38c268d4-b236-4dc3-95c8-1ae98af13bbe",
   "metadata": {},
   "source": [
    "<br>\n",
    "\n",
    "\n",
    "================================================================================================================\n",
    "<br>\n",
    "\n",
    "<br>\n",
    "\n",
    "<span style=\"background-color: yellow;color: red\"><strong> float( </strong></span><span style=\"color: blue\">**str**</span><span style=\"background-color: yellow;color: red\"><strong> ) </strong></span>\n",
    "\n",
    "<br>"
   ]
  },
  {
   "cell_type": "code",
   "execution_count": 107,
   "id": "3867e6a0-ba23-45ac-9592-0d4bf47a787a",
   "metadata": {},
   "outputs": [
    {
     "name": "stdout",
     "output_type": "stream",
     "text": [
      "4.0\n"
     ]
    },
    {
     "ename": "ValueError",
     "evalue": "could not convert string to float: 'three point one four'",
     "output_type": "error",
     "traceback": [
      "\u001b[1;31m---------------------------------------------------------------------------\u001b[0m",
      "\u001b[1;31mValueError\u001b[0m                                Traceback (most recent call last)",
      "Cell \u001b[1;32mIn[107], line 6\u001b[0m\n\u001b[0;32m      2\u001b[0m \u001b[38;5;28mprint\u001b[39m(\u001b[38;5;28mfloat\u001b[39m(\u001b[38;5;241m4\u001b[39m))                        \u001b[38;5;66;03m# Output: 4.0\u001b[39;00m\n\u001b[0;32m      5\u001b[0m \u001b[38;5;66;03m# convert a STRING to a FLOAT\u001b[39;00m\n\u001b[1;32m----> 6\u001b[0m \u001b[38;5;28mprint\u001b[39m(\u001b[38;5;28;43mfloat\u001b[39;49m\u001b[43m(\u001b[49m\u001b[38;5;124;43m'\u001b[39;49m\u001b[38;5;124;43mthree point one four\u001b[39;49m\u001b[38;5;124;43m'\u001b[39;49m\u001b[43m)\u001b[49m)   \u001b[38;5;66;03m# ValueError: could not convert string to float: 'three point one four'\u001b[39;00m\n\u001b[0;32m      7\u001b[0m \u001b[38;5;28mprint\u001b[39m(\u001b[38;5;28mfloat\u001b[39m(\u001b[38;5;124m\"\u001b[39m\u001b[38;5;124m3.14\u001b[39m\u001b[38;5;124m\"\u001b[39m))                   \u001b[38;5;66;03m# Output: 3.14\u001b[39;00m\n\u001b[0;32m     10\u001b[0m \u001b[38;5;66;03m# convert a BOOLEAN to a FLOAT\u001b[39;00m\n",
      "\u001b[1;31mValueError\u001b[0m: could not convert string to float: 'three point one four'"
     ]
    }
   ],
   "source": [
    "# convert an INTEGER to a FLOAT\n",
    "print(float(4))                        # Output: 4.0\n",
    "\n",
    "\n",
    "# convert a STRING to a FLOAT\n",
    "print(float('three point one four'))   # ValueError: could not convert string to float: 'three point one four'\n",
    "print(float(\"3.14\"))                   # Output: 3.14\n",
    "\n",
    "\n",
    "# convert a BOOLEAN to a FLOAT\n",
    "print(float(True))                      # Output: 1.0\n",
    "\n",
    "\n",
    "# convert a LIST to a FLOAT\n",
    "print(float([1,2,3]))                  # TypeError: float() argument must be a string or a real number, not 'list'\n",
    "\n",
    "\n",
    "# convert a FLOAT to a FLOAT\n",
    "print(float(3.14))                     # Output: 3.14"
   ]
  },
  {
   "cell_type": "markdown",
   "id": "52600595-a6e5-48b4-9418-f3ed88092472",
   "metadata": {},
   "source": [
    "<br>\n",
    "\n",
    "<br>\n",
    "\n",
    "<span style=\"background-color: #CAFEFD\"> Now if you try to **overwrite** the built-in '<span style=\"background-color: #CAFEFD;color: red\">**float**</span>' function with some value (**assigned to a variable named '<span style=\"background-color: #CAFEFD;color: red\">float</span>'**), you might encounter a '<span style=\"background-color: yellow;color: red\">**TypeError**</span>' when trying to call '<span style=\"background-color: #CAFEFD;color: red\">**float()**</span>.'</span>\n",
    "\n",
    "For Example:\n"
   ]
  },
  {
   "cell_type": "code",
   "execution_count": 108,
   "id": "5611b894-ff21-466f-acc9-f8883e8c7211",
   "metadata": {},
   "outputs": [],
   "source": [
    "float = 3.14"
   ]
  },
  {
   "cell_type": "markdown",
   "id": "65e91209-16bb-46dc-b806-2e7891ff9095",
   "metadata": {},
   "source": [
    "<br>\n",
    "\n",
    "As soon as the Python Interpreter interprets the **data type** of the value <span style=\"color: red\">**3.14**</span> assigned, it first creates an <span style=\"background-color: yellow\">**int object** (inside a portion of the RAM allocated for the **HEAP**) holding the value <span style=\"color: red\">**3.14**</span></span> and then creates a <span style=\"background-color: yellow\">**variable** (inside another portion of the RAM allocated for the **STACK**) with the name <span style=\"color: blue\"> **float** </span> for holding the <span style=\"color: red\">**address**</span> of this **int object**</span>.\n",
    "\n",
    "<br>\n"
   ]
  },
  {
   "cell_type": "code",
   "execution_count": 109,
   "id": "32cef53a-6824-4dc8-9b51-36ac9f0f3f53",
   "metadata": {},
   "outputs": [
    {
     "ename": "TypeError",
     "evalue": "'float' object is not callable",
     "output_type": "error",
     "traceback": [
      "\u001b[1;31m---------------------------------------------------------------------------\u001b[0m",
      "\u001b[1;31mTypeError\u001b[0m                                 Traceback (most recent call last)",
      "Cell \u001b[1;32mIn[109], line 2\u001b[0m\n\u001b[0;32m      1\u001b[0m \u001b[38;5;66;03m# convert an INTEGER to a FLOAT\u001b[39;00m\n\u001b[1;32m----> 2\u001b[0m \u001b[38;5;28mprint\u001b[39m(\u001b[38;5;28;43mfloat\u001b[39;49m\u001b[43m(\u001b[49m\u001b[38;5;241;43m4\u001b[39;49m\u001b[43m)\u001b[49m)                        \u001b[38;5;66;03m# TypeError: 'float' object is not callable\u001b[39;00m\n\u001b[0;32m      5\u001b[0m \u001b[38;5;66;03m# convert a STRING to a FLOAT\u001b[39;00m\n\u001b[0;32m      6\u001b[0m \u001b[38;5;28mprint\u001b[39m(\u001b[38;5;28mfloat\u001b[39m(\u001b[38;5;124m'\u001b[39m\u001b[38;5;124mthree point one four\u001b[39m\u001b[38;5;124m'\u001b[39m))   \u001b[38;5;66;03m# TypeError: 'float' object is not callable\u001b[39;00m\n",
      "\u001b[1;31mTypeError\u001b[0m: 'float' object is not callable"
     ]
    }
   ],
   "source": [
    "# convert an INTEGER to a FLOAT\n",
    "print(float(4))                        # TypeError: 'float' object is not callable\n",
    "\n",
    "\n",
    "# convert a STRING to a FLOAT\n",
    "print(float('three point one four'))   # TypeError: 'float' object is not callable\n",
    "print(float(\"3.14\"))                   # TypeError: 'float' object is not callable\n",
    "\n",
    "\n",
    "# convert a BOOLEAN to a FLOAT\n",
    "print(float(True))                    # TypeError: 'float' object is not callable\n",
    "\n",
    "\n",
    "# convert a LIST to a FLOAT\n",
    "print(float([1,2,3]))                  # TypeError: 'float' object is not callable\n",
    "\n",
    "\n",
    "# convert a FLOAT to a FLOAT\n",
    "print(float(3.14))                     # TypeError: 'float' object is not callable          # even FLOAT ⇒ FLOAT throws error"
   ]
  },
  {
   "cell_type": "code",
   "execution_count": null,
   "id": "3372ac5d-d768-42a4-a137-e0bf2e74eec6",
   "metadata": {},
   "outputs": [],
   "source": []
  },
  {
   "cell_type": "markdown",
   "id": "857b4189-c412-4f99-9762-ffbe1b4dbb60",
   "metadata": {},
   "source": [
    "<br>\n",
    "\n",
    "\n",
    "================================================================================================================\n",
    "<br>\n",
    "\n",
    "<br>\n",
    "\n",
    "<span style=\"background-color: yellow;color: red\"><strong> bool( </strong></span><span style=\"color: blue\">**val**</span><span style=\"background-color: yellow;color: red\"><strong> ) </strong></span>\n",
    "\n",
    "<br>"
   ]
  },
  {
   "cell_type": "code",
   "execution_count": 110,
   "id": "4ab5ff6d-c133-46d8-87d8-c218ae5a3dfc",
   "metadata": {},
   "outputs": [
    {
     "name": "stdout",
     "output_type": "stream",
     "text": [
      "True\n",
      "True\n",
      "True\n",
      "True\n",
      "True\n",
      "True\n",
      "False\n"
     ]
    }
   ],
   "source": [
    "# convert an INTEGER to a BOOLEAN\n",
    "print(bool(4))                       # Output: True          # Because 4 is a truthy value\n",
    "\n",
    "\n",
    "# convert a FLOAT to a BOOLEAN\n",
    "print(bool(3.14))                    # Output: True          # Because 3.14 is a truthy value\n",
    "\n",
    "\n",
    "# convert a STRING to a BOOLEAN\n",
    "print(bool('true'))                  # Output: True          # Because 'true' is a truthy value\n",
    "print(bool('false'))                 # Output: True          # Because 'false' is a truthy value\n",
    "print(bool('Data Engineering'))      # Output: True          # Because 'Data Engineering' is a truthy value\n",
    "\n",
    "\n",
    "# convert a LIST to a BOOLEAN\n",
    "print(bool([1,2,3]))                 # Output: True          # Because [1,2,3] is a truthy value\n",
    "\n",
    "\n",
    "# convert a BOOLEAN to a BOOLEAN\n",
    "print(bool(False))                   # Output: False         # Because False is a falsy value"
   ]
  },
  {
   "cell_type": "markdown",
   "id": "4a258ab5-8632-4e7e-9995-bc0d0f85439a",
   "metadata": {},
   "source": [
    "<br>\n",
    "\n",
    "<br>\n",
    "\n",
    "<span style=\"background-color: #CAFEFD\"> Now if you try to **overwrite** the built-in '<span style=\"background-color: #CAFEFD;color: red\">**bool**</span>' function with some value (**assigned to a variable named '<span style=\"background-color: #CAFEFD;color: red\">bool</span>'**), you might encounter a '<span style=\"background-color: yellow;color: red\">**TypeError**</span>' when trying to call '<span style=\"background-color: #CAFEFD;color: red\">**bool()**</span>.'</span>\n",
    "\n",
    "For Example:\n"
   ]
  },
  {
   "cell_type": "code",
   "execution_count": 111,
   "id": "3db1c78a-4b6a-411d-8729-c2938dfec177",
   "metadata": {},
   "outputs": [],
   "source": [
    "bool = True"
   ]
  },
  {
   "cell_type": "markdown",
   "id": "a94f8d65-7359-4512-acbb-e788c695642b",
   "metadata": {},
   "source": [
    "<br>\n",
    "\n",
    "As soon as the Python Interpreter interprets the **data type** of the value <span style=\"color: red\">**True**</span> assigned, it first creates an <span style=\"background-color: yellow\">**int object** (inside a portion of the RAM allocated for the **HEAP**) holding the value <span style=\"color: red\">**True**</span></span> and then creates a <span style=\"background-color: yellow\">**variable** (inside another portion of the RAM allocated for the **STACK**) with the name <span style=\"color: blue\"> **bool** </span> for holding the <span style=\"color: red\">**address**</span> of this **int object**</span>.\n",
    "\n",
    "<br>\n",
    "\n"
   ]
  },
  {
   "cell_type": "code",
   "execution_count": 112,
   "id": "b58c1152-7c5f-44ce-9bb7-2e4ce1176899",
   "metadata": {},
   "outputs": [
    {
     "ename": "TypeError",
     "evalue": "'bool' object is not callable",
     "output_type": "error",
     "traceback": [
      "\u001b[1;31m---------------------------------------------------------------------------\u001b[0m",
      "\u001b[1;31mTypeError\u001b[0m                                 Traceback (most recent call last)",
      "Cell \u001b[1;32mIn[112], line 2\u001b[0m\n\u001b[0;32m      1\u001b[0m \u001b[38;5;66;03m# convert an INTEGER to a BOOLEAN\u001b[39;00m\n\u001b[1;32m----> 2\u001b[0m \u001b[38;5;28mprint\u001b[39m(\u001b[38;5;28;43mbool\u001b[39;49m\u001b[43m(\u001b[49m\u001b[38;5;241;43m4\u001b[39;49m\u001b[43m)\u001b[49m)                        \u001b[38;5;66;03m# TypeError: 'bool' object is not callable\u001b[39;00m\n\u001b[0;32m      5\u001b[0m \u001b[38;5;66;03m# convert a FLOAT to a BOOLEAN\u001b[39;00m\n\u001b[0;32m      6\u001b[0m \u001b[38;5;28mprint\u001b[39m(\u001b[38;5;28mbool\u001b[39m(\u001b[38;5;241m3.14\u001b[39m))                     \u001b[38;5;66;03m# TypeError: 'bool' object is not callable\u001b[39;00m\n",
      "\u001b[1;31mTypeError\u001b[0m: 'bool' object is not callable"
     ]
    }
   ],
   "source": [
    "# convert an INTEGER to a BOOLEAN\n",
    "print(bool(4))                        # TypeError: 'bool' object is not callable\n",
    "\n",
    "\n",
    "# convert a FLOAT to a BOOLEAN\n",
    "print(bool(3.14))                     # TypeError: 'bool' object is not callable\n",
    "\n",
    "\n",
    "# convert a STRING to a BOOLEAN\n",
    "print(bool('true'))                   # TypeError: 'bool' object is not callable\n",
    "print(bool('false'))                  # TypeError: 'bool' object is not callable\n",
    "print(bool('Data Engineering'))       # TypeError: 'bool' object is not callable  \n",
    "\n",
    "\n",
    "# convert a LIST to a BOOLEAN\n",
    "print(bool([1,2,3]))                  # TypeError: 'bool' object is not callable\n",
    "\n",
    "\n",
    "# convert a BOOLEAN to a BOOLEAN\n",
    "print(bool(False))                    # TypeError: 'bool' object is not callable          # even BOOLEAN ⇒ BOOLEAN throws error"
   ]
  },
  {
   "cell_type": "code",
   "execution_count": null,
   "id": "f6b5a521-0f78-4466-aacf-98c3320cdc48",
   "metadata": {},
   "outputs": [],
   "source": []
  },
  {
   "cell_type": "markdown",
   "id": "27ba5d28-6dc7-4879-9e0e-4bd568739949",
   "metadata": {},
   "source": [
    "<br>\n",
    "\n",
    "\n",
    "================================================================================================================\n",
    "<br>\n",
    "\n",
    "<br>\n",
    "\n",
    "<span style=\"background-color: yellow;color: red\"><strong> str( </strong></span><span style=\"color: blue\">**val**</span><span style=\"background-color: yellow;color: red\"><strong> ) </strong></span>\n",
    "\n",
    "<br>\n"
   ]
  },
  {
   "cell_type": "code",
   "execution_count": 113,
   "id": "fdecb1e3-43d1-42cd-82d8-a57b5cce8e33",
   "metadata": {},
   "outputs": [
    {
     "ename": "TypeError",
     "evalue": "'str' object is not callable",
     "output_type": "error",
     "traceback": [
      "\u001b[1;31m---------------------------------------------------------------------------\u001b[0m",
      "\u001b[1;31mTypeError\u001b[0m                                 Traceback (most recent call last)",
      "Cell \u001b[1;32mIn[113], line 2\u001b[0m\n\u001b[0;32m      1\u001b[0m \u001b[38;5;66;03m# convert an INTEGER to a STRING\u001b[39;00m\n\u001b[1;32m----> 2\u001b[0m \u001b[38;5;28mprint\u001b[39m(\u001b[38;5;28;43mstr\u001b[39;49m\u001b[43m(\u001b[49m\u001b[38;5;241;43m4\u001b[39;49m\u001b[43m)\u001b[49m)                            \u001b[38;5;66;03m# Output: 4\u001b[39;00m\n\u001b[0;32m      5\u001b[0m \u001b[38;5;66;03m# convert a FLOAT to a STRING\u001b[39;00m\n\u001b[0;32m      6\u001b[0m \u001b[38;5;28mprint\u001b[39m(\u001b[38;5;28mstr\u001b[39m(\u001b[38;5;241m3.14\u001b[39m))                         \u001b[38;5;66;03m# Output: 3.14\u001b[39;00m\n",
      "\u001b[1;31mTypeError\u001b[0m: 'str' object is not callable"
     ]
    }
   ],
   "source": [
    "# convert an INTEGER to a STRING\n",
    "print(str(4))                            # Output: 4\n",
    "\n",
    "\n",
    "# convert a FLOAT to a STRING\n",
    "print(str(3.14))                         # Output: 3.14\n",
    "\n",
    "\n",
    "# convert a BOOLEAN to a STRING\n",
    "print(str(True))                         # Output: True\n",
    "\n",
    "\n",
    "# convert a LIST to a STRING\n",
    "print(str([1,2,3]))                      # Output: [1,2,3]\n",
    "\n",
    "\n",
    "# convert a STRING to a STRING\n",
    "print(str(\"Data Engineering is fun\"))   # Output: Data Engineering is fun\n",
    "print(str(\"Data Science is also fun\"))  # Output: Data Engineering is also fun\n",
    "print(str(\"three point one four\"))        # Output: three point one four\n",
    "print(str(\"3.14\"))                      # Output: 3.14"
   ]
  },
  {
   "cell_type": "markdown",
   "id": "5d39aea1-30c0-4235-8419-6023fdf44f0b",
   "metadata": {},
   "source": [
    "<br>\n",
    "\n",
    "<br>\n",
    "\n",
    "<span style=\"background-color: #CAFEFD\"> Now if you try to **overwrite** the built-in '<span style=\"background-color: #CAFEFD;color: red\">**str**</span>' function with some value (**assigned to a variable named '<span style=\"background-color: #CAFEFD;color: red\">str</span>'**), you might encounter a '<span style=\"background-color: yellow;color: red\">**TypeError**</span>' when trying to call '<span style=\"background-color: #CAFEFD;color: red\">**str()**</span>.'</span>\n",
    "\n",
    "For Example:"
   ]
  },
  {
   "cell_type": "code",
   "execution_count": 114,
   "id": "95301a74-96af-43ab-83df-ec1bff0fae1d",
   "metadata": {},
   "outputs": [],
   "source": [
    "str = \"Data Engineering is fun.\""
   ]
  },
  {
   "cell_type": "markdown",
   "id": "2ec62c9d-1b58-4e7f-b5eb-3fcd8802ca24",
   "metadata": {},
   "source": [
    "<br>\n",
    "\n",
    "As soon as the Python Interpreter interprets the **data type** of the value <span style=\"color: red\">**\"Data Engineering is fun\"**</span> assigned, it first creates an <span style=\"background-color: yellow\">**int object** (inside a portion of the RAM allocated for the **HEAP**) holding the value <span style=\"color: red\">**\"Data Engineering is Fun\"**</span></span> and then creates a <span style=\"background-color: yellow\">**variable** (inside another portion of the RAM allocated for the **STACK**) with the name <span style=\"color: blue\"> **str** </span> for holding the <span style=\"color: red\">**address**</span> of this **int object**</span>.\n",
    "\n",
    "<br>"
   ]
  },
  {
   "cell_type": "code",
   "execution_count": 115,
   "id": "973757f2-1874-483f-b842-34d080e47826",
   "metadata": {},
   "outputs": [
    {
     "ename": "TypeError",
     "evalue": "'str' object is not callable",
     "output_type": "error",
     "traceback": [
      "\u001b[1;31m---------------------------------------------------------------------------\u001b[0m",
      "\u001b[1;31mTypeError\u001b[0m                                 Traceback (most recent call last)",
      "Cell \u001b[1;32mIn[115], line 2\u001b[0m\n\u001b[0;32m      1\u001b[0m \u001b[38;5;66;03m# convert an INTEGER to a STRING\u001b[39;00m\n\u001b[1;32m----> 2\u001b[0m \u001b[38;5;28mprint\u001b[39m(\u001b[38;5;28;43mstr\u001b[39;49m\u001b[43m(\u001b[49m\u001b[38;5;241;43m4\u001b[39;49m\u001b[43m)\u001b[49m)                            \u001b[38;5;66;03m# TypeError: 'str' object is not callable\u001b[39;00m\n\u001b[0;32m      5\u001b[0m \u001b[38;5;66;03m# convert a FLOAT to a STRING\u001b[39;00m\n\u001b[0;32m      6\u001b[0m \u001b[38;5;28mprint\u001b[39m(\u001b[38;5;28mstr\u001b[39m(\u001b[38;5;241m3.14\u001b[39m))                         \u001b[38;5;66;03m# TypeError: 'str' object is not callable\u001b[39;00m\n",
      "\u001b[1;31mTypeError\u001b[0m: 'str' object is not callable"
     ]
    }
   ],
   "source": [
    "# convert an INTEGER to a STRING\n",
    "print(str(4))                            # TypeError: 'str' object is not callable\n",
    "\n",
    "\n",
    "# convert a FLOAT to a STRING\n",
    "print(str(3.14))                         # TypeError: 'str' object is not callable\n",
    "\n",
    "\n",
    "# convert a BOOLEAN to a STRING\n",
    "print(str(True))                         # TypeError: 'str' object is not callable\n",
    "\n",
    "\n",
    "# convert a LIST to a STRING\n",
    "print(str([1,2,3]))                      # TypeError: 'str' object is not callable\n",
    "\n",
    "\n",
    "# convert a STRING to a STRING\n",
    "print(str(\"Data Science is also fun\"))   # TypeError: 'str' object is not callable\n",
    "print(str(\"Data Science is also fun\"))   # TypeError: 'str' object is not callable\n",
    "print(str(\"three point one four\"))       # TypeError: 'str' object is not callable\n",
    "print(str(\"3.14\"))                       # TypeError: 'str' object is not callable"
   ]
  },
  {
   "cell_type": "code",
   "execution_count": null,
   "id": "c8431310-3711-4485-aa83-8f5a3c56a542",
   "metadata": {},
   "outputs": [],
   "source": []
  },
  {
   "cell_type": "markdown",
   "id": "2882319d-b799-42f1-b6f0-626597a66495",
   "metadata": {},
   "source": [
    "<br>\n",
    "\n",
    "<span style=\"background-color: #C9FF71;color: black\">**Note**</span> :-\n",
    "\n",
    "<div style=\"margin-left: 20px\">\n",
    "\n",
    "You can <span style=\"color: blue\">**avoid**</span> these kind of <span style=\"background-color: yellow;color: red\">**TypeError**</span>s and <span style=\"color: blue\">**restore**</span> the original functionality of these **Type Conversion Functions** <span style=\"color: red\">**int()**</span>, <span style=\"color: red\">**float()**</span>, <span style=\"color: red\">**boolean()**</span> and <span style=\"color: red\">**str()**</span>\n",
    "by <span style=\"color: blue\">**deleting the variable you've assigned**</span>.\n",
    "\n",
    "</div>\n"
   ]
  },
  {
   "cell_type": "code",
   "execution_count": 116,
   "id": "3f857870-336c-4eae-a5c6-49041b999914",
   "metadata": {},
   "outputs": [
    {
     "name": "stdout",
     "output_type": "stream",
     "text": [
      "3\n",
      "5\n",
      "1\n",
      "10\n"
     ]
    }
   ],
   "source": [
    "int = 5                               # creating a variable with the name int to point to the int object holding the value 5 \n",
    "\n",
    "del int                               # deleting the variable assigned\n",
    "\n",
    "\n",
    "# convert a FLOAT to an INTEGER\n",
    "print(int(3.14))                      # Output: 3\n",
    "\n",
    "\n",
    "# convert a STRING to an INTEGER\n",
    "#print(int('five'))                   # ValueError: invalid literal for int() with base 10: 'five'\n",
    "print(int(\"5\"))                       # Output: 5\n",
    "\n",
    "\n",
    "# convert a BOOLEAN to an INTEGER\n",
    "print(int(True))                      # Output: 1\n",
    "\n",
    "\n",
    "# convert a LIST to an INTEGER\n",
    "#print(int([1,2,3]))                   # TypeError: int() argument must be a string, a bytes-like object or a real number, not 'list'\n",
    "\n",
    "\n",
    "# convert an INTEGER to an INTEGER\n",
    "print(int(10))                         # Output: 10\n",
    "\n"
   ]
  },
  {
   "cell_type": "code",
   "execution_count": 117,
   "id": "15604a45-97f1-4008-af8a-9bf73c9c84be",
   "metadata": {},
   "outputs": [
    {
     "name": "stdout",
     "output_type": "stream",
     "text": [
      "4.0\n",
      "3.14\n",
      "1.0\n",
      "3.14\n"
     ]
    }
   ],
   "source": [
    "float = 3.14                           # creating a variable with the name float to point to the float object holding the value 3.14 \n",
    "\n",
    "\n",
    "del float                              # deleting the variable assigned\n",
    "\n",
    "\n",
    "# convert an INTEGER to a FLOAT\n",
    "print(float(4))                        # Output: 4.0\n",
    "\n",
    "\n",
    "# convert a STRING to a FLOAT\n",
    "#print(float('three point one four'))   # ValueError: could not convert string to float: 'three point one four'\n",
    "print(float(\"3.14\"))                   # Output: 3.14\n",
    "\n",
    "\n",
    "# convert a BOOLEAN to a FLOAT\n",
    "print(float(True))                      # Output: 1.0\n",
    "\n",
    "\n",
    "# convert a LIST to a FLOAT\n",
    "#print(float([1,2,3]))                  # TypeError: float() argument must be a string or a real number, not 'list'\n",
    "\n",
    "\n",
    "# convert a FLOAT to a FLOAT\n",
    "print(float(3.14))                     # Output: 3.14"
   ]
  },
  {
   "cell_type": "code",
   "execution_count": 118,
   "id": "4cf647a5-105d-49ad-84f1-f48eef94185e",
   "metadata": {},
   "outputs": [
    {
     "name": "stdout",
     "output_type": "stream",
     "text": [
      "True\n",
      "True\n",
      "True\n",
      "True\n",
      "True\n",
      "True\n",
      "False\n"
     ]
    }
   ],
   "source": [
    "bool = True                          # creating a variable with the name bool to point to the bool object holding the value True \n",
    "\n",
    "\n",
    "del bool                             # deleting the variable assigned\n",
    "\n",
    "\n",
    "# convert an INTEGER to a BOOLEAN\n",
    "print(bool(4))                       # Output: True          # Because 4 is a truthy value\n",
    "\n",
    "\n",
    "# convert a FLOAT to a BOOLEAN\n",
    "print(bool(3.14))                    # Output: True          # Because 3.14 is a truthy value\n",
    "\n",
    "\n",
    "# convert a STRING to a BOOLEAN\n",
    "print(bool('true'))                  # Output: True          # Because 'true' is a truthy value\n",
    "print(bool('false'))                 # Output: True          # Because 'false' is a truthy value\n",
    "print(bool('Data Engineering'))      # Output: True          # Because 'Data Engineering' is a truthy value\n",
    "\n",
    "\n",
    "# convert a LIST to a BOOLEAN\n",
    "print(bool([1,2,3]))                 # Output: True          # Because [1,2,3] is a truthy value\n",
    "\n",
    "\n",
    "# convert a BOOLEAN to a BOOLEAN\n",
    "print(bool(False))                   # Output: False         # Because False is a falsy value"
   ]
  },
  {
   "cell_type": "code",
   "execution_count": 119,
   "id": "8ad9c7cd-fd65-44b1-b58e-3aa9189527f8",
   "metadata": {},
   "outputs": [
    {
     "name": "stdout",
     "output_type": "stream",
     "text": [
      "4\n",
      "3.14\n",
      "True\n",
      "[1, 2, 3]\n",
      "Data Science is also fun\n",
      "three point one four\n",
      "3.14\n"
     ]
    }
   ],
   "source": [
    "str = \"Data Engineering is fun.\"         # creating a variable with the name str to point to the str object holding the value \"Data Engineering is fun\"\n",
    "\n",
    "\n",
    "del str                                  # deleting the variable assigned\n",
    "\n",
    "\n",
    "# convert an INTEGER to a STRING\n",
    "print(str(4))                            # Output: 4\n",
    "\n",
    "\n",
    "# convert a FLOAT to a STRING\n",
    "print(str(3.14))                         # Output: 3.14\n",
    "\n",
    "\n",
    "# convert a BOOLEAN to a STRING\n",
    "print(str(True))                         # Output: True\n",
    "\n",
    "\n",
    "# convert a LIST to a STRING\n",
    "print(str([1,2,3]))                      # Output: [1,2,3]\n",
    "\n",
    "\n",
    "# convert a STRING to a STRING\n",
    "print(str(\"Data Science is also fun\"))   # Output: Data Science is also fun\n",
    "print(str(\"three point one four\"))       # Output: three point one four\n",
    "print(str(\"3.14\"))                       # Output: 3.14"
   ]
  },
  {
   "cell_type": "code",
   "execution_count": null,
   "id": "6790eeb6-3156-41a0-b8e2-95ba1410797b",
   "metadata": {},
   "outputs": [],
   "source": []
  },
  {
   "cell_type": "markdown",
   "id": "eb682925-3633-4745-b5cf-c72940f2422a",
   "metadata": {},
   "source": [
    "<br>\n",
    "\n",
    "### 3. <span style=\"background-color: yellow;\">Getting the type of a value</span> <br>\n",
    "\n",
    "We already saw previously that to get the type of value, you use the <span style=\"background-color: yellow;color:red\"><strong>&nbsp;type(&nbsp;</strong></span>&nbsp;**value**&nbsp;<span style=\"background-color: yellow;color:red\"><strong>&nbsp;)&nbsp;</strong></span> function. For example:"
   ]
  },
  {
   "cell_type": "code",
   "execution_count": 120,
   "id": "809b052b-dc47-49c3-a5e8-e021f2789a39",
   "metadata": {},
   "outputs": [
    {
     "data": {
      "text/plain": [
       "int"
      ]
     },
     "execution_count": 120,
     "metadata": {},
     "output_type": "execute_result"
    }
   ],
   "source": [
    "type(100)"
   ]
  },
  {
   "cell_type": "code",
   "execution_count": 121,
   "id": "ffd2c09c-c029-4b16-85c8-3fc57b16267a",
   "metadata": {},
   "outputs": [
    {
     "data": {
      "text/plain": [
       "float"
      ]
     },
     "execution_count": 121,
     "metadata": {},
     "output_type": "execute_result"
    }
   ],
   "source": [
    "type(2.0)"
   ]
  },
  {
   "cell_type": "code",
   "execution_count": 122,
   "id": "96c1c99d-371f-412e-a838-ff9a7fa8a097",
   "metadata": {},
   "outputs": [
    {
     "data": {
      "text/plain": [
       "str"
      ]
     },
     "execution_count": 122,
     "metadata": {},
     "output_type": "execute_result"
    }
   ],
   "source": [
    "type('Hello')"
   ]
  },
  {
   "cell_type": "code",
   "execution_count": 123,
   "id": "85035812-1aba-41e3-95ad-d1ab5724a929",
   "metadata": {},
   "outputs": [
    {
     "data": {
      "text/plain": [
       "bool"
      ]
     },
     "execution_count": 123,
     "metadata": {},
     "output_type": "execute_result"
    }
   ],
   "source": [
    "type(True)"
   ]
  },
  {
   "cell_type": "markdown",
   "id": "39c9ea47-02ea-4e84-abb2-9ca1410a46d6",
   "metadata": {},
   "source": [
    "<br>\n",
    "\n",
    "\n",
    "<span style=\"background-color: #C9FF71;color: black\">**Note**</span> :-\n",
    "\n",
    "&nbsp;&nbsp;&nbsp;&nbsp;&nbsp;&nbsp; We will learn more about it in the topic <span style=\"color: blue\">**class**</span> later.\n",
    "\n",
    "<br>\n",
    "\n",
    "<br>\n",
    "\n",
    "### <span style=\"background-color: #CAFEFD;\">Summary :</span>\n",
    "\n",
    "<br>\n",
    "\n",
    "\n",
    "&nbsp;&nbsp;&nbsp;&nbsp;&nbsp;&nbsp;⇒ Use the <span style=\"background-color: yellow;color: red\"> **input()**</span> function to **get an input string** from users. <br>\n",
    "&nbsp;&nbsp;&nbsp;&nbsp;&nbsp;&nbsp;⇒ Use <span style=\"color: blue\"> **type conversion functions**</span> such as <span style=\"background-color: yellow;color: red\"> **int()**</span>, <span style=\"background-color: yellow;color: red\"> **float()**</span>, <span style=\"background-color: yellow;color: red\"> **bool()**</span>, and <span style=\"background-color: yellow;color: red\"> **str()**</span> to **convert a value from one type to another**. <br>\n",
    "&nbsp;&nbsp;&nbsp;&nbsp;&nbsp;&nbsp;⇒ Use the <span style=\"background-color: yellow;color: red\"> **type()**</span> function to get the **type of a value**.\n",
    "\n",
    "\n",
    "<br>"
   ]
  },
  {
   "cell_type": "code",
   "execution_count": null,
   "id": "7db8f23b-cf6d-42ed-9314-62b12fccda7d",
   "metadata": {},
   "outputs": [],
   "source": []
  },
  {
   "cell_type": "markdown",
   "id": "f12de1fd-41b4-4ed0-a299-957c71009f64",
   "metadata": {},
   "source": [
    "<br>\n",
    "\n",
    "# <u>Debugging in Python</u>\n",
    "\n",
    "<br> \n",
    "\n",
    "##### 1. using <span style=\"background-color: white;color:red\">**print()**</span> statement\n",
    "##### 2. using <span style=\"color:red\">**logging**</span> statement\n",
    "##### 3. using <span style=\"color:red\">**logger.info()**</span> statement from <span style=\"color: blue\"> **loguru**</span> module\n",
    "\n",
    "<br>\n"
   ]
  },
  {
   "cell_type": "markdown",
   "id": "78e2af9e-46ad-4ed7-be9d-02a52fdabdd5",
   "metadata": {},
   "source": [
    "#### <span style=\"background-color: yellow\">How <span style=\"color:red\">**print()**</span> statement is used for debugging?</span> \n",
    "\n",
    "<br>\n"
   ]
  },
  {
   "cell_type": "code",
   "execution_count": 124,
   "id": "9fff4856-0803-415f-920b-451ce6ad0042",
   "metadata": {},
   "outputs": [
    {
     "name": "stdout",
     "output_type": "stream",
     "text": [
      "200\n"
     ]
    }
   ],
   "source": [
    "length_of_land = 100\n",
    "\n",
    "if length_of_land == 100:\n",
    "    length_of_land = 200\n",
    "else:\n",
    "    length_of_land = 300\n",
    "\n",
    "print(length_of_land)    # use it anywhere for dubbugging"
   ]
  },
  {
   "cell_type": "code",
   "execution_count": 125,
   "id": "f0de0865-8b11-48fa-81cf-e2c9cef5827b",
   "metadata": {},
   "outputs": [
    {
     "name": "stdout",
     "output_type": "stream",
     "text": [
      "300\n"
     ]
    }
   ],
   "source": [
    "length_of_land = 100\n",
    "\n",
    "if length_of_land == '100':\n",
    "    length_of_land = 200\n",
    "else:\n",
    "    length_of_land = 300\n",
    "\n",
    "print(length_of_land)    # use it anywhere for dubbugging"
   ]
  },
  {
   "cell_type": "code",
   "execution_count": 126,
   "id": "548022b1-e23f-43d4-8c13-ef36042084ff",
   "metadata": {},
   "outputs": [
    {
     "name": "stdout",
     "output_type": "stream",
     "text": [
      "200\n"
     ]
    }
   ],
   "source": [
    "length_of_land = 100\n",
    "\n",
    "if length_of_land == int('100'):  # type casting into Integer\n",
    "    length_of_land = 200\n",
    "else:\n",
    "    length_of_land = 300\n",
    "\n",
    "print(length_of_land)    # use it anywhere for dubbugging"
   ]
  },
  {
   "cell_type": "code",
   "execution_count": 127,
   "id": "dd0e3845-4a92-409a-a2e5-7a696cb0ab61",
   "metadata": {},
   "outputs": [
    {
     "name": "stdout",
     "output_type": "stream",
     "text": [
      "length_of_land =  200\n"
     ]
    }
   ],
   "source": [
    "print('length_of_land = ',length_of_land)   # better code readability"
   ]
  },
  {
   "cell_type": "code",
   "execution_count": 128,
   "id": "aaf460c0-5df9-4611-96fd-13cb6aa5b909",
   "metadata": {},
   "outputs": [
    {
     "name": "stdout",
     "output_type": "stream",
     "text": [
      "length_of_land =  200\n"
     ]
    }
   ],
   "source": [
    "print(\"length_of_land = \",length_of_land)   # string with double quotes also possible "
   ]
  },
  {
   "cell_type": "code",
   "execution_count": 129,
   "id": "8e89e79d-705b-4923-8be0-5cb19f71b97d",
   "metadata": {},
   "outputs": [
    {
     "name": "stdout",
     "output_type": "stream",
     "text": [
      "length_of_land = 100 \n",
      "breadth_of_land = 50\n"
     ]
    }
   ],
   "source": [
    "print(\"length_of_land = 100 \\nbreadth_of_land = 50\")    # \\n is the new line character. It is a kind of escape sequence."
   ]
  },
  {
   "cell_type": "code",
   "execution_count": 130,
   "id": "93480b9f-91fc-44d9-b3c5-361a8f804166",
   "metadata": {},
   "outputs": [
    {
     "name": "stdout",
     "output_type": "stream",
     "text": [
      "length_of_land = 100 \n",
      " breadth_of_land = 50\n"
     ]
    }
   ],
   "source": [
    "print(\"length_of_land = 100 \\n breadth_of_land = 50\") # here the newline character is followed by a space"
   ]
  },
  {
   "cell_type": "code",
   "execution_count": 131,
   "id": "1139ed11-f19d-4839-9fde-5218dc7c76a2",
   "metadata": {},
   "outputs": [
    {
     "name": "stdout",
     "output_type": "stream",
     "text": [
      "length_of_land = 100\n",
      "         breadth_of_land = 50\n"
     ]
    }
   ],
   "source": [
    "# multi line string\n",
    "\n",
    "print('''length_of_land = 100\n",
    "         breadth_of_land = 50''')"
   ]
  },
  {
   "cell_type": "code",
   "execution_count": 132,
   "id": "08f58207-975c-4408-aded-911c16464aa3",
   "metadata": {},
   "outputs": [
    {
     "name": "stdout",
     "output_type": "stream",
     "text": [
      "length_of_land = 100\n",
      "breadth_of_land = 50\n"
     ]
    }
   ],
   "source": [
    "print('''length_of_land = 100\n",
    "breadth_of_land = 50''')"
   ]
  },
  {
   "cell_type": "code",
   "execution_count": 133,
   "id": "8d7ea22a-32a2-428b-80e6-5468eb078b7a",
   "metadata": {},
   "outputs": [
    {
     "name": "stdout",
     "output_type": "stream",
     "text": [
      "length_of_land = 100 \n",
      "\n",
      "breadth_of_land = 50\n"
     ]
    }
   ],
   "source": [
    "print('''length_of_land = 100 \\n\n",
    "breadth_of_land = 50''')"
   ]
  },
  {
   "cell_type": "code",
   "execution_count": 134,
   "id": "18b96bc5-c4ff-4902-a7b9-6ed140d32483",
   "metadata": {},
   "outputs": [
    {
     "name": "stdout",
     "output_type": "stream",
     "text": [
      "length_of_land =  100 \n",
      "breadth_of_land =  50\n"
     ]
    }
   ],
   "source": [
    "length_of_land = 100\n",
    "breadth_of_land = 50\n",
    "\n",
    "print(\"length_of_land = \",length_of_land,\"\\nbreadth_of_land = \",breadth_of_land)  # to check the value of multiple variables at a time when debugging"
   ]
  },
  {
   "cell_type": "markdown",
   "id": "6034a2a3-0065-49e5-9416-d20ada948927",
   "metadata": {},
   "source": [
    "<br>\n",
    "\n",
    "<br>\n",
    "\n",
    "<span style=\"background-color: #CAFEFD;\">But if we have 1000 lines of code, then how we gonna know which line the value of a variable is coming from? That's why we need to import a **module** named <span style=\"color:red\">**logging**</span>  which is very useful to debug a Python Program.</span>\n",
    "\n",
    "<br>\n",
    "\n",
    "\n",
    "#### <span style=\"background-color: yellow\">How <span style=\"color:red\">**logging**</span> statement is used for debugging?</span> \n",
    "\n",
    "<br>\n",
    "\n",
    "\n"
   ]
  },
  {
   "cell_type": "code",
   "execution_count": 135,
   "id": "8f3989f9-d1ee-4a6b-a8ec-2da822403488",
   "metadata": {},
   "outputs": [
    {
     "name": "stderr",
     "output_type": "stream",
     "text": [
      "2024-03-21 09:54:36,815 - DEBUG - 10 - This is a debug message\n",
      "2024-03-21 09:54:36,817 - INFO - 11 - This is an info message which is also used for debugging\n"
     ]
    }
   ],
   "source": [
    "# Logging                                                                                                                                   # line-1\n",
    "                                                                                                                                            # line-2\n",
    "import logging                                                                                                                              # line-3\n",
    "                                                                                                                                            # line-4\n",
    "# Configure basic logging                                                                                                                   # line-5\n",
    "logging.basicConfig(level=logging.DEBUG, format='%(asctime)s - %(levelname)s - %(lineno)d - %(message)s')                                   # line-6\n",
    "                                                                                                                                            # line-7\n",
    "                                                                                                                                            # line-8\n",
    "                                                                                                                                            # line-9\n",
    "logging.debug(\"This is a debug message\")  # Will include the line number where this statement is located                                    # line-10\n",
    "logging.info(\"This is an info message which is also used for debugging\")  # Will include the line number where this statement is located    # line-11\n"
   ]
  },
  {
   "cell_type": "markdown",
   "id": "730fe36f-5053-43ca-9d7b-7803677bf19b",
   "metadata": {},
   "source": [
    "Here, **10** represents the **line number** where the logging statement is located.\n",
    "\n",
    "<br>\n",
    "\n",
    "\n",
    "<span style=\"background-color: #CAFEFD;\">Since there will be so many files in real scenarios, you might want to know which line of which file is this value coming from. For that we can go for the following configuration:</span>\n",
    "\n",
    "<br>\n",
    "\n"
   ]
  },
  {
   "cell_type": "code",
   "execution_count": 136,
   "id": "f9ad2ac8-4bbb-487d-9bf6-32027434d994",
   "metadata": {},
   "outputs": [
    {
     "name": "stderr",
     "output_type": "stream",
     "text": [
      "2024-03-21 09:54:39,551 - DEBUG - 6 - This is a debug message\n",
      "2024-03-21 09:54:39,553 - INFO - 7 - This is an info message which is also used for debugging\n"
     ]
    }
   ],
   "source": [
    "logging.basicConfig(level=logging.DEBUG, format='%(asctime)s - %(levelname)s - %(filename)s:%(lineno)d - %(message)s')                       # line-1\n",
    "                                                                                                                                             # line-2\n",
    "# logging.basicConfig(level=logging.DEBUG, format='%(asctime)s - %(levelname)s - %(filename)s - %(lineno)d - %(message)s')                   # line-3\n",
    "                                                                                                                                             # line-4\n",
    "                                                                                                                                             # line-5\n",
    "logging.debug(\"This is a debug message\")  # Will include the line number where this statement is located                                     # line-6\n",
    "logging.info(\"This is an info message which is also used for debugging\")  # Will include the line number where this statement is located     # line-7\n"
   ]
  },
  {
   "cell_type": "code",
   "execution_count": 137,
   "id": "b0ea79ca-c0ce-411a-b610-43a12a15272f",
   "metadata": {},
   "outputs": [
    {
     "name": "stderr",
     "output_type": "stream",
     "text": [
      "2024-03-21 09:54:40,511 - DEBUG - 4 - Data Engineering is my 1st priority\n",
      "2024-03-21 09:54:40,513 - INFO - 5 - Data Engineering is my 1st priority\n"
     ]
    }
   ],
   "source": [
    "tech_domain = \"Data Engineering\"                                                 # line-1\n",
    "choice_priority = 1                                                              # line-2\n",
    "                                                                                 # line-3\n",
    "logging.debug(f\"{tech_domain} is my {choice_priority}st priority\")               # line-4\n",
    "logging.info(f\"{tech_domain} is my {choice_priority}st priority\")                # line-5"
   ]
  },
  {
   "cell_type": "markdown",
   "id": "77deaf31-b05d-479b-89c8-7d622535a490",
   "metadata": {},
   "source": [
    "<br>\n",
    "\n",
    "<br>\n",
    "\n",
    "<span style=\"background-color: #CAFEFD;\">This **works fine** in an **Integrated Development Environment (IDE)** like **VsCode**</span> because we already have a proper **project folder structure** there. But in a <span style=\"color: blue\"> **Jupyter Notebook environment**</span>, you may <span style=\"color: blue\"> **face challenges with getting the filename**</span> and the line number to appear in the logging output due to the way Jupyter handles code execution. However, you can achieve this by creating a <span style=\"color: blue\"> **custom logging formatter**</span> and attaching it to your logger.\n",
    "\n",
    "<br>"
   ]
  },
  {
   "cell_type": "code",
   "execution_count": 138,
   "id": "8b5c2fb9-1570-43d9-8b64-421334820d8b",
   "metadata": {},
   "outputs": [
    {
     "name": "stderr",
     "output_type": "stream",
     "text": [
      "2024-03-21 09:54:42,640 - DEBUG - 22 - This is a debug message\n",
      "2024-03-21 09:54:42,640 - DEBUG - C:\\Users\\user\\AppData\\Local\\Programs\\Python\\Python311\\Lib\\logging\\__init__.py - 1634 - This is a debug message\n",
      "2024-03-21 09:54:42,715 - INFO - 23 - This is an info message which is also used for debugging\n",
      "2024-03-21 09:54:42,715 - INFO - C:\\Users\\user\\AppData\\Local\\Programs\\Python\\Python311\\Lib\\logging\\__init__.py - 1634 - This is an info message which is also used for debugging\n"
     ]
    }
   ],
   "source": [
    "import logging                                                                                                                           # line-1\n",
    "import inspect                                                                                                                           # line-2\n",
    "                                                                                                                                         # line-3\n",
    "# Custom formatter to include filename and line number                                                                                   # line-4\n",
    "class MyFormatter(logging.Formatter):                                                                                                    # line-5\n",
    "    def format(self, record):                                                                                                            # line-6\n",
    "        record.filename = inspect.getframeinfo(inspect.stack()[6][0]).filename                                                           # line-7             \n",
    "        record.lineno = inspect.getframeinfo(inspect.stack()[6][0]).lineno                                                               # line-8\n",
    "        return super().format(record)                                                                                                    # line-9                                                                                               # line-9\n",
    "                                                                                                                                         # line-10\n",
    "# Configure logging                                                                                                                      # line-11\n",
    "logger = logging.getLogger()                                                                                                             # line-12\n",
    "logger.setLevel(logging.DEBUG)                                                                                                           # line-13\n",
    "                                                                                                                                         # line-14\n",
    "# Create and add the custom formatter to the logger                                                                                      # line-15\n",
    "formatter = MyFormatter('%(asctime)s - %(levelname)s - %(filename)s - %(lineno)d - %(message)s')                                         # line-16\n",
    "stream_handler = logging.StreamHandler()                                                                                                 # line-17\n",
    "stream_handler.setFormatter(formatter)                                                                                                   # line-18\n",
    "logger.addHandler(stream_handler)                                                                                                        # line-19\n",
    "                                                                                                                                         # line-20\n",
    "# Test logging                                                                                                                           # line-21\n",
    "logging.debug(\"This is a debug message\")                                                                                                 # line-22\n",
    "logging.info(\"This is an info message which is also used for debugging\")                                                                 # line-23\n"
   ]
  },
  {
   "cell_type": "code",
   "execution_count": 139,
   "id": "897da95c-80bc-402c-9d7c-efe16d329e8e",
   "metadata": {},
   "outputs": [
    {
     "name": "stderr",
     "output_type": "stream",
     "text": [
      "2024-03-21 09:54:43,973 - DEBUG - 4 - Data Engineering is my 1st priority\n",
      "2024-03-21 09:54:43,973 - DEBUG - C:\\Users\\user\\AppData\\Local\\Programs\\Python\\Python311\\Lib\\logging\\__init__.py - 1634 - Data Engineering is my 1st priority\n",
      "2024-03-21 09:54:44,027 - INFO - 5 - Data Engineering is my 1st priority\n",
      "2024-03-21 09:54:44,027 - INFO - C:\\Users\\user\\AppData\\Local\\Programs\\Python\\Python311\\Lib\\logging\\__init__.py - 1634 - Data Engineering is my 1st priority\n"
     ]
    }
   ],
   "source": [
    "tech_domain = \"Data Engineering\"                                                 # line-1\n",
    "choice_priority = 1                                                              # line-2\n",
    "                                                                                 # line-3\n",
    "logging.debug(f\"{tech_domain} is my {choice_priority}st priority\")               # line-4\n",
    "logging.info(f\"{tech_domain} is my {choice_priority}st priority\")                # line-5"
   ]
  },
  {
   "cell_type": "markdown",
   "id": "17201e05-6cd8-4210-908c-463f1ac80ae9",
   "metadata": {},
   "source": [
    "<br>\n",
    "\n",
    "\n",
    "#### <span style=\"background-color: yellow\">How <span style=\"color:red\">**logger.info()**</span> from <span style=\"color: blue\"> **loguru**</span> module statement is used for debugging?</span> \n",
    "\n",
    "<br>"
   ]
  },
  {
   "cell_type": "code",
   "execution_count": 140,
   "id": "bb105a95-65c8-4ec4-946a-d154b7d060d4",
   "metadata": {},
   "outputs": [
    {
     "name": "stdout",
     "output_type": "stream",
     "text": [
      "Requirement already satisfied: loguru in c:\\users\\user\\appdata\\local\\programs\\python\\python311\\lib\\site-packages (0.7.0)\n",
      "Requirement already satisfied: colorama>=0.3.4 in c:\\users\\user\\appdata\\roaming\\python\\python311\\site-packages (from loguru) (0.4.6)\n",
      "Requirement already satisfied: win32-setctime>=1.0.0 in c:\\users\\user\\appdata\\local\\programs\\python\\python311\\lib\\site-packages (from loguru) (1.1.0)\n",
      "Note: you may need to restart the kernel to use updated packages.\n"
     ]
    }
   ],
   "source": [
    "pip install loguru"
   ]
  },
  {
   "cell_type": "code",
   "execution_count": 141,
   "id": "bbf29db7-b037-4832-a55b-5bd484ad922e",
   "metadata": {},
   "outputs": [
    {
     "name": "stderr",
     "output_type": "stream",
     "text": [
      "\u001b[32m2024-03-21 09:54:55.443\u001b[0m | \u001b[1mINFO    \u001b[0m | \u001b[36m__main__\u001b[0m:\u001b[36m<module>\u001b[0m:\u001b[36m3\u001b[0m - \u001b[1mThis is a debug message\u001b[0m\n"
     ]
    }
   ],
   "source": [
    "from loguru import logger                        # line-1\n",
    "                                                 # line-2\n",
    "logger.info(\"This is a debug message\")           # line-3"
   ]
  },
  {
   "cell_type": "markdown",
   "id": "c9dcd0c1-627a-41cb-b1d9-0ec33496fadc",
   "metadata": {},
   "source": [
    "It's coming from <span style=\"background-color: yellow\">&nbsp;line number **3**&nbsp;</span> of <span style=\"color: blue\">**\\__main\\__:\\<module\\>**</span>. It's **not showing the filename** because we have not maintained any **project folder structure** here.\n",
    "\n",
    "<br>"
   ]
  },
  {
   "cell_type": "code",
   "execution_count": 142,
   "id": "90b1b1c3-5b09-4b68-8e7f-0ce9cf0d91bb",
   "metadata": {},
   "outputs": [
    {
     "name": "stderr",
     "output_type": "stream",
     "text": [
      "\u001b[32m2024-03-21 09:54:56.288\u001b[0m | \u001b[1mINFO    \u001b[0m | \u001b[36m__main__\u001b[0m:\u001b[36m<module>\u001b[0m:\u001b[36m4\u001b[0m - \u001b[1mData Engineering is my 1st priority\u001b[0m\n"
     ]
    }
   ],
   "source": [
    "tech_domain = \"Data Engineering\"                                                 # line-1\n",
    "choice_priority = 1                                                              # line-2\n",
    "                                                                                 # line-3\n",
    "logger.info(f\"{tech_domain} is my {choice_priority}st priority\")                 # line-4"
   ]
  },
  {
   "cell_type": "markdown",
   "id": "b62023db-c38d-4bf5-af6b-1a362bbe3cb8",
   "metadata": {},
   "source": [
    "It's coming from <span style=\"background-color: yellow\">&nbsp;line number **4**&nbsp;</span> of <span style=\"color: blue\">**\\__main\\__:\\<module\\>**</span>. It's **not showing the filename** because we have not maintained any **project folder structure** here.\n",
    "\n",
    "\n",
    "\n",
    "<br>"
   ]
  },
  {
   "cell_type": "code",
   "execution_count": null,
   "id": "670c2b1a-168f-44a8-bbb2-8f83d521ef8c",
   "metadata": {},
   "outputs": [],
   "source": []
  },
  {
   "cell_type": "markdown",
   "id": "cd61aeab-985c-4849-96a0-9bc861539c2f",
   "metadata": {},
   "source": [
    "<br>\n",
    "\n",
    "### <span style=\"background-color: #CAFEFD;\">Summary :</span>\n",
    "\n",
    "<br>\n",
    "\n",
    "<div style=\"border: 1px solid red; padding: 10px; margin-left:50px\">\n",
    "<span style=\"background-color:yellow;color:red\"><strong>logging</strong></span> ⇒ <strong>logging.debug()</strong> \n",
    "<br>\n",
    "<br>\n",
    "<br>\n",
    "<span style=\"background-color:#F5E3FA;color:blue\"><strong>import logging</strong></span>\n",
    "<br>\n",
    "<br>\n",
    "<span style=\"color:blue\"><strong>logging.basicConfig(level=logging.DEBUG, format='%(asctime)s - %(levelname)s - %(lineno)d - %(message)s')</strong></span>\n",
    "<br>\n",
    "<br>\n",
    "<span style=\"background-color:#F5E3FA;color:blue\"><strong>logging.basicConfig(level=logging.DEBUG, format='%(asctime)s - %(levelname)s - %(filename)s - %(lineno)d - %(message)s')</strong></span>\n",
    "<br>\n",
    "<br>\n",
    "<span style=\"color:blue\"><strong>logging.basicConfig(level=logging.DEBUG, format='%(asctime)s - %(levelname)s - %(filename)s:%(lineno)d - %(message)s')</strong></span>\n",
    "<br>\n",
    "<br>\n",
    "<span style=\"color:blue\"><strong>logging.debug(\"This is a debug message\")</strong></span>\n",
    "<br>\n",
    "<br>\n",
    "<span style=\"background-color:#F5E3FA;color:blue\"><strong>logging.info(\"This is an info message which is also used for debugging\")</strong></span>\n",
    "</div>\n",
    "\n",
    "\n",
    "<br>\n",
    "\n",
    "\n",
    "<div style=\"border: 1px solid red; padding: 10px; margin-left:50px\">\n",
    "<span style=\"background-color:yellow;color:red\"><strong>loguru</strong></span> ⇒ <strong>logger.info()</strong> \n",
    "<br>\n",
    "<br>\n",
    "<br>\n",
    "<span style=\"background-color:#F5E3FA;color:black\"><strong>\\$ pip install loguru</strong></span>\n",
    "<br>\n",
    "<br>\n",
    "<span style=\"background-color:#F5E3FA;color:blue\"><strong>from loguru import logger</strong></span>\n",
    "<br>\n",
    "<br>\n",
    "<span style=\"background-color:#F5E3FA;color:blue\"><strong>logger.info(\"This is a debug message\") </strong></span>\n",
    "<br>\n",
    "<br>\n",
    "\n",
    "</div>"
   ]
  },
  {
   "cell_type": "code",
   "execution_count": null,
   "id": "50b01167-4a39-421b-b385-7d510480e361",
   "metadata": {},
   "outputs": [],
   "source": []
  },
  {
   "cell_type": "code",
   "execution_count": null,
   "id": "4150b1bc-db83-4a16-af54-e729d70f09bc",
   "metadata": {},
   "outputs": [],
   "source": []
  }
 ],
 "metadata": {
  "kernelspec": {
   "display_name": "Python 3 (ipykernel)",
   "language": "python",
   "name": "python3"
  },
  "language_info": {
   "codemirror_mode": {
    "name": "ipython",
    "version": 3
   },
   "file_extension": ".py",
   "mimetype": "text/x-python",
   "name": "python",
   "nbconvert_exporter": "python",
   "pygments_lexer": "ipython3",
   "version": "3.11.3"
  }
 },
 "nbformat": 4,
 "nbformat_minor": 5
}
