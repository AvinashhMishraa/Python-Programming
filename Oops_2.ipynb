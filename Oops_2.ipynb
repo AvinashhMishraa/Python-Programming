{
 "cells": [
  {
   "cell_type": "markdown",
   "id": "5e6634d7-73d6-4617-be36-f2b73d899449",
   "metadata": {},
   "source": [
    "# Shradha Khapra\n",
    "\n",
    "<span style=\"color: blue;\">**Procedural Programming** &nbsp;&nbsp;====>&nbsp;&nbsp; **Functional Programming**  &nbsp;&nbsp;====>&nbsp;&nbsp;**Object Oriented Programming**</span>\n",
    "\n",
    "<font size=\"+1\">↳</font>&nbsp;**Procedural Programming** &nbsp;&nbsp;(To do things in a <span style=\"color: red;\">sequence</span>)"
   ]
  },
  {
   "cell_type": "code",
   "execution_count": 1,
   "id": "594fcbe4-da98-4f58-95dd-e140bbbeb0a5",
   "metadata": {},
   "outputs": [
    {
     "name": "stdout",
     "output_type": "stream",
     "text": [
      "30\n",
      "-10\n"
     ]
    }
   ],
   "source": [
    "a = 10\n",
    "b = 20\n",
    "\n",
    "sum = a + b\n",
    "print(sum)\n",
    "\n",
    "diff = a - b\n",
    "print(diff)"
   ]
  },
  {
   "cell_type": "markdown",
   "id": "489ff519-6e25-4be4-b9ed-9ad64516c704",
   "metadata": {},
   "source": [
    "<font size=\"+1\">↳</font>&nbsp;**Functional Programming**  &nbsp;&nbsp;(To <u>reduce redundancy</u> & bring <span style=\"color: red;\">reusability</span> of a code)"
   ]
  },
  {
   "cell_type": "code",
   "execution_count": 3,
   "id": "bd210471-40a0-4dfa-bd54-39afa0030daa",
   "metadata": {},
   "outputs": [
    {
     "name": "stdout",
     "output_type": "stream",
     "text": [
      "30\n",
      "-10\n"
     ]
    }
   ],
   "source": [
    "a = 10\n",
    "b = 20\n",
    "\n",
    "def sum(a,b):\n",
    "    return a + b\n",
    "\n",
    "def diff(a,b):\n",
    "    return a - b\n",
    "\n",
    "s = sum(a, b)\n",
    "print(s)\n",
    "\n",
    "d = diff(a,b)\n",
    "print(d)"
   ]
  },
  {
   "cell_type": "markdown",
   "id": "df5385bc-5b99-49f7-8367-07035440fdfb",
   "metadata": {},
   "source": [
    "<font size=\"+1\">↳</font>&nbsp;**Object Oriented Programming**  &nbsp;&nbsp;(To map with <span style=\"color: red;\">real world objects</span>, we started using <strong><span style=\"color: red;\">objects</span></strong> in code)"
   ]
  },
  {
   "cell_type": "code",
   "execution_count": 31,
   "id": "4c3ef7d5-2d64-48ad-b1de-80c49cf2df58",
   "metadata": {},
   "outputs": [
    {
     "name": "stdout",
     "output_type": "stream",
     "text": [
      "30\n",
      "-10\n"
     ]
    }
   ],
   "source": [
    "\n",
    "class Calculator:\n",
    "    def __init__(self, a, b):\n",
    "        self.a = a\n",
    "        self.b = b\n",
    "\n",
    "    def sum(self):\n",
    "        return self.a + self.b\n",
    "\n",
    "    def diff(self):\n",
    "        return self.a - self.b\n",
    "\n",
    "\n",
    "# Create an instance of the Calculator class\n",
    "calc = Calculator(10, 20)\n",
    "\n",
    "# Use the methods of the Calculator class\n",
    "s = calc.sum()\n",
    "print(s)\n",
    "\n",
    "d = calc.diff()\n",
    "print(d)\n"
   ]
  },
  {
   "cell_type": "markdown",
   "id": "a4108538-4987-40e7-817c-86f3bb791a71",
   "metadata": {
    "jp-MarkdownHeadingCollapsed": true
   },
   "source": [
    "<br><br>\n",
    "\n",
    "### <span style=\"color: blue\">Class</span> &nbsp; & &nbsp; <span style=\"color: blue;\">Object</span> &nbsp; in &nbsp; Python"
   ]
  },
  {
   "cell_type": "markdown",
   "id": "599f1b7d-3d89-462e-ac90-791c7addfb10",
   "metadata": {},
   "source": [
    "Class is a <strong>blueprint</strong> for creating objects"
   ]
  },
  {
   "cell_type": "code",
   "execution_count": 21,
   "id": "c8a42829-59bc-40a4-a342-664e81a5e79f",
   "metadata": {},
   "outputs": [],
   "source": [
    "\n",
    "# creating class\n",
    "class Student:\n",
    "    name = \"Avinash Mishra\"\n",
    "\n",
    "\n",
    "# creating object (instance)\n",
    "s1 = Student()\n"
   ]
  },
  {
   "cell_type": "code",
   "execution_count": 22,
   "id": "0f37ac2c-3548-4662-b20d-73624c8d9d2f",
   "metadata": {},
   "outputs": [
    {
     "data": {
      "text/plain": [
       "<__main__.Student at 0x1c3e68bef50>"
      ]
     },
     "execution_count": 22,
     "metadata": {},
     "output_type": "execute_result"
    }
   ],
   "source": [
    "\n",
    "s1\n"
   ]
  },
  {
   "cell_type": "markdown",
   "id": "65406e17-09ed-45ca-a72e-25f2fd30603a",
   "metadata": {},
   "source": [
    "\n",
    "<code style=\"background-color: white; color: blue;\"> As we can see, <span style=\"background-color: yellow; color: black;\"> s1 </span> is an object of the <span style=\"background-color: yellow; color: black;\"> Student </span> class </code>\n"
   ]
  },
  {
   "cell_type": "code",
   "execution_count": 23,
   "id": "c063c560-5f63-48e5-a1d6-957d00d75b08",
   "metadata": {},
   "outputs": [
    {
     "name": "stdout",
     "output_type": "stream",
     "text": [
      "<__main__.Student object at 0x000001C3E68BEF50>\n"
     ]
    }
   ],
   "source": [
    "\n",
    "print(s1)\n"
   ]
  },
  {
   "cell_type": "markdown",
   "id": "bcd2b81a-481e-48be-8f36-b3e5ef68f48b",
   "metadata": {},
   "source": [
    "\n",
    "<code style=\"background-color: white; color: blue;\"> To be specific, <span style=\"background-color: yellow; color: black;\"> s1 </span> is an object of the <span style=\"background-color: yellow; color: black;\"> Student </span> class of the <span style=\"color: red;\"> \\_\\_main__ </span> module </code>\n"
   ]
  },
  {
   "cell_type": "code",
   "execution_count": 24,
   "id": "e9b393b0-d052-4f1c-b4d6-ae913629d0f8",
   "metadata": {},
   "outputs": [
    {
     "name": "stdout",
     "output_type": "stream",
     "text": [
      "Avinash Mishra\n"
     ]
    }
   ],
   "source": [
    "\n",
    "print(s1.name)\n"
   ]
  },
  {
   "cell_type": "markdown",
   "id": "4c7be272-beed-4daa-9409-26356e3f1109",
   "metadata": {},
   "source": [
    "<br>\n",
    "\n",
    "<code>The main motive of introducing OOP concept is to be able to not only create <u>multiple objects</u> (instances) of the <u>same class</u> but also <u>distinguisng</u> between them</code>"
   ]
  },
  {
   "cell_type": "code",
   "execution_count": 6,
   "id": "bc2a76b4-c166-43a2-9451-42ee88f032cf",
   "metadata": {},
   "outputs": [],
   "source": [
    "\n",
    "# creating class\n",
    "class Student:\n",
    "\n",
    "    # CONSTRUCTOR\n",
    "    def __init__(self, full_name):        \n",
    "        self.name = full_name\n",
    "\n",
    "\n",
    "# creating an object of Student class\n",
    "s1 = Student(\"Avinash Mishra\")\n",
    "\n",
    "\n",
    "# creating another object of Student class\n",
    "s2 = Student(\"Radha Kumari\")\n"
   ]
  },
  {
   "cell_type": "code",
   "execution_count": 7,
   "id": "be856335-7adb-40ee-b960-94c0e254f782",
   "metadata": {},
   "outputs": [
    {
     "name": "stdout",
     "output_type": "stream",
     "text": [
      "<__main__.Student object at 0x0000025878C26210>\n",
      "Avinash Mishra\n",
      "\n",
      "\n",
      "<__main__.Student object at 0x0000025878CD0BD0>\n",
      "Radha Kumari\n"
     ]
    }
   ],
   "source": [
    "\n",
    "print(s1)\n",
    "print(s1.name)\n",
    "\n",
    "print('\\n')\n",
    "\n",
    "print(s2)\n",
    "print(s2.name)\n"
   ]
  },
  {
   "cell_type": "markdown",
   "id": "1441c05c-1f67-4ef5-bd7f-f9166d0a8464",
   "metadata": {
    "jp-MarkdownHeadingCollapsed": true
   },
   "source": [
    "<br><br>\n",
    "\n",
    "### <span style=\"color: blue\">\\_\\_init__( )</span> &nbsp;Function  <code style=\"color: red; background-color: white;\"><font size=\"3px;\">(Constructor)</font></code>\n"
   ]
  },
  {
   "cell_type": "markdown",
   "id": "b7d4e90e-0101-4ca0-a60d-ce0414c45d59",
   "metadata": {},
   "source": [
    "<br>\n",
    "\n",
    "All classes have a function called **<span style=\"color: red\">\\_\\_init__( )</span>**, which is **always automatically executed** when the object of a class is being <u>initiated</u>, or in simple words **created** (<u>constructed</u>).\n",
    "\n",
    "<br>\n",
    "\n",
    "It always takes atleast one parameter i.e, &nbsp;<span style=\"background-color: yellow;\"> self </span>&nbsp;&nbsp;&nbsp;&nbsp; ====>&nbsp;&nbsp;&nbsp;&nbsp;  **<code style=\"color: red\">\\_\\_init__(<span style=\"color: black;\">self</span> ,  ,  ,<span style=\"color: black;\"> . . .</span> )</code>**.\n",
    "\n",
    "<br>\n",
    "\n",
    "The &nbsp;<span style=\"background-color: yellow;\"> self </span>&nbsp; parameter inside the **<span style=\"color: red\">\\_\\_init__( )</span>** function is a <u><span style=\"color: blue;\">reference</span> to the current instance of the class</u>, and is used to access variables that belongs to the class. <br>\n",
    "Basically, it is used <strong>to establish the <u>context</u> as to which particular object of that class you are connecting with</strong>.\n",
    "\n",
    "<br>\n",
    "\n",
    "However, the name &nbsp;<span style=\"background-color: yellow;\"> self </span>&nbsp; can be replaced with any other name and it <u>won't affect the code</u>. But we should follow convention and use the name &nbsp;<span style=\"background-color: yellow;\"> self </span>&nbsp; only.\n"
   ]
  },
  {
   "cell_type": "code",
   "execution_count": 58,
   "id": "20dc4d64-888e-4f36-ad41-9f0b66aac16a",
   "metadata": {},
   "outputs": [],
   "source": [
    "\n",
    "# creating class\n",
    "class Student:\n",
    "\n",
    "    # replacing \"self\" with any random word \"abcd\" won't affect anything\n",
    "    def __init__(abcd, full_name):    # CONSTRUCTOR\n",
    "        abcd.name = full_name\n",
    "\n",
    "\n",
    "# creating an object of Student class\n",
    "s1 = Student(\"Avinash Mishra\")\n",
    "\n",
    "\n",
    "# creating another object of Student class\n",
    "s2 = Student(\"Radha Kumari\")\n"
   ]
  },
  {
   "cell_type": "code",
   "execution_count": 59,
   "id": "cd70b616-fb6c-4a87-a82f-8144fb43d22b",
   "metadata": {},
   "outputs": [
    {
     "name": "stdout",
     "output_type": "stream",
     "text": [
      "<__main__.Student object at 0x00000258792F0390>\n",
      "Avinash Mishra\n",
      "\n",
      "\n",
      "<__main__.Student object at 0x00000258792F2410>\n",
      "Radha Kumari\n"
     ]
    }
   ],
   "source": [
    "\n",
    "print(s1)\n",
    "print(s1.name)\n",
    "\n",
    "print('\\n')\n",
    "\n",
    "print(s2)\n",
    "print(s2.name)\n"
   ]
  },
  {
   "cell_type": "markdown",
   "id": "49fe2d10-395f-4e34-bdd0-b965513de9ad",
   "metadata": {},
   "source": [
    "<br>\n",
    "\n",
    "We could have used &nbsp;<code>built-in datatypes</code>&nbsp; like &nbsp;<code>list</code>&nbsp; and &nbsp;<code>dictionary</code>&nbsp; also to store the details of these students, but in real-life scenarios we may face situations when we have to store them in an &nbsp;<code style=\"background-color: yellow; color: black;\"><u>object</u> (custom datatype)</code>&nbsp; to make the code look more meaningful.\n",
    "\n",
    "<strong><u>Note</u></strong> - Here, &nbsp;<code>full_name</code> is an <span style=\"color: red;\">attribute</span> of the <span style=\"color: blue;\">Student</span> class. So every object of the Student class is initiated with the attribute <code>full-name</code> at the time of it's creation.\n",
    "\n",
    "&nbsp;&nbsp;&nbsp;&nbsp;&nbsp;&nbsp;&nbsp;&nbsp;&nbsp;&nbsp;&nbsp;&nbsp;And we can have many diiferent attributes of an object which can be initialized at the time of it's creation."
   ]
  },
  {
   "cell_type": "code",
   "execution_count": 60,
   "id": "e66b2087-5beb-435b-9503-0b66769111ee",
   "metadata": {},
   "outputs": [],
   "source": [
    "\n",
    "# creating class\n",
    "class Student:\n",
    "\n",
    "    # replacing \"self\" with any random word \"abcd\" won't affect anything, but let's follow the convention of using \"self\"\n",
    "    def __init__(self, full_name, marks):    # CONSTRUCTOR\n",
    "        self.name = full_name\n",
    "        self.marks = marks\n",
    "\n",
    "\n",
    "# creating an object of Student class\n",
    "s1 = Student(\"Avinash Mishra\", 88)\n",
    "\n",
    "\n",
    "# creating another object of Student class\n",
    "s2 = Student(\"Radha Kumari\", 78.5)\n"
   ]
  },
  {
   "cell_type": "code",
   "execution_count": 61,
   "id": "398b34f5-5a1a-4692-9ec3-d3b4c95632f9",
   "metadata": {},
   "outputs": [
    {
     "name": "stdout",
     "output_type": "stream",
     "text": [
      "<__main__.Student object at 0x000002587924FC50>\n",
      "Avinash Mishra 88\n",
      "\n",
      "\n",
      "<__main__.Student object at 0x00000258792F0390>\n",
      "Radha Kumari 78.5\n"
     ]
    }
   ],
   "source": [
    "\n",
    "print(s1)\n",
    "print(s1.name, s1.marks)\n",
    "\n",
    "print('\\n')\n",
    "\n",
    "print(s2)\n",
    "print(s2.name, s2.marks)\n"
   ]
  },
  {
   "cell_type": "markdown",
   "id": "8d73caa5-7a51-4187-8ee3-9a5f1805d48b",
   "metadata": {},
   "source": [
    "<br>\n",
    "\n",
    "<div style=\"background-color: #ffe0b0; padding: 10px;\">\n",
    "Constructors are of two types :  <br>\n",
    "&nbsp;&nbsp;&nbsp;&nbsp;&nbsp;1. &nbsp;&nbsp;<strong>Default&nbsp; Constructors</strong>   &nbsp;&nbsp;&nbsp;&nbsp;==========>&nbsp;&nbsp;&nbsp;&nbsp;  only one parameter i.e., &nbsp;<code style=\"background-color: #a5fff3;\">self</code>&nbsp;<br>\n",
    "&nbsp;&nbsp;&nbsp;&nbsp;&nbsp;2. &nbsp;&nbsp;<strong>Parameterized&nbsp; Constructors</strong>   &nbsp;&nbsp;&nbsp;&nbsp;=====> &nbsp;&nbsp;&nbsp;&nbsp; atleast one paramter other than &nbsp;<code style=\"background-color: #a5fff3;\">self</code>&nbsp;\n",
    "\n",
    "<br><br>\n",
    "\n",
    "➤ &nbsp;For any constructor, &nbsp;<code style=\"background-color: #a5fff3;\">self</code>&nbsp; will be always be the <u>1st parameter</u>\n",
    "\n",
    "➤ &nbsp;<span style=\"color: red;\"><strong>Constructor</strong></span>&nbsp; is a special type of &nbsp;<span style=\"background-color: yellow;\">Public &nbsp;Instance &nbsp;Method</span>\n",
    "</div>"
   ]
  },
  {
   "cell_type": "code",
   "execution_count": 70,
   "id": "bf17d1ad-27b3-4e4c-94f5-5301fe32e671",
   "metadata": {},
   "outputs": [
    {
     "name": "stdout",
     "output_type": "stream",
     "text": [
      "Avinash Mishra 88\n",
      "Radha Kumari 78.5\n"
     ]
    }
   ],
   "source": [
    "\n",
    "class Student:\n",
    "\n",
    "    # Default Constructor\n",
    "    def __init__():\n",
    "        pass\n",
    "\n",
    "    # Parameterized Constructor\n",
    "    def __init__(self, full_name, marks):\n",
    "        self.name = full_name\n",
    "        self.marks = marks\n",
    "\n",
    "\n",
    "s1 = Student(\"Avinash Mishra\", 88)\n",
    "s2 = Student(\"Radha Kumari\", 78.5)\n",
    "\n",
    "print(s1.name, s1.marks)\n",
    "print(s2.name, s2.marks)\n"
   ]
  },
  {
   "cell_type": "markdown",
   "id": "2a5ffbec-be2f-4378-ba2e-26d75d082a00",
   "metadata": {
    "jp-MarkdownHeadingCollapsed": true
   },
   "source": [
    "<br><br>\n",
    "\n",
    "### <span style=\"color: blue\">Class <span style=\"color: black\">&</span> Instance <span style=\"color: black\">attributes</span></span>\n"
   ]
  },
  {
   "cell_type": "markdown",
   "id": "d504cf8f-8f91-4018-9171-9bfe213b2762",
   "metadata": {},
   "source": [
    "\n",
    "<pre>\n",
    "<font size=\"+1\">↳</font>&nbsp;Class.attr\n",
    "    \n",
    "<font size=\"+1\">↳</font>&nbsp;Obj.attr\n",
    "</pre>\n",
    "\n",
    "<div style=\"margin-left: 40px;\">\n",
    "\n",
    "![](media/Shraddha_Kapra_oops_1.PNG)\n",
    "\n",
    "</div>\n",
    "\n",
    "<div style=\"background-color: #ffe0b0; padding: 10px;\">\n",
    "Since an object occupies some space in memory, why should we not try to minimize it's size? Why should we store the same data at different places in the memory?<br> <br>\n",
    "    \n",
    "Therefore in the above example, let's suppose if &nbsp;<code style=\"background-color: #a5fff3;\">college_name</code>&nbsp; is <u>same for all the students</u> , then instead of making the &nbsp;<code style=\"background-color: #a5fff3;\">college_name</code>&nbsp; an **object attribute**, it's better to make it a **class attribute** thus making it common and readily available for all the instances of the **Student** class. \n",
    "</div>\n",
    "\n"
   ]
  },
  {
   "cell_type": "code",
   "execution_count": 55,
   "id": "2e8d3001-10ee-4270-8bb6-be3fcca2558d",
   "metadata": {},
   "outputs": [
    {
     "name": "stdout",
     "output_type": "stream",
     "text": [
      "Avinash Mishra\n",
      "88\n",
      "abc\n",
      "\n",
      "\n",
      "Radha Kumari\n",
      "78.5\n",
      "abc\n"
     ]
    }
   ],
   "source": [
    "\n",
    "class Student:\n",
    "\n",
    "    college_name = \"abc\"                          # class attribute\n",
    "\n",
    "    # CONSTRUCTOR\n",
    "    def __init__(self, name, marks):              \n",
    "        self.name = name                          # object atrribute\n",
    "        self.marks = marks                        # object attribute\n",
    "\n",
    "\n",
    "\n",
    "s1 = Student(\"Avinash Mishra\", 88)\n",
    "s2 = Student(\"Radha Kumari\", 78.5)\n",
    "\n",
    "\n",
    "print(s1.name)               # accessing object attribute\n",
    "print(s1.marks)              # accessing object attribute\n",
    "print(s1.college_name)       # accessing class attribute\n",
    "\n",
    "print(\"\\n\")\n",
    "\n",
    "print(s2.name)               # accessing object attribute\n",
    "print(s2.marks)              # accessing object attribute\n",
    "print(s2.college_name)       # accessing class attribute\n"
   ]
  },
  {
   "cell_type": "markdown",
   "id": "0ae1e3b7-7f45-4d2d-8620-0c6e473a42a2",
   "metadata": {},
   "source": [
    "<br>\n",
    "\n",
    "**Note :** &nbsp;&nbsp;<code style=\"background-color: yellow;\">obj attr  >  class attr</code> &nbsp;in terms of <u>precedence</u> . <br>\n",
    "&nbsp;&nbsp;&nbsp;&nbsp;&nbsp;&nbsp;&nbsp;&nbsp;&nbsp;&nbsp;&nbsp;&nbsp;&nbsp;&nbsp;In other words, if a &nbsp;<code style=\"color: red;\">class attribute</code>&nbsp; has the same name as an &nbsp;<code style=\"color: red;\">object attribute</code>&nbsp;, remember <u>the &nbsp;<code style=\"color: red;\">object attribute</code>&nbsp; will always take the precedence</u> .  <br>\n",
    "&nbsp;&nbsp;&nbsp;&nbsp;&nbsp;&nbsp;&nbsp;&nbsp;&nbsp;&nbsp;&nbsp;&nbsp;&nbsp;&nbsp;However, we try to avoid such a situation ."
   ]
  },
  {
   "cell_type": "code",
   "execution_count": 62,
   "id": "b1bd21c0-802e-4865-994f-a7ad67b9ab72",
   "metadata": {},
   "outputs": [
    {
     "name": "stdout",
     "output_type": "stream",
     "text": [
      "Avinash Mishra\n"
     ]
    }
   ],
   "source": [
    "\n",
    "class Student:\n",
    "\n",
    "    college_name = \"abc\"                          # class attribute\n",
    "    name = \"anonymous\"                            # class attribute\n",
    "\n",
    "    # CONSTRUCTOR\n",
    "    def __init__(self, name, marks):\n",
    "        self.name = name                          # object atrribute\n",
    "        self.marks = marks                        # object attribute\n",
    "\n",
    "\n",
    "\n",
    "s1 = Student(\"Avinash Mishra\", 88)\n",
    "\n",
    "\n",
    "print(s1.name)     # Note:   Output    ======>    \"Avinash Mishra\"     not     \"anonymous\"\n"
   ]
  },
  {
   "cell_type": "markdown",
   "id": "ece96469-1125-4af4-99ee-e419fb6c3945",
   "metadata": {},
   "source": [
    "<br>\n",
    "\n",
    "<strong>Note :</strong> &nbsp;&nbsp;<code style=\"background-color: white;\">Class is a collection of <code style=\"color: red;\">attributes</code> (<u>data</u>) & <code style=\"color: blue;\">methods</code> (<u>functions</u>).</code>\n",
    "\n",
    "<div style=\"margin-left: 120px;\">\n",
    "\n",
    "![](media/Shraddha_Kapra_oops_2.PNG)\n",
    "\n",
    "</div>"
   ]
  },
  {
   "cell_type": "markdown",
   "id": "e01d0c11-1eb2-4c5d-afe6-aa4c994a6a29",
   "metadata": {
    "jp-MarkdownHeadingCollapsed": true
   },
   "source": [
    "<br><br>\n",
    "\n",
    "### <span style=\"color: blue\">Methods</span>\n"
   ]
  },
  {
   "cell_type": "code",
   "execution_count": 64,
   "id": "d439fe78-22c2-4f0b-aec9-1c3c56d6f5ef",
   "metadata": {},
   "outputs": [
    {
     "name": "stdout",
     "output_type": "stream",
     "text": [
      "Hello! Avinash Mishra\n"
     ]
    }
   ],
   "source": [
    "\n",
    "class Student:\n",
    "\n",
    "    college_name = \"abc\"                          # class attribute\n",
    "\n",
    "    # CONSTRUCTOR \n",
    "    def __init__(self, name, marks):\n",
    "        self.name = name                          # object atrribute\n",
    "        self.marks = marks                        # object attribute\n",
    "\n",
    "    # INSTANCE METHOD\n",
    "    def greet(self):\n",
    "        print(\"Hello!\", self.name)\n",
    "\n",
    "\n",
    "\n",
    "s1 = Student(\"Avinash Mishra\", 88)\n",
    "\n",
    "s1.greet()       # method calling\n"
   ]
  },
  {
   "cell_type": "markdown",
   "id": "bd67539b-5025-45d8-9d90-57ef19b07f0e",
   "metadata": {},
   "source": [
    "<br>\n",
    "\n",
    "<div style=\"background-color: #ffe0b0; padding: 10px;\">\n",
    "\n",
    "**Note &nbsp;-** &nbsp;All functions which are inside a class are called <span style=\"color: blue;\">methods</span> of that class.\n",
    "\n",
    "&nbsp;&nbsp;&nbsp;&nbsp;&nbsp;&nbsp;&nbsp;&nbsp;&nbsp;&nbsp;&nbsp;&nbsp;&nbsp;&nbsp;You must have heard about **string methods**, &nbsp;**list methods**, &nbsp;**dictionary methods**, etc. Now you must have understood why they were called <span style=\"color: blue;\">methods</span>? <br>\n",
    "&nbsp;&nbsp;&nbsp;&nbsp;&nbsp;&nbsp;&nbsp;&nbsp;&nbsp;&nbsp;&nbsp;&nbsp;&nbsp;&nbsp;Because <u>all the string methods are written inside the String class</u>. This is true for lists, sets, dictionaries, etc.\n",
    "\n",
    "</div>\n",
    "\n",
    "<br>\n",
    "\n",
    "Remember how we used to call a string method. You will realize while calling a string method, we were actually first creating an object of the String class and only then we were able to call a string method. Let's verify :"
   ]
  },
  {
   "cell_type": "code",
   "execution_count": 65,
   "id": "7847b5d3-6feb-47a0-9aa8-aac033c80ce2",
   "metadata": {},
   "outputs": [
    {
     "name": "stdout",
     "output_type": "stream",
     "text": [
      "<class 'str'>\n",
      "<method-wrapper '__str__' of str object at 0x0000025879231FF0>\n",
      "<method-wrapper '__repr__' of str object at 0x0000025879231FF0>\n",
      "<method-wrapper '__init__' of str object at 0x0000025879231FF0>\n"
     ]
    }
   ],
   "source": [
    "\n",
    "s = \"avinash\"             # s  is  an  object of the 'str' class\n",
    "\n",
    "# LETS VERIFY\n",
    "print(type(s))            # Output:   <class 'str'>\n",
    "print(s.__str__)          # Output:   <method-wrapper '__repr__' of str object at 0x000001C3E68E3DB0>\n",
    "print(s.__repr__)         # Output:   <method-wrapper '__repr__' of str object at 0x000001C3E68E3DB0>\n",
    "print(s.__init__)         # Output:   <method-wrapper '__repr__' of str object at 0x000001C3E68E3DB0>\n"
   ]
  },
  {
   "cell_type": "markdown",
   "id": "75a7d4ae-1105-44ef-a278-3ea91ce24130",
   "metadata": {},
   "source": [
    "<br>\n",
    "\n",
    "<div  style=\"margin-left: 50px;\">\n",
    "    \n",
    "<code>The <strong><code style=\"color: red;\">__repr__</code></strong> method is a built-in method that returns the \"official\" string representation of an object.</code>   <br>\n",
    "    \n",
    "<code>However, calling <code style=\"background-color: yellow;\"><strong>s</strong>.<strong><span style=\"color: red; background-color: yellow;\">__repr__</span></strong></code> <u>without parentheses will give you the method itself</u>, not its result.</code>  <br>\n",
    "\n",
    "<code>Similarly, calling <code style=\"background-color: yellow;\"><strong>s</strong>.<strong><span style=\"color: red; background-color: yellow;\">__str__</span></strong></code>  or <code style=\"background-color: yellow;\"><strong>s</strong>.<strong><span style=\"color: red; background-color: yellow;\">__init__</span></strong></code> without parantheses will give you the method itself, not its result.   </code>\n",
    "</div>\n",
    "\n",
    "<br>\n",
    "\n",
    "Now by using this object &nbsp;<code style=\"background-color: #a5fff3;\"> s </code>, we can call different different methods of the <span style=\"color: red;\">'str'</span> class"
   ]
  },
  {
   "cell_type": "code",
   "execution_count": 17,
   "id": "f40ce6c6-9fd0-489f-a7e8-e2f682e011f7",
   "metadata": {},
   "outputs": [
    {
     "data": {
      "text/plain": [
       "'Avinash'"
      ]
     },
     "execution_count": 17,
     "metadata": {},
     "output_type": "execute_result"
    }
   ],
   "source": [
    "\n",
    "s.capitalize()\n"
   ]
  },
  {
   "cell_type": "code",
   "execution_count": 18,
   "id": "9398fd32-c0bd-441b-a689-a68e3dcc6f28",
   "metadata": {},
   "outputs": [
    {
     "data": {
      "text/plain": [
       "'AVINASH'"
      ]
     },
     "execution_count": 18,
     "metadata": {},
     "output_type": "execute_result"
    }
   ],
   "source": [
    "\n",
    "s.upper()\n"
   ]
  },
  {
   "cell_type": "code",
   "execution_count": 19,
   "id": "0b62acb9-4b2f-4c34-8e44-57319a49c0ef",
   "metadata": {},
   "outputs": [
    {
     "data": {
      "text/plain": [
       "'avinash'"
      ]
     },
     "execution_count": 19,
     "metadata": {},
     "output_type": "execute_result"
    }
   ],
   "source": [
    "\n",
    "s.__str__()\n"
   ]
  },
  {
   "cell_type": "code",
   "execution_count": 20,
   "id": "2ffcffa9-1e1b-4502-9478-b8b9c8f1eb8c",
   "metadata": {},
   "outputs": [
    {
     "data": {
      "text/plain": [
       "\"'avinash'\""
      ]
     },
     "execution_count": 20,
     "metadata": {},
     "output_type": "execute_result"
    }
   ],
   "source": [
    "\n",
    "s.__repr__()\n"
   ]
  },
  {
   "cell_type": "code",
   "execution_count": 21,
   "id": "ec18f829-b0db-4a8c-be1b-853d8854e81a",
   "metadata": {},
   "outputs": [],
   "source": [
    "\n",
    "s.__init__()\n"
   ]
  },
  {
   "cell_type": "code",
   "execution_count": 13,
   "id": "775d3228-f637-44a6-83f0-e6432508a158",
   "metadata": {},
   "outputs": [
    {
     "name": "stdout",
     "output_type": "stream",
     "text": [
      "Help on class str in module builtins:\n",
      "\n",
      "class str(object)\n",
      " |  str(object='') -> str\n",
      " |  str(bytes_or_buffer[, encoding[, errors]]) -> str\n",
      " |  \n",
      " |  Create a new string object from the given object. If encoding or\n",
      " |  errors is specified, then the object must expose a data buffer\n",
      " |  that will be decoded using the given encoding and error handler.\n",
      " |  Otherwise, returns the result of object.__str__() (if defined)\n",
      " |  or repr(object).\n",
      " |  encoding defaults to sys.getdefaultencoding().\n",
      " |  errors defaults to 'strict'.\n",
      " |  \n",
      " |  Methods defined here:\n",
      " |  \n",
      " |  __add__(self, value, /)\n",
      " |      Return self+value.\n",
      " |  \n",
      " |  __contains__(self, key, /)\n",
      " |      Return key in self.\n",
      " |  \n",
      " |  __eq__(self, value, /)\n",
      " |      Return self==value.\n",
      " |  \n",
      " |  __format__(self, format_spec, /)\n",
      " |      Return a formatted version of the string as described by format_spec.\n",
      " |  \n",
      " |  __ge__(self, value, /)\n",
      " |      Return self>=value.\n",
      " |  \n",
      " |  __getattribute__(self, name, /)\n",
      " |      Return getattr(self, name).\n",
      " |  \n",
      " |  __getitem__(self, key, /)\n",
      " |      Return self[key].\n",
      " |  \n",
      " |  __getnewargs__(...)\n",
      " |  \n",
      " |  __gt__(self, value, /)\n",
      " |      Return self>value.\n",
      " |  \n",
      " |  __hash__(self, /)\n",
      " |      Return hash(self).\n",
      " |  \n",
      " |  __iter__(self, /)\n",
      " |      Implement iter(self).\n",
      " |  \n",
      " |  __le__(self, value, /)\n",
      " |      Return self<=value.\n",
      " |  \n",
      " |  __len__(self, /)\n",
      " |      Return len(self).\n",
      " |  \n",
      " |  __lt__(self, value, /)\n",
      " |      Return self<value.\n",
      " |  \n",
      " |  __mod__(self, value, /)\n",
      " |      Return self%value.\n",
      " |  \n",
      " |  __mul__(self, value, /)\n",
      " |      Return self*value.\n",
      " |  \n",
      " |  __ne__(self, value, /)\n",
      " |      Return self!=value.\n",
      " |  \n",
      " |  __repr__(self, /)\n",
      " |      Return repr(self).\n",
      " |  \n",
      " |  __rmod__(self, value, /)\n",
      " |      Return value%self.\n",
      " |  \n",
      " |  __rmul__(self, value, /)\n",
      " |      Return value*self.\n",
      " |  \n",
      " |  __sizeof__(self, /)\n",
      " |      Return the size of the string in memory, in bytes.\n",
      " |  \n",
      " |  __str__(self, /)\n",
      " |      Return str(self).\n",
      " |  \n",
      " |  capitalize(self, /)\n",
      " |      Return a capitalized version of the string.\n",
      " |      \n",
      " |      More specifically, make the first character have upper case and the rest lower\n",
      " |      case.\n",
      " |  \n",
      " |  casefold(self, /)\n",
      " |      Return a version of the string suitable for caseless comparisons.\n",
      " |  \n",
      " |  center(self, width, fillchar=' ', /)\n",
      " |      Return a centered string of length width.\n",
      " |      \n",
      " |      Padding is done using the specified fill character (default is a space).\n",
      " |  \n",
      " |  count(...)\n",
      " |      S.count(sub[, start[, end]]) -> int\n",
      " |      \n",
      " |      Return the number of non-overlapping occurrences of substring sub in\n",
      " |      string S[start:end].  Optional arguments start and end are\n",
      " |      interpreted as in slice notation.\n",
      " |  \n",
      " |  encode(self, /, encoding='utf-8', errors='strict')\n",
      " |      Encode the string using the codec registered for encoding.\n",
      " |      \n",
      " |      encoding\n",
      " |        The encoding in which to encode the string.\n",
      " |      errors\n",
      " |        The error handling scheme to use for encoding errors.\n",
      " |        The default is 'strict' meaning that encoding errors raise a\n",
      " |        UnicodeEncodeError.  Other possible values are 'ignore', 'replace' and\n",
      " |        'xmlcharrefreplace' as well as any other name registered with\n",
      " |        codecs.register_error that can handle UnicodeEncodeErrors.\n",
      " |  \n",
      " |  endswith(...)\n",
      " |      S.endswith(suffix[, start[, end]]) -> bool\n",
      " |      \n",
      " |      Return True if S ends with the specified suffix, False otherwise.\n",
      " |      With optional start, test S beginning at that position.\n",
      " |      With optional end, stop comparing S at that position.\n",
      " |      suffix can also be a tuple of strings to try.\n",
      " |  \n",
      " |  expandtabs(self, /, tabsize=8)\n",
      " |      Return a copy where all tab characters are expanded using spaces.\n",
      " |      \n",
      " |      If tabsize is not given, a tab size of 8 characters is assumed.\n",
      " |  \n",
      " |  find(...)\n",
      " |      S.find(sub[, start[, end]]) -> int\n",
      " |      \n",
      " |      Return the lowest index in S where substring sub is found,\n",
      " |      such that sub is contained within S[start:end].  Optional\n",
      " |      arguments start and end are interpreted as in slice notation.\n",
      " |      \n",
      " |      Return -1 on failure.\n",
      " |  \n",
      " |  format(...)\n",
      " |      S.format(*args, **kwargs) -> str\n",
      " |      \n",
      " |      Return a formatted version of S, using substitutions from args and kwargs.\n",
      " |      The substitutions are identified by braces ('{' and '}').\n",
      " |  \n",
      " |  format_map(...)\n",
      " |      S.format_map(mapping) -> str\n",
      " |      \n",
      " |      Return a formatted version of S, using substitutions from mapping.\n",
      " |      The substitutions are identified by braces ('{' and '}').\n",
      " |  \n",
      " |  index(...)\n",
      " |      S.index(sub[, start[, end]]) -> int\n",
      " |      \n",
      " |      Return the lowest index in S where substring sub is found,\n",
      " |      such that sub is contained within S[start:end].  Optional\n",
      " |      arguments start and end are interpreted as in slice notation.\n",
      " |      \n",
      " |      Raises ValueError when the substring is not found.\n",
      " |  \n",
      " |  isalnum(self, /)\n",
      " |      Return True if the string is an alpha-numeric string, False otherwise.\n",
      " |      \n",
      " |      A string is alpha-numeric if all characters in the string are alpha-numeric and\n",
      " |      there is at least one character in the string.\n",
      " |  \n",
      " |  isalpha(self, /)\n",
      " |      Return True if the string is an alphabetic string, False otherwise.\n",
      " |      \n",
      " |      A string is alphabetic if all characters in the string are alphabetic and there\n",
      " |      is at least one character in the string.\n",
      " |  \n",
      " |  isascii(self, /)\n",
      " |      Return True if all characters in the string are ASCII, False otherwise.\n",
      " |      \n",
      " |      ASCII characters have code points in the range U+0000-U+007F.\n",
      " |      Empty string is ASCII too.\n",
      " |  \n",
      " |  isdecimal(self, /)\n",
      " |      Return True if the string is a decimal string, False otherwise.\n",
      " |      \n",
      " |      A string is a decimal string if all characters in the string are decimal and\n",
      " |      there is at least one character in the string.\n",
      " |  \n",
      " |  isdigit(self, /)\n",
      " |      Return True if the string is a digit string, False otherwise.\n",
      " |      \n",
      " |      A string is a digit string if all characters in the string are digits and there\n",
      " |      is at least one character in the string.\n",
      " |  \n",
      " |  isidentifier(self, /)\n",
      " |      Return True if the string is a valid Python identifier, False otherwise.\n",
      " |      \n",
      " |      Call keyword.iskeyword(s) to test whether string s is a reserved identifier,\n",
      " |      such as \"def\" or \"class\".\n",
      " |  \n",
      " |  islower(self, /)\n",
      " |      Return True if the string is a lowercase string, False otherwise.\n",
      " |      \n",
      " |      A string is lowercase if all cased characters in the string are lowercase and\n",
      " |      there is at least one cased character in the string.\n",
      " |  \n",
      " |  isnumeric(self, /)\n",
      " |      Return True if the string is a numeric string, False otherwise.\n",
      " |      \n",
      " |      A string is numeric if all characters in the string are numeric and there is at\n",
      " |      least one character in the string.\n",
      " |  \n",
      " |  isprintable(self, /)\n",
      " |      Return True if the string is printable, False otherwise.\n",
      " |      \n",
      " |      A string is printable if all of its characters are considered printable in\n",
      " |      repr() or if it is empty.\n",
      " |  \n",
      " |  isspace(self, /)\n",
      " |      Return True if the string is a whitespace string, False otherwise.\n",
      " |      \n",
      " |      A string is whitespace if all characters in the string are whitespace and there\n",
      " |      is at least one character in the string.\n",
      " |  \n",
      " |  istitle(self, /)\n",
      " |      Return True if the string is a title-cased string, False otherwise.\n",
      " |      \n",
      " |      In a title-cased string, upper- and title-case characters may only\n",
      " |      follow uncased characters and lowercase characters only cased ones.\n",
      " |  \n",
      " |  isupper(self, /)\n",
      " |      Return True if the string is an uppercase string, False otherwise.\n",
      " |      \n",
      " |      A string is uppercase if all cased characters in the string are uppercase and\n",
      " |      there is at least one cased character in the string.\n",
      " |  \n",
      " |  join(self, iterable, /)\n",
      " |      Concatenate any number of strings.\n",
      " |      \n",
      " |      The string whose method is called is inserted in between each given string.\n",
      " |      The result is returned as a new string.\n",
      " |      \n",
      " |      Example: '.'.join(['ab', 'pq', 'rs']) -> 'ab.pq.rs'\n",
      " |  \n",
      " |  ljust(self, width, fillchar=' ', /)\n",
      " |      Return a left-justified string of length width.\n",
      " |      \n",
      " |      Padding is done using the specified fill character (default is a space).\n",
      " |  \n",
      " |  lower(self, /)\n",
      " |      Return a copy of the string converted to lowercase.\n",
      " |  \n",
      " |  lstrip(self, chars=None, /)\n",
      " |      Return a copy of the string with leading whitespace removed.\n",
      " |      \n",
      " |      If chars is given and not None, remove characters in chars instead.\n",
      " |  \n",
      " |  partition(self, sep, /)\n",
      " |      Partition the string into three parts using the given separator.\n",
      " |      \n",
      " |      This will search for the separator in the string.  If the separator is found,\n",
      " |      returns a 3-tuple containing the part before the separator, the separator\n",
      " |      itself, and the part after it.\n",
      " |      \n",
      " |      If the separator is not found, returns a 3-tuple containing the original string\n",
      " |      and two empty strings.\n",
      " |  \n",
      " |  removeprefix(self, prefix, /)\n",
      " |      Return a str with the given prefix string removed if present.\n",
      " |      \n",
      " |      If the string starts with the prefix string, return string[len(prefix):].\n",
      " |      Otherwise, return a copy of the original string.\n",
      " |  \n",
      " |  removesuffix(self, suffix, /)\n",
      " |      Return a str with the given suffix string removed if present.\n",
      " |      \n",
      " |      If the string ends with the suffix string and that suffix is not empty,\n",
      " |      return string[:-len(suffix)]. Otherwise, return a copy of the original\n",
      " |      string.\n",
      " |  \n",
      " |  replace(self, old, new, count=-1, /)\n",
      " |      Return a copy with all occurrences of substring old replaced by new.\n",
      " |      \n",
      " |        count\n",
      " |          Maximum number of occurrences to replace.\n",
      " |          -1 (the default value) means replace all occurrences.\n",
      " |      \n",
      " |      If the optional argument count is given, only the first count occurrences are\n",
      " |      replaced.\n",
      " |  \n",
      " |  rfind(...)\n",
      " |      S.rfind(sub[, start[, end]]) -> int\n",
      " |      \n",
      " |      Return the highest index in S where substring sub is found,\n",
      " |      such that sub is contained within S[start:end].  Optional\n",
      " |      arguments start and end are interpreted as in slice notation.\n",
      " |      \n",
      " |      Return -1 on failure.\n",
      " |  \n",
      " |  rindex(...)\n",
      " |      S.rindex(sub[, start[, end]]) -> int\n",
      " |      \n",
      " |      Return the highest index in S where substring sub is found,\n",
      " |      such that sub is contained within S[start:end].  Optional\n",
      " |      arguments start and end are interpreted as in slice notation.\n",
      " |      \n",
      " |      Raises ValueError when the substring is not found.\n",
      " |  \n",
      " |  rjust(self, width, fillchar=' ', /)\n",
      " |      Return a right-justified string of length width.\n",
      " |      \n",
      " |      Padding is done using the specified fill character (default is a space).\n",
      " |  \n",
      " |  rpartition(self, sep, /)\n",
      " |      Partition the string into three parts using the given separator.\n",
      " |      \n",
      " |      This will search for the separator in the string, starting at the end. If\n",
      " |      the separator is found, returns a 3-tuple containing the part before the\n",
      " |      separator, the separator itself, and the part after it.\n",
      " |      \n",
      " |      If the separator is not found, returns a 3-tuple containing two empty strings\n",
      " |      and the original string.\n",
      " |  \n",
      " |  rsplit(self, /, sep=None, maxsplit=-1)\n",
      " |      Return a list of the substrings in the string, using sep as the separator string.\n",
      " |      \n",
      " |        sep\n",
      " |          The separator used to split the string.\n",
      " |      \n",
      " |          When set to None (the default value), will split on any whitespace\n",
      " |          character (including \\\\n \\\\r \\\\t \\\\f and spaces) and will discard\n",
      " |          empty strings from the result.\n",
      " |        maxsplit\n",
      " |          Maximum number of splits (starting from the left).\n",
      " |          -1 (the default value) means no limit.\n",
      " |      \n",
      " |      Splitting starts at the end of the string and works to the front.\n",
      " |  \n",
      " |  rstrip(self, chars=None, /)\n",
      " |      Return a copy of the string with trailing whitespace removed.\n",
      " |      \n",
      " |      If chars is given and not None, remove characters in chars instead.\n",
      " |  \n",
      " |  split(self, /, sep=None, maxsplit=-1)\n",
      " |      Return a list of the substrings in the string, using sep as the separator string.\n",
      " |      \n",
      " |        sep\n",
      " |          The separator used to split the string.\n",
      " |      \n",
      " |          When set to None (the default value), will split on any whitespace\n",
      " |          character (including \\\\n \\\\r \\\\t \\\\f and spaces) and will discard\n",
      " |          empty strings from the result.\n",
      " |        maxsplit\n",
      " |          Maximum number of splits (starting from the left).\n",
      " |          -1 (the default value) means no limit.\n",
      " |      \n",
      " |      Note, str.split() is mainly useful for data that has been intentionally\n",
      " |      delimited.  With natural text that includes punctuation, consider using\n",
      " |      the regular expression module.\n",
      " |  \n",
      " |  splitlines(self, /, keepends=False)\n",
      " |      Return a list of the lines in the string, breaking at line boundaries.\n",
      " |      \n",
      " |      Line breaks are not included in the resulting list unless keepends is given and\n",
      " |      true.\n",
      " |  \n",
      " |  startswith(...)\n",
      " |      S.startswith(prefix[, start[, end]]) -> bool\n",
      " |      \n",
      " |      Return True if S starts with the specified prefix, False otherwise.\n",
      " |      With optional start, test S beginning at that position.\n",
      " |      With optional end, stop comparing S at that position.\n",
      " |      prefix can also be a tuple of strings to try.\n",
      " |  \n",
      " |  strip(self, chars=None, /)\n",
      " |      Return a copy of the string with leading and trailing whitespace removed.\n",
      " |      \n",
      " |      If chars is given and not None, remove characters in chars instead.\n",
      " |  \n",
      " |  swapcase(self, /)\n",
      " |      Convert uppercase characters to lowercase and lowercase characters to uppercase.\n",
      " |  \n",
      " |  title(self, /)\n",
      " |      Return a version of the string where each word is titlecased.\n",
      " |      \n",
      " |      More specifically, words start with uppercased characters and all remaining\n",
      " |      cased characters have lower case.\n",
      " |  \n",
      " |  translate(self, table, /)\n",
      " |      Replace each character in the string using the given translation table.\n",
      " |      \n",
      " |        table\n",
      " |          Translation table, which must be a mapping of Unicode ordinals to\n",
      " |          Unicode ordinals, strings, or None.\n",
      " |      \n",
      " |      The table must implement lookup/indexing via __getitem__, for instance a\n",
      " |      dictionary or list.  If this operation raises LookupError, the character is\n",
      " |      left untouched.  Characters mapped to None are deleted.\n",
      " |  \n",
      " |  upper(self, /)\n",
      " |      Return a copy of the string converted to uppercase.\n",
      " |  \n",
      " |  zfill(self, width, /)\n",
      " |      Pad a numeric string with zeros on the left, to fill a field of the given width.\n",
      " |      \n",
      " |      The string is never truncated.\n",
      " |  \n",
      " |  ----------------------------------------------------------------------\n",
      " |  Static methods defined here:\n",
      " |  \n",
      " |  __new__(*args, **kwargs) from builtins.type\n",
      " |      Create and return a new object.  See help(type) for accurate signature.\n",
      " |  \n",
      " |  maketrans(...)\n",
      " |      Return a translation table usable for str.translate().\n",
      " |      \n",
      " |      If there is only one argument, it must be a dictionary mapping Unicode\n",
      " |      ordinals (integers) or characters to Unicode ordinals, strings or None.\n",
      " |      Character keys will be then converted to ordinals.\n",
      " |      If there are two arguments, they must be strings of equal length, and\n",
      " |      in the resulting dictionary, each character in x will be mapped to the\n",
      " |      character at the same position in y. If there is a third argument, it\n",
      " |      must be a string, whose characters will be mapped to None in the result.\n",
      "\n"
     ]
    }
   ],
   "source": [
    "\n",
    "help(str)\n"
   ]
  },
  {
   "cell_type": "markdown",
   "id": "10b5592e-b06f-40f9-bc01-f8d61b53c70e",
   "metadata": {},
   "source": [
    "<br>\n",
    "\n",
    "<div style=\"background-color: #ffe0b0; padding: 10px;\">\n",
    "<code style=\"background-color: #ffe0b0;\">Infact, everything is an <span style=\"color: blue;\">object</span> in python.</code>\n",
    "</div>"
   ]
  },
  {
   "cell_type": "code",
   "execution_count": 76,
   "id": "0102bbaf-2537-4f11-9ddf-1d905cacdada",
   "metadata": {},
   "outputs": [
    {
     "data": {
      "text/plain": [
       "int"
      ]
     },
     "execution_count": 76,
     "metadata": {},
     "output_type": "execute_result"
    }
   ],
   "source": [
    "\n",
    "age = 10\n",
    "\n",
    "type(age)\n"
   ]
  },
  {
   "cell_type": "code",
   "execution_count": 77,
   "id": "56b279b6-0cdd-4b5a-9f24-3f0ade7919f4",
   "metadata": {},
   "outputs": [
    {
     "name": "stdout",
     "output_type": "stream",
     "text": [
      "<class 'int'>\n"
     ]
    }
   ],
   "source": [
    "\n",
    "print(type(age))\n"
   ]
  },
  {
   "cell_type": "code",
   "execution_count": 85,
   "id": "d81cf9ed-6e27-44c0-9a28-5d5b766027c9",
   "metadata": {},
   "outputs": [
    {
     "name": "stdout",
     "output_type": "stream",
     "text": [
      "<method-wrapper '__init__' of int object at 0x00007FF880C9E448>\n",
      "<method-wrapper '__add__' of int object at 0x00007FF880C9E448>\n"
     ]
    }
   ],
   "source": [
    "\n",
    "print(age.__init__)     # Output:  <method-wrapper '__init__' of int object at 0x00007FF880C9E448>\n",
    "print(age.__add__)      # Output:  <method-wrapper '__init__' of int object at 0x00007FF880C9E448>\n"
   ]
  },
  {
   "cell_type": "code",
   "execution_count": 14,
   "id": "df09b2ae-e69d-486a-be13-5227b25a2204",
   "metadata": {},
   "outputs": [
    {
     "name": "stdout",
     "output_type": "stream",
     "text": [
      "Help on class int in module builtins:\n",
      "\n",
      "class int(object)\n",
      " |  int([x]) -> integer\n",
      " |  int(x, base=10) -> integer\n",
      " |  \n",
      " |  Convert a number or string to an integer, or return 0 if no arguments\n",
      " |  are given.  If x is a number, return x.__int__().  For floating point\n",
      " |  numbers, this truncates towards zero.\n",
      " |  \n",
      " |  If x is not a number or if base is given, then x must be a string,\n",
      " |  bytes, or bytearray instance representing an integer literal in the\n",
      " |  given base.  The literal can be preceded by '+' or '-' and be surrounded\n",
      " |  by whitespace.  The base defaults to 10.  Valid bases are 0 and 2-36.\n",
      " |  Base 0 means to interpret the base from the string as an integer literal.\n",
      " |  >>> int('0b100', base=0)\n",
      " |  4\n",
      " |  \n",
      " |  Built-in subclasses:\n",
      " |      bool\n",
      " |  \n",
      " |  Methods defined here:\n",
      " |  \n",
      " |  __abs__(self, /)\n",
      " |      abs(self)\n",
      " |  \n",
      " |  __add__(self, value, /)\n",
      " |      Return self+value.\n",
      " |  \n",
      " |  __and__(self, value, /)\n",
      " |      Return self&value.\n",
      " |  \n",
      " |  __bool__(self, /)\n",
      " |      True if self else False\n",
      " |  \n",
      " |  __ceil__(...)\n",
      " |      Ceiling of an Integral returns itself.\n",
      " |  \n",
      " |  __divmod__(self, value, /)\n",
      " |      Return divmod(self, value).\n",
      " |  \n",
      " |  __eq__(self, value, /)\n",
      " |      Return self==value.\n",
      " |  \n",
      " |  __float__(self, /)\n",
      " |      float(self)\n",
      " |  \n",
      " |  __floor__(...)\n",
      " |      Flooring an Integral returns itself.\n",
      " |  \n",
      " |  __floordiv__(self, value, /)\n",
      " |      Return self//value.\n",
      " |  \n",
      " |  __format__(self, format_spec, /)\n",
      " |      Default object formatter.\n",
      " |  \n",
      " |  __ge__(self, value, /)\n",
      " |      Return self>=value.\n",
      " |  \n",
      " |  __getattribute__(self, name, /)\n",
      " |      Return getattr(self, name).\n",
      " |  \n",
      " |  __getnewargs__(self, /)\n",
      " |  \n",
      " |  __gt__(self, value, /)\n",
      " |      Return self>value.\n",
      " |  \n",
      " |  __hash__(self, /)\n",
      " |      Return hash(self).\n",
      " |  \n",
      " |  __index__(self, /)\n",
      " |      Return self converted to an integer, if self is suitable for use as an index into a list.\n",
      " |  \n",
      " |  __int__(self, /)\n",
      " |      int(self)\n",
      " |  \n",
      " |  __invert__(self, /)\n",
      " |      ~self\n",
      " |  \n",
      " |  __le__(self, value, /)\n",
      " |      Return self<=value.\n",
      " |  \n",
      " |  __lshift__(self, value, /)\n",
      " |      Return self<<value.\n",
      " |  \n",
      " |  __lt__(self, value, /)\n",
      " |      Return self<value.\n",
      " |  \n",
      " |  __mod__(self, value, /)\n",
      " |      Return self%value.\n",
      " |  \n",
      " |  __mul__(self, value, /)\n",
      " |      Return self*value.\n",
      " |  \n",
      " |  __ne__(self, value, /)\n",
      " |      Return self!=value.\n",
      " |  \n",
      " |  __neg__(self, /)\n",
      " |      -self\n",
      " |  \n",
      " |  __or__(self, value, /)\n",
      " |      Return self|value.\n",
      " |  \n",
      " |  __pos__(self, /)\n",
      " |      +self\n",
      " |  \n",
      " |  __pow__(self, value, mod=None, /)\n",
      " |      Return pow(self, value, mod).\n",
      " |  \n",
      " |  __radd__(self, value, /)\n",
      " |      Return value+self.\n",
      " |  \n",
      " |  __rand__(self, value, /)\n",
      " |      Return value&self.\n",
      " |  \n",
      " |  __rdivmod__(self, value, /)\n",
      " |      Return divmod(value, self).\n",
      " |  \n",
      " |  __repr__(self, /)\n",
      " |      Return repr(self).\n",
      " |  \n",
      " |  __rfloordiv__(self, value, /)\n",
      " |      Return value//self.\n",
      " |  \n",
      " |  __rlshift__(self, value, /)\n",
      " |      Return value<<self.\n",
      " |  \n",
      " |  __rmod__(self, value, /)\n",
      " |      Return value%self.\n",
      " |  \n",
      " |  __rmul__(self, value, /)\n",
      " |      Return value*self.\n",
      " |  \n",
      " |  __ror__(self, value, /)\n",
      " |      Return value|self.\n",
      " |  \n",
      " |  __round__(...)\n",
      " |      Rounding an Integral returns itself.\n",
      " |      \n",
      " |      Rounding with an ndigits argument also returns an integer.\n",
      " |  \n",
      " |  __rpow__(self, value, mod=None, /)\n",
      " |      Return pow(value, self, mod).\n",
      " |  \n",
      " |  __rrshift__(self, value, /)\n",
      " |      Return value>>self.\n",
      " |  \n",
      " |  __rshift__(self, value, /)\n",
      " |      Return self>>value.\n",
      " |  \n",
      " |  __rsub__(self, value, /)\n",
      " |      Return value-self.\n",
      " |  \n",
      " |  __rtruediv__(self, value, /)\n",
      " |      Return value/self.\n",
      " |  \n",
      " |  __rxor__(self, value, /)\n",
      " |      Return value^self.\n",
      " |  \n",
      " |  __sizeof__(self, /)\n",
      " |      Returns size in memory, in bytes.\n",
      " |  \n",
      " |  __sub__(self, value, /)\n",
      " |      Return self-value.\n",
      " |  \n",
      " |  __truediv__(self, value, /)\n",
      " |      Return self/value.\n",
      " |  \n",
      " |  __trunc__(...)\n",
      " |      Truncating an Integral returns itself.\n",
      " |  \n",
      " |  __xor__(self, value, /)\n",
      " |      Return self^value.\n",
      " |  \n",
      " |  as_integer_ratio(self, /)\n",
      " |      Return integer ratio.\n",
      " |      \n",
      " |      Return a pair of integers, whose ratio is exactly equal to the original int\n",
      " |      and with a positive denominator.\n",
      " |      \n",
      " |      >>> (10).as_integer_ratio()\n",
      " |      (10, 1)\n",
      " |      >>> (-10).as_integer_ratio()\n",
      " |      (-10, 1)\n",
      " |      >>> (0).as_integer_ratio()\n",
      " |      (0, 1)\n",
      " |  \n",
      " |  bit_count(self, /)\n",
      " |      Number of ones in the binary representation of the absolute value of self.\n",
      " |      \n",
      " |      Also known as the population count.\n",
      " |      \n",
      " |      >>> bin(13)\n",
      " |      '0b1101'\n",
      " |      >>> (13).bit_count()\n",
      " |      3\n",
      " |  \n",
      " |  bit_length(self, /)\n",
      " |      Number of bits necessary to represent self in binary.\n",
      " |      \n",
      " |      >>> bin(37)\n",
      " |      '0b100101'\n",
      " |      >>> (37).bit_length()\n",
      " |      6\n",
      " |  \n",
      " |  conjugate(...)\n",
      " |      Returns self, the complex conjugate of any int.\n",
      " |  \n",
      " |  to_bytes(self, /, length=1, byteorder='big', *, signed=False)\n",
      " |      Return an array of bytes representing an integer.\n",
      " |      \n",
      " |      length\n",
      " |        Length of bytes object to use.  An OverflowError is raised if the\n",
      " |        integer is not representable with the given number of bytes.  Default\n",
      " |        is length 1.\n",
      " |      byteorder\n",
      " |        The byte order used to represent the integer.  If byteorder is 'big',\n",
      " |        the most significant byte is at the beginning of the byte array.  If\n",
      " |        byteorder is 'little', the most significant byte is at the end of the\n",
      " |        byte array.  To request the native byte order of the host system, use\n",
      " |        `sys.byteorder' as the byte order value.  Default is to use 'big'.\n",
      " |      signed\n",
      " |        Determines whether two's complement is used to represent the integer.\n",
      " |        If signed is False and a negative integer is given, an OverflowError\n",
      " |        is raised.\n",
      " |  \n",
      " |  ----------------------------------------------------------------------\n",
      " |  Class methods defined here:\n",
      " |  \n",
      " |  from_bytes(bytes, byteorder='big', *, signed=False) from builtins.type\n",
      " |      Return the integer represented by the given array of bytes.\n",
      " |      \n",
      " |      bytes\n",
      " |        Holds the array of bytes to convert.  The argument must either\n",
      " |        support the buffer protocol or be an iterable object producing bytes.\n",
      " |        Bytes and bytearray are examples of built-in objects that support the\n",
      " |        buffer protocol.\n",
      " |      byteorder\n",
      " |        The byte order used to represent the integer.  If byteorder is 'big',\n",
      " |        the most significant byte is at the beginning of the byte array.  If\n",
      " |        byteorder is 'little', the most significant byte is at the end of the\n",
      " |        byte array.  To request the native byte order of the host system, use\n",
      " |        `sys.byteorder' as the byte order value.  Default is to use 'big'.\n",
      " |      signed\n",
      " |        Indicates whether two's complement is used to represent the integer.\n",
      " |  \n",
      " |  ----------------------------------------------------------------------\n",
      " |  Static methods defined here:\n",
      " |  \n",
      " |  __new__(*args, **kwargs) from builtins.type\n",
      " |      Create and return a new object.  See help(type) for accurate signature.\n",
      " |  \n",
      " |  ----------------------------------------------------------------------\n",
      " |  Data descriptors defined here:\n",
      " |  \n",
      " |  denominator\n",
      " |      the denominator of a rational number in lowest terms\n",
      " |  \n",
      " |  imag\n",
      " |      the imaginary part of a complex number\n",
      " |  \n",
      " |  numerator\n",
      " |      the numerator of a rational number in lowest terms\n",
      " |  \n",
      " |  real\n",
      " |      the real part of a complex number\n",
      "\n"
     ]
    }
   ],
   "source": [
    "\n",
    "help(int)\n"
   ]
  },
  {
   "cell_type": "markdown",
   "id": "9db21927-32de-4d12-a1e5-ff12a97e302b",
   "metadata": {},
   "source": [
    "<br>\n",
    "\n",
    "<div style=\"background-color: #ffe0b0; padding: 10px;\">\n",
    "<code style=\"background-color: #ffe0b0;\">For any constructor, <code style=\"background-color: #a5fff3;\">self</code> will be always be the &nbsp;<strong><span style=\"font-size: 1.01rem\">1st parameter</span></strong>&nbsp; irrespective of using it or not.</strong></code>\n",
    "</div>"
   ]
  },
  {
   "cell_type": "code",
   "execution_count": 68,
   "id": "819fb2df-5124-4a7a-9fca-4a7bc066291b",
   "metadata": {},
   "outputs": [
    {
     "name": "stdout",
     "output_type": "stream",
     "text": [
      "Hello! Avinash Mishra\n",
      "You scored : 88\n",
      "Your updated score : 94\n",
      "Tomorrow is holiday\n"
     ]
    }
   ],
   "source": [
    "\n",
    "class Student:\n",
    "    college_name = \"abc\"                              # class  attribute\n",
    "    \n",
    "    def __init__(self, name, marks):\n",
    "        self.name = name                              # object  atrribute\n",
    "        self.marks = marks                            # object  attribute\n",
    "    \n",
    "    def greet(self):\n",
    "        print(\"Hello!\", self.name)                    # using  self  inside  the  method\n",
    "    \n",
    "    def get_marks(self):\n",
    "        return self.marks                             # using  self  inside  the  method\n",
    "    \n",
    "    def update_marks(self, marks):\n",
    "        self.marks = marks                            # using  self  inside  the  method\n",
    "        return self.marks\n",
    "    \n",
    "    def notification(self):                           \n",
    "        print(\"Tomorrow is holiday\")                  # not  using  self  inside  the  method\n",
    "    \n",
    "    def do_nothing(self):                             # not  using  self  inside  the  method\n",
    "        pass\n",
    "        \n",
    "\n",
    "##################################################################################################################################\n",
    "\n",
    "\n",
    "s1 = Student(\"Avinash Mishra\", 88)                     # creates  an  object  s1  of  Student  type\n",
    "\n",
    "s1.greet()                                             # instance method calling     =====>    greet()\n",
    "\n",
    "s1_marks = s1.get_marks()                              # instance method calling     =====>    get_marks()\n",
    "print(\"You scored :\", s1_marks)\n",
    "\n",
    "s1_updated_marks = s1.update_marks(94)                 # instance method calling     =====>    update_marks()\n",
    "print(\"Your updated score :\", s1_updated_marks)\n",
    "\n",
    "s1.notification()                                      # instance method calling     =====>    ask()\n",
    "\n",
    "s1.do_nothing()                                        # instance method calling     =====>    do_nothing()\n"
   ]
  },
  {
   "cell_type": "markdown",
   "id": "bdfa2624-0a1b-44b9-8e0c-c738e5a2f37e",
   "metadata": {},
   "source": [
    "<br>\n",
    "\n",
    "<div style=\"background-color: #ffe0b0; padding: 10px;\">\n",
    "<code style=\"background-color: #ffe0b0;\">Removing <code style=\"background-color: #a5fff3;\">self</code> will cause <span style=\"color: red;\"><strong><u>positional error</u></strong></span> irrespective of whether you are using it or not</code>.\n",
    "</div>"
   ]
  },
  {
   "cell_type": "code",
   "execution_count": 70,
   "id": "1ea057b0-ea76-4932-9b0a-7c1115a514c1",
   "metadata": {},
   "outputs": [
    {
     "ename": "TypeError",
     "evalue": "Student.greet() takes 0 positional arguments but 1 was given",
     "output_type": "error",
     "traceback": [
      "\u001b[1;31m---------------------------------------------------------------------------\u001b[0m",
      "\u001b[1;31mTypeError\u001b[0m                                 Traceback (most recent call last)",
      "Cell \u001b[1;32mIn[70], line 15\u001b[0m\n\u001b[0;32m      9\u001b[0m         \u001b[38;5;28mprint\u001b[39m(\u001b[38;5;124m\"\u001b[39m\u001b[38;5;124mHello!\u001b[39m\u001b[38;5;124m\"\u001b[39m, \u001b[38;5;28mself\u001b[39m\u001b[38;5;241m.\u001b[39mname)\n\u001b[0;32m     13\u001b[0m s1 \u001b[38;5;241m=\u001b[39m Student(\u001b[38;5;124m\"\u001b[39m\u001b[38;5;124mAvinash Mishra\u001b[39m\u001b[38;5;124m\"\u001b[39m, \u001b[38;5;241m88\u001b[39m)     \u001b[38;5;66;03m# creates  an  object  s1  of  Student  type\u001b[39;00m\n\u001b[1;32m---> 15\u001b[0m \u001b[43ms1\u001b[49m\u001b[38;5;241;43m.\u001b[39;49m\u001b[43mgreet\u001b[49m\u001b[43m(\u001b[49m\u001b[43m)\u001b[49m                             \u001b[38;5;66;03m# instnce method calling   ======>   greet()\u001b[39;00m\n",
      "\u001b[1;31mTypeError\u001b[0m: Student.greet() takes 0 positional arguments but 1 was given"
     ]
    }
   ],
   "source": [
    "\n",
    "class Student:\n",
    "    college_name = \"abc\"                 # class  attribute\n",
    "\n",
    "    def __init__(self, name, marks):\n",
    "        self.name = name                # object  atrribute\n",
    "        self.marks = marks              # object  attribute\n",
    "\n",
    "    def greet():                    # Removing 'self' will cause error   ==>   TypeError: Student.greet() takes 0 positional arguments but 1 was given  \n",
    "        print(\"Hello!\", self.name)\n",
    "\n",
    "\n",
    "\n",
    "s1 = Student(\"Avinash Mishra\", 88)     # creates  an  object  s1  of  Student  type\n",
    "\n",
    "s1.greet()                             # instnce method calling   ======>   greet()\n"
   ]
  },
  {
   "cell_type": "markdown",
   "id": "47688b7d-ac86-4ff5-bc21-8d56c9326456",
   "metadata": {},
   "source": [
    "<br>\n",
    "\n",
    "<div style=\"background-color: #ffe0b0; padding: 10px;\">\n",
    "<code style=\"background-color: #ffe0b0;\">If you don't have any explicit constructor in a class, the &nbsp;<strong><span style=\"font-size: 1.04rem\">deafult constrcutor</span></strong>&nbsp; works in the background.</code>\n",
    "\n",
    "<br>\n",
    "\n",
    "<pre>\n",
    "    \n",
    "    <span style=\"color: green;\">def</span> <span style=\"color: blue;\">__init__</span>(self):\n",
    "        <span style=\"color: green;\">pass</span>\n",
    "    \n",
    "</pre>\n",
    "    \n",
    "</div>"
   ]
  },
  {
   "cell_type": "code",
   "execution_count": 71,
   "id": "9ac427b4-c851-4a23-8f67-6811f40b534a",
   "metadata": {},
   "outputs": [
    {
     "name": "stdout",
     "output_type": "stream",
     "text": [
      "Hello! Students\n"
     ]
    }
   ],
   "source": [
    "\n",
    "class Student:\n",
    "    \n",
    "    # INSTANCE  METHO\n",
    "    def greet(self):\n",
    "        print(\"Hello! Students\")\n",
    "\n",
    "\n",
    "s1 = Student()     # creates  an  object  s1  of  Student  type\n",
    "\n",
    "s1.greet()         # method calling  ======>  greet()\n"
   ]
  },
  {
   "cell_type": "markdown",
   "id": "9e1a3cd3-e90d-443e-a57b-9c33c1aeb155",
   "metadata": {},
   "source": [
    "<br>\n",
    "\n",
    "**Let's &nbsp; Practice**\n",
    "\n",
    "<pre style=\"background-color: yellow;\">\n",
    "    \n",
    "    Create student class that takes name and marks of 3 subjects as arguments in constructor. \n",
    "    Then create a method to print the average. \n",
    "    Then change the name of a student.\n",
    "    \n",
    "</pre>\n"
   ]
  },
  {
   "cell_type": "code",
   "execution_count": 72,
   "id": "503f8db1-7010-42b7-ad43-d01374388971",
   "metadata": {},
   "outputs": [
    {
     "name": "stdout",
     "output_type": "stream",
     "text": [
      "hi Avinash , your average score is 90.66666666666667\n"
     ]
    }
   ],
   "source": [
    "\n",
    "class Student:\n",
    "    \n",
    "    def __init__(self, name, marks):         # CONSTRCTOR\n",
    "        self.name = name\n",
    "        self.marks = marks\n",
    "\n",
    "    def average_marks(self):                 # INSTANCE METHOD\n",
    "        avg_score = sum(self.marks) / 3\n",
    "        print(\"hi\", self.name, \", your average score is\", avg_score)\n",
    "    \n",
    "    \n",
    "s = Student(\"Avinash\", [88, 94, 90])         # creates  an  object  s1  of  Student  type\n",
    "\n",
    "s.average_marks()\n"
   ]
  },
  {
   "cell_type": "code",
   "execution_count": 74,
   "id": "4abdba8c-e07e-4a88-a6ea-83df50734d46",
   "metadata": {},
   "outputs": [
    {
     "name": "stdout",
     "output_type": "stream",
     "text": [
      "hi Avinash Kumar Mishra , your average score is 90.66666666666667\n"
     ]
    }
   ],
   "source": [
    "\n",
    "class Student:\n",
    "    def __init__(self, name, marks):          # CONSTRCTOR\n",
    "        self.name = name                      # object  attribute\n",
    "        self.marks = marks                    # object  attribute\n",
    "\n",
    "    def average_marks(self):                  # INSTANCE METHOD\n",
    "        avg_score = sum(self.marks) / 3\n",
    "        print(\"hi\", self.name, \", your average score is\", avg_score)\n",
    "    \n",
    "    \n",
    "s = Student(\"Avinash\", [88, 94, 90])          # creates  an  object  s1  of  Student  type\n",
    "\n",
    "s.name = \"Avinash Kumar Mishra\"\n",
    "\n",
    "s.average_marks()\n"
   ]
  },
  {
   "cell_type": "markdown",
   "id": "f38e2b64-48a0-4a19-a559-06cb0b0053e4",
   "metadata": {},
   "source": [
    "<br>\n",
    "\n",
    "<div style=\"background-color: #ffe0b0; padding: 10px;\">\n",
    "Methods are of two types :  <br>\n",
    "&nbsp;&nbsp;&nbsp;&nbsp;&nbsp;1. &nbsp;&nbsp;<strong>Static&nbsp; Methods</strong>   &nbsp;&nbsp;&nbsp;&nbsp;&nbsp;=====>&nbsp;&nbsp;<code style=\"background-color: #ffe0b0;\"> Methods that <u>don't use</u> the <span style=\"color: #ff000c;\">self</span> or <span style=\"color: #ff000c;\">cls</span> parameter (work at class level)</code><br>\n",
    "&nbsp;&nbsp;&nbsp;&nbsp;&nbsp;2. &nbsp;&nbsp;<strong>Class&nbsp; Methods</strong>    &nbsp;&nbsp;&nbsp;&nbsp;&nbsp;&nbsp;=====>&nbsp;&nbsp;<code style=\"background-color: #ffe0b0;\"> Methods that <u>use</u> the <span style=\"color: #ff000c;\">self - like</span> parameter i.e <span style=\"background-color: yellow;\">cls</span> (work at class level)</code><br><br>\n",
    "\n",
    "---\n",
    "\n",
    "<br>\n",
    "\n",
    "An **instance method** in Python is a method that is defined inside a class and is intended to be called on <span style=\"color: blue;\">instances (objects)</span> of that class. Instance methods are the <u>most common type of method</u> in Python classes, and they are used to perform actions that rely on the data stored in an instance of the class.\n",
    "\n",
    "<u><span style=\"color: #ff2ef2;\"><strong>Key &nbsp;Characteristics &nbsp;of &nbsp;Instance &nbsp;Methods</strong></span></u> :\n",
    "\n",
    "<div style=\"background-color: #ffe0b0; padding: 10px; margin-left: 40px; margin-top: -20px;\">\n",
    "\n",
    "1. <span style=\"color: red;\"><strong>Self Parameter</strong></span> : The first parameter of an instance method is always <code style=\"background-color: #ffe0b0;\"><span style=\"background-color: yellow\">self</span></code>. &nbsp;This parameter refers to the instance of the class on which the method is being called. Through self, instance methods can access and modify the attributes of the instance.\n",
    "\n",
    "2. <span style=\"color: red;\"><strong>Instance-Specific</strong></span> : Instance methods can access and modify instance-specific data (attributes). This allows each object (instance) of the class to maintain its own state.\n",
    "\n",
    "3. <span style=\"color: red;\"><strong>Callable on Instances</strong></span> : Instance methods are called on instances of a class, not on the class itself.\n",
    "    \n",
    "</div>\n",
    "\n",
    "</div>"
   ]
  },
  {
   "cell_type": "markdown",
   "id": "8a32ad7e-060a-4e24-9925-d7789d6b018a",
   "metadata": {},
   "source": [
    "<br><br>\n",
    "\n",
    "### <span style=\"color: blue\">Static Methods</span>\n"
   ]
  },
  {
   "cell_type": "markdown",
   "id": "585f2529-b611-42a9-b3d2-032ad270a702",
   "metadata": {},
   "source": [
    "<div style=\"margin-left: 145px;\">\n",
    "\n",
    "![](media/Shraddha_Kapra_oops_3.PNG)\n",
    "\n",
    "</div>\n",
    "\n",
    "\n",
    "Consider the following example :  <br>\n",
    "\n",
    "\n",
    "<div style=\"margin-left: 120px;\">\n",
    "\n",
    "![](media/Shraddha_Kapra_oops_4.PNG)\n",
    "\n",
    "</div>\n",
    "\n",
    "<strong><font size=\"+1\"><u>Decorators</u></font></strong>\n",
    "\n",
    "<div style=\"background-color: #ffe0b0; padding: 10px;\">\n",
    "\n",
    "=><code style=\"background-color: #ffe0b0;\">A <strong><span style=\"color: red;\">decorator</span></strong> is a function that <u>takes another function as an argument</u> and <u>returns a new function</u> that usually extends or alters the behavior of the original function.</code>\n",
    "\n",
    "=><code style=\"background-color: #ffe0b0;\">In Python, <strong><span style=\"color: red;\">decorators</span></strong> are a flexible feature that allow us to wrap a function and modify it's behavior <u>without changing the function's code itself</u>.</code>\n",
    "\n",
    "</div>\n",
    "\n",
    "<br>"
   ]
  },
  {
   "cell_type": "code",
   "execution_count": 75,
   "id": "2bd4bd93-4ec5-4073-9f2a-e9e43c3155b4",
   "metadata": {},
   "outputs": [
    {
     "name": "stdout",
     "output_type": "stream",
     "text": [
      "Tomorrow is holiday\n"
     ]
    }
   ],
   "source": [
    "class Student:\n",
    "    \n",
    "    college_name = \"abc\"                           # class attribute\n",
    "    \n",
    "    def __init__(self, name, marks):               # CONSTRUCTOR\n",
    "        self.name = name                           # object atrribute\n",
    "        self.marks = marks                         # object attribute\n",
    "    \n",
    "    def greet(self):                               # INSTANCE  METHOD\n",
    "        print(\"Hello!\", self.name)                 # using self inside the method\n",
    "    \n",
    "    @staticmethod                                  # DECORATOR\n",
    "    def notification():                            # passing self in this method does not make any sense, so it should be converted into a static method\n",
    "        print(\"Tomorrow is holiday\")               # not using any self inside the method\n",
    "        \n",
    "\n",
    "s1 = Student(\"Avinash Mishra\", [88, 94, 90])       # creating an object s1 of Student type\n",
    "\n",
    "s1.notification()                                  # method calling\n"
   ]
  },
  {
   "cell_type": "markdown",
   "id": "811ce0d5-8169-4f12-aeb3-4c364e385968",
   "metadata": {},
   "source": [
    "<br>\n",
    "\n",
    "Let &nbsp;us &nbsp;understand &nbsp;how &nbsp;does &nbsp;a &nbsp;**decorator** &nbsp;work?\n",
    "\n",
    "![](media/Shraddha_Kapra_oops_5.PNG)\n",
    "\n",
    "<div style=\"margin-left: -100px;\">\n",
    "    \n",
    "| Step | Summary &nbsp;of &nbsp;Order &nbsp;Execution|\n",
    "|-|--------------------------------|\n",
    "|&nbsp;&nbsp;<span style=\"color: red;\"><strong>1</strong></span>| &nbsp;&nbsp;&nbsp;&nbsp;&nbsp;&nbsp;&nbsp;&nbsp;&nbsp;&nbsp;&nbsp;&nbsp;&nbsp;<code style=\"background-color: #c2fff8;\">Line  <strong>1</strong>:   Define  <span style=\"color: red;\">\"my_decorator\"</span></code>  |\n",
    "|&nbsp;&nbsp;<span style=\"color: red;\"><strong>2</strong></span>| &nbsp;&nbsp;&nbsp;&nbsp;&nbsp;&nbsp;&nbsp;&nbsp;&nbsp;&nbsp;&nbsp;&nbsp;&nbsp;<code style=\"background-color: #c2fff8;\">Line <strong>16</strong>:   Apply  <span style=\"color: red;\">@my_decorator</span>  to  <span style=\"color: red;\">say_hello</span></code> |\n",
    "|&nbsp;&nbsp;<span style=\"color: red;\"><strong>3</strong></span>| &nbsp;&nbsp;&nbsp;&nbsp;&nbsp;&nbsp;&nbsp;&nbsp;&nbsp;&nbsp;&nbsp;&nbsp;&nbsp;<code style=\"background-color: #c2fff8;\">Line <strong>17</strong>:   Define  <span style=\"color: red;\">say_hello</span>  <font size=\"3px;\">( </font>triggers  <span style=\"color: blue;\"><font size=\"3px;\"><strong>my_decorator(say_hello)</strong></font></span><font size=\"3px;\"> )</font></code>|\n",
    "|&nbsp;&nbsp;<span style=\"color: red;\"><strong>4</strong></span>| &nbsp;&nbsp;&nbsp;&nbsp;&nbsp;&nbsp;&nbsp;&nbsp;&nbsp;&nbsp;&nbsp;&nbsp;&nbsp;<code style=\"background-color: #c2fff8;\">Line  <strong>2</strong>:   Define  <span style=\"color: red;\">wrapper</span>  inside  <span style=\"color: red;\">my_decorator</span></code>\n",
    "|&nbsp;&nbsp;<span style=\"color: red;\"><strong>5</strong></span>| &nbsp;&nbsp;&nbsp;&nbsp;&nbsp;&nbsp;&nbsp;&nbsp;&nbsp;&nbsp;&nbsp;&nbsp;&nbsp;<code style=\"background-color: #c2fff8;\">Line <strong>13</strong>:   Return  <span style=\"color: red;\">wrapper</span>  from  <span style=\"color: red;\">my_decorator</span> |\n",
    "|&nbsp;&nbsp;<span style=\"color: red;\"><strong>6</strong></span>| &nbsp;&nbsp;&nbsp;&nbsp;&nbsp;&nbsp;&nbsp;&nbsp;&nbsp;&nbsp;&nbsp;&nbsp;&nbsp;<code style=\"background-color: #c2fff8;\">Line <strong>22</strong>:   Call  <span style=\"color: red;\">say_hello()</span>,  executing  <span style=\"color: red;\">wrapper</span> |\n",
    "|&nbsp;&nbsp;<span style=\"color: red;\"><strong>7</strong></span>| &nbsp;&nbsp;&nbsp;&nbsp;&nbsp;&nbsp;&nbsp;&nbsp;&nbsp;&nbsp;&nbsp;&nbsp;&nbsp;<code style=\"background-color: #c2fff8;\">Line  <strong>4</strong>:   Execute  \"<u>print</u>\"  before  the  function  call  in  <span style=\"color: red;\">wrapper</span></code> |\n",
    "|&nbsp;&nbsp;<span style=\"color: red;\"><strong>8</strong></span>| &nbsp;&nbsp;&nbsp;&nbsp;&nbsp;&nbsp;&nbsp;&nbsp;&nbsp;&nbsp;&nbsp;&nbsp;&nbsp;<code style=\"background-color: #c2fff8;\">Line  <strong>7</strong>:   Call  original  <span style=\"color: red;\">say_hello</span>  ( <span style=\"color: red;\">func()</span> )</code>|\n",
    "|&nbsp;&nbsp;<span style=\"color: red;\"><strong>9</strong></span>| &nbsp;&nbsp;&nbsp;&nbsp;&nbsp;&nbsp;&nbsp;&nbsp;&nbsp;&nbsp;&nbsp;&nbsp;&nbsp;<code style=\"background-color: #c2fff8;\">Line <strong>18</strong>:   Execute  \"<u>print</u>\"  in  <span style=\"color: red;\">say_hello</span></code>|\n",
    "|&nbsp;&nbsp;<span style=\"color: red;\"><strong>10</strong></span>| &nbsp;&nbsp;&nbsp;&nbsp;&nbsp;&nbsp;&nbsp;&nbsp;&nbsp;&nbsp;&nbsp;&nbsp;&nbsp;<code style=\"background-color: #c2fff8;\">Line <strong>10</strong>:   Execute  \"<u>print</u>\"  after  the  function  call  in  <span style=\"color: red;\">wrapper</span></code>|\n",
    "|&nbsp;&nbsp;<span style=\"color: red;\"><strong>11</strong></span>| &nbsp;&nbsp;&nbsp;&nbsp;&nbsp;&nbsp;&nbsp;&nbsp;&nbsp;&nbsp;&nbsp;&nbsp;&nbsp;<code style=\"background-color: #c2fff8;\">Line <strong>12</strong>:   Return  from  <span style=\"color: red;\">wrapper</span></code>|\n",
    "</div>\n",
    "\n",
    "\n",
    "<br><br>\n",
    "\n",
    "---\n",
    "\n",
    "<br>\n",
    "\n",
    "4 pillars of OOP :\n",
    "\n",
    "<div style=\"margin-left: 70px;\">\n",
    "\n",
    "![](media/Shraddha_Kapra_oops_6.PNG)\n",
    "\n",
    "</div>"
   ]
  },
  {
   "cell_type": "markdown",
   "id": "858c3b9d-be10-40a5-9270-876f188bb30f",
   "metadata": {},
   "source": [
    "<br><br>\n",
    "\n",
    "### <span style=\"color: blue\">Abstraction</span>\n"
   ]
  },
  {
   "cell_type": "markdown",
   "id": "29411a0f-ab0d-47ee-9fe0-86f71f59d076",
   "metadata": {},
   "source": [
    "\n",
    "<div style=\"background-color: #ffe0b0; padding: 10px;\">\n",
    "<code style=\"background-color: #ffe0b0;\">Hiding the implementation (unnecessary) details of a class and only showing the essential features to the user</code>\n",
    "</div>\n"
   ]
  },
  {
   "cell_type": "code",
   "execution_count": 77,
   "id": "7941f948-6b29-4a3e-991f-6c762638c2b5",
   "metadata": {},
   "outputs": [
    {
     "name": "stdout",
     "output_type": "stream",
     "text": [
      "car started...\n"
     ]
    }
   ],
   "source": [
    "\n",
    "class Car:\n",
    "    # CONSTRUCTOR\n",
    "    def __init__(self):           \n",
    "        self.acc = False          #  accelerator       =====>        acc     =  Instance Attribute\n",
    "        self.brk = False          #  break             =====>        brk     =  Instance Attribute\n",
    "        self.clutch = False       #  clutch            =====>        clutch  =  Instance Attribute\n",
    "\n",
    "    # INSTANCE  METHOD\n",
    "    def start(self):\n",
    "        self.clutch = True    \n",
    "        self.acc = True\n",
    "        print(\"car started...\")\n",
    "    \n",
    "    \n",
    "car1 = Car()\n",
    "car1.start()     # To start the car, we do not need to care about clutch and accelarator. Just start it using start() function.\n",
    "    "
   ]
  },
  {
   "cell_type": "markdown",
   "id": "79f05930-4146-4aee-af5e-23563283a260",
   "metadata": {
    "jp-MarkdownHeadingCollapsed": true
   },
   "source": [
    "<br><br>\n",
    "\n",
    "### <span style=\"color: blue\">Encapsulation</span>\n"
   ]
  },
  {
   "cell_type": "markdown",
   "id": "01e67e70-2f58-48be-ba75-3f0f189eca92",
   "metadata": {},
   "source": [
    "\n",
    "<div style=\"background-color: #ffe0b0; padding: 10px;\">\n",
    "<code style=\"background-color: #ffe0b0;\">Wrapping <span style=\"color: red;\"><strong><u>data</u></strong></span> & related <span style=\"color: blue;\"><strong><u>functions</u></strong></span> into a single unit (object) like a capsule.</code>\n",
    "</div>\n",
    "\n",
    "<br>\n",
    "\n",
    "&nbsp;&nbsp;&nbsp;( <span style=\"color: red;\">data</span> &nbsp;+&nbsp; <span style=\"color: blue;\">function</span> ) &nbsp;inside a **capsule**  &nbsp;&nbsp;&nbsp;&nbsp;===>&nbsp;&nbsp;&nbsp;&nbsp;( <span style=\"color: red;\">attributes</span> &nbsp;+&nbsp; <span style=\"color: blue;\">methods</span> )&nbsp; inside a **class**  &nbsp;&nbsp;&nbsp;&nbsp;===>&nbsp;&nbsp;&nbsp;&nbsp; an **object** has it's &nbsp;<u>related <span style=\"color: red;\">data</span></u>&nbsp; & &nbsp;<u>related <span style=\"color: blue;\">functions</span></u>&nbsp; wrapped inside it.\n",
    "    \n",
    "\n",
    "<br><br>\n",
    "\n",
    "**Let's &nbsp; Practice**\n",
    "\n",
    "<pre style=\"background-color: yellow;\">\n",
    "    \n",
    "    1. Create Account class with 2 attributes - <u>balance</u>  &  <u>account no</u>.\n",
    "    \n",
    "    2. Create methods for <u>debit</u>,  <u>credit</u>  &  <u>printing the balance</u>.\n",
    "    \n",
    "    3. Create Transaction class with a method for transferring money from one account to another.\n",
    "    \n",
    "</pre>\n",
    "\n",
    "<br>\n",
    "\n",
    "<font size=\"+1\">↳</font>&nbsp; 1. &nbsp;<code style=\"background-color: yellow;\">Create Account class with 2 attributes - <u>balance</u>  &  <u>account no</u>.</code>"
   ]
  },
  {
   "cell_type": "code",
   "execution_count": 78,
   "id": "809c8487-c9ed-4141-8874-f94589f0e915",
   "metadata": {},
   "outputs": [
    {
     "name": "stdout",
     "output_type": "stream",
     "text": [
      "Account Number  = AC10001\n",
      "Account Balance = 50000\n"
     ]
    }
   ],
   "source": [
    "\n",
    "class Account:\n",
    "    def __init__(self, acc, bal):\n",
    "        self.account_no = acc\n",
    "        self.balance = bal\n",
    "\n",
    "\n",
    "# an object of class Account with the name acc1 is created\n",
    "acc1 = Account(\"AC10001\", 50000)    # This object acc1 has all the data & functions wrapped in it ===> acc, bal, __init__()\n",
    "\n",
    "print(\"Account Number  =\", acc1.account_no)              # Output:  Account Number  = AC10001\n",
    "print(\"Account Balance =\", acc1.balance)                 # Output:  Account Balance = 50000\n"
   ]
  },
  {
   "cell_type": "markdown",
   "id": "04219407-5dd6-4d91-aee2-cd63bde68d41",
   "metadata": {},
   "source": [
    "<br>\n",
    "\n",
    "<font size=\"+1\">↳</font>&nbsp; 2. &nbsp;<code style=\"background-color: yellow;\">Create methods for  <u>debit</u>,  <u>credit</u>  &  <u>printing the balance</u>.</code>"
   ]
  },
  {
   "cell_type": "code",
   "execution_count": 79,
   "id": "396731fb-6a78-471c-b92c-bb1719950bbe",
   "metadata": {},
   "outputs": [
    {
     "name": "stdout",
     "output_type": "stream",
     "text": [
      "Account Number  = AC10001\n",
      "Account Balance = 50000\n",
      "\n",
      "\n",
      "Rs. 1000  was  debited  from  your  account  AC10001\n",
      "Total  Balance  =  Rs. 49000\n",
      "\n",
      "\n",
      "Rs. 40000  was  credited  from  your  account  AC10001\n",
      "Total Balance = Rs. 89000\n",
      "\n",
      "\n",
      "Rs. 7000  was  debited  from  your  account  AC10001\n",
      "Total  Balance  =  Rs. 82000\n",
      "\n",
      "\n",
      "Insufficient  amount  to  debit  Rs. 500000000  from  account AC10001\n"
     ]
    }
   ],
   "source": [
    "\n",
    "class Account:\n",
    "    def __init__(self, acc, bal):                                                                            # CONSTRCUTOR\n",
    "        self.account_no = acc\n",
    "        self.balance = bal\n",
    "\n",
    "    def credit(self, amount):                                                                                # INSTANCE  METHOD\n",
    "        self.balance = self.balance + amount\n",
    "        print(\"Rs.\", amount, \" was  credited  from  your  account \", self.account_no)\n",
    "        print(\"Total Balance = Rs.\", self.get_balance())\n",
    "\n",
    "    def debit(self, amount):                                                                                 # INSTANCE  METHOD\n",
    "        if amount > self.balance:\n",
    "            print(\"Insufficient  amount  to  debit  Rs.\", amount, \" from  account\", self.account_no)\n",
    "        else:\n",
    "            self.balance = self.balance - amount\n",
    "            print(\"Rs.\", amount, \" was  debited  from  your  account \", self.account_no)\n",
    "            print(\"Total  Balance  =  Rs.\", self.get_balance())\n",
    "\n",
    "    def get_balance(self):                                                                                    # INSTANCE  METHOD\n",
    "        return self.balance\n",
    "\n",
    "\n",
    "# an object of class Account with the name acc1 is created\n",
    "acc1 = Account(\"AC10001\", 50000)    # It has all the data & related functions wrapped in it  ==>  acc, bal, __init__(), credit(), debit(), get_balance()\n",
    "\n",
    "print(\"Account Number  =\", acc1.account_no)             \n",
    "print(\"Account Balance =\", acc1.get_balance())\n",
    "\n",
    "print(\"\\n\")\n",
    "acc1.debit(1000)                    # To debit Rs.1000 from account acc1\n",
    "print(\"\\n\")\n",
    "acc1.credit(40000)                  # To credit Rs.40000 from account acc1\n",
    "print(\"\\n\")\n",
    "acc1.debit(7000)                    # To debit Rs.7000 from account acc1\n",
    "print(\"\\n\")\n",
    "acc1.debit(500000000)               # To debit Rs. 50 crores from account acc1\n"
   ]
  },
  {
   "cell_type": "markdown",
   "id": "c48e5b96-9051-4911-9d95-cbd0f6723173",
   "metadata": {},
   "source": [
    "<br>\n",
    "\n",
    "<div style=\"background-color: #ffe0b0; padding: 10px;\">\n",
    "    \n",
    "<strong>Note</strong> &nbsp;- <code style=\"background-color: #ffe0b0;\">We could have kept <strong><span style=\"color: blue;\">credit()</span></strong>, <strong><span style=\"color: blue;\">debit()</span></strong> and <strong><span style=\"color: blue;\">get_balance()</span></strong> functions separately. But for that we would have to use different different types of data structures to store related data for different different accounts and manage them differently. So, it's better to <u>wrap them together in a <span style=\"color: red;\">capsule</span> called <span style=\"color: red;\">object</span></u>.</code>\n",
    "    \n",
    "<code style=\"background-color: #ffaecb;\">Also, by now you must have understood why we use <strong><u>Class</u></strong> and <strong><u>Object</u></strong> concept in real-life scenarios to logically organize our code in a structured manner.</code>\n",
    "</div>\n",
    "\n",
    "<br>\n",
    "\n"
   ]
  },
  {
   "cell_type": "markdown",
   "id": "a85ab975-de5e-41bb-abd9-1939bc913c86",
   "metadata": {},
   "source": [
    "<br>\n",
    "\n",
    "<font size=\"+1\">↳</font>&nbsp; 3. &nbsp;<code style=\"background-color: yellow;\">Create Transaction class with a method for transfering money from one account to another.</code>\n",
    "\n",
    "<span style=\"background-color: #fd002e; color: white;\">&nbsp;&nbsp;Step - 1&nbsp;&nbsp;</span>\n"
   ]
  },
  {
   "cell_type": "code",
   "execution_count": 80,
   "id": "63cd1c71-b03e-4eec-bcdd-e2df4bf71013",
   "metadata": {},
   "outputs": [
    {
     "name": "stdout",
     "output_type": "stream",
     "text": [
      "Account to be debited     :  AC10005\n",
      "Account to be credited    :  AC10001\n",
      "Ammount to be transferred :  20000\n",
      "\n",
      "\n"
     ]
    },
    {
     "ename": "AttributeError",
     "evalue": "'str' object has no attribute 'balance'",
     "output_type": "error",
     "traceback": [
      "\u001b[1;31m---------------------------------------------------------------------------\u001b[0m",
      "\u001b[1;31mAttributeError\u001b[0m                            Traceback (most recent call last)",
      "Cell \u001b[1;32mIn[80], line 45\u001b[0m\n\u001b[0;32m     43\u001b[0m \u001b[38;5;28mprint\u001b[39m(\u001b[38;5;124m\"\u001b[39m\u001b[38;5;124mAmmount to be transferred : \u001b[39m\u001b[38;5;124m\"\u001b[39m, txn1\u001b[38;5;241m.\u001b[39mtransfer_amount)\n\u001b[0;32m     44\u001b[0m \u001b[38;5;28mprint\u001b[39m(\u001b[38;5;124m\"\u001b[39m\u001b[38;5;130;01m\\n\u001b[39;00m\u001b[38;5;124m\"\u001b[39m)\n\u001b[1;32m---> 45\u001b[0m \u001b[43mtxn1\u001b[49m\u001b[38;5;241;43m.\u001b[39;49m\u001b[43mtransfer\u001b[49m\u001b[43m(\u001b[49m\u001b[43m)\u001b[49m\n",
      "Cell \u001b[1;32mIn[80], line 31\u001b[0m, in \u001b[0;36mTransaction.transfer\u001b[1;34m(self)\u001b[0m\n\u001b[0;32m     30\u001b[0m \u001b[38;5;28;01mdef\u001b[39;00m \u001b[38;5;21mtransfer\u001b[39m(\u001b[38;5;28mself\u001b[39m):                                                                                             \u001b[38;5;66;03m# INSTANCE  METHOD\u001b[39;00m\n\u001b[1;32m---> 31\u001b[0m     \u001b[43mAccount\u001b[49m\u001b[38;5;241;43m.\u001b[39;49m\u001b[43mdebit\u001b[49m\u001b[43m(\u001b[49m\u001b[38;5;28;43mself\u001b[39;49m\u001b[38;5;241;43m.\u001b[39;49m\u001b[43mdebit_account\u001b[49m\u001b[43m,\u001b[49m\u001b[43m \u001b[49m\u001b[38;5;28;43mself\u001b[39;49m\u001b[38;5;241;43m.\u001b[39;49m\u001b[43mtransfer_amount\u001b[49m\u001b[43m)\u001b[49m         \u001b[38;5;66;03m# debiting money from debit_account\u001b[39;00m\n\u001b[0;32m     32\u001b[0m     Account\u001b[38;5;241m.\u001b[39mcredit(\u001b[38;5;28mself\u001b[39m\u001b[38;5;241m.\u001b[39mcredit_account, \u001b[38;5;28mself\u001b[39m\u001b[38;5;241m.\u001b[39mtransfer_amount)\n",
      "Cell \u001b[1;32mIn[80], line 12\u001b[0m, in \u001b[0;36mAccount.debit\u001b[1;34m(self, amount)\u001b[0m\n\u001b[0;32m     11\u001b[0m \u001b[38;5;28;01mdef\u001b[39;00m \u001b[38;5;21mdebit\u001b[39m(\u001b[38;5;28mself\u001b[39m, amount):                                                                                        \u001b[38;5;66;03m# INSTANCE  METHOD\u001b[39;00m\n\u001b[1;32m---> 12\u001b[0m     \u001b[38;5;28;01mif\u001b[39;00m amount \u001b[38;5;241m>\u001b[39m \u001b[38;5;28;43mself\u001b[39;49m\u001b[38;5;241;43m.\u001b[39;49m\u001b[43mbalance\u001b[49m:\n\u001b[0;32m     13\u001b[0m         \u001b[38;5;28mprint\u001b[39m(\u001b[38;5;124m\"\u001b[39m\u001b[38;5;124mInsufficient  funds  to  debit  Rs.\u001b[39m\u001b[38;5;124m\"\u001b[39m, amount, \u001b[38;5;124m\"\u001b[39m\u001b[38;5;124m from  account\u001b[39m\u001b[38;5;124m\"\u001b[39m, \u001b[38;5;28mself\u001b[39m\u001b[38;5;241m.\u001b[39maccount_no)\n\u001b[0;32m     14\u001b[0m     \u001b[38;5;28;01melse\u001b[39;00m:\n",
      "\u001b[1;31mAttributeError\u001b[0m: 'str' object has no attribute 'balance'"
     ]
    }
   ],
   "source": [
    "\n",
    "class Account:\n",
    "    def __init__(self, acc, bal):                                                                                   # CONSTRUCTOR\n",
    "        self.account_no = acc\n",
    "        self.balance = bal\n",
    "\n",
    "    def credit(self, amount):                                                                                       # INSTANCE  METHOD\n",
    "        self.balance = self.balance + amount\n",
    "        print(\"Rs.\", amount, \" was  credited  from  your  account \", self.account_no)\n",
    "        print(\"Total Balance = Rs.\", self.get_balance())\n",
    "\n",
    "    def debit(self, amount):                                                                                        # INSTANCE  METHOD\n",
    "        if amount > self.balance:\n",
    "            print(\"Insufficient  funds  to  debit  Rs.\", amount, \" from  account\", self.account_no)\n",
    "        else:\n",
    "            self.balance = self.balance - amount\n",
    "            print(\"Rs.\", amount, \" was  debited  from  your  account \", self.account_no)\n",
    "            print(\"Total  Balance  =  Rs.\", self.get_balance())\n",
    "\n",
    "    def get_balance(self):                                                                                          # INSTANCE  METHOD\n",
    "        return self.balance\n",
    "\n",
    "\n",
    "\n",
    "class Transaction:\n",
    "    def __init__(self, debit_account, credit_account, amount):                                                      # CONSTRUCTOR\n",
    "        self.debit_account = debit_account          # account to be debited\n",
    "        self.credit_account = credit_account        # account to be credited\n",
    "        self.transfer_amount = amount               # amount to be transferred\n",
    "\n",
    "    def transfer(self):                                                                                             # INSTANCE  METHOD\n",
    "        Account.debit(self.debit_account, self.transfer_amount)         # debiting money from debit_account\n",
    "        Account.credit(self.credit_account, self.transfer_amount)       # crediting money into credit_account\n",
    "\n",
    "\n",
    "\n",
    "acc1 = Account(\"AC10001\", 50000)                                  # This  account  object  acc1  has  all  the  data  &  functions  wrapped  in  it\n",
    "acc2 = Account(\"AC10005\", 120000)                                 # This  account  object  acc2  has  all  the  data  &  functions  wrapped  in  it\n",
    "txn1 = Transaction(acc2.account_no, acc1.account_no, 20000)       # This  account  object  txn1  has  all  the  data  &  functions  wrapped  in  it\n",
    "\n",
    "\n",
    "print(\"Account to be debited     : \", txn1.debit_account)\n",
    "print(\"Account to be credited    : \", txn1.credit_account)\n",
    "print(\"Ammount to be transferred : \", txn1.transfer_amount)\n",
    "print(\"\\n\")\n",
    "txn1.transfer()\n"
   ]
  },
  {
   "cell_type": "markdown",
   "id": "696bbcdd-8dc1-49a0-8042-e5f2665ac2b6",
   "metadata": {},
   "source": [
    "<br>\n",
    "\n",
    "<div style=\"margin-left: 100px;\">\n",
    "\n",
    "![](media/oops_1.PNG)\n",
    "    \n",
    "</div>\n",
    "\n",
    "<br>\n",
    "\n",
    "Instead of passing &nbsp;<code style=\"color: red;\">debit_account</code>&nbsp; and &nbsp;<code style=\"color: red;\">credit_account</code>&nbsp; as account numbers of **string type** in &nbsp;<code style=\"color: blue;\">transfer()</code> method, let's pass them as **objects of account type** :\n",
    "\n",
    "<div style=\"margin-left: 80px;\">\n",
    "\n",
    "![](media/Shraddha_Kapra_oops_7.PNG)\n",
    "\n",
    "</div>\n",
    "\n",
    "<span style=\"background-color: #fd002e; color: white;\">&nbsp;&nbsp;Step - 2&nbsp;&nbsp;</span>"
   ]
  },
  {
   "cell_type": "code",
   "execution_count": 81,
   "id": "fe50117b-a5d0-4003-98d1-bf8b9516b8bd",
   "metadata": {},
   "outputs": [
    {
     "name": "stdout",
     "output_type": "stream",
     "text": [
      "Account to be debited     :  <__main__.Account object at 0x0000025879399450>\n",
      "Account to be credited    :  <__main__.Account object at 0x00000258793CF510>\n",
      "Ammount to be transferred :  20000\n",
      "\n",
      "\n",
      "Rs. 20000  was  debited  from  your  account  AC10005\n",
      "Total  Balance  =  Rs. 100000\n",
      "Rs. 20000  was  credited  from  your  account  AC10001\n",
      "Total Balance = Rs. 70000\n"
     ]
    }
   ],
   "source": [
    "\n",
    "class Account:\n",
    "    def __init__(self, acc, bal):                                                                                    # CONSTRUCTOR\n",
    "        self.account_no = acc\n",
    "        self.balance = bal\n",
    "\n",
    "    def credit(self, amount):                                                                                        # INSTANCE  METHOD\n",
    "        self.balance = self.balance + amount\n",
    "        print(\"Rs.\", amount, \" was  credited  from  your  account \", self.account_no)\n",
    "        print(\"Total Balance = Rs.\", self.get_balance())\n",
    "\n",
    "    def debit(self, amount):                                                                                         # INSTANCE  METHOD\n",
    "        if amount > self.balance:\n",
    "            print(\"Insufficient  funds  to  debit  Rs.\", amount, \" from  account\", self.account_no)\n",
    "        else:\n",
    "            self.balance = self.balance - amount\n",
    "            print(\"Rs.\", amount, \" was  debited  from  your  account \", self.account_no)\n",
    "            print(\"Total  Balance  =  Rs.\", self.get_balance())\n",
    "\n",
    "    def get_balance(self):                                                                                            # INSTANCE  METHOD\n",
    "        return self.balance\n",
    "\n",
    "\n",
    "class Transaction:\n",
    "    def __init__(self, debit_account, credit_account, amount):                                                        # CONSTRUCTOR\n",
    "        self.debit_account = debit_account          # account to be debited\n",
    "        self.credit_account = credit_account        # account to be credited\n",
    "        self.transfer_amount = amount               # amount to be transferred\n",
    "\n",
    "    def transfer(self):                                                                                               # INSTANCE METHOD\n",
    "        Account.debit(self.debit_account, self.transfer_amount)         # debiting money from debit_account\n",
    "        Account.credit(self.credit_account, self.transfer_amount)       # crediting money into credit_account\n",
    "        \n",
    "\n",
    "\n",
    "acc1 = Account(\"AC10001\", 50000)           # creating Account object acc1\n",
    "acc2 = Account(\"AC10005\", 120000)          # creating Account object acc2\n",
    "txn1 = Transaction(acc2, acc1, 20000)      # passing parameters acc2 & acc1 as Account objects in order to create a Transaction object txn1\n",
    "\n",
    "\n",
    "print(\"Account to be debited     : \", txn1.debit_account)\n",
    "print(\"Account to be credited    : \", txn1.credit_account)\n",
    "print(\"Ammount to be transferred : \", txn1.transfer_amount)\n",
    "print(\"\\n\")\n",
    "txn1.transfer()\n"
   ]
  },
  {
   "cell_type": "markdown",
   "id": "bb63e777-5c9b-4838-8a12-d147d7e90671",
   "metadata": {
    "jp-MarkdownHeadingCollapsed": true
   },
   "source": [
    "<br><br>\n",
    "\n",
    "### <span style=\"color: blue\">del</span> &nbsp;keyword\n"
   ]
  },
  {
   "cell_type": "markdown",
   "id": "e3fd8d53-4827-437d-997c-a9717e3d0696",
   "metadata": {},
   "source": [
    "<div style=\"background-color: #ffe0b0; padding: 10px;\">\n",
    "&nbsp;<code style=\"background-color: #ffe0b0;\">It is used to <strong><span style=\"color: red;\">delete</span></strong> <u>object properties</u> or <u>object itself</u>. \n",
    "<br>&nbsp;It frees space from memory. </code><br><br>\n",
    "\n",
    "<pre>\n",
    "    \n",
    "    <span style=\"color: green;\"><strong>del</strong></span> s1          <span style=\"color: #a19f9a;\"># deleting the object itself</span>\n",
    "    <span style=\"color: green;\"><strong>del</strong></span> s1.<span style=\"color: blue;\">name</span>     <span style=\"color: #a19f9a;\"># deleting the  object attribute \"name\" itself</span>\n",
    "    \n",
    "</pre>\n",
    "    \n",
    "</div>"
   ]
  },
  {
   "cell_type": "code",
   "execution_count": 60,
   "id": "599321b6-6c7f-4795-86ec-35afc58d5379",
   "metadata": {},
   "outputs": [
    {
     "name": "stdout",
     "output_type": "stream",
     "text": [
      "<__main__.Student object at 0x000001FA3D219E50>\n"
     ]
    }
   ],
   "source": [
    "\n",
    "class Student:\n",
    "    def __init__(self, name):\n",
    "        self.name = name\n",
    "\n",
    "\n",
    "s1 = Student(\"Avinash\")\n",
    "\n",
    "print(s1)\n"
   ]
  },
  {
   "cell_type": "code",
   "execution_count": 61,
   "id": "342efda6-00e4-4af6-a1fb-ddcc1136c9ac",
   "metadata": {},
   "outputs": [
    {
     "ename": "NameError",
     "evalue": "name 's1' is not defined",
     "output_type": "error",
     "traceback": [
      "\u001b[1;31m---------------------------------------------------------------------------\u001b[0m",
      "\u001b[1;31mNameError\u001b[0m                                 Traceback (most recent call last)",
      "Cell \u001b[1;32mIn[61], line 3\u001b[0m\n\u001b[0;32m      1\u001b[0m \u001b[38;5;28;01mdel\u001b[39;00m s1\n\u001b[1;32m----> 3\u001b[0m \u001b[38;5;28mprint\u001b[39m(\u001b[43ms1\u001b[49m)\n",
      "\u001b[1;31mNameError\u001b[0m: name 's1' is not defined"
     ]
    }
   ],
   "source": [
    "\n",
    "del s1\n",
    "\n",
    "print(s1)\n"
   ]
  },
  {
   "cell_type": "markdown",
   "id": "7e285106-e26d-4515-b8ca-9d8184fed8e5",
   "metadata": {},
   "source": [
    "<br>\n",
    "\n",
    "<strong>Let's &nbsp;take &nbsp;another &nbsp;example &nbsp;:</strong>"
   ]
  },
  {
   "cell_type": "code",
   "execution_count": 64,
   "id": "eb2126ca-ee1b-4c28-a97e-e790f3ae4101",
   "metadata": {},
   "outputs": [
    {
     "name": "stdout",
     "output_type": "stream",
     "text": [
      "value of  'a' = 5\n",
      "address of 'a' = 140705176544168\n"
     ]
    }
   ],
   "source": [
    "\n",
    "a = 5      # variable  \"a\"  is actually an object\n",
    "\n",
    "print(\"value of  'a' =\", a)\n",
    "print(\"address of 'a' =\", id(a))\n"
   ]
  },
  {
   "cell_type": "code",
   "execution_count": 65,
   "id": "e6daf85e-8b59-47d8-b99d-897ef32c9e08",
   "metadata": {},
   "outputs": [
    {
     "ename": "NameError",
     "evalue": "name 'a' is not defined",
     "output_type": "error",
     "traceback": [
      "\u001b[1;31m---------------------------------------------------------------------------\u001b[0m",
      "\u001b[1;31mNameError\u001b[0m                                 Traceback (most recent call last)",
      "Cell \u001b[1;32mIn[65], line 3\u001b[0m\n\u001b[0;32m      1\u001b[0m \u001b[38;5;28;01mdel\u001b[39;00m a      \u001b[38;5;66;03m# deleting the object  \"a\"  using  del  keyword\u001b[39;00m\n\u001b[1;32m----> 3\u001b[0m \u001b[38;5;28mprint\u001b[39m(\u001b[43ma\u001b[49m)\n",
      "\u001b[1;31mNameError\u001b[0m: name 'a' is not defined"
     ]
    }
   ],
   "source": [
    "\n",
    "del a      # deleting the object  \"a\"  using  del  keyword\n",
    "\n",
    "print(a)\n"
   ]
  },
  {
   "cell_type": "markdown",
   "id": "239ec0ec-43f2-4c67-868c-1b19875596e2",
   "metadata": {
    "jp-MarkdownHeadingCollapsed": true
   },
   "source": [
    "<br><br>\n",
    "\n",
    "### <span style=\"color: blue\">Private(like)</span> attributes & methods\n"
   ]
  },
  {
   "cell_type": "markdown",
   "id": "5d05f092-648e-4d75-9b59-2ccaf18044b7",
   "metadata": {},
   "source": [
    "<br>\n",
    "\n",
    "<div style=\"margin-left: 320px;\">\n",
    "\n",
    "![](media/Shraddha_Kapra_oops_8.PNG)\n",
    "\n",
    "</div>\n",
    "\n",
    "<div style=\"background-color: #ffe0b0; padding: 10px;\">\n",
    "<code style=\"background-color: #ffe0b0;\"><u><span style=\"background-color: yellow;\"><strong>Conceptual Implementation in Python</strong></span></u>   ===>   use <span style=\"background-color: #010fed; color: white;\"><i>double underscore</i> ( __ )</span> in the prefix to make an <u>attribute</u> or a <u>method</u> &nbsp;<span style=\"background-color: black;color: white;\"><strong>private</strong></span></code> <br><br>\n",
    "\n",
    "<pre>\n",
    "    \n",
    "    <span style=\"color: blue;\">__atrributename</span>\n",
    "    \n",
    "    <span style=\"color: blue;\">__methodname</span>\n",
    "\n",
    "</pre>\n",
    "\n",
    "<br>\n",
    "\n",
    "&nbsp;&nbsp;&nbsp;&nbsp;&nbsp;&nbsp;&nbsp;&nbsp;&nbsp;&nbsp;&nbsp;🔶 &nbsp;&nbsp;<code style=\"background-color: #ffe0b0;\"><span style=\"background-color: black;color: white;\"><strong>private</strong></span> attributes & methods are meant to be <u>used only within the class</u> and are <u>not accessible from outside the class</u>.</code>\n",
    "\n",
    "&nbsp;&nbsp;&nbsp;&nbsp;&nbsp;&nbsp;&nbsp;&nbsp;&nbsp;&nbsp;&nbsp;🔶 &nbsp;&nbsp;<code style=\"background-color: #ffe0b0;\">We use it to avoid sensitive informations from leaking to an unauthorized person.</code>\n",
    "\n",
    "</div>\n",
    "\n",
    "<br><br>\n",
    "\n",
    "<div style=\"background-color: #ffe0b0; padding: 10px;\">\n",
    "\n",
    "<code style=\"background-color: #ffe0b0;\">However, the authorized person <u>can access</u> a <span style=\"background-color: black;color: white;\"><strong>private attribute</strong></span> or a <span style=\"background-color: black;color: white;\"><strong>private method</strong></span> <u>from outside the class</u> by prefixing a <span style=\"background-color: #ff0023; color: white;\"><i>single underscore</i> ( _ )</span> followed by the class name ( i.e, <span style=\"background-color: #ff0023; color: white;\">_Classname</span> ) to the <span style=\"color: #010fed;\">__attributename</span> or <span style=\"color: #010fed;\">__methodname</span></code> <br><br>\n",
    "\n",
    "<pre>\n",
    "    \n",
    "    <span style=\"color: red;\">_Classname<span style=\"color: blue;\">__atrributename</span>\n",
    "\n",
    "    <span style=\"color: red;\">_Classname<span style=\"color: blue;\">__methodname</span>\n",
    "\n",
    "</pre>\n",
    "\n",
    "</div>\n",
    "\n",
    "<br><br>\n",
    "\n",
    "Let us consider the following example:\n"
   ]
  },
  {
   "cell_type": "code",
   "execution_count": 37,
   "id": "92f45803-0430-480b-93e0-e9563236e60c",
   "metadata": {},
   "outputs": [
    {
     "name": "stdout",
     "output_type": "stream",
     "text": [
      "12345\n",
      "abcde\n"
     ]
    }
   ],
   "source": [
    "\n",
    "class Account:\n",
    "    \n",
    "    # CONSTRUCTOR\n",
    "    def __init__(self, acc_no, acc_pass):\n",
    "        self.acc_no = acc_no\n",
    "        self.acc_pass = acc_pass\n",
    "\n",
    "\n",
    "acc1 = Account(\"12345\", \"abcde\")     # object  acc1  of  Account  type  is  created\n",
    "\n",
    "print(acc1.acc_no)                   # acc_no  is  accessible  outside  the  Account  class\n",
    "print(acc1.acc_pass)                 # acc_pass  is  accessible  outside  the  Account  class\n"
   ]
  },
  {
   "cell_type": "markdown",
   "id": "46a772d4-3070-4a50-a0fc-6bbfcdcee65f",
   "metadata": {},
   "source": [
    "<br>\n",
    "\n",
    "<code style=\"background-color: white; color: #ff00b9;\">As you can see <code style=\"color: #ff00b9; background-color: #c0fff8;\"><strong>acc_pass</strong></code> is <u>accessible outside the Account class</u>, which is not safe.</code>\n",
    "\n",
    "<code style=\"background-color: white;\">Let's make it <span style=\"color: red;\"><u>private</u></span>.</code>\n"
   ]
  },
  {
   "cell_type": "code",
   "execution_count": 38,
   "id": "ae8541f8-aec4-4ac2-bcf1-ff98cd4978f2",
   "metadata": {},
   "outputs": [
    {
     "name": "stdout",
     "output_type": "stream",
     "text": [
      "12345\n"
     ]
    },
    {
     "ename": "AttributeError",
     "evalue": "'Account' object has no attribute '__acc_pass'",
     "output_type": "error",
     "traceback": [
      "\u001b[1;31m---------------------------------------------------------------------------\u001b[0m",
      "\u001b[1;31mAttributeError\u001b[0m                            Traceback (most recent call last)",
      "Cell \u001b[1;32mIn[38], line 11\u001b[0m\n\u001b[0;32m      8\u001b[0m acc1 \u001b[38;5;241m=\u001b[39m Account(\u001b[38;5;124m\"\u001b[39m\u001b[38;5;124m12345\u001b[39m\u001b[38;5;124m\"\u001b[39m, \u001b[38;5;124m\"\u001b[39m\u001b[38;5;124mabcde\u001b[39m\u001b[38;5;124m\"\u001b[39m)          \u001b[38;5;66;03m# object  acc1  of  Account  type  is  created\u001b[39;00m\n\u001b[0;32m     10\u001b[0m \u001b[38;5;28mprint\u001b[39m(acc1\u001b[38;5;241m.\u001b[39macc_no)      \u001b[38;5;66;03m# Output: 12345   ==========================================>   acc_no  is  accessible  outside  the  Account  class\u001b[39;00m\n\u001b[1;32m---> 11\u001b[0m \u001b[38;5;28mprint\u001b[39m(\u001b[43macc1\u001b[49m\u001b[38;5;241;43m.\u001b[39;49m\u001b[43m__acc_pass\u001b[49m)  \u001b[38;5;66;03m# ERROR: 'Account' object has no attribute '__acc_pass'  ===>   acc_pass  is  no  more  accessible  outside  the  Account  class\u001b[39;00m\n",
      "\u001b[1;31mAttributeError\u001b[0m: 'Account' object has no attribute '__acc_pass'"
     ]
    }
   ],
   "source": [
    "\n",
    "class Account:\n",
    "\n",
    "    # CONSTRUCTOR\n",
    "    def __init__(self, acc_no, acc_pass):\n",
    "        self.acc_no = acc_no\n",
    "        self.__acc_pass = acc_pass        # setting the acc_pass as private attribute\n",
    "\n",
    "acc1 = Account(\"12345\", \"abcde\")          # object  acc1  of  Account  type  is  created\n",
    "\n",
    "print(acc1.acc_no)      # Output: 12345   ==========================================>   acc_no  is  accessible  outside  the  Account  class\n",
    "print(acc1.__acc_pass)  # ERROR: 'Account' object has no attribute '__acc_pass'  ===>   acc_pass  is  no  more  accessible  outside  the  Account  class\n"
   ]
  },
  {
   "cell_type": "markdown",
   "id": "6050a8a3-8238-43ce-b54e-b4f13376e5c1",
   "metadata": {},
   "source": [
    "<br>\n",
    "\n",
    "<code style=\"background-color: white; color: #ff00b9;\">As you can see <code style=\"color: #ff00b9; background-color: #c0fff8;\"><strong>__acc_pass</strong></code> is now <u>not accessible outside the Account class</u>.</code>\n",
    "\n",
    "<br>\n",
    "\n",
    "<div style=\"background-color: #ffe0b0; padding: 10px;\">\n",
    "<code style=\"background-color:  #ffe0b0;\">However remember, it may not be directly accessible outside the class, but we can still access it <u>indirectly</u> from outside the class.</code> <br><br>\n",
    "\n",
    "<code style=\"background-color:  #ffe0b0;\">There are <u>2 methods</u> of accessing a <span style=\"background-color: black;color: white;\"><strong>private attribute</strong></span> from outside the class :</code>  <br>\n",
    "\n",
    "&nbsp;&nbsp;&nbsp;&nbsp;&nbsp;&nbsp;&nbsp;&nbsp;&nbsp;&nbsp;(1) &nbsp;using &nbsp;<strong><code style=\"background-color: white\"><span style=\"color: red;\">_Classname</span><span style=\"color: blue;\">__attributename</span></code></strong>  <br>\n",
    "\n",
    "&nbsp;&nbsp;&nbsp;&nbsp;&nbsp;&nbsp;&nbsp;&nbsp;&nbsp;&nbsp;(2) <code style=\"background-color: #ffe0b0;\">first accessing the <u>private attribute</u> using a <u>public method</u> within the class\n",
    "&nbsp;&nbsp;&nbsp;&nbsp;&nbsp;&nbsp;&nbsp;&nbsp;&nbsp;& then calling that <u>public method</u> outside the class to access that <u>private attribute</u></code>\n",
    "\n",
    "</div>\n",
    "\n",
    "<br><br>\n",
    "\n",
    "<font size=\"+1\">↳</font> &nbsp;<code>using &nbsp;method - 1</code>\n"
   ]
  },
  {
   "cell_type": "code",
   "execution_count": 86,
   "id": "37568766-93cb-4b73-ae63-ed69e561f1e5",
   "metadata": {},
   "outputs": [
    {
     "name": "stdout",
     "output_type": "stream",
     "text": [
      "12345\n",
      "abcde\n"
     ]
    }
   ],
   "source": [
    "\n",
    "class Account:\n",
    "    def __init__(self, acc_no, acc_pass):      #    CONSTRUCTOR     ====>     public    instance    method\n",
    "        self.acc_no = acc_no                   #    acc_no          ====>     public    instance    attribute\n",
    "        self.__acc_pass = acc_pass             #    __acc_pass      ====>     private   instance    attribute\n",
    "\n",
    "\n",
    "acc1 = Account(\"12345\", \"abcde\")               # object  acc1  of  Account  type  is  created\n",
    "\n",
    "print(acc1.acc_no)                             # Output: 12345       ======>       \"acc_no\"        is  accessible  from  outside  the  Account  class\n",
    "\n",
    "# METHOD - 1\n",
    "print(acc1._Account__acc_pass)                 # Output: abcde       ======>       \"__acc_pass\"    is  accessible  from  outside  the  Account  class\n"
   ]
  },
  {
   "cell_type": "markdown",
   "id": "a678adda-691f-49aa-8d7f-3a82e07d06d3",
   "metadata": {},
   "source": [
    "<br>\n",
    "\n",
    "<font size=\"+1\">↳</font> &nbsp;<code>using &nbsp;method - 2</code>"
   ]
  },
  {
   "cell_type": "code",
   "execution_count": 90,
   "id": "35c365e6-f0f5-4dcc-9874-6a1a04c46610",
   "metadata": {},
   "outputs": [
    {
     "name": "stdout",
     "output_type": "stream",
     "text": [
      "12345\n",
      "abcde\n",
      "abcde\n"
     ]
    }
   ],
   "source": [
    "\n",
    "class Account:\n",
    "    def __init__(self, acc_no, acc_pass):     #    CONSTRUCTOR       ====>      public    instance    method\n",
    "        self.acc_no = acc_no                  #    acc_no            ====>      public    instance    attribute\n",
    "        self.__acc_pass = acc_pass            #    __acc_pass        ====>      private   instance    attribute\n",
    "\n",
    "    def reset_pass(self):                     #    reset_pass()      ====>      public    instance    method\n",
    "        print(self.__acc_pass)\n",
    "\n",
    "\n",
    "acc1 = Account(\"12345\", \"abcde\")    # object  acc1  of  Account  type  is  created\n",
    "\n",
    "print(acc1.acc_no)                  # Output: 12345     ====>     \"acc_no\"        is  accessible  outside  the  Account  class\n",
    "\n",
    "# METHOD - 1\n",
    "print(acc1._Account__acc_pass)      # Output: abcde     ====>     \"__acc_pass\"    is  accessible  from  outside  the  Account  class\n",
    "\n",
    "# METHOD - 2\n",
    "acc1.reset_pass()                   # Output: abcde     ====>     \"__acc_pass\"    is accessible  from  outside  the  Account class  using  reset_pass()\n"
   ]
  },
  {
   "cell_type": "markdown",
   "id": "a76c3989-14d5-4122-bf2f-099c386d12b2",
   "metadata": {},
   "source": [
    "<br>\n",
    "\n",
    "<code style=\"background-color: white; color: #ff00b9;\">As you can see <code style=\"color: #ff00b9; background-color: #c0fff8;\"><strong>__acc_pass</strong></code> <u>is still accessible from outside the Account class</u> <code style=\"background-color: #c0fff8; color: #ff00b9;\">using the <span style=\"font-size: 1.01rem\"><strong>public instance method</strong></span> <span style=\"color: blue;\">reset_pass()</span></code></code>\n",
    "\n",
    "<code style=\"background-color: white; color: #ff00b9;\">If you want to stop this indirect access, then you should make the <span style=\"color: blue;\">reset_pass()</span> too a <span style=\"background-color: black;color: white;\"><strong>private method</strong></span></code>"
   ]
  },
  {
   "cell_type": "code",
   "execution_count": 88,
   "id": "639c6739-4115-48d0-9a2a-57721003a023",
   "metadata": {},
   "outputs": [
    {
     "name": "stdout",
     "output_type": "stream",
     "text": [
      "12345\n",
      "abcde\n"
     ]
    },
    {
     "ename": "AttributeError",
     "evalue": "'Account' object has no attribute '__reset_pass'",
     "output_type": "error",
     "traceback": [
      "\u001b[1;31m---------------------------------------------------------------------------\u001b[0m",
      "\u001b[1;31mAttributeError\u001b[0m                            Traceback (most recent call last)",
      "Cell \u001b[1;32mIn[88], line 14\u001b[0m\n\u001b[0;32m     12\u001b[0m \u001b[38;5;28mprint\u001b[39m(acc1\u001b[38;5;241m.\u001b[39macc_no)                   \u001b[38;5;66;03m# Output:   12345       =========>      \"acc_no\"        is  accessible  outside  the  Account  class\u001b[39;00m\n\u001b[0;32m     13\u001b[0m \u001b[38;5;28mprint\u001b[39m(acc1\u001b[38;5;241m.\u001b[39m_Account__acc_pass)       \u001b[38;5;66;03m# Output:   abcde       =========>      \"__acc_pass\"    is  accessible  from  outside  the  Account  class\u001b[39;00m\n\u001b[1;32m---> 14\u001b[0m \u001b[43macc1\u001b[49m\u001b[38;5;241;43m.\u001b[39;49m\u001b[43m__reset_pass\u001b[49m()                  \u001b[38;5;66;03m# ERROR :   AttributeError: 'Account' object has no attribute '__reset_pass'\u001b[39;00m\n",
      "\u001b[1;31mAttributeError\u001b[0m: 'Account' object has no attribute '__reset_pass'"
     ]
    }
   ],
   "source": [
    "\n",
    "class Account:\n",
    "    def __init__(self, acc_no, acc_pass):    #    CONSTRUCTOR        ====>     public    instance    method\n",
    "        self.acc_no = acc_no                 #    acc_no             ====>     public    instance    attribute\n",
    "        self.__acc_pass = acc_pass           #    __acc_pass         ====>     private   instance    attribute\n",
    "\n",
    "    def __reset_pass(self):                  #    __reset_pass()     ====>     private   instance    method\n",
    "        print(self.__acc_pass)\n",
    "\n",
    "\n",
    "acc1 = Account(\"12345\", \"abcde\")     # object  acc1  of  Account  type  is  created\n",
    "\n",
    "print(acc1.acc_no)                   # Output:   12345       =========>      \"acc_no\"        is  accessible  outside  the  Account  class\n",
    "print(acc1._Account__acc_pass)       # Output:   abcde       =========>      \"__acc_pass\"    is  accessible  from  outside  the  Account  class\n",
    "acc1.__reset_pass()                  # ERROR :   AttributeError: 'Account' object has no attribute '__reset_pass'\n"
   ]
  },
  {
   "cell_type": "markdown",
   "id": "ae585167-8c22-4e4a-80ca-24fd15185b67",
   "metadata": {},
   "source": [
    "<br>\n",
    "\n",
    "<code style=\"background-color: white; color: #ff00b9;\">However, you still can access the private method <span style=\"color: blue;\">__reset_pass()</span> from outside the class using &nbsp;<strong><code style=\"font-size: 1.001rem\"><span style=\"color: red;\">_Classname</span><span style=\"color: blue;\">__methodname</span></code></code></strong> <br><br>\n",
    "<code style=\"background-color: white;\">Let see how?</code>\n"
   ]
  },
  {
   "cell_type": "code",
   "execution_count": 89,
   "id": "d793a966-d15b-4e87-b6d8-4bb154d7a430",
   "metadata": {},
   "outputs": [
    {
     "name": "stdout",
     "output_type": "stream",
     "text": [
      "12345\n",
      "abcde\n",
      "abcde\n"
     ]
    }
   ],
   "source": [
    "\n",
    "class Account:\n",
    "    def __init__(self, acc_no, acc_pass):    #    CONSTRUCTOR        ====>     public    instance   method\n",
    "        self.acc_no = acc_no                 #    acc_no             ====>     public    instance   attribute\n",
    "        self.__acc_pass = acc_pass           #    __acc_pass         ====>     private   instance   attribute\n",
    "\n",
    "    def __reset_pass(self):                  #    __reset_pass()     ====>     private   instance   method\n",
    "        print(self.__acc_pass)\n",
    "\n",
    "\n",
    "acc1 = Account(\"12345\", \"abcde\")     # object  acc1  of  Account  type  is  created\n",
    "\n",
    "print(acc1.acc_no)                   # Output:   12345       =========>      \"acc_no\"        is  accessible  outside  the  Account  class\n",
    "print(acc1._Account__acc_pass)       # Output:   abcde       =========>      \"__acc_pass\"    is  accessible  from  outside  the  Account  class\n",
    "acc1._Account__reset_pass()          # Output:   abcde       =========>      \"__acc_pass\"    is  accessible  from  outside  the  Account  class\n"
   ]
  },
  {
   "cell_type": "markdown",
   "id": "a7477e6b-4dd7-45e8-9057-e28374adafb4",
   "metadata": {},
   "source": [
    "<br>\n",
    "\n",
    "<code style=\"background-color:  white;\">You might be thinking if <code>we can't use a <span style=\"background-color: black; color: white;\">private method</span> outside the class without prefixing the <span style=\"color: red;\">_Classname</span> to it</code>, then where do we actually use it as it is? Why did this concept come into being in the first place?</code>  \n",
    "\n",
    "<br>\n",
    "\n",
    "<font size=\"+1\">⭐</font>&nbsp;<strong>Note :</strong> &nbsp;&nbsp;<code style=\"background-color:  #ffe0b0;\">Actually we use a <span style=\"color: blue;\">private method</span> internally within a class <u>by some other methods</u>.</code></code>  \n",
    "\n",
    "<br>\n",
    "\n",
    "<code  style=\"background-color: white; color: #ff00b9;\">Let us consider a situation where you (the Account object <code>acc1</code>) can only apply for reseting the password by making a request, <u>but you can't do it by yourself</u>.</code>"
   ]
  },
  {
   "cell_type": "code",
   "execution_count": 92,
   "id": "8daa3c49-fb0d-4fe6-b6e2-dca6c6edfd1f",
   "metadata": {},
   "outputs": [
    {
     "name": "stdout",
     "output_type": "stream",
     "text": [
      "12345\n",
      "abcde\n",
      "abcde\n",
      "============================================================================================================================================\n",
      "User authentication successful\n",
      "abcde\n",
      "Password changed successfully\n"
     ]
    }
   ],
   "source": [
    "\n",
    "class Account:\n",
    "    def __init__(self, acc_no, acc_pass):          #   CONSTRUCTOR         ====>     public   instance  method\n",
    "        self.acc_no = acc_no                       #   acc_no              ====>     public   instance  attribute\n",
    "        self.__acc_pass = acc_pass                 #   __acc_pass          ====>     private  instance  attribute\n",
    "\n",
    "    \n",
    "    def __reset_pass(self):                        #   __reset_pass()      ====>     private  instance  method\n",
    "        print(self.__acc_pass)\n",
    "\n",
    "    \n",
    "    def apply_for_reset(self):                     #  apply_for_reset()    ====>     public  instance  method\n",
    "        print(\"User authentication successful\")\n",
    "        self.__reset_pass()                        # calling  __reset_pass()  in  another  method  within  the  same  class\n",
    "        print(\"Password changed successfully\")\n",
    "\n",
    "\n",
    "acc1 = Account(\"12345\", \"abcde\")       # object  acc1  of  Account  type  is  created\n",
    "\n",
    "print(acc1.acc_no)                     # Output:   12345       =========>      \"acc_no\"        is  accessible  outside  the  Account  class\n",
    "print(acc1._Account__acc_pass)         # Output:   abcde       =========>      \"__acc_pass\"    is  accessible  from  outside  the  Account  class\n",
    "acc1._Account__reset_pass()            # Output:   abcde       =========>      \"__acc_pass\"    is  accessible  from  outside  the  Account  class\n",
    "print(\"============================================================================================================================================\")\n",
    "acc1.apply_for_reset()                 # Output:   User authentication successful\n",
    "                                       #           abcde\n",
    "                                       #           Password changed successfully\n"
   ]
  },
  {
   "cell_type": "markdown",
   "id": "4ec446d3-c612-4749-b7d6-f983b9f8dbd9",
   "metadata": {},
   "source": [
    "<br>\n",
    "\n",
    "<code style=\"background-color: white; color: #ff00b9;\">As you can see, <code style=\"background-color: white; color: blue;\">apply_for_reset()</code> method can directly access the <span style=\"background-color: black; color: white;\">private method</span> <code style=\"background-color: white; color: blue;\">__reset_pass()</code> <u>without having to prefix</u> &nbsp;<code style=\"background-color: #afffed; color: red; font-size: 1.01rem\"><strong>_Classname</strong></code>&nbsp; to it, because <u>both methods are within the same class</u>.</code>\n",
    "\n",
    "<br>\n",
    "\n",
    "<code style=\"background-color: white;\">Let us consider another example where a person <u>can welcome but not say hello</u>. That is, the object <code style=\"background-color: #e5e5e5;\">p1</code> can access <code style=\"color: blue; background-color: white;\">welcome()</code> method but not <code style=\"color: blue; background-color: white;\">_hello()</code> method ( obviously it can be accessed using <code style=\"background-color: white;\"><span style=\"color: red;\">_Person</span><span style=\"color: blue\">__hello()</span></code> but we are not talking about that here ).</code>"
   ]
  },
  {
   "cell_type": "code",
   "execution_count": 16,
   "id": "0a33e56f-d10d-4ab5-a021-d78899d09fbb",
   "metadata": {},
   "outputs": [
    {
     "name": "stdout",
     "output_type": "stream",
     "text": [
      "hello person!\n",
      "hello person!\n"
     ]
    }
   ],
   "source": [
    "\n",
    "class Person:\n",
    "    \n",
    "    __name = \"anonymous\"              # private  class  attribute\n",
    "    nickname = \"unknown\"              # public   class  attribute\n",
    "\n",
    "    # PRIVATE  instance  method\n",
    "    def __hello(self):\n",
    "        print(\"hello person!\")\n",
    "\n",
    "    # PUBLIC  instance  method\n",
    "    def welcome(self):\n",
    "        self.__hello()                # private  method  __hello()  cannot  be  accessed  directly  from   outside  the  class\n",
    "\n",
    "\n",
    "p1 = Person()\n",
    "\n",
    "p1._Person__hello()     # Output:  hello person!    ===>   _Person__hello()  method  is  accessible  from  outside  the  class,  not  __hello()  method\n",
    "\n",
    "p1.welcome()            # Output:  hello person!\n"
   ]
  },
  {
   "cell_type": "markdown",
   "id": "2c824c9a-ad03-45b0-910e-63b4b80c53da",
   "metadata": {},
   "source": [
    "<br>\n",
    "\n",
    "<code style=\"background-color: white;\">Since <code style=\"background-color: #e4ecea; color: blue;\">nickname</code> is a <code style=\"background-color: #e4ecea;\"><span style=\"font-size: 1.01rem;\"><i>public class attribute</i></span></code>, so <code style=\"background-color: #e4ecea;\">whenever an object <span style=\"color: red;\">p1</span> of Person class is created it already has access to that <code style=\"background-color: #e5e5e5;\"><span style=\"font-size: 1.01rem;\"><i>public class attribute</i></span></code> <span style=\"color: blue;\">nickname</span></code></code>\n"
   ]
  },
  {
   "cell_type": "code",
   "execution_count": 14,
   "id": "c7aca853-b6e8-41b9-9b05-841f306402e6",
   "metadata": {},
   "outputs": [
    {
     "data": {
      "text/plain": [
       "'unknown'"
      ]
     },
     "execution_count": 14,
     "metadata": {},
     "output_type": "execute_result"
    }
   ],
   "source": [
    "\n",
    "p1.nickname\n"
   ]
  },
  {
   "cell_type": "markdown",
   "id": "6201c860-e623-4fa0-98d2-20f2f21c9263",
   "metadata": {},
   "source": [
    "<br>\n",
    "\n",
    "<div style=\"background-color: #a0ffec; padding: 10px;\">\n",
    "<code style=\"background-color: #a0ffec;\">However, an object <u>cannot access</u> a</code> <strong>private class attribute</strong>. &nbsp;<code style=\"background-color: #a0ffec;\">Let' see how:</code>\n",
    "</div>\n",
    "\n",
    "<br>"
   ]
  },
  {
   "cell_type": "code",
   "execution_count": 115,
   "id": "f8520a22-8f6d-4ab9-afe4-112bf88815ef",
   "metadata": {},
   "outputs": [
    {
     "ename": "AttributeError",
     "evalue": "'Person' object has no attribute '__name'",
     "output_type": "error",
     "traceback": [
      "\u001b[1;31m---------------------------------------------------------------------------\u001b[0m",
      "\u001b[1;31mAttributeError\u001b[0m                            Traceback (most recent call last)",
      "Cell \u001b[1;32mIn[115], line 1\u001b[0m\n\u001b[1;32m----> 1\u001b[0m \u001b[43mp1\u001b[49m\u001b[38;5;241;43m.\u001b[39;49m\u001b[43m__name\u001b[49m\n",
      "\u001b[1;31mAttributeError\u001b[0m: 'Person' object has no attribute '__name'"
     ]
    }
   ],
   "source": [
    "\n",
    "p1.__name\n"
   ]
  },
  {
   "cell_type": "markdown",
   "id": "d307cde4-c9d0-4767-ba64-588998af9c6d",
   "metadata": {},
   "source": [
    "<br>\n",
    "\n",
    "<div style=\"margin-left: 150px;\">\n",
    "\n",
    "![](media/Shraddha_Kapra_oops_16.PNG)\n",
    "\n",
    "</div>\n",
    "\n",
    "<br>\n",
    "\n",
    "<code style=\"background-color: white;\">As you can see the <code style=\"background-color: #e5e5e5;\"><span style=\"font-size: 1.01rem;\"><i>person object</i></span> &nbsp;<code style=\"background-color: #e5e5e5; color: red;\">p1</code></code> cannot access the <code style=\"background-color: #e5e5e5;\"><span style=\"font-size: 1.01rem;\"><i>private class attribute</i></span> <code style=\"background-color: #e5e5e5; color: blue;\">__name</code></code> which is rightly so, but then how to access the <code style=\"background-color: #e5e5e5;\"><span style=\"font-size: 1.01rem;\"><i>private class attribute</i></span></code> and in which scenario is it used?</code>\n",
    "\n",
    "<br>\n",
    "\n",
    "<div style=\"background-color: #a0ffec; padding: 10px;\">\n",
    "<br>\n",
    "<code style=\"background-color:  #a0ffec;\"><span style=\"font-size: 1.01rem\"><strong>Private Class Attribute</strong></span> is used <u>within the class itself</u> and can be accessed like <strong><span style=\"background-color: white; color: red;\">&nbsp;Classname.<span style=\"color: blue;\">classmethodname</span>&nbsp;</span></strong> </code><br><br>\n",
    "</div>\n",
    "\n",
    "<br><br>\n",
    "\n",
    "<div style=\"margin-left: 135px;\">\n",
    "    \n",
    "<code>Person.<span style=\"color: blue;\">__name</span></code>  &nbsp;&nbsp;&nbsp;====>&nbsp;&nbsp;&nbsp;  <code style=\"background-color: white;\">accessing a <u>private class method</u> is possible <span style=\"font-size: 1.001rem\"><strong>only within the same class</strong></span> Person</code>\n",
    "\n",
    "</div>\n",
    "\n",
    "<br>\n",
    "\n",
    "<div style=\"margin-left: 50px;\">\n",
    "\n",
    "![](media/Shraddha_Kapra_oops_17.PNG)\n",
    "\n",
    "</div>"
   ]
  },
  {
   "cell_type": "code",
   "execution_count": 31,
   "id": "33222606-3ca1-4fa3-b9db-bb96e0908624",
   "metadata": {},
   "outputs": [
    {
     "name": "stdout",
     "output_type": "stream",
     "text": [
      "hello anonymous!\n",
      "hello anonymous!\n"
     ]
    },
    {
     "data": {
      "text/plain": [
       "'unknown'"
      ]
     },
     "execution_count": 31,
     "metadata": {},
     "output_type": "execute_result"
    }
   ],
   "source": [
    "\n",
    "class Person:\n",
    "\n",
    "    __name = \"anonymous\"              # private  class  attribute\n",
    "    nickname = \"unknown\"              # public   class  attribute\n",
    "\n",
    "    # PRIVATE  instance  method\n",
    "    def __hello(self):\n",
    "        print(f\"hello {Person.__name}!\")      #  Person.__name    ==>   accessing private class attribute is possible only withing the same class Person\n",
    "\n",
    "    # PUBLIC  instance  method\n",
    "    def welcome(self):\n",
    "        self.__hello()                # private  method  __hello()  cannot  be  accessed  directly  from   outside  the  class\n",
    "\n",
    "\n",
    "\n",
    "p1 = Person()\n",
    "\n",
    "p1._Person__hello()   # Output:  hello anonymous!   <===   since  private  method  __hello()  is  not  accessible  from  outside  the  class \n",
    "\n",
    "p1.welcome()          # Output:  hello anonymous!   <===   private  method  __hello()  is  accessible  by an  object  through  public  method  welcome()\n",
    "\n",
    "p1.nickname           # Output: 'unknown'           <===   public  class  attribute  nickname  is  always  accessible  outside  the  class\n"
   ]
  },
  {
   "cell_type": "markdown",
   "id": "37d1ba86-340a-4675-b253-77dbb7f32ce8",
   "metadata": {},
   "source": [
    "<br><br>\n",
    "\n",
    "### <span style=\"color: blue\">Inheritance</span>\n"
   ]
  },
  {
   "cell_type": "markdown",
   "id": "4b892f2d-81d8-46f0-9e28-fb65e99d406f",
   "metadata": {},
   "source": [
    "\n",
    "<div style=\"background-color: #ffe0b0; padding: 10px;\">\n",
    "When &nbsp;one &nbsp;class &nbsp;( &nbsp;<code style=\"background-color: #b3fff9;\">child</code> &nbsp;/ &nbsp;<code style=\"background-color: #b3fff9;\">derived</code> &nbsp;) &nbsp;<strong>derives &nbsp;the &nbsp;properties &nbsp;& &nbsp;methods</strong> &nbsp;of &nbsp;another &nbsp;class &nbsp;( &nbsp;<code style=\"background-color: #b3fff9;\">parent</code> &nbsp;/ &nbsp;<code style=\"background-color: #b3fff9;\">base</code> &nbsp;) <br><br>\n",
    "\n",
    "<pre>\n",
    "\n",
    "    <span style=\"color: green\">class</span> <span style=\"color: blue;\">Car</span>:\n",
    "        ...\n",
    "\n",
    "    \n",
    "    <span style=\"color: green\">class</span> <span style=\"color: blue;\">ToyotaCar(<span style=\"color: red;\">Car</span>)</span>:\n",
    "        ...\n",
    "\n",
    "</pre>\n",
    "    \n",
    "</div>\n",
    "\n",
    "<br>\n",
    "\n"
   ]
  },
  {
   "cell_type": "code",
   "execution_count": 37,
   "id": "08d330ac-a00e-4bf4-9770-56c7dbad7898",
   "metadata": {},
   "outputs": [
    {
     "name": "stdout",
     "output_type": "stream",
     "text": [
      "fortuner\n",
      "['black', 'white', 'red']\n",
      "car started..\n",
      "car stopped.\n"
     ]
    }
   ],
   "source": [
    "\n",
    "# PARENT\n",
    "class Car:\n",
    "    \n",
    "    color = [\"black\", \"white\", \"red\"]\n",
    "\n",
    "    @staticmethod\n",
    "    def start():\n",
    "        print(\"car started..\")\n",
    "\n",
    "    @ staticmethod\n",
    "    def stop():\n",
    "        print(\"car stopped.\")\n",
    "\n",
    "\n",
    "# CHILD\n",
    "class ToyotaCar(Car):               # The  ToyotaCar  class  inherits  all  the  properties  and  methods  from  the  Car  class\n",
    "\n",
    "    def __init__(self, name):\n",
    "        self.name = name\n",
    "\n",
    "\n",
    "\n",
    "car1 = ToyotaCar(\"fortuner\")\n",
    "car2 = ToyotaCar(\"prius\")\n",
    "\n",
    "\n",
    "print(car1.name)        #  personal    attribute        =====>     Output:   fortuner\n",
    "print(car1.color)       #  inherited   attribute        =====>     Output:   attribute\n",
    "car1.start()            #  inherited   method           =====>     Output:   car started..\n",
    "car1.stop()             #  inherited   method           =====>     Output:   car stopped.\n"
   ]
  },
  {
   "cell_type": "markdown",
   "id": "fbe43ef7-c811-4771-aa32-17dcc7161c2f",
   "metadata": {},
   "source": [
    "<br>\n",
    "\n",
    "The &nbsp;above &nbsp;example &nbsp;is &nbsp;of &nbsp;type &nbsp;<strong><u>Single &nbsp;inheritance</u></strong>\n",
    "\n",
    "<div style=\"margin-left: 320px;\">\n",
    "\n",
    "![](media/Shraddha_Kapra_oops_9.PNG)\n",
    "\n",
    "</div>"
   ]
  },
  {
   "cell_type": "markdown",
   "id": "c45abb8c-e308-4b8a-95c5-4db9cdd67fb7",
   "metadata": {},
   "source": [
    "<br><br>\n",
    "\n",
    "### <span style=\"color: blue\">Types &nbsp;of &nbsp;Inheritance</span>\n"
   ]
  },
  {
   "cell_type": "markdown",
   "id": "82bc057e-7d29-4afa-b334-8e83e5443f5d",
   "metadata": {},
   "source": [
    "1. &nbsp;&nbsp;Single &nbsp;Inheritance\n",
    "2. &nbsp;&nbsp;Multi &nbsp;Level &nbsp;Inheritance\n",
    "3. &nbsp;&nbsp;Multiple &nbsp;Inheritance"
   ]
  },
  {
   "attachments": {},
   "cell_type": "markdown",
   "id": "735c061c-3bc8-4aff-a2b4-2fb0a8da1a22",
   "metadata": {},
   "source": [
    "<br>\n",
    "\n",
    "<strong><font size=\"+1\">Multi &nbsp;&nbsp;Level &nbsp;&nbsp;Inheritance</font></strong>\n",
    "\n",
    "<div style=\"margin-left: 250px;\">\n",
    "\n",
    "![](media/Shraddha_Kapra_oops_10.PNG)\n",
    "\n",
    "</div>\n"
   ]
  },
  {
   "cell_type": "code",
   "execution_count": 39,
   "id": "7efcf2d3-0fcf-4c20-ad24-6a74eee47616",
   "metadata": {},
   "outputs": [
    {
     "name": "stdout",
     "output_type": "stream",
     "text": [
      "diesel\n",
      "['black', 'white', 'red']\n",
      "car started..\n",
      "car stopped.\n"
     ]
    },
    {
     "ename": "AttributeError",
     "evalue": "'Fortuner' object has no attribute 'brand'",
     "output_type": "error",
     "traceback": [
      "\u001b[1;31m---------------------------------------------------------------------------\u001b[0m",
      "\u001b[1;31mAttributeError\u001b[0m                            Traceback (most recent call last)",
      "Cell \u001b[1;32mIn[39], line 35\u001b[0m\n\u001b[0;32m     32\u001b[0m car1\u001b[38;5;241m.\u001b[39mstart()       \u001b[38;5;66;03m#  Output:           car started..                                ===>   car1.start()   is accessible because it's a class method\u001b[39;00m\n\u001b[0;32m     33\u001b[0m car1\u001b[38;5;241m.\u001b[39mstop()        \u001b[38;5;66;03m#  Output:           car stopped.                                 ===>   car1.stop()    is accessible because it's a class method\u001b[39;00m\n\u001b[1;32m---> 35\u001b[0m \u001b[43mcar1\u001b[49m\u001b[38;5;241;43m.\u001b[39;49m\u001b[43mbrand\u001b[49m         \u001b[38;5;66;03m#  AttributeError:   'Fortuner' object has no attribute 'brand'   ===>   car1.brand    is  not  accessible   ===>   WHY?\u001b[39;00m\n",
      "\u001b[1;31mAttributeError\u001b[0m: 'Fortuner' object has no attribute 'brand'"
     ]
    }
   ],
   "source": [
    "\n",
    "# GRAND PARENT\n",
    "class Car:\n",
    "\n",
    "    color = [\"black\", \"white\", \"red\"]\n",
    "    \n",
    "    @staticmethod\n",
    "    def start():\n",
    "        print(\"car started..\")\n",
    "\n",
    "    @ staticmethod\n",
    "    def stop():\n",
    "        print(\"car stopped.\")\n",
    "\n",
    "\n",
    "# PARENT\n",
    "class ToyotaCar(Car):               # The  ToyotaCar  class  inherits  all  the  properties  and  methods  from  the  Car  class\n",
    "    def __init__(self, brand):\n",
    "        self.brand = brand\n",
    "\n",
    "\n",
    "# CHILD\n",
    "class Fortuner(ToyotaCar):          # The  Fortuner  class  inherits  all  the  properties  and  methods  from  both the  Car  &  ToyotaCar  class\n",
    "        def __init__(self, type):\n",
    "            self.type = type\n",
    "\n",
    "\n",
    "car1 = Fortuner(\"diesel\")\n",
    "\n",
    "\n",
    "print(car1.type)   #  Output:           diesel                                       ===>   car1.type      is accessible because it's a child attribute\n",
    "print(car1.color)  #  Output:           ['black', 'white', 'red']                    ===>   car1.color     is accessible because it's a class attribute\n",
    "car1.start()       #  Output:           car started..                                ===>   car1.start()   is accessible because it's a class method\n",
    "car1.stop()        #  Output:           car stopped.                                 ===>   car1.stop()    is accessible because it's a class method\n",
    "\n",
    "car1.brand         #  AttributeError:   'Fortuner' object has no attribute 'brand'   ===>   car1.brand    is  not  accessible   ===>   WHY?\n"
   ]
  },
  {
   "cell_type": "markdown",
   "id": "79fb34d7-90cf-4ead-80ce-05fc996e1f87",
   "metadata": {},
   "source": [
    "<br>\n",
    "\n",
    "<div style=\"background-color: yellow; padding: 10px;\">\n",
    "<strong>brand</strong> is <u>not accessible</u> to the Fortuner object <strong>car1</strong>. &nbsp;&nbsp;&nbsp;&nbsp;WHY?&nbsp;&nbsp;&nbsp;&nbsp; Because it's not a class attribute, rather an <strong>instance attribute</strong> and that too <u>of the <strong>parent</strong> of the car1 object</u>.\n",
    "</div>\n",
    "\n",
    "<br>\n",
    "\n",
    "<div style=\"background-color: #ffe0b0; padding: 10px;\">\n",
    "\n",
    "<font size=\"+1\">⭐</font><code style=\"background-color: #ffe0b0;\">To fix the error, the Fortuner class needs to call the <strong><span style=\"color: red;\">\\_\\_init__</span></strong> method of its superclass ToyotaCar to properly <strong>initialize</strong> the brand attribute. This can be done using <strong><span style=\"color: blue;\"><font size=\"+1\">super()</font></span></strong> method.</code>\n",
    "\n",
    "<br>\n",
    "\n",
    "In Python, **<span style=\"color: blue;\">super( )</span>** is a built-in function that returns a **proxy object**. <u>This proxy object allows you to access methods and properties of a parent or superclass from within a subclass</u>. The primary use of **<span style=\"color: blue;\">super( )</span>** is to extend the functionality of inherited methods, rather than overriding them completely, and to ensure that the proper **method resolution order (MRO)** is followed, especially in **multiple inheritance** scenarios.\n",
    "\n",
    "</div>\n",
    "\n",
    "<br>\n",
    "\n",
    "<br>\n",
    "\n",
    "<div style=\"margin-left: 20px;\">\n",
    "\n",
    "![](media/Shraddha_Kapra_oops_11.PNG)\n",
    "\n",
    "</div>\n"
   ]
  },
  {
   "cell_type": "code",
   "execution_count": 40,
   "id": "23a66006-6ed2-483a-9c27-2d8ef46fa4fa",
   "metadata": {},
   "outputs": [
    {
     "name": "stdout",
     "output_type": "stream",
     "text": [
      "diesel\n",
      "['black', 'white', 'red']\n",
      "car started..\n",
      "car stopped.\n",
      "\n",
      "\n",
      "This car is a Fortuner of Toyota brand & diesel type.\n"
     ]
    }
   ],
   "source": [
    "\n",
    "# GRAND PARENT\n",
    "class Car:\n",
    "\n",
    "    color = [\"black\", \"white\", \"red\"]\n",
    "\n",
    "    @staticmethod\n",
    "    def start():\n",
    "        print(\"car started..\")\n",
    "\n",
    "    @ staticmethod\n",
    "    def stop():\n",
    "        print(\"car stopped.\")\n",
    "\n",
    "\n",
    "# PARENT\n",
    "class ToyotaCar(Car):                     # the  ToyotaCar  class  inherits  all  the  properties  &  methods  from  the  Car  class\n",
    "    def __init__(self, brand):\n",
    "        self.brand = brand\n",
    "\n",
    "\n",
    "# CHILD\n",
    "class Fortuner(ToyotaCar):                # the  Fortuner  class  inherits  all  the  properties  &  methods  from  both  the  Car  &  ToyotaCar  class\n",
    "        def __init__(self, brand, type):\n",
    "            super().__init__(brand)       # calls  the  superclass's  __init__()  method  to  initialize  the  brand  attribute\n",
    "            self.type = type\n",
    "\n",
    "\n",
    "car1 = Fortuner(\"Toyota\", \"diesel\")\n",
    "\n",
    "\n",
    "print(car1.type)      #  Output:      diesel                         =====>    car1.type     is  accessible\n",
    "print(car1.color)     #  Output:      ['black', 'white', 'red']      =====>    car1.color    is  accessible\n",
    "car1.start()          #  Output:      car started..                  =====>    car1.start()  is  accessible\n",
    "car1.stop()           #  Output:      car stopped.                   =====>    car1.stop()   is  accessible\n",
    "car1.brand            #  Output:      'Toyota'                       =====>    car1.brand    is  accessible\n",
    "\n",
    "print(\"\\n\")\n",
    "print(f\"This car is a Fortuner of {car1.brand} brand & {car1.type} type.\")\n"
   ]
  },
  {
   "cell_type": "markdown",
   "id": "fef161cd-558a-4d4e-a611-0fa647cd24a4",
   "metadata": {},
   "source": [
    "<br>\n",
    "\n",
    "<code style=\"background-color: white; color: #ff00b9;\">Now that we know how to use <strong><span style=\"color: blue;\">super()</span></strong>, we can <strong><span style=\"color: black;\">update</span></strong> the <span style=\"background-color: #a3fffc;\">parent <u>attribute</u></span> (<span style=\"color: black;\"><strong>brand</strong></span>) of a <span style=\"background-color: #a3fffc;\">child <u>object</u></span> (<span style=\"color: black;\"><strong>car1</strong></span>) as and when required.</code>\n"
   ]
  },
  {
   "cell_type": "code",
   "execution_count": 45,
   "id": "6c3bc900-e072-488b-bb9c-e305825ee3e1",
   "metadata": {},
   "outputs": [
    {
     "data": {
      "text/plain": [
       "'ToyotaVersion2'"
      ]
     },
     "execution_count": 45,
     "metadata": {},
     "output_type": "execute_result"
    }
   ],
   "source": [
    "\n",
    "car1.brand = \"ToyotaVersion2\"\n",
    "\n",
    "car1.brand\n"
   ]
  },
  {
   "cell_type": "markdown",
   "id": "c95f6bee-2797-48f9-93ef-d456931f0333",
   "metadata": {},
   "source": [
    "<br>\n",
    "\n",
    "<div style=\"background-color: #ffe0b0; padding: 10px;\">\n",
    "    \n",
    "Now&nbsp; that&nbsp; we&nbsp; know&nbsp;, &nbsp;<strong><span style=\"color: blue;\">super( )</span></strong>&nbsp; is&nbsp; used&nbsp; as&nbsp; a&nbsp; method&nbsp; to&nbsp; <strong>initialize</strong>&nbsp; the&nbsp; <u>attributes</u>&nbsp; &&nbsp; <u>methods</u>&nbsp; of&nbsp; the&nbsp; <strong>parent (super class)</strong>&nbsp; of&nbsp; the&nbsp; <strong>child&nbsp; class</strong>&nbsp; you&nbsp; are&nbsp; currently&nbsp; in.   <br><br>\n",
    "<font size=\"+1\">⭐</font>&nbsp;&nbsp;The&nbsp; <strong>next&nbsp; question&nbsp;</strong> that&nbsp; arises&nbsp; is&nbsp; <span style=\"background-color: #cbfffe;\">how&nbsp; to&nbsp; use&nbsp; this&nbsp; <strong><span style=\"color: blue;\">super( )</span></strong>&nbsp; method&nbsp; to&nbsp; <strong>initialize</strong>&nbsp; the&nbsp; <u>attributes</u>&nbsp; &&nbsp; <u>methods</u>&nbsp; of&nbsp; the&nbsp; <strong>grand&nbsp; parent</strong>&nbsp; of&nbsp; the&nbsp; <strong>child&nbsp; class</strong>&nbsp; you&nbsp; are&nbsp; currently&nbsp; in ?</span>\n",
    "\n",
    "</div>\n",
    "\n",
    "<br>\n",
    "\n",
    "<code style=\"background-color: white; color: #ff00b9;\">For example, how to initialize the <span style=\"color: black; background-color: yellow;\"><strong>price</strong></span> attribute (coming from the <span style=\"background-color: #aefffe; color: black;\">grand parent</span>) while creating an <span style=\"background-color: #aefffe; color: black;\">object of Fortuner class</span> ?</code> \n",
    "\n",
    "<br>\n",
    "\n",
    "<code style=\"background-color: white;\">Obviouslty we <strong><span style=\"font-size: 1.04rem;\">can't use</span></strong> <code style=\"background-color: #dfe1e1;\">super().super()</code> like <code style=\"background-color: #dfe1e1;\">super().super().\\_\\_init__(price)</code></code><br>\n",
    "<code style=\"background-color: white;\">So ho will we do it? Let's see how?</code>\n",
    "\n",
    "<br>\n",
    "\n",
    "<div style=\"margin-left: 80px;\">\n",
    "\n",
    "![](media/Shraddha_Kapra_oops_12.PNG)\n",
    "\n",
    "</div>"
   ]
  },
  {
   "cell_type": "code",
   "execution_count": 58,
   "id": "57642100-0263-4893-889f-80dfe0d0a408",
   "metadata": {},
   "outputs": [
    {
     "name": "stdout",
     "output_type": "stream",
     "text": [
      "diesel\n",
      "['black', 'white', 'red']\n",
      "car started..\n",
      "car stopped.\n"
     ]
    },
    {
     "data": {
      "text/plain": [
       "50000"
      ]
     },
     "execution_count": 58,
     "metadata": {},
     "output_type": "execute_result"
    }
   ],
   "source": [
    "\n",
    "class Car:\n",
    "\n",
    "    color = [\"black\", \"white\", \"red\"]\n",
    "\n",
    "    def __init__(self, price):\n",
    "        self.price = price\n",
    "\n",
    "    @staticmethod\n",
    "    def start():\n",
    "        print(\"car started..\")\n",
    "\n",
    "    @ staticmethod\n",
    "    def stop():\n",
    "        print(\"car stopped.\")\n",
    "\n",
    "\n",
    "class ToyotaCar(Car):                              # inherits  all  the  properties  &  methods  from  the  Car  class\n",
    "    def __init__(self, brand, price):\n",
    "        super().__init__(price)                    # to  initialize  the  price ( grandparent class )  attribute\n",
    "        self.brand = brand\n",
    "\n",
    "\n",
    "class Fortuner(ToyotaCar):                         # inherits  all  the  properties  &  methods  from  both  the  Car  &  ToyotaCar  class\n",
    "        def __init__(self, brand, type, price):\n",
    "            super().__init__(brand, price)         # to  initialize  the  brand ( parent  attribute )  &  price ( grandparent  attribute )\n",
    "            self.type = type\n",
    "\n",
    "\n",
    "car1 = Fortuner(\"Toyota\", \"diesel\", 50000)\n",
    "\n",
    "\n",
    "print(car1.type)      #  Output:      diesel                         =====>     car1.type     is  accessible\n",
    "print(car1.color)     #  Output:      ['black', 'white', 'red']      =====>     car1.color    is  accessible\n",
    "car1.start()          #  Output:      car started..                  =====>     car1.start()  is  accessible\n",
    "car1.stop()           #  Output:      car stopped.                   =====>     car1.stop()   is  accessible\n",
    "car1.brand            #  Output:      'Toyota'                       =====>     car1.brand    is  accessible\n",
    "car1.price            #  Output:      50000                          =====>     car1.price    is  accessible\n"
   ]
  },
  {
   "cell_type": "code",
   "execution_count": 51,
   "id": "0d537b99-788c-4ceb-850f-20987cca2ceb",
   "metadata": {},
   "outputs": [
    {
     "data": {
      "text/plain": [
       "9900000"
      ]
     },
     "execution_count": 51,
     "metadata": {},
     "output_type": "execute_result"
    }
   ],
   "source": [
    "\n",
    "car1.price = 9900000     # updating  the  grand  parent  attribute  (price)  of  the  child  object  car1\n",
    "car1.price\n"
   ]
  },
  {
   "cell_type": "markdown",
   "id": "62c50015-d0c1-4f02-9c17-fdae08944df3",
   "metadata": {},
   "source": [
    "<br>\n",
    "\n",
    "<strong><font size=\"+1\">Multiple &nbsp;&nbsp;Inheritance</font></strong>\n",
    "\n",
    "<div style=\"margin-left: 250px;\">\n",
    "\n",
    "![](media/Shraddha_Kapra_oops_13.PNG)\n",
    "\n",
    "</div>\n"
   ]
  },
  {
   "cell_type": "code",
   "execution_count": 90,
   "id": "b28e7533-8f0f-47eb-82c3-881480c1c38f",
   "metadata": {},
   "outputs": [
    {
     "name": "stdout",
     "output_type": "stream",
     "text": [
      "welcome to class C\n",
      "welcome to class B\n",
      "welcome to class A\n"
     ]
    }
   ],
   "source": [
    "\n",
    "class A:\n",
    "    varA = \"welcome to class A\"\n",
    "\n",
    "class B:\n",
    "    varB = \"welcome to class B\"\n",
    "\n",
    "class C(A , B):\n",
    "    varC = \"welcome to class C\"\n",
    "\n",
    "\n",
    "c1 = C()                              #  creating  object  of  class  C\n",
    "\n",
    "print(c1.varC)                        #  varC  is  a  class  attribute  and  hence  accessible  to  the  child  object  c1\n",
    "print(c1.varB)                        #  varB  is  a  class  attribute  and  hence  accessible  to  the  child  object  c1\n",
    "print(c1.varA)                        #  varA  is  a  class  attribute  and  hence  accessible  to  the  child  object  c1\n"
   ]
  },
  {
   "cell_type": "markdown",
   "id": "ee2adf9d-487e-4472-a720-d286826b4e4d",
   "metadata": {},
   "source": [
    "<br>\n",
    "\n",
    "<code style=\"background-color: white; color: #ff00b9;\">Let's take another example :</code>"
   ]
  },
  {
   "cell_type": "code",
   "execution_count": 97,
   "id": "972088d1-87a2-4829-8677-6e05134e0af2",
   "metadata": {},
   "outputs": [
    {
     "name": "stdout",
     "output_type": "stream",
     "text": [
      "Method in D\n",
      "Method in B\n",
      "Method in C\n",
      "Method in A\n"
     ]
    }
   ],
   "source": [
    "\n",
    "class A:\n",
    "    def method(self):\n",
    "        print(\"Method in A\")\n",
    "\n",
    "class B(A):\n",
    "    def method(self):\n",
    "        print(\"Method in B\")\n",
    "        super().method()\n",
    "\n",
    "class C(A):\n",
    "    def method(self):\n",
    "        print(\"Method in C\")\n",
    "        super().method()\n",
    "\n",
    "class D(B, C):\n",
    "    def method(self):\n",
    "        print(\"Method in D\")\n",
    "        super().method()\n",
    "\n",
    "\n",
    "# Create an instance of D and call the method\n",
    "d = D()\n",
    "d.method()\n"
   ]
  },
  {
   "cell_type": "markdown",
   "id": "28b363f0-6cb1-44fa-9a89-3c7a29728aeb",
   "metadata": {},
   "source": [
    "<br>\n",
    "\n",
    "&nbsp;&nbsp;<code style=\"background-color: #bcfff0;\">You must be wondering why the output is not like &nbsp;\" <strong><span style=\"font-size: 1.001rem; color: red;\">D</span></strong> &nbsp;&nbsp;===>&nbsp;&nbsp; <strong><span style=\"font-size: 1.001rem; color: red;\">B</span></strong> &nbsp;&nbsp;===>&nbsp;&nbsp; <strong><span style=\"font-size: 1.001rem; color: red;\">A</span></strong> &nbsp;&nbsp;===>&nbsp;&nbsp; <strong><span style=\"font-size: 1.001rem; color: red;\">C</span></strong> \" ?</code> <br>\n",
    "\n",
    "<code style=\"background-color: white;\">It is because something called as <span style=\"font-size: 1.001rem; background-color: yellow;\"><strong>Method Resolution Order</strong></span> in Python.</code>  <br>\n",
    "\n",
    "<div style=\"background-color: #ffe0b0; padding: 10px;\"> <br>\n",
    "\n",
    "The **Method Resolution Order (MRO)** in Python determines &nbsp;<span style=\"color: blue;\"><u>the &nbsp;order &nbsp;in &nbsp;which &nbsp;**base &nbsp;classes** &nbsp;are &nbsp;searched &nbsp;when &nbsp;executing &nbsp;a &nbsp;method</u></span>. &nbsp;In other words, it determines the order in which methods are called. **MRO** is particularly important in cases of **multiple inheritance**, <span style=\"color: red;\"><u><i><span style=\"color: black;\">where a class inherits from more than one **parent class**</span></i></u></span>. <br>\n",
    "\n",
    "---\n",
    "\n",
    "<strong><span style=\"color: #73716f;\">How &nbsp;<span style=\"color: black;\">MRO</span> &nbsp;Works?</span></strong>\n",
    "\n",
    "In Python, <strong>MRO</strong> follows the &nbsp;<span style=\"color: #ff0124;\">C3 linearization algorithm</span>&nbsp; (also known as <span style=\"color: #ff0124;\">C3 superclass linearization</span>). &nbsp;The <strong>MRO</strong> ensures that:\n",
    "\n",
    "&nbsp;&nbsp;&nbsp;&nbsp;&nbsp;&nbsp;&nbsp;&nbsp;&nbsp;1. &nbsp;Child classes are considered before parent classes.   \n",
    "<br>\n",
    "&nbsp;&nbsp;&nbsp;&nbsp;&nbsp;&nbsp;&nbsp;&nbsp;&nbsp;2. &nbsp;If a class inherits from multiple classes, the order of those parent classes in the inheritance list is respected.  \n",
    "<br>\n",
    "&nbsp;&nbsp;&nbsp;&nbsp;&nbsp;&nbsp;&nbsp;&nbsp;&nbsp;3. &nbsp;If a class appears more than once in the hierarchy, it is only considered the first time.\n",
    "\n",
    "\n",
    "\n",
    "</div>\n",
    "\n",
    "\n",
    "\n",
    "\n",
    "\n",
    "\n",
    "<br>\n",
    "\n",
    "<div style=\"background-color: #fdedec; padding: 10px;\"> <br>\n",
    "\n",
    "In the example, the MRO for D would be D -> B -> C -> A. The super() calls ensure that methods are called in this order.\n",
    "\n",
    "</div>\n"
   ]
  },
  {
   "cell_type": "code",
   "execution_count": null,
   "id": "2fb3fde7-71f4-4ed6-83ea-c60969f989bf",
   "metadata": {},
   "outputs": [],
   "source": []
  },
  {
   "cell_type": "code",
   "execution_count": null,
   "id": "7db00ed6-4e18-4246-8168-6c97c99ee94e",
   "metadata": {},
   "outputs": [],
   "source": []
  },
  {
   "cell_type": "code",
   "execution_count": null,
   "id": "0475f14b-102a-4ddd-a3f1-29b255410aaf",
   "metadata": {},
   "outputs": [],
   "source": []
  },
  {
   "cell_type": "code",
   "execution_count": null,
   "id": "cc6d4674-2695-4bfc-80c7-ff04b5b85d8d",
   "metadata": {},
   "outputs": [],
   "source": []
  },
  {
   "cell_type": "code",
   "execution_count": null,
   "id": "d255da23-947e-4e21-9ebd-70a818ae3f7c",
   "metadata": {},
   "outputs": [],
   "source": []
  },
  {
   "cell_type": "code",
   "execution_count": null,
   "id": "ab8f6771-acff-4d03-90a3-77512b2e935f",
   "metadata": {},
   "outputs": [],
   "source": []
  },
  {
   "cell_type": "code",
   "execution_count": null,
   "id": "9db311be-7a85-4eba-81cc-3bafcb75e7ea",
   "metadata": {},
   "outputs": [],
   "source": []
  },
  {
   "cell_type": "code",
   "execution_count": null,
   "id": "145345b7-1912-440f-981d-cf7d7a78a575",
   "metadata": {},
   "outputs": [],
   "source": []
  },
  {
   "cell_type": "markdown",
   "id": "5303d27a-ef13-4927-afda-2b9e507d39d5",
   "metadata": {},
   "source": [
    "<br>\n",
    "\n",
    "<div style=\"background-color: #fdedec; padding: 10px;\"> <br>\n",
    "\n",
    "<code style=\"background-color: #fdedec; color: #ff00b9;\">Similar to <u>inherited class attributes</u>, <span style=\"background-color: #c4fff6; color: #e507c6;\">inherited class <u>methods</u></span> are also easily accessible to a <u>child object</u> without using <span style=\"color: blue;\"><strong>super()</strong></span>.</code>  <br>\n",
    "\n",
    "<code style=\"background-color: #fdedec; color: #ff00b9;\">What it cannot access without using <span style=\"color: blue;\"><strong>super()</strong></span> is -</code> <strong><span style=\"color: black;\">inherited &nbsp;instance  &nbsp;attributes</span></strong>\n",
    "</div>"
   ]
  },
  {
   "cell_type": "code",
   "execution_count": 77,
   "id": "fda1a59a-2957-4481-8f78-90c5a8617ee2",
   "metadata": {},
   "outputs": [
    {
     "name": "stdout",
     "output_type": "stream",
     "text": [
      "init function of class C\n"
     ]
    }
   ],
   "source": [
    "\n",
    "class A:\n",
    "    class_attribute_A1 = \"class_attribute_A1\"\n",
    "\n",
    "    def __init__(self, instance_attribute_A1):\n",
    "        print(\"init function of class A\")\n",
    "        self.instance_attribute_A1 = instance_attribute_A1\n",
    "\n",
    "    def class_method_A1(self):\n",
    "        print(\"class_method_A1\")\n",
    "\n",
    "###########################################################################################\n",
    "\n",
    "class B:\n",
    "    class_attribute_B1 = \"class_attribute_B1\"\n",
    "\n",
    "    def __init__(self, instance_attribute_B1):\n",
    "        print(\"You are inside     ====>     init function of class B\")\n",
    "        self.instance_attribute_B1 = instance_attribute_B1\n",
    "\n",
    "    def class_method_B1(self):\n",
    "        print(\"class_method_B1\")\n",
    "\n",
    "    def __class_method_B2__(self):    # dunder method\n",
    "        print(\"__class_method_B2__\")\n",
    "\n",
    "###########################################################################################\n",
    "\n",
    "class C(A , B):\n",
    "    class_attribute_C1 = \"class_attribute_C1\"\n",
    "\n",
    "    def __init__(self, instance_attribute_C1):\n",
    "        print(\"init function of class C\")\n",
    "        self.instance_attribute_C1 = instance_attribute_C1\n",
    "\n",
    "    def class_method_C1(self):\n",
    "        print(\"class_method_C1\")\n",
    "\n",
    "###########################################################################################\n",
    "\n",
    "# creating  object  of  class  C\n",
    "c1 = C(5)                             #  calls  __init__  method  of class C        ===>       Output:  init function of class C    \n"
   ]
  },
  {
   "cell_type": "markdown",
   "id": "a41358d0-a6fe-45aa-84c5-498fb9ceb284",
   "metadata": {},
   "source": [
    "<br>\n",
    "\n",
    "<code style=\"background-color: white;\">Now let's try to access <u>child properties</u> (<span style=\"background-color: #b5fff6;\"><span style=\"font-size: 1.08rem\"><strong>self</strong></span> attributes & methods</span>) using the <u>child object c1</u>:</code>"
   ]
  },
  {
   "cell_type": "code",
   "execution_count": 62,
   "id": "197f6b90-2c90-4ea1-a812-021f894a0228",
   "metadata": {},
   "outputs": [
    {
     "name": "stdout",
     "output_type": "stream",
     "text": [
      "init function of class C\n",
      "class_attribute_C1\n",
      "c1.instance_attribute_C1 = 5\n"
     ]
    }
   ],
   "source": [
    "\n",
    "c1.__init__(5)                                                     #  Output:  init function of class C\n",
    "print(c1.class_attribute_C1)                                       #  Output:  class_attribute_C1\n",
    "print(\"c1.instance_attribute_C1 =\", c1.instance_attribute_C1)      #  Output:  c1.instance_attribute_C1 = 5\n"
   ]
  },
  {
   "cell_type": "markdown",
   "id": "86067445-c481-4ac2-8045-e532d9f88d4d",
   "metadata": {},
   "source": [
    "<br>\n",
    "\n",
    "<code style=\"background-color: white;\">Now let's try to access <u>parent/grandparent/beyond properties</u> (<span style=\"background-color: #b5fff6;\"><span style=\"font-size: 1.08rem\"><strong>inherited</strong></span> <span style=\"color: #ff0853;\"><span style=\"font-size: 1.08rem\"><strong>class</strong></span></span> attributes & methods</span>) using the <u>child object c1</u>:</code>"
   ]
  },
  {
   "cell_type": "code",
   "execution_count": 63,
   "id": "55c96608-15aa-412f-a4a5-3e71b222608d",
   "metadata": {},
   "outputs": [
    {
     "name": "stdout",
     "output_type": "stream",
     "text": [
      "class_attribute_A1\n",
      "class_method_A1\n",
      "class_attribute_B1\n",
      "class_method_B1\n"
     ]
    }
   ],
   "source": [
    "\n",
    "print(c1.class_attribute_A1)\n",
    "c1.class_method_A1()\n",
    "\n",
    "print(c1.class_attribute_B1)\n",
    "c1.class_method_B1()\n"
   ]
  },
  {
   "cell_type": "markdown",
   "id": "18d3982c-0f7b-4cea-b100-ddbfbff5c19b",
   "metadata": {},
   "source": [
    "<br>\n",
    "\n",
    "<code style=\"background-color: white;\">Now let's try to access <u>parent/grandparent/beyond properties</u> (<span style=\"background-color: #b5fff6;\"><span style=\"font-size: 1.08rem\"><strong>inherited</strong></span> <span style=\"color: #ff0853;\"><span style=\"font-size: 1.08rem\"><strong>instance</strong></span></span> attributes & methods</span>) using the <u>child object c1</u>:</code>\n"
   ]
  },
  {
   "cell_type": "code",
   "execution_count": 64,
   "id": "864e4f57-4aa1-4893-af2d-3e634637f1fc",
   "metadata": {},
   "outputs": [
    {
     "ename": "AttributeError",
     "evalue": "'C' object has no attribute 'instance_attribute_A1'",
     "output_type": "error",
     "traceback": [
      "\u001b[1;31m---------------------------------------------------------------------------\u001b[0m",
      "\u001b[1;31mAttributeError\u001b[0m                            Traceback (most recent call last)",
      "Cell \u001b[1;32mIn[64], line 1\u001b[0m\n\u001b[1;32m----> 1\u001b[0m \u001b[38;5;28mprint\u001b[39m(\u001b[43mc1\u001b[49m\u001b[38;5;241;43m.\u001b[39;49m\u001b[43minstance_attribute_A1\u001b[49m)\n",
      "\u001b[1;31mAttributeError\u001b[0m: 'C' object has no attribute 'instance_attribute_A1'"
     ]
    }
   ],
   "source": [
    "\n",
    "print(c1.instance_attribute_A1)\n"
   ]
  },
  {
   "cell_type": "code",
   "execution_count": 67,
   "id": "afccf692-9899-45a4-8b0d-69a39a1591dc",
   "metadata": {},
   "outputs": [
    {
     "ename": "AttributeError",
     "evalue": "'C' object has no attribute 'instance_attribute_B1'",
     "output_type": "error",
     "traceback": [
      "\u001b[1;31m---------------------------------------------------------------------------\u001b[0m",
      "\u001b[1;31mAttributeError\u001b[0m                            Traceback (most recent call last)",
      "Cell \u001b[1;32mIn[67], line 1\u001b[0m\n\u001b[1;32m----> 1\u001b[0m \u001b[38;5;28mprint\u001b[39m(\u001b[43mc1\u001b[49m\u001b[38;5;241;43m.\u001b[39;49m\u001b[43minstance_attribute_B1\u001b[49m)\n",
      "\u001b[1;31mAttributeError\u001b[0m: 'C' object has no attribute 'instance_attribute_B1'"
     ]
    }
   ],
   "source": [
    "\n",
    "print(c1.instance_attribute_B1)\n"
   ]
  },
  {
   "cell_type": "markdown",
   "id": "ed8f3cb8-723d-4d05-b334-3e46e398350d",
   "metadata": {},
   "source": [
    "<br>\n",
    "\n",
    "<div style=\"background-color: #edeeee; padding: 10px;\">\n",
    "\n",
    "<code>A child object can access all inherited / derived  Class attributes and method of parents or grandparents or even beyond.</code>  <br>\n",
    "<code>But it cannot access instance attributes.</code>\n",
    "\n",
    "</div>\n",
    "<div style=\"background-color: #ffe0b0; padding: 10px;\">\n",
    "\n",
    "<code style=\"background-color: #ffe0b0;\">To access <span style=\"background-color: #ffe0b0;;\"><span style=\"font-size: 1.08rem\"><strong>inherited</strong></span> <span style=\"color: #ff0853;\"><span style=\"font-size: 1.08rem\"><strong>instance</strong></span></span> attributes & methods by a child object</span>:</code> <br>\n",
    "\n",
    "&nbsp;&nbsp;<font size=\"+1\">↳</font>&nbsp;&nbsp;<code style=\"background-color: #ffe0b0;\">we need to be able to call  <span style=\"font-size: 1.08rem\"><strong><span style=\"color: blue;\">\\_\\_init__</span></strong></span>  method of parents/grandparents/beyond and for that we use a built-in method called  <span style=\"font-size: 1.08rem\"><strong><span style=\"color: blue;\">super()</span></strong></span></code>\n",
    "\n",
    "</div>\n"
   ]
  },
  {
   "cell_type": "markdown",
   "id": "e6c0b1d0-a809-4fa8-9acf-7313e5a202ad",
   "metadata": {},
   "source": [
    "<br><br>\n",
    "\n",
    "### <span style=\"color: blue\">Super( )</span>\n"
   ]
  },
  {
   "cell_type": "markdown",
   "id": "1d936c1a-ee76-45bb-a41d-1e34094706cb",
   "metadata": {},
   "source": [
    "\n",
    "<div style=\"background-color: #ffe0b0; padding: 10px;\">\n",
    "\n",
    "<code style=\"background-color: #ffe0b0;\"><span style=\"font-size: 1.08rem\"><strong><span style=\"color: blue;\">super()</span></strong></span> method is used <u>to access the methods of the parent class</u></code>\n",
    "\n",
    "</div>\n"
   ]
  },
  {
   "cell_type": "code",
   "execution_count": 99,
   "id": "8c32758f-c6d4-4e15-b2a0-e2135bd0928e",
   "metadata": {},
   "outputs": [
    {
     "ename": "AttributeError",
     "evalue": "'ToyotaCar' object has no attribute 'fuel_type'",
     "output_type": "error",
     "traceback": [
      "\u001b[1;31m---------------------------------------------------------------------------\u001b[0m",
      "\u001b[1;31mAttributeError\u001b[0m                            Traceback (most recent call last)",
      "Cell \u001b[1;32mIn[99], line 21\u001b[0m\n\u001b[0;32m     17\u001b[0m         \u001b[38;5;28mself\u001b[39m\u001b[38;5;241m.\u001b[39mname \u001b[38;5;241m=\u001b[39m name\n\u001b[0;32m     20\u001b[0m car1 \u001b[38;5;241m=\u001b[39m ToyotaCar(\u001b[38;5;124m\"\u001b[39m\u001b[38;5;124mPrius\u001b[39m\u001b[38;5;124m\"\u001b[39m)\n\u001b[1;32m---> 21\u001b[0m \u001b[43mcar1\u001b[49m\u001b[38;5;241;43m.\u001b[39;49m\u001b[43mfuel_type\u001b[49m\n",
      "\u001b[1;31mAttributeError\u001b[0m: 'ToyotaCar' object has no attribute 'fuel_type'"
     ]
    }
   ],
   "source": [
    "\n",
    "class Car:\n",
    "\n",
    "    def __init__(self, fuel_type):\n",
    "        self.fuel_type = fuel_type\n",
    "\n",
    "    @staticmethod\n",
    "    def start():\n",
    "        print(\"car started..\")\n",
    "\n",
    "    @staticmethod\n",
    "    def stop():\n",
    "        print(\"car stopped.\")\n",
    "\n",
    "\n",
    "class ToyotaCar(Car):\n",
    "    def __init__(self, name):\n",
    "        self.name = name\n",
    "\n",
    "\n",
    "car1 = ToyotaCar(\"Prius\")\n",
    "car1.fuel_type\n"
   ]
  },
  {
   "cell_type": "markdown",
   "id": "0706c3d1-aad1-49a1-a984-93d0f388770a",
   "metadata": {},
   "source": [
    "<br>\n",
    "\n",
    "<code style=\"background-color: white;\">Let us pass the <code style=\"background-color: #dcdcdc;\">fuel_type</code> as an argument while creating an object and see what happens:</code>"
   ]
  },
  {
   "cell_type": "code",
   "execution_count": 98,
   "id": "6952de4e-a6a3-4015-88fb-56e39f42d81e",
   "metadata": {},
   "outputs": [
    {
     "ename": "TypeError",
     "evalue": "ToyotaCar.__init__() takes 2 positional arguments but 3 were given",
     "output_type": "error",
     "traceback": [
      "\u001b[1;31m---------------------------------------------------------------------------\u001b[0m",
      "\u001b[1;31mTypeError\u001b[0m                                 Traceback (most recent call last)",
      "Cell \u001b[1;32mIn[98], line 20\u001b[0m\n\u001b[0;32m     16\u001b[0m     \u001b[38;5;28;01mdef\u001b[39;00m \u001b[38;5;21m__init__\u001b[39m(\u001b[38;5;28mself\u001b[39m, name):\n\u001b[0;32m     17\u001b[0m         \u001b[38;5;28mself\u001b[39m\u001b[38;5;241m.\u001b[39mname \u001b[38;5;241m=\u001b[39m name\n\u001b[1;32m---> 20\u001b[0m car1 \u001b[38;5;241m=\u001b[39m \u001b[43mToyotaCar\u001b[49m\u001b[43m(\u001b[49m\u001b[38;5;124;43m\"\u001b[39;49m\u001b[38;5;124;43mPrius\u001b[39;49m\u001b[38;5;124;43m\"\u001b[39;49m\u001b[43m,\u001b[49m\u001b[43m \u001b[49m\u001b[38;5;124;43m\"\u001b[39;49m\u001b[38;5;124;43mHybrid(Electric + Petrol)\u001b[39;49m\u001b[38;5;124;43m\"\u001b[39;49m\u001b[43m)\u001b[49m\n\u001b[0;32m     21\u001b[0m car1\u001b[38;5;241m.\u001b[39mfuel_type\n",
      "\u001b[1;31mTypeError\u001b[0m: ToyotaCar.__init__() takes 2 positional arguments but 3 were given"
     ]
    }
   ],
   "source": [
    "\n",
    "class Car:\n",
    "\n",
    "    def __init__(self, fuel_type):\n",
    "        self.fuel_type = fuel_type\n",
    "\n",
    "    @staticmethod\n",
    "    def start():\n",
    "        print(\"car started..\")\n",
    "\n",
    "    @staticmethod\n",
    "    def stop():\n",
    "        print(\"car stopped.\")\n",
    "\n",
    "\n",
    "class ToyotaCar(Car):\n",
    "    def __init__(self, name):\n",
    "        self.name = name\n",
    "\n",
    "\n",
    "car1 = ToyotaCar(\"Prius\", \"Hybrid(Electric + Petrol)\")\n",
    "car1.fuel_type\n"
   ]
  },
  {
   "cell_type": "markdown",
   "id": "c88bcdaa-53a3-4612-99ed-efc71e9b5a56",
   "metadata": {},
   "source": [
    "<br>\n",
    "\n",
    "<div style=\"margin-left: 50px;\">\n",
    "\n",
    "![](media/Shraddha_Kapra_oops_14.PNG)\n",
    "\n",
    "</div>\n"
   ]
  },
  {
   "cell_type": "markdown",
   "id": "d4ad66ba-645f-4123-82e1-0d27a96fb184",
   "metadata": {},
   "source": [
    "<br>\n",
    "\n",
    "<code style=\"background-color: white;\">Let us see how we use <span style=\"font-size: 1.08rem\"><strong><span style=\"color: blue;\">super()</span></strong></span> to have a <u>child object</u>  <code style=\"background-color: #dcdcdc;\">car1</code>  with acess to it's <u>parent instance attribute</u>  <code style=\"background-color: #dcdcdc;\">fuel_type</code> :</code>"
   ]
  },
  {
   "cell_type": "code",
   "execution_count": 2,
   "id": "2d59d9cc-1a99-45a5-a810-a07fd4d56549",
   "metadata": {},
   "outputs": [
    {
     "name": "stdout",
     "output_type": "stream",
     "text": [
      "Hybrid(Electric + Petrol)\n",
      "car started..\n",
      "car stopped.\n"
     ]
    }
   ],
   "source": [
    "\n",
    "class Car:\n",
    "\n",
    "    def __init__(self, fuel_type):\n",
    "        self.fuel_type = fuel_type\n",
    "\n",
    "    @staticmethod\n",
    "    def start():\n",
    "        print(\"car started..\")\n",
    "\n",
    "    @staticmethod\n",
    "    def stop():\n",
    "        print(\"car stopped.\")\n",
    "\n",
    "\n",
    "class ToyotaCar(Car):\n",
    "    def __init__(self, name, fuel_type):\n",
    "        super().__init__(fuel_type)\n",
    "        self.name = name\n",
    "\n",
    "\n",
    "car1 = ToyotaCar(\"Prius\", \"Hybrid(Electric + Petrol)\")\n",
    "\n",
    "print(car1.fuel_type)                                             # Output:  'Hybrid(Electric + Petrol)'\n",
    "car1.start()\n",
    "car1.stop()\n"
   ]
  },
  {
   "cell_type": "markdown",
   "id": "ce8898ed-93cf-4756-8647-fd2bfa2d0fa4",
   "metadata": {},
   "source": [
    "<br>\n",
    "\n",
    "<div style=\"margin-left: 150px;\">\n",
    "\n",
    "![](media/Shraddha_Kapra_oops_15.PNG)\n",
    "\n",
    "</div>"
   ]
  },
  {
   "cell_type": "markdown",
   "id": "8b91fa6f-6440-4f9e-92a3-6dc11f6e46c4",
   "metadata": {},
   "source": [
    "<br>\n",
    "\n",
    "<div style=\"background-color: #ffe0b0; padding: 10px;\">\n",
    "\n",
    "**Note &nbsp;&nbsp;-** &nbsp;&nbsp;<code style=\"background-color: #ffe0b0;\">Just like <span style=\"color: blue;\">Constructor</span> <font size=\"+1\">(</font> <span style=\"font-size: 1.02rem\"><strong><span style=\"color: blue;\">\\_\\_init__</span></strong></span> method <font size=\"+1\">)</font> , we can also invoke <u>other inherited methods at the time of creating a child object</u> using this built-in <span style=\"font-size: 1.08rem\"><strong><span style=\"color: blue;\">super()</span></strong></span> method.</code>\n",
    "\n",
    "</div>\n",
    "\n",
    "<br>\n",
    "\n",
    "<code style=\"background-color: white; color: #ff00b9;\">Let us see how to ensure that as and when an object of ToyotaCar class is created, <u>it also starts automatically</u> :</code>\n",
    "\n",
    "\n",
    "\n",
    "<br>"
   ]
  },
  {
   "cell_type": "code",
   "execution_count": 107,
   "id": "55d00dd6-d47e-4c7f-b0ab-dc9e715c4c24",
   "metadata": {},
   "outputs": [
    {
     "name": "stdout",
     "output_type": "stream",
     "text": [
      "car started..\n",
      "Hybrid(Electric + Petrol)\n"
     ]
    }
   ],
   "source": [
    "\n",
    "class Car:\n",
    "\n",
    "    def __init__(self, fuel_type):\n",
    "        self.fuel_type = fuel_type\n",
    "\n",
    "    @staticmethod\n",
    "    def start():\n",
    "        print(\"car started..\")\n",
    "\n",
    "    @staticmethod\n",
    "    def stop():\n",
    "        print(\"car stopped.\")\n",
    "\n",
    "\n",
    "class ToyotaCar(Car):\n",
    "    def __init__(self, name, fuel_type):\n",
    "        self.name = name\n",
    "        super().__init__(fuel_type)                       # invokes   Car.__init__()   method at the time of ToyotaCar type object creation\n",
    "        super().start()                                   # invokes   Car.start()      method at the time of ToyotaCar type object creation\n",
    "\n",
    "\n",
    "car1 = ToyotaCar(\"Prius\", \"Hybrid(Electric + Petrol)\")    # creates object of ToyotaCar type  & prints    :    car started..\n",
    "\n",
    "print(car1.fuel_type)                                                                         # Output    :    Hybrid(Electric + Petrol)\n"
   ]
  },
  {
   "cell_type": "code",
   "execution_count": null,
   "id": "1c6ec0b2-b0b6-4478-b90f-6a769522b2b3",
   "metadata": {},
   "outputs": [],
   "source": []
  },
  {
   "cell_type": "code",
   "execution_count": null,
   "id": "a126bec1-c3f8-4932-ad9a-24498b9e2e6e",
   "metadata": {},
   "outputs": [],
   "source": []
  },
  {
   "cell_type": "code",
   "execution_count": null,
   "id": "a6370dbf-7d63-408f-bc92-919ea8f1fbf0",
   "metadata": {},
   "outputs": [],
   "source": []
  },
  {
   "cell_type": "markdown",
   "id": "8a1396a0-72cf-4a5a-90b8-bad1597cee3a",
   "metadata": {},
   "source": [
    "<br>\n",
    "\n",
    "<span style=\"color: red;\">##################################################################################################################################</span>"
   ]
  },
  {
   "cell_type": "code",
   "execution_count": 80,
   "id": "74be64c0-0c87-4b54-974c-37211dce88db",
   "metadata": {},
   "outputs": [
    {
     "name": "stdout",
     "output_type": "stream",
     "text": [
      "India\n",
      "1000\n",
      "India\n",
      "car started..\n",
      "car stopped.\n",
      "car parked manually.\n",
      "car parked automatically.\n",
      "Hybrid(Electric + Petrol)\n"
     ]
    }
   ],
   "source": [
    "\n",
    "# PARENT\n",
    "class Car:\n",
    "    \n",
    "    ######################################################################################################\n",
    "    country_of_manufacturing = \"India\"         # public class attribute\n",
    "    __cost_of_manufacturing = 1000             # private class attribute\n",
    "\n",
    "    @classmethod\n",
    "    def get_country_of_manufacturing(cls):     # public class method\n",
    "        return cls.country_of_manufacturing\n",
    "\n",
    "    ######################################################################################################\n",
    "    def __init__(self, fuel_type):             # public instance method     ==============>    CONSTRUCTOR\n",
    "        self.fuel_type = fuel_type             # public instance attribute\n",
    "\n",
    "    def park_manually(self):                   # public instance method\n",
    "        print(\"car parked manually.\")\n",
    "    \n",
    "    def __park_automatically(self):            # private instance method\n",
    "        print(\"car parked automatically.\")\n",
    "\n",
    "    ######################################################################################################\n",
    "    @staticmethod\n",
    "    def start():                               # public static method\n",
    "        print(\"car started..\")\n",
    "    \n",
    "    @staticmethod\n",
    "    def stop():                                # public static method\n",
    "        print(\"car stopped.\")\n",
    "    \n",
    "\n",
    "\n",
    "# CHILD\n",
    "class ToyotaCar(Car):\n",
    "    def __init__(self, name, fuel_type):\n",
    "        super().__init__(fuel_type)\n",
    "        self.name = name\n",
    "\n",
    "\n",
    "car1 = ToyotaCar(\"Prius\", \"Hybrid(Electric + Petrol)\")\n",
    "\n",
    "\n",
    "print(car1.country_of_manufacturing)          # public   class      attribute        can     be  accessed  by  a  child  object  without  using  super()\n",
    "print(car1._Car__cost_of_manufacturing)       # private  class      attribute        can     be  accessed  by  a  child  object  without  using  super()\n",
    "print(car1.get_country_of_manufacturing())    # public   class      method           can     be  accessed  by  a  child  object  without  using  super()\n",
    "car1.start()                                  # public   static     method           can     be  accessed  by  a  child  object  without  using  super()\n",
    "car1.stop()                                   # public   static     method           can     be  accessed  by  a  child  object  without  using  super()\n",
    "car1.park_manually()                          # public   instance   method           can     be  accessed  by  a  child  object  without  using  super()\n",
    "car1._Car__park_automatically()               # private  instance   method           can     be  accessed  by  a  child  object  without  using  super()\n",
    "print(car1.fuel_type)                         # public   instance   attribute        cannot  be  accessed  by  a  child  object  without  using  super()\n"
   ]
  },
  {
   "cell_type": "code",
   "execution_count": null,
   "id": "ce2e7477-b11c-4885-b444-987556b4071a",
   "metadata": {},
   "outputs": [],
   "source": []
  },
  {
   "cell_type": "code",
   "execution_count": null,
   "id": "98619522-f8d6-4779-8383-d16f6c90db27",
   "metadata": {},
   "outputs": [],
   "source": []
  },
  {
   "cell_type": "code",
   "execution_count": null,
   "id": "88b1451c-4dc3-455f-858a-cb56b854f054",
   "metadata": {},
   "outputs": [],
   "source": []
  },
  {
   "cell_type": "code",
   "execution_count": null,
   "id": "b3c9aca9-7a8a-4e47-874d-bb2807dd0de2",
   "metadata": {},
   "outputs": [],
   "source": []
  },
  {
   "cell_type": "code",
   "execution_count": null,
   "id": "fab59195-abff-4ee5-83cc-6c43af95b014",
   "metadata": {},
   "outputs": [],
   "source": []
  },
  {
   "cell_type": "code",
   "execution_count": null,
   "id": "cce92dae-08ef-4be3-8b1f-0884fedc7414",
   "metadata": {},
   "outputs": [],
   "source": []
  },
  {
   "cell_type": "markdown",
   "id": "d576ef26-df8e-4c43-bde2-809d5ee8c844",
   "metadata": {},
   "source": [
    "<br>\n",
    "\n",
    "---\n",
    "\n",
    "<br>\n",
    "\n",
    "**Class Method**\n",
    "\n",
    "<br>\n",
    "\n",
    "<span style=\"color: red;\">Example of a Class Method</span>\n"
   ]
  },
  {
   "cell_type": "code",
   "execution_count": 84,
   "id": "9ed53adb-561f-4102-a61f-9c267d6c3d38",
   "metadata": {},
   "outputs": [
    {
     "name": "stdout",
     "output_type": "stream",
     "text": [
      "2\n",
      "John Doe\n",
      "Manager\n"
     ]
    }
   ],
   "source": [
    "class Employee:\n",
    "    # Class attribute\n",
    "    num_employees = 0\n",
    "\n",
    "    def __init__(self, name, position):\n",
    "        self.name = name  # Instance attribute\n",
    "        self.position = position  # Instance attribute\n",
    "        Employee.num_employees += 1\n",
    "\n",
    "    @classmethod\n",
    "    def from_string(cls, employee_str):\n",
    "        name, position = employee_str.split(\"-\")\n",
    "        return cls(name, position)\n",
    "\n",
    "    @classmethod\n",
    "    def get_num_employees(cls):\n",
    "        return cls.num_employees\n",
    "\n",
    "# Creating instances using the class method\n",
    "emp1 = Employee(\"John Doe\", \"Developer\")\n",
    "emp2 = Employee.from_string(\"Jane Smith-Manager\")\n",
    "\n",
    "# Accessing class method\n",
    "print(Employee.get_num_employees())  # Output: 2\n",
    "\n",
    "# Accessing instance attributes\n",
    "print(emp1.name)  # Output: John Doe\n",
    "print(emp2.position)  # Output: Manager\n"
   ]
  },
  {
   "cell_type": "markdown",
   "id": "c7f01f26-cd58-4d72-a87b-9c07dac9a9b3",
   "metadata": {},
   "source": [
    "<br>\n",
    "\n",
    "<span style=\"color: red;\">Example: Modifying Class-Level Data</span>\n",
    "\n",
    "<br>"
   ]
  },
  {
   "cell_type": "code",
   "execution_count": 85,
   "id": "095d974f-c5bc-4856-a988-a0aea06c6f4c",
   "metadata": {},
   "outputs": [
    {
     "name": "stdout",
     "output_type": "stream",
     "text": [
      "300\n"
     ]
    }
   ],
   "source": [
    "class Warehouse:\n",
    "    total_stock = 0  # Class-level attribute\n",
    "\n",
    "    def __init__(self, name, stock):\n",
    "        self.name = name  # Instance-level attribute\n",
    "        self.stock = stock\n",
    "        Warehouse.total_stock += stock\n",
    "\n",
    "    @classmethod\n",
    "    def update_total_stock(cls, stock_change):\n",
    "        cls.total_stock += stock_change\n",
    "\n",
    "# Create instances\n",
    "warehouse1 = Warehouse(\"Warehouse A\", 100)\n",
    "warehouse2 = Warehouse(\"Warehouse B\", 150)\n",
    "\n",
    "# Modify total stock using class method\n",
    "Warehouse.update_total_stock(50)\n",
    "\n",
    "print(Warehouse.total_stock)  # Output: 300 (100 + 150 + 50)\n"
   ]
  },
  {
   "cell_type": "code",
   "execution_count": null,
   "id": "32f90060-cdec-4565-bddc-afced33ac26c",
   "metadata": {},
   "outputs": [],
   "source": []
  }
 ],
 "metadata": {
  "kernelspec": {
   "display_name": "Python 3 (ipykernel)",
   "language": "python",
   "name": "python3"
  },
  "language_info": {
   "codemirror_mode": {
    "name": "ipython",
    "version": 3
   },
   "file_extension": ".py",
   "mimetype": "text/x-python",
   "name": "python",
   "nbconvert_exporter": "python",
   "pygments_lexer": "ipython3",
   "version": "3.11.3"
  }
 },
 "nbformat": 4,
 "nbformat_minor": 5
}
