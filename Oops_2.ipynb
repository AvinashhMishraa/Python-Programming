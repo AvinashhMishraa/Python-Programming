{
 "cells": [
  {
   "cell_type": "code",
   "execution_count": 1,
   "id": "2cf9d0b6-038a-4043-a1dd-b7dfb74c7615",
   "metadata": {},
   "outputs": [],
   "source": [
    "import os\n",
    "\n",
    "# Set the environment variable to disable file validation\n",
    "os.environ[\"PYDEVD_DISABLE_FILE_VALIDATION\"] = \"1\"\n"
   ]
  },
  {
   "cell_type": "markdown",
   "id": "5e6634d7-73d6-4617-be36-f2b73d899449",
   "metadata": {},
   "source": [
    "# Shradha Khapra\n",
    "\n",
    "<span style=\"color: blue;\">**Procedural Programming** &nbsp;&nbsp;====>&nbsp;&nbsp; **Functional Programming**  &nbsp;&nbsp;====>&nbsp;&nbsp;**Object Oriented Programming**</span>\n",
    "\n",
    "<font size=\"+1\">↳</font>&nbsp;**Procedural Programming** &nbsp;&nbsp;(To do things in a <span style=\"color: red;\">sequence</span>)"
   ]
  },
  {
   "cell_type": "code",
   "execution_count": 1,
   "id": "594fcbe4-da98-4f58-95dd-e140bbbeb0a5",
   "metadata": {},
   "outputs": [
    {
     "name": "stdout",
     "output_type": "stream",
     "text": [
      "30\n",
      "-10\n"
     ]
    }
   ],
   "source": [
    "a = 10\n",
    "b = 20\n",
    "\n",
    "sum = a + b\n",
    "print(sum)\n",
    "\n",
    "diff = a - b\n",
    "print(diff)"
   ]
  },
  {
   "cell_type": "markdown",
   "id": "489ff519-6e25-4be4-b9ed-9ad64516c704",
   "metadata": {},
   "source": [
    "<font size=\"+1\">↳</font>&nbsp;**Functional Programming**  &nbsp;&nbsp;(To <u>reduce redundancy</u> & bring <span style=\"color: red;\">reusability</span> of a code)"
   ]
  },
  {
   "cell_type": "code",
   "execution_count": 3,
   "id": "bd210471-40a0-4dfa-bd54-39afa0030daa",
   "metadata": {},
   "outputs": [
    {
     "name": "stdout",
     "output_type": "stream",
     "text": [
      "30\n",
      "-10\n"
     ]
    }
   ],
   "source": [
    "a = 10\n",
    "b = 20\n",
    "\n",
    "def sum(a,b):\n",
    "    return a + b\n",
    "\n",
    "def diff(a,b):\n",
    "    return a - b\n",
    "\n",
    "s = sum(a, b)\n",
    "print(s)\n",
    "\n",
    "d = diff(a,b)\n",
    "print(d)"
   ]
  },
  {
   "cell_type": "markdown",
   "id": "df5385bc-5b99-49f7-8367-07035440fdfb",
   "metadata": {},
   "source": [
    "<font size=\"+1\">↳</font>&nbsp;**Object Oriented Programming**  &nbsp;&nbsp;(To map with <span style=\"color: red;\">real world objects</span>, we started using <strong><span style=\"color: red;\">objects</span></strong> in code)"
   ]
  },
  {
   "cell_type": "code",
   "execution_count": 31,
   "id": "4c3ef7d5-2d64-48ad-b1de-80c49cf2df58",
   "metadata": {},
   "outputs": [
    {
     "name": "stdout",
     "output_type": "stream",
     "text": [
      "30\n",
      "-10\n"
     ]
    }
   ],
   "source": [
    "\n",
    "class Calculator:\n",
    "    def __init__(self, a, b):\n",
    "        self.a = a\n",
    "        self.b = b\n",
    "\n",
    "    def sum(self):\n",
    "        return self.a + self.b\n",
    "\n",
    "    def diff(self):\n",
    "        return self.a - self.b\n",
    "\n",
    "\n",
    "# Create an instance of the Calculator class\n",
    "calc = Calculator(10, 20)\n",
    "\n",
    "# Use the methods of the Calculator class\n",
    "s = calc.sum()\n",
    "print(s)\n",
    "\n",
    "d = calc.diff()\n",
    "print(d)\n"
   ]
  },
  {
   "cell_type": "markdown",
   "id": "a4108538-4987-40e7-817c-86f3bb791a71",
   "metadata": {
    "jp-MarkdownHeadingCollapsed": true
   },
   "source": [
    "<br><br>\n",
    "\n",
    "### <span style=\"color: blue\">Class</span> &nbsp; & &nbsp; <span style=\"color: blue;\">Object</span> &nbsp; in &nbsp; Python"
   ]
  },
  {
   "cell_type": "markdown",
   "id": "599f1b7d-3d89-462e-ac90-791c7addfb10",
   "metadata": {},
   "source": [
    "Class is a <strong>blueprint</strong> for creating objects"
   ]
  },
  {
   "cell_type": "code",
   "execution_count": 21,
   "id": "c8a42829-59bc-40a4-a342-664e81a5e79f",
   "metadata": {},
   "outputs": [],
   "source": [
    "\n",
    "# creating class\n",
    "class Student:\n",
    "    name = \"Avinash Mishra\"\n",
    "\n",
    "\n",
    "# creating object (instance)\n",
    "s1 = Student()\n"
   ]
  },
  {
   "cell_type": "code",
   "execution_count": 22,
   "id": "0f37ac2c-3548-4662-b20d-73624c8d9d2f",
   "metadata": {},
   "outputs": [
    {
     "data": {
      "text/plain": [
       "<__main__.Student at 0x1c3e68bef50>"
      ]
     },
     "execution_count": 22,
     "metadata": {},
     "output_type": "execute_result"
    }
   ],
   "source": [
    "\n",
    "s1\n"
   ]
  },
  {
   "cell_type": "markdown",
   "id": "65406e17-09ed-45ca-a72e-25f2fd30603a",
   "metadata": {},
   "source": [
    "\n",
    "<code style=\"background-color: white; color: blue;\"> As we can see, <span style=\"background-color: yellow; color: black;\"> s1 </span> is an <span style=\"font-size: 1rem;\"><strong>object</strong></span> of the <span style=\"background-color: yellow; color: black;\"> Student </span> class </code>\n"
   ]
  },
  {
   "cell_type": "code",
   "execution_count": 23,
   "id": "c063c560-5f63-48e5-a1d6-957d00d75b08",
   "metadata": {},
   "outputs": [
    {
     "name": "stdout",
     "output_type": "stream",
     "text": [
      "<__main__.Student object at 0x000001C3E68BEF50>\n"
     ]
    }
   ],
   "source": [
    "\n",
    "print(s1)\n"
   ]
  },
  {
   "cell_type": "markdown",
   "id": "bcd2b81a-481e-48be-8f36-b3e5ef68f48b",
   "metadata": {},
   "source": [
    "\n",
    "<code style=\"background-color: white; color: blue;\"> To be specific, <span style=\"background-color: yellow; color: black;\"> s1 </span> is an <span style=\"font-size: 1rem;\"><strong>object</strong></span> of the <span style=\"background-color: yellow; color: black;\"> Student </span> class of the <span style=\"color: red;\"> \\_\\_main__ </span> module </code>\n"
   ]
  },
  {
   "cell_type": "code",
   "execution_count": 24,
   "id": "e9b393b0-d052-4f1c-b4d6-ae913629d0f8",
   "metadata": {},
   "outputs": [
    {
     "name": "stdout",
     "output_type": "stream",
     "text": [
      "Avinash Mishra\n"
     ]
    }
   ],
   "source": [
    "\n",
    "print(s1.name)\n"
   ]
  },
  {
   "cell_type": "markdown",
   "id": "4c7be272-beed-4daa-9409-26356e3f1109",
   "metadata": {},
   "source": [
    "<br>\n",
    "\n",
    "<code>The main motive of introducing OOP concept is to be able to not only create <u>multiple objects</u> (instances) of the <u>same class</u> but also <u>distinguisng</u> between them</code>"
   ]
  },
  {
   "cell_type": "code",
   "execution_count": 6,
   "id": "bc2a76b4-c166-43a2-9451-42ee88f032cf",
   "metadata": {},
   "outputs": [],
   "source": [
    "\n",
    "# creating class\n",
    "class Student:\n",
    "\n",
    "    # CONSTRUCTOR\n",
    "    def __init__(self, full_name):        \n",
    "        self.name = full_name\n",
    "\n",
    "\n",
    "# creating an object of Student class\n",
    "s1 = Student(\"Avinash Mishra\")\n",
    "\n",
    "\n",
    "# creating another object of Student class\n",
    "s2 = Student(\"Radha Kumari\")\n"
   ]
  },
  {
   "cell_type": "code",
   "execution_count": 7,
   "id": "be856335-7adb-40ee-b960-94c0e254f782",
   "metadata": {},
   "outputs": [
    {
     "name": "stdout",
     "output_type": "stream",
     "text": [
      "<__main__.Student object at 0x0000025878C26210>\n",
      "Avinash Mishra\n",
      "\n",
      "\n",
      "<__main__.Student object at 0x0000025878CD0BD0>\n",
      "Radha Kumari\n"
     ]
    }
   ],
   "source": [
    "\n",
    "print(s1)\n",
    "print(s1.name)\n",
    "\n",
    "print('\\n')\n",
    "\n",
    "print(s2)\n",
    "print(s2.name)\n"
   ]
  },
  {
   "cell_type": "markdown",
   "id": "1441c05c-1f67-4ef5-bd7f-f9166d0a8464",
   "metadata": {
    "jp-MarkdownHeadingCollapsed": true
   },
   "source": [
    "<br><br>\n",
    "\n",
    "### <span style=\"color: blue\">\\_\\_init__( )</span> &nbsp;Function  <code style=\"color: red; background-color: white;\"><font size=\"3px;\">(Constructor)</font></code>\n"
   ]
  },
  {
   "cell_type": "markdown",
   "id": "b7d4e90e-0101-4ca0-a60d-ce0414c45d59",
   "metadata": {},
   "source": [
    "<br>\n",
    "\n",
    "All classes have a function called **<span style=\"color: red\">\\_\\_init__( )</span>**, which is **always automatically executed** when the object of a class is being <u>initiated</u>, or in simple words **created** (<u>constructed</u>).\n",
    "\n",
    "<br>\n",
    "\n",
    "It always takes atleast one parameter i.e, &nbsp;<span style=\"background-color: yellow;\"> self </span>&nbsp;&nbsp;&nbsp;&nbsp; ====>&nbsp;&nbsp;&nbsp;&nbsp;  **<code style=\"color: red\">\\_\\_init__(<span style=\"color: black;\">self</span> ,  ,  ,<span style=\"color: black;\"> . . .</span> )</code>**.\n",
    "\n",
    "<br>\n",
    "\n",
    "The &nbsp;<span style=\"background-color: yellow;\"> self </span>&nbsp; parameter inside the **<span style=\"color: red\">\\_\\_init__( )</span>** function is a <u><span style=\"color: blue;\">reference</span> to the current instance of the class</u>, and is used to access variables that belongs to the class. <br>\n",
    "Basically, it is used <strong>to establish the <u>context</u> as to which particular object of that class you are connecting with</strong>.\n",
    "\n",
    "<br>\n",
    "\n",
    "However, the name &nbsp;<span style=\"background-color: yellow;\"> self </span>&nbsp; can be replaced with any other name and it <u>won't affect the code</u>. But we should follow convention and use the name &nbsp;<span style=\"background-color: yellow;\"> self </span>&nbsp; only.\n"
   ]
  },
  {
   "cell_type": "code",
   "execution_count": 58,
   "id": "20dc4d64-888e-4f36-ad41-9f0b66aac16a",
   "metadata": {},
   "outputs": [],
   "source": [
    "\n",
    "# creating class\n",
    "class Student:\n",
    "\n",
    "    # replacing \"self\" with any random word \"abcd\" won't affect anything\n",
    "    def __init__(abcd, full_name):    # CONSTRUCTOR\n",
    "        abcd.name = full_name\n",
    "\n",
    "\n",
    "# creating an object of Student class\n",
    "s1 = Student(\"Avinash Mishra\")\n",
    "\n",
    "\n",
    "# creating another object of Student class\n",
    "s2 = Student(\"Radha Kumari\")\n"
   ]
  },
  {
   "cell_type": "code",
   "execution_count": 59,
   "id": "cd70b616-fb6c-4a87-a82f-8144fb43d22b",
   "metadata": {},
   "outputs": [
    {
     "name": "stdout",
     "output_type": "stream",
     "text": [
      "<__main__.Student object at 0x00000258792F0390>\n",
      "Avinash Mishra\n",
      "\n",
      "\n",
      "<__main__.Student object at 0x00000258792F2410>\n",
      "Radha Kumari\n"
     ]
    }
   ],
   "source": [
    "\n",
    "print(s1)\n",
    "print(s1.name)\n",
    "\n",
    "print('\\n')\n",
    "\n",
    "print(s2)\n",
    "print(s2.name)\n"
   ]
  },
  {
   "cell_type": "markdown",
   "id": "49fe2d10-395f-4e34-bdd0-b965513de9ad",
   "metadata": {},
   "source": [
    "<br>\n",
    "\n",
    "We could have used &nbsp;<code>built-in datatypes</code>&nbsp; like &nbsp;<code>list</code>&nbsp; and &nbsp;<code>dictionary</code>&nbsp; also to store the details of these students, but in real-life scenarios we may face situations when we have to store them in an &nbsp;<code style=\"background-color: yellow; color: black;\"><u>object</u> (custom datatype)</code>&nbsp; to make the code look more meaningful.\n",
    "\n",
    "<strong><u>Note</u></strong> - Here, &nbsp;<code>full_name</code> is an <span style=\"color: red;\">attribute</span> of the <span style=\"color: blue;\">Student</span> class. So every object of the Student class is initiated with the attribute <code>full-name</code> at the time of it's creation.\n",
    "\n",
    "&nbsp;&nbsp;&nbsp;&nbsp;&nbsp;&nbsp;&nbsp;&nbsp;&nbsp;&nbsp;&nbsp;&nbsp;And we can have many diiferent attributes of an object which can be initialized at the time of it's creation."
   ]
  },
  {
   "cell_type": "code",
   "execution_count": 60,
   "id": "e66b2087-5beb-435b-9503-0b66769111ee",
   "metadata": {},
   "outputs": [],
   "source": [
    "\n",
    "# creating class\n",
    "class Student:\n",
    "\n",
    "    # replacing \"self\" with any random word \"abcd\" won't affect anything, but let's follow the convention of using \"self\"\n",
    "    def __init__(self, full_name, marks):    # CONSTRUCTOR\n",
    "        self.name = full_name\n",
    "        self.marks = marks\n",
    "\n",
    "\n",
    "# creating an object of Student class\n",
    "s1 = Student(\"Avinash Mishra\", 88)\n",
    "\n",
    "\n",
    "# creating another object of Student class\n",
    "s2 = Student(\"Radha Kumari\", 78.5)\n"
   ]
  },
  {
   "cell_type": "code",
   "execution_count": 61,
   "id": "398b34f5-5a1a-4692-9ec3-d3b4c95632f9",
   "metadata": {},
   "outputs": [
    {
     "name": "stdout",
     "output_type": "stream",
     "text": [
      "<__main__.Student object at 0x000002587924FC50>\n",
      "Avinash Mishra 88\n",
      "\n",
      "\n",
      "<__main__.Student object at 0x00000258792F0390>\n",
      "Radha Kumari 78.5\n"
     ]
    }
   ],
   "source": [
    "\n",
    "print(s1)\n",
    "print(s1.name, s1.marks)\n",
    "\n",
    "print('\\n')\n",
    "\n",
    "print(s2)\n",
    "print(s2.name, s2.marks)\n"
   ]
  },
  {
   "cell_type": "markdown",
   "id": "8d73caa5-7a51-4187-8ee3-9a5f1805d48b",
   "metadata": {},
   "source": [
    "<br>\n",
    "\n",
    "<div style=\"background-color: #ffe0b0; padding: 10px;\">\n",
    "Constructors are of two types :  <br>\n",
    "&nbsp;&nbsp;&nbsp;&nbsp;&nbsp;1. &nbsp;&nbsp;<strong>Default&nbsp; Constructors</strong>   &nbsp;&nbsp;&nbsp;&nbsp;==========>&nbsp;&nbsp;&nbsp;&nbsp;  only one parameter i.e., &nbsp;<code style=\"background-color: #a5fff3;\">self</code>&nbsp;<br>\n",
    "&nbsp;&nbsp;&nbsp;&nbsp;&nbsp;2. &nbsp;&nbsp;<strong>Parameterized&nbsp; Constructors</strong>   &nbsp;&nbsp;&nbsp;&nbsp;=====> &nbsp;&nbsp;&nbsp;&nbsp; atleast one paramter other than &nbsp;<code style=\"background-color: #a5fff3;\">self</code>&nbsp;\n",
    "\n",
    "<br><br>\n",
    "\n",
    "➤ &nbsp;For any constructor, &nbsp;<code style=\"background-color: #a5fff3;\">self</code>&nbsp; will be always be the <u>1st parameter</u>\n",
    "\n",
    "➤ &nbsp;<span style=\"color: red;\"><strong>Constructor</strong></span>&nbsp; is a special type of &nbsp;<span style=\"background-color: yellow;\">Public &nbsp;Instance &nbsp;Method</span>\n",
    "</div>"
   ]
  },
  {
   "cell_type": "code",
   "execution_count": 70,
   "id": "bf17d1ad-27b3-4e4c-94f5-5301fe32e671",
   "metadata": {},
   "outputs": [
    {
     "name": "stdout",
     "output_type": "stream",
     "text": [
      "Avinash Mishra 88\n",
      "Radha Kumari 78.5\n"
     ]
    }
   ],
   "source": [
    "\n",
    "class Student:\n",
    "\n",
    "    # Default Constructor\n",
    "    def __init__():\n",
    "        pass\n",
    "\n",
    "    # Parameterized Constructor\n",
    "    def __init__(self, full_name, marks):\n",
    "        self.name = full_name\n",
    "        self.marks = marks\n",
    "\n",
    "\n",
    "s1 = Student(\"Avinash Mishra\", 88)\n",
    "s2 = Student(\"Radha Kumari\", 78.5)\n",
    "\n",
    "print(s1.name, s1.marks)\n",
    "print(s2.name, s2.marks)\n"
   ]
  },
  {
   "cell_type": "markdown",
   "id": "2a5ffbec-be2f-4378-ba2e-26d75d082a00",
   "metadata": {
    "jp-MarkdownHeadingCollapsed": true
   },
   "source": [
    "<br><br>\n",
    "\n",
    "### <span style=\"color: blue\">Class &nbsp;<span style=\"color: black\">&</span> &nbsp;Instance &nbsp;<span style=\"color: black\">attributes</span></span>\n"
   ]
  },
  {
   "cell_type": "markdown",
   "id": "d504cf8f-8f91-4018-9171-9bfe213b2762",
   "metadata": {},
   "source": [
    "\n",
    "<pre>\n",
    "<font size=\"+1\">↳</font>&nbsp;Class.attr\n",
    "    \n",
    "<font size=\"+1\">↳</font>&nbsp;Obj.attr\n",
    "</pre>\n",
    "\n",
    "<div style=\"margin-left: 40px;\">\n",
    "\n",
    "![](media/Shraddha_Kapra_oops_1.PNG)\n",
    "\n",
    "</div>\n",
    "\n",
    "<div style=\"background-color: #ffe0b0; padding: 10px;\">\n",
    "Since an object occupies some space in memory, why should we not try to minimize it's size? Why should we store the same data at different places in the memory?<br> <br>\n",
    "    \n",
    "Therefore in the above example, let's suppose if &nbsp;<code style=\"background-color: #a5fff3;\">college_name</code>&nbsp; is <u>same for all the students</u> , then instead of making the &nbsp;<code style=\"background-color: #a5fff3;\">college_name</code>&nbsp; an **object attribute**, it's better to make it a **class attribute** thus making it common and readily available for all the instances of the **Student** class. \n",
    "</div>\n",
    "\n"
   ]
  },
  {
   "cell_type": "code",
   "execution_count": 55,
   "id": "2e8d3001-10ee-4270-8bb6-be3fcca2558d",
   "metadata": {},
   "outputs": [
    {
     "name": "stdout",
     "output_type": "stream",
     "text": [
      "Avinash Mishra\n",
      "88\n",
      "abc\n",
      "\n",
      "\n",
      "Radha Kumari\n",
      "78.5\n",
      "abc\n"
     ]
    }
   ],
   "source": [
    "\n",
    "class Student:\n",
    "\n",
    "    college_name = \"abc\"                          # class attribute\n",
    "\n",
    "    # CONSTRUCTOR\n",
    "    def __init__(self, name, marks):              \n",
    "        self.name = name                          # object atrribute\n",
    "        self.marks = marks                        # object attribute\n",
    "\n",
    "\n",
    "\n",
    "s1 = Student(\"Avinash Mishra\", 88)\n",
    "s2 = Student(\"Radha Kumari\", 78.5)\n",
    "\n",
    "\n",
    "print(s1.name)               # accessing object attribute\n",
    "print(s1.marks)              # accessing object attribute\n",
    "print(s1.college_name)       # accessing class attribute\n",
    "\n",
    "print(\"\\n\")\n",
    "\n",
    "print(s2.name)               # accessing object attribute\n",
    "print(s2.marks)              # accessing object attribute\n",
    "print(s2.college_name)       # accessing class attribute\n"
   ]
  },
  {
   "cell_type": "markdown",
   "id": "0ae1e3b7-7f45-4d2d-8620-0c6e473a42a2",
   "metadata": {},
   "source": [
    "<br>\n",
    "\n",
    "**Note :** &nbsp;&nbsp;<code style=\"background-color: yellow;\">obj attr  >  class attr</code> &nbsp;in terms of <u>precedence</u> . <br>\n",
    "&nbsp;&nbsp;&nbsp;&nbsp;&nbsp;&nbsp;&nbsp;&nbsp;&nbsp;&nbsp;&nbsp;&nbsp;&nbsp;&nbsp;In other words, if a &nbsp;<code style=\"color: red;\">class attribute</code>&nbsp; has the same name as an &nbsp;<code style=\"color: red;\">object attribute</code>&nbsp;, remember <u>the &nbsp;<code style=\"color: red;\">object attribute</code>&nbsp; will always take the precedence</u> .  <br>\n",
    "&nbsp;&nbsp;&nbsp;&nbsp;&nbsp;&nbsp;&nbsp;&nbsp;&nbsp;&nbsp;&nbsp;&nbsp;&nbsp;&nbsp;However, we try to avoid such a situation ."
   ]
  },
  {
   "cell_type": "code",
   "execution_count": 62,
   "id": "b1bd21c0-802e-4865-994f-a7ad67b9ab72",
   "metadata": {},
   "outputs": [
    {
     "name": "stdout",
     "output_type": "stream",
     "text": [
      "Avinash Mishra\n"
     ]
    }
   ],
   "source": [
    "\n",
    "class Student:\n",
    "\n",
    "    college_name = \"abc\"                          # class attribute\n",
    "    name = \"anonymous\"                            # class attribute\n",
    "\n",
    "    # CONSTRUCTOR\n",
    "    def __init__(self, name, marks):\n",
    "        self.name = name                          # object atrribute\n",
    "        self.marks = marks                        # object attribute\n",
    "\n",
    "\n",
    "\n",
    "s1 = Student(\"Avinash Mishra\", 88)\n",
    "\n",
    "\n",
    "print(s1.name)     # Note:   Output    ======>    \"Avinash Mishra\"     not     \"anonymous\"\n"
   ]
  },
  {
   "cell_type": "markdown",
   "id": "ece96469-1125-4af4-99ee-e419fb6c3945",
   "metadata": {},
   "source": [
    "<br>\n",
    "\n",
    "<strong>Note :</strong> &nbsp;&nbsp;<code style=\"background-color: white;\">Class is a collection of <code style=\"color: red;\">attributes</code> (<u>data</u>) & <code style=\"color: blue;\">methods</code> (<u>functions</u>).</code>\n",
    "\n",
    "<div style=\"margin-left: 120px;\">\n",
    "\n",
    "![](media/Shraddha_Kapra_oops_2.PNG)\n",
    "\n",
    "</div>\n",
    "\n",
    "<br>\n",
    "\n",
    "<div style=\"display: flex; gap: 200px;\">\n",
    "    <div><strong>Note&nbsp;:&nbsp;&nbsp;&nbsp;&nbsp;&nbsp;</strong></div>\n",
    "    <div><code style=\"background-color: #fffcbc;\">An <u>object attribute</u> (or more popularly called as <u>instance attribute</u>) is <span style=\"font-size: 1.02rem;\"><strong>not necessarily always</strong></span> created at the time of the object creation or precisely, by the call of the <span style=\"color: red; font-size: 1.02rem;\"><strong>__init__</strong></span> method only.</code></div>\n",
    "</div>\n",
    "\n",
    "<br>\n",
    "\n",
    "<div style=\"margin-left: 60px;\"><code style=\"background-color: #fffcbc;\">It may be created after the object creation too, or in simple words, an object may get a new object attribute which was not assigned to it at the time of it's creation.</code></div>\n",
    "\n",
    "<br>\n",
    "<br>\n",
    "\n",
    "<div style=\"margin-left: 40px;\">\n",
    "\n",
    "![](media/Shraddha_Kapra_oops_25.PNG)\n",
    "\n",
    "</div>"
   ]
  },
  {
   "cell_type": "code",
   "execution_count": 5,
   "id": "5b6d1ffc-16cd-4926-98ce-80592655ad68",
   "metadata": {},
   "outputs": [
    {
     "name": "stdout",
     "output_type": "stream",
     "text": [
      "{}\n",
      "[]\n",
      "{'name': 'Avinash'}\n",
      "['name']\n",
      "Avinash\n"
     ]
    }
   ],
   "source": [
    "\n",
    "class Person:    \n",
    "    # instance  method\n",
    "    def change_name(self, name):     \n",
    "        self.name = name             # instance  attribute\n",
    "\n",
    "p = Person()                         # creates an object p of type Person\n",
    "\n",
    "print(p.__dict__)                    # OUTPUT: {}\n",
    "print(list(p.__dict__.keys()))       # OUTPUT: []\n",
    "\n",
    "p.change_name(\"Avinash\")             # creates an instance attribute for the object p of type Person and assigns \"Avinash\" to it\n",
    "\n",
    "print(p.__dict__)                    # OUTPUT: {'name': 'Avinash'}\n",
    "print(list(p.__dict__.keys()))       # OUTPUT: ['name']\n",
    "\n",
    "print(p.name)                        # OUTPUT: Avinash\n"
   ]
  },
  {
   "cell_type": "code",
   "execution_count": null,
   "id": "8a6b5448-b615-4f88-80dc-22bc5ac62af4",
   "metadata": {},
   "outputs": [],
   "source": []
  },
  {
   "cell_type": "markdown",
   "id": "2960678b-7752-4425-bc22-c544fda9de0b",
   "metadata": {},
   "source": [
    "<br>\n",
    "\n",
    "---"
   ]
  },
  {
   "cell_type": "code",
   "execution_count": 23,
   "id": "c95340ca-94da-463b-b21c-aec21ad21044",
   "metadata": {},
   "outputs": [],
   "source": [
    "\n",
    "class Person:\n",
    "    name = \"Avinash\"                                 #  class attribute\n",
    "    email = \"avinash@email.com\"                      #  class attribute\n",
    "\n",
    "    def __init__(self, age, gender):\n",
    "        self.age = age                               #  instance attribute\n",
    "        self.gender = gender                         #  instance attribute\n",
    "\n",
    "    @property\n",
    "    def proffession(self, proffession):              #  obj.profession()    ===>    obj.proffession\n",
    "        self.proffession = proffession\n"
   ]
  },
  {
   "cell_type": "markdown",
   "id": "7203c9be-5560-4e6f-9d9e-6cc9a67b4595",
   "metadata": {},
   "source": [
    "<br>\n",
    "\n",
    "<span style=\"color: red;\">Class Attributes</span>&nbsp;&nbsp;<code style=\"background-color: white; color: #02dc09;\">(it also contains the names of the <span style=\"color: red;\"><u><span style=\"font-size: 1rem; color: #02dc09;\"><strong>properties</strong></span></u></span>)</code>"
   ]
  },
  {
   "cell_type": "code",
   "execution_count": 26,
   "id": "49f34cf8-86b0-4abe-9437-88f0b567681b",
   "metadata": {},
   "outputs": [
    {
     "name": "stdout",
     "output_type": "stream",
     "text": [
      "['__module__', 'name', 'email', '__init__', 'proffession', '__dict__', '__weakref__', '__doc__']\n"
     ]
    }
   ],
   "source": [
    "\n",
    "print(list(Person.__dict__.keys()))\n"
   ]
  },
  {
   "cell_type": "markdown",
   "id": "7ddf3d65-a14a-49b8-ae12-f05a5ec14ccc",
   "metadata": {},
   "source": [
    "<br>"
   ]
  },
  {
   "cell_type": "code",
   "execution_count": 27,
   "id": "19a76514-3b64-42cd-b076-a5a8bd092731",
   "metadata": {},
   "outputs": [
    {
     "name": "stdout",
     "output_type": "stream",
     "text": [
      "[('__module__', '__main__'), ('name', 'Avinash'), ('email', 'avinash@email.com'), ('__init__', <function Person.__init__ at 0x000001DA16833B00>), ('proffession', <property object at 0x000001DA167AB380>), ('__dict__', <attribute '__dict__' of 'Person' objects>), ('__weakref__', <attribute '__weakref__' of 'Person' objects>), ('__doc__', None)]\n"
     ]
    }
   ],
   "source": [
    "\n",
    "print(list(Person.__dict__.items()))\n"
   ]
  },
  {
   "cell_type": "markdown",
   "id": "92a88e71-4372-46bf-83ab-7ccf6390010a",
   "metadata": {},
   "source": [
    "<br>"
   ]
  },
  {
   "cell_type": "code",
   "execution_count": 28,
   "id": "9795311d-5140-436c-927d-3f38dff516c0",
   "metadata": {},
   "outputs": [
    {
     "name": "stdout",
     "output_type": "stream",
     "text": [
      "['name', 'email', 'proffession']\n"
     ]
    }
   ],
   "source": [
    "\n",
    "class_attribute_names = [key for key, value in Person.__dict__.items() if not callable(value) and not key.startswith('__')]\n",
    "\n",
    "print(class_attribute_names)\n"
   ]
  },
  {
   "cell_type": "markdown",
   "id": "e208b6af-62d2-461f-af89-cb1d0fd6a2b3",
   "metadata": {},
   "source": [
    "<br>"
   ]
  },
  {
   "cell_type": "code",
   "execution_count": 44,
   "id": "3277c6a7-deac-414a-a188-3ead8d94f91d",
   "metadata": {},
   "outputs": [
    {
     "name": "stdout",
     "output_type": "stream",
     "text": [
      "{'name': 'Avinash', 'email': 'avinash@email.com', 'proffession': <property object at 0x000001DA167AA1B0>}\n"
     ]
    }
   ],
   "source": [
    "\n",
    "class_attributes = {key: value for key, value in Person.__dict__.items() if not callable(value) and not key.startswith('__')}\n",
    "\n",
    "print(class_attributes)\n"
   ]
  },
  {
   "cell_type": "markdown",
   "id": "691915fc-240f-4341-aa6d-aac7460a427b",
   "metadata": {},
   "source": [
    "<br>\n",
    "\n",
    "<span style=\"color: red;\">Instance Attributes</span>"
   ]
  },
  {
   "cell_type": "code",
   "execution_count": 47,
   "id": "dc4c0728-3e67-497a-8e36-2e6fa86d1a7b",
   "metadata": {},
   "outputs": [
    {
     "name": "stdout",
     "output_type": "stream",
     "text": [
      "['inst_attr1', 'inst_attr2']\n"
     ]
    }
   ],
   "source": [
    "\n",
    "print(list(p.__dict__.keys()))\n"
   ]
  },
  {
   "cell_type": "markdown",
   "id": "e7462c4f-3635-4d6d-ac28-e966a86fa4df",
   "metadata": {},
   "source": [
    "<br>"
   ]
  },
  {
   "cell_type": "code",
   "execution_count": 49,
   "id": "1a78ccb9-9670-4e40-bedf-2d8724eaa39f",
   "metadata": {},
   "outputs": [
    {
     "name": "stdout",
     "output_type": "stream",
     "text": [
      "[('inst_attr1', 'value of inst_attr1 '), ('inst_attr2', 'value of inst_attr2')]\n"
     ]
    }
   ],
   "source": [
    "\n",
    "print(list(p.__dict__.items()))\n"
   ]
  },
  {
   "cell_type": "markdown",
   "id": "c6bac138-c2fd-4d9f-89b1-04ab621e1043",
   "metadata": {},
   "source": [
    "<br>\n",
    "\n",
    "<span style=\"color: red;\">Properties</span>"
   ]
  },
  {
   "cell_type": "code",
   "execution_count": 51,
   "id": "26e5c15f-efe2-4e75-a8c7-bffc35f09a91",
   "metadata": {},
   "outputs": [
    {
     "data": {
      "text/plain": [
       "['proffession']"
      ]
     },
     "execution_count": 51,
     "metadata": {},
     "output_type": "execute_result"
    }
   ],
   "source": [
    "\n",
    "[name for name, attr in vars(Person).items() if isinstance(attr, property)]\n"
   ]
  },
  {
   "cell_type": "code",
   "execution_count": null,
   "id": "b196527d-3574-4096-9ac2-bd994b312d74",
   "metadata": {},
   "outputs": [],
   "source": []
  },
  {
   "cell_type": "code",
   "execution_count": null,
   "id": "fa708e83-98f0-45dd-8798-b9a64d6b2ea7",
   "metadata": {},
   "outputs": [],
   "source": []
  },
  {
   "cell_type": "code",
   "execution_count": null,
   "id": "2697d3f3-42d4-452c-b356-01322d02c659",
   "metadata": {},
   "outputs": [],
   "source": []
  },
  {
   "cell_type": "code",
   "execution_count": null,
   "id": "ec899f0c-b117-461e-a13a-9eb9b27d2996",
   "metadata": {},
   "outputs": [],
   "source": []
  },
  {
   "cell_type": "code",
   "execution_count": null,
   "id": "0dd24182-285c-43bc-b9ed-296f0108fbb5",
   "metadata": {},
   "outputs": [],
   "source": []
  },
  {
   "cell_type": "code",
   "execution_count": null,
   "id": "8c20f160-3c9e-48a0-b620-9a0fb21e287f",
   "metadata": {},
   "outputs": [],
   "source": []
  },
  {
   "cell_type": "code",
   "execution_count": null,
   "id": "9300ece2-ddcd-470f-a581-554b6e6691d8",
   "metadata": {},
   "outputs": [],
   "source": []
  },
  {
   "cell_type": "code",
   "execution_count": null,
   "id": "59cf69da-7292-4a17-96f4-e348493324ad",
   "metadata": {},
   "outputs": [],
   "source": []
  },
  {
   "cell_type": "code",
   "execution_count": null,
   "id": "f082a4c1-066a-4ee3-a14d-317296e06770",
   "metadata": {},
   "outputs": [],
   "source": []
  },
  {
   "cell_type": "code",
   "execution_count": null,
   "id": "8754d22f-cb2f-4f2a-8759-98055c55774f",
   "metadata": {},
   "outputs": [],
   "source": []
  },
  {
   "cell_type": "code",
   "execution_count": null,
   "id": "e6a71ea3-1f21-4ffd-9bc9-53dd3677f14c",
   "metadata": {},
   "outputs": [],
   "source": []
  },
  {
   "cell_type": "code",
   "execution_count": null,
   "id": "b7b26a93-e699-4f43-84dd-9ca756732bad",
   "metadata": {},
   "outputs": [],
   "source": []
  },
  {
   "cell_type": "code",
   "execution_count": null,
   "id": "85d58353-ce90-43e9-91d3-6d9b562e7d95",
   "metadata": {},
   "outputs": [],
   "source": []
  },
  {
   "cell_type": "code",
   "execution_count": null,
   "id": "abc5ad92-85f1-48d0-91f0-b116832ba7da",
   "metadata": {},
   "outputs": [],
   "source": []
  },
  {
   "cell_type": "code",
   "execution_count": null,
   "id": "8c41ec3a-4415-48e1-bb25-d4b4dae49f49",
   "metadata": {},
   "outputs": [],
   "source": []
  },
  {
   "cell_type": "code",
   "execution_count": null,
   "id": "8a0effe7-ea2c-49a1-8427-b7df377d80ae",
   "metadata": {},
   "outputs": [],
   "source": []
  },
  {
   "cell_type": "code",
   "execution_count": null,
   "id": "189fefaa-2f54-4172-bf94-0f6980a48ba5",
   "metadata": {},
   "outputs": [],
   "source": []
  },
  {
   "cell_type": "code",
   "execution_count": null,
   "id": "5cf48334-ac8a-47e9-a901-0c27a3470aa0",
   "metadata": {},
   "outputs": [],
   "source": []
  },
  {
   "cell_type": "code",
   "execution_count": null,
   "id": "ec3a9bec-c5d6-4f52-8146-c84aef9be850",
   "metadata": {},
   "outputs": [],
   "source": []
  },
  {
   "cell_type": "code",
   "execution_count": null,
   "id": "4ebfb58d-2a4f-44a1-8358-d6533dec295b",
   "metadata": {},
   "outputs": [],
   "source": []
  },
  {
   "cell_type": "markdown",
   "id": "e01d0c11-1eb2-4c5d-afe6-aa4c994a6a29",
   "metadata": {
    "jp-MarkdownHeadingCollapsed": true
   },
   "source": [
    "<br><br>\n",
    "\n",
    "### <span style=\"color: blue\">Methods</span>\n"
   ]
  },
  {
   "cell_type": "code",
   "execution_count": 64,
   "id": "d439fe78-22c2-4f0b-aec9-1c3c56d6f5ef",
   "metadata": {},
   "outputs": [
    {
     "name": "stdout",
     "output_type": "stream",
     "text": [
      "Hello! Avinash Mishra\n"
     ]
    }
   ],
   "source": [
    "\n",
    "class Student:\n",
    "\n",
    "    college_name = \"abc\"                          # class attribute\n",
    "\n",
    "    # CONSTRUCTOR \n",
    "    def __init__(self, name, marks):\n",
    "        self.name = name                          # object atrribute\n",
    "        self.marks = marks                        # object attribute\n",
    "\n",
    "    # INSTANCE METHOD\n",
    "    def greet(self):\n",
    "        print(\"Hello!\", self.name)\n",
    "\n",
    "\n",
    "\n",
    "s1 = Student(\"Avinash Mishra\", 88)\n",
    "\n",
    "s1.greet()       # method calling\n"
   ]
  },
  {
   "cell_type": "markdown",
   "id": "bd67539b-5025-45d8-9d90-57ef19b07f0e",
   "metadata": {},
   "source": [
    "<br>\n",
    "\n",
    "<div style=\"background-color: #ffe0b0; padding: 10px;\">\n",
    "\n",
    "**Note &nbsp;-** &nbsp;All functions which are inside a class are called <span style=\"color: blue;\">methods</span> of that class.\n",
    "\n",
    "&nbsp;&nbsp;&nbsp;&nbsp;&nbsp;&nbsp;&nbsp;&nbsp;&nbsp;&nbsp;&nbsp;&nbsp;&nbsp;&nbsp;You must have heard about **string methods**, &nbsp;**list methods**, &nbsp;**dictionary methods**, etc. Now you must have understood why they were called <span style=\"color: blue;\">methods</span>? <br>\n",
    "&nbsp;&nbsp;&nbsp;&nbsp;&nbsp;&nbsp;&nbsp;&nbsp;&nbsp;&nbsp;&nbsp;&nbsp;&nbsp;&nbsp;Because <u>all the string methods are written inside the String class</u>. This is true for lists, sets, dictionaries, etc.\n",
    "\n",
    "</div>\n",
    "\n",
    "<br>\n",
    "\n",
    "Remember how we used to call a string method. You will realize while calling a string method, we were actually first creating an object of the String class and only then we were able to call a string method. Let's verify :"
   ]
  },
  {
   "cell_type": "code",
   "execution_count": 65,
   "id": "7847b5d3-6feb-47a0-9aa8-aac033c80ce2",
   "metadata": {},
   "outputs": [
    {
     "name": "stdout",
     "output_type": "stream",
     "text": [
      "<class 'str'>\n",
      "<method-wrapper '__str__' of str object at 0x0000025879231FF0>\n",
      "<method-wrapper '__repr__' of str object at 0x0000025879231FF0>\n",
      "<method-wrapper '__init__' of str object at 0x0000025879231FF0>\n"
     ]
    }
   ],
   "source": [
    "\n",
    "s = \"avinash\"             # s  is  an  object of the 'str' class\n",
    "\n",
    "# LETS VERIFY\n",
    "print(type(s))            # Output:   <class 'str'>\n",
    "print(s.__str__)          # Output:   <method-wrapper '__repr__' of str object at 0x000001C3E68E3DB0>\n",
    "print(s.__repr__)         # Output:   <method-wrapper '__repr__' of str object at 0x000001C3E68E3DB0>\n",
    "print(s.__init__)         # Output:   <method-wrapper '__repr__' of str object at 0x000001C3E68E3DB0>\n"
   ]
  },
  {
   "cell_type": "markdown",
   "id": "75a7d4ae-1105-44ef-a278-3ea91ce24130",
   "metadata": {},
   "source": [
    "<br>\n",
    "\n",
    "<div  style=\"margin-left: 50px;\">\n",
    "    \n",
    "<code>The <strong><code style=\"color: red;\">__repr__</code></strong> method is a built-in method that returns the \"official\" string representation of an object.</code>   <br>\n",
    "    \n",
    "<code>However, calling <code style=\"background-color: yellow;\"><strong>s</strong>.<strong><span style=\"color: red; background-color: yellow;\">__repr__</span></strong></code> <u>without parentheses will give you the method itself</u>, not its result.</code>  <br>\n",
    "\n",
    "<code>Similarly, calling <code style=\"background-color: yellow;\"><strong>s</strong>.<strong><span style=\"color: red; background-color: yellow;\">__str__</span></strong></code>  or <code style=\"background-color: yellow;\"><strong>s</strong>.<strong><span style=\"color: red; background-color: yellow;\">__init__</span></strong></code> without parantheses will give you the method itself, not its result.   </code>\n",
    "</div>\n",
    "\n",
    "<br>\n",
    "\n",
    "Now by using this object &nbsp;<code style=\"background-color: #a5fff3;\"> s </code>, we can call different different methods of the <span style=\"color: red;\">'str'</span> class"
   ]
  },
  {
   "cell_type": "code",
   "execution_count": 17,
   "id": "f40ce6c6-9fd0-489f-a7e8-e2f682e011f7",
   "metadata": {},
   "outputs": [
    {
     "data": {
      "text/plain": [
       "'Avinash'"
      ]
     },
     "execution_count": 17,
     "metadata": {},
     "output_type": "execute_result"
    }
   ],
   "source": [
    "\n",
    "s.capitalize()\n"
   ]
  },
  {
   "cell_type": "code",
   "execution_count": 18,
   "id": "9398fd32-c0bd-441b-a689-a68e3dcc6f28",
   "metadata": {},
   "outputs": [
    {
     "data": {
      "text/plain": [
       "'AVINASH'"
      ]
     },
     "execution_count": 18,
     "metadata": {},
     "output_type": "execute_result"
    }
   ],
   "source": [
    "\n",
    "s.upper()\n"
   ]
  },
  {
   "cell_type": "code",
   "execution_count": 19,
   "id": "0b62acb9-4b2f-4c34-8e44-57319a49c0ef",
   "metadata": {},
   "outputs": [
    {
     "data": {
      "text/plain": [
       "'avinash'"
      ]
     },
     "execution_count": 19,
     "metadata": {},
     "output_type": "execute_result"
    }
   ],
   "source": [
    "\n",
    "s.__str__()\n"
   ]
  },
  {
   "cell_type": "code",
   "execution_count": 20,
   "id": "2ffcffa9-1e1b-4502-9478-b8b9c8f1eb8c",
   "metadata": {},
   "outputs": [
    {
     "data": {
      "text/plain": [
       "\"'avinash'\""
      ]
     },
     "execution_count": 20,
     "metadata": {},
     "output_type": "execute_result"
    }
   ],
   "source": [
    "\n",
    "s.__repr__()\n"
   ]
  },
  {
   "cell_type": "code",
   "execution_count": 21,
   "id": "ec18f829-b0db-4a8c-be1b-853d8854e81a",
   "metadata": {},
   "outputs": [],
   "source": [
    "\n",
    "s.__init__()\n"
   ]
  },
  {
   "cell_type": "code",
   "execution_count": 39,
   "id": "775d3228-f637-44a6-83f0-e6432508a158",
   "metadata": {},
   "outputs": [
    {
     "name": "stdout",
     "output_type": "stream",
     "text": [
      "Help on class str in module builtins:\n",
      "\n",
      "class str(object)\n",
      " |  str(object='') -> str\n",
      " |  str(bytes_or_buffer[, encoding[, errors]]) -> str\n",
      " |  \n",
      " |  Create a new string object from the given object. If encoding or\n",
      " |  errors is specified, then the object must expose a data buffer\n",
      " |  that will be decoded using the given encoding and error handler.\n",
      " |  Otherwise, returns the result of object.__str__() (if defined)\n",
      " |  or repr(object).\n",
      " |  encoding defaults to sys.getdefaultencoding().\n",
      " |  errors defaults to 'strict'.\n",
      " |  \n",
      " |  Methods defined here:\n",
      " |  \n",
      " |  __add__(self, value, /)\n",
      " |      Return self+value.\n",
      " |  \n",
      " |  __contains__(self, key, /)\n",
      " |      Return key in self.\n",
      " |  \n",
      " |  __eq__(self, value, /)\n",
      " |      Return self==value.\n",
      " |  \n",
      " |  __format__(self, format_spec, /)\n",
      " |      Return a formatted version of the string as described by format_spec.\n",
      " |  \n",
      " |  __ge__(self, value, /)\n",
      " |      Return self>=value.\n",
      " |  \n",
      " |  __getattribute__(self, name, /)\n",
      " |      Return getattr(self, name).\n",
      " |  \n",
      " |  __getitem__(self, key, /)\n",
      " |      Return self[key].\n",
      " |  \n",
      " |  __getnewargs__(...)\n",
      " |  \n",
      " |  __gt__(self, value, /)\n",
      " |      Return self>value.\n",
      " |  \n",
      " |  __hash__(self, /)\n",
      " |      Return hash(self).\n",
      " |  \n",
      " |  __iter__(self, /)\n",
      " |      Implement iter(self).\n",
      " |  \n",
      " |  __le__(self, value, /)\n",
      " |      Return self<=value.\n",
      " |  \n",
      " |  __len__(self, /)\n",
      " |      Return len(self).\n",
      " |  \n",
      " |  __lt__(self, value, /)\n",
      " |      Return self<value.\n",
      " |  \n",
      " |  __mod__(self, value, /)\n",
      " |      Return self%value.\n",
      " |  \n",
      " |  __mul__(self, value, /)\n",
      " |      Return self*value.\n",
      " |  \n",
      " |  __ne__(self, value, /)\n",
      " |      Return self!=value.\n",
      " |  \n",
      " |  __repr__(self, /)\n",
      " |      Return repr(self).\n",
      " |  \n",
      " |  __rmod__(self, value, /)\n",
      " |      Return value%self.\n",
      " |  \n",
      " |  __rmul__(self, value, /)\n",
      " |      Return value*self.\n",
      " |  \n",
      " |  __sizeof__(self, /)\n",
      " |      Return the size of the string in memory, in bytes.\n",
      " |  \n",
      " |  __str__(self, /)\n",
      " |      Return str(self).\n",
      " |  \n",
      " |  capitalize(self, /)\n",
      " |      Return a capitalized version of the string.\n",
      " |      \n",
      " |      More specifically, make the first character have upper case and the rest lower\n",
      " |      case.\n",
      " |  \n",
      " |  casefold(self, /)\n",
      " |      Return a version of the string suitable for caseless comparisons.\n",
      " |  \n",
      " |  center(self, width, fillchar=' ', /)\n",
      " |      Return a centered string of length width.\n",
      " |      \n",
      " |      Padding is done using the specified fill character (default is a space).\n",
      " |  \n",
      " |  count(...)\n",
      " |      S.count(sub[, start[, end]]) -> int\n",
      " |      \n",
      " |      Return the number of non-overlapping occurrences of substring sub in\n",
      " |      string S[start:end].  Optional arguments start and end are\n",
      " |      interpreted as in slice notation.\n",
      " |  \n",
      " |  encode(self, /, encoding='utf-8', errors='strict')\n",
      " |      Encode the string using the codec registered for encoding.\n",
      " |      \n",
      " |      encoding\n",
      " |        The encoding in which to encode the string.\n",
      " |      errors\n",
      " |        The error handling scheme to use for encoding errors.\n",
      " |        The default is 'strict' meaning that encoding errors raise a\n",
      " |        UnicodeEncodeError.  Other possible values are 'ignore', 'replace' and\n",
      " |        'xmlcharrefreplace' as well as any other name registered with\n",
      " |        codecs.register_error that can handle UnicodeEncodeErrors.\n",
      " |  \n",
      " |  endswith(...)\n",
      " |      S.endswith(suffix[, start[, end]]) -> bool\n",
      " |      \n",
      " |      Return True if S ends with the specified suffix, False otherwise.\n",
      " |      With optional start, test S beginning at that position.\n",
      " |      With optional end, stop comparing S at that position.\n",
      " |      suffix can also be a tuple of strings to try.\n",
      " |  \n",
      " |  expandtabs(self, /, tabsize=8)\n",
      " |      Return a copy where all tab characters are expanded using spaces.\n",
      " |      \n",
      " |      If tabsize is not given, a tab size of 8 characters is assumed.\n",
      " |  \n",
      " |  find(...)\n",
      " |      S.find(sub[, start[, end]]) -> int\n",
      " |      \n",
      " |      Return the lowest index in S where substring sub is found,\n",
      " |      such that sub is contained within S[start:end].  Optional\n",
      " |      arguments start and end are interpreted as in slice notation.\n",
      " |      \n",
      " |      Return -1 on failure.\n",
      " |  \n",
      " |  format(...)\n",
      " |      S.format(*args, **kwargs) -> str\n",
      " |      \n",
      " |      Return a formatted version of S, using substitutions from args and kwargs.\n",
      " |      The substitutions are identified by braces ('{' and '}').\n",
      " |  \n",
      " |  format_map(...)\n",
      " |      S.format_map(mapping) -> str\n",
      " |      \n",
      " |      Return a formatted version of S, using substitutions from mapping.\n",
      " |      The substitutions are identified by braces ('{' and '}').\n",
      " |  \n",
      " |  index(...)\n",
      " |      S.index(sub[, start[, end]]) -> int\n",
      " |      \n",
      " |      Return the lowest index in S where substring sub is found,\n",
      " |      such that sub is contained within S[start:end].  Optional\n",
      " |      arguments start and end are interpreted as in slice notation.\n",
      " |      \n",
      " |      Raises ValueError when the substring is not found.\n",
      " |  \n",
      " |  isalnum(self, /)\n",
      " |      Return True if the string is an alpha-numeric string, False otherwise.\n",
      " |      \n",
      " |      A string is alpha-numeric if all characters in the string are alpha-numeric and\n",
      " |      there is at least one character in the string.\n",
      " |  \n",
      " |  isalpha(self, /)\n",
      " |      Return True if the string is an alphabetic string, False otherwise.\n",
      " |      \n",
      " |      A string is alphabetic if all characters in the string are alphabetic and there\n",
      " |      is at least one character in the string.\n",
      " |  \n",
      " |  isascii(self, /)\n",
      " |      Return True if all characters in the string are ASCII, False otherwise.\n",
      " |      \n",
      " |      ASCII characters have code points in the range U+0000-U+007F.\n",
      " |      Empty string is ASCII too.\n",
      " |  \n",
      " |  isdecimal(self, /)\n",
      " |      Return True if the string is a decimal string, False otherwise.\n",
      " |      \n",
      " |      A string is a decimal string if all characters in the string are decimal and\n",
      " |      there is at least one character in the string.\n",
      " |  \n",
      " |  isdigit(self, /)\n",
      " |      Return True if the string is a digit string, False otherwise.\n",
      " |      \n",
      " |      A string is a digit string if all characters in the string are digits and there\n",
      " |      is at least one character in the string.\n",
      " |  \n",
      " |  isidentifier(self, /)\n",
      " |      Return True if the string is a valid Python identifier, False otherwise.\n",
      " |      \n",
      " |      Call keyword.iskeyword(s) to test whether string s is a reserved identifier,\n",
      " |      such as \"def\" or \"class\".\n",
      " |  \n",
      " |  islower(self, /)\n",
      " |      Return True if the string is a lowercase string, False otherwise.\n",
      " |      \n",
      " |      A string is lowercase if all cased characters in the string are lowercase and\n",
      " |      there is at least one cased character in the string.\n",
      " |  \n",
      " |  isnumeric(self, /)\n",
      " |      Return True if the string is a numeric string, False otherwise.\n",
      " |      \n",
      " |      A string is numeric if all characters in the string are numeric and there is at\n",
      " |      least one character in the string.\n",
      " |  \n",
      " |  isprintable(self, /)\n",
      " |      Return True if the string is printable, False otherwise.\n",
      " |      \n",
      " |      A string is printable if all of its characters are considered printable in\n",
      " |      repr() or if it is empty.\n",
      " |  \n",
      " |  isspace(self, /)\n",
      " |      Return True if the string is a whitespace string, False otherwise.\n",
      " |      \n",
      " |      A string is whitespace if all characters in the string are whitespace and there\n",
      " |      is at least one character in the string.\n",
      " |  \n",
      " |  istitle(self, /)\n",
      " |      Return True if the string is a title-cased string, False otherwise.\n",
      " |      \n",
      " |      In a title-cased string, upper- and title-case characters may only\n",
      " |      follow uncased characters and lowercase characters only cased ones.\n",
      " |  \n",
      " |  isupper(self, /)\n",
      " |      Return True if the string is an uppercase string, False otherwise.\n",
      " |      \n",
      " |      A string is uppercase if all cased characters in the string are uppercase and\n",
      " |      there is at least one cased character in the string.\n",
      " |  \n",
      " |  join(self, iterable, /)\n",
      " |      Concatenate any number of strings.\n",
      " |      \n",
      " |      The string whose method is called is inserted in between each given string.\n",
      " |      The result is returned as a new string.\n",
      " |      \n",
      " |      Example: '.'.join(['ab', 'pq', 'rs']) -> 'ab.pq.rs'\n",
      " |  \n",
      " |  ljust(self, width, fillchar=' ', /)\n",
      " |      Return a left-justified string of length width.\n",
      " |      \n",
      " |      Padding is done using the specified fill character (default is a space).\n",
      " |  \n",
      " |  lower(self, /)\n",
      " |      Return a copy of the string converted to lowercase.\n",
      " |  \n",
      " |  lstrip(self, chars=None, /)\n",
      " |      Return a copy of the string with leading whitespace removed.\n",
      " |      \n",
      " |      If chars is given and not None, remove characters in chars instead.\n",
      " |  \n",
      " |  partition(self, sep, /)\n",
      " |      Partition the string into three parts using the given separator.\n",
      " |      \n",
      " |      This will search for the separator in the string.  If the separator is found,\n",
      " |      returns a 3-tuple containing the part before the separator, the separator\n",
      " |      itself, and the part after it.\n",
      " |      \n",
      " |      If the separator is not found, returns a 3-tuple containing the original string\n",
      " |      and two empty strings.\n",
      " |  \n",
      " |  removeprefix(self, prefix, /)\n",
      " |      Return a str with the given prefix string removed if present.\n",
      " |      \n",
      " |      If the string starts with the prefix string, return string[len(prefix):].\n",
      " |      Otherwise, return a copy of the original string.\n",
      " |  \n",
      " |  removesuffix(self, suffix, /)\n",
      " |      Return a str with the given suffix string removed if present.\n",
      " |      \n",
      " |      If the string ends with the suffix string and that suffix is not empty,\n",
      " |      return string[:-len(suffix)]. Otherwise, return a copy of the original\n",
      " |      string.\n",
      " |  \n",
      " |  replace(self, old, new, count=-1, /)\n",
      " |      Return a copy with all occurrences of substring old replaced by new.\n",
      " |      \n",
      " |        count\n",
      " |          Maximum number of occurrences to replace.\n",
      " |          -1 (the default value) means replace all occurrences.\n",
      " |      \n",
      " |      If the optional argument count is given, only the first count occurrences are\n",
      " |      replaced.\n",
      " |  \n",
      " |  rfind(...)\n",
      " |      S.rfind(sub[, start[, end]]) -> int\n",
      " |      \n",
      " |      Return the highest index in S where substring sub is found,\n",
      " |      such that sub is contained within S[start:end].  Optional\n",
      " |      arguments start and end are interpreted as in slice notation.\n",
      " |      \n",
      " |      Return -1 on failure.\n",
      " |  \n",
      " |  rindex(...)\n",
      " |      S.rindex(sub[, start[, end]]) -> int\n",
      " |      \n",
      " |      Return the highest index in S where substring sub is found,\n",
      " |      such that sub is contained within S[start:end].  Optional\n",
      " |      arguments start and end are interpreted as in slice notation.\n",
      " |      \n",
      " |      Raises ValueError when the substring is not found.\n",
      " |  \n",
      " |  rjust(self, width, fillchar=' ', /)\n",
      " |      Return a right-justified string of length width.\n",
      " |      \n",
      " |      Padding is done using the specified fill character (default is a space).\n",
      " |  \n",
      " |  rpartition(self, sep, /)\n",
      " |      Partition the string into three parts using the given separator.\n",
      " |      \n",
      " |      This will search for the separator in the string, starting at the end. If\n",
      " |      the separator is found, returns a 3-tuple containing the part before the\n",
      " |      separator, the separator itself, and the part after it.\n",
      " |      \n",
      " |      If the separator is not found, returns a 3-tuple containing two empty strings\n",
      " |      and the original string.\n",
      " |  \n",
      " |  rsplit(self, /, sep=None, maxsplit=-1)\n",
      " |      Return a list of the substrings in the string, using sep as the separator string.\n",
      " |      \n",
      " |        sep\n",
      " |          The separator used to split the string.\n",
      " |      \n",
      " |          When set to None (the default value), will split on any whitespace\n",
      " |          character (including \\\\n \\\\r \\\\t \\\\f and spaces) and will discard\n",
      " |          empty strings from the result.\n",
      " |        maxsplit\n",
      " |          Maximum number of splits (starting from the left).\n",
      " |          -1 (the default value) means no limit.\n",
      " |      \n",
      " |      Splitting starts at the end of the string and works to the front.\n",
      " |  \n",
      " |  rstrip(self, chars=None, /)\n",
      " |      Return a copy of the string with trailing whitespace removed.\n",
      " |      \n",
      " |      If chars is given and not None, remove characters in chars instead.\n",
      " |  \n",
      " |  split(self, /, sep=None, maxsplit=-1)\n",
      " |      Return a list of the substrings in the string, using sep as the separator string.\n",
      " |      \n",
      " |        sep\n",
      " |          The separator used to split the string.\n",
      " |      \n",
      " |          When set to None (the default value), will split on any whitespace\n",
      " |          character (including \\\\n \\\\r \\\\t \\\\f and spaces) and will discard\n",
      " |          empty strings from the result.\n",
      " |        maxsplit\n",
      " |          Maximum number of splits (starting from the left).\n",
      " |          -1 (the default value) means no limit.\n",
      " |      \n",
      " |      Note, str.split() is mainly useful for data that has been intentionally\n",
      " |      delimited.  With natural text that includes punctuation, consider using\n",
      " |      the regular expression module.\n",
      " |  \n",
      " |  splitlines(self, /, keepends=False)\n",
      " |      Return a list of the lines in the string, breaking at line boundaries.\n",
      " |      \n",
      " |      Line breaks are not included in the resulting list unless keepends is given and\n",
      " |      true.\n",
      " |  \n",
      " |  startswith(...)\n",
      " |      S.startswith(prefix[, start[, end]]) -> bool\n",
      " |      \n",
      " |      Return True if S starts with the specified prefix, False otherwise.\n",
      " |      With optional start, test S beginning at that position.\n",
      " |      With optional end, stop comparing S at that position.\n",
      " |      prefix can also be a tuple of strings to try.\n",
      " |  \n",
      " |  strip(self, chars=None, /)\n",
      " |      Return a copy of the string with leading and trailing whitespace removed.\n",
      " |      \n",
      " |      If chars is given and not None, remove characters in chars instead.\n",
      " |  \n",
      " |  swapcase(self, /)\n",
      " |      Convert uppercase characters to lowercase and lowercase characters to uppercase.\n",
      " |  \n",
      " |  title(self, /)\n",
      " |      Return a version of the string where each word is titlecased.\n",
      " |      \n",
      " |      More specifically, words start with uppercased characters and all remaining\n",
      " |      cased characters have lower case.\n",
      " |  \n",
      " |  translate(self, table, /)\n",
      " |      Replace each character in the string using the given translation table.\n",
      " |      \n",
      " |        table\n",
      " |          Translation table, which must be a mapping of Unicode ordinals to\n",
      " |          Unicode ordinals, strings, or None.\n",
      " |      \n",
      " |      The table must implement lookup/indexing via __getitem__, for instance a\n",
      " |      dictionary or list.  If this operation raises LookupError, the character is\n",
      " |      left untouched.  Characters mapped to None are deleted.\n",
      " |  \n",
      " |  upper(self, /)\n",
      " |      Return a copy of the string converted to uppercase.\n",
      " |  \n",
      " |  zfill(self, width, /)\n",
      " |      Pad a numeric string with zeros on the left, to fill a field of the given width.\n",
      " |      \n",
      " |      The string is never truncated.\n",
      " |  \n",
      " |  ----------------------------------------------------------------------\n",
      " |  Static methods defined here:\n",
      " |  \n",
      " |  __new__(*args, **kwargs) from builtins.type\n",
      " |      Create and return a new object.  See help(type) for accurate signature.\n",
      " |  \n",
      " |  maketrans(...)\n",
      " |      Return a translation table usable for str.translate().\n",
      " |      \n",
      " |      If there is only one argument, it must be a dictionary mapping Unicode\n",
      " |      ordinals (integers) or characters to Unicode ordinals, strings or None.\n",
      " |      Character keys will be then converted to ordinals.\n",
      " |      If there are two arguments, they must be strings of equal length, and\n",
      " |      in the resulting dictionary, each character in x will be mapped to the\n",
      " |      character at the same position in y. If there is a third argument, it\n",
      " |      must be a string, whose characters will be mapped to None in the result.\n",
      "\n"
     ]
    }
   ],
   "source": [
    "\n",
    "help(str)\n"
   ]
  },
  {
   "cell_type": "markdown",
   "id": "10b5592e-b06f-40f9-bc01-f8d61b53c70e",
   "metadata": {},
   "source": [
    "<br>\n",
    "\n",
    "<div style=\"background-color: #ffe0b0; padding: 10px;\">\n",
    "<code style=\"background-color: #ffe0b0;\">Infact, everything is an <span style=\"color: blue;\">object</span> in python.</code>\n",
    "</div>"
   ]
  },
  {
   "cell_type": "code",
   "execution_count": 76,
   "id": "0102bbaf-2537-4f11-9ddf-1d905cacdada",
   "metadata": {},
   "outputs": [
    {
     "data": {
      "text/plain": [
       "int"
      ]
     },
     "execution_count": 76,
     "metadata": {},
     "output_type": "execute_result"
    }
   ],
   "source": [
    "\n",
    "age = 10\n",
    "\n",
    "type(age)\n"
   ]
  },
  {
   "cell_type": "code",
   "execution_count": 77,
   "id": "56b279b6-0cdd-4b5a-9f24-3f0ade7919f4",
   "metadata": {},
   "outputs": [
    {
     "name": "stdout",
     "output_type": "stream",
     "text": [
      "<class 'int'>\n"
     ]
    }
   ],
   "source": [
    "\n",
    "print(type(age))\n"
   ]
  },
  {
   "cell_type": "code",
   "execution_count": 85,
   "id": "d81cf9ed-6e27-44c0-9a28-5d5b766027c9",
   "metadata": {},
   "outputs": [
    {
     "name": "stdout",
     "output_type": "stream",
     "text": [
      "<method-wrapper '__init__' of int object at 0x00007FF880C9E448>\n",
      "<method-wrapper '__add__' of int object at 0x00007FF880C9E448>\n"
     ]
    }
   ],
   "source": [
    "\n",
    "print(age.__init__)     # Output:  <method-wrapper '__init__' of int object at 0x00007FF880C9E448>\n",
    "print(age.__add__)      # Output:  <method-wrapper '__init__' of int object at 0x00007FF880C9E448>\n"
   ]
  },
  {
   "cell_type": "code",
   "execution_count": 40,
   "id": "df09b2ae-e69d-486a-be13-5227b25a2204",
   "metadata": {},
   "outputs": [
    {
     "name": "stdout",
     "output_type": "stream",
     "text": [
      "Help on class int in module builtins:\n",
      "\n",
      "class int(object)\n",
      " |  int([x]) -> integer\n",
      " |  int(x, base=10) -> integer\n",
      " |  \n",
      " |  Convert a number or string to an integer, or return 0 if no arguments\n",
      " |  are given.  If x is a number, return x.__int__().  For floating point\n",
      " |  numbers, this truncates towards zero.\n",
      " |  \n",
      " |  If x is not a number or if base is given, then x must be a string,\n",
      " |  bytes, or bytearray instance representing an integer literal in the\n",
      " |  given base.  The literal can be preceded by '+' or '-' and be surrounded\n",
      " |  by whitespace.  The base defaults to 10.  Valid bases are 0 and 2-36.\n",
      " |  Base 0 means to interpret the base from the string as an integer literal.\n",
      " |  >>> int('0b100', base=0)\n",
      " |  4\n",
      " |  \n",
      " |  Built-in subclasses:\n",
      " |      bool\n",
      " |  \n",
      " |  Methods defined here:\n",
      " |  \n",
      " |  __abs__(self, /)\n",
      " |      abs(self)\n",
      " |  \n",
      " |  __add__(self, value, /)\n",
      " |      Return self+value.\n",
      " |  \n",
      " |  __and__(self, value, /)\n",
      " |      Return self&value.\n",
      " |  \n",
      " |  __bool__(self, /)\n",
      " |      True if self else False\n",
      " |  \n",
      " |  __ceil__(...)\n",
      " |      Ceiling of an Integral returns itself.\n",
      " |  \n",
      " |  __divmod__(self, value, /)\n",
      " |      Return divmod(self, value).\n",
      " |  \n",
      " |  __eq__(self, value, /)\n",
      " |      Return self==value.\n",
      " |  \n",
      " |  __float__(self, /)\n",
      " |      float(self)\n",
      " |  \n",
      " |  __floor__(...)\n",
      " |      Flooring an Integral returns itself.\n",
      " |  \n",
      " |  __floordiv__(self, value, /)\n",
      " |      Return self//value.\n",
      " |  \n",
      " |  __format__(self, format_spec, /)\n",
      " |      Default object formatter.\n",
      " |  \n",
      " |  __ge__(self, value, /)\n",
      " |      Return self>=value.\n",
      " |  \n",
      " |  __getattribute__(self, name, /)\n",
      " |      Return getattr(self, name).\n",
      " |  \n",
      " |  __getnewargs__(self, /)\n",
      " |  \n",
      " |  __gt__(self, value, /)\n",
      " |      Return self>value.\n",
      " |  \n",
      " |  __hash__(self, /)\n",
      " |      Return hash(self).\n",
      " |  \n",
      " |  __index__(self, /)\n",
      " |      Return self converted to an integer, if self is suitable for use as an index into a list.\n",
      " |  \n",
      " |  __int__(self, /)\n",
      " |      int(self)\n",
      " |  \n",
      " |  __invert__(self, /)\n",
      " |      ~self\n",
      " |  \n",
      " |  __le__(self, value, /)\n",
      " |      Return self<=value.\n",
      " |  \n",
      " |  __lshift__(self, value, /)\n",
      " |      Return self<<value.\n",
      " |  \n",
      " |  __lt__(self, value, /)\n",
      " |      Return self<value.\n",
      " |  \n",
      " |  __mod__(self, value, /)\n",
      " |      Return self%value.\n",
      " |  \n",
      " |  __mul__(self, value, /)\n",
      " |      Return self*value.\n",
      " |  \n",
      " |  __ne__(self, value, /)\n",
      " |      Return self!=value.\n",
      " |  \n",
      " |  __neg__(self, /)\n",
      " |      -self\n",
      " |  \n",
      " |  __or__(self, value, /)\n",
      " |      Return self|value.\n",
      " |  \n",
      " |  __pos__(self, /)\n",
      " |      +self\n",
      " |  \n",
      " |  __pow__(self, value, mod=None, /)\n",
      " |      Return pow(self, value, mod).\n",
      " |  \n",
      " |  __radd__(self, value, /)\n",
      " |      Return value+self.\n",
      " |  \n",
      " |  __rand__(self, value, /)\n",
      " |      Return value&self.\n",
      " |  \n",
      " |  __rdivmod__(self, value, /)\n",
      " |      Return divmod(value, self).\n",
      " |  \n",
      " |  __repr__(self, /)\n",
      " |      Return repr(self).\n",
      " |  \n",
      " |  __rfloordiv__(self, value, /)\n",
      " |      Return value//self.\n",
      " |  \n",
      " |  __rlshift__(self, value, /)\n",
      " |      Return value<<self.\n",
      " |  \n",
      " |  __rmod__(self, value, /)\n",
      " |      Return value%self.\n",
      " |  \n",
      " |  __rmul__(self, value, /)\n",
      " |      Return value*self.\n",
      " |  \n",
      " |  __ror__(self, value, /)\n",
      " |      Return value|self.\n",
      " |  \n",
      " |  __round__(...)\n",
      " |      Rounding an Integral returns itself.\n",
      " |      \n",
      " |      Rounding with an ndigits argument also returns an integer.\n",
      " |  \n",
      " |  __rpow__(self, value, mod=None, /)\n",
      " |      Return pow(value, self, mod).\n",
      " |  \n",
      " |  __rrshift__(self, value, /)\n",
      " |      Return value>>self.\n",
      " |  \n",
      " |  __rshift__(self, value, /)\n",
      " |      Return self>>value.\n",
      " |  \n",
      " |  __rsub__(self, value, /)\n",
      " |      Return value-self.\n",
      " |  \n",
      " |  __rtruediv__(self, value, /)\n",
      " |      Return value/self.\n",
      " |  \n",
      " |  __rxor__(self, value, /)\n",
      " |      Return value^self.\n",
      " |  \n",
      " |  __sizeof__(self, /)\n",
      " |      Returns size in memory, in bytes.\n",
      " |  \n",
      " |  __sub__(self, value, /)\n",
      " |      Return self-value.\n",
      " |  \n",
      " |  __truediv__(self, value, /)\n",
      " |      Return self/value.\n",
      " |  \n",
      " |  __trunc__(...)\n",
      " |      Truncating an Integral returns itself.\n",
      " |  \n",
      " |  __xor__(self, value, /)\n",
      " |      Return self^value.\n",
      " |  \n",
      " |  as_integer_ratio(self, /)\n",
      " |      Return integer ratio.\n",
      " |      \n",
      " |      Return a pair of integers, whose ratio is exactly equal to the original int\n",
      " |      and with a positive denominator.\n",
      " |      \n",
      " |      >>> (10).as_integer_ratio()\n",
      " |      (10, 1)\n",
      " |      >>> (-10).as_integer_ratio()\n",
      " |      (-10, 1)\n",
      " |      >>> (0).as_integer_ratio()\n",
      " |      (0, 1)\n",
      " |  \n",
      " |  bit_count(self, /)\n",
      " |      Number of ones in the binary representation of the absolute value of self.\n",
      " |      \n",
      " |      Also known as the population count.\n",
      " |      \n",
      " |      >>> bin(13)\n",
      " |      '0b1101'\n",
      " |      >>> (13).bit_count()\n",
      " |      3\n",
      " |  \n",
      " |  bit_length(self, /)\n",
      " |      Number of bits necessary to represent self in binary.\n",
      " |      \n",
      " |      >>> bin(37)\n",
      " |      '0b100101'\n",
      " |      >>> (37).bit_length()\n",
      " |      6\n",
      " |  \n",
      " |  conjugate(...)\n",
      " |      Returns self, the complex conjugate of any int.\n",
      " |  \n",
      " |  to_bytes(self, /, length=1, byteorder='big', *, signed=False)\n",
      " |      Return an array of bytes representing an integer.\n",
      " |      \n",
      " |      length\n",
      " |        Length of bytes object to use.  An OverflowError is raised if the\n",
      " |        integer is not representable with the given number of bytes.  Default\n",
      " |        is length 1.\n",
      " |      byteorder\n",
      " |        The byte order used to represent the integer.  If byteorder is 'big',\n",
      " |        the most significant byte is at the beginning of the byte array.  If\n",
      " |        byteorder is 'little', the most significant byte is at the end of the\n",
      " |        byte array.  To request the native byte order of the host system, use\n",
      " |        `sys.byteorder' as the byte order value.  Default is to use 'big'.\n",
      " |      signed\n",
      " |        Determines whether two's complement is used to represent the integer.\n",
      " |        If signed is False and a negative integer is given, an OverflowError\n",
      " |        is raised.\n",
      " |  \n",
      " |  ----------------------------------------------------------------------\n",
      " |  Class methods defined here:\n",
      " |  \n",
      " |  from_bytes(bytes, byteorder='big', *, signed=False) from builtins.type\n",
      " |      Return the integer represented by the given array of bytes.\n",
      " |      \n",
      " |      bytes\n",
      " |        Holds the array of bytes to convert.  The argument must either\n",
      " |        support the buffer protocol or be an iterable object producing bytes.\n",
      " |        Bytes and bytearray are examples of built-in objects that support the\n",
      " |        buffer protocol.\n",
      " |      byteorder\n",
      " |        The byte order used to represent the integer.  If byteorder is 'big',\n",
      " |        the most significant byte is at the beginning of the byte array.  If\n",
      " |        byteorder is 'little', the most significant byte is at the end of the\n",
      " |        byte array.  To request the native byte order of the host system, use\n",
      " |        `sys.byteorder' as the byte order value.  Default is to use 'big'.\n",
      " |      signed\n",
      " |        Indicates whether two's complement is used to represent the integer.\n",
      " |  \n",
      " |  ----------------------------------------------------------------------\n",
      " |  Static methods defined here:\n",
      " |  \n",
      " |  __new__(*args, **kwargs) from builtins.type\n",
      " |      Create and return a new object.  See help(type) for accurate signature.\n",
      " |  \n",
      " |  ----------------------------------------------------------------------\n",
      " |  Data descriptors defined here:\n",
      " |  \n",
      " |  denominator\n",
      " |      the denominator of a rational number in lowest terms\n",
      " |  \n",
      " |  imag\n",
      " |      the imaginary part of a complex number\n",
      " |  \n",
      " |  numerator\n",
      " |      the numerator of a rational number in lowest terms\n",
      " |  \n",
      " |  real\n",
      " |      the real part of a complex number\n",
      "\n"
     ]
    }
   ],
   "source": [
    "\n",
    "help(int)\n"
   ]
  },
  {
   "cell_type": "markdown",
   "id": "9db21927-32de-4d12-a1e5-ff12a97e302b",
   "metadata": {},
   "source": [
    "<br>\n",
    "\n",
    "<div style=\"background-color: #ffe0b0; padding: 10px;\">\n",
    "<code style=\"background-color: #ffe0b0;\">For any constructor, <code style=\"background-color: #a5fff3;\">self</code> will be always be the &nbsp;<strong><span style=\"font-size: 1.01rem\">1st parameter</span></strong>&nbsp; irrespective of using it or not.</strong></code>\n",
    "</div>"
   ]
  },
  {
   "cell_type": "code",
   "execution_count": 68,
   "id": "819fb2df-5124-4a7a-9fca-4a7bc066291b",
   "metadata": {},
   "outputs": [
    {
     "name": "stdout",
     "output_type": "stream",
     "text": [
      "Hello! Avinash Mishra\n",
      "You scored : 88\n",
      "Your updated score : 94\n",
      "Tomorrow is holiday\n"
     ]
    }
   ],
   "source": [
    "\n",
    "class Student:\n",
    "    college_name = \"abc\"                              # class  attribute\n",
    "    \n",
    "    def __init__(self, name, marks):\n",
    "        self.name = name                              # object  atrribute\n",
    "        self.marks = marks                            # object  attribute\n",
    "    \n",
    "    def greet(self):\n",
    "        print(\"Hello!\", self.name)                    # using  self  inside  the  method\n",
    "    \n",
    "    def get_marks(self):\n",
    "        return self.marks                             # using  self  inside  the  method\n",
    "    \n",
    "    def update_marks(self, marks):\n",
    "        self.marks = marks                            # using  self  inside  the  method\n",
    "        return self.marks\n",
    "    \n",
    "    def notification(self):                           \n",
    "        print(\"Tomorrow is holiday\")                  # not  using  self  inside  the  method\n",
    "    \n",
    "    def do_nothing(self):                             # not  using  self  inside  the  method\n",
    "        pass\n",
    "        \n",
    "\n",
    "##################################################################################################################################\n",
    "\n",
    "\n",
    "s1 = Student(\"Avinash Mishra\", 88)                     # creates  an  object  s1  of  Student  type\n",
    "\n",
    "s1.greet()                                             # instance method calling     =====>    greet()\n",
    "\n",
    "s1_marks = s1.get_marks()                              # instance method calling     =====>    get_marks()\n",
    "print(\"You scored :\", s1_marks)\n",
    "\n",
    "s1_updated_marks = s1.update_marks(94)                 # instance method calling     =====>    update_marks()\n",
    "print(\"Your updated score :\", s1_updated_marks)\n",
    "\n",
    "s1.notification()                                      # instance method calling     =====>    ask()\n",
    "\n",
    "s1.do_nothing()                                        # instance method calling     =====>    do_nothing()\n"
   ]
  },
  {
   "cell_type": "markdown",
   "id": "bdfa2624-0a1b-44b9-8e0c-c738e5a2f37e",
   "metadata": {},
   "source": [
    "<br>\n",
    "\n",
    "<div style=\"background-color: #ffe0b0; padding: 10px;\">\n",
    "<code style=\"background-color: #ffe0b0;\">Removing <code style=\"background-color: #a5fff3;\">self</code> will cause <span style=\"color: red;\"><strong><u>positional error</u></strong></span> irrespective of whether you are using it or not</code>.\n",
    "</div>"
   ]
  },
  {
   "cell_type": "code",
   "execution_count": 70,
   "id": "1ea057b0-ea76-4932-9b0a-7c1115a514c1",
   "metadata": {},
   "outputs": [
    {
     "ename": "TypeError",
     "evalue": "Student.greet() takes 0 positional arguments but 1 was given",
     "output_type": "error",
     "traceback": [
      "\u001b[1;31m---------------------------------------------------------------------------\u001b[0m",
      "\u001b[1;31mTypeError\u001b[0m                                 Traceback (most recent call last)",
      "Cell \u001b[1;32mIn[70], line 15\u001b[0m\n\u001b[0;32m      9\u001b[0m         \u001b[38;5;28mprint\u001b[39m(\u001b[38;5;124m\"\u001b[39m\u001b[38;5;124mHello!\u001b[39m\u001b[38;5;124m\"\u001b[39m, \u001b[38;5;28mself\u001b[39m\u001b[38;5;241m.\u001b[39mname)\n\u001b[0;32m     13\u001b[0m s1 \u001b[38;5;241m=\u001b[39m Student(\u001b[38;5;124m\"\u001b[39m\u001b[38;5;124mAvinash Mishra\u001b[39m\u001b[38;5;124m\"\u001b[39m, \u001b[38;5;241m88\u001b[39m)     \u001b[38;5;66;03m# creates  an  object  s1  of  Student  type\u001b[39;00m\n\u001b[1;32m---> 15\u001b[0m \u001b[43ms1\u001b[49m\u001b[38;5;241;43m.\u001b[39;49m\u001b[43mgreet\u001b[49m\u001b[43m(\u001b[49m\u001b[43m)\u001b[49m                             \u001b[38;5;66;03m# instnce method calling   ======>   greet()\u001b[39;00m\n",
      "\u001b[1;31mTypeError\u001b[0m: Student.greet() takes 0 positional arguments but 1 was given"
     ]
    }
   ],
   "source": [
    "\n",
    "class Student:\n",
    "    college_name = \"abc\"                 # class  attribute\n",
    "\n",
    "    def __init__(self, name, marks):\n",
    "        self.name = name                # object  atrribute\n",
    "        self.marks = marks              # object  attribute\n",
    "\n",
    "    def greet():                    # Removing 'self' will cause error   ==>   TypeError: Student.greet() takes 0 positional arguments but 1 was given  \n",
    "        print(\"Hello!\", self.name)\n",
    "\n",
    "\n",
    "\n",
    "s1 = Student(\"Avinash Mishra\", 88)     # creates  an  object  s1  of  Student  type\n",
    "\n",
    "s1.greet()                             # instnce method calling   ======>   greet()\n"
   ]
  },
  {
   "cell_type": "markdown",
   "id": "47688b7d-ac86-4ff5-bc21-8d56c9326456",
   "metadata": {},
   "source": [
    "<br>\n",
    "\n",
    "<div style=\"background-color: #ffe0b0; padding: 10px;\">\n",
    "<code style=\"background-color: #ffe0b0;\">If you don't have any explicit constructor in a class, the &nbsp;<strong><span style=\"font-size: 1.04rem\">deafult constrcutor</span></strong>&nbsp; works in the background.</code>\n",
    "\n",
    "<br>\n",
    "\n",
    "<pre>\n",
    "    \n",
    "    <span style=\"color: green;\">def</span> <span style=\"color: blue;\">__init__</span>(self):\n",
    "        <span style=\"color: green;\">pass</span>\n",
    "    \n",
    "</pre>\n",
    "    \n",
    "</div>"
   ]
  },
  {
   "cell_type": "code",
   "execution_count": 71,
   "id": "9ac427b4-c851-4a23-8f67-6811f40b534a",
   "metadata": {},
   "outputs": [
    {
     "name": "stdout",
     "output_type": "stream",
     "text": [
      "Hello! Students\n"
     ]
    }
   ],
   "source": [
    "\n",
    "class Student:\n",
    "    \n",
    "    # INSTANCE  METHO\n",
    "    def greet(self):\n",
    "        print(\"Hello! Students\")\n",
    "\n",
    "\n",
    "s1 = Student()     # creates  an  object  s1  of  Student  type\n",
    "\n",
    "s1.greet()         # method calling  ======>  greet()\n"
   ]
  },
  {
   "cell_type": "markdown",
   "id": "9e1a3cd3-e90d-443e-a57b-9c33c1aeb155",
   "metadata": {},
   "source": [
    "<br>\n",
    "\n",
    "**Let's &nbsp; Practice**\n",
    "\n",
    "<pre style=\"background-color: yellow;\">\n",
    "    \n",
    "    Create student class that takes name and marks of 3 subjects as arguments in constructor. \n",
    "    Then create a method to print the average. \n",
    "    Then change the name of a student.\n",
    "    \n",
    "</pre>\n"
   ]
  },
  {
   "cell_type": "code",
   "execution_count": 72,
   "id": "503f8db1-7010-42b7-ad43-d01374388971",
   "metadata": {},
   "outputs": [
    {
     "name": "stdout",
     "output_type": "stream",
     "text": [
      "hi Avinash , your average score is 90.66666666666667\n"
     ]
    }
   ],
   "source": [
    "\n",
    "class Student:\n",
    "    \n",
    "    def __init__(self, name, marks):         # CONSTRCTOR\n",
    "        self.name = name\n",
    "        self.marks = marks\n",
    "\n",
    "    def average_marks(self):                 # INSTANCE METHOD\n",
    "        avg_score = sum(self.marks) / 3\n",
    "        print(\"hi\", self.name, \", your average score is\", avg_score)\n",
    "    \n",
    "    \n",
    "s = Student(\"Avinash\", [88, 94, 90])         # creates  an  object  s1  of  Student  type\n",
    "\n",
    "s.average_marks()\n"
   ]
  },
  {
   "cell_type": "code",
   "execution_count": 74,
   "id": "4abdba8c-e07e-4a88-a6ea-83df50734d46",
   "metadata": {},
   "outputs": [
    {
     "name": "stdout",
     "output_type": "stream",
     "text": [
      "hi Avinash Kumar Mishra , your average score is 90.66666666666667\n"
     ]
    }
   ],
   "source": [
    "\n",
    "class Student:\n",
    "    def __init__(self, name, marks):          # CONSTRCTOR\n",
    "        self.name = name                      # object  attribute\n",
    "        self.marks = marks                    # object  attribute\n",
    "\n",
    "    def average_marks(self):                  # INSTANCE METHOD\n",
    "        avg_score = sum(self.marks) / 3\n",
    "        print(\"hi\", self.name, \", your average score is\", avg_score)\n",
    "    \n",
    "    \n",
    "s = Student(\"Avinash\", [88, 94, 90])          # creates  an  object  s1  of  Student  type\n",
    "\n",
    "s.name = \"Avinash Kumar Mishra\"\n",
    "\n",
    "s.average_marks()\n"
   ]
  },
  {
   "cell_type": "markdown",
   "id": "f38e2b64-48a0-4a19-a559-06cb0b0053e4",
   "metadata": {},
   "source": [
    "<br>\n",
    "\n",
    "<div style=\"background-color: #ffe0b0; padding: 10px;\">\n",
    "Methods are of two types :  <br>\n",
    "&nbsp;&nbsp;&nbsp;&nbsp;&nbsp;1. &nbsp;&nbsp;<strong>Static&nbsp; Methods</strong>   &nbsp;&nbsp;&nbsp;&nbsp;&nbsp;=====>&nbsp;&nbsp;<code style=\"background-color: #ffe0b0;\"> Methods that <u>don't use</u> the <span style=\"color: #ff000c;\">self</span> or <span style=\"color: #ff000c;\">cls</span> parameter (work at class level)</code><br>\n",
    "&nbsp;&nbsp;&nbsp;&nbsp;&nbsp;2. &nbsp;&nbsp;<strong>Class&nbsp; Methods</strong>    &nbsp;&nbsp;&nbsp;&nbsp;&nbsp;&nbsp;=====>&nbsp;&nbsp;<code style=\"background-color: #ffe0b0;\"> Methods that <u>use</u> the <span style=\"color: #ff000c;\">self - like</span> parameter i.e <span style=\"background-color: yellow;\">cls</span> (work at class level)</code><br><br>\n",
    "\n",
    "---\n",
    "\n",
    "<br>\n",
    "\n",
    "An **instance method** in Python is a method that is defined inside a class and is intended to be called on <span style=\"color: blue;\">instances (objects)</span> of that class. Instance methods are the <u>most common type of method</u> in Python classes, and they are used to perform actions that rely on the data stored in an instance of the class.\n",
    "\n",
    "<u><span style=\"color: #ff2ef2;\"><strong>Key &nbsp;Characteristics &nbsp;of &nbsp;Instance &nbsp;Methods</strong></span></u> :\n",
    "\n",
    "<div style=\"background-color: #ffe0b0; padding: 10px; margin-left: 40px; margin-top: -20px;\">\n",
    "\n",
    "1. <span style=\"color: red;\"><strong>Self Parameter</strong></span> : The first parameter of an instance method is always <code style=\"background-color: #ffe0b0;\"><span style=\"background-color: yellow\">self</span></code>. &nbsp;This parameter refers to the instance of the class on which the method is being called. Through self, instance methods can access and modify the attributes of the instance.\n",
    "\n",
    "2. <span style=\"color: red;\"><strong>Instance-Specific</strong></span> : Instance methods can access and modify instance-specific data (attributes). This allows each object (instance) of the class to maintain its own state.\n",
    "\n",
    "3. <span style=\"color: red;\"><strong>Callable on Instances</strong></span> : Instance methods are called on instances of a class, not on the class itself.\n",
    "    \n",
    "</div>\n",
    "\n",
    "</div>"
   ]
  },
  {
   "cell_type": "markdown",
   "id": "8a32ad7e-060a-4e24-9925-d7789d6b018a",
   "metadata": {
    "jp-MarkdownHeadingCollapsed": true
   },
   "source": [
    "<br><br>\n",
    "\n",
    "### <span style=\"color: blue\">Static Methods</span>\n"
   ]
  },
  {
   "cell_type": "markdown",
   "id": "585f2529-b611-42a9-b3d2-032ad270a702",
   "metadata": {},
   "source": [
    "<br>\n",
    "\n",
    "<span style=\"background-color: yellow;\">A <code style=\"background-color: yellow;\">method should be assigned as a <span style=\"color: red; font-size: 1rem;\"><strong>static method</strong></span> if it <span style=\"font-size: 1rem;\"><strong>does not need</strong></span> any <u>class attribute</u> or any <u>object (instance) attribute</u> to do the work it is defined for.</code></span>\n",
    "\n",
    "<br>\n",
    "\n",
    "<div style=\"margin-left: 145px;\">\n",
    "\n",
    "![](media/Shraddha_Kapra_oops_3.PNG)\n",
    "\n",
    "</div>\n",
    "\n",
    "\n",
    "Consider the following example :  <br>\n",
    "\n",
    "\n",
    "<div style=\"margin-left: 120px;\">\n",
    "\n",
    "![](media/Shraddha_Kapra_oops_4.PNG)\n",
    "\n",
    "</div>\n",
    "\n",
    "<strong><font size=\"+1\"><u>Decorators</u></font></strong>\n",
    "\n",
    "<div style=\"background-color: #ffe0b0; padding: 10px;\">\n",
    "\n",
    "=><code style=\"background-color: #ffe0b0;\">A <strong><span style=\"color: red;\">decorator</span></strong> is a function that <u>takes another function as an argument</u> and <u>returns a new function</u> that usually extends or alters the behavior of the original function.</code>\n",
    "\n",
    "=><code style=\"background-color: #ffe0b0;\">In Python, <strong><span style=\"color: red;\">decorators</span></strong> are a flexible feature that allow us to wrap a function and modify it's behavior <u>without changing the function's code itself</u>.</code>\n",
    "\n",
    "</div>\n",
    "\n",
    "<br>"
   ]
  },
  {
   "cell_type": "code",
   "execution_count": 75,
   "id": "2bd4bd93-4ec5-4073-9f2a-e9e43c3155b4",
   "metadata": {},
   "outputs": [
    {
     "name": "stdout",
     "output_type": "stream",
     "text": [
      "Tomorrow is holiday\n"
     ]
    }
   ],
   "source": [
    "class Student:\n",
    "    \n",
    "    college_name = \"abc\"                           # class attribute\n",
    "    \n",
    "    def __init__(self, name, marks):               # CONSTRUCTOR\n",
    "        self.name = name                           # object atrribute\n",
    "        self.marks = marks                         # object attribute\n",
    "    \n",
    "    def greet(self):                               # INSTANCE  METHOD\n",
    "        print(\"Hello!\", self.name)                 # using self inside the method\n",
    "    \n",
    "    @staticmethod                                  # DECORATOR\n",
    "    def notification():                            # passing self in this method does not make any sense, so it should be converted into a static method\n",
    "        print(\"Tomorrow is holiday\")               # not using any self inside the method\n",
    "        \n",
    "\n",
    "s1 = Student(\"Avinash Mishra\", [88, 94, 90])       # creating an object s1 of Student type\n",
    "\n",
    "s1.notification()                                  # method calling\n"
   ]
  },
  {
   "cell_type": "markdown",
   "id": "811ce0d5-8169-4f12-aeb3-4c364e385968",
   "metadata": {},
   "source": [
    "<br>\n",
    "\n",
    "Let &nbsp;us &nbsp;understand &nbsp;how &nbsp;does &nbsp;a &nbsp;**decorator** &nbsp;work?\n",
    "\n",
    "![](media/Shraddha_Kapra_oops_5.PNG)\n",
    "\n",
    "<div style=\"margin-left: -100px;\">\n",
    "    \n",
    "| Step | Summary &nbsp;of &nbsp;Order &nbsp;Execution|\n",
    "|-|--------------------------------|\n",
    "|&nbsp;&nbsp;<span style=\"color: red;\"><strong>1</strong></span>| &nbsp;&nbsp;&nbsp;&nbsp;&nbsp;&nbsp;&nbsp;&nbsp;&nbsp;&nbsp;&nbsp;&nbsp;&nbsp;<code style=\"background-color: #c2fff8;\">Line  <strong>1</strong>:   Define  <span style=\"color: red;\">\"my_decorator\"</span></code>  |\n",
    "|&nbsp;&nbsp;<span style=\"color: red;\"><strong>2</strong></span>| &nbsp;&nbsp;&nbsp;&nbsp;&nbsp;&nbsp;&nbsp;&nbsp;&nbsp;&nbsp;&nbsp;&nbsp;&nbsp;<code style=\"background-color: #c2fff8;\">Line <strong>16</strong>:   Apply  <span style=\"color: red;\">@my_decorator</span>  to  <span style=\"color: red;\">say_hello</span></code> |\n",
    "|&nbsp;&nbsp;<span style=\"color: red;\"><strong>3</strong></span>| &nbsp;&nbsp;&nbsp;&nbsp;&nbsp;&nbsp;&nbsp;&nbsp;&nbsp;&nbsp;&nbsp;&nbsp;&nbsp;<code style=\"background-color: #c2fff8;\">Line <strong>17</strong>:   Define  <span style=\"color: red;\">say_hello</span>  <font size=\"3px;\">( </font>triggers  <span style=\"color: blue;\"><font size=\"3px;\"><strong>my_decorator(say_hello)</strong></font></span><font size=\"3px;\"> )</font></code>|\n",
    "|&nbsp;&nbsp;<span style=\"color: red;\"><strong>4</strong></span>| &nbsp;&nbsp;&nbsp;&nbsp;&nbsp;&nbsp;&nbsp;&nbsp;&nbsp;&nbsp;&nbsp;&nbsp;&nbsp;<code style=\"background-color: #c2fff8;\">Line  <strong>2</strong>:   Define  <span style=\"color: red;\">wrapper</span>  inside  <span style=\"color: red;\">my_decorator</span></code>\n",
    "|&nbsp;&nbsp;<span style=\"color: red;\"><strong>5</strong></span>| &nbsp;&nbsp;&nbsp;&nbsp;&nbsp;&nbsp;&nbsp;&nbsp;&nbsp;&nbsp;&nbsp;&nbsp;&nbsp;<code style=\"background-color: #c2fff8;\">Line <strong>13</strong>:   Return  <span style=\"color: red;\">wrapper</span>  from  <span style=\"color: red;\">my_decorator</span> |\n",
    "|&nbsp;&nbsp;<span style=\"color: red;\"><strong>6</strong></span>| &nbsp;&nbsp;&nbsp;&nbsp;&nbsp;&nbsp;&nbsp;&nbsp;&nbsp;&nbsp;&nbsp;&nbsp;&nbsp;<code style=\"background-color: #c2fff8;\">Line <strong>22</strong>:   Call  <span style=\"color: red;\">say_hello()</span>,  executing  <span style=\"color: red;\">wrapper</span> |\n",
    "|&nbsp;&nbsp;<span style=\"color: red;\"><strong>7</strong></span>| &nbsp;&nbsp;&nbsp;&nbsp;&nbsp;&nbsp;&nbsp;&nbsp;&nbsp;&nbsp;&nbsp;&nbsp;&nbsp;<code style=\"background-color: #c2fff8;\">Line  <strong>4</strong>:   Execute  \"<u>print</u>\"  before  the  function  call  in  <span style=\"color: red;\">wrapper</span></code> |\n",
    "|&nbsp;&nbsp;<span style=\"color: red;\"><strong>8</strong></span>| &nbsp;&nbsp;&nbsp;&nbsp;&nbsp;&nbsp;&nbsp;&nbsp;&nbsp;&nbsp;&nbsp;&nbsp;&nbsp;<code style=\"background-color: #c2fff8;\">Line  <strong>7</strong>:   Call  original  <span style=\"color: red;\">say_hello</span>  ( <span style=\"color: red;\">func()</span> )</code>|\n",
    "|&nbsp;&nbsp;<span style=\"color: red;\"><strong>9</strong></span>| &nbsp;&nbsp;&nbsp;&nbsp;&nbsp;&nbsp;&nbsp;&nbsp;&nbsp;&nbsp;&nbsp;&nbsp;&nbsp;<code style=\"background-color: #c2fff8;\">Line <strong>18</strong>:   Execute  \"<u>print</u>\"  in  <span style=\"color: red;\">say_hello</span></code>|\n",
    "|&nbsp;&nbsp;<span style=\"color: red;\"><strong>10</strong></span>| &nbsp;&nbsp;&nbsp;&nbsp;&nbsp;&nbsp;&nbsp;&nbsp;&nbsp;&nbsp;&nbsp;&nbsp;&nbsp;<code style=\"background-color: #c2fff8;\">Line <strong>10</strong>:   Execute  \"<u>print</u>\"  after  the  function  call  in  <span style=\"color: red;\">wrapper</span></code>|\n",
    "|&nbsp;&nbsp;<span style=\"color: red;\"><strong>11</strong></span>| &nbsp;&nbsp;&nbsp;&nbsp;&nbsp;&nbsp;&nbsp;&nbsp;&nbsp;&nbsp;&nbsp;&nbsp;&nbsp;<code style=\"background-color: #c2fff8;\">Line <strong>12</strong>:   Return  from  <span style=\"color: red;\">wrapper</span></code>|\n",
    "</div>\n",
    "\n",
    "\n",
    "<br><br>\n",
    "\n",
    "---\n",
    "\n",
    "<br>\n",
    "\n",
    "4 pillars of OOP :\n",
    "\n",
    "<div style=\"margin-left: 70px;\">\n",
    "\n",
    "![](media/Shraddha_Kapra_oops_6.PNG)\n",
    "\n",
    "</div>"
   ]
  },
  {
   "cell_type": "markdown",
   "id": "858c3b9d-be10-40a5-9270-876f188bb30f",
   "metadata": {
    "jp-MarkdownHeadingCollapsed": true
   },
   "source": [
    "<br><br>\n",
    "\n",
    "### <span style=\"color: blue\">Abstraction</span>\n"
   ]
  },
  {
   "cell_type": "markdown",
   "id": "29411a0f-ab0d-47ee-9fe0-86f71f59d076",
   "metadata": {},
   "source": [
    "\n",
    "<div style=\"background-color: #ffe0b0; padding: 10px;\">\n",
    "<code style=\"background-color: #ffe0b0;\">Hiding the implementation (unnecessary) details of a class and only showing the essential features to the user</code>\n",
    "</div>\n"
   ]
  },
  {
   "cell_type": "code",
   "execution_count": 77,
   "id": "7941f948-6b29-4a3e-991f-6c762638c2b5",
   "metadata": {},
   "outputs": [
    {
     "name": "stdout",
     "output_type": "stream",
     "text": [
      "car started...\n"
     ]
    }
   ],
   "source": [
    "\n",
    "class Car:\n",
    "    # CONSTRUCTOR\n",
    "    def __init__(self):           \n",
    "        self.acc = False          #  accelerator       =====>        acc     =  Instance Attribute\n",
    "        self.brk = False          #  break             =====>        brk     =  Instance Attribute\n",
    "        self.clutch = False       #  clutch            =====>        clutch  =  Instance Attribute\n",
    "\n",
    "    # INSTANCE  METHOD\n",
    "    def start(self):\n",
    "        self.clutch = True    \n",
    "        self.acc = True\n",
    "        print(\"car started...\")\n",
    "    \n",
    "    \n",
    "car1 = Car()\n",
    "car1.start()     # To start the car, we do not need to care about clutch and accelarator. Just start it using start() function.\n",
    "    "
   ]
  },
  {
   "cell_type": "markdown",
   "id": "79f05930-4146-4aee-af5e-23563283a260",
   "metadata": {
    "jp-MarkdownHeadingCollapsed": true
   },
   "source": [
    "<br><br>\n",
    "\n",
    "### <span style=\"color: blue\">Encapsulation</span>\n"
   ]
  },
  {
   "cell_type": "markdown",
   "id": "01e67e70-2f58-48be-ba75-3f0f189eca92",
   "metadata": {},
   "source": [
    "\n",
    "<div style=\"background-color: #ffe0b0; padding: 10px;\">\n",
    "<code style=\"background-color: #ffe0b0;\">Wrapping <span style=\"color: red;\"><strong><u>data</u></strong></span> & related <span style=\"color: blue;\"><strong><u>functions</u></strong></span> into a single unit (object) like a capsule.</code>\n",
    "</div>\n",
    "\n",
    "<br>\n",
    "\n",
    "&nbsp;&nbsp;&nbsp;( <span style=\"color: red;\">data</span> &nbsp;+&nbsp; <span style=\"color: blue;\">function</span> ) &nbsp;inside a **capsule**  &nbsp;&nbsp;&nbsp;&nbsp;===>&nbsp;&nbsp;&nbsp;&nbsp;( <span style=\"color: red;\">attributes</span> &nbsp;+&nbsp; <span style=\"color: blue;\">methods</span> )&nbsp; inside a **class**  &nbsp;&nbsp;&nbsp;&nbsp;===>&nbsp;&nbsp;&nbsp;&nbsp; an **object** has it's &nbsp;<u>related <span style=\"color: red;\">data</span></u>&nbsp; & &nbsp;<u>related <span style=\"color: blue;\">functions</span></u>&nbsp; wrapped inside it.\n",
    "    \n",
    "\n",
    "<br><br>\n",
    "\n",
    "**Let's &nbsp; Practice**\n",
    "\n",
    "<pre style=\"background-color: yellow;\">\n",
    "    \n",
    "    1. Create Account class with 2 attributes - <u>balance</u>  &  <u>account no</u>.\n",
    "    \n",
    "    2. Create methods for <u>debit</u>,  <u>credit</u>  &  <u>printing the balance</u>.\n",
    "    \n",
    "    3. Create Transaction class with a method for transferring money from one account to another.\n",
    "    \n",
    "</pre>\n",
    "\n",
    "<br>\n",
    "\n",
    "<font size=\"+1\">↳</font>&nbsp; 1. &nbsp;<code style=\"background-color: yellow;\">Create Account class with 2 attributes - <u>balance</u>  &  <u>account no</u>.</code>"
   ]
  },
  {
   "cell_type": "code",
   "execution_count": 78,
   "id": "809c8487-c9ed-4141-8874-f94589f0e915",
   "metadata": {},
   "outputs": [
    {
     "name": "stdout",
     "output_type": "stream",
     "text": [
      "Account Number  = AC10001\n",
      "Account Balance = 50000\n"
     ]
    }
   ],
   "source": [
    "\n",
    "class Account:\n",
    "    def __init__(self, acc, bal):\n",
    "        self.account_no = acc\n",
    "        self.balance = bal\n",
    "\n",
    "\n",
    "# an object of class Account with the name acc1 is created\n",
    "acc1 = Account(\"AC10001\", 50000)    # This object acc1 has all the data & functions wrapped in it ===> acc, bal, __init__()\n",
    "\n",
    "print(\"Account Number  =\", acc1.account_no)              # Output:  Account Number  = AC10001\n",
    "print(\"Account Balance =\", acc1.balance)                 # Output:  Account Balance = 50000\n"
   ]
  },
  {
   "cell_type": "markdown",
   "id": "04219407-5dd6-4d91-aee2-cd63bde68d41",
   "metadata": {},
   "source": [
    "<br>\n",
    "\n",
    "<font size=\"+1\">↳</font>&nbsp; 2. &nbsp;<code style=\"background-color: yellow;\">Create methods for  <u>debit</u>,  <u>credit</u>  &  <u>printing the balance</u>.</code>"
   ]
  },
  {
   "cell_type": "code",
   "execution_count": 79,
   "id": "396731fb-6a78-471c-b92c-bb1719950bbe",
   "metadata": {},
   "outputs": [
    {
     "name": "stdout",
     "output_type": "stream",
     "text": [
      "Account Number  = AC10001\n",
      "Account Balance = 50000\n",
      "\n",
      "\n",
      "Rs. 1000  was  debited  from  your  account  AC10001\n",
      "Total  Balance  =  Rs. 49000\n",
      "\n",
      "\n",
      "Rs. 40000  was  credited  from  your  account  AC10001\n",
      "Total Balance = Rs. 89000\n",
      "\n",
      "\n",
      "Rs. 7000  was  debited  from  your  account  AC10001\n",
      "Total  Balance  =  Rs. 82000\n",
      "\n",
      "\n",
      "Insufficient  amount  to  debit  Rs. 500000000  from  account AC10001\n"
     ]
    }
   ],
   "source": [
    "\n",
    "class Account:\n",
    "    def __init__(self, acc, bal):                                                                            # CONSTRCUTOR\n",
    "        self.account_no = acc\n",
    "        self.balance = bal\n",
    "\n",
    "    def credit(self, amount):                                                                                # INSTANCE  METHOD\n",
    "        self.balance = self.balance + amount\n",
    "        print(\"Rs.\", amount, \" was  credited  from  your  account \", self.account_no)\n",
    "        print(\"Total Balance = Rs.\", self.get_balance())\n",
    "\n",
    "    def debit(self, amount):                                                                                 # INSTANCE  METHOD\n",
    "        if amount > self.balance:\n",
    "            print(\"Insufficient  amount  to  debit  Rs.\", amount, \" from  account\", self.account_no)\n",
    "        else:\n",
    "            self.balance = self.balance - amount\n",
    "            print(\"Rs.\", amount, \" was  debited  from  your  account \", self.account_no)\n",
    "            print(\"Total  Balance  =  Rs.\", self.get_balance())\n",
    "\n",
    "    def get_balance(self):                                                                                    # INSTANCE  METHOD\n",
    "        return self.balance\n",
    "\n",
    "\n",
    "# an object of class Account with the name acc1 is created\n",
    "acc1 = Account(\"AC10001\", 50000)    # It has all the data & related functions wrapped in it  ==>  acc, bal, __init__(), credit(), debit(), get_balance()\n",
    "\n",
    "print(\"Account Number  =\", acc1.account_no)             \n",
    "print(\"Account Balance =\", acc1.get_balance())\n",
    "\n",
    "print(\"\\n\")\n",
    "acc1.debit(1000)                    # To debit Rs.1000 from account acc1\n",
    "print(\"\\n\")\n",
    "acc1.credit(40000)                  # To credit Rs.40000 from account acc1\n",
    "print(\"\\n\")\n",
    "acc1.debit(7000)                    # To debit Rs.7000 from account acc1\n",
    "print(\"\\n\")\n",
    "acc1.debit(500000000)               # To debit Rs. 50 crores from account acc1\n"
   ]
  },
  {
   "cell_type": "markdown",
   "id": "c48e5b96-9051-4911-9d95-cbd0f6723173",
   "metadata": {},
   "source": [
    "<br>\n",
    "\n",
    "<div style=\"background-color: #ffe0b0; padding: 10px;\">\n",
    "    \n",
    "<strong>Note</strong> &nbsp;- <code style=\"background-color: #ffe0b0;\">We could have kept <strong><span style=\"color: blue;\">credit()</span></strong>, <strong><span style=\"color: blue;\">debit()</span></strong> and <strong><span style=\"color: blue;\">get_balance()</span></strong> functions separately. But for that we would have to use different different types of data structures to store related data for different different accounts and manage them differently. So, it's better to <u>wrap them together in a <span style=\"color: red;\">capsule</span> called <span style=\"color: red;\">object</span></u>.</code>\n",
    "    \n",
    "<code style=\"background-color: #ffaecb;\">Also, by now you must have understood why we use <strong><u>Class</u></strong> and <strong><u>Object</u></strong> concept in real-life scenarios to logically organize our code in a structured manner.</code>\n",
    "</div>\n",
    "\n",
    "<br>\n",
    "\n"
   ]
  },
  {
   "cell_type": "markdown",
   "id": "a85ab975-de5e-41bb-abd9-1939bc913c86",
   "metadata": {},
   "source": [
    "<br>\n",
    "\n",
    "<font size=\"+1\">↳</font>&nbsp; 3. &nbsp;<code style=\"background-color: yellow;\">Create Transaction class with a method for transfering money from one account to another.</code>\n",
    "\n",
    "<span style=\"background-color: #fd002e; color: white;\">&nbsp;&nbsp;Step - 1&nbsp;&nbsp;</span>\n"
   ]
  },
  {
   "cell_type": "code",
   "execution_count": 80,
   "id": "63cd1c71-b03e-4eec-bcdd-e2df4bf71013",
   "metadata": {},
   "outputs": [
    {
     "name": "stdout",
     "output_type": "stream",
     "text": [
      "Account to be debited     :  AC10005\n",
      "Account to be credited    :  AC10001\n",
      "Ammount to be transferred :  20000\n",
      "\n",
      "\n"
     ]
    },
    {
     "ename": "AttributeError",
     "evalue": "'str' object has no attribute 'balance'",
     "output_type": "error",
     "traceback": [
      "\u001b[1;31m---------------------------------------------------------------------------\u001b[0m",
      "\u001b[1;31mAttributeError\u001b[0m                            Traceback (most recent call last)",
      "Cell \u001b[1;32mIn[80], line 45\u001b[0m\n\u001b[0;32m     43\u001b[0m \u001b[38;5;28mprint\u001b[39m(\u001b[38;5;124m\"\u001b[39m\u001b[38;5;124mAmmount to be transferred : \u001b[39m\u001b[38;5;124m\"\u001b[39m, txn1\u001b[38;5;241m.\u001b[39mtransfer_amount)\n\u001b[0;32m     44\u001b[0m \u001b[38;5;28mprint\u001b[39m(\u001b[38;5;124m\"\u001b[39m\u001b[38;5;130;01m\\n\u001b[39;00m\u001b[38;5;124m\"\u001b[39m)\n\u001b[1;32m---> 45\u001b[0m \u001b[43mtxn1\u001b[49m\u001b[38;5;241;43m.\u001b[39;49m\u001b[43mtransfer\u001b[49m\u001b[43m(\u001b[49m\u001b[43m)\u001b[49m\n",
      "Cell \u001b[1;32mIn[80], line 31\u001b[0m, in \u001b[0;36mTransaction.transfer\u001b[1;34m(self)\u001b[0m\n\u001b[0;32m     30\u001b[0m \u001b[38;5;28;01mdef\u001b[39;00m \u001b[38;5;21mtransfer\u001b[39m(\u001b[38;5;28mself\u001b[39m):                                                                                             \u001b[38;5;66;03m# INSTANCE  METHOD\u001b[39;00m\n\u001b[1;32m---> 31\u001b[0m     \u001b[43mAccount\u001b[49m\u001b[38;5;241;43m.\u001b[39;49m\u001b[43mdebit\u001b[49m\u001b[43m(\u001b[49m\u001b[38;5;28;43mself\u001b[39;49m\u001b[38;5;241;43m.\u001b[39;49m\u001b[43mdebit_account\u001b[49m\u001b[43m,\u001b[49m\u001b[43m \u001b[49m\u001b[38;5;28;43mself\u001b[39;49m\u001b[38;5;241;43m.\u001b[39;49m\u001b[43mtransfer_amount\u001b[49m\u001b[43m)\u001b[49m         \u001b[38;5;66;03m# debiting money from debit_account\u001b[39;00m\n\u001b[0;32m     32\u001b[0m     Account\u001b[38;5;241m.\u001b[39mcredit(\u001b[38;5;28mself\u001b[39m\u001b[38;5;241m.\u001b[39mcredit_account, \u001b[38;5;28mself\u001b[39m\u001b[38;5;241m.\u001b[39mtransfer_amount)\n",
      "Cell \u001b[1;32mIn[80], line 12\u001b[0m, in \u001b[0;36mAccount.debit\u001b[1;34m(self, amount)\u001b[0m\n\u001b[0;32m     11\u001b[0m \u001b[38;5;28;01mdef\u001b[39;00m \u001b[38;5;21mdebit\u001b[39m(\u001b[38;5;28mself\u001b[39m, amount):                                                                                        \u001b[38;5;66;03m# INSTANCE  METHOD\u001b[39;00m\n\u001b[1;32m---> 12\u001b[0m     \u001b[38;5;28;01mif\u001b[39;00m amount \u001b[38;5;241m>\u001b[39m \u001b[38;5;28;43mself\u001b[39;49m\u001b[38;5;241;43m.\u001b[39;49m\u001b[43mbalance\u001b[49m:\n\u001b[0;32m     13\u001b[0m         \u001b[38;5;28mprint\u001b[39m(\u001b[38;5;124m\"\u001b[39m\u001b[38;5;124mInsufficient  funds  to  debit  Rs.\u001b[39m\u001b[38;5;124m\"\u001b[39m, amount, \u001b[38;5;124m\"\u001b[39m\u001b[38;5;124m from  account\u001b[39m\u001b[38;5;124m\"\u001b[39m, \u001b[38;5;28mself\u001b[39m\u001b[38;5;241m.\u001b[39maccount_no)\n\u001b[0;32m     14\u001b[0m     \u001b[38;5;28;01melse\u001b[39;00m:\n",
      "\u001b[1;31mAttributeError\u001b[0m: 'str' object has no attribute 'balance'"
     ]
    }
   ],
   "source": [
    "\n",
    "class Account:\n",
    "    def __init__(self, acc, bal):                                                                                   # CONSTRUCTOR\n",
    "        self.account_no = acc\n",
    "        self.balance = bal\n",
    "\n",
    "    def credit(self, amount):                                                                                       # INSTANCE  METHOD\n",
    "        self.balance = self.balance + amount\n",
    "        print(\"Rs.\", amount, \" was  credited  from  your  account \", self.account_no)\n",
    "        print(\"Total Balance = Rs.\", self.get_balance())\n",
    "\n",
    "    def debit(self, amount):                                                                                        # INSTANCE  METHOD\n",
    "        if amount > self.balance:\n",
    "            print(\"Insufficient  funds  to  debit  Rs.\", amount, \" from  account\", self.account_no)\n",
    "        else:\n",
    "            self.balance = self.balance - amount\n",
    "            print(\"Rs.\", amount, \" was  debited  from  your  account \", self.account_no)\n",
    "            print(\"Total  Balance  =  Rs.\", self.get_balance())\n",
    "\n",
    "    def get_balance(self):                                                                                          # INSTANCE  METHOD\n",
    "        return self.balance\n",
    "\n",
    "\n",
    "\n",
    "class Transaction:\n",
    "    def __init__(self, debit_account, credit_account, amount):                                                      # CONSTRUCTOR\n",
    "        self.debit_account = debit_account          # account to be debited\n",
    "        self.credit_account = credit_account        # account to be credited\n",
    "        self.transfer_amount = amount               # amount to be transferred\n",
    "\n",
    "    def transfer(self):                                                                                             # INSTANCE  METHOD\n",
    "        Account.debit(self.debit_account, self.transfer_amount)         # debiting money from debit_account\n",
    "        Account.credit(self.credit_account, self.transfer_amount)       # crediting money into credit_account\n",
    "\n",
    "\n",
    "\n",
    "acc1 = Account(\"AC10001\", 50000)                                  # This  account  object  acc1  has  all  the  data  &  functions  wrapped  in  it\n",
    "acc2 = Account(\"AC10005\", 120000)                                 # This  account  object  acc2  has  all  the  data  &  functions  wrapped  in  it\n",
    "txn1 = Transaction(acc2.account_no, acc1.account_no, 20000)       # This  account  object  txn1  has  all  the  data  &  functions  wrapped  in  it\n",
    "\n",
    "\n",
    "print(\"Account to be debited     : \", txn1.debit_account)\n",
    "print(\"Account to be credited    : \", txn1.credit_account)\n",
    "print(\"Ammount to be transferred : \", txn1.transfer_amount)\n",
    "print(\"\\n\")\n",
    "txn1.transfer()\n"
   ]
  },
  {
   "cell_type": "markdown",
   "id": "696bbcdd-8dc1-49a0-8042-e5f2665ac2b6",
   "metadata": {},
   "source": [
    "<br>\n",
    "\n",
    "<div style=\"margin-left: 100px;\">\n",
    "\n",
    "![](media/oops_1.PNG)\n",
    "    \n",
    "</div>\n",
    "\n",
    "<br>\n",
    "\n",
    "Instead of passing &nbsp;<code style=\"color: red;\">debit_account</code>&nbsp; and &nbsp;<code style=\"color: red;\">credit_account</code>&nbsp; as account numbers of **string type** in &nbsp;<code style=\"color: blue;\">transfer()</code> method, let's pass them as **objects of account type** :\n",
    "\n",
    "<div style=\"margin-left: 80px;\">\n",
    "\n",
    "![](media/Shraddha_Kapra_oops_7.PNG)\n",
    "\n",
    "</div>\n",
    "\n",
    "<span style=\"background-color: #fd002e; color: white;\">&nbsp;&nbsp;Step - 2&nbsp;&nbsp;</span>"
   ]
  },
  {
   "cell_type": "code",
   "execution_count": 81,
   "id": "fe50117b-a5d0-4003-98d1-bf8b9516b8bd",
   "metadata": {},
   "outputs": [
    {
     "name": "stdout",
     "output_type": "stream",
     "text": [
      "Account to be debited     :  <__main__.Account object at 0x0000025879399450>\n",
      "Account to be credited    :  <__main__.Account object at 0x00000258793CF510>\n",
      "Ammount to be transferred :  20000\n",
      "\n",
      "\n",
      "Rs. 20000  was  debited  from  your  account  AC10005\n",
      "Total  Balance  =  Rs. 100000\n",
      "Rs. 20000  was  credited  from  your  account  AC10001\n",
      "Total Balance = Rs. 70000\n"
     ]
    }
   ],
   "source": [
    "\n",
    "class Account:\n",
    "    def __init__(self, acc, bal):                                                                                    # CONSTRUCTOR\n",
    "        self.account_no = acc\n",
    "        self.balance = bal\n",
    "\n",
    "    def credit(self, amount):                                                                                        # INSTANCE  METHOD\n",
    "        self.balance = self.balance + amount\n",
    "        print(\"Rs.\", amount, \" was  credited  from  your  account \", self.account_no)\n",
    "        print(\"Total Balance = Rs.\", self.get_balance())\n",
    "\n",
    "    def debit(self, amount):                                                                                         # INSTANCE  METHOD\n",
    "        if amount > self.balance:\n",
    "            print(\"Insufficient  funds  to  debit  Rs.\", amount, \" from  account\", self.account_no)\n",
    "        else:\n",
    "            self.balance = self.balance - amount\n",
    "            print(\"Rs.\", amount, \" was  debited  from  your  account \", self.account_no)\n",
    "            print(\"Total  Balance  =  Rs.\", self.get_balance())\n",
    "\n",
    "    def get_balance(self):                                                                                            # INSTANCE  METHOD\n",
    "        return self.balance\n",
    "\n",
    "\n",
    "class Transaction:\n",
    "    def __init__(self, debit_account, credit_account, amount):                                                        # CONSTRUCTOR\n",
    "        self.debit_account = debit_account          # account to be debited\n",
    "        self.credit_account = credit_account        # account to be credited\n",
    "        self.transfer_amount = amount               # amount to be transferred\n",
    "\n",
    "    def transfer(self):                                                                                               # INSTANCE METHOD\n",
    "        Account.debit(self.debit_account, self.transfer_amount)         # debiting money from debit_account\n",
    "        Account.credit(self.credit_account, self.transfer_amount)       # crediting money into credit_account\n",
    "        \n",
    "\n",
    "\n",
    "acc1 = Account(\"AC10001\", 50000)           # creating Account object acc1\n",
    "acc2 = Account(\"AC10005\", 120000)          # creating Account object acc2\n",
    "txn1 = Transaction(acc2, acc1, 20000)      # passing parameters acc2 & acc1 as Account objects in order to create a Transaction object txn1\n",
    "\n",
    "\n",
    "print(\"Account to be debited     : \", txn1.debit_account)\n",
    "print(\"Account to be credited    : \", txn1.credit_account)\n",
    "print(\"Ammount to be transferred : \", txn1.transfer_amount)\n",
    "print(\"\\n\")\n",
    "txn1.transfer()\n"
   ]
  },
  {
   "cell_type": "markdown",
   "id": "bb63e777-5c9b-4838-8a12-d147d7e90671",
   "metadata": {
    "jp-MarkdownHeadingCollapsed": true
   },
   "source": [
    "<br><br>\n",
    "\n",
    "### <span style=\"color: blue\">del</span> &nbsp;keyword\n"
   ]
  },
  {
   "cell_type": "markdown",
   "id": "e3fd8d53-4827-437d-997c-a9717e3d0696",
   "metadata": {},
   "source": [
    "<div style=\"background-color: #ffe0b0; padding: 10px;\">\n",
    "&nbsp;<code style=\"background-color: #ffe0b0;\">It is used to <strong><span style=\"color: red;\">delete</span></strong> <u>object properties</u> or <u>object itself</u>. \n",
    "<br>&nbsp;It frees space from memory. </code><br><br>\n",
    "\n",
    "<pre>\n",
    "    \n",
    "    <span style=\"color: green;\"><strong>del</strong></span> s1          <span style=\"color: #a19f9a;\"># deleting the object itself</span>\n",
    "    <span style=\"color: green;\"><strong>del</strong></span> s1.<span style=\"color: blue;\">name</span>     <span style=\"color: #a19f9a;\"># deleting the  object attribute \"name\" itself</span>\n",
    "    \n",
    "</pre>\n",
    "    \n",
    "</div>"
   ]
  },
  {
   "cell_type": "code",
   "execution_count": 60,
   "id": "599321b6-6c7f-4795-86ec-35afc58d5379",
   "metadata": {},
   "outputs": [
    {
     "name": "stdout",
     "output_type": "stream",
     "text": [
      "<__main__.Student object at 0x000001FA3D219E50>\n"
     ]
    }
   ],
   "source": [
    "\n",
    "class Student:\n",
    "    def __init__(self, name):\n",
    "        self.name = name\n",
    "\n",
    "\n",
    "s1 = Student(\"Avinash\")\n",
    "\n",
    "print(s1)\n"
   ]
  },
  {
   "cell_type": "code",
   "execution_count": 61,
   "id": "342efda6-00e4-4af6-a1fb-ddcc1136c9ac",
   "metadata": {},
   "outputs": [
    {
     "ename": "NameError",
     "evalue": "name 's1' is not defined",
     "output_type": "error",
     "traceback": [
      "\u001b[1;31m---------------------------------------------------------------------------\u001b[0m",
      "\u001b[1;31mNameError\u001b[0m                                 Traceback (most recent call last)",
      "Cell \u001b[1;32mIn[61], line 3\u001b[0m\n\u001b[0;32m      1\u001b[0m \u001b[38;5;28;01mdel\u001b[39;00m s1\n\u001b[1;32m----> 3\u001b[0m \u001b[38;5;28mprint\u001b[39m(\u001b[43ms1\u001b[49m)\n",
      "\u001b[1;31mNameError\u001b[0m: name 's1' is not defined"
     ]
    }
   ],
   "source": [
    "\n",
    "del s1\n",
    "\n",
    "print(s1)\n"
   ]
  },
  {
   "cell_type": "markdown",
   "id": "7e285106-e26d-4515-b8ca-9d8184fed8e5",
   "metadata": {},
   "source": [
    "<br>\n",
    "\n",
    "<strong>Let's &nbsp;take &nbsp;another &nbsp;example &nbsp;:</strong>"
   ]
  },
  {
   "cell_type": "code",
   "execution_count": 64,
   "id": "eb2126ca-ee1b-4c28-a97e-e790f3ae4101",
   "metadata": {},
   "outputs": [
    {
     "name": "stdout",
     "output_type": "stream",
     "text": [
      "value of  'a' = 5\n",
      "address of 'a' = 140705176544168\n"
     ]
    }
   ],
   "source": [
    "\n",
    "a = 5      # variable  \"a\"  is actually an object\n",
    "\n",
    "print(\"value of  'a' =\", a)\n",
    "print(\"address of 'a' =\", id(a))\n"
   ]
  },
  {
   "cell_type": "code",
   "execution_count": 65,
   "id": "e6daf85e-8b59-47d8-b99d-897ef32c9e08",
   "metadata": {},
   "outputs": [
    {
     "ename": "NameError",
     "evalue": "name 'a' is not defined",
     "output_type": "error",
     "traceback": [
      "\u001b[1;31m---------------------------------------------------------------------------\u001b[0m",
      "\u001b[1;31mNameError\u001b[0m                                 Traceback (most recent call last)",
      "Cell \u001b[1;32mIn[65], line 3\u001b[0m\n\u001b[0;32m      1\u001b[0m \u001b[38;5;28;01mdel\u001b[39;00m a      \u001b[38;5;66;03m# deleting the object  \"a\"  using  del  keyword\u001b[39;00m\n\u001b[1;32m----> 3\u001b[0m \u001b[38;5;28mprint\u001b[39m(\u001b[43ma\u001b[49m)\n",
      "\u001b[1;31mNameError\u001b[0m: name 'a' is not defined"
     ]
    }
   ],
   "source": [
    "\n",
    "del a      # deleting the object  \"a\"  using  del  keyword\n",
    "\n",
    "print(a)\n"
   ]
  },
  {
   "cell_type": "markdown",
   "id": "239ec0ec-43f2-4c67-868c-1b19875596e2",
   "metadata": {
    "jp-MarkdownHeadingCollapsed": true
   },
   "source": [
    "<br><br>\n",
    "\n",
    "### <span style=\"color: blue\">Private (like)</span> &nbsp;attributes &nbsp;& &nbsp;methods\n"
   ]
  },
  {
   "cell_type": "markdown",
   "id": "5d05f092-648e-4d75-9b59-2ccaf18044b7",
   "metadata": {},
   "source": [
    "<br>\n",
    "\n",
    "<div style=\"margin-left: 320px;\">\n",
    "\n",
    "![](media/Shraddha_Kapra_oops_8.PNG)\n",
    "\n",
    "</div>\n",
    "\n",
    "<div style=\"background-color: #ffe0b0; padding: 10px;\">\n",
    "<code style=\"background-color: #ffe0b0;\"><u><span style=\"background-color: yellow;\"><strong>Conceptual Implementation in Python</strong></span></u>   ===>   use <span style=\"background-color: #010fed; color: white;\"><i>double underscore</i> ( __ )</span> in the prefix to make an <u>attribute</u> or a <u>method</u> &nbsp;<span style=\"background-color: black;color: white;\"><strong>private</strong></span></code> <br><br>\n",
    "\n",
    "<pre>\n",
    "    \n",
    "    <span style=\"color: blue;\">__atrributename</span>\n",
    "    \n",
    "    <span style=\"color: blue;\">__methodname</span>\n",
    "\n",
    "</pre>\n",
    "\n",
    "<br>\n",
    "\n",
    "&nbsp;&nbsp;&nbsp;&nbsp;&nbsp;&nbsp;&nbsp;&nbsp;&nbsp;&nbsp;&nbsp;🔶 &nbsp;&nbsp;<code style=\"background-color: #ffe0b0;\"><span style=\"background-color: black;color: white;\"><strong>private</strong></span> attributes & methods are meant to be <u>used only within the class</u> and are <u>not accessible from outside the class</u>.</code>\n",
    "\n",
    "&nbsp;&nbsp;&nbsp;&nbsp;&nbsp;&nbsp;&nbsp;&nbsp;&nbsp;&nbsp;&nbsp;🔶 &nbsp;&nbsp;<code style=\"background-color: #ffe0b0;\">We use it to avoid sensitive informations from leaking to an unauthorized person.</code>\n",
    "\n",
    "</div>\n",
    "\n",
    "<br><br>\n",
    "\n",
    "<div style=\"background-color: #ffe0b0; padding: 10px;\">\n",
    "\n",
    "<code style=\"background-color: #ffe0b0;\">However, the authorized person <u>can access</u> a <span style=\"background-color: black;color: white;\"><strong>private attribute</strong></span> or a <span style=\"background-color: black;color: white;\"><strong>private method</strong></span> <u>from outside the class</u> by prefixing a <span style=\"background-color: #ff0023; color: white;\"><i>single underscore</i> ( _ )</span> followed by the class name ( i.e, <span style=\"background-color: #ff0023; color: white;\">_Classname</span> ) to the <span style=\"color: #010fed;\">__attributename</span> or <span style=\"color: #010fed;\">__methodname</span></code> <br><br>\n",
    "\n",
    "<pre>\n",
    "    \n",
    "    <span style=\"color: red;\">_Classname<span style=\"color: blue;\">__atrributename</span>\n",
    "\n",
    "    <span style=\"color: red;\">_Classname<span style=\"color: blue;\">__methodname</span>\n",
    "\n",
    "</pre>\n",
    "\n",
    "</div>\n",
    "\n",
    "<br><br>\n",
    "\n",
    "Let us consider the following example:\n"
   ]
  },
  {
   "cell_type": "code",
   "execution_count": 37,
   "id": "92f45803-0430-480b-93e0-e9563236e60c",
   "metadata": {},
   "outputs": [
    {
     "name": "stdout",
     "output_type": "stream",
     "text": [
      "12345\n",
      "abcde\n"
     ]
    }
   ],
   "source": [
    "\n",
    "class Account:\n",
    "    \n",
    "    # CONSTRUCTOR\n",
    "    def __init__(self, acc_no, acc_pass):\n",
    "        self.acc_no = acc_no\n",
    "        self.acc_pass = acc_pass\n",
    "\n",
    "\n",
    "acc1 = Account(\"12345\", \"abcde\")     # object  acc1  of  Account  type  is  created\n",
    "\n",
    "print(acc1.acc_no)                   # acc_no  is  accessible  outside  the  Account  class\n",
    "print(acc1.acc_pass)                 # acc_pass  is  accessible  outside  the  Account  class\n"
   ]
  },
  {
   "cell_type": "markdown",
   "id": "46a772d4-3070-4a50-a0fc-6bbfcdcee65f",
   "metadata": {},
   "source": [
    "<br>\n",
    "\n",
    "<code style=\"background-color: white; color: #ff00b9;\">As you can see <code style=\"color: #ff00b9; background-color: #c0fff8;\"><strong>acc_pass</strong></code> is <u>accessible outside the Account class</u>, which is not safe.</code>\n",
    "\n",
    "<code style=\"background-color: white;\">Let's make it <span style=\"color: red;\"><u>private</u></span>.</code>\n"
   ]
  },
  {
   "cell_type": "code",
   "execution_count": 38,
   "id": "ae8541f8-aec4-4ac2-bcf1-ff98cd4978f2",
   "metadata": {},
   "outputs": [
    {
     "name": "stdout",
     "output_type": "stream",
     "text": [
      "12345\n"
     ]
    },
    {
     "ename": "AttributeError",
     "evalue": "'Account' object has no attribute '__acc_pass'",
     "output_type": "error",
     "traceback": [
      "\u001b[1;31m---------------------------------------------------------------------------\u001b[0m",
      "\u001b[1;31mAttributeError\u001b[0m                            Traceback (most recent call last)",
      "Cell \u001b[1;32mIn[38], line 11\u001b[0m\n\u001b[0;32m      8\u001b[0m acc1 \u001b[38;5;241m=\u001b[39m Account(\u001b[38;5;124m\"\u001b[39m\u001b[38;5;124m12345\u001b[39m\u001b[38;5;124m\"\u001b[39m, \u001b[38;5;124m\"\u001b[39m\u001b[38;5;124mabcde\u001b[39m\u001b[38;5;124m\"\u001b[39m)          \u001b[38;5;66;03m# object  acc1  of  Account  type  is  created\u001b[39;00m\n\u001b[0;32m     10\u001b[0m \u001b[38;5;28mprint\u001b[39m(acc1\u001b[38;5;241m.\u001b[39macc_no)      \u001b[38;5;66;03m# Output: 12345   ==========================================>   acc_no  is  accessible  outside  the  Account  class\u001b[39;00m\n\u001b[1;32m---> 11\u001b[0m \u001b[38;5;28mprint\u001b[39m(\u001b[43macc1\u001b[49m\u001b[38;5;241;43m.\u001b[39;49m\u001b[43m__acc_pass\u001b[49m)  \u001b[38;5;66;03m# ERROR: 'Account' object has no attribute '__acc_pass'  ===>   acc_pass  is  no  more  accessible  outside  the  Account  class\u001b[39;00m\n",
      "\u001b[1;31mAttributeError\u001b[0m: 'Account' object has no attribute '__acc_pass'"
     ]
    }
   ],
   "source": [
    "\n",
    "class Account:\n",
    "\n",
    "    # CONSTRUCTOR\n",
    "    def __init__(self, acc_no, acc_pass):\n",
    "        self.acc_no = acc_no\n",
    "        self.__acc_pass = acc_pass        # setting the acc_pass as private attribute\n",
    "\n",
    "acc1 = Account(\"12345\", \"abcde\")          # object  acc1  of  Account  type  is  created\n",
    "\n",
    "print(acc1.acc_no)      # Output: 12345   ==========================================>   acc_no  is  accessible  outside  the  Account  class\n",
    "print(acc1.__acc_pass)  # ERROR: 'Account' object has no attribute '__acc_pass'  ===>   acc_pass  is  no  more  accessible  outside  the  Account  class\n"
   ]
  },
  {
   "cell_type": "markdown",
   "id": "6050a8a3-8238-43ce-b54e-b4f13376e5c1",
   "metadata": {},
   "source": [
    "<br>\n",
    "\n",
    "<code style=\"background-color: white; color: #ff00b9;\">As you can see <code style=\"color: #ff00b9; background-color: #c0fff8;\"><strong>__acc_pass</strong></code> is now <u>not accessible outside the Account class</u>.</code>\n",
    "\n",
    "<br>\n",
    "\n",
    "<div style=\"background-color: #ffe0b0; padding: 10px;\">\n",
    "<code style=\"background-color:  #ffe0b0;\">However remember, it may not be directly accessible outside the class, but we can still access it <u>indirectly</u> from outside the class.</code> <br><br>\n",
    "\n",
    "<code style=\"background-color:  #ffe0b0;\">There are <u>2 methods</u> of accessing a <span style=\"background-color: black;color: white;\"><strong>private attribute</strong></span> from outside the class :</code>  <br>\n",
    "\n",
    "&nbsp;&nbsp;&nbsp;&nbsp;&nbsp;&nbsp;&nbsp;&nbsp;&nbsp;&nbsp;(1) &nbsp;using &nbsp;<strong><code style=\"background-color: white\"><span style=\"color: red;\">_Classname</span><span style=\"color: blue;\">__attributename</span></code></strong>  <br>\n",
    "\n",
    "&nbsp;&nbsp;&nbsp;&nbsp;&nbsp;&nbsp;&nbsp;&nbsp;&nbsp;&nbsp;(2) <code style=\"background-color: #ffe0b0;\">first accessing the <u>private attribute</u> using a <u>public method</u> within the class\n",
    "&nbsp;&nbsp;&nbsp;&nbsp;&nbsp;&nbsp;&nbsp;&nbsp;&nbsp;& then calling that <u>public method</u> outside the class to access that <u>private attribute</u></code>\n",
    "\n",
    "</div>\n",
    "\n",
    "<br><br>\n",
    "\n",
    "<font size=\"+1\">↳</font> &nbsp;<code>using &nbsp;method - 1</code>\n"
   ]
  },
  {
   "cell_type": "code",
   "execution_count": 86,
   "id": "37568766-93cb-4b73-ae63-ed69e561f1e5",
   "metadata": {},
   "outputs": [
    {
     "name": "stdout",
     "output_type": "stream",
     "text": [
      "12345\n",
      "abcde\n"
     ]
    }
   ],
   "source": [
    "\n",
    "class Account:\n",
    "    def __init__(self, acc_no, acc_pass):      #    CONSTRUCTOR     ====>     public    instance    method\n",
    "        self.acc_no = acc_no                   #    acc_no          ====>     public    instance    attribute\n",
    "        self.__acc_pass = acc_pass             #    __acc_pass      ====>     private   instance    attribute\n",
    "\n",
    "\n",
    "acc1 = Account(\"12345\", \"abcde\")               # object  acc1  of  Account  type  is  created\n",
    "\n",
    "print(acc1.acc_no)                             # Output: 12345       ======>       \"acc_no\"        is  accessible  from  outside  the  Account  class\n",
    "\n",
    "# METHOD - 1\n",
    "print(acc1._Account__acc_pass)                 # Output: abcde       ======>       \"__acc_pass\"    is  accessible  from  outside  the  Account  class\n"
   ]
  },
  {
   "cell_type": "markdown",
   "id": "a678adda-691f-49aa-8d7f-3a82e07d06d3",
   "metadata": {},
   "source": [
    "<br>\n",
    "\n",
    "<font size=\"+1\">↳</font> &nbsp;<code>using &nbsp;method - 2</code>"
   ]
  },
  {
   "cell_type": "code",
   "execution_count": 90,
   "id": "35c365e6-f0f5-4dcc-9874-6a1a04c46610",
   "metadata": {},
   "outputs": [
    {
     "name": "stdout",
     "output_type": "stream",
     "text": [
      "12345\n",
      "abcde\n",
      "abcde\n"
     ]
    }
   ],
   "source": [
    "\n",
    "class Account:\n",
    "    def __init__(self, acc_no, acc_pass):     #    CONSTRUCTOR       ====>      public    instance    method\n",
    "        self.acc_no = acc_no                  #    acc_no            ====>      public    instance    attribute\n",
    "        self.__acc_pass = acc_pass            #    __acc_pass        ====>      private   instance    attribute\n",
    "\n",
    "    def reset_pass(self):                     #    reset_pass()      ====>      public    instance    method\n",
    "        print(self.__acc_pass)\n",
    "\n",
    "\n",
    "acc1 = Account(\"12345\", \"abcde\")    # object  acc1  of  Account  type  is  created\n",
    "\n",
    "print(acc1.acc_no)                  # Output: 12345     ====>     \"acc_no\"        is  accessible  outside  the  Account  class\n",
    "\n",
    "# METHOD - 1\n",
    "print(acc1._Account__acc_pass)      # Output: abcde     ====>     \"__acc_pass\"    is  accessible  from  outside  the  Account  class\n",
    "\n",
    "# METHOD - 2\n",
    "acc1.reset_pass()                   # Output: abcde     ====>     \"__acc_pass\"    is accessible  from  outside  the  Account class  using  reset_pass()\n"
   ]
  },
  {
   "cell_type": "markdown",
   "id": "a76c3989-14d5-4122-bf2f-099c386d12b2",
   "metadata": {},
   "source": [
    "<br>\n",
    "\n",
    "<code style=\"background-color: white; color: #ff00b9;\">As you can see <code style=\"color: #ff00b9; background-color: #c0fff8;\"><strong>__acc_pass</strong></code> <u>is still accessible from outside the Account class</u> <code style=\"background-color: #c0fff8; color: #ff00b9;\">using the <span style=\"font-size: 1.01rem\"><strong>public instance method</strong></span> <span style=\"color: blue;\">reset_pass()</span></code></code>\n",
    "\n",
    "<code style=\"background-color: white; color: #ff00b9;\">If you want to stop this indirect access, then you should make the <span style=\"color: blue;\">reset_pass()</span> too a <span style=\"background-color: black;color: white;\"><strong>private method</strong></span></code>"
   ]
  },
  {
   "cell_type": "code",
   "execution_count": 88,
   "id": "639c6739-4115-48d0-9a2a-57721003a023",
   "metadata": {},
   "outputs": [
    {
     "name": "stdout",
     "output_type": "stream",
     "text": [
      "12345\n",
      "abcde\n"
     ]
    },
    {
     "ename": "AttributeError",
     "evalue": "'Account' object has no attribute '__reset_pass'",
     "output_type": "error",
     "traceback": [
      "\u001b[1;31m---------------------------------------------------------------------------\u001b[0m",
      "\u001b[1;31mAttributeError\u001b[0m                            Traceback (most recent call last)",
      "Cell \u001b[1;32mIn[88], line 14\u001b[0m\n\u001b[0;32m     12\u001b[0m \u001b[38;5;28mprint\u001b[39m(acc1\u001b[38;5;241m.\u001b[39macc_no)                   \u001b[38;5;66;03m# Output:   12345       =========>      \"acc_no\"        is  accessible  outside  the  Account  class\u001b[39;00m\n\u001b[0;32m     13\u001b[0m \u001b[38;5;28mprint\u001b[39m(acc1\u001b[38;5;241m.\u001b[39m_Account__acc_pass)       \u001b[38;5;66;03m# Output:   abcde       =========>      \"__acc_pass\"    is  accessible  from  outside  the  Account  class\u001b[39;00m\n\u001b[1;32m---> 14\u001b[0m \u001b[43macc1\u001b[49m\u001b[38;5;241;43m.\u001b[39;49m\u001b[43m__reset_pass\u001b[49m()                  \u001b[38;5;66;03m# ERROR :   AttributeError: 'Account' object has no attribute '__reset_pass'\u001b[39;00m\n",
      "\u001b[1;31mAttributeError\u001b[0m: 'Account' object has no attribute '__reset_pass'"
     ]
    }
   ],
   "source": [
    "\n",
    "class Account:\n",
    "    def __init__(self, acc_no, acc_pass):    #    CONSTRUCTOR        ====>     public    instance    method\n",
    "        self.acc_no = acc_no                 #    acc_no             ====>     public    instance    attribute\n",
    "        self.__acc_pass = acc_pass           #    __acc_pass         ====>     private   instance    attribute\n",
    "\n",
    "    def __reset_pass(self):                  #    __reset_pass()     ====>     private   instance    method\n",
    "        print(self.__acc_pass)\n",
    "\n",
    "\n",
    "acc1 = Account(\"12345\", \"abcde\")     # object  acc1  of  Account  type  is  created\n",
    "\n",
    "print(acc1.acc_no)                   # Output:   12345       =========>      \"acc_no\"        is  accessible  outside  the  Account  class\n",
    "print(acc1._Account__acc_pass)       # Output:   abcde       =========>      \"__acc_pass\"    is  accessible  from  outside  the  Account  class\n",
    "acc1.__reset_pass()                  # ERROR :   AttributeError: 'Account' object has no attribute '__reset_pass'\n"
   ]
  },
  {
   "cell_type": "markdown",
   "id": "ae585167-8c22-4e4a-80ca-24fd15185b67",
   "metadata": {},
   "source": [
    "<br>\n",
    "\n",
    "<code style=\"background-color: white; color: #ff00b9;\">However, you still can access the private method <span style=\"color: blue;\">__reset_pass()</span> from outside the class using &nbsp;<strong><code style=\"font-size: 1.001rem\"><span style=\"color: red;\">_Classname</span><span style=\"color: blue;\">__methodname</span></code></code></strong> <br><br>\n",
    "<code style=\"background-color: white;\">Let see how?</code>\n"
   ]
  },
  {
   "cell_type": "code",
   "execution_count": 89,
   "id": "d793a966-d15b-4e87-b6d8-4bb154d7a430",
   "metadata": {},
   "outputs": [
    {
     "name": "stdout",
     "output_type": "stream",
     "text": [
      "12345\n",
      "abcde\n",
      "abcde\n"
     ]
    }
   ],
   "source": [
    "\n",
    "class Account:\n",
    "    def __init__(self, acc_no, acc_pass):    #    CONSTRUCTOR        ====>     public    instance   method\n",
    "        self.acc_no = acc_no                 #    acc_no             ====>     public    instance   attribute\n",
    "        self.__acc_pass = acc_pass           #    __acc_pass         ====>     private   instance   attribute\n",
    "\n",
    "    def __reset_pass(self):                  #    __reset_pass()     ====>     private   instance   method\n",
    "        print(self.__acc_pass)\n",
    "\n",
    "\n",
    "acc1 = Account(\"12345\", \"abcde\")     # object  acc1  of  Account  type  is  created\n",
    "\n",
    "print(acc1.acc_no)                   # Output:   12345       =========>      \"acc_no\"        is  accessible  outside  the  Account  class\n",
    "print(acc1._Account__acc_pass)       # Output:   abcde       =========>      \"__acc_pass\"    is  accessible  from  outside  the  Account  class\n",
    "acc1._Account__reset_pass()          # Output:   abcde       =========>      \"__acc_pass\"    is  accessible  from  outside  the  Account  class\n"
   ]
  },
  {
   "cell_type": "markdown",
   "id": "a7477e6b-4dd7-45e8-9057-e28374adafb4",
   "metadata": {},
   "source": [
    "<br>\n",
    "\n",
    "<code style=\"background-color:  white;\">You might be thinking if <code>we can't use a <span style=\"background-color: black; color: white;\">private method</span> outside the class without prefixing the <span style=\"color: red;\">_Classname</span> to it</code>, then where do we actually use it as it is? Why did this concept come into being in the first place?</code>  \n",
    "\n",
    "<br>\n",
    "\n",
    "<font size=\"+1\">⭐</font>&nbsp;<strong>Note :</strong> &nbsp;&nbsp;<code style=\"background-color:  #ffe0b0;\">Actually we use a <span style=\"color: blue;\">private method</span> internally within a class <u>by some other methods</u>.</code></code>  \n",
    "\n",
    "<br>\n",
    "\n",
    "<code  style=\"background-color: white; color: #ff00b9;\">Let us consider a situation where you (the Account object <code>acc1</code>) can only apply for reseting the password by making a request, <u>but you can't do it by yourself</u>.</code>"
   ]
  },
  {
   "cell_type": "code",
   "execution_count": 92,
   "id": "8daa3c49-fb0d-4fe6-b6e2-dca6c6edfd1f",
   "metadata": {},
   "outputs": [
    {
     "name": "stdout",
     "output_type": "stream",
     "text": [
      "12345\n",
      "abcde\n",
      "abcde\n",
      "============================================================================================================================================\n",
      "User authentication successful\n",
      "abcde\n",
      "Password changed successfully\n"
     ]
    }
   ],
   "source": [
    "\n",
    "class Account:\n",
    "    def __init__(self, acc_no, acc_pass):          #   CONSTRUCTOR         ====>     public   instance  method\n",
    "        self.acc_no = acc_no                       #   acc_no              ====>     public   instance  attribute\n",
    "        self.__acc_pass = acc_pass                 #   __acc_pass          ====>     private  instance  attribute\n",
    "\n",
    "    \n",
    "    def __reset_pass(self):                        #   __reset_pass()      ====>     private  instance  method\n",
    "        print(self.__acc_pass)\n",
    "\n",
    "    \n",
    "    def apply_for_reset(self):                     #  apply_for_reset()    ====>     public  instance  method\n",
    "        print(\"User authentication successful\")\n",
    "        self.__reset_pass()                        # calling  __reset_pass()  in  another  method  within  the  same  class\n",
    "        print(\"Password changed successfully\")\n",
    "\n",
    "\n",
    "acc1 = Account(\"12345\", \"abcde\")       # object  acc1  of  Account  type  is  created\n",
    "\n",
    "print(acc1.acc_no)                     # Output:   12345       =========>      \"acc_no\"        is  accessible  outside  the  Account  class\n",
    "print(acc1._Account__acc_pass)         # Output:   abcde       =========>      \"__acc_pass\"    is  accessible  from  outside  the  Account  class\n",
    "acc1._Account__reset_pass()            # Output:   abcde       =========>      \"__acc_pass\"    is  accessible  from  outside  the  Account  class\n",
    "print(\"============================================================================================================================================\")\n",
    "acc1.apply_for_reset()                 # Output:   User authentication successful\n",
    "                                       #           abcde\n",
    "                                       #           Password changed successfully\n"
   ]
  },
  {
   "cell_type": "markdown",
   "id": "4ec446d3-c612-4749-b7d6-f983b9f8dbd9",
   "metadata": {},
   "source": [
    "<br>\n",
    "\n",
    "<code style=\"background-color: white; color: #ff00b9;\">As you can see, <code style=\"background-color: white; color: blue;\">apply_for_reset()</code> method can directly access the <span style=\"background-color: black; color: white;\">private method</span> <code style=\"background-color: white; color: blue;\">__reset_pass()</code> <u>without having to prefix</u> &nbsp;<code style=\"background-color: #afffed; color: red; font-size: 1.01rem\"><strong>_Classname</strong></code>&nbsp; to it, because <u>both methods are within the same class</u>.</code>\n",
    "\n",
    "<br>\n",
    "\n",
    "<code style=\"background-color: white;\">Let us consider another example where a person <u>can welcome but not say hello</u>. That is, the object <code style=\"background-color: #e5e5e5;\">p1</code> can access <code style=\"color: blue; background-color: white;\">welcome()</code> method but not <code style=\"color: blue; background-color: white;\">_hello()</code> method ( obviously it can be accessed using <code style=\"background-color: white;\"><span style=\"color: red;\">_Person</span><span style=\"color: blue\">__hello()</span></code> but we are not talking about that here ).</code>"
   ]
  },
  {
   "cell_type": "code",
   "execution_count": 16,
   "id": "0a33e56f-d10d-4ab5-a021-d78899d09fbb",
   "metadata": {},
   "outputs": [
    {
     "name": "stdout",
     "output_type": "stream",
     "text": [
      "hello person!\n",
      "hello person!\n"
     ]
    }
   ],
   "source": [
    "\n",
    "class Person:\n",
    "    \n",
    "    __name = \"anonymous\"              # private  class  attribute\n",
    "    nickname = \"unknown\"              # public   class  attribute\n",
    "\n",
    "    # PRIVATE  instance  method\n",
    "    def __hello(self):\n",
    "        print(\"hello person!\")\n",
    "\n",
    "    # PUBLIC  instance  method\n",
    "    def welcome(self):\n",
    "        self.__hello()                # private  method  __hello()  cannot  be  accessed  directly  from   outside  the  class\n",
    "\n",
    "\n",
    "p1 = Person()\n",
    "\n",
    "p1._Person__hello()     # Output:  hello person!    ===>   _Person__hello()  method  is  accessible  from  outside  the  class,  not  __hello()  method\n",
    "\n",
    "p1.welcome()            # Output:  hello person!\n"
   ]
  },
  {
   "cell_type": "markdown",
   "id": "2c824c9a-ad03-45b0-910e-63b4b80c53da",
   "metadata": {},
   "source": [
    "<br>\n",
    "\n",
    "<code style=\"background-color: white;\">Since <code style=\"background-color: #e4ecea; color: blue;\">nickname</code> is a <code style=\"background-color: #e4ecea;\"><span style=\"font-size: 1.01rem;\"><i>public class attribute</i></span></code>, so <code style=\"background-color: #e4ecea;\">whenever an object <span style=\"color: red;\">p1</span> of Person class is created it already has access to that <code style=\"background-color: #e5e5e5;\"><span style=\"font-size: 1.01rem;\"><i>public class attribute</i></span></code> <span style=\"color: blue;\">nickname</span></code></code>\n"
   ]
  },
  {
   "cell_type": "code",
   "execution_count": 14,
   "id": "c7aca853-b6e8-41b9-9b05-841f306402e6",
   "metadata": {},
   "outputs": [
    {
     "data": {
      "text/plain": [
       "'unknown'"
      ]
     },
     "execution_count": 14,
     "metadata": {},
     "output_type": "execute_result"
    }
   ],
   "source": [
    "\n",
    "p1.nickname\n"
   ]
  },
  {
   "cell_type": "markdown",
   "id": "6201c860-e623-4fa0-98d2-20f2f21c9263",
   "metadata": {},
   "source": [
    "<br>\n",
    "\n",
    "<div style=\"background-color: #a0ffec; padding: 10px;\">\n",
    "<code style=\"background-color: #a0ffec;\">However, an object <u>cannot access</u> a</code> <strong>private class attribute</strong>. &nbsp;<code style=\"background-color: #a0ffec;\">Let' see how:</code>\n",
    "</div>\n",
    "\n",
    "<br>"
   ]
  },
  {
   "cell_type": "code",
   "execution_count": 115,
   "id": "f8520a22-8f6d-4ab9-afe4-112bf88815ef",
   "metadata": {},
   "outputs": [
    {
     "ename": "AttributeError",
     "evalue": "'Person' object has no attribute '__name'",
     "output_type": "error",
     "traceback": [
      "\u001b[1;31m---------------------------------------------------------------------------\u001b[0m",
      "\u001b[1;31mAttributeError\u001b[0m                            Traceback (most recent call last)",
      "Cell \u001b[1;32mIn[115], line 1\u001b[0m\n\u001b[1;32m----> 1\u001b[0m \u001b[43mp1\u001b[49m\u001b[38;5;241;43m.\u001b[39;49m\u001b[43m__name\u001b[49m\n",
      "\u001b[1;31mAttributeError\u001b[0m: 'Person' object has no attribute '__name'"
     ]
    }
   ],
   "source": [
    "\n",
    "p1.__name\n"
   ]
  },
  {
   "cell_type": "markdown",
   "id": "d307cde4-c9d0-4767-ba64-588998af9c6d",
   "metadata": {},
   "source": [
    "<br>\n",
    "\n",
    "<div style=\"margin-left: 150px;\">\n",
    "\n",
    "![](media/Shraddha_Kapra_oops_16.PNG)\n",
    "\n",
    "</div>\n",
    "\n",
    "<br>\n",
    "\n",
    "<code style=\"background-color: white;\">As you can see the <code style=\"background-color: #e5e5e5;\"><span style=\"font-size: 1.01rem;\"><i>person object</i></span> &nbsp;<code style=\"background-color: #e5e5e5; color: red;\">p1</code></code> cannot access the <code style=\"background-color: #e5e5e5;\"><span style=\"font-size: 1.01rem;\"><i>private class attribute</i></span> <code style=\"background-color: #e5e5e5; color: blue;\">__name</code></code> which is rightly so, but then how to access the <code style=\"background-color: #e5e5e5;\"><span style=\"font-size: 1.01rem;\"><i>private class attribute</i></span></code> and in which scenario is it used?</code>\n",
    "\n",
    "<br>\n",
    "\n",
    "<div style=\"background-color: #a0ffec; padding: 10px;\">\n",
    "<br>\n",
    "<code style=\"background-color:  #a0ffec;\"><span style=\"font-size: 1.01rem\"><strong>Private Class Attribute</strong></span> is used <u>within the class itself</u> and can be accessed like <strong><span style=\"background-color: white; color: red;\">&nbsp;Classname.<span style=\"color: blue;\">classmethodname</span>&nbsp;</span></strong> </code><br><br>\n",
    "</div>\n",
    "\n",
    "<br><br>\n",
    "\n",
    "<div style=\"margin-left: 135px;\">\n",
    "    \n",
    "<code>Person.<span style=\"color: blue;\">__name</span></code>  &nbsp;&nbsp;&nbsp;====>&nbsp;&nbsp;&nbsp;  <code style=\"background-color: white;\">accessing a <u>private class method</u> is possible <span style=\"font-size: 1.001rem\"><strong>only within the same class</strong></span> Person</code>\n",
    "\n",
    "</div>\n",
    "\n",
    "<br>\n",
    "\n",
    "<div style=\"margin-left: 50px;\">\n",
    "\n",
    "![](media/Shraddha_Kapra_oops_17.PNG)\n",
    "\n",
    "</div>"
   ]
  },
  {
   "cell_type": "code",
   "execution_count": 31,
   "id": "33222606-3ca1-4fa3-b9db-bb96e0908624",
   "metadata": {},
   "outputs": [
    {
     "name": "stdout",
     "output_type": "stream",
     "text": [
      "hello anonymous!\n",
      "hello anonymous!\n"
     ]
    },
    {
     "data": {
      "text/plain": [
       "'unknown'"
      ]
     },
     "execution_count": 31,
     "metadata": {},
     "output_type": "execute_result"
    }
   ],
   "source": [
    "\n",
    "class Person:\n",
    "\n",
    "    __name = \"anonymous\"              # private  class  attribute\n",
    "    nickname = \"unknown\"              # public   class  attribute\n",
    "\n",
    "    # PRIVATE  instance  method\n",
    "    def __hello(self):\n",
    "        print(f\"hello {Person.__name}!\")      #  Person.__name    ==>   accessing private class attribute is possible only withing the same class Person\n",
    "\n",
    "    # PUBLIC  instance  method\n",
    "    def welcome(self):\n",
    "        self.__hello()                # private  method  __hello()  cannot  be  accessed  directly  from   outside  the  class\n",
    "\n",
    "\n",
    "\n",
    "p1 = Person()\n",
    "\n",
    "p1._Person__hello()   # Output:  hello anonymous!   <===   since  private  method  __hello()  is  not  accessible  from  outside  the  class \n",
    "\n",
    "p1.welcome()          # Output:  hello anonymous!   <===   private  method  __hello()  is  accessible  by an  object  through  public  method  welcome()\n",
    "\n",
    "p1.nickname           # Output: 'unknown'           <===   public  class  attribute  nickname  is  always  accessible  outside  the  class\n"
   ]
  },
  {
   "cell_type": "markdown",
   "id": "37d1ba86-340a-4675-b253-77dbb7f32ce8",
   "metadata": {
    "jp-MarkdownHeadingCollapsed": true
   },
   "source": [
    "<br><br>\n",
    "\n",
    "### <span style=\"color: blue\">Inheritance</span>\n"
   ]
  },
  {
   "cell_type": "markdown",
   "id": "4b892f2d-81d8-46f0-9e28-fb65e99d406f",
   "metadata": {},
   "source": [
    "\n",
    "<div style=\"background-color: #ffe0b0; padding: 10px;\">\n",
    "When &nbsp;one &nbsp;class &nbsp;( &nbsp;<code style=\"background-color: #b3fff9;\">child</code> &nbsp;/ &nbsp;<code style=\"background-color: #b3fff9;\">derived</code> &nbsp;) &nbsp;<strong>derives &nbsp;the &nbsp;properties &nbsp;& &nbsp;methods</strong> &nbsp;of &nbsp;another &nbsp;class &nbsp;( &nbsp;<code style=\"background-color: #b3fff9;\">parent</code> &nbsp;/ &nbsp;<code style=\"background-color: #b3fff9;\">base</code> &nbsp;) <br><br>\n",
    "\n",
    "<pre>\n",
    "\n",
    "    <span style=\"color: green\">class</span> <span style=\"color: blue;\">Car</span>:\n",
    "        ...\n",
    "\n",
    "    \n",
    "    <span style=\"color: green\">class</span> <span style=\"color: blue;\">ToyotaCar(<span style=\"color: red;\">Car</span>)</span>:\n",
    "        ...\n",
    "\n",
    "</pre>\n",
    "    \n",
    "</div>\n",
    "\n",
    "<br>\n",
    "\n"
   ]
  },
  {
   "cell_type": "code",
   "execution_count": 37,
   "id": "08d330ac-a00e-4bf4-9770-56c7dbad7898",
   "metadata": {},
   "outputs": [
    {
     "name": "stdout",
     "output_type": "stream",
     "text": [
      "fortuner\n",
      "['black', 'white', 'red']\n",
      "car started..\n",
      "car stopped.\n"
     ]
    }
   ],
   "source": [
    "\n",
    "# PARENT\n",
    "class Car:\n",
    "    \n",
    "    color = [\"black\", \"white\", \"red\"]\n",
    "\n",
    "    @staticmethod\n",
    "    def start():\n",
    "        print(\"car started..\")\n",
    "\n",
    "    @ staticmethod\n",
    "    def stop():\n",
    "        print(\"car stopped.\")\n",
    "\n",
    "\n",
    "# CHILD\n",
    "class ToyotaCar(Car):               # The  ToyotaCar  class  inherits  all  the  properties  and  methods  from  the  Car  class\n",
    "\n",
    "    def __init__(self, name):\n",
    "        self.name = name\n",
    "\n",
    "\n",
    "\n",
    "car1 = ToyotaCar(\"fortuner\")\n",
    "car2 = ToyotaCar(\"prius\")\n",
    "\n",
    "\n",
    "print(car1.name)        #  personal    attribute        =====>     Output:   fortuner\n",
    "print(car1.color)       #  inherited   attribute        =====>     Output:   attribute\n",
    "car1.start()            #  inherited   method           =====>     Output:   car started..\n",
    "car1.stop()             #  inherited   method           =====>     Output:   car stopped.\n"
   ]
  },
  {
   "cell_type": "markdown",
   "id": "fbe43ef7-c811-4771-aa32-17dcc7161c2f",
   "metadata": {},
   "source": [
    "<br>\n",
    "\n",
    "The &nbsp;above &nbsp;example &nbsp;is &nbsp;of &nbsp;type &nbsp;<strong><u>Single &nbsp;inheritance</u></strong>\n",
    "\n",
    "<div style=\"margin-left: 320px;\">\n",
    "\n",
    "![](media/Shraddha_Kapra_oops_9.PNG)\n",
    "\n",
    "</div>"
   ]
  },
  {
   "cell_type": "markdown",
   "id": "c45abb8c-e308-4b8a-95c5-4db9cdd67fb7",
   "metadata": {
    "jp-MarkdownHeadingCollapsed": true
   },
   "source": [
    "<br><br>\n",
    "\n",
    "### <span style=\"color: blue\">Types &nbsp;of &nbsp;Inheritance</span>\n"
   ]
  },
  {
   "cell_type": "markdown",
   "id": "82bc057e-7d29-4afa-b334-8e83e5443f5d",
   "metadata": {},
   "source": [
    "1. &nbsp;&nbsp;Single &nbsp;Inheritance\n",
    "2. &nbsp;&nbsp;Multi &nbsp;Level &nbsp;Inheritance\n",
    "3. &nbsp;&nbsp;Multiple &nbsp;Inheritance"
   ]
  },
  {
   "attachments": {},
   "cell_type": "markdown",
   "id": "735c061c-3bc8-4aff-a2b4-2fb0a8da1a22",
   "metadata": {},
   "source": [
    "<br>\n",
    "\n",
    "<strong><font size=\"+1\">Multi &nbsp;&nbsp;Level &nbsp;&nbsp;Inheritance</font></strong>\n",
    "\n",
    "<div style=\"margin-left: 250px;\">\n",
    "\n",
    "![](media/Shraddha_Kapra_oops_10.PNG)\n",
    "\n",
    "</div>\n"
   ]
  },
  {
   "cell_type": "code",
   "execution_count": 39,
   "id": "7efcf2d3-0fcf-4c20-ad24-6a74eee47616",
   "metadata": {},
   "outputs": [
    {
     "name": "stdout",
     "output_type": "stream",
     "text": [
      "diesel\n",
      "['black', 'white', 'red']\n",
      "car started..\n",
      "car stopped.\n"
     ]
    },
    {
     "ename": "AttributeError",
     "evalue": "'Fortuner' object has no attribute 'brand'",
     "output_type": "error",
     "traceback": [
      "\u001b[1;31m---------------------------------------------------------------------------\u001b[0m",
      "\u001b[1;31mAttributeError\u001b[0m                            Traceback (most recent call last)",
      "Cell \u001b[1;32mIn[39], line 35\u001b[0m\n\u001b[0;32m     32\u001b[0m car1\u001b[38;5;241m.\u001b[39mstart()       \u001b[38;5;66;03m#  Output:           car started..                                ===>   car1.start()   is accessible because it's a class method\u001b[39;00m\n\u001b[0;32m     33\u001b[0m car1\u001b[38;5;241m.\u001b[39mstop()        \u001b[38;5;66;03m#  Output:           car stopped.                                 ===>   car1.stop()    is accessible because it's a class method\u001b[39;00m\n\u001b[1;32m---> 35\u001b[0m \u001b[43mcar1\u001b[49m\u001b[38;5;241;43m.\u001b[39;49m\u001b[43mbrand\u001b[49m         \u001b[38;5;66;03m#  AttributeError:   'Fortuner' object has no attribute 'brand'   ===>   car1.brand    is  not  accessible   ===>   WHY?\u001b[39;00m\n",
      "\u001b[1;31mAttributeError\u001b[0m: 'Fortuner' object has no attribute 'brand'"
     ]
    }
   ],
   "source": [
    "\n",
    "# GRAND PARENT\n",
    "class Car:\n",
    "\n",
    "    color = [\"black\", \"white\", \"red\"]\n",
    "    \n",
    "    @staticmethod\n",
    "    def start():\n",
    "        print(\"car started..\")\n",
    "\n",
    "    @ staticmethod\n",
    "    def stop():\n",
    "        print(\"car stopped.\")\n",
    "\n",
    "\n",
    "# PARENT\n",
    "class ToyotaCar(Car):               # The  ToyotaCar  class  inherits  all  the  properties  and  methods  from  the  Car  class\n",
    "    def __init__(self, brand):\n",
    "        self.brand = brand\n",
    "\n",
    "\n",
    "# CHILD\n",
    "class Fortuner(ToyotaCar):          # The  Fortuner  class  inherits  all  the  properties  and  methods  from  both the  Car  &  ToyotaCar  class\n",
    "        def __init__(self, type):\n",
    "            self.type = type\n",
    "\n",
    "\n",
    "car1 = Fortuner(\"diesel\")\n",
    "\n",
    "\n",
    "print(car1.type)   #  Output:           diesel                                       ===>   car1.type      is accessible because it's a child attribute\n",
    "print(car1.color)  #  Output:           ['black', 'white', 'red']                    ===>   car1.color     is accessible because it's a class attribute\n",
    "car1.start()       #  Output:           car started..                                ===>   car1.start()   is accessible because it's a class method\n",
    "car1.stop()        #  Output:           car stopped.                                 ===>   car1.stop()    is accessible because it's a class method\n",
    "\n",
    "car1.brand         #  AttributeError:   'Fortuner' object has no attribute 'brand'   ===>   car1.brand    is  not  accessible   ===>   WHY?\n"
   ]
  },
  {
   "cell_type": "markdown",
   "id": "79fb34d7-90cf-4ead-80ce-05fc996e1f87",
   "metadata": {},
   "source": [
    "<br>\n",
    "\n",
    "<div style=\"background-color: yellow; padding: 10px;\">\n",
    "<strong>brand</strong> is <u>not accessible</u> to the Fortuner object <strong>car1</strong>. &nbsp;&nbsp;&nbsp;&nbsp;WHY?&nbsp;&nbsp;&nbsp;&nbsp; Because it's not a class attribute, rather an <strong>instance attribute</strong> and that too <u>of the <strong>parent</strong> of the car1 object</u>.\n",
    "</div>\n",
    "\n",
    "<br>\n",
    "\n",
    "<div style=\"background-color: #ffe0b0; padding: 10px;\">\n",
    "\n",
    "<font size=\"+1\">⭐</font><code style=\"background-color: #ffe0b0;\">To fix the error, the Fortuner class needs to call the <strong><span style=\"color: red;\">\\_\\_init__</span></strong> method of its superclass ToyotaCar to properly <strong>initialize</strong> the brand attribute. This can be done using <strong><span style=\"color: blue;\"><font size=\"+1\">super()</font></span></strong> method.</code>\n",
    "\n",
    "<br>\n",
    "\n",
    "In Python, **<span style=\"color: blue;\">super( )</span>** is a built-in function that returns a **proxy object**. <u>This proxy object allows you to access methods and properties of a parent or superclass from within a subclass</u>. The primary use of **<span style=\"color: blue;\">super( )</span>** is to extend the functionality of inherited methods, rather than overriding them completely, and to ensure that the proper **method resolution order (MRO)** is followed, especially in **multiple inheritance** scenarios.\n",
    "\n",
    "</div>\n",
    "\n",
    "<br>\n",
    "\n",
    "<br>\n",
    "\n",
    "<div style=\"margin-left: 20px;\">\n",
    "\n",
    "![](media/Shraddha_Kapra_oops_11.PNG)\n",
    "\n",
    "</div>\n"
   ]
  },
  {
   "cell_type": "code",
   "execution_count": 40,
   "id": "23a66006-6ed2-483a-9c27-2d8ef46fa4fa",
   "metadata": {},
   "outputs": [
    {
     "name": "stdout",
     "output_type": "stream",
     "text": [
      "diesel\n",
      "['black', 'white', 'red']\n",
      "car started..\n",
      "car stopped.\n",
      "\n",
      "\n",
      "This car is a Fortuner of Toyota brand & diesel type.\n"
     ]
    }
   ],
   "source": [
    "\n",
    "# GRAND PARENT\n",
    "class Car:\n",
    "\n",
    "    color = [\"black\", \"white\", \"red\"]\n",
    "\n",
    "    @staticmethod\n",
    "    def start():\n",
    "        print(\"car started..\")\n",
    "\n",
    "    @ staticmethod\n",
    "    def stop():\n",
    "        print(\"car stopped.\")\n",
    "\n",
    "\n",
    "# PARENT\n",
    "class ToyotaCar(Car):                     # the  ToyotaCar  class  inherits  all  the  properties  &  methods  from  the  Car  class\n",
    "    def __init__(self, brand):\n",
    "        self.brand = brand\n",
    "\n",
    "\n",
    "# CHILD\n",
    "class Fortuner(ToyotaCar):                # the  Fortuner  class  inherits  all  the  properties  &  methods  from  both  the  Car  &  ToyotaCar  class\n",
    "        def __init__(self, brand, type):\n",
    "            super().__init__(brand)       # calls  the  superclass's  __init__()  method  to  initialize  the  brand  attribute\n",
    "            self.type = type\n",
    "\n",
    "\n",
    "car1 = Fortuner(\"Toyota\", \"diesel\")\n",
    "\n",
    "\n",
    "print(car1.type)      #  Output:      diesel                         =====>    car1.type     is  accessible\n",
    "print(car1.color)     #  Output:      ['black', 'white', 'red']      =====>    car1.color    is  accessible\n",
    "car1.start()          #  Output:      car started..                  =====>    car1.start()  is  accessible\n",
    "car1.stop()           #  Output:      car stopped.                   =====>    car1.stop()   is  accessible\n",
    "car1.brand            #  Output:      'Toyota'                       =====>    car1.brand    is  accessible\n",
    "\n",
    "print(\"\\n\")\n",
    "print(f\"This car is a Fortuner of {car1.brand} brand & {car1.type} type.\")\n"
   ]
  },
  {
   "cell_type": "markdown",
   "id": "fef161cd-558a-4d4e-a611-0fa647cd24a4",
   "metadata": {},
   "source": [
    "<br>\n",
    "\n",
    "<code style=\"background-color: white; color: #ff00b9;\">Now that we know how to use <strong><span style=\"color: blue;\">super()</span></strong>, we can <strong><span style=\"color: black;\">update</span></strong> the <span style=\"background-color: #a3fffc;\">parent <u>attribute</u></span> (<span style=\"color: black;\"><strong>brand</strong></span>) of a <span style=\"background-color: #a3fffc;\">child <u>object</u></span> (<span style=\"color: black;\"><strong>car1</strong></span>) as and when required.</code>\n"
   ]
  },
  {
   "cell_type": "code",
   "execution_count": 45,
   "id": "6c3bc900-e072-488b-bb9c-e305825ee3e1",
   "metadata": {},
   "outputs": [
    {
     "data": {
      "text/plain": [
       "'ToyotaVersion2'"
      ]
     },
     "execution_count": 45,
     "metadata": {},
     "output_type": "execute_result"
    }
   ],
   "source": [
    "\n",
    "car1.brand = \"ToyotaVersion2\"\n",
    "\n",
    "car1.brand\n"
   ]
  },
  {
   "cell_type": "markdown",
   "id": "c95f6bee-2797-48f9-93ef-d456931f0333",
   "metadata": {},
   "source": [
    "<br>\n",
    "\n",
    "<div style=\"background-color: #ffe0b0; padding: 10px;\">\n",
    "    \n",
    "Now&nbsp; that&nbsp; we&nbsp; know&nbsp;, &nbsp;<strong><span style=\"color: blue;\">super( )</span></strong>&nbsp; is&nbsp; used&nbsp; as&nbsp; a&nbsp; method&nbsp; to&nbsp; <strong>initialize</strong>&nbsp; the&nbsp; <u>attributes</u>&nbsp; &&nbsp; <u>methods</u>&nbsp; of&nbsp; the&nbsp; <strong>parent (super class)</strong>&nbsp; of&nbsp; the&nbsp; <strong>child&nbsp; class</strong>&nbsp; you&nbsp; are&nbsp; currently&nbsp; in.   <br><br>\n",
    "<font size=\"+1\">⭐</font>&nbsp;&nbsp;The&nbsp; <strong>next&nbsp; question&nbsp;</strong> that&nbsp; arises&nbsp; is&nbsp; <span style=\"background-color: #cbfffe;\">how&nbsp; to&nbsp; use&nbsp; this&nbsp; <strong><span style=\"color: blue;\">super( )</span></strong>&nbsp; method&nbsp; to&nbsp; <strong>initialize</strong>&nbsp; the&nbsp; <u>attributes</u>&nbsp; &&nbsp; <u>methods</u>&nbsp; of&nbsp; the&nbsp; <strong>grand&nbsp; parent</strong>&nbsp; of&nbsp; the&nbsp; <strong>child&nbsp; class</strong>&nbsp; you&nbsp; are&nbsp; currently&nbsp; in ?</span>\n",
    "\n",
    "</div>\n",
    "\n",
    "<br>\n",
    "\n",
    "<code style=\"background-color: white; color: #ff00b9;\">For example, how to initialize the <span style=\"color: black; background-color: yellow;\"><strong>price</strong></span> attribute (coming from the <span style=\"background-color: #aefffe; color: black;\">grand parent</span>) while creating an <span style=\"background-color: #aefffe; color: black;\">object of Fortuner class</span> ?</code> \n",
    "\n",
    "<br>\n",
    "\n",
    "<code style=\"background-color: white;\">Obviouslty we <strong><span style=\"font-size: 1.04rem;\">can't use</span></strong> <code style=\"background-color: #dfe1e1;\">super().super()</code> like <code style=\"background-color: #dfe1e1;\">super().super().\\_\\_init__(price)</code></code><br>\n",
    "<code style=\"background-color: white;\">So ho will we do it? Let's see how?</code>\n",
    "\n",
    "<br>\n",
    "\n",
    "<div style=\"margin-left: 80px;\">\n",
    "\n",
    "![](media/Shraddha_Kapra_oops_12.PNG)\n",
    "\n",
    "</div>"
   ]
  },
  {
   "cell_type": "code",
   "execution_count": 58,
   "id": "57642100-0263-4893-889f-80dfe0d0a408",
   "metadata": {},
   "outputs": [
    {
     "name": "stdout",
     "output_type": "stream",
     "text": [
      "diesel\n",
      "['black', 'white', 'red']\n",
      "car started..\n",
      "car stopped.\n"
     ]
    },
    {
     "data": {
      "text/plain": [
       "50000"
      ]
     },
     "execution_count": 58,
     "metadata": {},
     "output_type": "execute_result"
    }
   ],
   "source": [
    "\n",
    "class Car:\n",
    "\n",
    "    color = [\"black\", \"white\", \"red\"]\n",
    "\n",
    "    def __init__(self, price):\n",
    "        self.price = price\n",
    "\n",
    "    @staticmethod\n",
    "    def start():\n",
    "        print(\"car started..\")\n",
    "\n",
    "    @ staticmethod\n",
    "    def stop():\n",
    "        print(\"car stopped.\")\n",
    "\n",
    "\n",
    "class ToyotaCar(Car):                              # inherits  all  the  properties  &  methods  from  the  Car  class\n",
    "    def __init__(self, brand, price):\n",
    "        super().__init__(price)                    # to  initialize  the  price ( grandparent class )  attribute\n",
    "        self.brand = brand\n",
    "\n",
    "\n",
    "class Fortuner(ToyotaCar):                         # inherits  all  the  properties  &  methods  from  both  the  Car  &  ToyotaCar  class\n",
    "        def __init__(self, brand, type, price):\n",
    "            super().__init__(brand, price)         # to  initialize  the  brand ( parent  attribute )  &  price ( grandparent  attribute )\n",
    "            self.type = type\n",
    "\n",
    "\n",
    "car1 = Fortuner(\"Toyota\", \"diesel\", 50000)\n",
    "\n",
    "\n",
    "print(car1.type)      #  Output:      diesel                         =====>     car1.type     is  accessible\n",
    "print(car1.color)     #  Output:      ['black', 'white', 'red']      =====>     car1.color    is  accessible\n",
    "car1.start()          #  Output:      car started..                  =====>     car1.start()  is  accessible\n",
    "car1.stop()           #  Output:      car stopped.                   =====>     car1.stop()   is  accessible\n",
    "car1.brand            #  Output:      'Toyota'                       =====>     car1.brand    is  accessible\n",
    "car1.price            #  Output:      50000                          =====>     car1.price    is  accessible\n"
   ]
  },
  {
   "cell_type": "code",
   "execution_count": 51,
   "id": "0d537b99-788c-4ceb-850f-20987cca2ceb",
   "metadata": {},
   "outputs": [
    {
     "data": {
      "text/plain": [
       "9900000"
      ]
     },
     "execution_count": 51,
     "metadata": {},
     "output_type": "execute_result"
    }
   ],
   "source": [
    "\n",
    "car1.price = 9900000     # updating  the  grand  parent  attribute  (price)  of  the  child  object  car1\n",
    "car1.price\n"
   ]
  },
  {
   "cell_type": "markdown",
   "id": "62c50015-d0c1-4f02-9c17-fdae08944df3",
   "metadata": {},
   "source": [
    "<br>\n",
    "\n",
    "<strong><font size=\"+1\">Multiple &nbsp;&nbsp;Inheritance</font></strong>\n",
    "\n",
    "<div style=\"margin-left: 250px;\">\n",
    "\n",
    "![](media/Shraddha_Kapra_oops_13.PNG)\n",
    "\n",
    "</div>\n"
   ]
  },
  {
   "cell_type": "code",
   "execution_count": 90,
   "id": "b28e7533-8f0f-47eb-82c3-881480c1c38f",
   "metadata": {},
   "outputs": [
    {
     "name": "stdout",
     "output_type": "stream",
     "text": [
      "welcome to class C\n",
      "welcome to class B\n",
      "welcome to class A\n"
     ]
    }
   ],
   "source": [
    "\n",
    "class A:\n",
    "    varA = \"welcome to class A\"\n",
    "\n",
    "class B:\n",
    "    varB = \"welcome to class B\"\n",
    "\n",
    "class C(A , B):\n",
    "    varC = \"welcome to class C\"\n",
    "\n",
    "\n",
    "c1 = C()                              #  creating  object  of  class  C\n",
    "\n",
    "print(c1.varC)                        #  varC  is  a  class  attribute  and  hence  accessible  to  the  child  object  c1\n",
    "print(c1.varB)                        #  varB  is  a  class  attribute  and  hence  accessible  to  the  child  object  c1\n",
    "print(c1.varA)                        #  varA  is  a  class  attribute  and  hence  accessible  to  the  child  object  c1\n"
   ]
  },
  {
   "cell_type": "markdown",
   "id": "ee2adf9d-487e-4472-a720-d286826b4e4d",
   "metadata": {},
   "source": [
    "<br>\n",
    "\n",
    "<code style=\"background-color: white; color: #ff00b9;\">Let's take another example :</code>"
   ]
  },
  {
   "cell_type": "code",
   "execution_count": 34,
   "id": "972088d1-87a2-4829-8677-6e05134e0af2",
   "metadata": {},
   "outputs": [
    {
     "name": "stdout",
     "output_type": "stream",
     "text": [
      "Method in D\n",
      "Method in B\n",
      "Method in C\n",
      "Method in A\n"
     ]
    }
   ],
   "source": [
    "\n",
    "class A:\n",
    "    def method(self):\n",
    "        print(\"Method in A\")\n",
    "\n",
    "class B(A):\n",
    "    def method(self):\n",
    "        print(\"Method in B\")\n",
    "        super().method()\n",
    "\n",
    "class C(A):\n",
    "    def method(self):\n",
    "        print(\"Method in C\")\n",
    "        super().method()\n",
    "\n",
    "class D(B, C):\n",
    "    def method(self):\n",
    "        print(\"Method in D\")\n",
    "        super().method()\n",
    "\n",
    "\n",
    "# Create an instance of D and call the method\n",
    "d = D()\n",
    "d.method()\n"
   ]
  },
  {
   "cell_type": "markdown",
   "id": "28b363f0-6cb1-44fa-9a89-3c7a29728aeb",
   "metadata": {},
   "source": [
    "<br>\n",
    "\n",
    "&nbsp;&nbsp;<code style=\"background-color: #fed3ff;\">You must be wondering why the output is <strong><span style=\"font-size: 1.001rem; color: black;\">not</span></strong> like &nbsp;\" <strong><span style=\"font-size: 1.001rem; color: red;\">D</span></strong> &nbsp;===>&nbsp; <strong><span style=\"font-size: 1.001rem; color: red;\">B</span></strong> &nbsp;===>&nbsp; <strong><span style=\"font-size: 1.001rem; color: red;\">A</span></strong> &nbsp;===>&nbsp; <strong><span style=\"font-size: 1.001rem; color: red;\">C</span></strong> \" ?</code> <br>\n",
    "\n",
    "<code style=\"background-color: white;\">It is because something called as <span style=\"font-size: 1.001rem; background-color: yellow;\"><strong>Method Resolution Order</strong></span> in Python.</code>  <br>\n",
    "\n",
    "<div style=\"background-color: #ffe0b0; padding: 10px;\"> <br>\n",
    "\n",
    "The **Method Resolution Order (MRO)** in Python determines &nbsp;<span style=\"color: blue;\"><u>the &nbsp;order &nbsp;in &nbsp;which &nbsp;**base &nbsp;classes** &nbsp;are &nbsp;searched &nbsp;when &nbsp;executing &nbsp;a &nbsp;method</u></span>. &nbsp;In other words, it determines the order in which methods are called. **MRO** is particularly important in cases of **multiple inheritance**, <span style=\"color: red;\"><u><i><span style=\"color: black;\">where a class inherits from more than one **parent class**</span></i></u></span>. <br>\n",
    "\n",
    "---\n",
    "\n",
    "<u><strong><span style=\"color: #73716f;\">How &nbsp;<span style=\"color: black;\">MRO</span> &nbsp;Works?</span></strong></u>\n",
    "\n",
    "In Python, <strong>MRO</strong> follows the &nbsp;<span style=\"color: #ff0124;\">C3 linearization algorithm</span>&nbsp; (also known as <span style=\"color: #ff0124;\">C3 superclass linearization</span>). &nbsp;The <strong>MRO</strong> ensures that:\n",
    "\n",
    "&nbsp;&nbsp;&nbsp;&nbsp;&nbsp;&nbsp;&nbsp;&nbsp;&nbsp;1. &nbsp;<code style=\"color: blue; background-color: #ffe0b0;\">Child classes are considered before parent classes.</code><br>\n",
    "\n",
    "&nbsp;&nbsp;&nbsp;&nbsp;&nbsp;&nbsp;&nbsp;&nbsp;&nbsp;2. &nbsp;<code style=\"color: blue; background-color: #ffe0b0;\">If a class inherits from multiple classes, the order of those parent classes in the inheritance list is respected.</code><br>\n",
    "\n",
    "&nbsp;&nbsp;&nbsp;&nbsp;&nbsp;&nbsp;&nbsp;&nbsp;&nbsp;3. &nbsp;<code style=\"color: blue; background-color: #ffe0b0;\">If a class appears more than once in the hierarchy, it is only considered the first time.</code>\n",
    "\n",
    "</div>\n",
    "\n",
    "<br>\n",
    "\n",
    "<code style=\"background-color: white;\">In this example, the <span style=\"font-size: 1.02rem\"><strong>MRO</strong></span> for <span style=\"font-size: 1.02rem\"><strong>\"D\"</span></strong> would be <span style=\"background-color: yellow;\"> <strong><span style=\"font-size: 1.02rem; color: #ff0032;\">D</span></strong>&nbsp;===>&nbsp;<strong><span style=\"font-size: 1.02rem; color: #ff0032;\">B</span></strong>&nbsp;===>&nbsp;<strong><span style=\"font-size: 1.02rem; color: #ff0032;\">C</span></strong>&nbsp;===>&nbsp;<strong><span style=\"font-size: 1.02rem; color: #ff0032;\">A</span></strong> </span>. The <span style=\"background-color: blue; color: white; font-size: 1.22rem\"><strong> super() </strong></span> calls ensure that methods are called in this order.</code>\n",
    "\n",
    "<br>\n",
    "\n",
    "<div style=\"margin-left: 200px;\">\n",
    "\n",
    "![](media/Shraddha_Kapra_oops_18.PNG)\n",
    "\n",
    "</div>\n",
    "\n",
    "\n",
    "<div style=\"background-color: #d3ffc0; padding: 10px;\"> <br>\n",
    "\n",
    "&nbsp;<u>**Note**</u> &nbsp;&nbsp; - &nbsp;&nbsp; The &nbsp;<span style=\"color: blue; font-size: 1.02rem\"><strong>super( )</strong></span> &nbsp;follows &nbsp;the &nbsp;<strong>MRO</strong> &nbsp;on &nbsp;the &nbsp;basis &nbsp;of &nbsp;<strong>First &nbsp;In &nbsp;First &nbsp;Out</strong> &nbsp;( <span style=\"color: red;\">queue</span> )\n",
    "\n",
    "<br>\n",
    "\n",
    "&nbsp;&nbsp;&nbsp;&nbsp;&nbsp;&nbsp;&nbsp;&nbsp;&nbsp;&nbsp;&nbsp;&nbsp;&nbsp;&nbsp;&nbsp;&nbsp;&nbsp;&nbsp;&nbsp;&nbsp;You &nbsp;can &nbsp;check &nbsp;the &nbsp;<strong>MRO</strong> &nbsp;of &nbsp;any &nbsp;class &nbsp;using &nbsp;the &nbsp;<span style=\"background-color: #8bff59;\"><span style=\"color: red;\"><strong>\\_\\_mro__</strong></span> &nbsp;<strong>attribute</strong></span> &nbsp;or &nbsp;the &nbsp;<span style=\"background-color: #8bff59;\"><span style=\"color: red;\"><strong>mro( )</strong></span> &nbsp;<strong>method</strong></span>:\n",
    "\n",
    "</div>"
   ]
  },
  {
   "cell_type": "code",
   "execution_count": 42,
   "id": "8bb0522a-9308-424d-a22c-8bc26552ab82",
   "metadata": {},
   "outputs": [
    {
     "data": {
      "text/plain": [
       "[__main__.D, __main__.B, __main__.C, __main__.A, object]"
      ]
     },
     "execution_count": 42,
     "metadata": {},
     "output_type": "execute_result"
    }
   ],
   "source": [
    "\n",
    "D.mro()\n"
   ]
  },
  {
   "cell_type": "markdown",
   "id": "c732d971-2019-4123-ace8-2dc5efd72f02",
   "metadata": {},
   "source": [
    "<br>\n",
    "\n",
    "<div style=\"background-color: yellow;\">\n",
    "<font size=\"+1\">⭐</font> <code style=\"background-color: yellow;\">Let's check the</code> <strong>MRO</strong> <code style=\"background-color: yellow;\">of each class in the above example for better understanding of the</code> <strong>Method Resolution Order</strong> : <font size=\"+2\">↴</font></span>\n",
    "</div>"
   ]
  },
  {
   "cell_type": "code",
   "execution_count": 43,
   "id": "b9d12577-e193-43ef-9826-cb313eefd63b",
   "metadata": {},
   "outputs": [
    {
     "name": "stdout",
     "output_type": "stream",
     "text": [
      "[<class '__main__.A'>, <class 'object'>]\n",
      "[<class '__main__.B'>, <class '__main__.A'>, <class 'object'>]\n",
      "[<class '__main__.C'>, <class '__main__.A'>, <class 'object'>]\n",
      "[<class '__main__.D'>, <class '__main__.B'>, <class '__main__.C'>, <class '__main__.A'>, <class 'object'>]\n"
     ]
    }
   ],
   "source": [
    "\n",
    "class A:\n",
    "    def method(self):\n",
    "        print(\"Method in A\")\n",
    "\n",
    "class B(A):\n",
    "    def method(self):\n",
    "        print(\"Method in B\")\n",
    "        super().method()\n",
    "\n",
    "class C(A):\n",
    "    def method(self):\n",
    "        print(\"Method in C\")\n",
    "        super().method()\n",
    "\n",
    "class D(B, C):\n",
    "    def method(self):\n",
    "        print(\"Method in D\")\n",
    "        super().method()\n",
    "\n",
    "\n",
    "print(A.mro())\n",
    "print(B.mro())\n",
    "print(C.mro())\n",
    "print(D.mro())\n"
   ]
  },
  {
   "cell_type": "markdown",
   "id": "cfb5d1ec-ea91-4054-bc18-dae697163113",
   "metadata": {},
   "source": [
    "<br><br>\n",
    "\n",
    "<div style=\"background-color: yellow;\">\n",
    "<font size=\"+1\">⭐</font> <code style=\"background-color: yellow;\">Let's see how this</code> <strong>Method Resolution Order</strong> <code style=\"background-color: yellow;\">works in case we have a</code> <strong>class method</strong> <code style=\"background-color: yellow;\">and an</code> <strong>instance method</strong> <code style=\"background-color: yellow;\">with the <u>same name</u></code> : <font size=\"+2\">↴</font>\n",
    "</div><br>\n",
    "\n",
    "<br>\n",
    "\n",
    "<div style=\"margin-left: 60px;\">\n",
    "<span style=\"background-color: #ffe4ae;\">The &nbsp;<strong>Method &nbsp;Resolution &nbsp;Order</strong> &nbsp;does &nbsp;not &nbsp;work &nbsp;in &nbsp;such &nbsp;case.</span> <code style=\"background-color: white;\">Because in Python, if you define both an <span style=\"color: red;\">instance method</span> and a <span style=\"color: red;\">class method</span> with the <span style=\"background-color: #ffe4ae;\">same name</span> in the <span style=\"background-color: #ffe4ae;\">same class</span>, <span style=\"color: blue;\">the most recently defined method will <span style=\"font-size: 1rem;\"><strong>overwrite</strong></span> the previous one</span>. <br>\n",
    "This means that the <span style=\"color: red;\">class method</span> in the example below <u>overwrites</u> the <span style=\"color: red;\">instance method</span> because they share the <u>same name</u>.</code>\n",
    "</div>\n",
    "\n",
    "<br>\n",
    "\n",
    "<code style=\"background-color: #c5fffb;\">Case-1 : when <u>instance method</u> is overwritten by a <u>class method</u></code>"
   ]
  },
  {
   "cell_type": "code",
   "execution_count": 53,
   "id": "a1be5953-6941-4bc5-bf04-0a3cc1c8564c",
   "metadata": {},
   "outputs": [
    {
     "name": "stdout",
     "output_type": "stream",
     "text": [
      "Class method called\n"
     ]
    }
   ],
   "source": [
    "\n",
    "class MyClass:\n",
    "    def method(self):\n",
    "        print(\"Instance method called\")\n",
    "\n",
    "    @classmethod\n",
    "    def method(cls):\n",
    "        print(\"Class method called\")\n",
    "\n",
    "# Create an instance of MyClass\n",
    "obj = MyClass()\n",
    "\n",
    "# Call the method on the instance\n",
    "obj.method()\n"
   ]
  },
  {
   "cell_type": "code",
   "execution_count": 54,
   "id": "13c1746e-eb13-4f17-8491-ef8fbd5e7c5b",
   "metadata": {},
   "outputs": [
    {
     "name": "stdout",
     "output_type": "stream",
     "text": [
      "Class method called\n"
     ]
    }
   ],
   "source": [
    "\n",
    "MyClass.method()\n"
   ]
  },
  {
   "cell_type": "markdown",
   "id": "2be93696-8eca-4c13-9f5c-93dbbba38fab",
   "metadata": {},
   "source": [
    "<br>\n",
    "\n",
    "<code style=\"background-color: #c5fffb;\">Case-2 : when <u>class method</u> is overwritten by an <u>instance method</u></code>"
   ]
  },
  {
   "cell_type": "code",
   "execution_count": 74,
   "id": "000d0dec-776b-4f6d-933d-fd6c7e80a8e1",
   "metadata": {},
   "outputs": [
    {
     "name": "stdout",
     "output_type": "stream",
     "text": [
      "Instance method called\n"
     ]
    }
   ],
   "source": [
    "\n",
    "class MyClass:\n",
    "    @classmethod\n",
    "    def method(cls):\n",
    "        print(\"Class method called\")\n",
    "\n",
    "    def method(self):\n",
    "        print(\"Instance method called\")\n",
    "\n",
    "# Create an instance of MyClass\n",
    "obj = MyClass()\n",
    "\n",
    "# Call the method on the instance\n",
    "obj.method()\n"
   ]
  },
  {
   "cell_type": "code",
   "execution_count": 75,
   "id": "99940ad5-d5ad-4933-a552-602a127f8884",
   "metadata": {},
   "outputs": [
    {
     "ename": "TypeError",
     "evalue": "MyClass.method() missing 1 required positional argument: 'self'",
     "output_type": "error",
     "traceback": [
      "\u001b[1;31m---------------------------------------------------------------------------\u001b[0m",
      "\u001b[1;31mTypeError\u001b[0m                                 Traceback (most recent call last)",
      "Cell \u001b[1;32mIn[75], line 1\u001b[0m\n\u001b[1;32m----> 1\u001b[0m \u001b[43mMyClass\u001b[49m\u001b[38;5;241;43m.\u001b[39;49m\u001b[43mmethod\u001b[49m\u001b[43m(\u001b[49m\u001b[43m)\u001b[49m\n",
      "\u001b[1;31mTypeError\u001b[0m: MyClass.method() missing 1 required positional argument: 'self'"
     ]
    }
   ],
   "source": [
    "\n",
    "MyClass.method()\n"
   ]
  },
  {
   "cell_type": "code",
   "execution_count": 76,
   "id": "a0b069a0-3f59-4fd1-b25d-2dd9a95c826a",
   "metadata": {},
   "outputs": [
    {
     "name": "stdout",
     "output_type": "stream",
     "text": [
      "Instance method called\n"
     ]
    }
   ],
   "source": [
    "\n",
    "MyClass.method(obj)\n"
   ]
  },
  {
   "cell_type": "markdown",
   "id": "2a743f48-c293-435f-9b92-f625e01c1973",
   "metadata": {},
   "source": [
    "<br>\n",
    "\n",
    "<div style=\"background-color: #ffe4ae;; padding: 10px;\"> \n",
    "<strong>NOTE :</strong>\n",
    "<pre style=\"background-color: #ffe4ae;;\">\n",
    "    \n",
    "use <code style=\"background-color: #ffe4ae;;\"><span style=\"background-color: white;\"><strong><span style=\"color: red;\">Classname.</span><span style=\"color: blue;\">classmethod( )</span></strong></span> to call the class method whenever required but still if you have an <u>instance method</u> with the <u>same name</u>, it <u>may or may not call the class method</u> and <span style=\"font-size: 1rem;\"><strong>the most recent method will be called</span></strong>.</code>\n",
    "</pre>\n",
    "\n",
    "</div>\n",
    "\n",
    "<div style=\"background-color: #daffd4; padding: 10px;\"> <br>\n",
    "    \n",
    "In <code style=\"background-color: #daffd4;\">Python, if you define both an <u>instance method</u> and a <u>class method</u> with the <u>same name</u> in the <u>same class</u>, <span style=\"font-size: 1rem;\"><strong>the most recently defined method will overwrite the previous one</strong></span> <span style=\"background-color: #9bff8b;\">irrespective of whether it is called through an object (<strong><span style=\"color: red; font-size: 1rem;\">object.</span><span style=\"color: blue; font-size: 1rem;\">methodname</span></strong>) or through the classname (<strong><span style=\"color: red;  font-size: 1rem;\">classname.</span><span style=\"color: blue;  font-size: 1rem;\">methodname</span></strong>)</span></code>\n",
    "    \n",
    "</div>\n",
    "\n",
    "<br>"
   ]
  },
  {
   "cell_type": "markdown",
   "id": "e6c0b1d0-a809-4fa8-9acf-7313e5a202ad",
   "metadata": {
    "jp-MarkdownHeadingCollapsed": true
   },
   "source": [
    "<br><br>\n",
    "\n",
    "### <span style=\"color: blue\">Super( )</span>\n"
   ]
  },
  {
   "cell_type": "markdown",
   "id": "1d936c1a-ee76-45bb-a41d-1e34094706cb",
   "metadata": {},
   "source": [
    "\n",
    "<div style=\"background-color: #ffe0b0; padding: 10px;\">\n",
    "\n",
    "<code style=\"background-color: #ffe0b0;\"><span style=\"font-size: 1.08rem\"><strong><span style=\"color: blue;\">super()</span></strong></span> method is used <u>to access the methods of the parent class</u></code>\n",
    "\n",
    "</div>\n",
    "\n",
    "<br>\n",
    "\n",
    "<code style=\"background-color: white;\">Consider the following example.</code>"
   ]
  },
  {
   "cell_type": "code",
   "execution_count": 99,
   "id": "8c32758f-c6d4-4e15-b2a0-e2135bd0928e",
   "metadata": {},
   "outputs": [
    {
     "ename": "AttributeError",
     "evalue": "'ToyotaCar' object has no attribute 'fuel_type'",
     "output_type": "error",
     "traceback": [
      "\u001b[1;31m---------------------------------------------------------------------------\u001b[0m",
      "\u001b[1;31mAttributeError\u001b[0m                            Traceback (most recent call last)",
      "Cell \u001b[1;32mIn[99], line 21\u001b[0m\n\u001b[0;32m     17\u001b[0m         \u001b[38;5;28mself\u001b[39m\u001b[38;5;241m.\u001b[39mname \u001b[38;5;241m=\u001b[39m name\n\u001b[0;32m     20\u001b[0m car1 \u001b[38;5;241m=\u001b[39m ToyotaCar(\u001b[38;5;124m\"\u001b[39m\u001b[38;5;124mPrius\u001b[39m\u001b[38;5;124m\"\u001b[39m)\n\u001b[1;32m---> 21\u001b[0m \u001b[43mcar1\u001b[49m\u001b[38;5;241;43m.\u001b[39;49m\u001b[43mfuel_type\u001b[49m\n",
      "\u001b[1;31mAttributeError\u001b[0m: 'ToyotaCar' object has no attribute 'fuel_type'"
     ]
    }
   ],
   "source": [
    "\n",
    "class Car:\n",
    "\n",
    "    def __init__(self, fuel_type):\n",
    "        self.fuel_type = fuel_type\n",
    "\n",
    "    @staticmethod\n",
    "    def start():\n",
    "        print(\"car started..\")\n",
    "\n",
    "    @staticmethod\n",
    "    def stop():\n",
    "        print(\"car stopped.\")\n",
    "\n",
    "\n",
    "class ToyotaCar(Car):\n",
    "    def __init__(self, name):\n",
    "        self.name = name\n",
    "\n",
    "\n",
    "car1 = ToyotaCar(\"Prius\")\n",
    "car1.fuel_type\n"
   ]
  },
  {
   "cell_type": "markdown",
   "id": "0706c3d1-aad1-49a1-a984-93d0f388770a",
   "metadata": {},
   "source": [
    "<br>\n",
    "\n",
    "<code style=\"background-color: white;\">Let us pass the <code style=\"background-color: #dcdcdc;\">fuel_type</code> as an argument while creating an object and see what happens:</code>"
   ]
  },
  {
   "cell_type": "markdown",
   "id": "c88bcdaa-53a3-4612-99ed-efc71e9b5a56",
   "metadata": {},
   "source": [
    "<br>\n",
    "\n",
    "<div style=\"margin-left: 50px;\">\n",
    "\n",
    "![](media/Shraddha_Kapra_oops_14.PNG)\n",
    "\n",
    "</div>\n"
   ]
  },
  {
   "cell_type": "markdown",
   "id": "d4ad66ba-645f-4123-82e1-0d27a96fb184",
   "metadata": {},
   "source": [
    "<br>\n",
    "\n",
    "<code style=\"background-color: white;\">Let us see how we use <span style=\"font-size: 1.08rem\"><strong><span style=\"color: blue;\">super()</span></strong></span> to have a <u>child object</u>  <code style=\"background-color: #dcdcdc;\">car1</code>  with acess to it's <u><span style=\"color: red;\">parent instance attribute</span></u>  <code style=\"background-color: #dcdcdc;\">fuel_type</code> :</code>"
   ]
  },
  {
   "cell_type": "markdown",
   "id": "ce8898ed-93cf-4756-8647-fd2bfa2d0fa4",
   "metadata": {},
   "source": [
    "<br>\n",
    "\n",
    "<div style=\"margin-left: 150px;\">\n",
    "\n",
    "![](media/Shraddha_Kapra_oops_15.PNG)\n",
    "\n",
    "</div>"
   ]
  },
  {
   "cell_type": "code",
   "execution_count": 18,
   "id": "2d59d9cc-1a99-45a5-a810-a07fd4d56549",
   "metadata": {},
   "outputs": [
    {
     "name": "stdout",
     "output_type": "stream",
     "text": [
      "Hybrid(Electric + Petrol)\n",
      "car started..\n",
      "car stopped.\n"
     ]
    }
   ],
   "source": [
    "\n",
    "# PARENT\n",
    "class Car:\n",
    "\n",
    "    def __init__(self, fuel_type):\n",
    "        self.fuel_type = fuel_type\n",
    "\n",
    "    @staticmethod\n",
    "    def start():\n",
    "        print(\"car started..\")\n",
    "\n",
    "    @staticmethod\n",
    "    def stop():\n",
    "        print(\"car stopped.\")\n",
    "\n",
    "# CHILD\n",
    "class ToyotaCar(Car):\n",
    "    def __init__(self, name, fuel_type):\n",
    "        super().__init__(fuel_type)\n",
    "        self.name = name\n",
    "\n",
    "\n",
    "car1 = ToyotaCar(\"Prius\", \"Hybrid(Electric + Petrol)\")\n",
    "\n",
    "print(car1.fuel_type)                     # Output:  'Hybrid(Electric + Petrol)'\n",
    "car1.start()                              # Output:  car started..\n",
    "car1.stop()                               # Output:  car stopped.\n"
   ]
  },
  {
   "cell_type": "markdown",
   "id": "8b91fa6f-6440-4f9e-92a3-6dc11f6e46c4",
   "metadata": {},
   "source": [
    "<br>\n",
    "\n",
    "<div style=\"background-color: #ffe0b0; padding: 10px;\">\n",
    "\n",
    "**Note &nbsp;&nbsp;-** &nbsp;&nbsp;<code style=\"background-color: #ffe0b0;\">Just like <span style=\"color: blue;\">Constructor</span> <font size=\"+1\">(</font> <span style=\"font-size: 1.02rem\"><strong><span style=\"color: blue;\">\\_\\_init__</span></strong></span> method <font size=\"+1\">)</font> , we can also invoke <u>other inherited methods at the time of creating a child object</u> using this built-in <span style=\"font-size: 1.08rem\"><strong><span style=\"color: blue;\">super()</span></strong></span> method.</code>\n",
    "\n",
    "</div>\n",
    "\n",
    "<br>\n",
    "\n",
    "<code style=\"background-color: white;\">Let us see how to ensure that <code style=\"background-color: white; color: #ff00b9;\">an object of ToyotaCar class <u>automatically starts</u> as and when it is created</code>:</code>\n"
   ]
  },
  {
   "cell_type": "code",
   "execution_count": 3,
   "id": "55d00dd6-d47e-4c7f-b0ab-dc9e715c4c24",
   "metadata": {},
   "outputs": [
    {
     "name": "stdout",
     "output_type": "stream",
     "text": [
      "car started..\n"
     ]
    }
   ],
   "source": [
    "\n",
    "# PARENT\n",
    "class Car:\n",
    "\n",
    "    def __init__(self, fuel_type):\n",
    "        self.fuel_type = fuel_type\n",
    "\n",
    "    @staticmethod\n",
    "    def start():\n",
    "        print(\"car started..\")\n",
    "\n",
    "    @staticmethod\n",
    "    def stop():\n",
    "        print(\"car stopped.\")\n",
    "\n",
    "\n",
    "# CHILD\n",
    "class ToyotaCar(Car):\n",
    "    def __init__(self, name, fuel_type):\n",
    "        self.name = name\n",
    "        super().__init__(fuel_type)                              # invokes    Car.__init__()    method at the time of ToyotaCar type object creation\n",
    "        super().start()                                          # invokes    Car.start()       method at the time of ToyotaCar type object creation\n",
    "\n",
    "\n",
    "car1 = ToyotaCar(\"Prius\", \"Hybrid(Electric + Petrol)\")           # creates object of ToyotaCar type  & prints     ====>     car started..\n"
   ]
  },
  {
   "cell_type": "code",
   "execution_count": 4,
   "id": "1c6ec0b2-b0b6-4478-b90f-6a769522b2b3",
   "metadata": {},
   "outputs": [
    {
     "data": {
      "text/plain": [
       "'Hybrid(Electric + Petrol)'"
      ]
     },
     "execution_count": 4,
     "metadata": {},
     "output_type": "execute_result"
    }
   ],
   "source": [
    "\n",
    "# And  obviously  we  can  access  fuel_type  by invoking  super.__init__()  method  in the child class.\n",
    "\n",
    "car1.fuel_type\n"
   ]
  },
  {
   "cell_type": "markdown",
   "id": "a0e76fee-0d8e-470f-94b1-774a6ed08830",
   "metadata": {},
   "source": [
    "<br>\n",
    "\n",
    "<span style=\"color: #DCBD10\">▬▬▬▬▬▬▬▬▬▬▬▬▬▬▬▬▬▬▬▬▬▬▬▬▬▬▬▬▬▬▬▬▬▬▬▬▬▬▬▬▬▬▬▬▬▬▬▬▬▬▬▬▬▬▬▬▬▬▬▬▬▬▬▬▬▬▬▬▬▬▬▬▬▬▬▬</span>\n",
    "\n",
    "<br>\n",
    "\n",
    "<font size=\"+1\">⭐</font>&nbsp;<code style=\"background-color: white;\">Let's see if we can access the <span style=\"background-color: red; color: white;\">parent class attributes</span> and <span style=\"background-color: red; color: white;\">parent class methods</span> using <span style=\"color: blue; font-size: 1.1rem\"><strong>super()</strong></span></code>\n",
    "\n",
    "<br>\n",
    "\n",
    "<div style=\"margin-left: 85px;\">\n",
    "\n",
    "![](media/Shraddha_Kapra_oops_19.PNG)\n",
    "\n",
    "<pre>\n",
    "                                               <span style=\"color: red;\">Classname.<span style=\"color: blue;\">class_attribute</span></span>    and    <span style=\"color: red;\">Classname.<span style=\"color: blue;\">class_method()</span></span>\n",
    "</pre>\n",
    "</div>\n",
    "\n",
    "<br>\n",
    "\n",
    "<div style=\"margin-left: 387px;\">\n",
    "\n",
    "![](media/Shraddha_Kapra_oops_20.PNG)\n",
    "\n",
    "</div>\n"
   ]
  },
  {
   "cell_type": "code",
   "execution_count": 59,
   "id": "c5934434-10ec-4b09-8434-429dfb0cd6bf",
   "metadata": {},
   "outputs": [
    {
     "name": "stdout",
     "output_type": "stream",
     "text": [
      "child class attribute\n",
      "child class attribute\n",
      "parent class attribute\n",
      "parent class attribute\n"
     ]
    }
   ],
   "source": [
    "\n",
    "# PARENT\n",
    "class A:\n",
    "    class_attribute = \"parent class attribute\"\n",
    "    \n",
    "    @classmethod                                                                         \n",
    "    def class_method(cls):\n",
    "        print(cls.class_attribute)\n",
    "    \n",
    "# CHILD\n",
    "class B(A):\n",
    "    class_attribute = \"child class attribute\"\n",
    "    \n",
    "    @classmethod\n",
    "    def class_method(cls):\n",
    "        print(cls.class_attribute)    # the child class attribute is directly accessible using cls in the child class\n",
    "        super().class_method()        # invoking the parent class method using super() but cls in the parent class still references to the child class B\n",
    "        \n",
    "        print(A.class_attribute)      # Directly access the parent class attribute\n",
    "        A.class_method()              # Directly call the parent class method\n",
    "        \n",
    "\n",
    "b = B()\n",
    "\n",
    "b.class_method()\n"
   ]
  },
  {
   "cell_type": "markdown",
   "id": "c3b9c1bd-0aae-45b6-9bb6-020d2747088b",
   "metadata": {},
   "source": [
    "<br>\n",
    "\n",
    "<u><strong>Note</strong></u> &nbsp;- <code style=\"background-color: white;\">In Python, there is nothing called <span style=\"background-color: yellow;\">static attributes</span> because by definition <span style=\"background-color: yellow;\">static attributes</span> are same as <span style=\"background-color: yellow;\">class attributes</span> and hence popularly known as <span style=\"background-color: yellow;\">class attributes</span> only. <span style=\"background-color: #a0fff1;\"><u>Static attributes</u> (also known as <u>class attributes</u>) are shared across all instances of a class.</span></code>\n",
    "\n",
    "<br>\n",
    "\n",
    "<span style=\"color: #DCBD10\">▬▬▬▬▬▬▬▬▬▬▬▬▬▬▬▬▬▬▬▬▬▬▬▬▬▬▬▬▬▬▬▬▬▬▬▬▬▬▬▬▬▬▬▬▬▬▬▬▬▬▬▬▬▬▬▬▬▬▬▬▬▬▬▬▬▬▬▬▬▬▬▬▬▬▬▬</span>\n",
    "\n",
    "<br>\n",
    "\n",
    "<font size=\"+1\">⭐</font>&nbsp;<code style=\"background-color: white;\">Let's see if we can access the <span style=\"background-color: red; color: white;\">parent static methods</span> using <span style=\"color: blue; font-size: 1.1rem\"><strong>super()</strong></span></code>"
   ]
  },
  {
   "cell_type": "code",
   "execution_count": 78,
   "id": "f659471b-f398-46ea-9fab-44e93e9a45b4",
   "metadata": {},
   "outputs": [
    {
     "name": "stdout",
     "output_type": "stream",
     "text": [
      "child static method\n",
      "child static attribute\n",
      "parent static attribute\n",
      "parent static method\n"
     ]
    },
    {
     "ename": "RuntimeError",
     "evalue": "super(): no arguments",
     "output_type": "error",
     "traceback": [
      "\u001b[1;31m---------------------------------------------------------------------------\u001b[0m",
      "\u001b[1;31mRuntimeError\u001b[0m                              Traceback (most recent call last)",
      "Cell \u001b[1;32mIn[78], line 24\u001b[0m\n\u001b[0;32m     20\u001b[0m         \u001b[38;5;28msuper\u001b[39m()\u001b[38;5;241m.\u001b[39mstatic_method()                       \u001b[38;5;66;03m# RuntimeError: super(): no arguments\u001b[39;00m\n\u001b[0;32m     22\u001b[0m b \u001b[38;5;241m=\u001b[39m B()\n\u001b[1;32m---> 24\u001b[0m \u001b[43mb\u001b[49m\u001b[38;5;241;43m.\u001b[39;49m\u001b[43mstatic_method\u001b[49m\u001b[43m(\u001b[49m\u001b[43m)\u001b[49m\n",
      "Cell \u001b[1;32mIn[78], line 20\u001b[0m, in \u001b[0;36mB.static_method\u001b[1;34m()\u001b[0m\n\u001b[0;32m     18\u001b[0m \u001b[38;5;28mprint\u001b[39m(A\u001b[38;5;241m.\u001b[39mstatic_attribute)                     \u001b[38;5;66;03m# parent static attribute\u001b[39;00m\n\u001b[0;32m     19\u001b[0m A\u001b[38;5;241m.\u001b[39mstatic_method()                             \u001b[38;5;66;03m# parent static method\u001b[39;00m\n\u001b[1;32m---> 20\u001b[0m \u001b[38;5;28;43msuper\u001b[39;49m\u001b[43m(\u001b[49m\u001b[43m)\u001b[49m\u001b[38;5;241m.\u001b[39mstatic_method()\n",
      "\u001b[1;31mRuntimeError\u001b[0m: super(): no arguments"
     ]
    }
   ],
   "source": [
    "\n",
    "# PARENT\n",
    "class A:\n",
    "    static_attribute = \"parent static attribute\"      # It's nothing but a class attribute only\n",
    "\n",
    "    @staticmethod\n",
    "    def static_method():\n",
    "        print(\"parent static method\")\n",
    "\n",
    "# CHILD\n",
    "class B(A):\n",
    "    static_attribute = \"child static attribute\"       # It's nothing but a class attribute only\n",
    "\n",
    "    @staticmethod\n",
    "    def static_method():\n",
    "        print(\"child static method\")                  # child static method\n",
    "        print(B.static_attribute)                     # child static attribute\n",
    "        \n",
    "        print(A.static_attribute)                     # parent static attribute\n",
    "        A.static_method()                             # parent static method\n",
    "        super().static_method()                       # RuntimeError: super(): no arguments\n",
    "        \n",
    "b = B()\n",
    "\n",
    "b.static_method()\n"
   ]
  },
  {
   "cell_type": "markdown",
   "id": "693f660f-3fb8-456e-a0e2-68a457143efa",
   "metadata": {},
   "source": [
    "<br>\n",
    "\n",
    "<code style=\"background-color: white;\">As you can see,</code> <code><span style=\"color: blue; font-size: 1.05rem;\"><strong>super()</strong></span> doesn't work in <span style=\"font-size: 1.2; color: red;\"><strong>static methods</strong></span>.</code>\n",
    "\n",
    "<br>\n",
    "\n",
    "<div style=\"background-color: #ffe0b0; padding: 10px;\"> <br>\n",
    "\n",
    "<code style=\"background-color: #ffe0b0;\">The <span style=\"color: blue; font-size: 1.05rem;\"><strong>super()</strong></span> function in Python is designed to work with <u>instance methods</u> & <u>class methods</u> where <span style=\"font-size: 1.05rem;\"><strong>self</strong></span> or <span style=\" font-size: 1.05rem;\"><strong>cls</strong></span> is passed as an argument.</code>\n",
    "\n",
    "<code style=\"background-color: #ffe0b0;\">But, in the context of a <span style=\"color: red;\"><strong>static method</strong></span>, <span style=\"color: blue; font-size: 1.05rem;\"><strong>super()</strong></span> doesn't work as expected because <span style=\"color: red;\"><strong>static methods</strong></span> do not have access to <span style=\"font-size: 1.05rem;\"><strong>self</strong></span> or <span style=\" font-size: 1.05rem;\"><strong>cls</strong></span>.</code>\n",
    "\n",
    "</div>\n"
   ]
  },
  {
   "cell_type": "markdown",
   "id": "b38ac42d-5046-41b5-9857-da31c868e91d",
   "metadata": {},
   "source": [
    "<br>\n",
    "\n",
    "<span style=\"color: #DCBD10\">▬▬▬▬▬▬▬▬▬▬▬▬▬▬▬▬▬▬▬▬▬▬▬▬▬▬▬▬▬▬▬▬▬▬▬▬▬▬▬▬▬▬▬▬▬▬▬▬▬▬▬▬▬▬▬▬▬▬▬▬▬▬▬▬▬▬▬▬▬▬▬▬▬▬▬▬</span>\n",
    "\n",
    "<br>\n",
    "\n",
    "<font size=\"+1\">⭐</font>&nbsp;<code style=\"background-color: white;\">Let's see if we can access the <span style=\"background-color: red; color: white;\">parent instance methods</span> using <span style=\"color: blue; font-size: 1.1rem\"><strong>super()</strong></span></code>\n",
    "\n",
    "<br>\n",
    "\n",
    "<code>But let's first understand in which scenarios, a <span style=\"font-size: 1rem;\"><strong>child object</strong></span> can directly access a <span style=\"color: red;\"><strong>parent instance method</strong></span> without using <span style=\"color: blue; font-size: 1rem\"><strong>super()</strong></span></code>"
   ]
  },
  {
   "cell_type": "code",
   "execution_count": 68,
   "id": "d7ed2d23-5c99-4f0d-b624-242ffcbc1210",
   "metadata": {},
   "outputs": [
    {
     "name": "stdout",
     "output_type": "stream",
     "text": [
      "child instance method 1\n",
      "parent instance method 1\n",
      "child instance method 2\n"
     ]
    }
   ],
   "source": [
    "\n",
    "# PARENT\n",
    "class A:\n",
    "    \n",
    "    def parent_instance_method(self):\n",
    "        print(\"parent instance method 1\")\n",
    "\n",
    "    def common_instance_method(self):\n",
    "        print(\"parent instance method 2\")\n",
    "\n",
    "# CHILD\n",
    "class B(A):\n",
    "\n",
    "    def child_instance_method(self):\n",
    "        print(\"child instance method 1\")\n",
    "    \n",
    "    def common_instance_method(self):\n",
    "        print(\"child instance method 2\")\n",
    "\n",
    "b = B()\n",
    "\n",
    "b.child_instance_method()        # Output  ===>  child instance method 1\n",
    "\n",
    "b.parent_instance_method()       # Output  ===>  parent instance method 1         <======    without using super()\n",
    "b.common_instance_method()       # Output  ===>  child instance method 2\n"
   ]
  },
  {
   "cell_type": "markdown",
   "id": "e2b1435e-c067-46f9-9129-08791cc03d55",
   "metadata": {},
   "source": [
    "<br>\n",
    "\n",
    "<div style=\"background-color: #ffe0b0; padding: 10px;\"> <br>\n",
    "\n",
    "When <code style=\"background-color: #ffe0b0;\">a </code><strong>child &nbsp;object</strong> <code style=\"background-color: #ffe0b0;\">calls a method, the Python interpreter <code style=\"color: red; background-color: #ffe0b0\">first looks for that method in the</code></code><strong>child &nbsp;class</strong>. <code style=\"background-color: #ffe0b0;\">If it doesn't find the method there, it then searches for it in the</code> <strong>parent &nbsp;class</strong><code style=\"background-color: #ffe0b0;\">, following the</code> <strong>Method &nbsp;Resolution &nbsp;Order</strong>.\n",
    "\n",
    "<br>\n",
    "\n",
    "Therefore, <code style=\"background-color: #ffe0b0;\">a </code><strong>child &nbsp;object</strong> <code style=\"background-color: #ffe0b0;\">can directly access an</code> <strong><span style=\"background-color: #ffb2f0;\">inherited &nbsp;instance &nbsp;method</span></strong> <code style=\"background-color: #ffe0b0;\">without using the <span style=\"font-size: 1.07rem; color: blue;\"><strong>super()</strong></span> function,</code><span style=\"background-color: yellow;\"><code style=\"background-color: yellow;\">as long as the </code><strong>child &nbsp;class </strong><code style=\"background-color: yellow;\">does not define a method with the <u>same name</u>.</code></span>\n",
    "\n",
    "</div>\n",
    "\n"
   ]
  },
  {
   "cell_type": "markdown",
   "id": "2d9be542-396b-4508-85b2-49770f0f6009",
   "metadata": {},
   "source": [
    "<br>\n",
    "\n",
    "<div style=\"margin-left: 50px;\">\n",
    "\n",
    "![](media/Shraddha_Kapra_oops_21.PNG)\n",
    "\n",
    "</div>\n"
   ]
  },
  {
   "cell_type": "markdown",
   "id": "b71e91c2-b043-4cbf-b677-62a0368bc36f",
   "metadata": {},
   "source": [
    "<br>\n",
    "\n",
    "As <code style=\"background-color: white;\">you can see in the above example, <span style=\"background-color: #dbe3e2;\">b.<span style=\"color: blue;\">common_instance_method()</span></span> cannot access the <span style=\"color: red;\">parent (inherited) instance method</span> <span style=\"color: blue; background-color: #dbe3e2;\">common_instance_method</span> of the <span style=\"font-size: 1rem\"><strong>parent class</strong></span> <span style=\"background-color: #84ff84; font-size: 1.05rem\">&nbsp;A&nbsp;</span>, so let's see how to achieve this using <span style=\"font-size: 1.07rem; color: blue;\"><strong>super()</strong></span> function :</code>\n",
    "\n",
    "<br>\n",
    "\n",
    "<div style=\"margin-left: 150px;\">\n",
    "\n",
    "![](media/Shraddha_Kapra_oops_22.PNG)\n",
    "\n",
    "</div>\n"
   ]
  },
  {
   "cell_type": "code",
   "execution_count": 216,
   "id": "22ead570-2bff-479e-872b-321133f7bb75",
   "metadata": {},
   "outputs": [
    {
     "name": "stdout",
     "output_type": "stream",
     "text": [
      "child instance method 1\n",
      "parent instance method 1\n",
      "\n",
      "\n",
      "child instance method 2\n",
      "parent instance method 2\n"
     ]
    }
   ],
   "source": [
    "\n",
    "# PARENT\n",
    "class A:\n",
    "\n",
    "    def parent_instance_method(self):\n",
    "        print(\"parent instance method 1\")\n",
    "\n",
    "    def common_instance_method(self):\n",
    "        print(\"parent instance method 2\")\n",
    "\n",
    "\n",
    "# CHILD\n",
    "class B(A):\n",
    "\n",
    "    def child_instance_method(self):\n",
    "        print(\"child instance method 1\")\n",
    "        super().parent_instance_method()        # To access parent instance method 1\n",
    "\n",
    "    def common_instance_method(self):\n",
    "        print(\"child instance method 2\")\n",
    "        super().common_instance_method()        # To access parent instance method 2\n",
    "\n",
    "\n",
    "b = B()\n",
    "\n",
    "b.child_instance_method()      #  Output:   child instance method 1\n",
    "                               #            parent instance method 1\n",
    "\n",
    "print(\"\\n\")\n",
    "\n",
    "b.common_instance_method()     #  Output:   child instance method 2\n",
    "                               #            parent instance method 2\n"
   ]
  },
  {
   "cell_type": "markdown",
   "id": "cdd8df06-9722-4b55-9b15-c268edc6791d",
   "metadata": {},
   "source": [
    "<br>\n",
    "\n",
    "<span style=\"color: #DCBD10\">▬▬▬▬▬▬▬▬▬▬▬▬▬▬▬▬▬▬▬▬▬▬▬▬▬▬▬▬▬▬▬▬▬▬▬▬▬▬▬▬▬▬▬▬▬▬▬▬▬▬▬▬▬▬▬▬▬▬▬▬▬▬▬▬▬▬▬▬▬▬▬▬▬▬▬▬</span>\n",
    "\n",
    "<br>\n",
    "\n",
    "<font size=\"+1\">⭐</font>&nbsp;<code style=\"background-color: white;\">Let's see if we can access the <span style=\"background-color: red; color: white;\">parent instance attributes</span> using <span style=\"color: blue; font-size: 1.1rem\"><strong>super()</strong></span></code>\n",
    "\n",
    "<br>\n",
    "\n",
    "<code>Consider the following example to understand how to use <span style=\"font-size: 1rem; color: blue\"><strong>super()</strong></span> to access <u>parent instance <span style=\"font-size: 1rem\"><strong>properties</strong></span></u>, be it <span style=\"color: red;\">methods</span> or <span style=\"color: red;\">attributes</span> :</code>"
   ]
  },
  {
   "cell_type": "markdown",
   "id": "afb2ec54-e3bc-4a54-be51-2de52fe42f80",
   "metadata": {},
   "source": [
    "<br>\n",
    "\n",
    "<div style=\"margin-left: 100px;\">\n",
    "\n",
    "![](media/Shraddha_Kapra_oops_23.PNG)\n",
    "\n",
    "</div>\n"
   ]
  },
  {
   "cell_type": "code",
   "execution_count": 286,
   "id": "b467e9fa-eed3-4d03-a6c6-f8190e125053",
   "metadata": {},
   "outputs": [],
   "source": [
    "class A:\n",
    "    # parent instance method 1   ===>   CONSTRUCTOR\n",
    "    def __init__(self, instance_attribute):                \n",
    "        self.parent_instance_attribute = instance_attribute\n",
    "\n",
    "    # parent instance method 2\n",
    "    def update_parent_instance_attribute(self, updated_value_of_the_parent_instance_attribute):     \n",
    "        self.parent_instance_attribute = updated_value_of_the_parent_instance_attribute\n",
    "\n",
    "class B(A):\n",
    "    # child instance method 1   ===>   CONSTRUCTOR\n",
    "    def __init__(self, child_instance_attribute, parent_instance_attribute):       \n",
    "        super().__init__(parent_instance_attribute)\n",
    "        self.child_instance_attribute = child_instance_attribute\n",
    "\n",
    "    # child instance method 2\n",
    "    def get_parent_child_instance_attributes(self):                                               \n",
    "        return (f\"parent_instance_attribute   ==>  {self.parent_instance_attribute}\", \\\n",
    "                f\"child_instance_attribute      ==>  {self.child_instance_attribute}\"\n",
    "               )\n",
    "\n",
    "    # child instance method 3\n",
    "    def modify_parent_instance_attribute(self, modified_value_of_parent_instance_attribute):\n",
    "        # self.parent_instance_attribute = modified_value_of_parent_instance_attribute               # METHOD - 1\n",
    "        super().update_parent_instance_attribute(modified_value_of_parent_instance_attribute)        # METHOD - 2\n"
   ]
  },
  {
   "cell_type": "markdown",
   "id": "d20c4a8a-3206-4387-a97c-fe3d03e83063",
   "metadata": {},
   "source": [
    "<br>"
   ]
  },
  {
   "cell_type": "code",
   "execution_count": 287,
   "id": "a582db14-d2b7-4551-801e-551d0a6abd0e",
   "metadata": {},
   "outputs": [
    {
     "name": "stdout",
     "output_type": "stream",
     "text": [
      "value of the parent_instance_attribute of the object \"a\"  ===========>  without using super()\n",
      "value of the child_instance_attribute of the object \"b\"  ============>  without using super()\n",
      "value of the parent_instance_attribute_1 of the object \"b\"  =========>  using super()\n"
     ]
    }
   ],
   "source": [
    "\n",
    "# creates an object of class A\n",
    "a = A('value of the parent_instance_attribute of the object \"a\"  ===========>  without using super()')\n",
    "print(a.parent_instance_attribute)\n",
    "\n",
    "\n",
    "# creates an object of class B\n",
    "b = B('value of the child_instance_attribute of the object \"b\"  ============>  without using super()', \\\n",
    "      'value of the parent_instance_attribute_1 of the object \"b\"  =========>  using super()'\n",
    "     )\n",
    "print(b.child_instance_attribute)\n",
    "print(b.parent_instance_attribute)\n"
   ]
  },
  {
   "cell_type": "markdown",
   "id": "a8edc0d2-9029-4d0e-b947-36c5dfefc0b6",
   "metadata": {},
   "source": [
    "<br>"
   ]
  },
  {
   "cell_type": "code",
   "execution_count": 291,
   "id": "c16d1337-e3bb-4e5b-b25e-6bc603e30e1c",
   "metadata": {},
   "outputs": [
    {
     "name": "stdout",
     "output_type": "stream",
     "text": [
      "updated value of the parent_instance_attribute of the object \"a\"  ===>  without using super()\n",
      "modified value of the parent_instance_attribute of the object \"b\"  ===> using super()\n"
     ]
    }
   ],
   "source": [
    "\n",
    "a.update_parent_instance_attribute('updated value of the parent_instance_attribute of the object \"a\"  ===>  without using super()')\n",
    "print(a.parent_instance_attribute)\n",
    "\n",
    "b.modify_parent_instance_attribute('modified value of the parent_instance_attribute of the object \"b\"  ===> using super()')\n",
    "print(b.parent_instance_attribute)\n"
   ]
  },
  {
   "cell_type": "markdown",
   "id": "7445c6db-5de6-43ce-ad92-c7fc05c9c3d0",
   "metadata": {},
   "source": [
    "<br>\n",
    "\n",
    "<span style=\"font-size: 1.02rem;\"><strong>Summary</strong></span>\n",
    "\n",
    "<div style=\"background-color: #fff3df; padding: 10px;\"> <br>\n",
    "\n",
    "⭐ &nbsp;<span style=\"background-color: #fff3df; color: #ff00b9;\">A </span>&nbsp;<span style=\"background-color: #fff3df;\">child object</span> <code style=\"background-color: #fff3df; color: #ff00b9;\"><span style=\"color: black;\"><u><span style=\"color: #ff00b9;\">can access</span></u></span> all <span style=\"background-color: #ffe89c;\"><span style=\"font-size: 1rem\"><strong>inherited</strong></span> <span style=\"color: black;\">class attributes</span> and <span style=\"color: black;\">class methods</span></span> <span style=\"color: black;\"><u><span style=\"color: #ff00b9; font-size: 1rem;\"><strong>without using</strong></span> <span style=\"color: blue;\"><strong>super()</strong></span></u></span>, irrespective of whether they are coming from <span style=\"font-size: 1rem\"><strong>parents</strong></span> or <span style=\"font-size: 1rem\"><strong>grandparents</strong></span> or even beyond. The same is true for <span style=\"color: black;\">static methods</span>.</code>\n",
    "\n",
    "<br>\n",
    "\n",
    "⭐ <code style=\"background-color: #fff3df; color: #ff00b9;\">Usually a</code> <span style=\"background-color: #fff3df;\">child &nbsp;object</span> <code style=\"background-color: #fff3df; color: #ff00b9;\"><code style=\"background-color: #fff3df; color: #ff00b9;\"><span style=\"color: black;\"><u><span style=\"color: #ff00b9;\">can access</span></u></span> <span style=\"background-color: #ffe89c;\"><span style=\"font-size: 1rem\"><strong>inherited</strong></span> <span style=\"color: black\">instance methods</span></span> <span style=\"color: black;\"><u><span style=\"color: #ff00b9; font-size: 1rem;\"><strong>without using</strong></span> <span style=\"color: blue;\"><strong>super()</strong></span></u></span>. <span style=\"background-color: black; color: white;\">The only exception</span> is that if we have a <span style=\"background-color: #ffe89c;\"><span style=\"color: black;\">inherited (<span style=\"color: red;\"><u>instance</u></span>) method</span></span> and a <span style=\"background-color: #ffe89c;\"><span style=\"color: black;\">child (<span style=\"color: red;\"><u>instance</u></span>) method</span></span> with the <strong><span style=\"color: #0d9f1b;\">same name</span></strong>, the</code> <span style=\"background-color: #fff3df; color: black;\">child object</span> <code style=\"background-color: #fff3df; color: #ff00b9;\"><span style=\"color: black;\"><u><span style=\"color: #ff00b9;\">cannot access</span></u></span> that</code> <span style=\"background-color: yellow;\"><span style=\"color: black;\">inherited (<span style=\"color: red;\"><u>instance</u></span>) method</span></span> <code style=\"background-color: #fff3df; color: #ff00b9;\"><span style=\"color: black;\"><u><span style=\"color: #ff00b9; font-size: 1rem;\"><strong>without using</strong></span> <span style=\"color: blue;\"><strong>super()</strong></span></u></span> because of the preference the child instance method gets to avoid this  ambiguity.</code>\n",
    "\n",
    "<br>\n",
    "\n",
    "⭐ <code style=\"background-color: #fff3df; color: #ff00b9;\">However what it definitely <span style=\"color: black;\"><u><span style=\"color: #ff00b9;\">cannot access</span></u></span> <span style=\"color: black;\"><u><span style=\"color: #ff00b9; font-size: 1rem;\"><strong>without using</strong></span> <span style=\"color: blue;\"><strong>super()</strong></span></u></span> is -</code> <strong><span style=\"color: black; background-color: yellow; font-size: 1.0001rem;\">inherited &nbsp;<span style=\"color: red;\">instance</span>  &nbsp;attributes</span></strong>\n",
    "\n",
    "</div>\n",
    "<div style=\"background-color: #ffe0b0; padding: 10px;\">\n",
    "\n",
    "<code style=\"background-color: #ffe0b0;\">To access inherited instance attributes & methods by a child object</span>:</code> <br>\n",
    "\n",
    "&nbsp;&nbsp;<font size=\"+1\">↳</font>&nbsp;&nbsp;<code style=\"background-color: #ffe0b0;\">we need to be able to call  <span style=\"font-size: 1.08rem\"><strong><span style=\"color: blue;\">\\_\\_init__</span></strong></span>  method of parents/grandparents/beyond and for that we use a built-in method called  <span style=\"font-size: 1.08rem\"><strong><span style=\"color: blue;\">super()</span></strong></span></code>\n",
    "\n",
    "</div>\n",
    "\n",
    "<br>"
   ]
  },
  {
   "cell_type": "markdown",
   "id": "34af429e-f8c7-4fd5-bfe1-0c84ae743e51",
   "metadata": {
    "jp-MarkdownHeadingCollapsed": true
   },
   "source": [
    "<br><br>\n",
    "\n",
    "### <span style=\"color: blue\">Class &nbsp;Method</span>\n"
   ]
  },
  {
   "cell_type": "markdown",
   "id": "d576ef26-df8e-4c43-bde2-809d5ee8c844",
   "metadata": {},
   "source": [
    "<br>\n",
    "\n",
    "<span style=\"background-color: yellow;\"><code style=\"background-color: yellow;\">&nbsp;A class method is bound to the class and receives the class (<span style=\"color: red;\"><strong>cls</strong></span>) as an</code> <strong>implicit &nbsp;first &nbsp;argument</strong>&nbsp;&nbsp;&nbsp;</span>\n",
    "\n",
    "<br>\n",
    "\n",
    "<div style=\"margin-left: 85px;\">\n",
    "\n",
    "![](media/Shraddha_Kapra_oops_24.PNG)\n",
    "\n",
    "</div>\n",
    "\n",
    "<br>\n",
    "\n",
    "<div style=\"background-color: #fff3df; padding: 10px;\">\n",
    "A <code style=\"background-color: #fff3df;\">method should be assigned as a <span style=\"color: blue; font-size: 1rem;\"><strong>static method</strong></span> if it <span style=\"font-size: 1rem;\"><strong>does not need</strong></span> any <u>class attribute</u> or any <u>object (instance) attribute</u> to do the work it is defined for.</code> <br><br>\n",
    "Therefore,<code style=\"background-color: #fff3df;\">if a method is a static method, it means it <u>can't access or modify a class state</u> and is generally used for utility.</code> <br><br>\n",
    "<code style=\"background-color: #ffddb4;\"><span style=\"font-size: 1.2rem;\"><strong>Note</strong></span> - Since a <span style=\"color: blue; font-size: 1rem;\"><strong>static method</strong></span> can't access a <span style=\"color: blue; font-size: 1rem;\"><strong>class method</strong></span>, therefore the concept of <span style=\"color: blue; font-size: 1rem;\"><strong>class method</strong></span> came into use</code>\n",
    "\n",
    "</div> <br>\n",
    "\n",
    "<br>\n",
    "\n",
    "<code style=\"font-size: 1.05rem; background-color: white; color: #28b463;\"><strong>How to <u><span style=\"color: red\">access</span></u> or <u><span style=\"color: red\">modify</span></u> a class attribute?</strong></code>\n",
    "\n",
    "&nbsp;&nbsp;<code style=\"background-color: white;\">Consider the following example:</code>\n",
    "\n",
    "<div style=\"margin-left: 80px;\">\n",
    "\n",
    "![](media/Shraddha_Kapra_oops_26.PNG)\n",
    "\n",
    "</div>\n",
    "\n",
    "&nbsp;&nbsp;<code style=\"background-color: white;\">Let's try to change the <span style=\"font-size: 1rem;\"><strong>class attribute</strong></span> <span style=\"color: red;\">name</span> from <code>\"anonymous\"</code> to <code>\"Avinash\"</code>. How to do it?</code>\n",
    "\n",
    "<br>\n",
    "\n",
    "&nbsp;&nbsp;&nbsp;<font size=\"+2\">↳</font>&nbsp;&nbsp;<span style=\"background-color: black; color: white;\">&nbsp;METHOD - 1&nbsp;</span>&nbsp;&nbsp;====>&nbsp;&nbsp;<code style=\"background-color: #85fff9;\">Through an <span style=\"font-size: 1rem;\"><strong>instance</strong></span> (object) <span style=\"font-size: 1rem;\"><strong>method</strong></span> <u>within the Person class</u></code> &nbsp;&nbsp;===>&nbsp;&nbsp;&nbsp;<code>using &nbsp;<strong><span style=\"color: red;\">Classname.</span><span style=\"color: blue;\">classattributename</span></strong></code> <br>\n",
    "&nbsp;&nbsp;&nbsp;&nbsp;&nbsp;&nbsp;&nbsp;&nbsp;&nbsp;&nbsp;&nbsp;&nbsp;&nbsp;&nbsp;&nbsp;&nbsp;&nbsp;&nbsp;&nbsp;&nbsp;&nbsp;&nbsp;&nbsp;&nbsp;&nbsp;&nbsp;&nbsp;&nbsp;&nbsp;&nbsp;&nbsp;&nbsp;&nbsp;&nbsp;&nbsp;&nbsp;&nbsp;&nbsp;&nbsp;&nbsp;&nbsp;&nbsp;&nbsp;&nbsp;&nbsp;&nbsp;&nbsp;&nbsp;&nbsp;&nbsp;&nbsp;&nbsp;&nbsp;&nbsp;&nbsp;&nbsp;&nbsp;&nbsp;&nbsp;&nbsp;&nbsp;&nbsp;&nbsp;&nbsp;&nbsp;&nbsp;&nbsp;&nbsp;&nbsp;&nbsp;&nbsp;&nbsp;&nbsp;&nbsp;&nbsp;&nbsp;&nbsp;&nbsp;&nbsp;&nbsp;&nbsp;&nbsp;&nbsp;&nbsp;&nbsp;&nbsp;&nbsp;&nbsp;&nbsp;&nbsp;&nbsp;&nbsp;&nbsp;&nbsp;&nbsp;&nbsp;&nbsp;&nbsp;&nbsp;&nbsp;&nbsp;&nbsp;&nbsp;&nbsp;&nbsp;&nbsp;&nbsp;&nbsp;&nbsp;&nbsp;&nbsp;&nbsp;&nbsp;&nbsp;&nbsp;&nbsp;&nbsp;&nbsp;&nbsp;&nbsp;&nbsp;&nbsp;&nbsp;&nbsp;&nbsp;&nbsp;&nbsp;&nbsp;&nbsp;&nbsp;&nbsp;&nbsp;&nbsp;&nbsp;&nbsp;&nbsp;&nbsp;&nbsp;&nbsp;&nbsp;&nbsp;&nbsp;&nbsp;&nbsp;&nbsp;&nbsp;&nbsp;&nbsp;&nbsp;&nbsp;&nbsp;&nbsp;&nbsp;&nbsp;&nbsp;&nbsp;&nbsp;&nbsp;&nbsp;&nbsp;&nbsp;&nbsp;&nbsp;&nbsp;&nbsp;&nbsp;&nbsp;&nbsp;&nbsp;&nbsp;&nbsp;&nbsp;&nbsp;&nbsp;&nbsp;&nbsp;<span style=\"background-color: white;\">===></span>&nbsp;&nbsp;&nbsp;<code>using &nbsp;<strong><span style=\"color: red;\">self.\\_\\_class__.</span><span style=\"color: blue;\">classattributename</span></strong></code>\n",
    "\n",
    "\n",
    "<br>\n",
    "\n",
    "&nbsp;&nbsp;&nbsp;&nbsp;&nbsp;&nbsp;&nbsp;&nbsp;&nbsp;<code style=\"font-size: 1rem;\"><u><strong>Attempt - 1</strong></u></code> &nbsp;&nbsp;===>&nbsp;&nbsp; <span style=\"color: white; background-color: red;\">&nbsp;Incorrect&nbsp;</span>\n",
    "\n",
    "<div style=\"margin-left: 15px;\">\n",
    "\n",
    "![](media/Shraddha_Kapra_oops_27.PNG)\n",
    "\n",
    "</div>\n",
    "\n",
    "<br><br>\n",
    "\n",
    "&nbsp;&nbsp;&nbsp;&nbsp;&nbsp;&nbsp;&nbsp;&nbsp;&nbsp;<code style=\"font-size: 1rem;\"><u><strong>Attempt - 2</strong></u></code>&nbsp;&nbsp;===>&nbsp;&nbsp; <span style=\"color: white; background-color: #129602;\">&nbsp;Correct&nbsp;</span> &nbsp;&nbsp;===>&nbsp;&nbsp;&nbsp;<code>using &nbsp;<strong><span style=\"color: red;\">self.\\_\\_class__.</span><span style=\"color: blue;\">classattributename</span></strong></code>"
   ]
  },
  {
   "cell_type": "code",
   "execution_count": 21,
   "id": "bd971ba9-3ff6-4a3d-9ab5-de4e1fc0df9b",
   "metadata": {},
   "outputs": [
    {
     "name": "stdout",
     "output_type": "stream",
     "text": [
      "Avinash\n",
      "Avinash\n"
     ]
    }
   ],
   "source": [
    "\n",
    "class Person:\n",
    "    name = \"anonymous\"                       #  class attribute\n",
    "\n",
    "    # INSTANCE METHOD\n",
    "    def change_name(self, name):\n",
    "        # self.name = name                   #  creates or updates instance attribute \"name\"\n",
    "        self.__class__.name = name           #  updates the class attribute \"name\" since it is already created\n",
    "\n",
    "\n",
    "p = Person()                                 #  creates an object of type Person\n",
    "p.change_name(\"Avinash\")                     #  calls the method change_name()\n",
    "\n",
    "print(p.name)                                # OUTPUT:  Avinash     # since there is no instance attribute, therefore  p.name  ====>  class attribute\n",
    "print(Person.name)                           # OUTPUT:  Avinash\n"
   ]
  },
  {
   "cell_type": "markdown",
   "id": "dcdeb2fc-9f49-4b8d-ac8e-c36b6452cc2f",
   "metadata": {},
   "source": [
    "<br><br>\n",
    "\n",
    "&nbsp;&nbsp;&nbsp;&nbsp;&nbsp;&nbsp;&nbsp;&nbsp;&nbsp;<code style=\"font-size: 1rem;\"><u><strong>Attempt - 3</strong></u></code>&nbsp;&nbsp;===>&nbsp;&nbsp; <span style=\"color: white; background-color: #129602;\">&nbsp;Correct&nbsp;</span> &nbsp;&nbsp;===>&nbsp;&nbsp;&nbsp;<code>using &nbsp;<strong><span style=\"color: red;\">Classname.</span><span style=\"color: blue;\">classattributename</span></strong></code>\n",
    "\n",
    "<br>\n",
    "\n",
    "<div style=\"margin-left: 80px;\">\n",
    "\n",
    "![](media/Shraddha_Kapra_oops_28.PNG)\n",
    "\n",
    "</div>\n",
    "\n",
    "<div style=\"margin-left: 30px;\">\n",
    "\n",
    "![](media/Shraddha_Kapra_oops_29.PNG)\n",
    "\n",
    "</div>\n",
    "\n",
    "<br><br>\n",
    "\n",
    "<strong>Summary &nbsp;of &nbsp;<u>Method - 1</u></strong>\n",
    "\n",
    "<div style=\"margin-left: 15px;\">\n",
    "\n",
    "![](media/Shraddha_Kapra_oops_29B.PNG)\n",
    "\n",
    "</div>"
   ]
  },
  {
   "cell_type": "markdown",
   "id": "ebf34540-3ddb-4e0b-b359-064a987cca49",
   "metadata": {},
   "source": [
    "<br><br>\n",
    "\n",
    "&nbsp;&nbsp;&nbsp;<span style=\"color: #DCBD10\">▬▬▬▬▬▬▬▬▬▬▬▬▬▬▬▬▬▬▬▬▬▬▬▬▬▬▬▬▬▬▬▬▬▬▬▬▬▬▬▬▬▬▬▬▬▬▬▬▬▬▬▬▬▬▬▬▬▬▬▬▬▬▬▬▬▬▬▬▬▬▬▬▬▬▬▬</span>\n",
    "\n",
    "\n",
    "&nbsp;&nbsp;&nbsp;&nbsp;<font size=\"+2\">↳</font>&nbsp;&nbsp;&nbsp;&nbsp;<span style=\"background-color: black; color: white;\">&nbsp;METHOD - 2&nbsp;</span>&nbsp;&nbsp;====>&nbsp;&nbsp;<code style=\"background-color: #85fff9;\">From <u>outside the Person class</u></span></code>&nbsp;&nbsp;===>&nbsp;&nbsp;&nbsp;<code>using &nbsp;<strong><span style=\"color: red;\">Classname.</span><span style=\"color: blue;\">classattributename</span></strong></code>\n",
    "\n",
    "<br>\n",
    "\n",
    "<div style=\"margin-left: 100px;\">\n",
    "\n",
    "![](media/Shraddha_Kapra_oops_30.PNG)\n",
    "\n",
    "</div>"
   ]
  },
  {
   "cell_type": "code",
   "execution_count": 108,
   "id": "572fe501-031c-4760-8c0f-8b44e2097155",
   "metadata": {},
   "outputs": [
    {
     "name": "stdout",
     "output_type": "stream",
     "text": [
      "Avinash\n"
     ]
    }
   ],
   "source": [
    "\n",
    "class Person:\n",
    "    def __init__(self):\n",
    "        pass\n",
    "\n",
    "p = Person()\n",
    "\n",
    "# print(p.name)                  # OUTPUT:  AttributeError: 'Person' object has no attribute 'name'\n",
    "\n",
    "Person.name = \"Avinash\"          # creates a class attribute \"name\" since there is no such class attribute \"name\"\n",
    "\n",
    "print(p.name)\n"
   ]
  },
  {
   "cell_type": "markdown",
   "id": "a2c48020-883c-47f0-811d-cd8691e4fb7a",
   "metadata": {},
   "source": [
    "<br><br>\n",
    "\n",
    "<span style=\"color: #DCBD10\">▬▬▬▬▬▬▬▬▬▬▬▬▬▬▬▬▬▬▬▬▬▬▬▬▬▬▬▬▬▬▬▬▬▬▬▬▬▬▬▬▬▬▬▬▬▬▬▬▬▬▬▬▬▬▬▬▬▬▬▬▬▬▬▬▬▬▬▬▬▬▬▬▬▬▬▬▬</span>  \n",
    "\n",
    "<br>\n",
    "\n",
    "<code style=\"background-color: white;\">Let us verify the <code style=\"background-color: black; color: white;\">Method - 1</code> and <code style=\"background-color: black; color: white;\">Method - 2</code> before we proceed to the <code style=\"background-color: black; color: white;\">Method - 3</code> (<span style=\"color: blue; font-size: 1rem;\"><strong>Class Method</strong></span>)</code>\n"
   ]
  },
  {
   "cell_type": "code",
   "execution_count": 100,
   "id": "f65684b8-5140-4bb3-b8a1-8beb372473e1",
   "metadata": {},
   "outputs": [],
   "source": [
    "\n",
    "class Person:\n",
    "    name = \"cls attr 1\"                      #  class attribute\n",
    "\n",
    "    # INSTANCE METHOD\n",
    "    def change_name(self, name):\n",
    "        self.name = name                     #  creates or updates instance attribute \"name\"\n",
    "        \n",
    "        self.__class__.name = name           #  updates the class attribute \"name\" since it is already created     ====>   METHOD - 1A\n",
    "        Person.name = name                   #  updates the class attribute \"name\" since it is already created     ====>   METHOD - 1B\n",
    "\n",
    "\n",
    "p = Person()                                 #  creates an object of type Person\n"
   ]
  },
  {
   "cell_type": "code",
   "execution_count": 83,
   "id": "ddd59fb3-a240-4eaf-b4d6-091b06610ade",
   "metadata": {},
   "outputs": [
    {
     "name": "stdout",
     "output_type": "stream",
     "text": [
      "[]\n",
      "cls attr 1\n",
      "cls attr 1\n"
     ]
    }
   ],
   "source": [
    "\n",
    "print(list(p.__dict__.keys()))               #  OUTPUT: []                ===> The object \"P\" does not have any instance attribute as of now\n",
    "print(p.name)                                # OUTPUT:  inst attr 1   \n",
    "print(Person.name)                           # OUTPUT:  cls attr 2\n"
   ]
  },
  {
   "cell_type": "code",
   "execution_count": 84,
   "id": "9dfbf5b7-c047-4dc2-b8cf-830a9c925aae",
   "metadata": {},
   "outputs": [],
   "source": [
    "\n",
    "p.change_name(\"inst attr 1\")                 #  calls the most recent method method change_name() which happens to be an instance method in this case\n"
   ]
  },
  {
   "cell_type": "code",
   "execution_count": 85,
   "id": "6d19a8ca-8835-4849-9ed8-5c2813a0dcde",
   "metadata": {},
   "outputs": [
    {
     "name": "stdout",
     "output_type": "stream",
     "text": [
      "['name']\n",
      "inst attr 1\n",
      "inst attr 1\n"
     ]
    }
   ],
   "source": [
    "\n",
    "print(list(p.__dict__.keys()))               # OUTPUT: ['name']           ===> The object \"p\" now has an instance attribute called \"name\"\n",
    "print(p.name)                                # OUTPUT:  Avinash\n",
    "print(Person.name)                           # OUTPUT:  Avinash\n"
   ]
  },
  {
   "cell_type": "code",
   "execution_count": 86,
   "id": "4c2e663a-62a7-4a75-9571-46b36735b38c",
   "metadata": {},
   "outputs": [],
   "source": [
    "\n",
    "Person.name = \"cls attr 2\"                   #  updates the class attribute \"name\" since it is already created     ====>   METHOD - 2\n"
   ]
  },
  {
   "cell_type": "code",
   "execution_count": 87,
   "id": "440b7e58-514c-4971-9f31-b44e2d770118",
   "metadata": {},
   "outputs": [
    {
     "name": "stdout",
     "output_type": "stream",
     "text": [
      "['name']\n",
      "inst attr 1\n",
      "cls attr 2\n"
     ]
    }
   ],
   "source": [
    "\n",
    "print(list(p.__dict__.keys()))\n",
    "print(p.name)                                # OUTPUT:  Avinash\n",
    "print(Person.name)                           # OUTPUT:  Avinash\n"
   ]
  },
  {
   "cell_type": "markdown",
   "id": "9753cc3e-253c-4f0f-9059-6a8c8c2e8439",
   "metadata": {},
   "source": [
    "<br><br>\n",
    "\n",
    "<span style=\"color: #DCBD10\">▬▬▬▬▬▬▬▬▬▬▬▬▬▬▬▬▬▬▬▬▬▬▬▬▬▬▬▬▬▬▬▬▬▬▬▬▬▬▬▬▬▬▬▬▬▬▬▬▬▬▬▬▬▬▬▬▬▬▬▬▬▬▬▬▬▬▬▬▬▬▬▬▬▬▬▬▬</span>  \n",
    "\n",
    "<br>\n",
    "\n",
    "&nbsp;&nbsp;&nbsp;&nbsp;<font size=\"+2\">↳</font>&nbsp;&nbsp;&nbsp;&nbsp;<span style=\"background-color: black; color: white;\">&nbsp;METHOD - 3&nbsp;</span>&nbsp;&nbsp;====>&nbsp;&nbsp;<code style=\"background-color: #85fff9;\">Through a <span style=\"font-size: 1rem;\"><strong>Class Method</strong></span></code>&nbsp;&nbsp;===>&nbsp;&nbsp;&nbsp;<code>using   <span style=\"font-size: 1rem; color: red;\"><strong><i><u>@classmethod</u></i></strong></span>   &   <i><strong><span style=\"color: red; font-size: 1rem;\">cls.</span><span style=\"color: blue;\">classattributename</span></strong></i></code>"
   ]
  },
  {
   "cell_type": "markdown",
   "id": "3bad5e6e-f24f-4296-82f1-66e2d05ab91f",
   "metadata": {},
   "source": [
    "<div style=\"margin-left: 20px;\">\n",
    "\n",
    "![](media/Shraddha_Kapra_oops_33.PNG)\n",
    "\n",
    "</div>\n",
    "\n",
    "<br><br>\n",
    "\n",
    "<div style=\"background-color: #daffd4; padding: 10px;\"> <br>\n",
    "    \n",
    "In <code style=\"background-color: #daffd4;\">Python, if you define both an <u>instance method</u> and a <u>class method</u> with the <u>same name</u> in the <u>same class</u>, <span style=\"font-size: 1rem;\"><strong>the most recently defined method will overwrite the previous one</strong></span> <span style=\"background-color: #9bff8b;\">irrespective of whether it is called through an object (<strong><span style=\"color: red; font-size: 1rem;\">object.</span><span style=\"color: blue; font-size: 1rem;\">methodname</span></strong>) or through the classname (<strong><span style=\"color: red;  font-size: 1rem;\">classname.</span><span style=\"color: blue;  font-size: 1rem;\">methodname</span></strong>)</span></code>\n",
    "\n",
    "</div>"
   ]
  },
  {
   "cell_type": "markdown",
   "id": "f60c5b61-c772-4b88-a3b7-60e0705d3231",
   "metadata": {},
   "source": [
    "<div style=\"margin-left: 45px;\">\n",
    "\n",
    "![](media/Shraddha_Kapra_oops_34.PNG)\n",
    "\n",
    "</div>\n",
    "\n",
    "<br>\n",
    "\n",
    "<code style=\"background-color: white;\">Also note that you can call a <span style=\"background-color: #ffe4ae;\">class method</span> too through <span style=\"background-color: #ffe4ae;\">an object of the class</span>, but remember it's <span style=\"font-size: 1rem;\"><strong>not recommended</strong></span>.</code>\n",
    "\n"
   ]
  },
  {
   "cell_type": "code",
   "execution_count": 4,
   "id": "45d05df1-f4a3-4bdb-9de4-89bee102f6e9",
   "metadata": {},
   "outputs": [
    {
     "name": "stdout",
     "output_type": "stream",
     "text": [
      "Instance method called\n",
      "Class method called\n",
      "Class method called\n"
     ]
    }
   ],
   "source": [
    "class MyClass:\n",
    "    def instance_method(self):\n",
    "        print(\"Instance method called\")\n",
    "\n",
    "    @classmethod\n",
    "    def class_method(cls):\n",
    "        print(\"Class method called\")\n",
    "\n",
    "\n",
    "# Create an instance of MyClass\n",
    "obj = MyClass()\n",
    "\n",
    "\n",
    "# Call the instance method\n",
    "obj.instance_method()                                                               # Output: Instance method called\n",
    "\n",
    "\n",
    "# Call the class method using the class name\n",
    "MyClass.class_method()                                                              # Output: Class method called\n",
    "\n",
    "\n",
    "# Or call the class method using the instance (not recommended but possible)\n",
    "obj.class_method()                                                                  # Output: Class method called\n"
   ]
  },
  {
   "cell_type": "markdown",
   "id": "0642c13c-7bfd-468a-a4ff-0ddf4cfc4810",
   "metadata": {},
   "source": [
    "<br>\n",
    "\n",
    "<code style=\"font-size: 1.05rem; background-color: white; color: #28b463;\"><strong>Let's summarise how to <u><span style=\"color: red\">access</span></u> or <u><span style=\"color: red\">modify</span></u> a class attribute?</strong></code>\n",
    "\n",
    "<br>\n",
    "\n",
    "<div style=\"margin-left: 60px;\">\n",
    "\n",
    "![](media/Shraddha_Kapra_oops_35.PNG)\n",
    "\n",
    "</div>\n",
    "\n",
    "Let's &nbsp;verify &nbsp;it:   "
   ]
  },
  {
   "cell_type": "code",
   "execution_count": 127,
   "id": "d25c36ca-85d6-4a7a-981e-6f4c7765acf5",
   "metadata": {},
   "outputs": [
    {
     "name": "stdout",
     "output_type": "stream",
     "text": [
      "cls attr 0\n",
      "cls attr 1\n",
      "cls attr 2\n",
      "cls attr 3\n"
     ]
    }
   ],
   "source": [
    "class Person:\n",
    "    name = \"cls attr 0\"                      #  class attribute\n",
    "\n",
    "    # INSTANCE METHOD\n",
    "    def change_name_ins(self, name):\n",
    "        # self.name = name                   #  creates or updates instance attribute \"name\"\n",
    "        self.__class__.name = name           #  updates the class attribute \"name\" since it is already created     ====>    METHOD - 1A\n",
    "        Person.name = name                   #  updates the class attribute \"name\" since it is already created     ====>    METHOD - 1B\n",
    "\n",
    "    @classmethod\n",
    "    def change_name_cls(cls, name):\n",
    "        cls.name = name                      #  updates the class attribute \"name\" since it is already created     ====>    METHOD - 3 \n",
    "\n",
    "\n",
    "p = Person()                                 #  creates an object of type Person\n",
    "print(Person.name)\n",
    "\n",
    "p.change_name_ins(\"cls attr 1\")              #  calls instance method change_name_ins()                            ====>    METHOD - 1\n",
    "print(Person.name)\n",
    "\n",
    "Person.name = \"cls attr 2\"                   #  updates the class attribute \"name\" since it is already created     ====>    METHOD - 2\n",
    "print(Person.name)\n",
    "\n",
    "p.change_name_cls(\"cls attr 3\")              #  calls instance method change_name_cls()                            ====>    METHOD - 3\n",
    "print(Person.name)"
   ]
  },
  {
   "cell_type": "markdown",
   "id": "d6f6a2cb-686f-42b1-9856-5bea90989e79",
   "metadata": {},
   "source": [
    "<br><br>\n",
    "\n",
    "<code style=\"background-color: yellow;\">Now before proceeding to the next concept, lets's practice the above concepts on some real life examples from the corporate world:</code>\n",
    "\n",
    "<br>\n",
    "\n",
    "<span style=\"color: red;\">Example of a Class Method</span>"
   ]
  },
  {
   "cell_type": "code",
   "execution_count": 130,
   "id": "9ed53adb-561f-4102-a61f-9c267d6c3d38",
   "metadata": {},
   "outputs": [
    {
     "name": "stdout",
     "output_type": "stream",
     "text": [
      "2\n",
      "John Doe\n",
      "Manager\n"
     ]
    }
   ],
   "source": [
    "\n",
    "class Employee:\n",
    "    num_employees = 0                        # Class attribute\n",
    "\n",
    "    def __init__(self, name, position):\n",
    "        self.name = name                     # Instance attribute\n",
    "        self.position = position             # Instance attribute\n",
    "        Employee.num_employees += 1\n",
    "\n",
    "    @classmethod\n",
    "    def from_string(cls, employee_str):\n",
    "        name, position = employee_str.split(\" - \")\n",
    "        return cls(name, position)\n",
    "\n",
    "    @classmethod\n",
    "    def get_num_employees(cls):\n",
    "        return cls.num_employees\n",
    "\n",
    "# Creating instances using the class method\n",
    "emp1 = Employee(\"John Doe\", \"Developer\")\n",
    "emp2 = Employee.from_string(\"Jane Smith - Manager\")\n",
    "\n",
    "# Accessing class method\n",
    "print(Employee.get_num_employees())                    # Output: 2\n",
    "\n",
    "# Accessing instance attributes\n",
    "print(emp1.name)                                       # Output: John Doe\n",
    "print(emp2.position)                                   # Output: Manager\n"
   ]
  },
  {
   "cell_type": "markdown",
   "id": "c7f01f26-cd58-4d72-a87b-9c07dac9a9b3",
   "metadata": {},
   "source": [
    "<br>\n",
    "\n",
    "<span style=\"color: red;\">Example: Modifying Class-Level Data</span>\n",
    "\n",
    "<br>"
   ]
  },
  {
   "cell_type": "code",
   "execution_count": 133,
   "id": "095d974f-c5bc-4856-a988-a0aea06c6f4c",
   "metadata": {},
   "outputs": [
    {
     "name": "stdout",
     "output_type": "stream",
     "text": [
      "300\n"
     ]
    }
   ],
   "source": [
    "class Warehouse:\n",
    "    total_stock = 0                                # Class attribute\n",
    "\n",
    "    def __init__(self, name, stock):\n",
    "        self.name = name                           # Instance-level attribute\n",
    "        self.stock = stock\n",
    "        Warehouse.total_stock += stock\n",
    "\n",
    "    @classmethod\n",
    "    def update_total_stock(cls, stock_change):\n",
    "        cls.total_stock += stock_change\n",
    "\n",
    "# Create instances\n",
    "warehouse1 = Warehouse(\"Warehouse A\", 100)\n",
    "warehouse2 = Warehouse(\"Warehouse B\", 150)\n",
    "\n",
    "# Modify total stock using class method\n",
    "Warehouse.update_total_stock(50)\n",
    "\n",
    "print(Warehouse.total_stock)                       # Output: 300 (100 + 150 + 50)\n"
   ]
  },
  {
   "cell_type": "markdown",
   "id": "f71c37f0-03f0-4490-b41b-11b1bed69f34",
   "metadata": {
    "jp-MarkdownHeadingCollapsed": true
   },
   "source": [
    "<br><br>\n",
    "\n",
    "### <span style=\"color: blue\">Getter &nbsp;Setter</span>\n"
   ]
  },
  {
   "cell_type": "code",
   "execution_count": null,
   "id": "c976d833-586a-4869-91d6-a6f73a4967df",
   "metadata": {},
   "outputs": [],
   "source": []
  },
  {
   "cell_type": "code",
   "execution_count": null,
   "id": "c35a4447-fea8-4198-9e21-e9f03869b863",
   "metadata": {},
   "outputs": [],
   "source": []
  },
  {
   "cell_type": "code",
   "execution_count": null,
   "id": "7f0d394c-6823-4161-b2eb-a0ffd276e16d",
   "metadata": {},
   "outputs": [],
   "source": []
  },
  {
   "cell_type": "code",
   "execution_count": null,
   "id": "c4ce875c-4784-4310-b7c0-effe9834ad68",
   "metadata": {},
   "outputs": [],
   "source": []
  },
  {
   "cell_type": "markdown",
   "id": "3e46c5d0-e3c0-4928-84b4-20e59950df9b",
   "metadata": {
    "jp-MarkdownHeadingCollapsed": true
   },
   "source": [
    "<br><br>\n",
    "\n",
    "### <span style=\"color: blue\">Decorator</span>\n"
   ]
  },
  {
   "cell_type": "code",
   "execution_count": null,
   "id": "20f64861-b736-42bd-8ff1-30fd3808367d",
   "metadata": {},
   "outputs": [],
   "source": []
  },
  {
   "cell_type": "code",
   "execution_count": null,
   "id": "79103a5b-8c06-4268-bfda-00ef6ed63b60",
   "metadata": {},
   "outputs": [],
   "source": []
  },
  {
   "cell_type": "code",
   "execution_count": null,
   "id": "387c156e-a323-4798-b90f-6f1a25456e95",
   "metadata": {},
   "outputs": [],
   "source": []
  },
  {
   "cell_type": "code",
   "execution_count": null,
   "id": "5709eb61-ae5d-447d-8f4f-96d7c90e48a7",
   "metadata": {},
   "outputs": [],
   "source": []
  },
  {
   "cell_type": "markdown",
   "id": "2d2901ca-e363-48cf-826c-3c433c4d3bbb",
   "metadata": {},
   "source": [
    "<br><br>\n",
    "\n",
    "### <span style=\"color: blue\">Property</span>\n"
   ]
  },
  {
   "cell_type": "markdown",
   "id": "1772f677-b13e-4fcd-884b-d60b6e3691f1",
   "metadata": {},
   "source": [
    "\n",
    "<code style=\"background-color: white;\"><code style=\"background-color: blue; color: white;\">Property                              </code>  –  show you how to use the <span style=\"background-color: yellow;\">property class</span> to create a property</code>                               <br>\n",
    "<code style=\"background-color: white;\"><code style=\"background-color: blue; color: white;\">@property decorator                   </code>  –  learn how to use the <code style=\"background-color: yellow;\">@property decorator</code> to create a property</code>                  <br>\n",
    "<code style=\"background-color: white;\"><code style=\"background-color: blue; color: white;\">Read-only property                    </code>  –  learn how to define <u>read-only properties</u> and use them for computed properties</code>   <br>\n",
    "<code style=\"background-color: white;\"><code style=\"background-color: blue; color: white;\">Delete a property                     </code>  –  guide you on how to <u>delete a property</u> from an object</code>                             <br>\n",
    "<code style=\"background-color: white;\"><code style=\"background-color: blue; color: white;\">Advantages of using property in Python</code>  –  show you it's wider application through <u>practical examples</u></code>                                                              <br>\n",
    "\n",
    "<br>\n",
    "\n",
    "<br>\n",
    "\n",
    "<div style=\"background-color: #f2f4f4;\">\n",
    "<span style=\"font-size: 0.9rerm;\"><strong>NOTE</strong></span> - As usual, you may need to <strong>restart the kernel</strong>, especially in environments like Jupyter notebooks, to run or re-run the code in a particular cell. Because <u>restarting the kernel will clear out all previously stored variables, functions, and classes</u> and thus will avoid any conflicts between multiple versions of a property object\n",
    "</div>\n",
    "\n",
    "<br>\n",
    "\n",
    "<br>\n",
    "\n",
    "<span style=\"color: #DCBD10\">▬▬▬▬▬▬▬▬▬▬▬▬▬▬▬▬▬▬▬▬▬▬▬▬▬▬▬▬▬▬▬▬▬▬▬▬▬▬▬▬▬▬▬▬▬▬▬▬▬▬▬▬▬▬▬▬▬▬▬▬▬▬▬▬▬▬▬▬▬▬▬▬▬▬▬▬▬</span>\n"
   ]
  },
  {
   "cell_type": "markdown",
   "id": "9ace643f-d793-4d9e-94d9-0a3747fcd4f3",
   "metadata": {},
   "source": [
    "#### <code style=\"background-color: blue; color: white;\">Property</code>\n",
    "\n",
    "<br>\n",
    "\n",
    "<font size=\"+1\">⭐</font><u><strong><code style=\"font-size: 1.05rem; background-color: white;\">Summary</code></u>&nbsp;:</strong> <code style=\"background-color: white;\">In this tutorial, you’ll learn about the Python <span style=\"background-color: yellow;\">property</span> class and how to use it to define properties for a class.</code>\n",
    "\n",
    "<br>\n",
    "\n",
    "<span style=\"color: red;\">================================================================================================================</span>\n",
    "\n",
    "<br>\n",
    "\n",
    "<font size=\"+1\">⭐</font><u><strong><code style=\"font-size: 1.05rem; background-color: white;\">Introduction to class properties</code></strong></u>\n",
    "\n",
    "<code style=\"background-color: white;\">The following defines a <code style=\"color: red;\">Person</code> <span style=\"color: blue;\">class</span> that has two <span style=\"color: blue;\">attributes</span> <code style=\"color: red;\">name</code> and <code style=\"color: red;\">age</code>, and create a new instance of the <code style=\"color: red;\">Person</code> class:</code>"
   ]
  },
  {
   "cell_type": "code",
   "execution_count": 1,
   "id": "c5353fae-7bc3-40bc-9a14-d5222adbaa65",
   "metadata": {},
   "outputs": [],
   "source": [
    "\n",
    "class Person:\n",
    "    def __init__(self, name, age):\n",
    "        self.name = name\n",
    "        self.age = age\n",
    "\n",
    "avinash = Person('Avinash', 29)\n"
   ]
  },
  {
   "cell_type": "markdown",
   "id": "d3599862-782e-47f4-9e1b-1555236e5715",
   "metadata": {},
   "source": [
    "<br>\n",
    "\n",
    "<code style=\"background-color: white;\">Since <code style=\"color: red;\">age</code> is the <span style=\"color: blue;\">instance attribute</span> of the <code style=\"color: red;\">Person</code> class, you can assign it a <u>new value</u> like this:</code>"
   ]
  },
  {
   "cell_type": "code",
   "execution_count": 2,
   "id": "6bfc1822-2fbc-4b4d-b3fb-85574c4d24ad",
   "metadata": {},
   "outputs": [
    {
     "name": "stdout",
     "output_type": "stream",
     "text": [
      "30\n"
     ]
    }
   ],
   "source": [
    "\n",
    "avinash.age = 30\n",
    "\n",
    "print(avinash.age)\n"
   ]
  },
  {
   "cell_type": "markdown",
   "id": "a1eb7d49-9521-4b3c-9150-3e45e34c527d",
   "metadata": {},
   "source": [
    "<br>\n",
    "\n",
    "<code style=\"background-color: white;\">The following assignment is also technically valid:</code>\n"
   ]
  },
  {
   "cell_type": "code",
   "execution_count": 4,
   "id": "247f2bbd-8a2e-4b10-98d3-5bff35a0b44c",
   "metadata": {},
   "outputs": [
    {
     "name": "stdout",
     "output_type": "stream",
     "text": [
      "-1\n"
     ]
    }
   ],
   "source": [
    "\n",
    "avinash.age = -1\n",
    "\n",
    "print(avinash.age)\n"
   ]
  },
  {
   "cell_type": "markdown",
   "id": "c64cb569-70f5-4705-9d74-19164040ffb7",
   "metadata": {},
   "source": [
    "<br>\n",
    "\n",
    "<code style=\"background-color: white;\">However, this <code style=\"color: red;\">age</code> is <u>semantically incorrect</u>.</code>\n",
    "\n",
    "<code style=\"background-color: white;\">To ensure that the <code style=\"color: red;\">age</code> is not zero or negative, you use the <code style=\"color: blue;\">if</code> statement to add a check as follows:</code>\n",
    "\n",
    "<div style=\"margin-left: 6px;\">\n",
    "\n",
    "![](media/Shraddha_Kapra_oops_41.PNG)\n",
    "\n",
    "</div>\n",
    "\n",
    "<code style=\"background-color: white;\">And you need to do this every time you want to assign a value to the age attribute. <u>This is repetitive and difficult to maintain</u>.</code>\n",
    "\n",
    "<code style=\"background-color: #dcfefc;\">To avoid this repetition, you can define a pair of methods called <span style=\"font-size: 1rem;\"><strong>getter</strong></span> and <span style=\"font-size: 1rem;\"><strong>setter</strong></span>.</code>\n",
    "\n",
    "<br>\n",
    "\n",
    "<span style=\"color: red;\">================================================================================================================</span>\n",
    "\n",
    "<br>\n",
    "\n",
    "<font size=\"+1\">⭐</font><u><strong><code style=\"font-size: 1.05rem; background-color: white;\">Getter and Setter</code></strong></u>\n",
    "\n",
    "<code style=\"background-color: white;\">The getter and setter methods provide an interface for accessing an instance attribute:</code>\n",
    "\n",
    "&nbsp;&nbsp;&nbsp;&nbsp;&nbsp;&nbsp;&nbsp;<span style=\"color: red;\">▷</span>&nbsp;&nbsp;<code style=\"background-color: white;\">The <span style=\"font-size: 1rem;\"><strong>getter</strong></span> returns the value of an attribute</code>   <br>\n",
    "&nbsp;&nbsp;&nbsp;&nbsp;&nbsp;&nbsp;&nbsp;<span style=\"color: red;\">▷</span>&nbsp;&nbsp;<code style=\"background-color: white;\">The <span style=\"font-size: 1rem;\"><strong>setter</strong></span> sets a new value for an attribute</code>\n",
    "\n",
    "<br>\n",
    "\n",
    "In <code style=\"background-color: white;\">the above example, you can make the <code style=\"color: red;\">age</code> attribute <u><span style=\"color: blue; font-size: 1rem;\"><strong>private</strong></span> (by convention)</u> and define a <span style=\"font-size: 1rem;\"><strong>getter</strong></span> and a <span style=\"font-size: 1rem;\"><strong>setter</strong></span> to manipulate the <code style=\"color: red;\">age</code> attribute.</code>\n"
   ]
  },
  {
   "cell_type": "code",
   "execution_count": 5,
   "id": "3797a9ff-e359-4100-8c45-2d7e13d35b4b",
   "metadata": {},
   "outputs": [],
   "source": [
    "\n",
    "class Person:\n",
    "    def __init__(self, name, age):\n",
    "        self.name = name\n",
    "        # self._age = age              # you  need  to  add  the  validation check  before  setting  the  age,  so  better  call  the  set_age()  method\n",
    "        self.set_age(age)              # calls  the  set_age()  setter  method  to  initialize  the  \"_age\"  attribute\n",
    "\n",
    "    def get_age(self):                 # getter\n",
    "        return self._age\n",
    "\n",
    "    def set_age(self, age):            # setter\n",
    "        if age <= 0:\n",
    "            raise ValueError('The age must be positive')\n",
    "        self._age = age\n"
   ]
  },
  {
   "cell_type": "markdown",
   "id": "7999d986-463b-41e3-a1bb-9aa88580efc5",
   "metadata": {},
   "source": [
    "<br>\n",
    "\n",
    "<u><span style=\"font-size: 1rem;\"><strong>Note</strong></span></u> &nbsp;&nbsp;&nbsp;===>&nbsp;&nbsp; <code style=\"background-color:  #dcfefc \n",
    ";\">By convention the <span style=\"font-size: 0.8rem;\"><strong>getter</strong></span> and <span style=\"font-size: 0.8rem;\"><strong>setter</strong></span> have the following name:  <span style=\"color: red; font-size: 1rem;\"><strong>get_\\<attribute>()</strong></span>   and   <span style=\"color: red; font-size: 1rem;\"><strong>set_\\<attribute>()</strong></span></code>\n",
    "\n",
    "&nbsp;&nbsp;&nbsp;&nbsp;&nbsp;&nbsp;&nbsp;&nbsp;&nbsp;&nbsp;&nbsp;&nbsp;&nbsp;&nbsp;===>&nbsp;&nbsp;<code style=\"background-color: white;\">Private attribute <code style=\"color: red;\">_age</code> cannot be accessed like a Public attribute <code style=\"color: red;\">age</code></code>"
   ]
  },
  {
   "cell_type": "code",
   "execution_count": 42,
   "id": "6cb717bb-a76d-4411-ae77-fea27bf022a9",
   "metadata": {},
   "outputs": [
    {
     "ename": "AttributeError",
     "evalue": "'Person' object has no attribute 'set_age'",
     "output_type": "error",
     "traceback": [
      "\u001b[1;31m---------------------------------------------------------------------------\u001b[0m",
      "\u001b[1;31mAttributeError\u001b[0m                            Traceback (most recent call last)",
      "Cell \u001b[1;32mIn[42], line 5\u001b[0m\n\u001b[0;32m      1\u001b[0m avinash \u001b[38;5;241m=\u001b[39m Person(\u001b[38;5;124m'\u001b[39m\u001b[38;5;124mAvinash\u001b[39m\u001b[38;5;124m'\u001b[39m, \u001b[38;5;241m18\u001b[39m)\n\u001b[0;32m      3\u001b[0m \u001b[38;5;66;03m# print(avinash.age)                  # OUTPUT:  AttributeError: 'Person' object has no attribute 'age'\u001b[39;00m\n\u001b[1;32m----> 5\u001b[0m \u001b[43mavinash\u001b[49m\u001b[38;5;241;43m.\u001b[39;49m\u001b[43mset_age\u001b[49m(\u001b[38;5;241m-\u001b[39m\u001b[38;5;241m19\u001b[39m)                  \u001b[38;5;66;03m# OUTPUT:  ValueError: The age must be positive\u001b[39;00m\n",
      "\u001b[1;31mAttributeError\u001b[0m: 'Person' object has no attribute 'set_age'"
     ]
    }
   ],
   "source": [
    "\n",
    "avinash = Person('Avinash', 18)\n",
    "\n",
    "# print(avinash.age)                  # OUTPUT:  AttributeError: 'Person' object has no attribute 'age'\n",
    "\n",
    "avinash.set_age(-19)                  # OUTPUT:  ValueError: The age must be positive\n"
   ]
  },
  {
   "cell_type": "markdown",
   "id": "5a082494-4363-4373-a45e-dd1ba1ce8931",
   "metadata": {},
   "source": [
    "<br>\n",
    "\n",
    "<code style=\"background-color: white;\">This code works just fine. But it has a <span style=\"font-size: 0.9rem; background-color: yellow;\">backward compatibility issue</span>.</code>\n",
    "\n",
    "<br>\n",
    "\n",
    "<div style=\"background-color: #fbe8ff; padding: 20px; margin-left: -10px;\">\n",
    "\n",
    "Suppose <code style=\"background-color: #fbe8ff;\">you added the <span style=\"font-size: 0.9rem;\"><strong>getter</strong></span> and <span style=\"font-size: 0.9rem;\"><strong>setter</strong></span> for the instance attribute <span style=\"color: blue; font-size: 0.9rem;\"><strong>_age</strong></span> of the <span style=\"color: red; font-size: 0.9rem;\"><strong>Person</strong></span> class to add some validation check on it while other developers have abeen already using it.</code>\n",
    "\n",
    "<br>\n",
    "\n",
    "You <code style=\"background-color: #fbe8ff;\">may fear it may break their code (i.e, all their code that uses the <span style=\"color: red; font-size: 0.9rem;\"><strong>Person</strong></span> class won’t work anymore) and now they might have to change it to get and set the instance attribute <span style=\"color: blue; font-size: 0.9rem;\"><strong>_age</strong></span> through the <span style=\"font-size: 1rem;\"><strong>getter</strong></span> and <span style=\"font-size: 1rem;\"><strong>setter</strong></span> method.</code>\n",
    "\n",
    "<br>\n",
    "\n",
    "But <code style=\"background-color: #fbe8ff;\">surprisingly, you'll find that even after releasing your code and merging with theirs, <span style=\"background-color: white;\">they are <u>still able</u> to get and set that instance attribute <span style=\"color: blue; font-size: 0.9rem;\"><strong>_age</strong></span> without using the <span style=\"font-size: 1rem;\"><strong>getter</strong></span> and <span style=\"font-size: 1rem;\"><strong>setter</strong></span> methods recently added. In other words, without doing any validation check which fails the purpose of adding the <span style=\"font-size: 1rem;\"><strong>getter</strong></span> and <span style=\"font-size: 1rem;\"><strong>setter</strong></span>.</span> This is called the <span style=\"font-size: 0.9rem; background-color: yellow;\">backward compatibility issue</span>.</code>\n",
    "\n",
    "</div> <br>\n",
    "\n",
    "<br>\n",
    "\n",
    "<code style=\"background-color: white;\">Let's understand this <span style=\"font-size: 0.9rem; background-color: yellow;\">backward compatibility issue</span> through an example</code>:\n",
    "\n",
    "<div style=\"margin-left: 10px;\">\n",
    "\n",
    "![](media/Shraddha_Kapra_oops_42.PNG)\n",
    "\n",
    "</div>"
   ]
  },
  {
   "cell_type": "code",
   "execution_count": 43,
   "id": "66fad8ea-984b-4ab0-8372-e4e32eb44e00",
   "metadata": {},
   "outputs": [
    {
     "name": "stdout",
     "output_type": "stream",
     "text": [
      "30\n",
      "-1\n",
      "25\n",
      "26\n"
     ]
    },
    {
     "ename": "ValueError",
     "evalue": "The age must be positive",
     "output_type": "error",
     "traceback": [
      "\u001b[1;31m---------------------------------------------------------------------------\u001b[0m",
      "\u001b[1;31mValueError\u001b[0m                                Traceback (most recent call last)",
      "Cell \u001b[1;32mIn[43], line 28\u001b[0m\n\u001b[0;32m     26\u001b[0m p2\u001b[38;5;241m.\u001b[39mset_age(\u001b[38;5;241m26\u001b[39m)                                                                \u001b[38;5;66;03m#  USING  setter\u001b[39;00m\n\u001b[0;32m     27\u001b[0m \u001b[38;5;28mprint\u001b[39m(p2\u001b[38;5;241m.\u001b[39mget_age())                 \u001b[38;5;66;03m# OUTPUT: 26                              #  USING  getter\u001b[39;00m\n\u001b[1;32m---> 28\u001b[0m \u001b[43mp2\u001b[49m\u001b[38;5;241;43m.\u001b[39;49m\u001b[43mset_age\u001b[49m\u001b[43m(\u001b[49m\u001b[38;5;241;43m-\u001b[39;49m\u001b[38;5;241;43m1\u001b[39;49m\u001b[43m)\u001b[49m                      \u001b[38;5;66;03m# ValueError: The age must be positive    #  USING  setter             ===>   This throws validation error\u001b[39;00m\n",
      "Cell \u001b[1;32mIn[43], line 13\u001b[0m, in \u001b[0;36mPerson.set_age\u001b[1;34m(self, age)\u001b[0m\n\u001b[0;32m     11\u001b[0m \u001b[38;5;28;01mdef\u001b[39;00m \u001b[38;5;21mset_age\u001b[39m(\u001b[38;5;28mself\u001b[39m, age):         \u001b[38;5;66;03m# setter\u001b[39;00m\n\u001b[0;32m     12\u001b[0m     \u001b[38;5;28;01mif\u001b[39;00m age \u001b[38;5;241m<\u001b[39m\u001b[38;5;241m=\u001b[39m \u001b[38;5;241m0\u001b[39m:\n\u001b[1;32m---> 13\u001b[0m         \u001b[38;5;28;01mraise\u001b[39;00m \u001b[38;5;167;01mValueError\u001b[39;00m(\u001b[38;5;124m'\u001b[39m\u001b[38;5;124mThe age must be positive\u001b[39m\u001b[38;5;124m'\u001b[39m)\n\u001b[0;32m     14\u001b[0m     \u001b[38;5;28mself\u001b[39m\u001b[38;5;241m.\u001b[39m_age \u001b[38;5;241m=\u001b[39m age\n",
      "\u001b[1;31mValueError\u001b[0m: The age must be positive"
     ]
    }
   ],
   "source": [
    "\n",
    "# NEW  SNAPSHOT  OF  THE  MERGED  CODEBASE  FOR  BOTH  THE  DEVELOPERS\n",
    "\n",
    "class Person:\n",
    "    def __init__(self, name, age):\n",
    "        self.name = name\n",
    "        self.set_age(age)           # sets  \"_age\"  WITH  validation\n",
    "\n",
    "    def get_age(self):              # getter\n",
    "        return self._age\n",
    "\n",
    "    def set_age(self, age):         # setter\n",
    "        if age <= 0:\n",
    "            raise ValueError('The age must be positive')\n",
    "        self._age = age\n",
    "\n",
    "\n",
    "p1 = Person(\"Avinash\", 30)\n",
    "\n",
    "print(p1._age)                     # OUTPUT:  30                              #  WITHOUT  USING  getter\n",
    "p1._age = -1                                                                  #  WITHOUT  USING  setter    ===>   This does not throw validation error\n",
    "print(p1._age)                     # OUTPUT:  -1                              #  WITHOUT  USING  getter\n",
    "\n",
    "p2 = Person(\"Aman\", 25)\n",
    "\n",
    "print(p2.get_age())                 # OUTPUT: 25                              #  USING  getter\n",
    "p2.set_age(26)                                                                #  USING  setter\n",
    "print(p2.get_age())                 # OUTPUT: 26                              #  USING  getter\n",
    "p2.set_age(-1)                      # ValueError: The age must be positive    #  USING  setter             ===>   This throws validation error\n"
   ]
  },
  {
   "cell_type": "markdown",
   "id": "657284ab-ac89-43e3-92e4-f59c422491e9",
   "metadata": {},
   "source": [
    "<br>\n",
    "\n",
    "The <code style=\"background-color: white;\"><span style=\"font-size: 0.9rem; background-color: yellow;\">backward compatibility issue</span> in this scenario arises because <span style=\"font-size: 1rem;\"><strong>Python does not enforce strict encapsulation</strong></span>. Even though the <code style=\"color: red;\">_age</code> attribute is intended to be treated as \"<span style=\"color: blue;\">private</span>\" (indicated by the leading underscore), <code>it is still accessible and modifiable directly, outside of the <span style=\"color: red;\">Person</span> class</code>. This is why you can access <code>p1.<span style=\"color: red;\">_age</span></code> and modify it directly, even after <u>developer2</u> introduced the <code style=\"color: blue;\">get_age()</code> and <code style=\"color: blue;\">set_age()</code> methods to handle validation.</code>\n",
    "\n",
    "<br>\n",
    "\n",
    "<code style=\"color: black; font-size: 1rem; background-color: #2471a3; color: white;\">Why this happens :</code>\n",
    "\n",
    "<div style=\"margin-left: 50px\">\n",
    "<span style=\"font-size: 1.1rem;\">↳</span> &nbsp;<span style= \"font-size: 1rem; color: #2ecc71;\"><strong>Leading &nbsp;Underscore (<code style=\"color: red;\">_</code>)</strong></span><code style=\"background-color: white;\">: In Python, a leading underscore is a convention that indicates an attribute is intended to be used only internally (i.e., \"<span style=\"color: blue;\">private</span>\" by convention), but it is not enforced by the language itself. You can still directly access and modify it from outside the class, as you have done with <code>p1.<span style=\"color: red;\">_age</span> = 31</code>.</code>\n",
    "</div>\n",
    "\n",
    "<br>\n",
    "\n",
    "<div style=\"margin-left: 50px\">\n",
    "<span style=\"font-size: 1.1rem;\">↳</span> &nbsp;<span style= \"font-size: 1rem; color: #2ecc71;\"><strong>Backward &nbsp;Compatibility</strong></span><code style=\"background-color: white;\">:</code><code style=\"background-color: white;\">The <span style=\"background-color: yellow;\">issue</span> here is that while <u>developer2</u> introduced <span style=\"font-size: 1rem;\"><strong>getter</strong></span> and <span style=\"font-size: 1rem;\"><strong>setter</strong></span> methods to validate and encapsulate access to the <code style=\"color: red;\">_age</code> attribute, existing code (like <code>p1.<span style=\"color: red;\">_age</span> = 31</code>) from <u>developer1</u> still works without using those methods. <code style=\"background-color: #c9fffa;\">This breaks the intent of encapsulation and validation but preserves compatibility with older code, leading to potential inconsistencies in how the <span style=\"color: red;\">_age</span> attribute is handled</code>.</code>\n",
    "</div>\n",
    "\n",
    "<br>\n",
    "\n",
    "<code style=\"font-size: 1rem; background-color: #2471a3; color: white;\">How to Properly Encapsulate :</code>\n",
    "\n",
    "<div style=\"margin-left: 50px\">\n",
    "To <code style=\"background-color: white;\">truly restrict direct access and enforce encapsulation, you can use <span style=\"font-size: 1rem;\"><strong>double underscores (<code style=\"color: red;\">__</code>)</strong></span> for name mangling or Python's property mechanism:</code>\n",
    "\n",
    "<span style=\"font-size: 1rem; color: #2ecc71;\"><strong>1. Name &nbsp;Mangling &nbsp;(Double &nbsp;underscore)</strong></span> :   <br>\n",
    "&nbsp;&nbsp;&nbsp;&nbsp;&nbsp;&nbsp;&nbsp;&nbsp;&nbsp;&nbsp;&nbsp;&nbsp;<code style=\"background-color: white;\">Using <code style=\"color: red;\">__age</code> makes it harder (but not impossible) to access the attribute directly from outside the class.</code>\n",
    "\n",
    "</div>\n",
    "\n",
    "<div style=\"margin-left: 175px;\">\n",
    "\n",
    "![](media/Shraddha_Kapra_oops_43.PNG)\n",
    "\n",
    "</div>\n",
    "\n",
    "<div style=\"margin-left: 50px\">\n",
    "\n",
    "<span style=\"font-size: 1rem; color: #2ecc71;\"><strong>2. Using &nbsp;<span style=\"background-color: yellow; color: black;\">property</span> &nbsp;for &nbsp;Encapsulation</strong></span> :   <br>\n",
    "&nbsp;&nbsp;&nbsp;&nbsp;&nbsp;&nbsp;&nbsp;&nbsp;&nbsp;&nbsp;&nbsp;&nbsp;<code style=\"background-color: white;\">To define a <span style=\"font-size: 1rem;\"><strong>getter</strong></span> and <span style=\"font-size: 1rem;\"><strong>setter</strong></span> method while achieving <u>backward compatibility</u>, you can use the <span style=\"background-color: yellow;\">property()</span> class.</code>  <br>\n",
    "&nbsp;&nbsp;&nbsp;&nbsp;&nbsp;&nbsp;&nbsp;&nbsp;&nbsp;&nbsp;&nbsp;&nbsp;<code style=\"background-color: white;\">Alternatively, you can also use the <span style=\"background-color: yellow;\">@property decorator</span> to manage access to the <code style=\"color: red;\">_age</code> attribute.\n",
    "\n",
    "</div>\n",
    "\n",
    "<div style=\"margin-left: 110px;\">\n",
    "\n",
    "![](media/Shraddha_Kapra_oops_44.PNG)\n",
    "Now, <code style=\"background-color: white;\">directly accessing <code>p1.<span style=\"color: red;\">_age</span></code> or setting <code>p1.<span style=\"color: red;\">_age</span> = -1</code> <span style=\"font-size: 1rem;\"><strong>won't bypass the validation logic</strong></span>, enforcing proper encapsulation.</code>\n",
    "</div>\n",
    "\n",
    "<br>\n",
    "\n",
    "<span style=\"color: red;\">================================================================================================================</span>\n",
    "\n",
    "<br>\n",
    "\n",
    "<font size=\"+1\">⭐</font><u><strong><code style=\"font-size: 1.05rem; background-color: white;\">The Python property class</code></strong></u>\n",
    "\n",
    "<code style=\"background-color: white;\">The property class returns a <span style=\"background-color: yellow;\">property</span> <span style=\"font-size: 1rem;\"><strong>object</strong></span>. The <span style=\"background-color: yellow;\">property()</span> class has the following syntax:</code>\n",
    "\n",
    "<div style=\"margin-left: 70px;\">\n",
    "\n",
    "![](media/Shraddha_Kapra_oops_45.PNG)\n",
    "\n",
    "<code style=\"background-color: white\">The <span style=\"background-color: yellow;\">property()</span> has the following parameters:</code>\n",
    "\n",
    "&nbsp;&nbsp;&nbsp;&nbsp;&nbsp;&nbsp;&nbsp;&nbsp;&nbsp;<code style=\"background-color: white;\">● &nbsp;<code style=\"color: red;\">fget</code> is a function to get the value of the attribute, or the <span style=\"font-size: 1rem;\"><strong>getter</strong></span> method.</code>\n",
    "\n",
    "&nbsp;&nbsp;&nbsp;&nbsp;&nbsp;&nbsp;&nbsp;&nbsp;&nbsp;<code style=\"background-color: white;\">● &nbsp;<code style=\"color: red;\">fset</code> is a function to set the value of the attribute, or the <span style=\"font-size: 1rem;\"><strong>setter</strong></span> method.</code>\n",
    "\n",
    "&nbsp;&nbsp;&nbsp;&nbsp;&nbsp;&nbsp;&nbsp;&nbsp;&nbsp;<code style=\"background-color: white;\">● &nbsp;<code style=\"color: red;\">fdel</code> is a function to delete the attribute, or the <span style=\"font-size: 1rem;\"><strong>deleter</strong></span> method.</code>\n",
    "\n",
    "&nbsp;&nbsp;&nbsp;&nbsp;&nbsp;&nbsp;&nbsp;&nbsp;&nbsp;<code style=\"background-color: white;\">● &nbsp;<code style=\"color: red;\">doc</code> is a <span style=\"font-size: 1rem;\"><strong>docstring</strong></span> i.e., a comment.</code>\n",
    "\n",
    "</div>\n",
    "\n",
    "<br>\n",
    "\n",
    "<code style=\"background-color: white;\">The following uses the <span style=\"background-color: yellow;\">property()</span> function to define the <code style=\"color: red;\">age</code> property for the <code style=\"color: red;\">Person</code> class :</code>\n"
   ]
  },
  {
   "cell_type": "code",
   "execution_count": 44,
   "id": "a90c4d3a-c783-4909-9535-70dd6ceb6fdd",
   "metadata": {},
   "outputs": [],
   "source": [
    "\n",
    "class Person:\n",
    "\n",
    "    default_age = 18                                        # class attribute\n",
    "    \n",
    "    def __init__(self, name, age):\n",
    "        self.name = name                                    # instance attribute\n",
    "        self.age = age                                      # calls  the  setter  method   ====>  self.set_age(age)  ====>  set_age(self, age)   \n",
    "\n",
    "    def get_age(self):                                      # GETTER\n",
    "        return self._age\n",
    "\n",
    "    def set_age(self, age):                                 # SETTER\n",
    "        if age <= 0:\n",
    "            raise ValueError('The age must be positive')\n",
    "        self._age = age\n",
    "\n",
    "    age = property(fget=get_age, fset=set_age)              # creates an instance (object) of type property    ===>   \"age\" is a property class object\n"
   ]
  },
  {
   "cell_type": "markdown",
   "id": "f7317df7-5dda-4c3b-b7e5-562f50dc1067",
   "metadata": {},
   "source": [
    "<br>\n",
    "\n",
    "In <code style=\"background-color: white;\">the <code style=\"color: red;\">Person</code> class, we create a new <span style=\"background-color: yellow;\">property <span style=\"font-size: 1rem;\"><strong>object</strong></span></span> by calling the <span style=\"background-color: yellow;\">property()</span> and assign the <span style=\"background-color: yellow;\">property <span style=\"font-size: 1rem;\"><strong>object</strong></span></span> to the <code style=\"color: red;\">age</code> attribute. <u>Note that the <code style=\"color: red;\">age</code> is a <span style=\"color: blue; font-size: 1rem;\"><strong>class attribute</strong></span></u>, not an <span style=\"color: blue;\">instance attribute</span>.</code>\n",
    "\n",
    "<div style=\"background-color: #caffc7; padding: 20px; margin-left: -10px;\">\n",
    "\n",
    "<pre>\n",
    "    \n",
    "    <span style=\"color: red;\">age</span> = property(fget=get_age, fset=set_age)\n",
    "\n",
    "</pre> <br>\n",
    "\n",
    "&nbsp;&nbsp;&nbsp;&nbsp;&nbsp;&nbsp;<code style=\"background-color: #caffc7;\"><code style=\"color: red; background-color: #caffc7;\">age</code> is a <span style=\"background-color: yellow;\">property <span style=\"font-size: 1rem;\"><strong>object</strong></span></span> which is stored as a <span style=\"color: blue;\">class attribute</span> of the <span style=\"background-color: yellow;\">property <span style=\"font-size: 1rem;\"><strong>class</strong></span></span>.</code>\n",
    "\n",
    "</div>\n",
    "\n",
    "<br>\n",
    "\n",
    "While <code style=\"background-color: white;\">you can directly verify it like a Python interpreter <u>by first searching it in the list of <span style=\"color: blue;\">instance attributes</span> and then in the list of <span style=\"color: blue; font-size: 1rem;\"><strong>class attributes</strong></span></u>; but even without going into that much details, you can still verify it by trying to access it like a <span style=\"color: blue; font-size: 1rem;\"><strong>class attribute</strong></span> i.e,</code> <code style=\"background-color: #fff2da;\">Classname.<span style=\"color: red;\">propertyobjectname</span></code>\n"
   ]
  },
  {
   "cell_type": "code",
   "execution_count": 45,
   "id": "03c9a254-d051-4c0a-a0b6-7687ccf53760",
   "metadata": {},
   "outputs": [
    {
     "name": "stdout",
     "output_type": "stream",
     "text": [
      "<property object at 0x00000196E7757E70>\n"
     ]
    }
   ],
   "source": [
    "\n",
    "print(Person.age)\n"
   ]
  },
  {
   "cell_type": "markdown",
   "id": "3eefe9fb-6a77-4838-8318-28816b5f445f",
   "metadata": {},
   "source": [
    "<br>\n",
    "\n",
    "But <code style=\"background-color: white;\">unlike a <span style=\"color: blue;\">class attribute</span> which remains same for all the instances of the <code style=\"color: red;\">Person</code> class, <u>the <span style=\"background-color: yellow;\">property object age</span> can have <span style=\"font-size: 1rem;\"><strong>different values for different objects</strong></span> of the <code style=\"color: red;\">Person</code> class</u> just like the <span style=\"color: blue;\">instance attribute</span> <code style=\"color: red;\">name</code>.</code>"
   ]
  },
  {
   "cell_type": "code",
   "execution_count": 46,
   "id": "7cc378de-8ffe-40b7-b1ac-11b51880b2bf",
   "metadata": {},
   "outputs": [
    {
     "name": "stdout",
     "output_type": "stream",
     "text": [
      "30\n",
      "25\n"
     ]
    }
   ],
   "source": [
    "\n",
    "avinash = Person('Avinash', 30)       # creates  an  object  \"Avinash\"  of  type  \"Person\"\n",
    "print(avinash.age)                    # calls  the  getter  method                            ===>     get_age(avinash)\n",
    "\n",
    "aman = Person('Aman', 25)             # creates  an  object  \"aman\"  of  type  \"Person\"\n",
    "print(aman.age)                       # calls  the  getter  method                            ===>     get_age(avinash)\n"
   ]
  },
  {
   "cell_type": "markdown",
   "id": "ff4b2abd-f21f-4e71-ab0c-a9690fa06b0a",
   "metadata": {},
   "source": [
    "<br>\n",
    "\n",
    "So <code style=\"background-color: white;\">now that we know <code style=\"color: red;\">age</code> is a <u><span style=\"font-size: 1rem; color: blue;\"><strong>class attribute</strong></span> in <span style=\"font-size: 1rem;\"><strong>reality</strong></span></u> but <u><span style=\"font-size: 1rem; color: blue;\">instance attribute</span> in behavior</u>, let's check what does it return when we try to access it through the <span style=\"background-color: #ffd4ab;\">classname</span> and an <span style=\"background-color: #9afff6;\">objectname</span>.</code>"
   ]
  },
  {
   "cell_type": "code",
   "execution_count": 47,
   "id": "ee291a03-4804-4808-9b09-faf4223ebe66",
   "metadata": {},
   "outputs": [
    {
     "name": "stdout",
     "output_type": "stream",
     "text": [
      "<property object at 0x00000196E7757E70>\n",
      "30\n"
     ]
    }
   ],
   "source": [
    "\n",
    "print(Person.age)           # accessing it like a class attribute returns the property abject \"age\"\n",
    "\n",
    "print(avinash.age)          # accessing it like an instance attribute returns the value of the property object \"age\"\n",
    "                            # it is actually calling the getter method   ====>   get_age(avinash)\n"
   ]
  },
  {
   "cell_type": "markdown",
   "id": "72a7af91-7f51-4dc7-8d3c-ab7621e25628",
   "metadata": {},
   "source": [
    "\n",
    "<div style=\"background-color: #caffc7; padding: 20px; margin-left: -10px;\"><br>\n",
    "    \n",
    "<code style=\"background-color: white;\">Classname.<span style=\"color: red;\">propertyobjectname</span> </code> &nbsp;&nbsp;&nbsp;&nbsp;===>&nbsp;&nbsp;&nbsp; <code style=\"color: black; background-color: #fff2da;\">\\<property object at 0x000001FD184854E0></code><br>\n",
    "\n",
    "<code  style=\"background-color: white;\">objectname.<span style=\"color: red;\">propertyobjectname</span></code> &nbsp;&nbsp;&nbsp;&nbsp;===>&nbsp;&nbsp;&nbsp;&nbsp;<code style=\"background-color: white; background-color: yellow;\">the actual value of that property for that object</code>\n",
    "</div>\n",
    "\n",
    "<br>\n",
    "\n",
    "As <code style=\"background-color: white;\">you can see, <u><code style=\"color: red;\">age</code> is not an <span style=\"color: blue;\">instance attribute</span></u>, but we still can access it <u>like an <span style=\"color: blue;\">instance attribute</span></u>  ===>  <code>avinash.<span style=\"color: red;\">age</span></code></code> <br>\n",
    "\n",
    "<div style=\"background-color: #ffe0b0; padding: 10px;\"> <br>\n",
    "    \n",
    "<code style=\"background-color: #ffe0b0\"><span style=\"background-color: yellow; font-size: 0.9rem;\">property object</span><code style=\"color: red; background-color: #ffe0b0;\">age</code>       ====>       <span style=\"color: red;\">age</span> is a <span style=\"background-color: yellow; font-size: 0.9rem;\">class attribute of property type</span>       ====>       <span style=\"color: red;\">age</span> is a <span style=\"background-color: yellow; font-size: 0.9rem;\">property class attribute</span></code>\n",
    "\n",
    "<br>\n",
    "\n",
    "<pre>\n",
    "    \n",
    "  <code></code>For convenience, you can refer a <u>property class attribute</u> as a <span style=\"font-size: 1rem;\"><strong>property attribute<strong></span>.</code>\n",
    "\n",
    "  It is also safe to say that a <span style=\"font-size: 1rem;\"><strong>property attribute<strong></span> is actually a <u><span style=\"color: blue; font-size: 1rem;\"><strong>class attribute</strong></span> in reality</u> but an <u><span style=\"color: blue;\">instance attribute</span> in behavior</u>.\n",
    "    \n",
    "</pre>\n",
    "\n",
    "<br>\n",
    "\n",
    "</div> <br>\n",
    "\n",
    "<br>\n",
    "\n",
    "<code style=\"background-color: white;\">If you still want some more clarity on this, let's first understand how does <code>avinash.<span style=\"color: red;\">age</span></code> works in the background :</code> <font size=\"+2\">↴</font><br>\n",
    "\n",
    "<br>\n",
    "\n",
    "<div>\n",
    "\n",
    "![](media/Shraddha_Kapra_oops_47.PNG)\n",
    "\n",
    "</div>\n",
    "\n"
   ]
  },
  {
   "cell_type": "markdown",
   "id": "9b6f90f9-12b4-480d-b483-fb0d9f19c36c",
   "metadata": {},
   "source": [
    "But <code style=\"background-color: white;\">before proceeding with exactly how <code>avinash.<span style=\"color: red;\">age</span></code> is accessing the value, let's first see <u>where actually are these different types of attributes stored</u> ?</code>\n",
    "\n",
    "<div style=\"margin-left: 70px;\">\n",
    "\n",
    "![](media/Shraddha_Kapra_oops_46.PNG)\n",
    "\n",
    "</div>\n",
    "\n",
    "So <code style=\"background-color: white;\">now you know whay <span style=\"color: red;\">age</span> is a <span style=\"color: blue; font-size: 1rem;\"><strong>class attribute</strong></span> (to be specific, a <span style=\"background-color: yellow;\">property class attribute</span>), and not an <span style=\"color: blue;\">instance attribute</span>.</code>\n"
   ]
  },
  {
   "cell_type": "code",
   "execution_count": 48,
   "id": "98e2af0e-ffb8-4a5d-82f4-a96626259abc",
   "metadata": {},
   "outputs": [
    {
     "name": "stdout",
     "output_type": "stream",
     "text": [
      "Instance Attributes              ==>    ['name', '_age']\n",
      "Class Attributes                 ==>    ['__module__', 'default_age', '__init__', 'get_age', 'set_age', 'age', '__dict__', '__weakref__', '__doc__']\n",
      "Pre-defined Class Attributes     ==>    ['__module__', '__dict__', '__weakref__', '__doc__']\n",
      "Property Class Attributes        ==>    ['age']\n",
      "Non-property Class Attributes    ==>    ['default_age']\n"
     ]
    }
   ],
   "source": [
    "\n",
    "print(\"Instance Attributes              ==>   \", list(avinash.__dict__.keys()))\n",
    "\n",
    "\n",
    "print(\"Class Attributes                 ==>   \", list(Person.__dict__.keys()))\n",
    "\n",
    "\n",
    "# Pre-defined Class Attributes are starting with \"__\"\n",
    "print(\"Pre-defined Class Attributes     ==>   \", [key for key, value in Person.__dict__.items() if not callable(value) and key.startswith('__')])\n",
    "\n",
    "\n",
    "print(\"Property Class Attributes        ==>   \", [name for name, attr in vars(Person).items() if isinstance(attr, property)])\n",
    "\n",
    "\n",
    "lst = [key for key, value in Person.__dict__.items() if not callable(value) and not key.startswith('__')]      # class attributes not starting with \"__\"\n",
    "sublist = [name for name, attr in vars(Person).items() if isinstance(attr, property)]                          # property class attributes\n",
    "print(\"Non-property Class Attributes    ==>   \", [x for x in lst if x not in sublist])                         # non-property class attributes\n"
   ]
  },
  {
   "cell_type": "markdown",
   "id": "49fd5793-6823-4e2a-9888-b325902f98b8",
   "metadata": {},
   "source": [
    "<br>"
   ]
  },
  {
   "cell_type": "code",
   "execution_count": 49,
   "id": "977ab0ee-430a-4c3d-a96c-6c366fa0cd9d",
   "metadata": {},
   "outputs": [
    {
     "name": "stdout",
     "output_type": "stream",
     "text": [
      "Instance Attributes          ===>    ['name', '_age']\n",
      "Class Attributes             ===>    ['__module__', 'default_age', '__init__', 'get_age', 'set_age', 'age', '__dict__', '__weakref__', '__doc__']\n",
      "Property Class Attributes    ===>    ['age']\n"
     ]
    }
   ],
   "source": [
    "\n",
    "print(\"Instance Attributes          ===>   \", list(avinash.__dict__.keys()))\n",
    "\n",
    "\n",
    "print(\"Class Attributes             ===>   \", list(Person.__dict__.keys()))\n",
    "\n",
    "\n",
    "print(\"Property Class Attributes    ===>   \", [name for name, attr in vars(Person).items() if isinstance(attr, property)])\n"
   ]
  },
  {
   "cell_type": "markdown",
   "id": "4495fc3a-f85b-4890-a0b1-8419ae50c079",
   "metadata": {},
   "source": [
    "<br>\n",
    "\n",
    "<div style=\"background-color: #c7fdb1;\"> <br>\n",
    "\n",
    "<code style=\"background-color: #c7fdb1;\">With this basic understanding in mind, let's now proceed with exactly how <code style=\"background-color: white;\">avinash.<span style=\"color: red;\">age</span></code> is working behind the scene:</code>\n",
    "\n",
    "<div style=\"margin-left: 32px;\">\n",
    "<font size=\"+1\">↳</font>&nbsp; Since <code style=\"background-color: #c7fdb1;;\"><code style=\"background-color: white;\">Person.<span style=\"color: red;\">age</span></code> is a <span style=\"background-color: yellow; color: black;\">property  <span style=\"font-size: 1rem;\"><strong>object</strong></span></span>. So when you <span style=\"color: red;\"><u><span style=\"color: blue;\">assign a value</span></u></span> to the <code style=\"color: red; background-color: white;\">age</code> object like <code style=\"background-color: white;\">avinash.<span style=\"color: red; background-color: white;\">age</span> = 31</code>, Python will call the function assigned to the <code style=\"color: red; background-color: white;\">fset</code> argument, which is the <code style=\"color: blue; background-color: white; font-size: 1rem;\"><strong>set_age()</strong></code> </code>\n",
    "</div>\n",
    "\n",
    "<br>\n",
    "\n",
    "<div style=\"margin-left: 32px;\">\n",
    "<font size=\"+1\">↳</font>&nbsp; Similarly, <code style=\"background-color: #c7fdb1;;\">when you read from the <code style=\"color: red; background-color: white;\">age</code> <span style=\"background-color: yellow; color: black;\">property  <span style=\"font-size: 1rem;\"><strong>object</strong></span></span>, it executes the function assigned to the <code style=\"color: red; background-color: white;\">fget</code> argument, which is the <code style=\"color: blue; background-color: white; font-size: 1rem;\"><strong>get_age()</strong></code> method.</code>\n",
    "</div>\n",
    "\n",
    "<br>\n",
    "\n",
    "</div>\n",
    "\n",
    "<br>\n",
    "<br>\n"
   ]
  },
  {
   "cell_type": "markdown",
   "id": "487296e4-ce60-4fc4-95cc-05b992443853",
   "metadata": {},
   "source": [
    "\n",
    "<div style=\"margin-left: 230px;\">\n",
    "\n",
    "![](media/Shraddha_Kapra_oops_48.PNG)\n",
    "\n",
    "</div>\n",
    "\n",
    "<br>\n",
    "\n",
    "<div style=\"margin-left: 0px;\">\n",
    "\n",
    "![](media/Shraddha_Kapra_oops_49.PNG)\n",
    "\n",
    "</div>\n",
    "\n",
    "<br>\n",
    "\n",
    "As <code style=\"background-color: white;\">you can see, <span style=\"background-color: yellow;  font-size: 0.9rem;\">property class attribute</span> \"<span style=\"color: red;\">age</span>\" is just a <span style=\"font-size: 1rem;\"><strong>wrapper</strong></span> and interestingly, it is actually the value of the instance attribute \"<span style=\"color: #4a62ff;\">_age</span>\" which is getting <u>pulled</u> or <u>updated</u> as and when you <u>get</u> or <u>set</u> the <span style=\"background-color: yellow; font-size: 0.9rem;\">property class attribute</span> \"<span style=\"color: red;\">age</span>\".</code>"
   ]
  },
  {
   "cell_type": "code",
   "execution_count": 36,
   "id": "3c0ebd8d-8dfc-4490-bcfc-221ddbaf9e7b",
   "metadata": {},
   "outputs": [
    {
     "name": "stdout",
     "output_type": "stream",
     "text": [
      "30\n",
      "31\n"
     ]
    }
   ],
   "source": [
    "\n",
    "class Person:\n",
    "\n",
    "    default_age = 18                                                   # class attribute\n",
    "    \n",
    "    def __init__(self, name, age):\n",
    "        self.name = name                                               # instance attribute\n",
    "        self.age = age                                                 # calls the setter method  self.set_age(age)   ===>   set_age(self, age)   \n",
    "\n",
    "    # getter method\n",
    "    def get_age(self):                                                \n",
    "        return self._age                                               # instance attribute (private)\n",
    "\n",
    "    # setter method\n",
    "    def set_age(self, age):                               \n",
    "        if age <= 0:\n",
    "            raise ValueError('The age must be positive')\n",
    "        self._age = age                                                # instance attribute (private)\n",
    "\n",
    "    age = property(fget=get_age, fset=set_age)                         # creates an instance \"age\" of type \"property\"\n",
    "\n",
    "\n",
    "class property:\n",
    "    def __init__(self, fget=None, fset=None, fdel=None, doc=None):\n",
    "        self.fget = fget                                               # getter function\n",
    "        self.fset = fset                                               # setter function\n",
    "        self.fdel = fdel                                               # deleter function\n",
    "        self.__doc__ = doc                                             # documentation string\n",
    "\n",
    "    def __get__(self, instance, owner):\n",
    "        if instance is None:\n",
    "            return self\n",
    "        if self.fget is None:\n",
    "            raise AttributeError(\"unreadable attribute\")\n",
    "        return self.fget(instance)                                     # calls the getter\n",
    "\n",
    "    def __set__(self, instance, value):\n",
    "        if self.fset is None:\n",
    "            raise AttributeError(\"can't set attribute\")\n",
    "        self.fset(instance, value)                                     # calls the setter\n",
    "\n",
    "    def __delete__(self, instance):\n",
    "        if self.fdel is None:\n",
    "            raise AttributeError(\"can't delete attribute\")\n",
    "        self.fdel(instance)                                            # calls the deleter\n",
    "\n",
    "\n",
    "avinash = Person('Avinash', 30)            # calls  an  instance  \"avinash\"  of  type  \"Person\"\n",
    "print(avinash.age)                         # calls  the  getter  method  \"get_age(avinash)\"  &  prints  the  value  of  the  property  attribute  \"age\" \n",
    "\n",
    "avinash.age = 31                           # calls  the  setter  method  \"set_age(avinash, age)\" and updates the value of the property attribute  \"age\"\n",
    "print(avinash.age)                         # calls  the  getter  method  \"get_age(avinash)\"  &  prints  the  value  of  the  property  attribute  \"age\"\n"
   ]
  },
  {
   "cell_type": "markdown",
   "id": "580a552e-f58b-47fd-9f8b-9f87d6e6ab8a",
   "metadata": {},
   "source": [
    "<br>\n",
    "\n",
    "<div style=\"background-color: #ffe0b0; padding-left: 20px; padding-top: 20px; padding-bottom: 8px;\">\n",
    "\n",
    "By <code style=\"background-color: #ffe0b0;\">using the <span style=\"background-color: yellow;\">property() <span style=\"font-size: 1rem;\"><strong>class</strong></span></span>, we can <u>add a <span style=\"background-color: yellow;\">property</span> to a class while maintaining <span style=\"font-size: 1rem;\"><strong>backward compatibility</strong></span></u>. In practice, you will define the attributes first. Later, you can add the property to the class if needed.</code>\n",
    "</div>\n",
    "\n",
    "<br>\n",
    "\n",
    "<code style=\"background-color: white;\">To <u>summarise</u>, let's put it all together.</code>"
   ]
  },
  {
   "cell_type": "code",
   "execution_count": 51,
   "id": "c3d9efc6-a80e-4f67-8a78-6de6f4ce4993",
   "metadata": {},
   "outputs": [
    {
     "name": "stdout",
     "output_type": "stream",
     "text": [
      "<__main__.property object at 0x00000196E7793890> \n",
      "\n",
      "{'name': 'Avinash', '_age': 30} \n",
      "\n",
      "mappingproxy({'__dict__': <attribute '__dict__' of 'Person' objects>,\n",
      "              '__doc__': None,\n",
      "              '__init__': <function Person.__init__ at 0x00000196E77E5760>,\n",
      "              '__module__': '__main__',\n",
      "              '__weakref__': <attribute '__weakref__' of 'Person' objects>,\n",
      "              'age': <__main__.property object at 0x00000196E7793890>,\n",
      "              'get_age': <function Person.get_age at 0x00000196E77E5800>,\n",
      "              'set_age': <function Person.set_age at 0x00000196E77E5260>})\n"
     ]
    }
   ],
   "source": [
    "\n",
    "from pprint import pprint                                   # To beautify the JSON OUTPUT\n",
    "\n",
    "class Person:\n",
    "    def __init__(self, name, age):\n",
    "        self.name = name                                    # instance attribute\n",
    "        self.age = age                                      # property class attribute\n",
    "\n",
    "    def set_age(self, age):\n",
    "        if age <= 0:\n",
    "            raise ValueError('The age must be positive')\n",
    "        self._age = age                                     # instance attribute (private)\n",
    "\n",
    "    def get_age(self):\n",
    "        return self._age                                    # instance attribute (private)\n",
    "\n",
    "    age = property(fget=get_age, fset=set_age)              # creates an instance \"age\" of type property\n",
    "\n",
    "\n",
    "print(Person.age, \"\\n\")                                     # OUTPUT:  <__main__.property object at 0x00000249611A1B10>\n",
    "\n",
    "avinash = Person('Avinash', 30)\n",
    "print(avinash.__dict__, \"\\n\")                               # OUTPUT:  {'name': 'Avinash', '_age': 30} \n",
    "\n",
    "avinash.age = 31\n",
    "pprint(Person.__dict__)                                     # OUTPUT:  {......,  'age': <__main__.property object at 0x00000249611A1B10>,  ......}\n"
   ]
  },
  {
   "cell_type": "markdown",
   "id": "ce3753f3-8103-4881-a1f4-1adc9995ba7d",
   "metadata": {},
   "source": [
    "<br>\n",
    "\n",
    "<strong><span style=\"color: blue; font-size: 1rem;\"><u>Note</u></span></strong> &nbsp;:&nbsp; <br>\n",
    "At <code style=\"background-color: white;\">least <u>property <span style=\"font-size: 1rem;\"><strong>getter</strong></span></u> and <u>property <span style=\"font-size: 1rem;\"><strong>setter</strong></span></u> should always be together. Beause if there is no <u>property <span style=\"font-size: 1rem;\"><strong>setter</strong></span></u>, <span style=\"color: red;\">you can't even create an instance with that <span style=\"font-size: 1rem;\"><strong>property attribute</strong></span></span>. And if there is no <u>property <span style=\"font-size: 1rem;\"><strong>getter</strong></span></u>, although the <span style=\"background-color: yellow; font-size: 0.9rem;\">property attribute</span> will be created but what's the use of creating a <span style=\"background-color: yellow; font-size: 0.9rem;\">property attribute</span> when <span style=\"color: red;\">you can't access the value of the <span style=\"font-size: 1rem;\"><strong>property attribute</strong></span></span>.</code>"
   ]
  },
  {
   "cell_type": "markdown",
   "id": "cb25fecf-fb46-42bd-8ffc-239dd15d453a",
   "metadata": {},
   "source": [
    "<br>\n",
    "\n",
    "<div style=\"margin-left: 82px;\">\n",
    "\n",
    "![](media/Shraddha_Kapra_oops_53.PNG)\n",
    "\n",
    "</div>\n",
    "\n",
    "<div style=\"margin-left: 90px;\">\n",
    "\n",
    "![](media/Shraddha_Kapra_oops_52.PNG)\n",
    "\n",
    "</div>"
   ]
  },
  {
   "cell_type": "markdown",
   "id": "abd0d3f2-a9e3-41ef-afbc-3be260de5fac",
   "metadata": {},
   "source": [
    "\n",
    "<span style=\"color: #DCBD10\">▬▬▬▬▬▬▬▬▬▬▬▬▬▬▬▬▬▬▬▬▬▬▬▬▬▬▬▬▬▬▬▬▬▬▬▬▬▬▬▬▬▬▬▬▬▬▬▬▬▬▬▬▬▬▬▬▬▬▬▬▬▬▬▬▬▬▬▬▬▬▬▬▬▬▬▬▬</span>\n"
   ]
  },
  {
   "cell_type": "markdown",
   "id": "b8805f04-ea8f-4b34-96c3-25331d03bc43",
   "metadata": {},
   "source": [
    "#### <code style=\"background-color: blue; color: white;\">@property decorator</code>\n",
    "\n",
    "<br>"
   ]
  },
  {
   "cell_type": "markdown",
   "id": "fcecb8b5-7387-4507-97f3-bab02aac555c",
   "metadata": {},
   "source": [
    "\n",
    "<font size=\"+1\">⭐</font><u><strong><code style=\"font-size: 1.05rem; background-color: white;\">Summary</code></u>&nbsp;:</strong> <code style=\"background-color: white;\">in this tutorial, you’ll learn about Python <span style=\"font-size: 1rem;\"><strong>property decorator</strong></span> (<span style=\"background-color: yellow;\">@property</span>) and more importantly how it works.</code>\n",
    "\n",
    "<br>\n",
    "\n",
    "<span style=\"color: red;\">================================================================================================================</span>\n",
    "\n",
    "<br>\n",
    "\n",
    "<font size=\"+1\">⭐</font><u><strong><code style=\"font-size: 1.05rem; background-color: white;\">Introduction to the Python <span style=\"background-color: yellow;\">property</span> decorator</code></u>&nbsp;</strong>\n",
    "\n",
    "<br>\n",
    "\n",
    "<div style=\"background-color: #ffe9b9; padding: 20px;\">\n",
    "We <code style=\"background-color: #ffe9b9;\">use <span style=\"background-color: yellow;\">@property</span> <span style=\"font-size: 1rem;\"><strong>decorator</strong></span> on any method in a class <u>to use the method as a property</u>. Or simply, <u>to create a property for a class</u>.</code> \n",
    "</div>\n",
    "<div style=\"background-color: #c3fff9; padding: 20px;\">\n",
    "In <code style=\"background-color: #c3fff9\">Python, the <span style=\"background-color: yellow;\">@property</span> <span style=\"font-size: 1rem;\"><strong>decorator</strong></span> is used <u>to define methods in a class that <span style=\"color: red;\">act as <span style=\"font-size: 1rem;\"><strong>attributes</strong></span></span></u>. This allows us to create <u>managed attributes</u>, where we can define <u>custom behavior</u> when <span style=\"font-size: 1rem;\"><strong>getting</strong></span>, <span style=\"font-size: 1rem;\"><strong>setting</strong></span>, or <span style=\"font-size: 1rem;\"><strong>deleting</strong></span> an attribute.</code>\n",
    "</div>\n",
    "<div style=\"background-color: #ffddfe; padding: 20px;\">\n",
    "<span style=\"background-color: yellow;\">@property</span> <code style=\"background-color: #ffddfe;\"><span style=\"color: red;\">decorator</span> is preferred more than <span style=\"background-color: yellow;\">property()</span> <span style=\"color: red;\">class</span> because it does not only <u>reduce <span style=\"font-size: 1rem;\"><strong>code-redundancy</strong></span></u> but also make it <span style=\"font-size: 1rem;\"><strong>convenient</strong></span> and more <span style=\"font-size: 1rem;\"><strong>readable</strong></span> for the coders.</code> \n",
    "</div>\n",
    "\n",
    "<br>\n",
    "\n",
    "<code style=\"background-color: white;\">Consider the following example :</code>"
   ]
  },
  {
   "cell_type": "code",
   "execution_count": 52,
   "id": "17d3144e-3e25-42d9-bbc1-140c27a7c587",
   "metadata": {},
   "outputs": [
    {
     "name": "stdout",
     "output_type": "stream",
     "text": [
      "98.0 %\n",
      "98.0 %\n"
     ]
    }
   ],
   "source": [
    "\n",
    "class Student:\n",
    "    def __init__(self, phy, chem, maths):\n",
    "        self.phy = phy\n",
    "        self.chem = chem\n",
    "        self.maths = maths\n",
    "        self.percentage = str((self.phy + self.chem + self.maths) / 3) + \" %\"\n",
    "\n",
    "\n",
    "stud1 = Student(98, 97, 99)\n",
    "\n",
    "print(stud1.percentage)      # OUTPUT: 98 %\n",
    "\n",
    "stud1.phy = 86\n",
    "\n",
    "print(stud1.percentage)      # OUTPUT: 98 %       EXPECTED: 94 %      # Note: \"percentage\" is used as an ATTRIBUTE not METHOD   ===>   stud1.percentage\n"
   ]
  },
  {
   "cell_type": "markdown",
   "id": "9cab4a87-4d0c-40f3-8bbe-354090b6b49e",
   "metadata": {},
   "source": [
    "<br>\n",
    "\n",
    "<code style=\"background-color: white;\">&nbsp;As you can see, the actual output is still 98% which is not correct.</code>\n",
    "\n",
    "<pre style=\"background-color: #ffe9b9; padding: 20px; margin-left: -10px;\">\n",
    "There are two ways to solve this:\n",
    "    \n",
    "    1. using a <u>simple method</u> dedicated to calculate percentage only\n",
    "    \n",
    "    2. making percentage a <span style=\"font-size: 1rem; color: blue;\"><strong>property</strong></span> (<u><span style=\"color: red;\">a special type of method</span></u>) and <span style=\"font-size: 1rem; color: black;\"><strong>calling it as an attribute</strong></span> <font size=\"+1\">⭐</font>\n",
    "</pre>\n",
    "\n",
    "<br> <font size= +1>↳</font> <code style=\"background-color: #ceffbd;\">using a simple method dedicated to calculate percentage only</code>"
   ]
  },
  {
   "cell_type": "code",
   "execution_count": 53,
   "id": "4fc34e45-16c9-46d6-b7c0-f1780597cb38",
   "metadata": {},
   "outputs": [
    {
     "name": "stdout",
     "output_type": "stream",
     "text": [
      "98.0 %\n",
      "94.0 %\n"
     ]
    }
   ],
   "source": [
    "\n",
    "class Student:\n",
    "    def __init__(self, phy, chem, maths):\n",
    "        self.phy = phy\n",
    "        self.chem = chem\n",
    "        self.maths = maths\n",
    "        # self.percentage = str((self.phy + self.chem + self.maths) / 3) + \" %\"\n",
    "\n",
    "    def percentage(self):\n",
    "        return str((self.phy + self.chem + self.maths) / 3) + \" %\"\n",
    "\n",
    "stud1 = Student(98, 97, 99)\n",
    "\n",
    "print(stud1.percentage())      # OUTPUT: 98 %\n",
    "\n",
    "stud1.phy = 86\n",
    "\n",
    "print(stud1.percentage())      # OUTPUT: 98 %                        # Note: \"percentage\" is used as a METHOD not ATTRIBUTE   ===>   stud1.percentage()\n"
   ]
  },
  {
   "cell_type": "markdown",
   "id": "8435b219-7538-4ca1-ba87-6bd2f25ba15f",
   "metadata": {},
   "source": [
    "<br> <font size= +1>↳</font> <code style=\"background-color: #ceffbd;\">making percentage a <span style=\"font-size: 1rem; color: blue;\"><strong>property</strong></span> (<u><span style=\"color: red;\">a special type of method</span></u>) and <span style=\"font-size: 1rem; color: black;\"><strong>calling it as an attribute</strong></code></span>"
   ]
  },
  {
   "cell_type": "code",
   "execution_count": 54,
   "id": "ce3ea3ce-8e47-4ceb-946e-fa3d0a7a7bd8",
   "metadata": {},
   "outputs": [
    {
     "ename": "RecursionError",
     "evalue": "maximum recursion depth exceeded",
     "output_type": "error",
     "traceback": [
      "\u001b[1;31m---------------------------------------------------------------------------\u001b[0m",
      "\u001b[1;31mRecursionError\u001b[0m                            Traceback (most recent call last)",
      "Cell \u001b[1;32mIn[54], line 16\u001b[0m\n\u001b[0;32m     12\u001b[0m         \u001b[38;5;28mself\u001b[39m\u001b[38;5;241m.\u001b[39mpercentage \u001b[38;5;241m=\u001b[39m value\n\u001b[0;32m     14\u001b[0m     percentage \u001b[38;5;241m=\u001b[39m \u001b[38;5;28mproperty\u001b[39m(fget\u001b[38;5;241m=\u001b[39mget_percentage, fset\u001b[38;5;241m=\u001b[39mset_percentage)\n\u001b[1;32m---> 16\u001b[0m stud1 \u001b[38;5;241m=\u001b[39m \u001b[43mStudent\u001b[49m\u001b[43m(\u001b[49m\u001b[38;5;241;43m98\u001b[39;49m\u001b[43m,\u001b[49m\u001b[43m \u001b[49m\u001b[38;5;241;43m97\u001b[39;49m\u001b[43m,\u001b[49m\u001b[43m \u001b[49m\u001b[38;5;241;43m99\u001b[39;49m\u001b[43m)\u001b[49m\n\u001b[0;32m     18\u001b[0m \u001b[38;5;28mprint\u001b[39m(stud1\u001b[38;5;241m.\u001b[39mpercentage)      \u001b[38;5;66;03m# OUTPUT: 98 %\u001b[39;00m\n\u001b[0;32m     20\u001b[0m stud1\u001b[38;5;241m.\u001b[39mphy \u001b[38;5;241m=\u001b[39m \u001b[38;5;241m86\u001b[39m\n",
      "Cell \u001b[1;32mIn[54], line 6\u001b[0m, in \u001b[0;36mStudent.__init__\u001b[1;34m(self, phy, chem, maths)\u001b[0m\n\u001b[0;32m      4\u001b[0m \u001b[38;5;28mself\u001b[39m\u001b[38;5;241m.\u001b[39mchem \u001b[38;5;241m=\u001b[39m chem\n\u001b[0;32m      5\u001b[0m \u001b[38;5;28mself\u001b[39m\u001b[38;5;241m.\u001b[39mmaths \u001b[38;5;241m=\u001b[39m maths\n\u001b[1;32m----> 6\u001b[0m \u001b[38;5;28;43mself\u001b[39;49m\u001b[38;5;241;43m.\u001b[39;49m\u001b[43mpercentage\u001b[49m \u001b[38;5;241m=\u001b[39m \u001b[38;5;28mstr\u001b[39m((\u001b[38;5;28mself\u001b[39m\u001b[38;5;241m.\u001b[39mphy \u001b[38;5;241m+\u001b[39m \u001b[38;5;28mself\u001b[39m\u001b[38;5;241m.\u001b[39mchem \u001b[38;5;241m+\u001b[39m \u001b[38;5;28mself\u001b[39m\u001b[38;5;241m.\u001b[39mmaths) \u001b[38;5;241m/\u001b[39m \u001b[38;5;241m3\u001b[39m) \u001b[38;5;241m+\u001b[39m \u001b[38;5;124m\"\u001b[39m\u001b[38;5;124m \u001b[39m\u001b[38;5;124m%\u001b[39m\u001b[38;5;124m\"\u001b[39m\n",
      "Cell \u001b[1;32mIn[50], line 39\u001b[0m, in \u001b[0;36mproperty.__set__\u001b[1;34m(self, instance, value)\u001b[0m\n\u001b[0;32m     37\u001b[0m \u001b[38;5;28;01mif\u001b[39;00m \u001b[38;5;28mself\u001b[39m\u001b[38;5;241m.\u001b[39mfset \u001b[38;5;129;01mis\u001b[39;00m \u001b[38;5;28;01mNone\u001b[39;00m:\n\u001b[0;32m     38\u001b[0m     \u001b[38;5;28;01mraise\u001b[39;00m \u001b[38;5;167;01mAttributeError\u001b[39;00m(\u001b[38;5;124m\"\u001b[39m\u001b[38;5;124mcan\u001b[39m\u001b[38;5;124m'\u001b[39m\u001b[38;5;124mt set attribute\u001b[39m\u001b[38;5;124m\"\u001b[39m)\n\u001b[1;32m---> 39\u001b[0m \u001b[38;5;28;43mself\u001b[39;49m\u001b[38;5;241;43m.\u001b[39;49m\u001b[43mfset\u001b[49m\u001b[43m(\u001b[49m\u001b[43minstance\u001b[49m\u001b[43m,\u001b[49m\u001b[43m \u001b[49m\u001b[43mvalue\u001b[49m\u001b[43m)\u001b[49m\n",
      "Cell \u001b[1;32mIn[54], line 12\u001b[0m, in \u001b[0;36mStudent.set_percentage\u001b[1;34m(self, value)\u001b[0m\n\u001b[0;32m     11\u001b[0m \u001b[38;5;28;01mdef\u001b[39;00m \u001b[38;5;21mset_percentage\u001b[39m(\u001b[38;5;28mself\u001b[39m, value):\n\u001b[1;32m---> 12\u001b[0m     \u001b[38;5;28;43mself\u001b[39;49m\u001b[38;5;241;43m.\u001b[39;49m\u001b[43mpercentage\u001b[49m \u001b[38;5;241m=\u001b[39m value\n",
      "Cell \u001b[1;32mIn[50], line 39\u001b[0m, in \u001b[0;36mproperty.__set__\u001b[1;34m(self, instance, value)\u001b[0m\n\u001b[0;32m     37\u001b[0m \u001b[38;5;28;01mif\u001b[39;00m \u001b[38;5;28mself\u001b[39m\u001b[38;5;241m.\u001b[39mfset \u001b[38;5;129;01mis\u001b[39;00m \u001b[38;5;28;01mNone\u001b[39;00m:\n\u001b[0;32m     38\u001b[0m     \u001b[38;5;28;01mraise\u001b[39;00m \u001b[38;5;167;01mAttributeError\u001b[39;00m(\u001b[38;5;124m\"\u001b[39m\u001b[38;5;124mcan\u001b[39m\u001b[38;5;124m'\u001b[39m\u001b[38;5;124mt set attribute\u001b[39m\u001b[38;5;124m\"\u001b[39m)\n\u001b[1;32m---> 39\u001b[0m \u001b[38;5;28;43mself\u001b[39;49m\u001b[38;5;241;43m.\u001b[39;49m\u001b[43mfset\u001b[49m\u001b[43m(\u001b[49m\u001b[43minstance\u001b[49m\u001b[43m,\u001b[49m\u001b[43m \u001b[49m\u001b[43mvalue\u001b[49m\u001b[43m)\u001b[49m\n",
      "Cell \u001b[1;32mIn[54], line 12\u001b[0m, in \u001b[0;36mStudent.set_percentage\u001b[1;34m(self, value)\u001b[0m\n\u001b[0;32m     11\u001b[0m \u001b[38;5;28;01mdef\u001b[39;00m \u001b[38;5;21mset_percentage\u001b[39m(\u001b[38;5;28mself\u001b[39m, value):\n\u001b[1;32m---> 12\u001b[0m     \u001b[38;5;28;43mself\u001b[39;49m\u001b[38;5;241;43m.\u001b[39;49m\u001b[43mpercentage\u001b[49m \u001b[38;5;241m=\u001b[39m value\n",
      "    \u001b[1;31m[... skipping similar frames: property.__set__ at line 39 (1483 times), Student.set_percentage at line 12 (1482 times)]\u001b[0m\n",
      "Cell \u001b[1;32mIn[54], line 12\u001b[0m, in \u001b[0;36mStudent.set_percentage\u001b[1;34m(self, value)\u001b[0m\n\u001b[0;32m     11\u001b[0m \u001b[38;5;28;01mdef\u001b[39;00m \u001b[38;5;21mset_percentage\u001b[39m(\u001b[38;5;28mself\u001b[39m, value):\n\u001b[1;32m---> 12\u001b[0m     \u001b[38;5;28;43mself\u001b[39;49m\u001b[38;5;241;43m.\u001b[39;49m\u001b[43mpercentage\u001b[49m \u001b[38;5;241m=\u001b[39m value\n",
      "Cell \u001b[1;32mIn[50], line 39\u001b[0m, in \u001b[0;36mproperty.__set__\u001b[1;34m(self, instance, value)\u001b[0m\n\u001b[0;32m     37\u001b[0m \u001b[38;5;28;01mif\u001b[39;00m \u001b[38;5;28mself\u001b[39m\u001b[38;5;241m.\u001b[39mfset \u001b[38;5;129;01mis\u001b[39;00m \u001b[38;5;28;01mNone\u001b[39;00m:\n\u001b[0;32m     38\u001b[0m     \u001b[38;5;28;01mraise\u001b[39;00m \u001b[38;5;167;01mAttributeError\u001b[39;00m(\u001b[38;5;124m\"\u001b[39m\u001b[38;5;124mcan\u001b[39m\u001b[38;5;124m'\u001b[39m\u001b[38;5;124mt set attribute\u001b[39m\u001b[38;5;124m\"\u001b[39m)\n\u001b[1;32m---> 39\u001b[0m \u001b[38;5;28;43mself\u001b[39;49m\u001b[38;5;241;43m.\u001b[39;49m\u001b[43mfset\u001b[49m\u001b[43m(\u001b[49m\u001b[43minstance\u001b[49m\u001b[43m,\u001b[49m\u001b[43m \u001b[49m\u001b[43mvalue\u001b[49m\u001b[43m)\u001b[49m\n",
      "\u001b[1;31mRecursionError\u001b[0m: maximum recursion depth exceeded"
     ]
    }
   ],
   "source": [
    "\n",
    "class Student:\n",
    "    def __init__(self, phy, chem, maths):\n",
    "        self.phy = phy\n",
    "        self.chem = chem\n",
    "        self.maths = maths\n",
    "        self.percentage = str((self.phy + self.chem + self.maths) / 3) + \" %\"\n",
    "\n",
    "    def get_percentage(self):\n",
    "        return str((self.phy + self.chem + self.maths) / 3) + \" %\"\n",
    "\n",
    "    def set_percentage(self, value):\n",
    "        self.percentage = value\n",
    "\n",
    "    percentage = property(fget=get_percentage, fset=set_percentage)\n",
    "\n",
    "stud1 = Student(98, 97, 99)\n",
    "\n",
    "print(stud1.percentage)      # OUTPUT: 98 %\n",
    "\n",
    "stud1.phy = 86\n",
    "\n",
    "print(stud1.percentage)      # OUTPUT: 94 %                           # Note: \"percentage\" is used as an ATTRIBUTE not METHOD   ===>   stud1.percentage\n"
   ]
  },
  {
   "cell_type": "markdown",
   "id": "22403f52-e9c8-45d7-973d-f2e57aca7712",
   "metadata": {},
   "source": [
    "<br>\n",
    "\n",
    "<div>\n",
    "\n",
    "![](media/Shraddha_Kapra_oops_54.PNG)\n",
    "\n",
    "</div>\n",
    "\n",
    "<br>\n",
    "\n",
    "<div style=\"background-color: #ffe9b9; padding: 20px; margin-left: -10px;\">\n",
    "    \n",
    "<span style=\"font-size: 1rem;\"><strong>To</strong></span> <code style=\"background-color: #ffe9b9;\"><span style=\"font-size: 1rem;\"><strong>avoid this recursion error</strong></span>, you need to store the <u>actual percentage value</u> in an <span style=\"color: blue; font-size: 0.9rem;\"><strong>instance attribute</strong></span> whose name should not be same as that of the <span style=\"background-color: yellow; font-size: 0.9rem;\">property object</span> \"<span style=\"color: red;\">percentage</span>\" also known as <span style=\"background-color: yellow; font-size: 0.9rem;\">property class attribute</span>.</code>\n",
    "\n",
    "<br>\n",
    "\n",
    "However, <code style=\"background-color: #ffe9b9;\">it is important to note that instead of using a different name altogether, <span style=\"font-size: 1rem;\"><strong>the standard way of avoiding this recursion error</strong></span> is by storing the actual value of the percentage in a <span style=\"color: blue; font-size: 0.9rem;\"><strong>private attribute</strong></span> \"<span style=\"color: red;\">_percentage</span>\".</code>\n",
    "\n",
    "<br>\n",
    "\n",
    "<font size=\"+1\">⭐</font>&nbsp; If &nbsp;&nbsp;<code style=\"background-color: white;\">property attribute  ====>  <code style=\"color: red; background-color: white;\">attributename</code></code>  &nbsp;&nbsp;&nbsp;&nbsp;then, &nbsp;the &nbsp;corresponding &nbsp;&nbsp;&nbsp;&nbsp;<code style=\"background-color: white;\">instance attribute  ====>  <code style=\"color: red; background-color: white;\">_attributename</code></code>\n",
    "<br>\n",
    "\n",
    "    \n",
    "</div>"
   ]
  },
  {
   "cell_type": "code",
   "execution_count": 55,
   "id": "b6209540-c5d6-4fb7-8498-cd98d10929e8",
   "metadata": {},
   "outputs": [
    {
     "name": "stdout",
     "output_type": "stream",
     "text": [
      "98.0 %\n",
      "94.0 %\n"
     ]
    }
   ],
   "source": [
    "\n",
    "class Student:\n",
    "    def __init__(self, phy, chem, maths):\n",
    "        self.phy = phy\n",
    "        self.chem = chem\n",
    "        self.maths = maths\n",
    "        self._percentage = str((self.phy + self.chem + self.maths) / 3) + \" %\"\n",
    "\n",
    "    def get_percentage(self):\n",
    "        return str((self.phy + self.chem + self.maths) / 3) + \" %\"\n",
    "\n",
    "    def set_percentage(self, value):\n",
    "        self._percentage = value\n",
    "\n",
    "    percentage = property(fget=get_percentage, fset=set_percentage)\n",
    "\n",
    "stud1 = Student(98, 97, 99)\n",
    "\n",
    "print(stud1.percentage)      # OUTPUT: 98 %\n",
    "\n",
    "stud1.phy = 86\n",
    "\n",
    "print(stud1.percentage)      # OUTPUT: 94 %      EXPECTED: 94 %      # Note: \"percentage\" is used as an ATTRIBUTE not METHOD   ===>   stud1.percentage\n"
   ]
  },
  {
   "cell_type": "markdown",
   "id": "54ea45d0-f1b8-4345-a32e-9fe340a4d1f3",
   "metadata": {},
   "source": [
    "<br>\n",
    "\n",
    "As you can see, <code>the <span style=\"color: red;\">percentage</span> is <span style=\"font-size: 1rem;\"><strong>automatically updated</strong></span> based on the new marks of physics.</code>\n",
    "\n",
    "However, <code style=\"background-color: white;\">instead of directly assigning to <code>self.percentage</code> in the <code>\\_\\_init__</code> method (or anywhere else), you should rely on the <span style=\"background-color: yellow;\">property</span> to calculate the percentage when it’s accessed. Also, since <code style=\"color: red;\">percentage</code> is calculated dynamically from <code>phy</code>, <code>chem</code>, and <code>maths</code>, <u>you don’t really need a <span style=\"font-size: 1rem;\"><strong>setter</strong></span> for it</u>.</code>\n",
    "\n",
    "So <code style=\"background-color: white;\">let's simplify the above code :</code>"
   ]
  },
  {
   "cell_type": "code",
   "execution_count": 56,
   "id": "707b5faa-a930-4df9-a266-49948b9ae805",
   "metadata": {},
   "outputs": [
    {
     "name": "stdout",
     "output_type": "stream",
     "text": [
      "98.0 %\n",
      "94.0 %\n",
      "stud1.percentage        ===>  94.0 %\n",
      "stud1.get_percentage()  ===>  94.0 %\n"
     ]
    }
   ],
   "source": [
    "\n",
    "class Student:\n",
    "    def __init__(self, phy, chem, maths):\n",
    "        self.phy = phy\n",
    "        self.chem = chem\n",
    "        self.maths = maths\n",
    "        # No need to assign self.percentage here\n",
    "    \n",
    "    def get_percentage(self):\n",
    "        return str((self.phy + self.chem + self.maths) / 3) + \" %\"\n",
    "\n",
    "    # Removing the setter since percentage is dynamically calculated\n",
    "    \n",
    "    percentage = property(fget=get_percentage)\n",
    "\n",
    "stud1 = Student(98, 97, 99)\n",
    "\n",
    "print(stud1.percentage)      # OUTPUT: 98 %\n",
    "\n",
    "stud1.phy = 86\n",
    "\n",
    "print(stud1.percentage)      # OUTPUT: 94 %      EXPECTED: 94 %      # Note: \"percentage\" is used as an ATTRIBUTE not a METHOD   ===>   stud1.percentage\n",
    "\n",
    "\n",
    "########################################################################################################################################################\n",
    "\n",
    "print(\"stud1.percentage        ===> \", stud1.percentage)\n",
    "print(\"stud1.get_percentage()  ===> \", stud1.get_percentage())\n"
   ]
  },
  {
   "cell_type": "markdown",
   "id": "5e1cb089-1911-424c-9948-2ccc96ffb09d",
   "metadata": {},
   "source": [
    "<br>\n",
    "\n",
    "So <code style=\"background-color: white;\">to get the <code style=\"color: red;\">percentage</code> of a <code style=\"color: red;\">Student</code> object, you can use either the <code>stud1.<span style=\"color: red;\">percentage</span></code> <span style=\"background-color: yellow;\">property</span> or the <code>stud1.<span style=\"color: blue;\">get_percentage()</span></code> <span style=\"font-size: 1rem;\"><strong>method</strong></span>. <u>This creates an unnecessary redundancy</u>.</code>\n",
    "\n",
    "To <code style=\"background-color: white;\">avoid this redundancy, you can rename the <span style=\"color: blue; font-size: 1rem;\"><strong>get_percentage()</strong></span> method to the <span style=\"color: blue; font-size: 1rem;\"><strong>percentage()</strong></span> method like this:</code>\n",
    "\n",
    "<br>\n",
    "\n",
    "<div style=\"margin-left: 80px;\">\n",
    "\n",
    "![](media/Shraddha_Kapra_oops_55.PNG)\n",
    "\n",
    "</div>\n",
    "\n",
    "<br>\n",
    "\n",
    "The <code style=\"background-color: white;\"><span style=\"background-color: yellow; font-size: 0.9rem;\">property()</span> accepts a <span style=\"font-size: 1rem;\"><strong>callable</strong></span> (<u><span style=\"color: red; font-size: 1rem;\"><strong>percentage</strong></span></u>) and returns a <span style=\"font-size: 1rem;\"><strong>callable</strong></span>. Therefore, it is a <u>decorator</u>. So, you can use the <span style=\"background-color: yellow; font-size: 0.9rem;\">@property</span> <u>decorator</u> to decorate the <span style=\"color: blue; font-size: 1rem;\"><strong>percentage()</strong></span> method as follows:</code>\n"
   ]
  },
  {
   "cell_type": "markdown",
   "id": "d4aa3617-5b1c-482a-8337-1f4a5a70f921",
   "metadata": {},
   "source": [
    "<br>\n",
    "\n",
    "<div style=\"margin-left: 83px;\">\n",
    "\n",
    "![](media/Shraddha_Kapra_oops_56.PNG)\n",
    "\n",
    "</div>\n",
    "\n",
    "<div style=\"background-color: #ffe9b9; padding-top: 25px; padding-left: 20px; margin-left: -10px;\">\n",
    "    \n",
    "Key <code style=\"background-color: #ffe9b9;\">things to remember while using a <span style=\"background-color: yellow;\">@property</span> <span style=\"color: red;\">decorator</span>:</code> \n",
    "\n",
    "&nbsp;&nbsp;&nbsp;&nbsp;&nbsp;&nbsp;■ <code style=\"background-color: #ffe9b9;\">remove the expression related to the property class <span style=\"background-color: yellow;\">property()</span></code> <br>\n",
    "\n",
    "&nbsp;&nbsp;&nbsp;&nbsp;&nbsp;&nbsp;■ <code style=\"background-color: #ffe9b9;\">then rename the <span style=\"color: blue;\">property getter method</span> as same that of the corresponding <span style=\"background-color: yellow;\">property attribute</span></code> <br>\n",
    "\n",
    "&nbsp;&nbsp;&nbsp;&nbsp;&nbsp;&nbsp;■ <code style=\"background-color: #ffe9b9;\">and then add the <span style=\"background-color: yellow;\">@property</span> <span style=\"color: red;\">decorator</span> on the top of the method instead of you having to link it explicitly with the <span style=\"background-color: yellow;\">property()</span> <span style=\"color: red;\">class</span></code>\n",
    "\n",
    "This <code style=\"background-color: #ffe9b9;\">not only <u>avoids <span style=\"font-size: 1rem;\"><strong>code-redundancy</strong></span></u>, but also make it more <span style=\"font-size: 1rem;\"><strong>convenient and readable</strong></span> for the coders</code>\n",
    "\n",
    "<br>\n",
    "\n",
    "</div>\n",
    "\n"
   ]
  },
  {
   "cell_type": "code",
   "execution_count": 57,
   "id": "4ceb1516-5661-43b7-9a78-ec10e73f4ce1",
   "metadata": {},
   "outputs": [
    {
     "name": "stdout",
     "output_type": "stream",
     "text": [
      "98.0 %\n",
      "94.0 %\n"
     ]
    }
   ],
   "source": [
    "\n",
    "class Student:\n",
    "    def __init__(self, phy, chem, maths):\n",
    "        self.phy = phy\n",
    "        self.chem = chem\n",
    "        self.maths = maths\n",
    "\n",
    "    @property\n",
    "    def percentage(self):\n",
    "        return str((self.phy + self.chem + self.maths) / 3) + \" %\"\n",
    "\n",
    "stud1 = Student(98, 97, 99)\n",
    "\n",
    "print(stud1.percentage)      # OUTPUT: 98 %\n",
    "\n",
    "stud1.phy = 86\n",
    "\n",
    "print(stud1.percentage)      # OUTPUT: 94 %      EXPECTED: 94 %      # Note: \"percentage\" is used as an ATTRIBUTE not a METHOD   ===>   stud1.percentage\n"
   ]
  },
  {
   "cell_type": "markdown",
   "id": "91ce4e60-6dc0-4d7a-b36a-85584bfad4f5",
   "metadata": {},
   "source": [
    "<br>\n",
    "\n",
    "<code style=\"background-color: white;\">Now, <span style=\"color: red;\"><u><span style=\"color: black;\">you can't use <span style=\"color: blue; font-size: 1rem;\"><strong>get_percentage()</strong></span> method anymore</span></u></span> to access the perecentage value of any <code style=\"color: red;\">Student</code> <span style=\"font-size: 1rem;\"><strong>object</strong></span>. Let's verify:</code>"
   ]
  },
  {
   "cell_type": "code",
   "execution_count": 58,
   "id": "c7be24ba-e1b0-4945-98fb-e219b70bdd3d",
   "metadata": {},
   "outputs": [
    {
     "name": "stdout",
     "output_type": "stream",
     "text": [
      "stud1.percentage        ===>  94.0 %\n"
     ]
    },
    {
     "ename": "AttributeError",
     "evalue": "'Student' object has no attribute 'get_percentage'",
     "output_type": "error",
     "traceback": [
      "\u001b[1;31m---------------------------------------------------------------------------\u001b[0m",
      "\u001b[1;31mAttributeError\u001b[0m                            Traceback (most recent call last)",
      "Cell \u001b[1;32mIn[58], line 2\u001b[0m\n\u001b[0;32m      1\u001b[0m \u001b[38;5;28mprint\u001b[39m(\u001b[38;5;124m\"\u001b[39m\u001b[38;5;124mstud1.percentage        ===> \u001b[39m\u001b[38;5;124m\"\u001b[39m, stud1\u001b[38;5;241m.\u001b[39mpercentage)                       \u001b[38;5;66;03m# OUTPUT:           94.0%\u001b[39;00m\n\u001b[1;32m----> 2\u001b[0m \u001b[38;5;28mprint\u001b[39m(\u001b[38;5;124m\"\u001b[39m\u001b[38;5;124mstud1.get_percentage()  ===> \u001b[39m\u001b[38;5;124m\"\u001b[39m, \u001b[43mstud1\u001b[49m\u001b[38;5;241;43m.\u001b[39;49m\u001b[43mget_percentage\u001b[49m())                 \u001b[38;5;66;03m# AttributeError:  'Student' object has no attribute 'get_percentage'\u001b[39;00m\n",
      "\u001b[1;31mAttributeError\u001b[0m: 'Student' object has no attribute 'get_percentage'"
     ]
    }
   ],
   "source": [
    "\n",
    "print(\"stud1.percentage        ===> \", stud1.percentage)                       # OUTPUT:           94.0%\n",
    "print(\"stud1.get_percentage()  ===> \", stud1.get_percentage())                 # AttributeError:  'Student' object has no attribute 'get_percentage'\n"
   ]
  },
  {
   "cell_type": "markdown",
   "id": "14ab4885-8ec1-48e7-a862-4e65ccc7131f",
   "metadata": {},
   "source": [
    "\n",
    "<br>\n",
    "\n",
    "--------------------------------------------------------------<code style=\"background-color: white; font-size: 1rem;\">Let's take another example to understand it</code>------------------------------------------------------------\n",
    "\n",
    "<div style=\"margin-left: 225px;\">\n",
    "\n",
    "![](media/Shraddha_Kapra_oops_57.PNG)\n",
    "\n",
    "</div>\n"
   ]
  },
  {
   "cell_type": "code",
   "execution_count": 59,
   "id": "90f168bb-82ce-4c07-ab88-2c6f14081fb0",
   "metadata": {},
   "outputs": [],
   "source": [
    "\n",
    "class Person:\n",
    "    def __init__(self, name, age):\n",
    "        self.name = name\n",
    "        self._age = age\n",
    "\n",
    "    def get_age(self):\n",
    "        return self._age\n",
    "\n",
    "    age = property(fget=get_age)\n"
   ]
  },
  {
   "cell_type": "code",
   "execution_count": 60,
   "id": "7d2fe2f3-1ad8-4377-8185-8e55bd8c51c3",
   "metadata": {},
   "outputs": [
    {
     "name": "stdout",
     "output_type": "stream",
     "text": [
      "25\n",
      "25\n"
     ]
    }
   ],
   "source": [
    "\n",
    "avinash = Person('Avinash', 25)\n",
    "\n",
    "print(avinash.age)                   # OUTPUT:  25\n",
    "print(avinash.get_age())             # OUTPUT:  25\n"
   ]
  },
  {
   "cell_type": "markdown",
   "id": "79baa390-cf7d-4c69-922a-5b8aa716aa6f",
   "metadata": {},
   "source": [
    "<br>\n",
    "\n",
    "So <code style=\"background-color: white;\">to get the <code style=\"color: red;\">age</code> of a <code style=\"color: red;\">Person</code> object, you can use either the <code style=\"color: red;\">age</code> <span style=\"font-size: 1rem;\"><strong>property</strong></span> or the <code style=\"color: blue;\">get_age()</code> <span style=\"font-size: 1rem;\"><strong>method</strong></span>. This creates an <u>unnecessary redundancy</u>.</code>\n",
    "\n",
    "<strong>To</strong> <code style=\"background-color: white;\"><span style=\"font-size: 1rem;\"><strong>avoid this redundancy</strong></span>, you can rename the <code style=\"color: blue;\">get_age()</code> method to the <code style=\"color: blue;\">age()</code> method like this:</code>\n"
   ]
  },
  {
   "cell_type": "code",
   "execution_count": 61,
   "id": "48de4efd-3e9a-434b-92f9-5af72950da6c",
   "metadata": {},
   "outputs": [],
   "source": [
    "\n",
    "class Person:\n",
    "    def __init__(self, name, age):\n",
    "        self.name = name\n",
    "        self._age = age\n",
    "\n",
    "    def age(self):\n",
    "        return self._age\n",
    "\n",
    "    age = property(fget=age)\n"
   ]
  },
  {
   "cell_type": "markdown",
   "id": "b76e8a66-e6ac-461b-9e1b-f29f4137a6c0",
   "metadata": {},
   "source": [
    "<br>\n",
    "\n",
    "The <code style=\"background-color: white;\"><span style=\"background-color: yellow;\">property()</span> accepts a <span style=\"font-size: 1rem;\"><strong>callable</strong></span> (<u><span style=\"color: red; font-size: 1rem;\"><strong>age</strong></span></u>) and returns a <span style=\"font-size: 1rem;\"><strong>callable</strong></span>. Therefore, it is a <u>decorator</u>. So, you can use the <span style=\"background-color: yellow;\">@property</span> <u>decorator</u> to decorate the <span style=\"color: blue; font-size: 1rem;\"><strong>age()</strong></span> method as follows:</code>"
   ]
  },
  {
   "cell_type": "code",
   "execution_count": 66,
   "id": "8ae2547a-4714-4402-bf43-73952c8ffb9e",
   "metadata": {},
   "outputs": [],
   "source": [
    "\n",
    "class Person:\n",
    "    def __init__(self, name, age):\n",
    "        self.name = name                                                                   # instance attribute  =========>  \"name\"\n",
    "        self._age = age                                                                    # instance attribute  =========>  \"_age\"\n",
    "\n",
    "    @property                                                                              # property class attribute  ===>  \"age\"  \n",
    "    def age(self):                 # property getter method of the property object \"age\"\n",
    "        return self._age\n"
   ]
  },
  {
   "cell_type": "markdown",
   "id": "64619a69-e923-45c0-aa0c-ebf67dd75130",
   "metadata": {},
   "source": [
    "<br>\n",
    "\n",
    "<div style=\"background-color: #ffe9b9; padding: 20px;\">\n",
    "<code style=\"background-color: #ffe9b9;\">So by using the <span style=\"background-color: yellow;\">@property</span> <span style=\"color: red;\">decorator</span>, you can simplify the <u>property definition for a class</u>.\n",
    "</div>\n"
   ]
  },
  {
   "cell_type": "markdown",
   "id": "b9187248-6c72-41af-ad65-c4d90a5fb2fd",
   "metadata": {},
   "source": [
    "<br>\n",
    "\n",
    "<span style=\"color: red;\">================================================================================================================</span>\n",
    "\n",
    "<br>\n",
    "\n",
    "<font size=\"+1\">⭐</font><u><strong><code style=\"font-size: 1.05rem; background-color: white;\">Setter decorators</code></strong></u>\n",
    "\n",
    "<code style=\"background-color: white;\">The following adds a setter method <code style=\"color: blue;\">set_age()</code> to assign a value to <code style=\"color: red;\">_age</code> attribute to the <code style=\"color: red;\">Person</code> class:</code>\n",
    "\n",
    "<div style=\"margin-left: 80px;\">\n",
    "\n",
    "![](media/Shraddha_Kapra_oops_58.PNG)\n",
    "\n",
    "</div>\n"
   ]
  },
  {
   "cell_type": "code",
   "execution_count": 1,
   "id": "24ca1419-5894-4c4c-a3c1-fec967cf4c4c",
   "metadata": {},
   "outputs": [],
   "source": [
    "\n",
    "class Person:\n",
    "    def __init__(self, name, age):\n",
    "        self.name = name                                                                                               # instance attribute \"name\"\n",
    "        self._age = age                                                                                                # instance attribute \"_age\"\n",
    "\n",
    "    @property\n",
    "    def age(self):                                           # property getter method\n",
    "        return self._age                                                                                               # instance attribute \"_age\"\n",
    "\n",
    "    def set_age(self, value):                                # property setter method\n",
    "        if value <= 0:\n",
    "            raise ValueError('The age must be positive')\n",
    "        self._age = value                                                                                              # instance attribute \"_age\"\n",
    "\n",
    "    age = age.setter(set_age)                                # assigns the \"set_age()\" method to the \"fset\" argument of the property object \"age\"\n"
   ]
  },
  {
   "cell_type": "markdown",
   "id": "41393a07-25f5-4753-a2ef-cca7202d3a47",
   "metadata": {},
   "source": [
    "<br>\n",
    "\n",
    "The <code style=\"background-color: white;\"><code style=\"color: red;\">setter()</code> method accepts a <span style=\"font-size: 1rem;\"><strong>callable</strong></span> and returns another <span style=\"font-size: 1rem;\"><strong>callable</strong></span> (a <span style=\"background-color: yellow;\">property object</span>). Therefore, you can use the <u>decorator</u> <code style=\"color: red;\">@age.setter</code> for the <code style=\"color: blue;\">set_age()</code> method like this:</code>"
   ]
  },
  {
   "cell_type": "code",
   "execution_count": 3,
   "id": "53e85cba-c0e9-4fa9-a365-86fe465319b1",
   "metadata": {},
   "outputs": [],
   "source": [
    "\n",
    "class Person:\n",
    "    def __init__(self, name, age):\n",
    "        self.name = name                                                                                                   # instance attribute \"name\"\n",
    "        self._age = age                                                                                                    # instance attribute \"_age\"\n",
    "\n",
    "    @property\n",
    "    def age(self):                                            # property getter method   ======>   links it with the fget of the property object \"age\"\n",
    "        return self._age\n",
    "\n",
    "    @age.setter\n",
    "    def set_age(self, value):                                 # property setter method   ======>   links it with the fset of the property object \"age\"\n",
    "        if value <= 0:\n",
    "            raise ValueError('The age must be positive')\n",
    "        self._age = value\n"
   ]
  },
  {
   "cell_type": "markdown",
   "id": "e7affc68-2d44-47ea-8f6e-8498ca017f48",
   "metadata": {},
   "source": [
    "<br>\n",
    "\n",
    "Now, <code style=\"background-color: white;\">you can change the <code style=\"color: blue;\">set_age()</code> method to the <code style=\"color: blue;\">age()</code> method and use the <code style=\"color: red;\">age</code> <span style=\"background-color: yellow;\">property</span> in the <code style=\"color: red;\">\\_\\_init__()</code> method:</code>"
   ]
  },
  {
   "cell_type": "code",
   "execution_count": 4,
   "id": "8b823ba2-146d-49bd-b9f0-d00fa1c57b5a",
   "metadata": {},
   "outputs": [],
   "source": [
    "\n",
    "class Person:\n",
    "    def __init__(self, name, age):\n",
    "        self.name = name                                                                                                   # instance attribute \"name\"\n",
    "        self._age = age                                                                                                    # instance attribute \"_age\"\n",
    "\n",
    "    @property\n",
    "    def age(self):                                            # property getter method   ======>   links it with the fget of the property object \"age\"\n",
    "        return self._age\n",
    "\n",
    "    @age.setter\n",
    "    def set_age(self, value):                                 # property setter method   ======>   links it with the fset of the property object \"age\"\n",
    "        if value <= 0:\n",
    "            raise ValueError('The age must be positive')\n",
    "        self._age = value\n"
   ]
  },
  {
   "cell_type": "markdown",
   "id": "71646041-84f0-474c-a78a-861091a63d72",
   "metadata": {},
   "source": [
    "<br>\n",
    "\n",
    "<code style=\"background-color: white\">To <u>summarize</u>, you can use <span style=\"font-size: 1rem;\"><strong>decorators</strong></span> to create a <span style=\"background-color: yellow;\">property</span> using the following pattern:</code>\n",
    "\n",
    "<br>\n",
    "\n",
    "<div style=\"margin-left: 50px;\">\n",
    "\n",
    "![](media/Shraddha_Kapra_oops_59.PNG)\n",
    "\n",
    "</div>\n",
    "\n",
    "<code style=\"background-color: white;\">The following example uses the <span style=\"background-color: yellow;\">@property</span> decorators to create the <code style=\"color: red;\">name</code> and <code style=\"color: red;\">age</code> properties in the <code style=\"color: red;\">Person</code> class:</code>"
   ]
  },
  {
   "cell_type": "code",
   "execution_count": 5,
   "id": "dfdc0f7d-a190-457b-b20a-19d1f55a5a83",
   "metadata": {},
   "outputs": [],
   "source": [
    "\n",
    "class Person:\n",
    "    def __init__(self, name, age):\n",
    "        self.name = name\n",
    "        self.age = age\n",
    "\n",
    "    @property\n",
    "    def age(self):\n",
    "        return self._age\n",
    "\n",
    "    @age.setter\n",
    "    def age(self, value):\n",
    "        if value <= 0:\n",
    "            raise ValueError('The age must be positive')\n",
    "        self._age = value\n",
    "\n",
    "    @property\n",
    "    def name(self):\n",
    "        return self._name\n",
    "\n",
    "    @name.setter\n",
    "    def name(self, value):\n",
    "        if value.strip() == '':\n",
    "            raise ValueError('The name cannot be empty')\n",
    "        self._name = value\n"
   ]
  },
  {
   "cell_type": "code",
   "execution_count": 6,
   "id": "20c95be6-81e0-495e-969c-7b91c19d66ba",
   "metadata": {},
   "outputs": [
    {
     "name": "stdout",
     "output_type": "stream",
     "text": [
      "<property object at 0x00000255A8E08FE0>\n",
      "Avinash\n",
      "Avinash\n",
      "\n",
      "\n",
      "<property object at 0x00000255A8E090D0>\n",
      "30\n",
      "30\n"
     ]
    }
   ],
   "source": [
    "\n",
    "avinash = Person(\"Avinash\", 30)\n",
    "\n",
    "print(Person.name)\n",
    "print(avinash.name)\n",
    "print(avinash._name)\n",
    "\n",
    "print(\"\\n\")\n",
    "\n",
    "print(Person.age)\n",
    "print(avinash.age)\n",
    "print(avinash._age)\n"
   ]
  },
  {
   "cell_type": "code",
   "execution_count": 7,
   "id": "c6a49fe9-3d52-4f5d-bd81-bf9fd2b07453",
   "metadata": {},
   "outputs": [
    {
     "name": "stdout",
     "output_type": "stream",
     "text": [
      "Instance Attributes          ===>    ['_name', '_age']\n",
      "Class Attributes             ===>    ['__module__', '__init__', 'age', 'name', '__dict__', '__weakref__', '__doc__']\n",
      "Property Class Attributes    ===>    ['age', 'name']\n"
     ]
    }
   ],
   "source": [
    "\n",
    "print(\"Instance Attributes          ===>   \", list(avinash.__dict__.keys()))\n",
    "\n",
    "\n",
    "print(\"Class Attributes             ===>   \", list(Person.__dict__.keys()))\n",
    "\n",
    "\n",
    "print(\"Property Class Attributes    ===>   \", [name for name, attr in vars(Person).items() if isinstance(attr, property)])\n"
   ]
  },
  {
   "cell_type": "markdown",
   "id": "3d860e09-ab42-4268-99d7-340c8d2ac053",
   "metadata": {},
   "source": [
    "<br>\n",
    "\n",
    "<span style=\"color: red;\">================================================================================================================</span>\n",
    "\n",
    "<br>\n",
    "\n",
    "🔶 <code style=\"background-color: white;\">Key reasons for introducing the <code style=\"background-color: yellow;\">@property</code> decorator :</code>\n",
    "\n",
    "<div style=\"display: flex;\">\n",
    "\n",
    "<div style=\"margin-left: 30px;\"><span style=\"font-size: 0.8rem;\">■</span> &nbsp;&nbsp;<code style=\"background-color: #8efffc;\">Cleaner and More Readable Code  :</code></div>\n",
    "\n",
    "<div style=\"margin-left: 15px; width: 730px;\">The &nbsp;<span style=\"background-color: yellow;\">@property</span>&nbsp; decorator approach is more intutitive and cleaner because it allows a more <strong>natural, concise &nbsp;syntax</strong> to define a property. Instead of manually creating the <code>property object</code> by explicitly calling <code>property()</code> class with getter and setter methods, you can define them directly using decorators. This makes the code easier to read and maintain, thus improving code-clarity.  <br>\n",
    "</div>\n",
    "\n",
    "</div>\n",
    "\n",
    "<span style=\"color: #00efe8; margin-left: 52px;\">------------------------------------------------------------------------------------------------------------------------------------------------------------------------------------</span>\n",
    "\n",
    "<div style=\"display: flex;\">\n",
    "    \n",
    "<div style=\"margin-left: 30px;\"><span style=\"font-size: 0.8rem;\">■</span> &nbsp;&nbsp;<code style=\"background-color: #8efffc;\">Improved Separation of Concerns :</code></div>\n",
    "\n",
    "<div style=\"margin-left: 15px; width: 730px;\">\n",
    "    \n",
    "With &nbsp;<span style=\"background-color: yellow;\">@property</span>&nbsp; and related decorators (&nbsp;<code>@\\<property>.setter</code>&nbsp; and &nbsp;<code>@\\<property>.deleter</code>&nbsp;), the logic for getting, setting, and deleting an attribute is grouped directly with the method that handles each operation. This helps in maintaining the code's separation of concerns, making it clear what each method is responsible for.  <br>\n",
    "\n",
    "<div style=\"display: flex;\">\n",
    "    <div>↳&nbsp;&nbsp;</div>\n",
    "    <div><strong>With &nbsp;&nbsp;Decorators</strong> &nbsp;&nbsp;&nbsp;&nbsp;&nbsp;&nbsp;&nbsp;&nbsp;&nbsp;&nbsp;&nbsp;&nbsp;➜&nbsp;&nbsp;&nbsp;&nbsp;You can see the getter, setter, and deleter immediately next to each other, with their respective purposes clearly marked by the decorator.</div>\n",
    "</div>\n",
    "\n",
    "<br>\n",
    "\n",
    "<div style=\"display: flex;\">\n",
    "    <div>↳&nbsp;&nbsp;</div>\n",
    "    <div><strong>Without &nbsp;&nbsp;Decorators</strong> &nbsp;&nbsp;&nbsp;&nbsp;&nbsp;&nbsp;➜&nbsp;&nbsp;&nbsp;&nbsp;The getter and setter are defined as independent functions, which makes it harder to quickly understand the property logic.</div>\n",
    "</div>\n",
    "    \n",
    "</div>\n",
    "\n",
    "</div>\n",
    "\n",
    "<span style=\"color: #00efe8; margin-left: 52px;\">------------------------------------------------------------------------------------------------------------------------------------------------------------------------------------</span>\n",
    "\n",
    "<div style=\"display: flex;\">\n",
    "    \n",
    "<div style=\"margin-left: 30px;\"><span style=\"font-size: 0.8rem;\">■</span> &nbsp;&nbsp;<code style=\"background-color: #8efffc;\">Reduced Boilerplate             :</code></div>\n",
    "\n",
    "<div style=\"margin-left: 15px; width: 730px;\">When using &nbsp;<span style=\"background-color: yellow;\">@property</span>&nbsp;, you don't have to manually create the &nbsp;<code>property()</code>&nbsp; object with getter and setter methods. The decorator automatically handles this for you, reducing boilerplate code.  <br><br>\n",
    "\n",
    "<div style=\"display: flex;\">\n",
    "    <div>↳&nbsp;&nbsp;</div>\n",
    "    <div><strong>Using &nbsp;&nbsp;property( )</strong> &nbsp;&nbsp;&nbsp;&nbsp;&nbsp;&nbsp;&nbsp;&nbsp;&nbsp;&nbsp;➜&nbsp;&nbsp;&nbsp;&nbsp;You have to explicitly pass methods to &nbsp;<code>fget</code>, &nbsp;<code>fset</code>, and &nbsp;<code>fdel</code>.</div>\n",
    "</div> <br>\n",
    "\n",
    "<div style=\"display: flex;\">\n",
    "    <div>↳&nbsp;&nbsp;</div>\n",
    "    <div><strong>Using &nbsp;&nbsp;@property</strong> &nbsp;&nbsp;&nbsp;&nbsp;&nbsp;&nbsp;&nbsp;&nbsp;&nbsp;&nbsp;➜&nbsp;&nbsp;&nbsp;&nbsp;The decorator does this automatically without additional parameters.</div>\n",
    "</div>\n",
    "\n",
    "</div>\n",
    "\n",
    "</div>\n",
    "\n",
    "<span style=\"color: #00efe8; margin-left: 52px;\">------------------------------------------------------------------------------------------------------------------------------------------------------------------------------------</span>\n",
    "\n",
    "<div style=\"display: flex;\">\n",
    "    \n",
    "<div style=\"margin-left: 30px;\"><span style=\"font-size: 0.8rem;\">■</span> &nbsp;&nbsp;<code style=\"background-color: #8efffc;\">Encapsulation and Flexibility   :</code></div>\n",
    "\n",
    "<div style=\"margin-left: 15px; width: 730px;\">The &nbsp;<span style=\"background-color: yellow;\">@property</span>&nbsp; decorator supports Python’s philosophy of <strong>encapsulation</strong>. You can start by making an attribute public, then later change it to a property without altering the interface used by the class's consumers. This <strong>flexibility</strong>&nbsp; allows you to <u>refactor</u> code easily while keeping <u>backward compatibility</u>.\n",
    "</div>\n",
    "\n",
    "</div>\n",
    "\n",
    "<br>"
   ]
  },
  {
   "cell_type": "markdown",
   "id": "f872ff40-896f-44b2-a4bf-73def4111485",
   "metadata": {},
   "source": [
    "<br>\n",
    "\n",
    "<span style=\"color: #DCBD10\">▬▬▬▬▬▬▬▬▬▬▬▬▬▬▬▬▬▬▬▬▬▬▬▬▬▬▬▬▬▬▬▬▬▬▬▬▬▬▬▬▬▬▬▬▬▬▬▬▬▬▬▬▬▬▬▬▬▬▬▬▬▬▬▬▬▬▬▬▬▬▬▬▬▬▬▬▬</span>\n"
   ]
  },
  {
   "cell_type": "markdown",
   "id": "5aec468c-3f94-4390-a2f9-c78742201e94",
   "metadata": {},
   "source": [
    "#### <code style=\"background-color: blue; color: white;\">Python Readonly Property</code>\n",
    "\n",
    "<br>\n",
    "\n",
    "<font size=\"+1\">⭐</font><u><strong><code style=\"font-size: 1.05rem; background-color: white;\">Summary</code></u>&nbsp;:</strong> <code style=\"background-color: white;\">in this tutorial, you’ll learn how to define <span style=\"background-color: yellow; font-size: 0.9rem;\">Python <span style=\"font-size: 1rem;\"><strong>readonly</strong></span> property</span> and how to use it to define <u>computed properties</u>.</code>\n",
    "\n",
    "<br>\n",
    "\n",
    "<span style=\"color: red;\">================================================================================================================</span>\n",
    "\n",
    "<br>\n",
    "\n",
    "<font size=\"+1\">⭐</font><u><strong><code style=\"font-size: 1.05rem; background-color: white;\">Introduction to the <span style=\"background-color: yellow;\">Python readonly property</span></code>\n",
    "\n",
    "To <code style=\"background-color: white;\">define a readonly property, you need to create a property with <u>only the getter</u>. <code>However, it is <u>not truly read-only</u> because you can always access the underlying attribute and change it.</code></code>\n",
    "\n",
    "You <code style=\"background-color: white;\">can define a <span style=\"background-color: yellow;\">read-only property</span> by omitting the setter and deleter methods. <u>This prevents modification or deletion of the property</u>.</code>\n",
    "\n",
    "The <code style=\"background-color: white;\"><span style=\"background-color: yellow;\">read-only properties</span> are useful in some cases such as for <span style=\"background-color: #ffd5c9;\">computed properties</span>.</code>\n",
    "\n",
    "Consider <code style=\"background-color: white;\">the following example :</code>"
   ]
  },
  {
   "cell_type": "code",
   "execution_count": 8,
   "id": "e738bbee-a6ef-463e-850e-f9911edd35fc",
   "metadata": {},
   "outputs": [
    {
     "name": "stdout",
     "output_type": "stream",
     "text": [
      "314.1592653589793\n"
     ]
    }
   ],
   "source": [
    "\n",
    "import math\n",
    "\n",
    "class Circle:\n",
    "    def __init__(self, radius):                   # CONSTRUCTOR\n",
    "        self.radius = radius                                                  # instance attribute \"radius\"\n",
    "\n",
    "    def area(self):                               # GETTER  METHOD\n",
    "        return math.pi * self.radius ** 2\n",
    "\n",
    "c = Circle(10)\n",
    "\n",
    "print(c.area())\n"
   ]
  },
  {
   "cell_type": "markdown",
   "id": "7f55dfc5-1dbb-41d5-ae9f-9d00c858c3ae",
   "metadata": {},
   "source": [
    "<br>\n",
    "\n",
    "This <code style=\"background-color: white;\">code works perfectly fine.</code>\n",
    "\n",
    "But <code style=\"background-color: white;\"><u>it would be more natural had the area been a <span style=\"font-size: 1rem;\"><strong>property</strong></span> of the <code style=\"color: red;\">Circle</code> object, not a <span style=\"font-size: 1rem;\"><strong>method</strong></span></u>. To make the <code style=\"color: red;\">area()</code> method as a <span style=\"font-size: 1rem;\"><strong>property</strong></span> of the <code style=\"color: red;\">Circle</code> class, you can use the <span style=\"background-color: yellow;\">@property</span> <span style=\"font-size: 1rem;\"><strong>decorator</strong></span> as follows:</code>"
   ]
  },
  {
   "cell_type": "code",
   "execution_count": 9,
   "id": "871a1214-6f54-4779-a952-5ed21a2f4868",
   "metadata": {},
   "outputs": [
    {
     "name": "stdout",
     "output_type": "stream",
     "text": [
      "314.1592653589793\n"
     ]
    }
   ],
   "source": [
    "\n",
    "import math\n",
    "\n",
    "class Circle:\n",
    "    def __init__(self, radius):                    # CONSTRUCTOR\n",
    "        self.radius = radius                                                        # instance  attribute\n",
    "\n",
    "    @property                                                                       # property  attribute  \"area\"\n",
    "    def area(self):                                # PROPERTY  GETTER  METHOD\n",
    "        return math.pi * self.radius ** 2\n",
    "\n",
    "c = Circle(10)\n",
    "print(c.area)\n"
   ]
  },
  {
   "cell_type": "markdown",
   "id": "11789e69-faed-4df3-ac86-068008b92a5d",
   "metadata": {},
   "source": [
    "<br>\n",
    "\n",
    "The <code style=\"background-color: white;\">area is calculated from the <code style=\"color: red;\">radius</code> attribute. Therefore, it’s often called a <u>calculated or computed property</u>.</code>\n",
    "\n",
    "Now <code style=\"background-color: white;\">if you try to access the area as a <span style=\"font-size: 1rem;\"><strong>method</strong></span>, it will throw <u>error</u>.</code>"
   ]
  },
  {
   "cell_type": "code",
   "execution_count": 10,
   "id": "eb025d09-2e38-4380-b43b-e7b8861763a5",
   "metadata": {},
   "outputs": [
    {
     "ename": "TypeError",
     "evalue": "'float' object is not callable",
     "output_type": "error",
     "traceback": [
      "\u001b[1;31m---------------------------------------------------------------------------\u001b[0m",
      "\u001b[1;31mTypeError\u001b[0m                                 Traceback (most recent call last)",
      "Cell \u001b[1;32mIn[10], line 1\u001b[0m\n\u001b[1;32m----> 1\u001b[0m \u001b[43mc\u001b[49m\u001b[38;5;241;43m.\u001b[39;49m\u001b[43marea\u001b[49m\u001b[43m(\u001b[49m\u001b[43m)\u001b[49m\n",
      "\u001b[1;31mTypeError\u001b[0m: 'float' object is not callable"
     ]
    }
   ],
   "source": [
    "\n",
    "c.area()\n"
   ]
  },
  {
   "cell_type": "markdown",
   "id": "9571bf11-95dd-49f2-a54c-8c910f4ebc97",
   "metadata": {},
   "source": [
    "<br>\n",
    "\n",
    "<span style=\"color: red;\">================================================================================================================</span>\n",
    "\n",
    "<br>\n",
    "\n",
    "<font size=\"+1\">⭐</font><u><strong><code style=\"font-size: 1.05rem; background-color: white;\"><span style=\"background-color: #cdffc2;\">Cache</span> calculated properties</code>\n",
    "\n",
    "Suppose <code style=\"background-color: white;\">you create a new circle object and access the area property many times. <u>Each time, the area needs to be recalculated, which is not efficient</u>.</code>\n",
    "\n",
    "To <code style=\"background-color: white;\">make it more performant, you need to recalculate the area of the circle <u>only when the radius changes</u>. <span style=\"background-color: #ffe7c2;\">If the radius doesn’t change, you should be able to reuse the <u>previously calculated area</u></span>.</code>\n",
    "\n",
    "<br>\n",
    "\n",
    "<div style=\"background-color: #ffe9b9; padding-top: 20px; padding-left: 20px; margin-left: -10px;\">\n",
    "    \n",
    "To <code style=\"background-color: #ffe9b9;\">do it, you can use the <span style=\"background-color: white;\"> <span style=\"color: red;\">caching</span> technique </span>&nbsp;:</code> \n",
    "\n",
    "&nbsp;&nbsp;&nbsp;&nbsp;&nbsp;&nbsp;&nbsp;&nbsp;■\n",
    "<code style=\"background-color: #ffe9b9;\">First, calculate the area and <u>save it in a cache</u>.</code> <br>\n",
    "\n",
    "&nbsp;&nbsp;&nbsp;&nbsp;&nbsp;&nbsp;&nbsp;&nbsp;■ <code style=\"background-color: #ffe9b9;\">Second, if the radius changes, <u>reset the area</u>. Otherwise, <u>return the area directly from the cache</u> without recalcuation.</code> <br>\n",
    "\n",
    "<br>\n",
    "\n",
    "</div>\n",
    "\n",
    "<br>\n",
    "\n",
    "<code style=\"background-color: white;\">The following defines the new <code style=\"color: red;\">Circle</code> class with cached <code style=\"color: red;\">area</code> <span style=\"background-color: yellow;\">property</span>:</code>"
   ]
  },
  {
   "cell_type": "code",
   "execution_count": 11,
   "id": "0e456d4d-441c-4a5f-9c39-3fd081e1d12a",
   "metadata": {},
   "outputs": [],
   "source": [
    "\n",
    "import math\n",
    "\n",
    "class Circle:\n",
    "    def __init__(self, radius):                               # CONSTRUCTOR\n",
    "        self._radius = radius                                                                                   # instance  attribute  \"_radius\"\n",
    "        self._area = None                                                                                       # instance  attribute  \"_age\"\n",
    "\n",
    "    @property\n",
    "    def radius(self):                                         # PROPERTY  GETTER  METHOD    ===========>    property  class  attribute  \"radius\"\n",
    "        return self._radius\n",
    "\n",
    "    @radius.setter\n",
    "    def radius(self, value):                                  # PROPERTY  GETTER  METHOD    ===========>    property  class  attribute  \"radius\"\n",
    "        if value < 0:\n",
    "            raise ValueError('Radius must be positive')\n",
    "\n",
    "        if value != self._radius:\n",
    "            self._radius = value\n",
    "            self._area = None\n",
    "\n",
    "    @property\n",
    "    def area(self):                                           # PROPERTY  GETTER  METHOD    ===========>    property  class  attribute  \"area\"\n",
    "        if self._area is None:\n",
    "            self._area = math.pi * self.radius ** 2\n",
    "\n",
    "        return self._area\n"
   ]
  },
  {
   "cell_type": "code",
   "execution_count": 12,
   "id": "8d704874-978e-47f3-ae6a-cc38f198405d",
   "metadata": {},
   "outputs": [
    {
     "name": "stdout",
     "output_type": "stream",
     "text": [
      "314.1592653589793\n"
     ]
    }
   ],
   "source": [
    "\n",
    "c = Circle(10)\n",
    "print(c.area)\n"
   ]
  },
  {
   "cell_type": "code",
   "execution_count": 13,
   "id": "9e827d1b-0544-4427-be18-cc4cce76ec33",
   "metadata": {},
   "outputs": [
    {
     "name": "stdout",
     "output_type": "stream",
     "text": [
      "Instance Attributes          ===>    ['_radius', '_area']\n",
      "Class Attributes             ===>    ['__module__', '__init__', 'radius', 'area', '__dict__', '__weakref__', '__doc__']\n",
      "Property Class Attributes    ===>    ['radius', 'area']\n"
     ]
    }
   ],
   "source": [
    "\n",
    "print(\"Instance Attributes          ===>   \", list(c.__dict__.keys()))\n",
    "\n",
    "\n",
    "print(\"Class Attributes             ===>   \", list(Circle.__dict__.keys()))\n",
    "\n",
    "\n",
    "print(\"Property Class Attributes    ===>   \", [name for name, attr in vars(Circle).items() if isinstance(attr, property)])\n"
   ]
  },
  {
   "cell_type": "markdown",
   "id": "406a2730-d527-4ce2-8bd9-3e101f981fdf",
   "metadata": {},
   "source": [
    "<br>\n",
    "\n",
    "<div style=\"margin-left: 100px;\">\n",
    "\n",
    "![](media/Shraddha_Kapra_oops_60.PNG)\n",
    "\n",
    "</div>\n",
    "\n",
    "<br>\n",
    "\n",
    "&nbsp;&nbsp;&nbsp;&nbsp;How &nbsp;it &nbsp;works?\n",
    "\n",
    "&nbsp;&nbsp;&nbsp;&nbsp;&nbsp;&nbsp;&nbsp;&nbsp;&nbsp;&nbsp;&nbsp;&nbsp;■&nbsp; <code style=\"background-color: white;\">First, set the <code style=\"color: red;\">\\_area</code> to <code style=\"color: red;\">None</code> in the <code style=\"color: red;\">\\_\\_init__</code> method. The <code style=\"color: red;\">_area</code> attribute is the <span style=\"background-color: #b7ffb8;\">cache</span> that stores the <u>calculated area</u>.</code>\n",
    "\n",
    "&nbsp;&nbsp;&nbsp;&nbsp;&nbsp;&nbsp;&nbsp;&nbsp;&nbsp;&nbsp;&nbsp;&nbsp;■&nbsp; <code style=\"background-color: white;\">Second, <u>if the radius changes (in the setter)</u>, reset the <code style=\"color: red;\">_area</code> to <code style=\"color: red;\">None</code>.</code>\n",
    "\n",
    "&nbsp;&nbsp;&nbsp;&nbsp;&nbsp;&nbsp;&nbsp;&nbsp;&nbsp;&nbsp;&nbsp;&nbsp;■&nbsp;&nbsp;&nbsp;Third, <code style=\"background-color: white;\">define the <u>computed property</u> <code style=\"color: red;\">area</code>. The <code style=\"color: red;\">area</code> property returns <code style=\"color: red;\">_area</code> if it is not <code style=\"color: red;\">None</code>. \n",
    "         Otherwise, calculate the area, save it into the <code style=\"color: red;\">_area</code>, and return it.</code>\n",
    "\n",
    "<br>\n",
    "\n",
    "<span style=\"color: #03d1ff;\">---------------------------------------------------------------------------<code style=\"background-color: white; color: #00b8e1; font-size: 1.05rem;\">Let's take another example</code>------------------------------------------------------------------------</span>"
   ]
  },
  {
   "cell_type": "code",
   "execution_count": 14,
   "id": "8ab23f79-826b-4165-8ed1-8d9e6cb01d97",
   "metadata": {},
   "outputs": [
    {
     "name": "stdout",
     "output_type": "stream",
     "text": [
      "Aman\n",
      "Mishra\n",
      "Aman Mishra\n",
      "Aman_Mishra@EMAIL.com\n"
     ]
    }
   ],
   "source": [
    "\n",
    "class Employee:\n",
    "\n",
    "    def __init__(self, firstname, lastname):                            # CONSTRUCTOR\n",
    "        self.firstname = firstname\n",
    "        self.lastname = lastname\n",
    "                                                                        \n",
    "    def fullname(self):                                                 # GETTER    ===========>    addS a method for fullname\n",
    "        return f\"{self.firstname} {self.lastname}\"\n",
    "\n",
    "    def email(self):                                                    # GETTER    ===========>    addS a method for email\n",
    "        return f\"{self.firstname}_{self.lastname}@EMAIL.com\"\n",
    "\n",
    "\n",
    "emp1 = Employee(\"Avinash\", \"Mishra\")\n",
    "\n",
    "emp1.firstname = \"Aman\"\n",
    "\n",
    "print(emp1.firstname)\n",
    "print(emp1.lastname)\n",
    "print(emp1.fullname())                                                  # emp1.fullname()    ===>    using  fullname()  as  a  method\n",
    "print(emp1.email())                                                     # emp1.email()       ===>    using  email()     as  a  method\n"
   ]
  },
  {
   "cell_type": "markdown",
   "id": "b93cbead-407a-48b9-b8d3-e8ff7918c0e8",
   "metadata": {},
   "source": [
    "<br>\n",
    "\n",
    "Now <code style=\"background-color: white;\">instead of simply using a method for accessing the <span style=\"color: blue;\">fullname</span> or the <span style=\"color: blue;\">email</span>, let us add a <span style=\"background-color: yellow; color: black;\">@property</span> <u>decorator</u> on top of both these methods <u><span style=\"color: red;\">to access them as properties</span></u> (or <span style=\"font-size: 1rem;\"><strong>like <span style=\"background-color: #ffeccf;\">attributes</span></strong></span>)</code>\n",
    "\n",
    "<br>\n",
    "\n",
    "<div style=\"margin-left: 75px;\">\n",
    "\n",
    "![](media/Shraddha_Kapra_oops_62.PNG)\n",
    "\n",
    "</div>\n"
   ]
  },
  {
   "cell_type": "code",
   "execution_count": 15,
   "id": "e89aede1-f00d-4fd9-a948-ee53757e3369",
   "metadata": {},
   "outputs": [
    {
     "name": "stdout",
     "output_type": "stream",
     "text": [
      "Aman Mishra\n",
      "aman_mishra@email.com\n"
     ]
    }
   ],
   "source": [
    "\n",
    "class Employee:\n",
    "\n",
    "    def __init__(self, firstname, lastname):                                      # CONSTRUCTOR\n",
    "        self.firstname = firstname\n",
    "        self.lastname = lastname\n",
    "\n",
    "    @property\n",
    "    def fullname(self):                                                           # GETTER   ===>   now  \"fullname\"  can  be  treated  as  an  attribute\n",
    "        return f\"{self.firstname} {self.lastname}\"\n",
    "\n",
    "    @property\n",
    "    def email(self):                                                              # GETTER   ===>   now  \"email\"  can  be  treated  as  an  attribute\n",
    "        return f\"{self.firstname.lower()}_{self.lastname.lower()}@email.com\"\n",
    "\n",
    "\n",
    "emp1 = Employee(\"Avinash\", \"Mishra\")\n",
    "\n",
    "emp1.firstname = \"Aman\"\n",
    "\n",
    "print(emp1.fullname)            # OUTPUT:     Aman Mishra               <====     using   \"fullname\"    as  an  attribute\n",
    "print(emp1.email)               # OUTPUT:     Aman_Mishra@EMAIL.com     <====     using   \"email\"     as  a   method\n"
   ]
  },
  {
   "cell_type": "markdown",
   "id": "c7e7c5bb-e1f1-4383-b871-149e22138318",
   "metadata": {},
   "source": [
    "<br>\n",
    "\n",
    "<code style=\"background-color: white;\">Let's make the <code style=\"color: red;\">fullname</code> and <code style=\"color: red;\">email</code> a <span style=\"background-color: yellow;\">readonly property</span></code>"
   ]
  },
  {
   "cell_type": "code",
   "execution_count": 16,
   "id": "8389284c-5520-49fb-8f0b-f84cb8974897",
   "metadata": {},
   "outputs": [
    {
     "name": "stdout",
     "output_type": "stream",
     "text": [
      "Aman Mishra\n",
      "aman_mishra@email.com\n"
     ]
    }
   ],
   "source": [
    "\n",
    "class Employee:\n",
    "\n",
    "    def __init__(self, firstname, lastname):\n",
    "        self._firstname = firstname\n",
    "        self._lastname = lastname\n",
    "        self._fullname = None\n",
    "        self._email = None\n",
    "\n",
    "##################################################################################################################################\n",
    "    @property\n",
    "    def firstname(self):\n",
    "        return self._firstname\n",
    "\n",
    "    @firstname.setter\n",
    "    def firstname(self, value):\n",
    "        if value != self._firstname:\n",
    "            self._firstname = value\n",
    "\n",
    "##################################################################################################################################\n",
    "    @property\n",
    "    def lastname(self):\n",
    "        return self._lastname\n",
    "\n",
    "    @lastname.setter\n",
    "    def lastame(self, value):\n",
    "        if value != self._lastname:\n",
    "            self._lastname = value\n",
    "\n",
    "##################################################################################################################################\n",
    "    @property\n",
    "    def fullname(self):\n",
    "        if self._fullname is None:\n",
    "            self._fullname = f\"{self.firstname} {self.lastname}\"\n",
    "        return self._fullname\n",
    "\n",
    "    @property\n",
    "    def email(self):\n",
    "        if self._email is None:\n",
    "            self._email =  f\"{self.firstname.lower()}_{self.lastname.lower()}@email.com\"\n",
    "        return self._email\n",
    "\n",
    "##################################################################################################################################\n",
    "emp1 = Employee(\"Avinash\", \"Mishra\")\n",
    "\n",
    "emp1.firstname = \"Aman\"\n",
    "\n",
    "print(emp1.fullname)            # OUTPUT:     Aman Mishra               <====     using   \"fullname\"    as  an  attribute\n",
    "print(emp1.email)               # OUTPUT:     Aman_Mishra@EMAIL.com     <====     using   \"email\"     as  a   method\n",
    "      "
   ]
  },
  {
   "cell_type": "markdown",
   "id": "72485e31-4e54-4f60-8e4b-c39a3e01a2ca",
   "metadata": {},
   "source": [
    "<br>\n",
    "\n",
    "<span style=\"color: #03d1ff;\">--------------------------------------------------------------------<code style=\"background-color: white; color: #00b8e1; font-size: 1.05rem;\">Let's again take one more example</code>-------------------------------------------------------------------</span>"
   ]
  },
  {
   "cell_type": "code",
   "execution_count": 17,
   "id": "3cd35789-6a43-4947-b43a-ef7c6bd9fb05",
   "metadata": {},
   "outputs": [
    {
     "name": "stdout",
     "output_type": "stream",
     "text": [
      "98.0 %\n",
      "94.0 %\n"
     ]
    }
   ],
   "source": [
    "\n",
    "class Student:\n",
    "    def __init__(self, phy, chem, maths):                             # CONSTRUCTOR\n",
    "        self.phy = phy                                                                      # instance  attribute  \"phy\"\n",
    "        self.chem = chem                                                                    # instance  attribute  \"chem\"\n",
    "        self.maths = maths                                                                  # instance  attribute  \"maths\"\n",
    "\n",
    "    def percentage(self):                                             # GETTER METHOD\n",
    "        return str((self.phy + self.chem + self.maths) / 3) + \" %\"\n",
    "\n",
    "stud1 = Student(98, 97, 99)\n",
    "\n",
    "print(stud1.percentage())      # OUTPUT: 98 %\n",
    "\n",
    "stud1.phy = 86\n",
    "\n",
    "print(stud1.percentage())      # OUTPUT: 98 %                         # Note: \"percentage\" is used as a METHOD not ATTRIBUTE   ===>   stud1.percentage()\n"
   ]
  },
  {
   "cell_type": "markdown",
   "id": "81aa7808-b95d-41d5-af31-397c4d0b4118",
   "metadata": {},
   "source": [
    "<br>\n",
    "\n",
    "Now <code style=\"background-color: white;\">instead of simply using a method for accessing the <span style=\"color: blue;\">percentage</span>, let us add a <span style=\"background-color: yellow; color: black;\">@property</span> <u>decorator</u> on top of this method <u><span style=\"color: red;\">to access it as a property</span></u> (or <span style=\"font-size: 1rem;\"><strong>like an <span style=\"background-color: #ffeccf;\">attribute</span></strong></span>)</code>\n",
    "\n",
    "<br>\n",
    "\n",
    "<div style=\"margin-left: 40px;\">\n",
    "\n",
    "![](media/Shraddha_Kapra_oops_61.PNG)\n",
    "\n",
    "</div>"
   ]
  },
  {
   "cell_type": "code",
   "execution_count": 2,
   "id": "0ce39efd-bde0-4a7e-be4d-0989e954b419",
   "metadata": {},
   "outputs": [
    {
     "name": "stdout",
     "output_type": "stream",
     "text": [
      "98.0 %\n",
      "94.0 %\n"
     ]
    }
   ],
   "source": [
    "\n",
    "class Student:\n",
    "    def __init__(self, phy, chem, maths):                             # CONSTRUCTOR\n",
    "        self.phy = phy                                                                                # instance  attribute  \"phy\"\n",
    "        self.chem = chem                                                                              # instance  attribute  \"chem\"\n",
    "        self.maths = maths                                                                            # instance  attribute  \"maths\"\n",
    "\n",
    "    @property                                                                                         # property  class  attribute  \"percentage\"\n",
    "    def percentage(self):                                             # PROPERTY  GETTER  METHOD\n",
    "        return str((self.phy + self.chem + self.maths) / 3) + \" %\"\n",
    "\n",
    "stud1 = Student(98, 97, 99)\n",
    "\n",
    "print(stud1.percentage)         # OUTPUT: 98 %\n",
    "\n",
    "stud1.phy = 86\n",
    "\n",
    "print(stud1.percentage)         # OUTPUT: 94 %                        # Note: \"percentage\" is used as an ATTRIBUTE not METHOD   ==>   stud1.percentage()\n"
   ]
  },
  {
   "cell_type": "markdown",
   "id": "230a1c31-9dc8-4e5a-9918-208c8f1b5271",
   "metadata": {},
   "source": [
    "<br>\n",
    "\n",
    "<code style=\"background-color: white;\">Despite the <code style=\"color: red;\">percentage</code> being a <u><span style=\"font-size: 1rem;\"><strong>computed</strong></span> property</u>, should we make it a <span style=\"background-color: yellow;\">readonly property</span> in this case? Let's check it out.</code>"
   ]
  },
  {
   "cell_type": "code",
   "execution_count": 3,
   "id": "48d40bf4-e280-42ba-bc9b-a19590ab1baf",
   "metadata": {},
   "outputs": [
    {
     "name": "stdout",
     "output_type": "stream",
     "text": [
      "98.0 %\n",
      "98.0 %\n"
     ]
    }
   ],
   "source": [
    "\n",
    "class Student:\n",
    "    def __init__(self, phy, chem, maths):\n",
    "        self._phy = phy                                                                 # instance  attribute  \"_phy\"\n",
    "        self._chem = chem                                                               # instance  attribute  \"_chem\"\n",
    "        self._maths = maths                                                             # instance  attribute  \"_maths\"\n",
    "        self._percentage = None                                                         # instance  attribute  \"_percentage\"\n",
    "\n",
    "##################################################################################################################################\n",
    "    @property                                                                           # property  attribute  \"phy\"\n",
    "    def phy(self):\n",
    "        return self._phy\n",
    "\n",
    "    @phy.setter\n",
    "    def phy(self, value):\n",
    "        if value != self._phy:\n",
    "            self._phy = value\n",
    "\n",
    "##################################################################################################################################\n",
    "    @property                                                                           # property  attribute  \"chem\"\n",
    "    def chem(self):\n",
    "        return self._chem\n",
    "\n",
    "    @chem.setter\n",
    "    def chem(self, value):\n",
    "        if value != self._chem:\n",
    "            self._chem = value\n",
    "\n",
    "##################################################################################################################################\n",
    "    @property                                                                           # property  attribute  \"maths\"\n",
    "    def maths(self):\n",
    "        return self._maths\n",
    "\n",
    "    @maths.setter\n",
    "    def maths(self, value):\n",
    "        if value != self._maths:\n",
    "            self._maths = value\n",
    "\n",
    "##################################################################################################################################\n",
    "    @property                                                                           # property  attribute  \"percentage\"\n",
    "    def percentage(self):\n",
    "        if self._percentage is None:\n",
    "            self._percentage = str((self.phy + self.chem + self.maths) / 3) + \" %\"\n",
    "        return self._percentage\n",
    "\n",
    "\n",
    "stud1 = Student(98, 97, 99)\n",
    "\n",
    "print(stud1.percentage)           # OUTPUT: 98 %\n",
    "\n",
    "stud1.phy = 86\n",
    "\n",
    "print(stud1.percentage)           # OUTPUT: 98 %       # EXPECTED: 94 %\n"
   ]
  },
  {
   "cell_type": "markdown",
   "id": "eaedd789-75c4-4a6a-ad39-b3ccb85b53b1",
   "metadata": {},
   "source": [
    "<br>\n",
    "\n",
    "<code style=\"background-color: white;\">As you can see, the <code>actual output</code> (98%) is <span style=\"font-size: 1rem;\"><strong>not matching</strong></span> with the <code>expected output</code> (94%), let's see why?</code>\n",
    "\n",
    "<div style=\"margin-left: 20px;\">\n",
    "\n",
    "![](media/Shraddha_Kapra_oops_63.PNG)\n",
    "\n",
    "</div>\n",
    "\n",
    "<code style=\"background-color: white;\">Therefore despite the <code style=\"color: red;\">perecentage</code> being a <u>computed property</u>; it <span style=\"font-size: 1rem;\"><strong>cannot</strong></span> be a <span style=\"background-color: yellow;\">readonly property</span></code>\n",
    "\n",
    "<br>\n",
    "\n",
    "<span style=\"color: red;\">================================================================================================================</span>\n",
    "\n",
    "<br>\n",
    "\n",
    "<code style=\"background-color: white;\">Let's summarise. To create a python <span style=\"background-color: yellow;\">readonly property</span> :</code>\n",
    "\n",
    "&nbsp;&nbsp;&nbsp;&nbsp;&nbsp;&nbsp;&nbsp;&nbsp;&nbsp;&nbsp;&nbsp;&nbsp;■&nbsp; <code style=\"background-color: white;\">Define <u>only the getter</u> to make a property readonly</code>\n",
    "\n",
    "&nbsp;&nbsp;&nbsp;&nbsp;&nbsp;&nbsp;&nbsp;&nbsp;&nbsp;&nbsp;&nbsp;&nbsp;■&nbsp; <code style=\"background-color: white;\">Do use <u>computed property</u> to make the property of a class more natural</code>\n",
    "\n",
    "&nbsp;&nbsp;&nbsp;&nbsp;&nbsp;&nbsp;&nbsp;&nbsp;&nbsp;&nbsp;&nbsp;&nbsp;■&nbsp; <code style=\"background-color: white;\">Use <u>caching</u> computed properties to improve the performance</code>\n",
    "\n"
   ]
  },
  {
   "cell_type": "markdown",
   "id": "c8b72ccd-23c9-47e0-ab5d-76f4983f2896",
   "metadata": {},
   "source": [
    "<br>\n",
    "\n",
    "<span style=\"color: #DCBD10\">▬▬▬▬▬▬▬▬▬▬▬▬▬▬▬▬▬▬▬▬▬▬▬▬▬▬▬▬▬▬▬▬▬▬▬▬▬▬▬▬▬▬▬▬▬▬▬▬▬▬▬▬▬▬▬▬▬▬▬▬▬▬▬▬▬▬▬▬▬▬▬▬▬▬▬▬▬</span>\n"
   ]
  },
  {
   "cell_type": "markdown",
   "id": "c91ef5ee-f0e6-475c-9d71-c1b3a40f57df",
   "metadata": {},
   "source": [
    "\n",
    "#### <code style=\"background-color: blue; color: white;\">Delete Property</code>\n",
    "\n",
    "<br>"
   ]
  },
  {
   "cell_type": "markdown",
   "id": "838e3b5d-be28-45b9-a2fb-72efc3a7df5e",
   "metadata": {},
   "source": [
    "In <code style=\"background-color: white;\">this tutorial, you’ll learn how to use the <span style=\"background-color: yellow;\">property()</span> class to <u><span style=\"font-size: 1rem;\"><strong>delete</strong></span> the property</u> of an object.</code>\n",
    "\n",
    "<br>\n",
    "\n",
    "To <code style=\"background-color: white;\">create a <span style=\"background-color: yellow;\">property</span> of a class, you use the <u><span style=\"background-color: yellow;\">@property</span> decorator</u>. Underhood, the <u><span style=\"background-color: yellow;\">@property</span> decorator</u> uses the <span style=\"background-color: yellow;\">property</span> class that has three methods: <span style=\"font-size: 1rem; color: red;\">setter</span>, <span style=\"font-size: 1rem; color: red;\">getter</span>, and <span style=\"font-size: 1rem; color: red;\">deleter</span>.</code>\n",
    "\n",
    "<br>\n",
    "\n",
    "<div style=\"background-color: #ffe9b9; padding-left: 10px; padding-top: 15px; padding-bottom: 10px;\">\n",
    "\n",
    "<code style=\"background-color: #ffe9b9;\">By using the <span style=\"font-size: 1rem; color: red;\">deleter</span>, you can delete a property of an <u>instance</u> of a <u>class</u>. </code>\n",
    "\n",
    "<code style=\"background-color: #ffe9b9;\">Notice that the <span style=\"background-color: yellow;\">deleter()</span> method <u>deletes a property of an <span style=\"font-size: 1rem;\"><strong>object</strong></span></u>, <span style=\"background-color: white;\">not a <span style=\"font-size: 1rem;\"><strong>class</strong></span></span>.</code>\n",
    "\n",
    "</div>\n",
    "\n",
    "<br>\n",
    "\n",
    "Consider <code style=\"background-color: white;\">the following example which defines the <code style=\"color: red;\">Person</code> class with the <code style=\"color: red;\">name</code> property:</code>\n",
    "\n",
    "<div style=\"margin-left: 40px;\">\n",
    "\n",
    "![](media/Shraddha_Kapra_oops_64.PNG)\n",
    "\n",
    "</div>\n",
    "\n",
    "In <code style=\"background-color: white;\">the <code style=\"color: red;\">Person</code> class, we use the <span style=\"background-color: yellow;\">@name.deleter</span> decorator. Inside the <span style=\"font-size: 1rem;\"><strong>deleter</strong></span>, we use the <code style=\"background-color: #b5ffa8;\">del</code> keyword to delete the <code style=\"color: blue;\">_name</code> attribute of the <code style=\"color: red;\">Person</code> instance.</code>"
   ]
  },
  {
   "cell_type": "code",
   "execution_count": 20,
   "id": "d725c2b7-e278-47b8-8a45-3ade232abc75",
   "metadata": {},
   "outputs": [
    {
     "data": {
      "text/plain": [
       "mappingproxy({'__module__': '__main__',\n",
       "              '__init__': <function __main__.Person.__init__(self, name)>,\n",
       "              'name': <property at 0x255a936ebb0>,\n",
       "              '__dict__': <attribute '__dict__' of 'Person' objects>,\n",
       "              '__weakref__': <attribute '__weakref__' of 'Person' objects>,\n",
       "              '__doc__': None})"
      ]
     },
     "execution_count": 20,
     "metadata": {},
     "output_type": "execute_result"
    }
   ],
   "source": [
    "\n",
    "class Person:\n",
    "    def __init__(self, name):\n",
    "        self._name = name\n",
    "\n",
    "    @property\n",
    "    def name(self):\n",
    "        return self._name\n",
    "\n",
    "    @name.setter\n",
    "    def name(self, value):\n",
    "        if value.strip() == '':\n",
    "            raise ValueError('name cannot be empty')\n",
    "        self._name = value\n",
    "\n",
    "    @name.deleter\n",
    "    def name(self):\n",
    "        del self._name\n",
    "\n",
    "\n",
    "Person.__dict__            # returns  all  the  class  attributes  of  type  \"Person\"\n"
   ]
  },
  {
   "cell_type": "markdown",
   "id": "99e49c02-ce5e-4e67-adf2-3d850383dcde",
   "metadata": {},
   "source": [
    "<br>\n",
    "\n",
    "As <code style=\"background-color: white;\">you can see the <code style=\"color: red;\">Person.\\_\\_dict__</code> class has the name variable.</code>"
   ]
  },
  {
   "cell_type": "code",
   "execution_count": 21,
   "id": "bb73b9a3-94cf-45ff-96df-20c2411ca098",
   "metadata": {},
   "outputs": [
    {
     "data": {
      "text/plain": [
       "{'_name': 'Avinash'}"
      ]
     },
     "execution_count": 21,
     "metadata": {},
     "output_type": "execute_result"
    }
   ],
   "source": [
    "\n",
    "avinash = Person(\"Avinash\")       # creates an instance \"avinash\" of type \"Person\"\n",
    "\n",
    "avinash.__dict__\n"
   ]
  },
  {
   "cell_type": "markdown",
   "id": "61a09098-4212-4d93-8511-e386cebdeda3",
   "metadata": {},
   "source": [
    "<br>\n",
    "\n",
    "The <code style=\"background-color: white;\">following uses the <code style=\"background-color: #b5ffa8;\">del</code> keyword to delete the <code style=\"color: red;\">name</code> <span style=\"background-color: yellow;\">property</span>:</code>"
   ]
  },
  {
   "cell_type": "code",
   "execution_count": 22,
   "id": "a18c0551-1754-43a3-8284-fb308c4f1c0a",
   "metadata": {},
   "outputs": [],
   "source": [
    "\n",
    "del avinash.name\n"
   ]
  },
  {
   "cell_type": "markdown",
   "id": "6a8d76ff-c4f3-438d-a99c-2de083ac5586",
   "metadata": {},
   "source": [
    "<br>\n",
    "\n",
    "Internally, <code style=\"background-color: white;\">Python will execute the <span style=\"color: red; font-size: 1rem;\">deleter</span> method that deletes the <code style=\"color: red;\">_name</code> attribute from the <code style=\"color: red;\">person</code> object.</code>\n",
    "\n",
    "So  <code style=\"background-color: white;\">now if you attempt to access <code style=\"color: red;\">name</code> property again or the corresponding instance attribute <code style=\"color: red;\">_name</code>, you’ll get <span style=\"color: red;\"><u><span style=\"color: black; font-size: 1rem;\"><strong>no attribute error</strong></span></u></span> :</code>"
   ]
  },
  {
   "cell_type": "code",
   "execution_count": 23,
   "id": "b1f92e00-8248-4965-a90d-ea992292034b",
   "metadata": {},
   "outputs": [
    {
     "ename": "AttributeError",
     "evalue": "'Person' object has no attribute '_name'",
     "output_type": "error",
     "traceback": [
      "\u001b[1;31m---------------------------------------------------------------------------\u001b[0m",
      "\u001b[1;31mAttributeError\u001b[0m                            Traceback (most recent call last)",
      "Cell \u001b[1;32mIn[23], line 1\u001b[0m\n\u001b[1;32m----> 1\u001b[0m \u001b[43mavinash\u001b[49m\u001b[38;5;241;43m.\u001b[39;49m\u001b[43mname\u001b[49m\n",
      "Cell \u001b[1;32mIn[20], line 7\u001b[0m, in \u001b[0;36mPerson.name\u001b[1;34m(self)\u001b[0m\n\u001b[0;32m      5\u001b[0m \u001b[38;5;129m@property\u001b[39m\n\u001b[0;32m      6\u001b[0m \u001b[38;5;28;01mdef\u001b[39;00m \u001b[38;5;21mname\u001b[39m(\u001b[38;5;28mself\u001b[39m):\n\u001b[1;32m----> 7\u001b[0m     \u001b[38;5;28;01mreturn\u001b[39;00m \u001b[38;5;28;43mself\u001b[39;49m\u001b[38;5;241;43m.\u001b[39;49m\u001b[43m_name\u001b[49m\n",
      "\u001b[1;31mAttributeError\u001b[0m: 'Person' object has no attribute '_name'"
     ]
    }
   ],
   "source": [
    "\n",
    "avinash.name\n"
   ]
  },
  {
   "cell_type": "code",
   "execution_count": 24,
   "id": "c7030e93-3d2c-4027-8c21-767bf3a452fb",
   "metadata": {},
   "outputs": [
    {
     "ename": "AttributeError",
     "evalue": "'Person' object has no attribute '_name'",
     "output_type": "error",
     "traceback": [
      "\u001b[1;31m---------------------------------------------------------------------------\u001b[0m",
      "\u001b[1;31mAttributeError\u001b[0m                            Traceback (most recent call last)",
      "Cell \u001b[1;32mIn[24], line 1\u001b[0m\n\u001b[1;32m----> 1\u001b[0m \u001b[43mavinash\u001b[49m\u001b[38;5;241;43m.\u001b[39;49m\u001b[43m_name\u001b[49m\n",
      "\u001b[1;31mAttributeError\u001b[0m: 'Person' object has no attribute '_name'"
     ]
    }
   ],
   "source": [
    "\n",
    "avinash._name\n"
   ]
  },
  {
   "cell_type": "markdown",
   "id": "8ec31a30-4dc1-4b1b-b613-e06a1cb60621",
   "metadata": {},
   "source": [
    "<br>\n",
    "\n",
    "And <code style=\"background-color: white;\">you can confirm this through <code style=\"color: red;\">person.\\_\\_dict__</code> also :</code>"
   ]
  },
  {
   "cell_type": "code",
   "execution_count": 25,
   "id": "d852b28e-d269-4220-b539-47b094f73095",
   "metadata": {},
   "outputs": [
    {
     "data": {
      "text/plain": [
       "{}"
      ]
     },
     "execution_count": 25,
     "metadata": {},
     "output_type": "execute_result"
    }
   ],
   "source": [
    "\n",
    "avinash.__dict__\n"
   ]
  },
  {
   "cell_type": "markdown",
   "id": "315d46e4-a41a-497f-9796-4386415528fa",
   "metadata": {},
   "source": [
    "\n",
    "You <code style=\"background-color: white;\">can see there is no <code style=\"color: red;\">_name</code> in the <u>list of instance attributes</u> of the <code style=\"color: red;\">avinash</code> <span style=\"background-color: yellow;\">property object</span> of class <code style=\"color: red;\">Person</code>.</code>"
   ]
  },
  {
   "cell_type": "markdown",
   "id": "d9f8d838-b9b0-4314-9fcb-9edc0243deb4",
   "metadata": {},
   "source": [
    "<br>\n",
    "\n",
    "<span style=\"color: #DCBD10\">▬▬▬▬▬▬▬▬▬▬▬▬▬▬▬▬▬▬▬▬▬▬▬▬▬▬▬▬▬▬▬▬▬▬▬▬▬▬▬▬▬▬▬▬▬▬▬▬▬▬▬▬▬▬▬▬▬▬▬▬▬▬▬▬▬▬▬▬▬▬▬▬▬▬▬▬▬</span>\n"
   ]
  },
  {
   "cell_type": "markdown",
   "id": "4bb58e38-5455-4d39-bf44-8e1ac5e9e35a",
   "metadata": {},
   "source": [
    "#### <code style=\"background-color: blue; color: white;\">Advantages of using property in Python</code>\n"
   ]
  },
  {
   "cell_type": "markdown",
   "id": "77570684-3fa9-4a23-abf9-836f3472e865",
   "metadata": {},
   "source": [
    "<br>\n",
    "\n",
    "<div style=\"background-color: #e7e5e4; padding-left: 10px; padding-top: 15px; padding-bottom: 10px;\">\n",
    "\n",
    "The concept of <span style=\"background-color: yellow;\">property</span> in Python is introduced to provide <strong>controlled access</strong> to <span style=\"color: red;\"><u>class attributes</u></span>, allowing developers to &nbsp;<span style=\"background-color: white;\">&nbsp;<strong>encapsulate</strong> logic & behavior around an attribute without changing the external interface of the class, thus maintaining the simple syntax of <strong>direct attribute access</strong>&nbsp;</span>. In simple words, <span style=\"color: blue;\"> using property the getter, setter & deleter methods of an attribute can be simply called as if that attribute is being called directly</span>.  <br>\n",
    "\n",
    "<br>\n",
    "\n",
    "This maintains simplicity for the user of the class while allowing &nbsp;<span style=\"background-color: #ffcfab;\">internal complexity</span>, &nbsp;<span style=\"background-color: #ffcfab;\">validation</span>, or &nbsp;<span style=\"background-color: #ffcfab;\">dynamic computation</span> for the developer. It bridges the gap between traditional getter/setter methods (common in languages like Java) and <span style=\"color: red;\"><u><span style=\"color: black;\"><i>Python’s philosophy of making attributes easy to access directly</i></span></u></span>  <br>\n",
    "\n",
    "<br>\n",
    "\n",
    "<span style=\"background-color: white;\">By providing getter, setter, and deleter functionality through properties, Python maintains the &nbsp;<strong>clean attribute access syntax</strong>&nbsp; while allowing for more sophisticated internal behavior, leading to more maintainable and robust code.</span>\n",
    "\n",
    "</div>  <br>\n",
    "\n",
    "1. <strong>Simplicity </strong> :&nbsp;&nbsp;&nbsp;&nbsp;&nbsp;&nbsp;&nbsp;&nbsp;&nbsp;&nbsp;&nbsp;&nbsp;<span style=\"color: red; background-color: white; font-size: 0.9rem;\">Allows to use a method like attribute and makes Python more \"Pythonic\"</span>   <br>\n",
    "&nbsp;&nbsp;&nbsp;&nbsp;&nbsp;&nbsp;&nbsp;&nbsp;&nbsp;&nbsp;&nbsp;&nbsp;&nbsp;&nbsp;&nbsp;&nbsp;&nbsp;&nbsp;&nbsp;&nbsp;&nbsp;&nbsp;&nbsp;&nbsp;&nbsp;&nbsp;&nbsp;&nbsp;&nbsp;&nbsp;&nbsp;<code style=\"background-color: white; font-size: 0.8rem; color: red;\">■</code>&nbsp;1.1 ) &nbsp; <code style=\"background-color: #99fff6;\">Encapsulation of logic</code> &nbsp;-&nbsp; <span style=\"color: blue;  font-size: 0.8rem;\">hiding internal implementation details of a <u>method</u> and use it as a <span style=\"color: 1rem;\"><strong>custom</strong></span> or <span style=\"color: 1rem;\"><strong>managed</strong></span> <u>attribute</u></span><br>\n",
    "&nbsp;&nbsp;&nbsp;&nbsp;&nbsp;&nbsp;&nbsp;&nbsp;&nbsp;&nbsp;&nbsp;&nbsp;&nbsp;&nbsp;&nbsp;&nbsp;&nbsp;&nbsp;&nbsp;&nbsp;&nbsp;&nbsp;&nbsp;&nbsp;&nbsp;&nbsp;&nbsp;&nbsp;&nbsp;&nbsp;&nbsp;<code style=\"background-color: white; font-size: 0.8rem; color: red;\">■</code>&nbsp;1.2 ) &nbsp; <code style=\"background-color: #99fff6;\">Simplicity in accessing attributes</code> &nbsp;-&nbsp; <span style=\"color: blue; font-size: 0.8rem;\">unlike in <code style=\"background-color: yellow;\">Java</code>, no need to explicitly write <u>getter</u> and <u>setter</u> methods to access <span style=\"font-size: 0.8rem;\"><strong>private</strong></span> attributes</span>\n",
    "<br>\n",
    "\n",
    "2. <strong>Flexibility</strong> : &nbsp;&nbsp;&nbsp;&nbsp;&nbsp;&nbsp;&nbsp;&nbsp;&nbsp;&nbsp;&nbsp;<span style=\"color: red; background-color: white; font-size: 0.9rem;\">Allows data validation, computed attributes, and lazy evaluation (compute on demand)</span>  <br>\n",
    "&nbsp;&nbsp;&nbsp;&nbsp;&nbsp;&nbsp;&nbsp;&nbsp;&nbsp;&nbsp;&nbsp;&nbsp;&nbsp;&nbsp;&nbsp;&nbsp;&nbsp;&nbsp;&nbsp;&nbsp;&nbsp;&nbsp;&nbsp;&nbsp;&nbsp;&nbsp;&nbsp;&nbsp;&nbsp;&nbsp;&nbsp;<code style=\"background-color: white; font-size: 0.8rem; color: red;\">■</code>&nbsp;2.1 ) &nbsp; <code style=\"background-color: #99fff6;\">Validation</code> &nbsp;-&nbsp; <span style=\"color: blue; font-size: 0.8rem;\">sometimes, attributes need to be accessed with certain logic applied</span> <br>\n",
    "&nbsp;&nbsp;&nbsp;&nbsp;&nbsp;&nbsp;&nbsp;&nbsp;&nbsp;&nbsp;&nbsp;&nbsp;&nbsp;&nbsp;&nbsp;&nbsp;&nbsp;&nbsp;&nbsp;&nbsp;&nbsp;&nbsp;&nbsp;&nbsp;&nbsp;&nbsp;&nbsp;&nbsp;&nbsp;&nbsp;&nbsp;<code style=\"background-color: white; font-size: 0.8rem; color: red;\">■</code>&nbsp;2.2 ) &nbsp; <code style=\"background-color: #99fff6;\">Computed Attributes</code>  &nbsp;-&nbsp; <span style=\"color: blue; font-size: 0.8rem; color: red;\">some attributes don’t store values separately rather they are <span style=\"font-size: 0.8rem;\"><strong>computed everytime</strong></span> dynamically <u>based on other attributes</u></span> <br>\n",
    "&nbsp;&nbsp;&nbsp;&nbsp;&nbsp;&nbsp;&nbsp;&nbsp;&nbsp;&nbsp;&nbsp;&nbsp;&nbsp;&nbsp;&nbsp;&nbsp;&nbsp;&nbsp;&nbsp;&nbsp;&nbsp;&nbsp;&nbsp;&nbsp;&nbsp;&nbsp;&nbsp;&nbsp;&nbsp;&nbsp;&nbsp;<code style=\"background-color: white; font-size: 0.8rem; color: red;\">■</code>&nbsp;2.3 ) &nbsp; <code style=\"background-color: #99fff6;\">Lazy Evaluation (Computation on demand)</code> &nbsp;-&nbsp; <span style=\"color: blue; font-size: 0.8rem;\"> Some attributes should be computed <u>only when accessed</u> and then <span style=\"font-size: 0.8rem;\"><strong>cached<strong></span> for future accesses</span>\n",
    "<br>\n",
    "\n",
    "3. <strong>Control</strong> :&nbsp;&nbsp;&nbsp;&nbsp;&nbsp;&nbsp;&nbsp;&nbsp;&nbsp;&nbsp;&nbsp;&nbsp;&nbsp;&nbsp;&nbsp;&nbsp;<span style=\"color: red; background-color: white; font-size: 0.9rem;\">Provides full control over how attributes are accessed or modified</span> <br>\n",
    "&nbsp;&nbsp;&nbsp;&nbsp;&nbsp;&nbsp;&nbsp;&nbsp;&nbsp;&nbsp;&nbsp;&nbsp;&nbsp;&nbsp;&nbsp;&nbsp;&nbsp;&nbsp;&nbsp;&nbsp;&nbsp;&nbsp;&nbsp;&nbsp;&nbsp;&nbsp;&nbsp;&nbsp;&nbsp;&nbsp;&nbsp;<code style=\"background-color: white; color: red;\">■</code>&nbsp;3.1 ) &nbsp; <code style=\"background-color: #99fff6;\">Read only property</code> &nbsp;-&nbsp; <span style=\"color: blue;\">you can make certain attributes read-only, so they <u>can be read but not modified</u></span>   <br>\n",
    "&nbsp;&nbsp;&nbsp;&nbsp;&nbsp;&nbsp;&nbsp;&nbsp;&nbsp;&nbsp;&nbsp;&nbsp;&nbsp;&nbsp;&nbsp;&nbsp;&nbsp;&nbsp;&nbsp;&nbsp;&nbsp;&nbsp;&nbsp;&nbsp;&nbsp;&nbsp;&nbsp;&nbsp;&nbsp;&nbsp;&nbsp;<code style=\"background-color: white; color: red;\">■</code>&nbsp;3.2 ) &nbsp; <code style=\"background-color: #99fff6;\">Deleters for Custom Logic on Deletion</code> &nbsp;-&nbsp; <span style=\"color: blue;\">in some cases, you might want <u>to add some custom behavior when an attribute is deleted</u></span>\n",
    "<br>\n",
    "\n",
    "4. <strong>Maintainability </strong> :&nbsp;&nbsp; <span style=\"color: red; background-color: white; font-size: 0.9rem;\">Makes it easy to maintain backward compatibility by turning existing attributes into properties without changing the interface.</span> <br>&nbsp;&nbsp;&nbsp;&nbsp;&nbsp;&nbsp;&nbsp;&nbsp;&nbsp;&nbsp;&nbsp;&nbsp;&nbsp;&nbsp;&nbsp;&nbsp;&nbsp;&nbsp;&nbsp;&nbsp;&nbsp;&nbsp;&nbsp;&nbsp;&nbsp;&nbsp;&nbsp;&nbsp;&nbsp;&nbsp;&nbsp;<code style=\"background-color: white; color: red;\">■</code>&nbsp;4.1) &nbsp; <code style=\"background-color: #99fff6;\">Backward Compatibility & Refactoring</code>&nbsp;-&nbsp; <span style=\"color: blue;\">allows you to change the internal implementation of how an attribute is stored or accessed, <br>\n",
    "&nbsp;&nbsp;&nbsp;&nbsp;&nbsp;&nbsp;&nbsp;&nbsp;&nbsp;&nbsp;&nbsp;&nbsp;&nbsp;&nbsp;&nbsp;&nbsp;&nbsp;&nbsp;&nbsp;&nbsp;&nbsp;&nbsp;&nbsp;&nbsp;&nbsp;&nbsp;&nbsp;&nbsp;&nbsp;&nbsp;&nbsp;&nbsp;&nbsp;&nbsp;&nbsp;&nbsp;&nbsp;&nbsp;&nbsp;&nbsp;&nbsp;&nbsp;&nbsp;&nbsp;&nbsp;&nbsp;&nbsp;&nbsp;&nbsp;&nbsp;&nbsp;&nbsp;&nbsp;&nbsp;&nbsp;&nbsp;&nbsp;&nbsp;&nbsp;&nbsp;&nbsp;&nbsp;&nbsp;&nbsp;&nbsp;&nbsp;&nbsp;&nbsp;&nbsp;&nbsp;&nbsp;&nbsp;&nbsp;&nbsp;&nbsp;&nbsp;&nbsp;&nbsp;&nbsp;&nbsp;&nbsp;&nbsp;&nbsp;&nbsp;&nbsp;&nbsp;&nbsp;&nbsp;&nbsp;&nbsp;&nbsp;&nbsp;&nbsp;&nbsp;&nbsp;&nbsp;&nbsp;&nbsp;&nbsp;&nbsp;&nbsp;&nbsp;&nbsp;&nbsp;&nbsp;&nbsp;&nbsp;&nbsp;&nbsp;&nbsp;&nbsp;&nbsp;&nbsp;&nbsp;&nbsp;&nbsp;&nbsp;&nbsp;&nbsp;&nbsp;&nbsp;&nbsp;&nbsp;&nbsp;&nbsp;<u>without breaking the <span style=\"font-size: 0.8rem;\"><strong>public API</strong></span></u> of your class; <u>particularly useful when refactoring code</u></span> <br>\n",
    "\n",
    "<span style=\"color: #03dcdf;\">------------------------------------------------------------------------------------------------------------------------------------------------------------------------------------------------</span>\n",
    "\n",
    "\n",
    "\n"
   ]
  },
  {
   "cell_type": "markdown",
   "id": "df9929df-ca1e-4627-b7da-374bc440649c",
   "metadata": {},
   "source": [
    "\n",
    "Let's <code style=\"background-color: white;\">see an example of each</code>  \n",
    "\n",
    "<br>\n",
    "\n",
    "<span style=\"color: red;\">■</span>&nbsp;&nbsp;<code style=\"background-color: #99fff6;\">1.1) Encapsulation of Logic</code>\n",
    "\n",
    "Sometimes, attributes need to be accessed with certain logic applied. The &nbsp;<code style=\"background-color: yellow;\">property</code>&nbsp; feature allows you to control how attributes of a class are accessed and modified <u>without directly exposing the internal attributes</u>. This adheres to the principle of <strong>encapsulation</strong> in object-oriented programming, where the internal state of an object should not be modified directly.\n",
    "\n",
    "For example, you may want &nbsp;<span style=\"background-color: #ededed;\">to ensure that a person's &nbsp;<strong>age</strong>&nbsp; is always positive</span>&nbsp;:"
   ]
  },
  {
   "cell_type": "code",
   "execution_count": 27,
   "id": "35b32e30-578e-4f4a-86f3-9ac7db59c4d1",
   "metadata": {},
   "outputs": [
    {
     "name": "stdout",
     "output_type": "stream",
     "text": [
      "30\n",
      "25\n"
     ]
    },
    {
     "ename": "ValueError",
     "evalue": "Age cannot be negative!",
     "output_type": "error",
     "traceback": [
      "\u001b[1;31m---------------------------------------------------------------------------\u001b[0m",
      "\u001b[1;31mValueError\u001b[0m                                Traceback (most recent call last)",
      "Cell \u001b[1;32mIn[27], line 21\u001b[0m\n\u001b[0;32m     19\u001b[0m p\u001b[38;5;241m.\u001b[39mage \u001b[38;5;241m=\u001b[39m \u001b[38;5;241m25\u001b[39m                    \u001b[38;5;66;03m# Works fine\u001b[39;00m\n\u001b[0;32m     20\u001b[0m \u001b[38;5;28mprint\u001b[39m(p\u001b[38;5;241m.\u001b[39mage)                  \u001b[38;5;66;03m# OUTPUT  =============================================>  25\u001b[39;00m\n\u001b[1;32m---> 21\u001b[0m \u001b[43mp\u001b[49m\u001b[38;5;241;43m.\u001b[39;49m\u001b[43mage\u001b[49m \u001b[38;5;241m=\u001b[39m \u001b[38;5;241m-\u001b[39m\u001b[38;5;241m5\u001b[39m                    \u001b[38;5;66;03m# Raises ValueError: Age cannot be negative!\u001b[39;00m\n",
      "Cell \u001b[1;32mIn[27], line 13\u001b[0m, in \u001b[0;36mPerson.age\u001b[1;34m(self, value)\u001b[0m\n\u001b[0;32m     10\u001b[0m \u001b[38;5;129m@age\u001b[39m\u001b[38;5;241m.\u001b[39msetter\n\u001b[0;32m     11\u001b[0m \u001b[38;5;28;01mdef\u001b[39;00m \u001b[38;5;21mage\u001b[39m(\u001b[38;5;28mself\u001b[39m, value):\n\u001b[0;32m     12\u001b[0m     \u001b[38;5;28;01mif\u001b[39;00m value \u001b[38;5;241m<\u001b[39m \u001b[38;5;241m0\u001b[39m:\n\u001b[1;32m---> 13\u001b[0m         \u001b[38;5;28;01mraise\u001b[39;00m \u001b[38;5;167;01mValueError\u001b[39;00m(\u001b[38;5;124m\"\u001b[39m\u001b[38;5;124mAge cannot be negative!\u001b[39m\u001b[38;5;124m\"\u001b[39m)\n\u001b[0;32m     14\u001b[0m     \u001b[38;5;28mself\u001b[39m\u001b[38;5;241m.\u001b[39m_age \u001b[38;5;241m=\u001b[39m value\n",
      "\u001b[1;31mValueError\u001b[0m: Age cannot be negative!"
     ]
    }
   ],
   "source": [
    "\n",
    "class Person:\n",
    "    def __init__(self, name, age):\n",
    "        self._name = name\n",
    "        self._age = age\n",
    "\n",
    "    @property\n",
    "    def age(self):\n",
    "        return self._age\n",
    "\n",
    "    @age.setter\n",
    "    def age(self, value):\n",
    "        if value < 0:\n",
    "            raise ValueError(\"Age cannot be negative!\")\n",
    "        self._age = value\n",
    "\n",
    "\n",
    "p = Person(\"Alice\", 30)\n",
    "print(p.age)                  # OUTPUT  =============================================>  30\n",
    "p.age = 25                    # Works fine\n",
    "print(p.age)                  # OUTPUT  =============================================>  25\n",
    "p.age = -5                    # Raises ValueError: Age cannot be negative!\n"
   ]
  },
  {
   "cell_type": "markdown",
   "id": "08fd18ef-e3de-4c8e-bfdb-5ac862f876b0",
   "metadata": {},
   "source": [
    "<br>\n",
    "\n",
    "<span style=\"color: red;\">■</span>&nbsp;&nbsp;<code style=\"background-color: #99fff6;\">1.2) Simplicity in accessing attributes</code>\n",
    "\n",
    "In many other object-oriented programming languages, you would have to <strong>explicitly</strong> write getter and setter methods to access <u>private attributes</u>. For example, in Java:\n",
    "\n",
    "<div style=\"margin-left: 55px;\">\n",
    "\n",
    "![](media/Shraddha_Kapra_oops_65.PNG)\n",
    "\n",
    "</div>\n",
    "\n",
    "But in Python, you can manage the logic of the getter & setter method of even a <u>private attribute</u> (let alone a public attribute) <strong>under the hood</strong> and directly use it as an attribute.\n",
    "\n",
    "<div style=\"margin-left: 50px;\">\n",
    "\n",
    "![](media/Shraddha_Kapra_oops_66.PNG)\n",
    "\n",
    "</div>\n",
    "\n",
    "This simplifies the code by making it <strong>more Pythonic</strong> and avoids the need for explicit getter and setter methods.\n",
    "\n",
    "<br>\n",
    "\n",
    "<span style=\"color: red;\">■</span>&nbsp;&nbsp;<code style=\"background-color: #99fff6;\">2.1) Validation</code>\n",
    "\n",
    "You can control what happens when an attribute is <u>accessed</u>, <u>modified</u>, or <u>deleted</u>.\n",
    "\n",
    "Refer example &nbsp;<code>1.1</code>\n",
    "\n",
    "<br>\n",
    "\n",
    "<span style=\"color: red;\">■</span>&nbsp;&nbsp;<code style=\"background-color: #99fff6;\">2.2) Computed Attributes</code> &nbsp;( <u><code style=\"background-color: #99fff6;\">Dynamic Computation of Attributes</code></u> )\n",
    "\n",
    "Some attributes don’t store values directly but are instead <u>computed based on other attributes</u>. Using &nbsp;<code style=\"background-color: yellow;\">property</code>&nbsp;, you can calculate the value when accessed, giving the illusion of a simple attribute.\n",
    "\n",
    "Example of computed attributes:"
   ]
  },
  {
   "cell_type": "code",
   "execution_count": 28,
   "id": "26bf1448-3f7c-4ab1-8054-e5d3930fd220",
   "metadata": {},
   "outputs": [
    {
     "name": "stdout",
     "output_type": "stream",
     "text": [
      "50\n",
      "80\n"
     ]
    }
   ],
   "source": [
    "\n",
    "class Rectangle:\n",
    "    def __init__(self, length, breadth):\n",
    "        self.length = length\n",
    "        self.breadth = breadth\n",
    "\n",
    "    @property\n",
    "    def area(self):\n",
    "        return self.length * self.breadth\n",
    "\n",
    "rect = Rectangle(5, 10)\n",
    "print(rect.area)                          # Output: 50\n",
    "\n",
    "# You can update the dimensions\n",
    "rect.length = 8\n",
    "print(rect.area)                          # Output: 80\n"
   ]
  },
  {
   "cell_type": "markdown",
   "id": "70adaea8-45dc-4062-9d93-8f36a958f58d",
   "metadata": {},
   "source": [
    "\n",
    "Here, &nbsp;<code>area</code>&nbsp; is a computed property. &nbsp;<span style=\"background-color: #ffdfce;\">It doesn’t need to be stored separately; &nbsp;it is calculated every time it's accessed</span>.&nbsp; This makes the class simpler and more efficient because &nbsp;<strong>it avoids redundant storage of data</strong>."
   ]
  },
  {
   "cell_type": "markdown",
   "id": "f543d53e-67e0-4281-9f65-9d89b38a96d2",
   "metadata": {},
   "source": [
    "<br>\n",
    "\n",
    "<span style=\"color: red;\">■</span>&nbsp;&nbsp;<code style=\"background-color: #99fff6;\">2.3) Lazy Evaluation</code> &nbsp;( <u><code style=\"background-color: #99fff6;\">Computation on demand</code></u> )\n",
    "\n",
    "You can use properties to implement &nbsp;<strong>lazy attributes</strong>&nbsp; - &nbsp;<span style=\"background-color: #ffdfce;\">attributes that are <span style=\"color: red;\">computed only when accessed</span> and then <span style=\"color: red;\">cached</span> for future accesses</span>.\n"
   ]
  },
  {
   "cell_type": "code",
   "execution_count": 29,
   "id": "abf9c4c9-0162-478d-a673-bb00b98da70e",
   "metadata": {},
   "outputs": [
    {
     "name": "stdout",
     "output_type": "stream",
     "text": [
      "Calculating area...\n",
      "78.53975\n",
      "78.53975\n"
     ]
    }
   ],
   "source": [
    "\n",
    "class Circle:\n",
    "    def __init__(self, radius):\n",
    "        self._radius = radius\n",
    "        self._area = None                                     # Placeholder for computed value\n",
    "\n",
    "    @property\n",
    "    def area(self):\n",
    "        if self._area is None:\n",
    "            print(\"Calculating area...\")\n",
    "            self._area = 3.14159 * (self._radius ** 2)        # Lazy computation\n",
    "        return self._area\n",
    "\n",
    "# Example usage\n",
    "circle = Circle(5)\n",
    "print(circle.area)                                            # First time, it calculates the area\n",
    "print(circle.area)                                            # Second time, it uses the cached value\n"
   ]
  },
  {
   "cell_type": "markdown",
   "id": "c2f1218b-31f1-444f-8f4a-166d4afd1569",
   "metadata": {},
   "source": [
    "<br>\n",
    "\n",
    "<span style=\"color: red;\">■</span>&nbsp;&nbsp;<code style=\"background-color: #99fff6;\">3.1) Read-only property</code>\n",
    "\n",
    "You can define a read-only property by <u>omitting the <strong>setter</strong> and <strong>deleter</strong> methods</u>. This prevents modification or deletion of the property."
   ]
  },
  {
   "cell_type": "code",
   "execution_count": 30,
   "id": "d4ff6a19-cae2-444f-b0cd-e5ea1dab0188",
   "metadata": {},
   "outputs": [
    {
     "name": "stdout",
     "output_type": "stream",
     "text": [
      "Aman\n"
     ]
    },
    {
     "ename": "AttributeError",
     "evalue": "property 'name' of 'Person' object has no setter",
     "output_type": "error",
     "traceback": [
      "\u001b[1;31m---------------------------------------------------------------------------\u001b[0m",
      "\u001b[1;31mAttributeError\u001b[0m                            Traceback (most recent call last)",
      "Cell \u001b[1;32mIn[30], line 11\u001b[0m\n\u001b[0;32m      9\u001b[0m aman \u001b[38;5;241m=\u001b[39m Person(\u001b[38;5;124m\"\u001b[39m\u001b[38;5;124mAman\u001b[39m\u001b[38;5;124m\"\u001b[39m)\n\u001b[0;32m     10\u001b[0m \u001b[38;5;28mprint\u001b[39m(aman\u001b[38;5;241m.\u001b[39mname)                 \u001b[38;5;66;03m# OUTPUT:  Aman\u001b[39;00m\n\u001b[1;32m---> 11\u001b[0m \u001b[43maman\u001b[49m\u001b[38;5;241;43m.\u001b[39;49m\u001b[43mname\u001b[49m \u001b[38;5;241m=\u001b[39m \u001b[38;5;124m\"\u001b[39m\u001b[38;5;124mBabu\u001b[39m\u001b[38;5;124m\"\u001b[39m               \u001b[38;5;66;03m# This will raise an AttributeError: can't set attribute\u001b[39;00m\n",
      "\u001b[1;31mAttributeError\u001b[0m: property 'name' of 'Person' object has no setter"
     ]
    }
   ],
   "source": [
    "\n",
    "class Person:\n",
    "    def __init__(self, name):\n",
    "        self._name = name\n",
    "\n",
    "    @property                    # property  getter  method\n",
    "    def name(self):\n",
    "        return self._name\n",
    "\n",
    "aman = Person(\"Aman\")\n",
    "print(aman.name)                 # OUTPUT:  Aman\n",
    "aman.name = \"Babu\"               # This will raise an AttributeError: can't set attribute\n"
   ]
  },
  {
   "cell_type": "code",
   "execution_count": 31,
   "id": "7a5fcf98-670e-4809-8272-0050ea6b492c",
   "metadata": {},
   "outputs": [
    {
     "ename": "AttributeError",
     "evalue": "property 'name' of 'Person' object has no deleter",
     "output_type": "error",
     "traceback": [
      "\u001b[1;31m---------------------------------------------------------------------------\u001b[0m",
      "\u001b[1;31mAttributeError\u001b[0m                            Traceback (most recent call last)",
      "Cell \u001b[1;32mIn[31], line 1\u001b[0m\n\u001b[1;32m----> 1\u001b[0m \u001b[38;5;28;01mdel\u001b[39;00m \u001b[43maman\u001b[49m\u001b[38;5;241;43m.\u001b[39;49m\u001b[43mname\u001b[49m\n",
      "\u001b[1;31mAttributeError\u001b[0m: property 'name' of 'Person' object has no deleter"
     ]
    }
   ],
   "source": [
    "\n",
    "del aman.name\n"
   ]
  },
  {
   "cell_type": "markdown",
   "id": "e5594068-153d-4c40-bc63-3c63880557af",
   "metadata": {},
   "source": [
    "<br>\n",
    "\n",
    "<span style=\"color: red;\">■</span>&nbsp;&nbsp;<code style=\"background-color: #99fff6;\">3.2) Deleters for Custom Logic on Deletion</code>\n",
    "\n",
    "In some cases, you might want <u>to add custom behavior when an attribute is deleted</u>. Using the &nbsp;<span style=\"background-color: yellow;\"> @deleter </span>&nbsp; decorator, you can define logic that will be executed when &nbsp;<span style=\"background-color: #bcffb4;\"> del </span>&nbsp; is called on the property."
   ]
  },
  {
   "cell_type": "code",
   "execution_count": 32,
   "id": "5d55de89-3ea3-4407-b133-004ab6381ada",
   "metadata": {},
   "outputs": [
    {
     "name": "stdout",
     "output_type": "stream",
     "text": [
      "30\n",
      "Deleting age...\n"
     ]
    },
    {
     "ename": "AttributeError",
     "evalue": "'Person' object has no attribute '_age'",
     "output_type": "error",
     "traceback": [
      "\u001b[1;31m---------------------------------------------------------------------------\u001b[0m",
      "\u001b[1;31mAttributeError\u001b[0m                            Traceback (most recent call last)",
      "Cell \u001b[1;32mIn[32], line 25\u001b[0m\n\u001b[0;32m     22\u001b[0m \u001b[38;5;28mprint\u001b[39m(p\u001b[38;5;241m.\u001b[39mage)                             \u001b[38;5;66;03m# OUTPUT  =================================================================>  30\u001b[39;00m\n\u001b[0;32m     24\u001b[0m \u001b[38;5;28;01mdel\u001b[39;00m p\u001b[38;5;241m.\u001b[39mage                                \u001b[38;5;66;03m# Deletes the age attribute and prints  ===================================>  \"Deleting age...\"\u001b[39;00m\n\u001b[1;32m---> 25\u001b[0m \u001b[38;5;28mprint\u001b[39m(\u001b[43mp\u001b[49m\u001b[38;5;241;43m.\u001b[39;49m\u001b[43mage\u001b[49m)                             \u001b[38;5;66;03m# Raises AttributeError: 'Person' object has no attribute '_age'\u001b[39;00m\n",
      "Cell \u001b[1;32mIn[32], line 8\u001b[0m, in \u001b[0;36mPerson.age\u001b[1;34m(self)\u001b[0m\n\u001b[0;32m      6\u001b[0m \u001b[38;5;129m@property\u001b[39m\n\u001b[0;32m      7\u001b[0m \u001b[38;5;28;01mdef\u001b[39;00m \u001b[38;5;21mage\u001b[39m(\u001b[38;5;28mself\u001b[39m):\n\u001b[1;32m----> 8\u001b[0m     \u001b[38;5;28;01mreturn\u001b[39;00m \u001b[38;5;28;43mself\u001b[39;49m\u001b[38;5;241;43m.\u001b[39;49m\u001b[43m_age\u001b[49m\n",
      "\u001b[1;31mAttributeError\u001b[0m: 'Person' object has no attribute '_age'"
     ]
    }
   ],
   "source": [
    "\n",
    "class Person:\n",
    "    def __init__(self, name, age):\n",
    "        self._name = name\n",
    "        self._age = age\n",
    "\n",
    "    @property\n",
    "    def age(self):\n",
    "        return self._age\n",
    "\n",
    "    @age.setter\n",
    "    def age(self, value):\n",
    "        if value < 0:\n",
    "            raise ValueError(\"Age cannot be negative!\")\n",
    "        self._age = value\n",
    "\n",
    "    @age.deleter\n",
    "    def age(self):\n",
    "        print(\"Deleting age...\")\n",
    "        del self._age\n",
    "\n",
    "p = Person(\"John\", 30)\n",
    "print(p.age)                             # OUTPUT  =================================================================>  30\n",
    "\n",
    "del p.age                                # Deletes the age attribute and prints  ===================================>  \"Deleting age...\"\n",
    "print(p.age)                             # Raises AttributeError: 'Person' object has no attribute '_age'\n"
   ]
  },
  {
   "cell_type": "markdown",
   "id": "ca64c7c8-f1f3-4f69-a6ff-964e491640dd",
   "metadata": {},
   "source": [
    "<br>\n",
    "\n",
    "<span style=\"color: red;\">■</span>&nbsp;&nbsp;<code style=\"background-color: #99fff6;\">4.1) Backward Compatibility and Refactoring</code>\n",
    "\n",
    "One major benefit of &nbsp;<span style=\"background-color: yellow;\"> property </span>&nbsp; is that it allows you to change the internal implementation of how an attribute is stored or accessed, &nbsp;<strong>without breaking the public API</strong>&nbsp; of your class. This is particularly useful when <u>refactoring</u> code.\n",
    "\n",
    "<font size=\"+1\">↳</font> <span style=\"color: blue;\">&nbsp;<u>Before &nbsp;refactoring</u>&nbsp;</span>"
   ]
  },
  {
   "cell_type": "code",
   "execution_count": 33,
   "id": "7de71f6d-3140-4ba2-b7d8-b0403e9ad841",
   "metadata": {},
   "outputs": [
    {
     "name": "stdout",
     "output_type": "stream",
     "text": [
      "1000\n"
     ]
    }
   ],
   "source": [
    "\n",
    "class Product:\n",
    "    def __init__(self, name, price):\n",
    "        self.name = name\n",
    "        self.price = price               # Public attribute\n",
    "\n",
    "\n",
    "product = Product(\"Laptop\", 1000)\n",
    "print(product.price)                     # Output: 1000\n"
   ]
  },
  {
   "cell_type": "markdown",
   "id": "473ca00d-0e66-41df-bc44-7f2c9f104c7a",
   "metadata": {},
   "source": [
    "Now imagine you need to introduce validation or more complex logic when setting the price. You could refactor the class to use a property while keeping the interface the same:\n",
    "\n",
    "<font size=\"+1\">↳</font> <span style=\"color: blue;\">&nbsp;<u>After &nbsp;refactoring&nbsp; with&nbsp; property</u></span>"
   ]
  },
  {
   "cell_type": "code",
   "execution_count": 34,
   "id": "45c36f3e-76f3-40f8-be62-ab795af294ec",
   "metadata": {},
   "outputs": [
    {
     "name": "stdout",
     "output_type": "stream",
     "text": [
      "1000\n",
      "1200\n"
     ]
    },
    {
     "ename": "ValueError",
     "evalue": "Price cannot be negative!",
     "output_type": "error",
     "traceback": [
      "\u001b[1;31m---------------------------------------------------------------------------\u001b[0m",
      "\u001b[1;31mValueError\u001b[0m                                Traceback (most recent call last)",
      "Cell \u001b[1;32mIn[34], line 24\u001b[0m\n\u001b[0;32m     21\u001b[0m \u001b[38;5;28mprint\u001b[39m(product\u001b[38;5;241m.\u001b[39mprice)                                 \u001b[38;5;66;03m# Output  ===========================================>  1200\u001b[39;00m\n\u001b[0;32m     23\u001b[0m \u001b[38;5;66;03m# Trying to set an invalid price raises an error\u001b[39;00m\n\u001b[1;32m---> 24\u001b[0m \u001b[43mproduct\u001b[49m\u001b[38;5;241;43m.\u001b[39;49m\u001b[43mprice\u001b[49m \u001b[38;5;241m=\u001b[39m \u001b[38;5;241m-\u001b[39m\u001b[38;5;241m200\u001b[39m                                 \u001b[38;5;66;03m# Raises ValueError: Price cannot be negative!\u001b[39;00m\n",
      "Cell \u001b[1;32mIn[34], line 13\u001b[0m, in \u001b[0;36mProduct.price\u001b[1;34m(self, value)\u001b[0m\n\u001b[0;32m     10\u001b[0m \u001b[38;5;129m@price\u001b[39m\u001b[38;5;241m.\u001b[39msetter\n\u001b[0;32m     11\u001b[0m \u001b[38;5;28;01mdef\u001b[39;00m \u001b[38;5;21mprice\u001b[39m(\u001b[38;5;28mself\u001b[39m, value):\n\u001b[0;32m     12\u001b[0m     \u001b[38;5;28;01mif\u001b[39;00m value \u001b[38;5;241m<\u001b[39m \u001b[38;5;241m0\u001b[39m:\n\u001b[1;32m---> 13\u001b[0m         \u001b[38;5;28;01mraise\u001b[39;00m \u001b[38;5;167;01mValueError\u001b[39;00m(\u001b[38;5;124m\"\u001b[39m\u001b[38;5;124mPrice cannot be negative!\u001b[39m\u001b[38;5;124m\"\u001b[39m)\n\u001b[0;32m     14\u001b[0m     \u001b[38;5;28mself\u001b[39m\u001b[38;5;241m.\u001b[39m_price \u001b[38;5;241m=\u001b[39m value\n",
      "\u001b[1;31mValueError\u001b[0m: Price cannot be negative!"
     ]
    }
   ],
   "source": [
    "\n",
    "class Product:\n",
    "    def __init__(self, name, price):\n",
    "        self.name = name\n",
    "        self._price = price\n",
    "\n",
    "    @property\n",
    "    def price(self):\n",
    "        return self._price\n",
    "\n",
    "    @price.setter\n",
    "    def price(self, value):\n",
    "        if value < 0:\n",
    "            raise ValueError(\"Price cannot be negative!\")\n",
    "        self._price = value\n",
    "\n",
    "product = Product(\"Laptop\", 1000)\n",
    "print(product.price)                                 # Output  ===========================================>  1000\n",
    "\n",
    "# Sets a new valid price\n",
    "product.price = 1200                   \n",
    "print(product.price)                                 # Output  ===========================================>  1200\n",
    "\n",
    "# Trying to set an invalid price raises an error\n",
    "product.price = -200                                 # Raises ValueError: Price cannot be negative!\n"
   ]
  },
  {
   "cell_type": "markdown",
   "id": "d18213db-5f62-42cf-941f-fc2ef22b7d9e",
   "metadata": {},
   "source": [
    "<br>\n",
    "\n",
    "By using properties, we’ve added validation without breaking the existing code that accessed &nbsp;<code>price</code>&nbsp; as if it were a public attribute."
   ]
  },
  {
   "cell_type": "markdown",
   "id": "e2bdaf87-a7ed-4cae-9adf-4f1676e6ef40",
   "metadata": {},
   "source": [
    "<span style=\"color: red;\">================================================================================================================</span>\n",
    "\n",
    "\n",
    "<font size=\"+1\">⭐</font>&nbsp;&nbsp;&nbsp;<code style=\"background-color: #ffd6b8; color: black;\">Avoiding Infinite Recursion in Properties</code>\n",
    "\n",
    "One <code style=\"background-color: white;\">common mistake when using properties is creating infinite recursion <u>by accidentally referencing the property within its own <span style=\"font-size: 1rem;\"><strong>setter</strong></span> or <span style=\"font-size: 1rem;\"><strong>getter</strong></span></u>. To avoid this, always use a <span style=\"background-color: #ebe6eb;\">separate internal (i.e, private) attribute</span> (commonly prefixed with <span style=\"background-color: yellow;\"> _ </span>) to store the actual value.</code>\n",
    "\n",
    "<font size=\"+1\">↳</font> <span style=\"color: blue;\">&nbsp;<u>Wrong &nbsp;Example &nbsp;(Infinite &nbsp;Recursion)</u>&nbsp;:</span>\n"
   ]
  },
  {
   "cell_type": "code",
   "execution_count": 40,
   "id": "88d84def-6cc0-4228-9ddd-06770e526e87",
   "metadata": {},
   "outputs": [],
   "source": [
    "\n",
    "class Employee:\n",
    "    @property\n",
    "    def name(self):\n",
    "        return self.name          # This causes infinite recursion!\n",
    "\n",
    "    @name.setter\n",
    "    def name(self, value):\n",
    "        self.name = value         # This also causes infinite recursion!\n"
   ]
  },
  {
   "cell_type": "markdown",
   "id": "1ee0bd89-0ea1-4206-ba63-33f4eb45608b",
   "metadata": {},
   "source": [
    "\n",
    "<font size=\"+1\">↳</font> <span style=\"color: blue;\">&nbsp;Correct &nbsp;Example&nbsp;:</span>\n"
   ]
  },
  {
   "cell_type": "code",
   "execution_count": 35,
   "id": "2278f496-5d65-45b2-b41f-ec158f18c8f6",
   "metadata": {},
   "outputs": [],
   "source": [
    "\n",
    "class Employee:\n",
    "    def __init__(self, name):\n",
    "        self._name = name         # Uses an internal attribute\n",
    "\n",
    "    @property\n",
    "    def name(self):\n",
    "        return self._name\n",
    "\n",
    "    @name.setter\n",
    "    def name(self, value):\n",
    "        self._name = value\n"
   ]
  },
  {
   "cell_type": "code",
   "execution_count": null,
   "id": "02d5c4c9-2ac4-49a5-a7fc-c28bfed72ecd",
   "metadata": {},
   "outputs": [],
   "source": []
  },
  {
   "cell_type": "code",
   "execution_count": null,
   "id": "f4cff0ff-a6f2-441e-b600-c85ca2c9112b",
   "metadata": {},
   "outputs": [],
   "source": []
  },
  {
   "cell_type": "code",
   "execution_count": null,
   "id": "6d1620c5-eb59-474e-9150-5a48f8c56e0b",
   "metadata": {},
   "outputs": [],
   "source": []
  },
  {
   "cell_type": "code",
   "execution_count": null,
   "id": "20b7952b-5b41-407c-8aae-059db942e358",
   "metadata": {},
   "outputs": [],
   "source": []
  }
 ],
 "metadata": {
  "kernelspec": {
   "display_name": "Python 3 (ipykernel)",
   "language": "python",
   "name": "python3"
  },
  "language_info": {
   "codemirror_mode": {
    "name": "ipython",
    "version": 3
   },
   "file_extension": ".py",
   "mimetype": "text/x-python",
   "name": "python",
   "nbconvert_exporter": "python",
   "pygments_lexer": "ipython3",
   "version": "3.11.3"
  }
 },
 "nbformat": 4,
 "nbformat_minor": 5
}
