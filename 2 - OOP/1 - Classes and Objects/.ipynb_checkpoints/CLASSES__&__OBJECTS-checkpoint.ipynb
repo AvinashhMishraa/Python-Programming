{
 "cells": [
  {
   "cell_type": "markdown",
   "id": "bca4c8d3-ed3a-4e65-ac32-2f3c2a9d5146",
   "metadata": {
    "jp-MarkdownHeadingCollapsed": true
   },
   "source": [
    "##### <span style=\"color: blue;\">**Procedural Programming** &nbsp;&nbsp;====>&nbsp;&nbsp; **Functional Programming**  &nbsp;&nbsp;====>&nbsp;&nbsp;**Object Oriented Programming**</span>\n"
   ]
  },
  {
   "cell_type": "markdown",
   "id": "d630f334-13ab-4753-8b7e-0ba0c7c37fa1",
   "metadata": {},
   "source": [
    "\n",
    "<font size=\"+1\">↳</font>&nbsp;**Procedural Programming** &nbsp;&nbsp;(To do things in a <span style=\"color: red;\">sequence</span>)\n"
   ]
  },
  {
   "cell_type": "code",
   "execution_count": 2,
   "id": "97cc8ebd-3efb-411a-8a35-1b62de19ad04",
   "metadata": {},
   "outputs": [
    {
     "name": "stdout",
     "output_type": "stream",
     "text": [
      "30\n",
      "-10\n"
     ]
    }
   ],
   "source": [
    "\n",
    "a = 10\n",
    "b = 20\n",
    "\n",
    "sum = a + b\n",
    "print(sum)\n",
    "\n",
    "diff = a - b\n",
    "print(diff)\n"
   ]
  },
  {
   "cell_type": "markdown",
   "id": "042f7240-a23e-492c-bc53-d5be8774bfcb",
   "metadata": {},
   "source": [
    "<font size=\"+1\">↳</font>&nbsp;**Functional Programming**  &nbsp;&nbsp;(To <u>reduce redundancy</u> & bring <span style=\"color: red;\">reusability</span> of a code)"
   ]
  },
  {
   "cell_type": "code",
   "execution_count": 3,
   "id": "b2304320-2c5d-4ab4-86a2-4ba16fe25b08",
   "metadata": {},
   "outputs": [
    {
     "name": "stdout",
     "output_type": "stream",
     "text": [
      "30\n",
      "-10\n"
     ]
    }
   ],
   "source": [
    "\n",
    "a = 10\n",
    "b = 20\n",
    "\n",
    "def sum(a,b):\n",
    "    return a + b\n",
    "\n",
    "def diff(a,b):\n",
    "    return a - b\n",
    "\n",
    "s = sum(a, b)\n",
    "print(s)\n",
    "\n",
    "d = diff(a,b)\n",
    "print(d)\n"
   ]
  },
  {
   "cell_type": "markdown",
   "id": "dd0e4a26-541d-47e8-a7da-fc8db781dd51",
   "metadata": {},
   "source": [
    "\n",
    "<font size=\"+1\">↳</font>&nbsp;**Object Oriented Programming**  &nbsp;&nbsp;(To map with <span style=\"color: red;\">real world objects</span>, we started using <strong><span style=\"color: red;\">objects</span></strong> in code)\n"
   ]
  },
  {
   "cell_type": "code",
   "execution_count": 4,
   "id": "5f2c8402-87e9-4db1-a769-b3ad5f8ec6ac",
   "metadata": {},
   "outputs": [
    {
     "name": "stdout",
     "output_type": "stream",
     "text": [
      "30\n",
      "-10\n"
     ]
    }
   ],
   "source": [
    "\n",
    "class Calculator:\n",
    "    def __init__(self, a, b):\n",
    "        self.a = a\n",
    "        self.b = b\n",
    "\n",
    "    def sum(self):\n",
    "        return self.a + self.b\n",
    "\n",
    "    def diff(self):\n",
    "        return self.a - self.b\n",
    "\n",
    "\n",
    "# Create an instance of the Calculator class\n",
    "calc = Calculator(10, 20)\n",
    "\n",
    "# Use the methods of the Calculator class\n",
    "s = calc.sum()\n",
    "print(s)\n",
    "\n",
    "d = calc.diff()\n",
    "print(d)\n"
   ]
  },
  {
   "cell_type": "markdown",
   "id": "ef70d98a-aa31-4d67-89a8-0e9d109c26de",
   "metadata": {},
   "source": [
    "<br>\n",
    "\n",
    "<span style=\"color: #DCBD10; font-size: 1.2rem;\">▬▬▬▬▬▬▬▬▬▬▬▬▬▬▬▬▬▬▬▬▬▬▬▬▬▬▬▬▬▬▬▬▬▬▬▬▬▬▬▬▬▬▬▬▬▬▬▬▬▬▬▬▬▬▬▬</span>\n",
    "\n",
    "<br>"
   ]
  },
  {
   "cell_type": "markdown",
   "id": "36a7f754-4634-4ca4-923f-7a998f14e076",
   "metadata": {
    "jp-MarkdownHeadingCollapsed": true
   },
   "source": [
    "<br>\n",
    "\n",
    "### <span style=\"color: blue; font-size: 1rem;\"><strong>Class</strong></span>\n"
   ]
  },
  {
   "cell_type": "markdown",
   "id": "4827165b-4feb-447d-8577-637cd263081c",
   "metadata": {},
   "source": [
    "<div style=\"background-color: #ffe6ce; padding-top: 20px; padding-bottom: 5px; padding-right: 2px; padding-left: 10px;\">\n",
    "\n",
    "Class is a like a &nbsp;<code style=\"background-color: white;\">blueprint</code>&nbsp; for creating objects of that class.\n",
    "\n",
    "<span style=\"background-color: white;\"> &nbsp;Everything in Python is an <span style=\"font-size: 1rem;\"><strong>object</strong></span> . </span> &nbsp;&nbsp;An object is a container of &nbsp;<code style=\"background-color: #80ffff;\">data (state)</code>&nbsp; and &nbsp;<code style=\"background-color: #80ffff;\">functionalities (behaviors / methods)</code>\n",
    "\n",
    "The **data** represents the object at a particular moment in time. &nbsp;Therefore, the data of an object is called the **state**. &nbsp;Python uses **attributes** to model the state of an object.\n",
    "\n",
    "The functionality represents the **behaviors** of an object. &nbsp;Python uses **functions** to model the behaviors. &nbsp;When a function is associated with an object, it becomes a **method** of the object.\n",
    "\n",
    "By convention, you use **capitalized** names for classes in Python. &nbsp;If the class name contains multiple words, you use the <code style=\"color: blue; background-color: #ffe6ce;\">CamelCase</code> format, for example <code style=\"color: red; background-color: white;\">SalesEmployee</code>\n",
    "\n",
    "</div>"
   ]
  },
  {
   "cell_type": "code",
   "execution_count": 10,
   "id": "4505d6c0-7e56-4dc1-9dd9-7c8161ed2ed1",
   "metadata": {},
   "outputs": [],
   "source": [
    "\n",
    "class Person:\n",
    "    pass                # Since the Person class is incomplete; you need to use the pass statement to indicate that you’ll add more code to it later.\n",
    "    "
   ]
  },
  {
   "cell_type": "code",
   "execution_count": 11,
   "id": "0d704c83-7411-43d3-9386-e7003fbba31d",
   "metadata": {},
   "outputs": [
    {
     "name": "stdout",
     "output_type": "stream",
     "text": [
      "<__main__.Person object at 0x000001AF87EE6B50>\n"
     ]
    }
   ],
   "source": [
    "\n",
    "avinash = Person()      # creates an object (instance) of type \"Person\"\n",
    "\n",
    "print(avinash)          # OUTPUT: <__main__.Person object at 0x0000029B8C578B10>\n"
   ]
  },
  {
   "cell_type": "markdown",
   "id": "e2b4659a-0082-4c63-af1d-dd4203d081e7",
   "metadata": {},
   "source": [
    "<br>\n",
    "\n",
    "To get an **identity of an object**, you use the &nbsp;<span style=\"background-color: yellow;\"> id( ) </span>&nbsp; function."
   ]
  },
  {
   "cell_type": "code",
   "execution_count": 15,
   "id": "6ebf347e-45ef-45bc-9809-35d51120003a",
   "metadata": {},
   "outputs": [
    {
     "data": {
      "text/plain": [
       "1853411453776"
      ]
     },
     "execution_count": 15,
     "metadata": {},
     "output_type": "execute_result"
    }
   ],
   "source": [
    "\n",
    "id(avinash)\n"
   ]
  },
  {
   "cell_type": "markdown",
   "id": "39e2bb57-95bd-4b17-b0b9-d73bdd4feeca",
   "metadata": {},
   "source": [
    "<br>\n",
    "\n",
    "The **id** of an object is **unique**. &nbsp;In CPython, the &nbsp;<span style=\"background-color: yellow;\"> id( ) </span>&nbsp; returns the <u>**memory address** of an object</u>. \n",
    "\n",
    "The &nbsp;<code>hex()</code>&nbsp; function converts the integer returned by the &nbsp;<span style=\"background-color: yellow;\"> id( ) </span>&nbsp; function to a <u>lowercase hexadecimal string prefixed with &nbsp;**0x**</u>:"
   ]
  },
  {
   "cell_type": "code",
   "execution_count": 16,
   "id": "f993e989-0be3-4276-9433-9924cd417da3",
   "metadata": {},
   "outputs": [
    {
     "data": {
      "text/plain": [
       "'0x1af87ee6b50'"
      ]
     },
     "execution_count": 16,
     "metadata": {},
     "output_type": "execute_result"
    }
   ],
   "source": [
    "\n",
    "hex(id(avinash))\n"
   ]
  },
  {
   "cell_type": "markdown",
   "id": "0ef59bdb-829c-4a82-ac26-cb0edddd6108",
   "metadata": {},
   "source": [
    "<br>\n",
    "\n",
    "The &nbsp;**avinash**&nbsp; object is an instance of the &nbsp;<code style=\"color: red;\">Person</code>&nbsp; class. The &nbsp;<code style=\"color: red;\">isinstance()</code>&nbsp; function returns &nbsp;<code style=\"color: red;\">True</code>&nbsp; if an object is an instance of a class:\n",
    "\n"
   ]
  },
  {
   "cell_type": "code",
   "execution_count": 19,
   "id": "f9de225c-bb0d-4dd8-bfb3-5a3231f0c38f",
   "metadata": {},
   "outputs": [
    {
     "name": "stdout",
     "output_type": "stream",
     "text": [
      "True\n"
     ]
    }
   ],
   "source": [
    "\n",
    "print(isinstance(avinash, Person))      # True\n"
   ]
  },
  {
   "cell_type": "markdown",
   "id": "dda021a8-e6d6-4298-a8cd-d5b1c48b268f",
   "metadata": {},
   "source": [
    "<br>\n",
    "\n",
    "<span style=\"color: #06fff0; font-size: 0.7rem;\">■■■■■■■■■■■■■■■■■■■■■■■■■■■■■■■■■■■■■■■■■■■■■■■■■■■■■■■■■■■■■■■■■■■■■■■■■■■■■■■■■■■■■■■■■■■■■■■■■■■■■■■■■■■■■■■■</span>\n",
    "\n",
    "<br>\n",
    "\n",
    "<code style=\"background-color: #ffe6ce; padding: 15px;\"><font size=\"+1\">⭐</font> A class is also an object in Python. In fact, everything in Python is an object, including classes.</code>\n",
    "\n",
    "<br>\n",
    "\n",
    "When you define the &nbsp;<code style=\"color: red;\">Person</code>&nbsp; class, Python creates an **object** with the name &nbsp;<code style=\"color: red;\">Person</code>&nbsp; . &nbsp;The Person object has attributes. &nbsp;For example, you can find its name using the &nbsp;<code style=\"color: red;\">\\_\\_name__</code>&nbsp; attribute:"
   ]
  },
  {
   "cell_type": "code",
   "execution_count": 21,
   "id": "dd1a13ec-7f25-482f-9d6a-d6edda23baf5",
   "metadata": {},
   "outputs": [
    {
     "name": "stdout",
     "output_type": "stream",
     "text": [
      "Person\n"
     ]
    }
   ],
   "source": [
    "\n",
    "print(Person.__name__)\n"
   ]
  },
  {
   "cell_type": "markdown",
   "id": "4cbf8e3c-5606-42e0-8fb6-54de5022f652",
   "metadata": {},
   "source": [
    "<br>\n",
    "\n",
    "The &nbsp;<code style=\"color: red;\">Person</code>&nbsp; object has the type of &nbsp;<code style=\"color: red;\">type</code>&nbsp;:"
   ]
  },
  {
   "cell_type": "code",
   "execution_count": 22,
   "id": "881d343a-8e4c-4ea0-8504-0c371bad8560",
   "metadata": {},
   "outputs": [
    {
     "name": "stdout",
     "output_type": "stream",
     "text": [
      "<class 'type'>\n"
     ]
    }
   ],
   "source": [
    "\n",
    "print(type(Person))\n"
   ]
  },
  {
   "cell_type": "markdown",
   "id": "deea23d3-49aa-4ff5-a11c-ff5ca1dbe09a",
   "metadata": {},
   "source": [
    "<br>\n",
    "\n",
    "The &nbsp;<code style=\"color: red;\">Person</code>&nbsp; class also has a **behavior**. &nbsp;For example, <u>it can create a new instance</u>:"
   ]
  },
  {
   "cell_type": "code",
   "execution_count": 24,
   "id": "0d20136a-5ab9-4016-96f7-5d244af95b1a",
   "metadata": {},
   "outputs": [],
   "source": [
    "\n",
    "person = Person()\n"
   ]
  },
  {
   "cell_type": "markdown",
   "id": "32dff693-aaf9-4a5c-a043-e98bafef4f0e",
   "metadata": {},
   "source": [
    "<br>\n",
    "\n",
    "<span style=\"color: #06fff0; font-size: 0.7rem;\">■■■■■■■■■■■■■■■■■■■■■■■■■■■■■■■■■■■■■■■■■■■■■■■■■■■■■■■■■■■■■■■■■■■■■■■■■■■■■■■■■■■■■■■■■■■■■■■■■■■■■■■■■■■■■■■■</span>\n",
    "\n",
    "\n",
    "So to summarise:\n",
    "\n",
    "<div style=\"background-color: #ffe6ce; padding-top: 15px; padding-bottom: 4px;\">\n",
    "\n",
    "&nbsp;&nbsp;&nbsp;&nbsp;<span style=\"font-size: 0.7rem; color: red;\">■</span>&nbsp;&nbsp;&nbsp;An object is container that contains **state** and **behavior**   <br>\n",
    "\n",
    "&nbsp;&nbsp;&nbsp;&nbsp;<span style=\"font-size: 0.7rem; color: red;\">■</span>&nbsp;&nbsp;&nbsp;A class is a **blueprint** for creating objects               <br>\n",
    "\n",
    "&nbsp;&nbsp;&nbsp;&nbsp;<span style=\"font-size: 0.7rem; color: red;\">■</span>&nbsp;&nbsp;&nbsp;In Python, **a class is also an object**, which is an instance of the class &nbsp;<code style=\"color: red; background-color: white;\">type</code>\n",
    "</div>\n"
   ]
  },
  {
   "cell_type": "markdown",
   "id": "aaeb52e9-9fa5-4bc6-b110-a55f22e0d2da",
   "metadata": {},
   "source": [
    "<br>\n",
    "\n",
    "<span style=\"color: #DCBD10; font-size: 1.2rem;\">▬▬▬▬▬▬▬▬▬▬▬▬▬▬▬▬▬▬▬▬▬▬▬▬▬▬▬▬▬▬▬▬▬▬▬▬▬▬▬▬▬▬▬▬▬▬▬▬▬▬▬▬▬▬▬▬</span>\n",
    "\n",
    "<br>"
   ]
  },
  {
   "cell_type": "markdown",
   "id": "0a892a61-da06-4b3d-a2b5-cee1cc70ee9f",
   "metadata": {},
   "source": [
    "<br>\n",
    "\n",
    "### <span style=\"color: blue; font-size: 1rem;\"><strong>Instance &nbsp;Attributes</strong></span>\n"
   ]
  },
  {
   "cell_type": "markdown",
   "id": "6511438f-b14f-4e32-943d-c564d1d5e249",
   "metadata": {},
   "source": [
    "\n",
    "<u>Python is dynamic</u>. It means that <code>you can add an attribute to an instance of a class dynamically at runtime</code>.\n"
   ]
  },
  {
   "cell_type": "code",
   "execution_count": 6,
   "id": "8012fff1-3339-452b-944a-734db1fe8304",
   "metadata": {},
   "outputs": [],
   "source": [
    "\n",
    "avinash.name = \"Avinash\"\n"
   ]
  },
  {
   "cell_type": "markdown",
   "id": "23f6100d-fcd6-4716-a286-beda3698daf0",
   "metadata": {},
   "source": [
    "<br>\n",
    "\n",
    "However, if you create another <code style=\"color: red;\">Person</code> object, the new object won’t have the <code style=\"color: red;\">name</code> attribute.\n"
   ]
  },
  {
   "cell_type": "code",
   "execution_count": 10,
   "id": "05cd032f-bca4-43e2-9499-2739d8af1360",
   "metadata": {},
   "outputs": [
    {
     "name": "stdout",
     "output_type": "stream",
     "text": [
      "Avinash\n"
     ]
    },
    {
     "ename": "AttributeError",
     "evalue": "'Person' object has no attribute 'name'",
     "output_type": "error",
     "traceback": [
      "\u001b[1;31m---------------------------------------------------------------------------\u001b[0m",
      "\u001b[1;31mAttributeError\u001b[0m                            Traceback (most recent call last)",
      "Cell \u001b[1;32mIn[10], line 4\u001b[0m\n\u001b[0;32m      1\u001b[0m aman \u001b[38;5;241m=\u001b[39m Person()\n\u001b[0;32m      3\u001b[0m \u001b[38;5;28mprint\u001b[39m(avinash\u001b[38;5;241m.\u001b[39mname)     \u001b[38;5;66;03m# OUTPUT : Avinash\u001b[39;00m\n\u001b[1;32m----> 4\u001b[0m \u001b[38;5;28mprint\u001b[39m(\u001b[43maman\u001b[49m\u001b[38;5;241;43m.\u001b[39;49m\u001b[43mname\u001b[49m)        \u001b[38;5;66;03m# Raises attribute error\u001b[39;00m\n",
      "\u001b[1;31mAttributeError\u001b[0m: 'Person' object has no attribute 'name'"
     ]
    }
   ],
   "source": [
    "\n",
    "aman = Person()\n",
    "\n",
    "print(avinash.name)     # OUTPUT : Avinash\n",
    "print(aman.name)        # Raises attribute error\n"
   ]
  },
  {
   "cell_type": "markdown",
   "id": "50bcbb83-8933-402b-bebb-61d6a8e8bd85",
   "metadata": {},
   "source": [
    "<br>\n",
    "\n",
    "When you create a <code style=\"color: red;\">Person</code> object, Python **automatically** calls the <code style=\"color: red;\">\\_\\_init__</code> method to initialize the instance attributes. In the <code style=\"color: red;\">\\_\\_init__</code> method, the <code style=\"color: red;\">self</code> is the instance of the <code style=\"color: red;\">Person</code> class.\n",
    "\n",
    "<br>\n",
    "\n",
    "It always takes atleast one parameter i.e, &nbsp;<span style=\"background-color: yellow;\"> self </span>&nbsp;&nbsp;&nbsp;&nbsp; ====>&nbsp;&nbsp;&nbsp;&nbsp;  <code style=\"color: red; font-size: 0.85rem;\">\\_\\_init__(<span style=\"color: black;\">self</span> ,  ,  ,<span style=\"color: black;\"> . . .</span> )</code>.\n",
    "\n",
    "<br>\n",
    "\n",
    "The &nbsp;<span style=\"background-color: yellow;\"> self </span>&nbsp; parameter inside the <code style=\"color: red\">\\_\\_init__( )</code> function is a <u><span style=\"color: blue;\">reference</span> to the current instance of the class</u>, and is used to access variables that belongs to the class. <br>\n",
    "Basically, it is used <strong>to establish the <u>context</u> as to which particular object of that class you are connecting with</strong>.\n"
   ]
  },
  {
   "cell_type": "code",
   "execution_count": 20,
   "id": "a58bb748-a6a5-4736-9097-65ac6951a35f",
   "metadata": {},
   "outputs": [
    {
     "name": "stdout",
     "output_type": "stream",
     "text": [
      "Avinash\n",
      "33\n"
     ]
    }
   ],
   "source": [
    "\n",
    "class Person:\n",
    "    def __init__(self, name, age):\n",
    "        self.name = name             # instance attribute\n",
    "        self.age = age               # instance attribute\n",
    "\n",
    "avinash = Person('Avinash', 33)\n",
    "\n",
    "print(avinash.name)                  # OUTPUT: Avinash\n",
    "print(avinash.age)                   # OUTPUT: 33\n"
   ]
  },
  {
   "cell_type": "markdown",
   "id": "c91da031-e201-47ea-be4e-f058555bd893",
   "metadata": {},
   "source": [
    "<br>\n",
    "\n",
    "However, the name &nbsp;<span style=\"background-color: yellow;\"> self </span>&nbsp; can be replaced with any other name and it <u>won't affect the code</u>. But we should follow convention and use the name &nbsp;<span style=\"background-color: yellow;\"> self </span>&nbsp; only."
   ]
  },
  {
   "cell_type": "code",
   "execution_count": 19,
   "id": "30e5de3c-f763-4036-adcd-18467773cb42",
   "metadata": {},
   "outputs": [
    {
     "name": "stdout",
     "output_type": "stream",
     "text": [
      "Avinash\n",
      "33\n"
     ]
    }
   ],
   "source": [
    "# Let us replace \"self\" with \"abcd\"\n",
    "\n",
    "class Person:\n",
    "    def __init__(abcd, name, age):\n",
    "        abcd.name = name             # instance attribute       \n",
    "        abcd.age = age               # instance attribute\n",
    "\n",
    "avinash = Person('Avinash', 33)\n",
    "\n",
    "print(avinash.name)                  # OUTPUT: Avinash\n",
    "print(avinash.age)                   # OUTPUT: 33\n"
   ]
  },
  {
   "cell_type": "markdown",
   "id": "64fbca9c-6e51-4561-b1a2-1eacfd17b1db",
   "metadata": {},
   "source": [
    "<br>\n",
    "\n",
    "The main motive of introducing OOP concept is to be able to not only create <u>multiple objects</u> (instances) of the <u>same class</u> but also <u>distinguisng</u> between them"
   ]
  },
  {
   "cell_type": "code",
   "execution_count": 38,
   "id": "2d10ffee-7119-4f19-b49d-ead9114d4b2b",
   "metadata": {},
   "outputs": [
    {
     "name": "stdout",
     "output_type": "stream",
     "text": [
      "<__main__.Person object at 0x000001905BDDDFD0>\n",
      "Avinash\n",
      "33\n",
      "<__main__.Person object at 0x000001905BDDC5D0>\n",
      "Aman\n",
      "28\n"
     ]
    }
   ],
   "source": [
    "\n",
    "class Person:\n",
    "\n",
    "    def __init__(self, name, age):\n",
    "        self.name = name             # instance attribute\n",
    "        self.age = age               # instance attribute\n",
    "\n",
    "\n",
    "avinash = Person('Avinash', 33)\n",
    "\n",
    "aman = Person('Aman', 28)\n",
    "\n",
    "\n",
    "\n",
    "print(avinash)            # OUTPUT :  <__main__.Person object at 0x000001905B85F590>\n",
    "print(avinash.name)       # OUTPUT :  Avinash\n",
    "print(avinash.age)        # OUTPUT :  33\n",
    "\n",
    "\n",
    "print(aman)               # OUTPUT :  <__main__.Person object at 0x000001905B85F850>\n",
    "print(aman.name)          # OUTPUT :  Aman\n",
    "print(aman.age)           # OUTPUT :  28\n"
   ]
  },
  {
   "cell_type": "markdown",
   "id": "9b165351-9716-4e6d-8d3c-158a8d654e16",
   "metadata": {},
   "source": [
    "<br>\n",
    "\n",
    "We could have used &nbsp;<code>built-in datatypes</code>&nbsp; like &nbsp;<code>list</code>&nbsp; and &nbsp;<code>dictionary</code>&nbsp; also to store the details of these students, but in real-life scenarios we may face situations when we have to store them in an &nbsp;<code style=\"background-color: yellow; color: black;\"><u>object</u> (custom datatype)</code>&nbsp; to make the code look more meaningful."
   ]
  },
  {
   "cell_type": "markdown",
   "id": "95998309-84f8-43e3-a497-87fae53cd9a8",
   "metadata": {},
   "source": [
    "<br>\n",
    "\n",
    "<span style=\"color: #06fff0; font-size: 0.7rem;\">■■■■■■■■■■■■■■■■■■■■■■■■■■■■■■■■■■■■■■■■■■■■■■■■■■■■■■■■■■■■■■■■■■■■■■■■■■■■■■■■■■■■■■■■■■■■■■■■■■■■■■■■■■■■■■■■</span>\n",
    "\n",
    "<br>\n",
    "\n",
    "The &nbsp;**instance variables (attributes)**&nbsp; are stored in the &nbsp;<code><span style=\"color: red;\">objectname</span>.<span style=\"color: blue;\">\\_\\_dict__</span></code>\n"
   ]
  },
  {
   "cell_type": "code",
   "execution_count": 125,
   "id": "786e5221-7163-435f-8e89-f272329715cc",
   "metadata": {},
   "outputs": [
    {
     "data": {
      "text/plain": [
       "{'name': 'Avinash', 'age': 33}"
      ]
     },
     "execution_count": 125,
     "metadata": {},
     "output_type": "execute_result"
    }
   ],
   "source": [
    "\n",
    "class Person:\n",
    "    def __init__(self):\n",
    "        pass\n",
    "\n",
    "p1 = Person()\n",
    "\n",
    "person.__dict__             # <objectname.__dict__>\n"
   ]
  },
  {
   "cell_type": "markdown",
   "id": "43affe88-fb63-4f4f-b354-1d6fda9c21bd",
   "metadata": {},
   "source": [
    "As there is no instance attribute, the &nbsp;<code style=\"color: blue;\">\\_\\_dict__</code>&nbsp; attribute is returning an &nbsp;**empty &nbsp;dictionary**.\n",
    "\n",
    "Let's add some instance attrubutes for this &nbsp;<code style=\"color: red;\">p1</code>&nbsp; object and see if it is added in that empty dictionary as well or not."
   ]
  },
  {
   "cell_type": "code",
   "execution_count": 52,
   "id": "ab173bb2-7dbe-4cff-bc77-5c40ea012796",
   "metadata": {},
   "outputs": [
    {
     "data": {
      "text/plain": [
       "{'name': 'Avinash', 'age': 33}"
      ]
     },
     "execution_count": 52,
     "metadata": {},
     "output_type": "execute_result"
    }
   ],
   "source": [
    "\n",
    "class Person:\n",
    "    def __init__(self, name, age):\n",
    "        self.name = name               # instance attribute\n",
    "        self.age = age                 # instance attribute\n",
    "\n",
    "p1 = Person(\"Avinash\", 33)             # creates an instance \"p1\" of type \"Person\"\n",
    "\n",
    "p1.__dict__\n"
   ]
  },
  {
   "cell_type": "code",
   "execution_count": 53,
   "id": "a478ade8-9808-49f5-a6dc-1b05b4c88023",
   "metadata": {},
   "outputs": [
    {
     "name": "stdout",
     "output_type": "stream",
     "text": [
      "<class 'dict'>\n"
     ]
    }
   ],
   "source": [
    "\n",
    "print(type(p1.__dict__))\n"
   ]
  },
  {
   "cell_type": "markdown",
   "id": "c7592d74-02e5-49bc-800a-e1f35b703fbc",
   "metadata": {},
   "source": [
    "\n",
    "<br>\n",
    "\n",
    "<div style=\"background-color: #ffe6ce; padding-top: 20px; padding-bottom: 12px; padding-left: 10px;\">\n",
    "    \n",
    "<code style=\"background-color: #ffe6ce;\">An <u>object attribute</u> also known as <u>instance attribute</u> can be accessed through an <u>object</u> like <code style=\"background-color: white;\"><span style=\"color: red;\">objectname</span>.attributename</code></code>\n",
    "\n",
    "</div>"
   ]
  },
  {
   "cell_type": "code",
   "execution_count": 59,
   "id": "42967ca7-4fa7-4cbb-aefa-84de57b03422",
   "metadata": {},
   "outputs": [
    {
     "data": {
      "text/plain": [
       "'Avinash'"
      ]
     },
     "execution_count": 59,
     "metadata": {},
     "output_type": "execute_result"
    }
   ],
   "source": [
    "\n",
    "p1.name\n"
   ]
  },
  {
   "cell_type": "code",
   "execution_count": 60,
   "id": "7bd57f06-7d0f-40c3-898b-e8dcfd1b26e9",
   "metadata": {},
   "outputs": [
    {
     "data": {
      "text/plain": [
       "33"
      ]
     },
     "execution_count": 60,
     "metadata": {},
     "output_type": "execute_result"
    }
   ],
   "source": [
    "\n",
    "p1.age\n"
   ]
  },
  {
   "cell_type": "markdown",
   "id": "6ffd1ee5-79e2-4dce-8edc-da39a29a9728",
   "metadata": {},
   "source": [
    "<br>\n",
    "\n",
    "<span style=\"color: #06fff0; font-size: 0.7rem;\">■■■■■■■■■■■■■■■■■■■■■■■■■■■■■■■■■■■■■■■■■■■■■■■■■■■■■■■■■■■■■■■■■■■■■■■■■■■■■■■■■■■■■■■■■■■■■■■■■■■■■■■■■■■■■■■■</span>\n",
    "\n",
    "<br>\n",
    "\n",
    "We will understand this in full context after we cover <u>class attributes</u>, but still we need to introduce this concept here only :\n",
    "\n",
    "<br>\n",
    "\n",
    "<div>\n",
    "\n",
    "![](../../media/Shraddha_Kapra_oops_68.PNG)\n",
    "\n",
    "</div>"
   ]
  },
  {
   "cell_type": "markdown",
   "id": "f9880a35-b70d-4cfb-a42e-e28cea492f9c",
   "metadata": {},
   "source": [
    "\n",
    "However, if Python can find the variables in the &nbsp;<code style=\"color: blue;\">\\_\\_dict__</code>&nbsp; of the instance, it won’t look further in the &nbsp;<code style=\"color: blue;\">\\_\\_dict__</code>&nbsp; of the class.\n"
   ]
  },
  {
   "cell_type": "code",
   "execution_count": 103,
   "id": "577083a0-e2ef-43f8-8d7a-6970d8b7f986",
   "metadata": {},
   "outputs": [
    {
     "data": {
      "text/plain": [
       "'Avinash'"
      ]
     },
     "execution_count": 103,
     "metadata": {},
     "output_type": "execute_result"
    }
   ],
   "source": [
    "\n",
    "from pprint import pprint\n",
    "\n",
    "class Person:\n",
    "    name = \"anonymous\"                 # class attribute\n",
    "    \n",
    "    def __init__(self, name, age):\n",
    "        self.name = name               # instance attribute\n",
    "        self.age = age                 # instance attribute\n",
    "\n",
    "p1 = Person(\"Avinash\", 33)             # creates an instance \"p1\" of type \"Person\"\n",
    "\n",
    "p1.name                                # OUTPUT: 'Avinash'   not   'anonymous'\n"
   ]
  },
  {
   "cell_type": "markdown",
   "id": "ea48ba10-adf3-49bb-9d3c-45a8080fe9d6",
   "metadata": {},
   "source": [
    "\n",
    "<code>p1.<span style=\"color: blue;\">name</span></code> &nbsp;returns &nbsp;**'Avinash'** &nbsp;but &nbsp;not &nbsp;**'anonymous'** because it first searched &nbsp;<code style=\"color: red;\">\"name\"</code>&nbsp; in the list of <u>instance attributes</u> &nbsp;<code>p1.<span style=\"color: blue;\">\\_\\_dict__</span></code>\n"
   ]
  },
  {
   "cell_type": "code",
   "execution_count": 104,
   "id": "350b8227-3781-47e9-ab77-e1b73ccc5057",
   "metadata": {},
   "outputs": [
    {
     "data": {
      "text/plain": [
       "{'name': 'Avinash', 'age': 33}"
      ]
     },
     "execution_count": 104,
     "metadata": {},
     "output_type": "execute_result"
    }
   ],
   "source": [
    "\n",
    "p1.__dict__\n"
   ]
  },
  {
   "cell_type": "code",
   "execution_count": 105,
   "id": "531f8645-5de2-456c-a30a-e826883d6aec",
   "metadata": {},
   "outputs": [
    {
     "data": {
      "text/plain": [
       "mappingproxy({'__module__': '__main__',\n",
       "              'name': 'anonymous',\n",
       "              '__init__': <function __main__.Person.__init__(self, name, age)>,\n",
       "              '__dict__': <attribute '__dict__' of 'Person' objects>,\n",
       "              '__weakref__': <attribute '__weakref__' of 'Person' objects>,\n",
       "              '__doc__': None})"
      ]
     },
     "execution_count": 105,
     "metadata": {},
     "output_type": "execute_result"
    }
   ],
   "source": [
    "\n",
    "Person.__dict__\n"
   ]
  },
  {
   "cell_type": "markdown",
   "id": "a01c418b-31dc-47e1-a9a6-7c9d8df70587",
   "metadata": {},
   "source": [
    "<br>\n",
    "\n",
    "The type of &nbsp;<code style=\"color: blue;\">\\_\\_dict__</code>&nbsp; of the object &nbsp;<code style=\"color: red;\">p1</code>&nbsp; is &nbsp;**not same**&nbsp; as that of it's class &nbsp;<code style=\"color: red;\">Person</code>"
   ]
  },
  {
   "cell_type": "code",
   "execution_count": 106,
   "id": "f27d31ff-cacc-42b3-85a8-63d6f18007cc",
   "metadata": {},
   "outputs": [
    {
     "name": "stdout",
     "output_type": "stream",
     "text": [
      "<class 'dict'>\n",
      "<class 'mappingproxy'>\n"
     ]
    }
   ],
   "source": [
    "\n",
    "print(type(p1.__dict__))             # <class 'dict'>\n",
    "\n",
    "print(type(Person.__dict__))         # <class 'mappingproxy'>\n"
   ]
  },
  {
   "cell_type": "markdown",
   "id": "4afcdc54-2fb3-41b9-9402-b26c9e1a3220",
   "metadata": {},
   "source": [
    "<br>\n",
    "\n",
    "<div style=\"background-color: #ffe6ce; padding-top: 20px; padding-bottom: 15px; padding-left: 10px;\">\n",
    "If you change the <u>class variables</u>, these changes also reflect in the <u>instances</u> of the class:\n",
    "</div>"
   ]
  },
  {
   "cell_type": "code",
   "execution_count": 1,
   "id": "6a7e3838-26bc-4054-a184-bf5fa6ef2062",
   "metadata": {},
   "outputs": [
    {
     "data": {
      "text/plain": [
       "'Betu'"
      ]
     },
     "execution_count": 1,
     "metadata": {},
     "output_type": "execute_result"
    }
   ],
   "source": [
    "\n",
    "from pprint import pprint\n",
    "\n",
    "class Person:\n",
    "    nickname = \"Betu\"                  # class attribute\n",
    "    \n",
    "    def __init__(self, name, age):\n",
    "        self.name = name               # instance attribute\n",
    "        self.age = age                 # instance attribute\n",
    "\n",
    "p1 = Person(\"Isha\", 3)                 # creates an instance \"p1\" of type \"Person\"\n",
    "\n",
    "p1.nickname                            # OUTPUT: 'Avinash'   not   'anonymous'\n"
   ]
  },
  {
   "cell_type": "code",
   "execution_count": 7,
   "id": "bbd03ae7-bb8b-4f79-8f76-0284cabc4a8b",
   "metadata": {},
   "outputs": [
    {
     "name": "stdout",
     "output_type": "stream",
     "text": [
      "Isha\n",
      "Babu\n"
     ]
    }
   ],
   "source": [
    "\n",
    "Person.nickname = \"Babu\"\n",
    "\n",
    "print(p1.name)                         # OUTPUT: Isha\n",
    "print(p1.nickname)                     # OUTPUT: 'Babu'\n"
   ]
  },
  {
   "cell_type": "code",
   "execution_count": 8,
   "id": "212fdac2-99d4-4c1c-8384-3bf3bcba27e8",
   "metadata": {},
   "outputs": [
    {
     "name": "stdout",
     "output_type": "stream",
     "text": [
      "Aman\n",
      "Babu\n"
     ]
    }
   ],
   "source": [
    "\n",
    "p2 = Person(\"Aman\", 28)\n",
    "\n",
    "print(p2.name)                         # OUTPUT: Isha\n",
    "print(p2.nickname)                     # OUTPUT: 'Babu'\n"
   ]
  },
  {
   "cell_type": "markdown",
   "id": "7fa29383-cbd7-43b0-ba28-84e43213284c",
   "metadata": {},
   "source": [
    "\n",
    "<br>\n",
    "\n",
    "<span style=\"color: #06fff0; font-size: 0.7rem;\">■■■■■■■■■■■■■■■■■■■■■■■■■■■■■■■■■■■■■■■■■■■■■■■■■■■■■■■■■■■■■■■■■■■■■■■■■■■■■■■■■■■■■■■■■■■■■■■■■■■■■■■■■■■■■■■</span>\n",
    "\n",
    "So to summarise:\n",
    "\n",
    "<div style=\"background-color: #ffe6ce; padding-top: 15px; padding-bottom: 4px;\">\n",
    "\n",
    "&nbsp;&nbsp;&nbsp;&nbsp;<span style=\"font-size: 0.7rem; color: red;\">■</span>&nbsp;&nbsp;&nbsp;Instance variables are bound to a specific instance of a class\n",
    "\n",
    "<br>\n",
    "\n",
    "<div style=\"display: flex;\">\n",
    "\n",
    "&nbsp;&nbsp;&nbsp;&nbsp;<span style=\"font-size: 0.7rem; color: red;\">■</span>&nbsp;&nbsp;&nbsp;\n",
    "\n",
    "<div>Python stores instance variables in the &nbsp;<code style=\"color: red; background-color: white;\">\\_\\_dict__</code>&nbsp; attribute of the instance. &nbsp;Each instance has its own &nbsp;<code style=\"color: red; background-color: white;\">\\_\\_dict__</code>&nbsp; attribute and the keys in this &nbsp;<code style=\"color: red; background-color: white;\">\\_\\_dict__</code>&nbsp; may be different</div>\n",
    "\n",
    "</div>\n",
    "\n",
    "<br>\n",
    "\n",
    "<div style=\"display: flex;\">\n",
    "\n",
    "&nbsp;&nbsp;&nbsp;&nbsp;<span style=\"font-size: 0.7rem; color: red;\">■</span>&nbsp;&nbsp;&nbsp;\n",
    "\n",
    "<div>When you access a variable via the instance, Python finds the variable in the &nbsp;<code style=\"color: red; background-color: white;\">\\_\\_dict__</code>&nbsp; attribute of the instance. &nbsp;If it cannot find the variable, it goes up and look it up in the &nbsp;<code style=\"color: red; background-color: white;\">\\_\\_dict__</code>&nbsp; attribute of the class</div>\n",
    "\n",
    "</div>\n",
    "\n",
    "<br>\n",
    "\n",
    "</div>\n"
   ]
  },
  {
   "cell_type": "markdown",
   "id": "5bd86061-cfce-4e59-914a-cf1a7cf6eae2",
   "metadata": {},
   "source": [
    "<br>\n",
    "\n",
    "<span style=\"color: #DCBD10; font-size: 1.2rem;\">▬▬▬▬▬▬▬▬▬▬▬▬▬▬▬▬▬▬▬▬▬▬▬▬▬▬▬▬▬▬▬▬▬▬▬▬▬▬▬▬▬▬▬▬▬▬▬▬▬▬▬▬▬▬▬▬</span>\n"
   ]
  },
  {
   "cell_type": "markdown",
   "id": "db6a747a-af21-4c37-8e62-28941561a702",
   "metadata": {
    "jp-MarkdownHeadingCollapsed": true
   },
   "source": [
    "<br>\n",
    "\n",
    "### <span style=\"color: blue; font-size: 1rem;\"><strong>Instance &nbsp;Methods</strong></span>\n"
   ]
  },
  {
   "cell_type": "markdown",
   "id": "e4c75eac-b7d9-43ff-a166-97757188fa45",
   "metadata": {},
   "source": [
    "Methods in which we use &nbsp;<code style=\"background-color: yellow;\">self</code>"
   ]
  },
  {
   "cell_type": "code",
   "execution_count": 108,
   "id": "3553b84c-8ddc-4ddc-a035-a59f63d57868",
   "metadata": {},
   "outputs": [],
   "source": [
    "\n",
    "class Person:\n",
    "    def __init__(self, name, age):            # instance  method\n",
    "        self.name = name\n",
    "        self.age = age\n",
    "\n",
    "    def greet(self):                          # instance  method\n",
    "        return f\"Hi, it's {self.name}.\"\n"
   ]
  },
  {
   "cell_type": "markdown",
   "id": "1e1fdb83-4378-4c2e-9bd9-fa61ecc7e115",
   "metadata": {},
   "source": [
    "Lets's try to access it using &nbsp;**classname**"
   ]
  },
  {
   "cell_type": "code",
   "execution_count": 111,
   "id": "fe3bd506-844d-4657-b857-fc0aa4e6ae8e",
   "metadata": {},
   "outputs": [
    {
     "ename": "TypeError",
     "evalue": "Person.greet() missing 1 required positional argument: 'self'",
     "output_type": "error",
     "traceback": [
      "\u001b[1;31m---------------------------------------------------------------------------\u001b[0m",
      "\u001b[1;31mTypeError\u001b[0m                                 Traceback (most recent call last)",
      "Cell \u001b[1;32mIn[111], line 1\u001b[0m\n\u001b[1;32m----> 1\u001b[0m \u001b[43mPerson\u001b[49m\u001b[38;5;241;43m.\u001b[39;49m\u001b[43mgreet\u001b[49m\u001b[43m(\u001b[49m\u001b[43m)\u001b[49m\n",
      "\u001b[1;31mTypeError\u001b[0m: Person.greet() missing 1 required positional argument: 'self'"
     ]
    }
   ],
   "source": [
    "\n",
    "Person.greet()\n"
   ]
  },
  {
   "cell_type": "markdown",
   "id": "07f68cdd-9ded-4bea-8f20-c1949d066199",
   "metadata": {},
   "source": [
    "<br>\n",
    "\n",
    "Let's now try to to access it through an object of the Person class"
   ]
  },
  {
   "cell_type": "code",
   "execution_count": 116,
   "id": "7c84d595-c25a-40ae-aa66-fc90c72290e5",
   "metadata": {},
   "outputs": [
    {
     "data": {
      "text/plain": [
       "\"Hi, it's Avinash.\""
      ]
     },
     "execution_count": 116,
     "metadata": {},
     "output_type": "execute_result"
    }
   ],
   "source": [
    "\n",
    "avinash = Person('Avinash', 33)           # creates an object \"avinash\" of type \"Person\"\n",
    "\n",
    "avinash.greet()\n"
   ]
  },
  {
   "cell_type": "markdown",
   "id": "b447eebf-0c85-423e-9b21-f3d63656b5ce",
   "metadata": {},
   "source": [
    "<br>\n",
    "\n",
    "<span style=\"color: #06fff0; font-size: 0.7rem;\">■■■■■■■■■■■■■■■■■■■■■■■■■■■■■■■■■■■■■■■■■■■■■■■■■■■■■■■■■■■■■■■■■■■■■■■■■■■■■■■■■■■■■■■■■■■■■■■■■■■■■■■■■■■■■■■</span>\n",
    "\n",
    "<br>\n",
    "\n",
    "Let's see what happens if we omit &nbsp;<code style=\"background-color: yellow;\">self</code>&nbsp; from it"
   ]
  },
  {
   "cell_type": "code",
   "execution_count": 56,
   "id": "12524709-c186-4f8f-8acb-1eea31fc06bd",
   "metadata": {},
   "outputs": [],
   "source": [
    "\n",
    "class Person:\n",
    "    def greet():\n",
    "        print(\"Hello!\")\n"
   ]
  },
  {
   "cell_type": "code",
   "execution_count": 66,
   "id": "f0df664e-2860-4f97-b202-63137753f090",
   "metadata": {},
   "outputs": [
    {
     "name": "stdout",
     "output_type": "stream",
     "text": [
      "Hello!\n"
     ]
    }
   ],
   "source": [
    "\n",
    "Person.greet()       # <ClassName.functionname>\n"
   ]
  },
  {
   "cell_type": "markdown",
   "id": "bea1864b-dc37-4b70-97c5-5c332d8a7971",
   "metadata": {},
   "source": [
    "<br>\n",
    "\n",
    "The &nbsp;<code style=\"color: blue;\">greet()</code>&nbsp; is a &nbsp;**function object**&nbsp;, which is an &nbsp;<u>instance of the function class</u>&nbsp; as shown in the following output :\n"
   ]
  },
  {
   "cell_type": "code",
   "execution_count": 61,
   "id": "1248a5f7-b857-411a-89c7-92d575eb4dbd",
   "metadata": {},
   "outputs": [
    {
     "name": "stdout",
     "output_type": "stream",
     "text": [
      "<function Person.greet at 0x000001AF88473240>\n"
     ]
    }
   ],
   "source": [
    "\n",
    "print(Person.greet)\n"
   ]
  },
  {
   "cell_type": "markdown",
   "id": "41ef5787-376d-4b31-9e21-794070cafe83",
   "metadata": {},
   "source": [
    "<br>\n",
    "\n",
    "The &nbsp;**type**&nbsp; of the &nbsp;<code style=\"color: blue;\">greet</code>&nbsp; is &nbsp;<code style=\"background-color: yellow;\">function</code>"
   ]
  },
  {
   "cell_type": "code",
   "execution_count": 64,
   "id": "194c01b1-6891-4b48-a13b-ac1741bccd6e",
   "metadata": {},
   "outputs": [
    {
     "name": "stdout",
     "output_type": "stream",
     "text": [
      "<class 'function'>\n"
     ]
    }
   ],
   "source": [
    "\n",
    "print(type(Person.greet))\n"
   ]
  },
  {
   "cell_type": "markdown",
   "id": "c7c11fb2-9cb8-40b8-8528-a680de6a8fc9",
   "metadata": {},
   "source": [
    "<br>\n",
    "\n",
    "Now let's try to access this &nbsp;<code style=\"color: blue;\">greet()</code>&nbsp; function through an **object** of the &nbsp;<code style=\"color: red;\">Person</code> class"
   ]
  },
  {
   "cell_type": "code",
   "execution_count": 67,
   "id": "8ac30bac-a11f-4d6a-998d-ea0b76f4cd4d",
   "metadata": {},
   "outputs": [
    {
     "ename": "TypeError",
     "evalue": "Person.greet() takes 0 positional arguments but 1 was given",
     "output_type": "error",
     "traceback": [
      "\u001b[1;31m---------------------------------------------------------------------------\u001b[0m",
      "\u001b[1;31mTypeError\u001b[0m                                 Traceback (most recent call last)",
      "Cell \u001b[1;32mIn[67], line 3\u001b[0m\n\u001b[0;32m      1\u001b[0m p1 \u001b[38;5;241m=\u001b[39m Person()\n\u001b[1;32m----> 3\u001b[0m \u001b[43mp1\u001b[49m\u001b[38;5;241;43m.\u001b[39;49m\u001b[43mgreet\u001b[49m\u001b[43m(\u001b[49m\u001b[43m)\u001b[49m\n",
      "\u001b[1;31mTypeError\u001b[0m: Person.greet() takes 0 positional arguments but 1 was given"
     ]
    }
   ],
   "source": [
    "\n",
    "p1 = Person()\n",
    "\n",
    "p1.greet()\n"
   ]
  },
  {
   "cell_type": "markdown",
   "id": "778ebbc8-000c-4f9d-9ac7-37dd8951c90c",
   "metadata": {},
   "source": [
    "<br>\n",
    "\n",
    "If you display the &nbsp;<code>p1.<span style=\"color: blue;\">greet</span></code>&nbsp;, it’ll return a **bound method object**:"
   ]
  },
  {
   "cell_type": "code",
   "execution_count": 69,
   "id": "65a34be0-ce1d-45da-b30b-d9f799338038",
   "metadata": {},
   "outputs": [
    {
     "data": {
      "text/plain": [
       "<bound method Person.greet of <__main__.Person object at 0x000001AF8854F2D0>>"
      ]
     },
     "execution_count": 69,
     "metadata": {},
     "output_type": "execute_result"
    }
   ],
   "source": [
    "\n",
    "p1.greet\n"
   ]
  },
  {
   "cell_type": "markdown",
   "id": "0860fcfa-6d1f-45d2-bc65-1a6a00761817",
   "metadata": {},
   "source": [
    "<br>\n",
    "\n",
    "So the &nbsp;<code>p1.<span style=\"color: blue;\">greet</span></code>&nbsp; is **not a function** like &nbsp;<code>Person.<span style=\"color: blue;\">greet</span></code>&nbsp;. \n",
    "\n",
    "The following checks if the &nbsp;<code>Person.<span style=\"color: blue;\">greet</span></code>&nbsp; is the same object as &nbsp;<code>p1.<span style=\"color: blue;\">greet</span></code>&nbsp;. &nbsp;It’ll returns &nbsp;<code style=\"color: red;\">False</code>&nbsp; as expected :"
   ]
  },
  {
   "cell_type": "code",
   "execution_count": 70,
   "id": "91b948ab-0ed3-48a2-9d3f-ef255e958a04",
   "metadata": {},
   "outputs": [
    {
     "name": "stdout",
     "output_type": "stream",
     "text": [
      "False\n"
     ]
    }
   ],
   "source": [
    "\n",
    "print(type(Person.greet) is type(p1.greet))\n"
   ]
  },
  {
   "cell_type": "markdown",
   "id": "738452b4-fa0c-4db5-ad86-579278b4d8c4",
   "metadata": {},
   "source": [
    "<br>\n",
    "\n",
    "The reason is that the type of the &nbsp;<code>Person.<span style=\"color: blue;\">greet</span></code>&nbsp; is function while the type of the &nbsp;<code>p1.<span style=\"color: blue;\">greet</span></code>&nbsp; is method, as shown below:"
   ]
  },
  {
   "cell_type": "code",
   "execution_count": 73,
   "id": "869fbd19-5c8e-4585-86b3-6ab8661e8643",
   "metadata": {},
   "outputs": [
    {
     "name": "stdout",
     "output_type": "stream",
     "text": [
      "<class 'method'>\n",
      "<class 'function'>\n"
     ]
    }
   ],
   "source": [
    "\n",
    "print(type(p1.greet))              # <class 'method'>\n",
    "\n",
    "print(type(Person.greet))          # <class 'function'>\n"
   ]
  },
  {
   "cell_type": "markdown",
   "id": "1e56a2f7-8621-4faa-b07e-4951cd2ddbfb",
   "metadata": {},
   "source": [
    "<br>\n",
    "\n",
    "<div style=\"background-color: #ffe6ce; padding-top: 20px; padding-bottom: 10px; padding-left: 10px; padding-right: 10px;\">\n",
    "\n",
    "So when you define a &nbsp;<strong>function</strong>&nbsp; inside a class, it’s purely a &nbsp;<strong>function</strong> . &nbsp;<span style=\"color: blue;\">However, when you access that function via an &nbsp;<strong>object</strong> , the function becomes a <strong>method</strong>.</span>   \n",
    "\n",
    "Therefore, <span style=\"background-color: white;\">&nbsp;a &nbsp;**method**&nbsp; is a function that is <u>bound</u> to an instance of a class.&nbsp;</span>\n",
    "</div>\n",
    "\n",
    "<br>\n",
    "\n",
    "That's why when you tried to call the &nbsp;<code style=\"color: blue;\">greet()</code>&nbsp; function via the &nbsp;<code>p1</code>&nbsp; **object**, &nbsp;you got a &nbsp;<code style=\"color: red;\">TypeError</code>&nbsp; as follows:\n",
    "\n",
    "<br>\n",
    "\n",
    "<div style=\"margin-left: 25px;\">\n",
    "    \n",
    "![](../../media/Shraddha_Kapra_oops_67.PNG)\n",
    "\n",
    "</div>"
   ]
  },
  {
   "cell_type": "markdown",
   "id": "3ca9ecf3-4960-4d08-9475-a32a453f1004",
   "metadata": {},
   "source": [
    "\n",
    "Because the &nbsp;<code>p1.<span style=\"color: blue;\">greet</span></code>&nbsp; is a method that is bound to the &nbsp;<code>p1</code>&nbsp; **object** , &nbsp;Python <u>always implicitly</u> passes the **object** to the **method** as the &nbsp;<code style=\"background-color: #81ff6f;\">first argument</code>\n",
    "\n",
    "Let's confirm this. The following redefines the &nbsp;<code style=\"color: red;\">Person</code>&nbsp; class where the &nbsp;<code style=\"color: blue;\">greet()</code>&nbsp; function accepts <u>a list of arguments</u> :"
   ]
  },
  {
   "cell_type": "code",
   "execution_count": 10,
   "id": "4aae59d4-eb2b-498f-8a4d-bc99594444d7",
   "metadata": {},
   "outputs": [],
   "source": [
    "\n",
    "class Person:\n",
    "    def greet(*args):\n",
    "        print('Hello!', args)\n"
   ]
  },
  {
   "cell_type": "code",
   "execution_count": 11,
   "id": "80888efb-3065-4c5f-9e83-d08951764896",
   "metadata": {},
   "outputs": [
    {
     "name": "stdout",
     "output_type": "stream",
     "text": [
      "Hello! ()\n"
     ]
    }
   ],
   "source": [
    "\n",
    "Person.greet()      # calls the greet function\n"
   ]
  },
  {
   "cell_type": "markdown",
   "id": "e6464fea-509e-41ad-8f93-3ce4f2b2f9f4",
   "metadata": {},
   "source": [
    "<br>\n",
    "\n",
    "The  &nbsp;<code style=\"color: blue;\">greet()</code>&nbsp; function doesn’t receive any arguments.\n",
    "\n",
    "However, if you call the &nbsp;<code style=\"color: blue;\">greet()</code>&nbsp; function from an instance of the &nbsp;<code style=\"color: red;\">Person</code>&nbsp; class, the <u>**args** is not empty</u> :"
   ]
  },
  {
   "cell_type": "code",
   "execution_count": 12,
   "id": "645b65f3-1b15-486e-991c-2775244b79b4",
   "metadata": {},
   "outputs": [
    {
     "name": "stdout",
     "output_type": "stream",
     "text": [
      "Hello! (<__main__.Person object at 0x0000028CBB453010>,)\n"
     ]
    }
   ],
   "source": [
    "\n",
    "p1 = Person()      # creates an object of type \"Person\"\n",
    "\n",
    "p1.greet()         # Hello! (<__main__.Person object at 0x000001AF8859AB10>,)\n"
   ]
  },
  {
   "cell_type": "markdown",
   "id": "120aa0d1-7db5-4514-bc7f-c0b6e4d8b550",
   "metadata": {},
   "source": [
    "<br>\n",
    "\n",
    "In this case, the &nbsp;<code style=\"color: blue;\">greet()</code>&nbsp; method receives an **object** which is the &nbsp;<code>p1</code> , which is the <u>object that it is bound to</u>.\n",
    "\n",
    "<u>Let's confirm if it is the same object or not</u>. &nbsp;The following illustrates that the **object** that calls the &nbsp;<code style=\"color: blue;\">greet()</code>&nbsp; method is the one that Python implicitly passes into the **method** as the &nbsp;<code style=\"background-color: #81ff6f;\">first argument</code> :"
   ]
  },
  {
   "cell_type": "code",
   "execution_count": 13,
   "id": "8c4de3eb-5bbf-423a-a060-a77dba9b63c0",
   "metadata": {},
   "outputs": [
    {
     "name": "stdout",
     "output_type": "stream",
     "text": [
      "0x28cbb453010\n",
      "Hello! (<__main__.Person object at 0x0000028CBB453010>,)\n"
     ]
    }
   ],
   "source": [
    "\n",
    "print(hex(id(p1)))      # 0x1af8859bb90\n",
    "\n",
    "p1.greet()              # Hello! (<__main__.Person object at 0x000001AF8859BB90>,)\n"
   ]
  },
  {
   "cell_type": "markdown",
   "id": "852f3177-e907-46ba-9b41-4b6942a4a459",
   "metadata": {},
   "source": [
    "<br>\n",
    "\n",
    "As you can see both are same since both have the **same memory address** which also means :\n",
    "\n",
    "<div style=\"background-color: #ffe6ce; padding-top: 20px; padding-bottom: 10px; padding-left: 10px; padding-right: 10px; width: 400px; margin-left: 70px;\">\n",
    "    \n",
    "&nbsp;&nbsp;<code style=\"background-color: white;\">p1.<span style=\"color: blue;\">greet()</span></code>&nbsp; is &nbsp;**equivalent**&nbsp; to &nbsp;<code style=\"background-color: white;\"><span style=\"color: red;\">Person</span>.<span style=\"color: blue;\">greet</span>(p1)</code>&nbsp;\n",
    "\n",
    "</div>"
   ]
  },
  {
   "cell_type": "code",
   "execution_count": 98,
   "id": "c1a07c55-40f9-4d61-8448-94e5b82ea153",
   "metadata": {},
   "outputs": [
    {
     "name": "stdout",
     "output_type": "stream",
     "text": [
      "Hello! ()\n",
      "Hello! (<__main__.Person object at 0x000001AF8859BB90>,)\n",
      "Hello! (<__main__.Person object at 0x000001AF8859BB90>,)\n"
     ]
    }
   ],
   "source": [
    "\n",
    "Person.greet()         # Hello! ()\n",
    "Person.greet(p1)       # Hello! (<__main__.Person object at 0x000001AF8859BB90>,)\n",
    "\n",
    "p1.greet()             # Hello! (<__main__.Person object at 0x000001AF8859BB90>,)\n"
   ]
  },
  {
   "cell_type": "markdown",
   "id": "c41493c5-5ce7-44e1-aa15-fe1892eef81c",
   "metadata": {},
   "source": [
    "<br>\n",
    "\n",
    "For this reason, a **method** of an **object** always has the **object** as the &nbsp;<code style=\"background-color: #81ff6f;\">first argument</code> . &nbsp;By convention, it is called &nbsp;<code style=\"background-color: yellow;\">self</code> :"
   ]
  },
  {
   "cell_type": "code",
   "execution_count": 101,
   "id": "8a9a3fd5-05f4-489e-80d6-a1f474d23306",
   "metadata": {},
   "outputs": [],
   "source": [
    "\n",
    "class Person:\n",
    "    def greet(self):\n",
    "        print('Hello!', self)\n"
   ]
  },
  {
   "cell_type": "markdown",
   "id": "3542ceb8-0dce-4265-9259-3ea9df8d1566",
   "metadata": {},
   "source": [
    "<br>\n",
    "\n",
    "If you have worked with other programming languages such as &nbsp;<span style=\"font-size: 1.2rem;\">Java</span>&nbsp; or &nbsp;<span style=\"font-size: 1.2rem;\">C#</span> , the &nbsp;<code style=\"background-color: yellow;\">self</code> is the same as the &nbsp;<code style=\"background-color: yellow;\">this</code>&nbsp; object."
   ]
  },
  {
   "cell_type": "markdown",
   "id": "1b5d39fc-9c83-4910-b818-757a9a2d9977",
   "metadata": {},
   "source": [
    "<br>\n",
    "\n",
    "<span style=\"color: #06fff0; font-size: 0.7rem;\">■■■■■■■■■■■■■■■■■■■■■■■■■■■■■■■■■■■■■■■■■■■■■■■■■■■■■■■■■■■■■■■■■■■■■■■■■■■■■■■■■■■■■■■■■■■■■■■■■■■■■■■■■■■■■■■</span> \n",
    "\n",
    "<br>\n",
    "\n",
    "Summary:\n",
    "\n",
    "<div style=\"background-color: #ffe6ce; padding-top: 15px; padding-bottom: 4px;\">\n",
    "    \n",
    "&nbsp;&nbsp;&nbsp;&nbsp;<span style=\"font-size: 0.7rem; color: red;\">■</span>&nbsp;&nbsp;&nbsp;When you define a <u>function inside a class</u>, it’s purely a **function**. &nbsp;However, when you call the function <u>via an instance</u> of a class, the **function** becomes a **method**. \n",
    "&nbsp;&nbsp;&nbsp;&nbsp;&nbsp;&nbsp;&nbsp;&nbsp;&nbsp;&nbsp;Therefore, a **method** is a **function** that is <u>bound to an instance</u> of a class <br>\n",
    "\n",
    "&nbsp;&nbsp;&nbsp;&nbsp;<span style=\"font-size: 0.7rem; color: red;\">■</span>&nbsp;&nbsp;&nbsp;A **method** is an instance of the &nbsp;<code style=\"color: red; background-color: white;\">method</code>&nbsp; class <br>\n",
    "\n",
    "&nbsp;&nbsp;&nbsp;&nbsp;<span style=\"font-size: 0.7rem; color: red;\">■</span>&nbsp;&nbsp;&nbsp;A **method** has the **first argument** &nbsp;( <code style=\"background-color: yellow\">self</code> )&nbsp; as the **object** to which it is <u>bound</u> <br>\n",
    "\n",
    "&nbsp;&nbsp;&nbsp;&nbsp;<span style=\"font-size: 0.7rem; color: red;\">■</span>&nbsp;&nbsp;&nbsp;Python automatically passes the &nbsp;<u>bound &nbsp;**object**</u>&nbsp; to the method as the **first argument**. &nbsp;By <u>convention</u>, its name is &nbsp;<code style=\"background-color: yellow\">self</code>\n",
    "</div>"
   ]
  },
  {
   "cell_type": "markdown",
   "id": "1e82f65a-cdcb-4d72-8316-ca970b04e10e",
   "metadata": {},
   "source": [
    "<br>\n",
    "\n",
    "<span style=\"color: #DCBD10; font-size: 1.2rem;\">▬▬▬▬▬▬▬▬▬▬▬▬▬▬▬▬▬▬▬▬▬▬▬▬▬▬▬▬▬▬▬▬▬▬▬▬▬▬▬▬▬▬▬▬▬▬▬▬▬▬▬▬▬▬▬▬</span>\n"
   ]
  },
  {
   "cell_type": "markdown",
   "id": "dff9cbe3-de53-4cb3-a10a-b6c6d8214a7b",
   "metadata": {
    "jp-MarkdownHeadingCollapsed": true
   },
   "source": [
    "<br>\n",
    "\n",
    "### <span style=\"color: blue; font-size: 1rem;\"><strong>&nbsp;\\_\\_init__( )</strong></span>\n"
   ]
  },
  {
   "cell_type": "markdown",
   "id": "32f76f67-2997-4856-a97b-81bb408c4f8f",
   "metadata": {},
   "source": [
    "<br>\n",
    "\n",
    "<div style=\"background-color: #abff9f; padding-top: 20px; padding-bottom: 8px; padding-left: 10px; padding-right: 10px;\">\n",
    "    \n",
    "When you create a new object of a class, Python <strong>automatically</strong> calls the &nbsp;<code style=\"color: red; background-color: white; font-size: 0.8rem;\">\\_\\_init__()</code>&nbsp; method to **initialize** the <u>object’s attributes</u>.\n",
    "\n",
    "</div>\n",
    "\n",
    "<div style=\"background-color: #dcffd7; padding-top: 20px; padding-bottom: 8px; padding-left: 10px; padding-right: 10px;\">\n",
    "\n",
    "Unlike regular methods, the &nbsp;<code style=\"color: red; background-color: white; font-size: 0.8rem;\">\\_\\_init__()</code>&nbsp; method has two underscores (&nbsp;<code style=\"color: red; background-color: white;\">\\_\\_</code>&nbsp;) on each side. Therefore, the &nbsp;<code style=\"color: red; background-color: white; font-size: 0.8rem;\">\\_\\_init__()</code>&nbsp; is often called **dunder** &nbsp;init.\n",
    "\n",
    "The **double underscores** at both sides of the &nbsp;<code style=\"color: red; background-color: white; font-size: 0.8rem;\">\\_\\_init__()</code>&nbsp; method indicate that Python will use the method **internally**. &nbsp;In other words, <u>you should not explicitly call this method</u>.\n",
    "\n",
    "Since Python will automatically call the &nbsp;<code style=\"color: red; background-color: white; font-size: 0.8rem;\">\\_\\_init__()</code>&nbsp; method immediately after creating a new object, you can use the &nbsp;<code style=\"color: red; background-color: white; font-size: 0.8rem;\">\\_\\_init__()</code>&nbsp; method to initialize the object’s attributes.\n",
    "\n",
    "</div>"
   ]
  },
  {
   "cell_type": "code",
   "execution_count": 2,
   "id": "2fbbf319-90bd-49ef-b4fe-c273845511ec",
   "metadata": {},
   "outputs": [
    {
     "name": "stdout",
     "output_type": "stream",
     "text": [
      "I'm Avinash. I'm 33 years old.\n"
     ]
    }
   ],
   "source": [
    "\n",
    "class Person:\n",
    "    def __init__(self, name, age):\n",
    "        self.name = name\n",
    "        self.age = age\n",
    "\n",
    "\n",
    "if __name__ == '__main__':\n",
    "    person = Person('Avinash', 33)\n",
    "    print(f\"I'm {person.name}. I'm {person.age} years old.\")\n"
   ]
  },
  {
   "cell_type": "markdown",
   "id": "818a4dfd-5538-46a8-a1cb-73ce35e18db0",
   "metadata": {},
   "source": [
    "<br>\n",
    "\n",
    "<div style=\"background-color: #ffe6ce; padding-top: 25px; padding-bottom: 10px; padding-left: 10px;\">\n",
    "    \n",
    "🔶 &nbsp;&nbsp;When you create an instance of the &nbsp;<code style=\"background-color: white; color: red;\">Person</code>&nbsp; class , Python performs two things :  <br>\n",
    "\n",
    "&nbsp;&nbsp;&nbsp;&nbsp;&nbsp;&nbsp;&nbsp;&nbsp;&nbsp;&nbsp;&nbsp;&nbsp;&nbsp;&nbsp;&nbsp;&nbsp;<span style=\"font-size: 0.7rem; color: black;\">■</span>&nbsp;&nbsp;&nbsp;First, create a new instance of the &nbsp;<code style=\"background-color: white; color: red;\">Person</code>&nbsp; class by setting the object’s **namespace** such as &nbsp;<code style=\"color: red; background-color: white;\">\\_\\_init__()</code>&nbsp; attribute to empty (&nbsp;<code style=\"background-color: white; color: red;\">{}</code>&nbsp;)\n",
    "\n",
    "&nbsp;&nbsp;&nbsp;&nbsp;&nbsp;&nbsp;&nbsp;&nbsp;&nbsp;&nbsp;&nbsp;&nbsp;&nbsp;&nbsp;&nbsp;&nbsp;<span style=\"font-size: 0.7rem; color: black;\">■</span>&nbsp;&nbsp;&nbsp;Second, call the &nbsp;<code style=\"color: red; background-color: white;\">\\_\\_init__()</code>&nbsp; method to **initialize** the attributes of the newly created object, also known as <span style=\"color: blue;\">instance attributes</span>\n",
    "\n",
    "</div>\n",
    "<div style=\"background-color: #ffe6ce; padding-top: 10px; padding-bottom: 20px; padding-left: 10px\"> <br>\n",
    "\n",
    "🔶 &nbsp;&nbsp;Note that the &nbsp;<code style=\"color: red; background-color: white;\">\\_\\_init__()</code>&nbsp; method doesn’t create the object but only initializes the object’s attributes. &nbsp;Hence, the &nbsp;<code style=\"color: red; background-color: white;\">\\_\\_init__()</code>&nbsp; is &nbsp;<strong>not a constructor</strong>\n",
    "\n",
    "</div>\n",
    "<div style=\"background-color: #ffe6ce; padding-top: 25px; padding-bottom: 10px; padding-left: 10px;\">\n",
    "\n",
    "🔶 &nbsp;&nbsp;&nbsp;<code style=\"color: red; background-color: white;\">\\_\\_init__()</code>&nbsp; is of two types :  <br>\n",
    "\n",
    "&nbsp;&nbsp;&nbsp;&nbsp;&nbsp;&nbsp;&nbsp;&nbsp;&nbsp;&nbsp;&nbsp;&nbsp;&nbsp;&nbsp;&nbsp;&nbsp;<span style=\"font-size: 0.7rem; color: black;\">■</span>&nbsp;&nbsp;&nbsp;<strong><span style=\"color: red;\">Default</span>&nbsp;</strong>   &nbsp;&nbsp;&nbsp;&nbsp;==========>&nbsp;&nbsp;&nbsp;&nbsp;  Only one parameter i.e., &nbsp;<code style=\"background-color: #a5fff3;\">self</code>&nbsp;<br>\n",
    "\n",
    "&nbsp;&nbsp;&nbsp;&nbsp;&nbsp;&nbsp;&nbsp;&nbsp;&nbsp;&nbsp;&nbsp;&nbsp;&nbsp;&nbsp;&nbsp;&nbsp;<span style=\"font-size: 0.7rem; color: black;\">■</span>&nbsp;&nbsp;&nbsp;<strong><span style=\"color: red;\">Parameterized</span>&nbsp;</strong>   &nbsp;&nbsp;&nbsp;&nbsp;=====> &nbsp;&nbsp;&nbsp;&nbsp; Atleast one paramter other than &nbsp;<code style=\"background-color: #a5fff3;\">self</code> <br>\n",
    "&nbsp;&nbsp;&nbsp;&nbsp;&nbsp;&nbsp;&nbsp;&nbsp;&nbsp;&nbsp;&nbsp;&nbsp;&nbsp;&nbsp;&nbsp;&nbsp;&nbsp;&nbsp;&nbsp;&nbsp;&nbsp;&nbsp;&nbsp;&nbsp;&nbsp;&nbsp;&nbsp;&nbsp;&nbsp;&nbsp;&nbsp;&nbsp;&nbsp;&nbsp;&nbsp;&nbsp;&nbsp;&nbsp;&nbsp;&nbsp;&nbsp;&nbsp;&nbsp;&nbsp;&nbsp;&nbsp;&nbsp;&nbsp;&nbsp;&nbsp;&nbsp;&nbsp;&nbsp;&nbsp;&nbsp;&nbsp;&nbsp;&nbsp;&nbsp;&nbsp;&nbsp;&nbsp;&nbsp;&nbsp;&nbsp;&nbsp;&nbsp;&nbsp;&nbsp;&nbsp;&nbsp;&nbsp;&nbsp;For any &nbsp;<code style=\"color: red; background-color: white;\">\\_\\_init__()</code>&nbsp;, &nbsp;<code style=\"background-color: #a5fff3;\">self</code>&nbsp; will be always be the &nbsp;<span style=\"background-color: yellow;\">1st &nbsp;parameter</span>\n",
    "\n",
    "</div>\n"
   ]
  },
  {
   "cell_type": "code",
   "execution_count": 5,
   "id": "f9e8e7ac-736f-419e-a4e6-71d404e690f4",
   "metadata": {},
   "outputs": [
    {
     "name": "stdout",
     "output_type": "stream",
     "text": [
      "Avinash 33\n",
      "Aman 28\n"
     ]
    }
   ],
   "source": [
    "\n",
    "class Person:\n",
    "\n",
    "    # Default\n",
    "    def __init__():\n",
    "        pass\n",
    "\n",
    "    # Parameterized\n",
    "    def __init__(self, name, age):\n",
    "        self.name = name\n",
    "        self.age = age\n",
    "\n",
    "\n",
    "p1 = Person(\"Avinash\", 33)\n",
    "p2 = Person(\"Aman\", 28)\n",
    "\n",
    "print(p1.name, p1.age)\n",
    "print(p2.name, p2.age)\n"
   ]
  },
  {
   "cell_type": "markdown",
   "id": "08353a9a-18d7-4aff-bbd9-6fe1140fc9d9",
   "metadata": {},
   "source": [
    "<br>\n",
    "\n",
    "<span style=\"color: #06fff0; font-size: 0.7rem;\">■■■■■■■■■■■■■■■■■■■■■■■■■■■■■■■■■■■■■■■■■■■■■■■■■■■■■■■■■■■■■■■■■■■■■■■■■■■■■■■■■■■■■■■■■■■■■■■■■■■■■■■■■■■■■■■</span>\n",
    "\n",
    "<br>\n",
    "\n",
    "The &nbsp;<code style=\"color: red;\">\\_\\_init__()</code>&nbsp; method’s parameters can have &nbsp;**default &nbsp;values**.\n"
   ]
  },
  {
   "cell_type": "code",
   "execution_count": 25,
   "id": "311992b0-5869-4de2-82c5-8eb1917ef956",
   "metadata": {},
   "outputs": [
    {
     "name": "stdout",
     "output_type": "stream",
     "text": [
      "I'm Aman. I'm 25 years old.\n",
      "I'm Avinash. I'm 33 years old.\n"
     ]
    }
   ],
   "source": [
    "\n",
    "class Person:\n",
    "    def __init__(self, name, age=25):                             # default age value = 25\n",
    "        self.name = name\n",
    "        self.age = age\n",
    "\n",
    "\n",
    "if __name__ == '__main__':\n",
    "    aman = Person('Aman')                                         # Because we don’t pass an argument to the Person(), the \"age\" uses the default value.\n",
    "    print(f\"I'm {aman.name}. I'm {aman.age} years old.\")\n",
    "\n",
    "    avinash = Person('Avinash', 33)                               # Because we pass an argument to the Person(), the \"age\" does not the default value.\n",
    "    print(f\"I'm {avinash.name}. I'm {avinash.age} years old.\")\n",
    "    "
   ]
  },
  {
   "cell_type": "markdown",
   "id": "05fae688-aa7b-4841-a659-a5836d9c9bc2",
   "metadata": {},
   "source": [
    "<br>\n",
    "\n",
    "<span style=\"color: #06fff0; font-size: 0.7rem;\">■■■■■■■■■■■■■■■■■■■■■■■■■■■■■■■■■■■■■■■■■■■■■■■■■■■■■■■■■■■■■■■■■■■■■■■■■■■■■■■■■■■■■■■■■■■■■■■■■■■■■■■■■■■■■■■</span>\n",
    "\n",
    "<br>\n",
    "\n",
    "So to summarise:\n",
    "\n",
    "<div style=\"background-color: #ffe6ce; padding-top: 15px; padding-bottom: 4px;\">\n",
    "\n",
    "&nbsp;&nbsp;&nbsp;&nbsp;<span style=\"font-size: 0.7rem; color: red;\">■</span>&nbsp;&nbsp;&nbsp;Use the &nbsp;<code style=\"color: red; background-color: white;\">\\_\\_init__()</code>&nbsp; method to **initialize** the <u>object’s attributes</u>.   <br>\n",
    "\n",
    "&nbsp;&nbsp;&nbsp;&nbsp;<span style=\"font-size: 0.7rem; color: red;\">■</span>&nbsp;&nbsp;&nbsp;The &nbsp;<code style=\"color: red; background-color: white;\">\\_\\_init__()</code>&nbsp; <u>doesn’t create an object</u> but is automatically called after the object is created.\n",
    "</div>\n"
   ]
  },
  {
   "cell_type": "markdown",
   "id": "77ad4cb6-be4f-4c51-be73-41f912a624f0",
   "metadata": {},
   "source": [
    "<br>\n",
    "\n",
    "<span style=\"color: #DCBD10; font-size: 1.2rem;\">▬▬▬▬▬▬▬▬▬▬▬▬▬▬▬▬▬▬▬▬▬▬▬▬▬▬▬▬▬▬▬▬▬▬▬▬▬▬▬▬▬▬▬▬▬▬▬▬▬▬▬▬▬▬▬▬</span>\n"
   ]
  },
  {
   "cell_type": "markdown",
   "id": "95c7a976-ee87-43de-98c2-a0caa474cbec",
   "metadata": {
    "jp-MarkdownHeadingCollapsed": true
   },
   "source": [
    "<br>\n",
    "\n",
    "### <span style=\"color: blue; font-size: 1rem;\"><strong>Class &nbsp;Attributes</strong></span>"
   ]
  },
  {
   "cell_type": "markdown",
   "id": "17c95ef5-34c8-4127-8ad5-8ae16a810cc0",
   "metadata": {},
   "source": [
    "<u>Unlike instance attributes, class attributes are shared by all instances of the class</u>. <span style=\"color: red;\">They are helpful if you want to define class constants or variables that keep track of the number of instances of a class.</span>"
   ]
  },
  {
   "cell_type": "code",
   "execution_count": 113,
   "id": "8a7f7f8e-326e-4255-ba40-5fbc3af0fc76",
   "metadata": {},
   "outputs": [
    {
     "name": "stdout",
     "output_type": "stream",
     "text": [
      "2\n"
     ]
    }
   ],
   "source": [
    "\n",
    "class Person:\n",
    "    counter = 0\n",
    "    default_age = 18\n",
    "\n",
    "    def __init__(self, name, age):\n",
    "        self.name = name\n",
    "        self.age = age\n",
    "        Person.counter += 1      # increments the counter on every object creation to keep a track of the total number of the instances of type \"Person\"\n",
    "\n",
    "    def greet(self):\n",
    "        return f\"Hi, it's {self.name}.\"\n",
    "\n",
    "\n",
    "p1 = Person('Avinash', 33)\n",
    "p2 = Person('Aman', 28)\n",
    "print(Person.counter)             # access the class attribute \"counter\" using the classname\n"
   ]
  },
  {
   "cell_type": "markdown",
   "id": "15db02da-5f9f-4968-b445-c0db37c8815e",
   "metadata": {},
   "source": [
    "<br>\n",
    "\n",
    "<div style=\"background-color: #ffe6ce; padding: 10px;\">\n",
    "The standard way of accessing a class attribute is &nbsp;<code style=\"background-color: white;\"><span style=\"color: red;\">ClassName</span>.classattributename</code>\n",
    "</div>\n",
    "\n",
    "<br>\n",
    "\n",
    "We can access a <u>class attribute</u> through any <u>instance</u> of that class too."
   ]
  },
  {
   "cell_type": "code",
   "execution_count": 33,
   "id": "496afc87-f933-4a98-a6ab-e72204f061ea",
   "metadata": {},
   "outputs": [
    {
     "name": "stdout",
     "output_type": "stream",
     "text": [
      "3\n",
      "3\n"
     ]
    }
   ],
   "source": [
    "\n",
    "print(p1.counter)\n",
    "print(p2.counter)\n"
   ]
  },
  {
   "cell_type": "markdown",
   "id": "25efae8d-014f-40eb-804a-a7934eed6147",
   "metadata": {},
   "source": [
    "However, this is not recommeneded because if we have an <u>instance attribute</u> with the &nbsp;**same name**&nbsp; as a <u>class attribute</u>, then <code>that instance attribute will override</code>\n",
    "\n",
    "But if you still want to access a class attribute using an object, you may use &nbsp;<code><span style=\"color: red;\">self.\\_\\_class__.</span><span style=\"color: blue;\">classattributename</span></code>\n"
   ]
  },
  {
   "cell_type": "code",
   "execution_count": 114,
   "id": "43c66c2a-6c1d-4317-8f51-d427864e5bb9",
   "metadata": {},
   "outputs": [
    {
     "name": "stdout",
     "output_type": "stream",
     "text": [
      "2\n"
     ]
    }
   ],
   "source": [
    "\n",
    "class Person:\n",
    "    counter = 0\n",
    "    default_age = 18\n",
    "    \n",
    "    def __init__(self, name, age):\n",
    "        self.name = name\n",
    "        self.age = age\n",
    "        # Person.counter += 1                # METHOD - 1\n",
    "        self.__class__.counter += 1          # METHOD - 2\n",
    "\n",
    "    def greet(self):\n",
    "        return f\"Hi, it's {self.name}.\"\n",
    "\n",
    "\n",
    "p1 = Person('Avinash', 33)\n",
    "p2 = Person('Aman', 28)\n",
    "print(Person.counter)                        # access the class attribute \"counter\" using the classname\n"
   ]
  },
  {
   "cell_type": "markdown",
   "id": "0d58713d-5622-486d-a7fd-1d3ad6ce96c0",
   "metadata": {},
   "source": [
    "<br>\n",
    "\n",
    "<span style=\"color: #15c607;\">Besides &nbsp;**dot notation**, &nbsp;we can also use</span> <br>\n",
    "&nbsp;&nbsp;&nbsp;&nbsp;&nbsp;&nbsp;<code style=\"color:blue; font-size: 1rem;\"><strong>getattr()</strong></code>&nbsp;&nbsp; ➜ &nbsp;&nbsp;<span style=\"color: #15c607;\">to **get** the value of a class attribute</span> <br>\n",
    "&nbsp;&nbsp;&nbsp;&nbsp;&nbsp;&nbsp;<code style=\"color: blue; font-size: 1rem;\"><strong>setattr()</strong></code>&nbsp;&nbsp; ➜ &nbsp;&nbsp;<span style=\"color: #15c607;\">to **set** the value of a class attribute</span> <br>\n",
    "&nbsp;&nbsp;&nbsp;&nbsp;&nbsp;&nbsp;<code style=\"color: blue; font-size: 1rem;\"><strong>delattr()</strong></code>&nbsp;&nbsp; ➜ &nbsp;&nbsp;<span style=\"color: #15c607;\">to **delete** the value of a class attribute</span>"
   ]
  },
  {
   "cell_type": "markdown",
   "id": "b8f1341d-4c8f-411d-8fd2-48ed11a6bef9",
   "metadata": {},
   "source": [
    "<br>\n",
    "\n",
    "Let's try to acess the class attribute <code style=\"color: red;\">counter</code> from the above example :"
   ]
  },
  {
   "cell_type": "code",
   "execution_count": 30,
   "id": "20a73971-779b-41b3-aa45-7d664708e945",
   "metadata": {},
   "outputs": [
    {
     "data": {
      "text/plain": [
       "2"
      ]
     },
     "execution_count": 30,
     "metadata": {},
     "output_type": "execute_result"
    }
   ],
   "source": [
    "\n",
    "getattr(Person, 'counter')\n"
   ]
  },
  {
   "cell_type": "markdown",
   "id": "e2dcaab1-1574-4309-bfb3-af131cc6aea1",
   "metadata": {},
   "source": [
    "\n",
    "Let's try to access a &nbsp;<u>class attribute</u>&nbsp; that does not exist."
   ]
  },
  {
   "cell_type": "code",
   "execution_count": 31,
   "id": "7e8b523d-2e76-4729-a5a9-acd94276ceec",
   "metadata": {},
   "outputs": [
    {
     "ename": "AttributeError",
     "evalue": "type object 'Person' has no attribute 'proffession'",
     "output_type": "error",
     "traceback": [
      "\u001b[1;31m---------------------------------------------------------------------------\u001b[0m",
      "\u001b[1;31mAttributeError\u001b[0m                            Traceback (most recent call last)",
      "Cell \u001b[1;32mIn[31], line 1\u001b[0m\n\u001b[1;32m----> 1\u001b[0m \u001b[38;5;28;43mgetattr\u001b[39;49m\u001b[43m(\u001b[49m\u001b[43mPerson\u001b[49m\u001b[43m,\u001b[49m\u001b[43m \u001b[49m\u001b[38;5;124;43m'\u001b[39;49m\u001b[38;5;124;43mproffession\u001b[39;49m\u001b[38;5;124;43m'\u001b[39;49m\u001b[43m)\u001b[49m\n",
      "\u001b[1;31mAttributeError\u001b[0m: type object 'Person' has no attribute 'proffession'"
     ]
    }
   ],
   "source": [
    "\n",
    "getattr(Person, 'proffession')\n"
   ]
  },
  {
   "cell_type": "markdown",
   "id": "71327e17-1a82-4d54-9a04-05d107291bf2",
   "metadata": {},
   "source": [
    "<br>\n",
    "\n",
    "**To avoid the exception**, you can specify a &nbsp;**default**&nbsp; value if the &nbsp;<u>class attribute</u>&nbsp; doesn’t exist like this:"
   ]
  },
  {
   "cell_type": "code",
   "execution_count": 33,
   "id": "f1391725-f53b-4cb6-891f-3dd513eb9219",
   "metadata": {},
   "outputs": [
    {
     "data": {
      "text/plain": [
       "'Unemployed'"
      ]
     },
     "execution_count": 33,
     "metadata": {},
     "output_type": "execute_result"
    }
   ],
   "source": [
    "\n",
    "getattr(Person, 'proffession', 'Unemployed')\n"
   ]
  },
  {
   "cell_type": "markdown",
   "id": "45eeb17c-9809-4108-87db-f33767026667",
   "metadata": {},
   "source": [
    "Let's reset the class attribute &nbsp;<code style=\"color: red;\">counter</code>&nbsp; ===> &nbsp;set counter again to zero"
   ]
  },
  {
   "cell_type": "code",
   "execution_count": 37,
   "id": "f419f08a-fe49-4c8b-a9e7-2227d55c9347",
   "metadata": {},
   "outputs": [],
   "source": [
    "\n",
    "setattr(Person, 'counter', 0)\n"
   ]
  },
  {
   "cell_type": "code",
   "execution_count": 38,
   "id": "83359f9d-5fb8-4d62-b816-931e4888d323",
   "metadata": {},
   "outputs": [
    {
     "data": {
      "text/plain": [
       "0"
      ]
     },
     "execution_count": 38,
     "metadata": {},
     "output_type": "execute_result"
    }
   ],
   "source": [
    "\n",
    "getattr(Person, 'counter')\n"
   ]
  },
  {
   "cell_type": "markdown",
   "id": "62815c33-1d68-40bc-8c68-afe03ab3b964",
   "metadata": {},
   "source": [
    "\n",
    "To delete a class attribute at **runtime**, you can use the &nbsp;<code style=\"color: red;\">delattr</code>&nbsp; function :"
   ]
  },
  {
   "cell_type": "code",
   "execution_count": 41,
   "id": "eb18537a-b184-4dea-abaf-48524588f2ec",
   "metadata": {},
   "outputs": [],
   "source": [
    "\n",
    "delattr(Person, 'counter')\n"
   ]
  },
  {
   "cell_type": "markdown",
   "id": "0bf03ca0-db60-499b-a2bb-d7d9bd0f1b17",
   "metadata": {},
   "source": [
    "\n",
    "Or you can use the &nbsp;<code style=\"background-color: #77f5ff;\">del</code>&nbsp; keyword:\n"
   ]
  },
  {
   "cell_type": "code",
   "execution_count": 44,
   "id": "0b894a65-122d-4b65-9fb0-253ea47676b2",
   "metadata": {},
   "outputs": [],
   "source": [
    "\n",
    "del Person.counter\n"
   ]
  },
  {
   "cell_type": "markdown",
   "id": "31753ef3-e7a9-455d-8059-9fa6fdc21d00",
   "metadata": {},
   "source": [
    "<br>\n",
    "\n",
    "<span style=\"color: #06fff0; font-size: 0.7rem;\">■■■■■■■■■■■■■■■■■■■■■■■■■■■■■■■■■■■■■■■■■■■■■■■■■■■■■■■■■■■■■■■■■■■■■■■■■■■■■■■■■■■■■■■■■■■■■■■■■■■■■■■■■■■■■■■</span>\n",
    "\n",
    "<br>\n",
    "\n",
    "<font size=\"+1\">⭐</font>&nbsp;&nbsp;&nbsp;<code style=\"font-size: 1.2rem; background-color: #77f5ff;\">del</code> &nbsp;&nbsp;**keyword**\n",
    "\n",
    "<br>\n",
    "\n",
    "<div style=\"background-color: #ffe6ce; padding: 10px;\">\n",
    "&nbsp;<code style=\"background-color: #ffe6ce;\">It does not only <strong><span style=\"color: red;\">delete</span></strong> <span style=\"color: blue;\">class attributes</span>, but is also used to <strong><span style=\"color: red;\">delete</span></strong> <span style=\"color: blue;\">object properties</span> or <u>object itself</u>.\n",
    "<br>&nbsp;It frees space from memory. </code><br><br>\n",
    "\n",
    "<pre>\n",
    "    \n",
    "    <span style=\"color: green;\"><strong>del</strong></span> p1                 <span style=\"color: #a19f9a;\"># deleting  the  object  itself</span>\n",
    "    <span style=\"color: green;\"><strong>del</strong></span> p1.<span style=\"color: blue;\">name</span>            <span style=\"color: #a19f9a;\"># deleting  the  object  attribute  \"name\",  not  the  object itself</span>\n",
    "    <span style=\"color: green;\"><strong>del</strong></span> Person.<span style=\"color: blue;\">counter</span>     <span style=\"color: #a19f9a;\"># deleting  the  class  attribute  \"counter\"  of  the  \"Person\"  class</span>\n",
    "    \n",
    "</pre>\n",
    "    \n",
    "</div>"
   ]
  },
  {
   "cell_type": "code",
   "execution_count": 17,
   "id": "25dc54b1-8dfd-4f3a-b4fe-44d729a02657",
   "metadata": {},
   "outputs": [],
   "source": [
    "\n",
    "class Person:\n",
    "    counter = 0                          # class  attribute\n",
    "\n",
    "    def __init__(self, name, age):\n",
    "        self.name = name                 # object  attribute\n",
    "\n",
    "\n",
    "p1 = Person('Avinash', 33)\n",
    "p2 = Person('Aman', 28)\n"
   ]
  },
  {
   "cell_type": "code",
   "execution_count": 18,
   "id": "ea089735-d8d9-476b-8ce2-b7c046538866",
   "metadata": {},
   "outputs": [
    {
     "data": {
      "text/plain": [
       "<__main__.Person at 0x28cbb455b50>"
      ]
     },
     "execution_count": 18,
     "metadata": {},
     "output_type": "execute_result"
    }
   ],
   "source": [
    "\n",
    "p1\n"
   ]
  },
  {
   "cell_type": "code",
   "execution_count": 19,
   "id": "940be9fd-ec67-438c-895b-b25e83196598",
   "metadata": {},
   "outputs": [],
   "source": [
    "\n",
    "del p1\n"
   ]
  },
  {
   "cell_type": "code",
   "execution_count": 20,
   "id": "5e40678c-0f51-4d72-8842-67233dfc4400",
   "metadata": {},
   "outputs": [
    {
     "ename": "NameError",
     "evalue": "name 'p1' is not defined",
     "output_type": "error",
     "traceback": [
      "\u001b[1;31m---------------------------------------------------------------------------\u001b[0m",
      "\u001b[1;31mNameError\u001b[0m                                 Traceback (most recent call last)",
      "Cell \u001b[1;32mIn[20], line 1\u001b[0m\n\u001b[1;32m----> 1\u001b[0m \u001b[43mp1\u001b[49m\n",
      "\u001b[1;31mNameError\u001b[0m: name 'p1' is not defined"
     ]
    }
   ],
   "source": [
    "\n",
    "p1\n"
   ]
  },
  {
   "cell_type": "code",
   "execution_count": 22,
   "id": "f420514c-f871-4226-9abd-1f4519ac6be2",
   "metadata": {},
   "outputs": [],
   "source": [
    "\n",
    "p1 = Person('Avinash', 33)\n",
    "\n",
    "del p1.name                     \n"
   ]
  },
  {
   "cell_type": "code",
   "execution_count": 23,
   "id": "dc8acbf2-8bf1-41f0-87b9-dde68f313f70",
   "metadata": {},
   "outputs": [
    {
     "ename": "AttributeError",
     "evalue": "'Person' object has no attribute 'name'",
     "output_type": "error",
     "traceback": [
      "\u001b[1;31m---------------------------------------------------------------------------\u001b[0m",
      "\u001b[1;31mAttributeError\u001b[0m                            Traceback (most recent call last)",
      "Cell \u001b[1;32mIn[23], line 1\u001b[0m\n\u001b[1;32m----> 1\u001b[0m \u001b[43mp1\u001b[49m\u001b[38;5;241;43m.\u001b[39;49m\u001b[43mname\u001b[49m\n",
      "\u001b[1;31mAttributeError\u001b[0m: 'Person' object has no attribute 'name'"
     ]
    }
   ],
   "source": [
    "\n",
    "p1.name\n"
   ]
  },
  {
   "cell_type": "code",
   "execution_count": 24,
   "id": "f7809363-c446-49e7-bfa1-cc69a4ce381e",
   "metadata": {},
   "outputs": [
    {
     "data": {
      "text/plain": [
       "<__main__.Person at 0x28cbb9a8850>"
      ]
     },
     "execution_count": 24,
     "metadata": {},
     "output_type": "execute_result"
    }
   ],
   "source": [
    "\n",
    "p1\n"
   ]
  },
  {
   "cell_type": "code",
   "execution_count": 25,
   "id": "3e775196-4dcc-499c-a59b-fe85a2604e8e",
   "metadata": {},
   "outputs": [
    {
     "data": {
      "text/plain": [
       "'Aman'"
      ]
     },
     "execution_count": 25,
     "metadata": {},
     "output_type": "execute_result"
    }
   ],
   "source": [
    "\n",
    "p2.name\n"
   ]
  },
  {
   "cell_type": "code",
   "execution_count": 26,
   "id": "a5d2f93e-5762-4c31-aa78-16d4bfe4e1b4",
   "metadata": {},
   "outputs": [
    {
     "data": {
      "text/plain": [
       "0"
      ]
     },
     "execution_count": 26,
     "metadata": {},
     "output_type": "execute_result"
    }
   ],
   "source": [
    "\n",
    "Person.counter\n"
   ]
  },
  {
   "cell_type": "code",
   "execution_count": 27,
   "id": "9b8b0a80-8585-4dca-a4db-0213a24b89ef",
   "metadata": {},
   "outputs": [],
   "source": [
    "\n",
    "del Person.counter\n"
   ]
  },
  {
   "cell_type": "code",
   "execution_count": 28,
   "id": "65fa6dbe-21f6-4885-b18b-0e4423135e83",
   "metadata": {},
   "outputs": [
    {
     "ename": "AttributeError",
     "evalue": "type object 'Person' has no attribute 'counter'",
     "output_type": "error",
     "traceback": [
      "\u001b[1;31m---------------------------------------------------------------------------\u001b[0m",
      "\u001b[1;31mAttributeError\u001b[0m                            Traceback (most recent call last)",
      "Cell \u001b[1;32mIn[28], line 1\u001b[0m\n\u001b[1;32m----> 1\u001b[0m \u001b[43mPerson\u001b[49m\u001b[38;5;241;43m.\u001b[39;49m\u001b[43mcounter\u001b[49m\n",
      "\u001b[1;31mAttributeError\u001b[0m: type object 'Person' has no attribute 'counter'"
     ]
    }
   ],
   "source": [
    "\n",
    "Person.counter\n"
   ]
  },
  {
   "cell_type": "markdown",
   "id": "2a637b70-c539-4020-abe1-ac3478968992",
   "metadata": {},
   "source": [
    "<br>\n",
    "\n",
    "<span style=\"color: #06fff0; font-size: 0.7rem;\">■■■■■■■■■■■■■■■■■■■■■■■■■■■■■■■■■■■■■■■■■■■■■■■■■■■■■■■■■■■■■■■■■■■■■■■■■■■■■■■■■■■■■■■■■■■■■■■■■■■■■■■■■■■■■■■</span>\n",
    "\n",
    "<br>\n",
    "\n",
    "So to summarize all the ways of accessing <u>class attributes</u> :\n",
    "\n",
    "<div style=\"background-color: #ffe6ce; padding: 10px;\">\n",
    "    \n",
    "<code style=\"background-color: #ffe6ce;\">Ways of accessing a <span style=\"font-size: 1rem;\"><strong>class attribute</strong></span>:</code> <br>\n",
    "\n",
    "<div style=\"margin-left: 70px;\">\n",
    "    \n",
    "<code style=\"background-color: yellow;\">Using dot notation</code>  <br>\n",
    "\n",
    "&nbsp;&nbsp;&nbsp;&nbsp;&nbsp;&nbsp;&nbsp;&nbsp;&nbsp;<span style=\"font-size: 0.7rem;\">■</span>&nbsp;&nbsp;&nbsp;&nbsp;<code style=\"background-color: white;\"><span style=\"color: red;\">ClassName</span>.<span style=\"color: blue;\">classattributename</span>     </code>&nbsp;&nbsp;&nbsp;&nbsp;&nbsp;&nbsp;(Recommended - applicable to all places)        <br>\n",
    "\n",
    "&nbsp;&nbsp;&nbsp;&nbsp;&nbsp;&nbsp;&nbsp;&nbsp;&nbsp;<span style=\"font-size: 0.7rem;\">■</span>&nbsp;&nbsp;&nbsp;&nbsp;<code style=\"background-color: white;\"><span style=\"color: red;\">self.\\_\\_class__.</span><span style=\"color: blue;\">classattributename</span></code>&nbsp;&nbsp;&nbsp;&nbsp;&nbsp;&nbsp;(applicable only when to be used from within an <u>instance method</u>)     <br>\n",
    "\n",
    "&nbsp;&nbsp;&nbsp;&nbsp;&nbsp;&nbsp;&nbsp;&nbsp;&nbsp;<span style=\"font-size: 0.7rem;\">■</span>&nbsp;&nbsp;&nbsp;&nbsp;<code style=\"background-color: white;\"><span style=\"color: red;\">cls.</span><span style=\"color: blue;\">classattributename</span>           </code>&nbsp;&nbsp;&nbsp;&nbsp;&nbsp;&nbsp;(applicable only when to be used from within an <u>class method</u>)\n",
    "\n",
    "&nbsp;&nbsp;&nbsp;&nbsp;&nbsp;&nbsp;&nbsp;&nbsp;&nbsp;<span style=\"font-size: 0.7rem;\">■</span>&nbsp;&nbsp;&nbsp;&nbsp;<code style=\"background-color: white;\"><span style=\"color: red;\">objectname.</span><span style=\"color: blue;\">classattributename</span>    </code>&nbsp;&nbsp;&nbsp;&nbsp;&nbsp;&nbsp;(works but &nbsp;<span style=\"background-color: #ff9580;\">Not Recommended</span>)\n",
    "\n",
    "&nbsp;&nbsp;&nbsp;&nbsp;&nbsp;&nbsp;&nbsp;&nbsp;&nbsp;<span style=\"font-size: 0.7rem;\">■</span>&nbsp;&nbsp;&nbsp;&nbsp;<code style=\"background-color: white;\"><span style=\"color: #08bc02;\"><strong>del</strong></span> <span style=\"color: red;\">ClassName.</span><span style=\"color: blue;\">classattributename</span> </code>&nbsp;&nbsp;&nbsp;&nbsp;&nbsp;&nbsp;(works but &nbsp;<span style=\"background-color: #ff9580;\">Not Recommended</span>)\n",
    "\n",
    "<code style=\"background-color: yellow;\">Using inbuilt-method</code>  <br>\n",
    "\n",
    "&nbsp;&nbsp;&nbsp;&nbsp;&nbsp;&nbsp;&nbsp;&nbsp;&nbsp;➜&nbsp;&nbsp;&nbsp;&nbsp;<code style=\"background-color: white;\"><span style=\"color: blue; font-size: 1rem;\"><strong>getattr(</strong></span><span style=\"color: red;\">ClassName</span>, <span style=\"color: blue;\">'classattributename'</span>, 'default value'<span style=\"color: blue; font-size: 1rem;\"><strong>)</strong></span></code>\n",
    "\n",
    "&nbsp;&nbsp;&nbsp;&nbsp;&nbsp;&nbsp;&nbsp;&nbsp;&nbsp;➜&nbsp;&nbsp;&nbsp;&nbsp;<code style=\"background-color: white;\"><span style=\"color: blue; font-size: 1rem;\"><strong>setattr(</strong></span><span style=\"color: red;\">ClassName</span>, <span style=\"color: blue;\">'classattributename'</span>, 'value'<span style=\"color: blue; font-size: 1rem;\"><strong>)</strong></span>        </code>\n",
    "\n",
    "&nbsp;&nbsp;&nbsp;&nbsp;&nbsp;&nbsp;&nbsp;&nbsp;&nbsp;➜&nbsp;&nbsp;&nbsp;&nbsp;<code style=\"background-color: white;\"><span style=\"color: blue; font-size: 1rem;\"><strong>delattr(</strong></span><span style=\"color: red;\">ClassName</span>, <span style=\"color: blue;\">'classattributename'</span><span style=\"color: blue; font-size: 1rem;\"><strong>)</strong></span>                 </code>\n",
    "</div>\n",
    "\n",
    "</div>"
   ]
  },
  {
   "cell_type": "markdown",
   "id": "27d4d8b7-2be8-478b-b163-b46279e9f7b1",
   "metadata": {},
   "source": [
    "<br>\n",
    "\n",
    "<span style=\"color: #06fff0; font-size: 0.7rem;\">■■■■■■■■■■■■■■■■■■■■■■■■■■■■■■■■■■■■■■■■■■■■■■■■■■■■■■■■■■■■■■■■■■■■■■■■■■■■■■■■■■■■■■■■■■■■■■■■■■■■■■■■■■■■■■■</span>\n",
    "\n",
    "<br>\n",
    "\n",
    "Let's take one more example on this."
   ]
  },
  {
   "cell_type": "code",
   "execution_count": 14,
   "id": "201b5719-a646-4646-ba7c-097041452bd7",
   "metadata": {},
   "outputs": [
    {
     "name": "stdout",
     "output_type": "stream",
     "text": [
      "Avinash Mishra\n",
      "88\n",
      "abc\n",
      "\n",
      "\n",
      "Radha Kumari\n",
      "78.5\n",
      "abc\n"
     ]
    }
   ],
   "source": [
    "\n",
    "class Student:\n",
    "\n",
    "    college_name = \"abc\"                  # class attribute\n",
    "\n",
    "    def __init__(self, name, marks):              \n",
    "        self.name = name                  # instance (object) atrribute\n",
    "        self.marks = marks                # instance (object) attribute\n",
    "\n",
    "\n",
    "s1 = Student(\"Avinash Mishra\", 88)\n",
    "s2 = Student(\"Radha Kumari\", 78.5)\n",
    "\n",
    "print(s1.name)\n",
    "print(s1.marks)\n",
    "print(s1.college_name)\n",
    "\n",
    "print(\"\\n\")\n",
    "\n",
    "print(s2.name)\n",
    "print(s2.marks)\n",
    "print(s2.college_name)\n"
   ]
  },
  {
   "cell_type": "markdown",
   "id": "aa41967e-891a-4db7-836b-dcc5b77a0dde",
   "metadata": {},
   "source": [
    "<br>\n",
    "\n",
    "<div style=\"background-color: #ffe6ce; padding-top: 14px; padding-bottom: 3px; padding-left: 10px; padding-right: 4px;\">\n",
    "Since an object occupies some space in memory, why should we not try to minimize it's size? Why should we store the same data at different places in the memory?<br> <br>\n",
    "    \n",
    "Therefore in the above example, let's suppose if &nbsp;<code style=\"background-color: #a5fff3;\">college_name</code>&nbsp; is <u>same for all the students</u> , then instead of making the &nbsp;<code style=\"background-color: #a5fff3;\">college_name</code>&nbsp; an **object attribute** , it's better to make it a **class attribute** thus making it common and readily available for all the instances of the **Student** class. \n",
    "</div>\n"
   ]
  },
  {
   "cell_type": "markdown",
   "id": "67dbbcf1-0224-44a7-b06c-f2b38ff30840",
   "metadata": {},
   "source": [
    "<br>\n",
    "\n",
    "**Note :** &nbsp;&nbsp;<code style=\"background-color: yellow;\">obj attr  >  class attr</code> &nbsp;in terms of <u>precedence</u> . <br>\n",
    "&nbsp;&nbsp;&nbsp;&nbsp;&nbsp;&nbsp;&nbsp;&nbsp;&nbsp;&nbsp;&nbsp;&nbsp;&nbsp;&nbsp;In other words, if a &nbsp;<code style=\"color: red;\">class attribute</code>&nbsp; has the same name as an &nbsp;<code style=\"color: red;\">object attribute</code>&nbsp;, remember <u>the &nbsp;<code style=\"color: red;\">object attribute</code>&nbsp; will always take the precedence</u> .  <br>\n",
    "&nbsp;&nbsp;&nbsp;&nbsp;&nbsp;&nbsp;&nbsp;&nbsp;&nbsp;&nbsp;&nbsp;&nbsp;&nbsp;&nbsp;However, we try to avoid such a situation ."
   ]
  },
  {
   "cell_type": "code",
   "execution_count": 41,
   "id": "cb44b2cf-af83-419d-b0a9-2dc9558413a6",
   "metadata": {},
   "outputs": [
    {
     "name": "stdout",
     "output_type": "stream",
     "text": [
      "Avinash Mishra\n"
     ]
    }
   ],
   "source": [
    "\n",
    "class Student:\n",
    "\n",
    "    college_name = \"abc\"                  # class attribute\n",
    "    name = \"anonymous\"                    # class attribute\n",
    "\n",
    "    # CONSTRUCTOR\n",
    "    def __init__(self, name, marks):\n",
    "        self.name = name                  # object atrribute\n",
    "        self.marks = marks                # object attribute\n",
    "\n",
    "\n",
    "s1 = Student(\"Avinash Mishra\", 88)\n",
    "\n",
    "print(s1.name)                            # Output    ======>    \"Avinash Mishra\"     not     \"anonymous\"\n"
   ]
  },
  {
   "cell_type": "markdown",
   "id": "3ea50423-9344-40b0-808d-99abf485cbaf",
   "metadata": {},
   "source": [
    "<br>\n",
    "\n",
    "<span style=\"color: #06fff0; font-size: 0.7rem;\">■■■■■■■■■■■■■■■■■■■■■■■■■■■■■■■■■■■■■■■■■■■■■■■■■■■■■■■■■■■■■■■■■■■■■■■■■■■■■■■■■■■■■■■■■■■■■■■■■■■■■■■■■■■■■■■</span>\n",
    "\n",
    "<br>\n",
    "\n",
    "<div style=\"display: flex; gap: 200px;\">\n",
    "    <div><strong>Note&nbsp;:&nbsp;&nbsp;&nbsp;&nbsp;&nbsp;</strong></div>\n",
    "    <div><code style=\"background-color: #ffe6ce;\">An <span style=\"color: blue;\">object attribute</span> (or more popularly called as <span style=\"color: blue;\">instance attribute</span>) is <span style=\"font-size: 1rem;\"><strong>not necessarily always</strong></span> created at the time of the object creation or precisely, by the call of the <span style=\"color: red; font-size: 1.02rem;\"><strong>__init__</strong></span> method only.</code></div>\n",
    "</div>\n",
    "\n",
    "<br>\n",
    "\n",
    "<div style=\"margin-left: 60px;\"><code style=\"background-color: #ffe6ce;\">It may be created <u>after the object creation too</u>, or in simple words, an object may get a new object attribute which was not assigned to it at the time of it's creation.</code></div>\n",
    "\n",
    "<br>"
   ]
  },
  {
   "cell_type": "code",
   "execution_count": 60,
   "id": "d00b8320-7661-435a-acfc-f267a46ad957",
   "metadata": {},
   "outputs": [],
   "source": [
    "\n",
    "class Person:    \n",
    "    # instance  method\n",
    "    def change_name(self, name):     \n",
    "        self.name = name             # instance  attribute\n",
    "\n",
    "p = Person()                         # creates an object p of type Person\n"
   ]
  },
  {
   "cell_type": "code",
   "execution_count": 61,
   "id": "bb5243a3-5c39-4673-829d-56f07d85f170",
   "metadata": {},
   "outputs": [
    {
     "ename": "AttributeError",
     "evalue": "'Person' object has no attribute 'name'",
     "output_type": "error",
     "traceback": [
      "\u001b[1;31m---------------------------------------------------------------------------\u001b[0m",
      "\u001b[1;31mAttributeError\u001b[0m                            Traceback (most recent call last)",
      "Cell \u001b[1;32mIn[61], line 2\u001b[0m\n\u001b[0;32m      1\u001b[0m \u001b[38;5;66;03m# THE OBJECT DOES NOT HAVE ANY INSTANCE ATTRIBUTE AS OF NOW\u001b[39;00m\n\u001b[1;32m----> 2\u001b[0m \u001b[38;5;28mprint\u001b[39m(\u001b[43mp\u001b[49m\u001b[38;5;241;43m.\u001b[39;49m\u001b[43mname\u001b[49m)\n",
      "\u001b[1;31mAttributeError\u001b[0m: 'Person' object has no attribute 'name'"
     ]
    }
   ],
   "source": [
    "\n",
    "# THE OBJECT DOES NOT HAVE ANY INSTANCE ATTRIBUTE AS OF NOW\n",
    "print(p.name)\n"
   ]
  },
  {
   "cell_type": "code",
   "execution_count": 62,
   "id": "d25b65fc-f3e7-4a1f-87fd-476e2dce3c7a",
   "metadata": {},
   "outputs": [
    {
     "name": "stdout",
     "output_type": "stream",
     "text": [
      "Avinash\n"
     ]
    }
   ],
   "source": [
    "\n",
    "\n",
    "p.change_name(\"Avinash\")             # creates an instance attribute for the object p of type Person and assigns \"Avinash\" to it\n",
    "\n",
    "\n",
    "# THE OBJECT NOW HAVE ANY INSTANCE ATTRIBUTE \"name\"\n",
    "print(p.name)                                                                                   # OUTPUT: Avinash\n"
   ]
  },
  {
   "cell_type": "markdown",
   "id": "272c5e37-a8d8-4b53-878e-b262cd1afcd7",
   "metadata": {},
   "source": [
    "<br>\n",
    "\n",
    "We can verify it by &nbsp;<code style=\"background-color: #80ffff;\">objectname.\\_\\_dict__.keys()</code>&nbsp; also"
   ]
  },
  {
   "cell_type": "code",
   "execution_count": 63,
   "id": "7f3c9e74-5100-4b8c-afa6-21ecdf5a7401",
   "metadata": {},
   "outputs": [
    {
     "name": "stdout",
     "output_type": "stream",
     "text": [
      "{}\n",
      "[]\n",
      "{'name': 'Avinash'}\n",
      "['name']\n",
      "Avinash\n"
     ]
    }
   ],
   "source": [
    "\n",
    "class Person:    \n",
    "    # instance  method\n",
    "    def change_name(self, name):     \n",
    "        self.name = name             # instance  attribute\n",
    "\n",
    "\n",
    "p = Person()                         # creates an object p of type Person\n",
    "\n",
    "\n",
    "# THE OBJECT DOES NOT HAVE ANY INSTANCE ATTRIBUTE AS OF NOW\n",
    "print(p.__dict__)                                                                              # OUTPUT: {}\n",
    "print(list(p.__dict__.keys()))                                                                 # OUTPUT: []\n",
    "# print(p.name)                                                                                # AttributeError: 'Person' object has no attribute 'name'\n",
    "\n",
    "\n",
    "p.change_name(\"Avinash\")             # creates an instance attribute for the object p of type Person and assigns \"Avinash\" to it\n",
    "\n",
    "\n",
    "# THE OBJECT NOW HAVE ANY INSTANCE ATTRIBUTE \"name\"\n",
    "print(p.__dict__)                                                                               # OUTPUT: {'name': 'Avinash'}\n",
    "print(list(p.__dict__.keys()))                                                                  # OUTPUT: ['name']\n",
    "print(p.name)                                                                                   # OUTPUT: Avinash\n"
   ]
  },
  {
   "cell_type": "markdown",
   "id": "6abef87b-fb3e-4cff-b74c-7cf1e4f59068",
   "metadata": {},
   "source": [
    "<br>\n",
    "\n",
    "<span style=\"color: #06fff0; font-size: 0.7rem;\">■■■■■■■■■■■■■■■■■■■■■■■■■■■■■■■■■■■■■■■■■■■■■■■■■■■■■■■■■■■■■■■■■■■■■■■■■■■■■■■■■■■■■■■■■■■■■■■■■■■■■■■■■■■■■■■</span>\n",
    "\n",
    "<br>\n",
    "\n",
    "**Class &nbsp;Attribute &nbsp;Storage**\n",
    "\n",
    "Python stores class variables in the &nbsp;<code style=\"color: red;\">\\_\\_dict__</code>&nbsp; attribute. &nbsp;The &nbsp;<code style=\"color: red;\">\\_\\_dict__</code>&nbsp; is a &nbsp;<u>mapping proxy</u>&nbsp;, which is a &nbsp;<span style=\"background-color: #ffd39a;\">dictionary</span>. \n"
   ]
  },
  {
   "cell_type": "code",
   "execution_count": 46,
   "id": "a3c10fd2-8d21-4df1-a31b-4a1f01f2fe07",
   "metadata": {},
   "outputs": [
    {
     "name": "stdout",
     "output_type": "stream",
     "text": [
      "mappingproxy({'__dict__': <attribute '__dict__' of 'HtmlDocument' objects>,\n",
      "              '__doc__': None,\n",
      "              '__module__': '__main__',\n",
      "              '__weakref__': <attribute '__weakref__' of 'HtmlDocument' objects>,\n",
      "              'extension': 'html',\n",
      "              'media_type': 'text/html',\n",
      "              'version': '5'})\n"
     ]
    }
   ],
   "source": [
    "\n",
    "from pprint import pprint\n",
    "\n",
    "class HtmlDocument:\n",
    "    extension = 'html'\n",
    "    version = '5'\n",
    "\n",
    "HtmlDocument.media_type = 'text/html'\n",
    "\n",
    "pprint(HtmlDocument.__dict__)\n"
   ]
  },
  {
   "cell_type": "markdown",
   "id": "ca21c15c-247d-46a3-81e8-b1387e034908",
   "metadata": {},
   "source": [
    "<br>\n",
    "\n",
    "As clearly shown in the output, the &nbsp;<code style=\"color: red;\">\\_\\_dict__</code>&nbsp; has **three class variables**: &nbsp;<code style=\"color: blue;\">extension</code>&nbsp;, &nbsp;<code style=\"color: blue;\">media_type</code>&nbsp;, and &nbsp;<code style=\"color: blue;\">version</code>&nbsp; <u>besides other predefined class variables</u>.\n",
    "\n",
    "Python **does not allow** you to change the &nbsp;<code style=\"color: red;\">\\_\\_dict__</code>&nbsp; **directly**. &nbsp;For example, the following will result in an <span style=\"color: red;\"><strong>error</strong></span> :"
   ]
  },
  {
   "cell_type": "code",
   "execution_count": 48,
   "id": "6e486ad7-a87f-4301-ad62-5a639352fba8",
   "metadata": {},
   "outputs": [
    {
     "ename": "TypeError",
     "evalue": "'mappingproxy' object does not support item assignment",
     "output_type": "error",
     "traceback": [
      "\u001b[1;31m---------------------------------------------------------------------------\u001b[0m",
      "\u001b[1;31mTypeError\u001b[0m                                 Traceback (most recent call last)",
      "Cell \u001b[1;32mIn[48], line 1\u001b[0m\n\u001b[1;32m----> 1\u001b[0m \u001b[43mHtmlDocument\u001b[49m\u001b[38;5;241;43m.\u001b[39;49m\u001b[38;5;18;43m__dict__\u001b[39;49m\u001b[43m[\u001b[49m\u001b[38;5;124;43m'\u001b[39;49m\u001b[38;5;124;43mversion\u001b[39;49m\u001b[38;5;124;43m'\u001b[39;49m\u001b[43m]\u001b[49m \u001b[38;5;241m=\u001b[39m \u001b[38;5;241m6\u001b[39m\n",
      "\u001b[1;31mTypeError\u001b[0m: 'mappingproxy' object does not support item assignment"
     ]
    }
   ],
   "source": [
    "\n",
    "HtmlDocument.__dict__['version'] = 6\n"
   ]
  },
  {
   "cell_type": "markdown",
   "id": "4defdd2a-8ab1-4fc3-829c-349a6c19e957",
   "metadata": {},
   "source": [
    "<br>\n",
    "\n",
    "However, you can use the &nbsp;<code style=\"color: red;\">setattr()</code>&nbsp; function or &nbsp;**dot &nbsp;notation**&nbsp; to indirectly change the &nbsp;<code style=\"color: red;\">\\_\\_dict__</code> attribute.\n",
    "\n",
    "Also, the key of the &nbsp;<code style=\"color: red;\">\\_\\_dict__</code>&nbsp; are strings that will <u>help Python speeds up the variable lookup</u>.\n",
    "\n",
    "Although Python allows you to access class variables through the &nbsp;<code style=\"color: red;\">\\_\\_dict__</code>&nbsp; dictionary, it’s **not a good practice**. Also, it won’t work in some situations. For example:"
   ]
  },
  {
   "cell_type": "code",
   "execution_count": 53,
   "id": "d31c7e89-1e54-48d8-ac8d-2c67ceff5c1b",
   "metadata": {},
   "outputs": [
    {
     "name": "stdout",
     "output_type": "stream",
     "text": [
      "text/html\n"
     ]
    }
   ],
   "source": [
    "\n",
    "print(HtmlDocument.__dict__['media_type'])     # BAD CODE\n"
   ]
  },
  {
   "cell_type": "markdown",
   "id": "d28444dc-e3da-42bf-92cd-14c5efe8c674",
   "metadata": {},
   "source": [
    "\n",
    "<br>\n",
    "\n",
    "<span style=\"color: #06fff0; font-size: 0.7rem;\">■■■■■■■■■■■■■■■■■■■■■■■■■■■■■■■■■■■■■■■■■■■■■■■■■■■■■■■■■■■■■■■■■■■■■■■■■■■■■■■■■■■■■■■■■■■■■■■■■■■■■■■■■■■■■■■</span>\n",
    "\n",
    "<br>\n",
    "\n",
    "<div style=\"background-color: #ffe6ce; padding-top: 15px; padding-bottom: 5px; padding-left: 15px;\">\n",
    "\n",
    "<strong>NOTE</strong> &nbsp;-&nbsp; To get the list of all <code style=\"background-color: #ffe6ce; color: blue; font-size: 1rem;\"><strong>class attributes</strong></code> and <code style=\"background-color: #ffe6ce; color: blue; font-size: 1rem;\"><strong>instance attributes</strong></code>:\n",
    "\n",
    "&nbsp;&nbsp;&nbsp;&nbsp;&nbsp;&nbsp;&nbsp;&nbsp;&nbsp;&nbsp;&nbsp;&nbsp;&nbsp;&nbsp;&nbsp;&nbsp;<span style=\"font-size: 0.7rem;\">■</span>&nbsp;&nbsp;&nbsp;&nbsp;<code style=\"background-color: white;\"><span style=\"color: red;\">ClassName</span>.<span style=\"color: blue;\">\\_\\_dict__</span>.keys() </code>\n",
    "\n",
    "&nbsp;&nbsp;&nbsp;&nbsp;&nbsp;&nbsp;&nbsp;&nbsp;&nbsp;&nbsp;&nbsp;&nbsp;&nbsp;&nbsp;&nbsp;&nbsp;<span style=\"font-size: 0.7rem;\">■</span>&nbsp;&nbsp;&nbsp;&nbsp;<code style=\"background-color: white;\"><span style=\"color: red;\">objectname</span>.<span style=\"color: blue;\">\\_\\_dict__</span>.keys()</code>\n",
    "    \n",
    "</div>\n"
   ]
  },
  {
   "cell_type": "code",
   "execution_count": 57,
   "id": "aeafdb65-e32e-4fe7-ae44-9b1be7508204",
   "metadata": {},
   "outputs": [
    {
     "name": "stdout",
     "output_type": "stream",
     "text": [
      "Avinash Mishra\n"
     ]
    }
   ],
   "source": [
    "\n",
    "class Student:\n",
    "\n",
    "    college_name = \"abc\"                  # class attribute\n",
    "    name = \"anonymous\"                    # class attribute\n",
    "\n",
    "    # CONSTRUCTOR\n",
    "    def __init__(self, name, marks):\n",
    "        self.name = name                  # object atrribute\n",
    "        self.marks = marks                # object attribute\n",
    "\n",
    "\n",
    "s1 = Student(\"Avinash Mishra\", 88)\n",
    "\n",
    "print(s1.name)                            # Output    ======>    \"Avinash Mishra\"     not     \"anonymous\"\n"
   ]
  },
  {
   "cell_type": "markdown",
   "id": "f660286e-0730-4c11-ae32-c7d66a7dd99e",
   "metadata": {},
   "source": [
    "<br>\n",
    "\n",
    "Now let's compare the the type of &nbsp;<code style=\"color: blue;\">\\_\\_dict__</code>&nbsp; in both &nbsp;<code style=\"color: red;\">objectname.<span style=\"color: blue;\">\\_\\_dict__</span></code>&nbsp;&nbsp;  & &nbsp;&nbsp;<code style=\"color: red;\">ClassName.<span style=\"color: blue;\">\\_\\_dict__</span></code>"
   ]
  },
  {
   "cell_type": "code",
   "execution_count": 58,
   "id": "e2fb55d6-5b7f-44d3-a91a-21ab03ccf898",
   "metadata": {},
   "outputs": [
    {
     "name": "stdout",
     "output_type": "stream",
     "text": [
      "<class 'mappingproxy'>\n",
      "<class 'dict'>\n"
     ]
    }
   ],
   "source": [
    "\n",
    "print(type(Student.__dict__))\n",
    "\n",
    "print(type(s1.__dict__))\n"
   ]
  },
  {
   "cell_type": "markdown",
   "id": "c0b08381-3246-4fe8-8506-3418247a0053",
   "metadata": {},
   "source": [
    "<br>\n",
    "\n",
    "<span style=\"color: red;\">List &nbsp;of &nbsp;**class** &nbsp;attributes</span>"
   ]
  },
  {
   "cell_type": "code",
   "execution_count": 74,
   "id": "eee60dbd-384e-4baf-a991-be2f6feb1a7b",
   "metadata": {},
   "outputs": [
    {
     "data": {
      "text/plain": [
       "['__module__',\n",
       " 'college_name',\n",
       " 'name',\n",
       " '__init__',\n",
       " '__dict__',\n",
       " '__weakref__',\n",
       " '__doc__']"
      ]
     },
     "execution_count": 74,
     "metadata": {},
     "output_type": "execute_result"
    }
   ],
   "source": [
    "\n",
    "list( Student.__dict__.keys() )\n"
   ]
  },
  {
   "cell_type": "markdown",
   "id": "55b1cc96-489b-4245-affb-0c295f87e2f2",
   "metadata": {},
   "source": [
    "<br>\n",
    "\n",
    "<span style=\"color: red;\">List &nbsp;of &nbsp;**instance** &nbsp;attributes</span>"
   ]
  },
  {
   "cell_type": "code",
   "execution_count": 75,
   "id": "5444b628-e73c-42e9-a1d7-7f082995262e",
   "metadata": {},
   "outputs": [
    {
     "data": {
      "text/plain": [
       "['name', 'marks']"
      ]
     },
     "execution_count": 75,
     "metadata": {},
     "output_type": "execute_result"
    }
   ],
   "source": [
    "\n",
    "list( s1.__dict__.keys() )\n"
   ]
  },
  {
   "cell_type": "markdown",
   "id": "4e305bb4-6d67-4885-9bab-18b190829195",
   "metadata": {},
   "source": [
    "<br>\n",
    "\n",
    "<span style=\"color: #06fff0; font-size: 0.7rem;\">■■■■■■■■■■■■■■■■■■■■■■■■■■■■■■■■■■■■■■■■■■■■■■■■■■■■■■■■■■■■■■■■■■■■■■■■■■■■■■■■■■■■■■■■■■■■■■■■■■■■■■■■■■■■■■■</span>\n",
    "\n",
    "<br>\n",
    "\n",
    "<div style=\"background-color: #ffe6ce; padding-left: 20px; padding-top: 30px; padding-bottom: 15px; padding-right: 5px;\">\n",
    "    \n",
    "It is important to note that <span style=\"color: blue;\">no two **instance attributes** can have the same name</span>. &nbsp;Similarly <span style=\"color: blue;\">no two **class attributes** can have the same name</span>.  <br>\n",
    "But if you have a <u>class attribute</u> with the **same name** as that of an <u>instance attribute</u>, follow the standard procedure : <br>\n",
    "&nbsp;&nbsp;&nbsp;&nbsp;&nbsp;&nbsp;&nbsp;&nbsp;&nbsp;&nbsp;&nbsp;&nbsp;&nbsp;&nbsp;**<span style=\"color: blue;\">class attribute</span>** &nbsp;&nbsp;&nbsp;&nbsp;&nbsp;&nbsp;&nbsp;&nbsp;&nbsp;&nbsp;➜&nbsp;&nbsp;&nbsp;&nbsp; <code style=\"background-color: white;\"><span style=\"color: red;\">ClassName</span>.attributename </code>  <br>\n",
    "&nbsp;&nbsp;&nbsp;&nbsp;&nbsp;&nbsp;&nbsp;&nbsp;&&nbsp;&nbsp; <strong><span style=\"color: blue;\">instance attribute</span></strong> &nbsp;&nbsp;&nbsp;&nbsp;➜&nbsp;&nbsp;&nbsp;&nbsp; <code style=\"background-color: white;\"><span style=\"color: red;\">objectname</span>.attributename</code>\n",
    "\n",
    "<br>\n",
    "\n",
    "Also note that since you can access a <u>class attribute</u> through an <u>object</u> also, therefore if you see something like &nbsp;<code style=\"background-color: white;\"><span style=\"color: red;\">objectname</span>.attributename</code>, remember that the Python internally resolves the confusion by :                                                                                        <br>\n",
    "&nbsp;&nbsp;&nbsp;&nbsp;&nbsp;&nbsp;&nbsp;&nbsp;1)&nbsp;&nbsp; first searching it in the list of &nbsp;**<span style=\"color: blue;\">instance attributes</span>**                      <br>\n",
    "&nbsp;&nbsp;&nbsp;&nbsp;&nbsp;&nbsp;&nbsp;&nbsp;2)&nbsp;&nbsp; if not found, then in the list of &nbsp;**<span style=\"color: blue;\">class attributes</span>**                         <br>\n",
    "</div>\n"
   ]
  },
  {
   "cell_type": "code",
   "execution_count": 154,
   "id": "0ae370e8-363b-4bc5-adb8-d8ac4b0a6a2a",
   "metadata": {},
   "outputs": [
    {
     "name": "stdout",
     "output_type": "stream",
     "text": [
      "anonymous\n"
     ]
    }
   ],
   "source": [
    "\n",
    "class Student:\n",
    "    \n",
    "    name = \"anonymous\"                    # class  attribute  \"name\"\n",
    "\n",
    "s1 = Student()\n",
    "\n",
    "print(s1.name)                            # OUTPUT  =======>  \"anonymous\"  <=======  accessing class attribute through an object\n",
    "                                          "
   ]
  },
  {
   "cell_type": "code",
   "execution_count": 157,
   "id": "f2fa9414-3786-4562-93ca-d70db92bf703",
   "metadata": {},
   "outputs": [
    {
     "name": "stdout",
     "output_type": "stream",
     "text": [
      "Avinash Mishra\n"
     ]
    }
   ],
   "source": [
    "\n",
    "class Student:\n",
    "\n",
    "    name = \"anonymous\"                    # class   attribute  \"name\"\n",
    "\n",
    "    def __init__(self, name):\n",
    "        self.name = name                  # object  atrribute  \"name\"\n",
    "\n",
    "s1 = Student(\"Avinash Mishra\")\n",
    "\n",
    "print(s1.name)                            # OUTPUT   =======>  \"Avinash Mishra\"     not     \"anonymous\"\n"
   ]
  },
  {
   "cell_type": "markdown",
   "id": "2a352e14-6bf8-425f-b2f2-e561096a35be",
   "metadata": {},
   "source": [
    "<br>\n",
    "\n",
    "<span style=\"color: #06fff0; font-size: 0.7rem;\">■■■■■■■■■■■■■■■■■■■■■■■■■■■■■■■■■■■■■■■■■■■■■■■■■■■■■■■■■■■■■■■■■■■■■■■■■■■■■■■■■■■■■■■■■■■■■■■■■■■■■■■■■■■■■■■</span>\n",
    "\n",
    "<br>\n",
    "\n",
    "Summary:\n",
    "\n",
    "<div style=\"background-color: #ffe6ce; padding-top: 15px; padding-bottom: 4px;\">\n",
    "\n",
    "&nbsp;&nbsp;&nbsp;&nbsp;<span style=\"font-size: 0.7rem; color: red;\">■</span>&nbsp;&nbsp;&nbsp;A class is an **object** which is an instance of the class <code style=\"color: red; background-color: white;\">type</code>&nbsp; <br>\n",
    "\n",
    "&nbsp;&nbsp;&nbsp;&nbsp;<span style=\"font-size: 0.7rem; color: red;\">■</span>&nbsp;&nbsp;&nbsp;Class variables are attributes of the class object, also known as class attributes<br>\n",
    "\n",
    "&nbsp;&nbsp;&nbsp;&nbsp;<span style=\"font-size: 0.7rem; color: red;\">■</span>&nbsp;&nbsp;&nbsp;A class attribute is shared by all instances of the class. To define a class attribute, you place it outside of the &nbsp;<code style=\"background-color: white; color: red;\">\\_\\_init__()</code>&nbsp; method.\n",
    "\n",
    "&nbsp;&nbsp;&nbsp;&nbsp;<span style=\"font-size: 0.7rem; color: red;\">■</span>&nbsp;&nbsp;&nbsp;Use &nbsp;<code style=\"background-color: white;\"><span style=\"color: red;\">ClassName</span>.class_attribute</code>&nbsp; or &nbsp;<code style=\"background-color: white;\"><span style=\"color: red;\">object_name</span>.class_attribute</code>&nbsp; to access the value of the class_attribute.\n",
    "\n",
    "&nbsp;&nbsp;&nbsp;&nbsp;<span style=\"font-size: 0.7rem; color: red;\">■</span>&nbsp;&nbsp;&nbsp;Use **dot notation** or &nbsp;<code style=\"color: blue; background-color: white;\">getattr()</code>&nbsp; function to get the value of a class attribute <br>\n",
    "\n",
    "&nbsp;&nbsp;&nbsp;&nbsp;<span style=\"font-size: 0.7rem; color: red;\">■</span>&nbsp;&nbsp;&nbsp;Use **dot notation** or &nbsp;<code style=\"color: blue; background-color: white;\">setattr()</code>&nbsp; function to set the value of a class attribute <br>\n",
    "\n",
    "&nbsp;&nbsp;&nbsp;&nbsp;<span style=\"font-size: 0.7rem; color: red;\">■</span>&nbsp;&nbsp;&nbsp;Use &nbsp;<code style=\"background-color: #b4ff98;\">del</code>&nbsp; along with **dot notation** or &nbsp;<code style=\"color: blue; background-color: white;\">delattr()</code>&nbsp; function to delete a class attribute <br>\n",
    "\n",
    "&nbsp;&nbsp;&nbsp;&nbsp;<span style=\"font-size: 0.7rem; color: red;\">■</span>&nbsp;&nbsp;&nbsp;Python is a **dynamic language**. Therefore, you can assign a class variable to a class at **runtime** <br>\n",
    "\n",
    "&nbsp;&nbsp;&nbsp;&nbsp;<span style=\"font-size: 0.7rem; color: red;\">■</span>&nbsp;&nbsp;&nbsp;Python stores class variables in the &nbsp;<code style=\"background-color: white; color: red;\">\\_\\_dict__</code>&nbsp; attribute. The &nbsp;<code style=\"background-color: white; color: red;\">\\_\\_dict__</code>&nbsp; attribute is a **dictionary** <br>\n",
    "\n",
    "&nbsp;&nbsp;&nbsp;&nbsp;<span style=\"font-size: 0.7rem; color: red;\">■</span>&nbsp;&nbsp;&nbsp;<code style=\"background-color: white;\"><span style=\"color: red;\">ClassName</span>.\\_\\_dict__ </code> &nbsp;returns the lists of **class attributes** <br>\n",
    "\n",
    "&nbsp;&nbsp;&nbsp;&nbsp;<span style=\"font-size: 0.7rem; color: red;\">■</span>&nbsp;&nbsp;&nbsp;<code style=\"background-color: white;\"><span style=\"color: red;\">objectname</span>.\\_\\_dict__ </code> &nbsp;returns the lists of object attributes (or more popularly known as **instance attributes**) <br>\n",
    "\n",
    "&nbsp;&nbsp;&nbsp;&nbsp;<span style=\"font-size: 0.7rem; color: red;\">■</span>&nbsp;&nbsp;&nbsp;Use class attributes for &nbsp;<u>storing class contants</u>, &nbsp;<u>track data across all instances</u>, and &nbsp;<u>setting default values for all instances of the class</u>.\n",
    "\n",
    "\n",
    "</div>\n"
   ]
  },
  {
   "cell_type": "markdown",
   "id": "4a294548-6ff9-4e56-824d-588fae4831f6",
   "metadata": {},
   "source": [
    "<br>\n",
    "\n",
    "<span style=\"color: #DCBD10; font-size: 1.2rem;\">▬▬▬▬▬▬▬▬▬▬▬▬▬▬▬▬▬▬▬▬▬▬▬▬▬▬▬▬▬▬▬▬▬▬▬▬▬▬▬▬▬▬▬▬▬▬▬▬▬▬▬▬▬▬▬▬</span>\n"
   ]
  },
  {
   "cell_type": "markdown",
   "id": "60614bd4-d3dd-4e31-a062-189c7a3ebe37",
   "metadata": {
    "jp-MarkdownHeadingCollapsed": true
   },
   "source": [
    "<br>\n",
    "\n",
    "### <span style=\"color: blue; font-size: 1rem;\"><strong>Class &nbsp;Methods</strong></span>"
   ]
  },
  {
   "cell_type": "markdown",
   "id": "fb681e26-4c0e-4edf-bea0-054eb6054b06",
   "metadata": {},
   "source": [
    "<br>\n",
    "\n",
    "Like a class attribute, a class method is <u>shared by all instances of the class</u>. &nbsp;<code>The first argument of a class method is the class itself</code>. &nbsp;By convention, it's name is &nbsp;<code style=\"background-color: yellow;\">cls</code>. &nbsp;Python automatically passes this argument to the class method. &nbsp;Also, you use the &nbsp;<code style=\"background-color: yellow;\">@classmethod</code>&nbsp; **decorator** &nbsp;to decorate a class method.\n",
    "\n",
    "<br>\n",
    "\n",
    "<div style=\"background-color: #ffe0b0; padding: 10px;\">\n",
    "The standard way of calling a &nbsp;<strong>class method</strong>&nbsp; is &nbsp;<code style=\"background-color: white;\"><span style=\"color: red;\">ClassName</span>.<span style=\"color: blue;\">classmethodname()</span></code>\n",
    "</div>"
   ]
  },
  {
   "cell_type": "code",
   "execution_count": 34,
   "id": "9d3b1462-306c-419f-b3fb-77209e2982ee",
   "metadata": {},
   "outputs": [
    {
     "name": "stdout",
     "output_type": "stream",
     "text": [
      "Anonymous\n",
      "22\n"
     ]
    }
   ],
   "source": [
    "\n",
    "class Person:\n",
    "    counter = 0\n",
    "\n",
    "    def __init__(self, name, age):         # CONSTRUCTOR   ===>   # instance method\n",
    "        self.name = name\n",
    "        self.age = age\n",
    "        Person.counter += 1                # ==========================================>  updates  the  class  attribute  \"counter\"\n",
    "\n",
    "    def greet(self):                                              # instance method\n",
    "        return f\"Hi, it's {self.name}.\"\n",
    "\n",
    "    @classmethod                           # DECORATOR\n",
    "    def create_anonymous(cls):                                    # class method\n",
    "        return Person('Anonymous', 22)\n",
    "\n",
    "\n",
    "anonymous = Person.create_anonymous()      # ==========================================>  calls  the  class  method  using  <ClassName.classmethodname>\n",
    "print(anonymous.name)                      # OUTPUT: Anonymous\n",
    "print(anonymous.age)                       # OUTPUT: 22\n"
   ]
  },
  {
   "cell_type": "markdown",
   "id": "29713f4c-6d1f-4da9-925d-b3fc5dc067a0",
   "metadata": {},
   "source": [
    "\n",
    "\n",
    "<br>\n",
    "\n",
    "Although **not recommended**, but like <u>class attributes</u> you can call <u>class methods</u> also through an <u>object</u> &nbsp;&nbsp;&nbsp;➜&nbsp;&nbsp;&nbsp; <code><span style=\"color: red;\">objectname</span>.<span style=\"color: blue;\">classmethodname()</span></code>"
   ]
  },
  {
   "cell_type": "code",
   "execution_count": 205,
   "id": "757b7571-be5f-48f5-8a98-23bd1069ae14",
   "metadata": {},
   "outputs": [
    {
     "name": "stdout",
     "output_type": "stream",
     "text": [
      "Instance method called\n",
      "Class method called\n",
      "Class method called\n"
     ]
    }
   ],
   "source": [
    "\n",
    "class MyClass:\n",
    "    def instance_method(self):\n",
    "        print(\"Instance method called\")\n",
    "\n",
    "    @classmethod\n",
    "    def class_method(cls):\n",
    "        print(\"Class method called\")\n",
    "\n",
    "\n",
    "# Create an instance of MyClass\n",
    "obj = MyClass()\n",
    "\n",
    "# calls the instance method\n",
    "obj.instance_method()                                                           # OUTPUT: \"Instance method called\"\n",
    "\n",
    "# calls the class method using the class name\n",
    "MyClass.class_method()                                                          # OUTPUT: \"Class method called\"      ====>   Method-1\n",
    "\n",
    "# calls the class method using the instance (not recommended but possible)\n",
    "obj.class_method()                                                              # OUTPUT: \"Class method called\"      ====>   Method-2\n"
   ]
  },
  {
   "cell_type": "markdown",
   "id": "3c370daa-afdb-471a-8483-86916944ae57",
   "metadata": {},
   "source": [
    "<br>\n",
    "\n",
    "Let's take another example :"
   ]
  },
  {
   "cell_type": "code",
   "execution_count": 37,
   "id": "2d485243-5483-410f-a3ff-62dfedefd1c4",
   "metadata": {},
   "outputs": [
    {
     "name": "stdout",
     "output_type": "stream",
     "text": [
      "Examination Date - 01/01/2024 \n",
      "Your application for leave is approved\n"
     ]
    }
   ],
   "source": [
    "\n",
    "class Student:\n",
    "\n",
    "    college_name = \"abc\"                                    # class attribute \"college_name\"\n",
    "    name = \"anonymous\"                                      # class attribute \"name\"\n",
    "\n",
    "    def __init__(self, name):             # CONSTRUCTOR\n",
    "        self.name = name                                    # instance atrribute \"name\"\n",
    "\n",
    "    @classmethod                          # DECORATOR\n",
    "    def notify(cls, message):\n",
    "        print(message)\n",
    "\n",
    "\n",
    "Student.notify(\"Examination Date - 01/01/2024 \")             # METHOD - 1    ====>   <ClassName.classmethodname>\n",
    "\n",
    "s1 = Student(\"Avinash Mishra\")\n",
    "s1.notify(\"Your application for leave is approved\")          # METHOD - 2    ====>   <objectname.classmethodname> \n"
   ]
  },
  {
   "cell_type": "markdown",
   "id": "e267e22e-5331-4a1e-a200-9b2ee67822f2",
   "metadata": {},
   "source": [
    "<br>\n",
    "\n",
    "However, if you want to call a <u>class method</u> through an <u>object</u> &nbsp;**from within the class**, you can use &nbsp;<code><span style=\"color: red;\">self.\\_\\_class__</span>.<span style=\"color: blue;\">classmethodname()</code>&nbsp; also :"
   ]
  },
  {
   "cell_type": "code",
   "execution_count": 36,
   "id": "45b28809-3fb6-41ce-ba07-0af61ac551c2",
   "metadata": {},
   "outputs": [
    {
     "name": "stdout",
     "output_type": "stream",
     "text": [
      "Examination Date - 01/01/2024 \n",
      "Welcome\n",
      "Your leaves are granted\n"
     ]
    }
   ],
   "source": [
    "\n",
    "class Student:\n",
    "\n",
    "    college_name = \"abc\"                                    # class attribute \"college_name\"\n",
    "    name = \"anonymous\"                                      # class attribute \"name\"\n",
    "\n",
    "    def __init__(self, name):             # CONSTRUCTOR\n",
    "        self.name = name                                    # instance atrribute \"name\"\n",
    "        self.__class__.notify(\"Welcome\")                                                           # METHOD - 3  ==>  <self.__class__.classmethodname>  \n",
    "\n",
    "    @classmethod                          # DECORATOR\n",
    "    def notify(cls, message):\n",
    "        print(message)\n",
    "\n",
    "\n",
    "Student.notify(\"Examination Date - 01/01/2024 \")     # OUTPUT: Examination Date - 01/01/2024       # METHOD - 1  ==>  <ClassName.classmethodname>\n",
    "\n",
    "s1 = Student(\"Avinash Mishra\")                       # OUTPUT: Welcome\n",
    "s1.notify(\"Your leaves are granted\")                 # OUTPUT: Your leaves are granted             # METHOD - 2  ==>  <objectname.classmethodname> \n"
   ]
  },
  {
   "cell_type": "markdown",
   "id": "54488a99-3c9d-41ac-8083-01cd1e6d73b7",
   "metadata": {},
   "source": [
    "<br>\n",
    "\n",
    "Let's summarise it :\n",
    "\n",
    "<div style=\"background-color: #ffe6ce; padding: 10px;\">\n",
    "    \n",
    "<code style=\"background-color: #ffe6ce;\">Different ways of accessing a <span style=\"font-size: 1rem;\"><strong>class method</strong></span>:</code> <br>\n",
    "\n",
    "&nbsp;&nbsp;&nbsp;&nbsp;&nbsp;&nbsp;&nbsp;&nbsp;&nbsp;<span style=\"font-size: 0.7rem;\">■</span>&nbsp;&nbsp;&nbsp;&nbsp;<code style=\"background-color: white;\"><span style=\"color: red;\">ClassName</span>.<span style=\"color: blue;\">classmethodname()</span>     </code>&nbsp;&nbsp;&nbsp;&nbsp;&nbsp;&nbsp;(Recommended - applicable to all places)  &nbsp;&nbsp;&nbsp;&nbsp;&nbsp;&nbsp;&nbsp;&nbsp;&nbsp;&nbsp;&nbsp;&nbsp;&nbsp;&nbsp;&nbsp;&nbsp;&nbsp;&nbsp;&nbsp;&nbsp;&nbsp;&nbsp;&nbsp;&nbsp;&nbsp;&nbsp;&nbsp;&nbsp;&nbsp;&nbsp;&nbsp;&nbsp;&nbsp;&nbsp;&nbsp;&nbsp;&nbsp;&nbsp;&nbsp;&nbsp;&nbsp;&nbsp;&nbsp;&nbsp;&nbsp;&nbsp;&nbsp;&nbsp;&nbsp;&nbsp;&nbsp;&nbsp;&nbsp;&nbsp;&nbsp;&nbsp;&nbsp;&nbsp;&nbsp;&nbsp;&nbsp;&nbsp;&nbsp;&nbsp;&nbsp;&nbsp;&nbsp;&nbsp;&nbsp;&nbsp;&nbsp;&nbsp;&nbsp;&nbsp;&nbsp;&nbsp;&nbsp;&nbsp;&nbsp;&nbsp;&nbsp;<span style=\"color: #9a9493;\">cm1</span><br>\n",
    "\n",
    "&nbsp;&nbsp;&nbsp;&nbsp;&nbsp;&nbsp;&nbsp;&nbsp;&nbsp;<span style=\"font-size: 0.7rem;\">■</span>&nbsp;&nbsp;&nbsp;&nbsp;<code style=\"background-color: white;\"><span style=\"color: red;\">self.\\_\\_class__.</span><span style=\"color: blue;\">classmethodname()</span></code>&nbsp;&nbsp;&nbsp;&nbsp;&nbsp;&nbsp;(applicable only when to be used from within an <u>instance method</u>) &nbsp;&nbsp;&nbsp;&nbsp;&nbsp;&nbsp;&nbsp;&nbsp;&nbsp;&nbsp;&nbsp;&nbsp;&nbsp;&nbsp;&nbsp;&nbsp;&nbsp;&nbsp;&nbsp;&nbsp;&nbsp;&nbsp;&nbsp;&nbsp;&nbsp;&nbsp;&nbsp;&nbsp;&nbsp;&nbsp;&nbsp;&nbsp;&nbsp;&nbsp;&nbsp;&nbsp;&nbsp;&nbsp;&nbsp;&nbsp;&nbsp;<span style=\"color: #9a9493;\">cm2</span><br>\n",
    "\n",
    "&nbsp;&nbsp;&nbsp;&nbsp;&nbsp;&nbsp;&nbsp;&nbsp;&nbsp;<span style=\"font-size: 0.7rem;\">■</span>&nbsp;&nbsp;&nbsp;&nbsp;<code style=\"background-color: white;\"><span style=\"color: red;\">cls.</span><span style=\"color: blue;\">classmethodname()</span>           </code>&nbsp;&nbsp;&nbsp;&nbsp;&nbsp;&nbsp;(applicable only when to be used from within an <u>class method</u>) &nbsp;&nbsp;&nbsp;&nbsp;&nbsp;&nbsp;&nbsp;&nbsp;&nbsp;&nbsp;&nbsp;&nbsp;&nbsp;&nbsp;&nbsp;&nbsp;&nbsp;&nbsp;&nbsp;&nbsp;&nbsp;&nbsp;&nbsp;&nbsp;&nbsp;&nbsp;&nbsp;&nbsp;&nbsp;&nbsp;&nbsp;&nbsp;&nbsp;&nbsp;&nbsp;&nbsp;&nbsp;&nbsp;&nbsp;&nbsp;&nbsp;&nbsp;&nbsp;&nbsp;&nbsp;&nbsp;&nbsp;<span style=\"color: #9a9493;\">cm3</span><br>\n",
    "\n",
    "&nbsp;&nbsp;&nbsp;&nbsp;&nbsp;&nbsp;&nbsp;&nbsp;&nbsp;<span style=\"font-size: 0.7rem;\">■</span>&nbsp;&nbsp;&nbsp;&nbsp;<code style=\"background-color: white;\"><span style=\"color: red;\">objectname.</span><span style=\"color: blue;\">classmethodname()</span>    </code>&nbsp;&nbsp;&nbsp;&nbsp;&nbsp;&nbsp;(works but &nbsp;<span style=\"background-color: #ff9580;\">Not Recommended</span>) &nbsp;&nbsp;&nbsp;&nbsp;&nbsp;&nbsp;&nbsp;&nbsp;&nbsp;&nbsp;&nbsp;&nbsp;&nbsp;&nbsp;&nbsp;&nbsp;&nbsp;&nbsp;&nbsp;&nbsp;&nbsp;&nbsp;&nbsp;&nbsp;&nbsp;&nbsp;&nbsp;&nbsp;&nbsp;&nbsp;&nbsp;&nbsp;&nbsp;&nbsp;&nbsp;&nbsp;&nbsp;&nbsp;&nbsp;&nbsp;&nbsp;&nbsp;&nbsp;&nbsp;&nbsp;&nbsp;&nbsp;&nbsp;&nbsp;&nbsp;&nbsp;&nbsp;&nbsp;&nbsp;&nbsp;&nbsp;&nbsp;&nbsp;&nbsp;&nbsp;&nbsp;&nbsp;&nbsp;&nbsp;&nbsp;&nbsp;&nbsp;&nbsp;&nbsp;&nbsp;&nbsp;&nbsp;&nbsp;&nbsp;&nbsp;&nbsp;&nbsp;&nbsp;&nbsp;&nbsp;&nbsp;&nbsp;&nbsp;&nbsp;&nbsp;&nbsp;&nbsp;&nbsp;&nbsp;&nbsp;&nbsp;&nbsp;&nbsp;&nbsp;&nbsp;&nbsp;<span style=\"color: #9a9493;\">cm4</span>\n",
    "</div>"
   ]
  },
  {
   "cell_type": "markdown",
   "id": "ed4d3d7a-b8c6-4bd6-bce9-c7a0b9f28a32",
   "metadata": {},
   "source": [
    "<br>\n",
    "\n",
    "Now that we know how to define a <u>class method</u> and access it in different ways, let's understand all these following ways of accessing a <u>class attribute</u> especially using &nbsp;<code style=\"background-color: yellow;\">cls</code> through an example :\n",
    "\n",
    "<br>\n",
    "\n",
    "<div style=\"background-color: #ffe6ce; padding: 10px;\">\n",
    "    \n",
    "<code style=\"background-color: #ffe6ce;\">Different ways of accessing a <span style=\"font-size: 1rem;\"><strong>class attribute</strong></span>:</code> <br>\n",
    "\n",
    "&nbsp;&nbsp;&nbsp;&nbsp;&nbsp;&nbsp;&nbsp;&nbsp;&nbsp;<span style=\"font-size: 0.7rem;\">■</span>&nbsp;&nbsp;&nbsp;&nbsp;<code style=\"background-color: white;\"><span style=\"color: red;\">ClassName</span>.<span style=\"color: blue;\">classattributename</span>     </code>&nbsp;&nbsp;&nbsp;&nbsp;&nbsp;&nbsp;(Recommended - applicable to all places) &nbsp;&nbsp;&nbsp;&nbsp;&nbsp;&nbsp;&nbsp;&nbsp;&nbsp;&nbsp;&nbsp;&nbsp;&nbsp;&nbsp;&nbsp;&nbsp;&nbsp;&nbsp;&nbsp;&nbsp;&nbsp;&nbsp;&nbsp;&nbsp;&nbsp;&nbsp;&nbsp;&nbsp;&nbsp;&nbsp;&nbsp;&nbsp;&nbsp;&nbsp;&nbsp;&nbsp;&nbsp;&nbsp;&nbsp;&nbsp;&nbsp;&nbsp;&nbsp;&nbsp;&nbsp;&nbsp;&nbsp;&nbsp;&nbsp;&nbsp;&nbsp;&nbsp;&nbsp;&nbsp;&nbsp;&nbsp;&nbsp;&nbsp;&nbsp;&nbsp;&nbsp;&nbsp;&nbsp;&nbsp;&nbsp;&nbsp;&nbsp;&nbsp;&nbsp;&nbsp;&nbsp;&nbsp;&nbsp;&nbsp;&nbsp;&nbsp;&nbsp;&nbsp;&nbsp;&nbsp;&nbsp;<span style=\"color: #9a9493;\">ca1</span><br>\n",
    "\n",
    "&nbsp;&nbsp;&nbsp;&nbsp;&nbsp;&nbsp;&nbsp;&nbsp;&nbsp;<span style=\"font-size: 0.7rem;\">■</span>&nbsp;&nbsp;&nbsp;&nbsp;<code style=\"background-color: white;\"><span style=\"color: red;\">self.\\_\\_class__.</span><span style=\"color: blue;\">classattributename</span></code>&nbsp;&nbsp;&nbsp;&nbsp;&nbsp;&nbsp;(applicable only when to be used from within an <u>instance method</u>) &nbsp;&nbsp;&nbsp;&nbsp;&nbsp;&nbsp;&nbsp;&nbsp;&nbsp;&nbsp;&nbsp;&nbsp;&nbsp;&nbsp;&nbsp;&nbsp;&nbsp;&nbsp;&nbsp;&nbsp;&nbsp;&nbsp;&nbsp;&nbsp;&nbsp;&nbsp;&nbsp;&nbsp;&nbsp;&nbsp;&nbsp;&nbsp;&nbsp;&nbsp;&nbsp;&nbsp;&nbsp;&nbsp;&nbsp;&nbsp;&nbsp;<span style=\"color: #9a9493;\">ca2</span><br>\n",
    "\n",
    "&nbsp;&nbsp;&nbsp;&nbsp;&nbsp;&nbsp;&nbsp;&nbsp;&nbsp;<span style=\"font-size: 0.7rem;\">■</span>&nbsp;&nbsp;&nbsp;&nbsp;<code style=\"background-color: white;\"><span style=\"color: red;\">cls.</span><span style=\"color: blue;\">classattributename</span>           </code>&nbsp;&nbsp;&nbsp;&nbsp;&nbsp;&nbsp;(applicable only when to be used from within an <u>class method</u>) &nbsp;&nbsp;&nbsp;&nbsp;&nbsp;&nbsp;&nbsp;&nbsp;&nbsp;&nbsp;&nbsp;&nbsp;&nbsp;&nbsp;&nbsp;&nbsp;&nbsp;&nbsp;&nbsp;&nbsp;&nbsp;&nbsp;&nbsp;&nbsp;&nbsp;&nbsp;&nbsp;&nbsp;&nbsp;&nbsp;&nbsp;&nbsp;&nbsp;&nbsp;&nbsp;&nbsp;&nbsp;&nbsp;&nbsp;&nbsp;&nbsp;&nbsp;&nbsp;&nbsp;&nbsp;&nbsp;&nbsp;<span style=\"color: #9a9493;\">ca3</span><br>\n",
    "\n",
    "&nbsp;&nbsp;&nbsp;&nbsp;&nbsp;&nbsp;&nbsp;&nbsp;&nbsp;<span style=\"font-size: 0.7rem;\">■</span>&nbsp;&nbsp;&nbsp;&nbsp;<code style=\"background-color: white;\"><span style=\"color: red;\">objectname.</span><span style=\"color: blue;\">classattributename</span>    </code>&nbsp;&nbsp;&nbsp;&nbsp;&nbsp;&nbsp;(works but &nbsp;<span style=\"background-color: #ff9580;\">Not Recommended</span>) &nbsp;&nbsp;&nbsp;&nbsp;&nbsp;&nbsp;&nbsp;&nbsp;&nbsp;&nbsp;&nbsp;&nbsp;&nbsp;&nbsp;&nbsp;&nbsp;&nbsp;&nbsp;&nbsp;&nbsp;&nbsp;&nbsp;&nbsp;&nbsp;&nbsp;&nbsp;&nbsp;&nbsp;&nbsp;&nbsp;&nbsp;&nbsp;&nbsp;&nbsp;&nbsp;&nbsp;&nbsp;&nbsp;&nbsp;&nbsp;&nbsp;&nbsp;&nbsp;&nbsp;&nbsp;&nbsp;&nbsp;&nbsp;&nbsp;&nbsp;&nbsp;&nbsp;&nbsp;&nbsp;&nbsp;&nbsp;&nbsp;&nbsp;&nbsp;&nbsp;&nbsp;&nbsp;&nbsp;&nbsp;&nbsp;&nbsp;&nbsp;&nbsp;&nbsp;&nbsp;&nbsp;&nbsp;&nbsp;&nbsp;&nbsp;&nbsp;&nbsp;&nbsp;&nbsp;&nbsp;&nbsp;&nbsp;&nbsp;&nbsp;&nbsp;&nbsp;&nbsp;&nbsp;&nbsp;&nbsp;&nbsp;&nbsp;&nbsp;&nbsp;&nbsp;&nbsp;&nbsp;<span style=\"color: #9a9493;\">ca4</span>\n",
    "</div>"
   ]
  },
  {
   "cell_type": "code",
   "execution_count": 22,
   "id": "a5684f04-12cf-449b-ae0c-b080d68747b5",
   "metadata": {},
   "outputs": [
    {
     "name": "stdout",
     "output_type": "stream",
     "text": [
      "cls attr 0\n",
      "cls attr 1\n",
      "cls attr 2\n",
      "cls attr 3\n",
      "cls attr 4\n"
     ]
    }
   ],
   "source": [
    "\n",
    "class MyClass:\n",
    "    attr = \"cls attr 0\"                                                                                        #  class attribute\n",
    "\n",
    "    def instance_method(self, attr_value):\n",
    "        MyClass.attr = attr_value                     #  ca1   ===>  <ClassName.classattributename>\n",
    "        self.__class__.attr = attr_value              #  ca2   ===>  <self.__class__.classattributename>\n",
    "        self.__class__.class_method1(attr_value)      #  cm2   ===>  <self.__class__.classmethodname>\n",
    "\n",
    "    @classmethod\n",
    "    def class_method1(cls, attr_value):\n",
    "        cls.attr = attr_value                         #  ca3   ===>   <cls.classattributename>\n",
    "        cls.class_method2(attr_value)                 #  cm3   ===>   <cls.classmethodname>\n",
    "\n",
    "    @classmethod\n",
    "    def class_method2(cls, attr_value):\n",
    "        cls.attr = attr_value                         #  ca3   ===>   <cls.classattributename>\n",
    "\n",
    "####################################################################################################################################################\n",
    "\n",
    "myclass = MyClass()                                                                                            #  creates an object of type Person\n",
    "print(myclass.attr)                                   #  ca4   ===>   <objectname.classattributename>          #  OUTPUT:  \"cls attr 0\"\n",
    "\n",
    "MyClass.attr = \"cls attr 1\"                           #  ca1   ===>   <ClassName.classattributename>\n",
    "print(MyClass.attr)                                   #  ca1   ===>   <ClassName.classattributename>           #  OUTPUT:  \"cls attr 1\"\n",
    "\n",
    "MyClass.class_method1(\"cls attr 2\")                   #  cm1   ===>   <ClassName.classmethodname>\n",
    "print(MyClass.attr)                                   #  ca1   ===>   <ClassName.classattributename>           #  OUTPUT:  \"cls attr 2\"\n",
    "\n",
    "myclass.instance_method(\"cls attr 3\")                                                                          #  <objectnamne.instancemethodname>\n",
    "print(MyClass.attr)                                   #  ca1   ===>   <ClassName.classattributename>           #  OUTPUT:  \"cls attr 3\"\n",
    "\n",
    "myclass.class_method1(\"cls attr 4\")                   #  cm4   ===>   <objectname.classmethodname>\n",
    "print(MyClass.attr)                                   #  ca1   ===>   <ClassName.classattributename>           #  OUTPUT:  \"cls attr 4\"\n"
   ]
  },
  {
   "cell_type": "markdown",
   "id": "527c3da6-61de-42a4-8852-9fe8f11db4b9",
   "metadata": {},
   "source": [
    "<br>\n",
    "\n",
    "<div style=\"background-color: #ffe6ce; padding-top: 12px; padding-bottom: 5px; padding-left: 10px; padding-right: 10px;\">\n",
    "\n",
    "In <code style=\"background-color: #ffe6ce; font-size: 0.9rem;\">Python, if you define both an <u>instance method</u> and a <u>class method</u> with the <u>same name</u> in the <u>same class</u>, <span style=\"font-size: 1rem;\"><strong>the most recently defined method will overwrite the previous one</strong></span> <span style=\"background-color: white;\">irrespective of whether it is called through an object (<strong><span style=\"color: red; font-size: 1rem;\">object.</span><span style=\"color: blue; font-size: 1rem;\">methodname</span></strong>) or through the classname (<strong><span style=\"color: red;  font-size: 1rem;\">classname.</span><span style=\"color: blue;  font-size: 1rem;\">methodname</span></strong>)</span></code>\n",
    "\n",
    "</div>\n",
    "\n",
    "<br>\n",
    "\n",
    "&nbsp;&nbsp;&nbsp;<font size=\"+1\">↳</font> &nbsp;&nbsp;<u>Case - 1</u> : &nbsp;&nbsp;when the most recent method with the same name i.e, &nbsp;<code style=\"background-color: #e7e7e7;\">message</code>&nbsp; is an &nbsp;<span style=\"color: red;\">instance &nbsp;method</span>\n"
   ]
  },
  {
   "cell_type": "code",
   "execution_count": 136,
   "id": "0a123cc3-a9bc-4f92-84f2-c15c4204f046",
   "metadata": {},
   "outputs": [
    {
     "name": "stdout",
     "output_type": "stream",
     "text": [
      "inside instance method\n"
     ]
    }
   ],
   "source": [
    "\n",
    "class Person:\n",
    "\n",
    "    @classmethod\n",
    "    def message(cls):\n",
    "        print(\"inside class method\")\n",
    "\n",
    "    def message(self):\n",
    "        print(\"inside instance method\")\n",
    "\n",
    "p = Person()\n",
    "\n",
    "p.message()\n"
   ]
  },
  {
   "cell_type": "markdown",
   "id": "89183180-e97c-49ca-8215-45c9617a7f37",
   "metadata": {},
   "source": [
    "\n",
    "&nbsp;&nbsp;&nbsp;<font size=\"+1\">↳</font> &nbsp;<u>Case - 2</u> : &nbsp;&nbsp;when the most recent method with the same name i.e, &nbsp;<code style=\"background-color: #e7e7e7;\">message</code>&nbsp; is a &nbsp;<span style=\"color: red;\">class &nbsp;method</span>"
   ]
  },
  {
   "cell_type": "code",
   "execution_count": 138,
   "id": "1dfb2343-3982-4a2a-8312-ecc376584a26",
   "metadata": {},
   "outputs": [
    {
     "name": "stdout",
     "output_type": "stream",
     "text": [
      "inside class method\n"
     ]
    }
   ],
   "source": [
    "\n",
    "class Person:\n",
    "\n",
    "    def message(self):\n",
    "        print(\"inside instance method\")\n",
    "\n",
    "    @classmethod\n",
    "    def message(cls):\n",
    "        print(\"inside class method\")\n",
    "\n",
    "p = Person()\n",
    "\n",
    "p.message()\n"
   ]
  },
  {
   "cell_type": "markdown",
   "id": "0859bd54-16c8-4bbe-8976-0f9796ec7875",
   "metadata": {},
   "source": [
    "<br>\n",
    "\n",
    "<span style=\"color: #06fff0; font-size: 0.7rem;\">■■■■■■■■■■■■■■■■■■■■■■■■■■■■■■■■■■■■■■■■■■■■■■■■■■■■■■■■■■■■■■■■■■■■■■■■■■■■■■■■■■■■■■■■■■■■■■■■■■■■■■■■■■■■■■■</span>\n",
    "\n",
    "<br>\n",
    "\n",
    "<span style=\"color: red;\"> Let us see another example of a **Class Method**</span>"
   ]
  },
  {
   "cell_type": "code",
   "execution_count": 25,
   "id": "3abeb93c-94fa-4197-9e41-267f6f45e1fe",
   "metadata": {},
   "outputs": [
    {
     "name": "stdout",
     "output_type": "stream",
     "text": [
      "2\n",
      "John Doe\n",
      "Manager\n"
     ]
    }
   ],
   "source": [
    "\n",
    "class Employee:\n",
    "    num_employees = 0                                    # Class attribute\n",
    "\n",
    "    def __init__(self, name, position):\n",
    "        self.name = name                                 # Instance attribute\n",
    "        self.position = position                         # Instance attribute\n",
    "        Employee.num_employees += 1\n",
    "\n",
    "    @classmethod\n",
    "    def from_string(cls, employee_str):\n",
    "        name, position = employee_str.split(\" - \")\n",
    "        return cls(name, position)\n",
    "\n",
    "    @classmethod\n",
    "    def get_num_employees(cls):\n",
    "        return cls.num_employees\n",
    "\n",
    "# Creating instances using the class method\n",
    "emp1 = Employee(\"John Doe\", \"Developer\")\n",
    "emp2 = Employee.from_string(\"Jane Smith - Manager\")\n",
    "\n",
    "# Accessing class method\n",
    "print(Employee.get_num_employees())                      # Output: 2\n",
    "\n",
    "# Accessing instance attributes\n",
    "print(emp1.name)                                         # Output: John Doe\n",
    "print(emp2.position)                                     # Output: Manager\n"
   ]
  },
  {
   "cell_type": "markdown",
   "id": "10c9cf39-29a2-46f6-9056-4292e8938ae3",
   "metadata": {},
   "source": [
    "<br>\n",
    "\n",
    "<span style=\"color: #06fff0; font-size: 0.7rem;\">■■■■■■■■■■■■■■■■■■■■■■■■■■■■■■■■■■■■■■■■■■■■■■■■■■■■■■■■■■■■■■■■■■■■■■■■■■■■■■■■■■■■■■■■■■■■■■■■■■■■■■■■■■■■■■■</span>\n",
    "\n",
    "<br>\n",
    "\n",
    "<span style=\"color: red;\">One more example of **Modifying Class-Level Data**</span>\n"
   ]
  },
  {
   "cell_type": "code",
   "execution_count": 32,
   "id": "447ee96e-8aca-4aa9-8834-1916bd4f084d",
   "metadata": {},
   "outputs": [
    {
     "name": "stdout",
     "output_type": "stream",
     "text": [
      "300\n"
     ]
    }
   ],
   "source": [
    "\n",
    "class Warehouse:\n",
    "    total_stock = 0                                      # class  attribute\n",
    "\n",
    "    def __init__(self, name, stock):\n",
    "        self.name = name                                 # creates  or  updates  instance  attribute  \"name\"\n",
    "        self.stock = stock                               # creates  or  updates  instance  attribute  \"stock\"\n",
    "        Warehouse.total_stock += stock                   # updates  the  class  attribute  \"total stock\"  since  it  is  already  created\n",
    "\n",
    "    @classmethod\n",
    "    def update_total_stock(cls, stock_change):\n",
    "        cls.total_stock += stock_change                  # updates  the  class  attribute  \"total stock\"  since  it  is  already  created\n",
    "\n",
    "# Create instances\n",
    "warehouse1 = Warehouse(\"Warehouse A\", 100)\n",
    "warehouse2 = Warehouse(\"Warehouse B\", 150)\n",
    "\n",
    "# Modify total stock using class method\n",
    "Warehouse.update_total_stock(50)\n",
    "\n",
    "print(Warehouse.total_stock)                             # Output: 300 (100 + 150 + 50)\n"
   ]
  },
  {
   "cell_type": "markdown",
   "id": "4df62750-16d6-40d3-b74c-41d2947e3045",
   "metadata": {},
   "source": [
    "<br>\n",
    "\n",
    "<span style=\"color: #DCBD10; font-size: 1.2rem;\">▬▬▬▬▬▬▬▬▬▬▬▬▬▬▬▬▬▬▬▬▬▬▬▬▬▬▬▬▬▬▬▬▬▬▬▬▬▬▬▬▬▬▬▬▬▬▬▬▬▬▬▬▬▬▬▬</span>\n"
   ]
  },
  {
   "cell_type": "markdown",
   "id": "22eda9d9-93ee-4fda-bc31-c9e4049e179f",
   "metadata": {
    "jp-MarkdownHeadingCollapsed": true
   },
   "source": [
    "<br>\n",
    "\n",
    "### <span style=\"color: blue; font-size: 1rem;\"><strong>Static &nbsp;Methods</strong></span>"
   ]
  },
  {
   "cell_type": "markdown",
   "id": "c4c0f446-82bf-4fce-9d70-6345d4faac77",
   "metadata": {},
   "source": [
    "\n",
    "<div style=\"background-color: #ffe6ce; padding-top: 20px; padding-bottom: 10px; padding-left: 10px; padding-right: 10px;\">\n",
    "\n",
    "<span style=\"background-color: #ffe6ce;\">A <code style=\"background-color: #ffe6ce;\">method should be assigned as a <span style=\"color: red; font-size: 1rem;\"><strong>static method</strong></span> if it <span style=\"font-size: 1rem;\"><strong>does not need</strong></span> any <span style=\"color: blue;\">class attribute</span> or any <span style=\"color: blue;\">object (instance) attribute</span> to do the work it is defined for.</code></span>\n",
    "\n",
    "&nbsp;&nbsp;&nbsp;&nbsp;&nbsp;&nbsp;&nbsp;&nbsp;&nbsp;<span style=\"font-size: 0.7rem;\">■</span>&nbsp;&nbsp;&nbsp;&nbsp;A &nbsp;<u>static method</u>&nbsp; is not bound to a class or any instances of the class because Python doesn’t implicitly pass the &nbsp;<code style=\"background-color: white; color: red;\">cls</code>&nbsp; parameter or the &nbsp;<code style=\"background-color: white; color: red;\">self</code>&nbsp; parameter in it.\n",
    "\n",
    "&nbsp;&nbsp;&nbsp;&nbsp;&nbsp;&nbsp;&nbsp;&nbsp;&nbsp;<span style=\"font-size: 0.7rem;\">■</span>&nbsp;&nbsp;&nbsp;&nbsp;In Python, &nbsp;<code style=\"background-color: #befff8;\">you use static methods to define utility methods or group logically related functions in a class.</code>\n",
    "\n",
    "&nbsp;&nbsp;&nbsp;&nbsp;&nbsp;&nbsp;&nbsp;&nbsp;&nbsp;<span style=\"font-size: 0.7rem;\">■</span>&nbsp;&nbsp;&nbsp;&nbsp;To define a <u>static method</u>, you use the &nbsp;<code style=\"background-color: yellow;\">@staticmethod</code>&nbsp; **decorator**.\n",
    "\n",
    "&nbsp;&nbsp;&nbsp;&nbsp;&nbsp;&nbsp;&nbsp;&nbsp;&nbsp;<span style=\"font-size: 0.7rem;\">■</span>&nbsp;&nbsp;&nbsp;&nbsp;The syntax to call a <u>static method</u>  is &nbsp;<code style=\"background-color: white;\"><span style=\"color: red;\">ClassName</span>.<span style=\"color: blue;\">static_method_name()</span></code>&nbsp;\n",
    "</div>\n",
    "\n",
    "<br>\n"
   ]
  },
  {
   "cell_type": "code",
   "execution_count": 40,
   "id": "18999f60-ebf5-476a-9ea4-c5fdf2ba148a",
   "metadata": {},
   "outputs": [
    {
     "name": "stdout",
     "output_type": "stream",
     "text": [
      "86.0\n"
     ]
    }
   ],
   "source": [
    "\n",
    "class TemperatureConverter:\n",
    "    @staticmethod\n",
    "    def celsius_to_fahrenheit(c):\n",
    "        return 9 * c / 5 + 32\n",
    "\n",
    "    @staticmethod\n",
    "    def fahrenheit_to_celsius(f):\n",
    "        return 5 * (f - 32) / 9\n",
    "\n",
    "f = TemperatureConverter.celsius_to_fahrenheit(30)\n",
    "print(f)                                              # OUTPUT:  86\n"
   ]
  },
  {
   "cell_type": "markdown",
   "id": "eedccf45-4114-4112-bfaf-876b650e2a15",
   "metadata": {},
   "source": [
    "\n",
    "🔶 &nbsp;Notice that Python **doesn’t implicitly** pass an instance (&nbsp;<code style=\"color: red;;\">self</code>&nbsp;) as well as class (&nbsp;<code style=\"color: red;;\">cls</code>&nbsp;) as the **first argument** of a <u>static method</u>."
   ]
  },
  {
   "cell_type": "markdown",
   "id": "5ca6d884-576c-427e-83fd-2a1fa61c1ace",
   "metadata": {},
   "source": [
    "<br>\n",
    "\n",
    "<span style=\"color: #DCBD10; font-size: 1.2rem;\">▬▬▬▬▬▬▬▬▬▬▬▬▬▬▬▬▬▬▬▬▬▬▬▬▬▬▬▬▬▬▬▬▬▬▬▬▬▬▬▬▬▬▬▬▬▬▬▬▬▬▬▬▬▬▬▬</span>\n"
   ]
  },
  {
   "cell_type": "markdown",
   "id": "60965b61-a240-4e9d-bbf7-12b83fd3c0fc",
   "metadata": {
    "jp-MarkdownHeadingCollapsed": true
   },
   "source": [
    "<br>\n",
    "\n",
    "### <span style=\"color: blue; font-size: 1rem;\"><strong>Decorators</strong></span>"
   ]
  },
  {
   "cell_type": "markdown",
   "id": "b82034fb-43f5-4009-817f-6e5e1d1ae805",
   "metadata": {},
   "source": [
    "<div style=\"background-color: #ffe6ce; padding-top: 20px; padding-bottom: 10px; padding-left: 10px; padding-right: 10px;\">\n",
    "\n",
    "<span style=\"font-size: 0.7rem; margin-left: 5px;\">■</span>&nbsp;&nbsp;&nbsp;&nbsp;A <strong><span style=\"color: red;\">decorator</span></strong> is a function that <u>takes another function as an argument</u> and <u>returns a new function</u> that usually extends or alters the behavior of the original function.\n",
    "\n",
    "<span style=\"font-size: 0.7rem; margin-left: 5px;\">■</span>&nbsp;&nbsp;&nbsp;&nbsp;In Python, <strong><span style=\"color: red;\">decorators</span></strong> are a flexible feature that allow us to wrap a function and modify it's behavior <u>without changing the function's code itself</u>.\n",
    "\n",
    "</div>"
   ]
  },
  {
   "cell_type": "code",
   "execution_count": 49,
   "id": "34e4fc55-17e6-4115-a01e-42d95ce0f8a9",
   "metadata": {},
   "outputs": [
    {
     "name": "stdout",
     "output_type": "stream",
     "text": [
      "Tomorrow is holiday\n"
     ]
    }
   ],
   "source": [
    "\n",
    "class Student:\n",
    "    \n",
    "    college_name = \"abc\"                           # class attribute\n",
    "    \n",
    "    def __init__(self, name, marks):               # CONSTRUCTOR\n",
    "        self.name = name                           # object atrribute\n",
    "        self.marks = marks                         # object attribute\n",
    "    \n",
    "    def greet(self):                               # INSTANCE  METHOD\n",
    "        print(\"Hello!\", self.name)                 # using self inside the method\n",
    "    \n",
    "    @staticmethod                                  # DECORATOR\n",
    "    def notification():                            # passing self in this method does not make any sense, so it should be converted into a static method\n",
    "        print(\"Tomorrow is holiday\")               # not using any self inside the method\n",
    "\n",
    "s1 = Student(\"Avinash Mishra\", [88, 94, 90])       # creates an object s1 of Student type\n",
    "\n",
    "s1.notification()                                  # calls the static method notification() through an object\n"
   ]
  },
  {
   "cell_type": "markdown",
   "id": "0da67561-9113-49a5-a342-0b8cd8230593",
   "metadata": {},
   "source": [
    "<br>\n",
    "\n",
    "<span style=\"color: #06fff0; font-size: 0.7rem;\">■■■■■■■■■■■■■■■■■■■■■■■■■■■■■■■■■■■■■■■■■■■■■■■■■■■■■■■■■■■■■■■■■■■■■■■■■■■■■■■■■■■■■■■■■■■■■■■■■■■■■■■■■■■■■■■</span>\n",
    "\n",
    "<br>\n",
    "\n",
    "Let &nbsp;us &nbsp;understand &nbsp;how &nbsp;does &nbsp;a &nbsp;**decorator** &nbsp;work? \n",
    "\n",
    "<br>\n",
    "\n",
    "![](../../media/Shraddha_Kapra_oops_5.PNG)\n",
    "\n",
    "<div style=\"margin-left: -100px;\">\n",
    "    \n",
    "| Step | Summary &nbsp;of &nbsp;Order &nbsp;Execution|\n",
    "|-|--------------------------------|\n",
    "|&nbsp;&nbsp;<span style=\"color: red;\"><strong>1</strong></span>| &nbsp;&nbsp;&nbsp;&nbsp;&nbsp;&nbsp;&nbsp;&nbsp;&nbsp;&nbsp;&nbsp;&nbsp;&nbsp;<code style=\"background-color: #c2fff8;\">Line  <strong>1</strong>:   Define  <span style=\"color: red;\">\"my_decorator\"</span></code>  |\n",
    "|&nbsp;&nbsp;<span style=\"color: red;\"><strong>2</strong></span>| &nbsp;&nbsp;&nbsp;&nbsp;&nbsp;&nbsp;&nbsp;&nbsp;&nbsp;&nbsp;&nbsp;&nbsp;&nbsp;<code style=\"background-color: #c2fff8;\">Line <strong>16</strong>:   Apply  <span style=\"color: red;\">@my_decorator</span>  to  <span style=\"color: red;\">say_hello</span></code> |\n",
    "|&nbsp;&nbsp;<span style=\"color: red;\"><strong>3</strong></span>| &nbsp;&nbsp;&nbsp;&nbsp;&nbsp;&nbsp;&nbsp;&nbsp;&nbsp;&nbsp;&nbsp;&nbsp;&nbsp;<code style=\"background-color: #c2fff8;\">Line <strong>17</strong>:   Define  <span style=\"color: red;\">say_hello</span>  <font size=\"3px;\">( </font>triggers  <span style=\"color: blue;\"><font size=\"3px;\"><strong>my_decorator(say_hello)</strong></font></span><font size=\"3px;\"> )</font></code>|\n",
    "|&nbsp;&nbsp;<span style=\"color: red;\"><strong>4</strong></span>| &nbsp;&nbsp;&nbsp;&nbsp;&nbsp;&nbsp;&nbsp;&nbsp;&nbsp;&nbsp;&nbsp;&nbsp;&nbsp;<code style=\"background-color: #c2fff8;\">Line  <strong>2</strong>:   Define  <span style=\"color: red;\">wrapper</span>  inside  <span style=\"color: red;\">my_decorator</span></code>\n",
    "|&nbsp;&nbsp;<span style=\"color: red;\"><strong>5</strong></span>| &nbsp;&nbsp;&nbsp;&nbsp;&nbsp;&nbsp;&nbsp;&nbsp;&nbsp;&nbsp;&nbsp;&nbsp;&nbsp;<code style=\"background-color: #c2fff8;\">Line <strong>13</strong>:   Return  <span style=\"color: red;\">wrapper</span>  from  <span style=\"color: red;\">my_decorator</span> |\n",
    "|&nbsp;&nbsp;<span style=\"color: red;\"><strong>6</strong></span>| &nbsp;&nbsp;&nbsp;&nbsp;&nbsp;&nbsp;&nbsp;&nbsp;&nbsp;&nbsp;&nbsp;&nbsp;&nbsp;<code style=\"background-color: #c2fff8;\">Line <strong>22</strong>:   Call  <span style=\"color: red;\">say_hello()</span>,  executing  <span style=\"color: red;\">wrapper</span> |\n",
    "|&nbsp;&nbsp;<span style=\"color: red;\"><strong>7</strong></span>| &nbsp;&nbsp;&nbsp;&nbsp;&nbsp;&nbsp;&nbsp;&nbsp;&nbsp;&nbsp;&nbsp;&nbsp;&nbsp;<code style=\"background-color: #c2fff8;\">Line  <strong>4</strong>:   Execute  \"<u>print</u>\"  before  the  function  call  in  <span style=\"color: red;\">wrapper</span></code> |\n",
    "|&nbsp;&nbsp;<span style=\"color: red;\"><strong>8</strong></span>| &nbsp;&nbsp;&nbsp;&nbsp;&nbsp;&nbsp;&nbsp;&nbsp;&nbsp;&nbsp;&nbsp;&nbsp;&nbsp;<code style=\"background-color: #c2fff8;\">Line  <strong>7</strong>:   Call  original  <span style=\"color: red;\">say_hello</span>  ( <span style=\"color: red;\">func()</span> )</code>|\n",
    "|&nbsp;&nbsp;<span style=\"color: red;\"><strong>9</strong></span>| &nbsp;&nbsp;&nbsp;&nbsp;&nbsp;&nbsp;&nbsp;&nbsp;&nbsp;&nbsp;&nbsp;&nbsp;&nbsp;<code style=\"background-color: #c2fff8;\">Line <strong>18</strong>:   Execute  \"<u>print</u>\"  in  <span style=\"color: red;\">say_hello</span></code>|\n",
    "|&nbsp;&nbsp;<span style=\"color: red;\"><strong>10</strong></span>| &nbsp;&nbsp;&nbsp;&nbsp;&nbsp;&nbsp;&nbsp;&nbsp;&nbsp;&nbsp;&nbsp;&nbsp;&nbsp;<code style=\"background-color: #c2fff8;\">Line <strong>10</strong>:   Execute  \"<u>print</u>\"  after  the  function  call  in  <span style=\"color: red;\">wrapper</span></code>|\n",
    "|&nbsp;&nbsp;<span style=\"color: red;\"><strong>11</strong></span>| &nbsp;&nbsp;&nbsp;&nbsp;&nbsp;&nbsp;&nbsp;&nbsp;&nbsp;&nbsp;&nbsp;&nbsp;&nbsp;<code style=\"background-color: #c2fff8;\">Line <strong>12</strong>:   Return  from  <span style=\"color: red;\">wrapper</span></code>|\n",
    "</div>\n",
    "\n",
    "<br>\n",
    "\n",
    "<br>\n",
    "\n",
    "<span style=\"color: #06fff0; font-size: 0.7rem;\">■■■■■■■■■■■■■■■■■■■■■■■■■■■■■■■■■■■■■■■■■■■■■■■■■■■■■■■■■■■■■■■■■■■■■■■■■■■■■■■■■■■■■■■■■■■■■■■■■■■■■■■■■■■■■■■</span>\n",
    "\n",
    "<br>\n",
    "\n",
    "<br>\n",
    "\n",
    "<code style=\"margin-left: 240px;\">There are 4 pillars of OOP</code>\n",
    "\n",
    "<div style=\"margin-left: 70px;\">\n",
    "\n",
    "![](../../media/Shraddha_Kapra_oops_6.PNG)\n",
    "\n",
    "</div>\n",
    "\n",
    "<br>\n",
    "\n",
    "<span style=\"color: #DCBD10; font-size: 1.2rem;\">▬▬▬▬▬▬▬▬▬▬▬▬▬▬▬▬▬▬▬▬▬▬▬▬▬▬▬▬▬▬▬▬▬▬▬▬▬▬▬▬▬▬▬▬▬▬▬▬▬▬▬▬▬▬▬▬</span>\n"
   ]
  },
  {
   "cell_type": "markdown",
   "id": "abe97f86-c73a-40b0-b1c5-381c8f5e5fdc",
   "metadata": {
    "jp-MarkdownHeadingCollapsed": true
   },
   "source": [
    "<br>\n",
    "\n",
    "### <span style=\"color: blue; font-size: 1rem;\"><strong>Abstraction</strong></span>"
   ]
  },
  {
   "cell_type": "markdown",
   "id": "0af49ed6-99e2-491b-bd24-b3ced0841544",
   "metadata": {},
   "source": [
    "\n",
    "<div style=\"background-color: #ffe6ce; padding: 10px;\">\n",
    "<code style=\"background-color: #ffe6ce;\"><span style=\"font-size: 1rem;\"><strong>Hiding</strong></span> the implementation (unnecessary) details of a class and only showing the essential features to the user</code>\n",
    "</div>\n"
   ]
  },
  {
   "cell_type": "code",
   "execution_count": 36,
   "id": "c91703a0-c500-4914-8279-c8b96d6e5032",
   "metadata": {},
   "outputs": [
    {
     "name": "stdout",
     "output_type": "stream",
     "text": [
      "car started...\n"
     ]
    }
   ],
   "source": [
    "\n",
    "class Car:\n",
    "    def __init__(self):           \n",
    "        self.acc = False          #  accelerator       =====>       acc     =  Instance Attribute\n",
    "        self.brk = False          #  break             =====>       brk     =  Instance Attribute\n",
    "        self.clutch = False       #  clutch            =====>       clutch  =  Instance Attribute\n",
    "\n",
    "    def start(self):\n",
    "        self.clutch = True\n",
    "        self.acc = True\n",
    "        print(\"car started...\")\n",
    "    \n",
    "\n",
    "car1 = Car()\n",
    "car1.start()      # To  start  the  car,  we  do  not  need  to  care  about  clutch  and  accelarator.  Just  start  it  using  start()  function.\n",
    "    "
   ]
  },
  {
   "cell_type": "markdown",
   "id": "96a3b11a-d57d-45e6-93f0-c9a4101f943c",
   "metadata": {},
   "source": [
    "<br>\n",
    "\n",
    "<span style=\"color: #DCBD10; font-size: 1.2rem;\">▬▬▬▬▬▬▬▬▬▬▬▬▬▬▬▬▬▬▬▬▬▬▬▬▬▬▬▬▬▬▬▬▬▬▬▬▬▬▬▬▬▬▬▬▬▬▬▬▬▬▬▬▬▬▬▬</span>\n"
   ]
  },
  {
   "cell_type": "markdown",
   "id": "7bd2c5ea-cbcd-4220-af23-3028b8f1d5be",
   "metadata": {},
   "source": [
    "<br>\n",
    "\n",
    "### <span style=\"color: blue; font-size: 1rem;\"><strong>Encapsulation</strong></span>"
   ]
  },
  {
   "cell_type": "markdown",
   "id": "ca6bec84-e0f3-4bcc-b876-45140cb66ee3",
   "metadata": {},
   "source": [
    "\n",
    "<div style=\"background-color: #ffe6ce; padding-top: 20px; padding-bottom: 20px; padding-right: 20px; padding-left: 10px;\">\n",
    "<code style=\"background-color: #ffe6ce;\">Wrapping <span style=\"color: red; font-size: 1rem;\"><strong><u>data</u></strong></span> & related <span style=\"color: blue; font-size: 1rem;\"><strong><u>functions</u></strong></span> into a single unit (object) like a <code style=\"background-color: white;\">capsule</code></code>\n",
    "    \n",
    "</div>\n",
    "\n",
    "<div style=\"background-color: #ffe6ce; padding-top: 10px; padding-bottom: 20px; padding-right: 20px; padding-left: 10px;\">\n",
    "<code style=\"background-color: #ffe6ce;\">By doing so, you can hide the internal state of the object from the outside. This is known as <span style=\"font-size: 1rem;\"><strong>information hiding</strong></span>.</code>\n",
    "    \n",
    "</div>\n",
    "\n",
    "<div style=\"background-color: #ffe6ce; padding: 10px;\">\n",
    "    \n",
    "&nbsp;<span style=\"background-color: white;\"> &nbsp;( <span style=\"color: red;\">data</span> &nbsp;+&nbsp; <span style=\"color: blue;\">function</span> ) &nbsp;inside a **capsule** &nbsp;</span>  &nbsp;&nbsp;&nbsp;&nbsp;<span style=\"color: #7b7e7a;\">➜</span>&nbsp;&nbsp;&nbsp;&nbsp;<span style=\"background-color: white;\"> &nbsp;( <span style=\"color: red;\">attributes</span> &nbsp;+&nbsp; <span style=\"color: blue;\">methods</span> )&nbsp; inside a **class** &nbsp;</span>  &nbsp;&nbsp;&nbsp;&nbsp;<span style=\"color: #7b7e7a;\">➜</span>&nbsp;&nbsp;&nbsp;&nbsp; <span style=\"background-color: white;\"> &nbsp;an **object**&nbsp; has it's &nbsp;<u>related <span style=\"color: red;\">data</span></u>&nbsp; & &nbsp;<u>related <span style=\"color: blue;\">functions</span></u>&nbsp; wrapped inside it &nbsp;</span>\n",
    "\n",
    "</div>\n",
    "\n",
    "<div style=\"background-color: #fff2af; padding-top: 20px; padding-bottom: 5px; padding-left: 15px;\">\n",
    "\n",
    "A &nbsp;<span style=\"background-color: white;\">&nbsp;class&nbsp;</span>&nbsp; is an example of encapsulation. &nbsp;A class bundles data and methods into a single unit. &nbsp;And a class provides the access to its attributes via methods.\n",
    "\n",
    "The idea of information hiding is that if you have an attribute that isn’t visible to the outside, you can still control the access to its value to make sure your object is always has a valid state.\n",
    "\n",
    "</div>\n",
    "\n",
    "<br>\n",
    "\n",
    "Let’s take a look at an example to better understand the encapsulation concept.    \n"
   ]
  },
  {
   "cell_type": "code",
   "execution_count": 81,
   "id": "7a831ce5-569c-4d50-aede-8c797c2019cb",
   "metadata": {},
   "outputs": [],
   "source": [
    "\n",
    "class Counter:\n",
    "    def __init__(self):\n",
    "        self.current = 0           # public  instance  attribute  \"current\"\n",
    "\n",
    "    def increment(self):\n",
    "        self.current += 1\n",
    "\n",
    "    def value(self):\n",
    "        return self.current\n",
    "\n",
    "    def reset(self):\n",
    "        self.current = 0\n"
   ]
  },
  {
   "cell_type": "code",
   "execution_count": 71,
   "id": "049bc298-86ad-41a9-a564-137d8ca65db5",
   "metadata": {},
   "outputs": [
    {
     "data": {
      "text/plain": [
       "3"
      ]
     },
     "execution_count": 71,
     "metadata": {},
     "output_type": "execute_result"
    }
   ],
   "source": [
    "\n",
    "counter = Counter()                # creates  an  object  \"counter\"  of  type  \"Counter\"\n",
    "\n",
    "counter.increment()                # calls  the  increment()  method\n",
    "counter.increment()                # calls  the  increment()  method\n",
    "counter.increment()                # calls  the  increment()  method\n",
    "\n",
    "counter.value()                    # calls  the  value()  method\n"
   ]
  },
  {
   "cell_type": "markdown",
   "id": "7b335824-294f-473a-8dce-b4f0c2ffe341",
   "metadata": {},
   "source": [
    "\n",
    "From the outside of the &nbsp;<code style=\"color: red;\">Counter</code>&nbsp; class, you still can access the current attribute and change it to whatever you want. For example:\n"
   ]
  },
  {
   "cell_type": "code",
   "execution_count": 72,
   "id": "f4a69e4a-e182-421d-9f10-70c8b055671f",
   "metadata": {},
   "outputs": [
    {
     "data": {
      "text/plain": [
       "3"
      ]
     },
     "execution_count": 72,
     "metadata": {},
     "output_type": "execute_result"
    }
   ],
   "source": [
    "\n",
    "counter.current                    # calls  the  \"current\"  attribute\n"
   ]
  },
  {
   "cell_type": "code",
   "execution_count": 73,
   "id": "ceb0a155-58d1-4c85-89cd-778de7279a64",
   "metadata": {},
   "outputs": [
    {
     "data": {
      "text/plain": [
       "5"
      ]
     },
     "execution_count": 73,
     "metadata": {},
     "output_type": "execute_result"
    }
   ],
   "source": [
    "\n",
    "counter.increment()                # calls  the  increment()  method\n",
    "counter.increment()                # calls  the  increment()  method\n",
    "\n",
    "counter.value()                    # calls  the  value()  method\n"
   ]
  },
  {
   "cell_type": "code",
   "execution_count": 74,
   "id": "3bc0a2a2-8e50-4f3d-8564-08a8efc8c26f",
   "metadata": {},
   "outputs": [
    {
     "data": {
      "text/plain": [
       "5"
      ]
     },
     "execution_count": 74,
     "metadata": {},
     "output_type": "execute_result"
    }
   ],
   "source": [
    "\n",
    "counter.current                    # gets  the  instance  attribute  \"current\"\n"
   ]
  },
  {
   "cell_type": "code",
   "execution_count": 78,
   "id": "3b6da65d-be45-43f4-9e62-85b1a1f080a3",
   "metadata": {},
   "outputs": [],
   "source": [
    "\n",
    "counter.current = -999             # sets  the  value  of  the  instance  attribute  \"current\"  to  an  invalid  value  -999\n"
   ]
  },
  {
   "cell_type": "code",
   "execution_count": 76,
   "id": "8b19c1d1-cbf7-4962-8c5f-91df30888a41",
   "metadata": {},
   "outputs": [
    {
     "data": {
      "text/plain": [
       "-999"
      ]
     },
     "execution_count": 76,
     "metadata": {},
     "output_type": "execute_result"
    }
   ],
   "source": [
    "\n",
    "counter.value()                    # calls  the  value()  method\n"
   ]
  },
  {
   "cell_type": "markdown",
   "id": "d31f5d6e-d045-4cfe-9c4d-8a9e772ec8d6",
   "metadata": {},
   "source": [
    "<br>\n",
    "\n",
    "As you can set the value of the &nbsp;<code style=\"color: red;\">current</code>&nbsp; attribute to an invalid value &nbsp;<code style=\"color: red;\">-999</code>&nbsp; from outside the class, so the question is <span style=\"color: blue;\">how do you prevent the current attribute from modifying <u>outside</u> of the &nbsp;<code style=\"color: red;\">Counter</code>&nbsp; class?</span>\n",
    "\n",
    "\n",
    "That’s why &nbsp;**private attributes**&nbsp; come into play i.e, &nbsp;<u>to &nbsp;enforce &nbsp;encapsulation</u>\n",
    "\n",
    "<br>\n",
    "\n",
    "<span style=\"color: #06fff0; font-size: 0.7rem;\">■■■■■■■■■■■■■■■■■■■■■■■■■■■■■■■■■■■■■■■■■■■■■■■■■■■■■■■■■■■■■■■■■■■■■■■■■■■■■■■■■■■■■■■■■■■■■■■■■■■■■■■■■■■■■■■</span>\n",
    "\n",
    "<br>\n",
    "\n",
    "<code style=\"background-color: blue; color: white;\">Python &nbsp;Private &nbsp;Attributes</code>\n",
    "\n",
    "🔶 &nbsp;&nbsp;➜&nbsp;&nbsp;&nbsp;**Private attributes** &nbsp;can be only accessible from the methods of the class. In other words, they cannot be accessible from outside of the class.\n",
    "\n",
    "🔶 &nbsp;&nbsp;➜&nbsp;&nbsp;&nbsp;Python doesn’t have a concept of &nbsp;**private attributes**. In other words, all attributes are accessible from the outside of a class.\n",
    "\n",
    "🔶 &nbsp;&nbsp;➜&nbsp;&nbsp;&nbsp;By convention, you can define a &nbsp;**private attribute**&nbsp; by prefixing a &nbsp;<span style=\"color: blue;\">**single underscore**</span> (&nbsp;<code style=\"background-color: yellow;\">_</code>&nbsp;) :\n",
    "\n",
    "<pre style=\"background-color: #ffe6ce; margin-left: 58px;\">\n",
    "\n",
    "  <span style=\"color: #b58702;\">_attribute</span>\n",
    "\n",
    "</pre>\n",
    "\n",
    "&nbsp;&nbsp;&nbsp;&nbsp;&nbsp;&nbsp;&nbsp;&nbsp;&nbsp;&nbsp;&nbsp;&nbsp;&nbsp;&nbsp;&nbsp;This means that the &nbsp;<code style=\"background-color: yellow;\">_attribute</code>&nbsp; <span style=\"color: blue;\">should not</span>&nbsp; be manipulated and may have a breaking change in the future. <br>\n",
    "&nbsp;&nbsp;&nbsp;&nbsp;&nbsp;&nbsp;&nbsp;&nbsp;&nbsp;&nbsp;&nbsp;&nbsp;&nbsp;&nbsp;&nbsp;However, &nbsp;<span style=\"color: blue;\">it does not mean that it now cannot</span>&nbsp; be accessed or manipulated from outside the class. &nbsp;<span style=\"color: blue;\">It's just a convention.</span>\n",
    "\n",
    "🔶 &nbsp;&nbsp;➜&nbsp;&nbsp;&nbsp;The following redefines the &nbsp;<code style=\"color: red;\">Counter</code>&nbsp; class with the &nbsp;<code style=\"color: red;\">_current</code>&nbsp; as a **private attribute** by convention :"
   ]
  },
  {
   "cell_type": "code",
   "execution_count": 1,
   "id": "1314d6d8-c6b4-46f6-b050-2150e8717d8b",
   "metadata": {},
   "outputs": [],
   "source": [
    "\n",
    "class Counter:\n",
    "    def __init__(self):\n",
    "        self._current = 0           # private  instance  attribute  ===>  \"current\"\n",
    "\n",
    "    def increment(self):\n",
    "        self._current += 1\n",
    "\n",
    "    def value(self):\n",
    "        return self._current\n",
    "\n",
    "    def reset(self):\n",
    "        self._current = 0\n"
   ]
  },
  {
   "cell_type": "code",
   "execution_count": 2,
   "id": "ab3e77c4-1e5e-4609-9999-bf7cc7b90b64",
   "metadata": {},
   "outputs": [
    {
     "data": {
      "text/plain": [
       "0"
      ]
     },
     "execution_count": 2,
     "metadata": {},
     "output_type": "execute_result"
    }
   ],
   "source": [
    "\n",
    "counter = Counter()                # creates  an  object  \"counter\"  of  type  \"Counter\"\n",
    "\n",
    "counter._current\n"
   ]
  },
  {
   "cell_type": "markdown",
   "id": "78366d1d-7116-4062-b2c9-6396aedb4f7f",
   "metadata": {},
   "source": [
    "\n",
    "As you can see we can still access the &nbsp;**private attribute**&nbsp; <code style=\"color: red;\">_counter</code>&nbsp; from outside the class &nbsp;<code style=\"color: red;\">Counter</code>&nbsp; <span style=\"color: blue;\">because it is just a convention to not use it from outside the class</span>\n",
    "\n",
    "🔶 &nbsp;&nbsp;➜&nbsp;&nbsp;&nbsp;You must be glad to know there is a way in Python &nbsp;**to enforce this more strictly**&nbsp; like in other OOP based languages like &nbsp;<span style=\"font-size: 1rem; color: red;\">**Java**</span>&nbsp; and &nbsp;<span style=\"font-size: 1rem; color: red;\">**C++**</span>\n",
    "\n",
    "<br>\n",
    "\n",
    "<span style=\"color: #06fff0; font-size: 0.7rem;\">■■■■■■■■■■■■■■■■■■■■■■■■■■■■■■■■■■■■■■■■■■■■■■■■■■■■■■■■■■■■■■■■■■■■■■■■■■■■■■■■■■■■■■■■■■■■■■■■■■■■■■■■■■■■■■■</span>\n",
    "\n",
    "<br>\n",
    "\n",
    "<code style=\"background-color: blue; color: white;\">Name  mangling  with  double  underscores</code>\n",
    "\n",
    "🔶 &nbsp;&nbsp;➜&nbsp;&nbsp;&nbsp;If you prefix an attribute name with  &nbsp;<span style=\"color: blue;\">**double underscore**</span> (&nbsp;<code style=\"background-color: yellow;\">__</code>&nbsp;) like this :\n",
    "\n",
    "<pre style=\"background-color: #ffe6ce; margin-left: 58px;\">\n",
    "\n",
    "  <span style=\"color: black; color: #b58702;\">__attribute</span>\n",
    "\n",
    "</pre>\n",
    "\n",
    "🔶 &nbsp;&nbsp;➜&nbsp;&nbsp;&nbsp;Python will automatically change the name of the  &nbsp;<code style=\"background-color: yellow;\">__attribute</code>&nbsp;  to :\n",
    "\n",
    "<pre style=\"background-color: #ffe6ce; margin-left: 58px;\">\n",
    "\n",
    "  <span style=\"color: #b58702; color: #b58702;\">_ClassName__attribute</span>\n",
    "\n",
    "</pre>\n",
    "\n",
    "🔶 &nbsp;&nbsp;➜&nbsp;&nbsp;&nbsp;This is called the &nbsp;**name mangling**&nbsp; in Python.\n",
    "\n",
    "🔶 &nbsp;&nbsp;➜&nbsp;&nbsp;&nbsp;By doing this, <span style=\"color: blue;\">now you cannot</span> access the &nbsp;<code style=\"background-color: yellow;\">__attribute</code>&nbsp; directly from the outside of a class like:\n",
    "\n",
    "<pre style=\"background-color: #ffe6ce; margin-left: 58px;\">\n",
    "    \n",
    "  <span style=\"color: red;\">instance.</span><span style=\"color: #b58702;\">__attribute</span>\n",
    "\n",
    "</pre>\n",
    "\n",
    "🔶 &nbsp;&nbsp;➜&nbsp;&nbsp;&nbsp;However, you still can access it using the &nbsp;<code style=\"background-color: yellow;\">_ClassName__attribute</code>&nbsp; name :\n",
    "\n",
    "<pre style=\"background-color: #ffe6ce; margin-left: 58px;\">\n",
    "    \n",
    "  <span style=\"color: red;\">instance.</span><span style=\"color: #b58702;\">_ClassName__attribute</span>\n",
    "    \n",
    "</pre>\n",
    "\n",
    "🔶 &nbsp;&nbsp;➜&nbsp;&nbsp;&nbsp;The following example redefines the &nbsp;<code style=\"color: red;\">Counter</code>&nbsp; class with the &nbsp;<code style=\"color: red;\">__current</code>&nbsp; attribute:\n",
    "\n"
   ]
  },
  {
   "cell_type": "code",
   "execution_count": 8,
   "id": "5dc8439e-41a2-4620-8c45-6bbae25bbb48",
   "metadata": {},
   "outputs": [],
   "source": [
    "\n",
    "class Counter:\n",
    "    def __init__(self):\n",
    "        self.__current = 0         # private instance attribute with name mangling  ===>  \"__current\"\n",
    "\n",
    "    def increment(self):\n",
    "        self.__current += 1        \n",
    "\n",
    "    def value(self):\n",
    "        return self.__current\n",
    "\n",
    "    def reset(self):\n",
    "        self.__current = 0\n"
   ]
  },
  {
   "cell_type": "markdown",
   "id": "00e760fa-2af2-43ab-aead-03c91bba434f",
   "metadata": {},
   "source": [
    "<br>\n",
    "\n",
    "🔶 &nbsp;&nbsp;➜&nbsp;&nbsp;&nbsp;Now, if you attempt to access &nbsp;<code style=\"color: red;\">__current</code>&nbsp; attribute, you’ll get an error:"
   ]
  },
  {
   "cell_type": "code",
   "execution_count": 9,
   "id": "fa94c76a-8005-41af-b42e-4cf6ef621702",
   "metadata": {},
   "outputs": [
    {
     "ename": "AttributeError",
     "evalue": "'Counter' object has no attribute '__current'",
     "output_type": "error",
     "traceback": [
      "\u001b[1;31m---------------------------------------------------------------------------\u001b[0m",
      "\u001b[1;31mAttributeError\u001b[0m                            Traceback (most recent call last)",
      "Cell \u001b[1;32mIn[9], line 3\u001b[0m\n\u001b[0;32m      1\u001b[0m counter \u001b[38;5;241m=\u001b[39m Counter()\n\u001b[1;32m----> 3\u001b[0m \u001b[38;5;28mprint\u001b[39m(\u001b[43mcounter\u001b[49m\u001b[38;5;241;43m.\u001b[39;49m\u001b[43m__current\u001b[49m)\n",
      "\u001b[1;31mAttributeError\u001b[0m: 'Counter' object has no attribute '__current'"
     ]
    }
   ],
   "source": [
    "\n",
    "counter = Counter()\n",
    "\n",
    "print(counter.__current)\n"
   ]
  },
  {
   "cell_type": "markdown",
   "id": "999dea75-629b-462c-81d1-098f251963f4",
   "metadata": {},
   "source": [
    "<br>\n",
    "\n",
    "However, you can access the &nbsp;<code style=\"color: red;\">__current</code>&nbsp; attribute as &nbsp;<code style=\"color: red;\">_Counter__current</code>&nbsp; like this:"
   ]
  },
  {
   "cell_type": "code",
   "execution_count": 11,
   "id": "cd564e1f-0176-4fed-8a5a-70ab755109cf",
   "metadata": {},
   "outputs": [
    {
     "data": {
      "text/plain": [
       "0"
      ]
     },
     "execution_count": 11,
     "metadata": {},
     "output_type": "execute_result"
    }
   ],
   "source": [
    "\n",
    "counter._Counter__current\n"
   ]
  },
  {
   "cell_type": "markdown",
   "id": "1e5d7847-b462-452f-a146-bd65e8810ae9",
   "metadata": {},
   "source": [
    "<br>\n",
    "\n",
    "<span style=\"color: #06fff0; font-size: 0.7rem;\">■■■■■■■■■■■■■■■■■■■■■■■■■■■■■■■■■■■■■■■■■■■■■■■■■■■■■■■■■■■■■■■■■■■■■■■■■■■■■■■■■■■■■■■■■■■■■■■■■■■■■■■■■■■■■■■</span>\n",
    "\n",
    "<br>\n",
    "\n",
    "To &nbsp;summarise :"
   ]
  },
  {
   "cell_type": "markdown",
   "id": "0cdac1ae-3efa-4ee4-9f5d-bf8a3a4fc090",
   "metadata": {},
   "source": [
    "\n",
    "<div style=\"background-color: #ffe6ce; padding-top: 20px; padding-bottom: 10px; padding-left: 10px; padding-right: 10px;\">\n",
    "\n",
    "<span style=\"font-size: 0.8rem; margin-left: 5px;\">■</span>&nbsp;&nbsp;&nbsp;&nbsp;Encapsulation is the packing of data and methods into a class so that you can hide the information and restrict access from outside.\n",
    "\n",
    "<span style=\"font-size: 0.8rem; margin-left: 5px;\">■</span>&nbsp;&nbsp;&nbsp;&nbsp;Prefix an attribute or a method with a <span style=\"color: blue;\">**single underscore**</span> ( <code style=\"color: red; background-color: white; font-size: 1rem;\">**_**</code> ) to make it **private by convention**.\n",
    "\n",
    "&nbsp;&nbsp;&nbsp;&nbsp;&nbsp;&nbsp;&nbsp;&nbsp;&nbsp;&nbsp;&nbsp;&nbsp;&nbsp;&nbsp;&nbsp;&nbsp;&nbsp;&nbsp;<code style=\"background-color: white;\">_attributename</code>  &nbsp;&nbsp;&nbsp;&nbsp;(irrespective of it being an <u>instance attribute</u> or a <u>class attribute</u>) <br>\n",
    "&nbsp;&nbsp;&nbsp;&nbsp;&nbsp;&nbsp;&nbsp;&nbsp;&nbsp;&nbsp;&nbsp;&nbsp;&nbsp;&nbsp;&nbsp;&nbsp;&nbsp;&nbsp;<code style=\"background-color: white;\">_methodname   </code>  &nbsp;&nbsp;&nbsp;&nbsp;(irrespective of it being an <u>instance method</u> or a <u>class method</u>)\n",
    "\n",
    "&nbsp;&nbsp;&nbsp;&nbsp;&nbsp;&nbsp;&nbsp;&nbsp;<span style=\"color: blue;\">However you still can acess it from outside the class :</span>\n",
    "\n",
    "&nbsp;&nbsp;&nbsp;&nbsp;&nbsp;&nbsp;&nbsp;&nbsp;&nbsp;&nbsp;&nbsp;&nbsp;&nbsp;&nbsp;&nbsp;&nbsp;&nbsp;&nbsp;<code style=\"background-color: white;\">ClassName._classttributename     </code>        <br>\n",
    "&nbsp;&nbsp;&nbsp;&nbsp;&nbsp;&nbsp;&nbsp;&nbsp;&nbsp;&nbsp;&nbsp;&nbsp;&nbsp;&nbsp;&nbsp;&nbsp;&nbsp;&nbsp;<code style=\"background-color: white;\">ClassName._classmethodname       </code>          <br>\n",
    "&nbsp;&nbsp;&nbsp;&nbsp;&nbsp;&nbsp;&nbsp;&nbsp;&nbsp;&nbsp;&nbsp;&nbsp;&nbsp;&nbsp;&nbsp;&nbsp;&nbsp;&nbsp;<code style=\"background-color: white;\">objectname._instanceattributename</code>   <br>\n",
    "&nbsp;&nbsp;&nbsp;&nbsp;&nbsp;&nbsp;&nbsp;&nbsp;&nbsp;&nbsp;&nbsp;&nbsp;&nbsp;&nbsp;&nbsp;&nbsp;&nbsp;&nbsp;<code style=\"background-color: white;\">objectname._instancemethodname   </code>      <br>\n",
    "\n",
    "<span style=\"font-size: 0.8rem; margin-left: 5px;\">■</span>&nbsp;&nbsp;&nbsp;&nbsp;Prefix an attribute with <span style=\"color: blue;\">**double underscores**</span> ( <code style=\"color: red; background-color: white; font-size: 1rem;\">**__**</code> ) to use the **name mangling**.\n",
    "\n",
    "&nbsp;&nbsp;&nbsp;&nbsp;&nbsp;&nbsp;&nbsp;&nbsp;&nbsp;&nbsp;&nbsp;&nbsp;&nbsp;&nbsp;&nbsp;&nbsp;&nbsp;&nbsp;<code style=\"background-color: white;\">__attributename</code>  &nbsp;&nbsp;&nbsp;&nbsp;(irrespective of it being an <u>instance attribute</u> or a <u>class attribute</u>) <br>\n",
    "&nbsp;&nbsp;&nbsp;&nbsp;&nbsp;&nbsp;&nbsp;&nbsp;&nbsp;&nbsp;&nbsp;&nbsp;&nbsp;&nbsp;&nbsp;&nbsp;&nbsp;&nbsp;<code style=\"background-color: white;\">__methodname   </code>  &nbsp;&nbsp;&nbsp;&nbsp;(irrespective of it being an <u>instance method</u> or a <u>class method</u>)\n",
    "\n",
    "&nbsp;&nbsp;&nbsp;&nbsp;&nbsp;&nbsp;&nbsp;&nbsp;<span style=\"color: blue;\">However you still can acess it from outside the class :</span>\n",
    "\n",
    "&nbsp;&nbsp;&nbsp;&nbsp;&nbsp;&nbsp;&nbsp;&nbsp;&nbsp;&nbsp;&nbsp;&nbsp;&nbsp;&nbsp;&nbsp;&nbsp;&nbsp;&nbsp;using  &nbsp;<code style=\"background-color: yellow;\">_ClassName__attributename</code>      <br>\n",
    "&nbsp;&nbsp;&nbsp;&nbsp;&nbsp;&nbsp;&nbsp;&nbsp;&nbsp;&nbsp;&nbsp;&nbsp;&nbsp;&nbsp;&nbsp;&nbsp;&nbsp;&nbsp;&nbsp;&nbsp;&nbsp;&nbsp;&nbsp;&nbsp;&nbsp;&nbsp;&nbsp;&nbsp;<span style=\"font-size: 0.7rem; margin-left: 5px;\">■</span>&nbsp;&nbsp;&nbsp;&nbsp;&nbsp;&nbsp;<code style=\"background-color: white;\">ClassName.<span style=\"color: red;\">_ClassName__classattributename</span>    </code>   <br>\n",
    "&nbsp;&nbsp;&nbsp;&nbsp;&nbsp;&nbsp;&nbsp;&nbsp;&nbsp;&nbsp;&nbsp;&nbsp;&nbsp;&nbsp;&nbsp;&nbsp;&nbsp;&nbsp;&nbsp;&nbsp;&nbsp;&nbsp;&nbsp;&nbsp;&nbsp;&nbsp;&nbsp;&nbsp;<span style=\"font-size: 0.7rem; margin-left: 5px;\">■</span>&nbsp;&nbsp;&nbsp;&nbsp;&nbsp;&nbsp;<code style=\"background-color: white;\">objectname.<span style=\"color: red;\">_ClassName__instanceattributename</span></code>      <br>\n",
    "\n",
    "&nbsp;&nbsp;&nbsp;&nbsp;&nbsp;&nbsp;&nbsp;&nbsp;&nbsp;&nbsp;&nbsp;&nbsp;&nbsp;&nbsp;&nbsp;&nbsp;&nbsp;&nbsp;using  &nbsp;<code style=\"background-color: yellow;\">_ClassName__methodname</code>      <br>\n",
    "&nbsp;&nbsp;&nbsp;&nbsp;&nbsp;&nbsp;&nbsp;&nbsp;&nbsp;&nbsp;&nbsp;&nbsp;&nbsp;&nbsp;&nbsp;&nbsp;&nbsp;&nbsp;&nbsp;&nbsp;&nbsp;&nbsp;&nbsp;&nbsp;&nbsp;&nbsp;&nbsp;&nbsp;<span style=\"font-size: 0.7rem; margin-left: 5px;\">■</span>&nbsp;&nbsp;&nbsp;&nbsp;&nbsp;&nbsp;<code style=\"background-color: white;\">ClassName.<span style=\"color: red;\">_ClassName__instanceattributename</span> </code>      <br>\n",
    "&nbsp;&nbsp;&nbsp;&nbsp;&nbsp;&nbsp;&nbsp;&nbsp;&nbsp;&nbsp;&nbsp;&nbsp;&nbsp;&nbsp;&nbsp;&nbsp;&nbsp;&nbsp;&nbsp;&nbsp;&nbsp;&nbsp;&nbsp;&nbsp;&nbsp;&nbsp;&nbsp;&nbsp;<span style=\"font-size: 0.7rem; margin-left: 5px;\">■</span>&nbsp;&nbsp;&nbsp;&nbsp;&nbsp;&nbsp;<code style=\"background-color: white;\">objectname.<span style=\"color: red;\">_ClassName__instancemethodname</span>   </code>      <br>\n",
    "\n",
    "</div>"
   ]
  },
  {
   "cell_type": "markdown",
   "id": "b3996176-1add-4fa9-9358-0e087d7aeea6",
   "metadata": {},
   "source": [
    "<br>\n",
    "\n",
    "<span style=\"color: #06fff0; font-size: 0.7rem;\">■■■■■■■■■■■■■■■■■■■■■■■■■■■■■■■■■■■■■■■■■■■■■■■■■■■■■■■■■■■■■■■■■■■■■■■■■■■■■■■■■■■■■■■■■■■■■■■■■■■■■■■■■■■■■■■</span>\n",
    "\n",
    "<br>\n",
    "\n",
    "**Let's &nbsp; Practice**\n",
    "\n",
    "<pre style=\"background-color: #ffe6ce;\">\n",
    "    \n",
    "    1. Create <span style=\"font-size: 1rem; color: blue;\"><strong>Account</strong></span> class with 2 attributes - <span style=\"background-color: #8effee;\"> balance </span> & <span style=\"background-color: #8effee;\"> account number </span>\n",
    "\n",
    "    \n",
    "    2. Create methods for <span style=\"background-color: #8effee;\"> debiting </span>, <span style=\"background-color: #8effee;\"> crediting </span> & <span style=\"background-color: #8effee;\"> printing the balance </span>\n",
    "\n",
    "    \n",
    "    3. Create <span style=\"font-size: 1rem; color: blue;\"><strong>Transaction</strong></span> class with a method for transferring money from one account to another\n",
    "\n",
    "    \n",
    "    4. Create a <span style=\"color: #fb0136;\">private <u>instance</u> attribute</span> - <span style=\"background-color: #8effee;\"> account password </span> so that it cannot be accessed outside the <span style=\"font-size: 1rem; color: blue;\"><strong>Account</strong></span> class\n",
    "\n",
    "    \n",
    "    5. Add a <span style=\"color: #fb0136;\";>public <u>class</u> attribute</span> <span style=\"background-color: #8effee;\"> bank name </span> and a <span style=\"color: #fb0136;\">private <u>class</u> attribute</span> <span style=\"background-color: #8effee;\"> governed by </span>\n",
    "       Try different ways of accessing them through both an <u>objectname</u> and the <u>classname</u>\n",
    "\n",
    "    \n",
    "    6. Add a <span style=\"color: #fb0136;\">private <u>class</u> method</span> <span style=\"background-color: #8effee;\"> get bank details </span>, a <span style=\"color: #fb0136;\">private <u>instance</u> method</span> <span style=\"background-color: #8effee;\"> get account details </span>\n",
    "       And then print all these details like a passbook through a <span style=\"color: #fb0136;\">public <u>instance</u> method</span> <span style=\"background-color: #8effee;\"> print_passbook() </span>\n",
    "    \n",
    "</pre>\n",
    "\n",
    "<br><br>\n",
    "\n",
    "<font size=\"+1\">↳</font>&nbsp; 1. &nbsp;&nbsp;<code style=\"background-color: #ffe6ce; padding: 10px;\">Create <span style=\"font-size: 1rem; color: blue;\"><strong>Account</strong></span> class with 2 attributes - <span style=\"background-color: #8effee;\"> balance </span> & <span style=\"background-color: #8effee;\"> account number </span></code>"
   ]
  },
  {
   "cell_type": "code",
   "execution_count": 24,
   "id": "f56de980-827b-46f1-9012-68ef3f5e4f53",
   "metadata": {},
   "outputs": [
    {
     "name": "stdout",
     "output_type": "stream",
     "text": [
      "Account Number  = AC10001\n",
      "Account Balance = 50000\n"
     ]
    }
   ],
   "source": [
    "\n",
    "class Account:\n",
    "    def __init__(self, acc, bal):\n",
    "        self.account_no = acc\n",
    "        self.balance = bal\n",
    "\n",
    "\n",
    "acc1 = Account(\"AC10001\", 50000)                         # creates  an  object  \"acc1\"  of  type  \"Account\"\n",
    "\n",
    "\n",
    "print(\"Account Number  =\", acc1.account_no)              # Output:  Account Number  = AC10001\n",
    "print(\"Account Balance =\", acc1.balance)                 # Output:  Account Balance = 50000\n"
   ]
  },
  {
   "cell_type": "markdown",
   "id": "efc930f7-1fbf-4b0e-a164-326d4aa99d62",
   "metadata": {},
   "source": [
    "<br><br>\n",
    "\n",
    "<font size=\"+1\">↳</font>&nbsp; 2. &nbsp;&nbsp;<code style=\"background-color: #ffe6ce; padding: 10px;\">Create methods for <span style=\"background-color: #8effee;\"> debiting </span>, <span style=\"background-color: #8effee;\"> crediting </span> & <span style=\"background-color: #8effee;\"> printing the balance </span></code>"
   ]
  },
  {
   "cell_type": "code",
   "execution_count": 28,
   "id": "fb76c57f-bff1-4510-8b8c-bc1234da773b",
   "metadata": {},
   "outputs": [
    {
     "name": "stdout",
     "output_type": "stream",
     "text": [
      "Account Number  = AC10001\n",
      "Account Balance = 50000\n",
      "Rs. 1000  was  debited  from  your  account  AC10001\n",
      "Total  Balance  =  Rs. 49000\n",
      "Rs. 40000  was  credited  from  your  account  AC10001\n",
      "Total Balance = Rs. 89000\n",
      "Rs. 7000  was  debited  from  your  account  AC10001\n",
      "Total  Balance  =  Rs. 82000\n",
      "Insufficient  amount  to  debit  Rs. 500000000  from  account AC10001\n"
     ]
    }
   ],
   "source": [
    "\n",
    "class Account:\n",
    "    def __init__(self, acc, bal):\n",
    "        self.account_no = acc\n",
    "        self.balance = bal\n",
    "\n",
    "    def credit(self, amount):\n",
    "        self.balance = self.balance + amount\n",
    "        print(\"Rs.\", amount, \" was  credited  from  your  account \", self.account_no)\n",
    "        print(\"Total Balance = Rs.\", self.get_balance())\n",
    "\n",
    "    def debit(self, amount):\n",
    "        if amount > self.balance:\n",
    "            print(\"Insufficient  amount  to  debit  Rs.\", amount, \" from  account\", self.account_no)\n",
    "        else:\n",
    "            self.balance = self.balance - amount\n",
    "            print(\"Rs.\", amount, \" was  debited  from  your  account \", self.account_no)\n",
    "            print(\"Total  Balance  =  Rs.\", self.get_balance())\n",
    "\n",
    "    def get_balance(self):\n",
    "        return self.balance\n",
    "\n",
    "\n",
    "acc1 = Account(\"AC10001\", 50000)\n",
    "\n",
    "print(\"Account Number  =\", acc1.account_no)               # OUTPUT:   Account Number  = AC10001  \n",
    "print(\"Account Balance =\", acc1.get_balance())            # OUTPUT:   Account Balance = 50000\n",
    "\n",
    "\n",
    "acc1.debit(1000)                                          # OUTPUT:   Rs. 1000  was  debited  from  your  account  AC10001\n",
    "                                                          #           Total  Balance  =  Rs. 49000 \n",
    "\n",
    "\n",
    "acc1.credit(40000)                                        # OUTPUT:   Rs. 40000  was  credited  from  your  account  AC10001\n",
    "                                                          #           Total Balance = Rs. 89000\n",
    "\n",
    "\n",
    "acc1.debit(7000)                                          # OUTPUT:   Rs. 7000  was  debited  from  your  account  AC10001\n",
    "                                                          #           Total  Balance  =  Rs. 82000\n",
    "\n",
    "\n",
    "acc1.debit(500000000)                                     # OUTPUT:   Insufficient  amount  to  debit  Rs. 500000000  from  account AC10001\n"
   ]
  },
  {
   "cell_type": "markdown",
   "id": "d1f26821-0815-42eb-ac7c-f3af617f79bc",
   "metadata": {},
   "source": [
    "<br>\n",
    "\n",
    "<div style=\"background-color: #d9fffc; padding-top: 15px; padding-bottom: 5px; padding-left: 10px;\">\n",
    "\n",
    "We could have kept &nbsp;<strong><span style=\"color: blue;\">credit( )</span></strong>&nbsp;, &nbsp;<strong><span style=\"color: blue;\">debit( )</span></strong>&nbsp; and &nbsp;<strong><span style=\"color: blue;\">get_balance( )</span></strong>&nbsp; functions separately. &nbsp;But for that we would have to use different different types of data structures to store related data for different different accounts and manage them differently. &nbsp;So, it's better to <u>wrap them together in a &nbsp;<span style=\"color: red;\">capsule</span>&nbsp; called &nbsp;<span style=\"color: red;\">object</span></u>.\n",
    "    \n",
    "Also, by now you must have understood why we use &nbsp;<strong><u>Class</u></strong> &nbsp;and &nbsp;<strong><u>Object</u></strong> &nbsp;concept in real-life scenarios to logically organize our code in a structured manner.\n",
    "</div>\n",
    "\n",
    "<br><br>\n",
    "\n",
    "<font size=\"+1\">↳</font>&nbsp; 3. &nbsp;&nbsp;<code style=\"background-color: #ffe6ce; padding: 10px;\">Create <span style=\"font-size: 1rem; color: blue;\"><strong>Transaction</strong></span> class with a method for transfering money from one account to another.</code>\n",
    "\n",
    "<br>\n",
    "\n",
    "&nbsp;&nbsp;&nbsp;&nbsp;&nbsp;&nbsp;&nbsp;&nbsp;&nbsp;&nbsp;&nbsp;<span style=\"color: white; background-color: blaCK;\">&nbsp;&nbsp;Step - 1&nbsp;&nbsp;</span>\n"
   ]
  },
  {
   "cell_type": "code",
   "execution_count": 32,
   "id": "e36135bb-4d65-493e-b4f8-278837dcd28b",
   "metadata": {},
   "outputs": [
    {
     "name": "stdout",
     "output_type": "stream",
     "text": [
      "Account to be debited     :  AC10005\n",
      "Account to be credited    :  AC10001\n",
      "Ammount to be transferred :  20000\n"
     ]
    },
    {
     "ename": "AttributeError",
     "evalue": "'str' object has no attribute 'balance'",
     "output_type": "error",
     "traceback": [
      "\u001b[1;31m---------------------------------------------------------------------------\u001b[0m",
      "\u001b[1;31mAttributeError\u001b[0m                            Traceback (most recent call last)",
      "Cell \u001b[1;32mIn[32], line 45\u001b[0m\n\u001b[0;32m     42\u001b[0m \u001b[38;5;28mprint\u001b[39m(\u001b[38;5;124m\"\u001b[39m\u001b[38;5;124mAccount to be credited    : \u001b[39m\u001b[38;5;124m\"\u001b[39m, txn1\u001b[38;5;241m.\u001b[39mcredit_account)              \u001b[38;5;66;03m# Account  to  be  credited     :  AC10001\u001b[39;00m\n\u001b[0;32m     43\u001b[0m \u001b[38;5;28mprint\u001b[39m(\u001b[38;5;124m\"\u001b[39m\u001b[38;5;124mAmmount to be transferred : \u001b[39m\u001b[38;5;124m\"\u001b[39m, txn1\u001b[38;5;241m.\u001b[39mtransfer_amount)             \u001b[38;5;66;03m# Ammount  to  be  transferred  :  20000\u001b[39;00m\n\u001b[1;32m---> 45\u001b[0m \u001b[43mtxn1\u001b[49m\u001b[38;5;241;43m.\u001b[39;49m\u001b[43mtransfer\u001b[49m\u001b[43m(\u001b[49m\u001b[43m)\u001b[49m\n",
      "Cell \u001b[1;32mIn[32], line 31\u001b[0m, in \u001b[0;36mTransaction.transfer\u001b[1;34m(self)\u001b[0m\n\u001b[0;32m     30\u001b[0m \u001b[38;5;28;01mdef\u001b[39;00m \u001b[38;5;21mtransfer\u001b[39m(\u001b[38;5;28mself\u001b[39m):\n\u001b[1;32m---> 31\u001b[0m     \u001b[43mAccount\u001b[49m\u001b[38;5;241;43m.\u001b[39;49m\u001b[43mdebit\u001b[49m\u001b[43m(\u001b[49m\u001b[38;5;28;43mself\u001b[39;49m\u001b[38;5;241;43m.\u001b[39;49m\u001b[43mdebit_account\u001b[49m\u001b[43m,\u001b[49m\u001b[43m \u001b[49m\u001b[38;5;28;43mself\u001b[39;49m\u001b[38;5;241;43m.\u001b[39;49m\u001b[43mtransfer_amount\u001b[49m\u001b[43m)\u001b[49m         \u001b[38;5;66;03m# debits   money  from  debit_account\u001b[39;00m\n\u001b[0;32m     32\u001b[0m     Account\u001b[38;5;241m.\u001b[39mcredit(\u001b[38;5;28mself\u001b[39m\u001b[38;5;241m.\u001b[39mcredit_account, \u001b[38;5;28mself\u001b[39m\u001b[38;5;241m.\u001b[39mtransfer_amount)\n",
      "Cell \u001b[1;32mIn[32], line 12\u001b[0m, in \u001b[0;36mAccount.debit\u001b[1;34m(self, amount)\u001b[0m\n\u001b[0;32m     11\u001b[0m \u001b[38;5;28;01mdef\u001b[39;00m \u001b[38;5;21mdebit\u001b[39m(\u001b[38;5;28mself\u001b[39m, amount):\n\u001b[1;32m---> 12\u001b[0m     \u001b[38;5;28;01mif\u001b[39;00m amount \u001b[38;5;241m>\u001b[39m \u001b[38;5;28;43mself\u001b[39;49m\u001b[38;5;241;43m.\u001b[39;49m\u001b[43mbalance\u001b[49m:\n\u001b[0;32m     13\u001b[0m         \u001b[38;5;28mprint\u001b[39m(\u001b[38;5;124m\"\u001b[39m\u001b[38;5;124mInsufficient  funds  to  debit  Rs.\u001b[39m\u001b[38;5;124m\"\u001b[39m, amount, \u001b[38;5;124m\"\u001b[39m\u001b[38;5;124m from  account\u001b[39m\u001b[38;5;124m\"\u001b[39m, \u001b[38;5;28mself\u001b[39m\u001b[38;5;241m.\u001b[39maccount_no)\n\u001b[0;32m     14\u001b[0m     \u001b[38;5;28;01melse\u001b[39;00m:\n",
      "\u001b[1;31mAttributeError\u001b[0m: 'str' object has no attribute 'balance'"
     ]
    }
   ],
   "source": [
    "\n",
    "class Account:\n",
    "    def __init__(self, acc, bal):\n",
    "        self.account_no = acc\n",
    "        self.balance = bal\n",
    "\n",
    "    def credit(self, amount):\n",
    "        self.balance = self.balance + amount\n",
    "        print(\"Rs.\", amount, \" was  credited  from  your  account \", self.account_no)\n",
    "        print(\"Total Balance = Rs.\", self.get_balance())\n",
    "\n",
    "    def debit(self, amount):\n",
    "        if amount > self.balance:\n",
    "            print(\"Insufficient  funds  to  debit  Rs.\", amount, \" from  account\", self.account_no)\n",
    "        else:\n",
    "            self.balance = self.balance - amount\n",
    "            print(\"Rs.\", amount, \" was  debited  from  your  account \", self.account_no)\n",
    "            print(\"Total  Balance  =  Rs.\", self.get_balance())\n",
    "\n",
    "    def get_balance(self):\n",
    "        return self.balance\n",
    "\n",
    "################################################################################################################################################\n",
    "\n",
    "class Transaction:\n",
    "    def __init__(self, debit_account, credit_account, amount):\n",
    "        self.debit_account = debit_account                              # account  to  be  debited\n",
    "        self.credit_account = credit_account                            # account  to  be  credited\n",
    "        self.transfer_amount = amount                                   # amount   to  be  transferred\n",
    "\n",
    "    def transfer(self):\n",
    "        Account.debit(self.debit_account, self.transfer_amount)         # debits   money  from  debit_account\n",
    "        Account.credit(self.credit_account, self.transfer_amount)       # credits  money  into  credit_account\n",
    "\n",
    "################################################################################################################################################\n",
    "\n",
    "acc1 = Account(\"AC10001\", 50000)\n",
    "acc2 = Account(\"AC10005\", 120000)\n",
    "txn1 = Transaction(acc2.account_no, acc1.account_no, 20000)\n",
    "\n",
    "\n",
    "print(\"Account to be debited     : \", txn1.debit_account)               # Account  to  be  debited      :  AC10005\n",
    "print(\"Account to be credited    : \", txn1.credit_account)              # Account  to  be  credited     :  AC10001\n",
    "print(\"Ammount to be transferred : \", txn1.transfer_amount)             # Ammount  to  be  transferred  :  20000\n",
    "\n",
    "txn1.transfer()\n"
   ]
  },
  {
   "cell_type": "markdown",
   "id": "5e1ea73b-4ffa-4060-b0a7-821feb86544a",
   "metadata": {},
   "source": [
    "<br>\n",
    "\n",
    "<div style=\"margin-left: 72px;\">\n",
    "\n",
    "![](../../media/oops_1.PNG)\n",
    "    \n",
    "</div>\n",
    "\n",
    "<br>\n",
    "\n",
    "<div style=\"margin-left: 90px; background-color: #b7fff6; padding: 10px;\">\n",
    "Instead of passing &nbsp;<code style=\"color: red; background-color: white;\">debit_account</code>&nbsp; and &nbsp;<code style=\"color: red; background-color: white;\">credit_account</code>&nbsp; as account numbers of <strong>string type</strong> in &nbsp;<code style=\"color: blue; background-color: white;\">transfer()</code> method, if we pass them as <strong>objects of account type</strong>, this error can be avoided.\n",
    "</div>\n",
    "\n",
    "<br>\n",
    "\n",
    "<div style=\"margin-left: 82px;\">\n",
    "\n",
    "![](../../media/Shraddha_Kapra_oops_7.PNG)\n",
    "\n",
    "</div>\n",
    "\n",
    "&nbsp;&nbsp;&nbsp;&nbsp;&nbsp;&nbsp;&nbsp;&nbsp;&nbsp;&nbsp;&nbsp;<span style=\"color: white; background-color: black;\">&nbsp;&nbsp;Step - 2&nbsp;&nbsp;</span>\n"
   ]
  },
  {
   "cell_type": "code",
   "execution_count": 33,
   "id": "de350bbe-f69c-4da7-aec6-052439f550a3",
   "metadata": {},
   "outputs": [
    {
     "name": "stdout",
     "output_type": "stream",
     "text": [
      "Account to be debited     :  <__main__.Account object at 0x0000024E6C0F2ED0>\n",
      "Account to be credited    :  <__main__.Account object at 0x0000024E6C0FCD10>\n",
      "Ammount to be transferred :  20000\n",
      "\n",
      "\n",
      "Rs. 20000  was  debited  from  your  account  AC10005\n",
      "Total  Balance  =  Rs. 100000\n",
      "Rs. 20000  was  credited  from  your  account  AC10001\n",
      "Total Balance = Rs. 70000\n"
     ]
    }
   ],
   "source": [
    "\n",
    "class Account:\n",
    "    def __init__(self, acc, bal):\n",
    "        self.account_no = acc\n",
    "        self.balance = bal\n",
    "\n",
    "    def credit(self, amount):\n",
    "        self.balance = self.balance + amount\n",
    "        print(\"Rs.\", amount, \" was  credited  from  your  account \", self.account_no)\n",
    "        print(\"Total Balance = Rs.\", self.get_balance())\n",
    "\n",
    "    def debit(self, amount):\n",
    "        if amount > self.balance:\n",
    "            print(\"Insufficient  funds  to  debit  Rs.\", amount, \" from  account\", self.account_no)\n",
    "        else:\n",
    "            self.balance = self.balance - amount\n",
    "            print(\"Rs.\", amount, \" was  debited  from  your  account \", self.account_no)\n",
    "            print(\"Total  Balance  =  Rs.\", self.get_balance())\n",
    "\n",
    "    def get_balance(self):\n",
    "        return self.balance\n",
    "\n",
    "######################################################################################################################################################\n",
    "\n",
    "class Transaction:\n",
    "    def __init__(self, debit_account, credit_account, amount):\n",
    "        self.debit_account = debit_account                               # account  to  be  debited\n",
    "        self.credit_account = credit_account                             # account  to  be  credited\n",
    "        self.transfer_amount = amount                                    # amount   to  be  transferred\n",
    "\n",
    "    def transfer(self):\n",
    "        Account.debit(self.debit_account, self.transfer_amount)         # debits   money   from  debit_account\n",
    "        Account.credit(self.credit_account, self.transfer_amount)       # credits  money   into  credit_account\n",
    "\n",
    "######################################################################################################################################################\n",
    "\n",
    "acc1 = Account(\"AC10001\", 50000)             # creates \"Account\" object \"acc1\"\n",
    "acc2 = Account(\"AC10005\", 120000)            # creates \"Account\" object \"acc2\"\n",
    "txn1 = Transaction(acc2, acc1, 20000)        # passing parameters \"acc2\" & \"acc1\" as \"Account\" objects in order to create a \"Transaction\" object \"txn1\"\n",
    "\n",
    "\n",
    "print(\"Account to be debited     : \", txn1.debit_account)\n",
    "print(\"Account to be credited    : \", txn1.credit_account)\n",
    "print(\"Ammount to be transferred : \", txn1.transfer_amount)\n",
    "print(\"\\n\")\n",
    "txn1.transfer()\n"
   ]
  },
  {
   "cell_type": "markdown",
   "id": "6abe3b74-8016-4ecc-b198-3bacb623ef3d",
   "metadata": {},
   "source": [
    "<br><br>\n",
    "\n",
    "<font size=\"+1\">↳</font>&nbsp; 4. &nbsp;&nbsp;<code style=\"background-color: #ffe6ce; padding: 10px;\">Create a <span style=\"color: #fb0136;\">private <u>instance</u> attribute</span> - <span style=\"background-color: #8effee;\"> account password </span> so that it cannot be accessed outside the <span style=\"font-size: 1rem; color: blue;\"><strong>Account</strong></span> class</code>\n",
    "\n",
    "<br>\n",
    "\n",
    "&nbsp;&nbsp;&nbsp;&nbsp;&nbsp;&nbsp;&nbsp;&nbsp;&nbsp;&nbsp;&nbsp;<span style=\"color: white; background-color: black;\">&nbsp;&nbsp;Step - 1&nbsp;&nbsp;</span>\n"
   ]
  },
  {
   "cell_type": "code",
   "execution_count": 83,
   "id": "66a22341-b83e-4202-8e80-fec3848b1a07",
   "metadata": {},
   "outputs": [
    {
     "name": "stdout",
     "output_type": "stream",
     "text": [
      "12345\n",
      "5000\n",
      "abcde\n"
     ]
    }
   ],
   "source": [
    "\n",
    "class Account:\n",
    "    \n",
    "    def __init__(self, acc_no, balance, acc_pass):\n",
    "        self.acc_no = acc_no                         #  public  instance  attribute   ===================>  \"acc_no\"\n",
    "        self.balance = balance                       #  public  instance  attribute   ===================>  \"balance\"\n",
    "        self._acc_pass = acc_pass                    #  private  instance  attribute  ===================>  \"acc_pass\"\n",
    "\n",
    "\n",
    "acc1 = Account(\"12345\", 5000, \"abcde\")               # creates  object  \"acc1\"  of  type  \"Account\"\n",
    "\n",
    "\n",
    "print(acc1.acc_no)                                   # OUTPUT:  12345          # \"acc_no\"    is  accessible  outside  the  \"Account\"  class\n",
    "print(acc1.balance)                                  # OUTPUT:  5000           # \"balance\"   is  accessible  outside  the  \"Account\"  class\n",
    "print(acc1._acc_pass)                                # OUTPUT:  abcde          # \"acc_pass\"  is  accessible  outside  the  \"Account\"  class\n"
   ]
  },
  {
   "cell_type": "markdown",
   "id": "a9649be9-03c1-4748-b9c4-1bcb1cbbf9f3",
   "metadata": {},
   "source": [
    "<br>\n",
    "\n",
    "&nbsp;&nbsp;&nbsp;&nbsp;&nbsp;&nbsp;&nbsp;&nbsp;&nbsp;&nbsp;&nbsp;&nbsp;&nbsp;&nbsp;&nbsp;&nbsp;&nbsp;&nbsp;&nbsp;&nbsp;&nbsp;&nbsp;&nbsp;<code style=\"background-color: white;\">As you can see <code style=\"color: red;\">_acc_pass</code> is <u>still accessible outside the <span style=\"color: blue; font-size: 1rem;\"><strong>Account</strong></span> class</u>, which is not safe, so let's use <span style=\"font-size: 1rem;\"><strong>name mangling</strong></span></code> \n",
    "\n",
    "<br>\n",
    "\n",
    "&nbsp;&nbsp;&nbsp;&nbsp;&nbsp;&nbsp;&nbsp;&nbsp;&nbsp;&nbsp;&nbsp;<span style=\"color: white; background-color: black;\">&nbsp;&nbsp;Step - 2&nbsp;&nbsp;</span>"
   ]
  },
  {
   "cell_type": "code",
   "execution_count": 78,
   "id": "a923a39e-7d50-475e-96fb-d5dacf557b18",
   "metadata": {},
   "outputs": [
    {
     "ename": "AttributeError",
     "evalue": "'Account' object has no attribute '__acc_pass'",
     "output_type": "error",
     "traceback": [
      "\u001b[1;31m---------------------------------------------------------------------------\u001b[0m",
      "\u001b[1;31mAttributeError\u001b[0m                            Traceback (most recent call last)",
      "Cell \u001b[1;32mIn[78], line 10\u001b[0m\n\u001b[0;32m      5\u001b[0m         \u001b[38;5;28mself\u001b[39m\u001b[38;5;241m.\u001b[39m__acc_pass \u001b[38;5;241m=\u001b[39m acc_pass                   \u001b[38;5;66;03m#  name  mangled  private  instance  attribute  ===>  \"acc_pass\"\u001b[39;00m\n\u001b[0;32m      7\u001b[0m acc1 \u001b[38;5;241m=\u001b[39m Account(\u001b[38;5;124m\"\u001b[39m\u001b[38;5;124m12345\u001b[39m\u001b[38;5;124m\"\u001b[39m, \u001b[38;5;241m5000\u001b[39m, \u001b[38;5;124m\"\u001b[39m\u001b[38;5;124mabcde\u001b[39m\u001b[38;5;124m\"\u001b[39m)\n\u001b[1;32m---> 10\u001b[0m \u001b[38;5;28mprint\u001b[39m(\u001b[43macc1\u001b[49m\u001b[38;5;241;43m.\u001b[39;49m\u001b[43m__acc_pass\u001b[49m)                               \u001b[38;5;66;03m# ERROR: 'Account' object has no attribute '__acc_pass'\u001b[39;00m\n",
      "\u001b[1;31mAttributeError\u001b[0m: 'Account' object has no attribute '__acc_pass'"
     ]
    }
   ],
   "source": [
    "\n",
    "class Account:\n",
    "    def __init__(self, acc_no, balance, acc_pass):\n",
    "        self.acc_no = acc_no                         #  public  instance  attribute  ===================>  \"acc_no\"\n",
    "        self.balance = balance                       #  public  instance  attribute  ===================>  \"balance\"\n",
    "        self.__acc_pass = acc_pass                   #  name  mangled  private  instance  attribute  ===>  \"acc_pass\"\n",
    "\n",
    "acc1 = Account(\"12345\", 5000, \"abcde\")\n",
    "\n",
    "\n",
    "print(acc1.__acc_pass)                               # ERROR: 'Account' object has no attribute '__acc_pass'\n"
   ]
  },
  {
   "cell_type": "markdown",
   "id": "091a1250-2900-468e-abe4-f922089c0402",
   "metadata": {},
   "source": [
    "<br>\n",
    "\n",
    "&nbsp;&nbsp;&nbsp;&nbsp;&nbsp;&nbsp;&nbsp;&nbsp;&nbsp;&nbsp;&nbsp;&nbsp;&nbsp;&nbsp;&nbsp;&nbsp;&nbsp;&nbsp;&nbsp;&nbsp;&nbsp;&nbsp;&nbsp;<code style=\"background-color: white;\">As you can see <code style=\"color: red;\">__acc_pass</code> is <u>now not accessible outside the <span style=\"color: blue; font-size: 1rem;\"><strong>Account</strong></span> class anymore</u></code> \n",
    "\n",
    "<br>\n",
    "\n",
    "&nbsp;&nbsp;&nbsp;&nbsp;&nbsp;&nbsp;&nbsp;&nbsp;&nbsp;&nbsp;&nbsp;<span style=\"color: white; background-color: black;\">&nbsp;&nbsp;Step - 3&nbsp;&nbsp;</span>\n",
    "\n",
    "<br>\n",
    "\n",
    "<div style=\"background-color: #b7fff6; padding-top: 15px; padding-bottom: 5px; padding-left: 10px; margin-left: 97px;\">  \n",
    "    \n",
    "However, although the <span style=\"color: black;\"><strong>name mangled private attribute</strong></span> &nbsp;<code style=\"background-color: white; color: red;\">__acc_pass</code>&nbsp; may not be directly accessible outside the class now, but we can still access it &nbsp;<span style=\"background-color: #aed6f1;\"> &nbsp;indirectly&nbsp; </span>&nbsp; from outside the class in the follwing two ways: \n",
    "\n",
    "<br>\n",
    "\n",
    "&nbsp;&nbsp;&nbsp;&nbsp;&nbsp;&nbsp;&nbsp;&nbsp;&nbsp;&nbsp;(1) &nbsp;&nbsp;use &nbsp;<code style=\"background-color: white\"><span style=\"color: red;\">_ClassName__attributename</span></code> &nbsp;&nbsp;&nbsp;&nbsp;===>&nbsp;&nbsp;&nbsp;&nbsp; <code style=\"background-color: white; color: red;\">_Account__acc_pass</code>\n",
    "\n",
    "<br>\n",
    "\n",
    "&nbsp;&nbsp;&nbsp;&nbsp;&nbsp;&nbsp;&nbsp;&nbsp;&nbsp;&nbsp;(2) &nbsp;&nbsp;first access the <span style=\"color: black;\"><strong>name mangled private attribute</strong></span> &nbsp;<code style=\"background-color: white; color: red;\">__acc_pass</code>&nbsp; using a <span style=\"color: black;\"><strong>public method</strong></span> within the class <br>\n",
    "&nbsp;&nbsp;&nbsp;&nbsp;&nbsp;&nbsp;&nbsp;&nbsp;&nbsp;&nbsp;&nbsp;&nbsp;&nbsp;&nbsp;&nbsp;&nbsp;&nbsp;&nbsp;& then call that <span style=\"color: black;\"><strong>public method</strong></span> from outside the class to now access that <span style=\"color: black;\"><strong>name mangled private attribute</strong></span> &nbsp;<code style=\"background-color: white; color: red;\">__acc_pass</code>\n",
    "\n",
    "</div>\n",
    "\n",
    "<br>\n",
    "\n",
    "&nbsp;&nbsp;&nbsp;&nbsp;&nbsp;&nbsp;&nbsp;&nbsp;&nbsp;&nbsp;&nbsp;&nbsp;&nbsp;&nbsp;&nbsp;&nbsp;&nbsp;&nbsp;&nbsp;&nbsp;&nbsp;&nbsp;&nbsp;&nbsp;&nbsp;<font size=\"+1\">↳</font> &nbsp;<code style=\"background-color:  #f29b16 \n",
    ";\">using &nbsp;method - 1</code>\n"
   ]
  },
  {
   "cell_type": "code",
   "execution_count": 94,
   "id": "482d936b-5b54-4767-b0e2-5e62099c3bf5",
   "metadata": {},
   "outputs": [
    {
     "data": {
      "text/plain": [
       "'abcde'"
      ]
     },
     "execution_count": 94,
     "metadata": {},
     "output_type": "execute_result"
    }
   ],
   "source": [
    "\n",
    "class Account:\n",
    "    def __init__(self, acc_no, balance, acc_pass):\n",
    "        self.acc_no = acc_no                         #  public  instance  attribute  ====================>  \"acc_no\"\n",
    "        self.balance = balance                       #  public  instance  attribute  ====================>  \"balance\"\n",
    "        self.__acc_pass = acc_pass                   #  name  mangled  private  instance  attribute  ====>  \"acc_pass\"\n",
    "\n",
    "\n",
    "acc1 = Account(\"12345\", 5000, \"abcde\")\n",
    "\n",
    "\n",
    "acc1._Account__acc_pass                              # Output: abcde    ====>    \"__acc_pass\"  is  now  accessible  from  outside  the  \"Account\"  class\n",
    "                                                     #                            <objectname._ClassName__attributename>\n"
   ]
  },
  {
   "cell_type": "markdown",
   "id": "e2fc76a7-2a41-4338-95a6-f3fcfb9f7d68",
   "metadata": {},
   "source": [
    "\n",
    "&nbsp;&nbsp;&nbsp;&nbsp;&nbsp;&nbsp;&nbsp;&nbsp;&nbsp;&nbsp;&nbsp;&nbsp;&nbsp;&nbsp;&nbsp;&nbsp;&nbsp;&nbsp;&nbsp;&nbsp;&nbsp;&nbsp;&nbsp;&nbsp;&nbsp;<font size=\"+1\">↳</font> &nbsp;<code style=\"background-color:  #f29b16 \n",
    ";\">using &nbsp;method - 2</code>"
   ]
  },
  {
   "cell_type": "code",
   "execution_count": 95,
   "id": "c536ccb2-9e7f-42c4-9dad-549131dd68fd",
   "metadata": {},
   "outputs": [
    {
     "name": "stdout",
     "output_type": "stream",
     "text": [
      "abcde\n"
     ]
    }
   ],
   "source": [
    "\n",
    "class Account:\n",
    "    def __init__(self, acc_no, balance, acc_pass):\n",
    "        self.acc_no = acc_no                          #  public  instance  attribute  ====================>  \"acc_no\"\n",
    "        self.balance = balance                        #  public  instance  attribute  ====================>  \"balance\"\n",
    "        self.__acc_pass = acc_pass                    #  name  mangled  private  instance  attribute  ====>  \"acc_pass\"\n",
    "        \n",
    "    def reset_password(self):                         #  PUBLIC  INSTANCE  METHOD\n",
    "        print(self.__acc_pass)\n",
    "\n",
    "\n",
    "acc1 = Account(\"12345\", 5000, \"abcde\")\n",
    "\n",
    "\n",
    "acc1.reset_password()                                 # Output: abcde     ====>     \"__acc_pass\"  is accessible  from  outside  the  \"Account\"  class\n"
   ]
  },
  {
   "cell_type": "markdown",
   "id": "d24ff6b9-4759-411b-8cd5-92081a173f28",
   "metadata": {},
   "source": [
    "<br>\n",
    "\n",
    "&nbsp;&nbsp;&nbsp;&nbsp;&nbsp;&nbsp;&nbsp;&nbsp;&nbsp;&nbsp;&nbsp;&nbsp;&nbsp;&nbsp;&nbsp;&nbsp;&nbsp;&nbsp;&nbsp;&nbsp;&nbsp;&nbsp;&nbsp;&nbsp;<span style=\"background-color: white; font-size: 0.9rem;\">As &nbsp;you &nbsp;can &nbsp;see &nbsp;<code style=\"color: red;\">__acc_pass</code>&nbsp; <u>is &nbsp;still &nbsp;accessible &nbsp;from &nbsp;outside &nbsp;the &nbsp;<span style=\"color: blue;\"><strong>Account</strong></span> &nbsp;class</u> &nbsp;through &nbsp;the &nbsp;<strong>public &nbsp;instance &nbsp;method</strong> &nbsp;<code style=\"color: blue;\">reset_password()</code></span>\n",
    "\n",
    "<br>\n",
    "\n",
    "&nbsp;&nbsp;&nbsp;&nbsp;&nbsp;&nbsp;&nbsp;&nbsp;&nbsp;&nbsp;&nbsp;&nbsp;&nbsp;&nbsp;&nbsp;&nbsp;&nbsp;&nbsp;&nbsp;&nbsp;&nbsp;&nbsp;&nbsp;&nbsp;<span style=\"background-color: #b7fff6; padding: 7px;\">If &nbsp;you &nbsp;want &nbsp;to &nbsp;stop &nbsp;this &nbsp;indirect &nbsp;access, &nbsp;then &nbsp;you &nbsp;should &nbsp;make &nbsp;the &nbsp;<code style=\"color: blue; background-color: white;\">reset_password()</code> &nbsp;too &nbsp;a &nbsp;<strong>name &nbsp;mangled &nbsp;private &nbsp;method</strong></span>\n",
    "\n",
    "<br>\n",
    "\n",
    "&nbsp;&nbsp;&nbsp;&nbsp;&nbsp;&nbsp;&nbsp;&nbsp;&nbsp;&nbsp;&nbsp;<span style=\"color: white; background-color: black;\">&nbsp;&nbsp;Step - 4&nbsp;&nbsp;</span>"
   ]
  },
  {
   "cell_type": "code",
   "execution_count": 96,
   "id": "e4e4f53d-c0e9-468f-8cdf-a8ee1172fba9",
   "metadata": {},
   "outputs": [
    {
     "ename": "AttributeError",
     "evalue": "'Account' object has no attribute '__reset_password'",
     "output_type": "error",
     "traceback": [
      "\u001b[1;31m---------------------------------------------------------------------------\u001b[0m",
      "\u001b[1;31mAttributeError\u001b[0m                            Traceback (most recent call last)",
      "Cell \u001b[1;32mIn[96], line 14\u001b[0m\n\u001b[0;32m      8\u001b[0m         \u001b[38;5;28mprint\u001b[39m(\u001b[38;5;28mself\u001b[39m\u001b[38;5;241m.\u001b[39m__acc_pass)\n\u001b[0;32m     11\u001b[0m acc1 \u001b[38;5;241m=\u001b[39m Account(\u001b[38;5;124m\"\u001b[39m\u001b[38;5;124m12345\u001b[39m\u001b[38;5;124m\"\u001b[39m, \u001b[38;5;241m5000\u001b[39m, \u001b[38;5;124m\"\u001b[39m\u001b[38;5;124mabcde\u001b[39m\u001b[38;5;124m\"\u001b[39m)\n\u001b[1;32m---> 14\u001b[0m \u001b[43macc1\u001b[49m\u001b[38;5;241;43m.\u001b[39;49m\u001b[43m__reset_password\u001b[49m()                               \u001b[38;5;66;03m# ERROR :  AttributeError: 'Account' object has no attribute '__reset_pass'\u001b[39;00m\n",
      "\u001b[1;31mAttributeError\u001b[0m: 'Account' object has no attribute '__reset_password'"
     ]
    }
   ],
   "source": [
    "\n",
    "class Account:\n",
    "    def __init__(self, acc_no, balance, acc_pass):\n",
    "        self.acc_no = acc_no                          #  public  instance  attribute  ====================>  \"acc_no\"\n",
    "        self.balance = balance                        #  public  instance  attribute  ====================>  \"balance\"\n",
    "        self.__acc_pass = acc_pass                    #  name  mangled  private  instance  attribute  ====>  \"acc_pass\"\n",
    "\n",
    "    def __reset_password(self):                       #  NAME  MANGLED  PRIVATE  INSTANCE  METHOD\n",
    "        print(self.__acc_pass)\n",
    "\n",
    "\n",
    "acc1 = Account(\"12345\", 5000, \"abcde\")\n",
    "\n",
    "\n",
    "acc1.__reset_password()                               # ERROR :  AttributeError: 'Account' object has no attribute '__reset_pass'\n"
   ]
  },
  {
   "cell_type": "markdown",
   "id": "7af60e05-17ad-4fda-b3a1-51cbd4cc8475",
   "metadata": {},
   "source": [
    "<br>\n",
    "\n",
    "&nbsp;&nbsp;&nbsp;&nbsp;&nbsp;&nbsp;&nbsp;&nbsp;&nbsp;&nbsp;&nbsp;&nbsp;&nbsp;&nbsp;&nbsp;&nbsp;&nbsp;&nbsp;&nbsp;&nbsp;&nbsp;&nbsp;&nbsp;&nbsp;&nbsp;<code style=\"background-color: #b7fff6; padding: 7px;\">However, you still can access the <code style=\"color: blue; background-color: white;\">__reset_password()</code> from outside the class using <code style=\"background-color: white;\"><span style=\"color: red;\">_Classname__methodname</span></code></code>\n",
    "\n",
    "<br>\n",
    "\n",
    "&nbsp;&nbsp;&nbsp;&nbsp;&nbsp;&nbsp;&nbsp;&nbsp;&nbsp;&nbsp;&nbsp;<span style=\"color: white; background-color: black;\">&nbsp;&nbsp;Step - 5&nbsp;&nbsp;</span>"
   ]
  },
  {
   "cell_type": "code",
   "execution_count": 97,
   "id": "b2cc4d08-f967-4eeb-b41b-6eb7e294e944",
   "metadata": {},
   "outputs": [
    {
     "name": "stdout",
     "output_type": "stream",
     "text": [
      "abcde\n"
     ]
    }
   ],
   "source": [
    "\n",
    "class Account:\n",
    "    def __init__(self, acc_no, balance, acc_pass):    #  PUBLIC  INSTANCE  METHOD\n",
    "        self.acc_no = acc_no                          #  public  instance  attribute  ====================>  \"acc_no\"\n",
    "        self.balance = balance                        #  public  instance  attribute  ====================>  \"balance\"\n",
    "        self.__acc_pass = acc_pass                    #  name  mangled  private  instance  attribute  ====>  \"acc_pass\"\n",
    "\n",
    "    def __reset_password(self):                       #  NAME  MANGLED  PRIVATE  INSTANCE  METHOD\n",
    "        print(self.__acc_pass)\n",
    "\n",
    "\n",
    "acc1 = Account(\"12345\", 5000, \"abcde\")\n",
    "\n",
    "\n",
    "# acc1.__reset_password()                             # ERROR :  AttributeError: 'Account' object has no attribute '__reset_pass'\n",
    "acc1._Account__reset_password()                       # Output: abcde    ====>    \"__acc_pass\"  is accessible  from  outside  the  \"Account\"  class\n"
   ]
  },
  {
   "cell_type": "markdown",
   "id": "27eaeb75-f046-4bc0-907f-6fb08b783b3c",
   "metadata": {},
   "source": [
    "<br>\n",
    "\n",
    "<div style=\"margin-left: 90px; background-color: #b7fff6; padding-top: 22px; padding-bottom: 10px; padding-left: 15px; padding-right: 5px;\">\n",
    "\n",
    "You might be thinking if we can't use a <strong>name mangled private method</strong> outside the class without prefixing the &nbsp;<span style=\"color: red;\"><strong><span style=\"font-size: 1rem;\">_</span>Classname</strong></span>&nbsp; to it, then where do we actually use it directly ?\n",
    "\n",
    "<font size=\"+1\">⭐</font>&nbsp;&nbsp;&nbsp;<span style=\"background-color: white; padding: 5px;\">Generally &nbsp;we &nbsp;use &nbsp;a &nbsp;<strong>name &nbsp;mangled &nbsp;private &nbsp;method</strong> &nbsp;<span style=\"color: blue;\">internally</span> &nbsp;within &nbsp;a &nbsp;class &nbsp;<u>by &nbsp;some &nbsp;other &nbsp;methods</u>&nbsp;</span>\n",
    "</div> <br><br>\n",
    "\n",
    "&nbsp;&nbsp;&nbsp;&nbsp;&nbsp;&nbsp;&nbsp;&nbsp;&nbsp;&nbsp;&nbsp;<span style=\"color: white; background-color: black;\">&nbsp;&nbsp;Step - 6&nbsp;&nbsp;</span>\n",
    "\n",
    "&nbsp;&nbsp;&nbsp;&nbsp;&nbsp;&nbsp;&nbsp;&nbsp;&nbsp;&nbsp;&nbsp;&nbsp;&nbsp;&nbsp;&nbsp;&nbsp;&nbsp;&nbsp;&nbsp;&nbsp;&nbsp;&nbsp;&nbsp;Let us consider a situation where you ( the <span style=\"color: blue;\"><strong>Account</strong></span> object &nbsp;<code style=\"color: red;\">acc1</code> ) <span style=\"color: #f39c12;\">can only apply for **reseting** the password by making a **request**</span> , <u>but can't do it by yourself</u> :\n"
   ]
  },
  {
   "cell_type": "code",
   "execution_count": 98,
   "id": "4e8720fa-6c84-4cf4-a2a7-97cd6c2aab4d",
   "metadata": {},
   "outputs": [
    {
     "name": "stdout",
     "output_type": "stream",
     "text": [
      "abcde\n",
      "abcde\n",
      "User authentication successful\n",
      "abcde\n",
      "Password changed successfully\n"
     ]
    }
   ],
   "source": [
    "\n",
    "class Account:\n",
    "    def __init__(self, acc_no, balance, acc_pass):     #  PUBLIC  INSTANCE  METHOD\n",
    "        self.acc_no = acc_no                           #  public  instance  attribute  ====================>  \"acc_no\"\n",
    "        self.balance = balance                         #  public  instance  attribute  ====================>  \"balance\"\n",
    "        self.__acc_pass = acc_pass                     #  name  mangled  private  instance  attribute  ====>  \"acc_pass\"\n",
    "\n",
    "\n",
    "    def __reset_password(self):                        #  NAME  MANGLED  PRIVATE  INSTANCE  METHOD\n",
    "        print(self.__acc_pass)\n",
    "\n",
    "\n",
    "    def make_request_to_reset_password(self):          #  PUBLIC  INSTANCE  METHOD\n",
    "        print(\"User authentication successful\")\n",
    "        self.__reset_password()                        # calls  the  \"__reset_password\"  method  directly  without  having  to  prefix  \"_ClassName\"\n",
    "        print(\"Password changed successfully\")\n",
    "\n",
    "\n",
    "acc1 = Account(\"12345\", 5000, \"abcde\")\n",
    "\n",
    "\n",
    "print(acc1._Account__acc_pass)                         # Output:   abcde    ====>    \"__acc_pass\"  is  accessible  from  outside  the  \"Account\"  class\n",
    "acc1._Account__reset_password()                        # Output:   abcde    ====>    \"__acc_pass\"  is  accessible  from  outside  the  \"Account\"  class\n",
    "\n",
    "\n",
    "acc1.make_request_to_reset_password()                  # Output:   User authentication successful\n",
    "                                                       #           abcde\n",
    "                                                       #           Password changed successfully\n"
   ]
  },
  {
   "cell_type": "markdown",
   "id": "0d2872b7-b397-46f9-90f4-d816a67f79e2",
   "metadata": {},
   "source": [
    "<br>\n",
    "\n",
    "<div style=\"margin-left: 90px;\">\n",
    "<span style=\"background-color: white;\">As you can see, &nbsp;<code style=\"color: blue;\">make_request_to_reset_password()</code>&nbsp; method can directly access the <strong>name mangled private method</strong> &nbsp;<code style=\"color: blue;\">__reset_password()</code>&nbsp; <u>without having to prefix</u> &nbsp;<code style=\"color: red;\">_Classname</code> to it, because <u>both methods are within the same class <span style=\"color: blue;\"><strong>Account</strong></span></u>.</span>\n",
    "</div>\n",
    "\n",
    "<br><br><br>\n",
    "\n",
    "<font size=\"+1\">↳</font>&nbsp; 5. &nbsp;&nbsp;<code style=\"background-color: #ffe6ce; padding: 10px;\">Add a <span style=\"color: #fb0136;\";>public <u>class</u> attribute</span> <span style=\"background-color: #8effee;\"> bank name </span> and a <span style=\"color: #fb0136;\">private <u>class</u> attribute</span> <span style=\"background-color: #8effee;\"> governed by </span></code> <br>\n",
    "\n",
    "&nbsp;&nbsp;&nbsp;&nbsp;&nbsp;&nbsp;&nbsp;&nbsp;&nbsp;&nbsp;&nbsp;<code style=\"background-color: #ffe6ce; padding: 5px;\">Try different ways of accessing them through both an <u>objectname</u> and the <u>classname</u>    </code>"
   ]
  },
  {
   "cell_type": "code",
   "execution_count": 1,
   "id": "647a0f60-60d1-4e4d-a811-98c43e41d3c6",
   "metadata": {},
   "outputs": [],
   "source": [
    "\n",
    "class Account:\n",
    "    bank_name = \"SBI\"                                    #  public  class  attribute\n",
    "    __governed_by = \"RBI\"                                #  name  mangled  private  class  attribute\n",
    "\n",
    "    \n",
    "    def __init__(self, acc_no, balance, acc_pass):       #  PUBLIC  INSTANCE  METHOD\n",
    "        self.acc_no = acc_no                             #  public  instance  attribute  ====================>  \"acc_no\"\n",
    "        self.balance = balance                           #  public  instance  attribute  ====================>  \"balance\"\n",
    "        self.__acc_pass = acc_pass                       #  name  mangled  private  instance  attribute  ====>  \"acc_pass\"\n",
    "\n",
    "\n",
    "acc1 = Account(\"12345\", 5000,  \"abcde\")\n"
   ]
  },
  {
   "cell_type": "markdown",
   "id": "aba2ef4f-afb3-46a6-ba08-ee93c509f3f3",
   "metadata": {},
   "source": [
    "<br>\n",
    "\n",
    "<div style=\"margin-left: 70px;\">\n",
    "\n",
    "![](../../media/Shraddha_Kapra_oops_69.PNG)\n",
    "\n",
    "</div>\n",
    "\n",
    "<br><br>\n",
    "\n",
    "<font size=\"+1\">↳</font>&nbsp; 6. &nbsp;&nbsp;<code style=\"background-color: #ffe6ce; padding: 10px;\">Add a <span style=\"color: #fb0136;\">private <u>class</u> method</span> <span style=\"background-color: #8effee;\"> get bank details </span>, a <span style=\"color: #fb0136;\">private <u>instance</u> method</span> <span style=\"background-color: #8effee;\"> get account details </span>     </code><br>\n",
    "\n",
    "&nbsp;&nbsp;&nbsp;&nbsp;&nbsp;&nbsp;&nbsp;&nbsp;&nbsp;&nbsp;&nbsp;<code style=\"background-color: #ffe6ce; padding: 5px;\">And then print all these details like a passbook through a <span style=\"color: #fb0136;\">public <u>instance</u> method</span> <span style=\"background-color: #8effee;\"> print_passbook() </span></code>"
   ]
  },
  {
   "cell_type": "code",
   "execution_count": 108,
   "id": "432d81e1-476b-44b1-bc15-39f92058299e",
   "metadata": {},
   "outputs": [],
   "source": [
    "\n",
    "class Account:\n",
    "    \n",
    "    bank_name = \"SBI\"\n",
    "    __governed_by = \"RBI\"\n",
    "\n",
    "    @classmethod\n",
    "    def __get_bank_details(cls):\n",
    "        return f\"        Bank Name               = {cls.bank_name}\\n        Governing Institution   = {cls.__governed_by}\"\n",
    "\n",
    "    def __init__(self, acc_holder_name, acc_no, balance, acc_pass):\n",
    "        self.acc_holder_name = acc_holder_name\n",
    "        self.acc_no = acc_no\n",
    "        self.balance = balance\n",
    "        self.__acc_pass = acc_pass\n",
    "\n",
    "    def __get_account_details(self):\n",
    "        return f'''        Account Holder's Name   = {self.acc_holder_name}\n",
    "        Account Number          = {self.acc_no}\n",
    "        Account Balance         = {self.balance}\n",
    "        Account Password        = {self.__acc_pass}'''\n",
    "\n",
    "    def print_passbook(self):\n",
    "        account_details = self.__get_account_details()\n",
    "        bank_details = Account.__get_bank_details()\n",
    "        print(bank_details)\n",
    "        print(account_details)\n",
    "\n",
    "acc1 = Account(\"Avinash Kumar Mishra\", \"12345\", 5000,  \"abcde\")\n"
   ]
  },
  {
   "cell_type": "markdown",
   "id": "5a276df3-94fa-4277-9c81-ba80d1344eff",
   "metadata": {},
   "source": [
    "<br>\n",
    "\n",
    "<code style=\"color: red; background-color: white;\">Method-1</code>"
   ]
  },
  {
   "cell_type": "code",
   "execution_count": 109,
   "id": "faf129dd-4970-4fd9-b368-f033ac7d4fa2",
   "metadata": {},
   "outputs": [
    {
     "name": "stdout",
     "output_type": "stream",
     "text": [
      "        Bank Name               = SBI\n",
      "        Governing Institution   = RBI\n",
      "        Account Holder's Name   = Avinash Kumar Mishra\n",
      "        Account Number          = 12345\n",
      "        Account Balance         = 5000\n",
      "        Account Password        = abcde\n"
     ]
    }
   ],
   "source": [
    "\n",
    "print(acc1._Account__get_bank_details())\n",
    "print(acc1._Account__get_account_details())\n"
   ]
  },
  {
   "cell_type": "markdown",
   "id": "d2a3d25b-7e55-41d2-b51f-5b00f8ec3a4a",
   "metadata": {},
   "source": [
    "<br>\n",
    "\n",
    "<code style=\"color: red; background-color: white;\">Method-2</code>"
   ]
  },
  {
   "cell_type": "code",
   "execution_count": 110,
   "id": "fb4b7abc-4c8a-4447-9894-9e6d827dbeff",
   "metadata": {},
   "outputs": [
    {
     "name": "stdout",
     "output_type": "stream",
     "text": [
      "        Bank Name               = SBI\n",
      "        Governing Institution   = RBI\n",
      "        Account Holder's Name   = Avinash Kumar Mishra\n",
      "        Account Number          = 12345\n",
      "        Account Balance         = 5000\n",
      "        Account Password        = abcde\n"
     ]
    }
   ],
   "source": [
    "\n",
    "acc1.print_passbook()\n"
   ]
  },
  {
   "cell_type": "markdown",
   "id": "9fe96888-6830-4e9f-b1ac-426d52e20955",
   "metadata": {},
   "source": [
    "<br>\n",
    "\n",
    "<span style=\"color: #DCBD10; font-size: 1.2rem;\">▬▬▬▬▬▬▬▬▬▬▬▬▬▬▬▬▬▬▬▬▬▬▬▬▬▬▬▬▬▬▬▬▬▬▬▬▬▬▬▬▬▬▬▬▬▬▬▬▬▬▬▬▬▬▬▬</span>\n",
    "\n",
    "<br>"
   ]
  },
  {
   "cell_type": "code",
   "execution_count": null,
   "id": "96eda415-9024-4ab4-b3f8-c6f2d4403376",
   "metadata": {},
   "outputs": [],
   "source": []
  },
  {
   "cell_type": "code",
   "execution_count": null,
   "id": "daaf2409-abde-4939-b69f-2bbf1c81c49c",
   "metadata": {},
   "outputs": [],
   "source": []
  }
 ],
 "metadata": {
  "kernelspec": {
   "display_name": "Python 3 (ipykernel)",
   "language": "python",
   "name": "python3"
  },
  "language_info": {
   "codemirror_mode": {
    "name": "ipython",
    "version": 3
   },
   "file_extension": ".py",
   "mimetype": "text/x-python",
   "name": "python",
   "nbconvert_exporter": "python",
   "pygments_lexer": "ipython3",
   "version": "3.11.3"
  }
 },
 "nbformat": 4,
 "nbformat_minor": 5
}
