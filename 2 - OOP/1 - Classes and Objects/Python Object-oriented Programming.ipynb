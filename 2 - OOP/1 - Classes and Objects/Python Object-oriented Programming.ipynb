{
 "cells": [
  {
   "cell_type": "markdown",
   "id": "bca4c8d3-ed3a-4e65-ac32-2f3c2a9d5146",
   "metadata": {},
   "source": [
    "<span style=\"color: blue;\">**Procedural Programming** &nbsp;&nbsp;====>&nbsp;&nbsp; **Functional Programming**  &nbsp;&nbsp;====>&nbsp;&nbsp;**Object Oriented Programming**</span>\n",
    "\n",
    "<font size=\"+1\">↳</font>&nbsp;**Procedural Programming** &nbsp;&nbsp;(To do things in a <span style=\"color: red;\">sequence</span>)"
   ]
  },
  {
   "cell_type": "code",
   "execution_count": 2,
   "id": "97cc8ebd-3efb-411a-8a35-1b62de19ad04",
   "metadata": {},
   "outputs": [
    {
     "name": "stdout",
     "output_type": "stream",
     "text": [
      "30\n",
      "-10\n"
     ]
    }
   ],
   "source": [
    "\n",
    "a = 10\n",
    "b = 20\n",
    "\n",
    "sum = a + b\n",
    "print(sum)\n",
    "\n",
    "diff = a - b\n",
    "print(diff)\n"
   ]
  },
  {
   "cell_type": "markdown",
   "id": "042f7240-a23e-492c-bc53-d5be8774bfcb",
   "metadata": {},
   "source": [
    "<font size=\"+1\">↳</font>&nbsp;**Functional Programming**  &nbsp;&nbsp;(To <u>reduce redundancy</u> & bring <span style=\"color: red;\">reusability</span> of a code)"
   ]
  },
  {
   "cell_type": "code",
   "execution_count": 3,
   "id": "b2304320-2c5d-4ab4-86a2-4ba16fe25b08",
   "metadata": {},
   "outputs": [
    {
     "name": "stdout",
     "output_type": "stream",
     "text": [
      "30\n",
      "-10\n"
     ]
    }
   ],
   "source": [
    "\n",
    "a = 10\n",
    "b = 20\n",
    "\n",
    "def sum(a,b):\n",
    "    return a + b\n",
    "\n",
    "def diff(a,b):\n",
    "    return a - b\n",
    "\n",
    "s = sum(a, b)\n",
    "print(s)\n",
    "\n",
    "d = diff(a,b)\n",
    "print(d)\n"
   ]
  },
  {
   "cell_type": "markdown",
   "id": "dd0e4a26-541d-47e8-a7da-fc8db781dd51",
   "metadata": {},
   "source": [
    "\n",
    "<font size=\"+1\">↳</font>&nbsp;**Object Oriented Programming**  &nbsp;&nbsp;(To map with <span style=\"color: red;\">real world objects</span>, we started using <strong><span style=\"color: red;\">objects</span></strong> in code)\n"
   ]
  },
  {
   "cell_type": "code",
   "execution_count": 4,
   "id": "5f2c8402-87e9-4db1-a769-b3ad5f8ec6ac",
   "metadata": {},
   "outputs": [
    {
     "name": "stdout",
     "output_type": "stream",
     "text": [
      "30\n",
      "-10\n"
     ]
    }
   ],
   "source": [
    "\n",
    "class Calculator:\n",
    "    def __init__(self, a, b):\n",
    "        self.a = a\n",
    "        self.b = b\n",
    "\n",
    "    def sum(self):\n",
    "        return self.a + self.b\n",
    "\n",
    "    def diff(self):\n",
    "        return self.a - self.b\n",
    "\n",
    "\n",
    "# Create an instance of the Calculator class\n",
    "calc = Calculator(10, 20)\n",
    "\n",
    "# Use the methods of the Calculator class\n",
    "s = calc.sum()\n",
    "print(s)\n",
    "\n",
    "d = calc.diff()\n",
    "print(d)\n"
   ]
  },
  {
   "cell_type": "markdown",
   "id": "36a7f754-4634-4ca4-923f-7a998f14e076",
   "metadata": {},
   "source": [
    "<br>\n",
    "\n",
    "<span style=\"color: #DCBD10\">▬▬▬▬▬▬▬▬▬▬▬▬▬▬▬▬▬▬▬▬▬▬▬▬▬▬▬▬▬▬▬▬▬▬▬▬▬▬▬▬▬▬▬▬▬▬▬▬▬▬▬▬▬▬▬▬▬▬▬▬▬▬▬▬▬▬▬▬▬▬▬▬▬▬▬▬▬</span>\n",
    "\n",
    "<br>\n",
    "\n",
    "<span style=\"color: blue; font-size: 1rem;\"><strong>Class</strong></span>\n",
    "\n",
    "Class is a like a &nbsp;<code>blueprint</code>&nbsp; for creating objects of that class.\n",
    "\n",
    "<code style=\"background-color: #ffe0b0;\">Everything in Python is an <span style=\"font-size: 1rem;\"><strong>object</strong></span></code>. &nbsp;An object is a container of &nbsp;<code style=\"background-color: #80ffff;\">data (state)</code>&nbsp; and &nbsp;<code style=\"background-color: #80ffff;\">functionalities (behaviors / methods)</code>\n",
    "\n",
    "The **data** represents the object at a particular moment in time. &nbsp;Therefore, the data of an object is called the **state**. &nbsp;Python uses **attributes** to model the state of an object.\n",
    "\n",
    "The functionality represents the **behaviors** of an object. &nbsp;Python uses **functions** to model the behaviors. &nbsp;When a function is associated with an object, it becomes a **method** of the object.\n",
    "\n",
    "By convention, you use **capitalized** names for classes in Python. &nbsp;If the class name contains multiple words, you use the &nbsp;<code style=\"color: red;\">CamelCase</code>&nbsp; format, for example &nbsp;<code style=\"color: red;\">SalesEmployee</code>"
   ]
  },
  {
   "cell_type": "code",
   "execution_count": 10,
   "id": "4505d6c0-7e56-4dc1-9dd9-7c8161ed2ed1",
   "metadata": {},
   "outputs": [],
   "source": [
    "\n",
    "class Person:\n",
    "    pass                # Since the Person class is incomplete; you need to use the pass statement to indicate that you’ll add more code to it later.\n",
    "    "
   ]
  },
  {
   "cell_type": "code",
   "execution_count": 11,
   "id": "0d704c83-7411-43d3-9386-e7003fbba31d",
   "metadata": {},
   "outputs": [
    {
     "name": "stdout",
     "output_type": "stream",
     "text": [
      "<__main__.Person object at 0x000001AF87EE6B50>\n"
     ]
    }
   ],
   "source": [
    "\n",
    "avinash = Person()      # creates an object (instance) of type \"Person\"\n",
    "\n",
    "print(avinash)          # OUTPUT: <__main__.Person object at 0x0000029B8C578B10>\n"
   ]
  },
  {
   "cell_type": "markdown",
   "id": "e2b4659a-0082-4c63-af1d-dd4203d081e7",
   "metadata": {},
   "source": [
    "<br>\n",
    "\n",
    "To get an **identity of an object**, you use the &nbsp;<span style=\"background-color: yellow;\"> id( ) </span>&nbsp; function."
   ]
  },
  {
   "cell_type": "code",
   "execution_count": 15,
   "id": "6ebf347e-45ef-45bc-9809-35d51120003a",
   "metadata": {},
   "outputs": [
    {
     "data": {
      "text/plain": [
       "1853411453776"
      ]
     },
     "execution_count": 15,
     "metadata": {},
     "output_type": "execute_result"
    }
   ],
   "source": [
    "\n",
    "id(avinash)\n"
   ]
  },
  {
   "cell_type": "markdown",
   "id": "39e2bb57-95bd-4b17-b0b9-d73bdd4feeca",
   "metadata": {},
   "source": [
    "<br>\n",
    "\n",
    "The **id** of an object is **unique**. &nbsp;In CPython, the &nbsp;<span style=\"background-color: yellow;\"> id( ) </span>&nbsp; returns the <u>**memory address** of an object</u>. \n",
    "\n",
    "The &nbsp;<code>hex()</code>&nbsp; function converts the integer returned by the &nbsp;<span style=\"background-color: yellow;\"> id( ) </span>&nbsp; function to a <u>lowercase hexadecimal string prefixed with &nbsp;**0x**</u>:"
   ]
  },
  {
   "cell_type": "code",
   "execution_count": 16,
   "id": "f993e989-0be3-4276-9433-9924cd417da3",
   "metadata": {},
   "outputs": [
    {
     "data": {
      "text/plain": [
       "'0x1af87ee6b50'"
      ]
     },
     "execution_count": 16,
     "metadata": {},
     "output_type": "execute_result"
    }
   ],
   "source": [
    "\n",
    "hex(id(avinash))\n"
   ]
  },
  {
   "cell_type": "markdown",
   "id": "0ef59bdb-829c-4a82-ac26-cb0edddd6108",
   "metadata": {},
   "source": [
    "<br>\n",
    "\n",
    "The &nbsp;**avinash**&nbsp; object is an instance of the &nbsp;<code style=\"color: red;\">Person</code>&nbsp; class. The &nbsp;<code style=\"color: red;\">isinstance()</code>&nbsp; function returns &nbsp;<code style=\"color: red;\">True</code>&nbsp; if an object is an instance of a class:\n",
    "\n"
   ]
  },
  {
   "cell_type": "code",
   "execution_count": 19,
   "id": "f9de225c-bb0d-4dd8-bfb3-5a3231f0c38f",
   "metadata": {},
   "outputs": [
    {
     "name": "stdout",
     "output_type": "stream",
     "text": [
      "True\n"
     ]
    }
   ],
   "source": [
    "\n",
    "print(isinstance(avinash, Person))      # True\n"
   ]
  },
  {
   "cell_type": "markdown",
   "id": "dda021a8-e6d6-4298-a8cd-d5b1c48b268f",
   "metadata": {},
   "source": [
    "<br>\n",
    "\n",
    "<span style=\"color: red;\">================================================================================================================</span>\n",
    "\n",
    "<code style=\"background-color: #a2ff9b; padding: 15px;\"><font size=\"+1\">⭐</font> A class is also an object in Python. In fact, everything in Python is an object, including classes.</code>\n",
    "\n",
    "<br>\n",
    "\n",
    "When you define the &nbsp;<code style=\"color: red;\">Person</code>&nbsp; class, Python creates an **object** with the name &nbsp;<code style=\"color: red;\">Person</code>&nbsp; . &nbsp;The Person object has attributes. &nbsp;For example, you can find its name using the &nbsp;<code style=\"color: red;\">\\_\\_name__</code>&nbsp; attribute:"
   ]
  },
  {
   "cell_type": "code",
   "execution_count": 21,
   "id": "dd1a13ec-7f25-482f-9d6a-d6edda23baf5",
   "metadata": {},
   "outputs": [
    {
     "name": "stdout",
     "output_type": "stream",
     "text": [
      "Person\n"
     ]
    }
   ],
   "source": [
    "\n",
    "print(Person.__name__)\n"
   ]
  },
  {
   "cell_type": "markdown",
   "id": "4cbf8e3c-5606-42e0-8fb6-54de5022f652",
   "metadata": {},
   "source": [
    "<br>\n",
    "\n",
    "The &nbsp;<code style=\"color: red;\">Person</code>&nbsp; object has the type of &nbsp;<code style=\"color: red;\">type</code>&nbsp;:"
   ]
  },
  {
   "cell_type": "code",
   "execution_count": 22,
   "id": "881d343a-8e4c-4ea0-8504-0c371bad8560",
   "metadata": {},
   "outputs": [
    {
     "name": "stdout",
     "output_type": "stream",
     "text": [
      "<class 'type'>\n"
     ]
    }
   ],
   "source": [
    "\n",
    "print(type(Person))\n"
   ]
  },
  {
   "cell_type": "markdown",
   "id": "deea23d3-49aa-4ff5-a11c-ff5ca1dbe09a",
   "metadata": {},
   "source": [
    "<br>\n",
    "\n",
    "The &nbsp;<code style=\"color: red;\">Person</code>&nbsp; class also has a **behavior**. &nbsp;For example, <u>it can create a new instance</u>:"
   ]
  },
  {
   "cell_type": "code",
   "execution_count": 24,
   "id": "0d20136a-5ab9-4016-96f7-5d244af95b1a",
   "metadata": {},
   "outputs": [],
   "source": [
    "\n",
    "person = Person()\n"
   ]
  },
  {
   "cell_type": "markdown",
   "id": "32dff693-aaf9-4a5c-a043-e98bafef4f0e",
   "metadata": {},
   "source": [
    "<br>\n",
    "\n",
    "<span style=\"color: red;\">================================================================================================================</span>\n",
    "\n",
    "So to summarise:\n",
    "\n",
    "<div style=\"background-color: #ffe0b0; padding-top: 15px; padding-bottom: 4px;\">\n",
    "\n",
    "&nbsp;&nbsp;&nbsp;&nbsp;<span style=\"font-size: 0.7rem; color: red;\">■</span>&nbsp;&nbsp;&nbsp;An object is container that contains **state** and **behavior**   <br>\n",
    "&nbsp;&nbsp;&nbsp;&nbsp;<span style=\"font-size: 0.7rem; color: red;\">■</span>&nbsp;&nbsp;&nbsp;A class is a **blueprint** for creating objects               <br>\n",
    "&nbsp;&nbsp;&nbsp;&nbsp;<span style=\"font-size: 0.7rem; color: red;\">■</span>&nbsp;&nbsp;&nbsp;In Python, **a class is also an object**, which is an instance of the class &nbsp;<code style=\"color: red; background-color: white;\">type</code>\n",
    "</div>\n"
   ]
  },
  {
   "cell_type": "markdown",
   "id": "0a892a61-da06-4b3d-a2b5-cee1cc70ee9f",
   "metadata": {},
   "source": [
    "<br>\n",
    "\n",
    "<span style=\"color: #DCBD10\">▬▬▬▬▬▬▬▬▬▬▬▬▬▬▬▬▬▬▬▬▬▬▬▬▬▬▬▬▬▬▬▬▬▬▬▬▬▬▬▬▬▬▬▬▬▬▬▬▬▬▬▬▬▬▬▬▬▬▬▬▬▬▬▬▬▬▬▬▬▬▬▬▬▬▬▬▬</span>\n",
    "\n",
    "<br>\n",
    "\n",
    "<span style=\"color: blue; font-size: 1rem;\"><strong>Instance &nbsp;Attributes</strong></span>\n",
    "\n",
    "<u>Python is dynamic</u>. It means that <code>you can add an attribute to an instance of a class dynamically at runtime</code>."
   ]
  },
  {
   "cell_type": "code",
   "execution_count": 6,
   "id": "8012fff1-3339-452b-944a-734db1fe8304",
   "metadata": {},
   "outputs": [],
   "source": [
    "\n",
    "avinash.name = \"Avinash\"\n"
   ]
  },
  {
   "cell_type": "markdown",
   "id": "23f6100d-fcd6-4716-a286-beda3698daf0",
   "metadata": {},
   "source": [
    "<br>\n",
    "\n",
    "However, if you create another <code style=\"color: red;\">Person</code> object, the new object won’t have the <code style=\"color: red;\">name</code> attribute.\n"
   ]
  },
  {
   "cell_type": "code",
   "execution_count": 10,
   "id": "05cd032f-bca4-43e2-9499-2739d8af1360",
   "metadata": {},
   "outputs": [
    {
     "name": "stdout",
     "output_type": "stream",
     "text": [
      "Avinash\n"
     ]
    },
    {
     "ename": "AttributeError",
     "evalue": "'Person' object has no attribute 'name'",
     "output_type": "error",
     "traceback": [
      "\u001b[1;31m---------------------------------------------------------------------------\u001b[0m",
      "\u001b[1;31mAttributeError\u001b[0m                            Traceback (most recent call last)",
      "Cell \u001b[1;32mIn[10], line 4\u001b[0m\n\u001b[0;32m      1\u001b[0m aman \u001b[38;5;241m=\u001b[39m Person()\n\u001b[0;32m      3\u001b[0m \u001b[38;5;28mprint\u001b[39m(avinash\u001b[38;5;241m.\u001b[39mname)     \u001b[38;5;66;03m# OUTPUT : Avinash\u001b[39;00m\n\u001b[1;32m----> 4\u001b[0m \u001b[38;5;28mprint\u001b[39m(\u001b[43maman\u001b[49m\u001b[38;5;241;43m.\u001b[39;49m\u001b[43mname\u001b[49m)        \u001b[38;5;66;03m# Raises attribute error\u001b[39;00m\n",
      "\u001b[1;31mAttributeError\u001b[0m: 'Person' object has no attribute 'name'"
     ]
    }
   ],
   "source": [
    "\n",
    "aman = Person()\n",
    "\n",
    "print(avinash.name)     # OUTPUT : Avinash\n",
    "print(aman.name)        # Raises attribute error\n"
   ]
  },
  {
   "cell_type": "markdown",
   "id": "50bcbb83-8933-402b-bebb-61d6a8e8bd85",
   "metadata": {},
   "source": [
    "<br>\n",
    "\n",
    "When you create a <code style=\"color: red;\">Person</code> object, Python **automatically** calls the <code style=\"color: red;\">\\_\\_init__</code> method to initialize the instance attributes. In the <code style=\"color: red;\">\\_\\_init__</code> method, the <code style=\"color: red;\">self</code> is the instance of the <code style=\"color: red;\">Person</code> class.\n",
    "\n",
    "<br>\n",
    "\n",
    "It always takes atleast one parameter i.e, &nbsp;<span style=\"background-color: yellow;\"> self </span>&nbsp;&nbsp;&nbsp;&nbsp; ====>&nbsp;&nbsp;&nbsp;&nbsp;  <code style=\"color: red; font-size: 0.85rem;\">\\_\\_init__(<span style=\"color: black;\">self</span> ,  ,  ,<span style=\"color: black;\"> . . .</span> )</code>.\n",
    "\n",
    "<br>\n",
    "\n",
    "The &nbsp;<span style=\"background-color: yellow;\"> self </span>&nbsp; parameter inside the <code style=\"color: red\">\\_\\_init__( )</code> function is a <u><span style=\"color: blue;\">reference</span> to the current instance of the class</u>, and is used to access variables that belongs to the class. <br>\n",
    "Basically, it is used <strong>to establish the <u>context</u> as to which particular object of that class you are connecting with</strong>.\n"
   ]
  },
  {
   "cell_type": "code",
   "execution_count": 20,
   "id": "a58bb748-a6a5-4736-9097-65ac6951a35f",
   "metadata": {},
   "outputs": [
    {
     "name": "stdout",
     "output_type": "stream",
     "text": [
      "Avinash\n",
      "33\n"
     ]
    }
   ],
   "source": [
    "\n",
    "class Person:\n",
    "    def __init__(self, name, age):\n",
    "        self.name = name             # instance attribute\n",
    "        self.age = age               # instance attribute\n",
    "\n",
    "avinash = Person('Avinash', 33)\n",
    "\n",
    "print(avinash.name)                  # OUTPUT: Avinash\n",
    "print(avinash.age)                   # OUTPUT: 33\n"
   ]
  },
  {
   "cell_type": "markdown",
   "id": "c91da031-e201-47ea-be4e-f058555bd893",
   "metadata": {},
   "source": [
    "<br>\n",
    "\n",
    "However, the name &nbsp;<span style=\"background-color: yellow;\"> self </span>&nbsp; can be replaced with any other name and it <u>won't affect the code</u>. But we should follow convention and use the name &nbsp;<span style=\"background-color: yellow;\"> self </span>&nbsp; only."
   ]
  },
  {
   "cell_type": "code",
   "execution_count": 19,
   "id": "30e5de3c-f763-4036-adcd-18467773cb42",
   "metadata": {},
   "outputs": [
    {
     "name": "stdout",
     "output_type": "stream",
     "text": [
      "Avinash\n",
      "33\n"
     ]
    }
   ],
   "source": [
    "# Let us replace \"self\" with \"abcd\"\n",
    "\n",
    "class Person:\n",
    "    def __init__(abcd, name, age):\n",
    "        abcd.name = name             # instance attribute       \n",
    "        abcd.age = age               # instance attribute\n",
    "\n",
    "avinash = Person('Avinash', 33)\n",
    "\n",
    "print(avinash.name)                  # OUTPUT: Avinash\n",
    "print(avinash.age)                   # OUTPUT: 33\n"
   ]
  },
  {
   "cell_type": "markdown",
   "id": "64fbca9c-6e51-4561-b1a2-1eacfd17b1db",
   "metadata": {},
   "source": [
    "<br>\n",
    "\n",
    "The main motive of introducing OOP concept is to be able to not only create <u>multiple objects</u> (instances) of the <u>same class</u> but also <u>distinguisng</u> between them"
   ]
  },
  {
   "cell_type": "code",
   "execution_count": 17,
   "id": "2d10ffee-7119-4f19-b49d-ead9114d4b2b",
   "metadata": {},
   "outputs": [
    {
     "name": "stdout",
     "output_type": "stream",
     "text": [
      "<__main__.Person object at 0x0000029B8CB2CC90>\n",
      "Avinash\n",
      "33\n",
      "<__main__.Person object at 0x0000029B8CB2D310>\n",
      "Aman\n",
      "28\n"
     ]
    }
   ],
   "source": [
    "\n",
    "class Person:\n",
    "\n",
    "    # CONSTRUCTOR\n",
    "    def __init__(self, name, age):\n",
    "        self.name = name             # instance attribute\n",
    "        self.age = age               # instance attribute\n",
    "\n",
    "\n",
    "avinash = Person('Avinash', 33)\n",
    "\n",
    "aman = Person('Aman', 28)\n",
    "\n",
    "\n",
    "\n",
    "print(avinash)            # OUTPUT :  <__main__.Person object at 0x0000029B8CAF0A90>\n",
    "print(avinash.name)       # OUTPUT :  Avinash\n",
    "print(avinash.age)        # OUTPUT :  33\n",
    "\n",
    "\n",
    "print(aman)            # OUTPUT :  <__main__.Person object at 0x0000029B8CAF2990>\n",
    "print(aman.name)       # OUTPUT :  Aman\n",
    "print(aman.age)        # OUTPUT :  28\n"
   ]
  },
  {
   "cell_type": "markdown",
   "id": "9b165351-9716-4e6d-8d3c-158a8d654e16",
   "metadata": {},
   "source": [
    "<br>\n",
    "\n",
    "We could have used &nbsp;<code>built-in datatypes</code>&nbsp; like &nbsp;<code>list</code>&nbsp; and &nbsp;<code>dictionary</code>&nbsp; also to store the details of these students, but in real-life scenarios we may face situations when we have to store them in an &nbsp;<code style=\"background-color: yellow; color: black;\"><u>object</u> (custom datatype)</code>&nbsp; to make the code look more meaningful."
   ]
  },
  {
   "cell_type": "markdown",
   "id": "db6a747a-af21-4c37-8e62-28941561a702",
   "metadata": {},
   "source": [
    "<br>\n",
    "\n",
    "<span style=\"color: #DCBD10\">▬▬▬▬▬▬▬▬▬▬▬▬▬▬▬▬▬▬▬▬▬▬▬▬▬▬▬▬▬▬▬▬▬▬▬▬▬▬▬▬▬▬▬▬▬▬▬▬▬▬▬▬▬▬▬▬▬▬▬▬▬▬▬▬▬▬▬▬▬▬▬▬▬▬▬▬▬</span>\n",
    "\n",
    "<br>\n",
    "\n",
    "<span style=\"color: blue; font-size: 1rem;\"><strong>Instance &nbsp;Methods</strong></span>\n",
    "\n",
    "Methods in which we use <code style=\"color: red;\">self</code>"
   ]
  },
  {
   "cell_type": "code",
   "execution_count": 16,
   "id": "3553b84c-8ddc-4ddc-a035-a59f63d57868",
   "metadata": {},
   "outputs": [],
   "source": [
    "\n",
    "class Person:\n",
    "    def __init__(self, name, age):\n",
    "        self.name = name\n",
    "        self.age = age\n",
    "\n",
    "    def greet(self):\n",
    "        return f\"Hi, it's {self.name}.\"\n",
    "        "
   ]
  },
  {
   "cell_type": "code",
   "execution_count": 18,
   "id": "7c84d595-c25a-40ae-aa66-fc90c72290e5",
   "metadata": {},
   "outputs": [
    {
     "name": "stdout",
     "output_type": "stream",
     "text": [
      "Hi, it's Avinash.\n"
     ]
    }
   ],
   "source": [
    "\n",
    "person = Person('Avinash', 33)\n",
    "print(person.greet())\n"
   ]
  },
  {
   "cell_type": "markdown",
   "id": "04e88fb1-137e-4eba-9189-4ced8cf71d5f",
   "metadata": {},
   "source": [
    "<br>\n",
    "\n",
    "<div style=\"background-color: #ffe0b0; padding: 10px;\">\n",
    "    \n",
    "Constructors are of two types :  <br>\n",
    "&nbsp;&nbsp;&nbsp;&nbsp;&nbsp;1. &nbsp;&nbsp;<strong>Default&nbsp; Constructors</strong>   &nbsp;&nbsp;&nbsp;&nbsp;==========>&nbsp;&nbsp;&nbsp;&nbsp;  only one parameter i.e., &nbsp;<code style=\"background-color: #a5fff3;\">self</code>&nbsp;<br>\n",
    "&nbsp;&nbsp;&nbsp;&nbsp;&nbsp;2. &nbsp;&nbsp;<strong>Parameterized&nbsp; Constructors</strong>   &nbsp;&nbsp;&nbsp;&nbsp;=====> &nbsp;&nbsp;&nbsp;&nbsp; atleast one paramter other than &nbsp;<code style=\"background-color: #a5fff3;\">self</code>&nbsp;\n",
    "\n",
    "<br>\n",
    "\n",
    "➤ &nbsp;For any constructor, &nbsp;<code style=\"background-color: #a5fff3;\">self</code>&nbsp; will be always be the <u>1st parameter</u>\n",
    "\n",
    "➤ &nbsp;<span style=\"color: red;\"><strong>Constructor</strong></span>&nbsp; is a special type of &nbsp;<span style=\"background-color: yellow;\">Public &nbsp;Instance &nbsp;Method</span>\n",
    "</div>"
   ]
  },
  {
   "cell_type": "code",
   "execution_count": 21,
   "id": "938e4551-c2aa-4fcb-83ad-d5f90f598841",
   "metadata": {},
   "outputs": [
    {
     "name": "stdout",
     "output_type": "stream",
     "text": [
      "Avinash 33\n",
      "Aman 28\n"
     ]
    }
   ],
   "source": [
    "\n",
    "class Person:\n",
    "\n",
    "    # Default Constructor\n",
    "    def __init__():\n",
    "        pass\n",
    "\n",
    "    # Parameterized Constructor\n",
    "    def __init__(self, name, age):\n",
    "        self.name = name\n",
    "        self.age = age\n",
    "\n",
    "\n",
    "p1 = Person(\"Avinash\", 33)\n",
    "p2 = Person(\"Aman\", 28)\n",
    "\n",
    "print(p1.name, p1.age)\n",
    "print(p2.name, p2.age)\n"
   ]
  },
  {
   "cell_type": "markdown",
   "id": "77ad4cb6-be4f-4c51-be73-41f912a624f0",
   "metadata": {},
   "source": [
    "<br>\n",
    "\n",
    "<span style=\"color: #DCBD10\">▬▬▬▬▬▬▬▬▬▬▬▬▬▬▬▬▬▬▬▬▬▬▬▬▬▬▬▬▬▬▬▬▬▬▬▬▬▬▬▬▬▬▬▬▬▬▬▬▬▬▬▬▬▬▬▬▬▬▬▬▬▬▬▬▬▬▬▬▬▬▬▬▬▬▬▬▬</span>\n",
    "\n",
    "<br>\n",
    "\n",
    "<span style=\"color: blue; font-size: 1rem;\"><strong>Class &nbsp;Attributes</strong></span>"
   ]
  },
  {
   "cell_type": "markdown",
   "id": "17c95ef5-34c8-4127-8ad5-8ae16a810cc0",
   "metadata": {},
   "source": [
    "<u>Unlike instance attributes, class attributes are shared by all instances of the class</u>. <span style=\"color: red;\">They are helpful if you want to define class constants or variables that keep track of the number of instances of a class.</span>"
   ]
  },
  {
   "cell_type": "code",
   "execution_count": 98,
   "id": "8a7f7f8e-326e-4255-ba40-5fbc3af0fc76",
   "metadata": {},
   "outputs": [
    {
     "name": "stdout",
     "output_type": "stream",
     "text": [
      "2\n"
     ]
    }
   ],
   "source": [
    "\n",
    "class Person:\n",
    "    counter = 0\n",
    "\n",
    "    def __init__(self, name, age):\n",
    "        self.name = name\n",
    "        self.age = age\n",
    "        Person.counter += 1      # increments the counter on every object creation to keep a track of the total number of the instances of type \"Person\"\n",
    "\n",
    "    def greet(self):\n",
    "        return f\"Hi, it's {self.name}.\"\n",
    "\n",
    "\n",
    "p1 = Person('Avinash', 33)\n",
    "p2 = Person('Aman', 28)\n",
    "print(Person.counter)             # access the class attribute \"counter\" using the classname\n"
   ]
  },
  {
   "cell_type": "markdown",
   "id": "15db02da-5f9f-4968-b445-c0db37c8815e",
   "metadata": {},
   "source": [
    "<br>\n",
    "\n",
    "<div style=\"background-color: #ffe0b0; padding: 10px;\">\n",
    "The standard way of accessing a class attribute is &nbsp;<code style=\"background-color: white;\"><span style=\"color: red;\">ClassName</span>.classattributename</code>\n",
    "</div>\n",
    "\n",
    "<br>\n",
    "\n",
    "We can access a <u>class attribute</u> through any <u>instance</u> of that class too."
   ]
  },
  {
   "cell_type": "code",
   "execution_count": 33,
   "id": "496afc87-f933-4a98-a6ab-e72204f061ea",
   "metadata": {},
   "outputs": [
    {
     "name": "stdout",
     "output_type": "stream",
     "text": [
      "3\n",
      "3\n"
     ]
    }
   ],
   "source": [
    "\n",
    "print(p1.counter)\n",
    "print(p2.counter)\n"
   ]
  },
  {
   "cell_type": "markdown",
   "id": "25efae8d-014f-40eb-804a-a7934eed6147",
   "metadata": {},
   "source": [
    "However, this is not recommeneded because if we have an <u>instance attribute</u> with the &nbsp;**same name**&nbsp; as a <u>class attribute</u>, then <code>that instance attribute will override</code>\n",
    "\n",
    "But if you still want to access a class attribute using an object, you may use &nbsp;<code><span style=\"color: red;\">self.\\_\\_class__.</span><span style=\"color: blue;\">classattributename</span></code>\n"
   ]
  },
  {
   "cell_type": "code",
   "execution_count": 101,
   "id": "43c66c2a-6c1d-4317-8f51-d427864e5bb9",
   "metadata": {},
   "outputs": [
    {
     "name": "stdout",
     "output_type": "stream",
     "text": [
      "2\n"
     ]
    }
   ],
   "source": [
    "\n",
    "class Person:\n",
    "    counter = 0\n",
    "\n",
    "    def __init__(self, name, age):\n",
    "        self.name = name\n",
    "        self.age = age\n",
    "        # Person.counter += 1                # METHOD - 1\n",
    "        self.__class__.counter += 1          # METHOD - 2\n",
    "\n",
    "    def greet(self):\n",
    "        return f\"Hi, it's {self.name}.\"\n",
    "\n",
    "\n",
    "p1 = Person('Avinash', 33)\n",
    "p2 = Person('Aman', 28)\n",
    "print(Person.counter)                        # access the class attribute \"counter\" using the classname\n"
   ]
  },
  {
   "cell_type": "markdown",
   "id": "0d1300be-5c39-4d3c-8ca6-39bebb6f8f01",
   "metadata": {},
   "source": [
    "<br>\n",
    "\n",
    "So to summarize :\n",
    "\n",
    "<div style=\"background-color: #ffe0b0; padding: 10px;\">\n",
    "    \n",
    "<code style=\"background-color: #ffe0b0;\">Ways of accessing a <span style=\"font-size: 1rem;\"><strong>class attribute</strong></span>:</code> <br>\n",
    "\n",
    "&nbsp;&nbsp;&nbsp;&nbsp;&nbsp;&nbsp;&nbsp;&nbsp;&nbsp;<span style=\"font-size: 0.8rem;\">■</span>&nbsp;&nbsp;&nbsp;&nbsp;<code style=\"background-color: white;\"><span style=\"color: red;\">ClassName</span>.<span style=\"color: blue;\">classattributename</span>     </code>&nbsp;&nbsp;&nbsp;&nbsp;&nbsp;&nbsp;(Recommended - applicable to all places)        <br>\n",
    "\n",
    "&nbsp;&nbsp;&nbsp;&nbsp;&nbsp;&nbsp;&nbsp;&nbsp;&nbsp;<span style=\"font-size: 0.8rem;\">■</span>&nbsp;&nbsp;&nbsp;&nbsp;<code style=\"background-color: white;\"><span style=\"color: red;\">self.\\_\\_class__.</span><span style=\"color: blue;\">classattributename</span></code>&nbsp;&nbsp;&nbsp;&nbsp;&nbsp;&nbsp;(applicable only when to be used from within an <u>instance method</u>)     <br>\n",
    "\n",
    "&nbsp;&nbsp;&nbsp;&nbsp;&nbsp;&nbsp;&nbsp;&nbsp;&nbsp;<span style=\"font-size: 0.8rem;\">■</span>&nbsp;&nbsp;&nbsp;&nbsp;<code style=\"background-color: white;\"><span style=\"color: red;\">cls.</span><span style=\"color: blue;\">classattributename</span>           </code>&nbsp;&nbsp;&nbsp;&nbsp;&nbsp;&nbsp;(applicable only when to be used from within an <u>class method</u>)\n",
    "</div>"
   ]
  },
  {
   "cell_type": "markdown",
   "id": "27d4d8b7-2be8-478b-b163-b46279e9f7b1",
   "metadata": {},
   "source": [
    "\n",
    "<span style=\"color: red;\">================================================================================================================</span>\n",
    "\n",
    "Let's take one more example on this."
   ]
  },
  {
   "cell_type": "code",
   "execution_count": 39,
   "id": "201b5719-a646-4646-ba7c-097041452bd7",
   "metadata": {},
   "outputs": [
    {
     "name": "stdout",
     "output_type": "stream",
     "text": [
      "Avinash Mishra\n",
      "88\n",
      "abc\n",
      "\n",
      "\n",
      "Radha Kumari\n",
      "78.5\n",
      "abc\n"
     ]
    }
   ],
   "source": [
    "\n",
    "class Student:\n",
    "\n",
    "    college_name = \"abc\"                  # class attribute\n",
    "\n",
    "    # CONSTRUCTOR\n",
    "    def __init__(self, name, marks):              \n",
    "        self.name = name                  # instance (object) atrribute\n",
    "        self.marks = marks                # instance (object) attribute\n",
    "\n",
    "\n",
    "s1 = Student(\"Avinash Mishra\", 88)\n",
    "s2 = Student(\"Radha Kumari\", 78.5)\n",
    "\n",
    "print(s1.name)\n",
    "print(s1.marks)\n",
    "print(s1.college_name)\n",
    "\n",
    "print(\"\\n\")\n",
    "\n",
    "print(s2.name)\n",
    "print(s2.marks)\n",
    "print(s2.college_name)\n"
   ]
  },
  {
   "cell_type": "markdown",
   "id": "aa41967e-891a-4db7-836b-dcc5b77a0dde",
   "metadata": {},
   "source": [
    "<br>\n",
    "\n",
    "<div style=\"background-color: #ffe0b0; padding: 10px;\">\n",
    "Since an object occupies some space in memory, why should we not try to minimize it's size? Why should we store the same data at different places in the memory?<br> <br>\n",
    "    \n",
    "Therefore in the above example, let's suppose if &nbsp;<code style=\"background-color: #a5fff3;\">college_name</code>&nbsp; is <u>same for all the students</u> , then instead of making the &nbsp;<code style=\"background-color: #a5fff3;\">college_name</code>&nbsp; an **object attribute**, it's better to make it a **class attribute** thus making it common and readily available for all the instances of the **Student** class. \n",
    "</div>\n"
   ]
  },
  {
   "cell_type": "markdown",
   "id": "67dbbcf1-0224-44a7-b06c-f2b38ff30840",
   "metadata": {},
   "source": [
    "<br>\n",
    "\n",
    "**Note :** &nbsp;&nbsp;<code style=\"background-color: yellow;\">obj attr  >  class attr</code> &nbsp;in terms of <u>precedence</u> . <br>\n",
    "&nbsp;&nbsp;&nbsp;&nbsp;&nbsp;&nbsp;&nbsp;&nbsp;&nbsp;&nbsp;&nbsp;&nbsp;&nbsp;&nbsp;In other words, if a &nbsp;<code style=\"color: red;\">class attribute</code>&nbsp; has the same name as an &nbsp;<code style=\"color: red;\">object attribute</code>&nbsp;, remember <u>the &nbsp;<code style=\"color: red;\">object attribute</code>&nbsp; will always take the precedence</u> .  <br>\n",
    "&nbsp;&nbsp;&nbsp;&nbsp;&nbsp;&nbsp;&nbsp;&nbsp;&nbsp;&nbsp;&nbsp;&nbsp;&nbsp;&nbsp;However, we try to avoid such a situation ."
   ]
  },
  {
   "cell_type": "code",
   "execution_count": 41,
   "id": "cb44b2cf-af83-419d-b0a9-2dc9558413a6",
   "metadata": {},
   "outputs": [
    {
     "name": "stdout",
     "output_type": "stream",
     "text": [
      "Avinash Mishra\n"
     ]
    }
   ],
   "source": [
    "\n",
    "class Student:\n",
    "\n",
    "    college_name = \"abc\"                  # class attribute\n",
    "    name = \"anonymous\"                    # class attribute\n",
    "\n",
    "    # CONSTRUCTOR\n",
    "    def __init__(self, name, marks):\n",
    "        self.name = name                  # object atrribute\n",
    "        self.marks = marks                # object attribute\n",
    "\n",
    "\n",
    "s1 = Student(\"Avinash Mishra\", 88)\n",
    "\n",
    "print(s1.name)                            # Output    ======>    \"Avinash Mishra\"     not     \"anonymous\"\n"
   ]
  },
  {
   "cell_type": "markdown",
   "id": "3ea50423-9344-40b0-808d-99abf485cbaf",
   "metadata": {},
   "source": [
    "<br>\n",
    "\n",
    "<span style=\"color: red;\">================================================================================================================</span>\n",
    "\n",
    "<br>\n",
    "\n",
    "<div style=\"display: flex; gap: 200px;\">\n",
    "    <div><strong>Note&nbsp;:&nbsp;&nbsp;&nbsp;&nbsp;&nbsp;</strong></div>\n",
    "    <div><code style=\"background-color: #fffcbc;\">An <span style=\"color: blue;\">object attribute</span> (or more popularly called as <span style=\"color: blue;\">instance attribute</span>) is <span style=\"font-size: 1rem;\"><strong>not necessarily always</strong></span> created at the time of the object creation or precisely, by the call of the <span style=\"color: red; font-size: 1.02rem;\"><strong>__init__</strong></span> method only.</code></div>\n",
    "</div>\n",
    "\n",
    "<br>\n",
    "\n",
    "<div style=\"margin-left: 60px;\"><code style=\"background-color: #fffcbc;\">It may be created <u>after the object creation too</u>, or in simple words, an object may get a new object attribute which was not assigned to it at the time of it's creation.</code></div>\n",
    "\n",
    "<br>"
   ]
  },
  {
   "cell_type": "code",
   "execution_count": 60,
   "id": "d00b8320-7661-435a-acfc-f267a46ad957",
   "metadata": {},
   "outputs": [],
   "source": [
    "\n",
    "class Person:    \n",
    "    # instance  method\n",
    "    def change_name(self, name):     \n",
    "        self.name = name             # instance  attribute\n",
    "\n",
    "p = Person()                         # creates an object p of type Person\n"
   ]
  },
  {
   "cell_type": "code",
   "execution_count": 61,
   "id": "bb5243a3-5c39-4673-829d-56f07d85f170",
   "metadata": {},
   "outputs": [
    {
     "ename": "AttributeError",
     "evalue": "'Person' object has no attribute 'name'",
     "output_type": "error",
     "traceback": [
      "\u001b[1;31m---------------------------------------------------------------------------\u001b[0m",
      "\u001b[1;31mAttributeError\u001b[0m                            Traceback (most recent call last)",
      "Cell \u001b[1;32mIn[61], line 2\u001b[0m\n\u001b[0;32m      1\u001b[0m \u001b[38;5;66;03m# THE OBJECT DOES NOT HAVE ANY INSTANCE ATTRIBUTE AS OF NOW\u001b[39;00m\n\u001b[1;32m----> 2\u001b[0m \u001b[38;5;28mprint\u001b[39m(\u001b[43mp\u001b[49m\u001b[38;5;241;43m.\u001b[39;49m\u001b[43mname\u001b[49m)\n",
      "\u001b[1;31mAttributeError\u001b[0m: 'Person' object has no attribute 'name'"
     ]
    }
   ],
   "source": [
    "\n",
    "# THE OBJECT DOES NOT HAVE ANY INSTANCE ATTRIBUTE AS OF NOW\n",
    "print(p.name)\n"
   ]
  },
  {
   "cell_type": "code",
   "execution_count": 62,
   "id": "d25b65fc-f3e7-4a1f-87fd-476e2dce3c7a",
   "metadata": {},
   "outputs": [
    {
     "name": "stdout",
     "output_type": "stream",
     "text": [
      "Avinash\n"
     ]
    }
   ],
   "source": [
    "\n",
    "\n",
    "p.change_name(\"Avinash\")             # creates an instance attribute for the object p of type Person and assigns \"Avinash\" to it\n",
    "\n",
    "\n",
    "# THE OBJECT NOW HAVE ANY INSTANCE ATTRIBUTE \"name\"\n",
    "print(p.name)                                                                                   # OUTPUT: Avinash\n"
   ]
  },
  {
   "cell_type": "markdown",
   "id": "272c5e37-a8d8-4b53-878e-b262cd1afcd7",
   "metadata": {},
   "source": [
    "<br>\n",
    "\n",
    "We can verify it by &nbsp;<code style=\"background-color: #80ffff;\">objectname.\\_\\_dict__.keys()</code>&nbsp; also"
   ]
  },
  {
   "cell_type": "code",
   "execution_count": 63,
   "id": "7f3c9e74-5100-4b8c-afa6-21ecdf5a7401",
   "metadata": {},
   "outputs": [
    {
     "name": "stdout",
     "output_type": "stream",
     "text": [
      "{}\n",
      "[]\n",
      "{'name': 'Avinash'}\n",
      "['name']\n",
      "Avinash\n"
     ]
    }
   ],
   "source": [
    "\n",
    "class Person:    \n",
    "    # instance  method\n",
    "    def change_name(self, name):     \n",
    "        self.name = name             # instance  attribute\n",
    "\n",
    "\n",
    "p = Person()                         # creates an object p of type Person\n",
    "\n",
    "\n",
    "# THE OBJECT DOES NOT HAVE ANY INSTANCE ATTRIBUTE AS OF NOW\n",
    "print(p.__dict__)                                                                              # OUTPUT: {}\n",
    "print(list(p.__dict__.keys()))                                                                 # OUTPUT: []\n",
    "# print(p.name)                                                                                # AttributeError: 'Person' object has no attribute 'name'\n",
    "\n",
    "\n",
    "p.change_name(\"Avinash\")             # creates an instance attribute for the object p of type Person and assigns \"Avinash\" to it\n",
    "\n",
    "\n",
    "# THE OBJECT NOW HAVE ANY INSTANCE ATTRIBUTE \"name\"\n",
    "print(p.__dict__)                                                                               # OUTPUT: {'name': 'Avinash'}\n",
    "print(list(p.__dict__.keys()))                                                                  # OUTPUT: ['name']\n",
    "print(p.name)                                                                                   # OUTPUT: Avinash\n"
   ]
  },
  {
   "cell_type": "markdown",
   "id": "d28444dc-e3da-42bf-92cd-14c5efe8c674",
   "metadata": {},
   "source": [
    "<br>\n",
    "\n",
    "<span style=\"color: red;\">================================================================================================================</span>\n",
    "\n",
    "<br>\n",
    "\n",
    "<div style=\"background-color: #ffe0b0; padding: 10px;\">\n",
    "\n",
    "<strong>NOTE</strong> &nbsp;-&nbsp; To get the list of all <code style=\"background-color: #ffe0b0; color: blue; font-size: 1rem;\"><strong>class attributes</strong></code> and <code style=\"background-color: #ffe0b0; color: blue; font-size: 1rem;\"><strong>instance attributes</strong></code>:\n",
    "\n",
    "&nbsp;&nbsp;&nbsp;&nbsp;&nbsp;&nbsp;&nbsp;&nbsp;&nbsp;&nbsp;&nbsp;&nbsp;&nbsp;&nbsp;&nbsp;<span style=\"font-size: 0.8rem;\">■</span>&nbsp;&nbsp;&nbsp;&nbsp;<code style=\"background-color: white;\"><span style=\"color: red;\">ClassName</span>.\\_\\_dict__.keys() </code>\n",
    "\n",
    "&nbsp;&nbsp;&nbsp;&nbsp;&nbsp;&nbsp;&nbsp;&nbsp;&nbsp;&nbsp;&nbsp;&nbsp;&nbsp;&nbsp;&nbsp;<span style=\"font-size: 0.8rem;\">■</span>&nbsp;&nbsp;&nbsp;&nbsp;<code style=\"background-color: white;\"><span style=\"color: red;\">objectname</span>.\\_\\_dict__.keys()</code>\n",
    "    \n",
    "</div>\n"
   ]
  },
  {
   "cell_type": "code",
   "execution_count": 66,
   "id": "aeafdb65-e32e-4fe7-ae44-9b1be7508204",
   "metadata": {},
   "outputs": [
    {
     "name": "stdout",
     "output_type": "stream",
     "text": [
      "Avinash Mishra\n"
     ]
    }
   ],
   "source": [
    "\n",
    "class Student:\n",
    "\n",
    "    college_name = \"abc\"                  # class attribute\n",
    "    name = \"anonymous\"                    # class attribute\n",
    "\n",
    "    # CONSTRUCTOR\n",
    "    def __init__(self, name, marks):\n",
    "        self.name = name                  # object atrribute\n",
    "        self.marks = marks                # object attribute\n",
    "\n",
    "\n",
    "s1 = Student(\"Avinash Mishra\", 88)\n",
    "\n",
    "print(s1.name)                            # Output    ======>    \"Avinash Mishra\"     not     \"anonymous\"\n"
   ]
  },
  {
   "cell_type": "markdown",
   "id": "c0b08381-3246-4fe8-8506-3418247a0053",
   "metadata": {},
   "source": [
    "<span style=\"color: red;\">List &nbsp;of &nbsp;**class** &nbsp;attributes</span>"
   ]
  },
  {
   "cell_type": "code",
   "execution_count": 74,
   "id": "eee60dbd-384e-4baf-a991-be2f6feb1a7b",
   "metadata": {},
   "outputs": [
    {
     "data": {
      "text/plain": [
       "['__module__',\n",
       " 'college_name',\n",
       " 'name',\n",
       " '__init__',\n",
       " '__dict__',\n",
       " '__weakref__',\n",
       " '__doc__']"
      ]
     },
     "execution_count": 74,
     "metadata": {},
     "output_type": "execute_result"
    }
   ],
   "source": [
    "\n",
    "list( Student.__dict__.keys() )\n"
   ]
  },
  {
   "cell_type": "markdown",
   "id": "55b1cc96-489b-4245-affb-0c295f87e2f2",
   "metadata": {},
   "source": [
    "<span style=\"color: red;\">List &nbsp;of &nbsp;**instance** &nbsp;attributes</span>"
   ]
  },
  {
   "cell_type": "code",
   "execution_count": 75,
   "id": "5444b628-e73c-42e9-a1d7-7f082995262e",
   "metadata": {},
   "outputs": [
    {
     "data": {
      "text/plain": [
       "['name', 'marks']"
      ]
     },
     "execution_count": 75,
     "metadata": {},
     "output_type": "execute_result"
    }
   ],
   "source": [
    "\n",
    "list( s1.__dict__.keys() )\n"
   ]
  },
  {
   "cell_type": "markdown",
   "id": "4e305bb4-6d67-4885-9bab-18b190829195",
   "metadata": {},
   "source": [
    "<br>\n",
    "\n",
    "<span style=\"color: red;\">================================================================================================================</span>\n",
    "\n",
    "<br>\n",
    "\n",
    "<div style=\"background-color: #ffe0b0; padding-left: 20px; padding-top: 30px; padding-bottom: 15px; padding-right: 5px;\">\n",
    "    \n",
    "It is important to note that <span style=\"color: blue;\">no two **instance attributes** can have the same name</span>. &nbsp;Similarly <span style=\"color: blue;\">no two **class attributes** can have the same name</span>.  <br>\n",
    "But if you have a <u>class attribute</u> with the **same name** as that of an <u>instance attribute</u>, follow the standard procedure : <br>\n",
    "&nbsp;&nbsp;&nbsp;&nbsp;&nbsp;&nbsp;&nbsp;&nbsp;&nbsp;&nbsp;&nbsp;&nbsp;&nbsp;&nbsp;**<span style=\"color: blue;\">class attribute</span>** &nbsp;&nbsp;&nbsp;&nbsp;&nbsp;&nbsp;&nbsp;&nbsp;&nbsp;&nbsp;➜&nbsp;&nbsp;&nbsp;&nbsp; <code style=\"background-color: white;\"><span style=\"color: red;\">ClassName</span>.attributename </code>  <br>\n",
    "&nbsp;&nbsp;&nbsp;&nbsp;&nbsp;&nbsp;&nbsp;&nbsp;&&nbsp;&nbsp; <strong><span style=\"color: blue;\">instance attribute</span></strong> &nbsp;&nbsp;&nbsp;&nbsp;➜&nbsp;&nbsp;&nbsp;&nbsp; <code style=\"background-color: white;\"><span style=\"color: red;\">objectname</span>.attributename</code>\n",
    "\n",
    "<br>\n",
    "\n",
    "Also note that since you can access a <u>class attribute</u> through an <u>object</u> also, therefore if you see something like &nbsp;<code style=\"background-color: white;\"><span style=\"color: red;\">objectname</span>.attributename</code>, remember that the Python internally resolves the confusion by :                                                                                        <br>\n",
    "&nbsp;&nbsp;&nbsp;&nbsp;&nbsp;&nbsp;&nbsp;&nbsp;1)&nbsp;&nbsp; first searching it in the list of &nbsp;**<span style=\"color: blue;\">instance attributes</span>**                      <br>\n",
    "&nbsp;&nbsp;&nbsp;&nbsp;&nbsp;&nbsp;&nbsp;&nbsp;2)&nbsp;&nbsp; if not found, then in the list of &nbsp;**<span style=\"color: blue;\">class attributes</span>**                         <br>\n",
    "</div>\n",
    "\n"
   ]
  },
  {
   "cell_type": "code",
   "execution_count": 154,
   "id": "0ae370e8-363b-4bc5-adb8-d8ac4b0a6a2a",
   "metadata": {},
   "outputs": [
    {
     "name": "stdout",
     "output_type": "stream",
     "text": [
      "anonymous\n"
     ]
    }
   ],
   "source": [
    "\n",
    "class Student:\n",
    "    \n",
    "    name = \"anonymous\"                    # class  attribute  \"name\"\n",
    "\n",
    "s1 = Student()\n",
    "\n",
    "print(s1.name)                            # OUTPUT  =======>  \"anonymous\"  <=======  accessing class attribute through an object\n",
    "                                          "
   ]
  },
  {
   "cell_type": "code",
   "execution_count": 157,
   "id": "f2fa9414-3786-4562-93ca-d70db92bf703",
   "metadata": {},
   "outputs": [
    {
     "name": "stdout",
     "output_type": "stream",
     "text": [
      "Avinash Mishra\n"
     ]
    }
   ],
   "source": [
    "\n",
    "class Student:\n",
    "\n",
    "    name = \"anonymous\"                    # class   attribute  \"name\"\n",
    "\n",
    "    def __init__(self, name):\n",
    "        self.name = name                  # object  atrribute  \"name\"\n",
    "\n",
    "s1 = Student(\"Avinash Mishra\")\n",
    "\n",
    "print(s1.name)                            # OUTPUT   =======>  \"Avinash Mishra\"     not     \"anonymous\"\n"
   ]
  },
  {
   "cell_type": "markdown",
   "id": "4a294548-6ff9-4e56-824d-588fae4831f6",
   "metadata": {},
   "source": [
    "<br>\n",
    "\n",
    "<span style=\"color: #DCBD10\">▬▬▬▬▬▬▬▬▬▬▬▬▬▬▬▬▬▬▬▬▬▬▬▬▬▬▬▬▬▬▬▬▬▬▬▬▬▬▬▬▬▬▬▬▬▬▬▬▬▬▬▬▬▬▬▬▬▬▬▬▬▬▬▬▬▬▬▬▬▬▬▬▬▬▬▬▬</span>\n",
    "\n",
    "<br>\n",
    "\n",
    "<span style=\"color: blue; font-size: 1rem;\"><strong>Class &nbsp;Methods</strong></span>"
   ]
  },
  {
   "cell_type": "markdown",
   "id": "fb681e26-4c0e-4edf-bea0-054eb6054b06",
   "metadata": {},
   "source": [
    "Like a class attribute, a class method is <u>shared by all instances of the class</u>. &nbsp;<code>The first argument of a class method is the class itself</code>. &nbsp;By convention, it's name is &nbsp;<code style=\"background-color: yellow;\">cls</code>. &nbsp;Python automatically passes this argument to the class method. &nbsp;Also, you use the &nbsp;<code style=\"background-color: yellow;\">@classmethod</code>&nbsp; **decorator** &nbsp;to decorate a class method.\n",
    "\n",
    "<br>\n",
    "\n",
    "<div style=\"background-color: #ffe0b0; padding: 10px;\">\n",
    "The standard way of calling a &nbsp;<strong>class method</strong>&nbsp; is &nbsp;<code style=\"background-color: white;\"><span style=\"color: red;\">ClassName</span>.<span style=\"color: blue;\">classmethodname()</span></code>\n",
    "</div>"
   ]
  },
  {
   "cell_type": "code",
   "execution_count": 34,
   "id": "9d3b1462-306c-419f-b3fb-77209e2982ee",
   "metadata": {},
   "outputs": [
    {
     "name": "stdout",
     "output_type": "stream",
     "text": [
      "Anonymous\n",
      "22\n"
     ]
    }
   ],
   "source": [
    "\n",
    "class Person:\n",
    "    counter = 0\n",
    "\n",
    "    def __init__(self, name, age):         # CONSTRUCTOR   ===>   # instance method\n",
    "        self.name = name\n",
    "        self.age = age\n",
    "        Person.counter += 1                # ==========================================>  updates  the  class  attribute  \"counter\"\n",
    "\n",
    "    def greet(self):                                              # instance method\n",
    "        return f\"Hi, it's {self.name}.\"\n",
    "\n",
    "    @classmethod                           # DECORATOR\n",
    "    def create_anonymous(cls):                                    # class method\n",
    "        return Person('Anonymous', 22)\n",
    "\n",
    "\n",
    "anonymous = Person.create_anonymous()      # ==========================================>  calls  the  class  method  using  <ClassName.classmethodname>\n",
    "print(anonymous.name)                      # OUTPUT: Anonymous\n",
    "print(anonymous.age)                       # OUTPUT: 22\n"
   ]
  },
  {
   "cell_type": "markdown",
   "id": "29713f4c-6d1f-4da9-925d-b3fc5dc067a0",
   "metadata": {},
   "source": [
    "\n",
    "\n",
    "<br>\n",
    "\n",
    "Although **not recommended**, but like <u>class attributes</u> you can call <u>class methods</u> also through an <u>object</u> &nbsp;&nbsp;&nbsp;➜&nbsp;&nbsp;&nbsp; <code><span style=\"color: red;\">objectname</span>.<span style=\"color: blue;\">classmethodname()</span></code>"
   ]
  },
  {
   "cell_type": "code",
   "execution_count": 205,
   "id": "757b7571-be5f-48f5-8a98-23bd1069ae14",
   "metadata": {},
   "outputs": [
    {
     "name": "stdout",
     "output_type": "stream",
     "text": [
      "Instance method called\n",
      "Class method called\n",
      "Class method called\n"
     ]
    }
   ],
   "source": [
    "\n",
    "class MyClass:\n",
    "    def instance_method(self):\n",
    "        print(\"Instance method called\")\n",
    "\n",
    "    @classmethod\n",
    "    def class_method(cls):\n",
    "        print(\"Class method called\")\n",
    "\n",
    "\n",
    "# Create an instance of MyClass\n",
    "obj = MyClass()\n",
    "\n",
    "# calls the instance method\n",
    "obj.instance_method()                                                           # OUTPUT: \"Instance method called\"\n",
    "\n",
    "# calls the class method using the class name\n",
    "MyClass.class_method()                                                          # OUTPUT: \"Class method called\"      ====>   Method-1\n",
    "\n",
    "# calls the class method using the instance (not recommended but possible)\n",
    "obj.class_method()                                                              # OUTPUT: \"Class method called\"      ====>   Method-2\n"
   ]
  },
  {
   "cell_type": "markdown",
   "id": "3c370daa-afdb-471a-8483-86916944ae57",
   "metadata": {},
   "source": [
    "<br>\n",
    "\n",
    "Let's take another example :"
   ]
  },
  {
   "cell_type": "code",
   "execution_count": 37,
   "id": "2d485243-5483-410f-a3ff-62dfedefd1c4",
   "metadata": {},
   "outputs": [
    {
     "name": "stdout",
     "output_type": "stream",
     "text": [
      "Examination Date - 01/01/2024 \n",
      "Your application for leave is approved\n"
     ]
    }
   ],
   "source": [
    "\n",
    "class Student:\n",
    "\n",
    "    college_name = \"abc\"                                    # class attribute \"college_name\"\n",
    "    name = \"anonymous\"                                      # class attribute \"name\"\n",
    "\n",
    "    def __init__(self, name):             # CONSTRUCTOR\n",
    "        self.name = name                                    # instance atrribute \"name\"\n",
    "\n",
    "    @classmethod                          # DECORATOR\n",
    "    def notify(cls, message):\n",
    "        print(message)\n",
    "\n",
    "\n",
    "Student.notify(\"Examination Date - 01/01/2024 \")             # METHOD - 1    ====>   <ClassName.classmethodname>\n",
    "\n",
    "s1 = Student(\"Avinash Mishra\")\n",
    "s1.notify(\"Your application for leave is approved\")          # METHOD - 2    ====>   <objectname.classmethodname> \n"
   ]
  },
  {
   "cell_type": "markdown",
   "id": "e267e22e-5331-4a1e-a200-9b2ee67822f2",
   "metadata": {},
   "source": [
    "<br>\n",
    "\n",
    "However, if you want to call a <u>class method</u> through an <u>object</u> &nbsp;**from within the class**, you can use &nbsp;<code><span style=\"color: red;\">self.\\_\\_class__</span>.<span style=\"color: blue;\">classmethodname()</code>&nbsp; also :"
   ]
  },
  {
   "cell_type": "code",
   "execution_count": 36,
   "id": "45b28809-3fb6-41ce-ba07-0af61ac551c2",
   "metadata": {},
   "outputs": [
    {
     "name": "stdout",
     "output_type": "stream",
     "text": [
      "Examination Date - 01/01/2024 \n",
      "Welcome\n",
      "Your leaves are granted\n"
     ]
    }
   ],
   "source": [
    "\n",
    "class Student:\n",
    "\n",
    "    college_name = \"abc\"                                    # class attribute \"college_name\"\n",
    "    name = \"anonymous\"                                      # class attribute \"name\"\n",
    "\n",
    "    def __init__(self, name):             # CONSTRUCTOR\n",
    "        self.name = name                                    # instance atrribute \"name\"\n",
    "        self.__class__.notify(\"Welcome\")                                                           # METHOD - 3  ==>  <self.__class__.classmethodname>  \n",
    "\n",
    "    @classmethod                          # DECORATOR\n",
    "    def notify(cls, message):\n",
    "        print(message)\n",
    "\n",
    "\n",
    "Student.notify(\"Examination Date - 01/01/2024 \")     # OUTPUT: Examination Date - 01/01/2024       # METHOD - 1  ==>  <ClassName.classmethodname>\n",
    "\n",
    "s1 = Student(\"Avinash Mishra\")                       # OUTPUT: Welcome\n",
    "s1.notify(\"Your leaves are granted\")                 # OUTPUT: Your leaves are granted             # METHOD - 2  ==>  <objectname.classmethodname> \n"
   ]
  },
  {
   "cell_type": "markdown",
   "id": "54488a99-3c9d-41ac-8083-01cd1e6d73b7",
   "metadata": {},
   "source": [
    "<br>\n",
    "\n",
    "Let's summarise it :\n",
    "\n",
    "<div style=\"background-color: #ffe0b0; padding: 10px;\">\n",
    "    \n",
    "<code style=\"background-color: #ffe0b0;\">Different ways of accessing a <span style=\"font-size: 1rem;\"><strong>class method</strong></span>:</code> <br>\n",
    "\n",
    "&nbsp;&nbsp;&nbsp;&nbsp;&nbsp;&nbsp;&nbsp;&nbsp;&nbsp;<span style=\"font-size: 0.8rem;\">■</span>&nbsp;&nbsp;&nbsp;&nbsp;<code style=\"background-color: white;\"><span style=\"color: red;\">ClassName</span>.<span style=\"color: blue;\">classmethodname()</span>     </code>&nbsp;&nbsp;&nbsp;&nbsp;&nbsp;&nbsp;(Recommended - applicable to all places)  &nbsp;&nbsp;&nbsp;&nbsp;&nbsp;&nbsp;&nbsp;&nbsp;&nbsp;&nbsp;&nbsp;&nbsp;&nbsp;&nbsp;&nbsp;&nbsp;&nbsp;&nbsp;&nbsp;&nbsp;&nbsp;&nbsp;&nbsp;&nbsp;&nbsp;&nbsp;&nbsp;&nbsp;&nbsp;&nbsp;&nbsp;&nbsp;&nbsp;&nbsp;&nbsp;&nbsp;&nbsp;&nbsp;&nbsp;&nbsp;&nbsp;&nbsp;&nbsp;&nbsp;&nbsp;&nbsp;&nbsp;&nbsp;&nbsp;&nbsp;&nbsp;&nbsp;&nbsp;&nbsp;&nbsp;&nbsp;&nbsp;&nbsp;&nbsp;&nbsp;&nbsp;&nbsp;&nbsp;&nbsp;&nbsp;&nbsp;&nbsp;&nbsp;&nbsp;&nbsp;&nbsp;&nbsp;&nbsp;&nbsp;&nbsp;&nbsp;&nbsp;&nbsp;&nbsp;&nbsp;&nbsp;<span style=\"color: #9a9493;\">cm1</span><br>\n",
    "\n",
    "&nbsp;&nbsp;&nbsp;&nbsp;&nbsp;&nbsp;&nbsp;&nbsp;&nbsp;<span style=\"font-size: 0.8rem;\">■</span>&nbsp;&nbsp;&nbsp;&nbsp;<code style=\"background-color: white;\"><span style=\"color: red;\">self.\\_\\_class__.</span><span style=\"color: blue;\">classmethodname()</span></code>&nbsp;&nbsp;&nbsp;&nbsp;&nbsp;&nbsp;(applicable only when to be used from within an <u>instance method</u>) &nbsp;&nbsp;&nbsp;&nbsp;&nbsp;&nbsp;&nbsp;&nbsp;&nbsp;&nbsp;&nbsp;&nbsp;&nbsp;&nbsp;&nbsp;&nbsp;&nbsp;&nbsp;&nbsp;&nbsp;&nbsp;&nbsp;&nbsp;&nbsp;&nbsp;&nbsp;&nbsp;&nbsp;&nbsp;&nbsp;&nbsp;&nbsp;&nbsp;&nbsp;&nbsp;&nbsp;&nbsp;&nbsp;&nbsp;&nbsp;&nbsp;<span style=\"color: #9a9493;\">cm2</span><br>\n",
    "\n",
    "&nbsp;&nbsp;&nbsp;&nbsp;&nbsp;&nbsp;&nbsp;&nbsp;&nbsp;<span style=\"font-size: 0.8rem;\">■</span>&nbsp;&nbsp;&nbsp;&nbsp;<code style=\"background-color: white;\"><span style=\"color: red;\">cls.</span><span style=\"color: blue;\">classmethodname()</span>           </code>&nbsp;&nbsp;&nbsp;&nbsp;&nbsp;&nbsp;(applicable only when to be used from within an <u>class method</u>) &nbsp;&nbsp;&nbsp;&nbsp;&nbsp;&nbsp;&nbsp;&nbsp;&nbsp;&nbsp;&nbsp;&nbsp;&nbsp;&nbsp;&nbsp;&nbsp;&nbsp;&nbsp;&nbsp;&nbsp;&nbsp;&nbsp;&nbsp;&nbsp;&nbsp;&nbsp;&nbsp;&nbsp;&nbsp;&nbsp;&nbsp;&nbsp;&nbsp;&nbsp;&nbsp;&nbsp;&nbsp;&nbsp;&nbsp;&nbsp;&nbsp;&nbsp;&nbsp;&nbsp;&nbsp;&nbsp;&nbsp;<span style=\"color: #9a9493;\">cm3</span><br>\n",
    "\n",
    "&nbsp;&nbsp;&nbsp;&nbsp;&nbsp;&nbsp;&nbsp;&nbsp;&nbsp;<span style=\"font-size: 0.8rem;\">■</span>&nbsp;&nbsp;&nbsp;&nbsp;<code style=\"background-color: white;\"><span style=\"color: red;\">objectname.</span><span style=\"color: blue;\">classmethodname()</span>    </code>&nbsp;&nbsp;&nbsp;&nbsp;&nbsp;&nbsp;(works but &nbsp;<span style=\"background-color: #ff9580;\">Not Recommended</span>) &nbsp;&nbsp;&nbsp;&nbsp;&nbsp;&nbsp;&nbsp;&nbsp;&nbsp;&nbsp;&nbsp;&nbsp;&nbsp;&nbsp;&nbsp;&nbsp;&nbsp;&nbsp;&nbsp;&nbsp;&nbsp;&nbsp;&nbsp;&nbsp;&nbsp;&nbsp;&nbsp;&nbsp;&nbsp;&nbsp;&nbsp;&nbsp;&nbsp;&nbsp;&nbsp;&nbsp;&nbsp;&nbsp;&nbsp;&nbsp;&nbsp;&nbsp;&nbsp;&nbsp;&nbsp;&nbsp;&nbsp;&nbsp;&nbsp;&nbsp;&nbsp;&nbsp;&nbsp;&nbsp;&nbsp;&nbsp;&nbsp;&nbsp;&nbsp;&nbsp;&nbsp;&nbsp;&nbsp;&nbsp;&nbsp;&nbsp;&nbsp;&nbsp;&nbsp;&nbsp;&nbsp;&nbsp;&nbsp;&nbsp;&nbsp;&nbsp;&nbsp;&nbsp;&nbsp;&nbsp;&nbsp;&nbsp;&nbsp;&nbsp;&nbsp;&nbsp;&nbsp;&nbsp;&nbsp;&nbsp;&nbsp;&nbsp;&nbsp;&nbsp;&nbsp;&nbsp;<span style=\"color: #9a9493;\">cm4</span>\n",
    "</div>"
   ]
  },
  {
   "cell_type": "markdown",
   "id": "ed4d3d7a-b8c6-4bd6-bce9-c7a0b9f28a32",
   "metadata": {},
   "source": [
    "<br>\n",
    "\n",
    "Now that we know how to define a <u>class method</u> and access it in different ways, let's understand all these following ways of accessing a <u>class attribute</u> especially using &nbsp;<code style=\"background-color: yellow;\">cls</code> through an example :\n",
    "\n",
    "<br>\n",
    "\n",
    "<div style=\"background-color: #ffe0b0; padding: 10px;\">\n",
    "    \n",
    "<code style=\"background-color: #ffe0b0;\">Different ways of accessing a <span style=\"font-size: 1rem;\"><strong>class attribute</strong></span>:</code> <br>\n",
    "\n",
    "&nbsp;&nbsp;&nbsp;&nbsp;&nbsp;&nbsp;&nbsp;&nbsp;&nbsp;<span style=\"font-size: 0.8rem;\">■</span>&nbsp;&nbsp;&nbsp;&nbsp;<code style=\"background-color: white;\"><span style=\"color: red;\">ClassName</span>.<span style=\"color: blue;\">classattributename</span>     </code>&nbsp;&nbsp;&nbsp;&nbsp;&nbsp;&nbsp;(Recommended - applicable to all places) &nbsp;&nbsp;&nbsp;&nbsp;&nbsp;&nbsp;&nbsp;&nbsp;&nbsp;&nbsp;&nbsp;&nbsp;&nbsp;&nbsp;&nbsp;&nbsp;&nbsp;&nbsp;&nbsp;&nbsp;&nbsp;&nbsp;&nbsp;&nbsp;&nbsp;&nbsp;&nbsp;&nbsp;&nbsp;&nbsp;&nbsp;&nbsp;&nbsp;&nbsp;&nbsp;&nbsp;&nbsp;&nbsp;&nbsp;&nbsp;&nbsp;&nbsp;&nbsp;&nbsp;&nbsp;&nbsp;&nbsp;&nbsp;&nbsp;&nbsp;&nbsp;&nbsp;&nbsp;&nbsp;&nbsp;&nbsp;&nbsp;&nbsp;&nbsp;&nbsp;&nbsp;&nbsp;&nbsp;&nbsp;&nbsp;&nbsp;&nbsp;&nbsp;&nbsp;&nbsp;&nbsp;&nbsp;&nbsp;&nbsp;&nbsp;&nbsp;&nbsp;&nbsp;&nbsp;&nbsp;&nbsp;<span style=\"color: #9a9493;\">ca1</span><br>\n",
    "\n",
    "&nbsp;&nbsp;&nbsp;&nbsp;&nbsp;&nbsp;&nbsp;&nbsp;&nbsp;<span style=\"font-size: 0.8rem;\">■</span>&nbsp;&nbsp;&nbsp;&nbsp;<code style=\"background-color: white;\"><span style=\"color: red;\">self.\\_\\_class__.</span><span style=\"color: blue;\">classattributename</span></code>&nbsp;&nbsp;&nbsp;&nbsp;&nbsp;&nbsp;(applicable only when to be used from within an <u>instance method</u>) &nbsp;&nbsp;&nbsp;&nbsp;&nbsp;&nbsp;&nbsp;&nbsp;&nbsp;&nbsp;&nbsp;&nbsp;&nbsp;&nbsp;&nbsp;&nbsp;&nbsp;&nbsp;&nbsp;&nbsp;&nbsp;&nbsp;&nbsp;&nbsp;&nbsp;&nbsp;&nbsp;&nbsp;&nbsp;&nbsp;&nbsp;&nbsp;&nbsp;&nbsp;&nbsp;&nbsp;&nbsp;&nbsp;&nbsp;&nbsp;&nbsp;<span style=\"color: #9a9493;\">ca2</span><br>\n",
    "\n",
    "&nbsp;&nbsp;&nbsp;&nbsp;&nbsp;&nbsp;&nbsp;&nbsp;&nbsp;<span style=\"font-size: 0.8rem;\">■</span>&nbsp;&nbsp;&nbsp;&nbsp;<code style=\"background-color: white;\"><span style=\"color: red;\">cls.</span><span style=\"color: blue;\">classattributename</span>           </code>&nbsp;&nbsp;&nbsp;&nbsp;&nbsp;&nbsp;(applicable only when to be used from within an <u>class method</u>) &nbsp;&nbsp;&nbsp;&nbsp;&nbsp;&nbsp;&nbsp;&nbsp;&nbsp;&nbsp;&nbsp;&nbsp;&nbsp;&nbsp;&nbsp;&nbsp;&nbsp;&nbsp;&nbsp;&nbsp;&nbsp;&nbsp;&nbsp;&nbsp;&nbsp;&nbsp;&nbsp;&nbsp;&nbsp;&nbsp;&nbsp;&nbsp;&nbsp;&nbsp;&nbsp;&nbsp;&nbsp;&nbsp;&nbsp;&nbsp;&nbsp;&nbsp;&nbsp;&nbsp;&nbsp;&nbsp;&nbsp;<span style=\"color: #9a9493;\">ca3</span><br>\n",
    "\n",
    "&nbsp;&nbsp;&nbsp;&nbsp;&nbsp;&nbsp;&nbsp;&nbsp;&nbsp;<span style=\"font-size: 0.8rem;\">■</span>&nbsp;&nbsp;&nbsp;&nbsp;<code style=\"background-color: white;\"><span style=\"color: red;\">objectname.</span><span style=\"color: blue;\">classattributename</span>    </code>&nbsp;&nbsp;&nbsp;&nbsp;&nbsp;&nbsp;(works but &nbsp;<span style=\"background-color: #ff9580;\">Not Recommended</span>) &nbsp;&nbsp;&nbsp;&nbsp;&nbsp;&nbsp;&nbsp;&nbsp;&nbsp;&nbsp;&nbsp;&nbsp;&nbsp;&nbsp;&nbsp;&nbsp;&nbsp;&nbsp;&nbsp;&nbsp;&nbsp;&nbsp;&nbsp;&nbsp;&nbsp;&nbsp;&nbsp;&nbsp;&nbsp;&nbsp;&nbsp;&nbsp;&nbsp;&nbsp;&nbsp;&nbsp;&nbsp;&nbsp;&nbsp;&nbsp;&nbsp;&nbsp;&nbsp;&nbsp;&nbsp;&nbsp;&nbsp;&nbsp;&nbsp;&nbsp;&nbsp;&nbsp;&nbsp;&nbsp;&nbsp;&nbsp;&nbsp;&nbsp;&nbsp;&nbsp;&nbsp;&nbsp;&nbsp;&nbsp;&nbsp;&nbsp;&nbsp;&nbsp;&nbsp;&nbsp;&nbsp;&nbsp;&nbsp;&nbsp;&nbsp;&nbsp;&nbsp;&nbsp;&nbsp;&nbsp;&nbsp;&nbsp;&nbsp;&nbsp;&nbsp;&nbsp;&nbsp;&nbsp;&nbsp;&nbsp;&nbsp;&nbsp;&nbsp;&nbsp;&nbsp;&nbsp;&nbsp;<span style=\"color: #9a9493;\">ca4</span>\n",
    "</div>"
   ]
  },
  {
   "cell_type": "code",
   "execution_count": 22,
   "id": "a5684f04-12cf-449b-ae0c-b080d68747b5",
   "metadata": {},
   "outputs": [
    {
     "name": "stdout",
     "output_type": "stream",
     "text": [
      "cls attr 0\n",
      "cls attr 1\n",
      "cls attr 2\n",
      "cls attr 3\n",
      "cls attr 4\n"
     ]
    }
   ],
   "source": [
    "\n",
    "class MyClass:\n",
    "    attr = \"cls attr 0\"                                                                                        #  class attribute\n",
    "\n",
    "    def instance_method(self, attr_value):\n",
    "        MyClass.attr = attr_value                     #  ca1   ===>  <ClassName.classattributename>\n",
    "        self.__class__.attr = attr_value              #  ca2   ===>  <self.__class__.classattributename>\n",
    "        self.__class__.class_method1(attr_value)      #  cm2   ===>  <self.__class__.classmethodname>\n",
    "\n",
    "    @classmethod\n",
    "    def class_method1(cls, attr_value):\n",
    "        cls.attr = attr_value                         #  ca3   ===>   <cls.classattributename>\n",
    "        cls.class_method2(attr_value)                 #  cm3   ===>   <cls.classmethodname>\n",
    "\n",
    "    @classmethod\n",
    "    def class_method2(cls, attr_value):\n",
    "        cls.attr = attr_value                         #  ca3   ===>   <cls.classattributename>\n",
    "\n",
    "####################################################################################################################################################\n",
    "\n",
    "myclass = MyClass()                                                                                            #  creates an object of type Person\n",
    "print(myclass.attr)                                   #  ca4   ===>   <objectname.classattributename>          #  OUTPUT:  \"cls attr 0\"\n",
    "\n",
    "MyClass.attr = \"cls attr 1\"                           #  ca1   ===>   <ClassName.classattributename>\n",
    "print(MyClass.attr)                                   #  ca1   ===>   <ClassName.classattributename>           #  OUTPUT:  \"cls attr 1\"\n",
    "\n",
    "MyClass.class_method1(\"cls attr 2\")                   #  cm1   ===>   <ClassName.classmethodname>\n",
    "print(MyClass.attr)                                   #  ca1   ===>   <ClassName.classattributename>           #  OUTPUT:  \"cls attr 2\"\n",
    "\n",
    "myclass.instance_method(\"cls attr 3\")                                                                          #  <objectnamne.instancemethodname>\n",
    "print(MyClass.attr)                                   #  ca1   ===>   <ClassName.classattributename>           #  OUTPUT:  \"cls attr 3\"\n",
    "\n",
    "myclass.class_method1(\"cls attr 4\")                   #  cm4   ===>   <objectname.classmethodname>\n",
    "print(MyClass.attr)                                   #  ca1   ===>   <ClassName.classattributename>           #  OUTPUT:  \"cls attr 4\"\n"
   ]
  },
  {
   "cell_type": "markdown",
   "id": "527c3da6-61de-42a4-8852-9fe8f11db4b9",
   "metadata": {},
   "source": [
    "\n",
    "<div style=\"background-color: #ffe0b0; padding-top: 20px; padding-bottom: 10px; padding-left: 10px; padding-right: 10px;\">\n",
    "\n",
    "In <code style=\"background-color: #ffe0b0; font-size: 0.9rem;\">Python, if you define both an <u>instance method</u> and a <u>class method</u> with the <u>same name</u> in the <u>same class</u>, <span style=\"font-size: 1rem;\"><strong>the most recently defined method will overwrite the previous one</strong></span> <span style=\"background-color: white;\">irrespective of whether it is called through an object (<strong><span style=\"color: red; font-size: 1rem;\">object.</span><span style=\"color: blue; font-size: 1rem;\">methodname</span></strong>) or through the classname (<strong><span style=\"color: red;  font-size: 1rem;\">classname.</span><span style=\"color: blue;  font-size: 1rem;\">methodname</span></strong>)</span></code>\n",
    "\n",
    "</div>\n",
    "\n",
    "<br>\n",
    "\n",
    "&nbsp;&nbsp;&nbsp;<font size=\"+1\">↳</font> &nbsp;&nbsp;<u>Case - 1</u> : &nbsp;&nbsp;when the most recent method with the same name i.e, &nbsp;<code style=\"background-color: #e7e7e7;\">message</code>&nbsp; is an &nbsp;<span style=\"color: red;\">instance &nbsp;method</span>\n"
   ]
  },
  {
   "cell_type": "code",
   "execution_count": 136,
   "id": "0a123cc3-a9bc-4f92-84f2-c15c4204f046",
   "metadata": {},
   "outputs": [
    {
     "name": "stdout",
     "output_type": "stream",
     "text": [
      "inside instance method\n"
     ]
    }
   ],
   "source": [
    "\n",
    "class Person:\n",
    "\n",
    "    @classmethod\n",
    "    def message(cls):\n",
    "        print(\"inside class method\")\n",
    "\n",
    "    def message(self):\n",
    "        print(\"inside instance method\")\n",
    "\n",
    "p = Person()\n",
    "\n",
    "p.message()\n"
   ]
  },
  {
   "cell_type": "markdown",
   "id": "89183180-e97c-49ca-8215-45c9617a7f37",
   "metadata": {},
   "source": [
    "\n",
    "&nbsp;&nbsp;&nbsp;<font size=\"+1\">↳</font> &nbsp;<u>Case - 2</u> : &nbsp;&nbsp;when the most recent method with the same name i.e, &nbsp;<code style=\"background-color: #e7e7e7;\">message</code>&nbsp; is a &nbsp;<span style=\"color: red;\">class &nbsp;method</span>"
   ]
  },
  {
   "cell_type": "code",
   "execution_count": 138,
   "id": "1dfb2343-3982-4a2a-8312-ecc376584a26",
   "metadata": {},
   "outputs": [
    {
     "name": "stdout",
     "output_type": "stream",
     "text": [
      "inside class method\n"
     ]
    }
   ],
   "source": [
    "\n",
    "class Person:\n",
    "\n",
    "    def message(self):\n",
    "        print(\"inside instance method\")\n",
    "\n",
    "    @classmethod\n",
    "    def message(cls):\n",
    "        print(\"inside class method\")\n",
    "\n",
    "p = Person()\n",
    "\n",
    "p.message()\n"
   ]
  },
  {
   "cell_type": "markdown",
   "id": "0859bd54-16c8-4bbe-8976-0f9796ec7875",
   "metadata": {},
   "source": [
    "<br>\n",
    "\n",
    "<span style=\"color: red;\">================================================================================================================</span>\n",
    "\n",
    "<span style=\"color: red;\"> Let us see another example of a **Class Method**</span>"
   ]
  },
  {
   "cell_type": "code",
   "execution_count": 25,
   "id": "3abeb93c-94fa-4197-9e41-267f6f45e1fe",
   "metadata": {},
   "outputs": [
    {
     "name": "stdout",
     "output_type": "stream",
     "text": [
      "2\n",
      "John Doe\n",
      "Manager\n"
     ]
    }
   ],
   "source": [
    "\n",
    "class Employee:\n",
    "    num_employees = 0                                    # Class attribute\n",
    "\n",
    "    def __init__(self, name, position):\n",
    "        self.name = name                                 # Instance attribute\n",
    "        self.position = position                         # Instance attribute\n",
    "        Employee.num_employees += 1\n",
    "\n",
    "    @classmethod\n",
    "    def from_string(cls, employee_str):\n",
    "        name, position = employee_str.split(\" - \")\n",
    "        return cls(name, position)\n",
    "\n",
    "    @classmethod\n",
    "    def get_num_employees(cls):\n",
    "        return cls.num_employees\n",
    "\n",
    "# Creating instances using the class method\n",
    "emp1 = Employee(\"John Doe\", \"Developer\")\n",
    "emp2 = Employee.from_string(\"Jane Smith - Manager\")\n",
    "\n",
    "# Accessing class method\n",
    "print(Employee.get_num_employees())                      # Output: 2\n",
    "\n",
    "# Accessing instance attributes\n",
    "print(emp1.name)                                         # Output: John Doe\n",
    "print(emp2.position)                                     # Output: Manager\n"
   ]
  },
  {
   "cell_type": "markdown",
   "id": "10c9cf39-29a2-46f6-9056-4292e8938ae3",
   "metadata": {},
   "source": [
    "<br>\n",
    "\n",
    "<span style=\"color: red;\">================================================================================================================</span>\n",
    "\n",
    "<span style=\"color: red;\">One more example of **Modifying Class-Level Data**</span>\n"
   ]
  },
  {
   "cell_type": "code",
   "execution_count": 32,
   "id": "447ee96e-8aca-4aa9-8834-1916bd4f084d",
   "metadata": {},
   "outputs": [
    {
     "name": "stdout",
     "output_type": "stream",
     "text": [
      "300\n"
     ]
    }
   ],
   "source": [
    "\n",
    "class Warehouse:\n",
    "    total_stock = 0                                      # class  attribute\n",
    "\n",
    "    def __init__(self, name, stock):\n",
    "        self.name = name                                 # creates  or  updates  instance  attribute  \"name\"\n",
    "        self.stock = stock                               # creates  or  updates  instance  attribute  \"stock\"\n",
    "        Warehouse.total_stock += stock                   # updates  the  class  attribute  \"total stock\"  since  it  is  already  created\n",
    "\n",
    "    @classmethod\n",
    "    def update_total_stock(cls, stock_change):\n",
    "        cls.total_stock += stock_change                  # updates  the  class  attribute  \"total stock\"  since  it  is  already  created\n",
    "\n",
    "# Create instances\n",
    "warehouse1 = Warehouse(\"Warehouse A\", 100)\n",
    "warehouse2 = Warehouse(\"Warehouse B\", 150)\n",
    "\n",
    "# Modify total stock using class method\n",
    "Warehouse.update_total_stock(50)\n",
    "\n",
    "print(Warehouse.total_stock)                             # Output: 300 (100 + 150 + 50)\n"
   ]
  },
  {
   "cell_type": "markdown",
   "id": "4df62750-16d6-40d3-b74c-41d2947e3045",
   "metadata": {},
   "source": [
    "<br>\n",
    "\n",
    "<span style=\"color: #DCBD10\">▬▬▬▬▬▬▬▬▬▬▬▬▬▬▬▬▬▬▬▬▬▬▬▬▬▬▬▬▬▬▬▬▬▬▬▬▬▬▬▬▬▬▬▬▬▬▬▬▬▬▬▬▬▬▬▬▬▬▬▬▬▬▬▬▬▬▬▬▬▬▬▬▬▬▬▬▬</span>\n",
    "\n",
    "<br>\n",
    "\n",
    "<span style=\"color: blue; font-size: 1rem;\"><strong>Static &nbsp;Methods</strong></span>"
   ]
  },
  {
   "cell_type": "markdown",
   "id": "c4c0f446-82bf-4fce-9d70-6345d4faac77",
   "metadata": {},
   "source": [
    "\n",
    "<div style=\"background-color: #ffe0b0; padding-top: 20px; padding-bottom: 10px; padding-left: 10px; padding-right: 10px;\">\n",
    "\n",
    "<span style=\"background-color: #ffe0b0;\">A <code style=\"background-color: #ffe0b0;\">method should be assigned as a <span style=\"color: red; font-size: 1rem;\"><strong>static method</strong></span> if it <span style=\"font-size: 1rem;\"><strong>does not need</strong></span> any <span style=\"color: blue;\">class attribute</span> or any <span style=\"color: blue;\">object (instance) attribute</span> to do the work it is defined for.</code></span>\n",
    "\n",
    "&nbsp;&nbsp;&nbsp;&nbsp;&nbsp;&nbsp;&nbsp;&nbsp;&nbsp;<span style=\"font-size: 0.7rem;\">■</span>&nbsp;&nbsp;&nbsp;&nbsp;A &nbsp;<u>static method</u>&nbsp; is not bound to a class or any instances of the class. \n",
    "\n",
    "&nbsp;&nbsp;&nbsp;&nbsp;&nbsp;&nbsp;&nbsp;&nbsp;&nbsp;<span style=\"font-size: 0.7rem;\">■</span>&nbsp;&nbsp;&nbsp;&nbsp;In Python, &nbsp;<code style=\"background-color: #befff8;\">you use static methods to group logically related functions in a class.</code>\n",
    "\n",
    "&nbsp;&nbsp;&nbsp;&nbsp;&nbsp;&nbsp;&nbsp;&nbsp;&nbsp;<span style=\"font-size: 0.7rem;\">■</span>&nbsp;&nbsp;&nbsp;&nbsp;To define a <u>static method</u>, you use the &nbsp;<code style=\"background-color: yellow;\">@staticmethod</code>&nbsp; **decorator**.\n",
    "\n",
    "&nbsp;&nbsp;&nbsp;&nbsp;&nbsp;&nbsp;&nbsp;&nbsp;&nbsp;<span style=\"font-size: 0.7rem;\">■</span>&nbsp;&nbsp;&nbsp;&nbsp;The syntax to call a <u>static method</u>  is &nbsp;<code style=\"background-color: white;\"><span style=\"color: red;\">ClassName</span>.<span style=\"color: blue;\">static_method_name()</span></code>&nbsp;\n",
    "</div>\n",
    "\n",
    "<br>\n"
   ]
  },
  {
   "cell_type": "code",
   "execution_count": 40,
   "id": "18999f60-ebf5-476a-9ea4-c5fdf2ba148a",
   "metadata": {},
   "outputs": [
    {
     "name": "stdout",
     "output_type": "stream",
     "text": [
      "86.0\n"
     ]
    }
   ],
   "source": [
    "\n",
    "class TemperatureConverter:\n",
    "    @staticmethod\n",
    "    def celsius_to_fahrenheit(c):\n",
    "        return 9 * c / 5 + 32\n",
    "\n",
    "    @staticmethod\n",
    "    def fahrenheit_to_celsius(f):\n",
    "        return 5 * (f - 32) / 9\n",
    "\n",
    "f = TemperatureConverter.celsius_to_fahrenheit(30)\n",
    "print(f)                                              # OUTPUT:  86\n"
   ]
  },
  {
   "cell_type": "markdown",
   "id": "eedccf45-4114-4112-bfaf-876b650e2a15",
   "metadata": {},
   "source": [
    "\n",
    "🔶 &nbsp;Notice that Python **doesn’t implicitly** pass an instance (&nbsp;<code style=\"color: red;;\">self</code>&nbsp;) as well as class (&nbsp;<code style=\"color: red;;\">cls</code>&nbsp;) as the **first argument** of a <u>static method</u>."
   ]
  },
  {
   "cell_type": "markdown",
   "id": "5ca6d884-576c-427e-83fd-2a1fa61c1ace",
   "metadata": {},
   "source": [
    "<br>\n",
    "\n",
    "<span style=\"color: #DCBD10\">▬▬▬▬▬▬▬▬▬▬▬▬▬▬▬▬▬▬▬▬▬▬▬▬▬▬▬▬▬▬▬▬▬▬▬▬▬▬▬▬▬▬▬▬▬▬▬▬▬▬▬▬▬▬▬▬▬▬▬▬▬▬▬▬▬▬▬▬▬▬▬▬▬▬▬▬▬</span>\n",
    "\n",
    "<br>\n",
    "\n",
    "<span style=\"color: blue; font-size: 1rem;\"><strong>Decorators</strong></span>"
   ]
  },
  {
   "cell_type": "markdown",
   "id": "b82034fb-43f5-4009-817f-6e5e1d1ae805",
   "metadata": {},
   "source": [
    "<div style=\"background-color: #ffe0b0; padding-top: 20px; padding-bottom: 10px; padding-left: 10px; padding-right: 10px;\">\n",
    "\n",
    "<span style=\"font-size: 0.7rem;\">■</span>&nbsp;&nbsp;A <strong><span style=\"color: red;\">decorator</span></strong> is a function that <u>takes another function as an argument</u> and <u>returns a new function</u> that usually extends or alters the behavior of the original function.\n",
    "\n",
    "<span style=\"font-size: 0.7rem;\">■</span>&nbsp;&nbsp;In Python, <strong><span style=\"color: red;\">decorators</span></strong> are a flexible feature that allow us to wrap a function and modify it's behavior <u>without changing the function's code itself</u>.\n",
    "\n",
    "</div>"
   ]
  },
  {
   "cell_type": "code",
   "execution_count": 49,
   "id": "34e4fc55-17e6-4115-a01e-42d95ce0f8a9",
   "metadata": {},
   "outputs": [
    {
     "name": "stdout",
     "output_type": "stream",
     "text": [
      "Tomorrow is holiday\n"
     ]
    }
   ],
   "source": [
    "\n",
    "class Student:\n",
    "    \n",
    "    college_name = \"abc\"                           # class attribute\n",
    "    \n",
    "    def __init__(self, name, marks):               # CONSTRUCTOR\n",
    "        self.name = name                           # object atrribute\n",
    "        self.marks = marks                         # object attribute\n",
    "    \n",
    "    def greet(self):                               # INSTANCE  METHOD\n",
    "        print(\"Hello!\", self.name)                 # using self inside the method\n",
    "    \n",
    "    @staticmethod                                  # DECORATOR\n",
    "    def notification():                            # passing self in this method does not make any sense, so it should be converted into a static method\n",
    "        print(\"Tomorrow is holiday\")               # not using any self inside the method\n",
    "\n",
    "s1 = Student(\"Avinash Mishra\", [88, 94, 90])       # creates an object s1 of Student type\n",
    "\n",
    "s1.notification()                                  # calls the static method notification() through an object\n"
   ]
  },
  {
   "cell_type": "markdown",
   "id": "0da67561-9113-49a5-a342-0b8cd8230593",
   "metadata": {},
   "source": [
    "<br>\n",
    "\n",
    "Let &nbsp;us &nbsp;understand &nbsp;how &nbsp;does &nbsp;a &nbsp;**decorator** &nbsp;work?\n",
    "\n",
    "<!-- ![](media/Shraddha_Kapra_oops_5.PNG) -->\n",
    "![](../../media/Shraddha_Kapra_oops_5.PNG)\n",
    "\n",
    "<div style=\"margin-left: -100px;\">\n",
    "    \n",
    "| Step | Summary &nbsp;of &nbsp;Order &nbsp;Execution|\n",
    "|-|--------------------------------|\n",
    "|&nbsp;&nbsp;<span style=\"color: red;\"><strong>1</strong></span>| &nbsp;&nbsp;&nbsp;&nbsp;&nbsp;&nbsp;&nbsp;&nbsp;&nbsp;&nbsp;&nbsp;&nbsp;&nbsp;<code style=\"background-color: #c2fff8;\">Line  <strong>1</strong>:   Define  <span style=\"color: red;\">\"my_decorator\"</span></code>  |\n",
    "|&nbsp;&nbsp;<span style=\"color: red;\"><strong>2</strong></span>| &nbsp;&nbsp;&nbsp;&nbsp;&nbsp;&nbsp;&nbsp;&nbsp;&nbsp;&nbsp;&nbsp;&nbsp;&nbsp;<code style=\"background-color: #c2fff8;\">Line <strong>16</strong>:   Apply  <span style=\"color: red;\">@my_decorator</span>  to  <span style=\"color: red;\">say_hello</span></code> |\n",
    "|&nbsp;&nbsp;<span style=\"color: red;\"><strong>3</strong></span>| &nbsp;&nbsp;&nbsp;&nbsp;&nbsp;&nbsp;&nbsp;&nbsp;&nbsp;&nbsp;&nbsp;&nbsp;&nbsp;<code style=\"background-color: #c2fff8;\">Line <strong>17</strong>:   Define  <span style=\"color: red;\">say_hello</span>  <font size=\"3px;\">( </font>triggers  <span style=\"color: blue;\"><font size=\"3px;\"><strong>my_decorator(say_hello)</strong></font></span><font size=\"3px;\"> )</font></code>|\n",
    "|&nbsp;&nbsp;<span style=\"color: red;\"><strong>4</strong></span>| &nbsp;&nbsp;&nbsp;&nbsp;&nbsp;&nbsp;&nbsp;&nbsp;&nbsp;&nbsp;&nbsp;&nbsp;&nbsp;<code style=\"background-color: #c2fff8;\">Line  <strong>2</strong>:   Define  <span style=\"color: red;\">wrapper</span>  inside  <span style=\"color: red;\">my_decorator</span></code>\n",
    "|&nbsp;&nbsp;<span style=\"color: red;\"><strong>5</strong></span>| &nbsp;&nbsp;&nbsp;&nbsp;&nbsp;&nbsp;&nbsp;&nbsp;&nbsp;&nbsp;&nbsp;&nbsp;&nbsp;<code style=\"background-color: #c2fff8;\">Line <strong>13</strong>:   Return  <span style=\"color: red;\">wrapper</span>  from  <span style=\"color: red;\">my_decorator</span> |\n",
    "|&nbsp;&nbsp;<span style=\"color: red;\"><strong>6</strong></span>| &nbsp;&nbsp;&nbsp;&nbsp;&nbsp;&nbsp;&nbsp;&nbsp;&nbsp;&nbsp;&nbsp;&nbsp;&nbsp;<code style=\"background-color: #c2fff8;\">Line <strong>22</strong>:   Call  <span style=\"color: red;\">say_hello()</span>,  executing  <span style=\"color: red;\">wrapper</span> |\n",
    "|&nbsp;&nbsp;<span style=\"color: red;\"><strong>7</strong></span>| &nbsp;&nbsp;&nbsp;&nbsp;&nbsp;&nbsp;&nbsp;&nbsp;&nbsp;&nbsp;&nbsp;&nbsp;&nbsp;<code style=\"background-color: #c2fff8;\">Line  <strong>4</strong>:   Execute  \"<u>print</u>\"  before  the  function  call  in  <span style=\"color: red;\">wrapper</span></code> |\n",
    "|&nbsp;&nbsp;<span style=\"color: red;\"><strong>8</strong></span>| &nbsp;&nbsp;&nbsp;&nbsp;&nbsp;&nbsp;&nbsp;&nbsp;&nbsp;&nbsp;&nbsp;&nbsp;&nbsp;<code style=\"background-color: #c2fff8;\">Line  <strong>7</strong>:   Call  original  <span style=\"color: red;\">say_hello</span>  ( <span style=\"color: red;\">func()</span> )</code>|\n",
    "|&nbsp;&nbsp;<span style=\"color: red;\"><strong>9</strong></span>| &nbsp;&nbsp;&nbsp;&nbsp;&nbsp;&nbsp;&nbsp;&nbsp;&nbsp;&nbsp;&nbsp;&nbsp;&nbsp;<code style=\"background-color: #c2fff8;\">Line <strong>18</strong>:   Execute  \"<u>print</u>\"  in  <span style=\"color: red;\">say_hello</span></code>|\n",
    "|&nbsp;&nbsp;<span style=\"color: red;\"><strong>10</strong></span>| &nbsp;&nbsp;&nbsp;&nbsp;&nbsp;&nbsp;&nbsp;&nbsp;&nbsp;&nbsp;&nbsp;&nbsp;&nbsp;<code style=\"background-color: #c2fff8;\">Line <strong>10</strong>:   Execute  \"<u>print</u>\"  after  the  function  call  in  <span style=\"color: red;\">wrapper</span></code>|\n",
    "|&nbsp;&nbsp;<span style=\"color: red;\"><strong>11</strong></span>| &nbsp;&nbsp;&nbsp;&nbsp;&nbsp;&nbsp;&nbsp;&nbsp;&nbsp;&nbsp;&nbsp;&nbsp;&nbsp;<code style=\"background-color: #c2fff8;\">Line <strong>12</strong>:   Return  from  <span style=\"color: red;\">wrapper</span></code>|\n",
    "</div>\n",
    "\n",
    "\n",
    "<br><br>\n",
    "\n",
    "---\n",
    "\n",
    "<br>\n",
    "\n",
    "4 pillars of OOP :\n",
    "\n",
    "<div style=\"margin-left: 70px;\">\n",
    "\n",
    "![](../../media/Shraddha_Kapra_oops_6.PNG)\n",
    "\n",
    "</div>"
   ]
  },
  {
   "cell_type": "code",
   "execution_count": null,
   "id": "186f554d-1d16-4f3d-9a41-ed857fd0c101",
   "metadata": {},
   "outputs": [],
   "source": []
  },
  {
   "cell_type": "code",
   "execution_count": null,
   "id": "c91703a0-c500-4914-8279-c8b96d6e5032",
   "metadata": {},
   "outputs": [],
   "source": []
  },
  {
   "cell_type": "code",
   "execution_count": null,
   "id": "95630762-b50a-4f46-a63e-8aeb16f79761",
   "metadata": {},
   "outputs": [],
   "source": []
  },
  {
   "cell_type": "code",
   "execution_count": null,
   "id": "ad16a2f4-6385-4dec-9256-72374965189a",
   "metadata": {},
   "outputs": [],
   "source": []
  },
  {
   "cell_type": "code",
   "execution_count": null,
   "id": "7a831ce5-569c-4d50-aede-8c797c2019cb",
   "metadata": {},
   "outputs": [],
   "source": []
  },
  {
   "cell_type": "code",
   "execution_count": null,
   "id": "fdcf4efb-f8c3-4042-97ea-81c2ac4732da",
   "metadata": {},
   "outputs": [],
   "source": []
  },
  {
   "cell_type": "code",
   "execution_count": null,
   "id": "8b19c1d1-cbf7-4962-8c5f-91df30888a41",
   "metadata": {},
   "outputs": [],
   "source": []
  }
 ],
 "metadata": {
  "kernelspec": {
   "display_name": "Python 3 (ipykernel)",
   "language": "python",
   "name": "python3"
  },
  "language_info": {
   "codemirror_mode": {
    "name": "ipython",
    "version": 3
   },
   "file_extension": ".py",
   "mimetype": "text/x-python",
   "name": "python",
   "nbconvert_exporter": "python",
   "pygments_lexer": "ipython3",
   "version": "3.11.3"
  }
 },
 "nbformat": 4,
 "nbformat_minor": 5
}
