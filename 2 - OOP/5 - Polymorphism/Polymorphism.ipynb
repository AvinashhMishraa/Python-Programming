{
 "cells": [
  {
   "cell_type": "markdown",
   "id": "503fbc7c-eb76-4452-bf66-04aadfa2cc3d",
   "metadata": {},
   "source": [
    "<br><br>\n",
    "\n",
    "🔶 &nbsp;&nbsp;Literal Meaning of <strong>Polymorphism</strong> &nbsp;-&nbsp; <span style=\"color: red;\">many forms</span>\n",
    "\n",
    "<br>\n",
    "\n",
    "🔶 &nbsp;&nbsp;Polymorphism is a fundamental concept in object-oriented programming that allows objects of different types to be treated uniformly as objects of a common base type.\n",
    "\n",
    "<br>\n",
    "\n",
    "🔶 &nbsp;&nbsp;Polymorphism allows <u>functions</u>, <u>methods</u>, and <u>operators</u> to behave differently based on the context or the data types they are working with. <br>\n",
    "&nbsp;&nbsp;&nbsp;&nbsp;&nbsp;&nbsp;&nbsp;&nbsp;An object of a particular class behaves differently in different situations, depending on both <u><span style=\"color: #34c705;\">the type of the object</span></u> and <u><span style=\"color: #34c705;\">the type of the data</span></u>.\n",
    "\n",
    "<br>\n",
    "\n",
    "🔶 &nbsp;&nbsp;In Python, polymorphism allows you to write code that works with objects of different classes as if they were objects of the same class. <br>&nbsp;&nbsp;&nbsp;&nbsp;&nbsp;&nbsp;&nbsp;&nbsp;This flexibility leads to more generic and reusable code, making it more intuitive and easy to manage.\n",
    "\n",
    "<br>\n",
    "\n",
    "🔶 &nbsp;&nbsp;<strong>Types &nbsp;of &nbsp;Polymorphism :</strong>\n",
    "\n",
    "<span style=\"margin-left: 70px;\"><span style=\"font-size: 0.7rem; color: black;\">■</span>&nbsp;&nbsp;&nbsp;<span style=\"color: blue;\"><strong>Duck &nbsp;Typing</strong></span></span> <br>\n",
    "\n",
    "<span style=\"margin-left: 120px;\">➜</span> &nbsp;&nbsp;Focuses on the object's behavior rather than its type.                                     <br>\n",
    "<span style=\"margin-left: 120px;\">➜</span> &nbsp;&nbsp;If an object has the required method or behavior, it can be used regardless of its type.\n",
    "\n",
    "<span style=\"margin-left: 70px;\"><span style=\"font-size: 0.7rem; color: black;\">■</span>&nbsp;&nbsp;&nbsp;<span style=\"color: blue;\"><strong>Method &nbsp;Overloading</strong></span></span> <br>\n",
    "\n",
    "<span style=\"margin-left: 120px;\">➜</span> &nbsp;&nbsp;Not natively supported in Python but can be simulated using default or variable-length arguments. <br>\n",
    "<span style=\"margin-left: 120px;\">➜</span> &nbsp;&nbsp;Allows functions to accept different numbers of parameters.\n",
    "\n",
    "<span style=\"margin-left: 70px;\"><span style=\"font-size: 0.7rem; color: black;\">■</span>&nbsp;&nbsp;&nbsp;<span style=\"color: blue;\"><strong>Method &nbsp;Overriding</strong></span></span> <br>\n",
    "\n",
    "<span style=\"margin-left: 120px;\">➜</span> &nbsp;&nbsp;Allows subclasses to provide a specific implementation of a method defined in its superclass. <br>\n",
    "<span style=\"margin-left: 120px;\">➜</span> &nbsp;&nbsp;Changes or extends the behavior of inherited methods.\n",
    "\n",
    "<span style=\"margin-left: 70px;\"><span style=\"font-size: 0.7rem; color: black;\">■</span>&nbsp;&nbsp;&nbsp;<span style=\"color: blue;\"><strong>Operator &nbsp;Overriding</strong></span></span> <br>\n",
    "\n",
    "<span style=\"margin-left: 120px;\">➜</span> &nbsp;&nbsp;Redefines or extends the behavior of operators for user-defined classes. <br>\n",
    "<span style=\"margin-left: 120px;\">➜</span> &nbsp;&nbsp;Uses <span style=\"color: red;\">dunder</span> special methods like &nbsp;<code style=\"color: red;\">\\_\\_add__()</code>&nbsp; , &nbsp;<code style=\"color: red;\">\\_\\_sub__()</code>&nbsp; , &nbsp;<code style=\"color: red;\">\\_\\_mul__()</code>&nbsp; , etc., to achieve this behavior.\n",
    "\n",
    "<br><br>\n",
    "\n",
    "<span style=\"color: #DCBD10; font-size: 1.2rem;\">▬▬▬▬▬▬▬▬▬▬▬▬▬▬▬▬▬▬▬▬▬▬▬▬▬▬▬▬▬▬▬▬▬▬▬▬▬▬▬▬▬▬▬▬▬▬▬▬▬▬▬▬▬▬▬▬</span>\n",
    "\n",
    "<br>"
   ]
  },
  {
   "cell_type": "markdown",
   "id": "e63e3030-5222-4052-9478-d76f9d9c3bf5",
   "metadata": {},
   "source": [
    "<br>\n",
    "\n",
    "<span style=\"color: blue; font-size: 1rem;\"><strong>Duck &nbsp;Typing &nbsp;in &nbsp;Python</strong></span>"
   ]
  },
  {
   "cell_type": "markdown",
   "id": "b7d3d8ef-6de5-460d-b1af-10d72806deaa",
   "metadata": {},
   "source": [
    "\n",
    "<div style=\"background-color: #ffe6ce; padding-top: 13px; padding-bottom: 2px; padding-left: 15px; padding-right: 10px;\">\n",
    "\n",
    "<strong>Duck typing</strong> is a concept in Python where <span style=\"color: red;\">the type or class of an object is <u>less important</u> than the methods it defines or the way it behaves</span>. &nbsp;In simple terms, <span style=\"color: blue;\">if an object walks like a duck and quacks like a duck, it is treated as a duck.</span>\n",
    "\n",
    "</div>\n",
    "<div style=\"background-color: #fff3df; padding-top: 13px; padding-bottom: 2px; padding-left: 15px; padding-right: 15px;\">\n",
    "\n",
    "You don't have to bother to find if a bird really a duck or not. &nbsp;If it walks like a duck, swims like a duck and quacks like a duk, then most probably it's a duck only.\n",
    "\n",
    "Similarly, you don't have to worry about the type or class of an object. &nbsp;<span style=\"background-color: white;\">&nbsp;If the object has all the required methods suitable for a particular situation, it is good to go.&nbsp;</span>\n",
    "\n",
    "</div>\n",
    "\n",
    "<br>\n",
    "\n",
    "<span style=\"background-color: black; color: white;\">&nbsp;Example -1&nbsp;</span>"
   ]
  },
  {
   "cell_type": "code",
   "execution_count": 4,
   "id": "da4dc5ec-4742-4e58-90dd-f071f83cfd8f",
   "metadata": {},
   "outputs": [
    {
     "name": "stdout",
     "output_type": "stream",
     "text": [
      "Woof!\n",
      "Meow!\n"
     ]
    }
   ],
   "source": [
    "\n",
    "class Dog:\n",
    "    def speak(self):\n",
    "        return \"Woof!\"\n",
    "\n",
    "\n",
    "class Cat:\n",
    "    def speak(self):\n",
    "        return \"Meow!\"\n",
    "\n",
    "\n",
    "def make_animal_sound(animal):\n",
    "    print(animal.speak())\n",
    "\n",
    "\n",
    "# Using the function with different objects\n",
    "dog = Dog()\n",
    "cat = Cat()\n",
    "make_animal_sound(dog)                             # OUTPUT:  Woof!\n",
    "make_animal_sound(cat)                             # OUTPUT:  Meow!\n"
   ]
  },
  {
   "cell_type": "markdown",
   "id": "77e5ca07-72e6-4abe-ace6-6d5db5dd8ff6",
   "metadata": {},
   "source": [
    "<br>\n",
    "\n",
    "The function &nbsp;<code style=\"color: blue;\">make_animal_sound()</code>&nbsp; works with any object that has a &nbsp;<code style=\"color: blue;\">speak()</code>&nbsp; method.\n",
    "\n",
    "It does not check if the object is of type &nbsp;<code style=\"color: red;\">Dog</code>&nbsp; or &nbsp;<code style=\"color: red;\">Cat</code>&nbsp;, following the principle of <strong>duck typing</strong>.\n",
    "\n",
    "<br>\n",
    "\n",
    "<span style=\"color: #06fff0; font-size: 0.7rem;\">■■■■■■■■■■■■■■■■■■■■■■■■■■■■■■■■■■■■■■■■■■■■■■■■■■■■■■■■■■■■■■■■■■■■■■■■■■■■■■■■■■■■■■■■■■■■■■■■■■■■■■■■■■■■■■■</span>\n"
   ]
  },
  {
   "cell_type": "markdown",
   "id": "febb737a-5555-46b8-86e2-ed8900d70cd9",
   "metadata": {},
   "source": [
    "<br>\n",
    "\n",
    "<span style=\"background-color: black; color: white;\">&nbsp;Example -2&nbsp;</span>"
   ]
  },
  {
   "cell_type": "code",
   "execution_count": 135,
   "id": "5347caca-a076-4aa5-8616-537136295ef5",
   "metadata": {},
   "outputs": [],
   "source": [
    "\n",
    "class PyCharm:\n",
    "\n",
    "    def execute(self):\n",
    "        print(\"Compiling\")\n",
    "        print(\"Running\")\n",
    "\n",
    "\n",
    "class Laptop:\n",
    "\n",
    "    def code(self, ide):\n",
    "        ide.execute()\n"
   ]
  },
  {
   "cell_type": "code",
   "execution_count": 136,
   "id": "98e92ff6-fab6-4e4c-9bd0-97f2c5cb9ff1",
   "metadata": {},
   "outputs": [
    {
     "name": "stdout",
     "output_type": "stream",
     "text": [
      "Compiling\n",
      "Running\n"
     ]
    }
   ],
   "source": [
    "\n",
    "ide1 = PyCharm()\n",
    "ide1.execute()\n"
   ]
  },
  {
   "cell_type": "code",
   "execution_count": 137,
   "id": "31fa2d0e-d61c-410a-aed8-77df9e7b94c9",
   "metadata": {},
   "outputs": [
    {
     "name": "stdout",
     "output_type": "stream",
     "text": [
      "Compiling\n",
      "Running\n"
     ]
    }
   ],
   "source": [
    "\n",
    "laptop1 = Laptop()\n",
    "laptop1.code(ide1)\n"
   ]
  },
  {
   "cell_type": "code",
   "execution_count": 147,
   "id": "90aa146f-f4cd-43e3-8b53-31a1c75219ba",
   "metadata": {},
   "outputs": [],
   "source": [
    "\n",
    "class PyCharm:\n",
    "\n",
    "    def execute(self):\n",
    "        print(\"Compiling\")\n",
    "        print(\"Running\")\n",
    "\n",
    "class MyEditor:\n",
    "\n",
    "    def execute(self):\n",
    "        print(\"Spell check\")\n",
    "        print(\"Convention check\")\n",
    "        print(\"Compiling\")\n",
    "        print(\"Running\")\n",
    "\n",
    "class Laptop:\n",
    "\n",
    "    def code(self, ide):\n",
    "        ide.execute()\n"
   ]
  },
  {
   "cell_type": "markdown",
   "id": "69071887-0f67-410a-9948-6aa6002da1f4",
   "metadata": {},
   "source": [
    "<br>\n",
    "\n",
    "It does not matter which class the parameter &nbsp;<code style=\"background-color: #aed6f1;\">ide</code>&nbsp; in the &nbsp;<code style=\"color: blue;\">code()</code>&nbsp; method belongs to. <br>\n",
    "To run the &nbsp;<code style=\"color: blue;\">code()</code>&nbsp; method successfully, what really matters is - does that &nbsp;<code style=\"background-color: #aed6f1;\">ide</code>&nbsp; object has a method by the name &nbsp;<code style=\"color: blue;\">execute()</code>&nbsp; or not.\n"
   ]
  },
  {
   "cell_type": "code",
   "execution_count": 141,
   "id": "268299bb-c5ae-4734-9789-bda0dac94e16",
   "metadata": {},
   "outputs": [
    {
     "name": "stdout",
     "output_type": "stream",
     "text": [
      "Spell check\n",
      "Convention check\n",
      "Compiling\n",
      "Running\n"
     ]
    }
   ],
   "source": [
    "\n",
    "ide2 = MyEditor()\n",
    "laptop1.code(ide2)\n"
   ]
  },
  {
   "cell_type": "markdown",
   "id": "5dcb3028-afa6-4728-aa88-f6eb87fa024d",
   "metadata": {},
   "source": [
    "<br>\n",
    "\n",
    "<span style=\"color: red;\">To &nbsp;summarise :</span>"
   ]
  },
  {
   "cell_type": "code",
   "execution_count": 148,
   "id": "da2e4f54-bf78-4673-a748-5331c1590e05",
   "metadata": {},
   "outputs": [],
   "source": [
    "\n",
    "class PyCharm:\n",
    "\n",
    "    def execute(self):\n",
    "        print(\"Compiling\")\n",
    "        print(\"Running\")\n",
    "\n",
    "class MyEditor:\n",
    "\n",
    "    def execute(self):\n",
    "        print(\"Spell check\")\n",
    "        print(\"Convention check\")\n",
    "        print(\"Compiling\")\n",
    "        print(\"Running\")\n",
    "\n",
    "class Laptop:\n",
    "\n",
    "    def code(self, ide):\n",
    "        ide.execute()\n",
    "\n",
    "\n",
    "laptop1 = Laptop()\n"
   ]
  },
  {
   "cell_type": "code",
   "execution_count": 145,
   "id": "9542e166-4068-416c-a7ca-8d8c830083f4",
   "metadata": {},
   "outputs": [
    {
     "name": "stdout",
     "output_type": "stream",
     "text": [
      "Compiling\n",
      "Running\n"
     ]
    }
   ],
   "source": [
    "\n",
    "ide1 = PyCharm()\n",
    "laptop1.code(ide1)\n"
   ]
  },
  {
   "cell_type": "code",
   "execution_count": 146,
   "id": "3413a75a-e9d6-4de6-8127-1f24c06c3b66",
   "metadata": {},
   "outputs": [
    {
     "name": "stdout",
     "output_type": "stream",
     "text": [
      "Spell check\n",
      "Convention check\n",
      "Compiling\n",
      "Running\n"
     ]
    }
   ],
   "source": [
    "\n",
    "ide2 = MyEditor()\n",
    "laptop1.code(ide2)\n"
   ]
  },
  {
   "cell_type": "markdown",
   "id": "dc24155a-6ce8-419f-a79d-edff000a4887",
   "metadata": {},
   "source": [
    "<br><br>\n",
    "\n",
    "<span style=\"color: #DCBD10; font-size: 1.2rem;\">▬▬▬▬▬▬▬▬▬▬▬▬▬▬▬▬▬▬▬▬▬▬▬▬▬▬▬▬▬▬▬▬▬▬▬▬▬▬▬▬▬▬▬▬▬▬▬▬▬▬▬▬▬▬▬▬</span>\n",
    "\n",
    "<br>"
   ]
  },
  {
   "cell_type": "markdown",
   "id": "a768f5e4-41af-49bb-b208-56a57fb572f3",
   "metadata": {},
   "source": [
    "<br>\n",
    "\n",
    "<span style=\"color: blue; font-size: 1rem;\"><strong>Method &nbsp;Overloading</strong></span>&nbsp;&nbsp;&nbsp;&nbsp;<span style=\"background-color: yellow;\">(Not &nbsp;supported &nbsp;in &nbsp;Python)</span>\n"
   ]
  },
  {
   "cell_type": "markdown",
   "id": "20923cb2-5a2e-4b51-a042-e010e25db3a7",
   "metadata": {},
   "source": [
    "\n",
    "<div style=\"background-color: #ffe6ce; padding-top: 13px; padding-bottom: 2px; padding-left: 10px; padding-right: 10px;\">\n",
    "\n",
    "<strong>Method overloading</strong> refers to defining multiple methods with the same name but different parameters. \n",
    "\n",
    "In many programming languages, method overloading is common, but <span style=\"color: blue;\">Python does not support true method overloading</span>. &nbsp;In Python, you can achieve a <u>similar effect</u> using default arguments or variable-length arguments <span style=\"font-size: 1.1rem;\">(</span>&nbsp;<span style=\"background-color: white; color: red;\">&nbsp;*args&nbsp;</span>&nbsp; and &nbsp;<span style=\"background-color: white; color: red;\">&nbsp;**kwargs&nbsp;</span>&nbsp;<span style=\"font-size: 1.1rem;\">)</span>.\n",
    "\n",
    "</div>\n",
    "\n",
    "<br>\n",
    "\n",
    "Example of <u>Simulated Method Overloading</u> :"
   ]
  },
  {
   "cell_type": "code",
   "execution_count": 9,
   "id": "ad8c4f43-6c21-4c77-998f-d11f689ea5df",
   "metadata": {},
   "outputs": [
    {
     "name": "stdout",
     "output_type": "stream",
     "text": [
      "No arguments\n",
      "One argument: 5\n",
      "Two arguments: 5 and 10\n"
     ]
    }
   ],
   "source": [
    "\n",
    "class Example:\n",
    "    def display(self, a=None, b=None):\n",
    "        if a is not None and b is not None:\n",
    "            print(f\"Two arguments: {a} and {b}\")\n",
    "        elif a is not None:\n",
    "            print(f\"One argument: {a}\")\n",
    "        else:\n",
    "            print(\"No arguments\")\n",
    "\n",
    "\n",
    "obj = Example()\n",
    "obj.display()                                       # OUTPUT:  No arguments\n",
    "obj.display(5)                                      # OUTPUT:  One argument: 5\n",
    "obj.display(5, 10)                                  # OUTPUT:  Two arguments: 5 and 10\n"
   ]
  },
  {
   "cell_type": "markdown",
   "id": "bf4a9770-f3ea-47ad-8e23-fb6f73a6e15e",
   "metadata": {},
   "source": [
    "<br>\n",
    "\n",
    "We simulate <strong>method overloading</strong> using <span style=\"color: red;\">optional parameters</span> or <span style=\"color: red;\">variable-length arguments</span>.\n",
    "\n",
    "<br><br>\n",
    "\n",
    "<span style=\"color: #DCBD10; font-size: 1.2rem;\">▬▬▬▬▬▬▬▬▬▬▬▬▬▬▬▬▬▬▬▬▬▬▬▬▬▬▬▬▬▬▬▬▬▬▬▬▬▬▬▬▬▬▬▬▬▬▬▬▬▬▬▬▬▬▬▬</span>\n",
    "\n",
    "<br>"
   ]
  },
  {
   "cell_type": "markdown",
   "id": "179041c6-f960-42e0-8bed-3fdd376142bb",
   "metadata": {},
   "source": [
    "<br>\n",
    "\n",
    "<span style=\"color: blue; font-size: 1rem;\"><strong>Method &nbsp;Overriding</strong></span>"
   ]
  },
  {
   "cell_type": "markdown",
   "id": "fa97a7a3-33c2-4425-838b-27a7851bb4b6",
   "metadata": {},
   "source": [
    "<br>\n",
    "\n",
    "<div style=\"background-color: #ffe6ce; padding-top: 20px; padding-bottom: 2px; padding-left: 10px; padding-right: 10px;\">\n",
    "\n",
    "<strong>Method Overriding</strong> occurs <span style=\"color: red;\"><u><span style=\"color: black;\">when a subclass provides a specific implementation of a method that is already defined in its superclass</span></u></span>. This allows a subclass to modify or extend the behavior of a method inherited from its parent class.\n",
    "\n",
    "</div>\n",
    "\n",
    "<div style=\"background-color: #fff3df; padding-top: 15px; padding-bottom: 2px; padding-left: 15px; padding-right: 15px;\">\n",
    "\n",
    "The overriding method allows a <u>child class</u> to provide a <strong>specific implementation</strong> of a <u>parent method</u>.\n",
    "\n",
    "To put it simply, if there is a <u>child method</u> and a <u>parent method</u> with the <strong>same name</strong> & if we try something like &nbsp;<code style=\"background-color: white;\">child_obj.<span style=\"color: blue;\">methodname</span></code> &nbsp;, then the child method will be called not the parent method because <span style=\"color: red;\">the <u>child method</u> overrides the <u>parent method</u></span>. This is what we call <strong>Method Overriidng</strong>.\n",
    "\n",
    "<br>\n",
    "\n",
    "<pre style=\"padding: 10px;\">\n",
    "    \n",
    "If a <code style=\"background-color: white; color: blue;\">childmethodname</code> = <code style=\"background-color: white; color: blue;\">parentmethodname</code> = <code style=\"background-color: white; color: blue;\">commonmethodname</code> (suppose), then <br>\n",
    "              <code style=\"background-color: white;\">parent_obj.<span style=\"color: blue;\">commonmethodname</span></code>  ===>  calls the parent method <br>\n",
    "    whereas,  <code style=\"background-color: white;\">child_obj.<span style=\"color: blue;\">commonmethodname</span></code>   ===>  calls the child method\n",
    "    \n",
    "</pre>\n",
    "\n",
    "<br>\n",
    "\n",
    "</div>\n",
    "\n",
    "<br>\n",
    "\n",
    "Example :"
   ]
  },
  {
   "cell_type": "code",
   "execution_count": 11,
   "id": "d149f971-5c20-47ac-8289-e0ad8d169082",
   "metadata": {},
   "outputs": [
    {
     "name": "stdout",
     "output_type": "stream",
     "text": [
      "Woof!\n",
      "Meow!\n"
     ]
    }
   ],
   "source": [
    "\n",
    "class Animal:\n",
    "    def speak(self):\n",
    "        return \"Some generic animal sound\"\n",
    "\n",
    "\n",
    "class Dog(Animal):\n",
    "    def speak(self):\n",
    "        return \"Woof!\"\n",
    "\n",
    "\n",
    "class Cat(Animal):\n",
    "    def speak(self):\n",
    "        return \"Meow!\"\n",
    "\n",
    "\n",
    "dog = Dog()\n",
    "cat = Cat()\n",
    "print(dog.speak())                              # OUTPUT:  Woof!\n",
    "print(cat.speak())                              # OUTPUT:  Meow!\n"
   ]
  },
  {
   "cell_type": "markdown",
   "id": "2943f57a-fbd7-4fc9-9b63-3150eb109843",
   "metadata": {},
   "source": [
    "<br>\n",
    "\n",
    "The &nbsp;<code style=\"color: blue;\">speak</code>&nbsp; method in the &nbsp;<code style=\"color: blue;\">Animal</code>&nbsp; class is <strong>overridden</strong> in the &nbsp;<code style=\"color: red;\">Dog</code>&nbsp; and &nbsp;<code style=\"color: red;\">Cat</code>&nbsp; subclasses.\n",
    "\n",
    "When you call the &nbsp;<code style=\"color: blue;\">speak</code>&nbsp; method on a &nbsp;<code style=\"color: red;\">Dog</code>&nbsp; or &nbsp;<code style=\"color: red;\">Cat</code>&nbsp; object, &nbsp;<u>the &nbsp;<strong>overridden</strong> &nbsp;version &nbsp;in &nbsp;the &nbsp;subclass &nbsp;is &nbsp;executed</u>.\n",
    "\n",
    "<br><br>\n",
    "\n",
    "<span style=\"color: #DCBD10; font-size: 1.2rem;\">▬▬▬▬▬▬▬▬▬▬▬▬▬▬▬▬▬▬▬▬▬▬▬▬▬▬▬▬▬▬▬▬▬▬▬▬▬▬▬▬▬▬▬▬▬▬▬▬▬▬▬▬▬▬▬▬</span>\n",
    "\n",
    "<br>"
   ]
  },
  {
   "cell_type": "markdown",
   "id": "11af00a4-4197-413b-8c3c-e98546a29e6c",
   "metadata": {},
   "source": [
    "<br>\n",
    "\n",
    "<span style=\"color: blue; font-size: 1rem;\"><strong>Operator &nbsp;Overriding</strong></span>"
   ]
  },
  {
   "cell_type": "markdown",
   "id": "47c5a48a-4970-4fa3-90d8-baa4df332fb2",
   "metadata": {},
   "source": [
    "\n",
    "<div style=\"background-color: #ffe6ce; padding-top: 13px; padding-bottom: 2px; padding-left: 10px; padding-right: 10px;\">\n",
    "\n",
    "<span style=\"color: blue;\">When the same operator is allowed to have different meaning according to the context.</span>\n",
    "\n",
    "<strong>Operator overloading</strong> allows you to define or extend the behavior of standard operators <span style=\"font-size: 1rem;\">( </span>&nbsp;<code style=\"color: red; background-color: white; font-size: 1.1rem;\">+</code>&nbsp; , &nbsp;<code style=\"color: red; background-color: white; font-size: 1.1rem;\">-</code>&nbsp; , &nbsp;<code style=\"color: red; background-color: white; font-size: 1rem;\">*</code>&nbsp; , etc. <span style=\"font-size: 1rem;\">)</span> to work with <u>user-defined</u> classes. This allows you to use operators on custom objects just like you would with primitive data types.\n",
    "\n",
    "</div>\n",
    "\n",
    "<br>"
   ]
  },
  {
   "cell_type": "markdown",
   "id": "35939ff5-dc2b-457f-a576-34bd14f89713",
   "metadata": {},
   "source": [
    "<br>\n",
    "\n",
    "<span style=\"background-color: black; color: white;\">&nbsp;Example -1&nbsp;</span>\n",
    "\n",
    "Let's consider the &nbsp;<code style=\"color: red; font-size: 1rem;\">+</code>&nbsp; operator and see how the same &nbsp;<code style=\"color: red; font-size: 1rem;\">+</code>&nbsp; operator behaves differently in different situations\n"
   ]
  },
  {
   "cell_type": "code",
   "execution_count": 64,
   "id": "458d6b8c-2c9a-473b-a0f4-d9ae64d81cf9",
   "metadata": {},
   "outputs": [
    {
     "data": {
      "text/plain": [
       "5"
      ]
     },
     "execution_count": 64,
     "metadata": {},
     "output_type": "execute_result"
    }
   ],
   "source": [
    "\n",
    "2 + 3                           # SUMMATION         =====>    integer  +  integer\n"
   ]
  },
  {
   "cell_type": "code",
   "execution_count": 65,
   "id": "f9dbde4a-48eb-4d42-8d43-7442e812f67b",
   "metadata": {},
   "outputs": [
    {
     "data": {
      "text/plain": [
       "'AvinashMishra'"
      ]
     },
     "execution_count": 65,
     "metadata": {},
     "output_type": "execute_result"
    }
   ],
   "source": [
    "\n",
    "\"Avinash\" + \"Mishra\"            # CONCATENATION     =====>    string  +  string\n"
   ]
  },
  {
   "cell_type": "code",
   "execution_count": 7,
   "id": "0382c0cd-26bb-41de-b510-0fccbf8ce07f",
   "metadata": {},
   "outputs": [
    {
     "data": {
      "text/plain": [
       "[1, 2, 3, 4, 5, 6]"
      ]
     },
     "execution_count": 7,
     "metadata": {},
     "output_type": "execute_result"
    }
   ],
   "source": [
    "\n",
    "[1,2,3] + [4,5,6]               # MERGE             =====>    list  +  list\n"
   ]
  },
  {
   "cell_type": "markdown",
   "id": "b0cd5202-ceab-4d6d-a4f2-1d2785066872",
   "metadata": {},
   "source": [
    "<br>\n",
    "\n",
    "🔶 &nbsp;&nbsp;It's all written in the class definition of each object as an operand as to how an operator will behave.\n",
    "\n",
    "🔶 &nbsp;&nbsp;To put it simply, just like the &nbsp;<code style=\"color: red;\">int</code>&nbsp; class has it own definition of the &nbsp;<code style=\"color: red; font-size: 1.1rem;\">+</code>&nbsp; operator, similarl;y the &nbsp;<code style=\"color: red;\">str</code>&nbsp; class has it's own definition of the &nbsp;<code style=\"color: red; font-size: 1.1rem;\">+</code>&nbsp; operator. <br>\n",
    "&nbsp;&nbsp;&nbsp;&nbsp;&nbsp;&nbsp;&nbsp;&nbsp;And the same is true for the &nbsp;<code style=\"color: red;\">list</code>&nbsp; class.\n",
    "\n",
    "| operator1 &nbsp;&nbsp; | &nbsp;&nbsp;&nbsp;&nbsp;&nbsp;&nbsp;&nbsp;&nbsp;operand&nbsp;&nbsp; | &nbsp;&nbsp;&nbsp;&nbsp;&nbsp;&nbsp;&nbsp;&nbsp;&nbsp;&nbsp;operator2 |  &nbsp;&nbsp;&nbsp;&nbsp;&nbsp;&nbsp;&nbsp;&nbsp;&nbsp;&nbsp;&nbsp;&nbsp;=  | &nbsp;&nbsp;&nbsp;&nbsp;&nbsp;&nbsp;&nbsp;&nbsp;&nbsp;&nbsp;&nbsp;&nbsp;type &nbsp;of &nbsp;functionality | \n",
    "|-----------|---------------------|-----------|-----|-----------------------|\n",
    "| &nbsp;&nbsp;&nbsp;&nbsp;<code style=\"background-color: #aed6f1;\">int</code> | &nbsp;&nbsp;&nbsp;&nbsp;&nbsp;&nbsp;&nbsp;&nbsp;&nbsp;&nbsp;&nbsp;&nbsp;&nbsp;&nbsp;<span style=\"color: red; font-size: 1.1rem;\">+</span> | &nbsp;&nbsp;&nbsp;&nbsp;&nbsp;&nbsp;&nbsp;&nbsp;&nbsp;&nbsp;&nbsp;&nbsp;&nbsp;&nbsp;<code style=\"background-color: #aed6f1;\">int</code> |  &nbsp;&nbsp;&nbsp;&nbsp;&nbsp;&nbsp;&nbsp;&nbsp;&nbsp;&nbsp;&nbsp;&nbsp;&nbsp;=  | &nbsp;&nbsp;&nbsp;&nbsp;&nbsp;&nbsp;&nbsp;&nbsp;&nbsp;&nbsp;&nbsp;&nbsp;&nbsp;&nbsp;&nbsp;&nbsp;&nbsp;&nbsp;&nbsp;&nbsp;<span style=\"color: blue;\">SUMMATION</span>&nbsp;&nbsp;&nbsp; |\n",
    "| &nbsp;&nbsp;&nbsp;&nbsp;<code style=\"background-color: #aed6f1;\">str</code> | &nbsp;&nbsp;&nbsp;&nbsp;&nbsp;&nbsp;&nbsp;&nbsp;&nbsp;&nbsp;&nbsp;&nbsp;&nbsp;&nbsp;<span style=\"color: red; font-size: 1.1rem;\">+</span> | &nbsp;&nbsp;&nbsp;&nbsp;&nbsp;&nbsp;&nbsp;&nbsp;&nbsp;&nbsp;&nbsp;&nbsp;&nbsp;&nbsp;<code style=\"background-color: #aed6f1;\">str</code> |  &nbsp;&nbsp;&nbsp;&nbsp;&nbsp;&nbsp;&nbsp;&nbsp;&nbsp;&nbsp;&nbsp;&nbsp;&nbsp;=  | &nbsp;&nbsp;&nbsp;&nbsp;&nbsp;&nbsp;&nbsp;&nbsp;&nbsp;&nbsp;&nbsp;&nbsp;&nbsp;&nbsp;&nbsp;&nbsp;&nbsp;<span style=\"color: blue;\">CONCATENATION</span>&nbsp;&nbsp;&nbsp; |\n",
    "| &nbsp;&nbsp;&nbsp;<code style=\"background-color: #aed6f1;\">list</code> | &nbsp;&nbsp;&nbsp;&nbsp;&nbsp;&nbsp;&nbsp;&nbsp;&nbsp;&nbsp;&nbsp;&nbsp;&nbsp;&nbsp;<span style=\"color: red; font-size: 1.1rem;\">+</span> | &nbsp;&nbsp;&nbsp;&nbsp;&nbsp;&nbsp;&nbsp;&nbsp;&nbsp;&nbsp;&nbsp;&nbsp;&nbsp;<code style=\"background-color: #aed6f1;\">list</code> |  &nbsp;&nbsp;&nbsp;&nbsp;&nbsp;&nbsp;&nbsp;&nbsp;&nbsp;&nbsp;&nbsp;&nbsp;&nbsp;=  | &nbsp;&nbsp;&nbsp;&nbsp;&nbsp;&nbsp;&nbsp;&nbsp;&nbsp;&nbsp;&nbsp;&nbsp;&nbsp;&nbsp;&nbsp;&nbsp;&nbsp;&nbsp;&nbsp;&nbsp;&nbsp;&nbsp;&nbsp;&nbsp;<span style=\"color: blue;\">MERGER</span>&nbsp;&nbsp;&nbsp; |\n",
    "\n",
    "<br>"
   ]
  },
  {
   "cell_type": "code",
   "execution_count": 169,
   "id": "735dc5d1-0b77-4640-afe6-8ecae8862a06",
   "metadata": {},
   "outputs": [
    {
     "name": "stdout",
     "output_type": "stream",
     "text": [
      "<class 'int'>\n",
      "5\n",
      "5\n"
     ]
    }
   ],
   "source": [
    "\n",
    "a = 2\n",
    "b = 3\n",
    "\n",
    "print(type(a))\n",
    "print(a + b)                   # int.__add__(a, b)    =====>    the \"int\" class has a dunder method __add__() which has a logic for adding two integers\n",
    "print(int.__add__(a, b))\n"
   ]
  },
  {
   "cell_type": "code",
   "execution_count": 170,
   "id": "5a7f6544-8f7d-4f0c-a0c2-4b15ce72effc",
   "metadata": {},
   "outputs": [
    {
     "name": "stdout",
     "output_type": "stream",
     "text": [
      "<class 'str'>\n",
      "AvinashMishra\n",
      "AvinashMishra\n"
     ]
    }
   ],
   "source": [
    "\n",
    "a = \"Avinash\"\n",
    "b = \"Mishra\"\n",
    "\n",
    "print(type(a))\n",
    "print(a + b)                   # str.__add__(a, b)    =====>    the \"str\" class has a dunder method __add__() which has a logic for adding two strings\n",
    "print(str.__add__(a, b))\n"
   ]
  },
  {
   "cell_type": "code",
   "execution_count": 173,
   "id": "8107832a-8118-4b6d-ac4d-b4bce5e3ab46",
   "metadata": {},
   "outputs": [
    {
     "name": "stdout",
     "output_type": "stream",
     "text": [
      "<class 'list'>\n",
      "[1, 2, 3, 4, 5, 6]\n",
      "[1, 2, 3, 4, 5, 6]\n"
     ]
    }
   ],
   "source": [
    "\n",
    "a = [1,2,3]\n",
    "b = [4,5,6]\n",
    "\n",
    "print(type(a))\n",
    "print(a + b)                   # list.__add__(a, b)    =====>    the \"list\" class has a dunder method __add__() which has a logic for adding two lists\n",
    "print(list.__add__(a, b))\n"
   ]
  },
  {
   "cell_type": "markdown",
   "id": "8766d5e5-f287-40b2-8935-ba585664bdc3",
   "metadata": {},
   "source": [
    "<br>\n",
    "\n",
    "🔶 &nbsp;&nbsp;As you can see the &nbsp;<code style=\"color: red; font-size: 1.1rem;\">+</code>&nbsp; operator has different meanings in different contexts. &nbsp;&nbsp;Note that all these examples are of &nbsp;<code style=\"background-color: yellow;\">implicit overloading</code>&nbsp; i.e, in-built in Python.\n",
    "\n",
    "<br>\n",
    "\n",
    "<span style=\"color: #06fff0; font-size: 0.7rem;\">■■■■■■■■■■■■■■■■■■■■■■■■■■■■■■■■■■■■■■■■■■■■■■■■■■■■■■■■■■■■■■■■■■■■■■■■■■■■■■■■■■■■■■■■■■■■■■■■■■■■■■■■■■■■■■■</span>\n"
   ]
  },
  {
   "cell_type": "markdown",
   "id": "9b7c1275-a6f8-4a12-8ef5-d684ca661c8a",
   "metadata": {},
   "source": [
    "<br>\n",
    "\n",
    "<span style=\"background-color: black; color: white;\">&nbsp;Example -2&nbsp;</span>\n",
    "\n",
    "<br>\n",
    "\n",
    "<span style=\"font-size: 0.9rem; color: blue; background-color: white;\">🔶🔶🔶🔶🔶🔶&nbsp;&nbsp;Let's define <u>explicitly</u> how the &nbsp;<code style=\"color: red; font-size: 1.1rem;\">+</code>&nbsp; operator should work <u>in context of adding two complex numbers</u>.&nbsp;&nbsp;🔶🔶🔶🔶🔶🔶</span>\n",
    "\n",
    "<br>\n",
    "\n",
    "<span style=\"font-size: 1.2rem; color: #FA8072;\">↳</span> &nbsp;<span style=\"color: #FA8072;\">STEP-1</span> &nbsp;: &nbsp;<span style=\"background-color: #fff6d7; padding: 8px;\">For that you first need to define a &nbsp;<code style=\"color: red; background-color: #edd4ff;\">Complex</code>&nbsp; class as follows :</span>\n"
   ]
  },
  {
   "cell_type": "code",
   "execution_count": 193,
   "id": "138925f2-18a9-4077-b06c-6ce85b2ae269",
   "metadata": {},
   "outputs": [
    {
     "name": "stdout",
     "output_type": "stream",
     "text": [
      "1 i  +  3 j\n",
      "4 i  +  6 j\n"
     ]
    }
   ],
   "source": [
    "\n",
    "class Complex:\n",
    "    def __init__(self, real, img):                       # initializes a complex number\n",
    "        self.real = real\n",
    "        self.img = img\n",
    "\n",
    "    def show_number(self):                               # instance method\n",
    "        print(self.real, \"i  + \", self.img, \"j\")\n",
    "\n",
    "\n",
    "num1 = Complex(1,3)\n",
    "num1.show_number()             # OUTPUT:  1i + 3j\n",
    "\n",
    "num2 = Complex(4,6)\n",
    "num2.show_number()             # OUTPUT:  4i + 6j\n"
   ]
  },
  {
   "cell_type": "markdown",
   "id": "ea81f700-8afb-48e0-95e9-2001f40bad62",
   "metadata": {},
   "source": [
    "<br> \n",
    "\n",
    "<span style=\"color: #d05cff;\">If you don't want to call this &nbsp;<code>show_number()</code>&nbsp; method agian and again for the string representation of a complex number, you can <strong>replace</strong> this &nbsp;<code>show_number()</code>&nbsp; method with the <span style=\"color: black;\"><strong>dunder method</strong><span> &nbsp;<code style=\"color: red;\">\\_\\_str__()</code>&nbsp; like the following:</span>\n",
    "\n",
    "<br>\n",
    "\n",
    "<div style=\"margin-left: 100px;\">\n",
    "\n",
    "![](../../media/Shraddha_Kapra_oops_80.PNG)\n",
    "\n",
    "</div>"
   ]
  },
  {
   "cell_type": "code",
   "execution_count": 192,
   "id": "2658572e-ed77-490c-be42-386544324c08",
   "metadata": {},
   "outputs": [
    {
     "name": "stdout",
     "output_type": "stream",
     "text": [
      "1i  +  3j\n",
      "4i  +  6j\n"
     ]
    }
   ],
   "source": [
    "\n",
    "class Complex:\n",
    "    def __init__(self, real, img):                       # initializes a complex number\n",
    "        self.real = real\n",
    "        self.img = img\n",
    "\n",
    "    def __str__(self):                                   # special instance method   =====>   dunder method\n",
    "        return f\"{self.real}i  +  {self.img}j\"\n",
    "\n",
    "\n",
    "num1 = Complex(1,3)\n",
    "print(num1)\n",
    "\n",
    "num2 = Complex(4,6)\n",
    "print(num2)\n"
   ]
  },
  {
   "cell_type": "markdown",
   "id": "6e769474-a01d-41c9-9462-bfa86b7f6398",
   "metadata": {},
   "source": [
    "<br>\n",
    "\n",
    "<span style=\"font-size: 1.2rem; color: #FA8072;\">↳</span> &nbsp;<span style=\"color: #FA8072;\">STEP-2</span> &nbsp;: &nbsp;<span style=\"background-color: #fff6d7; padding: 8px;\">Then you need to write your own logic for adding two complex numbers :</span>"
   ]
  },
  {
   "cell_type": "code",
   "execution_count": 207,
   "id": "2e7dc7d1-0061-41cc-b3ab-50e822c3dbce",
   "metadata": {},
   "outputs": [
    {
     "name": "stdout",
     "output_type": "stream",
     "text": [
      "1i  +  3j\n",
      "4i  +  6j\n",
      "5i  +  9j\n"
     ]
    }
   ],
   "source": [
    "\n",
    "class Complex:\n",
    "    def __init__(self, real, img):                       # initializes a complex number\n",
    "        self.real = real\n",
    "        self.img = img\n",
    "\n",
    "    def __str__(self):                                   # special instance method   =====>   dunder method\n",
    "        return f\"{self.real}i  +  {self.img}j\"\n",
    "\n",
    "    def add(self, other):                                # instance method\n",
    "        sum_real = num1.real + num2.real\n",
    "        sum_img = num1.img + num2.img\n",
    "        return Complex(sum_real, sum_img)\n",
    "\n",
    "\n",
    "\n",
    "num1 = Complex(1,3)\n",
    "print(num1)                     # OUTPUT:  1i + 3j\n",
    "\n",
    "num2 = Complex(4,6)\n",
    "print(num2)                     # OUTPUT:  4i + 6j\n",
    "\n",
    "num3 = num1.add(num2)                                     # calls the add() method\n",
    "print(num3)                     # OUTPUT:  5i + 9j\n"
   ]
  },
  {
   "cell_type": "markdown",
   "id": "98f7a449-e0c8-4dc9-adbc-b6a71c3d038a",
   "metadata": {},
   "source": [
    "<br>\n",
    "\n",
    "<span style=\"color: #d05cff;\">However, we want to add two complex numbers using the &nbsp;<code style=\"font-size: 1.1rem; color: red; background-color: #edd4ff;\">+</code>&nbsp; operator which is not yet possible :</span>"
   ]
  },
  {
   "cell_type": "code",
   "execution_count": 32,
   "id": "332df0b0-9fd3-4117-b1ec-2e729bc2bc1b",
   "metadata": {},
   "outputs": [
    {
     "ename": "TypeError",
     "evalue": "unsupported operand type(s) for +: 'Complex' and 'Complex'",
     "output_type": "error",
     "traceback": [
      "\u001b[1;31m---------------------------------------------------------------------------\u001b[0m",
      "\u001b[1;31mTypeError\u001b[0m                                 Traceback (most recent call last)",
      "Cell \u001b[1;32mIn[32], line 1\u001b[0m\n\u001b[1;32m----> 1\u001b[0m \u001b[43mnum1\u001b[49m\u001b[43m \u001b[49m\u001b[38;5;241;43m+\u001b[39;49m\u001b[43m \u001b[49m\u001b[43mnum2\u001b[49m\n",
      "\u001b[1;31mTypeError\u001b[0m: unsupported operand type(s) for +: 'Complex' and 'Complex'"
     ]
    }
   ],
   "source": [
    "\n",
    "num1 + num2\n"
   ]
  },
  {
   "cell_type": "markdown",
   "id": "60666a31-a61a-4a17-aadf-553c00264388",
   "metadata": {},
   "source": [
    "<br>\n",
    "\n",
    "<span style=\"font-size: 1.2rem; color: #FA8072;\">↳</span> &nbsp;<span style=\"color: #FA8072;\">STEP-3</span> &nbsp;: &nbsp;<span style=\"background-color: #fff6d7; padding: 8px;\">So in order to use the &nbsp;<code style=\"font-size: 1.1rem; color: red; background-color: #edd4ff;\">+</code>&nbsp; operator for adding two complex numbers, you need to rename the &nbsp;<code style=\"color: blue; background-color: #edd4ff;\">add()</code>&nbsp; method with it's &nbsp;<strong>dunder</strong>&nbsp; version &nbsp;<code style=\"background-color: #f9f210; color: red;\">\\_\\_add__()</code></span>\n"
   ]
  },
  {
   "cell_type": "code",
   "execution_count": 215,
   "id": "08a7bd40-f29f-4ab8-9a3d-ced18699cb44",
   "metadata": {},
   "outputs": [
    {
     "name": "stdout",
     "output_type": "stream",
     "text": [
      "1i  +  3j\n",
      "4i  +  6j\n",
      "5i  +  9j\n",
      "5i  +  9j\n"
     ]
    }
   ],
   "source": [
    "\n",
    "class Complex:\n",
    "    def __init__(self, real, img):                               # initializes a complex number\n",
    "        self.real = real\n",
    "        self.img = img\n",
    "\n",
    "    def __str__(self):                                           # special instance method     =====>    DUNDER method     or     MAGIC method\n",
    "        return f\"{self.real}i  +  {self.img}j\"\n",
    "\n",
    "    def __add__(num1, num2):                                     # special instance method     =====>    DUNDER method     or     MAGIC method\n",
    "        sum_real = num1.real + num2.real\n",
    "        sum_img = num1.img + num2.img\n",
    "        return Complex(sum_real, sum_img)\n",
    "\n",
    "\n",
    "num1 = Complex(1,3)\n",
    "print(num1)                                                                                              # OUTPUT:  1i + 3j\n",
    "\n",
    "num2 = Complex(4,6)\n",
    "print(num2)                                                                                              # OUTPUT:  4i + 6j\n",
    "\n",
    "num3 = num1.__add__(num2)       # METHOD - 1         \n",
    "print(num3)                                                                                              # OUTPUT:  5i + 9j\n",
    "\n",
    "num3 = num1 + num2              # METHOD - 2    ----->    indirectly  calls  METHOD - 1\n",
    "print(num3)                                                                                              # OUTPUT:  5i + 9j\n"
   ]
  },
  {
   "cell_type": "markdown",
   "id": "c7ca6312-2765-437d-b382-7d499e390fda",
   "metadata": {},
   "source": [
    "<br>\n",
    "\n",
    "<span style=\"color: #d05cff;\">It is called dunder method because we prefix and suffix it with double underscores.</span> <br>\n",
    "<span style=\"color: #d05cff;\">It's also called the <span style=\"color: black;\"><strong>magic method</strong></span> because it works magically. &nbsp;<strong>However you cannot call it exactly the way it is defined :</strong></span>"
   ]
  },
  {
   "cell_type": "code",
   "execution_count": 73,
   "id": "fcd00906-cdff-465e-bb7e-b7a6053713bf",
   "metadata": {},
   "outputs": [
    {
     "ename": "NameError",
     "evalue": "name '__add__' is not defined",
     "output_type": "error",
     "traceback": [
      "\u001b[1;31m---------------------------------------------------------------------------\u001b[0m",
      "\u001b[1;31mNameError\u001b[0m                                 Traceback (most recent call last)",
      "Cell \u001b[1;32mIn[73], line 1\u001b[0m\n\u001b[1;32m----> 1\u001b[0m \u001b[38;5;21;43m__add__\u001b[39;49m(num1, num2)\n",
      "\u001b[1;31mNameError\u001b[0m: name '__add__' is not defined"
     ]
    }
   ],
   "source": [
    "\n",
    "__add__(num1, num2)\n"
   ]
  },
  {
   "cell_type": "markdown",
   "id": "28c1a42b-2fdf-44e6-9f89-39da57ec4f66",
   "metadata": {},
   "source": [
    "<br>\n",
    "\n",
    "<span style=\"font-size: 0.9rem; color: blue; background-color: white;\">🔶🔶🔶🔶🔶🔶&nbsp;&nbsp;Similarly let's define <u>explicitly</u> how the &nbsp;<code style=\"color: red; font-size: 1.2rem;\">-</code>&nbsp; operator should work <u>in context of adding two complex numbers</u>.&nbsp;&nbsp;🔶🔶🔶🔶🔶🔶</span>\n"
   ]
  },
  {
   "cell_type": "code",
   "execution_count": 218,
   "id": "905f1b04-c0c8-4ab8-a1cd-91faf2e0690e",
   "metadata": {},
   "outputs": [
    {
     "name": "stdout",
     "output_type": "stream",
     "text": [
      "1i  +  3j\n",
      "4i  +  6j\n",
      "5i  +  9j\n",
      "5i  +  9j\n"
     ]
    }
   ],
   "source": [
    "\n",
    "class Complex:\n",
    "    def __init__(self, real, img):                               # initializes a complex number\n",
    "        self.real = real\n",
    "        self.img = img\n",
    "\n",
    "    def __str__(self):                                           # special instance method     =====>    DUNDER method     or     MAGIC method\n",
    "        return f\"{self.real}i  +  {self.img}j\"\n",
    "\n",
    "    def __add__(num1, num2):                                     # special instance method     =====>    DUNDER method     or     MAGIC method\n",
    "        sum_real = num1.real + num2.real\n",
    "        sum_img = num1.img + num2.img\n",
    "        return Complex(sum_real, sum_img)\n",
    "\n",
    "    def __sub__(self, other):                                    # special instance method     =====>    DUNDER method     or     MAGIC method\n",
    "        sum_real = self.real - other.real\n",
    "        sum_img = self.img - other.img\n",
    "        return Complex(sum_real, sum_img)\n",
    "\n",
    "\n",
    "num1 = Complex(1,3)\n",
    "print(num1)                                                                                              # OUTPUT:  1i + 3j\n",
    "\n",
    "num2 = Complex(4,6)\n",
    "print(num2)                                                                                              # OUTPUT:  4i + 6j\n",
    "\n",
    "num3 = num1.__add__(num2)       # METHOD - 1         \n",
    "print(num3)                                                                                              # OUTPUT:  5i + 9j\n",
    "\n",
    "num3 = num1 + num2              # METHOD - 2    ----->    indirectly  calls  METHOD - 1\n",
    "print(num3)                                                                                              # OUTPUT:  5i + 9j\n"
   ]
  },
  {
   "cell_type": "markdown",
   "id": "3e9ea2f3-c6a3-4266-bfff-a2da7f3a2d93",
   "metadata": {},
   "source": [
    "<br>\n",
    "\n",
    "<span style=\"color: #06fff0; font-size: 0.7rem;\">■■■■■■■■■■■■■■■■■■■■■■■■■■■■■■■■■■■■■■■■■■■■■■■■■■■■■■■■■■■■■■■■■■■■■■■■■■■■■■■■■■■■■■■■■■■■■■■■■■■■■■■■■■■■■■■</span>\n"
   ]
  },
  {
   "cell_type": "markdown",
   "id": "962ca354-fe85-422c-92f0-5eaac576b863",
   "metadata": {},
   "source": [
    "<br>\n",
    "\n",
    "<span style=\"font-size: 1rem; color: #f39c12;\">Operators &nbsp;and &nbsp;<u>dunder &nbsp;functions</u> &nbsp;(&nbsp;also &nbsp;known &nbsp;as &nbsp;<u>magic &nbsp;methods</u>)</span>\n",
    "\n",
    "<br>\n",
    "\n",
    "| &nbsp;&nbsp;&nbsp;operator &nbsp;&nbsp;&nbsp;&nbsp;&nbsp;&nbsp;&nbsp;&nbsp;&nbsp;&nbsp;&nbsp;&nbsp;&nbsp;&nbsp;&nbsp;&nbsp;&nbsp;&nbsp;&nbsp;&nbsp;&nbsp;&nbsp;&nbsp;&nbsp;|&nbsp;operation      &nbsp;&nbsp;&nbsp;&nbsp;&nbsp;&nbsp;&nbsp;&nbsp;&nbsp;|&nbsp;&nbsp;&nbsp;&nbsp;&nbsp;&nbsp;dunder function    |\n",
    "|----------|----------------|--------------------|\n",
    "| <code style=\"background-color: white;\"> self <span style=\"color: red;\">+</span> other </code> | &nbsp;&nbsp;&nbsp;&nbsp;&nbsp;&nbsp;&nbsp;&nbsp;&nbsp;&nbsp;&nbsp;&nbsp;&nbsp;&nbsp;&nbsp;&nbsp;&nbsp;&nbsp;&nbsp;&nbsp;&nbsp;&nbsp;&nbsp;&nbsp;&nbsp;<span style=\"color: blue;\">addition</span>  | &nbsp;&nbsp;&nbsp;&nbsp;&nbsp;&nbsp;&nbsp;&nbsp;&nbsp;&nbsp;&nbsp;&nbsp;&nbsp;&nbsp;&nbsp;&nbsp;&nbsp;&nbsp;&nbsp;&nbsp;&nbsp;&nbsp;&nbsp;&nbsp;<code style=\"background-color: white;\">self.<span style=\"color: red;\">\\_\\_add__</span>(other)</code> |\n",
    "| <code style=\"background-color: #f4f6f6;\"> self <span style=\"color: red;\">-</span> other </code>    | &nbsp;&nbsp;&nbsp;&nbsp;&nbsp;&nbsp;&nbsp;&nbsp;&nbsp;&nbsp;&nbsp;&nbsp;&nbsp;&nbsp;&nbsp;&nbsp;&nbsp;&nbsp;&nbsp;&nbsp;&nbsp;&nbsp;&nbsp;&nbsp;&nbsp;<span style=\"color: blue;\">substraction</span>  | &nbsp;&nbsp;&nbsp;&nbsp;&nbsp;&nbsp;&nbsp;&nbsp;&nbsp;&nbsp;&nbsp;&nbsp;&nbsp;&nbsp;&nbsp;&nbsp;&nbsp;&nbsp;&nbsp;&nbsp;&nbsp;&nbsp;&nbsp;&nbsp;<code style=\"background-color: #f4f6f6;\">self.<span style=\"color: red;\">\\_\\_sub__</span>(other)</code> |\n",
    "| <code style=\"background-color: white;\"> self <span style=\"color: red;\">*</span> other </code>    | &nbsp;&nbsp;&nbsp;&nbsp;&nbsp;&nbsp;&nbsp;&nbsp;&nbsp;&nbsp;&nbsp;&nbsp;&nbsp;&nbsp;&nbsp;&nbsp;&nbsp;&nbsp;&nbsp;&nbsp;&nbsp;&nbsp;&nbsp;&nbsp;&nbsp;<span style=\"color: blue;\">multiplication</span>   | &nbsp;&nbsp;&nbsp;&nbsp;&nbsp;&nbsp;&nbsp;&nbsp;&nbsp;&nbsp;&nbsp;&nbsp;&nbsp;&nbsp;&nbsp;&nbsp;&nbsp;&nbsp;&nbsp;&nbsp;&nbsp;&nbsp;&nbsp;&nbsp;<code style=\"background-color: white;\">self.<span style=\"color: red;\">\\_\\_mul__</span>(other)</code> |\n",
    "| <code style=\"background-color: #f4f6f6;\"> self <span style=\"color: red;\">/</span> other </code>    | &nbsp;&nbsp;&nbsp;&nbsp;&nbsp;&nbsp;&nbsp;&nbsp;&nbsp;&nbsp;&nbsp;&nbsp;&nbsp;&nbsp;&nbsp;&nbsp;&nbsp;&nbsp;&nbsp;&nbsp;&nbsp;&nbsp;&nbsp;&nbsp;&nbsp;<span style=\"color: blue;\">truedivision</span>       | &nbsp;&nbsp;&nbsp;&nbsp;&nbsp;&nbsp;&nbsp;&nbsp;&nbsp;&nbsp;&nbsp;&nbsp;&nbsp;&nbsp;&nbsp;&nbsp;&nbsp;&nbsp;&nbsp;&nbsp;&nbsp;&nbsp;&nbsp;&nbsp;<code style=\"background-color: #f4f6f6;\">self.<span style=\"color: red;\">\\_\\_truediv__</span>(b)</code> |\n",
    "| <code style=\"background-color: white;\"> self <span style=\"color: red;\">//</span> other </code>   | &nbsp;&nbsp;&nbsp;&nbsp;&nbsp;&nbsp;&nbsp;&nbsp;&nbsp;&nbsp;&nbsp;&nbsp;&nbsp;&nbsp;&nbsp;&nbsp;&nbsp;&nbsp;&nbsp;&nbsp;&nbsp;&nbsp;&nbsp;&nbsp;&nbsp;<span style=\"color: blue;\">floordivision</span>       | &nbsp;&nbsp;&nbsp;&nbsp;&nbsp;&nbsp;&nbsp;&nbsp;&nbsp;&nbsp;&nbsp;&nbsp;&nbsp;&nbsp;&nbsp;&nbsp;&nbsp;&nbsp;&nbsp;&nbsp;&nbsp;&nbsp;&nbsp;&nbsp;<code style=\"background-color: white;\">self.<span style=\"color: red;\">\\_\\_floordiv__</span>(b)</code> |\n",
    "| <code style=\"background-color: #f4f6f6;\"> self <span style=\"color: red;\">%</span> other </code>    | &nbsp;&nbsp;&nbsp;&nbsp;&nbsp;&nbsp;&nbsp;&nbsp;&nbsp;&nbsp;&nbsp;&nbsp;&nbsp;&nbsp;&nbsp;&nbsp;&nbsp;&nbsp;&nbsp;&nbsp;&nbsp;&nbsp;&nbsp;&nbsp;&nbsp;<span style=\"color: blue;\">modulus</span>     | &nbsp;&nbsp;&nbsp;&nbsp;&nbsp;&nbsp;&nbsp;&nbsp;&nbsp;&nbsp;&nbsp;&nbsp;&nbsp;&nbsp;&nbsp;&nbsp;&nbsp;&nbsp;&nbsp;&nbsp;&nbsp;&nbsp;&nbsp;&nbsp;<code style=\"background-color: #f4f6f6;\">self.<span style=\"color: red;\">\\_\\_mod__</span>(other)</code> |\n",
    "| <code style=\"background-color: white;\"> self <span style=\"color: red;\">**</span> other </code> | &nbsp;&nbsp;&nbsp;&nbsp;&nbsp;&nbsp;&nbsp;&nbsp;&nbsp;&nbsp;&nbsp;&nbsp;&nbsp;&nbsp;&nbsp;&nbsp;&nbsp;&nbsp;&nbsp;&nbsp;&nbsp;&nbsp;&nbsp;&nbsp;&nbsp;<span style=\"color: blue;\">power</span>     | &nbsp;&nbsp;&nbsp;&nbsp;&nbsp;&nbsp;&nbsp;&nbsp;&nbsp;&nbsp;&nbsp;&nbsp;&nbsp;&nbsp;&nbsp;&nbsp;&nbsp;&nbsp;&nbsp;&nbsp;&nbsp;&nbsp;&nbsp;&nbsp;<code style=\"background-color: white;\">self.<span style=\"color: red;\">\\_\\_pow__</span>(other)</code>   |\n",
    "| <code style=\"background-color: #f4f6f6;\"> self <span style=\"color: red;\">==</span> other </code> | &nbsp;&nbsp;&nbsp;&nbsp;&nbsp;&nbsp;&nbsp;&nbsp;&nbsp;&nbsp;&nbsp;&nbsp;&nbsp;&nbsp;&nbsp;&nbsp;&nbsp;&nbsp;&nbsp;&nbsp;&nbsp;&nbsp;&nbsp;&nbsp;&nbsp;<span style=\"color: blue;\">equas &nbsp;to</span>     | &nbsp;&nbsp;&nbsp;&nbsp;&nbsp;&nbsp;&nbsp;&nbsp;&nbsp;&nbsp;&nbsp;&nbsp;&nbsp;&nbsp;&nbsp;&nbsp;&nbsp;&nbsp;&nbsp;&nbsp;&nbsp;&nbsp;&nbsp;&nbsp;<code style=\"background-color: #f4f6f6;\">self.<span style=\"color: red;\">\\_\\_eq__</span>(other)</code>   |\n",
    "| <code style=\"background-color: white;\"> self <span style=\"color: red;\">!=</span> other </code> | &nbsp;&nbsp;&nbsp;&nbsp;&nbsp;&nbsp;&nbsp;&nbsp;&nbsp;&nbsp;&nbsp;&nbsp;&nbsp;&nbsp;&nbsp;&nbsp;&nbsp;&nbsp;&nbsp;&nbsp;&nbsp;&nbsp;&nbsp;&nbsp;&nbsp;<span style=\"color: blue;\">not &nbsp;equals &nbsp;to</span>     | &nbsp;&nbsp;&nbsp;&nbsp;&nbsp;&nbsp;&nbsp;&nbsp;&nbsp;&nbsp;&nbsp;&nbsp;&nbsp;&nbsp;&nbsp;&nbsp;&nbsp;&nbsp;&nbsp;&nbsp;&nbsp;&nbsp;&nbsp;&nbsp;<code style=\"background-color: white;\">self.<span style=\"color: red;\">\\_\\_ne__</span>(other)</code>   |\n",
    "| <code style=\"background-color: #f4f6f6;\"> self <span style=\"color: red;\"><</span> other </code> | &nbsp;&nbsp;&nbsp;&nbsp;&nbsp;&nbsp;&nbsp;&nbsp;&nbsp;&nbsp;&nbsp;&nbsp;&nbsp;&nbsp;&nbsp;&nbsp;&nbsp;&nbsp;&nbsp;&nbsp;&nbsp;&nbsp;&nbsp;&nbsp;&nbsp;<span style=\"color: blue;\">less &nbsp;than</span>     | &nbsp;&nbsp;&nbsp;&nbsp;&nbsp;&nbsp;&nbsp;&nbsp;&nbsp;&nbsp;&nbsp;&nbsp;&nbsp;&nbsp;&nbsp;&nbsp;&nbsp;&nbsp;&nbsp;&nbsp;&nbsp;&nbsp;&nbsp;&nbsp;<code style=\"background-color: #f4f6f6;\">self.<span style=\"color: red;\">\\_\\_lt__</span>(other)</code>   |\n",
    "| <code style=\"background-color: white;\"> self <span style=\"color: red;\"><=</span> other </code> | &nbsp;&nbsp;&nbsp;&nbsp;&nbsp;&nbsp;&nbsp;&nbsp;&nbsp;&nbsp;&nbsp;&nbsp;&nbsp;&nbsp;&nbsp;&nbsp;&nbsp;&nbsp;&nbsp;&nbsp;&nbsp;&nbsp;&nbsp;&nbsp;&nbsp;<span style=\"color: blue;\">less &nbsp;than &nbsp;or &nbsp;equals &nbsp;to</span>     | &nbsp;&nbsp;&nbsp;&nbsp;&nbsp;&nbsp;&nbsp;&nbsp;&nbsp;&nbsp;&nbsp;&nbsp;&nbsp;&nbsp;&nbsp;&nbsp;&nbsp;&nbsp;&nbsp;&nbsp;&nbsp;&nbsp;&nbsp;&nbsp;<code style=\"background-color: white;\">self.<span style=\"color: red;\">\\_\\_le__</span>(other)</code>   |\n",
    "| <code style=\"background-color: #f4f6f6;\"> self <span style=\"color: red;\">></span> other </code> | &nbsp;&nbsp;&nbsp;&nbsp;&nbsp;&nbsp;&nbsp;&nbsp;&nbsp;&nbsp;&nbsp;&nbsp;&nbsp;&nbsp;&nbsp;&nbsp;&nbsp;&nbsp;&nbsp;&nbsp;&nbsp;&nbsp;&nbsp;&nbsp;&nbsp;<span style=\"color: blue;\">greater &nbsp;than</span>     | &nbsp;&nbsp;&nbsp;&nbsp;&nbsp;&nbsp;&nbsp;&nbsp;&nbsp;&nbsp;&nbsp;&nbsp;&nbsp;&nbsp;&nbsp;&nbsp;&nbsp;&nbsp;&nbsp;&nbsp;&nbsp;&nbsp;&nbsp;&nbsp;<code style=\"background-color: #f4f6f6;\">self.<span style=\"color: red;\">\\_\\_gt__</span>(other)</code>   |\n",
    "| <code style=\"background-color: white;\"> self <span style=\"color: red;\">>=</span> other </code> | &nbsp;&nbsp;&nbsp;&nbsp;&nbsp;&nbsp;&nbsp;&nbsp;&nbsp;&nbsp;&nbsp;&nbsp;&nbsp;&nbsp;&nbsp;&nbsp;&nbsp;&nbsp;&nbsp;&nbsp;&nbsp;&nbsp;&nbsp;&nbsp;&nbsp;<span style=\"color: blue;\">greater &nbsp;than &nbsp;or &nbsp;equals &nbsp;to</span>     | &nbsp;&nbsp;&nbsp;&nbsp;&nbsp;&nbsp;&nbsp;&nbsp;&nbsp;&nbsp;&nbsp;&nbsp;&nbsp;&nbsp;&nbsp;&nbsp;&nbsp;&nbsp;&nbsp;&nbsp;&nbsp;&nbsp;&nbsp;&nbsp;<code style=\"background-color: white;\">self.<span style=\"color: red;\">\\_\\_ge__</span>(other)</code>   |\n",
    "| <code style=\"background-color: #f4f6f6;\"> self<span style=\"color: red;\">[</span>key<span style=\"color: red;\">]</span> </code> | &nbsp;&nbsp;&nbsp;&nbsp;&nbsp;&nbsp;&nbsp;&nbsp;&nbsp;&nbsp;&nbsp;&nbsp;&nbsp;&nbsp;&nbsp;&nbsp;&nbsp;&nbsp;&nbsp;&nbsp;&nbsp;&nbsp;&nbsp;&nbsp;&nbsp;<span style=\"color: blue;\">get &nbsp;item &nbsp;through &nbsp;indexing</span>     | &nbsp;&nbsp;&nbsp;&nbsp;&nbsp;&nbsp;&nbsp;&nbsp;&nbsp;&nbsp;&nbsp;&nbsp;&nbsp;&nbsp;&nbsp;&nbsp;&nbsp;&nbsp;&nbsp;&nbsp;&nbsp;&nbsp;&nbsp;&nbsp;<code style=\"background-color: #f4f6f6;\"><span style=\"color: red;\">\\_\\_getitem__</span>(self , key)</code>   |\n",
    "| <code style=\"background-color: white;\"> self<span style=\"color: red;\">(<span style=\"color: black;\">**args</span>)</span> </code> | &nbsp;&nbsp;&nbsp;&nbsp;&nbsp;&nbsp;&nbsp;&nbsp;&nbsp;&nbsp;&nbsp;&nbsp;&nbsp;&nbsp;&nbsp;&nbsp;&nbsp;&nbsp;&nbsp;&nbsp;&nbsp;&nbsp;&nbsp;&nbsp;&nbsp;<span style=\"color: blue;\">callable &nbsp;object</span>     | &nbsp;&nbsp;&nbsp;&nbsp;&nbsp;&nbsp;&nbsp;&nbsp;&nbsp;&nbsp;&nbsp;&nbsp;&nbsp;&nbsp;&nbsp;&nbsp;&nbsp;&nbsp;&nbsp;&nbsp;&nbsp;&nbsp;&nbsp;&nbsp;<code style=\"background-color: white;\"><span style=\"color: red;\">\\_\\_call__</span>(self , **args)</code>   |\n",
    "| <code style=\"background-color: #f4f6f6;\"> <span style=\"color: red;\">abs(<span style=\"color: black;\">self</span>)</span> </code> | &nbsp;&nbsp;&nbsp;&nbsp;&nbsp;&nbsp;&nbsp;&nbsp;&nbsp;&nbsp;&nbsp;&nbsp;&nbsp;&nbsp;&nbsp;&nbsp;&nbsp;&nbsp;&nbsp;&nbsp;&nbsp;&nbsp;&nbsp;&nbsp;&nbsp;<span style=\"color: blue;\">absolute &nbsp;value</span>     | &nbsp;&nbsp;&nbsp;&nbsp;&nbsp;&nbsp;&nbsp;&nbsp;&nbsp;&nbsp;&nbsp;&nbsp;&nbsp;&nbsp;&nbsp;&nbsp;&nbsp;&nbsp;&nbsp;&nbsp;&nbsp;&nbsp;&nbsp;&nbsp;<code style=\"background-color: #f4f6f6;\"><span style=\"color: red;\">\\_\\_abs__</span>(self)</code>   |\n",
    "| <code style=\"background-color: white;\"> <span style=\"color: red;\">len(<span style=\"color: black;\">self</span>)</span> </code> | &nbsp;&nbsp;&nbsp;&nbsp;&nbsp;&nbsp;&nbsp;&nbsp;&nbsp;&nbsp;&nbsp;&nbsp;&nbsp;&nbsp;&nbsp;&nbsp;&nbsp;&nbsp;&nbsp;&nbsp;&nbsp;&nbsp;&nbsp;&nbsp;&nbsp;<span style=\"color: blue;\">length &nbsp;of</span>     | &nbsp;&nbsp;&nbsp;&nbsp;&nbsp;&nbsp;&nbsp;&nbsp;&nbsp;&nbsp;&nbsp;&nbsp;&nbsp;&nbsp;&nbsp;&nbsp;&nbsp;&nbsp;&nbsp;&nbsp;&nbsp;&nbsp;&nbsp;&nbsp;<code style=\"background-color: white;\"><span style=\"color: red;\">\\_\\_len__</span>(self)</code>   |\n",
    "| <code style=\"background-color: #f4f6f6;;\"> <span style=\"color: red;\">str(<span style=\"color: black;\">self</span>)</span> </code> | &nbsp;&nbsp;&nbsp;&nbsp;&nbsp;&nbsp;&nbsp;&nbsp;&nbsp;&nbsp;&nbsp;&nbsp;&nbsp;&nbsp;&nbsp;&nbsp;&nbsp;&nbsp;&nbsp;&nbsp;&nbsp;&nbsp;&nbsp;&nbsp;&nbsp;<span style=\"color: blue;\">type &nbsp;convertion &nbsp;into &nbsp;string</span>     | &nbsp;&nbsp;&nbsp;&nbsp;&nbsp;&nbsp;&nbsp;&nbsp;&nbsp;&nbsp;&nbsp;&nbsp;&nbsp;&nbsp;&nbsp;&nbsp;&nbsp;&nbsp;&nbsp;&nbsp;&nbsp;&nbsp;&nbsp;&nbsp;<code style=\"background-color: #f4f6f6;;\"><span style=\"color: red;\">\\_\\_str__</span>(self)</code>   |\n",
    "| <code style=\"background-color: white;\"> <span style=\"color: red;\">repr(<span style=\"color: black;\">self</span>)</span> </code> | &nbsp;&nbsp;&nbsp;&nbsp;&nbsp;&nbsp;&nbsp;&nbsp;&nbsp;&nbsp;&nbsp;&nbsp;&nbsp;&nbsp;&nbsp;&nbsp;&nbsp;&nbsp;&nbsp;&nbsp;&nbsp;&nbsp;&nbsp;&nbsp;&nbsp;<span style=\"color: blue;\">string &nbsp;representation &nbsp;of &nbsp;object</span>     | &nbsp;&nbsp;&nbsp;&nbsp;&nbsp;&nbsp;&nbsp;&nbsp;&nbsp;&nbsp;&nbsp;&nbsp;&nbsp;&nbsp;&nbsp;&nbsp;&nbsp;&nbsp;&nbsp;&nbsp;&nbsp;&nbsp;&nbsp;&nbsp;<code style=\"background-color: white;\"><span style=\"color: red;\">\\_\\_repr__</span>(self)</code>   |\n"
   ]
  },
  {
   "cell_type": "markdown",
   "id": "d16cc178-c4ec-4fdf-86aa-8067d8b54070",
   "metadata": {},
   "source": [
    "<br>\n",
    "\n",
    "<span style=\"color: #06fff0; font-size: 0.7rem;\">■■■■■■■■■■■■■■■■■■■■■■■■■■■■■■■■■■■■■■■■■■■■■■■■■■■■■■■■■■■■■■■■■■■■■■■■■■■■■■■■■■■■■■■■■■■■■■■■■■■■■■■■■■■■■■■</span>\n",
    "\n",
    "<br>\n",
    "\n",
    "<span style=\"background-color: #85929e; color: white;\">&nbsp;Practice &nbsp;Question &nbsp;- &nbsp;1&nbsp;</span>\n",
    "\n",
    "<pre style=\"background-color: #f9e79f; padding-top: 5px; padding-bottom: 5px; padding-left: 15px; padding-right: 15px;\">\n",
    "\n",
    "Create a class called &nbsp;<span style=\"background-color: white;\">&nbsp;Order&nbsp;</span>&nbsp; which stores order item and it's price.\n",
    "\n",
    "Use <span style=\"font-size: 1rem;\"><strong>Dunder</strong></span> function &nbsp;<code style=\"background-color: white; color: red; padding: 2px;\">__gt__()</code>&nbsp; to convey the message &nbsp;:&nbsp; <span style=\"background-color: white; padding: 12px;\"><code style=\"background-color: #aed6f1;\">order1 > order2</code> &nbsp;if &nbsp;<u>price of order1</u> &nbsp;<span style=\"color: red; font-size: 1rem;\"><strong>></strong></span>&nbsp; <u>price of order2</u></span>\n",
    "\n",
    "</pre>\n"
   ]
  },
  {
   "cell_type": "code",
   "execution_count": 176,
   "id": "73180fd0-94a6-439a-be06-c27bbeaac2df",
   "metadata": {},
   "outputs": [
    {
     "name": "stdout",
     "output_type": "stream",
     "text": [
      "False\n",
      "False\n"
     ]
    }
   ],
   "source": [
    "\n",
    "class Order:\n",
    "    def __init__(self, item, price):\n",
    "        self.item = item\n",
    "        self.price = price\n",
    "\n",
    "    def __gt__(self, other):\n",
    "        return self.price > other.price\n",
    "\n",
    "\n",
    "ord1 = Order(\"chips\", 10)\n",
    "ord2 = Order(\"biscuits\", 20)\n",
    "\n",
    "print(ord1.__gt__(ord2))                                                    # METHOD - 1\n",
    "print(ord1 > ord2)                         # ord1.__gt__(ord2)              # METHOD - 2\n"
   ]
  },
  {
   "cell_type": "code",
   "execution_count": 177,
   "id": "69bbc854-469e-4501-bc33-6fa3dd2ebf7b",
   "metadata": {},
   "outputs": [
    {
     "name": "stdout",
     "output_type": "stream",
     "text": [
      "chips > biscuits    ====>   False\n"
     ]
    }
   ],
   "source": [
    "\n",
    "print(ord1.item, \">\", ord2.item, \"   ====>  \", ord1 > ord2)\n"
   ]
  },
  {
   "cell_type": "markdown",
   "id": "28f1156c-4a82-4a2e-8184-f276c13f4ed4",
   "metadata": {},
   "source": [
    "<br>\n",
    "\n",
    "<span style=\"color: #06fff0; font-size: 0.7rem;\">■■■■■■■■■■■■■■■■■■■■■■■■■■■■■■■■■■■■■■■■■■■■■■■■■■■■■■■■■■■■■■■■■■■■■■■■■■■■■■■■■■■■■■■■■■■■■■■■■■■■■■■■■■■■■■■</span>\n",
    "\n",
    "<br>\n",
    "\n",
    "<span style=\"background-color: #85929e; color: white;\">&nbsp;Practice &nbsp;Question &nbsp;- &nbsp;2&nbsp;</span>\n",
    "\n",
    "<pre style=\"background-color: #f9e79f; padding-top: 5px; padding-bottom: 5px; padding-left: 15px; padding-right: 15px;\">\n",
    "\n",
    "a = 5\n",
    "b = \"star\"\n",
    "\n",
    "Write your own custom logic for <code style=\"background-color: white;\"> a + b </code>   ====>  <span style=\"color: red;\">\"5star\"</span>\n",
    "    \n",
    "</pre>\n"
   ]
  },
  {
   "cell_type": "code",
   "execution_count": 159,
   "id": "c4baa6ac-879f-4732-815c-eda0cdbc9ab3",
   "metadata": {},
   "outputs": [
    {
     "data": {
      "text/plain": [
       "'5star'"
      ]
     },
     "execution_count": 159,
     "metadata": {},
     "output_type": "execute_result"
    }
   ],
   "source": [
    "\n",
    "class IntStr:\n",
    "    def __init__(self, value):\n",
    "        self.value = value\n",
    "\n",
    "    def __add__(self, other):\n",
    "        return str(self.value) + str(other.value)\n",
    "\n",
    "intstr1 = IntStr(5)\n",
    "intstr2 = IntStr(\"star\")\n",
    "\n",
    "intstr1 + intstr2                                      #  intstr1.__add__(intstr2)\n"
   ]
  },
  {
   "cell_type": "markdown",
   "id": "1c1a0dd5-d680-4a1d-ad06-2f9bae11e616",
   "metadata": {},
   "source": [
    "<br>\n",
    "\n",
    "<span style=\"color: #06fff0; font-size: 0.7rem;\">■■■■■■■■■■■■■■■■■■■■■■■■■■■■■■■■■■■■■■■■■■■■■■■■■■■■■■■■■■■■■■■■■■■■■■■■■■■■■■■■■■■■■■■■■■■■■■■■■■■■■■■■■■■■■■■</span>\n",
    "\n",
    "<br>\n",
    "\n",
    "<span style=\"background-color: #85929e; color: white;\">&nbsp;Practice &nbsp;Question &nbsp;- &nbsp;3&nbsp;</span>\n",
    "\n",
    "<pre style=\"background-color: #f9e79f; padding-top: 5px; padding-bottom: 5px; padding-left: 15px; padding-right: 15px;\">\n",
    "\n",
    "Consider the coordinate of a 2D point <code style=\"background-color: white;\"> ( x , y ) </code> in a X-Y plane\n",
    "\n",
    "Write your own custom logic to add two points\n",
    "    \n",
    "</pre>\n",
    "\n",
    "<br>\n",
    "\n",
    "<span style=\"color: red;\">STEP - 1 :</span>"
   ]
  },
  {
   "cell_type": "code",
   "execution_count": 7,
   "id": "e94ec28e-7e1d-4d18-b9a7-dc01727910f8",
   "metadata": {},
   "outputs": [
    {
     "name": "stdout",
     "output_type": "stream",
     "text": [
      "<__main__.Point object at 0x000002B2C0FB54D0>\n"
     ]
    }
   ],
   "source": [
    "\n",
    "class Point:\n",
    "    \n",
    "    def __init__(self, x, y):\n",
    "        self.x = x\n",
    "        self.y = y\n",
    "\n",
    "    def __add__(self, other):\n",
    "        return Point(self.x + other.x, self.y + other.y)\n",
    "\n",
    "\n",
    "# Creating two points\n",
    "p1 = Point(2, 3)\n",
    "p2 = Point(4, 5)\n",
    "\n",
    "\n",
    "# Adding two points using the overloaded + operator\n",
    "result = p1 + p2                                            # object + object  ===>  object\n",
    "print(result)                                               # OUTPUT: <__main__.Point object at 0x000002B2C106FAD0>\n"
   ]
  },
  {
   "cell_type": "markdown",
   "id": "d909c88d-81a1-416d-9f30-05e7aa994e59",
   "metadata": {},
   "source": [
    "<br>\n",
    "\n",
    "<span style=\"color: red;\">STEP - 2 :</span>"
   ]
  },
  {
   "cell_type": "code",
   "execution_count": 8,
   "id": "129eeb4a-26c0-44ab-a8ad-7b71a06ca87d",
   "metadata": {},
   "outputs": [
    {
     "name": "stdout",
     "output_type": "stream",
     "text": [
      "(6, 8)\n"
     ]
    }
   ],
   "source": [
    "\n",
    "class Point:\n",
    "    \n",
    "    def __init__(self, x, y):\n",
    "        self.x = x\n",
    "        self.y = y\n",
    "\n",
    "    def __add__(self, other):\n",
    "        return Point(self.x + other.x, self.y + other.y)\n",
    "\n",
    "    def __str__(self):\n",
    "        return f\"({self.x}, {self.y})\"\n",
    "\n",
    "\n",
    "# Creating two points\n",
    "p1 = Point(2, 3)\n",
    "p2 = Point(4, 5)\n",
    "\n",
    "\n",
    "# Adding two points using the overloaded + operator\n",
    "result = p1 + p2\n",
    "print(result)                                               # Output: (6, 8)\n"
   ]
  },
  {
   "cell_type": "code",
   "execution_count": null,
   "id": "640b2e6f-5d2a-4aa5-a06b-fb2c0cdaaab7",
   "metadata": {},
   "outputs": [],
   "source": []
  },
  {
   "cell_type": "code",
   "execution_count": null,
   "id": "44746420-168d-4b6f-adeb-24202c9d317f",
   "metadata": {},
   "outputs": [],
   "source": []
  }
 ],
 "metadata": {
  "kernelspec": {
   "display_name": "Python 3 (ipykernel)",
   "language": "python",
   "name": "python3"
  },
  "language_info": {
   "codemirror_mode": {
    "name": "ipython",
    "version": 3
   },
   "file_extension": ".py",
   "mimetype": "text/x-python",
   "name": "python",
   "nbconvert_exporter": "python",
   "pygments_lexer": "ipython3",
   "version": "3.11.3"
  }
 },
 "nbformat": 4,
 "nbformat_minor": 5
}
