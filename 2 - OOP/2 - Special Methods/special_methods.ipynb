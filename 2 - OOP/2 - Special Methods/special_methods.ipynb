{
 "cells": [
  {
   "cell_type": "markdown",
   "id": "d1ab5e63-75bb-42be-b163-f8a26c036a57",
   "metadata": {
    "jp-MarkdownHeadingCollapsed": true
   },
   "source": [
    "<br><br>\n",
    "\n",
    "### <span style=\"color: red;\">\\_\\_str__</span>"
   ]
  },
  {
   "cell_type": "markdown",
   "id": "eb6a71e9-59af-4850-b158-39e21956cb0a",
   "metadata": {},
   "source": [
    "<br>\n",
    "\n",
    "<div style=\"background-color: #ffe6ce; padding-top: 13px; padding-bottom: 2px; padding-left: 15px; padding-right: 10px;\">\n",
    "\n",
    "Implement the &nbsp;<code style=\"background-color: white; background-color: yellow; color: red;\">\\_\\_str__</code>&nbsp; method to <span style=\"color: red;\"><strong>customize</strong> the string representation</span> of an instance of a class.\n",
    "\n",
    "</div>"
   ]
  },
  {
   "cell_type": "code",
   "execution_count": 8,
   "id": "0e7c1ef7-fb96-4cc9-8bc7-35a5b92c538e",
   "metadata": {},
   "outputs": [],
   "source": [
    "\n",
    "class Person:\n",
    "    def __init__(self, first_name, last_name, age):\n",
    "        self.first_name = first_name\n",
    "        self.last_name = last_name\n",
    "        self.age = age\n"
   ]
  },
  {
   "cell_type": "code",
   "execution_count": 9,
   "id": "405b7401-4dda-4049-a31d-1a1be2f1082d",
   "metadata": {},
   "outputs": [
    {
     "name": "stdout",
     "output_type": "stream",
     "text": [
      "<__main__.Person object at 0x000001AFC0777310>\n"
     ]
    }
   ],
   "source": [
    "\n",
    "person = Person('Avinash', 'Mishra', 30)\n",
    "print(person)\n"
   ]
  },
  {
   "cell_type": "markdown",
   "id": "0e083dd6-2356-4142-9a86-736687831fb4",
   "metadata": {},
   "source": [
    "\n",
    "<br>\n",
    "\n",
    "🔶 &nbsp;&nbsp;When you use the &nbsp;<code style=\"color: blue;\">print()</code>&nbsp; function to display the instance of the <code style=\"color: red;\">Person</code> class, the &nbsp;<code style=\"color: blue;\">print()</code>&nbsp; function shows the <strong>memory address</strong> of that instance.\n",
    "\n",
    "<br>\n",
    "\n",
    "🔶 &nbsp;&nbsp;Sometimes, it’s useful to have a string representation of an instance of a class. <br>\n",
    "&nbsp;&nbsp;&nbsp;&nbsp;&nbsp;&nbsp;&nbsp;&nbsp;To customize the string representation of a class instance, the class needs to implement the &nbsp;<code style=\"background-color: yellow; color: red;\">\\_\\_str__</code>&nbsp; magic method.\n",
    "\n",
    "<br>\n",
    "\n",
    "🔶 &nbsp;&nbsp;Internally, Python will call the &nbsp;<code style=\"background-color: yellow; color: red;\">\\_\\_str__</code>&nbsp; method automatically when an instance calls the &nbsp;<code style=\"color: red;\">str()</code>&nbsp; method.\n",
    "\n",
    "<br>\n",
    "\n",
    "🔶 &nbsp;&nbsp;Note that the &nbsp;<code style=\"color: blue;\">print()</code>&nbsp; function converts all non-keyword arguments to strings by passing them to the &nbsp;<code style=\"color: red;\">str()</code>&nbsp; before displaying the string values."
   ]
  },
  {
   "cell_type": "code",
   "execution_count": 10,
   "id": "12d6ffed-56d1-42e5-b4b8-3156161b8c6d",
   "metadata": {},
   "outputs": [],
   "source": [
    "\n",
    "class Person:\n",
    "    def __init__(self, first_name, last_name, age):\n",
    "        self.first_name = first_name\n",
    "        self.last_name = last_name\n",
    "        self.age = age\n",
    "\n",
    "    def __str__(self):\n",
    "        return f'Person({self.first_name},{self.last_name},{self.age})'\n"
   ]
  },
  {
   "cell_type": "markdown",
   "id": "1d66414c-856e-4775-ba87-3a9f4f370162",
   "metadata": {},
   "source": [
    "<br>\n",
    "\n",
    "And when you use the &nbsp;<code style=\"color: blue;\">print()</code>&nbsp; function to print out an instance of the &nbsp;<code style=\"color: red;\">Person</code>&nbsp; class, Python calls the &nbsp;<code style=\"background-color: yellow; color: red;\">\\_\\_str__</code>&nbsp; method defined in the &nbsp;<code style=\"color: red;\">Person</code>&nbsp; class. For example:\n"
   ]
  },
  {
   "cell_type": "code",
   "execution_count": 11,
   "id": "d900a5da-2760-490b-aab9-7d2f4a112c4f",
   "metadata": {},
   "outputs": [
    {
     "name": "stdout",
     "output_type": "stream",
     "text": [
      "Person(Avinash,Mishra,30)\n"
     ]
    }
   ],
   "source": [
    "\n",
    "person = Person('Avinash', 'Mishra', 30)\n",
    "print(person)\n"
   ]
  },
  {
   "cell_type": "markdown",
   "id": "42b97502-81c1-4c93-a2c2-1eff8ed34c53",
   "metadata": {},
   "source": [
    "<br>\n",
    "\n",
    "<span style=\"color: #DCBD10; font-size: 1.2rem;\">▬▬▬▬▬▬▬▬▬▬▬▬▬▬▬▬▬▬▬▬▬▬▬▬▬▬▬▬▬▬▬▬▬▬▬▬▬▬▬▬▬▬▬▬▬▬▬▬▬▬▬▬▬▬▬▬</span>\n"
   ]
  },
  {
   "cell_type": "markdown",
   "id": "d156a134-ac51-4e05-b445-bcbb2e7865e5",
   "metadata": {},
   "source": [
    "<br>\n",
    "\n",
    "### <span style=\"color: red;\">\\_\\_repr__</span>"
   ]
  },
  {
   "cell_type": "markdown",
   "id": "99567fb7-1e7e-4f0f-b2d9-5e8c181fb1f4",
   "metadata": {},
   "source": [
    "<br>\n",
    "\n",
    "<div style=\"background-color: #ffe6ce; padding-top: 13px; padding-bottom: 2px; padding-left: 15px; padding-right: 10px;\">\n",
    "\n",
    "&nbsp;&nbsp;<span style=\"font-size: 0.7rem; color: black;\">■</span>&nbsp;&nbsp;&nbsp;The &nbsp;<code style=\"background-color: yellow; color: red;\">\\_\\_repr__</code>&nbsp; method also returns the <span style=\"color: red;\">string representation of an object</span>. &nbsp;Typically it is used to provide the <span style=\"color: red;\"><strong>\"official\"</strong></span> representation of the object.\n",
    "\n",
    "&nbsp;&nbsp;<span style=\"font-size: 0.7rem; color: black;\">■</span>&nbsp;&nbsp;&nbsp;The &nbsp;<code style=\"background-color: white; color: red;\">\\_\\_str__</code>&nbsp; calls &nbsp;<code style=\"background-color: yellow; color: red;\">\\_\\_repr__</code>&nbsp; internally by default.\n",
    "\n",
    "</div>"
   ]
  },
  {
   "cell_type": "code",
   "execution_count": 13,
   "id": "5a408b5e-5b74-4a34-aaff-e006d9a1d505",
   "metadata": {},
   "outputs": [],
   "source": [
    "\n",
    "class Person:\n",
    "    def __init__(self, first_name, last_name, age):\n",
    "        self.first_name = first_name\n",
    "        self.last_name = last_name\n",
    "        self.age = age\n"
   ]
  },
  {
   "cell_type": "code",
   "execution_count": 14,
   "id": "601c1444-e6e4-4551-8da5-36bf3015b34e",
   "metadata": {},
   "outputs": [
    {
     "name": "stdout",
     "output_type": "stream",
     "text": [
      "<__main__.Person object at 0x000001AFC0CDAF10>\n"
     ]
    }
   ],
   "source": [
    "\n",
    "person = Person('Avinash', 'Mishra', 30)\n",
    "print(person)\n"
   ]
  },
  {
   "cell_type": "code",
   "execution_count": 15,
   "id": "423b4173-cc80-40db-9280-dc6ddc1bfd10",
   "metadata": {},
   "outputs": [],
   "source": [
    "\n",
    "class Person:\n",
    "    def __init__(self, first_name, last_name, age):\n",
    "        self.first_name = first_name\n",
    "        self.last_name = last_name\n",
    "        self.age = age\n",
    "\n",
    "    def __repr__(self):\n",
    "        return f'Person(\"{self.first_name}\",\"{self.last_name}\",{self.age})'\n"
   ]
  },
  {
   "cell_type": "code",
   "execution_count": 16,
   "id": "10eb7b87-663e-43ab-b5c1-4c9201c2a5df",
   "metadata": {},
   "outputs": [
    {
     "name": "stdout",
     "output_type": "stream",
     "text": [
      "Person(\"Avinash\",\"Mishra\",30)\n"
     ]
    }
   ],
   "source": [
    "\n",
    "\n",
    "person = Person('Avinash', 'Mishra', 30)\n",
    "print(person)\n"
   ]
  },
  {
   "cell_type": "markdown",
   "id": "6e6518b7-9cd0-48b0-88a2-7e4319511ff9",
   "metadata": {},
   "source": [
    "<br>\n",
    "\n",
    "🔶 &nbsp;&nbsp;If you execute the return string &nbsp;<code style=\"background-color: #cdffc7;\">Person(<span style=\"color: #cd140e;\">'Avinash'</span>, <span style=\"color: #cd140e;\">'Mishra'</span>, <span style=\"color: green;\">30</span>)</code>&nbsp;, it’ll return the person object.\n",
    "\n",
    "<br>\n",
    "\n",
    "<span style=\"color: #06fff0; font-size: 0.7rem;\">■■■■■■■■■■■■■■■■■■■■■■■■■■■■■■■■■■■■■■■■■■■■■■■■■■■■■■■■■■■■■■■■■■■■■■■■■■■■■■■■■■■■■■■■■■■■■■■■■■■■■■■■■■■■■■■</span>\n"
   ]
  },
  {
   "cell_type": "markdown",
   "id": "6fb5d125-4c61-4ca1-934c-8d3524075c5f",
   "metadata": {},
   "source": [
    "<br>\n",
    "\n",
    "<code style=\"background-color: yellow; color: red; font-size: 1.1rem; padding: 5px;\">\\_\\_str__</code>&nbsp;&nbsp;&nbsp;&nbsp;&nbsp;&nbsp;  <span style=\"font-size: 1.1rem;\">vs</span>  &nbsp;&nbsp;&nbsp;&nbsp;&nbsp;&nbsp;<code style=\"background-color: yellow; color: red; font-size: 1.1rem; padding: 5px;\">\\_\\_repr__</code>\n",
    "\n",
    "<br>\n",
    "\n",
    "The main difference between &nbsp;<code style=\"color: red;\">\\_\\_str__</code>&nbsp; and &nbsp;<code style=\"color: red;\">\\_\\_repr__</code>&nbsp; method is &nbsp;<strong>intended &nbsp;audiences</strong> .\n",
    "\n",
    "<br>\n",
    "\n",
    "| &nbsp;&nbsp;&nbsp;<code style=\"background-color: white; color: red; font-size: 1rem;\">\\_\\_str__</code> &nbsp;&nbsp;&nbsp;&nbsp;&nbsp;|&nbsp;<code style=\"background-color: white; color: red; font-size: 1rem;\">\\_\\_repr__</code>      &nbsp;&nbsp;&nbsp;&nbsp;&nbsp;&nbsp;&nbsp;&nbsp;&nbsp;|\n",
    "|----------|-----------------|\n",
    "| <br>returns a string representation of an object that is <span style=\"color: blue;\">human-readable</span><br>&nbsp;&nbsp; |returns a string representation of an object that is <span style=\"color: blue;\">machine-readable</span> |\n",
    "| used to provide a <span style=\"color: blue;\">\"nice\"</span> or <span style=\"color: blue;\">user-friendly</span> string representation of the object&nbsp;&nbsp;&nbsp; |<br>used to provide an <span style=\"color: blue;\">\"official\"</span> string representation of the object that can ideally <br>be used to recreate the object . <br><br>It is primarily meant for <strong>developers</strong> and <strong>debuggers</strong> . <br><br> |\n",
    "|<br><br>| <br>If only &nbsp;<code style=\"color: red;\">\\_\\_repr__</code>&nbsp; is defined and not &nbsp;<code style=\"color: red;\">\\_\\_str__</code>, calling &nbsp;<code style=\"color: red;\">str()</code>&nbsp; on the object will use the result of &nbsp;<code style=\"color: red;\">\\_\\_repr__</code> <br><br> |\n",
    "\n"
   ]
  },
  {
   "cell_type": "code",
   "execution_count": 20,
   "id": "983c4756-8ab2-4b54-8fcc-cb7af4fdd825",
   "metadata": {},
   "outputs": [
    {
     "name": "stdout",
     "output_type": "stream",
     "text": [
      "(John,Doe,25)\n",
      "Person(\"John\",\"Doe\",25)\n"
     ]
    }
   ],
   "source": [
    "\n",
    "class Person:\n",
    "    def __init__(self, first_name, last_name, age):\n",
    "        self.first_name = first_name\n",
    "        self.last_name = last_name\n",
    "        self.age = age\n",
    "\n",
    "    def __repr__(self):\n",
    "        return f'Person(\"{self.first_name}\",\"{self.last_name}\",{self.age})'\n",
    "\n",
    "    def __str__(self):\n",
    "        return f'({self.first_name},{self.last_name},{self.age})'\n",
    "\n",
    "\n",
    "person = Person('John', 'Doe', 25)\n",
    "\n",
    "print(person)                           # calls  \"str()\"   method          ======>         # OUTPUT: (John,Doe,25)\n",
    "print(repr(person))                     # calls  \"repr()\"  method          ======>         # OUTPUT:  Person(\"John\",\"Doe\",25)\n"
   ]
  },
  {
   "cell_type": "markdown",
   "id": "a1ae269c-822c-45e2-bc4c-fc836ef51163",
   "metadata": {},
   "source": [
    "<br>\n",
    "\n",
    "<span style=\"color: #DCBD10; font-size: 1.2rem;\">▬▬▬▬▬▬▬▬▬▬▬▬▬▬▬▬▬▬▬▬▬▬▬▬▬▬▬▬▬▬▬▬▬▬▬▬▬▬▬▬▬▬▬▬▬▬▬▬▬▬▬▬▬▬▬▬</span>\n"
   ]
  },
  {
   "cell_type": "markdown",
   "id": "8584dc96-4143-4155-ac02-18405a937ce9",
   "metadata": {
    "jp-MarkdownHeadingCollapsed": true
   },
   "source": [
    "\n",
    "<br>\n",
    "\n",
    "### <span style=\"color: red;\">\\_\\_eq__</span>"
   ]
  },
  {
   "cell_type": "code",
   "execution_count": 22,
   "id": "94205267-df95-4450-b590-29dd61fb5b6f",
   "metadata": {},
   "outputs": [
    {
     "name": "stdout",
     "output_type": "stream",
     "text": [
      "False\n",
      "False\n"
     ]
    }
   ],
   "source": [
    "\n",
    "class Person:\n",
    "    def __init__(self, first_name, last_name, age):\n",
    "        self.first_name = first_name\n",
    "        self.last_name = last_name\n",
    "        self.age = age\n",
    "\n",
    "\n",
    "john = Person('John', 'Doe', 25)\n",
    "jane = Person('Jane', 'Doe', 25)\n",
    "\n",
    "print(john is jane)                                       # False \n",
    "print(john == jane)                                       # False\n"
   ]
  },
  {
   "cell_type": "code",
   "execution_count": 23,
   "id": "5b8bf332-8d80-4a40-a16a-efd921184abc",
   "metadata": {},
   "outputs": [],
   "source": [
    "\n",
    "class Person:\n",
    "    def __init__(self, first_name, last_name, age):\n",
    "        self.first_name = first_name\n",
    "        self.last_name = last_name\n",
    "        self.age = age\n",
    "\n",
    "    def __eq__(self, other):\n",
    "        return self.age == other.age\n"
   ]
  },
  {
   "cell_type": "code",
   "execution_count": 24,
   "id": "2973be7a-42d6-46bc-81a5-baa706bfd136",
   "metadata": {},
   "outputs": [
    {
     "name": "stdout",
     "output_type": "stream",
     "text": [
      "False\n",
      "True\n"
     ]
    }
   ],
   "source": [
    "\n",
    "john = Person('John', 'Doe', 25)\n",
    "jane = Person('Jane', 'Doe', 25)\n",
    "print(john is jane)                                       # False\n",
    "print(john == jane)                                       # True\n"
   ]
  },
  {
   "cell_type": "code",
   "execution_count": 25,
   "id": "83596756-1e2e-453c-b169-828e4c446833",
   "metadata": {},
   "outputs": [
    {
     "ename": "AttributeError",
     "evalue": "'int' object has no attribute 'age'",
     "output_type": "error",
     "traceback": [
      "\u001b[1;31m---------------------------------------------------------------------------\u001b[0m",
      "\u001b[1;31mAttributeError\u001b[0m                            Traceback (most recent call last)",
      "Cell \u001b[1;32mIn[25], line 1\u001b[0m\n\u001b[1;32m----> 1\u001b[0m \u001b[38;5;28mprint\u001b[39m(\u001b[43mjohn\u001b[49m\u001b[43m \u001b[49m\u001b[38;5;241;43m==\u001b[39;49m\u001b[43m \u001b[49m\u001b[38;5;241;43m20\u001b[39;49m)                                        \u001b[38;5;66;03m# object comparison with an integer\u001b[39;00m\n",
      "Cell \u001b[1;32mIn[23], line 8\u001b[0m, in \u001b[0;36mPerson.__eq__\u001b[1;34m(self, other)\u001b[0m\n\u001b[0;32m      7\u001b[0m \u001b[38;5;28;01mdef\u001b[39;00m \u001b[38;5;21m__eq__\u001b[39m(\u001b[38;5;28mself\u001b[39m, other):\n\u001b[1;32m----> 8\u001b[0m     \u001b[38;5;28;01mreturn\u001b[39;00m \u001b[38;5;28mself\u001b[39m\u001b[38;5;241m.\u001b[39mage \u001b[38;5;241m==\u001b[39m \u001b[43mother\u001b[49m\u001b[38;5;241;43m.\u001b[39;49m\u001b[43mage\u001b[49m\n",
      "\u001b[1;31mAttributeError\u001b[0m: 'int' object has no attribute 'age'"
     ]
    }
   ],
   "source": [
    "\n",
    "print(john == 20)                                        # object comparison with an integer\n"
   ]
  },
  {
   "cell_type": "code",
   "execution_count": 26,
   "id": "68fda86b-1465-4f6f-83c8-7095be2b4291",
   "metadata": {},
   "outputs": [],
   "source": [
    "\n",
    "class Person:\n",
    "    def __init__(self, first_name, last_name, age):\n",
    "        self.first_name = first_name\n",
    "        self.last_name = last_name\n",
    "        self.age = age\n",
    "\n",
    "    def __eq__(self, other):\n",
    "        if isinstance(other, Person):\n",
    "            return self.age == other.age\n",
    "\n",
    "        return False\n"
   ]
  },
  {
   "cell_type": "code",
   "execution_count": 27,
   "id": "e6980c0e-7c8e-4a8a-bfb4-4c7f031f0b8c",
   "metadata": {},
   "outputs": [
    {
     "name": "stdout",
     "output_type": "stream",
     "text": [
      "False\n"
     ]
    }
   ],
   "source": [
    "\n",
    "john = Person('John', 'Doe', 25)\n",
    "print(john == 20)                                          # False                       # NO ERROR\n"
   ]
  },
  {
   "cell_type": "markdown",
   "id": "a220b0eb-39ab-4017-bc21-6d7f07906a48",
   "metadata": {},
   "source": [
    "<br>\n",
    "\n",
    "Putting it all together:\n"
   ]
  },
  {
   "cell_type": "code",
   "execution_count": 28,
   "id": "22b3f7e0-ae2b-4ed4-937e-175002eea0c2",
   "metadata": {},
   "outputs": [
    {
     "name": "stdout",
     "output_type": "stream",
     "text": [
      "True\n",
      "False\n",
      "False\n"
     ]
    }
   ],
   "source": [
    "\n",
    "class Person:\n",
    "    def __init__(self, first_name, last_name, age):\n",
    "        self.first_name = first_name\n",
    "        self.last_name = last_name\n",
    "        self.age = age\n",
    "\n",
    "    def __eq__(self, other):\n",
    "        if isinstance(other, Person):                  # if the object \"other\" belongs to the \"Person\" class\n",
    "            return self.age == other.age\n",
    "\n",
    "        return False\n",
    "\n",
    "\n",
    "john = Person('John', 'Doe', 25)\n",
    "jane = Person('Jane', 'Doe', 25)\n",
    "mary = Person('Mary', 'Doe', 27)\n",
    "\n",
    "print(john == jane)                  # True\n",
    "print(john == mary)                  # False\n",
    "\n",
    "\n",
    "john = Person('John', 'Doe', 25)\n",
    "print(john == 20)                    # False\n"
   ]
  },
  {
   "cell_type": "markdown",
   "id": "92b3c8ea-f8da-456d-8e6e-c915dc10788b",
   "metadata": {},
   "source": [
    "<br>\n",
    "\n",
    "SUMMARY :\n",
    "\n",
    "<div style=\"background-color: #ffe6ce;; padding-top: 5px; padding-bottom: 15px; padding-left: 15px;\"> <br>\n",
    "\n",
    " 🔶 &nbsp;&nbsp;Override the Python <code style=\"background-color: white; color: red;\">\\_\\_eq__</code> method to define the **equality logic** for <span style=\"color: blue;\">comparing two objects</span> using the equal operator ( <code style=\"background-color: white; color: red;\">==</code> )\n",
    "    \n",
    "</div>\n"
   ]
  },
  {
   "cell_type": "markdown",
   "id": "6f7a9428-8498-4c12-bbf7-a54a95d83b60",
   "metadata": {},
   "source": [
    "<br>\n",
    "\n",
    "<span style=\"color: #DCBD10; font-size: 1.2rem;\">▬▬▬▬▬▬▬▬▬▬▬▬▬▬▬▬▬▬▬▬▬▬▬▬▬▬▬▬▬▬▬▬▬▬▬▬▬▬▬▬▬▬▬▬▬▬▬▬▬▬▬▬▬▬▬▬</span>\n"
   ]
  },
  {
   "cell_type": "markdown",
   "id": "aa8fe597-b92f-4e5a-8dfb-d5919597ccf4",
   "metadata": {},
   "source": [
    "<br>\n",
    "\n",
    "### <span style=\"color: red;\">\\_\\_hash__</span>"
   ]
  },
  {
   "cell_type": "code",
   "execution_count": 29,
   "id": "639f6adc-209b-4945-903f-eb02cf190626",
   "metadata": {},
   "outputs": [
    {
     "name": "stdout",
     "output_type": "stream",
     "text": [
      "115897873141\n",
      "115897496941\n"
     ]
    }
   ],
   "source": [
    "\n",
    "class Person:\n",
    "    def __init__(self, name, age):\n",
    "        self.name = name\n",
    "        self.age = age\n",
    "\n",
    "p1 = Person('John', 22)\n",
    "p2 = Person('Jane', 22)\n",
    "\n",
    "print(hash(p1))                        # p1.__hash__()\n",
    "print(hash(p2))                        # p2.__hash__()\n"
   ]
  },
  {
   "cell_type": "code",
   "execution_count": 30,
   "id": "f6c66d9c-af53-4896-9c9a-70e27814e3d3",
   "metadata": {},
   "outputs": [
    {
     "name": "stdout",
     "output_type": "stream",
     "text": [
      "115897873141\n",
      "115897496941\n"
     ]
    }
   ],
   "source": [
    "\n",
    "print(p1.__hash__())\n",
    "print(p2.__hash__())\n"
   ]
  },
  {
   "cell_type": "markdown",
   "id": "2bcee04f-9a0b-465e-9ba0-d4c636e13d91",
   "metadata": {},
   "source": [
    "<br>\n",
    "\n",
    "By default, the <span style=\"color: red;\">\\_\\_hash__</span> uses the <span style=\"color: blue;\">object’s identity</span> and the <span style=\"color: red;\">\\_\\_eq__</span> returns <span style=\"color: blue;\">True</span> <u>if two objects are the same</u>. \n",
    "\n",
    "<br>\n",
    "\n",
    "To override this default behavior, you can override the <span style=\"color: red;\">\\_\\_eq__</span> and <span style=\"color: red;\">\\_\\_hash__</span>\n",
    "\n",
    "<br>\n",
    "\n",
    "If a class overrides the <span style=\"color: red;\">\\_\\_eq__</span> method, <u>the objects of the class become <strong>unhashable</strong></u>. This means that you won’t able to use the objects in a mapping type. For example, you will not able to use them as keys in a dictionary or elements in a set.\n",
    "\n",
    "<br>"
   ]
  },
  {
   "cell_type": "code",
   "execution_count": 31,
   "id": "f1e0c731-65c5-40ec-b0ef-1f9d49b4a25e",
   "metadata": {},
   "outputs": [],
   "source": [
    "\n",
    "class Person:\n",
    "    def __init__(self, name, age):\n",
    "        self.name = name\n",
    "        self.age = age\n",
    "\n",
    "    def __eq__(self, other):\n",
    "        return isinstance(other, Person) and self.age == other.age\n"
   ]
  },
  {
   "cell_type": "markdown",
   "id": "b1488ef8-3366-4836-89e0-209fc89b99f9",
   "metadata": {},
   "source": [
    "\n",
    "<br>\n",
    "\n",
    "Now that <span style=\"color: red;\">\\_\\_eq__</span> is overridden, the mapping below will give <strong>\"unhashable\"</strong> error:"
   ]
  },
  {
   "cell_type": "code",
   "execution_count": 33,
   "id": "8d2ca145-4c86-4f6d-bea1-2cf48a212dea",
   "metadata": {},
   "outputs": [
    {
     "ename": "TypeError",
     "evalue": "unhashable type: 'Person'",
     "output_type": "error",
     "traceback": [
      "\u001b[1;31m---------------------------------------------------------------------------\u001b[0m",
      "\u001b[1;31mTypeError\u001b[0m                                 Traceback (most recent call last)",
      "Cell \u001b[1;32mIn[33], line 1\u001b[0m\n\u001b[1;32m----> 1\u001b[0m members \u001b[38;5;241m=\u001b[39m {\n\u001b[0;32m      2\u001b[0m     Person(\u001b[38;5;124m'\u001b[39m\u001b[38;5;124mJohn\u001b[39m\u001b[38;5;124m'\u001b[39m, \u001b[38;5;241m22\u001b[39m),\n\u001b[0;32m      3\u001b[0m     Person(\u001b[38;5;124m'\u001b[39m\u001b[38;5;124mJane\u001b[39m\u001b[38;5;124m'\u001b[39m, \u001b[38;5;241m22\u001b[39m)\n\u001b[0;32m      4\u001b[0m }\n",
      "\u001b[1;31mTypeError\u001b[0m: unhashable type: 'Person'"
     ]
    }
   ],
   "source": [
    "\n",
    "members = {\n",
    "    Person('John', 22),\n",
    "    Person('Jane', 22)\n",
    "}\n"
   ]
  },
  {
   "cell_type": "markdown",
   "id": "d3d76a68-be6e-4334-bd46-e9cace7d22c6",
   "metadata": {},
   "source": [
    "<br>\n",
    "\n",
    "Also, <span style=\"color: blue;\">the Person’s object loses hashing</span> because if you implement <span style=\"color: red;\">\\_\\_eq__</span>, the <span style=\"color: red;\">\\_\\_hash__</span> is set to <strong>None</strong>. For example:"
   ]
  },
  {
   "cell_type": "code",
   "execution_count": 34,
   "id": "2bf3bab1-152d-4d8f-a134-84c2ccf548d2",
   "metadata": {},
   "outputs": [
    {
     "ename": "TypeError",
     "evalue": "unhashable type: 'Person'",
     "output_type": "error",
     "traceback": [
      "\u001b[1;31m---------------------------------------------------------------------------\u001b[0m",
      "\u001b[1;31mTypeError\u001b[0m                                 Traceback (most recent call last)",
      "Cell \u001b[1;32mIn[34], line 1\u001b[0m\n\u001b[1;32m----> 1\u001b[0m \u001b[38;5;28;43mhash\u001b[39;49m\u001b[43m(\u001b[49m\u001b[43mPerson\u001b[49m\u001b[43m(\u001b[49m\u001b[38;5;124;43m'\u001b[39;49m\u001b[38;5;124;43mJohn\u001b[39;49m\u001b[38;5;124;43m'\u001b[39;49m\u001b[43m,\u001b[49m\u001b[43m \u001b[49m\u001b[38;5;241;43m22\u001b[39;49m\u001b[43m)\u001b[49m\u001b[43m)\u001b[49m\n",
      "\u001b[1;31mTypeError\u001b[0m: unhashable type: 'Person'"
     ]
    }
   ],
   "source": [
    "\n",
    "hash(Person('John', 22))\n"
   ]
  },
  {
   "cell_type": "markdown",
   "id": "fdc089d6-8274-4de4-add5-637f8540da19",
   "metadata": {},
   "source": [
    "<br>\n",
    "\n",
    "To make the <code>Person</code> class hashable, you also need to override the <span style=\"color: red;\">\\_\\_hash__</span> method:"
   ]
  },
  {
   "cell_type": "code",
   "execution_count": 35,
   "id": "56bba007-49fd-4b4d-825d-fef975848270",
   "metadata": {},
   "outputs": [],
   "source": [
    "\n",
    "class Person:\n",
    "    def __init__(self, name, age):\n",
    "        self.name = name\n",
    "        self.age = age\n",
    "\n",
    "    def __eq__(self, other):\n",
    "        return isinstance(other, Person) and self.age == other.age\n",
    "\n",
    "    def __hash__(self):\n",
    "        return hash(self.age)\n"
   ]
  },
  {
   "cell_type": "markdown",
   "id": "d1c10139-d2c1-42a1-a86b-6f2996351284",
   "metadata": {},
   "source": [
    "<br>\n",
    "\n",
    "Now, you have the <code>Person</code> class that supports equality based on <code>age</code> and is <strong>hashable</strong>.\n"
   ]
  },
  {
   "cell_type": "code",
   "execution_count": 36,
   "id": "b6c72740-e155-4faa-9ca4-8457d6ceda15",
   "metadata": {},
   "outputs": [],
   "source": [
    "\n",
    "# NO ERROR\n",
    "\n",
    "members = {\n",
    "    Person('John', 22),\n",
    "    Person('Jane', 22)\n",
    "}\n"
   ]
  },
  {
   "cell_type": "code",
   "execution_count": 37,
   "id": "806cec6a-b010-4f44-80e0-6c4cc140cbc8",
   "metadata": {},
   "outputs": [
    {
     "data": {
      "text/plain": [
       "22"
      ]
     },
     "execution_count": 37,
     "metadata": {},
     "output_type": "execute_result"
    }
   ],
   "source": [
    "\n",
    "# NO ERROR\n",
    "\n",
    "hash(Person('John', 22))\n"
   ]
  },
  {
   "cell_type": "markdown",
   "id": "00962852-9b9d-4574-8371-082f1b8ddba0",
   "metadata": {},
   "source": [
    "<br>\n",
    "\n",
    "To make the <code>Person</code> work well in data structures like <span style=\"color: blue;\">dictionaries</span>, the hash of the class should remain <strong>immutable</strong>. To do it, you can make the <code>age</code> attribute of the Person class a **<span style=\"color: blue;\">read-only property</span>** :"
   ]
  },
  {
   "cell_type": "code",
   "execution_count": 38,
   "id": "c5a4e6c6-1894-4503-91df-5df2f286af9e",
   "metadata": {},
   "outputs": [],
   "source": [
    "\n",
    "class Person:\n",
    "    def __init__(self, name, age):\n",
    "        self.name = name\n",
    "        self._age = age\n",
    "\n",
    "    @property\n",
    "    def age(self):\n",
    "        return self._age\n",
    "\n",
    "    def __eq__(self, other):\n",
    "        return isinstance(other, Person) and self.age == other.age\n",
    "\n",
    "    def __hash__(self):\n",
    "        return hash(self.age)\n"
   ]
  },
  {
   "cell_type": "markdown",
   "id": "3d22090c-cddf-43bc-9f7d-1606ddd02158",
   "metadata": {},
   "source": [
    "<br>\n",
    "\n",
    "SUMMARY :\n",
    "\n",
    "<div style=\"background-color: #ffe6ce;; padding-top: 10px; padding-bottom: 10px; padding-left: 15px;\"> <br>\n",
    "\n",
    " 🔶 &nbsp;&nbsp;By default, <span style=\"background-color: white; padding: 7px;\"> &nbsp;<code style=\"color: red; padding: 2px;\">\\_\\_hash__</code>&nbsp; uses the <code style=\"color: blue; padding: 2px;\"> id </code> of objects&nbsp;</span> &nbsp;and&nbsp; <span style=\"background-color: white; padding: 7px;\">&nbsp;<code style=\"color: red; padding: 2px;\">\\_\\_eq__</code>&nbsp; uses the <code style=\"color: blue; padding: 2px;\"> is </code> operator for comparisons&nbsp;</span>\n",
    "\n",
    "<br>\n",
    "\n",
    " 🔶 &nbsp;&nbsp;If you override <span style=\"background-color: white; color: red; padding: 2px;\">\\_\\_eq__</span> , Python sets &nbsp;<span style=\"background-color: white; color: red; padding: 2px;\">\\_\\_hash__</span>&nbsp; to &nbsp;<span style=\"background-color: white; color: blue; padding: 2px;\">&nbsp;None&nbsp;</span>&nbsp; thus making it <strong>unhashable</strong> unless you override <span style=\"background-color: white; color: red; padding: 2px;\">\\_\\_hash__</span> to make it <strong>hashable</strong> again\n",
    "    \n",
    "</div>\n",
    "\n",
    "<br>"
   ]
  },
  {
   "cell_type": "markdown",
   "id": "e68abfa0-f9d0-40bb-9c25-85682e480c45",
   "metadata": {},
   "source": [
    "<br>\n",
    "\n",
    "<span style=\"color: #DCBD10; font-size: 1.2rem;\">▬▬▬▬▬▬▬▬▬▬▬▬▬▬▬▬▬▬▬▬▬▬▬▬▬▬▬▬▬▬▬▬▬▬▬▬▬▬▬▬▬▬▬▬▬▬▬▬▬▬▬▬▬▬▬▬</span>\n"
   ]
  },
  {
   "cell_type": "markdown",
   "id": "d74daf89-6250-4505-b4bf-9e08c5d441de",
   "metadata": {},
   "source": [
    "<br>\n",
    "\n",
    "### <span style=\"color: red;\">\\_\\_bool__</span>"
   ]
  },
  {
   "cell_type": "code",
   "execution_count": 40,
   "id": "d5366c2a-2574-4336-9d69-4d8a52b43f99",
   "metadata": {},
   "outputs": [],
   "source": [
    "\n",
    "class Person:\n",
    "    def __init__(self, name, age):\n",
    "        self.name = name\n",
    "        self.age = age\n",
    "\n",
    "\n",
    "person = Person('John', 25)\n"
   ]
  },
  {
   "cell_type": "markdown",
   "id": "f1dee834-a6ae-4e49-8402-0d725da24cc8",
   "metadata": {},
   "source": [
    "<br>\n",
    "\n",
    "<span style=\"color: #d05cff;\">Suppose that you want the person object to evaluate <span style=\"color: red;\">False</span> if the <code>age</code> of a person is under 18 or above 65:</span>\n",
    "\n",
    "<br>"
   ]
  },
  {
   "cell_type": "code",
   "execution_count": 41,
   "id": "55d9d00b-a9c2-4d8c-9cfa-e08a7890d76d",
   "metadata": {},
   "outputs": [
    {
     "name": "stdout",
     "output_type": "stream",
     "text": [
      "False\n"
     ]
    }
   ],
   "source": [
    "\n",
    "class Person:\n",
    "    def __init__(self, name, age):\n",
    "        self.name = name\n",
    "        self.age = age\n",
    "\n",
    "    def __bool__(self):\n",
    "        if self.age < 18 or self.age > 65:\n",
    "            return False\n",
    "        return True\n",
    "\n",
    "\n",
    "person = Person('Jane', 16)\n",
    "print(bool(person))                          # False\n"
   ]
  },
  {
   "cell_type": "markdown",
   "id": "52ba8828-0b2a-4cd8-9426-9fccefda77bc",
   "metadata": {},
   "source": [
    "<br>\n",
    "\n",
    "<span style=\"font-size: 1rem;\"><strong>The &nbsp;<span style=\"color: red;\">\\_\\_len__</span>&nbsp; method</strong></span>\n",
    "\n",
    "&nbsp;&nbsp;&nbsp;&nbsp;&nbsp;&nbsp;&nbsp;&nbsp;<span style=\"font-size: 0.6rem; color: red;\">■</span>&nbsp;&nbsp;&nbsp;&nbsp;If a custom class doesn’t have the <code style=\"color: red;\">\\_\\_bool__()</code> method, Python will look for the <code style=\"color: red;\">\\_\\_len__()</code> method. <br>\n",
    "&nbsp;&nbsp;&nbsp;&nbsp;&nbsp;&nbsp;&nbsp;&nbsp;&nbsp;&nbsp;&nbsp;&nbsp;&nbsp;&nbsp;If the <code style=\"color: red;\">\\_\\_len__()</code> is zero, the object is <span style=\"color: blue;\">False</span>. &nbsp;&nbsp;Otherwise, it’s <span style=\"color: blue;\">True</span>.\n",
    "\n",
    "&nbsp;&nbsp;&nbsp;&nbsp;&nbsp;&nbsp;&nbsp;&nbsp;<span style=\"font-size: 0.6rem; color: red;\">■</span>&nbsp;&nbsp;&nbsp;&nbsp;If a class doesn’t implement the <code style=\"color: red;\">\\_\\_bool__()</code> and <code style=\"color: red;\">\\_\\_len__()</code> methods, the objects of the class will evaluate to <span style=\"color: blue;\">True</span>.\n",
    "\n",
    "<br>"
   ]
  },
  {
   "cell_type": "code",
   "execution_count": 42,
   "id": "8bc3459f-bd9a-43cf-97ce-ed61baafeb24",
   "metadata": {},
   "outputs": [
    {
     "name": "stdout",
     "output_type": "stream",
     "text": [
      "len was called...\n",
      "False\n",
      "len was called...\n",
      "True\n"
     ]
    }
   ],
   "source": [
    "\n",
    "class Payroll:\n",
    "    def __init__(self, length):\n",
    "        self.length = length\n",
    "\n",
    "    def __len__(self):\n",
    "        print('len was called...')\n",
    "        return self.length\n",
    "\n",
    "\n",
    "payroll = Payroll(0)\n",
    "print(bool(payroll))                  # False\n",
    "\n",
    "payroll.length = 10\n",
    "print(bool(payroll))                  # True\n"
   ]
  },
  {
   "cell_type": "markdown",
   "id": "2c99de90-2e1d-4d5d-b6ab-d1ca804ad713",
   "metadata": {},
   "source": [
    "<br>\n",
    "\n",
    "<span style=\"color: #d05cff;\">Since the <code>Payroll</code> class doesn’t override the <code style=\"color: red;\">\\_\\_bool__()</code> method, Python looks for the <code style=\"color: red;\">\\_\\_len__()</code> method when evaluating the boolean value.</span>\n"
   ]
  },
  {
   "cell_type": "code",
   "execution_count": 43,
   "id": "de8a1fdb-fcf3-4139-afc6-d5f9fa3f3f3a",
   "metadata": {},
   "outputs": [
    {
     "name": "stdout",
     "output_type": "stream",
     "text": [
      "len was called...\n",
      "False\n"
     ]
    }
   ],
   "source": [
    "\n",
    "payroll = Payroll(0)\n",
    "print(bool(payroll))                   # False\n"
   ]
  },
  {
   "cell_type": "code",
   "execution_count": 44,
   "id": "969399bd-115f-4305-8ccd-2b6e5c9d2152",
   "metadata": {},
   "outputs": [
    {
     "name": "stdout",
     "output_type": "stream",
     "text": [
      "len was called...\n",
      "True\n"
     ]
    }
   ],
   "source": [
    "\n",
    "payroll.length = 10\n",
    "print(bool(payroll))                   # True\n"
   ]
  },
  {
   "cell_type": "markdown",
   "id": "91d8b24e-eceb-445f-aba6-20438b4485f9",
   "metadata": {},
   "source": [
    "<br>\n",
    "\n",
    "SUMMARY :\n",
    "\n",
    "<div style=\"background-color: #ffe6ce;; padding-top: 25px; padding-bottom: 10px; padding-left: 15px;\">\n",
    "\n",
    " 🔶 &nbsp;&nbsp;The <code style=\"background-color: white; color: red;\">\\_\\_bool__()</code> method returns either <code style=\"background-color: white; color: blue;\"> True </code> or <code style=\"background-color: white; color: blue;\"> False </code>. So even if override it, it should return <code style=\"background-color: white; color: blue;\"> True </code> or <code style=\"background-color: white; color: blue;\"> False </code> only.\n",
    "\n",
    "    \n",
    " 🔶 &nbsp;&nbsp;By default, All objects of custom classes return <code style=\"background-color: white; color: blue;\"> True </code> by default.\n",
    "\n",
    "    \n",
    " 🔶 &nbsp;&nbsp;If a class doesn’t implement the <code style=\"background-color: white; color: red;\">\\_\\_bool__()</code> method, Python will use the result of the <code style=\"background-color: white; color: red;\">\\_\\_len__()</code> method. <br>\n",
    "&nbsp;&nbsp;&nbsp;&nbsp;&nbsp;&nbsp;&nbsp;&nbsp;If the class doesn’t implement both methods, the objects will be <code style=\"background-color: white; color: blue;\"> True </code> by default.\n",
    "    \n",
    "</div>\n",
    "\n",
    "<br>"
   ]
  },
  {
   "cell_type": "markdown",
   "id": "b0b2a101-19e3-4743-a708-ab84d5d680ec",
   "metadata": {},
   "source": [
    "<br>\n",
    "\n",
    "<span style=\"color: #DCBD10; font-size: 1.2rem;\">▬▬▬▬▬▬▬▬▬▬▬▬▬▬▬▬▬▬▬▬▬▬▬▬▬▬▬▬▬▬▬▬▬▬▬▬▬▬▬▬▬▬▬▬▬▬▬▬▬▬▬▬▬▬▬▬</span>\n"
   ]
  },
  {
   "cell_type": "markdown",
   "id": "77e29d18-ce25-44f3-a99a-d1e21d9af35d",
   "metadata": {},
   "source": [
    "<br>\n",
    "\n",
    "### <span style=\"color: red;\">\\_\\_del__</span>"
   ]
  },
  {
   "cell_type": "markdown",
   "id": "a7281471-9957-488e-89d6-8e74e097b31f",
   "metadata": {},
   "source": [
    "<br>\n",
    "\n",
    "&nbsp;&nbsp;&nbsp;&nbsp;<span style=\"font-size: 0.7rem; color: black;\">🔶</span>&nbsp;&nbsp;&nbsp;&nbsp;&nbsp;Python calls the <code style=\"color: red;\">\\_\\_del__</code> method <u>right before the <span style=\"color: blue;\">**garbage collector**</span> destroys the object</u>.\n",
    "\n",
    "<br>\n",
    "\n",
    "&nbsp;&nbsp;&nbsp;&nbsp;<span style=\"font-size: 0.7rem; color: black;\">🔶</span>&nbsp;&nbsp;&nbsp;&nbsp;&nbsp;In Python, the <span style=\"color: blue;\">**garbage collector**</span> manages memory automatically. &nbsp;The <span style=\"color: blue;\">**garbage collector**</span> destroys the objects that are not <span style=\"color: blue;\">referenced</span>. <br>\n",
    "&nbsp;&nbsp;&nbsp;&nbsp;&nbsp;&nbsp;&nbsp;&nbsp;&nbsp;&nbsp;&nbsp;&nbsp;&nbsp;However if the <code style=\"color: red;\">\\_\\_del__</code> references the global objects, it may create unexpected behaviors, even exceptions.\n",
    "\n",
    "<br>\n",
    "\n",
    "&nbsp;&nbsp;&nbsp;&nbsp;<span style=\"font-size: 0.7rem; color: black;\">🔶</span>&nbsp;&nbsp;&nbsp;&nbsp;&nbsp;<strong>Exception</strong> occurs inside the <code style=\"color: red;\">\\_\\_del__</code> method is <span style=\"color: #06b621;\">not raised but kept silent</span>. <br>\n",
    "&nbsp;&nbsp;&nbsp;&nbsp;&nbsp;&nbsp;&nbsp;&nbsp;&nbsp;&nbsp;&nbsp;&nbsp;&nbsp;Also, Python sends the exception message to the **stderr**. Therefore, the main program will be able to be aware of the exceptions during the finalization.\n",
    "\n",
    "<br>\n",
    "\n",
    "&nbsp;&nbsp;&nbsp;&nbsp;<span style=\"font-size: 0.7rem; color: black;\">🔶</span>&nbsp;&nbsp;&nbsp;&nbsp;&nbsp;Python calls the <code style=\"color: red;\">\\_\\_del__</code> method when all object references are gone. And you cannot control it in most cases. <br>\n",
    "&nbsp;&nbsp;&nbsp;&nbsp;&nbsp;&nbsp;&nbsp;&nbsp;&nbsp;&nbsp;&nbsp;&nbsp;&nbsp;Therefore avoid using <code style=\"color: red;\">\\_\\_del__</code> for cleaingn up resources; use the <span style=\"color: blue;\">**context manager**</span> instead.\n",
    "\n",
    "<br>\n",
    "\n",
    "&nbsp;&nbsp;&nbsp;&nbsp;<span style=\"font-size: 0.7rem; color: black;\">🔶</span>&nbsp;&nbsp;&nbsp;&nbsp;&nbsp;The <code style=\"color: red;\">\\_\\_del__</code> is sometimes referred to as a class finalizer. <br>\n",
    "&nbsp;&nbsp;&nbsp;&nbsp;&nbsp;&nbsp;&nbsp;&nbsp;&nbsp;&nbsp;&nbsp;&nbsp;&nbsp;Note that <code style=\"color: red;\">\\_\\_del__</code> is <span style=\"color: blue;\">not the **destructor**</span> because the <span style=\"color: blue;\">**garbage collector**</span> destroys the object, not the <code style=\"color: red;\">\\_\\_del__</code> method.\n",
    "\n",
    "<br>\n",
    "\n",
    "&nbsp;&nbsp;&nbsp;&nbsp;<span style=\"font-size: 0.7rem; color: black;\">🔶</span>&nbsp;&nbsp;&nbsp;&nbsp;&nbsp;Generally, you can use <code style=\"color: red; background-color: #c1ffb5;\">del</code> keyword also to free a space. <br>\n",
    "&nbsp;&nbsp;&nbsp;&nbsp;&nbsp;&nbsp;&nbsp;&nbsp;&nbsp;&nbsp;&nbsp;&nbsp;&nbsp;However, the <code style=\"color: red; background-color: #c1ffb5;\">del</code> statement doesn’t cause a call to the <code style=\"color: red;\">\\_\\_del__</code> method if the object has a reference.\n",
    "\n",
    "<br>"
   ]
  },
  {
   "cell_type": "code",
   "execution_count": 45,
   "id": "c3e1560b-d562-410d-b6fb-eae50325414f",
   "metadata": {},
   "outputs": [
    {
     "name": "stdout",
     "output_type": "stream",
     "text": [
      "__del__ was called\n"
     ]
    }
   ],
   "source": [
    "\n",
    "class Person:\n",
    "    def __init__(self, name, age):\n",
    "        self.name = name\n",
    "        self.age = age\n",
    "\n",
    "    def __del__(self):\n",
    "        print('__del__ was called')\n",
    "\n",
    "\n",
    "person = Person('John Doe', 23)\n",
    "person = None\n"
   ]
  },
  {
   "cell_type": "markdown",
   "id": "34951b1e-8354-4eeb-8178-2fa85ec44d55",
   "metadata": {},
   "source": [
    "<br>\n",
    "\n",
    "<span style=\"color: #d05cff;\">When we set the <code>person</code> object to <code style=\"color: blue;\">None</code>, the garbage collector destroys it because there is no reference. Therefore, the <code style=\"color: red;\">\\_\\_del__</code> method was called.</span>\n",
    "\n",
    "<br>\n",
    "\n",
    "<span style=\"color: #d05cff;\">If you use the <code style=\"color: red; background-color: #c1ffb5;\">del</code> keyword to delete the person object, the <code style=\"color: red;\">\\_\\_del__</code> method is also called :</span>\n",
    "\n",
    "<br>"
   ]
  },
  {
   "cell_type": "code",
   "execution_count": 46,
   "id": "0f06c7f4-f372-447a-bea8-de3f41afc803",
   "metadata": {},
   "outputs": [
    {
     "name": "stdout",
     "output_type": "stream",
     "text": [
      "__del__ was called\n"
     ]
    }
   ],
   "source": [
    "\n",
    "person = Person('John Doe', 23)\n",
    "del person\n"
   ]
  },
  {
   "cell_type": "markdown",
   "id": "0f6fa47f-79b8-4492-af95-dc7c18067e73",
   "metadata": {},
   "source": [
    "<br>\n",
    "\n",
    "<span style=\"color: #d05cff;\">However, the <code style=\"color: red;\">del</code> statement doesn’t cause a call to the <code style=\"color: red;\">\\_\\_del__</code> method if the object has a reference.</span>\n",
    "\n",
    "<br>"
   ]
  },
  {
   "cell_type": "code",
   "execution_count": 47,
   "id": "c2a83ea0-8b0e-4d6b-a046-3d6e0cd119ef",
   "metadata": {},
   "outputs": [],
   "source": [
    "\n",
    "person = Person('John Doe', 23)\n",
    "john = person\n",
    "\n",
    "del person\n"
   ]
  },
  {
   "cell_type": "markdown",
   "id": "62c5d1d8-2a92-4216-8f43-eacdc178c67a",
   "metadata": {},
   "source": [
    "<br>\n",
    "\n",
    "<span style=\"color: #d05cff;\">Since the object <code>person</code> has a reference in the variable <code>john</code>, therefore the command <code style=\"padding: 5px;\"><span style=\"color: #23d005;\"><strong>del</strong></span> person</code> din't invoke <code style=\"color: red;\">\\_\\_del__()</code> method here.</span>"
   ]
  },
  {
   "cell_type": "markdown",
   "id": "41eb2efc-3c11-4048-a6a5-849e715275b0",
   "metadata": {},
   "source": [
    "<br>\n",
    "\n",
    "<span style=\"color: #DCBD10; font-size: 1.2rem;\">▬▬▬▬▬▬▬▬▬▬▬▬▬▬▬▬▬▬▬▬▬▬▬▬▬▬▬▬▬▬▬▬▬▬▬▬▬▬▬▬▬▬▬▬▬▬▬▬▬▬▬▬▬▬▬▬</span>\n"
   ]
  },
  {
   "cell_type": "code",
   "execution_count": null,
   "id": "81b0ce1a-007f-411a-85f1-fd3f66fa67b6",
   "metadata": {},
   "outputs": [],
   "source": []
  }
 ],
 "metadata": {
  "kernelspec": {
   "display_name": "Python 3 (ipykernel)",
   "language": "python",
   "name": "python3"
  },
  "language_info": {
   "codemirror_mode": {
    "name": "ipython",
    "version": 3
   },
   "file_extension": ".py",
   "mimetype": "text/x-python",
   "name": "python",
   "nbconvert_exporter": "python",
   "pygments_lexer": "ipython3",
   "version": "3.11.3"
  }
 },
 "nbformat": 4,
 "nbformat_minor": 5
}
