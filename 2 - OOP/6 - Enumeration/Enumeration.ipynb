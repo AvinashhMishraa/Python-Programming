{
 "cells": [
  {
   "cell_type": "markdown",
   "id": "0f379e84-79f6-4de6-a7d7-3c5591a4867d",
   "metadata": {
    "jp-MarkdownHeadingCollapsed": true
   },
   "source": [
    "<br>\n",
    "\n",
    "## Enumeration"
   ]
  },
  {
   "cell_type": "markdown",
   "id": "cc5c51ef-9719-4bec-9e34-528527954878",
   "metadata": {},
   "source": [
    "<br><br>\n",
    "\n",
    "<div style=\"color: white; background-color: #af87ff; padding: 5px;\"> <span style=\"font-size: 1.2rem;\">&nbsp;<strong>Definition</strong></span> </div>\n",
    "\n",
    "<br>\n",
    "\n",
    "<span style=\"margin-left: 30px;\">An <strong>enumeration</strong> is a set of members that have associated <span style=\"color: red;\">unique constant values</span> to represent a collection of constant values that are conceptually related.</span>\n",
    "\n",
    "<br><br>\n",
    "\n",
    "<div style=\"color: white; background-color: #af87ff; padding: 5px;\"> <span style=\"font-size: 1.2rem;\">&nbsp;<strong>Introduction to the Python Enumeration</strong></div>\n",
    "\n",
    "<br>\n",
    "\n",
    "<div style=\"margin-left: 30px;\">\n",
    "    \n",
    "An <strong>Enum</strong> <span style=\"font-size: 1rem;\">(</span>&nbsp;<strong>Enumeration</strong>&nbsp;<span style=\"font-size: 1rem;\">)</span> is a distinct data type consisting of a set of named values called <span style=\"color: red;\">members</span>.\n",
    "\n",
    "<span style=\"background-color: #fff7c9;\">Enums can be used to define a <span style=\"color: red;\">fixed set of possible values</span> for a variable, making code more predictable and type-safe</span> . &nbsp;For example, <u>days of the week</u> , <u>colors</u> , or <u>states of a traffic light</u> are good candidates for Enums.\n",
    "\n",
    "In other words, Enums make your code more descriptive and reduce the chances of errors by ensuring that <span style=\"background-color: #fff7c9;\">only specific values can be used</span>\n",
    "</div>\n",
    "\n",
    "<br><br>\n",
    "\n",
    "<div style=\"color: white; background-color: #af87ff; padding: 5px;\"> <span style=\"font-size: 1.2rem;\">&nbsp;<strong>Benefits of Using Enums</strong></div>\n",
    "\n",
    "<div style=\"margin-left: 18px;\">\n",
    "\n",
    "1. &nbsp;&nbsp;<span style=\"color: red;\">Code Readability</span> &nbsp;➜&nbsp;&nbsp; Using Enums makes your code more readable and expressive by replacing hard-coded values with meaningful names.\n",
    "2. &nbsp;&nbsp;<span style=\"color: red;\">Validation</span> &nbsp;&nbsp;&nbsp;&nbsp;&nbsp;&nbsp;&nbsp;&nbsp;&nbsp;&nbsp;&nbsp;&nbsp;➜&nbsp;&nbsp; Enums restrict the value of a variable to predefined options, reducing the chances of invalid data.\n",
    "3. &nbsp;&nbsp;<span style=\"color: red;\">Maintainability</span>  &nbsp;&nbsp;&nbsp;&nbsp;➜&nbsp;&nbsp; If you need to update or add possible values, you do it in one place without changing the rest of the code.\n",
    "4. &nbsp;&nbsp;<span style=\"color: red;\">Type Safety</span> &nbsp;&nbsp;&nbsp;&nbsp;&nbsp;&nbsp;&nbsp;&nbsp;&nbsp;➜&nbsp;&nbsp; Enums help prevent bugs by restricting a variable to accept only the values that are part of the Enum.\n",
    "\n",
    "</div>\n",
    "\n",
    "<br><br>\n",
    "\n",
    "<div style=\"color: white; background-color: #af87ff; padding: 5px;\"> <span style=\"font-size: 1.2rem;\">&nbsp;<strong>Creating an Enum</strong></div>\n",
    "\n",
    "<br>\n",
    "\n",
    "<div style=\"margin-left: 32px;\">\n",
    "In Python, Enums are created using the <code style=\"background-color: yellow;\">Enum</code> class from the <code style=\"background-color: yellow;\">enum</code> module. To put it more clearly, by first importing the <code style=\"background-color: yellow;\">enum</code> module and then subclassing the <code style=\"background-color: yellow;\">Enum</code> class. &nbsp;<span style=\"color: #a336ff;\">Let's create an Enum to represent the <strong>days of the week</strong>.</span>\n",
    "\n",
    "</div>\n",
    "\n",
    "<br>\n"
   ]
  },
  {
   "cell_type": "code",
   "execution_count": 2,
   "id": "ab429c0b-6a00-4cf0-8458-e7e614ab99bb",
   "metadata": {},
   "outputs": [
    {
     "name": "stdout",
     "output_type": "stream",
     "text": [
      "Weekday.MONDAY\n",
      "MONDAY\n",
      "1\n"
     ]
    }
   ],
   "source": [
    "\n",
    "from enum import Enum\n",
    "\n",
    "class Weekday(Enum):\n",
    "    MONDAY = 1\n",
    "    TUESDAY = 2\n",
    "    WEDNESDAY = 3\n",
    "    THURSDAY = 4\n",
    "    FRIDAY = 5\n",
    "    SATURDAY = 6\n",
    "    SUNDAY = 7\n",
    "\n",
    "# Accessing enum members\n",
    "print(Weekday.MONDAY)           # OUTPUT: Weekday.MONDAY\n",
    "print(Weekday.MONDAY.name)      # OUTPUT: MONDAY\n",
    "print(Weekday.MONDAY.value)     # OUTPUT: 1\n"
   ]
  },
  {
   "cell_type": "markdown",
   "id": "a376ff97-7619-475c-adf7-eeb094707210",
   "metadata": {},
   "source": [
    "\n",
    "<div style=\"margin-left: 32px; color: #a336ff;\">\n",
    "    \n",
    "<span style=\"color: black;\">Each entry in an Enum is called a <strong>member</strong>.</span> &nbsp;In the above example, <code>MONDAY</code> , <code>TUESDAY</code>, etc., are members of the <code>Weekday</code> Enum. \n",
    "\n",
    "<span style=\"color: black;\">You can access the members using the syntax &nbsp;<code style=\"background-color: yellow; padding: 3px;\">EnumName.MemberName</code></span>&nbsp; ( e.g., <code>Weekday.MONDAY</code> ). \n",
    "\n",
    "🔶 &nbsp;<span style=\"color: black;\">The <span style=\"color: red;\">name</span> of each members can be accessed uisng the &nbsp;<code style=\"background-color: yellow; padding: 3px;\">EnumName.MemberName.<span style=\"color: red;\">name</span></code></span>\n",
    "\n",
    "🔶 &nbsp;<span style=\"color: black;\">The <span style=\"color: red;\">values</span> of each memebers can be accessed using the syntax &nbsp;<code style=\"background-color: yellow; padding: 3px;\">EnumName.MemberName.<span style=\"color: red;\">value</span></code></span>\n",
    "\n",
    "</div>\n"
   ]
  },
  {
   "cell_type": "code",
   "execution_count": 28,
   "id": "f5ee67d9-b2c0-4238-a138-dde83122ee02",
   "metadata": {},
   "outputs": [
    {
     "data": {
      "text/plain": [
       "<Weekday.TUESDAY: 2>"
      ]
     },
     "execution_count": 28,
     "metadata": {},
     "output_type": "execute_result"
    }
   ],
   "source": [
    "\n",
    "Weekday.TUESDAY\n"
   ]
  },
  {
   "cell_type": "code",
   "execution_count": 1,
   "id": "87fee84d-1be9-42d8-82cf-4e80bfc34fa8",
   "metadata": {},
   "outputs": [
    {
     "ename": "NameError",
     "evalue": "name 'Weekday' is not defined",
     "output_type": "error",
     "traceback": [
      "\u001b[1;31m---------------------------------------------------------------------------\u001b[0m",
      "\u001b[1;31mNameError\u001b[0m                                 Traceback (most recent call last)",
      "Cell \u001b[1;32mIn[1], line 1\u001b[0m\n\u001b[1;32m----> 1\u001b[0m \u001b[38;5;28mprint\u001b[39m(\u001b[43mWeekday\u001b[49m\u001b[38;5;241m.\u001b[39mTUESDAY)              \u001b[38;5;66;03m# it prints neither the name nor the value\u001b[39;00m\n\u001b[0;32m      3\u001b[0m \u001b[38;5;28mprint\u001b[39m(Weekday\u001b[38;5;241m.\u001b[39mTUESDAY\u001b[38;5;241m.\u001b[39mname)\n\u001b[0;32m      4\u001b[0m \u001b[38;5;28mprint\u001b[39m(Weekday\u001b[38;5;241m.\u001b[39mTUESDAY\u001b[38;5;241m.\u001b[39mvalue)\n",
      "\u001b[1;31mNameError\u001b[0m: name 'Weekday' is not defined"
     ]
    }
   ],
   "source": [
    "\n",
    "print(Weekday.TUESDAY)              # it prints neither the name nor the value\n",
    "\n",
    "print(Weekday.TUESDAY.name)\n",
    "print(Weekday.TUESDAY.value)\n"
   ]
  },
  {
   "cell_type": "markdown",
   "id": "26239ccc-ea1e-456d-ab79-288efab4b778",
   "metadata": {},
   "source": [
    "<br>\n",
    "\n",
    "<div style=\"margin-left: 32px; color: #a336ff;\">\n",
    "    \n",
    "The type of <code style=\"color: red;\">Weekday.MONDAY</code> is the <code style=\"color: red;\">Weekday</code> enumeration:\n",
    "\n",
    "</div>\n"
   ]
  },
  {
   "cell_type": "code",
   "execution_count": 8,
   "id": "c032d3d3-9810-4408-9bc0-71772f206363",
   "metadata": {},
   "outputs": [
    {
     "name": "stdout",
     "output_type": "stream",
     "text": [
      "<enum 'Weekday'>\n"
     ]
    }
   ],
   "source": [
    "\n",
    "print(type(Weekday.MONDAY))\n"
   ]
  },
  {
   "cell_type": "markdown",
   "id": "fdc754c5-5d8c-4bc7-b597-158463bd204f",
   "metadata": {},
   "source": [
    "<br>\n",
    "\n",
    "<div style=\"margin-left: 32px; color: #a336ff;\">\n",
    "    \n",
    "The <code style=\"color: red;\">Weekday.MONDAY</code> is also an <strong><span style=\"color: black\">instance</span></strong> of the <code style=\"color: red;\">Weekday</code> enumeration:\n",
    "\n",
    "</div>"
   ]
  },
  {
   "cell_type": "code",
   "execution_count": 6,
   "id": "79aebd00-2a84-4ce3-858d-80658880d674",
   "metadata": {},
   "outputs": [
    {
     "name": "stdout",
     "output_type": "stream",
     "text": [
      "True\n"
     ]
    }
   ],
   "source": [
    "\n",
    "print(isinstance(Weekday.MONDAY, Weekday))\n"
   ]
  },
  {
   "cell_type": "markdown",
   "id": "63f5dddb-8d25-4d6f-bc90-eb777730fd43",
   "metadata": {},
   "source": [
    "\n",
    "<br><br>\n",
    "\n",
    "<div style=\"color: white; background-color: #af87ff; padding: 5px;\"> <span style=\"font-size: 1.2rem;\">&nbsp;<strong>Iterating Over Enum Members</strong></div>\n",
    "\n",
    "<br>"
   ]
  },
  {
   "cell_type": "code",
   "execution_count": 3,
   "id": "52f86d6b-8f07-440e-bd55-fcee4e226271",
   "metadata": {},
   "outputs": [
    {
     "name": "stdout",
     "output_type": "stream",
     "text": [
      "Weekday.MONDAY\n",
      "Weekday.TUESDAY\n",
      "Weekday.WEDNESDAY\n",
      "Weekday.THURSDAY\n",
      "Weekday.FRIDAY\n",
      "Weekday.SATURDAY\n",
      "Weekday.SUNDAY\n"
     ]
    }
   ],
   "source": [
    "\n",
    "for day in Weekday:\n",
    "    print(day)\n"
   ]
  },
  {
   "cell_type": "markdown",
   "id": "bd9bf613-8480-42e1-bc77-f4c3103e22aa",
   "metadata": {},
   "source": [
    "<br>\n",
    "\n",
    "<div style=\"margin-left: 32px;\">\n",
    "\n",
    "🔶 &nbsp;Also, you can use the &nbsp;<code style=\"color: red;\">list()</code>&nbsp; function to return a list of members from an enumeration :\n",
    "\n",
    "</div>\n"
   ]
  },
  {
   "cell_type": "code",
   "execution_count": 30,
   "id": "ee9b3c25-7449-417c-9f84-13d46bfe5868",
   "metadata": {},
   "outputs": [
    {
     "data": {
      "text/plain": [
       "[<Weekday.MONDAY: 1>,\n",
       " <Weekday.TUESDAY: 2>,\n",
       " <Weekday.WEDNESDAY: 3>,\n",
       " <Weekday.THURSDAY: 4>,\n",
       " <Weekday.FRIDAY: 5>,\n",
       " <Weekday.SATURDAY: 6>,\n",
       " <Weekday.SUNDAY: 7>]"
      ]
     },
     "execution_count": 30,
     "metadata": {},
     "output_type": "execute_result"
    }
   ],
   "source": [
    "\n",
    "list(Weekday)\n"
   ]
  },
  {
   "cell_type": "markdown",
   "id": "d3e74166-460e-436a-aa2a-8311da21375f",
   "metadata": {},
   "source": [
    "<br><br>\n",
    "\n",
    "<div style=\"color: white; background-color: #af87ff; padding: 5px;\"> <span style=\"font-size: 1.2rem;\">&nbsp;<strong>Membership &nbsp;&&nbsp; Comparing Enum Members</strong></div>\n",
    "\n",
    "<br>\n",
    "\n",
    "<div style=\"margin-left: 32px;\">\n",
    "🔶 &nbsp;To check if a member is in an enumeration, you use the &nbsp;<code style=\"color: red;\">in</code>&nbsp; operator.\n",
    "</div>"
   ]
  },
  {
   "cell_type": "code",
   "execution_count": 5,
   "id": "2d2cf2a7-3641-4d51-a5a9-6e474974564c",
   "metadata": {},
   "outputs": [
    {
     "name": "stdout",
     "output_type": "stream",
     "text": [
      "Yes\n"
     ]
    }
   ],
   "source": [
    "\n",
    "if Weekday.MONDAY in Weekday:\n",
    "    print('Yes')\n",
    "    "
   ]
  },
  {
   "cell_type": "markdown",
   "id": "5eb599d3-dc0a-4ee0-9468-19ffdecf2d8f",
   "metadata": {},
   "source": [
    "\n",
    "<div style=\"margin-left: 32px;\">\n",
    "🔶 &nbsp;To compare two members, you can use either &nbsp;<code style=\"color: red;\">is</code>&nbsp; or &nbsp;<code style=\"color: red;\">==</code>&nbsp; operator. \n",
    "</div>\n"
   ]
  },
  {
   "cell_type": "code",
   "execution_count": 10,
   "id": "116b7e67-56b6-485c-bd58-de30847365a7",
   "metadata": {},
   "outputs": [
    {
     "name": "stdout",
     "output_type": "stream",
     "text": [
      "Days are the same.\n"
     ]
    }
   ],
   "source": [
    "\n",
    "if Weekday.MONDAY == Weekday.MONDAY:\n",
    "    print(\"Days are the same.\")\n",
    "else:\n",
    "    print(\"Days are not the same\")\n"
   ]
  },
  {
   "cell_type": "code",
   "execution_count": 11,
   "id": "fe0d17ff-e33a-4ffe-8b9c-07e6d7840236",
   "metadata": {},
   "outputs": [
    {
     "name": "stdout",
     "output_type": "stream",
     "text": [
      "Days are identical.\n"
     ]
    }
   ],
   "source": [
    "\n",
    "if Weekday.MONDAY is Weekday.MONDAY:\n",
    "    print(\"Days are identical.\")\n",
    "else:\n",
    "    print(\"Days are not identical\")\n"
   ]
  },
  {
   "cell_type": "markdown",
   "id": "be2f1bbf-cf2e-4a9c-8efd-351054b80ef6",
   "metadata": {},
   "source": [
    "<br><br>\n",
    "\n",
    "<div style=\"color: white; background-color: #af87ff; padding: 5px;\"> <span style=\"font-size: 1.2rem;\">&nbsp;<strong>Enumeration members are hashable</strong></div>\n",
    "\n",
    "<br>\n",
    "\n",
    "<div style=\"margin-left: 32px;\">\n",
    "    \n",
    "🔶 &nbsp;Enumeration members are always <strong>hashable</strong>. &nbsp;It means that you can use the enumeration members as keys in a <span style=\"color: red;\">dictionary</span> or as elements of a <span style=\"color: red;\">Set</span>.\n",
    "\n",
    "&nbsp;<span style=\"color: #a336ff;\">The following example uses the members of the <code>Weekday</code> enumeration in a dictionary :</span>\n",
    "\n",
    "</div>\n"
   ]
  },
  {
   "cell_type": "code",
   "execution_count": 16,
   "id": "41633f0a-4880-4900-ad3b-fb383c1ef7e6",
   "metadata": {},
   "outputs": [],
   "source": [
    "\n",
    "days = {\n",
    "    Weekday.MONDAY: \"day1\",\n",
    "    Weekday.TUESDAY: \"day2\",\n",
    "    Weekday.WEDNESDAY: \"day3\",\n",
    "    Weekday.THURSDAY: \"day4\",\n",
    "    Weekday.FRIDAY: \"day5\",\n",
    "    Weekday.SATURDAY: \"day6\",\n",
    "    Weekday.SUNDAY: \"day7\"\n",
    "}\n"
   ]
  },
  {
   "cell_type": "code",
   "execution_count": 17,
   "id": "25d6dc2b-0cde-4a9d-aa5d-e1668615665f",
   "metadata": {},
   "outputs": [
    {
     "data": {
      "text/plain": [
       "{<Weekday.MONDAY: 1>: 'day1',\n",
       " <Weekday.TUESDAY: 2>: 'day2',\n",
       " <Weekday.WEDNESDAY: 3>: 'day3',\n",
       " <Weekday.THURSDAY: 4>: 'day4',\n",
       " <Weekday.FRIDAY: 5>: 'day5',\n",
       " <Weekday.SATURDAY: 6>: 'day6',\n",
       " <Weekday.SUNDAY: 7>: 'day7'}"
      ]
     },
     "execution_count": 17,
     "metadata": {},
     "output_type": "execute_result"
    }
   ],
   "source": [
    "\n",
    "days\n"
   ]
  },
  {
   "cell_type": "code",
   "execution_count": 21,
   "id": "ae959862-aca2-4ca5-9dca-3dbf13c37257",
   "metadata": {},
   "outputs": [
    {
     "data": {
      "text/plain": [
       "'day1'"
      ]
     },
     "execution_count": 21,
     "metadata": {},
     "output_type": "execute_result"
    }
   ],
   "source": [
    "\n",
    "days[Weekday.MONDAY]\n"
   ]
  },
  {
   "cell_type": "markdown",
   "id": "010d6212-9f3f-4223-82b0-719d3e47fe92",
   "metadata": {},
   "source": [
    "<br><br>\n",
    "\n",
    "<div style=\"color: white; background-color: #af87ff; padding: 5px;\"> <span style=\"font-size: 1.2rem;\">&nbsp;<strong>Access an enumeration member by &nbsp;<code style=\"background-color: white;\">name</code>&nbsp; and &nbsp;<code style=\"background-color: white;\">value</code></strong></div>\n",
    "\n",
    "<br>\n",
    "\n",
    "<div style=\"margin-left: 32px;\">\n",
    "    \n",
    "🔶 &nbsp;The typical way to access an enumeration member is to use the <span style=\"color: red;\">dot notation</span> ( <code style=\"color: red; background-color: yellow;\">.</code> ) syntax as you have seen so far :\n",
    "\n",
    "</div>\n"
   ]
  },
  {
   "cell_type": "code",
   "execution_count": 23,
   "id": "33ad263d-adac-45f4-97fc-dd35d32983f0",
   "metadata": {},
   "outputs": [
    {
     "data": {
      "text/plain": [
       "<Weekday.MONDAY: 1>"
      ]
     },
     "execution_count": 23,
     "metadata": {},
     "output_type": "execute_result"
    }
   ],
   "source": [
    "\n",
    "Weekday.MONDAY\n"
   ]
  },
  {
   "cell_type": "markdown",
   "id": "aaad33ea-2d23-4149-8b51-f874aad4d688",
   "metadata": {},
   "source": [
    "<br>\n",
    "\n",
    "<div style=\"margin-left: 32px;\">\n",
    "\n",
    "🔶 &nbsp;Because the &nbsp;<code style=\"background-color: yellow;\">Enum</code>&nbsp; implements the &nbsp;<code style=\"color: red;\">\\_\\_getitem__</code>&nbsp; method, you can also use a square brackets &nbsp;<code style=\"color: red; background-color: yellow;\">[]</code>&nbsp; syntax to get a member by its name.\n",
    "\n",
    "</div>"
   ]
  },
  {
   "cell_type": "code",
   "execution_count": 25,
   "id": "8074a432-4aa3-45e3-b658-c0642a35d6b0",
   "metadata": {},
   "outputs": [
    {
     "data": {
      "text/plain": [
       "<Weekday.MONDAY: 1>"
      ]
     },
     "execution_count": 25,
     "metadata": {},
     "output_type": "execute_result"
    }
   ],
   "source": [
    "\n",
    "Weekday['MONDAY']\n"
   ]
  },
  {
   "cell_type": "markdown",
   "id": "0ff3a2c3-20bf-4fd0-a29a-541203f2f00e",
   "metadata": {},
   "source": [
    "<br>\n",
    "\n",
    "<div style=\"margin-left: 32px;\">\n",
    "\n",
    "🔶 &nbsp;Since an enumeration is <strong>callable</strong>, you can get a member by its value using the syntax using the syntax &nbsp;<code style=\"background-color: yellow;\">EnumName(<span style=\"color: red;\">value</span>)</code>\n",
    "\n",
    "</div>\n"
   ]
  },
  {
   "cell_type": "code",
   "execution_count": 27,
   "id": "580af3b3-de98-481a-b07e-be7ad5b12e72",
   "metadata": {},
   "outputs": [
    {
     "data": {
      "text/plain": [
       "<Weekday.MONDAY: 1>"
      ]
     },
     "execution_count": 27,
     "metadata": {},
     "output_type": "execute_result"
    }
   ],
   "source": [
    "\n",
    "Weekday(1)\n"
   ]
  },
  {
   "cell_type": "code",
   "execution_count": 29,
   "id": "fa859f23-d8f0-4da6-8c2e-e9516ad98256",
   "metadata": {},
   "outputs": [
    {
     "data": {
      "text/plain": [
       "True"
      ]
     },
     "execution_count": 29,
     "metadata": {},
     "output_type": "execute_result"
    }
   ],
   "source": [
    "\n",
    "Weekday['MONDAY'] == Weekday(1)\n"
   ]
  },
  {
   "cell_type": "markdown",
   "id": "5aa7821a-b4ab-40cd-a01c-23dcad45730d",
   "metadata": {},
   "source": [
    "<br><br>\n",
    "\n",
    "<div style=\"color: white; background-color: #af87ff; padding: 5px;\"> <span style=\"font-size: 1.2rem;\">&nbsp;<strong>Enumerations are immutable</strong></span></div>\n",
    "\n",
    "<br>\n",
    "\n",
    "<div style=\"margin-left: 32px;\">\n",
    "\n",
    "🔶 &nbsp;Enumerations are <strong>immutable</strong>. It means you cannot add or remove members once an enumeration is defined. And you also cannot change the member values.\n",
    "\n",
    "&nbsp;<span style=\"color: #a336ff;\">The following example attempts to assign a <u>new member</u> to the <code>Weekday</code> enumeration and causes a &nbsp;<code style=\"color: red;\">TypeError</code> :</span>\n",
    "\n",
    "</div>\n"
   ]
  },
  {
   "cell_type": "code",
   "execution_count": 32,
   "id": "e6987fd3-6a02-484f-837f-ad895d2e740e",
   "metadata": {},
   "outputs": [
    {
     "ename": "TypeError",
     "evalue": "'EnumType' object does not support item assignment",
     "output_type": "error",
     "traceback": [
      "\u001b[1;31m---------------------------------------------------------------------------\u001b[0m",
      "\u001b[1;31mTypeError\u001b[0m                                 Traceback (most recent call last)",
      "Cell \u001b[1;32mIn[32], line 1\u001b[0m\n\u001b[1;32m----> 1\u001b[0m \u001b[43mWeekday\u001b[49m\u001b[43m[\u001b[49m\u001b[38;5;124;43m'\u001b[39;49m\u001b[38;5;124;43mBIRTHDAY\u001b[39;49m\u001b[38;5;124;43m'\u001b[39;49m\u001b[43m]\u001b[49m \u001b[38;5;241m=\u001b[39m \u001b[38;5;241m8\u001b[39m\n",
      "\u001b[1;31mTypeError\u001b[0m: 'EnumType' object does not support item assignment"
     ]
    }
   ],
   "source": [
    "\n",
    "Weekday['BIRTHDAY'] = 8\n"
   ]
  },
  {
   "cell_type": "markdown",
   "id": "1982a7f7-ea00-4a0d-be0e-453ac2cfd787",
   "metadata": {},
   "source": [
    "\n",
    "<br>\n",
    "\n",
    "<div style=\"margin-left: 32px;\">\n",
    "          \n",
    "&nbsp;<span style=\"color: #a336ff;\">The following example attempts the change the value of the &nbsp;<code>MONDAY</code>&nbsp; member of the &nbsp;<code>Weekday</code>&nbsp; enumeration and causes an &nbsp;<code style=\"color: red;\">AttributeError</code> :</span>\n",
    "\n",
    "</div>\n"
   ]
  },
  {
   "cell_type": "code",
   "execution_count": 35,
   "id": "4c84df40-d354-4853-a17a-66b219b7dca7",
   "metadata": {},
   "outputs": [
    {
     "ename": "AttributeError",
     "evalue": "<enum 'Enum'> cannot set attribute 'value'",
     "output_type": "error",
     "traceback": [
      "\u001b[1;31m---------------------------------------------------------------------------\u001b[0m",
      "\u001b[1;31mAttributeError\u001b[0m                            Traceback (most recent call last)",
      "Cell \u001b[1;32mIn[35], line 1\u001b[0m\n\u001b[1;32m----> 1\u001b[0m \u001b[43mWeekday\u001b[49m\u001b[38;5;241;43m.\u001b[39;49m\u001b[43mMONDAY\u001b[49m\u001b[38;5;241;43m.\u001b[39;49m\u001b[43mvalue\u001b[49m \u001b[38;5;241m=\u001b[39m \u001b[38;5;241m0\u001b[39m\n",
      "File \u001b[1;32m~\\AppData\\Local\\Programs\\Python\\Python311\\Lib\\enum.py:210\u001b[0m, in \u001b[0;36mproperty.__set__\u001b[1;34m(self, instance, value)\u001b[0m\n\u001b[0;32m    208\u001b[0m \u001b[38;5;28;01mdef\u001b[39;00m \u001b[38;5;21m__set__\u001b[39m(\u001b[38;5;28mself\u001b[39m, instance, value):\n\u001b[0;32m    209\u001b[0m     \u001b[38;5;28;01mif\u001b[39;00m \u001b[38;5;28mself\u001b[39m\u001b[38;5;241m.\u001b[39mfset \u001b[38;5;129;01mis\u001b[39;00m \u001b[38;5;28;01mNone\u001b[39;00m:\n\u001b[1;32m--> 210\u001b[0m         \u001b[38;5;28;01mraise\u001b[39;00m \u001b[38;5;167;01mAttributeError\u001b[39;00m(\n\u001b[0;32m    211\u001b[0m                 \u001b[38;5;124m\"\u001b[39m\u001b[38;5;124m<enum \u001b[39m\u001b[38;5;132;01m%r\u001b[39;00m\u001b[38;5;124m> cannot set attribute \u001b[39m\u001b[38;5;132;01m%r\u001b[39;00m\u001b[38;5;124m\"\u001b[39m \u001b[38;5;241m%\u001b[39m (\u001b[38;5;28mself\u001b[39m\u001b[38;5;241m.\u001b[39mclsname, \u001b[38;5;28mself\u001b[39m\u001b[38;5;241m.\u001b[39mname)\n\u001b[0;32m    212\u001b[0m                 )\n\u001b[0;32m    213\u001b[0m     \u001b[38;5;28;01melse\u001b[39;00m:\n\u001b[0;32m    214\u001b[0m         \u001b[38;5;28;01mreturn\u001b[39;00m \u001b[38;5;28mself\u001b[39m\u001b[38;5;241m.\u001b[39mfset(instance, value)\n",
      "\u001b[1;31mAttributeError\u001b[0m: <enum 'Enum'> cannot set attribute 'value'"
     ]
    }
   ],
   "source": [
    "\n",
    "Weekday.MONDAY.value = 0\n"
   ]
  },
  {
   "cell_type": "markdown",
   "id": "d2780f58-c07e-48cb-a5dd-8a44b7d39fb0",
   "metadata": {},
   "source": [
    "<br><br>\n",
    "\n",
    "<div style=\"color: white; background-color: #af87ff; padding: 5px;\"> <span style=\"font-size: 1.2rem;\">&nbsp;<strong>Inherits from an enumeration</strong></span></div>\n",
    "\n",
    "<br>\n",
    "\n",
    "<div style=\"margin-left: 32px;\">\n",
    "\n",
    "🔶 &nbsp;An enumeration cannot be inherited unless it contains no members. &nbsp;<span style=\"color: #a336ff;\">The following example works fine because the &nbsp;<code>WeekDay</code>&nbsp; enumeration <span style=\"color: red;\">contains no members</span> :</span>\n",
    "\n",
    "</div>"
   ]
  },
  {
   "cell_type": "code",
   "execution_count": 37,
   "id": "67f0ec9f-24cc-4328-8a02-9acebd3e5e32",
   "metadata": {},
   "outputs": [],
   "source": [
    "\n",
    "class WeekDay(Enum):\n",
    "    pass\n",
    "\n",
    "\n",
    "class WorkingDay(WeekDay):\n",
    "    MONDAY = 1\n",
    "    TUESDAY = 2\n",
    "    WEDNESDAY = 3\n",
    "    THURSDAY = 4\n",
    "    FRIDAY = 5\n"
   ]
  },
  {
   "cell_type": "markdown",
   "id": "02839461-104c-4fb4-b7d1-1475a0539485",
   "metadata": {},
   "source": [
    "<br>\n",
    "\n",
    "<div style=\"margin-left: 32px;\">\n",
    "    \n",
    "&nbsp;<span style=\"color: #a336ff;\">However, the following example won’t work because the &nbsp;<code>WorkingDay</code>&nbsp; enumeration has members :</span>\n",
    "\n",
    "</div>"
   ]
  },
  {
   "cell_type": "code",
   "execution_count": 41,
   "id": "5e6d2ec2-d127-46fc-b870-d2a86f0b54f7",
   "metadata": {},
   "outputs": [
    {
     "ename": "TypeError",
     "evalue": "<enum 'LearningDay'> cannot extend <enum 'WorkingDay'>",
     "output_type": "error",
     "traceback": [
      "\u001b[1;31m---------------------------------------------------------------------------\u001b[0m",
      "\u001b[1;31mTypeError\u001b[0m                                 Traceback (most recent call last)",
      "Cell \u001b[1;32mIn[41], line 1\u001b[0m\n\u001b[1;32m----> 1\u001b[0m \u001b[38;5;28;43;01mclass\u001b[39;49;00m\u001b[43m \u001b[49m\u001b[38;5;21;43;01mLearningDay\u001b[39;49;00m\u001b[43m(\u001b[49m\u001b[43mWorkingDay\u001b[49m\u001b[43m)\u001b[49m\u001b[43m:\u001b[49m\n\u001b[0;32m      2\u001b[0m \u001b[43m    \u001b[49m\u001b[43mSaturday\u001b[49m\u001b[43m \u001b[49m\u001b[38;5;241;43m=\u001b[39;49m\u001b[43m \u001b[49m\u001b[38;5;241;43m6\u001b[39;49m\n",
      "File \u001b[1;32m~\\AppData\\Local\\Programs\\Python\\Python311\\Lib\\enum.py:473\u001b[0m, in \u001b[0;36mEnumType.__prepare__\u001b[1;34m(metacls, cls, bases, **kwds)\u001b[0m\n\u001b[0;32m    470\u001b[0m \u001b[38;5;129m@classmethod\u001b[39m\n\u001b[0;32m    471\u001b[0m \u001b[38;5;28;01mdef\u001b[39;00m \u001b[38;5;21m__prepare__\u001b[39m(metacls, \u001b[38;5;28mcls\u001b[39m, bases, \u001b[38;5;241m*\u001b[39m\u001b[38;5;241m*\u001b[39mkwds):\n\u001b[0;32m    472\u001b[0m     \u001b[38;5;66;03m# check that previous enum members do not exist\u001b[39;00m\n\u001b[1;32m--> 473\u001b[0m     \u001b[43mmetacls\u001b[49m\u001b[38;5;241;43m.\u001b[39;49m\u001b[43m_check_for_existing_members_\u001b[49m\u001b[43m(\u001b[49m\u001b[38;5;28;43mcls\u001b[39;49m\u001b[43m,\u001b[49m\u001b[43m \u001b[49m\u001b[43mbases\u001b[49m\u001b[43m)\u001b[49m\n\u001b[0;32m    474\u001b[0m     \u001b[38;5;66;03m# create the namespace dict\u001b[39;00m\n\u001b[0;32m    475\u001b[0m     enum_dict \u001b[38;5;241m=\u001b[39m _EnumDict()\n",
      "File \u001b[1;32m~\\AppData\\Local\\Programs\\Python\\Python311\\Lib\\enum.py:937\u001b[0m, in \u001b[0;36mEnumType._check_for_existing_members_\u001b[1;34m(mcls, class_name, bases)\u001b[0m\n\u001b[0;32m    935\u001b[0m \u001b[38;5;28;01mfor\u001b[39;00m base \u001b[38;5;129;01min\u001b[39;00m chain\u001b[38;5;241m.\u001b[39m\u001b[38;5;18m__mro__\u001b[39m:\n\u001b[0;32m    936\u001b[0m     \u001b[38;5;28;01mif\u001b[39;00m \u001b[38;5;28misinstance\u001b[39m(base, EnumType) \u001b[38;5;129;01mand\u001b[39;00m base\u001b[38;5;241m.\u001b[39m_member_names_:\n\u001b[1;32m--> 937\u001b[0m         \u001b[38;5;28;01mraise\u001b[39;00m \u001b[38;5;167;01mTypeError\u001b[39;00m(\n\u001b[0;32m    938\u001b[0m                 \u001b[38;5;124m\"\u001b[39m\u001b[38;5;124m<enum \u001b[39m\u001b[38;5;132;01m%r\u001b[39;00m\u001b[38;5;124m> cannot extend \u001b[39m\u001b[38;5;132;01m%r\u001b[39;00m\u001b[38;5;124m\"\u001b[39m\n\u001b[0;32m    939\u001b[0m                 \u001b[38;5;241m%\u001b[39m (class_name, base)\n\u001b[0;32m    940\u001b[0m                 )\n",
      "\u001b[1;31mTypeError\u001b[0m: <enum 'LearningDay'> cannot extend <enum 'WorkingDay'>"
     ]
    }
   ],
   "source": [
    "\n",
    "class LearningDay(WorkingDay):\n",
    "    Saturday = 6\n",
    "    "
   ]
  },
  {
   "cell_type": "markdown",
   "id": "15adef60-26be-4f3f-b3d3-f976b7ae7138",
   "metadata": {},
   "source": [
    "<br><br>\n",
    "\n",
    "<div style=\"color: white; background-color: #af87ff; padding: 5px;\"> <span style=\"font-size: 1.2rem;\">&nbsp;<strong>Python enumeration example</strong></span></div>\n",
    "\n",
    "<br>\n",
    "\n"
   ]
  },
  {
   "cell_type": "code",
   "execution_count": 63,
   "id": "e1ad9599-b395-4e17-b1db-96cbc20b0b0e",
   "metadata": {},
   "outputs": [
    {
     "name": "stdout",
     "output_type": "stream",
     "text": [
      "ResponseStatus.FULFILLED\n"
     ]
    }
   ],
   "source": [
    "\n",
    "from enum import Enum\n",
    "import json\n",
    "\n",
    "\n",
    "class ResponseStatus(Enum):\n",
    "    PENDING = 'pending'\n",
    "    FULFILLED = 'fulfilled'\n",
    "    REJECTED = 'rejected'\n",
    "\n",
    "\n",
    "response = '''{\n",
    "    \"status\":\"fulfilled\"\n",
    "}'''\n",
    "\n",
    "\n",
    "data = json.loads(response)            #  {'status': 'ok'}\n",
    "status = data['status']                #  'ok'\n",
    "\n",
    "\n",
    "print(ResponseStatus(status))\n"
   ]
  },
  {
   "cell_type": "markdown",
   "id": "58dbcbb8-3324-4716-b60f-bb6021388944",
   "metadata": {},
   "source": [
    "<br>\n",
    "\n",
    "<span style=\"color: #a336ff;\">What if the status is <span style=\"color: red;\">not</span> one of the values of the <code>ResponseStatus</code> members? then you’ll get an <span style=\"color: red;\">error</span>. &nbsp;For example :</span>\n"
   ]
  },
  {
   "cell_type": "code",
   "execution_count": 66,
   "id": "66ac84fb-632d-40a8-bc2a-9d9a3b8a03e8",
   "metadata": {},
   "outputs": [
    {
     "ename": "ValueError",
     "evalue": "'ok' is not a valid ResponseStatus",
     "output_type": "error",
     "traceback": [
      "\u001b[1;31m---------------------------------------------------------------------------\u001b[0m",
      "\u001b[1;31mValueError\u001b[0m                                Traceback (most recent call last)",
      "Cell \u001b[1;32mIn[66], line 20\u001b[0m\n\u001b[0;32m     16\u001b[0m data \u001b[38;5;241m=\u001b[39m json\u001b[38;5;241m.\u001b[39mloads(response)            \u001b[38;5;66;03m#  {'status': 'ok'}\u001b[39;00m\n\u001b[0;32m     17\u001b[0m status \u001b[38;5;241m=\u001b[39m data[\u001b[38;5;124m'\u001b[39m\u001b[38;5;124mstatus\u001b[39m\u001b[38;5;124m'\u001b[39m]                \u001b[38;5;66;03m#  'ok'\u001b[39;00m\n\u001b[1;32m---> 20\u001b[0m \u001b[38;5;28mprint\u001b[39m(\u001b[43mResponseStatus\u001b[49m\u001b[43m(\u001b[49m\u001b[43mstatus\u001b[49m\u001b[43m)\u001b[49m)\n",
      "File \u001b[1;32m~\\AppData\\Local\\Programs\\Python\\Python311\\Lib\\enum.py:714\u001b[0m, in \u001b[0;36mEnumType.__call__\u001b[1;34m(cls, value, names, module, qualname, type, start, boundary)\u001b[0m\n\u001b[0;32m    689\u001b[0m \u001b[38;5;250m\u001b[39m\u001b[38;5;124;03m\"\"\"\u001b[39;00m\n\u001b[0;32m    690\u001b[0m \u001b[38;5;124;03mEither returns an existing member, or creates a new enum class.\u001b[39;00m\n\u001b[0;32m    691\u001b[0m \n\u001b[1;32m   (...)\u001b[0m\n\u001b[0;32m    711\u001b[0m \u001b[38;5;124;03m`type`, if set, will be mixed in as the first base class.\u001b[39;00m\n\u001b[0;32m    712\u001b[0m \u001b[38;5;124;03m\"\"\"\u001b[39;00m\n\u001b[0;32m    713\u001b[0m \u001b[38;5;28;01mif\u001b[39;00m names \u001b[38;5;129;01mis\u001b[39;00m \u001b[38;5;28;01mNone\u001b[39;00m:  \u001b[38;5;66;03m# simple value lookup\u001b[39;00m\n\u001b[1;32m--> 714\u001b[0m     \u001b[38;5;28;01mreturn\u001b[39;00m \u001b[38;5;28;43mcls\u001b[39;49m\u001b[38;5;241;43m.\u001b[39;49m\u001b[38;5;21;43m__new__\u001b[39;49m\u001b[43m(\u001b[49m\u001b[38;5;28;43mcls\u001b[39;49m\u001b[43m,\u001b[49m\u001b[43m \u001b[49m\u001b[43mvalue\u001b[49m\u001b[43m)\u001b[49m\n\u001b[0;32m    715\u001b[0m \u001b[38;5;66;03m# otherwise, functional API: we're creating a new Enum type\u001b[39;00m\n\u001b[0;32m    716\u001b[0m \u001b[38;5;28;01mreturn\u001b[39;00m \u001b[38;5;28mcls\u001b[39m\u001b[38;5;241m.\u001b[39m_create_(\n\u001b[0;32m    717\u001b[0m         value,\n\u001b[0;32m    718\u001b[0m         names,\n\u001b[1;32m   (...)\u001b[0m\n\u001b[0;32m    723\u001b[0m         boundary\u001b[38;5;241m=\u001b[39mboundary,\n\u001b[0;32m    724\u001b[0m         )\n",
      "File \u001b[1;32m~\\AppData\\Local\\Programs\\Python\\Python311\\Lib\\enum.py:1130\u001b[0m, in \u001b[0;36mEnum.__new__\u001b[1;34m(cls, value)\u001b[0m\n\u001b[0;32m   1128\u001b[0m ve_exc \u001b[38;5;241m=\u001b[39m \u001b[38;5;167;01mValueError\u001b[39;00m(\u001b[38;5;124m\"\u001b[39m\u001b[38;5;132;01m%r\u001b[39;00m\u001b[38;5;124m is not a valid \u001b[39m\u001b[38;5;132;01m%s\u001b[39;00m\u001b[38;5;124m\"\u001b[39m \u001b[38;5;241m%\u001b[39m (value, \u001b[38;5;28mcls\u001b[39m\u001b[38;5;241m.\u001b[39m\u001b[38;5;18m__qualname__\u001b[39m))\n\u001b[0;32m   1129\u001b[0m \u001b[38;5;28;01mif\u001b[39;00m result \u001b[38;5;129;01mis\u001b[39;00m \u001b[38;5;28;01mNone\u001b[39;00m \u001b[38;5;129;01mand\u001b[39;00m exc \u001b[38;5;129;01mis\u001b[39;00m \u001b[38;5;28;01mNone\u001b[39;00m:\n\u001b[1;32m-> 1130\u001b[0m     \u001b[38;5;28;01mraise\u001b[39;00m ve_exc\n\u001b[0;32m   1131\u001b[0m \u001b[38;5;28;01melif\u001b[39;00m exc \u001b[38;5;129;01mis\u001b[39;00m \u001b[38;5;28;01mNone\u001b[39;00m:\n\u001b[0;32m   1132\u001b[0m     exc \u001b[38;5;241m=\u001b[39m \u001b[38;5;167;01mTypeError\u001b[39;00m(\n\u001b[0;32m   1133\u001b[0m             \u001b[38;5;124m'\u001b[39m\u001b[38;5;124merror in \u001b[39m\u001b[38;5;132;01m%s\u001b[39;00m\u001b[38;5;124m._missing_: returned \u001b[39m\u001b[38;5;132;01m%r\u001b[39;00m\u001b[38;5;124m instead of None or a valid member\u001b[39m\u001b[38;5;124m'\u001b[39m\n\u001b[0;32m   1134\u001b[0m             \u001b[38;5;241m%\u001b[39m (\u001b[38;5;28mcls\u001b[39m\u001b[38;5;241m.\u001b[39m\u001b[38;5;18m__name__\u001b[39m, result)\n\u001b[0;32m   1135\u001b[0m             )\n",
      "\u001b[1;31mValueError\u001b[0m: 'ok' is not a valid ResponseStatus"
     ]
    }
   ],
   "source": [
    "\n",
    "from enum import Enum\n",
    "import json\n",
    "\n",
    "\n",
    "class ResponseStatus(Enum):\n",
    "    PENDING = 'pending'\n",
    "    FULFILLED = 'fulfilled'\n",
    "    REJECTED = 'rejected'\n",
    "\n",
    "\n",
    "response = '''{\n",
    "    \"status\":\"ok\"\n",
    "}'''\n",
    "\n",
    "\n",
    "data = json.loads(response)            #  {'status': 'ok'}\n",
    "status = data['status']                #  'ok'\n",
    "\n",
    "\n",
    "print(ResponseStatus(status))\n"
   ]
  },
  {
   "cell_type": "markdown",
   "id": "84c51279-074d-40b0-a83c-ed066e9900e0",
   "metadata": {},
   "source": [
    "<br>\n",
    "\n",
    "<span style=\"color: #a336ff;\">To catch the exception, you can use the &nbsp;<code style=\"color: red;\">try...except</code>&nbsp; statement like the following :</span>\n"
   ]
  },
  {
   "cell_type": "code",
   "execution_count": 93,
   "id": "bc2502ff-5bae-4cdb-843b-4f0f2182d615",
   "metadata": {},
   "outputs": [
    {
     "name": "stdout",
     "output_type": "stream",
     "text": [
      "'ok' is not a valid ResponseStatus\n"
     ]
    }
   ],
   "source": [
    "\n",
    "from enum import Enum\n",
    "import json\n",
    "\n",
    "\n",
    "class ResponseStatus(Enum):\n",
    "    PENDING = 'pending'\n",
    "    FULFILLED = 'fulfilled'\n",
    "    REJECTED = 'rejected'\n",
    "\n",
    "\n",
    "response = '''{\n",
    "    \"status\":\"ok\"\n",
    "}'''\n",
    "\n",
    "\n",
    "data = json.loads(response)            #  {'status': 'ok'}\n",
    "status = data['status']                #  'ok'\n",
    "\n",
    "\n",
    "try:\n",
    "    if ResponseStatus(status) is ResponseStatus.FULFILLED:\n",
    "        print('The request completed successfully')\n",
    "except ValueError as error:\n",
    "    print(error)\n"
   ]
  },
  {
   "cell_type": "markdown",
   "id": "b4074434-47ec-482c-ac25-22dc9f05ec36",
   "metadata": {},
   "source": [
    "<br>\n",
    "\n",
    "<span style=\"color: #06fff0; font-size: 0.7rem;\">■■■■■■■■■■■■■■■■■■■■■■■■■■■■■■■■■■■■■■■■■■■■■■■■■■■■■■■■■■■■■■■■■■■■■■■■■■■■■■■■■■■■■■■■■■■■■■■■■■■■■■■■■■■■■■■</span>\n",
    "\n",
    "<br>\n"
   ]
  },
  {
   "cell_type": "code",
   "execution_count": 78,
   "id": "471aa919-e6f4-48d6-98b2-82571789df15",
   "metadata": {},
   "outputs": [
    {
     "data": {
      "text/plain": [
       "{'status': 'ok'}"
      ]
     },
     "execution_count": 78,
     "metadata": {},
     "output_type": "execute_result"
    }
   ],
   "source": [
    "\n",
    "data = json.loads(response)\n",
    "data\n"
   ]
  },
  {
   "cell_type": "code",
   "execution_count": 79,
   "id": "7b4be257-78d7-4d09-abec-99acc68ef5d1",
   "metadata": {},
   "outputs": [
    {
     "data": {
      "text/plain": [
       "<enum 'ResponseStatus'>"
      ]
     },
     "execution_count": 79,
     "metadata": {},
     "output_type": "execute_result"
    }
   ],
   "source": [
    "\n",
    "ResponseStatus\n"
   ]
  },
  {
   "cell_type": "code",
   "execution_count": 85,
   "id": "b90ec1df-b3e6-4b7a-8216-3b3ba342b450",
   "metadata": {},
   "outputs": [
    {
     "data": {
      "text/plain": [
       "[<ResponseStatus.PENDING: 'pending'>,\n",
       " <ResponseStatus.FULFILLED: 'fulfilled'>,\n",
       " <ResponseStatus.REJECTED: 'rejected'>]"
      ]
     },
     "execution_count": 85,
     "metadata": {},
     "output_type": "execute_result"
    }
   ],
   "source": [
    "\n",
    "list(ResponseStatus)\n"
   ]
  },
  {
   "cell_type": "code",
   "execution_count": 87,
   "id": "f460e1c7-75d1-4ed3-929d-754caabd6e98",
   "metadata": {},
   "outputs": [
    {
     "name": "stdout",
     "output_type": "stream",
     "text": [
      "ResponseStatus.PENDING\n",
      "ResponseStatus.PENDING\n",
      "ResponseStatus.PENDING\n"
     ]
    }
   ],
   "source": [
    "\n",
    "print(ResponseStatus.PENDING)           # METHOD - 1  ===>  dot notation\n",
    "print(ResponseStatus[\"PENDING\"])        # METHOD - 2  ===>  []\n",
    "print(ResponseStatus(\"pending\"))        # METHOD - 3  ===>  calling through value\n"
   ]
  },
  {
   "cell_type": "code",
   "execution_count": 82,
   "id": "a3b804cb-868d-4c60-85a4-4fd267afb0cf",
   "metadata": {},
   "outputs": [
    {
     "data": {
      "text/plain": [
       "'PENDING'"
      ]
     },
     "execution_count": 82,
     "metadata": {},
     "output_type": "execute_result"
    }
   ],
   "source": [
    "\n",
    "ResponseStatus.PENDING.name\n"
   ]
  },
  {
   "cell_type": "code",
   "execution_count": 83,
   "id": "b403700f-d1ed-4748-af14-a8294a2a5b22",
   "metadata": {},
   "outputs": [
    {
     "data": {
      "text/plain": [
       "'pending'"
      ]
     },
     "execution_count": 83,
     "metadata": {},
     "output_type": "execute_result"
    }
   ],
   "source": [
    "\n",
    "ResponseStatus.PENDING.value\n"
   ]
  },
  {
   "cell_type": "code",
   "execution_count": 99,
   "id": "67b142d3-5a96-44ac-bdab-15562adadd65",
   "metadata": {},
   "outputs": [
    {
     "name": "stdout",
     "output_type": "stream",
     "text": [
      "ResponseStatus.PENDING\n",
      "ResponseStatus.PENDING\n",
      "ResponseStatus.PENDING\n"
     ]
    },
    {
     "ename": "ValueError",
     "evalue": "'ok' is not a valid ResponseStatus",
     "output_type": "error",
     "traceback": [
      "\u001b[1;31m---------------------------------------------------------------------------\u001b[0m",
      "\u001b[1;31mValueError\u001b[0m                                Traceback (most recent call last)",
      "Cell \u001b[1;32mIn[99], line 5\u001b[0m\n\u001b[0;32m      2\u001b[0m \u001b[38;5;28mprint\u001b[39m(ResponseStatus[\u001b[38;5;124m\"\u001b[39m\u001b[38;5;124mPENDING\u001b[39m\u001b[38;5;124m\"\u001b[39m])        \u001b[38;5;66;03m# METHOD - 2  ===>  []   ---------------------------->  OUTPUT:  ResponseStatus.PENDING\u001b[39;00m\n\u001b[0;32m      3\u001b[0m \u001b[38;5;28mprint\u001b[39m(ResponseStatus(\u001b[38;5;124m\"\u001b[39m\u001b[38;5;124mpending\u001b[39m\u001b[38;5;124m\"\u001b[39m))        \u001b[38;5;66;03m# METHOD - 3  ===>  calling through value   --------->  OUTPUT:  ResponseStatus.PENDING\u001b[39;00m\n\u001b[1;32m----> 5\u001b[0m \u001b[38;5;28mprint\u001b[39m(\u001b[43mResponseStatus\u001b[49m\u001b[43m(\u001b[49m\u001b[38;5;124;43m\"\u001b[39;49m\u001b[38;5;124;43mok\u001b[39;49m\u001b[38;5;124;43m\"\u001b[39;49m\u001b[43m)\u001b[49m)             \u001b[38;5;66;03m# METHOD - 3  --------------------------------------->  ValueError: 'ok' is not a valid ResponseStatus\u001b[39;00m\n",
      "File \u001b[1;32m~\\AppData\\Local\\Programs\\Python\\Python311\\Lib\\enum.py:714\u001b[0m, in \u001b[0;36mEnumType.__call__\u001b[1;34m(cls, value, names, module, qualname, type, start, boundary)\u001b[0m\n\u001b[0;32m    689\u001b[0m \u001b[38;5;250m\u001b[39m\u001b[38;5;124;03m\"\"\"\u001b[39;00m\n\u001b[0;32m    690\u001b[0m \u001b[38;5;124;03mEither returns an existing member, or creates a new enum class.\u001b[39;00m\n\u001b[0;32m    691\u001b[0m \n\u001b[1;32m   (...)\u001b[0m\n\u001b[0;32m    711\u001b[0m \u001b[38;5;124;03m`type`, if set, will be mixed in as the first base class.\u001b[39;00m\n\u001b[0;32m    712\u001b[0m \u001b[38;5;124;03m\"\"\"\u001b[39;00m\n\u001b[0;32m    713\u001b[0m \u001b[38;5;28;01mif\u001b[39;00m names \u001b[38;5;129;01mis\u001b[39;00m \u001b[38;5;28;01mNone\u001b[39;00m:  \u001b[38;5;66;03m# simple value lookup\u001b[39;00m\n\u001b[1;32m--> 714\u001b[0m     \u001b[38;5;28;01mreturn\u001b[39;00m \u001b[38;5;28;43mcls\u001b[39;49m\u001b[38;5;241;43m.\u001b[39;49m\u001b[38;5;21;43m__new__\u001b[39;49m\u001b[43m(\u001b[49m\u001b[38;5;28;43mcls\u001b[39;49m\u001b[43m,\u001b[49m\u001b[43m \u001b[49m\u001b[43mvalue\u001b[49m\u001b[43m)\u001b[49m\n\u001b[0;32m    715\u001b[0m \u001b[38;5;66;03m# otherwise, functional API: we're creating a new Enum type\u001b[39;00m\n\u001b[0;32m    716\u001b[0m \u001b[38;5;28;01mreturn\u001b[39;00m \u001b[38;5;28mcls\u001b[39m\u001b[38;5;241m.\u001b[39m_create_(\n\u001b[0;32m    717\u001b[0m         value,\n\u001b[0;32m    718\u001b[0m         names,\n\u001b[1;32m   (...)\u001b[0m\n\u001b[0;32m    723\u001b[0m         boundary\u001b[38;5;241m=\u001b[39mboundary,\n\u001b[0;32m    724\u001b[0m         )\n",
      "File \u001b[1;32m~\\AppData\\Local\\Programs\\Python\\Python311\\Lib\\enum.py:1130\u001b[0m, in \u001b[0;36mEnum.__new__\u001b[1;34m(cls, value)\u001b[0m\n\u001b[0;32m   1128\u001b[0m ve_exc \u001b[38;5;241m=\u001b[39m \u001b[38;5;167;01mValueError\u001b[39;00m(\u001b[38;5;124m\"\u001b[39m\u001b[38;5;132;01m%r\u001b[39;00m\u001b[38;5;124m is not a valid \u001b[39m\u001b[38;5;132;01m%s\u001b[39;00m\u001b[38;5;124m\"\u001b[39m \u001b[38;5;241m%\u001b[39m (value, \u001b[38;5;28mcls\u001b[39m\u001b[38;5;241m.\u001b[39m\u001b[38;5;18m__qualname__\u001b[39m))\n\u001b[0;32m   1129\u001b[0m \u001b[38;5;28;01mif\u001b[39;00m result \u001b[38;5;129;01mis\u001b[39;00m \u001b[38;5;28;01mNone\u001b[39;00m \u001b[38;5;129;01mand\u001b[39;00m exc \u001b[38;5;129;01mis\u001b[39;00m \u001b[38;5;28;01mNone\u001b[39;00m:\n\u001b[1;32m-> 1130\u001b[0m     \u001b[38;5;28;01mraise\u001b[39;00m ve_exc\n\u001b[0;32m   1131\u001b[0m \u001b[38;5;28;01melif\u001b[39;00m exc \u001b[38;5;129;01mis\u001b[39;00m \u001b[38;5;28;01mNone\u001b[39;00m:\n\u001b[0;32m   1132\u001b[0m     exc \u001b[38;5;241m=\u001b[39m \u001b[38;5;167;01mTypeError\u001b[39;00m(\n\u001b[0;32m   1133\u001b[0m             \u001b[38;5;124m'\u001b[39m\u001b[38;5;124merror in \u001b[39m\u001b[38;5;132;01m%s\u001b[39;00m\u001b[38;5;124m._missing_: returned \u001b[39m\u001b[38;5;132;01m%r\u001b[39;00m\u001b[38;5;124m instead of None or a valid member\u001b[39m\u001b[38;5;124m'\u001b[39m\n\u001b[0;32m   1134\u001b[0m             \u001b[38;5;241m%\u001b[39m (\u001b[38;5;28mcls\u001b[39m\u001b[38;5;241m.\u001b[39m\u001b[38;5;18m__name__\u001b[39m, result)\n\u001b[0;32m   1135\u001b[0m             )\n",
      "\u001b[1;31mValueError\u001b[0m: 'ok' is not a valid ResponseStatus"
     ]
    }
   ],
   "source": [
    "\n",
    "print(ResponseStatus.PENDING)           # METHOD - 1  ===>  dot notation   ------------------>  OUTPUT:  ResponseStatus.PENDING\n",
    "print(ResponseStatus[\"PENDING\"])        # METHOD - 2  ===>  []   ---------------------------->  OUTPUT:  ResponseStatus.PENDING\n",
    "print(ResponseStatus(\"pending\"))        # METHOD - 3  ===>  calling through value   --------->  OUTPUT:  ResponseStatus.PENDING\n",
    "\n",
    "print(ResponseStatus(\"ok\"))             # METHOD - 3  --------------------------------------->  ValueError: 'ok' is not a valid ResponseStatus\n"
   ]
  },
  {
   "cell_type": "markdown",
   "id": "2570d357-e2ef-4fcb-a653-773bd2a937e5",
   "metadata": {},
   "source": [
    "<br><br>\n",
    "\n",
    "<div style=\"color: white; background-color: #af87ff; padding: 5px;\"> <span style=\"font-size: 1.2rem;\">&nbsp;<strong>Summary</strong></span> </div>\n"
   ]
  },
  {
   "cell_type": "markdown",
   "id": "9a95ff45-fb65-49c9-88c0-5824859da9c0",
   "metadata": {},
   "source": [
    "<br>\n",
    "\n",
    "<div style=\"background-color: #fff3e1; padding-top: 15px; padding-bottom: 4px;\">\n",
    "\n",
    "&nbsp;&nbsp;&nbsp;&nbsp;<span style=\"font-size: 0.7rem; color: red;\">■</span>&nbsp;&nbsp;&nbsp;An enumeration is a set of members that have associated unique constant values. <br>\n",
    "\n",
    "&nbsp;&nbsp;&nbsp;&nbsp;<span style=\"font-size: 0.7rem; color: red;\">■</span>&nbsp;&nbsp;&nbsp;Create a new enumeration by defining a class that inherits from the <code style=\"color: red; background-color: white;\">Enum</code> type of the enum module.\n",
    "\n",
    "&nbsp;&nbsp;&nbsp;&nbsp;<span style=\"font-size: 0.7rem; color: red;\">■</span>&nbsp;&nbsp;&nbsp;The members have the same types as the enumeration to which they belong.\n",
    "\n",
    "&nbsp;&nbsp;&nbsp;&nbsp;<span style=\"font-size: 0.7rem; color: red;\">■</span>&nbsp;&nbsp;&nbsp;Use the <code style=\"background-color: white; color: red; padding: 5px;\">enumeration<span style=\"font-size: 1rem;\">[</span><span style=\"color: blue;\">member_name</span><span style=\"font-size: 1rem;\">]</span></code> to access a member by its name and <code style=\"background-color: white; color: red; padding: 5px;\">enumeration<span style=\"font-size: 1rem;\">(</span><span style=\"color: blue;\">member_value</span><span style=\"font-size: 1rem;\">)</span></code> to access a member by its value.\n",
    "\n",
    "&nbsp;&nbsp;&nbsp;&nbsp;<span style=\"font-size: 0.7rem; color: red;\">■</span>&nbsp;&nbsp;&nbsp;Enumerations are <strong>iterable</strong>.\n",
    "\n",
    "&nbsp;&nbsp;&nbsp;&nbsp;<span style=\"font-size: 0.7rem; color: red;\">■</span>&nbsp;&nbsp;&nbsp;Enumeration members are <strong>hashable</strong>.\n",
    "\n",
    "&nbsp;&nbsp;&nbsp;&nbsp;<span style=\"font-size: 0.7rem; color: red;\">■</span>&nbsp;&nbsp;&nbsp;Enumerable are <strong>immuable</strong>.\n",
    "\n",
    "&nbsp;&nbsp;&nbsp;&nbsp;<span style=\"font-size: 0.7rem; color: red;\">■</span>&nbsp;&nbsp;&nbsp;<u>Cannot inherits</u> from an enumeration unless it has no members.\n",
    "\n",
    "</div>"
   ]
  },
  {
   "cell_type": "markdown",
   "id": "319f0581-1e63-402c-9d14-5744122b94e1",
   "metadata": {},
   "source": [
    "<br>\n",
    "\n",
    "<span style=\"color: #DCBD10; font-size: 1.2rem;\">▬▬▬▬▬▬▬▬▬▬▬▬▬▬▬▬▬▬▬▬▬▬▬▬▬▬▬▬▬▬▬▬▬▬▬▬▬▬▬▬▬▬▬▬▬▬▬▬▬▬▬▬▬▬▬▬</span>"
   ]
  },
  {
   "cell_type": "markdown",
   "id": "25e832be-a084-4aa9-8533-4da7f2242060",
   "metadata": {
    "jp-MarkdownHeadingCollapsed": true
   },
   "source": [
    "<br>\n",
    "\n",
    "## Enum <u>aliases</u> &nbsp;&nbsp;& &nbsp;&nbsp;@<u>enum.unique</u> Decorator"
   ]
  },
  {
   "cell_type": "markdown",
   "id": "ede88300-d487-45a9-b281-9e21a7032596",
   "metadata": {},
   "source": [
    "<br><br>\n",
    "\n",
    "<div style=\"color: white; background-color: #af87ff; padding: 5px;\"> <span style=\"font-size: 1.2rem;\">&nbsp;<strong>Introduction to the enum aliases</strong></span> </div>\n",
    "\n",
    "<br>\n",
    "\n",
    "🔶 &nbsp;<span style=\"color: black;\">By definition, the **enumeration** member values are <span style=\"color: red;\">unique</span>. &nbsp;<span style=\"background-color: #fff7c9;\">However, you can create different member names with the same values.</span></span>"
   ]
  },
  {
   "cell_type": "code",
   "execution_count": 106,
   "id": "9c81d6f6-20b7-4c0e-9d2c-1fc96414ccd2",
   "metadata": {},
   "outputs": [],
   "source": [
    "\n",
    "from enum import Enum\n",
    "\n",
    "\n",
    "class Color(Enum):\n",
    "    RED = 1                   # main color\n",
    "    CRIMSON = 1                               # RED member\n",
    "    SALMON = 1                                # RED member\n",
    "    GREEN = 2                 # main color\n",
    "    BLUE = 3                  # main color\n"
   ]
  },
  {
   "cell_type": "markdown",
   "id": "4d87bdad-56dd-4f4b-867c-8f4e8f47af85",
   "metadata": {},
   "source": [
    "\n",
    "<br>\n",
    "\n",
    "🔶 &nbsp;When you define multiple members in an enumeration with the same values, Python does not create different members but <span style=\"color: red;\">aliases</span>."
   ]
  },
  {
   "cell_type": "code",
   "execution_count": 105,
   "id": "d2b712f5-449b-4240-996d-e000e3d2e84a",
   "metadata": {},
   "outputs": [
    {
     "name": "stdout",
     "output_type": "stream",
     "text": [
      "True\n",
      "True\n"
     ]
    }
   ],
   "source": [
    "\n",
    "print(Color.RED is Color.CRIMSON)\n",
    "print(Color.RED is Color.SALMON)\n"
   ]
  },
  {
   "cell_type": "markdown",
   "id": "9c8ad09e-4f17-43d7-8dc2-8b92eceb7387",
   "metadata": {},
   "source": [
    "<br>\n",
    "\n",
    "🔶 &nbsp;When you <span style=\"color: blue;\">look up a member by <strong>value</strong></span>, you’ll <u>always get the main member</u>, <span style=\"color: red;\">not the aliases</span>."
   ]
  },
  {
   "cell_type": "code",
   "execution_count": 107,
   "id": "7e61a0f7-9057-490d-98b6-261fbd6a61b0",
   "metadata": {},
   "outputs": [
    {
     "name": "stdout",
     "output_type": "stream",
     "text": [
      "Color.RED\n"
     ]
    }
   ],
   "source": [
    "\n",
    "print(Color(1))\n"
   ]
  },
  {
   "cell_type": "markdown",
   "id": "b3215232-3118-4054-aabc-b1829b0a2708",
   "metadata": {},
   "source": [
    "<br>\n",
    "\n",
    "🔶 &nbsp;When you <span style=\"color: blue;\"><strong>iterate</strong> the members</span> of an enumeration with aliases, you’ll get <u>only the main members</u>, <span style=\"color: red;\">not the aliases</span>."
   ]
  },
  {
   "cell_type": "code",
   "execution_count": 109,
   "id": "84b25d18-9bc3-430b-aa4c-3e5608c2bee0",
   "metadata": {},
   "outputs": [
    {
     "name": "stdout",
     "output_type": "stream",
     "text": [
      "Color.RED\n",
      "Color.GREEN\n",
      "Color.BLUE\n"
     ]
    }
   ],
   "source": [
    "\n",
    "for color in Color:\n",
    "    print(color)\n",
    "    "
   ]
  },
  {
   "cell_type": "markdown",
   "id": "4893f51a-8c92-4469-8d17-acff861f4299",
   "metadata": {},
   "source": [
    "<br>\n",
    "\n",
    "🔶 &nbsp;To <span style=\"color: blue;\">get all the members <strong>including aliases</strong></span>, you need to use the <code style=\"color: red; background-color: yellow;\">\\_\\_member__</code> property of the enumeration class."
   ]
  },
  {
   "cell_type": "code",
   "execution_count": 111,
   "id": "c235eb54-fa99-4c32-9202-ff27a23ddb63",
   "metadata": {},
   "outputs": [
    {
     "data": {
      "text/plain": [
       "mappingproxy({'RED': <Color.RED: 1>,\n",
       "              'CRIMSON': <Color.RED: 1>,\n",
       "              'SALMON': <Color.RED: 1>,\n",
       "              'GREEN': <Color.GREEN: 2>,\n",
       "              'BLUE': <Color.BLUE: 3>})"
      ]
     },
     "execution_count": 111,
     "metadata": {},
     "output_type": "execute_result"
    }
   ],
   "source": [
    "\n",
    "Color.__members__\n"
   ]
  },
  {
   "cell_type": "code",
   "execution_count": 113,
   "id": "675c5df7-5f75-40e0-8e25-2ae6d3408675",
   "metadata": {},
   "outputs": [
    {
     "name": "stdout",
     "output_type": "stream",
     "text": [
      "mappingproxy({'BLUE': <Color.BLUE: 3>,\n",
      "              'CRIMSON': <Color.RED: 1>,\n",
      "              'GREEN': <Color.GREEN: 2>,\n",
      "              'RED': <Color.RED: 1>,\n",
      "              'SALMON': <Color.RED: 1>})\n"
     ]
    }
   ],
   "source": [
    "\n",
    "from enum import Enum\n",
    "from pprint import pprint\n",
    "\n",
    "\n",
    "class Color(Enum):\n",
    "    RED = 1\n",
    "    CRIMSON = 1\n",
    "    SALMON = 1\n",
    "    GREEN = 2\n",
    "    BLUE = 3\n",
    "\n",
    "\n",
    "pprint(Color.__members__)\n"
   ]
  },
  {
   "cell_type": "markdown",
   "id": "34cc7fc6-f366-4466-b11e-136334fe4ac6",
   "metadata": {},
   "source": [
    "<br>\n",
    "\n",
    "As shown clearly from the output, the <code style=\"color: blue;\">CRIMSON</code> and <code style=\"color: blue;\">SALMON</code> reference the same object which is referenced by the <code style=\"color: blue;\">RED</code> member : &nbsp;<code style=\"background-color: #fde979;\">\\<Color.RED: 1></code>"
   ]
  },
  {
   "cell_type": "markdown",
   "id": "49aca4a7-e484-414e-bce3-4d949a53b9f0",
   "metadata": {},
   "source": [
    "<br><br>\n",
    "\n",
    "<div style=\"color: white; background-color: #af87ff; padding: 5px;\"> <span style=\"font-size: 1.2rem;\">&nbsp;<strong>When to use enum aliases</strong></span> </div>\n",
    "\n",
    "<br>\n",
    "\n",
    "Enumeration aliases can be helpful in some situations. &nbsp;For example, suppose that you have to deal with <strong>API</strong> from two different systems. &nbsp;And each system has a different response status doe with the same meaning as shown in the following table:\n",
    "\n",
    "\n",
    "<div style=\"margin-left: 100px;\">\n",
    "\n",
    "![](../../media/Shraddha_Kapra_oops_81.PNG)\n",
    "\n",
    "</div>\n",
    "\n",
    "To standardize the status codes from these systems, you can use enumeration aliases as follows :\n",
    "\n",
    "<div style=\"margin-left: 100px;\">\n",
    "\n",
    "![](../../media/Shraddha_Kapra_oops_82.PNG)\n",
    "\n",
    "</div>\n"
   ]
  },
  {
   "cell_type": "code",
   "execution_count": 147,
   "id": "c032ced7-0366-4dfa-b376-5ffcbd0cc7c5",
   "metadata": {},
   "outputs": [],
   "source": [
    "\n",
    "from enum import Enum\n",
    "\n",
    "class ResponseStatus(Enum):\n",
    "    IN_PROGRESS = 1\n",
    "    REQUESTING = 1\n",
    "    PENDING = 1\n",
    "\n",
    "    SUCCESS = 2\n",
    "    OK = 2\n",
    "    FULFILLED = 2\n",
    "\n",
    "    ERROR = 3\n",
    "    NOT_OK = 3\n",
    "    REJECTED = 3\n"
   ]
  },
  {
   "cell_type": "markdown",
   "id": "dfb49991-8a75-441c-ac60-bfb272c81271",
   "metadata": {},
   "source": [
    "<br>\n",
    "\n",
    "The following compares the response code from <strong>system 1</strong> to check if the request was successful or not :\n"
   ]
  },
  {
   "cell_type": "code",
   "execution_count": 118,
   "id": "128fff4c-217b-4314-b280-8422dfa69a64",
   "metadata": {},
   "outputs": [
    {
     "name": "stdout",
     "output_type": "stream",
     "text": [
      "The request completed successfully\n"
     ]
    }
   ],
   "source": [
    "\n",
    "code = 'OK'\n",
    "if ResponseStatus[code] is ResponseStatus.SUCCESS:\n",
    "    print('The request completed successfully')\n"
   ]
  },
  {
   "cell_type": "markdown",
   "id": "18e44738-80ce-49c4-b649-fe439f1a0329",
   "metadata": {},
   "source": [
    "<br>\n",
    "\n",
    "Likewise, you can check the response code from <strong>system 2</strong> to see if the request was successful:"
   ]
  },
  {
   "cell_type": "code",
   "execution_count": 145,
   "id": "d0ed6147-54f6-4d4f-87e7-ca2b59f0431d",
   "metadata": {},
   "outputs": [
    {
     "name": "stdout",
     "output_type": "stream",
     "text": [
      "The request completed successfully\n"
     ]
    }
   ],
   "source": [
    "\n",
    "code = 'FULFILLED'\n",
    "if ResponseStatus[code] is ResponseStatus.SUCCESS:\n",
    "    print('The request completed successfully')\n",
    "    "
   ]
  },
  {
   "cell_type": "markdown",
   "id": "3bd815cd-73ac-4793-b098-e318cb088bba",
   "metadata": {},
   "source": [
    "<BR>"
   ]
  },
  {
   "cell_type": "code",
   "execution_count": 144,
   "id": "115e58f0-e8e2-4f94-bfde-36b60fd3c8c2",
   "metadata": {},
   "outputs": [
    {
     "name": "stdout",
     "output_type": "stream",
     "text": [
      "ResponseStatus.SUCCESS\n",
      "ResponseStatus.SUCCESS\n",
      "ResponseStatus.SUCCESS\n",
      "ResponseStatus.SUCCESS\n",
      "ResponseStatus.SUCCESS\n",
      "ResponseStatus.SUCCESS\n"
     ]
    }
   ],
   "source": [
    "\n",
    "print(ResponseStatus[\"SUCCESS\"])                 # ResponseStatus.SUCCESS\n",
    "print(ResponseStatus.SUCCESS)                    # ResponseStatus.SUCCESS\n",
    "\n",
    "print(ResponseStatus[\"OK\"])                      # ResponseStatus.SUCCESS\n",
    "print(ResponseStatus.OK)                         # ResponseStatus.SUCCESS\n",
    "\n",
    "print(ResponseStatus[\"FULFILLED\"])               # ResponseStatus.SUCCESS\n",
    "print(ResponseStatus.FULFILLED)                  # ResponseStatus.SUCCESS\n"
   ]
  },
  {
   "cell_type": "markdown",
   "id": "b108289b-9f5a-482e-82dc-538a273db921",
   "metadata": {},
   "source": [
    "<br><br>\n",
    "\n",
    "<div style=\"color: white; background-color: #af87ff; padding: 5px;\"> <span style=\"font-size: 1.2rem;\">&nbsp;<strong><span style=\"background-color: white; color: black;\">@enum.unique</span> &nbsp;decorator</strong></span> </div>\n",
    "\n",
    "<br>\n",
    "\n",
    "To define an enumeration with no aliases, you can carefully use <strong>unique values</strong> for the members. &nbsp;But if you accidentally use the same values for two members like this :"
   ]
  },
  {
   "cell_type": "code",
   "execution_count": 6,
   "id": "9f182a27-e522-4462-bcd0-2f6a5134fd37",
   "metadata": {},
   "outputs": [],
   "source": [
    "\n",
    "from enum import Enum\n",
    "\n",
    "class Day(Enum):\n",
    "    MON = 'Monday'\n",
    "    TUE = 'Monday'               # the member \"TUE\" becomes the alias of the memeber \"MON\" here due to the same value by mistake, which is not expected\n",
    "    WED = 'Wednesday'\n",
    "    THU = 'Thursday'\n",
    "    FRI = 'Friday'\n",
    "    SAT = 'Saturday'\n",
    "    SUN = 'Sunday'\n"
   ]
  },
  {
   "cell_type": "markdown",
   "id": "98800212-e63d-4dca-854d-e074297445d9",
   "metadata": {},
   "source": [
    "<br>\n",
    "\n",
    "🔶 &nbsp;To ensure an enumeration has no alias, you can use the &nbsp;<code style=\"background-color: yellow; color: red;\">@enum.unique</code>&nbsp; decorator from the enum module.\n"
   ]
  },
  {
   "cell_type": "code",
   "execution_count": 11,
   "id": "5f10a2b4-e8ef-4aa1-adbe-08fb719df5f9",
   "metadata": {},
   "outputs": [
    {
     "ename": "ValueError",
     "evalue": "duplicate values found in <enum 'Day'>: TUE -> MON",
     "output_type": "error",
     "traceback": [
      "\u001b[1;31m---------------------------------------------------------------------------\u001b[0m",
      "\u001b[1;31mValueError\u001b[0m                                Traceback (most recent call last)",
      "Cell \u001b[1;32mIn[11], line 4\u001b[0m\n\u001b[0;32m      1\u001b[0m \u001b[38;5;28;01mimport\u001b[39;00m \u001b[38;5;21;01menum\u001b[39;00m\n\u001b[0;32m      2\u001b[0m \u001b[38;5;28;01mfrom\u001b[39;00m \u001b[38;5;21;01menum\u001b[39;00m \u001b[38;5;28;01mimport\u001b[39;00m Enum\n\u001b[1;32m----> 4\u001b[0m \u001b[38;5;129;43m@enum\u001b[39;49m\u001b[38;5;241;43m.\u001b[39;49m\u001b[43munique\u001b[49m\n\u001b[0;32m      5\u001b[0m \u001b[38;5;28;43;01mclass\u001b[39;49;00m\u001b[43m \u001b[49m\u001b[38;5;21;43;01mDay\u001b[39;49;00m\u001b[43m(\u001b[49m\u001b[43mEnum\u001b[49m\u001b[43m)\u001b[49m\u001b[43m:\u001b[49m\n\u001b[0;32m      6\u001b[0m \u001b[43m    \u001b[49m\u001b[43mMON\u001b[49m\u001b[43m \u001b[49m\u001b[38;5;241;43m=\u001b[39;49m\u001b[43m \u001b[49m\u001b[38;5;124;43m'\u001b[39;49m\u001b[38;5;124;43mMonday\u001b[39;49m\u001b[38;5;124;43m'\u001b[39;49m\n\u001b[0;32m      7\u001b[0m \u001b[43m    \u001b[49m\u001b[43mTUE\u001b[49m\u001b[43m \u001b[49m\u001b[38;5;241;43m=\u001b[39;49m\u001b[43m \u001b[49m\u001b[38;5;124;43m'\u001b[39;49m\u001b[38;5;124;43mMonday\u001b[39;49m\u001b[38;5;124;43m'\u001b[39;49m\n",
      "File \u001b[1;32m~\\AppData\\Local\\Programs\\Python\\Python311\\Lib\\enum.py:1561\u001b[0m, in \u001b[0;36munique\u001b[1;34m(enumeration)\u001b[0m\n\u001b[0;32m   1558\u001b[0m \u001b[38;5;28;01mif\u001b[39;00m duplicates:\n\u001b[0;32m   1559\u001b[0m     alias_details \u001b[38;5;241m=\u001b[39m \u001b[38;5;124m'\u001b[39m\u001b[38;5;124m, \u001b[39m\u001b[38;5;124m'\u001b[39m\u001b[38;5;241m.\u001b[39mjoin(\n\u001b[0;32m   1560\u001b[0m             [\u001b[38;5;124m\"\u001b[39m\u001b[38;5;132;01m%s\u001b[39;00m\u001b[38;5;124m -> \u001b[39m\u001b[38;5;132;01m%s\u001b[39;00m\u001b[38;5;124m\"\u001b[39m \u001b[38;5;241m%\u001b[39m (alias, name) \u001b[38;5;28;01mfor\u001b[39;00m (alias, name) \u001b[38;5;129;01min\u001b[39;00m duplicates])\n\u001b[1;32m-> 1561\u001b[0m     \u001b[38;5;28;01mraise\u001b[39;00m \u001b[38;5;167;01mValueError\u001b[39;00m(\u001b[38;5;124m'\u001b[39m\u001b[38;5;124mduplicate values found in \u001b[39m\u001b[38;5;132;01m%r\u001b[39;00m\u001b[38;5;124m: \u001b[39m\u001b[38;5;132;01m%s\u001b[39;00m\u001b[38;5;124m'\u001b[39m \u001b[38;5;241m%\u001b[39m\n\u001b[0;32m   1562\u001b[0m             (enumeration, alias_details))\n\u001b[0;32m   1563\u001b[0m \u001b[38;5;28;01mreturn\u001b[39;00m enumeration\n",
      "\u001b[1;31mValueError\u001b[0m: duplicate values found in <enum 'Day'>: TUE -> MON"
     ]
    }
   ],
   "source": [
    "\n",
    "import enum\n",
    "from enum import Enum\n",
    "\n",
    "@enum.unique\n",
    "class Day(Enum):\n",
    "    MON = 'Monday'\n",
    "    TUE = 'Monday'\n",
    "    WED = 'Wednesday'\n",
    "    THU = 'Thursday'\n",
    "    FRI = 'Friday'\n",
    "    SAT = 'Saturday'\n",
    "    SUN = 'Sunday'\n"
   ]
  },
  {
   "cell_type": "markdown",
   "id": "680b6430-f60d-457b-bb00-cc711c27ba15",
   "metadata": {},
   "source": [
    "<br><br>\n",
    "\n",
    "<div style=\"color: white; background-color: #af87ff; padding: 5px;\"> <span style=\"font-size: 1.2rem;\">&nbsp;<strong>Summary</strong></span> </div>\n"
   ]
  },
  {
   "cell_type": "markdown",
   "id": "768a7f77-f966-48b3-af28-201a96bcc32e",
   "metadata": {},
   "source": [
    "<br>\n",
    "\n",
    "<div style=\"background-color: #fff7e7; padding-top: 15px; padding-bottom: 4px;\">\n",
    "\n",
    "&nbsp;&nbsp;&nbsp;&nbsp;<span style=\"font-size: 0.7rem; color: red;\">■</span>&nbsp;&nbsp;&nbsp;When an enumeration has different members with the same values, <u>the **first member** is the main member while others are aliases of the main member</u>. <br>\n",
    "\n",
    "&nbsp;&nbsp;&nbsp;&nbsp;<span style=\"font-size: 0.7rem; color: red;\">■</span>&nbsp;&nbsp;&nbsp;Use the &nbsp;<code style=\"color:red; background-color: yellow;\">@enum.unique</code>&nbsp; decorator from the enum module <span style=\"color: blue;\">to enforce the uniqueness of the values of the members</span>.\n",
    "\n",
    "\n",
    "</div>"
   ]
  },
  {
   "cell_type": "markdown",
   "id": "657cd36a-2f6a-4e93-952a-de61f1fbba14",
   "metadata": {},
   "source": [
    "<br>\n",
    "\n",
    "<span style=\"color: #DCBD10; font-size: 1.2rem;\">▬▬▬▬▬▬▬▬▬▬▬▬▬▬▬▬▬▬▬▬▬▬▬▬▬▬▬▬▬▬▬▬▬▬▬▬▬▬▬▬▬▬▬▬▬▬▬▬▬▬▬▬▬▬▬▬</span>"
   ]
  },
  {
   "cell_type": "markdown",
   "id": "64d7fc2a-c80b-48c5-b1dd-75dded7be3bb",
   "metadata": {},
   "source": [
    "<br>\n",
    "\n",
    "## <u>Customize</u> &nbsp;&nbsp;&&nbsp;&nbsp; <u>Extend</u> Enum Classes"
   ]
  },
  {
   "cell_type": "markdown",
   "id": "31f52833-dd4f-43db-87ef-2095ea59e040",
   "metadata": {},
   "source": [
    "<br><br>\n",
    "\n",
    "<div style=\"color: white; background-color: #af87ff; padding: 5px;\"> <span style=\"font-size: 1.2rem;\">&nbsp;<strong>Customize Python enum classes</strong></span> </div>\n",
    "\n",
    "<br>\n",
    "\n",
    "🔶 &nbsp;Python enumerations are classes.  It means that you can add methods to them, or implement the **dunder** methods to customize their behaviors."
   ]
  },
  {
   "cell_type": "code",
   "execution_count": 12,
   "id": "aa5fd2e5-5e2f-45e5-b06a-2052ab5e2be9",
   "metadata": {},
   "outputs": [],
   "source": [
    "\n",
    "from enum import Enum\n",
    "\n",
    "\n",
    "class PaymentStatus(Enum):\n",
    "    PENDING = 1\n",
    "    COMPLETED = 2\n",
    "    REFUNDED = 3\n"
   ]
  },
  {
   "cell_type": "code",
   "execution_count": 14,
   "id": "7264fc5e-7957-4fe4-8544-e85e44def13f",
   "metadata": {},
   "outputs": [
    {
     "data": {
      "text/plain": [
       "<PaymentStatus.PENDING: 1>"
      ]
     },
     "execution_count": 14,
     "metadata": {},
     "output_type": "execute_result"
    }
   ],
   "source": [
    "\n",
    "PaymentStatus.PENDING\n"
   ]
  },
  {
   "cell_type": "code",
   "execution_count": 15,
   "id": "450d64fc-fa49-4d8c-a234-7082096f4503",
   "metadata": {},
   "outputs": [
    {
     "name": "stdout",
     "output_type": "stream",
     "text": [
      "PaymentStatus.PENDING\n"
     ]
    }
   ],
   "source": [
    "\n",
    "print(PaymentStatus.PENDING)\n"
   ]
  },
  {
   "cell_type": "markdown",
   "id": "29a3271c-b852-43ca-bd3e-6e476939d272",
   "metadata": {},
   "source": [
    "<br>\n",
    "\n",
    "🔶 &nbsp;To customize how the <code>PaymentStatus</code> member’s is represented in the string, you can implement the &nbsp;<code style=\"color: red;\">\\_\\_str__</code>&nbsp; method. &nbsp;For example :"
   ]
  },
  {
   "cell_type": "code",
   "execution_count": 31,
   "id": "842568c6-d502-489b-9db8-161c922aa08f",
   "metadata": {},
   "outputs": [
    {
     "name": "stdout",
     "output_type": "stream",
     "text": [
      "pending(1)\n"
     ]
    }
   ],
   "source": [
    "\n",
    "from enum import Enum\n",
    "\n",
    "\n",
    "class PaymentStatus(Enum):\n",
    "    PENDING = 1\n",
    "    COMPLETED = 2\n",
    "    REFUNDED = 3\n",
    "\n",
    "    def __str__(self):\n",
    "        return f'{self.name.lower()}({self.value})'                 #  self  ---->  PayementStstaus.PENDING  ---->  object of type \"PendingStatus\"\n",
    "\n",
    "\n",
    "print(PaymentStatus.PENDING)\n"
   ]
  },
  {
   "cell_type": "markdown",
   "id": "b02e99d7-c24c-46b4-9df2-11393d7cb9d0",
   "metadata": {},
   "source": [
    "<br><br>\n",
    "\n",
    "<div style=\"color: white; background-color: #af87ff; padding: 5px;\"> <span style=\"font-size: 1.2rem;\">&nbsp;<strong>Implementing &nbsp;__eq__ &nbsp;method</strong></span> </div>\n",
    "\n",
    "<br>\n"
   ]
  },
  {
   "cell_type": "code",
   "execution_count": 35,
   "id": "50ff2542-f823-4c60-b220-f436344c7107",
   "metadata": {},
   "outputs": [
    {
     "name": "stdout",
     "output_type": "stream",
     "text": [
      "can't compare\n"
     ]
    }
   ],
   "source": [
    "\n",
    "if PaymentStatus.PENDING == 1:                                     # comparing an object of Payament Status method with an integer\n",
    "    print('The payment is pending.')\n",
    "else:\n",
    "    print(\"can't compare\")\n",
    "    "
   ]
  },
  {
   "cell_type": "markdown",
   "id": "185223c9-7d1d-461b-9a58-a5b86b8d898d",
   "metadata": {},
   "source": [
    "<br>\n",
    "\n",
    "🔶 &nbsp;To allow the comparison between &nbsp;<code>PaymentStatus</code>&nbsp; member and an integer, you can implement the &nbsp;<code style=\"color: red;\">\\_\\_eq__</code>&nbsp; method like this :"
   ]
  },
  {
   "cell_type": "code",
   "execution_count": 42,
   "id": "8abea1d7-269d-450a-87c2-a726f3aa5730",
   "metadata": {},
   "outputs": [
    {
     "name": "stdout",
     "output_type": "stream",
     "text": [
      "The payment is pending.\n"
     ]
    }
   ],
   "source": [
    "\n",
    "from enum import Enum\n",
    "\n",
    "\n",
    "class PaymentStatus(Enum):\n",
    "    PENDING = 1\n",
    "    COMPLETED = 2\n",
    "    REFUNDED = 3\n",
    "\n",
    "    def __str__(self):\n",
    "        return f'{self.name.lower()}({self.value})'\n",
    "\n",
    "    def __eq__(self, other):\n",
    "        if isinstance(other, int):                     # if \"other\" belongs to <int> class\n",
    "            return self.value == other                         # compares the value of the <PaymentStatus> member \"self\" with the integer\n",
    "\n",
    "        if isinstance(other, PaymentStatus):           # if \"other\" belongs to <PaymentStatus> class\n",
    "            return self is other                               # compares the value of the \"self\" with the value of the \"other\" using the \"is\" operator\n",
    "\n",
    "        return False\n",
    "\n",
    "\n",
    "if PaymentStatus.PENDING == 1:\n",
    "    print('The payment is pending.')\n"
   ]
  },
  {
   "cell_type": "markdown",
   "id": "f10fc1d1-7a68-484b-9716-4238345ae492",
   "metadata": {},
   "source": [
    "<br><br>\n",
    "\n",
    "<div style=\"color: white; background-color: #af87ff; padding: 5px;\"> <span style=\"font-size: 1.2rem;\">&nbsp;<strong>Implementing &nbsp;__lt__ &nbsp;method</strong></span> </div>\n",
    "\n",
    "<br>\n",
    "\n",
    "Suppose that you want the members of the &nbsp;<code>PaymentStatus</code>&nbsp; to follow a <strong>sorted order based on their values</strong>. And you also want to compare them with an integer.\n",
    "\n",
    "🔶 &nbsp;To do that, you can implement the &nbsp;<code style=\"color: red;\">\\_\\_lt__</code>&nbsp; method and use the &nbsp;<code style=\"color: red;\">@total_ordering</code>&nbsp; <strong>decorator</strong> from the &nbsp;<code style=\"color: red;\">functools</code>&nbsp; module :"
   ]
  },
  {
   "cell_type": "code",
   "execution_count": 44,
   "id": "a1a67eb5-2652-448a-bec2-1f5740804372",
   "metadata": {},
   "outputs": [
    {
     "name": "stdout",
     "output_type": "stream",
     "text": [
      "The payment has not completed\n"
     ]
    }
   ],
   "source": [
    "\n",
    "from enum import Enum\n",
    "from functools import total_ordering\n",
    "\n",
    "\n",
    "@total_ordering\n",
    "class PaymentStatus(Enum):\n",
    "    PENDING = 1\n",
    "    COMPLETED = 2\n",
    "    REFUNDED = 3\n",
    "\n",
    "    def __str__(self):\n",
    "        return f'{self.name.lower()}({self.value})'\n",
    "\n",
    "    def __eq__(self, other):\n",
    "        if isinstance(other, int):\n",
    "            return self.value == other\n",
    "\n",
    "        if isinstance(other, PaymentStatus):\n",
    "            return self is other\n",
    "\n",
    "        return False\n",
    "\n",
    "    def __lt__(self, other):\n",
    "        if isinstance(other, int):\n",
    "            return self.value < other\n",
    "\n",
    "        if isinstance(other, PaymentStatus):\n",
    "            return self.value < other.value\n",
    "\n",
    "        return False\n",
    "\n",
    "\n",
    "# compare with an integer\n",
    "status = 1\n",
    "if status < PaymentStatus.COMPLETED:\n",
    "    print('The payment has not completed')\n",
    "\n",
    "\n",
    "# compare with another member\n",
    "status = PaymentStatus.PENDING\n",
    "if status >= PaymentStatus.COMPLETED:\n",
    "    print('The payment is not pending')\n"
   ]
  },
  {
   "cell_type": "markdown",
   "id": "03dc06fb-fe95-4dc9-be3c-a70a91b0f4af",
   "metadata": {},
   "source": [
    "<br><br>\n",
    "\n",
    "<div style=\"color: white; background-color: #af87ff; padding: 5px;\"> <span style=\"font-size: 1.2rem;\">&nbsp;<strong>Implementing &nbsp;the &nbsp;__bool__ &nbsp;method</strong></span> </div>\n",
    "\n",
    "<br>\n",
    "\n",
    "🔶 &nbsp;By default, all members of an enumeration are <strong>truthy</strong>. &nbsp;For example :"
   ]
  },
  {
   "cell_type": "code",
   "execution_count": 45,
   "id": "02d3e247-c57d-4a57-8ea0-732bb2213121",
   "metadata": {},
   "outputs": [
    {
     "name": "stdout",
     "output_type": "stream",
     "text": [
      "pending(1) True\n",
      "completed(2) True\n",
      "refunded(3) True\n"
     ]
    }
   ],
   "source": [
    "\n",
    "for member in PaymentStatus:\n",
    "    print(member, bool(member))\n"
   ]
  },
  {
   "cell_type": "markdown",
   "id": "1cbb3d3e-8a94-48e8-8277-4fa5a6b699a1",
   "metadata": {},
   "source": [
    "<br>\n",
    "\n",
    "🔶 &nbsp;To customize this behavior, you need to implement the &nbsp;<code style=\"color: red;\">\\_\\_bool__</code>&nbsp; method. <br>\n",
    "&nbsp;&nbsp;&nbsp;&nbsp;&nbsp;&nbsp;&nbsp;Suppose you want the &nbsp;<code>COMPLETED</code>&nbsp; and &nbsp;<code>REFUNDED</code>&nbsp; members to be &nbsp;<span style=\"color: red;\">True</span>&nbsp; while the &nbsp;<code>PENDING</code>&nbsp; to be &nbsp;<span style=\"color: red;\">False</span>."
   ]
  },
  {
   "cell_type": "code",
   "execution_count": 54,
   "id": "706306cb-c704-4f1f-b39d-2c3618f9aac3",
   "metadata": {},
   "outputs": [
    {
     "name": "stdout",
     "output_type": "stream",
     "text": [
      "pending(1) False\n",
      "completed(2) True\n",
      "refunded(3) True\n"
     ]
    }
   ],
   "source": [
    "\n",
    "from enum import Enum\n",
    "from functools import total_ordering\n",
    "\n",
    "\n",
    "@total_ordering\n",
    "class PaymentStatus(Enum):\n",
    "    PENDING = 1\n",
    "    COMPLETED = 2\n",
    "    REFUNDED = 3\n",
    "\n",
    "    def __str__(self):\n",
    "        return f'{self.name.lower()}({self.value})'\n",
    "\n",
    "    def __eq__(self, other):\n",
    "        if isinstance(other, int):\n",
    "            return self.value == other\n",
    "\n",
    "        if isinstance(other, PaymentStatus):\n",
    "            return self is other\n",
    "\n",
    "        return False\n",
    "\n",
    "    def __lt__(self, other):\n",
    "        if isinstance(other, int):\n",
    "            return self.value < other\n",
    "\n",
    "        if isinstance(other, PaymentStatus):\n",
    "            return self.value < other.value\n",
    "\n",
    "        return False\n",
    "\n",
    "    def __bool__(self):\n",
    "        if self is self.COMPLETED or self is self.REFUNDED:\n",
    "            return True\n",
    "\n",
    "        return False\n",
    "\n",
    "\n",
    "for member in PaymentStatus:\n",
    "    print(member, bool(member))\n"
   ]
  },
  {
   "cell_type": "markdown",
   "id": "7dcb885f-ff90-43cb-bd8e-b63d18fe66f3",
   "metadata": {},
   "source": [
    "<br><br>\n",
    "\n",
    "<div style=\"color: white; background-color: #af87ff; padding: 5px;\"> <span style=\"font-size: 1.2rem;\">&nbsp;<strong>Extend Python enum classes</strong></span> </div>\n",
    "\n",
    "<br>\n",
    "\n",
    "🔶 &nbsp;<span style=\"background-color: #fff6e0; padding: 4px;\">Python doesn’t allow you to extend an <code style=\"background-color: yellow; color: red;\">enum</code> class unless it has no member</span>. &nbsp;However, this is <strong>not a limitation</strong>. <br>\n",
    "&nbsp;&nbsp;&nbsp;&nbsp;&nbsp;&nbsp;&nbsp;<span style=\"background-color: #fff6e0; padding: 4px;\">Because you can define a base class that has methods but no member and then extend this base class</span>. &nbsp;For example :"
   ]
  },
  {
   "cell_type": "code",
   "execution_count": 60,
   "id": "bba4a09f-1191-4570-9bb3-2c287e760991",
   "metadata": {},
   "outputs": [],
   "source": [
    "\n",
    "\n",
    "from enum import Enum\n",
    "from functools import total_ordering\n",
    "\n",
    "\n",
    "@total_ordering\n",
    "class OrderedEnum(Enum):\n",
    "    def __lt__(self, other):\n",
    "        if isinstance(other, OrderedEnum):\n",
    "            return self.value < other.value\n",
    "        return NotImplemented\n",
    "\n",
    "\n",
    "class ApprovalStatus(OrderedEnum):\n",
    "    PENDING = 1\n",
    "    IN_PROGRESS = 2\n",
    "    APPROVED = 3\n"
   ]
  },
  {
   "cell_type": "code",
   "execution_count": 61,
   "id": "b5affd44-3716-4767-8054-7be65c15d012",
   "metadata": {},
   "outputs": [
    {
     "name": "stdout",
     "output_type": "stream",
     "text": [
      "IN_PROGRESS\n",
      "2\n"
     ]
    }
   ],
   "source": [
    "\n",
    "status = ApprovalStatus(2)                       # <ApprovalStatus.IN_PROGRESS: 2>\n",
    "\n",
    "print(status.name)\n",
    "print(status.value)\n"
   ]
  },
  {
   "cell_type": "code",
   "execution_count": 68,
   "id": "188513fb-1ed1-4a4a-ad8c-2128af3ace8d",
   "metadata": {},
   "outputs": [
    {
     "name": "stdout",
     "output_type": "stream",
     "text": [
      "True\n"
     ]
    }
   ],
   "source": [
    "\n",
    "status1 = ApprovalStatus(2)                     # calls the member of the enum class \"ApprovalStatus\" by value = 2\n",
    "status2 = ApprovalStatus.IN_PROGRESS\n",
    "\n",
    "print(status1 is status2)\n"
   ]
  },
  {
   "cell_type": "markdown",
   "id": "1185292a-c112-49ac-8fe4-feb9df2aac12",
   "metadata": {},
   "source": [
    "\n",
    "<br>\n",
    "\n",
    "<span style=\"color: #a336ff;\">This means that both <code>status1</code> and <code>status2</code> reference the <span style=\"color: red;\">same instance</span>, and they are <span style=\"color: blue;\">identical in terms of <strong>memory location</strong> and <strong>value</strong></span>.</span>"
   ]
  },
  {
   "cell_type": "code",
   "execution_count": 62,
   "id": "0efdc556-f71d-43bb-b710-631745148da5",
   "metadata": {},
   "outputs": [
    {
     "name": "stdout",
     "output_type": "stream",
     "text": [
      "The request has not been approved.\n"
     ]
    }
   ],
   "source": [
    "\n",
    "status = ApprovalStatus(2)\n",
    "if status < ApprovalStatus.APPROVED:\n",
    "    print('The request has not been approved.')\n"
   ]
  },
  {
   "cell_type": "markdown",
   "id": "537e1d02-daa4-42f0-93da-f2f52648db52",
   "metadata": {},
   "source": [
    "<br>\n",
    "\n",
    "<span style=\"color: #a336ff;\">To put it all together :</span>\n"
   ]
  },
  {
   "cell_type": "code",
   "execution_count": 64,
   "id": "320ff046-7545-4eea-9505-5588f2bd97ed",
   "metadata": {},
   "outputs": [
    {
     "name": "stdout",
     "output_type": "stream",
     "text": [
      "The request has not been approved.\n"
     ]
    }
   ],
   "source": [
    "\n",
    "from enum import Enum\n",
    "from functools import total_ordering\n",
    "\n",
    "\n",
    "@total_ordering\n",
    "class OrderedEnum(Enum):\n",
    "    def __lt__(self, other):\n",
    "        if isinstance(other, OrderedEnum):\n",
    "            return self.value < other.value\n",
    "        return NotImplemented\n",
    "\n",
    "\n",
    "class ApprovalStatus(OrderedEnum):\n",
    "    PENDING = 1\n",
    "    IN_PROGRESS = 2\n",
    "    APPROVED = 3\n",
    "\n",
    "\n",
    "status = ApprovalStatus(2)\n",
    "if status < ApprovalStatus.APPROVED:\n",
    "    print('The request has not been approved.')\n"
   ]
  },
  {
   "cell_type": "markdown",
   "id": "d7a61382-f91c-472e-8288-ed2716d2f75d",
   "metadata": {},
   "source": [
    "<br><br>\n",
    "\n",
    "<div style=\"color: white; background-color: #af87ff; padding: 5px;\"> <span style=\"font-size: 1.2rem;\">&nbsp;<strong>Summary</strong></span> </div>\n"
   ]
  },
  {
   "cell_type": "markdown",
   "id": "b42c8e01-5a03-49f2-b01d-bf56bd1bc70c",
   "metadata": {},
   "source": [
    "<br>\n",
    "\n",
    "<div style=\"background-color: #fff7e7; padding-top: 15px; padding-bottom: 4px;\">\n",
    "\n",
    "&nbsp;&nbsp;&nbsp;&nbsp;<span style=\"font-size: 0.7rem; color: red;\">■</span>&nbsp;&nbsp;&nbsp;Implement <strong>dunder</strong> methods to <span style=\"color: red;\">customize</span> the behavior of Python enum classes. <br>\n",
    "\n",
    "&nbsp;&nbsp;&nbsp;&nbsp;<span style=\"font-size: 0.7rem; color: red;\">■</span>&nbsp;&nbsp;&nbsp;Define an emum class with <strong>no members</strong> and methods and <strong>extends</strong> this base class</span>.\n",
    "\n",
    "</div>"
   ]
  },
  {
   "cell_type": "markdown",
   "id": "8e4472fd-ef80-448c-b0b6-2bdaa4ca38d1",
   "metadata": {},
   "source": [
    "<br>\n",
    "\n",
    "<span style=\"color: #DCBD10; font-size: 1.2rem;\">▬▬▬▬▬▬▬▬▬▬▬▬▬▬▬▬▬▬▬▬▬▬▬▬▬▬▬▬▬▬▬▬▬▬▬▬▬▬▬▬▬▬▬▬▬▬▬▬▬▬▬▬▬▬▬▬</span>"
   ]
  },
  {
   "cell_type": "markdown",
   "id": "9720d3b4-37e6-43a4-bdf5-010df224ee20",
   "metadata": {},
   "source": [
    "<br>\n",
    "\n",
    "## Python enum <u>auto</u>\n"
   ]
  },
  {
   "cell_type": "markdown",
   "id": "113810e4-222d-4fd6-b3a4-80057da237db",
   "metadata": {},
   "source": [
    "<br>\n",
    "\n",
    "<div style=\"background-color: #fff7e7; padding-top: 15px; padding-bottom: 4px;\">\n",
    "\n",
    "&nbsp;&nbsp;&nbsp;&nbsp;We use enum <code style=\"background-color: #fff631; color: red;\">auto()</code> class <u>to automatically generate <strong>unique values</strong></u> for enumeration members. <br>\n",
    "\n",
    "</div>\n",
    "\n",
    "<br><br>\n",
    "\n",
    "<div style=\"color: white; background-color: #af87ff; padding: 5px;\"> <span style=\"font-size: 1.2rem;\">&nbsp;<strong>Introduction to the enum <span style=\"background-color: white; color: black;\">&nbsp;auto( )&nbsp;</span> function</strong></span> </div>\n",
    "\n",
    "<br>\n"
   ]
  },
  {
   "cell_type": "code",
   "execution_count": 75,
   "id": "6290d966-f982-4754-8647-bdc581cb3c83",
   "metadata": {},
   "outputs": [],
   "source": [
    "\n",
    "from enum import Enum\n",
    "\n",
    "\n",
    "class State(Enum):\n",
    "    PENDING = 1\n",
    "    FULFILLED = 2\n",
    "    REJECTED = 3\n"
   ]
  },
  {
   "cell_type": "markdown",
   "id": "35804c96-4f98-498b-a4ff-86a28404bd22",
   "metadata": {},
   "source": [
    "<br>\n",
    "\n",
    "To make it more convenient, Python 3.6 introduced the &nbsp;<code style=\"color: red; background-color: yellow;\">auto()</code>&nbsp; helper class in the &nbsp;<code style=\"background-color: yellow; color: red;\">enum</code>&nbsp; module which you can use <span style=\"color: blue;\">to automatically assign values to **Enum** members</span>. This is useful when you don't care about the specific values and want them to be **automatically generated**.\n"
   ]
  },
  {
   "cell_type": "code",
   "execution_count": 78,
   "id": "699c211c-cbc6-4b44-86dd-c3dcc3589371",
   "metadata": {},
   "outputs": [
    {
     "name": "stdout",
     "output_type": "stream",
     "text": [
      "PENDING 1\n",
      "FULFILLED 2\n",
      "REJECTED 3\n"
     ]
    }
   ],
   "source": [
    "\n",
    "from enum import Enum, auto\n",
    "\n",
    "\n",
    "class State(Enum):\n",
    "    PENDING = auto()\n",
    "    FULFILLED = auto()\n",
    "    REJECTED = auto()\n",
    "\n",
    "    def __str__(self):\n",
    "        return f'{self.name(self.value)}'\n",
    "\n",
    "\n",
    "for state in State:\n",
    "    print(state.name, state.value)\n"
   ]
  },
  {
   "cell_type": "markdown",
   "id": "f87396b0-aac9-445c-9155-e9e93a5df4aa",
   "metadata": {},
   "source": [
    "<br><br>\n",
    "\n",
    "<div style=\"color: white; background-color: #af87ff; padding: 5px;\"> <span style=\"font-size: 1.2rem;\">&nbsp;<strong>How enum <span style=\"background-color: white; color: black;\">&nbsp;auto( )&nbsp;</span> works</strong></span> </div>\n",
    "\n",
    "<br>\n",
    "\n",
    "🔶 &nbsp;Technically, the &nbsp;<code style=\"color: red; background-color: yellow;\">auto()</code>&nbsp;  calls the &nbsp;<code style=\"color: red;\">\\_generate_next_value_()</code>&nbsp; method to generate values for the members. Here’s the syntax of the &nbsp;<code style=\"color: red;\">\\_generate_next_value_()</code>&nbsp; method :\n",
    "\n",
    "\n",
    "<div style=\"margin-left: 100px;\">\n",
    "\n",
    "![](../../media/Shraddha_Kapra_oops_83.PNG)\n",
    "\n",
    "</div>\n",
    "\n",
    "<div style=\"background-color: white; padding-top: 15px; padding-bottom: 4px; margin-left: 210px;\">\n",
    "\n",
    "&nbsp;&nbsp;&nbsp;&nbsp;<span style=\"font-size: 0.7rem; color: black;\">■</span>&nbsp;&nbsp;&nbsp;<code style=\"color: red;\">name</code>&nbsp; is the member's name\n",
    "\n",
    "&nbsp;&nbsp;&nbsp;&nbsp;<span style=\"font-size: 0.7rem; color: black;\">■</span>&nbsp;&nbsp;&nbsp;<code style=\"color: red;\">start</code>&nbsp; is the starting value of the enum members.\n",
    "\n",
    "&nbsp;&nbsp;&nbsp;&nbsp;<span style=\"font-size: 0.7rem; color: black;\">■</span>&nbsp;&nbsp;&nbsp;<code style=\"color: red;\">count</code>&nbsp; is the number of enum members, including <span style=\"color: blue;\">aliases</span>, that have been created.\n",
    "\n",
    "&nbsp;&nbsp;&nbsp;&nbsp;<span style=\"font-size: 0.7rem; color: black;\">■</span>&nbsp;&nbsp;&nbsp;<code style=\"color: red;\">last_values</code>&nbsp; is a <span style=\"color: blue;\">list of all preceding values</span> used for the enum members.\n",
    "\n",
    "</div>\n",
    "\n",
    "<br>\n",
    "\n",
    "🔶 &nbsp;By default, the &nbsp;<code style=\"color: red; background-color: yellow;\">\\_generate_next_value_()</code>&nbsp; generates the next number in a sequence of integers starting from one. However, Python may change this logic in the future.\n",
    "\n",
    "<br>\n",
    "\n",
    "<div style=\"display: flex;\">\n",
    "\n",
    "<div>🔶 &nbsp;</div>\n",
    "<div>To override the &nbsp;<code style=\"color: red; background-color: yellow;\">_generate_next_value_()</code>&nbsp; method <span style=\"color: blue;\">to add a <strong>custom logic</strong> that generates unique values</span>, you need to place the &nbsp;<code style=\"color: red; background-color: yellow;\">_generate_next_value_()</code>&nbsp; method before defining all the members.</div>\n",
    "    \n",
    "</div>\n",
    "\n",
    "\n",
    "\n"
   ]
  },
  {
   "cell_type": "code",
   "execution_count": 83,
   "id": "b5c362c9-6dd2-4041-a1be-719a2ac2dc3c",
   "metadata": {},
   "outputs": [
    {
     "name": "stdout",
     "output_type": "stream",
     "text": [
      "PENDING pending\n",
      "FULFILLED fulfilled\n",
      "REJECTED rejected\n"
     ]
    }
   ],
   "source": [
    "\n",
    "from enum import Enum, auto\n",
    "\n",
    "\n",
    "class State(Enum):\n",
    "    def _generate_next_value_(name, start, count, last_values):\n",
    "        return name.lower()\n",
    "\n",
    "    PENDING = auto()\n",
    "    FULFILLED = auto()\n",
    "    REJECTED = auto()\n",
    "\n",
    "\n",
    "for state in State:\n",
    "    print(state.name, state.value)\n"
   ]
  },
  {
   "cell_type": "markdown",
   "id": "cf90319f-ced2-4802-9bf4-4553e2c7ae9e",
   "metadata": {},
   "source": [
    "<br>\n",
    "\n",
    "<span style=\"color: #DCBD10; font-size: 1.2rem;\">▬▬▬▬▬▬▬▬▬▬▬▬▬▬▬▬▬▬▬▬▬▬▬▬▬▬▬▬▬▬▬▬▬▬▬▬▬▬▬▬▬▬▬▬▬▬▬▬▬▬▬▬▬▬▬▬</span>"
   ]
  },
  {
   "cell_type": "code",
   "execution_count": null,
   "id": "4e55999e-bd0d-453c-a02a-9d3f995d4a5a",
   "metadata": {},
   "outputs": [],
   "source": []
  },
  {
   "cell_type": "code",
   "execution_count": null,
   "id": "685f64b7-23fe-4db2-b048-0c5b97947708",
   "metadata": {},
   "outputs": [],
   "source": []
  }
 ],
 "metadata": {
  "kernelspec": {
   "display_name": "Python 3 (ipykernel)",
   "language": "python",
   "name": "python3"
  },
  "language_info": {
   "codemirror_mode": {
    "name": "ipython",
    "version": 3
   },
   "file_extension": ".py",
   "mimetype": "text/x-python",
   "name": "python",
   "nbconvert_exporter": "python",
   "pygments_lexer": "ipython3",
   "version": "3.11.3"
  }
 },
 "nbformat": 4,
 "nbformat_minor": 5
}
