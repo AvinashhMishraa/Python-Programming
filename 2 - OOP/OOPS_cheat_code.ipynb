{
 "cells": [
  {
   "cell_type": "markdown",
   "id": "96281aec-b341-4ef4-b0de-de4caafed2b7",
   "metadata": {},
   "source": [
    "<br>\n",
    "<br>\n",
    "\n",
    "# <strong>SOLID</strong> &nbsp;principles"
   ]
  },
  {
   "cell_type": "markdown",
   "id": "8ca93fba-d950-4a82-8c86-4fb36677aea9",
   "metadata": {},
   "source": [
    "<br>\n",
    "\n",
    "### <div style=\"color: white; background-color: #af87ff; padding: 5px;\"> <span style=\"font-size: 1.2rem;\">&nbsp;<strong>S - Single Responsibility Principle</strong></span> </div>\n"
   ]
  },
  {
   "cell_type": "markdown",
   "id": "26b15b96-f27a-4e0b-8305-ad6bb0fd5133",
   "metadata": {},
   "source": [
    "\n",
    "<div style=\"background-color: #fff7e7; padding-top: 15px; padding-bottom: 4px;\">\n",
    "\n",
    "&nbsp;&nbsp;&nbsp;&nbsp;<span style=\"font-size: 0.7rem; color: red;\">■</span>&nbsp;&nbsp;&nbsp;The **single responsibility principle (SRP)** states that every class, method, and function should have <span style=\"color: red;\">only one job or one reason to change</span>. \n",
    "\n",
    "<br>\n",
    "\n",
    "&nbsp;&nbsp;&nbsp;&nbsp;<span style=\"font-size: 0.7rem; color: red;\">■</span>&nbsp;&nbsp;&nbsp;A class should have only one job. <br>\n",
    "&nbsp;&nbsp;&nbsp;&nbsp;&nbsp;&nbsp;&nbsp;&nbsp;&nbsp;&nbsp;If a class has more than one responsibility, it becomes coupled. <br>\n",
    "&nbsp;&nbsp;&nbsp;&nbsp;&nbsp;&nbsp;&nbsp;&nbsp;&nbsp;&nbsp;A change to one responsibility results to modification of the other responsibility.\n",
    "\n",
    "<br>\n",
    "\n",
    "&nbsp;&nbsp;&nbsp;&nbsp;<span style=\"font-size: 0.7rem; color: red;\">■</span>&nbsp;&nbsp;&nbsp;When designing our classes, we should aim to put related features together, so whenever they tend to change they change for the same reason.  <br>\n",
    "&nbsp;&nbsp;&nbsp;&nbsp;&nbsp;&nbsp;&nbsp;&nbsp;&nbsp;&nbsp;And we should try to separate features if they will change for different reasons. <br>\n",
    "&nbsp;&nbsp;&nbsp;&nbsp;&nbsp;&nbsp;&nbsp;&nbsp;&nbsp;&nbsp;In other words, minimize class responsibilities and isolate varying aspects.\n",
    "\n",
    "<br>\n",
    "\n",
    "&nbsp;&nbsp;&nbsp;&nbsp;<span style=\"font-size: 0.7rem; color: red;\">■</span>&nbsp;&nbsp;&nbsp;<span style=\"color: blue;\">**Benefits :**</span> &nbsp;<u>Avoid code duplication</u> and <u>enhances code maintenance</u>\n",
    "\n",
    "\n",
    "\n",
    "</div>\n",
    "\n",
    "<br>"
   ]
  },
  {
   "cell_type": "markdown",
   "id": "8ae759f5-f477-4aab-b70e-ec6e08d71a0d",
   "metadata": {},
   "source": [
    "\n",
    "##### <code style=\"background-color: #f1c40f; color: black; padding: 5px; font-size: 1.1rem;\">EXAMPLE - 1</code>\n",
    "\n",
    "<br>\n",
    "\n",
    "<span style=\"color: black; font-size: 1rem; padding: 2px;\">&nbsp;<strong>Principle &nbsp;violation</strong>&nbsp;</span>\n",
    "\n",
    "&nbsp;&nbsp;<span style=\"color: #a245ff;\">A bad approach would be to have a <strong><u>single function</u></strong> or a <strong><u>single class</u></strong> doing all the work :</span>"
   ]
  },
  {
   "cell_type": "code",
   "execution_count": 19,
   "id": "cdb235c5-69e4-414a-b834-947649643d3b",
   "metadata": {},
   "outputs": [
    {
     "name": "stdout",
     "output_type": "stream",
     "text": [
      "Save the Person(name=John Doe) to the database\n"
     ]
    }
   ],
   "source": [
    "\n",
    "class Person:\n",
    "    def __init__(self, name):\n",
    "        self.name = name\n",
    "\n",
    "    def __repr__(self):\n",
    "        return f'Person(name={self.name})'\n",
    "\n",
    "    @classmethod\n",
    "    def save(cls, person):\n",
    "        print(f'Save the {person} to the database')\n",
    "\n",
    "\n",
    "p = Person('John Doe')\n",
    "Person.save(p)\n"
   ]
  },
  {
   "cell_type": "markdown",
   "id": "99f32941-1582-4db0-8b25-83ab46725d2b",
   "metadata": {},
   "source": [
    "<br>\n",
    "\n",
    "<div style=\"color: #a245ff;\">\n",
    "This &nbsp;<code style=\"color: red;\">Person</code>&nbsp; class has two jobs:\n",
    "\n",
    "&nbsp;&nbsp;&nbsp;&nbsp;&nbsp;&nbsp;➜ &nbsp;Manage the person’s property.      <br>\n",
    "&nbsp;&nbsp;&nbsp;&nbsp;&nbsp;&nbsp;➜ &nbsp;Store the person in the database.\n",
    "\n",
    "<br>\n",
    "\n",
    "Later, if you want to save the &nbsp;<code style=\"color: red;\">Person</code>&nbsp; into different storage such as a file, you’ll need to change the &nbsp;<code style=\"color: red;\">save()</code>&nbsp; method, which also changes the whole &nbsp;<code style=\"color: red;\">Person</code>&nbsp; class.\n",
    "\n",
    "<br>\n",
    "How will this design cause issues in the future? <br>\n",
    "&nbsp;&nbsp;&nbsp;&nbsp;&nbsp;===>&nbsp;&nbsp;If the application changes in a way that it affects database management functions. <br>\n",
    "&nbsp;&nbsp;&nbsp;&nbsp;&nbsp;===>&nbsp;&nbsp;The classes that make use of &nbsp;<code style=\"color: red;\">Person</code>&nbsp; properties will have to be touched and recompiled to compensate for the new changes. <br>\n",
    "&nbsp;&nbsp;&nbsp;&nbsp;&nbsp;===>&nbsp;&nbsp;You see this system smells of rigidity, it’s like a domino effect, touch one card it affects all other cards in line. <br>\n",
    "\n",
    "<br>\n",
    "\n",
    "<span style=\"font-size: 1.2rem;\">⭐</span>&nbsp;&nbsp;To make the &nbsp;<code style=\"color: red;\">Person</code>&nbsp; class conforms to the <span style=\"color: black;\">single responsibility principle</span>, <span style=\"background-color: #fff2df; padding: 6px;\">you’ll need to create another class that is in charge of storing the &nbsp;<code style=\"color: red; background-color: #e8daef;\">Person</code>&nbsp; to a database.\n",
    "\n",
    "</div>\n",
    "\n",
    "<br>\n",
    "\n",
    "<span style=\"color: black; font-size: 1rem; padding: 2px;\">&nbsp;<strong>Principle &nbsp;satisfaction</strong>&nbsp;</span>\n"
   ]
  },
  {
   "cell_type": "code",
   "execution_count": 12,
   "id": "fa6ebef3-e6b5-4416-b104-cbdb99b45eac",
   "metadata": {},
   "outputs": [
    {
     "name": "stdout",
     "output_type": "stream",
     "text": [
      "Save the Person(name=John Doe) to the database\n"
     ]
    }
   ],
   "source": [
    "\n",
    "class Person:                                              # responsible for managing the person’s properties.\n",
    "    def __init__(self, name):\n",
    "        self.name = name\n",
    "\n",
    "    def __repr__(self):\n",
    "        return f'Person(name={self.name})'\n",
    "\n",
    "\n",
    "class PersonDB:                                            # responsible for storing the person in the database.\n",
    "    def save(self, person):\n",
    "        print(f'Save the {person} to the database')\n",
    "\n",
    "\n",
    "p = Person('John Doe')\n",
    "\n",
    "db = PersonDB()\n",
    "db.save(p)\n"
   ]
  },
  {
   "cell_type": "markdown",
   "id": "1995764b-059a-40f5-9e39-17b1d0447acb",
   "metadata": {},
   "source": [
    "<br>\n",
    "\n",
    "<div style=\"color: #a245ff;\">\n",
    "\n",
    "In this design, if you want to save the &nbsp;<code style=\"color: red;\">Person</code>&nbsp; to different storage, you can define another class to do that. &nbsp;And you don’t need to change the &nbsp;<code style=\"color: red;\">Person</code>&nbsp; class.\n",
    "\n",
    "</div>\n",
    "\n",
    "<br>\n",
    "\n",
    "<div style=\"color: #a245ff; background-color: #fff2df; padding: 8px;\">\n",
    "When designing classes, you should put <strong>related methods together</strong> that have the <strong>same reason</strong> for change together.   <br>\n",
    "In other words, you should <span style=\"color: black;\">separate classes if they change for different reasons</span>.\n",
    "</div>\n",
    "\n",
    "<br>\n"
   ]
  },
  {
   "cell_type": "markdown",
   "id": "fd6febbd-fc98-4e07-a785-e3078e8ade54",
   "metadata": {},
   "source": [
    "\n",
    "<div style=\"color: #a245ff;\">\n",
    "\n",
    "This design has one issue that you need to deal with two classes : &nbsp;<code style=\"color: red;\">Person</code>&nbsp; and &nbsp;<code style=\"color: red;\">PersonDB</code>\n",
    "\n",
    "<br>\n",
    "\n",
    "To make it more convenient, you can use the <strong>facade pattern</strong> so that the &nbsp;<code style=\"color: red;\">Person</code>&nbsp; class will be the facade for the &nbsp;<code style=\"color: red;\">Person</code>&nbsp; class like this:\n",
    "\n",
    "</div>\n",
    "\n",
    "<br>\n",
    "\n",
    "<span style=\"color: black; font-size: 1rem; padding: 2px;\">&nbsp;<strong>Principle &nbsp;satisfaction</strong>&nbsp;</span>\n"
   ]
  },
  {
   "cell_type": "code",
   "execution_count": 1,
   "id": "75ec6575-789c-4983-b0da-317bf8e95824",
   "metadata": {},
   "outputs": [
    {
     "name": "stdout",
     "output_type": "stream",
     "text": [
      "Save the Person(name=John Doe) to the database\n"
     ]
    }
   ],
   "source": [
    "\n",
    "class PersonDB:\n",
    "    def save(self, person):\n",
    "        print(f'Save the {person} to the database')\n",
    "\n",
    "\n",
    "class Person:\n",
    "    def __init__(self, name):\n",
    "        self.name = name\n",
    "        self.db = PersonDB()        # creates an instance of type \"PersonDB\" & storing it's reference in the instance attribute \"db\" of the Person class\n",
    "\n",
    "    def __repr__(self):\n",
    "        return f'Person(name={self.name})'\n",
    "\n",
    "    def save(self):\n",
    "        self.db.save(person=self)\n",
    "\n",
    "\n",
    "p = Person('John Doe')\n",
    "p.save()\n"
   ]
  },
  {
   "cell_type": "markdown",
   "id": "707f2e81-082a-46ae-9fe1-b6e4d99985fe",
   "metadata": {},
   "source": [
    "<br>\n",
    "\n",
    "The result of this simple action is that now:\n",
    "\n",
    "It is easier to localize errors. Any error in execution will point out to a smaller section of your code, accelerating your debug phase.   <br>\n",
    "Any part of the code is reusable in other section of your code.                                                                            <br>\n",
    "Moreover and, often overlooked, is that it is easier to create testing for each function of your code. Side note on testing: You should write tests before you actually write the script. But, this is often ignored in favour of creating some nice result to be shown to the stakeholders instead."
   ]
  },
  {
   "cell_type": "markdown",
   "id": "3793c3ce-495c-4fff-86e7-44a7994a5d50",
   "metadata": {},
   "source": [
    "<br>\n",
    "\n",
    "<span style=\"color: #06fff0; font-size: 0.7rem;\">■■■■■■■■■■■■■■■■■■■■■■■■■■■■■■■■■■■■■■■■■■■■■■■■■■■■■■■■■■■■■■■■■■■■■■■■■■■■■■■■■■■■■■■■■■■■■■■■■■■■■■■■■■■■■■■</span>"
   ]
  },
  {
   "cell_type": "markdown",
   "id": "b558ccf0-a85e-467d-ac25-6f4587e57c28",
   "metadata": {},
   "source": [
    "<br>\n",
    "\n",
    "##### <code style=\"background-color: #f1c40f; color: black; padding: 5px; font-size: 1.1rem;\">EXAMPLE - 2</code>"
   ]
  },
  {
   "cell_type": "markdown",
   "id": "ed3c7ef1-39d7-4da4-ba2b-c80a2cfac2b3",
   "metadata": {},
   "source": [
    "\n",
    "<div style=\"color: #a245ff;\">\n",
    "\n",
    "<div style=\"color: #a245ff; margin-top: 10px;\">\n",
    "    \n",
    "Let’s create a simple <span style=\"color: red;\">bank account</span> class to demonstrate what violating and satisfying the <span style=\"color: black;\">single responsibility principle</span> looks like :\n",
    "\n",
    "</div>\n",
    "\n",
    "<span style=\"color: black; font-size: 1rem; padding: 2px;\">&nbsp;<strong>Principle &nbsp;violation</strong>&nbsp;</span>\n",
    "\n",
    "\n",
    "</div>\n"
   ]
  },
  {
   "cell_type": "code",
   "execution_count": 22,
   "id": "43fb773a-c7b9-4238-a4ec-3b93cc7080f8",
   "metadata": {},
   "outputs": [],
   "source": [
    "\n",
    "class BankAccount:\n",
    "    def __init__(self, account_number: int, balance: float):\n",
    "        self.account_number = account_number\n",
    "        self.balance = balance\n",
    "    \n",
    "    def deposit_money(self, amount: float):\n",
    "        self.balance += amount\n",
    "\n",
    "    def withdraw_money(self, amount: float):\n",
    "        if amount > self.balance:\n",
    "            raise ValueError(\"Unfortunately your balance is insufficient for any withdrawals right now ...  \")\n",
    "        self.balance -= amount\n",
    "    \n",
    "    def print_balance(self):\n",
    "        print(f'Account no: {self.account_number}, Balance: {self.balance}  ')\n",
    "    \n",
    "    def change_account_number(self, new_account_number: int):\n",
    "        self.account_number = new_account_number\n",
    "        print(f'Your account number has changed to \"{self.account_number}\" ')\n"
   ]
  },
  {
   "cell_type": "markdown",
   "id": "b087c33c-be8d-4618-9991-fda68c2c2e6a",
   "metadata": {},
   "source": [
    "<br>\n",
    "\n",
    "<div style=\"color: #a245ff;\">\n",
    "    \n",
    "This violates the <span style=\"color: black;\">SIP</span> because the &nbsp;<code style=\"color: red;\">BankAccount</code>&nbsp; class is managing <strong>more than one duty</strong> for bank accounts - <span style=\"color: red;\"><u><span style=\"color: #a245ff;\">managing bank account profiles</span></u></span> and <span style=\"color: red;\"><u><span style=\"color: #a245ff;;\">managing money</span></u></span>.\n",
    "\n",
    "<span style=\"color: black; font-size: 1rem; padding: 2px;\">&nbsp;<strong>Principle satisfaction</strong>&nbsp;</span>\n",
    "\n",
    "</div>\n"
   ]
  },
  {
   "cell_type": "code",
   "execution_count": 3,
   "id": "ffcd153d-af8d-42d4-a816-f9bee75ffb76",
   "metadata": {},
   "outputs": [],
   "source": [
    "\n",
    "class DepositManager:\n",
    "    def deposit_money(self, account, amount):\n",
    "        account.balance += amount\n",
    "\n",
    "\n",
    "class WithdrawalManager:\n",
    "    def withdraw_money(self, account, amount):\n",
    "        if amount > account.balance:\n",
    "            raise ValueError(\"Unfortunately your balance is insufficient for any withdrawals right now ...  \")\n",
    "        account.balance -= amount\n",
    "\n",
    "\n",
    "class BalancePrinter:\n",
    "    def print_balance(self, account):\n",
    "        print(f'Account no: {account.account_number}, Balance: {account.balance}  ')\n",
    "\n",
    "\n",
    "class AccountNumberManager:\n",
    "    def change_account_number(self, account, new_account_number):\n",
    "        account.account_number = new_account_number\n",
    "        print(f'Your account number has changed to \"{account.account_number}\" ')\n",
    "\n",
    "\n",
    "class BankAccount:\n",
    "    def __init__(self, account_number: int, balance: float):\n",
    "        self.account_number = account_number\n",
    "        self.balance = balance\n",
    "        self.deposit_manager = DepositManager()\n",
    "        self.withdrawal_manager = WithdrawalManager()          \n",
    "        self.balance_printer = BalancePrinter()\n",
    "        self.account_number_manager = AccountNumberManager()\n",
    "\n",
    "    def deposit_money(self, amount: float):\n",
    "        self.deposit_manager.deposit_money(self, amount)\n",
    "\n",
    "    def withdraw_money(self, amount: float):\n",
    "        self.withdrawal_manager.withdraw_money(self, amount)\n",
    "\n",
    "    def print_balance(self):\n",
    "        self.balance_printer.print_balance(self)\n",
    "\n",
    "    def change_account_number(self, new_account_number: int):\n",
    "        self.account_number_manager.change_account_number(self, new_account_number)\n"
   ]
  },
  {
   "cell_type": "markdown",
   "id": "9bc7836c-d8a7-4017-9020-2f83ec544b82",
   "metadata": {},
   "source": [
    "<br>\n",
    "\n",
    "<span style=\"color: #06fff0; font-size: 0.7rem;\">■■■■■■■■■■■■■■■■■■■■■■■■■■■■■■■■■■■■■■■■■■■■■■■■■■■■■■■■■■■■■■■■■■■■■■■■■■■■■■■■■■■■■■■■■■■■■■■■■■■■■■■■■■■■■■■</span>"
   ]
  },
  {
   "cell_type": "markdown",
   "id": "258a78b7-2ebf-4ffa-8f72-ca630dd8b1f5",
   "metadata": {},
   "source": [
    "<br>\n",
    "\n",
    "##### <code style=\"background-color: #f1c40f; color: black; padding: 5px; font-size: 1.1rem;\">EXAMPLE - 3</code>"
   ]
  },
  {
   "cell_type": "markdown",
   "id": "db5dfb04-4518-493e-aa55-05431d7dce14",
   "metadata": {},
   "source": [
    "<div> <br>\n",
    "    \n",
    "<span style=\"color: black; font-size: 1rem; padding: 2px;\">&nbsp;<strong>Principle &nbsp;violation</strong>&nbsp;</span>\n",
    "\n",
    "</div>"
   ]
  },
  {
   "cell_type": "code",
   "execution_count": 10,
   "id": "7f8631b7-0cb6-4fc8-ab31-15fb7bb5a830",
   "metadata": {},
   "outputs": [],
   "source": [
    "\n",
    "class Animal:\n",
    "    def __init__(self, name: str):\n",
    "        self.name = name\n",
    "    \n",
    "    def get_name(self) -> str:\n",
    "        pass\n",
    "\n",
    "    def save(self, animal: Animal):\n",
    "        pass\n"
   ]
  },
  {
   "cell_type": "markdown",
   "id": "5ba763c8-a8d8-47a1-8c4e-c6457a82f494",
   "metadata": {},
   "source": [
    "<br>\n",
    "\n",
    "<span style=\"color: black; font-size: 1rem; padding: 2px;\">&nbsp;<strong>Principle &nbsp;satisfaction</strong>&nbsp;</span>\n"
   ]
  },
  {
   "cell_type": "code",
   "execution_count": 12,
   "id": "49cb0464-7d97-4f1d-8695-b3424faef188",
   "metadata": {},
   "outputs": [],
   "source": [
    "\n",
    "class Animal:\n",
    "    def __init__(self, name: str):\n",
    "            self.name = name\n",
    "    \n",
    "    def get_name(self):\n",
    "        pass\n",
    "\n",
    "\n",
    "class AnimalDB:\n",
    "    def get_animal(self):\n",
    "        pass\n",
    "\n",
    "    def save(self, animal: Animal):\n",
    "        pass\n"
   ]
  },
  {
   "cell_type": "markdown",
   "id": "ff955e73-cead-444b-abbe-78501eb2353a",
   "metadata": {},
   "source": [
    "<br>\n",
    "\n",
    "<span style=\"color: #06fff0; font-size: 0.7rem;\">■■■■■■■■■■■■■■■■■■■■■■■■■■■■■■■■■■■■■■■■■■■■■■■■■■■■■■■■■■■■■■■■■■■■■■■■■■■■■■■■■■■■■■■■■■■■■■■■■■■■■■■■■■■■■■■</span>"
   ]
  },
  {
   "cell_type": "markdown",
   "id": "c3652d40-a11c-45f8-a646-0b6f96eb2e47",
   "metadata": {},
   "source": [
    "<br>\n",
    "\n",
    "##### <code style=\"background-color: #f1c40f; color: black; padding: 5px; font-size: 1.1rem;\">EXAMPLE - 4</code>"
   ]
  },
  {
   "cell_type": "markdown",
   "id": "45c6c925-44ab-4bfc-88ef-041a63311bc6",
   "metadata": {},
   "source": [
    "<div> <br>\n",
    "\n",
    "<span style=\"color: black; font-size: 1rem; padding: 2px;\">&nbsp;<strong>Principle &nbsp;violation</strong>&nbsp;</span>\n",
    "\n",
    "</div>"
   ]
  },
  {
   "cell_type": "code",
   "execution_count": 36,
   "id": "ac1176b4-99c5-4f8a-a473-3d50e820b740",
   "metadata": {},
   "outputs": [
    {
     "name": "stdout",
     "output_type": "stream",
     "text": [
      "DEBUG Debugging...\n",
      "DEBUG Debugging...\n"
     ]
    }
   ],
   "source": [
    "\n",
    "class Logger:\n",
    "    def debug(self, msg):\n",
    "        self._log(\"DEBUG\", msg)\n",
    "\n",
    "    def info(self, msg):\n",
    "        self._log(\"INFO \", msg)\n",
    "\n",
    "    def warning(self, msg):\n",
    "        self._log(\"WARNING\", msg)\n",
    "\n",
    "    def _log(self, level, msg):\n",
    "        print(f\"{level} {msg}\")\n",
    "\n",
    "\n",
    "logger = Logger()\n",
    "logger.debug(\"Debugging...\")                 # METHOD - 1\n",
    "\n",
    "logger._log(\"DEBUG\", \"Debugging...\")         # METHOD - 2    --------->    not  recommended  though,  since  \"_log()\"  is  a  private  method\n"
   ]
  },
  {
   "cell_type": "markdown",
   "id": "aae8a52a-bed8-4134-9917-2c7868dda663",
   "metadata": {},
   "source": [
    "<br>\n",
    "\n",
    "<span style=\"color: black; font-size: 1rem; padding: 2px;\">&nbsp;<strong>Principle &nbsp;satisfaction</strong>&nbsp;</span>\n"
   ]
  },
  {
   "cell_type": "code",
   "execution_count": 11,
   "id": "c45ad8f6-64f4-4852-b830-8fa3699ae49e",
   "metadata": {},
   "outputs": [
    {
     "name": "stdout",
     "output_type": "stream",
     "text": [
      "DEBUG debugging...\n"
     ]
    }
   ],
   "source": [
    "\n",
    "class LogLevel:\n",
    "    DEBUG = \"DEBUG\"\n",
    "    INFO = \"INFO \"\n",
    "    WARNING = \"WARNING\"\n",
    "\n",
    "\n",
    "class Logger:\n",
    "    def __init__(self):\n",
    "        self._handlers = {}\n",
    "\n",
    "    def add_handler(self, log_level, handler):\n",
    "        self._handlers[log_level] = handler                                # dictionary name = \"_handlers\"    ---->    {\"log_level\", \"handler\"}\n",
    "\n",
    "    def debug(self, msg):\n",
    "        self._handle(LogLevel.DEBUG, msg)\n",
    "\n",
    "    def info(self, msg):\n",
    "        self._handle(LogLevel.INFO, msg)\n",
    "\n",
    "    def warning(self, msg):\n",
    "        self._handle(LogLevel.WARNING, msg)\n",
    "\n",
    "    def _handle(self, level, msg):\n",
    "        handler = self._handlers.get(level)\n",
    "        if handler:\n",
    "            handler(level, msg)\n",
    "        else:\n",
    "            print(f\"UNKNOWN LEVEL {level}: {msg}\")\n",
    "\n",
    "\n",
    "class PrintHandler:\n",
    "    def __init__(self):\n",
    "        self.formatter = lambda level, msg: f\"{level} {msg}\"\n",
    "\n",
    "    def __call__(self, level, msg):                                       # makes the instance of this class a callable object like a function\n",
    "        print(self.formatter(level, msg))\n",
    "\n",
    "\n",
    "logger = Logger()\n",
    "logger.add_handler(LogLevel.DEBUG, PrintHandler())\n",
    "logger.debug(\"debugging...\")\n"
   ]
  },
  {
   "cell_type": "markdown",
   "id": "d76639b5-5cb8-4bcc-9d83-fb25e7276a59",
   "metadata": {},
   "source": [
    "<br>\n",
    "\n",
    "<div style=\"color: #a245ff;\">\n",
    "We separated individual responsibility, i.e., formatting logs, into dedicated &nbsp;<code style=\"color: red;\">PrintHandler</code> . &nbsp;Now, introducing alternative handlers won't affect the original &nbsp;<code style=\"color: red;\">Logger</code> .\n",
    "\n",
    "</div>\n",
    "\n",
    "<br>\n",
    "\n",
    "<code style=\"background-color: black; color: white; padding: 2px;\">EXPLAINATION :</code>"
   ]
  },
  {
   "cell_type": "markdown",
   "id": "a0b9a82e-da2b-40f6-9c84-fc14dffa853e",
   "metadata": {},
   "source": [
    "\n",
    "<br>\n",
    "\n",
    "\n",
    "<div style=\"margin-left: 60px;\">\n",
    "\n",
    "![](../media/0.PNG)\n",
    "\n",
    "</div>\n"
   ]
  },
  {
   "cell_type": "code",
   "execution_count": 30,
   "id": "6186d6e4-255f-43bf-a286-9ab72d1ce00b",
   "metadata": {},
   "outputs": [
    {
     "ename": "TypeError",
     "evalue": "PrintHandler.__init__() takes 1 positional argument but 3 were given",
     "output_type": "error",
     "traceback": [
      "\u001b[1;31m---------------------------------------------------------------------------\u001b[0m",
      "\u001b[1;31mTypeError\u001b[0m                                 Traceback (most recent call last)",
      "Cell \u001b[1;32mIn[30], line 1\u001b[0m\n\u001b[1;32m----> 1\u001b[0m \u001b[43mPrintHandler\u001b[49m\u001b[43m(\u001b[49m\u001b[38;5;124;43m\"\u001b[39;49m\u001b[38;5;124;43mDEBUG\u001b[39;49m\u001b[38;5;124;43m\"\u001b[39;49m\u001b[43m,\u001b[49m\u001b[43m \u001b[49m\u001b[38;5;124;43m\"\u001b[39;49m\u001b[38;5;124;43mdebugging...\u001b[39;49m\u001b[38;5;124;43m\"\u001b[39;49m\u001b[43m)\u001b[49m\n",
      "\u001b[1;31mTypeError\u001b[0m: PrintHandler.__init__() takes 1 positional argument but 3 were given"
     ]
    }
   ],
   "source": [
    "\n",
    "PrintHandler(\"DEBUG\", \"debugging...\")\n"
   ]
  },
  {
   "cell_type": "markdown",
   "id": "9e58db1d-8a6e-4d3b-9bea-a824c3b48ace",
   "metadata": {},
   "source": [
    "<br>"
   ]
  },
  {
   "cell_type": "code",
   "execution_count": 35,
   "id": "49cadf6b-1258-4107-915e-6052efa289df",
   "metadata": {},
   "outputs": [
    {
     "name": "stdout",
     "output_type": "stream",
     "text": [
      "<__main__.PrintHandler object at 0x000001F21C8A25D0>\n"
     ]
    }
   ],
   "source": [
    "\n",
    "print(PrintHandler())\n"
   ]
  },
  {
   "cell_type": "markdown",
   "id": "6dbc177f-b536-4c50-9db6-32fe8e227c7e",
   "metadata": {},
   "source": [
    "<br>"
   ]
  },
  {
   "cell_type": "code",
   "execution_count": 47,
   "id": "426f316f-0612-4ab9-9a8f-f0ba64a7f739",
   "metadata": {},
   "outputs": [
    {
     "name": "stdout",
     "output_type": "stream",
     "text": [
      "DEBUG debugging...\n"
     ]
    }
   ],
   "source": [
    "\n",
    "p = PrintHandler()\n",
    "\n",
    "p(\"DEBUG\", \"debugging...\")        #  The  instance  \"p\"  becomes  a  callable  object  due  to  the  __call__()  method  in  the  \"PrintHandler\"  class\n",
    "\n",
    "                                  #  Therefore,  you  can  call  the  instance  \"p\"  like  a  function\n",
    "\n",
    "                                  #  The  function  that  works  behind  is     ------------------------------->    p.formatter(\"DEBUG\", \"debugging...\")\n"
   ]
  },
  {
   "cell_type": "markdown",
   "id": "8b54ad33-4426-4e12-988e-676254b1ee67",
   "metadata": {},
   "source": [
    "<br>"
   ]
  },
  {
   "cell_type": "code",
   "execution_count": 39,
   "id": "5e513f28-4b41-465f-91e4-5ffecb4428ae",
   "metadata": {},
   "outputs": [
    {
     "data": {
      "text/plain": [
       "<function __main__.PrintHandler.__init__.<locals>.<lambda>(level, msg)>"
      ]
     },
     "execution_count": 39,
     "metadata": {},
     "output_type": "execute_result"
    }
   ],
   "source": [
    "\n",
    "p.formatter\n"
   ]
  },
  {
   "cell_type": "markdown",
   "id": "11866f5c-cf3a-4789-9c08-26c6399efa68",
   "metadata": {},
   "source": [
    "<br>"
   ]
  },
  {
   "cell_type": "code",
   "execution_count": 41,
   "id": "3fecef86-5d0c-4742-82da-f7cd035f22f5",
   "metadata": {},
   "outputs": [
    {
     "data": {
      "text/plain": [
       "'DEBUG debugging...'"
      ]
     },
     "execution_count": 41,
     "metadata": {},
     "output_type": "execute_result"
    }
   ],
   "source": [
    "\n",
    "p.formatter(\"DEBUG\", \"debugging...\")\n"
   ]
  },
  {
   "cell_type": "markdown",
   "id": "f00182fa-6886-480e-b739-1f22fc6207fd",
   "metadata": {},
   "source": [
    "<br>\n",
    "\n",
    "<span style=\"color: #06fff0; font-size: 0.7rem;\">■■■■■■■■■■■■■■■■■■■■■■■■■■■■■■■■■■■■■■■■■■■■■■■■■■■■■■■■■■■■■■■■■■■■■■■■■■■■■■■■■■■■■■■■■■■■■■■■■■■■■■■■■■■■■■■</span>"
   ]
  },
  {
   "cell_type": "markdown",
   "id": "01050a1e-0af9-429f-8ffd-87256a670bde",
   "metadata": {},
   "source": [
    "<br>\n",
    "\n",
    "##### <code style=\"background-color: #f1c40f; color: black; padding: 5px; font-size: 1.1rem;\">EXAMPLE - 5</code>"
   ]
  },
  {
   "cell_type": "markdown",
   "id": "f3d5e959-3590-4583-91e3-5734b5e8235a",
   "metadata": {},
   "source": [
    "<div> <br>\n",
    "\n",
    "<span style=\"color: black; font-size: 1rem; padding: 2px;\">&nbsp;<strong>Principle &nbsp;violation</strong>&nbsp;</span>\n",
    "\n",
    "</div>"
   ]
  },
  {
   "cell_type": "code",
   "execution_count": 73,
   "id": "e09aecef-c0a6-43e0-ad15-737c24f73458",
   "metadata": {},
   "outputs": [
    {
     "name": "stdout",
     "output_type": "stream",
     "text": [
      "Printing invoice: 30\n"
     ]
    }
   ],
   "source": [
    "\n",
    "# This class is responsible solely for managing the invoice items and calculating the total.\n",
    "class Invoice:\n",
    "    def __init__(self, items):\n",
    "        self.items = items\n",
    "\n",
    "    def calculate_total(self):\n",
    "        return sum(item['price'] for item in self.items)\n",
    "\n",
    "    def print_invoice(self, invoice):\n",
    "        print(f\"Printing invoice: {invoice}\")\n",
    "\n",
    "\n",
    " # Creates an invoice instance with items\n",
    "invoice = Invoice([\n",
    "    {'name': 'Item 1', 'price': 10}, \n",
    "    {'name': 'Item 2', 'price': 20}\n",
    "])\n",
    "\n",
    "\n",
    "invoice.print_invoice(invoice.calculate_total())\n"
   ]
  },
  {
   "cell_type": "code",
   "execution_count": 74,
   "id": "70091429-73d1-4199-8aa5-9462ba4d1b79",
   "metadata": {},
   "outputs": [
    {
     "data": {
      "text/plain": [
       "[{'name': 'Item 1', 'price': 10}, {'name': 'Item 2', 'price': 20}]"
      ]
     },
     "execution_count": 74,
     "metadata": {},
     "output_type": "execute_result"
    }
   ],
   "source": [
    "\n",
    "invoice.items\n"
   ]
  },
  {
   "cell_type": "markdown",
   "id": "3048e072-00fd-4f97-8411-ff219ae80bc4",
   "metadata": {},
   "source": [
    "<div> <br>\n",
    "\n",
    "<span style=\"color: black; font-size: 1rem; padding: 2px;\">&nbsp;<strong>Principle &nbsp;satisfaction</strong>&nbsp;</span>\n",
    "\n",
    "</div>"
   ]
  },
  {
   "cell_type": "code",
   "execution_count": 67,
   "id": "1f549c34-4224-4e3c-b549-777bec898b1e",
   "metadata": {},
   "outputs": [
    {
     "name": "stdout",
     "output_type": "stream",
     "text": [
      "Printing invoice: 30\n"
     ]
    }
   ],
   "source": [
    "\n",
    "# This class is responsible solely for printing the invoice.\n",
    "class InvoicePrinter:\n",
    "    def print_invoice(self, invoice):\n",
    "        print(f\"Printing invoice: {invoice}\")\n",
    "\n",
    "\n",
    "# This class is responsible solely for managing the invoice items and calculating the total.\n",
    "class Invoice:\n",
    "    def __init__(self, items):\n",
    "        self.items = items\n",
    "\n",
    "    def calculate_total(self):\n",
    "        return sum(item['price'] for item in self.items)\n",
    "\n",
    "\n",
    " # Creates an invoice instance with items\n",
    "invoice = Invoice([\n",
    "    {'name': 'Item 1', 'price': 10}, \n",
    "    {'name': 'Item 2', 'price': 20}\n",
    "])\n",
    "\n",
    "\n",
    "# Creates an instance \"printer\" of type \"InvoicePrinter\"\n",
    "printer = InvoicePrinter()\n",
    "printer.print_invoice(invoice.calculate_total())\n"
   ]
  },
  {
   "cell_type": "markdown",
   "id": "1fb185e6-de17-4250-a5bb-e9868f2a6e44",
   "metadata": {},
   "source": [
    "<br>\n",
    "\n",
    "<span style=\"color: #06fff0; font-size: 0.7rem;\">■■■■■■■■■■■■■■■■■■■■■■■■■■■■■■■■■■■■■■■■■■■■■■■■■■■■■■■■■■■■■■■■■■■■■■■■■■■■■■■■■■■■■■■■■■■■■■■■■■■■■■■■■■■■■■■</span>"
   ]
  },
  {
   "cell_type": "markdown",
   "id": "898cea5b-7f56-45d5-abd0-64867c795324",
   "metadata": {},
   "source": [
    "<br>\n",
    "\n",
    "##### <code style=\"background-color: #f1c40f; color: black; padding: 5px; font-size: 1.1rem;\">EXAMPLE - 6</code>"
   ]
  },
  {
   "cell_type": "markdown",
   "id": "aeafcbb7-d6b3-4250-a710-23123ed29e1a",
   "metadata": {},
   "source": [
    "<div> <br>\n",
    "\n",
    "<span style=\"color: black; font-size: 1rem; padding: 2px;\">&nbsp;<strong>Principle &nbsp;violation</strong>&nbsp;</span>\n",
    "\n",
    "</div>"
   ]
  },
  {
   "cell_type": "code",
   "execution_count": 79,
   "id": "632741e8-25d5-4987-96ff-140ae90a3be9",
   "metadata": {},
   "outputs": [
    {
     "name": "stdout",
     "output_type": "stream",
     "text": [
      "the mean is 3.0\n",
      "the max is 5\n"
     ]
    }
   ],
   "source": [
    "\n",
    "import numpy as np\n",
    "\n",
    "def math_operations(list_):\n",
    "    # Compute Average\n",
    "    print(f\"the mean is {np.mean(list_)}\")\n",
    "    # Compute Max\n",
    "    print(f\"the max is {np.max(list_)}\") \n",
    "\n",
    "math_operations(list_ = [1,2,3,4,5])\n"
   ]
  },
  {
   "cell_type": "markdown",
   "id": "9a5f3131-6c65-4c3c-89e4-7d1a65721091",
   "metadata": {},
   "source": [
    "<div> <br>\n",
    "\n",
    "<span style=\"color: black; font-size: 1rem; padding: 2px;\">&nbsp;<strong>Principle &nbsp;satisfaction</strong>&nbsp;</span>\n",
    "\n",
    "</div>"
   ]
  },
  {
   "cell_type": "code",
   "execution_count": 78,
   "id": "96052cee-f8b4-4430-8026-32216692bb42",
   "metadata": {},
   "outputs": [
    {
     "name": "stdout",
     "output_type": "stream",
     "text": [
      "the mean is 3.0\n",
      "the max is 5\n"
     ]
    }
   ],
   "source": [
    "\n",
    "import numpy as np\n",
    "\n",
    "def get_mean(list_):\n",
    "    '''Compute Mean'''\n",
    "    print(f\"the mean is {np.mean(list_)}\") \n",
    "\n",
    "def get_max(list_):\n",
    "    '''Compute Max'''\n",
    "    print(f\"the max is {np.max(list_)}\") \n",
    "\n",
    "def main(list_): \n",
    "    # Compute Average\n",
    "    get_mean(list_)\n",
    "    # Compute Max\n",
    "    get_max(list_)\n",
    "\n",
    "main([1,2,3,4,5])\n"
   ]
  },
  {
   "cell_type": "code",
   "execution_count": null,
   "id": "3da45698-14f2-4a1d-84db-5ddd3b176a26",
   "metadata": {},
   "outputs": [],
   "source": []
  },
  {
   "cell_type": "code",
   "execution_count": null,
   "id": "52270c63-5a34-4fc7-8dd5-a58432968327",
   "metadata": {},
   "outputs": [],
   "source": []
  },
  {
   "cell_type": "code",
   "execution_count": null,
   "id": "5b475565-cabc-4c18-aa9e-7613df3aa7d9",
   "metadata": {},
   "outputs": [],
   "source": []
  },
  {
   "cell_type": "code",
   "execution_count": null,
   "id": "3c15f9d5-513c-4ccc-8c10-47b094ab0002",
   "metadata": {},
   "outputs": [],
   "source": []
  },
  {
   "cell_type": "code",
   "execution_count": null,
   "id": "b895a57c-ea8f-4ba4-babf-fb52408c3413",
   "metadata": {},
   "outputs": [],
   "source": []
  },
  {
   "cell_type": "code",
   "execution_count": null,
   "id": "af589ae4-a710-43db-afc1-b3bcefc5377f",
   "metadata": {},
   "outputs": [],
   "source": []
  },
  {
   "cell_type": "code",
   "execution_count": null,
   "id": "6ed1ab48-0071-4ae7-8b95-7c37bd3c89a4",
   "metadata": {},
   "outputs": [],
   "source": []
  },
  {
   "cell_type": "code",
   "execution_count": null,
   "id": "ba6bbff8-e9b1-4e9b-a176-ce904a860460",
   "metadata": {},
   "outputs": [],
   "source": []
  },
  {
   "cell_type": "code",
   "execution_count": null,
   "id": "30559645-edc4-436e-8c26-b150cf9c4df1",
   "metadata": {},
   "outputs": [],
   "source": []
  },
  {
   "cell_type": "code",
   "execution_count": null,
   "id": "28c68dd9-554a-43d5-ade8-2a35a257e414",
   "metadata": {},
   "outputs": [],
   "source": []
  },
  {
   "cell_type": "markdown",
   "id": "4dfe3afe-9478-4a3f-9aad-8740159cae5d",
   "metadata": {},
   "source": [
    "<br>\n",
    "\n",
    "Case Study - 1  ===> https://medium.com/@aserdargun/s-o-l-i-d-design-principles-in-python-e632230d6bbe   <br>\n",
    "Case Study - 2  ===> https://arjancodes.com/blog/solid-principles-in-python-programming/\n",
    "\n",
    "<br>"
   ]
  },
  {
   "cell_type": "markdown",
   "id": "c794a9e0-24f7-4c3b-aa51-445b36960a2f",
   "metadata": {},
   "source": [
    "<br>\n",
    "\n",
    "<span style=\"color: #06fff0; font-size: 0.7rem;\">■■■■■■■■■■■■■■■■■■■■■■■■■■■■■■■■■■■■■■■■■■■■■■■■■■■■■■■■■■■■■■■■■■■■■■■■■■■■■■■■■■■■■■■■■■■■■■■■■■■■■■■■■■■■■■■</span>\n",
    "\n",
    "<br>"
   ]
  },
  {
   "cell_type": "code",
   "execution_count": 80,
   "id": "9f63fb57-0976-4c26-9f80-6f365219baab",
   "metadata": {},
   "outputs": [],
   "source": [
    "\n",
    "import numpy as np\n"
   ]
  },
  {
   "cell_type": "code",
   "execution_count": 82,
   "id": "0bda42e4-b42e-4682-894b-757fdf571cc3",
   "metadata": {},
   "outputs": [
    {
     "data": {
      "text/plain": [
       "array([ 0,  1,  2,  3,  4,  5,  6,  7,  8,  9, 10, 11, 12, 13, 14])"
      ]
     },
     "execution_count": 82,
     "metadata": {},
     "output_type": "execute_result"
    }
   ],
   "source": [
    "\n",
    "a = np.arange(15)\n",
    "\n",
    "a"
   ]
  },
  {
   "cell_type": "code",
   "execution_count": 83,
   "id": "67d6e376-6baa-4818-99c3-d66602bec38d",
   "metadata": {},
   "outputs": [
    {
     "data": {
      "text/plain": [
       "array([[ 0,  1,  2,  3,  4],\n",
       "       [ 5,  6,  7,  8,  9],\n",
       "       [10, 11, 12, 13, 14]])"
      ]
     },
     "execution_count": 83,
     "metadata": {},
     "output_type": "execute_result"
    }
   ],
   "source": [
    "\n",
    "a.reshape(3, 5)\n"
   ]
  },
  {
   "cell_type": "code",
   "execution_count": 84,
   "id": "0b2ca30b-2ec2-427b-97b6-fb51eff3a641",
   "metadata": {},
   "outputs": [
    {
     "data": {
      "text/plain": [
       "1"
      ]
     },
     "execution_count": 84,
     "metadata": {},
     "output_type": "execute_result"
    }
   ],
   "source": [
    "\n",
    "a.ndim\n"
   ]
  },
  {
   "cell_type": "code",
   "execution_count": 85,
   "id": "202a5c32-3f7c-4c1a-b8b6-6382f919f1b4",
   "metadata": {},
   "outputs": [
    {
     "data": {
      "text/plain": [
       "dtype('int32')"
      ]
     },
     "execution_count": 85,
     "metadata": {},
     "output_type": "execute_result"
    }
   ],
   "source": [
    "\n",
    "a.dtype\n"
   ]
  },
  {
   "cell_type": "code",
   "execution_count": 86,
   "id": "5975c8ee-f1c0-48ea-ab5d-60932980cb40",
   "metadata": {},
   "outputs": [
    {
     "data": {
      "text/plain": [
       "'int32'"
      ]
     },
     "execution_count": 86,
     "metadata": {},
     "output_type": "execute_result"
    }
   ],
   "source": [
    "\n",
    "a.dtype.name\n"
   ]
  },
  {
   "cell_type": "code",
   "execution_count": 87,
   "id": "96287a6f-bc87-407d-af65-ec9d1c5597ba",
   "metadata": {},
   "outputs": [
    {
     "data": {
      "text/plain": [
       "15"
      ]
     },
     "execution_count": 87,
     "metadata": {},
     "output_type": "execute_result"
    }
   ],
   "source": [
    "\n",
    "a.size\n"
   ]
  },
  {
   "cell_type": "code",
   "execution_count": 88,
   "id": "d2f2fb51-77c6-4f8e-8a14-29414baff923",
   "metadata": {},
   "outputs": [
    {
     "data": {
      "text/plain": [
       "numpy.ndarray"
      ]
     },
     "execution_count": 88,
     "metadata": {},
     "output_type": "execute_result"
    }
   ],
   "source": [
    "\n",
    "type(a)\n"
   ]
  },
  {
   "cell_type": "markdown",
   "id": "4cc068ae-94b8-4a9c-875d-0de184349ac9",
   "metadata": {},
   "source": [
    "<br>\n",
    "\n",
    "<span style=\"color: #06fff0; font-size: 0.7rem;\">■■■■■■■■■■■■■■■■■■■■■■■■■■■■■■■■■■■■■■■■■■■■■■■■■■■■■■■■■■■■■■■■■■■■■■■■■■■■■■■■■■■■■■■■■■■■■■■■■■■■■■■■■■■■■■■</span>\n",
    "\n",
    "<br>"
   ]
  },
  {
   "cell_type": "code",
   "execution_count": 89,
   "id": "f2fda050-8ae6-4e67-bee1-09a495fd2c30",
   "metadata": {},
   "outputs": [],
   "source": [
    "\n",
    "b = np.array([6, 7, 8])\n"
   ]
  },
  {
   "cell_type": "code",
   "execution_count": 91,
   "id": "b11a745b-20b9-45f9-8ce6-74548fd3a922",
   "metadata": {},
   "outputs": [
    {
     "data": {
      "text/plain": [
       "array([6, 7, 8])"
      ]
     },
     "execution_count": 91,
     "metadata": {},
     "output_type": "execute_result"
    }
   ],
   "source": [
    "\n",
    "b\n"
   ]
  },
  {
   "cell_type": "code",
   "execution_count": 92,
   "id": "b5ecbb7b-1c2d-4347-ac57-75cb1b7c9439",
   "metadata": {},
   "outputs": [
    {
     "data": {
      "text/plain": [
       "numpy.ndarray"
      ]
     },
     "execution_count": 92,
     "metadata": {},
     "output_type": "execute_result"
    }
   ],
   "source": [
    "\n",
    "type(b)\n"
   ]
  },
  {
   "cell_type": "code",
   "execution_count": 93,
   "id": "c5b33486-026a-4fc8-b108-41fb0d23374c",
   "metadata": {},
   "outputs": [
    {
     "data": {
      "text/plain": [
       "dtype('int32')"
      ]
     },
     "execution_count": 93,
     "metadata": {},
     "output_type": "execute_result"
    }
   ],
   "source": [
    "\n",
    "b.dtype\n"
   ]
  },
  {
   "cell_type": "markdown",
   "id": "a0209666-56aa-4a19-a28d-b2e27cacec37",
   "metadata": {},
   "source": [
    "\n",
    "<br>\n",
    "\n",
    "<span style=\"color: #06fff0; font-size: 0.7rem;\">■■■■■■■■■■■■■■■■■■■■■■■■■■■■■■■■■■■■■■■■■■■■■■■■■■■■■■■■■■■■■■■■■■■■■■■■■■■■■■■■■■■■■■■■■■■■■■■■■■■■■■■■■■■■■■■</span>\n",
    "\n",
    "<br>\n"
   ]
  },
  {
   "cell_type": "code",
   "execution_count": 96,
   "id": "5503c577-9a65-4691-abea-2e869232029a",
   "metadata": {},
   "outputs": [
    {
     "data": {
      "text/plain": [
       "array([2, 3, 4])"
      ]
     },
     "execution_count": 96,
     "metadata": {},
     "output_type": "execute_result"
    }
   ],
   "source": [
    "\n",
    "a = np.array([2, 3, 4])\n",
    "\n",
    "a\n"
   ]
  },
  {
   "cell_type": "code",
   "execution_count": 97,
   "id": "4297991f-100d-4c63-8dc1-c555b8eee27a",
   "metadata": {},
   "outputs": [
    {
     "data": {
      "text/plain": [
       "dtype('int32')"
      ]
     },
     "execution_count": 97,
     "metadata": {},
     "output_type": "execute_result"
    }
   ],
   "source": [
    "\n",
    "a.dtype\n"
   ]
  },
  {
   "cell_type": "code",
   "execution_count": 99,
   "id": "d4f9cd96-34df-44da-8b01-cb99fc444e16",
   "metadata": {},
   "outputs": [
    {
     "data": {
      "text/plain": [
       "array([1.2, 3.5, 5.1])"
      ]
     },
     "execution_count": 99,
     "metadata": {},
     "output_type": "execute_result"
    }
   ],
   "source": [
    "\n",
    "b = np.array([1.2, 3.5, 5.1])\n",
    "\n",
    "b\n"
   ]
  },
  {
   "cell_type": "code",
   "execution_count": 100,
   "id": "78c656fa-ab02-4583-8566-a9e069d3ef58",
   "metadata": {},
   "outputs": [
    {
     "data": {
      "text/plain": [
       "dtype('float64')"
      ]
     },
     "execution_count": 100,
     "metadata": {},
     "output_type": "execute_result"
    }
   ],
   "source": [
    "\n",
    "b.dtype\n"
   ]
  },
  {
   "cell_type": "markdown",
   "id": "01c99571-29a9-4dd4-ae23-d23abf40ea56",
   "metadata": {},
   "source": [
    "\n",
    "<br>\n",
    "\n",
    "<span style=\"color: #06fff0; font-size: 0.7rem;\">■■■■■■■■■■■■■■■■■■■■■■■■■■■■■■■■■■■■■■■■■■■■■■■■■■■■■■■■■■■■■■■■■■■■■■■■■■■■■■■■■■■■■■■■■■■■■■■■■■■■■■■■■■■■■■■</span>\n",
    "\n",
    "<br>\n"
   ]
  },
  {
   "cell_type": "code",
   "execution_count": 101,
   "id": "2b7002b8-d2c7-4ef3-b6d7-40751780ca02",
   "metadata": {},
   "outputs": [
    {
     "ename": "TypeError",
     "evalue": "array() takes from 1 to 2 positional arguments but 4 were given",
     "output_type": "error",
     "traceback": [
      "\u001b[1;31m---------------------------------------------------------------------------\u001b[0m",
      "\u001b[1;31mTypeError\u001b[0m                                 Traceback (most recent call last)",
      "Cell \u001b[1;32mIn[101], line 1\u001b[0m\n\u001b[1;32m----> 1\u001b[0m a \u001b[38;5;241m=\u001b[39m \u001b[43mnp\u001b[49m\u001b[38;5;241;43m.\u001b[39;49m\u001b[43marray\u001b[49m\u001b[43m(\u001b[49m\u001b[38;5;241;43m1\u001b[39;49m\u001b[43m,\u001b[49m\u001b[43m \u001b[49m\u001b[38;5;241;43m2\u001b[39;49m\u001b[43m,\u001b[49m\u001b[43m \u001b[49m\u001b[38;5;241;43m3\u001b[39;49m\u001b[43m,\u001b[49m\u001b[43m \u001b[49m\u001b[38;5;241;43m4\u001b[39;49m\u001b[43m)\u001b[49m    \n",
      "\u001b[1;31mTypeError\u001b[0m: array() takes from 1 to 2 positional arguments but 4 were given"
     ]
    }
   ],
   "source": [
    "\n",
    "a = np.array(1, 2, 3, 4)    \n"
   ]
  },
  {
   "cell_type": "markdown",
   "id": "1b7707ff-dd85-4e4e-9185-c2713781d766",
   "metadata": {},
   "source": [
    "<br>\n",
    "\n",
    "<span style=\"color: #06fff0; font-size: 0.7rem;\">■■■■■■■■■■■■■■■■■■■■■■■■■■■■■■■■■■■■■■■■■■■■■■■■■■■■■■■■■■■■■■■■■■■■■■■■■■■■■■■■■■■■■■■■■■■■■■■■■■■■■■■■■■■■■■■</span>\n",
    "\n",
    "<br>\n"
   ]
  },
  {
   "cell_type": "code",
   "execution_count": 113,
   "id": "42e55d45-7240-4bb4-999a-153855eb1a38",
   "metadata": {},
   "outputs": [
    {
     "data": {
      "text/plain": [
       "array([[1.5, 2. , 3. ],\n",
       "       [4. , 5. , 6. ]])"
      ]
     },
     "execution_count": 113,
     "metadata": {},
     "output_type": "execute_result"
    }
   ],
   "source": [
    "\n",
    "a = np.array([(1.5, 2, 3), (4, 5, 6)])\n",
    "\n",
    "a\n"
   ]
  },
  {
   "cell_type": "code",
   "execution_count": 114,
   "id": "a4356214-8ff1-457f-857e-3bd4c7b755e4",
   "metadata": {},
   "outputs": [
    {
     "data": {
      "text/plain": [
       "dtype('float64')"
      ]
     },
     "execution_count": 114,
     "metadata": {},
     "output_type": "execute_result"
    }
   ],
   "source": [
    "\n",
    "a.dtype\n"
   ]
  },
  {
   "cell_type": "code",
   "execution_count": 115,
   "id": "03b77b58-2509-4ec5-85bd-e6943e2294e0",
   "metadata": {},
   "outputs": [
    {
     "data": {
      "text/plain": [
       "array([[1.5, 2. , 3. ],\n",
       "       [4. , 5. , 6. ],\n",
       "       [2. , 4. , 5. ]])"
      ]
     },
     "execution_count": 115,
     "metadata": {},
     "output_type": "execute_result"
    }
   ],
   "source": [
    "\n",
    "b = np.array([(1.5, 2, 3), (4, 5, 6), (2 , 4, 5)])\n",
    "\n",
    "b\n"
   ]
  },
  {
   "cell_type": "code",
   "execution_count": 116,
   "id": "0af18fd2-04f3-430a-935d-ce1911d46ee2",
   "metadata": {},
   "outputs": [
    {
     "data": {
      "text/plain": [
       "dtype('float64')"
      ]
     },
     "execution_count": 116,
     "metadata": {},
     "output_type": "execute_result"
    }
   ],
   "source": [
    "\n",
    "b.dtype"
   ]
  },
  {
   "cell_type": "markdown",
   "id": "1d070009-d31f-4abb-b2db-315b9b80f453",
   "metadata": {},
   "source": [
    "\n",
    "<br>\n",
    "\n",
    "<span style=\"color: #06fff0; font-size: 0.7rem;\">■■■■■■■■■■■■■■■■■■■■■■■■■■■■■■■■■■■■■■■■■■■■■■■■■■■■■■■■■■■■■■■■■■■■■■■■■■■■■■■■■■■■■■■■■■■■■■■■■■■■■■■■■■■■■■■</span>\n",
    "\n",
    "<br>\n"
   ]
  },
  {
   "cell_type": "code",
   "execution_count": 120,
   "id": "fe84d5f2-6a24-4079-822e-102eb64aaecb",
   "metadata": {},
   "outputs": [
    {
     "data": {
      "text/plain": [
       "array([[1.+0.j, 2.+0.j],\n",
       "       [3.+0.j, 4.+0.j]])"
      ]
     },
     "execution_count": 120,
     "metadata": {},
     "output_type": "execute_result"
    }
   ],
   "source": [
    "\n",
    "c = np.array([[1, 2], [3, 4]], dtype=complex)         # The type of the array can also be explicitly specified at creation time:\n",
    "\n",
    "c\n"
   ]
  },
  {
   "cell_type": "markdown",
   "id": "33d92ff6-31cd-4601-b90f-67b24ad2e327",
   "metadata": {},
   "source": [
    "<br>\n",
    "\n",
    "<span style=\"color: #06fff0; font-size: 0.7rem;\">■■■■■■■■■■■■■■■■■■■■■■■■■■■■■■■■■■■■■■■■■■■■■■■■■■■■■■■■■■■■■■■■■■■■■■■■■■■■■■■■■■■■■■■■■■■■■■■■■■■■■■■■■■■■■■■</span>\n",
    "\n",
    "<br>"
   ]
  },
  {
   "cell_type": "markdown",
   "id": "52cc06d0-d3ce-42d9-a278-6e973d4ae9a4",
   "metadata": {},
   "source": [
    "\n",
    "<strong>ndim, &nbsp;&nbsp;shape, &nbsp;&nbsp;reshape( )</strong>\n"
   ]
  },
  {
   "cell_type": "code",
   "execution_count": 4,
   "id": "9d5dcecb-4d64-4444-8868-0ea161c8b201",
   "metadata": {},
   "outputs": [
    {
     "data": {
      "text/plain": [
       "array([[[0, 1, 2, 3],\n",
       "        [4, 5, 6, 7]],\n",
       "\n",
       "       [[0, 1, 2, 3],\n",
       "        [4, 5, 6, 7]],\n",
       "\n",
       "       [[0, 1, 2, 3],\n",
       "        [4, 5, 6, 7]]])"
      ]
     },
     "execution_count": 4,
     "metadata": {},
     "output_type": "execute_result"
    }
   ],
   "source": [
    "\n",
    "import numpy as np\n",
    "\n",
    "a = np.array([[[0, 1, 2, 3],\n",
    "               [4, 5, 6, 7]],\n",
    "                          \n",
    "                [[0, 1, 2, 3],\n",
    "                [4, 5, 6, 7]],\n",
    "                          \n",
    "                [[0 ,1 ,2, 3],\n",
    "                [4, 5, 6, 7]]])\n",
    "\n",
    "a\n"
   ]
  },
  {
   "cell_type": "markdown",
   "id": "69d1af66-e312-48f9-9766-18f95292460b",
   "metadata": {},
   "source": [
    "<br>\n",
    "\n",
    "<span style=\"color: red;\">ndim</span>"
   ]
  },
  {
   "cell_type": "code",
   "execution_count": 5,
   "id": "e984fa5b-eb6b-496f-a8b9-b7e7aecdf43d",
   "metadata": {},
   "outputs": [
    {
     "data": {
      "text/plain": [
       "3"
      ]
     },
     "execution_count": 5,
     "metadata": {},
     "output_type": "execute_result"
    }
   ],
   "source": [
    "\n",
    "a.ndim              # the number of axes, or dimensions, of the array.\n"
   ]
  },
  {
   "cell_type": "markdown",
   "id": "80ecab28-14c2-4918-85b7-8de3c7736b78",
   "metadata": {},
   "source": [
    "<br>\n",
    "\n",
    "<span style=\"color: red;\">size</span>"
   ]
  },
  {
   "cell_type": "code",
   "execution_count": 6,
   "id": "cf254188-5df7-40c2-bf66-5376dfeb7ad2",
   "metadata": {},
   "outputs": [
    {
     "data": {
      "text/plain": [
       "24"
      ]
     },
     "execution_count": 6,
     "metadata": {},
     "output_type": "execute_result"
    }
   ],
   "source": [
    "\n",
    "a.size              # the total number of elements of the array. This is the product of the elements of the array’s shape.\n"
   ]
  },
  {
   "cell_type": "markdown",
   "id": "3c6655fa-3bb4-4d62-99c1-4e8e4af913b1",
   "metadata": {},
   "source": [
    "<br>\n",
    "\n",
    "<span style=\"color: red;\">shape</span>"
   ]
  },
  {
   "cell_type": "code",
   "execution_count": 7,
   "id": "8b50fdc4-9934-4b57-9c66-44f38b2ce661",
   "metadata": {},
   "outputs": [
    {
     "data": {
      "text/plain": [
       "(3, 2, 4)"
      ]
     },
     "execution_count": 7,
     "metadata": {},
     "output_type": "execute_result"
    }
   ],
   "source": [
    "\n",
    "a.shape             # display a tuple of integers that indicate the number of elements stored along each dimension of the array.\n"
   ]
  },
  {
   "cell_type": "markdown",
   "id": "58e88d17-93eb-4066-909a-c63a0af132ad",
   "metadata": {},
   "source": [
    "<br>\n",
    "\n",
    "<span style=\"color: red;\">reshape( )</span>  &nbsp;&nbsp;====>&nbsp;&nbsp;  changes the shape of an array without changing its elements. \n",
    "\n",
    "<code>numpy.<span style=\"color: red;\">reshape</span>(a, newshape, order='C')</code>   &nbsp;&nbsp;&nbsp;=&nbsp;&nbsp;&nbsp;   <code>a.<span style=\"color: red;\">reshape</span>(newshape, order='C')</code>"
   ]
  },
  {
   "cell_type": "code",
   "execution_count": 5,
   "id": "bb0394cc-ec38-4f6c-9de0-8851ac38f017",
   "metadata": {},
   "outputs": [
    {
     "name": "stdout",
     "output_type": "stream",
     "text": [
      "[1 2 3 4]\n"
     ]
    }
   ],
   "source": [
    "\n",
    "a = np.arange(1, 5)\n",
    "print(a)\n"
   ]
  },
  {
   "cell_type": "code",
   "execution_count": 6,
   "id": "e037b238-7eaa-40b8-a30b-56f68b68b8f8",
   "metadata": {},
   "outputs": [
    {
     "name": "stdout",
     "output_type": "stream",
     "text": [
      "[[1 2]\n",
      " [3 4]]\n"
     ]
    }
   ],
   "source": [
    "\n",
    "b = np.reshape(a, (2, 2))\n",
    "print(b)\n"
   ]
  },
  {
   "cell_type": "markdown",
   "id": "f30c755a-3d53-4e36-8262-c57aa1e5f4ba",
   "metadata": {},
   "source": [
    "<br>\n",
    "\n",
    "<span style=\"color: #a245ff;\">Numpy <span style=\"color: red;\">reshape( )</span> returns a <strong>view</strong></span>\n"
   ]
  },
  {
   "cell_type": "code",
   "execution_count": 9,
   "id": "41d449e8-8125-49db-8fa6-dfd9dc05ed9d",
   "metadata": {},
   "outputs": [
    {
     "name": "stdout",
     "output_type": "stream",
     "text": [
      "[[1 2]\n",
      " [3 4]]\n"
     ]
    }
   ],
   "source": [
    "\n",
    "a = np.arange(1, 5)                 # [1   2    3    4    5]\n",
    "\n",
    "b = np.reshape(a, (2, 2))\n",
    "print(b)\n"
   ]
  },
  {
   "cell_type": "code",
   "execution_count": 10,
   "id": "4af56340-8619-45c5-b9ea-40819b4a9fb3",
   "metadata": {},
   "outputs": [
    {
     "name": "stdout",
     "output_type": "stream",
     "text": [
      "[[0 2]\n",
      " [3 4]]\n",
      "\n",
      "\n",
      "[0 2 3 4]\n"
     ]
    }
   ],
   "source": [
    "\n",
    "# change the element [0,0]\n",
    "b[0, 0] = 0\n",
    "\n",
    "print(b)\n",
    "\n",
    "print(\"\\n\")\n",
    "\n",
    "print(a)             # since the array \"b\" is a view, so the change is also reflected in the array \"a\"\n"
   ]
  },
  {
   "cell_type": "markdown",
   "id": "bc32e83b-7daa-46be-9abc-0b8a95106e89",
   "metadata": {},
   "source": [
    "<br>\n",
    "\n",
    "<span style=\"color: #06fff0; font-size: 0.7rem;\">■■■■■■■■■■■■■■■■■■■■■■■■■■■■■■■■■■■■■■■■■■■■■■■■■■■■■■■■■■■■■■■■■■■■■■■■■■■■■■■■■■■■■■■■■■■■■■■■■■■■■■■■■■■■■■■</span>\n",
    "\n",
    "<br>\n"
   ]
  },
  {
   "cell_type": "code",
   "execution_count": 8,
   "id": "6bbd8e04-c55b-4cc1-9b9d-f4968f966d3e",
   "metadata": {},
   "outputs": [
    {
     "data": {
      "text/plain": [
       "array([[0., 0., 0., 0.],\n",
       "       [0., 0., 0., 0.],\n",
       "       [0., 0., 0., 0.]])"
      ]
     },
     "execution_count": 8,
     "metadata": {},
     "output_type": "execute_result"
    }
   ],
   "source": [
    "\n",
    "np.zeros((3, 4))\n"
   ]
  },
  {
   "cell_type": "code",
   "execution_count": 9,
   "id": "e75ba6a1-3d8b-4ecc-bc1e-623fd31f9769",
   "metadata": {},
   "outputs": [
    {
     "data": {
      "text/plain": [
       "array([[[1, 1, 1, 1],\n",
       "        [1, 1, 1, 1],\n",
       "        [1, 1, 1, 1]],\n",
       "\n",
       "       [[1, 1, 1, 1],\n",
       "        [1, 1, 1, 1],\n",
       "        [1, 1, 1, 1]]], dtype=int16)"
      ]
     },
     "execution_count": 9,
     "metadata": {},
     "output_type": "execute_result"
    }
   ],
   "source": [
    "\n",
    "np.ones((2, 3, 4), dtype=np.int16)             # (depth, rows, columns)\n"
   ]
  },
  {
   "cell_type": "code",
   "execution_count": 125,
   "id": "495305fb-82d9-4644-bccc-c866f72028a2",
   "metadata": {},
   "outputs": [
    {
     "data": {
      "text/plain": [
       "array([[1.39069238e-309, 1.39069238e-309, 1.39069238e-309],\n",
       "       [1.39069238e-309, 1.39069238e-309, 1.39069238e-309]])"
      ]
     },
     "execution_count": 125,
     "metadata": {},
     "output_type": "execute_result"
    }
   ],
   "source": [
    "\n",
    "np.empty((2, 3)) \n"
   ]
  },
  {
   "cell_type": "markdown",
   "id": "1b5f3d7e-090e-46cc-bd4e-c96d5c274819",
   "metadata": {},
   "source": [
    "<br>\n",
    "\n",
    "<span style=\"color: #06fff0; font-size: 0.7rem;\">■■■■■■■■■■■■■■■■■■■■■■■■■■■■■■■■■■■■■■■■■■■■■■■■■■■■■■■■■■■■■■■■■■■■■■■■■■■■■■■■■■■■■■■■■■■■■■■■■■■■■■■■■■■■■■■</span>\n",
    "\n",
    "<br>"
   ]
  },
  {
   "cell_type": "code",
   "execution_count": 134,
   "id": "685a9fa2-7de9-4751-baca-841ea2b3273b",
   "metadata": {},
   "outputs": [
    {
     "data": {
      "text/plain": [
       "array([10, 15, 20, 25])"
      ]
     },
     "execution_count": 134,
     "metadata": {},
     "output_type": "execute_result"
    }
   ],
   "source": [
    "\n",
    "np.arange(10, 30, 5)            # arange(start, stop, step)\n"
   ]
  },
  {
   "cell_type": "code",
   "execution_count": 131,
   "id": "0c7029b8-443a-44a3-8891-8029625c550c",
   "metadata": {},
   "outputs": [
    {
     "data": {
      "text/plain": [
       "array([0. , 0.3, 0.6, 0.9, 1.2, 1.5, 1.8])"
      ]
     },
     "execution_count": 131,
     "metadata": {},
     "output_type": "execute_result"
    }
   ],
   "source": [
    "\n",
    "np.arange(0, 2, 0.3)           # it accepts float arguments\n"
   ]
  },
  {
   "cell_type": "markdown",
   "id": "e4e0d64c-159a-4cfb-90c0-e00cf65c9f81",
   "metadata": {},
   "source": [
    "<br>\n",
    "\n",
    "<span style=\"color: #a245ff;\">When <code style=\"color: red;\">arange</code> is used with floating point arguments, it is generally not possible to predict the number of elements obtained, due to the finite floating point precision. For this reason, it is usually better to use the function <code style=\"color: red;\">linspace</code> that receives as an argument the number of elements that we want, instead of the step:</span>\n",
    "\n",
    "<br>"
   ]
  },
  {
   "cell_type": "code",
   "execution_count": 133,
   "id": "36819327-b530-42f2-9d37-6d0880452c47",
   "metadata": {},
   "outputs": [
    {
     "data": {
      "text/plain": [
       "array([0.  , 0.25, 0.5 , 0.75, 1.  , 1.25, 1.5 , 1.75, 2.  ])"
      ]
     },
     "execution_count": 133,
     "metadata": {},
     "output_type": "execute_result"
    }
   ],
   "source": [
    "\n",
    "from numpy import pi\n",
    "\n",
    "np.linspace(0, 2, 9)                   # 9 numbers from 0 to 2\n"
   ]
  },
  {
   "cell_type": "code",
   "execution_count": 136,
   "id": "257c45b1-fea0-4993-abf5-42890fc30588",
   "metadata": {},
   "outputs": [
    {
     "data": {
      "text/plain": [
       "array([0.        , 0.06346652, 0.12693304, 0.19039955, 0.25386607,\n",
       "       0.31733259, 0.38079911, 0.44426563, 0.50773215, 0.57119866,\n",
       "       0.63466518, 0.6981317 , 0.76159822, 0.82506474, 0.88853126,\n",
       "       0.95199777, 1.01546429, 1.07893081, 1.14239733, 1.20586385,\n",
       "       1.26933037, 1.33279688, 1.3962634 , 1.45972992, 1.52319644,\n",
       "       1.58666296, 1.65012947, 1.71359599, 1.77706251, 1.84052903,\n",
       "       1.90399555, 1.96746207, 2.03092858, 2.0943951 , 2.15786162,\n",
       "       2.22132814, 2.28479466, 2.34826118, 2.41172769, 2.47519421,\n",
       "       2.53866073, 2.60212725, 2.66559377, 2.72906028, 2.7925268 ,\n",
       "       2.85599332, 2.91945984, 2.98292636, 3.04639288, 3.10985939,\n",
       "       3.17332591, 3.23679243, 3.30025895, 3.36372547, 3.42719199,\n",
       "       3.4906585 , 3.55412502, 3.61759154, 3.68105806, 3.74452458,\n",
       "       3.8079911 , 3.87145761, 3.93492413, 3.99839065, 4.06185717,\n",
       "       4.12532369, 4.1887902 , 4.25225672, 4.31572324, 4.37918976,\n",
       "       4.44265628, 4.5061228 , 4.56958931, 4.63305583, 4.69652235,\n",
       "       4.75998887, 4.82345539, 4.88692191, 4.95038842, 5.01385494,\n",
       "       5.07732146, 5.14078798, 5.2042545 , 5.26772102, 5.33118753,\n",
       "       5.39465405, 5.45812057, 5.52158709, 5.58505361, 5.64852012,\n",
       "       5.71198664, 5.77545316, 5.83891968, 5.9023862 , 5.96585272,\n",
       "       6.02931923, 6.09278575, 6.15625227, 6.21971879, 6.28318531])"
      ]
     },
     "execution_count": 136,
     "metadata": {},
     "output_type": "execute_result"
    }
   ],
   "source": [
    "\n",
    "x = np.linspace(0, 2 * pi, 100)        # useful to evaluate function at lots of points\n",
    "\n",
    "x\n"
   ]
  },
  {
   "cell_type": "code",
   "execution_count": 137,
   "id": "18a593c0-a40c-4f44-aa34-7d034a89eb0e",
   "metadata": {},
   "outputs": [
    {
     "data": {
      "text/plain": [
       "array([ 0.00000000e+00,  6.34239197e-02,  1.26592454e-01,  1.89251244e-01,\n",
       "        2.51147987e-01,  3.12033446e-01,  3.71662456e-01,  4.29794912e-01,\n",
       "        4.86196736e-01,  5.40640817e-01,  5.92907929e-01,  6.42787610e-01,\n",
       "        6.90079011e-01,  7.34591709e-01,  7.76146464e-01,  8.14575952e-01,\n",
       "        8.49725430e-01,  8.81453363e-01,  9.09631995e-01,  9.34147860e-01,\n",
       "        9.54902241e-01,  9.71811568e-01,  9.84807753e-01,  9.93838464e-01,\n",
       "        9.98867339e-01,  9.99874128e-01,  9.96854776e-01,  9.89821442e-01,\n",
       "        9.78802446e-01,  9.63842159e-01,  9.45000819e-01,  9.22354294e-01,\n",
       "        8.95993774e-01,  8.66025404e-01,  8.32569855e-01,  7.95761841e-01,\n",
       "        7.55749574e-01,  7.12694171e-01,  6.66769001e-01,  6.18158986e-01,\n",
       "        5.67059864e-01,  5.13677392e-01,  4.58226522e-01,  4.00930535e-01,\n",
       "        3.42020143e-01,  2.81732557e-01,  2.20310533e-01,  1.58001396e-01,\n",
       "        9.50560433e-02,  3.17279335e-02, -3.17279335e-02, -9.50560433e-02,\n",
       "       -1.58001396e-01, -2.20310533e-01, -2.81732557e-01, -3.42020143e-01,\n",
       "       -4.00930535e-01, -4.58226522e-01, -5.13677392e-01, -5.67059864e-01,\n",
       "       -6.18158986e-01, -6.66769001e-01, -7.12694171e-01, -7.55749574e-01,\n",
       "       -7.95761841e-01, -8.32569855e-01, -8.66025404e-01, -8.95993774e-01,\n",
       "       -9.22354294e-01, -9.45000819e-01, -9.63842159e-01, -9.78802446e-01,\n",
       "       -9.89821442e-01, -9.96854776e-01, -9.99874128e-01, -9.98867339e-01,\n",
       "       -9.93838464e-01, -9.84807753e-01, -9.71811568e-01, -9.54902241e-01,\n",
       "       -9.34147860e-01, -9.09631995e-01, -8.81453363e-01, -8.49725430e-01,\n",
       "       -8.14575952e-01, -7.76146464e-01, -7.34591709e-01, -6.90079011e-01,\n",
       "       -6.42787610e-01, -5.92907929e-01, -5.40640817e-01, -4.86196736e-01,\n",
       "       -4.29794912e-01, -3.71662456e-01, -3.12033446e-01, -2.51147987e-01,\n",
       "       -1.89251244e-01, -1.26592454e-01, -6.34239197e-02, -2.44929360e-16])"
      ]
     },
     "execution_count": 137,
     "metadata": {},
     "output_type": "execute_result"
    }
   ],
   "source": [
    "\n",
    "f = np.sin(x)\n",
    "\n",
    "f\n"
   ]
  },
  {
   "cell_type": "markdown",
   "id": "c3630892-7543-4d46-90b2-9098b59af6bc",
   "metadata": {},
   "source": [
    "<br>\n",
    "\n",
    "<span style=\"color: #06fff0; font-size: 0.7rem;\">■■■■■■■■■■■■■■■■■■■■■■■■■■■■■■■■■■■■■■■■■■■■■■■■■■■■■■■■■■■■■■■■■■■■■■■■■■■■■■■■■■■■■■■■■■■■■■■■■■■■■■■■■■■■■■■</span>\n",
    "\n",
    "<br>"
   ]
  },
  {
   "cell_type": "code",
   "execution_count": 146,
   "id": "719b9e65-3f3e-4d99-adde-66165f82ab63",
   "metadata": {},
   "outputs": [
    {
     "data": {
      "text/plain": [
       "array([0, 1, 2, 3, 4, 5])"
      ]
     },
     "execution_count": 146,
     "metadata": {},
     "output_type": "execute_result"
    }
   ],
   "source": [
    "\n",
    "a = np.arange(6)                       # 1d array\n",
    "\n",
    "a\n"
   ]
  },
  {
   "cell_type": "code",
   "execution_count": 147,
   "id": "73a08b5d-a062-48ce-9587-749761fc850e",
   "metadata": {},
   "outputs": [
    {
     "name": "stdout",
     "output_type": "stream",
     "text": [
      "[0 1 2 3 4 5]\n"
     ]
    }
   ],
   "source": [
    "\n",
    "print(a)\n"
   ]
  },
  {
   "cell_type": "code",
   "execution_count": 148,
   "id": "761ea2fb-10d7-4f3b-85f0-bdc2fb8c524d",
   "metadata": {},
   "outputs": [
    {
     "data": {
      "text/plain": [
       "array([[ 0,  1,  2],\n",
       "       [ 3,  4,  5],\n",
       "       [ 6,  7,  8],\n",
       "       [ 9, 10, 11]])"
      ]
     },
     "execution_count": 148,
     "metadata": {},
     "output_type": "execute_result"
    }
   ],
   "source": [
    "\n",
    "b = np.arange(12).reshape(4, 3)        # 2d array\n",
    "\n",
    "b\n"
   ]
  },
  {
   "cell_type": "code",
   "execution_count": 149,
   "id": "2c4e3892-ebbd-41e8-b81f-c875c91e7bf1",
   "metadata": {},
   "outputs": [
    {
     "name": "stdout",
     "output_type": "stream",
     "text": [
      "[[ 0  1  2]\n",
      " [ 3  4  5]\n",
      " [ 6  7  8]\n",
      " [ 9 10 11]]\n"
     ]
    }
   ],
   "source": [
    "\n",
    "print(b)\n"
   ]
  },
  {
   "cell_type": "code",
   "execution_count": 3,
   "id": "c7d15818-ad0b-4048-8ec9-b8bb2a7d59eb",
   "metadata": {},
   "outputs": [
    {
     "data": {
      "text/plain": [
       "array([[[ 0,  1,  2,  3],\n",
       "        [ 4,  5,  6,  7],\n",
       "        [ 8,  9, 10, 11]],\n",
       "\n",
       "       [[12, 13, 14, 15],\n",
       "        [16, 17, 18, 19],\n",
       "        [20, 21, 22, 23]]])"
      ]
     },
     "execution_count": 3,
     "metadata": {},
     "output_type": "execute_result"
    }
   ],
   "source": [
    "\n",
    "c = np.arange(24).reshape(2, 3, 4)         # 3d array\n",
    "\n",
    "c\n"
   ]
  },
  {
   "cell_type": "code",
   "execution_count": 151,
   "id": "33f9c84c-c264-4cd4-ad81-ec8c3c392e38",
   "metadata": {},
   "outputs": [
    {
     "name": "stdout",
     "output_type": "stream",
     "text": [
      "[[[ 0  1  2  3]\n",
      "  [ 4  5  6  7]\n",
      "  [ 8  9 10 11]]\n",
      "\n",
      " [[12 13 14 15]\n",
      "  [16 17 18 19]\n",
      "  [20 21 22 23]]]\n"
     ]
    }
   ],
   "source": [
    "\n",
    "print(c)\n"
   ]
  },
  {
   "cell_type": "code",
   "execution_count": 152,
   "id": "c13f4fa0-5a2a-4ae9-8440-4e345ba620ad",
   "metadata": {},
   "outputs": [
    {
     "name": "stdout",
     "output_type": "stream",
     "text": [
      "[   0    1    2 ... 9997 9998 9999]\n"
     ]
    }
   ],
   "source": [
    "\n",
    "print(np.arange(10000))\n"
   ]
  },
  {
   "cell_type": "code",
   "execution_count": 153,
   "id": "55c18456-29b9-452b-842e-87abbdbc6ebc",
   "metadata": {},
   "outputs": [
    {
     "name": "stdout",
     "output_type": "stream",
     "text": [
      "[[   0    1    2 ...   97   98   99]\n",
      " [ 100  101  102 ...  197  198  199]\n",
      " [ 200  201  202 ...  297  298  299]\n",
      " ...\n",
      " [9700 9701 9702 ... 9797 9798 9799]\n",
      " [9800 9801 9802 ... 9897 9898 9899]\n",
      " [9900 9901 9902 ... 9997 9998 9999]]\n"
     ]
    }
   ],
   "source": [
    "\n",
    "print(np.arange(10000).reshape(100, 100))\n"
   ]
  },
  {
   "cell_type": "markdown",
   "id": "6fab2c1e-31d6-4a18-806f-b596c55caea3",
   "metadata": {},
   "source": [
    "<br>\n",
    "\n",
    "\n",
    "<span style=\"color: #a245ff;\">To disable this behavior  &nbsp;&nbsp;======>&nbsp;&nbsp;   <code>np.<span style=\"color: red;\">set_printoptions</span>(threshold=sys.maxsize)</code>  &nbsp;&nbsp;======>&nbsp;&nbsp;   # sys module should be imported</span>\n",
    "\n"
   ]
  },
  {
   "cell_type": "markdown",
   "id": "10bc8225-242c-43c6-b426-101d2a897732",
   "metadata": {},
   "source": [
    "<br>\n",
    "\n",
    "<span style=\"color: #06fff0; font-size: 0.7rem;\">■■■■■■■■■■■■■■■■■■■■■■■■■■■■■■■■■■■■■■■■■■■■■■■■■■■■■■■■■■■■■■■■■■■■■■■■■■■■■■■■■■■■■■■■■■■■■■■■■■■■■■■■■■■■■■■</span>\n",
    "\n",
    "<br>"
   ]
  },
  {
   "cell_type": "code",
   "execution_count": 161,
   "id": "270ca45d-298d-4472-a6a5-d973ae27a151",
   "metadata": {},
   "outputs": [],
   "source": [
    "\n",
    "a = np.array([20, 30, 40, 50])          # [20  30  40  50]\n",
    "\n",
    "b = np.arange(4)                        # [1   2   3   4]\n"
   ]
  },
  {
   "cell_type": "code",
   "execution_count": 160,
   "id": "7beac422-c1ef-4a36-9aef-448eacac9293",
   "metadata": {},
   "outputs": [
    {
     "data": {
      "text/plain": [
       "array([20, 29, 38, 47])"
      ]
     },
     "execution_count": 160,
     "metadata": {},
     "output_type": "execute_result"
    }
   ],
   "source": [
    "\n",
    "c = a - b\n",
    "\n",
    "c\n"
   ]
  },
  {
   "cell_type": "code",
   "execution_count": 162,
   "id": "2287f0ac-acab-4bdc-b454-27f7f867a878",
   "metadata": {},
   "outputs": [
    {
     "data": {
      "text/plain": [
       "array([0, 1, 4, 9])"
      ]
     },
     "execution_count": 162,
     "metadata": {},
     "output_type": "execute_result"
    }
   ],
   "source": [
    "\n",
    "b ** 2\n"
   ]
  },
  {
   "cell_type": "code",
   "execution_count": 163,
   "id": "6ad4d78e-77d3-4438-8faf-774b0d6bd73f",
   "metadata": {},
   "outputs": [
    {
     "data": {
      "text/plain": [
       "array([ 9.12945251, -9.88031624,  7.4511316 , -2.62374854])"
      ]
     },
     "execution_count": 163,
     "metadata": {},
     "output_type": "execute_result"
    }
   ],
   "source": [
    "\n",
    "10 * np.sin(a)\n"
   ]
  },
  {
   "cell_type": "code",
   "execution_count": 167,
   "id": "289bbbb6-f2d4-4641-b2d7-d1b6cbaba5f0",
   "metadata": {},
   "outputs": [
    {
     "data": {
      "text/plain": [
       "array([ True,  True, False, False])"
      ]
     },
     "execution_count": 167,
     "metadata": {},
     "output_type": "execute_result"
    }
   ],
   "source": [
    "\n",
    "a < 35               #  array([20  30  40  50]) < 35\n"
   ]
  },
  {
   "cell_type": "markdown",
   "id": "188e48df-4354-45ee-b7ac-63c51e167d55",
   "metadata": {},
   "source": [
    "<br>\n",
    "\n",
    "<span style=\"color: #06fff0; font-size: 0.7rem;\">■■■■■■■■■■■■■■■■■■■■■■■■■■■■■■■■■■■■■■■■■■■■■■■■■■■■■■■■■■■■■■■■■■■■■■■■■■■■■■■■■■■■■■■■■■■■■■■■■■■■■■■■■■■■■■■</span>\n",
    "\n",
    "<br>"
   ]
  },
  {
   "cell_type": "code",
   "execution_count": 169,
   "id": "c7cf8ba4-eb38-4e21-b4dc-82a9c62b3454",
   "metadata": {},
   "outputs": [],
   "source": [
    "\n",
    "A = np.array([[1, 1],\n",
    "              [0, 1]])\n",
    "\n",
    "B = np.array([[2, 0],\n",
    "              [3, 4]])\n"
   ]
  },
  {
   "cell_type": "code",
   "execution_count": 171,
   "id": "48a36aee-d551-41ea-a9e2-8ca282d2cd07",
   "metadata": {},
   "outputs": [
    {
     "data": {
      "text/plain": [
       "array([[2, 0],\n",
       "       [0, 4]])"
      ]
     },
     "execution_count": 171,
     "metadata": {},
     "output_type": "execute_result"
    }
   ],
   "source": [
    "\n",
    "A * B                     # elementwise product\n"
   ]
  },
  {
   "cell_type": "code",
   "execution_count": 172,
   "id": "db0a5502-4fc7-4846-8b7a-0abec15a6df7",
   "metadata": {},
   "outputs": [
    {
     "data": {
      "text/plain": [
       "array([[5, 4],\n",
       "       [3, 4]])"
      ]
     },
     "execution_count": 172,
     "metadata": {},
     "output_type": "execute_result"
    }
   ],
   "source": [
    "\n",
    "A @ B                     # matrix product\n"
   ]
  },
  {
   "cell_type": "code",
   "execution_count": 173,
   "id": "494d7507-4d51-4876-b59d-70f1c040cfea",
   "metadata": {},
   "outputs": [
    {
     "data": {
      "text/plain": [
       "array([[5, 4],\n",
       "       [3, 4]])"
      ]
     },
     "execution_count": 173,
     "metadata": {},
     "output_type": "execute_result"
    }
   ],
   "source": [
    "\n",
    "A.dot(B)                 # another matrix product\n"
   ]
  },
  {
   "cell_type": "markdown",
   "id": "28525d02-3c95-44cb-8501-9ee4e3edcb0b",
   "metadata": {},
   "source": [
    "<br>\n",
    "\n",
    "<span style=\"color: #a245ff;\">Some operations, such as &nbsp;<code style=\"color: red;\">+=</code>&nbsp; and &nbsp;<code style=\"color: red;\">*=</code>&nbsp;, act in place to modify an existing array rather than create a new one.</span>\n"
   ]
  },
  {
   "cell_type": "code",
   "execution_count": 176,
   "id": "9eb3131f-78b3-411a-b84a-4c56722f86e1",
   "metadata": {},
   "outputs": [
    {
     "data": {
      "text/plain": [
       "Generator(PCG64) at 0x1F222B4F4C0"
      ]
     },
     "execution_count": 176,
     "metadata": {},
     "output_type": "execute_result"
    }
   ],
   "source": [
    "\n",
    "rg = np.random.default_rng(1)        # create instance of default random number generator\n",
    "\n",
    "rg\n"
   ]
  },
  {
   "cell_type": "code",
   "execution_count": 177,
   "id": "5323afbf-5683-4021-b1f7-db11dd2e75e3",
   "metadata": {},
   "outputs": [
    {
     "data": {
      "text/plain": [
       "array([[1, 1, 1],\n",
       "       [1, 1, 1]])"
      ]
     },
     "execution_count": 177,
     "metadata": {},
     "output_type": "execute_result"
    }
   ],
   "source": [
    "\n",
    "a = np.ones((2, 3), dtype=int)\n",
    "\n",
    "a\n"
   ]
  },
  {
   "cell_type": "code",
   "execution_count": 178,
   "id": "b3fcaa4e-13e2-47ec-a346-f0b43d3dc110",
   "metadata": {},
   "outputs": [
    {
     "data": {
      "text/plain": [
       "array([[0.51182162, 0.9504637 , 0.14415961],\n",
       "       [0.94864945, 0.31183145, 0.42332645]])"
      ]
     },
     "execution_count": 178,
     "metadata": {},
     "output_type": "execute_result"
    }
   ],
   "source": [
    "\n",
    "b = rg.random((2, 3))\n",
    "\n",
    "b\n"
   ]
  },
  {
   "cell_type": "code",
   "execution_count": 179,
   "id": "2d064d24-9bfd-4688-ab22-e750dedf0c2b",
   "metadata": {},
   "outputs": [
    {
     "data": {
      "text/plain": [
       "array([[3, 3, 3],\n",
       "       [3, 3, 3]])"
      ]
     },
     "execution_count": 179,
     "metadata": {},
     "output_type": "execute_result"
    }
   ],
   "source": [
    "\n",
    "a *= 3\n",
    "\n",
    "a\n"
   ]
  },
  {
   "cell_type": "code",
   "execution_count": 180,
   "id": "82308fdf-e340-4952-bec8-ecb2b3433806",
   "metadata": {},
   "outputs": [
    {
     "data": {
      "text/plain": [
       "array([[3.51182162, 3.9504637 , 3.14415961],\n",
       "       [3.94864945, 3.31183145, 3.42332645]])"
      ]
     },
     "execution_count": 180,
     "metadata": {},
     "output_type": "execute_result"
    }
   ],
   "source": [
    "\n",
    "b += a\n",
    "\n",
    "b\n"
   ]
  },
  {
   "cell_type": "code",
   "execution_count": 182,
   "id": "8417c8a3-059d-4b3e-b148-a79fbaf17fec",
   "metadata": {},
   "outputs": [
    {
     "ename": "UFuncTypeError",
     "evalue": "Cannot cast ufunc 'add' output from dtype('float64') to dtype('int32') with casting rule 'same_kind'",
     "output_type": "error",
     "traceback": [
      "\u001b[1;31m---------------------------------------------------------------------------\u001b[0m",
      "\u001b[1;31mUFuncTypeError\u001b[0m                            Traceback (most recent call last)",
      "Cell \u001b[1;32mIn[182], line 1\u001b[0m\n\u001b[1;32m----> 1\u001b[0m \u001b[43ma\u001b[49m\u001b[43m \u001b[49m\u001b[38;5;241;43m+\u001b[39;49m\u001b[38;5;241;43m=\u001b[39;49m\u001b[43m \u001b[49m\u001b[43mb\u001b[49m         \u001b[38;5;66;03m# b is not automatically converted to integer type\u001b[39;00m\n",
      "\u001b[1;31mUFuncTypeError\u001b[0m: Cannot cast ufunc 'add' output from dtype('float64') to dtype('int32') with casting rule 'same_kind'"
     ]
    }
   ],
   "source": [
    "\n",
    "a += b         # b is not automatically converted to integer type\n"
   ]
  },
  {
   "cell_type": "markdown",
   "id": "58392561-8359-47ce-80e2-9e0458888213",
   "metadata": {},
   "source": [
    "\n",
    "<br>\n",
    "\n",
    "<span style=\"color: #a245ff;\">When operating with arrays of <u>different types, the type of the resulting array corresponds to the <strong>more general or precise one</span> (a behavior known as <span style=\"color: red;\">upcasting</span>).</span>\n",
    "\n",
    "<br>"
   ]
  },
  {
   "cell_type": "code",
   "execution_count": 183,
   "id": "c094b1bf-2b4d-4e3d-8065-e862ffb14a73",
   "metadata": {},
   "outputs": [
    {
     "data": {
      "text/plain": [
       "array([1, 1, 1])"
      ]
     },
     "execution_count": 183,
     "metadata": {},
     "output_type": "execute_result"
    }
   ],
   "source": [
    "\n",
    "a = np.ones(3, dtype=np.int32)\n",
    "\n",
    "a\n"
   ]
  },
  {
   "cell_type": "code",
   "execution_count": 184,
   "id": "3acc5e13-d446-4000-815f-828af998a072",
   "metadata": {},
   "outputs": [
    {
     "data": {
      "text/plain": [
       "array([0.        , 1.57079633, 3.14159265])"
      ]
     },
     "execution_count": 184,
     "metadata": {},
     "output_type": "execute_result"
    }
   ],
   "source": [
    "\n",
    "b = np.linspace(0, pi, 3)\n",
    "\n",
    "b\n"
   ]
  },
  {
   "cell_type": "code",
   "execution_count": 185,
   "id": "697e59af-8803-42de-bf2d-5072013b55b0",
   "metadata": {},
   "outputs": [
    {
     "data": {
      "text/plain": [
       "'float64'"
      ]
     },
     "execution_count": 185,
     "metadata": {},
     "output_type": "execute_result"
    }
   ],
   "source": [
    "\n",
    "b.dtype.name\n"
   ]
  },
  {
   "cell_type": "code",
   "execution_count": 186,
   "id": "86cfef83-a6e0-44ae-be73-24f59f92e7d5",
   "metadata": {},
   "outputs": [
    {
     "data": {
      "text/plain": [
       "array([1.        , 2.57079633, 4.14159265])"
      ]
     },
     "execution_count": 186,
     "metadata": {},
     "output_type": "execute_result"
    }
   ],
   "source": [
    "\n",
    "c = a + b\n",
    "\n",
    "c\n"
   ]
  },
  {
   "cell_type": "code",
   "execution_count": 187,
   "id": "617bd29d-66fa-42ef-8818-99cc95deef6a",
   "metadata": {},
   "outputs": [
    {
     "data": {
      "text/plain": [
       "'float64'"
      ]
     },
     "execution_count": 187,
     "metadata": {},
     "output_type": "execute_result"
    }
   ],
   "source": [
    "\n",
    "c.dtype.name\n"
   ]
  },
  {
   "cell_type": "code",
   "execution_count": 188,
   "id": "af81981d-d34a-4629-bac7-01c60e7dadb8",
   "metadata": {},
   "outputs": [
    {
     "data": {
      "text/plain": [
       "array([ 0.54030231+0.84147098j, -0.84147098+0.54030231j,\n",
       "       -0.54030231-0.84147098j])"
      ]
     },
     "execution_count": 188,
     "metadata": {},
     "output_type": "execute_result"
    }
   ],
   "source": [
    "\n",
    "d = np.exp(c * 1j)\n",
    "\n",
    "d\n"
   ]
  },
  {
   "cell_type": "code",
   "execution_count": 189,
   "id": "ef822401-16ce-4fe3-9b76-4dbd49b581a0",
   "metadata": {},
   "outputs": [
    {
     "data": {
      "text/plain": [
       "'complex128'"
      ]
     },
     "execution_count": 189,
     "metadata": {},
     "output_type": "execute_result"
    }
   ],
   "source": [
    "\n",
    "d.dtype.name\n"
   ]
  },
  {
   "cell_type": "markdown",
   "id": "19f84443-1f70-4765-9a30-8a63d47e6ec9",
   "metadata": {},
   "source": [
    "<br>\n",
    "\n",
    "<span style=\"color: #06fff0; font-size: 0.7rem;\">■■■■■■■■■■■■■■■■■■■■■■■■■■■■■■■■■■■■■■■■■■■■■■■■■■■■■■■■■■■■■■■■■■■■■■■■■■■■■■■■■■■■■■■■■■■■■■■■■■■■■■■■■■■■■■■</span>\n",
    "\n",
    "<br>"
   ]
  },
  {
   "cell_type": "markdown",
   "id": "9f011c7d-301a-4d98-a7a5-f011b2468391",
   "metadata": {},
   "source": [
    "\n",
    "<span style=\"color: #a245ff;\">Many <strong>unary</strong> operations, such as computing the sum of all the elements in the array, are implemented as methods of the <strong>ndarray</strong> class.</span>\n"
   ]
  },
  {
   "cell_type": "code",
   "execution_count": 200,
   "id": "5fac89f3-caa1-4ad6-9c82-3725a6b3ec2c",
   "metadata": {},
   "outputs": [
    {
     "data": {
      "text/plain": [
       "array([[1, 2, 3],\n",
       "       [4, 5, 6]])"
      ]
     },
     "execution_count": 200,
     "metadata": {},
     "output_type": "execute_result"
    }
   ],
   "source": [
    "\n",
    "a = np.array([[1,2,3], [4,5,6]])\n",
    "\n",
    "a\n"
   ]
  },
  {
   "cell_type": "code",
   "execution_count": 204,
   "id": "e0d0cb76-a296-4c3f-bb4f-220e799edc76",
   "metadata": {},
   "outputs": [
    {
     "data": {
      "text/plain": [
       "21"
      ]
     },
     "execution_count": 204,
     "metadata": {},
     "output_type": "execute_result"
    }
   ],
   "source": [
    "\n",
    "a.sum()             # 1 + 2 + 3 + 4 + 5 + 6 = 21\n"
   ]
  },
  {
   "cell_type": "code",
   "execution_count": 202,
   "id": "19ecea74-b188-4a29-8b2c-35195d687f43",
   "metadata": {},
   "outputs": [
    {
     "data": {
      "text/plain": [
       "1"
      ]
     },
     "execution_count": 202,
     "metadata": {},
     "output_type": "execute_result"
    }
   ],
   "source": [
    "\n",
    "a.min()\n"
   ]
  },
  {
   "cell_type": "code",
   "execution_count": 203,
   "id": "280ba2c3-c42c-4d87-bc62-7855227034d5",
   "metadata": {},
   "outputs": [
    {
     "data": {
      "text/plain": [
       "6"
      ]
     },
     "execution_count": 203,
     "metadata": {},
     "output_type": "execute_result"
    }
   ],
   "source": [
    "\n",
    "a.max()\n"
   ]
  },
  {
   "cell_type": "markdown",
   "id": "e464e472-ca3c-4000-b66d-64a64b699157",
   "metadata": {},
   "source": [
    "<br>\n",
    "\n",
    "<span style=\"color: #06fff0; font-size: 0.7rem;\">■■■■■■■■■■■■■■■■■■■■■■■■■■■■■■■■■■■■■■■■■■■■■■■■■■■■■■■■■■■■■■■■■■■■■■■■■■■■■■■■■■■■■■■■■■■■■■■■■■■■■■■■■■■■■■■</span>\n",
    "\n",
    "<br>\n",
    "\n",
    "<span style=\"color: #a245ff;\"><strong>axis = 0</strong>  &nbsp;&nbsp;===>&nbsp;&nbsp;  columnwise &nbsp;&nbsp;(treating each column separately)  &nbsp;&nbsp;===>&nbsp;&nbsp; move downwards &nbsp;&nbsp;===>&nbsp;&nbsp; first axis</span>  <br>\n",
    "<span style=\"color: #a245ff;\"><strong>axis = 1</strong>  &nbsp;&nbsp;===>&nbsp;&nbsp;  row wise &nbsp;&nbsp;(treating each row separately) &nbsp;&nbsp;=======>&nbsp;&nbsp; move across &nbsp;&nbsp;=======>&nbsp;&nbsp;last axis</span>\n",
    "\n",
    "<br>"
   ]
  },
  {
   "cell_type": "code",
   "execution_count": 209,
   "id": "5ee10be5-1767-4ed4-a183-4c91204a822a",
   "metadata": {},
   "outputs": [
    {
     "data": {
      "text/plain": [
       "array([[ 0,  1,  2,  3],\n",
       "       [ 4,  5,  6,  7],\n",
       "       [ 8,  9, 10, 11]])"
      ]
     },
     "execution_count": 209,
     "metadata": {},
     "output_type": "execute_result"
    }
   ],
   "source": [
    "\n",
    "b = np.arange(12).reshape(3, 4)\n",
    "\n",
    "b\n"
   ]
  },
  {
   "cell_type": "code",
   "execution_count": 210,
   "id": "e05af9a6-59fd-4bd3-a2c3-caa3c358434a",
   "metadata": {},
   "outputs": [
    {
     "data": {
      "text/plain": [
       "array([12, 15, 18, 21])"
      ]
     },
     "execution_count": 210,
     "metadata": {},
     "output_type": "execute_result"
    }
   ],
   "source": [
    "\n",
    "b.sum(axis=0)                    # sum of each column\n"
   ]
  },
  {
   "cell_type": "code",
   "execution_count": 211,
   "id": "5628f2dc-d12f-4e47-960a-c161a2b48d9f",
   "metadata": {},
   "outputs": [
    {
     "data": {
      "text/plain": [
       "array([0, 4, 8])"
      ]
     },
     "execution_count": 211,
     "metadata": {},
     "output_type": "execute_result"
    }
   ],
   "source": [
    "\n",
    "b.min(axis=1)                    # min of each row\n"
   ]
  },
  {
   "cell_type": "code",
   "execution_count": 1,
   "id": "75a31abc-761b-4954-b17d-d77fff7b6c9f",
   "metadata": {},
   "outputs": [
    {
     "ename": "NameError",
     "evalue": "name 'b' is not defined",
     "output_type": "error",
     "traceback": [
      "\u001b[1;31m---------------------------------------------------------------------------\u001b[0m",
      "\u001b[1;31mNameError\u001b[0m                                 Traceback (most recent call last)",
      "Cell \u001b[1;32mIn[1], line 1\u001b[0m\n\u001b[1;32m----> 1\u001b[0m \u001b[43mb\u001b[49m\u001b[38;5;241m.\u001b[39mcumsum(axis\u001b[38;5;241m=\u001b[39m\u001b[38;5;241m1\u001b[39m)                 \u001b[38;5;66;03m# cumulative sum along each row\u001b[39;00m\n",
      "\u001b[1;31mNameError\u001b[0m: name 'b' is not defined"
     ]
    }
   ],
   "source": [
    "\n",
    "b.cumsum(axis=1)                 # cumulative sum along each row\n"
   ]
  },
  {
   "cell_type": "markdown",
   "id": "89eb151b-2316-457a-9d76-5a11e37fad10",
   "metadata": {},
   "source": [
    "<br>\n",
    "\n",
    "<span style=\"color: #06fff0; font-size: 0.7rem;\">■■■■■■■■■■■■■■■■■■■■■■■■■■■■■■■■■■■■■■■■■■■■■■■■■■■■■■■■■■■■■■■■■■■■■■■■■■■■■■■■■■■■■■■■■■■■■■■■■■■■■■■■■■■■■■■</span>\n",
    "\n",
    "<br>\n",
    "\n",
    "<strong>Universal &nbsp;&nbsp;Functions</strong>\n",
    "\n",
    "<span style=\"color: #a245ff;\">NumPy provides familiar mathematical functions such as sin, cos, and exp. In NumPy, these are called “universal functions” (&nbsp;<code style=\"color: red;\">ufunc</code>&nbsp;). &nbsp;Within NumPy, these functions operate elementwise on an array, producing an array as output.</span>"
   ]
  },
  {
   "cell_type": "code",
   "execution_count": 214,
   "id": "89c710d1-afb6-4550-88cb-167b323c7765",
   "metadata": {},
   "outputs": [
    {
     "data": {
      "text/plain": [
       "array([0, 1, 2])"
      ]
     },
     "execution_count": 214,
     "metadata": {},
     "output_type": "execute_result"
    }
   ],
   "source": [
    "\n",
    "B = np.arange(3)\n",
    "\n",
    "B\n"
   ]
  },
  {
   "cell_type": "code",
   "execution_count": 215,
   "id": "05571b15-0fce-43a3-a9c8-e713dd94f503",
   "metadata": {},
   "outputs": [
    {
     "data": {
      "text/plain": [
       "array([1.        , 2.71828183, 7.3890561 ])"
      ]
     },
     "execution_count": 215,
     "metadata": {},
     "output_type": "execute_result"
    }
   ],
   "source": [
    "\n",
    "np.exp(B)\n"
   ]
  },
  {
   "cell_type": "code",
   "execution_count": 216,
   "id": "b06e602b-857e-4bad-afaa-ea505c47776c",
   "metadata": {},
   "outputs": [
    {
     "data": {
      "text/plain": [
       "array([0.        , 1.        , 1.41421356])"
      ]
     },
     "execution_count": 216,
     "metadata": {},
     "output_type": "execute_result"
    }
   ],
   "source": [
    "\n",
    "np.sqrt(B)\n"
   ]
  },
  {
   "cell_type": "code",
   "execution_count": 219,
   "id": "4cf7e0d2-e50d-459b-b0ea-aeda949989c5",
   "metadata": {},
   "outputs": [
    {
     "data": {
      "text/plain": [
       "array([ 2., -1.,  4.])"
      ]
     },
     "execution_count": 219,
     "metadata": {},
     "output_type": "execute_result"
    }
   ],
   "source": [
    "\n",
    "C = np.array([2., -1., 4.])\n",
    "\n",
    "C\n"
   ]
  },
  {
   "cell_type": "code",
   "execution_count": 220,
   "id": "1bf9a2a3-6e61-4fb2-b325-7b5330fb5ff7",
   "metadata": {},
   "outputs": [
    {
     "data": {
      "text/plain": [
       "array([2., 0., 6.])"
      ]
     },
     "execution_count": 220,
     "metadata": {},
     "output_type": "execute_result"
    }
   ],
   "source": [
    "\n",
    "np.add(B, C)\n"
   ]
  },
  {
   "cell_type": "markdown",
   "id": "f5baf785-abdf-47e1-9156-bb0f8c3a39af",
   "metadata": {},
   "source": [
    "<br>\n",
    "\n",
    "<div style=\"color: #a245ff;\">\n",
    "\n",
    "<span style=\"color: red; font-size: 1rem;\">**any( )**</span> &nbsp;&nbsp;===>&nbsp;&nbsp;<u>Not a Number</u> (NaN), <u>positive infinity</u> and <u>negative infinity</u> evaluate to **True** because these are **not equal to zero**.\n",
    "\n",
    "The &nbsp;<code>np.<span style=\"color: red;\">any()</span></code>&nbsp; function tests whether any of the elements in the specified axis evaluate to True. By default, **it treats any non-zero number as True**, which includes both &nbsp;<code>np.nan</code>&nbsp; and &nbsp;<code>np.inf</code>&nbsp;\n",
    "\n",
    "</div>\n",
    "\n",
    "<br>"
   ]
  },
  {
   "cell_type": "code",
   "execution_count": 221,
   "id": "58a59324-3ec2-46fb-90dd-38440dce4bd0",
   "metadata": {},
   "outputs": [
    {
     "data": {
      "text/plain": [
       "True"
      ]
     },
     "execution_count": 221,
     "metadata": {},
     "output_type": "execute_result"
    }
   ],
   "source": [
    "\n",
    "np.any([[True, False], [True, True]])\n"
   ]
  },
  {
   "cell_type": "code",
   "execution_count": 222,
   "id": "b72f2824-fcc9-4f41-bba7-83636518ac2c",
   "metadata": {},
   "outputs": [
    {
     "data": {
      "text/plain": [
       "array([ True, False,  True])"
      ]
     },
     "execution_count": 222,
     "metadata": {},
     "output_type": "execute_result"
    }
   ],
   "source": [
    "\n",
    "np.any([[True,  False, True ],\n",
    "        [False, False, False]], axis=0)\n"
   ]
  },
  {
   "cell_type": "code",
   "execution_count": 223,
   "id": "346a5a82-3da3-489f-864b-43b65e4979cc",
   "metadata": {},
   "outputs": [
    {
     "data": {
      "text/plain": [
       "True"
      ]
     },
     "execution_count": 223,
     "metadata": {},
     "output_type": "execute_result"
    }
   ],
   "source": [
    "\n",
    "np.any([-1, 0, 5])\n"
   ]
  },
  {
   "cell_type": "code",
   "execution_count": 224,
   "id": "e3baff8d-f28a-4753-91cb-5cedd5219ab7",
   "metadata": {},
   "outputs": [
    {
     "data": {
      "text/plain": [
       "array([[ True],\n",
       "       [ True]])"
      ]
     },
     "execution_count": 224,
     "metadata": {},
     "output_type": "execute_result"
    }
   ],
   "source": [
    "\n",
    "np.any([[np.nan], [np.inf]], axis=1, keepdims=True)\n"
   ]
  },
  {
   "cell_type": "code",
   "execution_count": 225,
   "id": "1e6eaa42-339d-4d27-85ea-b0fb8b11e2f6",
   "metadata": {},
   "outputs": [
    {
     "data": {
      "text/plain": [
       "False"
      ]
     },
     "execution_count": 225,
     "metadata": {},
     "output_type": "execute_result"
    }
   ],
   "source": [
    "\n",
    "np.any([[True, False], [False, False]], where=[[False], [True]])\n"
   ]
  },
  {
   "cell_type": "code",
   "execution_count": 227,
   "id": "02827fed-9613-4663-924f-662405b17e8a",
   "metadata": {},
   "outputs": [],
   "source": [
    "\n",
    "a = np.array([[1, 0, 0],\n",
    "              [0, 0, 1],\n",
    "              [0, 0, 0]])\n"
   ]
  },
  {
   "cell_type": "code",
   "execution_count": 12,
   "id": "69a5bf48-34db-44f5-9297-65bcf2fc59da",
   "metadata": {},
   "outputs": [
    {
     "data": {
      "text/plain": [
       "array([[False,  True,  True,  True],\n",
       "       [ True,  True,  True,  True]])"
      ]
     },
     "execution_count": 12,
     "metadata": {},
     "output_type": "execute_result"
    }
   ],
   "source": [
    "\n",
    "np.any(a, axis=0)        # move downwards   ===>   column wise   ===>  treating each column separately\n"
   ]
  },
  {
   "cell_type": "code",
   "execution_count": 14,
   "id": "f3d08919-283a-4ae2-9ffa-64a8fb6432c8",
   "metadata": {},
   "outputs": [
    {
     "data": {
      "text/plain": [
       "array([[ True,  True,  True,  True],\n",
       "       [ True,  True,  True,  True],\n",
       "       [ True,  True,  True,  True]])"
      ]
     },
     "execution_count": 14,
     "metadata": {},
     "output_type": "execute_result"
    }
   ],
   "source": [
    "\n",
    "np.any(a, axis=1)        # move across      ===>   row wisewise   ===>  treating each row separately\n"
   ]
  },
  {
   "cell_type": "code",
   "execution_count": 235,
   "id": "389f9512-0b47-49e5-a182-be53a94b9a2e",
   "metadata": {},
   "outputs": [
    {
     "data": {
      "text/plain": [
       "(array(True), array(True))"
      ]
     },
     "execution_count": 235,
     "metadata": {},
     "output_type": "execute_result"
    }
   ],
   "source": [
    "\n",
    "o = np.array(False)\n",
    "\n",
    "z = np.any([-1, 4, 5], out=o)\n",
    "\n",
    "z,o\n"
   ]
  },
  {
   "cell_type": "code",
   "execution_count": 236,
   "id": "1b7242e5-9389-4b1d-9118-c73626485041",
   "metadata": {},
   "outputs": [
    {
     "data": {
      "text/plain": [
       "True"
      ]
     },
     "execution_count": 236,
     "metadata": {},
     "output_type": "execute_result"
    }
   ],
   "source": [
    "\n",
    "# Check now that z is a reference to o\n",
    "z is o\n"
   ]
  },
  {
   "cell_type": "code",
   "execution_count": 237,
   "id": "57a00596-26dc-438d-848a-98b7a97dcb48",
   "metadata": {},
   "outputs": [
    {
     "data": {
      "text/plain": [
       "(2139478481520, 2139478481520)"
      ]
     },
     "execution_count": 237,
     "metadata": {},
     "output_type": "execute_result"
    }
   ],
   "source": [
    "\n",
    "id(z), id(o)       # identity of z and o              \n"
   ]
  },
  {
   "cell_type": "markdown",
   "id": "fc0e32ef-2a4f-4e13-8326-d997d115b753",
   "metadata": {},
   "source": [
    "<br>\n",
    "\n",
    "<span style=\"color: red; font-size: 1rem;\">**sort( )**</span>"
   ]
  },
  {
   "cell_type": "code",
   "execution_count": 244,
   "id": "88f56159-9bde-430e-806a-7b0153067a99",
   "metadata": {},
   "outputs": [
    {
     "data": {
      "text/plain": [
       "array([[1, 4],\n",
       "       [1, 3]])"
      ]
     },
     "execution_count": 244,
     "metadata": {},
     "output_type": "execute_result"
    }
   ],
   "source": [
    "\n",
    "a = np.array([[1,4],[3,1]])\n",
    "\n",
    "np.sort(a)                       # sort along the last axis  (axis = 1)\n"
   ]
  },
  {
   "cell_type": "code",
   "execution_count": 242,
   "id": "5e455520-7e1b-4df7-b68c-75b700b82611",
   "metadata": {},
   "outputs": [
    {
     "data": {
      "text/plain": [
       "array([1, 1, 3, 4])"
      ]
     },
     "execution_count": 242,
     "metadata": {},
     "output_type": "execute_result"
    }
   ],
   "source": [
    "\n",
    "np.sort(a, axis=None)            # sort the flattened array\n"
   ]
  },
  {
   "cell_type": "code",
   "execution_count": 243,
   "id": "3a960b1a-e217-47a4-9884-c1e9449bcf73",
   "metadata": {},
   "outputs": [
    {
     "data": {
      "text/plain": [
       "array([[1, 1],\n",
       "       [3, 4]])"
      ]
     },
     "execution_count": 243,
     "metadata": {},
     "output_type": "execute_result"
    }
   ],
   "source": [
    "\n",
    "np.sort(a, axis=0)               # sort along the first axis\n"
   ]
  },
  {
   "cell_type": "code",
   "execution_count": 13,
   "id": "9e92fbcc-e144-49cf-a525-0ef9d23c8197",
   "metadata": {},
   "outputs": [
    {
     "name": "stdout",
     "output_type": "stream",
     "text": [
      "[[3 4 5]\n",
      " [1 2 6]]\n"
     ]
    }
   ],
   "source": [
    "\n",
    "a = np.array([\n",
    "    [5, 3, 4],\n",
    "    [2, 6, 1]\n",
    "])\n",
    "\n",
    "b = np.sort(a, axis=1)\n",
    "print(b)\n"
   ]
  },
  {
   "cell_type": "markdown",
   "id": "a95af425-1b78-4af0-8f2d-c8b1727c2003",
   "metadata": {},
   "source": [
    "<br>\n",
    "\n",
    "<span style=\"color: #a245ff;\">Use the <code style=\"color: red;\">order</code> keyword to specify a field to use when sorting a structured array:</span>\n",
    "\n",
    "<br>"
   ]
  },
  {
   "cell_type": "code",
   "execution_count": 248,
   "id": "ae9acee6-ee38-4671-8c2e-06de5c82d85b",
   "metadata": {},
   "outputs": [
    {
     "data": {
      "text/plain": [
       "array([(b'Arthur', 1.8, 41), (b'Lancelot', 1.9, 38),\n",
       "       (b'Galahad', 1.7, 38)],\n",
       "      dtype=[('name', 'S10'), ('height', '<f8'), ('age', '<i4')])"
      ]
     },
     "execution_count": 248,
     "metadata": {},
     "output_type": "execute_result"
    }
   ],
   "source": [
    "\n",
    "dtype = [('name', 'S10'), ('height', float), ('age', int)]\n",
    "\n",
    "values = [('Arthur', 1.8, 41), ('Lancelot', 1.9, 38), ('Galahad', 1.7, 38)]\n",
    "\n",
    "a = np.array(values, dtype=dtype)                                                # create a structured array\n",
    "\n",
    "a\n"
   ]
  },
  {
   "cell_type": "code",
   "execution_count": 249,
   "id": "f439f1a8-ed24-42a6-985c-25bd47930853",
   "metadata": {},
   "outputs": [
    {
     "data": {
      "text/plain": [
       "array([(b'Galahad', 1.7, 38), (b'Arthur', 1.8, 41),\n",
       "       (b'Lancelot', 1.9, 38)],\n",
       "      dtype=[('name', 'S10'), ('height', '<f8'), ('age', '<i4')])"
      ]
     },
     "execution_count": 249,
     "metadata": {},
     "output_type": "execute_result"
    }
   ],
   "source": [
    "\n",
    "np.sort(a, order='height') \n"
   ]
  },
  {
   "cell_type": "markdown",
   "id": "dde78d06-5ed1-46dc-94ab-ddb239e145dc",
   "metadata": {},
   "source": [
    "<br>\n",
    "\n",
    "<span style=\"color: #a245ff;\">Sort by age, then height if ages are equal:</span>\n"
   ]
  },
  {
   "cell_type": "code",
   "execution_count": 251,
   "id": "22b81543-7899-414a-9a2e-c3aef9cac0bf",
   "metadata": {},
   "outputs": [
    {
     "data": {
      "text/plain": [
       "array([(b'Galahad', 1.7, 38), (b'Lancelot', 1.9, 38),\n",
       "       (b'Arthur', 1.8, 41)],\n",
       "      dtype=[('name', 'S10'), ('height', '<f8'), ('age', '<i4')])"
      ]
     },
     "execution_count": 251,
     "metadata": {},
     "output_type": "execute_result"
    }
   ],
   "source": [
    "\n",
    "np.sort(a, order=['age', 'height'])               \n"
   ]
  },
  {
   "cell_type": "markdown",
   "id": "db72ff90-e553-4fc2-bcb8-33af1e1424da",
   "metadata": {},
   "source": [
    "<br>\n",
    "\n",
    "<span style=\"color: #a245ff;\">The following example sorts the employees by year of services and then salary:</span>"
   ]
  },
  {
   "cell_type": "code",
   "execution_count": 15,
   "id": "b7c19a2c-60f4-44e3-a7fa-c830bedb9b6a",
   "metadata": {},
   "outputs": [
    {
     "name": "stdout",
     "output_type": "stream",
     "text": [
      "[(b'Jane', 1. , 11000.) (b'Bob', 1. , 15500.) (b'Alice', 1.5, 12500.)]\n"
     ]
    }
   ],
   "source": [
    "\n",
    "dtype = [('name', 'S10'),\n",
    "         ('year_of_services', float),\n",
    "         ('salary', float)]\n",
    "\n",
    "employees = [\n",
    "    ('Alice', 1.5, 12500),\n",
    "    ('Bob', 1, 15500),\n",
    "    ('Jane', 1, 11000)\n",
    "]\n",
    "\n",
    "payroll = np.array(employees, dtype=dtype)\n",
    "\n",
    "result = np.sort(\n",
    "    payroll,\n",
    "    order=['year_of_services', 'salary']\n",
    ")\n",
    "\n",
    "print(result)\n"
   ]
  },
  {
   "cell_type": "markdown",
   "id": "01a4379c-3e53-4645-bd5e-4f963f623bc2",
   "metadata": {},
   "source": [
    "<br>\n",
    "\n",
    "<span style=\"color: red; font-size: 1rem;\">**argsort( )**</span>\n",
    "\n",
    "<div style=\"margin-left: 40px; color: #a245ff;\">\n",
    "    \n",
    "It sorts a <u>one-dimensional array</u> or <u>each row of a multi-dimensional array individually</u> and returns the indices of the sorted elements.\n",
    "\n",
    "It is typically used for sorting a <strong>single array</strong>.\n",
    "\n",
    "<code>np.argsort()</code> performs a <span style=\"color: black;\">stable sort</span>, meaning that when two elements have the same value, they <u>retain their relative order</u> in the sorted output.\n",
    "\n",
    "</div>"
   ]
  },
  {
   "cell_type": "code",
   "execution_count": 254,
   "id": "33933d78-e86d-4fea-b927-fef7b077f3c8",
   "metadata": {},
   "outputs": [],
   "source": [
    "\n",
    "arr = np.array([3, 1, 2, 4])\n"
   ]
  },
  {
   "cell_type": "code",
   "execution_count": 257,
   "id": "35dd185f-fd41-4597-a4a5-5266b5f83c41",
   "metadata": {},
   "outputs": [
    {
     "data": {
      "text/plain": [
       "array([1, 2, 0, 3], dtype=int64)"
      ]
     },
     "execution_count": 257,
     "metadata": {},
     "output_type": "execute_result"
    }
   ],
   "source": [
    "\n",
    "sorted_indices = np.argsort(arr)\n",
    "\n",
    "sorted_indices        # OUTPUT: [1  2  0  3]  ==============>  [  arr[1]   arr[2]   arr[0]   arr[3]  ]\n"
   ]
  },
  {
   "cell_type": "markdown",
   "id": "b78a80f4-cb25-4b72-8b20-097029d5b448",
   "metadata": {},
   "source": [
    "\n",
    "<br>\n",
    "\n",
    "<span style=\"color: #a245ff;\">The output &nbsp;<code>[1, 2, 0, 3]</code>&nbsp; indicates that the element at index &nbsp;<code>1</code>&nbsp; is the smallest, followed by the element at index &nbsp;<code>2</code>&nbsp;, then 0, and finally 3.</span>\n"
   ]
  },
  {
   "cell_type": "markdown",
   "id": "62b0c4be-5482-4b81-b6ed-dc7fc27c5d22",
   "metadata": {},
   "source": [
    "\n",
    "<br>\n",
    "\n",
    "<span style=\"color: red; font-size: 1rem;\">**lexsort( )**</span>\n",
    "\n",
    "<br>\n",
    "\n",
    "<div style=\"margin-left: 40px; color: #a245ff;\">\n",
    "    \n",
    "<code>np.lexsort()</code> is used to perform an indirect stable sort using <strong>multiple keys (or columns)</strong>, especially useful for structured or multi-dimensional data.\n",
    "\n",
    "It sorts data in a <strong>lexicographical manner</strong>, which means <u>it first sorts using the last key, then the second-to-last key, and so on</u>.\n",
    "\n",
    "It is <strong>specifically designed for sorting based on multiple criteria (arrays)</strong>. &nbsp;It allows you to sort by one array while breaking ties by looking at additional arrays. Typically used for <strong>Column wise sorting</strong>.\n",
    "\n",
    "</div>"
   ]
  },
  {
   "cell_type": "code",
   "execution_count": 259,
   "id": "927e45aa-2883-488e-a517-7381f52c9482",
   "metadata": {},
   "outputs": [
    {
     "name": "stdout",
     "output_type": "stream",
     "text": [
      "[3 2 0 1]\n"
     ]
    }
   ],
   "source": [
    "\n",
    "# Two arrays that we want to sort by\n",
    "names = np.array(['Bob', 'Alice', 'Eve', 'Bob'])\n",
    "ages = np.array([25, 30, 22, 22])\n",
    "\n",
    "# Perform lexsort using the 'ages' array as the primary key and 'names' as the secondary key\n",
    "sorted_indices = np.lexsort((names, ages))\n",
    "print(sorted_indices)                                   # Output: [3 2 0 1]\n"
   ]
  },
  {
   "cell_type": "markdown",
   "id": "b0906a8f-3270-4096-a574-44f0501eaf6c",
   "metadata": {},
   "source": [
    "<br>\n",
    "\n",
    "<span style=\"color: #a245ff;\"> The output &nbsp;<code>[2, 3, 0, 1]</code>&nbsp; indicates that the sorting happened by ages first, and for equal ages, it sorted by names.</span>\n",
    "\n",
    "<br>\n",
    "\n",
    "<span style=\"color: red; font-size: 1rem;\">**where( )**</span>\n",
    "\n",
    "\n",
    "<code>numpy.<span style=\"color: red;\">where</span>(condition)</code> &nbsp;:&nbsp;&nbsp; Returns the indices where the condition is True.\n",
    "\n",
    "<code>numpy.<span style=\"color: red;\">where</span>(condition, x, y)</code> &nbsp;:&nbsp;&nbsp; Returns an array where elements are chosen from x if the condition is True, otherwise from y.\n",
    "\n"
   ]
  },
  {
   "cell_type": "code",
   "execution_count": 17,
   "id": "077a4795-fdac-43a4-af4c-dcf2c168987a",
   "metadata": {},
   "outputs": [
    {
     "name": "stdout",
     "output_type": "stream",
     "text": [
      "(array([3, 4], dtype=int64),)\n"
     ]
    }
   ],
   "source": [
    "\n",
    "arr = np.array([10, 15, 20, 25, 30])\n",
    "\n",
    "# Find indices where the elements are greater than 20\n",
    "indices = np.where(arr > 20)\n",
    "print(indices)\n"
   ]
  },
  {
   "cell_type": "code",
   "execution_count": 18,
   "id": "97ccc71d-1ec1-4ab1-9031-e938cb590aa9",
   "metadata": {},
   "outputs": [
    {
     "name": "stdout",
     "output_type": "stream",
     "text": [
      "[0 0 0 1 1]\n"
     ]
    }
   ],
   "source": [
    "\n",
    "# Replace values greater than 20 with 1, and others with 0\n",
    "result = np.where(arr > 20, 1, 0)\n",
    "print(result)\n"
   ]
  },
  {
   "cell_type": "code",
   "execution_count": 21,
   "id": "b7bc5a32-e9cf-445b-9340-8bbdd4b72789",
   "metadata": {},
   "outputs": [
    {
     "name": "stdout",
     "output_type": "stream",
     "text": [
      "(array([1, 2, 2, 2], dtype=int64), array([2, 0, 1, 2], dtype=int64))\n"
     ]
    }
   ],
   "source": [
    "\n",
    "arr = np.array([[1, 2, 3], [4, 5, 6], [7, 8, 9]])                 # Multi-Dimensional Array\n",
    "\n",
    "# Find the indices where the elements are greater than 5\n",
    "indices = np.where(arr > 5)\n",
    "print(indices)                                                    # OUTPUT: (array([1, 2, 2, 2], dtype=int64), array([2, 0, 1, 2], dtype=int64))\n",
    "                                                                  # resultant coordinates = (1,2) , (2,0) , (2,1) , (2,2) \n"
   ]
  },
  {
   "cell_type": "code",
   "execution_count": 23,
   "id": "21a13be5-9219-467c-be7a-7f7cdc20c419",
   "metadata": {},
   "outputs": [
    {
     "name": "stdout",
     "output_type": "stream",
     "text": [
      "[3 0 5 0 7]\n"
     ]
    }
   ],
   "source": [
    "\n",
    "# Filter and Replace\n",
    "\n",
    "arr = np.array([3, -1, 5, -2, 7])\n",
    "\n",
    "# Replace negative values with 0\n",
    "modified_arr = np.where(arr < 0, 0, arr)       # All negative values (-1 and -2) are replaced with 0, while the other values remain unchanged.\n",
    "print(modified_arr)\n"
   ]
  },
  {
   "cell_type": "code",
   "execution_count": 24,
   "id": "19bc0f3a-594a-461e-8766-58085f5c2c33",
   "metadata": {},
   "outputs": [
    {
     "name": "stdout",
     "output_type": "stream",
     "text": [
      "[45.         63.33333333 56.         63.33333333 89.        ]\n"
     ]
    }
   ],
   "source": [
    "\n",
    "# Real world use case in data cleaning\n",
    "\n",
    "data = np.array([45, np.nan, 56, np.nan, 89])\n",
    "\n",
    "# Replace NaN values with the mean of the data\n",
    "mean_value = np.nanmean(data)\n",
    "clean_data = np.where(np.isnan(data), mean_value, data)\n",
    "print(clean_data)\n"
   ]
  },
  {
   "cell_type": "markdown",
   "id": "b4708466-11e8-44e5-988e-4abd73262c88",
   "metadata": {},
   "source": [
    "<br>\n",
    "\n",
    "<span style=\"color: red; font-size: 1rem;\">**mean( )**</span>  &nbsp;&nbsp;&nbsp;&&nbsp;&nbsp;&nbsp;<span style=\"color: red; font-size: 1rem;\">**nanmean( )**</span>\n",
    "\n",
    "<code>numpy.<span style=\"color: red;\">mean()</span></code>  ===> does not ignore **NAN**   <br>\n",
    "<code>numpy.<span style=\"color: red;\">nanmean()</span></code>  ===>  ignores **Nan**"
   ]
  },
  {
   "cell_type": "code",
   "execution_count": 26,
   "id": "2904d8c8-5bb1-4895-ae5f-82c965b2ec50",
   "metadata": {},
   "outputs": [
    {
     "data": {
      "text/plain": [
       "nan"
      ]
     },
     "execution_count": 26,
     "metadata": {},
     "output_type": "execute_result"
    }
   ],
   "source": [
    "\n",
    "# Array with a NaN value\n",
    "arr = np.array([1, 2, np.nan, 4])\n",
    "\n",
    "# Calculate the mean\n",
    "mean_value = np.mean(arr)\n",
    "\n",
    "mean_value\n"
   ]
  },
  {
   "cell_type": "code",
   "execution_count": 28,
   "id": "d53d517c-a458-4238-8681-2bf5c99b5159",
   "metadata": {},
   "outputs": [
    {
     "data": {
      "text/plain": [
       "2.3333333333333335"
      ]
     },
     "execution_count": 28,
     "metadata": {},
     "output_type": "execute_result"
    }
   ],
   "source": [
    "\n",
    "# Array with a NaN value\n",
    "arr = np.array([1, 2, np.nan, 4])\n",
    "\n",
    "# Calculate the mean, ignoring NaN values\n",
    "nanmean_value = np.nanmean(arr)\n",
    "\n",
    "nanmean_value\n"
   ]
  },
  {
   "cell_type": "markdown",
   "id": "faa3ad99-7315-49c4-8f84-c570052907c5",
   "metadata": {},
   "source": [
    "\n",
    "<br>\n",
    "\n",
    "<span style=\"color: red; font-size: 1rem;\">**prod( )**</span>\n",
    "\n",
    "<code>numpy.<span style=\"color: red;\">prod()</span></code> is a function in NumPy that calculates the product of array elements over a specified axis. &nbsp;It multiplies all the elements in the array together, and if no axis is specified, it computes the product of all elements in the array."
   ]
  },
  {
   "cell_type": "code",
   "execution_count": 31,
   "id": "6036a5da-02c5-44e5-930e-662261d5e87d",
   "metadata": {},
   "outputs": [
    {
     "name": "stdout",
     "output_type": "stream",
     "text": [
      "24\n"
     ]
    }
   ],
   "source": [
    "\n",
    "arr = np.array([1, 2, 3, 4])      # no axis mentioned\n",
    "product = np.prod(arr)\n",
    "print(product)\n"
   ]
  },
  {
   "cell_type": "code",
   "execution_count": 34,
   "id": "0e231adf-2d82-46be-a5fa-22c03776a561",
   "metadata": {},
   "outputs": [
    {
     "name": "stdout",
     "output_type": "stream",
     "text": [
      "[ 4 10 18]\n",
      "[  6 120]\n"
     ]
    }
   ],
   "source": [
    "\n",
    "arr = np.array([[1, 2, 3], [4, 5, 6]])\n",
    "\n",
    "# Product along axis 0 (columns)\n",
    "product_axis_0 = np.prod(arr, axis=0)\n",
    "print(product_axis_0)                                # OUTPUT: [ 4 10 18]\n",
    "\n",
    "# Product along axis 1 (rows)\n",
    "product_axis_1 = np.prod(arr, axis=1)\n",
    "print(product_axis_1)                                # OUTPUT: [  6 120]\n"
   ]
  },
  {
   "cell_type": "code",
   "execution_count": 53,
   "id": "d01d2251-e936-458f-9433-931bdd7e4b8a",
   "metadata": {},
   "outputs": [
    {
     "name": "stdout",
     "output_type": "stream",
     "text": [
      "6\n"
     ]
    }
   ],
   "source": [
    "import numpy as np\n",
    "\n",
    "arr = np.array([1, 2, 3])\n",
    "\n",
    "# Using \".prod()\" reduces redundancy and accelerates functional operation.\n",
    "result = arr.prod()\n",
    "print(result)\n"
   ]
  },
  {
   "cell_type": "code",
   "execution_count": 35,
   "id": "7ffdab18-63b7-4394-a049-d11c545e36a5",
   "metadata": {},
   "outputs": [
    {
     "name": "stdout",
     "output_type": "stream",
     "text": [
      "[[  6]\n",
      " [120]]\n"
     ]
    }
   ],
   "source": [
    "\n",
    "arr = np.array([[1, 2, 3], [4, 5, 6]])\n",
    "\n",
    "# Product along axis 1 with keepdims=True\n",
    "product_keepdims = np.prod(arr, axis=1, keepdims=True)\n",
    "print(product_keepdims)\n"
   ]
  },
  {
   "cell_type": "code",
   "execution_count": 37,
   "id": "50ecbdac-cdae-4ddf-841d-994b6211432f",
   "metadata": {},
   "outputs": [
    {
     "name": "stdout",
     "output_type": "stream",
     "text": [
      "0.684\n"
     ]
    }
   ],
   "source": [
    "\n",
    "# REAL WORLD SCENARIO\n",
    "\n",
    "probabilities = np.array([0.9, 0.8, 0.95])\n",
    "\n",
    "# Calculate the overall probability\n",
    "overall_probability = np.prod(probabilities)\n",
    "print(overall_probability)\n"
   ]
  },
  {
   "cell_type": "markdown",
   "id": "05efc48a-8a63-4e51-a696-44f5d4ab78d2",
   "metadata": {},
   "source": [
    "<br>\n",
    "\n",
    "<span style=\"color: red; font-size: 1rem;\">**transpose( )**</span>"
   ]
  },
  {
   "cell_type": "code",
   "execution_count": 38,
   "id": "b30e2dc9-2cba-4806-a5b7-ed755774ccb9",
   "metadata": {},
   "outputs": [
    {
     "name": "stdout",
     "output_type": "stream",
     "text": [
      "[[1 4]\n",
      " [2 5]\n",
      " [3 6]]\n"
     ]
    }
   ],
   "source": [
    "\n",
    "# Original 2D array (matrix)\n",
    "arr = np.array([[1, 2, 3], \n",
    "                [4, 5, 6]])\n",
    "\n",
    "# Transpose the array\n",
    "transposed_arr = np.transpose(arr)\n",
    "print(transposed_arr)\n"
   ]
  },
  {
   "cell_type": "code",
   "execution_count": 48,
   "id": "2eb89dd3-a15a-49c1-8644-f1850a34383e",
   "metadata": {},
   "outputs": [
    {
     "name": "stdout",
     "output_type": "stream",
     "text": [
      "[[[ 1  2  3]\n",
      "  [ 7  8  9]]\n",
      "\n",
      " [[ 4  5  6]\n",
      "  [10 11 12]]]\n"
     ]
    }
   ],
   "source": [
    "\n",
    "# 3D array\n",
    "arr = np.array([[[1, 2, 3], \n",
    "                 [4, 5, 6]],\n",
    "\n",
    "                [[7, 8, 9], \n",
    "                 [10, 11, 12]]])                         # print(arr.shape)  = (2 , 2, 3)  =  (depth, rows, columns)\n",
    "\n",
    "\n",
    "# Transpose the array with specified axes\n",
    "transposed_arr = np.transpose(arr, axes=(1, 0, 2))       # axes are rearranged from the original order (0, 1, 2) to (1, 0, 2)  --->   depth <====> rows\n",
    "print(transposed_arr)\n"
   ]
  },
  {
   "cell_type": "markdown",
   "id": "245c848c-b992-47d2-aa71-0ef8227b34a3",
   "metadata": {},
   "source": [
    "\n",
    "<br>\n",
    "\n",
    "<span style=\"color: #a245ff;\">The <code style=\"color: red;\"> .T </code> attribute is a shorthand method for transposing only **2D** arrays.</span>"
   ]
  },
  {
   "cell_type": "code",
   "execution_count": 49,
   "id": "560a77d9-31f8-4d54-a0e7-84411b387cef",
   "metadata": {},
   "outputs": [
    {
     "name": "stdout",
     "output_type": "stream",
     "text": [
      "[[1 4]\n",
      " [2 5]\n",
      " [3 6]]\n"
     ]
    }
   ],
   "source": [
    "\n",
    "# Transpose a matrix using the .T attribute\n",
    "matrix = np.array([[1, 2, 3], \n",
    "                   [4, 5, 6]])\n",
    "\n",
    "transposed_matrix = matrix.T\n",
    "print(transposed_matrix)\n"
   ]
  },
  {
   "cell_type": "code",
   "execution_count": 52,
   "id": "e322a7b4-08ba-425c-b9f3-a56cde33e3e1",
   "metadata": {},
   "outputs": [
    {
     "name": "stdout",
     "output_type": "stream",
     "text": [
      "[[[ 1  7]\n",
      "  [ 4 10]]\n",
      "\n",
      " [[ 2  8]\n",
      "  [ 5 11]]\n",
      "\n",
      " [[ 3  9]\n",
      "  [ 6 12]]]\n"
     ]
    }
   ],
   "source": [
    "\n",
    "# Transpose a matrix using the .T attribute\n",
    "matrix = np.array([[[1, 2, 3], \n",
    "                 [4, 5, 6]],\n",
    "\n",
    "                [[7, 8, 9], \n",
    "                 [10, 11, 12]]])\n",
    "\n",
    "transposed_matrix = matrix.T\n",
    "print(transposed_matrix)\n"
   ]
  },
  {
   "cell_type": "markdown",
   "id": "9eae406d-1b4a-4928-98c8-c905f2fb2d29",
   "metadata": {},
   "source": [
    "<br>\n",
    "\n",
    "<span style=\"color: red; font-size: 1rem;\">**unique( )**</span>"
   ]
  },
  {
   "cell_type": "code",
   "execution_count": 63,
   "id": "1c14b6b9-2f29-4575-aef9-f67e87bb3c1f",
   "metadata": {},
   "outputs": [
    {
     "name": "stdout",
     "output_type": "stream",
     "text": [
      "[1 2 3]\n"
     ]
    }
   ],
   "source": [
    "\n",
    "arr = np.array([1 , 2, 3, 1])        # 1D array\n",
    "\n",
    "# Accessing unique elements via ufunc \"np.unique\" is more streamlined and quicker.\n",
    "unique_elements = np.unique(arr)\n",
    "print(unique_elements)\n"
   ]
  },
  {
   "cell_type": "code",
   "execution_count": 62,
   "id": "976e7dfc-c2a2-4b61-bc1b-2c0a821c6186",
   "metadata": {},
   "outputs": [
    {
     "name": "stdout",
     "output_type": "stream",
     "text": [
      "[1 3 4 5]\n"
     ]
    }
   ],
   "source": [
    "\n",
    "arr = np.array([[1, 5, 3], \n",
    "                [4, 5, 5]])          # 2D array\n",
    "\n",
    "# Accessing unique elements via ufunc \"np.unique\" is more streamlined and quicker.\n",
    "unique_elements = np.unique(arr)\n",
    "print(unique_elements)\n"
   ]
  },
  {
   "cell_type": "markdown",
   "id": "51b9699f-2f04-4efb-a1be-773c92e7b043",
   "metadata": {},
   "source": [
    "\n",
    "<br>\n",
    "\n",
    "<span style=\"color: red; font-size: 1rem;\">**var( )**</span>\n",
    "\n",
    "<span style=\"color: #a245ff;\">To calculate the variance of the elements in an array</span>  <br>\n",
    "\n",
    "<span style=\"color: #a245ff;\"><strong>Variance</strong> is a statistical measure that represents how much the values in a dataset differ from the mean (average) of the dataset. It measures the spread of data points around the mean.</span>\n",
    "\n",
    "<u>Population Variance</u> &nbsp;&nbsp;:&nbsp;&nbsp; <span style=\"color: #a245ff;\">Divides by <code>𝑁</code> (the number of elements).</span>\n",
    "\n",
    "<u>Sample Variance</u> &nbsp;&nbsp;&nbsp;&nbsp;&nbsp;&nbsp;&nbsp;&nbsp;:&nbsp;&nbsp; <span style=\"color: #a245ff;\">Divides by <code>N−1</code> to account for the fact that the data is a sample.</span>\n",
    "\n"
   ]
  },
  {
   "cell_type": "code",
   "execution_count": 67,
   "id": "d2d286b8-9636-48ec-b4af-c980d971421a",
   "metadata": {},
   "outputs": [
    {
     "name": "stdout",
     "output_type": "stream",
     "text": [
      "2.0\n"
     ]
    }
   ],
   "source": [
    "\n",
    "data = np.array([1, 2, 3, 4, 5])\n",
    "\n",
    "# Calculate the variance of the array\n",
    "variance = np.var(data)\n",
    "print(variance)\n"
   ]
  },
  {
   "cell_type": "code",
   "execution_count": 66,
   "id": "18d6ddbd-a3df-4047-b6ec-b900bc4f0a74",
   "metadata": {},
   "outputs": [
    {
     "name": "stdout",
     "output_type": "stream",
     "text": [
      "[2.25 2.25 2.25]\n",
      "[0.66666667 0.66666667]\n"
     ]
    }
   ],
   "source": [
    "\n",
    "data = np.array([[1, 2, 3], \n",
    "                 [4, 5, 6]])\n",
    "\n",
    "# Variance along axis 0 (columns)\n",
    "variance_axis_0 = np.var(data, axis=0)\n",
    "print(variance_axis_0)\n",
    "\n",
    "# Variance along axis 1 (rows)\n",
    "variance_axis_1 = np.var(data, axis=1)\n",
    "print(variance_axis_1)\n"
   ]
  },
  {
   "cell_type": "markdown",
   "id": "efeb8884-bbc9-46de-8bcb-d73b7674fd30",
   "metadata": {},
   "source": [
    "<br>\n",
    "\n",
    "<span style=\"color: #a245ff;\">Let's calculate the variance of daily stock returns to assess their volatility.</span>"
   ]
  },
  {
   "cell_type": "code",
   "execution_count": 69,
   "id": "2df1d01c-9cd8-40fb-b147-1dd02bab938b",
   "metadata": {},
   "outputs": [
    {
     "name": "stdout",
     "output_type": "stream",
     "text": [
      "0.000664\n"
     ]
    }
   ],
   "source": [
    "\n",
    "# Daily stock returns as a NumPy array\n",
    "stock_returns = np.array([0.02, -0.01, 0.03, 0.05, -0.02])\n",
    "\n",
    "# Calculate the variance of the stock returns\n",
    "volatility = np.var(stock_returns)\n",
    "print(volatility)\n"
   ]
  },
  {
   "cell_type": "markdown",
   "id": "0d24b652-c5b7-4432-b428-d0407d3fcd92",
   "metadata": {},
   "source": [
    "<br>\n",
    "\n",
    "<span style=\"color: red; font-size: 1rem;\">**nonzero( )**</span>  &nbsp;&nbsp;&nbsp;<span style=\"color: #a245ff;\">===>&nbsp;&nbsp;  Return the indices that are nonzero.</span>"
   ]
  },
  {
   "cell_type": "code",
   "execution_count": 70,
   "id": "ca0a485a-4c7b-45a1-8c41-b4ee39181cca",
   "metadata": {},
   "outputs": [
    {
     "data": {
      "text/plain": [
       "array([[3, 0, 0],\n",
       "       [0, 4, 0],\n",
       "       [5, 6, 0]])"
      ]
     },
     "execution_count": 70,
     "metadata": {},
     "output_type": "execute_result"
    }
   ],
   "source": [
    "\n",
    "x = np.array([[3, 0, 0], [0, 4, 0], [5, 6, 0]])\n",
    "\n",
    "x\n"
   ]
  },
  {
   "cell_type": "markdown",
   "id": "e51661a8-ceeb-4614-b404-f4ce275c4bef",
   "metadata": {},
   "source": [
    "<br>\n",
    "\n",
    "<span style=\"color: #a245ff;\">A common use for <span style=\"color: red;\">nonzero</span> is <u>to find the indices of an array, where a condition is **True**</u>.</span>"
   ]
  },
  {
   "cell_type": "code",
   "execution_count": 73,
   "id": "8928af8a-8ae8-4bcf-bf3b-ff3a32da05af",
   "metadata": {},
   "outputs": [
    {
     "data": {
      "text/plain": [
       "array([[False, False, False],\n",
       "       [ True,  True,  True],\n",
       "       [ True,  True,  True]])"
      ]
     },
     "execution_count": 73,
     "metadata": {},
     "output_type": "execute_result"
    }
   ],
   "source": [
    "\n",
    "a = np.array([[1, 2, 3], [4, 5, 6], [7, 8, 9]])\n",
    "\n",
    "a > 3\n"
   ]
  },
  {
   "cell_type": "code",
   "execution_count": 75,
   "id": "6b96013d-1b81-4fbf-ad59-1599dd8a1951",
   "metadata": {},
   "outputs": [
    {
     "data": {
      "text/plain": [
       "(array([1, 1, 1, 2, 2, 2], dtype=int64),\n",
       " array([0, 1, 2, 0, 1, 2], dtype=int64))"
      ]
     },
     "execution_count": 75,
     "metadata": {},
     "output_type": "execute_result"
    }
   ],
   "source": [
    "\n",
    "np.nonzero(a > 3)                   # (1,0) , (1,1) , (1,2) , (2,0) , (2,1) , (2,2)\n"
   ]
  },
  {
   "cell_type": "code",
   "execution_count": 76,
   "id": "438f0655-5b90-46b2-a6a6-10aab9640ae7",
   "metadata": {},
   "outputs": [
    {
     "data": {
      "text/plain": [
       "array([4, 5, 6, 7, 8, 9])"
      ]
     },
     "execution_count": 76,
     "metadata": {},
     "output_type": "execute_result"
    }
   ],
   "source": [
    "\n",
    "a[np.nonzero(a > 3)]\n"
   ]
  },
  {
   "cell_type": "code",
   "execution_count": 77,
   "id": "740262ed-1cee-432d-83b3-db2bdf29b5f7",
   "metadata": {},
   "outputs": [
    {
     "data": {
      "text/plain": [
       "(array([1, 1, 1, 2, 2, 2], dtype=int64),\n",
       " array([0, 1, 2, 0, 1, 2], dtype=int64))"
      ]
     },
     "execution_count": 77,
     "metadata": {},
     "output_type": "execute_result"
    }
   ],
   "source": [
    "\n",
    "(a > 3).nonzero()\n"
   ]
  },
  {
   "cell_type": "markdown",
   "id": "768fdbd2-4fc8-4445-96bd-1901b751e734",
   "metadata": {},
   "source": [
    "\n",
    "<br>\n",
    "\n",
    "<span style=\"color: #06fff0; font-size: 0.7rem;\">■■■■■■■■■■■■■■■■■■■■■■■■■■■■■■■■■■■■■■■■■■■■■■■■■■■■■■■■■■■■■■■■■■■■■■■■■■■■■■■■■■■■■■■■■■■■■■■■■■■■■■■■■■■■■■■</span>\n",
    "\n",
    "<br>\n",
    "\n",
    "**Indexing, slicing and iterating**\n",
    "\n",
    "<span style=\"color: red; font-size: 1rem;\"><u> **&nbsp;indexing&nbsp;** </u></span>"
   ]
  },
  {
   "cell_type": "code",
   "execution_count": 84,
   "id": "20057882-42b6-449d-be9f-91c05aaac1cc",
   "metadata": {},
   "outputs": [
    {
     "name": "stdout",
     "output_type": "stream",
     "text": [
      "10\n",
      "40\n",
      "50\n",
      "30\n"
     ]
    }
   ],
   "source": [
    "\n",
    "# 1D array indexing\n",
    "\n",
    "arr = np.array([10, 20, 30, 40, 50])\n",
    "\n",
    "# POSITIVE INDEXING   -------------------------------------------------->   starts from 0\n",
    "print(arr[0])                             # OUTPUT: 10\n",
    "print(arr[3])                             # OUTPUT: 40\n",
    "\n",
    "# NEGATIVE INDEXING   -------------------------------------------------->   starts from the end, with -1 being the last element\n",
    "print(arr[-1])                            # OUTPUT: 50\n",
    "print(arr[-3])                            # OUTPUT: 30\n"
   ]
  },
  {
   "cell_type": "code",
   "execution_count": 85,
   "id": "0742888e-41c3-4558-b5c1-e7c357250464",
   "metadata": {},
   "outputs": [
    {
     "name": "stdout",
     "output_type": "stream",
     "text": [
      "6\n",
      "9\n"
     ]
    }
   ],
   "source": [
    "\n",
    "# 2D array indexing\n",
    "\n",
    "arr_2d = np.array([[1, 2, 3], [4, 5, 6], [7, 8, 9]])\n",
    "\n",
    "print(arr_2d[1, 2])                                           # OUTPUT: 6 (row 1, column 2)\n",
    "print(arr_2d[2, -1])                                          # OUTPUT: 9 (row 2, last column)\n"
   ]
  },
  {
   "cell_type": "markdown",
   "id": "4171b998-95e8-4125-81b7-5b27585081b3",
   "metadata": {},
   "source": [
    "<br>\n",
    "\n",
    "<span style=\"color: red;\">fancy indexing</span> &nbsp;&nbsp;====>&nbsp;&nbsp; <code>array1[array2]</code>"
   ]
  },
  {
   "cell_type": "code",
   "execution_count": 54,
   "id": "fc5e7360-9cd4-486a-bdf2-834b70bb2d61",
   "metadata": {},
   "outputs": [
    {
     "name": "stdout",
     "output_type": "stream",
     "text": [
      "arr           =  [1 2 3 4 5 6 7 8 9]\n",
      "indices       =  [2, 3, 4]\n",
      "arr[indices]  =  [3 4 5]\n"
     ]
    }
   ],
   "source": [
    "\n",
    "arr = np.arange(1,10)\n",
    "print(\"arr           = \", arr)\n",
    "\n",
    "indices = [2,3,4]\n",
    "print(\"indices       = \", indices)\n",
    "\n",
    "print(\"arr[indices]  = \", arr[indices])      # array1[array2]\n"
   ]
  },
  {
   "cell_type": "code",
   "execution_count": 57,
   "id": "5bc298b1-d64b-4d93-b0e2-bc97082d0adc",
   "metadata": {},
   "outputs": [
    {
     "data": {
      "text/plain": [
       "array([3, 6, 9])"
      ]
     },
     "execution_count": 57,
     "metadata": {},
     "output_type": "execute_result"
    }
   ],
   "source": [
    "\n",
    "arr[[2,5,8]]                                 # array1[array2]\n"
   ]
  },
  {
   "cell_type": "markdown",
   "id": "0c77308e-142c-42d8-a37b-2b7cf1c78128",
   "metadata": {},
   "source": [
    "<br>\n",
    "\n",
    "<span style=\"color: red;\">boolean indexing</span> &nbsp;&nbsp;====>&nbsp;&nbsp; <code>array1[<span style=\"color: blue;\">booleanarray</span>]</code>"
   ]
  },
  {
   "cell_type": "code",
   "execution_count": 60,
   "id": "1a49d86e-a2df-4c93-86f2-29d9333bb821",
   "metadata": {},
   "outputs": [
    {
     "name": "stdout",
     "output_type": "stream",
     "text": [
      "[1 2]\n"
     ]
    }
   ],
   "source": [
    "\n",
    "a = np.array([1, 2, 3])\n",
    "b = np.array([True, True, False])\n",
    "c = a[b]\n",
    "print(c)\n"
   ]
  },
  {
   "cell_type": "markdown",
   "id": "44c80549-bd8a-4c19-80d9-e0a9822fcc8d",
   "metadata": {},
   "source": [
    "<br>\n",
    "\n",
    "<span style=\"color: #a245ff;\">Typically, you’ll use boolean indexing <u>to filter an array</u>. For example :</span>"
   ]
  },
  {
   "cell_type": "code",
   "execution_count": 64,
   "id": "5ecee986-3e09-42e8-93b0-47af9c4341f8",
   "metadata": {},
   "outputs": [
    {
     "name": "stdout",
     "output_type": "stream",
     "text": [
      "[False False False False False  True  True  True  True]\n",
      "[6 7 8 9]\n"
     ]
    }
   ],
   "source": [
    "\n",
    "a = np.arange(1, 10)            # [  1      2      3      4      5      6     7     8     9 ]\n",
    "b = a > 5\n",
    "print(b)                        # [False  False  False  False  False  True  True  True  True]\n",
    "\n",
    "c = a[b]\n",
    "print(c)                        #                                     [ 6     7     8     9]\n"
   ]
  },
  {
   "cell_type": "markdown",
   "id": "39569409-8535-4169-8eff-1202402bf525",
   "metadata": {},
   "source": [
    "<br>\n",
    "\n",
    "<span style=\"color: red; font-size: 1rem;\"><u> **&nbsp;slicing&nbsp;** </u></span>\n",
    "\n",
    "<code style=\"background-color: yellow;\">start:stop:step</code>\n",
    "\n",
    "<span style=\"color: blue;\">===> &nbsp;1D &nbsp;slicing</span> &nbsp;&nbsp;===>&nbsp;&nbsp;Use &nbsp;<code style=\"color: red;\">a[m:n:p]</code>&nbsp; to slice **one-dimensional** arrays."
   ]
  },
  {
   "cell_type": "code",
   "execution_count": 36,
   "id": "7c36ac75-252e-459d-84be-2cdfe05d1385",
   "metadata": {},
   "outputs": [
    {
     "name": "stdout",
     "output_type": "stream",
     "text": [
      "[20 30 40]\n",
      "[10 30 50]\n",
      "[10 20 30]\n",
      "[30 40 50 60 70]\n",
      "[50 60 70]\n",
      "[50 40 30]\n",
      "[]\n",
      "[]\n",
      "[50 40 30 20 10]\n"
     ]
    }
   ],
   "source": [
    "\n",
    "# 1D Slicing\n",
    "\n",
    "arr = np.array([10, 20, 30, 40, 50, 60, 70])\n",
    "\n",
    "# Slice elements from index 1 to 4 (excluding index 4)\n",
    "print(arr[1:4])                                             # OUTPUT: [20 30 40]\n",
    "\n",
    "# Slice elements with a step of 2\n",
    "print(arr[0:6:2])                                           # OUTPUT: [10 30 50]\n",
    "\n",
    "# Slice from the start to index 3\n",
    "print(arr[:3])                                              # OUTPUT: [10 20 30]\n",
    "\n",
    "# Slice from index 2 to the end\n",
    "print(arr[2:])                                              # OUTPUT: [30 40 50 60 70]\n",
    "\n",
    "# Negative scling\n",
    "print(arr[-3:])                                             # OUTPUT: [50 60 70]\n",
    "\n",
    "# Negative slicing\n",
    "print(arr[-3:-6:-1])                                        # OUTPUT: [50 40 30]\n",
    "\n",
    "# Negative slicing\n",
    "print(arr[-6:-3:-1])                                        # OUTPUT: []\n",
    "\n",
    "# Negative slicing\n",
    "print(arr[-8:-3:-1])                                        # OUTPUT: []\n",
    "\n",
    "# Negative slicing\n",
    "print(arr[-3::-1])                                          # OUTPUT: [50 40 30 20 10]\n"
   ]
  },
  {
   "cell_type": "markdown",
   "id": "9c95a5a3-efb8-4488-9550-692b080290db",
   "metadata": {},
   "source": [
    "<br>\n",
    "\n",
    "<span style=\"color: blue;\">===> &nbsp;2D &nbsp;slicing</span> &nbsp;&nbsp;===>&nbsp;&nbsp;Use &nbsp;<code style=\"color: red;\">a[m:n, i:j, ...]</code>&nbsp; to slice **2D** arrays.\n"
   ]
  },
  {
   "cell_type": "code",
   "execution_count": 41,
   "id": "05869ec6-15ec-4090-b023-6d20db1c1d4a",
   "metadata": {},
   "outputs": [
    {
     "data": {
      "text/plain": [
       "array([[ 1,  2,  3,  4],\n",
       "       [ 5,  6,  7,  8],\n",
       "       [ 9, 10, 11, 12]])"
      ]
     },
     "execution_count": 41,
     "metadata": {},
     "output_type": "execute_result"
    }
   ],
   "source": [
    "\n",
    "# 2D Slicing\n",
    "\n",
    "arr_2d = np.array([[1, 2, 3, 4], [5, 6, 7, 8], [9, 10, 11, 12]])\n",
    "\n",
    "arr_2d\n"
   ]
  },
  {
   "cell_type": "code",
   "execution_count": 42,
   "id": "40524340-c2f7-43ca-b64a-17e806418618",
   "metadata": {},
   "outputs": [
    {
     "name": "stdout",
     "output_type": "stream",
     "text": [
      "[[2 3]\n",
      " [6 7]]\n",
      "\n",
      "\n",
      "[[ 1  2]\n",
      " [ 5  6]\n",
      " [ 9 10]]\n",
      "\n",
      "\n",
      "[11 12]\n"
     ]
    }
   ],
   "source": [
    "\n",
    "# Slice rows from index 0 to 2 (excluding 2) and columns from index 1 to 3 (excluding 3)\n",
    "print(arr_2d[0:2, 1:3])                                                                       # OUTPUT: [[2 3] [6 7]]\n",
    "\n",
    "print(\"\\n\")\n",
    "\n",
    "# Slice all rows and the first two columns\n",
    "print(arr_2d[:, :2])                                                                          # OUTPUT: [[1 2] [5 6] [9 10]]\n",
    "\n",
    "print(\"\\n\")\n",
    "\n",
    "# Slice the last row and last two columns\n",
    "print(arr_2d[-1, -2:])                                                                        # OUTPUT: [11 12]\n"
   ]
  },
  {
   "cell_type": "code",
   "execution_count": 44,
   "id": "32b411df-dcad-47cb-9c84-e8635f32db98",
   "metadata": {},
   "outputs": [
    {
     "name": "stdout",
     "output_type": "stream",
     "text": [
      "[[1 2 3]\n",
      " [4 5 6]]\n"
     ]
    }
   ],
   "source": [
    "\n",
    "a = np.array([\n",
    "    [1, 2, 3],\n",
    "    [4, 5, 6],\n",
    "    [7, 8, 9]\n",
    "])\n",
    "\n",
    "print(a[0:2, :])          # Slice rows from index 0 to 2 (excluding 2) and columns from index 0 to the last index\n"
   ]
  },
  {
   "cell_type": "code",
   "execution_count": 46,
   "id": "d62fd0ed-e922-4a4b-9995-2bf7a8cd705f",
   "metadata": {},
   "outputs": [
    {
     "name": "stdout",
     "output_type": "stream",
     "text": [
      "[[5 6]\n",
      " [8 9]]\n"
     ]
    }
   ],
   "source": [
    "\n",
    "a = np.array([\n",
    "    [1, 2, 3],\n",
    "    [4, 5, 6],\n",
    "    [7, 8, 9]\n",
    "])\n",
    "\n",
    "print(a[1:, 1:])          # Slice rows from index 1 to the last index and columns from the index 1 to the last index\n"
   ]
  },
  {
   "cell_type": "markdown",
   "id": "e57d703b-29a7-49b4-b586-b23c3a4321f2",
   "metadata": {},
   "source": [
    "<br>\n",
    "\n",
    "<span>Use &nbsp;<code style=\"color: red;\">a[m:n:p, i:j:k, ...]</code> to slice **multidimensional** arrays.</span>\n",
    "\n",
    "<br>\n",
    "\n",
    "<code style=\"padding: 10px;\">a[ <code style=\"background-color: yellow; padding:1px;\">start_depth_index : stop_row_index : step</code> , <code style=\"background-color: yellow; padding:1px;\">start_row_index : stop_row_index : step</code> , <code style=\"background-color: yellow; padding:1px;\">start_column_index : stop_column_index : step</code> ]</code>\n",
    "\n",
    "<br>"
   ]
  },
  {
   "cell_type": "markdown",
   "id": "057faf35-1e7a-4c43-978f-6e91280b90a0",
   "metadata": {},
   "source": [
    "<br>\n",
    "\n",
    "<span style=\"color: red; font-size: 1rem;\"><u> **&nbsp;iterating&nbsp;** </u></span>"
   ]
  },
  {
   "cell_type": "code",
   "execution_count": 113,
   "id": "b5983a29-5616-4624-a707-a4bf799eb5c1",
   "metadata": {},
   "outputs": [
    {
     "name": "stdout",
     "output_type": "stream",
     "text": [
      "10\n",
      "20\n",
      "30\n",
      "40\n"
     ]
    }
   ],
   "source": [
    "\n",
    "# Iterating Over 1D Array\n",
    "\n",
    "arr = np.array([10, 20, 30, 40])\n",
    "\n",
    "for element in arr:\n",
    "    print(element)\n"
   ]
  },
  {
   "cell_type": "code",
   "execution_count": 114,
   "id": "4c07a4aa-8698-4ab8-af45-6234b65e2073",
   "metadata": {},
   "outputs": [
    {
     "name": "stdout",
     "output_type": "stream",
     "text": [
      "[1 2 3]\n",
      "[4 5 6]\n"
     ]
    }
   ],
   "source": [
    "\n",
    "# Iterating Over 2D Array\n",
    "\n",
    "arr_2d = np.array([[1, 2, 3], [4, 5, 6]])\n",
    "\n",
    "for row in arr_2d:\n",
    "    print(row)\n"
   ]
  },
  {
   "cell_type": "markdown",
   "id": "b85212bb-2b6c-4eb2-aa01-28cc7c17d134",
   "metadata": {},
   "source": [
    "<br>\n",
    "\n",
    "<span style=\"color: #a245ff;\">To iterate over each element, you can use the <code style=\"color: red;\">flat</code> attribute or nested loops.</span>\n"
   ]
  },
  {
   "cell_type": "code",
   "execution_count": 117,
   "id": "b5774e0d-b438-44df-b78b-622d0d17ff5b",
   "metadata": {},
   "outputs": [
    {
     "name": "stdout",
     "output_type": "stream",
     "text": [
      "1\n",
      "2\n",
      "3\n",
      "4\n",
      "5\n",
      "6\n"
     ]
    }
   ],
   "source": [
    "\n",
    "for element in arr_2d.flat:\n",
    "    print(element)\n"
   ]
  },
  {
   "cell_type": "markdown",
   "id": "b7ad27ff-cd23-4cd3-8bc6-a40b7d0c55e2",
   "metadata": {},
   "source": [
    "<br>\n",
    "\n",
    "<span style=\"color: #a245ff;\"><code>numpy.<span style=\"color: red;\">nditer()</span></code> is an efficient iterator that works with multi-dimensional arrays and can iterate over every element regardless of the array's shape.</span>\n"
   ]
  },
  {
   "cell_type": "code",
   "execution_count": 120,
   "id": "f6500932-89b6-41d7-8bce-b1cc527bd8c7",
   "metadata": {},
   "outputs": [
    {
     "name": "stdout",
     "output_type": "stream",
     "text": [
      "1\n",
      "2\n",
      "3\n",
      "4\n",
      "5\n",
      "6\n"
     ]
    }
   ],
   "source": [
    "\n",
    "for element in np.nditer(arr_2d):\n",
    "    print(element)\n"
   ]
  },
  {
   "cell_type": "markdown",
   "id": "aa3113c5-e3b0-48ba-9f5d-fec25987caf7",
   "metadata": {},
   "source": [
    "<br>\n",
    "\n",
    "<span style=\"color: #a245ff;\">Modifying elements with &nbsp;<code>numpy.<span style=\"color: red;\">nditer()</span></code></span>"
   ]
  },
  {
   "cell_type": "code",
   "execution_count": 122,
   "id": "7bda2740-681b-45be-8610-9686bbd8dbfa",
   "metadata": {},
   "outputs": [
    {
     "name": "stdout",
     "output_type": "stream",
     "text": [
      "[2 4 6 8]\n"
     ]
    }
   ],
   "source": [
    "\n",
    "arr = np.array([1, 2, 3, 4])\n",
    "for x in np.nditer(arr, op_flags=['readwrite']):\n",
    "    x[...] = x * 2\n",
    "print(arr)                                               # OUTPUT: [2 4 6 8]\n"
   ]
  },
  {
   "cell_type": "markdown",
   "id": "61c8d396-62a0-436b-b123-b67a58d36946",
   "metadata": {},
   "source": [
    "\n",
    "<br>\n",
    "\n",
    "<span style=\"color: #06fff0; font-size: 0.7rem;\">■■■■■■■■■■■■■■■■■■■■■■■■■■■■■■■■■■■■■■■■■■■■■■■■■■■■■■■■■■■■■■■■■■■■■■■■■■■■■■■■■■■■■■■■■■■■■■■■■■■■■■■■■■■■■■■</span>\n",
    "\n",
    "<br>\n",
    "\n",
    "**PRACTICE on Indexing, slicing and iterating**\n"
   ]
  },
  {
   "cell_type": "code",
   "execution_count": 124,
   "id": "89819f71-187c-4076-8415-4824b75259d7",
   "metadata": {},
   "outputs": [
    {
     "data": {
      "text/plain": [
       "array([  0,   1,   8,  27,  64, 125, 216, 343, 512, 729], dtype=int32)"
      ]
     },
     "execution_count": 124,
     "metadata": {},
     "output_type": "execute_result"
    }
   ],
   "source": [
    "\n",
    "a = np.arange(10)**3\n",
    "\n",
    "a\n"
   ]
  },
  {
   "cell_type": "code",
   "execution_count": 125,
   "id": "3dbaabe5-7d06-4f77-8794-2c89861801b4",
   "metadata": {},
   "outputs": [
    {
     "data": {
      "text/plain": [
       "8"
      ]
     },
     "execution_count": 125,
     "metadata": {},
     "output_type": "execute_result"
    }
   ],
   "source": [
    "\n",
    "a[2]\n"
   ]
  },
  {
   "cell_type": "code",
   "execution_count": 126,
   "id": "5c64a556-6a0e-4b1a-9605-1afdc405389d",
   "metadata": {},
   "outputs": [
    {
     "data": {
      "text/plain": [
       "array([ 8, 27, 64], dtype=int32)"
      ]
     },
     "execution_count": 126,
     "metadata": {},
     "output_type": "execute_result"
    }
   ],
   "source": [
    "\n",
    "a[2:5]\n"
   ]
  },
  {
   "cell_type": "code",
   "execution_count": 128,
   "id": "8bfee174-9ba9-43cc-8260-b53a3b19ad40",
   "metadata": {},
   "outputs": [
    {
     "data": {
      "text/plain": [
       "array([1000,    1, 1000,   27, 1000,  125,  216,  343,  512,  729],\n",
       "      dtype=int32)"
      ]
     },
     "execution_count": 128,
     "metadata": {},
     "output_type": "execute_result"
    }
   ],
   "source": [
    "\n",
    "# equivalent to a[0:6:2] = 1000;\n",
    "# from start to position 6, exclusive, set every 2nd element to 1000\n",
    "a[:6:2] = 1000\n",
    "\n",
    "a\n"
   ]
  },
  {
   "cell_type": "code",
   "execution_count": 129,
   "id": "d73eae47-bb95-4c38-9011-b5d1236e8507",
   "metadata": {},
   "outputs": [
    {
     "data": {
      "text/plain": [
       "array([ 729,  512,  343,  216,  125, 1000,   27, 1000,    1, 1000],\n",
       "      dtype=int32)"
      ]
     },
     "execution_count": 129,
     "metadata": {},
     "output_type": "execute_result"
    }
   ],
   "source": [
    "\n",
    "a[::-1]              # reversed a\n"
   ]
  },
  {
   "cell_type": "code",
   "execution_count": 130,
   "id": "1b942c32-4ff7-469f-8cd0-000af0774d52",
   "metadata": {},
   "outputs": [
    {
     "name": "stdout",
     "output_type": "stream",
     "text": [
      "9.999999999999998\n",
      "1.0\n",
      "9.999999999999998\n",
      "3.0\n",
      "9.999999999999998\n",
      "5.0\n",
      "5.999999999999999\n",
      "6.999999999999999\n",
      "7.999999999999999\n",
      "8.999999999999998\n"
     ]
    }
   ],
   "source": [
    "\n",
    "for i in a:\n",
    "    print(i**(1 / 3.))\n"
   ]
  },
  {
   "cell_type": "markdown",
   "id": "5b1f1ddc-ced7-4c76-a67e-189737043680",
   "metadata": {},
   "source": [
    "\n",
    "<br>\n",
    "\n",
    "<span style=\"color: #06fff0; font-size: 0.7rem;\">■■■■■■■■■■■■■■■■■■■■■■■■■■■■■■■■■■■■■■■■■■■■■■■■■■■■■■■■■■■■■■■■■■■■■■■■■■■■■■■■■■■■■■■■■■■■■■■■■■■■■■■■■■■■■■■</span>\n",
    "\n",
    "<br>\n",
    "\n",
    "<strong>NumPy</strong> &nbsp;<code style=\"color: red;\">copy()</code>\n",
    "\n",
    "<span style=\"color: #a245ff;\">When you slice an array, you get a subarray. &nbsp;The subarray is a <span style=\"color: red;\">view</span> of the original array. &nbsp;In other words, <span style=\"color: black;\">if you change elements in the subarray, the change will be reflected in the original array</span>. &nbsp;For example :</span>"
   ]
  },
  {
   "cell_type": "code",
   "execution_count": 85,
   "id": "4ccfc728-a16f-4a99-bc7f-0dc19c2ce8c7",
   "metadata": {},
   "outputs": [
    {
     "name": "stdout",
     "output_type": "stream",
     "text": [
      "[[1 2]\n",
      " [4 5]]\n"
     ]
    }
   ],
   "source": [
    "\n",
    "a = np.array([\n",
    "    [1, 2, 3],\n",
    "    [4, 5, 6]\n",
    "])\n",
    "\n",
    "b = a[0:, 0:2]\n",
    "print(b)\n"
   ]
  },
  {
   "cell_type": "code",
   "execution_count": 86,
   "id": "35a38c22-63ee-4edc-81d7-0bfd76b97b92",
   "metadata": {},
   "outputs": [
    {
     "name": "stdout",
     "output_type": "stream",
     "text": [
      "[[0 2]\n",
      " [4 5]]\n",
      "\n",
      "\n",
      "[[0 2 3]\n",
      " [4 5 6]]\n"
     ]
    }
   ],
   "source": [
    "\n",
    "b[0, 0] = 0                   # overwrites  b[0,0]  which  was  earlier  1  but  now  0\n",
    "\n",
    "print(b)                      # the  change  in  the  array  \"b\"  is  rightly  reflected\n",
    "\n",
    "print(\"\\n\")\n",
    "\n",
    "print(a)                      # since  \"b\"  is  a  view  of  array  \"a\",  the  change  is  also  reflected  in  array  \"a\"\n"
   ]
  },
  {
   "cell_type": "markdown",
   "id": "03ad13aa-b1f4-4468-a6b2-554edd968701",
   "metadata": {},
   "source": [
    "<br>\n",
    "\n",
    "<span style=\"color: #a245ff;\">The reason numpy creates a <span style=\"color: black;\">**view**</span> <u>instead of a new array</u> is that <span style=\"color: black;\">it doesn’t have to copy data therefore improving performance</span>.</span>\n",
    "\n",
    "<span style=\"color: #a245ff;\">However, if you want a copy of an array rather than a view, you can use &nbsp;<code style=\"color: red;\">copy()</code> method. For example:</span>\n"
   ]
  },
  {
   "cell_type": "code",
   "execution_count": 96,
   "id": "b82f0d55-1766-4e6b-a989-670ef0750cfa",
   "metadata": {},
   "outputs": [
    {
     "name": "stdout",
     "output_type": "stream",
     "text": [
      "[[1 2]\n",
      " [4 5]]\n"
     ]
    }
   ],
   "source": [
    "\n",
    "a = np.array([\n",
    "    [1, 2, 3],\n",
    "    [4, 5, 6]\n",
    "])\n",
    "\n",
    "# make a copy\n",
    "b = a[0:, 0:2].copy()\n",
    "print(b)\n"
   ]
  },
  {
   "cell_type": "code",
   "execution_count": 97,
   "id": "e69fc26f-6d57-4463-b689-585ee4f5053c",
   "metadata": {},
   "outputs": [
    {
     "name": "stdout",
     "output_type": "stream",
     "text": [
      "[[0 2]\n",
      " [4 5]]\n",
      "\n",
      "\n",
      "[[1 2 3]\n",
      " [4 5 6]]\n"
     ]
    }
   ],
   "source": [
    "\n",
    "b[0, 0] = 0\n",
    "\n",
    "print(b)\n",
    "\n",
    "print(\"\\n\")\n",
    "\n",
    "print(a)               # the array \"a\" will not change now\n"
   ]
  },
  {
   "cell_type": "markdown",
   "id": "3c1bc34c-12b9-4ac3-b456-88d95454bb3f",
   "metadata": {},
   "source": [
    "\n",
    "<br>\n",
    "\n",
    "<span style=\"color: #06fff0; font-size: 0.7rem;\">■■■■■■■■■■■■■■■■■■■■■■■■■■■■■■■■■■■■■■■■■■■■■■■■■■■■■■■■■■■■■■■■■■■■■■■■■■■■■■■■■■■■■■■■■■■■■■■■■■■■■■■■■■■■■■■</span>\n",
    "\n",
    "<br>\n",
    "\n",
    "<span style=\"color: red;\">fromfuntion( )</span>"
   ]
  },
  {
   "cell_type": "markdown",
   "id": "c8d0eb72-3208-4c6b-81d4-264c18508510",
   "metadata": {},
   "source": [
    "\n",
    "<span style=\"color: #a245ff;\"><code>np.<span style=\"color: red;\">fromfunction()</span></code>&nbsp; applies the given function to each coordinate in the array.</span>"
   ]
  },
  {
   "cell_type": "code",
   "execution_count": 77,
   "id": "861a6bd1-346f-4e3c-9c45-e2dc2c96c4eb",
   "metadata": {},
   "outputs": [
    {
     "data": {
      "text/plain": [
       "array([[ 0,  1,  2,  3],\n",
       "       [10, 11, 12, 13],\n",
       "       [20, 21, 22, 23],\n",
       "       [30, 31, 32, 33],\n",
       "       [40, 41, 42, 43]])"
      ]
     },
     "execution_count": 77,
     "metadata": {},
     "output_type": "execute_result"
    }
   ],
   "source": [
    "\n",
    "def f(x, y):\n",
    "    return 10 * x + y\n",
    "\n",
    "b = np.fromfunction(f, (5, 4), dtype=int)       # it takes a function as its first argument and a shape tuple as its second argument\n",
    "                                                # it creates an array of the given shape and applies the given function to each coordinate in the array\n",
    "                                                # but exactly how?\n",
    "\n",
    "                                                # Basically it creates an empty array of size (5,4)\n",
    "                                                #              and then computes  10*x+y  for every ccoordinate (x,y) and that will be the result\n",
    "\n",
    "                                                # EXAMPLE:\n",
    "                                                #           ==> The element at position (0, 0) is calculated as 10 * 0 + 0 = 0\n",
    "                                                #           ==> The element at position (1, 1) is calculated as 10 * 1 + 1 = 11\n",
    "                                                #           ==> The element at position (2, 3) is calculated as 10 * 2 + 3 = 23\n",
    "\n",
    "b\n"
   ]
  },
  {
   "cell_type": "markdown",
   "id": "13f98555-4d57-4f67-8ca4-788926c702f7",
   "metadata": {},
   "source": [
    "\n",
    "<br>\n",
    "\n",
    "<span style=\"color: #06fff0; font-size: 0.7rem;\">■■■■■■■■■■■■■■■■■■■■■■■■■■■■■■■■■■■■■■■■■■■■■■■■■■■■■■■■■■■■■■■■■■■■■■■■■■■■■■■■■■■■■■■■■■■■■■■■■■■■■■■■■■■■■■■</span>\n",
    "\n",
    "<br>\n",
    "\n",
    "**<font size=\"4rem;\">Aggregator functions</font>**\n"
   ]
  },
  {
   "cell_type": "markdown",
   "id": "ae7edf3c-72e0-4ae6-8b25-da04f4ee9226",
   "metadata": {},
   "source": [
    "\n",
    "#### <span style=\"color: red;\">sum( )</span>"
   ]
  },
  {
   "cell_type": "code",
   "execution_count": 115,
   "id": "2b4fed9e-8d5c-48ed-b860-3122b3a4d776",
   "metadata": {},
   "outputs": [
    {
     "name": "stdout",
     "output_type": "stream",
     "text": [
      "6\n"
     ]
    }
   ],
   "source": [
    "\n",
    "# 1-D array\n",
    "\n",
    "a = np.array([1, 2, 3])\n",
    "total = np.sum(a)                # sum of all elements in the 1D array  =  1 + 2 + 3  =  6\n",
    "print(total)\n"
   ]
  },
  {
   "cell_type": "code",
   "execution_count": 116,
   "id": "d377a6cd-89c4-49c4-b406-34a5f05f262b",
   "metadata": {},
   "outputs": [
    {
     "name": "stdout",
     "output_type": "stream",
     "text": [
      "21\n"
     ]
    }
   ],
   "source": [
    "\n",
    "# 2-D array\n",
    "\n",
    "a = np.array([\n",
    "    [1, 2, 3],\n",
    "    [4, 5, 6]\n",
    "])\n",
    "\n",
    "total = np.sum(a)                # sum of all elements in the 2D array  =  1 + 2 + 3 + 4 + 5 + 6  =  21\n",
    "print(total)\n"
   ]
  },
  {
   "cell_type": "code",
   "execution_count": 117,
   "id": "d0cefc8c-7072-4a57-9374-874fb9b9522a",
   "metadata": {},
   "outputs": [
    {
     "name": "stdout",
     "output_type": "stream",
     "text": [
      "[5 7 9]\n"
     ]
    }
   ],
   "source": [
    "\n",
    "a = np.array([\n",
    "    [1, 2, 3],\n",
    "    [4, 5, 6]\n",
    "])\n",
    "\n",
    "total = np.sum(a, axis=0)        # sum of all elemnts for each column\n",
    "print(total)\n"
   ]
  },
  {
   "cell_type": "code",
   "execution_count": 118,
   "id": "ecbba041-04f5-47b8-b72d-cd33fade72d6",
   "metadata": {},
   "outputs": [
    {
     "name": "stdout",
     "output_type": "stream",
     "text": [
      "[ 6 15]\n"
     ]
    }
   ],
   "source": [
    "\n",
    "\n",
    "a = np.array([\n",
    "    [1, 2, 3],\n",
    "    [4, 5, 6]\n",
    "])\n",
    "\n",
    "total = np.sum(a, axis=1)        # sum of all elemnts for each row\n",
    "print(total)\n"
   ]
  },
  {
   "cell_type": "markdown",
   "id": "a472fd91-27a6-4123-a9c8-bd0849755e4b",
   "metadata": {},
   "source": [
    "<br>\n",
    "\n",
    "<span style=\"color: red; font-size: 1rem;\">mean( )</span>   <br>\n",
    "<span style=\"color: red; font-size: 1rem;\">var( )</span>  &nbsp;&nbsp;===>&nbsp;&nbsp;average of the squared difference of each number by the mean <br>\n",
    "<span style=\"color: red; font-size: 1rem;\">std( )</span>    <br>\n",
    "<span style=\"color: red; font-size: 1rem;\">prod( )</span>   <br>\n",
    "<span style=\"color: red; font-size: 1rem;\">amin( )</span>   <br>\n",
    "<span style=\"color: red; font-size: 1rem;\">amax( )</span>   <br>\n",
    "<span style=\"color: red; font-size: 1rem;\">all( )</span>   &nbsp;&nbsp;===>&nbsp;&nbsp;returns True if all elements in an array (or along a given axis) evaluate to True. <br>\n",
    "<span style=\"color: red; font-size: 1rem;\">any( )</span>  &nbsp;&nbsp;===>&nbsp;&nbsp;return True if any of the elements in an array is nonzero."
   ]
  },
  {
   "cell_type": "markdown",
   "id": "6abf680e-c01d-4018-abf0-783dea7044be",
   "metadata": {},
   "source": [
    "\n",
    "<br>\n",
    "\n",
    "<span style=\"color: #06fff0; font-size: 0.7rem;\">■■■■■■■■■■■■■■■■■■■■■■■■■■■■■■■■■■■■■■■■■■■■■■■■■■■■■■■■■■■■■■■■■■■■■■■■■■■■■■■■■■■■■■■■■■■■■■■■■■■■■■■■■■■■■■■</span>\n",
    "\n",
    "<br>\n"
   ]
  },
  {
   "cell_type": "markdown",
   "id": "5c514476-323b-46a8-9041-46447fbd5d29",
   "metadata": {},
   "source": [
    "\n",
    "**<font size=\"4rem;\">Shape Manipulation</font> &nbsp;&nbsp;-----&nbsp;&nbsp; changing the shape or structure of an array without altering its data.**\n",
    "\n",
    "<br>\n",
    "\n",
    "<span style=\"color: blue; font-size: 0.95rem;\">**1. &nbsp;Changing the Shape of an Array**</span>\n",
    "\n",
    "<br>\n",
    "\n",
    "<code>numpy.<span style=\"color: red;\">reshape()</span></code>  &nbsp;-&nbsp; The new shape must be compatible with the original shape (i.e., <u>the total number of elements must remain the same</u>)."
   ]
  },
  {
   "cell_type": "code",
   "execution_count": 87,
   "id": "ea6dde1d-7889-4365-abb9-55b31a56a9c3",
   "metadata": {},
   "outputs": [
    {
     "name": "stdout",
     "output_type": "stream",
     "text": [
      "[[1 2 3]\n",
      " [4 5 6]] ====> (2, 3)\n"
     ]
    }
   ],
   "source": [
    "\n",
    "arr = np.array([1, 2, 3, 4, 5, 6])\n",
    "\n",
    "reshaped_arr = arr.reshape(2, 3)          # Reshape to 2 rows and 3 columns\n",
    "\n",
    "print(reshaped_arr, \"====>\", reshaped_arr.shape)\n"
   ]
  },
  {
   "cell_type": "markdown",
   "id": "6983994d-eb46-413b-94fb-9ac0684c9e52",
   "metadata": {},
   "source": [
    "<br>\n",
    "\n",
    "However, the shape of the array <code>\"arr\"</code> is not yet changed. "
   ]
  },
  {
   "cell_type": "code",
   "execution_count": 88,
   "id": "573fa20f-12dd-4a42-8b93-3a506ffd9178",
   "metadata": {},
   "outputs": [
    {
     "name": "stdout",
     "output_type": "stream",
     "text": [
      "[1 2 3 4 5 6] ====> (6,)\n"
     ]
    }
   ],
   "source": [
    "\n",
    "print(arr, \"====>\", arr.shape)\n"
   ]
  },
  {
   "cell_type": "markdown",
   "id": "9bd03ab8-1776-427d-9531-c3f52e19c1fb",
   "metadata": {},
   "source": [
    "<br>\n",
    "\n",
    "<span style=\"color: #a245ff;\">Numpy <span style=\"color: red;\">reshape( )</span> returns a <strong>view</strong></span>\n"
   ]
  },
  {
   "cell_type": "code",
   "execution_count": 11,
   "id": "35f02e20-40d7-4a16-af6a-923b814e4f75",
   "metadata": {},
   "outputs": [
    {
     "name": "stdout",
     "output_type": "stream",
     "text": [
      "[[1 2]\n",
      " [3 4]]\n"
     ]
    }
   ],
   "source": [
    "\n",
    "a = np.arange(1, 5)                 # [1   2    3    4    5]\n",
    "\n",
    "b = np.reshape(a, (2, 2))\n",
    "print(b)\n"
   ]
  },
  {
   "cell_type": "code",
   "execution_count": 12,
   "id": "bcfbb74e-76e0-4ce5-8e73-58050f86f181",
   "metadata": {},
   "outputs": [
    {
     "name": "stdout",
     "output_type": "stream",
     "text": [
      "[[0 2]\n",
      " [3 4]]\n",
      "\n",
      "\n",
      "[0 2 3 4]\n"
     ]
    }
   ],
   "source": [
    "\n",
    "# change the element [0,0]\n",
    "b[0, 0] = 0\n",
    "\n",
    "print(b)\n",
    "\n",
    "print(\"\\n\")\n",
    "\n",
    "print(a)             # since the array \"b\" is a view, so the change is also reflected in the array \"a\"\n"
   ]
  },
  {
   "cell_type": "markdown",
   "id": "cceec04d-b95b-425f-a7ec-2e8f015c727d",
   "metadata": {},
   "source": [
    "\n",
    "<br>\n",
    "\n",
    "<u>**NOTE**</u> &nbsp;-&nbsp; <span style=\"color: red;\">reshape( )</span> <span style=\"color: blue;\">can not only change shape but also dimensions.</span>\n",
    "\n",
    "<code style=\"background-color: yellow; color: red;\">(3,) </code>  &nbsp;&nbsp;&nbsp;&nbsp;===>&nbsp;  1 row and 3 columns   &nbsp;&nbsp;===>&nbsp;&nbsp; **1D** &nbsp;array  &nbsp;&nbsp;===>&nbsp;&nbsp; <code>np.array(<span style=\"color: red;\"> [ num1 , num2 , num3 ] </span>)</code>   <br>\n",
    "<code style=\"background-color: yellow; color: red;\">(1,3)</code>  &nbsp;&nbsp;&nbsp;&nbsp;===>&nbsp;  1 row and 3 columns   &nbsp;&nbsp;===>&nbsp;&nbsp; **2D** &nbsp;array  &nbsp;&nbsp;===>&nbsp;&nbsp; <code>np.array(<span style=\"color: red;\"> [ [ num1 , num2 , num3 ] ] </span>)</code>\n"
   ]
  },
  {
   "cell_type": "code",
   "execution_count": 128,
   "id": "43387302-a82d-4c0e-9a8c-0576946f73f3",
   "metadata": {},
   "outputs": [
    {
     "name": "stdout",
     "output_type": "stream",
     "text": [
      "[1 2 3]\n",
      "shape =  (3,)\n",
      "\n",
      "\n",
      "[[1]\n",
      " [2]\n",
      " [3]]\n",
      "shape =  (3, 1)\n"
     ]
    }
   ],
   "source": [
    "\n",
    "a = np.array([1,2,3])\n",
    "print(a)\n",
    "print(\"shape = \", a.shape)\n",
    "\n",
    "print(\"\\n\")\n",
    "\n",
    "b = a.reshape(3,1)                # 1D (3,)  ===>  2D (3,1)\n",
    "print(b)\n",
    "print(\"shape = \", b.shape)\n"
   ]
  },
  {
   "cell_type": "markdown",
   "id": "8b3503f7-cc7d-484b-bf19-3bedca618fa5",
   "metadata": {},
   "source": [
    "<br>\n",
    "\n",
    "However the array &nbsp;<code>a</code>&nbsp; is still unchanged."
   ]
  },
  {
   "cell_type": "code",
   "execution_count": 127,
   "id": "ec9d8fec-8f5a-4ec9-8ac4-43df5ca97b55",
   "metadata": {},
   "outputs": [
    {
     "name": "stdout",
     "output_type": "stream",
     "text": [
      "[1 2 3]\n",
      "shape =  (3,)\n"
     ]
    }
   ],
   "source": [
    "\n",
    "print(a)\n",
    "print(\"shape = \", a.shape)\n"
   ]
  },
  {
   "cell_type": "code",
   "execution_count": 136,
   "id": "1d5b4fac-fd72-4ec9-8a73-c6ccaf541773",
   "metadata": {},
   "outputs": [
    {
     "name": "stdout",
     "output_type": "stream",
     "text": [
      "shape =  (3, 1)\n",
      "[[1 2 3]] ====> (1, 3)\n",
      "[1 2 3] ====> (3,)\n"
     ]
    }
   ],
   "source": [
    "\n",
    "print(\"shape = \", b.shape)       #  (3,1)    ------------------------------------>     2D\n",
    "\n",
    "\n",
    "c = b.reshape(1,3)\n",
    "print(c, \"====>\", c.shape)       #  (3,1)  ===>  (1,3)    ----------------------->     2D  ===>  2D\n",
    "\n",
    "\n",
    "d = b.reshape(3,)                #  (3,1)  ===>  (3,)     ----------------------->     2D  ===>  1D\n",
    "print(d, \"====>\", d.shape)\n"
   ]
  },
  {
   "cell_type": "code",
   "execution_count": 6,
   "id": "8f0c8bef-d151-4a37-9a5a-af395b8df8b2",
   "metadata": {},
   "outputs": [
    {
     "ename": "ValueError",
     "evalue": "cannot reshape array of size 10 into shape (3,3)",
     "output_type": "error",
     "traceback": [
      "\u001b[1;31m---------------------------------------------------------------------------\u001b[0m",
      "\u001b[1;31mValueError\u001b[0m                                Traceback (most recent call last)",
      "Cell \u001b[1;32mIn[6], line 1\u001b[0m\n\u001b[1;32m----> 1\u001b[0m \u001b[43mnp\u001b[49m\u001b[38;5;241;43m.\u001b[39;49m\u001b[43marange\u001b[49m\u001b[43m(\u001b[49m\u001b[38;5;241;43m10\u001b[39;49m\u001b[43m)\u001b[49m\u001b[38;5;241;43m.\u001b[39;49m\u001b[43mreshape\u001b[49m\u001b[43m(\u001b[49m\u001b[38;5;241;43m3\u001b[39;49m\u001b[43m,\u001b[49m\u001b[38;5;241;43m3\u001b[39;49m\u001b[43m)\u001b[49m\n",
      "\u001b[1;31mValueError\u001b[0m: cannot reshape array of size 10 into shape (3,3)"
     ]
    }
   ],
   "source": [
    "\n",
    "np.arange(10).reshape(3,3)\n"
   ]
  },
  {
   "cell_type": "code",
   "execution_count": 7,
   "id": "c4dd69e6-9d7b-40bf-9d8f-ef4225bbee6c",
   "metadata": {},
   "outputs": [
    {
     "data": {
      "text/plain": [
       "array([[0, 1, 2],\n",
       "       [3, 4, 5],\n",
       "       [6, 7, 8]])"
      ]
     },
     "execution_count": 7,
     "metadata": {},
     "output_type": "execute_result"
    }
   ],
   "source": [
    "\n",
    "np.arange(9).reshape(3,3)\n"
   ]
  },
  {
   "cell_type": "markdown",
   "id": "d54c8b86-d77e-49d9-9529-401bc9710584",
   "metadata": {},
   "source": [
    "<br>\n",
    "\n",
    "<code>numpy.<span style=\"color: red;\">flatten()</span></code>  &nbsp;-&nbsp; returns a 1D (flattened) version of the array.  <br>\n",
    "<span style=\"margin-left: 132px;\"> -&nbsp; The resulting array is always a <code style=\"background-color: black; color: white;\">copy</code> of the data collapsed into one dimension.</span>  <br>\n",
    "<span style=\"margin-left: 132px;\"> -&nbsp; <code>ndarray.<span style=\"color: red;\">flatten</span>(order='C')</code></span>  <br>\n",
    "<span style=\"margin-left: 170px;\"> -&nbsp; <code style=\"background-color: yellow;\">'C'</code> means to flatten array elements into <span style=\"color: blue;\">row-major order</span> (C-style)  &nbsp;====>&nbsp;  **DEFAULT**</span>   <br>\n",
    "<span style=\"margin-left: 170px;\"> -&nbsp; <code style=\"background-color: yellow;\">'F'</code> means to flatten array elements into <span style=\"color: blue;\">column-major order</span> (Fortran-style).</span>  <br>\n",
    "<span style=\"margin-left: 170px;\"> -&nbsp; <code style=\"background-color: yellow;\">'A'</code> means to flatten array elements in <u><span style=\"color: blue;\">column-major order</span> if a is Fortran contiguous in memory</u> or <u>row-major otherwise</u>.</span>  <br>\n",
    "<span style=\"margin-left: 170px;\"> -&nbsp; <code style=\"background-color: yellow;\">'K'</code> means to flatten array elements in order of the elements laid out in memory.\n"
   ]
  },
  {
   "cell_type": "code",
   "execution_count": 17,
   "id": "5a530c51-a14e-445e-8fb3-8793b2c59b7a",
   "metadata": {},
   "outputs": [
    {
     "name": "stdout",
     "output_type": "stream",
     "text": [
      "[1 2 3 4 5 6]\n"
     ]
    }
   ],
   "source": [
    "\n",
    "arr = np.array([[1, 2, 3], [4, 5, 6]])\n",
    "\n",
    "flattened_arr = arr.flatten()\n",
    "\n",
    "print(flattened_arr)\n"
   ]
  },
  {
   "cell_type": "markdown",
   "id": "f4a62bcc-23aa-4a8c-963b-1868bb121bfe",
   "metadata": {},
   "source": [
    "<br>\n",
    "\n",
    "Note that <code>flattened_arr</code> is a **copy**, <u>not a view of the array <code>arr</code></u>. &nbsp;If you change elements in array <code>flattened_arr</code>, the elements in array <code>a</code> are **not changed**. &nbsp;For example :"
   ]
  },
  {
   "cell_type": "code",
   "execution_count": 24,
   "id": "ee66099c-b0a7-4be3-b297-19d56c47f28f",
   "metadata": {},
   "outputs": [
    {
     "name": "stdout",
     "output_type": "stream",
     "text": [
      "[[1 2 3]\n",
      " [4 5 6]]\n"
     ]
    }
   ],
   "source": [
    "\n",
    "arr = np.array([[1, 2, 3], [4, 5, 6]])\n",
    "\n",
    "print(arr)\n"
   ]
  },
  {
   "cell_type": "code",
   "execution_count": 25,
   "id": "73ec4565-838d-4092-907f-6d29ac46b2ba",
   "metadata": {},
   "outputs": [
    {
     "name": "stdout",
     "output_type": "stream",
     "text": [
      "[1 2 3 4 5 6]\n"
     ]
    }
   ],
   "source": [
    "\n",
    "flattened_arr = arr.flatten()\n",
    "\n",
    "print(flattened_arr)\n"
   ]
  },
  {
   "cell_type": "code",
   "execution_count": 26,
   "id": "e9bfdbd0-12eb-44f5-88e9-bc5e285c1a15",
   "metadata": {},
   "outputs": [
    {
     "name": "stdout",
     "output_type": "stream",
     "text": [
      "[0 2 3 4 5 6]\n"
     ]
    }
   ],
   "source": [
    "\n",
    "# change element at index 0\n",
    "flattened_arr[0] = 0\n",
    "print(flattened_arr)\n"
   ]
  },
  {
   "cell_type": "code",
   "execution_count": 27,
   "id": "0d43ad77-5915-4f9b-853d-f671bffb98f2",
   "metadata": {},
   "outputs": [
    {
     "name": "stdout",
     "output_type": "stream",
     "text": [
      "[[1 2 3]\n",
      " [4 5 6]]\n"
     ]
    }
   ],
   "source": [
    "\n",
    "# display the array a\n",
    "print(arr)\n"
   ]
  },
  {
   "cell_type": "markdown",
   "id": "c426f729-397b-4353-9aba-446ff7eabddd",
   "metadata": {},
   "source": [
    "<br>\n",
    "\n",
    "Difference between <span style=\"color: blue;\">row-major order</span> and <span style=\"color: blue;\">column-major order</span>\n"
   ]
  },
  {
   "cell_type": "code",
   "execution_count": 32,
   "id": "c4fe4597-8e02-4f96-b529-d086fc06f443",
   "metadata": {},
   "outputs": [
    {
     "name": "stdout",
     "output_type": "stream",
     "text": [
      "row major flattened array =  [1 2 3 4]\n",
      "column major flattened array =  [1 3 2 4]\n"
     ]
    }
   ],
   "source": [
    "\n",
    "a = np.array([[1, 2], [3, 4]])\n",
    "\n",
    "b = a.flatten(order='C')\n",
    "print(\"row major flattened array = \", b)          # [1  2  3  4]\n",
    "\n",
    "c = a.flatten(order=\"F\")\n",
    "print(\"column major flattened array = \", c)       # [1  3  2  4]\n"
   ]
  },
  {
   "cell_type": "markdown",
   "id": "b7e1497a-d8d8-46c9-b064-2551221a941c",
   "metadata": {},
   "source": [
    "<br>\n",
    "\n",
    "<code>numpy.<span style=\"color: red;\">ravel(<span style=\"color: black;\">a, order = \"C\"</span>)</span></code>  &nbsp;-&nbsp; also returns a contiguous flattened version of the array.   <br>\n",
    "<div style=\"margin-left: 240px;\">Unlike <code style=\"color: red;\">flatten()</code> , &nbsp;<code style=\"color: red;\">ravel()</code> &nbsp;returns a <code style=\"background-color: black; color: white;\">view</code> whenever possible (if the memory layout allows), meaning changes in the flattened array can affect the original array.<div> \n",
    "\n",
    "<br>\n",
    "\n",
    "It can be any array-like object e.g., a <span style=\"color: blue;\">list</span>. &nbsp;An array-like object is an object that can be converted into a numpy array."
   ]
  },
  {
   "cell_type": "code",
   "execution_count": 150,
   "id": "fe3b72bb-652e-4974-a4a6-453aa7497785",
   "metadata": {},
   "outputs": [
    {
     "name": "stdout",
     "output_type": "stream",
     "text": [
      "[1 2 3 4 5 6]\n"
     ]
    }
   ],
   "source": [
    "\n",
    "arr = np.array([[1, 2, 3], [4, 5, 6]])\n",
    "\n",
    "raveled_arr = arr.ravel()\n",
    "\n",
    "print(raveled_arr)\n"
   ]
  },
  {
   "cell_type": "markdown",
   "id": "a3208a7c-c785-4662-b7c6-c064571748ba",
   "metadata": {},
   "source": [
    "<br>\n",
    "\n",
    "| <code style=\"background-color: white;\">flatten(&nbsp;)</code> | <code style=\"background-color: white;\">ravel(&nbsp;)</code> |\n",
    "|-----------|---------|\n",
    "| you can call the <code style=\"color: red;\">flatten(&nbsp;)</code> method on a <code style=\"background-color: yellow;\">ndarray</code> &nbsp;&nbsp;&nbsp;&nbsp;&nbsp;|&nbsp;&nbsp;&nbsp;&nbsp;&nbsp; you can call the <code style=\"color: red;\">ravel( )</code> function on an array-like object |\n",
    "| returns a <strong>copy</strong> of the input array &nbsp;&nbsp;&nbsp;&nbsp;&nbsp;|&nbsp;&nbsp;&nbsp;&nbsp;&nbsp; returns a <strong>view</strong> of the input array  |"
   ]
  },
  {
   "cell_type": "markdown",
   "id": "2a5968ae-afb6-48ef-a293-eabce82d3dd0",
   "metadata": {},
   "source": [
    "<br>\n",
    "\n",
    "<code>numpy.<span style=\"color: red;\">transpose()</span></code>  &nbsp;-&nbsp; reverses or permutes the axes of an array.\n",
    "\n",
    "<span style=\"margin-left: 148px;\">- &nbsp;It is commonly used to switch the rows and columns of a 2D array.</span>\n",
    "\n",
    "<span style=\"margin-left: 148px;\">- &nbsp;<code>numpy.<span style=\"color: red;\">transpose</span>(inp_arr, axes=None)</code></span>\n",
    "\n",
    "<span style=\"margin-left: 148px;\">- &nbsp;<code>ndarray.<span style=\"color: red;\">T</span></code> property method that returns an array transposed.</span>\n"
   ]
  },
  {
   "cell_type": "code",
   "execution_count": 152,
   "id": "18bbca52-0bb7-4da1-b01c-94770c31a59e",
   "metadata": {},
   "outputs": [
    {
     "name": "stdout",
     "output_type": "stream",
     "text": [
      "[[1 4]\n",
      " [2 5]\n",
      " [3 6]]\n"
     ]
    }
   ],
   "source": [
    "\n",
    "arr = np.array([[1, 2, 3], [4, 5, 6]])\n",
    "\n",
    "transposed_arr = np.transpose(arr)\n",
    "\n",
    "print(transposed_arr)\n"
   ]
  },
  {
   "cell_type": "markdown",
   "id": "b07311e0-3c50-427d-866c-087ad5102b97",
   "metadata": {},
   "source": [
    "<br>\n",
    "\n",
    "<span style=\"color: blue; font-size: 0.95rem;\">**2. &nbsp;Arithmetic Operations**</span>\n",
    "\n",
    "<span style=\"color: red; font-size: 1rem;\">add( )</span> &nbsp;&nbsp;&nbsp;,&nbsp;&nbsp;&nbsp;<span style=\"color: red; font-size: 1.3rem;\">+</span>    &nbsp;&nbsp;&nbsp;&nbsp;===> returns the sum between two equal-sized arrays by performing **element-wise additions**.<br>\n",
    "\n",
    "\n",
    "To add two **1D** arrays :"
   ]
  },
  {
   "cell_type": "code",
   "execution_count": 38,
   "id": "65ad5a54-3a0f-4ef9-92dc-c360be5166a9",
   "metadata": {},
   "outputs": [
    {
     "name": "stdout",
     "output_type": "stream",
     "text": [
      "[3 5]\n"
     ]
    }
   ],
   "source": [
    "\n",
    "a = np.array([1, 2])\n",
    "b = np.array([2, 3])\n",
    "\n",
    "c = a + b                  # [1 , 2]  +  [2  , 3]  =  [1+2 , 2+3]  =  [3 , 5]\n",
    "print(c)\n"
   ]
  },
  {
   "cell_type": "code",
   "execution_count": 39,
   "id": "aba0eb89-55c7-40f3-bd11-5e51b9c5d38c",
   "metadata": {},
   "outputs": [
    {
     "name": "stdout",
     "output_type": "stream",
     "text": [
      "[3 5]\n"
     ]
    }
   ],
   "source": [
    "\n",
    "a = np.array([1, 2])\n",
    "b = np.array([2, 3])\n",
    "\n",
    "c = np.add(a, b)\n",
    "print(c)\n"
   ]
  },
  {
   "cell_type": "markdown",
   "id": "6f41f2f3-3026-4a03-a254-c889d7010381",
   "metadata": {},
   "source": [
    "<br>\n",
    "\n",
    "To add two **2D** arrays :"
   ]
  },
  {
   "cell_type": "code",
   "execution_count": 41,
   "id": "a5deffe2-feec-4268-bedd-753e580b341f",
   "metadata": {},
   "outputs": [
    {
     "name": "stdout",
     "output_type": "stream",
     "text": [
      "[[ 6  8]\n",
      " [10 12]]\n"
     ]
    }
   ],
   "source": [
    "\n",
    "a = np.array([[1, 2], [3, 4]])\n",
    "b = np.array([[5, 6], [7, 8]])\n",
    "\n",
    "c = a + b\n",
    "print(c)\n"
   ]
  },
  {
   "cell_type": "markdown",
   "id": "32a09e8e-ce25-409f-8bb6-742b4cfd0bc1",
   "metadata": {},
   "source": [
    "\n",
    "<pre>\n",
    "\n",
    "[1 , 2]               [5 , 6]                [1+5  ,  2+6]               [6   ,   8]\n",
    "              +                     =                            =       \n",
    "[3 , 4]               [7 , 8]                [3+7  ,  4+8]               [10  ,  12]\n",
    "\n",
    "</pre>"
   ]
  },
  {
   "cell_type": "code",
   "execution_count": 42,
   "id": "2e672481-1ffc-462c-a0f1-19cb0c68af21",
   "metadata": {},
   "outputs": [
    {
     "name": "stdout",
     "output_type": "stream",
     "text": [
      "[[ 6  8]\n",
      " [10 12]]\n"
     ]
    }
   ],
   "source": [
    "\n",
    "a = np.array([[1, 2], [3, 4]])\n",
    "b = np.array([[5, 6], [7, 8]])\n",
    "\n",
    "c = np.add(a, b)\n",
    "print(c)\n"
   ]
  },
  {
   "cell_type": "markdown",
   "id": "88d233d4-d92a-4169-b8b2-acaa2134769e",
   "metadata": {},
   "source": [
    "<br>\n",
    "\n",
    "<span style=\"color: red; font-size: 1rem;\">subtract( )</span> &nbsp;&nbsp;&nbsp;,&nbsp;&nbsp;&nbsp;<span style=\"color: red; font-size: 1.3rem;\">-</span>    &nbsp;&nbsp;&nbsp;&nbsp;&nbsp;===>&nbsp;  returns the **sum** between two equal-sized arrays by performing **element-wise subtractions**.<br>\n",
    "\n",
    "<span style=\"color: red; font-size: 1rem;\">multiply( )</span> &nbsp;&nbsp;&nbsp;,&nbsp;&nbsp;&nbsp;<span style=\"color: red; font-size: 1.3rem;\">*</span>    &nbsp;&nbsp;&nbsp;&nbsp;&nbsp;===>&nbsp;  returns the **difference** between two equal-sized arrays by performing **element-wise multiplications**.<br>\n",
    "\n",
    "<span style=\"color: red; font-size: 1rem;\">divide( )</span> &nbsp;&nbsp;&nbsp;,&nbsp;&nbsp;&nbsp;<span style=\"color: red; font-size: 1.3rem;\">/</span>    &nbsp;&nbsp;&nbsp;&nbsp;&nbsp;&nbsp;&nbsp;&nbsp;&nbsp;===>&nbsp;  returns the **quotient** of two equal-sized arrays by performing **element-wise divisions**.<br>\n",
    "\n",
    "<span style=\"color: red; font-size: 1rem;\">**broadcasting( )**</span>   &nbsp;&nbsp;&nbsp;&nbsp;===>&nbsp;  To perform arithmetic operations on arrays of different shapes, NumPy uses a technique called <span style=\"color: red;\">broadcasting</span>.<br>\n",
    "\n",
    "&nbsp;&nbsp;&nbsp;&nbsp;&nbsp;&nbsp;&nbsp;&nbsp;&nbsp;&nbsp;&nbsp;&nbsp;&nbsp;&nbsp;&nbsp;&nbsp;&nbsp;&nbsp;&nbsp;&nbsp;&nbsp;&nbsp;&nbsp;&nbsp;&nbsp;&nbsp;&nbsp;&nbsp;&nbsp;&nbsp;&nbsp;&nbsp;&nbsp;&nbsp;&nbsp;===>&nbsp;  By definition, <span style=\"color: red;\">broadcasting</span> is a <span style=\"color: blue;\">set of rules for applying arithmetic operations on arrays of different shapes</span>.\n",
    "\n",
    "<div style=\"margin-left: 135px;\">\n",
    "\n",
    "===> &nbsp;**SHAPES**\n",
    "\n",
    "&nbsp;&nbsp;&nbsp;&nbsp;&nbsp;&nbsp;&nbsp;&nbsp;&nbsp;&nbsp;&nbsp;&nbsp;&nbsp;&nbsp;&nbsp;&nbsp;&nbsp;&nbsp;1D &nbsp;===>&nbsp; <code>(columns, )</code> &nbsp;&nbsp;&nbsp;&nbsp;&nbsp;&nbsp;&nbsp;&nbsp;&nbsp;&nbsp;&nbsp;&nbsp;&nbsp;&nbsp;&nbsp;&nbsp;&nbsp;&nbsp;&nbsp;&nbsp;&nbsp;&nbsp;&nbsp;&nbsp;&nbsp;&nbsp;====>&nbsp;&nbsp; vector              <br>\n",
    "&nbsp;&nbsp;&nbsp;&nbsp;&nbsp;&nbsp;&nbsp;&nbsp;&nbsp;&nbsp;&nbsp;&nbsp;&nbsp;&nbsp;&nbsp;&nbsp;&nbsp;&nbsp;2D &nbsp;===>&nbsp; <code>(rows, columns)</code>  &nbsp;&nbsp;&nbsp;&nbsp;&nbsp;&nbsp;&nbsp;&nbsp;&nbsp;&nbsp;&nbsp;&nbsp;&nbsp;&nbsp;&nbsp;&nbsp;&nbsp;&nbsp;====>&nbsp;&nbsp; matrix         <br>\n",
    "&nbsp;&nbsp;&nbsp;&nbsp;&nbsp;&nbsp;&nbsp;&nbsp;&nbsp;&nbsp;&nbsp;&nbsp;&nbsp;&nbsp;&nbsp;&nbsp;&nbsp;&nbsp;3D &nbsp;===>&nbsp; <code>(depths, rows, columns)</code>  &nbsp;&nbsp;====>&nbsp;&nbsp; tensor\n",
    "\n",
    "<div>\n",
    "\n",
    "\n",
    "<br>"
   ]
  },
  {
   "cell_type": "markdown",
   "id": "6676c9d4-cd9e-4b76-8e90-233aa93bd764",
   "metadata": {},
   "source": [
    "\n",
    "<div style=\"background-color: #fff7e9; padding: 20px;\">\n",
    "\n",
    "<u>Broadcasting Rules:</u>  <br>\n",
    " \n",
    "<strong>Rule 1 :</strong> if two arrays have different dimensions, it pads ones on the left side of the shape of the array that has fewer dimensions.     <br>\n",
    "    \n",
    "<strong>Rule 2 :</strong> if two dimensions of arrays do not match in any dimension, the array with a shape equal to one in that dimension is stretched (or broadcast) to match the shape of another array.\n",
    "\n",
    "<strong>Rule 3 :</strong> if any dimension of two arrays is not equal and neither is equal to one, NumPy raises an error.\n",
    "    \n",
    "</div>\n",
    "\n",
    "<br>\n",
    "\n",
    "<span style=\"color: white; background-color: black;\">EXAMPLE - 1 </span> &nbsp;&nbsp;&nbsp;(NumPy broadcasting on one array example)"
   ]
  },
  {
   "cell_type": "code",
   "execution_count": 140,
   "id": "140f9510-3761-4610-a3f5-a28b02ccda65",
   "metadata": {},
   "outputs": [
    {
     "name": "stdout",
     "output_type": "stream",
     "text": [
      "[[2. 3. 4.]\n",
      " [5. 6. 7.]]\n"
     ]
    }
   ],
   "source": [
    "\n",
    "a = np.array([\n",
    "    [1, 2, 3],\n",
    "    [4, 5, 6]\n",
    "])                           # (2,3)\n",
    "\n",
    "b = np.ones(3)               # (3,)   ===>   (1,3)\n",
    "\n",
    "c = a + b                    # the array \"b\" is broadcasted to (2,3)\n",
    "print(c)                     # (2,3)\n"
   ]
  },
  {
   "cell_type": "markdown",
   "id": "dd60dc39-cd03-4955-bf6a-dc5a54fb7081",
   "metadata": {},
   "source": [
    "\n",
    "<br>\n",
    "\n",
    "<span style=\"color: white; background-color: black;\">EXAMPLE - 2 </span> &nbsp;&nbsp;&nbsp;(NumPy broadcasting on both arrays example)"
   ]
  },
  {
   "cell_type": "code",
   "execution_count": 153,
   "id": "0c2c97f0-bf98-41c6-8b02-232bfd65f291",
   "metadata": {},
   "outputs": [
    {
     "name": "stdout",
     "output_type": "stream",
     "text": [
      "a shape:  (3, 1)\n",
      "b shape:  (3,)\n",
      "\n",
      "\n",
      "[[2 3 4]\n",
      " [3 4 5]\n",
      " [4 5 6]]\n",
      "c shape:  (3, 3)\n"
     ]
    }
   ],
   "source": [
    "\n",
    "a = np.array([\n",
    "    [1],\n",
    "    [2],\n",
    "    [3],\n",
    "])\n",
    "print(f\"a shape: \", a.shape)            # (3, 1)\n",
    "\n",
    "b = np.array([1, 2, 3])\n",
    "print(f\"b shape: \", b.shape)            # (3,)    ====>   (1,3)\n",
    "\n",
    "print(\"\\n\")\n",
    "\n",
    "c = a + b                               # as per rule-1,  a(3,1)  is  broadcasted  to  (3,3)  and  b(1,3)  is  broadcasted  to  a(3,3)\n",
    "print(c)\n",
    "print(f\"c shape: \", c.shape)\n"
   ]
  },
  {
   "cell_type": "markdown",
   "id": "71153d4a-be44-46cd-a75d-6c02528256b2",
   "metadata": {},
   "source": [
    "<br>\n",
    "\n",
    "<span style=\"color: white; background-color: black;\">EXAMPLE - 3 </span> &nbsp;&nbsp;&nbsp;(NumPy broadcasting with <span style=\"color: red;\">error</span> example)"
   ]
  },
  {
   "cell_type": "code",
   "execution_count": 150,
   "id": "c625f701-6ecf-4cbc-afd2-ee6c9a2312e6",
   "metadata": {},
   "outputs": [
    {
     "name": "stdout",
     "output_type": "stream",
     "text": [
      "a shape:  (3, 2)\n",
      "b shape:  (3,)\n"
     ]
    },
    {
     "ename": "ValueError",
     "evalue": "operands could not be broadcast together with shapes (3,2) (3,) ",
     "output_type": "error",
     "traceback": [
      "\u001b[1;31m---------------------------------------------------------------------------\u001b[0m",
      "\u001b[1;31mValueError\u001b[0m                                Traceback (most recent call last)",
      "Cell \u001b[1;32mIn[150], line 13\u001b[0m\n\u001b[0;32m      9\u001b[0m b \u001b[38;5;241m=\u001b[39m np\u001b[38;5;241m.\u001b[39marray([\u001b[38;5;241m1\u001b[39m, \u001b[38;5;241m2\u001b[39m, \u001b[38;5;241m3\u001b[39m])\n\u001b[0;32m     10\u001b[0m \u001b[38;5;28mprint\u001b[39m(\u001b[38;5;124mf\u001b[39m\u001b[38;5;124m\"\u001b[39m\u001b[38;5;124mb shape: \u001b[39m\u001b[38;5;124m\"\u001b[39m, b\u001b[38;5;241m.\u001b[39mshape)           \u001b[38;5;66;03m# (3,)\u001b[39;00m\n\u001b[1;32m---> 13\u001b[0m c \u001b[38;5;241m=\u001b[39m \u001b[43ma\u001b[49m\u001b[43m \u001b[49m\u001b[38;5;241;43m+\u001b[39;49m\u001b[43m \u001b[49m\u001b[43mb\u001b[49m                              \u001b[38;5;66;03m# size  of  \"b\"  is  first  broadcasted  from  (3,)  to  (1,3)  as  per  rule-1\u001b[39;00m\n\u001b[0;32m     14\u001b[0m                                        \u001b[38;5;66;03m# size  of  \"b\"  is  then  broadcasted  from  (1,3)  to  (3,3)  as  per  rule-2\u001b[39;00m\n\u001b[0;32m     15\u001b[0m                                        \u001b[38;5;66;03m# a(3,2)  is  not  compatible  with  b(3,3)  as  per  rule-3\u001b[39;00m\n",
      "\u001b[1;31mValueError\u001b[0m: operands could not be broadcast together with shapes (3,2) (3,) "
     ]
    }
   ],
   "source": [
    "\n",
    "a = np.array([\n",
    "    [1, 2],\n",
    "    [3, 4],\n",
    "    [5, 6],\n",
    "])\n",
    "print(f\"a shape: \", a.shape)           # (3,2)\n",
    "\n",
    "\n",
    "b = np.array([1, 2, 3])\n",
    "print(f\"b shape: \", b.shape)           # (3,)\n",
    "\n",
    "\n",
    "c = a + b                              # size  of  \"b\"  is  first  broadcasted  from  (3,)  to  (1,3)  as  per  rule-1\n",
    "                                       # size  of  \"b\"  is  then  broadcasted  from  (1,3)  to  (3,3)  as  per  rule-2\n",
    "                                       # a(3,2)  is  not  compatible  with  b(3,3)  as  per  rule-3\n"
   ]
  },
  {
   "cell_type": "markdown",
   "id": "ad59b468-85a9-47c3-bac0-4b714f4742ab",
   "metadata": {},
   "source": [
    "<br>\n",
    "\n",
    "<code style=\"color: white; background-color: #9f9e9d;\">practice - 1 </code>"
   ]
  },
  {
   "cell_type": "code",
   "execution_count": 2,
   "id": "9b822640-1618-4b1f-b362-046d937ef64a",
   "metadata": {},
   "outputs": [
    {
     "data": {
      "text/plain": [
       "array([[ 8, 10, 12, 14],\n",
       "       [16, 18, 20, 22]])"
      ]
     },
     "execution_count": 2,
     "metadata": {},
     "output_type": "execute_result"
    }
   ],
   "source": [
    "\n",
    "a = np.arange(8).reshape(2,4)\n",
    "b = np.arange(8,16).reshape(2,4)\n",
    "a + b                                   # same dimension  ===>  operation will take place\n"
   ]
  },
  {
   "cell_type": "markdown",
   "id": "ad3130d6-934e-4d90-8c3d-690ae0b263dc",
   "metadata": {},
   "source": [
    "<br>\n",
    "\n",
    "<code style=\"color: white; background-color: #9f9e9d;\">practice - 2 </code>"
   ]
  },
  {
   "cell_type": "code",
   "execution_count": 16,
   "id": "5f254dd1-7ca4-4c50-8609-09347e2780f9",
   "metadata": {},
   "outputs": [
    {
     "data": {
      "text/plain": [
       "array([[ 0,  2,  4],\n",
       "       [ 3,  5,  7],\n",
       "       [ 6,  8, 10],\n",
       "       [ 9, 11, 13]])"
      ]
     },
     "execution_count": 16,
     "metadata": {},
     "output_type": "execute_result"
    }
   ],
   "source": [
    "\n",
    "a = np.arange(3).reshape(1,3)\n",
    "b = np.arange(12).reshape(4,3)\n",
    "\n",
    "a + b                                   # The array \"a\" is broadcasted from (1,3) to (4,3)\n"
   ]
  },
  {
   "cell_type": "markdown",
   "id": "b50a5f82-678c-48dd-92bd-8fe2792029ee",
   "metadata": {},
   "source": [
    "<br>\n",
    "\n",
    "<code style=\"color: white; background-color: #9f9e9d;\">practice - 3 </code>"
   ]
  },
  {
   "cell_type": "code",
   "execution_count": 18,
   "id": "3b697c47-7b93-4e8b-b28c-319b458a6ff6",
   "metadata": {},
   "outputs": [
    {
     "data": {
      "text/plain": [
       "array([[ 2,  4,  6],\n",
       "       [ 5,  7,  9],\n",
       "       [ 8, 10, 12],\n",
       "       [11, 13, 15]])"
      ]
     },
     "execution_count": 18,
     "metadata": {},
     "output_type": "execute_result"
    }
   ],
   "source": [
    "\n",
    "a = np.arange(1,13).reshape(4,3)\n",
    "b = np.arange(1,4).reshape(1,3)\n",
    "\n",
    "a + b                                   # The array \"b\" is broadcasted from (1,3) to (4,3)\n"
   ]
  },
  {
   "cell_type": "markdown",
   "id": "be58213a-7f0c-439a-97c3-8d8860602c69",
   "metadata": {},
   "source": [
    "\n",
    "<br>\n",
    "\n",
    "<code style=\"color: white; background-color: #9f9e9d;\">practice - 4 </code>"
   ]
  },
  {
   "cell_type": "code",
   "execution_count": 23,
   "id": "eeb4d3e9-2af1-4b6f-82cd-b49ea7df0e16",
   "metadata": {},
   "outputs": [
    {
     "ename": "ValueError",
     "evalue": "operands could not be broadcast together with shapes (4,4) (1,3) ",
     "output_type": "error",
     "traceback": [
      "\u001b[1;31m---------------------------------------------------------------------------\u001b[0m",
      "\u001b[1;31mValueError\u001b[0m                                Traceback (most recent call last)",
      "Cell \u001b[1;32mIn[23], line 4\u001b[0m\n\u001b[0;32m      1\u001b[0m a \u001b[38;5;241m=\u001b[39m np\u001b[38;5;241m.\u001b[39marange(\u001b[38;5;241m16\u001b[39m)\u001b[38;5;241m.\u001b[39mreshape(\u001b[38;5;241m4\u001b[39m,\u001b[38;5;241m4\u001b[39m)\n\u001b[0;32m      2\u001b[0m b \u001b[38;5;241m=\u001b[39m np\u001b[38;5;241m.\u001b[39marange(\u001b[38;5;241m3\u001b[39m)\u001b[38;5;241m.\u001b[39mreshape(\u001b[38;5;241m1\u001b[39m,\u001b[38;5;241m3\u001b[39m)\n\u001b[1;32m----> 4\u001b[0m \u001b[43ma\u001b[49m\u001b[43m \u001b[49m\u001b[38;5;241;43m+\u001b[39;49m\u001b[43m \u001b[49m\u001b[43mb\u001b[49m                                   \u001b[38;5;66;03m# The array \"b\" is broadcasted from (1,3) to (4,3)  by rule-2\u001b[39;00m\n\u001b[0;32m      5\u001b[0m                                         \u001b[38;5;66;03m# The array \"b\" with broadcasted shape (4,3) is incompatible with the array of shape (4,4) by the rule-3\u001b[39;00m\n",
      "\u001b[1;31mValueError\u001b[0m: operands could not be broadcast together with shapes (4,4) (1,3) "
     ]
    }
   ],
   "source": [
    "\n",
    "a = np.arange(16).reshape(4,4)\n",
    "b = np.arange(3).reshape(1,3)\n",
    "\n",
    "a + b                                   # The array \"b\" is broadcasted from (1,3) to (4,3)  by rule-2\n",
    "                                        # The array \"b\" with broadcasted shape (4,3) is incompatible with the array of shape (4,4) by the rule-3\n"
   ]
  },
  {
   "cell_type": "markdown",
   "id": "bad51958-cf22-4d5b-a535-f763cb3a3ec2",
   "metadata": {},
   "source": [
    "\n",
    "<br>\n",
    "\n",
    "<code style=\"color: white; background-color: #9f9e9d;\">practice - 5 </code>"
   ]
  },
  {
   "cell_type": "code",
   "execution_count": 27,
   "id": "57ddae4d-b43a-4c2d-bed5-661519e5a3f1",
   "metadata": {},
   "outputs": [
    {
     "data": {
      "text/plain": [
       "array([[ 0,  1,  2,  3,  4],\n",
       "       [ 5,  6,  7,  8,  9],\n",
       "       [10, 11, 12, 13, 14],\n",
       "       [15, 16, 17, 18, 19]])"
      ]
     },
     "execution_count": 27,
     "metadata": {},
     "output_type": "execute_result"
    }
   ],
   "source": [
    "\n",
    "a = np.arange(1).reshape(1,1)\n",
    "b = np.arange(20).reshape(4,5)\n",
    "\n",
    "a + b                                   # The array \"a\" is broadcasted from (1,1) to (4,5)  by rule-2\n",
    "                                        # The array \"b\" is now compatible with the array \"a\"\n"
   ]
  },
  {
   "cell_type": "markdown",
   "id": "9568eabd-7957-4aa6-945e-b234f64d9565",
   "metadata": {},
   "source": [
    "\n",
    "<br>\n",
    "\n",
    "<code style=\"color: white; background-color: #9f9e9d;\">practice - 6 </code>"
   ]
  },
  {
   "cell_type": "code",
   "execution_count": 31,
   "id": "10f6e44b-6df9-47dd-8964-c143e70fc7e3",
   "metadata": {},
   "outputs": [
    {
     "ename": "ValueError",
     "evalue": "operands could not be broadcast together with shapes (1,4) (4,5) ",
     "output_type": "error",
     "traceback": [
      "\u001b[1;31m---------------------------------------------------------------------------\u001b[0m",
      "\u001b[1;31mValueError\u001b[0m                                Traceback (most recent call last)",
      "Cell \u001b[1;32mIn[31], line 4\u001b[0m\n\u001b[0;32m      1\u001b[0m a \u001b[38;5;241m=\u001b[39m np\u001b[38;5;241m.\u001b[39marange(\u001b[38;5;241m4\u001b[39m)\u001b[38;5;241m.\u001b[39mreshape(\u001b[38;5;241m1\u001b[39m,\u001b[38;5;241m4\u001b[39m)\n\u001b[0;32m      2\u001b[0m b \u001b[38;5;241m=\u001b[39m np\u001b[38;5;241m.\u001b[39marange(\u001b[38;5;241m20\u001b[39m)\u001b[38;5;241m.\u001b[39mreshape(\u001b[38;5;241m4\u001b[39m,\u001b[38;5;241m5\u001b[39m)\n\u001b[1;32m----> 4\u001b[0m \u001b[43ma\u001b[49m\u001b[43m \u001b[49m\u001b[38;5;241;43m+\u001b[39;49m\u001b[43m \u001b[49m\u001b[43mb\u001b[49m                                   \u001b[38;5;66;03m# The array \"a\" is broadcasted from (1,4) to (4,4)  by rule-2\u001b[39;00m\n\u001b[0;32m      5\u001b[0m                                         \u001b[38;5;66;03m# But the array  b(4,5)  is not compatible with the broadcasted array  a(4,4)\u001b[39;00m\n",
      "\u001b[1;31mValueError\u001b[0m: operands could not be broadcast together with shapes (1,4) (4,5) "
     ]
    }
   ],
   "source": [
    "\n",
    "a = np.arange(4).reshape(1,4)\n",
    "b = np.arange(20).reshape(4,5)\n",
    "\n",
    "a + b                                   # The array \"a\" is broadcasted from (1,4) to (4,4)  by rule-2\n",
    "                                        # But the array  b(4,5)  is not compatible with the broadcasted array  a(4,4)\n"
   ]
  },
  {
   "cell_type": "markdown",
   "id": "ba3af336-72b2-4d85-84a9-a13dc7010e6a",
   "metadata": {},
   "source": [
    "\n",
    "<br>\n",
    "\n",
    "<code style=\"color: white; background-color: #9f9e9d;\">practice - 7 </code>"
   ]
  },
  {
   "cell_type": "code",
   "execution_count": 32,
   "id": "a57c2478-7d8d-4b23-9d81-68ae03f552d3",
   "metadata": {},
   "outputs": [
    {
     "data": {
      "text/plain": [
       "array([[ 0,  2,  4,  6,  8],\n",
       "       [ 5,  7,  9, 11, 13],\n",
       "       [10, 12, 14, 16, 18],\n",
       "       [15, 17, 19, 21, 23]])"
      ]
     },
     "execution_count": 32,
     "metadata": {},
     "output_type": "execute_result"
    }
   ],
   "source": [
    "\n",
    "a = np.arange(5).reshape(1,5)\n",
    "b = np.arange(20).reshape(4,5)\n",
    "\n",
    "a + b                                   # The array \"a\" is broadcasted from (1,4) to (4,5)  by rule-2\n",
    "                                        # The array  b(4,5)  is compatible with the broadcasted array  a(4,5)\n"
   ]
  },
  {
   "cell_type": "markdown",
   "id": "6d6bfaa4-7adf-4948-8565-505df6bc18e4",
   "metadata": {},
   "source": [
    "<br>\n",
    "\n",
    "<span style=\"color: red;\">copyto( )</span>\n",
    "\n",
    "Copies values from one array to another, **broadcasting** as necessary.\n",
    "\n",
    "<code>numpy.<span style=\"color: red;\">copyto</span>(dst, src, casting='same_kind', where=True)</code>"
   ]
  },
  {
   "cell_type": "code",
   "execution_count": 163,
   "id": "00b4eccd-4f8a-4d30-af42-0ff5db14725a",
   "metadata": {},
   "outputs": [
    {
     "name": "stdout",
     "output_type": "stream",
     "text": [
      "[4 5 6]\n",
      "[1, 2, 3]\n",
      "[1 2 3]\n"
     ]
    }
   ],
   "source": [
    "\n",
    "A = np.array([4, 5, 6])\n",
    "B = [1, 2, 3]\n",
    "\n",
    "print(A)                                                                            # OUTPUT:  [4 5 6]\n",
    "print(B)                                                                            # OUTPUT:  [1, 2, 3]\n",
    "\n",
    "np.copyto(A, B)\n",
    "# let's check if the values of array \"B\" is copied into the array \"A\" or not\n",
    "print(A)                                                                            # OUTPUT:  [1 2 3]\n"
   ]
  },
  {
   "cell_type": "code",
   "execution_count": 166,
   "id": "9d0e216b-b4eb-4812-b216-5dd1eee9acc3",
   "metadata": {},
   "outputs": [
    {
     "name": "stdout",
     "output_type": "stream",
     "text": [
      "[[1 2 3]\n",
      " [4 5 6]]\n",
      "[[4, 5, 6], [7, 8, 9]]\n",
      "[[4 5 6]\n",
      " [7 8 9]]\n"
     ]
    }
   ],
   "source": [
    "\n",
    "A = np.array([[1, 2, 3], [4, 5, 6]])\n",
    "B = [[4, 5, 6], [7, 8, 9]]\n",
    "\n",
    "print(A)\n",
    "print(B)\n",
    "\n",
    "np.copyto(A, B)\n",
    "# let's check if the values of array \"B\" is copied into the array \"A\" or not\n",
    "print(A)\n"
   ]
  },
  {
   "cell_type": "markdown",
   "id": "960d1992-a2e5-4d9e-816f-816ea23a8860",
   "metadata": {},
   "source": [
    "<br>\n",
    "\n",
    "<span style=\"color: blue; font-size: 0.95rem;\">**3. &nbsp;Adding and Removing Dimensions**</span>\n",
    "\n",
    "<code>numpy.<span style=\"color: red;\">newaxis()</span></code>  &nbsp;-&nbsp; is used to increase the dimensions of an existing array by one.  <br>\n",
    "<span style=\"margin-left: 135px;\">- &nbsp;It is useful for converting a 1D array into a 2D array or higher dimensions.</span>"
   ]
  },
  {
   "cell_type": "code",
   "execution_count": 161,
   "id": "5f48e509-4ef0-4dbe-bd62-955fb9906fc6",
   "metadata": {},
   "outputs": [],
   "source": [
    "\n",
    "arr = np.array([1, 2, 3])\n"
   ]
  },
  {
   "cell_type": "code",
   "execution_count": 162,
   "id": "f436fe3f-7e1d-4926-8e8f-82dfe3840c00",
   "metadata": {},
   "outputs": [
    {
     "name": "stdout",
     "output_type": "stream",
     "text": [
      "[1 2 3]\n"
     ]
    }
   ],
   "source": [
    "\n",
    "print(arr)\n"
   ]
  },
  {
   "cell_type": "code",
   "execution_count": 163,
   "id": "f5d2da3b-f49b-4cba-b19d-483262095a7a",
   "metadata": {},
   "outputs": [
    {
     "name": "stdout",
     "output_type": "stream",
     "text": [
      "(3,)\n"
     ]
    }
   ],
   "source": [
    "\n",
    "print(arr.shape)                  # OUTPUT: (3,)\n"
   ]
  },
  {
   "cell_type": "code",
   "execution_count": 158,
   "id": "2ec60227-06aa-423e-ab92-dce2bf11c80b",
   "metadata": {},
   "outputs": [
    {
     "name": "stdout",
     "output_type": "stream",
     "text": [
      "[[1]\n",
      " [2]\n",
      " [3]]\n"
     ]
    }
   ],
   "source": [
    "\n",
    "arr_2d = arr[:, np.newaxis]\n",
    "\n",
    "print(arr_2d)\n"
   ]
  },
  {
   "cell_type": "code",
   "execution_count": 164,
   "id": "95893152-65ea-4cf2-b189-f8fad7e5e292",
   "metadata": {},
   "outputs": [
    {
     "name": "stdout",
     "output_type": "stream",
     "text": [
      "(3, 1)\n"
     ]
    }
   ],
   "source": [
    "\n",
    "print(arr_2d.shape)               # OUTPUT: (3, 1)\n"
   ]
  },
  {
   "cell_type": "markdown",
   "id": "33881f46-7f5c-497f-b678-b42545a52a08",
   "metadata": {},
   "source": [
    "<br>\n",
    "\n",
    "<code>numpy.<span style=\"color: red;\">expand_dims()</span></code>  &nbsp;-&nbsp;is used to insert a new axis at a specified position in the array."
   ]
  },
  {
   "cell_type": "code",
   "execution_count": 166,
   "id": "5f9d41d2-a82b-434d-9785-34bdc9bbee94",
   "metadata": {},
   "outputs": [
    {
     "name": "stdout",
     "output_type": "stream",
     "text": [
      "[[1 2 3]]\n",
      "(1, 3)\n"
     ]
    }
   ],
   "source": [
    "\n",
    "arr = np.array([1, 2, 3])\n",
    "expanded_arr = np.expand_dims(arr, axis=0)        # Insert a new axis at position 0\n",
    "print(expanded_arr)\n",
    "print(expanded_arr.shape)                         # OUTPUT: (1, 3)\n"
   ]
  },
  {
   "cell_type": "markdown",
   "id": "a3bb698a-70ee-488f-b695-c8e90972e8c7",
   "metadata": {},
   "source": [
    "\n",
    "<br>\n",
    "\n",
    "<code>numpy.<span style=\"color: red;\">squeeze()</span></code>  &nbsp;-&nbsp; removes axes of length 1 from an array.\n",
    "\n",
    "<span style=\"margin-left: 132px;\">- &nbsp;It is commonly used to reduce the dimensionality of arrays.</span>"
   ]
  },
  {
   "cell_type": "code",
   "execution_count": 168,
   "id": "f4cf0d14-4f19-4e91-9bf9-5d4e682209e3",
   "metadata": {},
   "outputs": [
    {
     "name": "stdout",
     "output_type": "stream",
     "text": [
      "[1 2 3]\n",
      "(3,)\n"
     ]
    }
   ],
   "source": [
    "\n",
    "arr = np.array([[[1, 2, 3]]])          # Shape = (1, 1, 3)\n",
    "squeezed_arr = np.squeeze(arr)\n",
    "print(squeezed_arr)                    # OUTPUT:  [1 2 3]\n",
    "print(squeezed_arr.shape)              # OUTPUT:  (3,)\n"
   ]
  },
  {
   "cell_type": "markdown",
   "id": "d26246c3-7c2d-404e-b686-10269af1ecb7",
   "metadata": {},
   "source": [
    "<br>\n",
    "\n",
    "<span style=\"color: blue; font-size: 0.95rem;\">**4. &nbsp;Joining and Splitting Arrays**</span>\n",
    "\n",
    "<span style=\"color: red; font-size: 1rem;\">**concatenation( )**</span>\n",
    "\n",
    "<code>numpy.<span style=\"color: red;\">concatenate()</span></code>  &nbsp;-&nbsp; joins two or more arrays along a specified (existing) axis.\n",
    "\n",
    "**Syntax &nbsp;-&nbsp;** <code>np.<span style=\"color: red;\">concatenate(<span style=\"color: black;\">(a1,a2,...)</span>, <span style=\"color: black;\">axis=0</span>)</span></code>\n",
    "\n",
    "If the axis is <code>None</code>, the function will **flatten** the arrays before joining.\n",
    "\n",
    "<br>\n",
    "\n",
    "<code style=\"color: black; background-color: #fed1a4;\">Example - 1</code>\n",
    "\n",
    "Using the <span style=\"color: red;\">concatenate( )</span> function to join two **1D** arrays"
   ]
  },
  {
   "cell_type": "code",
   "execution_count": 45,
   "id": "4b322e38-3fe0-4180-aab9-42ab94f87de4",
   "metadata": {},
   "outputs": [
    {
     "name": "stdout",
     "output_type": "stream",
     "text": [
      "[1 2 3 4]\n"
     ]
    }
   ],
   "source": [
    "\n",
    "a = np.array([1, 2])\n",
    "b = np.array([3, 4])\n",
    "\n",
    "\n",
    "c = np.concatenate((a, b))                     # default axis=0   ====>   vertical\n",
    "print(c)\n"
   ]
  },
  {
   "cell_type": "code",
   "execution_count": 46,
   "id": "b0ea5f74-5645-490c-b837-578a84bb716a",
   "metadata": {},
   "outputs": [
    {
     "name": "stdout",
     "output_type": "stream",
     "text": [
      "[1 2 3 4]\n"
     ]
    }
   ],
   "source": [
    "\n",
    "\n",
    "c = np.concatenate((a, b), axis=0)             # default axis=0   ====>   vertical\n",
    "print(c)\n"
   ]
  },
  {
   "cell_type": "code",
   "execution_count": 47,
   "id": "daadae06-b8d7-456d-903f-9b90a35bc7ac",
   "metadata": {},
   "outputs": [
    {
     "name": "stdout",
     "output_type": "stream",
     "text": [
      "[1 2 3 4]\n"
     ]
    }
   ],
   "source": [
    "\n",
    "c = np.concatenate((a, b), axis=None)          # default axis=0   ====>   vertical\n",
    "print(c)\n"
   ]
  },
  {
   "cell_type": "markdown",
   "id": "5c76fd06-6462-4776-866e-db26cbaf7ccd",
   "metadata": {},
   "source": [
    "<br>\n",
    "\n",
    "<code style=\"color: black; background-color: #fed1a4;\">Example - 2A</code>\n",
    "\n",
    "Using the <span style=\"color: red;\">concatenate( )</span> function to join two **2D** arrays"
   ]
  },
  {
   "cell_type": "code",
   "execution_count": 57,
   "id": "cf5876f6-6931-49b9-9664-f6c567ada48e",
   "metadata": {},
   "outputs": [
    {
     "name": "stdout",
     "output_type": "stream",
     "text": [
      "[[1 2]\n",
      " [3 4]]\n"
     ]
    }
   ],
   "source": [
    "\n",
    "arr1 = np.array([[1, 2], [3, 4]])\n",
    "\n",
    "print(arr1)\n"
   ]
  },
  {
   "cell_type": "code",
   "execution_count": 58,
   "id": "54ec8b84-65c1-4bcf-b3bd-25766a2e14c7",
   "metadata": {},
   "outputs": [
    {
     "name": "stdout",
     "output_type": "stream",
     "text": [
      "[[5 6]]\n"
     ]
    }
   ],
   "source": [
    "\n",
    "arr2 = np.array([[5, 6]])\n",
    "\n",
    "print(arr2)\n"
   ]
  },
  {
   "cell_type": "code",
   "execution_count": 59,
   "id": "c5845a55-d3d9-4545-b398-35e252f3662b",
   "metadata": {},
   "outputs": [
    {
     "name": "stdout",
     "output_type": "stream",
     "text": [
      "[[1 2]\n",
      " [3 4]\n",
      " [5 6]]\n"
     ]
    }
   ],
   "source": [
    "\n",
    "concatenated_arr = []\n",
    "concatenated_arr = np.concatenate((arr1, arr2), axis=0)\n",
    "\n",
    "print(concatenated_arr)\n"
   ]
  },
  {
   "cell_type": "code",
   "execution_count": 60,
   "id": "7d172b31-976a-4335-b07e-dd846262b5c8",
   "metadata": {},
   "outputs": [
    {
     "ename": "ValueError",
     "evalue": "all the input array dimensions for the concatenation axis must match exactly, but along dimension 0, the array at index 0 has size 2 and the array at index 1 has size 1",
     "output_type": "error",
     "traceback": [
      "\u001b[1;31m---------------------------------------------------------------------------\u001b[0m",
      "\u001b[1;31mValueError\u001b[0m                                Traceback (most recent call last)",
      "Cell \u001b[1;32mIn[60], line 2\u001b[0m\n\u001b[0;32m      1\u001b[0m concatenated_arr \u001b[38;5;241m=\u001b[39m []\n\u001b[1;32m----> 2\u001b[0m concatenated_arr \u001b[38;5;241m=\u001b[39m \u001b[43mnp\u001b[49m\u001b[38;5;241;43m.\u001b[39;49m\u001b[43mconcatenate\u001b[49m\u001b[43m(\u001b[49m\u001b[43m(\u001b[49m\u001b[43marr1\u001b[49m\u001b[43m,\u001b[49m\u001b[43m \u001b[49m\u001b[43marr2\u001b[49m\u001b[43m)\u001b[49m\u001b[43m,\u001b[49m\u001b[43m \u001b[49m\u001b[43maxis\u001b[49m\u001b[38;5;241;43m=\u001b[39;49m\u001b[38;5;241;43m1\u001b[39;49m\u001b[43m)\u001b[49m\n\u001b[0;32m      4\u001b[0m \u001b[38;5;28mprint\u001b[39m(concatenated_arr)\n",
      "File \u001b[1;32m<__array_function__ internals>:180\u001b[0m, in \u001b[0;36mconcatenate\u001b[1;34m(*args, **kwargs)\u001b[0m\n",
      "\u001b[1;31mValueError\u001b[0m: all the input array dimensions for the concatenation axis must match exactly, but along dimension 0, the array at index 0 has size 2 and the array at index 1 has size 1"
     ]
    }
   ],
   "source": [
    "\n",
    "concatenated_arr = []\n",
    "concatenated_arr = np.concatenate((arr1, arr2), axis=1)\n",
    "\n",
    "print(concatenated_arr)\n"
   ]
  },
  {
   "cell_type": "markdown",
   "id": "44f7b898-a14c-4847-8266-a6896bc52764",
   "metadata": {},
   "source": [
    "<br>\n",
    "\n",
    "<code style=\"color: black; background-color: #fed1a4;\">Example - 2B</code>\n",
    "\n",
    "Using the <span style=\"color: red;\">concatenate( )</span> function to join two **2D** arrays"
   ]
  },
  {
   "cell_type": "code",
   "execution_count": 61,
   "id": "49ac351b-0861-4d9a-82ee-a9a9f170f471",
   "metadata": {},
   "outputs": [
    {
     "name": "stdout",
     "output_type": "stream",
     "text": [
      "[[1 2]\n",
      " [3 4]]\n"
     ]
    }
   ],
   "source": [
    "\n",
    "arr1 = np.array([[1, 2], [3, 4]])\n",
    "\n",
    "print(arr1)\n"
   ]
  },
  {
   "cell_type": "code",
   "execution_count": 62,
   "id": "7f1a91bf-7848-4cfe-9c6e-39efde884fec",
   "metadata": {},
   "outputs": [
    {
     "name": "stdout",
     "output_type": "stream",
     "text": [
      "[[5 6]\n",
      " [7 8]]\n"
     ]
    }
   ],
   "source": [
    "\n",
    "arr2 = np.array([[5, 6], [7, 8]])\n",
    "\n",
    "print(arr2)\n"
   ]
  },
  {
   "cell_type": "code",
   "execution_count": 65,
   "id": "87252669-6267-47d6-8f8f-b7e39325fc7f",
   "metadata": {},
   "outputs": [
    {
     "name": "stdout",
     "output_type": "stream",
     "text": [
      "[[1 2]\n",
      " [3 4]\n",
      " [5 6]\n",
      " [7 8]]\n"
     ]
    }
   ],
   "source": [
    "\n",
    "concatenated_arr = []\n",
    "concatenated_arr = np.concatenate((arr1, arr2), axis=0)         # concatenated_arr = np.concatenate((arr1, arr2))\n",
    "\n",
    "print(concatenated_arr)\n"
   ]
  },
  {
   "cell_type": "code",
   "execution_count": 66,
   "id": "49024eec-fe44-4a2c-86e0-e0c5b09431d2",
   "metadata": {},
   "outputs": [
    {
     "name": "stdout",
     "output_type": "stream",
     "text": [
      "[[1 2 5 6]\n",
      " [3 4 7 8]]\n"
     ]
    }
   ],
   "source": [
    "\n",
    "concatenated_arr = []\n",
    "concatenated_arr = np.concatenate((arr1, arr2), axis=1)\n",
    "\n",
    "print(concatenated_arr)\n"
   ]
  },
  {
   "cell_type": "markdown",
   "id": "dc64f5f2-0528-4c86-ae6c-fd1f9f553114",
   "metadata": {},
   "source": [
    "<br>\n",
    "\n",
    "#### <span style=\"color: red;\">stack</span>"
   ]
  },
  {
   "cell_type": "markdown",
   "id": "2a475834-7853-45fb-99ef-c3b832e7f14b",
   "metadata": {},
   "source": [
    "<br>\n",
    "\n",
    "<code>numpy.<span style=\"color: red;\">stack()</span></code>  &nbsp;-&nbsp; joins a sequence of arrays along a new axis. <br>\n",
    "<span style=\"margin-left: 118px;\">- &nbsp;stacks one or more arrays into a **single array**</span>  <br>\n",
    "<span style=\"margin-left: 118px;\">- &nbsp;The important thing to note is that this function creates a new dimension in the resulting array.</span> <br>\n",
    "<span style=\"margin-left: 118px;\">- &nbsp;<span style=\"color: blue;\">(a1, a2, …)</span> is a sequence of arrays with **ndarray** type or **array-like objects**. &nbsp;All arrays a1, a2, .. **must have the same shape**.</span>\n",
    "\n",
    "<code>numpy.<span style=\"color: red;\">stack<span style=\"font-size: 1.1rem;\">(</span><span style=\"color: black;\">(a1,a2,...)</span>, <span style=\"color: black;\">axis=0</span><span style=\"font-size: 1.1rem;\">)</span></span></code>\n",
    "\n",
    "<br>\n",
    "\n",
    "<span style=\"color: #c658fc;\">1) Using &nbsp;<code style=\"color: red;\">stack()</code>&nbsp; function to join one **1D** arrays</span>"
   ]
  },
  {
   "cell_type": "code",
   "execution_count": 49,
   "id": "2bb785c3-1c1f-495d-a507-11027db251d0",
   "metadata": {},
   "outputs": [
    {
     "name": "stdout",
     "output_type": "stream",
     "text": [
      "[[1 2]\n",
      " [3 4]]\n"
     ]
    }
   ],
   "source": [
    "\n",
    "a = np.array([1, 2])                    # 1D\n",
    "b = np.array([3, 4])                    # 1D\n",
    "\n",
    "c = np.stack((a, b))                    # 2D   ----->   1st array is stacked under 2nd array\n",
    "# c = np.stack((a, b), axis=0)\n",
    "print(c)\n"
   ]
  },
  {
   "cell_type": "markdown",
   "id": "59c53792-319d-49af-a1de-f01b8ea4e1f6",
   "metadata": {},
   "source": [
    "<div style=\"margin-left: 130px;\">\n",
    "\n",
    "![](../media/numpy1.PNG)\n",
    "\n",
    "</div>"
   ]
  },
  {
   "cell_type": "code",
   "execution_count": 48,
   "id": "65c445b9-6b06-42dd-a2b9-122e437794c3",
   "metadata": {},
   "outputs": [
    {
     "name": "stdout",
     "output_type": "stream",
     "text": [
      "[[1 3]\n",
      " [2 4]]\n"
     ]
    }
   ],
   "source": [
    "\n",
    "a = np.array([1, 2])                    # 1D\n",
    "b = np.array([3, 4])                    # 1D\n",
    "\n",
    "\n",
    "c = np.stack((a, b), axis=1)            # 2D   ----->   each element in the array \"a\" will be mapped with the corresponding element in the array \"b\"\n",
    "                                        #               [1  ---------------->  3]\n",
    "                                        #               [2  ---------------->  4]\n",
    "\n",
    "\n",
    "print(c)\n"
   ]
  },
  {
   "cell_type": "markdown",
   "id": "2b7afd6b-f394-4e91-b4ba-6c827eac7197",
   "metadata": {},
   "source": [
    "<div style=\"margin-left: 165px;\">\n",
    "\n",
    "![](../media/numpy2.PNG)\n",
    "\n",
    "</div>"
   ]
  },
  {
   "cell_type": "markdown",
   "id": "a33e03af-431e-40b4-b388-af5fa42def88",
   "metadata": {},
   "source": [
    "<br>\n",
    "\n",
    "<span style=\"color: #c658fc;\">2) Using &nbsp;<code style=\"color: red;\">stack()</code>&nbsp; function to join two **2D** arrays</span>"
   ]
  },
  {
   "cell_type": "code",
   "execution_count": 45,
   "id": "ef02ba3a-87e9-4c81-8a7a-14e882da50ef",
   "metadata": {},
   "outputs": [
    {
     "name": "stdout",
     "output_type": "stream",
     "text": [
      "[[[1 2]\n",
      "  [3 4]]\n",
      "\n",
      " [[5 6]\n",
      "  [7 8]]]\n",
      "(2, 2, 2)\n"
     ]
    }
   ],
   "source": [
    "\n",
    "a = np.array([\n",
    "    [1, 2],\n",
    "    [3, 4]\n",
    "])                                       # 2D\n",
    "\n",
    "\n",
    "b = np.array([\n",
    "    [5, 6],\n",
    "    [7, 8]\n",
    "])                                       # 2D\n",
    "\n",
    "\n",
    "c = np.stack((a, b))                     # 3D  ----->  1st array is stacked under 2nd array\n",
    "# c = np.stack((a, b), axis=0)\n",
    "print(c)\n",
    "print(c.shape)\n"
   ]
  },
  {
   "cell_type": "markdown",
   "id": "ea95b91b-ee0d-409a-92c1-c75f232c7e40",
   "metadata": {},
   "source": [
    "<div style=\"margin-left: 111px;\">\n",
    "\n",
    "![](../media/numpy3.PNG)\n",
    "\n",
    "</div>"
   ]
  },
  {
   "cell_type": "code",
   "execution_count": 44,
   "id": "b20e0ff7-a0f1-4142-9b98-470aec3fe0ad",
   "metadata": {},
   "outputs": [
    {
     "name": "stdout",
     "output_type": "stream",
     "text": [
      "[[[1 2]\n",
      "  [5 6]]\n",
      "\n",
      " [[3 4]\n",
      "  [7 8]]]\n",
      "(2, 2, 2)\n"
     ]
    }
   ],
   "source": [
    "\n",
    "a = np.array([\n",
    "    [1, 2],\n",
    "    [3, 4]\n",
    "])                                     # 2D\n",
    "\n",
    "\n",
    "b = np.array([\n",
    "    [5, 6],\n",
    "    [7, 8]\n",
    "])                                     # 2D\n",
    "\n",
    "\n",
    "c = np.stack((a, b), axis=1)           # 3D  ----->  each row (1*2 shaped) in the array \"a\" will be mapped with the corresponding row in the array \"b\"\n",
    "                                       #             [1, 2]  ------------>  [5, 6]\n",
    "                                       #             [3, 4]  ------------>  [7, 8]\n",
    "\n",
    "print(c)\n",
    "print(c.shape)\n",
    "     "
   ]
  },
  {
   "cell_type": "markdown",
   "id": "a9ece065-fdc0-42c5-bb89-04ecf6bc05ba",
   "metadata": {},
   "source": [
    "<div style=\"margin-left: 172px;\">\n",
    "\n",
    "![](../media/numpy4.PNG)\n",
    "\n",
    "</div>"
   ]
  },
  {
   "cell_type": "code",
   "execution_count": 50,
   "id": "b20be493-1ce3-402d-a7bb-94158a381a0e",
   "metadata": {},
   "outputs": [
    {
     "name": "stdout",
     "output_type": "stream",
     "text": [
      "[[[1 5]\n",
      "  [2 6]]\n",
      "\n",
      " [[3 7]\n",
      "  [4 8]]]\n",
      "\n",
      " (2, 2, 2)\n"
     ]
    }
   ],
   "source": [
    "\n",
    "a = np.array([\n",
    "    [1, 2],\n",
    "    [3, 4]\n",
    "])                                 # 2D\n",
    "\n",
    "\n",
    "b = np.array([\n",
    "    [5, 6],\n",
    "    [7, 8]\n",
    "])                                 # 2D\n",
    "\n",
    "\n",
    "c = np.stack((a, b), axis=2)       # 3D  --->  each element (1*1 shaped) in the array \"a\" will be mapped with the corresponding element in the array \"b\"\n",
    "                                   #           [1  ----------------->  5]\n",
    "                                   #           [2  ----------------->  6]\n",
    "                                   #           [3  ----------------->  7]\n",
    "                                   #           [4  ----------------->  8]\n",
    "\n",
    "\n",
    "print(c)\n",
    "print(\"\\n\", c.shape)\n"
   ]
  },
  {
   "cell_type": "markdown",
   "id": "ee41e559-db47-45f0-8b91-911e030bb1fb",
   "metadata": {},
   "source": [
    "<div style=\"margin-left: 170px;\">\n",
    "\n",
    "![](../media/numpy5.PNG)\n",
    "\n",
    "</div>"
   ]
  },
  {
   "cell_type": "markdown",
   "id": "295b7a9e-3b65-47b7-a388-585ba2678660",
   "metadata": {},
   "source": [
    "\n",
    "<span style=\"color: #c658fc;\">3) Using &nbsp;<code style=\"color: red;\">stack()</code>&nbsp; function to join two **3D** arrays</span>"
   ]
  },
  {
   "cell_type": "code",
   "execution_count": 28,
   "id": "4a0cc7ea-9e4f-4d40-803e-592ce64136c8",
   "metadata": {},
   "outputs": [
    {
     "name": "stdout",
     "output_type": "stream",
     "text": [
      "[[[[ 1  2]\n",
      "   [ 3  4]]\n",
      "\n",
      "  [[ 5  6]\n",
      "   [ 7  8]]]\n",
      "\n",
      "\n",
      " [[[ 9 10]\n",
      "   [11 12]]\n",
      "\n",
      "  [[13 14]\n",
      "   [15 16]]]]\n",
      "\n",
      " (2, 2, 2, 2)\n"
     ]
    }
   ],
   "source": [
    "\n",
    "a = np.array([ \n",
    "    [[1, 2], [3, 4]], \n",
    "    [[5, 6], [7, 8]] \n",
    "])                                      # 3D\n",
    "\n",
    "b = np.array([ \n",
    "    [[9, 10], [11, 12]], \n",
    "    [[13, 14], [15, 16]] \n",
    "])                                      # 3D\n",
    "\n",
    "c = np.stack((a, b), axis=0)            # 4D   ----->   1st array is stacked under 2nd array\n",
    "print(c)\n",
    "print(\"\\n\", c.shape)\n"
   ]
  },
  {
   "cell_type": "markdown",
   "id": "ab1f7ed5-605d-4684-9ecb-2db2c9f2247b",
   "metadata": {},
   "source": [
    "<br>\n",
    "\n",
    "<div style=\"margin-left: 170px;\">\n",
    "\n",
    "![](../media/numpy6.PNG)\n",
    "\n",
    "</div>"
   ]
  },
  {
   "cell_type": "code",
   "execution_count": 122,
   "id": "313fa712-dea3-4b62-9cce-eb5a64793354",
   "metadata": {},
   "outputs": [
    {
     "name": "stdout",
     "output_type": "stream",
     "text": [
      "[[[[ 1  2]\n",
      "   [ 3  4]]\n",
      "\n",
      "  [[ 9 10]\n",
      "   [11 12]]]\n",
      "\n",
      "\n",
      " [[[ 5  6]\n",
      "   [ 7  8]]\n",
      "\n",
      "  [[13 14]\n",
      "   [15 16]]]]\n",
      "\n",
      " (2, 2, 2, 2)\n"
     ]
    }
   ],
   "source": [
    "\n",
    "a = np.array([ \n",
    "    [[1, 2], [3, 4]],\n",
    "    [[5, 6], [7, 8]] \n",
    "])                                    # 3D\n",
    "\n",
    "\n",
    "b = np.array([ \n",
    "    [[9, 10], [11, 12]], \n",
    "    [[13, 14], [15, 16]] \n",
    "])                                    # 3D\n",
    "\n",
    "\n",
    "c = np.stack((a, b), axis=1)          # 4D  --->  each 2*2 shaped element in array \"a\" is mapped with the corresponding 2*2 shaped element in array \"b\"\n",
    "                                      #           [[1, 2], [3, 4]]    ------->    [[9, 10], [11, 12]]\n",
    "                                      #           [[5, 6], [7, 8]]    ------->    [[13, 14], [15, 16]]  \n",
    "\n",
    "print(c)                                          \n",
    "print(\"\\n\", c.shape)\n"
   ]
  },
  {
   "cell_type": "markdown",
   "id": "d5778822-97ba-4c77-a286-ca2547a1b8c6",
   "metadata": {},
   "source": [
    "<br>\n",
    "\n",
    "<div style=\"margin-left: 75px;\">\n",
    "\n",
    "![](../media/numpy7.PNG)\n",
    "\n",
    "</div>"
   ]
  },
  {
   "cell_type": "code",
   "execution_count": 41,
   "id": "1d64989c-00b1-4147-aa98-45e0720004a0",
   "metadata": {},
   "outputs": [
    {
     "name": "stdout",
     "output_type": "stream",
     "text": [
      "[[[[ 1  2]\n",
      "   [ 9 10]]\n",
      "\n",
      "  [[ 3  4]\n",
      "   [11 12]]]\n",
      "\n",
      "\n",
      " [[[ 5  6]\n",
      "   [13 14]]\n",
      "\n",
      "  [[ 7  8]\n",
      "   [15 16]]]]\n",
      "\n",
      " (2, 2, 2, 2)\n"
     ]
    }
   ],
   "source": [
    "\n",
    "a = np.array([ \n",
    "    [[1, 2], [3, 4]], \n",
    "    [[5, 6], [7, 8]] \n",
    "])                                     # 3D\n",
    "\n",
    "\n",
    "b = np.array([ \n",
    "    [[9, 10], [11, 12]], \n",
    "    [[13, 14], [15, 16]] \n",
    "])                                     # 3D\n",
    "\n",
    "\n",
    "c = np.stack((a, b), axis=2)           # 4D  ---->  each row (1*2 shaped element) of the array \"a\" is mapped with the corresponding row of the array \"b\"\n",
    "                                       #            [1, 2]   ------>   [9, 10]\n",
    "                                       #            [3, 4]   ------>   [11, 12]\n",
    "                                       #            [5,6]    ------>   [13, 14]\n",
    "                                       #            [7,8]    ------>   [15, 16]\n",
    "\n",
    "\n",
    "print(c)\n",
    "print(\"\\n\", c.shape)\n"
   ]
  },
  {
   "cell_type": "markdown",
   "id": "63afbe57-38f3-4ef2-a781-0bb2188fdc65",
   "metadata": {},
   "source": [
    "<br>\n",
    "\n",
    "<div style=\"margin-left: 75px;\">\n",
    "\n",
    "![](../media/numpy8.PNG)\n",
    "\n",
    "</div>"
   ]
  },
  {
   "cell_type": "code",
   "execution_count": 39,
   "id": "8f4b02c8-4bb0-4519-b078-73b90c26e0b5",
   "metadata": {},
   "outputs": [
    {
     "name": "stdout",
     "output_type": "stream",
     "text": [
      "[[[[ 1  9]\n",
      "   [ 2 10]]\n",
      "\n",
      "  [[ 3 11]\n",
      "   [ 4 12]]]\n",
      "\n",
      "\n",
      " [[[ 5 13]\n",
      "   [ 6 14]]\n",
      "\n",
      "  [[ 7 15]\n",
      "   [ 8 16]]]]\n",
      "\n",
      " (2, 2, 2, 2)\n"
     ]
    }
   ],
   "source": [
    "\n",
    "a = np.array([ \n",
    "    [[1, 2], [3, 4]], \n",
    "    [[5, 6], [7, 8]] \n",
    "])                                    # 3D\n",
    "\n",
    "\n",
    "b = np.array([ \n",
    "    [[9, 10], [11, 12]], \n",
    "    [[13, 14], [15, 16]] \n",
    "])                                    # 3D\n",
    "\n",
    "\n",
    "c = np.stack((a, b), axis=3)          # 4D  ---->  each 1*1 shaped element of the array \"a\" is mapped with the corresponding element of the array \"b\"\n",
    "                                      #            [1 ===> 9 , 2 ===> 10]\n",
    "                                      #            [3 ===> 11, 4 ===> 12]\n",
    "                                      #            [5 ===> 13, 6 ===> 14]\n",
    "                                      #            [7 ===> 15, 8 ===> 16]\n",
    "\n",
    "\n",
    "print(c)\n",
    "print(\"\\n\", c.shape)\n"
   ]
  },
  {
   "cell_type": "markdown",
   "id": "9b96b9d2-8b99-4e58-b7a8-3230c66530e2",
   "metadata": {},
   "source": [
    "<br>\n",
    "\n",
    "Diificult to show the 4D diagram but easy to imagine it following the pattern from the above examples."
   ]
  },
  {
   "cell_type": "markdown",
   "id": "6b71d11b-5cef-4e71-bee8-cbb8b084df2c",
   "metadata": {
    "jp-MarkdownHeadingCollapsed": true
   },
   "source": [
    "<br>\n",
    "\n",
    "#### <span style=\"color: red;\">vstack</span>"
   ]
  },
  {
   "cell_type": "markdown",
   "id": "050fbba8-c941-41af-9d0d-6cac8f547249",
   "metadata": {},
   "source": [
    "Stack arrays in sequence **vertically** (row wise)."
   ]
  },
  {
   "cell_type": "code",
   "execution_count": 55,
   "id": "c2dafe92-53d6-445b-b68f-5785a3c06e00",
   "metadata": {},
   "outputs": [
    {
     "data": {
      "text/plain": [
       "array([[1, 2, 3],\n",
       "       [4, 5, 6]])"
      ]
     },
     "execution_count": 55,
     "metadata": {},
     "output_type": "execute_result"
    }
   ],
   "source": [
    "\n",
    "a = np.array([1, 2, 3])\n",
    "b = np.array([4, 5, 6])\n",
    "np.vstack((a,b))\n"
   ]
  },
  {
   "cell_type": "code",
   "execution_count": 56,
   "id": "4bbe6e34-64a6-4cb2-b139-5cc873e6c03f",
   "metadata": {},
   "outputs": [
    {
     "data": {
      "text/plain": [
       "array([[1],\n",
       "       [2],\n",
       "       [3],\n",
       "       [4],\n",
       "       [5],\n",
       "       [6]])"
      ]
     },
     "execution_count": 56,
     "metadata": {},
     "output_type": "execute_result"
    }
   ],
   "source": [
    "\n",
    "a = np.array([[1], [2], [3]])\n",
    "b = np.array([[4], [5], [6]])\n",
    "np.vstack((a,b))\n"
   ]
  },
  {
   "cell_type": "code",
   "execution_count": 57,
   "id": "dfa63172-09ed-45e9-b8aa-282e5e1d8c47",
   "metadata": {},
   "outputs": [
    {
     "data": {
      "text/plain": [
       "array([[1, 2],\n",
       "       [3, 4],\n",
       "       [5, 6],\n",
       "       [7, 8]])"
      ]
     },
     "execution_count": 57,
     "metadata": {},
     "output_type": "execute_result"
    }
   ],
   "source": [
    "\n",
    "a = np.array([\n",
    "    [1, 2],\n",
    "    [3, 4]\n",
    "])                                 # 2D\n",
    "\n",
    "\n",
    "b = np.array([\n",
    "    [5, 6],\n",
    "    [7, 8]\n",
    "])                                 # 2D\n",
    "\n",
    "np.vstack((a,b))\n"
   ]
  },
  {
   "cell_type": "markdown",
   "id": "33d06da0-50fb-4643-af8d-fdfd9db38af8",
   "metadata": {
    "jp-MarkdownHeadingCollapsed": true
   },
   "source": [
    "<br>\n",
    "\n",
    "#### <span style=\"color: red;\">hstack</span>"
   ]
  },
  {
   "cell_type": "markdown",
   "id": "d1b0ff89-d008-42f9-a76d-ebda55d9b0e5",
   "metadata": {},
   "source": [
    "Stack arrays in sequence **horizontally** (column wise) =====> along 2nd axis (axis = 1)."
   ]
  },
  {
   "cell_type": "code",
   "execution_count": 59,
   "id": "b8405c52-88a3-4be8-8827-f02bcacf6069",
   "metadata": {},
   "outputs": [
    {
     "data": {
      "text/plain": [
       "array([1, 2, 3, 4, 5, 6])"
      ]
     },
     "execution_count": 59,
     "metadata": {},
     "output_type": "execute_result"
    }
   ],
   "source": [
    "\n",
    "a = np.array((1,2,3))\n",
    "b = np.array((4,5,6))\n",
    "np.hstack((a,b))\n"
   ]
  },
  {
   "cell_type": "code",
   "execution_count": 60,
   "id": "8568f8dc-ee3e-4746-a65f-a4e150eef16d",
   "metadata": {},
   "outputs": [
    {
     "data": {
      "text/plain": [
       "array([[1, 4],\n",
       "       [2, 5],\n",
       "       [3, 6]])"
      ]
     },
     "execution_count": 60,
     "metadata": {},
     "output_type": "execute_result"
    }
   ],
   "source": [
    "\n",
    "a = np.array([[1],[2],[3]])\n",
    "b = np.array([[4],[5],[6]])\n",
    "np.hstack((a,b))\n"
   ]
  },
  {
   "cell_type": "code",
   "execution_count": 62,
   "id": "02b38df5-37da-42bc-8006-ebd186cc98a5",
   "metadata": {},
   "outputs": [
    {
     "data": {
      "text/plain": [
       "array([[1, 2, 5, 6],\n",
       "       [3, 4, 7, 8]])"
      ]
     },
     "execution_count": 62,
     "metadata": {},
     "output_type": "execute_result"
    }
   ],
   "source": [
    "\n",
    "a = np.array([\n",
    "    [1, 2],\n",
    "    [3, 4]\n",
    "])                                 # 2D\n",
    "\n",
    "\n",
    "b = np.array([\n",
    "    [5, 6],\n",
    "    [7, 8]\n",
    "])                                 # 2D\n",
    "\n",
    "np.hstack((a,b))\n"
   ]
  },
  {
   "cell_type": "markdown",
   "id": "9524d351-f941-41d0-8174-b2cc35f6c12a",
   "metadata": {},
   "source": [
    "<br>\n",
    "\n",
    "#### <span style=\"color: red;\">dstack</span>"
   ]
  },
  {
   "cell_type": "markdown",
   "id": "1478a620-73d2-4c31-a32e-c78a4520aa08",
   "metadata": {},
   "source": [
    "\n",
    "Stack arrays in sequence depth wise (along 3rd axis i.e, axis = 2).\n"
   ]
  },
  {
   "cell_type": "code",
   "execution_count": 66,
   "id": "f0481181-feda-4f72-a2c5-b4e9a72a33c1",
   "metadata": {},
   "outputs": [
    {
     "data": {
      "text/plain": [
       "array([[[1, 4],\n",
       "        [2, 5],\n",
       "        [3, 6]]])"
      ]
     },
     "execution_count": 66,
     "metadata": {},
     "output_type": "execute_result"
    }
   ],
   "source": [
    "\n",
    "\n",
    "a = np.array((1,2,3))\n",
    "b = np.array((4,5,6))\n",
    "np.dstack((a,b))\n"
   ]
  },
  {
   "cell_type": "code",
   "execution_count": 68,
   "id": "702d625b-f242-4e91-b636-770559380b32",
   "metadata": {},
   "outputs": [
    {
     "data": {
      "text/plain": [
       "array([[[1, 4]],\n",
       "\n",
       "       [[2, 5]],\n",
       "\n",
       "       [[3, 6]]])"
      ]
     },
     "execution_count": 68,
     "metadata": {},
     "output_type": "execute_result"
    }
   ],
   "source": [
    "\n",
    "a = np.array([[1],[2],[3]])\n",
    "b = np.array([[4],[5],[6]])\n",
    "np.dstack((a,b))\n"
   ]
  },
  {
   "cell_type": "code",
   "execution_count": 69,
   "id": "63ff77c6-574a-4611-9eec-f31b4cc5e444",
   "metadata": {},
   "outputs": [
    {
     "data": {
      "text/plain": [
       "array([[[1, 5],\n",
       "        [2, 6]],\n",
       "\n",
       "       [[3, 7],\n",
       "        [4, 8]]])"
      ]
     },
     "execution_count": 69,
     "metadata": {},
     "output_type": "execute_result"
    }
   ],
   "source": [
    "\n",
    "\n",
    "a = np.array([\n",
    "    [1, 2],\n",
    "    [3, 4]\n",
    "])                                 # 2D\n",
    "\n",
    "\n",
    "b = np.array([\n",
    "    [5, 6],\n",
    "    [7, 8]\n",
    "])                                 # 2D\n",
    "\n",
    "np.dstack((a,b))\n"
   ]
  },
  {
   "cell_type": "code",
   "execution_count": null,
   "id": "bd0eb2b1-ffe4-415d-9656-148fec82e5c2",
   "metadata": {},
   "outputs": [],
   "source": []
  },
  {
   "cell_type": "code",
   "execution_count": null,
   "id": "999f36e1-c5bc-4cf0-9849-fddd388a886b",
   "metadata": {},
   "outputs": [],
   "source": []
  },
  {
   "cell_type": "code",
   "execution_count": null,
   "id": "3e23ee5b-b984-496e-909d-259b369569cc",
   "metadata": {},
   "outputs": [],
   "source": []
  },
  {
   "cell_type": "code",
   "execution_count": null,
   "id": "ea4a57c0-5934-4df1-8056-c3660c38d68a",
   "metadata": {},
   "outputs": [],
   "source": []
  },
  {
   "cell_type": "markdown",
   "id": "ceef0bca-7934-4dbb-b8cd-91db5cddc1fe",
   "metadata": {
    "jp-MarkdownHeadingCollapsed": true
   },
   "source": [
    "<br>\n",
    "\n",
    "#### <span style=\"color: red;\">column_stack</span>"
   ]
  },
  {
   "cell_type": "markdown",
   "id": "c249125c-374a-4ba5-afbc-d66f0545a439",
   "metadata": {},
   "source": [
    "<code>numpy.<span style=\"color: red;\">column_stack</span>(tup)</code>   &nbsp;&nbsp;====>&nbsp;&nbsp;   where tup = a sequence of 1D or 2D arrays to be stacked as columns.\n",
    "\n",
    "Key Points:\n",
    "\n",
    "===> &nbsp;If the input arrays are 1D, they are stacked as columns into a 2D array. &nbsp;&nbsp;1-D arrays are turned into 2-D columns first.  <br>\n",
    "===> &nbsp;If the input arrays are already 2D, they are concatenated along the second axis (i.e., axis=1) like hstack.  <br>\n",
    "===> &nbsp;**The resulting array will always be 2D.**\n"
   ]
  },
  {
   "cell_type": "code",
   "execution_count": 53,
   "id": "afdb17c8-bd28-47ab-b182-7e62b0b4ad46",
   "metadata": {},
   "outputs": [
    {
     "name": "stdout",
     "output_type": "stream",
     "text": [
      "[[1 4]\n",
      " [2 5]\n",
      " [3 6]]\n"
     ]
    }
   ],
   "source": [
    "\n",
    "a = np.array([1, 2, 3])\n",
    "b = np.array([4, 5, 6])\n",
    "\n",
    "# Stack the 1D arrays as columns\n",
    "result = np.column_stack((a, b))\n",
    "\n",
    "print(result)\n"
   ]
  },
  {
   "cell_type": "code",
   "execution_count": 51,
   "id": "fc3f71f0-0a71-4e66-a06f-462b26a34272",
   "metadata": {},
   "outputs": [
    {
     "name": "stdout",
     "output_type": "stream",
     "text": [
      "[[1 2 5 6]\n",
      " [3 4 7 8]]\n",
      "(2, 4)\n"
     ]
    }
   ],
   "source": [
    "\n",
    "a = np.array([\n",
    "    [1, 2],\n",
    "    [3, 4]\n",
    "])\n",
    "\n",
    "b = np.array([\n",
    "    [5, 6],\n",
    "    [7, 8]\n",
    "])\n",
    "\n",
    "c = np.column_stack((a, b))\n",
    "print(c)\n",
    "print(c.shape)\n"
   ]
  },
  {
   "cell_type": "markdown",
   "id": "1af499d0-af57-4fc2-bd76-4daad80b81c1",
   "metadata": {},
   "source": [
    "<br>\n",
    "\n",
    "#### <span style=\"color: red;\">split()</span>"
   ]
  },
  {
   "cell_type": "markdown",
   "id": "d0a87632-32ce-4cd6-b97a-ecbbb329e313",
   "metadata": {},
   "source": [
    "\n",
    "The <code style=\"color: red;\">split()</code> splits an array into multiple sub-arrays as views.\n",
    "\n",
    "**Syntax :** &nbsp;&nbsp;<code>numpy.<span style=\"color: red;\">split</span>(arr, indices_or_sections, axis=0)</code>\n",
    "\n",
    "<div style=\"margin-left: 100px;\">\n",
    "    \n",
    "where, <code>arr</code> is the array to be split into subarrays, and <br>\n",
    "\n",
    "<code style=\"margin-left: 45px;\">indices_or_sections</code> can be an integer or a 1-D array of sorted integers\n",
    "\n",
    "<div style=\"margin-left: 60px;\">\n",
    "    \n",
    "- If it is an integer, the function splits the input array into N equal arrays along the axis. If the split is not possible, the function will raise an error.\n",
    "\n",
    "- If indices_or_sections is a 1D array of sorted integers, the indices indicate where along the axis the function splits the array.\n",
    "</div>\n",
    "\n",
    "</div>"
   ]
  },
  {
   "cell_type": "markdown",
   "id": "c6a30c41-a25b-4ac8-b020-286375c111ce",
   "metadata": {},
   "source": [
    "\n",
    "<div style=\"margin-left: 130px;\">\n",
    "\n",
    "The following picture shows how the <code style=\"color: red;\">split()</code> function splits the array with indices 2, 3, and 4. It results in 4 arrays.\n",
    "\n",
    "![](../media/numpy_split1.PNG)\n",
    "\n",
    "</div>"
   ]
  },
  {
   "cell_type": "markdown",
   "id": "5c80b42a-bcf0-4532-beb3-326ea23c9036",
   "metadata": {},
   "source": [
    "\n",
    "1) Using the <code style=\"color: red;\">split()</code> function to split a **1D** array"
   ]
  },
  {
   "cell_type": "code",
   "execution_count": 107,
   "id": "964e7ba1-b5dc-411b-aa1e-ad5a58d1fc80",
   "metadata": {},
   "outputs": [
    {
     "name": "stdout",
     "output_type": "stream",
     "text": [
      "[1 2 3 4 5 6]\n",
      "[array([1, 2]), array([3, 4]), array([5, 6])]\n"
     ]
    }
   ],
   "source": [
    "\n",
    "a = np.arange(1,7)            # [1 2 3 4 5 6]\n",
    "results = np.split(a,3)       # It is possible to split the array \"a\" into 3 equal parts, hence no error\n",
    "\n",
    "print(a)\n",
    "print(results)\n"
   ]
  },
  {
   "cell_type": "code",
   "execution_count": 84,
   "id": "04aeda65-83c6-4b63-8f9d-5b1125470e79",
   "metadata": {},
   "outputs": [
    {
     "ename": "ValueError",
     "evalue": "array split does not result in an equal division",
     "output_type": "error",
     "traceback": [
      "\u001b[1;31m---------------------------------------------------------------------------\u001b[0m",
      "\u001b[1;31mValueError\u001b[0m                                Traceback (most recent call last)",
      "Cell \u001b[1;32mIn[84], line 2\u001b[0m\n\u001b[0;32m      1\u001b[0m a \u001b[38;5;241m=\u001b[39m np\u001b[38;5;241m.\u001b[39marange(\u001b[38;5;241m1\u001b[39m,\u001b[38;5;241m7\u001b[39m)            \u001b[38;5;66;03m# [1 2 3 4 5 6]\u001b[39;00m\n\u001b[1;32m----> 2\u001b[0m results \u001b[38;5;241m=\u001b[39m \u001b[43mnp\u001b[49m\u001b[38;5;241;43m.\u001b[39;49m\u001b[43msplit\u001b[49m\u001b[43m(\u001b[49m\u001b[43ma\u001b[49m\u001b[43m,\u001b[49m\u001b[38;5;241;43m4\u001b[39;49m\u001b[43m)\u001b[49m       \u001b[38;5;66;03m# It is not  possible to split the array \"a\" into 4 equal parts, hence the error\u001b[39;00m\n",
      "File \u001b[1;32m<__array_function__ internals>:180\u001b[0m, in \u001b[0;36msplit\u001b[1;34m(*args, **kwargs)\u001b[0m\n",
      "File \u001b[1;32m~\\AppData\\Local\\Programs\\Python\\Python311\\Lib\\site-packages\\numpy\\lib\\shape_base.py:872\u001b[0m, in \u001b[0;36msplit\u001b[1;34m(ary, indices_or_sections, axis)\u001b[0m\n\u001b[0;32m    870\u001b[0m     N \u001b[38;5;241m=\u001b[39m ary\u001b[38;5;241m.\u001b[39mshape[axis]\n\u001b[0;32m    871\u001b[0m     \u001b[38;5;28;01mif\u001b[39;00m N \u001b[38;5;241m%\u001b[39m sections:\n\u001b[1;32m--> 872\u001b[0m         \u001b[38;5;28;01mraise\u001b[39;00m \u001b[38;5;167;01mValueError\u001b[39;00m(\n\u001b[0;32m    873\u001b[0m             \u001b[38;5;124m'\u001b[39m\u001b[38;5;124marray split does not result in an equal division\u001b[39m\u001b[38;5;124m'\u001b[39m) \u001b[38;5;28;01mfrom\u001b[39;00m \u001b[38;5;28;01mNone\u001b[39;00m\n\u001b[0;32m    874\u001b[0m \u001b[38;5;28;01mreturn\u001b[39;00m array_split(ary, indices_or_sections, axis)\n",
      "\u001b[1;31mValueError\u001b[0m: array split does not result in an equal division"
     ]
    }
   ],
   "source": [
    "\n",
    "a = np.arange(1,7)            # [1 2 3 4 5 6]\n",
    "results = np.split(a,4)       # It is not  possible to split the array \"a\" into 4 equal parts, hence the error\n"
   ]
  },
  {
   "cell_type": "code",
   "execution_count": 96,
   "id": "e69cd3d6-9b5a-4b70-824b-65cf579d5460",
   "metadata": {},
   "outputs": [
    {
     "data": {
      "text/plain": [
       "[array([0., 1., 2.]), array([3., 4., 5.]), array([6., 7., 8.])]"
      ]
     },
     "execution_count": 96,
     "metadata": {},
     "output_type": "execute_result"
    }
   ],
   "source": [
    "\n",
    "x = np.arange(9.0)\n",
    "np.split(x, 3)\n"
   ]
  },
  {
   "cell_type": "markdown",
   "id": "6891e3a8-c78d-4789-a3e3-23f4f4ea36d9",
   "metadata": {},
   "source": [
    "<br>\n",
    "\n",
    "In this example, the array has 6 elements therefore it cannot be split into 4 arrays of equal size. If you want to have a more flexible split, you can use the <code style=\"color: red;\">array_split()</code> function."
   ]
  },
  {
   "cell_type": "markdown",
   "id": "3925d130-20df-4730-9d5e-2c0071f2b15d",
   "metadata": {},
   "source": [
    "\n",
    "2) Using the <code style=\"color: red;\">split()</code> function to split a 2D array\n"
   ]
  },
  {
   "cell_type": "code",
   "execution_count": 111,
   "id": "f2df17d0-f1ed-4dcb-b968-95aaa66b9c62",
   "metadata": {},
   "outputs": [
    {
     "name": "stdout",
     "output_type": "stream",
     "text": [
      "[[1 2]\n",
      " [3 4]\n",
      " [5 6]\n",
      " [7 8]]\n",
      "[array([[1, 2],\n",
      "       [3, 4]]), array([[5, 6],\n",
      "       [7, 8]])]\n"
     ]
    }
   ],
   "source": [
    "\n",
    "a = np.array([[1,2],[3,4],[5,6],[7,8]])\n",
    "results = np.split(a,2)\n",
    "\n",
    "print(a)\n",
    "print(results)\n"
   ]
  },
  {
   "cell_type": "code",
   "execution_count": 86,
   "id": "ba7435c3-bf92-43fd-b5bb-3f5728c5cb93",
   "metadata": {},
   "outputs": [
    {
     "name": "stdout",
     "output_type": "stream",
     "text": [
      "[[1 2]\n",
      " [3 4]]\n"
     ]
    }
   ],
   "source": [
    "\n",
    "print(results[0])\n"
   ]
  },
  {
   "cell_type": "code",
   "execution_count": 89,
   "id": "c0dfdb86-9358-4c6b-9a96-9e2c753a5549",
   "metadata": {},
   "outputs": [
    {
     "name": "stdout",
     "output_type": "stream",
     "text": [
      "[[5 6]\n",
      " [7 8]]\n"
     ]
    }
   ],
   "source": [
    "\n",
    "print(results[1])\n"
   ]
  },
  {
   "cell_type": "markdown",
   "id": "2eaae94d-9b77-4842-8e27-65593cf28ee7",
   "metadata": {},
   "source": [
    "<br>\n",
    "\n",
    "3. Using the <code style=\"color: red;\">split()</code> function using indices"
   ]
  },
  {
   "cell_type": "code",
   "execution_count": 92,
   "id": "a4ccde74-2796-4420-9bd1-988aa8bd8394",
   "metadata": {},
   "outputs": [
    {
     "name": "stdout",
     "output_type": "stream",
     "text": [
      "[10 20 30 40 50 60]\n",
      "[array([10, 20]), array([30, 40, 50, 60])]\n"
     ]
    }
   ],
   "source": [
    "\n",
    "a = np.arange(10,70,10)                   # [10 20 30 40 50 60]\n",
    "results = np.split(a, [2])\n",
    "\n",
    "print(a)\n",
    "print(results)\n"
   ]
  },
  {
   "cell_type": "code",
   "execution_count": 94,
   "id": "9a9d6104-07f1-439a-ac3d-e48e88fab188",
   "metadata": {},
   "outputs": [
    {
     "name": "stdout",
     "output_type": "stream",
     "text": [
      "[10 20 30 40 50 60]\n",
      "[array([10, 20]), array([30]), array([40, 50, 60])]\n"
     ]
    }
   ],
   "source": [
    "\n",
    "a = np.arange(10,70,10)                   # [10 20 30 40 50 60]\n",
    "results = np.split(a, [2, 3])\n",
    "\n",
    "print(a)\n",
    "print(results)\n"
   ]
  },
  {
   "cell_type": "code",
   "execution_count": 93,
   "id": "26097e56-5aa6-4909-97cb-4922541f3d0f",
   "metadata": {},
   "outputs": [
    {
     "name": "stdout",
     "output_type": "stream",
     "text": [
      "[10 20 30 40 50 60]\n",
      "[array([10, 20]), array([30]), array([40]), array([50, 60])]\n"
     ]
    }
   ],
   "source": [
    "\n",
    "a = np.arange(10,70,10)                   # [10 20 30 40 50 60]\n",
    "results = np.split(a, [2, 3, 4])\n",
    "\n",
    "print(a)\n",
    "print(results)\n"
   ]
  },
  {
   "cell_type": "code",
   "execution_count": 97,
   "id": "88b3738c-08b0-4f3a-91b2-f3977a313f25",
   "metadata": {},
   "outputs": [
    {
     "data": {
      "text/plain": [
       "[array([0., 1., 2.]),\n",
       " array([3., 4.]),\n",
       " array([5.]),\n",
       " array([6., 7.]),\n",
       " array([], dtype=float64)]"
      ]
     },
     "execution_count": 97,
     "metadata": {},
     "output_type": "execute_result"
    }
   ],
   "source": [
    "\n",
    "x = np.arange(8.0)\n",
    "np.split(x, [3, 5, 6, 10])\n"
   ]
  },
  {
   "cell_type": "markdown",
   "id": "93eefcbb-f8d7-49d8-a338-38467a616d7d",
   "metadata": {},
   "source": [
    "<br>\n",
    "\n",
    "<span style=\"color: red;\">array_split( )</span>\n",
    "\n",
    "allows indices_or_sections to be an integer that does not equally divide the axis. <br>\n",
    "For an array of length l that should be split into n sections, it returns l % n sub-arrays of size l//n + 1 and the rest of size l//n."
   ]
  },
  {
   "cell_type": "code",
   "execution_count": 105,
   "id": "8dbead9e-2c1b-44a9-abed-c4ff856810e4",
   "metadata": {},
   "outputs": [
    {
     "name": "stdout",
     "output_type": "stream",
     "text": [
      "[1 2 3 4 5 6]\n",
      "[array([1, 2]), array([3, 4]), array([5]), array([6])]\n"
     ]
    }
   ],
   "source": [
    "\n",
    "a = np.arange(1,7)\n",
    "# results = np.split(a,4)            # It is not  possible to split the array \"a\" into 4 equal parts, hence the error\n",
    "results = np.array_split(a,4)        # returns (6 % 4) number of subarrays of size floor(6/(4+1)) and the remaining of size floor(6/4)\n",
    "\n",
    "print(a)                             # [1 2 3 4 5 6]\n",
    "print(results)                       # [1, 2]  ,  [3, 4]  ,  [5]  ,  [6]\n"
   ]
  },
  {
   "cell_type": "markdown",
   "id": "d2c29dff-a077-412b-bf7e-33df1aadddb3",
   "metadata": {},
   "source": [
    "<br>\n",
    "\n",
    "<span style=\"color: red;\">vsplit( )</span>\n",
    "\n",
    "\n",
    "vsplit is equivalent to split with axis=1<br>\n",
    "the array is always split along the first axis except for 1-D arrays, where it is split at axis=0.<br>\n",
    "vsplit only works on arrays of 2 or more dimensions"
   ]
  },
  {
   "cell_type": "code",
   "execution_count": 118,
   "id": "dabc9fca-7a73-4a64-94b6-26b5e2c510ca",
   "metadata": {},
   "outputs": [
    {
     "ename": "ValueError",
     "evalue": "vsplit only works on arrays of 2 or more dimensions",
     "output_type": "error",
     "traceback": [
      "\u001b[1;31m---------------------------------------------------------------------------\u001b[0m",
      "\u001b[1;31mValueError\u001b[0m                                Traceback (most recent call last)",
      "Cell \u001b[1;32mIn[118], line 2\u001b[0m\n\u001b[0;32m      1\u001b[0m a \u001b[38;5;241m=\u001b[39m np\u001b[38;5;241m.\u001b[39marange(\u001b[38;5;241m1\u001b[39m,\u001b[38;5;241m7\u001b[39m)             \u001b[38;5;66;03m# [1 2 3 4 5 6]\u001b[39;00m\n\u001b[1;32m----> 2\u001b[0m results \u001b[38;5;241m=\u001b[39m \u001b[43mnp\u001b[49m\u001b[38;5;241;43m.\u001b[39;49m\u001b[43mvsplit\u001b[49m\u001b[43m(\u001b[49m\u001b[43ma\u001b[49m\u001b[43m,\u001b[49m\u001b[38;5;241;43m3\u001b[39;49m\u001b[43m)\u001b[49m       \u001b[38;5;66;03m# It is possible to split the array \"a\" into 3 equal parts, hence no error\u001b[39;00m\n\u001b[0;32m      4\u001b[0m \u001b[38;5;28mprint\u001b[39m(a)\n\u001b[0;32m      5\u001b[0m \u001b[38;5;28mprint\u001b[39m(results)\n",
      "File \u001b[1;32m<__array_function__ internals>:180\u001b[0m, in \u001b[0;36mvsplit\u001b[1;34m(*args, **kwargs)\u001b[0m\n",
      "File \u001b[1;32m~\\AppData\\Local\\Programs\\Python\\Python311\\Lib\\site-packages\\numpy\\lib\\shape_base.py:996\u001b[0m, in \u001b[0;36mvsplit\u001b[1;34m(ary, indices_or_sections)\u001b[0m\n\u001b[0;32m    953\u001b[0m \u001b[38;5;250m\u001b[39m\u001b[38;5;124;03m\"\"\"\u001b[39;00m\n\u001b[0;32m    954\u001b[0m \u001b[38;5;124;03mSplit an array into multiple sub-arrays vertically (row-wise).\u001b[39;00m\n\u001b[0;32m    955\u001b[0m \n\u001b[1;32m   (...)\u001b[0m\n\u001b[0;32m    993\u001b[0m \n\u001b[0;32m    994\u001b[0m \u001b[38;5;124;03m\"\"\"\u001b[39;00m\n\u001b[0;32m    995\u001b[0m \u001b[38;5;28;01mif\u001b[39;00m _nx\u001b[38;5;241m.\u001b[39mndim(ary) \u001b[38;5;241m<\u001b[39m \u001b[38;5;241m2\u001b[39m:\n\u001b[1;32m--> 996\u001b[0m     \u001b[38;5;28;01mraise\u001b[39;00m \u001b[38;5;167;01mValueError\u001b[39;00m(\u001b[38;5;124m'\u001b[39m\u001b[38;5;124mvsplit only works on arrays of 2 or more dimensions\u001b[39m\u001b[38;5;124m'\u001b[39m)\n\u001b[0;32m    997\u001b[0m \u001b[38;5;28;01mreturn\u001b[39;00m split(ary, indices_or_sections, \u001b[38;5;241m0\u001b[39m)\n",
      "\u001b[1;31mValueError\u001b[0m: vsplit only works on arrays of 2 or more dimensions"
     ]
    }
   ],
   "source": [
    "\n",
    "a = np.arange(1,7)             # [1 2 3 4 5 6]\n",
    "results = np.vsplit(a,3)       # It is possible to split the array \"a\" into 3 equal parts, hence no error\n",
    "\n",
    "print(a)\n",
    "print(results)\n"
   ]
  },
  {
   "cell_type": "code",
   "execution_count": 117,
   "id": "09f6ade1-3ae1-4a4d-a06e-d3ba024de0de",
   "metadata": {},
   "outputs": [
    {
     "name": "stdout",
     "output_type": "stream",
     "text": [
      "[[1 2]\n",
      " [3 4]\n",
      " [5 6]\n",
      " [7 8]]\n",
      "[array([[1, 2],\n",
      "       [3, 4]]), array([[5, 6],\n",
      "       [7, 8]])]\n"
     ]
    }
   ],
   "source": [
    "\n",
    "a = np.array([[1,2],[3,4],[5,6],[7,8]])\n",
    "results = np.vsplit(a,2)\n",
    "\n",
    "print(a)\n",
    "print(results)\n"
   ]
  },
  {
   "cell_type": "markdown",
   "id": "7e8654e2-0924-47c5-920b-bc6812dd9546",
   "metadata": {},
   "source": [
    "<br>\n",
    "\n",
    "<span style=\"color: red;\">hsplit( )</span>\n",
    "\n",
    "\n",
    " hsplit is equivalent to split with axis=1<br>\n",
    " the array is always split along the second axis except for 1-D arrays, where it is split at axis=0."
   ]
  },
  {
   "cell_type": "code",
   "execution_count": 113,
   "id": "74676d66-c535-42dd-b06c-85a8bdfa8c68",
   "metadata": {},
   "outputs": [
    {
     "name": "stdout",
     "output_type": "stream",
     "text": [
      "[1 2 3 4 5 6]\n",
      "[array([1, 2]), array([3, 4]), array([5, 6])]\n"
     ]
    }
   ],
   "source": [
    "\n",
    "a = np.arange(1,7)             # [1 2 3 4 5 6]\n",
    "results = np.hsplit(a,3)       # It is possible to split the array \"a\" into 3 equal parts, hence no error\n",
    "\n",
    "print(a)\n",
    "print(results)\n"
   ]
  },
  {
   "cell_type": "code",
   "execution_count": 116,
   "id": "2bb17ad9-57c6-4818-a4d8-3d268d77b028",
   "metadata": {},
   "outputs": [
    {
     "name": "stdout",
     "output_type": "stream",
     "text": [
      "[[1 2]\n",
      " [3 4]\n",
      " [5 6]\n",
      " [7 8]]\n",
      "[array([[1],\n",
      "       [3],\n",
      "       [5],\n",
      "       [7]]), array([[2],\n",
      "       [4],\n",
      "       [6],\n",
      "       [8]])]\n"
     ]
    }
   ],
   "source": [
    "\n",
    "a = np.array([[1,2],[3,4],[5,6],[7,8]])\n",
    "results = np.hsplit(a,2)\n",
    "\n",
    "print(a)\n",
    "print(results)\n"
   ]
  },
  {
   "cell_type": "markdown",
   "id": "6c862726-ef56-4794-b881-b79ec6f8d67b",
   "metadata": {},
   "source": [
    "<br>\n",
    "\n",
    "<span style=\"color: red;\">dsplit( )</span>\n"
   ]
  },
  {
   "cell_type": "code",
   "execution_count": 119,
   "id": "333e9ac8-7db6-4c54-81b2-b6f15e8e43c1",
   "metadata": {},
   "outputs": [
    {
     "ename": "ValueError",
     "evalue": "dsplit only works on arrays of 3 or more dimensions",
     "output_type": "error",
     "traceback": [
      "\u001b[1;31m---------------------------------------------------------------------------\u001b[0m",
      "\u001b[1;31mValueError\u001b[0m                                Traceback (most recent call last)",
      "Cell \u001b[1;32mIn[119], line 2\u001b[0m\n\u001b[0;32m      1\u001b[0m a \u001b[38;5;241m=\u001b[39m np\u001b[38;5;241m.\u001b[39marange(\u001b[38;5;241m1\u001b[39m,\u001b[38;5;241m7\u001b[39m)             \u001b[38;5;66;03m# [1 2 3 4 5 6]\u001b[39;00m\n\u001b[1;32m----> 2\u001b[0m results \u001b[38;5;241m=\u001b[39m \u001b[43mnp\u001b[49m\u001b[38;5;241;43m.\u001b[39;49m\u001b[43mdsplit\u001b[49m\u001b[43m(\u001b[49m\u001b[43ma\u001b[49m\u001b[43m,\u001b[49m\u001b[38;5;241;43m3\u001b[39;49m\u001b[43m)\u001b[49m       \u001b[38;5;66;03m# It is possible to split the array \"a\" into 3 equal parts, hence no error\u001b[39;00m\n\u001b[0;32m      4\u001b[0m \u001b[38;5;28mprint\u001b[39m(a)\n\u001b[0;32m      5\u001b[0m \u001b[38;5;28mprint\u001b[39m(results)\n",
      "File \u001b[1;32m<__array_function__ internals>:180\u001b[0m, in \u001b[0;36mdsplit\u001b[1;34m(*args, **kwargs)\u001b[0m\n",
      "File \u001b[1;32m~\\AppData\\Local\\Programs\\Python\\Python311\\Lib\\site-packages\\numpy\\lib\\shape_base.py:1041\u001b[0m, in \u001b[0;36mdsplit\u001b[1;34m(ary, indices_or_sections)\u001b[0m\n\u001b[0;32m   1002\u001b[0m \u001b[38;5;250m\u001b[39m\u001b[38;5;124;03m\"\"\"\u001b[39;00m\n\u001b[0;32m   1003\u001b[0m \u001b[38;5;124;03mSplit array into multiple sub-arrays along the 3rd axis (depth).\u001b[39;00m\n\u001b[0;32m   1004\u001b[0m \n\u001b[1;32m   (...)\u001b[0m\n\u001b[0;32m   1038\u001b[0m \u001b[38;5;124;03marray([], shape=(2, 2, 0), dtype=float64)]\u001b[39;00m\n\u001b[0;32m   1039\u001b[0m \u001b[38;5;124;03m\"\"\"\u001b[39;00m\n\u001b[0;32m   1040\u001b[0m \u001b[38;5;28;01mif\u001b[39;00m _nx\u001b[38;5;241m.\u001b[39mndim(ary) \u001b[38;5;241m<\u001b[39m \u001b[38;5;241m3\u001b[39m:\n\u001b[1;32m-> 1041\u001b[0m     \u001b[38;5;28;01mraise\u001b[39;00m \u001b[38;5;167;01mValueError\u001b[39;00m(\u001b[38;5;124m'\u001b[39m\u001b[38;5;124mdsplit only works on arrays of 3 or more dimensions\u001b[39m\u001b[38;5;124m'\u001b[39m)\n\u001b[0;32m   1042\u001b[0m \u001b[38;5;28;01mreturn\u001b[39;00m split(ary, indices_or_sections, \u001b[38;5;241m2\u001b[39m)\n",
      "\u001b[1;31mValueError\u001b[0m: dsplit only works on arrays of 3 or more dimensions"
     ]
    }
   ],
   "source": [
    "\n",
    "a = np.arange(1,7)             # [1 2 3 4 5 6]\n",
    "results = np.dsplit(a,3)       # It is possible to split the array \"a\" into 3 equal parts, hence no error\n",
    "\n",
    "print(a)\n",
    "print(results)\n"
   ]
  },
  {
   "cell_type": "code",
   "execution_count": 121,
   "id": "07988a89-2906-47c4-8867-1fc018b6f063",
   "metadata": {},
   "outputs": [
    {
     "ename": "ValueError",
     "evalue": "dsplit only works on arrays of 3 or more dimensions",
     "output_type": "error",
     "traceback": [
      "\u001b[1;31m---------------------------------------------------------------------------\u001b[0m",
      "\u001b[1;31mValueError\u001b[0m                                Traceback (most recent call last)",
      "Cell \u001b[1;32mIn[121], line 2\u001b[0m\n\u001b[0;32m      1\u001b[0m a \u001b[38;5;241m=\u001b[39m np\u001b[38;5;241m.\u001b[39marray([[\u001b[38;5;241m1\u001b[39m,\u001b[38;5;241m2\u001b[39m],[\u001b[38;5;241m3\u001b[39m,\u001b[38;5;241m4\u001b[39m],[\u001b[38;5;241m5\u001b[39m,\u001b[38;5;241m6\u001b[39m],[\u001b[38;5;241m7\u001b[39m,\u001b[38;5;241m8\u001b[39m]])\n\u001b[1;32m----> 2\u001b[0m results \u001b[38;5;241m=\u001b[39m \u001b[43mnp\u001b[49m\u001b[38;5;241;43m.\u001b[39;49m\u001b[43mdsplit\u001b[49m\u001b[43m(\u001b[49m\u001b[43ma\u001b[49m\u001b[43m,\u001b[49m\u001b[38;5;241;43m2\u001b[39;49m\u001b[43m)\u001b[49m\n\u001b[0;32m      4\u001b[0m \u001b[38;5;28mprint\u001b[39m(a)\n\u001b[0;32m      5\u001b[0m \u001b[38;5;28mprint\u001b[39m(results)\n",
      "File \u001b[1;32m<__array_function__ internals>:180\u001b[0m, in \u001b[0;36mdsplit\u001b[1;34m(*args, **kwargs)\u001b[0m\n",
      "File \u001b[1;32m~\\AppData\\Local\\Programs\\Python\\Python311\\Lib\\site-packages\\numpy\\lib\\shape_base.py:1041\u001b[0m, in \u001b[0;36mdsplit\u001b[1;34m(ary, indices_or_sections)\u001b[0m\n\u001b[0;32m   1002\u001b[0m \u001b[38;5;250m\u001b[39m\u001b[38;5;124;03m\"\"\"\u001b[39;00m\n\u001b[0;32m   1003\u001b[0m \u001b[38;5;124;03mSplit array into multiple sub-arrays along the 3rd axis (depth).\u001b[39;00m\n\u001b[0;32m   1004\u001b[0m \n\u001b[1;32m   (...)\u001b[0m\n\u001b[0;32m   1038\u001b[0m \u001b[38;5;124;03marray([], shape=(2, 2, 0), dtype=float64)]\u001b[39;00m\n\u001b[0;32m   1039\u001b[0m \u001b[38;5;124;03m\"\"\"\u001b[39;00m\n\u001b[0;32m   1040\u001b[0m \u001b[38;5;28;01mif\u001b[39;00m _nx\u001b[38;5;241m.\u001b[39mndim(ary) \u001b[38;5;241m<\u001b[39m \u001b[38;5;241m3\u001b[39m:\n\u001b[1;32m-> 1041\u001b[0m     \u001b[38;5;28;01mraise\u001b[39;00m \u001b[38;5;167;01mValueError\u001b[39;00m(\u001b[38;5;124m'\u001b[39m\u001b[38;5;124mdsplit only works on arrays of 3 or more dimensions\u001b[39m\u001b[38;5;124m'\u001b[39m)\n\u001b[0;32m   1042\u001b[0m \u001b[38;5;28;01mreturn\u001b[39;00m split(ary, indices_or_sections, \u001b[38;5;241m2\u001b[39m)\n",
      "\u001b[1;31mValueError\u001b[0m: dsplit only works on arrays of 3 or more dimensions"
     ]
    }
   ],
   "source": [
    "\n",
    "a = np.array([[1,2],[3,4],[5,6],[7,8]])\n",
    "results = np.dsplit(a,2)\n",
    "\n",
    "print(a)\n",
    "print(results)\n"
   ]
  },
  {
   "cell_type": "code",
   "execution_count": 123,
   "id": "2b9a405a-78f8-402a-87d0-8a66c80dbf76",
   "metadata": {},
   "outputs": [
    {
     "name": "stdout",
     "output_type": "stream",
     "text": [
      "[[[1 2]\n",
      "  [3 4]]\n",
      "\n",
      " [[5 6]\n",
      "  [7 8]]]\n",
      "[array([[[1],\n",
      "        [3]],\n",
      "\n",
      "       [[5],\n",
      "        [7]]]), array([[[2],\n",
      "        [4]],\n",
      "\n",
      "       [[6],\n",
      "        [8]]])]\n"
     ]
    }
   ],
   "source": [
    "\n",
    "a = np.array([ \n",
    "    [[1, 2], [3, 4]],\n",
    "    [[5, 6], [7, 8]] \n",
    "])                                    # 3D\n",
    "\n",
    "\n",
    "results = np.dsplit(a,2)\n",
    "\n",
    "\n",
    "print(a)\n",
    "print(results)\n"
   ]
  },
  {
   "cell_type": "markdown",
   "id": "120646cb-9eff-41f9-bf3e-39b635503287",
   "metadata": {},
   "source": [
    "<br>\n",
    "\n",
    "<span style=\"color: red;\">insert( )</span>\n",
    "\n",
    "Insert values along the given axis before the given indices.\n",
    "\n",
    "<code>numpy.insert(arr, index_obj, values, axis)</code>\n"
   ]
  },
  {
   "cell_type": "code",
   "execution_count": 144,
   "id": "006a5491-a8eb-46ee-b604-18905c808175",
   "metadata": {},
   "outputs": [
    {
     "name": "stdout",
     "output_type": "stream",
     "text": [
      "[[0 1]\n",
      " [2 3]\n",
      " [4 5]]\n",
      "[0 6 1 2 3 4 5]\n"
     ]
    }
   ],
   "source": [
    "\n",
    "a = np.arange(6).reshape(3, 2)\n",
    "b = np.insert(a, 1, 6)               # np.insert(a, 1, 6, axis=0)   ===>  \n",
    "\n",
    "print(a)\n",
    "print(b)\n"
   ]
  },
  {
   "cell_type": "code",
   "execution_count": 145,
   "id": "d3957a0e-9039-49e1-a42c-50c199bc06ee",
   "metadata": {},
   "outputs": [
    {
     "name": "stdout",
     "output_type": "stream",
     "text": [
      "[[0 1]\n",
      " [2 3]\n",
      " [4 5]]\n",
      "[[0 6 1]\n",
      " [2 6 3]\n",
      " [4 6 5]]\n"
     ]
    }
   ],
   "source": [
    "\n",
    "a = np.arange(6).reshape(3, 2)\n",
    "b = np.insert(a, 1, 6, axis=1)\n",
    "\n",
    "print(a)\n",
    "print(b)\n"
   ]
  },
  {
   "cell_type": "markdown",
   "id": "bfcbb7d5-c1f1-4fbe-b49a-d7c57f38f258",
   "metadata": {},
   "source": [
    "<br>\n",
    "\n",
    "Difference between sequence and scalars, showing how obj=[1] behaves different from obj=1:"
   ]
  },
  {
   "cell_type": "code",
   "execution_count": 142,
   "id": "98e2c0e9-c459-439e-abf0-244e76259527",
   "metadata": {},
   "outputs": [
    {
     "name": "stdout",
     "output_type": "stream",
     "text": [
      "[[0 1]\n",
      " [2 3]\n",
      " [4 5]]\n",
      "[[0 7 1]\n",
      " [2 8 3]\n",
      " [4 9 5]]\n"
     ]
    }
   ],
   "source": [
    "\n",
    "a = np.arange(6).reshape(3, 2)\n",
    "b = np.insert(a, [1], [[7],[8],[9]], axis=1)\n",
    "\n",
    "print(a)\n",
    "print(b)\n"
   ]
  },
  {
   "cell_type": "code",
   "execution_count": 148,
   "id": "7312492c-2b2f-40bf-98a1-fb0e762858c9",
   "metadata": {},
   "outputs": [
    {
     "name": "stdout",
     "output_type": "stream",
     "text": [
      "[[0 1]\n",
      " [2 3]\n",
      " [4 5]]\n",
      "[[0 1]\n",
      " [7 7]\n",
      " [8 8]\n",
      " [9 9]\n",
      " [2 3]\n",
      " [4 5]]\n"
     ]
    }
   ],
   "source": [
    "\n",
    "a = np.arange(6).reshape(3, 2)\n",
    "b = np.insert(a, [1], [[7],[8],[9]], axis=0)\n",
    "\n",
    "print(a)\n",
    "print(b)\n"
   ]
  },
  {
   "cell_type": "code",
   "execution_count": 146,
   "id": "27003fb0-f769-4a35-9e6a-6239df701996",
   "metadata": {},
   "outputs": [
    {
     "name": "stdout",
     "output_type": "stream",
     "text": [
      "[[0 1]\n",
      " [2 3]\n",
      " [4 5]]\n",
      "[[0 7 8 9 1]\n",
      " [2 7 8 9 3]\n",
      " [4 7 8 9 5]]\n"
     ]
    }
   ],
   "source": [
    "\n",
    "a = np.arange(6).reshape(3, 2)\n",
    "b = np.insert(a, 1, [[7],[8],[9]], axis=1)\n",
    "\n",
    "print(a)\n",
    "print(b)\n"
   ]
  },
  {
   "cell_type": "code",
   "execution_count": 149,
   "id": "a1af3940-0dee-42ce-b1ac-a69f6b2ce5d5",
   "metadata": {},
   "outputs": [
    {
     "name": "stdout",
     "output_type": "stream",
     "text": [
      "[[0 1]\n",
      " [2 3]\n",
      " [4 5]]\n",
      "[[0 1]\n",
      " [7 7]\n",
      " [8 8]\n",
      " [9 9]\n",
      " [2 3]\n",
      " [4 5]]\n"
     ]
    }
   ],
   "source": [
    "\n",
    "a = np.arange(6).reshape(3, 2)\n",
    "b = np.insert(a, 1, [[7],[8],[9]], axis=0)\n",
    "\n",
    "print(a)\n",
    "print(b)\n"
   ]
  },
  {
   "cell_type": "code",
   "execution_count": 152,
   "id": "692e2a59-cd7a-41f5-8a97-9fe9caaa62bb",
   "metadata": {},
   "outputs": [
    {
     "name": "stdout",
     "output_type": "stream",
     "text": [
      "[[0 1]\n",
      " [2 3]\n",
      " [4 5]]\n",
      "[[0 7 1]\n",
      " [2 8 3]\n",
      " [4 9 5]]\n",
      "[[0 7 1]\n",
      " [2 8 3]\n",
      " [4 9 5]]\n"
     ]
    },
    {
     "data": {
      "text/plain": [
       "True"
      ]
     },
     "execution_count": 152,
     "metadata": {},
     "output_type": "execute_result"
    }
   ],
   "source": [
    "\n",
    "a = np.arange(6).reshape(3, 2)\n",
    "b = np.insert(a, 1, [7, 8, 9], axis=1)\n",
    "c = np.insert(a, [1], [[7],[8],[9]], axis=1)\n",
    "\n",
    "print(a)\n",
    "print(b)\n",
    "print(c)\n",
    "\n",
    "np.array_equal(np.insert(a, 1, [7, 8, 9], axis=1),\n",
    "               np.insert(a, [1], [[7],[8],[9]], axis=1))\n"
   ]
  },
  {
   "cell_type": "markdown",
   "id": "924dcb87-57d1-4741-9221-7e24910800c6",
   "metadata": {},
   "source": [
    "<br>\n",
    "\n",
    "<span style=\"color: red;\">append( )</span>\n",
    "\n",
    "<code>numpy.append(arr, values, axis=None)</code>"
   ]
  },
  {
   "cell_type": "code",
   "execution_count": 176,
   "id": "1d9e5a5d-61e7-4c02-b360-cd810abe4495",
   "metadata": {},
   "outputs": [
    {
     "data": {
      "text/plain": [
       "array([1, 2, 3, 4, 5, 6, 7, 8, 9])"
      ]
     },
     "execution_count": 176,
     "metadata": {},
     "output_type": "execute_result"
    }
   ],
   "source": [
    "\n",
    "np.append([1, 2, 3], [[4, 5, 6], [7, 8, 9]])\n"
   ]
  },
  {
   "cell_type": "code",
   "execution_count": 177,
   "id": "bb2a64b7-3422-4e7a-abad-80a7b0d52865",
   "metadata": {},
   "outputs": [
    {
     "data": {
      "text/plain": [
       "array([[1, 2, 3],\n",
       "       [4, 5, 6],\n",
       "       [7, 8, 9]])"
      ]
     },
     "execution_count": 177,
     "metadata": {},
     "output_type": "execute_result"
    }
   ],
   "source": [
    "\n",
    "np.append([[1, 2, 3], [4, 5, 6]], [[7, 8, 9]], axis=0)\n"
   ]
  },
  {
   "cell_type": "code",
   "execution_count": 178,
   "id": "b0966dc2-303a-4efc-a84e-28b5083da219",
   "metadata": {},
   "outputs": [
    {
     "ename": "ValueError",
     "evalue": "all the input arrays must have same number of dimensions, but the array at index 0 has 2 dimension(s) and the array at index 1 has 1 dimension(s)",
     "output_type": "error",
     "traceback": [
      "\u001b[1;31m---------------------------------------------------------------------------\u001b[0m",
      "\u001b[1;31mValueError\u001b[0m                                Traceback (most recent call last)",
      "Cell \u001b[1;32mIn[178], line 1\u001b[0m\n\u001b[1;32m----> 1\u001b[0m \u001b[43mnp\u001b[49m\u001b[38;5;241;43m.\u001b[39;49m\u001b[43mappend\u001b[49m\u001b[43m(\u001b[49m\u001b[43m[\u001b[49m\u001b[43m[\u001b[49m\u001b[38;5;241;43m1\u001b[39;49m\u001b[43m,\u001b[49m\u001b[43m \u001b[49m\u001b[38;5;241;43m2\u001b[39;49m\u001b[43m,\u001b[49m\u001b[43m \u001b[49m\u001b[38;5;241;43m3\u001b[39;49m\u001b[43m]\u001b[49m\u001b[43m,\u001b[49m\u001b[43m \u001b[49m\u001b[43m[\u001b[49m\u001b[38;5;241;43m4\u001b[39;49m\u001b[43m,\u001b[49m\u001b[43m \u001b[49m\u001b[38;5;241;43m5\u001b[39;49m\u001b[43m,\u001b[49m\u001b[43m \u001b[49m\u001b[38;5;241;43m6\u001b[39;49m\u001b[43m]\u001b[49m\u001b[43m]\u001b[49m\u001b[43m,\u001b[49m\u001b[43m \u001b[49m\u001b[43m[\u001b[49m\u001b[38;5;241;43m7\u001b[39;49m\u001b[43m,\u001b[49m\u001b[43m \u001b[49m\u001b[38;5;241;43m8\u001b[39;49m\u001b[43m,\u001b[49m\u001b[43m \u001b[49m\u001b[38;5;241;43m9\u001b[39;49m\u001b[43m]\u001b[49m\u001b[43m,\u001b[49m\u001b[43m \u001b[49m\u001b[43maxis\u001b[49m\u001b[38;5;241;43m=\u001b[39;49m\u001b[38;5;241;43m0\u001b[39;49m\u001b[43m)\u001b[49m\n",
      "File \u001b[1;32m<__array_function__ internals>:180\u001b[0m, in \u001b[0;36mappend\u001b[1;34m(*args, **kwargs)\u001b[0m\n",
      "File \u001b[1;32m~\\AppData\\Local\\Programs\\Python\\Python311\\Lib\\site-packages\\numpy\\lib\\function_base.py:5444\u001b[0m, in \u001b[0;36mappend\u001b[1;34m(arr, values, axis)\u001b[0m\n\u001b[0;32m   5442\u001b[0m     values \u001b[38;5;241m=\u001b[39m ravel(values)\n\u001b[0;32m   5443\u001b[0m     axis \u001b[38;5;241m=\u001b[39m arr\u001b[38;5;241m.\u001b[39mndim\u001b[38;5;241m-\u001b[39m\u001b[38;5;241m1\u001b[39m\n\u001b[1;32m-> 5444\u001b[0m \u001b[38;5;28;01mreturn\u001b[39;00m \u001b[43mconcatenate\u001b[49m\u001b[43m(\u001b[49m\u001b[43m(\u001b[49m\u001b[43marr\u001b[49m\u001b[43m,\u001b[49m\u001b[43m \u001b[49m\u001b[43mvalues\u001b[49m\u001b[43m)\u001b[49m\u001b[43m,\u001b[49m\u001b[43m \u001b[49m\u001b[43maxis\u001b[49m\u001b[38;5;241;43m=\u001b[39;49m\u001b[43maxis\u001b[49m\u001b[43m)\u001b[49m\n",
      "File \u001b[1;32m<__array_function__ internals>:180\u001b[0m, in \u001b[0;36mconcatenate\u001b[1;34m(*args, **kwargs)\u001b[0m\n",
      "\u001b[1;31mValueError\u001b[0m: all the input arrays must have same number of dimensions, but the array at index 0 has 2 dimension(s) and the array at index 1 has 1 dimension(s)"
     ]
    }
   ],
   "source": [
    "\n",
    "np.append([[1, 2, 3], [4, 5, 6]], [7, 8, 9], axis=0)\n"
   ]
  },
  {
   "cell_type": "code",
   "execution_count": 179,
   "id": "905f7787-b8e5-4b72-9c6f-f1d0b4cec0ba",
   "metadata": {},
   "outputs": [
    {
     "name": "stdout",
     "output_type": "stream",
     "text": [
      "[1 2]\n",
      "[1. 2.]\n",
      "float64\n"
     ]
    }
   ],
   "source": [
    "\n",
    "a = np.array([1, 2], dtype=int)\n",
    "\n",
    "print(a)\n",
    "\n",
    "c = np.append(a, [])\n",
    "\n",
    "print(c)\n",
    "\n",
    "print(c.dtype)\n"
   ]
  },
  {
   "cell_type": "markdown",
   "id": "fcc4beff-9e4d-4ac1-b17e-b2de40346a27",
   "metadata": {},
   "source": [
    "<br>\n",
    "\n",
    "<span style=\"color: red;\">trim_zeros( )</span>"
   ]
  },
  {
   "cell_type": "markdown",
   "id": "1a108270-3668-4569-b2ef-65afd214526a",
   "metadata": {},
   "source": [
    "\n",
    "Trim the leading and/or trailing zeros from a 1-D array or sequence\n"
   ]
  },
  {
   "cell_type": "code",
   "execution_count": 182,
   "id": "9d47b08a-e680-41be-a0eb-70628447cd4d",
   "metadata": {},
   "outputs": [
    {
     "data": {
      "text/plain": [
       "array([1, 2, 3, 0, 2, 1])"
      ]
     },
     "execution_count": 182,
     "metadata": {},
     "output_type": "execute_result"
    }
   ],
   "source": [
    "\n",
    "a = np.array((0, 0, 0, 1, 2, 3, 0, 2, 1, 0))\n",
    "np.trim_zeros(a)\n"
   ]
  },
  {
   "cell_type": "code",
   "execution_count": 183,
   "id": "91f9d17f-180c-47e8-8ddc-6c1eb756b8d3",
   "metadata": {},
   "outputs": [
    {
     "data": {
      "text/plain": [
       "array([0, 0, 0, 1, 2, 3, 0, 2, 1])"
      ]
     },
     "execution_count": 183,
     "metadata": {},
     "output_type": "execute_result"
    }
   ],
   "source": [
    "\n",
    "np.trim_zeros(a, 'b')\n"
   ]
  },
  {
   "cell_type": "code",
   "execution_count": 184,
   "id": "9d610acb-2fef-49a2-9929-57510342b6dd",
   "metadata": {},
   "outputs": [
    {
     "data": {
      "text/plain": [
       "[1, 2]"
      ]
     },
     "execution_count": 184,
     "metadata": {},
     "output_type": "execute_result"
    }
   ],
   "source": [
    "\n",
    "np.trim_zeros([0, 1, 2, 0])\n"
   ]
  },
  {
   "cell_type": "code",
   "execution_count": null,
   "id": "e55775f0-22a2-4120-adb8-43a8b50655ce",
   "metadata": {},
   "outputs": [],
   "source": []
  },
  {
   "cell_type": "code",
   "execution_count": null,
   "id": "bab7ce19-7c3d-4633-bab6-eccc8780ee67",
   "metadata": {},
   "outputs": [],
   "source": []
  },
  {
   "cell_type": "markdown",
   "id": "d74ef211-6dc7-4942-a2b6-cf73bd74e3fe",
   "metadata": {},
   "source": [
    "<br>\n",
    "\n",
    "difference between <code style=\"color: red;\">flat()</code>  and <code style=\"color: red;\">flatten()</code>"
   ]
  },
  {
   "cell_type": "code",
   "execution_count": 168,
   "id": "e7218b82-c9be-458d-9ee3-2421defb2e1f",
   "metadata": {},
   "outputs": [
    {
     "data": {
      "text/plain": [
       "array([[1, 2, 3],\n",
       "       [4, 5, 6]])"
      ]
     },
     "execution_count": 168,
     "metadata": {},
     "output_type": "execute_result"
    }
   ],
   "source": [
    "\n",
    "x = np.arange(1, 7).reshape(2, 3)\n",
    "x\n"
   ]
  },
  {
   "cell_type": "code",
   "execution_count": 169,
   "id": "821d8c6b-6ad8-4521-b83a-8ae5a58ed4df",
   "metadata": {},
   "outputs": [
    {
     "data": {
      "text/plain": [
       "4"
      ]
     },
     "execution_count": 169,
     "metadata": {},
     "output_type": "execute_result"
    }
   ],
   "source": [
    "\n",
    "x.flat[3]\n"
   ]
  },
  {
   "cell_type": "code",
   "execution_count": 170,
   "id": "6bd02199-ee8c-45cc-9767-7c885450f620",
   "metadata": {},
   "outputs": [
    {
     "data": {
      "text/plain": [
       "array([[1, 4],\n",
       "       [2, 5],\n",
       "       [3, 6]])"
      ]
     },
     "execution_count": 170,
     "metadata": {},
     "output_type": "execute_result"
    }
   ],
   "source": [
    "\n",
    "x.T\n"
   ]
  },
  {
   "cell_type": "code",
   "execution_count": 171,
   "id": "ea5c42fa-7c93-48f7-811e-1e514d4c708b",
   "metadata": {},
   "outputs": [
    {
     "data": {
      "text/plain": [
       "5"
      ]
     },
     "execution_count": 171,
     "metadata": {},
     "output_type": "execute_result"
    }
   ],
   "source": [
    "\n",
    "x.T.flat[3]\n"
   ]
  },
  {
   "cell_type": "code",
   "execution_count": 172,
   "id": "1f5fdfef-0746-4ce7-b46e-eaff9d612eda",
   "metadata": {},
   "outputs": [
    {
     "data": {
      "text/plain": [
       "numpy.flatiter"
      ]
     },
     "execution_count": 172,
     "metadata": {},
     "output_type": "execute_result"
    }
   ],
   "source": [
    "\n",
    "type(x.flat)\n"
   ]
  },
  {
   "cell_type": "code",
   "execution_count": 173,
   "id": "b3e883f2-cc2b-4836-961c-f8cc4f257156",
   "metadata": {},
   "outputs": [
    {
     "data": {
      "text/plain": [
       "array([[3, 3, 3],\n",
       "       [3, 3, 3]])"
      ]
     },
     "execution_count": 173,
     "metadata": {},
     "output_type": "execute_result"
    }
   ],
   "source": [
    "\n",
    "x.flat = 3\n",
    "\n",
    "x\n"
   ]
  },
  {
   "cell_type": "code",
   "execution_count": 174,
   "id": "53b3c7e3-6907-4305-8844-cc5bc7f01625",
   "metadata": {},
   "outputs": [
    {
     "data": {
      "text/plain": [
       "array([[3, 1, 3],\n",
       "       [3, 1, 3]])"
      ]
     },
     "execution_count": 174,
     "metadata": {},
     "output_type": "execute_result"
    }
   ],
   "source": [
    "\n",
    "x.flat[[1,4]] = 1;\n",
    "\n",
    "x\n"
   ]
  },
  {
   "cell_type": "code",
   "execution_count": null,
   "id": "bf9bbe2a-5276-46bb-9480-0b62f215ca35",
   "metadata": {},
   "outputs": [],
   "source": []
  },
  {
   "cell_type": "code",
   "execution_count": null,
   "id": "9e316559-3adf-4f4a-991c-32c7183b2fde",
   "metadata": {},
   "outputs": [],
   "source": []
  },
  {
   "cell_type": "code",
   "execution_count": null,
   "id": "3f8b7a85-fed2-498f-92eb-defcb53eb406",
   "metadata": {},
   "outputs": [],
   "source": []
  },
  {
   "cell_type": "code",
   "execution_count": null,
   "id": "57616f4a-a454-4f6c-83dd-c74bfb240402",
   "metadata": {},
   "outputs": [],
   "source": []
  },
  {
   "cell_type": "code",
   "execution_count": null,
   "id": "ea29f773-7cd4-49c8-813a-d425023b83f5",
   "metadata": {},
   "outputs": [],
   "source": []
  },
  {
   "cell_type": "code",
   "execution_count": null,
   "id": "3558d68c-9c7a-4f88-9b8f-58245b08d219",
   "metadata": {},
   "outputs": [],
   "source": []
  },
  {
   "cell_type": "code",
   "execution_count": null,
   "id": "eada6b90-d953-4c97-8408-a2785d19747a",
   "metadata": {},
   "outputs": [],
   "source": []
  },
  {
   "cell_type": "code",
   "execution_count": null,
   "id": "dec93c40-935f-4a5f-ba56-3ac723136483",
   "metadata": {},
   "outputs": [],
   "source": []
  },
  {
   "cell_type": "code",
   "execution_count": null,
   "id": "cf954024-26ac-4ac6-8c25-94cbc973039c",
   "metadata": {},
   "outputs": [],
   "source": []
  },
  {
   "cell_type": "code",
   "execution_count": null,
   "id": "5be19c7e-5275-459b-8bde-eed3cb366fb3",
   "metadata": {},
   "outputs": [],
   "source": []
  },
  {
   "cell_type": "code",
   "execution_count": null,
   "id": "3ff245bb-1a94-4d84-9019-ccf95ee887a5",
   "metadata": {},
   "outputs": [],
   "source": []
  },
  {
   "cell_type": "code",
   "execution_count": null,
   "id": "756c76e5-8c6c-4106-b692-6dbab873edc5",
   "metadata": {},
   "outputs": [],
   "source": []
  }
 ],
 "metadata": {
  "kernelspec": {
   "display_name": "Python 3 (ipykernel)",
   "language": "python",
   "name": "python3"
  },
  "language_info": {
   "codemirror_mode": {
    "name": "ipython",
    "version": 3
   },
   "file_extension": ".py",
   "mimetype": "text/x-python",
   "name": "python",
   "nbconvert_exporter": "python",
   "pygments_lexer": "ipython3",
   "version": "3.11.3"
  }
 },
 "nbformat": 4,
 "nbformat_minor": 5
}
