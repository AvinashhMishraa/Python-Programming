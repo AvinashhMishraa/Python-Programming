{
 "cells": [
  {
   "cell_type": "markdown",
   "id": "ad2f82e1-91e6-41da-8737-8bc15f63120d",
   "metadata": {},
   "source": [
    "<br>\n",
    "\n",
    "# <span style=\"color: black\"><strong>Single &nbsp;Inheritance</strong></span>"
   ]
  },
  {
   "cell_type": "markdown",
   "id": "3744ef38-c990-4115-bb42-977133f8e10c",
   "metadata": {},
   "source": [
    "<br>\n",
    "\n",
    "### <span style=\"color: blue; font-size: 1rem;\"><strong>Single &nbsp;Inheritance</strong></span>"
   ]
  },
  {
   "cell_type": "markdown",
   "id": "d0ea5d2e-89ae-42ff-abc4-eb21bd169ed7",
   "metadata": {},
   "source": [
    "\n",
    "<div style=\"background-color: #ffe6ce; padding-top: 5px; padding-bottom: 10px; padding-left: 10px; padding-right: 10px;\"> <br>\n",
    "\n",
    "When &nbsp;one &nbsp;class &nbsp;( &nbsp;<code style=\"background-color: #b3fff9;\">child</code> &nbsp;/ &nbsp;<code style=\"background-color: #b3fff9;\">derived</code> &nbsp;/ &nbsp;<code style=\"background-color: #b3fff9;\">sub</code> &nbsp;) &nbsp;<strong>derives &nbsp;the &nbsp;properties &nbsp;& &nbsp;methods</strong> &nbsp;of &nbsp;another &nbsp;class &nbsp;( &nbsp;<code style=\"background-color: #b3fff9;\">parent</code> &nbsp;/ &nbsp;<code style=\"background-color: #b3fff9;\">base</code> &nbsp;/ &nbsp;<code style=\"background-color: #b3fff9;\">super</code> &nbsp;), &nbsp;we &nbsp;say &nbsp;it &nbsp;<span style=\"color: red;\"><strong>inheritance</strong></span> <br><br>\n",
    "\n",
    "<pre style=\"margin-left: 40px;\">\n",
    "    \n",
    "    <span style=\"color: green\">class</span> <span style=\"color: blue;\">Car</span>:\n",
    "        ...\n",
    "\n",
    "    <span style=\"color: green\">class</span> <span style=\"color: blue;\">ToyotaCar(<span style=\"color: red;\">Car</span>)</span>:\n",
    "        ...\n",
    "\n",
    "</pre>\n",
    "\n",
    "<br>\n",
    "\n",
    "<strong><span style=\"color: red;\">Inheritance</span></strong> &nbsp;allows &nbsp;a &nbsp;class &nbsp;to &nbsp;<u>**reuse** &nbsp;the &nbsp;logic &nbsp;of &nbsp;an &nbsp;existing &nbsp;class</u>.\n",
    "    \n",
    "</div>\n",
    "\n",
    "<br>\n",
    "\n"
   ]
  },
  {
   "cell_type": "code",
   "execution_count": 1,
   "id": "f39b99d1-0a47-4eaf-b5c6-41e8034c438d",
   "metadata": {},
   "outputs": [
    {
     "name": "stdout",
     "output_type": "stream",
     "text": [
      "fortuner\n",
      "['black', 'white', 'red']\n",
      "car started..\n",
      "car stopped.\n"
     ]
    }
   ],
   "source": [
    "\n",
    "# PARENT\n",
    "class Car:\n",
    "    color = [\"black\", \"white\", \"red\"]\n",
    "\n",
    "    @staticmethod\n",
    "    def start():\n",
    "        print(\"car started..\")\n",
    "\n",
    "    @ staticmethod\n",
    "    def stop():\n",
    "        print(\"car stopped.\")\n",
    "\n",
    "##################################################################################################################################################\n",
    "\n",
    "# CHILD\n",
    "class ToyotaCar(Car):                        # The  \"ToyotaCar\"  class  inherits  all  the  properties  and  methods  from  the  Car  class\n",
    "    def __init__(self, name):\n",
    "        self.name = name\n",
    "\n",
    "##################################################################################################################################################\n",
    "\n",
    "toyotacar1 = ToyotaCar(\"fortuner\")\n",
    "toyotacar2 = ToyotaCar(\"prius\")\n",
    "\n",
    "print(toyotacar1.name)                       #  personal    attribute      =====>     Output:   fortuner\n",
    "print(toyotacar1.color)                      #  inherited   attribute      =====>     Output:   attribute\n",
    "toyotacar1.start()                           #  inherited   method         =====>     Output:   car started..\n",
    "toyotacar1.stop()                            #  inherited   method         =====>     Output:   car stopped.\n"
   ]
  },
  {
   "cell_type": "markdown",
   "id": "76d380a7-5e6b-4440-a582-9f69662273a3",
   "metadata": {},
   "source": [
    "<br>\n",
    "\n",
    "The &nbsp;above &nbsp;example &nbsp;is &nbsp;of &nbsp;type &nbsp;<strong><u>Single &nbsp;inheritance</u></strong>\n",
    "\n",
    "<div style=\"margin-left: 320px;\">\n",
    "\n",
    "![](../../media/Shraddha_Kapra_oops_9.PNG)\n",
    "\n",
    "</div>\n",
    "\n",
    "<span style=\"color: red;\">================================================================================================================</span>\n",
    "\n",
    "<br>\n",
    "\n",
    "<font size=\"+1\">⭐</font>&nbsp;&nbsp;&nbsp;<code style=\"font-size: 1rem; background-color: #77f5ff;\">type()</code> &nbsp;&nbsp;&nbsp;vs&nbsp;&nbsp;&nbsp; <code style=\"font-size: 1rem; background-color: #77f5ff;\">isintance()</code>\n",
    "&nbsp;&nbsp;&nbsp;vs&nbsp;&nbsp;&nbsp; <code style=\"font-size: 1rem; background-color: #77f5ff;\">issubclass()</code>\n",
    "\n",
    "<br>\n"
   ]
  },
  {
   "cell_type": "code",
   "execution_count": 3,
   "id": "9f9d332e-8f8d-48f5-8f29-fc2f1806f81f",
   "metadata": {},
   "outputs": [
    {
     "name": "stdout",
     "output_type": "stream",
     "text": [
      "<class '__main__.Car'>\n",
      "<class '__main__.ToyotaCar'>\n"
     ]
    }
   ],
   "source": [
    "\n",
    "car1 = Car()                               # creates an instance \"car1\" of type \"Car\"\n",
    "print(type(car1))\n",
    "\n",
    "\n",
    "toyotacar1 = ToyotaCar(\"fortuner\")         # creates an instance \"toyotacar1\" of type \"Toyotacar\"\n",
    "print(type(toyotacar1))\n"
   ]
  },
  {
   "cell_type": "markdown",
   "id": "4f4fe6c2-5f48-4ec1-b621-344da77176cb",
   "metadata": {},
   "source": [
    "\n",
    "<pre style=\"background-color: #ffe6ce; padding: 10px;\"> 🔶  To check if an <span style=\"color: blue; font-size: 1rem;\"><strong>object</strong></span> is an instance of a class, you use the <code style=\"background-color: white; color: red;\">isintance()</code> method</pre>\n"
   ]
  },
  {
   "cell_type": "code",
   "execution_count": 4,
   "id": "3096ddb6-993b-4f67-811b-4d4212329adb",
   "metadata": {},
   "outputs": [
    {
     "name": "stdout",
     "output_type": "stream",
     "text": [
      "True\n",
      "False\n",
      "True\n",
      "True\n"
     ]
    }
   ],
   "source": [
    "\n",
    "print(isinstance(car1, Car))                        # True       ====>         \"car1\"  is       an  instance  of  the  \"Car\"  class\n",
    "print(isinstance(car1, ToyotaCar))                  # False      ====>    but  \"car1\"  is  not  an  instance  of  the  \"Car\"  class \n",
    "\n",
    "\n",
    "print(isinstance(toyotacar1, ToyotaCar))            # True       ====>         \"toyotacar1\"  is  an  instance  of  the  \"ToyotaCar\"  class\n",
    "print(isinstance(toyotacar1, Car))                  # True       ====>    and  \"toyotacar1\"  is  an  instance  of  the  \"Car\"        class  also\n"
   ]
  },
  {
   "cell_type": "markdown",
   "id": "117487aa-79eb-481b-926a-16fe7f3444dd",
   "metadata": {},
   "source": [
    "\n",
    "<pre style=\"background-color: #ffe6ce; padding: 10px;\"> ⭐  An object is an <code style=\"background-color: white;\">instance</code> of not only it's <span style=\"font-size: 1rem;\"><strong>parent classes</strong></span> but also of it's <span style=\"font-size: 1rem;\"><strong>own class</strong></span></pre>\n",
    "\n",
    "<pre style=\"background-color: #ffe6ce; padding: 10px;\"> 🔶  To check if a <span style=\"color: blue; font-size: 1rem;\"><strong>class</strong></span> is a subclass of another class, you use the <code style=\"background-color: white; color: red;\">issubclass()</code> function</pre>\n"
   ]
  },
  {
   "cell_type": "code",
   "execution_count": 5,
   "id": "0e65ff0a-0379-4871-90df-81348cd3690a",
   "metadata": {},
   "outputs": [
    {
     "name": "stdout",
     "output_type": "stream",
     "text": [
      "True\n"
     ]
    }
   ],
   "source": [
    "\n",
    "print(issubclass(ToyotaCar, Car))                # True\n"
   ]
  },
  {
   "cell_type": "markdown",
   "id": "14e962c0-6475-4ad2-b141-494fee491112",
   "metadata": {},
   "source": [
    "<br>\n",
    "\n",
    "<span style=\"margin-left: 30px;\">Consider the following example:</span>"
   ]
  },
  {
   "cell_type": "code",
   "execution_count": 6,
   "id": "4f7bcce6-bf1d-4e54-ad57-3e58082fa4a9",
   "metadata": {},
   "outputs": [],
   "source": [
    "\n",
    "# GRAND PARENT\n",
    "class Car:\n",
    "\n",
    "    color = [\"black\", \"white\", \"red\"]\n",
    "    \n",
    "    @staticmethod\n",
    "    def start():\n",
    "        print(\"car started..\")\n",
    "\n",
    "    @ staticmethod\n",
    "    def stop():\n",
    "        print(\"car stopped.\")\n",
    "\n",
    "\n",
    "# PARENT\n",
    "class ToyotaCar(Car):               # The  \"ToyotaCar\"  class  inherits  all  the  properties  &  methods  of  the  \"Car\"  class\n",
    "    def __init__(self, brand):\n",
    "        self.brand = brand\n",
    "\n",
    "\n",
    "# CHILD\n",
    "class Fortuner(ToyotaCar):          # The  \"Fortuner\"  class  inherits  all  the  properties  &  methods  of  both the  \"Car\"  &  the \"ToyotaCar\"  class\n",
    "    def __init__(self, fuel_type):\n",
    "        self.fuel_type = fuel_type\n",
    "                 \n",
    "\n",
    "fortuner1 = Fortuner(\"diesel\")\n"
   ]
  },
  {
   "cell_type": "code",
   "execution_count": 7,
   "id": "e5a1ce4f-28d2-4710-8c60-9002784b8f38",
   "metadata": {},
   "outputs": [
    {
     "name": "stdout",
     "output_type": "stream",
     "text": [
      "True\n",
      "True\n",
      "True\n"
     ]
    }
   ],
   "source": [
    "\n",
    "print(issubclass(Fortuner, Fortuner))          # True\n",
    "print(issubclass(Fortuner, ToyotaCar))         # True\n",
    "print(issubclass(Fortuner, Car))               # True\n"
   ]
  },
  {
   "cell_type": "markdown",
   "id": "86a36861-8261-41f2-924c-e24507a7f8e1",
   "metadata": {},
   "source": [
    "\n",
    "<pre style=\"background-color: #ffe6ce; padding: 10px;\">🔶  When you define a class that doesn’t inherit from any class, it’ll implicitly inherit from the built-in <code style=\"background-color: white; color: red;\"> object </code> class</pre>\n",
    "\n",
    "<code style=\"margin-left: 35px; background-color: white;\">For example, the <code style=\"color: red;\">Car</code> class inherits from the <code style=\"color: red;\">object</code> class implicitly. Therefore, it is a subclass of the <code style=\"color: red;\">object</code> class :</span>\n"
   ]
  },
  {
   "cell_type": "code",
   "execution_count": 8,
   "id": "bb115a20-e2ec-40b5-98ca-f9e1c125c777",
   "metadata": {},
   "outputs": [
    {
     "name": "stdout",
     "output_type": "stream",
     "text": [
      "True\n"
     ]
    }
   ],
   "source": [
    "\n",
    "print(issubclass(Car, object))                 # True\n"
   ]
  },
  {
   "cell_type": "markdown",
   "id": "fa936b0e-1f7a-4a39-8e18-44639f4b5b8a",
   "metadata": {},
   "source": [
    "<br>\n",
    "\n",
    "<span style=\"color: red;\">================================================================================================================</span>\n",
    "\n",
    "Summary:\n",
    "\n",
    "<div style=\"background-color: #ffe6ce; padding-top: 15px; padding-bottom: 4px;\">\n",
    "\n",
    "&nbsp;&nbsp;&nbsp;&nbsp;<span style=\"font-size: 0.7rem; color: red;\">■</span>&nbsp;&nbsp;&nbsp;<span style=\"color: blue;\">**Inheritance**</span> &nbsp;allows &nbsp;a &nbsp;class &nbsp;to &nbsp;<u>reuse</u> &nbsp;existing &nbsp;attributes &nbsp;and &nbsp;methods &nbsp;of &nbsp;another &nbsp;class. <br>\n",
    "\n",
    "&nbsp;&nbsp;&nbsp;&nbsp;<span style=\"font-size: 0.7rem; color: red;\">■</span>&nbsp;&nbsp;&nbsp;The &nbsp;class &nbsp;that &nbsp;inherits &nbsp;from &nbsp;another &nbsp;class &nbsp;is &nbsp;called &nbsp;a &nbsp;**child** &nbsp;class, &nbsp;a &nbsp;**subclass**, &nbsp;or &nbsp;a &nbsp;**derived** &nbsp;class. <br>\n",
    "\n",
    "&nbsp;&nbsp;&nbsp;&nbsp;<span style=\"font-size: 0.7rem; color: red;\">■</span>&nbsp;&nbsp;&nbsp;The &nbsp;class &nbsp;from &nbsp;which &nbsp;other &nbsp;classes &nbsp;inherit &nbsp;is &nbsp;call &nbsp;a &nbsp;**parent** &nbsp;class, &nbsp;a &nbsp;**super** &nbsp;class, &nbsp;or &nbsp;a &nbsp;**base** &nbsp;class. <br>\n",
    "\n",
    "&nbsp;&nbsp;&nbsp;&nbsp;<span style=\"font-size: 0.7rem; color: red;\">■</span>&nbsp;&nbsp;&nbsp;Use &nbsp;<code style=\"background-color: white; color: red;\">isinstance()</code>&nbsp; to &nbsp;check &nbsp;if &nbsp;an &nbsp;object &nbsp;is &nbsp;an &nbsp;instance &nbsp;of &nbsp;a &nbsp;class. <br>\n",
    "\n",
    "&nbsp;&nbsp;&nbsp;&nbsp;<span style=\"font-size: 0.7rem; color: red;\">■</span>&nbsp;&nbsp;&nbsp;Use &nbsp;<code style=\"background-color: white; color: red;\">issubclass()</code>&nbsp; to &nbsp;check &nbsp;if &nbsp;a &nbsp;class &nbsp;is &nbsp;a &nbsp;subclass &nbsp;of &nbsp;another &nbsp;class.\n",
    "\n",
    "</div>\n"
   ]
  },
  {
   "cell_type": "code",
   "execution_count": null,
   "id": "3823713b-8712-4f75-930c-b8171789fd8b",
   "metadata": {},
   "outputs": [],
   "source": []
  },
  {
   "cell_type": "code",
   "execution_count": null,
   "id": "f6121030-d5ce-455b-831f-ec7ba8239ca5",
   "metadata": {},
   "outputs": [],
   "source": []
  },
  {
   "cell_type": "code",
   "execution_count": null,
   "id": "4510b3ac-edef-40fa-b94e-4ff337a478e4",
   "metadata": {},
   "outputs": [],
   "source": []
  },
  {
   "cell_type": "code",
   "execution_count": null,
   "id": "892e5663-7a61-487e-9a78-46fa8f69f2e2",
   "metadata": {},
   "outputs": [],
   "source": []
  }
 ],
 "metadata": {
  "kernelspec": {
   "display_name": "Python 3 (ipykernel)",
   "language": "python",
   "name": "python3"
  },
  "language_info": {
   "codemirror_mode": {
    "name": "ipython",
    "version": 3
   },
   "file_extension": ".py",
   "mimetype": "text/x-python",
   "name": "python",
   "nbconvert_exporter": "python",
   "pygments_lexer": "ipython3",
   "version": "3.11.3"
  }
 },
 "nbformat": 4,
 "nbformat_minor": 5
}
