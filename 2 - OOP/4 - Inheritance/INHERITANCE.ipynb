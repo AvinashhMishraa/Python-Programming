{
 "cells": [
  {
   "cell_type": "markdown",
   "id": "ad2f82e1-91e6-41da-8737-8bc15f63120d",
   "metadata": {
    "jp-MarkdownHeadingCollapsed": true
   },
   "source": [
    "<br>\n",
    "\n",
    "# <span style=\"color: black\"><strong>Single &nbsp;Inheritance</strong></span>"
   ]
  },
  {
   "cell_type": "markdown",
   "id": "3744ef38-c990-4115-bb42-977133f8e10c",
   "metadata": {
    "jp-MarkdownHeadingCollapsed": true
   },
   "source": [
    "<br>\n",
    "\n",
    "### <span style=\"color: blue; font-size: 1rem;\"><strong>Single &nbsp;Inheritance</strong></span>"
   ]
  },
  {
   "cell_type": "markdown",
   "id": "d0ea5d2e-89ae-42ff-abc4-eb21bd169ed7",
   "metadata": {},
   "source": [
    "\n",
    "<div style=\"background-color: #ffe6ce; padding-top: 5px; padding-bottom: 10px; padding-left: 10px; padding-right: 10px;\"> <br>\n",
    "\n",
    "When &nbsp;one &nbsp;class &nbsp;( &nbsp;<code style=\"background-color: #b3fff9;\">child</code> &nbsp;/ &nbsp;<code style=\"background-color: #b3fff9;\">derived</code> &nbsp;/ &nbsp;<code style=\"background-color: #b3fff9;\">sub</code> &nbsp;) &nbsp;<strong>derives &nbsp;the &nbsp;properties &nbsp;& &nbsp;methods</strong> &nbsp;of &nbsp;another &nbsp;class &nbsp;( &nbsp;<code style=\"background-color: #b3fff9;\">parent</code> &nbsp;/ &nbsp;<code style=\"background-color: #b3fff9;\">base</code> &nbsp;/ &nbsp;<code style=\"background-color: #b3fff9;\">super</code> &nbsp;), &nbsp;we &nbsp;say &nbsp;it &nbsp;<span style=\"color: red;\"><strong>inheritance</strong></span> <br><br>\n",
    "\n",
    "<pre style=\"margin-left: 40px;\">\n",
    "    \n",
    "    <span style=\"color: green\">class</span> <span style=\"color: blue;\">Car</span>:\n",
    "        ...\n",
    "\n",
    "    <span style=\"color: green\">class</span> <span style=\"color: blue;\">ToyotaCar(<span style=\"color: red;\">Car</span>)</span>:\n",
    "        ...\n",
    "\n",
    "</pre>\n",
    "\n",
    "<br>\n",
    "\n",
    "<strong><span style=\"color: red;\">Inheritance</span></strong> &nbsp;allows &nbsp;a &nbsp;class &nbsp;to &nbsp;<u>**reuse** &nbsp;the &nbsp;logic &nbsp;of &nbsp;an &nbsp;existing &nbsp;class</u>\n",
    "    \n",
    "</div>\n",
    "\n",
    "<br>\n",
    "\n"
   ]
  },
  {
   "cell_type": "code",
   "execution_count": 1,
   "id": "f39b99d1-0a47-4eaf-b5c6-41e8034c438d",
   "metadata": {},
   "outputs": [
    {
     "name": "stdout",
     "output_type": "stream",
     "text": [
      "fortuner\n",
      "['black', 'white', 'red']\n",
      "car started..\n",
      "car stopped.\n"
     ]
    }
   ],
   "source": [
    "\n",
    "# PARENT\n",
    "class Car:\n",
    "    color = [\"black\", \"white\", \"red\"]\n",
    "\n",
    "    @staticmethod\n",
    "    def start():\n",
    "        print(\"car started..\")\n",
    "\n",
    "    @ staticmethod\n",
    "    def stop():\n",
    "        print(\"car stopped.\")\n",
    "\n",
    "##################################################################################################################################################\n",
    "\n",
    "# CHILD\n",
    "class ToyotaCar(Car):                        # The  \"ToyotaCar\"  class  inherits  all  the  properties  and  methods  from  the  Car  class\n",
    "    def __init__(self, name):\n",
    "        self.name = name\n",
    "\n",
    "##################################################################################################################################################\n",
    "\n",
    "toyotacar1 = ToyotaCar(\"fortuner\")\n",
    "toyotacar2 = ToyotaCar(\"prius\")\n",
    "\n",
    "print(toyotacar1.name)                       #  personal    attribute      =====>     Output:   fortuner\n",
    "print(toyotacar1.color)                      #  inherited   attribute      =====>     Output:   attribute\n",
    "toyotacar1.start()                           #  inherited   method         =====>     Output:   car started..\n",
    "toyotacar1.stop()                            #  inherited   method         =====>     Output:   car stopped.\n"
   ]
  },
  {
   "cell_type": "markdown",
   "id": "76d380a7-5e6b-4440-a582-9f69662273a3",
   "metadata": {},
   "source": [
    "<br>\n",
    "\n",
    "The &nbsp;above &nbsp;example &nbsp;is &nbsp;of &nbsp;type &nbsp;<strong><u>Single &nbsp;inheritance</u></strong>\n",
    "\n",
    "<div style=\"margin-left: 320px;\">\n",
    "\n",
    "![](../../media/Shraddha_Kapra_oops_9.PNG)\n",
    "\n",
    "</div>\n",
    "\n",
    "<span style=\"color: #06fff0; font-size: 0.7rem;\">■■■■■■■■■■■■■■■■■■■■■■■■■■■■■■■■■■■■■■■■■■■■■■■■■■■■■■■■■■■■■■■■■■■■■■■■■■■■■■■■■■■■■■■■■■■■■■■■■■■■■■■■■■■■■■■</span>\n",
    "\n",
    "<br>\n",
    "\n",
    "<font size=\"+1\">⭐</font>&nbsp;&nbsp;&nbsp;<code style=\"font-size: 1rem; background-color: #77f5ff;\">type()</code> &nbsp;&nbsp;&nbsp;vs&nbsp;&nbsp;&nbsp; <code style=\"font-size: 1rem; background-color: #77f5ff;\">isintance()</code>\n",
    "&nbsp;&nbsp;&nbsp;vs&nbsp;&nbsp;&nbsp; <code style=\"font-size: 1rem; background-color: #77f5ff;\">issubclass()</code>\n",
    "\n",
    "<br>\n"
   ]
  },
  {
   "cell_type": "code",
   "execution_count": 3,
   "id": "9f9d332e-8f8d-48f5-8f29-fc2f1806f81f",
   "metadata": {},
   "outputs": [
    {
     "name": "stdout",
     "output_type": "stream",
     "text": [
      "<class '__main__.Car'>\n",
      "<class '__main__.ToyotaCar'>\n"
     ]
    }
   ],
   "source": [
    "\n",
    "car1 = Car()                               # creates an instance \"car1\" of type \"Car\"\n",
    "print(type(car1))\n",
    "\n",
    "\n",
    "toyotacar1 = ToyotaCar(\"fortuner\")         # creates an instance \"toyotacar1\" of type \"Toyotacar\"\n",
    "print(type(toyotacar1))\n"
   ]
  },
  {
   "cell_type": "markdown",
   "id": "4f4fe6c2-5f48-4ec1-b621-344da77176cb",
   "metadata": {},
   "source": [
    "\n",
    "<pre style=\"background-color: #ffe6ce; padding: 10px;\"> 🔶  To check if an <span style=\"color: blue; font-size: 1rem;\"><strong>object</strong></span> is an instance of a class, you use the <code style=\"background-color: white; color: red;\">isintance()</code> method</pre>\n"
   ]
  },
  {
   "cell_type": "code",
   "execution_count": 4,
   "id": "3096ddb6-993b-4f67-811b-4d4212329adb",
   "metadata": {},
   "outputs": [
    {
     "name": "stdout",
     "output_type": "stream",
     "text": [
      "True\n",
      "False\n",
      "True\n",
      "True\n"
     ]
    }
   ],
   "source": [
    "\n",
    "print(isinstance(car1, Car))                        # True       ====>         \"car1\"  is       an  instance  of  the  \"Car\"  class\n",
    "print(isinstance(car1, ToyotaCar))                  # False      ====>    but  \"car1\"  is  not  an  instance  of  the  \"Car\"  class \n",
    "\n",
    "\n",
    "print(isinstance(toyotacar1, ToyotaCar))            # True       ====>         \"toyotacar1\"  is  an  instance  of  the  \"ToyotaCar\"  class\n",
    "print(isinstance(toyotacar1, Car))                  # True       ====>    and  \"toyotacar1\"  is  an  instance  of  the  \"Car\"        class  also\n"
   ]
  },
  {
   "cell_type": "markdown",
   "id": "117487aa-79eb-481b-926a-16fe7f3444dd",
   "metadata": {},
   "source": [
    "\n",
    "<pre style=\"background-color: #ffe6ce; padding: 10px;\"> ⭐  An object is an <code style=\"background-color: white;\">instance</code> of not only it's <span style=\"font-size: 1rem;\"><strong>parent classes</strong></span> but also of it's <span style=\"font-size: 1rem;\"><strong>own class</strong></span></pre>\n",
    "\n",
    "<pre style=\"background-color: #ffe6ce; padding: 10px;\"> 🔶  To check if a <span style=\"color: blue; font-size: 1rem;\"><strong>class</strong></span> is a subclass of another class, you use the <code style=\"background-color: white; color: red;\">issubclass()</code> function</pre>\n"
   ]
  },
  {
   "cell_type": "code",
   "execution_count": 5,
   "id": "0e65ff0a-0379-4871-90df-81348cd3690a",
   "metadata": {},
   "outputs": [
    {
     "name": "stdout",
     "output_type": "stream",
     "text": [
      "True\n"
     ]
    }
   ],
   "source": [
    "\n",
    "print(issubclass(ToyotaCar, Car))                # True\n"
   ]
  },
  {
   "cell_type": "markdown",
   "id": "14e962c0-6475-4ad2-b141-494fee491112",
   "metadata": {},
   "source": [
    "<br>\n",
    "\n",
    "<span style=\"margin-left: 30px;\">Consider the following example:</span>"
   ]
  },
  {
   "cell_type": "code",
   "execution_count": 34,
   "id": "4f7bcce6-bf1d-4e54-ad57-3e58082fa4a9",
   "metadata": {},
   "outputs": [],
   "source": [
    "\n",
    "# GRAND PARENT\n",
    "class Car:\n",
    "\n",
    "    color = [\"black\", \"white\", \"red\"]\n",
    "    \n",
    "    @staticmethod\n",
    "    def start():\n",
    "        print(\"car started..\")\n",
    "\n",
    "    @ staticmethod\n",
    "    def stop():\n",
    "        print(\"car stopped.\")\n",
    "\n",
    "\n",
    "# PARENT\n",
    "class ToyotaCar(Car):                     # The  \"ToyotaCar\"  class inherits all the properties & methods of the  \"Car\"  class\n",
    "    def __init__(self, brand):\n",
    "        self.brand = brand\n",
    "\n",
    "\n",
    "# CHILD\n",
    "class Fortuner(ToyotaCar):                # The  \"Fortuner\"  class inherits all the properties & methods of both the  \"Car\"  & the  \"ToyotaCar\"  class\n",
    "    def __init__(self, fuel_type):\n",
    "        self.fuel_type = fuel_type\n",
    "                 \n",
    "\n",
    "fortuner1 = Fortuner(\"diesel\")\n"
   ]
  },
  {
   "cell_type": "code",
   "execution_count": 35,
   "id": "e5a1ce4f-28d2-4710-8c60-9002784b8f38",
   "metadata": {},
   "outputs": [
    {
     "name": "stdout",
     "output_type": "stream",
     "text": [
      "True\n",
      "True\n",
      "True\n"
     ]
    }
   ],
   "source": [
    "\n",
    "print(issubclass(Fortuner, Fortuner))          # True\n",
    "print(issubclass(Fortuner, ToyotaCar))         # True\n",
    "print(issubclass(Fortuner, Car))               # True\n"
   ]
  },
  {
   "cell_type": "markdown",
   "id": "86a36861-8261-41f2-924c-e24507a7f8e1",
   "metadata": {},
   "source": [
    "\n",
    "<pre style=\"background-color: #ffe6ce; padding: 10px;\">🔶  When you define a class that doesn’t inherit from any class, it’ll implicitly inherit from the built-in <code style=\"background-color: white; color: red;\"> object </code> class</pre>\n",
    "\n",
    "<code style=\"margin-left: 35px; background-color: white;\">For example, the <code style=\"color: red;\">Car</code> class inherits from the <code style=\"color: red;\">object</code> class implicitly. Therefore, it is a subclass of the <code style=\"color: red;\">object</code> class :</span>\n"
   ]
  },
  {
   "cell_type": "code",
   "execution_count": 8,
   "id": "bb115a20-e2ec-40b5-98ca-f9e1c125c777",
   "metadata": {},
   "outputs": [
    {
     "name": "stdout",
     "output_type": "stream",
     "text": [
      "True\n"
     ]
    }
   ],
   "source": [
    "\n",
    "print(issubclass(Car, object))                 # True\n"
   ]
  },
  {
   "cell_type": "markdown",
   "id": "3c06c7bb-489d-491d-bcaf-f558b198f1d9",
   "metadata": {},
   "source": [
    "<br>\n",
    "\n",
    "<span style=\"color: #06fff0; font-size: 0.7rem;\">■■■■■■■■■■■■■■■■■■■■■■■■■■■■■■■■■■■■■■■■■■■■■■■■■■■■■■■■■■■■■■■■■■■■■■■■■■■■■■■■■■■■■■■■■■■■■■■■■■■■■■■■■■■■■■■</span>\n",
    "\n",
    "<br>\n",
    "\n",
    "\n",
    "Let's check one more example of &nbsp;**Single &nbsp;Inheritance**"
   ]
  },
  {
   "cell_type": "code",
   "execution_count": 27,
   "id": "480bff77-a11d-475e-97fd-06f20ddb9112",
   "metadata": {},
   "outputs": [],
   "source": [
    "\n",
    "class Person:\n",
    "    def __init__(self, name):\n",
    "        self.name = name\n",
    "\n",
    "    def greet(self):\n",
    "        return f\"Hi, it's {self.name}\"\n",
    "\n",
    "\n",
    "class Employee(Person):                                # The  \"Employee\"  class  inherits  all  the  properties  &  methods  of  the  \"Person\"  class\n",
    "    def __init__(self, name, job_title):\n",
    "        self.name = name\n",
    "        self.job_title = job_title\n"
   ]
  },
  {
   "cell_type": "code",
   "execution_count": 26,
   "id": "cb29e5f4-eae0-4ca1-b8ec-1ee25d74e170",
   "metadata": {},
   "outputs": [
    {
     "data": {
      "text/plain": [
       "\"Hi, it's Avinash Mishra\""
      ]
     },
     "execution_count": 26,
     "metadata": {},
     "output_type": "execute_result"
    }
   ],
   "source": [
    "\n",
    "e1 = Employee(\"Avinash Mishra\", \"Data Engineer\")\n",
    "\n",
    "e1.greet()                                             # The  employee  \"e1\"  inherits  the  \"greet()\"  function  from  it's  parent  class  \"Person\"\n"
   ]
  },
  {
   "cell_type": "markdown",
   "id": "fa936b0e-1f7a-4a39-8e18-44639f4b5b8a",
   "metadata": {},
   "source": [
    "<br>\n",
    "\n",
    "<span style=\"color: #06fff0; font-size: 0.7rem;\">■■■■■■■■■■■■■■■■■■■■■■■■■■■■■■■■■■■■■■■■■■■■■■■■■■■■■■■■■■■■■■■■■■■■■■■■■■■■■■■■■■■■■■■■■■■■■■■■■■■■■■■■■■■■■■■</span>\n",
    "\n",
    "<br>\n",
    "\n",
    "Summary :\n",
    "\n",
    "<div style=\"background-color: #ffe6ce; padding-top: 15px; padding-bottom: 4px;\">\n",
    "\n",
    "&nbsp;&nbsp;&nbsp;&nbsp;<span style=\"font-size: 0.7rem; color: red;\">■</span>&nbsp;&nbsp;&nbsp;<span style=\"color: blue;\">**Inheritance**</span> &nbsp;allows &nbsp;a &nbsp;class &nbsp;to &nbsp;<u>reuse</u> &nbsp;existing &nbsp;attributes &nbsp;and &nbsp;methods &nbsp;of &nbsp;another &nbsp;class. <br>\n",
    "\n",
    "&nbsp;&nbsp;&nbsp;&nbsp;<span style=\"font-size: 0.7rem; color: red;\">■</span>&nbsp;&nbsp;&nbsp;The &nbsp;class &nbsp;that &nbsp;inherits &nbsp;from &nbsp;another &nbsp;class &nbsp;is &nbsp;called &nbsp;a &nbsp;**child** &nbsp;class, &nbsp;a &nbsp;**subclass**, &nbsp;or &nbsp;a &nbsp;**derived** &nbsp;class. <br>\n",
    "\n",
    "&nbsp;&nbsp;&nbsp;&nbsp;<span style=\"font-size: 0.7rem; color: red;\">■</span>&nbsp;&nbsp;&nbsp;The &nbsp;class &nbsp;from &nbsp;which &nbsp;other &nbsp;classes &nbsp;inherit &nbsp;is &nbsp;call &nbsp;a &nbsp;**parent** &nbsp;class, &nbsp;a &nbsp;**super** &nbsp;class, &nbsp;or &nbsp;a &nbsp;**base** &nbsp;class. <br>\n",
    "\n",
    "&nbsp;&nbsp;&nbsp;&nbsp;<span style=\"font-size: 0.7rem; color: red;\">■</span>&nbsp;&nbsp;&nbsp;Use &nbsp;<code style=\"background-color: white; color: red;\">isinstance()</code>&nbsp; to &nbsp;check &nbsp;if &nbsp;an &nbsp;object &nbsp;is &nbsp;an &nbsp;instance &nbsp;of &nbsp;a &nbsp;class. <br>\n",
    "\n",
    "&nbsp;&nbsp;&nbsp;&nbsp;<span style=\"font-size: 0.7rem; color: red;\">■</span>&nbsp;&nbsp;&nbsp;Use &nbsp;<code style=\"background-color: white; color: red;\">issubclass()</code>&nbsp; to &nbsp;check &nbsp;if &nbsp;a &nbsp;class &nbsp;is &nbsp;a &nbsp;subclass &nbsp;of &nbsp;another &nbsp;class.\n",
    "\n",
    "</div>\n"
   ]
  },
  {
   "cell_type": "markdown",
   "id": "98483c87-fd81-4ba3-8fe3-847f601afa4d",
   "metadata": {},
   "source": [
    "<br>\n",
    "\n",
    "<span style=\"color: #DCBD10; font-size: 1.2rem;\">▬▬▬▬▬▬▬▬▬▬▬▬▬▬▬▬▬▬▬▬▬▬▬▬▬▬▬▬▬▬▬▬▬▬▬▬▬▬▬▬▬▬▬▬▬▬▬▬▬▬▬▬▬▬▬▬</span>\n"
   ]
  },
  {
   "cell_type": "markdown",
   "id": "99f3a8ee-15c5-4e50-b540-bf300db06ab1",
   "metadata": {
    "jp-MarkdownHeadingCollapsed": true
   },
   "source": [
    "<br>\n",
    "\n",
    "### <span style=\"color: blue; font-size: 1rem;\"><strong>Types &nbsp;of &nbsp;Inheritance</strong></span>\n"
   ]
  },
  {
   "cell_type": "markdown",
   "id": "7c4f8b8d-673b-41da-b8e5-90b7e48e5fe3",
   "metadata": {},
   "source": [
    "1. &nbsp;&nbsp;Single &nbsp;Inheritance\n",
    "2. &nbsp;&nbsp;Multi &nbsp;Level &nbsp;Inheritance\n",
    "3. &nbsp;&nbsp;Multiple &nbsp;Inheritance"
   ]
  },
  {
   "cell_type": "markdown",
   "id": "cc92f89d-5035-4f3c-a83b-da25c416f307",
   "metadata": {},
   "source": [
    "<br>\n",
    "\n",
    "<span style=\"color: #DCBD10; font-size: 1.2rem;\">▬▬▬▬▬▬▬▬▬▬▬▬▬▬▬▬▬▬▬▬▬▬▬▬▬▬▬▬▬▬▬▬▬▬▬▬▬▬▬▬▬▬▬▬▬▬▬▬▬▬▬▬▬▬▬▬</span>\n"
   ]
  },
  {
   "cell_type": "markdown",
   "id": "cdf89019-6a4c-4500-97d4-b3203c6d44a7",
   "metadata": {
    "jp-MarkdownHeadingCollapsed": true
   },
   "source": [
    "<br>\n",
    "\n",
    "### <span style=\"color: blue; font-size: 1rem;\"><strong>Multiple &nbsp;Level &nbsp;Inheritance</strong></span>\n"
   ]
  },
  {
   "cell_type": "markdown",
   "id": "83bf1269-dd4c-4bbc-bfb5-86ee9b0f6fa7",
   "metadata": {},
   "source": [
    "<br>\n",
    "\n",
    "<div style=\"margin-left: 250px;\">\n",
    "\n",
    "![](../../media/Shraddha_Kapra_oops_10.PNG)\n",
    "\n",
    "</div>\n"
   ]
  },
  {
   "cell_type": "code",
   "execution_count": 26,
   "id": "64272adc-cc08-4d4b-94e9-120ea127cc4e",
   "metadata": {},
   "outputs": [],
   "source": [
    "\n",
    "'''-----------------------------------------------------------GRAND PARENT--------------------------------------------------------------------------'''\n",
    "\n",
    "class Car:\n",
    "    color = [\"black\", \"white\", \"red\"]\n",
    "    \n",
    "    @staticmethod\n",
    "    def start():\n",
    "        print(\"car started..\")\n",
    "\n",
    "    @ staticmethod\n",
    "    def stop():\n",
    "        print(\"car stopped.\")\n",
    "\n",
    "'''--------------------------------------------------------------PARENT----------------------------------------------------------------------------'''\n",
    "\n",
    "class ToyotaCar(Car):                             # ToyotaCar class inherts all the attributes of Car class\n",
    "    def __init__(self, brand):\n",
    "        self.brand = brand\n",
    "\n",
    "'''------------------------------------------------------------CHILD PARENT-------------------------------------------------------------------------'''\n",
    "\n",
    "class Fortuner(ToyotaCar):                        # Fortuner class inherts all the attributes of both the ToyotaCar class and the Car class\n",
    "        def __init__(self, fuel_type):\n",
    "            self.fuel_type = fuel_type\n"
   ]
  },
  {
   "cell_type": "markdown",
   "id": "131dc670-9b22-4286-a7da-1379cc6d5169",
   "metadata": {},
   "source": [
    "<br>\n",
    "\n",
    "<pre style=\"background-color: #ffe6ce; padding: 10px;\">\n",
    "The <span style=\"background-color: white; color: red;\"> Toyotacar </span> class inherits all the <span style=\"color: blue;\">attributes</span>, <span style=\"color: blue;\">properties</span> & <span style=\"color: blue;\">methods</span> of the <span style=\"background-color: white; color: red;\"> Car </span> class\n",
    "\n",
    "The <span style=\"background-color: white; color: red;\"> Fortuner </span> class inherits all the <span style=\"color: blue;\">attributes</span>, <span style=\"color: blue;\">properties</span> & <span style=\"color: blue;\">methods</span> of both the <span style=\"background-color: white; color: red;\"> Car </span> & the <span style=\"background-color: white; color: red;\"> ToyotaCar </span> class\n",
    "</pre>\n",
    "\n",
    "<br>\n"
   ]
  },
  {
   "cell_type": "code",
   "execution_count": 27,
   "id": "82ddd797-cb97-4795-98f3-b3ed49f31a75",
   "metadata": {},
   "outputs": [
    {
     "name": "stdout",
     "output_type": "stream",
     "text": [
      "diesel\n",
      "['black', 'white', 'red']\n",
      "car started..\n",
      "car stopped.\n"
     ]
    },
    {
     "ename": "AttributeError",
     "evalue": "'Fortuner' object has no attribute 'brand'",
     "output_type": "error",
     "traceback": [
      "\u001b[1;31m-------------------------------------------------------------\u001b[0m",
      "\u001b[1;31mAttributeError\u001b[0m              Traceback (most recent call last)",
      "Cell \u001b[1;32mIn[27], line 12\u001b[0m\n\u001b[0;32m      8\u001b[0m fortuner1\u001b[38;5;241m.\u001b[39mstart()               \u001b[38;5;66;03m#  Output:          car started..               ==>   fortuner1.start()    is accessible because it's a class method\u001b[39;00m\n\u001b[0;32m      9\u001b[0m fortuner1\u001b[38;5;241m.\u001b[39mstop()                \u001b[38;5;66;03m#  Output:          car stopped.                ==>   fortuner1.stop()     is accessible because it's a class method\u001b[39;00m\n\u001b[1;32m---> 12\u001b[0m \u001b[43mfortuner1\u001b[49m\u001b[38;5;241;43m.\u001b[39;49m\u001b[43mbrand\u001b[49m                 \u001b[38;5;66;03m#  AttributeError:  no attribute 'brand'        ==>   fortuner1.brand      is  not  accessible   ==>   WHY?\u001b[39;00m\n",
      "\u001b[1;31mAttributeError\u001b[0m: 'Fortuner' object has no attribute 'brand'"
     ]
    }
   ],
   "source": [
    "\n",
    "fortuner1 = Fortuner(\"diesel\")\n",
    "\n",
    "\n",
    "print(fortuner1.fuel_type)      #  Output:          diesel                      ==>   fortuner1.fuel_type  is accessible because it's a child attribute\n",
    "\n",
    "\n",
    "print(fortuner1.color)          #  Output:          ['black', 'white', 'red']   ==>   fortuner1.color      is accessible because it's a class attribute\n",
    "fortuner1.start()               #  Output:          car started..               ==>   fortuner1.start()    is accessible because it's a class method\n",
    "fortuner1.stop()                #  Output:          car stopped.                ==>   fortuner1.stop()     is accessible because it's a class method\n",
    "\n",
    "\n",
    "fortuner1.brand                 #  AttributeError:  no attribute 'brand'        ==>   fortuner1.brand      is  not  accessible   ==>   WHY?\n"
   ]
  },
  {
   "cell_type": "markdown",
   "id": "e98c9927-95bd-4420-9828-295f3c3bd528",
   "metadata": {},
   "source": [
    "<br>\n",
    "\n",
    "As shown in the output :\n",
    "\n",
    "<br>\n",
    "\n",
    "<div style=\"background-color: #ffe6ce; padding-top: 5px; padding-bottom: 15px; padding-left: 10px; padding-right: 5px;\"> <br>\n",
    "    \n",
    "<span style=\"background-color: #CCCCFF;\"> &nbsp;&nbsp;brand&nbsp; </span> &nbsp;&nbsp;is &nbsp;<u>not &nbsp;accessible</u> &nbsp;to &nbsp;the &nbsp;Fortuner &nbsp;object &nbsp;<strong>fortuner1</strong>. \n",
    "\n",
    "<span style=\"color: red;\">WHY ?</span>\n",
    "\n",
    "Because &nbsp;it's &nbsp;<strong>not &nbsp;a &nbsp;class &nbsp;attribute</strong>, &nbsp;rather &nbsp;an &nbsp;<span style=\"background-color: white; color: red;\">&nbsp;&nbsp;instance &nbsp;attribute&nbsp;&nbsp;</span> &nbsp;and &nbsp;<span style=\"background-color: white;\"> &nbsp;that &nbsp;too &nbsp;not &nbsp;of &nbsp;it's &nbsp;own &nbsp;but &nbsp;of &nbsp;the &nbsp;<strong>parent</strong> &nbsp;of &nbsp;the &nbsp;<strong>fortuner1</strong> &nbsp;object&nbsp;&nbsp; </span>\n",
    "</div>\n",
    "\n",
    "<div style=\"background-color: #fff4e2; padding-top: 5px; padding-bottom: 15px; padding-left: 10px; padding-right: 5px;\"> <br>\n",
    "\n",
    "<div style=\"display: flex;\">\n",
    "<div><span style=\"font-size: 0.9rem; color: red;\">■</span></div>\n",
    "<div style=\"margin-left: 20px;\">To fix the error, the &nbsp;<code style=\"background-color: white;\">Fortuner</code>&nbsp; class needs to call the &nbsp;<code style=\"color: red; background-color: white;\">__init__</code>&nbsp; method of its <strong>superclass</strong> &nbsp;<code style=\"background-color: white;\">ToyotaCar</code>&nbsp; to properly <strong>initialize</strong> the &nbsp;<span style=\"background-color: #CCCCFF\"> &nbsp;brand&nbsp; </span>&nbsp; attribute. &nbsp;This can be done using &nbsp;<strong><span style=\"color: blue; font-size: 0.9rem;\">super( )</span></strong>&nbsp; method.\n",
    "</div>\n",
    "</div>\n",
    "\n",
    "<br>\n",
    "\n",
    "<div style=\"display: flex;\">\n",
    "<div><span style=\"font-size: 0.9rem; color: red;\">■</span></div>\n",
    "<div style=\"margin-left: 20px;\">In Python, &nbsp;<strong><span style=\"color: blue; font-size: 0.9rem;\">super( )</span></strong> is a built-in function that returns a <strong>proxy object</strong>. &nbsp;<u>This proxy object allows you to access methods and properties of a <span style=\"color: blue;\">parent</span> or <span style=\"color: blue;\">superclass</span> from within a subclass</u>. &nbsp;The primary use of &nbsp;<strong><span style=\"color: blue; font-size: 0.9rem;\">super( )</span></strong> is to extend the functionality of inherited methods, rather than overriding them completely, and to ensure that the proper <strong><span style=\"color: red;\">method resolution order (MRO)</span></strong> is followed, especially in <strong><span style=\"color: red;\">multiple inheritance</span></strong> scenarios.\n",
    "</div>\n",
    "</div>\n",
    "\n",
    "</div>\n",
    "\n",
    "<br>"
   ]
  },
  {
   "cell_type": "markdown",
   "id": "d1edf4b1-f4c0-4f1f-9751-33b25eecbacd",
   "metadata": {},
   "source": [
    "\n",
    "<div style=\"margin-left: 40px;\">\n",
    "\n",
    "![](../../media/Shraddha_Kapra_oops_70.PNG)\n",
    "\n",
    "</div>\n"
   ]
  },
  {
   "cell_type": "code",
   "execution_count": 39,
   "id": "53fb5bbe-09cf-4560-962f-849c14224dbc",
   "metadata": {},
   "outputs": [],
   "source": [
    "\n",
    "'''-----------------------------------------------------------GRAND PARENT--------------------------------------------------------------------------'''\n",
    "\n",
    "class Car:\n",
    "    color = [\"black\", \"white\", \"red\"]\n",
    "    \n",
    "    @staticmethod\n",
    "    def start():\n",
    "        print(\"car started..\")\n",
    "\n",
    "    @ staticmethod\n",
    "    def stop():\n",
    "        print(\"car stopped.\")\n",
    "\n",
    "'''--------------------------------------------------------------PARENT----------------------------------------------------------------------------'''\n",
    "\n",
    "class ToyotaCar(Car):                             # ToyotaCar class inherts all the attributes of Car class\n",
    "    def __init__(self, brand):\n",
    "        self.brand = brand\n",
    "\n",
    "'''------------------------------------------------------------CHILD PARENT-------------------------------------------------------------------------'''\n",
    "\n",
    "class Fortuner(ToyotaCar):                        # Fortuner class inherts all the attributes of both the ToyotaCar class and the Car class\n",
    "        def __init__(self, brand, fuel_type):\n",
    "            super().__init__(brand)               # To initialize the brand attribute of it's parent class ToyotaCar\n",
    "            self.fuel_type = fuel_type\n"
   ]
  },
  {
   "cell_type": "code",
   "execution_count": 40,
   "id": "d7fc30fe-528f-4988-8109-77ec847f3a4f",
   "metadata": {},
   "outputs": [
    {
     "name": "stdout",
     "output_type": "stream",
     "text": [
      "diesel\n",
      "['black', 'white', 'red']\n",
      "car started..\n",
      "car stopped.\n",
      "This car is a Fortuner of Toyota_Fortuner_version1 brand & diesel type.\n"
     ]
    }
   ],
   "source": [
    "\n",
    "fortuner1 = Fortuner(\"Toyota_Fortuner_version1\", \"diesel\")\n",
    "\n",
    "\n",
    "print(fortuner1.fuel_type)          #  Output:      diesel                         =====>    car1.type     is  accessible\n",
    "print(fortuner1.color)              #  Output:      ['black', 'white', 'red']      =====>    car1.color    is  accessible\n",
    "fortuner1.start()                   #  Output:      car started..                  =====>    car1.start()  is  accessible\n",
    "fortuner1.stop()                    #  Output:      car stopped.                   =====>    car1.stop()   is  accessible\n",
    "fortuner1.brand                     #  Output:      'Toyota'                       =====>    car1.brand    is  accessible\n",
    "\n",
    "\n",
    "print(f\"This car is a Fortuner of {fortuner1.brand} brand & {fortuner1.fuel_type} type.\")\n"
   ]
  },
  {
   "cell_type": "markdown",
   "id": "dcd364ea-b531-49ec-b4c0-fe621fb42c60",
   "metadata": {},
   "source": [
    "<br>\n",
    "\n",
    "🔶 &nbsp;&nbsp;Now &nbsp;that &nbsp;we &nbsp;know &nbsp;how &nbsp;to &nbsp;use &nbsp;<strong><span style=\"color: blue;\">super( )</span></strong>, &nbsp;we &nbsp;can &nbsp;<strong><span style=\"color: black;\">update</span></strong> &nbsp;the &nbsp;<span style=\"background-color: #a3fffc;\">parent &nbsp;<u>attribute</u></span> &nbsp;<span style=\"color: black;\"><strong>brand</strong></span> &nbsp;of &nbsp;the &nbsp;<span style=\"background-color: #a3fffc;\">child &nbsp;<u>object</u></span> &nbsp;<span style=\"color: red;\">\"fortuner1\"</span> &nbsp;like &nbsp;the &nbsp;following :"
   ]
  },
  {
   "cell_type": "code",
   "execution_count": 41,
   "id": "0897aabe-1202-4b6c-be23-be11f0151f34",
   "metadata": {},
   "outputs": [
    {
     "data": {
      "text/plain": [
       "'Toyota_Fortuner_version2'"
      ]
     },
     "execution_count": 41,
     "metadata": {},
     "output_type": "execute_result"
    }
   ],
   "source": [
    "\n",
    "fortuner1.brand = \"Toyota_Fortuner_version2\"\n",
    "\n",
    "fortuner1.brand\n"
   ]
  },
  {
   "cell_type": "markdown",
   "id": "88d51d9c-62ec-4ab7-b6ab-6e8a317a60f2",
   "metadata": {},
   "source": [
    "<br>\n",
    "\n",
    "<span style=\"color: #06fff0; font-size: 0.7rem;\">■■■■■■■■■■■■■■■■■■■■■■■■■■■■■■■■■■■■■■■■■■■■■■■■■■■■■■■■■■■■■■■■■■■■■■■■■■■■■■■■■■■■■■■■■■■■■■■■■■■■■■■■■■■■■■■</span>\n",
    "\n",
    "<br>\n",
    "\n",
    "<div style=\"background-color: #ffe6ce; padding-top: 5px; padding-bottom: 15px; padding-left: 10px; padding-right: 5px;\"> <br>\n",
    "\n",
    "Now&nbsp; that&nbsp; we&nbsp; know &nbsp;<strong><span style=\"color: blue;\">super( )</span></strong> &nbsp;is&nbsp; used&nbsp; as&nbsp; a&nbsp; method&nbsp; to&nbsp; <strong>initialize</strong>&nbsp; the&nbsp; <u>attributes</u>&nbsp; &&nbsp; <u>methods</u>&nbsp; of&nbsp; the&nbsp; <span style=\"color: red;\">parent &nbsp;(<strong>super</strong> &nbsp;class)</span>&nbsp; of&nbsp; the&nbsp; <strong>child&nbsp; class</strong>&nbsp; you&nbsp; are&nbsp; currently&nbsp; in ,   <br>\n",
    "\n",
    "the&nbsp; <strong>next&nbsp; question&nbsp;</strong> that&nbsp; arises&nbsp; is&nbsp; <span style=\"background-color: white;\">&nbsp;how&nbsp; to&nbsp; use&nbsp; this&nbsp; <strong><span style=\"color: blue;\">super( )</span></strong>&nbsp; method&nbsp; to&nbsp; <strong>initialize</strong>&nbsp; the&nbsp; <u>attributes</u>&nbsp; &&nbsp; <u>methods</u>&nbsp; of&nbsp; the&nbsp; <span style=\"color: red;\">grand&nbsp; parent</span>&nbsp; of&nbsp; this&nbsp; <strong>child&nbsp; class</strong>&nbsp;</span> ?\n",
    "\n",
    "</div>\n",
    "\n",
    "<br>\n",
    "\n",
    "&nbsp;<code style=\"background-color: white;\">For example, how to initialize the <code style=\"color: black; background-color: #CCCCFF;\">price</code> attribute (coming from the <span style=\"background-color: #f9e79f; color: black;\">grand parent</span>) while creating an <span style=\"background-color: #f9e79f; color: black;\">object of Fortuner class</span> ?</code> \n"
   ]
  },
  {
   "cell_type": "markdown",
   "id": "ec6a4aef-8153-4b1a-bf4d-9abc90d6a2e9",
   "metadata": {},
   "source": [
    "\n",
    "<div style=\"margin-left: 80px;\">\n",
    "\n",
    "![](../../media/Shraddha_Kapra_oops_71.PNG)\n",
    "\n",
    "</div>"
   ]
  },
  {
   "cell_type": "code",
   "execution_count": 42,
   "id": "1dfcf519-4f2e-4d63-bf7f-3bc7cefb72b0",
   "metadata": {},
   "outputs": [],
   "source": [
    "\n",
    "class Car:\n",
    "    color = [\"black\", \"white\", \"red\"]\n",
    "    \n",
    "    @staticmethod\n",
    "    def start():\n",
    "        print(\"car started..\")\n",
    "\n",
    "    @ staticmethod\n",
    "    def stop():\n",
    "        print(\"car stopped.\")\n",
    "\n",
    "    def __init__(self, price):\n",
    "        self.price = price\n",
    "\n",
    "\n",
    "class ToyotaCar(Car):                                              #  inherits  from  the  Car  (parent)  class\n",
    "    def __init__(self, brand, price):\n",
    "        super().__init__(price)                                    #  to  initialize  the  price  attribute  coming  from  the  grand  parent\n",
    "        self.brand = brand\n",
    "\n",
    "\n",
    "class Fortuner(ToyotaCar):                                         #  inherits  from  both  the  Car (grand parent)  &  the  ToyotaCar  (parent)  class\n",
    "        def __init__(self, brand, fuel_type, price):\n",
    "            super().__init__(brand, price)                         #  to  initialize  the  brand (parent attribute)  &  price (grandparent attribute)\n",
    "            self.fuel_type = fuel_type\n",
    "\n",
    "\n",
    "fortuner1 = Fortuner(\"Toyota\", \"Diesel\", 5000)\n"
   ]
  },
  {
   "cell_type": "markdown",
   "id": "fd5cd953-f5c8-4a0d-8cfa-9c386276ed0f",
   "metadata": {},
   "source": [
    "<br>\n",
    "\n",
    "🔶 &nbsp;&nbsp;Now &nbsp;the &nbsp;<span style=\"color: red;\">child object</span> &nbsp;<strong>fortuner1</strong> &nbsp;<u>can &nbsp;directly &nbsp;access &nbsp;or &nbsp;modify</u> &nbsp;the &nbsp;atrribute &nbsp;<code style=\"background-color: #CCCCFF;\">price</code> &nbsp;of &nbsp;the <span style=\"color: red;\">grand parent</span> &nbsp;class &nbsp;<strong>Car</strong>\n"
   ]
  },
  {
   "cell_type": "code",
   "execution_count": 7,
   "id": "de485125-a0b9-4c2e-8d50-a49c421daa08",
   "metadata": {},
   "outputs": [
    {
     "data": {
      "text/plain": [
       "5000"
      ]
     },
     "execution_count": 7,
     "metadata": {},
     "output_type": "execute_result"
    }
   ],
   "source": [
    "\n",
    "fortuner1.price\n"
   ]
  },
  {
   "cell_type": "code",
   "execution_count": 8,
   "id": "3ecef503-53fd-4bbd-87d9-237a8e22c7e5",
   "metadata": {},
   "outputs": [
    {
     "data": {
      "text/plain": [
       "2999999"
      ]
     },
     "execution_count": 8,
     "metadata": {},
     "output_type": "execute_result"
    }
   ],
   "source": [
    "\n",
    "fortuner1.price = 2999999\n",
    "\n",
    "fortuner1.price\n"
   ]
  },
  {
   "cell_type": "markdown",
   "id": "fc711b5b-ed84-412e-8101-849d44f99200",
   "metadata": {},
   "source": [
    "<br>\n",
    "\n",
    "🔶 &nbsp;&nbsp;So &nbsp;now &nbsp;the &nbsp;<span style=\"color: red;\">child object</span> &nbsp;<strong>fortuner1</strong> &nbsp;can &nbsp;directly &nbsp;access &nbsp;or &nbsp;modify &nbsp;all &nbsp;the &nbsp;attributes &nbsp;and &nbsp;methods &nbsp;of &nbsp;the &nbsp;family :"
   ]
  },
  {
   "cell_type": "code",
   "execution_count": 27,
   "id": "544f0be6-51ec-421a-89b3-8f93079a9998",
   "metadata": {},
   "outputs": [
    {
     "data": {
      "text/plain": [
       "{'price': 5000, 'brand': 'Toyota', 'fuel_type': 'Diesel'}"
      ]
     },
     "execution_count": 27,
     "metadata": {},
     "output_type": "execute_result"
    }
   ],
   "source": [
    "\n",
    "fortuner1.__dict__\n"
   ]
  },
  {
   "cell_type": "code",
   "execution_count": 22,
   "id": "5d5002a0-5d46-4ff5-aca7-53056bee6dca",
   "metadata": {},
   "outputs": [
    {
     "name": "stdout",
     "output_type": "stream",
     "text": [
      "Diesel\n",
      "Toyota\n",
      "['black', 'white', 'red']\n",
      "car started..\n",
      "car stopped.\n",
      "5000\n"
     ]
    }
   ],
   "source": [
    "\n",
    "print(fortuner1.fuel_type)                         #  Diesel                            ======>  \"fuel_type\"  is  it's  own  attribute  \n",
    "\n",
    "\n",
    "print(fortuner1.brand)                             #  'Toyota'                          ======>  \"brand\"      is  the  parent  attribute\n",
    "\n",
    "\n",
    "print(fortuner1.color)                             #  ['black', 'white', 'red']         ======>  \"color\"      is  the  grand  parent  attribute\n",
    "fortuner1.start()                                  #  car started..                     ======>  \"start()\"    is  the  grand  parent  method\n",
    "fortuner1.stop()                                   #  car stopped.                      ======>  \"stop()\"     is  the  grand  parent  method\n",
    "print(fortuner1.price)                             #  50000                             ======>  \"price\"      is  the  grand  parent  attribute\n"
   ]
  },
  {
   "cell_type": "markdown",
   "id": "e579856b-a4b4-446d-abe9-0be7ab79e4d1",
   "metadata": {},
   "source": [
    "<br>\n",
    "\n",
    "<span style=\"color: #DCBD10; font-size: 1.2rem;\">▬▬▬▬▬▬▬▬▬▬▬▬▬▬▬▬▬▬▬▬▬▬▬▬▬▬▬▬▬▬▬▬▬▬▬▬▬▬▬▬▬▬▬▬▬▬▬▬▬▬▬▬▬▬▬▬</span>\n"
   ]
  },
  {
   "cell_type": "markdown",
   "id": "43cef114-de29-4ce6-bc2f-f3801ecfb11d",
   "metadata": {
    "jp-MarkdownHeadingCollapsed": true
   },
   "source": [
    "<br>\n",
    "\n",
    "# <span style=\"color: black\"><strong>Multiple &nbsp;Inheritance</strong></span>"
   ]
  },
  {
   "cell_type": "markdown",
   "id": "b90a31cd-f1ec-4e5c-b58e-57308338b6fd",
   "metadata": {
    "jp-MarkdownHeadingCollapsed": true
   },
   "source": [
    "<br>\n",
    "\n",
    "### <span style=\"color: blue; font-size: 1rem;\"><strong>Multiple &nbsp;Inheritance</strong></span>\n"
   ]
  },
  {
   "cell_type": "markdown",
   "id": "63f836c8-3f69-497e-a1ea-75723f453617",
   "metadata": {},
   "source": [
    "<br>\n",
    "\n",
    "<div style=\"margin-left: 250px;\">\n",
    "\n",
    "![](../../media/Shraddha_Kapra_oops_13.PNG)\n",
    "\n",
    "</div>\n",
    "\n",
    "\n",
    "🔶 &nbsp;&nbsp;When a class inherits from a single class, you have <strong>single inheritance</strong> . &nbsp;Python allows a class <span style=\"background-color: yellow;\">to inherit from multiple classes</span> <br>\n",
    "&nbsp;&nbsp;&nbsp;&nbsp;&nbsp;&nbsp;&nbsp;&nbsp;<span style=\"color: blue;\">If a class inherits from <u>two or more</u> classes, you’ll have <strong>multiple inheritance</strong>.</span>\n",
    "\n",
    "🔶 &nbsp;&nbsp;To extend <u>multiple classes</u>, you specify the <u>parent classes</u> inside the parentheses <code style=\"color: red;\">( )</code> after the class name of the child class like this :\n",
    "\n",
    "<div style=\"margin-left: 80px;\">\n",
    "\n",
    "![](../../media/Shraddha_Kapra_oops_73.PNG)\n",
    "\n",
    "</div>\n",
    "\n",
    "<span style=\"color: #06fff0; font-size: 0.7rem;\">■■■■■■■■■■■■■■■■■■■■■■■■■■■■■■■■■■■■■■■■■■■■■■■■■■■■■■■■■■■■■■■■■■■■■■■■■■■■■■■■■■■■■■■■■■■■■■■■■■■■■■■■■■■■■■■</span>\n",
    "\n",
    "<br>\n",
    "\n",
    "<code style=\"color: white; background-color: black;\">Example - 1</code>"
   ]
  },
  {
   "cell_type": "code",
   "execution_count": 13,
   "id": "96f1b6ef-b332-41a2-9e9b-b4b45d94e49d",
   "metadata": {},
   "outputs": [
    {
     "name": "stdout",
     "output_type": "stream",
     "text": [
      "welcome to class C\n",
      "welcome to class B\n",
      "welcome to class A\n"
     ]
    }
   ],
   "source": [
    "\n",
    "class A:                                     #  PARENT - 1\n",
    "    varA = \"welcome to class A\"\n",
    "\n",
    "\n",
    "class B:                                     #  PARENT - 2\n",
    "    varB = \"welcome to class B\"\n",
    "\n",
    "\n",
    "class C(A , B):                              #  inherits  from  both  parent  classes  \"A\"  and  \"B\"\n",
    "    varC = \"welcome to class C\"\n",
    "\n",
    "\n",
    "c1 = C()                                     #  creates an object \"c1\" of type \"C\"\n",
    "\n",
    "\n",
    "print(c1.varC)                               #  \"varC\"  is  a  class  attribute  and  hence  accessible  to  the  child  object  \"c1\"\n",
    "print(c1.varB)                               #  \"varB\"  is  a  class  attribute  and  hence  accessible  to  the  child  object  \"c1\"\n",
    "print(c1.varA)                               #  \"varA\"  is  a  class  attribute  and  hence  accessible  to  the  child  object  \"c1\"\n"
   ]
  },
  {
   "cell_type": "markdown",
   "id": "44b613a0-0b6e-42a3-8011-a6414b76eab2",
   "metadata": {},
   "source": [
    "<br>\n",
    "\n",
    "<span style=\"color: #06fff0; font-size: 0.7rem;\">■■■■■■■■■■■■■■■■■■■■■■■■■■■■■■■■■■■■■■■■■■■■■■■■■■■■■■■■■■■■■■■■■■■■■■■■■■■■■■■■■■■■■■■■■■■■■■■■■■■■■■■■■■■■■■■</span>\n",
    "\n",
    "<br>\n",
    "\n",
    "<code style=\"color: white; background-color: black;\">Example - 2</code>\n",
    "\n",
    "<br>\n",
    "\n",
    "<div style=\"margin-left: 250px;\">\n",
    "\n",
    "![](../../media/Shraddha_Kapra_oops_72.PNG)\n",
    "\n",
    "</div>"
   ]
  },
  {
   "cell_type": "code",
   "execution_count": 54,
   "id": "19e114f7-32b9-4d46-8f34-0ef9f3f70782",
   "metadata": {},
   "outputs": [
    {
     "name": "stdout",
     "output_type": "stream",
     "text": [
      "Method in D\n",
      "Method in B\n",
      "Method in C\n",
      "Method in A\n"
     ]
    }
   ],
   "source": [
    "\n",
    "class A:\n",
    "    def method(self):\n",
    "        print(\"Method in A\")\n",
    "\n",
    "class B(A):\n",
    "    def method(self):\n",
    "        print(\"Method in B\")\n",
    "        super().method()\n",
    "\n",
    "class C(A):\n",
    "    def method(self):\n",
    "        print(\"Method in C\")\n",
    "        super().method()\n",
    "\n",
    "class D(B, C):\n",
    "    def method(self):\n",
    "        print(\"Method in D\")\n",
    "        super().method()               #  D(B, C)   =====>   calls the start() method of the class \"B\" not \"C\"\n",
    "\n",
    "\n",
    "d1 = D()                               #  creates  an  object  \"d\"  of  type  \"D\"\n",
    "\n",
    "d1.method()\n"
   ]
  },
  {
   "cell_type": "markdown",
   "id": "9d0ef843-8808-4820-a674-d05b53cc11ae",
   "metadata": {},
   "source": [
    "<br>\n",
    "\n",
    "🔶 &nbsp;&nbsp;You &nbsp;must &nbsp;be &nbsp;wondering &nbsp;why &nbsp;the &nbsp;output &nbsp;sequence &nbsp;is &nbsp;<strong><span style=\"font-size: 1.001rem; color: black;\">not</span></strong> &nbsp;like &nbsp;\" <strong><span style=\"font-size: 1.001rem; color: red;\">D</span></strong> &nbsp;==>&nbsp; <strong><span style=\"font-size: 1.001rem; color: red;\">B</span></strong> &nbsp;==>&nbsp; <strong><span style=\"font-size: 1.001rem; color: red;\">A</span></strong> &nbsp;==>&nbsp; <strong><span style=\"font-size: 1.001rem; color: red;\">C</span></strong> \" ? <br>\n",
    "&nbsp;&nbsp;&nbsp;&nbsp;&nbsp;&nbsp;&nbsp;&nbsp;&nbsp;Well &nbsp;it's &nbsp;due &nbsp;to &nbsp;something &nbsp;called &nbsp;as &nbsp;<span style=\"background-color: yellow;\">Method Resolution Order</span> &nbsp;in &nbsp;Python.\n",
    "\n",
    "<br>\n",
    "\n",
    "<div style=\"background-color: #ffe6ce; padding-top: 5px; padding-bottom: 15px; padding-left: 10px; padding-right: 5px;\"> <br>\n",
    "\n",
    "The &nbsp;**Method Resolution Order (MRO)** &nbsp;in &nbsp;Python &nbsp;determines &nbsp;<span style=\"color: blue;\"><u>the &nbsp;order &nbsp;in &nbsp;which &nbsp;**base &nbsp;classes** &nbsp;are &nbsp;searched &nbsp;when &nbsp;executing &nbsp;a &nbsp;method</u></span>. &nbsp;\n",
    "\n",
    "In &nbsp;other &nbsp;words, &nbsp;it &nbsp;determines &nbsp;the &nbsp;order &nbsp;in &nbsp;which &nbsp;methods &nbsp;are &nbsp;called. \n",
    "\n",
    "**MRO** &nbsp;is &nbsp;particularly &nbsp;important &nbsp;in &nbsp;cases &nbsp;of &nbsp;**multiple &nbsp;inheritance**, &nbsp;<span style=\"background-color: white;\"> &nbsp;where &nbsp;a &nbsp;class &nbsp;inherits &nbsp;from &nbsp;more &nbsp;than &nbsp;one &nbsp;**parent &nbsp;class**. &nbsp;</span> <br>\n",
    "\n",
    "</div>\n",
    "\n",
    "<div style=\"background-color: #fff7e0; padding-top: 5px; padding-bottom: 15px; padding-left: 10px; padding-right: 5px;\"> <br>\n",
    "\n",
    "<u><strong><span style=\"color: #73716f;\">How &nbsp;<span style=\"color: black;\">MRO</span> &nbsp;Works?</span></strong></u>\n",
    "\n",
    "&nbsp;&nbsp;&nbsp;&nbsp;&nbsp;&nbsp;&nbsp;&nbsp;&nbsp;In Python, <strong>MRO</strong> follows the &nbsp;<span style=\"color: #ff0124;\">C3 linearization algorithm</span>&nbsp; (also known as <span style=\"color: #ff0124;\">C3 superclass linearization</span>). &nbsp;The <strong>MRO</strong> ensures that :\n",
    "\n",
    "&nbsp;&nbsp;&nbsp;&nbsp;&nbsp;&nbsp;&nbsp;&nbsp;&nbsp;&nbsp;&nbsp;&nbsp;&nbsp;&nbsp;&nbsp;&nbsp;&nbsp;&nbsp;1. &nbsp;<code style=\"color: blue; background-color: #fff7e0;\">Child classes are considered before parent classes.</code><br>\n",
    "\n",
    "&nbsp;&nbsp;&nbsp;&nbsp;&nbsp;&nbsp;&nbsp;&nbsp;&nbsp;&nbsp;&nbsp;&nbsp;&nbsp;&nbsp;&nbsp;&nbsp;&nbsp;&nbsp;2. &nbsp;<code style=\"color: blue; background-color: #fff7e0;\">If a class inherits from multiple classes, the order of those parent classes in the inheritance list is respected.</code><br>\n",
    "\n",
    "&nbsp;&nbsp;&nbsp;&nbsp;&nbsp;&nbsp;&nbsp;&nbsp;&nbsp;&nbsp;&nbsp;&nbsp;&nbsp;&nbsp;&nbsp;&nbsp;&nbsp;&nbsp;3. &nbsp;<code style=\"color: blue; background-color: #fff7e0;\">If a class appears more than once in the hierarchy, it is only considered the first time.</code>\n",
    "\n",
    "</div>\n",
    "\n",
    "<br>"
   ]
  },
  {
   "cell_type": "markdown",
   "id": "ad461603-626e-4e49-898b-f1d46187c2a2",
   "metadata": {},
   "source": [
    "\n",
    "<div style=\"margin-left: 70px;\">\n",
    "\n",
    "![](../../media/Shraddha_Kapra_oops_18.PNG)\n",
    "\n",
    "</div>\n"
   ]
  },
  {
   "cell_type": "markdown",
   "id": "7bbe1aa0-38c6-4b6c-af3f-f74d0092e46e",
   "metadata": {},
   "source": [
    "\n",
    "⭐ &nbsp;&nbsp;<span style=\"background-color: #d3ffc0; padding: 5px;\">The &nbsp;<span style=\"color: blue; font-size: 1.02rem\"><strong>super( )</strong></span> &nbsp;follows &nbsp;the &nbsp;<strong>MRO</strong> &nbsp;on &nbsp;the &nbsp;basis &nbsp;of &nbsp;<strong>First &nbsp;In &nbsp;First &nbsp;Out</strong> &nbsp;( <span style=\"color: red;\">queue</span> )</span>\n",
    "\n",
    "⭐ &nbsp;&nbsp;<span style=\"background-color: #d3ffc0; padding: 5px;\">You &nbsp;can &nbsp;check &nbsp;the &nbsp;<strong>MRO</strong> &nbsp;of &nbsp;any &nbsp;class &nbsp;using &nbsp;the &nbsp;<span style=\"background-color: #8bff59;\"><span style=\"color: red;\"><strong>\\_\\_mro__</strong></span> &nbsp;<strong>attribute</strong></span> &nbsp;or &nbsp;the &nbsp;<span style=\"background-color: #8bff59;\"><span style=\"color: red;\"><strong>mro( )</strong></span> &nbsp;<strong>method</strong></span></span> &nbsp;&nbsp;<font size=\"+2\">↴</font>\n"
   ]
  },
  {
   "cell_type": "code",
   "execution_count": 3,
   "id": "d6e40b75-fc49-43ca-a9dc-b4a686e5c1b9",
   "metadata": {},
   "outputs": [
    {
     "data": {
      "text/plain": [
       "[__main__.D, __main__.B, __main__.C, __main__.A, object]"
      ]
     },
     "execution_count": 3,
     "metadata": {},
     "output_type": "execute_result"
    }
   ],
   "source": [
    "\n",
    "D.mro()\n"
   ]
  },
  {
   "cell_type": "markdown",
   "id": "3bdd40a5-2bd2-444e-98c4-cb06c75d2497",
   "metadata": {},
   "source": [
    "<br>\n",
    "\n",
    "🔶 &nbsp;<code style=\"background-color: white;\">Let's check the</code> <strong>MRO</strong> <code style=\"background-color: white;\">of each class in the above example for better understanding of the</code> <span style=\"background-color: yellow;\">Method Resolution Order</span> &nbsp;&nbsp;<font size=\"+2\">↴</font></span>"
   ]
  },
  {
   "cell_type": "code",
   "execution_count": 4,
   "id": "06c315d7-3517-41f6-91ad-c7d14fbba9e2",
   "metadata": {},
   "outputs": [
    {
     "name": "stdout",
     "output_type": "stream",
     "text": [
      "[<class '__main__.A'>, <class 'object'>]\n",
      "[<class '__main__.B'>, <class '__main__.A'>, <class 'object'>]\n",
      "[<class '__main__.C'>, <class '__main__.A'>, <class 'object'>]\n",
      "[<class '__main__.D'>, <class '__main__.B'>, <class '__main__.C'>, <class '__main__.A'>, <class 'object'>]\n"
     ]
    }
   ],
   "source": [
    "\n",
    "print(A.mro())\n",
    "print(B.mro())\n",
    "print(C.mro())\n",
    "print(D.mro())\n"
   ]
  },
  {
   "cell_type": "markdown",
   "id": "9ef6b190-0dc4-40c2-9113-0445341dd3ee",
   "metadata": {},
   "source": [
    "<br>\n",
    "\n",
    "🔶 &nbsp;<code style=\"background-color: white;\">Let's now <span style=\"font-size: 0.92rem;\"><strong>flip</strong></span> the sequence <code style=\"color: blue;\">D(B, C)</code> to <code style=\"color: blue;\">D(C, B)</code>, the <code style=\"background-color: yellow;\">\\_\\_mro__</code> will change accordingly :</code>"
   ]
  },
  {
   "cell_type": "code",
   "execution_count": 61,
   "id": "6c3fa7a2-b6c3-4bb0-a457-60175d1b792f",
   "metadata": {},
   "outputs": [],
   "source": [
    "\n",
    "class A:\n",
    "    def method(self):\n",
    "        print(\"Method in A\")\n",
    "\n",
    "class B(A):\n",
    "    def method(self):\n",
    "        print(\"Method in B\")\n",
    "        super().method()\n",
    "\n",
    "class C(A):\n",
    "    def method(self):\n",
    "        print(\"Method in C\")\n",
    "        super().method()\n",
    "\n",
    "class D(C, B):\n",
    "    def method(self):\n",
    "        print(\"Method in D\")\n",
    "        super().method()             # D(C, B)   =====>   calls the start() method of the class \"C\" not \"B\"\n"
   ]
  },
  {
   "cell_type": "code",
   "execution_count": 62,
   "id": "0fc00c86-d862-4993-a1a3-a7e02883b529",
   "metadata": {},
   "outputs": [
    {
     "data": {
      "text/plain": [
       "[__main__.D, __main__.C, __main__.B, __main__.A, object]"
      ]
     },
     "execution_count": 62,
     "metadata": {},
     "output_type": "execute_result"
    }
   ],
   "source": [
    "\n",
    "D.mro()\n"
   ]
  },
  {
   "cell_type": "code",
   "execution_count": 63,
   "id": "7ef0e2e6-40fe-4709-8950-497d5e381454",
   "metadata": {},
   "outputs": [
    {
     "name": "stdout",
     "output_type": "stream",
     "text": [
      "Method in D\n",
      "Method in C\n",
      "Method in B\n",
      "Method in A\n"
     ]
    }
   ],
   "source": [
    "\n",
    "d1 = D()                      # creates  an  object  \"d\"  of  type  \"D\"\n",
    "\n",
    "d1.method()                   # based on their orders in the method order resolution\n"
   ]
  },
  {
   "cell_type": "markdown",
   "id": "73876600-5288-4821-b2fe-a9ff29260916",
   "metadata": {},
   "source": [
    "<br>\n",
    "\n",
    "<span style=\"color: #06fff0; font-size: 0.7rem;\">■■■■■■■■■■■■■■■■■■■■■■■■■■■■■■■■■■■■■■■■■■■■■■■■■■■■■■■■■■■■■■■■■■■■■■■■■■■■■■■■■■■■■■■■■■■■■■■■■■■■■■■■■■■■■■■</span>\n",
    "\n",
    "<br>\n",
    "\n",
    "<code style=\"color: white; background-color: black;\">Example - 3</code>\n",
    "\n",
    "🔶 &nbsp;<code style=\"background-color: white;\">Let's see how this</code> <span style=\"background-color: yellow;\">Method Resolution Order</span> <code style=\"background-color: white;\">works in case we have a</code> <span style=\"color: red;\">class method</span> <code style=\"background-color: white;;\">and an</code> <span style=\"color: red;\">instance method</span> &nbsp;<span style=\"background-color: #ffeac9;\">with the <u>same name</u></span> &nbsp;&nbsp;<font size=\"+2\">↴</font>\n",
    "\n",
    "<div style=\"margin-left: 70px;\">\n",
    "<u>The &nbsp;<span style=\"background-color: yellow;\">Method Resolution Order</span>&nbsp; does not work in such case</u>. &nbsp;Because in Python, if you define both an <span style=\"color: red;\">instance method</span> and a <span style=\"color: red;\">class method</span> with the &nbsp;<span style=\"background-color: #ffe4ae;\">same &nbsp;name</span> &nbsp;in the &nbsp;<span style=\"background-color: #ffe4ae;\">same class</span>, <span style=\"color: blue;\">the most recently defined method will overwrite the previous one.</span>\n",
    "</div>\n",
    "\n",
    "<br>\n",
    "\n",
    "<code style=\"background-color: #b3f0f4; margin-left: 35px; padding: 5px;\"><span style=\"font-size: 1rem;\"><strong>Case-1</strong></span> : when <span style=\"color: red;\">instance method</span> is overwritten by a <span style=\"color: red;\">class method</span></code>"
   ]
  },
  {
   "cell_type": "code",
   "execution_count": 8,
   "id": "c1aa03e9-e847-4060-a85f-1f04ac097d8f",
   "metadata": {},
   "outputs": [
    {
     "name": "stdout",
     "output_type": "stream",
     "text": [
      "Class method called\n"
     ]
    }
   ],
   "source": [
    "\n",
    "class MyClass:\n",
    "    def method(self):\n",
    "        print(\"Instance method called\")\n",
    "\n",
    "    @classmethod\n",
    "    def method(cls):\n",
    "        print(\"Class method called\")\n",
    "\n",
    "\n",
    "obj = MyClass()                            # creates an instance \"obj\" of MyClass\n",
    "\n",
    "obj.method()                               # calls the method on the instance \"obj\"\n"
   ]
  },
  {
   "cell_type": "code",
   "execution_count": 7,
   "id": "7ba25926-55b3-4bfa-9c90-6a0b873a61e3",
   "metadata": {},
   "outputs": [
    {
     "name": "stdout",
     "output_type": "stream",
     "text": [
      "Class method called\n"
     ]
    }
   ],
   "source": [
    "\n",
    "MyClass.method()\n"
   ]
  },
  {
   "cell_type": "markdown",
   "id": "ff1a254b-66de-4103-b1cc-8ba51f0fe092",
   "metadata": {},
   "source": [
    "\n",
    "<code style=\"background-color: #b3f0f4; margin-left: 35px; padding: 5px;\"><span style=\"font-size: 1rem;\"><strong>Case-2</strong></span> : when <span style=\"color: red;\">class method</span> is overwritten by an <span style=\"color: red;\">instance method</span></code>"
   ]
  },
  {
   "cell_type": "code",
   "execution_count": 9,
   "id": "d64fd24e-e892-4a42-b0c6-4a7b6d63fff2",
   "metadata": {},
   "outputs": [
    {
     "name": "stdout",
     "output_type": "stream",
     "text": [
      "Instance method called\n"
     ]
    }
   ],
   "source": [
    "\n",
    "class MyClass:\n",
    "    @classmethod\n",
    "    def method(cls):\n",
    "        print(\"Class method called\")\n",
    "\n",
    "    def method(self):\n",
    "        print(\"Instance method called\")\n",
    "\n",
    "\n",
    "obj = MyClass()                            # creates an instance \"obj\" of MyClass\n",
    "\n",
    "obj.method()                               # calls the method on the instance \"obj\"\n"
   ]
  },
  {
   "cell_type": "code",
   "execution_count": 10,
   "id": "8fc9a446-8cd4-473f-b350-c4e3a8a4a8a1",
   "metadata": {},
   "outputs": [
    {
     "ename": "TypeError",
     "evalue": "MyClass.method() missing 1 required positional argument: 'self'",
     "output_type": "error",
     "traceback": [
      "\u001b[1;31m---------------------------------------------------------------------------\u001b[0m",
      "\u001b[1;31mTypeError\u001b[0m                                 Traceback (most recent call last)",
      "Cell \u001b[1;32mIn[10], line 1\u001b[0m\n\u001b[1;32m----> 1\u001b[0m \u001b[43mMyClass\u001b[49m\u001b[38;5;241;43m.\u001b[39;49m\u001b[43mmethod\u001b[49m\u001b[43m(\u001b[49m\u001b[43m)\u001b[49m\n",
      "\u001b[1;31mTypeError\u001b[0m: MyClass.method() missing 1 required positional argument: 'self'"
     ]
    }
   ],
   "source": [
    "\n",
    "MyClass.method()\n"
   ]
  },
  {
   "cell_type": "code",
   "execution_count": 11,
   "id": "21ea3e66-1640-4438-ba3b-c69c31e16177",
   "metadata": {},
   "outputs": [
    {
     "name": "stdout",
     "output_type": "stream",
     "text": [
      "Instance method called\n"
     ]
    }
   ],
   "source": [
    "\n",
    "MyClass.method(obj)\n"
   ]
  },
  {
   "cell_type": "markdown",
   "id": "78c48d32-e185-42d8-9876-50a98aa418a9",
   "metadata": {},
   "source": [
    "\n",
    "<div style=\"background-color: #fff7d8; padding-top: 13px; padding-bottom: 5px; padding-left: 10px; padding-right: 5px;\">\n",
    "\n",
    "In <code style=\"background-color: #fff7d8;\">Python, if you define both an <u>instance method</u> and a <u>class method</u> with the <u>same name</u> in the <u>same class</u>, <span style=\"font-size: 0.92rem;\"><strong>the most recently defined method will overwrite the previous one</strong></span> <span style=\"background-color: white;\">irrespective of whether it is called through an object (<strong><span style=\"color: red; font-size: 1rem;\">object.</span><span style=\"color: blue; font-size: 1rem;\">methodname</span></strong>) or through the classname (<strong><span style=\"color: red;  font-size: 1rem;\">classname.</span><span style=\"color: blue;  font-size: 1rem;\">methodname</span></strong>)</span></code>\n",
    "    \n",
    "</div>\n",
    "\n",
    "<br>\n",
    "\n",
    "<br>\n",
    "\n",
    "<span style=\"color: #06fff0; font-size: 0.7rem;\">■■■■■■■■■■■■■■■■■■■■■■■■■■■■■■■■■■■■■■■■■■■■■■■■■■■■■■■■■■■■■■■■■■■■■■■■■■■■■■■■■■■■■■■■■■■■■■■■■■■■■■■■■■■■■■■</span> \n",
    "\n",
    "<br>\n",
    "\n",
    "<code style=\"color: white; background-color: black;\">Example - 4</code>\n"
   ]
  },
  {
   "cell_type": "code",
   "execution_count": 17,
   "id": "ae09e61a-fa99-40f9-a444-58f9dddcd8cb",
   "metadata": {},
   "outputs": [],
   "source": [
    "\n",
    "class Car:\n",
    "    def go(self):\n",
    "        print('Going')\n",
    "\n",
    "class Flyable:\n",
    "    def fly(self):\n",
    "        print('Flying')\n",
    "\n",
    "class FlyingCar(Flyable, Car):\n",
    "    pass"
   ]
  },
  {
   "cell_type": "markdown",
   "id": "6bb7a1a9-de52-4476-8e57-3da59e5073f7",
   "metadata": {},
   "source": [
    "<br>\n",
    "\n",
    "Since the &nbsp;<code style=\"color: red;\">FlyingCar</code>&nbsp; inherits from both the &nbsp;<code style=\"color: red;\">Car</code>&nbsp; and &nbsp;<code style=\"color: red;\">Flyable</code>&nbsp; classes, it reuses the methods from those classes. It means you can call both the &nbsp;<code style=\"color: red;\">go()</code>&nbsp; and the &nbsp;<code style=\"color: red;\">fly()</code>&nbsp; methods on an instance of the &nbsp;<code style=\"color: red;\">FlyingCar</code>&nbsp; class like this:"
   ]
  },
  {
   "cell_type": "code",
   "execution_count": 52,
   "id": "8103427d-2f80-47e4-b621-50e4336628f8",
   "metadata": {},
   "outputs": [
    {
     "name": "stdout",
     "output_type": "stream",
     "text": [
      "Going\n",
      "Flying\n"
     ]
    }
   ],
   "source": [
    "\n",
    "fc = FlyingCar()\n",
    "\n",
    "fc.go()                  #  Going\n",
    "fc.fly()                 #  Flying\n"
   ]
  },
  {
   "cell_type": "markdown",
   "id": "c491be2e-8f07-4e0c-8f94-375fa118c45a",
   "metadata": {},
   "source": [
    "<br>\n",
    "\n",
    "<span style=\"color: #06fff0; font-size: 0.7rem;\">■■■■■■■■■■■■■■■■■■■■■■■■■■■■■■■■■■■■■■■■■■■■■■■■■■■■■■■■■■■■■■■■■■■■■■■■■■■■■■■■■■■■■■■■■■■■■■■■■■■■■■■■■■■■■■■</span> \n",
    "\n",
    "<br>\n",
    "\n",
    "<code style=\"color: white; background-color: black;\">Example - 5</code>\n"
   ]
  },
  {
   "cell_type": "markdown",
   "id": "0b6b2e37-cd35-47a5-9372-62a912ed7bfc",
   "metadata": {},
   "source": [
    "<br>\n",
    "\n",
    "<div style=\"display: flex;\">\n",
    "<div>🔶 &nbsp;&nbsp; </div>\n",
    "<div>When the <u>parent classes</u> have <span style=\"color: red;\">methods with the <strong>same name</strong></span> and the <u>child class</u> calls the method, Python uses the <span style=\"background-color: yellow;\">method resolution order (MRO)</span> to search for the right method to call.</div>\n",
    "\n",
    "</div>\n"
   ]
  },
  {
   "cell_type": "code",
   "execution_count": 71,
   "id": "de4103b3-cd02-4024-8ebc-8f85cc3e6a04",
   "metadata": {},
   "outputs": [],
   "source": [
    "\n",
    "class Car:\n",
    "    def start(self):\n",
    "        print('Start the Car')\n",
    "\n",
    "    def go(self):\n",
    "        print('Going')\n",
    "\n",
    "\n",
    "class Flyable:\n",
    "    def start(self):\n",
    "        print('Start the Flyable object')\n",
    "\n",
    "    def fly(self):\n",
    "        print('Flying')\n",
    "\n",
    "\n",
    "class FlyingCar(Flyable, Car):\n",
    "    def start(self):\n",
    "        super().start()                       # FlyingCar(Flyable, Car)   =====>   calls the start() method of the class \"Flyable\" not \"Car\"\n",
    "        "
   ]
  },
  {
   "cell_type": "markdown",
   "id": "562a628c-3193-45b8-a189-92fa02c120c3",
   "metadata": {},
   "source": [
    "<br>\n",
    "\n",
    "<div style=\"margin-left: 85px;\">\n",
    "\n",
    "![](../../media/Shraddha_Kapra_oops_74.PNG)\n",
    "\n",
    "</div>\n"
   ]
  },
  {
   "cell_type": "code",
   "execution_count": 72,
   "id": "7d39c85d-e76a-442c-9de4-0c64aab20be6",
   "metadata": {},
   "outputs": [
    {
     "name": "stdout",
     "output_type": "stream",
     "text": [
      "Start the Flyable object\n"
     ]
    }
   ],
   "source": [
    "\n",
    "car = FlyingCar()\n",
    "\n",
    "car.start()                                  # based on their orders in the method order resolution\n"
   ]
  },
  {
   "cell_type": "code",
   "execution_count": 73,
   "id": "21339cac-5001-47d2-9178-292ab2cb6d8b",
   "metadata": {},
   "outputs": [
    {
     "data": {
      "text/plain": [
       "(__main__.FlyingCar, __main__.Flyable, __main__.Car, object)"
      ]
     },
     "execution_count": 73,
     "metadata": {},
     "output_type": "execute_result"
    }
   ],
   "source": [
    "\n",
    "FlyingCar.__mro__\n"
   ]
  },
  {
   "cell_type": "markdown",
   "id": "6d4f531d-40f5-4cf6-bf9b-ca637e926e6c",
   "metadata": {},
   "source": [
    "<br>\n",
    "\n",
    "🔶 &nbsp;&nbsp;If you flip the order of &nbsp;<code style=\"color: red;\">Flyable</code>&nbsp; and &nbsp;<code style=\"color: red;\">Car</code>&nbsp; classes in the list, the &nbsp;<code style=\"background-color: yellow;\">\\_\\_mro__</code>&nbsp; will change accordingly. For example:"
   ]
  },
  {
   "cell_type": "code",
   "execution_count": 69,
   "id": "4afc69b3-50c9-49d7-b3f3-2626fb25c058",
   "metadata": {},
   "outputs": [
    {
     "name": "stdout",
     "output_type": "stream",
     "text": [
      "Start the Car\n"
     ]
    },
    {
     "data": {
      "text/plain": [
       "(__main__.FlyingCar, __main__.Car, __main__.Flyable, object)"
      ]
     },
     "execution_count": 69,
     "metadata": {},
     "output_type": "execute_result"
    }
   ],
   "source": [
    "\n",
    "class Car:\n",
    "    def start(self):\n",
    "        print('Start the Car')\n",
    "\n",
    "    def go(self):\n",
    "        print('Going')\n",
    "\n",
    "\n",
    "class Flyable:\n",
    "    def start(self):\n",
    "        print('Start the Flyable object')\n",
    "\n",
    "    def fly(self):\n",
    "        print('Flying')\n",
    "\n",
    "\n",
    "class FlyingCar(Car, Flyable):\n",
    "    def start(self):\n",
    "        super().start()                         # FlyingCar(Car, Flyable)   =====>   calls the start() method of the class \"Car\" not \"FlyingCar\"\n",
    "\n",
    "\n",
    "car = FlyingCar()\n",
    "car.start()                                     # based on their orders in the method order resolution\n",
    "\n",
    "FlyingCar.__mro__\n"
   ]
  },
  {
   "cell_type": "markdown",
   "id": "6f1b227b-87de-4eca-b6f2-8e9520bba45d",
   "metadata": {},
   "source": [
    "<br>\n",
    "\n",
    "<span style=\"color: #06fff0; font-size: 0.7rem;\">■■■■■■■■■■■■■■■■■■■■■■■■■■■■■■■■■■■■■■■■■■■■■■■■■■■■■■■■■■■■■■■■■■■■■■■■■■■■■■■■■■■■■■■■■■■■■■■■■■■■■■■■■■■■■■■</span>\n",
    "\n",
    "<br>\n",
    "\n",
    "Summary :\n",
    "\n",
    "<div style=\"background-color: #ffe6ce; padding-top: 15px; padding-bottom: 4px;\">\n",
    "\n",
    "&nbsp;&nbsp;&nbsp;&nbsp;<span style=\"font-size: 0.7rem; color: red;\">■</span>&nbsp;&nbsp;&nbsp;Python <span style=\"color: blue;\"><strong>multiple inheritance</strong></span> allows one class to <u>inherit from multiple classes</u>. <br>\n",
    "\n",
    "&nbsp;&nbsp;&nbsp;&nbsp;<span style=\"font-size: 0.7rem; color: red;\">■</span>&nbsp;&nbsp;&nbsp;The <strong>method order resolution</strong> defines the class search path to find the method to call.\n",
    "\n",
    "</div>\n"
   ]
  },
  {
   "cell_type": "markdown",
   "id": "8d6c28a5-f326-4cf6-a818-3f1dbca12985",
   "metadata": {},
   "source": [
    "<br>\n",
    "\n",
    "<span style=\"color: #DCBD10; font-size: 1.2rem;\">▬▬▬▬▬▬▬▬▬▬▬▬▬▬▬▬▬▬▬▬▬▬▬▬▬▬▬▬▬▬▬▬▬▬▬▬▬▬▬▬▬▬▬▬▬▬▬▬▬▬▬▬▬▬▬▬</span>\n"
   ]
  },
  {
   "cell_type": "markdown",
   "id": "5994ac2b-6c27-4a9e-a224-00ca5ea57ea2",
   "metadata": {
    "jp-MarkdownHeadingCollapsed": true
   },
   "source": [
    "<br>\n",
    "\n",
    "# <span style=\"color: black\"><strong>Polymorphism</strong></span>"
   ]
  },
  {
   "cell_type": "markdown",
   "id": "0d92247a-76bb-4e79-b73d-90881473d55c",
   "metadata": {},
   "source": [
    "<br><br>\n",
    "\n",
    "🔶 &nbsp;&nbsp;Literal Meaning of Polymorphism - <span style=\"color: red;\">many &nbsp;forms</span>\n",
    "\n",
    "🔶 &nbsp;&nbsp;Polymorphism allows <u>functions</u>, <u>methods</u>, and <u>operators</u> to behave differently based on the context or the data types they are working with.\n",
    "\n",
    "🔶 &nbsp;&nbsp;It promotes code reusability and flexibility, making the code more intuitive and easy to manage.\n",
    "\n",
    "🔶 &nbsp;&nbsp;<strong>Types &nbsp;of &nbsp;Polymorphism :</strong>\n",
    "\n",
    "<span style=\"margin-left: 70px;\"><span style=\"font-size: 0.7rem; color: black;\">■</span>&nbsp;&nbsp;&nbsp;<span style=\"color: blue;\"><strong>Duck &nbsp;Typing</strong></span></span> <br>\n",
    "\n",
    "<span style=\"margin-left: 120px;\">➜</span> &nbsp;&nbsp;Focuses on the object's behavior rather than its type.                                     <br>\n",
    "<span style=\"margin-left: 120px;\">➜</span> &nbsp;&nbsp;If an object has the required method or behavior, it can be used regardless of its type.\n",
    "\n",
    "<span style=\"margin-left: 70px;\"><span style=\"font-size: 0.7rem; color: black;\">■</span>&nbsp;&nbsp;&nbsp;<span style=\"color: blue;\"><strong>Method &nbsp;Overloading</strong></span></span> <br>\n",
    "\n",
    "<span style=\"margin-left: 120px;\">➜</span> &nbsp;&nbsp;Not natively supported in Python but can be simulated using default or variable-length arguments. <br>\n",
    "<span style=\"margin-left: 120px;\">➜</span> &nbsp;&nbsp;Allows functions to accept different numbers of parameters.\n",
    "\n",
    "<span style=\"margin-left: 70px;\"><span style=\"font-size: 0.7rem; color: black;\">■</span>&nbsp;&nbsp;&nbsp;<span style=\"color: blue;\"><strong>Method &nbsp;Overriding</strong></span></span> <br>\n",
    "\n",
    "<span style=\"margin-left: 120px;\">➜</span> &nbsp;&nbsp;Allows subclasses to provide a specific implementation of a method defined in its superclass. <br>\n",
    "<span style=\"margin-left: 120px;\">➜</span> &nbsp;&nbsp;Changes or extends the behavior of inherited methods.\n",
    "\n",
    "<span style=\"margin-left: 70px;\"><span style=\"font-size: 0.7rem; color: black;\">■</span>&nbsp;&nbsp;&nbsp;<span style=\"color: blue;\"><strong>Operator &nbsp;Overriding</strong></span></span> <br>\n",
    "\n",
    "<span style=\"margin-left: 120px;\">➜</span> &nbsp;&nbsp;Redefines or extends the behavior of operators for user-defined classes. <br>\n",
    "<span style=\"margin-left: 120px;\">➜</span> &nbsp;&nbsp;Uses <span style=\"color: red;\">dunder</span> special methods like &nbsp;<code style=\"color: red;\">\\_\\_add__</code>&nbsp; , &nbsp;<code style=\"color: red;\">\\_\\_sub__</code>&nbsp; , &nbsp;<code style=\"color: red;\">\\_\\_mul__</code>&nbsp; , etc., to achieve this behavior.\n"
   ]
  },
  {
   "cell_type": "markdown",
   "id": "aa96832f-8740-4738-b398-fe8d48fc7df2",
   "metadata": {},
   "source": [
    "<br>\n",
    "\n",
    "### <span style=\"color: blue; font-size: 1rem;\"><strong>Overriding &nbsp;Methods</strong></span>\n"
   ]
  },
  {
   "cell_type": "markdown",
   "id": "1e0f1202-6ca7-4ffb-9f72-49f078c37187",
   "metadata": {},
   "source": [
    "<br>\n",
    "\n",
    "<div style=\"background-color: #ffe6ce; padding-top: 20px; padding-bottom: 2px; padding-left: 10px; padding-right: 10px;\">\n",
    "\n",
    "<strong>Method Overriding</strong> occurs <span style=\"color: red;\"><u><span style=\"color: black;\">when a subclass provides a specific implementation of a method that is already defined in its superclass</span></u></span>. This allows a subclass to modify or extend the behavior of a method inherited from its parent class.\n",
    "\n",
    "</div>\n",
    "\n",
    "<div style=\"background-color: #fff3df; padding-top: 15px; padding-bottom: 2px; padding-left: 15px; padding-right: 15px;\">\n",
    "\n",
    "It's &nbsp;a &nbsp;type &nbsp;of &nbsp;<span style=\"background-color: red; color: white;\">Polymorphism</span>\n",
    "\n",
    "The overriding method allows a <u>child class</u> to provide a <strong>specific implementation</strong> of a <u>parent method</u>.\n",
    "\n",
    "To put it simply, if there is a <u>child method</u> and a <u>parent method</u> with the <strong>same name</strong> & if we try something like &nbsp;<code style=\"background-color: white;\">child_obj.<span style=\"color: blue;\">methodname</span></code> &nbsp;, then the child method will be called not the parent method because <span style=\"color: red;\">the <u>child method</u> overrides the <u>parent method</u></span>. This is what we call <strong>Method Overriidng</strong>.\n",
    "\n",
    "<br>\n",
    "\n",
    "<pre style=\"padding: 10px;\">\n",
    "    \n",
    "If a <code style=\"background-color: white; color: blue;\">childmethodname</code> = <code style=\"background-color: white; color: blue;\">parentmethodname</code> = <code style=\"background-color: white; color: blue;\">commonmethodname</code> (suppose), then <br>\n",
    "              <code style=\"background-color: white;\">parent_obj.<span style=\"color: blue;\">commonmethodname</span></code>  ===>  calls the parent method <br>\n",
    "    whereas,  <code style=\"background-color: white;\">child_obj.<span style=\"color: blue;\">commonmethodname</span></code>   ===>  calls the child method\n",
    "    \n",
    "</pre>\n",
    "\n",
    "<br>\n",
    "\n",
    "\n",
    "</div>\n",
    "\n",
    "<br>\n"
   ]
  },
  {
   "cell_type": "markdown",
   "id": "7334a69a-f89f-473c-9122-6b87a92b6987",
   "metadata": {},
   "source": [
    "Let’s take an example to understand the <u>overriding method</u> better."
   ]
  },
  {
   "cell_type": "code",
   "execution_count": 20,
   "id": "6e7f80df-4d6e-4161-9936-1086c9c24619",
   "metadata": {},
   "outputs": [
    {
     "data": {
      "text/plain": [
       "5000"
      ]
     },
     "execution_count": 20,
     "metadata": {},
     "output_type": "execute_result"
    }
   ],
   "source": [
    "\n",
    "class Employee:                                                      # PARENT Class\n",
    "    def __init__(self, name, base_pay):\n",
    "        self.name = name\n",
    "        self.base_pay = base_pay\n",
    "\n",
    "    def get_pay(self):\n",
    "        return self.base_pay\n",
    "\n",
    "\n",
    "class SalesEmployee(Employee):                                       # CHILD class\n",
    "    def __init__(self, name, base_pay, sales_incentive):\n",
    "        self.name = name\n",
    "        self.base_pay = base_pay\n",
    "        self.sales_incentive = sales_incentive\n",
    "\n",
    "\n",
    "avinash = SalesEmployee('Avinash', 5000, 1500)\n",
    "\n",
    "\n",
    "avinash.get_pay()                                                    # calls  the  parent  method  get_pay()  through  the  child  object  \"avinash\"\n"
   ]
  },
  {
   "cell_type": "markdown",
   "id": "44b2c866-cca4-49f5-aa1c-cc99dcd885c9",
   "metadata": {},
   "source": [
    "\n",
    "The &nbsp;<code style=\"color: red;\">get_pay()</code>&nbsp; method returns only the &nbsp;<code style=\"color: red;\">base_pay</code>&nbsp;, not the sum of the &nbsp;<code style=\"color: red;\">base_pay</code>&nbsp; and &nbsp;<code style=\"color: red;\">sales_incentive</code>\n",
    "\n",
    "Since you want to get the total payment of a specific object &nbsp;<code style=\"color: blue;\">avinash</code> , therefore <u>to include the sales incentive in the pay</u>, you need to redefine the &nbsp;<code style=\"color: red;\">get_pay()</code>&nbsp; method in the &nbsp;<code style=\"color: red;\">SalesEmployee</code>&nbsp; class as follows :\n"
   ]
  },
  {
   "cell_type": "code",
   "execution_count": 21,
   "id": "d7830878-9607-4021-8020-bda8f402f807",
   "metadata": {},
   "outputs": [],
   "source": [
    "\n",
    "class Employee:                                                      # PARENT Class\n",
    "    def __init__(self, name, base_pay):\n",
    "        self.name = name\n",
    "        self.base_pay = base_pay\n",
    "\n",
    "    def get_pay(self):\n",
    "        return self.base_pay\n",
    "\n",
    "\n",
    "class SalesEmployee(Employee):                                       # CHILD class\n",
    "    def __init__(self, name, base_pay, sales_incentive):\n",
    "        self.name = name\n",
    "        self.base_pay = base_pay\n",
    "        self.sales_incentive = sales_incentive\n",
    "\n",
    "    def get_pay(self):                                               # the  child  method  get_pay()  overrides  the  parent  method  get_pay()\n",
    "        return self.base_pay + self.sales_incentive\n"
   ]
  },
  {
   "cell_type": "markdown",
   "id": "de7596a3-c1aa-4f56-85eb-76d350f444ea",
   "metadata": {},
   "source": [
    "\n",
    "In this case, we say that the &nbsp;<code style=\"color: red;\">get_pay()</code>&nbsp; method in the &nbsp;<code style=\"color: red;\">SalesEmployee</code>&nbsp; class <strong>overrides</strong> the &nbsp;<code style=\"color: red;\">get_pay()</code>&nbsp; method in the &nbsp;<code style=\"color: red;\">Employee</code>&nbsp; class.\n",
    "\n",
    "<br>\n",
    "\n",
    "<span style=\"background-color: #f9e79f; padding: 7px;\">Let's now call the &nbsp;<code style=\"color: red; background-color: white;\">get_pay()</code>&nbsp; method through the &nbsp;<code style=\"background-color: white;\">child object <span style=\"color: blue;\">avinash</span></code>&nbsp; of &nbsp;<code style=\"color: red; background-color: white;\">SalesEmployee</code>&nbsp; type :</span>\n"
   ]
  },
  {
   "cell_type": "code",
   "execution_count": 24,
   "id": "c4170ae3-a4b2-4b89-b13f-85b5975aa190",
   "metadata": {},
   "outputs": [
    {
     "data": {
      "text/plain": [
       "6500"
      ]
     },
     "execution_count": 24,
     "metadata": {},
     "output_type": "execute_result"
    }
   ],
   "source": [
    "\n",
    "avinash = SalesEmployee('Avinash', 5000, 1500)\n",
    "\n",
    "avinash.get_pay()                                                    # calls  the  child  method  get_pay()  through  the  child  object  \"avinash\"\n"
   ]
  },
  {
   "cell_type": "markdown",
   "id": "dff98978-756c-4c14-8add-a194c89aeac1",
   "metadata": {},
   "source": [
    "\n",
    "<br>\n",
    "\n",
    "<span style=\"background-color: #f9e79f; padding: 7px;\">Let's also see what happens if we call the &nbsp;<code style=\"color: red; background-color: white;\">get_pay()</code>&nbsp; method through the &nbsp;<code style=\"background-color: white;\">parent object <span style=\"color: blue;\">aman</span></code>&nbsp; of &nbsp;<code style=\"color: red; background-color: white;\">Employee</code>&nbsp; type :</span>\n"
   ]
  },
  {
   "cell_type": "code",
   "execution_count": 36,
   "id": "a21c64da-ac2a-4104-9737-75f97d3aab13",
   "metadata": {},
   "outputs": [
    {
     "data": {
      "text/plain": [
       "5000"
      ]
     },
     "execution_count": 36,
     "metadata": {},
     "output_type": "execute_result"
    }
   ],
   "source": [
    "\n",
    "aman = Employee('Jane', 5000)\n",
    "\n",
    "aman.get_pay()\n"
   ]
  },
  {
   "cell_type": "markdown",
   "id": "064d964c-3bb1-4e5d-ac80-d8ea7f41a912",
   "metadata": {},
   "source": [
    "<br>\n",
    "\n",
    "<span style=\"color: #06fff0; font-size: 0.7rem;\">■■■■■■■■■■■■■■■■■■■■■■■■■■■■■■■■■■■■■■■■■■■■■■■■■■■■■■■■■■■■■■■■■■■■■■■■■■■■■■■■■■■■■■■■■■■■■■■■■■■■■■■■■■■■■■■</span>\n",
    "\n",
    "<br>\n",
    "\n",
    "Let's take an example of <u>advanced method overriding</u>.\n"
   ]
  },
  {
   "cell_type": "code",
   "execution_count": 37,
   "id": "7009811a-020e-4d2a-a22b-a124e0ef3589",
   "metadata": {},
   "outputs": [],
   "source": [
    "\n",
    "import re\n",
    "\n",
    "class Parser:\n",
    "    def __init__(self, text):\n",
    "        self.text = text\n",
    "\n",
    "    def email(self):\n",
    "        match = re.search(r'[a-z0-9\\.\\-+_]+@[a-z0-9\\.\\-+_]+\\.[a-z]+', self.text)\n",
    "        if match:\n",
    "            return match.group(0)\n",
    "        return None\n",
    "\n",
    "    def phone(self):\n",
    "        match = re.search(r'\\d{3}-\\d{3}-\\d{4}', self.text)\n",
    "        if match:\n",
    "            return match.group(0)\n",
    "        return None\n",
    "\n",
    "    def parse(self):\n",
    "        return {\n",
    "            'email': self.email(),\n",
    "            'phone': self.phone()\n",
    "        }\n"
   ]
  },
  {
   "cell_type": "markdown",
   "id": "eb85ced2-1dbc-4fbc-ade0-51541ef4103c",
   "metadata": {},
   "source": [
    "<br>\n",
    "\n",
    "The &nbsp;<code style=\"color: red;\">Parser</code>&nbsp; class has an attribute &nbsp;<code style=\"color: red;\">text</code>&nbsp; which specifies a piece of text to be parsed. Also, the &nbsp;<code style=\"color: red;\">Parser</code>&nbsp; class has three methods :\n",
    "\n",
    "<div><span style=\"font-size: 0.3rem; margin-left: 40px;\">⚫</span>&nbsp;&nbsp;&nbsp;The &nbsp;<code style=\"color: red;\">email()</code>&nbsp; method parses a text and returns the email</span></div>\n",
    "\n",
    "<br>\n",
    "\n",
    "<div style=\"display: flex;\">\n",
    "<div><span style=\"font-size: 0.3rem; margin-left: 40px;\">⚫</span></div>\n",
    "<div style=\"margin-left: 12px;\">The &nbsp;<code style=\"color: red;\">phone()</code>&nbsp; method parses a text and returns a phone number in the format &nbsp;<code style=\"color: red;\">nnn-nnnn-nnnn</code>&nbsp; where &nbsp;<code style=\"color: red;\">n</code>&nbsp; is a number from 0 to 9 e.g., &nbsp;<code style=\"color: red;\">408-205-5663</code>&nbsp;</div>\n",
    "</div>\n",
    "\n",
    "<br>\n",
    "\n",
    "<div style=\"display: flex;\">\n",
    "<div><span style=\"font-size: 0.3rem; margin-left: 40px;\">⚫</span></div>\n",
    "<div style=\"margin-left: 12px;\">The &nbsp;<code style=\"color: red;\">parse()</code>&nbsp; method returns a dictionary that contains two elements &nbsp;<code style=\"color: red;\">email</code>&nbsp; and &nbsp;<code style=\"color: red;\">phone</code>&nbsp;. &nbsp;It calls the &nbsp;<code style=\"color: red;\">email()</code>&nbsp; and &nbsp;<code style=\"color: red;\">phone()</code>&nbsp; method to extract the email and phone from the &nbsp;<code style=\"color: red;\">text</code>&nbsp; attribute.\n",
    "</div>\n",
    "</div>\n",
    "\n",
    "<br>\n"
   ]
  },
  {
   "cell_type": "code",
   "execution_count": 38,
   "id": "39ddc17b-7610-46f1-a9f4-86df00e59ffe",
   "metadata": {},
   "outputs": [
    {
     "data": {
      "text/plain": [
       "{'email': 'email@test.com', 'phone': '408-205-5663'}"
      ]
     },
     "execution_count": 38,
     "metadata": {},
     "output_type": "execute_result"
    }
   ],
   "source": [
    "\n",
    "s = 'Contact us via 408-205-5663 or email@test.com'\n",
    "parser = Parser(s)\n",
    "parser.parse()\n"
   ]
  },
  {
   "cell_type": "markdown",
   "id": "f7a804d6-de36-4949-b7a1-754bc360e208",
   "metadata": {},
   "source": [
    "<br>\n",
    "\n",
    "Suppose you need to extract phone numbers in the format &nbsp;<code style=\"color: red;\">+91-nnn-nnn-nnnn</code>&nbsp;, which is the <u>Indian phone number format</u>. Also, you want to use extract email like the &nbsp;<code style=\"color: red;\">Parser</code>&nbsp; class :"
   ]
  },
  {
   "cell_type": "code",
   "execution_count": 18,
   "id": "3d50c632-b64f-4273-9748-1a7feca7f8d3",
   "metadata": {},
   "outputs": [],
   "source": [
    "\n",
    "import re\n",
    "\n",
    "class Parser:                                                                     # PARENT class\n",
    "    def __init__(self, text):\n",
    "        self.text = text\n",
    "\n",
    "    def email(self):\n",
    "        match = re.search(r'[a-z0-9\\.\\-+_]+@[a-z0-9\\.\\-+_]+\\.[a-z]+', self.text)\n",
    "        if match:\n",
    "            return match.group(0)\n",
    "        return None\n",
    "\n",
    "    def phone(self):\n",
    "        match = re.search(r'\\d{3}-\\d{3}-\\d{4}', self.text)\n",
    "        if match:\n",
    "            return match.group(0)\n",
    "        return None\n",
    "\n",
    "    def parse(self):\n",
    "        return {\n",
    "            'email': self.email(),\n",
    "            'phone': self.phone()\n",
    "        }\n",
    "\n",
    "\n",
    "class IndianParser(Parser):                                                       # CHILD class\n",
    "    def phone(self):                                                              # the  child  method  phone()  overrides  the  parent  method  phone()\n",
    "        match = re.search(r'(\\+\\d{2}-\\d{3}-\\d{3}-\\d{4})', self.text)\n",
    "        if match:\n",
    "            return match.group(0)\n",
    "        return None\n"
   ]
  },
  {
   "cell_type": "code",
   "execution_count": 2,
   "id": "da699e0f-3f5b-475f-999d-9494e0db3030",
   "metadata": {},
   "outputs": [
    {
     "data": {
      "text/plain": [
       "{'email': 'email@test.co.in', 'phone': '+91-650-453-3456'}"
      ]
     },
     "execution_count": 2,
     "metadata": {},
     "output_type": "execute_result"
    }
   ],
   "source": [
    "\n",
    "s2 = 'Contact me via +91-650-453-3456 or email@test.co.in'\n",
    "parser = IndianParser(s2)\n",
    "parser.parse()\n"
   ]
  },
  {
   "cell_type": "markdown",
   "id": "6e3a7a3f-0bb6-4a87-a3cb-0ff28a500f93",
   "metadata": {},
   "source": [
    "<br>\n",
    "\n",
    "<div style=\"margin-left: 1px;\">\n",
    "\n",
    "![](../../media/Shraddha_Kapra_oops_75.PNG)\n",
    "\n",
    "</div>\n",
    "\n",
    "<br>"
   ]
  },
  {
   "cell_type": "code",
   "execution_count": 8,
   "id": "8d2ae1e3-5d9f-4c9f-8283-ffbbd865949f",
   "metadata": {},
   "outputs": [
    {
     "name": "stdout",
     "output_type": "stream",
     "text": [
      "{'email': 'email@test.com', 'phone': '408-205-5663'}\n",
      "{'email': 'email@test.co.in', 'phone': '+91-650-453-3456'}\n"
     ]
    }
   ],
   "source": [
    "\n",
    "s = 'Contact us via 408-205-5663 or email@test.com'\n",
    "parser = Parser(s)\n",
    "print(parser.parse())                    # the  object  \"parser\"  of  type  \"Parser\"        calls  Parser.email(parser)  and  Parser.phone(parser)\n",
    "\n",
    "\n",
    "s2 = 'Contact me via +91-650-453-3456 or email@test.co.in'\n",
    "parser = IndianParser(s2)\n",
    "print(parser.parse())                    # the  object  \"parser\"  of  type  \"IndianParser\"  calls  Parser.email(parser)  but  IndianParser.phone(parser)\n"
   ]
  },
  {
   "cell_type": "markdown",
   "id": "eb99026a-0a1d-451a-b558-e4c309be293a",
   "metadata": {},
   "source": [
    "<br>\n",
    "\n",
    "<span style=\"color: #06fff0; font-size: 0.7rem;\">■■■■■■■■■■■■■■■■■■■■■■■■■■■■■■■■■■■■■■■■■■■■■■■■■■■■■■■■■■■■■■■■■■■■■■■■■■■■■■■■■■■■■■■■■■■■■■■■■■■■■■■■■■■■■■■</span>\n",
    "\n",
    "<br>\n",
    "\n",
    "Summary :\n",
    "\n",
    "<div style=\"background-color: #ffe6ce; padding-top: 15px; padding-bottom: 4px;\">\n",
    "\n",
    "&nbsp;&nbsp;&nbsp;&nbsp;<span style=\"font-size: 0.7rem; color: red;\">■</span>&nbsp;&nbsp;&nbsp;<strong>Method Overriding</strong> allows a child class to provide a specific implementation of a method that is already provided by one of its parent class.\n",
    "\n",
    "</div>"
   ]
  },
  {
   "cell_type": "markdown",
   "id": "fd33de91-18d3-44e6-bba2-77c155fba413",
   "metadata": {},
   "source": [
    "<br>\n",
    "\n",
    "<span style=\"color: #DCBD10; font-size: 1.2rem;\">▬▬▬▬▬▬▬▬▬▬▬▬▬▬▬▬▬▬▬▬▬▬▬▬▬▬▬▬▬▬▬▬▬▬▬▬▬▬▬▬▬▬▬▬▬▬▬▬▬▬▬▬▬▬▬▬</span>\n"
   ]
  },
  {
   "cell_type": "markdown",
   "id": "8f00fec5-a8a3-4295-84b1-625927e8efd3",
   "metadata": {},
   "source": [
    "<br>\n",
    "\n",
    "### <span style=\"color: blue; font-size: 1rem;\"><strong>Overriding &nbsp;Atributes</strong></span>\n"
   ]
  },
  {
   "cell_type": "markdown",
   "id": "f782194b-4aba-48ca-a3a0-128c13df8055",
   "metadata": {},
   "source": [
    "<br>\n",
    "\n",
    "Consder the following example :"
   ]
  },
  {
   "cell_type": "code",
   "execution_count": 13,
   "id": "d643ddb6-82d1-4b53-80a7-db2a51abecb9",
   "metadata": {},
   "outputs": [],
   "source": [
    "\n",
    "import re\n",
    "\n",
    "\n",
    "class Parser:\n",
    "    phone_pattern = r'\\d{3}-\\d{3}-\\d{4}'\n",
    "\n",
    "    def __init__(self, text):\n",
    "        self.text = text\n",
    "\n",
    "    def email(self):\n",
    "        match = re.search(r'[a-z0-9\\.\\-+_]+@[a-z0-9\\.\\-+_]+\\.[a-z]+', self.text)\n",
    "        if match:\n",
    "            return match.group(0)\n",
    "        return None\n",
    "\n",
    "    def phone(self):\n",
    "        match = re.search(self.phone_pattern, self.text)\n",
    "        if match:\n",
    "            return match.group(0)\n",
    "        return None\n",
    "\n",
    "    def parse(self):\n",
    "        return {\n",
    "            'email': self.email(),\n",
    "            'phone': self.phone()\n",
    "        }\n",
    "\n",
    "\n",
    "class IndiaParser(Parser):\n",
    "    phone_pattern = r'(\\+\\d{2}-\\d{3}-\\d{3}-\\d{4})'           # The IndianParser child class redefines (or overrides) the phone_pattern class attribute\n"
   ]
  },
  {
   "cell_type": "code",
   "execution_count": 14,
   "id": "aa549888-85fe-43e7-9695-a430312ad27f",
   "metadata": {},
   "outputs": [
    {
     "name": "stdout",
     "output_type": "stream",
     "text": [
      "{'email': 'email@test.com', 'phone': '408-205-5663'}\n",
      "{'email': 'email@test.co.in', 'phone': '+91-650-453-3456'}\n"
     ]
    }
   ],
   "source": [
    "\n",
    "s = 'Contact us via 408-205-5663 or email@test.com'\n",
    "parser = Parser(s)\n",
    "print(parser.parse())\n",
    "\n",
    "\n",
    "s2 = 'Contact me via +91-650-453-3456 or email@test.co.in'\n",
    "parser = IndianParser(s2)\n",
    "print(parser.parse())\n"
   ]
  },
  {
   "cell_type": "markdown",
   "id": "667599e8-429c-4e26-903a-51e8f8a955c4",
   "metadata": {},
   "source": [
    "<br>\n",
    "\n",
    "If you call the &nbsp;<code style=\"color: red;\">parse()</code>&nbsp; method from the &nbsp;<code style=\"color: red;\">IndianParser</code>'s instance, the &nbsp;<code style=\"color: red;\">parse()</code>&nbsp; method calls the &nbsp;<code style=\"color: red;\">phone()</code>&nbsp; method that uses the &nbsp;<code style=\"color: red;\">phone_pattern</code>&nbsp; defined in the &nbsp;<code style=\"color: red;\">IndianParser</code>&nbsp; class."
   ]
  },
  {
   "cell_type": "markdown",
   "id": "08b6c07f-653a-4df1-becc-96c202a5606e",
   "metadata": {},
   "source": [
    "<br>\n",
    "\n",
    "<span style=\"color: #DCBD10; font-size: 1.2rem;\">▬▬▬▬▬▬▬▬▬▬▬▬▬▬▬▬▬▬▬▬▬▬▬▬▬▬▬▬▬▬▬▬▬▬▬▬▬▬▬▬▬▬▬▬▬▬▬▬▬▬▬▬▬▬▬▬</span>\n"
   ]
  },
  {
   "cell_type": "markdown",
   "id": "7d7a43ee-9001-4c85-8298-6ab1955a7fd9",
   "metadata": {
    "jp-MarkdownHeadingCollapsed": true
   },
   "source": [
    "<br>\n",
    "\n",
    "# <span style=\"color: black\"><strong><span style=\"background-color: yellow;\">super</span> &nbsp;keyword</strong></span>"
   ]
  },
  {
   "cell_type": "markdown",
   "id": "8d85b349-e898-4022-b541-343c07d3c845",
   "metadata": {
    "jp-MarkdownHeadingCollapsed": true
   },
   "source": [
    "<br>\n",
    "\n",
    "### <span style=\"color: blue; font-size: 1rem;\"><strong>Python &nbsp;super</strong></span>\n"
   ]
  },
  {
   "cell_type": "markdown",
   "id": "41fc0d70-d13b-46e6-8175-70e4e9c9e9b2",
   "metadata": {},
   "source": [
    "<br>\n",
    "\n",
    "<div style=\"background-color: #ffe6ce; padding-top: 20px; padding-bottom: 8px; padding-left: 5px;\">\n",
    "\n",
    "&nbsp;&nbsp;&nbsp;&nbsp;<span style=\"font-size: 0.7rem; color: red;\">■</span>&nbsp;&nbsp;&nbsp;<code style=\"background-color: #ffe6ce;\">The <code style=\"background-color: yellow;\">super()</code> returns a <span style=\"font-size: 1rem;\"><strong>reference</strong></span> of the <u>parent class</u> from a <u>child class</u></code>\n",
    "\n",
    "&nbsp;&nbsp;&nbsp;&nbsp;<span style=\"font-size: 0.7rem; color: red;\">■</span>&nbsp;&nbsp;&nbsp;<code style=\"background-color: #ffe6ce;\">The <code style=\"background-color: yellow;\">super()</code> method is used to call the methods of a <u>parent class</u> from a <u>child class</u></code>\n",
    "\n",
    "</div>\n",
    "\n",
    "<br>\n",
    "\n",
    "In this tutorial, we will learn how to use the Python &nbsp;<code style=\"background-color: yellow;\">super()</code>&nbsp; to delegate to the <u>parent class</u> when <strong>overriding methods</strong>.\n",
    "\n",
    "<br>\n",
    "\n",
    "<code style=\"color: white; background-color: black;\">Example - 1</code>"
   ]
  },
  {
   "cell_type": "code",
   "execution_count": 28,
   "id": "6be402b6-a151-49fa-a88e-3dc6f2fbb4f9",
   "metadata": {},
   "outputs": [],
   "source": [
    "\n",
    "class Employee:                                                             # PARENT class\n",
    "    def __init__(self, name, base_pay, bonus):\n",
    "        self.name = name\n",
    "        self.base_pay = base_pay\n",
    "        self.bonus = bonus\n",
    "\n",
    "    def get_pay(self):\n",
    "        return self.base_pay + self.bonus\n",
    "\n",
    "\n",
    "class SalesEmployee(Employee):                                              # CHILD class\n",
    "    def __init__(self, name, base_pay, bonus, sales_incentive):\n",
    "        self.name = name\n",
    "        self.base_pay = base_pay\n",
    "        self.bonus = bonus\n",
    "        self.sales_incentive = sales_incentive\n",
    "\n",
    "    def get_pay(self):                                                      # the  child  method  get_pay()  overrides  the  parent  method  get_pay()\n",
    "        return self.base_pay + self.bonus + self.sales_incentive\n"
   ]
  },
  {
   "cell_type": "markdown",
   "id": "ec21c80c-f6bf-45e5-860d-0693b5f40350",
   "metadata": {},
   "source": [
    "<br>\n",
    "\n",
    "<span style=\"color: #06fff0; font-size: 0.7rem;\">■■■■■■■■■■■■■■■■■■■■■■■■■■■■■■■■■■■■■■■■■■■■■■■■■■■■■■■■■■■■■■■■■■■■■■■■■■■■■■■■■■■■■■■■■■■■■■■■■■■■■■■■■■■■■■■</span>\n",
    "\n",
    "<br>\n",
    "\n",
    "<div style=\"background-color: #e8daef; padding-top: 15px; padding-bottom: 5px; padding-left: 5px;\">\n",
    "\n",
    "<code style=\"color: black; background-color: #e8daef; font-size: 1.05rem;\"><strong>super().\\_\\_init__()</strong></code>\n",
    "    \n",
    "</div>\n"
   ]
  },
  {
   "cell_type": "markdown",
   "id": "e778308a-05d9-47bc-987e-ea26ee47f2d5",
   "metadata": {},
   "source": [
    "<br>\n",
    "\n",
    "&nbsp;&nbsp;🔶 &nbsp;&nbsp;The &nbsp;<code style=\"color: blue;\">\\_\\_init__()</code>&nbsp; method of the &nbsp;<code style=\"color: red;\">SalesEmployee</code>&nbsp; class has some parts that are the same as the ones in the &nbsp;<code style=\"color: blue;\">\\_\\_init__()</code>&nbsp; method of the &nbsp;<code style=\"color: red;\">Employee</code>&nbsp; class.\n",
    "\n",
    "<br>\n",
    "\n",
    "&nbsp;&nbsp;🔶 &nbsp;&nbsp;<u>To avoid duplication</u>, you can call the &nbsp;<code style=\"color: blue;\">\\_\\_init__()</code>&nbsp; method of &nbsp;<code style=\"color: red;\">Employee</code>&nbsp; class from the &nbsp;<code style=\"color: blue;\">\\_\\_init__()</code>&nbsp; method of the &nbsp;<code style=\"color: red;\">SalesEmployee</code>&nbsp; class.\n",
    "\n",
    "<br>\n",
    "\n",
    "&nbsp;&nbsp;🔶 &nbsp;&nbsp;To reference the &nbsp;<code style=\"color: red;\">Employee</code>&nbsp; class in the &nbsp;<code style=\"color: red;\">SalesEmployee</code>&nbsp; class, you use the &nbsp;<code style=\"background-color: yellow;\">super()</code>&nbsp;. &nbsp;The &nbsp;<code style=\"background-color: yellow;\">super()</code>&nbsp; returns a <strong>reference</strong> of the <u>parent class</u> from a <u>child class</u>.\n",
    "\n",
    "<br>\n",
    "\n",
    "&nbsp;&nbsp;🔶 &nbsp;&nbsp;Let's redefine the &nbsp;<code style=\"color: red;\">SalesEmployee</code>&nbsp; class that uses the &nbsp;<code style=\"background-color: yellow;\">super()</code>&nbsp; to call the &nbsp;<code style=\"color: blue;\">\\_\\_init__()</code>&nbsp; method of the &nbsp;<code style=\"color: red;\">Employee</code>&nbsp; class :&nbsp;<font size=\"+1\">↴</font>\n",
    "\n",
    "<div style=\"margin-left: 62px;\">\n",
    "\n",
    "![](../../media/Shraddha_Kapra_oops_76.PNG)\n",
    "\n",
    "</div>\n"
   ]
  },
  {
   "cell_type": "code",
   "execution_count": 2,
   "id": "d68b415c-be96-442d-9462-285d730775bd",
   "metadata": {},
   "outputs": [
    {
     "data": {
      "text/plain": [
       "8000"
      ]
     },
     "execution_count": 2,
     "metadata": {},
     "output_type": "execute_result"
    }
   ],
   "source": [
    "\n",
    "class Employee:\n",
    "    \n",
    "    def __init__(self, name, base_pay, bonus):\n",
    "        self.name = name\n",
    "        self.base_pay = base_pay\n",
    "        self.bonus = bonus\n",
    "\n",
    "    def get_pay(self):\n",
    "        return self.base_pay + self.bonus\n",
    "\n",
    "\n",
    "class SalesEmployee(Employee):\n",
    "    \n",
    "    def __init__(self, name, base_pay, bonus, sales_incentive):\n",
    "        super().__init__(name, base_pay, bonus)\n",
    "        self.sales_incentive = sales_incentive\n",
    "\n",
    "    def get_pay(self):\n",
    "        return self.base_pay + self.bonus + self.sales_incentive\n",
    "\n",
    "\n",
    "sales_employee = SalesEmployee('John', 5000, 1000, 2000)\n",
    "\n",
    "sales_employee.get_pay()\n"
   ]
  },
  {
   "cell_type": "markdown",
   "id": "d1914320-368e-42e5-8280-edd089e3b8d2",
   "metadata": {},
   "source": [
    "<br>\n",
    "\n",
    "<span style=\"color: #06fff0; font-size: 0.7rem;\">■■■■■■■■■■■■■■■■■■■■■■■■■■■■■■■■■■■■■■■■■■■■■■■■■■■■■■■■■■■■■■■■■■■■■■■■■■■■■■■■■■■■■■■■■■■■■■■■■■■■■■■■■■■■■■■</span>\n",
    "\n",
    "<br>\n",
    "\n",
    "<div style=\"background-color: #e8daef; padding-top: 15px; padding-bottom: 5px; padding-left: 5px;\">\n",
    "\n",
    "<code style=\"color: black; background-color: #e8daef; font-size: 1.05rem;\"><strong>Delegating to other methods in the parent class</strong></code>\n",
    "    \n",
    "</div>\n",
    "\n",
    "<br>\n",
    "\n",
    "<div style=\"display: flex;\">\n",
    "<div>🔶</div>\n",
    "<div style=\"margin-left: 10px;\">The &nbsp;<code style=\"color: red;\">get_pay()</code>&nbsp; method of the &nbsp;<code style=\"color: red;\">SalesEmployee</code>&nbsp; class has some logic that is already defined in the &nbsp;<code style=\"color: red;\">get_pay()</code>&nbsp; method of the &nbsp;<code style=\"color: red;\">Employee</code>&nbsp; class. Therefore, you can <strong>reuse this logic</strong> in the &nbsp;<code style=\"color: red;\">get_pay()</code>&nbsp; method of the &nbsp;<code style=\"color: red;\">SalesEmployee</code>&nbsp; class.</div>\n",
    "</div>\n",
    "\n",
    "<br>\n",
    "\n",
    "🔶 &nbsp;&nbsp;To do that, you can call the &nbsp;<code style=\"color: red;\">get_pay()</code>&nbsp; method of the &nbsp;<code style=\"color: red;\">Employee</code>&nbsp; class in the &nbsp;<code style=\"color: red;\">get_pay()</code>&nbsp; method of &nbsp;<code style=\"color: red;\">SalesEmployee</code>&nbsp; class as follows :&nbsp;<font size=\"+1\">↴</font>\n"
   ]
  },
  {
   "cell_type": "markdown",
   "id": "4a3a47b7-9ed5-4242-9d34-8dbcd371f2a6",
   "metadata": {},
   "source": [
    "<br>\n",
    "\n",
    "<div style=\"margin-left: 120px;\">\n",
    "\n",
    "![](../../media/Shraddha_Kapra_oops_77.PNG)\n",
    "\n",
    "</div>"
   ]
  },
  {
   "cell_type": "code",
   "execution_count": 4,
   "id": "637f5d6d-85df-4a68-8486-1f1f3cb4c0df",
   "metadata": {},
   "outputs": [
    {
     "data": {
      "text/plain": [
       "8000"
      ]
     },
     "execution_count": 4,
     "metadata": {},
     "output_type": "execute_result"
    }
   ],
   "source": [
    "\n",
    "class Employee:\n",
    "    \n",
    "    def __init__(self, name, base_pay, bonus):\n",
    "        self.name = name\n",
    "        self.base_pay = base_pay\n",
    "        self.bonus = bonus\n",
    "\n",
    "    def get_pay(self):\n",
    "        return self.base_pay + self.bonus\n",
    "\n",
    "\n",
    "class SalesEmployee(Employee):\n",
    "    \n",
    "    def __init__(self, name, base_pay, bonus, sales_incentive):\n",
    "        super().__init__(name, base_pay, bonus)\n",
    "        self.sales_incentive = sales_incentive\n",
    "\n",
    "    def get_pay(self):\n",
    "        return super().get_pay() + self.sales_incentive                 # return self.base_pay + self.bonus + self.sales_incentive\n",
    "\n",
    "\n",
    "sales_employee = SalesEmployee('John', 5000, 1000, 2000)\n",
    "\n",
    "sales_employee.get_pay()\n"
   ]
  },
  {
   "cell_type": "markdown",
   "id": "56ca7099-3a79-432e-8718-cdd2d796b664",
   "metadata": {},
   "source": [
    "<br>\n",
    "\n",
    "<span style=\"color: #06fff0; font-size: 0.7rem;\">■■■■■■■■■■■■■■■■■■■■■■■■■■■■■■■■■■■■■■■■■■■■■■■■■■■■■■■■■■■■■■■■■■■■■■■■■■■■■■■■■■■■■■■■■■■■■■■■■■■■■■■■■■■■■■■</span>\n",
    "\n",
    "<br>\n",
    "\n",
    "<code style=\"color: white; background-color: black;\">Example - 2</code>\n",
    "\n",
    "Let's understand the importance of &nbsp;<span style=\"background-color: yellow;\"> super( ) </span>&nbsp; in context of accessing <span style=\"color: red;\">parent instance methods</span>.\n",
    "\n",
    "But let's first understand in which scenarios, a <strong>child object</strong> can directly access a <span style=\"color: red;\">parent instance method</span> without using &nbsp;<span style=\"background-color: yellow;\"> super( ) </span>&nbsp;</span>"
   ]
  },
  {
   "cell_type": "code",
   "execution_count": 2,
   "id": "e9a4b8bb-addf-40d9-aa7c-dc55d2683723",
   "metadata": {},
   "outputs": [
    {
     "name": "stdout",
     "output_type": "stream",
     "text": [
      "child instance method 1\n",
      "parent instance method 1\n",
      "child instance method 2\n"
     ]
    }
   ],
   "source": [
    "\n",
    "class A:                                             # PARENT class\n",
    "    \n",
    "    def parent_instance_method(self):\n",
    "        print(\"parent instance method 1\")\n",
    "\n",
    "    def common_instance_method(self):\n",
    "        print(\"parent instance method 2\")\n",
    "\n",
    "class B(A):                                          # CHILD class\n",
    "\n",
    "    def child_instance_method(self):\n",
    "        print(\"child instance method 1\")\n",
    "    \n",
    "    def common_instance_method(self):\n",
    "        print(\"child instance method 2\")\n",
    "\n",
    "b = B()\n",
    "\n",
    "b.child_instance_method()                            # Output  ===>  child instance method 1\n",
    "\n",
    "b.parent_instance_method()                           # Output  ===>  parent instance method 1    <======    without using super()\n",
    "b.common_instance_method()                           # Output  ===>  child instance method 2\n"
   ]
  },
  {
   "cell_type": "markdown",
   "id": "3e6dde9c-7a59-4538-b0cc-9808b90c5daf",
   "metadata": {},
   "source": [
    "<br>\n",
    "\n",
    "<div style=\"background-color: #ffe6ce; padding-top: 15px; padding-bottom: 5px; padding-left: 15px; padding-right: 10px;\">\n",
    "\n",
    "When a <strong>child object</strong> calls a method, the Python interpreter <span style=\"color: blue; background-color: #ffe6ce\">first looks for that method in the </span><strong>child class</strong>. If it doesn't find the method there, it then searches for it in the <strong>parent &nbsp;class</strong>, following the <strong>Method Resolution Order</strong>.\n",
    "\n",
    "Therefore, a <strong>child object</strong> can directly access an <span style=\"color: red;\">parent instance method</span> without using the <span style=\"background-color: yellow;\">&nbsp;super( )&nbsp;</span> function, <span style=\"background-color: white;\">&nbsp;as long as the <strong>child class</strong> does not define a method with the <u>same name</u>.&nbsp;</span>\n",
    "\n",
    "</div>\n",
    "\n"
   ]
  },
  {
   "cell_type": "markdown",
   "id": "d92820f6-fe04-477f-a294-d2b7b5ccfdda",
   "metadata": {},
   "source": [
    "<br>\n",
    "\n",
    "<div style=\"margin-left: 60px;\">\n",
    "\n",
    "![](../../media/Shraddha_Kapra_oops_21.PNG)\n",
    "\n",
    "</div>\n"
   ]
  },
  {
   "cell_type": "code",
   "execution_count": 9,
   "id": "d3dda102-2b2c-4ea0-9aa1-8e9660f945ca",
   "metadata": {},
   "outputs": [
    {
     "name": "stdout",
     "output_type": "stream",
     "text": [
      "child instance method 1\n",
      "parent instance method 1\n",
      "child instance method 2\n",
      "parent instance method 2\n"
     ]
    }
   ],
   "source": [
    "\n",
    "class A:\n",
    "\n",
    "    def parent_instance_method(self):\n",
    "        print(\"parent instance method 1\")\n",
    "\n",
    "    def common_instance_method(self):\n",
    "        print(\"parent instance method 2\")\n",
    "\n",
    "\n",
    "class B(A):\n",
    "\n",
    "    def child_instance_method(self):\n",
    "        print(\"child instance method 1\")\n",
    "        super().parent_instance_method()             # to access parent instance method 1\n",
    "\n",
    "    def common_instance_method(self):\n",
    "        print(\"child instance method 2\")\n",
    "        super().common_instance_method()             # to access parent instance method 2\n",
    "\n",
    "\n",
    "b = B()\n",
    "\n",
    "\n",
    "b.child_instance_method()                            #  OUTPUT:   child instance method 1\n",
    "                                                     #            parent instance method 1\n",
    "\n",
    "b.common_instance_method()                           #  OUTPUT:   child instance method 2\n",
    "                                                     #            parent instance method 2\n"
   ]
  },
  {
   "cell_type": "markdown",
   "id": "663b2157-d4b9-4266-b4d7-1b90febf19d1",
   "metadata": {},
   "source": [
    "<br>\n",
    "\n",
    "<span style=\"color: #06fff0; font-size: 0.7rem;\">■■■■■■■■■■■■■■■■■■■■■■■■■■■■■■■■■■■■■■■■■■■■■■■■■■■■■■■■■■■■■■■■■■■■■■■■■■■■■■■■■■■■■■■■■■■■■■■■■■■■■■■■■■■■■■■</span>\n",
    "\n",
    "<br>\n",
    "\n",
    "<code style=\"color: white; background-color: black;\">Example - 3</code>\n",
    "\n",
    "\n",
    "\n",
    "Now let's see how a <u>child object</u> can access a <span style=\"color: red;\">parent instance attribute</span> using &nbsp;<code style=\"background-color: yellow;\">super</code>"
   ]
  },
  {
   "cell_type": "markdown",
   "id": "b22902ca-bbaf-4c01-923c-0043c70eb2d5",
   "metadata": {},
   "source": [
    "<br>\n",
    "\n",
    "<div style=\"margin-left: 110px;\">\n",
    "\n",
    "![](../../media/Shraddha_Kapra_oops_23.PNG)\n",
    "\n",
    "</div>\n"
   ]
  },
  {
   "cell_type": "code",
   "execution_count": 26,
   "id": "9349c40a-5797-4015-a98a-cc5e64e3414b",
   "metadata": {},
   "outputs": [],
   "source": [
    "\n",
    "class A:\n",
    "    # parent instance method 1   ===>   CONSTRUCTOR\n",
    "    def __init__(self, instance_attribute):                \n",
    "        self.parent_instance_attribute = instance_attribute\n",
    "\n",
    "    # parent instance method 2\n",
    "    def update_parent_instance_attribute(self, updated_value_of_the_parent_instance_attribute):     \n",
    "        self.parent_instance_attribute = updated_value_of_the_parent_instance_attribute\n",
    "\n",
    "class B(A):\n",
    "    # child instance method 1   ===>   CONSTRUCTOR\n",
    "    def __init__(self, child_instance_attribute, parent_instance_attribute):       \n",
    "        super().__init__(parent_instance_attribute)\n",
    "        self.child_instance_attribute = child_instance_attribute\n",
    "\n",
    "    # child instance method 2\n",
    "    def get_parent_child_instance_attributes(self):                                               \n",
    "        return (f\"parent_instance_attribute   ==>  {self.parent_instance_attribute}\", \\\n",
    "                f\"child_instance_attribute      ==>  {self.child_instance_attribute}\"\n",
    "               )\n",
    "\n",
    "    # child instance method 3\n",
    "    def modify_parent_instance_attribute(self, modified_value_of_parent_instance_attribute):\n",
    "        # self.parent_instance_attribute = modified_value_of_parent_instance_attribute                      # METHOD - 1\n",
    "        super().update_parent_instance_attribute(modified_value_of_parent_instance_attribute)               # METHOD - 2\n"
   ]
  },
  {
   "cell_type": "markdown",
   "id": "b011abde-d568-4e94-9729-1cd49846cff2",
   "metadata": {},
   "source": [
    "<br>"
   ]
  },
  {
   "cell_type": "code",
   "execution_count": 27,
   "id": "d4df2123-ea72-48b4-b766-87a5c316e717",
   "metadata": {},
   "outputs": [
    {
     "name": "stdout",
     "output_type": "stream",
     "text": [
      "value of the parent_instance_attribute of the object \"a\"    ==========>  without using super()\n",
      "value of the child_instance_attribute of the object \"b\"     ==========>  without using super()\n",
      "value of the parent_instance_attribute_1 of the object \"b\"  ==========>  using super()\n"
     ]
    }
   ],
   "source": [
    "\n",
    "# creates an object of class A\n",
    "a = A('value of the parent_instance_attribute of the object \"a\"    ==========>  without using super()')\n",
    "print(a.parent_instance_attribute)\n",
    "\n",
    "\n",
    "# creates an object of class B\n",
    "b = B('value of the child_instance_attribute of the object \"b\"     ==========>  without using super()', \\\n",
    "      'value of the parent_instance_attribute_1 of the object \"b\"  ==========>  using super()'\n",
    "     )\n",
    "\n",
    "print(b.child_instance_attribute)\n",
    "print(b.parent_instance_attribute)\n"
   ]
  },
  {
   "cell_type": "markdown",
   "id": "7913d180-34d1-4a35-9053-8ad7714e2012",
   "metadata": {},
   "source": [
    "<br>"
   ]
  },
  {
   "cell_type": "code",
   "execution_count": 28,
   "id": "3f14961a-7ef8-4962-ac55-2aa0fc0a9f45",
   "metadata": {},
   "outputs": [
    {
     "name": "stdout",
     "output_type": "stream",
     "text": [
      "updated value of the parent_instance_attribute of the object \"a\"   ===>  without using super()\n",
      "modified value of the parent_instance_attribute of the object \"b\"  ===>  using super()\n"
     ]
    }
   ],
   "source": [
    "\n",
    "a.update_parent_instance_attribute('updated value of the parent_instance_attribute of the object \"a\"   ===>  without using super()')\n",
    "print(a.parent_instance_attribute)\n",
    "\n",
    "b.modify_parent_instance_attribute('modified value of the parent_instance_attribute of the object \"b\"  ===>  using super()')\n",
    "print(b.parent_instance_attribute)\n"
   ]
  },
  {
   "cell_type": "markdown",
   "id": "f30c34c9-7c47-4116-a338-42159dc36a17",
   "metadata": {},
   "source": [
    "<br>\n",
    "\n",
    "<span style=\"color: #06fff0; font-size: 0.7rem;\">■■■■■■■■■■■■■■■■■■■■■■■■■■■■■■■■■■■■■■■■■■■■■■■■■■■■■■■■■■■■■■■■■■■■■■■■■■■■■■■■■■■■■■■■■■■■■■■■■■■■■■■■■■■■■■■</span>\n",
    "\n",
    "<br>\n",
    "\n",
    "<code style=\"color: white; background-color: black;\">Example - 4</code>"
   ]
  },
  {
   "cell_type": "code",
   "execution_count": 12,
   "id": "d9e86331-474e-45bf-864e-79d8a4c90861",
   "metadata": {},
   "outputs": [
    {
     "name": "stdout",
     "output_type": "stream",
     "text": [
      "car started..\n",
      "car stopped.\n"
     ]
    },
    {
     "ename": "AttributeError",
     "evalue": "'ToyotaCar' object has no attribute 'fuel_type'",
     "output_type": "error",
     "traceback": [
      "\u001b[1;31m---------------------------------------------------------------------------\u001b[0m",
      "\u001b[1;31mAttributeError\u001b[0m                            Traceback (most recent call last)",
      "Cell \u001b[1;32mIn[12], line 22\u001b[0m\n\u001b[0;32m     20\u001b[0m toyotacar1\u001b[38;5;241m.\u001b[39mstart()                                \u001b[38;5;66;03m# OUTPUT:          car started..\u001b[39;00m\n\u001b[0;32m     21\u001b[0m toyotacar1\u001b[38;5;241m.\u001b[39mstop()                                 \u001b[38;5;66;03m# OUTPUT:          car stopped.\u001b[39;00m\n\u001b[1;32m---> 22\u001b[0m \u001b[43mtoyotacar1\u001b[49m\u001b[38;5;241;43m.\u001b[39;49m\u001b[43mfuel_type\u001b[49m                              \u001b[38;5;66;03m# AttributeError:  'ToyotaCar' object has no attribute 'fuel_type'\u001b[39;00m\n",
      "\u001b[1;31mAttributeError\u001b[0m: 'ToyotaCar' object has no attribute 'fuel_type'"
     ]
    }
   ],
   "source": [
    "\n",
    "class Car:                                        # PARENT  class\n",
    "    def __init__(self, fuel_type):\n",
    "        self.fuel_type = fuel_type\n",
    "\n",
    "    @staticmethod\n",
    "    def start():\n",
    "        print(\"car started..\")\n",
    "\n",
    "    @staticmethod\n",
    "    def stop():\n",
    "        print(\"car stopped.\")\n",
    "\n",
    "\n",
    "class ToyotaCar(Car):                             # CHILD  class\n",
    "    def __init__(self, name):\n",
    "        self.name = name\n",
    "\n",
    "\n",
    "toyotacar1 = ToyotaCar(\"Prius\")\n",
    "toyotacar1.start()                                # OUTPUT:          car started..\n",
    "toyotacar1.stop()                                 # OUTPUT:          car stopped.\n",
    "toyotacar1.fuel_type                              # AttributeError:  'ToyotaCar' object has no attribute 'fuel_type'\n"
   ]
  },
  {
   "cell_type": "markdown",
   "id": "d72cf38c-69b2-407a-84ec-f22a9a44cdd6",
   "metadata": {},
   "source": [
    "<br>\n",
    "\n",
    "🔶 &nbsp;&nbsp;<code style=\"background-color: white;\">Now for the <u>child object</u>  <code style=\"background-color: #dcdcdc;\">car1</code>  to acess to it's <u><span style=\"color: red;\">parent instance attribute</span></u>  <code style=\"background-color: #dcdcdc;\">fuel_type</code> , you can use <code style=\"font-size: 1rem; background-color: yellow;\">super()</code> as follows</code> :&nbsp;<font size=\"+1\">↴</font>\n",
    "\n",
    "<div style=\"margin-left: 50px;\">\n",
    "\n",
    "![](../../media/Shraddha_Kapra_oops_15.PNG)\n",
    "\n",
    "</div>"
   ]
  },
  {
   "cell_type": "code",
   "execution_count": 14,
   "id": "145df606-3618-4406-b06d-dd0a2f6a35b3",
   "metadata": {},
   "outputs": [
    {
     "name": "stdout",
     "output_type": "stream",
     "text": [
      "car started..\n",
      "car stopped.\n"
     ]
    },
    {
     "data": {
      "text/plain": [
       "'Hybrid(Electric + Petrol)'"
      ]
     },
     "execution_count": 14,
     "metadata": {},
     "output_type": "execute_result"
    }
   ],
   "source": [
    "\n",
    "class Car:                                                         # PARENT  class\n",
    "    def __init__(self, fuel_type):\n",
    "        self.fuel_type = fuel_type\n",
    "\n",
    "    @staticmethod\n",
    "    def start():\n",
    "        print(\"car started..\")\n",
    "\n",
    "    @staticmethod\n",
    "    def stop():\n",
    "        print(\"car stopped.\")\n",
    "\n",
    "\n",
    "class ToyotaCar(Car):                                              # CHILD  class\n",
    "    def __init__(self, name, fuel_type):\n",
    "        super().__init__(fuel_type)\n",
    "        self.name = name\n",
    "\n",
    "\n",
    "toyotacar1 = ToyotaCar(\"Prius\", \"Hybrid(Electric + Petrol)\")\n",
    "toyotacar1.start()                                                 # OUTPUT:  car started..\n",
    "toyotacar1.stop()                                                  # OUTPUT:  car stopped.\n",
    "toyotacar1.fuel_type                                               # OUTPUT:  Hybrid(Electric + Petrol)\n"
   ]
  },
  {
   "cell_type": "markdown",
   "id": "9083da7e-1f8d-4fc9-847a-96fc14896ecd",
   "metadata": {},
   "source": [
    "<br>\n",
    "\n",
    "🔶 &nbsp;&nbsp;Just like <code style=\"color: blue;\">\\_\\_init__()</code> method, you can also invoke <u>other <strong>inherited</strong> methods at the time of creating a child object</u> using <span style=\"background-color: yellow;\">super()</span>\n",
    "\n",
    "&nbsp;&nbsp;&nbsp;&nbsp;&nbsp;&nbsp;&nbsp;&nbsp;Let us see how to ensure that <span style=\"background-color: white; color: red;\">an object of ToyotaCar class <u>automatically starts</u> as and when it is created</span> :&nbsp;<font size=\"+1\">↴</font>\n",
    "\n",
    "<div style=\"margin-left: 150px;\">\n",
    "\n",
    "![](../../media/Shraddha_Kapra_oops_78.PNG)\n",
    "\n",
    "</div>"
   ]
  },
  {
   "cell_type": "code",
   "execution_count": 26,
   "id": "52e69c90-7c18-46a4-80dc-3b2f1d2ed298",
   "metadata": {},
   "outputs": [
    {
     "name": "stdout",
     "output_type": "stream",
     "text": [
      "car started..\n"
     ]
    }
   ],
   "source": [
    "\n",
    "class Car:                                                                                          # PARENT  class\n",
    "    def __init__(self, fuel_type):\n",
    "        self.fuel_type = fuel_type\n",
    "\n",
    "    @staticmethod\n",
    "    def start():\n",
    "        print(\"car started..\")\n",
    "\n",
    "    @staticmethod\n",
    "    def stop():\n",
    "        print(\"car stopped.\")\n",
    "\n",
    "\n",
    "class ToyotaCar(Car):                                                                               # CHILD  class\n",
    "    def __init__(self, name, fuel_type):\n",
    "        super().__init__(fuel_type)                                                                 # invokes  Car.__init__()  method\n",
    "        self.name = name\n",
    "        super().start()                                                                             # invokes  Car.start()     method\n",
    "\n",
    "\n",
    "toyotacar1 = ToyotaCar(\"Prius\", \"Hybrid(Electric + Petrol)\")     # OUTPUT:  car started..   ===>    # creates an object \"toyotacar1\" of type \"ToyotaCar\"\n"
   ]
  },
  {
   "cell_type": "code",
   "execution_count": 27,
   "id": "942d8961-2384-4226-ac45-31729379b6ae",
   "metadata": {},
   "outputs": [
    {
     "data": {
      "text/plain": [
       "'Hybrid(Electric + Petrol)'"
      ]
     },
     "execution_count": 27,
     "metadata": {},
     "output_type": "execute_result"
    }
   ],
   "source": [
    "\n",
    "# And  obviously  we  can  access  \"fuel_type\"  by  invoking  \"super.__init__(fuel_type)\"  method  in  the  child  class \"ToyotaCar\"\n",
    "\n",
    "toyotacar1.fuel_type\n"
   ]
  },
  {
   "cell_type": "markdown",
   "id": "d3d43545-4711-4af8-9242-810bd1da8a38",
   "metadata": {},
   "source": [
    "<br>\n",
    "\n",
    "<span style=\"color: #06fff0; font-size: 0.7rem;\">■■■■■■■■■■■■■■■■■■■■■■■■■■■■■■■■■■■■■■■■■■■■■■■■■■■■■■■■■■■■■■■■■■■■■■■■■■■■■■■■■■■■■■■■■■■■■■■■■■■■■■■■■■■■■■■</span>\n",
    "\n",
    "<br>\n",
    "\n",
    "<code style=\"color: white; background-color: black;\">Example - 5</code>\n",
    "\n",
    "<br>\n",
    "\n",
    "<div style=\"background-color: #ffe6ce; padding-top: 17px; padding-bottom: 5px; padding-left: 10px;\">\n",
    "\n",
    "However &nbsp;a &nbsp;<u>child object</u> &nbsp;<strong>cannot &nbsp;access</strong> &nbsp;<span style=\"color: red;\">parent class attributes</span> &nbsp;and &nbsp;<span style=\"color: red;\">parent class methods</span> &nbsp;using &nbsp;<span style=\"background-color: yellow;\">super( )</span> . &nbsp;&nbsp;The &nbsp;same &nbsp;is &nbsp;true &nbsp;for &nbsp;<span style=\"color: red;\">static attributes</span> &nbsp;and &nbsp;<span style=\"color: red;\">static methods</span> .\n",
    "\n",
    "</div>\n",
    "\n",
    "<br>\n",
    "\n",
    "<div style=\"margin-left: 70px;\">\n",
    "\n",
    "![](../../media/Shraddha_Kapra_oops_79.PNG)\n",
    "\n",
    "</div>"
   ]
  },
  {
   "cell_type": "code",
   "execution_count": 9,
   "id": "2373d39d-728b-4870-9455-84ab370535e9",
   "metadata": {},
   "outputs": [
    {
     "name": "stdout",
     "output_type": "stream",
     "text": [
      "child class attribute\n"
     ]
    }
   ],
   "source": [
    "\n",
    "class A:                                        # PARENT  class\n",
    "    class_attribute = \"parent class attribute\"\n",
    "    \n",
    "    @classmethod                                                                         \n",
    "    def class_method(cls):\n",
    "        print(cls.class_attribute)\n",
    "    \n",
    "class B(A):                                     # CHILD  class\n",
    "    class_attribute = \"child class attribute\"\n",
    "    \n",
    "    @classmethod\n",
    "    def class_method(cls):\n",
    "        super().class_method()                  # calls the parent class method using super() \n",
    "                                                # but the \"cls\" parameter in the parent class method still references to the child class \"B\"\n",
    "                                                # therefore, print(cls.class_attribute)  ====>  OUTPUT:  child classs attribute\n",
    "\n",
    "                                                # Note - \"cls\" parameter in a class methhod always refers to the class from which the method was called\n",
    "\n",
    "\n",
    "b = B()\n",
    "\n",
    "b.class_method()\n"
   ]
  },
  {
   "cell_type": "markdown",
   "id": "f6ea8ba6-6352-4b3d-8d71-81c38030e7d9",
   "metadata": {},
   "source": [
    "<br>\n",
    "\n",
    "<div style=\"display: flex;\">\n",
    "<div>🔶</div>\n",
    "<div style=\"margin-left: 10px;\">Since the &nbsp;<code style=\"color: red; background-color: #cafff7;\">cls</code>&nbsp; parameter in a <u>class method</u> <span style=\"color: #10e405;\">always refers to the class from which the method was called</span>. <br>\n",
    "<span style=\"background-color: #f9deff; padding: 4px;\">So the <span style=\"background-color: yellow;\">&nbsp;super( )&nbsp;</span> &nbsp;function does not change the &nbsp;<code style=\"color: red; background-color: #cafff7;\">cls</code>&nbsp; argument passed to class methods</span>, which is why the <u>class attribute of class B</u> is used.</div>\n",
    "</div>\n",
    "\n",
    "<br>\n",
    "\n",
    "<div style=\"display: flex;\">\n",
    "<div>🔶</div>\n",
    "<div style=\"margin-left: 10px;\">If you want to access the <u>parent class</u> attribute explicitly, you can directly reference to the parent class like : \n",
    "<br>&nbsp;&nbsp;&nbsp;&nbsp;&nbsp;&nbsp;&nbsp;&nbsp;&nbsp;&nbsp;&nbsp;<code><span style=\"color: red;\">ClassName.</span><span style=\"color: blue;\">classattributename</span></code> &nbsp;&nbsp;or&nbsp;&nbsp; <code><span style=\"color: red;\">ClassName.</span><span style=\"color: blue;\">classmethodname</span></code></div>\n",
    "</div>\n",
    "\n",
    "<br>"
   ]
  },
  {
   "cell_type": "code",
   "execution_count": 17,
   "id": "8b343243-1301-42e9-984a-4f77b4e60c92",
   "metadata": {},
   "outputs": [
    {
     "name": "stdout",
     "output_type": "stream",
     "text": [
      "child class attribute\n",
      "child class attribute\n",
      "parent class attribute\n",
      "parent class attribute\n"
     ]
    }
   ],
   "source": [
    "\n",
    "class A:                                                 # PARENT  class\n",
    "    class_attribute = \"parent class attribute\"\n",
    "    \n",
    "    @classmethod\n",
    "    def class_method(cls):\n",
    "        print(cls.class_attribute)\n",
    "\n",
    "\n",
    "class B(A):                                              # CHILD  class\n",
    "    class_attribute = \"child class attribute\"\n",
    "    \n",
    "    @classmethod\n",
    "    def class_method(cls):\n",
    "        print(cls.class_attribute)     # the child class attribute is directly accessible using cls in the child class\n",
    "        super().class_method()         # invokes the parent class method using super() but cls in the parent class still references to the child class B\n",
    "        \n",
    "        print(A.class_attribute)       # directly calls the parent class attribute   <===   <ClassName.classattributename>\n",
    "        A.class_method()               # directly calls the parent class method      <===   <ClassName.classmethodname>\n",
    "        \n",
    "\n",
    "b = B()\n",
    "\n",
    "b.class_method()\n"
   ]
  },
  {
   "cell_type": "markdown",
   "id": "734894d7-483a-42b8-80e6-2b2f44447dd0",
   "metadata": {},
   "source": [
    "<br>\n",
    "\n",
    "🔶 &nbsp;&nbsp;Let's now see why we <strong>cannot access</strong> the <span style=\"color: red;\">parent static methods</span> using <span style=\"background-color: yellow;\">&nbsp;super( )&nbsp;</span>"
   ]
  },
  {
   "cell_type": "code",
   "execution_count": 20,
   "id": "2782aa7d-919c-4261-bc05-e29f249b7da5",
   "metadata": {},
   "outputs": [
    {
     "name": "stdout",
     "output_type": "stream",
     "text": [
      "child static method\n",
      "child static attribute\n",
      "parent static attribute\n",
      "parent static method\n"
     ]
    },
    {
     "ename": "RuntimeError",
     "evalue": "super(): no arguments",
     "output_type": "error",
     "traceback": [
      "\u001b[1;31m---------------------------------------------------------------------------\u001b[0m",
      "\u001b[1;31mRuntimeError\u001b[0m                              Traceback (most recent call last)",
      "Cell \u001b[1;32mIn[20], line 22\u001b[0m\n\u001b[0;32m     18\u001b[0m         \u001b[38;5;28msuper\u001b[39m()\u001b[38;5;241m.\u001b[39mstatic_method()                             \u001b[38;5;66;03m# ERROR :  RuntimeError: super(): no arguments\u001b[39;00m\n\u001b[0;32m     20\u001b[0m b \u001b[38;5;241m=\u001b[39m B()\n\u001b[1;32m---> 22\u001b[0m \u001b[43mb\u001b[49m\u001b[38;5;241;43m.\u001b[39;49m\u001b[43mstatic_method\u001b[49m\u001b[43m(\u001b[49m\u001b[43m)\u001b[49m\n",
      "Cell \u001b[1;32mIn[20], line 18\u001b[0m, in \u001b[0;36mB.static_method\u001b[1;34m()\u001b[0m\n\u001b[0;32m     16\u001b[0m \u001b[38;5;28mprint\u001b[39m(A\u001b[38;5;241m.\u001b[39mstatic_attribute)                           \u001b[38;5;66;03m# OUTPUT:  parent static attribute\u001b[39;00m\n\u001b[0;32m     17\u001b[0m A\u001b[38;5;241m.\u001b[39mstatic_method()                                   \u001b[38;5;66;03m# OUTPUT:  parent static method\u001b[39;00m\n\u001b[1;32m---> 18\u001b[0m \u001b[38;5;28;43msuper\u001b[39;49m\u001b[43m(\u001b[49m\u001b[43m)\u001b[49m\u001b[38;5;241m.\u001b[39mstatic_method()\n",
      "\u001b[1;31mRuntimeError\u001b[0m: super(): no arguments"
     ]
    }
   ],
   "source": [
    "\n",
    "class A:                                                    # PARENT class\n",
    "    static_attribute = \"parent static attribute\"\n",
    "\n",
    "    @staticmethod\n",
    "    def static_method():\n",
    "        print(\"parent static method\")\n",
    "\n",
    "class B(A):                                                 # CHILD class\n",
    "    static_attribute = \"child static attribute\"\n",
    "\n",
    "    @staticmethod\n",
    "    def static_method():\n",
    "        print(\"child static method\")                        # OUTPUT:  child static method\n",
    "        print(B.static_attribute)                           # OUTPUT:  child static attribute\n",
    "        \n",
    "        print(A.static_attribute)                           # OUTPUT:  parent static attribute\n",
    "        A.static_method()                                   # OUTPUT:  parent static method\n",
    "        super().static_method()                             # ERROR :  RuntimeError: super(): no arguments\n",
    "        \n",
    "b = B()\n",
    "\n",
    "b.static_method()\n"
   ]
  },
  {
   "cell_type": "markdown",
   "id": "fcb48469-2855-49cf-b1d3-b49d6b794934",
   "metadata": {},
   "source": [
    "<br>\n",
    "\n",
    "As you can see, &nbsp;<span style=\"background-color: #f3f1ec; padding: 5px;\"><span style=\"background-color: yellow;\"> super( ) </span>&nbsp; doesn't work in <span style=\"color: red;\">static methods</span></span>\n",
    "\n",
    "<br>\n",
    "\n",
    "<div style=\"background-color: #f9deff;; padding-top: 17px; padding-bottom: 5px; padding-left: 10px;\">\n",
    "\n",
    "The &nbsp;<span style=\"background-color: yellow;\">&nbsp;super( )&nbsp;</span>&nbsp; function in Python is designed to work with <u>instance methods</u> & <u>class methods</u> where <strong>self</strong> or <strong>cls</strong> is passed as an argument.\n",
    "\n",
    "But, in the context of a <span style=\"color: red;\">static method</span>, &nbsp;<span style=\"background-color: yellow;\">&nbsp;super( )&nbsp;</span>&nbsp; doesn't work as expected because <span style=\"color: red;\">static methods</span> do not have access to <strong>self</strong> or <strong>cls</strong>.\n",
    "\n",
    "</div>"
   ]
  },
  {
   "cell_type": "markdown",
   "id": "fb06da66-2b3d-42c9-bd05-e89138982818",
   "metadata": {},
   "source": [
    "<br>\n",
    "\n",
    "<span style=\"color: #06fff0; font-size: 0.7rem;\">■■■■■■■■■■■■■■■■■■■■■■■■■■■■■■■■■■■■■■■■■■■■■■■■■■■■■■■■■■■■■■■■■■■■■■■■■■■■■■■■■■■■■■■■■■■■■■■■■■■■■■■■■■■■■■■</span>\n",
    "\n",
    "<br>\n",
    "\n",
    "Summary :\n",
    "\n",
    "<br>\n",
    "\n",
    "<div style=\"background-color: #ffe6ce; padding-top: 20px; padding-bottom: 17px; padding-left: 5px;\">\n",
    "\n",
    "<div style=\"display: flex;\">\n",
    "<div style=\"margin-left: 10px;\"><span style=\"color: red; font-size: 0.7rem;\">■</span></div>\n",
    "<div style=\"margin-left: 15px;\">A  child object <span style=\"color: blue;\">can access</span> all &nbsp;<span style=\"background-color: white;\">&nbsp;inherited <span style=\"color: red;\">class attributes</span> and <span style=\"color: red;\">class methods</span>&nbsp;</span>&nbsp; <u>without using</u> &nbsp;<span style=\"background-color: yellow;\">&nbsp;super( )&nbsp;</span> , irrespective of whether they are coming from parents or grandparents or even beyond. The same is true for <span style=\"color: red;\">static methods</span>.</div>\n",
    "</div>\n",
    "\n",
    "<br>\n",
    "\n",
    "<div style=\"display: flex;\">\n",
    "<div style=\"margin-left: 10px;\"><span style=\"color: red; font-size: 0.7rem;\">■</span></div>\n",
    "<div style=\"margin-left: 15px;\">Usually a child  object <span style=\"color: blue;\">can access</span> &nbsp;<span style=\"background-color: white;\">&nbsp;inherited <span style=\"color: red;\">instance methods</span>&nbsp;</span>&nbsp; <u>without using</u> <span style=\"background-color: yellow;\">&nbsp;super( )&nbsp;</span>. <br>\n",
    "<strong>The only exception</strong> is that if we have a &nbsp;<span style=\"background-color: white;\">&nbsp;inherited <span style=\"color: red;\">instance method</span>&nbsp;</span>&nbsp; and a &nbsp;<span style=\"background-color: white;\">&nbsp;child <span style=\"color: red;\">instance method</span>&nbsp;</span>&nbsp; with the <strong>same name</strong>, the child object <span style=\"color: blue;\">cannot access</span> that &nbsp;<span style=\"background-color: #c2fff9;\">&nbsp;inherited <span style=\"color: #fa1b00;\">instance method</span>&nbsp;</span>&nbsp; without using &nbsp;<span style=\"background-color: yellow;\">&nbsp;super( )&nbsp;</span>&nbsp; because of the preference the child instance method gets to avoid this ambiguity.</div>\n",
    "</div>\n",
    "\n",
    "<br>\n",
    "\n",
    "<div style=\"display: flex;\">\n",
    "<div style=\"margin-left: 10px;\"><span style=\"color: red; font-size: 0.7rem;\">■</span></div>\n",
    "<div style=\"margin-left: 15px;\">However what it definitely <span style=\"color: blue;\">cannot access</span> <u>without using</u> &nbsp;<span style=\"background-color: yellow;\">&nbsp;super( )&nbsp;</span>&nbsp; is - &nbsp;<span style=\"background-color: #c2fff9;\">&nbsp;inherited <span style=\"color: #fa1b00;\">instance attributes</span>&nbsp;</span></div>\n",
    "</div>\n",
    "\n",
    "</div>\n",
    "\n",
    "<div style=\"background-color: #fff3df; padding-top: 20px; padding-bottom: 8px; padding-left: 5px;\">\n",
    "\n",
    "<span style=\"margin-left: 10px;\"><span style=\"color: blue; font-size: 0.7rem;\">■</span> &nbsp;&nbsp;To access inherited instance attributes & methods by a child object :</span> <br>\n",
    "\n",
    "<span style=\"margin-left: 60px;\"><font size=\"+1\">↳</font>&nbsp;&nbsp;we need to be able to call &nbsp;<span style=\"color: #2127ff; background-color: white;\">\\_\\_init__</span>&nbsp; method of parents/grandparents/beyond and for that we use a built-in method called &nbsp;<span style=\"background-color: yellow;\">&nbsp;super( )&nbsp;</span></span>\n",
    "\n",
    "</div>\n",
    "\n",
    "<div style=\"background-color: #fff9ec; padding-top: 20px; padding-bottom: 8px; padding-left: 5px;\">\n",
    "\n",
    "&nbsp;&nbsp;&nbsp;<span style=\"font-size: 0.7rem; color: black;\">■</span>&nbsp;&nbsp;<code style=\"background-color: #fff9ec;\">Use <code style=\"background-color: yellow;\">super()</code> to call the <u>instance attributes</u> and <u>instance methods</u> of a parent class from a child class.</code>\n",
    "\n",
    "</div>\n",
    "\n",
    "<br>\n",
    "\n",
    "<br>\n",
    "\n",
    "<span style=\"color: #DCBD10; font-size: 1.2rem;\">▬▬▬▬▬▬▬▬▬▬▬▬▬▬▬▬▬▬▬▬▬▬▬▬▬▬▬▬▬▬▬▬▬▬▬▬▬▬▬▬▬▬▬▬▬▬▬▬▬▬▬▬▬▬▬▬</span>\n"
   ]
  },
  {
   "cell_type": "markdown",
   "id": "2c2baab4-a7eb-4511-afc2-1db5cd236367",
   "metadata": {
    "jp-MarkdownHeadingCollapsed": true
   },
   "source": [
    "<br>\n",
    "\n",
    "# <span style=\"color: black\"><strong><span style=\"background-color: yellow;\">\\_\\_slots__</span></strong></span>"
   ]
  },
  {
   "cell_type": "markdown",
   "id": "6ee391f4-44ab-4d27-bdb8-3c0cbda11646",
   "metadata": {},
   "source": [
    "<br>\n",
    "\n",
    "🔶 &nbsp;&nbsp;We use <code style=\"color: red;\">\\_\\_slots__</code> to make a class more efficient."
   ]
  },
  {
   "cell_type": "markdown",
   "id": "4c7a5859-69a7-4077-877a-8dbda87bee30",
   "metadata": {
    "jp-MarkdownHeadingCollapsed": true
   },
   "source": [
    "<br>\n",
    "\n",
    "#### <span>Introduction to the Python <code style=\"color: red;\">\\_\\_slots__</code></span>"
   ]
  },
  {
   "cell_type": "code",
   "execution_count": 14,
   "id": "03d242c7-e369-48d8-960b-503c7ef3d63e",
   "metadata": {},
   "outputs": [],
   "source": [
    "\n",
    "class Point2D:\n",
    "    def __init__(self, x, y):\n",
    "        self.x = x\n",
    "        self.y = y\n",
    "\n",
    "    def __repr__(self):\n",
    "        return f'Point2D({self.x},{self.y})'\n"
   ]
  },
  {
   "cell_type": "code",
   "execution_count": 15,
   "id": "3b2e1953-52aa-4414-9e84-35034149a73e",
   "metadata": {},
   "outputs": [
    {
     "name": "stdout",
     "output_type": "stream",
     "text": [
      "{'x': 0, 'y': 0}\n",
      "{'x': 1, 'y': 3}\n"
     ]
    }
   ],
   "source": [
    "\n",
    "point1 = Point2D(0, 0)\n",
    "print(point1.__dict__)\n",
    "\n",
    "point2 = Point2D(1,3)\n",
    "print(point2.__dict__)\n"
   ]
  },
  {
   "cell_type": "markdown",
   "id": "163269e4-6fb9-47c0-bcc1-4330e1ae2a12",
   "metadata": {},
   "source": [
    "<br>\n",
    "\n",
    "🔶 &nbsp;&nbsp;Each instance of the <code>Point2D</code> class has its own <code style=\"color: red;\">\\_\\_dict__</code> attribute that stores the instance attributes.\n",
    "\n",
    "<br>\n",
    "\n",
    "🔶 &nbsp;&nbsp;By default, Python uses the <span style=\"color: blue;\">**dictionaries**</span> to manage the instance attributes. &nbsp;The dictionary allows you to add more attributes to the instance <u>dynamically at runtime</u>. <br>\n",
    "&nbsp;&nbsp;&nbsp;&nbsp;&nbsp;&nbsp;&nbsp;&nbsp;However, it also has a <strong>certain memory overhead</strong>. &nbsp;If the <code>Point2D</code> class has many objects, there will be a lot of memory overhead.\n",
    "\n",
    "<br>\n",
    "\n",
    "🔶 &nbsp;&nbsp;<span style=\"color: #21b906;\">To avoid the memory overhead, Python introduced the **slots**.</span> <br>\n",
    "&nbsp;&nbsp;&nbsp;&nbsp;&nbsp;&nbsp;&nbsp;&nbsp;If a class only contains fixed (or predetermined) instance attributes, you can <span style=\"color: blue;\">use the **slots** to instruct Python to use a more compact data structure instead of dictionaries.</span>\n",
    "\n",
    "<br>\n",
    "\n",
    "<span style=\"color: #ab5bcd;\">For example, if the <code>Point2D</code> class has only two instance attributes, you can specify the attributes in the <span style=\"color: black;\">slots</span> like this :</span>"
   ]
  },
  {
   "cell_type": "code",
   "execution_count": 21,
   "id": "fc340057-6678-4357-a519-343e72e896eb",
   "metadata": {},
   "outputs": [],
   "source": [
    "\n",
    "class Point2D:\n",
    "    __slots__ = ('x', 'y')                        # tuple\n",
    "\n",
    "    def __init__(self, x, y):\n",
    "        self.x = x\n",
    "        self.y = y\n",
    "\n",
    "    def __repr__(self):\n",
    "        return f'Point2D({self.x},{self.y})'\n"
   ]
  },
  {
   "cell_type": "markdown",
   "id": "60ae7883-e6c1-4e72-978e-e26f9f452b40",
   "metadata": {},
   "source": [
    "<br>\n",
    "\n",
    "<span style=\"color: #ab5bcd;\">By doing this, Python will <span style=\"color: black;\">**not use**</span> the <code style=\"color: red;\">\\_\\_dict__</code> for the instances of the class. &nbsp;The following will cause <code style=\"color: red;\">no attribute '\\_\\_dict__'</code> error :</span>\n"
   ]
  },
  {
   "cell_type": "code",
   "execution_count": 22,
   "id": "f8b40caa-7fc0-40fd-86da-cad0cf0fb79f",
   "metadata": {},
   "outputs": [
    {
     "ename": "AttributeError",
     "evalue": "'Point2D' object has no attribute '__dict__'",
     "output_type": "error",
     "traceback": [
      "\u001b[1;31m---------------------------------------------------------------------------\u001b[0m",
      "\u001b[1;31mAttributeError\u001b[0m                            Traceback (most recent call last)",
      "Cell \u001b[1;32mIn[22], line 2\u001b[0m\n\u001b[0;32m      1\u001b[0m point \u001b[38;5;241m=\u001b[39m Point2D(\u001b[38;5;241m0\u001b[39m, \u001b[38;5;241m0\u001b[39m)\n\u001b[1;32m----> 2\u001b[0m \u001b[38;5;28mprint\u001b[39m(\u001b[43mpoint\u001b[49m\u001b[38;5;241;43m.\u001b[39;49m\u001b[38;5;18;43m__dict__\u001b[39;49m)\n",
      "\u001b[1;31mAttributeError\u001b[0m: 'Point2D' object has no attribute '__dict__'"
     ]
    }
   ],
   "source": [
    "\n",
    "point = Point2D(0, 0)\n",
    "print(point.__dict__)\n"
   ]
  },
  {
   "cell_type": "markdown",
   "id": "6818c612-ab74-446c-8a8e-cbcb6a408926",
   "metadata": {},
   "source": [
    "<br>\n",
    "\n",
    "<span style=\"color: #ab5bcd;\">Instead, you’ll see the <code style=\"color: red;\">\\_\\_slots__</code> in the instance of the class. </span>"
   ]
  },
  {
   "cell_type": "code",
   "execution_count": 23,
   "id": "473f6c28-8b9b-4be9-9427-ce364dee65bc",
   "metadata": {},
   "outputs": [
    {
     "name": "stdout",
     "output_type": "stream",
     "text": [
      "('x', 'y')\n"
     ]
    }
   ],
   "source": [
    "\n",
    "print(point.__slots__)\n"
   ]
  },
  {
   "cell_type": "markdown",
   "id": "b6eb1bad-f7ee-4253-92b2-9d8a9f13daff",
   "metadata": {},
   "source": [
    "<br>\n",
    "\n",
    "<span style=\"color: #ab5bcd;\">Also, now you cannot add more attributes to the instance dynamically at runtime.</span>"
   ]
  },
  {
   "cell_type": "code",
   "execution_count": 26,
   "id": "1d35b6f6-4b85-476b-abf9-7edc3a959de6",
   "metadata": {},
   "outputs": [
    {
     "ename": "AttributeError",
     "evalue": "'Point2D' object has no attribute 'z'",
     "output_type": "error",
     "traceback": [
      "\u001b[1;31m---------------------------------------------------------------------------\u001b[0m",
      "\u001b[1;31mAttributeError\u001b[0m                            Traceback (most recent call last)",
      "Cell \u001b[1;32mIn[26], line 1\u001b[0m\n\u001b[1;32m----> 1\u001b[0m \u001b[43mpoint\u001b[49m\u001b[38;5;241;43m.\u001b[39;49m\u001b[43mz\u001b[49m \u001b[38;5;241m=\u001b[39m \u001b[38;5;241m0\u001b[39m\n",
      "\u001b[1;31mAttributeError\u001b[0m: 'Point2D' object has no attribute 'z'"
     ]
    }
   ],
   "source": [
    "\n",
    "point.z = 0\n"
   ]
  },
  {
   "cell_type": "markdown",
   "id": "ad803028-b1bc-4b79-baa7-5f19e4296fb9",
   "metadata": {},
   "source": [
    "<br>\n",
    "\n",
    "<span style=\"color: #ab5bcd;\">However, you can add the <span style=\"color: red;\">class attributes</span> to the class :</span>"
   ]
  },
  {
   "cell_type": "code",
   "execution_count": 31,
   "id": "e4e30511-8028-49ab-9cd0-2468224488ba",
   "metadata": {},
   "outputs": [
    {
     "data": {
      "text/plain": [
       "mappingproxy({'__module__': '__main__',\n",
       "              '__slots__': ('x', 'y'),\n",
       "              '__init__': <function __main__.Point2D.__init__(self, x, y)>,\n",
       "              '__repr__': <function __main__.Point2D.__repr__(self)>,\n",
       "              'x': <member 'x' of 'Point2D' objects>,\n",
       "              'y': <member 'y' of 'Point2D' objects>,\n",
       "              '__doc__': None,\n",
       "              'color': 'black'})"
      ]
     },
     "execution_count": 31,
     "metadata": {},
     "output_type": "execute_result"
    }
   ],
   "source": [
    "\n",
    "Point2D.color = 'black'\n",
    "\n",
    "Point2D.__dict__\n"
   ]
  },
  {
   "cell_type": "markdown",
   "id": "75692b2c-921d-4caa-9627-2266bf22268d",
   "metadata": {},
   "source": [
    "<br>\n",
    "\n",
    "🔶 &nbsp;&nbsp;<span style=\"color: #ab5bcd;\">This code works because <span style=\"color: blue;\">Python applies the <span style=\"color: black;\">**slots**</span> to the <u>instances of the class</u>, not the class.</span></span>"
   ]
  },
  {
   "cell_type": "markdown",
   "id": "1f978de5-085f-4f74-92c0-e00bd0d4359d",
   "metadata": {},
   "source": [
    "<br>\n",
    "\n",
    "<span style=\"color: #06fff0; font-size: 0.7rem;\">■■■■■■■■■■■■■■■■■■■■■■■■■■■■■■■■■■■■■■■■■■■■■■■■■■■■■■■■■■■■■■■■■■■■■■■■■■■■■■■■■■■■■■■■■■■■■■■■■■■■■■■■■■■■■■■</span>\n"
   ]
  },
  {
   "cell_type": "markdown",
   "id": "677a64ce-9516-435d-bf9f-f86952fcf6d0",
   "metadata": {
    "jp-MarkdownHeadingCollapsed": true
   },
   "source": [
    "<br>\n",
    "\n",
    "#### Python &nbsp;<code style=\"color: red;\">\\_\\_slots__</code> &nbsp;and &nbsp;<span style=\"color: blue;\">single &nbsp;inheritance</span>"
   ]
  },
  {
   "cell_type": "markdown",
   "id": "c490a894-81f8-45d5-b583-b5928f47744a",
   "metadata": {},
   "source": [
    "\n",
    "Let’s examine the slots in the context of inheritance."
   ]
  },
  {
   "cell_type": "code",
   "execution_count": 41,
   "id": "700edfd4-b3f7-43d4-a8fc-2436e6055774",
   "metadata": {},
   "outputs": [
    {
     "name": "stdout",
     "output_type": "stream",
     "text": [
      "{'x': 10, 'y': 20, 'z': 30}\n"
     ]
    }
   ],
   "source": [
    "\n",
    "class Point2D:\n",
    "\n",
    "    def __init__(self, x, y):\n",
    "        self.x = x\n",
    "        self.y = y\n",
    "\n",
    "    def __repr__(self):\n",
    "        return f'Point2D({self.x},{self.y})'\n",
    "\n",
    "\n",
    "class Point3D(Point2D):\n",
    "    def __init__(self, x, y, z):\n",
    "        super().__init__(x, y)\n",
    "        self.z = z\n",
    "\n",
    "\n",
    "point = Point3D(10, 20, 30)\n",
    "print(point.__dict__)\n"
   ]
  },
  {
   "cell_type": "markdown",
   "id": "9ec08da3-3309-40f4-a38d-a9e3e8c8d0de",
   "metadata": {},
   "source": [
    "<br>\n",
    "\n",
    "<div style=\"background-color: #deffd0; padding-top: 20px; padding-bottom: 20px; padding-left: 10px;\">\n",
    "<span style=\"background-color: black; color: white;\">&nbsp;case - 1&nbsp;</span> &nbsp;&nbsp;-&nbsp;&nbsp;The &nbsp;<span style=\"background-color: white;\">&nbsp;base class&nbsp;</span> &nbsp;uses &nbsp;the &nbsp;slots &nbsp;but &nbsp;the &nbsp;<span style=\"background-color: white;\">&nbsp;subclass&nbsp;</span> &nbsp;doesn’t.\n",
    "</div>\n",
    "\n",
    "<br>"
   ]
  },
  {
   "cell_type": "code",
   "execution_count": 36,
   "id": "a54b6413-fed1-427b-ac41-ef831a2eed76",
   "metadata": {},
   "outputs": [
    {
     "name": "stdout",
     "output_type": "stream",
     "text": [
      "{'z': 30}\n"
     ]
    }
   ],
   "source": [
    "\n",
    "class Point2D:                                           # 2D  coordinates  ---->  (x,y)\n",
    "    __slots__ = ('x', 'y')\n",
    "\n",
    "    def __init__(self, x, y):\n",
    "        self.x = x\n",
    "        self.y = y\n",
    "\n",
    "    def __repr__(self):\n",
    "        return f'Point2D({self.x},{self.y})'\n",
    "\n",
    "\n",
    "class Point3D(Point2D):                                  # 3D  coordinates  ---->  (x,y,z)\n",
    "    def __init__(self, x, y, z):\n",
    "        super().__init__(x, y)\n",
    "        self.z = z\n",
    "\n",
    "\n",
    "point = Point3D(10, 20, 30)\n",
    "print(point.__dict__)\n"
   ]
  },
  {
   "cell_type": "markdown",
   "id": "5508b933-6cb0-4727-8b2c-e002e69e9aea",
   "metadata": {},
   "source": [
    "<br>\n",
    "\n",
    "<span style=\"color: #ab5bcd;\">The <code>Point3D</code> class doesn’t have <strong>slots</strong>, so its instance has the <code style=\"color: red;\">\\_\\_dict__</code> attribute.</span>\n",
    "\n",
    "<span style=\"color: #ab5bcd;\">If you want the <code>Point3D</code> class to use <strong>slots</strong>, you can define additional attributes like this :</span>\n",
    "\n",
    "<br>"
   ]
  },
  {
   "cell_type": "code",
   "execution_count": 42,
   "id": "7eeafd03-c519-4cb7-ab02-481e006276d3",
   "metadata": {},
   "outputs": [],
   "source": [
    "\n",
    "class Point3D(Point2D):\n",
    "    __slots__ = ('z',)\n",
    "\n",
    "    def __init__(self, x, y, z):\n",
    "        super().__init__(x, y)\n",
    "        self.z = z\n"
   ]
  },
  {
   "cell_type": "markdown",
   "id": "377b57db-7330-4670-93b4-379ee6f207b5",
   "metadata": {},
   "source": [
    "<br>\n",
    "\n",
    "<span style=\"color: #ab5bcd;\"><span style=\"color: black;\">**Note**</span> that you don’t specify the attributes that are already specified in the __slots__ of the <u>base class</u>.</span>\n",
    "\n",
    "<span style=\"color: #ab5bcd;\">Now, the <code>Point3D</code> class will use slots for all attributes including &nbsp;<span style=\"font-size: 1rem;\"><span style=\"color: red;\">x</span> , <span style=\"color: red;\">y</span> and <span style=\"color: red;\">z</span>.</span></span>"
   ]
  },
  {
   "cell_type": "markdown",
   "id": "9c1f163e-2c8d-43c7-a828-5bc35ff48d60",
   "metadata": {},
   "source": [
    "<br>\n",
    "\n",
    "<div style=\"background-color: #deffd0; padding-top: 20px; padding-bottom: 20px; padding-left: 10px;\">\n",
    "<span style=\"background-color: black; color: white;\">&nbsp;case - 2&nbsp;</span> &nbsp;&nbsp;-&nbsp;&nbsp;The &nbsp;<span style=\"background-color: white;\">&nbsp;base class&nbsp;</span> &nbsp;does &nbsp;not &nbsp;use &nbsp;the &nbsp;slots &nbsp;but &nbsp;the &nbsp;<span style=\"background-color: white;\">&nbsp;subclass&nbsp;</span> &nbsp;does.\n",
    "</div>\n",
    "\n",
    "<br>"
   ]
  },
  {
   "cell_type": "code",
   "execution_count": 49,
   "id": "2abd7b07-f1a2-43e2-9667-e885e0042d0b",
   "metadata": {},
   "outputs": [
    {
     "name": "stdout",
     "output_type": "stream",
     "text": [
      "('x', 'y')\n",
      "{}\n",
      "{'color': 'black'}\n"
     ]
    }
   ],
   "source": [
    "\n",
    "class Shape:\n",
    "    pass\n",
    "\n",
    "\n",
    "class Point2D(Shape):\n",
    "    __slots__ = ('x', 'y')\n",
    "\n",
    "    def __init__(self, x, y):\n",
    "        self.x = x\n",
    "        self.y = y\n",
    "\n",
    "\n",
    "# use both slots and dict to store instance attributes\n",
    "point1 = Point2D(10, 10)\n",
    "print(point1.__slots__)                                             # OUTPUT:  ('x', 'y')\n",
    "print(point1.__dict__)                                              # OUTPUT:  {}\n",
    "\n",
    "\n",
    "# can add the attribute at runtime\n",
    "point1.color = 'black'\n",
    "print(point1.__dict__)                                              # OUTPUT:  {'color': 'black'}\n"
   ]
  },
  {
   "cell_type": "markdown",
   "id": "6f06726f-f2d0-408a-811e-e284a5529e07",
   "metadata": {},
   "source": [
    "<br>\n",
    "\n",
    "<span style=\"color: #06fff0; font-size: 0.7rem;\">■■■■■■■■■■■■■■■■■■■■■■■■■■■■■■■■■■■■■■■■■■■■■■■■■■■■■■■■■■■■■■■■■■■■■■■■■■■■■■■■■■■■■■■■■■■■■■■■■■■■■■■■■■■■■■■</span>\n"
   ]
  },
  {
   "cell_type": "markdown",
   "id": "ea039a07-7aca-4a34-8c4a-9c1d14e924e2",
   "metadata": {},
   "source": [
    "<br>\n",
    "\n",
    "#### SUMMARY"
   ]
  },
  {
   "cell_type": "markdown",
   "id": "279ea7c2-817a-4394-a145-90d9609aa99e",
   "metadata": {},
   "source": [
    "<br>\n",
    "\n",
    "<div style=\"background-color: #ffe6ce; padding-top: 20px; padding-bottom: 8px; padding-left: 5px;\">\n",
    "\n",
    "&nbsp;&nbsp;&nbsp;&nbsp;<span style=\"font-size: 0.7rem; color: red;\">■</span>&nbsp;&nbsp;&nbsp;Python uses dictionaries to store instance attributes of instances of a class. <br>\n",
    "&nbsp;&nbsp;&nbsp;&nbsp;&nbsp;&nbsp;&nbsp;&nbsp;&nbsp;&nbsp;This allows you to dynamically add more attributes to instances at runtime but also create a memory overhead.\n",
    "\n",
    "<br>\n",
    "\n",
    "&nbsp;&nbsp;&nbsp;&nbsp;<span style=\"font-size: 0.7rem; color: red;\">■</span>&nbsp;&nbsp;&nbsp;Define &nbsp;<code style=\"background-color: white; color: red;\">\\_\\_slots__</code>&nbsp; in the class if it has <strong>predetermined</strong> or <strong>fixed</strong> instances attributes to instruct Python <span style=\"color: blue;\">not to use dictionaries</span> to store instance attributes. <br>\n",
    "&nbsp;&nbsp;&nbsp;&nbsp;&nbsp;&nbsp;&nbsp;&nbsp;&nbsp;&nbsp;The &nbsp;<code style=\"background-color: white; color: red;\">\\_\\_slots__</code>&nbsp; optimizes the memory if the class has many objects.\n",
    "\n",
    "</div>\n",
    "\n",
    "<br>"
   ]
  },
  {
   "cell_type": "markdown",
   "id": "d32743d7-f6f7-4d90-a8e9-2f0d597c012b",
   "metadata": {},
   "source": [
    "<br>\n",
    "\n",
    "<span style=\"color: #DCBD10; font-size: 1.2rem;\">▬▬▬▬▬▬▬▬▬▬▬▬▬▬▬▬▬▬▬▬▬▬▬▬▬▬▬▬▬▬▬▬▬▬▬▬▬▬▬▬▬▬▬▬▬▬▬▬▬▬▬▬▬▬▬▬</span>\n"
   ]
  },
  {
   "cell_type": "markdown",
   "id": "6aa2e440-d8a6-47e5-a3e2-74ccae4f002d",
   "metadata": {
    "jp-MarkdownHeadingCollapsed": true
   },
   "source": [
    "<br>\n",
    "\n",
    "# <span style=\"color: black\"><strong>Abstract &nbsp;Classes</strong></span>"
   ]
  },
  {
   "cell_type": "markdown",
   "id": "6eaea80b-6318-4586-ae12-d3e3dee409c0",
   "metadata": {},
   "source": [
    "<br>\n",
    "\n",
    "<span style=\"color: red;\">An **abstract class** is a class that cannot be instantiated on its own</span> and is therefore <span style=\"color: red;\">meant to be inherited or subclassed by other classes</span>. \n",
    "\n",
    "<br>\n",
    "\n",
    "Typically, it serves as a **blueprint** for other classes, outlining methods that must be implemented by its subclasses. &nbsp;<u>Note that it does not provide the implementation of those methods themselves</u>. &nbsp;In other words, <span style=\"color: blue;\">Abstract classes are useful when you want to ensure the presence of certain methods in the child classes.</span>\n",
    "\n",
    "<br>\n",
    "\n",
    "Similarly, an abstract method is a method without an implementation. &nbsp;<u>An abstract class may or may not include abstract methods</u>.\n",
    "&nbsp;To put it simply, <span style=\"color: blue;\">abstract classes may contain **abstract methods** (<u>methods without implementation</u>) as well as methods that have implementation.</span>\n",
    "\n",
    "<br>\n",
    "\n",
    "Python doesn’t directly support abstract classes. &nbsp;But it does offer a module <code style=\"color: red; background-color: yellow;\">abc</code> that allows you to define abstract classes. &nbsp;To put it simply, <span style=\"color: blue;\">abstract classes in Python are defined using the abc module, which stands for &nbsp;<code style=\"background-color: #f7dc6f;\">Abstract Base Classes</code></span>\n",
    "\n",
    "<br>"
   ]
  },
  {
   "cell_type": "code",
   "execution_count": 3,
   "id": "a8dd5b8f-310a-4263-b049-22440ea603cf",
   "metadata": {},
   "outputs": [],
   "source": [
    "\n",
    "from abc import ABC\n",
    "\n",
    "class AbstractClassName(ABC):\n",
    "    pass\n"
   ]
  },
  {
   "cell_type": "markdown",
   "id": "6eb65e8c-d0d2-421c-aada-e11dfa95e45f",
   "metadata": {},
   "source": [
    "<br>\n",
    "\n",
    "To define an abstract method, you use the <code style=\"background-color: yellow; color: red;\">@abstractmethod</code> **decorator** :\n",
    "\n",
    "<br>"
   ]
  },
  {
   "cell_type": "code",
   "execution_count": 6,
   "id": "914d342f-e12b-48b5-8e30-83e68eabb80b",
   "metadata": {},
   "outputs": [],
   "source": [
    "\n",
    "from abc import ABC, abstractmethod\n",
    "\n",
    "class AbstractClassName(ABC):\n",
    "    \n",
    "    @abstractmethod\n",
    "    def abstract_method_name(self):\n",
    "        pass\n"
   ]
  },
  {
   "cell_type": "markdown",
   "id": "60529aef-1101-4a1b-901e-1a0c7631f54f",
   "metadata": {},
   "source": [
    "<br>\n",
    "\n",
    "<span style=\"color: #06fff0; font-size: 0.7rem;\">■■■■■■■■■■■■■■■■■■■■■■■■■■■■■■■■■■■■■■■■■■■■■■■■■■■■■■■■■■■■■■■■■■■■■■■■■■■■■■■■■■■■■■■■■■■■■■■■■■■■■■■■■■■■■■■</span>\n",
    "\n",
    "<br>\n",
    "\n",
    "<span style=\"font-size: 1rem;\"><strong>Why &nbsp;Use &nbsp;Abstract &nbsp;Classes?</strong></span>\n",
    "\n",
    "Abstract classes are used in the following scenarios :\n",
    "\n",
    "<div style=\"margin-left: 30px;\">\n",
    "1. &nbsp;&nbsp;<span style=\"color: red;\">To define a common interface</span> &nbsp;➜&nbsp;&nbsp; You want to ensure that a set of classes share the same interface or behavior.       <br>\n",
    "2. &nbsp;&nbsp;<span style=\"color: red;\">To enforce a contract</span> &nbsp;&nbsp;&nbsp;&nbsp;&nbsp;&nbsp;&nbsp;&nbsp;&nbsp;&nbsp;&nbsp;&nbsp;&nbsp;&nbsp;&nbsp;➜&nbsp;&nbsp; You want to make sure that derived classes implement certain methods to avoid code errors.  <br>\n",
    "3. &nbsp;&nbsp;<span style=\"color: red;\">To provide base functionality</span> &nbsp;&nbsp;➜&nbsp;&nbsp; You can provide some default behavior in the abstract class, while forcing subclasses to implement or override specific methods.\n",
    "</div>\n",
    "\n",
    "<br>\n",
    "\n",
    "<div style=\"margin-left: 30px;\">\n",
    "\n",
    "<span style=\"color: blue;\">Abstract classes in Python are powerful tools for <strong>designing class hierarchies</strong> and <strong>enforcing consistency</strong> in object-oriented design. They provide a way <u>to define methods that must be created in any child class built from the abstract class</u>, helping maintain a clear structure and reducing code errors in complex programs.</span>\n",
    "\n",
    "</div>\n",
    "\n",
    "<br>\n",
    "\n",
    "<span style=\"color: #06fff0; font-size: 0.7rem;\">■■■■■■■■■■■■■■■■■■■■■■■■■■■■■■■■■■■■■■■■■■■■■■■■■■■■■■■■■■■■■■■■■■■■■■■■■■■■■■■■■■■■■■■■■■■■■■■■■■■■■■■■■■■■■■■</span>\n",
    "\n",
    "<br>\n",
    "\n",
    "<span style=\"background-color: black; color: white;\">&nbsp;EXAMPLE &nbsp;- &nbsp;1A&nbsp;</span>\n",
    "\n",
    "Let's create an &nbsp;<span style=\"background-color: #fff1e2; padding: 6px;\">**abstract** class called &nbsp;<code style=\"background-color: #ebd0ff; color: red;\">Vehicle</code></span> , and then **derive** specific classes like <code style=\"background-color: #e8daef;\">Car</code> and <code style=\"background-color: #e8daef;\">Bicycle</code> that inherit from it.\n"
   ]
  },
  {
   "cell_type": "code",
   "execution_count": 29,
   "id": "bc34ab4c-e30f-4f22-8e9c-c4e1d97d7aba",
   "metadata": {},
   "outputs": [
    {
     "name": "stdout",
     "output_type": "stream",
     "text": [
      "Car engine started.\n",
      "Refueling the vehicle\n",
      "Car engine stopped.\n",
      "Bicycles do not have engines!\n",
      "Nothing to stop, no engine!\n"
     ]
    }
   ],
   "source": [
    "\n",
    "from abc import ABC, abstractmethod\n",
    "\n",
    "class Vehicle(ABC):                               # ABSTRACT CLASS                                                             # parent class\n",
    "    \n",
    "    @abstractmethod\n",
    "    def start_engine(self):                       # ABSTRACT METHOD   (method without implementation)\n",
    "        pass\n",
    "\n",
    "    @abstractmethod\n",
    "    def stop_engine(self):                        # ABSTRACT METHOD   (method without implementation)\n",
    "        pass\n",
    "\n",
    "    def refuel(self):                             # Regular method with implementation\n",
    "        print(\"Refueling the vehicle\")\n",
    "\n",
    "#----------------------------------------------------------------------------------------------------------------------------------------------------\n",
    "\n",
    "class Car(Vehicle):                               # Concrete class that inherits from Vehicle                                 # child class\n",
    "    \n",
    "    def start_engine(self):\n",
    "        print(\"Car engine started.\")\n",
    "\n",
    "    def stop_engine(self):\n",
    "        print(\"Car engine stopped.\")\n",
    "\n",
    "#----------------------------------------------------------------------------------------------------------------------------------------------------\n",
    "\n",
    "class Bicycle(Vehicle):                           # Concrete class that inherits from Vehicle                                 # child class\n",
    "    \n",
    "    def start_engine(self):\n",
    "        print(\"Bicycles do not have engines!\")\n",
    "\n",
    "    def stop_engine(self):\n",
    "        print(\"Nothing to stop, no engine!\")\n",
    "\n",
    "#----------------------------------------------------------------------------------------------------------------------------------------------------\n",
    "\n",
    "car = Car()                                       # Instantiate the subclass \"Car\"\n",
    "car.start_engine()                                                                                              # OUTPUT:  Car engine started.\n",
    "car.refuel()                                                                                                    # OUTPUT:  Refueling the vehicle\n",
    "car.stop_engine()                                                                                               # OUTPUT:  Car engine stopped.\n",
    "\n",
    "\n",
    "bicycle = Bicycle()                               # Instantiate the subclass \"Bicycle\"\n",
    "bicycle.start_engine()                                                                                          # OUTPUT:  Bicycles do not have engines!\n",
    "bicycle.stop_engine()                                                                                           # OUTPUT:  Nothing to stop, no engine!\n"
   ]
  },
  {
   "cell_type": "markdown",
   "id": "8e8a6424-61c9-41e7-a89c-7c7cd836d504",
   "metadata": {},
   "source": [
    "<br>"
   ]
  },
  {
   "cell_type": "markdown",
   "id": "9401fd6d-65fe-40e0-ae8b-fa076877f30f",
   "metadata": {},
   "source": [
    "\n",
    "As you can see, \n",
    "\n",
    "&nbsp;&nbsp;&nbsp;&nbsp;&nbsp;&nbsp;&nbsp;&nbsp;<span style=\"font-size: 0.7rem; color: black;\">■</span>&nbsp;&nbsp;&nbsp;**Abstract Class** &nbsp;(&nbsp;<code style=\"color: red; background-color: #e8daef;\">Vehicle</code>&nbsp;)&nbsp;&nbsp;: &nbsp;&nbsp;The class &nbsp;<code style=\"background-color: #e8daef; color: red;\">Vehicle</code>&nbsp; inherits from &nbsp;<code style=\"color: red; background-color: yellow;\">ABC</code> , making it an <span style=\"color: red;\">abstract class</span>. <br>\n",
    "&nbsp;&nbsp;&nbsp;&nbsp;&nbsp;&nbsp;&nbsp;&nbsp;&nbsp;&nbsp;&nbsp;&nbsp;&nbsp;&nbsp;&nbsp;&nbsp;&nbsp;&nbsp;&nbsp;&nbsp;&nbsp;&nbsp;&nbsp;&nbsp;&nbsp;&nbsp;&nbsp;&nbsp;&nbsp;&nbsp;&nbsp;&nbsp;&nbsp;&nbsp;&nbsp;&nbsp;&nbsp;&nbsp;&nbsp;&nbsp;&nbsp;&nbsp;&nbsp;&nbsp;&nbsp;&nbsp;&nbsp;&nbsp;&nbsp;&nbsp;&nbsp;&nbsp;&nbsp;&nbsp;&nbsp;&nbsp;&nbsp;&nbsp;&nbsp;&nbsp;&nbsp;&nbsp;&nbsp;&nbsp;&nbsp;&nbsp;&nbsp;It has two <span style=\"color: blue;\">abstract methods</span> ( <code style=\"color: blue; background-color: #e8daef;\">start_engine( )</code> and <code style=\"color: blue; background-color: #e8daef;\">stop_engine( )</code> ) that must be implemented in any subclass.\n",
    "\n",
    "&nbsp;&nbsp;&nbsp;&nbsp;&nbsp;&nbsp;&nbsp;&nbsp;<span style=\"font-size: 0.7rem; color: black;\">■</span>&nbsp;&nbsp;&nbsp;**Concrete Classes** &nbsp;(&nbsp;<code style=\"background-color: #e8daef;\">Car</code> &nbsp;and&nbsp; <code style=\"background-color: #e8daef;\">Bicycle</code>&nbsp;)&nbsp;&nbsp;:  &nbsp;&nbsp;The &nbsp;<code style=\"background-color: #e8daef;\">Car</code>&nbsp; and &nbsp;<code style=\"background-color: #e8daef;\">Bicycle</code>&nbsp; classes are concrete classes **derived** from the &nbsp;<code style=\"background-color: #e8daef; color: red;\">Vehicle</code>&nbsp; <span style=\"color: red;\">abstract class</span>. <br>\n",
    "&nbsp;&nbsp;&nbsp;&nbsp;&nbsp;&nbsp;&nbsp;&nbsp;&nbsp;&nbsp;&nbsp;&nbsp;&nbsp;&nbsp;&nbsp;&nbsp;&nbsp;&nbsp;&nbsp;&nbsp;&nbsp;&nbsp;&nbsp;&nbsp;&nbsp;&nbsp;&nbsp;&nbsp;&nbsp;&nbsp;&nbsp;&nbsp;&nbsp;&nbsp;&nbsp;&nbsp;&nbsp;&nbsp;&nbsp;&nbsp;&nbsp;&nbsp;&nbsp;&nbsp;&nbsp;&nbsp;&nbsp;&nbsp;&nbsp;&nbsp;&nbsp;&nbsp;&nbsp;&nbsp;&nbsp;&nbsp;&nbsp;&nbsp;&nbsp;&nbsp;&nbsp;&nbsp;&nbsp;&nbsp;&nbsp;&nbsp;&nbsp;&nbsp;&nbsp;&nbsp;&nbsp;&nbsp;&nbsp;&nbsp;&nbsp;&nbsp;&nbsp;&nbsp;&nbsp;&nbsp;&nbsp;&nbsp;&nbsp;&nbsp;&nbsp;&nbsp;&nbsp;&nbsp;&nbsp;&nbsp;These classes provide <u>specific implementations</u> for the <span style=\"color: blue;\">abstract methods</span>.\n",
    "\n",
    "<br>\n",
    "\n",
    "<span style=\"color: #a245ff; font-size: 1rem;\"><u>Key Characteristics of Abstract Classes</u></span>\n",
    "\n",
    "&nbsp;&nbsp;&nbsp;&nbsp;&nbsp;&nbsp;&nbsp;&nbsp;&nbsp;<span style=\"color: #a245ff;\"><strong>1</strong>. &nbsp;**Cannot be Instantiated**</span> &nbsp;&nbsp;➜&nbsp;&nbsp; <span style=\"color: #a245ff;\">Abstract classes cannot be instantiated directly. &nbsp;If you try to do so, you'll get a <span style=\"color: red;\">TypeError</span>.</span>\n"
   ]
  },
  {
   "cell_type": "code",
   "execution_count": 28,
   "id": "85b9d8c3-878f-4635-9ffe-6322682bf9f6",
   "metadata": {},
   "outputs": [
    {
     "ename": "TypeError",
     "evalue": "Can't instantiate abstract class Vehicle with abstract methods start_engine, stop_engine",
     "output_type": "error",
     "traceback": [
      "\u001b[1;31m---------------------------------------------------------------------------\u001b[0m",
      "\u001b[1;31mTypeError\u001b[0m                                 Traceback (most recent call last)",
      "Cell \u001b[1;32mIn[28], line 1\u001b[0m\n\u001b[1;32m----> 1\u001b[0m vehicle \u001b[38;5;241m=\u001b[39m \u001b[43mVehicle\u001b[49m\u001b[43m(\u001b[49m\u001b[43m)\u001b[49m               \u001b[38;5;66;03m# you can't create an instance of an ABSTRACT CLASS\u001b[39;00m\n",
      "\u001b[1;31mTypeError\u001b[0m: Can't instantiate abstract class Vehicle with abstract methods start_engine, stop_engine"
     ]
    }
   ],
   "source": [
    "\n",
    "vehicle = Vehicle()               # you can't create an instance of an ABSTRACT CLASS\n"
   ]
  },
  {
   "cell_type": "markdown",
   "id": "c7d95dbc-7cf9-45b6-9c50-f11fda53df90",
   "metadata": {},
   "source": [
    "<br>"
   ]
  },
  {
   "cell_type": "markdown",
   "id": "6aac0fe3-23b3-492b-bc54-eebbe002993d",
   "metadata": {},
   "source": [
    "\n",
    "&nbsp;&nbsp;&nbsp;&nbsp;&nbsp;&nbsp;&nbsp;&nbsp;&nbsp;<span style=\"color: #a245ff;\"><strong>2.</strong> &nbsp;**Abstract Methods**</span> &nbsp;&nbsp;➜&nbsp;&nbsp; <span style=\"color: #a245ff;\">Methods marked with the &nbsp;<code style=\"background-color: yellow; color: red;\">@abstractmethod</code>&nbsp; <span style=\"color: black;\">decorator</span> <u>must be implemented in the <span style=\"color: blue;\">**subclasses**</span></u>. <br>\n",
    "&nbsp;&nbsp;&nbsp;&nbsp;&nbsp;&nbsp;&nbsp;&nbsp;&nbsp;&nbsp;&nbsp;&nbsp;&nbsp;&nbsp;&nbsp;&nbsp;&nbsp;&nbsp;&nbsp;&nbsp;&nbsp;&nbsp;&nbsp;&nbsp;&nbsp;&nbsp;&nbsp;&nbsp;&nbsp;&nbsp;&nbsp;&nbsp;&nbsp;&nbsp;&nbsp;&nbsp;&nbsp;&nbsp;&nbsp;&nbsp;&nbsp;&nbsp;&nbsp;&nbsp;&nbsp;&nbsp;&nbsp;&nbsp;&nbsp;&nbsp;&nbsp;&nbsp;&nbsp;&nbsp;These methods act as placeholders and do not have a body in the abstract class.</span>\n",
    "\n",
    "<br>\n",
    "\n",
    "&nbsp;&nbsp;&nbsp;&nbsp;&nbsp;&nbsp;&nbsp;&nbsp;&nbsp;<span style=\"color: #a245ff;\"><strong>3.</strong> &nbsp;**Optional Implementation**</span>&nbsp;&nbsp;➜&nbsp;&nbsp; <span style=\"color: #a245ff;\">Abstract classes can have methods with actual implementation. <br>\n",
    "&nbsp;&nbsp;&nbsp;&nbsp;&nbsp;&nbsp;&nbsp;&nbsp;&nbsp;&nbsp;&nbsp;&nbsp;&nbsp;&nbsp;&nbsp;&nbsp;&nbsp;&nbsp;&nbsp;&nbsp;&nbsp;&nbsp;&nbsp;&nbsp;&nbsp;&nbsp;&nbsp;&nbsp;&nbsp;&nbsp;&nbsp;&nbsp;&nbsp;&nbsp;&nbsp;&nbsp;&nbsp;&nbsp;&nbsp;&nbsp;&nbsp;&nbsp;&nbsp;&nbsp;&nbsp;&nbsp;&nbsp;&nbsp;&nbsp;&nbsp;&nbsp;&nbsp;&nbsp;&nbsp;&nbsp;&nbsp;&nbsp;&nbsp;&nbsp;&nbsp;&nbsp;&nbsp;&nbsp;&nbsp;&nbsp;&nbsp;<span style=\"color: blue;\">**Subclasses**</span> can inherit these methods <u>directly</u> or override them if needed.</span>\n",
    "\n",
    "<br>\n",
    "\n",
    "<span style=\"font-size: 1.2rem;\">⭐</span>&nbsp;&nbsp;<span style=\"color: #a245ff;\"><strong>4.</strong> &nbsp;**Partial Implementation**</span>&nbsp;&nbsp;➜&nbsp;&nbsp; <span style=\"color: #a245ff;\">If a subclass does not implement <u>all the abstract methods</u>, it too will be considered an abstract class and <u>cannot be instantiated</u>.</span>\n",
    "\n",
    "<br>\n",
    "\n",
    "<span style=\"background-color: black; color: white;\">&nbsp;EXAMPLE &nbsp;- &nbsp;1B&nbsp;</span> &nbsp;&nbsp;&nbsp;====>&nbsp;&nbsp; <span style=\"color: red;\">with **Partial Implementation**</span>\n",
    "\n",
    "Let's consider a scenario where a subclass doesn't fully implement all abstract methods from the abstract base class:"
   ]
  },
  {
   "cell_type": "code",
   "execution_count": 36,
   "id": "68272a65-02e6-430f-92d1-555aab3dc870",
   "metadata": {},
   "outputs": [],
   "source": [
    "\n",
    "from abc import ABC, abstractmethod\n",
    "\n",
    "class Vehicle(ABC):\n",
    "    \n",
    "    @abstractmethod\n",
    "    def start_engine(self):\n",
    "        pass\n",
    "\n",
    "    @abstractmethod\n",
    "    def stop_engine(self):\n",
    "        pass\n",
    "\n",
    "    def refuel(self):\n",
    "        print(\"Refueling the vehicle\")\n",
    "\n",
    "\n",
    "class ElectricVehicle(Vehicle):\n",
    "    def start_engine(self):\n",
    "        print(\"Electric engine started.\")\n"
   ]
  },
  {
   "cell_type": "markdown",
   "id": "538f8f6a-aa7f-4779-862a-ceaa3d15d748",
   "metadata": {},
   "source": [
    "\n",
    "<br>\n",
    "\n",
    "In this example, the &nbsp;<code style=\"background-color: #e8daef;\">ElectricVehicle</code>&nbsp; class only implements the &nbsp;<code style=\"color: blue; background-color: #e8daef;\">start_engine()</code>&nbsp; method but not the &nbsp;<code style=\"color: blue; background-color: #e8daef;\">stop_engine()</code>&nbsp; method, so it **cannot be instantiated**.\n"
   ]
  },
  {
   "cell_type": "code",
   "execution_count": 39,
   "id": "92331165-97e1-4482-b10f-1a7477fe61ff",
   "metadata": {},
   "outputs": [
    {
     "ename": "TypeError",
     "evalue": "Can't instantiate abstract class ElectricVehicle with abstract method stop_engine",
     "output_type": "error",
     "traceback": [
      "\u001b[1;31m---------------------------------------------------------------------------\u001b[0m",
      "\u001b[1;31mTypeError\u001b[0m                                 Traceback (most recent call last)",
      "Cell \u001b[1;32mIn[39], line 1\u001b[0m\n\u001b[1;32m----> 1\u001b[0m electric_vehicle \u001b[38;5;241m=\u001b[39m \u001b[43mElectricVehicle\u001b[49m\u001b[43m(\u001b[49m\u001b[43m)\u001b[49m \n",
      "\u001b[1;31mTypeError\u001b[0m: Can't instantiate abstract class ElectricVehicle with abstract method stop_engine"
     ]
    }
   ],
   "source": [
    "\n",
    "electric_vehicle = ElectricVehicle() \n"
   ]
  },
  {
   "cell_type": "markdown",
   "id": "3bbaef32-28e9-4005-b214-5a93ea7cd2dd",
   "metadata": {},
   "source": [
    "<br>\n",
    "\n",
    "<span style=\"color: #06fff0; font-size: 0.7rem;\">■■■■■■■■■■■■■■■■■■■■■■■■■■■■■■■■■■■■■■■■■■■■■■■■■■■■■■■■■■■■■■■■■■■■■■■■■■■■■■■■■■■■■■■■■■■■■■■■■■■■■■■■■■■■■■■</span>\n",
    "\n",
    "<br>\n",
    "\n",
    "<span style=\"background-color: black; color: white;\">&nbsp;EXAMPLE &nbsp;- &nbsp;2&nbsp;</span>\n"
   ]
  },
  {
   "cell_type": "markdown",
   "id": "facfc40b-d033-4065-af78-cb61f948a78f",
   "metadata": {},
   "source": [
    "Suppose that you need to develop a payroll program for a company.\n",
    "\n",
    "The company has two groups of employees: <strong>full-time employees</strong> and <strong>hourly employees</strong>. The full-time employees get a fixed salary while the hourly employees get paid by hourly wages for their services.\n",
    "\n",
    "The payroll program needs to print out a payroll that includes <u>employee names</u> and their <u>monthly salaries</u>.\n",
    "\n",
    "To model the payroll program in an object-oriented way, you may come up with the classes like &nbsp;&nbsp;:&nbsp;&nbsp; <code style=\"background-color: #e8daef; color: red;\">Employee</code> , &nbsp;<code style=\"background-color: #e8daef;\">FulltimeEmployee</code> ,  &nbsp;<code style=\"background-color: #e8daef;\">HourlyEmployee</code> , and  &nbsp;<code style=\"background-color: #e8daef;\">Payroll</code>\n",
    "\n",
    "To structure the program, we’ll use <span style=\"color: blue;\">**modules**</span>, where <u>each class is placed in a separate module (or file)</u>.\n"
   ]
  },
  {
   "cell_type": "code",
   "execution_count": 56,
   "id": "76763c91-3e0d-4452-be21-109add500441",
   "metadata": {},
   "outputs": [],
   "source": [
    "\n",
    "from abc import ABC, abstractmethod\n",
    "\n",
    "class Employee(ABC):\n",
    "    def __init__(self, first_name, last_name):\n",
    "        self.first_name = first_name\n",
    "        self.last_name = last_name\n",
    "\n",
    "    @property\n",
    "    def full_name(self):\n",
    "        return f\"{self.first_name} {self.last_name}\"\n",
    "\n",
    "    @abstractmethod\n",
    "    def get_salary(self):\n",
    "        pass\n"
   ]
  },
  {
   "cell_type": "markdown",
   "id": "19af489b-39d6-479f-b905-d987c4dfdcef",
   "metadata": {},
   "source": [
    "<br>"
   ]
  },
  {
   "cell_type": "code",
   "execution_count": 57,
   "id": "80684bf9-1c5a-422c-82a4-6c844f5c965c",
   "metadata": {},
   "outputs": [],
   "source": [
    "\n",
    "class FulltimeEmployee(Employee):\n",
    "    def __init__(self, first_name, last_name, salary):\n",
    "        super().__init__(first_name, last_name)\n",
    "        self.salary = salary                                     # salary of full-time employees can be initialized here since they get fixed salaries\n",
    "\n",
    "    def get_salary(self):\n",
    "        return self.salary\n"
   ]
  },
  {
   "cell_type": "markdown",
   "id": "008fc52c-46da-46f1-b7e5-491e290cec71",
   "metadata": {},
   "source": [
    "<br>"
   ]
  },
  {
   "cell_type": "code",
   "execution_count": 58,
   "id": "c91c18c0-0f8d-4211-8eda-33aeeccb4d39",
   "metadata": {},
   "outputs": [],
   "source": [
    "\n",
    "class HourlyEmployee(Employee):\n",
    "    def __init__(self, first_name, last_name, worked_hours, rate):\n",
    "        super().__init__(first_name, last_name)\n",
    "        self.worked_hours = worked_hours\n",
    "        self.rate = rate\n",
    "\n",
    "    def get_salary(self):\n",
    "        return self.worked_hours * self.rate\n"
   ]
  },
  {
   "cell_type": "markdown",
   "id": "09630e45-290d-4c09-b2d9-38afdf0a2118",
   "metadata": {},
   "source": [
    "<br>\n",
    "\n",
    "The &nbsp;<code style=\"background-color: #e8daef;\">Payroll</code>&nbsp; class will have a method that adds an employee to the employee list and print out the payroll.\n",
    "\n",
    "Since fulltime and hourly employees share the same interfaces ( &nbsp;<code style=\"background-color: #f7dc6f;\">full_time</code>&nbsp; property and &nbsp;<code style=\"background-color: #e8daef; color: blue;\">get_salary()</code>&nbsp; method ). &nbsp;Therefore, the &nbsp;<code style=\"background-color: #e8daef;\">Payroll</code>&nbsp; class doesn’t need to distinguish them.\n"
   ]
  },
  {
   "cell_type": "code",
   "execution_count": 61,
   "id": "4a37bad9-e1b4-4145-afdf-05d69ecbc7f1",
   "metadata": {},
   "outputs": [],
   "source": [
    "\n",
    "class Payroll:\n",
    "    def __init__(self):\n",
    "        self.employee_list = []\n",
    "\n",
    "    def add(self, employee):\n",
    "        self.employee_list.append(employee)\n",
    "\n",
    "    def print(self):\n",
    "        for e in self.employee_list:\n",
    "            print(f\"{e.full_name} \\t ₹ {e.get_salary()}\")\n"
   ]
  },
  {
   "cell_type": "markdown",
   "id": "8070e62d-6b22-4394-8af3-2880d6286387",
   "metadata": {},
   "source": [
    "<br>\n",
    "\n",
    "Now let's come to the main program.\n",
    "\n",
    "The following &nbsp;<code style=\"background-color: red; color: white;\">app.py</code>&nbsp; uses the &nbsp;<code style=\"background-color: #e8daef;\">FulltimeEmployee</code> , &nbsp;<code style=\"background-color: #e8daef;\">HourlyEmployee</code> , and &nbsp;<code style=\"background-color: #e8daef;\">Payroll</code> classes to print out the payroll of five employees :\n"
   ]
  },
  {
   "cell_type": "code",
   "execution_count": 62,
   "id": "bfa9ca8f-73b5-4a6d-abea-14082e7c971b",
   "metadata": {},
   "outputs": [
    {
     "name": "stdout",
     "output_type": "stream",
     "text": [
      "John Doe \t ₹ 6000\n",
      "Jane Doe \t ₹ 6500\n",
      "Jenifer Smith \t ₹ 10000\n",
      "David Wilson \t ₹ 15000\n",
      "Kevin Miller \t ₹ 15000\n"
     ]
    }
   ],
   "source": [
    "\n",
    "# from fulltimeemployee import FulltimeEmployee\n",
    "# from hourlyemployee import HourlyEmployee\n",
    "# from payroll import Payroll\n",
    "\n",
    "payroll = Payroll()\n",
    "\n",
    "payroll.add(FulltimeEmployee('John', 'Doe', 6000))\n",
    "payroll.add(FulltimeEmployee('Jane', 'Doe', 6500))\n",
    "payroll.add(HourlyEmployee('Jenifer', 'Smith', 200, 50))\n",
    "payroll.add(HourlyEmployee('David', 'Wilson', 150, 100))\n",
    "payroll.add(HourlyEmployee('Kevin', 'Miller', 100, 150))\n",
    "\n",
    "payroll.print()\n"
   ]
  },
  {
   "cell_type": "markdown",
   "id": "db92fc51-5698-425e-b876-14d858cbe134",
   "metadata": {},
   "source": [
    "<br>\n",
    "\n",
    "<strong>When &nbsp;to &nbsp;use &nbsp;abstract &nbsp;classes :</strong>\n",
    "\n",
    "\n",
    "In practice, you use abstract classes <span style=\"color: blue;\">to share the code among several closely related classes</span>. &nbsp;In the payroll program, all subclasses of the &nbsp;<code style=\"background-color: #e8daef; color: red;\">Employee</code>&nbsp; class share the same &nbsp;<code style=\"background-color: #f7dc6f;\">full_time</code>&nbsp; property.\n"
   ]
  },
  {
   "cell_type": "markdown",
   "id": "293871aa-0286-4baf-be67-08279153ea4e",
   "metadata": {},
   "source": [
    "<br>\n",
    "\n",
    "<span style=\"color: #06fff0; font-size: 0.7rem;\">■■■■■■■■■■■■■■■■■■■■■■■■■■■■■■■■■■■■■■■■■■■■■■■■■■■■■■■■■■■■■■■■■■■■■■■■■■■■■■■■■■■■■■■■■■■■■■■■■■■■■■■■■■■■■■■</span>\n",
    "\n",
    "<br>\n",
    "\n",
    "Summary :\n",
    "\n",
    "<div style=\"background-color: #fff3e1; padding-top: 15px; padding-bottom: 4px;\">\n",
    "\n",
    "&nbsp;&nbsp;&nbsp;&nbsp;<span style=\"font-size: 0.7rem; color: red;\">■</span>&nbsp;&nbsp;&nbsp;Abstract classes are classes that you <strong>cannot</strong> create instances from. <br>\n",
    "\n",
    "&nbsp;&nbsp;&nbsp;&nbsp;<span style=\"font-size: 0.7rem; color: red;\">■</span>&nbsp;&nbsp;&nbsp;Use &nbsp;<code style=\"color: red; background-color: #ffea1d;\">abc</code>&nbsp; module to define abstract classes.\n",
    "\n",
    "</div>\n"
   ]
  },
  {
   "cell_type": "markdown",
   "id": "8284acc5-5bb8-4d14-b75a-bcb922241ad7",
   "metadata": {},
   "source": [
    "<br>\n",
    "\n",
    "<span style=\"color: #DCBD10; font-size: 1.2rem;\">▬▬▬▬▬▬▬▬▬▬▬▬▬▬▬▬▬▬▬▬▬▬▬▬▬▬▬▬▬▬▬▬▬▬▬▬▬▬▬▬▬▬▬▬▬▬▬▬▬▬▬▬▬▬▬▬</span>"
   ]
  },
  {
   "cell_type": "code",
   "execution_count": null,
   "id": "4e391ec2-57a6-4b67-8c48-3c92be1fc21a",
   "metadata": {},
   "outputs": [],
   "source": []
  },
  {
   "cell_type": "code",
   "execution_count": null,
   "id": "dc5ea54a-310c-4112-bb67-f5cbdc07f069",
   "metadata": {},
   "outputs": [],
   "source": []
  }
 ],
 "metadata": {
  "kernelspec": {
   "display_name": "Python 3 (ipykernel)",
   "language": "python",
   "name": "python3"
  },
  "language_info": {
   "codemirror_mode": {
    "name": "ipython",
    "version": 3
   },
   "file_extension": ".py",
   "mimetype": "text/x-python",
   "name": "python",
   "nbconvert_exporter": "python",
   "pygments_lexer": "ipython3",
   "version": "3.11.3"
  }
 },
 "nbformat": 4,
 "nbformat_minor": 5
}
