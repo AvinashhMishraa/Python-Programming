{
 "cells": [
  {
   "cell_type": "markdown",
   "id": "ad2f82e1-91e6-41da-8737-8bc15f63120d",
   "metadata": {},
   "source": [
    "<br>\n",
    "\n",
    "# <span style=\"color: black\"><strong>Single &nbsp;Inheritance</strong></span>"
   ]
  },
  {
   "cell_type": "markdown",
   "id": "3744ef38-c990-4115-bb42-977133f8e10c",
   "metadata": {},
   "source": [
    "\n",
    "### <span style=\"color: blue; font-size: 1rem;\"><strong>Single &nbsp;Inheritance</strong></span>"
   ]
  },
  {
   "cell_type": "markdown",
   "id": "d0ea5d2e-89ae-42ff-abc4-eb21bd169ed7",
   "metadata": {},
   "source": [
    "\n",
    "<div style=\"background-color: #ffe6ce; padding-top: 5px; padding-bottom: 10px; padding-left: 10px; padding-right: 10px;\"> <br>\n",
    "\n",
    "When &nbsp;one &nbsp;class &nbsp;( &nbsp;<code style=\"background-color: #b3fff9;\">child</code> &nbsp;/ &nbsp;<code style=\"background-color: #b3fff9;\">derived</code> &nbsp;/ &nbsp;<code style=\"background-color: #b3fff9;\">sub</code> &nbsp;) &nbsp;<strong>derives &nbsp;the &nbsp;properties &nbsp;& &nbsp;methods</strong> &nbsp;of &nbsp;another &nbsp;class &nbsp;( &nbsp;<code style=\"background-color: #b3fff9;\">parent</code> &nbsp;/ &nbsp;<code style=\"background-color: #b3fff9;\">base</code> &nbsp;/ &nbsp;<code style=\"background-color: #b3fff9;\">super</code> &nbsp;), &nbsp;we &nbsp;say &nbsp;it &nbsp;<span style=\"color: red;\"><strong>inheritance</strong></span> <br><br>\n",
    "\n",
    "<pre style=\"margin-left: 40px;\">\n",
    "    \n",
    "    <span style=\"color: green\">class</span> <span style=\"color: blue;\">Car</span>:\n",
    "        ...\n",
    "\n",
    "    <span style=\"color: green\">class</span> <span style=\"color: blue;\">ToyotaCar(<span style=\"color: red;\">Car</span>)</span>:\n",
    "        ...\n",
    "\n",
    "</pre>\n",
    "\n",
    "<br>\n",
    "\n",
    "<strong><span style=\"color: red;\">Inheritance</span></strong> &nbsp;allows &nbsp;a &nbsp;class &nbsp;to &nbsp;<u>**reuse** &nbsp;the &nbsp;logic &nbsp;of &nbsp;an &nbsp;existing &nbsp;class</u>.\n",
    "    \n",
    "</div>\n",
    "\n",
    "<br>\n",
    "\n"
   ]
  },
  {
   "cell_type": "code",
   "execution_count": 1,
   "id": "f39b99d1-0a47-4eaf-b5c6-41e8034c438d",
   "metadata": {},
   "outputs": [
    {
     "name": "stdout",
     "output_type": "stream",
     "text": [
      "fortuner\n",
      "['black', 'white', 'red']\n",
      "car started..\n",
      "car stopped.\n"
     ]
    }
   ],
   "source": [
    "\n",
    "# PARENT\n",
    "class Car:\n",
    "    color = [\"black\", \"white\", \"red\"]\n",
    "\n",
    "    @staticmethod\n",
    "    def start():\n",
    "        print(\"car started..\")\n",
    "\n",
    "    @ staticmethod\n",
    "    def stop():\n",
    "        print(\"car stopped.\")\n",
    "\n",
    "##################################################################################################################################################\n",
    "\n",
    "# CHILD\n",
    "class ToyotaCar(Car):                        # The  \"ToyotaCar\"  class  inherits  all  the  properties  and  methods  from  the  Car  class\n",
    "    def __init__(self, name):\n",
    "        self.name = name\n",
    "\n",
    "##################################################################################################################################################\n",
    "\n",
    "toyotacar1 = ToyotaCar(\"fortuner\")\n",
    "toyotacar2 = ToyotaCar(\"prius\")\n",
    "\n",
    "print(toyotacar1.name)                       #  personal    attribute      =====>     Output:   fortuner\n",
    "print(toyotacar1.color)                      #  inherited   attribute      =====>     Output:   attribute\n",
    "toyotacar1.start()                           #  inherited   method         =====>     Output:   car started..\n",
    "toyotacar1.stop()                            #  inherited   method         =====>     Output:   car stopped.\n"
   ]
  },
  {
   "cell_type": "markdown",
   "id": "76d380a7-5e6b-4440-a582-9f69662273a3",
   "metadata": {},
   "source": [
    "<br>\n",
    "\n",
    "The &nbsp;above &nbsp;example &nbsp;is &nbsp;of &nbsp;type &nbsp;<strong><u>Single &nbsp;inheritance</u></strong>\n",
    "\n",
    "<div style=\"margin-left: 320px;\">\n",
    "\n",
    "![](../../media/Shraddha_Kapra_oops_9.PNG)\n",
    "\n",
    "</div>\n",
    "\n",
    "<span style=\"color: red;\">================================================================================================================</span>\n",
    "\n",
    "<br>\n",
    "\n",
    "<font size=\"+1\">⭐</font>&nbsp;&nbsp;&nbsp;<code style=\"font-size: 1rem; background-color: #77f5ff;\">type()</code> &nbsp;&nbsp;&nbsp;vs&nbsp;&nbsp;&nbsp; <code style=\"font-size: 1rem; background-color: #77f5ff;\">isintance()</code>\n",
    "&nbsp;&nbsp;&nbsp;vs&nbsp;&nbsp;&nbsp; <code style=\"font-size: 1rem; background-color: #77f5ff;\">issubclass()</code>\n",
    "\n",
    "<br>\n"
   ]
  },
  {
   "cell_type": "code",
   "execution_count": null,
   "id": "9f9d332e-8f8d-48f5-8f29-fc2f1806f81f",
   "metadata": {},
   "outputs": [],
   "source": []
  },
  {
   "cell_type": "code",
   "execution_count": null,
   "id": "13f3fe6f-f077-4ede-94a1-872a39dbac3a",
   "metadata": {},
   "outputs": [],
   "source": []
  },
  {
   "cell_type": "code",
   "execution_count": null,
   "id": "3096ddb6-993b-4f67-811b-4d4212329adb",
   "metadata": {},
   "outputs": [],
   "source": []
  },
  {
   "cell_type": "code",
   "execution_count": null,
   "id": "82449952-2096-40ad-8469-399b134b68be",
   "metadata": {},
   "outputs": [],
   "source": []
  },
  {
   "cell_type": "code",
   "execution_count": null,
   "id": "0e65ff0a-0379-4871-90df-81348cd3690a",
   "metadata": {},
   "outputs": [],
   "source": []
  },
  {
   "cell_type": "code",
   "execution_count": null,
   "id": "811dd1a7-a5c4-4429-a800-03348f1a6751",
   "metadata": {},
   "outputs": [],
   "source": []
  },
  {
   "cell_type": "code",
   "execution_count": null,
   "id": "bb115a20-e2ec-40b5-98ca-f9e1c125c777",
   "metadata": {},
   "outputs": [],
   "source": []
  },
  {
   "cell_type": "code",
   "execution_count": null,
   "id": "d70852e6-09b4-4768-8c7b-c5772643477d",
   "metadata": {},
   "outputs": [],
   "source": []
  }
 ],
 "metadata": {
  "kernelspec": {
   "display_name": "Python 3 (ipykernel)",
   "language": "python",
   "name": "python3"
  },
  "language_info": {
   "codemirror_mode": {
    "name": "ipython",
    "version": 3
   },
   "file_extension": ".py",
   "mimetype": "text/x-python",
   "name": "python",
   "nbconvert_exporter": "python",
   "pygments_lexer": "ipython3",
   "version": "3.11.3"
  }
 },
 "nbformat": 4,
 "nbformat_minor": 5
}
